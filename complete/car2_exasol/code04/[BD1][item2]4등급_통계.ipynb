{
 "cells": [
  {
   "cell_type": "markdown",
   "metadata": {},
   "source": [
    "# Library\n"
   ]
  },
  {
   "cell_type": "code",
   "execution_count": 1,
   "metadata": {
    "tags": []
   },
   "outputs": [],
   "source": [
    "import pandas as pd\n",
    "import numpy as np\n",
    "import os\n",
    "from tqdm import tqdm\n",
    "from datetime import datetime\n",
    "import pyexasol"
   ]
  },
  {
   "cell_type": "code",
   "execution_count": 2,
   "metadata": {
    "tags": []
   },
   "outputs": [],
   "source": [
    "# 소수점 옵션\n",
    "pd.options.display.float_format = '{:.2f}'.format\n",
    "# pd.reset_option('display.float_format')"
   ]
  },
  {
   "cell_type": "markdown",
   "metadata": {},
   "source": [
    "# Folder"
   ]
  },
  {
   "cell_type": "code",
   "execution_count": 3,
   "metadata": {},
   "outputs": [],
   "source": [
    "df1_fold = 'D:/data/complete/big2/BD1/df'"
   ]
  },
  {
   "cell_type": "markdown",
   "metadata": {},
   "source": [
    "# Server"
   ]
  },
  {
   "cell_type": "code",
   "execution_count": 4,
   "metadata": {
    "tags": []
   },
   "outputs": [],
   "source": [
    "# # insider db\n",
    "# wd = pyexasol.connect(dsn='172.29.135.35/F99FAB2444F86051A9A467F6313FAAB48AF7C4760663430958E3B89A9DC53361:8563', user='sys', password='exasol', compression=True, schema='VSYSD')\n",
    "# we = pyexasol.connect(dsn='172.29.135.35/F99FAB2444F86051A9A467F6313FAAB48AF7C4760663430958E3B89A9DC53361:8563', user='sys', password='exasol', compression=True, schema='VSYSE')"
   ]
  },
  {
   "cell_type": "code",
   "execution_count": 5,
   "metadata": {},
   "outputs": [],
   "source": [
    "# exasol db\n",
    "ws = pyexasol.connect(dsn='dev.openankus.org:8563', user='sys', password='djslzja', compression=True, schema='VSYS')\n",
    "wd = pyexasol.connect(dsn='dev.openankus.org:8563', user='sys', password='djslzja', compression=True, schema='VSYSD')\n",
    "we = pyexasol.connect(dsn='dev.openankus.org:8563', user='sys', password='djslzja', compression=True, schema='VSYSE')"
   ]
  },
  {
   "cell_type": "markdown",
   "metadata": {},
   "source": [
    "# Load"
   ]
  },
  {
   "cell_type": "markdown",
   "metadata": {},
   "source": [
    "## 등록정보(STD_CEG_CAR_MIG) 4등급만"
   ]
  },
  {
   "cell_type": "code",
   "execution_count": 6,
   "metadata": {},
   "outputs": [],
   "source": [
    "# exasol db\n",
    "# 14.2s\n",
    "car = wd.export_to_pandas(\"SELECT VHRNO, VIN, BSPL_STDG_CD, EXHST_GAS_GRD_CD, EXHST_GAS_CERT_NO, VHCL_ERSR_YN, MANP_MNG_NO, YRIDNW, VHCTY_CD, PURPS_CD2, FRST_REG_YMD, VHCL_FBCTN_YMD, VHCL_MNG_NO FROM STD_CEG_CAR_MIG WHERE EXHST_GAS_GRD_CD = 'A0504' OR EXHST_GAS_GRD_CD = 'A05T4';\")"
   ]
  },
  {
   "cell_type": "code",
   "execution_count": 7,
   "metadata": {},
   "outputs": [],
   "source": [
    "car_ch_col = {\n",
    "    'VHRNO':'자동차등록번호', \n",
    "    'VIN':'차대번호', \n",
    "    'BSPL_STDG_CD':'법정동코드', \n",
    "    'EXHST_GAS_GRD_CD':'배출가스등급', \n",
    "    'EXHST_GAS_CERT_NO':'배출가스인증번호',\n",
    "    'VHCL_ERSR_YN':'차량말소YN',\n",
    "    'MANP_MNG_NO':'제원관리번호', \n",
    "    'YRIDNW':'차량연식', \n",
    "    'VHCTY_CD':'차종', \n",
    "    'PURPS_CD2':'용도', \n",
    "    'FRST_REG_YMD':'최초등록일자',\n",
    "    'VHCL_FBCTN_YMD':'제작일자',\n",
    "    'VHCL_MNG_NO':'차량관리번호', \n",
    "}"
   ]
  },
  {
   "cell_type": "code",
   "execution_count": 8,
   "metadata": {},
   "outputs": [],
   "source": [
    "carr = car.rename(columns=car_ch_col)"
   ]
  },
  {
   "cell_type": "code",
   "execution_count": 9,
   "metadata": {},
   "outputs": [
    {
     "data": {
      "text/plain": [
       "Index(['자동차등록번호', '차대번호', '법정동코드', '배출가스등급', '배출가스인증번호', '차량말소YN', '제원관리번호',\n",
       "       '차량연식', '차종', '용도', '최초등록일자', '제작일자', '차량관리번호'],\n",
       "      dtype='object')"
      ]
     },
     "execution_count": 9,
     "metadata": {},
     "output_type": "execute_result"
    }
   ],
   "source": [
    "carr.columns"
   ]
  },
  {
   "cell_type": "markdown",
   "metadata": {},
   "source": [
    "## 제원정보(STD_CEG_CAR_SRC_MIG)"
   ]
  },
  {
   "cell_type": "code",
   "execution_count": 10,
   "metadata": {},
   "outputs": [],
   "source": [
    "# 3.8s\n",
    "src = wd.export_to_pandas(\"SELECT MANP_MNG_NO, FUEL_CD, VHCTY_TY_CD2, MNFCTR_NM, VHCNM, VHCL_FRM, EGIN_TY FROM STD_CEG_CAR_SRC_MIG;\")"
   ]
  },
  {
   "cell_type": "code",
   "execution_count": 11,
   "metadata": {},
   "outputs": [],
   "source": [
    "src_ch_col = {\n",
    "    'MANP_MNG_NO':'제원관리번호', \n",
    "    'FUEL_CD':'연료',\n",
    "    'VHCTY_TY_CD2':'차종유형', \n",
    "    'MNFCTR_NM':'제작사명', \n",
    "    'VHCNM':'차명', \n",
    "    'VHCL_FRM':'자동차형식', \n",
    "    'EGIN_TY':'엔진형식', \n",
    "}"
   ]
  },
  {
   "cell_type": "code",
   "execution_count": 12,
   "metadata": {},
   "outputs": [
    {
     "data": {
      "text/plain": [
       "Index(['제원관리번호', '연료', '차종유형', '제작사명', '차명', '자동차형식', '엔진형식'], dtype='object')"
      ]
     },
     "execution_count": 12,
     "metadata": {},
     "output_type": "execute_result"
    }
   ],
   "source": [
    "srcr = src.rename(columns=src_ch_col)\n",
    "srcr.columns"
   ]
  },
  {
   "cell_type": "markdown",
   "metadata": {},
   "source": [
    "## 저감장치 부착이력(STD_DLM_TB_ERP_ATT_HIS)"
   ]
  },
  {
   "cell_type": "code",
   "execution_count": 13,
   "metadata": {},
   "outputs": [
    {
     "name": "stdout",
     "output_type": "stream",
     "text": [
      "<class 'pandas.core.frame.DataFrame'>\n",
      "RangeIndex: 1015941 entries, 0 to 1015940\n",
      "Data columns (total 3 columns):\n",
      " #   Column         Non-Null Count    Dtype \n",
      "---  ------         --------------    ----- \n",
      " 0   VIN            1015941 non-null  object\n",
      " 1   RDCDVC_SE_CD   1015941 non-null  object\n",
      " 2   RDCDVC_KND_CD  792038 non-null   object\n",
      "dtypes: object(3)\n",
      "memory usage: 23.3+ MB\n"
     ]
    }
   ],
   "source": [
    "# 3.3s\n",
    "att = wd.export_to_pandas(\"SELECT VIN, RDCDVC_SE_CD, RDCDVC_KND_CD FROM STD_DLM_TB_ERP_ATT_HIS;\")\n",
    "att.info()"
   ]
  },
  {
   "cell_type": "code",
   "execution_count": 14,
   "metadata": {},
   "outputs": [],
   "source": [
    "att_ch_col = {\n",
    "    'VIN':'차대번호', \n",
    "    'RDCDVC_SE_CD':'저감장치구분', \n",
    "    'RDCDVC_KND_CD':'저감장치종류', \n",
    "}"
   ]
  },
  {
   "cell_type": "code",
   "execution_count": 15,
   "metadata": {},
   "outputs": [
    {
     "data": {
      "text/plain": [
       "Index(['차대번호', '저감장치구분', '저감장치종류'], dtype='object')"
      ]
     },
     "execution_count": 15,
     "metadata": {},
     "output_type": "execute_result"
    }
   ],
   "source": [
    "attr = att.rename(columns=att_ch_col)\n",
    "attr.columns"
   ]
  },
  {
   "cell_type": "markdown",
   "metadata": {},
   "source": [
    "## 노후차 조기폐차 관리정보(수도권)(STD_DLM_TB_ERP_EARLY_ERASE_AEA)"
   ]
  },
  {
   "cell_type": "code",
   "execution_count": 16,
   "metadata": {},
   "outputs": [
    {
     "name": "stdout",
     "output_type": "stream",
     "text": [
      "<class 'pandas.core.frame.DataFrame'>\n",
      "RangeIndex: 811412 entries, 0 to 811411\n",
      "Data columns (total 4 columns):\n",
      " #   Column               Non-Null Count   Dtype  \n",
      "---  ------               --------------   -----  \n",
      " 0   VIN                  811412 non-null  object \n",
      " 1   ELPDSRC_STTS_CD      811412 non-null  object \n",
      " 2   ELPDSRC_LST_APRV_YN  710812 non-null  object \n",
      " 3   ERSR_YMD             718610 non-null  float64\n",
      "dtypes: float64(1), object(3)\n",
      "memory usage: 24.8+ MB\n"
     ]
    }
   ],
   "source": [
    "# 2.4s\n",
    "aea = wd.export_to_pandas(\"SELECT VIN, ELPDSRC_STTS_CD, ELPDSRC_LST_APRV_YN, ERSR_YMD FROM STD_DLM_TB_ERP_EARLY_ERASE_AEA;\")\n",
    "aea.info()"
   ]
  },
  {
   "cell_type": "code",
   "execution_count": 17,
   "metadata": {},
   "outputs": [
    {
     "data": {
      "text/plain": [
       "Index(['VIN', 'ELPDSRC_STTS_CD', 'ELPDSRC_LST_APRV_YN', 'ERSR_YMD'], dtype='object')"
      ]
     },
     "execution_count": 17,
     "metadata": {},
     "output_type": "execute_result"
    }
   ],
   "source": [
    "aea.columns"
   ]
  },
  {
   "cell_type": "code",
   "execution_count": 18,
   "metadata": {},
   "outputs": [],
   "source": [
    "aea_ch_col = {\n",
    "    'VIN':'차대번호', \n",
    "    'ELPDSRC_STTS_CD':'조기폐차상태코드', \n",
    "    'ELPDSRC_LST_APRV_YN':'조기폐차최종승인YN', \n",
    "    'ERSR_YMD':'말소일자', \n",
    "    'RDCDVC_EXTRNS_YN':'저감장치부착여부', \n",
    "    'STDG_CTPV_NM':'법정동시도명', \n",
    "    'LEM_KND_CD':'저공해조치종류코드', \n",
    "    'SCCAR_REG_DRVNG_DSNC':'페차등록주행거리', \n",
    "    'VHRNO':'자동차등록번호', \n",
    "    'CRTN_DT':'단속일시', # CRTN_DT -> CRDN_DT : 오타인 듯 \n",
    "    'STDG_SGG_NM':'법정동시군구명', \n",
    "    'SCRCAR_ENTRPS_NM':'폐차업체명',\n",
    "    'ELPDSRC_LAST_APRV_YMD':'조기폐차최종승인일자',  \n",
    "    'SBSIDY_TRGT_YN':'보조금대상여부', \n",
    "    'ELPDSRC_MNG_NO':'조기폐차관리번호', \n",
    "    'DCSN_SPRT_AMT':'결정지원금액', \n",
    "}"
   ]
  },
  {
   "cell_type": "code",
   "execution_count": 19,
   "metadata": {},
   "outputs": [
    {
     "data": {
      "text/plain": [
       "Index(['차대번호', '조기폐차상태코드', '조기폐차최종승인YN', '말소일자'], dtype='object')"
      ]
     },
     "execution_count": 19,
     "metadata": {},
     "output_type": "execute_result"
    }
   ],
   "source": [
    "aear = aea.rename(columns=aea_ch_col)\n",
    "aear.columns"
   ]
  },
  {
   "cell_type": "code",
   "execution_count": 20,
   "metadata": {},
   "outputs": [
    {
     "data": {
      "text/html": [
       "<div>\n",
       "<style scoped>\n",
       "    .dataframe tbody tr th:only-of-type {\n",
       "        vertical-align: middle;\n",
       "    }\n",
       "\n",
       "    .dataframe tbody tr th {\n",
       "        vertical-align: top;\n",
       "    }\n",
       "\n",
       "    .dataframe thead th {\n",
       "        text-align: right;\n",
       "    }\n",
       "</style>\n",
       "<table border=\"1\" class=\"dataframe\">\n",
       "  <thead>\n",
       "    <tr style=\"text-align: right;\">\n",
       "      <th></th>\n",
       "      <th>차대번호</th>\n",
       "      <th>조기폐차상태코드</th>\n",
       "      <th>조기폐차최종승인YN</th>\n",
       "      <th>말소일자</th>\n",
       "    </tr>\n",
       "  </thead>\n",
       "  <tbody>\n",
       "    <tr>\n",
       "      <th>0</th>\n",
       "      <td>KMZKL17BP1U441173</td>\n",
       "      <td>A32Y</td>\n",
       "      <td>Y</td>\n",
       "      <td>20130917.00</td>\n",
       "    </tr>\n",
       "    <tr>\n",
       "      <th>1</th>\n",
       "      <td>KNHUP7513WS711743</td>\n",
       "      <td>A32Y</td>\n",
       "      <td>Y</td>\n",
       "      <td>20100802.00</td>\n",
       "    </tr>\n",
       "    <tr>\n",
       "      <th>2</th>\n",
       "      <td>KPBEA3D81TP079170</td>\n",
       "      <td>A32Y</td>\n",
       "      <td>Y</td>\n",
       "      <td>20100806.00</td>\n",
       "    </tr>\n",
       "    <tr>\n",
       "      <th>3</th>\n",
       "      <td>KPBEA3D81SP063998</td>\n",
       "      <td>A32Y</td>\n",
       "      <td>Y</td>\n",
       "      <td>20100802.00</td>\n",
       "    </tr>\n",
       "    <tr>\n",
       "      <th>4</th>\n",
       "      <td>KPBEA3D81RP011984</td>\n",
       "      <td>A32Y</td>\n",
       "      <td>Y</td>\n",
       "      <td>20100802.00</td>\n",
       "    </tr>\n",
       "  </tbody>\n",
       "</table>\n",
       "</div>"
      ],
      "text/plain": [
       "                차대번호 조기폐차상태코드 조기폐차최종승인YN        말소일자\n",
       "0  KMZKL17BP1U441173     A32Y          Y 20130917.00\n",
       "1  KNHUP7513WS711743     A32Y          Y 20100802.00\n",
       "2  KPBEA3D81TP079170     A32Y          Y 20100806.00\n",
       "3  KPBEA3D81SP063998     A32Y          Y 20100802.00\n",
       "4  KPBEA3D81RP011984     A32Y          Y 20100802.00"
      ]
     },
     "execution_count": 20,
     "metadata": {},
     "output_type": "execute_result"
    }
   ],
   "source": [
    "aear.head()"
   ]
  },
  {
   "cell_type": "markdown",
   "metadata": {},
   "source": [
    "## 노후차 조기폐차 관리정보(수도권외)(STD_DLM_TB_ERP_EARLY_ERASE_LGV)"
   ]
  },
  {
   "cell_type": "code",
   "execution_count": 21,
   "metadata": {},
   "outputs": [
    {
     "name": "stdout",
     "output_type": "stream",
     "text": [
      "<class 'pandas.core.frame.DataFrame'>\n",
      "RangeIndex: 388958 entries, 0 to 388957\n",
      "Data columns (total 4 columns):\n",
      " #   Column               Non-Null Count   Dtype  \n",
      "---  ------               --------------   -----  \n",
      " 0   VIN                  388958 non-null  object \n",
      " 1   ELPDSRC_STTS_CD      388958 non-null  object \n",
      " 2   ELPDSRC_LST_APRV_YN  176711 non-null  object \n",
      " 3   ERSR_YMD             190163 non-null  float64\n",
      "dtypes: float64(1), object(3)\n",
      "memory usage: 11.9+ MB\n"
     ]
    }
   ],
   "source": [
    "# 1.8s\n",
    "lgv = wd.export_to_pandas(\"SELECT VIN, ELPDSRC_STTS_CD, ELPDSRC_LST_APRV_YN, ERSR_YMD FROM STD_DLM_TB_ERP_EARLY_ERASE_LGV;\")\n",
    "lgv.info()"
   ]
  },
  {
   "cell_type": "code",
   "execution_count": 22,
   "metadata": {},
   "outputs": [
    {
     "data": {
      "text/plain": [
       "Index(['VIN', 'ELPDSRC_STTS_CD', 'ELPDSRC_LST_APRV_YN', 'ERSR_YMD'], dtype='object')"
      ]
     },
     "execution_count": 22,
     "metadata": {},
     "output_type": "execute_result"
    }
   ],
   "source": [
    "lgv.columns"
   ]
  },
  {
   "cell_type": "code",
   "execution_count": 23,
   "metadata": {},
   "outputs": [],
   "source": [
    "lgv_ch_col = {\n",
    "    'VIN':'차대번호', \n",
    "    'ELPDSRC_STTS_CD':'조기폐차상태코드', \n",
    "    'ELPDSRC_LST_APRV_YN':'조기폐차최종승인YN', \n",
    "    'ERSR_YMD':'말소일자', \n",
    "    'RDCDVC_EXTRNS_YN':'저감장치부착여부', \n",
    "    'STDG_CTPV_NM':'법정동시도명', \n",
    "    'LEM_KND_CD':'저공해조치종류코드', \n",
    "    'SCCAR_REG_DRVNG_DSNC':'페차등록주행거리', \n",
    "    'VHRNO':'자동차등록번호', \n",
    "    'CRTN_DT':'단속일시', # CRTN_DT -> CRDN_DT : 오타인 듯 \n",
    "    'STDG_SGG_NM':'법정동시군구명', \n",
    "    'SCRCAR_ENTRPS_NM':'폐차업체명',\n",
    "    'ELPDSRC_LAST_APRV_YMD':'조기폐차최종승인일자',  \n",
    "    'SBSIDY_TRGT_YN':'보조금대상여부', \n",
    "    'ELPDSRC_MNG_NO':'조기폐차관리번호', \n",
    "    'DCSN_SPRT_AMT':'결정지원금액', \n",
    "}"
   ]
  },
  {
   "cell_type": "code",
   "execution_count": 24,
   "metadata": {},
   "outputs": [
    {
     "data": {
      "text/plain": [
       "Index(['차대번호', '조기폐차상태코드', '조기폐차최종승인YN', '말소일자'], dtype='object')"
      ]
     },
     "execution_count": 24,
     "metadata": {},
     "output_type": "execute_result"
    }
   ],
   "source": [
    "lgvr = lgv.rename(columns=lgv_ch_col)\n",
    "lgvr.columns"
   ]
  },
  {
   "cell_type": "code",
   "execution_count": 25,
   "metadata": {},
   "outputs": [
    {
     "data": {
      "text/html": [
       "<div>\n",
       "<style scoped>\n",
       "    .dataframe tbody tr th:only-of-type {\n",
       "        vertical-align: middle;\n",
       "    }\n",
       "\n",
       "    .dataframe tbody tr th {\n",
       "        vertical-align: top;\n",
       "    }\n",
       "\n",
       "    .dataframe thead th {\n",
       "        text-align: right;\n",
       "    }\n",
       "</style>\n",
       "<table border=\"1\" class=\"dataframe\">\n",
       "  <thead>\n",
       "    <tr style=\"text-align: right;\">\n",
       "      <th></th>\n",
       "      <th>차대번호</th>\n",
       "      <th>조기폐차상태코드</th>\n",
       "      <th>조기폐차최종승인YN</th>\n",
       "      <th>말소일자</th>\n",
       "    </tr>\n",
       "  </thead>\n",
       "  <tbody>\n",
       "    <tr>\n",
       "      <th>0</th>\n",
       "      <td>KMHSD81VP4U668720</td>\n",
       "      <td>A32M</td>\n",
       "      <td>NaN</td>\n",
       "      <td>NaN</td>\n",
       "    </tr>\n",
       "    <tr>\n",
       "      <th>1</th>\n",
       "      <td>KPBEA2MC12P281515</td>\n",
       "      <td>A32M</td>\n",
       "      <td>NaN</td>\n",
       "      <td>NaN</td>\n",
       "    </tr>\n",
       "    <tr>\n",
       "      <th>2</th>\n",
       "      <td>KMHMH81VP2U154512</td>\n",
       "      <td>A32M</td>\n",
       "      <td>NaN</td>\n",
       "      <td>NaN</td>\n",
       "    </tr>\n",
       "    <tr>\n",
       "      <th>3</th>\n",
       "      <td>KMFWVH7HP6U722855</td>\n",
       "      <td>A32M</td>\n",
       "      <td>NaN</td>\n",
       "      <td>NaN</td>\n",
       "    </tr>\n",
       "    <tr>\n",
       "      <th>4</th>\n",
       "      <td>KN90J4MDD2GZ00019</td>\n",
       "      <td>A32C</td>\n",
       "      <td>NaN</td>\n",
       "      <td>NaN</td>\n",
       "    </tr>\n",
       "  </tbody>\n",
       "</table>\n",
       "</div>"
      ],
      "text/plain": [
       "                차대번호 조기폐차상태코드 조기폐차최종승인YN  말소일자\n",
       "0  KMHSD81VP4U668720     A32M        NaN   NaN\n",
       "1  KPBEA2MC12P281515     A32M        NaN   NaN\n",
       "2  KMHMH81VP2U154512     A32M        NaN   NaN\n",
       "3  KMFWVH7HP6U722855     A32M        NaN   NaN\n",
       "4  KN90J4MDD2GZ00019     A32C        NaN   NaN"
      ]
     },
     "execution_count": 25,
     "metadata": {},
     "output_type": "execute_result"
    }
   ],
   "source": [
    "lgvr.head()"
   ]
  },
  {
   "cell_type": "markdown",
   "metadata": {},
   "source": [
    "## 법정동코드(STD_BJCD_INFO)"
   ]
  },
  {
   "cell_type": "code",
   "execution_count": 26,
   "metadata": {},
   "outputs": [
    {
     "name": "stdout",
     "output_type": "stream",
     "text": [
      "<class 'pandas.core.frame.DataFrame'>\n",
      "RangeIndex: 47916 entries, 0 to 47915\n",
      "Data columns (total 3 columns):\n",
      " #   Column        Non-Null Count  Dtype \n",
      "---  ------        --------------  ----- \n",
      " 0   STDG_CD       47916 non-null  int64 \n",
      " 1   STDG_CTPV_NM  47916 non-null  object\n",
      " 2   STDG_SGG_NM   47892 non-null  object\n",
      "dtypes: int64(1), object(2)\n",
      "memory usage: 1.1+ MB\n"
     ]
    }
   ],
   "source": [
    "# 1.3s\n",
    "code = wd.export_to_pandas(\"SELECT STDG_CD, STDG_CTPV_NM, STDG_SGG_NM FROM STD_BJCD_INFO;\")\n",
    "code.info()"
   ]
  },
  {
   "cell_type": "code",
   "execution_count": 27,
   "metadata": {},
   "outputs": [
    {
     "data": {
      "text/plain": [
       "Index(['STDG_CD', 'STDG_CTPV_NM', 'STDG_SGG_NM'], dtype='object')"
      ]
     },
     "execution_count": 27,
     "metadata": {},
     "output_type": "execute_result"
    }
   ],
   "source": [
    "code.columns"
   ]
  },
  {
   "cell_type": "code",
   "execution_count": 28,
   "metadata": {},
   "outputs": [],
   "source": [
    "code_ch_col = {\n",
    "    'STDG_CD':'법정동코드', \n",
    "    'STDG_CTPV_NM':'시도', \n",
    "    'STDG_SGG_NM':'시군구',  \n",
    "}"
   ]
  },
  {
   "cell_type": "code",
   "execution_count": 29,
   "metadata": {},
   "outputs": [
    {
     "data": {
      "text/plain": [
       "Index(['법정동코드', '시도', '시군구'], dtype='object')"
      ]
     },
     "execution_count": 29,
     "metadata": {},
     "output_type": "execute_result"
    }
   ],
   "source": [
    "coder = code.rename(columns=code_ch_col)\n",
    "coder.columns"
   ]
  },
  {
   "cell_type": "code",
   "execution_count": 30,
   "metadata": {},
   "outputs": [
    {
     "data": {
      "text/html": [
       "<div>\n",
       "<style scoped>\n",
       "    .dataframe tbody tr th:only-of-type {\n",
       "        vertical-align: middle;\n",
       "    }\n",
       "\n",
       "    .dataframe tbody tr th {\n",
       "        vertical-align: top;\n",
       "    }\n",
       "\n",
       "    .dataframe thead th {\n",
       "        text-align: right;\n",
       "    }\n",
       "</style>\n",
       "<table border=\"1\" class=\"dataframe\">\n",
       "  <thead>\n",
       "    <tr style=\"text-align: right;\">\n",
       "      <th></th>\n",
       "      <th>법정동코드</th>\n",
       "      <th>시도</th>\n",
       "      <th>시군구</th>\n",
       "    </tr>\n",
       "  </thead>\n",
       "  <tbody>\n",
       "    <tr>\n",
       "      <th>0</th>\n",
       "      <td>4119011200</td>\n",
       "      <td>경기도</td>\n",
       "      <td>부천시</td>\n",
       "    </tr>\n",
       "    <tr>\n",
       "      <th>1</th>\n",
       "      <td>4119011300</td>\n",
       "      <td>경기도</td>\n",
       "      <td>부천시</td>\n",
       "    </tr>\n",
       "    <tr>\n",
       "      <th>2</th>\n",
       "      <td>4119011400</td>\n",
       "      <td>경기도</td>\n",
       "      <td>부천시</td>\n",
       "    </tr>\n",
       "    <tr>\n",
       "      <th>3</th>\n",
       "      <td>4119011500</td>\n",
       "      <td>경기도</td>\n",
       "      <td>부천시</td>\n",
       "    </tr>\n",
       "    <tr>\n",
       "      <th>4</th>\n",
       "      <td>4119011600</td>\n",
       "      <td>경기도</td>\n",
       "      <td>부천시</td>\n",
       "    </tr>\n",
       "  </tbody>\n",
       "</table>\n",
       "</div>"
      ],
      "text/plain": [
       "        법정동코드   시도  시군구\n",
       "0  4119011200  경기도  부천시\n",
       "1  4119011300  경기도  부천시\n",
       "2  4119011400  경기도  부천시\n",
       "3  4119011500  경기도  부천시\n",
       "4  4119011600  경기도  부천시"
      ]
     },
     "execution_count": 30,
     "metadata": {},
     "output_type": "execute_result"
    }
   ],
   "source": [
    "coder.head()"
   ]
  },
  {
   "cell_type": "code",
   "execution_count": 31,
   "metadata": {},
   "outputs": [
    {
     "data": {
      "text/plain": [
       "array(['경기도', '대전광역시', '울산광역시', '대구광역시', '세종특별자치시', '인천광역시', '충청북도',\n",
       "       '광주광역시', '강원도', '충청남도', '대구직할시', '부산광역시', '서울특별시', '인천직할시',\n",
       "       '광주직할시', '부산직할시', '전라북도', '전라남도', '경상북도', '대전직할시', '경상남도', '제주도',\n",
       "       '제주특별자치도', '강원특별자치도'], dtype=object)"
      ]
     },
     "execution_count": 31,
     "metadata": {},
     "output_type": "execute_result"
    }
   ],
   "source": [
    "coder['시도'].unique()"
   ]
  },
  {
   "cell_type": "markdown",
   "metadata": {},
   "source": [
    "## 등록이력(CEG_CAR_HISTORY_MIG)"
   ]
  },
  {
   "cell_type": "code",
   "execution_count": 32,
   "metadata": {},
   "outputs": [
    {
     "data": {
      "text/plain": [
       "Index(['차량말소YN', '변경일자', '차량관리번호'], dtype='object')"
      ]
     },
     "execution_count": 32,
     "metadata": {},
     "output_type": "execute_result"
    }
   ],
   "source": [
    "# 1m 13.2s\n",
    "his = ws.export_to_pandas(\"SELECT VHCL_ERSR_YN, CHNG_DE, VHMNO FROM CEG_CAR_HISTORY_MIG;\")\n",
    "his_ch_col = {\n",
    "    'VHCL_ERSR_YN':'차량말소YN', \n",
    "    'CHNG_DE':'변경일자',\n",
    "    'VHMNO':'차량관리번호'\n",
    "}\n",
    "hisr = his.rename(columns=his_ch_col)\n",
    "hisr.columns"
   ]
  },
  {
   "cell_type": "code",
   "execution_count": 33,
   "metadata": {},
   "outputs": [],
   "source": [
    "# # 1.8s\n",
    "# edb_id = 'vsysd'\n",
    "# edb_database = 'edb'\n",
    "# edb_port = 5444\n",
    "# edb_url = '172.29.135.50'\n",
    "# edb_pwd = 'vsyswynn'\n",
    "# conn = psycopg2.connect(dbname=edb_database, user=edb_id, password=edb_pwd, host=edb_url, port=edb_port)\n",
    "# cur = conn.cursor()\n",
    "# sql = 'select VHCL_ERSR_YN, CHNG_DE, VHMNO from vsysd.ceg_car_history_mig'\n",
    "# cur.execute(sql)\n",
    "# his = pd.DataFrame(cur.fetchall())\n",
    "# his.columns = [desc[0].upper() for desc in cur.description]\n",
    "# cur.close()\n",
    "# conn.close()"
   ]
  },
  {
   "cell_type": "markdown",
   "metadata": {},
   "source": [
    "## RH에서 제공한 법정동코드"
   ]
  },
  {
   "cell_type": "code",
   "execution_count": 34,
   "metadata": {},
   "outputs": [
    {
     "name": "stdout",
     "output_type": "stream",
     "text": [
      "<class 'pandas.core.frame.DataFrame'>\n",
      "RangeIndex: 3799 entries, 0 to 3798\n",
      "Data columns (total 3 columns):\n",
      " #   Column     Non-Null Count  Dtype \n",
      "---  ------     --------------  ----- \n",
      " 0   DONG_CODE  3799 non-null   int64 \n",
      " 1   CTPRVN_NM  3799 non-null   object\n",
      " 2   SIGNGU_NM  3757 non-null   object\n",
      "dtypes: int64(1), object(2)\n",
      "memory usage: 89.2+ KB\n"
     ]
    }
   ],
   "source": [
    "rh = we.export_to_pandas(\"SELECT DONG_CODE, CTPRVN_NM, SIGNGU_NM FROM STD_BD_TB_MAPDATA;\")\n",
    "rh.info()"
   ]
  },
  {
   "cell_type": "code",
   "execution_count": 35,
   "metadata": {},
   "outputs": [
    {
     "data": {
      "text/html": [
       "<div>\n",
       "<style scoped>\n",
       "    .dataframe tbody tr th:only-of-type {\n",
       "        vertical-align: middle;\n",
       "    }\n",
       "\n",
       "    .dataframe tbody tr th {\n",
       "        vertical-align: top;\n",
       "    }\n",
       "\n",
       "    .dataframe thead th {\n",
       "        text-align: right;\n",
       "    }\n",
       "</style>\n",
       "<table border=\"1\" class=\"dataframe\">\n",
       "  <thead>\n",
       "    <tr style=\"text-align: right;\">\n",
       "      <th></th>\n",
       "      <th>법정동코드_rh</th>\n",
       "      <th>시도</th>\n",
       "      <th>시군구</th>\n",
       "    </tr>\n",
       "  </thead>\n",
       "  <tbody>\n",
       "    <tr>\n",
       "      <th>0</th>\n",
       "      <td>4882000000</td>\n",
       "      <td>경상남도</td>\n",
       "      <td>고성군</td>\n",
       "    </tr>\n",
       "    <tr>\n",
       "      <th>1</th>\n",
       "      <td>4882025000</td>\n",
       "      <td>경상남도</td>\n",
       "      <td>고성군</td>\n",
       "    </tr>\n",
       "    <tr>\n",
       "      <th>2</th>\n",
       "      <td>4882031000</td>\n",
       "      <td>경상남도</td>\n",
       "      <td>고성군</td>\n",
       "    </tr>\n",
       "    <tr>\n",
       "      <th>3</th>\n",
       "      <td>4882032000</td>\n",
       "      <td>경상남도</td>\n",
       "      <td>고성군</td>\n",
       "    </tr>\n",
       "    <tr>\n",
       "      <th>4</th>\n",
       "      <td>4882033000</td>\n",
       "      <td>경상남도</td>\n",
       "      <td>고성군</td>\n",
       "    </tr>\n",
       "  </tbody>\n",
       "</table>\n",
       "</div>"
      ],
      "text/plain": [
       "     법정동코드_rh    시도  시군구\n",
       "0  4882000000  경상남도  고성군\n",
       "1  4882025000  경상남도  고성군\n",
       "2  4882031000  경상남도  고성군\n",
       "3  4882032000  경상남도  고성군\n",
       "4  4882033000  경상남도  고성군"
      ]
     },
     "execution_count": 35,
     "metadata": {},
     "output_type": "execute_result"
    }
   ],
   "source": [
    "rh = rh.rename(columns={'DONG_CODE':'법정동코드_rh', 'CTPRVN_NM':'시도', 'SIGNGU_NM':'시군구'})\n",
    "rh.head()"
   ]
  },
  {
   "cell_type": "code",
   "execution_count": 36,
   "metadata": {},
   "outputs": [
    {
     "data": {
      "text/plain": [
       "(3799, 3)"
      ]
     },
     "execution_count": 36,
     "metadata": {},
     "output_type": "execute_result"
    }
   ],
   "source": [
    "rh.shape"
   ]
  },
  {
   "cell_type": "markdown",
   "metadata": {},
   "source": [
    "## 4등급 result(for DPF유무)"
   ]
  },
  {
   "cell_type": "code",
   "execution_count": 37,
   "metadata": {},
   "outputs": [
    {
     "name": "stdout",
     "output_type": "stream",
     "text": [
      "<class 'pandas.core.frame.DataFrame'>\n",
      "RangeIndex: 1502235 entries, 0 to 1502234\n",
      "Data columns (total 2 columns):\n",
      " #   Column    Non-Null Count    Dtype \n",
      "---  ------    --------------    ----- \n",
      " 0   차대번호      1502235 non-null  object\n",
      " 1   DPF유무_수정  1153813 non-null  object\n",
      "dtypes: object(2)\n",
      "memory usage: 22.9+ MB\n"
     ]
    }
   ],
   "source": [
    "rs = we.export_to_pandas(\"SELECT 차대번호, DPF유무_수정 FROM STD_BD_GRD4_RESULT;\")\n",
    "rs.info()"
   ]
  },
  {
   "cell_type": "markdown",
   "metadata": {},
   "source": [
    "# 전처리"
   ]
  },
  {
   "cell_type": "markdown",
   "metadata": {},
   "source": [
    "## 등록정보(CEG_CAR_MIG)"
   ]
  },
  {
   "cell_type": "markdown",
   "metadata": {},
   "source": [
    "### 중복 차대번호 제거"
   ]
  },
  {
   "cell_type": "code",
   "execution_count": 38,
   "metadata": {},
   "outputs": [
    {
     "data": {
      "text/plain": [
       "((1906876, 13), 1906823)"
      ]
     },
     "execution_count": 38,
     "metadata": {},
     "output_type": "execute_result"
    }
   ],
   "source": [
    "carr.shape, len(carr['차대번호'].unique())"
   ]
  },
  {
   "cell_type": "code",
   "execution_count": 39,
   "metadata": {},
   "outputs": [
    {
     "data": {
      "text/plain": [
       "(1906823, 13)"
      ]
     },
     "execution_count": 39,
     "metadata": {},
     "output_type": "execute_result"
    }
   ],
   "source": [
    "carr['최초등록일자'] = pd.to_numeric(carr['최초등록일자'], errors='coerce')\n",
    "carr = carr.sort_values('최초등록일자', ascending=False).drop_duplicates('차대번호').reset_index(drop=True)\n",
    "carr.shape"
   ]
  },
  {
   "cell_type": "markdown",
   "metadata": {},
   "source": [
    "### 배출가스등급 코드 변환"
   ]
  },
  {
   "cell_type": "code",
   "execution_count": 40,
   "metadata": {},
   "outputs": [
    {
     "data": {
      "text/plain": [
       "array(['4'], dtype=object)"
      ]
     },
     "execution_count": 40,
     "metadata": {},
     "output_type": "execute_result"
    }
   ],
   "source": [
    "## 배출가스등급 코드 변환\n",
    "grd_dict = {\n",
    "    'A0501':'1', \n",
    "    'A0502':'2', \n",
    "    'A0503':'3', \n",
    "    'A0504':'4', \n",
    "    'A0505':'5', \n",
    "    'A05T2':'2',\n",
    "    'A05T3':'3', \n",
    "    'A05T4':'4', \n",
    "    'A05T5':'5', \n",
    "    'A05X':'X', \n",
    "}\n",
    "carr['배출가스등급'] = carr['배출가스등급'].replace(grd_dict)\n",
    "carr['배출가스등급'].unique()"
   ]
  },
  {
   "cell_type": "markdown",
   "metadata": {},
   "source": [
    "### 차종 코드 변환"
   ]
  },
  {
   "cell_type": "code",
   "execution_count": 41,
   "metadata": {},
   "outputs": [
    {
     "data": {
      "text/plain": [
       "array(['승용', '화물', '승합', '특수'], dtype=object)"
      ]
     },
     "execution_count": 41,
     "metadata": {},
     "output_type": "execute_result"
    }
   ],
   "source": [
    "cd_dict = {\n",
    "    'A31M':'이륜', \n",
    "    'A31P':'승용', \n",
    "    'A31S':'특수', \n",
    "    'A31T':'화물', \n",
    "    'A31V':'승합'\n",
    "}\n",
    "carr['차종'] = carr['차종'].replace(cd_dict)\n",
    "carr['차종'].unique()"
   ]
  },
  {
   "cell_type": "markdown",
   "metadata": {},
   "source": [
    "### 용도 코드 변환"
   ]
  },
  {
   "cell_type": "code",
   "execution_count": 42,
   "metadata": {},
   "outputs": [
    {
     "data": {
      "text/plain": [
       "array(['개인용', '영업용', '관용'], dtype=object)"
      ]
     },
     "execution_count": 42,
     "metadata": {},
     "output_type": "execute_result"
    }
   ],
   "source": [
    "purps_dict = {\n",
    "    'A08P':'개인용', \n",
    "    'A08B':'영업용', \n",
    "    'A08O':'관용',\n",
    "}\n",
    "carr['용도'] = carr['용도'].replace(purps_dict)\n",
    "carr['용도'].unique()"
   ]
  },
  {
   "cell_type": "markdown",
   "metadata": {},
   "source": [
    "### 등록정보 말소 제거"
   ]
  },
  {
   "cell_type": "code",
   "execution_count": 43,
   "metadata": {},
   "outputs": [
    {
     "data": {
      "text/plain": [
       "(1390280, 13)"
      ]
     },
     "execution_count": 43,
     "metadata": {},
     "output_type": "execute_result"
    }
   ],
   "source": [
    "carn = carr[carr['차량말소YN'] == 'N'].reset_index(drop=True)\n",
    "carn.shape"
   ]
  },
  {
   "cell_type": "markdown",
   "metadata": {},
   "source": [
    "## 제원정보(CEG_CAR_SRC_MIG)"
   ]
  },
  {
   "cell_type": "markdown",
   "metadata": {},
   "source": [
    "### 연료 코드 변환"
   ]
  },
  {
   "cell_type": "code",
   "execution_count": 44,
   "metadata": {},
   "outputs": [
    {
     "data": {
      "text/plain": [
       "array(['휘발유', '경유', '기타연료', 'LPG(액화석유가스)', nan, '휘발유 하이브리드',\n",
       "       'CNG(압축천연가스)', '알코올', '등유', '태양열', '경유 하이브리드', '전기', 'LPG 하이브리드',\n",
       "       '수소', 'LNG(액화천연가스)', 'CNG 하이브리드'], dtype=object)"
      ]
     },
     "execution_count": 44,
     "metadata": {},
     "output_type": "execute_result"
    }
   ],
   "source": [
    "fuel_dict = {\n",
    "    'A90GS':'휘발유', \n",
    "    'A91DS':'경유',\n",
    "    'A92LP':'LPG(액화석유가스)', \n",
    "    'A90GH':'휘발유 하이브리드', \n",
    "    'A93EV':'전기', \n",
    "    'A91DH':'경유 하이브리드', \n",
    "    'A92CN':'CNG(압축천연가스)', \n",
    "    'A93HD':'수소', \n",
    "    'A92LH':'LPG 하이브리드', \n",
    "    'A94OT':'기타연료', \n",
    "    'A92CH':'CNG 하이브리드',\n",
    "    'A90AC':'알코올', \n",
    "    'A93SH':'태양열', \n",
    "    'A91KS':'등유', \n",
    "    'A92LN':'LNG(액화천연가스)', \n",
    "    'A90PH':'플러그인 하이브리드', \n",
    "}\n",
    "srcr['연료'] = srcr['연료'].replace(fuel_dict)\n",
    "srcr['연료'].unique()"
   ]
  },
  {
   "cell_type": "markdown",
   "metadata": {},
   "source": [
    "### 차종유형 코드 변환"
   ]
  },
  {
   "cell_type": "code",
   "execution_count": 45,
   "metadata": {},
   "outputs": [
    {
     "data": {
      "text/plain": [
       "array(['대형', '중형', '소형', '경형', nan], dtype=object)"
      ]
     },
     "execution_count": 45,
     "metadata": {},
     "output_type": "execute_result"
    }
   ],
   "source": [
    "ty_dict = {\n",
    "    'A30C':'경형', \n",
    "    'A30L':'대형', \n",
    "    'A30M':'중형', \n",
    "    'A30S':'소형',\n",
    "}\n",
    "srcr['차종유형'] = srcr['차종유형'].replace(ty_dict)\n",
    "srcr['차종유형'].unique()"
   ]
  },
  {
   "cell_type": "markdown",
   "metadata": {},
   "source": [
    "## 등록&제원 병합"
   ]
  },
  {
   "cell_type": "code",
   "execution_count": 46,
   "metadata": {},
   "outputs": [
    {
     "data": {
      "text/plain": [
       "(1390280, 19)"
      ]
     },
     "execution_count": 46,
     "metadata": {},
     "output_type": "execute_result"
    }
   ],
   "source": [
    "# 19.4s\n",
    "cs = carn.merge(srcr, on='제원관리번호', how='left')\n",
    "cs.shape"
   ]
  },
  {
   "cell_type": "markdown",
   "metadata": {},
   "source": [
    "## 저감장치 부착이력(DLM_TB_ERP_ATT_HIS)"
   ]
  },
  {
   "cell_type": "markdown",
   "metadata": {},
   "source": [
    "### 저감장치구분 코드 변환"
   ]
  },
  {
   "cell_type": "code",
   "execution_count": 47,
   "metadata": {},
   "outputs": [
    {
     "data": {
      "text/plain": [
       "array(['A1001', 'A1003', 'A1005', 'A1002', 'A1006', 'A1007', 'A1004'],\n",
       "      dtype=object)"
      ]
     },
     "execution_count": 47,
     "metadata": {},
     "output_type": "execute_result"
    }
   ],
   "source": [
    "attr['저감장치구분'].unique()"
   ]
  },
  {
   "cell_type": "code",
   "execution_count": 48,
   "metadata": {},
   "outputs": [
    {
     "data": {
      "text/plain": [
       "array(['1종', '3종', '엔진개조', '2종', '엔진교체', '삼원촉매', '1종+SCR'], dtype=object)"
      ]
     },
     "execution_count": 48,
     "metadata": {},
     "output_type": "execute_result"
    }
   ],
   "source": [
    "# 27.5s\n",
    "rdcdvc_dict = {\n",
    "    'A1001':'1종', \n",
    "    'A1002':'2종', \n",
    "    'A1003':'3종', \n",
    "    'A1004':'1종+SCR', \n",
    "    'A1005':'엔진개조', \n",
    "    'A1006':'엔진교체',\n",
    "    'A1007':'삼원촉매',\n",
    "}\n",
    "attr['저감장치구분'] = attr['저감장치구분'].replace(rdcdvc_dict)\n",
    "attr['저감장치구분'].unique()"
   ]
  },
  {
   "cell_type": "markdown",
   "metadata": {},
   "source": [
    "### 저감장치종류 코드 변환"
   ]
  },
  {
   "cell_type": "code",
   "execution_count": 49,
   "metadata": {},
   "outputs": [
    {
     "data": {
      "text/plain": [
       "array(['A1313', 'A1311', nan, 'A1309', 'A1306', 'A1301', 'A1303', 'A1310',\n",
       "       'A1305', 'A1307', 'A1302', 'A1308', 'A1304', 'A1312'], dtype=object)"
      ]
     },
     "execution_count": 49,
     "metadata": {},
     "output_type": "execute_result"
    }
   ],
   "source": [
    "attr['저감장치종류'].unique()"
   ]
  },
  {
   "cell_type": "code",
   "execution_count": 50,
   "metadata": {},
   "outputs": [
    {
     "data": {
      "text/plain": [
       "array(['자연대형', 'DOC', nan, '자연중형', '복합중형', 'dPDF', '복합대형', '중형', '복합소형',\n",
       "       '소형', '대형', '자연대형+SCR', '복합대형+SCR', '자연소형'], dtype=object)"
      ]
     },
     "execution_count": 50,
     "metadata": {},
     "output_type": "execute_result"
    }
   ],
   "source": [
    "rdcdvc_knd_dict = {\n",
    "    'A1301':'dPDF',\n",
    "    'A1302':'대형',\n",
    "    'A1303':'복합대형',\n",
    "    'A1304':'복합대형+SCR',\n",
    "    'A1305':'복합소형',\n",
    "    'A1306':'복합중형',\n",
    "    'A1307':'소형',\n",
    "    'A1308':'자연대형+SCR',\n",
    "    'A1309':'자연중형',\n",
    "    'A1310':'중형',\n",
    "    'A1311':'DOC',\n",
    "    'A1312':'자연소형',\n",
    "    'A1313':'자연대형',\n",
    "}\n",
    "attr['저감장치종류'] = attr['저감장치종류'].replace(rdcdvc_knd_dict)\n",
    "attr['저감장치종류'].unique()"
   ]
  },
  {
   "cell_type": "markdown",
   "metadata": {},
   "source": [
    "### 저감장치 부착 유무"
   ]
  },
  {
   "cell_type": "code",
   "execution_count": 51,
   "metadata": {},
   "outputs": [],
   "source": [
    "attr.loc[(attr['저감장치구분'] == '1종') | (attr['저감장치구분'] == '1종+SCR'), 'DPF_YN'] = '유'"
   ]
  },
  {
   "cell_type": "code",
   "execution_count": 52,
   "metadata": {},
   "outputs": [
    {
     "data": {
      "text/plain": [
       "NaN    533631\n",
       "유      482310\n",
       "Name: DPF_YN, dtype: int64"
      ]
     },
     "execution_count": 52,
     "metadata": {},
     "output_type": "execute_result"
    }
   ],
   "source": [
    "attr['DPF_YN'].value_counts(dropna=False)"
   ]
  },
  {
   "cell_type": "code",
   "execution_count": 53,
   "metadata": {},
   "outputs": [
    {
     "data": {
      "text/plain": [
       "(1014369, 4)"
      ]
     },
     "execution_count": 53,
     "metadata": {},
     "output_type": "execute_result"
    }
   ],
   "source": [
    "attr = attr.sort_values('DPF_YN').drop_duplicates('차대번호').reset_index(drop=True)\n",
    "attr.shape"
   ]
  },
  {
   "cell_type": "markdown",
   "metadata": {},
   "source": [
    "## 노후차 조기폐차(STD_DLM_TB_ERP_EARLY_ERASE_AEA, LGV)"
   ]
  },
  {
   "cell_type": "markdown",
   "metadata": {},
   "source": [
    "### 조기폐차상태코드 코드 변환"
   ]
  },
  {
   "cell_type": "code",
   "execution_count": 54,
   "metadata": {},
   "outputs": [
    {
     "data": {
      "text/plain": [
       "array(['A32Y', 'A32B', 'A32D', 'A32M', 'A32C', 'A32X', 'A32A', 'A32N',\n",
       "       'A32G', 'A32P', 'A32I'], dtype=object)"
      ]
     },
     "execution_count": 54,
     "metadata": {},
     "output_type": "execute_result"
    }
   ],
   "source": [
    "aear['조기폐차상태코드'].unique()"
   ]
  },
  {
   "cell_type": "code",
   "execution_count": 55,
   "metadata": {},
   "outputs": [
    {
     "data": {
      "text/plain": [
       "array(['Y', 'B', 'D', 'M', 'C', 'X', 'A', 'N', 'G', 'P', 'I'],\n",
       "      dtype=object)"
      ]
     },
     "execution_count": 55,
     "metadata": {},
     "output_type": "execute_result"
    }
   ],
   "source": [
    "# erase_dict = {\n",
    "#     'A32E':'조기폐차상태코드(추가보조금신청대상)',\n",
    "#     'A32G':'조기폐차상태코드(보조금청구)',\n",
    "#     'A32I':'조기폐차상태코드(신청등록)',\n",
    "#     'A32K':'조기폐차상태코드(추가보조금청구승인)',\n",
    "#     'A32M':'조기폐차상태코드(보조금산정)',\n",
    "#     'A32N':'조기폐차상태코드(보조금청구반려(제외))',\n",
    "#     'A32P':'조기폐차상태코드(보조금대상)',\n",
    "#     'A32T':'조기폐차상태코드(추가보조금청구)',\n",
    "#     'A32X':'조기폐차상태코드(신청취소(제외))',\n",
    "#     'A32Y':'조기폐차상태코드(보조금청구승인)',\n",
    "#     'A32C':'조기폐차상태코드(성능확인검사등록)',\n",
    "#     'A32D':'조기폐차상태코드(기간초과)',\n",
    "#     'A32A':'조기폐차상태코드(성능확인검사신청)',\n",
    "#     'A32B':'조기폐차상태코드(보조금미대상)',\n",
    "# }\n",
    "erase_dict = {\n",
    "    'A32E':'E',\n",
    "    'A32G':'G',\n",
    "    'A32I':'I',\n",
    "    'A32K':'K',\n",
    "    'A32M':'M',\n",
    "    'A32N':'N',\n",
    "    'A32P':'P',\n",
    "    'A32T':'T',\n",
    "    'A32X':'X',\n",
    "    'A32Y':'Y',\n",
    "    'A32C':'C',\n",
    "    'A32D':'D',\n",
    "    'A32A':'A',\n",
    "    'A32B':'B',\n",
    "}\n",
    "aear['조기폐차상태코드'] = aear['조기폐차상태코드'].replace(erase_dict)\n",
    "aear['조기폐차상태코드'].unique()"
   ]
  },
  {
   "cell_type": "code",
   "execution_count": 56,
   "metadata": {},
   "outputs": [
    {
     "data": {
      "text/plain": [
       "array(['A32M', 'A32C', 'A32X', 'A32B', 'A32Y', 'A32P', 'A32G', 'A32D',\n",
       "       'A32I', 'A32N'], dtype=object)"
      ]
     },
     "execution_count": 56,
     "metadata": {},
     "output_type": "execute_result"
    }
   ],
   "source": [
    "lgvr['조기폐차상태코드'].unique()"
   ]
  },
  {
   "cell_type": "code",
   "execution_count": 57,
   "metadata": {},
   "outputs": [
    {
     "data": {
      "text/plain": [
       "array(['M', 'C', 'X', 'B', 'Y', 'P', 'G', 'D', 'I', 'N'], dtype=object)"
      ]
     },
     "execution_count": 57,
     "metadata": {},
     "output_type": "execute_result"
    }
   ],
   "source": [
    "lgvr['조기폐차상태코드'] = lgvr['조기폐차상태코드'].replace(erase_dict)\n",
    "lgvr['조기폐차상태코드'].unique()"
   ]
  },
  {
   "cell_type": "markdown",
   "metadata": {},
   "source": [
    "### 조기폐차 신청 정보 추가"
   ]
  },
  {
   "cell_type": "code",
   "execution_count": 58,
   "metadata": {},
   "outputs": [],
   "source": [
    "aear['조기폐차신청여부'] = 'Y'\n",
    "lgvr['조기폐차신청여부'] = 'Y'"
   ]
  },
  {
   "cell_type": "markdown",
   "metadata": {},
   "source": [
    "### 조기폐차 병합"
   ]
  },
  {
   "cell_type": "code",
   "execution_count": 59,
   "metadata": {},
   "outputs": [
    {
     "data": {
      "text/plain": [
       "(1200370, 5)"
      ]
     },
     "execution_count": 59,
     "metadata": {},
     "output_type": "execute_result"
    }
   ],
   "source": [
    "elp = pd.concat([aear, lgvr], ignore_index=True)\n",
    "elp.shape"
   ]
  },
  {
   "cell_type": "code",
   "execution_count": 60,
   "metadata": {},
   "outputs": [
    {
     "data": {
      "text/plain": [
       "((1200370, 5), 1125610)"
      ]
     },
     "execution_count": 60,
     "metadata": {},
     "output_type": "execute_result"
    }
   ],
   "source": [
    "elp.shape, len(elp['차대번호'].unique())"
   ]
  },
  {
   "cell_type": "code",
   "execution_count": 61,
   "metadata": {},
   "outputs": [
    {
     "data": {
      "text/plain": [
       "(1125610, 5)"
      ]
     },
     "execution_count": 61,
     "metadata": {},
     "output_type": "execute_result"
    }
   ],
   "source": [
    "elpm = elp.sort_values('조기폐차최종승인YN', ascending=False).drop_duplicates('차대번호').reset_index(drop=True)\n",
    "elpm.shape"
   ]
  },
  {
   "cell_type": "code",
   "execution_count": 62,
   "metadata": {},
   "outputs": [
    {
     "data": {
      "text/plain": [
       "(887431, 5)"
      ]
     },
     "execution_count": 62,
     "metadata": {},
     "output_type": "execute_result"
    }
   ],
   "source": [
    "elpm = elpm[elpm['조기폐차최종승인YN'] == 'Y'].reset_index(drop=True)\n",
    "elpm.shape"
   ]
  },
  {
   "cell_type": "markdown",
   "metadata": {},
   "source": [
    "### !!! 수정 시작(2023.10.26)"
   ]
  },
  {
   "cell_type": "markdown",
   "metadata": {},
   "source": [
    "### 조기폐차 최신 현황"
   ]
  },
  {
   "cell_type": "code",
   "execution_count": 63,
   "metadata": {},
   "outputs": [
    {
     "data": {
      "text/plain": [
       "'20231026'"
      ]
     },
     "execution_count": 63,
     "metadata": {},
     "output_type": "execute_result"
    }
   ],
   "source": [
    "today_date = datetime.today().strftime('%Y%m%d')\n",
    "today_date"
   ]
  },
  {
   "cell_type": "code",
   "execution_count": 64,
   "metadata": {},
   "outputs": [
    {
     "data": {
      "text/html": [
       "<div>\n",
       "<style scoped>\n",
       "    .dataframe tbody tr th:only-of-type {\n",
       "        vertical-align: middle;\n",
       "    }\n",
       "\n",
       "    .dataframe tbody tr th {\n",
       "        vertical-align: top;\n",
       "    }\n",
       "\n",
       "    .dataframe thead th {\n",
       "        text-align: right;\n",
       "    }\n",
       "</style>\n",
       "<table border=\"1\" class=\"dataframe\">\n",
       "  <thead>\n",
       "    <tr style=\"text-align: right;\">\n",
       "      <th></th>\n",
       "      <th>말소일자</th>\n",
       "      <th>조기폐차상태코드</th>\n",
       "    </tr>\n",
       "  </thead>\n",
       "  <tbody>\n",
       "    <tr>\n",
       "      <th>415817</th>\n",
       "      <td>46881006.00</td>\n",
       "      <td>Y</td>\n",
       "    </tr>\n",
       "    <tr>\n",
       "      <th>510882</th>\n",
       "      <td>44440923.00</td>\n",
       "      <td>Y</td>\n",
       "    </tr>\n",
       "    <tr>\n",
       "      <th>442010</th>\n",
       "      <td>35190417.00</td>\n",
       "      <td>Y</td>\n",
       "    </tr>\n",
       "    <tr>\n",
       "      <th>736429</th>\n",
       "      <td>30220322.00</td>\n",
       "      <td>Y</td>\n",
       "    </tr>\n",
       "    <tr>\n",
       "      <th>1061169</th>\n",
       "      <td>22220801.00</td>\n",
       "      <td>Y</td>\n",
       "    </tr>\n",
       "  </tbody>\n",
       "</table>\n",
       "</div>"
      ],
      "text/plain": [
       "               말소일자 조기폐차상태코드\n",
       "415817  46881006.00        Y\n",
       "510882  44440923.00        Y\n",
       "442010  35190417.00        Y\n",
       "736429  30220322.00        Y\n",
       "1061169 22220801.00        Y"
      ]
     },
     "execution_count": 64,
     "metadata": {},
     "output_type": "execute_result"
    }
   ],
   "source": [
    "elp.loc[:, ['말소일자', '조기폐차상태코드']].sort_values('말소일자', ascending=False).head()"
   ]
  },
  {
   "cell_type": "code",
   "execution_count": 65,
   "metadata": {},
   "outputs": [
    {
     "data": {
      "text/plain": [
       "(46, 2)"
      ]
     },
     "execution_count": 65,
     "metadata": {},
     "output_type": "execute_result"
    }
   ],
   "source": [
    "elp.loc[elp['말소일자'] >= int(today_date), ['말소일자', '조기폐차상태코드']].sort_values('말소일자', ascending=False).shape"
   ]
  },
  {
   "cell_type": "code",
   "execution_count": 66,
   "metadata": {},
   "outputs": [
    {
     "data": {
      "text/html": [
       "<div>\n",
       "<style scoped>\n",
       "    .dataframe tbody tr th:only-of-type {\n",
       "        vertical-align: middle;\n",
       "    }\n",
       "\n",
       "    .dataframe tbody tr th {\n",
       "        vertical-align: top;\n",
       "    }\n",
       "\n",
       "    .dataframe thead th {\n",
       "        text-align: right;\n",
       "    }\n",
       "</style>\n",
       "<table border=\"1\" class=\"dataframe\">\n",
       "  <thead>\n",
       "    <tr style=\"text-align: right;\">\n",
       "      <th></th>\n",
       "      <th>말소일자</th>\n",
       "      <th>조기폐차상태코드</th>\n",
       "    </tr>\n",
       "  </thead>\n",
       "  <tbody>\n",
       "    <tr>\n",
       "      <th>1127929</th>\n",
       "      <td>20231223.00</td>\n",
       "      <td>Y</td>\n",
       "    </tr>\n",
       "    <tr>\n",
       "      <th>1074070</th>\n",
       "      <td>20231214.00</td>\n",
       "      <td>Y</td>\n",
       "    </tr>\n",
       "    <tr>\n",
       "      <th>1095736</th>\n",
       "      <td>20231212.00</td>\n",
       "      <td>Y</td>\n",
       "    </tr>\n",
       "    <tr>\n",
       "      <th>1090201</th>\n",
       "      <td>20231123.00</td>\n",
       "      <td>Y</td>\n",
       "    </tr>\n",
       "    <tr>\n",
       "      <th>999587</th>\n",
       "      <td>20231026.00</td>\n",
       "      <td>Y</td>\n",
       "    </tr>\n",
       "  </tbody>\n",
       "</table>\n",
       "</div>"
      ],
      "text/plain": [
       "               말소일자 조기폐차상태코드\n",
       "1127929 20231223.00        Y\n",
       "1074070 20231214.00        Y\n",
       "1095736 20231212.00        Y\n",
       "1090201 20231123.00        Y\n",
       "999587  20231026.00        Y"
      ]
     },
     "execution_count": 66,
     "metadata": {},
     "output_type": "execute_result"
    }
   ],
   "source": [
    "elp.loc[elp['말소일자'] >= int(today_date), ['말소일자', '조기폐차상태코드']].sort_values('말소일자', ascending=False).tail()"
   ]
  },
  {
   "cell_type": "code",
   "execution_count": 67,
   "metadata": {},
   "outputs": [
    {
     "data": {
      "text/plain": [
       "DatetimeIndex(['2023-09-30'], dtype='datetime64[ns]', freq='M')"
      ]
     },
     "execution_count": 67,
     "metadata": {},
     "output_type": "execute_result"
    }
   ],
   "source": [
    "date_list = pd.date_range(end=today_date, periods=1, freq='M')\n",
    "date_list"
   ]
  },
  {
   "cell_type": "code",
   "execution_count": 68,
   "metadata": {},
   "outputs": [
    {
     "data": {
      "text/plain": [
       "20230930"
      ]
     },
     "execution_count": 68,
     "metadata": {},
     "output_type": "execute_result"
    }
   ],
   "source": [
    "before_amonth = int(str(date_list[0]).split(' ')[0].replace('-', ''))\n",
    "before_amonth"
   ]
  },
  {
   "cell_type": "code",
   "execution_count": 69,
   "metadata": {},
   "outputs": [
    {
     "data": {
      "text/html": [
       "<div>\n",
       "<style scoped>\n",
       "    .dataframe tbody tr th:only-of-type {\n",
       "        vertical-align: middle;\n",
       "    }\n",
       "\n",
       "    .dataframe tbody tr th {\n",
       "        vertical-align: top;\n",
       "    }\n",
       "\n",
       "    .dataframe thead th {\n",
       "        text-align: right;\n",
       "    }\n",
       "</style>\n",
       "<table border=\"1\" class=\"dataframe\">\n",
       "  <thead>\n",
       "    <tr style=\"text-align: right;\">\n",
       "      <th></th>\n",
       "      <th>말소일자</th>\n",
       "      <th>조기폐차상태코드</th>\n",
       "    </tr>\n",
       "  </thead>\n",
       "  <tbody>\n",
       "    <tr>\n",
       "      <th>1198089</th>\n",
       "      <td>20230905.00</td>\n",
       "      <td>G</td>\n",
       "    </tr>\n",
       "    <tr>\n",
       "      <th>985997</th>\n",
       "      <td>20230830.00</td>\n",
       "      <td>G</td>\n",
       "    </tr>\n",
       "    <tr>\n",
       "      <th>1039553</th>\n",
       "      <td>20230829.00</td>\n",
       "      <td>Y</td>\n",
       "    </tr>\n",
       "    <tr>\n",
       "      <th>1199527</th>\n",
       "      <td>20230825.00</td>\n",
       "      <td>G</td>\n",
       "    </tr>\n",
       "    <tr>\n",
       "      <th>1198595</th>\n",
       "      <td>20230825.00</td>\n",
       "      <td>G</td>\n",
       "    </tr>\n",
       "  </tbody>\n",
       "</table>\n",
       "</div>"
      ],
      "text/plain": [
       "               말소일자 조기폐차상태코드\n",
       "1198089 20230905.00        G\n",
       "985997  20230830.00        G\n",
       "1039553 20230829.00        Y\n",
       "1199527 20230825.00        G\n",
       "1198595 20230825.00        G"
      ]
     },
     "execution_count": 69,
     "metadata": {},
     "output_type": "execute_result"
    }
   ],
   "source": [
    "elp.loc[elp['말소일자'] <= before_amonth, ['말소일자', '조기폐차상태코드']].sort_values('말소일자', ascending=False).head()"
   ]
  },
  {
   "cell_type": "code",
   "execution_count": 70,
   "metadata": {},
   "outputs": [
    {
     "data": {
      "text/plain": [
       "(908692, 5)"
      ]
     },
     "execution_count": 70,
     "metadata": {},
     "output_type": "execute_result"
    }
   ],
   "source": [
    "# 조기폐차(현재 월-1까지만) 최신 말소일자기준 추출\n",
    "elp_rct = elp[elp['말소일자'] <= before_amonth].sort_values('말소일자', ascending=False).drop_duplicates('차대번호').reset_index(drop=True)\n",
    "elp_rct.shape"
   ]
  },
  {
   "cell_type": "code",
   "execution_count": 71,
   "metadata": {},
   "outputs": [
    {
     "data": {
      "text/plain": [
       "Y    885840\n",
       "G     22391\n",
       "D       225\n",
       "M       124\n",
       "N        59\n",
       "X        43\n",
       "C        10\n",
       "Name: 조기폐차상태코드, dtype: int64"
      ]
     },
     "execution_count": 71,
     "metadata": {},
     "output_type": "execute_result"
    }
   ],
   "source": [
    "elp_rct['조기폐차상태코드'].value_counts(dropna=False)"
   ]
  },
  {
   "cell_type": "code",
   "execution_count": 72,
   "metadata": {},
   "outputs": [
    {
     "data": {
      "text/plain": [
       "count     908692.00\n",
       "mean    20186469.72\n",
       "std        38573.11\n",
       "min          101.00\n",
       "25%     20170322.00\n",
       "50%     20190902.00\n",
       "75%     20210531.00\n",
       "max     20230905.00\n",
       "Name: 말소일자, dtype: float64"
      ]
     },
     "execution_count": 72,
     "metadata": {},
     "output_type": "execute_result"
    }
   ],
   "source": [
    "elp_rct['말소일자'].describe()"
   ]
  },
  {
   "cell_type": "markdown",
   "metadata": {},
   "source": [
    "### !!! 수정 끝(2023.10.26)"
   ]
  },
  {
   "cell_type": "markdown",
   "metadata": {},
   "source": [
    "## 등록(말소유지)&제원"
   ]
  },
  {
   "cell_type": "code",
   "execution_count": 73,
   "metadata": {},
   "outputs": [
    {
     "data": {
      "text/plain": [
       "(1906823, 13)"
      ]
     },
     "execution_count": 73,
     "metadata": {},
     "output_type": "execute_result"
    }
   ],
   "source": [
    "carr.shape"
   ]
  },
  {
   "cell_type": "code",
   "execution_count": 74,
   "metadata": {},
   "outputs": [
    {
     "data": {
      "text/plain": [
       "(1906823, 19)"
      ]
     },
     "execution_count": 74,
     "metadata": {},
     "output_type": "execute_result"
    }
   ],
   "source": [
    "cse = carr.merge(srcr, on='제원관리번호', how='left')\n",
    "cse.shape"
   ]
  },
  {
   "cell_type": "markdown",
   "metadata": {},
   "source": [
    "## 등록(말소유지)&제원&법정동"
   ]
  },
  {
   "cell_type": "code",
   "execution_count": 75,
   "metadata": {},
   "outputs": [],
   "source": [
    "cse['법정동코드'] = cse['법정동코드'].astype('str')\n",
    "cse['법정동코드'] = cse['법정동코드'].str[:5] + '00000'\n",
    "cse['법정동코드'] = pd.to_numeric(cse['법정동코드'], errors='coerce')"
   ]
  },
  {
   "cell_type": "code",
   "execution_count": 76,
   "metadata": {},
   "outputs": [
    {
     "data": {
      "text/plain": [
       "(1906823, 21)"
      ]
     },
     "execution_count": 76,
     "metadata": {},
     "output_type": "execute_result"
    }
   ],
   "source": [
    "csec = cse.merge(coder, on='법정동코드', how='left')\n",
    "csec.shape"
   ]
  },
  {
   "cell_type": "code",
   "execution_count": 77,
   "metadata": {},
   "outputs": [
    {
     "data": {
      "text/plain": [
       "0"
      ]
     },
     "execution_count": 77,
     "metadata": {},
     "output_type": "execute_result"
    }
   ],
   "source": [
    "csec['시도'].isnull().sum()"
   ]
  },
  {
   "cell_type": "markdown",
   "metadata": {},
   "source": [
    "## 등록(말소유지)&제원&법정동&조기폐차"
   ]
  },
  {
   "cell_type": "code",
   "execution_count": 78,
   "metadata": {},
   "outputs": [
    {
     "data": {
      "text/plain": [
       "(1906823, 21)"
      ]
     },
     "execution_count": 78,
     "metadata": {},
     "output_type": "execute_result"
    }
   ],
   "source": [
    "csec.shape"
   ]
  },
  {
   "cell_type": "code",
   "execution_count": 79,
   "metadata": {},
   "outputs": [
    {
     "data": {
      "text/plain": [
       "(1906823, 25)"
      ]
     },
     "execution_count": 79,
     "metadata": {},
     "output_type": "execute_result"
    }
   ],
   "source": [
    "csece = csec.merge(elpm, on='차대번호', how='left')\n",
    "csece.shape"
   ]
  },
  {
   "cell_type": "markdown",
   "metadata": {},
   "source": [
    "### !!!! 수정 시작(2023.10.26)"
   ]
  },
  {
   "cell_type": "code",
   "execution_count": 80,
   "metadata": {},
   "outputs": [
    {
     "data": {
      "text/plain": [
       "(1906823, 25)"
      ]
     },
     "execution_count": 80,
     "metadata": {},
     "output_type": "execute_result"
    }
   ],
   "source": [
    "csece_rct = csec.merge(elp_rct, on='차대번호', how='left')\n",
    "csece_rct.shape"
   ]
  },
  {
   "cell_type": "markdown",
   "metadata": {},
   "source": [
    "### !!!! 수정 끝(2023.10.26)"
   ]
  },
  {
   "cell_type": "markdown",
   "metadata": {},
   "source": [
    "## 등록(말소유지)&제원&법정동&조기폐차&저감"
   ]
  },
  {
   "cell_type": "code",
   "execution_count": 81,
   "metadata": {},
   "outputs": [
    {
     "data": {
      "text/plain": [
       "(1906823, 28)"
      ]
     },
     "execution_count": 81,
     "metadata": {},
     "output_type": "execute_result"
    }
   ],
   "source": [
    "dfe = csece.merge(attr, on='차대번호', how='left')\n",
    "dfe.shape"
   ]
  },
  {
   "cell_type": "markdown",
   "metadata": {},
   "source": [
    "## 등록&제원&저감"
   ]
  },
  {
   "cell_type": "code",
   "execution_count": 82,
   "metadata": {},
   "outputs": [
    {
     "data": {
      "text/plain": [
       "(1390280, 19)"
      ]
     },
     "execution_count": 82,
     "metadata": {},
     "output_type": "execute_result"
    }
   ],
   "source": [
    "cs.shape"
   ]
  },
  {
   "cell_type": "code",
   "execution_count": 83,
   "metadata": {},
   "outputs": [
    {
     "data": {
      "text/plain": [
       "(1390280, 22)"
      ]
     },
     "execution_count": 83,
     "metadata": {},
     "output_type": "execute_result"
    }
   ],
   "source": [
    "csa = cs.merge(attr, on='차대번호', how='left')\n",
    "csa.shape"
   ]
  },
  {
   "cell_type": "markdown",
   "metadata": {},
   "source": [
    "## 등록&제원&저감&법정동"
   ]
  },
  {
   "cell_type": "code",
   "execution_count": 84,
   "metadata": {},
   "outputs": [],
   "source": [
    "csa['법정동코드'] = csa['법정동코드'].astype('str')\n",
    "csa['법정동코드'] = csa['법정동코드'].str[:5] + '00000'\n",
    "csa['법정동코드'] = pd.to_numeric(csa['법정동코드'], errors='coerce')"
   ]
  },
  {
   "cell_type": "code",
   "execution_count": 85,
   "metadata": {},
   "outputs": [
    {
     "data": {
      "text/plain": [
       "(1390280, 24)"
      ]
     },
     "execution_count": 85,
     "metadata": {},
     "output_type": "execute_result"
    }
   ],
   "source": [
    "csac = csa.merge(coder, on='법정동코드', how='left')\n",
    "csac.shape"
   ]
  },
  {
   "cell_type": "code",
   "execution_count": 86,
   "metadata": {},
   "outputs": [
    {
     "data": {
      "text/plain": [
       "0"
      ]
     },
     "execution_count": 86,
     "metadata": {},
     "output_type": "execute_result"
    }
   ],
   "source": [
    "csac['시도'].isnull().sum()"
   ]
  },
  {
   "cell_type": "markdown",
   "metadata": {},
   "source": [
    "## 등록&제원&저감&법정동&조기폐차"
   ]
  },
  {
   "cell_type": "code",
   "execution_count": 87,
   "metadata": {},
   "outputs": [
    {
     "data": {
      "text/plain": [
       "(1390280, 24)"
      ]
     },
     "execution_count": 87,
     "metadata": {},
     "output_type": "execute_result"
    }
   ],
   "source": [
    "csac.shape"
   ]
  },
  {
   "cell_type": "code",
   "execution_count": 88,
   "metadata": {},
   "outputs": [
    {
     "data": {
      "text/plain": [
       "(1390280, 28)"
      ]
     },
     "execution_count": 88,
     "metadata": {},
     "output_type": "execute_result"
    }
   ],
   "source": [
    "df = csac.merge(elpm, on='차대번호', how='left')\n",
    "df.shape"
   ]
  },
  {
   "cell_type": "code",
   "execution_count": 89,
   "metadata": {},
   "outputs": [
    {
     "data": {
      "text/plain": [
       "경유             1052801\n",
       "휘발유             313039\n",
       "LPG(액화석유가스)      24355\n",
       "NaN                 49\n",
       "기타연료                34\n",
       "CNG(압축천연가스)          1\n",
       "알코올                  1\n",
       "Name: 연료, dtype: int64"
      ]
     },
     "execution_count": 89,
     "metadata": {},
     "output_type": "execute_result"
    }
   ],
   "source": [
    "df['연료'].value_counts(dropna=False)"
   ]
  },
  {
   "cell_type": "code",
   "execution_count": 90,
   "metadata": {},
   "outputs": [],
   "source": [
    "df['법정동코드_수정'] = df['법정동코드'].copy()"
   ]
  },
  {
   "cell_type": "markdown",
   "metadata": {},
   "source": [
    "## 4등급 result 파일 참고하여 DPF유무 수정"
   ]
  },
  {
   "cell_type": "code",
   "execution_count": 91,
   "metadata": {},
   "outputs": [],
   "source": [
    "rdf = df.copy()"
   ]
  },
  {
   "cell_type": "code",
   "execution_count": 92,
   "metadata": {},
   "outputs": [
    {
     "data": {
      "text/plain": [
       "2092"
      ]
     },
     "execution_count": 92,
     "metadata": {},
     "output_type": "execute_result"
    }
   ],
   "source": [
    "len(set(rdf['차대번호'].unique()) - set(rs['차대번호'].unique()))"
   ]
  },
  {
   "cell_type": "code",
   "execution_count": 93,
   "metadata": {},
   "outputs": [
    {
     "data": {
      "text/plain": [
       "NaN    1390227\n",
       "유           53\n",
       "Name: DPF_YN, dtype: int64"
      ]
     },
     "execution_count": 93,
     "metadata": {},
     "output_type": "execute_result"
    }
   ],
   "source": [
    "rdf['DPF_YN'].value_counts(dropna=False)"
   ]
  },
  {
   "cell_type": "code",
   "execution_count": 94,
   "metadata": {},
   "outputs": [
    {
     "data": {
      "text/plain": [
       "무       879481\n",
       "NaN     348422\n",
       "유       261897\n",
       "확인불가     12435\n",
       "Name: DPF유무_수정, dtype: int64"
      ]
     },
     "execution_count": 94,
     "metadata": {},
     "output_type": "execute_result"
    }
   ],
   "source": [
    "rs['DPF유무_수정'].value_counts(dropna=False)"
   ]
  },
  {
   "cell_type": "code",
   "execution_count": 95,
   "metadata": {},
   "outputs": [
    {
     "data": {
      "text/plain": [
       "(1502213, 2)"
      ]
     },
     "execution_count": 95,
     "metadata": {},
     "output_type": "execute_result"
    }
   ],
   "source": [
    "rs = rs.drop_duplicates('차대번호').reset_index(drop=True)\n",
    "rs.shape"
   ]
  },
  {
   "cell_type": "code",
   "execution_count": 96,
   "metadata": {},
   "outputs": [
    {
     "data": {
      "text/plain": [
       "무       879481\n",
       "NaN     348400\n",
       "유       261897\n",
       "확인불가     12435\n",
       "Name: DPF유무_수정, dtype: int64"
      ]
     },
     "execution_count": 96,
     "metadata": {},
     "output_type": "execute_result"
    }
   ],
   "source": [
    "rs['DPF유무_수정'].value_counts(dropna=False)"
   ]
  },
  {
   "cell_type": "code",
   "execution_count": 97,
   "metadata": {},
   "outputs": [],
   "source": [
    "rdf1 = rdf.merge(rs, on='차대번호', how='left')"
   ]
  },
  {
   "cell_type": "code",
   "execution_count": 98,
   "metadata": {},
   "outputs": [],
   "source": [
    "rdf1.loc[(rdf1['DPF_YN'] == '유') | (rdf1['DPF유무_수정'] == '유'), 'DPF_YN'] = '유'\n",
    "rdf1.loc[(rdf1['DPF유무_수정'] == '무'), 'DPF_YN'] = '무'\n",
    "rdf1.loc[(rdf1['DPF유무_수정'] == '확인불가'), 'DPF_YN'] = '확인불가'"
   ]
  },
  {
   "cell_type": "code",
   "execution_count": 99,
   "metadata": {},
   "outputs": [
    {
     "data": {
      "text/plain": [
       "무       806992\n",
       "NaN     337657\n",
       "유       234291\n",
       "확인불가     11340\n",
       "Name: DPF_YN, dtype: int64"
      ]
     },
     "execution_count": 99,
     "metadata": {},
     "output_type": "execute_result"
    }
   ],
   "source": [
    "rdf1['DPF_YN'].value_counts(dropna=False)"
   ]
  },
  {
   "cell_type": "code",
   "execution_count": 100,
   "metadata": {},
   "outputs": [
    {
     "data": {
      "text/plain": [
       "Index(['자동차등록번호', '차대번호', '법정동코드', '배출가스등급', '배출가스인증번호', '차량말소YN', '제원관리번호',\n",
       "       '차량연식', '차종', '용도', '최초등록일자', '제작일자', '차량관리번호', '연료', '차종유형', '제작사명',\n",
       "       '차명', '자동차형식', '엔진형식', '저감장치구분', '저감장치종류', 'DPF_YN', '시도', '시군구',\n",
       "       '조기폐차상태코드', '조기폐차최종승인YN', '말소일자', '조기폐차신청여부', '법정동코드_수정', 'DPF유무_수정'],\n",
       "      dtype='object')"
      ]
     },
     "execution_count": 100,
     "metadata": {},
     "output_type": "execute_result"
    }
   ],
   "source": [
    "rdf1.columns"
   ]
  },
  {
   "cell_type": "code",
   "execution_count": 101,
   "metadata": {},
   "outputs": [],
   "source": [
    "df = rdf1.drop('DPF유무_수정', axis=1)"
   ]
  },
  {
   "cell_type": "code",
   "execution_count": 102,
   "metadata": {},
   "outputs": [
    {
     "data": {
      "text/plain": [
       "(1390280, 29)"
      ]
     },
     "execution_count": 102,
     "metadata": {},
     "output_type": "execute_result"
    }
   ],
   "source": [
    "df.shape"
   ]
  },
  {
   "cell_type": "code",
   "execution_count": 103,
   "metadata": {},
   "outputs": [],
   "source": [
    "rdf = dfe.copy()"
   ]
  },
  {
   "cell_type": "code",
   "execution_count": 104,
   "metadata": {},
   "outputs": [],
   "source": [
    "rdf1 = rdf.merge(rs, on='차대번호', how='left')"
   ]
  },
  {
   "cell_type": "code",
   "execution_count": 105,
   "metadata": {},
   "outputs": [],
   "source": [
    "rdf1.loc[(rdf1['DPF_YN'] == '유') | (rdf1['DPF유무_수정'] == '유'), 'DPF_YN'] = '유'\n",
    "rdf1.loc[(rdf1['DPF유무_수정'] == '무'), 'DPF_YN'] = '무'\n",
    "rdf1.loc[(rdf1['DPF유무_수정'] == '확인불가'), 'DPF_YN'] = '확인불가'"
   ]
  },
  {
   "cell_type": "code",
   "execution_count": 106,
   "metadata": {},
   "outputs": [],
   "source": [
    "dfe = rdf1.drop('DPF유무_수정', axis=1)"
   ]
  },
  {
   "cell_type": "code",
   "execution_count": 107,
   "metadata": {},
   "outputs": [
    {
     "data": {
      "text/plain": [
       "(1906823, 28)"
      ]
     },
     "execution_count": 107,
     "metadata": {},
     "output_type": "execute_result"
    }
   ],
   "source": [
    "dfe.shape"
   ]
  },
  {
   "cell_type": "markdown",
   "metadata": {},
   "source": [
    "## 말소차량 데이터"
   ]
  },
  {
   "cell_type": "markdown",
   "metadata": {},
   "source": [
    "### 등록 & 제원 정보 병합(말소 유지)"
   ]
  },
  {
   "cell_type": "code",
   "execution_count": 108,
   "metadata": {},
   "outputs": [
    {
     "data": {
      "text/plain": [
       "(1906823, 19)"
      ]
     },
     "execution_count": 108,
     "metadata": {},
     "output_type": "execute_result"
    }
   ],
   "source": [
    "cse.shape"
   ]
  },
  {
   "cell_type": "markdown",
   "metadata": {},
   "source": [
    "### 1\\. 차량관리번호 기준 병합"
   ]
  },
  {
   "cell_type": "code",
   "execution_count": 109,
   "metadata": {},
   "outputs": [
    {
     "data": {
      "text/plain": [
       "(1906823, 19)"
      ]
     },
     "execution_count": 109,
     "metadata": {},
     "output_type": "execute_result"
    }
   ],
   "source": [
    "cse.shape   "
   ]
  },
  {
   "cell_type": "code",
   "execution_count": 110,
   "metadata": {},
   "outputs": [
    {
     "data": {
      "text/plain": [
       "(4057265, 21)"
      ]
     },
     "execution_count": 110,
     "metadata": {},
     "output_type": "execute_result"
    }
   ],
   "source": [
    "# 58.3s\n",
    "ersr = cse.merge(hisr, on='차량관리번호', how='left')\n",
    "ersr.shape"
   ]
  },
  {
   "cell_type": "markdown",
   "metadata": {},
   "source": [
    "### 2\\. 차량말소YN 만 추출"
   ]
  },
  {
   "cell_type": "code",
   "execution_count": 111,
   "metadata": {},
   "outputs": [
    {
     "data": {
      "text/plain": [
       "(355877, 21)"
      ]
     },
     "execution_count": 111,
     "metadata": {},
     "output_type": "execute_result"
    }
   ],
   "source": [
    "errm = ersr[(ersr['차량말소YN_x'] == 'Y') & (ersr['차량말소YN_y'] == 'Y')].reset_index(drop=True)\n",
    "errm.shape"
   ]
  },
  {
   "cell_type": "markdown",
   "metadata": {},
   "source": [
    "### 3\\. 변경일자 최신으로 차대번호 중복 제거"
   ]
  },
  {
   "cell_type": "code",
   "execution_count": 112,
   "metadata": {},
   "outputs": [],
   "source": [
    "errm = errm.sort_values('변경일자', ascending=False).drop_duplicates('차대번호').reset_index(drop=True)"
   ]
  },
  {
   "cell_type": "markdown",
   "metadata": {},
   "source": [
    "### 4\\. 변경일자 2019.01.01 이상만 추출"
   ]
  },
  {
   "cell_type": "code",
   "execution_count": 113,
   "metadata": {},
   "outputs": [],
   "source": [
    "errm = errm[errm['변경일자'] >= 20190101].reset_index(drop=True)"
   ]
  },
  {
   "cell_type": "code",
   "execution_count": 114,
   "metadata": {},
   "outputs": [
    {
     "data": {
      "text/plain": [
       "(353233, 21)"
      ]
     },
     "execution_count": 114,
     "metadata": {},
     "output_type": "execute_result"
    }
   ],
   "source": [
    "errm.shape"
   ]
  },
  {
   "cell_type": "code",
   "execution_count": 115,
   "metadata": {},
   "outputs": [
    {
     "data": {
      "text/plain": [
       "Index(['자동차등록번호', '차대번호', '법정동코드', '배출가스등급', '배출가스인증번호', '차량말소YN_x', '제원관리번호',\n",
       "       '차량연식', '차종', '용도', '최초등록일자', '제작일자', '차량관리번호', '연료', '차종유형', '제작사명',\n",
       "       '차명', '자동차형식', '엔진형식', '차량말소YN_y', '변경일자'],\n",
       "      dtype='object')"
      ]
     },
     "execution_count": 115,
     "metadata": {},
     "output_type": "execute_result"
    }
   ],
   "source": [
    "errm.columns"
   ]
  },
  {
   "cell_type": "markdown",
   "metadata": {},
   "source": [
    "### 5\\. 법정동 코드 정보 병합"
   ]
  },
  {
   "cell_type": "code",
   "execution_count": 116,
   "metadata": {},
   "outputs": [],
   "source": [
    "errm['법정동코드'] = errm['법정동코드'].astype('str')\n",
    "errm['법정동코드'] = errm['법정동코드'].str[:5] + '00000'\n",
    "errm['법정동코드'] = pd.to_numeric(errm['법정동코드'], errors='coerce')"
   ]
  },
  {
   "cell_type": "code",
   "execution_count": 117,
   "metadata": {},
   "outputs": [
    {
     "data": {
      "text/plain": [
       "(353233, 23)"
      ]
     },
     "execution_count": 117,
     "metadata": {},
     "output_type": "execute_result"
    }
   ],
   "source": [
    "errc = errm.merge(coder, on='법정동코드', how='left')\n",
    "errc.shape"
   ]
  },
  {
   "cell_type": "code",
   "execution_count": 118,
   "metadata": {},
   "outputs": [
    {
     "data": {
      "text/plain": [
       "0"
      ]
     },
     "execution_count": 118,
     "metadata": {},
     "output_type": "execute_result"
    }
   ],
   "source": [
    "errc['시도'].isnull().sum()"
   ]
  },
  {
   "cell_type": "code",
   "execution_count": 119,
   "metadata": {},
   "outputs": [
    {
     "data": {
      "text/plain": [
       "array(['경상북도', '경상남도', '인천광역시', '대전광역시', '서울특별시', '전라남도', '경기도',\n",
       "       '제주특별자치도', '광주광역시', '충청북도', '충청남도', '부산광역시', '울산광역시', '대구광역시',\n",
       "       '전라북도', '세종특별자치시', '강원특별자치도'], dtype=object)"
      ]
     },
     "execution_count": 119,
     "metadata": {},
     "output_type": "execute_result"
    }
   ],
   "source": [
    "errc['시도'].unique()"
   ]
  },
  {
   "cell_type": "code",
   "execution_count": 120,
   "metadata": {},
   "outputs": [
    {
     "data": {
      "text/html": [
       "<div>\n",
       "<style scoped>\n",
       "    .dataframe tbody tr th:only-of-type {\n",
       "        vertical-align: middle;\n",
       "    }\n",
       "\n",
       "    .dataframe tbody tr th {\n",
       "        vertical-align: top;\n",
       "    }\n",
       "\n",
       "    .dataframe thead th {\n",
       "        text-align: right;\n",
       "    }\n",
       "</style>\n",
       "<table border=\"1\" class=\"dataframe\">\n",
       "  <thead>\n",
       "    <tr style=\"text-align: right;\">\n",
       "      <th></th>\n",
       "      <th>자동차등록번호</th>\n",
       "      <th>차대번호</th>\n",
       "      <th>법정동코드</th>\n",
       "      <th>배출가스등급</th>\n",
       "      <th>배출가스인증번호</th>\n",
       "      <th>차량말소YN_x</th>\n",
       "      <th>제원관리번호</th>\n",
       "      <th>차량연식</th>\n",
       "      <th>차종</th>\n",
       "      <th>용도</th>\n",
       "      <th>...</th>\n",
       "      <th>연료</th>\n",
       "      <th>차종유형</th>\n",
       "      <th>제작사명</th>\n",
       "      <th>차명</th>\n",
       "      <th>자동차형식</th>\n",
       "      <th>엔진형식</th>\n",
       "      <th>차량말소YN_y</th>\n",
       "      <th>변경일자</th>\n",
       "      <th>시도</th>\n",
       "      <th>시군구</th>\n",
       "    </tr>\n",
       "  </thead>\n",
       "  <tbody>\n",
       "    <tr>\n",
       "      <th>256914</th>\n",
       "      <td>85도0186</td>\n",
       "      <td>KMFZSZ7JAAU663689</td>\n",
       "      <td>5111000000</td>\n",
       "      <td>4</td>\n",
       "      <td>7MY-HD-14-68</td>\n",
       "      <td>Y</td>\n",
       "      <td>A0810006208633109</td>\n",
       "      <td>2010</td>\n",
       "      <td>화물</td>\n",
       "      <td>개인용</td>\n",
       "      <td>...</td>\n",
       "      <td>경유</td>\n",
       "      <td>소형</td>\n",
       "      <td>현대자동차(주)</td>\n",
       "      <td>포터Ⅱ 내장탑차 (PORTERⅡ)</td>\n",
       "      <td>HR-3HDS3JKM-1001</td>\n",
       "      <td>D4CB</td>\n",
       "      <td>Y</td>\n",
       "      <td>20200408.00</td>\n",
       "      <td>강원특별자치도</td>\n",
       "      <td>춘천시</td>\n",
       "    </tr>\n",
       "    <tr>\n",
       "      <th>289194</th>\n",
       "      <td>95가0814</td>\n",
       "      <td>KMFZSZ7JABU745861</td>\n",
       "      <td>5113000000</td>\n",
       "      <td>4</td>\n",
       "      <td>7MY-HD-14-68</td>\n",
       "      <td>Y</td>\n",
       "      <td>A0810006209563110</td>\n",
       "      <td>2011</td>\n",
       "      <td>화물</td>\n",
       "      <td>개인용</td>\n",
       "      <td>...</td>\n",
       "      <td>경유</td>\n",
       "      <td>소형</td>\n",
       "      <td>현대자동차(주)</td>\n",
       "      <td>포터Ⅱ내장탑차</td>\n",
       "      <td>HR-3HDS3JKM-1101</td>\n",
       "      <td>D4CB</td>\n",
       "      <td>Y</td>\n",
       "      <td>20191223.00</td>\n",
       "      <td>강원특별자치도</td>\n",
       "      <td>원주시</td>\n",
       "    </tr>\n",
       "  </tbody>\n",
       "</table>\n",
       "<p>2 rows × 23 columns</p>\n",
       "</div>"
      ],
      "text/plain": [
       "        자동차등록번호               차대번호       법정동코드 배출가스등급      배출가스인증번호 차량말소YN_x  \\\n",
       "256914  85도0186  KMFZSZ7JAAU663689  5111000000      4  7MY-HD-14-68        Y   \n",
       "289194  95가0814  KMFZSZ7JABU745861  5113000000      4  7MY-HD-14-68        Y   \n",
       "\n",
       "                   제원관리번호  차량연식  차종   용도  ...  연료  차종유형      제작사명  \\\n",
       "256914  A0810006208633109  2010  화물  개인용  ...  경유    소형  현대자동차(주)   \n",
       "289194  A0810006209563110  2011  화물  개인용  ...  경유    소형  현대자동차(주)   \n",
       "\n",
       "                        차명             자동차형식  엔진형식 차량말소YN_y        변경일자  \\\n",
       "256914  포터Ⅱ 내장탑차 (PORTERⅡ)  HR-3HDS3JKM-1001  D4CB        Y 20200408.00   \n",
       "289194             포터Ⅱ내장탑차  HR-3HDS3JKM-1101  D4CB        Y 20191223.00   \n",
       "\n",
       "             시도  시군구  \n",
       "256914  강원특별자치도  춘천시  \n",
       "289194  강원특별자치도  원주시  \n",
       "\n",
       "[2 rows x 23 columns]"
      ]
     },
     "execution_count": 120,
     "metadata": {},
     "output_type": "execute_result"
    }
   ],
   "source": [
    "errc[errc['시도'] == '강원특별자치도']"
   ]
  },
  {
   "cell_type": "markdown",
   "metadata": {},
   "source": [
    "# 분석"
   ]
  },
  {
   "cell_type": "markdown",
   "metadata": {},
   "source": [
    "## 4등급 경유 조기폐차"
   ]
  },
  {
   "cell_type": "code",
   "execution_count": 121,
   "metadata": {},
   "outputs": [
    {
     "data": {
      "text/plain": [
       "(1411496, 28)"
      ]
     },
     "execution_count": 121,
     "metadata": {},
     "output_type": "execute_result"
    }
   ],
   "source": [
    "df1 = dfe[dfe['연료'] == '경유'].reset_index(drop=True)\n",
    "df1.shape"
   ]
  },
  {
   "cell_type": "code",
   "execution_count": 122,
   "metadata": {},
   "outputs": [
    {
     "data": {
      "text/plain": [
       "Index(['자동차등록번호', '차대번호', '법정동코드', '배출가스등급', '배출가스인증번호', '차량말소YN', '제원관리번호',\n",
       "       '차량연식', '차종', '용도', '최초등록일자', '제작일자', '차량관리번호', '연료', '차종유형', '제작사명',\n",
       "       '차명', '자동차형식', '엔진형식', '시도', '시군구', '조기폐차상태코드', '조기폐차최종승인YN', '말소일자',\n",
       "       '조기폐차신청여부', '저감장치구분', '저감장치종류', 'DPF_YN'],\n",
       "      dtype='object')"
      ]
     },
     "execution_count": 122,
     "metadata": {},
     "output_type": "execute_result"
    }
   ],
   "source": [
    "df1.columns"
   ]
  },
  {
   "cell_type": "code",
   "execution_count": 123,
   "metadata": {},
   "outputs": [
    {
     "data": {
      "text/plain": [
       "dtype('float64')"
      ]
     },
     "execution_count": 123,
     "metadata": {},
     "output_type": "execute_result"
    }
   ],
   "source": [
    "df1['말소일자'].dtype"
   ]
  },
  {
   "cell_type": "code",
   "execution_count": 124,
   "metadata": {},
   "outputs": [
    {
     "data": {
      "text/plain": [
       "NaN    1380713\n",
       "Y        30783\n",
       "Name: 조기폐차최종승인YN, dtype: int64"
      ]
     },
     "execution_count": 124,
     "metadata": {},
     "output_type": "execute_result"
    }
   ],
   "source": [
    "df1['조기폐차최종승인YN'].value_counts(dropna=False)"
   ]
  },
  {
   "cell_type": "code",
   "execution_count": 125,
   "metadata": {},
   "outputs": [
    {
     "data": {
      "text/plain": [
       "0"
      ]
     },
     "execution_count": 125,
     "metadata": {},
     "output_type": "execute_result"
    }
   ],
   "source": [
    "df1.loc[df1['조기폐차최종승인YN'] == 'Y', '말소일자'].isnull().sum()"
   ]
  },
  {
   "cell_type": "code",
   "execution_count": 126,
   "metadata": {},
   "outputs": [
    {
     "data": {
      "text/plain": [
       "0     20230418.00\n",
       "56    20230419.00\n",
       "63    20230316.00\n",
       "66    20230324.00\n",
       "138   20230510.00\n",
       "Name: 말소일자, dtype: float64"
      ]
     },
     "execution_count": 126,
     "metadata": {},
     "output_type": "execute_result"
    }
   ],
   "source": [
    "df1.loc[df1['조기폐차최종승인YN'] == 'Y', '말소일자'].head()"
   ]
  },
  {
   "cell_type": "code",
   "execution_count": 127,
   "metadata": {},
   "outputs": [
    {
     "data": {
      "text/plain": [
       "30783"
      ]
     },
     "execution_count": 127,
     "metadata": {},
     "output_type": "execute_result"
    }
   ],
   "source": [
    "idx = df1.loc[df1['조기폐차최종승인YN'] == 'Y', '말소일자'].index\n",
    "len(idx)"
   ]
  },
  {
   "cell_type": "code",
   "execution_count": 128,
   "metadata": {},
   "outputs": [
    {
     "name": "stderr",
     "output_type": "stream",
     "text": [
      "C:\\Users\\kbjung\\AppData\\Local\\Temp\\ipykernel_8996\\3084654941.py:2: FutureWarning: Passing a set as an indexer is deprecated and will raise in a future version. Use a list instead.\n",
      "  df1_en = df1.loc[set(df1.index) - set(idx)]\n"
     ]
    },
    {
     "data": {
      "text/plain": [
       "1411496"
      ]
     },
     "execution_count": 128,
     "metadata": {},
     "output_type": "execute_result"
    }
   ],
   "source": [
    "df1_ey = df1.loc[idx]\n",
    "df1_en = df1.loc[set(df1.index) - set(idx)]\n",
    "df1_ey.shape[0] + df1_en.shape[0]"
   ]
  },
  {
   "cell_type": "code",
   "execution_count": 129,
   "metadata": {},
   "outputs": [
    {
     "data": {
      "text/plain": [
       "dtype('float64')"
      ]
     },
     "execution_count": 129,
     "metadata": {},
     "output_type": "execute_result"
    }
   ],
   "source": [
    "df1_ey['말소일자'].dtype"
   ]
  },
  {
   "cell_type": "code",
   "execution_count": 130,
   "metadata": {},
   "outputs": [
    {
     "data": {
      "text/plain": [
       "0     20230418.00\n",
       "56    20230419.00\n",
       "63    20230316.00\n",
       "66    20230324.00\n",
       "138   20230510.00\n",
       "Name: 말소일자, dtype: float64"
      ]
     },
     "execution_count": 130,
     "metadata": {},
     "output_type": "execute_result"
    }
   ],
   "source": [
    "df1_ey['말소일자'].head()"
   ]
  },
  {
   "cell_type": "code",
   "execution_count": 131,
   "metadata": {},
   "outputs": [
    {
     "data": {
      "text/plain": [
       "0      20230418.0\n",
       "56     20230419.0\n",
       "63     20230316.0\n",
       "66     20230324.0\n",
       "138    20230510.0\n",
       "Name: 말소일자, dtype: object"
      ]
     },
     "execution_count": 131,
     "metadata": {},
     "output_type": "execute_result"
    }
   ],
   "source": [
    "df1_ey['말소일자'] = df1_ey['말소일자'].astype('str')\n",
    "df1_ey['말소일자'].head()"
   ]
  },
  {
   "cell_type": "code",
   "execution_count": 132,
   "metadata": {},
   "outputs": [],
   "source": [
    "df1_ey['기준연월'] = df1_ey['말소일자'].str[:4] + '.' + df1_ey['말소일자'].str[4:6]"
   ]
  },
  {
   "cell_type": "code",
   "execution_count": 133,
   "metadata": {},
   "outputs": [
    {
     "data": {
      "text/html": [
       "<div>\n",
       "<style scoped>\n",
       "    .dataframe tbody tr th:only-of-type {\n",
       "        vertical-align: middle;\n",
       "    }\n",
       "\n",
       "    .dataframe tbody tr th {\n",
       "        vertical-align: top;\n",
       "    }\n",
       "\n",
       "    .dataframe thead th {\n",
       "        text-align: right;\n",
       "    }\n",
       "</style>\n",
       "<table border=\"1\" class=\"dataframe\">\n",
       "  <thead>\n",
       "    <tr style=\"text-align: right;\">\n",
       "      <th></th>\n",
       "      <th>말소일자</th>\n",
       "      <th>기준연월</th>\n",
       "    </tr>\n",
       "  </thead>\n",
       "  <tbody>\n",
       "    <tr>\n",
       "      <th>0</th>\n",
       "      <td>20230418.0</td>\n",
       "      <td>2023.04</td>\n",
       "    </tr>\n",
       "    <tr>\n",
       "      <th>56</th>\n",
       "      <td>20230419.0</td>\n",
       "      <td>2023.04</td>\n",
       "    </tr>\n",
       "    <tr>\n",
       "      <th>63</th>\n",
       "      <td>20230316.0</td>\n",
       "      <td>2023.03</td>\n",
       "    </tr>\n",
       "    <tr>\n",
       "      <th>66</th>\n",
       "      <td>20230324.0</td>\n",
       "      <td>2023.03</td>\n",
       "    </tr>\n",
       "    <tr>\n",
       "      <th>138</th>\n",
       "      <td>20230510.0</td>\n",
       "      <td>2023.05</td>\n",
       "    </tr>\n",
       "  </tbody>\n",
       "</table>\n",
       "</div>"
      ],
      "text/plain": [
       "           말소일자     기준연월\n",
       "0    20230418.0  2023.04\n",
       "56   20230419.0  2023.04\n",
       "63   20230316.0  2023.03\n",
       "66   20230324.0  2023.03\n",
       "138  20230510.0  2023.05"
      ]
     },
     "execution_count": 133,
     "metadata": {},
     "output_type": "execute_result"
    }
   ],
   "source": [
    "df1_ey[['말소일자', '기준연월']].head()"
   ]
  },
  {
   "cell_type": "code",
   "execution_count": 134,
   "metadata": {},
   "outputs": [
    {
     "data": {
      "text/plain": [
       "(1411496, 29)"
      ]
     },
     "execution_count": 134,
     "metadata": {},
     "output_type": "execute_result"
    }
   ],
   "source": [
    "df1 = pd.concat([df1_ey, df1_en], ignore_index=True)\n",
    "df1.shape"
   ]
  },
  {
   "cell_type": "code",
   "execution_count": 135,
   "metadata": {},
   "outputs": [
    {
     "data": {
      "text/html": [
       "<div>\n",
       "<style scoped>\n",
       "    .dataframe tbody tr th:only-of-type {\n",
       "        vertical-align: middle;\n",
       "    }\n",
       "\n",
       "    .dataframe tbody tr th {\n",
       "        vertical-align: top;\n",
       "    }\n",
       "\n",
       "    .dataframe thead th {\n",
       "        text-align: right;\n",
       "    }\n",
       "</style>\n",
       "<table border=\"1\" class=\"dataframe\">\n",
       "  <thead>\n",
       "    <tr style=\"text-align: right;\">\n",
       "      <th></th>\n",
       "      <th>말소일자</th>\n",
       "      <th>기준연월</th>\n",
       "    </tr>\n",
       "  </thead>\n",
       "  <tbody>\n",
       "    <tr>\n",
       "      <th>0</th>\n",
       "      <td>20230418.0</td>\n",
       "      <td>2023.04</td>\n",
       "    </tr>\n",
       "    <tr>\n",
       "      <th>1</th>\n",
       "      <td>20230419.0</td>\n",
       "      <td>2023.04</td>\n",
       "    </tr>\n",
       "    <tr>\n",
       "      <th>2</th>\n",
       "      <td>20230316.0</td>\n",
       "      <td>2023.03</td>\n",
       "    </tr>\n",
       "    <tr>\n",
       "      <th>3</th>\n",
       "      <td>20230324.0</td>\n",
       "      <td>2023.03</td>\n",
       "    </tr>\n",
       "    <tr>\n",
       "      <th>4</th>\n",
       "      <td>20230510.0</td>\n",
       "      <td>2023.05</td>\n",
       "    </tr>\n",
       "  </tbody>\n",
       "</table>\n",
       "</div>"
      ],
      "text/plain": [
       "         말소일자     기준연월\n",
       "0  20230418.0  2023.04\n",
       "1  20230419.0  2023.04\n",
       "2  20230316.0  2023.03\n",
       "3  20230324.0  2023.03\n",
       "4  20230510.0  2023.05"
      ]
     },
     "execution_count": 135,
     "metadata": {},
     "output_type": "execute_result"
    }
   ],
   "source": [
    "df1.loc[df1['조기폐차최종승인YN'] == 'Y', ['말소일자', '기준연월']].head()"
   ]
  },
  {
   "cell_type": "code",
   "execution_count": 136,
   "metadata": {},
   "outputs": [
    {
     "data": {
      "text/html": [
       "<div>\n",
       "<style scoped>\n",
       "    .dataframe tbody tr th:only-of-type {\n",
       "        vertical-align: middle;\n",
       "    }\n",
       "\n",
       "    .dataframe tbody tr th {\n",
       "        vertical-align: top;\n",
       "    }\n",
       "\n",
       "    .dataframe thead th {\n",
       "        text-align: right;\n",
       "    }\n",
       "</style>\n",
       "<table border=\"1\" class=\"dataframe\">\n",
       "  <thead>\n",
       "    <tr style=\"text-align: right;\">\n",
       "      <th></th>\n",
       "      <th>말소일자</th>\n",
       "      <th>기준연월</th>\n",
       "    </tr>\n",
       "  </thead>\n",
       "  <tbody>\n",
       "    <tr>\n",
       "      <th>0</th>\n",
       "      <td>20230418.0</td>\n",
       "      <td>2023.04</td>\n",
       "    </tr>\n",
       "    <tr>\n",
       "      <th>1</th>\n",
       "      <td>20230419.0</td>\n",
       "      <td>2023.04</td>\n",
       "    </tr>\n",
       "    <tr>\n",
       "      <th>2</th>\n",
       "      <td>20230316.0</td>\n",
       "      <td>2023.03</td>\n",
       "    </tr>\n",
       "    <tr>\n",
       "      <th>3</th>\n",
       "      <td>20230324.0</td>\n",
       "      <td>2023.03</td>\n",
       "    </tr>\n",
       "    <tr>\n",
       "      <th>4</th>\n",
       "      <td>20230510.0</td>\n",
       "      <td>2023.05</td>\n",
       "    </tr>\n",
       "  </tbody>\n",
       "</table>\n",
       "</div>"
      ],
      "text/plain": [
       "         말소일자     기준연월\n",
       "0  20230418.0  2023.04\n",
       "1  20230419.0  2023.04\n",
       "2  20230316.0  2023.03\n",
       "3  20230324.0  2023.03\n",
       "4  20230510.0  2023.05"
      ]
     },
     "execution_count": 136,
     "metadata": {},
     "output_type": "execute_result"
    }
   ],
   "source": [
    "df1[['말소일자', '기준연월']].head()"
   ]
  },
  {
   "cell_type": "code",
   "execution_count": 137,
   "metadata": {},
   "outputs": [
    {
     "data": {
      "text/html": [
       "<div>\n",
       "<style scoped>\n",
       "    .dataframe tbody tr th:only-of-type {\n",
       "        vertical-align: middle;\n",
       "    }\n",
       "\n",
       "    .dataframe tbody tr th {\n",
       "        vertical-align: top;\n",
       "    }\n",
       "\n",
       "    .dataframe thead th {\n",
       "        text-align: right;\n",
       "    }\n",
       "</style>\n",
       "<table border=\"1\" class=\"dataframe\">\n",
       "  <thead>\n",
       "    <tr style=\"text-align: right;\">\n",
       "      <th></th>\n",
       "      <th>말소일자</th>\n",
       "      <th>기준연월</th>\n",
       "    </tr>\n",
       "  </thead>\n",
       "  <tbody>\n",
       "    <tr>\n",
       "      <th>1411491</th>\n",
       "      <td>NaN</td>\n",
       "      <td>NaN</td>\n",
       "    </tr>\n",
       "    <tr>\n",
       "      <th>1411492</th>\n",
       "      <td>NaN</td>\n",
       "      <td>NaN</td>\n",
       "    </tr>\n",
       "    <tr>\n",
       "      <th>1411493</th>\n",
       "      <td>NaN</td>\n",
       "      <td>NaN</td>\n",
       "    </tr>\n",
       "    <tr>\n",
       "      <th>1411494</th>\n",
       "      <td>NaN</td>\n",
       "      <td>NaN</td>\n",
       "    </tr>\n",
       "    <tr>\n",
       "      <th>1411495</th>\n",
       "      <td>NaN</td>\n",
       "      <td>NaN</td>\n",
       "    </tr>\n",
       "  </tbody>\n",
       "</table>\n",
       "</div>"
      ],
      "text/plain": [
       "        말소일자 기준연월\n",
       "1411491  NaN  NaN\n",
       "1411492  NaN  NaN\n",
       "1411493  NaN  NaN\n",
       "1411494  NaN  NaN\n",
       "1411495  NaN  NaN"
      ]
     },
     "execution_count": 137,
     "metadata": {},
     "output_type": "execute_result"
    }
   ],
   "source": [
    "df1[['말소일자', '기준연월']].tail()"
   ]
  },
  {
   "cell_type": "code",
   "execution_count": 138,
   "metadata": {},
   "outputs": [
    {
     "data": {
      "text/html": [
       "<div>\n",
       "<style scoped>\n",
       "    .dataframe tbody tr th:only-of-type {\n",
       "        vertical-align: middle;\n",
       "    }\n",
       "\n",
       "    .dataframe tbody tr th {\n",
       "        vertical-align: top;\n",
       "    }\n",
       "\n",
       "    .dataframe thead th {\n",
       "        text-align: right;\n",
       "    }\n",
       "</style>\n",
       "<table border=\"1\" class=\"dataframe\">\n",
       "  <thead>\n",
       "    <tr style=\"text-align: right;\">\n",
       "      <th></th>\n",
       "      <th>말소일자</th>\n",
       "      <th>기준연월</th>\n",
       "    </tr>\n",
       "  </thead>\n",
       "  <tbody>\n",
       "    <tr>\n",
       "      <th>2307</th>\n",
       "      <td>20320601.0</td>\n",
       "      <td>2032.06</td>\n",
       "    </tr>\n",
       "    <tr>\n",
       "      <th>8238</th>\n",
       "      <td>20240410.0</td>\n",
       "      <td>2024.04</td>\n",
       "    </tr>\n",
       "    <tr>\n",
       "      <th>12991</th>\n",
       "      <td>20320526.0</td>\n",
       "      <td>2032.05</td>\n",
       "    </tr>\n",
       "    <tr>\n",
       "      <th>13500</th>\n",
       "      <td>20320418.0</td>\n",
       "      <td>2032.04</td>\n",
       "    </tr>\n",
       "    <tr>\n",
       "      <th>18023</th>\n",
       "      <td>20320406.0</td>\n",
       "      <td>2032.04</td>\n",
       "    </tr>\n",
       "    <tr>\n",
       "      <th>19929</th>\n",
       "      <td>20320419.0</td>\n",
       "      <td>2032.04</td>\n",
       "    </tr>\n",
       "    <tr>\n",
       "      <th>21856</th>\n",
       "      <td>20320511.0</td>\n",
       "      <td>2032.05</td>\n",
       "    </tr>\n",
       "    <tr>\n",
       "      <th>26086</th>\n",
       "      <td>20320413.0</td>\n",
       "      <td>2032.04</td>\n",
       "    </tr>\n",
       "    <tr>\n",
       "      <th>28238</th>\n",
       "      <td>20320526.0</td>\n",
       "      <td>2032.05</td>\n",
       "    </tr>\n",
       "    <tr>\n",
       "      <th>28886</th>\n",
       "      <td>20320526.0</td>\n",
       "      <td>2032.05</td>\n",
       "    </tr>\n",
       "  </tbody>\n",
       "</table>\n",
       "</div>"
      ],
      "text/plain": [
       "             말소일자     기준연월\n",
       "2307   20320601.0  2032.06\n",
       "8238   20240410.0  2024.04\n",
       "12991  20320526.0  2032.05\n",
       "13500  20320418.0  2032.04\n",
       "18023  20320406.0  2032.04\n",
       "19929  20320419.0  2032.04\n",
       "21856  20320511.0  2032.05\n",
       "26086  20320413.0  2032.04\n",
       "28238  20320526.0  2032.05\n",
       "28886  20320526.0  2032.05"
      ]
     },
     "execution_count": 138,
     "metadata": {},
     "output_type": "execute_result"
    }
   ],
   "source": [
    "df1.loc[df1['말소일자'] > '20240000', ['말소일자', '기준연월']]"
   ]
  },
  {
   "cell_type": "code",
   "execution_count": 139,
   "metadata": {},
   "outputs": [
    {
     "data": {
      "text/plain": [
       "NaN    1380713\n",
       "Y        30704\n",
       "D           78\n",
       "M            1\n",
       "Name: 조기폐차상태코드, dtype: int64"
      ]
     },
     "execution_count": 139,
     "metadata": {},
     "output_type": "execute_result"
    }
   ],
   "source": [
    "df1['조기폐차상태코드'].value_counts(dropna=False)"
   ]
  },
  {
   "cell_type": "code",
   "execution_count": 140,
   "metadata": {},
   "outputs": [
    {
     "data": {
      "text/plain": [
       "count          30783\n",
       "unique           127\n",
       "top       20230421.0\n",
       "freq             586\n",
       "Name: 말소일자, dtype: object"
      ]
     },
     "execution_count": 140,
     "metadata": {},
     "output_type": "execute_result"
    }
   ],
   "source": [
    "df1['말소일자'].describe()"
   ]
  },
  {
   "cell_type": "code",
   "execution_count": 141,
   "metadata": {},
   "outputs": [
    {
     "name": "stderr",
     "output_type": "stream",
     "text": [
      "C:\\Users\\kbjung\\AppData\\Local\\Temp\\ipykernel_8996\\418032686.py:3: FutureWarning: Treating datetime data as categorical rather than numeric in `.describe` is deprecated and will be removed in a future version of pandas. Specify `datetime_is_numeric=True` to silence this warning and adopt the future behavior now.\n",
      "  temp['말소일자'].describe()\n"
     ]
    },
    {
     "data": {
      "text/plain": [
       "count                   30783\n",
       "unique                    127\n",
       "top       2023-04-21 00:00:00\n",
       "freq                      586\n",
       "first     2020-12-10 00:00:00\n",
       "last      2032-06-01 00:00:00\n",
       "Name: 말소일자, dtype: object"
      ]
     },
     "execution_count": 141,
     "metadata": {},
     "output_type": "execute_result"
    }
   ],
   "source": [
    "temp = df1.copy()\n",
    "temp['말소일자'] = pd.to_datetime(temp['말소일자'], format='%Y%m%d', errors='coerce')\n",
    "temp['말소일자'].describe()"
   ]
  },
  {
   "cell_type": "code",
   "execution_count": 142,
   "metadata": {},
   "outputs": [
    {
     "data": {
      "text/plain": [
       "1380713"
      ]
     },
     "execution_count": 142,
     "metadata": {},
     "output_type": "execute_result"
    }
   ],
   "source": [
    "df1['말소일자'].isnull().sum()"
   ]
  },
  {
   "cell_type": "code",
   "execution_count": 143,
   "metadata": {},
   "outputs": [
    {
     "data": {
      "text/plain": [
       "(1, 29)"
      ]
     },
     "execution_count": 143,
     "metadata": {},
     "output_type": "execute_result"
    }
   ],
   "source": [
    "df1[df1['말소일자'] < '20230201'].shape"
   ]
  },
  {
   "cell_type": "code",
   "execution_count": 144,
   "metadata": {},
   "outputs": [
    {
     "data": {
      "text/plain": [
       "'20231026'"
      ]
     },
     "execution_count": 144,
     "metadata": {},
     "output_type": "execute_result"
    }
   ],
   "source": [
    "today_date = datetime.today().strftime(\"%Y%m%d\")\n",
    "today_date"
   ]
  },
  {
   "cell_type": "code",
   "execution_count": 145,
   "metadata": {},
   "outputs": [
    {
     "data": {
      "text/plain": [
       "(10, 29)"
      ]
     },
     "execution_count": 145,
     "metadata": {},
     "output_type": "execute_result"
    }
   ],
   "source": [
    "df1[df1['말소일자'] > today_date].shape"
   ]
  },
  {
   "cell_type": "code",
   "execution_count": 146,
   "metadata": {},
   "outputs": [
    {
     "data": {
      "text/plain": [
       "2307     20320601.0\n",
       "8238     20240410.0\n",
       "12991    20320526.0\n",
       "13500    20320418.0\n",
       "18023    20320406.0\n",
       "19929    20320419.0\n",
       "21856    20320511.0\n",
       "26086    20320413.0\n",
       "28238    20320526.0\n",
       "28886    20320526.0\n",
       "Name: 말소일자, dtype: object"
      ]
     },
     "execution_count": 146,
     "metadata": {},
     "output_type": "execute_result"
    }
   ],
   "source": [
    "df1.loc[df1['말소일자'] > today_date, '말소일자']"
   ]
  },
  {
   "cell_type": "code",
   "execution_count": 147,
   "metadata": {},
   "outputs": [
    {
     "data": {
      "text/plain": [
       "(1411496, 29)"
      ]
     },
     "execution_count": 147,
     "metadata": {},
     "output_type": "execute_result"
    }
   ],
   "source": [
    "df1.shape"
   ]
  },
  {
   "cell_type": "code",
   "execution_count": 148,
   "metadata": {},
   "outputs": [
    {
     "data": {
      "text/plain": [
       "(1411485, 29)"
      ]
     },
     "execution_count": 148,
     "metadata": {},
     "output_type": "execute_result"
    }
   ],
   "source": [
    "df1[(df1['말소일자'] >= '20230201') & (df1['말소일자'] <= today_date) | (df1['말소일자'].isnull())].shape"
   ]
  },
  {
   "cell_type": "code",
   "execution_count": 149,
   "metadata": {},
   "outputs": [
    {
     "data": {
      "text/plain": [
       "(1411485, 29)"
      ]
     },
     "execution_count": 149,
     "metadata": {},
     "output_type": "execute_result"
    }
   ],
   "source": [
    "df1 = df1[(df1['말소일자'] >= '20230201') & (df1['말소일자'] <= today_date) | (df1['말소일자'].isnull())].reset_index(drop=True)\n",
    "df1.shape"
   ]
  },
  {
   "cell_type": "code",
   "execution_count": 150,
   "metadata": {},
   "outputs": [],
   "source": [
    "STD_BD_GRD4_ELPDSRC_CURSTT = df1[[\n",
    "    '기준연월', \n",
    "    '차대번호', \n",
    "    '법정동코드', \n",
    "    '차종', \n",
    "    '용도', \n",
    "    '연료', \n",
    "    '차종유형', \n",
    "    '시도',\n",
    "    '시군구', \n",
    "    '조기폐차상태코드', \n",
    "    '조기폐차최종승인YN',\n",
    "]]"
   ]
  },
  {
   "cell_type": "code",
   "execution_count": 151,
   "metadata": {},
   "outputs": [
    {
     "name": "stderr",
     "output_type": "stream",
     "text": [
      "C:\\Users\\kbjung\\AppData\\Local\\Temp\\ipykernel_8996\\2309398753.py:1: SettingWithCopyWarning: \n",
      "A value is trying to be set on a copy of a slice from a DataFrame.\n",
      "Try using .loc[row_indexer,col_indexer] = value instead\n",
      "\n",
      "See the caveats in the documentation: https://pandas.pydata.org/pandas-docs/stable/user_guide/indexing.html#returning-a-view-versus-a-copy\n",
      "  STD_BD_GRD4_ELPDSRC_CURSTT['테이블생성일자'] = today_date\n"
     ]
    }
   ],
   "source": [
    "STD_BD_GRD4_ELPDSRC_CURSTT['테이블생성일자'] = today_date"
   ]
  },
  {
   "cell_type": "code",
   "execution_count": 152,
   "metadata": {},
   "outputs": [],
   "source": [
    "STD_BD_GRD4_ELPDSRC_CURSTT = STD_BD_GRD4_ELPDSRC_CURSTT[[\n",
    "    '기준연월', \n",
    "    '차대번호', \n",
    "    '법정동코드', \n",
    "    '차종', \n",
    "    '용도', \n",
    "    '연료', \n",
    "    '차종유형', \n",
    "    '시도', \n",
    "    '시군구', \n",
    "    '조기폐차상태코드', \n",
    "    '조기폐차최종승인YN', \n",
    "    '테이블생성일자', \n",
    "]]"
   ]
  },
  {
   "cell_type": "code",
   "execution_count": 153,
   "metadata": {},
   "outputs": [],
   "source": [
    "chc_dict = {\n",
    "    '기준연월':'CRTR_YM', \n",
    "    '차대번호':'VIN', \n",
    "    '법정동코드':'STDG_CD', \n",
    "    '차종':'VHCTY_CD', \n",
    "    '용도':'PURPS_CD2', \n",
    "    '연료':'FUEL_CD', \n",
    "    '차종유형':'VHCTY_TY', \n",
    "    '시도':'CTPV', \n",
    "    '시군구':'SGG', \n",
    "    '조기폐차상태코드':'ELPDSRC_STTS_CD', \n",
    "    '조기폐차최종승인YN':'ELPDSRC_LAST_APRV_YN', \n",
    "    '테이블생성일자':'LOAD_DT', \n",
    "}"
   ]
  },
  {
   "cell_type": "code",
   "execution_count": 154,
   "metadata": {},
   "outputs": [
    {
     "data": {
      "text/plain": [
       "Index(['CRTR_YM', 'VIN', 'STDG_CD', 'VHCTY_CD', 'PURPS_CD2', 'FUEL_CD',\n",
       "       'VHCTY_TY', 'CTPV', 'SGG', 'ELPDSRC_STTS_CD', 'ELPDSRC_LAST_APRV_YN',\n",
       "       'LOAD_DT'],\n",
       "      dtype='object')"
      ]
     },
     "execution_count": 154,
     "metadata": {},
     "output_type": "execute_result"
    }
   ],
   "source": [
    "STD_BD_GRD4_ELPDSRC_CURSTT = STD_BD_GRD4_ELPDSRC_CURSTT.rename(columns=chc_dict)\n",
    "STD_BD_GRD4_ELPDSRC_CURSTT.columns"
   ]
  },
  {
   "cell_type": "code",
   "execution_count": 155,
   "metadata": {},
   "outputs": [
    {
     "data": {
      "text/html": [
       "<div>\n",
       "<style scoped>\n",
       "    .dataframe tbody tr th:only-of-type {\n",
       "        vertical-align: middle;\n",
       "    }\n",
       "\n",
       "    .dataframe tbody tr th {\n",
       "        vertical-align: top;\n",
       "    }\n",
       "\n",
       "    .dataframe thead th {\n",
       "        text-align: right;\n",
       "    }\n",
       "</style>\n",
       "<table border=\"1\" class=\"dataframe\">\n",
       "  <thead>\n",
       "    <tr style=\"text-align: right;\">\n",
       "      <th></th>\n",
       "      <th>CRTR_YM</th>\n",
       "      <th>VIN</th>\n",
       "      <th>STDG_CD</th>\n",
       "      <th>VHCTY_CD</th>\n",
       "      <th>PURPS_CD2</th>\n",
       "      <th>FUEL_CD</th>\n",
       "      <th>VHCTY_TY</th>\n",
       "      <th>CTPV</th>\n",
       "      <th>SGG</th>\n",
       "      <th>ELPDSRC_STTS_CD</th>\n",
       "      <th>ELPDSRC_LAST_APRV_YN</th>\n",
       "      <th>LOAD_DT</th>\n",
       "    </tr>\n",
       "  </thead>\n",
       "  <tbody>\n",
       "    <tr>\n",
       "      <th>0</th>\n",
       "      <td>2023.04</td>\n",
       "      <td>KMHSJ81XBAU555611</td>\n",
       "      <td>2826000000</td>\n",
       "      <td>승용</td>\n",
       "      <td>개인용</td>\n",
       "      <td>경유</td>\n",
       "      <td>대형</td>\n",
       "      <td>인천광역시</td>\n",
       "      <td>서구</td>\n",
       "      <td>Y</td>\n",
       "      <td>Y</td>\n",
       "      <td>20231026</td>\n",
       "    </tr>\n",
       "    <tr>\n",
       "      <th>1</th>\n",
       "      <td>2023.04</td>\n",
       "      <td>KMJWAH7JP8U033092</td>\n",
       "      <td>4148000000</td>\n",
       "      <td>승합</td>\n",
       "      <td>개인용</td>\n",
       "      <td>경유</td>\n",
       "      <td>중형</td>\n",
       "      <td>경기도</td>\n",
       "      <td>파주시</td>\n",
       "      <td>Y</td>\n",
       "      <td>Y</td>\n",
       "      <td>20231026</td>\n",
       "    </tr>\n",
       "    <tr>\n",
       "      <th>2</th>\n",
       "      <td>2023.03</td>\n",
       "      <td>KMHJN81VP7U573542</td>\n",
       "      <td>2814000000</td>\n",
       "      <td>승용</td>\n",
       "      <td>개인용</td>\n",
       "      <td>경유</td>\n",
       "      <td>중형</td>\n",
       "      <td>인천광역시</td>\n",
       "      <td>동구</td>\n",
       "      <td>Y</td>\n",
       "      <td>Y</td>\n",
       "      <td>20231026</td>\n",
       "    </tr>\n",
       "    <tr>\n",
       "      <th>3</th>\n",
       "      <td>2023.03</td>\n",
       "      <td>KNAJE55537K304711</td>\n",
       "      <td>2811000000</td>\n",
       "      <td>승용</td>\n",
       "      <td>개인용</td>\n",
       "      <td>경유</td>\n",
       "      <td>중형</td>\n",
       "      <td>인천광역시</td>\n",
       "      <td>중구</td>\n",
       "      <td>Y</td>\n",
       "      <td>Y</td>\n",
       "      <td>20231026</td>\n",
       "    </tr>\n",
       "    <tr>\n",
       "      <th>4</th>\n",
       "      <td>2023.05</td>\n",
       "      <td>KN3HNP4D26K140539</td>\n",
       "      <td>4413100000</td>\n",
       "      <td>화물</td>\n",
       "      <td>개인용</td>\n",
       "      <td>경유</td>\n",
       "      <td>소형</td>\n",
       "      <td>충청남도</td>\n",
       "      <td>천안시</td>\n",
       "      <td>Y</td>\n",
       "      <td>Y</td>\n",
       "      <td>20231026</td>\n",
       "    </tr>\n",
       "  </tbody>\n",
       "</table>\n",
       "</div>"
      ],
      "text/plain": [
       "   CRTR_YM                VIN     STDG_CD VHCTY_CD PURPS_CD2 FUEL_CD VHCTY_TY  \\\n",
       "0  2023.04  KMHSJ81XBAU555611  2826000000       승용       개인용      경유       대형   \n",
       "1  2023.04  KMJWAH7JP8U033092  4148000000       승합       개인용      경유       중형   \n",
       "2  2023.03  KMHJN81VP7U573542  2814000000       승용       개인용      경유       중형   \n",
       "3  2023.03  KNAJE55537K304711  2811000000       승용       개인용      경유       중형   \n",
       "4  2023.05  KN3HNP4D26K140539  4413100000       화물       개인용      경유       소형   \n",
       "\n",
       "    CTPV  SGG ELPDSRC_STTS_CD ELPDSRC_LAST_APRV_YN   LOAD_DT  \n",
       "0  인천광역시   서구               Y                    Y  20231026  \n",
       "1    경기도  파주시               Y                    Y  20231026  \n",
       "2  인천광역시   동구               Y                    Y  20231026  \n",
       "3  인천광역시   중구               Y                    Y  20231026  \n",
       "4   충청남도  천안시               Y                    Y  20231026  "
      ]
     },
     "execution_count": 155,
     "metadata": {},
     "output_type": "execute_result"
    }
   ],
   "source": [
    "STD_BD_GRD4_ELPDSRC_CURSTT.head()"
   ]
  },
  {
   "cell_type": "markdown",
   "metadata": {},
   "source": [
    "### [출력] STD_BD_GRD4_ELPDSRC_CURSTT"
   ]
  },
  {
   "cell_type": "code",
   "execution_count": 156,
   "metadata": {},
   "outputs": [],
   "source": [
    "# expdf = STD_BD_GRD4_ELPDSRC_CURSTT\n",
    "# table_nm = 'STD_BD_GRD4_ELPDSRC_CURSTT'.upper()\n",
    "\n",
    "# # 테이블 생성\n",
    "# sql = 'create or replace table ' + table_nm + '( \\n'\n",
    "\n",
    "# for idx,column in enumerate(expdf.columns):\n",
    "#     # if 'float' in expdf[column].dtype.name:\n",
    "#     #     sql += column + ' float'\n",
    "#     # elif 'int' in expdf[column].dtype.name:\n",
    "#     #     sql += column + ' number'\n",
    "#     # else:\n",
    "#     sql += column + ' varchar(255)'\n",
    "\n",
    "#     if len(expdf.columns) - 1 != idx:\n",
    "#         sql += ','\n",
    "#     sql += '\\n'\n",
    "# sql += ')'    \n",
    "# we.execute(sql)\n",
    "\n",
    "# # 데이터 추가\n",
    "# # 5s\n",
    "# we.import_from_pandas(expdf, table_nm)"
   ]
  },
  {
   "cell_type": "code",
   "execution_count": 157,
   "metadata": {},
   "outputs": [],
   "source": [
    "# # 7s\n",
    "# STD_BD_GRD4_ELPDSRC_CURSTT.to_csv(os.path.join(df1_fold, 'STD_BD_GRD4_ELPDSRC_CURSTT.csv'), index=False)"
   ]
  },
  {
   "cell_type": "markdown",
   "metadata": {},
   "source": [
    "## 4등급 조기폐차 현재 상태코드 현황( !!! 수정(2023.10.26) )"
   ]
  },
  {
   "cell_type": "code",
   "execution_count": 158,
   "metadata": {},
   "outputs": [
    {
     "data": {
      "text/plain": [
       "NaN    1869414\n",
       "Y        30694\n",
       "G         6633\n",
       "D           78\n",
       "M            2\n",
       "C            1\n",
       "N            1\n",
       "Name: 조기폐차상태코드, dtype: int64"
      ]
     },
     "execution_count": 158,
     "metadata": {},
     "output_type": "execute_result"
    }
   ],
   "source": [
    "csece_rct['조기폐차상태코드'].value_counts(dropna=False)"
   ]
  },
  {
   "cell_type": "code",
   "execution_count": 159,
   "metadata": {},
   "outputs": [
    {
     "data": {
      "text/plain": [
       "경유             1411496\n",
       "휘발유             457086\n",
       "LPG(액화석유가스)      38133\n",
       "NaN                 60\n",
       "기타연료                37\n",
       "CNG(압축천연가스)         10\n",
       "알코올                  1\n",
       "Name: 연료, dtype: int64"
      ]
     },
     "execution_count": 159,
     "metadata": {},
     "output_type": "execute_result"
    }
   ],
   "source": [
    "csece_rct['연료'].value_counts(dropna=False)"
   ]
  },
  {
   "cell_type": "code",
   "execution_count": 160,
   "metadata": {},
   "outputs": [
    {
     "data": {
      "text/plain": [
       "(1411496, 25)"
      ]
     },
     "execution_count": 160,
     "metadata": {},
     "output_type": "execute_result"
    }
   ],
   "source": [
    "csece_rct_dgl = csece_rct[csece_rct['연료'] == '경유'].reset_index(drop=True)\n",
    "csece_rct_dgl.shape"
   ]
  },
  {
   "cell_type": "code",
   "execution_count": 161,
   "metadata": {},
   "outputs": [
    {
     "data": {
      "text/plain": [
       "NaN    1374087\n",
       "Y        30694\n",
       "G         6633\n",
       "D           78\n",
       "M            2\n",
       "C            1\n",
       "N            1\n",
       "Name: 조기폐차상태코드, dtype: int64"
      ]
     },
     "execution_count": 161,
     "metadata": {},
     "output_type": "execute_result"
    }
   ],
   "source": [
    "csece_rct_dgl['조기폐차상태코드'].value_counts(dropna=False)"
   ]
  },
  {
   "cell_type": "code",
   "execution_count": 162,
   "metadata": {},
   "outputs": [
    {
     "data": {
      "text/plain": [
       "조기폐차최종승인YN\n",
       "Y             30773\n",
       "NaN            6635\n",
       "N                 1\n",
       "dtype: int64"
      ]
     },
     "execution_count": 162,
     "metadata": {},
     "output_type": "execute_result"
    }
   ],
   "source": [
    "csece_rct_dgl.loc[csece_rct_dgl['조기폐차상태코드'].notnull(), ['조기폐차최종승인YN']].value_counts(dropna=False)"
   ]
  },
  {
   "cell_type": "code",
   "execution_count": 163,
   "metadata": {},
   "outputs": [
    {
     "data": {
      "text/plain": [
       "Index(['자동차등록번호', '차대번호', '법정동코드', '배출가스등급', '배출가스인증번호', '차량말소YN', '제원관리번호',\n",
       "       '차량연식', '차종', '용도', '최초등록일자', '제작일자', '차량관리번호', '연료', '차종유형', '제작사명',\n",
       "       '차명', '자동차형식', '엔진형식', '시도', '시군구', '조기폐차상태코드', '조기폐차최종승인YN', '말소일자',\n",
       "       '조기폐차신청여부'],\n",
       "      dtype='object')"
      ]
     },
     "execution_count": 163,
     "metadata": {},
     "output_type": "execute_result"
    }
   ],
   "source": [
    "csece_rct_dgl.columns"
   ]
  },
  {
   "cell_type": "code",
   "execution_count": 164,
   "metadata": {},
   "outputs": [],
   "source": [
    "STD_BD_GRD4_NOW_ELPDSRC_CURSTT = csece_rct_dgl[[\n",
    "    '차대번호', \n",
    "    '법정동코드', \n",
    "    # '차종', \n",
    "    # '용도', \n",
    "    '연료', \n",
    "    # '차종유형', \n",
    "    '시도',\n",
    "    '시군구', \n",
    "    '조기폐차상태코드', \n",
    "    '조기폐차최종승인YN',\n",
    "]]"
   ]
  },
  {
   "cell_type": "code",
   "execution_count": 165,
   "metadata": {},
   "outputs": [
    {
     "name": "stderr",
     "output_type": "stream",
     "text": [
      "C:\\Users\\kbjung\\AppData\\Local\\Temp\\ipykernel_8996\\3872026400.py:1: SettingWithCopyWarning: \n",
      "A value is trying to be set on a copy of a slice from a DataFrame.\n",
      "Try using .loc[row_indexer,col_indexer] = value instead\n",
      "\n",
      "See the caveats in the documentation: https://pandas.pydata.org/pandas-docs/stable/user_guide/indexing.html#returning-a-view-versus-a-copy\n",
      "  STD_BD_GRD4_NOW_ELPDSRC_CURSTT['테이블생성일자'] = today_date\n"
     ]
    }
   ],
   "source": [
    "STD_BD_GRD4_NOW_ELPDSRC_CURSTT['테이블생성일자'] = today_date"
   ]
  },
  {
   "cell_type": "code",
   "execution_count": 166,
   "metadata": {},
   "outputs": [],
   "source": [
    "STD_BD_GRD4_NOW_ELPDSRC_CURSTT = STD_BD_GRD4_NOW_ELPDSRC_CURSTT[[\n",
    "    '차대번호', \n",
    "    '법정동코드', \n",
    "    # '차종', \n",
    "    # '용도', \n",
    "    '연료', \n",
    "    # '차종유형', \n",
    "    '시도', \n",
    "    '시군구', \n",
    "    '조기폐차상태코드', \n",
    "    '조기폐차최종승인YN', \n",
    "    '테이블생성일자', \n",
    "]]"
   ]
  },
  {
   "cell_type": "code",
   "execution_count": 167,
   "metadata": {},
   "outputs": [],
   "source": [
    "chc_dict = {\n",
    "    # '기준연월':'CRTR_YM', \n",
    "    '차대번호':'VIN', \n",
    "    '법정동코드':'STDG_CD', \n",
    "    # '차종':'VHCTY_CD', \n",
    "    # '용도':'PURPS_CD2', \n",
    "    '연료':'FUEL_CD', \n",
    "    # '차종유형':'VHCTY_TY', \n",
    "    '시도':'CTPV', \n",
    "    '시군구':'SGG', \n",
    "    '조기폐차상태코드':'ELPDSRC_STTS_CD', \n",
    "    '조기폐차최종승인YN':'ELPDSRC_LAST_APRV_YN', \n",
    "    '테이블생성일자':'LOAD_DT', \n",
    "}"
   ]
  },
  {
   "cell_type": "code",
   "execution_count": 168,
   "metadata": {},
   "outputs": [
    {
     "data": {
      "text/plain": [
       "Index(['VIN', 'STDG_CD', 'FUEL_CD', 'CTPV', 'SGG', 'ELPDSRC_STTS_CD',\n",
       "       'ELPDSRC_LAST_APRV_YN', 'LOAD_DT'],\n",
       "      dtype='object')"
      ]
     },
     "execution_count": 168,
     "metadata": {},
     "output_type": "execute_result"
    }
   ],
   "source": [
    "STD_BD_GRD4_NOW_ELPDSRC_CURSTT = STD_BD_GRD4_NOW_ELPDSRC_CURSTT.rename(columns=chc_dict)\n",
    "STD_BD_GRD4_NOW_ELPDSRC_CURSTT.columns"
   ]
  },
  {
   "cell_type": "code",
   "execution_count": 169,
   "metadata": {},
   "outputs": [
    {
     "data": {
      "text/html": [
       "<div>\n",
       "<style scoped>\n",
       "    .dataframe tbody tr th:only-of-type {\n",
       "        vertical-align: middle;\n",
       "    }\n",
       "\n",
       "    .dataframe tbody tr th {\n",
       "        vertical-align: top;\n",
       "    }\n",
       "\n",
       "    .dataframe thead th {\n",
       "        text-align: right;\n",
       "    }\n",
       "</style>\n",
       "<table border=\"1\" class=\"dataframe\">\n",
       "  <thead>\n",
       "    <tr style=\"text-align: right;\">\n",
       "      <th></th>\n",
       "      <th>VIN</th>\n",
       "      <th>STDG_CD</th>\n",
       "      <th>FUEL_CD</th>\n",
       "      <th>CTPV</th>\n",
       "      <th>SGG</th>\n",
       "      <th>ELPDSRC_STTS_CD</th>\n",
       "      <th>ELPDSRC_LAST_APRV_YN</th>\n",
       "      <th>LOAD_DT</th>\n",
       "    </tr>\n",
       "  </thead>\n",
       "  <tbody>\n",
       "    <tr>\n",
       "      <th>0</th>\n",
       "      <td>KMHSJ81XBAU555611</td>\n",
       "      <td>2826000000</td>\n",
       "      <td>경유</td>\n",
       "      <td>인천광역시</td>\n",
       "      <td>서구</td>\n",
       "      <td>Y</td>\n",
       "      <td>Y</td>\n",
       "      <td>20231026</td>\n",
       "    </tr>\n",
       "    <tr>\n",
       "      <th>1</th>\n",
       "      <td>KMFZSY7JACU767880</td>\n",
       "      <td>4374000000</td>\n",
       "      <td>경유</td>\n",
       "      <td>충청북도</td>\n",
       "      <td>영동군</td>\n",
       "      <td>NaN</td>\n",
       "      <td>NaN</td>\n",
       "      <td>20231026</td>\n",
       "    </tr>\n",
       "    <tr>\n",
       "      <th>2</th>\n",
       "      <td>KMFZSX7JABU684137</td>\n",
       "      <td>4374000000</td>\n",
       "      <td>경유</td>\n",
       "      <td>충청북도</td>\n",
       "      <td>영동군</td>\n",
       "      <td>NaN</td>\n",
       "      <td>NaN</td>\n",
       "      <td>20231026</td>\n",
       "    </tr>\n",
       "    <tr>\n",
       "      <th>3</th>\n",
       "      <td>KNCSE06428K344169</td>\n",
       "      <td>4374000000</td>\n",
       "      <td>경유</td>\n",
       "      <td>충청북도</td>\n",
       "      <td>영동군</td>\n",
       "      <td>NaN</td>\n",
       "      <td>NaN</td>\n",
       "      <td>20231026</td>\n",
       "    </tr>\n",
       "    <tr>\n",
       "      <th>4</th>\n",
       "      <td>KMFZSY7JAAU673260</td>\n",
       "      <td>4374000000</td>\n",
       "      <td>경유</td>\n",
       "      <td>충청북도</td>\n",
       "      <td>영동군</td>\n",
       "      <td>NaN</td>\n",
       "      <td>NaN</td>\n",
       "      <td>20231026</td>\n",
       "    </tr>\n",
       "  </tbody>\n",
       "</table>\n",
       "</div>"
      ],
      "text/plain": [
       "                 VIN     STDG_CD FUEL_CD   CTPV  SGG ELPDSRC_STTS_CD  \\\n",
       "0  KMHSJ81XBAU555611  2826000000      경유  인천광역시   서구               Y   \n",
       "1  KMFZSY7JACU767880  4374000000      경유   충청북도  영동군             NaN   \n",
       "2  KMFZSX7JABU684137  4374000000      경유   충청북도  영동군             NaN   \n",
       "3  KNCSE06428K344169  4374000000      경유   충청북도  영동군             NaN   \n",
       "4  KMFZSY7JAAU673260  4374000000      경유   충청북도  영동군             NaN   \n",
       "\n",
       "  ELPDSRC_LAST_APRV_YN   LOAD_DT  \n",
       "0                    Y  20231026  \n",
       "1                  NaN  20231026  \n",
       "2                  NaN  20231026  \n",
       "3                  NaN  20231026  \n",
       "4                  NaN  20231026  "
      ]
     },
     "execution_count": 169,
     "metadata": {},
     "output_type": "execute_result"
    }
   ],
   "source": [
    "STD_BD_GRD4_NOW_ELPDSRC_CURSTT.head()"
   ]
  },
  {
   "cell_type": "code",
   "execution_count": 170,
   "metadata": {},
   "outputs": [
    {
     "data": {
      "text/plain": [
       "NaN    1374087\n",
       "Y        30694\n",
       "G         6633\n",
       "D           78\n",
       "M            2\n",
       "C            1\n",
       "N            1\n",
       "Name: ELPDSRC_STTS_CD, dtype: int64"
      ]
     },
     "execution_count": 170,
     "metadata": {},
     "output_type": "execute_result"
    }
   ],
   "source": [
    "# erase_dict = {\n",
    "#     'A32E':'조기폐차상태코드(추가보조금신청대상)',\n",
    "#     'A32G':'조기폐차상태코드(보조금청구)',\n",
    "#     'A32I':'조기폐차상태코드(신청등록)',\n",
    "#     'A32K':'조기폐차상태코드(추가보조금청구승인)',\n",
    "#     'A32M':'조기폐차상태코드(보조금산정)',\n",
    "#     'A32N':'조기폐차상태코드(보조금청구반려(제외))',\n",
    "#     'A32P':'조기폐차상태코드(보조금대상)',\n",
    "#     'A32T':'조기폐차상태코드(추가보조금청구)',\n",
    "#     'A32X':'조기폐차상태코드(신청취소(제외))',\n",
    "#     'A32Y':'조기폐차상태코드(보조금청구승인)',\n",
    "#     'A32C':'조기폐차상태코드(성능확인검사등록)',\n",
    "#     'A32D':'조기폐차상태코드(기간초과)',\n",
    "#     'A32A':'조기폐차상태코드(성능확인검사신청)',\n",
    "#     'A32B':'조기폐차상태코드(보조금미대상)',\n",
    "# }\n",
    "STD_BD_GRD4_NOW_ELPDSRC_CURSTT.ELPDSRC_STTS_CD.value_counts(dropna=False)"
   ]
  },
  {
   "cell_type": "markdown",
   "metadata": {},
   "source": [
    "### [출력] STD_BD_GRD4_NOW_ELPDSRC_CURSTT"
   ]
  },
  {
   "cell_type": "code",
   "execution_count": 171,
   "metadata": {},
   "outputs": [],
   "source": [
    "# expdf = STD_BD_GRD4_NOW_ELPDSRC_CURSTT\n",
    "# table_nm = 'STD_BD_GRD4_NOW_ELPDSRC_CURSTT'.upper()\n",
    "\n",
    "# # 테이블 생성\n",
    "# sql = 'create or replace table ' + table_nm + '( \\n'\n",
    "\n",
    "# for idx,column in enumerate(expdf.columns):\n",
    "#     # if 'float' in expdf[column].dtype.name:\n",
    "#     #     sql += column + ' float'\n",
    "#     # elif 'int' in expdf[column].dtype.name:\n",
    "#     #     sql += column + ' number'\n",
    "#     # else:\n",
    "#     sql += column + ' varchar(255)'\n",
    "\n",
    "#     if len(expdf.columns) - 1 != idx:\n",
    "#         sql += ','\n",
    "#     sql += '\\n'\n",
    "# sql += ')'    \n",
    "# we.execute(sql)\n",
    "\n",
    "# # 데이터 추가\n",
    "# # 5s\n",
    "# we.import_from_pandas(expdf, table_nm)"
   ]
  },
  {
   "cell_type": "code",
   "execution_count": 172,
   "metadata": {},
   "outputs": [],
   "source": [
    "# # 7s\n",
    "# STD_BD_GRD4_NOW_ELPDSRC_CURSTT.to_csv(os.path.join(df1_fold, 'STD_BD_GRD4_NOW_ELPDSRC_CURSTT.csv'), index=False)"
   ]
  },
  {
   "cell_type": "markdown",
   "metadata": {},
   "source": [
    "## 4등급 세분류"
   ]
  },
  {
   "cell_type": "code",
   "execution_count": 222,
   "metadata": {},
   "outputs": [
    {
     "data": {
      "text/plain": [
       "경유             1052802\n",
       "휘발유             313038\n",
       "LPG(액화석유가스)      24355\n",
       "NaN                 49\n",
       "기타연료                34\n",
       "CNG(압축천연가스)          1\n",
       "알코올                  1\n",
       "Name: 연료, dtype: int64"
      ]
     },
     "execution_count": 222,
     "metadata": {},
     "output_type": "execute_result"
    }
   ],
   "source": [
    "df['연료'].value_counts(dropna=False)"
   ]
  },
  {
   "cell_type": "markdown",
   "metadata": {},
   "source": [
    "### fuel 컬럼 추가"
   ]
  },
  {
   "cell_type": "code",
   "execution_count": 223,
   "metadata": {},
   "outputs": [],
   "source": [
    "df1 = df.copy()"
   ]
  },
  {
   "cell_type": "code",
   "execution_count": 224,
   "metadata": {},
   "outputs": [],
   "source": [
    "df1.loc[df1['연료'] == '경유', 'fuel'] = '경유'\n",
    "df1.loc[(df1['연료'] == '휘발유') | (df1['연료'] == 'LPG(액화석유가스)'), 'fuel'] = '휘발유_가스'"
   ]
  },
  {
   "cell_type": "code",
   "execution_count": 225,
   "metadata": {},
   "outputs": [
    {
     "data": {
      "text/plain": [
       "경유        1052802\n",
       "휘발유_가스     337393\n",
       "NaN            85\n",
       "Name: fuel, dtype: int64"
      ]
     },
     "execution_count": 225,
     "metadata": {},
     "output_type": "execute_result"
    }
   ],
   "source": [
    "df1['fuel'].value_counts(dropna=False)"
   ]
  },
  {
   "cell_type": "markdown",
   "metadata": {},
   "source": [
    "### EG 분류"
   ]
  },
  {
   "cell_type": "code",
   "execution_count": 226,
   "metadata": {},
   "outputs": [
    {
     "name": "stderr",
     "output_type": "stream",
     "text": [
      " 18%|█▊        | 247947/1390280 [00:00<00:02, 405682.53it/s]"
     ]
    },
    {
     "name": "stderr",
     "output_type": "stream",
     "text": [
      "100%|██████████| 1390280/1390280 [00:03<00:00, 418339.39it/s]\n"
     ]
    },
    {
     "data": {
      "text/plain": [
       "1390280"
      ]
     },
     "execution_count": 226,
     "metadata": {},
     "output_type": "execute_result"
    }
   ],
   "source": [
    "grade_list = []\n",
    "for f, y, cy, e in tqdm(df1[['fuel', '제작일자', '차량연식', 'DPF_YN']].values):\n",
    "    if (f == '휘발유_가스') and ( (19980101 <= y <= 20001231) or (1998 <= cy <= 2000) ):\n",
    "        grade_list.append('A')\n",
    "    elif (f == '휘발유_가스') and ( (y <= 19971231) or (cy <= 1997) ):\n",
    "        grade_list.append('B')\n",
    "    elif (f == '경유') and ( (y >= 20080101) or (cy >= 2008) ) and (e == '유'):\n",
    "        grade_list.append('A')\n",
    "    elif (f == '경유') and ( (y <= 20071231) or (cy <= 2007) )and (e == '유'):\n",
    "        grade_list.append('B')\n",
    "    elif (f == '경유') and ( (y >= 20080101) or (cy >= 2008) ) and (e == '무'):\n",
    "        grade_list.append('C')\n",
    "    elif (f == '경유') and ( (y <= 20071231) or (cy <= 2007) ) and (e == '무'):\n",
    "        grade_list.append('D')\n",
    "    else:\n",
    "        grade_list.append('X')\n",
    "len(grade_list)"
   ]
  },
  {
   "cell_type": "code",
   "execution_count": 227,
   "metadata": {},
   "outputs": [],
   "source": [
    "df1['EG'] = grade_list"
   ]
  },
  {
   "cell_type": "code",
   "execution_count": 228,
   "metadata": {},
   "outputs": [
    {
     "data": {
      "text/plain": [
       "Index(['자동차등록번호', '차대번호', '법정동코드', '배출가스등급', '배출가스인증번호', '차량말소YN', '제원관리번호',\n",
       "       '차량연식', '차종', '용도', '최초등록일자', '제작일자', '차량관리번호', '연료', '차종유형', '제작사명',\n",
       "       '차명', '자동차형식', '엔진형식', '저감장치구분', '저감장치종류', 'DPF_YN', '시도', '시군구',\n",
       "       '조기폐차상태코드', '조기폐차최종승인YN', '말소일자', '조기폐차신청여부', '법정동코드_수정', 'fuel', 'EG'],\n",
       "      dtype='object')"
      ]
     },
     "execution_count": 228,
     "metadata": {},
     "output_type": "execute_result"
    }
   ],
   "source": [
    "df1.columns"
   ]
  },
  {
   "cell_type": "code",
   "execution_count": 229,
   "metadata": {},
   "outputs": [
    {
     "data": {
      "text/plain": [
       "Index(['차대번호', '제원관리번호', '차종', '용도', '차량연식', '차종유형', '연료', '법정동코드', '시도',\n",
       "       '시군구', 'DPF_YN', 'EG', '법정동코드_수정'],\n",
       "      dtype='object')"
      ]
     },
     "execution_count": 229,
     "metadata": {},
     "output_type": "execute_result"
    }
   ],
   "source": [
    "STD_BD_GRD4_MLSFC_RSLT = df1[[\n",
    "    '차대번호', \n",
    "    '제원관리번호',\n",
    "    '차종', \n",
    "    '용도', \n",
    "    '차량연식', \n",
    "    '차종유형', \n",
    "    '연료', \n",
    "    '법정동코드', \n",
    "    '시도', \n",
    "    '시군구', \n",
    "    'DPF_YN',\n",
    "    'EG',\n",
    "    '법정동코드_수정',\n",
    "    ]]\n",
    "STD_BD_GRD4_MLSFC_RSLT.columns"
   ]
  },
  {
   "cell_type": "code",
   "execution_count": 230,
   "metadata": {},
   "outputs": [
    {
     "data": {
      "text/plain": [
       "'20231026'"
      ]
     },
     "execution_count": 230,
     "metadata": {},
     "output_type": "execute_result"
    }
   ],
   "source": [
    "today_date = datetime.today().strftime(\"%Y%m%d\")\n",
    "today_date"
   ]
  },
  {
   "cell_type": "code",
   "execution_count": 231,
   "metadata": {},
   "outputs": [
    {
     "name": "stderr",
     "output_type": "stream",
     "text": [
      "C:\\Users\\kbjung\\AppData\\Local\\Temp\\ipykernel_22340\\792058024.py:1: SettingWithCopyWarning: \n",
      "A value is trying to be set on a copy of a slice from a DataFrame.\n",
      "Try using .loc[row_indexer,col_indexer] = value instead\n",
      "\n",
      "See the caveats in the documentation: https://pandas.pydata.org/pandas-docs/stable/user_guide/indexing.html#returning-a-view-versus-a-copy\n",
      "  STD_BD_GRD4_MLSFC_RSLT['테이블생성일자'] = today_date\n"
     ]
    }
   ],
   "source": [
    "STD_BD_GRD4_MLSFC_RSLT['테이블생성일자'] = today_date"
   ]
  },
  {
   "cell_type": "code",
   "execution_count": 232,
   "metadata": {},
   "outputs": [
    {
     "data": {
      "text/plain": [
       "Index(['테이블생성일자', '차대번호', '제원관리번호', '차종', '용도', '차량연식', '차종유형', '연료', '법정동코드',\n",
       "       '시도', '시군구', 'DPF_YN', 'EG', '법정동코드_수정'],\n",
       "      dtype='object')"
      ]
     },
     "execution_count": 232,
     "metadata": {},
     "output_type": "execute_result"
    }
   ],
   "source": [
    "STD_BD_GRD4_MLSFC_RSLT = STD_BD_GRD4_MLSFC_RSLT[[\n",
    "    '테이블생성일자', \n",
    "    '차대번호', \n",
    "    '제원관리번호', \n",
    "    '차종', \n",
    "    '용도', \n",
    "    '차량연식', \n",
    "    '차종유형', \n",
    "    '연료', \n",
    "    '법정동코드', \n",
    "    '시도',\n",
    "    '시군구', \n",
    "    'DPF_YN', \n",
    "    'EG', \n",
    "    '법정동코드_수정',\n",
    "    ]]\n",
    "STD_BD_GRD4_MLSFC_RSLT.columns"
   ]
  },
  {
   "cell_type": "code",
   "execution_count": 233,
   "metadata": {},
   "outputs": [
    {
     "data": {
      "text/plain": [
       "C    774627\n",
       "B    364737\n",
       "A    193587\n",
       "D     32364\n",
       "X     24965\n",
       "Name: EG, dtype: int64"
      ]
     },
     "execution_count": 233,
     "metadata": {},
     "output_type": "execute_result"
    }
   ],
   "source": [
    "STD_BD_GRD4_MLSFC_RSLT['EG'].value_counts(dropna=False)"
   ]
  },
  {
   "cell_type": "code",
   "execution_count": 234,
   "metadata": {},
   "outputs": [],
   "source": [
    "STD_BD_GRD4_MLSFC_RSLT['법정동코드_수정'] = STD_BD_GRD4_MLSFC_RSLT['법정동코드_수정'].astype('str')"
   ]
  },
  {
   "cell_type": "code",
   "execution_count": 235,
   "metadata": {},
   "outputs": [],
   "source": [
    "ch_col_dict = {\n",
    "                '테이블생성일자':'LOAD_DT',\n",
    "                '차대번호':'VIN', \n",
    "                '제원관리번호':'MANG_MNG_NO',\n",
    "                '차종':'VHCTY_CD', \n",
    "                '용도':'PURPS_CD2',\n",
    "                '차량연식':'YRIDNW', \n",
    "                '차종유형':'VHCTY_TY', \n",
    "                '연료':'FUEL_CD', \n",
    "                '법정동코드':'STDG_CD', \n",
    "                '시도':'CTPV_NM',\n",
    "                '시군구':'SGG_NM',\n",
    "                'DPF_YN':'DPF_MNTNG_YN',\n",
    "                'EG':'GRD4_MLSFC', \n",
    "                '법정동코드_수정':'STDG_CD_MOD'\n",
    "                }"
   ]
  },
  {
   "cell_type": "code",
   "execution_count": 236,
   "metadata": {},
   "outputs": [
    {
     "data": {
      "text/plain": [
       "Index(['LOAD_DT', 'VIN', 'MANG_MNG_NO', 'VHCTY_CD', 'PURPS_CD2', 'YRIDNW',\n",
       "       'VHCTY_TY', 'FUEL_CD', 'STDG_CD', 'CTPV_NM', 'SGG_NM', 'DPF_MNTNG_YN',\n",
       "       'GRD4_MLSFC', 'STDG_CD_MOD'],\n",
       "      dtype='object')"
      ]
     },
     "execution_count": 236,
     "metadata": {},
     "output_type": "execute_result"
    }
   ],
   "source": [
    "STD_BD_GRD4_MLSFC_RSLT = STD_BD_GRD4_MLSFC_RSLT.rename(columns=ch_col_dict)\n",
    "STD_BD_GRD4_MLSFC_RSLT.columns"
   ]
  },
  {
   "cell_type": "code",
   "execution_count": 237,
   "metadata": {
    "tags": []
   },
   "outputs": [
    {
     "data": {
      "text/html": [
       "<div>\n",
       "<style scoped>\n",
       "    .dataframe tbody tr th:only-of-type {\n",
       "        vertical-align: middle;\n",
       "    }\n",
       "\n",
       "    .dataframe tbody tr th {\n",
       "        vertical-align: top;\n",
       "    }\n",
       "\n",
       "    .dataframe thead th {\n",
       "        text-align: right;\n",
       "    }\n",
       "</style>\n",
       "<table border=\"1\" class=\"dataframe\">\n",
       "  <thead>\n",
       "    <tr style=\"text-align: right;\">\n",
       "      <th></th>\n",
       "      <th>LOAD_DT</th>\n",
       "      <th>VIN</th>\n",
       "      <th>MANG_MNG_NO</th>\n",
       "      <th>VHCTY_CD</th>\n",
       "      <th>PURPS_CD2</th>\n",
       "      <th>YRIDNW</th>\n",
       "      <th>VHCTY_TY</th>\n",
       "      <th>FUEL_CD</th>\n",
       "      <th>STDG_CD</th>\n",
       "      <th>CTPV_NM</th>\n",
       "      <th>SGG_NM</th>\n",
       "      <th>DPF_MNTNG_YN</th>\n",
       "      <th>GRD4_MLSFC</th>\n",
       "      <th>STDG_CD_MOD</th>\n",
       "    </tr>\n",
       "  </thead>\n",
       "  <tbody>\n",
       "    <tr>\n",
       "      <th>1390275</th>\n",
       "      <td>20231026</td>\n",
       "      <td>KMHVF31JPMU511183</td>\n",
       "      <td>99931107001641103</td>\n",
       "      <td>승용</td>\n",
       "      <td>개인용</td>\n",
       "      <td>1991</td>\n",
       "      <td>소형</td>\n",
       "      <td>휘발유</td>\n",
       "      <td>1117000000</td>\n",
       "      <td>서울특별시</td>\n",
       "      <td>용산구</td>\n",
       "      <td>NaN</td>\n",
       "      <td>B</td>\n",
       "      <td>1117000000</td>\n",
       "    </tr>\n",
       "    <tr>\n",
       "      <th>1390276</th>\n",
       "      <td>20231026</td>\n",
       "      <td>KLAER1931TB044115</td>\n",
       "      <td>10002200860001</td>\n",
       "      <td>승용</td>\n",
       "      <td>개인용</td>\n",
       "      <td>1996</td>\n",
       "      <td>중형</td>\n",
       "      <td>휘발유</td>\n",
       "      <td>5182000000</td>\n",
       "      <td>강원특별자치도</td>\n",
       "      <td>고성군</td>\n",
       "      <td>NaN</td>\n",
       "      <td>B</td>\n",
       "      <td>5182000000</td>\n",
       "    </tr>\n",
       "    <tr>\n",
       "      <th>1390277</th>\n",
       "      <td>20231026</td>\n",
       "      <td>KMHJF31JPPU555457</td>\n",
       "      <td>10022700140000</td>\n",
       "      <td>승용</td>\n",
       "      <td>개인용</td>\n",
       "      <td>1993</td>\n",
       "      <td>소형</td>\n",
       "      <td>휘발유</td>\n",
       "      <td>1132000000</td>\n",
       "      <td>서울특별시</td>\n",
       "      <td>도봉구</td>\n",
       "      <td>NaN</td>\n",
       "      <td>B</td>\n",
       "      <td>1132000000</td>\n",
       "    </tr>\n",
       "    <tr>\n",
       "      <th>1390278</th>\n",
       "      <td>20231026</td>\n",
       "      <td>KMHVF21JPMU415752</td>\n",
       "      <td>99934103019601103</td>\n",
       "      <td>승용</td>\n",
       "      <td>개인용</td>\n",
       "      <td>1991</td>\n",
       "      <td>소형</td>\n",
       "      <td>휘발유</td>\n",
       "      <td>4122000000</td>\n",
       "      <td>경기도</td>\n",
       "      <td>평택시</td>\n",
       "      <td>NaN</td>\n",
       "      <td>B</td>\n",
       "      <td>4122000000</td>\n",
       "    </tr>\n",
       "    <tr>\n",
       "      <th>1390279</th>\n",
       "      <td>20231026</td>\n",
       "      <td>KNADA23K2NS120848</td>\n",
       "      <td>99934125002081103</td>\n",
       "      <td>승용</td>\n",
       "      <td>개인용</td>\n",
       "      <td>1992</td>\n",
       "      <td>소형</td>\n",
       "      <td>휘발유</td>\n",
       "      <td>4122000000</td>\n",
       "      <td>경기도</td>\n",
       "      <td>평택시</td>\n",
       "      <td>NaN</td>\n",
       "      <td>B</td>\n",
       "      <td>4122000000</td>\n",
       "    </tr>\n",
       "  </tbody>\n",
       "</table>\n",
       "</div>"
      ],
      "text/plain": [
       "          LOAD_DT                VIN        MANG_MNG_NO VHCTY_CD PURPS_CD2  \\\n",
       "1390275  20231026  KMHVF31JPMU511183  99931107001641103       승용       개인용   \n",
       "1390276  20231026  KLAER1931TB044115     10002200860001       승용       개인용   \n",
       "1390277  20231026  KMHJF31JPPU555457     10022700140000       승용       개인용   \n",
       "1390278  20231026  KMHVF21JPMU415752  99934103019601103       승용       개인용   \n",
       "1390279  20231026  KNADA23K2NS120848  99934125002081103       승용       개인용   \n",
       "\n",
       "         YRIDNW VHCTY_TY FUEL_CD     STDG_CD  CTPV_NM SGG_NM DPF_MNTNG_YN  \\\n",
       "1390275    1991       소형     휘발유  1117000000    서울특별시    용산구          NaN   \n",
       "1390276    1996       중형     휘발유  5182000000  강원특별자치도    고성군          NaN   \n",
       "1390277    1993       소형     휘발유  1132000000    서울특별시    도봉구          NaN   \n",
       "1390278    1991       소형     휘발유  4122000000      경기도    평택시          NaN   \n",
       "1390279    1992       소형     휘발유  4122000000      경기도    평택시          NaN   \n",
       "\n",
       "        GRD4_MLSFC STDG_CD_MOD  \n",
       "1390275          B  1117000000  \n",
       "1390276          B  5182000000  \n",
       "1390277          B  1132000000  \n",
       "1390278          B  4122000000  \n",
       "1390279          B  4122000000  "
      ]
     },
     "execution_count": 237,
     "metadata": {},
     "output_type": "execute_result"
    }
   ],
   "source": [
    "STD_BD_GRD4_MLSFC_RSLT.tail()"
   ]
  },
  {
   "cell_type": "markdown",
   "metadata": {},
   "source": [
    "### [출력] STD_BD_GRD4_MLSFC_RSLT"
   ]
  },
  {
   "cell_type": "code",
   "execution_count": 238,
   "metadata": {},
   "outputs": [],
   "source": [
    "# expdf = STD_BD_GRD4_MLSFC_RSLT\n",
    "# table_nm = 'STD_BD_GRD4_MLSFC_RSLT'.upper()\n",
    "\n",
    "# # 테이블 생성\n",
    "# sql = 'create or replace table ' + table_nm + '( \\n'\n",
    "\n",
    "# for idx,column in enumerate(expdf.columns):\n",
    "#     # if 'float' in expdf[column].dtype.name:\n",
    "#     #     sql += column + ' float'\n",
    "#     # elif 'int' in expdf[column].dtype.name:\n",
    "#     #     sql += column + ' number'\n",
    "#     # else:\n",
    "#     sql += column + ' varchar(255)'\n",
    "\n",
    "#     if len(expdf.columns) - 1 != idx:\n",
    "#         sql += ','\n",
    "#     sql += '\\n'\n",
    "# sql += ')'    \n",
    "# we.execute(sql)\n",
    "\n",
    "# # 데이터 추가\n",
    "# # 7s\n",
    "# we.import_from_pandas(expdf, table_nm)"
   ]
  },
  {
   "cell_type": "code",
   "execution_count": 239,
   "metadata": {},
   "outputs": [],
   "source": [
    "# # \n",
    "# STD_BD_GRD4_MLSFC_RSLT.to_csv(os.path.join(df1_fold, 'STD_BD_GRD4_MLSFC_RSLT.csv'), index=False)"
   ]
  },
  {
   "cell_type": "markdown",
   "metadata": {},
   "source": [
    "## 4등급 등급세분류"
   ]
  },
  {
   "cell_type": "code",
   "execution_count": 240,
   "metadata": {},
   "outputs": [
    {
     "data": {
      "text/plain": [
       "Index(['자동차등록번호', '차대번호', '법정동코드', '배출가스등급', '배출가스인증번호', '차량말소YN', '제원관리번호',\n",
       "       '차량연식', '차종', '용도', '최초등록일자', '제작일자', '차량관리번호', '연료', '차종유형', '제작사명',\n",
       "       '차명', '자동차형식', '엔진형식', '저감장치구분', '저감장치종류', 'DPF_YN', '시도', '시군구',\n",
       "       '조기폐차상태코드', '조기폐차최종승인YN', '말소일자', '조기폐차신청여부', '법정동코드_수정', 'fuel', 'EG'],\n",
       "      dtype='object')"
      ]
     },
     "execution_count": 240,
     "metadata": {},
     "output_type": "execute_result"
    }
   ],
   "source": [
    "df1.columns"
   ]
  },
  {
   "cell_type": "code",
   "execution_count": 241,
   "metadata": {},
   "outputs": [],
   "source": [
    "dat_mlsfc = df1.copy()"
   ]
  },
  {
   "cell_type": "code",
   "execution_count": 242,
   "metadata": {},
   "outputs": [],
   "source": [
    "dat_mlsfc['시군구_수정'] = dat_mlsfc['시군구'].str.split(' ').str[0]"
   ]
  },
  {
   "cell_type": "code",
   "execution_count": null,
   "metadata": {},
   "outputs": [],
   "source": [
    "dat_mlsfc.loc[dat_mlsfc['연료'].isnull(), '연료'] = '해당없음' # !!! 수정(2023.11.13)"
   ]
  },
  {
   "cell_type": "code",
   "execution_count": 243,
   "metadata": {},
   "outputs": [
    {
     "data": {
      "text/plain": [
       "0"
      ]
     },
     "execution_count": 243,
     "metadata": {},
     "output_type": "execute_result"
    }
   ],
   "source": [
    "dat_mlsfc['EG'].isnull().sum()"
   ]
  },
  {
   "cell_type": "code",
   "execution_count": 244,
   "metadata": {},
   "outputs": [
    {
     "data": {
      "text/html": [
       "<div>\n",
       "<style scoped>\n",
       "    .dataframe tbody tr th:only-of-type {\n",
       "        vertical-align: middle;\n",
       "    }\n",
       "\n",
       "    .dataframe tbody tr th {\n",
       "        vertical-align: top;\n",
       "    }\n",
       "\n",
       "    .dataframe thead th {\n",
       "        text-align: right;\n",
       "    }\n",
       "</style>\n",
       "<table border=\"1\" class=\"dataframe\">\n",
       "  <thead>\n",
       "    <tr style=\"text-align: right;\">\n",
       "      <th>EG</th>\n",
       "      <th>연료</th>\n",
       "      <th>시도</th>\n",
       "      <th>시군구_수정</th>\n",
       "      <th>차종</th>\n",
       "      <th>차종유형</th>\n",
       "      <th>용도</th>\n",
       "      <th>A</th>\n",
       "      <th>B</th>\n",
       "      <th>C</th>\n",
       "      <th>D</th>\n",
       "      <th>X</th>\n",
       "    </tr>\n",
       "  </thead>\n",
       "  <tbody>\n",
       "    <tr>\n",
       "      <th>0</th>\n",
       "      <td>CNG(압축천연가스)</td>\n",
       "      <td>전라남도</td>\n",
       "      <td>해남군</td>\n",
       "      <td>화물</td>\n",
       "      <td>대형</td>\n",
       "      <td>개인용</td>\n",
       "      <td>NaN</td>\n",
       "      <td>NaN</td>\n",
       "      <td>NaN</td>\n",
       "      <td>NaN</td>\n",
       "      <td>1.00</td>\n",
       "    </tr>\n",
       "    <tr>\n",
       "      <th>1</th>\n",
       "      <td>LPG(액화석유가스)</td>\n",
       "      <td>전라남도</td>\n",
       "      <td>강진군</td>\n",
       "      <td>승용</td>\n",
       "      <td>중형</td>\n",
       "      <td>개인용</td>\n",
       "      <td>2.00</td>\n",
       "      <td>2.00</td>\n",
       "      <td>NaN</td>\n",
       "      <td>NaN</td>\n",
       "      <td>NaN</td>\n",
       "    </tr>\n",
       "    <tr>\n",
       "      <th>2</th>\n",
       "      <td>LPG(액화석유가스)</td>\n",
       "      <td>전라남도</td>\n",
       "      <td>강진군</td>\n",
       "      <td>승합</td>\n",
       "      <td>경형</td>\n",
       "      <td>개인용</td>\n",
       "      <td>NaN</td>\n",
       "      <td>4.00</td>\n",
       "      <td>NaN</td>\n",
       "      <td>NaN</td>\n",
       "      <td>NaN</td>\n",
       "    </tr>\n",
       "    <tr>\n",
       "      <th>3</th>\n",
       "      <td>LPG(액화석유가스)</td>\n",
       "      <td>전라남도</td>\n",
       "      <td>강진군</td>\n",
       "      <td>승합</td>\n",
       "      <td>소형</td>\n",
       "      <td>개인용</td>\n",
       "      <td>NaN</td>\n",
       "      <td>1.00</td>\n",
       "      <td>NaN</td>\n",
       "      <td>NaN</td>\n",
       "      <td>NaN</td>\n",
       "    </tr>\n",
       "    <tr>\n",
       "      <th>4</th>\n",
       "      <td>LPG(액화석유가스)</td>\n",
       "      <td>전라남도</td>\n",
       "      <td>강진군</td>\n",
       "      <td>승합</td>\n",
       "      <td>중형</td>\n",
       "      <td>개인용</td>\n",
       "      <td>4.00</td>\n",
       "      <td>1.00</td>\n",
       "      <td>NaN</td>\n",
       "      <td>NaN</td>\n",
       "      <td>NaN</td>\n",
       "    </tr>\n",
       "    <tr>\n",
       "      <th>...</th>\n",
       "      <td>...</td>\n",
       "      <td>...</td>\n",
       "      <td>...</td>\n",
       "      <td>...</td>\n",
       "      <td>...</td>\n",
       "      <td>...</td>\n",
       "      <td>...</td>\n",
       "      <td>...</td>\n",
       "      <td>...</td>\n",
       "      <td>...</td>\n",
       "      <td>...</td>\n",
       "    </tr>\n",
       "    <tr>\n",
       "      <th>8293</th>\n",
       "      <td>휘발유</td>\n",
       "      <td>충청북도</td>\n",
       "      <td>충주시</td>\n",
       "      <td>승합</td>\n",
       "      <td>경형</td>\n",
       "      <td>개인용</td>\n",
       "      <td>NaN</td>\n",
       "      <td>13.00</td>\n",
       "      <td>NaN</td>\n",
       "      <td>NaN</td>\n",
       "      <td>NaN</td>\n",
       "    </tr>\n",
       "    <tr>\n",
       "      <th>8294</th>\n",
       "      <td>휘발유</td>\n",
       "      <td>충청북도</td>\n",
       "      <td>충주시</td>\n",
       "      <td>승합</td>\n",
       "      <td>소형</td>\n",
       "      <td>개인용</td>\n",
       "      <td>NaN</td>\n",
       "      <td>3.00</td>\n",
       "      <td>NaN</td>\n",
       "      <td>NaN</td>\n",
       "      <td>NaN</td>\n",
       "    </tr>\n",
       "    <tr>\n",
       "      <th>8295</th>\n",
       "      <td>휘발유</td>\n",
       "      <td>충청북도</td>\n",
       "      <td>충주시</td>\n",
       "      <td>승합</td>\n",
       "      <td>중형</td>\n",
       "      <td>개인용</td>\n",
       "      <td>1.00</td>\n",
       "      <td>NaN</td>\n",
       "      <td>NaN</td>\n",
       "      <td>NaN</td>\n",
       "      <td>NaN</td>\n",
       "    </tr>\n",
       "    <tr>\n",
       "      <th>8296</th>\n",
       "      <td>휘발유</td>\n",
       "      <td>충청북도</td>\n",
       "      <td>충주시</td>\n",
       "      <td>화물</td>\n",
       "      <td>경형</td>\n",
       "      <td>개인용</td>\n",
       "      <td>NaN</td>\n",
       "      <td>7.00</td>\n",
       "      <td>NaN</td>\n",
       "      <td>NaN</td>\n",
       "      <td>NaN</td>\n",
       "    </tr>\n",
       "    <tr>\n",
       "      <th>8297</th>\n",
       "      <td>휘발유</td>\n",
       "      <td>충청북도</td>\n",
       "      <td>충주시</td>\n",
       "      <td>화물</td>\n",
       "      <td>소형</td>\n",
       "      <td>개인용</td>\n",
       "      <td>NaN</td>\n",
       "      <td>15.00</td>\n",
       "      <td>NaN</td>\n",
       "      <td>NaN</td>\n",
       "      <td>NaN</td>\n",
       "    </tr>\n",
       "  </tbody>\n",
       "</table>\n",
       "<p>8298 rows × 11 columns</p>\n",
       "</div>"
      ],
      "text/plain": [
       "EG             연료    시도 시군구_수정  차종 차종유형   용도    A     B   C   D    X\n",
       "0     CNG(압축천연가스)  전라남도    해남군  화물   대형  개인용  NaN   NaN NaN NaN 1.00\n",
       "1     LPG(액화석유가스)  전라남도    강진군  승용   중형  개인용 2.00  2.00 NaN NaN  NaN\n",
       "2     LPG(액화석유가스)  전라남도    강진군  승합   경형  개인용  NaN  4.00 NaN NaN  NaN\n",
       "3     LPG(액화석유가스)  전라남도    강진군  승합   소형  개인용  NaN  1.00 NaN NaN  NaN\n",
       "4     LPG(액화석유가스)  전라남도    강진군  승합   중형  개인용 4.00  1.00 NaN NaN  NaN\n",
       "...           ...   ...    ...  ..  ...  ...  ...   ...  ..  ..  ...\n",
       "8293          휘발유  충청북도    충주시  승합   경형  개인용  NaN 13.00 NaN NaN  NaN\n",
       "8294          휘발유  충청북도    충주시  승합   소형  개인용  NaN  3.00 NaN NaN  NaN\n",
       "8295          휘발유  충청북도    충주시  승합   중형  개인용 1.00   NaN NaN NaN  NaN\n",
       "8296          휘발유  충청북도    충주시  화물   경형  개인용  NaN  7.00 NaN NaN  NaN\n",
       "8297          휘발유  충청북도    충주시  화물   소형  개인용  NaN 15.00 NaN NaN  NaN\n",
       "\n",
       "[8298 rows x 11 columns]"
      ]
     },
     "execution_count": 244,
     "metadata": {},
     "output_type": "execute_result"
    }
   ],
   "source": [
    "grp1 = dat_mlsfc.groupby(['연료', '시도', '시군구_수정', '차종', '차종유형', '용도', 'EG'], dropna=False)['차대번호'].count().unstack('EG').reset_index() # !!! 수정(2023.11.13)\n",
    "grp1"
   ]
  },
  {
   "cell_type": "code",
   "execution_count": 245,
   "metadata": {},
   "outputs": [],
   "source": [
    "# 연도 설정\n",
    "# grp1['연도'] = '2022'\n",
    "grp1['연도'] = today_date[:4]\n",
    "grp1['테이블생성일자'] = today_date"
   ]
  },
  {
   "cell_type": "code",
   "execution_count": 246,
   "metadata": {},
   "outputs": [
    {
     "data": {
      "text/plain": [
       "Index(['연료', '시도', '시군구_수정', '차종', '차종유형', '용도', 'A', 'B', 'C', 'D', 'X', '연도',\n",
       "       '테이블생성일자'],\n",
       "      dtype='object', name='EG')"
      ]
     },
     "execution_count": 246,
     "metadata": {},
     "output_type": "execute_result"
    }
   ],
   "source": [
    "grp1.columns"
   ]
  },
  {
   "cell_type": "code",
   "execution_count": 247,
   "metadata": {},
   "outputs": [],
   "source": [
    "STD_BD_DAT_GRD4_MLSFC = grp1[[\n",
    "    '연도', \n",
    "    '연료', \n",
    "    '시도', \n",
    "    '시군구_수정', \n",
    "    '차종', \n",
    "    '차종유형', \n",
    "    '용도', \n",
    "    'A', \n",
    "    'B', \n",
    "    'C', \n",
    "    'D', \n",
    "    'X',\n",
    "    '테이블생성일자',\n",
    "]]"
   ]
  },
  {
   "cell_type": "code",
   "execution_count": 248,
   "metadata": {},
   "outputs": [
    {
     "data": {
      "text/plain": [
       "Index(['FUEL_CD', 'CTPV', 'SGG', 'VHCTY_CD', 'VHCTY_TY', 'PURPS_CD2',\n",
       "       'A_MKCNT', 'B_MKCNT', 'C_MKCNT', 'D_MKCNT', 'X_MKCNT', 'YR', 'LOAD_DT'],\n",
       "      dtype='object', name='EG')"
      ]
     },
     "execution_count": 248,
     "metadata": {},
     "output_type": "execute_result"
    }
   ],
   "source": [
    "cdict = {\n",
    "    '연도':'YR', \n",
    "    '연료':'FUEL_CD', \n",
    "    '시도':'CTPV', \n",
    "    '시군구_수정':'SGG', \n",
    "    '차종':'VHCTY_CD', \n",
    "    '차종유형':'VHCTY_TY', \n",
    "    '용도':'PURPS_CD2', \n",
    "    'A':'A_MKCNT', \n",
    "    'B':'B_MKCNT', \n",
    "    'C':'C_MKCNT', \n",
    "    'D':'D_MKCNT', \n",
    "    'X':'X_MKCNT', \n",
    "    '테이블생성일자':'LOAD_DT', \n",
    "}\n",
    "STD_BD_DAT_GRD4_MLSFC = grp1.rename(columns=cdict)\n",
    "STD_BD_DAT_GRD4_MLSFC.columns"
   ]
  },
  {
   "cell_type": "markdown",
   "metadata": {},
   "source": [
    "### [출력] STD_BD_DAT_GRD4_MLSFC"
   ]
  },
  {
   "cell_type": "code",
   "execution_count": 249,
   "metadata": {},
   "outputs": [],
   "source": [
    "# expdf = STD_BD_DAT_GRD4_MLSFC\n",
    "# table_nm = 'STD_BD_DAT_GRD4_MLSFC'.upper()\n",
    "\n",
    "# # 테이블 생성\n",
    "# sql = 'create or replace table ' + table_nm + '( \\n'\n",
    "\n",
    "# for idx,column in enumerate(expdf.columns):\n",
    "#     # if 'float' in expdf[column].dtype.name:\n",
    "#     #     sql += column + ' float'\n",
    "#     # elif 'int' in expdf[column].dtype.name:\n",
    "#     #     sql += column + ' number'\n",
    "#     # else:\n",
    "#     sql += column + ' varchar(255)'\n",
    "\n",
    "#     if len(expdf.columns) - 1 != idx:\n",
    "#         sql += ','\n",
    "#     sql += '\\n'\n",
    "# sql += ')'    \n",
    "# we.execute(sql)\n",
    "\n",
    "# # 데이터 추가\n",
    "# # 7s\n",
    "# we.import_from_pandas(expdf, table_nm)"
   ]
  },
  {
   "cell_type": "code",
   "execution_count": 250,
   "metadata": {},
   "outputs": [],
   "source": [
    "# # \n",
    "# STD_BD_DAT_GRD4_MLSFC.to_csv(os.path.join(df1_fold, 'STD_BD_DAT_GRD4_MLSFC.csv'), index=False)"
   ]
  },
  {
   "cell_type": "markdown",
   "metadata": {},
   "source": [
    "## 4등급차량 상세정보"
   ]
  },
  {
   "cell_type": "code",
   "execution_count": 251,
   "metadata": {},
   "outputs": [
    {
     "data": {
      "text/plain": [
       "(1906823, 28)"
      ]
     },
     "execution_count": 251,
     "metadata": {},
     "output_type": "execute_result"
    }
   ],
   "source": [
    "dfe.shape"
   ]
  },
  {
   "cell_type": "code",
   "execution_count": 252,
   "metadata": {},
   "outputs": [
    {
     "data": {
      "text/plain": [
       "Index(['자동차등록번호', '차대번호', '법정동코드', '배출가스등급', '배출가스인증번호', '차량말소YN', '제원관리번호',\n",
       "       '차량연식', '차종', '용도', '최초등록일자', '제작일자', '차량관리번호', '연료', '차종유형', '제작사명',\n",
       "       '차명', '자동차형식', '엔진형식', '시도', '시군구', '조기폐차상태코드', '조기폐차최종승인YN', '말소일자',\n",
       "       '조기폐차신청여부', '저감장치구분', '저감장치종류', 'DPF_YN'],\n",
       "      dtype='object')"
      ]
     },
     "execution_count": 252,
     "metadata": {},
     "output_type": "execute_result"
    }
   ],
   "source": [
    "dfe.columns"
   ]
  },
  {
   "cell_type": "markdown",
   "metadata": {},
   "source": [
    "### 4등급 result 파일 참고하여 DPF유무 수정"
   ]
  },
  {
   "cell_type": "code",
   "execution_count": 253,
   "metadata": {},
   "outputs": [],
   "source": [
    "rdf = dfe.copy()"
   ]
  },
  {
   "cell_type": "code",
   "execution_count": 254,
   "metadata": {},
   "outputs": [
    {
     "data": {
      "text/plain": [
       "410633"
      ]
     },
     "execution_count": 254,
     "metadata": {},
     "output_type": "execute_result"
    }
   ],
   "source": [
    "len(set(rdf['차대번호'].unique()) - set(rs['차대번호'].unique()))"
   ]
  },
  {
   "cell_type": "code",
   "execution_count": 255,
   "metadata": {},
   "outputs": [
    {
     "data": {
      "text/plain": [
       "무       876661\n",
       "NaN     758754\n",
       "유       259030\n",
       "확인불가     12378\n",
       "Name: DPF_YN, dtype: int64"
      ]
     },
     "execution_count": 255,
     "metadata": {},
     "output_type": "execute_result"
    }
   ],
   "source": [
    "rdf['DPF_YN'].value_counts(dropna=False)"
   ]
  },
  {
   "cell_type": "code",
   "execution_count": 256,
   "metadata": {},
   "outputs": [
    {
     "data": {
      "text/plain": [
       "무       879480\n",
       "NaN     348401\n",
       "유       261897\n",
       "확인불가     12435\n",
       "Name: DPF유무_수정, dtype: int64"
      ]
     },
     "execution_count": 256,
     "metadata": {},
     "output_type": "execute_result"
    }
   ],
   "source": [
    "rs['DPF유무_수정'].value_counts(dropna=False)"
   ]
  },
  {
   "cell_type": "code",
   "execution_count": 257,
   "metadata": {},
   "outputs": [
    {
     "data": {
      "text/plain": [
       "(1502213, 2)"
      ]
     },
     "execution_count": 257,
     "metadata": {},
     "output_type": "execute_result"
    }
   ],
   "source": [
    "rs = rs.drop_duplicates('차대번호').reset_index(drop=True)\n",
    "rs.shape"
   ]
  },
  {
   "cell_type": "code",
   "execution_count": 258,
   "metadata": {},
   "outputs": [
    {
     "data": {
      "text/plain": [
       "무       879480\n",
       "NaN     348401\n",
       "유       261897\n",
       "확인불가     12435\n",
       "Name: DPF유무_수정, dtype: int64"
      ]
     },
     "execution_count": 258,
     "metadata": {},
     "output_type": "execute_result"
    }
   ],
   "source": [
    "rs['DPF유무_수정'].value_counts(dropna=False)"
   ]
  },
  {
   "cell_type": "code",
   "execution_count": 259,
   "metadata": {},
   "outputs": [],
   "source": [
    "rdf1 = rdf.merge(rs, on='차대번호', how='left')"
   ]
  },
  {
   "cell_type": "code",
   "execution_count": 260,
   "metadata": {},
   "outputs": [],
   "source": [
    "rdf1.loc[(rdf1['DPF_YN'] == '유') | (rdf1['DPF유무_수정'] == '유'), 'DPF_YN'] = '유'\n",
    "rdf1.loc[(rdf1['DPF유무_수정'] == '무'), 'DPF_YN'] = '무'\n",
    "rdf1.loc[(rdf1['DPF유무_수정'] == '확인불가'), 'DPF_YN'] = '확인불가'"
   ]
  },
  {
   "cell_type": "code",
   "execution_count": 261,
   "metadata": {},
   "outputs": [
    {
     "data": {
      "text/plain": [
       "무       876661\n",
       "NaN     758754\n",
       "유       259030\n",
       "확인불가     12378\n",
       "Name: DPF_YN, dtype: int64"
      ]
     },
     "execution_count": 261,
     "metadata": {},
     "output_type": "execute_result"
    }
   ],
   "source": [
    "rdf1['DPF_YN'].value_counts(dropna=False)"
   ]
  },
  {
   "cell_type": "code",
   "execution_count": 262,
   "metadata": {},
   "outputs": [
    {
     "data": {
      "text/plain": [
       "Index(['자동차등록번호', '차대번호', '법정동코드', '배출가스등급', '배출가스인증번호', '차량말소YN', '제원관리번호',\n",
       "       '차량연식', '차종', '용도', '최초등록일자', '제작일자', '차량관리번호', '연료', '차종유형', '제작사명',\n",
       "       '차명', '자동차형식', '엔진형식', '시도', '시군구', '조기폐차상태코드', '조기폐차최종승인YN', '말소일자',\n",
       "       '조기폐차신청여부', '저감장치구분', '저감장치종류', 'DPF_YN', 'DPF유무_수정'],\n",
       "      dtype='object')"
      ]
     },
     "execution_count": 262,
     "metadata": {},
     "output_type": "execute_result"
    }
   ],
   "source": [
    "rdf1.columns"
   ]
  },
  {
   "cell_type": "code",
   "execution_count": 263,
   "metadata": {},
   "outputs": [],
   "source": [
    "dfe = rdf1.drop('DPF유무_수정', axis=1)"
   ]
  },
  {
   "cell_type": "code",
   "execution_count": 264,
   "metadata": {},
   "outputs": [
    {
     "data": {
      "text/plain": [
       "(1906823, 28)"
      ]
     },
     "execution_count": 264,
     "metadata": {},
     "output_type": "execute_result"
    }
   ],
   "source": [
    "dfe.shape"
   ]
  },
  {
   "cell_type": "code",
   "execution_count": 265,
   "metadata": {},
   "outputs": [
    {
     "data": {
      "text/plain": [
       "((1906823, 28), 1906823)"
      ]
     },
     "execution_count": 265,
     "metadata": {},
     "output_type": "execute_result"
    }
   ],
   "source": [
    "dfe.shape, len(dfe['차대번호'].unique())"
   ]
  },
  {
   "cell_type": "code",
   "execution_count": 266,
   "metadata": {},
   "outputs": [
    {
     "data": {
      "text/plain": [
       "(1906823, 29)"
      ]
     },
     "execution_count": 266,
     "metadata": {},
     "output_type": "execute_result"
    }
   ],
   "source": [
    "dfee = dfe.merge(errc[['차대번호', '변경일자']], on='차대번호', how='left')\n",
    "dfee.shape"
   ]
  },
  {
   "cell_type": "code",
   "execution_count": 267,
   "metadata": {},
   "outputs": [
    {
     "data": {
      "text/plain": [
       "(1906823, 30)"
      ]
     },
     "execution_count": 267,
     "metadata": {},
     "output_type": "execute_result"
    }
   ],
   "source": [
    "dfeem = dfee.merge(df1[['차대번호', 'EG']], on='차대번호', how='left')\n",
    "dfeem.shape"
   ]
  },
  {
   "cell_type": "code",
   "execution_count": 268,
   "metadata": {},
   "outputs": [
    {
     "data": {
      "text/plain": [
       "'20231026'"
      ]
     },
     "execution_count": 268,
     "metadata": {},
     "output_type": "execute_result"
    }
   ],
   "source": [
    "today_date = datetime.today().strftime(\"%Y%m%d\")\n",
    "today_date"
   ]
  },
  {
   "cell_type": "code",
   "execution_count": 269,
   "metadata": {},
   "outputs": [],
   "source": [
    "dfeem['테이블생성일자'] = today_date"
   ]
  },
  {
   "cell_type": "code",
   "execution_count": 270,
   "metadata": {},
   "outputs": [
    {
     "data": {
      "text/plain": [
       "['자동차등록번호',\n",
       " '차대번호',\n",
       " '법정동코드',\n",
       " '배출가스등급',\n",
       " '배출가스인증번호',\n",
       " '차량말소YN',\n",
       " '제원관리번호',\n",
       " '차량연식',\n",
       " '차종',\n",
       " '용도',\n",
       " '최초등록일자',\n",
       " '제작일자',\n",
       " '차량관리번호',\n",
       " '연료',\n",
       " '차종유형',\n",
       " '제작사명',\n",
       " '차명',\n",
       " '자동차형식',\n",
       " '엔진형식',\n",
       " '시도',\n",
       " '시군구',\n",
       " '조기폐차상태코드',\n",
       " '조기폐차최종승인YN',\n",
       " '말소일자',\n",
       " '조기폐차신청여부',\n",
       " '저감장치구분',\n",
       " '저감장치종류',\n",
       " 'DPF_YN',\n",
       " '변경일자',\n",
       " 'EG',\n",
       " '테이블생성일자']"
      ]
     },
     "execution_count": 270,
     "metadata": {},
     "output_type": "execute_result"
    }
   ],
   "source": [
    "list(dfeem.columns)"
   ]
  },
  {
   "cell_type": "code",
   "execution_count": 271,
   "metadata": {},
   "outputs": [
    {
     "data": {
      "text/plain": [
       "(1906823, 18)"
      ]
     },
     "execution_count": 271,
     "metadata": {},
     "output_type": "execute_result"
    }
   ],
   "source": [
    "STD_BD_DAT_GRD4_DTL_INFO = dfeem[[\n",
    "    '자동차등록번호',\n",
    "    '차대번호',\n",
    "    'EG',\n",
    "    '차종',\n",
    "    '차종유형',\n",
    "    '용도',\n",
    "    '연료',\n",
    "    '시도',\n",
    "    '시군구',\n",
    "    '차량연식',\n",
    "    'DPF_YN',\n",
    "    '저감장치종류',\n",
    "    '최초등록일자',\n",
    "    '조기폐차신청여부',\n",
    "    '조기폐차상태코드',\n",
    "    '변경일자',\n",
    "    '차량말소YN',\n",
    "    '테이블생성일자', \n",
    "    # '법정동코드',\n",
    "    # '배출가스등급',\n",
    "    # '배출가스인증번호',\n",
    "    # '제원관리번호',\n",
    "    # '제작일자',\n",
    "    # '차량관리번호',\n",
    "    # '제작사명',\n",
    "    # '차명',\n",
    "    # '자동차형식',\n",
    "    # '엔진형식',\n",
    "    # '저감장치구분',\n",
    "    # '조기폐차최종승인YN',\n",
    "]]\n",
    "STD_BD_DAT_GRD4_DTL_INFO.shape"
   ]
  },
  {
   "cell_type": "code",
   "execution_count": 272,
   "metadata": {},
   "outputs": [
    {
     "data": {
      "text/plain": [
       "Index(['VHRNO', 'VIN', 'GRD4_MLSFC', 'VHCTY_CD', 'VHCTY_TY', 'PURPS_CD2',\n",
       "       'FUEL_CD', 'CTPV', 'SGG', 'YRIDNW', 'DPF_MNTNG_YN', 'RDCDVC_KND',\n",
       "       'FRST_REG_YMD', 'ELPDSRC_APLY_YN', 'ELPDSRC_STTS_CD', 'CHNG_DE',\n",
       "       'VHCL_ERSR_YN', 'LOAD_DT'],\n",
       "      dtype='object')"
      ]
     },
     "execution_count": 272,
     "metadata": {},
     "output_type": "execute_result"
    }
   ],
   "source": [
    "cdict = {\n",
    "    '자동차등록번호':'VHRNO',\n",
    "    '차대번호':'VIN',\n",
    "    'EG':'GRD4_MLSFC',\n",
    "    '차종':'VHCTY_CD',\n",
    "    '차종유형':'VHCTY_TY',\n",
    "    '용도':'PURPS_CD2',\n",
    "    '연료':'FUEL_CD',\n",
    "    '시도':'CTPV',\n",
    "    '시군구':'SGG',\n",
    "    '차량연식':'YRIDNW',\n",
    "    'DPF_YN':'DPF_MNTNG_YN',\n",
    "    '저감장치종류':'RDCDVC_KND',\n",
    "    '최초등록일자':'FRST_REG_YMD',\n",
    "    '조기폐차신청여부':'ELPDSRC_APLY_YN',\n",
    "    '조기폐차상태코드':'ELPDSRC_STTS_CD',\n",
    "    '변경일자':'CHNG_DE',\n",
    "    '차량말소YN':'VHCL_ERSR_YN',\n",
    "    '테이블생성일자':'LOAD_DT', \n",
    "}\n",
    "STD_BD_DAT_GRD4_DTL_INFO = STD_BD_DAT_GRD4_DTL_INFO.rename(columns=cdict)\n",
    "STD_BD_DAT_GRD4_DTL_INFO.columns"
   ]
  },
  {
   "cell_type": "code",
   "execution_count": 273,
   "metadata": {},
   "outputs": [
    {
     "data": {
      "text/plain": [
       "['VHRNO',\n",
       " 'VIN',\n",
       " 'GRD4_MLSFC',\n",
       " 'VHCTY_CD',\n",
       " 'VHCTY_TY',\n",
       " 'PURPS_CD2',\n",
       " 'FUEL_CD',\n",
       " 'CTPV',\n",
       " 'SGG',\n",
       " 'YRIDNW',\n",
       " 'DPF_MNTNG_YN',\n",
       " 'RDCDVC_KND',\n",
       " 'FRST_REG_YMD',\n",
       " 'ELPDSRC_APLY_YN',\n",
       " 'ELPDSRC_STTS_CD',\n",
       " 'CHNG_DE',\n",
       " 'VHCL_ERSR_YN',\n",
       " 'LOAD_DT']"
      ]
     },
     "execution_count": 273,
     "metadata": {},
     "output_type": "execute_result"
    }
   ],
   "source": [
    "list(STD_BD_DAT_GRD4_DTL_INFO.columns)"
   ]
  },
  {
   "cell_type": "code",
   "execution_count": 274,
   "metadata": {},
   "outputs": [
    {
     "data": {
      "text/plain": [
       "(1906823, 18)"
      ]
     },
     "execution_count": 274,
     "metadata": {},
     "output_type": "execute_result"
    }
   ],
   "source": [
    "STD_BD_DAT_GRD4_DTL_INFO.shape"
   ]
  },
  {
   "cell_type": "markdown",
   "metadata": {},
   "source": [
    "### [출력] STD_BD_DAT_GRD4_DTL_INFO"
   ]
  },
  {
   "cell_type": "code",
   "execution_count": 275,
   "metadata": {},
   "outputs": [],
   "source": [
    "# expdf = STD_BD_DAT_GRD4_DTL_INFO\n",
    "# table_nm = 'STD_BD_DAT_GRD4_DTL_INFO'.upper()\n",
    "\n",
    "# # 테이블 생성\n",
    "# sql = 'create or replace table ' + table_nm + '( \\n'\n",
    "\n",
    "# for idx,column in enumerate(expdf.columns):\n",
    "#     # if 'float' in expdf[column].dtype.name:\n",
    "#     #     sql += column + ' float'\n",
    "#     # elif 'int' in expdf[column].dtype.name:\n",
    "#     #     sql += column + ' number'\n",
    "#     # else:\n",
    "#     sql += column + ' varchar(255)'\n",
    "\n",
    "#     if len(expdf.columns) - 1 != idx:\n",
    "#         sql += ','\n",
    "#     sql += '\\n'\n",
    "# sql += ')'    \n",
    "# we.execute(sql)\n",
    "\n",
    "# # 데이터 추가\n",
    "# # 7s\n",
    "# we.import_from_pandas(expdf, table_nm)"
   ]
  },
  {
   "cell_type": "code",
   "execution_count": 276,
   "metadata": {},
   "outputs": [],
   "source": [
    "# # 9.1s\n",
    "# STD_BD_DAT_GRD4_DTL_INFO.to_csv(os.path.join(df1_fold, 'STD_BD_DAT_GRD4_DTL_INFO.csv'), index=False)"
   ]
  },
  {
   "cell_type": "markdown",
   "metadata": {},
   "source": [
    "## 4등급 연월, 시도, 시군구별 차량 대수"
   ]
  },
  {
   "cell_type": "code",
   "execution_count": 277,
   "metadata": {},
   "outputs": [],
   "source": [
    "dfm = df.copy()"
   ]
  },
  {
   "cell_type": "code",
   "execution_count": 278,
   "metadata": {},
   "outputs": [],
   "source": [
    "dfm['최초등록일자'] = dfm['최초등록일자'].astype('str')"
   ]
  },
  {
   "cell_type": "code",
   "execution_count": 279,
   "metadata": {},
   "outputs": [],
   "source": [
    "dfm['최초등록일자_년'] = dfm['최초등록일자'].str[:4]\n",
    "dfm['최초등록일자_월'] = dfm['최초등록일자'].str[4:6]\n",
    "dfm['최초등록일자_일'] = dfm['최초등록일자'].str[6:8]\n",
    "dfm['최초등록일자'] = dfm['최초등록일자_년'] + dfm['최초등록일자_월'] + dfm['최초등록일자_일']\n",
    "dfm['최초등록일자'] = pd.to_numeric(dfm['최초등록일자'], errors='coerce')"
   ]
  },
  {
   "cell_type": "markdown",
   "metadata": {},
   "source": [
    "### 시군구명 앞쪽 지역명만 남기기(dfm)"
   ]
  },
  {
   "cell_type": "code",
   "execution_count": 280,
   "metadata": {},
   "outputs": [],
   "source": [
    "# 시군구명 앞쪽 지역명만 남기기(dfm)\n",
    "dfm['시군구_수정'] = dfm['시군구'].str.split(' ').str[0]"
   ]
  },
  {
   "cell_type": "markdown",
   "metadata": {},
   "source": [
    "### 현재 연료 지역별 차량대수"
   ]
  },
  {
   "cell_type": "code",
   "execution_count": 281,
   "metadata": {},
   "outputs": [
    {
     "data": {
      "text/html": [
       "<div>\n",
       "<style scoped>\n",
       "    .dataframe tbody tr th:only-of-type {\n",
       "        vertical-align: middle;\n",
       "    }\n",
       "\n",
       "    .dataframe tbody tr th {\n",
       "        vertical-align: top;\n",
       "    }\n",
       "\n",
       "    .dataframe thead th {\n",
       "        text-align: right;\n",
       "    }\n",
       "</style>\n",
       "<table border=\"1\" class=\"dataframe\">\n",
       "  <thead>\n",
       "    <tr style=\"text-align: right;\">\n",
       "      <th></th>\n",
       "      <th>연료</th>\n",
       "      <th>시도</th>\n",
       "      <th>시군구_수정</th>\n",
       "      <th>차량대수</th>\n",
       "    </tr>\n",
       "  </thead>\n",
       "  <tbody>\n",
       "    <tr>\n",
       "      <th>0</th>\n",
       "      <td>CNG(압축천연가스)</td>\n",
       "      <td>전라남도</td>\n",
       "      <td>해남군</td>\n",
       "      <td>1</td>\n",
       "    </tr>\n",
       "    <tr>\n",
       "      <th>1</th>\n",
       "      <td>LPG(액화석유가스)</td>\n",
       "      <td>강원특별자치도</td>\n",
       "      <td>강릉시</td>\n",
       "      <td>62</td>\n",
       "    </tr>\n",
       "    <tr>\n",
       "      <th>2</th>\n",
       "      <td>LPG(액화석유가스)</td>\n",
       "      <td>강원특별자치도</td>\n",
       "      <td>고성군</td>\n",
       "      <td>13</td>\n",
       "    </tr>\n",
       "    <tr>\n",
       "      <th>3</th>\n",
       "      <td>LPG(액화석유가스)</td>\n",
       "      <td>강원특별자치도</td>\n",
       "      <td>동해시</td>\n",
       "      <td>183</td>\n",
       "    </tr>\n",
       "    <tr>\n",
       "      <th>4</th>\n",
       "      <td>LPG(액화석유가스)</td>\n",
       "      <td>강원특별자치도</td>\n",
       "      <td>삼척시</td>\n",
       "      <td>18</td>\n",
       "    </tr>\n",
       "    <tr>\n",
       "      <th>...</th>\n",
       "      <td>...</td>\n",
       "      <td>...</td>\n",
       "      <td>...</td>\n",
       "      <td>...</td>\n",
       "    </tr>\n",
       "    <tr>\n",
       "      <th>726</th>\n",
       "      <td>NaN</td>\n",
       "      <td>전라남도</td>\n",
       "      <td>고흥군</td>\n",
       "      <td>1</td>\n",
       "    </tr>\n",
       "    <tr>\n",
       "      <th>727</th>\n",
       "      <td>NaN</td>\n",
       "      <td>전라북도</td>\n",
       "      <td>군산시</td>\n",
       "      <td>3</td>\n",
       "    </tr>\n",
       "    <tr>\n",
       "      <th>728</th>\n",
       "      <td>NaN</td>\n",
       "      <td>전라북도</td>\n",
       "      <td>익산시</td>\n",
       "      <td>1</td>\n",
       "    </tr>\n",
       "    <tr>\n",
       "      <th>729</th>\n",
       "      <td>NaN</td>\n",
       "      <td>충청북도</td>\n",
       "      <td>진천군</td>\n",
       "      <td>1</td>\n",
       "    </tr>\n",
       "    <tr>\n",
       "      <th>730</th>\n",
       "      <td>NaN</td>\n",
       "      <td>충청북도</td>\n",
       "      <td>청주시</td>\n",
       "      <td>1</td>\n",
       "    </tr>\n",
       "  </tbody>\n",
       "</table>\n",
       "<p>731 rows × 4 columns</p>\n",
       "</div>"
      ],
      "text/plain": [
       "              연료       시도 시군구_수정  차량대수\n",
       "0    CNG(압축천연가스)     전라남도    해남군     1\n",
       "1    LPG(액화석유가스)  강원특별자치도    강릉시    62\n",
       "2    LPG(액화석유가스)  강원특별자치도    고성군    13\n",
       "3    LPG(액화석유가스)  강원특별자치도    동해시   183\n",
       "4    LPG(액화석유가스)  강원특별자치도    삼척시    18\n",
       "..           ...      ...    ...   ...\n",
       "726          NaN     전라남도    고흥군     1\n",
       "727          NaN     전라북도    군산시     3\n",
       "728          NaN     전라북도    익산시     1\n",
       "729          NaN     충청북도    진천군     1\n",
       "730          NaN     충청북도    청주시     1\n",
       "\n",
       "[731 rows x 4 columns]"
      ]
     },
     "execution_count": 281,
     "metadata": {},
     "output_type": "execute_result"
    }
   ],
   "source": [
    "num_car_by_local1 = dfm.groupby(['연료', '시도', '시군구_수정'], dropna=False)['차대번호'].count().reset_index()\n",
    "num_car_by_local1 = num_car_by_local1.rename(columns={'차대번호':'차량대수'})\n",
    "num_car_by_local1"
   ]
  },
  {
   "cell_type": "code",
   "execution_count": 282,
   "metadata": {},
   "outputs": [],
   "source": [
    "# max_date = str(dfm['최초등록일자'].max())\n",
    "# max_year = max_date[:4]\n",
    "# max_month = max_date[4:6]\n",
    "# max_year, max_month"
   ]
  },
  {
   "cell_type": "code",
   "execution_count": 283,
   "metadata": {},
   "outputs": [
    {
     "data": {
      "text/plain": [
       "('2023', '10')"
      ]
     },
     "execution_count": 283,
     "metadata": {},
     "output_type": "execute_result"
    }
   ],
   "source": [
    "# date = '20220601'\n",
    "# max_year = '2022'\n",
    "# max_month = '06'\n",
    "date = today_date\n",
    "max_year = today_date[:4]\n",
    "max_month = today_date[4:6]\n",
    "max_year, max_month"
   ]
  },
  {
   "cell_type": "code",
   "execution_count": 284,
   "metadata": {},
   "outputs": [
    {
     "data": {
      "text/html": [
       "<div>\n",
       "<style scoped>\n",
       "    .dataframe tbody tr th:only-of-type {\n",
       "        vertical-align: middle;\n",
       "    }\n",
       "\n",
       "    .dataframe tbody tr th {\n",
       "        vertical-align: top;\n",
       "    }\n",
       "\n",
       "    .dataframe thead th {\n",
       "        text-align: right;\n",
       "    }\n",
       "</style>\n",
       "<table border=\"1\" class=\"dataframe\">\n",
       "  <thead>\n",
       "    <tr style=\"text-align: right;\">\n",
       "      <th></th>\n",
       "      <th>연료</th>\n",
       "      <th>시도</th>\n",
       "      <th>시군구_수정</th>\n",
       "      <th>차량대수</th>\n",
       "      <th>연도</th>\n",
       "      <th>월</th>\n",
       "    </tr>\n",
       "  </thead>\n",
       "  <tbody>\n",
       "    <tr>\n",
       "      <th>0</th>\n",
       "      <td>CNG(압축천연가스)</td>\n",
       "      <td>전라남도</td>\n",
       "      <td>해남군</td>\n",
       "      <td>1</td>\n",
       "      <td>2023</td>\n",
       "      <td>10</td>\n",
       "    </tr>\n",
       "    <tr>\n",
       "      <th>1</th>\n",
       "      <td>LPG(액화석유가스)</td>\n",
       "      <td>강원특별자치도</td>\n",
       "      <td>강릉시</td>\n",
       "      <td>62</td>\n",
       "      <td>2023</td>\n",
       "      <td>10</td>\n",
       "    </tr>\n",
       "    <tr>\n",
       "      <th>2</th>\n",
       "      <td>LPG(액화석유가스)</td>\n",
       "      <td>강원특별자치도</td>\n",
       "      <td>고성군</td>\n",
       "      <td>13</td>\n",
       "      <td>2023</td>\n",
       "      <td>10</td>\n",
       "    </tr>\n",
       "    <tr>\n",
       "      <th>3</th>\n",
       "      <td>LPG(액화석유가스)</td>\n",
       "      <td>강원특별자치도</td>\n",
       "      <td>동해시</td>\n",
       "      <td>183</td>\n",
       "      <td>2023</td>\n",
       "      <td>10</td>\n",
       "    </tr>\n",
       "    <tr>\n",
       "      <th>4</th>\n",
       "      <td>LPG(액화석유가스)</td>\n",
       "      <td>강원특별자치도</td>\n",
       "      <td>삼척시</td>\n",
       "      <td>18</td>\n",
       "      <td>2023</td>\n",
       "      <td>10</td>\n",
       "    </tr>\n",
       "    <tr>\n",
       "      <th>...</th>\n",
       "      <td>...</td>\n",
       "      <td>...</td>\n",
       "      <td>...</td>\n",
       "      <td>...</td>\n",
       "      <td>...</td>\n",
       "      <td>...</td>\n",
       "    </tr>\n",
       "    <tr>\n",
       "      <th>726</th>\n",
       "      <td>NaN</td>\n",
       "      <td>전라남도</td>\n",
       "      <td>고흥군</td>\n",
       "      <td>1</td>\n",
       "      <td>2023</td>\n",
       "      <td>10</td>\n",
       "    </tr>\n",
       "    <tr>\n",
       "      <th>727</th>\n",
       "      <td>NaN</td>\n",
       "      <td>전라북도</td>\n",
       "      <td>군산시</td>\n",
       "      <td>3</td>\n",
       "      <td>2023</td>\n",
       "      <td>10</td>\n",
       "    </tr>\n",
       "    <tr>\n",
       "      <th>728</th>\n",
       "      <td>NaN</td>\n",
       "      <td>전라북도</td>\n",
       "      <td>익산시</td>\n",
       "      <td>1</td>\n",
       "      <td>2023</td>\n",
       "      <td>10</td>\n",
       "    </tr>\n",
       "    <tr>\n",
       "      <th>729</th>\n",
       "      <td>NaN</td>\n",
       "      <td>충청북도</td>\n",
       "      <td>진천군</td>\n",
       "      <td>1</td>\n",
       "      <td>2023</td>\n",
       "      <td>10</td>\n",
       "    </tr>\n",
       "    <tr>\n",
       "      <th>730</th>\n",
       "      <td>NaN</td>\n",
       "      <td>충청북도</td>\n",
       "      <td>청주시</td>\n",
       "      <td>1</td>\n",
       "      <td>2023</td>\n",
       "      <td>10</td>\n",
       "    </tr>\n",
       "  </tbody>\n",
       "</table>\n",
       "<p>731 rows × 6 columns</p>\n",
       "</div>"
      ],
      "text/plain": [
       "              연료       시도 시군구_수정  차량대수    연도   월\n",
       "0    CNG(압축천연가스)     전라남도    해남군     1  2023  10\n",
       "1    LPG(액화석유가스)  강원특별자치도    강릉시    62  2023  10\n",
       "2    LPG(액화석유가스)  강원특별자치도    고성군    13  2023  10\n",
       "3    LPG(액화석유가스)  강원특별자치도    동해시   183  2023  10\n",
       "4    LPG(액화석유가스)  강원특별자치도    삼척시    18  2023  10\n",
       "..           ...      ...    ...   ...   ...  ..\n",
       "726          NaN     전라남도    고흥군     1  2023  10\n",
       "727          NaN     전라북도    군산시     3  2023  10\n",
       "728          NaN     전라북도    익산시     1  2023  10\n",
       "729          NaN     충청북도    진천군     1  2023  10\n",
       "730          NaN     충청북도    청주시     1  2023  10\n",
       "\n",
       "[731 rows x 6 columns]"
      ]
     },
     "execution_count": 284,
     "metadata": {},
     "output_type": "execute_result"
    }
   ],
   "source": [
    "num_car_by_local1[['연도', '월']] = [max_year, max_month]\n",
    "num_car_by_local1"
   ]
  },
  {
   "cell_type": "markdown",
   "metadata": {},
   "source": [
    "### 연료 지역별 등록차량대수"
   ]
  },
  {
   "cell_type": "code",
   "execution_count": 285,
   "metadata": {},
   "outputs": [
    {
     "data": {
      "text/html": [
       "<div>\n",
       "<style scoped>\n",
       "    .dataframe tbody tr th:only-of-type {\n",
       "        vertical-align: middle;\n",
       "    }\n",
       "\n",
       "    .dataframe tbody tr th {\n",
       "        vertical-align: top;\n",
       "    }\n",
       "\n",
       "    .dataframe thead th {\n",
       "        text-align: right;\n",
       "    }\n",
       "</style>\n",
       "<table border=\"1\" class=\"dataframe\">\n",
       "  <thead>\n",
       "    <tr style=\"text-align: right;\">\n",
       "      <th></th>\n",
       "      <th>연료</th>\n",
       "      <th>시도</th>\n",
       "      <th>시군구_수정</th>\n",
       "      <th>연도</th>\n",
       "      <th>월</th>\n",
       "      <th>등록차량대수</th>\n",
       "    </tr>\n",
       "  </thead>\n",
       "  <tbody>\n",
       "    <tr>\n",
       "      <th>0</th>\n",
       "      <td>CNG(압축천연가스)</td>\n",
       "      <td>전라남도</td>\n",
       "      <td>해남군</td>\n",
       "      <td>2005</td>\n",
       "      <td>04</td>\n",
       "      <td>1</td>\n",
       "    </tr>\n",
       "    <tr>\n",
       "      <th>1</th>\n",
       "      <td>LPG(액화석유가스)</td>\n",
       "      <td>강원특별자치도</td>\n",
       "      <td>강릉시</td>\n",
       "      <td>1990</td>\n",
       "      <td>03</td>\n",
       "      <td>1</td>\n",
       "    </tr>\n",
       "    <tr>\n",
       "      <th>2</th>\n",
       "      <td>LPG(액화석유가스)</td>\n",
       "      <td>강원특별자치도</td>\n",
       "      <td>강릉시</td>\n",
       "      <td>1992</td>\n",
       "      <td>04</td>\n",
       "      <td>1</td>\n",
       "    </tr>\n",
       "    <tr>\n",
       "      <th>3</th>\n",
       "      <td>LPG(액화석유가스)</td>\n",
       "      <td>강원특별자치도</td>\n",
       "      <td>강릉시</td>\n",
       "      <td>1993</td>\n",
       "      <td>05</td>\n",
       "      <td>1</td>\n",
       "    </tr>\n",
       "    <tr>\n",
       "      <th>4</th>\n",
       "      <td>LPG(액화석유가스)</td>\n",
       "      <td>강원특별자치도</td>\n",
       "      <td>강릉시</td>\n",
       "      <td>1993</td>\n",
       "      <td>07</td>\n",
       "      <td>1</td>\n",
       "    </tr>\n",
       "    <tr>\n",
       "      <th>...</th>\n",
       "      <td>...</td>\n",
       "      <td>...</td>\n",
       "      <td>...</td>\n",
       "      <td>...</td>\n",
       "      <td>...</td>\n",
       "      <td>...</td>\n",
       "    </tr>\n",
       "    <tr>\n",
       "      <th>69276</th>\n",
       "      <td>NaN</td>\n",
       "      <td>전라북도</td>\n",
       "      <td>군산시</td>\n",
       "      <td>2003</td>\n",
       "      <td>01</td>\n",
       "      <td>1</td>\n",
       "    </tr>\n",
       "    <tr>\n",
       "      <th>69277</th>\n",
       "      <td>NaN</td>\n",
       "      <td>전라북도</td>\n",
       "      <td>군산시</td>\n",
       "      <td>2004</td>\n",
       "      <td>09</td>\n",
       "      <td>1</td>\n",
       "    </tr>\n",
       "    <tr>\n",
       "      <th>69278</th>\n",
       "      <td>NaN</td>\n",
       "      <td>전라북도</td>\n",
       "      <td>익산시</td>\n",
       "      <td>1993</td>\n",
       "      <td>03</td>\n",
       "      <td>1</td>\n",
       "    </tr>\n",
       "    <tr>\n",
       "      <th>69279</th>\n",
       "      <td>NaN</td>\n",
       "      <td>충청북도</td>\n",
       "      <td>진천군</td>\n",
       "      <td>1993</td>\n",
       "      <td>03</td>\n",
       "      <td>1</td>\n",
       "    </tr>\n",
       "    <tr>\n",
       "      <th>69280</th>\n",
       "      <td>NaN</td>\n",
       "      <td>충청북도</td>\n",
       "      <td>청주시</td>\n",
       "      <td>1998</td>\n",
       "      <td>06</td>\n",
       "      <td>1</td>\n",
       "    </tr>\n",
       "  </tbody>\n",
       "</table>\n",
       "<p>69281 rows × 6 columns</p>\n",
       "</div>"
      ],
      "text/plain": [
       "                연료       시도 시군구_수정    연도   월  등록차량대수\n",
       "0      CNG(압축천연가스)     전라남도    해남군  2005  04       1\n",
       "1      LPG(액화석유가스)  강원특별자치도    강릉시  1990  03       1\n",
       "2      LPG(액화석유가스)  강원특별자치도    강릉시  1992  04       1\n",
       "3      LPG(액화석유가스)  강원특별자치도    강릉시  1993  05       1\n",
       "4      LPG(액화석유가스)  강원특별자치도    강릉시  1993  07       1\n",
       "...            ...      ...    ...   ...  ..     ...\n",
       "69276          NaN     전라북도    군산시  2003  01       1\n",
       "69277          NaN     전라북도    군산시  2004  09       1\n",
       "69278          NaN     전라북도    익산시  1993  03       1\n",
       "69279          NaN     충청북도    진천군  1993  03       1\n",
       "69280          NaN     충청북도    청주시  1998  06       1\n",
       "\n",
       "[69281 rows x 6 columns]"
      ]
     },
     "execution_count": 285,
     "metadata": {},
     "output_type": "execute_result"
    }
   ],
   "source": [
    "num_car_by_local2 = dfm.groupby(['연료', '시도', '시군구_수정', '최초등록일자_년', '최초등록일자_월'], dropna=False)['차대번호'].count().reset_index() # !!! 수정(2023.10.24)\n",
    "num_car_by_local2 = num_car_by_local2.rename(columns={'차대번호':'등록차량대수', '최초등록일자_년':'연도', '최초등록일자_월':'월'})\n",
    "num_car_by_local2"
   ]
  },
  {
   "cell_type": "code",
   "execution_count": 286,
   "metadata": {},
   "outputs": [
    {
     "data": {
      "text/html": [
       "<div>\n",
       "<style scoped>\n",
       "    .dataframe tbody tr th:only-of-type {\n",
       "        vertical-align: middle;\n",
       "    }\n",
       "\n",
       "    .dataframe tbody tr th {\n",
       "        vertical-align: top;\n",
       "    }\n",
       "\n",
       "    .dataframe thead th {\n",
       "        text-align: right;\n",
       "    }\n",
       "</style>\n",
       "<table border=\"1\" class=\"dataframe\">\n",
       "  <thead>\n",
       "    <tr style=\"text-align: right;\">\n",
       "      <th></th>\n",
       "      <th>연료</th>\n",
       "      <th>시도</th>\n",
       "      <th>시군구_수정</th>\n",
       "      <th>연도</th>\n",
       "      <th>월</th>\n",
       "      <th>등록차량대수</th>\n",
       "    </tr>\n",
       "  </thead>\n",
       "  <tbody>\n",
       "    <tr>\n",
       "      <th>1</th>\n",
       "      <td>LPG(액화석유가스)</td>\n",
       "      <td>강원특별자치도</td>\n",
       "      <td>강릉시</td>\n",
       "      <td>1990</td>\n",
       "      <td>03</td>\n",
       "      <td>1</td>\n",
       "    </tr>\n",
       "    <tr>\n",
       "      <th>2</th>\n",
       "      <td>LPG(액화석유가스)</td>\n",
       "      <td>강원특별자치도</td>\n",
       "      <td>강릉시</td>\n",
       "      <td>1992</td>\n",
       "      <td>04</td>\n",
       "      <td>1</td>\n",
       "    </tr>\n",
       "    <tr>\n",
       "      <th>3</th>\n",
       "      <td>LPG(액화석유가스)</td>\n",
       "      <td>강원특별자치도</td>\n",
       "      <td>강릉시</td>\n",
       "      <td>1993</td>\n",
       "      <td>05</td>\n",
       "      <td>1</td>\n",
       "    </tr>\n",
       "    <tr>\n",
       "      <th>4</th>\n",
       "      <td>LPG(액화석유가스)</td>\n",
       "      <td>강원특별자치도</td>\n",
       "      <td>강릉시</td>\n",
       "      <td>1993</td>\n",
       "      <td>07</td>\n",
       "      <td>1</td>\n",
       "    </tr>\n",
       "    <tr>\n",
       "      <th>5</th>\n",
       "      <td>LPG(액화석유가스)</td>\n",
       "      <td>강원특별자치도</td>\n",
       "      <td>강릉시</td>\n",
       "      <td>1993</td>\n",
       "      <td>08</td>\n",
       "      <td>1</td>\n",
       "    </tr>\n",
       "    <tr>\n",
       "      <th>...</th>\n",
       "      <td>...</td>\n",
       "      <td>...</td>\n",
       "      <td>...</td>\n",
       "      <td>...</td>\n",
       "      <td>...</td>\n",
       "      <td>...</td>\n",
       "    </tr>\n",
       "    <tr>\n",
       "      <th>32226</th>\n",
       "      <td>휘발유</td>\n",
       "      <td>강원특별자치도</td>\n",
       "      <td>횡성군</td>\n",
       "      <td>2003</td>\n",
       "      <td>07</td>\n",
       "      <td>1</td>\n",
       "    </tr>\n",
       "    <tr>\n",
       "      <th>32227</th>\n",
       "      <td>휘발유</td>\n",
       "      <td>강원특별자치도</td>\n",
       "      <td>횡성군</td>\n",
       "      <td>2006</td>\n",
       "      <td>03</td>\n",
       "      <td>1</td>\n",
       "    </tr>\n",
       "    <tr>\n",
       "      <th>32228</th>\n",
       "      <td>휘발유</td>\n",
       "      <td>강원특별자치도</td>\n",
       "      <td>횡성군</td>\n",
       "      <td>2007</td>\n",
       "      <td>11</td>\n",
       "      <td>1</td>\n",
       "    </tr>\n",
       "    <tr>\n",
       "      <th>32229</th>\n",
       "      <td>휘발유</td>\n",
       "      <td>강원특별자치도</td>\n",
       "      <td>횡성군</td>\n",
       "      <td>2010</td>\n",
       "      <td>02</td>\n",
       "      <td>1</td>\n",
       "    </tr>\n",
       "    <tr>\n",
       "      <th>69235</th>\n",
       "      <td>NaN</td>\n",
       "      <td>강원특별자치도</td>\n",
       "      <td>강릉시</td>\n",
       "      <td>1996</td>\n",
       "      <td>08</td>\n",
       "      <td>1</td>\n",
       "    </tr>\n",
       "  </tbody>\n",
       "</table>\n",
       "<p>4189 rows × 6 columns</p>\n",
       "</div>"
      ],
      "text/plain": [
       "                연료       시도 시군구_수정    연도   월  등록차량대수\n",
       "1      LPG(액화석유가스)  강원특별자치도    강릉시  1990  03       1\n",
       "2      LPG(액화석유가스)  강원특별자치도    강릉시  1992  04       1\n",
       "3      LPG(액화석유가스)  강원특별자치도    강릉시  1993  05       1\n",
       "4      LPG(액화석유가스)  강원특별자치도    강릉시  1993  07       1\n",
       "5      LPG(액화석유가스)  강원특별자치도    강릉시  1993  08       1\n",
       "...            ...      ...    ...   ...  ..     ...\n",
       "32226          휘발유  강원특별자치도    횡성군  2003  07       1\n",
       "32227          휘발유  강원특별자치도    횡성군  2006  03       1\n",
       "32228          휘발유  강원특별자치도    횡성군  2007  11       1\n",
       "32229          휘발유  강원특별자치도    횡성군  2010  02       1\n",
       "69235          NaN  강원특별자치도    강릉시  1996  08       1\n",
       "\n",
       "[4189 rows x 6 columns]"
      ]
     },
     "execution_count": 286,
     "metadata": {},
     "output_type": "execute_result"
    }
   ],
   "source": [
    "num_car_by_local2[num_car_by_local2['시도'] == '강원특별자치도']"
   ]
  },
  {
   "cell_type": "code",
   "execution_count": 287,
   "metadata": {},
   "outputs": [
    {
     "data": {
      "text/html": [
       "<div>\n",
       "<style scoped>\n",
       "    .dataframe tbody tr th:only-of-type {\n",
       "        vertical-align: middle;\n",
       "    }\n",
       "\n",
       "    .dataframe tbody tr th {\n",
       "        vertical-align: top;\n",
       "    }\n",
       "\n",
       "    .dataframe thead th {\n",
       "        text-align: right;\n",
       "    }\n",
       "</style>\n",
       "<table border=\"1\" class=\"dataframe\">\n",
       "  <thead>\n",
       "    <tr style=\"text-align: right;\">\n",
       "      <th></th>\n",
       "      <th>연료</th>\n",
       "      <th>시도</th>\n",
       "      <th>시군구_수정</th>\n",
       "      <th>연도</th>\n",
       "      <th>월</th>\n",
       "      <th>등록차량대수</th>\n",
       "    </tr>\n",
       "  </thead>\n",
       "  <tbody>\n",
       "  </tbody>\n",
       "</table>\n",
       "</div>"
      ],
      "text/plain": [
       "Empty DataFrame\n",
       "Columns: [연료, 시도, 시군구_수정, 연도, 월, 등록차량대수]\n",
       "Index: []"
      ]
     },
     "execution_count": 287,
     "metadata": {},
     "output_type": "execute_result"
    }
   ],
   "source": [
    "num_car_by_local2[(num_car_by_local2['시도'] == '강원특별자치도') & (num_car_by_local2['연도'] > '2022')]"
   ]
  },
  {
   "cell_type": "code",
   "execution_count": 288,
   "metadata": {},
   "outputs": [
    {
     "data": {
      "text/plain": [
       "'2021'"
      ]
     },
     "execution_count": 288,
     "metadata": {},
     "output_type": "execute_result"
    }
   ],
   "source": [
    "num_car_by_local2.loc[num_car_by_local2['시도'] == '강원특별자치도', '연도'].max()"
   ]
  },
  {
   "cell_type": "markdown",
   "metadata": {},
   "source": [
    "### 연월, 연료 지역별 말소 대수"
   ]
  },
  {
   "cell_type": "code",
   "execution_count": 289,
   "metadata": {},
   "outputs": [],
   "source": [
    "errc['변경일자'] = errc['변경일자'].astype('str')"
   ]
  },
  {
   "cell_type": "code",
   "execution_count": 290,
   "metadata": {},
   "outputs": [],
   "source": [
    "errc['변경일자_년'] = errc['변경일자'].str[:4]\n",
    "errc['변경일자_월'] = errc['변경일자'].str[4:6]\n",
    "errc['변경일자_일'] = errc['변경일자'].str[6:8]"
   ]
  },
  {
   "cell_type": "markdown",
   "metadata": {},
   "source": [
    "### 시군구명 앞쪽 지역명만 남기기(errc)"
   ]
  },
  {
   "cell_type": "code",
   "execution_count": 291,
   "metadata": {},
   "outputs": [],
   "source": [
    "# 시군구명 앞쪽 지역명만 남기기(errc)\n",
    "errc['시군구_수정'] = errc['시군구'].str.split(' ').str[0]"
   ]
  },
  {
   "cell_type": "code",
   "execution_count": 292,
   "metadata": {},
   "outputs": [
    {
     "data": {
      "text/html": [
       "<div>\n",
       "<style scoped>\n",
       "    .dataframe tbody tr th:only-of-type {\n",
       "        vertical-align: middle;\n",
       "    }\n",
       "\n",
       "    .dataframe tbody tr th {\n",
       "        vertical-align: top;\n",
       "    }\n",
       "\n",
       "    .dataframe thead th {\n",
       "        text-align: right;\n",
       "    }\n",
       "</style>\n",
       "<table border=\"1\" class=\"dataframe\">\n",
       "  <thead>\n",
       "    <tr style=\"text-align: right;\">\n",
       "      <th></th>\n",
       "      <th>연도</th>\n",
       "      <th>월</th>\n",
       "      <th>연료</th>\n",
       "      <th>시도</th>\n",
       "      <th>시군구_수정</th>\n",
       "      <th>말소차량대수</th>\n",
       "    </tr>\n",
       "  </thead>\n",
       "  <tbody>\n",
       "    <tr>\n",
       "      <th>3506</th>\n",
       "      <td>2019</td>\n",
       "      <td>12</td>\n",
       "      <td>경유</td>\n",
       "      <td>강원특별자치도</td>\n",
       "      <td>원주시</td>\n",
       "      <td>1</td>\n",
       "    </tr>\n",
       "    <tr>\n",
       "      <th>5743</th>\n",
       "      <td>2020</td>\n",
       "      <td>04</td>\n",
       "      <td>경유</td>\n",
       "      <td>강원특별자치도</td>\n",
       "      <td>춘천시</td>\n",
       "      <td>1</td>\n",
       "    </tr>\n",
       "    <tr>\n",
       "      <th>1</th>\n",
       "      <td>2019</td>\n",
       "      <td>05</td>\n",
       "      <td>휘발유</td>\n",
       "      <td>경기도</td>\n",
       "      <td>가평군</td>\n",
       "      <td>1</td>\n",
       "    </tr>\n",
       "    <tr>\n",
       "      <th>106</th>\n",
       "      <td>2019</td>\n",
       "      <td>06</td>\n",
       "      <td>경유</td>\n",
       "      <td>경기도</td>\n",
       "      <td>가평군</td>\n",
       "      <td>4</td>\n",
       "    </tr>\n",
       "    <tr>\n",
       "      <th>304</th>\n",
       "      <td>2019</td>\n",
       "      <td>06</td>\n",
       "      <td>휘발유</td>\n",
       "      <td>경기도</td>\n",
       "      <td>가평군</td>\n",
       "      <td>3</td>\n",
       "    </tr>\n",
       "    <tr>\n",
       "      <th>...</th>\n",
       "      <td>...</td>\n",
       "      <td>...</td>\n",
       "      <td>...</td>\n",
       "      <td>...</td>\n",
       "      <td>...</td>\n",
       "      <td>...</td>\n",
       "    </tr>\n",
       "    <tr>\n",
       "      <th>18962</th>\n",
       "      <td>2022</td>\n",
       "      <td>04</td>\n",
       "      <td>휘발유</td>\n",
       "      <td>충청북도</td>\n",
       "      <td>충주시</td>\n",
       "      <td>6</td>\n",
       "    </tr>\n",
       "    <tr>\n",
       "      <th>19272</th>\n",
       "      <td>2022</td>\n",
       "      <td>05</td>\n",
       "      <td>경유</td>\n",
       "      <td>충청북도</td>\n",
       "      <td>충주시</td>\n",
       "      <td>47</td>\n",
       "    </tr>\n",
       "    <tr>\n",
       "      <th>19469</th>\n",
       "      <td>2022</td>\n",
       "      <td>05</td>\n",
       "      <td>휘발유</td>\n",
       "      <td>충청북도</td>\n",
       "      <td>충주시</td>\n",
       "      <td>7</td>\n",
       "    </tr>\n",
       "    <tr>\n",
       "      <th>19767</th>\n",
       "      <td>2022</td>\n",
       "      <td>06</td>\n",
       "      <td>경유</td>\n",
       "      <td>충청북도</td>\n",
       "      <td>충주시</td>\n",
       "      <td>44</td>\n",
       "    </tr>\n",
       "    <tr>\n",
       "      <th>19957</th>\n",
       "      <td>2022</td>\n",
       "      <td>06</td>\n",
       "      <td>휘발유</td>\n",
       "      <td>충청북도</td>\n",
       "      <td>충주시</td>\n",
       "      <td>7</td>\n",
       "    </tr>\n",
       "  </tbody>\n",
       "</table>\n",
       "<p>19958 rows × 6 columns</p>\n",
       "</div>"
      ],
      "text/plain": [
       "         연도   월   연료       시도 시군구_수정  말소차량대수\n",
       "3506   2019  12   경유  강원특별자치도    원주시       1\n",
       "5743   2020  04   경유  강원특별자치도    춘천시       1\n",
       "1      2019  05  휘발유      경기도    가평군       1\n",
       "106    2019  06   경유      경기도    가평군       4\n",
       "304    2019  06  휘발유      경기도    가평군       3\n",
       "...     ...  ..  ...      ...    ...     ...\n",
       "18962  2022  04  휘발유     충청북도    충주시       6\n",
       "19272  2022  05   경유     충청북도    충주시      47\n",
       "19469  2022  05  휘발유     충청북도    충주시       7\n",
       "19767  2022  06   경유     충청북도    충주시      44\n",
       "19957  2022  06  휘발유     충청북도    충주시       7\n",
       "\n",
       "[19958 rows x 6 columns]"
      ]
     },
     "execution_count": 292,
     "metadata": {},
     "output_type": "execute_result"
    }
   ],
   "source": [
    "grp_erase = errc.groupby(['변경일자_년', '변경일자_월', '연료', '시도', '시군구_수정'], dropna=False)['차대번호'].count().reset_index() # !!! 수정(2023.10.24)\n",
    "grp_erase = grp_erase.rename(columns={'차대번호':'말소차량대수', '변경일자_년':'연도', '변경일자_월':'월'})\n",
    "grp_erase = grp_erase.sort_values(['시도', '시군구_수정'])\n",
    "grp_erase"
   ]
  },
  {
   "cell_type": "code",
   "execution_count": 293,
   "metadata": {},
   "outputs": [
    {
     "data": {
      "text/html": [
       "<div>\n",
       "<style scoped>\n",
       "    .dataframe tbody tr th:only-of-type {\n",
       "        vertical-align: middle;\n",
       "    }\n",
       "\n",
       "    .dataframe tbody tr th {\n",
       "        vertical-align: top;\n",
       "    }\n",
       "\n",
       "    .dataframe thead th {\n",
       "        text-align: right;\n",
       "    }\n",
       "</style>\n",
       "<table border=\"1\" class=\"dataframe\">\n",
       "  <thead>\n",
       "    <tr style=\"text-align: right;\">\n",
       "      <th></th>\n",
       "      <th>연도</th>\n",
       "      <th>월</th>\n",
       "      <th>연료</th>\n",
       "      <th>시도</th>\n",
       "      <th>시군구_수정</th>\n",
       "      <th>말소차량대수</th>\n",
       "    </tr>\n",
       "  </thead>\n",
       "  <tbody>\n",
       "    <tr>\n",
       "      <th>3506</th>\n",
       "      <td>2019</td>\n",
       "      <td>12</td>\n",
       "      <td>경유</td>\n",
       "      <td>강원특별자치도</td>\n",
       "      <td>원주시</td>\n",
       "      <td>1</td>\n",
       "    </tr>\n",
       "    <tr>\n",
       "      <th>5743</th>\n",
       "      <td>2020</td>\n",
       "      <td>04</td>\n",
       "      <td>경유</td>\n",
       "      <td>강원특별자치도</td>\n",
       "      <td>춘천시</td>\n",
       "      <td>1</td>\n",
       "    </tr>\n",
       "  </tbody>\n",
       "</table>\n",
       "</div>"
      ],
      "text/plain": [
       "        연도   월  연료       시도 시군구_수정  말소차량대수\n",
       "3506  2019  12  경유  강원특별자치도    원주시       1\n",
       "5743  2020  04  경유  강원특별자치도    춘천시       1"
      ]
     },
     "execution_count": 293,
     "metadata": {},
     "output_type": "execute_result"
    }
   ],
   "source": [
    "grp_erase[grp_erase['시도'] == '강원특별자치도']"
   ]
  },
  {
   "cell_type": "code",
   "execution_count": 294,
   "metadata": {},
   "outputs": [
    {
     "data": {
      "text/plain": [
       "[11, 12, 1, 2, 3, 4, 5, 6, 7, 8, 9, 10]"
      ]
     },
     "execution_count": 294,
     "metadata": {},
     "output_type": "execute_result"
    }
   ],
   "source": [
    "list(pd.date_range(end=date, periods=12, freq=\"MS\").month)"
   ]
  },
  {
   "cell_type": "code",
   "execution_count": 295,
   "metadata": {},
   "outputs": [
    {
     "data": {
      "text/plain": [
       "([2022, 2022, 2023, 2023, 2023, 2023, 2023, 2023, 2023, 2023, 2023, 2023],\n",
       " [11, 12, 1, 2, 3, 4, 5, 6, 7, 8, 9, 10])"
      ]
     },
     "execution_count": 295,
     "metadata": {},
     "output_type": "execute_result"
    }
   ],
   "source": [
    "periods = 12 # !!! 수정(2023.08.23)\n",
    "y_plist = list(pd.date_range(end=date, periods=periods, freq=\"MS\").year) # !!! 수정(2023.08.23)\n",
    "mth_plist = list(pd.date_range(end=date, periods=periods, freq=\"MS\").month) # !!! 수정(2023.08.23)\n",
    "y_plist, mth_plist"
   ]
  },
  {
   "cell_type": "code",
   "execution_count": 296,
   "metadata": {},
   "outputs": [],
   "source": [
    "yr_list, mth_list, fuel_list, ctpv_list, sgg_list = [], [], [], [], [] \n",
    "sl = num_car_by_local1.drop_duplicates(['시도', '시군구_수정']).reset_index(drop=True)\n",
    "for ctpv, sgg in sl[['시도', '시군구_수정']].values:\n",
    "    for fuel in sl['연료'].unique():\n",
    "        for yr, mth in zip(y_plist, mth_plist):\n",
    "            mthm = f'{mth:0>2}'\n",
    "            yr_list.append(str(yr))\n",
    "            mth_list.append(mthm)\n",
    "            fuel_list.append(fuel)\n",
    "            ctpv_list.append(ctpv)\n",
    "            sgg_list.append(sgg)\n",
    "base = pd.DataFrame({'연도':yr_list, '월':mth_list, '연료':fuel_list, '시도':ctpv_list, '시군구_수정':sgg_list})"
   ]
  },
  {
   "cell_type": "code",
   "execution_count": 297,
   "metadata": {},
   "outputs": [
    {
     "data": {
      "text/html": [
       "<div>\n",
       "<style scoped>\n",
       "    .dataframe tbody tr th:only-of-type {\n",
       "        vertical-align: middle;\n",
       "    }\n",
       "\n",
       "    .dataframe tbody tr th {\n",
       "        vertical-align: top;\n",
       "    }\n",
       "\n",
       "    .dataframe thead th {\n",
       "        text-align: right;\n",
       "    }\n",
       "</style>\n",
       "<table border=\"1\" class=\"dataframe\">\n",
       "  <thead>\n",
       "    <tr style=\"text-align: right;\">\n",
       "      <th></th>\n",
       "      <th>연도</th>\n",
       "      <th>월</th>\n",
       "      <th>연료</th>\n",
       "      <th>시도</th>\n",
       "      <th>시군구_수정</th>\n",
       "    </tr>\n",
       "  </thead>\n",
       "  <tbody>\n",
       "    <tr>\n",
       "      <th>0</th>\n",
       "      <td>2022</td>\n",
       "      <td>11</td>\n",
       "      <td>CNG(압축천연가스)</td>\n",
       "      <td>전라남도</td>\n",
       "      <td>해남군</td>\n",
       "    </tr>\n",
       "    <tr>\n",
       "      <th>1</th>\n",
       "      <td>2022</td>\n",
       "      <td>12</td>\n",
       "      <td>CNG(압축천연가스)</td>\n",
       "      <td>전라남도</td>\n",
       "      <td>해남군</td>\n",
       "    </tr>\n",
       "    <tr>\n",
       "      <th>2</th>\n",
       "      <td>2023</td>\n",
       "      <td>01</td>\n",
       "      <td>CNG(압축천연가스)</td>\n",
       "      <td>전라남도</td>\n",
       "      <td>해남군</td>\n",
       "    </tr>\n",
       "    <tr>\n",
       "      <th>3</th>\n",
       "      <td>2023</td>\n",
       "      <td>02</td>\n",
       "      <td>CNG(압축천연가스)</td>\n",
       "      <td>전라남도</td>\n",
       "      <td>해남군</td>\n",
       "    </tr>\n",
       "    <tr>\n",
       "      <th>4</th>\n",
       "      <td>2023</td>\n",
       "      <td>03</td>\n",
       "      <td>CNG(압축천연가스)</td>\n",
       "      <td>전라남도</td>\n",
       "      <td>해남군</td>\n",
       "    </tr>\n",
       "    <tr>\n",
       "      <th>...</th>\n",
       "      <td>...</td>\n",
       "      <td>...</td>\n",
       "      <td>...</td>\n",
       "      <td>...</td>\n",
       "      <td>...</td>\n",
       "    </tr>\n",
       "    <tr>\n",
       "      <th>11131</th>\n",
       "      <td>2023</td>\n",
       "      <td>06</td>\n",
       "      <td>휘발유</td>\n",
       "      <td>인천광역시</td>\n",
       "      <td>남구</td>\n",
       "    </tr>\n",
       "    <tr>\n",
       "      <th>11132</th>\n",
       "      <td>2023</td>\n",
       "      <td>07</td>\n",
       "      <td>휘발유</td>\n",
       "      <td>인천광역시</td>\n",
       "      <td>남구</td>\n",
       "    </tr>\n",
       "    <tr>\n",
       "      <th>11133</th>\n",
       "      <td>2023</td>\n",
       "      <td>08</td>\n",
       "      <td>휘발유</td>\n",
       "      <td>인천광역시</td>\n",
       "      <td>남구</td>\n",
       "    </tr>\n",
       "    <tr>\n",
       "      <th>11134</th>\n",
       "      <td>2023</td>\n",
       "      <td>09</td>\n",
       "      <td>휘발유</td>\n",
       "      <td>인천광역시</td>\n",
       "      <td>남구</td>\n",
       "    </tr>\n",
       "    <tr>\n",
       "      <th>11135</th>\n",
       "      <td>2023</td>\n",
       "      <td>10</td>\n",
       "      <td>휘발유</td>\n",
       "      <td>인천광역시</td>\n",
       "      <td>남구</td>\n",
       "    </tr>\n",
       "  </tbody>\n",
       "</table>\n",
       "<p>11136 rows × 5 columns</p>\n",
       "</div>"
      ],
      "text/plain": [
       "         연도   월           연료     시도 시군구_수정\n",
       "0      2022  11  CNG(압축천연가스)   전라남도    해남군\n",
       "1      2022  12  CNG(압축천연가스)   전라남도    해남군\n",
       "2      2023  01  CNG(압축천연가스)   전라남도    해남군\n",
       "3      2023  02  CNG(압축천연가스)   전라남도    해남군\n",
       "4      2023  03  CNG(압축천연가스)   전라남도    해남군\n",
       "...     ...  ..          ...    ...    ...\n",
       "11131  2023  06          휘발유  인천광역시     남구\n",
       "11132  2023  07          휘발유  인천광역시     남구\n",
       "11133  2023  08          휘발유  인천광역시     남구\n",
       "11134  2023  09          휘발유  인천광역시     남구\n",
       "11135  2023  10          휘발유  인천광역시     남구\n",
       "\n",
       "[11136 rows x 5 columns]"
      ]
     },
     "execution_count": 297,
     "metadata": {},
     "output_type": "execute_result"
    }
   ],
   "source": [
    "base"
   ]
  },
  {
   "cell_type": "code",
   "execution_count": 298,
   "metadata": {},
   "outputs": [
    {
     "data": {
      "text/html": [
       "<div>\n",
       "<style scoped>\n",
       "    .dataframe tbody tr th:only-of-type {\n",
       "        vertical-align: middle;\n",
       "    }\n",
       "\n",
       "    .dataframe tbody tr th {\n",
       "        vertical-align: top;\n",
       "    }\n",
       "\n",
       "    .dataframe thead th {\n",
       "        text-align: right;\n",
       "    }\n",
       "</style>\n",
       "<table border=\"1\" class=\"dataframe\">\n",
       "  <thead>\n",
       "    <tr style=\"text-align: right;\">\n",
       "      <th></th>\n",
       "      <th>연료</th>\n",
       "      <th>시도</th>\n",
       "      <th>시군구_수정</th>\n",
       "      <th>차량대수</th>\n",
       "      <th>연도</th>\n",
       "      <th>월</th>\n",
       "    </tr>\n",
       "  </thead>\n",
       "  <tbody>\n",
       "    <tr>\n",
       "      <th>0</th>\n",
       "      <td>CNG(압축천연가스)</td>\n",
       "      <td>전라남도</td>\n",
       "      <td>해남군</td>\n",
       "      <td>1</td>\n",
       "      <td>2023</td>\n",
       "      <td>10</td>\n",
       "    </tr>\n",
       "    <tr>\n",
       "      <th>1</th>\n",
       "      <td>LPG(액화석유가스)</td>\n",
       "      <td>강원특별자치도</td>\n",
       "      <td>강릉시</td>\n",
       "      <td>62</td>\n",
       "      <td>2023</td>\n",
       "      <td>10</td>\n",
       "    </tr>\n",
       "    <tr>\n",
       "      <th>2</th>\n",
       "      <td>LPG(액화석유가스)</td>\n",
       "      <td>강원특별자치도</td>\n",
       "      <td>고성군</td>\n",
       "      <td>13</td>\n",
       "      <td>2023</td>\n",
       "      <td>10</td>\n",
       "    </tr>\n",
       "    <tr>\n",
       "      <th>3</th>\n",
       "      <td>LPG(액화석유가스)</td>\n",
       "      <td>강원특별자치도</td>\n",
       "      <td>동해시</td>\n",
       "      <td>183</td>\n",
       "      <td>2023</td>\n",
       "      <td>10</td>\n",
       "    </tr>\n",
       "    <tr>\n",
       "      <th>4</th>\n",
       "      <td>LPG(액화석유가스)</td>\n",
       "      <td>강원특별자치도</td>\n",
       "      <td>삼척시</td>\n",
       "      <td>18</td>\n",
       "      <td>2023</td>\n",
       "      <td>10</td>\n",
       "    </tr>\n",
       "  </tbody>\n",
       "</table>\n",
       "</div>"
      ],
      "text/plain": [
       "            연료       시도 시군구_수정  차량대수    연도   월\n",
       "0  CNG(압축천연가스)     전라남도    해남군     1  2023  10\n",
       "1  LPG(액화석유가스)  강원특별자치도    강릉시    62  2023  10\n",
       "2  LPG(액화석유가스)  강원특별자치도    고성군    13  2023  10\n",
       "3  LPG(액화석유가스)  강원특별자치도    동해시   183  2023  10\n",
       "4  LPG(액화석유가스)  강원특별자치도    삼척시    18  2023  10"
      ]
     },
     "execution_count": 298,
     "metadata": {},
     "output_type": "execute_result"
    }
   ],
   "source": [
    "num_car_by_local1.head()"
   ]
  },
  {
   "cell_type": "code",
   "execution_count": 299,
   "metadata": {},
   "outputs": [],
   "source": [
    "base1 = base.merge(num_car_by_local1, on=['연도', '월', '연료', '시도', '시군구_수정'], how='left')"
   ]
  },
  {
   "cell_type": "code",
   "execution_count": 300,
   "metadata": {},
   "outputs": [],
   "source": [
    "base2 = base1.merge(num_car_by_local2, on=['연도', '월', '연료', '시도', '시군구_수정'], how='left')"
   ]
  },
  {
   "cell_type": "code",
   "execution_count": 317,
   "metadata": {},
   "outputs": [],
   "source": [
    "base3 = base2.merge(grp_erase, on=['연도', '월', '연료', '시도', '시군구_수정'], how='left')"
   ]
  },
  {
   "cell_type": "code",
   "execution_count": 318,
   "metadata": {},
   "outputs": [
    {
     "data": {
      "text/plain": [
       "차량대수      0\n",
       "등록차량대수    0\n",
       "말소차량대수    0\n",
       "dtype: int64"
      ]
     },
     "execution_count": 318,
     "metadata": {},
     "output_type": "execute_result"
    }
   ],
   "source": [
    "base3[['차량대수', '등록차량대수', '말소차량대수']] = base3[['차량대수', '등록차량대수', '말소차량대수']].fillna(0)\n",
    "base3[['차량대수', '등록차량대수', '말소차량대수']].isnull().sum()"
   ]
  },
  {
   "cell_type": "code",
   "execution_count": 319,
   "metadata": {},
   "outputs": [
    {
     "data": {
      "text/plain": [
       "12"
      ]
     },
     "execution_count": 319,
     "metadata": {},
     "output_type": "execute_result"
    }
   ],
   "source": [
    "periods"
   ]
  },
  {
   "cell_type": "code",
   "execution_count": 320,
   "metadata": {},
   "outputs": [],
   "source": [
    "# n = len(base3['월'].unique())\n",
    "n = periods # !!! 수정(2023.08.23)\n",
    "for i in range(base3.shape[0] // n):\n",
    "    for j in range(2, n+1):\n",
    "        base3.loc[(i+1)*n - j, '차량대수'] = base3.loc[(i+1)*n - (j-1), '차량대수'] + base3.loc[(i+1)*n - (j-1), '말소차량대수'] - base3.loc[(i+1)*n - (j-1), '등록차량대수']"
   ]
  },
  {
   "cell_type": "code",
   "execution_count": 321,
   "metadata": {},
   "outputs": [
    {
     "data": {
      "text/html": [
       "<div>\n",
       "<style scoped>\n",
       "    .dataframe tbody tr th:only-of-type {\n",
       "        vertical-align: middle;\n",
       "    }\n",
       "\n",
       "    .dataframe tbody tr th {\n",
       "        vertical-align: top;\n",
       "    }\n",
       "\n",
       "    .dataframe thead th {\n",
       "        text-align: right;\n",
       "    }\n",
       "</style>\n",
       "<table border=\"1\" class=\"dataframe\">\n",
       "  <thead>\n",
       "    <tr style=\"text-align: right;\">\n",
       "      <th></th>\n",
       "      <th>연도</th>\n",
       "      <th>월</th>\n",
       "      <th>연료</th>\n",
       "      <th>시도</th>\n",
       "      <th>시군구_수정</th>\n",
       "      <th>차량대수</th>\n",
       "      <th>등록차량대수</th>\n",
       "      <th>말소차량대수</th>\n",
       "    </tr>\n",
       "  </thead>\n",
       "  <tbody>\n",
       "    <tr>\n",
       "      <th>0</th>\n",
       "      <td>2022</td>\n",
       "      <td>11</td>\n",
       "      <td>CNG(압축천연가스)</td>\n",
       "      <td>전라남도</td>\n",
       "      <td>해남군</td>\n",
       "      <td>1.00</td>\n",
       "      <td>0.00</td>\n",
       "      <td>0.00</td>\n",
       "    </tr>\n",
       "    <tr>\n",
       "      <th>1</th>\n",
       "      <td>2022</td>\n",
       "      <td>12</td>\n",
       "      <td>CNG(압축천연가스)</td>\n",
       "      <td>전라남도</td>\n",
       "      <td>해남군</td>\n",
       "      <td>1.00</td>\n",
       "      <td>0.00</td>\n",
       "      <td>0.00</td>\n",
       "    </tr>\n",
       "    <tr>\n",
       "      <th>2</th>\n",
       "      <td>2023</td>\n",
       "      <td>01</td>\n",
       "      <td>CNG(압축천연가스)</td>\n",
       "      <td>전라남도</td>\n",
       "      <td>해남군</td>\n",
       "      <td>1.00</td>\n",
       "      <td>0.00</td>\n",
       "      <td>0.00</td>\n",
       "    </tr>\n",
       "    <tr>\n",
       "      <th>3</th>\n",
       "      <td>2023</td>\n",
       "      <td>02</td>\n",
       "      <td>CNG(압축천연가스)</td>\n",
       "      <td>전라남도</td>\n",
       "      <td>해남군</td>\n",
       "      <td>1.00</td>\n",
       "      <td>0.00</td>\n",
       "      <td>0.00</td>\n",
       "    </tr>\n",
       "    <tr>\n",
       "      <th>4</th>\n",
       "      <td>2023</td>\n",
       "      <td>03</td>\n",
       "      <td>CNG(압축천연가스)</td>\n",
       "      <td>전라남도</td>\n",
       "      <td>해남군</td>\n",
       "      <td>1.00</td>\n",
       "      <td>0.00</td>\n",
       "      <td>0.00</td>\n",
       "    </tr>\n",
       "    <tr>\n",
       "      <th>...</th>\n",
       "      <td>...</td>\n",
       "      <td>...</td>\n",
       "      <td>...</td>\n",
       "      <td>...</td>\n",
       "      <td>...</td>\n",
       "      <td>...</td>\n",
       "      <td>...</td>\n",
       "      <td>...</td>\n",
       "    </tr>\n",
       "    <tr>\n",
       "      <th>11131</th>\n",
       "      <td>2023</td>\n",
       "      <td>06</td>\n",
       "      <td>휘발유</td>\n",
       "      <td>인천광역시</td>\n",
       "      <td>남구</td>\n",
       "      <td>9.00</td>\n",
       "      <td>0.00</td>\n",
       "      <td>0.00</td>\n",
       "    </tr>\n",
       "    <tr>\n",
       "      <th>11132</th>\n",
       "      <td>2023</td>\n",
       "      <td>07</td>\n",
       "      <td>휘발유</td>\n",
       "      <td>인천광역시</td>\n",
       "      <td>남구</td>\n",
       "      <td>9.00</td>\n",
       "      <td>0.00</td>\n",
       "      <td>0.00</td>\n",
       "    </tr>\n",
       "    <tr>\n",
       "      <th>11133</th>\n",
       "      <td>2023</td>\n",
       "      <td>08</td>\n",
       "      <td>휘발유</td>\n",
       "      <td>인천광역시</td>\n",
       "      <td>남구</td>\n",
       "      <td>9.00</td>\n",
       "      <td>0.00</td>\n",
       "      <td>0.00</td>\n",
       "    </tr>\n",
       "    <tr>\n",
       "      <th>11134</th>\n",
       "      <td>2023</td>\n",
       "      <td>09</td>\n",
       "      <td>휘발유</td>\n",
       "      <td>인천광역시</td>\n",
       "      <td>남구</td>\n",
       "      <td>9.00</td>\n",
       "      <td>0.00</td>\n",
       "      <td>0.00</td>\n",
       "    </tr>\n",
       "    <tr>\n",
       "      <th>11135</th>\n",
       "      <td>2023</td>\n",
       "      <td>10</td>\n",
       "      <td>휘발유</td>\n",
       "      <td>인천광역시</td>\n",
       "      <td>남구</td>\n",
       "      <td>9.00</td>\n",
       "      <td>0.00</td>\n",
       "      <td>0.00</td>\n",
       "    </tr>\n",
       "  </tbody>\n",
       "</table>\n",
       "<p>11136 rows × 8 columns</p>\n",
       "</div>"
      ],
      "text/plain": [
       "         연도   월           연료     시도 시군구_수정  차량대수  등록차량대수  말소차량대수\n",
       "0      2022  11  CNG(압축천연가스)   전라남도    해남군  1.00    0.00    0.00\n",
       "1      2022  12  CNG(압축천연가스)   전라남도    해남군  1.00    0.00    0.00\n",
       "2      2023  01  CNG(압축천연가스)   전라남도    해남군  1.00    0.00    0.00\n",
       "3      2023  02  CNG(압축천연가스)   전라남도    해남군  1.00    0.00    0.00\n",
       "4      2023  03  CNG(압축천연가스)   전라남도    해남군  1.00    0.00    0.00\n",
       "...     ...  ..          ...    ...    ...   ...     ...     ...\n",
       "11131  2023  06          휘발유  인천광역시     남구  9.00    0.00    0.00\n",
       "11132  2023  07          휘발유  인천광역시     남구  9.00    0.00    0.00\n",
       "11133  2023  08          휘발유  인천광역시     남구  9.00    0.00    0.00\n",
       "11134  2023  09          휘발유  인천광역시     남구  9.00    0.00    0.00\n",
       "11135  2023  10          휘발유  인천광역시     남구  9.00    0.00    0.00\n",
       "\n",
       "[11136 rows x 8 columns]"
      ]
     },
     "execution_count": 321,
     "metadata": {},
     "output_type": "execute_result"
    }
   ],
   "source": [
    "base3"
   ]
  },
  {
   "cell_type": "code",
   "execution_count": 322,
   "metadata": {},
   "outputs": [
    {
     "data": {
      "text/html": [
       "<div>\n",
       "<style scoped>\n",
       "    .dataframe tbody tr th:only-of-type {\n",
       "        vertical-align: middle;\n",
       "    }\n",
       "\n",
       "    .dataframe tbody tr th {\n",
       "        vertical-align: top;\n",
       "    }\n",
       "\n",
       "    .dataframe thead th {\n",
       "        text-align: right;\n",
       "    }\n",
       "</style>\n",
       "<table border=\"1\" class=\"dataframe\">\n",
       "  <thead>\n",
       "    <tr style=\"text-align: right;\">\n",
       "      <th></th>\n",
       "      <th>연도</th>\n",
       "      <th>월</th>\n",
       "      <th>연료</th>\n",
       "      <th>시도</th>\n",
       "      <th>시군구_수정</th>\n",
       "      <th>차량대수</th>\n",
       "      <th>등록차량대수</th>\n",
       "      <th>말소차량대수</th>\n",
       "    </tr>\n",
       "  </thead>\n",
       "  <tbody>\n",
       "    <tr>\n",
       "      <th>48</th>\n",
       "      <td>2022</td>\n",
       "      <td>11</td>\n",
       "      <td>CNG(압축천연가스)</td>\n",
       "      <td>강원특별자치도</td>\n",
       "      <td>강릉시</td>\n",
       "      <td>0.00</td>\n",
       "      <td>0.00</td>\n",
       "      <td>0.00</td>\n",
       "    </tr>\n",
       "    <tr>\n",
       "      <th>49</th>\n",
       "      <td>2022</td>\n",
       "      <td>12</td>\n",
       "      <td>CNG(압축천연가스)</td>\n",
       "      <td>강원특별자치도</td>\n",
       "      <td>강릉시</td>\n",
       "      <td>0.00</td>\n",
       "      <td>0.00</td>\n",
       "      <td>0.00</td>\n",
       "    </tr>\n",
       "    <tr>\n",
       "      <th>50</th>\n",
       "      <td>2023</td>\n",
       "      <td>01</td>\n",
       "      <td>CNG(압축천연가스)</td>\n",
       "      <td>강원특별자치도</td>\n",
       "      <td>강릉시</td>\n",
       "      <td>0.00</td>\n",
       "      <td>0.00</td>\n",
       "      <td>0.00</td>\n",
       "    </tr>\n",
       "    <tr>\n",
       "      <th>51</th>\n",
       "      <td>2023</td>\n",
       "      <td>02</td>\n",
       "      <td>CNG(압축천연가스)</td>\n",
       "      <td>강원특별자치도</td>\n",
       "      <td>강릉시</td>\n",
       "      <td>0.00</td>\n",
       "      <td>0.00</td>\n",
       "      <td>0.00</td>\n",
       "    </tr>\n",
       "    <tr>\n",
       "      <th>52</th>\n",
       "      <td>2023</td>\n",
       "      <td>03</td>\n",
       "      <td>CNG(압축천연가스)</td>\n",
       "      <td>강원특별자치도</td>\n",
       "      <td>강릉시</td>\n",
       "      <td>0.00</td>\n",
       "      <td>0.00</td>\n",
       "      <td>0.00</td>\n",
       "    </tr>\n",
       "    <tr>\n",
       "      <th>53</th>\n",
       "      <td>2023</td>\n",
       "      <td>04</td>\n",
       "      <td>CNG(압축천연가스)</td>\n",
       "      <td>강원특별자치도</td>\n",
       "      <td>강릉시</td>\n",
       "      <td>0.00</td>\n",
       "      <td>0.00</td>\n",
       "      <td>0.00</td>\n",
       "    </tr>\n",
       "    <tr>\n",
       "      <th>54</th>\n",
       "      <td>2023</td>\n",
       "      <td>05</td>\n",
       "      <td>CNG(압축천연가스)</td>\n",
       "      <td>강원특별자치도</td>\n",
       "      <td>강릉시</td>\n",
       "      <td>0.00</td>\n",
       "      <td>0.00</td>\n",
       "      <td>0.00</td>\n",
       "    </tr>\n",
       "    <tr>\n",
       "      <th>55</th>\n",
       "      <td>2023</td>\n",
       "      <td>06</td>\n",
       "      <td>CNG(압축천연가스)</td>\n",
       "      <td>강원특별자치도</td>\n",
       "      <td>강릉시</td>\n",
       "      <td>0.00</td>\n",
       "      <td>0.00</td>\n",
       "      <td>0.00</td>\n",
       "    </tr>\n",
       "    <tr>\n",
       "      <th>56</th>\n",
       "      <td>2023</td>\n",
       "      <td>07</td>\n",
       "      <td>CNG(압축천연가스)</td>\n",
       "      <td>강원특별자치도</td>\n",
       "      <td>강릉시</td>\n",
       "      <td>0.00</td>\n",
       "      <td>0.00</td>\n",
       "      <td>0.00</td>\n",
       "    </tr>\n",
       "    <tr>\n",
       "      <th>57</th>\n",
       "      <td>2023</td>\n",
       "      <td>08</td>\n",
       "      <td>CNG(압축천연가스)</td>\n",
       "      <td>강원특별자치도</td>\n",
       "      <td>강릉시</td>\n",
       "      <td>0.00</td>\n",
       "      <td>0.00</td>\n",
       "      <td>0.00</td>\n",
       "    </tr>\n",
       "    <tr>\n",
       "      <th>58</th>\n",
       "      <td>2023</td>\n",
       "      <td>09</td>\n",
       "      <td>CNG(압축천연가스)</td>\n",
       "      <td>강원특별자치도</td>\n",
       "      <td>강릉시</td>\n",
       "      <td>0.00</td>\n",
       "      <td>0.00</td>\n",
       "      <td>0.00</td>\n",
       "    </tr>\n",
       "    <tr>\n",
       "      <th>59</th>\n",
       "      <td>2023</td>\n",
       "      <td>10</td>\n",
       "      <td>CNG(압축천연가스)</td>\n",
       "      <td>강원특별자치도</td>\n",
       "      <td>강릉시</td>\n",
       "      <td>0.00</td>\n",
       "      <td>0.00</td>\n",
       "      <td>0.00</td>\n",
       "    </tr>\n",
       "  </tbody>\n",
       "</table>\n",
       "</div>"
      ],
      "text/plain": [
       "      연도   월           연료       시도 시군구_수정  차량대수  등록차량대수  말소차량대수\n",
       "48  2022  11  CNG(압축천연가스)  강원특별자치도    강릉시  0.00    0.00    0.00\n",
       "49  2022  12  CNG(압축천연가스)  강원특별자치도    강릉시  0.00    0.00    0.00\n",
       "50  2023  01  CNG(압축천연가스)  강원특별자치도    강릉시  0.00    0.00    0.00\n",
       "51  2023  02  CNG(압축천연가스)  강원특별자치도    강릉시  0.00    0.00    0.00\n",
       "52  2023  03  CNG(압축천연가스)  강원특별자치도    강릉시  0.00    0.00    0.00\n",
       "53  2023  04  CNG(압축천연가스)  강원특별자치도    강릉시  0.00    0.00    0.00\n",
       "54  2023  05  CNG(압축천연가스)  강원특별자치도    강릉시  0.00    0.00    0.00\n",
       "55  2023  06  CNG(압축천연가스)  강원특별자치도    강릉시  0.00    0.00    0.00\n",
       "56  2023  07  CNG(압축천연가스)  강원특별자치도    강릉시  0.00    0.00    0.00\n",
       "57  2023  08  CNG(압축천연가스)  강원특별자치도    강릉시  0.00    0.00    0.00\n",
       "58  2023  09  CNG(압축천연가스)  강원특별자치도    강릉시  0.00    0.00    0.00\n",
       "59  2023  10  CNG(압축천연가스)  강원특별자치도    강릉시  0.00    0.00    0.00"
      ]
     },
     "execution_count": 322,
     "metadata": {},
     "output_type": "execute_result"
    }
   ],
   "source": [
    "base3[(base3['시도'] == '강원특별자치도') & (base3['시군구_수정'] == '강릉시') & (base3['연료'] == 'CNG(압축천연가스)')]"
   ]
  },
  {
   "cell_type": "code",
   "execution_count": 323,
   "metadata": {},
   "outputs": [
    {
     "data": {
      "text/html": [
       "<div>\n",
       "<style scoped>\n",
       "    .dataframe tbody tr th:only-of-type {\n",
       "        vertical-align: middle;\n",
       "    }\n",
       "\n",
       "    .dataframe tbody tr th {\n",
       "        vertical-align: top;\n",
       "    }\n",
       "\n",
       "    .dataframe thead th {\n",
       "        text-align: right;\n",
       "    }\n",
       "</style>\n",
       "<table border=\"1\" class=\"dataframe\">\n",
       "  <thead>\n",
       "    <tr style=\"text-align: right;\">\n",
       "      <th></th>\n",
       "      <th>연도</th>\n",
       "      <th>월</th>\n",
       "      <th>연료</th>\n",
       "      <th>시도</th>\n",
       "      <th>시군구_수정</th>\n",
       "      <th>차량대수</th>\n",
       "      <th>등록차량대수</th>\n",
       "      <th>말소차량대수</th>\n",
       "    </tr>\n",
       "  </thead>\n",
       "  <tbody>\n",
       "    <tr>\n",
       "      <th>60</th>\n",
       "      <td>2022</td>\n",
       "      <td>11</td>\n",
       "      <td>LPG(액화석유가스)</td>\n",
       "      <td>강원특별자치도</td>\n",
       "      <td>강릉시</td>\n",
       "      <td>62.00</td>\n",
       "      <td>0.00</td>\n",
       "      <td>0.00</td>\n",
       "    </tr>\n",
       "    <tr>\n",
       "      <th>61</th>\n",
       "      <td>2022</td>\n",
       "      <td>12</td>\n",
       "      <td>LPG(액화석유가스)</td>\n",
       "      <td>강원특별자치도</td>\n",
       "      <td>강릉시</td>\n",
       "      <td>62.00</td>\n",
       "      <td>0.00</td>\n",
       "      <td>0.00</td>\n",
       "    </tr>\n",
       "    <tr>\n",
       "      <th>62</th>\n",
       "      <td>2023</td>\n",
       "      <td>01</td>\n",
       "      <td>LPG(액화석유가스)</td>\n",
       "      <td>강원특별자치도</td>\n",
       "      <td>강릉시</td>\n",
       "      <td>62.00</td>\n",
       "      <td>0.00</td>\n",
       "      <td>0.00</td>\n",
       "    </tr>\n",
       "    <tr>\n",
       "      <th>63</th>\n",
       "      <td>2023</td>\n",
       "      <td>02</td>\n",
       "      <td>LPG(액화석유가스)</td>\n",
       "      <td>강원특별자치도</td>\n",
       "      <td>강릉시</td>\n",
       "      <td>62.00</td>\n",
       "      <td>0.00</td>\n",
       "      <td>0.00</td>\n",
       "    </tr>\n",
       "    <tr>\n",
       "      <th>64</th>\n",
       "      <td>2023</td>\n",
       "      <td>03</td>\n",
       "      <td>LPG(액화석유가스)</td>\n",
       "      <td>강원특별자치도</td>\n",
       "      <td>강릉시</td>\n",
       "      <td>62.00</td>\n",
       "      <td>0.00</td>\n",
       "      <td>0.00</td>\n",
       "    </tr>\n",
       "    <tr>\n",
       "      <th>65</th>\n",
       "      <td>2023</td>\n",
       "      <td>04</td>\n",
       "      <td>LPG(액화석유가스)</td>\n",
       "      <td>강원특별자치도</td>\n",
       "      <td>강릉시</td>\n",
       "      <td>62.00</td>\n",
       "      <td>0.00</td>\n",
       "      <td>0.00</td>\n",
       "    </tr>\n",
       "    <tr>\n",
       "      <th>66</th>\n",
       "      <td>2023</td>\n",
       "      <td>05</td>\n",
       "      <td>LPG(액화석유가스)</td>\n",
       "      <td>강원특별자치도</td>\n",
       "      <td>강릉시</td>\n",
       "      <td>62.00</td>\n",
       "      <td>0.00</td>\n",
       "      <td>0.00</td>\n",
       "    </tr>\n",
       "    <tr>\n",
       "      <th>67</th>\n",
       "      <td>2023</td>\n",
       "      <td>06</td>\n",
       "      <td>LPG(액화석유가스)</td>\n",
       "      <td>강원특별자치도</td>\n",
       "      <td>강릉시</td>\n",
       "      <td>62.00</td>\n",
       "      <td>0.00</td>\n",
       "      <td>0.00</td>\n",
       "    </tr>\n",
       "    <tr>\n",
       "      <th>68</th>\n",
       "      <td>2023</td>\n",
       "      <td>07</td>\n",
       "      <td>LPG(액화석유가스)</td>\n",
       "      <td>강원특별자치도</td>\n",
       "      <td>강릉시</td>\n",
       "      <td>62.00</td>\n",
       "      <td>0.00</td>\n",
       "      <td>0.00</td>\n",
       "    </tr>\n",
       "    <tr>\n",
       "      <th>69</th>\n",
       "      <td>2023</td>\n",
       "      <td>08</td>\n",
       "      <td>LPG(액화석유가스)</td>\n",
       "      <td>강원특별자치도</td>\n",
       "      <td>강릉시</td>\n",
       "      <td>62.00</td>\n",
       "      <td>0.00</td>\n",
       "      <td>0.00</td>\n",
       "    </tr>\n",
       "    <tr>\n",
       "      <th>70</th>\n",
       "      <td>2023</td>\n",
       "      <td>09</td>\n",
       "      <td>LPG(액화석유가스)</td>\n",
       "      <td>강원특별자치도</td>\n",
       "      <td>강릉시</td>\n",
       "      <td>62.00</td>\n",
       "      <td>0.00</td>\n",
       "      <td>0.00</td>\n",
       "    </tr>\n",
       "    <tr>\n",
       "      <th>71</th>\n",
       "      <td>2023</td>\n",
       "      <td>10</td>\n",
       "      <td>LPG(액화석유가스)</td>\n",
       "      <td>강원특별자치도</td>\n",
       "      <td>강릉시</td>\n",
       "      <td>62.00</td>\n",
       "      <td>0.00</td>\n",
       "      <td>0.00</td>\n",
       "    </tr>\n",
       "  </tbody>\n",
       "</table>\n",
       "</div>"
      ],
      "text/plain": [
       "      연도   월           연료       시도 시군구_수정  차량대수  등록차량대수  말소차량대수\n",
       "60  2022  11  LPG(액화석유가스)  강원특별자치도    강릉시 62.00    0.00    0.00\n",
       "61  2022  12  LPG(액화석유가스)  강원특별자치도    강릉시 62.00    0.00    0.00\n",
       "62  2023  01  LPG(액화석유가스)  강원특별자치도    강릉시 62.00    0.00    0.00\n",
       "63  2023  02  LPG(액화석유가스)  강원특별자치도    강릉시 62.00    0.00    0.00\n",
       "64  2023  03  LPG(액화석유가스)  강원특별자치도    강릉시 62.00    0.00    0.00\n",
       "65  2023  04  LPG(액화석유가스)  강원특별자치도    강릉시 62.00    0.00    0.00\n",
       "66  2023  05  LPG(액화석유가스)  강원특별자치도    강릉시 62.00    0.00    0.00\n",
       "67  2023  06  LPG(액화석유가스)  강원특별자치도    강릉시 62.00    0.00    0.00\n",
       "68  2023  07  LPG(액화석유가스)  강원특별자치도    강릉시 62.00    0.00    0.00\n",
       "69  2023  08  LPG(액화석유가스)  강원특별자치도    강릉시 62.00    0.00    0.00\n",
       "70  2023  09  LPG(액화석유가스)  강원특별자치도    강릉시 62.00    0.00    0.00\n",
       "71  2023  10  LPG(액화석유가스)  강원특별자치도    강릉시 62.00    0.00    0.00"
      ]
     },
     "execution_count": 323,
     "metadata": {},
     "output_type": "execute_result"
    }
   ],
   "source": [
    "base3[(base3['시도'] == '강원특별자치도') & (base3['시군구_수정'] == '강릉시') & (base3['연료'] == 'LPG(액화석유가스)')]"
   ]
  },
  {
   "cell_type": "code",
   "execution_count": 324,
   "metadata": {},
   "outputs": [
    {
     "data": {
      "text/html": [
       "<div>\n",
       "<style scoped>\n",
       "    .dataframe tbody tr th:only-of-type {\n",
       "        vertical-align: middle;\n",
       "    }\n",
       "\n",
       "    .dataframe tbody tr th {\n",
       "        vertical-align: top;\n",
       "    }\n",
       "\n",
       "    .dataframe thead th {\n",
       "        text-align: right;\n",
       "    }\n",
       "</style>\n",
       "<table border=\"1\" class=\"dataframe\">\n",
       "  <thead>\n",
       "    <tr style=\"text-align: right;\">\n",
       "      <th></th>\n",
       "      <th>연도</th>\n",
       "      <th>월</th>\n",
       "      <th>연료</th>\n",
       "      <th>시도</th>\n",
       "      <th>시군구_수정</th>\n",
       "      <th>차량대수</th>\n",
       "      <th>등록차량대수</th>\n",
       "      <th>말소차량대수</th>\n",
       "    </tr>\n",
       "  </thead>\n",
       "  <tbody>\n",
       "    <tr>\n",
       "      <th>72</th>\n",
       "      <td>2022</td>\n",
       "      <td>11</td>\n",
       "      <td>경유</td>\n",
       "      <td>강원특별자치도</td>\n",
       "      <td>강릉시</td>\n",
       "      <td>5348.00</td>\n",
       "      <td>0.00</td>\n",
       "      <td>0.00</td>\n",
       "    </tr>\n",
       "    <tr>\n",
       "      <th>73</th>\n",
       "      <td>2022</td>\n",
       "      <td>12</td>\n",
       "      <td>경유</td>\n",
       "      <td>강원특별자치도</td>\n",
       "      <td>강릉시</td>\n",
       "      <td>5348.00</td>\n",
       "      <td>0.00</td>\n",
       "      <td>0.00</td>\n",
       "    </tr>\n",
       "    <tr>\n",
       "      <th>74</th>\n",
       "      <td>2023</td>\n",
       "      <td>01</td>\n",
       "      <td>경유</td>\n",
       "      <td>강원특별자치도</td>\n",
       "      <td>강릉시</td>\n",
       "      <td>5348.00</td>\n",
       "      <td>0.00</td>\n",
       "      <td>0.00</td>\n",
       "    </tr>\n",
       "    <tr>\n",
       "      <th>75</th>\n",
       "      <td>2023</td>\n",
       "      <td>02</td>\n",
       "      <td>경유</td>\n",
       "      <td>강원특별자치도</td>\n",
       "      <td>강릉시</td>\n",
       "      <td>5348.00</td>\n",
       "      <td>0.00</td>\n",
       "      <td>0.00</td>\n",
       "    </tr>\n",
       "    <tr>\n",
       "      <th>76</th>\n",
       "      <td>2023</td>\n",
       "      <td>03</td>\n",
       "      <td>경유</td>\n",
       "      <td>강원특별자치도</td>\n",
       "      <td>강릉시</td>\n",
       "      <td>5348.00</td>\n",
       "      <td>0.00</td>\n",
       "      <td>0.00</td>\n",
       "    </tr>\n",
       "    <tr>\n",
       "      <th>77</th>\n",
       "      <td>2023</td>\n",
       "      <td>04</td>\n",
       "      <td>경유</td>\n",
       "      <td>강원특별자치도</td>\n",
       "      <td>강릉시</td>\n",
       "      <td>5348.00</td>\n",
       "      <td>0.00</td>\n",
       "      <td>0.00</td>\n",
       "    </tr>\n",
       "    <tr>\n",
       "      <th>78</th>\n",
       "      <td>2023</td>\n",
       "      <td>05</td>\n",
       "      <td>경유</td>\n",
       "      <td>강원특별자치도</td>\n",
       "      <td>강릉시</td>\n",
       "      <td>5348.00</td>\n",
       "      <td>0.00</td>\n",
       "      <td>0.00</td>\n",
       "    </tr>\n",
       "    <tr>\n",
       "      <th>79</th>\n",
       "      <td>2023</td>\n",
       "      <td>06</td>\n",
       "      <td>경유</td>\n",
       "      <td>강원특별자치도</td>\n",
       "      <td>강릉시</td>\n",
       "      <td>5348.00</td>\n",
       "      <td>0.00</td>\n",
       "      <td>0.00</td>\n",
       "    </tr>\n",
       "    <tr>\n",
       "      <th>80</th>\n",
       "      <td>2023</td>\n",
       "      <td>07</td>\n",
       "      <td>경유</td>\n",
       "      <td>강원특별자치도</td>\n",
       "      <td>강릉시</td>\n",
       "      <td>5348.00</td>\n",
       "      <td>0.00</td>\n",
       "      <td>0.00</td>\n",
       "    </tr>\n",
       "    <tr>\n",
       "      <th>81</th>\n",
       "      <td>2023</td>\n",
       "      <td>08</td>\n",
       "      <td>경유</td>\n",
       "      <td>강원특별자치도</td>\n",
       "      <td>강릉시</td>\n",
       "      <td>5348.00</td>\n",
       "      <td>0.00</td>\n",
       "      <td>0.00</td>\n",
       "    </tr>\n",
       "    <tr>\n",
       "      <th>82</th>\n",
       "      <td>2023</td>\n",
       "      <td>09</td>\n",
       "      <td>경유</td>\n",
       "      <td>강원특별자치도</td>\n",
       "      <td>강릉시</td>\n",
       "      <td>5348.00</td>\n",
       "      <td>0.00</td>\n",
       "      <td>0.00</td>\n",
       "    </tr>\n",
       "    <tr>\n",
       "      <th>83</th>\n",
       "      <td>2023</td>\n",
       "      <td>10</td>\n",
       "      <td>경유</td>\n",
       "      <td>강원특별자치도</td>\n",
       "      <td>강릉시</td>\n",
       "      <td>5348.00</td>\n",
       "      <td>0.00</td>\n",
       "      <td>0.00</td>\n",
       "    </tr>\n",
       "  </tbody>\n",
       "</table>\n",
       "</div>"
      ],
      "text/plain": [
       "      연도   월  연료       시도 시군구_수정    차량대수  등록차량대수  말소차량대수\n",
       "72  2022  11  경유  강원특별자치도    강릉시 5348.00    0.00    0.00\n",
       "73  2022  12  경유  강원특별자치도    강릉시 5348.00    0.00    0.00\n",
       "74  2023  01  경유  강원특별자치도    강릉시 5348.00    0.00    0.00\n",
       "75  2023  02  경유  강원특별자치도    강릉시 5348.00    0.00    0.00\n",
       "76  2023  03  경유  강원특별자치도    강릉시 5348.00    0.00    0.00\n",
       "77  2023  04  경유  강원특별자치도    강릉시 5348.00    0.00    0.00\n",
       "78  2023  05  경유  강원특별자치도    강릉시 5348.00    0.00    0.00\n",
       "79  2023  06  경유  강원특별자치도    강릉시 5348.00    0.00    0.00\n",
       "80  2023  07  경유  강원특별자치도    강릉시 5348.00    0.00    0.00\n",
       "81  2023  08  경유  강원특별자치도    강릉시 5348.00    0.00    0.00\n",
       "82  2023  09  경유  강원특별자치도    강릉시 5348.00    0.00    0.00\n",
       "83  2023  10  경유  강원특별자치도    강릉시 5348.00    0.00    0.00"
      ]
     },
     "execution_count": 324,
     "metadata": {},
     "output_type": "execute_result"
    }
   ],
   "source": [
    "base3[(base3['시도'] == '강원특별자치도') & (base3['시군구_수정'] == '강릉시') & (base3['연료'] == '경유')]"
   ]
  },
  {
   "cell_type": "code",
   "execution_count": 325,
   "metadata": {},
   "outputs": [
    {
     "data": {
      "text/html": [
       "<div>\n",
       "<style scoped>\n",
       "    .dataframe tbody tr th:only-of-type {\n",
       "        vertical-align: middle;\n",
       "    }\n",
       "\n",
       "    .dataframe tbody tr th {\n",
       "        vertical-align: top;\n",
       "    }\n",
       "\n",
       "    .dataframe thead th {\n",
       "        text-align: right;\n",
       "    }\n",
       "</style>\n",
       "<table border=\"1\" class=\"dataframe\">\n",
       "  <thead>\n",
       "    <tr style=\"text-align: right;\">\n",
       "      <th></th>\n",
       "      <th>연도</th>\n",
       "      <th>월</th>\n",
       "      <th>연료</th>\n",
       "      <th>시도</th>\n",
       "      <th>시군구_수정</th>\n",
       "      <th>차량대수</th>\n",
       "      <th>등록차량대수</th>\n",
       "      <th>말소차량대수</th>\n",
       "    </tr>\n",
       "  </thead>\n",
       "  <tbody>\n",
       "    <tr>\n",
       "      <th>84</th>\n",
       "      <td>2022</td>\n",
       "      <td>11</td>\n",
       "      <td>휘발유</td>\n",
       "      <td>강원특별자치도</td>\n",
       "      <td>강릉시</td>\n",
       "      <td>1062.00</td>\n",
       "      <td>0.00</td>\n",
       "      <td>0.00</td>\n",
       "    </tr>\n",
       "    <tr>\n",
       "      <th>85</th>\n",
       "      <td>2022</td>\n",
       "      <td>12</td>\n",
       "      <td>휘발유</td>\n",
       "      <td>강원특별자치도</td>\n",
       "      <td>강릉시</td>\n",
       "      <td>1062.00</td>\n",
       "      <td>0.00</td>\n",
       "      <td>0.00</td>\n",
       "    </tr>\n",
       "    <tr>\n",
       "      <th>86</th>\n",
       "      <td>2023</td>\n",
       "      <td>01</td>\n",
       "      <td>휘발유</td>\n",
       "      <td>강원특별자치도</td>\n",
       "      <td>강릉시</td>\n",
       "      <td>1062.00</td>\n",
       "      <td>0.00</td>\n",
       "      <td>0.00</td>\n",
       "    </tr>\n",
       "    <tr>\n",
       "      <th>87</th>\n",
       "      <td>2023</td>\n",
       "      <td>02</td>\n",
       "      <td>휘발유</td>\n",
       "      <td>강원특별자치도</td>\n",
       "      <td>강릉시</td>\n",
       "      <td>1062.00</td>\n",
       "      <td>0.00</td>\n",
       "      <td>0.00</td>\n",
       "    </tr>\n",
       "    <tr>\n",
       "      <th>88</th>\n",
       "      <td>2023</td>\n",
       "      <td>03</td>\n",
       "      <td>휘발유</td>\n",
       "      <td>강원특별자치도</td>\n",
       "      <td>강릉시</td>\n",
       "      <td>1062.00</td>\n",
       "      <td>0.00</td>\n",
       "      <td>0.00</td>\n",
       "    </tr>\n",
       "    <tr>\n",
       "      <th>89</th>\n",
       "      <td>2023</td>\n",
       "      <td>04</td>\n",
       "      <td>휘발유</td>\n",
       "      <td>강원특별자치도</td>\n",
       "      <td>강릉시</td>\n",
       "      <td>1062.00</td>\n",
       "      <td>0.00</td>\n",
       "      <td>0.00</td>\n",
       "    </tr>\n",
       "    <tr>\n",
       "      <th>90</th>\n",
       "      <td>2023</td>\n",
       "      <td>05</td>\n",
       "      <td>휘발유</td>\n",
       "      <td>강원특별자치도</td>\n",
       "      <td>강릉시</td>\n",
       "      <td>1062.00</td>\n",
       "      <td>0.00</td>\n",
       "      <td>0.00</td>\n",
       "    </tr>\n",
       "    <tr>\n",
       "      <th>91</th>\n",
       "      <td>2023</td>\n",
       "      <td>06</td>\n",
       "      <td>휘발유</td>\n",
       "      <td>강원특별자치도</td>\n",
       "      <td>강릉시</td>\n",
       "      <td>1062.00</td>\n",
       "      <td>0.00</td>\n",
       "      <td>0.00</td>\n",
       "    </tr>\n",
       "    <tr>\n",
       "      <th>92</th>\n",
       "      <td>2023</td>\n",
       "      <td>07</td>\n",
       "      <td>휘발유</td>\n",
       "      <td>강원특별자치도</td>\n",
       "      <td>강릉시</td>\n",
       "      <td>1062.00</td>\n",
       "      <td>0.00</td>\n",
       "      <td>0.00</td>\n",
       "    </tr>\n",
       "    <tr>\n",
       "      <th>93</th>\n",
       "      <td>2023</td>\n",
       "      <td>08</td>\n",
       "      <td>휘발유</td>\n",
       "      <td>강원특별자치도</td>\n",
       "      <td>강릉시</td>\n",
       "      <td>1062.00</td>\n",
       "      <td>0.00</td>\n",
       "      <td>0.00</td>\n",
       "    </tr>\n",
       "    <tr>\n",
       "      <th>94</th>\n",
       "      <td>2023</td>\n",
       "      <td>09</td>\n",
       "      <td>휘발유</td>\n",
       "      <td>강원특별자치도</td>\n",
       "      <td>강릉시</td>\n",
       "      <td>1062.00</td>\n",
       "      <td>0.00</td>\n",
       "      <td>0.00</td>\n",
       "    </tr>\n",
       "    <tr>\n",
       "      <th>95</th>\n",
       "      <td>2023</td>\n",
       "      <td>10</td>\n",
       "      <td>휘발유</td>\n",
       "      <td>강원특별자치도</td>\n",
       "      <td>강릉시</td>\n",
       "      <td>1062.00</td>\n",
       "      <td>0.00</td>\n",
       "      <td>0.00</td>\n",
       "    </tr>\n",
       "  </tbody>\n",
       "</table>\n",
       "</div>"
      ],
      "text/plain": [
       "      연도   월   연료       시도 시군구_수정    차량대수  등록차량대수  말소차량대수\n",
       "84  2022  11  휘발유  강원특별자치도    강릉시 1062.00    0.00    0.00\n",
       "85  2022  12  휘발유  강원특별자치도    강릉시 1062.00    0.00    0.00\n",
       "86  2023  01  휘발유  강원특별자치도    강릉시 1062.00    0.00    0.00\n",
       "87  2023  02  휘발유  강원특별자치도    강릉시 1062.00    0.00    0.00\n",
       "88  2023  03  휘발유  강원특별자치도    강릉시 1062.00    0.00    0.00\n",
       "89  2023  04  휘발유  강원특별자치도    강릉시 1062.00    0.00    0.00\n",
       "90  2023  05  휘발유  강원특별자치도    강릉시 1062.00    0.00    0.00\n",
       "91  2023  06  휘발유  강원특별자치도    강릉시 1062.00    0.00    0.00\n",
       "92  2023  07  휘발유  강원특별자치도    강릉시 1062.00    0.00    0.00\n",
       "93  2023  08  휘발유  강원특별자치도    강릉시 1062.00    0.00    0.00\n",
       "94  2023  09  휘발유  강원특별자치도    강릉시 1062.00    0.00    0.00\n",
       "95  2023  10  휘발유  강원특별자치도    강릉시 1062.00    0.00    0.00"
      ]
     },
     "execution_count": 325,
     "metadata": {},
     "output_type": "execute_result"
    }
   ],
   "source": [
    "base3[(base3['시도'] == '강원특별자치도') & (base3['시군구_수정'] == '강릉시') & (base3['연료'] == '휘발유')]"
   ]
  },
  {
   "cell_type": "code",
   "execution_count": 326,
   "metadata": {},
   "outputs": [
    {
     "data": {
      "text/plain": [
       "'20231026'"
      ]
     },
     "execution_count": 326,
     "metadata": {},
     "output_type": "execute_result"
    }
   ],
   "source": [
    "today_date = datetime.today().strftime(\"%Y%m%d\")\n",
    "today_date"
   ]
  },
  {
   "cell_type": "code",
   "execution_count": 327,
   "metadata": {},
   "outputs": [],
   "source": [
    "base3['테이블생성일자'] = today_date"
   ]
  },
  {
   "cell_type": "code",
   "execution_count": 328,
   "metadata": {},
   "outputs": [
    {
     "data": {
      "text/html": [
       "<div>\n",
       "<style scoped>\n",
       "    .dataframe tbody tr th:only-of-type {\n",
       "        vertical-align: middle;\n",
       "    }\n",
       "\n",
       "    .dataframe tbody tr th {\n",
       "        vertical-align: top;\n",
       "    }\n",
       "\n",
       "    .dataframe thead th {\n",
       "        text-align: right;\n",
       "    }\n",
       "</style>\n",
       "<table border=\"1\" class=\"dataframe\">\n",
       "  <thead>\n",
       "    <tr style=\"text-align: right;\">\n",
       "      <th></th>\n",
       "      <th>연도</th>\n",
       "      <th>월</th>\n",
       "      <th>연료</th>\n",
       "      <th>시도</th>\n",
       "      <th>시군구_수정</th>\n",
       "      <th>차량대수</th>\n",
       "      <th>등록차량대수</th>\n",
       "      <th>말소차량대수</th>\n",
       "      <th>테이블생성일자</th>\n",
       "      <th>기준연월</th>\n",
       "    </tr>\n",
       "  </thead>\n",
       "  <tbody>\n",
       "    <tr>\n",
       "      <th>0</th>\n",
       "      <td>2022</td>\n",
       "      <td>11</td>\n",
       "      <td>CNG(압축천연가스)</td>\n",
       "      <td>전라남도</td>\n",
       "      <td>해남군</td>\n",
       "      <td>1.00</td>\n",
       "      <td>0.00</td>\n",
       "      <td>0.00</td>\n",
       "      <td>20231026</td>\n",
       "      <td>2022.11</td>\n",
       "    </tr>\n",
       "    <tr>\n",
       "      <th>1</th>\n",
       "      <td>2022</td>\n",
       "      <td>12</td>\n",
       "      <td>CNG(압축천연가스)</td>\n",
       "      <td>전라남도</td>\n",
       "      <td>해남군</td>\n",
       "      <td>1.00</td>\n",
       "      <td>0.00</td>\n",
       "      <td>0.00</td>\n",
       "      <td>20231026</td>\n",
       "      <td>2022.12</td>\n",
       "    </tr>\n",
       "    <tr>\n",
       "      <th>2</th>\n",
       "      <td>2023</td>\n",
       "      <td>01</td>\n",
       "      <td>CNG(압축천연가스)</td>\n",
       "      <td>전라남도</td>\n",
       "      <td>해남군</td>\n",
       "      <td>1.00</td>\n",
       "      <td>0.00</td>\n",
       "      <td>0.00</td>\n",
       "      <td>20231026</td>\n",
       "      <td>2023.01</td>\n",
       "    </tr>\n",
       "    <tr>\n",
       "      <th>3</th>\n",
       "      <td>2023</td>\n",
       "      <td>02</td>\n",
       "      <td>CNG(압축천연가스)</td>\n",
       "      <td>전라남도</td>\n",
       "      <td>해남군</td>\n",
       "      <td>1.00</td>\n",
       "      <td>0.00</td>\n",
       "      <td>0.00</td>\n",
       "      <td>20231026</td>\n",
       "      <td>2023.02</td>\n",
       "    </tr>\n",
       "    <tr>\n",
       "      <th>4</th>\n",
       "      <td>2023</td>\n",
       "      <td>03</td>\n",
       "      <td>CNG(압축천연가스)</td>\n",
       "      <td>전라남도</td>\n",
       "      <td>해남군</td>\n",
       "      <td>1.00</td>\n",
       "      <td>0.00</td>\n",
       "      <td>0.00</td>\n",
       "      <td>20231026</td>\n",
       "      <td>2023.03</td>\n",
       "    </tr>\n",
       "    <tr>\n",
       "      <th>...</th>\n",
       "      <td>...</td>\n",
       "      <td>...</td>\n",
       "      <td>...</td>\n",
       "      <td>...</td>\n",
       "      <td>...</td>\n",
       "      <td>...</td>\n",
       "      <td>...</td>\n",
       "      <td>...</td>\n",
       "      <td>...</td>\n",
       "      <td>...</td>\n",
       "    </tr>\n",
       "    <tr>\n",
       "      <th>11131</th>\n",
       "      <td>2023</td>\n",
       "      <td>06</td>\n",
       "      <td>휘발유</td>\n",
       "      <td>인천광역시</td>\n",
       "      <td>남구</td>\n",
       "      <td>9.00</td>\n",
       "      <td>0.00</td>\n",
       "      <td>0.00</td>\n",
       "      <td>20231026</td>\n",
       "      <td>2023.06</td>\n",
       "    </tr>\n",
       "    <tr>\n",
       "      <th>11132</th>\n",
       "      <td>2023</td>\n",
       "      <td>07</td>\n",
       "      <td>휘발유</td>\n",
       "      <td>인천광역시</td>\n",
       "      <td>남구</td>\n",
       "      <td>9.00</td>\n",
       "      <td>0.00</td>\n",
       "      <td>0.00</td>\n",
       "      <td>20231026</td>\n",
       "      <td>2023.07</td>\n",
       "    </tr>\n",
       "    <tr>\n",
       "      <th>11133</th>\n",
       "      <td>2023</td>\n",
       "      <td>08</td>\n",
       "      <td>휘발유</td>\n",
       "      <td>인천광역시</td>\n",
       "      <td>남구</td>\n",
       "      <td>9.00</td>\n",
       "      <td>0.00</td>\n",
       "      <td>0.00</td>\n",
       "      <td>20231026</td>\n",
       "      <td>2023.08</td>\n",
       "    </tr>\n",
       "    <tr>\n",
       "      <th>11134</th>\n",
       "      <td>2023</td>\n",
       "      <td>09</td>\n",
       "      <td>휘발유</td>\n",
       "      <td>인천광역시</td>\n",
       "      <td>남구</td>\n",
       "      <td>9.00</td>\n",
       "      <td>0.00</td>\n",
       "      <td>0.00</td>\n",
       "      <td>20231026</td>\n",
       "      <td>2023.09</td>\n",
       "    </tr>\n",
       "    <tr>\n",
       "      <th>11135</th>\n",
       "      <td>2023</td>\n",
       "      <td>10</td>\n",
       "      <td>휘발유</td>\n",
       "      <td>인천광역시</td>\n",
       "      <td>남구</td>\n",
       "      <td>9.00</td>\n",
       "      <td>0.00</td>\n",
       "      <td>0.00</td>\n",
       "      <td>20231026</td>\n",
       "      <td>2023.10</td>\n",
       "    </tr>\n",
       "  </tbody>\n",
       "</table>\n",
       "<p>11136 rows × 10 columns</p>\n",
       "</div>"
      ],
      "text/plain": [
       "         연도   월           연료     시도 시군구_수정  차량대수  등록차량대수  말소차량대수   테이블생성일자  \\\n",
       "0      2022  11  CNG(압축천연가스)   전라남도    해남군  1.00    0.00    0.00  20231026   \n",
       "1      2022  12  CNG(압축천연가스)   전라남도    해남군  1.00    0.00    0.00  20231026   \n",
       "2      2023  01  CNG(압축천연가스)   전라남도    해남군  1.00    0.00    0.00  20231026   \n",
       "3      2023  02  CNG(압축천연가스)   전라남도    해남군  1.00    0.00    0.00  20231026   \n",
       "4      2023  03  CNG(압축천연가스)   전라남도    해남군  1.00    0.00    0.00  20231026   \n",
       "...     ...  ..          ...    ...    ...   ...     ...     ...       ...   \n",
       "11131  2023  06          휘발유  인천광역시     남구  9.00    0.00    0.00  20231026   \n",
       "11132  2023  07          휘발유  인천광역시     남구  9.00    0.00    0.00  20231026   \n",
       "11133  2023  08          휘발유  인천광역시     남구  9.00    0.00    0.00  20231026   \n",
       "11134  2023  09          휘발유  인천광역시     남구  9.00    0.00    0.00  20231026   \n",
       "11135  2023  10          휘발유  인천광역시     남구  9.00    0.00    0.00  20231026   \n",
       "\n",
       "          기준연월  \n",
       "0      2022.11  \n",
       "1      2022.12  \n",
       "2      2023.01  \n",
       "3      2023.02  \n",
       "4      2023.03  \n",
       "...        ...  \n",
       "11131  2023.06  \n",
       "11132  2023.07  \n",
       "11133  2023.08  \n",
       "11134  2023.09  \n",
       "11135  2023.10  \n",
       "\n",
       "[11136 rows x 10 columns]"
      ]
     },
     "execution_count": 328,
     "metadata": {},
     "output_type": "execute_result"
    }
   ],
   "source": [
    "base3['기준연월'] = base3['연도'] + '.' + base3['월']\n",
    "base3"
   ]
  },
  {
   "cell_type": "code",
   "execution_count": 329,
   "metadata": {},
   "outputs": [
    {
     "data": {
      "text/plain": [
       "(928, 10)"
      ]
     },
     "execution_count": 329,
     "metadata": {},
     "output_type": "execute_result"
    }
   ],
   "source": [
    "base3[(base3['연도'] == '2023') & (base3['월'] == '10')].shape"
   ]
  },
  {
   "cell_type": "code",
   "execution_count": 330,
   "metadata": {},
   "outputs": [
    {
     "data": {
      "text/plain": [
       "'20231026'"
      ]
     },
     "execution_count": 330,
     "metadata": {},
     "output_type": "execute_result"
    }
   ],
   "source": [
    "today_date"
   ]
  },
  {
   "cell_type": "code",
   "execution_count": 331,
   "metadata": {},
   "outputs": [
    {
     "data": {
      "text/html": [
       "<div>\n",
       "<style scoped>\n",
       "    .dataframe tbody tr th:only-of-type {\n",
       "        vertical-align: middle;\n",
       "    }\n",
       "\n",
       "    .dataframe tbody tr th {\n",
       "        vertical-align: top;\n",
       "    }\n",
       "\n",
       "    .dataframe thead th {\n",
       "        text-align: right;\n",
       "    }\n",
       "</style>\n",
       "<table border=\"1\" class=\"dataframe\">\n",
       "  <thead>\n",
       "    <tr style=\"text-align: right;\">\n",
       "      <th></th>\n",
       "      <th>연도</th>\n",
       "      <th>월</th>\n",
       "      <th>연료</th>\n",
       "      <th>시도</th>\n",
       "      <th>시군구_수정</th>\n",
       "      <th>차량대수</th>\n",
       "      <th>등록차량대수</th>\n",
       "      <th>말소차량대수</th>\n",
       "      <th>테이블생성일자</th>\n",
       "      <th>기준연월</th>\n",
       "    </tr>\n",
       "  </thead>\n",
       "  <tbody>\n",
       "    <tr>\n",
       "      <th>11101</th>\n",
       "      <td>2022</td>\n",
       "      <td>12</td>\n",
       "      <td>LPG(액화석유가스)</td>\n",
       "      <td>인천광역시</td>\n",
       "      <td>남구</td>\n",
       "      <td>0.00</td>\n",
       "      <td>0.00</td>\n",
       "      <td>0.00</td>\n",
       "      <td>20231026</td>\n",
       "      <td>2022.12</td>\n",
       "    </tr>\n",
       "    <tr>\n",
       "      <th>11112</th>\n",
       "      <td>2022</td>\n",
       "      <td>11</td>\n",
       "      <td>경유</td>\n",
       "      <td>인천광역시</td>\n",
       "      <td>남구</td>\n",
       "      <td>0.00</td>\n",
       "      <td>0.00</td>\n",
       "      <td>0.00</td>\n",
       "      <td>20231026</td>\n",
       "      <td>2022.11</td>\n",
       "    </tr>\n",
       "    <tr>\n",
       "      <th>11113</th>\n",
       "      <td>2022</td>\n",
       "      <td>12</td>\n",
       "      <td>경유</td>\n",
       "      <td>인천광역시</td>\n",
       "      <td>남구</td>\n",
       "      <td>0.00</td>\n",
       "      <td>0.00</td>\n",
       "      <td>0.00</td>\n",
       "      <td>20231026</td>\n",
       "      <td>2022.12</td>\n",
       "    </tr>\n",
       "    <tr>\n",
       "      <th>11124</th>\n",
       "      <td>2022</td>\n",
       "      <td>11</td>\n",
       "      <td>휘발유</td>\n",
       "      <td>인천광역시</td>\n",
       "      <td>남구</td>\n",
       "      <td>9.00</td>\n",
       "      <td>0.00</td>\n",
       "      <td>0.00</td>\n",
       "      <td>20231026</td>\n",
       "      <td>2022.11</td>\n",
       "    </tr>\n",
       "    <tr>\n",
       "      <th>11125</th>\n",
       "      <td>2022</td>\n",
       "      <td>12</td>\n",
       "      <td>휘발유</td>\n",
       "      <td>인천광역시</td>\n",
       "      <td>남구</td>\n",
       "      <td>9.00</td>\n",
       "      <td>0.00</td>\n",
       "      <td>0.00</td>\n",
       "      <td>20231026</td>\n",
       "      <td>2022.12</td>\n",
       "    </tr>\n",
       "  </tbody>\n",
       "</table>\n",
       "</div>"
      ],
      "text/plain": [
       "         연도   월           연료     시도 시군구_수정  차량대수  등록차량대수  말소차량대수   테이블생성일자  \\\n",
       "11101  2022  12  LPG(액화석유가스)  인천광역시     남구  0.00    0.00    0.00  20231026   \n",
       "11112  2022  11           경유  인천광역시     남구  0.00    0.00    0.00  20231026   \n",
       "11113  2022  12           경유  인천광역시     남구  0.00    0.00    0.00  20231026   \n",
       "11124  2022  11          휘발유  인천광역시     남구  9.00    0.00    0.00  20231026   \n",
       "11125  2022  12          휘발유  인천광역시     남구  9.00    0.00    0.00  20231026   \n",
       "\n",
       "          기준연월  \n",
       "11101  2022.12  \n",
       "11112  2022.11  \n",
       "11113  2022.12  \n",
       "11124  2022.11  \n",
       "11125  2022.12  "
      ]
     },
     "execution_count": 331,
     "metadata": {},
     "output_type": "execute_result"
    }
   ],
   "source": [
    "base3[(base3['연도'] != today_date[:4]) & (base3['월'] != today_date[4:6])].tail()"
   ]
  },
  {
   "cell_type": "code",
   "execution_count": 333,
   "metadata": {},
   "outputs": [
    {
     "data": {
      "text/plain": [
       "(10208, 10)"
      ]
     },
     "execution_count": 333,
     "metadata": {},
     "output_type": "execute_result"
    }
   ],
   "source": [
    "base3[(base3['연도'] != today_date[:4]) | (base3['월'] != today_date[4:6])].shape"
   ]
  },
  {
   "cell_type": "code",
   "execution_count": 332,
   "metadata": {},
   "outputs": [
    {
     "data": {
      "text/html": [
       "<div>\n",
       "<style scoped>\n",
       "    .dataframe tbody tr th:only-of-type {\n",
       "        vertical-align: middle;\n",
       "    }\n",
       "\n",
       "    .dataframe tbody tr th {\n",
       "        vertical-align: top;\n",
       "    }\n",
       "\n",
       "    .dataframe thead th {\n",
       "        text-align: right;\n",
       "    }\n",
       "</style>\n",
       "<table border=\"1\" class=\"dataframe\">\n",
       "  <thead>\n",
       "    <tr style=\"text-align: right;\">\n",
       "      <th></th>\n",
       "      <th>연도</th>\n",
       "      <th>월</th>\n",
       "      <th>연료</th>\n",
       "      <th>시도</th>\n",
       "      <th>시군구_수정</th>\n",
       "      <th>차량대수</th>\n",
       "      <th>등록차량대수</th>\n",
       "      <th>말소차량대수</th>\n",
       "      <th>테이블생성일자</th>\n",
       "      <th>기준연월</th>\n",
       "    </tr>\n",
       "  </thead>\n",
       "  <tbody>\n",
       "    <tr>\n",
       "      <th>11130</th>\n",
       "      <td>2023</td>\n",
       "      <td>05</td>\n",
       "      <td>휘발유</td>\n",
       "      <td>인천광역시</td>\n",
       "      <td>남구</td>\n",
       "      <td>9.00</td>\n",
       "      <td>0.00</td>\n",
       "      <td>0.00</td>\n",
       "      <td>20231026</td>\n",
       "      <td>2023.05</td>\n",
       "    </tr>\n",
       "    <tr>\n",
       "      <th>11131</th>\n",
       "      <td>2023</td>\n",
       "      <td>06</td>\n",
       "      <td>휘발유</td>\n",
       "      <td>인천광역시</td>\n",
       "      <td>남구</td>\n",
       "      <td>9.00</td>\n",
       "      <td>0.00</td>\n",
       "      <td>0.00</td>\n",
       "      <td>20231026</td>\n",
       "      <td>2023.06</td>\n",
       "    </tr>\n",
       "    <tr>\n",
       "      <th>11132</th>\n",
       "      <td>2023</td>\n",
       "      <td>07</td>\n",
       "      <td>휘발유</td>\n",
       "      <td>인천광역시</td>\n",
       "      <td>남구</td>\n",
       "      <td>9.00</td>\n",
       "      <td>0.00</td>\n",
       "      <td>0.00</td>\n",
       "      <td>20231026</td>\n",
       "      <td>2023.07</td>\n",
       "    </tr>\n",
       "    <tr>\n",
       "      <th>11133</th>\n",
       "      <td>2023</td>\n",
       "      <td>08</td>\n",
       "      <td>휘발유</td>\n",
       "      <td>인천광역시</td>\n",
       "      <td>남구</td>\n",
       "      <td>9.00</td>\n",
       "      <td>0.00</td>\n",
       "      <td>0.00</td>\n",
       "      <td>20231026</td>\n",
       "      <td>2023.08</td>\n",
       "    </tr>\n",
       "    <tr>\n",
       "      <th>11134</th>\n",
       "      <td>2023</td>\n",
       "      <td>09</td>\n",
       "      <td>휘발유</td>\n",
       "      <td>인천광역시</td>\n",
       "      <td>남구</td>\n",
       "      <td>9.00</td>\n",
       "      <td>0.00</td>\n",
       "      <td>0.00</td>\n",
       "      <td>20231026</td>\n",
       "      <td>2023.09</td>\n",
       "    </tr>\n",
       "  </tbody>\n",
       "</table>\n",
       "</div>"
      ],
      "text/plain": [
       "         연도   월   연료     시도 시군구_수정  차량대수  등록차량대수  말소차량대수   테이블생성일자     기준연월\n",
       "11130  2023  05  휘발유  인천광역시     남구  9.00    0.00    0.00  20231026  2023.05\n",
       "11131  2023  06  휘발유  인천광역시     남구  9.00    0.00    0.00  20231026  2023.06\n",
       "11132  2023  07  휘발유  인천광역시     남구  9.00    0.00    0.00  20231026  2023.07\n",
       "11133  2023  08  휘발유  인천광역시     남구  9.00    0.00    0.00  20231026  2023.08\n",
       "11134  2023  09  휘발유  인천광역시     남구  9.00    0.00    0.00  20231026  2023.09"
      ]
     },
     "execution_count": 332,
     "metadata": {},
     "output_type": "execute_result"
    }
   ],
   "source": [
    "base3[(base3['연도'] != today_date[:4]) | (base3['월'] != today_date[4:6])].tail()"
   ]
  },
  {
   "cell_type": "code",
   "execution_count": 334,
   "metadata": {},
   "outputs": [
    {
     "data": {
      "text/html": [
       "<div>\n",
       "<style scoped>\n",
       "    .dataframe tbody tr th:only-of-type {\n",
       "        vertical-align: middle;\n",
       "    }\n",
       "\n",
       "    .dataframe tbody tr th {\n",
       "        vertical-align: top;\n",
       "    }\n",
       "\n",
       "    .dataframe thead th {\n",
       "        text-align: right;\n",
       "    }\n",
       "</style>\n",
       "<table border=\"1\" class=\"dataframe\">\n",
       "  <thead>\n",
       "    <tr style=\"text-align: right;\">\n",
       "      <th></th>\n",
       "      <th>연도</th>\n",
       "      <th>월</th>\n",
       "      <th>연료</th>\n",
       "      <th>시도</th>\n",
       "      <th>시군구_수정</th>\n",
       "      <th>차량대수</th>\n",
       "      <th>등록차량대수</th>\n",
       "      <th>말소차량대수</th>\n",
       "      <th>테이블생성일자</th>\n",
       "      <th>기준연월</th>\n",
       "    </tr>\n",
       "  </thead>\n",
       "  <tbody>\n",
       "    <tr>\n",
       "      <th>0</th>\n",
       "      <td>2022</td>\n",
       "      <td>11</td>\n",
       "      <td>CNG(압축천연가스)</td>\n",
       "      <td>전라남도</td>\n",
       "      <td>해남군</td>\n",
       "      <td>1.00</td>\n",
       "      <td>0.00</td>\n",
       "      <td>0.00</td>\n",
       "      <td>20231026</td>\n",
       "      <td>2022.11</td>\n",
       "    </tr>\n",
       "    <tr>\n",
       "      <th>1</th>\n",
       "      <td>2022</td>\n",
       "      <td>12</td>\n",
       "      <td>CNG(압축천연가스)</td>\n",
       "      <td>전라남도</td>\n",
       "      <td>해남군</td>\n",
       "      <td>1.00</td>\n",
       "      <td>0.00</td>\n",
       "      <td>0.00</td>\n",
       "      <td>20231026</td>\n",
       "      <td>2022.12</td>\n",
       "    </tr>\n",
       "    <tr>\n",
       "      <th>2</th>\n",
       "      <td>2023</td>\n",
       "      <td>01</td>\n",
       "      <td>CNG(압축천연가스)</td>\n",
       "      <td>전라남도</td>\n",
       "      <td>해남군</td>\n",
       "      <td>1.00</td>\n",
       "      <td>0.00</td>\n",
       "      <td>0.00</td>\n",
       "      <td>20231026</td>\n",
       "      <td>2023.01</td>\n",
       "    </tr>\n",
       "    <tr>\n",
       "      <th>3</th>\n",
       "      <td>2023</td>\n",
       "      <td>02</td>\n",
       "      <td>CNG(압축천연가스)</td>\n",
       "      <td>전라남도</td>\n",
       "      <td>해남군</td>\n",
       "      <td>1.00</td>\n",
       "      <td>0.00</td>\n",
       "      <td>0.00</td>\n",
       "      <td>20231026</td>\n",
       "      <td>2023.02</td>\n",
       "    </tr>\n",
       "    <tr>\n",
       "      <th>4</th>\n",
       "      <td>2023</td>\n",
       "      <td>03</td>\n",
       "      <td>CNG(압축천연가스)</td>\n",
       "      <td>전라남도</td>\n",
       "      <td>해남군</td>\n",
       "      <td>1.00</td>\n",
       "      <td>0.00</td>\n",
       "      <td>0.00</td>\n",
       "      <td>20231026</td>\n",
       "      <td>2023.03</td>\n",
       "    </tr>\n",
       "    <tr>\n",
       "      <th>...</th>\n",
       "      <td>...</td>\n",
       "      <td>...</td>\n",
       "      <td>...</td>\n",
       "      <td>...</td>\n",
       "      <td>...</td>\n",
       "      <td>...</td>\n",
       "      <td>...</td>\n",
       "      <td>...</td>\n",
       "      <td>...</td>\n",
       "      <td>...</td>\n",
       "    </tr>\n",
       "    <tr>\n",
       "      <th>10203</th>\n",
       "      <td>2023</td>\n",
       "      <td>05</td>\n",
       "      <td>휘발유</td>\n",
       "      <td>인천광역시</td>\n",
       "      <td>남구</td>\n",
       "      <td>9.00</td>\n",
       "      <td>0.00</td>\n",
       "      <td>0.00</td>\n",
       "      <td>20231026</td>\n",
       "      <td>2023.05</td>\n",
       "    </tr>\n",
       "    <tr>\n",
       "      <th>10204</th>\n",
       "      <td>2023</td>\n",
       "      <td>06</td>\n",
       "      <td>휘발유</td>\n",
       "      <td>인천광역시</td>\n",
       "      <td>남구</td>\n",
       "      <td>9.00</td>\n",
       "      <td>0.00</td>\n",
       "      <td>0.00</td>\n",
       "      <td>20231026</td>\n",
       "      <td>2023.06</td>\n",
       "    </tr>\n",
       "    <tr>\n",
       "      <th>10205</th>\n",
       "      <td>2023</td>\n",
       "      <td>07</td>\n",
       "      <td>휘발유</td>\n",
       "      <td>인천광역시</td>\n",
       "      <td>남구</td>\n",
       "      <td>9.00</td>\n",
       "      <td>0.00</td>\n",
       "      <td>0.00</td>\n",
       "      <td>20231026</td>\n",
       "      <td>2023.07</td>\n",
       "    </tr>\n",
       "    <tr>\n",
       "      <th>10206</th>\n",
       "      <td>2023</td>\n",
       "      <td>08</td>\n",
       "      <td>휘발유</td>\n",
       "      <td>인천광역시</td>\n",
       "      <td>남구</td>\n",
       "      <td>9.00</td>\n",
       "      <td>0.00</td>\n",
       "      <td>0.00</td>\n",
       "      <td>20231026</td>\n",
       "      <td>2023.08</td>\n",
       "    </tr>\n",
       "    <tr>\n",
       "      <th>10207</th>\n",
       "      <td>2023</td>\n",
       "      <td>09</td>\n",
       "      <td>휘발유</td>\n",
       "      <td>인천광역시</td>\n",
       "      <td>남구</td>\n",
       "      <td>9.00</td>\n",
       "      <td>0.00</td>\n",
       "      <td>0.00</td>\n",
       "      <td>20231026</td>\n",
       "      <td>2023.09</td>\n",
       "    </tr>\n",
       "  </tbody>\n",
       "</table>\n",
       "<p>10208 rows × 10 columns</p>\n",
       "</div>"
      ],
      "text/plain": [
       "         연도   월           연료     시도 시군구_수정  차량대수  등록차량대수  말소차량대수   테이블생성일자  \\\n",
       "0      2022  11  CNG(압축천연가스)   전라남도    해남군  1.00    0.00    0.00  20231026   \n",
       "1      2022  12  CNG(압축천연가스)   전라남도    해남군  1.00    0.00    0.00  20231026   \n",
       "2      2023  01  CNG(압축천연가스)   전라남도    해남군  1.00    0.00    0.00  20231026   \n",
       "3      2023  02  CNG(압축천연가스)   전라남도    해남군  1.00    0.00    0.00  20231026   \n",
       "4      2023  03  CNG(압축천연가스)   전라남도    해남군  1.00    0.00    0.00  20231026   \n",
       "...     ...  ..          ...    ...    ...   ...     ...     ...       ...   \n",
       "10203  2023  05          휘발유  인천광역시     남구  9.00    0.00    0.00  20231026   \n",
       "10204  2023  06          휘발유  인천광역시     남구  9.00    0.00    0.00  20231026   \n",
       "10205  2023  07          휘발유  인천광역시     남구  9.00    0.00    0.00  20231026   \n",
       "10206  2023  08          휘발유  인천광역시     남구  9.00    0.00    0.00  20231026   \n",
       "10207  2023  09          휘발유  인천광역시     남구  9.00    0.00    0.00  20231026   \n",
       "\n",
       "          기준연월  \n",
       "0      2022.11  \n",
       "1      2022.12  \n",
       "2      2023.01  \n",
       "3      2023.02  \n",
       "4      2023.03  \n",
       "...        ...  \n",
       "10203  2023.05  \n",
       "10204  2023.06  \n",
       "10205  2023.07  \n",
       "10206  2023.08  \n",
       "10207  2023.09  \n",
       "\n",
       "[10208 rows x 10 columns]"
      ]
     },
     "execution_count": 334,
     "metadata": {},
     "output_type": "execute_result"
    }
   ],
   "source": [
    "base3 = base3[(base3['연도'] != today_date[:4]) | (base3['월'] != today_date[4:6])].reset_index(drop=True) # !!! 수정(2023.10.26)\n",
    "base3"
   ]
  },
  {
   "cell_type": "code",
   "execution_count": 335,
   "metadata": {},
   "outputs": [],
   "source": [
    "base4 = base3[[\n",
    "    '테이블생성일자', \n",
    "    '기준연월',\n",
    "    '연도',\n",
    "    '월', \n",
    "    '연료', \n",
    "    '시도', \n",
    "    '시군구_수정', \n",
    "    '차량대수',\n",
    "]]"
   ]
  },
  {
   "cell_type": "code",
   "execution_count": 336,
   "metadata": {},
   "outputs": [],
   "source": [
    "chc_col = {\n",
    "    '테이블생성일자':'LOAD_DT', \n",
    "    '기준연월':'CRTR_YM',\n",
    "    '연도':'YR', \n",
    "    '월':'MM', \n",
    "    '연료':'FUEL_CD', \n",
    "    '시도':'CTPV', \n",
    "    '시군구_수정':'SGG', \n",
    "    '차량대수':'VHCL_MKCNT', \n",
    "}"
   ]
  },
  {
   "cell_type": "code",
   "execution_count": 316,
   "metadata": {},
   "outputs": [
    {
     "data": {
      "text/plain": [
       "Index(['LOAD_DT', 'CRTR_YM', 'YR', 'MM', 'FUEL_CD', 'CTPV', 'SGG',\n",
       "       'VHCL_MKCNT'],\n",
       "      dtype='object')"
      ]
     },
     "execution_count": 316,
     "metadata": {},
     "output_type": "execute_result"
    }
   ],
   "source": [
    "STD_BD_GRD4_RGN_CURSTT = base4.rename(columns=chc_col)\n",
    "STD_BD_GRD4_RGN_CURSTT.columns"
   ]
  },
  {
   "cell_type": "markdown",
   "metadata": {},
   "source": [
    "### [출력] STD_BD_GRD4_RGN_CURSTT"
   ]
  },
  {
   "cell_type": "code",
   "execution_count": 214,
   "metadata": {},
   "outputs": [],
   "source": [
    "# expdf = STD_BD_GRD4_RGN_CURSTT\n",
    "# table_nm = 'STD_BD_GRD4_RGN_CURSTT'.upper()\n",
    "\n",
    "# # 테이블 생성\n",
    "# sql = 'create or replace table ' + table_nm + '( \\n'\n",
    "\n",
    "# for idx,column in enumerate(expdf.columns):\n",
    "#     # if 'float' in expdf[column].dtype.name:\n",
    "#     #     sql += column + ' float'\n",
    "#     # elif 'int' in expdf[column].dtype.name:\n",
    "#     #     sql += column + ' number'\n",
    "#     # else:\n",
    "#     sql += column + ' varchar(255)'\n",
    "\n",
    "#     if len(expdf.columns) - 1 != idx:\n",
    "#         sql += ','\n",
    "#     sql += '\\n'\n",
    "# sql += ')'    \n",
    "# we.execute(sql)\n",
    "\n",
    "# # 데이터 추가\n",
    "# # 5s\n",
    "# we.import_from_pandas(expdf, table_nm)"
   ]
  },
  {
   "cell_type": "code",
   "execution_count": 215,
   "metadata": {},
   "outputs": [],
   "source": [
    "# # 0s\n",
    "# STD_BD_GRD4_RGN_CURSTT.to_csv(os.path.join(df1_fold, 'STD_BD_GRD4_RGN_CURSTT.csv'), index=False)"
   ]
  },
  {
   "cell_type": "markdown",
   "metadata": {},
   "source": [
    "## 4등급 연도, 시도, 차종별 차량 대수"
   ]
  },
  {
   "cell_type": "markdown",
   "metadata": {},
   "source": [
    "### 현재 차량 대수"
   ]
  },
  {
   "cell_type": "code",
   "execution_count": 242,
   "metadata": {},
   "outputs": [
    {
     "data": {
      "text/html": [
       "<div>\n",
       "<style scoped>\n",
       "    .dataframe tbody tr th:only-of-type {\n",
       "        vertical-align: middle;\n",
       "    }\n",
       "\n",
       "    .dataframe tbody tr th {\n",
       "        vertical-align: top;\n",
       "    }\n",
       "\n",
       "    .dataframe thead th {\n",
       "        text-align: right;\n",
       "    }\n",
       "</style>\n",
       "<table border=\"1\" class=\"dataframe\">\n",
       "  <thead>\n",
       "    <tr style=\"text-align: right;\">\n",
       "      <th></th>\n",
       "      <th>시도</th>\n",
       "      <th>차종</th>\n",
       "      <th>차량대수</th>\n",
       "    </tr>\n",
       "  </thead>\n",
       "  <tbody>\n",
       "    <tr>\n",
       "      <th>0</th>\n",
       "      <td>강원특별자치도</td>\n",
       "      <td>승용</td>\n",
       "      <td>25921</td>\n",
       "    </tr>\n",
       "    <tr>\n",
       "      <th>1</th>\n",
       "      <td>강원특별자치도</td>\n",
       "      <td>승합</td>\n",
       "      <td>4630</td>\n",
       "    </tr>\n",
       "    <tr>\n",
       "      <th>2</th>\n",
       "      <td>강원특별자치도</td>\n",
       "      <td>특수</td>\n",
       "      <td>161</td>\n",
       "    </tr>\n",
       "    <tr>\n",
       "      <th>3</th>\n",
       "      <td>강원특별자치도</td>\n",
       "      <td>화물</td>\n",
       "      <td>20474</td>\n",
       "    </tr>\n",
       "    <tr>\n",
       "      <th>4</th>\n",
       "      <td>경기도</td>\n",
       "      <td>승용</td>\n",
       "      <td>201304</td>\n",
       "    </tr>\n",
       "    <tr>\n",
       "      <th>...</th>\n",
       "      <td>...</td>\n",
       "      <td>...</td>\n",
       "      <td>...</td>\n",
       "    </tr>\n",
       "    <tr>\n",
       "      <th>63</th>\n",
       "      <td>충청남도</td>\n",
       "      <td>화물</td>\n",
       "      <td>31439</td>\n",
       "    </tr>\n",
       "    <tr>\n",
       "      <th>64</th>\n",
       "      <td>충청북도</td>\n",
       "      <td>승용</td>\n",
       "      <td>29747</td>\n",
       "    </tr>\n",
       "    <tr>\n",
       "      <th>65</th>\n",
       "      <td>충청북도</td>\n",
       "      <td>승합</td>\n",
       "      <td>5183</td>\n",
       "    </tr>\n",
       "    <tr>\n",
       "      <th>66</th>\n",
       "      <td>충청북도</td>\n",
       "      <td>특수</td>\n",
       "      <td>202</td>\n",
       "    </tr>\n",
       "    <tr>\n",
       "      <th>67</th>\n",
       "      <td>충청북도</td>\n",
       "      <td>화물</td>\n",
       "      <td>20986</td>\n",
       "    </tr>\n",
       "  </tbody>\n",
       "</table>\n",
       "<p>68 rows × 3 columns</p>\n",
       "</div>"
      ],
      "text/plain": [
       "         시도  차종    차량대수\n",
       "0   강원특별자치도  승용   25921\n",
       "1   강원특별자치도  승합    4630\n",
       "2   강원특별자치도  특수     161\n",
       "3   강원특별자치도  화물   20474\n",
       "4       경기도  승용  201304\n",
       "..      ...  ..     ...\n",
       "63     충청남도  화물   31439\n",
       "64     충청북도  승용   29747\n",
       "65     충청북도  승합    5183\n",
       "66     충청북도  특수     202\n",
       "67     충청북도  화물   20986\n",
       "\n",
       "[68 rows x 3 columns]"
      ]
     },
     "execution_count": 242,
     "metadata": {},
     "output_type": "execute_result"
    }
   ],
   "source": [
    "num_car_by_local1 = dfm.groupby(['시도', '차종'], dropna=False)['차대번호'].count().reset_index()\n",
    "num_car_by_local1 = num_car_by_local1.rename(columns={'차대번호':'차량대수'})\n",
    "num_car_by_local1"
   ]
  },
  {
   "cell_type": "code",
   "execution_count": 243,
   "metadata": {},
   "outputs": [
    {
     "data": {
      "text/html": [
       "<div>\n",
       "<style scoped>\n",
       "    .dataframe tbody tr th:only-of-type {\n",
       "        vertical-align: middle;\n",
       "    }\n",
       "\n",
       "    .dataframe tbody tr th {\n",
       "        vertical-align: top;\n",
       "    }\n",
       "\n",
       "    .dataframe thead th {\n",
       "        text-align: right;\n",
       "    }\n",
       "</style>\n",
       "<table border=\"1\" class=\"dataframe\">\n",
       "  <thead>\n",
       "    <tr style=\"text-align: right;\">\n",
       "      <th></th>\n",
       "      <th>시도</th>\n",
       "      <th>차종</th>\n",
       "      <th>차량대수</th>\n",
       "      <th>연도</th>\n",
       "    </tr>\n",
       "  </thead>\n",
       "  <tbody>\n",
       "    <tr>\n",
       "      <th>0</th>\n",
       "      <td>강원특별자치도</td>\n",
       "      <td>승용</td>\n",
       "      <td>25921</td>\n",
       "      <td>2022</td>\n",
       "    </tr>\n",
       "    <tr>\n",
       "      <th>1</th>\n",
       "      <td>강원특별자치도</td>\n",
       "      <td>승합</td>\n",
       "      <td>4630</td>\n",
       "      <td>2022</td>\n",
       "    </tr>\n",
       "    <tr>\n",
       "      <th>2</th>\n",
       "      <td>강원특별자치도</td>\n",
       "      <td>특수</td>\n",
       "      <td>161</td>\n",
       "      <td>2022</td>\n",
       "    </tr>\n",
       "    <tr>\n",
       "      <th>3</th>\n",
       "      <td>강원특별자치도</td>\n",
       "      <td>화물</td>\n",
       "      <td>20474</td>\n",
       "      <td>2022</td>\n",
       "    </tr>\n",
       "    <tr>\n",
       "      <th>4</th>\n",
       "      <td>경기도</td>\n",
       "      <td>승용</td>\n",
       "      <td>201304</td>\n",
       "      <td>2022</td>\n",
       "    </tr>\n",
       "    <tr>\n",
       "      <th>...</th>\n",
       "      <td>...</td>\n",
       "      <td>...</td>\n",
       "      <td>...</td>\n",
       "      <td>...</td>\n",
       "    </tr>\n",
       "    <tr>\n",
       "      <th>63</th>\n",
       "      <td>충청남도</td>\n",
       "      <td>화물</td>\n",
       "      <td>31439</td>\n",
       "      <td>2022</td>\n",
       "    </tr>\n",
       "    <tr>\n",
       "      <th>64</th>\n",
       "      <td>충청북도</td>\n",
       "      <td>승용</td>\n",
       "      <td>29747</td>\n",
       "      <td>2022</td>\n",
       "    </tr>\n",
       "    <tr>\n",
       "      <th>65</th>\n",
       "      <td>충청북도</td>\n",
       "      <td>승합</td>\n",
       "      <td>5183</td>\n",
       "      <td>2022</td>\n",
       "    </tr>\n",
       "    <tr>\n",
       "      <th>66</th>\n",
       "      <td>충청북도</td>\n",
       "      <td>특수</td>\n",
       "      <td>202</td>\n",
       "      <td>2022</td>\n",
       "    </tr>\n",
       "    <tr>\n",
       "      <th>67</th>\n",
       "      <td>충청북도</td>\n",
       "      <td>화물</td>\n",
       "      <td>20986</td>\n",
       "      <td>2022</td>\n",
       "    </tr>\n",
       "  </tbody>\n",
       "</table>\n",
       "<p>68 rows × 4 columns</p>\n",
       "</div>"
      ],
      "text/plain": [
       "         시도  차종    차량대수    연도\n",
       "0   강원특별자치도  승용   25921  2022\n",
       "1   강원특별자치도  승합    4630  2022\n",
       "2   강원특별자치도  특수     161  2022\n",
       "3   강원특별자치도  화물   20474  2022\n",
       "4       경기도  승용  201304  2022\n",
       "..      ...  ..     ...   ...\n",
       "63     충청남도  화물   31439  2022\n",
       "64     충청북도  승용   29747  2022\n",
       "65     충청북도  승합    5183  2022\n",
       "66     충청북도  특수     202  2022\n",
       "67     충청북도  화물   20986  2022\n",
       "\n",
       "[68 rows x 4 columns]"
      ]
     },
     "execution_count": 243,
     "metadata": {},
     "output_type": "execute_result"
    }
   ],
   "source": [
    "num_car_by_local1['연도'] = max_year\n",
    "num_car_by_local1"
   ]
  },
  {
   "cell_type": "markdown",
   "metadata": {},
   "source": [
    "### 등록 차량 대수"
   ]
  },
  {
   "cell_type": "code",
   "execution_count": 244,
   "metadata": {},
   "outputs": [
    {
     "data": {
      "text/html": [
       "<div>\n",
       "<style scoped>\n",
       "    .dataframe tbody tr th:only-of-type {\n",
       "        vertical-align: middle;\n",
       "    }\n",
       "\n",
       "    .dataframe tbody tr th {\n",
       "        vertical-align: top;\n",
       "    }\n",
       "\n",
       "    .dataframe thead th {\n",
       "        text-align: right;\n",
       "    }\n",
       "</style>\n",
       "<table border=\"1\" class=\"dataframe\">\n",
       "  <thead>\n",
       "    <tr style=\"text-align: right;\">\n",
       "      <th></th>\n",
       "      <th>시도</th>\n",
       "      <th>차종</th>\n",
       "      <th>연도</th>\n",
       "      <th>등록차량대수</th>\n",
       "    </tr>\n",
       "  </thead>\n",
       "  <tbody>\n",
       "    <tr>\n",
       "      <th>0</th>\n",
       "      <td>강원특별자치도</td>\n",
       "      <td>승용</td>\n",
       "      <td>1920</td>\n",
       "      <td>1</td>\n",
       "    </tr>\n",
       "    <tr>\n",
       "      <th>1</th>\n",
       "      <td>강원특별자치도</td>\n",
       "      <td>승용</td>\n",
       "      <td>1987</td>\n",
       "      <td>21</td>\n",
       "    </tr>\n",
       "    <tr>\n",
       "      <th>2</th>\n",
       "      <td>강원특별자치도</td>\n",
       "      <td>승용</td>\n",
       "      <td>1988</td>\n",
       "      <td>246</td>\n",
       "    </tr>\n",
       "    <tr>\n",
       "      <th>3</th>\n",
       "      <td>강원특별자치도</td>\n",
       "      <td>승용</td>\n",
       "      <td>1989</td>\n",
       "      <td>479</td>\n",
       "    </tr>\n",
       "    <tr>\n",
       "      <th>4</th>\n",
       "      <td>강원특별자치도</td>\n",
       "      <td>승용</td>\n",
       "      <td>1990</td>\n",
       "      <td>630</td>\n",
       "    </tr>\n",
       "    <tr>\n",
       "      <th>...</th>\n",
       "      <td>...</td>\n",
       "      <td>...</td>\n",
       "      <td>...</td>\n",
       "      <td>...</td>\n",
       "    </tr>\n",
       "    <tr>\n",
       "      <th>1507</th>\n",
       "      <td>충청북도</td>\n",
       "      <td>화물</td>\n",
       "      <td>2017</td>\n",
       "      <td>2</td>\n",
       "    </tr>\n",
       "    <tr>\n",
       "      <th>1508</th>\n",
       "      <td>충청북도</td>\n",
       "      <td>화물</td>\n",
       "      <td>2018</td>\n",
       "      <td>2</td>\n",
       "    </tr>\n",
       "    <tr>\n",
       "      <th>1509</th>\n",
       "      <td>충청북도</td>\n",
       "      <td>화물</td>\n",
       "      <td>2019</td>\n",
       "      <td>3</td>\n",
       "    </tr>\n",
       "    <tr>\n",
       "      <th>1510</th>\n",
       "      <td>충청북도</td>\n",
       "      <td>화물</td>\n",
       "      <td>2020</td>\n",
       "      <td>1</td>\n",
       "    </tr>\n",
       "    <tr>\n",
       "      <th>1511</th>\n",
       "      <td>충청북도</td>\n",
       "      <td>화물</td>\n",
       "      <td>2022</td>\n",
       "      <td>2</td>\n",
       "    </tr>\n",
       "  </tbody>\n",
       "</table>\n",
       "<p>1512 rows × 4 columns</p>\n",
       "</div>"
      ],
      "text/plain": [
       "           시도  차종    연도  등록차량대수\n",
       "0     강원특별자치도  승용  1920       1\n",
       "1     강원특별자치도  승용  1987      21\n",
       "2     강원특별자치도  승용  1988     246\n",
       "3     강원특별자치도  승용  1989     479\n",
       "4     강원특별자치도  승용  1990     630\n",
       "...       ...  ..   ...     ...\n",
       "1507     충청북도  화물  2017       2\n",
       "1508     충청북도  화물  2018       2\n",
       "1509     충청북도  화물  2019       3\n",
       "1510     충청북도  화물  2020       1\n",
       "1511     충청북도  화물  2022       2\n",
       "\n",
       "[1512 rows x 4 columns]"
      ]
     },
     "execution_count": 244,
     "metadata": {},
     "output_type": "execute_result"
    }
   ],
   "source": [
    "num_car_by_local2 = dfm.groupby(['시도', '차종', '최초등록일자_년'], dropna=False)['차대번호'].count().reset_index() # !!! 수정(2023.10.24)\n",
    "num_car_by_local2 = num_car_by_local2.rename(columns={'차대번호':'등록차량대수', '최초등록일자_년':'연도'})\n",
    "num_car_by_local2"
   ]
  },
  {
   "cell_type": "markdown",
   "metadata": {},
   "source": [
    "### 말소 차량 대수"
   ]
  },
  {
   "cell_type": "code",
   "execution_count": 245,
   "metadata": {},
   "outputs": [
    {
     "data": {
      "text/html": [
       "<div>\n",
       "<style scoped>\n",
       "    .dataframe tbody tr th:only-of-type {\n",
       "        vertical-align: middle;\n",
       "    }\n",
       "\n",
       "    .dataframe tbody tr th {\n",
       "        vertical-align: top;\n",
       "    }\n",
       "\n",
       "    .dataframe thead th {\n",
       "        text-align: right;\n",
       "    }\n",
       "</style>\n",
       "<table border=\"1\" class=\"dataframe\">\n",
       "  <thead>\n",
       "    <tr style=\"text-align: right;\">\n",
       "      <th></th>\n",
       "      <th>연도</th>\n",
       "      <th>시도</th>\n",
       "      <th>차종</th>\n",
       "      <th>말소차량대수</th>\n",
       "    </tr>\n",
       "  </thead>\n",
       "  <tbody>\n",
       "    <tr>\n",
       "      <th>0</th>\n",
       "      <td>2019</td>\n",
       "      <td>강원특별자치도</td>\n",
       "      <td>화물</td>\n",
       "      <td>1</td>\n",
       "    </tr>\n",
       "    <tr>\n",
       "      <th>64</th>\n",
       "      <td>2020</td>\n",
       "      <td>강원특별자치도</td>\n",
       "      <td>화물</td>\n",
       "      <td>1</td>\n",
       "    </tr>\n",
       "    <tr>\n",
       "      <th>195</th>\n",
       "      <td>2022</td>\n",
       "      <td>경기도</td>\n",
       "      <td>특수</td>\n",
       "      <td>35</td>\n",
       "    </tr>\n",
       "    <tr>\n",
       "      <th>196</th>\n",
       "      <td>2022</td>\n",
       "      <td>경기도</td>\n",
       "      <td>화물</td>\n",
       "      <td>3478</td>\n",
       "    </tr>\n",
       "    <tr>\n",
       "      <th>132</th>\n",
       "      <td>2021</td>\n",
       "      <td>경기도</td>\n",
       "      <td>화물</td>\n",
       "      <td>7523</td>\n",
       "    </tr>\n",
       "    <tr>\n",
       "      <th>...</th>\n",
       "      <td>...</td>\n",
       "      <td>...</td>\n",
       "      <td>...</td>\n",
       "      <td>...</td>\n",
       "    </tr>\n",
       "    <tr>\n",
       "      <th>62</th>\n",
       "      <td>2019</td>\n",
       "      <td>충청북도</td>\n",
       "      <td>특수</td>\n",
       "      <td>13</td>\n",
       "    </tr>\n",
       "    <tr>\n",
       "      <th>61</th>\n",
       "      <td>2019</td>\n",
       "      <td>충청북도</td>\n",
       "      <td>승합</td>\n",
       "      <td>263</td>\n",
       "    </tr>\n",
       "    <tr>\n",
       "      <th>60</th>\n",
       "      <td>2019</td>\n",
       "      <td>충청북도</td>\n",
       "      <td>승용</td>\n",
       "      <td>1791</td>\n",
       "    </tr>\n",
       "    <tr>\n",
       "      <th>192</th>\n",
       "      <td>2021</td>\n",
       "      <td>충청북도</td>\n",
       "      <td>화물</td>\n",
       "      <td>1149</td>\n",
       "    </tr>\n",
       "    <tr>\n",
       "      <th>255</th>\n",
       "      <td>2022</td>\n",
       "      <td>충청북도</td>\n",
       "      <td>화물</td>\n",
       "      <td>571</td>\n",
       "    </tr>\n",
       "  </tbody>\n",
       "</table>\n",
       "<p>256 rows × 4 columns</p>\n",
       "</div>"
      ],
      "text/plain": [
       "       연도       시도  차종  말소차량대수\n",
       "0    2019  강원특별자치도  화물       1\n",
       "64   2020  강원특별자치도  화물       1\n",
       "195  2022      경기도  특수      35\n",
       "196  2022      경기도  화물    3478\n",
       "132  2021      경기도  화물    7523\n",
       "..    ...      ...  ..     ...\n",
       "62   2019     충청북도  특수      13\n",
       "61   2019     충청북도  승합     263\n",
       "60   2019     충청북도  승용    1791\n",
       "192  2021     충청북도  화물    1149\n",
       "255  2022     충청북도  화물     571\n",
       "\n",
       "[256 rows x 4 columns]"
      ]
     },
     "execution_count": 245,
     "metadata": {},
     "output_type": "execute_result"
    }
   ],
   "source": [
    "grp_erase = errc.groupby(['변경일자_년', '시도', '차종'], dropna=False)['차대번호'].count() # # !!! 수정(2023.10.24)\n",
    "grp_erase = grp_erase.rename(columns={'차대번호':'말소차량대수', '변경일자_년':'연도'})\n",
    "grp_erase = grp_erase.sort_values(['시도'])\n",
    "grp_erase"
   ]
  },
  {
   "cell_type": "code",
   "execution_count": 246,
   "metadata": {},
   "outputs": [
    {
     "data": {
      "text/plain": [
       "[2019, 2020, 2021, 2022]"
      ]
     },
     "execution_count": 246,
     "metadata": {},
     "output_type": "execute_result"
    }
   ],
   "source": [
    "y_plist = list(pd.date_range(end=date, periods=4, freq=\"YS\").year)\n",
    "y_plist"
   ]
  },
  {
   "cell_type": "code",
   "execution_count": 247,
   "metadata": {},
   "outputs": [],
   "source": [
    "yr_list, fuel_list, ctpv_list, cd_list = [], [], [], []\n",
    "for ctpv in num_car_by_local1['시도'].unique():\n",
    "    for cd in ['승용', '승합', '화물', '특수']:\n",
    "        for yrm in y_plist:\n",
    "            yr_list.append(str(yrm))\n",
    "            fuel_list.append(fuel)\n",
    "            ctpv_list.append(ctpv)\n",
    "            cd_list.append(cd)\n",
    "base = pd.DataFrame({'연도':yr_list, '시도':ctpv_list, '차종':cd_list})"
   ]
  },
  {
   "cell_type": "code",
   "execution_count": 248,
   "metadata": {},
   "outputs": [
    {
     "data": {
      "text/html": [
       "<div>\n",
       "<style scoped>\n",
       "    .dataframe tbody tr th:only-of-type {\n",
       "        vertical-align: middle;\n",
       "    }\n",
       "\n",
       "    .dataframe tbody tr th {\n",
       "        vertical-align: top;\n",
       "    }\n",
       "\n",
       "    .dataframe thead th {\n",
       "        text-align: right;\n",
       "    }\n",
       "</style>\n",
       "<table border=\"1\" class=\"dataframe\">\n",
       "  <thead>\n",
       "    <tr style=\"text-align: right;\">\n",
       "      <th></th>\n",
       "      <th>연도</th>\n",
       "      <th>시도</th>\n",
       "      <th>차종</th>\n",
       "    </tr>\n",
       "  </thead>\n",
       "  <tbody>\n",
       "    <tr>\n",
       "      <th>0</th>\n",
       "      <td>2019</td>\n",
       "      <td>강원특별자치도</td>\n",
       "      <td>승용</td>\n",
       "    </tr>\n",
       "    <tr>\n",
       "      <th>1</th>\n",
       "      <td>2020</td>\n",
       "      <td>강원특별자치도</td>\n",
       "      <td>승용</td>\n",
       "    </tr>\n",
       "    <tr>\n",
       "      <th>2</th>\n",
       "      <td>2021</td>\n",
       "      <td>강원특별자치도</td>\n",
       "      <td>승용</td>\n",
       "    </tr>\n",
       "    <tr>\n",
       "      <th>3</th>\n",
       "      <td>2022</td>\n",
       "      <td>강원특별자치도</td>\n",
       "      <td>승용</td>\n",
       "    </tr>\n",
       "    <tr>\n",
       "      <th>4</th>\n",
       "      <td>2019</td>\n",
       "      <td>강원특별자치도</td>\n",
       "      <td>승합</td>\n",
       "    </tr>\n",
       "    <tr>\n",
       "      <th>...</th>\n",
       "      <td>...</td>\n",
       "      <td>...</td>\n",
       "      <td>...</td>\n",
       "    </tr>\n",
       "    <tr>\n",
       "      <th>267</th>\n",
       "      <td>2022</td>\n",
       "      <td>충청북도</td>\n",
       "      <td>화물</td>\n",
       "    </tr>\n",
       "    <tr>\n",
       "      <th>268</th>\n",
       "      <td>2019</td>\n",
       "      <td>충청북도</td>\n",
       "      <td>특수</td>\n",
       "    </tr>\n",
       "    <tr>\n",
       "      <th>269</th>\n",
       "      <td>2020</td>\n",
       "      <td>충청북도</td>\n",
       "      <td>특수</td>\n",
       "    </tr>\n",
       "    <tr>\n",
       "      <th>270</th>\n",
       "      <td>2021</td>\n",
       "      <td>충청북도</td>\n",
       "      <td>특수</td>\n",
       "    </tr>\n",
       "    <tr>\n",
       "      <th>271</th>\n",
       "      <td>2022</td>\n",
       "      <td>충청북도</td>\n",
       "      <td>특수</td>\n",
       "    </tr>\n",
       "  </tbody>\n",
       "</table>\n",
       "<p>272 rows × 3 columns</p>\n",
       "</div>"
      ],
      "text/plain": [
       "       연도       시도  차종\n",
       "0    2019  강원특별자치도  승용\n",
       "1    2020  강원특별자치도  승용\n",
       "2    2021  강원특별자치도  승용\n",
       "3    2022  강원특별자치도  승용\n",
       "4    2019  강원특별자치도  승합\n",
       "..    ...      ...  ..\n",
       "267  2022     충청북도  화물\n",
       "268  2019     충청북도  특수\n",
       "269  2020     충청북도  특수\n",
       "270  2021     충청북도  특수\n",
       "271  2022     충청북도  특수\n",
       "\n",
       "[272 rows x 3 columns]"
      ]
     },
     "execution_count": 248,
     "metadata": {},
     "output_type": "execute_result"
    }
   ],
   "source": [
    "base"
   ]
  },
  {
   "cell_type": "code",
   "execution_count": 249,
   "metadata": {},
   "outputs": [
    {
     "data": {
      "text/html": [
       "<div>\n",
       "<style scoped>\n",
       "    .dataframe tbody tr th:only-of-type {\n",
       "        vertical-align: middle;\n",
       "    }\n",
       "\n",
       "    .dataframe tbody tr th {\n",
       "        vertical-align: top;\n",
       "    }\n",
       "\n",
       "    .dataframe thead th {\n",
       "        text-align: right;\n",
       "    }\n",
       "</style>\n",
       "<table border=\"1\" class=\"dataframe\">\n",
       "  <thead>\n",
       "    <tr style=\"text-align: right;\">\n",
       "      <th></th>\n",
       "      <th>연도</th>\n",
       "      <th>시도</th>\n",
       "      <th>차종</th>\n",
       "      <th>차량대수</th>\n",
       "    </tr>\n",
       "  </thead>\n",
       "  <tbody>\n",
       "    <tr>\n",
       "      <th>0</th>\n",
       "      <td>2019</td>\n",
       "      <td>강원특별자치도</td>\n",
       "      <td>승용</td>\n",
       "      <td>NaN</td>\n",
       "    </tr>\n",
       "    <tr>\n",
       "      <th>1</th>\n",
       "      <td>2020</td>\n",
       "      <td>강원특별자치도</td>\n",
       "      <td>승용</td>\n",
       "      <td>NaN</td>\n",
       "    </tr>\n",
       "    <tr>\n",
       "      <th>2</th>\n",
       "      <td>2021</td>\n",
       "      <td>강원특별자치도</td>\n",
       "      <td>승용</td>\n",
       "      <td>NaN</td>\n",
       "    </tr>\n",
       "    <tr>\n",
       "      <th>3</th>\n",
       "      <td>2022</td>\n",
       "      <td>강원특별자치도</td>\n",
       "      <td>승용</td>\n",
       "      <td>25921.00</td>\n",
       "    </tr>\n",
       "    <tr>\n",
       "      <th>4</th>\n",
       "      <td>2019</td>\n",
       "      <td>강원특별자치도</td>\n",
       "      <td>승합</td>\n",
       "      <td>NaN</td>\n",
       "    </tr>\n",
       "    <tr>\n",
       "      <th>...</th>\n",
       "      <td>...</td>\n",
       "      <td>...</td>\n",
       "      <td>...</td>\n",
       "      <td>...</td>\n",
       "    </tr>\n",
       "    <tr>\n",
       "      <th>267</th>\n",
       "      <td>2022</td>\n",
       "      <td>충청북도</td>\n",
       "      <td>화물</td>\n",
       "      <td>20986.00</td>\n",
       "    </tr>\n",
       "    <tr>\n",
       "      <th>268</th>\n",
       "      <td>2019</td>\n",
       "      <td>충청북도</td>\n",
       "      <td>특수</td>\n",
       "      <td>NaN</td>\n",
       "    </tr>\n",
       "    <tr>\n",
       "      <th>269</th>\n",
       "      <td>2020</td>\n",
       "      <td>충청북도</td>\n",
       "      <td>특수</td>\n",
       "      <td>NaN</td>\n",
       "    </tr>\n",
       "    <tr>\n",
       "      <th>270</th>\n",
       "      <td>2021</td>\n",
       "      <td>충청북도</td>\n",
       "      <td>특수</td>\n",
       "      <td>NaN</td>\n",
       "    </tr>\n",
       "    <tr>\n",
       "      <th>271</th>\n",
       "      <td>2022</td>\n",
       "      <td>충청북도</td>\n",
       "      <td>특수</td>\n",
       "      <td>202.00</td>\n",
       "    </tr>\n",
       "  </tbody>\n",
       "</table>\n",
       "<p>272 rows × 4 columns</p>\n",
       "</div>"
      ],
      "text/plain": [
       "       연도       시도  차종     차량대수\n",
       "0    2019  강원특별자치도  승용      NaN\n",
       "1    2020  강원특별자치도  승용      NaN\n",
       "2    2021  강원특별자치도  승용      NaN\n",
       "3    2022  강원특별자치도  승용 25921.00\n",
       "4    2019  강원특별자치도  승합      NaN\n",
       "..    ...      ...  ..      ...\n",
       "267  2022     충청북도  화물 20986.00\n",
       "268  2019     충청북도  특수      NaN\n",
       "269  2020     충청북도  특수      NaN\n",
       "270  2021     충청북도  특수      NaN\n",
       "271  2022     충청북도  특수   202.00\n",
       "\n",
       "[272 rows x 4 columns]"
      ]
     },
     "execution_count": 249,
     "metadata": {},
     "output_type": "execute_result"
    }
   ],
   "source": [
    "base1 = base.merge(num_car_by_local1, on=['연도', '시도', '차종'], how='left')\n",
    "base1"
   ]
  },
  {
   "cell_type": "code",
   "execution_count": 250,
   "metadata": {},
   "outputs": [
    {
     "data": {
      "text/html": [
       "<div>\n",
       "<style scoped>\n",
       "    .dataframe tbody tr th:only-of-type {\n",
       "        vertical-align: middle;\n",
       "    }\n",
       "\n",
       "    .dataframe tbody tr th {\n",
       "        vertical-align: top;\n",
       "    }\n",
       "\n",
       "    .dataframe thead th {\n",
       "        text-align: right;\n",
       "    }\n",
       "</style>\n",
       "<table border=\"1\" class=\"dataframe\">\n",
       "  <thead>\n",
       "    <tr style=\"text-align: right;\">\n",
       "      <th></th>\n",
       "      <th>연도</th>\n",
       "      <th>시도</th>\n",
       "      <th>차종</th>\n",
       "      <th>차량대수</th>\n",
       "      <th>등록차량대수</th>\n",
       "    </tr>\n",
       "  </thead>\n",
       "  <tbody>\n",
       "    <tr>\n",
       "      <th>0</th>\n",
       "      <td>2019</td>\n",
       "      <td>강원특별자치도</td>\n",
       "      <td>승용</td>\n",
       "      <td>NaN</td>\n",
       "      <td>2.00</td>\n",
       "    </tr>\n",
       "    <tr>\n",
       "      <th>1</th>\n",
       "      <td>2020</td>\n",
       "      <td>강원특별자치도</td>\n",
       "      <td>승용</td>\n",
       "      <td>NaN</td>\n",
       "      <td>NaN</td>\n",
       "    </tr>\n",
       "    <tr>\n",
       "      <th>2</th>\n",
       "      <td>2021</td>\n",
       "      <td>강원특별자치도</td>\n",
       "      <td>승용</td>\n",
       "      <td>NaN</td>\n",
       "      <td>NaN</td>\n",
       "    </tr>\n",
       "    <tr>\n",
       "      <th>3</th>\n",
       "      <td>2022</td>\n",
       "      <td>강원특별자치도</td>\n",
       "      <td>승용</td>\n",
       "      <td>25921.00</td>\n",
       "      <td>NaN</td>\n",
       "    </tr>\n",
       "    <tr>\n",
       "      <th>4</th>\n",
       "      <td>2019</td>\n",
       "      <td>강원특별자치도</td>\n",
       "      <td>승합</td>\n",
       "      <td>NaN</td>\n",
       "      <td>1.00</td>\n",
       "    </tr>\n",
       "    <tr>\n",
       "      <th>...</th>\n",
       "      <td>...</td>\n",
       "      <td>...</td>\n",
       "      <td>...</td>\n",
       "      <td>...</td>\n",
       "      <td>...</td>\n",
       "    </tr>\n",
       "    <tr>\n",
       "      <th>267</th>\n",
       "      <td>2022</td>\n",
       "      <td>충청북도</td>\n",
       "      <td>화물</td>\n",
       "      <td>20986.00</td>\n",
       "      <td>2.00</td>\n",
       "    </tr>\n",
       "    <tr>\n",
       "      <th>268</th>\n",
       "      <td>2019</td>\n",
       "      <td>충청북도</td>\n",
       "      <td>특수</td>\n",
       "      <td>NaN</td>\n",
       "      <td>NaN</td>\n",
       "    </tr>\n",
       "    <tr>\n",
       "      <th>269</th>\n",
       "      <td>2020</td>\n",
       "      <td>충청북도</td>\n",
       "      <td>특수</td>\n",
       "      <td>NaN</td>\n",
       "      <td>NaN</td>\n",
       "    </tr>\n",
       "    <tr>\n",
       "      <th>270</th>\n",
       "      <td>2021</td>\n",
       "      <td>충청북도</td>\n",
       "      <td>특수</td>\n",
       "      <td>NaN</td>\n",
       "      <td>NaN</td>\n",
       "    </tr>\n",
       "    <tr>\n",
       "      <th>271</th>\n",
       "      <td>2022</td>\n",
       "      <td>충청북도</td>\n",
       "      <td>특수</td>\n",
       "      <td>202.00</td>\n",
       "      <td>NaN</td>\n",
       "    </tr>\n",
       "  </tbody>\n",
       "</table>\n",
       "<p>272 rows × 5 columns</p>\n",
       "</div>"
      ],
      "text/plain": [
       "       연도       시도  차종     차량대수  등록차량대수\n",
       "0    2019  강원특별자치도  승용      NaN    2.00\n",
       "1    2020  강원특별자치도  승용      NaN     NaN\n",
       "2    2021  강원특별자치도  승용      NaN     NaN\n",
       "3    2022  강원특별자치도  승용 25921.00     NaN\n",
       "4    2019  강원특별자치도  승합      NaN    1.00\n",
       "..    ...      ...  ..      ...     ...\n",
       "267  2022     충청북도  화물 20986.00    2.00\n",
       "268  2019     충청북도  특수      NaN     NaN\n",
       "269  2020     충청북도  특수      NaN     NaN\n",
       "270  2021     충청북도  특수      NaN     NaN\n",
       "271  2022     충청북도  특수   202.00     NaN\n",
       "\n",
       "[272 rows x 5 columns]"
      ]
     },
     "execution_count": 250,
     "metadata": {},
     "output_type": "execute_result"
    }
   ],
   "source": [
    "base2 = base1.merge(num_car_by_local2, on=['연도', '시도', '차종'], how='left')\n",
    "base2"
   ]
  },
  {
   "cell_type": "code",
   "execution_count": 251,
   "metadata": {},
   "outputs": [
    {
     "data": {
      "text/html": [
       "<div>\n",
       "<style scoped>\n",
       "    .dataframe tbody tr th:only-of-type {\n",
       "        vertical-align: middle;\n",
       "    }\n",
       "\n",
       "    .dataframe tbody tr th {\n",
       "        vertical-align: top;\n",
       "    }\n",
       "\n",
       "    .dataframe thead th {\n",
       "        text-align: right;\n",
       "    }\n",
       "</style>\n",
       "<table border=\"1\" class=\"dataframe\">\n",
       "  <thead>\n",
       "    <tr style=\"text-align: right;\">\n",
       "      <th></th>\n",
       "      <th>연도</th>\n",
       "      <th>시도</th>\n",
       "      <th>차종</th>\n",
       "      <th>차량대수</th>\n",
       "      <th>등록차량대수</th>\n",
       "      <th>말소차량대수</th>\n",
       "    </tr>\n",
       "  </thead>\n",
       "  <tbody>\n",
       "    <tr>\n",
       "      <th>0</th>\n",
       "      <td>2019</td>\n",
       "      <td>강원특별자치도</td>\n",
       "      <td>승용</td>\n",
       "      <td>NaN</td>\n",
       "      <td>2.00</td>\n",
       "      <td>NaN</td>\n",
       "    </tr>\n",
       "    <tr>\n",
       "      <th>1</th>\n",
       "      <td>2020</td>\n",
       "      <td>강원특별자치도</td>\n",
       "      <td>승용</td>\n",
       "      <td>NaN</td>\n",
       "      <td>NaN</td>\n",
       "      <td>NaN</td>\n",
       "    </tr>\n",
       "    <tr>\n",
       "      <th>2</th>\n",
       "      <td>2021</td>\n",
       "      <td>강원특별자치도</td>\n",
       "      <td>승용</td>\n",
       "      <td>NaN</td>\n",
       "      <td>NaN</td>\n",
       "      <td>NaN</td>\n",
       "    </tr>\n",
       "    <tr>\n",
       "      <th>3</th>\n",
       "      <td>2022</td>\n",
       "      <td>강원특별자치도</td>\n",
       "      <td>승용</td>\n",
       "      <td>25921.00</td>\n",
       "      <td>NaN</td>\n",
       "      <td>NaN</td>\n",
       "    </tr>\n",
       "    <tr>\n",
       "      <th>4</th>\n",
       "      <td>2019</td>\n",
       "      <td>강원특별자치도</td>\n",
       "      <td>승합</td>\n",
       "      <td>NaN</td>\n",
       "      <td>1.00</td>\n",
       "      <td>NaN</td>\n",
       "    </tr>\n",
       "    <tr>\n",
       "      <th>...</th>\n",
       "      <td>...</td>\n",
       "      <td>...</td>\n",
       "      <td>...</td>\n",
       "      <td>...</td>\n",
       "      <td>...</td>\n",
       "      <td>...</td>\n",
       "    </tr>\n",
       "    <tr>\n",
       "      <th>267</th>\n",
       "      <td>2022</td>\n",
       "      <td>충청북도</td>\n",
       "      <td>화물</td>\n",
       "      <td>20986.00</td>\n",
       "      <td>2.00</td>\n",
       "      <td>571.00</td>\n",
       "    </tr>\n",
       "    <tr>\n",
       "      <th>268</th>\n",
       "      <td>2019</td>\n",
       "      <td>충청북도</td>\n",
       "      <td>특수</td>\n",
       "      <td>NaN</td>\n",
       "      <td>NaN</td>\n",
       "      <td>13.00</td>\n",
       "    </tr>\n",
       "    <tr>\n",
       "      <th>269</th>\n",
       "      <td>2020</td>\n",
       "      <td>충청북도</td>\n",
       "      <td>특수</td>\n",
       "      <td>NaN</td>\n",
       "      <td>NaN</td>\n",
       "      <td>10.00</td>\n",
       "    </tr>\n",
       "    <tr>\n",
       "      <th>270</th>\n",
       "      <td>2021</td>\n",
       "      <td>충청북도</td>\n",
       "      <td>특수</td>\n",
       "      <td>NaN</td>\n",
       "      <td>NaN</td>\n",
       "      <td>17.00</td>\n",
       "    </tr>\n",
       "    <tr>\n",
       "      <th>271</th>\n",
       "      <td>2022</td>\n",
       "      <td>충청북도</td>\n",
       "      <td>특수</td>\n",
       "      <td>202.00</td>\n",
       "      <td>NaN</td>\n",
       "      <td>6.00</td>\n",
       "    </tr>\n",
       "  </tbody>\n",
       "</table>\n",
       "<p>272 rows × 6 columns</p>\n",
       "</div>"
      ],
      "text/plain": [
       "       연도       시도  차종     차량대수  등록차량대수  말소차량대수\n",
       "0    2019  강원특별자치도  승용      NaN    2.00     NaN\n",
       "1    2020  강원특별자치도  승용      NaN     NaN     NaN\n",
       "2    2021  강원특별자치도  승용      NaN     NaN     NaN\n",
       "3    2022  강원특별자치도  승용 25921.00     NaN     NaN\n",
       "4    2019  강원특별자치도  승합      NaN    1.00     NaN\n",
       "..    ...      ...  ..      ...     ...     ...\n",
       "267  2022     충청북도  화물 20986.00    2.00  571.00\n",
       "268  2019     충청북도  특수      NaN     NaN   13.00\n",
       "269  2020     충청북도  특수      NaN     NaN   10.00\n",
       "270  2021     충청북도  특수      NaN     NaN   17.00\n",
       "271  2022     충청북도  특수   202.00     NaN    6.00\n",
       "\n",
       "[272 rows x 6 columns]"
      ]
     },
     "execution_count": 251,
     "metadata": {},
     "output_type": "execute_result"
    }
   ],
   "source": [
    "base3 = base2.merge(grp_erase, on=['연도', '시도', '차종'], how='left')\n",
    "base3"
   ]
  },
  {
   "cell_type": "code",
   "execution_count": 252,
   "metadata": {},
   "outputs": [
    {
     "data": {
      "text/plain": [
       "차량대수      0\n",
       "등록차량대수    0\n",
       "말소차량대수    0\n",
       "dtype: int64"
      ]
     },
     "execution_count": 252,
     "metadata": {},
     "output_type": "execute_result"
    }
   ],
   "source": [
    "base3[['차량대수', '등록차량대수', '말소차량대수']] = base3[['차량대수', '등록차량대수', '말소차량대수']].fillna(0)\n",
    "base3[['차량대수', '등록차량대수', '말소차량대수']].isnull().sum()"
   ]
  },
  {
   "cell_type": "code",
   "execution_count": 253,
   "metadata": {},
   "outputs": [],
   "source": [
    "n = len(base3['연도'].unique())\n",
    "for i in range(base3.shape[0] // n):\n",
    "    for j in range(2, n+1):\n",
    "        base3.loc[(i+1)*n - j, '차량대수'] = base3.loc[(i+1)*n - (j-1), '차량대수'] + base3.loc[(i+1)*n - (j-1), '말소차량대수'] - base3.loc[(i+1)*n - (j-1), '등록차량대수']"
   ]
  },
  {
   "cell_type": "code",
   "execution_count": 254,
   "metadata": {},
   "outputs": [
    {
     "data": {
      "text/html": [
       "<div>\n",
       "<style scoped>\n",
       "    .dataframe tbody tr th:only-of-type {\n",
       "        vertical-align: middle;\n",
       "    }\n",
       "\n",
       "    .dataframe tbody tr th {\n",
       "        vertical-align: top;\n",
       "    }\n",
       "\n",
       "    .dataframe thead th {\n",
       "        text-align: right;\n",
       "    }\n",
       "</style>\n",
       "<table border=\"1\" class=\"dataframe\">\n",
       "  <thead>\n",
       "    <tr style=\"text-align: right;\">\n",
       "      <th></th>\n",
       "      <th>연도</th>\n",
       "      <th>시도</th>\n",
       "      <th>차종</th>\n",
       "      <th>차량대수</th>\n",
       "      <th>등록차량대수</th>\n",
       "      <th>말소차량대수</th>\n",
       "    </tr>\n",
       "  </thead>\n",
       "  <tbody>\n",
       "    <tr>\n",
       "      <th>252</th>\n",
       "      <td>2019</td>\n",
       "      <td>충청남도</td>\n",
       "      <td>특수</td>\n",
       "      <td>342.00</td>\n",
       "      <td>0.00</td>\n",
       "      <td>5.00</td>\n",
       "    </tr>\n",
       "    <tr>\n",
       "      <th>253</th>\n",
       "      <td>2020</td>\n",
       "      <td>충청남도</td>\n",
       "      <td>특수</td>\n",
       "      <td>335.00</td>\n",
       "      <td>0.00</td>\n",
       "      <td>7.00</td>\n",
       "    </tr>\n",
       "    <tr>\n",
       "      <th>254</th>\n",
       "      <td>2021</td>\n",
       "      <td>충청남도</td>\n",
       "      <td>특수</td>\n",
       "      <td>320.00</td>\n",
       "      <td>0.00</td>\n",
       "      <td>15.00</td>\n",
       "    </tr>\n",
       "    <tr>\n",
       "      <th>255</th>\n",
       "      <td>2022</td>\n",
       "      <td>충청남도</td>\n",
       "      <td>특수</td>\n",
       "      <td>318.00</td>\n",
       "      <td>0.00</td>\n",
       "      <td>2.00</td>\n",
       "    </tr>\n",
       "    <tr>\n",
       "      <th>256</th>\n",
       "      <td>2019</td>\n",
       "      <td>충청북도</td>\n",
       "      <td>승용</td>\n",
       "      <td>37558.00</td>\n",
       "      <td>1.00</td>\n",
       "      <td>1791.00</td>\n",
       "    </tr>\n",
       "    <tr>\n",
       "      <th>257</th>\n",
       "      <td>2020</td>\n",
       "      <td>충청북도</td>\n",
       "      <td>승용</td>\n",
       "      <td>34378.00</td>\n",
       "      <td>0.00</td>\n",
       "      <td>3180.00</td>\n",
       "    </tr>\n",
       "    <tr>\n",
       "      <th>258</th>\n",
       "      <td>2021</td>\n",
       "      <td>충청북도</td>\n",
       "      <td>승용</td>\n",
       "      <td>31140.00</td>\n",
       "      <td>0.00</td>\n",
       "      <td>3238.00</td>\n",
       "    </tr>\n",
       "    <tr>\n",
       "      <th>259</th>\n",
       "      <td>2022</td>\n",
       "      <td>충청북도</td>\n",
       "      <td>승용</td>\n",
       "      <td>29747.00</td>\n",
       "      <td>0.00</td>\n",
       "      <td>1393.00</td>\n",
       "    </tr>\n",
       "    <tr>\n",
       "      <th>260</th>\n",
       "      <td>2019</td>\n",
       "      <td>충청북도</td>\n",
       "      <td>승합</td>\n",
       "      <td>6241.00</td>\n",
       "      <td>0.00</td>\n",
       "      <td>263.00</td>\n",
       "    </tr>\n",
       "    <tr>\n",
       "      <th>261</th>\n",
       "      <td>2020</td>\n",
       "      <td>충청북도</td>\n",
       "      <td>승합</td>\n",
       "      <td>5848.00</td>\n",
       "      <td>2.00</td>\n",
       "      <td>395.00</td>\n",
       "    </tr>\n",
       "    <tr>\n",
       "      <th>262</th>\n",
       "      <td>2021</td>\n",
       "      <td>충청북도</td>\n",
       "      <td>승합</td>\n",
       "      <td>5415.00</td>\n",
       "      <td>0.00</td>\n",
       "      <td>433.00</td>\n",
       "    </tr>\n",
       "    <tr>\n",
       "      <th>263</th>\n",
       "      <td>2022</td>\n",
       "      <td>충청북도</td>\n",
       "      <td>승합</td>\n",
       "      <td>5183.00</td>\n",
       "      <td>0.00</td>\n",
       "      <td>232.00</td>\n",
       "    </tr>\n",
       "    <tr>\n",
       "      <th>264</th>\n",
       "      <td>2019</td>\n",
       "      <td>충청북도</td>\n",
       "      <td>화물</td>\n",
       "      <td>23606.00</td>\n",
       "      <td>3.00</td>\n",
       "      <td>498.00</td>\n",
       "    </tr>\n",
       "    <tr>\n",
       "      <th>265</th>\n",
       "      <td>2020</td>\n",
       "      <td>충청북도</td>\n",
       "      <td>화물</td>\n",
       "      <td>22704.00</td>\n",
       "      <td>1.00</td>\n",
       "      <td>903.00</td>\n",
       "    </tr>\n",
       "    <tr>\n",
       "      <th>266</th>\n",
       "      <td>2021</td>\n",
       "      <td>충청북도</td>\n",
       "      <td>화물</td>\n",
       "      <td>21555.00</td>\n",
       "      <td>0.00</td>\n",
       "      <td>1149.00</td>\n",
       "    </tr>\n",
       "    <tr>\n",
       "      <th>267</th>\n",
       "      <td>2022</td>\n",
       "      <td>충청북도</td>\n",
       "      <td>화물</td>\n",
       "      <td>20986.00</td>\n",
       "      <td>2.00</td>\n",
       "      <td>571.00</td>\n",
       "    </tr>\n",
       "    <tr>\n",
       "      <th>268</th>\n",
       "      <td>2019</td>\n",
       "      <td>충청북도</td>\n",
       "      <td>특수</td>\n",
       "      <td>235.00</td>\n",
       "      <td>0.00</td>\n",
       "      <td>13.00</td>\n",
       "    </tr>\n",
       "    <tr>\n",
       "      <th>269</th>\n",
       "      <td>2020</td>\n",
       "      <td>충청북도</td>\n",
       "      <td>특수</td>\n",
       "      <td>225.00</td>\n",
       "      <td>0.00</td>\n",
       "      <td>10.00</td>\n",
       "    </tr>\n",
       "    <tr>\n",
       "      <th>270</th>\n",
       "      <td>2021</td>\n",
       "      <td>충청북도</td>\n",
       "      <td>특수</td>\n",
       "      <td>208.00</td>\n",
       "      <td>0.00</td>\n",
       "      <td>17.00</td>\n",
       "    </tr>\n",
       "    <tr>\n",
       "      <th>271</th>\n",
       "      <td>2022</td>\n",
       "      <td>충청북도</td>\n",
       "      <td>특수</td>\n",
       "      <td>202.00</td>\n",
       "      <td>0.00</td>\n",
       "      <td>6.00</td>\n",
       "    </tr>\n",
       "  </tbody>\n",
       "</table>\n",
       "</div>"
      ],
      "text/plain": [
       "       연도    시도  차종     차량대수  등록차량대수  말소차량대수\n",
       "252  2019  충청남도  특수   342.00    0.00    5.00\n",
       "253  2020  충청남도  특수   335.00    0.00    7.00\n",
       "254  2021  충청남도  특수   320.00    0.00   15.00\n",
       "255  2022  충청남도  특수   318.00    0.00    2.00\n",
       "256  2019  충청북도  승용 37558.00    1.00 1791.00\n",
       "257  2020  충청북도  승용 34378.00    0.00 3180.00\n",
       "258  2021  충청북도  승용 31140.00    0.00 3238.00\n",
       "259  2022  충청북도  승용 29747.00    0.00 1393.00\n",
       "260  2019  충청북도  승합  6241.00    0.00  263.00\n",
       "261  2020  충청북도  승합  5848.00    2.00  395.00\n",
       "262  2021  충청북도  승합  5415.00    0.00  433.00\n",
       "263  2022  충청북도  승합  5183.00    0.00  232.00\n",
       "264  2019  충청북도  화물 23606.00    3.00  498.00\n",
       "265  2020  충청북도  화물 22704.00    1.00  903.00\n",
       "266  2021  충청북도  화물 21555.00    0.00 1149.00\n",
       "267  2022  충청북도  화물 20986.00    2.00  571.00\n",
       "268  2019  충청북도  특수   235.00    0.00   13.00\n",
       "269  2020  충청북도  특수   225.00    0.00   10.00\n",
       "270  2021  충청북도  특수   208.00    0.00   17.00\n",
       "271  2022  충청북도  특수   202.00    0.00    6.00"
      ]
     },
     "execution_count": 254,
     "metadata": {},
     "output_type": "execute_result"
    }
   ],
   "source": [
    "base3.tail(20)"
   ]
  },
  {
   "cell_type": "code",
   "execution_count": 255,
   "metadata": {},
   "outputs": [
    {
     "data": {
      "text/plain": [
       "'20230811'"
      ]
     },
     "execution_count": 255,
     "metadata": {},
     "output_type": "execute_result"
    }
   ],
   "source": [
    "today_date = datetime.today().strftime(\"%Y%m%d\")\n",
    "today_date"
   ]
  },
  {
   "cell_type": "code",
   "execution_count": 256,
   "metadata": {},
   "outputs": [],
   "source": [
    "base3['테이블생성일자'] = today_date"
   ]
  },
  {
   "cell_type": "code",
   "execution_count": 257,
   "metadata": {},
   "outputs": [],
   "source": [
    "base4 = base3[[\n",
    "    '테이블생성일자', \n",
    "    '연도', \n",
    "    '시도', \n",
    "    '차종', \n",
    "    '차량대수', \n",
    "]]"
   ]
  },
  {
   "cell_type": "code",
   "execution_count": 258,
   "metadata": {},
   "outputs": [],
   "source": [
    "chc_col = {\n",
    "    '테이블생성일자':'LOAD_DT', \n",
    "    '연도':'CRTR_Y', \n",
    "    '시도':'CTPV', \n",
    "    '차종':'VHCTY_CD', \n",
    "    '차량대수':'VHCL_MKCNT', \n",
    "}"
   ]
  },
  {
   "cell_type": "code",
   "execution_count": 259,
   "metadata": {},
   "outputs": [
    {
     "data": {
      "text/plain": [
       "Index(['LOAD_DT', 'CRTR_Y', 'CTPV', 'VHCTY_CD', 'VHCL_MKCNT'], dtype='object')"
      ]
     },
     "execution_count": 259,
     "metadata": {},
     "output_type": "execute_result"
    }
   ],
   "source": [
    "STD_BD_GRD4_RGN_CURSTT_MOD = base4.rename(columns=chc_col)\n",
    "STD_BD_GRD4_RGN_CURSTT_MOD.columns"
   ]
  },
  {
   "cell_type": "code",
   "execution_count": 260,
   "metadata": {},
   "outputs": [
    {
     "data": {
      "text/html": [
       "<div>\n",
       "<style scoped>\n",
       "    .dataframe tbody tr th:only-of-type {\n",
       "        vertical-align: middle;\n",
       "    }\n",
       "\n",
       "    .dataframe tbody tr th {\n",
       "        vertical-align: top;\n",
       "    }\n",
       "\n",
       "    .dataframe thead th {\n",
       "        text-align: right;\n",
       "    }\n",
       "</style>\n",
       "<table border=\"1\" class=\"dataframe\">\n",
       "  <thead>\n",
       "    <tr style=\"text-align: right;\">\n",
       "      <th></th>\n",
       "      <th>LOAD_DT</th>\n",
       "      <th>CRTR_Y</th>\n",
       "      <th>CTPV</th>\n",
       "      <th>VHCTY_CD</th>\n",
       "      <th>VHCL_MKCNT</th>\n",
       "    </tr>\n",
       "  </thead>\n",
       "  <tbody>\n",
       "    <tr>\n",
       "      <th>0</th>\n",
       "      <td>20230811</td>\n",
       "      <td>2019</td>\n",
       "      <td>강원특별자치도</td>\n",
       "      <td>승용</td>\n",
       "      <td>25921.00</td>\n",
       "    </tr>\n",
       "    <tr>\n",
       "      <th>1</th>\n",
       "      <td>20230811</td>\n",
       "      <td>2020</td>\n",
       "      <td>강원특별자치도</td>\n",
       "      <td>승용</td>\n",
       "      <td>25921.00</td>\n",
       "    </tr>\n",
       "    <tr>\n",
       "      <th>2</th>\n",
       "      <td>20230811</td>\n",
       "      <td>2021</td>\n",
       "      <td>강원특별자치도</td>\n",
       "      <td>승용</td>\n",
       "      <td>25921.00</td>\n",
       "    </tr>\n",
       "    <tr>\n",
       "      <th>3</th>\n",
       "      <td>20230811</td>\n",
       "      <td>2022</td>\n",
       "      <td>강원특별자치도</td>\n",
       "      <td>승용</td>\n",
       "      <td>25921.00</td>\n",
       "    </tr>\n",
       "    <tr>\n",
       "      <th>4</th>\n",
       "      <td>20230811</td>\n",
       "      <td>2019</td>\n",
       "      <td>강원특별자치도</td>\n",
       "      <td>승합</td>\n",
       "      <td>4629.00</td>\n",
       "    </tr>\n",
       "  </tbody>\n",
       "</table>\n",
       "</div>"
      ],
      "text/plain": [
       "    LOAD_DT CRTR_Y     CTPV VHCTY_CD  VHCL_MKCNT\n",
       "0  20230811   2019  강원특별자치도       승용    25921.00\n",
       "1  20230811   2020  강원특별자치도       승용    25921.00\n",
       "2  20230811   2021  강원특별자치도       승용    25921.00\n",
       "3  20230811   2022  강원특별자치도       승용    25921.00\n",
       "4  20230811   2019  강원특별자치도       승합     4629.00"
      ]
     },
     "execution_count": 260,
     "metadata": {},
     "output_type": "execute_result"
    }
   ],
   "source": [
    "STD_BD_GRD4_RGN_CURSTT_MOD.head()"
   ]
  },
  {
   "cell_type": "markdown",
   "metadata": {},
   "source": [
    "### [출력] STD_BD_GRD4_RGN_CURSTT_MOD"
   ]
  },
  {
   "cell_type": "code",
   "execution_count": 261,
   "metadata": {},
   "outputs": [],
   "source": [
    "# expdf = STD_BD_GRD4_RGN_CURSTT_MOD\n",
    "# table_nm = 'STD_BD_GRD4_RGN_CURSTT_MOD'.upper()\n",
    "\n",
    "# # 테이블 생성\n",
    "# sql = 'create or replace table ' + table_nm + '( \\n'\n",
    "\n",
    "# for idx,column in enumerate(expdf.columns):\n",
    "#     # if 'float' in expdf[column].dtype.name:\n",
    "#     #     sql += column + ' float'\n",
    "#     # elif 'int' in expdf[column].dtype.name:\n",
    "#     #     sql += column + ' number'\n",
    "#     # else:\n",
    "#     sql += column + ' varchar(255)'\n",
    "\n",
    "#     if len(expdf.columns) - 1 != idx:\n",
    "#         sql += ','\n",
    "#     sql += '\\n'\n",
    "# sql += ')'    \n",
    "# we.execute(sql)\n",
    "\n",
    "# # 데이터 추가\n",
    "# # 5s\n",
    "# we.import_from_pandas(expdf, table_nm)"
   ]
  },
  {
   "cell_type": "code",
   "execution_count": 262,
   "metadata": {},
   "outputs": [],
   "source": [
    "# # 0s\n",
    "# STD_BD_GRD4_RGN_CURSTT_MOD.to_csv(os.path.join(df1_fold, 'STD_BD_GRD4_RGN_CURSTT_MOD.csv'), index=False)"
   ]
  },
  {
   "cell_type": "markdown",
   "metadata": {},
   "source": [
    "## [❗] 4등급 차량현황(그룹)\n",
    "- 연도, 월, 시도, 시군구, 연료, 차종, 차종유형, 용도"
   ]
  },
  {
   "cell_type": "markdown",
   "metadata": {},
   "source": [
    "### 현재 차량 대수"
   ]
  },
  {
   "cell_type": "code",
   "execution_count": null,
   "metadata": {},
   "outputs": [],
   "source": [
    "dfe['시도'].isnull().sum()"
   ]
  },
  {
   "cell_type": "code",
   "execution_count": 270,
   "metadata": {},
   "outputs": [],
   "source": [
    "dfe['시군구_수정'] = dfe['시군구'].str.split(' ').str[0]"
   ]
  },
  {
   "cell_type": "code",
   "execution_count": 271,
   "metadata": {},
   "outputs": [
    {
     "data": {
      "text/plain": [
       "Index(['자동차등록번호', '차대번호', '법정동코드', '배출가스등급', '배출가스인증번호', '차량말소YN', '제원관리번호',\n",
       "       '차량연식', '차종', '용도', '최초등록일자', '제작일자', '차량관리번호', '연료', '차종유형', '제작사명',\n",
       "       '차명', '자동차형식', '엔진형식', '조기폐차상태코드', '조기폐차최종승인YN', '말소일자', '조기폐차신청여부',\n",
       "       '저감장치구분', '저감장치종류', 'DPF_YN', '시도', '시군구', '시군구_수정'],\n",
       "      dtype='object')"
      ]
     },
     "execution_count": 271,
     "metadata": {},
     "output_type": "execute_result"
    }
   ],
   "source": [
    "dfe.columns"
   ]
  },
  {
   "cell_type": "code",
   "execution_count": 272,
   "metadata": {},
   "outputs": [
    {
     "data": {
      "text/plain": [
       "Index(['자동차등록번호', '차대번호', '법정동코드', '배출가스등급', '배출가스인증번호', '차량말소YN_x', '제원관리번호',\n",
       "       '차량연식', '차종', '용도', '최초등록일자', '제작일자', '차량관리번호', '연료', '차종유형', '제작사명',\n",
       "       '차명', '자동차형식', '엔진형식', '차량말소YN_y', '변경일자', '시도', '시군구', '변경일자_년',\n",
       "       '변경일자_월', '변경일자_일', '시군구_수정'],\n",
       "      dtype='object')"
      ]
     },
     "execution_count": 272,
     "metadata": {},
     "output_type": "execute_result"
    }
   ],
   "source": [
    "errc.columns"
   ]
  },
  {
   "cell_type": "code",
   "execution_count": 273,
   "metadata": {},
   "outputs": [
    {
     "data": {
      "text/plain": [
       "((1906823, 29), (353233, 27))"
      ]
     },
     "execution_count": 273,
     "metadata": {},
     "output_type": "execute_result"
    }
   ],
   "source": [
    "dfe.shape, errc.shape"
   ]
  },
  {
   "cell_type": "code",
   "execution_count": 274,
   "metadata": {},
   "outputs": [
    {
     "data": {
      "text/plain": [
       "(353233, 31)"
      ]
     },
     "execution_count": 274,
     "metadata": {},
     "output_type": "execute_result"
    }
   ],
   "source": [
    "ere = errc.merge(elpm, on='차대번호', how='left')\n",
    "ere.shape"
   ]
  },
  {
   "cell_type": "code",
   "execution_count": 275,
   "metadata": {},
   "outputs": [
    {
     "data": {
      "text/plain": [
       "(353233, 34)"
      ]
     },
     "execution_count": 275,
     "metadata": {},
     "output_type": "execute_result"
    }
   ],
   "source": [
    "erea = ere.merge(attr, on='차대번호', how='left')\n",
    "erea.shape"
   ]
  },
  {
   "cell_type": "code",
   "execution_count": 276,
   "metadata": {},
   "outputs": [
    {
     "data": {
      "text/plain": [
       "Index(['자동차등록번호', '차대번호', '법정동코드', '배출가스등급', '배출가스인증번호', '차량말소YN_x', '제원관리번호',\n",
       "       '차량연식', '차종', '용도', '최초등록일자', '제작일자', '차량관리번호', '연료', '차종유형', '제작사명',\n",
       "       '차명', '자동차형식', '엔진형식', '차량말소YN_y', '변경일자', '시도', '시군구', '변경일자_년',\n",
       "       '변경일자_월', '변경일자_일', '시군구_수정', '조기폐차상태코드', '조기폐차최종승인YN', '말소일자',\n",
       "       '조기폐차신청여부', '저감장치구분', '저감장치종류', 'DPF_YN'],\n",
       "      dtype='object')"
      ]
     },
     "execution_count": 276,
     "metadata": {},
     "output_type": "execute_result"
    }
   ],
   "source": [
    "erea.columns"
   ]
  },
  {
   "cell_type": "code",
   "execution_count": 288,
   "metadata": {},
   "outputs": [
    {
     "data": {
      "text/plain": [
       "(1906823, 29)"
      ]
     },
     "execution_count": 288,
     "metadata": {},
     "output_type": "execute_result"
    }
   ],
   "source": [
    "dfe.shape"
   ]
  },
  {
   "cell_type": "code",
   "execution_count": 289,
   "metadata": {},
   "outputs": [],
   "source": [
    "dfe['연도'] = max_year\n",
    "dfe['월'] = max_month"
   ]
  },
  {
   "cell_type": "code",
   "execution_count": 290,
   "metadata": {},
   "outputs": [
    {
     "data": {
      "text/plain": [
       "DPF_YN\n",
       "무       876661\n",
       "NaN     758754\n",
       "유       259030\n",
       "확인불가     12378\n",
       "Name: count, dtype: int64"
      ]
     },
     "execution_count": 290,
     "metadata": {},
     "output_type": "execute_result"
    }
   ],
   "source": [
    "dfe['DPF_YN'].value_counts(dropna=False)"
   ]
  },
  {
   "cell_type": "code",
   "execution_count": 291,
   "metadata": {},
   "outputs": [],
   "source": [
    "dfe['최초등록일자'] = dfe['최초등록일자'].astype('str')\n",
    "dfe['최초등록일자_년'] = dfe['최초등록일자'].str[:4]\n",
    "dfe['최초등록일자_월'] = dfe['최초등록일자'].str[4:6]\n",
    "dfe['최초등록일자_일'] = dfe['최초등록일자'].str[6:8]"
   ]
  },
  {
   "cell_type": "code",
   "execution_count": 292,
   "metadata": {},
   "outputs": [],
   "source": [
    "dfe.loc[dfe['DPF_YN'] == '유', '저감장치부착유무'] = 'Y'\n",
    "erea.loc[erea['DPF_YN'] == '유', '저감장치부착유무'] = 'Y'"
   ]
  },
  {
   "cell_type": "code",
   "execution_count": 293,
   "metadata": {},
   "outputs": [],
   "source": [
    "dfe['말소일자'] = dfe['말소일자'].astype('str')\n",
    "dfe['말소일자_년'] = dfe['말소일자'].str[:4]\n",
    "dfe['말소일자_월'] = dfe['말소일자'].str[4:6]\n",
    "dfe['말소일자_일'] = dfe['말소일자'].str[6:8]"
   ]
  },
  {
   "cell_type": "code",
   "execution_count": 294,
   "metadata": {},
   "outputs": [],
   "source": [
    "erea['말소일자'] = erea['말소일자'].astype('str')\n",
    "erea['말소일자_년'] = erea['말소일자'].str[:4]\n",
    "erea['말소일자_월'] = erea['말소일자'].str[4:6]\n",
    "erea['말소일자_일'] = erea['말소일자'].str[6:8]"
   ]
  },
  {
   "cell_type": "code",
   "execution_count": 295,
   "metadata": {},
   "outputs": [
    {
     "data": {
      "text/plain": [
       "시도            0\n",
       "시군구_수정    10692\n",
       "연료           60\n",
       "차종            0\n",
       "차종유형          0\n",
       "용도            0\n",
       "dtype: int64"
      ]
     },
     "execution_count": 295,
     "metadata": {},
     "output_type": "execute_result"
    }
   ],
   "source": [
    "dfe[['시도', '시군구_수정', '연료', '차종', '차종유형', '용도']].isnull().sum()"
   ]
  },
  {
   "cell_type": "code",
   "execution_count": 296,
   "metadata": {},
   "outputs": [
    {
     "data": {
      "text/html": [
       "<div>\n",
       "<style scoped>\n",
       "    .dataframe tbody tr th:only-of-type {\n",
       "        vertical-align: middle;\n",
       "    }\n",
       "\n",
       "    .dataframe tbody tr th {\n",
       "        vertical-align: top;\n",
       "    }\n",
       "\n",
       "    .dataframe thead th {\n",
       "        text-align: right;\n",
       "    }\n",
       "</style>\n",
       "<table border=\"1\" class=\"dataframe\">\n",
       "  <thead>\n",
       "    <tr style=\"text-align: right;\">\n",
       "      <th></th>\n",
       "      <th>연도</th>\n",
       "      <th>월</th>\n",
       "      <th>시도</th>\n",
       "      <th>시군구_수정</th>\n",
       "      <th>연료</th>\n",
       "      <th>차종</th>\n",
       "      <th>차종유형</th>\n",
       "      <th>용도</th>\n",
       "      <th>차량대수</th>\n",
       "      <th>저감대수</th>\n",
       "    </tr>\n",
       "  </thead>\n",
       "  <tbody>\n",
       "    <tr>\n",
       "      <th>0</th>\n",
       "      <td>2022</td>\n",
       "      <td>06</td>\n",
       "      <td>강원특별자치도</td>\n",
       "      <td>강릉시</td>\n",
       "      <td>LPG(액화석유가스)</td>\n",
       "      <td>승용</td>\n",
       "      <td>대형</td>\n",
       "      <td>개인용</td>\n",
       "      <td>2</td>\n",
       "      <td>0</td>\n",
       "    </tr>\n",
       "    <tr>\n",
       "      <th>1</th>\n",
       "      <td>2022</td>\n",
       "      <td>06</td>\n",
       "      <td>강원특별자치도</td>\n",
       "      <td>강릉시</td>\n",
       "      <td>LPG(액화석유가스)</td>\n",
       "      <td>승용</td>\n",
       "      <td>중형</td>\n",
       "      <td>개인용</td>\n",
       "      <td>15</td>\n",
       "      <td>0</td>\n",
       "    </tr>\n",
       "    <tr>\n",
       "      <th>2</th>\n",
       "      <td>2022</td>\n",
       "      <td>06</td>\n",
       "      <td>강원특별자치도</td>\n",
       "      <td>강릉시</td>\n",
       "      <td>LPG(액화석유가스)</td>\n",
       "      <td>승용</td>\n",
       "      <td>중형</td>\n",
       "      <td>영업용</td>\n",
       "      <td>3</td>\n",
       "      <td>0</td>\n",
       "    </tr>\n",
       "    <tr>\n",
       "      <th>3</th>\n",
       "      <td>2022</td>\n",
       "      <td>06</td>\n",
       "      <td>강원특별자치도</td>\n",
       "      <td>강릉시</td>\n",
       "      <td>LPG(액화석유가스)</td>\n",
       "      <td>승합</td>\n",
       "      <td>경형</td>\n",
       "      <td>개인용</td>\n",
       "      <td>3</td>\n",
       "      <td>0</td>\n",
       "    </tr>\n",
       "    <tr>\n",
       "      <th>4</th>\n",
       "      <td>2022</td>\n",
       "      <td>06</td>\n",
       "      <td>강원특별자치도</td>\n",
       "      <td>강릉시</td>\n",
       "      <td>LPG(액화석유가스)</td>\n",
       "      <td>승합</td>\n",
       "      <td>소형</td>\n",
       "      <td>개인용</td>\n",
       "      <td>1</td>\n",
       "      <td>0</td>\n",
       "    </tr>\n",
       "    <tr>\n",
       "      <th>...</th>\n",
       "      <td>...</td>\n",
       "      <td>...</td>\n",
       "      <td>...</td>\n",
       "      <td>...</td>\n",
       "      <td>...</td>\n",
       "      <td>...</td>\n",
       "      <td>...</td>\n",
       "      <td>...</td>\n",
       "      <td>...</td>\n",
       "      <td>...</td>\n",
       "    </tr>\n",
       "    <tr>\n",
       "      <th>8293</th>\n",
       "      <td>2022</td>\n",
       "      <td>06</td>\n",
       "      <td>충청북도</td>\n",
       "      <td>충주시</td>\n",
       "      <td>휘발유</td>\n",
       "      <td>승합</td>\n",
       "      <td>경형</td>\n",
       "      <td>개인용</td>\n",
       "      <td>13</td>\n",
       "      <td>0</td>\n",
       "    </tr>\n",
       "    <tr>\n",
       "      <th>8294</th>\n",
       "      <td>2022</td>\n",
       "      <td>06</td>\n",
       "      <td>충청북도</td>\n",
       "      <td>충주시</td>\n",
       "      <td>휘발유</td>\n",
       "      <td>승합</td>\n",
       "      <td>소형</td>\n",
       "      <td>개인용</td>\n",
       "      <td>3</td>\n",
       "      <td>0</td>\n",
       "    </tr>\n",
       "    <tr>\n",
       "      <th>8295</th>\n",
       "      <td>2022</td>\n",
       "      <td>06</td>\n",
       "      <td>충청북도</td>\n",
       "      <td>충주시</td>\n",
       "      <td>휘발유</td>\n",
       "      <td>승합</td>\n",
       "      <td>중형</td>\n",
       "      <td>개인용</td>\n",
       "      <td>1</td>\n",
       "      <td>0</td>\n",
       "    </tr>\n",
       "    <tr>\n",
       "      <th>8296</th>\n",
       "      <td>2022</td>\n",
       "      <td>06</td>\n",
       "      <td>충청북도</td>\n",
       "      <td>충주시</td>\n",
       "      <td>휘발유</td>\n",
       "      <td>화물</td>\n",
       "      <td>경형</td>\n",
       "      <td>개인용</td>\n",
       "      <td>7</td>\n",
       "      <td>0</td>\n",
       "    </tr>\n",
       "    <tr>\n",
       "      <th>8297</th>\n",
       "      <td>2022</td>\n",
       "      <td>06</td>\n",
       "      <td>충청북도</td>\n",
       "      <td>충주시</td>\n",
       "      <td>휘발유</td>\n",
       "      <td>화물</td>\n",
       "      <td>소형</td>\n",
       "      <td>개인용</td>\n",
       "      <td>15</td>\n",
       "      <td>0</td>\n",
       "    </tr>\n",
       "  </tbody>\n",
       "</table>\n",
       "<p>8298 rows × 10 columns</p>\n",
       "</div>"
      ],
      "text/plain": [
       "        연도   월       시도 시군구_수정           연료  차종 차종유형   용도  차량대수  저감대수\n",
       "0     2022  06  강원특별자치도    강릉시  LPG(액화석유가스)  승용   대형  개인용     2     0\n",
       "1     2022  06  강원특별자치도    강릉시  LPG(액화석유가스)  승용   중형  개인용    15     0\n",
       "2     2022  06  강원특별자치도    강릉시  LPG(액화석유가스)  승용   중형  영업용     3     0\n",
       "3     2022  06  강원특별자치도    강릉시  LPG(액화석유가스)  승합   경형  개인용     3     0\n",
       "4     2022  06  강원특별자치도    강릉시  LPG(액화석유가스)  승합   소형  개인용     1     0\n",
       "...    ...  ..      ...    ...          ...  ..  ...  ...   ...   ...\n",
       "8293  2022  06     충청북도    충주시          휘발유  승합   경형  개인용    13     0\n",
       "8294  2022  06     충청북도    충주시          휘발유  승합   소형  개인용     3     0\n",
       "8295  2022  06     충청북도    충주시          휘발유  승합   중형  개인용     1     0\n",
       "8296  2022  06     충청북도    충주시          휘발유  화물   경형  개인용     7     0\n",
       "8297  2022  06     충청북도    충주시          휘발유  화물   소형  개인용    15     0\n",
       "\n",
       "[8298 rows x 10 columns]"
      ]
     },
     "execution_count": 296,
     "metadata": {},
     "output_type": "execute_result"
    }
   ],
   "source": [
    "# 2022년 차량 대수\n",
    "grp1 = dfe[dfe['차량말소YN'] == 'N'].groupby(['연도', '월', '시도', '시군구_수정', '연료', '차종', '차종유형', '용도']).agg({'차대번호':'count', '저감장치부착유무':'count'}).reset_index()\n",
    "grp1 = grp1.rename(columns={'차대번호':'차량대수', '저감장치부착유무':'저감대수'})\n",
    "grp1"
   ]
  },
  {
   "cell_type": "code",
   "execution_count": 297,
   "metadata": {},
   "outputs": [
    {
     "data": {
      "text/html": [
       "<div>\n",
       "<style scoped>\n",
       "    .dataframe tbody tr th:only-of-type {\n",
       "        vertical-align: middle;\n",
       "    }\n",
       "\n",
       "    .dataframe tbody tr th {\n",
       "        vertical-align: top;\n",
       "    }\n",
       "\n",
       "    .dataframe thead th {\n",
       "        text-align: right;\n",
       "    }\n",
       "</style>\n",
       "<table border=\"1\" class=\"dataframe\">\n",
       "  <thead>\n",
       "    <tr style=\"text-align: right;\">\n",
       "      <th></th>\n",
       "      <th>연도</th>\n",
       "      <th>월</th>\n",
       "      <th>시도</th>\n",
       "      <th>시군구_수정</th>\n",
       "      <th>연료</th>\n",
       "      <th>차종</th>\n",
       "      <th>차종유형</th>\n",
       "      <th>용도</th>\n",
       "      <th>등록대수</th>\n",
       "      <th>등록저감대수</th>\n",
       "    </tr>\n",
       "  </thead>\n",
       "  <tbody>\n",
       "    <tr>\n",
       "      <th>0</th>\n",
       "      <td>1920</td>\n",
       "      <td>01</td>\n",
       "      <td>강원특별자치도</td>\n",
       "      <td>고성군</td>\n",
       "      <td>휘발유</td>\n",
       "      <td>승용</td>\n",
       "      <td>중형</td>\n",
       "      <td>개인용</td>\n",
       "      <td>1</td>\n",
       "      <td>0</td>\n",
       "    </tr>\n",
       "    <tr>\n",
       "      <th>1</th>\n",
       "      <td>1920</td>\n",
       "      <td>01</td>\n",
       "      <td>경기도</td>\n",
       "      <td>여주시</td>\n",
       "      <td>경유</td>\n",
       "      <td>화물</td>\n",
       "      <td>소형</td>\n",
       "      <td>개인용</td>\n",
       "      <td>1</td>\n",
       "      <td>0</td>\n",
       "    </tr>\n",
       "    <tr>\n",
       "      <th>2</th>\n",
       "      <td>1920</td>\n",
       "      <td>01</td>\n",
       "      <td>부산광역시</td>\n",
       "      <td>부산진구</td>\n",
       "      <td>휘발유</td>\n",
       "      <td>승합</td>\n",
       "      <td>경형</td>\n",
       "      <td>개인용</td>\n",
       "      <td>1</td>\n",
       "      <td>0</td>\n",
       "    </tr>\n",
       "    <tr>\n",
       "      <th>3</th>\n",
       "      <td>1920</td>\n",
       "      <td>01</td>\n",
       "      <td>서울특별시</td>\n",
       "      <td>용산구</td>\n",
       "      <td>휘발유</td>\n",
       "      <td>승용</td>\n",
       "      <td>소형</td>\n",
       "      <td>개인용</td>\n",
       "      <td>2</td>\n",
       "      <td>0</td>\n",
       "    </tr>\n",
       "    <tr>\n",
       "      <th>4</th>\n",
       "      <td>1920</td>\n",
       "      <td>01</td>\n",
       "      <td>울산광역시</td>\n",
       "      <td>북구</td>\n",
       "      <td>경유</td>\n",
       "      <td>승용</td>\n",
       "      <td>대형</td>\n",
       "      <td>개인용</td>\n",
       "      <td>1</td>\n",
       "      <td>0</td>\n",
       "    </tr>\n",
       "    <tr>\n",
       "      <th>...</th>\n",
       "      <td>...</td>\n",
       "      <td>...</td>\n",
       "      <td>...</td>\n",
       "      <td>...</td>\n",
       "      <td>...</td>\n",
       "      <td>...</td>\n",
       "      <td>...</td>\n",
       "      <td>...</td>\n",
       "      <td>...</td>\n",
       "      <td>...</td>\n",
       "    </tr>\n",
       "    <tr>\n",
       "      <th>204207</th>\n",
       "      <td>2021</td>\n",
       "      <td>09</td>\n",
       "      <td>전라남도</td>\n",
       "      <td>여수시</td>\n",
       "      <td>경유</td>\n",
       "      <td>화물</td>\n",
       "      <td>소형</td>\n",
       "      <td>개인용</td>\n",
       "      <td>1</td>\n",
       "      <td>0</td>\n",
       "    </tr>\n",
       "    <tr>\n",
       "      <th>204208</th>\n",
       "      <td>2021</td>\n",
       "      <td>09</td>\n",
       "      <td>전라북도</td>\n",
       "      <td>정읍시</td>\n",
       "      <td>경유</td>\n",
       "      <td>승용</td>\n",
       "      <td>대형</td>\n",
       "      <td>개인용</td>\n",
       "      <td>1</td>\n",
       "      <td>0</td>\n",
       "    </tr>\n",
       "    <tr>\n",
       "      <th>204209</th>\n",
       "      <td>2022</td>\n",
       "      <td>04</td>\n",
       "      <td>전라북도</td>\n",
       "      <td>정읍시</td>\n",
       "      <td>경유</td>\n",
       "      <td>화물</td>\n",
       "      <td>중형</td>\n",
       "      <td>개인용</td>\n",
       "      <td>1</td>\n",
       "      <td>1</td>\n",
       "    </tr>\n",
       "    <tr>\n",
       "      <th>204210</th>\n",
       "      <td>2022</td>\n",
       "      <td>09</td>\n",
       "      <td>충청북도</td>\n",
       "      <td>영동군</td>\n",
       "      <td>경유</td>\n",
       "      <td>화물</td>\n",
       "      <td>소형</td>\n",
       "      <td>개인용</td>\n",
       "      <td>2</td>\n",
       "      <td>0</td>\n",
       "    </tr>\n",
       "    <tr>\n",
       "      <th>204211</th>\n",
       "      <td>nan</td>\n",
       "      <td></td>\n",
       "      <td>경기도</td>\n",
       "      <td>평택시</td>\n",
       "      <td>휘발유</td>\n",
       "      <td>승용</td>\n",
       "      <td>소형</td>\n",
       "      <td>개인용</td>\n",
       "      <td>2</td>\n",
       "      <td>0</td>\n",
       "    </tr>\n",
       "  </tbody>\n",
       "</table>\n",
       "<p>204212 rows × 10 columns</p>\n",
       "</div>"
      ],
      "text/plain": [
       "          연도   월       시도 시군구_수정   연료  차종 차종유형   용도  등록대수  등록저감대수\n",
       "0       1920  01  강원특별자치도    고성군  휘발유  승용   중형  개인용     1       0\n",
       "1       1920  01      경기도    여주시   경유  화물   소형  개인용     1       0\n",
       "2       1920  01    부산광역시   부산진구  휘발유  승합   경형  개인용     1       0\n",
       "3       1920  01    서울특별시    용산구  휘발유  승용   소형  개인용     2       0\n",
       "4       1920  01    울산광역시     북구   경유  승용   대형  개인용     1       0\n",
       "...      ...  ..      ...    ...  ...  ..  ...  ...   ...     ...\n",
       "204207  2021  09     전라남도    여수시   경유  화물   소형  개인용     1       0\n",
       "204208  2021  09     전라북도    정읍시   경유  승용   대형  개인용     1       0\n",
       "204209  2022  04     전라북도    정읍시   경유  화물   중형  개인용     1       1\n",
       "204210  2022  09     충청북도    영동군   경유  화물   소형  개인용     2       0\n",
       "204211   nan          경기도    평택시  휘발유  승용   소형  개인용     2       0\n",
       "\n",
       "[204212 rows x 10 columns]"
      ]
     },
     "execution_count": 297,
     "metadata": {},
     "output_type": "execute_result"
    }
   ],
   "source": [
    "# 연도별 등록대수\n",
    "grp2 = dfe[dfe['차량말소YN'] == 'N'].groupby(['최초등록일자_년', '최초등록일자_월', '시도', '시군구_수정', '연료', '차종', '차종유형', '용도']).agg({'차대번호':'count', '저감장치부착유무':'count'}).reset_index()\n",
    "grp2 = grp2.rename(columns={'차대번호':'등록대수', '저감장치부착유무':'등록저감대수', '최초등록일자_년':'연도', '최초등록일자_월':'월'})\n",
    "grp2"
   ]
  },
  {
   "cell_type": "code",
   "execution_count": 298,
   "metadata": {},
   "outputs": [
    {
     "data": {
      "text/html": [
       "<div>\n",
       "<style scoped>\n",
       "    .dataframe tbody tr th:only-of-type {\n",
       "        vertical-align: middle;\n",
       "    }\n",
       "\n",
       "    .dataframe tbody tr th {\n",
       "        vertical-align: top;\n",
       "    }\n",
       "\n",
       "    .dataframe thead th {\n",
       "        text-align: right;\n",
       "    }\n",
       "</style>\n",
       "<table border=\"1\" class=\"dataframe\">\n",
       "  <thead>\n",
       "    <tr style=\"text-align: right;\">\n",
       "      <th></th>\n",
       "      <th>연도</th>\n",
       "      <th>월</th>\n",
       "      <th>시도</th>\n",
       "      <th>시군구_수정</th>\n",
       "      <th>연료</th>\n",
       "      <th>차종</th>\n",
       "      <th>차종유형</th>\n",
       "      <th>용도</th>\n",
       "      <th>말소대수</th>\n",
       "      <th>말소저감대수</th>\n",
       "    </tr>\n",
       "  </thead>\n",
       "  <tbody>\n",
       "    <tr>\n",
       "      <th>0</th>\n",
       "      <td>2019</td>\n",
       "      <td>05</td>\n",
       "      <td>경기도</td>\n",
       "      <td>가평군</td>\n",
       "      <td>휘발유</td>\n",
       "      <td>승용</td>\n",
       "      <td>중형</td>\n",
       "      <td>개인용</td>\n",
       "      <td>1</td>\n",
       "      <td>0</td>\n",
       "    </tr>\n",
       "    <tr>\n",
       "      <th>1</th>\n",
       "      <td>2019</td>\n",
       "      <td>05</td>\n",
       "      <td>경상북도</td>\n",
       "      <td>김천시</td>\n",
       "      <td>경유</td>\n",
       "      <td>화물</td>\n",
       "      <td>소형</td>\n",
       "      <td>개인용</td>\n",
       "      <td>1</td>\n",
       "      <td>0</td>\n",
       "    </tr>\n",
       "    <tr>\n",
       "      <th>2</th>\n",
       "      <td>2019</td>\n",
       "      <td>06</td>\n",
       "      <td>경기도</td>\n",
       "      <td>가평군</td>\n",
       "      <td>경유</td>\n",
       "      <td>화물</td>\n",
       "      <td>소형</td>\n",
       "      <td>개인용</td>\n",
       "      <td>3</td>\n",
       "      <td>0</td>\n",
       "    </tr>\n",
       "    <tr>\n",
       "      <th>3</th>\n",
       "      <td>2019</td>\n",
       "      <td>06</td>\n",
       "      <td>경기도</td>\n",
       "      <td>가평군</td>\n",
       "      <td>경유</td>\n",
       "      <td>화물</td>\n",
       "      <td>소형</td>\n",
       "      <td>영업용</td>\n",
       "      <td>1</td>\n",
       "      <td>0</td>\n",
       "    </tr>\n",
       "    <tr>\n",
       "      <th>4</th>\n",
       "      <td>2019</td>\n",
       "      <td>06</td>\n",
       "      <td>경기도</td>\n",
       "      <td>가평군</td>\n",
       "      <td>휘발유</td>\n",
       "      <td>승용</td>\n",
       "      <td>중형</td>\n",
       "      <td>개인용</td>\n",
       "      <td>3</td>\n",
       "      <td>0</td>\n",
       "    </tr>\n",
       "    <tr>\n",
       "      <th>...</th>\n",
       "      <td>...</td>\n",
       "      <td>...</td>\n",
       "      <td>...</td>\n",
       "      <td>...</td>\n",
       "      <td>...</td>\n",
       "      <td>...</td>\n",
       "      <td>...</td>\n",
       "      <td>...</td>\n",
       "      <td>...</td>\n",
       "      <td>...</td>\n",
       "    </tr>\n",
       "    <tr>\n",
       "      <th>71848</th>\n",
       "      <td>2022</td>\n",
       "      <td>06</td>\n",
       "      <td>충청북도</td>\n",
       "      <td>충주시</td>\n",
       "      <td>경유</td>\n",
       "      <td>화물</td>\n",
       "      <td>소형</td>\n",
       "      <td>영업용</td>\n",
       "      <td>1</td>\n",
       "      <td>0</td>\n",
       "    </tr>\n",
       "    <tr>\n",
       "      <th>71849</th>\n",
       "      <td>2022</td>\n",
       "      <td>06</td>\n",
       "      <td>충청북도</td>\n",
       "      <td>충주시</td>\n",
       "      <td>휘발유</td>\n",
       "      <td>승용</td>\n",
       "      <td>경형</td>\n",
       "      <td>개인용</td>\n",
       "      <td>2</td>\n",
       "      <td>0</td>\n",
       "    </tr>\n",
       "    <tr>\n",
       "      <th>71850</th>\n",
       "      <td>2022</td>\n",
       "      <td>06</td>\n",
       "      <td>충청북도</td>\n",
       "      <td>충주시</td>\n",
       "      <td>휘발유</td>\n",
       "      <td>승용</td>\n",
       "      <td>대형</td>\n",
       "      <td>개인용</td>\n",
       "      <td>1</td>\n",
       "      <td>0</td>\n",
       "    </tr>\n",
       "    <tr>\n",
       "      <th>71851</th>\n",
       "      <td>2022</td>\n",
       "      <td>06</td>\n",
       "      <td>충청북도</td>\n",
       "      <td>충주시</td>\n",
       "      <td>휘발유</td>\n",
       "      <td>승용</td>\n",
       "      <td>소형</td>\n",
       "      <td>개인용</td>\n",
       "      <td>2</td>\n",
       "      <td>0</td>\n",
       "    </tr>\n",
       "    <tr>\n",
       "      <th>71852</th>\n",
       "      <td>2022</td>\n",
       "      <td>06</td>\n",
       "      <td>충청북도</td>\n",
       "      <td>충주시</td>\n",
       "      <td>휘발유</td>\n",
       "      <td>승용</td>\n",
       "      <td>중형</td>\n",
       "      <td>개인용</td>\n",
       "      <td>2</td>\n",
       "      <td>0</td>\n",
       "    </tr>\n",
       "  </tbody>\n",
       "</table>\n",
       "<p>71853 rows × 10 columns</p>\n",
       "</div>"
      ],
      "text/plain": [
       "         연도   월    시도 시군구_수정   연료  차종 차종유형   용도  말소대수  말소저감대수\n",
       "0      2019  05   경기도    가평군  휘발유  승용   중형  개인용     1       0\n",
       "1      2019  05  경상북도    김천시   경유  화물   소형  개인용     1       0\n",
       "2      2019  06   경기도    가평군   경유  화물   소형  개인용     3       0\n",
       "3      2019  06   경기도    가평군   경유  화물   소형  영업용     1       0\n",
       "4      2019  06   경기도    가평군  휘발유  승용   중형  개인용     3       0\n",
       "...     ...  ..   ...    ...  ...  ..  ...  ...   ...     ...\n",
       "71848  2022  06  충청북도    충주시   경유  화물   소형  영업용     1       0\n",
       "71849  2022  06  충청북도    충주시  휘발유  승용   경형  개인용     2       0\n",
       "71850  2022  06  충청북도    충주시  휘발유  승용   대형  개인용     1       0\n",
       "71851  2022  06  충청북도    충주시  휘발유  승용   소형  개인용     2       0\n",
       "71852  2022  06  충청북도    충주시  휘발유  승용   중형  개인용     2       0\n",
       "\n",
       "[71853 rows x 10 columns]"
      ]
     },
     "execution_count": 298,
     "metadata": {},
     "output_type": "execute_result"
    }
   ],
   "source": [
    "# 연도별 말소대수\n",
    "grp3 = erea.groupby(['변경일자_년', '변경일자_월', '시도', '시군구_수정', '연료', '차종', '차종유형', '용도']).agg({'차대번호':'count', '저감장치부착유무':'count'}).reset_index()\n",
    "grp3 = grp3.rename(columns={'차대번호':'말소대수', '저감장치부착유무':'말소저감대수', '변경일자_년':'연도', '변경일자_월':'월'})\n",
    "grp3"
   ]
  },
  {
   "cell_type": "code",
   "execution_count": 299,
   "metadata": {},
   "outputs": [
    {
     "data": {
      "text/html": [
       "<div>\n",
       "<style scoped>\n",
       "    .dataframe tbody tr th:only-of-type {\n",
       "        vertical-align: middle;\n",
       "    }\n",
       "\n",
       "    .dataframe tbody tr th {\n",
       "        vertical-align: top;\n",
       "    }\n",
       "\n",
       "    .dataframe thead th {\n",
       "        text-align: right;\n",
       "    }\n",
       "</style>\n",
       "<table border=\"1\" class=\"dataframe\">\n",
       "  <thead>\n",
       "    <tr style=\"text-align: right;\">\n",
       "      <th></th>\n",
       "      <th>연도</th>\n",
       "      <th>월</th>\n",
       "      <th>시도</th>\n",
       "      <th>시군구_수정</th>\n",
       "      <th>연료</th>\n",
       "      <th>차종</th>\n",
       "      <th>차종유형</th>\n",
       "      <th>용도</th>\n",
       "      <th>조기폐차</th>\n",
       "    </tr>\n",
       "  </thead>\n",
       "  <tbody>\n",
       "    <tr>\n",
       "      <th>0</th>\n",
       "      <td>2020</td>\n",
       "      <td>12</td>\n",
       "      <td>경기도</td>\n",
       "      <td>김포시</td>\n",
       "      <td>경유</td>\n",
       "      <td>승용</td>\n",
       "      <td>중형</td>\n",
       "      <td>개인용</td>\n",
       "      <td>1</td>\n",
       "    </tr>\n",
       "    <tr>\n",
       "      <th>1</th>\n",
       "      <td>2023</td>\n",
       "      <td>02</td>\n",
       "      <td>경기도</td>\n",
       "      <td>고양시</td>\n",
       "      <td>경유</td>\n",
       "      <td>승용</td>\n",
       "      <td>대형</td>\n",
       "      <td>개인용</td>\n",
       "      <td>17</td>\n",
       "    </tr>\n",
       "    <tr>\n",
       "      <th>2</th>\n",
       "      <td>2023</td>\n",
       "      <td>02</td>\n",
       "      <td>경기도</td>\n",
       "      <td>고양시</td>\n",
       "      <td>경유</td>\n",
       "      <td>승용</td>\n",
       "      <td>소형</td>\n",
       "      <td>개인용</td>\n",
       "      <td>4</td>\n",
       "    </tr>\n",
       "    <tr>\n",
       "      <th>3</th>\n",
       "      <td>2023</td>\n",
       "      <td>02</td>\n",
       "      <td>경기도</td>\n",
       "      <td>고양시</td>\n",
       "      <td>경유</td>\n",
       "      <td>승용</td>\n",
       "      <td>중형</td>\n",
       "      <td>개인용</td>\n",
       "      <td>22</td>\n",
       "    </tr>\n",
       "    <tr>\n",
       "      <th>4</th>\n",
       "      <td>2023</td>\n",
       "      <td>02</td>\n",
       "      <td>경기도</td>\n",
       "      <td>고양시</td>\n",
       "      <td>경유</td>\n",
       "      <td>승합</td>\n",
       "      <td>중형</td>\n",
       "      <td>개인용</td>\n",
       "      <td>10</td>\n",
       "    </tr>\n",
       "    <tr>\n",
       "      <th>...</th>\n",
       "      <td>...</td>\n",
       "      <td>...</td>\n",
       "      <td>...</td>\n",
       "      <td>...</td>\n",
       "      <td>...</td>\n",
       "      <td>...</td>\n",
       "      <td>...</td>\n",
       "      <td>...</td>\n",
       "      <td>...</td>\n",
       "    </tr>\n",
       "    <tr>\n",
       "      <th>12864</th>\n",
       "      <td>nan</td>\n",
       "      <td></td>\n",
       "      <td>충청북도</td>\n",
       "      <td>충주시</td>\n",
       "      <td>휘발유</td>\n",
       "      <td>승합</td>\n",
       "      <td>경형</td>\n",
       "      <td>개인용</td>\n",
       "      <td>0</td>\n",
       "    </tr>\n",
       "    <tr>\n",
       "      <th>12865</th>\n",
       "      <td>nan</td>\n",
       "      <td></td>\n",
       "      <td>충청북도</td>\n",
       "      <td>충주시</td>\n",
       "      <td>휘발유</td>\n",
       "      <td>승합</td>\n",
       "      <td>소형</td>\n",
       "      <td>개인용</td>\n",
       "      <td>0</td>\n",
       "    </tr>\n",
       "    <tr>\n",
       "      <th>12866</th>\n",
       "      <td>nan</td>\n",
       "      <td></td>\n",
       "      <td>충청북도</td>\n",
       "      <td>충주시</td>\n",
       "      <td>휘발유</td>\n",
       "      <td>승합</td>\n",
       "      <td>중형</td>\n",
       "      <td>개인용</td>\n",
       "      <td>0</td>\n",
       "    </tr>\n",
       "    <tr>\n",
       "      <th>12867</th>\n",
       "      <td>nan</td>\n",
       "      <td></td>\n",
       "      <td>충청북도</td>\n",
       "      <td>충주시</td>\n",
       "      <td>휘발유</td>\n",
       "      <td>화물</td>\n",
       "      <td>경형</td>\n",
       "      <td>개인용</td>\n",
       "      <td>0</td>\n",
       "    </tr>\n",
       "    <tr>\n",
       "      <th>12868</th>\n",
       "      <td>nan</td>\n",
       "      <td></td>\n",
       "      <td>충청북도</td>\n",
       "      <td>충주시</td>\n",
       "      <td>휘발유</td>\n",
       "      <td>화물</td>\n",
       "      <td>소형</td>\n",
       "      <td>개인용</td>\n",
       "      <td>0</td>\n",
       "    </tr>\n",
       "  </tbody>\n",
       "</table>\n",
       "<p>12869 rows × 9 columns</p>\n",
       "</div>"
      ],
      "text/plain": [
       "         연도   월    시도 시군구_수정   연료  차종 차종유형   용도  조기폐차\n",
       "0      2020  12   경기도    김포시   경유  승용   중형  개인용     1\n",
       "1      2023  02   경기도    고양시   경유  승용   대형  개인용    17\n",
       "2      2023  02   경기도    고양시   경유  승용   소형  개인용     4\n",
       "3      2023  02   경기도    고양시   경유  승용   중형  개인용    22\n",
       "4      2023  02   경기도    고양시   경유  승합   중형  개인용    10\n",
       "...     ...  ..   ...    ...  ...  ..  ...  ...   ...\n",
       "12864   nan      충청북도    충주시  휘발유  승합   경형  개인용     0\n",
       "12865   nan      충청북도    충주시  휘발유  승합   소형  개인용     0\n",
       "12866   nan      충청북도    충주시  휘발유  승합   중형  개인용     0\n",
       "12867   nan      충청북도    충주시  휘발유  화물   경형  개인용     0\n",
       "12868   nan      충청북도    충주시  휘발유  화물   소형  개인용     0\n",
       "\n",
       "[12869 rows x 9 columns]"
      ]
     },
     "execution_count": 299,
     "metadata": {},
     "output_type": "execute_result"
    }
   ],
   "source": [
    "# 연도별 조기폐차 대수\n",
    "grp4 = dfe.groupby(['말소일자_년', '말소일자_월', '시도', '시군구_수정', '연료', '차종', '차종유형', '용도']).agg({'조기폐차최종승인YN':'count'}).reset_index()\n",
    "grp4 = grp4.rename(columns={'말소일자_년':'연도', '말소일자_월':'월', '조기폐차최종승인YN':'조기폐차'})\n",
    "grp4"
   ]
  },
  {
   "cell_type": "code",
   "execution_count": 300,
   "metadata": {},
   "outputs": [
    {
     "data": {
      "text/plain": [
       "'20220601'"
      ]
     },
     "execution_count": 300,
     "metadata": {},
     "output_type": "execute_result"
    }
   ],
   "source": [
    "date"
   ]
  },
  {
   "cell_type": "code",
   "execution_count": 301,
   "metadata": {},
   "outputs": [
    {
     "data": {
      "text/plain": [
       "([2022, 2022, 2022, 2022], [3, 4, 5, 6])"
      ]
     },
     "execution_count": 301,
     "metadata": {},
     "output_type": "execute_result"
    }
   ],
   "source": [
    "div = 4\n",
    "y_plist = list(pd.date_range(end=date, periods=div, freq=\"MS\").year)\n",
    "mth_plist = list(pd.date_range(end=date, periods=div, freq=\"MS\").month)\n",
    "y_plist, mth_plist"
   ]
  },
  {
   "cell_type": "code",
   "execution_count": 302,
   "metadata": {},
   "outputs": [],
   "source": [
    "ctpv_sgg = grp1.drop_duplicates(['시도', '시군구_수정']).reset_index(drop=True)\n",
    "# for ctpv, sgg in ctpv_sgg[['시도', '시군구_수정']].values:\n",
    "#     print(ctpv, sgg)"
   ]
  },
  {
   "cell_type": "code",
   "execution_count": 303,
   "metadata": {},
   "outputs": [
    {
     "data": {
      "text/html": [
       "<div>\n",
       "<style scoped>\n",
       "    .dataframe tbody tr th:only-of-type {\n",
       "        vertical-align: middle;\n",
       "    }\n",
       "\n",
       "    .dataframe tbody tr th {\n",
       "        vertical-align: top;\n",
       "    }\n",
       "\n",
       "    .dataframe thead th {\n",
       "        text-align: right;\n",
       "    }\n",
       "</style>\n",
       "<table border=\"1\" class=\"dataframe\">\n",
       "  <thead>\n",
       "    <tr style=\"text-align: right;\">\n",
       "      <th></th>\n",
       "      <th>연도</th>\n",
       "      <th>월</th>\n",
       "      <th>시도</th>\n",
       "      <th>시군구_수정</th>\n",
       "      <th>연료</th>\n",
       "      <th>차종</th>\n",
       "      <th>차종유형</th>\n",
       "      <th>용도</th>\n",
       "    </tr>\n",
       "  </thead>\n",
       "  <tbody>\n",
       "    <tr>\n",
       "      <th>0</th>\n",
       "      <td>2022</td>\n",
       "      <td>03</td>\n",
       "      <td>강원특별자치도</td>\n",
       "      <td>강릉시</td>\n",
       "      <td>LPG(액화석유가스)</td>\n",
       "      <td>승용</td>\n",
       "      <td>대형</td>\n",
       "      <td>개인용</td>\n",
       "    </tr>\n",
       "    <tr>\n",
       "      <th>1</th>\n",
       "      <td>2022</td>\n",
       "      <td>04</td>\n",
       "      <td>강원특별자치도</td>\n",
       "      <td>강릉시</td>\n",
       "      <td>LPG(액화석유가스)</td>\n",
       "      <td>승용</td>\n",
       "      <td>대형</td>\n",
       "      <td>개인용</td>\n",
       "    </tr>\n",
       "    <tr>\n",
       "      <th>2</th>\n",
       "      <td>2022</td>\n",
       "      <td>05</td>\n",
       "      <td>강원특별자치도</td>\n",
       "      <td>강릉시</td>\n",
       "      <td>LPG(액화석유가스)</td>\n",
       "      <td>승용</td>\n",
       "      <td>대형</td>\n",
       "      <td>개인용</td>\n",
       "    </tr>\n",
       "    <tr>\n",
       "      <th>3</th>\n",
       "      <td>2022</td>\n",
       "      <td>06</td>\n",
       "      <td>강원특별자치도</td>\n",
       "      <td>강릉시</td>\n",
       "      <td>LPG(액화석유가스)</td>\n",
       "      <td>승용</td>\n",
       "      <td>대형</td>\n",
       "      <td>개인용</td>\n",
       "    </tr>\n",
       "    <tr>\n",
       "      <th>4</th>\n",
       "      <td>2022</td>\n",
       "      <td>03</td>\n",
       "      <td>강원특별자치도</td>\n",
       "      <td>강릉시</td>\n",
       "      <td>LPG(액화석유가스)</td>\n",
       "      <td>승용</td>\n",
       "      <td>대형</td>\n",
       "      <td>영업용</td>\n",
       "    </tr>\n",
       "    <tr>\n",
       "      <th>...</th>\n",
       "      <td>...</td>\n",
       "      <td>...</td>\n",
       "      <td>...</td>\n",
       "      <td>...</td>\n",
       "      <td>...</td>\n",
       "      <td>...</td>\n",
       "      <td>...</td>\n",
       "      <td>...</td>\n",
       "    </tr>\n",
       "    <tr>\n",
       "      <th>266107</th>\n",
       "      <td>2022</td>\n",
       "      <td>06</td>\n",
       "      <td>충청북도</td>\n",
       "      <td>충주시</td>\n",
       "      <td>CNG(압축천연가스)</td>\n",
       "      <td>특수</td>\n",
       "      <td>소형</td>\n",
       "      <td>영업용</td>\n",
       "    </tr>\n",
       "    <tr>\n",
       "      <th>266108</th>\n",
       "      <td>2022</td>\n",
       "      <td>03</td>\n",
       "      <td>충청북도</td>\n",
       "      <td>충주시</td>\n",
       "      <td>CNG(압축천연가스)</td>\n",
       "      <td>특수</td>\n",
       "      <td>소형</td>\n",
       "      <td>관용</td>\n",
       "    </tr>\n",
       "    <tr>\n",
       "      <th>266109</th>\n",
       "      <td>2022</td>\n",
       "      <td>04</td>\n",
       "      <td>충청북도</td>\n",
       "      <td>충주시</td>\n",
       "      <td>CNG(압축천연가스)</td>\n",
       "      <td>특수</td>\n",
       "      <td>소형</td>\n",
       "      <td>관용</td>\n",
       "    </tr>\n",
       "    <tr>\n",
       "      <th>266110</th>\n",
       "      <td>2022</td>\n",
       "      <td>05</td>\n",
       "      <td>충청북도</td>\n",
       "      <td>충주시</td>\n",
       "      <td>CNG(압축천연가스)</td>\n",
       "      <td>특수</td>\n",
       "      <td>소형</td>\n",
       "      <td>관용</td>\n",
       "    </tr>\n",
       "    <tr>\n",
       "      <th>266111</th>\n",
       "      <td>2022</td>\n",
       "      <td>06</td>\n",
       "      <td>충청북도</td>\n",
       "      <td>충주시</td>\n",
       "      <td>CNG(압축천연가스)</td>\n",
       "      <td>특수</td>\n",
       "      <td>소형</td>\n",
       "      <td>관용</td>\n",
       "    </tr>\n",
       "  </tbody>\n",
       "</table>\n",
       "<p>266112 rows × 8 columns</p>\n",
       "</div>"
      ],
      "text/plain": [
       "          연도   월       시도 시군구_수정           연료  차종 차종유형   용도\n",
       "0       2022  03  강원특별자치도    강릉시  LPG(액화석유가스)  승용   대형  개인용\n",
       "1       2022  04  강원특별자치도    강릉시  LPG(액화석유가스)  승용   대형  개인용\n",
       "2       2022  05  강원특별자치도    강릉시  LPG(액화석유가스)  승용   대형  개인용\n",
       "3       2022  06  강원특별자치도    강릉시  LPG(액화석유가스)  승용   대형  개인용\n",
       "4       2022  03  강원특별자치도    강릉시  LPG(액화석유가스)  승용   대형  영업용\n",
       "...      ...  ..      ...    ...          ...  ..  ...  ...\n",
       "266107  2022  06     충청북도    충주시  CNG(압축천연가스)  특수   소형  영업용\n",
       "266108  2022  03     충청북도    충주시  CNG(압축천연가스)  특수   소형   관용\n",
       "266109  2022  04     충청북도    충주시  CNG(압축천연가스)  특수   소형   관용\n",
       "266110  2022  05     충청북도    충주시  CNG(압축천연가스)  특수   소형   관용\n",
       "266111  2022  06     충청북도    충주시  CNG(압축천연가스)  특수   소형   관용\n",
       "\n",
       "[266112 rows x 8 columns]"
      ]
     },
     "execution_count": 303,
     "metadata": {},
     "output_type": "execute_result"
    }
   ],
   "source": [
    "# 18s\n",
    "# 4개월 차량 통계 기본 데이터셋\n",
    "ctpv_list, sgg_list, fuel_list, vhcty_list, ty_list, purps_list, yr_list, month_list = [], [], [], [], [], [], [], []\n",
    "ctpv_sgg = grp1.drop_duplicates(['시도', '시군구_수정']).reset_index(drop=True)\n",
    "for ctpv, sgg in ctpv_sgg[['시도', '시군구_수정']].values:\n",
    "    for fuel in grp1['연료'].unique():\n",
    "        for vhcty in grp1['차종'].unique():\n",
    "            for ty in grp1['차종유형'].unique():\n",
    "                for purps in grp1['용도'].unique():\n",
    "                    for yr, month in zip(y_plist, mth_plist):\n",
    "                        ctpv_list.append(ctpv)\n",
    "                        sgg_list.append(sgg)\n",
    "                        fuel_list.append(fuel)\n",
    "                        vhcty_list.append(vhcty)\n",
    "                        ty_list.append(ty)\n",
    "                        purps_list.append(purps)\n",
    "                        yr_list.append(str(yr))\n",
    "                        month_list.append(f'{month:0>2}')\n",
    "base = pd.DataFrame({'연도':yr_list, '월':month_list, '시도':ctpv_list, '시군구_수정':sgg_list, '연료':fuel_list, '차종':vhcty_list, '차종유형':ty_list, '용도':purps_list})\n",
    "base"
   ]
  },
  {
   "cell_type": "code",
   "execution_count": 304,
   "metadata": {},
   "outputs": [
    {
     "data": {
      "text/plain": [
       "array(['LPG(액화석유가스)', '경유', '휘발유', '기타연료', '알코올', 'CNG(압축천연가스)'],\n",
       "      dtype=object)"
      ]
     },
     "execution_count": 304,
     "metadata": {},
     "output_type": "execute_result"
    }
   ],
   "source": [
    "base['연료'].unique()"
   ]
  },
  {
   "cell_type": "code",
   "execution_count": 305,
   "metadata": {},
   "outputs": [
    {
     "data": {
      "text/html": [
       "<div>\n",
       "<style scoped>\n",
       "    .dataframe tbody tr th:only-of-type {\n",
       "        vertical-align: middle;\n",
       "    }\n",
       "\n",
       "    .dataframe tbody tr th {\n",
       "        vertical-align: top;\n",
       "    }\n",
       "\n",
       "    .dataframe thead th {\n",
       "        text-align: right;\n",
       "    }\n",
       "</style>\n",
       "<table border=\"1\" class=\"dataframe\">\n",
       "  <thead>\n",
       "    <tr style=\"text-align: right;\">\n",
       "      <th></th>\n",
       "      <th>연도</th>\n",
       "      <th>월</th>\n",
       "      <th>시도</th>\n",
       "      <th>시군구_수정</th>\n",
       "      <th>연료</th>\n",
       "      <th>차종</th>\n",
       "      <th>차종유형</th>\n",
       "      <th>용도</th>\n",
       "      <th>차량대수</th>\n",
       "      <th>저감대수</th>\n",
       "    </tr>\n",
       "  </thead>\n",
       "  <tbody>\n",
       "    <tr>\n",
       "      <th>0</th>\n",
       "      <td>2022</td>\n",
       "      <td>03</td>\n",
       "      <td>강원특별자치도</td>\n",
       "      <td>강릉시</td>\n",
       "      <td>LPG(액화석유가스)</td>\n",
       "      <td>승용</td>\n",
       "      <td>대형</td>\n",
       "      <td>개인용</td>\n",
       "      <td>NaN</td>\n",
       "      <td>NaN</td>\n",
       "    </tr>\n",
       "    <tr>\n",
       "      <th>1</th>\n",
       "      <td>2022</td>\n",
       "      <td>04</td>\n",
       "      <td>강원특별자치도</td>\n",
       "      <td>강릉시</td>\n",
       "      <td>LPG(액화석유가스)</td>\n",
       "      <td>승용</td>\n",
       "      <td>대형</td>\n",
       "      <td>개인용</td>\n",
       "      <td>NaN</td>\n",
       "      <td>NaN</td>\n",
       "    </tr>\n",
       "    <tr>\n",
       "      <th>2</th>\n",
       "      <td>2022</td>\n",
       "      <td>05</td>\n",
       "      <td>강원특별자치도</td>\n",
       "      <td>강릉시</td>\n",
       "      <td>LPG(액화석유가스)</td>\n",
       "      <td>승용</td>\n",
       "      <td>대형</td>\n",
       "      <td>개인용</td>\n",
       "      <td>NaN</td>\n",
       "      <td>NaN</td>\n",
       "    </tr>\n",
       "    <tr>\n",
       "      <th>3</th>\n",
       "      <td>2022</td>\n",
       "      <td>06</td>\n",
       "      <td>강원특별자치도</td>\n",
       "      <td>강릉시</td>\n",
       "      <td>LPG(액화석유가스)</td>\n",
       "      <td>승용</td>\n",
       "      <td>대형</td>\n",
       "      <td>개인용</td>\n",
       "      <td>2.00</td>\n",
       "      <td>0.00</td>\n",
       "    </tr>\n",
       "    <tr>\n",
       "      <th>4</th>\n",
       "      <td>2022</td>\n",
       "      <td>03</td>\n",
       "      <td>강원특별자치도</td>\n",
       "      <td>강릉시</td>\n",
       "      <td>LPG(액화석유가스)</td>\n",
       "      <td>승용</td>\n",
       "      <td>대형</td>\n",
       "      <td>영업용</td>\n",
       "      <td>NaN</td>\n",
       "      <td>NaN</td>\n",
       "    </tr>\n",
       "    <tr>\n",
       "      <th>...</th>\n",
       "      <td>...</td>\n",
       "      <td>...</td>\n",
       "      <td>...</td>\n",
       "      <td>...</td>\n",
       "      <td>...</td>\n",
       "      <td>...</td>\n",
       "      <td>...</td>\n",
       "      <td>...</td>\n",
       "      <td>...</td>\n",
       "      <td>...</td>\n",
       "    </tr>\n",
       "    <tr>\n",
       "      <th>266107</th>\n",
       "      <td>2022</td>\n",
       "      <td>06</td>\n",
       "      <td>충청북도</td>\n",
       "      <td>충주시</td>\n",
       "      <td>CNG(압축천연가스)</td>\n",
       "      <td>특수</td>\n",
       "      <td>소형</td>\n",
       "      <td>영업용</td>\n",
       "      <td>NaN</td>\n",
       "      <td>NaN</td>\n",
       "    </tr>\n",
       "    <tr>\n",
       "      <th>266108</th>\n",
       "      <td>2022</td>\n",
       "      <td>03</td>\n",
       "      <td>충청북도</td>\n",
       "      <td>충주시</td>\n",
       "      <td>CNG(압축천연가스)</td>\n",
       "      <td>특수</td>\n",
       "      <td>소형</td>\n",
       "      <td>관용</td>\n",
       "      <td>NaN</td>\n",
       "      <td>NaN</td>\n",
       "    </tr>\n",
       "    <tr>\n",
       "      <th>266109</th>\n",
       "      <td>2022</td>\n",
       "      <td>04</td>\n",
       "      <td>충청북도</td>\n",
       "      <td>충주시</td>\n",
       "      <td>CNG(압축천연가스)</td>\n",
       "      <td>특수</td>\n",
       "      <td>소형</td>\n",
       "      <td>관용</td>\n",
       "      <td>NaN</td>\n",
       "      <td>NaN</td>\n",
       "    </tr>\n",
       "    <tr>\n",
       "      <th>266110</th>\n",
       "      <td>2022</td>\n",
       "      <td>05</td>\n",
       "      <td>충청북도</td>\n",
       "      <td>충주시</td>\n",
       "      <td>CNG(압축천연가스)</td>\n",
       "      <td>특수</td>\n",
       "      <td>소형</td>\n",
       "      <td>관용</td>\n",
       "      <td>NaN</td>\n",
       "      <td>NaN</td>\n",
       "    </tr>\n",
       "    <tr>\n",
       "      <th>266111</th>\n",
       "      <td>2022</td>\n",
       "      <td>06</td>\n",
       "      <td>충청북도</td>\n",
       "      <td>충주시</td>\n",
       "      <td>CNG(압축천연가스)</td>\n",
       "      <td>특수</td>\n",
       "      <td>소형</td>\n",
       "      <td>관용</td>\n",
       "      <td>NaN</td>\n",
       "      <td>NaN</td>\n",
       "    </tr>\n",
       "  </tbody>\n",
       "</table>\n",
       "<p>266112 rows × 10 columns</p>\n",
       "</div>"
      ],
      "text/plain": [
       "          연도   월       시도 시군구_수정           연료  차종 차종유형   용도  차량대수  저감대수\n",
       "0       2022  03  강원특별자치도    강릉시  LPG(액화석유가스)  승용   대형  개인용   NaN   NaN\n",
       "1       2022  04  강원특별자치도    강릉시  LPG(액화석유가스)  승용   대형  개인용   NaN   NaN\n",
       "2       2022  05  강원특별자치도    강릉시  LPG(액화석유가스)  승용   대형  개인용   NaN   NaN\n",
       "3       2022  06  강원특별자치도    강릉시  LPG(액화석유가스)  승용   대형  개인용  2.00  0.00\n",
       "4       2022  03  강원특별자치도    강릉시  LPG(액화석유가스)  승용   대형  영업용   NaN   NaN\n",
       "...      ...  ..      ...    ...          ...  ..  ...  ...   ...   ...\n",
       "266107  2022  06     충청북도    충주시  CNG(압축천연가스)  특수   소형  영업용   NaN   NaN\n",
       "266108  2022  03     충청북도    충주시  CNG(압축천연가스)  특수   소형   관용   NaN   NaN\n",
       "266109  2022  04     충청북도    충주시  CNG(압축천연가스)  특수   소형   관용   NaN   NaN\n",
       "266110  2022  05     충청북도    충주시  CNG(압축천연가스)  특수   소형   관용   NaN   NaN\n",
       "266111  2022  06     충청북도    충주시  CNG(압축천연가스)  특수   소형   관용   NaN   NaN\n",
       "\n",
       "[266112 rows x 10 columns]"
      ]
     },
     "execution_count": 305,
     "metadata": {},
     "output_type": "execute_result"
    }
   ],
   "source": [
    "base1 = base.merge(grp1, on=['연도', '월', '시도', '시군구_수정', '연료', '차종', '차종유형', '용도'], how='left')\n",
    "base1"
   ]
  },
  {
   "cell_type": "code",
   "execution_count": 306,
   "metadata": {},
   "outputs": [
    {
     "data": {
      "text/html": [
       "<div>\n",
       "<style scoped>\n",
       "    .dataframe tbody tr th:only-of-type {\n",
       "        vertical-align: middle;\n",
       "    }\n",
       "\n",
       "    .dataframe tbody tr th {\n",
       "        vertical-align: top;\n",
       "    }\n",
       "\n",
       "    .dataframe thead th {\n",
       "        text-align: right;\n",
       "    }\n",
       "</style>\n",
       "<table border=\"1\" class=\"dataframe\">\n",
       "  <thead>\n",
       "    <tr style=\"text-align: right;\">\n",
       "      <th></th>\n",
       "      <th>연도</th>\n",
       "      <th>월</th>\n",
       "      <th>시도</th>\n",
       "      <th>시군구_수정</th>\n",
       "      <th>연료</th>\n",
       "      <th>차종</th>\n",
       "      <th>차종유형</th>\n",
       "      <th>용도</th>\n",
       "      <th>차량대수</th>\n",
       "      <th>저감대수</th>\n",
       "      <th>등록대수</th>\n",
       "      <th>등록저감대수</th>\n",
       "    </tr>\n",
       "  </thead>\n",
       "  <tbody>\n",
       "    <tr>\n",
       "      <th>0</th>\n",
       "      <td>2022</td>\n",
       "      <td>03</td>\n",
       "      <td>강원특별자치도</td>\n",
       "      <td>강릉시</td>\n",
       "      <td>LPG(액화석유가스)</td>\n",
       "      <td>승용</td>\n",
       "      <td>대형</td>\n",
       "      <td>개인용</td>\n",
       "      <td>NaN</td>\n",
       "      <td>NaN</td>\n",
       "      <td>NaN</td>\n",
       "      <td>NaN</td>\n",
       "    </tr>\n",
       "    <tr>\n",
       "      <th>1</th>\n",
       "      <td>2022</td>\n",
       "      <td>04</td>\n",
       "      <td>강원특별자치도</td>\n",
       "      <td>강릉시</td>\n",
       "      <td>LPG(액화석유가스)</td>\n",
       "      <td>승용</td>\n",
       "      <td>대형</td>\n",
       "      <td>개인용</td>\n",
       "      <td>NaN</td>\n",
       "      <td>NaN</td>\n",
       "      <td>NaN</td>\n",
       "      <td>NaN</td>\n",
       "    </tr>\n",
       "    <tr>\n",
       "      <th>2</th>\n",
       "      <td>2022</td>\n",
       "      <td>05</td>\n",
       "      <td>강원특별자치도</td>\n",
       "      <td>강릉시</td>\n",
       "      <td>LPG(액화석유가스)</td>\n",
       "      <td>승용</td>\n",
       "      <td>대형</td>\n",
       "      <td>개인용</td>\n",
       "      <td>NaN</td>\n",
       "      <td>NaN</td>\n",
       "      <td>NaN</td>\n",
       "      <td>NaN</td>\n",
       "    </tr>\n",
       "    <tr>\n",
       "      <th>3</th>\n",
       "      <td>2022</td>\n",
       "      <td>06</td>\n",
       "      <td>강원특별자치도</td>\n",
       "      <td>강릉시</td>\n",
       "      <td>LPG(액화석유가스)</td>\n",
       "      <td>승용</td>\n",
       "      <td>대형</td>\n",
       "      <td>개인용</td>\n",
       "      <td>2.00</td>\n",
       "      <td>0.00</td>\n",
       "      <td>NaN</td>\n",
       "      <td>NaN</td>\n",
       "    </tr>\n",
       "    <tr>\n",
       "      <th>4</th>\n",
       "      <td>2022</td>\n",
       "      <td>03</td>\n",
       "      <td>강원특별자치도</td>\n",
       "      <td>강릉시</td>\n",
       "      <td>LPG(액화석유가스)</td>\n",
       "      <td>승용</td>\n",
       "      <td>대형</td>\n",
       "      <td>영업용</td>\n",
       "      <td>NaN</td>\n",
       "      <td>NaN</td>\n",
       "      <td>NaN</td>\n",
       "      <td>NaN</td>\n",
       "    </tr>\n",
       "    <tr>\n",
       "      <th>...</th>\n",
       "      <td>...</td>\n",
       "      <td>...</td>\n",
       "      <td>...</td>\n",
       "      <td>...</td>\n",
       "      <td>...</td>\n",
       "      <td>...</td>\n",
       "      <td>...</td>\n",
       "      <td>...</td>\n",
       "      <td>...</td>\n",
       "      <td>...</td>\n",
       "      <td>...</td>\n",
       "      <td>...</td>\n",
       "    </tr>\n",
       "    <tr>\n",
       "      <th>266107</th>\n",
       "      <td>2022</td>\n",
       "      <td>06</td>\n",
       "      <td>충청북도</td>\n",
       "      <td>충주시</td>\n",
       "      <td>CNG(압축천연가스)</td>\n",
       "      <td>특수</td>\n",
       "      <td>소형</td>\n",
       "      <td>영업용</td>\n",
       "      <td>NaN</td>\n",
       "      <td>NaN</td>\n",
       "      <td>NaN</td>\n",
       "      <td>NaN</td>\n",
       "    </tr>\n",
       "    <tr>\n",
       "      <th>266108</th>\n",
       "      <td>2022</td>\n",
       "      <td>03</td>\n",
       "      <td>충청북도</td>\n",
       "      <td>충주시</td>\n",
       "      <td>CNG(압축천연가스)</td>\n",
       "      <td>특수</td>\n",
       "      <td>소형</td>\n",
       "      <td>관용</td>\n",
       "      <td>NaN</td>\n",
       "      <td>NaN</td>\n",
       "      <td>NaN</td>\n",
       "      <td>NaN</td>\n",
       "    </tr>\n",
       "    <tr>\n",
       "      <th>266109</th>\n",
       "      <td>2022</td>\n",
       "      <td>04</td>\n",
       "      <td>충청북도</td>\n",
       "      <td>충주시</td>\n",
       "      <td>CNG(압축천연가스)</td>\n",
       "      <td>특수</td>\n",
       "      <td>소형</td>\n",
       "      <td>관용</td>\n",
       "      <td>NaN</td>\n",
       "      <td>NaN</td>\n",
       "      <td>NaN</td>\n",
       "      <td>NaN</td>\n",
       "    </tr>\n",
       "    <tr>\n",
       "      <th>266110</th>\n",
       "      <td>2022</td>\n",
       "      <td>05</td>\n",
       "      <td>충청북도</td>\n",
       "      <td>충주시</td>\n",
       "      <td>CNG(압축천연가스)</td>\n",
       "      <td>특수</td>\n",
       "      <td>소형</td>\n",
       "      <td>관용</td>\n",
       "      <td>NaN</td>\n",
       "      <td>NaN</td>\n",
       "      <td>NaN</td>\n",
       "      <td>NaN</td>\n",
       "    </tr>\n",
       "    <tr>\n",
       "      <th>266111</th>\n",
       "      <td>2022</td>\n",
       "      <td>06</td>\n",
       "      <td>충청북도</td>\n",
       "      <td>충주시</td>\n",
       "      <td>CNG(압축천연가스)</td>\n",
       "      <td>특수</td>\n",
       "      <td>소형</td>\n",
       "      <td>관용</td>\n",
       "      <td>NaN</td>\n",
       "      <td>NaN</td>\n",
       "      <td>NaN</td>\n",
       "      <td>NaN</td>\n",
       "    </tr>\n",
       "  </tbody>\n",
       "</table>\n",
       "<p>266112 rows × 12 columns</p>\n",
       "</div>"
      ],
      "text/plain": [
       "          연도   월       시도 시군구_수정           연료  차종 차종유형   용도  차량대수  저감대수  등록대수   \n",
       "0       2022  03  강원특별자치도    강릉시  LPG(액화석유가스)  승용   대형  개인용   NaN   NaN   NaN  \\\n",
       "1       2022  04  강원특별자치도    강릉시  LPG(액화석유가스)  승용   대형  개인용   NaN   NaN   NaN   \n",
       "2       2022  05  강원특별자치도    강릉시  LPG(액화석유가스)  승용   대형  개인용   NaN   NaN   NaN   \n",
       "3       2022  06  강원특별자치도    강릉시  LPG(액화석유가스)  승용   대형  개인용  2.00  0.00   NaN   \n",
       "4       2022  03  강원특별자치도    강릉시  LPG(액화석유가스)  승용   대형  영업용   NaN   NaN   NaN   \n",
       "...      ...  ..      ...    ...          ...  ..  ...  ...   ...   ...   ...   \n",
       "266107  2022  06     충청북도    충주시  CNG(압축천연가스)  특수   소형  영업용   NaN   NaN   NaN   \n",
       "266108  2022  03     충청북도    충주시  CNG(압축천연가스)  특수   소형   관용   NaN   NaN   NaN   \n",
       "266109  2022  04     충청북도    충주시  CNG(압축천연가스)  특수   소형   관용   NaN   NaN   NaN   \n",
       "266110  2022  05     충청북도    충주시  CNG(압축천연가스)  특수   소형   관용   NaN   NaN   NaN   \n",
       "266111  2022  06     충청북도    충주시  CNG(압축천연가스)  특수   소형   관용   NaN   NaN   NaN   \n",
       "\n",
       "        등록저감대수  \n",
       "0          NaN  \n",
       "1          NaN  \n",
       "2          NaN  \n",
       "3          NaN  \n",
       "4          NaN  \n",
       "...        ...  \n",
       "266107     NaN  \n",
       "266108     NaN  \n",
       "266109     NaN  \n",
       "266110     NaN  \n",
       "266111     NaN  \n",
       "\n",
       "[266112 rows x 12 columns]"
      ]
     },
     "execution_count": 306,
     "metadata": {},
     "output_type": "execute_result"
    }
   ],
   "source": [
    "base2 = base1.merge(grp2, on=['연도', '월', '시도', '시군구_수정', '연료', '차종', '차종유형', '용도'], how='left')\n",
    "base2"
   ]
  },
  {
   "cell_type": "code",
   "execution_count": 307,
   "metadata": {},
   "outputs": [
    {
     "data": {
      "text/html": [
       "<div>\n",
       "<style scoped>\n",
       "    .dataframe tbody tr th:only-of-type {\n",
       "        vertical-align: middle;\n",
       "    }\n",
       "\n",
       "    .dataframe tbody tr th {\n",
       "        vertical-align: top;\n",
       "    }\n",
       "\n",
       "    .dataframe thead th {\n",
       "        text-align: right;\n",
       "    }\n",
       "</style>\n",
       "<table border=\"1\" class=\"dataframe\">\n",
       "  <thead>\n",
       "    <tr style=\"text-align: right;\">\n",
       "      <th></th>\n",
       "      <th>연도</th>\n",
       "      <th>월</th>\n",
       "      <th>시도</th>\n",
       "      <th>시군구_수정</th>\n",
       "      <th>연료</th>\n",
       "      <th>차종</th>\n",
       "      <th>차종유형</th>\n",
       "      <th>용도</th>\n",
       "      <th>차량대수</th>\n",
       "      <th>저감대수</th>\n",
       "      <th>등록대수</th>\n",
       "      <th>등록저감대수</th>\n",
       "      <th>말소대수</th>\n",
       "      <th>말소저감대수</th>\n",
       "    </tr>\n",
       "  </thead>\n",
       "  <tbody>\n",
       "    <tr>\n",
       "      <th>0</th>\n",
       "      <td>2022</td>\n",
       "      <td>03</td>\n",
       "      <td>강원특별자치도</td>\n",
       "      <td>강릉시</td>\n",
       "      <td>LPG(액화석유가스)</td>\n",
       "      <td>승용</td>\n",
       "      <td>대형</td>\n",
       "      <td>개인용</td>\n",
       "      <td>NaN</td>\n",
       "      <td>NaN</td>\n",
       "      <td>NaN</td>\n",
       "      <td>NaN</td>\n",
       "      <td>NaN</td>\n",
       "      <td>NaN</td>\n",
       "    </tr>\n",
       "    <tr>\n",
       "      <th>1</th>\n",
       "      <td>2022</td>\n",
       "      <td>04</td>\n",
       "      <td>강원특별자치도</td>\n",
       "      <td>강릉시</td>\n",
       "      <td>LPG(액화석유가스)</td>\n",
       "      <td>승용</td>\n",
       "      <td>대형</td>\n",
       "      <td>개인용</td>\n",
       "      <td>NaN</td>\n",
       "      <td>NaN</td>\n",
       "      <td>NaN</td>\n",
       "      <td>NaN</td>\n",
       "      <td>NaN</td>\n",
       "      <td>NaN</td>\n",
       "    </tr>\n",
       "    <tr>\n",
       "      <th>2</th>\n",
       "      <td>2022</td>\n",
       "      <td>05</td>\n",
       "      <td>강원특별자치도</td>\n",
       "      <td>강릉시</td>\n",
       "      <td>LPG(액화석유가스)</td>\n",
       "      <td>승용</td>\n",
       "      <td>대형</td>\n",
       "      <td>개인용</td>\n",
       "      <td>NaN</td>\n",
       "      <td>NaN</td>\n",
       "      <td>NaN</td>\n",
       "      <td>NaN</td>\n",
       "      <td>NaN</td>\n",
       "      <td>NaN</td>\n",
       "    </tr>\n",
       "    <tr>\n",
       "      <th>3</th>\n",
       "      <td>2022</td>\n",
       "      <td>06</td>\n",
       "      <td>강원특별자치도</td>\n",
       "      <td>강릉시</td>\n",
       "      <td>LPG(액화석유가스)</td>\n",
       "      <td>승용</td>\n",
       "      <td>대형</td>\n",
       "      <td>개인용</td>\n",
       "      <td>2.00</td>\n",
       "      <td>0.00</td>\n",
       "      <td>NaN</td>\n",
       "      <td>NaN</td>\n",
       "      <td>NaN</td>\n",
       "      <td>NaN</td>\n",
       "    </tr>\n",
       "    <tr>\n",
       "      <th>4</th>\n",
       "      <td>2022</td>\n",
       "      <td>03</td>\n",
       "      <td>강원특별자치도</td>\n",
       "      <td>강릉시</td>\n",
       "      <td>LPG(액화석유가스)</td>\n",
       "      <td>승용</td>\n",
       "      <td>대형</td>\n",
       "      <td>영업용</td>\n",
       "      <td>NaN</td>\n",
       "      <td>NaN</td>\n",
       "      <td>NaN</td>\n",
       "      <td>NaN</td>\n",
       "      <td>NaN</td>\n",
       "      <td>NaN</td>\n",
       "    </tr>\n",
       "    <tr>\n",
       "      <th>...</th>\n",
       "      <td>...</td>\n",
       "      <td>...</td>\n",
       "      <td>...</td>\n",
       "      <td>...</td>\n",
       "      <td>...</td>\n",
       "      <td>...</td>\n",
       "      <td>...</td>\n",
       "      <td>...</td>\n",
       "      <td>...</td>\n",
       "      <td>...</td>\n",
       "      <td>...</td>\n",
       "      <td>...</td>\n",
       "      <td>...</td>\n",
       "      <td>...</td>\n",
       "    </tr>\n",
       "    <tr>\n",
       "      <th>266107</th>\n",
       "      <td>2022</td>\n",
       "      <td>06</td>\n",
       "      <td>충청북도</td>\n",
       "      <td>충주시</td>\n",
       "      <td>CNG(압축천연가스)</td>\n",
       "      <td>특수</td>\n",
       "      <td>소형</td>\n",
       "      <td>영업용</td>\n",
       "      <td>NaN</td>\n",
       "      <td>NaN</td>\n",
       "      <td>NaN</td>\n",
       "      <td>NaN</td>\n",
       "      <td>NaN</td>\n",
       "      <td>NaN</td>\n",
       "    </tr>\n",
       "    <tr>\n",
       "      <th>266108</th>\n",
       "      <td>2022</td>\n",
       "      <td>03</td>\n",
       "      <td>충청북도</td>\n",
       "      <td>충주시</td>\n",
       "      <td>CNG(압축천연가스)</td>\n",
       "      <td>특수</td>\n",
       "      <td>소형</td>\n",
       "      <td>관용</td>\n",
       "      <td>NaN</td>\n",
       "      <td>NaN</td>\n",
       "      <td>NaN</td>\n",
       "      <td>NaN</td>\n",
       "      <td>NaN</td>\n",
       "      <td>NaN</td>\n",
       "    </tr>\n",
       "    <tr>\n",
       "      <th>266109</th>\n",
       "      <td>2022</td>\n",
       "      <td>04</td>\n",
       "      <td>충청북도</td>\n",
       "      <td>충주시</td>\n",
       "      <td>CNG(압축천연가스)</td>\n",
       "      <td>특수</td>\n",
       "      <td>소형</td>\n",
       "      <td>관용</td>\n",
       "      <td>NaN</td>\n",
       "      <td>NaN</td>\n",
       "      <td>NaN</td>\n",
       "      <td>NaN</td>\n",
       "      <td>NaN</td>\n",
       "      <td>NaN</td>\n",
       "    </tr>\n",
       "    <tr>\n",
       "      <th>266110</th>\n",
       "      <td>2022</td>\n",
       "      <td>05</td>\n",
       "      <td>충청북도</td>\n",
       "      <td>충주시</td>\n",
       "      <td>CNG(압축천연가스)</td>\n",
       "      <td>특수</td>\n",
       "      <td>소형</td>\n",
       "      <td>관용</td>\n",
       "      <td>NaN</td>\n",
       "      <td>NaN</td>\n",
       "      <td>NaN</td>\n",
       "      <td>NaN</td>\n",
       "      <td>NaN</td>\n",
       "      <td>NaN</td>\n",
       "    </tr>\n",
       "    <tr>\n",
       "      <th>266111</th>\n",
       "      <td>2022</td>\n",
       "      <td>06</td>\n",
       "      <td>충청북도</td>\n",
       "      <td>충주시</td>\n",
       "      <td>CNG(압축천연가스)</td>\n",
       "      <td>특수</td>\n",
       "      <td>소형</td>\n",
       "      <td>관용</td>\n",
       "      <td>NaN</td>\n",
       "      <td>NaN</td>\n",
       "      <td>NaN</td>\n",
       "      <td>NaN</td>\n",
       "      <td>NaN</td>\n",
       "      <td>NaN</td>\n",
       "    </tr>\n",
       "  </tbody>\n",
       "</table>\n",
       "<p>266112 rows × 14 columns</p>\n",
       "</div>"
      ],
      "text/plain": [
       "          연도   월       시도 시군구_수정           연료  차종 차종유형   용도  차량대수  저감대수  등록대수   \n",
       "0       2022  03  강원특별자치도    강릉시  LPG(액화석유가스)  승용   대형  개인용   NaN   NaN   NaN  \\\n",
       "1       2022  04  강원특별자치도    강릉시  LPG(액화석유가스)  승용   대형  개인용   NaN   NaN   NaN   \n",
       "2       2022  05  강원특별자치도    강릉시  LPG(액화석유가스)  승용   대형  개인용   NaN   NaN   NaN   \n",
       "3       2022  06  강원특별자치도    강릉시  LPG(액화석유가스)  승용   대형  개인용  2.00  0.00   NaN   \n",
       "4       2022  03  강원특별자치도    강릉시  LPG(액화석유가스)  승용   대형  영업용   NaN   NaN   NaN   \n",
       "...      ...  ..      ...    ...          ...  ..  ...  ...   ...   ...   ...   \n",
       "266107  2022  06     충청북도    충주시  CNG(압축천연가스)  특수   소형  영업용   NaN   NaN   NaN   \n",
       "266108  2022  03     충청북도    충주시  CNG(압축천연가스)  특수   소형   관용   NaN   NaN   NaN   \n",
       "266109  2022  04     충청북도    충주시  CNG(압축천연가스)  특수   소형   관용   NaN   NaN   NaN   \n",
       "266110  2022  05     충청북도    충주시  CNG(압축천연가스)  특수   소형   관용   NaN   NaN   NaN   \n",
       "266111  2022  06     충청북도    충주시  CNG(압축천연가스)  특수   소형   관용   NaN   NaN   NaN   \n",
       "\n",
       "        등록저감대수  말소대수  말소저감대수  \n",
       "0          NaN   NaN     NaN  \n",
       "1          NaN   NaN     NaN  \n",
       "2          NaN   NaN     NaN  \n",
       "3          NaN   NaN     NaN  \n",
       "4          NaN   NaN     NaN  \n",
       "...        ...   ...     ...  \n",
       "266107     NaN   NaN     NaN  \n",
       "266108     NaN   NaN     NaN  \n",
       "266109     NaN   NaN     NaN  \n",
       "266110     NaN   NaN     NaN  \n",
       "266111     NaN   NaN     NaN  \n",
       "\n",
       "[266112 rows x 14 columns]"
      ]
     },
     "execution_count": 307,
     "metadata": {},
     "output_type": "execute_result"
    }
   ],
   "source": [
    "base3 = base2.merge(grp3, on=['연도', '월', '시도', '시군구_수정', '연료', '차종', '차종유형', '용도'], how='left')\n",
    "base3"
   ]
  },
  {
   "cell_type": "code",
   "execution_count": 308,
   "metadata": {},
   "outputs": [
    {
     "data": {
      "text/html": [
       "<div>\n",
       "<style scoped>\n",
       "    .dataframe tbody tr th:only-of-type {\n",
       "        vertical-align: middle;\n",
       "    }\n",
       "\n",
       "    .dataframe tbody tr th {\n",
       "        vertical-align: top;\n",
       "    }\n",
       "\n",
       "    .dataframe thead th {\n",
       "        text-align: right;\n",
       "    }\n",
       "</style>\n",
       "<table border=\"1\" class=\"dataframe\">\n",
       "  <thead>\n",
       "    <tr style=\"text-align: right;\">\n",
       "      <th></th>\n",
       "      <th>연도</th>\n",
       "      <th>월</th>\n",
       "      <th>시도</th>\n",
       "      <th>시군구_수정</th>\n",
       "      <th>연료</th>\n",
       "      <th>차종</th>\n",
       "      <th>차종유형</th>\n",
       "      <th>용도</th>\n",
       "      <th>차량대수</th>\n",
       "      <th>저감대수</th>\n",
       "      <th>등록대수</th>\n",
       "      <th>등록저감대수</th>\n",
       "      <th>말소대수</th>\n",
       "      <th>말소저감대수</th>\n",
       "      <th>조기폐차</th>\n",
       "    </tr>\n",
       "  </thead>\n",
       "  <tbody>\n",
       "    <tr>\n",
       "      <th>0</th>\n",
       "      <td>2022</td>\n",
       "      <td>03</td>\n",
       "      <td>강원특별자치도</td>\n",
       "      <td>강릉시</td>\n",
       "      <td>LPG(액화석유가스)</td>\n",
       "      <td>승용</td>\n",
       "      <td>대형</td>\n",
       "      <td>개인용</td>\n",
       "      <td>NaN</td>\n",
       "      <td>NaN</td>\n",
       "      <td>NaN</td>\n",
       "      <td>NaN</td>\n",
       "      <td>NaN</td>\n",
       "      <td>NaN</td>\n",
       "      <td>NaN</td>\n",
       "    </tr>\n",
       "    <tr>\n",
       "      <th>1</th>\n",
       "      <td>2022</td>\n",
       "      <td>04</td>\n",
       "      <td>강원특별자치도</td>\n",
       "      <td>강릉시</td>\n",
       "      <td>LPG(액화석유가스)</td>\n",
       "      <td>승용</td>\n",
       "      <td>대형</td>\n",
       "      <td>개인용</td>\n",
       "      <td>NaN</td>\n",
       "      <td>NaN</td>\n",
       "      <td>NaN</td>\n",
       "      <td>NaN</td>\n",
       "      <td>NaN</td>\n",
       "      <td>NaN</td>\n",
       "      <td>NaN</td>\n",
       "    </tr>\n",
       "    <tr>\n",
       "      <th>2</th>\n",
       "      <td>2022</td>\n",
       "      <td>05</td>\n",
       "      <td>강원특별자치도</td>\n",
       "      <td>강릉시</td>\n",
       "      <td>LPG(액화석유가스)</td>\n",
       "      <td>승용</td>\n",
       "      <td>대형</td>\n",
       "      <td>개인용</td>\n",
       "      <td>NaN</td>\n",
       "      <td>NaN</td>\n",
       "      <td>NaN</td>\n",
       "      <td>NaN</td>\n",
       "      <td>NaN</td>\n",
       "      <td>NaN</td>\n",
       "      <td>NaN</td>\n",
       "    </tr>\n",
       "    <tr>\n",
       "      <th>3</th>\n",
       "      <td>2022</td>\n",
       "      <td>06</td>\n",
       "      <td>강원특별자치도</td>\n",
       "      <td>강릉시</td>\n",
       "      <td>LPG(액화석유가스)</td>\n",
       "      <td>승용</td>\n",
       "      <td>대형</td>\n",
       "      <td>개인용</td>\n",
       "      <td>2.00</td>\n",
       "      <td>0.00</td>\n",
       "      <td>NaN</td>\n",
       "      <td>NaN</td>\n",
       "      <td>NaN</td>\n",
       "      <td>NaN</td>\n",
       "      <td>NaN</td>\n",
       "    </tr>\n",
       "    <tr>\n",
       "      <th>4</th>\n",
       "      <td>2022</td>\n",
       "      <td>03</td>\n",
       "      <td>강원특별자치도</td>\n",
       "      <td>강릉시</td>\n",
       "      <td>LPG(액화석유가스)</td>\n",
       "      <td>승용</td>\n",
       "      <td>대형</td>\n",
       "      <td>영업용</td>\n",
       "      <td>NaN</td>\n",
       "      <td>NaN</td>\n",
       "      <td>NaN</td>\n",
       "      <td>NaN</td>\n",
       "      <td>NaN</td>\n",
       "      <td>NaN</td>\n",
       "      <td>NaN</td>\n",
       "    </tr>\n",
       "    <tr>\n",
       "      <th>...</th>\n",
       "      <td>...</td>\n",
       "      <td>...</td>\n",
       "      <td>...</td>\n",
       "      <td>...</td>\n",
       "      <td>...</td>\n",
       "      <td>...</td>\n",
       "      <td>...</td>\n",
       "      <td>...</td>\n",
       "      <td>...</td>\n",
       "      <td>...</td>\n",
       "      <td>...</td>\n",
       "      <td>...</td>\n",
       "      <td>...</td>\n",
       "      <td>...</td>\n",
       "      <td>...</td>\n",
       "    </tr>\n",
       "    <tr>\n",
       "      <th>266107</th>\n",
       "      <td>2022</td>\n",
       "      <td>06</td>\n",
       "      <td>충청북도</td>\n",
       "      <td>충주시</td>\n",
       "      <td>CNG(압축천연가스)</td>\n",
       "      <td>특수</td>\n",
       "      <td>소형</td>\n",
       "      <td>영업용</td>\n",
       "      <td>NaN</td>\n",
       "      <td>NaN</td>\n",
       "      <td>NaN</td>\n",
       "      <td>NaN</td>\n",
       "      <td>NaN</td>\n",
       "      <td>NaN</td>\n",
       "      <td>NaN</td>\n",
       "    </tr>\n",
       "    <tr>\n",
       "      <th>266108</th>\n",
       "      <td>2022</td>\n",
       "      <td>03</td>\n",
       "      <td>충청북도</td>\n",
       "      <td>충주시</td>\n",
       "      <td>CNG(압축천연가스)</td>\n",
       "      <td>특수</td>\n",
       "      <td>소형</td>\n",
       "      <td>관용</td>\n",
       "      <td>NaN</td>\n",
       "      <td>NaN</td>\n",
       "      <td>NaN</td>\n",
       "      <td>NaN</td>\n",
       "      <td>NaN</td>\n",
       "      <td>NaN</td>\n",
       "      <td>NaN</td>\n",
       "    </tr>\n",
       "    <tr>\n",
       "      <th>266109</th>\n",
       "      <td>2022</td>\n",
       "      <td>04</td>\n",
       "      <td>충청북도</td>\n",
       "      <td>충주시</td>\n",
       "      <td>CNG(압축천연가스)</td>\n",
       "      <td>특수</td>\n",
       "      <td>소형</td>\n",
       "      <td>관용</td>\n",
       "      <td>NaN</td>\n",
       "      <td>NaN</td>\n",
       "      <td>NaN</td>\n",
       "      <td>NaN</td>\n",
       "      <td>NaN</td>\n",
       "      <td>NaN</td>\n",
       "      <td>NaN</td>\n",
       "    </tr>\n",
       "    <tr>\n",
       "      <th>266110</th>\n",
       "      <td>2022</td>\n",
       "      <td>05</td>\n",
       "      <td>충청북도</td>\n",
       "      <td>충주시</td>\n",
       "      <td>CNG(압축천연가스)</td>\n",
       "      <td>특수</td>\n",
       "      <td>소형</td>\n",
       "      <td>관용</td>\n",
       "      <td>NaN</td>\n",
       "      <td>NaN</td>\n",
       "      <td>NaN</td>\n",
       "      <td>NaN</td>\n",
       "      <td>NaN</td>\n",
       "      <td>NaN</td>\n",
       "      <td>NaN</td>\n",
       "    </tr>\n",
       "    <tr>\n",
       "      <th>266111</th>\n",
       "      <td>2022</td>\n",
       "      <td>06</td>\n",
       "      <td>충청북도</td>\n",
       "      <td>충주시</td>\n",
       "      <td>CNG(압축천연가스)</td>\n",
       "      <td>특수</td>\n",
       "      <td>소형</td>\n",
       "      <td>관용</td>\n",
       "      <td>NaN</td>\n",
       "      <td>NaN</td>\n",
       "      <td>NaN</td>\n",
       "      <td>NaN</td>\n",
       "      <td>NaN</td>\n",
       "      <td>NaN</td>\n",
       "      <td>NaN</td>\n",
       "    </tr>\n",
       "  </tbody>\n",
       "</table>\n",
       "<p>266112 rows × 15 columns</p>\n",
       "</div>"
      ],
      "text/plain": [
       "          연도   월       시도 시군구_수정           연료  차종 차종유형   용도  차량대수  저감대수  등록대수   \n",
       "0       2022  03  강원특별자치도    강릉시  LPG(액화석유가스)  승용   대형  개인용   NaN   NaN   NaN  \\\n",
       "1       2022  04  강원특별자치도    강릉시  LPG(액화석유가스)  승용   대형  개인용   NaN   NaN   NaN   \n",
       "2       2022  05  강원특별자치도    강릉시  LPG(액화석유가스)  승용   대형  개인용   NaN   NaN   NaN   \n",
       "3       2022  06  강원특별자치도    강릉시  LPG(액화석유가스)  승용   대형  개인용  2.00  0.00   NaN   \n",
       "4       2022  03  강원특별자치도    강릉시  LPG(액화석유가스)  승용   대형  영업용   NaN   NaN   NaN   \n",
       "...      ...  ..      ...    ...          ...  ..  ...  ...   ...   ...   ...   \n",
       "266107  2022  06     충청북도    충주시  CNG(압축천연가스)  특수   소형  영업용   NaN   NaN   NaN   \n",
       "266108  2022  03     충청북도    충주시  CNG(압축천연가스)  특수   소형   관용   NaN   NaN   NaN   \n",
       "266109  2022  04     충청북도    충주시  CNG(압축천연가스)  특수   소형   관용   NaN   NaN   NaN   \n",
       "266110  2022  05     충청북도    충주시  CNG(압축천연가스)  특수   소형   관용   NaN   NaN   NaN   \n",
       "266111  2022  06     충청북도    충주시  CNG(압축천연가스)  특수   소형   관용   NaN   NaN   NaN   \n",
       "\n",
       "        등록저감대수  말소대수  말소저감대수  조기폐차  \n",
       "0          NaN   NaN     NaN   NaN  \n",
       "1          NaN   NaN     NaN   NaN  \n",
       "2          NaN   NaN     NaN   NaN  \n",
       "3          NaN   NaN     NaN   NaN  \n",
       "4          NaN   NaN     NaN   NaN  \n",
       "...        ...   ...     ...   ...  \n",
       "266107     NaN   NaN     NaN   NaN  \n",
       "266108     NaN   NaN     NaN   NaN  \n",
       "266109     NaN   NaN     NaN   NaN  \n",
       "266110     NaN   NaN     NaN   NaN  \n",
       "266111     NaN   NaN     NaN   NaN  \n",
       "\n",
       "[266112 rows x 15 columns]"
      ]
     },
     "execution_count": 308,
     "metadata": {},
     "output_type": "execute_result"
    }
   ],
   "source": [
    "base4 = base3.merge(grp4, on=['연도', '월', '시도', '시군구_수정', '연료', '차종', '차종유형', '용도'], how='left')\n",
    "base4"
   ]
  },
  {
   "cell_type": "code",
   "execution_count": 309,
   "metadata": {},
   "outputs": [
    {
     "data": {
      "text/plain": [
       "Index(['연도', '월', '시도', '시군구_수정', '연료', '차종', '차종유형', '용도', '차량대수', '저감대수',\n",
       "       '등록대수', '등록저감대수', '말소대수', '말소저감대수', '조기폐차'],\n",
       "      dtype='object')"
      ]
     },
     "execution_count": 309,
     "metadata": {},
     "output_type": "execute_result"
    }
   ],
   "source": [
    "base4.columns"
   ]
  },
  {
   "cell_type": "code",
   "execution_count": 310,
   "metadata": {},
   "outputs": [
    {
     "data": {
      "text/plain": [
       "차량대수      257814\n",
       "조기폐차      266112\n",
       "저감대수      257814\n",
       "등록대수      266111\n",
       "등록저감대수    266111\n",
       "말소대수      258784\n",
       "말소저감대수    258784\n",
       "dtype: int64"
      ]
     },
     "execution_count": 310,
     "metadata": {},
     "output_type": "execute_result"
    }
   ],
   "source": [
    "base4[['차량대수', '조기폐차', '저감대수', '등록대수', '등록저감대수', '말소대수', '말소저감대수']].isnull().sum()"
   ]
  },
  {
   "cell_type": "code",
   "execution_count": 311,
   "metadata": {},
   "outputs": [],
   "source": [
    "base4[['차량대수', '조기폐차', '저감대수', '등록대수', '등록저감대수', '말소대수', '말소저감대수']] = base4[['차량대수', '조기폐차', '저감대수', '등록대수', '등록저감대수', '말소대수', '말소저감대수']].fillna(0)"
   ]
  },
  {
   "cell_type": "code",
   "execution_count": 312,
   "metadata": {},
   "outputs": [
    {
     "data": {
      "text/plain": [
       "(8298, 15)"
      ]
     },
     "execution_count": 312,
     "metadata": {},
     "output_type": "execute_result"
    }
   ],
   "source": [
    "base4[base4['차량대수'] != 0].shape"
   ]
  },
  {
   "cell_type": "code",
   "execution_count": 313,
   "metadata": {},
   "outputs": [
    {
     "data": {
      "text/html": [
       "<div>\n",
       "<style scoped>\n",
       "    .dataframe tbody tr th:only-of-type {\n",
       "        vertical-align: middle;\n",
       "    }\n",
       "\n",
       "    .dataframe tbody tr th {\n",
       "        vertical-align: top;\n",
       "    }\n",
       "\n",
       "    .dataframe thead th {\n",
       "        text-align: right;\n",
       "    }\n",
       "</style>\n",
       "<table border=\"1\" class=\"dataframe\">\n",
       "  <thead>\n",
       "    <tr style=\"text-align: right;\">\n",
       "      <th></th>\n",
       "      <th>연도</th>\n",
       "      <th>월</th>\n",
       "      <th>시도</th>\n",
       "      <th>시군구_수정</th>\n",
       "      <th>연료</th>\n",
       "      <th>차종</th>\n",
       "      <th>차종유형</th>\n",
       "      <th>용도</th>\n",
       "      <th>차량대수</th>\n",
       "      <th>저감대수</th>\n",
       "      <th>등록대수</th>\n",
       "      <th>등록저감대수</th>\n",
       "      <th>말소대수</th>\n",
       "      <th>말소저감대수</th>\n",
       "      <th>조기폐차</th>\n",
       "    </tr>\n",
       "  </thead>\n",
       "  <tbody>\n",
       "    <tr>\n",
       "      <th>3</th>\n",
       "      <td>2022</td>\n",
       "      <td>06</td>\n",
       "      <td>강원특별자치도</td>\n",
       "      <td>강릉시</td>\n",
       "      <td>LPG(액화석유가스)</td>\n",
       "      <td>승용</td>\n",
       "      <td>대형</td>\n",
       "      <td>개인용</td>\n",
       "      <td>2.00</td>\n",
       "      <td>0.00</td>\n",
       "      <td>0.00</td>\n",
       "      <td>0.00</td>\n",
       "      <td>0.00</td>\n",
       "      <td>0.00</td>\n",
       "      <td>0.00</td>\n",
       "    </tr>\n",
       "    <tr>\n",
       "      <th>15</th>\n",
       "      <td>2022</td>\n",
       "      <td>06</td>\n",
       "      <td>강원특별자치도</td>\n",
       "      <td>강릉시</td>\n",
       "      <td>LPG(액화석유가스)</td>\n",
       "      <td>승용</td>\n",
       "      <td>중형</td>\n",
       "      <td>개인용</td>\n",
       "      <td>15.00</td>\n",
       "      <td>0.00</td>\n",
       "      <td>0.00</td>\n",
       "      <td>0.00</td>\n",
       "      <td>0.00</td>\n",
       "      <td>0.00</td>\n",
       "      <td>0.00</td>\n",
       "    </tr>\n",
       "    <tr>\n",
       "      <th>19</th>\n",
       "      <td>2022</td>\n",
       "      <td>06</td>\n",
       "      <td>강원특별자치도</td>\n",
       "      <td>강릉시</td>\n",
       "      <td>LPG(액화석유가스)</td>\n",
       "      <td>승용</td>\n",
       "      <td>중형</td>\n",
       "      <td>영업용</td>\n",
       "      <td>3.00</td>\n",
       "      <td>0.00</td>\n",
       "      <td>0.00</td>\n",
       "      <td>0.00</td>\n",
       "      <td>0.00</td>\n",
       "      <td>0.00</td>\n",
       "      <td>0.00</td>\n",
       "    </tr>\n",
       "    <tr>\n",
       "      <th>63</th>\n",
       "      <td>2022</td>\n",
       "      <td>06</td>\n",
       "      <td>강원특별자치도</td>\n",
       "      <td>강릉시</td>\n",
       "      <td>LPG(액화석유가스)</td>\n",
       "      <td>승합</td>\n",
       "      <td>중형</td>\n",
       "      <td>개인용</td>\n",
       "      <td>7.00</td>\n",
       "      <td>0.00</td>\n",
       "      <td>0.00</td>\n",
       "      <td>0.00</td>\n",
       "      <td>0.00</td>\n",
       "      <td>0.00</td>\n",
       "      <td>0.00</td>\n",
       "    </tr>\n",
       "    <tr>\n",
       "      <th>75</th>\n",
       "      <td>2022</td>\n",
       "      <td>06</td>\n",
       "      <td>강원특별자치도</td>\n",
       "      <td>강릉시</td>\n",
       "      <td>LPG(액화석유가스)</td>\n",
       "      <td>승합</td>\n",
       "      <td>경형</td>\n",
       "      <td>개인용</td>\n",
       "      <td>3.00</td>\n",
       "      <td>0.00</td>\n",
       "      <td>0.00</td>\n",
       "      <td>0.00</td>\n",
       "      <td>0.00</td>\n",
       "      <td>0.00</td>\n",
       "      <td>0.00</td>\n",
       "    </tr>\n",
       "  </tbody>\n",
       "</table>\n",
       "</div>"
      ],
      "text/plain": [
       "      연도   월       시도 시군구_수정           연료  차종 차종유형   용도  차량대수  저감대수  등록대수   \n",
       "3   2022  06  강원특별자치도    강릉시  LPG(액화석유가스)  승용   대형  개인용  2.00  0.00  0.00  \\\n",
       "15  2022  06  강원특별자치도    강릉시  LPG(액화석유가스)  승용   중형  개인용 15.00  0.00  0.00   \n",
       "19  2022  06  강원특별자치도    강릉시  LPG(액화석유가스)  승용   중형  영업용  3.00  0.00  0.00   \n",
       "63  2022  06  강원특별자치도    강릉시  LPG(액화석유가스)  승합   중형  개인용  7.00  0.00  0.00   \n",
       "75  2022  06  강원특별자치도    강릉시  LPG(액화석유가스)  승합   경형  개인용  3.00  0.00  0.00   \n",
       "\n",
       "    등록저감대수  말소대수  말소저감대수  조기폐차  \n",
       "3     0.00  0.00    0.00  0.00  \n",
       "15    0.00  0.00    0.00  0.00  \n",
       "19    0.00  0.00    0.00  0.00  \n",
       "63    0.00  0.00    0.00  0.00  \n",
       "75    0.00  0.00    0.00  0.00  "
      ]
     },
     "execution_count": 313,
     "metadata": {},
     "output_type": "execute_result"
    }
   ],
   "source": [
    "base4[base4['차량대수'] != 0].head()"
   ]
  },
  {
   "cell_type": "code",
   "execution_count": 314,
   "metadata": {},
   "outputs": [
    {
     "data": {
      "text/html": [
       "<div>\n",
       "<style scoped>\n",
       "    .dataframe tbody tr th:only-of-type {\n",
       "        vertical-align: middle;\n",
       "    }\n",
       "\n",
       "    .dataframe tbody tr th {\n",
       "        vertical-align: top;\n",
       "    }\n",
       "\n",
       "    .dataframe thead th {\n",
       "        text-align: right;\n",
       "    }\n",
       "</style>\n",
       "<table border=\"1\" class=\"dataframe\">\n",
       "  <thead>\n",
       "    <tr style=\"text-align: right;\">\n",
       "      <th></th>\n",
       "      <th>연도</th>\n",
       "      <th>월</th>\n",
       "      <th>시도</th>\n",
       "      <th>시군구_수정</th>\n",
       "      <th>연료</th>\n",
       "      <th>차종</th>\n",
       "      <th>차종유형</th>\n",
       "      <th>용도</th>\n",
       "      <th>차량대수</th>\n",
       "      <th>저감대수</th>\n",
       "      <th>등록대수</th>\n",
       "      <th>등록저감대수</th>\n",
       "      <th>말소대수</th>\n",
       "      <th>말소저감대수</th>\n",
       "      <th>조기폐차</th>\n",
       "    </tr>\n",
       "  </thead>\n",
       "  <tbody>\n",
       "  </tbody>\n",
       "</table>\n",
       "</div>"
      ],
      "text/plain": [
       "Empty DataFrame\n",
       "Columns: [연도, 월, 시도, 시군구_수정, 연료, 차종, 차종유형, 용도, 차량대수, 저감대수, 등록대수, 등록저감대수, 말소대수, 말소저감대수, 조기폐차]\n",
       "Index: []"
      ]
     },
     "execution_count": 314,
     "metadata": {},
     "output_type": "execute_result"
    }
   ],
   "source": [
    "base4[(base4['차량대수'] != 0) & (base4['등록대수'] != 0)]"
   ]
  },
  {
   "cell_type": "code",
   "execution_count": 315,
   "metadata": {},
   "outputs": [
    {
     "data": {
      "text/html": [
       "<div>\n",
       "<style scoped>\n",
       "    .dataframe tbody tr th:only-of-type {\n",
       "        vertical-align: middle;\n",
       "    }\n",
       "\n",
       "    .dataframe tbody tr th {\n",
       "        vertical-align: top;\n",
       "    }\n",
       "\n",
       "    .dataframe thead th {\n",
       "        text-align: right;\n",
       "    }\n",
       "</style>\n",
       "<table border=\"1\" class=\"dataframe\">\n",
       "  <thead>\n",
       "    <tr style=\"text-align: right;\">\n",
       "      <th></th>\n",
       "      <th>연도</th>\n",
       "      <th>월</th>\n",
       "      <th>시도</th>\n",
       "      <th>시군구_수정</th>\n",
       "      <th>연료</th>\n",
       "      <th>차종</th>\n",
       "      <th>차종유형</th>\n",
       "      <th>용도</th>\n",
       "      <th>차량대수</th>\n",
       "      <th>저감대수</th>\n",
       "      <th>등록대수</th>\n",
       "      <th>등록저감대수</th>\n",
       "      <th>말소대수</th>\n",
       "      <th>말소저감대수</th>\n",
       "      <th>조기폐차</th>\n",
       "    </tr>\n",
       "  </thead>\n",
       "  <tbody>\n",
       "    <tr>\n",
       "      <th>64800</th>\n",
       "      <td>2022</td>\n",
       "      <td>03</td>\n",
       "      <td>경상남도</td>\n",
       "      <td>사천시</td>\n",
       "      <td>경유</td>\n",
       "      <td>화물</td>\n",
       "      <td>대형</td>\n",
       "      <td>개인용</td>\n",
       "      <td>0.00</td>\n",
       "      <td>0.00</td>\n",
       "      <td>0.00</td>\n",
       "      <td>0.00</td>\n",
       "      <td>0.00</td>\n",
       "      <td>0.00</td>\n",
       "      <td>0.00</td>\n",
       "    </tr>\n",
       "    <tr>\n",
       "      <th>64801</th>\n",
       "      <td>2022</td>\n",
       "      <td>04</td>\n",
       "      <td>경상남도</td>\n",
       "      <td>사천시</td>\n",
       "      <td>경유</td>\n",
       "      <td>화물</td>\n",
       "      <td>대형</td>\n",
       "      <td>개인용</td>\n",
       "      <td>0.00</td>\n",
       "      <td>0.00</td>\n",
       "      <td>0.00</td>\n",
       "      <td>0.00</td>\n",
       "      <td>0.00</td>\n",
       "      <td>0.00</td>\n",
       "      <td>0.00</td>\n",
       "    </tr>\n",
       "    <tr>\n",
       "      <th>64802</th>\n",
       "      <td>2022</td>\n",
       "      <td>05</td>\n",
       "      <td>경상남도</td>\n",
       "      <td>사천시</td>\n",
       "      <td>경유</td>\n",
       "      <td>화물</td>\n",
       "      <td>대형</td>\n",
       "      <td>개인용</td>\n",
       "      <td>0.00</td>\n",
       "      <td>0.00</td>\n",
       "      <td>0.00</td>\n",
       "      <td>0.00</td>\n",
       "      <td>0.00</td>\n",
       "      <td>0.00</td>\n",
       "      <td>0.00</td>\n",
       "    </tr>\n",
       "    <tr>\n",
       "      <th>64803</th>\n",
       "      <td>2022</td>\n",
       "      <td>06</td>\n",
       "      <td>경상남도</td>\n",
       "      <td>사천시</td>\n",
       "      <td>경유</td>\n",
       "      <td>화물</td>\n",
       "      <td>대형</td>\n",
       "      <td>개인용</td>\n",
       "      <td>41.00</td>\n",
       "      <td>21.00</td>\n",
       "      <td>0.00</td>\n",
       "      <td>0.00</td>\n",
       "      <td>0.00</td>\n",
       "      <td>0.00</td>\n",
       "      <td>0.00</td>\n",
       "    </tr>\n",
       "  </tbody>\n",
       "</table>\n",
       "</div>"
      ],
      "text/plain": [
       "         연도   월    시도 시군구_수정  연료  차종 차종유형   용도  차량대수  저감대수  등록대수  등록저감대수   \n",
       "64800  2022  03  경상남도    사천시  경유  화물   대형  개인용  0.00  0.00  0.00    0.00  \\\n",
       "64801  2022  04  경상남도    사천시  경유  화물   대형  개인용  0.00  0.00  0.00    0.00   \n",
       "64802  2022  05  경상남도    사천시  경유  화물   대형  개인용  0.00  0.00  0.00    0.00   \n",
       "64803  2022  06  경상남도    사천시  경유  화물   대형  개인용 41.00 21.00  0.00    0.00   \n",
       "\n",
       "       말소대수  말소저감대수  조기폐차  \n",
       "64800  0.00    0.00  0.00  \n",
       "64801  0.00    0.00  0.00  \n",
       "64802  0.00    0.00  0.00  \n",
       "64803  0.00    0.00  0.00  "
      ]
     },
     "execution_count": 315,
     "metadata": {},
     "output_type": "execute_result"
    }
   ],
   "source": [
    "n = 64803\n",
    "base4.iloc[n-3:n+1]"
   ]
  },
  {
   "cell_type": "code",
   "execution_count": 316,
   "metadata": {},
   "outputs": [
    {
     "data": {
      "text/html": [
       "<div>\n",
       "<style scoped>\n",
       "    .dataframe tbody tr th:only-of-type {\n",
       "        vertical-align: middle;\n",
       "    }\n",
       "\n",
       "    .dataframe tbody tr th {\n",
       "        vertical-align: top;\n",
       "    }\n",
       "\n",
       "    .dataframe thead th {\n",
       "        text-align: right;\n",
       "    }\n",
       "</style>\n",
       "<table border=\"1\" class=\"dataframe\">\n",
       "  <thead>\n",
       "    <tr style=\"text-align: right;\">\n",
       "      <th></th>\n",
       "      <th>연도</th>\n",
       "      <th>월</th>\n",
       "      <th>시도</th>\n",
       "      <th>시군구_수정</th>\n",
       "      <th>연료</th>\n",
       "      <th>차종</th>\n",
       "      <th>차종유형</th>\n",
       "      <th>용도</th>\n",
       "      <th>차량대수</th>\n",
       "      <th>저감대수</th>\n",
       "      <th>...</th>\n",
       "      <th>등록저감대수</th>\n",
       "      <th>말소대수</th>\n",
       "      <th>말소저감대수</th>\n",
       "      <th>조기폐차</th>\n",
       "      <th>차량대수_1</th>\n",
       "      <th>등록대수_1</th>\n",
       "      <th>말소대수_1</th>\n",
       "      <th>저감대수_1</th>\n",
       "      <th>등록저감대수_1</th>\n",
       "      <th>말소저감대수_1</th>\n",
       "    </tr>\n",
       "  </thead>\n",
       "  <tbody>\n",
       "    <tr>\n",
       "      <th>64800</th>\n",
       "      <td>2022</td>\n",
       "      <td>03</td>\n",
       "      <td>경상남도</td>\n",
       "      <td>사천시</td>\n",
       "      <td>경유</td>\n",
       "      <td>화물</td>\n",
       "      <td>대형</td>\n",
       "      <td>개인용</td>\n",
       "      <td>0.00</td>\n",
       "      <td>0.00</td>\n",
       "      <td>...</td>\n",
       "      <td>0.00</td>\n",
       "      <td>0.00</td>\n",
       "      <td>0.00</td>\n",
       "      <td>0.00</td>\n",
       "      <td>0.00</td>\n",
       "      <td>0.00</td>\n",
       "      <td>0.00</td>\n",
       "      <td>0.00</td>\n",
       "      <td>0.00</td>\n",
       "      <td>0.00</td>\n",
       "    </tr>\n",
       "    <tr>\n",
       "      <th>64801</th>\n",
       "      <td>2022</td>\n",
       "      <td>04</td>\n",
       "      <td>경상남도</td>\n",
       "      <td>사천시</td>\n",
       "      <td>경유</td>\n",
       "      <td>화물</td>\n",
       "      <td>대형</td>\n",
       "      <td>개인용</td>\n",
       "      <td>0.00</td>\n",
       "      <td>0.00</td>\n",
       "      <td>...</td>\n",
       "      <td>0.00</td>\n",
       "      <td>0.00</td>\n",
       "      <td>0.00</td>\n",
       "      <td>0.00</td>\n",
       "      <td>0.00</td>\n",
       "      <td>0.00</td>\n",
       "      <td>0.00</td>\n",
       "      <td>0.00</td>\n",
       "      <td>0.00</td>\n",
       "      <td>0.00</td>\n",
       "    </tr>\n",
       "    <tr>\n",
       "      <th>64802</th>\n",
       "      <td>2022</td>\n",
       "      <td>05</td>\n",
       "      <td>경상남도</td>\n",
       "      <td>사천시</td>\n",
       "      <td>경유</td>\n",
       "      <td>화물</td>\n",
       "      <td>대형</td>\n",
       "      <td>개인용</td>\n",
       "      <td>0.00</td>\n",
       "      <td>0.00</td>\n",
       "      <td>...</td>\n",
       "      <td>0.00</td>\n",
       "      <td>0.00</td>\n",
       "      <td>0.00</td>\n",
       "      <td>0.00</td>\n",
       "      <td>41.00</td>\n",
       "      <td>0.00</td>\n",
       "      <td>0.00</td>\n",
       "      <td>21.00</td>\n",
       "      <td>0.00</td>\n",
       "      <td>0.00</td>\n",
       "    </tr>\n",
       "    <tr>\n",
       "      <th>64803</th>\n",
       "      <td>2022</td>\n",
       "      <td>06</td>\n",
       "      <td>경상남도</td>\n",
       "      <td>사천시</td>\n",
       "      <td>경유</td>\n",
       "      <td>화물</td>\n",
       "      <td>대형</td>\n",
       "      <td>개인용</td>\n",
       "      <td>41.00</td>\n",
       "      <td>21.00</td>\n",
       "      <td>...</td>\n",
       "      <td>0.00</td>\n",
       "      <td>0.00</td>\n",
       "      <td>0.00</td>\n",
       "      <td>0.00</td>\n",
       "      <td>0.00</td>\n",
       "      <td>0.00</td>\n",
       "      <td>0.00</td>\n",
       "      <td>0.00</td>\n",
       "      <td>0.00</td>\n",
       "      <td>0.00</td>\n",
       "    </tr>\n",
       "  </tbody>\n",
       "</table>\n",
       "<p>4 rows × 21 columns</p>\n",
       "</div>"
      ],
      "text/plain": [
       "         연도   월    시도 시군구_수정  연료  차종 차종유형   용도  차량대수  저감대수  ...  등록저감대수  말소대수   \n",
       "64800  2022  03  경상남도    사천시  경유  화물   대형  개인용  0.00  0.00  ...    0.00  0.00  \\\n",
       "64801  2022  04  경상남도    사천시  경유  화물   대형  개인용  0.00  0.00  ...    0.00  0.00   \n",
       "64802  2022  05  경상남도    사천시  경유  화물   대형  개인용  0.00  0.00  ...    0.00  0.00   \n",
       "64803  2022  06  경상남도    사천시  경유  화물   대형  개인용 41.00 21.00  ...    0.00  0.00   \n",
       "\n",
       "       말소저감대수  조기폐차  차량대수_1  등록대수_1  말소대수_1  저감대수_1  등록저감대수_1  말소저감대수_1  \n",
       "64800    0.00  0.00    0.00    0.00    0.00    0.00      0.00      0.00  \n",
       "64801    0.00  0.00    0.00    0.00    0.00    0.00      0.00      0.00  \n",
       "64802    0.00  0.00   41.00    0.00    0.00   21.00      0.00      0.00  \n",
       "64803    0.00  0.00    0.00    0.00    0.00    0.00      0.00      0.00  \n",
       "\n",
       "[4 rows x 21 columns]"
      ]
     },
     "execution_count": 316,
     "metadata": {},
     "output_type": "execute_result"
    }
   ],
   "source": [
    "# base4[['차량대수_1', '등록대수_1', '말소대수_1', '저감대수_1', '등록저감대수_1', '말소저감대수_1']] = base4[['차량대수', '등록대수', '말소대수', '저감대수', '등록저감대수', '말소저감대수']].shift(-1)\n",
    "# base4.iloc[n-3:n+1]"
   ]
  },
  {
   "cell_type": "code",
   "execution_count": 317,
   "metadata": {},
   "outputs": [
    {
     "data": {
      "text/plain": [
       "array([41.0, 21.0], dtype=object)"
      ]
     },
     "execution_count": 317,
     "metadata": {},
     "output_type": "execute_result"
    }
   ],
   "source": [
    "# base4.loc[n, ['차량대수', '저감대수']].values"
   ]
  },
  {
   "cell_type": "code",
   "execution_count": 318,
   "metadata": {},
   "outputs": [],
   "source": [
    "# base4.loc[[x for x in range(3, base4.shape[0], 4)], ['차량대수_1', '저감대수_1']]  = base4.loc[[x for x in range(3, base4.shape[0], 4)], ['차량대수', '저감대수']].values\n",
    "# base4.loc[[x for x in range(3, base4.shape[0], 4)], ['등록대수_1', '말소대수_1', '등록저감대수_1', '말소저감대수_1']] = 0"
   ]
  },
  {
   "cell_type": "code",
   "execution_count": 319,
   "metadata": {},
   "outputs": [
    {
     "data": {
      "text/html": [
       "<div>\n",
       "<style scoped>\n",
       "    .dataframe tbody tr th:only-of-type {\n",
       "        vertical-align: middle;\n",
       "    }\n",
       "\n",
       "    .dataframe tbody tr th {\n",
       "        vertical-align: top;\n",
       "    }\n",
       "\n",
       "    .dataframe thead th {\n",
       "        text-align: right;\n",
       "    }\n",
       "</style>\n",
       "<table border=\"1\" class=\"dataframe\">\n",
       "  <thead>\n",
       "    <tr style=\"text-align: right;\">\n",
       "      <th></th>\n",
       "      <th>연도</th>\n",
       "      <th>월</th>\n",
       "      <th>시도</th>\n",
       "      <th>시군구_수정</th>\n",
       "      <th>연료</th>\n",
       "      <th>차종</th>\n",
       "      <th>차종유형</th>\n",
       "      <th>용도</th>\n",
       "      <th>차량대수</th>\n",
       "      <th>저감대수</th>\n",
       "      <th>...</th>\n",
       "      <th>등록저감대수</th>\n",
       "      <th>말소대수</th>\n",
       "      <th>말소저감대수</th>\n",
       "      <th>조기폐차</th>\n",
       "      <th>차량대수_1</th>\n",
       "      <th>등록대수_1</th>\n",
       "      <th>말소대수_1</th>\n",
       "      <th>저감대수_1</th>\n",
       "      <th>등록저감대수_1</th>\n",
       "      <th>말소저감대수_1</th>\n",
       "    </tr>\n",
       "  </thead>\n",
       "  <tbody>\n",
       "    <tr>\n",
       "      <th>64800</th>\n",
       "      <td>2022</td>\n",
       "      <td>03</td>\n",
       "      <td>경상남도</td>\n",
       "      <td>사천시</td>\n",
       "      <td>경유</td>\n",
       "      <td>화물</td>\n",
       "      <td>대형</td>\n",
       "      <td>개인용</td>\n",
       "      <td>0.00</td>\n",
       "      <td>0.00</td>\n",
       "      <td>...</td>\n",
       "      <td>0.00</td>\n",
       "      <td>0.00</td>\n",
       "      <td>0.00</td>\n",
       "      <td>0.00</td>\n",
       "      <td>0.00</td>\n",
       "      <td>0.00</td>\n",
       "      <td>0.00</td>\n",
       "      <td>0.00</td>\n",
       "      <td>0.00</td>\n",
       "      <td>0.00</td>\n",
       "    </tr>\n",
       "    <tr>\n",
       "      <th>64801</th>\n",
       "      <td>2022</td>\n",
       "      <td>04</td>\n",
       "      <td>경상남도</td>\n",
       "      <td>사천시</td>\n",
       "      <td>경유</td>\n",
       "      <td>화물</td>\n",
       "      <td>대형</td>\n",
       "      <td>개인용</td>\n",
       "      <td>0.00</td>\n",
       "      <td>0.00</td>\n",
       "      <td>...</td>\n",
       "      <td>0.00</td>\n",
       "      <td>0.00</td>\n",
       "      <td>0.00</td>\n",
       "      <td>0.00</td>\n",
       "      <td>0.00</td>\n",
       "      <td>0.00</td>\n",
       "      <td>0.00</td>\n",
       "      <td>0.00</td>\n",
       "      <td>0.00</td>\n",
       "      <td>0.00</td>\n",
       "    </tr>\n",
       "    <tr>\n",
       "      <th>64802</th>\n",
       "      <td>2022</td>\n",
       "      <td>05</td>\n",
       "      <td>경상남도</td>\n",
       "      <td>사천시</td>\n",
       "      <td>경유</td>\n",
       "      <td>화물</td>\n",
       "      <td>대형</td>\n",
       "      <td>개인용</td>\n",
       "      <td>0.00</td>\n",
       "      <td>0.00</td>\n",
       "      <td>...</td>\n",
       "      <td>0.00</td>\n",
       "      <td>0.00</td>\n",
       "      <td>0.00</td>\n",
       "      <td>0.00</td>\n",
       "      <td>41.00</td>\n",
       "      <td>0.00</td>\n",
       "      <td>0.00</td>\n",
       "      <td>21.00</td>\n",
       "      <td>0.00</td>\n",
       "      <td>0.00</td>\n",
       "    </tr>\n",
       "    <tr>\n",
       "      <th>64803</th>\n",
       "      <td>2022</td>\n",
       "      <td>06</td>\n",
       "      <td>경상남도</td>\n",
       "      <td>사천시</td>\n",
       "      <td>경유</td>\n",
       "      <td>화물</td>\n",
       "      <td>대형</td>\n",
       "      <td>개인용</td>\n",
       "      <td>41.00</td>\n",
       "      <td>21.00</td>\n",
       "      <td>...</td>\n",
       "      <td>0.00</td>\n",
       "      <td>0.00</td>\n",
       "      <td>0.00</td>\n",
       "      <td>0.00</td>\n",
       "      <td>41.00</td>\n",
       "      <td>0.00</td>\n",
       "      <td>0.00</td>\n",
       "      <td>21.00</td>\n",
       "      <td>0.00</td>\n",
       "      <td>0.00</td>\n",
       "    </tr>\n",
       "  </tbody>\n",
       "</table>\n",
       "<p>4 rows × 21 columns</p>\n",
       "</div>"
      ],
      "text/plain": [
       "         연도   월    시도 시군구_수정  연료  차종 차종유형   용도  차량대수  저감대수  ...  등록저감대수  말소대수   \n",
       "64800  2022  03  경상남도    사천시  경유  화물   대형  개인용  0.00  0.00  ...    0.00  0.00  \\\n",
       "64801  2022  04  경상남도    사천시  경유  화물   대형  개인용  0.00  0.00  ...    0.00  0.00   \n",
       "64802  2022  05  경상남도    사천시  경유  화물   대형  개인용  0.00  0.00  ...    0.00  0.00   \n",
       "64803  2022  06  경상남도    사천시  경유  화물   대형  개인용 41.00 21.00  ...    0.00  0.00   \n",
       "\n",
       "       말소저감대수  조기폐차  차량대수_1  등록대수_1  말소대수_1  저감대수_1  등록저감대수_1  말소저감대수_1  \n",
       "64800    0.00  0.00    0.00    0.00    0.00    0.00      0.00      0.00  \n",
       "64801    0.00  0.00    0.00    0.00    0.00    0.00      0.00      0.00  \n",
       "64802    0.00  0.00   41.00    0.00    0.00   21.00      0.00      0.00  \n",
       "64803    0.00  0.00   41.00    0.00    0.00   21.00      0.00      0.00  \n",
       "\n",
       "[4 rows x 21 columns]"
      ]
     },
     "execution_count": 319,
     "metadata": {},
     "output_type": "execute_result"
    }
   ],
   "source": [
    "# base4.iloc[n-3:n+1]"
   ]
  },
  {
   "cell_type": "code",
   "execution_count": 320,
   "metadata": {},
   "outputs": [],
   "source": [
    "# base4['차량대수'] = base4['차량대수_1'] - base4['등록대수_1'] + base4['말소대수_1']"
   ]
  },
  {
   "cell_type": "code",
   "execution_count": 321,
   "metadata": {},
   "outputs": [
    {
     "data": {
      "text/html": [
       "<div>\n",
       "<style scoped>\n",
       "    .dataframe tbody tr th:only-of-type {\n",
       "        vertical-align: middle;\n",
       "    }\n",
       "\n",
       "    .dataframe tbody tr th {\n",
       "        vertical-align: top;\n",
       "    }\n",
       "\n",
       "    .dataframe thead th {\n",
       "        text-align: right;\n",
       "    }\n",
       "</style>\n",
       "<table border=\"1\" class=\"dataframe\">\n",
       "  <thead>\n",
       "    <tr style=\"text-align: right;\">\n",
       "      <th></th>\n",
       "      <th>연도</th>\n",
       "      <th>월</th>\n",
       "      <th>시도</th>\n",
       "      <th>시군구_수정</th>\n",
       "      <th>연료</th>\n",
       "      <th>차종</th>\n",
       "      <th>차종유형</th>\n",
       "      <th>용도</th>\n",
       "      <th>차량대수</th>\n",
       "      <th>저감대수</th>\n",
       "      <th>...</th>\n",
       "      <th>등록저감대수</th>\n",
       "      <th>말소대수</th>\n",
       "      <th>말소저감대수</th>\n",
       "      <th>조기폐차</th>\n",
       "      <th>차량대수_1</th>\n",
       "      <th>등록대수_1</th>\n",
       "      <th>말소대수_1</th>\n",
       "      <th>저감대수_1</th>\n",
       "      <th>등록저감대수_1</th>\n",
       "      <th>말소저감대수_1</th>\n",
       "    </tr>\n",
       "  </thead>\n",
       "  <tbody>\n",
       "    <tr>\n",
       "      <th>64800</th>\n",
       "      <td>2022</td>\n",
       "      <td>03</td>\n",
       "      <td>경상남도</td>\n",
       "      <td>사천시</td>\n",
       "      <td>경유</td>\n",
       "      <td>화물</td>\n",
       "      <td>대형</td>\n",
       "      <td>개인용</td>\n",
       "      <td>0.00</td>\n",
       "      <td>0.00</td>\n",
       "      <td>...</td>\n",
       "      <td>0.00</td>\n",
       "      <td>0.00</td>\n",
       "      <td>0.00</td>\n",
       "      <td>0.00</td>\n",
       "      <td>0.00</td>\n",
       "      <td>0.00</td>\n",
       "      <td>0.00</td>\n",
       "      <td>0.00</td>\n",
       "      <td>0.00</td>\n",
       "      <td>0.00</td>\n",
       "    </tr>\n",
       "    <tr>\n",
       "      <th>64801</th>\n",
       "      <td>2022</td>\n",
       "      <td>04</td>\n",
       "      <td>경상남도</td>\n",
       "      <td>사천시</td>\n",
       "      <td>경유</td>\n",
       "      <td>화물</td>\n",
       "      <td>대형</td>\n",
       "      <td>개인용</td>\n",
       "      <td>0.00</td>\n",
       "      <td>0.00</td>\n",
       "      <td>...</td>\n",
       "      <td>0.00</td>\n",
       "      <td>0.00</td>\n",
       "      <td>0.00</td>\n",
       "      <td>0.00</td>\n",
       "      <td>0.00</td>\n",
       "      <td>0.00</td>\n",
       "      <td>0.00</td>\n",
       "      <td>0.00</td>\n",
       "      <td>0.00</td>\n",
       "      <td>0.00</td>\n",
       "    </tr>\n",
       "    <tr>\n",
       "      <th>64802</th>\n",
       "      <td>2022</td>\n",
       "      <td>05</td>\n",
       "      <td>경상남도</td>\n",
       "      <td>사천시</td>\n",
       "      <td>경유</td>\n",
       "      <td>화물</td>\n",
       "      <td>대형</td>\n",
       "      <td>개인용</td>\n",
       "      <td>41.00</td>\n",
       "      <td>0.00</td>\n",
       "      <td>...</td>\n",
       "      <td>0.00</td>\n",
       "      <td>0.00</td>\n",
       "      <td>0.00</td>\n",
       "      <td>0.00</td>\n",
       "      <td>41.00</td>\n",
       "      <td>0.00</td>\n",
       "      <td>0.00</td>\n",
       "      <td>21.00</td>\n",
       "      <td>0.00</td>\n",
       "      <td>0.00</td>\n",
       "    </tr>\n",
       "    <tr>\n",
       "      <th>64803</th>\n",
       "      <td>2022</td>\n",
       "      <td>06</td>\n",
       "      <td>경상남도</td>\n",
       "      <td>사천시</td>\n",
       "      <td>경유</td>\n",
       "      <td>화물</td>\n",
       "      <td>대형</td>\n",
       "      <td>개인용</td>\n",
       "      <td>41.00</td>\n",
       "      <td>21.00</td>\n",
       "      <td>...</td>\n",
       "      <td>0.00</td>\n",
       "      <td>0.00</td>\n",
       "      <td>0.00</td>\n",
       "      <td>0.00</td>\n",
       "      <td>41.00</td>\n",
       "      <td>0.00</td>\n",
       "      <td>0.00</td>\n",
       "      <td>21.00</td>\n",
       "      <td>0.00</td>\n",
       "      <td>0.00</td>\n",
       "    </tr>\n",
       "  </tbody>\n",
       "</table>\n",
       "<p>4 rows × 21 columns</p>\n",
       "</div>"
      ],
      "text/plain": [
       "         연도   월    시도 시군구_수정  연료  차종 차종유형   용도  차량대수  저감대수  ...  등록저감대수  말소대수   \n",
       "64800  2022  03  경상남도    사천시  경유  화물   대형  개인용  0.00  0.00  ...    0.00  0.00  \\\n",
       "64801  2022  04  경상남도    사천시  경유  화물   대형  개인용  0.00  0.00  ...    0.00  0.00   \n",
       "64802  2022  05  경상남도    사천시  경유  화물   대형  개인용 41.00  0.00  ...    0.00  0.00   \n",
       "64803  2022  06  경상남도    사천시  경유  화물   대형  개인용 41.00 21.00  ...    0.00  0.00   \n",
       "\n",
       "       말소저감대수  조기폐차  차량대수_1  등록대수_1  말소대수_1  저감대수_1  등록저감대수_1  말소저감대수_1  \n",
       "64800    0.00  0.00    0.00    0.00    0.00    0.00      0.00      0.00  \n",
       "64801    0.00  0.00    0.00    0.00    0.00    0.00      0.00      0.00  \n",
       "64802    0.00  0.00   41.00    0.00    0.00   21.00      0.00      0.00  \n",
       "64803    0.00  0.00   41.00    0.00    0.00   21.00      0.00      0.00  \n",
       "\n",
       "[4 rows x 21 columns]"
      ]
     },
     "execution_count": 321,
     "metadata": {},
     "output_type": "execute_result"
    }
   ],
   "source": [
    "# base4.iloc[n-3:n+1]"
   ]
  },
  {
   "cell_type": "code",
   "execution_count": 322,
   "metadata": {},
   "outputs": [],
   "source": [
    "# 1h 16m 23.3s\n",
    "n = len(base4['월'].unique())\n",
    "for i in range(base4.shape[0] // n):\n",
    "    for j in range(2, n+1):\n",
    "        base4.loc[(i+1)*n - j, '차량대수'] = base4.loc[(i+1)*n - (j-1), '차량대수'] + base4.loc[(i+1)*n - (j-1), '말소대수'] - base4.loc[(i+1)*n - (j-1), '등록대수']\n",
    "        base4.loc[(i+1)*n - j, '저감대수'] = base4.loc[(i+1)*n - (j-1), '저감대수'] + base4.loc[(i+1)*n - (j-1), '말소저감대수'] - base4.loc[(i+1)*n - (j-1), '등록저감대수']"
   ]
  },
  {
   "cell_type": "code",
   "execution_count": 323,
   "metadata": {},
   "outputs": [
    {
     "data": {
      "text/html": [
       "<div>\n",
       "<style scoped>\n",
       "    .dataframe tbody tr th:only-of-type {\n",
       "        vertical-align: middle;\n",
       "    }\n",
       "\n",
       "    .dataframe tbody tr th {\n",
       "        vertical-align: top;\n",
       "    }\n",
       "\n",
       "    .dataframe thead th {\n",
       "        text-align: right;\n",
       "    }\n",
       "</style>\n",
       "<table border=\"1\" class=\"dataframe\">\n",
       "  <thead>\n",
       "    <tr style=\"text-align: right;\">\n",
       "      <th></th>\n",
       "      <th>연도</th>\n",
       "      <th>월</th>\n",
       "      <th>시도</th>\n",
       "      <th>시군구_수정</th>\n",
       "      <th>연료</th>\n",
       "      <th>차종</th>\n",
       "      <th>차종유형</th>\n",
       "      <th>용도</th>\n",
       "      <th>차량대수</th>\n",
       "      <th>조기폐차</th>\n",
       "      <th>저감대수</th>\n",
       "    </tr>\n",
       "  </thead>\n",
       "  <tbody>\n",
       "    <tr>\n",
       "      <th>0</th>\n",
       "      <td>2022</td>\n",
       "      <td>03</td>\n",
       "      <td>강원특별자치도</td>\n",
       "      <td>강릉시</td>\n",
       "      <td>LPG(액화석유가스)</td>\n",
       "      <td>승용</td>\n",
       "      <td>대형</td>\n",
       "      <td>개인용</td>\n",
       "      <td>0.00</td>\n",
       "      <td>0.00</td>\n",
       "      <td>0.00</td>\n",
       "    </tr>\n",
       "    <tr>\n",
       "      <th>1</th>\n",
       "      <td>2022</td>\n",
       "      <td>04</td>\n",
       "      <td>강원특별자치도</td>\n",
       "      <td>강릉시</td>\n",
       "      <td>LPG(액화석유가스)</td>\n",
       "      <td>승용</td>\n",
       "      <td>대형</td>\n",
       "      <td>개인용</td>\n",
       "      <td>0.00</td>\n",
       "      <td>0.00</td>\n",
       "      <td>0.00</td>\n",
       "    </tr>\n",
       "    <tr>\n",
       "      <th>2</th>\n",
       "      <td>2022</td>\n",
       "      <td>05</td>\n",
       "      <td>강원특별자치도</td>\n",
       "      <td>강릉시</td>\n",
       "      <td>LPG(액화석유가스)</td>\n",
       "      <td>승용</td>\n",
       "      <td>대형</td>\n",
       "      <td>개인용</td>\n",
       "      <td>2.00</td>\n",
       "      <td>0.00</td>\n",
       "      <td>0.00</td>\n",
       "    </tr>\n",
       "    <tr>\n",
       "      <th>3</th>\n",
       "      <td>2022</td>\n",
       "      <td>06</td>\n",
       "      <td>강원특별자치도</td>\n",
       "      <td>강릉시</td>\n",
       "      <td>LPG(액화석유가스)</td>\n",
       "      <td>승용</td>\n",
       "      <td>대형</td>\n",
       "      <td>개인용</td>\n",
       "      <td>2.00</td>\n",
       "      <td>0.00</td>\n",
       "      <td>0.00</td>\n",
       "    </tr>\n",
       "    <tr>\n",
       "      <th>4</th>\n",
       "      <td>2022</td>\n",
       "      <td>03</td>\n",
       "      <td>강원특별자치도</td>\n",
       "      <td>강릉시</td>\n",
       "      <td>LPG(액화석유가스)</td>\n",
       "      <td>승용</td>\n",
       "      <td>대형</td>\n",
       "      <td>영업용</td>\n",
       "      <td>0.00</td>\n",
       "      <td>0.00</td>\n",
       "      <td>0.00</td>\n",
       "    </tr>\n",
       "    <tr>\n",
       "      <th>...</th>\n",
       "      <td>...</td>\n",
       "      <td>...</td>\n",
       "      <td>...</td>\n",
       "      <td>...</td>\n",
       "      <td>...</td>\n",
       "      <td>...</td>\n",
       "      <td>...</td>\n",
       "      <td>...</td>\n",
       "      <td>...</td>\n",
       "      <td>...</td>\n",
       "      <td>...</td>\n",
       "    </tr>\n",
       "    <tr>\n",
       "      <th>266107</th>\n",
       "      <td>2022</td>\n",
       "      <td>06</td>\n",
       "      <td>충청북도</td>\n",
       "      <td>충주시</td>\n",
       "      <td>CNG(압축천연가스)</td>\n",
       "      <td>특수</td>\n",
       "      <td>소형</td>\n",
       "      <td>영업용</td>\n",
       "      <td>0.00</td>\n",
       "      <td>0.00</td>\n",
       "      <td>0.00</td>\n",
       "    </tr>\n",
       "    <tr>\n",
       "      <th>266108</th>\n",
       "      <td>2022</td>\n",
       "      <td>03</td>\n",
       "      <td>충청북도</td>\n",
       "      <td>충주시</td>\n",
       "      <td>CNG(압축천연가스)</td>\n",
       "      <td>특수</td>\n",
       "      <td>소형</td>\n",
       "      <td>관용</td>\n",
       "      <td>0.00</td>\n",
       "      <td>0.00</td>\n",
       "      <td>0.00</td>\n",
       "    </tr>\n",
       "    <tr>\n",
       "      <th>266109</th>\n",
       "      <td>2022</td>\n",
       "      <td>04</td>\n",
       "      <td>충청북도</td>\n",
       "      <td>충주시</td>\n",
       "      <td>CNG(압축천연가스)</td>\n",
       "      <td>특수</td>\n",
       "      <td>소형</td>\n",
       "      <td>관용</td>\n",
       "      <td>0.00</td>\n",
       "      <td>0.00</td>\n",
       "      <td>0.00</td>\n",
       "    </tr>\n",
       "    <tr>\n",
       "      <th>266110</th>\n",
       "      <td>2022</td>\n",
       "      <td>05</td>\n",
       "      <td>충청북도</td>\n",
       "      <td>충주시</td>\n",
       "      <td>CNG(압축천연가스)</td>\n",
       "      <td>특수</td>\n",
       "      <td>소형</td>\n",
       "      <td>관용</td>\n",
       "      <td>0.00</td>\n",
       "      <td>0.00</td>\n",
       "      <td>0.00</td>\n",
       "    </tr>\n",
       "    <tr>\n",
       "      <th>266111</th>\n",
       "      <td>2022</td>\n",
       "      <td>06</td>\n",
       "      <td>충청북도</td>\n",
       "      <td>충주시</td>\n",
       "      <td>CNG(압축천연가스)</td>\n",
       "      <td>특수</td>\n",
       "      <td>소형</td>\n",
       "      <td>관용</td>\n",
       "      <td>0.00</td>\n",
       "      <td>0.00</td>\n",
       "      <td>0.00</td>\n",
       "    </tr>\n",
       "  </tbody>\n",
       "</table>\n",
       "<p>266112 rows × 11 columns</p>\n",
       "</div>"
      ],
      "text/plain": [
       "          연도   월       시도 시군구_수정           연료  차종 차종유형   용도  차량대수  조기폐차  저감대수\n",
       "0       2022  03  강원특별자치도    강릉시  LPG(액화석유가스)  승용   대형  개인용  0.00  0.00  0.00\n",
       "1       2022  04  강원특별자치도    강릉시  LPG(액화석유가스)  승용   대형  개인용  0.00  0.00  0.00\n",
       "2       2022  05  강원특별자치도    강릉시  LPG(액화석유가스)  승용   대형  개인용  2.00  0.00  0.00\n",
       "3       2022  06  강원특별자치도    강릉시  LPG(액화석유가스)  승용   대형  개인용  2.00  0.00  0.00\n",
       "4       2022  03  강원특별자치도    강릉시  LPG(액화석유가스)  승용   대형  영업용  0.00  0.00  0.00\n",
       "...      ...  ..      ...    ...          ...  ..  ...  ...   ...   ...   ...\n",
       "266107  2022  06     충청북도    충주시  CNG(압축천연가스)  특수   소형  영업용  0.00  0.00  0.00\n",
       "266108  2022  03     충청북도    충주시  CNG(압축천연가스)  특수   소형   관용  0.00  0.00  0.00\n",
       "266109  2022  04     충청북도    충주시  CNG(압축천연가스)  특수   소형   관용  0.00  0.00  0.00\n",
       "266110  2022  05     충청북도    충주시  CNG(압축천연가스)  특수   소형   관용  0.00  0.00  0.00\n",
       "266111  2022  06     충청북도    충주시  CNG(압축천연가스)  특수   소형   관용  0.00  0.00  0.00\n",
       "\n",
       "[266112 rows x 11 columns]"
      ]
     },
     "execution_count": 323,
     "metadata": {},
     "output_type": "execute_result"
    }
   ],
   "source": [
    "base5 = base4[['연도', '월', '시도', '시군구_수정', '연료', '차종', '차종유형', '용도', '차량대수', '조기폐차', '저감대수']]\n",
    "base5"
   ]
  },
  {
   "cell_type": "code",
   "execution_count": 324,
   "metadata": {},
   "outputs": [
    {
     "name": "stderr",
     "output_type": "stream",
     "text": [
      "C:\\Users\\kbjung\\AppData\\Local\\Temp\\ipykernel_18444\\1621268176.py:1: SettingWithCopyWarning: \n",
      "A value is trying to be set on a copy of a slice from a DataFrame.\n",
      "Try using .loc[row_indexer,col_indexer] = value instead\n",
      "\n",
      "See the caveats in the documentation: https://pandas.pydata.org/pandas-docs/stable/user_guide/indexing.html#returning-a-view-versus-a-copy\n",
      "  base5['감소대수'] = base5['차량대수'].shift() - base5['차량대수']\n",
      "C:\\Users\\kbjung\\AppData\\Local\\Temp\\ipykernel_18444\\1621268176.py:2: SettingWithCopyWarning: \n",
      "A value is trying to be set on a copy of a slice from a DataFrame.\n",
      "Try using .loc[row_indexer,col_indexer] = value instead\n",
      "\n",
      "See the caveats in the documentation: https://pandas.pydata.org/pandas-docs/stable/user_guide/indexing.html#returning-a-view-versus-a-copy\n",
      "  base5['감소율'] = base5['감소대수'] / base5['차량대수'].shift()\n"
     ]
    },
    {
     "data": {
      "text/html": [
       "<div>\n",
       "<style scoped>\n",
       "    .dataframe tbody tr th:only-of-type {\n",
       "        vertical-align: middle;\n",
       "    }\n",
       "\n",
       "    .dataframe tbody tr th {\n",
       "        vertical-align: top;\n",
       "    }\n",
       "\n",
       "    .dataframe thead th {\n",
       "        text-align: right;\n",
       "    }\n",
       "</style>\n",
       "<table border=\"1\" class=\"dataframe\">\n",
       "  <thead>\n",
       "    <tr style=\"text-align: right;\">\n",
       "      <th></th>\n",
       "      <th>연도</th>\n",
       "      <th>월</th>\n",
       "      <th>시도</th>\n",
       "      <th>시군구_수정</th>\n",
       "      <th>연료</th>\n",
       "      <th>차종</th>\n",
       "      <th>차종유형</th>\n",
       "      <th>용도</th>\n",
       "      <th>차량대수</th>\n",
       "      <th>조기폐차</th>\n",
       "      <th>저감대수</th>\n",
       "      <th>감소대수</th>\n",
       "      <th>감소율</th>\n",
       "    </tr>\n",
       "  </thead>\n",
       "  <tbody>\n",
       "    <tr>\n",
       "      <th>0</th>\n",
       "      <td>2022</td>\n",
       "      <td>03</td>\n",
       "      <td>강원특별자치도</td>\n",
       "      <td>강릉시</td>\n",
       "      <td>LPG(액화석유가스)</td>\n",
       "      <td>승용</td>\n",
       "      <td>대형</td>\n",
       "      <td>개인용</td>\n",
       "      <td>0.00</td>\n",
       "      <td>0.00</td>\n",
       "      <td>0.00</td>\n",
       "      <td>NaN</td>\n",
       "      <td>NaN</td>\n",
       "    </tr>\n",
       "    <tr>\n",
       "      <th>1</th>\n",
       "      <td>2022</td>\n",
       "      <td>04</td>\n",
       "      <td>강원특별자치도</td>\n",
       "      <td>강릉시</td>\n",
       "      <td>LPG(액화석유가스)</td>\n",
       "      <td>승용</td>\n",
       "      <td>대형</td>\n",
       "      <td>개인용</td>\n",
       "      <td>0.00</td>\n",
       "      <td>0.00</td>\n",
       "      <td>0.00</td>\n",
       "      <td>0.00</td>\n",
       "      <td>NaN</td>\n",
       "    </tr>\n",
       "    <tr>\n",
       "      <th>2</th>\n",
       "      <td>2022</td>\n",
       "      <td>05</td>\n",
       "      <td>강원특별자치도</td>\n",
       "      <td>강릉시</td>\n",
       "      <td>LPG(액화석유가스)</td>\n",
       "      <td>승용</td>\n",
       "      <td>대형</td>\n",
       "      <td>개인용</td>\n",
       "      <td>2.00</td>\n",
       "      <td>0.00</td>\n",
       "      <td>0.00</td>\n",
       "      <td>-2.00</td>\n",
       "      <td>-inf</td>\n",
       "    </tr>\n",
       "    <tr>\n",
       "      <th>3</th>\n",
       "      <td>2022</td>\n",
       "      <td>06</td>\n",
       "      <td>강원특별자치도</td>\n",
       "      <td>강릉시</td>\n",
       "      <td>LPG(액화석유가스)</td>\n",
       "      <td>승용</td>\n",
       "      <td>대형</td>\n",
       "      <td>개인용</td>\n",
       "      <td>2.00</td>\n",
       "      <td>0.00</td>\n",
       "      <td>0.00</td>\n",
       "      <td>0.00</td>\n",
       "      <td>0.00</td>\n",
       "    </tr>\n",
       "    <tr>\n",
       "      <th>4</th>\n",
       "      <td>2022</td>\n",
       "      <td>03</td>\n",
       "      <td>강원특별자치도</td>\n",
       "      <td>강릉시</td>\n",
       "      <td>LPG(액화석유가스)</td>\n",
       "      <td>승용</td>\n",
       "      <td>대형</td>\n",
       "      <td>영업용</td>\n",
       "      <td>0.00</td>\n",
       "      <td>0.00</td>\n",
       "      <td>0.00</td>\n",
       "      <td>2.00</td>\n",
       "      <td>1.00</td>\n",
       "    </tr>\n",
       "    <tr>\n",
       "      <th>...</th>\n",
       "      <td>...</td>\n",
       "      <td>...</td>\n",
       "      <td>...</td>\n",
       "      <td>...</td>\n",
       "      <td>...</td>\n",
       "      <td>...</td>\n",
       "      <td>...</td>\n",
       "      <td>...</td>\n",
       "      <td>...</td>\n",
       "      <td>...</td>\n",
       "      <td>...</td>\n",
       "      <td>...</td>\n",
       "      <td>...</td>\n",
       "    </tr>\n",
       "    <tr>\n",
       "      <th>266107</th>\n",
       "      <td>2022</td>\n",
       "      <td>06</td>\n",
       "      <td>충청북도</td>\n",
       "      <td>충주시</td>\n",
       "      <td>CNG(압축천연가스)</td>\n",
       "      <td>특수</td>\n",
       "      <td>소형</td>\n",
       "      <td>영업용</td>\n",
       "      <td>0.00</td>\n",
       "      <td>0.00</td>\n",
       "      <td>0.00</td>\n",
       "      <td>0.00</td>\n",
       "      <td>NaN</td>\n",
       "    </tr>\n",
       "    <tr>\n",
       "      <th>266108</th>\n",
       "      <td>2022</td>\n",
       "      <td>03</td>\n",
       "      <td>충청북도</td>\n",
       "      <td>충주시</td>\n",
       "      <td>CNG(압축천연가스)</td>\n",
       "      <td>특수</td>\n",
       "      <td>소형</td>\n",
       "      <td>관용</td>\n",
       "      <td>0.00</td>\n",
       "      <td>0.00</td>\n",
       "      <td>0.00</td>\n",
       "      <td>0.00</td>\n",
       "      <td>NaN</td>\n",
       "    </tr>\n",
       "    <tr>\n",
       "      <th>266109</th>\n",
       "      <td>2022</td>\n",
       "      <td>04</td>\n",
       "      <td>충청북도</td>\n",
       "      <td>충주시</td>\n",
       "      <td>CNG(압축천연가스)</td>\n",
       "      <td>특수</td>\n",
       "      <td>소형</td>\n",
       "      <td>관용</td>\n",
       "      <td>0.00</td>\n",
       "      <td>0.00</td>\n",
       "      <td>0.00</td>\n",
       "      <td>0.00</td>\n",
       "      <td>NaN</td>\n",
       "    </tr>\n",
       "    <tr>\n",
       "      <th>266110</th>\n",
       "      <td>2022</td>\n",
       "      <td>05</td>\n",
       "      <td>충청북도</td>\n",
       "      <td>충주시</td>\n",
       "      <td>CNG(압축천연가스)</td>\n",
       "      <td>특수</td>\n",
       "      <td>소형</td>\n",
       "      <td>관용</td>\n",
       "      <td>0.00</td>\n",
       "      <td>0.00</td>\n",
       "      <td>0.00</td>\n",
       "      <td>0.00</td>\n",
       "      <td>NaN</td>\n",
       "    </tr>\n",
       "    <tr>\n",
       "      <th>266111</th>\n",
       "      <td>2022</td>\n",
       "      <td>06</td>\n",
       "      <td>충청북도</td>\n",
       "      <td>충주시</td>\n",
       "      <td>CNG(압축천연가스)</td>\n",
       "      <td>특수</td>\n",
       "      <td>소형</td>\n",
       "      <td>관용</td>\n",
       "      <td>0.00</td>\n",
       "      <td>0.00</td>\n",
       "      <td>0.00</td>\n",
       "      <td>0.00</td>\n",
       "      <td>NaN</td>\n",
       "    </tr>\n",
       "  </tbody>\n",
       "</table>\n",
       "<p>266112 rows × 13 columns</p>\n",
       "</div>"
      ],
      "text/plain": [
       "          연도   월       시도 시군구_수정           연료  차종 차종유형   용도  차량대수  조기폐차  저감대수   \n",
       "0       2022  03  강원특별자치도    강릉시  LPG(액화석유가스)  승용   대형  개인용  0.00  0.00  0.00  \\\n",
       "1       2022  04  강원특별자치도    강릉시  LPG(액화석유가스)  승용   대형  개인용  0.00  0.00  0.00   \n",
       "2       2022  05  강원특별자치도    강릉시  LPG(액화석유가스)  승용   대형  개인용  2.00  0.00  0.00   \n",
       "3       2022  06  강원특별자치도    강릉시  LPG(액화석유가스)  승용   대형  개인용  2.00  0.00  0.00   \n",
       "4       2022  03  강원특별자치도    강릉시  LPG(액화석유가스)  승용   대형  영업용  0.00  0.00  0.00   \n",
       "...      ...  ..      ...    ...          ...  ..  ...  ...   ...   ...   ...   \n",
       "266107  2022  06     충청북도    충주시  CNG(압축천연가스)  특수   소형  영업용  0.00  0.00  0.00   \n",
       "266108  2022  03     충청북도    충주시  CNG(압축천연가스)  특수   소형   관용  0.00  0.00  0.00   \n",
       "266109  2022  04     충청북도    충주시  CNG(압축천연가스)  특수   소형   관용  0.00  0.00  0.00   \n",
       "266110  2022  05     충청북도    충주시  CNG(압축천연가스)  특수   소형   관용  0.00  0.00  0.00   \n",
       "266111  2022  06     충청북도    충주시  CNG(압축천연가스)  특수   소형   관용  0.00  0.00  0.00   \n",
       "\n",
       "        감소대수  감소율  \n",
       "0        NaN  NaN  \n",
       "1       0.00  NaN  \n",
       "2      -2.00 -inf  \n",
       "3       0.00 0.00  \n",
       "4       2.00 1.00  \n",
       "...      ...  ...  \n",
       "266107  0.00  NaN  \n",
       "266108  0.00  NaN  \n",
       "266109  0.00  NaN  \n",
       "266110  0.00  NaN  \n",
       "266111  0.00  NaN  \n",
       "\n",
       "[266112 rows x 13 columns]"
      ]
     },
     "execution_count": 324,
     "metadata": {},
     "output_type": "execute_result"
    }
   ],
   "source": [
    "base5['감소대수'] = base5['차량대수'].shift() - base5['차량대수']\n",
    "base5['감소율'] = base5['감소대수'] / base5['차량대수'].shift()\n",
    "base5"
   ]
  },
  {
   "cell_type": "code",
   "execution_count": 325,
   "metadata": {},
   "outputs": [
    {
     "data": {
      "text/html": [
       "<div>\n",
       "<style scoped>\n",
       "    .dataframe tbody tr th:only-of-type {\n",
       "        vertical-align: middle;\n",
       "    }\n",
       "\n",
       "    .dataframe tbody tr th {\n",
       "        vertical-align: top;\n",
       "    }\n",
       "\n",
       "    .dataframe thead th {\n",
       "        text-align: right;\n",
       "    }\n",
       "</style>\n",
       "<table border=\"1\" class=\"dataframe\">\n",
       "  <thead>\n",
       "    <tr style=\"text-align: right;\">\n",
       "      <th></th>\n",
       "      <th>연도</th>\n",
       "      <th>월</th>\n",
       "      <th>시도</th>\n",
       "      <th>시군구_수정</th>\n",
       "      <th>연료</th>\n",
       "      <th>차종</th>\n",
       "      <th>차종유형</th>\n",
       "      <th>용도</th>\n",
       "      <th>차량대수</th>\n",
       "      <th>조기폐차</th>\n",
       "      <th>저감대수</th>\n",
       "      <th>감소대수</th>\n",
       "      <th>감소율</th>\n",
       "    </tr>\n",
       "  </thead>\n",
       "  <tbody>\n",
       "    <tr>\n",
       "      <th>2</th>\n",
       "      <td>2022</td>\n",
       "      <td>05</td>\n",
       "      <td>강원특별자치도</td>\n",
       "      <td>강릉시</td>\n",
       "      <td>LPG(액화석유가스)</td>\n",
       "      <td>승용</td>\n",
       "      <td>대형</td>\n",
       "      <td>개인용</td>\n",
       "      <td>2.00</td>\n",
       "      <td>0.00</td>\n",
       "      <td>0.00</td>\n",
       "      <td>-2.00</td>\n",
       "      <td>-inf</td>\n",
       "    </tr>\n",
       "    <tr>\n",
       "      <th>3</th>\n",
       "      <td>2022</td>\n",
       "      <td>06</td>\n",
       "      <td>강원특별자치도</td>\n",
       "      <td>강릉시</td>\n",
       "      <td>LPG(액화석유가스)</td>\n",
       "      <td>승용</td>\n",
       "      <td>대형</td>\n",
       "      <td>개인용</td>\n",
       "      <td>2.00</td>\n",
       "      <td>0.00</td>\n",
       "      <td>0.00</td>\n",
       "      <td>0.00</td>\n",
       "      <td>0.00</td>\n",
       "    </tr>\n",
       "    <tr>\n",
       "      <th>14</th>\n",
       "      <td>2022</td>\n",
       "      <td>05</td>\n",
       "      <td>강원특별자치도</td>\n",
       "      <td>강릉시</td>\n",
       "      <td>LPG(액화석유가스)</td>\n",
       "      <td>승용</td>\n",
       "      <td>중형</td>\n",
       "      <td>개인용</td>\n",
       "      <td>15.00</td>\n",
       "      <td>0.00</td>\n",
       "      <td>0.00</td>\n",
       "      <td>-15.00</td>\n",
       "      <td>-inf</td>\n",
       "    </tr>\n",
       "    <tr>\n",
       "      <th>15</th>\n",
       "      <td>2022</td>\n",
       "      <td>06</td>\n",
       "      <td>강원특별자치도</td>\n",
       "      <td>강릉시</td>\n",
       "      <td>LPG(액화석유가스)</td>\n",
       "      <td>승용</td>\n",
       "      <td>중형</td>\n",
       "      <td>개인용</td>\n",
       "      <td>15.00</td>\n",
       "      <td>0.00</td>\n",
       "      <td>0.00</td>\n",
       "      <td>0.00</td>\n",
       "      <td>0.00</td>\n",
       "    </tr>\n",
       "    <tr>\n",
       "      <th>18</th>\n",
       "      <td>2022</td>\n",
       "      <td>05</td>\n",
       "      <td>강원특별자치도</td>\n",
       "      <td>강릉시</td>\n",
       "      <td>LPG(액화석유가스)</td>\n",
       "      <td>승용</td>\n",
       "      <td>중형</td>\n",
       "      <td>영업용</td>\n",
       "      <td>3.00</td>\n",
       "      <td>0.00</td>\n",
       "      <td>0.00</td>\n",
       "      <td>-3.00</td>\n",
       "      <td>-inf</td>\n",
       "    </tr>\n",
       "    <tr>\n",
       "      <th>...</th>\n",
       "      <td>...</td>\n",
       "      <td>...</td>\n",
       "      <td>...</td>\n",
       "      <td>...</td>\n",
       "      <td>...</td>\n",
       "      <td>...</td>\n",
       "      <td>...</td>\n",
       "      <td>...</td>\n",
       "      <td>...</td>\n",
       "      <td>...</td>\n",
       "      <td>...</td>\n",
       "      <td>...</td>\n",
       "      <td>...</td>\n",
       "    </tr>\n",
       "    <tr>\n",
       "      <th>265431</th>\n",
       "      <td>2022</td>\n",
       "      <td>06</td>\n",
       "      <td>충청북도</td>\n",
       "      <td>충주시</td>\n",
       "      <td>휘발유</td>\n",
       "      <td>승합</td>\n",
       "      <td>소형</td>\n",
       "      <td>개인용</td>\n",
       "      <td>3.00</td>\n",
       "      <td>0.00</td>\n",
       "      <td>0.00</td>\n",
       "      <td>0.00</td>\n",
       "      <td>0.00</td>\n",
       "    </tr>\n",
       "    <tr>\n",
       "      <th>265466</th>\n",
       "      <td>2022</td>\n",
       "      <td>05</td>\n",
       "      <td>충청북도</td>\n",
       "      <td>충주시</td>\n",
       "      <td>휘발유</td>\n",
       "      <td>화물</td>\n",
       "      <td>경형</td>\n",
       "      <td>개인용</td>\n",
       "      <td>7.00</td>\n",
       "      <td>0.00</td>\n",
       "      <td>0.00</td>\n",
       "      <td>-7.00</td>\n",
       "      <td>-inf</td>\n",
       "    </tr>\n",
       "    <tr>\n",
       "      <th>265467</th>\n",
       "      <td>2022</td>\n",
       "      <td>06</td>\n",
       "      <td>충청북도</td>\n",
       "      <td>충주시</td>\n",
       "      <td>휘발유</td>\n",
       "      <td>화물</td>\n",
       "      <td>경형</td>\n",
       "      <td>개인용</td>\n",
       "      <td>7.00</td>\n",
       "      <td>0.00</td>\n",
       "      <td>0.00</td>\n",
       "      <td>0.00</td>\n",
       "      <td>0.00</td>\n",
       "    </tr>\n",
       "    <tr>\n",
       "      <th>265478</th>\n",
       "      <td>2022</td>\n",
       "      <td>05</td>\n",
       "      <td>충청북도</td>\n",
       "      <td>충주시</td>\n",
       "      <td>휘발유</td>\n",
       "      <td>화물</td>\n",
       "      <td>소형</td>\n",
       "      <td>개인용</td>\n",
       "      <td>15.00</td>\n",
       "      <td>0.00</td>\n",
       "      <td>0.00</td>\n",
       "      <td>-15.00</td>\n",
       "      <td>-inf</td>\n",
       "    </tr>\n",
       "    <tr>\n",
       "      <th>265479</th>\n",
       "      <td>2022</td>\n",
       "      <td>06</td>\n",
       "      <td>충청북도</td>\n",
       "      <td>충주시</td>\n",
       "      <td>휘발유</td>\n",
       "      <td>화물</td>\n",
       "      <td>소형</td>\n",
       "      <td>개인용</td>\n",
       "      <td>15.00</td>\n",
       "      <td>0.00</td>\n",
       "      <td>0.00</td>\n",
       "      <td>0.00</td>\n",
       "      <td>0.00</td>\n",
       "    </tr>\n",
       "  </tbody>\n",
       "</table>\n",
       "<p>20330 rows × 13 columns</p>\n",
       "</div>"
      ],
      "text/plain": [
       "          연도   월       시도 시군구_수정           연료  차종 차종유형   용도  차량대수  조기폐차  저감대수   \n",
       "2       2022  05  강원특별자치도    강릉시  LPG(액화석유가스)  승용   대형  개인용  2.00  0.00  0.00  \\\n",
       "3       2022  06  강원특별자치도    강릉시  LPG(액화석유가스)  승용   대형  개인용  2.00  0.00  0.00   \n",
       "14      2022  05  강원특별자치도    강릉시  LPG(액화석유가스)  승용   중형  개인용 15.00  0.00  0.00   \n",
       "15      2022  06  강원특별자치도    강릉시  LPG(액화석유가스)  승용   중형  개인용 15.00  0.00  0.00   \n",
       "18      2022  05  강원특별자치도    강릉시  LPG(액화석유가스)  승용   중형  영업용  3.00  0.00  0.00   \n",
       "...      ...  ..      ...    ...          ...  ..  ...  ...   ...   ...   ...   \n",
       "265431  2022  06     충청북도    충주시          휘발유  승합   소형  개인용  3.00  0.00  0.00   \n",
       "265466  2022  05     충청북도    충주시          휘발유  화물   경형  개인용  7.00  0.00  0.00   \n",
       "265467  2022  06     충청북도    충주시          휘발유  화물   경형  개인용  7.00  0.00  0.00   \n",
       "265478  2022  05     충청북도    충주시          휘발유  화물   소형  개인용 15.00  0.00  0.00   \n",
       "265479  2022  06     충청북도    충주시          휘발유  화물   소형  개인용 15.00  0.00  0.00   \n",
       "\n",
       "         감소대수  감소율  \n",
       "2       -2.00 -inf  \n",
       "3        0.00 0.00  \n",
       "14     -15.00 -inf  \n",
       "15       0.00 0.00  \n",
       "18      -3.00 -inf  \n",
       "...       ...  ...  \n",
       "265431   0.00 0.00  \n",
       "265466  -7.00 -inf  \n",
       "265467   0.00 0.00  \n",
       "265478 -15.00 -inf  \n",
       "265479   0.00 0.00  \n",
       "\n",
       "[20330 rows x 13 columns]"
      ]
     },
     "execution_count": 325,
     "metadata": {},
     "output_type": "execute_result"
    }
   ],
   "source": [
    "base5[base5['차량대수'] > 0]"
   ]
  },
  {
   "cell_type": "code",
   "execution_count": 326,
   "metadata": {},
   "outputs": [
    {
     "data": {
      "text/html": [
       "<div>\n",
       "<style scoped>\n",
       "    .dataframe tbody tr th:only-of-type {\n",
       "        vertical-align: middle;\n",
       "    }\n",
       "\n",
       "    .dataframe tbody tr th {\n",
       "        vertical-align: top;\n",
       "    }\n",
       "\n",
       "    .dataframe thead th {\n",
       "        text-align: right;\n",
       "    }\n",
       "</style>\n",
       "<table border=\"1\" class=\"dataframe\">\n",
       "  <thead>\n",
       "    <tr style=\"text-align: right;\">\n",
       "      <th></th>\n",
       "      <th>연도</th>\n",
       "      <th>월</th>\n",
       "      <th>시도</th>\n",
       "      <th>시군구_수정</th>\n",
       "      <th>연료</th>\n",
       "      <th>차종</th>\n",
       "      <th>차종유형</th>\n",
       "      <th>용도</th>\n",
       "      <th>차량대수</th>\n",
       "      <th>조기폐차</th>\n",
       "      <th>저감대수</th>\n",
       "      <th>감소대수</th>\n",
       "      <th>감소율</th>\n",
       "    </tr>\n",
       "  </thead>\n",
       "  <tbody>\n",
       "    <tr>\n",
       "      <th>12</th>\n",
       "      <td>2022</td>\n",
       "      <td>03</td>\n",
       "      <td>강원특별자치도</td>\n",
       "      <td>강릉시</td>\n",
       "      <td>LPG(액화석유가스)</td>\n",
       "      <td>승용</td>\n",
       "      <td>중형</td>\n",
       "      <td>개인용</td>\n",
       "      <td>0.00</td>\n",
       "      <td>0.00</td>\n",
       "      <td>0.00</td>\n",
       "      <td>0.00</td>\n",
       "      <td>NaN</td>\n",
       "    </tr>\n",
       "    <tr>\n",
       "      <th>13</th>\n",
       "      <td>2022</td>\n",
       "      <td>04</td>\n",
       "      <td>강원특별자치도</td>\n",
       "      <td>강릉시</td>\n",
       "      <td>LPG(액화석유가스)</td>\n",
       "      <td>승용</td>\n",
       "      <td>중형</td>\n",
       "      <td>개인용</td>\n",
       "      <td>0.00</td>\n",
       "      <td>0.00</td>\n",
       "      <td>0.00</td>\n",
       "      <td>0.00</td>\n",
       "      <td>NaN</td>\n",
       "    </tr>\n",
       "    <tr>\n",
       "      <th>14</th>\n",
       "      <td>2022</td>\n",
       "      <td>05</td>\n",
       "      <td>강원특별자치도</td>\n",
       "      <td>강릉시</td>\n",
       "      <td>LPG(액화석유가스)</td>\n",
       "      <td>승용</td>\n",
       "      <td>중형</td>\n",
       "      <td>개인용</td>\n",
       "      <td>15.00</td>\n",
       "      <td>0.00</td>\n",
       "      <td>0.00</td>\n",
       "      <td>-15.00</td>\n",
       "      <td>-inf</td>\n",
       "    </tr>\n",
       "    <tr>\n",
       "      <th>15</th>\n",
       "      <td>2022</td>\n",
       "      <td>06</td>\n",
       "      <td>강원특별자치도</td>\n",
       "      <td>강릉시</td>\n",
       "      <td>LPG(액화석유가스)</td>\n",
       "      <td>승용</td>\n",
       "      <td>중형</td>\n",
       "      <td>개인용</td>\n",
       "      <td>15.00</td>\n",
       "      <td>0.00</td>\n",
       "      <td>0.00</td>\n",
       "      <td>0.00</td>\n",
       "      <td>0.00</td>\n",
       "    </tr>\n",
       "  </tbody>\n",
       "</table>\n",
       "</div>"
      ],
      "text/plain": [
       "      연도   월       시도 시군구_수정           연료  차종 차종유형   용도  차량대수  조기폐차  저감대수   \n",
       "12  2022  03  강원특별자치도    강릉시  LPG(액화석유가스)  승용   중형  개인용  0.00  0.00  0.00  \\\n",
       "13  2022  04  강원특별자치도    강릉시  LPG(액화석유가스)  승용   중형  개인용  0.00  0.00  0.00   \n",
       "14  2022  05  강원특별자치도    강릉시  LPG(액화석유가스)  승용   중형  개인용 15.00  0.00  0.00   \n",
       "15  2022  06  강원특별자치도    강릉시  LPG(액화석유가스)  승용   중형  개인용 15.00  0.00  0.00   \n",
       "\n",
       "     감소대수  감소율  \n",
       "12   0.00  NaN  \n",
       "13   0.00  NaN  \n",
       "14 -15.00 -inf  \n",
       "15   0.00 0.00  "
      ]
     },
     "execution_count": 326,
     "metadata": {},
     "output_type": "execute_result"
    }
   ],
   "source": [
    "base5.iloc[12:16]"
   ]
  },
  {
   "cell_type": "code",
   "execution_count": 327,
   "metadata": {},
   "outputs": [
    {
     "data": {
      "text/plain": [
       "(8509, 13)"
      ]
     },
     "execution_count": 327,
     "metadata": {},
     "output_type": "execute_result"
    }
   ],
   "source": [
    "base5[(base5['감소율'] == -np.inf) | (base5['감소율'] == np.inf)].shape"
   ]
  },
  {
   "cell_type": "code",
   "execution_count": 328,
   "metadata": {},
   "outputs": [
    {
     "name": "stderr",
     "output_type": "stream",
     "text": [
      "C:\\Users\\kbjung\\AppData\\Local\\Temp\\ipykernel_18444\\4105222230.py:2: SettingWithCopyWarning: \n",
      "A value is trying to be set on a copy of a slice from a DataFrame.\n",
      "Try using .loc[row_indexer,col_indexer] = value instead\n",
      "\n",
      "See the caveats in the documentation: https://pandas.pydata.org/pandas-docs/stable/user_guide/indexing.html#returning-a-view-versus-a-copy\n",
      "  base5['감소율'] = base5['감소율'].fillna(0)\n"
     ]
    }
   ],
   "source": [
    "base5.loc[(base5['감소율'] == -np.inf) | (base5['감소율'] == np.inf), '감소율'] = 0\n",
    "base5['감소율'] = base5['감소율'].fillna(0)"
   ]
  },
  {
   "cell_type": "code",
   "execution_count": 329,
   "metadata": {},
   "outputs": [
    {
     "name": "stderr",
     "output_type": "stream",
     "text": [
      "C:\\Users\\kbjung\\AppData\\Local\\Temp\\ipykernel_18444\\3981500916.py:1: SettingWithCopyWarning: \n",
      "A value is trying to be set on a copy of a slice from a DataFrame.\n",
      "Try using .loc[row_indexer,col_indexer] = value instead\n",
      "\n",
      "See the caveats in the documentation: https://pandas.pydata.org/pandas-docs/stable/user_guide/indexing.html#returning-a-view-versus-a-copy\n",
      "  base5['저감장치미부착대수'] = base5['차량대수'] - base5['저감대수']\n"
     ]
    }
   ],
   "source": [
    "base5['저감장치미부착대수'] = base5['차량대수'] - base5['저감대수']"
   ]
  },
  {
   "cell_type": "code",
   "execution_count": 330,
   "metadata": {},
   "outputs": [
    {
     "data": {
      "text/plain": [
       "(0, 14)"
      ]
     },
     "execution_count": 330,
     "metadata": {},
     "output_type": "execute_result"
    }
   ],
   "source": [
    "base5[base5['차량대수'] < 0].shape"
   ]
  },
  {
   "cell_type": "code",
   "execution_count": 331,
   "metadata": {},
   "outputs": [
    {
     "data": {
      "text/plain": [
       "(0, 14)"
      ]
     },
     "execution_count": 331,
     "metadata": {},
     "output_type": "execute_result"
    }
   ],
   "source": [
    "base5[base5['저감장치미부착대수'] < 0].shape"
   ]
  },
  {
   "cell_type": "code",
   "execution_count": 332,
   "metadata": {},
   "outputs": [],
   "source": [
    "base5.loc[base5['차량대수'] < 0, '차량대수'] = 0\n",
    "base5.loc[base5['저감장치미부착대수'] < 0, '저감장치미부착대수'] = 0"
   ]
  },
  {
   "cell_type": "code",
   "execution_count": 333,
   "metadata": {},
   "outputs": [
    {
     "data": {
      "text/html": [
       "<div>\n",
       "<style scoped>\n",
       "    .dataframe tbody tr th:only-of-type {\n",
       "        vertical-align: middle;\n",
       "    }\n",
       "\n",
       "    .dataframe tbody tr th {\n",
       "        vertical-align: top;\n",
       "    }\n",
       "\n",
       "    .dataframe thead th {\n",
       "        text-align: right;\n",
       "    }\n",
       "</style>\n",
       "<table border=\"1\" class=\"dataframe\">\n",
       "  <thead>\n",
       "    <tr style=\"text-align: right;\">\n",
       "      <th></th>\n",
       "      <th>연도</th>\n",
       "      <th>월</th>\n",
       "      <th>시도</th>\n",
       "      <th>시군구_수정</th>\n",
       "      <th>연료</th>\n",
       "      <th>차종</th>\n",
       "      <th>차종유형</th>\n",
       "      <th>용도</th>\n",
       "      <th>차량대수</th>\n",
       "      <th>조기폐차</th>\n",
       "      <th>저감대수</th>\n",
       "      <th>감소대수</th>\n",
       "      <th>감소율</th>\n",
       "      <th>저감장치미부착대수</th>\n",
       "    </tr>\n",
       "  </thead>\n",
       "  <tbody>\n",
       "    <tr>\n",
       "      <th>0</th>\n",
       "      <td>2022</td>\n",
       "      <td>03</td>\n",
       "      <td>강원특별자치도</td>\n",
       "      <td>강릉시</td>\n",
       "      <td>LPG(액화석유가스)</td>\n",
       "      <td>승용</td>\n",
       "      <td>대형</td>\n",
       "      <td>개인용</td>\n",
       "      <td>0.00</td>\n",
       "      <td>0.00</td>\n",
       "      <td>0.00</td>\n",
       "      <td>NaN</td>\n",
       "      <td>0.00</td>\n",
       "      <td>0.00</td>\n",
       "    </tr>\n",
       "    <tr>\n",
       "      <th>1</th>\n",
       "      <td>2022</td>\n",
       "      <td>04</td>\n",
       "      <td>강원특별자치도</td>\n",
       "      <td>강릉시</td>\n",
       "      <td>LPG(액화석유가스)</td>\n",
       "      <td>승용</td>\n",
       "      <td>대형</td>\n",
       "      <td>개인용</td>\n",
       "      <td>0.00</td>\n",
       "      <td>0.00</td>\n",
       "      <td>0.00</td>\n",
       "      <td>0.00</td>\n",
       "      <td>0.00</td>\n",
       "      <td>0.00</td>\n",
       "    </tr>\n",
       "    <tr>\n",
       "      <th>2</th>\n",
       "      <td>2022</td>\n",
       "      <td>05</td>\n",
       "      <td>강원특별자치도</td>\n",
       "      <td>강릉시</td>\n",
       "      <td>LPG(액화석유가스)</td>\n",
       "      <td>승용</td>\n",
       "      <td>대형</td>\n",
       "      <td>개인용</td>\n",
       "      <td>2.00</td>\n",
       "      <td>0.00</td>\n",
       "      <td>0.00</td>\n",
       "      <td>-2.00</td>\n",
       "      <td>0.00</td>\n",
       "      <td>2.00</td>\n",
       "    </tr>\n",
       "    <tr>\n",
       "      <th>3</th>\n",
       "      <td>2022</td>\n",
       "      <td>06</td>\n",
       "      <td>강원특별자치도</td>\n",
       "      <td>강릉시</td>\n",
       "      <td>LPG(액화석유가스)</td>\n",
       "      <td>승용</td>\n",
       "      <td>대형</td>\n",
       "      <td>개인용</td>\n",
       "      <td>2.00</td>\n",
       "      <td>0.00</td>\n",
       "      <td>0.00</td>\n",
       "      <td>0.00</td>\n",
       "      <td>0.00</td>\n",
       "      <td>2.00</td>\n",
       "    </tr>\n",
       "    <tr>\n",
       "      <th>4</th>\n",
       "      <td>2022</td>\n",
       "      <td>03</td>\n",
       "      <td>강원특별자치도</td>\n",
       "      <td>강릉시</td>\n",
       "      <td>LPG(액화석유가스)</td>\n",
       "      <td>승용</td>\n",
       "      <td>대형</td>\n",
       "      <td>영업용</td>\n",
       "      <td>0.00</td>\n",
       "      <td>0.00</td>\n",
       "      <td>0.00</td>\n",
       "      <td>2.00</td>\n",
       "      <td>1.00</td>\n",
       "      <td>0.00</td>\n",
       "    </tr>\n",
       "  </tbody>\n",
       "</table>\n",
       "</div>"
      ],
      "text/plain": [
       "     연도   월       시도 시군구_수정           연료  차종 차종유형   용도  차량대수  조기폐차  저감대수   \n",
       "0  2022  03  강원특별자치도    강릉시  LPG(액화석유가스)  승용   대형  개인용  0.00  0.00  0.00  \\\n",
       "1  2022  04  강원특별자치도    강릉시  LPG(액화석유가스)  승용   대형  개인용  0.00  0.00  0.00   \n",
       "2  2022  05  강원특별자치도    강릉시  LPG(액화석유가스)  승용   대형  개인용  2.00  0.00  0.00   \n",
       "3  2022  06  강원특별자치도    강릉시  LPG(액화석유가스)  승용   대형  개인용  2.00  0.00  0.00   \n",
       "4  2022  03  강원특별자치도    강릉시  LPG(액화석유가스)  승용   대형  영업용  0.00  0.00  0.00   \n",
       "\n",
       "   감소대수  감소율  저감장치미부착대수  \n",
       "0   NaN 0.00       0.00  \n",
       "1  0.00 0.00       0.00  \n",
       "2 -2.00 0.00       2.00  \n",
       "3  0.00 0.00       2.00  \n",
       "4  2.00 1.00       0.00  "
      ]
     },
     "execution_count": 333,
     "metadata": {},
     "output_type": "execute_result"
    }
   ],
   "source": [
    "base5.head()"
   ]
  },
  {
   "cell_type": "code",
   "execution_count": 334,
   "metadata": {},
   "outputs": [],
   "source": [
    "base5.loc[[x for x in range(0, base5.shape[0], div)], '감소율'] = 0 # !!! 수정(2023.11.09)"
   ]
  },
  {
   "cell_type": "code",
   "execution_count": 335,
   "metadata": {},
   "outputs": [
    {
     "data": {
      "text/html": [
       "<div>\n",
       "<style scoped>\n",
       "    .dataframe tbody tr th:only-of-type {\n",
       "        vertical-align: middle;\n",
       "    }\n",
       "\n",
       "    .dataframe tbody tr th {\n",
       "        vertical-align: top;\n",
       "    }\n",
       "\n",
       "    .dataframe thead th {\n",
       "        text-align: right;\n",
       "    }\n",
       "</style>\n",
       "<table border=\"1\" class=\"dataframe\">\n",
       "  <thead>\n",
       "    <tr style=\"text-align: right;\">\n",
       "      <th></th>\n",
       "      <th>연도</th>\n",
       "      <th>월</th>\n",
       "      <th>시도</th>\n",
       "      <th>시군구_수정</th>\n",
       "      <th>연료</th>\n",
       "      <th>차종</th>\n",
       "      <th>차종유형</th>\n",
       "      <th>용도</th>\n",
       "      <th>차량대수</th>\n",
       "      <th>조기폐차</th>\n",
       "      <th>저감대수</th>\n",
       "      <th>감소대수</th>\n",
       "      <th>감소율</th>\n",
       "      <th>저감장치미부착대수</th>\n",
       "    </tr>\n",
       "  </thead>\n",
       "  <tbody>\n",
       "    <tr>\n",
       "      <th>0</th>\n",
       "      <td>2022</td>\n",
       "      <td>03</td>\n",
       "      <td>강원특별자치도</td>\n",
       "      <td>강릉시</td>\n",
       "      <td>LPG(액화석유가스)</td>\n",
       "      <td>승용</td>\n",
       "      <td>대형</td>\n",
       "      <td>개인용</td>\n",
       "      <td>0.00</td>\n",
       "      <td>0.00</td>\n",
       "      <td>0.00</td>\n",
       "      <td>NaN</td>\n",
       "      <td>0.00</td>\n",
       "      <td>0.00</td>\n",
       "    </tr>\n",
       "    <tr>\n",
       "      <th>1</th>\n",
       "      <td>2022</td>\n",
       "      <td>04</td>\n",
       "      <td>강원특별자치도</td>\n",
       "      <td>강릉시</td>\n",
       "      <td>LPG(액화석유가스)</td>\n",
       "      <td>승용</td>\n",
       "      <td>대형</td>\n",
       "      <td>개인용</td>\n",
       "      <td>0.00</td>\n",
       "      <td>0.00</td>\n",
       "      <td>0.00</td>\n",
       "      <td>0.00</td>\n",
       "      <td>0.00</td>\n",
       "      <td>0.00</td>\n",
       "    </tr>\n",
       "    <tr>\n",
       "      <th>2</th>\n",
       "      <td>2022</td>\n",
       "      <td>05</td>\n",
       "      <td>강원특별자치도</td>\n",
       "      <td>강릉시</td>\n",
       "      <td>LPG(액화석유가스)</td>\n",
       "      <td>승용</td>\n",
       "      <td>대형</td>\n",
       "      <td>개인용</td>\n",
       "      <td>2.00</td>\n",
       "      <td>0.00</td>\n",
       "      <td>0.00</td>\n",
       "      <td>-2.00</td>\n",
       "      <td>0.00</td>\n",
       "      <td>2.00</td>\n",
       "    </tr>\n",
       "    <tr>\n",
       "      <th>3</th>\n",
       "      <td>2022</td>\n",
       "      <td>06</td>\n",
       "      <td>강원특별자치도</td>\n",
       "      <td>강릉시</td>\n",
       "      <td>LPG(액화석유가스)</td>\n",
       "      <td>승용</td>\n",
       "      <td>대형</td>\n",
       "      <td>개인용</td>\n",
       "      <td>2.00</td>\n",
       "      <td>0.00</td>\n",
       "      <td>0.00</td>\n",
       "      <td>0.00</td>\n",
       "      <td>0.00</td>\n",
       "      <td>2.00</td>\n",
       "    </tr>\n",
       "    <tr>\n",
       "      <th>4</th>\n",
       "      <td>2022</td>\n",
       "      <td>03</td>\n",
       "      <td>강원특별자치도</td>\n",
       "      <td>강릉시</td>\n",
       "      <td>LPG(액화석유가스)</td>\n",
       "      <td>승용</td>\n",
       "      <td>대형</td>\n",
       "      <td>영업용</td>\n",
       "      <td>0.00</td>\n",
       "      <td>0.00</td>\n",
       "      <td>0.00</td>\n",
       "      <td>2.00</td>\n",
       "      <td>0.00</td>\n",
       "      <td>0.00</td>\n",
       "    </tr>\n",
       "  </tbody>\n",
       "</table>\n",
       "</div>"
      ],
      "text/plain": [
       "     연도   월       시도 시군구_수정           연료  차종 차종유형   용도  차량대수  조기폐차  저감대수   \n",
       "0  2022  03  강원특별자치도    강릉시  LPG(액화석유가스)  승용   대형  개인용  0.00  0.00  0.00  \\\n",
       "1  2022  04  강원특별자치도    강릉시  LPG(액화석유가스)  승용   대형  개인용  0.00  0.00  0.00   \n",
       "2  2022  05  강원특별자치도    강릉시  LPG(액화석유가스)  승용   대형  개인용  2.00  0.00  0.00   \n",
       "3  2022  06  강원특별자치도    강릉시  LPG(액화석유가스)  승용   대형  개인용  2.00  0.00  0.00   \n",
       "4  2022  03  강원특별자치도    강릉시  LPG(액화석유가스)  승용   대형  영업용  0.00  0.00  0.00   \n",
       "\n",
       "   감소대수  감소율  저감장치미부착대수  \n",
       "0   NaN 0.00       0.00  \n",
       "1  0.00 0.00       0.00  \n",
       "2 -2.00 0.00       2.00  \n",
       "3  0.00 0.00       2.00  \n",
       "4  2.00 0.00       0.00  "
      ]
     },
     "execution_count": 335,
     "metadata": {},
     "output_type": "execute_result"
    }
   ],
   "source": [
    "base5.head()"
   ]
  },
  {
   "cell_type": "code",
   "execution_count": 336,
   "metadata": {},
   "outputs": [
    {
     "name": "stderr",
     "output_type": "stream",
     "text": [
      "C:\\Users\\kbjung\\AppData\\Local\\Temp\\ipykernel_18444\\3755925745.py:1: SettingWithCopyWarning: \n",
      "A value is trying to be set on a copy of a slice from a DataFrame.\n",
      "Try using .loc[row_indexer,col_indexer] = value instead\n",
      "\n",
      "See the caveats in the documentation: https://pandas.pydata.org/pandas-docs/stable/user_guide/indexing.html#returning-a-view-versus-a-copy\n",
      "  base5['테이블생성일자'] = today_date\n"
     ]
    }
   ],
   "source": [
    "base5['테이블생성일자'] = today_date"
   ]
  },
  {
   "cell_type": "code",
   "execution_count": 337,
   "metadata": {},
   "outputs": [
    {
     "data": {
      "text/plain": [
       "Index(['연도', '월', '시도', '시군구_수정', '연료', '차종', '차종유형', '용도', '차량대수', '조기폐차대수',\n",
       "       '저감장치부착대수', '감소대수', '감소율', '저감장치미부착대수', '테이블생성일자'],\n",
       "      dtype='object')"
      ]
     },
     "execution_count": 337,
     "metadata": {},
     "output_type": "execute_result"
    }
   ],
   "source": [
    "base5 = base5.rename(columns={'조기폐차':'조기폐차대수', '저감대수':'저감장치부착대수'})\n",
    "base5.columns"
   ]
  },
  {
   "cell_type": "code",
   "execution_count": 338,
   "metadata": {},
   "outputs": [],
   "source": [
    "STD_BD_DAT_GRD4_CAR_CURSTT = base5[[\n",
    "    '연도',\n",
    "    '월',\n",
    "    '시도',\n",
    "    '시군구_수정',\n",
    "    '연료',\n",
    "    '차종',\n",
    "    '차종유형', \n",
    "    '용도',\n",
    "    '차량대수',\n",
    "    '감소율',\n",
    "    '저감장치부착대수',\n",
    "    '저감장치미부착대수',\n",
    "    '조기폐차대수',\n",
    "    '테이블생성일자',\n",
    "]]"
   ]
  },
  {
   "cell_type": "code",
   "execution_count": 339,
   "metadata": {},
   "outputs": [],
   "source": [
    "chc_col = {\n",
    "    '연도':'YR',\n",
    "    '월':'MM',\n",
    "    '시도':'CTPV',\n",
    "    '시군구_수정':'SGG',\n",
    "    '연료':'FUEL_CD',\n",
    "    '차종':'VHCTY_CD',\n",
    "    '차종유형':'VHCTY_TY', \n",
    "    '용도':'PURPS_CD2',\n",
    "    '차량대수':'VHCL_MKCNT',\n",
    "    '감소율':'DEC_RT',\n",
    "    '저감장치부착대수':'RDCDVC_EXTRNS_MKCNT',\n",
    "    '저감장치미부착대수':'RDCDVC_UNAT_MKCNT',\n",
    "    '조기폐차대수':'ELPDSRC_MKCNT',\n",
    "    '테이블생성일자':'LOAD_DT', \n",
    "}"
   ]
  },
  {
   "cell_type": "code",
   "execution_count": 340,
   "metadata": {},
   "outputs": [
    {
     "data": {
      "text/plain": [
       "Index(['YR', 'MM', 'CTPV', 'SGG', 'FUEL_CD', 'VHCTY_CD', 'VHCTY_TY',\n",
       "       'PURPS_CD2', 'VHCL_MKCNT', 'DEC_RT', 'RDCDVC_EXTRNS_MKCNT',\n",
       "       'RDCDVC_UNAT_MKCNT', 'ELPDSRC_MKCNT', 'LOAD_DT'],\n",
       "      dtype='object')"
      ]
     },
     "execution_count": 340,
     "metadata": {},
     "output_type": "execute_result"
    }
   ],
   "source": [
    "STD_BD_DAT_GRD4_CAR_CURSTT = STD_BD_DAT_GRD4_CAR_CURSTT.rename(columns=chc_col)\n",
    "STD_BD_DAT_GRD4_CAR_CURSTT.columns"
   ]
  },
  {
   "cell_type": "markdown",
   "metadata": {},
   "source": [
    "### [출력] STD_BD_DAT_GRD4_CAR_CURSTT"
   ]
  },
  {
   "cell_type": "code",
   "execution_count": 341,
   "metadata": {},
   "outputs": [],
   "source": [
    "# expdf = STD_BD_DAT_GRD4_CAR_CURSTT\n",
    "# table_nm = 'STD_BD_DAT_GRD4_CAR_CURSTT'.upper()\n",
    "\n",
    "# # 테이블 생성\n",
    "# sql = 'create or replace table ' + table_nm + '( \\n'\n",
    "\n",
    "# for idx,column in enumerate(expdf.columns):\n",
    "#     # if 'float' in expdf[column].dtype.name:\n",
    "#     #     sql += column + ' float'\n",
    "#     # elif 'int' in expdf[column].dtype.name:\n",
    "#     #     sql += column + ' number'\n",
    "#     # else:\n",
    "#     sql += column + ' varchar(255)'\n",
    "\n",
    "#     if len(expdf.columns) - 1 != idx:\n",
    "#         sql += ','\n",
    "#     sql += '\\n'\n",
    "# sql += ')'    \n",
    "# we.execute(sql)\n",
    "\n",
    "# # 데이터 추가\n",
    "# # 5s\n",
    "# we.import_from_pandas(expdf, table_nm)"
   ]
  },
  {
   "cell_type": "code",
   "execution_count": 428,
   "metadata": {},
   "outputs": [],
   "source": [
    "# # 2s\n",
    "# STD_BD_DAT_GRD4_CAR_CURSTT.to_csv(os.path.join(df1_fold, 'STD_BD_DAT_GRD4_CAR_CURSTT(edited).csv'), index=False)"
   ]
  },
  {
   "cell_type": "markdown",
   "metadata": {},
   "source": [
    "# code end"
   ]
  }
 ],
 "metadata": {
  "interpreter": {
   "hash": "569b4317022eb29baeafb3d0f1f739310808ea28ce83ca127a35db1c01070585"
  },
  "kernelspec": {
   "display_name": "Python 3.9.12 ('base')",
   "language": "python",
   "name": "python3"
  },
  "language_info": {
   "codemirror_mode": {
    "name": "ipython",
    "version": 3
   },
   "file_extension": ".py",
   "mimetype": "text/x-python",
   "name": "python",
   "nbconvert_exporter": "python",
   "pygments_lexer": "ipython3",
   "version": "3.11.4"
  },
  "orig_nbformat": 4
 },
 "nbformat": 4,
 "nbformat_minor": 2
}
