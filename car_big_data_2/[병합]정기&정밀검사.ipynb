{
 "cells": [
  {
   "attachments": {},
   "cell_type": "markdown",
   "metadata": {},
   "source": [
    "# Library"
   ]
  },
  {
   "cell_type": "code",
   "execution_count": 1,
   "metadata": {},
   "outputs": [],
   "source": [
    "import pandas as pd\n",
    "import os"
   ]
  },
  {
   "cell_type": "code",
   "execution_count": 2,
   "metadata": {},
   "outputs": [],
   "source": [
    "# 소수점 옵션\n",
    "pd.options.display.float_format = '{:.2f}'.format\n",
    "# pd.reset_option('display.float_format')"
   ]
  },
  {
   "attachments": {},
   "cell_type": "markdown",
   "metadata": {},
   "source": [
    "# File Load\n",
    "- 정기\n",
    "- 정밀"
   ]
  },
  {
   "cell_type": "code",
   "execution_count": 3,
   "metadata": {},
   "outputs": [],
   "source": [
    "ods_fold = 'D:/data/big2/ODS'"
   ]
  },
  {
   "cell_type": "code",
   "execution_count": 4,
   "metadata": {},
   "outputs": [],
   "source": [
    "# about 3m 33s\n",
    "file_name = '[ODS]정기검사(2022.12.28).csv'\n",
    "ins = pd.read_csv(os.path.join(ods_fold, file_name), low_memory=False)"
   ]
  },
  {
   "cell_type": "code",
   "execution_count": 5,
   "metadata": {},
   "outputs": [
    {
     "name": "stdout",
     "output_type": "stream",
     "text": [
      "<class 'pandas.core.frame.DataFrame'>\n",
      "RangeIndex: 22006426 entries, 0 to 22006425\n",
      "Data columns (total 41 columns):\n",
      " #   Column      Dtype  \n",
      "---  ------      -----  \n",
      " 0   사용연료        object \n",
      " 1   주행거리        object \n",
      " 2   차명          object \n",
      " 3   차량번호        object \n",
      " 4   차대번호        object \n",
      " 5   차종          object \n",
      " 6   차량연식        int64  \n",
      " 7   엔진형식        object \n",
      " 8   검사방법        object \n",
      " 9   검사일자        int64  \n",
      " 10  검사종류        object \n",
      " 11  검사판정시각      object \n",
      " 12  검사판정        object \n",
      " 13  산소값         float64\n",
      " 14  이산화탄소값      float64\n",
      " 15  무부하매연판정1    object \n",
      " 16  무부하매연판정2    object \n",
      " 17  무부하매연판정3    object \n",
      " 18  무부하매연판정4    object \n",
      " 19  무부하매연판정5    object \n",
      " 20  무부하매연판정6    object \n",
      " 21  무부하매연허용치1   float64\n",
      " 22  무부하매연허용치2   float64\n",
      " 23  무부하매연허용치3   float64\n",
      " 24  무부하매연허용치4   float64\n",
      " 25  무부하매연허용치5   float64\n",
      " 26  무부하매연허용치6   float64\n",
      " 27  무부하매연측정치1   float64\n",
      " 28  무부하매연측정치2   float64\n",
      " 29  무부하매연측정치3   float64\n",
      " 30  무부하매연측정치4   float64\n",
      " 31  무부하매연측정치5   float64\n",
      " 32  무부하매연측정치6   float64\n",
      " 33  검사유효기간      object \n",
      " 34  차량용도        object \n",
      " 35  최대출력허용치     float64\n",
      " 36  최대출력측정값     float64\n",
      " 37  검사접수번호      object \n",
      " 38  검사소명        object \n",
      " 39  재검사기간       object \n",
      " 40  검사전유효기간만료일  float64\n",
      "dtypes: float64(17), int64(2), object(22)\n",
      "memory usage: 6.7+ GB\n"
     ]
    }
   ],
   "source": [
    "ins.info()"
   ]
  },
  {
   "cell_type": "code",
   "execution_count": 6,
   "metadata": {},
   "outputs": [],
   "source": [
    "# about 5m 55s\n",
    "file_name = '[ODS]정밀검사(2022.12.28).csv'\n",
    "dins = pd.read_csv(os.path.join(ods_fold, file_name), low_memory=False)"
   ]
  },
  {
   "cell_type": "code",
   "execution_count": 7,
   "metadata": {},
   "outputs": [
    {
     "name": "stdout",
     "output_type": "stream",
     "text": [
      "<class 'pandas.core.frame.DataFrame'>\n",
      "RangeIndex: 28682228 entries, 0 to 28682227\n",
      "Data columns (total 41 columns):\n",
      " #   Column      Dtype  \n",
      "---  ------      -----  \n",
      " 0   사용연료        object \n",
      " 1   주행거리        float64\n",
      " 2   차명          object \n",
      " 3   차량번호        object \n",
      " 4   차대번호        object \n",
      " 5   차종          object \n",
      " 6   차량연식        int64  \n",
      " 7   엔진형식        object \n",
      " 8   검사방법        object \n",
      " 9   검사일자        int64  \n",
      " 10  검사종류        object \n",
      " 11  검사판정시각      object \n",
      " 12  검사판정        object \n",
      " 13  산소값         float64\n",
      " 14  이산화탄소값      float64\n",
      " 15  무부하매연판정1    object \n",
      " 16  무부하매연판정2    object \n",
      " 17  무부하매연판정3    object \n",
      " 18  무부하매연판정4    object \n",
      " 19  무부하매연판정5    object \n",
      " 20  무부하매연판정6    object \n",
      " 21  무부하매연허용치1   float64\n",
      " 22  무부하매연허용치2   float64\n",
      " 23  무부하매연허용치3   float64\n",
      " 24  무부하매연허용치4   float64\n",
      " 25  무부하매연허용치5   float64\n",
      " 26  무부하매연허용치6   float64\n",
      " 27  무부하매연측정치1   float64\n",
      " 28  무부하매연측정치2   float64\n",
      " 29  무부하매연측정치3   float64\n",
      " 30  무부하매연측정치4   float64\n",
      " 31  무부하매연측정치5   float64\n",
      " 32  무부하매연측정치6   float64\n",
      " 33  검사유효기간      object \n",
      " 34  차량용도        object \n",
      " 35  최대출력허용치     float64\n",
      " 36  최대출력측정값     float64\n",
      " 37  검사접수번호      object \n",
      " 38  검사소명        object \n",
      " 39  재검사기간       object \n",
      " 40  검사전유효기간만료일  float64\n",
      "dtypes: float64(18), int64(2), object(21)\n",
      "memory usage: 8.8+ GB\n"
     ]
    }
   ],
   "source": [
    "dins.info()"
   ]
  },
  {
   "cell_type": "code",
   "execution_count": 8,
   "metadata": {},
   "outputs": [
    {
     "data": {
      "text/plain": [
       "((22006426, 41), (28682228, 41))"
      ]
     },
     "execution_count": 8,
     "metadata": {},
     "output_type": "execute_result"
    }
   ],
   "source": [
    "ins.shape, dins.shape"
   ]
  },
  {
   "cell_type": "code",
   "execution_count": 9,
   "metadata": {},
   "outputs": [
    {
     "data": {
      "text/plain": [
       "Index(['사용연료', '주행거리', '차명', '차량번호', '차대번호', '차종', '차량연식', '엔진형식', '검사방법',\n",
       "       '검사일자', '검사종류', '검사판정시각', '검사판정', '산소값', '이산화탄소값', '무부하매연판정1',\n",
       "       '무부하매연판정2', '무부하매연판정3', '무부하매연판정4', '무부하매연판정5', '무부하매연판정6', '무부하매연허용치1',\n",
       "       '무부하매연허용치2', '무부하매연허용치3', '무부하매연허용치4', '무부하매연허용치5', '무부하매연허용치6',\n",
       "       '무부하매연측정치1', '무부하매연측정치2', '무부하매연측정치3', '무부하매연측정치4', '무부하매연측정치5',\n",
       "       '무부하매연측정치6', '검사유효기간', '차량용도', '최대출력허용치', '최대출력측정값', '검사접수번호', '검사소명',\n",
       "       '재검사기간', '검사전유효기간만료일'],\n",
       "      dtype='object')"
      ]
     },
     "execution_count": 9,
     "metadata": {},
     "output_type": "execute_result"
    }
   ],
   "source": [
    "ins.columns"
   ]
  },
  {
   "cell_type": "code",
   "execution_count": 10,
   "metadata": {},
   "outputs": [
    {
     "data": {
      "text/plain": [
       "Index(['사용연료', '주행거리', '차명', '차량번호', '차대번호', '차종', '차량연식', '엔진형식', '검사방법',\n",
       "       '검사일자', '검사종류', '검사판정시각', '검사판정', '산소값', '이산화탄소값', '무부하매연판정1',\n",
       "       '무부하매연판정2', '무부하매연판정3', '무부하매연판정4', '무부하매연판정5', '무부하매연판정6', '무부하매연허용치1',\n",
       "       '무부하매연허용치2', '무부하매연허용치3', '무부하매연허용치4', '무부하매연허용치5', '무부하매연허용치6',\n",
       "       '무부하매연측정치1', '무부하매연측정치2', '무부하매연측정치3', '무부하매연측정치4', '무부하매연측정치5',\n",
       "       '무부하매연측정치6', '검사유효기간', '차량용도', '최대출력허용치', '최대출력측정값', '검사접수번호', '검사소명',\n",
       "       '재검사기간', '검사전유효기간만료일'],\n",
       "      dtype='object')"
      ]
     },
     "execution_count": 10,
     "metadata": {},
     "output_type": "execute_result"
    }
   ],
   "source": [
    "dins.columns"
   ]
  },
  {
   "attachments": {},
   "cell_type": "markdown",
   "metadata": {},
   "source": [
    "# Preprocessing"
   ]
  },
  {
   "attachments": {},
   "cell_type": "markdown",
   "metadata": {},
   "source": [
    "## 전처리 : 정기, 정밀 검사\n",
    "- 정기, 정밀 검사 필요한 컬럼만 추출\n",
    "- 정기, 정밀 검사 샘플에 '정기, 정밀' 검사 표기\n",
    "- ~~정기, 정밀 통합하여 중복 차대번호 제거(최신 '검사일자'만 사용)~~"
   ]
  },
  {
   "cell_type": "code",
   "execution_count": 11,
   "metadata": {},
   "outputs": [
    {
     "data": {
      "text/plain": [
       "(41, 41)"
      ]
     },
     "execution_count": 11,
     "metadata": {},
     "output_type": "execute_result"
    }
   ],
   "source": [
    "len(ins.columns), len(dins.columns)"
   ]
  },
  {
   "cell_type": "code",
   "execution_count": 12,
   "metadata": {},
   "outputs": [
    {
     "data": {
      "text/plain": [
       "34"
      ]
     },
     "execution_count": 12,
     "metadata": {},
     "output_type": "execute_result"
    }
   ],
   "source": [
    "col = ['사용연료', '주행거리', '차명', '차량번호', '차대번호', '차종', '차량연식', '엔진형식', '검사방법',\n",
    "       '검사일자', '검사종류', '검사판정시각', '검사판정', '산소값', '이산화탄소값', '무부하매연판정1',\n",
    "       '무부하매연판정2', '무부하매연판정3', '무부하매연판정4', '무부하매연판정5', '무부하매연판정6', '무부하매연허용치1',\n",
    "       '무부하매연허용치2', '무부하매연허용치3', '무부하매연허용치4', '무부하매연허용치5', '무부하매연허용치6',\n",
    "       '무부하매연측정치1', '무부하매연측정치2', '무부하매연측정치3', '무부하매연측정치4', '무부하매연측정치5',\n",
    "       '무부하매연측정치6', '검사유효기간']\n",
    "len(col)"
   ]
  },
  {
   "cell_type": "code",
   "execution_count": 13,
   "metadata": {},
   "outputs": [
    {
     "data": {
      "text/plain": [
       "((22006426, 34), (28682228, 34))"
      ]
     },
     "execution_count": 13,
     "metadata": {},
     "output_type": "execute_result"
    }
   ],
   "source": [
    "# about 30s\n",
    "ins = ins[col]\n",
    "dins = dins[col]\n",
    "ins.shape, dins.shape"
   ]
  },
  {
   "cell_type": "code",
   "execution_count": 14,
   "metadata": {},
   "outputs": [],
   "source": [
    "ins['정기정밀'] = '정기'\n",
    "dins['정기정밀'] = '정밀'"
   ]
  },
  {
   "cell_type": "code",
   "execution_count": 15,
   "metadata": {},
   "outputs": [
    {
     "data": {
      "text/plain": [
       "((22006426, 35), 12601262)"
      ]
     },
     "execution_count": 15,
     "metadata": {},
     "output_type": "execute_result"
    }
   ],
   "source": [
    "# about 13s\n",
    "ins.shape, len(ins['차대번호'].unique())"
   ]
  },
  {
   "cell_type": "code",
   "execution_count": 16,
   "metadata": {},
   "outputs": [
    {
     "data": {
      "text/plain": [
       "((28682228, 35), 15367596)"
      ]
     },
     "execution_count": 16,
     "metadata": {},
     "output_type": "execute_result"
    }
   ],
   "source": [
    "# 20.5s\n",
    "dins.shape, len(dins['차대번호'].unique())"
   ]
  },
  {
   "cell_type": "code",
   "execution_count": 18,
   "metadata": {},
   "outputs": [
    {
     "data": {
      "text/plain": [
       "(50688654, 35)"
      ]
     },
     "execution_count": 18,
     "metadata": {},
     "output_type": "execute_result"
    }
   ],
   "source": [
    "# about 24.0s\n",
    "tin = pd.concat([ins, dins], ignore_index=True)\n",
    "tin.shape"
   ]
  },
  {
   "cell_type": "code",
   "execution_count": 18,
   "metadata": {},
   "outputs": [
    {
     "data": {
      "text/plain": [
       "(22044208, 34)"
      ]
     },
     "execution_count": 18,
     "metadata": {},
     "output_type": "execute_result"
    }
   ],
   "source": [
    "# # 2m 3.5s\n",
    "# tin = tin.sort_values('검사일자', ascending=False).drop_duplicates('차대번호').reset_index(drop=True)\n",
    "# tin.shape"
   ]
  },
  {
   "attachments": {},
   "cell_type": "markdown",
   "metadata": {},
   "source": [
    "### [출력] 병합 파일(tin)"
   ]
  },
  {
   "cell_type": "code",
   "execution_count": 19,
   "metadata": {},
   "outputs": [],
   "source": [
    "# about 12m 24.5s\n",
    "tin.to_csv(os.path.join(ods_fold, '[ODS]정기&정밀검사(2022.12.28).csv'), index=False, encoding='cp949')"
   ]
  },
  {
   "attachments": {},
   "cell_type": "markdown",
   "metadata": {},
   "source": [
    "## 최근 3년\n",
    "- 2020.01.08 ~ 2023.01.07"
   ]
  },
  {
   "cell_type": "code",
   "execution_count": 20,
   "metadata": {},
   "outputs": [
    {
     "data": {
      "text/plain": [
       "0"
      ]
     },
     "execution_count": 20,
     "metadata": {},
     "output_type": "execute_result"
    }
   ],
   "source": [
    "tin['검사일자'].isnull().sum()"
   ]
  },
  {
   "cell_type": "code",
   "execution_count": 21,
   "metadata": {},
   "outputs": [
    {
     "data": {
      "text/plain": [
       "count   50688654.00\n",
       "mean    20205442.96\n",
       "std        11147.21\n",
       "min     20190102.00\n",
       "25%     20191227.00\n",
       "50%     20201219.00\n",
       "75%     20211213.00\n",
       "max     20230107.00\n",
       "Name: 검사일자, dtype: float64"
      ]
     },
     "execution_count": 21,
     "metadata": {},
     "output_type": "execute_result"
    }
   ],
   "source": [
    "tin['검사일자'].describe()"
   ]
  },
  {
   "cell_type": "code",
   "execution_count": 22,
   "metadata": {},
   "outputs": [
    {
     "data": {
      "text/plain": [
       "dtype('int64')"
      ]
     },
     "execution_count": 22,
     "metadata": {},
     "output_type": "execute_result"
    }
   ],
   "source": [
    "tin['검사일자'].dtype"
   ]
  },
  {
   "cell_type": "code",
   "execution_count": 23,
   "metadata": {},
   "outputs": [
    {
     "data": {
      "text/plain": [
       "(37578269, 35)"
      ]
     },
     "execution_count": 23,
     "metadata": {},
     "output_type": "execute_result"
    }
   ],
   "source": [
    "# about 38.1s\n",
    "tin.loc[(tin['검사일자'] >= 20200108) & (tin['검사일자'] <= 20230107)].shape"
   ]
  },
  {
   "attachments": {},
   "cell_type": "markdown",
   "metadata": {},
   "source": [
    "### [출력] 최근 3년 정기&정밀 검사"
   ]
  },
  {
   "cell_type": "code",
   "execution_count": 24,
   "metadata": {},
   "outputs": [
    {
     "data": {
      "text/plain": [
       "(37578269, 35)"
      ]
     },
     "execution_count": 24,
     "metadata": {},
     "output_type": "execute_result"
    }
   ],
   "source": [
    "# about 18.9s\n",
    "tin3year = tin.loc[(tin['검사일자'] >= 20200108) & (tin['검사일자'] <= 20230107)].reset_index(drop=True)\n",
    "tin3year.shape"
   ]
  },
  {
   "cell_type": "code",
   "execution_count": 25,
   "metadata": {},
   "outputs": [],
   "source": [
    "# about 9m 20.5s\n",
    "tin3year.to_csv(os.path.join(ods_fold, '[ODS]정기&정밀검사(최신검사만)(2022.12.28).csv'), index=False, encoding='cp949')"
   ]
  },
  {
   "attachments": {},
   "cell_type": "markdown",
   "metadata": {},
   "source": [
    "# CODE End"
   ]
  }
 ],
 "metadata": {
  "kernelspec": {
   "display_name": "base",
   "language": "python",
   "name": "python3"
  },
  "language_info": {
   "codemirror_mode": {
    "name": "ipython",
    "version": 3
   },
   "file_extension": ".py",
   "mimetype": "text/x-python",
   "name": "python",
   "nbconvert_exporter": "python",
   "pygments_lexer": "ipython3",
   "version": "3.9.13"
  },
  "orig_nbformat": 4,
  "vscode": {
   "interpreter": {
    "hash": "ad2bdc8ecc057115af97d19610ffacc2b4e99fae6737bb82f5d7fb13d2f2c186"
   }
  }
 },
 "nbformat": 4,
 "nbformat_minor": 2
}
