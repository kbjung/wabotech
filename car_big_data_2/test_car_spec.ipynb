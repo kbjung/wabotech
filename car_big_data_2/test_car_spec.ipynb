{
 "cells": [
  {
   "cell_type": "markdown",
   "metadata": {},
   "source": [
    "# Library"
   ]
  },
  {
   "cell_type": "code",
   "execution_count": 1,
   "metadata": {},
   "outputs": [],
   "source": [
    "from tqdm import tqdm\n",
    "import numpy as np\n",
    "import re"
   ]
  },
  {
   "cell_type": "code",
   "execution_count": 2,
   "metadata": {},
   "outputs": [],
   "source": [
    "import pandas as pd"
   ]
  },
  {
   "cell_type": "code",
   "execution_count": 3,
   "metadata": {},
   "outputs": [
    {
     "name": "stderr",
     "output_type": "stream",
     "text": [
      "2022-11-28 12:56:27,268\tINFO worker.py:1509 -- Started a local Ray instance. View the dashboard at \u001b[1m\u001b[32m127.0.0.1:8265 \u001b[39m\u001b[22m\n"
     ]
    },
    {
     "data": {
      "text/html": [
       "<div>\n",
       "    <div style=\"margin-left: 50px;display: flex;flex-direction: row;align-items: center\">\n",
       "        <h3 style=\"color: var(--jp-ui-font-color0)\">Ray</h3>\n",
       "        <svg version=\"1.1\" id=\"ray\" width=\"3em\" viewBox=\"0 0 144.5 144.6\" style=\"margin-left: 3em;margin-right: 3em\">\n",
       "            <g id=\"layer-1\">\n",
       "                <path fill=\"#00a2e9\" class=\"st0\" d=\"M97.3,77.2c-3.8-1.1-6.2,0.9-8.3,5.1c-3.5,6.8-9.9,9.9-17.4,9.6S58,88.1,54.8,81.2c-1.4-3-3-4-6.3-4.1\n",
       "                    c-5.6-0.1-9.9,0.1-13.1,6.4c-3.8,7.6-13.6,10.2-21.8,7.6C5.2,88.4-0.4,80.5,0,71.7c0.1-8.4,5.7-15.8,13.8-18.2\n",
       "                    c8.4-2.6,17.5,0.7,22.3,8c1.3,1.9,1.3,5.2,3.6,5.6c3.9,0.6,8,0.2,12,0.2c1.8,0,1.9-1.6,2.4-2.8c3.5-7.8,9.7-11.8,18-11.9\n",
       "                    c8.2-0.1,14.4,3.9,17.8,11.4c1.3,2.8,2.9,3.6,5.7,3.3c1-0.1,2,0.1,3,0c2.8-0.5,6.4,1.7,8.1-2.7s-2.3-5.5-4.1-7.5\n",
       "                    c-5.1-5.7-10.9-10.8-16.1-16.3C84,38,81.9,37.1,78,38.3C66.7,42,56.2,35.7,53,24.1C50.3,14,57.3,2.8,67.7,0.5\n",
       "                    C78.4-2,89,4.7,91.5,15.3c0.1,0.3,0.1,0.5,0.2,0.8c0.7,3.4,0.7,6.9-0.8,9.8c-1.7,3.2-0.8,5,1.5,7.2c6.7,6.5,13.3,13,19.8,19.7\n",
       "                    c1.8,1.8,3,2.1,5.5,1.2c9.1-3.4,17.9-0.6,23.4,7c4.8,6.9,4.6,16.1-0.4,22.9c-5.4,7.2-14.2,9.9-23.1,6.5c-2.3-0.9-3.5-0.6-5.1,1.1\n",
       "                    c-6.7,6.9-13.6,13.7-20.5,20.4c-1.8,1.8-2.5,3.2-1.4,5.9c3.5,8.7,0.3,18.6-7.7,23.6c-7.9,5-18.2,3.8-24.8-2.9\n",
       "                    c-6.4-6.4-7.4-16.2-2.5-24.3c4.9-7.8,14.5-11,23.1-7.8c3,1.1,4.7,0.5,6.9-1.7C91.7,98.4,98,92.3,104.2,86c1.6-1.6,4.1-2.7,2.6-6.2\n",
       "                    c-1.4-3.3-3.8-2.5-6.2-2.6C99.8,77.2,98.9,77.2,97.3,77.2z M72.1,29.7c5.5,0.1,9.9-4.3,10-9.8c0-0.1,0-0.2,0-0.3\n",
       "                    C81.8,14,77,9.8,71.5,10.2c-5,0.3-9,4.2-9.3,9.2c-0.2,5.5,4,10.1,9.5,10.3C71.8,29.7,72,29.7,72.1,29.7z M72.3,62.3\n",
       "                    c-5.4-0.1-9.9,4.2-10.1,9.7c0,0.2,0,0.3,0,0.5c0.2,5.4,4.5,9.7,9.9,10c5.1,0.1,9.9-4.7,10.1-9.8c0.2-5.5-4-10-9.5-10.3\n",
       "                    C72.6,62.3,72.4,62.3,72.3,62.3z M115,72.5c0.1,5.4,4.5,9.7,9.8,9.9c5.6-0.2,10-4.8,10-10.4c-0.2-5.4-4.6-9.7-10-9.7\n",
       "                    c-5.3-0.1-9.8,4.2-9.9,9.5C115,72.1,115,72.3,115,72.5z M19.5,62.3c-5.4,0.1-9.8,4.4-10,9.8c-0.1,5.1,5.2,10.4,10.2,10.3\n",
       "                    c5.6-0.2,10-4.9,9.8-10.5c-0.1-5.4-4.5-9.7-9.9-9.6C19.6,62.3,19.5,62.3,19.5,62.3z M71.8,134.6c5.9,0.2,10.3-3.9,10.4-9.6\n",
       "                    c0.5-5.5-3.6-10.4-9.1-10.8c-5.5-0.5-10.4,3.6-10.8,9.1c0,0.5,0,0.9,0,1.4c-0.2,5.3,4,9.8,9.3,10\n",
       "                    C71.6,134.6,71.7,134.6,71.8,134.6z\"/>\n",
       "            </g>\n",
       "        </svg>\n",
       "        <table>\n",
       "            <tr>\n",
       "                <td style=\"text-align: left\"><b>Python version:</b></td>\n",
       "                <td style=\"text-align: left\"><b>3.9.13</b></td>\n",
       "            </tr>\n",
       "            <tr>\n",
       "                <td style=\"text-align: left\"><b>Ray version:</b></td>\n",
       "                <td style=\"text-align: left\"><b> 2.0.1</b></td>\n",
       "            </tr>\n",
       "            <tr>\n",
       "    <td style=\"text-align: left\"><b>Dashboard:</b></td>\n",
       "    <td style=\"text-align: left\"><b><a href=\"http://127.0.0.1:8265\" target=\"_blank\">http://127.0.0.1:8265</a></b></td>\n",
       "</tr>\n",
       "\n",
       "        </table>\n",
       "    </div>\n",
       "</div>\n"
      ],
      "text/plain": [
       "RayContext(dashboard_url='127.0.0.1:8265', python_version='3.9.13', ray_version='2.0.1', ray_commit='03b6bc7b5a305877501110ec04710a9c57011479', address_info={'node_ip_address': '127.0.0.1', 'raylet_ip_address': '127.0.0.1', 'redis_address': None, 'object_store_address': 'tcp://127.0.0.1:65462', 'raylet_socket_name': 'tcp://127.0.0.1:63682', 'webui_url': '127.0.0.1:8265', 'session_dir': 'C:\\\\Users\\\\kbj\\\\AppData\\\\Local\\\\Temp\\\\ray\\\\session_2022-11-28_12-56-21_785213_18336', 'metrics_export_port': 56457, 'gcs_address': '127.0.0.1:57018', 'address': '127.0.0.1:57018', 'dashboard_agent_listen_port': 52365, 'node_id': 'bcb3e79a9e083279e5141163c6ea80c24656f5d54282c17d13d2bfed'})"
      ]
     },
     "execution_count": 3,
     "metadata": {},
     "output_type": "execute_result"
    }
   ],
   "source": [
    "import ray\n",
    "ray.init(runtime_env={'env_vars': {'__MODIN_AUTOIMPORT_PANDAS__': '1'}})"
   ]
  },
  {
   "cell_type": "markdown",
   "metadata": {},
   "source": [
    "## data load"
   ]
  },
  {
   "cell_type": "code",
   "execution_count": 4,
   "metadata": {},
   "outputs": [
    {
     "data": {
      "text/html": [
       "<div>\n",
       "<style scoped>\n",
       "    .dataframe tbody tr th:only-of-type {\n",
       "        vertical-align: middle;\n",
       "    }\n",
       "\n",
       "    .dataframe tbody tr th {\n",
       "        vertical-align: top;\n",
       "    }\n",
       "\n",
       "    .dataframe thead th {\n",
       "        text-align: right;\n",
       "    }\n",
       "</style>\n",
       "<table border=\"1\" class=\"dataframe\">\n",
       "  <thead>\n",
       "    <tr style=\"text-align: right;\">\n",
       "      <th></th>\n",
       "      <th>차량관리번호</th>\n",
       "      <th>차량등록번호</th>\n",
       "      <th>본거지법정동코드</th>\n",
       "      <th>소유자구분</th>\n",
       "      <th>차종_등록정보</th>\n",
       "      <th>용도</th>\n",
       "      <th>차대번호</th>\n",
       "      <th>최초등록일자</th>\n",
       "      <th>차량연식</th>\n",
       "      <th>차량제작일자</th>\n",
       "      <th>...</th>\n",
       "      <th>배기량</th>\n",
       "      <th>승차인원</th>\n",
       "      <th>차량길이</th>\n",
       "      <th>차량너비</th>\n",
       "      <th>차량높이</th>\n",
       "      <th>원산지명</th>\n",
       "      <th>삭제YN</th>\n",
       "      <th>제원승인일자</th>\n",
       "      <th>구동형식</th>\n",
       "      <th>변속기종류</th>\n",
       "    </tr>\n",
       "  </thead>\n",
       "  <tbody>\n",
       "  </tbody>\n",
       "</table>\n",
       "<p>0 rows × 40 columns</p>\n",
       "</div>"
      ],
      "text/plain": [
       "Empty DataFrame\n",
       "Columns: [차량관리번호, 차량등록번호, 본거지법정동코드, 소유자구분, 차종_등록정보, 용도, 차대번호, 최초등록일자, 차량연식, 차량제작일자, 검사유효일, 제원관리번호, 배출가스인증번호, 배출가스등급, 저공해조치종류, 저공해조치구조변경YN, 차량말소YN, 취득일자, 취득금액, 차명, 차종_제원정보, 차종분류, 차종유형, 자동차형식, 제작사명, 연료, 엔진형식, 총중량, 적재중량, 엔진출력, 배기량, 승차인원, 차량길이, 차량너비, 차량높이, 원산지명, 삭제YN, 제원승인일자, 구동형식, 변속기종류]\n",
       "Index: []\n",
       "\n",
       "[0 rows x 40 columns]"
      ]
     },
     "execution_count": 4,
     "metadata": {},
     "output_type": "execute_result"
    }
   ],
   "source": [
    "col = pd.read_table('data/컬럼명.txt', sep=',')\n",
    "col"
   ]
  },
  {
   "cell_type": "code",
   "execution_count": 5,
   "metadata": {},
   "outputs": [
    {
     "data": {
      "text/plain": [
       "Index(['차량관리번호', '차량등록번호', '본거지법정동코드', '소유자구분', '차종_등록정보', '용도', '차대번호',\n",
       "       '최초등록일자', '차량연식', '차량제작일자', '검사유효일', '제원관리번호', '배출가스인증번호', '배출가스등급',\n",
       "       '저공해조치종류', '저공해조치구조변경YN', '차량말소YN', '취득일자', '취득금액', '차명', '차종_제원정보',\n",
       "       '차종분류', '차종유형', '자동차형식', '제작사명', '연료', '엔진형식', '총중량', '적재중량', '엔진출력',\n",
       "       '배기량', '승차인원', '차량길이', '차량너비', '차량높이', '원산지명', '삭제YN', '제원승인일자', '구동형식',\n",
       "       '변속기종류'],\n",
       "      dtype='object')"
      ]
     },
     "execution_count": 5,
     "metadata": {},
     "output_type": "execute_result"
    }
   ],
   "source": [
    "col.columns"
   ]
  },
  {
   "cell_type": "code",
   "execution_count": 6,
   "metadata": {},
   "outputs": [
    {
     "name": "stderr",
     "output_type": "stream",
     "text": [
      "C:\\Users\\kbj\\AppData\\Local\\Temp\\ipykernel_18336\\2626983995.py:2: DtypeWarning: Columns (14,17,29,37,38) have mixed types. Specify dtype option on import or set low_memory=False.\n",
      "  df = pd.read_table('data/220819_22.06월기준_4등급.txt', encoding='cp949', header=40, names=col.columns)\n"
     ]
    },
    {
     "name": "stdout",
     "output_type": "stream",
     "text": [
      "<class 'pandas.core.frame.DataFrame'>\n",
      "RangeIndex: 1528586 entries, 0 to 1528585\n",
      "Data columns (total 40 columns):\n",
      " #   Column       Non-Null Count    Dtype  \n",
      "---  ------       --------------    -----  \n",
      " 0   차량관리번호       1528586 non-null  object \n",
      " 1   차량등록번호       1528586 non-null  object \n",
      " 2   본거지법정동코드     1528586 non-null  int64  \n",
      " 3   소유자구분        1528586 non-null  object \n",
      " 4   차종_등록정보      1528584 non-null  object \n",
      " 5   용도           1528586 non-null  object \n",
      " 6   차대번호         1528586 non-null  object \n",
      " 7   최초등록일자       1528586 non-null  int64  \n",
      " 8   차량연식         1528586 non-null  int64  \n",
      " 9   차량제작일자       1358925 non-null  float64\n",
      " 10  검사유효일        1528574 non-null  float64\n",
      " 11  제원관리번호       1528586 non-null  object \n",
      " 12  배출가스인증번호     1405585 non-null  object \n",
      " 13  배출가스등급       1528586 non-null  int64  \n",
      " 14  저공해조치종류      195 non-null      object \n",
      " 15  저공해조치구조변경YN  1528586 non-null  object \n",
      " 16  차량말소YN       1528586 non-null  object \n",
      " 17  취득일자         1435514 non-null  object \n",
      " 18  취득금액         1453613 non-null  float64\n",
      " 19  차명           1528586 non-null  object \n",
      " 20  차종_제원정보      1528586 non-null  object \n",
      " 21  차종분류         1528586 non-null  object \n",
      " 22  차종유형         1528586 non-null  object \n",
      " 23  자동차형식        1528302 non-null  object \n",
      " 24  제작사명         1518694 non-null  object \n",
      " 25  연료           1528586 non-null  object \n",
      " 26  엔진형식         1526740 non-null  object \n",
      " 27  총중량          1528585 non-null  float64\n",
      " 28  적재중량         1528075 non-null  float64\n",
      " 29  엔진출력         1528227 non-null  object \n",
      " 30  배기량          1528582 non-null  float64\n",
      " 31  승차인원         1528586 non-null  int64  \n",
      " 32  차량길이         1528585 non-null  float64\n",
      " 33  차량너비         1528585 non-null  float64\n",
      " 34  차량높이         1528583 non-null  float64\n",
      " 35  원산지명         1509499 non-null  object \n",
      " 36  삭제YN         1528586 non-null  object \n",
      " 37  제원승인일자       1528155 non-null  object \n",
      " 38  구동형식         41 non-null       object \n",
      " 39  변속기종류        1528426 non-null  object \n",
      "dtypes: float64(9), int64(5), object(26)\n",
      "memory usage: 466.5+ MB\n"
     ]
    }
   ],
   "source": [
    "# 23.4s\n",
    "df = pd.read_table('data/220819_22.06월기준_4등급.txt', encoding='cp949', header=40, names=col.columns)\n",
    "df.info()"
   ]
  },
  {
   "cell_type": "code",
   "execution_count": 7,
   "metadata": {},
   "outputs": [
    {
     "data": {
      "text/html": [
       "<div>\n",
       "<style scoped>\n",
       "    .dataframe tbody tr th:only-of-type {\n",
       "        vertical-align: middle;\n",
       "    }\n",
       "\n",
       "    .dataframe tbody tr th {\n",
       "        vertical-align: top;\n",
       "    }\n",
       "\n",
       "    .dataframe thead th {\n",
       "        text-align: right;\n",
       "    }\n",
       "</style>\n",
       "<table border=\"1\" class=\"dataframe\">\n",
       "  <thead>\n",
       "    <tr style=\"text-align: right;\">\n",
       "      <th></th>\n",
       "      <th>차량관리번호</th>\n",
       "      <th>차량등록번호</th>\n",
       "      <th>본거지법정동코드</th>\n",
       "      <th>소유자구분</th>\n",
       "      <th>차종_등록정보</th>\n",
       "      <th>용도</th>\n",
       "      <th>차대번호</th>\n",
       "      <th>최초등록일자</th>\n",
       "      <th>차량연식</th>\n",
       "      <th>차량제작일자</th>\n",
       "      <th>...</th>\n",
       "      <th>배기량</th>\n",
       "      <th>승차인원</th>\n",
       "      <th>차량길이</th>\n",
       "      <th>차량너비</th>\n",
       "      <th>차량높이</th>\n",
       "      <th>원산지명</th>\n",
       "      <th>삭제YN</th>\n",
       "      <th>제원승인일자</th>\n",
       "      <th>구동형식</th>\n",
       "      <th>변속기종류</th>\n",
       "    </tr>\n",
       "  </thead>\n",
       "  <tbody>\n",
       "    <tr>\n",
       "      <th>0</th>\n",
       "      <td>KMFZCY7JBCU784032-01</td>\n",
       "      <td>97구4490</td>\n",
       "      <td>1144010700</td>\n",
       "      <td>법인</td>\n",
       "      <td>화물</td>\n",
       "      <td>자가용</td>\n",
       "      <td>KMFZCY7JBCU784032</td>\n",
       "      <td>20110817</td>\n",
       "      <td>2012</td>\n",
       "      <td>20110811.0</td>\n",
       "      <td>...</td>\n",
       "      <td>2497.0</td>\n",
       "      <td>6</td>\n",
       "      <td>5120.0</td>\n",
       "      <td>1740.0</td>\n",
       "      <td>1965.0</td>\n",
       "      <td>대한민국</td>\n",
       "      <td>N</td>\n",
       "      <td>20110524</td>\n",
       "      <td>NaN</td>\n",
       "      <td>자동</td>\n",
       "    </tr>\n",
       "    <tr>\n",
       "      <th>1</th>\n",
       "      <td>KMHJN81VP7U578447-01</td>\n",
       "      <td>11너2154</td>\n",
       "      <td>2650010100</td>\n",
       "      <td>주민</td>\n",
       "      <td>승용</td>\n",
       "      <td>자가용</td>\n",
       "      <td>KMHJN81VP7U578447</td>\n",
       "      <td>20070102</td>\n",
       "      <td>2007</td>\n",
       "      <td>20061104.0</td>\n",
       "      <td>...</td>\n",
       "      <td>1991.0</td>\n",
       "      <td>5</td>\n",
       "      <td>4325.0</td>\n",
       "      <td>1800.0</td>\n",
       "      <td>1680.0</td>\n",
       "      <td>대한민국</td>\n",
       "      <td>N</td>\n",
       "      <td>20060621</td>\n",
       "      <td>NaN</td>\n",
       "      <td>자동</td>\n",
       "    </tr>\n",
       "    <tr>\n",
       "      <th>2</th>\n",
       "      <td>KPACE4AB1AP070600-01</td>\n",
       "      <td>96어5714</td>\n",
       "      <td>4729025024</td>\n",
       "      <td>주민</td>\n",
       "      <td>화물</td>\n",
       "      <td>자가용</td>\n",
       "      <td>KPACE4AB1AP070600</td>\n",
       "      <td>20091221</td>\n",
       "      <td>2010</td>\n",
       "      <td>20091210.0</td>\n",
       "      <td>...</td>\n",
       "      <td>1998.0</td>\n",
       "      <td>5</td>\n",
       "      <td>4965.0</td>\n",
       "      <td>1900.0</td>\n",
       "      <td>1755.0</td>\n",
       "      <td>대한민국</td>\n",
       "      <td>N</td>\n",
       "      <td>20090513</td>\n",
       "      <td>NaN</td>\n",
       "      <td>자동</td>\n",
       "    </tr>\n",
       "    <tr>\n",
       "      <th>3</th>\n",
       "      <td>KMHNU81WP7U009391-01</td>\n",
       "      <td>11가1154</td>\n",
       "      <td>4117110100</td>\n",
       "      <td>사업자</td>\n",
       "      <td>승용</td>\n",
       "      <td>자가용</td>\n",
       "      <td>KMHNU81WP7U009391</td>\n",
       "      <td>20070212</td>\n",
       "      <td>2007</td>\n",
       "      <td>20070207.0</td>\n",
       "      <td>...</td>\n",
       "      <td>2959.0</td>\n",
       "      <td>7</td>\n",
       "      <td>4840.0</td>\n",
       "      <td>1970.0</td>\n",
       "      <td>1805.0</td>\n",
       "      <td>대한민국</td>\n",
       "      <td>N</td>\n",
       "      <td>20060821</td>\n",
       "      <td>NaN</td>\n",
       "      <td>자동</td>\n",
       "    </tr>\n",
       "    <tr>\n",
       "      <th>4</th>\n",
       "      <td>KMHDT41TP9U638425-01</td>\n",
       "      <td>22보7099</td>\n",
       "      <td>4711331026</td>\n",
       "      <td>주민</td>\n",
       "      <td>승용</td>\n",
       "      <td>자가용</td>\n",
       "      <td>KMHDT41TP9U638425</td>\n",
       "      <td>20081128</td>\n",
       "      <td>2009</td>\n",
       "      <td>20081123.0</td>\n",
       "      <td>...</td>\n",
       "      <td>1582.0</td>\n",
       "      <td>5</td>\n",
       "      <td>4505.0</td>\n",
       "      <td>1775.0</td>\n",
       "      <td>1480.0</td>\n",
       "      <td>대한민국</td>\n",
       "      <td>N</td>\n",
       "      <td>20080729</td>\n",
       "      <td>NaN</td>\n",
       "      <td>수동</td>\n",
       "    </tr>\n",
       "  </tbody>\n",
       "</table>\n",
       "<p>5 rows × 40 columns</p>\n",
       "</div>"
      ],
      "text/plain": [
       "                 차량관리번호   차량등록번호    본거지법정동코드 소유자구분 차종_등록정보   용도  \\\n",
       "0  KMFZCY7JBCU784032-01  97구4490  1144010700    법인      화물  자가용   \n",
       "1  KMHJN81VP7U578447-01  11너2154  2650010100    주민      승용  자가용   \n",
       "2  KPACE4AB1AP070600-01  96어5714  4729025024    주민      화물  자가용   \n",
       "3  KMHNU81WP7U009391-01  11가1154  4117110100   사업자      승용  자가용   \n",
       "4  KMHDT41TP9U638425-01  22보7099  4711331026    주민      승용  자가용   \n",
       "\n",
       "                차대번호    최초등록일자  차량연식      차량제작일자  ...     배기량 승차인원    차량길이  \\\n",
       "0  KMFZCY7JBCU784032  20110817  2012  20110811.0  ...  2497.0    6  5120.0   \n",
       "1  KMHJN81VP7U578447  20070102  2007  20061104.0  ...  1991.0    5  4325.0   \n",
       "2  KPACE4AB1AP070600  20091221  2010  20091210.0  ...  1998.0    5  4965.0   \n",
       "3  KMHNU81WP7U009391  20070212  2007  20070207.0  ...  2959.0    7  4840.0   \n",
       "4  KMHDT41TP9U638425  20081128  2009  20081123.0  ...  1582.0    5  4505.0   \n",
       "\n",
       "     차량너비    차량높이  원산지명 삭제YN    제원승인일자  구동형식 변속기종류  \n",
       "0  1740.0  1965.0  대한민국    N  20110524   NaN    자동  \n",
       "1  1800.0  1680.0  대한민국    N  20060621   NaN    자동  \n",
       "2  1900.0  1755.0  대한민국    N  20090513   NaN    자동  \n",
       "3  1970.0  1805.0  대한민국    N  20060821   NaN    자동  \n",
       "4  1775.0  1480.0  대한민국    N  20080729   NaN    수동  \n",
       "\n",
       "[5 rows x 40 columns]"
      ]
     },
     "execution_count": 7,
     "metadata": {},
     "output_type": "execute_result"
    }
   ],
   "source": [
    "df.head()"
   ]
  },
  {
   "cell_type": "markdown",
   "metadata": {},
   "source": [
    "### 파일로 출력"
   ]
  },
  {
   "cell_type": "code",
   "execution_count": 8,
   "metadata": {},
   "outputs": [],
   "source": [
    "# # 34.6s\n",
    "# df.to_csv('data/220819_22.06월기준_4등급.csv', encoding='utf-8')"
   ]
  },
  {
   "cell_type": "markdown",
   "metadata": {},
   "source": [
    "### 0\\. [e]차량관리번호\n",
    "- 오류\n",
    "    - null 값 : 0 개\n",
    "    - 영문과 숫자가 아닌 값 : 7,038 개"
   ]
  },
  {
   "cell_type": "code",
   "execution_count": 9,
   "metadata": {},
   "outputs": [
    {
     "data": {
      "text/plain": [
       "0"
      ]
     },
     "execution_count": 9,
     "metadata": {},
     "output_type": "execute_result"
    }
   ],
   "source": [
    "df.iloc[:, 0].isnull().sum()"
   ]
  },
  {
   "cell_type": "code",
   "execution_count": 10,
   "metadata": {},
   "outputs": [
    {
     "data": {
      "text/plain": [
       "KMFZCY7JBCU784032-01    1\n",
       "KMHSH81VP9U467470-01    1\n",
       "KNAGA2263NA273801-01    1\n",
       "KNCSJX74BBK577862-01    1\n",
       "KNADG414AAS597155-01    1\n",
       "                       ..\n",
       "KNAFA2223PA131127-01    1\n",
       "KPACA4AB1BP099521-01    1\n",
       "KNCSJZ74BBK571321-01    1\n",
       "KNAGA2223MA251640-01    1\n",
       "KNME5C2MM8P008790-01    1\n",
       "Name: 차량관리번호, Length: 1528586, dtype: int64"
      ]
     },
     "execution_count": 10,
     "metadata": {},
     "output_type": "execute_result"
    }
   ],
   "source": [
    "df.iloc[:, 0].value_counts()"
   ]
  },
  {
   "cell_type": "code",
   "execution_count": 11,
   "metadata": {},
   "outputs": [
    {
     "name": "stderr",
     "output_type": "stream",
     "text": [
      "1528586it [00:01, 1059478.27it/s]\n"
     ]
    },
    {
     "data": {
      "text/plain": [
       "7038"
      ]
     },
     "execution_count": 11,
     "metadata": {},
     "output_type": "execute_result"
    }
   ],
   "source": [
    "count = 0\n",
    "p0 = re.compile('\\w+[-]\\d+')\n",
    "idx0 = []\n",
    "for i, one in tqdm(enumerate(df.iloc[:, 0].to_numpy())):\n",
    "    if not p0.search(one):\n",
    "        idx0.append(i)\n",
    "        count += 1\n",
    "count"
   ]
  },
  {
   "cell_type": "code",
   "execution_count": 12,
   "metadata": {},
   "outputs": [
    {
     "data": {
      "text/plain": [
       "[396, 586, 700, 821, 1227]"
      ]
     },
     "execution_count": 12,
     "metadata": {},
     "output_type": "execute_result"
    }
   ],
   "source": [
    "idx0[:5]"
   ]
  },
  {
   "cell_type": "code",
   "execution_count": 13,
   "metadata": {},
   "outputs": [
    {
     "data": {
      "text/html": [
       "<div>\n",
       "<style scoped>\n",
       "    .dataframe tbody tr th:only-of-type {\n",
       "        vertical-align: middle;\n",
       "    }\n",
       "\n",
       "    .dataframe tbody tr th {\n",
       "        vertical-align: top;\n",
       "    }\n",
       "\n",
       "    .dataframe thead th {\n",
       "        text-align: right;\n",
       "    }\n",
       "</style>\n",
       "<table border=\"1\" class=\"dataframe\">\n",
       "  <thead>\n",
       "    <tr style=\"text-align: right;\">\n",
       "      <th></th>\n",
       "      <th>차량관리번호</th>\n",
       "      <th>차량등록번호</th>\n",
       "    </tr>\n",
       "  </thead>\n",
       "  <tbody>\n",
       "    <tr>\n",
       "      <th>396</th>\n",
       "      <td>1199서울4브2371</td>\n",
       "      <td>서울4브2371</td>\n",
       "    </tr>\n",
       "    <tr>\n",
       "      <th>586</th>\n",
       "      <td>4599전북1우1923</td>\n",
       "      <td>전북1우1923</td>\n",
       "    </tr>\n",
       "    <tr>\n",
       "      <th>700</th>\n",
       "      <td>1199서울1즈5001</td>\n",
       "      <td>서울1즈5001</td>\n",
       "    </tr>\n",
       "    <tr>\n",
       "      <th>821</th>\n",
       "      <td>2799대구4수5818</td>\n",
       "      <td>대구4수5818</td>\n",
       "    </tr>\n",
       "    <tr>\n",
       "      <th>1227</th>\n",
       "      <td>4199경기59너9481</td>\n",
       "      <td>경기59너9481</td>\n",
       "    </tr>\n",
       "    <tr>\n",
       "      <th>...</th>\n",
       "      <td>...</td>\n",
       "      <td>...</td>\n",
       "    </tr>\n",
       "    <tr>\n",
       "      <th>1527680</th>\n",
       "      <td>1199서울52마5593</td>\n",
       "      <td>서울52마5593</td>\n",
       "    </tr>\n",
       "    <tr>\n",
       "      <th>1527890</th>\n",
       "      <td>4199경기3노8469</td>\n",
       "      <td>경기3노8469</td>\n",
       "    </tr>\n",
       "    <tr>\n",
       "      <th>1528062</th>\n",
       "      <td>3099대전1므5676</td>\n",
       "      <td>대전1므5676</td>\n",
       "    </tr>\n",
       "    <tr>\n",
       "      <th>1528409</th>\n",
       "      <td>1199서울2두4957</td>\n",
       "      <td>서울2두4957</td>\n",
       "    </tr>\n",
       "    <tr>\n",
       "      <th>1528555</th>\n",
       "      <td>4499충남1고3267</td>\n",
       "      <td>충남1고3267</td>\n",
       "    </tr>\n",
       "  </tbody>\n",
       "</table>\n",
       "<p>7038 rows × 2 columns</p>\n",
       "</div>"
      ],
      "text/plain": [
       "                차량관리번호     차량등록번호\n",
       "396       1199서울4브2371   서울4브2371\n",
       "586       4599전북1우1923   전북1우1923\n",
       "700       1199서울1즈5001   서울1즈5001\n",
       "821       2799대구4수5818   대구4수5818\n",
       "1227     4199경기59너9481  경기59너9481\n",
       "...                ...        ...\n",
       "1527680  1199서울52마5593  서울52마5593\n",
       "1527890   4199경기3노8469   경기3노8469\n",
       "1528062   3099대전1므5676   대전1므5676\n",
       "1528409   1199서울2두4957   서울2두4957\n",
       "1528555   4499충남1고3267   충남1고3267\n",
       "\n",
       "[7038 rows x 2 columns]"
      ]
     },
     "execution_count": 13,
     "metadata": {},
     "output_type": "execute_result"
    }
   ],
   "source": [
    "df[['차량관리번호', '차량등록번호']].reindex(idx0)"
   ]
  },
  {
   "cell_type": "markdown",
   "metadata": {},
   "source": [
    "### 1\\. [e]차량등록번호\n",
    "- 오류\n",
    "    - null 값 : 0 개\n",
    "    - [한글][숫자][한글][숫자] 형식에 맞지 않는 값 : 1,211,007 개\n",
    "    - [숫자][한글][숫자] 형식에 맞지 않는 값 : 0 개"
   ]
  },
  {
   "cell_type": "code",
   "execution_count": 14,
   "metadata": {},
   "outputs": [
    {
     "data": {
      "text/plain": [
       "0"
      ]
     },
     "execution_count": 14,
     "metadata": {},
     "output_type": "execute_result"
    }
   ],
   "source": [
    "df.iloc[:, 1].isnull().sum()"
   ]
  },
  {
   "cell_type": "code",
   "execution_count": 15,
   "metadata": {},
   "outputs": [
    {
     "data": {
      "text/plain": [
       "97구4490      1\n",
       "27나1278      1\n",
       "인천1더9940     1\n",
       "83두1780      1\n",
       "12소2340      1\n",
       "            ..\n",
       "서울1러2561     1\n",
       "95마1880      1\n",
       "87마2994      1\n",
       "경기45마7935    1\n",
       "55고3109      1\n",
       "Name: 차량등록번호, Length: 1528586, dtype: int64"
      ]
     },
     "execution_count": 15,
     "metadata": {},
     "output_type": "execute_result"
    }
   ],
   "source": [
    "df.iloc[:, 1].value_counts()"
   ]
  },
  {
   "cell_type": "code",
   "execution_count": 16,
   "metadata": {},
   "outputs": [
    {
     "name": "stderr",
     "output_type": "stream",
     "text": [
      "1528586it [00:01, 1123053.94it/s]\n"
     ]
    },
    {
     "data": {
      "text/plain": [
       "0"
      ]
     },
     "execution_count": 16,
     "metadata": {},
     "output_type": "execute_result"
    }
   ],
   "source": [
    "count = 0\n",
    "p11 = re.compile('\\d+[가-힣]+')\n",
    "idx11 = []\n",
    "for i, one in tqdm(enumerate(df.iloc[:, 1].to_numpy())):\n",
    "    if not p11.search(one):\n",
    "        idx11.append(i)\n",
    "        count += 1\n",
    "count"
   ]
  },
  {
   "cell_type": "code",
   "execution_count": 17,
   "metadata": {},
   "outputs": [
    {
     "name": "stderr",
     "output_type": "stream",
     "text": [
      "1528586it [00:01, 884508.23it/s]\n"
     ]
    },
    {
     "data": {
      "text/plain": [
       "1211007"
      ]
     },
     "execution_count": 17,
     "metadata": {},
     "output_type": "execute_result"
    }
   ],
   "source": [
    "count = 0\n",
    "p12 = re.compile('[가-힣]+\\d+[가-힣]+\\d+')\n",
    "idx12 = []\n",
    "for i, one in tqdm(enumerate(df.iloc[:, 1].to_numpy())):\n",
    "    if not p12.search(one):\n",
    "        idx12.append(i)\n",
    "        count += 1\n",
    "count"
   ]
  },
  {
   "cell_type": "code",
   "execution_count": 18,
   "metadata": {},
   "outputs": [
    {
     "name": "stderr",
     "output_type": "stream",
     "text": [
      "C:\\Users\\kbj\\AppData\\Local\\Temp\\ipykernel_18336\\1435103437.py:1: FutureWarning: The behavior of `series[i:j]` with an integer-dtype index is deprecated. In a future version, this will be treated as *label-based* indexing, consistent with e.g. `series[i]` lookups. To retain the old behavior, use `series.iloc[i:j]`. To get the future behavior, use `series.loc[i:j]`.\n",
      "  df.iloc[:, 1].reindex(idx12)[:5]\n"
     ]
    },
    {
     "data": {
      "text/plain": [
       "0    97구4490\n",
       "1    11너2154\n",
       "2    96어5714\n",
       "3    11가1154\n",
       "4    22보7099\n",
       "Name: 차량등록번호, dtype: object"
      ]
     },
     "execution_count": 18,
     "metadata": {},
     "output_type": "execute_result"
    }
   ],
   "source": [
    "df.iloc[:, 1].reindex(idx12)[:5]"
   ]
  },
  {
   "cell_type": "code",
   "execution_count": 19,
   "metadata": {},
   "outputs": [
    {
     "data": {
      "text/html": [
       "<div>\n",
       "<style scoped>\n",
       "    .dataframe tbody tr th:only-of-type {\n",
       "        vertical-align: middle;\n",
       "    }\n",
       "\n",
       "    .dataframe tbody tr th {\n",
       "        vertical-align: top;\n",
       "    }\n",
       "\n",
       "    .dataframe thead th {\n",
       "        text-align: right;\n",
       "    }\n",
       "</style>\n",
       "<table border=\"1\" class=\"dataframe\">\n",
       "  <thead>\n",
       "    <tr style=\"text-align: right;\">\n",
       "      <th></th>\n",
       "      <th>차량관리번호</th>\n",
       "      <th>차량등록번호</th>\n",
       "      <th>차대번호</th>\n",
       "    </tr>\n",
       "  </thead>\n",
       "  <tbody>\n",
       "    <tr>\n",
       "      <th>0</th>\n",
       "      <td>KMFZCY7JBCU784032-01</td>\n",
       "      <td>97구4490</td>\n",
       "      <td>KMFZCY7JBCU784032</td>\n",
       "    </tr>\n",
       "    <tr>\n",
       "      <th>1</th>\n",
       "      <td>KMHJN81VP7U578447-01</td>\n",
       "      <td>11너2154</td>\n",
       "      <td>KMHJN81VP7U578447</td>\n",
       "    </tr>\n",
       "    <tr>\n",
       "      <th>2</th>\n",
       "      <td>KPACE4AB1AP070600-01</td>\n",
       "      <td>96어5714</td>\n",
       "      <td>KPACE4AB1AP070600</td>\n",
       "    </tr>\n",
       "    <tr>\n",
       "      <th>3</th>\n",
       "      <td>KMHNU81WP7U009391-01</td>\n",
       "      <td>11가1154</td>\n",
       "      <td>KMHNU81WP7U009391</td>\n",
       "    </tr>\n",
       "    <tr>\n",
       "      <th>4</th>\n",
       "      <td>KMHDT41TP9U638425-01</td>\n",
       "      <td>22보7099</td>\n",
       "      <td>KMHDT41TP9U638425</td>\n",
       "    </tr>\n",
       "  </tbody>\n",
       "</table>\n",
       "</div>"
      ],
      "text/plain": [
       "                 차량관리번호   차량등록번호               차대번호\n",
       "0  KMFZCY7JBCU784032-01  97구4490  KMFZCY7JBCU784032\n",
       "1  KMHJN81VP7U578447-01  11너2154  KMHJN81VP7U578447\n",
       "2  KPACE4AB1AP070600-01  96어5714  KPACE4AB1AP070600\n",
       "3  KMHNU81WP7U009391-01  11가1154  KMHNU81WP7U009391\n",
       "4  KMHDT41TP9U638425-01  22보7099  KMHDT41TP9U638425"
      ]
     },
     "execution_count": 19,
     "metadata": {},
     "output_type": "execute_result"
    }
   ],
   "source": [
    "df.iloc[:, [0, 1, 6]].reindex(idx12)[:5]"
   ]
  },
  {
   "cell_type": "code",
   "execution_count": 20,
   "metadata": {},
   "outputs": [
    {
     "data": {
      "text/html": [
       "<div>\n",
       "<style scoped>\n",
       "    .dataframe tbody tr th:only-of-type {\n",
       "        vertical-align: middle;\n",
       "    }\n",
       "\n",
       "    .dataframe tbody tr th {\n",
       "        vertical-align: top;\n",
       "    }\n",
       "\n",
       "    .dataframe thead th {\n",
       "        text-align: right;\n",
       "    }\n",
       "</style>\n",
       "<table border=\"1\" class=\"dataframe\">\n",
       "  <thead>\n",
       "    <tr style=\"text-align: right;\">\n",
       "      <th></th>\n",
       "      <th>차량관리번호</th>\n",
       "      <th>차량등록번호</th>\n",
       "      <th>차대번호</th>\n",
       "    </tr>\n",
       "  </thead>\n",
       "  <tbody>\n",
       "    <tr>\n",
       "      <th>1528580</th>\n",
       "      <td>KNAJE55539K557097-01</td>\n",
       "      <td>22더4719</td>\n",
       "      <td>KNAJE55539K557097</td>\n",
       "    </tr>\n",
       "    <tr>\n",
       "      <th>1528581</th>\n",
       "      <td>KMHJN81VP6U438041-01</td>\n",
       "      <td>06다4703</td>\n",
       "      <td>KMHJN81VP6U438041</td>\n",
       "    </tr>\n",
       "    <tr>\n",
       "      <th>1528582</th>\n",
       "      <td>KNAKH815BAK669764-01</td>\n",
       "      <td>17무6646</td>\n",
       "      <td>KNAKH815BAK669764</td>\n",
       "    </tr>\n",
       "    <tr>\n",
       "      <th>1528583</th>\n",
       "      <td>KMCLK19KP8C035195-01</td>\n",
       "      <td>96부7399</td>\n",
       "      <td>KMCLK18KP8C035195</td>\n",
       "    </tr>\n",
       "    <tr>\n",
       "      <th>1528585</th>\n",
       "      <td>KNME5C2MM8P008790-01</td>\n",
       "      <td>55고3109</td>\n",
       "      <td>KNME5C2MM8P008790</td>\n",
       "    </tr>\n",
       "  </tbody>\n",
       "</table>\n",
       "</div>"
      ],
      "text/plain": [
       "                       차량관리번호   차량등록번호               차대번호\n",
       "1528580  KNAJE55539K557097-01  22더4719  KNAJE55539K557097\n",
       "1528581  KMHJN81VP6U438041-01  06다4703  KMHJN81VP6U438041\n",
       "1528582  KNAKH815BAK669764-01  17무6646  KNAKH815BAK669764\n",
       "1528583  KMCLK19KP8C035195-01  96부7399  KMCLK18KP8C035195\n",
       "1528585  KNME5C2MM8P008790-01  55고3109  KNME5C2MM8P008790"
      ]
     },
     "execution_count": 20,
     "metadata": {},
     "output_type": "execute_result"
    }
   ],
   "source": [
    "df.iloc[:, [0, 1, 6]].reindex(idx12)[-5:]"
   ]
  },
  {
   "cell_type": "code",
   "execution_count": 21,
   "metadata": {},
   "outputs": [
    {
     "name": "stderr",
     "output_type": "stream",
     "text": [
      "1528586it [00:01, 1057805.76it/s]\n"
     ]
    },
    {
     "data": {
      "text/plain": [
       "0"
      ]
     },
     "execution_count": 21,
     "metadata": {},
     "output_type": "execute_result"
    }
   ],
   "source": [
    "count = 0\n",
    "p13 = re.compile('\\d+[가-힣]+\\d+')\n",
    "idx13 = []\n",
    "for i, one in tqdm(enumerate(df.iloc[:, 1].to_numpy())):\n",
    "    if not p13.search(one):\n",
    "        idx13.append(i)\n",
    "        count += 1\n",
    "count"
   ]
  },
  {
   "cell_type": "markdown",
   "metadata": {},
   "source": [
    "### 2\\. 본거지법정동코드\n",
    "- 오류\n",
    "    - null 값 : 0 개\n",
    "    - 숫자가 아닌 값 : 0 개\n",
    "    - 길이가 10이 아닌 값 : 0 개"
   ]
  },
  {
   "cell_type": "code",
   "execution_count": 22,
   "metadata": {},
   "outputs": [
    {
     "data": {
      "text/plain": [
       "0"
      ]
     },
     "execution_count": 22,
     "metadata": {},
     "output_type": "execute_result"
    }
   ],
   "source": [
    "df.iloc[:, 2].isnull().sum()"
   ]
  },
  {
   "cell_type": "code",
   "execution_count": 23,
   "metadata": {},
   "outputs": [
    {
     "data": {
      "text/plain": [
       "4139013200    5442\n",
       "1150010300    4246\n",
       "1162010200    3960\n",
       "2817710500    3936\n",
       "1135010500    3513\n",
       "              ... \n",
       "4479039025       1\n",
       "4575039000       1\n",
       "4119710400       1\n",
       "4163055000       1\n",
       "4371025030       1\n",
       "Name: 본거지법정동코드, Length: 20119, dtype: int64"
      ]
     },
     "execution_count": 23,
     "metadata": {},
     "output_type": "execute_result"
    }
   ],
   "source": [
    "df.iloc[:, 2].value_counts()"
   ]
  },
  {
   "cell_type": "code",
   "execution_count": 24,
   "metadata": {},
   "outputs": [
    {
     "name": "stderr",
     "output_type": "stream",
     "text": [
      "1528586it [00:02, 562088.29it/s]\n"
     ]
    },
    {
     "data": {
      "text/plain": [
       "0"
      ]
     },
     "execution_count": 24,
     "metadata": {},
     "output_type": "execute_result"
    }
   ],
   "source": [
    "# 숫자가 아닌 값\n",
    "count = 0\n",
    "p2 = re.compile('\\D+')\n",
    "idx2 = []\n",
    "for i, one in tqdm(enumerate(df.iloc[:, 2].to_numpy())):\n",
    "    if p2.search(str(one)):\n",
    "        idx2.append(i)\n",
    "        count += 1\n",
    "count"
   ]
  },
  {
   "cell_type": "code",
   "execution_count": 25,
   "metadata": {},
   "outputs": [
    {
     "data": {
      "text/plain": [
       "<re.Match object; span=(1, 7), match='b안녕하세요'>"
      ]
     },
     "execution_count": 25,
     "metadata": {},
     "output_type": "execute_result"
    }
   ],
   "source": [
    "p2.search('2b안녕하세요1a')"
   ]
  },
  {
   "cell_type": "code",
   "execution_count": 26,
   "metadata": {},
   "outputs": [
    {
     "name": "stderr",
     "output_type": "stream",
     "text": [
      "1528586it [00:01, 841358.37it/s]\n"
     ]
    },
    {
     "data": {
      "text/plain": [
       "0"
      ]
     },
     "execution_count": 26,
     "metadata": {},
     "output_type": "execute_result"
    }
   ],
   "source": [
    "count = 0\n",
    "idx21 = []\n",
    "for i, one in tqdm(enumerate(df.iloc[:, 2].to_numpy())):\n",
    "    if len(str(one)) != 10:\n",
    "        idx21.append(i)\n",
    "        count += 1\n",
    "count"
   ]
  },
  {
   "cell_type": "markdown",
   "metadata": {},
   "source": [
    "### 3\\. 소유자구분"
   ]
  },
  {
   "cell_type": "code",
   "execution_count": 27,
   "metadata": {},
   "outputs": [
    {
     "data": {
      "text/plain": [
       "주민     1320642\n",
       "법인      139402\n",
       "사업자      42860\n",
       "외국인      21568\n",
       "기타        4114\n",
       "Name: 소유자구분, dtype: int64"
      ]
     },
     "execution_count": 27,
     "metadata": {},
     "output_type": "execute_result"
    }
   ],
   "source": [
    "df.iloc[:, 3].value_counts()"
   ]
  },
  {
   "cell_type": "markdown",
   "metadata": {},
   "source": [
    "### 4\\. 차종_등록정보"
   ]
  },
  {
   "cell_type": "code",
   "execution_count": 28,
   "metadata": {},
   "outputs": [
    {
     "data": {
      "text/plain": [
       "승용    850752\n",
       "화물    520825\n",
       "승합    148852\n",
       "특수      8155\n",
       "Name: 차종_등록정보, dtype: int64"
      ]
     },
     "execution_count": 28,
     "metadata": {},
     "output_type": "execute_result"
    }
   ],
   "source": [
    "df.iloc[:, 4].value_counts()"
   ]
  },
  {
   "cell_type": "markdown",
   "metadata": {},
   "source": [
    "### 5\\. 용도"
   ]
  },
  {
   "cell_type": "code",
   "execution_count": 29,
   "metadata": {},
   "outputs": [
    {
     "data": {
      "text/plain": [
       "자가용    1481507\n",
       "영업용      41362\n",
       "관용        5717\n",
       "Name: 용도, dtype: int64"
      ]
     },
     "execution_count": 29,
     "metadata": {},
     "output_type": "execute_result"
    }
   ],
   "source": [
    "df.iloc[:, 5].value_counts()"
   ]
  },
  {
   "cell_type": "markdown",
   "metadata": {},
   "source": [
    "### 6\\. [e]차대번호\n",
    "- 오류\n",
    "    - 1\\. null 값 : 0 개\n",
    "    - 2\\. 정상(17자리, 영문 포함) : 1,525,955 개\n",
    "    - 3\\. 17자리, 영문X : 1 개\n",
    "    - 4\\. 17자리X, 영문 : 57 개\n",
    "    - 5\\. 17자리X, 영문X : 2,573 개"
   ]
  },
  {
   "cell_type": "code",
   "execution_count": 30,
   "metadata": {},
   "outputs": [
    {
     "data": {
      "text/plain": [
       "0"
      ]
     },
     "execution_count": 30,
     "metadata": {},
     "output_type": "execute_result"
    }
   ],
   "source": [
    "df.iloc[:, 6].isnull().sum()"
   ]
  },
  {
   "cell_type": "code",
   "execution_count": 31,
   "metadata": {},
   "outputs": [
    {
     "data": {
      "text/plain": [
       "17"
      ]
     },
     "execution_count": 31,
     "metadata": {},
     "output_type": "execute_result"
    }
   ],
   "source": [
    "len('KMHCF21DPSU000012')"
   ]
  },
  {
   "cell_type": "code",
   "execution_count": 32,
   "metadata": {},
   "outputs": [
    {
     "data": {
      "text/plain": [
       "KMHCF21DPSU000012    5\n",
       "KLAVM69H1JB075787    2\n",
       "KMHMF21FPPU018261    2\n",
       "KMHVF21JPKU161128    2\n",
       "KLY7T51BBNC011472    2\n",
       "                    ..\n",
       "KMFZCZ7JABU656518    1\n",
       "KNAFA2223PA131127    1\n",
       "KPACA4AB1BP099521    1\n",
       "KNCSJZ74BBK571321    1\n",
       "KNME5C2MM8P008790    1\n",
       "Name: 차대번호, Length: 1528564, dtype: int64"
      ]
     },
     "execution_count": 32,
     "metadata": {},
     "output_type": "execute_result"
    }
   ],
   "source": [
    "df.iloc[:, 6].value_counts()"
   ]
  },
  {
   "cell_type": "code",
   "execution_count": 33,
   "metadata": {},
   "outputs": [
    {
     "data": {
      "text/plain": [
       "(1528586, 40)"
      ]
     },
     "execution_count": 33,
     "metadata": {},
     "output_type": "execute_result"
    }
   ],
   "source": [
    "df.shape"
   ]
  },
  {
   "cell_type": "code",
   "execution_count": 34,
   "metadata": {},
   "outputs": [
    {
     "name": "stderr",
     "output_type": "stream",
     "text": [
      "1528586it [00:02, 556470.27it/s]\n"
     ]
    },
    {
     "data": {
      "text/plain": [
       "1525955"
      ]
     },
     "execution_count": 34,
     "metadata": {},
     "output_type": "execute_result"
    }
   ],
   "source": [
    "# 17자리, 영문 -> 정상 : 1525955\n",
    "count = 0\n",
    "p61 = re.compile('[a-zA-Z]+')\n",
    "idx61 = []\n",
    "for i, one in tqdm(enumerate(df.iloc[:, 6].to_numpy())):\n",
    "    if len(str(one)) == 17 and p61.search(str(one)):\n",
    "        idx61.append(i)\n",
    "        count += 1\n",
    "count"
   ]
  },
  {
   "cell_type": "code",
   "execution_count": 35,
   "metadata": {},
   "outputs": [
    {
     "name": "stderr",
     "output_type": "stream",
     "text": [
      "1528586it [00:12, 118895.74it/s]\n"
     ]
    },
    {
     "data": {
      "text/plain": [
       "1"
      ]
     },
     "execution_count": 35,
     "metadata": {},
     "output_type": "execute_result"
    }
   ],
   "source": [
    "# 17자리, 영문X : 1\n",
    "count = 0\n",
    "p62 = re.compile('[a-zA-Z]+')\n",
    "idx62 = []\n",
    "for i, one in tqdm(enumerate(df.iloc[:, 6].to_numpy())):\n",
    "    n = 0\n",
    "    for j in str(one):\n",
    "        if p62.search(j):\n",
    "            n += 1\n",
    "    if len(str(one)) == 17 and n == 0:\n",
    "        idx62.append(i)\n",
    "        count += 1\n",
    "count"
   ]
  },
  {
   "cell_type": "code",
   "execution_count": 36,
   "metadata": {},
   "outputs": [
    {
     "data": {
      "text/plain": [
       "708259    01901321371111111\n",
       "Name: 차대번호, dtype: object"
      ]
     },
     "execution_count": 36,
     "metadata": {},
     "output_type": "execute_result"
    }
   ],
   "source": [
    "df.iloc[:, 6].reindex(idx62)"
   ]
  },
  {
   "cell_type": "code",
   "execution_count": 37,
   "metadata": {},
   "outputs": [
    {
     "name": "stderr",
     "output_type": "stream",
     "text": [
      "1528586it [00:00, 1642538.76it/s]\n"
     ]
    },
    {
     "data": {
      "text/plain": [
       "57"
      ]
     },
     "execution_count": 37,
     "metadata": {},
     "output_type": "execute_result"
    }
   ],
   "source": [
    "# 17자리 X, 영문 : 57\n",
    "count = 0\n",
    "p63 = re.compile('[a-zA-Z]+')\n",
    "idx63 = []\n",
    "for i, one in tqdm(enumerate(df.iloc[:, 6].to_numpy())):\n",
    "    if len(str(one)) != 17 and p63.search(one):\n",
    "        idx63.append(i)\n",
    "        count += 1\n",
    "count"
   ]
  },
  {
   "cell_type": "code",
   "execution_count": 38,
   "metadata": {},
   "outputs": [
    {
     "name": "stderr",
     "output_type": "stream",
     "text": [
      "C:\\Users\\kbj\\AppData\\Local\\Temp\\ipykernel_18336\\137706125.py:1: FutureWarning: The behavior of `series[i:j]` with an integer-dtype index is deprecated. In a future version, this will be treated as *label-based* indexing, consistent with e.g. `series[i]` lookups. To retain the old behavior, use `series.iloc[i:j]`. To get the future behavior, use `series.loc[i:j]`.\n",
      "  df.iloc[:, 6].reindex(idx63)[:5]\n"
     ]
    },
    {
     "data": {
      "text/plain": [
       "34589         SL68T032460\n",
       "69588         RPS13330414\n",
       "71114        CN-62-T-2213\n",
       "91950         KPY30051283\n",
       "96602    KNADA2322HS00898\n",
       "Name: 차대번호, dtype: object"
      ]
     },
     "execution_count": 38,
     "metadata": {},
     "output_type": "execute_result"
    }
   ],
   "source": [
    "df.iloc[:, 6].reindex(idx63)[:5]"
   ]
  },
  {
   "cell_type": "code",
   "execution_count": 39,
   "metadata": {},
   "outputs": [
    {
     "name": "stderr",
     "output_type": "stream",
     "text": [
      "1528586it [00:11, 127555.53it/s]\n"
     ]
    },
    {
     "data": {
      "text/plain": [
       "2573"
      ]
     },
     "execution_count": 39,
     "metadata": {},
     "output_type": "execute_result"
    }
   ],
   "source": [
    "# 17자리 X, 영문X : 2573\n",
    "count = 0\n",
    "p64 = re.compile('[a-zA-Z]+')\n",
    "idx64 = []\n",
    "for i, one in tqdm(enumerate(df.iloc[:, 6].to_numpy())):\n",
    "    n = 0\n",
    "    for j in one:\n",
    "        if p64.search(j):\n",
    "            n += 1\n",
    "    if len(str(one)) != 17 and n == 0:\n",
    "        idx64.append(i)\n",
    "        count += 1\n",
    "count"
   ]
  },
  {
   "cell_type": "code",
   "execution_count": 40,
   "metadata": {},
   "outputs": [
    {
     "name": "stderr",
     "output_type": "stream",
     "text": [
      "C:\\Users\\kbj\\AppData\\Local\\Temp\\ipykernel_18336\\420329397.py:1: FutureWarning: The behavior of `series[i:j]` with an integer-dtype index is deprecated. In a future version, this will be treated as *label-based* indexing, consistent with e.g. `series[i]` lookups. To retain the old behavior, use `series.iloc[i:j]`. To get the future behavior, use `series.loc[i:j]`.\n",
      "  df.iloc[:, 6].reindex(idx64)[:5]\n"
     ]
    },
    {
     "data": {
      "text/plain": [
       "429       119811326107\n",
       "692     27931130152305\n",
       "1320      119111327184\n",
       "1475      119811229792\n",
       "1544      219211301625\n",
       "Name: 차대번호, dtype: object"
      ]
     },
     "execution_count": 40,
     "metadata": {},
     "output_type": "execute_result"
    }
   ],
   "source": [
    "df.iloc[:, 6].reindex(idx64)[:5]"
   ]
  },
  {
   "cell_type": "markdown",
   "metadata": {},
   "source": [
    "### 7\\. [e]최초등록일자\n",
    "- 오류\n",
    "    - null 값 : 0 개\n",
    "    - 숫자가 아닌 값 : 0 개\n",
    "    - 길이가 8이 아닌 값 : 2 개"
   ]
  },
  {
   "cell_type": "code",
   "execution_count": 41,
   "metadata": {},
   "outputs": [
    {
     "data": {
      "text/plain": [
       "20080102    4651\n",
       "20110103    4609\n",
       "20090102    4263\n",
       "20080103    2707\n",
       "20100104    2634\n",
       "            ... \n",
       "20160127       1\n",
       "20130617       1\n",
       "20040716       1\n",
       "20130712       1\n",
       "20220614       1\n",
       "Name: 최초등록일자, Length: 8446, dtype: int64"
      ]
     },
     "execution_count": 41,
     "metadata": {},
     "output_type": "execute_result"
    }
   ],
   "source": [
    "df.iloc[:, 7].value_counts()"
   ]
  },
  {
   "cell_type": "code",
   "execution_count": 42,
   "metadata": {},
   "outputs": [
    {
     "data": {
      "text/plain": [
       "0"
      ]
     },
     "execution_count": 42,
     "metadata": {},
     "output_type": "execute_result"
    }
   ],
   "source": [
    "df.iloc[:, 7].isnull().sum()"
   ]
  },
  {
   "cell_type": "code",
   "execution_count": 43,
   "metadata": {},
   "outputs": [
    {
     "name": "stderr",
     "output_type": "stream",
     "text": [
      "1528586it [00:02, 677042.45it/s]\n"
     ]
    },
    {
     "data": {
      "text/plain": [
       "0"
      ]
     },
     "execution_count": 43,
     "metadata": {},
     "output_type": "execute_result"
    }
   ],
   "source": [
    "count = 0\n",
    "p7 = re.compile('\\d+')\n",
    "idx7 = []\n",
    "for i, one in tqdm(enumerate(df.iloc[:, 7].to_numpy())):\n",
    "    if not p7.search(str(one)):\n",
    "        idx7.append(i)\n",
    "        count += 1\n",
    "count"
   ]
  },
  {
   "cell_type": "code",
   "execution_count": 44,
   "metadata": {},
   "outputs": [
    {
     "name": "stderr",
     "output_type": "stream",
     "text": [
      "1528586it [00:01, 918736.69it/s]\n"
     ]
    },
    {
     "data": {
      "text/plain": [
       "2"
      ]
     },
     "execution_count": 44,
     "metadata": {},
     "output_type": "execute_result"
    }
   ],
   "source": [
    "count = 0\n",
    "idx71 = []\n",
    "for i, one in tqdm(enumerate(df.iloc[:, 7].to_numpy())):\n",
    "    if len(str(one)) != 8:\n",
    "        idx71.append(i)\n",
    "        count += 1\n",
    "count"
   ]
  },
  {
   "cell_type": "code",
   "execution_count": 45,
   "metadata": {},
   "outputs": [
    {
     "data": {
      "text/plain": [
       "110669       1993\n",
       "489146    9960617\n",
       "Name: 최초등록일자, dtype: int64"
      ]
     },
     "execution_count": 45,
     "metadata": {},
     "output_type": "execute_result"
    }
   ],
   "source": [
    "df.iloc[:, 7].reindex(idx71)"
   ]
  },
  {
   "cell_type": "markdown",
   "metadata": {},
   "source": [
    "### 8\\. 차량연식\n",
    "- 오류\n",
    "    - null 값 : 0 개\n",
    "    - 길이 4 아닌 값 : 0 개\n",
    "    - 숫자가 아닌 값 : 0 개"
   ]
  },
  {
   "cell_type": "code",
   "execution_count": 46,
   "metadata": {},
   "outputs": [
    {
     "data": {
      "text/plain": [
       "2010    252711\n",
       "2011    237575\n",
       "2008    226868\n",
       "2009    213544\n",
       "2007    107029\n",
       "2012     94187\n",
       "1994     37783\n",
       "1996     36266\n",
       "1995     35395\n",
       "1993     34281\n",
       "2006     34010\n",
       "1992     33927\n",
       "1991     30328\n",
       "1997     29988\n",
       "1990     26704\n",
       "1989     20689\n",
       "1999     20030\n",
       "2000     13327\n",
       "1988     11854\n",
       "1998     10236\n",
       "2002      8971\n",
       "2001      7836\n",
       "1987      1278\n",
       "2005      1068\n",
       "2017       732\n",
       "2018       483\n",
       "2016       482\n",
       "2015       463\n",
       "2004       214\n",
       "2003       169\n",
       "2013        98\n",
       "2014        13\n",
       "2019        13\n",
       "1986        12\n",
       "1985         4\n",
       "2020         3\n",
       "1984         3\n",
       "1979         3\n",
       "1983         3\n",
       "1978         1\n",
       "1981         1\n",
       "1980         1\n",
       "1901         1\n",
       "1968         1\n",
       "1973         1\n",
       "Name: 차량연식, dtype: int64"
      ]
     },
     "execution_count": 46,
     "metadata": {},
     "output_type": "execute_result"
    }
   ],
   "source": [
    "df.iloc[:, 8].value_counts()"
   ]
  },
  {
   "cell_type": "code",
   "execution_count": 47,
   "metadata": {},
   "outputs": [
    {
     "data": {
      "text/plain": [
       "0"
      ]
     },
     "execution_count": 47,
     "metadata": {},
     "output_type": "execute_result"
    }
   ],
   "source": [
    "df.iloc[:, 8].isnull().sum()"
   ]
  },
  {
   "cell_type": "code",
   "execution_count": 48,
   "metadata": {},
   "outputs": [
    {
     "name": "stderr",
     "output_type": "stream",
     "text": [
      "1528586it [00:01, 904369.05it/s]\n"
     ]
    },
    {
     "data": {
      "text/plain": [
       "0"
      ]
     },
     "execution_count": 48,
     "metadata": {},
     "output_type": "execute_result"
    }
   ],
   "source": [
    "count = 0\n",
    "idx8 = []\n",
    "for i, one in tqdm(enumerate(df.iloc[:, 8].to_numpy())):\n",
    "    if len(str(one)) != 4:\n",
    "        idx8.append(i)\n",
    "        count += 1\n",
    "count"
   ]
  },
  {
   "cell_type": "code",
   "execution_count": 49,
   "metadata": {},
   "outputs": [
    {
     "name": "stderr",
     "output_type": "stream",
     "text": [
      "1528586it [00:02, 699257.89it/s]\n"
     ]
    },
    {
     "data": {
      "text/plain": [
       "0"
      ]
     },
     "execution_count": 49,
     "metadata": {},
     "output_type": "execute_result"
    }
   ],
   "source": [
    "count = 0\n",
    "p81 = re.compile('\\d+')\n",
    "idx81 = []\n",
    "for i, one in tqdm(enumerate(df.iloc[:, 8].to_numpy())):\n",
    "    if not p81.search(str(one)):\n",
    "        idx81.append(i)\n",
    "        count += 1\n",
    "count"
   ]
  },
  {
   "cell_type": "markdown",
   "metadata": {},
   "source": [
    "### 9\\. [e]차량제작일자\n",
    "- 오류\n",
    "    - null : 169,661 개\n",
    "    - 8자리 아닌 값(null값 제외) : 4 개\n",
    "    - 숫자가 아닌 값(null값 제외) : 0개"
   ]
  },
  {
   "cell_type": "code",
   "execution_count": 50,
   "metadata": {},
   "outputs": [
    {
     "data": {
      "text/plain": [
       "169661"
      ]
     },
     "execution_count": 50,
     "metadata": {},
     "output_type": "execute_result"
    }
   ],
   "source": [
    "df.iloc[:, 9].isnull().sum()"
   ]
  },
  {
   "cell_type": "code",
   "execution_count": 51,
   "metadata": {},
   "outputs": [
    {
     "data": {
      "text/plain": [
       "20090629.0    1459\n",
       "20090612.0    1444\n",
       "20080219.0    1432\n",
       "20091201.0    1424\n",
       "20090702.0    1402\n",
       "              ... \n",
       "20140628.0       1\n",
       "20030407.0       1\n",
       "20060219.0       1\n",
       "20130128.0       1\n",
       "20190923.0       1\n",
       "Name: 차량제작일자, Length: 8299, dtype: int64"
      ]
     },
     "execution_count": 51,
     "metadata": {},
     "output_type": "execute_result"
    }
   ],
   "source": [
    "df.iloc[:, 9].value_counts()"
   ]
  },
  {
   "cell_type": "code",
   "execution_count": 52,
   "metadata": {},
   "outputs": [
    {
     "data": {
      "text/plain": [
       "0    20110811\n",
       "1    20061104\n",
       "2    20091210\n",
       "3    20070207\n",
       "4    20081123\n",
       "Name: 차량제작일자, dtype: int32"
      ]
     },
     "execution_count": 52,
     "metadata": {},
     "output_type": "execute_result"
    }
   ],
   "source": [
    "temp9 = df.iloc[:, 9].fillna(0).astype('int')\n",
    "temp9[:5]"
   ]
  },
  {
   "cell_type": "code",
   "execution_count": 53,
   "metadata": {},
   "outputs": [
    {
     "name": "stderr",
     "output_type": "stream",
     "text": [
      "1528586it [00:01, 892363.52it/s]\n"
     ]
    },
    {
     "data": {
      "text/plain": [
       "169665"
      ]
     },
     "execution_count": 53,
     "metadata": {},
     "output_type": "execute_result"
    }
   ],
   "source": [
    "# 길이가 8이 아닌 값 : 169,665 개\n",
    "count = 0\n",
    "idx91 = []\n",
    "for i, one in tqdm(enumerate(temp9.to_numpy())):\n",
    "    if len(str(one)) != 8:\n",
    "        idx91.append(i)\n",
    "        count += 1\n",
    "count"
   ]
  },
  {
   "cell_type": "code",
   "execution_count": 54,
   "metadata": {},
   "outputs": [
    {
     "name": "stderr",
     "output_type": "stream",
     "text": [
      "1528586it [00:00, 1665677.09it/s]\n"
     ]
    },
    {
     "data": {
      "text/plain": [
       "169661"
      ]
     },
     "execution_count": 54,
     "metadata": {},
     "output_type": "execute_result"
    }
   ],
   "source": [
    "# null 값 : 169,661 개\n",
    "count = 0\n",
    "idx92 = []\n",
    "for i, one in tqdm(enumerate(temp9.to_numpy())):\n",
    "    if one == 0:\n",
    "        idx92.append(i)\n",
    "        count += 1\n",
    "count"
   ]
  },
  {
   "cell_type": "code",
   "execution_count": 55,
   "metadata": {},
   "outputs": [
    {
     "data": {
      "text/plain": [
       "4"
      ]
     },
     "execution_count": 55,
     "metadata": {},
     "output_type": "execute_result"
    }
   ],
   "source": [
    "# # 길이가 8이 아닌 값 중 null 값 제외 값 : 4 개\n",
    "len(list(set(idx91)^set(idx92)))"
   ]
  },
  {
   "cell_type": "code",
   "execution_count": 56,
   "metadata": {},
   "outputs": [
    {
     "data": {
      "text/plain": [
       "110669        1993\n",
       "1202200    2100819\n",
       "777510     9950407\n",
       "489146     9960617\n",
       "Name: 차량제작일자, dtype: int32"
      ]
     },
     "execution_count": 56,
     "metadata": {},
     "output_type": "execute_result"
    }
   ],
   "source": [
    "temp9.reindex(list(set(idx91)^set(idx92)))"
   ]
  },
  {
   "cell_type": "code",
   "execution_count": 57,
   "metadata": {},
   "outputs": [
    {
     "name": "stderr",
     "output_type": "stream",
     "text": [
      "1528586it [00:02, 673383.50it/s]\n"
     ]
    },
    {
     "data": {
      "text/plain": [
       "0"
      ]
     },
     "execution_count": 57,
     "metadata": {},
     "output_type": "execute_result"
    }
   ],
   "source": [
    "# 숫자가 아닌 값 : 0 개\n",
    "count = 0\n",
    "p93 = re.compile('\\d+')\n",
    "idx93 = []\n",
    "for i, one in tqdm(enumerate(temp9.to_numpy())):\n",
    "    if not p93.search(str(one)):\n",
    "        idx93.append(i)\n",
    "        count += 1\n",
    "count"
   ]
  },
  {
   "cell_type": "markdown",
   "metadata": {},
   "source": [
    "### 10\\. [e]검사유효일\n",
    "- 오류\n",
    "    - null : 12 개\n",
    "    - 8자리 아닌 값 : 12 개\n",
    "    - 숫자가 아닌 값(nan값 제외) : 0 개"
   ]
  },
  {
   "cell_type": "code",
   "execution_count": 58,
   "metadata": {},
   "outputs": [
    {
     "data": {
      "text/plain": [
       "12"
      ]
     },
     "execution_count": 58,
     "metadata": {},
     "output_type": "execute_result"
    }
   ],
   "source": [
    "df.iloc[:, 10].isnull().sum()"
   ]
  },
  {
   "cell_type": "code",
   "execution_count": 59,
   "metadata": {},
   "outputs": [
    {
     "data": {
      "text/plain": [
       "20200103.0    3335\n",
       "20200101.0    3304\n",
       "20200102.0    3132\n",
       "20210101.0    3017\n",
       "20190831.0    2346\n",
       "              ... \n",
       "21060605.0       1\n",
       "19901201.0       1\n",
       "19900208.0       1\n",
       "19900510.0       1\n",
       "20250908.0       1\n",
       "Name: 검사유효일, Length: 12510, dtype: int64"
      ]
     },
     "execution_count": 59,
     "metadata": {},
     "output_type": "execute_result"
    }
   ],
   "source": [
    "df.iloc[:, 10].value_counts()"
   ]
  },
  {
   "cell_type": "code",
   "execution_count": 60,
   "metadata": {},
   "outputs": [
    {
     "data": {
      "text/plain": [
       "0    20200508\n",
       "1    20210101\n",
       "2    20230130\n",
       "3    20210211\n",
       "4    20221231\n",
       "Name: 검사유효일, dtype: int32"
      ]
     },
     "execution_count": 60,
     "metadata": {},
     "output_type": "execute_result"
    }
   ],
   "source": [
    "temp10 = df.iloc[:, 10].fillna(0).astype('int')\n",
    "temp10[:5]"
   ]
  },
  {
   "cell_type": "code",
   "execution_count": 61,
   "metadata": {},
   "outputs": [
    {
     "name": "stderr",
     "output_type": "stream",
     "text": [
      "1528586it [00:01, 903427.18it/s]\n"
     ]
    },
    {
     "data": {
      "text/plain": [
       "12"
      ]
     },
     "execution_count": 61,
     "metadata": {},
     "output_type": "execute_result"
    }
   ],
   "source": [
    "# 길이가 8이 아닌 값 : 12 개\n",
    "count = 0\n",
    "idx101 = []\n",
    "for i, one in tqdm(enumerate(temp10.to_numpy())):\n",
    "    if len(str(one)) != 8:\n",
    "        idx101.append(i)\n",
    "        count += 1\n",
    "count"
   ]
  },
  {
   "cell_type": "code",
   "execution_count": 62,
   "metadata": {},
   "outputs": [
    {
     "name": "stderr",
     "output_type": "stream",
     "text": [
      "1528586it [00:00, 1756496.47it/s]\n"
     ]
    },
    {
     "data": {
      "text/plain": [
       "12"
      ]
     },
     "execution_count": 62,
     "metadata": {},
     "output_type": "execute_result"
    }
   ],
   "source": [
    "# null 값 : 12 개\n",
    "count = 0\n",
    "idx102 = []\n",
    "for i, one in tqdm(enumerate(temp10.to_numpy())):\n",
    "    if one == 0:\n",
    "        idx102.append(i)\n",
    "        count += 1\n",
    "count"
   ]
  },
  {
   "cell_type": "code",
   "execution_count": 63,
   "metadata": {},
   "outputs": [
    {
     "data": {
      "text/plain": [
       "0"
      ]
     },
     "execution_count": 63,
     "metadata": {},
     "output_type": "execute_result"
    }
   ],
   "source": [
    "# 길이가 8이 아닌 값 중 null 값 제외 값 : 0 개\n",
    "    # => 길이가 8이 아닌 값은 전부 null 값\n",
    "len(list(set(idx101)^set(idx102)))"
   ]
  },
  {
   "cell_type": "code",
   "execution_count": 64,
   "metadata": {},
   "outputs": [
    {
     "name": "stderr",
     "output_type": "stream",
     "text": [
      "1528586it [00:02, 659985.82it/s]\n"
     ]
    },
    {
     "data": {
      "text/plain": [
       "0"
      ]
     },
     "execution_count": 64,
     "metadata": {},
     "output_type": "execute_result"
    }
   ],
   "source": [
    "# 숫자가 아닌 값 : 0 개\n",
    "count = 0\n",
    "p103 = re.compile('\\d+')\n",
    "idx103 = []\n",
    "for i, one in tqdm(enumerate(temp10.to_numpy())):\n",
    "    if not p103.search(str(one)):\n",
    "        idx103.append(i)\n",
    "        count += 1\n",
    "count"
   ]
  },
  {
   "cell_type": "markdown",
   "metadata": {},
   "source": [
    "### 11\\. [e]제원관리번호\n",
    "- 오류\n",
    "    - null : 0 개\n",
    "    - 17자리X : 356,933 개\n",
    "    - 17자리X, 숫자X : 30 개"
   ]
  },
  {
   "cell_type": "code",
   "execution_count": 65,
   "metadata": {},
   "outputs": [
    {
     "data": {
      "text/plain": [
       "A0810006801591209    36231\n",
       "A0110003400441206    22730\n",
       "A0810006209233110    19414\n",
       "A0810007402962210    16877\n",
       "A0810006801661210    16186\n",
       "                     ...  \n",
       "B2F10014200003307        1\n",
       "00032701002631207        1\n",
       "30290100000046           1\n",
       "20465900000000           1\n",
       "A0810005209353308        1\n",
       "Name: 제원관리번호, Length: 15315, dtype: int64"
      ]
     },
     "execution_count": 65,
     "metadata": {},
     "output_type": "execute_result"
    }
   ],
   "source": [
    "df.iloc[:, 11].value_counts()"
   ]
  },
  {
   "cell_type": "code",
   "execution_count": 66,
   "metadata": {},
   "outputs": [
    {
     "data": {
      "text/plain": [
       "0"
      ]
     },
     "execution_count": 66,
     "metadata": {},
     "output_type": "execute_result"
    }
   ],
   "source": [
    "df.iloc[:, 11].isnull().sum()"
   ]
  },
  {
   "cell_type": "code",
   "execution_count": 67,
   "metadata": {},
   "outputs": [
    {
     "name": "stderr",
     "output_type": "stream",
     "text": [
      "1528586it [00:01, 1460306.81it/s]\n"
     ]
    },
    {
     "data": {
      "text/plain": [
       "356933"
      ]
     },
     "execution_count": 67,
     "metadata": {},
     "output_type": "execute_result"
    }
   ],
   "source": [
    "# 17자리X : 356933\n",
    "count = 0\n",
    "idx111 = []\n",
    "for i, one in tqdm(enumerate(df.iloc[:, 11].to_numpy())):\n",
    "    if len(str(one)) != 17:\n",
    "        idx111.append(i)\n",
    "        count += 1\n",
    "count"
   ]
  },
  {
   "cell_type": "code",
   "execution_count": 68,
   "metadata": {},
   "outputs": [
    {
     "name": "stderr",
     "output_type": "stream",
     "text": [
      "1528586it [00:01, 1321963.35it/s]\n"
     ]
    },
    {
     "data": {
      "text/plain": [
       "30"
      ]
     },
     "execution_count": 68,
     "metadata": {},
     "output_type": "execute_result"
    }
   ],
   "source": [
    "# 17자리X, 숫자이외 값 : 30\n",
    "count = 0\n",
    "p112 = re.compile('[a-zA-Z가-힣]+')\n",
    "idx112 = []\n",
    "for i, one in tqdm(enumerate(df.iloc[:, 11].to_numpy())):\n",
    "    if len(str(one)) != 17 and p112.search(one):\n",
    "        idx112.append(i)\n",
    "        count += 1\n",
    "count"
   ]
  },
  {
   "cell_type": "markdown",
   "metadata": {},
   "source": [
    "### 12\\. [e]배출가스인증번호\n",
    "- 오류\n",
    "    - null : 123,001 개\n",
    "    - 정상([숫자문자]-[숫자문자]-[숫자문자]-[숫자문자], 12자리) : 1,152,680 개\n",
    "    - 오류 : 375,906 개\n",
    "        - null 값 제외 : 252,905 개"
   ]
  },
  {
   "cell_type": "code",
   "execution_count": 69,
   "metadata": {},
   "outputs": [
    {
     "data": {
      "text/plain": [
       "7MY-HD-14-68      268972\n",
       "8MY-KM-13-19       93969\n",
       "6MY-KM-14-61       76371\n",
       "9MY-KM-14-41       67493\n",
       "7MY-HD-14-46       60364\n",
       "                   ...  \n",
       "8MY-WI-0M-24           1\n",
       "AMY-PPE-14-225         1\n",
       "8MY-SN-0M-24           1\n",
       "7MY-SK-24-03           1\n",
       "AMY-PPE-14-800         1\n",
       "Name: 배출가스인증번호, Length: 304, dtype: int64"
      ]
     },
     "execution_count": 69,
     "metadata": {},
     "output_type": "execute_result"
    }
   ],
   "source": [
    "df.iloc[:, 12].value_counts()"
   ]
  },
  {
   "cell_type": "code",
   "execution_count": 70,
   "metadata": {},
   "outputs": [
    {
     "data": {
      "text/plain": [
       "123001"
      ]
     },
     "execution_count": 70,
     "metadata": {},
     "output_type": "execute_result"
    }
   ],
   "source": [
    "df.iloc[:, 12].isnull().sum()"
   ]
  },
  {
   "cell_type": "code",
   "execution_count": 71,
   "metadata": {},
   "outputs": [
    {
     "name": "stderr",
     "output_type": "stream",
     "text": [
      "1528586it [00:01, 938462.23it/s]\n"
     ]
    },
    {
     "data": {
      "text/plain": [
       "1152680"
      ]
     },
     "execution_count": 71,
     "metadata": {},
     "output_type": "execute_result"
    }
   ],
   "source": [
    "# 정상 : 1152680\n",
    "count = 0\n",
    "p121 = re.compile('[a-zA-Z0-9]{3}[-][a-zA-Z]{2}[-][0-9]{2}[-][0-9]{2}')\n",
    "idx121 = []\n",
    "for i, one in tqdm(enumerate(df.iloc[:, 12].to_numpy())):\n",
    "    if p121.search(str(one)):\n",
    "        idx121.append(i)\n",
    "        count += 1\n",
    "count"
   ]
  },
  {
   "cell_type": "code",
   "execution_count": 72,
   "metadata": {},
   "outputs": [
    {
     "name": "stderr",
     "output_type": "stream",
     "text": [
      "1528586it [00:01, 999770.36it/s] \n"
     ]
    },
    {
     "data": {
      "text/plain": [
       "375906"
      ]
     },
     "execution_count": 72,
     "metadata": {},
     "output_type": "execute_result"
    }
   ],
   "source": [
    "# 오류값 : 375906\n",
    "count = 0\n",
    "idx122 = []\n",
    "for i, one in tqdm(enumerate(df.iloc[:, 12].to_numpy())):\n",
    "    if not p121.search(str(one)):\n",
    "        idx122.append(i)\n",
    "        count += 1\n",
    "count"
   ]
  },
  {
   "cell_type": "code",
   "execution_count": 73,
   "metadata": {},
   "outputs": [
    {
     "name": "stderr",
     "output_type": "stream",
     "text": [
      "C:\\Users\\kbj\\AppData\\Local\\Temp\\ipykernel_18336\\4092535168.py:1: FutureWarning: The behavior of `series[i:j]` with an integer-dtype index is deprecated. In a future version, this will be treated as *label-based* indexing, consistent with e.g. `series[i]` lookups. To retain the old behavior, use `series.iloc[i:j]`. To get the future behavior, use `series.loc[i:j]`.\n",
      "  df.iloc[:, 12].reindex(idx122)[:5]\n"
     ]
    },
    {
     "data": {
      "text/plain": [
       "5     VMY-KM-38\n",
       "21    RMY-HD-20\n",
       "28    KMY-HD-03\n",
       "29          NaN\n",
       "36          NaN\n",
       "Name: 배출가스인증번호, dtype: object"
      ]
     },
     "execution_count": 73,
     "metadata": {},
     "output_type": "execute_result"
    }
   ],
   "source": [
    "df.iloc[:, 12].reindex(idx122)[:5]"
   ]
  },
  {
   "cell_type": "code",
   "execution_count": 89,
   "metadata": {},
   "outputs": [
    {
     "data": {
      "text/plain": [
       "Int64Index([     29,      36,      42,      63,      67,      92,      98,\n",
       "                108,     128,     147,\n",
       "            ...\n",
       "            1528534, 1528535, 1528536, 1528538, 1528539, 1528540, 1528548,\n",
       "            1528561, 1528583, 1528584],\n",
       "           dtype='int64', length=123001)"
      ]
     },
     "execution_count": 89,
     "metadata": {},
     "output_type": "execute_result"
    }
   ],
   "source": [
    "df[df['배출가스인증번호'].isnull() == True]['배출가스인증번호'].index"
   ]
  },
  {
   "cell_type": "code",
   "execution_count": 90,
   "metadata": {},
   "outputs": [
    {
     "data": {
      "text/plain": [
       "123001"
      ]
     },
     "execution_count": 90,
     "metadata": {},
     "output_type": "execute_result"
    }
   ],
   "source": [
    "idx123 = df[df['배출가스인증번호'].isnull() == True]['배출가스인증번호'].index\n",
    "len(idx123)"
   ]
  },
  {
   "cell_type": "code",
   "execution_count": 91,
   "metadata": {},
   "outputs": [
    {
     "name": "stderr",
     "output_type": "stream",
     "text": [
      "C:\\Users\\kbj\\AppData\\Local\\Temp\\ipykernel_18336\\495780953.py:1: FutureWarning: The behavior of `series[i:j]` with an integer-dtype index is deprecated. In a future version, this will be treated as *label-based* indexing, consistent with e.g. `series[i]` lookups. To retain the old behavior, use `series.iloc[i:j]`. To get the future behavior, use `series.loc[i:j]`.\n",
      "  df.iloc[:, 12].reindex(idx123)[:5]\n"
     ]
    },
    {
     "data": {
      "text/plain": [
       "29    NaN\n",
       "36    NaN\n",
       "42    NaN\n",
       "63    NaN\n",
       "67    NaN\n",
       "Name: 배출가스인증번호, dtype: object"
      ]
     },
     "execution_count": 91,
     "metadata": {},
     "output_type": "execute_result"
    }
   ],
   "source": [
    "df.iloc[:, 12].reindex(idx123)[:5]"
   ]
  },
  {
   "cell_type": "code",
   "execution_count": 92,
   "metadata": {},
   "outputs": [
    {
     "data": {
      "text/plain": [
       "252905"
      ]
     },
     "execution_count": 92,
     "metadata": {},
     "output_type": "execute_result"
    }
   ],
   "source": [
    "# null 값 제외한 오류 값 : 252905\n",
    "len(set(idx122) - set(idx123))"
   ]
  },
  {
   "cell_type": "code",
   "execution_count": 94,
   "metadata": {},
   "outputs": [
    {
     "name": "stderr",
     "output_type": "stream",
     "text": [
      "C:\\Users\\kbj\\AppData\\Local\\Temp\\ipykernel_18336\\1563131270.py:1: FutureWarning: The behavior of `series[i:j]` with an integer-dtype index is deprecated. In a future version, this will be treated as *label-based* indexing, consistent with e.g. `series[i]` lookups. To retain the old behavior, use `series.iloc[i:j]`. To get the future behavior, use `series.loc[i:j]`.\n",
      "  df.iloc[:, 12].reindex(sorted(set(idx122) - set(idx123)))[:5]\n"
     ]
    },
    {
     "data": {
      "text/plain": [
       "5     VMY-KM-38\n",
       "21    RMY-HD-20\n",
       "28    KMY-HD-03\n",
       "46    RMY-HD-20\n",
       "62    MMY-HD-11\n",
       "Name: 배출가스인증번호, dtype: object"
      ]
     },
     "execution_count": 94,
     "metadata": {},
     "output_type": "execute_result"
    }
   ],
   "source": [
    "df.iloc[:, 12].reindex(sorted(set(idx122) - set(idx123)))[:5]"
   ]
  },
  {
   "cell_type": "markdown",
   "metadata": {},
   "source": [
    "### 13\\. 배출가스등급\n",
    "- 오류\n",
    "    - null : 0 개"
   ]
  },
  {
   "cell_type": "code",
   "execution_count": 95,
   "metadata": {},
   "outputs": [
    {
     "data": {
      "text/plain": [
       "4    1528586\n",
       "Name: 배출가스등급, dtype: int64"
      ]
     },
     "execution_count": 95,
     "metadata": {},
     "output_type": "execute_result"
    }
   ],
   "source": [
    "df.iloc[:, 13].value_counts()"
   ]
  },
  {
   "cell_type": "code",
   "execution_count": 96,
   "metadata": {},
   "outputs": [
    {
     "data": {
      "text/plain": [
       "0"
      ]
     },
     "execution_count": 96,
     "metadata": {},
     "output_type": "execute_result"
    }
   ],
   "source": [
    "df.iloc[:, 13].isnull().sum()"
   ]
  },
  {
   "cell_type": "markdown",
   "metadata": {},
   "source": [
    "### 14\\. [e]저공해조치종류\n",
    "- 오류\n",
    "    - null : 1,528,391 개"
   ]
  },
  {
   "cell_type": "code",
   "execution_count": 97,
   "metadata": {},
   "outputs": [
    {
     "data": {
      "text/plain": [
       "2종 저감장치 부착    115\n",
       "1종 저감장치 부착     71\n",
       "엔진개조            4\n",
       "3종 저감장치 부착      4\n",
       "동시저감장치 부착       1\n",
       "Name: 저공해조치종류, dtype: int64"
      ]
     },
     "execution_count": 97,
     "metadata": {},
     "output_type": "execute_result"
    }
   ],
   "source": [
    "df.iloc[:, 14].value_counts()"
   ]
  },
  {
   "cell_type": "code",
   "execution_count": 98,
   "metadata": {},
   "outputs": [
    {
     "data": {
      "text/plain": [
       "1528391"
      ]
     },
     "execution_count": 98,
     "metadata": {},
     "output_type": "execute_result"
    }
   ],
   "source": [
    "df.iloc[:, 14].isnull().sum()"
   ]
  },
  {
   "cell_type": "markdown",
   "metadata": {},
   "source": [
    "### 15\\. 저공해조치구조변경YN\n",
    "- 오류\n",
    "    - null : 0 개"
   ]
  },
  {
   "cell_type": "code",
   "execution_count": 99,
   "metadata": {},
   "outputs": [
    {
     "data": {
      "text/plain": [
       "N    1215924\n",
       "Y     312662\n",
       "Name: 저공해조치구조변경YN, dtype: int64"
      ]
     },
     "execution_count": 99,
     "metadata": {},
     "output_type": "execute_result"
    }
   ],
   "source": [
    "df.iloc[:, 15].value_counts()"
   ]
  },
  {
   "cell_type": "code",
   "execution_count": 100,
   "metadata": {},
   "outputs": [
    {
     "data": {
      "text/plain": [
       "0"
      ]
     },
     "execution_count": 100,
     "metadata": {},
     "output_type": "execute_result"
    }
   ],
   "source": [
    "df.iloc[:, 15].isnull().sum()"
   ]
  },
  {
   "cell_type": "markdown",
   "metadata": {},
   "source": [
    "### 16\\. 차량말소YN\n",
    "- 오류\n",
    "    - null : 0 개"
   ]
  },
  {
   "cell_type": "code",
   "execution_count": 101,
   "metadata": {},
   "outputs": [
    {
     "data": {
      "text/plain": [
       "N    1528586\n",
       "Name: 차량말소YN, dtype: int64"
      ]
     },
     "execution_count": 101,
     "metadata": {},
     "output_type": "execute_result"
    }
   ],
   "source": [
    "df.iloc[:, 16].value_counts()"
   ]
  },
  {
   "cell_type": "code",
   "execution_count": 102,
   "metadata": {},
   "outputs": [
    {
     "data": {
      "text/plain": [
       "0"
      ]
     },
     "execution_count": 102,
     "metadata": {},
     "output_type": "execute_result"
    }
   ],
   "source": [
    "df.iloc[:, 16].isnull().sum()"
   ]
  },
  {
   "cell_type": "markdown",
   "metadata": {},
   "source": [
    "### 17\\. [e]취득일자\n",
    "- 오류\n",
    "    - null :  93,072개\n",
    "    - 8자리 아닌 값 : 2 개\n",
    "    - 숫자가 아닌 값(nan값 제외) :  0 개"
   ]
  },
  {
   "cell_type": "code",
   "execution_count": 103,
   "metadata": {},
   "outputs": [
    {
     "data": {
      "text/plain": [
       "20220607.0    1008\n",
       "20220627.0     901\n",
       "20220602.0     883\n",
       "20220620.0     844\n",
       "20220530.0     833\n",
       "              ... \n",
       "20070221         1\n",
       "20110306         1\n",
       "20020628         1\n",
       "20150415         1\n",
       "20051218.0       1\n",
       "Name: 취득일자, Length: 16929, dtype: int64"
      ]
     },
     "execution_count": 103,
     "metadata": {},
     "output_type": "execute_result"
    }
   ],
   "source": [
    "df.iloc[:, 17].value_counts()"
   ]
  },
  {
   "cell_type": "code",
   "execution_count": 104,
   "metadata": {},
   "outputs": [
    {
     "data": {
      "text/plain": [
       "93072"
      ]
     },
     "execution_count": 104,
     "metadata": {},
     "output_type": "execute_result"
    }
   ],
   "source": [
    "df.iloc[:, 17].isnull().sum()"
   ]
  },
  {
   "cell_type": "code",
   "execution_count": 111,
   "metadata": {},
   "outputs": [
    {
     "data": {
      "text/plain": [
       "dtype('O')"
      ]
     },
     "execution_count": 111,
     "metadata": {},
     "output_type": "execute_result"
    }
   ],
   "source": [
    "df['취득일자'].dtype"
   ]
  },
  {
   "cell_type": "code",
   "execution_count": 113,
   "metadata": {},
   "outputs": [],
   "source": [
    "idx171 = []\n",
    "for i, one in enumerate(df['취득일자'].to_numpy()):\n",
    "    try:\n",
    "        int(one)\n",
    "    except:\n",
    "        idx171.append(i)"
   ]
  },
  {
   "cell_type": "code",
   "execution_count": 114,
   "metadata": {},
   "outputs": [
    {
     "data": {
      "text/plain": [
       "93074"
      ]
     },
     "execution_count": 114,
     "metadata": {},
     "output_type": "execute_result"
    }
   ],
   "source": [
    "len(idx171)"
   ]
  },
  {
   "cell_type": "code",
   "execution_count": 115,
   "metadata": {},
   "outputs": [
    {
     "data": {
      "text/plain": [
       "93072"
      ]
     },
     "execution_count": 115,
     "metadata": {},
     "output_type": "execute_result"
    }
   ],
   "source": [
    "idx172 = df[df['취득일자'].isnull() == True]['취득일자'].index\n",
    "len(idx172)"
   ]
  },
  {
   "cell_type": "code",
   "execution_count": 116,
   "metadata": {},
   "outputs": [
    {
     "data": {
      "text/plain": [
       "735987     200109 9\n",
       "1372039    2001 412\n",
       "Name: 취득일자, dtype: object"
      ]
     },
     "execution_count": 116,
     "metadata": {},
     "output_type": "execute_result"
    }
   ],
   "source": [
    "df.iloc[sorted(set(idx171) - set(idx172)), 17]"
   ]
  },
  {
   "cell_type": "markdown",
   "metadata": {},
   "source": [
    "### 18\\. [e]취득금액\n",
    "- 오류\n",
    "    - null : 74,973 개\n",
    "    - 숫자가 아닌 값 : 0 개"
   ]
  },
  {
   "cell_type": "code",
   "execution_count": 117,
   "metadata": {},
   "outputs": [
    {
     "data": {
      "text/plain": [
       "0.0            258676\n",
       "1000000.0       43125\n",
       "500000.0        29818\n",
       "2000000.0       28457\n",
       "100000.0        27958\n",
       "                ...  \n",
       "62790.0             1\n",
       "100761818.0         1\n",
       "26188580.0          1\n",
       "17523047.0          1\n",
       "20240.0             1\n",
       "Name: 취득금액, Length: 159946, dtype: int64"
      ]
     },
     "execution_count": 117,
     "metadata": {},
     "output_type": "execute_result"
    }
   ],
   "source": [
    "df.iloc[:, 18].value_counts()"
   ]
  },
  {
   "cell_type": "code",
   "execution_count": 118,
   "metadata": {},
   "outputs": [
    {
     "data": {
      "text/plain": [
       "74973"
      ]
     },
     "execution_count": 118,
     "metadata": {},
     "output_type": "execute_result"
    }
   ],
   "source": [
    "df.iloc[:, 18].isnull().sum()"
   ]
  },
  {
   "cell_type": "code",
   "execution_count": 122,
   "metadata": {},
   "outputs": [
    {
     "name": "stderr",
     "output_type": "stream",
     "text": [
      "1528586it [00:02, 690456.77it/s]\n"
     ]
    },
    {
     "data": {
      "text/plain": [
       "74973"
      ]
     },
     "execution_count": 122,
     "metadata": {},
     "output_type": "execute_result"
    }
   ],
   "source": [
    "p18 = re.compile('\\D+')\n",
    "idx181 = []\n",
    "idx182 = []\n",
    "count = 0\n",
    "for i, one in tqdm(enumerate(df.iloc[:, 18].to_numpy())):\n",
    "    try:\n",
    "        if p18.search(str(int(one))):\n",
    "            idx181.append(i)\n",
    "            count += 1\n",
    "    except:\n",
    "        idx182.append(i)\n",
    "        count += 1\n",
    "count"
   ]
  },
  {
   "cell_type": "code",
   "execution_count": 125,
   "metadata": {},
   "outputs": [
    {
     "data": {
      "text/plain": [
       "(0, 74973)"
      ]
     },
     "execution_count": 125,
     "metadata": {},
     "output_type": "execute_result"
    }
   ],
   "source": [
    "len(idx181), len(idx182)"
   ]
  },
  {
   "cell_type": "code",
   "execution_count": 123,
   "metadata": {},
   "outputs": [
    {
     "name": "stderr",
     "output_type": "stream",
     "text": [
      "C:\\Users\\kbj\\AppData\\Local\\Temp\\ipykernel_18336\\2151798388.py:1: FutureWarning: The behavior of `series[i:j]` with an integer-dtype index is deprecated. In a future version, this will be treated as *label-based* indexing, consistent with e.g. `series[i]` lookups. To retain the old behavior, use `series.iloc[i:j]`. To get the future behavior, use `series.loc[i:j]`.\n",
      "  df.iloc[:, 18].reindex(idx182)[:5]\n"
     ]
    },
    {
     "data": {
      "text/plain": [
       "62    NaN\n",
       "98    NaN\n",
       "128   NaN\n",
       "146   NaN\n",
       "156   NaN\n",
       "Name: 취득금액, dtype: float64"
      ]
     },
     "execution_count": 123,
     "metadata": {},
     "output_type": "execute_result"
    }
   ],
   "source": [
    "df.iloc[:, 18].reindex(idx182)[:5]"
   ]
  },
  {
   "cell_type": "markdown",
   "metadata": {},
   "source": [
    "### 19\\. 차명\n",
    "- 오류\n",
    "    - null : 0 개"
   ]
  },
  {
   "cell_type": "code",
   "execution_count": 126,
   "metadata": {},
   "outputs": [
    {
     "data": {
      "text/plain": [
       "포터Ⅱ(PORTERⅡ)              180795\n",
       "싼타페(SANTAFE)              138850\n",
       "스포티지                       76497\n",
       "그랜드 스타렉스(GRAND STAREX)     74977\n",
       "투싼(TUCSON)                 58687\n",
       "                           ...  \n",
       "CIVIC SiR                      1\n",
       "TACOMA3.4                      1\n",
       "미니브리티시오픈                       1\n",
       "BMW 525itA                     1\n",
       "메가트럭군물자수송                      1\n",
       "Name: 차명, Length: 3572, dtype: int64"
      ]
     },
     "execution_count": 126,
     "metadata": {},
     "output_type": "execute_result"
    }
   ],
   "source": [
    "df.iloc[:, 19].value_counts()"
   ]
  },
  {
   "cell_type": "code",
   "execution_count": 127,
   "metadata": {},
   "outputs": [
    {
     "data": {
      "text/plain": [
       "0"
      ]
     },
     "execution_count": 127,
     "metadata": {},
     "output_type": "execute_result"
    }
   ],
   "source": [
    "df.iloc[:, 19].isnull().sum()"
   ]
  },
  {
   "cell_type": "markdown",
   "metadata": {},
   "source": [
    "### 20\\. 차종_제원정보\n",
    "- 오류\n",
    "    - null : 0 개"
   ]
  },
  {
   "cell_type": "code",
   "execution_count": 128,
   "metadata": {},
   "outputs": [
    {
     "data": {
      "text/plain": [
       "승용    843902\n",
       "화물    521971\n",
       "승합    155705\n",
       "특수      7008\n",
       "Name: 차종_제원정보, dtype: int64"
      ]
     },
     "execution_count": 128,
     "metadata": {},
     "output_type": "execute_result"
    }
   ],
   "source": [
    "df.iloc[:, 20].value_counts()"
   ]
  },
  {
   "cell_type": "code",
   "execution_count": 129,
   "metadata": {},
   "outputs": [
    {
     "data": {
      "text/plain": [
       "0"
      ]
     },
     "execution_count": 129,
     "metadata": {},
     "output_type": "execute_result"
    }
   ],
   "source": [
    "df.iloc[:, 20].isnull().sum()"
   ]
  },
  {
   "cell_type": "markdown",
   "metadata": {},
   "source": [
    "### 21\\. 차종분류\n",
    "- 오류\n",
    "    - null : 0 개"
   ]
  },
  {
   "cell_type": "code",
   "execution_count": 130,
   "metadata": {},
   "outputs": [
    {
     "data": {
      "text/plain": [
       "일반             540536\n",
       "다목적            439052\n",
       "일반형-카고         370138\n",
       "밴               63114\n",
       "특수용도형-특수용도형     51196\n",
       "일반형-픽업          31406\n",
       "기타              18027\n",
       "덤프               5965\n",
       "견인               5446\n",
       "특수               1725\n",
       "특수작업형             854\n",
       "구난                708\n",
       "승용겸화물             267\n",
       "특수용도형-탱크로리        151\n",
       "특수용도형-피견인           1\n",
       "Name: 차종분류, dtype: int64"
      ]
     },
     "execution_count": 130,
     "metadata": {},
     "output_type": "execute_result"
    }
   ],
   "source": [
    "df.iloc[:, 21].value_counts()"
   ]
  },
  {
   "cell_type": "code",
   "execution_count": 131,
   "metadata": {},
   "outputs": [
    {
     "data": {
      "text/plain": [
       "0"
      ]
     },
     "execution_count": 131,
     "metadata": {},
     "output_type": "execute_result"
    }
   ],
   "source": [
    "df.iloc[:, 21].isnull().sum()"
   ]
  },
  {
   "cell_type": "markdown",
   "metadata": {},
   "source": [
    "### 22\\. 차종유형\n",
    "- 오류\n",
    "    - null : 0 개"
   ]
  },
  {
   "cell_type": "code",
   "execution_count": 132,
   "metadata": {},
   "outputs": [
    {
     "data": {
      "text/plain": [
       "중형    698798\n",
       "소형    582232\n",
       "대형    219531\n",
       "경형     28025\n",
       "Name: 차종유형, dtype: int64"
      ]
     },
     "execution_count": 132,
     "metadata": {},
     "output_type": "execute_result"
    }
   ],
   "source": [
    "df.iloc[:, 22].value_counts()"
   ]
  },
  {
   "cell_type": "code",
   "execution_count": 134,
   "metadata": {},
   "outputs": [
    {
     "data": {
      "text/plain": [
       "0"
      ]
     },
     "execution_count": 134,
     "metadata": {},
     "output_type": "execute_result"
    }
   ],
   "source": [
    "df.iloc[:, 22].isnull().sum()"
   ]
  },
  {
   "cell_type": "markdown",
   "metadata": {},
   "source": [
    "### 23\\. [e]자동차형식\n",
    "- 오류\n",
    "    - null : 284 개"
   ]
  },
  {
   "cell_type": "code",
   "execution_count": 135,
   "metadata": {},
   "outputs": [
    {
     "data": {
      "text/plain": [
       "CM7UBA               36235\n",
       "CA26R                23887\n",
       "JE553G-HG            22730\n",
       "HRQJA-DX-B           19414\n",
       "TQ-12JAB-1           16880\n",
       "                     ...  \n",
       "HD2-42-10Le-BEIT1        1\n",
       "EN-7NS3DAF8-2            1\n",
       "HBSV-VD138               1\n",
       "KTH-18L14.5-410          1\n",
       "HD050-8MT2-LGc-A         1\n",
       "Name: 자동차형식, Length: 8114, dtype: int64"
      ]
     },
     "execution_count": 135,
     "metadata": {},
     "output_type": "execute_result"
    }
   ],
   "source": [
    "df.iloc[:, 23].value_counts()"
   ]
  },
  {
   "cell_type": "code",
   "execution_count": 136,
   "metadata": {},
   "outputs": [
    {
     "data": {
      "text/plain": [
       "284"
      ]
     },
     "execution_count": 136,
     "metadata": {},
     "output_type": "execute_result"
    }
   ],
   "source": [
    "df.iloc[:, 23].isnull().sum()"
   ]
  },
  {
   "cell_type": "markdown",
   "metadata": {},
   "source": [
    "### 24\\. [e]제작사명\n",
    "- 오류\n",
    "    - null : 9,892 개"
   ]
  },
  {
   "cell_type": "code",
   "execution_count": 137,
   "metadata": {},
   "outputs": [
    {
     "data": {
      "text/plain": [
       "현대자동차(주)       891178\n",
       "기아자동차(주)       377792\n",
       "대우자동차(주)        62506\n",
       "한국지엠주식회사        53957\n",
       "쌍용자동차(주)        41016\n",
       "                ...  \n",
       "(주) 미래교통렌트카         1\n",
       "마이웨이                1\n",
       "고랜드코리아              1\n",
       "백상 CTC              1\n",
       "서울시티투어버스(주)         1\n",
       "Name: 제작사명, Length: 669, dtype: int64"
      ]
     },
     "execution_count": 137,
     "metadata": {},
     "output_type": "execute_result"
    }
   ],
   "source": [
    "df.iloc[:, 24].value_counts()"
   ]
  },
  {
   "cell_type": "code",
   "execution_count": 138,
   "metadata": {},
   "outputs": [
    {
     "data": {
      "text/plain": [
       "9892"
      ]
     },
     "execution_count": 138,
     "metadata": {},
     "output_type": "execute_result"
    }
   ],
   "source": [
    "df.iloc[:, 24].isnull().sum()"
   ]
  },
  {
   "cell_type": "markdown",
   "metadata": {},
   "source": [
    "### 25\\. 연료\n",
    "- 오류\n",
    "    - null : 0 개"
   ]
  },
  {
   "cell_type": "code",
   "execution_count": 139,
   "metadata": {},
   "outputs": [
    {
     "data": {
      "text/plain": [
       "경유             1167610\n",
       "휘발유             334517\n",
       "LPG(액화석유가스)      26419\n",
       "기타연료                38\n",
       "알코올                  1\n",
       "CNG(압축천연가스)          1\n",
       "Name: 연료, dtype: int64"
      ]
     },
     "execution_count": 139,
     "metadata": {},
     "output_type": "execute_result"
    }
   ],
   "source": [
    "df.iloc[:, 25].value_counts()"
   ]
  },
  {
   "cell_type": "code",
   "execution_count": 140,
   "metadata": {},
   "outputs": [
    {
     "data": {
      "text/plain": [
       "0"
      ]
     },
     "execution_count": 140,
     "metadata": {},
     "output_type": "execute_result"
    }
   ],
   "source": [
    "df.iloc[:, 25].isnull().sum()"
   ]
  },
  {
   "cell_type": "markdown",
   "metadata": {},
   "source": [
    "### 26\\. [e]엔진형식\n",
    "- 오류\n",
    "    - null : 1,846 개"
   ]
  },
  {
   "cell_type": "code",
   "execution_count": 141,
   "metadata": {},
   "outputs": [
    {
     "data": {
      "text/plain": [
       "D4CB           407006\n",
       "D4EA           190781\n",
       "J3             139727\n",
       "D6EA            75036\n",
       "Z20S            53958\n",
       "                ...  \n",
       "12A2DJ01            1\n",
       "AR01544             1\n",
       "LT-1                1\n",
       "J3-8-VF-F           1\n",
       "D2676 LOH02         1\n",
       "Name: 엔진형식, Length: 1428, dtype: int64"
      ]
     },
     "execution_count": 141,
     "metadata": {},
     "output_type": "execute_result"
    }
   ],
   "source": [
    "df.iloc[:, 26].value_counts()"
   ]
  },
  {
   "cell_type": "code",
   "execution_count": 142,
   "metadata": {},
   "outputs": [
    {
     "data": {
      "text/plain": [
       "1846"
      ]
     },
     "execution_count": 142,
     "metadata": {},
     "output_type": "execute_result"
    }
   ],
   "source": [
    "df.iloc[:, 26].isnull().sum()"
   ]
  },
  {
   "cell_type": "markdown",
   "metadata": {},
   "source": [
    "### 27\\. [e]총중량\n",
    "- 오류\n",
    "    - null : 1 개\n",
    "    - 숫자가 아닌 값 : 0 개"
   ]
  },
  {
   "cell_type": "code",
   "execution_count": 143,
   "metadata": {},
   "outputs": [
    {
     "data": {
      "text/plain": [
       "2925.0     66420\n",
       "2285.0     53732\n",
       "2950.0     51480\n",
       "2955.0     47126\n",
       "2345.0     39729\n",
       "           ...  \n",
       "6960.0         1\n",
       "10570.0        1\n",
       "35180.0        1\n",
       "5435.0         1\n",
       "21690.0        1\n",
       "Name: 총중량, Length: 2121, dtype: int64"
      ]
     },
     "execution_count": 143,
     "metadata": {},
     "output_type": "execute_result"
    }
   ],
   "source": [
    "df.iloc[:, 27].value_counts()"
   ]
  },
  {
   "cell_type": "code",
   "execution_count": 144,
   "metadata": {},
   "outputs": [
    {
     "data": {
      "text/plain": [
       "1"
      ]
     },
     "execution_count": 144,
     "metadata": {},
     "output_type": "execute_result"
    }
   ],
   "source": [
    "df.iloc[:, 27].isnull().sum()"
   ]
  },
  {
   "cell_type": "code",
   "execution_count": 145,
   "metadata": {},
   "outputs": [
    {
     "name": "stderr",
     "output_type": "stream",
     "text": [
      "1528586it [00:02, 662307.08it/s]\n"
     ]
    },
    {
     "data": {
      "text/plain": [
       "1"
      ]
     },
     "execution_count": 145,
     "metadata": {},
     "output_type": "execute_result"
    }
   ],
   "source": [
    "p27 = re.compile('\\D+')\n",
    "idx271 = []\n",
    "idx272 = []\n",
    "count = 0\n",
    "for i, one in tqdm(enumerate(df.iloc[:, 27].to_numpy())):\n",
    "    try:\n",
    "        if p27.search(str(int(one))):\n",
    "            idx271.append(i)\n",
    "            count += 1\n",
    "    except:\n",
    "        idx272.append(i)\n",
    "        count += 1\n",
    "count"
   ]
  },
  {
   "cell_type": "code",
   "execution_count": 146,
   "metadata": {},
   "outputs": [
    {
     "data": {
      "text/plain": [
       "(0, 1)"
      ]
     },
     "execution_count": 146,
     "metadata": {},
     "output_type": "execute_result"
    }
   ],
   "source": [
    "len(idx271), len(idx272)"
   ]
  },
  {
   "cell_type": "markdown",
   "metadata": {},
   "source": [
    "### 28\\. [e]적재중량\n",
    "- 오류\n",
    "    - null : 511 개\n",
    "    - 숫자가 아닌 값 : 0 개"
   ]
  },
  {
   "cell_type": "code",
   "execution_count": 149,
   "metadata": {},
   "outputs": [
    {
     "data": {
      "text/plain": [
       "0.0         999646\n",
       "1000.0      351435\n",
       "600.0        41249\n",
       "400.0        31382\n",
       "800.0        24526\n",
       "             ...  \n",
       "9400.0           1\n",
       "10200.0          1\n",
       "450000.0         1\n",
       "14200.0          1\n",
       "800000.0         1\n",
       "Name: 적재중량, Length: 164, dtype: int64"
      ]
     },
     "execution_count": 149,
     "metadata": {},
     "output_type": "execute_result"
    }
   ],
   "source": [
    "df.iloc[:, 28].value_counts()"
   ]
  },
  {
   "cell_type": "code",
   "execution_count": 150,
   "metadata": {},
   "outputs": [
    {
     "data": {
      "text/plain": [
       "511"
      ]
     },
     "execution_count": 150,
     "metadata": {},
     "output_type": "execute_result"
    }
   ],
   "source": [
    "df.iloc[:, 28].isnull().sum()"
   ]
  },
  {
   "cell_type": "code",
   "execution_count": 151,
   "metadata": {},
   "outputs": [
    {
     "name": "stderr",
     "output_type": "stream",
     "text": [
      "1528586it [00:02, 690660.57it/s]\n"
     ]
    },
    {
     "data": {
      "text/plain": [
       "511"
      ]
     },
     "execution_count": 151,
     "metadata": {},
     "output_type": "execute_result"
    }
   ],
   "source": [
    "p28 = re.compile('\\D+')\n",
    "idx281 = []\n",
    "idx282 = []\n",
    "count = 0\n",
    "for i, one in tqdm(enumerate(df.iloc[:, 28].to_numpy())):\n",
    "    try:\n",
    "        if p28.search(str(int(one))):\n",
    "            idx281.append(i)\n",
    "            count += 1\n",
    "    except:\n",
    "        idx282.append(i)\n",
    "        count += 1\n",
    "count"
   ]
  },
  {
   "cell_type": "code",
   "execution_count": 152,
   "metadata": {},
   "outputs": [
    {
     "data": {
      "text/plain": [
       "(0, 511)"
      ]
     },
     "execution_count": 152,
     "metadata": {},
     "output_type": "execute_result"
    }
   ],
   "source": [
    "len(idx281), len(idx282)"
   ]
  },
  {
   "cell_type": "markdown",
   "metadata": {},
   "source": [
    "### 19\\. [e]엔진출력\n",
    "- 오류\n",
    "    - null : 359 개\n",
    "    - 숫자가 아닌 값 : 18 개"
   ]
  },
  {
   "cell_type": "code",
   "execution_count": 153,
   "metadata": {},
   "outputs": [
    {
     "data": {
      "text/plain": [
       "126.0       289953\n",
       "174.0       104789\n",
       "151.0        91306\n",
       "150.0        77553\n",
       "126          64775\n",
       "             ...  \n",
       "280-6400         1\n",
       "4                1\n",
       "34.0             1\n",
       "273.0            1\n",
       "436.0            1\n",
       "Name: 엔진출력, Length: 662, dtype: int64"
      ]
     },
     "execution_count": 153,
     "metadata": {},
     "output_type": "execute_result"
    }
   ],
   "source": [
    "df.iloc[:, 29].value_counts()"
   ]
  },
  {
   "cell_type": "code",
   "execution_count": 154,
   "metadata": {},
   "outputs": [
    {
     "data": {
      "text/plain": [
       "359"
      ]
     },
     "execution_count": 154,
     "metadata": {},
     "output_type": "execute_result"
    }
   ],
   "source": [
    "df.iloc[:, 29].isnull().sum()"
   ]
  },
  {
   "cell_type": "code",
   "execution_count": 160,
   "metadata": {},
   "outputs": [
    {
     "name": "stderr",
     "output_type": "stream",
     "text": [
      "1528586it [00:02, 708461.06it/s]\n"
     ]
    },
    {
     "data": {
      "text/plain": [
       "377"
      ]
     },
     "execution_count": 160,
     "metadata": {},
     "output_type": "execute_result"
    }
   ],
   "source": [
    "p29 = re.compile('\\d+[.]\\d+')\n",
    "idx291 = []\n",
    "idx292 = []\n",
    "count = 0\n",
    "for i, one in tqdm(enumerate(df.iloc[:, 29].to_numpy())):\n",
    "    try:\n",
    "        if not p29.search(str(float(one))):\n",
    "            idx291.append(i)\n",
    "            count += 1\n",
    "    except:\n",
    "        idx292.append(i)\n",
    "        count += 1\n",
    "count"
   ]
  },
  {
   "cell_type": "code",
   "execution_count": 161,
   "metadata": {},
   "outputs": [
    {
     "data": {
      "text/plain": [
       "(359, 18)"
      ]
     },
     "execution_count": 161,
     "metadata": {},
     "output_type": "execute_result"
    }
   ],
   "source": [
    "len(idx291), len(idx292)"
   ]
  },
  {
   "cell_type": "code",
   "execution_count": 162,
   "metadata": {},
   "outputs": [
    {
     "data": {
      "text/plain": [
       "359"
      ]
     },
     "execution_count": 162,
     "metadata": {},
     "output_type": "execute_result"
    }
   ],
   "source": [
    "idx293 = df[df['엔진출력'].isnull() == True]['엔진출력'].index\n",
    "len(idx293)"
   ]
  },
  {
   "cell_type": "code",
   "execution_count": 163,
   "metadata": {},
   "outputs": [
    {
     "name": "stderr",
     "output_type": "stream",
     "text": [
      "C:\\Users\\kbj\\AppData\\Local\\Temp\\ipykernel_18336\\2791330140.py:1: FutureWarning: The behavior of `series[i:j]` with an integer-dtype index is deprecated. In a future version, this will be treated as *label-based* indexing, consistent with e.g. `series[i]` lookups. To retain the old behavior, use `series.iloc[i:j]`. To get the future behavior, use `series.loc[i:j]`.\n",
      "  df.iloc[idx291, 29][:5]\n"
     ]
    },
    {
     "data": {
      "text/plain": [
       "12060    NaN\n",
       "16761    NaN\n",
       "19514    NaN\n",
       "22845    NaN\n",
       "25508    NaN\n",
       "Name: 엔진출력, dtype: object"
      ]
     },
     "execution_count": 163,
     "metadata": {},
     "output_type": "execute_result"
    }
   ],
   "source": [
    "df.iloc[idx291, 29][:5]"
   ]
  },
  {
   "cell_type": "code",
   "execution_count": 164,
   "metadata": {},
   "outputs": [
    {
     "name": "stderr",
     "output_type": "stream",
     "text": [
      "C:\\Users\\kbj\\AppData\\Local\\Temp\\ipykernel_18336\\491642684.py:1: FutureWarning: The behavior of `series[i:j]` with an integer-dtype index is deprecated. In a future version, this will be treated as *label-based* indexing, consistent with e.g. `series[i]` lookups. To retain the old behavior, use `series.iloc[i:j]`. To get the future behavior, use `series.loc[i:j]`.\n",
      "  df.iloc[idx292, 29][:5]\n"
     ]
    },
    {
     "data": {
      "text/plain": [
       "50704        114PS\n",
       "114636       113ps\n",
       "162707      0140PS\n",
       "195884    105-5800\n",
       "205207       195HP\n",
       "Name: 엔진출력, dtype: object"
      ]
     },
     "execution_count": 164,
     "metadata": {},
     "output_type": "execute_result"
    }
   ],
   "source": [
    "df.iloc[idx292, 29][:5]"
   ]
  },
  {
   "cell_type": "code",
   "execution_count": 167,
   "metadata": {},
   "outputs": [
    {
     "name": "stderr",
     "output_type": "stream",
     "text": [
      "C:\\Users\\kbj\\AppData\\Local\\Temp\\ipykernel_18336\\2073082367.py:1: FutureWarning: The behavior of `series[i:j]` with an integer-dtype index is deprecated. In a future version, this will be treated as *label-based* indexing, consistent with e.g. `series[i]` lookups. To retain the old behavior, use `series.iloc[i:j]`. To get the future behavior, use `series.loc[i:j]`.\n",
      "  df.iloc[idx293, 29][:5]\n"
     ]
    },
    {
     "data": {
      "text/plain": [
       "12060    NaN\n",
       "16761    NaN\n",
       "19514    NaN\n",
       "22845    NaN\n",
       "25508    NaN\n",
       "Name: 엔진출력, dtype: object"
      ]
     },
     "execution_count": 167,
     "metadata": {},
     "output_type": "execute_result"
    }
   ],
   "source": [
    "df.iloc[idx293, 29][:5]"
   ]
  },
  {
   "cell_type": "markdown",
   "metadata": {},
   "source": [
    "### 30\\. [e]배기량\n",
    "- error\n",
    "    - null : 4\n",
    "    - 숫자가 아닌 값 : 0"
   ]
  },
  {
   "cell_type": "code",
   "execution_count": 169,
   "metadata": {},
   "outputs": [
    {
     "data": {
      "text/plain": [
       "2497.0     412725\n",
       "1991.0     245078\n",
       "2902.0     139727\n",
       "2959.0      75053\n",
       "1995.0      68705\n",
       "            ...  \n",
       "4701.0          1\n",
       "3803.0          1\n",
       "5958.0          1\n",
       "15607.0         1\n",
       "12412.0         1\n",
       "Name: 배기량, Length: 627, dtype: int64"
      ]
     },
     "execution_count": 169,
     "metadata": {},
     "output_type": "execute_result"
    }
   ],
   "source": [
    "df.iloc[:, 30].value_counts()"
   ]
  },
  {
   "cell_type": "code",
   "execution_count": 170,
   "metadata": {},
   "outputs": [
    {
     "data": {
      "text/plain": [
       "4"
      ]
     },
     "execution_count": 170,
     "metadata": {},
     "output_type": "execute_result"
    }
   ],
   "source": [
    "df.iloc[:, 30].isnull().sum()"
   ]
  },
  {
   "cell_type": "code",
   "execution_count": 171,
   "metadata": {},
   "outputs": [
    {
     "name": "stderr",
     "output_type": "stream",
     "text": [
      "1528586it [00:02, 619306.55it/s]\n"
     ]
    },
    {
     "data": {
      "text/plain": [
       "4"
      ]
     },
     "execution_count": 171,
     "metadata": {},
     "output_type": "execute_result"
    }
   ],
   "source": [
    "p30 = re.compile('\\D+')\n",
    "idx301 = []\n",
    "idx302 = []\n",
    "count = 0\n",
    "for i, one in tqdm(enumerate(df.iloc[:, 30].to_numpy())):\n",
    "    try:\n",
    "        if p30.search(str(int(one))):\n",
    "            idx301.append(i)\n",
    "            count += 1\n",
    "    except:\n",
    "        idx302.append(i)\n",
    "        count += 1\n",
    "count"
   ]
  },
  {
   "cell_type": "code",
   "execution_count": 172,
   "metadata": {},
   "outputs": [
    {
     "data": {
      "text/plain": [
       "(0, 4)"
      ]
     },
     "execution_count": 172,
     "metadata": {},
     "output_type": "execute_result"
    }
   ],
   "source": [
    "len(idx301), len(idx302)"
   ]
  },
  {
   "cell_type": "markdown",
   "metadata": {},
   "source": [
    "### 31\\. 승차인원\n",
    "- error\n",
    "    - null : 0"
   ]
  },
  {
   "cell_type": "code",
   "execution_count": 173,
   "metadata": {},
   "outputs": [
    {
     "data": {
      "text/plain": [
       "5     625751\n",
       "3     338761\n",
       "7     271132\n",
       "6      92585\n",
       "11     72915\n",
       "12     58829\n",
       "2      27413\n",
       "9      20963\n",
       "4       9575\n",
       "25      4045\n",
       "47      1446\n",
       "34      1115\n",
       "46       901\n",
       "0        852\n",
       "39       460\n",
       "29       410\n",
       "15       275\n",
       "43       229\n",
       "38       186\n",
       "42       147\n",
       "30       139\n",
       "8         91\n",
       "45        58\n",
       "16        48\n",
       "41        41\n",
       "18        32\n",
       "59        22\n",
       "33        21\n",
       "21        18\n",
       "20        17\n",
       "19        14\n",
       "28        13\n",
       "35        12\n",
       "10         9\n",
       "1          8\n",
       "32         7\n",
       "26         6\n",
       "63         4\n",
       "40         4\n",
       "56         4\n",
       "23         4\n",
       "14         4\n",
       "31         3\n",
       "22         3\n",
       "37         2\n",
       "62         2\n",
       "51         2\n",
       "67         2\n",
       "44         2\n",
       "50         1\n",
       "27         1\n",
       "36         1\n",
       "64         1\n",
       "Name: 승차인원, dtype: int64"
      ]
     },
     "execution_count": 173,
     "metadata": {},
     "output_type": "execute_result"
    }
   ],
   "source": [
    "df.iloc[:, 31].value_counts()"
   ]
  },
  {
   "cell_type": "code",
   "execution_count": 174,
   "metadata": {},
   "outputs": [
    {
     "data": {
      "text/plain": [
       "0"
      ]
     },
     "execution_count": 174,
     "metadata": {},
     "output_type": "execute_result"
    }
   ],
   "source": [
    "df.iloc[:, 31].isnull().sum()"
   ]
  },
  {
   "cell_type": "code",
   "execution_count": 180,
   "metadata": {},
   "outputs": [
    {
     "name": "stderr",
     "output_type": "stream",
     "text": [
      "1528586it [00:02, 756812.66it/s]\n"
     ]
    },
    {
     "data": {
      "text/plain": [
       "0"
      ]
     },
     "execution_count": 180,
     "metadata": {},
     "output_type": "execute_result"
    }
   ],
   "source": [
    "p31 = re.compile('\\D+')\n",
    "idx311 = []\n",
    "idx312 = []\n",
    "count = 0\n",
    "for i, one in tqdm(enumerate(df.iloc[:, 31].to_numpy())):\n",
    "    try:\n",
    "        if p31.search(str(int(one))):\n",
    "            idx311.append(i)\n",
    "            count += 1\n",
    "    except:\n",
    "        idx312.append(i)\n",
    "        count += 1\n",
    "count"
   ]
  },
  {
   "cell_type": "markdown",
   "metadata": {},
   "source": [
    "### 32\\. [e]차량길이\n",
    "- error\n",
    "    - null : 1\n",
    "    - 숫자 아닌 값 : 0"
   ]
  },
  {
   "cell_type": "code",
   "execution_count": 175,
   "metadata": {},
   "outputs": [
    {
     "data": {
      "text/plain": [
       "4675.0     139634\n",
       "5125.0     138323\n",
       "5085.0     126095\n",
       "5120.0      76767\n",
       "4350.0      76260\n",
       "            ...  \n",
       "11970.0         1\n",
       "4593.0          1\n",
       "8285.0          1\n",
       "5940.0          1\n",
       "5435.0          1\n",
       "Name: 차량길이, Length: 1247, dtype: int64"
      ]
     },
     "execution_count": 175,
     "metadata": {},
     "output_type": "execute_result"
    }
   ],
   "source": [
    "df.iloc[:, 32].value_counts()"
   ]
  },
  {
   "cell_type": "code",
   "execution_count": 176,
   "metadata": {},
   "outputs": [
    {
     "data": {
      "text/plain": [
       "1"
      ]
     },
     "execution_count": 176,
     "metadata": {},
     "output_type": "execute_result"
    }
   ],
   "source": [
    "df.iloc[:, 32].isnull().sum()"
   ]
  },
  {
   "cell_type": "code",
   "execution_count": 177,
   "metadata": {},
   "outputs": [
    {
     "name": "stderr",
     "output_type": "stream",
     "text": [
      "1528586it [00:02, 701730.27it/s]\n"
     ]
    },
    {
     "data": {
      "text/plain": [
       "1"
      ]
     },
     "execution_count": 177,
     "metadata": {},
     "output_type": "execute_result"
    }
   ],
   "source": [
    "p32 = re.compile('\\D+')\n",
    "idx321 = []\n",
    "idx322 = []\n",
    "count = 0\n",
    "for i, one in tqdm(enumerate(df.iloc[:, 32].to_numpy())):\n",
    "    try:\n",
    "        if p32.search(str(int(one))):\n",
    "            idx321.append(i)\n",
    "            count += 1\n",
    "    except:\n",
    "        idx322.append(i)\n",
    "        count += 1\n",
    "count"
   ]
  },
  {
   "cell_type": "code",
   "execution_count": 178,
   "metadata": {},
   "outputs": [
    {
     "data": {
      "text/plain": [
       "(0, 1)"
      ]
     },
     "execution_count": 178,
     "metadata": {},
     "output_type": "execute_result"
    }
   ],
   "source": [
    "len(idx321), len(idx322)"
   ]
  },
  {
   "cell_type": "markdown",
   "metadata": {},
   "source": [
    "### 33\\. [e]차량너비\n",
    "- error\n",
    "    - null : 1\n",
    "    - 숫자 아닌 값 : 0"
   ]
  },
  {
   "cell_type": "code",
   "execution_count": 206,
   "metadata": {},
   "outputs": [
    {
     "data": {
      "text/plain": [
       "1740.0    326413\n",
       "1890.0    143036\n",
       "1920.0    127426\n",
       "1985.0     74746\n",
       "1840.0     53628\n",
       "           ...  \n",
       "175.0          1\n",
       "2465.0         1\n",
       "1834.0         1\n",
       "1633.0         1\n",
       "1610.0         1\n",
       "Name: 차량너비, Length: 318, dtype: int64"
      ]
     },
     "execution_count": 206,
     "metadata": {},
     "output_type": "execute_result"
    }
   ],
   "source": [
    "df.iloc[:, 33].value_counts()"
   ]
  },
  {
   "cell_type": "code",
   "execution_count": 207,
   "metadata": {},
   "outputs": [
    {
     "data": {
      "text/plain": [
       "1"
      ]
     },
     "execution_count": 207,
     "metadata": {},
     "output_type": "execute_result"
    }
   ],
   "source": [
    "df.iloc[:, 33].isnull().sum()"
   ]
  },
  {
   "cell_type": "code",
   "execution_count": 208,
   "metadata": {},
   "outputs": [
    {
     "name": "stderr",
     "output_type": "stream",
     "text": [
      "1528586it [00:02, 685335.39it/s]\n"
     ]
    },
    {
     "data": {
      "text/plain": [
       "1"
      ]
     },
     "execution_count": 208,
     "metadata": {},
     "output_type": "execute_result"
    }
   ],
   "source": [
    "p33 = re.compile('\\D+')\n",
    "idx331 = []\n",
    "idx332 = []\n",
    "count = 0\n",
    "for i, one in tqdm(enumerate(df.iloc[:, 33].to_numpy())):\n",
    "    try:\n",
    "        if p33.search(str(int(one))):\n",
    "            idx331.append(i)\n",
    "            count += 1\n",
    "    except:\n",
    "        idx332.append(i)\n",
    "        count += 1\n",
    "count"
   ]
  },
  {
   "cell_type": "markdown",
   "metadata": {},
   "source": [
    "### 34\\. [e]차량높이\n",
    "- error\n",
    "    - null : 3\n",
    "    - 숫자 아닌 값 : 0"
   ]
  },
  {
   "cell_type": "code",
   "execution_count": 181,
   "metadata": {},
   "outputs": [
    {
     "data": {
      "text/plain": [
       "1965.0    229617\n",
       "1695.0     72455\n",
       "1925.0     67094\n",
       "1995.0     58511\n",
       "1935.0     56907\n",
       "           ...  \n",
       "2210.0         1\n",
       "1717.0         1\n",
       "2615.0         1\n",
       "1529.0         1\n",
       "4000.0         1\n",
       "Name: 차량높이, Length: 604, dtype: int64"
      ]
     },
     "execution_count": 181,
     "metadata": {},
     "output_type": "execute_result"
    }
   ],
   "source": [
    "df.iloc[:, 34].value_counts()"
   ]
  },
  {
   "cell_type": "code",
   "execution_count": 182,
   "metadata": {},
   "outputs": [
    {
     "data": {
      "text/plain": [
       "3"
      ]
     },
     "execution_count": 182,
     "metadata": {},
     "output_type": "execute_result"
    }
   ],
   "source": [
    "df.iloc[:, 34].isnull().sum()"
   ]
  },
  {
   "cell_type": "code",
   "execution_count": 183,
   "metadata": {},
   "outputs": [
    {
     "name": "stderr",
     "output_type": "stream",
     "text": [
      "1528586it [00:02, 618882.59it/s]\n"
     ]
    },
    {
     "data": {
      "text/plain": [
       "3"
      ]
     },
     "execution_count": 183,
     "metadata": {},
     "output_type": "execute_result"
    }
   ],
   "source": [
    "p34 = re.compile('\\D+')\n",
    "idx341 = []\n",
    "idx342 = []\n",
    "count = 0\n",
    "for i, one in tqdm(enumerate(df.iloc[:, 34].to_numpy())):\n",
    "    try:\n",
    "        if p34.search(str(int(one))):\n",
    "            idx341.append(i)\n",
    "            count += 1\n",
    "    except:\n",
    "        idx342.append(i)\n",
    "        count += 1\n",
    "count"
   ]
  },
  {
   "cell_type": "markdown",
   "metadata": {},
   "source": [
    "### 35\\. [e]원산지명\n",
    "- error\n",
    "    - null : 19,087\n",
    "    - 문자 아닌 값 : 0"
   ]
  },
  {
   "cell_type": "code",
   "execution_count": 184,
   "metadata": {},
   "outputs": [
    {
     "data": {
      "text/plain": [
       "대한민국           1467579\n",
       "독일               16650\n",
       "미국                7363\n",
       "스웨덴               6916\n",
       "프랑스               5140\n",
       "영국                2990\n",
       "일본                1476\n",
       "네덜란드               676\n",
       "오스트리아              298\n",
       "이탈리아               209\n",
       "기타                  78\n",
       "캐나다                 31\n",
       "벨기에                 27\n",
       "멕시코                 24\n",
       "대만                  13\n",
       "중국                   9\n",
       "가나                   5\n",
       "스페인                  4\n",
       "스위스                  3\n",
       "괌                    2\n",
       "덴마크                  2\n",
       "기니비사우                1\n",
       "감비아                  1\n",
       "가봉                   1\n",
       "독립국연합 (CIS)          1\n",
       "Name: 원산지명, dtype: int64"
      ]
     },
     "execution_count": 184,
     "metadata": {},
     "output_type": "execute_result"
    }
   ],
   "source": [
    "df.iloc[:, 35].value_counts()"
   ]
  },
  {
   "cell_type": "code",
   "execution_count": 185,
   "metadata": {},
   "outputs": [
    {
     "data": {
      "text/plain": [
       "19087"
      ]
     },
     "execution_count": 185,
     "metadata": {},
     "output_type": "execute_result"
    }
   ],
   "source": [
    "df.iloc[:, 35].isnull().sum()"
   ]
  },
  {
   "cell_type": "code",
   "execution_count": 187,
   "metadata": {},
   "outputs": [
    {
     "name": "stderr",
     "output_type": "stream",
     "text": [
      "1528586it [00:01, 1136214.58it/s]\n"
     ]
    },
    {
     "data": {
      "text/plain": [
       "19087"
      ]
     },
     "execution_count": 187,
     "metadata": {},
     "output_type": "execute_result"
    }
   ],
   "source": [
    "p35 = re.compile('\\D+')\n",
    "idx351 = []\n",
    "idx352 = []\n",
    "count = 0\n",
    "for i, one in tqdm(enumerate(df.iloc[:, 35].to_numpy())):\n",
    "    try:\n",
    "        if not p35.search(one):\n",
    "            idx351.append(i)\n",
    "            count += 1\n",
    "    except:\n",
    "        idx352.append(i)\n",
    "        count += 1\n",
    "count"
   ]
  },
  {
   "cell_type": "code",
   "execution_count": 188,
   "metadata": {},
   "outputs": [
    {
     "data": {
      "text/plain": [
       "(0, 19087)"
      ]
     },
     "execution_count": 188,
     "metadata": {},
     "output_type": "execute_result"
    }
   ],
   "source": [
    "len(idx351), len(idx352)"
   ]
  },
  {
   "cell_type": "markdown",
   "metadata": {},
   "source": [
    "### 36\\. 삭제YN\n",
    "- error\n",
    "    - null : 0"
   ]
  },
  {
   "cell_type": "code",
   "execution_count": 189,
   "metadata": {},
   "outputs": [
    {
     "data": {
      "text/plain": [
       "N    1528586\n",
       "Name: 삭제YN, dtype: int64"
      ]
     },
     "execution_count": 189,
     "metadata": {},
     "output_type": "execute_result"
    }
   ],
   "source": [
    "df.iloc[:, 36].value_counts()"
   ]
  },
  {
   "cell_type": "code",
   "execution_count": 190,
   "metadata": {},
   "outputs": [
    {
     "data": {
      "text/plain": [
       "0"
      ]
     },
     "execution_count": 190,
     "metadata": {},
     "output_type": "execute_result"
    }
   ],
   "source": [
    "df.iloc[:, 36].isnull().sum()"
   ]
  },
  {
   "cell_type": "markdown",
   "metadata": {},
   "source": [
    "### 37\\. [e]제원승인일자\n",
    "- error\n",
    "    - null : 431\n",
    "    - 형식에 맞지 않는 값 : 108"
   ]
  },
  {
   "cell_type": "code",
   "execution_count": 191,
   "metadata": {},
   "outputs": [
    {
     "data": {
      "text/plain": [
       "20100326      78288\n",
       "20090622      35879\n",
       "20100326.0    35819\n",
       "20110524      29346\n",
       "20090520      24716\n",
       "              ...  \n",
       "20160427          1\n",
       "20151216          1\n",
       "20121101          1\n",
       "20050422          1\n",
       "20070529.0        1\n",
       "Name: 제원승인일자, Length: 5958, dtype: int64"
      ]
     },
     "execution_count": 191,
     "metadata": {},
     "output_type": "execute_result"
    }
   ],
   "source": [
    "df.iloc[:, 37].value_counts()"
   ]
  },
  {
   "cell_type": "code",
   "execution_count": 192,
   "metadata": {},
   "outputs": [
    {
     "data": {
      "text/plain": [
       "431"
      ]
     },
     "execution_count": 192,
     "metadata": {},
     "output_type": "execute_result"
    }
   ],
   "source": [
    "df.iloc[:, 37].isnull().sum()"
   ]
  },
  {
   "cell_type": "code",
   "execution_count": 193,
   "metadata": {},
   "outputs": [
    {
     "name": "stderr",
     "output_type": "stream",
     "text": [
      "1528586it [00:02, 596189.99it/s]\n"
     ]
    },
    {
     "data": {
      "text/plain": [
       "539"
      ]
     },
     "execution_count": 193,
     "metadata": {},
     "output_type": "execute_result"
    }
   ],
   "source": [
    "p37 = re.compile('\\D+')\n",
    "idx371 = []\n",
    "idx372 = []\n",
    "count = 0\n",
    "for i, one in tqdm(enumerate(df.iloc[:, 37].to_numpy())):\n",
    "    try:\n",
    "        if p37.search(str(int(one))):\n",
    "            idx371.append(i)\n",
    "            count += 1\n",
    "    except:\n",
    "        idx372.append(i)\n",
    "        count += 1\n",
    "count"
   ]
  },
  {
   "cell_type": "code",
   "execution_count": 194,
   "metadata": {},
   "outputs": [
    {
     "data": {
      "text/plain": [
       "(0, 539)"
      ]
     },
     "execution_count": 194,
     "metadata": {},
     "output_type": "execute_result"
    }
   ],
   "source": [
    "len(idx371), len(idx372)"
   ]
  },
  {
   "cell_type": "code",
   "execution_count": 195,
   "metadata": {},
   "outputs": [
    {
     "name": "stderr",
     "output_type": "stream",
     "text": [
      "C:\\Users\\kbj\\AppData\\Local\\Temp\\ipykernel_18336\\829264895.py:1: FutureWarning: The behavior of `series[i:j]` with an integer-dtype index is deprecated. In a future version, this will be treated as *label-based* indexing, consistent with e.g. `series[i]` lookups. To retain the old behavior, use `series.iloc[i:j]`. To get the future behavior, use `series.loc[i:j]`.\n",
      "  df.iloc[:, 37].reindex(idx372)[:5]\n"
     ]
    },
    {
     "data": {
      "text/plain": [
       "1544         NaN\n",
       "3888         NaN\n",
       "4231    1991 112\n",
       "6957         NaN\n",
       "7069         NaN\n",
       "Name: 제원승인일자, dtype: object"
      ]
     },
     "execution_count": 195,
     "metadata": {},
     "output_type": "execute_result"
    }
   ],
   "source": [
    "df.iloc[:, 37].reindex(idx372)[:5]"
   ]
  },
  {
   "cell_type": "code",
   "execution_count": 196,
   "metadata": {},
   "outputs": [
    {
     "data": {
      "text/plain": [
       "431"
      ]
     },
     "execution_count": 196,
     "metadata": {},
     "output_type": "execute_result"
    }
   ],
   "source": [
    "idx373 = df[df['제원승인일자'].isnull() == True]['제원승인일자'].index\n",
    "len(idx373)"
   ]
  },
  {
   "cell_type": "code",
   "execution_count": 197,
   "metadata": {},
   "outputs": [
    {
     "data": {
      "text/plain": [
       "108"
      ]
     },
     "execution_count": 197,
     "metadata": {},
     "output_type": "execute_result"
    }
   ],
   "source": [
    "len(list(set(idx372) - set(idx373)))"
   ]
  },
  {
   "cell_type": "code",
   "execution_count": 198,
   "metadata": {},
   "outputs": [
    {
     "name": "stderr",
     "output_type": "stream",
     "text": [
      "C:\\Users\\kbj\\AppData\\Local\\Temp\\ipykernel_18336\\4017740081.py:1: FutureWarning: The behavior of `series[i:j]` with an integer-dtype index is deprecated. In a future version, this will be treated as *label-based* indexing, consistent with e.g. `series[i]` lookups. To retain the old behavior, use `series.iloc[i:j]`. To get the future behavior, use `series.loc[i:j]`.\n",
      "  df.iloc[sorted(set(idx372) - set(idx373)), 37][:5]\n"
     ]
    },
    {
     "data": {
      "text/plain": [
       "4231     1991 112\n",
       "8926     1991 123\n",
       "21579    1991 112\n",
       "29975    1991 123\n",
       "38288    1991 112\n",
       "Name: 제원승인일자, dtype: object"
      ]
     },
     "execution_count": 198,
     "metadata": {},
     "output_type": "execute_result"
    }
   ],
   "source": [
    "df.iloc[sorted(set(idx372) - set(idx373)), 37][:5]"
   ]
  },
  {
   "cell_type": "markdown",
   "metadata": {},
   "source": [
    "### 38\\. [e]구동형식\n",
    "- error\n",
    "    - null : 1,528,545"
   ]
  },
  {
   "cell_type": "code",
   "execution_count": 199,
   "metadata": {},
   "outputs": [
    {
     "data": {
      "text/plain": [
       "4x2         18\n",
       "6x2          9\n",
       "10x4         5\n",
       "후륜구동         4\n",
       "4륜구동(선택)     1\n",
       "4x4          1\n",
       "기타           1\n",
       "전륜구동         1\n",
       "4륜구동(상시)     1\n",
       "Name: 구동형식, dtype: int64"
      ]
     },
     "execution_count": 199,
     "metadata": {},
     "output_type": "execute_result"
    }
   ],
   "source": [
    "df.iloc[:, 38].value_counts()"
   ]
  },
  {
   "cell_type": "code",
   "execution_count": 200,
   "metadata": {},
   "outputs": [
    {
     "data": {
      "text/plain": [
       "1528545"
      ]
     },
     "execution_count": 200,
     "metadata": {},
     "output_type": "execute_result"
    }
   ],
   "source": [
    "df.iloc[:, 38].isnull().sum()"
   ]
  },
  {
   "cell_type": "markdown",
   "metadata": {},
   "source": [
    "### 39\\. [e]변속기종류\n",
    "- error\n",
    "    - null : 160\n",
    "    - 문자가 아닌 값 : 0"
   ]
  },
  {
   "cell_type": "code",
   "execution_count": 201,
   "metadata": {},
   "outputs": [
    {
     "data": {
      "text/plain": [
       "자동        963870\n",
       "수동        563865\n",
       "기타           500\n",
       "무단           158\n",
       "반자동           32\n",
       "변속기 없음         1\n",
       "Name: 변속기종류, dtype: int64"
      ]
     },
     "execution_count": 201,
     "metadata": {},
     "output_type": "execute_result"
    }
   ],
   "source": [
    "df.iloc[:, 39].value_counts()"
   ]
  },
  {
   "cell_type": "code",
   "execution_count": 202,
   "metadata": {},
   "outputs": [
    {
     "data": {
      "text/plain": [
       "160"
      ]
     },
     "execution_count": 202,
     "metadata": {},
     "output_type": "execute_result"
    }
   ],
   "source": [
    "df.iloc[:, 39].isnull().sum()"
   ]
  },
  {
   "cell_type": "code",
   "execution_count": 203,
   "metadata": {},
   "outputs": [
    {
     "name": "stderr",
     "output_type": "stream",
     "text": [
      "1528586it [00:01, 956223.37it/s]\n"
     ]
    },
    {
     "data": {
      "text/plain": [
       "160"
      ]
     },
     "execution_count": 203,
     "metadata": {},
     "output_type": "execute_result"
    }
   ],
   "source": [
    "p39 = re.compile('[가-힣]+')\n",
    "idx391 = []\n",
    "idx392 = []\n",
    "count = 0\n",
    "for i, one in tqdm(enumerate(df.iloc[:, 39].to_numpy())):\n",
    "    try:\n",
    "        if not p39.search(one):\n",
    "            idx391.append(i)\n",
    "            count += 1\n",
    "    except:\n",
    "        idx392.append(i)\n",
    "        count += 1\n",
    "count"
   ]
  },
  {
   "cell_type": "code",
   "execution_count": 204,
   "metadata": {},
   "outputs": [
    {
     "data": {
      "text/plain": [
       "(0, 160)"
      ]
     },
     "execution_count": 204,
     "metadata": {},
     "output_type": "execute_result"
    }
   ],
   "source": [
    "len(idx391), len(idx392)"
   ]
  },
  {
   "cell_type": "markdown",
   "metadata": {},
   "source": [
    "# 코드 마지막"
   ]
  }
 ],
 "metadata": {
  "kernelspec": {
   "display_name": "Python 3.9.13 ('base')",
   "language": "python",
   "name": "python3"
  },
  "language_info": {
   "codemirror_mode": {
    "name": "ipython",
    "version": 3
   },
   "file_extension": ".py",
   "mimetype": "text/x-python",
   "name": "python",
   "nbconvert_exporter": "python",
   "pygments_lexer": "ipython3",
   "version": "3.9.13"
  },
  "orig_nbformat": 4,
  "vscode": {
   "interpreter": {
    "hash": "ad2bdc8ecc057115af97d19610ffacc2b4e99fae6737bb82f5d7fb13d2f2c186"
   }
  }
 },
 "nbformat": 4,
 "nbformat_minor": 2
}
