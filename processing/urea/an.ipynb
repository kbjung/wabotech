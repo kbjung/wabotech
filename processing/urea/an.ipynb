{
 "cells": [
  {
   "cell_type": "code",
   "execution_count": 1,
   "metadata": {},
   "outputs": [],
   "source": [
    "import pandas as pd\n",
    "import numpy as np\n",
    "import os\n",
    "from datetime import datetime"
   ]
  },
  {
   "cell_type": "markdown",
   "metadata": {},
   "source": [
    "# fold"
   ]
  },
  {
   "cell_type": "code",
   "execution_count": 3,
   "metadata": {},
   "outputs": [
    {
     "data": {
      "text/plain": [
       "{'raw_fold': 'D:/data/processing/urea/raw',\n",
       " 'df_fold': 'D:/data/processing/urea/df',\n",
       " 'an_fold': 'D:/data/processing/urea/an'}"
      ]
     },
     "execution_count": 3,
     "metadata": {},
     "output_type": "execute_result"
    }
   ],
   "source": [
    "raw_fold = 'D:/data/processing/urea/raw'\n",
    "df_fold = 'D:/data/processing/urea/df'\n",
    "an_fold = 'D:/data/processing/urea/an'\n",
    "folds = {\n",
    "    'raw_fold':raw_fold, \n",
    "    'df_fold':df_fold, \n",
    "    'an_fold':an_fold, \n",
    "}\n",
    "folds"
   ]
  },
  {
   "cell_type": "markdown",
   "metadata": {},
   "source": [
    "# load"
   ]
  },
  {
   "cell_type": "code",
   "execution_count": 15,
   "metadata": {},
   "outputs": [
    {
     "name": "stdout",
     "output_type": "stream",
     "text": [
      "<class 'pandas.core.frame.DataFrame'>\n",
      "RangeIndex: 11905778 entries, 0 to 11905777\n",
      "Data columns (total 4 columns):\n",
      " #   Column             Dtype \n",
      "---  ------             ----- \n",
      " 0   EXHST_GAS_CERT_NO  object\n",
      " 1   YRIDNW             int64 \n",
      " 2   VHCTY_CD_x         object\n",
      " 3   VIN                object\n",
      "dtypes: int64(1), object(3)\n",
      "memory usage: 363.3+ MB\n"
     ]
    }
   ],
   "source": [
    "name = '경유_경유하이브리드_20231206'\n",
    "file_name = f'{name}.csv'\n",
    "cs_dgl = pd.read_csv(os.path.join(raw_fold, file_name), low_memory=False, usecols=['VIN', 'EXHST_GAS_CERT_NO', 'YRIDNW', 'VHCTY_CD_x'])\n",
    "# cs_dgl = pd.read_csv(os.path.join(raw_fold, file_name), low_memory=False, nrows=10)\n",
    "cs_dgl.info()"
   ]
  },
  {
   "cell_type": "code",
   "execution_count": null,
   "metadata": {},
   "outputs": [],
   "source": []
  },
  {
   "cell_type": "code",
   "execution_count": 4,
   "metadata": {},
   "outputs": [
    {
     "name": "stdout",
     "output_type": "stream",
     "text": [
      "<class 'pandas.core.frame.DataFrame'>\n",
      "RangeIndex: 43 entries, 0 to 42\n",
      "Data columns (total 15 columns):\n",
      " #   Column      Non-Null Count  Dtype  \n",
      "---  ------      --------------  -----  \n",
      " 0   제작사         42 non-null     object \n",
      " 1   차명          42 non-null     object \n",
      " 2   자동차형식       42 non-null     object \n",
      " 3   엔진형식        42 non-null     object \n",
      " 4   배기량         42 non-null     float64\n",
      " 5   최대출력        43 non-null     object \n",
      " 6   Unnamed: 6  43 non-null     object \n",
      " 7   변속기         42 non-null     object \n",
      " 8   총중량         42 non-null     object \n",
      " 9   공차중량        42 non-null     object \n",
      " 10  제작사.1       42 non-null     object \n",
      " 11  제작국         42 non-null     object \n",
      " 12  인증번호        43 non-null     object \n",
      " 13  인증일자        43 non-null     object \n",
      " 14  비고          42 non-null     object \n",
      "dtypes: float64(1), object(14)\n",
      "memory usage: 5.2+ KB\n"
     ]
    }
   ],
   "source": [
    "name = '인증대장(대형)_SCR_적용차종(EURO 4, 5)'\n",
    "file_name = f'{name}.xlsx'\n",
    "l45 = pd.read_excel(os.path.join(raw_fold, file_name))\n",
    "l45.info()"
   ]
  },
  {
   "cell_type": "code",
   "execution_count": 5,
   "metadata": {},
   "outputs": [
    {
     "data": {
      "text/plain": [
       "Index(['제작사', '차명', '자동차형식', '엔진형식', '배기량', '최대출력_PS', '최대출력_RPM', '변속기',\n",
       "       '총중량', '공차중량', '제작사', '제작국', '인증번호', '인증일자', '비고'],\n",
       "      dtype='object')"
      ]
     },
     "execution_count": 5,
     "metadata": {},
     "output_type": "execute_result"
    }
   ],
   "source": [
    "l45_col = [\n",
    "    '제작사',\n",
    "    '차명',\n",
    "    '자동차형식',\n",
    "    '엔진형식',\n",
    "    '배기량',\n",
    "    '최대출력_PS',\n",
    "    '최대출력_RPM',\n",
    "    '변속기',\n",
    "    '총중량',\n",
    "    '공차중량',\n",
    "    '제작사',\n",
    "    '제작국',\n",
    "    '인증번호',\n",
    "    '인증일자',\n",
    "    '비고',\n",
    "]\n",
    "l45.columns = l45_col\n",
    "l45.columns"
   ]
  },
  {
   "cell_type": "code",
   "execution_count": 6,
   "metadata": {},
   "outputs": [
    {
     "data": {
      "text/plain": [
       "(43, 15)"
      ]
     },
     "execution_count": 6,
     "metadata": {},
     "output_type": "execute_result"
    }
   ],
   "source": [
    "l45.shape"
   ]
  },
  {
   "cell_type": "code",
   "execution_count": 7,
   "metadata": {},
   "outputs": [
    {
     "data": {
      "text/html": [
       "<div>\n",
       "<style scoped>\n",
       "    .dataframe tbody tr th:only-of-type {\n",
       "        vertical-align: middle;\n",
       "    }\n",
       "\n",
       "    .dataframe tbody tr th {\n",
       "        vertical-align: top;\n",
       "    }\n",
       "\n",
       "    .dataframe thead th {\n",
       "        text-align: right;\n",
       "    }\n",
       "</style>\n",
       "<table border=\"1\" class=\"dataframe\">\n",
       "  <thead>\n",
       "    <tr style=\"text-align: right;\">\n",
       "      <th></th>\n",
       "      <th>제작사</th>\n",
       "      <th>차명</th>\n",
       "      <th>자동차형식</th>\n",
       "      <th>엔진형식</th>\n",
       "      <th>배기량</th>\n",
       "      <th>최대출력_PS</th>\n",
       "      <th>최대출력_RPM</th>\n",
       "      <th>변속기</th>\n",
       "      <th>총중량</th>\n",
       "      <th>공차중량</th>\n",
       "      <th>제작사</th>\n",
       "      <th>제작국</th>\n",
       "      <th>인증번호</th>\n",
       "      <th>인증일자</th>\n",
       "      <th>비고</th>\n",
       "    </tr>\n",
       "  </thead>\n",
       "  <tbody>\n",
       "    <tr>\n",
       "      <th>0</th>\n",
       "      <td>NaN</td>\n",
       "      <td>NaN</td>\n",
       "      <td>NaN</td>\n",
       "      <td>NaN</td>\n",
       "      <td>NaN</td>\n",
       "      <td>PS</td>\n",
       "      <td>RPM</td>\n",
       "      <td>NaN</td>\n",
       "      <td>NaN</td>\n",
       "      <td>NaN</td>\n",
       "      <td>NaN</td>\n",
       "      <td>NaN</td>\n",
       "      <td>배출</td>\n",
       "      <td>배출</td>\n",
       "      <td>NaN</td>\n",
       "    </tr>\n",
       "    <tr>\n",
       "      <th>1</th>\n",
       "      <td>현대자동차</td>\n",
       "      <td>현대25.5톤덤프트럭</td>\n",
       "      <td>HD255-YDU0-DHECA</td>\n",
       "      <td>D6CE</td>\n",
       "      <td>12742.0</td>\n",
       "      <td>520</td>\n",
       "      <td>1700</td>\n",
       "      <td>자동12단</td>\n",
       "      <td>38730</td>\n",
       "      <td>13230</td>\n",
       "      <td>현대자동차</td>\n",
       "      <td>한국</td>\n",
       "      <td>AMY-HD-14-35</td>\n",
       "      <td>2010-07-19 00:00:00</td>\n",
       "      <td>유로5</td>\n",
       "    </tr>\n",
       "    <tr>\n",
       "      <th>2</th>\n",
       "      <td>타타대우</td>\n",
       "      <td>대우25톤장축카고트럭</td>\n",
       "      <td>BT9CC1</td>\n",
       "      <td>DV11</td>\n",
       "      <td>10964.0</td>\n",
       "      <td>440</td>\n",
       "      <td>1900</td>\n",
       "      <td>수동16단</td>\n",
       "      <td>38800</td>\n",
       "      <td>13670</td>\n",
       "      <td>타타대우상용차</td>\n",
       "      <td>한국</td>\n",
       "      <td>7MY-DC-23-70</td>\n",
       "      <td>2007-12-18 00:00:00</td>\n",
       "      <td>유로4</td>\n",
       "    </tr>\n",
       "    <tr>\n",
       "      <th>3</th>\n",
       "      <td>타타대우</td>\n",
       "      <td>대우5톤초장축카고트럭</td>\n",
       "      <td>BC4AH1</td>\n",
       "      <td>F4AE3681D</td>\n",
       "      <td>5880.0</td>\n",
       "      <td>251</td>\n",
       "      <td>2700</td>\n",
       "      <td>수동6단</td>\n",
       "      <td>11415</td>\n",
       "      <td>6285</td>\n",
       "      <td>타타대우상용차</td>\n",
       "      <td>한국</td>\n",
       "      <td>7MY-DC-23-72</td>\n",
       "      <td>2007-12-18 00:00:00</td>\n",
       "      <td>유로4</td>\n",
       "    </tr>\n",
       "    <tr>\n",
       "      <th>4</th>\n",
       "      <td>타타대우</td>\n",
       "      <td>대우5톤초장축카고트럭</td>\n",
       "      <td>BC4AT1</td>\n",
       "      <td>DL06</td>\n",
       "      <td>5890.0</td>\n",
       "      <td>270</td>\n",
       "      <td>2500</td>\n",
       "      <td>수동6단</td>\n",
       "      <td>11500</td>\n",
       "      <td>6370</td>\n",
       "      <td>타타대우상용차</td>\n",
       "      <td>한국</td>\n",
       "      <td>8MY-DC-24-12</td>\n",
       "      <td>2008-05-21 00:00:00</td>\n",
       "      <td>유로4</td>\n",
       "    </tr>\n",
       "  </tbody>\n",
       "</table>\n",
       "</div>"
      ],
      "text/plain": [
       "     제작사           차명             자동차형식       엔진형식      배기량 최대출력_PS 최대출력_RPM  \\\n",
       "0    NaN          NaN               NaN        NaN      NaN      PS      RPM   \n",
       "1  현대자동차  현대25.5톤덤프트럭  HD255-YDU0-DHECA       D6CE  12742.0     520     1700   \n",
       "2   타타대우  대우25톤장축카고트럭            BT9CC1       DV11  10964.0     440     1900   \n",
       "3   타타대우  대우5톤초장축카고트럭            BC4AH1  F4AE3681D   5880.0     251     2700   \n",
       "4   타타대우  대우5톤초장축카고트럭            BC4AT1       DL06   5890.0     270     2500   \n",
       "\n",
       "     변속기    총중량   공차중량      제작사  제작국          인증번호                 인증일자   비고  \n",
       "0    NaN    NaN    NaN      NaN  NaN            배출                   배출  NaN  \n",
       "1  자동12단  38730  13230    현대자동차   한국  AMY-HD-14-35  2010-07-19 00:00:00  유로5  \n",
       "2  수동16단  38800  13670  타타대우상용차   한국  7MY-DC-23-70  2007-12-18 00:00:00  유로4  \n",
       "3   수동6단  11415   6285  타타대우상용차   한국  7MY-DC-23-72  2007-12-18 00:00:00  유로4  \n",
       "4   수동6단  11500   6370  타타대우상용차   한국  8MY-DC-24-12  2008-05-21 00:00:00  유로4  "
      ]
     },
     "execution_count": 7,
     "metadata": {},
     "output_type": "execute_result"
    }
   ],
   "source": [
    "l45.head()"
   ]
  },
  {
   "cell_type": "code",
   "execution_count": 8,
   "metadata": {},
   "outputs": [
    {
     "data": {
      "text/html": [
       "<div>\n",
       "<style scoped>\n",
       "    .dataframe tbody tr th:only-of-type {\n",
       "        vertical-align: middle;\n",
       "    }\n",
       "\n",
       "    .dataframe tbody tr th {\n",
       "        vertical-align: top;\n",
       "    }\n",
       "\n",
       "    .dataframe thead th {\n",
       "        text-align: right;\n",
       "    }\n",
       "</style>\n",
       "<table border=\"1\" class=\"dataframe\">\n",
       "  <thead>\n",
       "    <tr style=\"text-align: right;\">\n",
       "      <th></th>\n",
       "      <th>제작사</th>\n",
       "      <th>차명</th>\n",
       "      <th>자동차형식</th>\n",
       "      <th>엔진형식</th>\n",
       "      <th>배기량</th>\n",
       "      <th>최대출력_PS</th>\n",
       "      <th>최대출력_RPM</th>\n",
       "      <th>변속기</th>\n",
       "      <th>총중량</th>\n",
       "      <th>공차중량</th>\n",
       "      <th>제작사</th>\n",
       "      <th>제작국</th>\n",
       "      <th>인증번호</th>\n",
       "      <th>인증일자</th>\n",
       "      <th>비고</th>\n",
       "    </tr>\n",
       "  </thead>\n",
       "  <tbody>\n",
       "    <tr>\n",
       "      <th>0</th>\n",
       "      <td>현대자동차</td>\n",
       "      <td>현대25.5톤덤프트럭</td>\n",
       "      <td>HD255-YDU0-DHECA</td>\n",
       "      <td>D6CE</td>\n",
       "      <td>12742.0</td>\n",
       "      <td>520</td>\n",
       "      <td>1700</td>\n",
       "      <td>자동12단</td>\n",
       "      <td>38730</td>\n",
       "      <td>13230</td>\n",
       "      <td>현대자동차</td>\n",
       "      <td>한국</td>\n",
       "      <td>AMY-HD-14-35</td>\n",
       "      <td>2010-07-19 00:00:00</td>\n",
       "      <td>유로5</td>\n",
       "    </tr>\n",
       "    <tr>\n",
       "      <th>1</th>\n",
       "      <td>타타대우</td>\n",
       "      <td>대우25톤장축카고트럭</td>\n",
       "      <td>BT9CC1</td>\n",
       "      <td>DV11</td>\n",
       "      <td>10964.0</td>\n",
       "      <td>440</td>\n",
       "      <td>1900</td>\n",
       "      <td>수동16단</td>\n",
       "      <td>38800</td>\n",
       "      <td>13670</td>\n",
       "      <td>타타대우상용차</td>\n",
       "      <td>한국</td>\n",
       "      <td>7MY-DC-23-70</td>\n",
       "      <td>2007-12-18 00:00:00</td>\n",
       "      <td>유로4</td>\n",
       "    </tr>\n",
       "    <tr>\n",
       "      <th>2</th>\n",
       "      <td>타타대우</td>\n",
       "      <td>대우5톤초장축카고트럭</td>\n",
       "      <td>BC4AH1</td>\n",
       "      <td>F4AE3681D</td>\n",
       "      <td>5880.0</td>\n",
       "      <td>251</td>\n",
       "      <td>2700</td>\n",
       "      <td>수동6단</td>\n",
       "      <td>11415</td>\n",
       "      <td>6285</td>\n",
       "      <td>타타대우상용차</td>\n",
       "      <td>한국</td>\n",
       "      <td>7MY-DC-23-72</td>\n",
       "      <td>2007-12-18 00:00:00</td>\n",
       "      <td>유로4</td>\n",
       "    </tr>\n",
       "    <tr>\n",
       "      <th>3</th>\n",
       "      <td>타타대우</td>\n",
       "      <td>대우5톤초장축카고트럭</td>\n",
       "      <td>BC4AT1</td>\n",
       "      <td>DL06</td>\n",
       "      <td>5890.0</td>\n",
       "      <td>270</td>\n",
       "      <td>2500</td>\n",
       "      <td>수동6단</td>\n",
       "      <td>11500</td>\n",
       "      <td>6370</td>\n",
       "      <td>타타대우상용차</td>\n",
       "      <td>한국</td>\n",
       "      <td>8MY-DC-24-12</td>\n",
       "      <td>2008-05-21 00:00:00</td>\n",
       "      <td>유로4</td>\n",
       "    </tr>\n",
       "    <tr>\n",
       "      <th>4</th>\n",
       "      <td>타타대우</td>\n",
       "      <td>대우트랙터</td>\n",
       "      <td>EX3TX2</td>\n",
       "      <td>F3BE3681B</td>\n",
       "      <td>12882.0</td>\n",
       "      <td>560</td>\n",
       "      <td>1900</td>\n",
       "      <td>자동12단</td>\n",
       "      <td>26020</td>\n",
       "      <td>8810</td>\n",
       "      <td>타타대우상용차</td>\n",
       "      <td>한국</td>\n",
       "      <td>8MY-DC-24-15</td>\n",
       "      <td>2008-06-30 00:00:00</td>\n",
       "      <td>유로4</td>\n",
       "    </tr>\n",
       "  </tbody>\n",
       "</table>\n",
       "</div>"
      ],
      "text/plain": [
       "     제작사           차명             자동차형식       엔진형식      배기량 최대출력_PS 최대출력_RPM  \\\n",
       "0  현대자동차  현대25.5톤덤프트럭  HD255-YDU0-DHECA       D6CE  12742.0     520     1700   \n",
       "1   타타대우  대우25톤장축카고트럭            BT9CC1       DV11  10964.0     440     1900   \n",
       "2   타타대우  대우5톤초장축카고트럭            BC4AH1  F4AE3681D   5880.0     251     2700   \n",
       "3   타타대우  대우5톤초장축카고트럭            BC4AT1       DL06   5890.0     270     2500   \n",
       "4   타타대우        대우트랙터            EX3TX2  F3BE3681B  12882.0     560     1900   \n",
       "\n",
       "     변속기    총중량   공차중량      제작사 제작국          인증번호                 인증일자   비고  \n",
       "0  자동12단  38730  13230    현대자동차  한국  AMY-HD-14-35  2010-07-19 00:00:00  유로5  \n",
       "1  수동16단  38800  13670  타타대우상용차  한국  7MY-DC-23-70  2007-12-18 00:00:00  유로4  \n",
       "2   수동6단  11415   6285  타타대우상용차  한국  7MY-DC-23-72  2007-12-18 00:00:00  유로4  \n",
       "3   수동6단  11500   6370  타타대우상용차  한국  8MY-DC-24-12  2008-05-21 00:00:00  유로4  \n",
       "4  자동12단  26020   8810  타타대우상용차  한국  8MY-DC-24-15  2008-06-30 00:00:00  유로4  "
      ]
     },
     "execution_count": 8,
     "metadata": {},
     "output_type": "execute_result"
    }
   ],
   "source": [
    "l45 = l45.iloc[1:].reset_index(drop=True)\n",
    "l45.head()"
   ]
  },
  {
   "cell_type": "code",
   "execution_count": null,
   "metadata": {},
   "outputs": [],
   "source": []
  }
 ],
 "metadata": {
  "kernelspec": {
   "display_name": "base",
   "language": "python",
   "name": "python3"
  },
  "language_info": {
   "codemirror_mode": {
    "name": "ipython",
    "version": 3
   },
   "file_extension": ".py",
   "mimetype": "text/x-python",
   "name": "python",
   "nbconvert_exporter": "python",
   "pygments_lexer": "ipython3",
   "version": "3.11.5"
  }
 },
 "nbformat": 4,
 "nbformat_minor": 2
}
