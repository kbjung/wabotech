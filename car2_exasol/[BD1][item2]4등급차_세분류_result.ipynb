{
 "cells": [
  {
   "attachments": {},
   "cell_type": "markdown",
   "metadata": {},
   "source": [
    "# Library"
   ]
  },
  {
   "cell_type": "code",
   "execution_count": 1,
   "metadata": {},
   "outputs": [],
   "source": [
    "import pandas as pd\n",
    "import numpy as np\n",
    "import os\n",
    "from tqdm import tqdm\n",
    "from datetime import datetime\n",
    "import pyexasol"
   ]
  },
  {
   "cell_type": "code",
   "execution_count": 2,
   "metadata": {},
   "outputs": [],
   "source": [
    "# 소수점 옵션\n",
    "pd.options.display.float_format = '{:.2f}'.format\n",
    "# pd.reset_option('display.float_format')"
   ]
  },
  {
   "attachments": {},
   "cell_type": "markdown",
   "metadata": {},
   "source": [
    "# 수정사항\n",
    "- 2023.03.21\n",
    "    - item 2 : EG\n",
    "        - 1. 개별 차량에 대한 지역코드를 부여하여, 지역마다 얼마나 차량들이 존재하는지 구분이 필요한 것 같음\n",
    "\n",
    "    이 외에도 내일 오전에 동양에서 가시화와 관련된 회의에서 추가적으로 필요하다고 판단되는 사항에 대해 추가적으로 분석이 필요할 것 같음\n",
    "\n",
    "- 2023.03.22\n",
    "    - result파일에 'EG' 컬럼 추가\n",
    "\n",
    "- 2023.03.24\n",
    "    - result파일에 '배인번호_수정', '등급_수정', 'DPF유무_수정' 컬럼 추가"
   ]
  },
  {
   "attachments": {},
   "cell_type": "markdown",
   "metadata": {},
   "source": [
    "# fold path"
   ]
  },
  {
   "cell_type": "code",
   "execution_count": 3,
   "metadata": {},
   "outputs": [],
   "source": [
    "drive = 'D'"
   ]
  },
  {
   "cell_type": "code",
   "execution_count": 4,
   "metadata": {},
   "outputs": [],
   "source": [
    "raw_fold = f'{drive}:/data/big2/BD1/raw'\n",
    "ods_fold = f'{drive}:/data/big2/ODS'\n",
    "sample_fold = f'{drive}:/data/big2/BD1/sample'\n",
    "analysis_fold = f'{drive}:/data/big2/BD1/an'\n",
    "df_fold = f'{drive}:/data/big2/BD1/df'"
   ]
  },
  {
   "attachments": {},
   "cell_type": "markdown",
   "metadata": {},
   "source": [
    "# Load\n",
    "- 등록&제원 -> result 4등급(연료 : 경유, 휘발유, LPG)"
   ]
  },
  {
   "attachments": {},
   "cell_type": "markdown",
   "metadata": {},
   "source": [
    "## 등록정보(STD_CEG_CAR_MIG) 4등급만"
   ]
  },
  {
   "cell_type": "code",
   "execution_count": null,
   "metadata": {},
   "outputs": [],
   "source": [
    "# # insider db\n",
    "# wb = pyexasol.connect(dsn='172.29.135.35/F99FAB2444F86051A9A467F6313FAAB48AF7C4760663430958E3B89A9DC53361:8563', user='sys', password='exasol', compression=True, schema='VSYSD')"
   ]
  },
  {
   "cell_type": "code",
   "execution_count": null,
   "metadata": {},
   "outputs": [],
   "source": [
    "# exasol db\n",
    "# 8.6s\n",
    "wb = pyexasol.connect(dsn='dev.openankus.org:8563', user='sys', password='djslzja', compression=True, schema='VSYSD')\n",
    "car = wb.export_to_pandas(\"SELECT VIN, BSPL_STDG_CD, VHCL_ERSR_YN, MANP_MNG_NO, YRIDNW, VHCTY_CD, PURPS_CD2, FRST_REG_YMD, VHCL_FBCTN_YMD FROM STD_CEG_CAR_MIG WHERE EXHST_GAS_GRD_CD = 'A0504' OR EXHST_GAS_GRD_CD = 'A05T4';\")\n",
    "# car = wb.export_to_pandas(\"SELECT VIN, BSPL_STDG_CD, EXHST_GAS_GRD_CD, EXHST_GAS_CERT_NO, VHCL_ERSR_YN, MANP_MNG_NO, YRIDNW, VHCTY_CD, PURPS_CD2, FRST_REG_YMD FROM STD_CEG_CAR_MIG;\")"
   ]
  },
  {
   "cell_type": "code",
   "execution_count": null,
   "metadata": {},
   "outputs": [
    {
     "name": "stdout",
     "output_type": "stream",
     "text": [
      "<class 'pandas.core.frame.DataFrame'>\n",
      "RangeIndex: 1898814 entries, 0 to 1898813\n",
      "Data columns (total 10 columns):\n",
      " #   Column             Dtype \n",
      "---  ------             ----- \n",
      " 0   VIN                object\n",
      " 1   BSPL_STDG_CD       int64 \n",
      " 2   EXHST_GAS_GRD_CD   object\n",
      " 3   EXHST_GAS_CERT_NO  object\n",
      " 4   VHCL_ERSR_YN       object\n",
      " 5   MANP_MNG_NO        object\n",
      " 6   YRIDNW             int64 \n",
      " 7   VHCTY_CD           object\n",
      " 8   PURPS_CD2          object\n",
      " 9   FRST_REG_YMD       int64 \n",
      "dtypes: int64(3), object(7)\n",
      "memory usage: 144.9+ MB\n"
     ]
    }
   ],
   "source": [
    "car.info()"
   ]
  },
  {
   "cell_type": "code",
   "execution_count": null,
   "metadata": {},
   "outputs": [],
   "source": [
    "car_ch_col = {\n",
    "    'VIN':'차대번호', \n",
    "    'BSPL_STDG_CD':'법정동코드', \n",
    "    'VHCL_ERSR_YN':'차량말소YN',\n",
    "    'MANP_MNG_NO':'제원관리번호',\n",
    "    'YRIDNW':'차량연식', \n",
    "    'VHCTY_CD':'차종', \n",
    "    'PURPS_CD2':'용도', \n",
    "    'FRST_REG_YMD':'최초등록일자',\n",
    "    'VHCL_FBCTN_YMD':'제작일자',\n",
    "}"
   ]
  },
  {
   "cell_type": "code",
   "execution_count": null,
   "metadata": {},
   "outputs": [],
   "source": [
    "carr = car.rename(columns=car_ch_col)"
   ]
  },
  {
   "cell_type": "code",
   "execution_count": null,
   "metadata": {},
   "outputs": [
    {
     "data": {
      "text/plain": [
       "Index(['차대번호', '법정동코드', '배출가스등급', '배출가스인증번호', '차량말소YN', '제원관리번호', '차량연식', '차종',\n",
       "       '용도', '최초등록일자'],\n",
       "      dtype='object')"
      ]
     },
     "metadata": {},
     "output_type": "display_data"
    }
   ],
   "source": [
    "carr.columns"
   ]
  },
  {
   "attachments": {},
   "cell_type": "markdown",
   "metadata": {},
   "source": [
    "## 제원정보(STD_CEG_CAR_SRC_MIG)"
   ]
  },
  {
   "cell_type": "code",
   "execution_count": null,
   "metadata": {},
   "outputs": [],
   "source": [
    "# 3.8s\n",
    "src = wb.export_to_pandas(\"SELECT MANP_MNG_NO, FUEL_CD, VHCTY_TY_CD2 FROM STD_CEG_CAR_SRC_MIG;\")"
   ]
  },
  {
   "cell_type": "code",
   "execution_count": null,
   "metadata": {},
   "outputs": [],
   "source": [
    "src_ch_col = {\n",
    "    'MANP_MNG_NO':'제원관리번호', \n",
    "    'FUEL_CD':'연료',\n",
    "    'VHCTY_TY_CD2':'차종유형', \n",
    "}"
   ]
  },
  {
   "cell_type": "code",
   "execution_count": null,
   "metadata": {},
   "outputs": [
    {
     "data": {
      "text/plain": [
       "Index(['제원관리번호', '연료', '차종유형', '제작사명', '차명', '자동차형식', '엔진형식'], dtype='object')"
      ]
     },
     "metadata": {},
     "output_type": "display_data"
    }
   ],
   "source": [
    "srcr = src.rename(columns=src_ch_col)\n",
    "srcr.columns"
   ]
  },
  {
   "attachments": {},
   "cell_type": "markdown",
   "metadata": {},
   "source": [
    "## 저감장치 부착이력(STD_DLM_TB_ERP_ATT_HIS)"
   ]
  },
  {
   "cell_type": "code",
   "execution_count": null,
   "metadata": {},
   "outputs": [
    {
     "name": "stdout",
     "output_type": "stream",
     "text": [
      "<class 'pandas.core.frame.DataFrame'>\n",
      "RangeIndex: 64316863 entries, 0 to 64316862\n",
      "Data columns (total 11 columns):\n",
      " #   Column                  Dtype  \n",
      "---  ------                  -----  \n",
      " 0   VIN                     object \n",
      " 1   FDRM_INSP_INSP_MTHD_CD  object \n",
      " 2   FDRM_INSP_KND_CD        object \n",
      " 3   FDRM_INSP_JGMT          object \n",
      " 4   FDRM_NLOD_SMO_MSTVL1    float64\n",
      " 5   FDRM_NLOD_SMO_MSTVL2    float64\n",
      " 6   FDRM_NLOD_SMO_MSTVL3    float64\n",
      " 7   FDRM_NLOD_SMO_JT_YN1    object \n",
      " 8   FDRM_INSP_YMD           int64  \n",
      " 9   FDRM_DRVNG_DSTNC        float64\n",
      " 10  FDRM_NLOD_SMO_PRMVL1    float64\n",
      "dtypes: float64(5), int64(1), object(5)\n",
      "memory usage: 5.3+ GB\n"
     ]
    }
   ],
   "source": [
    "# 3m 34.9s\n",
    "att = wb.export_to_pandas(\"SELECT VIN, RDCDVC_SE_CD FROM STD_DLM_TB_ERP_ATT_HIS;\")\n",
    "att.info()"
   ]
  },
  {
   "cell_type": "code",
   "execution_count": null,
   "metadata": {},
   "outputs": [],
   "source": [
    "att_ch_col = {\n",
    "    'VIN':'차대번호', \n",
    "    'RDCDVC_SE_CD':'저감장치구분', \n",
    "}"
   ]
  },
  {
   "cell_type": "code",
   "execution_count": null,
   "metadata": {},
   "outputs": [
    {
     "data": {
      "text/plain": [
       "Index(['차대번호', '검사방법', '검사종류', '검사판정', '무부하매연측정치1', '무부하매연측정치2', '무부하매연측정치3',\n",
       "       '무부하매연판정1', '검사일자', '주행거리', '무부하매연허용치1'],\n",
       "      dtype='object')"
      ]
     },
     "metadata": {},
     "output_type": "display_data"
    }
   ],
   "source": [
    "attr = att.rename(columns=att_ch_col)\n",
    "attr.columns"
   ]
  },
  {
   "attachments": {},
   "cell_type": "markdown",
   "metadata": {},
   "source": [
    "## 법정동코드(STD_BJCD_INFO)"
   ]
  },
  {
   "cell_type": "code",
   "execution_count": null,
   "metadata": {},
   "outputs": [],
   "source": [
    "# 3m 34.9s\n",
    "code = wb.export_to_pandas(\"SELECT STDG_CD, STDG_CTPV_NM, STDG_SGG_NM,  FROM STD_BJCD_INFO;\")\n",
    "code.info()"
   ]
  },
  {
   "attachments": {},
   "cell_type": "markdown",
   "metadata": {},
   "source": [
    "# 전처리"
   ]
  },
  {
   "attachments": {},
   "cell_type": "markdown",
   "metadata": {},
   "source": [
    "## 중복 차대번호 제거"
   ]
  },
  {
   "cell_type": "code",
   "execution_count": null,
   "metadata": {},
   "outputs": [],
   "source": [
    "carr.shape, len(carr['차대번호'].unique())"
   ]
  },
  {
   "cell_type": "code",
   "execution_count": null,
   "metadata": {},
   "outputs": [],
   "source": [
    "carr = carr.sort_values('최초등록일자', ascending=False).drop_duplicate('차대번호').reset_index(drop=True)\n",
    "carr.shape"
   ]
  },
  {
   "attachments": {},
   "cell_type": "markdown",
   "metadata": {},
   "source": [
    "## 등록정보 말소 제거"
   ]
  },
  {
   "cell_type": "code",
   "execution_count": null,
   "metadata": {},
   "outputs": [
    {
     "data": {
      "text/plain": [
       "(26205893, 10)"
      ]
     },
     "metadata": {},
     "output_type": "display_data"
    }
   ],
   "source": [
    "carm = carr[carr['차량말소YN'] == 'N'].reset_index(drop=True)\n",
    "carm.shape"
   ]
  },
  {
   "attachments": {},
   "cell_type": "markdown",
   "metadata": {},
   "source": [
    "## 배출가스등급 코드 변환"
   ]
  },
  {
   "cell_type": "code",
   "execution_count": null,
   "metadata": {},
   "outputs": [
    {
     "data": {
      "text/plain": [
       "array(['3', '5', '4', 'X', '2', '1'], dtype=object)"
      ]
     },
     "metadata": {},
     "output_type": "display_data"
    }
   ],
   "source": [
    "grd_dict = {\n",
    "    'A0501':'1', \n",
    "    'A0502':'2', \n",
    "    'A0503':'3', \n",
    "    'A0504':'4', \n",
    "    'A0505':'5', \n",
    "    'A05T2':'2',\n",
    "    'A05T3':'3', \n",
    "    'A05T4':'4', \n",
    "    'A05T5':'5', \n",
    "    'A05X':'X', \n",
    "}\n",
    "carm['배출가스등급'] = carm['배출가스등급'].replace(grd_dict)\n",
    "carm['배출가스등급'].unique()"
   ]
  },
  {
   "attachments": {},
   "cell_type": "markdown",
   "metadata": {},
   "source": [
    "## 차종 코드 변환"
   ]
  },
  {
   "cell_type": "code",
   "execution_count": null,
   "metadata": {},
   "outputs": [
    {
     "data": {
      "text/plain": [
       "array(['승합', '승용', '화물', '특수', nan], dtype=object)"
      ]
     },
     "metadata": {},
     "output_type": "display_data"
    }
   ],
   "source": [
    "cd_dict = {\n",
    "    'A31M':'이륜', \n",
    "    'A31P':'승용', \n",
    "    'A31S':'특수', \n",
    "    'A31T':'화물', \n",
    "    'A31V':'승합'\n",
    "}\n",
    "carm['차종'] = carm['차종'].replace(cd_dict)\n",
    "carm['차종'].unique()"
   ]
  },
  {
   "attachments": {},
   "cell_type": "markdown",
   "metadata": {},
   "source": [
    "## 용도 코드 변환"
   ]
  },
  {
   "cell_type": "code",
   "execution_count": null,
   "metadata": {},
   "outputs": [
    {
     "data": {
      "text/plain": [
       "array(['개인용', '영업용', '관용'], dtype=object)"
      ]
     },
     "metadata": {},
     "output_type": "display_data"
    }
   ],
   "source": [
    "purps_dict = {\n",
    "    'A08P':'개인용', \n",
    "    'A08B':'영업용', \n",
    "    'A08O':'관용',\n",
    "}\n",
    "carm['용도'] = carm['용도'].replace(purps_dict)\n",
    "carm['용도'].unique()"
   ]
  },
  {
   "attachments": {},
   "cell_type": "markdown",
   "metadata": {},
   "source": [
    "## 연료 코드 변환"
   ]
  },
  {
   "cell_type": "code",
   "execution_count": null,
   "metadata": {},
   "outputs": [
    {
     "data": {
      "text/plain": [
       "array(['경유', '휘발유', 'CNG(압축천연가스)', nan, 'LPG(액화석유가스)', '기타연료',\n",
       "       '휘발유 하이브리드', '전기', '알코올', 'CNG 하이브리드', '등유', '태양열', '경유 하이브리드',\n",
       "       'LPG 하이브리드', '수소', 'LNG(액화천연가스)'], dtype=object)"
      ]
     },
     "metadata": {},
     "output_type": "display_data"
    }
   ],
   "source": [
    "fuel_dict = {\n",
    "    'A90GS':'휘발유', \n",
    "    'A91DS':'경유',\n",
    "    'A92LP':'LPG(액화석유가스)', \n",
    "    'A90GH':'휘발유 하이브리드', \n",
    "    'A93EV':'전기', \n",
    "    'A91DH':'경유 하이브리드', \n",
    "    'A92CN':'CNG(압축천연가스)', \n",
    "    'A93HD':'수소', \n",
    "    'A92LH':'LPG 하이브리드', \n",
    "    'A94OT':'기타연료', \n",
    "    'A92CH':'CNG 하이브리드',\n",
    "    'A90AC':'알코올', \n",
    "    'A93SH':'태양열', \n",
    "    'A91KS':'등유', \n",
    "    'A92LN':'LNG(액화천연가스)', \n",
    "    'A90PH':'플러그인 하이브리드', \n",
    "}\n",
    "srcr['연료'] = srcr['연료'].replace(fuel_dict)\n",
    "srcr['연료'].unique()"
   ]
  },
  {
   "attachments": {},
   "cell_type": "markdown",
   "metadata": {},
   "source": [
    "## 차종유형 코드 변환"
   ]
  },
  {
   "cell_type": "code",
   "execution_count": null,
   "metadata": {},
   "outputs": [
    {
     "data": {
      "text/plain": [
       "array(['대형', '소형', '중형', '경형', nan], dtype=object)"
      ]
     },
     "metadata": {},
     "output_type": "display_data"
    }
   ],
   "source": [
    "ty_dict = {\n",
    "    'A30C':'경형', \n",
    "    'A30L':'대형', \n",
    "    'A30M':'중형', \n",
    "    'A30S':'소형',\n",
    "}\n",
    "srcr['차종유형'] = srcr['차종유형'].replace(ty_dict)\n",
    "srcr['차종유형'].unique()"
   ]
  },
  {
   "attachments": {},
   "cell_type": "markdown",
   "metadata": {},
   "source": [
    "## 등록&제원 병합"
   ]
  },
  {
   "cell_type": "code",
   "execution_count": null,
   "metadata": {},
   "outputs": [
    {
     "data": {
      "text/plain": [
       "(26205893, 16)"
      ]
     },
     "metadata": {},
     "output_type": "display_data"
    }
   ],
   "source": [
    "# 19.4s\n",
    "cs = carm.merge(srcr, on='제원관리번호', how='left')\n",
    "cs.shape"
   ]
  },
  {
   "attachments": {},
   "cell_type": "markdown",
   "metadata": {},
   "source": [
    "## 저감장치구분 코드 변환"
   ]
  },
  {
   "cell_type": "code",
   "execution_count": null,
   "metadata": {},
   "outputs": [
    {
     "data": {
      "text/plain": [
       "(34114272, 10)"
      ]
     },
     "metadata": {},
     "output_type": "display_data"
    }
   ],
   "source": [
    "# 4m 14.3s\n",
    "attr['저감장치구분'].unique()"
   ]
  },
  {
   "attachments": {},
   "cell_type": "markdown",
   "metadata": {},
   "source": [
    "## 검사종류 코드 변환"
   ]
  },
  {
   "cell_type": "code",
   "execution_count": null,
   "metadata": {},
   "outputs": [
    {
     "data": {
      "text/plain": [
       "array(['종합검사', '종합검사(경과)', '1부재검사(종합)', '2부재검사(종합)', '정기검사', '재검사(1부재검사)',\n",
       "       '재검사(2부재검사)', '정기(경과)검사', '배출재검사(구변)', nan, '구조변경검사',\n",
       "       '종합(정밀) 1부재검사', '종합(정밀) 2부재검사', '종합(정밀)', '종합(경과:정밀)', '정밀검사',\n",
       "       'A21C01', '특정검사', '특정재검사(배출)', '임시검사', '배출재검사', '관능재검사',\n",
       "       '특정재검사(관능)', '특정검사(경과)', '정밀검사(경과)', 'A21R03', 'A21R05', 'A21R06',\n",
       "       '관능재검사(임시)', 'A21E03'], dtype=object)"
      ]
     },
     "metadata": {},
     "output_type": "display_data"
    }
   ],
   "source": [
    "# 27.5s\n",
    "rdcdvc_dict = {\n",
    "    'A1001':'1종', \n",
    "    'A1002':'2종', \n",
    "    'A1003':'3종', \n",
    "    'A1004':'1종+SCR', \n",
    "    'A1005':'엔진개조', \n",
    "    'A1006':'엔진교체',\n",
    "    'A1007':'삼원촉매',\n",
    "}\n",
    "attr['저감장치구분'] = attr['저감장치구분'].replace(rdcdvc_dict)\n",
    "attr['저감장치구분'].unique()"
   ]
  },
  {
   "attachments": {},
   "cell_type": "markdown",
   "metadata": {},
   "source": [
    "## 저감장치 부착 유무"
   ]
  },
  {
   "cell_type": "code",
   "execution_count": null,
   "metadata": {},
   "outputs": [],
   "source": [
    "attr.loc[(attr['저감장치구분'] == '1종') | (attr['저감장치구분'] == '1종+SCR'), 'DPF_YN'] = '유'"
   ]
  },
  {
   "cell_type": "code",
   "execution_count": null,
   "metadata": {},
   "outputs": [],
   "source": [
    "attr['DPF_YN'].value_counts(dropna=False)"
   ]
  },
  {
   "attachments": {},
   "cell_type": "markdown",
   "metadata": {},
   "source": [
    "## 등록&제원&저감이력 병합"
   ]
  },
  {
   "cell_type": "code",
   "execution_count": null,
   "metadata": {},
   "outputs": [
    {
     "data": {
      "text/plain": [
       "(26205893, 25)"
      ]
     },
     "metadata": {},
     "output_type": "display_data"
    }
   ],
   "source": [
    "# 2m 0.5s\n",
    "df = cs.merge(attr[['차대번호', 'DPF_YN']], on='차대번호', how='left')\n",
    "df.shape"
   ]
  },
  {
   "cell_type": "code",
   "execution_count": null,
   "metadata": {},
   "outputs": [
    {
     "data": {
      "text/plain": [
       "Index(['차대번호', '법정동코드', '배출가스등급', '배출가스인증번호', '차량말소YN', '제원관리번호', '차량연식', '차종',\n",
       "       '용도', '최초등록일자', '연료', '차종유형', '제작사명', '차명', '자동차형식', '엔진형식', '검사방법',\n",
       "       '검사종류', '검사판정', '무부하매연측정치1', '무부하매연측정치2', '무부하매연측정치3', '무부하매연판정1',\n",
       "       '검사일자', '정기정밀'],\n",
       "      dtype='object')"
      ]
     },
     "metadata": {},
     "output_type": "display_data"
    }
   ],
   "source": [
    "df.columns"
   ]
  },
  {
   "attachments": {},
   "cell_type": "markdown",
   "metadata": {},
   "source": [
    "# 전처리"
   ]
  },
  {
   "attachments": {},
   "cell_type": "markdown",
   "metadata": {},
   "source": [
    "## 연료 확인"
   ]
  },
  {
   "cell_type": "code",
   "execution_count": 37,
   "metadata": {},
   "outputs": [
    {
     "data": {
      "text/plain": [
       "연료\n",
       "경유             1149256\n",
       "휘발유             323019\n",
       "LPG(액화석유가스)      25400\n",
       "알코올                  1\n",
       "기타연료                 1\n",
       "CNG(압축천연가스)          1\n",
       "Name: count, dtype: int64"
      ]
     },
     "execution_count": 37,
     "metadata": {},
     "output_type": "execute_result"
    }
   ],
   "source": [
    "df['연료'].value_counts(dropna=False)"
   ]
  },
  {
   "attachments": {},
   "cell_type": "markdown",
   "metadata": {},
   "source": [
    "## 연료 컬럼 추가"
   ]
  },
  {
   "cell_type": "code",
   "execution_count": 38,
   "metadata": {},
   "outputs": [
    {
     "data": {
      "text/plain": [
       "(1149256, 60)"
      ]
     },
     "execution_count": 38,
     "metadata": {},
     "output_type": "execute_result"
    }
   ],
   "source": [
    "# 1149256\n",
    "rw1 = df.loc[df['연료'] == '경유'].reset_index(drop=True)\n",
    "rw1.shape"
   ]
  },
  {
   "cell_type": "code",
   "execution_count": 39,
   "metadata": {},
   "outputs": [
    {
     "data": {
      "text/plain": [
       "(348419, 60)"
      ]
     },
     "execution_count": 39,
     "metadata": {},
     "output_type": "execute_result"
    }
   ],
   "source": [
    "# 348419\n",
    "rw2 = df.loc[(df['연료'] == '휘발유') | (df['연료'] == 'LPG(액화석유가스)')].reset_index(drop=True)\n",
    "rw2.shape"
   ]
  },
  {
   "cell_type": "code",
   "execution_count": 40,
   "metadata": {},
   "outputs": [
    {
     "data": {
      "text/plain": [
       "(3, 60)"
      ]
     },
     "execution_count": 40,
     "metadata": {},
     "output_type": "execute_result"
    }
   ],
   "source": [
    "# 3\n",
    "rw_rest = df.loc[(df['연료'] == '알코올') | (df['연료'] == 'CNG(압축천연가스)') | (df['연료'] == '기타연료')].reset_index(drop=True)\n",
    "rw_rest.shape"
   ]
  },
  {
   "cell_type": "code",
   "execution_count": 43,
   "metadata": {},
   "outputs": [],
   "source": [
    "rw1['fuel'] = '경유'\n",
    "rw2['fuel'] = '휘발유_가스'"
   ]
  },
  {
   "attachments": {},
   "cell_type": "markdown",
   "metadata": {},
   "source": [
    "## 경유, 휘발유_가스, 나머지 병합"
   ]
  },
  {
   "cell_type": "code",
   "execution_count": 50,
   "metadata": {},
   "outputs": [
    {
     "data": {
      "text/plain": [
       "(1497678, 61)"
      ]
     },
     "execution_count": 50,
     "metadata": {},
     "output_type": "execute_result"
    }
   ],
   "source": [
    "df1 = pd.concat([rw1, rw2, rw_rest], ignore_index=True)\n",
    "df1.shape"
   ]
  },
  {
   "cell_type": "code",
   "execution_count": 51,
   "metadata": {},
   "outputs": [
    {
     "data": {
      "text/plain": [
       "fuel\n",
       "경유        1149256\n",
       "휘발유_가스     348419\n",
       "NaN             3\n",
       "Name: count, dtype: int64"
      ]
     },
     "execution_count": 51,
     "metadata": {},
     "output_type": "execute_result"
    }
   ],
   "source": [
    "df1['fuel'].value_counts(dropna=False)"
   ]
  },
  {
   "cell_type": "code",
   "execution_count": 52,
   "metadata": {},
   "outputs": [
    {
     "data": {
      "text/plain": [
       "DPF유무_수정\n",
       "무       879332\n",
       "NaN     348422\n",
       "유       257763\n",
       "확인불가     12161\n",
       "Name: count, dtype: int64"
      ]
     },
     "execution_count": 52,
     "metadata": {},
     "output_type": "execute_result"
    }
   ],
   "source": [
    "df1['DPF_YN'].value_counts(dropna=False)"
   ]
  },
  {
   "attachments": {},
   "cell_type": "markdown",
   "metadata": {},
   "source": [
    "# 분석"
   ]
  },
  {
   "attachments": {},
   "cell_type": "markdown",
   "metadata": {},
   "source": [
    "## EG 분류"
   ]
  },
  {
   "cell_type": "code",
   "execution_count": 55,
   "metadata": {},
   "outputs": [
    {
     "name": "stderr",
     "output_type": "stream",
     "text": [
      "100%|██████████| 1497678/1497678 [00:02<00:00, 524302.13it/s]\n"
     ]
    },
    {
     "data": {
      "text/plain": [
       "1497678"
      ]
     },
     "execution_count": 55,
     "metadata": {},
     "output_type": "execute_result"
    }
   ],
   "source": [
    "grade_list = []\n",
    "for f, y, cy, e in tqdm(df1[['fuel', '제작일자', '연식', 'DPF_YN']].values):\n",
    "    if (f == '휘발유_가스') and ( (19980101 <= y <= 20001231) or (1998 <= cy <= 2000) ):\n",
    "        grade_list.append('A')\n",
    "    elif (f == '휘발유_가스') and ( (y <= 19971231) or (cy <= 1997) ):\n",
    "        grade_list.append('B')\n",
    "    elif (f == '경유') and ( (y >= 20080101) or (cy >= 2008) ) and (e == '유'):\n",
    "        grade_list.append('A')\n",
    "    elif (f == '경유') and ( (y <= 20071231) or (cy <= 2007) )and (e == '유'):\n",
    "        grade_list.append('B')\n",
    "    elif (f == '경유') and ( (y >= 20080101) or (cy >= 2008) ) and (e == '무'):\n",
    "        grade_list.append('C')\n",
    "    elif (f == '경유') and ( (y <= 20071231) or (cy <= 2007) ) and (e == '무'):\n",
    "        grade_list.append('D')\n",
    "    else:\n",
    "        grade_list.append('X')\n",
    "len(grade_list)"
   ]
  },
  {
   "cell_type": "code",
   "execution_count": 59,
   "metadata": {},
   "outputs": [],
   "source": [
    "df['Grade'] = grade_list"
   ]
  },
  {
   "attachments": {},
   "cell_type": "markdown",
   "metadata": {},
   "source": [
    "## [출력] 4등급"
   ]
  },
  {
   "cell_type": "code",
   "execution_count": 66,
   "metadata": {},
   "outputs": [
    {
     "data": {
      "text/plain": [
       "Index(['차대번호', '차량번호', '제원관리번호', '차종', '용도', '최초등록일', '연식', '제작일자', '검사유효일',\n",
       "       '배출가스인증번호', '등급', '차명', '차종분류', '차종유형', '자동차형식', '제작사명', '연료', '엔진형식',\n",
       "       '총중량', '적재중량', '엔진출력', '배기량', '법정동코드', '시도명', '시군구명', '소유자구분', '말소여부',\n",
       "       '일치유무', '인증번호 수정 유무', '배인번호_수정', '등급_수정', 'DPF유무_수정', '배출가스', '등급2',\n",
       "       'DPF', '비고', '검사방법', '검사종류', '검사판정', '산소값', '이산화탄소값', '무부하매연판정1',\n",
       "       '무부하매연판정2', '무부하매연판정3', '무부하매연판정4', '무부하매연판정5', '무부하매연판정6', '무부하매연허용치1',\n",
       "       '무부하매연허용치2', '무부하매연허용치3', '무부하매연허용치4', '무부하매연허용치5', '무부하매연허용치6',\n",
       "       '무부하매연측정치1', '무부하매연측정치2', '무부하매연측정치3', '무부하매연측정치4', '무부하매연측정치5',\n",
       "       '무부하매연측정치6', '정기정밀', 'fuel', 'Grade'],\n",
       "      dtype='object')"
      ]
     },
     "execution_count": 66,
     "metadata": {},
     "output_type": "execute_result"
    }
   ],
   "source": [
    "df1.columns"
   ]
  },
  {
   "cell_type": "code",
   "execution_count": 79,
   "metadata": {},
   "outputs": [
    {
     "data": {
      "text/plain": [
       "Index(['차대번호', '제원관리번호', '차종', '용도', '최초등록일', '연식', '제작일자', '차종분류', '차종유형',\n",
       "       '연료', '법정동코드', '시도명', '시군구명', '배인번호_수정', '등급_수정', 'DPF유무_수정', 'Grade',\n",
       "       '무부하매연측정치1', '무부하매연측정치2', '무부하매연측정치3'],\n",
       "      dtype='object')"
      ]
     },
     "execution_count": 79,
     "metadata": {},
     "output_type": "execute_result"
    }
   ],
   "source": [
    "df2 = df1[[\n",
    "    '차대번호', \n",
    "    '제원관리번호',\n",
    "    '차종', \n",
    "    '용도', \n",
    "    '최초등록일', \n",
    "    '차량연식', \n",
    "    '제작일자',\n",
    "    '차종유형', \n",
    "    '연료', \n",
    "    '법정동코드', \n",
    "    '시도명', \n",
    "    '시군구명', \n",
    "    '배출가스인증번호', \n",
    "    '배출가스등급', \n",
    "    'DPF_YN',\n",
    "    'Grade',\n",
    "    '무부하매연측정치1', \n",
    "    '무부하매연측정치2', \n",
    "    '무부하매연측정치3', \n",
    "    ]]\n",
    "df2.columns"
   ]
  },
  {
   "cell_type": "code",
   "execution_count": null,
   "metadata": {},
   "outputs": [],
   "source": [
    "today_date = datetime.today().strftime(\"%Y%m\")\n",
    "today_date"
   ]
  },
  {
   "cell_type": "code",
   "execution_count": 80,
   "metadata": {},
   "outputs": [
    {
     "name": "stderr",
     "output_type": "stream",
     "text": [
      "C:\\Users\\kbjung\\AppData\\Local\\Temp\\ipykernel_14412\\2157983385.py:1: SettingWithCopyWarning: \n",
      "A value is trying to be set on a copy of a slice from a DataFrame.\n",
      "Try using .loc[row_indexer,col_indexer] = value instead\n",
      "\n",
      "See the caveats in the documentation: https://pandas.pydata.org/pandas-docs/stable/user_guide/indexing.html#returning-a-view-versus-a-copy\n",
      "  df1['기준연월'] = '2022.12'\n"
     ]
    }
   ],
   "source": [
    "df2['기준연월'] = today_date"
   ]
  },
  {
   "cell_type": "code",
   "execution_count": 81,
   "metadata": {},
   "outputs": [
    {
     "data": {
      "text/plain": [
       "Index(['차대번호', '제원관리번호', '차종', '용도', '최초등록일', '연식', '제작일자', '차종분류', '차종유형',\n",
       "       '연료', '법정동코드', '시도명', '시군구명', '배인번호_수정', '등급_수정', 'DPF유무_수정', 'Grade',\n",
       "       '무부하매연측정치1', '무부하매연측정치2', '무부하매연측정치3', '기준연월'],\n",
       "      dtype='object')"
      ]
     },
     "execution_count": 81,
     "metadata": {},
     "output_type": "execute_result"
    }
   ],
   "source": [
    "df2.columns"
   ]
  },
  {
   "cell_type": "code",
   "execution_count": 82,
   "metadata": {},
   "outputs": [
    {
     "data": {
      "text/plain": [
       "Index(['기준연월', '차대번호', '제원관리번호', '차종', '용도', '최초등록일', '연식', '제작일자', '차종분류',\n",
       "       '차종유형', '연료', '법정동코드', '시도명', '시군구명', '배인번호_수정', '등급_수정', 'DPF유무_수정',\n",
       "       'Grade', '무부하매연측정치1', '무부하매연측정치2', '무부하매연측정치3'],\n",
       "      dtype='object')"
      ]
     },
     "execution_count": 82,
     "metadata": {},
     "output_type": "execute_result"
    }
   ],
   "source": [
    "df3 = df2[[\n",
    "    '기준연월', \n",
    "    '차대번호', \n",
    "    '제원관리번호', \n",
    "    '차종', \n",
    "    '용도', \n",
    "    '최초등록일', \n",
    "    '차량연식', \n",
    "    '제작일자', \n",
    "    '차종유형', \n",
    "    '연료', \n",
    "    '법정동코드', \n",
    "    '배출가스인증번호', \n",
    "    '배출가스등급', \n",
    "    'DPF_YN',\n",
    "    'Grade', \n",
    "    '무부하매연측정치1',\n",
    "    '무부하매연측정치2',\n",
    "    '무부하매연측정치3',\n",
    "    ]]\n",
    "df3.columns"
   ]
  },
  {
   "cell_type": "code",
   "execution_count": 83,
   "metadata": {},
   "outputs": [],
   "source": [
    "ch_col_dict = {\n",
    "                '기준연월':'CRTR_YM',\n",
    "                '차대번호':'VIN', \n",
    "                '제원관리번호':'MANG_MNG_NO',\n",
    "                '차종':'VHCTY_CD', \n",
    "                '용도':'PURPS_CD2',\n",
    "                '최초등록일':'FRST_REG_YMD', \n",
    "                '연식':'YRIDNW', \n",
    "                '제작일자':'FBCTN_YMD',\n",
    "                '차종분류':'VHCTY_CL_CD',\n",
    "                '차종유형':'VHCTY_TY', \n",
    "                '연료':'FUEL_CD', \n",
    "                '법정동코드':'STDG_CD', \n",
    "                '시도명':'CTPV_NM',\n",
    "                '시군구명':'SGG_NM',\n",
    "                '배출가스인증번호':'EXHST_GAS_CERT_NO_MOD', \n",
    "                '배출가스등급':'EXHST_GAS_GRD_CD_MOD', \n",
    "                'DPF_YN':'DPF_MNTNG_YN',\n",
    "                'Grade':'GRD4_MLSFC', \n",
    "                '무부하매연측정치1':'NOLOD_SMO_MEVLU1',\n",
    "                '무부하매연측정치2':'NOLOD_SMO_MEVLU2',\n",
    "                '무부하매연측정치3':'NOLOD_SMO_MEVLU3',\n",
    "                }"
   ]
  },
  {
   "cell_type": "code",
   "execution_count": 84,
   "metadata": {},
   "outputs": [
    {
     "data": {
      "text/plain": [
       "Index(['CRTR_YM', 'VIN', 'MANG_MNG_NO', 'VHCTY_CD', 'PURPS_CD2',\n",
       "       'FRST_REG_YMD', 'YRIDNW', 'FBCTN_YMD', 'VHCTY_CL_CD', 'VHCTY_TY',\n",
       "       'FUEL_CD', 'STDG_CD', 'CTPV_NM', 'SGG_NM', 'EXHST_GAS_CERT_NO_MOD',\n",
       "       'EXHST_GAS_GRD_CD_MOD', 'DPF_MNTNG_YN', 'GRD4_MLSFC',\n",
       "       'NOLOD_SMO_MEVLU3', '무부하매연측정치2', '무부하매연측정치3'],\n",
       "      dtype='object')"
      ]
     },
     "execution_count": 84,
     "metadata": {},
     "output_type": "execute_result"
    }
   ],
   "source": [
    "df3 = df3.rename(columns=ch_col_dict)\n",
    "df3.columns"
   ]
  },
  {
   "cell_type": "code",
   "execution_count": 74,
   "metadata": {},
   "outputs": [],
   "source": [
    "# about 9.7s\n",
    "# 4등급 세분류 결과\n",
    "df3.to_csv(os.path.join(df_fold, f'BD1-2_STD_BD_GRD4_MLSFC_RSLT.csv'), index=False)"
   ]
  },
  {
   "attachments": {},
   "cell_type": "markdown",
   "metadata": {},
   "source": [
    "## [출력] 4등급 + 3등급(등급_수정) + 5등급(등급_수정)"
   ]
  },
  {
   "cell_type": "code",
   "execution_count": 77,
   "metadata": {},
   "outputs": [
    {
     "data": {
      "text/plain": [
       "(1502235, 62)"
      ]
     },
     "execution_count": 77,
     "metadata": {},
     "output_type": "execute_result"
    }
   ],
   "source": [
    "total = pd.concat([df, g3_g5], ignore_index=True)\n",
    "total.shape"
   ]
  },
  {
   "cell_type": "code",
   "execution_count": 78,
   "metadata": {},
   "outputs": [
    {
     "data": {
      "text/plain": [
       "Index(['차대번호', '차량번호', '제원관리번호', '차종', '용도', '최초등록일', '연식', '제작일자', '검사유효일',\n",
       "       '배출가스인증번호', '등급', '차명', '차종분류', '차종유형', '자동차형식', '제작사명', '연료', '엔진형식',\n",
       "       '총중량', '적재중량', '엔진출력', '배기량', '법정동코드', '시도명', '시군구명', '소유자구분', '말소여부',\n",
       "       '일치유무', '인증번호 수정 유무', '배인번호_수정', '등급_수정', 'DPF유무_수정', '배출가스', '등급2',\n",
       "       'DPF', '비고', '검사방법', '검사종류', '검사판정', '산소값', '이산화탄소값', '무부하매연판정1',\n",
       "       '무부하매연판정2', '무부하매연판정3', '무부하매연판정4', '무부하매연판정5', '무부하매연판정6', '무부하매연허용치1',\n",
       "       '무부하매연허용치2', '무부하매연허용치3', '무부하매연허용치4', '무부하매연허용치5', '무부하매연허용치6',\n",
       "       '무부하매연측정치1', '무부하매연측정치2', '무부하매연측정치3', '무부하매연측정치4', '무부하매연측정치5',\n",
       "       '무부하매연측정치6', '정기정밀', 'fuel', 'Grade'],\n",
       "      dtype='object')"
      ]
     },
     "execution_count": 78,
     "metadata": {},
     "output_type": "execute_result"
    }
   ],
   "source": [
    "total.columns"
   ]
  },
  {
   "cell_type": "code",
   "execution_count": 79,
   "metadata": {},
   "outputs": [
    {
     "data": {
      "text/plain": [
       "Index(['차대번호', '차량번호', '제원관리번호', '차종', '용도', '최초등록일', '연식', '제작일자', '검사유효일',\n",
       "       '배출가스인증번호', '등급', '차명', '차종분류', '차종유형', '자동차형식', '제작사명', '연료', '엔진형식',\n",
       "       '총중량', '적재중량', '엔진출력', '배기량', '법정동코드', '시도명', '시군구명', '소유자구분', '말소여부',\n",
       "       '일치유무', '인증번호 수정 유무', '배인번호_수정', '등급_수정', 'DPF유무_수정', '배출가스', '등급2',\n",
       "       'DPF', '비고', 'Grade'],\n",
       "      dtype='object')"
      ]
     },
     "execution_count": 79,
     "metadata": {},
     "output_type": "execute_result"
    }
   ],
   "source": [
    "total = total.drop(['검사방법', '검사종류', '검사판정', '산소값', '이산화탄소값', '무부하매연판정1',\n",
    "       '무부하매연판정2', '무부하매연판정3', '무부하매연판정4', '무부하매연판정5', '무부하매연판정6', '무부하매연허용치1',\n",
    "       '무부하매연허용치2', '무부하매연허용치3', '무부하매연허용치4', '무부하매연허용치5', '무부하매연허용치6',\n",
    "       '무부하매연측정치1', '무부하매연측정치2', '무부하매연측정치3', '무부하매연측정치4', '무부하매연측정치5',\n",
    "       '무부하매연측정치6', '정기정밀', 'fuel'], axis=1)\n",
    "total.columns"
   ]
  },
  {
   "cell_type": "code",
   "execution_count": 80,
   "metadata": {},
   "outputs": [
    {
     "data": {
      "text/plain": [
       "'2023.06.12_PM.03.50.44'"
      ]
     },
     "execution_count": 80,
     "metadata": {},
     "output_type": "execute_result"
    }
   ],
   "source": [
    "today_date = datetime.today().strftime(\"%Y.%m.%d_%p.%I.%M.%S\")\n",
    "today_date"
   ]
  },
  {
   "cell_type": "code",
   "execution_count": 81,
   "metadata": {},
   "outputs": [],
   "source": [
    "# # about 21.8s\n",
    "# total.to_csv(os.path.join(raw_fold, f'4등급_차량_리스트_양식_result(전체)_Grade_추가({today_date}).csv'), index=False, encoding='cp949')"
   ]
  },
  {
   "cell_type": "code",
   "execution_count": 82,
   "metadata": {},
   "outputs": [],
   "source": [
    "# # about 14m 7.3s\n",
    "# n = 700000\n",
    "# total.iloc[:n].to_excel(os.path.join(raw_fold, f'4등급_차량_리스트_양식_result(전체)_Grade_추가({today_date})01.xlsx'), index=False)\n",
    "# total.iloc[n:].to_excel(os.path.join(raw_fold, f'4등급_차량_리스트_양식_result(전체)_Grade_추가({today_date})02.xlsx'), index=False)"
   ]
  },
  {
   "attachments": {},
   "cell_type": "markdown",
   "metadata": {},
   "source": [
    "## 시도, 연도별 차량 대수"
   ]
  },
  {
   "cell_type": "code",
   "execution_count": 83,
   "metadata": {},
   "outputs": [
    {
     "data": {
      "text/plain": [
       "count    1502235.00\n",
       "mean    20056945.62\n",
       "std        68680.98\n",
       "min         1993.00\n",
       "25%     20060824.00\n",
       "50%     20081217.00\n",
       "75%     20100512.00\n",
       "max     20221125.00\n",
       "Name: 최초등록일, dtype: float64"
      ]
     },
     "execution_count": 83,
     "metadata": {},
     "output_type": "execute_result"
    }
   ],
   "source": [
    "total['최초등록일'].describe()"
   ]
  },
  {
   "cell_type": "code",
   "execution_count": 84,
   "metadata": {},
   "outputs": [
    {
     "data": {
      "text/plain": [
       "(1502235, 37)"
      ]
     },
     "execution_count": 84,
     "metadata": {},
     "output_type": "execute_result"
    }
   ],
   "source": [
    "total.shape"
   ]
  },
  {
   "cell_type": "code",
   "execution_count": 85,
   "metadata": {},
   "outputs": [
    {
     "data": {
      "text/plain": [
       "(144, 37)"
      ]
     },
     "execution_count": 85,
     "metadata": {},
     "output_type": "execute_result"
    }
   ],
   "source": [
    "total.loc[(total['최초등록일'] >= 20190101) & (total['최초등록일'] < 20230101)].shape"
   ]
  },
  {
   "cell_type": "code",
   "execution_count": 86,
   "metadata": {},
   "outputs": [],
   "source": [
    "total2 = total.copy()"
   ]
  },
  {
   "cell_type": "code",
   "execution_count": 87,
   "metadata": {},
   "outputs": [],
   "source": [
    "total2['최초등록일'] = total2['최초등록일'].astype('str')"
   ]
  },
  {
   "cell_type": "code",
   "execution_count": 88,
   "metadata": {},
   "outputs": [
    {
     "data": {
      "text/html": [
       "<div>\n",
       "<style scoped>\n",
       "    .dataframe tbody tr th:only-of-type {\n",
       "        vertical-align: middle;\n",
       "    }\n",
       "\n",
       "    .dataframe tbody tr th {\n",
       "        vertical-align: top;\n",
       "    }\n",
       "\n",
       "    .dataframe thead th {\n",
       "        text-align: right;\n",
       "    }\n",
       "</style>\n",
       "<table border=\"1\" class=\"dataframe\">\n",
       "  <thead>\n",
       "    <tr style=\"text-align: right;\">\n",
       "      <th></th>\n",
       "      <th>차대번호</th>\n",
       "      <th>차량번호</th>\n",
       "      <th>제원관리번호</th>\n",
       "      <th>차종</th>\n",
       "      <th>용도</th>\n",
       "      <th>최초등록일</th>\n",
       "      <th>연식</th>\n",
       "      <th>제작일자</th>\n",
       "      <th>검사유효일</th>\n",
       "      <th>배출가스인증번호</th>\n",
       "      <th>...</th>\n",
       "      <th>일치유무</th>\n",
       "      <th>인증번호 수정 유무</th>\n",
       "      <th>배인번호_수정</th>\n",
       "      <th>등급_수정</th>\n",
       "      <th>DPF유무_수정</th>\n",
       "      <th>배출가스</th>\n",
       "      <th>등급2</th>\n",
       "      <th>DPF</th>\n",
       "      <th>비고</th>\n",
       "      <th>Grade</th>\n",
       "    </tr>\n",
       "  </thead>\n",
       "  <tbody>\n",
       "    <tr>\n",
       "      <th>1172636</th>\n",
       "      <td>KMHJF31JPPU555457</td>\n",
       "      <td>경기34머9199</td>\n",
       "      <td>10022700140000</td>\n",
       "      <td>승용</td>\n",
       "      <td>자가용</td>\n",
       "      <td>1993</td>\n",
       "      <td>1993</td>\n",
       "      <td>1993.00</td>\n",
       "      <td>20031014.00</td>\n",
       "      <td>KMY-HD-04</td>\n",
       "      <td>...</td>\n",
       "      <td>NaN</td>\n",
       "      <td>NaN</td>\n",
       "      <td>NaN</td>\n",
       "      <td>4.00</td>\n",
       "      <td>NaN</td>\n",
       "      <td>NaN</td>\n",
       "      <td>NaN</td>\n",
       "      <td>NaN</td>\n",
       "      <td>NaN</td>\n",
       "      <td>B</td>\n",
       "    </tr>\n",
       "    <tr>\n",
       "      <th>1260821</th>\n",
       "      <td>KLAER1931TB044115</td>\n",
       "      <td>강원27누7569</td>\n",
       "      <td>10002200860001</td>\n",
       "      <td>승용</td>\n",
       "      <td>자가용</td>\n",
       "      <td>9960617</td>\n",
       "      <td>1996</td>\n",
       "      <td>9960617.00</td>\n",
       "      <td>20020616.00</td>\n",
       "      <td>NaN</td>\n",
       "      <td>...</td>\n",
       "      <td>NaN</td>\n",
       "      <td>NaN</td>\n",
       "      <td>NaN</td>\n",
       "      <td>4.00</td>\n",
       "      <td>NaN</td>\n",
       "      <td>NaN</td>\n",
       "      <td>NaN</td>\n",
       "      <td>NaN</td>\n",
       "      <td>NaN</td>\n",
       "      <td>B</td>\n",
       "    </tr>\n",
       "  </tbody>\n",
       "</table>\n",
       "<p>2 rows × 37 columns</p>\n",
       "</div>"
      ],
      "text/plain": [
       "                      차대번호       차량번호          제원관리번호  차종   용도    최초등록일    연식   \n",
       "1172636  KMHJF31JPPU555457  경기34머9199  10022700140000  승용  자가용     1993  1993  \\\n",
       "1260821  KLAER1931TB044115  강원27누7569  10002200860001  승용  자가용  9960617  1996   \n",
       "\n",
       "              제작일자       검사유효일   배출가스인증번호  ...  일치유무 인증번호 수정 유무 배인번호_수정 등급_수정   \n",
       "1172636    1993.00 20031014.00  KMY-HD-04  ...   NaN        NaN     NaN  4.00  \\\n",
       "1260821 9960617.00 20020616.00        NaN  ...   NaN        NaN     NaN  4.00   \n",
       "\n",
       "        DPF유무_수정 배출가스  등급2  DPF   비고  Grade  \n",
       "1172636      NaN  NaN  NaN  NaN  NaN      B  \n",
       "1260821      NaN  NaN  NaN  NaN  NaN      B  \n",
       "\n",
       "[2 rows x 37 columns]"
      ]
     },
     "execution_count": 88,
     "metadata": {},
     "output_type": "execute_result"
    }
   ],
   "source": [
    "total2.loc[total2['최초등록일'].str.len() != 8]"
   ]
  },
  {
   "attachments": {},
   "cell_type": "markdown",
   "metadata": {},
   "source": [
    "### 최초등록일 수정"
   ]
  },
  {
   "cell_type": "code",
   "execution_count": 89,
   "metadata": {},
   "outputs": [],
   "source": [
    "total2.loc[total2['최초등록일'] == '1993', '최초등록일'] = '19930101'\n",
    "total2.loc[total2['최초등록일'] == '9960617', '최초등록일'] = '19960617'"
   ]
  },
  {
   "cell_type": "code",
   "execution_count": 90,
   "metadata": {},
   "outputs": [
    {
     "data": {
      "text/plain": [
       "(0, 37)"
      ]
     },
     "execution_count": 90,
     "metadata": {},
     "output_type": "execute_result"
    }
   ],
   "source": [
    "total2.loc[total2['최초등록일'].str.len() != 8].shape"
   ]
  },
  {
   "cell_type": "code",
   "execution_count": 91,
   "metadata": {},
   "outputs": [],
   "source": [
    "total2['최초등록일_년'] = total2['최초등록일'].str[:4]\n",
    "total2['최초등록일_월'] = total2['최초등록일'].str[4:6]\n",
    "total2['최초등록일_일'] = total2['최초등록일'].str[6:8]"
   ]
  },
  {
   "cell_type": "code",
   "execution_count": 92,
   "metadata": {},
   "outputs": [
    {
     "data": {
      "text/html": [
       "<div>\n",
       "<style scoped>\n",
       "    .dataframe tbody tr th:only-of-type {\n",
       "        vertical-align: middle;\n",
       "    }\n",
       "\n",
       "    .dataframe tbody tr th {\n",
       "        vertical-align: top;\n",
       "    }\n",
       "\n",
       "    .dataframe thead th {\n",
       "        text-align: right;\n",
       "    }\n",
       "</style>\n",
       "<table border=\"1\" class=\"dataframe\">\n",
       "  <thead>\n",
       "    <tr style=\"text-align: right;\">\n",
       "      <th></th>\n",
       "      <th>최초등록일</th>\n",
       "      <th>최초등록일_년</th>\n",
       "      <th>최초등록일_월</th>\n",
       "      <th>최초등록일_일</th>\n",
       "    </tr>\n",
       "  </thead>\n",
       "  <tbody>\n",
       "    <tr>\n",
       "      <th>0</th>\n",
       "      <td>20060208</td>\n",
       "      <td>2006</td>\n",
       "      <td>02</td>\n",
       "      <td>08</td>\n",
       "    </tr>\n",
       "    <tr>\n",
       "      <th>1</th>\n",
       "      <td>20060228</td>\n",
       "      <td>2006</td>\n",
       "      <td>02</td>\n",
       "      <td>28</td>\n",
       "    </tr>\n",
       "    <tr>\n",
       "      <th>2</th>\n",
       "      <td>20060105</td>\n",
       "      <td>2006</td>\n",
       "      <td>01</td>\n",
       "      <td>05</td>\n",
       "    </tr>\n",
       "    <tr>\n",
       "      <th>3</th>\n",
       "      <td>20060105</td>\n",
       "      <td>2006</td>\n",
       "      <td>01</td>\n",
       "      <td>05</td>\n",
       "    </tr>\n",
       "    <tr>\n",
       "      <th>4</th>\n",
       "      <td>20060630</td>\n",
       "      <td>2006</td>\n",
       "      <td>06</td>\n",
       "      <td>30</td>\n",
       "    </tr>\n",
       "  </tbody>\n",
       "</table>\n",
       "</div>"
      ],
      "text/plain": [
       "      최초등록일 최초등록일_년 최초등록일_월 최초등록일_일\n",
       "0  20060208    2006      02      08\n",
       "1  20060228    2006      02      28\n",
       "2  20060105    2006      01      05\n",
       "3  20060105    2006      01      05\n",
       "4  20060630    2006      06      30"
      ]
     },
     "execution_count": 92,
     "metadata": {},
     "output_type": "execute_result"
    }
   ],
   "source": [
    "total2[['최초등록일', '최초등록일_년', '최초등록일_월', '최초등록일_일']].head()"
   ]
  },
  {
   "cell_type": "code",
   "execution_count": 93,
   "metadata": {},
   "outputs": [
    {
     "data": {
      "text/plain": [
       "0    2006.02\n",
       "1    2006.02\n",
       "2    2006.01\n",
       "3    2006.01\n",
       "4    2006.06\n",
       "Name: 최초등록일_년월, dtype: object"
      ]
     },
     "execution_count": 93,
     "metadata": {},
     "output_type": "execute_result"
    }
   ],
   "source": [
    "total2['최초등록일_년월'] = total2['최초등록일_년'] + '.' + total2['최초등록일_월']\n",
    "total2['최초등록일_년월'].head()"
   ]
  },
  {
   "cell_type": "code",
   "execution_count": 94,
   "metadata": {},
   "outputs": [
    {
     "data": {
      "text/plain": [
       "Index(['차대번호', '차량번호', '제원관리번호', '차종', '용도', '최초등록일', '연식', '제작일자', '검사유효일',\n",
       "       '배출가스인증번호', '등급', '차명', '차종분류', '차종유형', '자동차형식', '제작사명', '연료', '엔진형식',\n",
       "       '총중량', '적재중량', '엔진출력', '배기량', '법정동코드', '시도명', '시군구명', '소유자구분', '말소여부',\n",
       "       '일치유무', '인증번호 수정 유무', '배인번호_수정', '등급_수정', 'DPF유무_수정', '배출가스', '등급2',\n",
       "       'DPF', '비고', 'Grade', '최초등록일_년', '최초등록일_월', '최초등록일_일', '최초등록일_년월'],\n",
       "      dtype='object')"
      ]
     },
     "execution_count": 94,
     "metadata": {},
     "output_type": "execute_result"
    }
   ],
   "source": [
    "total2.columns"
   ]
  },
  {
   "attachments": {},
   "cell_type": "markdown",
   "metadata": {},
   "source": [
    "### 시군구명 앞쪽 지역명만 남기기"
   ]
  },
  {
   "cell_type": "code",
   "execution_count": 95,
   "metadata": {},
   "outputs": [
    {
     "data": {
      "text/html": [
       "<div>\n",
       "<style scoped>\n",
       "    .dataframe tbody tr th:only-of-type {\n",
       "        vertical-align: middle;\n",
       "    }\n",
       "\n",
       "    .dataframe tbody tr th {\n",
       "        vertical-align: top;\n",
       "    }\n",
       "\n",
       "    .dataframe thead th {\n",
       "        text-align: right;\n",
       "    }\n",
       "</style>\n",
       "<table border=\"1\" class=\"dataframe\">\n",
       "  <thead>\n",
       "    <tr style=\"text-align: right;\">\n",
       "      <th></th>\n",
       "      <th>시도명</th>\n",
       "      <th>시군구명</th>\n",
       "    </tr>\n",
       "  </thead>\n",
       "  <tbody>\n",
       "    <tr>\n",
       "      <th>50</th>\n",
       "      <td>경기도</td>\n",
       "      <td>용인시 기흥구</td>\n",
       "    </tr>\n",
       "    <tr>\n",
       "      <th>51</th>\n",
       "      <td>경기도</td>\n",
       "      <td>안양시 동안구</td>\n",
       "    </tr>\n",
       "    <tr>\n",
       "      <th>52</th>\n",
       "      <td>전라북도</td>\n",
       "      <td>전주시 덕진구</td>\n",
       "    </tr>\n",
       "    <tr>\n",
       "      <th>53</th>\n",
       "      <td>경기도</td>\n",
       "      <td>하남시</td>\n",
       "    </tr>\n",
       "    <tr>\n",
       "      <th>54</th>\n",
       "      <td>대구광역시</td>\n",
       "      <td>수성구</td>\n",
       "    </tr>\n",
       "    <tr>\n",
       "      <th>55</th>\n",
       "      <td>울산광역시</td>\n",
       "      <td>북구</td>\n",
       "    </tr>\n",
       "  </tbody>\n",
       "</table>\n",
       "</div>"
      ],
      "text/plain": [
       "      시도명     시군구명\n",
       "50    경기도  용인시 기흥구\n",
       "51    경기도  안양시 동안구\n",
       "52   전라북도  전주시 덕진구\n",
       "53    경기도      하남시\n",
       "54  대구광역시      수성구\n",
       "55  울산광역시       북구"
      ]
     },
     "execution_count": 95,
     "metadata": {},
     "output_type": "execute_result"
    }
   ],
   "source": [
    "total2.loc[50:55, ['시도명', '시군구명']]"
   ]
  },
  {
   "cell_type": "code",
   "execution_count": 96,
   "metadata": {},
   "outputs": [],
   "source": [
    "total2['시군구명_수정'] = total2['시군구명'].str.split(' ').str[0]"
   ]
  },
  {
   "cell_type": "code",
   "execution_count": 97,
   "metadata": {},
   "outputs": [
    {
     "data": {
      "text/html": [
       "<div>\n",
       "<style scoped>\n",
       "    .dataframe tbody tr th:only-of-type {\n",
       "        vertical-align: middle;\n",
       "    }\n",
       "\n",
       "    .dataframe tbody tr th {\n",
       "        vertical-align: top;\n",
       "    }\n",
       "\n",
       "    .dataframe thead th {\n",
       "        text-align: right;\n",
       "    }\n",
       "</style>\n",
       "<table border=\"1\" class=\"dataframe\">\n",
       "  <thead>\n",
       "    <tr style=\"text-align: right;\">\n",
       "      <th></th>\n",
       "      <th>시도명</th>\n",
       "      <th>시군구명</th>\n",
       "      <th>시군구명_수정</th>\n",
       "    </tr>\n",
       "  </thead>\n",
       "  <tbody>\n",
       "    <tr>\n",
       "      <th>50</th>\n",
       "      <td>경기도</td>\n",
       "      <td>용인시 기흥구</td>\n",
       "      <td>용인시</td>\n",
       "    </tr>\n",
       "    <tr>\n",
       "      <th>51</th>\n",
       "      <td>경기도</td>\n",
       "      <td>안양시 동안구</td>\n",
       "      <td>안양시</td>\n",
       "    </tr>\n",
       "    <tr>\n",
       "      <th>52</th>\n",
       "      <td>전라북도</td>\n",
       "      <td>전주시 덕진구</td>\n",
       "      <td>전주시</td>\n",
       "    </tr>\n",
       "    <tr>\n",
       "      <th>53</th>\n",
       "      <td>경기도</td>\n",
       "      <td>하남시</td>\n",
       "      <td>하남시</td>\n",
       "    </tr>\n",
       "    <tr>\n",
       "      <th>54</th>\n",
       "      <td>대구광역시</td>\n",
       "      <td>수성구</td>\n",
       "      <td>수성구</td>\n",
       "    </tr>\n",
       "    <tr>\n",
       "      <th>55</th>\n",
       "      <td>울산광역시</td>\n",
       "      <td>북구</td>\n",
       "      <td>북구</td>\n",
       "    </tr>\n",
       "  </tbody>\n",
       "</table>\n",
       "</div>"
      ],
      "text/plain": [
       "      시도명     시군구명 시군구명_수정\n",
       "50    경기도  용인시 기흥구     용인시\n",
       "51    경기도  안양시 동안구     안양시\n",
       "52   전라북도  전주시 덕진구     전주시\n",
       "53    경기도      하남시     하남시\n",
       "54  대구광역시      수성구     수성구\n",
       "55  울산광역시       북구      북구"
      ]
     },
     "execution_count": 97,
     "metadata": {},
     "output_type": "execute_result"
    }
   ],
   "source": [
    "total2.loc[50:55, ['시도명', '시군구명', '시군구명_수정']]"
   ]
  },
  {
   "cell_type": "code",
   "execution_count": 99,
   "metadata": {},
   "outputs": [
    {
     "data": {
      "text/html": [
       "<div>\n",
       "<style scoped>\n",
       "    .dataframe tbody tr th:only-of-type {\n",
       "        vertical-align: middle;\n",
       "    }\n",
       "\n",
       "    .dataframe tbody tr th {\n",
       "        vertical-align: top;\n",
       "    }\n",
       "\n",
       "    .dataframe thead th {\n",
       "        text-align: right;\n",
       "    }\n",
       "</style>\n",
       "<table border=\"1\" class=\"dataframe\">\n",
       "  <thead>\n",
       "    <tr style=\"text-align: right;\">\n",
       "      <th></th>\n",
       "      <th>연료</th>\n",
       "      <th>시도명</th>\n",
       "      <th>시군구명_수정</th>\n",
       "      <th>최초등록일_년</th>\n",
       "      <th>최초등록일_월</th>\n",
       "      <th>차량대수</th>\n",
       "    </tr>\n",
       "  </thead>\n",
       "  <tbody>\n",
       "    <tr>\n",
       "      <th>0</th>\n",
       "      <td>CNG(압축천연가스)</td>\n",
       "      <td>전라남도</td>\n",
       "      <td>신안군</td>\n",
       "      <td>2005</td>\n",
       "      <td>04</td>\n",
       "      <td>1</td>\n",
       "    </tr>\n",
       "    <tr>\n",
       "      <th>1</th>\n",
       "      <td>LPG(액화석유가스)</td>\n",
       "      <td>강원도</td>\n",
       "      <td>강릉시</td>\n",
       "      <td>1990</td>\n",
       "      <td>03</td>\n",
       "      <td>1</td>\n",
       "    </tr>\n",
       "    <tr>\n",
       "      <th>2</th>\n",
       "      <td>LPG(액화석유가스)</td>\n",
       "      <td>강원도</td>\n",
       "      <td>강릉시</td>\n",
       "      <td>1992</td>\n",
       "      <td>04</td>\n",
       "      <td>1</td>\n",
       "    </tr>\n",
       "    <tr>\n",
       "      <th>3</th>\n",
       "      <td>LPG(액화석유가스)</td>\n",
       "      <td>강원도</td>\n",
       "      <td>강릉시</td>\n",
       "      <td>1993</td>\n",
       "      <td>05</td>\n",
       "      <td>1</td>\n",
       "    </tr>\n",
       "    <tr>\n",
       "      <th>4</th>\n",
       "      <td>LPG(액화석유가스)</td>\n",
       "      <td>강원도</td>\n",
       "      <td>강릉시</td>\n",
       "      <td>1993</td>\n",
       "      <td>07</td>\n",
       "      <td>1</td>\n",
       "    </tr>\n",
       "    <tr>\n",
       "      <th>...</th>\n",
       "      <td>...</td>\n",
       "      <td>...</td>\n",
       "      <td>...</td>\n",
       "      <td>...</td>\n",
       "      <td>...</td>\n",
       "      <td>...</td>\n",
       "    </tr>\n",
       "    <tr>\n",
       "      <th>71439</th>\n",
       "      <td>휘발유</td>\n",
       "      <td>충청북도</td>\n",
       "      <td>충주시</td>\n",
       "      <td>2008</td>\n",
       "      <td>08</td>\n",
       "      <td>1</td>\n",
       "    </tr>\n",
       "    <tr>\n",
       "      <th>71440</th>\n",
       "      <td>휘발유</td>\n",
       "      <td>충청북도</td>\n",
       "      <td>충주시</td>\n",
       "      <td>2009</td>\n",
       "      <td>02</td>\n",
       "      <td>1</td>\n",
       "    </tr>\n",
       "    <tr>\n",
       "      <th>71441</th>\n",
       "      <td>휘발유</td>\n",
       "      <td>충청북도</td>\n",
       "      <td>충주시</td>\n",
       "      <td>2009</td>\n",
       "      <td>03</td>\n",
       "      <td>1</td>\n",
       "    </tr>\n",
       "    <tr>\n",
       "      <th>71442</th>\n",
       "      <td>휘발유</td>\n",
       "      <td>충청북도</td>\n",
       "      <td>충주시</td>\n",
       "      <td>2013</td>\n",
       "      <td>05</td>\n",
       "      <td>1</td>\n",
       "    </tr>\n",
       "    <tr>\n",
       "      <th>71443</th>\n",
       "      <td>휘발유</td>\n",
       "      <td>충청북도</td>\n",
       "      <td>충주시</td>\n",
       "      <td>2015</td>\n",
       "      <td>09</td>\n",
       "      <td>1</td>\n",
       "    </tr>\n",
       "  </tbody>\n",
       "</table>\n",
       "<p>71444 rows × 6 columns</p>\n",
       "</div>"
      ],
      "text/plain": [
       "                연료   시도명 시군구명_수정 최초등록일_년 최초등록일_월  차량대수\n",
       "0      CNG(압축천연가스)  전라남도     신안군    2005      04     1\n",
       "1      LPG(액화석유가스)   강원도     강릉시    1990      03     1\n",
       "2      LPG(액화석유가스)   강원도     강릉시    1992      04     1\n",
       "3      LPG(액화석유가스)   강원도     강릉시    1993      05     1\n",
       "4      LPG(액화석유가스)   강원도     강릉시    1993      07     1\n",
       "...            ...   ...     ...     ...     ...   ...\n",
       "71439          휘발유  충청북도     충주시    2008      08     1\n",
       "71440          휘발유  충청북도     충주시    2009      02     1\n",
       "71441          휘발유  충청북도     충주시    2009      03     1\n",
       "71442          휘발유  충청북도     충주시    2013      05     1\n",
       "71443          휘발유  충청북도     충주시    2015      09     1\n",
       "\n",
       "[71444 rows x 6 columns]"
      ]
     },
     "execution_count": 99,
     "metadata": {},
     "output_type": "execute_result"
    }
   ],
   "source": [
    "num_car_by_local = total2.groupby(['연료', '시도명', '시군구명_수정', '최초등록일_년', '최초등록일_월'])['차대번호'].count().reset_index()\n",
    "num_car_by_local = num_car_by_local.rename(columns={'차대번호':'차량대수'})\n",
    "num_car_by_local"
   ]
  },
  {
   "attachments": {},
   "cell_type": "markdown",
   "metadata": {},
   "source": [
    "#### 출력 "
   ]
  },
  {
   "cell_type": "code",
   "execution_count": 129,
   "metadata": {},
   "outputs": [],
   "source": [
    "# # about \n",
    "# num_car_by_local.to_excel(os.path.join(analysis_fold, '통계_result_시군구_월별_차량수.xlsx'), index=False)"
   ]
  },
  {
   "attachments": {},
   "cell_type": "markdown",
   "metadata": {},
   "source": [
    "### 시도 시군구별 차량 현황"
   ]
  },
  {
   "cell_type": "code",
   "execution_count": 100,
   "metadata": {},
   "outputs": [
    {
     "data": {
      "text/plain": [
       "(1502235, 42)"
      ]
     },
     "execution_count": 100,
     "metadata": {},
     "output_type": "execute_result"
    }
   ],
   "source": [
    "total2.shape"
   ]
  },
  {
   "cell_type": "code",
   "execution_count": 101,
   "metadata": {},
   "outputs": [
    {
     "data": {
      "text/plain": [
       "count    1502235.00\n",
       "mean    20056965.54\n",
       "std        66192.91\n",
       "min     19650209.00\n",
       "25%     20060824.00\n",
       "50%     20081217.00\n",
       "75%     20100512.00\n",
       "max     20221125.00\n",
       "Name: 최초등록일, dtype: float64"
      ]
     },
     "execution_count": 101,
     "metadata": {},
     "output_type": "execute_result"
    }
   ],
   "source": [
    "total2['최초등록일'].astype('int').describe()"
   ]
  },
  {
   "cell_type": "code",
   "execution_count": 102,
   "metadata": {},
   "outputs": [
    {
     "data": {
      "text/plain": [
       "(1502232, 42)"
      ]
     },
     "execution_count": 102,
     "metadata": {},
     "output_type": "execute_result"
    }
   ],
   "source": [
    "total2.loc[total2['최초등록일'] < '20220601'].shape"
   ]
  },
  {
   "cell_type": "code",
   "execution_count": 103,
   "metadata": {},
   "outputs": [
    {
     "data": {
      "text/plain": [
       "Index(['차대번호', '차량번호', '제원관리번호', '차종', '용도', '최초등록일', '연식', '제작일자', '검사유효일',\n",
       "       '배출가스인증번호', '등급', '차명', '차종분류', '차종유형', '자동차형식', '제작사명', '연료', '엔진형식',\n",
       "       '총중량', '적재중량', '엔진출력', '배기량', '법정동코드', '시도명', '시군구명', '소유자구분', '말소여부',\n",
       "       '일치유무', '인증번호 수정 유무', '배인번호_수정', '등급_수정', 'DPF유무_수정', '배출가스', '등급2',\n",
       "       'DPF', '비고', 'Grade', '최초등록일_년', '최초등록일_월', '최초등록일_일', '최초등록일_년월',\n",
       "       '시군구명_수정'],\n",
       "      dtype='object')"
      ]
     },
     "execution_count": 103,
     "metadata": {},
     "output_type": "execute_result"
    }
   ],
   "source": [
    "total2.columns"
   ]
  },
  {
   "cell_type": "code",
   "execution_count": 132,
   "metadata": {},
   "outputs": [
    {
     "data": {
      "text/html": [
       "<div>\n",
       "<style scoped>\n",
       "    .dataframe tbody tr th:only-of-type {\n",
       "        vertical-align: middle;\n",
       "    }\n",
       "\n",
       "    .dataframe tbody tr th {\n",
       "        vertical-align: top;\n",
       "    }\n",
       "\n",
       "    .dataframe thead th {\n",
       "        text-align: right;\n",
       "    }\n",
       "</style>\n",
       "<table border=\"1\" class=\"dataframe\">\n",
       "  <thead>\n",
       "    <tr style=\"text-align: right;\">\n",
       "      <th></th>\n",
       "      <th>연료</th>\n",
       "      <th>시도명</th>\n",
       "      <th>시군구명_수정</th>\n",
       "      <th>차량대수</th>\n",
       "    </tr>\n",
       "  </thead>\n",
       "  <tbody>\n",
       "    <tr>\n",
       "      <th>0</th>\n",
       "      <td>CNG(압축천연가스)</td>\n",
       "      <td>전라남도</td>\n",
       "      <td>신안군</td>\n",
       "      <td>1</td>\n",
       "    </tr>\n",
       "    <tr>\n",
       "      <th>1</th>\n",
       "      <td>LPG(액화석유가스)</td>\n",
       "      <td>강원도</td>\n",
       "      <td>강릉시</td>\n",
       "      <td>66</td>\n",
       "    </tr>\n",
       "    <tr>\n",
       "      <th>2</th>\n",
       "      <td>LPG(액화석유가스)</td>\n",
       "      <td>강원도</td>\n",
       "      <td>고성군</td>\n",
       "      <td>13</td>\n",
       "    </tr>\n",
       "    <tr>\n",
       "      <th>3</th>\n",
       "      <td>LPG(액화석유가스)</td>\n",
       "      <td>강원도</td>\n",
       "      <td>동해시</td>\n",
       "      <td>183</td>\n",
       "    </tr>\n",
       "    <tr>\n",
       "      <th>4</th>\n",
       "      <td>LPG(액화석유가스)</td>\n",
       "      <td>강원도</td>\n",
       "      <td>삼척시</td>\n",
       "      <td>19</td>\n",
       "    </tr>\n",
       "    <tr>\n",
       "      <th>...</th>\n",
       "      <td>...</td>\n",
       "      <td>...</td>\n",
       "      <td>...</td>\n",
       "      <td>...</td>\n",
       "    </tr>\n",
       "    <tr>\n",
       "      <th>688</th>\n",
       "      <td>휘발유</td>\n",
       "      <td>충청북도</td>\n",
       "      <td>증평군</td>\n",
       "      <td>306</td>\n",
       "    </tr>\n",
       "    <tr>\n",
       "      <th>689</th>\n",
       "      <td>휘발유</td>\n",
       "      <td>충청북도</td>\n",
       "      <td>진천군</td>\n",
       "      <td>750</td>\n",
       "    </tr>\n",
       "    <tr>\n",
       "      <th>690</th>\n",
       "      <td>휘발유</td>\n",
       "      <td>충청북도</td>\n",
       "      <td>청원군</td>\n",
       "      <td>3</td>\n",
       "    </tr>\n",
       "    <tr>\n",
       "      <th>691</th>\n",
       "      <td>휘발유</td>\n",
       "      <td>충청북도</td>\n",
       "      <td>청주시</td>\n",
       "      <td>5094</td>\n",
       "    </tr>\n",
       "    <tr>\n",
       "      <th>692</th>\n",
       "      <td>휘발유</td>\n",
       "      <td>충청북도</td>\n",
       "      <td>충주시</td>\n",
       "      <td>1436</td>\n",
       "    </tr>\n",
       "  </tbody>\n",
       "</table>\n",
       "<p>693 rows × 4 columns</p>\n",
       "</div>"
      ],
      "text/plain": [
       "              연료   시도명 시군구명_수정  차량대수\n",
       "0    CNG(압축천연가스)  전라남도     신안군     1\n",
       "1    LPG(액화석유가스)   강원도     강릉시    66\n",
       "2    LPG(액화석유가스)   강원도     고성군    13\n",
       "3    LPG(액화석유가스)   강원도     동해시   183\n",
       "4    LPG(액화석유가스)   강원도     삼척시    19\n",
       "..           ...   ...     ...   ...\n",
       "688          휘발유  충청북도     증평군   306\n",
       "689          휘발유  충청북도     진천군   750\n",
       "690          휘발유  충청북도     청원군     3\n",
       "691          휘발유  충청북도     청주시  5094\n",
       "692          휘발유  충청북도     충주시  1436\n",
       "\n",
       "[693 rows x 4 columns]"
      ]
     },
     "execution_count": 132,
     "metadata": {},
     "output_type": "execute_result"
    }
   ],
   "source": [
    "num_car_by_local2 = total2.loc[total2['최초등록일'] < '20220601'].groupby(['연료', '시도명', '시군구명_수정'], dropna=False)['차대번호'].count().reset_index()\n",
    "num_car_by_local2 = num_car_by_local2.rename(columns={'차대번호':'차량대수'})\n",
    "num_car_by_local2"
   ]
  },
  {
   "cell_type": "code",
   "execution_count": 133,
   "metadata": {},
   "outputs": [
    {
     "data": {
      "text/html": [
       "<div>\n",
       "<style scoped>\n",
       "    .dataframe tbody tr th:only-of-type {\n",
       "        vertical-align: middle;\n",
       "    }\n",
       "\n",
       "    .dataframe tbody tr th {\n",
       "        vertical-align: top;\n",
       "    }\n",
       "\n",
       "    .dataframe thead th {\n",
       "        text-align: right;\n",
       "    }\n",
       "</style>\n",
       "<table border=\"1\" class=\"dataframe\">\n",
       "  <thead>\n",
       "    <tr style=\"text-align: right;\">\n",
       "      <th></th>\n",
       "      <th>연료</th>\n",
       "      <th>시도명</th>\n",
       "      <th>시군구명_수정</th>\n",
       "      <th>차량대수</th>\n",
       "      <th>연월</th>\n",
       "    </tr>\n",
       "  </thead>\n",
       "  <tbody>\n",
       "    <tr>\n",
       "      <th>0</th>\n",
       "      <td>CNG(압축천연가스)</td>\n",
       "      <td>전라남도</td>\n",
       "      <td>신안군</td>\n",
       "      <td>1</td>\n",
       "      <td>2022.06</td>\n",
       "    </tr>\n",
       "    <tr>\n",
       "      <th>1</th>\n",
       "      <td>LPG(액화석유가스)</td>\n",
       "      <td>강원도</td>\n",
       "      <td>강릉시</td>\n",
       "      <td>66</td>\n",
       "      <td>2022.06</td>\n",
       "    </tr>\n",
       "    <tr>\n",
       "      <th>2</th>\n",
       "      <td>LPG(액화석유가스)</td>\n",
       "      <td>강원도</td>\n",
       "      <td>고성군</td>\n",
       "      <td>13</td>\n",
       "      <td>2022.06</td>\n",
       "    </tr>\n",
       "    <tr>\n",
       "      <th>3</th>\n",
       "      <td>LPG(액화석유가스)</td>\n",
       "      <td>강원도</td>\n",
       "      <td>동해시</td>\n",
       "      <td>183</td>\n",
       "      <td>2022.06</td>\n",
       "    </tr>\n",
       "    <tr>\n",
       "      <th>4</th>\n",
       "      <td>LPG(액화석유가스)</td>\n",
       "      <td>강원도</td>\n",
       "      <td>삼척시</td>\n",
       "      <td>19</td>\n",
       "      <td>2022.06</td>\n",
       "    </tr>\n",
       "    <tr>\n",
       "      <th>...</th>\n",
       "      <td>...</td>\n",
       "      <td>...</td>\n",
       "      <td>...</td>\n",
       "      <td>...</td>\n",
       "      <td>...</td>\n",
       "    </tr>\n",
       "    <tr>\n",
       "      <th>688</th>\n",
       "      <td>휘발유</td>\n",
       "      <td>충청북도</td>\n",
       "      <td>증평군</td>\n",
       "      <td>306</td>\n",
       "      <td>2022.06</td>\n",
       "    </tr>\n",
       "    <tr>\n",
       "      <th>689</th>\n",
       "      <td>휘발유</td>\n",
       "      <td>충청북도</td>\n",
       "      <td>진천군</td>\n",
       "      <td>750</td>\n",
       "      <td>2022.06</td>\n",
       "    </tr>\n",
       "    <tr>\n",
       "      <th>690</th>\n",
       "      <td>휘발유</td>\n",
       "      <td>충청북도</td>\n",
       "      <td>청원군</td>\n",
       "      <td>3</td>\n",
       "      <td>2022.06</td>\n",
       "    </tr>\n",
       "    <tr>\n",
       "      <th>691</th>\n",
       "      <td>휘발유</td>\n",
       "      <td>충청북도</td>\n",
       "      <td>청주시</td>\n",
       "      <td>5094</td>\n",
       "      <td>2022.06</td>\n",
       "    </tr>\n",
       "    <tr>\n",
       "      <th>692</th>\n",
       "      <td>휘발유</td>\n",
       "      <td>충청북도</td>\n",
       "      <td>충주시</td>\n",
       "      <td>1436</td>\n",
       "      <td>2022.06</td>\n",
       "    </tr>\n",
       "  </tbody>\n",
       "</table>\n",
       "<p>693 rows × 5 columns</p>\n",
       "</div>"
      ],
      "text/plain": [
       "              연료   시도명 시군구명_수정  차량대수       연월\n",
       "0    CNG(압축천연가스)  전라남도     신안군     1  2022.06\n",
       "1    LPG(액화석유가스)   강원도     강릉시    66  2022.06\n",
       "2    LPG(액화석유가스)   강원도     고성군    13  2022.06\n",
       "3    LPG(액화석유가스)   강원도     동해시   183  2022.06\n",
       "4    LPG(액화석유가스)   강원도     삼척시    19  2022.06\n",
       "..           ...   ...     ...   ...      ...\n",
       "688          휘발유  충청북도     증평군   306  2022.06\n",
       "689          휘발유  충청북도     진천군   750  2022.06\n",
       "690          휘발유  충청북도     청원군     3  2022.06\n",
       "691          휘발유  충청북도     청주시  5094  2022.06\n",
       "692          휘발유  충청북도     충주시  1436  2022.06\n",
       "\n",
       "[693 rows x 5 columns]"
      ]
     },
     "execution_count": 133,
     "metadata": {},
     "output_type": "execute_result"
    }
   ],
   "source": [
    "num_car_by_local2['연월'] = '2022.06'\n",
    "num_car_by_local2"
   ]
  },
  {
   "cell_type": "code",
   "execution_count": 134,
   "metadata": {},
   "outputs": [],
   "source": [
    "# num_car_by_local2.to_excel(os.path.join(analysis_fold, 'BD1_통계_4등급차_시도_시군구별_차량현황_2022년6월.xlsx'), index=False)"
   ]
  },
  {
   "attachments": {},
   "cell_type": "markdown",
   "metadata": {},
   "source": [
    "### 시도, 시군구, 월, 월 기준 차량대수 및 말소 대수"
   ]
  },
  {
   "attachments": {},
   "cell_type": "markdown",
   "metadata": {},
   "source": [
    "#### [로드] 말소정보_전처리완료"
   ]
  },
  {
   "cell_type": "code",
   "execution_count": 106,
   "metadata": {},
   "outputs": [
    {
     "name": "stdout",
     "output_type": "stream",
     "text": [
      "<class 'pandas.core.frame.DataFrame'>\n",
      "RangeIndex: 3642251 entries, 0 to 3642250\n",
      "Data columns (total 24 columns):\n",
      " #   Column       Dtype  \n",
      "---  ------       -----  \n",
      " 0   차량관리번호       object \n",
      " 1   본거지법정동코드     int64  \n",
      " 2   차종_등록정보      object \n",
      " 3   차대번호         object \n",
      " 4   차량연식         int64  \n",
      " 5   제원관리번호       object \n",
      " 6   배출가스인증번호     object \n",
      " 7   배출가스등급       object \n",
      " 8   차량말소YN_등록정보  object \n",
      " 9   차명           object \n",
      " 10  연료           object \n",
      " 11  등급           object \n",
      " 12  차량말소YN_변경이력  object \n",
      " 13  변경일자         float64\n",
      " 14  변경구분코드       float64\n",
      " 15  법정동코드        int64  \n",
      " 16  시도           object \n",
      " 17  시구군          object \n",
      " 18  읍면동          object \n",
      " 19  리            object \n",
      " 20  지역3          float64\n",
      " 21  폐지여부         object \n",
      " 22  대기관리권역       object \n",
      " 23  대기관리권역YN     object \n",
      "dtypes: float64(3), int64(3), object(18)\n",
      "memory usage: 666.9+ MB\n"
     ]
    }
   ],
   "source": [
    "# about 19.4s\n",
    "name = '말소정보_전처리완료(2023.05.24)'\n",
    "file_name = f'{name}.csv'\n",
    "erase = pd.read_csv(os.path.join(ods_fold, file_name), low_memory=False)\n",
    "erase.info()"
   ]
  },
  {
   "cell_type": "code",
   "execution_count": 107,
   "metadata": {},
   "outputs": [
    {
     "data": {
      "text/plain": [
       "(3642251, 6)"
      ]
     },
     "execution_count": 107,
     "metadata": {},
     "output_type": "execute_result"
    }
   ],
   "source": [
    "erase1 = erase[['차대번호', '연료', '시도', '시구군', '등급', '변경일자']]\n",
    "erase1.shape"
   ]
  },
  {
   "cell_type": "code",
   "execution_count": 108,
   "metadata": {},
   "outputs": [
    {
     "data": {
      "text/plain": [
       "등급\n",
       "3.0    1198427\n",
       "5.0    1189962\n",
       "2.0     783830\n",
       "4.0     366937\n",
       "1.0      88800\n",
       "X        14263\n",
       "NaN         32\n",
       "Name: count, dtype: int64"
      ]
     },
     "execution_count": 108,
     "metadata": {},
     "output_type": "execute_result"
    }
   ],
   "source": [
    "erase1['등급'].value_counts(dropna=False)"
   ]
  },
  {
   "cell_type": "code",
   "execution_count": 138,
   "metadata": {},
   "outputs": [
    {
     "data": {
      "text/plain": [
       "0"
      ]
     },
     "execution_count": 138,
     "metadata": {},
     "output_type": "execute_result"
    }
   ],
   "source": [
    "erase1['변경일자'].isnull().sum()"
   ]
  },
  {
   "cell_type": "code",
   "execution_count": 109,
   "metadata": {},
   "outputs": [
    {
     "data": {
      "text/plain": [
       "(366937, 6)"
      ]
     },
     "execution_count": 109,
     "metadata": {},
     "output_type": "execute_result"
    }
   ],
   "source": [
    "erase2 = erase1.loc[erase1['등급'] == '4.0'].reset_index(drop=True)\n",
    "erase2.shape"
   ]
  },
  {
   "cell_type": "code",
   "execution_count": 110,
   "metadata": {},
   "outputs": [],
   "source": [
    "erase2['변경일자'] = erase2['변경일자'].astype('str')"
   ]
  },
  {
   "cell_type": "code",
   "execution_count": 111,
   "metadata": {},
   "outputs": [
    {
     "data": {
      "text/plain": [
       "0    20220628.0\n",
       "1    20220628.0\n",
       "2    20220628.0\n",
       "3    20220628.0\n",
       "4    20220628.0\n",
       "Name: 변경일자, dtype: object"
      ]
     },
     "execution_count": 111,
     "metadata": {},
     "output_type": "execute_result"
    }
   ],
   "source": [
    "erase2['변경일자'].head()"
   ]
  },
  {
   "cell_type": "code",
   "execution_count": 112,
   "metadata": {},
   "outputs": [],
   "source": [
    "erase2['변경일자_년'] = erase2['변경일자'].str[:4]\n",
    "erase2['변경일자_월'] = erase2['변경일자'].str[4:6]\n",
    "erase2['변경일자_일'] = erase2['변경일자'].str[6:8]"
   ]
  },
  {
   "cell_type": "code",
   "execution_count": 113,
   "metadata": {},
   "outputs": [],
   "source": [
    "erase2['변경일자_년월'] = erase2['변경일자_년'] + '.' + erase2['변경일자_월']"
   ]
  },
  {
   "cell_type": "code",
   "execution_count": 114,
   "metadata": {},
   "outputs": [
    {
     "data": {
      "text/html": [
       "<div>\n",
       "<style scoped>\n",
       "    .dataframe tbody tr th:only-of-type {\n",
       "        vertical-align: middle;\n",
       "    }\n",
       "\n",
       "    .dataframe tbody tr th {\n",
       "        vertical-align: top;\n",
       "    }\n",
       "\n",
       "    .dataframe thead th {\n",
       "        text-align: right;\n",
       "    }\n",
       "</style>\n",
       "<table border=\"1\" class=\"dataframe\">\n",
       "  <thead>\n",
       "    <tr style=\"text-align: right;\">\n",
       "      <th></th>\n",
       "      <th>차대번호</th>\n",
       "      <th>연료</th>\n",
       "      <th>시도</th>\n",
       "      <th>시구군</th>\n",
       "      <th>등급</th>\n",
       "      <th>변경일자</th>\n",
       "      <th>변경일자_년</th>\n",
       "      <th>변경일자_월</th>\n",
       "      <th>변경일자_일</th>\n",
       "      <th>변경일자_년월</th>\n",
       "    </tr>\n",
       "  </thead>\n",
       "  <tbody>\n",
       "    <tr>\n",
       "      <th>0</th>\n",
       "      <td>KNADE22437S225673</td>\n",
       "      <td>경유</td>\n",
       "      <td>경기도</td>\n",
       "      <td>성남시 수정구</td>\n",
       "      <td>4.0</td>\n",
       "      <td>20220628.0</td>\n",
       "      <td>2022</td>\n",
       "      <td>06</td>\n",
       "      <td>28</td>\n",
       "      <td>2022.06</td>\n",
       "    </tr>\n",
       "    <tr>\n",
       "      <th>2</th>\n",
       "      <td>KMHSH81VP8U393442</td>\n",
       "      <td>경유</td>\n",
       "      <td>경기도</td>\n",
       "      <td>용인시 수지구</td>\n",
       "      <td>4.0</td>\n",
       "      <td>20220628.0</td>\n",
       "      <td>2022</td>\n",
       "      <td>06</td>\n",
       "      <td>28</td>\n",
       "      <td>2022.06</td>\n",
       "    </tr>\n",
       "    <tr>\n",
       "      <th>8</th>\n",
       "      <td>KMHEN41BPXA100311</td>\n",
       "      <td>휘발유</td>\n",
       "      <td>경기도</td>\n",
       "      <td>고양시 일산서구</td>\n",
       "      <td>4.0</td>\n",
       "      <td>20220628.0</td>\n",
       "      <td>2022</td>\n",
       "      <td>06</td>\n",
       "      <td>28</td>\n",
       "      <td>2022.06</td>\n",
       "    </tr>\n",
       "    <tr>\n",
       "      <th>9</th>\n",
       "      <td>KNADE24427S291651</td>\n",
       "      <td>경유</td>\n",
       "      <td>충청북도</td>\n",
       "      <td>청주시 청원구</td>\n",
       "      <td>4.0</td>\n",
       "      <td>20220628.0</td>\n",
       "      <td>2022</td>\n",
       "      <td>06</td>\n",
       "      <td>28</td>\n",
       "      <td>2022.06</td>\n",
       "    </tr>\n",
       "    <tr>\n",
       "      <th>12</th>\n",
       "      <td>KNHMB76438S272945</td>\n",
       "      <td>경유</td>\n",
       "      <td>경기도</td>\n",
       "      <td>고양시 일산서구</td>\n",
       "      <td>4.0</td>\n",
       "      <td>20220628.0</td>\n",
       "      <td>2022</td>\n",
       "      <td>06</td>\n",
       "      <td>28</td>\n",
       "      <td>2022.06</td>\n",
       "    </tr>\n",
       "  </tbody>\n",
       "</table>\n",
       "</div>"
      ],
      "text/plain": [
       "                 차대번호   연료    시도       시구군   등급        변경일자 변경일자_년 변경일자_월   \n",
       "0   KNADE22437S225673   경유   경기도   성남시 수정구  4.0  20220628.0   2022     06  \\\n",
       "2   KMHSH81VP8U393442   경유   경기도   용인시 수지구  4.0  20220628.0   2022     06   \n",
       "8   KMHEN41BPXA100311  휘발유   경기도  고양시 일산서구  4.0  20220628.0   2022     06   \n",
       "9   KNADE24427S291651   경유  충청북도   청주시 청원구  4.0  20220628.0   2022     06   \n",
       "12  KNHMB76438S272945   경유   경기도  고양시 일산서구  4.0  20220628.0   2022     06   \n",
       "\n",
       "   변경일자_일  변경일자_년월  \n",
       "0      28  2022.06  \n",
       "2      28  2022.06  \n",
       "8      28  2022.06  \n",
       "9      28  2022.06  \n",
       "12     28  2022.06  "
      ]
     },
     "execution_count": 114,
     "metadata": {},
     "output_type": "execute_result"
    }
   ],
   "source": [
    "erase2.loc[erase2['시구군'].str.split(' ').str.len() != 1].head()"
   ]
  },
  {
   "cell_type": "code",
   "execution_count": 115,
   "metadata": {},
   "outputs": [
    {
     "data": {
      "text/html": [
       "<div>\n",
       "<style scoped>\n",
       "    .dataframe tbody tr th:only-of-type {\n",
       "        vertical-align: middle;\n",
       "    }\n",
       "\n",
       "    .dataframe tbody tr th {\n",
       "        vertical-align: top;\n",
       "    }\n",
       "\n",
       "    .dataframe thead th {\n",
       "        text-align: right;\n",
       "    }\n",
       "</style>\n",
       "<table border=\"1\" class=\"dataframe\">\n",
       "  <thead>\n",
       "    <tr style=\"text-align: right;\">\n",
       "      <th></th>\n",
       "      <th>차대번호</th>\n",
       "      <th>연료</th>\n",
       "      <th>시도</th>\n",
       "      <th>시구군</th>\n",
       "      <th>등급</th>\n",
       "      <th>변경일자</th>\n",
       "      <th>변경일자_년</th>\n",
       "      <th>변경일자_월</th>\n",
       "      <th>변경일자_일</th>\n",
       "      <th>변경일자_년월</th>\n",
       "    </tr>\n",
       "  </thead>\n",
       "  <tbody>\n",
       "  </tbody>\n",
       "</table>\n",
       "</div>"
      ],
      "text/plain": [
       "Empty DataFrame\n",
       "Columns: [차대번호, 연료, 시도, 시구군, 등급, 변경일자, 변경일자_년, 변경일자_월, 변경일자_일, 변경일자_년월]\n",
       "Index: []"
      ]
     },
     "execution_count": 115,
     "metadata": {},
     "output_type": "execute_result"
    }
   ],
   "source": [
    "erase2['시구군'] = erase2['시구군'].str.split(' ').str[0]\n",
    "erase2.loc[erase2['시구군'].str.split(' ').str.len() != 1].head()"
   ]
  },
  {
   "cell_type": "code",
   "execution_count": 139,
   "metadata": {},
   "outputs": [
    {
     "data": {
      "text/html": [
       "<div>\n",
       "<style scoped>\n",
       "    .dataframe tbody tr th:only-of-type {\n",
       "        vertical-align: middle;\n",
       "    }\n",
       "\n",
       "    .dataframe tbody tr th {\n",
       "        vertical-align: top;\n",
       "    }\n",
       "\n",
       "    .dataframe thead th {\n",
       "        text-align: right;\n",
       "    }\n",
       "</style>\n",
       "<table border=\"1\" class=\"dataframe\">\n",
       "  <thead>\n",
       "    <tr style=\"text-align: right;\">\n",
       "      <th></th>\n",
       "      <th>변경일자_년월</th>\n",
       "      <th>연료</th>\n",
       "      <th>시도</th>\n",
       "      <th>시구군</th>\n",
       "      <th>말소차량대수</th>\n",
       "    </tr>\n",
       "  </thead>\n",
       "  <tbody>\n",
       "    <tr>\n",
       "      <th>0</th>\n",
       "      <td>2022.01</td>\n",
       "      <td>LPG(액화석유가스)</td>\n",
       "      <td>강원도</td>\n",
       "      <td>강릉시</td>\n",
       "      <td>1</td>\n",
       "    </tr>\n",
       "    <tr>\n",
       "      <th>106</th>\n",
       "      <td>2022.01</td>\n",
       "      <td>경유</td>\n",
       "      <td>강원도</td>\n",
       "      <td>강릉시</td>\n",
       "      <td>26</td>\n",
       "    </tr>\n",
       "    <tr>\n",
       "      <th>353</th>\n",
       "      <td>2022.01</td>\n",
       "      <td>휘발유</td>\n",
       "      <td>강원도</td>\n",
       "      <td>강릉시</td>\n",
       "      <td>11</td>\n",
       "    </tr>\n",
       "    <tr>\n",
       "      <th>671</th>\n",
       "      <td>2022.02</td>\n",
       "      <td>경유</td>\n",
       "      <td>강원도</td>\n",
       "      <td>강릉시</td>\n",
       "      <td>38</td>\n",
       "    </tr>\n",
       "    <tr>\n",
       "      <th>917</th>\n",
       "      <td>2022.02</td>\n",
       "      <td>휘발유</td>\n",
       "      <td>강원도</td>\n",
       "      <td>강릉시</td>\n",
       "      <td>6</td>\n",
       "    </tr>\n",
       "    <tr>\n",
       "      <th>...</th>\n",
       "      <td>...</td>\n",
       "      <td>...</td>\n",
       "      <td>...</td>\n",
       "      <td>...</td>\n",
       "      <td>...</td>\n",
       "    </tr>\n",
       "    <tr>\n",
       "      <th>2256</th>\n",
       "      <td>2022.04</td>\n",
       "      <td>휘발유</td>\n",
       "      <td>충청북도</td>\n",
       "      <td>충주시</td>\n",
       "      <td>6</td>\n",
       "    </tr>\n",
       "    <tr>\n",
       "      <th>2609</th>\n",
       "      <td>2022.05</td>\n",
       "      <td>경유</td>\n",
       "      <td>충청북도</td>\n",
       "      <td>충주시</td>\n",
       "      <td>47</td>\n",
       "    </tr>\n",
       "    <tr>\n",
       "      <th>2829</th>\n",
       "      <td>2022.05</td>\n",
       "      <td>휘발유</td>\n",
       "      <td>충청북도</td>\n",
       "      <td>충주시</td>\n",
       "      <td>7</td>\n",
       "    </tr>\n",
       "    <tr>\n",
       "      <th>3168</th>\n",
       "      <td>2022.06</td>\n",
       "      <td>경유</td>\n",
       "      <td>충청북도</td>\n",
       "      <td>충주시</td>\n",
       "      <td>44</td>\n",
       "    </tr>\n",
       "    <tr>\n",
       "      <th>3377</th>\n",
       "      <td>2022.06</td>\n",
       "      <td>휘발유</td>\n",
       "      <td>충청북도</td>\n",
       "      <td>충주시</td>\n",
       "      <td>7</td>\n",
       "    </tr>\n",
       "  </tbody>\n",
       "</table>\n",
       "<p>3378 rows × 5 columns</p>\n",
       "</div>"
      ],
      "text/plain": [
       "      변경일자_년월           연료    시도  시구군  말소차량대수\n",
       "0     2022.01  LPG(액화석유가스)   강원도  강릉시       1\n",
       "106   2022.01           경유   강원도  강릉시      26\n",
       "353   2022.01          휘발유   강원도  강릉시      11\n",
       "671   2022.02           경유   강원도  강릉시      38\n",
       "917   2022.02          휘발유   강원도  강릉시       6\n",
       "...       ...          ...   ...  ...     ...\n",
       "2256  2022.04          휘발유  충청북도  충주시       6\n",
       "2609  2022.05           경유  충청북도  충주시      47\n",
       "2829  2022.05          휘발유  충청북도  충주시       7\n",
       "3168  2022.06           경유  충청북도  충주시      44\n",
       "3377  2022.06          휘발유  충청북도  충주시       7\n",
       "\n",
       "[3378 rows x 5 columns]"
      ]
     },
     "execution_count": 139,
     "metadata": {},
     "output_type": "execute_result"
    }
   ],
   "source": [
    "grp_erase = erase2.loc[erase2['변경일자_년'] == '2022'].groupby(['변경일자_년월', '연료', '시도', '시구군'])['차대번호'].count().reset_index()\n",
    "grp_erase = grp_erase.rename(columns={'차대번호':'말소차량대수'})\n",
    "grp_erase = grp_erase.sort_values(['시도', '시구군', '변경일자_년월'])\n",
    "grp_erase"
   ]
  },
  {
   "cell_type": "code",
   "execution_count": 140,
   "metadata": {},
   "outputs": [
    {
     "data": {
      "text/plain": [
       "Index(['변경일자_년월', '연료', '시도', '시구군', '말소차량대수'], dtype='object')"
      ]
     },
     "execution_count": 140,
     "metadata": {},
     "output_type": "execute_result"
    }
   ],
   "source": [
    "grp_erase.columns"
   ]
  },
  {
   "cell_type": "code",
   "execution_count": 141,
   "metadata": {},
   "outputs": [
    {
     "data": {
      "text/plain": [
       "Index(['연료', '시도명', '시군구명_수정', '차량대수', '연월'], dtype='object')"
      ]
     },
     "execution_count": 141,
     "metadata": {},
     "output_type": "execute_result"
    }
   ],
   "source": [
    "num_car_by_local2.columns"
   ]
  },
  {
   "cell_type": "code",
   "execution_count": 142,
   "metadata": {},
   "outputs": [
    {
     "data": {
      "text/html": [
       "<div>\n",
       "<style scoped>\n",
       "    .dataframe tbody tr th:only-of-type {\n",
       "        vertical-align: middle;\n",
       "    }\n",
       "\n",
       "    .dataframe tbody tr th {\n",
       "        vertical-align: top;\n",
       "    }\n",
       "\n",
       "    .dataframe thead th {\n",
       "        text-align: right;\n",
       "    }\n",
       "</style>\n",
       "<table border=\"1\" class=\"dataframe\">\n",
       "  <thead>\n",
       "    <tr style=\"text-align: right;\">\n",
       "      <th></th>\n",
       "      <th>변경일자_년월</th>\n",
       "      <th>시도</th>\n",
       "      <th>시구군</th>\n",
       "      <th>연료</th>\n",
       "      <th>말소차량대수</th>\n",
       "      <th>차량대수</th>\n",
       "    </tr>\n",
       "  </thead>\n",
       "  <tbody>\n",
       "    <tr>\n",
       "      <th>0</th>\n",
       "      <td>2022.01</td>\n",
       "      <td>강원도</td>\n",
       "      <td>강릉시</td>\n",
       "      <td>LPG(액화석유가스)</td>\n",
       "      <td>1</td>\n",
       "      <td>NaN</td>\n",
       "    </tr>\n",
       "    <tr>\n",
       "      <th>5</th>\n",
       "      <td>2022.03</td>\n",
       "      <td>강원도</td>\n",
       "      <td>강릉시</td>\n",
       "      <td>LPG(액화석유가스)</td>\n",
       "      <td>3</td>\n",
       "      <td>NaN</td>\n",
       "    </tr>\n",
       "    <tr>\n",
       "      <th>12</th>\n",
       "      <td>2022.06</td>\n",
       "      <td>강원도</td>\n",
       "      <td>강릉시</td>\n",
       "      <td>LPG(액화석유가스)</td>\n",
       "      <td>1</td>\n",
       "      <td>66.00</td>\n",
       "    </tr>\n",
       "    <tr>\n",
       "      <th>33</th>\n",
       "      <td>2022.05</td>\n",
       "      <td>강원도</td>\n",
       "      <td>동해시</td>\n",
       "      <td>LPG(액화석유가스)</td>\n",
       "      <td>1</td>\n",
       "      <td>NaN</td>\n",
       "    </tr>\n",
       "    <tr>\n",
       "      <th>36</th>\n",
       "      <td>2022.06</td>\n",
       "      <td>강원도</td>\n",
       "      <td>동해시</td>\n",
       "      <td>LPG(액화석유가스)</td>\n",
       "      <td>1</td>\n",
       "      <td>183.00</td>\n",
       "    </tr>\n",
       "    <tr>\n",
       "      <th>...</th>\n",
       "      <td>...</td>\n",
       "      <td>...</td>\n",
       "      <td>...</td>\n",
       "      <td>...</td>\n",
       "      <td>...</td>\n",
       "      <td>...</td>\n",
       "    </tr>\n",
       "    <tr>\n",
       "      <th>3369</th>\n",
       "      <td>2022.02</td>\n",
       "      <td>충청북도</td>\n",
       "      <td>충주시</td>\n",
       "      <td>휘발유</td>\n",
       "      <td>8</td>\n",
       "      <td>NaN</td>\n",
       "    </tr>\n",
       "    <tr>\n",
       "      <th>3371</th>\n",
       "      <td>2022.03</td>\n",
       "      <td>충청북도</td>\n",
       "      <td>충주시</td>\n",
       "      <td>휘발유</td>\n",
       "      <td>7</td>\n",
       "      <td>NaN</td>\n",
       "    </tr>\n",
       "    <tr>\n",
       "      <th>3373</th>\n",
       "      <td>2022.04</td>\n",
       "      <td>충청북도</td>\n",
       "      <td>충주시</td>\n",
       "      <td>휘발유</td>\n",
       "      <td>6</td>\n",
       "      <td>NaN</td>\n",
       "    </tr>\n",
       "    <tr>\n",
       "      <th>3375</th>\n",
       "      <td>2022.05</td>\n",
       "      <td>충청북도</td>\n",
       "      <td>충주시</td>\n",
       "      <td>휘발유</td>\n",
       "      <td>7</td>\n",
       "      <td>NaN</td>\n",
       "    </tr>\n",
       "    <tr>\n",
       "      <th>3377</th>\n",
       "      <td>2022.06</td>\n",
       "      <td>충청북도</td>\n",
       "      <td>충주시</td>\n",
       "      <td>휘발유</td>\n",
       "      <td>7</td>\n",
       "      <td>1436.00</td>\n",
       "    </tr>\n",
       "  </tbody>\n",
       "</table>\n",
       "<p>3378 rows × 6 columns</p>\n",
       "</div>"
      ],
      "text/plain": [
       "      변경일자_년월    시도  시구군           연료  말소차량대수    차량대수\n",
       "0     2022.01   강원도  강릉시  LPG(액화석유가스)       1     NaN\n",
       "5     2022.03   강원도  강릉시  LPG(액화석유가스)       3     NaN\n",
       "12    2022.06   강원도  강릉시  LPG(액화석유가스)       1   66.00\n",
       "33    2022.05   강원도  동해시  LPG(액화석유가스)       1     NaN\n",
       "36    2022.06   강원도  동해시  LPG(액화석유가스)       1  183.00\n",
       "...       ...   ...  ...          ...     ...     ...\n",
       "3369  2022.02  충청북도  충주시          휘발유       8     NaN\n",
       "3371  2022.03  충청북도  충주시          휘발유       7     NaN\n",
       "3373  2022.04  충청북도  충주시          휘발유       6     NaN\n",
       "3375  2022.05  충청북도  충주시          휘발유       7     NaN\n",
       "3377  2022.06  충청북도  충주시          휘발유       7 1436.00\n",
       "\n",
       "[3378 rows x 6 columns]"
      ]
     },
     "execution_count": 142,
     "metadata": {},
     "output_type": "execute_result"
    }
   ],
   "source": [
    "num_car_by_month2022 = grp_erase.merge(num_car_by_local2, left_on=['변경일자_년월', '시도', '시구군', '연료'], right_on=['연월', '시도명', '시군구명_수정', '연료'], how='left')\n",
    "num_car_by_month2022 = num_car_by_month2022.drop(['시도명', '시군구명_수정', '연월'], axis=1)\n",
    "num_car_by_month2022 = num_car_by_month2022[['변경일자_년월', '시도', '시구군', '연료', '말소차량대수', '차량대수']]\n",
    "num_car_by_month2022 = num_car_by_month2022.sort_values(['연료', '시도', '시구군', '변경일자_년월'])\n",
    "num_car_by_month2022"
   ]
  },
  {
   "cell_type": "code",
   "execution_count": 145,
   "metadata": {},
   "outputs": [
    {
     "data": {
      "text/html": [
       "<div>\n",
       "<style scoped>\n",
       "    .dataframe tbody tr th:only-of-type {\n",
       "        vertical-align: middle;\n",
       "    }\n",
       "\n",
       "    .dataframe tbody tr th {\n",
       "        vertical-align: top;\n",
       "    }\n",
       "\n",
       "    .dataframe thead th {\n",
       "        text-align: right;\n",
       "    }\n",
       "</style>\n",
       "<table border=\"1\" class=\"dataframe\">\n",
       "  <thead>\n",
       "    <tr style=\"text-align: right;\">\n",
       "      <th></th>\n",
       "      <th>시도</th>\n",
       "      <th>시구군</th>\n",
       "      <th>연료</th>\n",
       "    </tr>\n",
       "  </thead>\n",
       "  <tbody>\n",
       "    <tr>\n",
       "      <th>0</th>\n",
       "      <td>강원도</td>\n",
       "      <td>강릉시</td>\n",
       "      <td>LPG(액화석유가스)</td>\n",
       "    </tr>\n",
       "    <tr>\n",
       "      <th>33</th>\n",
       "      <td>강원도</td>\n",
       "      <td>동해시</td>\n",
       "      <td>LPG(액화석유가스)</td>\n",
       "    </tr>\n",
       "    <tr>\n",
       "      <th>55</th>\n",
       "      <td>강원도</td>\n",
       "      <td>속초시</td>\n",
       "      <td>LPG(액화석유가스)</td>\n",
       "    </tr>\n",
       "    <tr>\n",
       "      <th>91</th>\n",
       "      <td>강원도</td>\n",
       "      <td>영월군</td>\n",
       "      <td>LPG(액화석유가스)</td>\n",
       "    </tr>\n",
       "    <tr>\n",
       "      <th>100</th>\n",
       "      <td>강원도</td>\n",
       "      <td>원주시</td>\n",
       "      <td>LPG(액화석유가스)</td>\n",
       "    </tr>\n",
       "  </tbody>\n",
       "</table>\n",
       "</div>"
      ],
      "text/plain": [
       "      시도  시구군           연료\n",
       "0    강원도  강릉시  LPG(액화석유가스)\n",
       "33   강원도  동해시  LPG(액화석유가스)\n",
       "55   강원도  속초시  LPG(액화석유가스)\n",
       "91   강원도  영월군  LPG(액화석유가스)\n",
       "100  강원도  원주시  LPG(액화석유가스)"
      ]
     },
     "execution_count": 145,
     "metadata": {},
     "output_type": "execute_result"
    }
   ],
   "source": [
    "uni = num_car_by_month2022[['시도', '시구군', '연료']].drop_duplicates(['시도', '시구군', '연료'])\n",
    "uni.head()"
   ]
  },
  {
   "cell_type": "code",
   "execution_count": 149,
   "metadata": {},
   "outputs": [
    {
     "data": {
      "text/plain": [
       "<bound method NDFrame.head of       변경일자_년월    시도  시구군           연료\n",
       "0     2022.01   강원도  강릉시  LPG(액화석유가스)\n",
       "1     2022.02   강원도  강릉시  LPG(액화석유가스)\n",
       "2     2022.03   강원도  강릉시  LPG(액화석유가스)\n",
       "3     2022.04   강원도  강릉시  LPG(액화석유가스)\n",
       "4     2022.05   강원도  강릉시  LPG(액화석유가스)\n",
       "...       ...   ...  ...          ...\n",
       "4171  2022.02  충청북도  충주시          휘발유\n",
       "4172  2022.03  충청북도  충주시          휘발유\n",
       "4173  2022.04  충청북도  충주시          휘발유\n",
       "4174  2022.05  충청북도  충주시          휘발유\n",
       "4175  2022.06  충청북도  충주시          휘발유\n",
       "\n",
       "[4176 rows x 4 columns]>"
      ]
     },
     "execution_count": 149,
     "metadata": {},
     "output_type": "execute_result"
    }
   ],
   "source": [
    "ttemp = pd.DataFrame()\n",
    "for si, sgg, fuel in uni.values:\n",
    "    temp = pd.DataFrame({'변경일자_년월':['2022.01', '2022.02', '2022.03', '2022.04', '2022.05', '2022.06'], '시도':[si] * 6, '시구군':[sgg]*6, '연료':[fuel]*6})\n",
    "    ttemp = pd.concat([ttemp, temp], ignore_index=True)\n",
    "ttemp.head"
   ]
  },
  {
   "cell_type": "code",
   "execution_count": 170,
   "metadata": {},
   "outputs": [
    {
     "data": {
      "text/html": [
       "<div>\n",
       "<style scoped>\n",
       "    .dataframe tbody tr th:only-of-type {\n",
       "        vertical-align: middle;\n",
       "    }\n",
       "\n",
       "    .dataframe tbody tr th {\n",
       "        vertical-align: top;\n",
       "    }\n",
       "\n",
       "    .dataframe thead th {\n",
       "        text-align: right;\n",
       "    }\n",
       "</style>\n",
       "<table border=\"1\" class=\"dataframe\">\n",
       "  <thead>\n",
       "    <tr style=\"text-align: right;\">\n",
       "      <th></th>\n",
       "      <th>변경일자_년월</th>\n",
       "      <th>시도</th>\n",
       "      <th>시구군</th>\n",
       "      <th>연료</th>\n",
       "      <th>말소차량대수</th>\n",
       "      <th>차량대수</th>\n",
       "    </tr>\n",
       "  </thead>\n",
       "  <tbody>\n",
       "    <tr>\n",
       "      <th>0</th>\n",
       "      <td>2022.01</td>\n",
       "      <td>강원도</td>\n",
       "      <td>강릉시</td>\n",
       "      <td>LPG(액화석유가스)</td>\n",
       "      <td>1.00</td>\n",
       "      <td>NaN</td>\n",
       "    </tr>\n",
       "    <tr>\n",
       "      <th>1</th>\n",
       "      <td>2022.02</td>\n",
       "      <td>강원도</td>\n",
       "      <td>강릉시</td>\n",
       "      <td>LPG(액화석유가스)</td>\n",
       "      <td>NaN</td>\n",
       "      <td>NaN</td>\n",
       "    </tr>\n",
       "    <tr>\n",
       "      <th>2</th>\n",
       "      <td>2022.03</td>\n",
       "      <td>강원도</td>\n",
       "      <td>강릉시</td>\n",
       "      <td>LPG(액화석유가스)</td>\n",
       "      <td>3.00</td>\n",
       "      <td>NaN</td>\n",
       "    </tr>\n",
       "    <tr>\n",
       "      <th>3</th>\n",
       "      <td>2022.04</td>\n",
       "      <td>강원도</td>\n",
       "      <td>강릉시</td>\n",
       "      <td>LPG(액화석유가스)</td>\n",
       "      <td>NaN</td>\n",
       "      <td>NaN</td>\n",
       "    </tr>\n",
       "    <tr>\n",
       "      <th>4</th>\n",
       "      <td>2022.05</td>\n",
       "      <td>강원도</td>\n",
       "      <td>강릉시</td>\n",
       "      <td>LPG(액화석유가스)</td>\n",
       "      <td>NaN</td>\n",
       "      <td>NaN</td>\n",
       "    </tr>\n",
       "    <tr>\n",
       "      <th>5</th>\n",
       "      <td>2022.06</td>\n",
       "      <td>강원도</td>\n",
       "      <td>강릉시</td>\n",
       "      <td>LPG(액화석유가스)</td>\n",
       "      <td>1.00</td>\n",
       "      <td>66.00</td>\n",
       "    </tr>\n",
       "  </tbody>\n",
       "</table>\n",
       "</div>"
      ],
      "text/plain": [
       "   변경일자_년월   시도  시구군           연료  말소차량대수  차량대수\n",
       "0  2022.01  강원도  강릉시  LPG(액화석유가스)    1.00   NaN\n",
       "1  2022.02  강원도  강릉시  LPG(액화석유가스)     NaN   NaN\n",
       "2  2022.03  강원도  강릉시  LPG(액화석유가스)    3.00   NaN\n",
       "3  2022.04  강원도  강릉시  LPG(액화석유가스)     NaN   NaN\n",
       "4  2022.05  강원도  강릉시  LPG(액화석유가스)     NaN   NaN\n",
       "5  2022.06  강원도  강릉시  LPG(액화석유가스)    1.00 66.00"
      ]
     },
     "execution_count": 170,
     "metadata": {},
     "output_type": "execute_result"
    }
   ],
   "source": [
    "num_car = ttemp.merge(num_car_by_month2022, on=['변경일자_년월', '시도', '시구군', '연료'], how='left')\n",
    "num_car.head(6)"
   ]
  },
  {
   "cell_type": "code",
   "execution_count": 171,
   "metadata": {},
   "outputs": [
    {
     "data": {
      "text/plain": [
       "3.0"
      ]
     },
     "execution_count": 171,
     "metadata": {},
     "output_type": "execute_result"
    }
   ],
   "source": [
    "num_car.loc[2, '말소차량대수']"
   ]
  },
  {
   "cell_type": "code",
   "execution_count": 172,
   "metadata": {},
   "outputs": [
    {
     "data": {
      "text/plain": [
       "696"
      ]
     },
     "execution_count": 172,
     "metadata": {},
     "output_type": "execute_result"
    }
   ],
   "source": [
    "num_car.shape[0] // 6"
   ]
  },
  {
   "cell_type": "code",
   "execution_count": 173,
   "metadata": {},
   "outputs": [
    {
     "data": {
      "text/plain": [
       "말소차량대수    0\n",
       "차량대수      0\n",
       "dtype: int64"
      ]
     },
     "execution_count": 173,
     "metadata": {},
     "output_type": "execute_result"
    }
   ],
   "source": [
    "num_car[['말소차량대수', '차량대수']] = num_car[['말소차량대수', '차량대수']].fillna(0)\n",
    "num_car[['말소차량대수', '차량대수']].isnull().sum()"
   ]
  },
  {
   "cell_type": "code",
   "execution_count": 174,
   "metadata": {},
   "outputs": [],
   "source": [
    "for i in range(num_car.shape[0] // 6):\n",
    "    if np.isnan(num_car.loc[(i+1)*6 - 1, '차량대수']) == True:\n",
    "        num_car.loc[(i+1)*6 - 1, '차량대수'] = 0\n",
    "    num_car.loc[(i+1)*6 - 2, '차량대수'] = num_car.loc[(i+1)*6 - 1, '차량대수'] + num_car.loc[(i+1)*6 - 1, '말소차량대수']\n",
    "    num_car.loc[(i+1)*6 - 3, '차량대수'] = num_car.loc[(i+1)*6 - 2, '차량대수'] + num_car.loc[(i+1)*6 - 2, '말소차량대수']\n",
    "    num_car.loc[(i+1)*6 - 4, '차량대수'] = num_car.loc[(i+1)*6 - 3, '차량대수'] + num_car.loc[(i+1)*6 - 3, '말소차량대수']\n",
    "    num_car.loc[(i+1)*6 - 5, '차량대수'] = num_car.loc[(i+1)*6 - 4, '차량대수'] + num_car.loc[(i+1)*6 - 4, '말소차량대수']\n",
    "    num_car.loc[(i+1)*6 - 6, '차량대수'] = num_car.loc[(i+1)*6 - 5, '차량대수'] + num_car.loc[(i+1)*6 - 5, '말소차량대수']"
   ]
  },
  {
   "cell_type": "code",
   "execution_count": 175,
   "metadata": {},
   "outputs": [
    {
     "data": {
      "text/html": [
       "<div>\n",
       "<style scoped>\n",
       "    .dataframe tbody tr th:only-of-type {\n",
       "        vertical-align: middle;\n",
       "    }\n",
       "\n",
       "    .dataframe tbody tr th {\n",
       "        vertical-align: top;\n",
       "    }\n",
       "\n",
       "    .dataframe thead th {\n",
       "        text-align: right;\n",
       "    }\n",
       "</style>\n",
       "<table border=\"1\" class=\"dataframe\">\n",
       "  <thead>\n",
       "    <tr style=\"text-align: right;\">\n",
       "      <th></th>\n",
       "      <th>변경일자_년월</th>\n",
       "      <th>시도</th>\n",
       "      <th>시구군</th>\n",
       "      <th>연료</th>\n",
       "      <th>말소차량대수</th>\n",
       "      <th>차량대수</th>\n",
       "    </tr>\n",
       "  </thead>\n",
       "  <tbody>\n",
       "    <tr>\n",
       "      <th>0</th>\n",
       "      <td>2022.01</td>\n",
       "      <td>강원도</td>\n",
       "      <td>강릉시</td>\n",
       "      <td>LPG(액화석유가스)</td>\n",
       "      <td>1.00</td>\n",
       "      <td>70.00</td>\n",
       "    </tr>\n",
       "    <tr>\n",
       "      <th>1</th>\n",
       "      <td>2022.02</td>\n",
       "      <td>강원도</td>\n",
       "      <td>강릉시</td>\n",
       "      <td>LPG(액화석유가스)</td>\n",
       "      <td>0.00</td>\n",
       "      <td>70.00</td>\n",
       "    </tr>\n",
       "    <tr>\n",
       "      <th>2</th>\n",
       "      <td>2022.03</td>\n",
       "      <td>강원도</td>\n",
       "      <td>강릉시</td>\n",
       "      <td>LPG(액화석유가스)</td>\n",
       "      <td>3.00</td>\n",
       "      <td>67.00</td>\n",
       "    </tr>\n",
       "    <tr>\n",
       "      <th>3</th>\n",
       "      <td>2022.04</td>\n",
       "      <td>강원도</td>\n",
       "      <td>강릉시</td>\n",
       "      <td>LPG(액화석유가스)</td>\n",
       "      <td>0.00</td>\n",
       "      <td>67.00</td>\n",
       "    </tr>\n",
       "    <tr>\n",
       "      <th>4</th>\n",
       "      <td>2022.05</td>\n",
       "      <td>강원도</td>\n",
       "      <td>강릉시</td>\n",
       "      <td>LPG(액화석유가스)</td>\n",
       "      <td>0.00</td>\n",
       "      <td>67.00</td>\n",
       "    </tr>\n",
       "  </tbody>\n",
       "</table>\n",
       "</div>"
      ],
      "text/plain": [
       "   변경일자_년월   시도  시구군           연료  말소차량대수  차량대수\n",
       "0  2022.01  강원도  강릉시  LPG(액화석유가스)    1.00 70.00\n",
       "1  2022.02  강원도  강릉시  LPG(액화석유가스)    0.00 70.00\n",
       "2  2022.03  강원도  강릉시  LPG(액화석유가스)    3.00 67.00\n",
       "3  2022.04  강원도  강릉시  LPG(액화석유가스)    0.00 67.00\n",
       "4  2022.05  강원도  강릉시  LPG(액화석유가스)    0.00 67.00"
      ]
     },
     "execution_count": 175,
     "metadata": {},
     "output_type": "execute_result"
    }
   ],
   "source": [
    "num_car.head()"
   ]
  },
  {
   "cell_type": "code",
   "execution_count": 176,
   "metadata": {},
   "outputs": [
    {
     "data": {
      "text/html": [
       "<div>\n",
       "<style scoped>\n",
       "    .dataframe tbody tr th:only-of-type {\n",
       "        vertical-align: middle;\n",
       "    }\n",
       "\n",
       "    .dataframe tbody tr th {\n",
       "        vertical-align: top;\n",
       "    }\n",
       "\n",
       "    .dataframe thead th {\n",
       "        text-align: right;\n",
       "    }\n",
       "</style>\n",
       "<table border=\"1\" class=\"dataframe\">\n",
       "  <thead>\n",
       "    <tr style=\"text-align: right;\">\n",
       "      <th></th>\n",
       "      <th>변경일자_년월</th>\n",
       "      <th>시도</th>\n",
       "      <th>시구군</th>\n",
       "      <th>연료</th>\n",
       "      <th>말소차량대수</th>\n",
       "      <th>차량대수</th>\n",
       "    </tr>\n",
       "  </thead>\n",
       "  <tbody>\n",
       "    <tr>\n",
       "      <th>4170</th>\n",
       "      <td>2022.01</td>\n",
       "      <td>충청북도</td>\n",
       "      <td>충주시</td>\n",
       "      <td>휘발유</td>\n",
       "      <td>8.00</td>\n",
       "      <td>1471.00</td>\n",
       "    </tr>\n",
       "    <tr>\n",
       "      <th>4171</th>\n",
       "      <td>2022.02</td>\n",
       "      <td>충청북도</td>\n",
       "      <td>충주시</td>\n",
       "      <td>휘발유</td>\n",
       "      <td>8.00</td>\n",
       "      <td>1463.00</td>\n",
       "    </tr>\n",
       "    <tr>\n",
       "      <th>4172</th>\n",
       "      <td>2022.03</td>\n",
       "      <td>충청북도</td>\n",
       "      <td>충주시</td>\n",
       "      <td>휘발유</td>\n",
       "      <td>7.00</td>\n",
       "      <td>1456.00</td>\n",
       "    </tr>\n",
       "    <tr>\n",
       "      <th>4173</th>\n",
       "      <td>2022.04</td>\n",
       "      <td>충청북도</td>\n",
       "      <td>충주시</td>\n",
       "      <td>휘발유</td>\n",
       "      <td>6.00</td>\n",
       "      <td>1450.00</td>\n",
       "    </tr>\n",
       "    <tr>\n",
       "      <th>4174</th>\n",
       "      <td>2022.05</td>\n",
       "      <td>충청북도</td>\n",
       "      <td>충주시</td>\n",
       "      <td>휘발유</td>\n",
       "      <td>7.00</td>\n",
       "      <td>1443.00</td>\n",
       "    </tr>\n",
       "    <tr>\n",
       "      <th>4175</th>\n",
       "      <td>2022.06</td>\n",
       "      <td>충청북도</td>\n",
       "      <td>충주시</td>\n",
       "      <td>휘발유</td>\n",
       "      <td>7.00</td>\n",
       "      <td>1436.00</td>\n",
       "    </tr>\n",
       "  </tbody>\n",
       "</table>\n",
       "</div>"
      ],
      "text/plain": [
       "      변경일자_년월    시도  시구군   연료  말소차량대수    차량대수\n",
       "4170  2022.01  충청북도  충주시  휘발유    8.00 1471.00\n",
       "4171  2022.02  충청북도  충주시  휘발유    8.00 1463.00\n",
       "4172  2022.03  충청북도  충주시  휘발유    7.00 1456.00\n",
       "4173  2022.04  충청북도  충주시  휘발유    6.00 1450.00\n",
       "4174  2022.05  충청북도  충주시  휘발유    7.00 1443.00\n",
       "4175  2022.06  충청북도  충주시  휘발유    7.00 1436.00"
      ]
     },
     "execution_count": 176,
     "metadata": {},
     "output_type": "execute_result"
    }
   ],
   "source": [
    "num_car.tail(6)"
   ]
  },
  {
   "attachments": {},
   "cell_type": "markdown",
   "metadata": {},
   "source": [
    "### [출력] # STD_BD_GRD4_RGN_CURSTT"
   ]
  },
  {
   "cell_type": "code",
   "execution_count": 177,
   "metadata": {},
   "outputs": [],
   "source": [
    "# STD_BD_GRD4_RGN_CURSTT\n",
    "num_car.to_excel(os.path.join(analysis_fold, 'BD1_통계_4등급차_시도_시군구_2022년_월별_차량현황.xlsx'), index=False)"
   ]
  },
  {
   "attachments": {},
   "cell_type": "markdown",
   "metadata": {},
   "source": [
    "# 코드 마지막"
   ]
  }
 ],
 "metadata": {
  "kernelspec": {
   "display_name": "base",
   "language": "python",
   "name": "python3"
  },
  "language_info": {
   "codemirror_mode": {
    "name": "ipython",
    "version": 3
   },
   "file_extension": ".py",
   "mimetype": "text/x-python",
   "name": "python",
   "nbconvert_exporter": "python",
   "pygments_lexer": "ipython3",
   "version": "3.9.13"
  },
  "orig_nbformat": 4,
  "vscode": {
   "interpreter": {
    "hash": "ad2bdc8ecc057115af97d19610ffacc2b4e99fae6737bb82f5d7fb13d2f2c186"
   }
  }
 },
 "nbformat": 4,
 "nbformat_minor": 2
}
