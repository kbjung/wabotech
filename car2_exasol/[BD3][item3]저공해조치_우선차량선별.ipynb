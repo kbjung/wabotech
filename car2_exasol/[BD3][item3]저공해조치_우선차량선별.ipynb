{
 "cells": [
  {
   "attachments": {},
   "cell_type": "markdown",
   "metadata": {},
   "source": [
    "# Library\n"
   ]
  },
  {
   "cell_type": "code",
   "execution_count": 1,
   "metadata": {},
   "outputs": [],
   "source": [
    "import pandas as pd\n",
    "import numpy as np\n",
    "import os\n",
    "from tqdm import tqdm\n",
    "from datetime import datetime"
   ]
  },
  {
   "cell_type": "code",
   "execution_count": 2,
   "metadata": {},
   "outputs": [],
   "source": [
    "# 소수점 옵션\n",
    "pd.options.display.float_format = '{:.5f}'.format\n",
    "# pd.reset_option('display.float_format')"
   ]
  },
  {
   "attachments": {},
   "cell_type": "markdown",
   "metadata": {},
   "source": [
    "# fold path"
   ]
  },
  {
   "cell_type": "code",
   "execution_count": 3,
   "metadata": {},
   "outputs": [],
   "source": [
    "drive = 'D'"
   ]
  },
  {
   "cell_type": "code",
   "execution_count": 4,
   "metadata": {},
   "outputs": [],
   "source": [
    "ods_fold = f'{drive}:/data/big2/ODS'\n",
    "big2_fold = f'{drive}:/data/big2'\n",
    "analysis_fold = f'{drive}:/data/big2/BD3/an'\n",
    "raw_fold = f'{drive}:/data/big2/BD3/raw'\n",
    "df_fold = f'{drive}:/data/big2/BD3/df'"
   ]
  },
  {
   "attachments": {},
   "cell_type": "markdown",
   "metadata": {},
   "source": [
    "# Load(❌)"
   ]
  },
  {
   "attachments": {},
   "cell_type": "markdown",
   "metadata": {},
   "source": [
    "## 등록&제원정보(4등급) result (1일평균주행거리 추가)"
   ]
  },
  {
   "cell_type": "code",
   "execution_count": 5,
   "metadata": {},
   "outputs": [
    {
     "name": "stdout",
     "output_type": "stream",
     "text": [
      "<class 'pandas.core.frame.DataFrame'>\n",
      "RangeIndex: 1502235 entries, 0 to 1502234\n",
      "Data columns (total 40 columns):\n",
      " #   Column      Non-Null Count    Dtype  \n",
      "---  ------      --------------    -----  \n",
      " 0   차대번호        1502235 non-null  object \n",
      " 1   차량번호        1502235 non-null  object \n",
      " 2   제원관리번호      1502235 non-null  object \n",
      " 3   차종          1502235 non-null  object \n",
      " 4   용도          1502235 non-null  object \n",
      " 5   최초등록일       1502235 non-null  int64  \n",
      " 6   연식          1502235 non-null  int64  \n",
      " 7   제작일자        1335178 non-null  float64\n",
      " 8   검사유효일       1502223 non-null  float64\n",
      " 9   배출가스인증번호    1384783 non-null  object \n",
      " 10  등급          1502235 non-null  int64  \n",
      " 11  차명          1502235 non-null  object \n",
      " 12  차종분류        1502235 non-null  object \n",
      " 13  차종유형        1502235 non-null  object \n",
      " 14  자동차형식       1501958 non-null  object \n",
      " 15  제작사명        1492590 non-null  object \n",
      " 16  연료          1502235 non-null  object \n",
      " 17  엔진형식        1500400 non-null  object \n",
      " 18  총중량         1502234 non-null  float64\n",
      " 19  적재중량        1501728 non-null  float64\n",
      " 20  엔진출력        1501882 non-null  object \n",
      " 21  배기량         1502231 non-null  float64\n",
      " 22  법정동코드       1502235 non-null  int64  \n",
      " 23  시도명         1502235 non-null  object \n",
      " 24  시군구명        1502235 non-null  object \n",
      " 25  소유자구분       1502235 non-null  object \n",
      " 26  말소여부        1502235 non-null  object \n",
      " 27  일치유무        1153813 non-null  object \n",
      " 28  인증번호 수정 유무  1151141 non-null  object \n",
      " 29  배인번호_수정     1153813 non-null  object \n",
      " 30  등급_수정       1502235 non-null  float64\n",
      " 31  DPF유무_수정    1153813 non-null  object \n",
      " 32  배출가스        1151141 non-null  object \n",
      " 33  등급2         1151141 non-null  object \n",
      " 34  DPF         1144315 non-null  object \n",
      " 35  비고          46494 non-null    object \n",
      " 36  Grade       1497711 non-null  object \n",
      " 37  차령          1502235 non-null  int64  \n",
      " 38  시군구명_수정     1502235 non-null  object \n",
      " 39  1일평균주행거리    1502235 non-null  float64\n",
      "dtypes: float64(7), int64(5), object(28)\n",
      "memory usage: 458.4+ MB\n"
     ]
    }
   ],
   "source": [
    "# about 17.7s\n",
    "name = '4등급_차량_리스트_양식_result(전체)_Grade_추가_1일평균주행거리_추가(2023.04.19_PM.02.25.59)'\n",
    "file_name = f'{name}.csv'\n",
    "g4 = pd.read_csv(os.path.join(ods_fold, file_name), low_memory=False)\n",
    "g4.info()"
   ]
  },
  {
   "cell_type": "code",
   "execution_count": 6,
   "metadata": {},
   "outputs": [
    {
     "data": {
      "text/plain": [
       "Index(['차대번호', '차량번호', '제원관리번호', '차종', '용도', '최초등록일', '연식', '제작일자', '검사유효일',\n",
       "       '배출가스인증번호', '등급', '차명', '차종분류', '차종유형', '자동차형식', '제작사명', '연료', '엔진형식',\n",
       "       '총중량', '적재중량', '엔진출력', '배기량', '법정동코드', '시도명', '시군구명', '소유자구분', '말소여부',\n",
       "       '일치유무', '인증번호 수정 유무', '배인번호_수정', '등급_수정', 'DPF유무_수정', '배출가스', '등급2',\n",
       "       'DPF', '비고', 'Grade', '차령', '시군구명_수정', '1일평균주행거리'],\n",
       "      dtype='object')"
      ]
     },
     "execution_count": 6,
     "metadata": {},
     "output_type": "execute_result"
    }
   ],
   "source": [
    "g4.columns"
   ]
  },
  {
   "cell_type": "code",
   "execution_count": 7,
   "metadata": {},
   "outputs": [
    {
     "data": {
      "text/plain": [
       "(1502235, 33)"
      ]
     },
     "execution_count": 7,
     "metadata": {},
     "output_type": "execute_result"
    }
   ],
   "source": [
    "g4 = g4.drop(['일치유무', '인증번호 수정 유무', '배출가스', '등급2', 'DPF', '비고', '차령'], axis=1)\n",
    "g4.shape"
   ]
  },
  {
   "attachments": {},
   "cell_type": "markdown",
   "metadata": {},
   "source": [
    "### 등급 수정\n",
    "- 5등급으로 수정\n",
    "    - 배인번호_수정 : 4MY-DB-04, 24개\n",
    "    - 배인번호_수정 : 4MY-DB-03, 9개"
   ]
  },
  {
   "cell_type": "code",
   "execution_count": 8,
   "metadata": {},
   "outputs": [
    {
     "data": {
      "text/plain": [
       "(24, 33)"
      ]
     },
     "execution_count": 8,
     "metadata": {},
     "output_type": "execute_result"
    }
   ],
   "source": [
    "g4.loc[g4['배인번호_수정'] == '4MY-DB-04'].shape"
   ]
  },
  {
   "cell_type": "code",
   "execution_count": 9,
   "metadata": {},
   "outputs": [
    {
     "data": {
      "text/plain": [
       "array([4.])"
      ]
     },
     "execution_count": 9,
     "metadata": {},
     "output_type": "execute_result"
    }
   ],
   "source": [
    "g4.loc[g4['배인번호_수정'] == '4MY-DB-04', '등급_수정'].unique()"
   ]
  },
  {
   "cell_type": "code",
   "execution_count": 10,
   "metadata": {},
   "outputs": [],
   "source": [
    "g4.loc[g4['배인번호_수정'] == '4MY-DB-04', '등급_수정'] = 5"
   ]
  },
  {
   "cell_type": "code",
   "execution_count": 11,
   "metadata": {},
   "outputs": [
    {
     "data": {
      "text/plain": [
       "array([5.])"
      ]
     },
     "execution_count": 11,
     "metadata": {},
     "output_type": "execute_result"
    }
   ],
   "source": [
    "g4.loc[g4['배인번호_수정'] == '4MY-DB-04', '등급_수정'].unique()"
   ]
  },
  {
   "cell_type": "code",
   "execution_count": 12,
   "metadata": {},
   "outputs": [
    {
     "data": {
      "text/plain": [
       "(9, 33)"
      ]
     },
     "execution_count": 12,
     "metadata": {},
     "output_type": "execute_result"
    }
   ],
   "source": [
    "g4.loc[g4['배인번호_수정'] == '4MY-DB-03'].shape"
   ]
  },
  {
   "cell_type": "code",
   "execution_count": 13,
   "metadata": {},
   "outputs": [
    {
     "data": {
      "text/plain": [
       "array([4.])"
      ]
     },
     "execution_count": 13,
     "metadata": {},
     "output_type": "execute_result"
    }
   ],
   "source": [
    "g4.loc[g4['배인번호_수정'] == '4MY-DB-03', '등급_수정'].unique()"
   ]
  },
  {
   "cell_type": "code",
   "execution_count": 14,
   "metadata": {},
   "outputs": [],
   "source": [
    "g4.loc[g4['배인번호_수정'] == '4MY-DB-03', '등급_수정'] = 5"
   ]
  },
  {
   "cell_type": "code",
   "execution_count": 15,
   "metadata": {},
   "outputs": [
    {
     "data": {
      "text/plain": [
       "array([5.])"
      ]
     },
     "execution_count": 15,
     "metadata": {},
     "output_type": "execute_result"
    }
   ],
   "source": [
    "g4.loc[g4['배인번호_수정'] == '4MY-DB-03', '등급_수정'].unique()"
   ]
  },
  {
   "cell_type": "code",
   "execution_count": 16,
   "metadata": {},
   "outputs": [
    {
     "data": {
      "text/plain": [
       "등급_수정\n",
       "4.00000    1497678\n",
       "3.00000       4397\n",
       "5.00000        160\n",
       "Name: count, dtype: int64"
      ]
     },
     "execution_count": 16,
     "metadata": {},
     "output_type": "execute_result"
    }
   ],
   "source": [
    "g4['등급_수정'].value_counts(dropna=False)"
   ]
  },
  {
   "attachments": {},
   "cell_type": "markdown",
   "metadata": {},
   "source": [
    "### 코란KJ 연료 휘발유로 수정\n",
    "- 차량번호 : 31고7134\n",
    "- 연식 : 1996\n",
    "- 연료 : 휘발유"
   ]
  },
  {
   "cell_type": "code",
   "execution_count": 1455,
   "metadata": {},
   "outputs": [
    {
     "data": {
      "text/plain": [
       "1502231    경유\n",
       "Name: 연료, dtype: object"
      ]
     },
     "execution_count": 1455,
     "metadata": {},
     "output_type": "execute_result"
    }
   ],
   "source": [
    "g4.loc[g4['차량번호'] == '31고7134', '연료']"
   ]
  },
  {
   "cell_type": "code",
   "execution_count": 1456,
   "metadata": {},
   "outputs": [],
   "source": [
    "g4.loc[g4['차량번호'] == '31고7134', '연료'] = '휘발유'"
   ]
  },
  {
   "attachments": {},
   "cell_type": "markdown",
   "metadata": {},
   "source": [
    "## 등록&제원정보(5등급)"
   ]
  },
  {
   "cell_type": "code",
   "execution_count": 17,
   "metadata": {},
   "outputs": [
    {
     "name": "stdout",
     "output_type": "stream",
     "text": [
      "<class 'pandas.core.frame.DataFrame'>\n",
      "RangeIndex: 2378648 entries, 0 to 2378647\n",
      "Data columns (total 49 columns):\n",
      " #   Column        Dtype  \n",
      "---  ------        -----  \n",
      " 0   차량관리번호        object \n",
      " 1   차량등록번호        object \n",
      " 2   본거지법정동코드      int64  \n",
      " 3   소유자구분         object \n",
      " 4   차종_등록정보       object \n",
      " 5   용도            object \n",
      " 6   현재회원번호        object \n",
      " 7   차대번호          object \n",
      " 8   최초등록일자        int64  \n",
      " 9   차량연식          int64  \n",
      " 10  차량제작일자        float64\n",
      " 11  배출가스검사유효일자    float64\n",
      " 12  제원관리번호        object \n",
      " 13  배출가스인증번호      object \n",
      " 14  배출가스등급        object \n",
      " 15  저공해조치YN(미사용)  object \n",
      " 16  저공해조치종류       float64\n",
      " 17  저공해조치구조변경YN   object \n",
      " 18  차량등록번호숫자정보    int64  \n",
      " 19  차량말소YN        object \n",
      " 20  최초회원번호        object \n",
      " 21  취득일자          float64\n",
      " 22  취득금액          float64\n",
      " 23  생성일시_등록정보     object \n",
      " 24  수정일시_등록정보     object \n",
      " 25  차명            object \n",
      " 26  차종_제원정보       object \n",
      " 27  차종분류          object \n",
      " 28  차종유형(소분류)     object \n",
      " 29  자동차형식         object \n",
      " 30  제작사명          object \n",
      " 31  연료            object \n",
      " 32  엔진형식          object \n",
      " 33  공차중량          float64\n",
      " 34  총중량           float64\n",
      " 35  적재중량          float64\n",
      " 36  엔진출력          float64\n",
      " 37  배기량           float64\n",
      " 38  승차인원          float64\n",
      " 39  차량길이          float64\n",
      " 40  차량너비          float64\n",
      " 41  차량높이          float64\n",
      " 42  원산지명          object \n",
      " 43  삭제YN          object \n",
      " 44  승인일자          object \n",
      " 45  구동형식          float64\n",
      " 46  변속기종류         object \n",
      " 47  생성일시_제원정보     object \n",
      " 48  수정일시_제원정보     object \n",
      "dtypes: float64(15), int64(4), object(30)\n",
      "memory usage: 889.2+ MB\n"
     ]
    }
   ],
   "source": [
    "# about 37.6s\n",
    "name = '[ODS][G5]등록정보&제원정보(2022.12.28)'\n",
    "file_name = f'{name}.csv'\n",
    "g5 = pd.read_csv(os.path.join(ods_fold, file_name), low_memory=False, encoding='cp949')\n",
    "g5.info()"
   ]
  },
  {
   "attachments": {},
   "cell_type": "markdown",
   "metadata": {},
   "source": [
    "### 코란KJ 연료 휘발유로 수정\n",
    "- 차량번호 : 31고7134\n",
    "- 연식 : 1996\n",
    "- 연료 : 휘발유"
   ]
  },
  {
   "cell_type": "code",
   "execution_count": 1458,
   "metadata": {},
   "outputs": [
    {
     "data": {
      "text/plain": [
       "Series([], Name: 연료, dtype: object)"
      ]
     },
     "execution_count": 1458,
     "metadata": {},
     "output_type": "execute_result"
    }
   ],
   "source": [
    "g5.loc[g5['차량등록번호'] == '31고7134', '연료']"
   ]
  },
  {
   "attachments": {},
   "cell_type": "markdown",
   "metadata": {},
   "source": [
    "## 정기, 정밀검사"
   ]
  },
  {
   "cell_type": "code",
   "execution_count": 18,
   "metadata": {},
   "outputs": [
    {
     "name": "stdout",
     "output_type": "stream",
     "text": [
      "<class 'pandas.core.frame.DataFrame'>\n",
      "RangeIndex: 50688654 entries, 0 to 50688653\n",
      "Data columns (total 13 columns):\n",
      " #   Column     Dtype  \n",
      "---  ------     -----  \n",
      " 0   주행거리       object \n",
      " 1   차대번호       object \n",
      " 2   검사방법       object \n",
      " 3   검사일자       int64  \n",
      " 4   검사종류       object \n",
      " 5   검사판정       object \n",
      " 6   무부하매연판정1   object \n",
      " 7   무부하매연판정2   object \n",
      " 8   무부하매연판정3   object \n",
      " 9   무부하매연측정치1  float64\n",
      " 10  무부하매연측정치2  float64\n",
      " 11  무부하매연측정치3  float64\n",
      " 12  정기정밀       object \n",
      "dtypes: float64(3), int64(1), object(9)\n",
      "memory usage: 4.9+ GB\n"
     ]
    }
   ],
   "source": [
    "# about 7m 35.4s\n",
    "name = '[ODS]정기&정밀검사(2022.12.28)'\n",
    "file_name = f'{name}.csv'\n",
    "ins = pd.read_csv(os.path.join(ods_fold, file_name), low_memory=False, encoding='cp949', usecols=['차대번호', '주행거리', '검사일자', '검사방법', '검사종류', '검사판정', '무부하매연판정1', '무부하매연판정2', '무부하매연판정3', '무부하매연측정치1', '무부하매연측정치2', '무부하매연측정치3', '정기정밀'])\n",
    "ins.info()"
   ]
  },
  {
   "cell_type": "code",
   "execution_count": 2021,
   "metadata": {},
   "outputs": [
    {
     "data": {
      "text/plain": [
       "count   50688654.00000\n",
       "mean    20205442.96229\n",
       "std        11147.21167\n",
       "min     20190102.00000\n",
       "25%     20191227.00000\n",
       "50%     20201219.00000\n",
       "75%     20211213.00000\n",
       "max     20230107.00000\n",
       "Name: 검사일자, dtype: float64"
      ]
     },
     "execution_count": 2021,
     "metadata": {},
     "output_type": "execute_result"
    }
   ],
   "source": [
    "ins['검사일자'].describe()"
   ]
  },
  {
   "attachments": {},
   "cell_type": "markdown",
   "metadata": {},
   "source": [
    "## 저감장치 부착이력"
   ]
  },
  {
   "cell_type": "code",
   "execution_count": 21,
   "metadata": {},
   "outputs": [
    {
     "name": "stdout",
     "output_type": "stream",
     "text": [
      "<class 'pandas.core.frame.DataFrame'>\n",
      "RangeIndex: 810777 entries, 0 to 810776\n",
      "Data columns (total 3 columns):\n",
      " #   Column  Non-Null Count   Dtype \n",
      "---  ------  --------------   ----- \n",
      " 0   차대번호    810777 non-null  object\n",
      " 1   저감장치구분  810777 non-null  object\n",
      " 2   장치일련번호  682711 non-null  object\n",
      "dtypes: object(3)\n",
      "memory usage: 18.6+ MB\n"
     ]
    }
   ],
   "source": [
    "# about 2.3s\n",
    "name = '[ODS]저감장치부착이력(2022.12.28)'\n",
    "file_name = f'{name}.csv'\n",
    "# att = pd.read_csv(os.path.join(ods_fold, file_name), low_memory=False, encoding='cp949', nrows=5)\n",
    "att = pd.read_csv(os.path.join(ods_fold, file_name), low_memory=False, encoding='cp949', usecols=['차대번호', '저감장치구분', '장치일련번호'])\n",
    "att.info()"
   ]
  },
  {
   "cell_type": "code",
   "execution_count": 22,
   "metadata": {},
   "outputs": [
    {
     "data": {
      "text/html": [
       "<div>\n",
       "<style scoped>\n",
       "    .dataframe tbody tr th:only-of-type {\n",
       "        vertical-align: middle;\n",
       "    }\n",
       "\n",
       "    .dataframe tbody tr th {\n",
       "        vertical-align: top;\n",
       "    }\n",
       "\n",
       "    .dataframe thead th {\n",
       "        text-align: right;\n",
       "    }\n",
       "</style>\n",
       "<table border=\"1\" class=\"dataframe\">\n",
       "  <thead>\n",
       "    <tr style=\"text-align: right;\">\n",
       "      <th></th>\n",
       "      <th>차대번호</th>\n",
       "      <th>저감장치구분</th>\n",
       "      <th>장치일련번호</th>\n",
       "    </tr>\n",
       "  </thead>\n",
       "  <tbody>\n",
       "    <tr>\n",
       "      <th>810772</th>\n",
       "      <td>KNHMB76136S060237</td>\n",
       "      <td>1종</td>\n",
       "      <td>D2000196</td>\n",
       "    </tr>\n",
       "    <tr>\n",
       "      <th>810773</th>\n",
       "      <td>KMHWP81HP4U600383</td>\n",
       "      <td>1종</td>\n",
       "      <td>JL10024</td>\n",
       "    </tr>\n",
       "    <tr>\n",
       "      <th>810774</th>\n",
       "      <td>KMHSH81WP7U170166</td>\n",
       "      <td>1종</td>\n",
       "      <td>JL10030</td>\n",
       "    </tr>\n",
       "    <tr>\n",
       "      <th>810775</th>\n",
       "      <td>KMHSD81VP4U844689</td>\n",
       "      <td>1종</td>\n",
       "      <td>D2000363</td>\n",
       "    </tr>\n",
       "    <tr>\n",
       "      <th>810776</th>\n",
       "      <td>KNAJC52437A713806</td>\n",
       "      <td>1종</td>\n",
       "      <td>D2000106</td>\n",
       "    </tr>\n",
       "  </tbody>\n",
       "</table>\n",
       "</div>"
      ],
      "text/plain": [
       "                     차대번호 저감장치구분    장치일련번호\n",
       "810772  KNHMB76136S060237     1종  D2000196\n",
       "810773  KMHWP81HP4U600383     1종   JL10024\n",
       "810774  KMHSH81WP7U170166     1종   JL10030\n",
       "810775  KMHSD81VP4U844689     1종  D2000363\n",
       "810776  KNAJC52437A713806     1종  D2000106"
      ]
     },
     "execution_count": 22,
     "metadata": {},
     "output_type": "execute_result"
    }
   ],
   "source": [
    "att.tail()"
   ]
  },
  {
   "attachments": {},
   "cell_type": "markdown",
   "metadata": {},
   "source": [
    "## 저감장치 인증등록번호(eff)"
   ]
  },
  {
   "cell_type": "code",
   "execution_count": 1597,
   "metadata": {},
   "outputs": [
    {
     "name": "stdout",
     "output_type": "stream",
     "text": [
      "<class 'pandas.core.frame.DataFrame'>\n",
      "RangeIndex: 111071 entries, 0 to 111070\n",
      "Data columns (total 6 columns):\n",
      " #   Column    Non-Null Count   Dtype  \n",
      "---  ------    --------------   -----  \n",
      " 0   저감장치      111071 non-null  object \n",
      " 1   배출가스인증번호  111071 non-null  object \n",
      " 2   장치일련번호    111071 non-null  object \n",
      " 3   장치인증번호    303 non-null     object \n",
      " 4   장치구분      261 non-null     object \n",
      " 5   저감효율      303 non-null     float64\n",
      "dtypes: float64(1), object(5)\n",
      "memory usage: 5.1+ MB\n"
     ]
    }
   ],
   "source": [
    "# about 2.3s\n",
    "name = '저감장치_효율(2022.12.28)'\n",
    "file_name = f'{name}.csv'\n",
    "# att = pd.read_csv(os.path.join(ods_fold, file_name), low_memory=False, encoding='cp949', nrows=5)\n",
    "eff = pd.read_csv(os.path.join(ods_fold, file_name), low_memory=False, encoding='cp949')\n",
    "eff.info()"
   ]
  },
  {
   "cell_type": "code",
   "execution_count": 1598,
   "metadata": {},
   "outputs": [
    {
     "data": {
      "text/html": [
       "<div>\n",
       "<style scoped>\n",
       "    .dataframe tbody tr th:only-of-type {\n",
       "        vertical-align: middle;\n",
       "    }\n",
       "\n",
       "    .dataframe tbody tr th {\n",
       "        vertical-align: top;\n",
       "    }\n",
       "\n",
       "    .dataframe thead th {\n",
       "        text-align: right;\n",
       "    }\n",
       "</style>\n",
       "<table border=\"1\" class=\"dataframe\">\n",
       "  <thead>\n",
       "    <tr style=\"text-align: right;\">\n",
       "      <th></th>\n",
       "      <th>저감장치</th>\n",
       "      <th>배출가스인증번호</th>\n",
       "      <th>장치일련번호</th>\n",
       "      <th>장치인증번호</th>\n",
       "      <th>장치구분</th>\n",
       "      <th>저감효율</th>\n",
       "    </tr>\n",
       "  </thead>\n",
       "  <tbody>\n",
       "    <tr>\n",
       "      <th>742</th>\n",
       "      <td>DPF</td>\n",
       "      <td>2MY-HD-07</td>\n",
       "      <td>2024</td>\n",
       "      <td>FF1-HK-01</td>\n",
       "      <td>복합대형</td>\n",
       "      <td>95.20000</td>\n",
       "    </tr>\n",
       "    <tr>\n",
       "      <th>6936</th>\n",
       "      <td>DPF</td>\n",
       "      <td>3MY-HD-06</td>\n",
       "      <td>1050</td>\n",
       "      <td>BF1-IJ-01</td>\n",
       "      <td>복합소형</td>\n",
       "      <td>98.20000</td>\n",
       "    </tr>\n",
       "    <tr>\n",
       "      <th>6937</th>\n",
       "      <td>DPF</td>\n",
       "      <td>3MY-HD-06</td>\n",
       "      <td>1069</td>\n",
       "      <td>CF1-FT-01</td>\n",
       "      <td>복합소형</td>\n",
       "      <td>98.80000</td>\n",
       "    </tr>\n",
       "    <tr>\n",
       "      <th>6938</th>\n",
       "      <td>DPF</td>\n",
       "      <td>3MY-HD-06</td>\n",
       "      <td>1515</td>\n",
       "      <td>7F1-CE-01</td>\n",
       "      <td>복합중형</td>\n",
       "      <td>92.00000</td>\n",
       "    </tr>\n",
       "    <tr>\n",
       "      <th>6939</th>\n",
       "      <td>DPF</td>\n",
       "      <td>3MY-HD-06</td>\n",
       "      <td>1526</td>\n",
       "      <td>BF1-IJ-01</td>\n",
       "      <td>복합소형</td>\n",
       "      <td>98.20000</td>\n",
       "    </tr>\n",
       "  </tbody>\n",
       "</table>\n",
       "</div>"
      ],
      "text/plain": [
       "     저감장치   배출가스인증번호 장치일련번호     장치인증번호  장치구분     저감효율\n",
       "742   DPF  2MY-HD-07   2024  FF1-HK-01  복합대형 95.20000\n",
       "6936  DPF  3MY-HD-06   1050  BF1-IJ-01  복합소형 98.20000\n",
       "6937  DPF  3MY-HD-06   1069  CF1-FT-01  복합소형 98.80000\n",
       "6938  DPF  3MY-HD-06   1515  7F1-CE-01  복합중형 92.00000\n",
       "6939  DPF  3MY-HD-06   1526  BF1-IJ-01  복합소형 98.20000"
      ]
     },
     "execution_count": 1598,
     "metadata": {},
     "output_type": "execute_result"
    }
   ],
   "source": [
    "eff.loc[eff['장치인증번호'].isnull() == False].head()"
   ]
  },
  {
   "attachments": {},
   "cell_type": "markdown",
   "metadata": {},
   "source": [
    "## 4, 5 등급 일일평균주행거리"
   ]
  },
  {
   "cell_type": "code",
   "execution_count": 1563,
   "metadata": {},
   "outputs": [
    {
     "name": "stdout",
     "output_type": "stream",
     "text": [
      "<class 'pandas.core.frame.DataFrame'>\n",
      "RangeIndex: 2009568 entries, 0 to 2009567\n",
      "Data columns (total 8 columns):\n",
      " #   Column  Dtype  \n",
      "---  ------  -----  \n",
      " 0   차량등록번호  object \n",
      " 1   차대번호    object \n",
      " 2   최초등록일자  int64  \n",
      " 3   최근검사일자  object \n",
      " 4   최근주행거리  int64  \n",
      " 5   이전주행거리  int64  \n",
      " 6   경과일     int64  \n",
      " 7   일일주행거리  float64\n",
      "dtypes: float64(1), int64(4), object(3)\n",
      "memory usage: 122.7+ MB\n"
     ]
    }
   ],
   "source": [
    "# 6.6s\n",
    "name = '차대번호별 일일평균주행거리(최초등록일자 추가본)_20221231기준_r1'\n",
    "file_name = f'{name}.csv'\n",
    "chk = pd.read_csv(os.path.join(raw_fold, file_name), low_memory=False, encoding='cp949')\n",
    "chk.info()"
   ]
  },
  {
   "cell_type": "code",
   "execution_count": 1564,
   "metadata": {},
   "outputs": [
    {
     "data": {
      "text/plain": [
       "((2009568, 8), 2009566)"
      ]
     },
     "execution_count": 1564,
     "metadata": {},
     "output_type": "execute_result"
    }
   ],
   "source": [
    "chk.shape, len(chk['차대번호'].unique())"
   ]
  },
  {
   "cell_type": "code",
   "execution_count": 1565,
   "metadata": {},
   "outputs": [
    {
     "data": {
      "text/html": [
       "<div>\n",
       "<style scoped>\n",
       "    .dataframe tbody tr th:only-of-type {\n",
       "        vertical-align: middle;\n",
       "    }\n",
       "\n",
       "    .dataframe tbody tr th {\n",
       "        vertical-align: top;\n",
       "    }\n",
       "\n",
       "    .dataframe thead th {\n",
       "        text-align: right;\n",
       "    }\n",
       "</style>\n",
       "<table border=\"1\" class=\"dataframe\">\n",
       "  <thead>\n",
       "    <tr style=\"text-align: right;\">\n",
       "      <th></th>\n",
       "      <th>차량등록번호</th>\n",
       "      <th>차대번호</th>\n",
       "      <th>최초등록일자</th>\n",
       "      <th>최근검사일자</th>\n",
       "      <th>최근주행거리</th>\n",
       "      <th>이전주행거리</th>\n",
       "      <th>경과일</th>\n",
       "      <th>일일주행거리</th>\n",
       "    </tr>\n",
       "  </thead>\n",
       "  <tbody>\n",
       "    <tr>\n",
       "      <th>1747556</th>\n",
       "      <td>경북82구5918</td>\n",
       "      <td>KMFXKS7BPXU248353</td>\n",
       "      <td>19981230</td>\n",
       "      <td>2022-12-31 00:00:00</td>\n",
       "      <td>200435</td>\n",
       "      <td>198074</td>\n",
       "      <td>367</td>\n",
       "      <td>6.43324</td>\n",
       "    </tr>\n",
       "    <tr>\n",
       "      <th>671280</th>\n",
       "      <td>53머8002</td>\n",
       "      <td>KMHSJ81UBBU661776</td>\n",
       "      <td>20101209</td>\n",
       "      <td>2022-12-31 00:00:00</td>\n",
       "      <td>98698</td>\n",
       "      <td>88396</td>\n",
       "      <td>722</td>\n",
       "      <td>14.26870</td>\n",
       "    </tr>\n",
       "    <tr>\n",
       "      <th>1792370</th>\n",
       "      <td>87부1888</td>\n",
       "      <td>KNFSWX74CBK601727</td>\n",
       "      <td>20110722</td>\n",
       "      <td>2022-12-31 00:00:00</td>\n",
       "      <td>75500</td>\n",
       "      <td>75064</td>\n",
       "      <td>16</td>\n",
       "      <td>27.25000</td>\n",
       "    </tr>\n",
       "    <tr>\n",
       "      <th>452716</th>\n",
       "      <td>04우9697</td>\n",
       "      <td>KMHJN81VP6U400364</td>\n",
       "      <td>20060310</td>\n",
       "      <td>2022-12-31 00:00:00</td>\n",
       "      <td>220693</td>\n",
       "      <td>220672</td>\n",
       "      <td>2</td>\n",
       "      <td>10.50000</td>\n",
       "    </tr>\n",
       "    <tr>\n",
       "      <th>1597289</th>\n",
       "      <td>96저2315</td>\n",
       "      <td>KMFZCS7HP7U260898</td>\n",
       "      <td>20061218</td>\n",
       "      <td>2022-12-31 00:00:00</td>\n",
       "      <td>131699</td>\n",
       "      <td>130589</td>\n",
       "      <td>357</td>\n",
       "      <td>3.10924</td>\n",
       "    </tr>\n",
       "  </tbody>\n",
       "</table>\n",
       "</div>"
      ],
      "text/plain": [
       "            차량등록번호               차대번호    최초등록일자               최근검사일자  최근주행거리   \n",
       "1747556  경북82구5918  KMFXKS7BPXU248353  19981230  2022-12-31 00:00:00  200435  \\\n",
       "671280     53머8002  KMHSJ81UBBU661776  20101209  2022-12-31 00:00:00   98698   \n",
       "1792370    87부1888  KNFSWX74CBK601727  20110722  2022-12-31 00:00:00   75500   \n",
       "452716     04우9697  KMHJN81VP6U400364  20060310  2022-12-31 00:00:00  220693   \n",
       "1597289    96저2315  KMFZCS7HP7U260898  20061218  2022-12-31 00:00:00  131699   \n",
       "\n",
       "         이전주행거리  경과일   일일주행거리  \n",
       "1747556  198074  367  6.43324  \n",
       "671280    88396  722 14.26870  \n",
       "1792370   75064   16 27.25000  \n",
       "452716   220672    2 10.50000  \n",
       "1597289  130589  357  3.10924  "
      ]
     },
     "execution_count": 1565,
     "metadata": {},
     "output_type": "execute_result"
    }
   ],
   "source": [
    "chk.sort_values('최근검사일자', ascending=False).head()"
   ]
  },
  {
   "cell_type": "code",
   "execution_count": 1566,
   "metadata": {},
   "outputs": [
    {
     "data": {
      "text/html": [
       "<div>\n",
       "<style scoped>\n",
       "    .dataframe tbody tr th:only-of-type {\n",
       "        vertical-align: middle;\n",
       "    }\n",
       "\n",
       "    .dataframe tbody tr th {\n",
       "        vertical-align: top;\n",
       "    }\n",
       "\n",
       "    .dataframe thead th {\n",
       "        text-align: right;\n",
       "    }\n",
       "</style>\n",
       "<table border=\"1\" class=\"dataframe\">\n",
       "  <thead>\n",
       "    <tr style=\"text-align: right;\">\n",
       "      <th></th>\n",
       "      <th>차량등록번호</th>\n",
       "      <th>차대번호</th>\n",
       "      <th>최초등록일자</th>\n",
       "      <th>최근검사일자</th>\n",
       "      <th>최근주행거리</th>\n",
       "      <th>이전주행거리</th>\n",
       "      <th>경과일</th>\n",
       "      <th>일일주행거리</th>\n",
       "    </tr>\n",
       "  </thead>\n",
       "  <tbody>\n",
       "    <tr>\n",
       "      <th>0</th>\n",
       "      <td>경북82구5918</td>\n",
       "      <td>KMFXKS7BPXU248353</td>\n",
       "      <td>19981230</td>\n",
       "      <td>2022-12-31 00:00:00</td>\n",
       "      <td>200435</td>\n",
       "      <td>198074</td>\n",
       "      <td>367</td>\n",
       "      <td>6.43324</td>\n",
       "    </tr>\n",
       "    <tr>\n",
       "      <th>1</th>\n",
       "      <td>53머8002</td>\n",
       "      <td>KMHSJ81UBBU661776</td>\n",
       "      <td>20101209</td>\n",
       "      <td>2022-12-31 00:00:00</td>\n",
       "      <td>98698</td>\n",
       "      <td>88396</td>\n",
       "      <td>722</td>\n",
       "      <td>14.26870</td>\n",
       "    </tr>\n",
       "    <tr>\n",
       "      <th>2</th>\n",
       "      <td>87부1888</td>\n",
       "      <td>KNFSWX74CBK601727</td>\n",
       "      <td>20110722</td>\n",
       "      <td>2022-12-31 00:00:00</td>\n",
       "      <td>75500</td>\n",
       "      <td>75064</td>\n",
       "      <td>16</td>\n",
       "      <td>27.25000</td>\n",
       "    </tr>\n",
       "    <tr>\n",
       "      <th>3</th>\n",
       "      <td>04우9697</td>\n",
       "      <td>KMHJN81VP6U400364</td>\n",
       "      <td>20060310</td>\n",
       "      <td>2022-12-31 00:00:00</td>\n",
       "      <td>220693</td>\n",
       "      <td>220672</td>\n",
       "      <td>2</td>\n",
       "      <td>10.50000</td>\n",
       "    </tr>\n",
       "    <tr>\n",
       "      <th>4</th>\n",
       "      <td>96저2315</td>\n",
       "      <td>KMFZCS7HP7U260898</td>\n",
       "      <td>20061218</td>\n",
       "      <td>2022-12-31 00:00:00</td>\n",
       "      <td>131699</td>\n",
       "      <td>130589</td>\n",
       "      <td>357</td>\n",
       "      <td>3.10924</td>\n",
       "    </tr>\n",
       "  </tbody>\n",
       "</table>\n",
       "</div>"
      ],
      "text/plain": [
       "      차량등록번호               차대번호    최초등록일자               최근검사일자  최근주행거리   \n",
       "0  경북82구5918  KMFXKS7BPXU248353  19981230  2022-12-31 00:00:00  200435  \\\n",
       "1    53머8002  KMHSJ81UBBU661776  20101209  2022-12-31 00:00:00   98698   \n",
       "2    87부1888  KNFSWX74CBK601727  20110722  2022-12-31 00:00:00   75500   \n",
       "3    04우9697  KMHJN81VP6U400364  20060310  2022-12-31 00:00:00  220693   \n",
       "4    96저2315  KMFZCS7HP7U260898  20061218  2022-12-31 00:00:00  131699   \n",
       "\n",
       "   이전주행거리  경과일   일일주행거리  \n",
       "0  198074  367  6.43324  \n",
       "1   88396  722 14.26870  \n",
       "2   75064   16 27.25000  \n",
       "3  220672    2 10.50000  \n",
       "4  130589  357  3.10924  "
      ]
     },
     "execution_count": 1566,
     "metadata": {},
     "output_type": "execute_result"
    }
   ],
   "source": [
    "chk = chk.sort_values('최근검사일자', ascending=False).drop_duplicates('차대번호').reset_index(drop=True)\n",
    "chk.head()"
   ]
  },
  {
   "cell_type": "code",
   "execution_count": 1567,
   "metadata": {},
   "outputs": [
    {
     "data": {
      "text/plain": [
       "((2009566, 8), 2009566)"
      ]
     },
     "execution_count": 1567,
     "metadata": {},
     "output_type": "execute_result"
    }
   ],
   "source": [
    "chk.shape, len(chk['차대번호'].unique())"
   ]
  },
  {
   "cell_type": "code",
   "execution_count": 1568,
   "metadata": {},
   "outputs": [
    {
     "data": {
      "text/plain": [
       "Index(['차량등록번호', '차대번호', '최초등록일자', '최근검사일자', '최근주행거리', '이전주행거리', '경과일',\n",
       "       '일일주행거리'],\n",
       "      dtype='object')"
      ]
     },
     "execution_count": 1568,
     "metadata": {},
     "output_type": "execute_result"
    }
   ],
   "source": [
    "chk.columns"
   ]
  },
  {
   "cell_type": "code",
   "execution_count": 1569,
   "metadata": {},
   "outputs": [
    {
     "data": {
      "text/html": [
       "<div>\n",
       "<style scoped>\n",
       "    .dataframe tbody tr th:only-of-type {\n",
       "        vertical-align: middle;\n",
       "    }\n",
       "\n",
       "    .dataframe tbody tr th {\n",
       "        vertical-align: top;\n",
       "    }\n",
       "\n",
       "    .dataframe thead th {\n",
       "        text-align: right;\n",
       "    }\n",
       "</style>\n",
       "<table border=\"1\" class=\"dataframe\">\n",
       "  <thead>\n",
       "    <tr style=\"text-align: right;\">\n",
       "      <th></th>\n",
       "      <th>차량등록번호</th>\n",
       "      <th>차대번호</th>\n",
       "      <th>최초등록일자</th>\n",
       "      <th>최근검사일자</th>\n",
       "      <th>최근주행거리</th>\n",
       "      <th>이전주행거리</th>\n",
       "      <th>경과일</th>\n",
       "      <th>일일주행거리</th>\n",
       "    </tr>\n",
       "  </thead>\n",
       "  <tbody>\n",
       "    <tr>\n",
       "      <th>0</th>\n",
       "      <td>경북82구5918</td>\n",
       "      <td>KMFXKS7BPXU248353</td>\n",
       "      <td>19981230</td>\n",
       "      <td>2022-12-31 00:00:00</td>\n",
       "      <td>200435</td>\n",
       "      <td>198074</td>\n",
       "      <td>367</td>\n",
       "      <td>6.43324</td>\n",
       "    </tr>\n",
       "    <tr>\n",
       "      <th>1</th>\n",
       "      <td>53머8002</td>\n",
       "      <td>KMHSJ81UBBU661776</td>\n",
       "      <td>20101209</td>\n",
       "      <td>2022-12-31 00:00:00</td>\n",
       "      <td>98698</td>\n",
       "      <td>88396</td>\n",
       "      <td>722</td>\n",
       "      <td>14.26870</td>\n",
       "    </tr>\n",
       "    <tr>\n",
       "      <th>2</th>\n",
       "      <td>87부1888</td>\n",
       "      <td>KNFSWX74CBK601727</td>\n",
       "      <td>20110722</td>\n",
       "      <td>2022-12-31 00:00:00</td>\n",
       "      <td>75500</td>\n",
       "      <td>75064</td>\n",
       "      <td>16</td>\n",
       "      <td>27.25000</td>\n",
       "    </tr>\n",
       "    <tr>\n",
       "      <th>3</th>\n",
       "      <td>04우9697</td>\n",
       "      <td>KMHJN81VP6U400364</td>\n",
       "      <td>20060310</td>\n",
       "      <td>2022-12-31 00:00:00</td>\n",
       "      <td>220693</td>\n",
       "      <td>220672</td>\n",
       "      <td>2</td>\n",
       "      <td>10.50000</td>\n",
       "    </tr>\n",
       "    <tr>\n",
       "      <th>4</th>\n",
       "      <td>96저2315</td>\n",
       "      <td>KMFZCS7HP7U260898</td>\n",
       "      <td>20061218</td>\n",
       "      <td>2022-12-31 00:00:00</td>\n",
       "      <td>131699</td>\n",
       "      <td>130589</td>\n",
       "      <td>357</td>\n",
       "      <td>3.10924</td>\n",
       "    </tr>\n",
       "  </tbody>\n",
       "</table>\n",
       "</div>"
      ],
      "text/plain": [
       "      차량등록번호               차대번호    최초등록일자               최근검사일자  최근주행거리   \n",
       "0  경북82구5918  KMFXKS7BPXU248353  19981230  2022-12-31 00:00:00  200435  \\\n",
       "1    53머8002  KMHSJ81UBBU661776  20101209  2022-12-31 00:00:00   98698   \n",
       "2    87부1888  KNFSWX74CBK601727  20110722  2022-12-31 00:00:00   75500   \n",
       "3    04우9697  KMHJN81VP6U400364  20060310  2022-12-31 00:00:00  220693   \n",
       "4    96저2315  KMFZCS7HP7U260898  20061218  2022-12-31 00:00:00  131699   \n",
       "\n",
       "   이전주행거리  경과일   일일주행거리  \n",
       "0  198074  367  6.43324  \n",
       "1   88396  722 14.26870  \n",
       "2   75064   16 27.25000  \n",
       "3  220672    2 10.50000  \n",
       "4  130589  357  3.10924  "
      ]
     },
     "execution_count": 1569,
     "metadata": {},
     "output_type": "execute_result"
    }
   ],
   "source": [
    "chk.head()"
   ]
  },
  {
   "cell_type": "code",
   "execution_count": 1570,
   "metadata": {},
   "outputs": [
    {
     "data": {
      "text/plain": [
       "최초등록일자    0\n",
       "최근검사일자    0\n",
       "최근주행거리    0\n",
       "dtype: int64"
      ]
     },
     "execution_count": 1570,
     "metadata": {},
     "output_type": "execute_result"
    }
   ],
   "source": [
    "chk[['최초등록일자', '최근검사일자', '최근주행거리']].isnull().sum()"
   ]
  },
  {
   "cell_type": "code",
   "execution_count": 1571,
   "metadata": {},
   "outputs": [],
   "source": [
    "chk['최초등록일자'] = chk['최초등록일자'].astype('str')"
   ]
  },
  {
   "cell_type": "code",
   "execution_count": 1572,
   "metadata": {},
   "outputs": [
    {
     "data": {
      "text/plain": [
       "0   1998-12-30\n",
       "1   2010-12-09\n",
       "2   2011-07-22\n",
       "3   2006-03-10\n",
       "4   2006-12-18\n",
       "Name: 최초등록일자수정, dtype: datetime64[ns]"
      ]
     },
     "execution_count": 1572,
     "metadata": {},
     "output_type": "execute_result"
    }
   ],
   "source": [
    "chk['최초등록일자_년'] = chk['최초등록일자'].str[:4]\n",
    "chk['최초등록일자_월'] = chk['최초등록일자'].str[4:6]\n",
    "chk['최초등록일자_일'] = chk['최초등록일자'].str[6:8]\n",
    "chk['최초등록일자수정'] = chk['최초등록일자_년'] + '-' + chk['최초등록일자_월'] + '-' + chk['최초등록일자_일']\n",
    "chk['최초등록일자수정'] = pd.to_datetime(chk['최초등록일자수정'])\n",
    "chk['최초등록일자수정'].head()"
   ]
  },
  {
   "cell_type": "code",
   "execution_count": 1573,
   "metadata": {},
   "outputs": [],
   "source": [
    "chk['최근검사일자'] = chk['최근검사일자'].astype('str')"
   ]
  },
  {
   "cell_type": "code",
   "execution_count": 1574,
   "metadata": {},
   "outputs": [
    {
     "data": {
      "text/plain": [
       "0   2022-12-31\n",
       "1   2022-12-31\n",
       "2   2022-12-31\n",
       "3   2022-12-31\n",
       "4   2022-12-31\n",
       "Name: 최근검사일자수정, dtype: datetime64[ns]"
      ]
     },
     "execution_count": 1574,
     "metadata": {},
     "output_type": "execute_result"
    }
   ],
   "source": [
    "# 8.4s\n",
    "chk['최근검사일자수정'] = chk['최근검사일자'].str.split(' ').str[0]\n",
    "chk['최근검사일자수정'] = pd.to_datetime(chk['최근검사일자수정'])\n",
    "chk['최근검사일자수정'].head()"
   ]
  },
  {
   "cell_type": "code",
   "execution_count": 1575,
   "metadata": {},
   "outputs": [
    {
     "data": {
      "text/plain": [
       "0   8767 days\n",
       "1   4405 days\n",
       "2   4180 days\n",
       "3   6140 days\n",
       "4   5857 days\n",
       "Name: 등록일기준검사일, dtype: timedelta64[ns]"
      ]
     },
     "execution_count": 1575,
     "metadata": {},
     "output_type": "execute_result"
    }
   ],
   "source": [
    "chk['등록일기준검사일'] = chk['최근검사일자수정'] - chk['최초등록일자수정']\n",
    "chk['등록일기준검사일'].head()"
   ]
  },
  {
   "cell_type": "code",
   "execution_count": 1576,
   "metadata": {},
   "outputs": [
    {
     "data": {
      "text/plain": [
       "0    8767 days\n",
       "1    4405 days\n",
       "2    4180 days\n",
       "3    6140 days\n",
       "4    5857 days\n",
       "Name: 등록일기준검사일, dtype: object"
      ]
     },
     "execution_count": 1576,
     "metadata": {},
     "output_type": "execute_result"
    }
   ],
   "source": [
    "# 26.1s\n",
    "chk['등록일기준검사일'] = chk['등록일기준검사일'].astype('str')\n",
    "chk['등록일기준검사일'].head()"
   ]
  },
  {
   "cell_type": "code",
   "execution_count": 1577,
   "metadata": {},
   "outputs": [
    {
     "data": {
      "text/plain": [
       "0    8767\n",
       "1    4405\n",
       "2    4180\n",
       "3    6140\n",
       "4    5857\n",
       "Name: 등록일기준검사일, dtype: object"
      ]
     },
     "execution_count": 1577,
     "metadata": {},
     "output_type": "execute_result"
    }
   ],
   "source": [
    "# 6.1s\n",
    "chk['등록일기준검사일'] = chk['등록일기준검사일'].str.split(' ').str[0]\n",
    "chk['등록일기준검사일'].head()"
   ]
  },
  {
   "cell_type": "code",
   "execution_count": 1578,
   "metadata": {},
   "outputs": [
    {
     "data": {
      "text/plain": [
       "0    8767\n",
       "1    4405\n",
       "2    4180\n",
       "3    6140\n",
       "4    5857\n",
       "Name: 등록일기준검사일, dtype: int32"
      ]
     },
     "execution_count": 1578,
     "metadata": {},
     "output_type": "execute_result"
    }
   ],
   "source": [
    "chk['등록일기준검사일'] = chk['등록일기준검사일'].astype('int')\n",
    "chk['등록일기준검사일'].head()"
   ]
  },
  {
   "cell_type": "code",
   "execution_count": 1579,
   "metadata": {},
   "outputs": [
    {
     "data": {
      "text/plain": [
       "0   22.86244\n",
       "1   22.40590\n",
       "2   18.06220\n",
       "3   35.94349\n",
       "4   22.48574\n",
       "Name: 일일평균주행거리, dtype: float64"
      ]
     },
     "execution_count": 1579,
     "metadata": {},
     "output_type": "execute_result"
    }
   ],
   "source": [
    "chk['일일평균주행거리'] = chk['최근주행거리'] / chk['등록일기준검사일']\n",
    "chk['일일평균주행거리'].head()"
   ]
  },
  {
   "cell_type": "code",
   "execution_count": 1580,
   "metadata": {},
   "outputs": [
    {
     "data": {
      "text/plain": [
       "count   2009566.00000\n",
       "mean         41.55247\n",
       "std          77.91782\n",
       "min           0.00000\n",
       "25%          25.73761\n",
       "50%          36.66749\n",
       "75%          50.19146\n",
       "max      102073.36301\n",
       "Name: 일일평균주행거리, dtype: float64"
      ]
     },
     "execution_count": 1580,
     "metadata": {},
     "output_type": "execute_result"
    }
   ],
   "source": [
    "chk['일일평균주행거리'].describe()"
   ]
  },
  {
   "cell_type": "code",
   "execution_count": 1581,
   "metadata": {},
   "outputs": [
    {
     "data": {
      "text/plain": [
       "0"
      ]
     },
     "execution_count": 1581,
     "metadata": {},
     "output_type": "execute_result"
    }
   ],
   "source": [
    "chk['일일평균주행거리'].isnull().sum()"
   ]
  },
  {
   "cell_type": "code",
   "execution_count": 1582,
   "metadata": {},
   "outputs": [
    {
     "data": {
      "text/html": [
       "<div>\n",
       "<style scoped>\n",
       "    .dataframe tbody tr th:only-of-type {\n",
       "        vertical-align: middle;\n",
       "    }\n",
       "\n",
       "    .dataframe tbody tr th {\n",
       "        vertical-align: top;\n",
       "    }\n",
       "\n",
       "    .dataframe thead th {\n",
       "        text-align: right;\n",
       "    }\n",
       "</style>\n",
       "<table border=\"1\" class=\"dataframe\">\n",
       "  <thead>\n",
       "    <tr style=\"text-align: right;\">\n",
       "      <th></th>\n",
       "      <th>차량등록번호</th>\n",
       "      <th>차대번호</th>\n",
       "      <th>최초등록일자</th>\n",
       "      <th>최근검사일자</th>\n",
       "      <th>최근주행거리</th>\n",
       "      <th>이전주행거리</th>\n",
       "      <th>경과일</th>\n",
       "      <th>일일주행거리</th>\n",
       "      <th>최초등록일자_년</th>\n",
       "      <th>최초등록일자_월</th>\n",
       "      <th>최초등록일자_일</th>\n",
       "      <th>최초등록일자수정</th>\n",
       "      <th>최근검사일자수정</th>\n",
       "      <th>등록일기준검사일</th>\n",
       "      <th>일일평균주행거리</th>\n",
       "    </tr>\n",
       "  </thead>\n",
       "  <tbody>\n",
       "    <tr>\n",
       "      <th>0</th>\n",
       "      <td>경북82구5918</td>\n",
       "      <td>KMFXKS7BPXU248353</td>\n",
       "      <td>19981230</td>\n",
       "      <td>2022-12-31 00:00:00</td>\n",
       "      <td>200435</td>\n",
       "      <td>198074</td>\n",
       "      <td>367</td>\n",
       "      <td>6.43324</td>\n",
       "      <td>1998</td>\n",
       "      <td>12</td>\n",
       "      <td>30</td>\n",
       "      <td>1998-12-30</td>\n",
       "      <td>2022-12-31</td>\n",
       "      <td>8767</td>\n",
       "      <td>22.86244</td>\n",
       "    </tr>\n",
       "    <tr>\n",
       "      <th>1</th>\n",
       "      <td>53머8002</td>\n",
       "      <td>KMHSJ81UBBU661776</td>\n",
       "      <td>20101209</td>\n",
       "      <td>2022-12-31 00:00:00</td>\n",
       "      <td>98698</td>\n",
       "      <td>88396</td>\n",
       "      <td>722</td>\n",
       "      <td>14.26870</td>\n",
       "      <td>2010</td>\n",
       "      <td>12</td>\n",
       "      <td>09</td>\n",
       "      <td>2010-12-09</td>\n",
       "      <td>2022-12-31</td>\n",
       "      <td>4405</td>\n",
       "      <td>22.40590</td>\n",
       "    </tr>\n",
       "    <tr>\n",
       "      <th>2</th>\n",
       "      <td>87부1888</td>\n",
       "      <td>KNFSWX74CBK601727</td>\n",
       "      <td>20110722</td>\n",
       "      <td>2022-12-31 00:00:00</td>\n",
       "      <td>75500</td>\n",
       "      <td>75064</td>\n",
       "      <td>16</td>\n",
       "      <td>27.25000</td>\n",
       "      <td>2011</td>\n",
       "      <td>07</td>\n",
       "      <td>22</td>\n",
       "      <td>2011-07-22</td>\n",
       "      <td>2022-12-31</td>\n",
       "      <td>4180</td>\n",
       "      <td>18.06220</td>\n",
       "    </tr>\n",
       "    <tr>\n",
       "      <th>3</th>\n",
       "      <td>04우9697</td>\n",
       "      <td>KMHJN81VP6U400364</td>\n",
       "      <td>20060310</td>\n",
       "      <td>2022-12-31 00:00:00</td>\n",
       "      <td>220693</td>\n",
       "      <td>220672</td>\n",
       "      <td>2</td>\n",
       "      <td>10.50000</td>\n",
       "      <td>2006</td>\n",
       "      <td>03</td>\n",
       "      <td>10</td>\n",
       "      <td>2006-03-10</td>\n",
       "      <td>2022-12-31</td>\n",
       "      <td>6140</td>\n",
       "      <td>35.94349</td>\n",
       "    </tr>\n",
       "    <tr>\n",
       "      <th>4</th>\n",
       "      <td>96저2315</td>\n",
       "      <td>KMFZCS7HP7U260898</td>\n",
       "      <td>20061218</td>\n",
       "      <td>2022-12-31 00:00:00</td>\n",
       "      <td>131699</td>\n",
       "      <td>130589</td>\n",
       "      <td>357</td>\n",
       "      <td>3.10924</td>\n",
       "      <td>2006</td>\n",
       "      <td>12</td>\n",
       "      <td>18</td>\n",
       "      <td>2006-12-18</td>\n",
       "      <td>2022-12-31</td>\n",
       "      <td>5857</td>\n",
       "      <td>22.48574</td>\n",
       "    </tr>\n",
       "  </tbody>\n",
       "</table>\n",
       "</div>"
      ],
      "text/plain": [
       "      차량등록번호               차대번호    최초등록일자               최근검사일자  최근주행거리   \n",
       "0  경북82구5918  KMFXKS7BPXU248353  19981230  2022-12-31 00:00:00  200435  \\\n",
       "1    53머8002  KMHSJ81UBBU661776  20101209  2022-12-31 00:00:00   98698   \n",
       "2    87부1888  KNFSWX74CBK601727  20110722  2022-12-31 00:00:00   75500   \n",
       "3    04우9697  KMHJN81VP6U400364  20060310  2022-12-31 00:00:00  220693   \n",
       "4    96저2315  KMFZCS7HP7U260898  20061218  2022-12-31 00:00:00  131699   \n",
       "\n",
       "   이전주행거리  경과일   일일주행거리 최초등록일자_년 최초등록일자_월 최초등록일자_일   최초등록일자수정   최근검사일자수정   \n",
       "0  198074  367  6.43324     1998       12       30 1998-12-30 2022-12-31  \\\n",
       "1   88396  722 14.26870     2010       12       09 2010-12-09 2022-12-31   \n",
       "2   75064   16 27.25000     2011       07       22 2011-07-22 2022-12-31   \n",
       "3  220672    2 10.50000     2006       03       10 2006-03-10 2022-12-31   \n",
       "4  130589  357  3.10924     2006       12       18 2006-12-18 2022-12-31   \n",
       "\n",
       "   등록일기준검사일  일일평균주행거리  \n",
       "0      8767  22.86244  \n",
       "1      4405  22.40590  \n",
       "2      4180  18.06220  \n",
       "3      6140  35.94349  \n",
       "4      5857  22.48574  "
      ]
     },
     "execution_count": 1582,
     "metadata": {},
     "output_type": "execute_result"
    }
   ],
   "source": [
    "chk.head()"
   ]
  },
  {
   "cell_type": "code",
   "execution_count": 1583,
   "metadata": {},
   "outputs": [
    {
     "data": {
      "text/plain": [
       "'2023-06-16'"
      ]
     },
     "execution_count": 1583,
     "metadata": {},
     "output_type": "execute_result"
    }
   ],
   "source": [
    "today_date = datetime.today().strftime(\"%Y-%m-%d\")\n",
    "today_date"
   ]
  },
  {
   "cell_type": "code",
   "execution_count": 1584,
   "metadata": {},
   "outputs": [
    {
     "data": {
      "text/plain": [
       "0   2023-06-16\n",
       "1   2023-06-16\n",
       "2   2023-06-16\n",
       "3   2023-06-16\n",
       "4   2023-06-16\n",
       "Name: 현재일자, dtype: datetime64[ns]"
      ]
     },
     "execution_count": 1584,
     "metadata": {},
     "output_type": "execute_result"
    }
   ],
   "source": [
    "chk['현재일자'] = today_date\n",
    "chk['현재일자'] = pd.to_datetime(chk['현재일자'])\n",
    "chk['현재일자'].head()"
   ]
  },
  {
   "cell_type": "code",
   "execution_count": 1585,
   "metadata": {},
   "outputs": [
    {
     "data": {
      "text/plain": [
       "0   167 days\n",
       "1   167 days\n",
       "2   167 days\n",
       "3   167 days\n",
       "4   167 days\n",
       "Name: 최근검사경과일, dtype: timedelta64[ns]"
      ]
     },
     "execution_count": 1585,
     "metadata": {},
     "output_type": "execute_result"
    }
   ],
   "source": [
    "chk['최근검사경과일'] = chk['현재일자'] - chk['최근검사일자수정']\n",
    "chk['최근검사경과일'].head()"
   ]
  },
  {
   "cell_type": "code",
   "execution_count": 1586,
   "metadata": {},
   "outputs": [
    {
     "data": {
      "text/plain": [
       "0    167\n",
       "1    167\n",
       "2    167\n",
       "3    167\n",
       "4    167\n",
       "Name: 최근검사경과일, dtype: object"
      ]
     },
     "execution_count": 1586,
     "metadata": {},
     "output_type": "execute_result"
    }
   ],
   "source": [
    "# 33.6s\n",
    "chk['최근검사경과일'] = chk['최근검사경과일'].astype('str')\n",
    "chk['최근검사경과일'] = chk['최근검사경과일'].str.split(' ').str[0]\n",
    "chk['최근검사경과일'].head()"
   ]
  },
  {
   "cell_type": "code",
   "execution_count": 1587,
   "metadata": {},
   "outputs": [
    {
     "data": {
      "text/plain": [
       "0    167\n",
       "1    167\n",
       "2    167\n",
       "3    167\n",
       "4    167\n",
       "Name: 최근검사경과일, dtype: int32"
      ]
     },
     "execution_count": 1587,
     "metadata": {},
     "output_type": "execute_result"
    }
   ],
   "source": [
    "chk['최근검사경과일'] = chk['최근검사경과일'].astype('int')\n",
    "chk['최근검사경과일'].head()"
   ]
  },
  {
   "cell_type": "code",
   "execution_count": 1588,
   "metadata": {},
   "outputs": [
    {
     "data": {
      "text/plain": [
       "0"
      ]
     },
     "execution_count": 1588,
     "metadata": {},
     "output_type": "execute_result"
    }
   ],
   "source": [
    "chk['최근검사경과일'].isnull().sum()"
   ]
  },
  {
   "cell_type": "code",
   "execution_count": 1589,
   "metadata": {},
   "outputs": [
    {
     "data": {
      "text/plain": [
       "count   2009566.00000\n",
       "mean        669.50837\n",
       "std         773.44140\n",
       "min         167.00000\n",
       "25%         338.00000\n",
       "50%         475.00000\n",
       "75%         689.00000\n",
       "max        7676.00000\n",
       "Name: 최근검사경과일, dtype: float64"
      ]
     },
     "execution_count": 1589,
     "metadata": {},
     "output_type": "execute_result"
    }
   ],
   "source": [
    "chk['최근검사경과일'].describe()"
   ]
  },
  {
   "cell_type": "code",
   "execution_count": 1590,
   "metadata": {},
   "outputs": [
    {
     "data": {
      "text/html": [
       "<div>\n",
       "<style scoped>\n",
       "    .dataframe tbody tr th:only-of-type {\n",
       "        vertical-align: middle;\n",
       "    }\n",
       "\n",
       "    .dataframe tbody tr th {\n",
       "        vertical-align: top;\n",
       "    }\n",
       "\n",
       "    .dataframe thead th {\n",
       "        text-align: right;\n",
       "    }\n",
       "</style>\n",
       "<table border=\"1\" class=\"dataframe\">\n",
       "  <thead>\n",
       "    <tr style=\"text-align: right;\">\n",
       "      <th></th>\n",
       "      <th>차량등록번호</th>\n",
       "      <th>차대번호</th>\n",
       "      <th>최초등록일자</th>\n",
       "      <th>최근검사일자</th>\n",
       "      <th>최근주행거리</th>\n",
       "      <th>이전주행거리</th>\n",
       "      <th>경과일</th>\n",
       "      <th>일일주행거리</th>\n",
       "      <th>최초등록일자_년</th>\n",
       "      <th>최초등록일자_월</th>\n",
       "      <th>최초등록일자_일</th>\n",
       "      <th>최초등록일자수정</th>\n",
       "      <th>최근검사일자수정</th>\n",
       "      <th>등록일기준검사일</th>\n",
       "      <th>일일평균주행거리</th>\n",
       "      <th>현재일자</th>\n",
       "      <th>최근검사경과일</th>\n",
       "    </tr>\n",
       "  </thead>\n",
       "  <tbody>\n",
       "    <tr>\n",
       "      <th>0</th>\n",
       "      <td>경북82구5918</td>\n",
       "      <td>KMFXKS7BPXU248353</td>\n",
       "      <td>19981230</td>\n",
       "      <td>2022-12-31 00:00:00</td>\n",
       "      <td>200435</td>\n",
       "      <td>198074</td>\n",
       "      <td>367</td>\n",
       "      <td>6.43324</td>\n",
       "      <td>1998</td>\n",
       "      <td>12</td>\n",
       "      <td>30</td>\n",
       "      <td>1998-12-30</td>\n",
       "      <td>2022-12-31</td>\n",
       "      <td>8767</td>\n",
       "      <td>22.86244</td>\n",
       "      <td>2023-06-16</td>\n",
       "      <td>167</td>\n",
       "    </tr>\n",
       "    <tr>\n",
       "      <th>1</th>\n",
       "      <td>53머8002</td>\n",
       "      <td>KMHSJ81UBBU661776</td>\n",
       "      <td>20101209</td>\n",
       "      <td>2022-12-31 00:00:00</td>\n",
       "      <td>98698</td>\n",
       "      <td>88396</td>\n",
       "      <td>722</td>\n",
       "      <td>14.26870</td>\n",
       "      <td>2010</td>\n",
       "      <td>12</td>\n",
       "      <td>09</td>\n",
       "      <td>2010-12-09</td>\n",
       "      <td>2022-12-31</td>\n",
       "      <td>4405</td>\n",
       "      <td>22.40590</td>\n",
       "      <td>2023-06-16</td>\n",
       "      <td>167</td>\n",
       "    </tr>\n",
       "    <tr>\n",
       "      <th>2</th>\n",
       "      <td>87부1888</td>\n",
       "      <td>KNFSWX74CBK601727</td>\n",
       "      <td>20110722</td>\n",
       "      <td>2022-12-31 00:00:00</td>\n",
       "      <td>75500</td>\n",
       "      <td>75064</td>\n",
       "      <td>16</td>\n",
       "      <td>27.25000</td>\n",
       "      <td>2011</td>\n",
       "      <td>07</td>\n",
       "      <td>22</td>\n",
       "      <td>2011-07-22</td>\n",
       "      <td>2022-12-31</td>\n",
       "      <td>4180</td>\n",
       "      <td>18.06220</td>\n",
       "      <td>2023-06-16</td>\n",
       "      <td>167</td>\n",
       "    </tr>\n",
       "    <tr>\n",
       "      <th>3</th>\n",
       "      <td>04우9697</td>\n",
       "      <td>KMHJN81VP6U400364</td>\n",
       "      <td>20060310</td>\n",
       "      <td>2022-12-31 00:00:00</td>\n",
       "      <td>220693</td>\n",
       "      <td>220672</td>\n",
       "      <td>2</td>\n",
       "      <td>10.50000</td>\n",
       "      <td>2006</td>\n",
       "      <td>03</td>\n",
       "      <td>10</td>\n",
       "      <td>2006-03-10</td>\n",
       "      <td>2022-12-31</td>\n",
       "      <td>6140</td>\n",
       "      <td>35.94349</td>\n",
       "      <td>2023-06-16</td>\n",
       "      <td>167</td>\n",
       "    </tr>\n",
       "    <tr>\n",
       "      <th>4</th>\n",
       "      <td>96저2315</td>\n",
       "      <td>KMFZCS7HP7U260898</td>\n",
       "      <td>20061218</td>\n",
       "      <td>2022-12-31 00:00:00</td>\n",
       "      <td>131699</td>\n",
       "      <td>130589</td>\n",
       "      <td>357</td>\n",
       "      <td>3.10924</td>\n",
       "      <td>2006</td>\n",
       "      <td>12</td>\n",
       "      <td>18</td>\n",
       "      <td>2006-12-18</td>\n",
       "      <td>2022-12-31</td>\n",
       "      <td>5857</td>\n",
       "      <td>22.48574</td>\n",
       "      <td>2023-06-16</td>\n",
       "      <td>167</td>\n",
       "    </tr>\n",
       "  </tbody>\n",
       "</table>\n",
       "</div>"
      ],
      "text/plain": [
       "      차량등록번호               차대번호    최초등록일자               최근검사일자  최근주행거리   \n",
       "0  경북82구5918  KMFXKS7BPXU248353  19981230  2022-12-31 00:00:00  200435  \\\n",
       "1    53머8002  KMHSJ81UBBU661776  20101209  2022-12-31 00:00:00   98698   \n",
       "2    87부1888  KNFSWX74CBK601727  20110722  2022-12-31 00:00:00   75500   \n",
       "3    04우9697  KMHJN81VP6U400364  20060310  2022-12-31 00:00:00  220693   \n",
       "4    96저2315  KMFZCS7HP7U260898  20061218  2022-12-31 00:00:00  131699   \n",
       "\n",
       "   이전주행거리  경과일   일일주행거리 최초등록일자_년 최초등록일자_월 최초등록일자_일   최초등록일자수정   최근검사일자수정   \n",
       "0  198074  367  6.43324     1998       12       30 1998-12-30 2022-12-31  \\\n",
       "1   88396  722 14.26870     2010       12       09 2010-12-09 2022-12-31   \n",
       "2   75064   16 27.25000     2011       07       22 2011-07-22 2022-12-31   \n",
       "3  220672    2 10.50000     2006       03       10 2006-03-10 2022-12-31   \n",
       "4  130589  357  3.10924     2006       12       18 2006-12-18 2022-12-31   \n",
       "\n",
       "   등록일기준검사일  일일평균주행거리       현재일자  최근검사경과일  \n",
       "0      8767  22.86244 2023-06-16      167  \n",
       "1      4405  22.40590 2023-06-16      167  \n",
       "2      4180  18.06220 2023-06-16      167  \n",
       "3      6140  35.94349 2023-06-16      167  \n",
       "4      5857  22.48574 2023-06-16      167  "
      ]
     },
     "execution_count": 1590,
     "metadata": {},
     "output_type": "execute_result"
    }
   ],
   "source": [
    "chk.head()"
   ]
  },
  {
   "cell_type": "code",
   "execution_count": 1591,
   "metadata": {},
   "outputs": [
    {
     "data": {
      "text/plain": [
       "일일평균주행거리    0\n",
       "최근검사경과일     0\n",
       "dtype: int64"
      ]
     },
     "execution_count": 1591,
     "metadata": {},
     "output_type": "execute_result"
    }
   ],
   "source": [
    "chk[['일일평균주행거리', '최근검사경과일']].isnull().sum()"
   ]
  },
  {
   "cell_type": "code",
   "execution_count": 1592,
   "metadata": {},
   "outputs": [
    {
     "data": {
      "text/html": [
       "<div>\n",
       "<style scoped>\n",
       "    .dataframe tbody tr th:only-of-type {\n",
       "        vertical-align: middle;\n",
       "    }\n",
       "\n",
       "    .dataframe tbody tr th {\n",
       "        vertical-align: top;\n",
       "    }\n",
       "\n",
       "    .dataframe thead th {\n",
       "        text-align: right;\n",
       "    }\n",
       "</style>\n",
       "<table border=\"1\" class=\"dataframe\">\n",
       "  <thead>\n",
       "    <tr style=\"text-align: right;\">\n",
       "      <th></th>\n",
       "      <th>일일평균주행거리</th>\n",
       "      <th>최근검사경과일</th>\n",
       "    </tr>\n",
       "  </thead>\n",
       "  <tbody>\n",
       "    <tr>\n",
       "      <th>count</th>\n",
       "      <td>2009566.00000</td>\n",
       "      <td>2009566.00000</td>\n",
       "    </tr>\n",
       "    <tr>\n",
       "      <th>mean</th>\n",
       "      <td>41.55247</td>\n",
       "      <td>669.50837</td>\n",
       "    </tr>\n",
       "    <tr>\n",
       "      <th>std</th>\n",
       "      <td>77.91782</td>\n",
       "      <td>773.44140</td>\n",
       "    </tr>\n",
       "    <tr>\n",
       "      <th>min</th>\n",
       "      <td>0.00000</td>\n",
       "      <td>167.00000</td>\n",
       "    </tr>\n",
       "    <tr>\n",
       "      <th>25%</th>\n",
       "      <td>25.73761</td>\n",
       "      <td>338.00000</td>\n",
       "    </tr>\n",
       "    <tr>\n",
       "      <th>50%</th>\n",
       "      <td>36.66749</td>\n",
       "      <td>475.00000</td>\n",
       "    </tr>\n",
       "    <tr>\n",
       "      <th>75%</th>\n",
       "      <td>50.19146</td>\n",
       "      <td>689.00000</td>\n",
       "    </tr>\n",
       "    <tr>\n",
       "      <th>max</th>\n",
       "      <td>102073.36301</td>\n",
       "      <td>7676.00000</td>\n",
       "    </tr>\n",
       "  </tbody>\n",
       "</table>\n",
       "</div>"
      ],
      "text/plain": [
       "           일일평균주행거리       최근검사경과일\n",
       "count 2009566.00000 2009566.00000\n",
       "mean       41.55247     669.50837\n",
       "std        77.91782     773.44140\n",
       "min         0.00000     167.00000\n",
       "25%        25.73761     338.00000\n",
       "50%        36.66749     475.00000\n",
       "75%        50.19146     689.00000\n",
       "max    102073.36301    7676.00000"
      ]
     },
     "execution_count": 1592,
     "metadata": {},
     "output_type": "execute_result"
    }
   ],
   "source": [
    "chk[['일일평균주행거리', '최근검사경과일']].describe()"
   ]
  },
  {
   "cell_type": "code",
   "execution_count": 1593,
   "metadata": {},
   "outputs": [
    {
     "data": {
      "text/plain": [
       "(5, 17)"
      ]
     },
     "execution_count": 1593,
     "metadata": {},
     "output_type": "execute_result"
    }
   ],
   "source": [
    "chk[chk['일일평균주행거리'] > 2640].shape"
   ]
  },
  {
   "cell_type": "code",
   "execution_count": 1594,
   "metadata": {},
   "outputs": [
    {
     "data": {
      "text/plain": [
       "(413097, 17)"
      ]
     },
     "execution_count": 1594,
     "metadata": {},
     "output_type": "execute_result"
    }
   ],
   "source": [
    "chk[chk['최근검사경과일'] > 760].shape"
   ]
  },
  {
   "cell_type": "code",
   "execution_count": 1595,
   "metadata": {},
   "outputs": [
    {
     "data": {
      "text/plain": [
       "(2009566, 8)"
      ]
     },
     "execution_count": 1595,
     "metadata": {},
     "output_type": "execute_result"
    }
   ],
   "source": [
    "chkm = chk[['차대번호', '최초등록일자수정', '최근검사일자수정', '최근주행거리', '등록일기준검사일', '현재일자', '일일평균주행거리', '최근검사경과일']]\n",
    "chkm.shape"
   ]
  },
  {
   "cell_type": "code",
   "execution_count": 1596,
   "metadata": {},
   "outputs": [],
   "source": [
    "# \n",
    "chkm.to_csv(os.path.join(raw_fold, '일일평균주행거리_최초등록일자_최근검사일자_기준.csv'), index=False)"
   ]
  },
  {
   "attachments": {},
   "cell_type": "markdown",
   "metadata": {},
   "source": [
    "## 차명_연료_매칭"
   ]
  },
  {
   "cell_type": "code",
   "execution_count": 1468,
   "metadata": {},
   "outputs": [
    {
     "name": "stdout",
     "output_type": "stream",
     "text": [
      "<class 'pandas.core.frame.DataFrame'>\n",
      "RangeIndex: 216 entries, 0 to 215\n",
      "Data columns (total 2 columns):\n",
      " #   Column  Non-Null Count  Dtype \n",
      "---  ------  --------------  ----- \n",
      " 0   차명      216 non-null    object\n",
      " 1   연료      216 non-null    object\n",
      "dtypes: object(2)\n",
      "memory usage: 3.5+ KB\n"
     ]
    }
   ],
   "source": [
    "# about 0.6s\n",
    "name = '차명_연료_매칭_2023.03.03_AM.11.12.03'\n",
    "file_name = f'{name}.xlsx'\n",
    "fuel = pd.read_excel(os.path.join(big2_fold, file_name))\n",
    "fuel.info()"
   ]
  },
  {
   "attachments": {},
   "cell_type": "markdown",
   "metadata": {},
   "source": [
    "## 법정동 코드"
   ]
  },
  {
   "cell_type": "code",
   "execution_count": 1469,
   "metadata": {},
   "outputs": [
    {
     "name": "stdout",
     "output_type": "stream",
     "text": [
      "<class 'pandas.core.frame.DataFrame'>\n",
      "RangeIndex: 46342 entries, 0 to 46341\n",
      "Data columns (total 3 columns):\n",
      " #   Column  Non-Null Count  Dtype \n",
      "---  ------  --------------  ----- \n",
      " 0   법정동코드   46342 non-null  int64 \n",
      " 1   시도      46342 non-null  object\n",
      " 2   시구군     46319 non-null  object\n",
      "dtypes: int64(1), object(2)\n",
      "memory usage: 1.1+ MB\n"
     ]
    }
   ],
   "source": [
    "# about 5.6s\n",
    "name = '법정동코드_2022.10.14(수정2023.05.04)'\n",
    "file_name = f'{name}.xlsx'\n",
    "code = pd.read_excel(os.path.join(big2_fold, file_name), usecols=['법정동코드', '시도', '시구군'])\n",
    "code.info()"
   ]
  },
  {
   "cell_type": "code",
   "execution_count": 1470,
   "metadata": {},
   "outputs": [
    {
     "data": {
      "text/html": [
       "<div>\n",
       "<style scoped>\n",
       "    .dataframe tbody tr th:only-of-type {\n",
       "        vertical-align: middle;\n",
       "    }\n",
       "\n",
       "    .dataframe tbody tr th {\n",
       "        vertical-align: top;\n",
       "    }\n",
       "\n",
       "    .dataframe thead th {\n",
       "        text-align: right;\n",
       "    }\n",
       "</style>\n",
       "<table border=\"1\" class=\"dataframe\">\n",
       "  <thead>\n",
       "    <tr style=\"text-align: right;\">\n",
       "      <th></th>\n",
       "      <th>법정동코드</th>\n",
       "      <th>시도</th>\n",
       "      <th>시구군</th>\n",
       "    </tr>\n",
       "  </thead>\n",
       "  <tbody>\n",
       "    <tr>\n",
       "      <th>0</th>\n",
       "      <td>1100000000</td>\n",
       "      <td>서울특별시</td>\n",
       "      <td>NaN</td>\n",
       "    </tr>\n",
       "    <tr>\n",
       "      <th>1</th>\n",
       "      <td>1111000000</td>\n",
       "      <td>서울특별시</td>\n",
       "      <td>종로구</td>\n",
       "    </tr>\n",
       "    <tr>\n",
       "      <th>2</th>\n",
       "      <td>1111010100</td>\n",
       "      <td>서울특별시</td>\n",
       "      <td>종로구</td>\n",
       "    </tr>\n",
       "    <tr>\n",
       "      <th>3</th>\n",
       "      <td>1111010200</td>\n",
       "      <td>서울특별시</td>\n",
       "      <td>종로구</td>\n",
       "    </tr>\n",
       "    <tr>\n",
       "      <th>4</th>\n",
       "      <td>1111010300</td>\n",
       "      <td>서울특별시</td>\n",
       "      <td>종로구</td>\n",
       "    </tr>\n",
       "  </tbody>\n",
       "</table>\n",
       "</div>"
      ],
      "text/plain": [
       "        법정동코드     시도  시구군\n",
       "0  1100000000  서울특별시  NaN\n",
       "1  1111000000  서울특별시  종로구\n",
       "2  1111010100  서울특별시  종로구\n",
       "3  1111010200  서울특별시  종로구\n",
       "4  1111010300  서울특별시  종로구"
      ]
     },
     "execution_count": 1470,
     "metadata": {},
     "output_type": "execute_result"
    }
   ],
   "source": [
    "code.head()"
   ]
  },
  {
   "cell_type": "code",
   "execution_count": 1471,
   "metadata": {},
   "outputs": [
    {
     "data": {
      "text/html": [
       "<div>\n",
       "<style scoped>\n",
       "    .dataframe tbody tr th:only-of-type {\n",
       "        vertical-align: middle;\n",
       "    }\n",
       "\n",
       "    .dataframe tbody tr th {\n",
       "        vertical-align: top;\n",
       "    }\n",
       "\n",
       "    .dataframe thead th {\n",
       "        text-align: right;\n",
       "    }\n",
       "</style>\n",
       "<table border=\"1\" class=\"dataframe\">\n",
       "  <thead>\n",
       "    <tr style=\"text-align: right;\">\n",
       "      <th></th>\n",
       "      <th>본거지법정동코드</th>\n",
       "      <th>시도</th>\n",
       "      <th>시구군</th>\n",
       "    </tr>\n",
       "  </thead>\n",
       "  <tbody>\n",
       "    <tr>\n",
       "      <th>0</th>\n",
       "      <td>1100000000</td>\n",
       "      <td>서울특별시</td>\n",
       "      <td>NaN</td>\n",
       "    </tr>\n",
       "    <tr>\n",
       "      <th>1</th>\n",
       "      <td>1111000000</td>\n",
       "      <td>서울특별시</td>\n",
       "      <td>종로구</td>\n",
       "    </tr>\n",
       "    <tr>\n",
       "      <th>2</th>\n",
       "      <td>1111010100</td>\n",
       "      <td>서울특별시</td>\n",
       "      <td>종로구</td>\n",
       "    </tr>\n",
       "    <tr>\n",
       "      <th>3</th>\n",
       "      <td>1111010200</td>\n",
       "      <td>서울특별시</td>\n",
       "      <td>종로구</td>\n",
       "    </tr>\n",
       "    <tr>\n",
       "      <th>4</th>\n",
       "      <td>1111010300</td>\n",
       "      <td>서울특별시</td>\n",
       "      <td>종로구</td>\n",
       "    </tr>\n",
       "  </tbody>\n",
       "</table>\n",
       "</div>"
      ],
      "text/plain": [
       "     본거지법정동코드     시도  시구군\n",
       "0  1100000000  서울특별시  NaN\n",
       "1  1111000000  서울특별시  종로구\n",
       "2  1111010100  서울특별시  종로구\n",
       "3  1111010200  서울특별시  종로구\n",
       "4  1111010300  서울특별시  종로구"
      ]
     },
     "execution_count": 1471,
     "metadata": {},
     "output_type": "execute_result"
    }
   ],
   "source": [
    "code = code.rename(columns={'법정동코드':'본거지법정동코드'})\n",
    "code.head()"
   ]
  },
  {
   "attachments": {},
   "cell_type": "markdown",
   "metadata": {},
   "source": [
    "## 운행제한 건수 데이터"
   ]
  },
  {
   "cell_type": "code",
   "execution_count": 1472,
   "metadata": {},
   "outputs": [
    {
     "name": "stdout",
     "output_type": "stream",
     "text": [
      "<class 'pandas.core.frame.DataFrame'>\n",
      "RangeIndex: 731507 entries, 0 to 731506\n",
      "Data columns (total 7 columns):\n",
      " #   Column  Non-Null Count   Dtype  \n",
      "---  ------  --------------   -----  \n",
      " 0   VIN     731507 non-null  object \n",
      " 1   계절제_1차  37861 non-null   float64\n",
      " 2   계절제_2차  54788 non-null   float64\n",
      " 3   계절제_3차  68278 non-null   float64\n",
      " 4   비상시     94084 non-null   float64\n",
      " 5   상시      84185 non-null   float64\n",
      " 6   계절제_4차  29307 non-null   float64\n",
      "dtypes: float64(6), object(1)\n",
      "memory usage: 39.1+ MB\n"
     ]
    }
   ],
   "source": [
    "# 0.8s\n",
    "name = '차대번호별_적발(2023.06.13)'\n",
    "file_name = f'{name}.csv'\n",
    "lcnt = pd.read_csv(os.path.join(ods_fold, file_name), low_memory=False, encoding='cp949')\n",
    "lcnt.info()"
   ]
  },
  {
   "cell_type": "code",
   "execution_count": 1473,
   "metadata": {},
   "outputs": [
    {
     "data": {
      "text/plain": [
       "731507"
      ]
     },
     "execution_count": 1473,
     "metadata": {},
     "output_type": "execute_result"
    }
   ],
   "source": [
    "len(lcnt['VIN'].unique())"
   ]
  },
  {
   "cell_type": "code",
   "execution_count": 1474,
   "metadata": {},
   "outputs": [
    {
     "data": {
      "text/html": [
       "<div>\n",
       "<style scoped>\n",
       "    .dataframe tbody tr th:only-of-type {\n",
       "        vertical-align: middle;\n",
       "    }\n",
       "\n",
       "    .dataframe tbody tr th {\n",
       "        vertical-align: top;\n",
       "    }\n",
       "\n",
       "    .dataframe thead th {\n",
       "        text-align: right;\n",
       "    }\n",
       "</style>\n",
       "<table border=\"1\" class=\"dataframe\">\n",
       "  <thead>\n",
       "    <tr style=\"text-align: right;\">\n",
       "      <th></th>\n",
       "      <th>차대번호</th>\n",
       "      <th>계절제_1차</th>\n",
       "      <th>계절제_2차</th>\n",
       "      <th>계절제_3차</th>\n",
       "      <th>비상시</th>\n",
       "      <th>상시</th>\n",
       "      <th>계절제_4차</th>\n",
       "    </tr>\n",
       "  </thead>\n",
       "  <tbody>\n",
       "    <tr>\n",
       "      <th>0</th>\n",
       "      <td>KPBFA2AD14P100772</td>\n",
       "      <td>1.00000</td>\n",
       "      <td>NaN</td>\n",
       "      <td>NaN</td>\n",
       "      <td>1.00000</td>\n",
       "      <td>NaN</td>\n",
       "      <td>NaN</td>\n",
       "    </tr>\n",
       "    <tr>\n",
       "      <th>1</th>\n",
       "      <td>KMJWWH7JP5U656738</td>\n",
       "      <td>4.00000</td>\n",
       "      <td>2.00000</td>\n",
       "      <td>25.00000</td>\n",
       "      <td>3.00000</td>\n",
       "      <td>NaN</td>\n",
       "      <td>1.00000</td>\n",
       "    </tr>\n",
       "    <tr>\n",
       "      <th>2</th>\n",
       "      <td>KNAJC52136A532787</td>\n",
       "      <td>2.00000</td>\n",
       "      <td>NaN</td>\n",
       "      <td>NaN</td>\n",
       "      <td>1.00000</td>\n",
       "      <td>NaN</td>\n",
       "      <td>NaN</td>\n",
       "    </tr>\n",
       "    <tr>\n",
       "      <th>3</th>\n",
       "      <td>KMHSH81WP6U081899</td>\n",
       "      <td>4.00000</td>\n",
       "      <td>NaN</td>\n",
       "      <td>NaN</td>\n",
       "      <td>1.00000</td>\n",
       "      <td>NaN</td>\n",
       "      <td>NaN</td>\n",
       "    </tr>\n",
       "    <tr>\n",
       "      <th>4</th>\n",
       "      <td>KNAJE55186K143510</td>\n",
       "      <td>1.00000</td>\n",
       "      <td>NaN</td>\n",
       "      <td>NaN</td>\n",
       "      <td>1.00000</td>\n",
       "      <td>NaN</td>\n",
       "      <td>NaN</td>\n",
       "    </tr>\n",
       "  </tbody>\n",
       "</table>\n",
       "</div>"
      ],
      "text/plain": [
       "                차대번호  계절제_1차  계절제_2차   계절제_3차     비상시  상시  계절제_4차\n",
       "0  KPBFA2AD14P100772 1.00000     NaN      NaN 1.00000 NaN     NaN\n",
       "1  KMJWWH7JP5U656738 4.00000 2.00000 25.00000 3.00000 NaN 1.00000\n",
       "2  KNAJC52136A532787 2.00000     NaN      NaN 1.00000 NaN     NaN\n",
       "3  KMHSH81WP6U081899 4.00000     NaN      NaN 1.00000 NaN     NaN\n",
       "4  KNAJE55186K143510 1.00000     NaN      NaN 1.00000 NaN     NaN"
      ]
     },
     "execution_count": 1474,
     "metadata": {},
     "output_type": "execute_result"
    }
   ],
   "source": [
    "lcnt = lcnt.rename(columns={'VIN':'차대번호'})\n",
    "lcnt.head()"
   ]
  },
  {
   "cell_type": "code",
   "execution_count": 1475,
   "metadata": {},
   "outputs": [
    {
     "data": {
      "text/plain": [
       "Index(['차대번호', '계절제_1차', '계절제_2차', '계절제_3차', '비상시', '상시', '계절제_4차'], dtype='object')"
      ]
     },
     "execution_count": 1475,
     "metadata": {},
     "output_type": "execute_result"
    }
   ],
   "source": [
    "lcnt.columns"
   ]
  },
  {
   "cell_type": "code",
   "execution_count": 1476,
   "metadata": {},
   "outputs": [
    {
     "data": {
      "text/html": [
       "<div>\n",
       "<style scoped>\n",
       "    .dataframe tbody tr th:only-of-type {\n",
       "        vertical-align: middle;\n",
       "    }\n",
       "\n",
       "    .dataframe tbody tr th {\n",
       "        vertical-align: top;\n",
       "    }\n",
       "\n",
       "    .dataframe thead th {\n",
       "        text-align: right;\n",
       "    }\n",
       "</style>\n",
       "<table border=\"1\" class=\"dataframe\">\n",
       "  <thead>\n",
       "    <tr style=\"text-align: right;\">\n",
       "      <th></th>\n",
       "      <th>차대번호</th>\n",
       "      <th>계절제_1차</th>\n",
       "      <th>계절제_2차</th>\n",
       "      <th>계절제_3차</th>\n",
       "      <th>비상시</th>\n",
       "      <th>상시</th>\n",
       "      <th>계절제_4차</th>\n",
       "      <th>운행제한건수</th>\n",
       "    </tr>\n",
       "  </thead>\n",
       "  <tbody>\n",
       "    <tr>\n",
       "      <th>0</th>\n",
       "      <td>KPBFA2AD14P100772</td>\n",
       "      <td>1.00000</td>\n",
       "      <td>NaN</td>\n",
       "      <td>NaN</td>\n",
       "      <td>1.00000</td>\n",
       "      <td>NaN</td>\n",
       "      <td>NaN</td>\n",
       "      <td>2.00000</td>\n",
       "    </tr>\n",
       "    <tr>\n",
       "      <th>1</th>\n",
       "      <td>KMJWWH7JP5U656738</td>\n",
       "      <td>4.00000</td>\n",
       "      <td>2.00000</td>\n",
       "      <td>25.00000</td>\n",
       "      <td>3.00000</td>\n",
       "      <td>NaN</td>\n",
       "      <td>1.00000</td>\n",
       "      <td>35.00000</td>\n",
       "    </tr>\n",
       "    <tr>\n",
       "      <th>2</th>\n",
       "      <td>KNAJC52136A532787</td>\n",
       "      <td>2.00000</td>\n",
       "      <td>NaN</td>\n",
       "      <td>NaN</td>\n",
       "      <td>1.00000</td>\n",
       "      <td>NaN</td>\n",
       "      <td>NaN</td>\n",
       "      <td>3.00000</td>\n",
       "    </tr>\n",
       "    <tr>\n",
       "      <th>3</th>\n",
       "      <td>KMHSH81WP6U081899</td>\n",
       "      <td>4.00000</td>\n",
       "      <td>NaN</td>\n",
       "      <td>NaN</td>\n",
       "      <td>1.00000</td>\n",
       "      <td>NaN</td>\n",
       "      <td>NaN</td>\n",
       "      <td>5.00000</td>\n",
       "    </tr>\n",
       "    <tr>\n",
       "      <th>4</th>\n",
       "      <td>KNAJE55186K143510</td>\n",
       "      <td>1.00000</td>\n",
       "      <td>NaN</td>\n",
       "      <td>NaN</td>\n",
       "      <td>1.00000</td>\n",
       "      <td>NaN</td>\n",
       "      <td>NaN</td>\n",
       "      <td>2.00000</td>\n",
       "    </tr>\n",
       "  </tbody>\n",
       "</table>\n",
       "</div>"
      ],
      "text/plain": [
       "                차대번호  계절제_1차  계절제_2차   계절제_3차     비상시  상시  계절제_4차   운행제한건수\n",
       "0  KPBFA2AD14P100772 1.00000     NaN      NaN 1.00000 NaN     NaN  2.00000\n",
       "1  KMJWWH7JP5U656738 4.00000 2.00000 25.00000 3.00000 NaN 1.00000 35.00000\n",
       "2  KNAJC52136A532787 2.00000     NaN      NaN 1.00000 NaN     NaN  3.00000\n",
       "3  KMHSH81WP6U081899 4.00000     NaN      NaN 1.00000 NaN     NaN  5.00000\n",
       "4  KNAJE55186K143510 1.00000     NaN      NaN 1.00000 NaN     NaN  2.00000"
      ]
     },
     "execution_count": 1476,
     "metadata": {},
     "output_type": "execute_result"
    }
   ],
   "source": [
    "lcnt['운행제한건수'] = lcnt[['계절제_1차', '계절제_2차', '계절제_3차', '비상시', '상시', '계절제_4차']].sum(axis=1)\n",
    "lcnt.head()"
   ]
  },
  {
   "attachments": {},
   "cell_type": "markdown",
   "metadata": {},
   "source": [
    "# 전처리(❌)"
   ]
  },
  {
   "attachments": {},
   "cell_type": "markdown",
   "metadata": {},
   "source": [
    "## 검사 정보 필요 데이터만 추출(insm)"
   ]
  },
  {
   "cell_type": "code",
   "execution_count": 1477,
   "metadata": {},
   "outputs": [
    {
     "data": {
      "text/plain": [
       "Index(['주행거리', '차대번호', '검사방법', '검사일자', '검사종류', '검사판정', '무부하매연판정1', '무부하매연판정2',\n",
       "       '무부하매연판정3', '무부하매연측정치1', '무부하매연측정치2', '무부하매연측정치3', '정기정밀'],\n",
       "      dtype='object')"
      ]
     },
     "execution_count": 1477,
     "metadata": {},
     "output_type": "execute_result"
    }
   ],
   "source": [
    "ins.columns"
   ]
  },
  {
   "cell_type": "code",
   "execution_count": 1478,
   "metadata": {},
   "outputs": [
    {
     "data": {
      "text/plain": [
       "(50688654, 13)"
      ]
     },
     "execution_count": 1478,
     "metadata": {},
     "output_type": "execute_result"
    }
   ],
   "source": [
    "ins.shape"
   ]
  },
  {
   "cell_type": "code",
   "execution_count": 1479,
   "metadata": {},
   "outputs": [
    {
     "data": {
      "text/plain": [
       "(50688654, 13)"
      ]
     },
     "execution_count": 1479,
     "metadata": {},
     "output_type": "execute_result"
    }
   ],
   "source": [
    "insm = ins[['차대번호', '주행거리', '검사일자', '검사방법', '검사종류', '검사판정', '무부하매연판정1', '무부하매연판정2', '무부하매연판정3', '무부하매연측정치1', '무부하매연측정치2', '무부하매연측정치3', '정기정밀']]\n",
    "insm.shape"
   ]
  },
  {
   "cell_type": "code",
   "execution_count": 1480,
   "metadata": {},
   "outputs": [
    {
     "data": {
      "text/plain": [
       "count   50688654.00000\n",
       "mean    20205442.96229\n",
       "std        11147.21167\n",
       "min     20190102.00000\n",
       "25%     20191227.00000\n",
       "50%     20201219.00000\n",
       "75%     20211213.00000\n",
       "max     20230107.00000\n",
       "Name: 검사일자, dtype: float64"
      ]
     },
     "execution_count": 1480,
     "metadata": {},
     "output_type": "execute_result"
    }
   ],
   "source": [
    "insm['검사일자'].describe()"
   ]
  },
  {
   "cell_type": "code",
   "execution_count": 1481,
   "metadata": {},
   "outputs": [
    {
     "data": {
      "text/plain": [
       "(22044208, 13)"
      ]
     },
     "execution_count": 1481,
     "metadata": {},
     "output_type": "execute_result"
    }
   ],
   "source": [
    "# about 36.5s\n",
    "insm = insm.sort_values('검사일자', ascending=False).reset_index(drop=True)\n",
    "insm = insm.drop_duplicates(['차대번호']).reset_index(drop=True)\n",
    "insm.shape"
   ]
  },
  {
   "cell_type": "code",
   "execution_count": 1482,
   "metadata": {},
   "outputs": [
    {
     "data": {
      "text/html": [
       "<div>\n",
       "<style scoped>\n",
       "    .dataframe tbody tr th:only-of-type {\n",
       "        vertical-align: middle;\n",
       "    }\n",
       "\n",
       "    .dataframe tbody tr th {\n",
       "        vertical-align: top;\n",
       "    }\n",
       "\n",
       "    .dataframe thead th {\n",
       "        text-align: right;\n",
       "    }\n",
       "</style>\n",
       "<table border=\"1\" class=\"dataframe\">\n",
       "  <thead>\n",
       "    <tr style=\"text-align: right;\">\n",
       "      <th></th>\n",
       "      <th>차대번호</th>\n",
       "      <th>주행거리</th>\n",
       "      <th>검사일자</th>\n",
       "      <th>검사방법</th>\n",
       "      <th>검사종류</th>\n",
       "      <th>검사판정</th>\n",
       "      <th>무부하매연판정1</th>\n",
       "      <th>무부하매연판정2</th>\n",
       "      <th>무부하매연판정3</th>\n",
       "      <th>무부하매연측정치1</th>\n",
       "      <th>무부하매연측정치2</th>\n",
       "      <th>무부하매연측정치3</th>\n",
       "      <th>정기정밀</th>\n",
       "    </tr>\n",
       "  </thead>\n",
       "  <tbody>\n",
       "    <tr>\n",
       "      <th>0</th>\n",
       "      <td>KNABZ511BDT493285</td>\n",
       "      <td>35520.0</td>\n",
       "      <td>20230107</td>\n",
       "      <td>부하검사(ASM-Idling)</td>\n",
       "      <td>종합검사</td>\n",
       "      <td>Y</td>\n",
       "      <td>Y</td>\n",
       "      <td>Y</td>\n",
       "      <td>Y</td>\n",
       "      <td>0.00000</td>\n",
       "      <td>0.00000</td>\n",
       "      <td>30.00000</td>\n",
       "      <td>정밀</td>\n",
       "    </tr>\n",
       "    <tr>\n",
       "      <th>1</th>\n",
       "      <td>KLYDC487DHC234659</td>\n",
       "      <td>42558.0</td>\n",
       "      <td>20230107</td>\n",
       "      <td>부하검사(ASM-Idling)</td>\n",
       "      <td>종합검사</td>\n",
       "      <td>Y</td>\n",
       "      <td>Y</td>\n",
       "      <td>Y</td>\n",
       "      <td>Y</td>\n",
       "      <td>0.00000</td>\n",
       "      <td>7.00000</td>\n",
       "      <td>0.00000</td>\n",
       "      <td>정밀</td>\n",
       "    </tr>\n",
       "    <tr>\n",
       "      <th>2</th>\n",
       "      <td>KMJWA37KBCU481873</td>\n",
       "      <td>278303.0</td>\n",
       "      <td>20230107</td>\n",
       "      <td>부하검사(KD-147)</td>\n",
       "      <td>종합검사</td>\n",
       "      <td>Y</td>\n",
       "      <td>Y</td>\n",
       "      <td>NaN</td>\n",
       "      <td>NaN</td>\n",
       "      <td>0.00000</td>\n",
       "      <td>NaN</td>\n",
       "      <td>NaN</td>\n",
       "      <td>정밀</td>\n",
       "    </tr>\n",
       "    <tr>\n",
       "      <th>3</th>\n",
       "      <td>KMHNU81WP9U093815</td>\n",
       "      <td>391760.0</td>\n",
       "      <td>20230107</td>\n",
       "      <td>부하검사(KD-147)</td>\n",
       "      <td>종합검사</td>\n",
       "      <td>Y</td>\n",
       "      <td>Y</td>\n",
       "      <td>NaN</td>\n",
       "      <td>NaN</td>\n",
       "      <td>7.00000</td>\n",
       "      <td>NaN</td>\n",
       "      <td>NaN</td>\n",
       "      <td>정밀</td>\n",
       "    </tr>\n",
       "    <tr>\n",
       "      <th>4</th>\n",
       "      <td>KMFWBX7KBKU059677</td>\n",
       "      <td>32356.0</td>\n",
       "      <td>20230107</td>\n",
       "      <td>부하검사(KD-147)</td>\n",
       "      <td>종합검사</td>\n",
       "      <td>Y</td>\n",
       "      <td>Y</td>\n",
       "      <td>Y</td>\n",
       "      <td>NaN</td>\n",
       "      <td>0.00000</td>\n",
       "      <td>379.00000</td>\n",
       "      <td>NaN</td>\n",
       "      <td>정밀</td>\n",
       "    </tr>\n",
       "  </tbody>\n",
       "</table>\n",
       "</div>"
      ],
      "text/plain": [
       "                차대번호      주행거리      검사일자              검사방법  검사종류 검사판정   \n",
       "0  KNABZ511BDT493285   35520.0  20230107  부하검사(ASM-Idling)  종합검사    Y  \\\n",
       "1  KLYDC487DHC234659   42558.0  20230107  부하검사(ASM-Idling)  종합검사    Y   \n",
       "2  KMJWA37KBCU481873  278303.0  20230107      부하검사(KD-147)  종합검사    Y   \n",
       "3  KMHNU81WP9U093815  391760.0  20230107      부하검사(KD-147)  종합검사    Y   \n",
       "4  KMFWBX7KBKU059677   32356.0  20230107      부하검사(KD-147)  종합검사    Y   \n",
       "\n",
       "  무부하매연판정1 무부하매연판정2 무부하매연판정3  무부하매연측정치1  무부하매연측정치2  무부하매연측정치3 정기정밀  \n",
       "0        Y        Y        Y    0.00000    0.00000   30.00000   정밀  \n",
       "1        Y        Y        Y    0.00000    7.00000    0.00000   정밀  \n",
       "2        Y      NaN      NaN    0.00000        NaN        NaN   정밀  \n",
       "3        Y      NaN      NaN    7.00000        NaN        NaN   정밀  \n",
       "4        Y        Y      NaN    0.00000  379.00000        NaN   정밀  "
      ]
     },
     "execution_count": 1482,
     "metadata": {},
     "output_type": "execute_result"
    }
   ],
   "source": [
    "insm.head()"
   ]
  },
  {
   "attachments": {},
   "cell_type": "markdown",
   "metadata": {},
   "source": [
    "## 말소 차량 제거(gm)"
   ]
  },
  {
   "cell_type": "code",
   "execution_count": 1483,
   "metadata": {},
   "outputs": [
    {
     "data": {
      "text/plain": [
       "Index(['차대번호', '차량번호', '제원관리번호', '차종', '용도', '최초등록일', '연식', '제작일자', '검사유효일',\n",
       "       '배출가스인증번호', '등급', '차명', '차종분류', '차종유형', '자동차형식', '제작사명', '연료', '엔진형식',\n",
       "       '총중량', '적재중량', '엔진출력', '배기량', '법정동코드', '시도명', '시군구명', '소유자구분', '말소여부',\n",
       "       '배인번호_수정', '등급_수정', 'DPF유무_수정', 'Grade', '시군구명_수정', '1일평균주행거리'],\n",
       "      dtype='object')"
      ]
     },
     "execution_count": 1483,
     "metadata": {},
     "output_type": "execute_result"
    }
   ],
   "source": [
    "g4.columns"
   ]
  },
  {
   "cell_type": "code",
   "execution_count": 1484,
   "metadata": {},
   "outputs": [
    {
     "data": {
      "text/plain": [
       "말소여부\n",
       "N    1502235\n",
       "Name: count, dtype: int64"
      ]
     },
     "execution_count": 1484,
     "metadata": {},
     "output_type": "execute_result"
    }
   ],
   "source": [
    "g4['말소여부'].value_counts(dropna=False)"
   ]
  },
  {
   "cell_type": "code",
   "execution_count": 1613,
   "metadata": {},
   "outputs": [
    {
     "data": {
      "text/plain": [
       "(1502235, 33)"
      ]
     },
     "execution_count": 1613,
     "metadata": {},
     "output_type": "execute_result"
    }
   ],
   "source": [
    "gm4 = g4.loc[g4['말소여부'] == 'N'].reset_index(drop=True)\n",
    "gm4.shape"
   ]
  },
  {
   "cell_type": "code",
   "execution_count": 1614,
   "metadata": {},
   "outputs": [
    {
     "data": {
      "text/plain": [
       "차량말소YN\n",
       "Y    1223886\n",
       "N    1154762\n",
       "Name: count, dtype: int64"
      ]
     },
     "execution_count": 1614,
     "metadata": {},
     "output_type": "execute_result"
    }
   ],
   "source": [
    "g5['차량말소YN'].value_counts(dropna=False)"
   ]
  },
  {
   "cell_type": "code",
   "execution_count": 1615,
   "metadata": {},
   "outputs": [
    {
     "data": {
      "text/plain": [
       "(1154762, 49)"
      ]
     },
     "execution_count": 1615,
     "metadata": {},
     "output_type": "execute_result"
    }
   ],
   "source": [
    "gm5 = g5.loc[g5['차량말소YN'] == 'N'].reset_index(drop=True)\n",
    "gm5.shape"
   ]
  },
  {
   "attachments": {},
   "cell_type": "markdown",
   "metadata": {},
   "source": [
    "## [❌] result 4등급만 추출"
   ]
  },
  {
   "cell_type": "code",
   "execution_count": 1616,
   "metadata": {},
   "outputs": [
    {
     "data": {
      "text/plain": [
       "등급_수정\n",
       "4.00000    1497678\n",
       "3.00000       4397\n",
       "5.00000        160\n",
       "Name: count, dtype: int64"
      ]
     },
     "execution_count": 1616,
     "metadata": {},
     "output_type": "execute_result"
    }
   ],
   "source": [
    "gm4['등급_수정'].value_counts(dropna=False)"
   ]
  },
  {
   "cell_type": "code",
   "execution_count": 1617,
   "metadata": {},
   "outputs": [],
   "source": [
    "# gm4 = gm4.loc[gm4['등급_수정'] == 4].reset_index(drop=True)\n",
    "# gm4.shape"
   ]
  },
  {
   "cell_type": "code",
   "execution_count": 1618,
   "metadata": {},
   "outputs": [
    {
     "data": {
      "text/plain": [
       "연료\n",
       "경유             1153812\n",
       "휘발유             323020\n",
       "LPG(액화석유가스)      25400\n",
       "알코올                  1\n",
       "기타연료                 1\n",
       "CNG(압축천연가스)          1\n",
       "Name: count, dtype: int64"
      ]
     },
     "execution_count": 1618,
     "metadata": {},
     "output_type": "execute_result"
    }
   ],
   "source": [
    "gm4['연료'].value_counts(dropna=False)"
   ]
  },
  {
   "cell_type": "code",
   "execution_count": 1619,
   "metadata": {},
   "outputs": [],
   "source": [
    "# gm4 = gm4.loc[gm4['연료'] == '경유'].reset_index(drop=True)\n",
    "# gm4.shape"
   ]
  },
  {
   "attachments": {},
   "cell_type": "markdown",
   "metadata": {},
   "source": [
    "## 필수 컬럼만 추출"
   ]
  },
  {
   "cell_type": "code",
   "execution_count": 1620,
   "metadata": {},
   "outputs": [
    {
     "data": {
      "text/plain": [
       "Index(['차대번호', '차량번호', '제원관리번호', '차종', '용도', '최초등록일', '연식', '제작일자', '검사유효일',\n",
       "       '배출가스인증번호', '등급', '차명', '차종분류', '차종유형', '자동차형식', '제작사명', '연료', '엔진형식',\n",
       "       '총중량', '적재중량', '엔진출력', '배기량', '법정동코드', '시도명', '시군구명', '소유자구분', '말소여부',\n",
       "       '배인번호_수정', '등급_수정', 'DPF유무_수정', 'Grade', '시군구명_수정', '1일평균주행거리'],\n",
       "      dtype='object')"
      ]
     },
     "execution_count": 1620,
     "metadata": {},
     "output_type": "execute_result"
    }
   ],
   "source": [
    "gm4.columns"
   ]
  },
  {
   "cell_type": "code",
   "execution_count": 1621,
   "metadata": {},
   "outputs": [
    {
     "data": {
      "text/plain": [
       "array(['승용', '특수', '승합', '화물'], dtype=object)"
      ]
     },
     "execution_count": 1621,
     "metadata": {},
     "output_type": "execute_result"
    }
   ],
   "source": [
    "gm4['차종'].unique()"
   ]
  },
  {
   "cell_type": "code",
   "execution_count": 1622,
   "metadata": {},
   "outputs": [
    {
     "data": {
      "text/plain": [
       "Index(['차량관리번호', '차량등록번호', '본거지법정동코드', '소유자구분', '차종_등록정보', '용도', '현재회원번호',\n",
       "       '차대번호', '최초등록일자', '차량연식', '차량제작일자', '배출가스검사유효일자', '제원관리번호', '배출가스인증번호',\n",
       "       '배출가스등급', '저공해조치YN(미사용)', '저공해조치종류', '저공해조치구조변경YN', '차량등록번호숫자정보',\n",
       "       '차량말소YN', '최초회원번호', '취득일자', '취득금액', '생성일시_등록정보', '수정일시_등록정보', '차명',\n",
       "       '차종_제원정보', '차종분류', '차종유형(소분류)', '자동차형식', '제작사명', '연료', '엔진형식', '공차중량',\n",
       "       '총중량', '적재중량', '엔진출력', '배기량', '승차인원', '차량길이', '차량너비', '차량높이', '원산지명',\n",
       "       '삭제YN', '승인일자', '구동형식', '변속기종류', '생성일시_제원정보', '수정일시_제원정보'],\n",
       "      dtype='object')"
      ]
     },
     "execution_count": 1622,
     "metadata": {},
     "output_type": "execute_result"
    }
   ],
   "source": [
    "gm5.columns"
   ]
  },
  {
   "cell_type": "code",
   "execution_count": 1623,
   "metadata": {},
   "outputs": [
    {
     "data": {
      "text/plain": [
       "array(['소형', '경형', '중형', '대형'], dtype=object)"
      ]
     },
     "execution_count": 1623,
     "metadata": {},
     "output_type": "execute_result"
    }
   ],
   "source": [
    "gm5['차종유형(소분류)'].unique()"
   ]
  },
  {
   "cell_type": "code",
   "execution_count": 1624,
   "metadata": {},
   "outputs": [
    {
     "data": {
      "text/plain": [
       "(1154762, 14)"
      ]
     },
     "execution_count": 1624,
     "metadata": {},
     "output_type": "execute_result"
    }
   ],
   "source": [
    "gm5 = gm5[['차량등록번호', '본거지법정동코드', '차대번호', '제원관리번호', '배출가스인증번호', '배출가스등급', '용도', '차명', '차종_제원정보', '차종유형(소분류)', '연료', '배기량', '총중량', '차량연식']]\n",
    "gm5.shape"
   ]
  },
  {
   "attachments": {},
   "cell_type": "markdown",
   "metadata": {},
   "source": [
    "## 연료 결측, 기타연료 확인"
   ]
  },
  {
   "cell_type": "code",
   "execution_count": 1625,
   "metadata": {},
   "outputs": [
    {
     "data": {
      "text/plain": [
       "연료\n",
       "경유             1153812\n",
       "휘발유             323020\n",
       "LPG(액화석유가스)      25400\n",
       "알코올                  1\n",
       "기타연료                 1\n",
       "CNG(압축천연가스)          1\n",
       "Name: count, dtype: int64"
      ]
     },
     "execution_count": 1625,
     "metadata": {},
     "output_type": "execute_result"
    }
   ],
   "source": [
    "gm4['연료'].value_counts(dropna=False)"
   ]
  },
  {
   "cell_type": "code",
   "execution_count": 1626,
   "metadata": {},
   "outputs": [
    {
     "data": {
      "text/plain": [
       "연료\n",
       "경유             1124215\n",
       "휘발유              30051\n",
       "LPG(액화석유가스)        436\n",
       "NaN                 29\n",
       "기타연료                25\n",
       "CNG(압축천연가스)          5\n",
       "알코올                  1\n",
       "Name: count, dtype: int64"
      ]
     },
     "execution_count": 1626,
     "metadata": {},
     "output_type": "execute_result"
    }
   ],
   "source": [
    "gm5['연료'].value_counts(dropna=False)"
   ]
  },
  {
   "cell_type": "code",
   "execution_count": 1627,
   "metadata": {},
   "outputs": [
    {
     "data": {
      "text/plain": [
       "{'BENZ S500': '휘발유',\n",
       " 'BMW': '휘발유',\n",
       " 'BMW 3-SERIES': '휘발유',\n",
       " 'BMW 318I': '휘발유',\n",
       " 'BMW 325CI': '휘발유',\n",
       " 'BMW 325I': '휘발유',\n",
       " 'BMW 325i': '휘발유',\n",
       " 'BMW 328I': '휘발유',\n",
       " 'BMW 525I': '휘발유',\n",
       " 'BMW 528I': '휘발유',\n",
       " 'BMW 530I': '휘발유',\n",
       " 'BMW 5SERIES': '휘발유',\n",
       " 'BMW 750Li': '휘발유',\n",
       " 'BMW X3': '휘발유',\n",
       " 'BMW X5': '휘발유',\n",
       " 'BMW Z3': '휘발유',\n",
       " 'BMW530I': '휘발유',\n",
       " 'BUICK CENTURY': '휘발유',\n",
       " 'BUICK LESABRE': '휘발유',\n",
       " 'BUICK TERRAZA': '휘발유',\n",
       " 'CADILLAC CTS': '휘발유',\n",
       " 'CHEVROLET IMPALA': '휘발유',\n",
       " 'CHEVROLET PRIZM': '휘발유',\n",
       " 'CHRYSLER': '휘발유',\n",
       " 'CHRYSLER 300 LTD': '휘발유',\n",
       " 'CHRYSLER 300C': '경유',\n",
       " 'CHRYSLER HEMI AWD': '휘발유',\n",
       " 'CHRYSLER PT CRUISER': '휘발유',\n",
       " 'CHRYSLER TOWN & COUNTRY(7)': '휘발유',\n",
       " 'CIELO': '휘발유',\n",
       " 'CORSICA': '휘발유',\n",
       " 'COUGAR': '휘발유',\n",
       " 'DODGE CALIBER': '휘발유',\n",
       " 'DODGE CARAVAN': '휘발유',\n",
       " 'DODGE CHARGER': '휘발유',\n",
       " 'DODGE DAKOTA': '휘발유',\n",
       " 'DODGE DURANGO': '휘발유',\n",
       " 'DODGE GRAND CARAVAN': '휘발유',\n",
       " 'DODGE NEON SXT': '휘발유',\n",
       " 'EF소나타': '휘발유',\n",
       " 'ESCORT': '휘발유',\n",
       " 'FIREBIRD': '휘발유',\n",
       " 'FORD ESCAPE': '휘발유',\n",
       " 'FORD EXPEDITION': '휘발유',\n",
       " 'FORD EXPEDITION(8)': '휘발유',\n",
       " 'FORD EXPLORER': '휘발유',\n",
       " 'FORD FOCUS': '휘발유',\n",
       " 'FORD FREESTYLE(7)': '휘발유',\n",
       " 'FORD FUSION': '휘발유',\n",
       " 'FORD MUSTANG': '휘발유',\n",
       " 'FORD RANGER XLT': '경유',\n",
       " 'FORD WINDSTAR': '휘발유',\n",
       " 'G.M.C': '휘발유',\n",
       " 'G20': '휘발유',\n",
       " 'GMC': '휘발유',\n",
       " 'GMC JIMMY': '휘발유',\n",
       " 'GMC SIERRA': '휘발유',\n",
       " 'HONDA ACCORD': '휘발유',\n",
       " 'HONDA CR-V': '휘발유',\n",
       " 'HONDA CR-V EX': '휘발유',\n",
       " 'HONDA PILOT': '휘발유',\n",
       " 'HYUNDAI PRESTO': '휘발유',\n",
       " 'HYUNDAI SONATA': '휘발유',\n",
       " 'HYUNDAI/SONATA': '휘발유',\n",
       " 'INFINITI G37S': '휘발유',\n",
       " 'JAGUAR X-TYPE': '휘발유',\n",
       " 'JEEP GRAND CHEROKEE': '휘발유',\n",
       " 'JEEP LIBERTY': '휘발유',\n",
       " 'JEEP PATRIOT': '경유',\n",
       " 'KIA OPTIMA': '휘발유',\n",
       " 'KIA SEDONA': '휘발유',\n",
       " 'LEXUS ES330': '휘발유',\n",
       " 'LEXUS ES350': '휘발유',\n",
       " 'LEXUS LS430': '휘발유',\n",
       " 'LEXUS RS330': '휘발유',\n",
       " 'LEXUS RX330': '휘발유',\n",
       " 'LINCOLN MKX': '휘발유',\n",
       " 'MAZDA MAZDA6': '휘발유',\n",
       " 'MAZDA SENTA': '휘발유',\n",
       " 'MERCEDES BENZ': '휘발유',\n",
       " 'MERCEDES-BENZ': '휘발유',\n",
       " 'MERCEDES-BENZ CLS 550': '경유',\n",
       " 'MERCEDES-BENZ E-350': '휘발유',\n",
       " 'MERCEDES-BENZ E-CLASS': '휘발유',\n",
       " 'MERCEDES-BENZ R-CLASS 3500': '경유',\n",
       " 'MERCEDES-BENZ S 500': '휘발유',\n",
       " 'MERCEDES-BENZ S65': '경유',\n",
       " 'MERCURY MILAN': '휘발유',\n",
       " 'NEW 그랜저XG': '휘발유',\n",
       " 'NISSAN MURANO': '휘발유',\n",
       " 'NISSAN ROGUE 3.5': '휘발유',\n",
       " 'NISSAN XTERRA': '휘발유',\n",
       " 'OLDSMOBILE BRAVADA': '휘발유',\n",
       " 'OLDSMOBILESILHOUET': '휘발유',\n",
       " 'PLYMOUTH': '휘발유',\n",
       " 'PONTIAC SUNBIRD': '휘발유',\n",
       " 'PONTIAC VIBE': '휘발유',\n",
       " 'PONTIAC VIBE BASE': '휘발유',\n",
       " 'PORSCHE': '휘발유',\n",
       " 'ROYALE': '휘발유',\n",
       " 'ROYALSALON': '휘발유',\n",
       " 'RX7': '휘발유',\n",
       " 'SANTAFE': '휘발유',\n",
       " 'SEPHIA': '휘발유',\n",
       " 'SILHOUET': '휘발유',\n",
       " 'SPORTAGE': '휘발유',\n",
       " 'STAREX': '휘발유',\n",
       " 'SUNDANCE': '휘발유',\n",
       " 'TAURUS': '휘발유',\n",
       " 'TOYOTA 4-RUNNER': '경유',\n",
       " 'TOYOTA AVALON': '휘발유',\n",
       " 'TOYOTA CAMRY하이브리드': '휘발유 하이브리드',\n",
       " 'TOYOTA COROLLA': '휘발유',\n",
       " 'TOYOTA ESTIIM': '휘발유',\n",
       " 'TOYOTA MATRIX': '휘발유',\n",
       " 'TOYOTA SIENNA': '휘발유',\n",
       " 'TOYOTA SR-5': '휘발유',\n",
       " 'VISION': '휘발유',\n",
       " 'VOLKSWAGEN JETTA': '휘발유',\n",
       " 'VOLVO 7G1': '휘발유',\n",
       " 'VOLVO 960': '휘발유',\n",
       " 'VOLVO S60': '휘발유',\n",
       " 'VOLVO S80': '휘발유',\n",
       " 'VOLVO T5': '휘발유',\n",
       " 'VOLVO XC60': '휘발유',\n",
       " 'VOLVO XC90': '휘발유',\n",
       " '구급차(도요다)': '경유',\n",
       " '그랜저2.0': '휘발유',\n",
       " '그랜저XG300L': '휘발유',\n",
       " '기아마스타': '경유',\n",
       " '뉴복사담프': '경유',\n",
       " '뉴비틀2.0': '휘발유',\n",
       " '닛산실비아2.0': '휘발유',\n",
       " '닛산씨마그로리아': '휘발유',\n",
       " '다임24KL에틸렌글리콜트레일러': '무동력',\n",
       " '다찌람밴': '휘발유',\n",
       " '대우11톤카고': '경유',\n",
       " '대우11톤카고트럭': '경유',\n",
       " '대우8톤카고': '경유',\n",
       " '대흥저상트레일러': '무동력',\n",
       " '도오다': '휘발유',\n",
       " '도요다MR2': '휘발유',\n",
       " '도요다세라': '휘발유',\n",
       " '도요다슈프라': '휘발유',\n",
       " '도요다웨곤엠브란스': '경유',\n",
       " '도요다코로나': '휘발유',\n",
       " '도요다크라운': '휘발유',\n",
       " '도요다크라운로얄싸롱': '휘발유',\n",
       " '도요타 프리우스(하이브리드)': '휘발유 하이브리드',\n",
       " '라비타(LAVITA)': '휘발유',\n",
       " '로얄살롱': '휘발유',\n",
       " '로얄살롱2.0AT': '휘발유',\n",
       " '르망': '휘발유',\n",
       " '르망펜타-5': '휘발유',\n",
       " '링컨MARK7': '경유',\n",
       " '맥스디젤삼방': '경유',\n",
       " '머큐리 세이블': '경유',\n",
       " '벤즈 230E': '휘발유',\n",
       " '벤즈230E': '휘발유',\n",
       " '벤츠 C300': '휘발유',\n",
       " '벤츠190E': '휘발유',\n",
       " '벤츠C280': '휘발유',\n",
       " '벤츠E230': '휘발유',\n",
       " '벤츠S320': '휘발유',\n",
       " '복사14': '휘발유',\n",
       " '브리샤2': '휘발유',\n",
       " '블루버드': '휘발유',\n",
       " '사파리': '휘발유',\n",
       " '새턴': '휘발유',\n",
       " '새한2.5톤카고': '경유',\n",
       " '새한버스': '경유',\n",
       " '셀리카-GT': '휘발유',\n",
       " '소나타': '휘발유',\n",
       " '소나타1800오토매틱': '휘발유',\n",
       " '수프라': '휘발유',\n",
       " '스텔라': '휘발유',\n",
       " '스텔라1.6CXL': '휘발유',\n",
       " '스텔라오토매틱': '휘발유',\n",
       " '시보레': '휘발유',\n",
       " '시보레카베리아': '휘발유',\n",
       " '쏘나타': '휘발유',\n",
       " '아시아AM707중형버스': '경유',\n",
       " '아큐라': '휘발유',\n",
       " '에스페로': '휘발유',\n",
       " '에어스트림탐지견수송트레일러': '무동력',\n",
       " '엑셀': '휘발유',\n",
       " '엑셀운전교습용차량': '휘발유',\n",
       " '원흥식 트럭': '경유',\n",
       " '인타담프': '경유',\n",
       " '일산 육륜': '경유',\n",
       " '제설차': '경유',\n",
       " '지프': '경유',\n",
       " '체로키': '휘발유',\n",
       " '캐피탈': '휘발유',\n",
       " '캠리': '휘발유',\n",
       " '코르시카': '휘발유',\n",
       " '코우거': '휘발유',\n",
       " '코티나디럭스': '휘발유',\n",
       " '코티나마크IV': '휘발유',\n",
       " '크로마터보i.e': '휘발유',\n",
       " '티코(TICO)': '휘발유',\n",
       " '포니': '휘발유',\n",
       " '포니2': '휘발유',\n",
       " '포니2-L.P.G': 'LPG(액화석유가스)',\n",
       " '포니2-LPG': 'LPG(액화석유가스)',\n",
       " '포르쉐': '휘발유',\n",
       " '프레스토오토매틱': '휘발유',\n",
       " '프레스토오토메틱': '휘발유',\n",
       " '프리무스': '휘발유 하이브리드',\n",
       " '한원40A콤비콘테이너트레일러': '무동력',\n",
       " '한원40피트구즈넥트레일러': '무동력',\n",
       " '현대3톤트럭': '경유',\n",
       " '현대리어엔진버스': '경유',\n",
       " '현대포터': '경유',\n",
       " '혼다 CR-V': '경유',\n",
       " '홍성캠핑트레일러': '무동력'}"
      ]
     },
     "execution_count": 1627,
     "metadata": {},
     "output_type": "execute_result"
    }
   ],
   "source": [
    "fuel_dict = {a:b for a, b in fuel.values}\n",
    "fuel_dict"
   ]
  },
  {
   "cell_type": "code",
   "execution_count": 1628,
   "metadata": {},
   "outputs": [],
   "source": [
    "# for one in gm4.loc[((gm4['연료'].isnull() == True) | (gm4['연료'] == '기타연료')), '차명'].unique():\n",
    "#     gm4.loc[((gm4['연료'].isnull() == True) | (gm4['연료'] == '기타연료')) & (gm4['차명'] == one), '연료'] = fuel_dict[one]"
   ]
  },
  {
   "cell_type": "code",
   "execution_count": 1629,
   "metadata": {},
   "outputs": [
    {
     "name": "stderr",
     "output_type": "stream",
     "text": [
      " 27%|██▋       | 12/44 [00:01<00:04,  6.52it/s]"
     ]
    },
    {
     "name": "stderr",
     "output_type": "stream",
     "text": [
      "100%|██████████| 44/44 [00:06<00:00,  6.51it/s]\n"
     ]
    }
   ],
   "source": [
    "for one in tqdm(gm5.loc[((gm5['연료'].isnull() == True) | (gm5['연료'] == '기타연료')), '차명'].unique()):\n",
    "    gm5.loc[((gm5['연료'].isnull() == True) | (gm5['연료'] == '기타연료')) & (gm5['차명'] == one), '연료'] = fuel_dict[one]"
   ]
  },
  {
   "cell_type": "code",
   "execution_count": 1630,
   "metadata": {},
   "outputs": [
    {
     "data": {
      "text/plain": [
       "연료\n",
       "경유             1153812\n",
       "휘발유             323020\n",
       "LPG(액화석유가스)      25400\n",
       "알코올                  1\n",
       "기타연료                 1\n",
       "CNG(압축천연가스)          1\n",
       "Name: count, dtype: int64"
      ]
     },
     "execution_count": 1630,
     "metadata": {},
     "output_type": "execute_result"
    }
   ],
   "source": [
    "gm4['연료'].value_counts(dropna=False)"
   ]
  },
  {
   "cell_type": "code",
   "execution_count": 1631,
   "metadata": {},
   "outputs": [
    {
     "data": {
      "text/plain": [
       "연료\n",
       "경유             1124238\n",
       "휘발유              30075\n",
       "LPG(액화석유가스)        438\n",
       "무동력                  5\n",
       "CNG(압축천연가스)          5\n",
       "알코올                  1\n",
       "Name: count, dtype: int64"
      ]
     },
     "execution_count": 1631,
     "metadata": {},
     "output_type": "execute_result"
    }
   ],
   "source": [
    "gm5['연료'].value_counts(dropna=False)"
   ]
  },
  {
   "attachments": {},
   "cell_type": "markdown",
   "metadata": {},
   "source": [
    "## 저감장치 부착이력 정보 추가"
   ]
  },
  {
   "attachments": {},
   "cell_type": "markdown",
   "metadata": {},
   "source": [
    "### 저감장치구분 정리\n",
    "- 1종 : DPF\n",
    "- 1종+SCR : PM-NOx저감장치"
   ]
  },
  {
   "cell_type": "code",
   "execution_count": 1632,
   "metadata": {},
   "outputs": [
    {
     "data": {
      "text/plain": [
       "Index(['차대번호', '저감장치구분', '장치일련번호', '저감장치'], dtype='object')"
      ]
     },
     "execution_count": 1632,
     "metadata": {},
     "output_type": "execute_result"
    }
   ],
   "source": [
    "att.columns"
   ]
  },
  {
   "cell_type": "code",
   "execution_count": 1633,
   "metadata": {},
   "outputs": [
    {
     "data": {
      "text/html": [
       "<div>\n",
       "<style scoped>\n",
       "    .dataframe tbody tr th:only-of-type {\n",
       "        vertical-align: middle;\n",
       "    }\n",
       "\n",
       "    .dataframe tbody tr th {\n",
       "        vertical-align: top;\n",
       "    }\n",
       "\n",
       "    .dataframe thead th {\n",
       "        text-align: right;\n",
       "    }\n",
       "</style>\n",
       "<table border=\"1\" class=\"dataframe\">\n",
       "  <thead>\n",
       "    <tr style=\"text-align: right;\">\n",
       "      <th></th>\n",
       "      <th>차대번호</th>\n",
       "      <th>저감장치구분</th>\n",
       "      <th>장치일련번호</th>\n",
       "      <th>저감장치</th>\n",
       "    </tr>\n",
       "  </thead>\n",
       "  <tbody>\n",
       "    <tr>\n",
       "      <th>0</th>\n",
       "      <td>410031134778</td>\n",
       "      <td>엔진개조</td>\n",
       "      <td>NaN</td>\n",
       "      <td>NaN</td>\n",
       "    </tr>\n",
       "    <tr>\n",
       "      <th>1</th>\n",
       "      <td>KN3HDP3362K807243</td>\n",
       "      <td>엔진개조</td>\n",
       "      <td>NaN</td>\n",
       "      <td>NaN</td>\n",
       "    </tr>\n",
       "    <tr>\n",
       "      <th>2</th>\n",
       "      <td>KMCGB17FPVC120970</td>\n",
       "      <td>엔진개조</td>\n",
       "      <td>NaN</td>\n",
       "      <td>NaN</td>\n",
       "    </tr>\n",
       "    <tr>\n",
       "      <th>3</th>\n",
       "      <td>KMFXKD7BP2U583397</td>\n",
       "      <td>엔진개조</td>\n",
       "      <td>NaN</td>\n",
       "      <td>NaN</td>\n",
       "    </tr>\n",
       "    <tr>\n",
       "      <th>4</th>\n",
       "      <td>KMFXKS7BP2U560254</td>\n",
       "      <td>엔진개조</td>\n",
       "      <td>NaN</td>\n",
       "      <td>NaN</td>\n",
       "    </tr>\n",
       "  </tbody>\n",
       "</table>\n",
       "</div>"
      ],
      "text/plain": [
       "                차대번호 저감장치구분 장치일련번호 저감장치\n",
       "0       410031134778   엔진개조    NaN  NaN\n",
       "1  KN3HDP3362K807243   엔진개조    NaN  NaN\n",
       "2  KMCGB17FPVC120970   엔진개조    NaN  NaN\n",
       "3  KMFXKD7BP2U583397   엔진개조    NaN  NaN\n",
       "4  KMFXKS7BP2U560254   엔진개조    NaN  NaN"
      ]
     },
     "execution_count": 1633,
     "metadata": {},
     "output_type": "execute_result"
    }
   ],
   "source": [
    "att.head()"
   ]
  },
  {
   "cell_type": "code",
   "execution_count": 1634,
   "metadata": {},
   "outputs": [
    {
     "data": {
      "text/html": [
       "<div>\n",
       "<style scoped>\n",
       "    .dataframe tbody tr th:only-of-type {\n",
       "        vertical-align: middle;\n",
       "    }\n",
       "\n",
       "    .dataframe tbody tr th {\n",
       "        vertical-align: top;\n",
       "    }\n",
       "\n",
       "    .dataframe thead th {\n",
       "        text-align: right;\n",
       "    }\n",
       "</style>\n",
       "<table border=\"1\" class=\"dataframe\">\n",
       "  <thead>\n",
       "    <tr style=\"text-align: right;\">\n",
       "      <th></th>\n",
       "      <th>차대번호</th>\n",
       "      <th>저감장치구분</th>\n",
       "      <th>장치일련번호</th>\n",
       "      <th>저감장치</th>\n",
       "    </tr>\n",
       "  </thead>\n",
       "  <tbody>\n",
       "    <tr>\n",
       "      <th>48</th>\n",
       "      <td>KMJWWH7BPVU002963</td>\n",
       "      <td>엔진개조</td>\n",
       "      <td>084X2-0255</td>\n",
       "      <td>NaN</td>\n",
       "    </tr>\n",
       "    <tr>\n",
       "      <th>442</th>\n",
       "      <td>KMJFD37APTU320665</td>\n",
       "      <td>엔진개조</td>\n",
       "      <td>084X2-0365</td>\n",
       "      <td>NaN</td>\n",
       "    </tr>\n",
       "    <tr>\n",
       "      <th>682</th>\n",
       "      <td>KMFFD37BPYU477367</td>\n",
       "      <td>3종</td>\n",
       "      <td>P1C0026</td>\n",
       "      <td>NaN</td>\n",
       "    </tr>\n",
       "    <tr>\n",
       "      <th>683</th>\n",
       "      <td>KMJTK18BP4C006045</td>\n",
       "      <td>1종</td>\n",
       "      <td>H3C011</td>\n",
       "      <td>DPF</td>\n",
       "    </tr>\n",
       "    <tr>\n",
       "      <th>684</th>\n",
       "      <td>KL2UR52BDYP017806</td>\n",
       "      <td>1종</td>\n",
       "      <td>H3C029</td>\n",
       "      <td>DPF</td>\n",
       "    </tr>\n",
       "  </tbody>\n",
       "</table>\n",
       "</div>"
      ],
      "text/plain": [
       "                  차대번호 저감장치구분      장치일련번호 저감장치\n",
       "48   KMJWWH7BPVU002963   엔진개조  084X2-0255  NaN\n",
       "442  KMJFD37APTU320665   엔진개조  084X2-0365  NaN\n",
       "682  KMFFD37BPYU477367     3종     P1C0026  NaN\n",
       "683  KMJTK18BP4C006045     1종      H3C011  DPF\n",
       "684  KL2UR52BDYP017806     1종      H3C029  DPF"
      ]
     },
     "execution_count": 1634,
     "metadata": {},
     "output_type": "execute_result"
    }
   ],
   "source": [
    "att.loc[att['장치일련번호'].isnull() == False].head()"
   ]
  },
  {
   "cell_type": "code",
   "execution_count": 1635,
   "metadata": {},
   "outputs": [
    {
     "data": {
      "text/plain": [
       "Index(['저감장치', '배출가스인증번호', '장치일련번호', '장치인증번호', '장치구분', '저감효율'], dtype='object')"
      ]
     },
     "execution_count": 1635,
     "metadata": {},
     "output_type": "execute_result"
    }
   ],
   "source": [
    "eff.columns"
   ]
  },
  {
   "cell_type": "code",
   "execution_count": 1636,
   "metadata": {},
   "outputs": [
    {
     "data": {
      "text/html": [
       "<div>\n",
       "<style scoped>\n",
       "    .dataframe tbody tr th:only-of-type {\n",
       "        vertical-align: middle;\n",
       "    }\n",
       "\n",
       "    .dataframe tbody tr th {\n",
       "        vertical-align: top;\n",
       "    }\n",
       "\n",
       "    .dataframe thead th {\n",
       "        text-align: right;\n",
       "    }\n",
       "</style>\n",
       "<table border=\"1\" class=\"dataframe\">\n",
       "  <thead>\n",
       "    <tr style=\"text-align: right;\">\n",
       "      <th></th>\n",
       "      <th>저감장치</th>\n",
       "      <th>배출가스인증번호</th>\n",
       "      <th>장치일련번호</th>\n",
       "      <th>장치인증번호</th>\n",
       "      <th>장치구분</th>\n",
       "      <th>저감효율</th>\n",
       "    </tr>\n",
       "  </thead>\n",
       "  <tbody>\n",
       "    <tr>\n",
       "      <th>0</th>\n",
       "      <td>DPF</td>\n",
       "      <td>1MY-HD-52</td>\n",
       "      <td>1006497</td>\n",
       "      <td>NaN</td>\n",
       "      <td>NaN</td>\n",
       "      <td>NaN</td>\n",
       "    </tr>\n",
       "    <tr>\n",
       "      <th>1</th>\n",
       "      <td>DPF</td>\n",
       "      <td>1MY-HD-52</td>\n",
       "      <td>ALS1500456</td>\n",
       "      <td>NaN</td>\n",
       "      <td>NaN</td>\n",
       "      <td>NaN</td>\n",
       "    </tr>\n",
       "    <tr>\n",
       "      <th>2</th>\n",
       "      <td>DPF</td>\n",
       "      <td>1MY-HD-52</td>\n",
       "      <td>C254982</td>\n",
       "      <td>NaN</td>\n",
       "      <td>NaN</td>\n",
       "      <td>NaN</td>\n",
       "    </tr>\n",
       "    <tr>\n",
       "      <th>3</th>\n",
       "      <td>DPF</td>\n",
       "      <td>1MY-HD-52</td>\n",
       "      <td>DLL060113B13</td>\n",
       "      <td>NaN</td>\n",
       "      <td>NaN</td>\n",
       "      <td>NaN</td>\n",
       "    </tr>\n",
       "    <tr>\n",
       "      <th>4</th>\n",
       "      <td>DPF</td>\n",
       "      <td>1MY-HD-52</td>\n",
       "      <td>H180403-050</td>\n",
       "      <td>NaN</td>\n",
       "      <td>NaN</td>\n",
       "      <td>NaN</td>\n",
       "    </tr>\n",
       "  </tbody>\n",
       "</table>\n",
       "</div>"
      ],
      "text/plain": [
       "  저감장치   배출가스인증번호        장치일련번호 장치인증번호 장치구분  저감효율\n",
       "0  DPF  1MY-HD-52       1006497    NaN  NaN   NaN\n",
       "1  DPF  1MY-HD-52    ALS1500456    NaN  NaN   NaN\n",
       "2  DPF  1MY-HD-52       C254982    NaN  NaN   NaN\n",
       "3  DPF  1MY-HD-52  DLL060113B13    NaN  NaN   NaN\n",
       "4  DPF  1MY-HD-52   H180403-050    NaN  NaN   NaN"
      ]
     },
     "execution_count": 1636,
     "metadata": {},
     "output_type": "execute_result"
    }
   ],
   "source": [
    "eff.head()"
   ]
  },
  {
   "cell_type": "code",
   "execution_count": 1637,
   "metadata": {},
   "outputs": [
    {
     "data": {
      "text/plain": [
       "array([nan, '복합대형', '복합소형', '복합중형', '대형', '중형', '소형'], dtype=object)"
      ]
     },
     "execution_count": 1637,
     "metadata": {},
     "output_type": "execute_result"
    }
   ],
   "source": [
    "eff['장치구분'].unique()"
   ]
  },
  {
   "cell_type": "code",
   "execution_count": 1638,
   "metadata": {},
   "outputs": [
    {
     "data": {
      "text/plain": [
       "저감장치구분\n",
       "1종        294602\n",
       "엔진개조      198590\n",
       "2종        156370\n",
       "3종        148308\n",
       "엔진교체        8528\n",
       "1종+SCR      2304\n",
       "삼원촉매        2075\n",
       "Name: count, dtype: int64"
      ]
     },
     "execution_count": 1638,
     "metadata": {},
     "output_type": "execute_result"
    }
   ],
   "source": [
    "att['저감장치구분'].value_counts(dropna=False)"
   ]
  },
  {
   "cell_type": "code",
   "execution_count": 1639,
   "metadata": {},
   "outputs": [
    {
     "data": {
      "text/plain": [
       "(810777, 4)"
      ]
     },
     "execution_count": 1639,
     "metadata": {},
     "output_type": "execute_result"
    }
   ],
   "source": [
    "att.shape"
   ]
  },
  {
   "cell_type": "code",
   "execution_count": 1640,
   "metadata": {},
   "outputs": [
    {
     "data": {
      "text/plain": [
       "Index(['차대번호', '저감장치구분', '장치일련번호', '저감장치'], dtype='object')"
      ]
     },
     "execution_count": 1640,
     "metadata": {},
     "output_type": "execute_result"
    }
   ],
   "source": [
    "att.columns"
   ]
  },
  {
   "cell_type": "code",
   "execution_count": 1641,
   "metadata": {},
   "outputs": [
    {
     "data": {
      "text/plain": [
       "(810777, 3)"
      ]
     },
     "execution_count": 1641,
     "metadata": {},
     "output_type": "execute_result"
    }
   ],
   "source": [
    "att.loc[att['저감장치구분'] == '1종', '저감장치'] = 'DPF'\n",
    "att.loc[att['저감장치구분'] == '1종+SCR', '저감장치'] = 'PM-NOx저감장치'\n",
    "attm = att[['차대번호', '저감장치', '장치일련번호']]\n",
    "attm.shape"
   ]
  },
  {
   "attachments": {},
   "cell_type": "markdown",
   "metadata": {},
   "source": [
    "### 4등급에 추가"
   ]
  },
  {
   "cell_type": "code",
   "execution_count": 1642,
   "metadata": {},
   "outputs": [
    {
     "data": {
      "text/plain": [
       "(1502235, 35)"
      ]
     },
     "execution_count": 1642,
     "metadata": {},
     "output_type": "execute_result"
    }
   ],
   "source": [
    "gm4 = gm4.merge(attm, on='차대번호', how='left')\n",
    "gm4.shape"
   ]
  },
  {
   "attachments": {},
   "cell_type": "markdown",
   "metadata": {},
   "source": [
    "### 5등급에 추가"
   ]
  },
  {
   "cell_type": "code",
   "execution_count": 1644,
   "metadata": {},
   "outputs": [
    {
     "data": {
      "text/plain": [
       "(1154991, 16)"
      ]
     },
     "execution_count": 1644,
     "metadata": {},
     "output_type": "execute_result"
    }
   ],
   "source": [
    "gm5 = gm5.merge(attm, on='차대번호', how='left')\n",
    "gm5.shape"
   ]
  },
  {
   "cell_type": "code",
   "execution_count": 1645,
   "metadata": {},
   "outputs": [
    {
     "data": {
      "text/html": [
       "<div>\n",
       "<style scoped>\n",
       "    .dataframe tbody tr th:only-of-type {\n",
       "        vertical-align: middle;\n",
       "    }\n",
       "\n",
       "    .dataframe tbody tr th {\n",
       "        vertical-align: top;\n",
       "    }\n",
       "\n",
       "    .dataframe thead th {\n",
       "        text-align: right;\n",
       "    }\n",
       "</style>\n",
       "<table border=\"1\" class=\"dataframe\">\n",
       "  <thead>\n",
       "    <tr style=\"text-align: right;\">\n",
       "      <th></th>\n",
       "      <th>차량등록번호</th>\n",
       "      <th>본거지법정동코드</th>\n",
       "      <th>차대번호</th>\n",
       "      <th>제원관리번호</th>\n",
       "      <th>배출가스인증번호</th>\n",
       "      <th>배출가스등급</th>\n",
       "      <th>용도</th>\n",
       "      <th>차명</th>\n",
       "      <th>차종_제원정보</th>\n",
       "      <th>차종유형(소분류)</th>\n",
       "      <th>연료</th>\n",
       "      <th>배기량</th>\n",
       "      <th>총중량</th>\n",
       "      <th>차량연식</th>\n",
       "      <th>저감장치</th>\n",
       "      <th>장치일련번호</th>\n",
       "    </tr>\n",
       "  </thead>\n",
       "  <tbody>\n",
       "    <tr>\n",
       "      <th>0</th>\n",
       "      <td>서울1나4019</td>\n",
       "      <td>1165010700</td>\n",
       "      <td>10762211742</td>\n",
       "      <td>10004800000000</td>\n",
       "      <td>NaN</td>\n",
       "      <td>5</td>\n",
       "      <td>자가용</td>\n",
       "      <td>포니</td>\n",
       "      <td>승용</td>\n",
       "      <td>소형</td>\n",
       "      <td>휘발유</td>\n",
       "      <td>1238.00000</td>\n",
       "      <td>1145.00000</td>\n",
       "      <td>1976</td>\n",
       "      <td>NaN</td>\n",
       "      <td>NaN</td>\n",
       "    </tr>\n",
       "    <tr>\n",
       "      <th>1</th>\n",
       "      <td>대구1다1476</td>\n",
       "      <td>2711010500</td>\n",
       "      <td>KG68T122688*</td>\n",
       "      <td>30220100010946</td>\n",
       "      <td>NaN</td>\n",
       "      <td>5</td>\n",
       "      <td>자가용</td>\n",
       "      <td>퍼브리카</td>\n",
       "      <td>승용</td>\n",
       "      <td>경형</td>\n",
       "      <td>휘발유</td>\n",
       "      <td>790.00000</td>\n",
       "      <td>840.00000</td>\n",
       "      <td>1968</td>\n",
       "      <td>NaN</td>\n",
       "      <td>NaN</td>\n",
       "    </tr>\n",
       "    <tr>\n",
       "      <th>2</th>\n",
       "      <td>인천1마8052</td>\n",
       "      <td>2820010300</td>\n",
       "      <td>10762211783</td>\n",
       "      <td>10004800000000</td>\n",
       "      <td>NaN</td>\n",
       "      <td>5</td>\n",
       "      <td>자가용</td>\n",
       "      <td>포니</td>\n",
       "      <td>승용</td>\n",
       "      <td>소형</td>\n",
       "      <td>휘발유</td>\n",
       "      <td>1238.00000</td>\n",
       "      <td>1145.00000</td>\n",
       "      <td>1976</td>\n",
       "      <td>NaN</td>\n",
       "      <td>NaN</td>\n",
       "    </tr>\n",
       "    <tr>\n",
       "      <th>3</th>\n",
       "      <td>87로9835</td>\n",
       "      <td>4213011200</td>\n",
       "      <td>PN71C018511000000</td>\n",
       "      <td>30321400001063</td>\n",
       "      <td>NaN</td>\n",
       "      <td>5</td>\n",
       "      <td>자가용</td>\n",
       "      <td>JAM담프</td>\n",
       "      <td>화물</td>\n",
       "      <td>중형</td>\n",
       "      <td>경유</td>\n",
       "      <td>7255.00000</td>\n",
       "      <td>11115.00000</td>\n",
       "      <td>1971</td>\n",
       "      <td>NaN</td>\n",
       "      <td>NaN</td>\n",
       "    </tr>\n",
       "    <tr>\n",
       "      <th>4</th>\n",
       "      <td>경남1러3590</td>\n",
       "      <td>4812110500</td>\n",
       "      <td>KMHLA11FPGU060639</td>\n",
       "      <td>30381300100968</td>\n",
       "      <td>NaN</td>\n",
       "      <td>5</td>\n",
       "      <td>자가용</td>\n",
       "      <td>포니엑셀</td>\n",
       "      <td>승용</td>\n",
       "      <td>소형</td>\n",
       "      <td>휘발유</td>\n",
       "      <td>1298.00000</td>\n",
       "      <td>1135.00000</td>\n",
       "      <td>1986</td>\n",
       "      <td>NaN</td>\n",
       "      <td>NaN</td>\n",
       "    </tr>\n",
       "  </tbody>\n",
       "</table>\n",
       "</div>"
      ],
      "text/plain": [
       "     차량등록번호    본거지법정동코드               차대번호          제원관리번호 배출가스인증번호 배출가스등급   \n",
       "0  서울1나4019  1165010700        10762211742  10004800000000      NaN      5  \\\n",
       "1  대구1다1476  2711010500       KG68T122688*  30220100010946      NaN      5   \n",
       "2  인천1마8052  2820010300        10762211783  10004800000000      NaN      5   \n",
       "3   87로9835  4213011200  PN71C018511000000  30321400001063      NaN      5   \n",
       "4  경남1러3590  4812110500  KMHLA11FPGU060639  30381300100968      NaN      5   \n",
       "\n",
       "    용도     차명 차종_제원정보 차종유형(소분류)   연료        배기량         총중량  차량연식 저감장치 장치일련번호  \n",
       "0  자가용     포니      승용        소형  휘발유 1238.00000  1145.00000  1976  NaN    NaN  \n",
       "1  자가용   퍼브리카      승용        경형  휘발유  790.00000   840.00000  1968  NaN    NaN  \n",
       "2  자가용     포니      승용        소형  휘발유 1238.00000  1145.00000  1976  NaN    NaN  \n",
       "3  자가용  JAM담프      화물        중형   경유 7255.00000 11115.00000  1971  NaN    NaN  \n",
       "4  자가용   포니엑셀      승용        소형  휘발유 1298.00000  1135.00000  1986  NaN    NaN  "
      ]
     },
     "execution_count": 1645,
     "metadata": {},
     "output_type": "execute_result"
    }
   ],
   "source": [
    "gm5.head()"
   ]
  },
  {
   "cell_type": "code",
   "execution_count": 1646,
   "metadata": {},
   "outputs": [
    {
     "data": {
      "text/html": [
       "<div>\n",
       "<style scoped>\n",
       "    .dataframe tbody tr th:only-of-type {\n",
       "        vertical-align: middle;\n",
       "    }\n",
       "\n",
       "    .dataframe tbody tr th {\n",
       "        vertical-align: top;\n",
       "    }\n",
       "\n",
       "    .dataframe thead th {\n",
       "        text-align: right;\n",
       "    }\n",
       "</style>\n",
       "<table border=\"1\" class=\"dataframe\">\n",
       "  <thead>\n",
       "    <tr style=\"text-align: right;\">\n",
       "      <th></th>\n",
       "      <th>저감장치</th>\n",
       "      <th>배출가스인증번호</th>\n",
       "      <th>장치일련번호</th>\n",
       "      <th>장치인증번호</th>\n",
       "      <th>장치구분</th>\n",
       "      <th>저감효율</th>\n",
       "    </tr>\n",
       "  </thead>\n",
       "  <tbody>\n",
       "    <tr>\n",
       "      <th>0</th>\n",
       "      <td>DPF</td>\n",
       "      <td>1MY-HD-52</td>\n",
       "      <td>1006497</td>\n",
       "      <td>NaN</td>\n",
       "      <td>NaN</td>\n",
       "      <td>NaN</td>\n",
       "    </tr>\n",
       "    <tr>\n",
       "      <th>1</th>\n",
       "      <td>DPF</td>\n",
       "      <td>1MY-HD-52</td>\n",
       "      <td>ALS1500456</td>\n",
       "      <td>NaN</td>\n",
       "      <td>NaN</td>\n",
       "      <td>NaN</td>\n",
       "    </tr>\n",
       "    <tr>\n",
       "      <th>2</th>\n",
       "      <td>DPF</td>\n",
       "      <td>1MY-HD-52</td>\n",
       "      <td>C254982</td>\n",
       "      <td>NaN</td>\n",
       "      <td>NaN</td>\n",
       "      <td>NaN</td>\n",
       "    </tr>\n",
       "    <tr>\n",
       "      <th>3</th>\n",
       "      <td>DPF</td>\n",
       "      <td>1MY-HD-52</td>\n",
       "      <td>DLL060113B13</td>\n",
       "      <td>NaN</td>\n",
       "      <td>NaN</td>\n",
       "      <td>NaN</td>\n",
       "    </tr>\n",
       "    <tr>\n",
       "      <th>4</th>\n",
       "      <td>DPF</td>\n",
       "      <td>1MY-HD-52</td>\n",
       "      <td>H180403-050</td>\n",
       "      <td>NaN</td>\n",
       "      <td>NaN</td>\n",
       "      <td>NaN</td>\n",
       "    </tr>\n",
       "  </tbody>\n",
       "</table>\n",
       "</div>"
      ],
      "text/plain": [
       "  저감장치   배출가스인증번호        장치일련번호 장치인증번호 장치구분  저감효율\n",
       "0  DPF  1MY-HD-52       1006497    NaN  NaN   NaN\n",
       "1  DPF  1MY-HD-52    ALS1500456    NaN  NaN   NaN\n",
       "2  DPF  1MY-HD-52       C254982    NaN  NaN   NaN\n",
       "3  DPF  1MY-HD-52  DLL060113B13    NaN  NaN   NaN\n",
       "4  DPF  1MY-HD-52   H180403-050    NaN  NaN   NaN"
      ]
     },
     "execution_count": 1646,
     "metadata": {},
     "output_type": "execute_result"
    }
   ],
   "source": [
    "eff.head()"
   ]
  },
  {
   "cell_type": "code",
   "execution_count": 1647,
   "metadata": {},
   "outputs": [
    {
     "data": {
      "text/plain": [
       "(1156523, 17)"
      ]
     },
     "execution_count": 1647,
     "metadata": {},
     "output_type": "execute_result"
    }
   ],
   "source": [
    "gm5 = gm5.merge(eff[['장치일련번호', '저감효율']], on='장치일련번호', how='left')\n",
    "gm5.shape"
   ]
  },
  {
   "cell_type": "code",
   "execution_count": 1648,
   "metadata": {},
   "outputs": [
    {
     "data": {
      "text/plain": [
       "장치일련번호     965716\n",
       "저감효율      1156122\n",
       "dtype: int64"
      ]
     },
     "execution_count": 1648,
     "metadata": {},
     "output_type": "execute_result"
    }
   ],
   "source": [
    "gm5[['장치일련번호', '저감효율']].isnull().sum()"
   ]
  },
  {
   "attachments": {},
   "cell_type": "markdown",
   "metadata": {},
   "source": [
    "## 주행거리 추가"
   ]
  },
  {
   "cell_type": "code",
   "execution_count": 1649,
   "metadata": {},
   "outputs": [
    {
     "data": {
      "text/html": [
       "<div>\n",
       "<style scoped>\n",
       "    .dataframe tbody tr th:only-of-type {\n",
       "        vertical-align: middle;\n",
       "    }\n",
       "\n",
       "    .dataframe tbody tr th {\n",
       "        vertical-align: top;\n",
       "    }\n",
       "\n",
       "    .dataframe thead th {\n",
       "        text-align: right;\n",
       "    }\n",
       "</style>\n",
       "<table border=\"1\" class=\"dataframe\">\n",
       "  <thead>\n",
       "    <tr style=\"text-align: right;\">\n",
       "      <th></th>\n",
       "      <th>차대번호</th>\n",
       "      <th>최초등록일자수정</th>\n",
       "      <th>최근검사일자수정</th>\n",
       "      <th>최근주행거리</th>\n",
       "      <th>등록일기준검사일</th>\n",
       "      <th>현재일자</th>\n",
       "      <th>일일평균주행거리</th>\n",
       "      <th>최근검사경과일</th>\n",
       "    </tr>\n",
       "  </thead>\n",
       "  <tbody>\n",
       "    <tr>\n",
       "      <th>0</th>\n",
       "      <td>KMFXKS7BPXU248353</td>\n",
       "      <td>1998-12-30</td>\n",
       "      <td>2022-12-31</td>\n",
       "      <td>200435</td>\n",
       "      <td>8767</td>\n",
       "      <td>2023-06-16</td>\n",
       "      <td>22.86244</td>\n",
       "      <td>167</td>\n",
       "    </tr>\n",
       "    <tr>\n",
       "      <th>1</th>\n",
       "      <td>KMHSJ81UBBU661776</td>\n",
       "      <td>2010-12-09</td>\n",
       "      <td>2022-12-31</td>\n",
       "      <td>98698</td>\n",
       "      <td>4405</td>\n",
       "      <td>2023-06-16</td>\n",
       "      <td>22.40590</td>\n",
       "      <td>167</td>\n",
       "    </tr>\n",
       "    <tr>\n",
       "      <th>2</th>\n",
       "      <td>KNFSWX74CBK601727</td>\n",
       "      <td>2011-07-22</td>\n",
       "      <td>2022-12-31</td>\n",
       "      <td>75500</td>\n",
       "      <td>4180</td>\n",
       "      <td>2023-06-16</td>\n",
       "      <td>18.06220</td>\n",
       "      <td>167</td>\n",
       "    </tr>\n",
       "    <tr>\n",
       "      <th>3</th>\n",
       "      <td>KMHJN81VP6U400364</td>\n",
       "      <td>2006-03-10</td>\n",
       "      <td>2022-12-31</td>\n",
       "      <td>220693</td>\n",
       "      <td>6140</td>\n",
       "      <td>2023-06-16</td>\n",
       "      <td>35.94349</td>\n",
       "      <td>167</td>\n",
       "    </tr>\n",
       "    <tr>\n",
       "      <th>4</th>\n",
       "      <td>KMFZCS7HP7U260898</td>\n",
       "      <td>2006-12-18</td>\n",
       "      <td>2022-12-31</td>\n",
       "      <td>131699</td>\n",
       "      <td>5857</td>\n",
       "      <td>2023-06-16</td>\n",
       "      <td>22.48574</td>\n",
       "      <td>167</td>\n",
       "    </tr>\n",
       "  </tbody>\n",
       "</table>\n",
       "</div>"
      ],
      "text/plain": [
       "                차대번호   최초등록일자수정   최근검사일자수정  최근주행거리  등록일기준검사일       현재일자   \n",
       "0  KMFXKS7BPXU248353 1998-12-30 2022-12-31  200435      8767 2023-06-16  \\\n",
       "1  KMHSJ81UBBU661776 2010-12-09 2022-12-31   98698      4405 2023-06-16   \n",
       "2  KNFSWX74CBK601727 2011-07-22 2022-12-31   75500      4180 2023-06-16   \n",
       "3  KMHJN81VP6U400364 2006-03-10 2022-12-31  220693      6140 2023-06-16   \n",
       "4  KMFZCS7HP7U260898 2006-12-18 2022-12-31  131699      5857 2023-06-16   \n",
       "\n",
       "   일일평균주행거리  최근검사경과일  \n",
       "0  22.86244      167  \n",
       "1  22.40590      167  \n",
       "2  18.06220      167  \n",
       "3  35.94349      167  \n",
       "4  22.48574      167  "
      ]
     },
     "execution_count": 1649,
     "metadata": {},
     "output_type": "execute_result"
    }
   ],
   "source": [
    "chkm.head()"
   ]
  },
  {
   "cell_type": "code",
   "execution_count": 1650,
   "metadata": {},
   "outputs": [
    {
     "data": {
      "text/plain": [
       "일일평균주행거리    0\n",
       "최근검사경과일     0\n",
       "dtype: int64"
      ]
     },
     "execution_count": 1650,
     "metadata": {},
     "output_type": "execute_result"
    }
   ],
   "source": [
    "chkm[['일일평균주행거리', '최근검사경과일']].isnull().sum()"
   ]
  },
  {
   "cell_type": "code",
   "execution_count": 1651,
   "metadata": {},
   "outputs": [
    {
     "data": {
      "text/html": [
       "<div>\n",
       "<style scoped>\n",
       "    .dataframe tbody tr th:only-of-type {\n",
       "        vertical-align: middle;\n",
       "    }\n",
       "\n",
       "    .dataframe tbody tr th {\n",
       "        vertical-align: top;\n",
       "    }\n",
       "\n",
       "    .dataframe thead th {\n",
       "        text-align: right;\n",
       "    }\n",
       "</style>\n",
       "<table border=\"1\" class=\"dataframe\">\n",
       "  <thead>\n",
       "    <tr style=\"text-align: right;\">\n",
       "      <th></th>\n",
       "      <th>일일평균주행거리</th>\n",
       "      <th>최근검사경과일</th>\n",
       "    </tr>\n",
       "  </thead>\n",
       "  <tbody>\n",
       "    <tr>\n",
       "      <th>count</th>\n",
       "      <td>2009566.00000</td>\n",
       "      <td>2009566.00000</td>\n",
       "    </tr>\n",
       "    <tr>\n",
       "      <th>mean</th>\n",
       "      <td>41.55247</td>\n",
       "      <td>669.50837</td>\n",
       "    </tr>\n",
       "    <tr>\n",
       "      <th>std</th>\n",
       "      <td>77.91782</td>\n",
       "      <td>773.44140</td>\n",
       "    </tr>\n",
       "    <tr>\n",
       "      <th>min</th>\n",
       "      <td>0.00000</td>\n",
       "      <td>167.00000</td>\n",
       "    </tr>\n",
       "    <tr>\n",
       "      <th>25%</th>\n",
       "      <td>25.73761</td>\n",
       "      <td>338.00000</td>\n",
       "    </tr>\n",
       "    <tr>\n",
       "      <th>50%</th>\n",
       "      <td>36.66749</td>\n",
       "      <td>475.00000</td>\n",
       "    </tr>\n",
       "    <tr>\n",
       "      <th>75%</th>\n",
       "      <td>50.19146</td>\n",
       "      <td>689.00000</td>\n",
       "    </tr>\n",
       "    <tr>\n",
       "      <th>max</th>\n",
       "      <td>102073.36301</td>\n",
       "      <td>7676.00000</td>\n",
       "    </tr>\n",
       "  </tbody>\n",
       "</table>\n",
       "</div>"
      ],
      "text/plain": [
       "           일일평균주행거리       최근검사경과일\n",
       "count 2009566.00000 2009566.00000\n",
       "mean       41.55247     669.50837\n",
       "std        77.91782     773.44140\n",
       "min         0.00000     167.00000\n",
       "25%        25.73761     338.00000\n",
       "50%        36.66749     475.00000\n",
       "75%        50.19146     689.00000\n",
       "max    102073.36301    7676.00000"
      ]
     },
     "execution_count": 1651,
     "metadata": {},
     "output_type": "execute_result"
    }
   ],
   "source": [
    "chkm[['일일평균주행거리', '최근검사경과일']].describe()"
   ]
  },
  {
   "cell_type": "code",
   "execution_count": 1652,
   "metadata": {},
   "outputs": [
    {
     "data": {
      "text/plain": [
       "((2009566, 8), 2009566)"
      ]
     },
     "execution_count": 1652,
     "metadata": {},
     "output_type": "execute_result"
    }
   ],
   "source": [
    "chkm.shape, len(chkm['차대번호'].unique())"
   ]
  },
  {
   "cell_type": "code",
   "execution_count": 1653,
   "metadata": {},
   "outputs": [
    {
     "data": {
      "text/plain": [
       "((1502235, 35), (1156523, 17))"
      ]
     },
     "execution_count": 1653,
     "metadata": {},
     "output_type": "execute_result"
    }
   ],
   "source": [
    "gm4.shape"
   ]
  },
  {
   "cell_type": "code",
   "execution_count": 1654,
   "metadata": {},
   "outputs": [
    {
     "data": {
      "text/plain": [
       "(1502235, 42)"
      ]
     },
     "execution_count": 1654,
     "metadata": {},
     "output_type": "execute_result"
    }
   ],
   "source": [
    "gm4 = gm4.merge(chkm, on='차대번호', how='left')\n",
    "gm4.shape"
   ]
  },
  {
   "cell_type": "code",
   "execution_count": 1655,
   "metadata": {},
   "outputs": [
    {
     "data": {
      "text/plain": [
       "(1156523, 17)"
      ]
     },
     "execution_count": 1655,
     "metadata": {},
     "output_type": "execute_result"
    }
   ],
   "source": [
    "gm5.shape"
   ]
  },
  {
   "cell_type": "code",
   "execution_count": 1656,
   "metadata": {},
   "outputs": [
    {
     "data": {
      "text/plain": [
       "(1156523, 24)"
      ]
     },
     "execution_count": 1656,
     "metadata": {},
     "output_type": "execute_result"
    }
   ],
   "source": [
    "gm5 = gm5.merge(chkm, on='차대번호', how='left')\n",
    "gm5.shape"
   ]
  },
  {
   "attachments": {},
   "cell_type": "markdown",
   "metadata": {},
   "source": [
    "## 지역 추가(code)"
   ]
  },
  {
   "cell_type": "code",
   "execution_count": 1657,
   "metadata": {},
   "outputs": [
    {
     "data": {
      "text/plain": [
       "Index(['차대번호', '차량번호', '제원관리번호', '차종', '용도', '최초등록일', '연식', '제작일자', '검사유효일',\n",
       "       '배출가스인증번호', '등급', '차명', '차종분류', '차종유형', '자동차형식', '제작사명', '연료', '엔진형식',\n",
       "       '총중량', '적재중량', '엔진출력', '배기량', '법정동코드', '시도명', '시군구명', '소유자구분', '말소여부',\n",
       "       '배인번호_수정', '등급_수정', 'DPF유무_수정', 'Grade', '시군구명_수정', '1일평균주행거리', '저감장치',\n",
       "       '장치일련번호', '최초등록일자수정', '최근검사일자수정', '최근주행거리', '등록일기준검사일', '현재일자',\n",
       "       '일일평균주행거리', '최근검사경과일'],\n",
       "      dtype='object')"
      ]
     },
     "execution_count": 1657,
     "metadata": {},
     "output_type": "execute_result"
    }
   ],
   "source": [
    "gm4.columns"
   ]
  },
  {
   "cell_type": "code",
   "execution_count": 1658,
   "metadata": {},
   "outputs": [],
   "source": [
    "# gm4 = gm4.merge(code, on='본거지법정동코드', how='left')\n",
    "# gm4.shape"
   ]
  },
  {
   "cell_type": "code",
   "execution_count": 1659,
   "metadata": {},
   "outputs": [],
   "source": [
    "# gm4[['시도명', '시군구명_수정']].isnull().sum()"
   ]
  },
  {
   "cell_type": "code",
   "execution_count": 1660,
   "metadata": {},
   "outputs": [],
   "source": [
    "# gm4.loc[gm4['시구군'].isnull() == True]"
   ]
  },
  {
   "cell_type": "code",
   "execution_count": 1661,
   "metadata": {},
   "outputs": [
    {
     "data": {
      "text/plain": [
       "Index(['차량등록번호', '본거지법정동코드', '차대번호', '제원관리번호', '배출가스인증번호', '배출가스등급', '용도',\n",
       "       '차명', '차종_제원정보', '차종유형(소분류)', '연료', '배기량', '총중량', '차량연식', '저감장치',\n",
       "       '장치일련번호', '저감효율', '최초등록일자수정', '최근검사일자수정', '최근주행거리', '등록일기준검사일', '현재일자',\n",
       "       '일일평균주행거리', '최근검사경과일'],\n",
       "      dtype='object')"
      ]
     },
     "execution_count": 1661,
     "metadata": {},
     "output_type": "execute_result"
    }
   ],
   "source": [
    "gm5.columns"
   ]
  },
  {
   "cell_type": "code",
   "execution_count": 1662,
   "metadata": {},
   "outputs": [
    {
     "data": {
      "text/plain": [
       "(1156523, 26)"
      ]
     },
     "execution_count": 1662,
     "metadata": {},
     "output_type": "execute_result"
    }
   ],
   "source": [
    "gm5 = gm5.merge(code, on='본거지법정동코드', how='left')\n",
    "gm5.shape"
   ]
  },
  {
   "cell_type": "code",
   "execution_count": 1663,
   "metadata": {},
   "outputs": [
    {
     "data": {
      "text/plain": [
       "시도      0\n",
       "시구군    21\n",
       "dtype: int64"
      ]
     },
     "execution_count": 1663,
     "metadata": {},
     "output_type": "execute_result"
    }
   ],
   "source": [
    "gm5[['시도', '시구군']].isnull().sum()"
   ]
  },
  {
   "cell_type": "code",
   "execution_count": 1664,
   "metadata": {},
   "outputs": [
    {
     "data": {
      "text/plain": [
       "(21, 26)"
      ]
     },
     "execution_count": 1664,
     "metadata": {},
     "output_type": "execute_result"
    }
   ],
   "source": [
    "gm5.loc[gm5['시구군'].isnull() == True].shape"
   ]
  },
  {
   "cell_type": "code",
   "execution_count": 1665,
   "metadata": {},
   "outputs": [
    {
     "data": {
      "text/plain": [
       "100       영등포구\n",
       "101        정선군\n",
       "102         중구\n",
       "103        경산시\n",
       "104    전주시 덕진구\n",
       "105        양평군\n",
       "Name: 시구군, dtype: object"
      ]
     },
     "execution_count": 1665,
     "metadata": {},
     "output_type": "execute_result"
    }
   ],
   "source": [
    "gm5.loc[100:105, '시구군']"
   ]
  },
  {
   "cell_type": "code",
   "execution_count": 1666,
   "metadata": {},
   "outputs": [],
   "source": [
    "gm5['시구군'] = gm5['시구군'].str.split(' ').str[0]"
   ]
  },
  {
   "cell_type": "code",
   "execution_count": 1667,
   "metadata": {},
   "outputs": [
    {
     "data": {
      "text/plain": [
       "100    영등포구\n",
       "101     정선군\n",
       "102      중구\n",
       "103     경산시\n",
       "104     전주시\n",
       "105     양평군\n",
       "Name: 시구군, dtype: object"
      ]
     },
     "execution_count": 1667,
     "metadata": {},
     "output_type": "execute_result"
    }
   ],
   "source": [
    "gm5.loc[100:105, '시구군']"
   ]
  },
  {
   "cell_type": "code",
   "execution_count": 1669,
   "metadata": {},
   "outputs": [
    {
     "data": {
      "text/plain": [
       "Index(['차량등록번호', '본거지법정동코드', '차대번호', '제원관리번호', '배출가스인증번호', '배출가스등급', '용도',\n",
       "       '차명', '차종', '차종유형', '연료', '배기량', '총중량', '차량연식', '저감장치', '장치일련번호',\n",
       "       '저감효율', '최초등록일자수정', '최근검사일자수정', '최근주행거리', '등록일기준검사일', '현재일자',\n",
       "       '일일평균주행거리', '최근검사경과일', '시도', '시구군'],\n",
       "      dtype='object')"
      ]
     },
     "execution_count": 1669,
     "metadata": {},
     "output_type": "execute_result"
    }
   ],
   "source": [
    "# gm4 = gm4.rename(columns={'차종_제원정보':'차종'})\n",
    "gm5 = gm5.rename(columns={'차종_제원정보':'차종', '차종유형(소분류)':'차종유형'})\n",
    "gm5.columns"
   ]
  },
  {
   "attachments": {},
   "cell_type": "markdown",
   "metadata": {},
   "source": [
    "### 4등급에 검사정보 추가(insm)"
   ]
  },
  {
   "cell_type": "code",
   "execution_count": 1670,
   "metadata": {},
   "outputs": [
    {
     "data": {
      "text/plain": [
       "Index(['차대번호', '주행거리', '검사일자', '검사방법', '검사종류', '검사판정', '무부하매연판정1', '무부하매연판정2',\n",
       "       '무부하매연판정3', '무부하매연측정치1', '무부하매연측정치2', '무부하매연측정치3', '정기정밀'],\n",
       "      dtype='object')"
      ]
     },
     "execution_count": 1670,
     "metadata": {},
     "output_type": "execute_result"
    }
   ],
   "source": [
    "insm.columns"
   ]
  },
  {
   "cell_type": "code",
   "execution_count": 1671,
   "metadata": {},
   "outputs": [
    {
     "data": {
      "text/plain": [
       "((22044208, 13), 22044208)"
      ]
     },
     "execution_count": 1671,
     "metadata": {},
     "output_type": "execute_result"
    }
   ],
   "source": [
    "# 23.4s\n",
    "insm.shape, len(insm['차대번호'].unique())"
   ]
  },
  {
   "cell_type": "code",
   "execution_count": 1674,
   "metadata": {},
   "outputs": [
    {
     "data": {
      "text/plain": [
       "(1502235, 54)"
      ]
     },
     "execution_count": 1674,
     "metadata": {},
     "output_type": "execute_result"
    }
   ],
   "source": [
    "# about 30.7s\n",
    "gm4 = gm4.merge(insm, on='차대번호', how='left')\n",
    "gm4.shape"
   ]
  },
  {
   "cell_type": "code",
   "execution_count": 1675,
   "metadata": {},
   "outputs": [
    {
     "data": {
      "text/plain": [
       "Index(['차대번호', '차량번호', '제원관리번호', '차종', '용도', '최초등록일', '연식', '제작일자', '검사유효일',\n",
       "       '배출가스인증번호', '등급', '차명', '차종분류', '차종유형', '자동차형식', '제작사명', '연료', '엔진형식',\n",
       "       '총중량', '적재중량', '엔진출력', '배기량', '법정동코드', '시도명', '시군구명', '소유자구분', '말소여부',\n",
       "       '배인번호_수정', '등급_수정', 'DPF유무_수정', 'Grade', '시군구명_수정', '1일평균주행거리', '저감장치',\n",
       "       '장치일련번호', '최초등록일자수정', '최근검사일자수정', '최근주행거리', '등록일기준검사일', '현재일자',\n",
       "       '일일평균주행거리', '최근검사경과일', '주행거리', '검사일자', '검사방법', '검사종류', '검사판정',\n",
       "       '무부하매연판정1', '무부하매연판정2', '무부하매연판정3', '무부하매연측정치1', '무부하매연측정치2',\n",
       "       '무부하매연측정치3', '정기정밀'],\n",
       "      dtype='object')"
      ]
     },
     "execution_count": 1675,
     "metadata": {},
     "output_type": "execute_result"
    }
   ],
   "source": [
    "gm4.columns"
   ]
  },
  {
   "attachments": {},
   "cell_type": "markdown",
   "metadata": {},
   "source": [
    "### 5등급에 검사정보 추가(insm)"
   ]
  },
  {
   "cell_type": "code",
   "execution_count": 1676,
   "metadata": {},
   "outputs": [
    {
     "data": {
      "text/plain": [
       "저감장치\n",
       "NaN           1011987\n",
       "DPF            142739\n",
       "PM-NOx저감장치       1797\n",
       "Name: count, dtype: int64"
      ]
     },
     "execution_count": 1676,
     "metadata": {},
     "output_type": "execute_result"
    }
   ],
   "source": [
    "gm5['저감장치'].value_counts(dropna=False)"
   ]
  },
  {
   "cell_type": "code",
   "execution_count": 1677,
   "metadata": {},
   "outputs": [
    {
     "data": {
      "text/plain": [
       "(1156523, 26)"
      ]
     },
     "execution_count": 1677,
     "metadata": {},
     "output_type": "execute_result"
    }
   ],
   "source": [
    "gm5.shape"
   ]
  },
  {
   "cell_type": "code",
   "execution_count": 1678,
   "metadata": {},
   "outputs": [
    {
     "data": {
      "text/plain": [
       "(1156523, 38)"
      ]
     },
     "execution_count": 1678,
     "metadata": {},
     "output_type": "execute_result"
    }
   ],
   "source": [
    "# 30.5s\n",
    "gm5 = gm5.merge(insm, on='차대번호', how='left')\n",
    "gm5.shape"
   ]
  },
  {
   "cell_type": "code",
   "execution_count": 1679,
   "metadata": {},
   "outputs": [
    {
     "data": {
      "text/plain": [
       "Index(['차량등록번호', '본거지법정동코드', '차대번호', '제원관리번호', '배출가스인증번호', '배출가스등급', '용도',\n",
       "       '차명', '차종', '차종유형', '연료', '배기량', '총중량', '차량연식', '저감장치', '장치일련번호',\n",
       "       '저감효율', '최초등록일자수정', '최근검사일자수정', '최근주행거리', '등록일기준검사일', '현재일자',\n",
       "       '일일평균주행거리', '최근검사경과일', '시도', '시구군', '주행거리', '검사일자', '검사방법', '검사종류',\n",
       "       '검사판정', '무부하매연판정1', '무부하매연판정2', '무부하매연판정3', '무부하매연측정치1', '무부하매연측정치2',\n",
       "       '무부하매연측정치3', '정기정밀'],\n",
       "      dtype='object')"
      ]
     },
     "execution_count": 1679,
     "metadata": {},
     "output_type": "execute_result"
    }
   ],
   "source": [
    "gm5.columns"
   ]
  },
  {
   "attachments": {},
   "cell_type": "markdown",
   "metadata": {},
   "source": [
    "## 등급 수정\n",
    "- 5등급으로 수정\n",
    "    - '배인번호_수정' == '4MY-DB-04' : 24개\n",
    "    - '배인번호_수정' == '4MY-DB-03' : 9개"
   ]
  },
  {
   "cell_type": "code",
   "execution_count": 1680,
   "metadata": {},
   "outputs": [
    {
     "data": {
      "text/plain": [
       "등급_수정\n",
       "4.00000    1497678\n",
       "3.00000       4397\n",
       "5.00000        160\n",
       "Name: count, dtype: int64"
      ]
     },
     "execution_count": 1680,
     "metadata": {},
     "output_type": "execute_result"
    }
   ],
   "source": [
    "gm4['등급_수정'].value_counts(dropna=False)"
   ]
  },
  {
   "cell_type": "code",
   "execution_count": 1681,
   "metadata": {},
   "outputs": [
    {
     "data": {
      "text/plain": [
       "(24, 54)"
      ]
     },
     "execution_count": 1681,
     "metadata": {},
     "output_type": "execute_result"
    }
   ],
   "source": [
    "gm4.loc[gm4['배인번호_수정'] == '4MY-DB-04'].shape"
   ]
  },
  {
   "cell_type": "code",
   "execution_count": 1682,
   "metadata": {},
   "outputs": [
    {
     "data": {
      "text/plain": [
       "array([5.])"
      ]
     },
     "execution_count": 1682,
     "metadata": {},
     "output_type": "execute_result"
    }
   ],
   "source": [
    "gm4.loc[gm4['배인번호_수정'] == '4MY-DB-04', '등급_수정'].unique()"
   ]
  },
  {
   "cell_type": "code",
   "execution_count": 1683,
   "metadata": {},
   "outputs": [],
   "source": [
    "gm4.loc[gm4['배인번호_수정'] == '4MY-DB-04', '등급_수정'] = 5"
   ]
  },
  {
   "cell_type": "code",
   "execution_count": 1684,
   "metadata": {},
   "outputs": [
    {
     "data": {
      "text/plain": [
       "array([5.])"
      ]
     },
     "execution_count": 1684,
     "metadata": {},
     "output_type": "execute_result"
    }
   ],
   "source": [
    "gm4.loc[gm4['배인번호_수정'] == '4MY-DB-04', '등급_수정'].unique()"
   ]
  },
  {
   "cell_type": "code",
   "execution_count": 1685,
   "metadata": {},
   "outputs": [
    {
     "data": {
      "text/plain": [
       "(9, 54)"
      ]
     },
     "execution_count": 1685,
     "metadata": {},
     "output_type": "execute_result"
    }
   ],
   "source": [
    "gm4.loc[gm4['배인번호_수정'] == '4MY-DB-03'].shape"
   ]
  },
  {
   "cell_type": "code",
   "execution_count": 1686,
   "metadata": {},
   "outputs": [
    {
     "data": {
      "text/plain": [
       "array([5.])"
      ]
     },
     "execution_count": 1686,
     "metadata": {},
     "output_type": "execute_result"
    }
   ],
   "source": [
    "gm4.loc[gm4['배인번호_수정'] == '4MY-DB-03', '등급_수정'].unique()"
   ]
  },
  {
   "cell_type": "code",
   "execution_count": 1687,
   "metadata": {},
   "outputs": [],
   "source": [
    "gm4.loc[gm4['배인번호_수정'] == '4MY-DB-03', '등급_수정'] = 5"
   ]
  },
  {
   "cell_type": "code",
   "execution_count": 1688,
   "metadata": {},
   "outputs": [
    {
     "data": {
      "text/plain": [
       "array([5.])"
      ]
     },
     "execution_count": 1688,
     "metadata": {},
     "output_type": "execute_result"
    }
   ],
   "source": [
    "gm4.loc[gm4['배인번호_수정'] == '4MY-DB-03', '등급_수정'].unique()"
   ]
  },
  {
   "cell_type": "code",
   "execution_count": 1689,
   "metadata": {},
   "outputs": [
    {
     "data": {
      "text/plain": [
       "등급_수정\n",
       "4.00000    1497678\n",
       "3.00000       4397\n",
       "5.00000        160\n",
       "Name: count, dtype: int64"
      ]
     },
     "execution_count": 1689,
     "metadata": {},
     "output_type": "execute_result"
    }
   ],
   "source": [
    "gm4['등급_수정'].value_counts(dropna=False)"
   ]
  },
  {
   "attachments": {},
   "cell_type": "markdown",
   "metadata": {},
   "source": [
    "### 6MY-HD-14-64 DPF장착으로 수정"
   ]
  },
  {
   "cell_type": "code",
   "execution_count": 1690,
   "metadata": {},
   "outputs": [
    {
     "data": {
      "text/plain": [
       "DPF유무_수정\n",
       "확인불가    4088\n",
       "Name: count, dtype: int64"
      ]
     },
     "execution_count": 1690,
     "metadata": {},
     "output_type": "execute_result"
    }
   ],
   "source": [
    "gm4.loc[gm4['배인번호_수정'] == '6MY-HD-14-64', 'DPF유무_수정'].value_counts(dropna=False)"
   ]
  },
  {
   "cell_type": "code",
   "execution_count": 1691,
   "metadata": {},
   "outputs": [],
   "source": [
    "gm4.loc[gm4['배인번호_수정'] == '6MY-HD-14-64', 'DPF유무_수정'] = '유'"
   ]
  },
  {
   "cell_type": "code",
   "execution_count": 1692,
   "metadata": {},
   "outputs": [
    {
     "data": {
      "text/plain": [
       "DPF유무_수정\n",
       "유    4088\n",
       "Name: count, dtype: int64"
      ]
     },
     "execution_count": 1692,
     "metadata": {},
     "output_type": "execute_result"
    }
   ],
   "source": [
    "gm4.loc[gm4['배인번호_수정'] == '6MY-HD-14-64', 'DPF유무_수정'].value_counts(dropna=False)"
   ]
  },
  {
   "attachments": {},
   "cell_type": "markdown",
   "metadata": {},
   "source": [
    "## 운행제한건수 정보 추가"
   ]
  },
  {
   "cell_type": "code",
   "execution_count": 1693,
   "metadata": {},
   "outputs": [
    {
     "data": {
      "text/plain": [
       "Index(['차대번호', '계절제_1차', '계절제_2차', '계절제_3차', '비상시', '상시', '계절제_4차', '운행제한건수'], dtype='object')"
      ]
     },
     "execution_count": 1693,
     "metadata": {},
     "output_type": "execute_result"
    }
   ],
   "source": [
    "lcnt.columns"
   ]
  },
  {
   "cell_type": "code",
   "execution_count": 1694,
   "metadata": {},
   "outputs": [
    {
     "data": {
      "text/plain": [
       "(1502235, 54)"
      ]
     },
     "execution_count": 1694,
     "metadata": {},
     "output_type": "execute_result"
    }
   ],
   "source": [
    "gm4.shape"
   ]
  },
  {
   "cell_type": "code",
   "execution_count": 1695,
   "metadata": {},
   "outputs": [
    {
     "data": {
      "text/plain": [
       "(1502235, 55)"
      ]
     },
     "execution_count": 1695,
     "metadata": {},
     "output_type": "execute_result"
    }
   ],
   "source": [
    "gm4 = gm4.merge(lcnt[['차대번호', '운행제한건수']], on='차대번호', how='left')\n",
    "gm4.shape"
   ]
  },
  {
   "cell_type": "code",
   "execution_count": 1696,
   "metadata": {},
   "outputs": [
    {
     "data": {
      "text/plain": [
       "(1156523, 38)"
      ]
     },
     "execution_count": 1696,
     "metadata": {},
     "output_type": "execute_result"
    }
   ],
   "source": [
    "gm5.shape"
   ]
  },
  {
   "cell_type": "code",
   "execution_count": 1697,
   "metadata": {},
   "outputs": [
    {
     "data": {
      "text/plain": [
       "(1156523, 39)"
      ]
     },
     "execution_count": 1697,
     "metadata": {},
     "output_type": "execute_result"
    }
   ],
   "source": [
    "gm5 = gm5.merge(lcnt[['차대번호', '운행제한건수']], on='차대번호', how='left')\n",
    "gm5.shape"
   ]
  },
  {
   "attachments": {},
   "cell_type": "markdown",
   "metadata": {},
   "source": [
    "### [출력] 전처리완료"
   ]
  },
  {
   "cell_type": "code",
   "execution_count": 1699,
   "metadata": {},
   "outputs": [],
   "source": [
    "# about 37.6s\n",
    "gm4.to_csv(os.path.join(ods_fold, 'BD3_3_4등급_전처리완료.csv'), index=False, encoding='cp949')"
   ]
  },
  {
   "cell_type": "code",
   "execution_count": 1700,
   "metadata": {},
   "outputs": [],
   "source": [
    "# about 18.8s\n",
    "gm5.to_csv(os.path.join(ods_fold, 'BD3_3_5등급_전처리완료.csv'), index=False, encoding='cp949')"
   ]
  },
  {
   "attachments": {},
   "cell_type": "markdown",
   "metadata": {},
   "source": [
    "# [로드] 전처리 완료"
   ]
  },
  {
   "cell_type": "code",
   "execution_count": 1251,
   "metadata": {},
   "outputs": [
    {
     "name": "stdout",
     "output_type": "stream",
     "text": [
      "<class 'pandas.core.frame.DataFrame'>\n",
      "RangeIndex: 1502235 entries, 0 to 1502234\n",
      "Data columns (total 60 columns):\n",
      " #   Column         Non-Null Count    Dtype  \n",
      "---  ------         --------------    -----  \n",
      " 0   차대번호           1502235 non-null  object \n",
      " 1   차량번호           1502235 non-null  object \n",
      " 2   제원관리번호         1502235 non-null  object \n",
      " 3   차종             1502235 non-null  object \n",
      " 4   용도             1502235 non-null  object \n",
      " 5   최초등록일          1502235 non-null  int64  \n",
      " 6   연식             1502235 non-null  int64  \n",
      " 7   제작일자           1335178 non-null  float64\n",
      " 8   검사유효일          1502223 non-null  float64\n",
      " 9   배출가스인증번호       1384783 non-null  object \n",
      " 10  등급             1502235 non-null  int64  \n",
      " 11  차명             1502235 non-null  object \n",
      " 12  차종분류           1502235 non-null  object \n",
      " 13  차종유형           1502235 non-null  object \n",
      " 14  자동차형식          1501958 non-null  object \n",
      " 15  제작사명           1492590 non-null  object \n",
      " 16  연료             1502235 non-null  object \n",
      " 17  엔진형식           1500400 non-null  object \n",
      " 18  총중량            1502234 non-null  float64\n",
      " 19  적재중량           1501728 non-null  float64\n",
      " 20  엔진출력           1501882 non-null  object \n",
      " 21  배기량            1502231 non-null  float64\n",
      " 22  법정동코드          1502235 non-null  int64  \n",
      " 23  시도명            1502235 non-null  object \n",
      " 24  시군구명           1502235 non-null  object \n",
      " 25  소유자구분          1502235 non-null  object \n",
      " 26  말소여부           1502235 non-null  object \n",
      " 27  배인번호_수정        1153813 non-null  object \n",
      " 28  등급_수정          1502235 non-null  float64\n",
      " 29  DPF유무_수정       1153813 non-null  object \n",
      " 30  Grade          1497711 non-null  object \n",
      " 31  시군구명_수정        1502235 non-null  object \n",
      " 32  1일평균주행거리       1502235 non-null  float64\n",
      " 33  조기폐차최종승인YN     0 non-null        float64\n",
      " 34  저감장치           33 non-null       object \n",
      " 35  장치일련번호         35 non-null       object \n",
      " 36  일일평균주행거리       1103875 non-null  float64\n",
      " 37  연간주행거리         1103875 non-null  float64\n",
      " 38  최신경과기간         1148507 non-null  float64\n",
      " 39  주행거리           1187811 non-null  float64\n",
      " 40  검사일자           1187943 non-null  float64\n",
      " 41  검사방법           1187943 non-null  object \n",
      " 42  검사종류           1187943 non-null  object \n",
      " 43  검사판정           1187943 non-null  object \n",
      " 44  무부하매연판정1       1178171 non-null  object \n",
      " 45  무부하매연판정2       100095 non-null   object \n",
      " 46  무부하매연판정3       99194 non-null    object \n",
      " 47  무부하매연측정치1      1178175 non-null  float64\n",
      " 48  무부하매연측정치2      423337 non-null   float64\n",
      " 49  무부하매연측정치3      389276 non-null   float64\n",
      " 50  정기정밀           1187943 non-null  object \n",
      " 51  비상시및계절제단속발령건수  53 non-null       float64\n",
      " 52  비상시및계절제단속발령YN  53 non-null       object \n",
      " 53  운행제한단속정보건수     138 non-null      float64\n",
      " 54  운행제한단속정보YN     138 non-null      object \n",
      " 55  계절제1차단속YN      11 non-null       object \n",
      " 56  계절제2차단속YN      31 non-null       object \n",
      " 57  계절제3차단속YN      6 non-null        object \n",
      " 58  비상시단속YN        8 non-null        object \n",
      " 59  운행제한건수         90 non-null       float64\n",
      "dtypes: float64(19), int64(4), object(37)\n",
      "memory usage: 687.7+ MB\n"
     ]
    }
   ],
   "source": [
    "# about 23.5s\n",
    "name = 'BD3_3_4등급_전처리완료'\n",
    "file_name = f'{name}.csv'\n",
    "gm4 = pd.read_csv(os.path.join(ods_fold, file_name), low_memory=False, encoding='cp949')\n",
    "gm4.info()"
   ]
  },
  {
   "cell_type": "code",
   "execution_count": 1252,
   "metadata": {},
   "outputs": [
    {
     "name": "stdout",
     "output_type": "stream",
     "text": [
      "<class 'pandas.core.frame.DataFrame'>\n",
      "RangeIndex: 1156523 entries, 0 to 1156522\n",
      "Data columns (total 44 columns):\n",
      " #   Column         Non-Null Count    Dtype  \n",
      "---  ------         --------------    -----  \n",
      " 0   차량등록번호         1156523 non-null  object \n",
      " 1   본거지법정동코드       1156523 non-null  int64  \n",
      " 2   차대번호           1156523 non-null  object \n",
      " 3   제원관리번호         1156523 non-null  object \n",
      " 4   배출가스인증번호       544272 non-null   object \n",
      " 5   배출가스등급         1156523 non-null  object \n",
      " 6   용도             1156523 non-null  object \n",
      " 7   차명             1156522 non-null  object \n",
      " 8   차종             1156523 non-null  object \n",
      " 9   차종유형           1156523 non-null  object \n",
      " 10  연료             1156523 non-null  object \n",
      " 11  배기량            1156521 non-null  float64\n",
      " 12  총중량            1156522 non-null  float64\n",
      " 13  차량연식           1156523 non-null  int64  \n",
      " 14  조기폐차최종승인YN     13705 non-null    object \n",
      " 15  저감장치           144536 non-null   object \n",
      " 16  장치일련번호         190807 non-null   object \n",
      " 17  저감효율           401 non-null      float64\n",
      " 18  일일평균주행거리       667080 non-null   float64\n",
      " 19  연간주행거리         667080 non-null   float64\n",
      " 20  최신경과기간         770931 non-null   float64\n",
      " 21  시도             1156523 non-null  object \n",
      " 22  시구군            1156502 non-null  object \n",
      " 23  주행거리           770879 non-null   float64\n",
      " 24  검사일자           771146 non-null   float64\n",
      " 25  검사방법           771146 non-null   object \n",
      " 26  검사종류           771146 non-null   object \n",
      " 27  검사판정           771146 non-null   object \n",
      " 28  무부하매연판정1       764278 non-null   object \n",
      " 29  무부하매연판정2       113922 non-null   object \n",
      " 30  무부하매연판정3       113586 non-null   object \n",
      " 31  무부하매연측정치1      764289 non-null   float64\n",
      " 32  무부하매연측정치2      262282 non-null   float64\n",
      " 33  무부하매연측정치3      239416 non-null   float64\n",
      " 34  정기정밀           771146 non-null   object \n",
      " 35  비상시및계절제단속발령건수  774924 non-null   float64\n",
      " 36  비상시및계절제단속발령YN  774924 non-null   object \n",
      " 37  운행제한단속정보건수     49265 non-null    float64\n",
      " 38  운행제한단속정보YN     49265 non-null    object \n",
      " 39  계절제1차단속YN      78729 non-null    object \n",
      " 40  계절제2차단속YN      429055 non-null   object \n",
      " 41  계절제3차단속YN      504166 non-null   object \n",
      " 42  비상시단속YN        325850 non-null   object \n",
      " 43  운행제한건수         448588 non-null   float64\n",
      "dtypes: float64(14), int64(2), object(28)\n",
      "memory usage: 388.2+ MB\n"
     ]
    }
   ],
   "source": [
    "# about 9.0s\n",
    "name = 'BD3_3_5등급_전처리완료'\n",
    "file_name = f'{name}.csv'\n",
    "gm5 = pd.read_csv(os.path.join(ods_fold, file_name), low_memory=False, encoding='cp949')\n",
    "gm5.info()"
   ]
  },
  {
   "attachments": {},
   "cell_type": "markdown",
   "metadata": {},
   "source": [
    "## 4등급 경유차 추출(gm4d)"
   ]
  },
  {
   "cell_type": "code",
   "execution_count": 1701,
   "metadata": {},
   "outputs": [
    {
     "data": {
      "text/plain": [
       "연료\n",
       "경유             1153812\n",
       "휘발유             323020\n",
       "LPG(액화석유가스)      25400\n",
       "알코올                  1\n",
       "기타연료                 1\n",
       "CNG(압축천연가스)          1\n",
       "Name: count, dtype: int64"
      ]
     },
     "execution_count": 1701,
     "metadata": {},
     "output_type": "execute_result"
    }
   ],
   "source": [
    "gm4['연료'].value_counts(dropna=False)"
   ]
  },
  {
   "cell_type": "code",
   "execution_count": 1702,
   "metadata": {},
   "outputs": [
    {
     "data": {
      "text/plain": [
       "등급_수정\n",
       "4.00000    1497678\n",
       "3.00000       4397\n",
       "5.00000        160\n",
       "Name: count, dtype: int64"
      ]
     },
     "execution_count": 1702,
     "metadata": {},
     "output_type": "execute_result"
    }
   ],
   "source": [
    "gm4['등급_수정'].value_counts(dropna=False)"
   ]
  },
  {
   "cell_type": "code",
   "execution_count": 1703,
   "metadata": {},
   "outputs": [
    {
     "data": {
      "text/plain": [
       "(1149256, 55)"
      ]
     },
     "execution_count": 1703,
     "metadata": {},
     "output_type": "execute_result"
    }
   ],
   "source": [
    "gm4d = gm4.loc[(gm4['연료'] == '경유') & (gm4['등급_수정'] == 4)].reset_index(drop=True)\n",
    "gm4d.shape"
   ]
  },
  {
   "cell_type": "code",
   "execution_count": 1704,
   "metadata": {},
   "outputs": [
    {
     "data": {
      "text/plain": [
       "(352979, 55)"
      ]
     },
     "execution_count": 1704,
     "metadata": {},
     "output_type": "execute_result"
    }
   ],
   "source": [
    "gm4r = gm4.loc[(gm4['연료'] != '경유') | (gm4['등급_수정'] != 4)].reset_index(drop=True)\n",
    "gm4r.shape"
   ]
  },
  {
   "cell_type": "code",
   "execution_count": 1705,
   "metadata": {},
   "outputs": [
    {
     "data": {
      "text/plain": [
       "Index(['차대번호', '차량번호', '제원관리번호', '차종', '용도', '최초등록일', '연식', '제작일자', '검사유효일',\n",
       "       '배출가스인증번호', '등급', '차명', '차종분류', '차종유형', '자동차형식', '제작사명', '연료', '엔진형식',\n",
       "       '총중량', '적재중량', '엔진출력', '배기량', '법정동코드', '시도명', '시군구명', '소유자구분', '말소여부',\n",
       "       '배인번호_수정', '등급_수정', 'DPF유무_수정', 'Grade', '시군구명_수정', '1일평균주행거리', '저감장치',\n",
       "       '장치일련번호', '최초등록일자수정', '최근검사일자수정', '최근주행거리', '등록일기준검사일', '현재일자',\n",
       "       '일일평균주행거리', '최근검사경과일', '주행거리', '검사일자', '검사방법', '검사종류', '검사판정',\n",
       "       '무부하매연판정1', '무부하매연판정2', '무부하매연판정3', '무부하매연측정치1', '무부하매연측정치2',\n",
       "       '무부하매연측정치3', '정기정밀', '운행제한건수'],\n",
       "      dtype='object')"
      ]
     },
     "execution_count": 1705,
     "metadata": {},
     "output_type": "execute_result"
    }
   ],
   "source": [
    "gm4d.columns"
   ]
  },
  {
   "attachments": {},
   "cell_type": "markdown",
   "metadata": {},
   "source": [
    "## 5등급 경유차 추출(gm5d)"
   ]
  },
  {
   "cell_type": "code",
   "execution_count": 1706,
   "metadata": {},
   "outputs": [
    {
     "data": {
      "text/plain": [
       "연료\n",
       "경유             1125999\n",
       "휘발유              30075\n",
       "LPG(액화석유가스)        438\n",
       "무동력                  5\n",
       "CNG(압축천연가스)          5\n",
       "알코올                  1\n",
       "Name: count, dtype: int64"
      ]
     },
     "execution_count": 1706,
     "metadata": {},
     "output_type": "execute_result"
    }
   ],
   "source": [
    "gm5['연료'].value_counts(dropna=False)"
   ]
  },
  {
   "cell_type": "code",
   "execution_count": 1707,
   "metadata": {},
   "outputs": [
    {
     "data": {
      "text/plain": [
       "(1125999, 39)"
      ]
     },
     "execution_count": 1707,
     "metadata": {},
     "output_type": "execute_result"
    }
   ],
   "source": [
    "gm5d = gm5.loc[gm5['연료'] == '경유'].reset_index(drop=True)\n",
    "gm5d.shape"
   ]
  },
  {
   "cell_type": "code",
   "execution_count": 1708,
   "metadata": {},
   "outputs": [
    {
     "data": {
      "text/plain": [
       "(30524, 39)"
      ]
     },
     "execution_count": 1708,
     "metadata": {},
     "output_type": "execute_result"
    }
   ],
   "source": [
    "gm5r = gm5.loc[gm5['연료'] != '경유'].reset_index(drop=True)\n",
    "gm5r.shape"
   ]
  },
  {
   "cell_type": "code",
   "execution_count": 1709,
   "metadata": {},
   "outputs": [
    {
     "data": {
      "text/plain": [
       "Index(['차량등록번호', '본거지법정동코드', '차대번호', '제원관리번호', '배출가스인증번호', '배출가스등급', '용도',\n",
       "       '차명', '차종', '차종유형', '연료', '배기량', '총중량', '차량연식', '저감장치', '장치일련번호',\n",
       "       '저감효율', '최초등록일자수정', '최근검사일자수정', '최근주행거리', '등록일기준검사일', '현재일자',\n",
       "       '일일평균주행거리', '최근검사경과일', '시도', '시구군', '주행거리', '검사일자', '검사방법', '검사종류',\n",
       "       '검사판정', '무부하매연판정1', '무부하매연판정2', '무부하매연판정3', '무부하매연측정치1', '무부하매연측정치2',\n",
       "       '무부하매연측정치3', '정기정밀', '운행제한건수'],\n",
       "      dtype='object')"
      ]
     },
     "execution_count": 1709,
     "metadata": {},
     "output_type": "execute_result"
    }
   ],
   "source": [
    "gm5d.columns"
   ]
  },
  {
   "attachments": {},
   "cell_type": "markdown",
   "metadata": {},
   "source": [
    "# 이상값 추출"
   ]
  },
  {
   "cell_type": "code",
   "execution_count": 1710,
   "metadata": {},
   "outputs": [],
   "source": [
    "gm4d = gm4d.drop(['시군구명_수정', '1일평균주행거리'], axis=1)"
   ]
  },
  {
   "cell_type": "code",
   "execution_count": 1711,
   "metadata": {},
   "outputs": [
    {
     "data": {
      "text/plain": [
       "1149171"
      ]
     },
     "execution_count": 1711,
     "metadata": {},
     "output_type": "execute_result"
    }
   ],
   "source": [
    "gm4d['운행제한건수'].isnull().sum()"
   ]
  },
  {
   "cell_type": "code",
   "execution_count": 1712,
   "metadata": {},
   "outputs": [
    {
     "data": {
      "text/plain": [
       "0"
      ]
     },
     "execution_count": 1712,
     "metadata": {},
     "output_type": "execute_result"
    }
   ],
   "source": [
    "gm4d['운행제한건수'] = gm4d['운행제한건수'].fillna(0)\n",
    "gm4d['운행제한건수'].isnull().sum()"
   ]
  },
  {
   "cell_type": "code",
   "execution_count": 1713,
   "metadata": {},
   "outputs": [
    {
     "data": {
      "text/plain": [
       "677716"
      ]
     },
     "execution_count": 1713,
     "metadata": {},
     "output_type": "execute_result"
    }
   ],
   "source": [
    "gm5d['운행제한건수'].isnull().sum()"
   ]
  },
  {
   "cell_type": "code",
   "execution_count": 1714,
   "metadata": {},
   "outputs": [
    {
     "data": {
      "text/plain": [
       "0"
      ]
     },
     "execution_count": 1714,
     "metadata": {},
     "output_type": "execute_result"
    }
   ],
   "source": [
    "gm5d['운행제한건수'] = gm5d['운행제한건수'].fillna(0)\n",
    "gm5d['운행제한건수'].isnull().sum()"
   ]
  },
  {
   "cell_type": "code",
   "execution_count": 1715,
   "metadata": {},
   "outputs": [
    {
     "data": {
      "text/plain": [
       "((1149256, 53), (1125999, 39))"
      ]
     },
     "execution_count": 1715,
     "metadata": {},
     "output_type": "execute_result"
    }
   ],
   "source": [
    "gm4d.shape, gm5d.shape"
   ]
  },
  {
   "cell_type": "code",
   "execution_count": 1716,
   "metadata": {},
   "outputs": [
    {
     "data": {
      "text/plain": [
       "1149256"
      ]
     },
     "execution_count": 1716,
     "metadata": {},
     "output_type": "execute_result"
    }
   ],
   "source": [
    "idx4 = set(gm4d.index)\n",
    "len(idx4)"
   ]
  },
  {
   "cell_type": "code",
   "execution_count": 1717,
   "metadata": {},
   "outputs": [
    {
     "data": {
      "text/plain": [
       "1125999"
      ]
     },
     "execution_count": 1717,
     "metadata": {},
     "output_type": "execute_result"
    }
   ],
   "source": [
    "idx5 = set(gm5d.index)\n",
    "len(idx5)"
   ]
  },
  {
   "attachments": {},
   "cell_type": "markdown",
   "metadata": {},
   "source": [
    "## 1\\. 검사기록 이상 차량\n",
    "- 없거나 760일 초과"
   ]
  },
  {
   "cell_type": "code",
   "execution_count": 1867,
   "metadata": {},
   "outputs": [
    {
     "data": {
      "text/plain": [
       "(138345, 53)"
      ]
     },
     "execution_count": 1867,
     "metadata": {},
     "output_type": "execute_result"
    }
   ],
   "source": [
    "gm4d[(gm4d['정기정밀'].isnull() == True) | (gm4d['최근검사경과일'] > 760)].shape"
   ]
  },
  {
   "cell_type": "code",
   "execution_count": 1868,
   "metadata": {},
   "outputs": [
    {
     "data": {
      "text/plain": [
       "1010911"
      ]
     },
     "execution_count": 1868,
     "metadata": {},
     "output_type": "execute_result"
    }
   ],
   "source": [
    "idx41 = idx4 - set(gm4d[(gm4d['정기정밀'].isnull() == True) | (gm4d['최근검사경과일'] > 760)].index)\n",
    "len(idx41)"
   ]
  },
  {
   "cell_type": "code",
   "execution_count": 594,
   "metadata": {},
   "outputs": [],
   "source": [
    "# # 18.7s\n",
    "# gm4d[(gm4d['정기정밀'].isnull() == True) | (gm4d['최근검사경과일'] > 760)].to_excel(os.path.join(df_fold, '샘플_4등급_경유_01_검사기록없는차량.xlsx'), index=False)"
   ]
  },
  {
   "cell_type": "code",
   "execution_count": null,
   "metadata": {},
   "outputs": [],
   "source": []
  },
  {
   "cell_type": "code",
   "execution_count": 1869,
   "metadata": {},
   "outputs": [
    {
     "data": {
      "text/plain": [
       "(527134, 39)"
      ]
     },
     "execution_count": 1869,
     "metadata": {},
     "output_type": "execute_result"
    }
   ],
   "source": [
    "gm5d[(gm5d['정기정밀'].isnull() == True) | (gm5d['최근검사경과일'] > 760)].shape"
   ]
  },
  {
   "cell_type": "code",
   "execution_count": 1870,
   "metadata": {},
   "outputs": [
    {
     "data": {
      "text/plain": [
       "598865"
      ]
     },
     "execution_count": 1870,
     "metadata": {},
     "output_type": "execute_result"
    }
   ],
   "source": [
    "idx51 = idx5 - set(gm5d[(gm5d['정기정밀'].isnull() == True) | (gm5d['최근검사경과일'] > 760)].index)\n",
    "len(idx51)"
   ]
  },
  {
   "cell_type": "code",
   "execution_count": 596,
   "metadata": {},
   "outputs": [],
   "source": [
    "# # 3m 21.2s\n",
    "# gm5d[(gm5d['정기정밀'].isnull() == True) | (gm5d['최근검사경과일'] > 760)].to_excel(os.path.join(df_fold, '샘플_5등급_경유_01_검사기록없는차량.xlsx'), index=False)"
   ]
  },
  {
   "attachments": {},
   "cell_type": "markdown",
   "metadata": {},
   "source": [
    "## 2\\. 매연값이 없거나, 100 이상인 차량"
   ]
  },
  {
   "cell_type": "code",
   "execution_count": 1871,
   "metadata": {},
   "outputs": [
    {
     "data": {
      "text/plain": [
       "(31171, 53)"
      ]
     },
     "execution_count": 1871,
     "metadata": {},
     "output_type": "execute_result"
    }
   ],
   "source": [
    "gm4d[(gm4d['무부하매연측정치1'].isnull() == True) | (gm4d['무부하매연측정치1'] >= 100)].shape"
   ]
  },
  {
   "cell_type": "code",
   "execution_count": 1872,
   "metadata": {},
   "outputs": [
    {
     "data": {
      "text/plain": [
       "1003020"
      ]
     },
     "execution_count": 1872,
     "metadata": {},
     "output_type": "execute_result"
    }
   ],
   "source": [
    "idx42 = idx41 - set(gm4d[(gm4d['무부하매연측정치1'].isnull() == True) | (gm4d['무부하매연측정치1'] >= 100)].index)\n",
    "len(idx42)"
   ]
  },
  {
   "cell_type": "code",
   "execution_count": 1873,
   "metadata": {},
   "outputs": [],
   "source": [
    "# # 25.6s\n",
    "# gm4d[(gm4d['무부하매연측정치1'].isnull() == True) | (gm4d['무부하매연측정치1'] >= 100)].to_excel(os.path.join(df_fold, '샘플_4등급_경유_02_매연없거나_100이상차량.xlsx'), index=False)"
   ]
  },
  {
   "cell_type": "code",
   "execution_count": null,
   "metadata": {},
   "outputs": [],
   "source": []
  },
  {
   "cell_type": "code",
   "execution_count": 1874,
   "metadata": {},
   "outputs": [
    {
     "data": {
      "text/plain": [
       "(362153, 39)"
      ]
     },
     "execution_count": 1874,
     "metadata": {},
     "output_type": "execute_result"
    }
   ],
   "source": [
    "gm5d[(gm5d['무부하매연측정치1'].isnull() == True) | (gm5d['무부하매연측정치1'] >= 100)].shape"
   ]
  },
  {
   "cell_type": "code",
   "execution_count": 1875,
   "metadata": {},
   "outputs": [
    {
     "data": {
      "text/plain": [
       "593780"
      ]
     },
     "execution_count": 1875,
     "metadata": {},
     "output_type": "execute_result"
    }
   ],
   "source": [
    "idx52 = idx51 - set(gm5d[(gm5d['무부하매연측정치1'].isnull() == True) | (gm5d['무부하매연측정치1'] >= 100)].index)\n",
    "len(idx52)"
   ]
  },
  {
   "cell_type": "code",
   "execution_count": 1876,
   "metadata": {},
   "outputs": [],
   "source": [
    "# # 3m 20.9s\n",
    "# gm5d[(gm5d['무부하매연측정치1'].isnull() == True) | (gm5d['무부하매연측정치1'] >= 100)].to_excel(os.path.join(df_fold, '샘플_5등급_경유_02_매연없거나_100이상차량.xlsx'), index=False)"
   ]
  },
  {
   "attachments": {},
   "cell_type": "markdown",
   "metadata": {},
   "source": [
    "## 3\\. 1일평균주행거리가 없거나 2640초과인 차량"
   ]
  },
  {
   "cell_type": "code",
   "execution_count": 1877,
   "metadata": {},
   "outputs": [
    {
     "data": {
      "text/plain": [
       "73545"
      ]
     },
     "execution_count": 1877,
     "metadata": {},
     "output_type": "execute_result"
    }
   ],
   "source": [
    "gm4d['일일평균주행거리'].isnull().sum()"
   ]
  },
  {
   "cell_type": "code",
   "execution_count": 1878,
   "metadata": {},
   "outputs": [
    {
     "data": {
      "text/plain": [
       "(73546, 53)"
      ]
     },
     "execution_count": 1878,
     "metadata": {},
     "output_type": "execute_result"
    }
   ],
   "source": [
    "gm4d[(gm4d['일일평균주행거리'].isnull() == True) | (gm4d['일일평균주행거리'] > 2640)].shape"
   ]
  },
  {
   "cell_type": "code",
   "execution_count": 1879,
   "metadata": {},
   "outputs": [
    {
     "data": {
      "text/plain": [
       "939139"
      ]
     },
     "execution_count": 1879,
     "metadata": {},
     "output_type": "execute_result"
    }
   ],
   "source": [
    "idx43 = idx42 - set(gm4d[(gm4d['일일평균주행거리'].isnull() == True) | (gm4d['일일평균주행거리'] > 2640)].index)\n",
    "len(idx43)"
   ]
  },
  {
   "cell_type": "code",
   "execution_count": 1880,
   "metadata": {},
   "outputs": [],
   "source": [
    "# # 1m 25.4s\n",
    "# gm4d[(gm4d['일일평균주행거리'].isnull() == True) | (gm4d['일일평균주행거리'] > 2640)].to_excel(os.path.join(df_fold, '샘플_4등급_경유_03_일일평균주행거리없거나_2640초과차량.xlsx'), index=False)"
   ]
  },
  {
   "cell_type": "code",
   "execution_count": null,
   "metadata": {},
   "outputs": [],
   "source": []
  },
  {
   "cell_type": "code",
   "execution_count": 1881,
   "metadata": {},
   "outputs": [
    {
     "data": {
      "text/plain": [
       "308305"
      ]
     },
     "execution_count": 1881,
     "metadata": {},
     "output_type": "execute_result"
    }
   ],
   "source": [
    "gm5d['일일평균주행거리'].isnull().sum()"
   ]
  },
  {
   "cell_type": "code",
   "execution_count": 1882,
   "metadata": {},
   "outputs": [
    {
     "data": {
      "text/plain": [
       "(308308, 39)"
      ]
     },
     "execution_count": 1882,
     "metadata": {},
     "output_type": "execute_result"
    }
   ],
   "source": [
    "gm5d[(gm5d['일일평균주행거리'].isnull() == True) | (gm5d['일일평균주행거리'] > 2640)].shape"
   ]
  },
  {
   "cell_type": "code",
   "execution_count": 1883,
   "metadata": {},
   "outputs": [
    {
     "data": {
      "text/plain": [
       "565609"
      ]
     },
     "execution_count": 1883,
     "metadata": {},
     "output_type": "execute_result"
    }
   ],
   "source": [
    "idx53 = idx52 - set(gm5d[(gm5d['일일평균주행거리'].isnull() == True) | (gm5d['일일평균주행거리'] > 2640)].index)\n",
    "len(idx53)"
   ]
  },
  {
   "cell_type": "code",
   "execution_count": 1884,
   "metadata": {},
   "outputs": [],
   "source": [
    "# # 6m 54.9s\n",
    "# gm5d[(gm5d['일일평균주행거리'].isnull() == True) | (gm5d['일일평균주행거리'] > 2640)].to_excel(os.path.join(df_fold, '샘플_5등급_경유_03_일일평균주행거리없거나_2640초과차량.xlsx'), index=False)"
   ]
  },
  {
   "attachments": {},
   "cell_type": "markdown",
   "metadata": {},
   "source": [
    "## 4\\. 검사일자가 없는 차량"
   ]
  },
  {
   "cell_type": "code",
   "execution_count": 1885,
   "metadata": {},
   "outputs": [
    {
     "data": {
      "text/plain": [
       "(22485, 53)"
      ]
     },
     "execution_count": 1885,
     "metadata": {},
     "output_type": "execute_result"
    }
   ],
   "source": [
    "gm4d[gm4d['검사일자'].isnull() == True].shape"
   ]
  },
  {
   "cell_type": "code",
   "execution_count": 1886,
   "metadata": {},
   "outputs": [
    {
     "data": {
      "text/plain": [
       "939139"
      ]
     },
     "execution_count": 1886,
     "metadata": {},
     "output_type": "execute_result"
    }
   ],
   "source": [
    "idx44 = idx43 - set(gm4d[gm4d['검사일자'].isnull() == True].index)\n",
    "len(idx44)"
   ]
  },
  {
   "cell_type": "code",
   "execution_count": 1887,
   "metadata": {},
   "outputs": [],
   "source": [
    "# # 18.0s\n",
    "# gm4d[gm4d['검사일자'].isnull() == True].to_excel(os.path.join(df_fold, '샘플_4등급_경유_04_검사일자없는차량.xlsx'), index=False)"
   ]
  },
  {
   "cell_type": "code",
   "execution_count": null,
   "metadata": {},
   "outputs": [],
   "source": []
  },
  {
   "cell_type": "code",
   "execution_count": 1888,
   "metadata": {},
   "outputs": [
    {
     "data": {
      "text/plain": [
       "(355264, 39)"
      ]
     },
     "execution_count": 1888,
     "metadata": {},
     "output_type": "execute_result"
    }
   ],
   "source": [
    "gm5d[gm5d['검사일자'].isnull() == True].shape"
   ]
  },
  {
   "cell_type": "code",
   "execution_count": 1889,
   "metadata": {},
   "outputs": [
    {
     "data": {
      "text/plain": [
       "565609"
      ]
     },
     "execution_count": 1889,
     "metadata": {},
     "output_type": "execute_result"
    }
   ],
   "source": [
    "idx54 = idx53 - set(gm5d[gm5d['검사일자'].isnull() == True])\n",
    "len(idx54)"
   ]
  },
  {
   "cell_type": "code",
   "execution_count": 1890,
   "metadata": {},
   "outputs": [],
   "source": [
    "# # 3m 16.1s\n",
    "# gm5d[gm5d['검사일자'].isnull() == True].to_excel(os.path.join(df_fold, '샘플_5등급_경유_04_검사일자없는차량.xlsx'), index=False)"
   ]
  },
  {
   "attachments": {},
   "cell_type": "markdown",
   "metadata": {},
   "source": [
    "## 5\\. 1-4 + 운행제한건수 존재"
   ]
  },
  {
   "cell_type": "code",
   "execution_count": 1891,
   "metadata": {},
   "outputs": [
    {
     "data": {
      "text/plain": [
       "(18, 53)"
      ]
     },
     "execution_count": 1891,
     "metadata": {},
     "output_type": "execute_result"
    }
   ],
   "source": [
    "gm4d[(((gm4d['정기정밀'].isnull() == True) | (gm4d['최근검사경과일'] > 760)) | (gm4d['무부하매연측정치1'].isnull() == True) | (gm4d['무부하매연측정치1'] >= 100) | (gm4d['일일평균주행거리'].isnull() == True) | (gm4d['일일평균주행거리'] > 2640) | (gm4d['검사일자'].isnull() == True)) & (gm4d['운행제한건수'] > 0)].shape"
   ]
  },
  {
   "cell_type": "code",
   "execution_count": 1892,
   "metadata": {},
   "outputs": [
    {
     "data": {
      "text/plain": [
       "939139"
      ]
     },
     "execution_count": 1892,
     "metadata": {},
     "output_type": "execute_result"
    }
   ],
   "source": [
    "idx45 = idx44 - set(gm4d[(((gm4d['정기정밀'].isnull() == True) | (gm4d['최근검사경과일'] > 760)) | (gm4d['무부하매연측정치1'].isnull() == True) | (gm4d['무부하매연측정치1'] >= 100) | (gm4d['일일평균주행거리'].isnull() == True) | (gm4d['일일평균주행거리'] > 2640) | (gm4d['검사일자'].isnull() == True)) & (gm4d['운행제한건수'] > 0)].index)\n",
    "len(idx45)"
   ]
  },
  {
   "cell_type": "code",
   "execution_count": 613,
   "metadata": {},
   "outputs": [],
   "source": [
    "# # 1m 31.4s\n",
    "# gm4d[(((gm4d['정기정밀'].isnull() == True) | (gm4d['최근검사경과일'] > 760)) | (gm4d['무부하매연측정치1'].isnull() == True) | (gm4d['무부하매연측정치1'] >= 100) | (gm4d['일일평균주행거리'].isnull() == True) | (gm4d['일일평균주행거리'] > 2640) | (gm4d['검사일자'].isnull() == True)) & (gm4d['운행제한건수'] > 0)].to_excel(os.path.join(df_fold, '샘플_4등급_경유_05_1-4조건과_운행제한건수존재차량.xlsx'), index=False)"
   ]
  },
  {
   "cell_type": "code",
   "execution_count": null,
   "metadata": {},
   "outputs": [],
   "source": []
  },
  {
   "cell_type": "code",
   "execution_count": 1893,
   "metadata": {},
   "outputs": [
    {
     "data": {
      "text/plain": [
       "(66186, 39)"
      ]
     },
     "execution_count": 1893,
     "metadata": {},
     "output_type": "execute_result"
    }
   ],
   "source": [
    "gm5d[(((gm5d['정기정밀'].isnull() == True) | (gm5d['최근검사경과일'] > 760)) | (gm5d['무부하매연측정치1'].isnull() == True) | (gm5d['무부하매연측정치1'] >= 100) | (gm5d['일일평균주행거리'].isnull() == True) | (gm5d['일일평균주행거리'] > 2640) | (gm5d['검사일자'].isnull() == True)) & (gm5d['운행제한건수'] > 0)].shape"
   ]
  },
  {
   "cell_type": "code",
   "execution_count": 1894,
   "metadata": {},
   "outputs": [
    {
     "data": {
      "text/plain": [
       "565609"
      ]
     },
     "execution_count": 1894,
     "metadata": {},
     "output_type": "execute_result"
    }
   ],
   "source": [
    "idx55 = idx54 - set(gm5d[(((gm5d['정기정밀'].isnull() == True) | (gm5d['최근검사경과일'] > 760)) | (gm5d['무부하매연측정치1'].isnull() == True) | (gm5d['무부하매연측정치1'] >= 100) | (gm5d['일일평균주행거리'].isnull() == True) | (gm5d['일일평균주행거리'] > 2640) | (gm5d['검사일자'].isnull() == True)) & (gm5d['운행제한건수'] > 0)].index)\n",
    "len(idx55)"
   ]
  },
  {
   "cell_type": "code",
   "execution_count": 1861,
   "metadata": {},
   "outputs": [],
   "source": [
    "# # \n",
    "# gm5d[(((gm5d['정기정밀'].isnull() == True) | (gm5d['최근검사경과일'] > 760)) | (gm5d['무부하매연측정치1'].isnull() == True) | (gm5d['무부하매연측정치1'] >= 100) | (gm5d['일일평균주행거리'].isnull() == True) | (gm5d['일일평균주행거리'] > 2640) | (gm5d['검사일자'].isnull() == True)) & (gm5d['운행제한건수'] > 0)].to_excel(os.path.join(df_fold, '샘플_5등급_경유_05_1-4조건과_운행제한건수존재차량.xlsx'), index=False)"
   ]
  },
  {
   "attachments": {},
   "cell_type": "markdown",
   "metadata": {},
   "source": [
    "## S\\. 급\n",
    "- 조건\n",
    "    - 검사기록 이상(nan, 760일 초과), 매연 이상(nan or 100이상), 주행거리 이상(nan or 2640초과) : 3가지 모두\n",
    "    - 운행제한건수 존재 : 1건 이상"
   ]
  },
  {
   "cell_type": "code",
   "execution_count": 1862,
   "metadata": {},
   "outputs": [
    {
     "data": {
      "text/plain": [
       "(129092, 53)"
      ]
     },
     "execution_count": 1862,
     "metadata": {},
     "output_type": "execute_result"
    }
   ],
   "source": [
    "gm4d[gm4d['최근검사경과일'] > 760].shape"
   ]
  },
  {
   "cell_type": "code",
   "execution_count": 1900,
   "metadata": {},
   "outputs": [
    {
     "data": {
      "text/plain": [
       "0"
      ]
     },
     "execution_count": 1900,
     "metadata": {},
     "output_type": "execute_result"
    }
   ],
   "source": [
    "idx4s = gm4d[( ((gm4d['정기정밀'].isnull() == True) | (gm4d['최근검사경과일'] > 760)) & ((gm4d['무부하매연측정치1'].isnull() == True) | (gm4d['무부하매연측정치1'] >= 100)) & ( (gm4d['일일평균주행거리'].isnull() == True) | (gm4d['일일평균주행거리'] > 2640)) ) & (gm4d['운행제한건수'] > 0)].index\n",
    "len(idx4s)"
   ]
  },
  {
   "cell_type": "code",
   "execution_count": 1901,
   "metadata": {},
   "outputs": [],
   "source": [
    "# 8.1s\n",
    "gm4d.loc[idx4s].to_excel(os.path.join(df_fold, 'BD3-3_4등급_경유_이상데이터_S급.xlsx'), index=False)"
   ]
  },
  {
   "cell_type": "code",
   "execution_count": null,
   "metadata": {},
   "outputs": [],
   "source": []
  },
  {
   "cell_type": "code",
   "execution_count": 1903,
   "metadata": {},
   "outputs": [
    {
     "data": {
      "text/plain": [
       "9910"
      ]
     },
     "execution_count": 1903,
     "metadata": {},
     "output_type": "execute_result"
    }
   ],
   "source": [
    "idx5s = gm5d[( ((gm5d['정기정밀'].isnull() == True) | (gm5d['최근검사경과일'] > 760)) & ((gm5d['무부하매연측정치1'].isnull() == True) | (gm5d['무부하매연측정치1'] >= 100)) & ( (gm5d['일일평균주행거리'].isnull() == True) | (gm5d['일일평균주행거리'] > 2640)) ) & (gm5d['운행제한건수'] > 0)].index\n",
    "len(idx5s)"
   ]
  },
  {
   "cell_type": "code",
   "execution_count": 1904,
   "metadata": {},
   "outputs": [],
   "source": [
    "# 5.0s\n",
    "gm5d.loc[idx5s].to_excel(os.path.join(df_fold, 'BD3-3_5등급_경유_이상데이터_S급.xlsx'), index=False)"
   ]
  },
  {
   "attachments": {},
   "cell_type": "markdown",
   "metadata": {},
   "source": [
    "## A\\. 급\n",
    "- 조건\n",
    "    - 검사기록 이상(nan or 760일 초과), 매연 이상(nan or 100이상), 주행거리 이상(nan or 2640초과) : 3가지 모두"
   ]
  },
  {
   "cell_type": "code",
   "execution_count": 1905,
   "metadata": {},
   "outputs": [
    {
     "data": {
      "text/plain": [
       "9254"
      ]
     },
     "execution_count": 1905,
     "metadata": {},
     "output_type": "execute_result"
    }
   ],
   "source": [
    "idx4a = gm4d[(((gm4d['정기정밀'].isnull() == True) | (gm4d['최근검사경과일'] > 760)) & ((gm4d['무부하매연측정치1'].isnull() == True) | (gm4d['무부하매연측정치1'] >= 100)) & ( (gm4d['일일평균주행거리'].isnull() == True) | (gm4d['일일평균주행거리'] > 2640)))].index\n",
    "len(idx4a)"
   ]
  },
  {
   "cell_type": "code",
   "execution_count": 1906,
   "metadata": {},
   "outputs": [],
   "source": [
    "# 8.4s\n",
    "gm4d.loc[idx4a].to_excel(os.path.join(df_fold, 'BD3-3_4등급_경유_이상데이터_A급.xlsx'), index=False)"
   ]
  },
  {
   "cell_type": "code",
   "execution_count": null,
   "metadata": {},
   "outputs": [],
   "source": []
  },
  {
   "cell_type": "code",
   "execution_count": 1907,
   "metadata": {},
   "outputs": [
    {
     "data": {
      "text/plain": [
       "279873"
      ]
     },
     "execution_count": 1907,
     "metadata": {},
     "output_type": "execute_result"
    }
   ],
   "source": [
    "idx5a = gm5d[(((gm5d['정기정밀'].isnull() == True) | (gm5d['최근검사경과일'] > 760)) & ((gm5d['무부하매연측정치1'].isnull() == True) | (gm5d['무부하매연측정치1'] >= 100)) & ( (gm5d['일일평균주행거리'].isnull() == True) | (gm5d['일일평균주행거리'] > 2640)))].index\n",
    "len(idx5a)"
   ]
  },
  {
   "cell_type": "code",
   "execution_count": 1908,
   "metadata": {},
   "outputs": [],
   "source": [
    "# 2m 31.4s\n",
    "gm5d.loc[idx5a].to_excel(os.path.join(df_fold, 'BD3-3_5등급_경유_이상데이터_A급.xlsx'), index=False)"
   ]
  },
  {
   "attachments": {},
   "cell_type": "markdown",
   "metadata": {},
   "source": [
    "## B\\. 급\n",
    "- 조건\n",
    "    - 검사기록 이상(nan or 760일 초과), 매연 이상(nan or 100이상), 주행거리 이상(nan or 2640초과) : 3가지 중 2가지"
   ]
  },
  {
   "cell_type": "code",
   "execution_count": 1909,
   "metadata": {},
   "outputs": [
    {
     "data": {
      "text/plain": [
       "(23280, 53)"
      ]
     },
     "execution_count": 1909,
     "metadata": {},
     "output_type": "execute_result"
    }
   ],
   "source": [
    "gm4d[((gm4d['정기정밀'].isnull() == True) | (gm4d['최근검사경과일'] > 760)) & ((gm4d['무부하매연측정치1'].isnull() == True) | (gm4d['무부하매연측정치1'] >= 100))].shape"
   ]
  },
  {
   "cell_type": "code",
   "execution_count": 1910,
   "metadata": {},
   "outputs": [
    {
     "data": {
      "text/plain": [
       "(9665, 53)"
      ]
     },
     "execution_count": 1910,
     "metadata": {},
     "output_type": "execute_result"
    }
   ],
   "source": [
    "gm4d[((gm4d['무부하매연측정치1'].isnull() == True) | (gm4d['무부하매연측정치1'] >= 100)) & ( (gm4d['일일평균주행거리'].isnull() == True) | (gm4d['일일평균주행거리'] > 2640))].shape"
   ]
  },
  {
   "cell_type": "code",
   "execution_count": 1911,
   "metadata": {},
   "outputs": [
    {
     "data": {
      "text/plain": [
       "(9254, 53)"
      ]
     },
     "execution_count": 1911,
     "metadata": {},
     "output_type": "execute_result"
    }
   ],
   "source": [
    "gm4d[((gm4d['정기정밀'].isnull() == True) | (gm4d['최근검사경과일'] > 760)) & ( (gm4d['일일평균주행거리'].isnull() == True) | (gm4d['일일평균주행거리'] > 2640))].shape"
   ]
  },
  {
   "cell_type": "code",
   "execution_count": 1912,
   "metadata": {},
   "outputs": [
    {
     "data": {
      "text/plain": [
       "23691"
      ]
     },
     "execution_count": 1912,
     "metadata": {},
     "output_type": "execute_result"
    }
   ],
   "source": [
    "idx4b = set(gm4d[((gm4d['정기정밀'].isnull() == True) | (gm4d['최근검사경과일'] > 760)) & ((gm4d['무부하매연측정치1'].isnull() == True) | (gm4d['무부하매연측정치1'] >= 100))].index) | set(gm4d[((gm4d['무부하매연측정치1'].isnull() == True) | (gm4d['무부하매연측정치1'] >= 100)) & ( (gm4d['일일평균주행거리'].isnull() == True) | (gm4d['일일평균주행거리'] > 2640))].index) | set(gm4d[((gm4d['정기정밀'].isnull() == True) | (gm4d['최근검사경과일'] > 760)) & ( (gm4d['일일평균주행거리'].isnull() == True) | (gm4d['일일평균주행거리'] > 2640))].index)\n",
    "len(idx4b)"
   ]
  },
  {
   "cell_type": "code",
   "execution_count": 1913,
   "metadata": {},
   "outputs": [],
   "source": [
    "# 20.3s\n",
    "gm4d.loc[list(idx4b)].to_excel(os.path.join(df_fold, 'BD3-3_4등급_경유_이상데이터_B급.xlsx'), index=False)"
   ]
  },
  {
   "cell_type": "code",
   "execution_count": null,
   "metadata": {},
   "outputs": [],
   "source": []
  },
  {
   "cell_type": "code",
   "execution_count": 1914,
   "metadata": {},
   "outputs": [
    {
     "data": {
      "text/plain": [
       "(357068, 39)"
      ]
     },
     "execution_count": 1914,
     "metadata": {},
     "output_type": "execute_result"
    }
   ],
   "source": [
    "gm5d[((gm5d['정기정밀'].isnull() == True) | (gm5d['최근검사경과일'] > 760)) & ((gm5d['무부하매연측정치1'].isnull() == True) | (gm5d['무부하매연측정치1'] >= 100))].shape"
   ]
  },
  {
   "cell_type": "code",
   "execution_count": 1915,
   "metadata": {},
   "outputs": [
    {
     "data": {
      "text/plain": [
       "(280137, 39)"
      ]
     },
     "execution_count": 1915,
     "metadata": {},
     "output_type": "execute_result"
    }
   ],
   "source": [
    "gm5d[((gm5d['무부하매연측정치1'].isnull() == True) | (gm5d['무부하매연측정치1'] >= 100)) & ( (gm5d['일일평균주행거리'].isnull() == True) | (gm5d['일일평균주행거리'] > 2640))].shape"
   ]
  },
  {
   "cell_type": "code",
   "execution_count": 1916,
   "metadata": {},
   "outputs": [
    {
     "data": {
      "text/plain": [
       "(279873, 39)"
      ]
     },
     "execution_count": 1916,
     "metadata": {},
     "output_type": "execute_result"
    }
   ],
   "source": [
    "gm5d[((gm5d['정기정밀'].isnull() == True) | (gm5d['최근검사경과일'] > 760)) & ( (gm5d['일일평균주행거리'].isnull() == True) | (gm5d['일일평균주행거리'] > 2640))].shape"
   ]
  },
  {
   "cell_type": "code",
   "execution_count": 1917,
   "metadata": {},
   "outputs": [
    {
     "data": {
      "text/plain": [
       "357332"
      ]
     },
     "execution_count": 1917,
     "metadata": {},
     "output_type": "execute_result"
    }
   ],
   "source": [
    "idx5b = set(gm5d[((gm5d['정기정밀'].isnull() == True) | (gm5d['최근검사경과일'] > 760)) & ((gm5d['무부하매연측정치1'].isnull() == True) | (gm5d['무부하매연측정치1'] >= 100))].index) | set(gm5d[((gm5d['무부하매연측정치1'].isnull() == True) | (gm5d['무부하매연측정치1'] >= 100)) & ( (gm5d['일일평균주행거리'].isnull() == True) | (gm5d['일일평균주행거리'] > 2640))].index) | set(gm5d[((gm5d['정기정밀'].isnull() == True) | (gm5d['최근검사경과일'] > 760)) & ( (gm5d['일일평균주행거리'].isnull() == True) | (gm5d['일일평균주행거리'] > 2640))].index)\n",
    "len(idx5b)"
   ]
  },
  {
   "cell_type": "code",
   "execution_count": 1918,
   "metadata": {},
   "outputs": [],
   "source": [
    "# 3m 21.1s\n",
    "gm5d.loc[list(idx5b)].to_excel(os.path.join(df_fold, 'BD3-3_5등급_경유_이상데이터_B급.xlsx'), index=False)"
   ]
  },
  {
   "attachments": {},
   "cell_type": "markdown",
   "metadata": {},
   "source": [
    "## C\\. 급\n",
    "- 조건\n",
    "    - 검사기록 이상(nan or 760일 초과), 매연 이상(nan or 100이상), 주행거리 이상(nan or 2640초과) : 3가지 중 1가지"
   ]
  },
  {
   "cell_type": "code",
   "execution_count": 1919,
   "metadata": {},
   "outputs": [
    {
     "data": {
      "text/plain": [
       "(138345, 53)"
      ]
     },
     "execution_count": 1919,
     "metadata": {},
     "output_type": "execute_result"
    }
   ],
   "source": [
    "gm4d[(gm4d['정기정밀'].isnull() == True) | (gm4d['최근검사경과일'] > 760)].shape"
   ]
  },
  {
   "cell_type": "code",
   "execution_count": 1920,
   "metadata": {},
   "outputs": [
    {
     "data": {
      "text/plain": [
       "(31171, 53)"
      ]
     },
     "execution_count": 1920,
     "metadata": {},
     "output_type": "execute_result"
    }
   ],
   "source": [
    "gm4d[(gm4d['무부하매연측정치1'].isnull() == True) | (gm4d['무부하매연측정치1'] >= 100)].shape"
   ]
  },
  {
   "cell_type": "code",
   "execution_count": 1921,
   "metadata": {},
   "outputs": [
    {
     "data": {
      "text/plain": [
       "(73546, 53)"
      ]
     },
     "execution_count": 1921,
     "metadata": {},
     "output_type": "execute_result"
    }
   ],
   "source": [
    "gm4d[(gm4d['일일평균주행거리'].isnull() == True) | (gm4d['일일평균주행거리'] > 2640)].shape"
   ]
  },
  {
   "cell_type": "code",
   "execution_count": 1923,
   "metadata": {},
   "outputs": [
    {
     "data": {
      "text/plain": [
       "210117"
      ]
     },
     "execution_count": 1923,
     "metadata": {},
     "output_type": "execute_result"
    }
   ],
   "source": [
    "idx4c = set(gm4d[(gm4d['정기정밀'].isnull() == True) | (gm4d['최근검사경과일'] > 760)].index) | set(gm4d[(gm4d['무부하매연측정치1'].isnull() == True) | (gm4d['무부하매연측정치1'] >= 100)].index) | set(gm4d[(gm4d['일일평균주행거리'].isnull() == True) | (gm4d['일일평균주행거리'] > 2640)].index)\n",
    "len(idx4c)"
   ]
  },
  {
   "cell_type": "code",
   "execution_count": 1924,
   "metadata": {},
   "outputs": [],
   "source": [
    "# 3m 16.0s\n",
    "gm4d.loc[list(idx4c)].to_excel(os.path.join(df_fold, 'BD3-3_4등급_경유_이상데이터_C급.xlsx'), index=False)"
   ]
  },
  {
   "cell_type": "code",
   "execution_count": null,
   "metadata": {},
   "outputs": [],
   "source": []
  },
  {
   "cell_type": "code",
   "execution_count": 1929,
   "metadata": {},
   "outputs": [
    {
     "data": {
      "text/plain": [
       "(527134, 39)"
      ]
     },
     "execution_count": 1929,
     "metadata": {},
     "output_type": "execute_result"
    }
   ],
   "source": [
    "gm5d[(gm5d['정기정밀'].isnull() == True) | (gm5d['최근검사경과일'] > 760)].shape"
   ]
  },
  {
   "cell_type": "code",
   "execution_count": 1930,
   "metadata": {},
   "outputs": [
    {
     "data": {
      "text/plain": [
       "(362153, 39)"
      ]
     },
     "execution_count": 1930,
     "metadata": {},
     "output_type": "execute_result"
    }
   ],
   "source": [
    "gm5d[(gm5d['무부하매연측정치1'].isnull() == True) | (gm5d['무부하매연측정치1'] >= 100)].shape"
   ]
  },
  {
   "cell_type": "code",
   "execution_count": 1931,
   "metadata": {},
   "outputs": [
    {
     "data": {
      "text/plain": [
       "(308308, 39)"
      ]
     },
     "execution_count": 1931,
     "metadata": {},
     "output_type": "execute_result"
    }
   ],
   "source": [
    "gm5d[(gm5d['일일평균주행거리'].isnull() == True) | (gm5d['일일평균주행거리'] > 2640)].shape"
   ]
  },
  {
   "cell_type": "code",
   "execution_count": 1932,
   "metadata": {},
   "outputs": [
    {
     "data": {
      "text/plain": [
       "560390"
      ]
     },
     "execution_count": 1932,
     "metadata": {},
     "output_type": "execute_result"
    }
   ],
   "source": [
    "idx5c = set(gm5d[(gm5d['정기정밀'].isnull() == True) | (gm5d['최근검사경과일'] > 760)].index) | set(gm5d[(gm5d['무부하매연측정치1'].isnull() == True) | (gm5d['무부하매연측정치1'] >= 100)].index) | set(gm5d[(gm5d['일일평균주행거리'].isnull() == True) | (gm5d['일일평균주행거리'] > 2640)].index)\n",
    "len(idx5c)"
   ]
  },
  {
   "cell_type": "code",
   "execution_count": 1933,
   "metadata": {},
   "outputs": [],
   "source": [
    "# 5m 41.0s\n",
    "gm5d.loc[list(idx5c)].to_excel(os.path.join(df_fold, 'BD3-3_5등급_경유_이상데이터_C급.xlsx'), index=False)"
   ]
  },
  {
   "attachments": {},
   "cell_type": "markdown",
   "metadata": {},
   "source": [
    "# 분석"
   ]
  },
  {
   "cell_type": "code",
   "execution_count": 1934,
   "metadata": {},
   "outputs": [
    {
     "data": {
      "text/plain": [
       "(939139, 565609)"
      ]
     },
     "execution_count": 1934,
     "metadata": {},
     "output_type": "execute_result"
    }
   ],
   "source": [
    "len(idx45), len(idx55)"
   ]
  },
  {
   "cell_type": "code",
   "execution_count": 1935,
   "metadata": {},
   "outputs": [
    {
     "data": {
      "text/plain": [
       "(939139, 53)"
      ]
     },
     "execution_count": 1935,
     "metadata": {},
     "output_type": "execute_result"
    }
   ],
   "source": [
    "gm4di = gm4d.loc[list(idx45)]\n",
    "gm4di.shape"
   ]
  },
  {
   "cell_type": "code",
   "execution_count": 1936,
   "metadata": {},
   "outputs": [
    {
     "data": {
      "text/plain": [
       "(565609, 39)"
      ]
     },
     "execution_count": 1936,
     "metadata": {},
     "output_type": "execute_result"
    }
   ],
   "source": [
    "gm5di = gm5d.loc[list(idx55)]\n",
    "gm5di.shape"
   ]
  },
  {
   "cell_type": "code",
   "execution_count": 1937,
   "metadata": {},
   "outputs": [
    {
     "data": {
      "text/plain": [
       "Index(['차대번호', '차량번호', '제원관리번호', '차종', '용도', '최초등록일', '연식', '제작일자', '검사유효일',\n",
       "       '배출가스인증번호', '등급', '차명', '차종분류', '차종유형', '자동차형식', '제작사명', '연료', '엔진형식',\n",
       "       '총중량', '적재중량', '엔진출력', '배기량', '법정동코드', '시도명', '시군구명', '소유자구분', '말소여부',\n",
       "       '배인번호_수정', '등급_수정', 'DPF유무_수정', 'Grade', '저감장치', '장치일련번호', '최초등록일자수정',\n",
       "       '최근검사일자수정', '최근주행거리', '등록일기준검사일', '현재일자', '일일평균주행거리', '최근검사경과일', '주행거리',\n",
       "       '검사일자', '검사방법', '검사종류', '검사판정', '무부하매연판정1', '무부하매연판정2', '무부하매연판정3',\n",
       "       '무부하매연측정치1', '무부하매연측정치2', '무부하매연측정치3', '정기정밀', '운행제한건수'],\n",
       "      dtype='object')"
      ]
     },
     "execution_count": 1937,
     "metadata": {},
     "output_type": "execute_result"
    }
   ],
   "source": [
    "gm4di.columns"
   ]
  },
  {
   "cell_type": "code",
   "execution_count": 1938,
   "metadata": {},
   "outputs": [
    {
     "data": {
      "text/plain": [
       "0"
      ]
     },
     "execution_count": 1938,
     "metadata": {},
     "output_type": "execute_result"
    }
   ],
   "source": [
    "gm4di['일일평균주행거리'].isnull().sum()"
   ]
  },
  {
   "attachments": {},
   "cell_type": "markdown",
   "metadata": {},
   "source": [
    "### 4등급 검사 수검율"
   ]
  },
  {
   "cell_type": "code",
   "execution_count": 1939,
   "metadata": {},
   "outputs": [
    {
     "data": {
      "text/plain": [
       "0"
      ]
     },
     "execution_count": 1939,
     "metadata": {},
     "output_type": "execute_result"
    }
   ],
   "source": [
    "gm4di['검사일자'].isnull().sum()"
   ]
  },
  {
   "cell_type": "code",
   "execution_count": 1940,
   "metadata": {},
   "outputs": [
    {
     "data": {
      "text/plain": [
       "count     939139.00000\n",
       "mean    20218296.07337\n",
       "std         4380.89965\n",
       "min     20210517.00000\n",
       "25%     20211231.00000\n",
       "50%     20220425.00000\n",
       "75%     20220812.00000\n",
       "max     20230107.00000\n",
       "Name: 검사일자, dtype: float64"
      ]
     },
     "execution_count": 1940,
     "metadata": {},
     "output_type": "execute_result"
    }
   ],
   "source": [
    "gm4di['검사일자'].describe()"
   ]
  },
  {
   "cell_type": "code",
   "execution_count": 1941,
   "metadata": {},
   "outputs": [
    {
     "data": {
      "text/plain": [
       "((939139, 53), 939139)"
      ]
     },
     "execution_count": 1941,
     "metadata": {},
     "output_type": "execute_result"
    }
   ],
   "source": [
    "gm4di.shape, len(gm4di['차대번호'].unique())"
   ]
  },
  {
   "cell_type": "code",
   "execution_count": 1942,
   "metadata": {},
   "outputs": [],
   "source": [
    "gm4di.loc[gm4di['검사일자'] >= 20210101, '수검일자구분'] = 'div1'\n",
    "gm4di.loc[(gm4di['검사일자'] < 20210101) & (gm4di['검사일자'] >= 20180101), '수검일자구분'] = 'div2'\n",
    "gm4di.loc[(gm4di['검사일자'] < 20180101) & (gm4di['검사일자'] >= 20130101), '수검일자구분'] = 'div3'\n",
    "gm4di.loc[gm4di['검사일자'] < 20130101, '수검일자구분'] = 'div4'"
   ]
  },
  {
   "cell_type": "code",
   "execution_count": 1943,
   "metadata": {},
   "outputs": [
    {
     "data": {
      "text/html": [
       "<div>\n",
       "<style scoped>\n",
       "    .dataframe tbody tr th:only-of-type {\n",
       "        vertical-align: middle;\n",
       "    }\n",
       "\n",
       "    .dataframe tbody tr th {\n",
       "        vertical-align: top;\n",
       "    }\n",
       "\n",
       "    .dataframe thead th {\n",
       "        text-align: right;\n",
       "    }\n",
       "</style>\n",
       "<table border=\"1\" class=\"dataframe\">\n",
       "  <thead>\n",
       "    <tr style=\"text-align: right;\">\n",
       "      <th>연료</th>\n",
       "      <th>경유</th>\n",
       "    </tr>\n",
       "    <tr>\n",
       "      <th>수검일자구분</th>\n",
       "      <th></th>\n",
       "    </tr>\n",
       "  </thead>\n",
       "  <tbody>\n",
       "    <tr>\n",
       "      <th>div1</th>\n",
       "      <td>939139</td>\n",
       "    </tr>\n",
       "  </tbody>\n",
       "</table>\n",
       "</div>"
      ],
      "text/plain": [
       "연료          경유\n",
       "수검일자구분        \n",
       "div1    939139"
      ]
     },
     "execution_count": 1943,
     "metadata": {},
     "output_type": "execute_result"
    }
   ],
   "source": [
    "num_of_inscar = gm4di.groupby(['수검일자구분', '연료'], dropna=False)['차대번호'].count().unstack()\n",
    "num_of_inscar"
   ]
  },
  {
   "cell_type": "code",
   "execution_count": 1944,
   "metadata": {},
   "outputs": [
    {
     "data": {
      "text/plain": [
       "Index(['경유'], dtype='object', name='연료')"
      ]
     },
     "execution_count": 1944,
     "metadata": {},
     "output_type": "execute_result"
    }
   ],
   "source": [
    "num_of_inscar.columns"
   ]
  },
  {
   "cell_type": "code",
   "execution_count": 1945,
   "metadata": {},
   "outputs": [
    {
     "data": {
      "text/html": [
       "<div>\n",
       "<style scoped>\n",
       "    .dataframe tbody tr th:only-of-type {\n",
       "        vertical-align: middle;\n",
       "    }\n",
       "\n",
       "    .dataframe tbody tr th {\n",
       "        vertical-align: top;\n",
       "    }\n",
       "\n",
       "    .dataframe thead th {\n",
       "        text-align: right;\n",
       "    }\n",
       "</style>\n",
       "<table border=\"1\" class=\"dataframe\">\n",
       "  <thead>\n",
       "    <tr style=\"text-align: right;\">\n",
       "      <th></th>\n",
       "      <th>수검일자구분</th>\n",
       "      <th>경유</th>\n",
       "    </tr>\n",
       "  </thead>\n",
       "  <tbody>\n",
       "    <tr>\n",
       "      <th>0</th>\n",
       "      <td>div1</td>\n",
       "      <td>939139</td>\n",
       "    </tr>\n",
       "  </tbody>\n",
       "</table>\n",
       "</div>"
      ],
      "text/plain": [
       "  수검일자구분      경유\n",
       "0   div1  939139"
      ]
     },
     "execution_count": 1945,
     "metadata": {},
     "output_type": "execute_result"
    }
   ],
   "source": [
    "num_of_inscar['경유'].reset_index()"
   ]
  },
  {
   "cell_type": "code",
   "execution_count": 1946,
   "metadata": {},
   "outputs": [],
   "source": [
    "text_list = ['전체차량대수', '최근 2년 정기/정밀검사 수검차량(2021.01. ~ 2022.12.)', '2~5년 이내 정기/정밀검사 수검차량(2018.01. ~ 2020.12.)', '5~10년 이내 정기/정밀검사 수검차량(2013.01. ~ 2017.12.)', '10년 이전 정기/정밀검사 수검차량( ~ 2012.12.)', '검사기록이 없는 차량', '정기/정밀검사 수검차량 비율', '정기/정밀검사 미수검차량 비율']\n",
    "fuel_dict = {'구분':text_list}\n",
    "for fuel in num_of_inscar.columns:\n",
    "    temp = num_of_inscar[fuel].reset_index()\n",
    "    num_list = [np.nan] * len(text_list)\n",
    "    for one in temp['수검일자구분']:\n",
    "        if one == 'div1':\n",
    "            num_list[1] = temp.loc[temp['수검일자구분'] == one, fuel].values[0]\n",
    "        elif one == 'div2':\n",
    "            num_list[2] = temp.loc[temp['수검일자구분'] == one, fuel].values[0]\n",
    "        elif one == 'div3':\n",
    "            num_list[3] = temp.loc[temp['수검일자구분'] == one, fuel].values[0]\n",
    "        elif one == 'div4':\n",
    "            num_list[4] = temp.loc[temp['수검일자구분'] == one, fuel].values[0]\n",
    "        else:\n",
    "            num_list[5] = temp.loc[temp['수검일자구분'].isnull() == True, fuel].values[0]\n",
    "\n",
    "    num_list[0] = np.nansum(num_list)\n",
    "    num_list[6] = num_list[1] / num_list[0] * 100\n",
    "    num_list[7] = 100 - num_list[6]\n",
    "    fuel_dict[fuel] = num_list"
   ]
  },
  {
   "cell_type": "code",
   "execution_count": 1947,
   "metadata": {},
   "outputs": [
    {
     "data": {
      "text/plain": [
       "{'구분': ['전체차량대수',\n",
       "  '최근 2년 정기/정밀검사 수검차량(2021.01. ~ 2022.12.)',\n",
       "  '2~5년 이내 정기/정밀검사 수검차량(2018.01. ~ 2020.12.)',\n",
       "  '5~10년 이내 정기/정밀검사 수검차량(2013.01. ~ 2017.12.)',\n",
       "  '10년 이전 정기/정밀검사 수검차량( ~ 2012.12.)',\n",
       "  '검사기록이 없는 차량',\n",
       "  '정기/정밀검사 수검차량 비율',\n",
       "  '정기/정밀검사 미수검차량 비율'],\n",
       " '경유': [939139.0, 939139, nan, nan, nan, nan, 100.0, 0.0]}"
      ]
     },
     "execution_count": 1947,
     "metadata": {},
     "output_type": "execute_result"
    }
   ],
   "source": [
    "fuel_dict"
   ]
  },
  {
   "cell_type": "code",
   "execution_count": 1948,
   "metadata": {},
   "outputs": [
    {
     "data": {
      "text/html": [
       "<div>\n",
       "<style scoped>\n",
       "    .dataframe tbody tr th:only-of-type {\n",
       "        vertical-align: middle;\n",
       "    }\n",
       "\n",
       "    .dataframe tbody tr th {\n",
       "        vertical-align: top;\n",
       "    }\n",
       "\n",
       "    .dataframe thead th {\n",
       "        text-align: right;\n",
       "    }\n",
       "</style>\n",
       "<table border=\"1\" class=\"dataframe\">\n",
       "  <thead>\n",
       "    <tr style=\"text-align: right;\">\n",
       "      <th></th>\n",
       "      <th>구분</th>\n",
       "      <th>경유</th>\n",
       "    </tr>\n",
       "  </thead>\n",
       "  <tbody>\n",
       "    <tr>\n",
       "      <th>0</th>\n",
       "      <td>전체차량대수</td>\n",
       "      <td>939139.00000</td>\n",
       "    </tr>\n",
       "    <tr>\n",
       "      <th>1</th>\n",
       "      <td>최근 2년 정기/정밀검사 수검차량(2021.01. ~ 2022.12.)</td>\n",
       "      <td>939139.00000</td>\n",
       "    </tr>\n",
       "    <tr>\n",
       "      <th>2</th>\n",
       "      <td>2~5년 이내 정기/정밀검사 수검차량(2018.01. ~ 2020.12.)</td>\n",
       "      <td>NaN</td>\n",
       "    </tr>\n",
       "    <tr>\n",
       "      <th>3</th>\n",
       "      <td>5~10년 이내 정기/정밀검사 수검차량(2013.01. ~ 2017.12.)</td>\n",
       "      <td>NaN</td>\n",
       "    </tr>\n",
       "    <tr>\n",
       "      <th>4</th>\n",
       "      <td>10년 이전 정기/정밀검사 수검차량( ~ 2012.12.)</td>\n",
       "      <td>NaN</td>\n",
       "    </tr>\n",
       "    <tr>\n",
       "      <th>5</th>\n",
       "      <td>검사기록이 없는 차량</td>\n",
       "      <td>NaN</td>\n",
       "    </tr>\n",
       "    <tr>\n",
       "      <th>6</th>\n",
       "      <td>정기/정밀검사 수검차량 비율</td>\n",
       "      <td>100.00000</td>\n",
       "    </tr>\n",
       "    <tr>\n",
       "      <th>7</th>\n",
       "      <td>정기/정밀검사 미수검차량 비율</td>\n",
       "      <td>0.00000</td>\n",
       "    </tr>\n",
       "  </tbody>\n",
       "</table>\n",
       "</div>"
      ],
      "text/plain": [
       "                                           구분           경유\n",
       "0                                      전체차량대수 939139.00000\n",
       "1     최근 2년 정기/정밀검사 수검차량(2021.01. ~ 2022.12.) 939139.00000\n",
       "2   2~5년 이내 정기/정밀검사 수검차량(2018.01. ~ 2020.12.)          NaN\n",
       "3  5~10년 이내 정기/정밀검사 수검차량(2013.01. ~ 2017.12.)          NaN\n",
       "4            10년 이전 정기/정밀검사 수검차량( ~ 2012.12.)          NaN\n",
       "5                                 검사기록이 없는 차량          NaN\n",
       "6                             정기/정밀검사 수검차량 비율    100.00000\n",
       "7                            정기/정밀검사 미수검차량 비율      0.00000"
      ]
     },
     "execution_count": 1948,
     "metadata": {},
     "output_type": "execute_result"
    }
   ],
   "source": [
    "ins_chk4 = pd.DataFrame(fuel_dict)\n",
    "ins_chk4"
   ]
  },
  {
   "attachments": {},
   "cell_type": "markdown",
   "metadata": {},
   "source": [
    "#### [출력] 4등급 수검률"
   ]
  },
  {
   "cell_type": "code",
   "execution_count": 1949,
   "metadata": {},
   "outputs": [
    {
     "data": {
      "text/plain": [
       "'2023.06.17_AM.11.05.23'"
      ]
     },
     "execution_count": 1949,
     "metadata": {},
     "output_type": "execute_result"
    }
   ],
   "source": [
    "today_date = datetime.today().strftime(\"%Y.%m.%d_%p.%I.%M.%S\")\n",
    "today_date"
   ]
  },
  {
   "cell_type": "code",
   "execution_count": 1950,
   "metadata": {},
   "outputs": [],
   "source": [
    "# # 수검율 출력\n",
    "# ins_chk4.to_excel(os.path.join(analysis_fold, f'통계_4등급_연료별_수검률.xlsx'), index=False)"
   ]
  },
  {
   "attachments": {},
   "cell_type": "markdown",
   "metadata": {},
   "source": [
    "### 5등급 검사 수검율"
   ]
  },
  {
   "cell_type": "code",
   "execution_count": 1951,
   "metadata": {},
   "outputs": [
    {
     "data": {
      "text/plain": [
       "0"
      ]
     },
     "execution_count": 1951,
     "metadata": {},
     "output_type": "execute_result"
    }
   ],
   "source": [
    "gm5di['검사일자'].isnull().sum()"
   ]
  },
  {
   "cell_type": "code",
   "execution_count": 1952,
   "metadata": {},
   "outputs": [
    {
     "data": {
      "text/plain": [
       "count     565609.00000\n",
       "mean    20218395.65660\n",
       "std         4307.19724\n",
       "min     20210517.00000\n",
       "25%     20220106.00000\n",
       "50%     20220509.00000\n",
       "75%     20220823.00000\n",
       "max     20230107.00000\n",
       "Name: 검사일자, dtype: float64"
      ]
     },
     "execution_count": 1952,
     "metadata": {},
     "output_type": "execute_result"
    }
   ],
   "source": [
    "gm5di['검사일자'].describe()"
   ]
  },
  {
   "cell_type": "code",
   "execution_count": 1953,
   "metadata": {},
   "outputs": [
    {
     "data": {
      "text/plain": [
       "((565609, 39), 564319)"
      ]
     },
     "execution_count": 1953,
     "metadata": {},
     "output_type": "execute_result"
    }
   ],
   "source": [
    "gm5di.shape, len(gm5di['차대번호'].unique())"
   ]
  },
  {
   "cell_type": "code",
   "execution_count": 1954,
   "metadata": {},
   "outputs": [],
   "source": [
    "gm5di.loc[gm5di['검사일자'] >= 20210101, '수검일자구분'] = 'div1'\n",
    "gm5di.loc[(gm5di['검사일자'] < 20210101) & (gm5di['검사일자'] >= 20180101), '수검일자구분'] = 'div2'\n",
    "gm5di.loc[(gm5di['검사일자'] < 20180101) & (gm5di['검사일자'] >= 20130101), '수검일자구분'] = 'div3'\n",
    "gm5di.loc[gm5di['검사일자'] < 20130101, '수검일자구분'] = 'div4'"
   ]
  },
  {
   "cell_type": "code",
   "execution_count": 1955,
   "metadata": {},
   "outputs": [
    {
     "data": {
      "text/html": [
       "<div>\n",
       "<style scoped>\n",
       "    .dataframe tbody tr th:only-of-type {\n",
       "        vertical-align: middle;\n",
       "    }\n",
       "\n",
       "    .dataframe tbody tr th {\n",
       "        vertical-align: top;\n",
       "    }\n",
       "\n",
       "    .dataframe thead th {\n",
       "        text-align: right;\n",
       "    }\n",
       "</style>\n",
       "<table border=\"1\" class=\"dataframe\">\n",
       "  <thead>\n",
       "    <tr style=\"text-align: right;\">\n",
       "      <th>연료</th>\n",
       "      <th>경유</th>\n",
       "    </tr>\n",
       "    <tr>\n",
       "      <th>수검일자구분</th>\n",
       "      <th></th>\n",
       "    </tr>\n",
       "  </thead>\n",
       "  <tbody>\n",
       "    <tr>\n",
       "      <th>div1</th>\n",
       "      <td>565609</td>\n",
       "    </tr>\n",
       "  </tbody>\n",
       "</table>\n",
       "</div>"
      ],
      "text/plain": [
       "연료          경유\n",
       "수검일자구분        \n",
       "div1    565609"
      ]
     },
     "execution_count": 1955,
     "metadata": {},
     "output_type": "execute_result"
    }
   ],
   "source": [
    "num_of_inscar = gm5di.groupby(['수검일자구분', '연료'], dropna=False)['차대번호'].count().unstack()\n",
    "num_of_inscar"
   ]
  },
  {
   "cell_type": "code",
   "execution_count": 1956,
   "metadata": {},
   "outputs": [
    {
     "data": {
      "text/plain": [
       "Index(['경유'], dtype='object', name='연료')"
      ]
     },
     "execution_count": 1956,
     "metadata": {},
     "output_type": "execute_result"
    }
   ],
   "source": [
    "num_of_inscar.columns"
   ]
  },
  {
   "cell_type": "code",
   "execution_count": 1957,
   "metadata": {},
   "outputs": [
    {
     "data": {
      "text/html": [
       "<div>\n",
       "<style scoped>\n",
       "    .dataframe tbody tr th:only-of-type {\n",
       "        vertical-align: middle;\n",
       "    }\n",
       "\n",
       "    .dataframe tbody tr th {\n",
       "        vertical-align: top;\n",
       "    }\n",
       "\n",
       "    .dataframe thead th {\n",
       "        text-align: right;\n",
       "    }\n",
       "</style>\n",
       "<table border=\"1\" class=\"dataframe\">\n",
       "  <thead>\n",
       "    <tr style=\"text-align: right;\">\n",
       "      <th></th>\n",
       "      <th>수검일자구분</th>\n",
       "      <th>경유</th>\n",
       "    </tr>\n",
       "  </thead>\n",
       "  <tbody>\n",
       "    <tr>\n",
       "      <th>0</th>\n",
       "      <td>div1</td>\n",
       "      <td>565609</td>\n",
       "    </tr>\n",
       "  </tbody>\n",
       "</table>\n",
       "</div>"
      ],
      "text/plain": [
       "  수검일자구분      경유\n",
       "0   div1  565609"
      ]
     },
     "execution_count": 1957,
     "metadata": {},
     "output_type": "execute_result"
    }
   ],
   "source": [
    "num_of_inscar['경유'].reset_index()"
   ]
  },
  {
   "cell_type": "code",
   "execution_count": 1958,
   "metadata": {},
   "outputs": [],
   "source": [
    "text_list = ['전체차량대수', '최근 2년 정기/정밀검사 수검차량(2021.01. ~ 2022.12.)', '2~5년 이내 정기/정밀검사 수검차량(2018.01. ~ 2020.12.)', '5~10년 이내 정기/정밀검사 수검차량(2013.01. ~ 2017.12.)', '10년 이전 정기/정밀검사 수검차량( ~ 2012.12.)', '검사기록이 없는 차량', '정기/정밀검사 수검차량 비율', '정기/정밀검사 미수검차량 비율']\n",
    "fuel_dict = {'구분':text_list}\n",
    "for fuel in num_of_inscar.columns:\n",
    "    temp = num_of_inscar[fuel].reset_index()\n",
    "    num_list = [np.nan] * len(text_list)\n",
    "    for one in temp['수검일자구분']:\n",
    "        if one == 'div1':\n",
    "            num_list[1] = temp.loc[temp['수검일자구분'] == one, fuel].values[0]\n",
    "        elif one == 'div2':\n",
    "            num_list[2] = temp.loc[temp['수검일자구분'] == one, fuel].values[0]\n",
    "        elif one == 'div3':\n",
    "            num_list[3] = temp.loc[temp['수검일자구분'] == one, fuel].values[0]\n",
    "        elif one == 'div4':\n",
    "            num_list[4] = temp.loc[temp['수검일자구분'] == one, fuel].values[0]\n",
    "        else:\n",
    "            num_list[5] = temp.loc[temp['수검일자구분'].isnull() == True, fuel].values[0]\n",
    "\n",
    "    num_list[0] = np.nansum(num_list)\n",
    "    num_list[6] = num_list[1] / num_list[0] * 100\n",
    "    if np.isnan(num_list[6]) != True:\n",
    "        num_list[7] = 100 - num_list[6]\n",
    "    else:\n",
    "        num_list[7] = 100\n",
    "    fuel_dict[fuel] = num_list"
   ]
  },
  {
   "cell_type": "code",
   "execution_count": 1959,
   "metadata": {},
   "outputs": [
    {
     "data": {
      "text/plain": [
       "{'구분': ['전체차량대수',\n",
       "  '최근 2년 정기/정밀검사 수검차량(2021.01. ~ 2022.12.)',\n",
       "  '2~5년 이내 정기/정밀검사 수검차량(2018.01. ~ 2020.12.)',\n",
       "  '5~10년 이내 정기/정밀검사 수검차량(2013.01. ~ 2017.12.)',\n",
       "  '10년 이전 정기/정밀검사 수검차량( ~ 2012.12.)',\n",
       "  '검사기록이 없는 차량',\n",
       "  '정기/정밀검사 수검차량 비율',\n",
       "  '정기/정밀검사 미수검차량 비율'],\n",
       " '경유': [565609.0, 565609, nan, nan, nan, nan, 100.0, 0.0]}"
      ]
     },
     "execution_count": 1959,
     "metadata": {},
     "output_type": "execute_result"
    }
   ],
   "source": [
    "fuel_dict"
   ]
  },
  {
   "cell_type": "code",
   "execution_count": 1960,
   "metadata": {},
   "outputs": [
    {
     "data": {
      "text/plain": [
       "(565609, 40)"
      ]
     },
     "execution_count": 1960,
     "metadata": {},
     "output_type": "execute_result"
    }
   ],
   "source": [
    "gm5di.shape"
   ]
  },
  {
   "cell_type": "code",
   "execution_count": 1961,
   "metadata": {},
   "outputs": [
    {
     "data": {
      "text/html": [
       "<div>\n",
       "<style scoped>\n",
       "    .dataframe tbody tr th:only-of-type {\n",
       "        vertical-align: middle;\n",
       "    }\n",
       "\n",
       "    .dataframe tbody tr th {\n",
       "        vertical-align: top;\n",
       "    }\n",
       "\n",
       "    .dataframe thead th {\n",
       "        text-align: right;\n",
       "    }\n",
       "</style>\n",
       "<table border=\"1\" class=\"dataframe\">\n",
       "  <thead>\n",
       "    <tr style=\"text-align: right;\">\n",
       "      <th></th>\n",
       "      <th>구분</th>\n",
       "      <th>경유</th>\n",
       "    </tr>\n",
       "  </thead>\n",
       "  <tbody>\n",
       "    <tr>\n",
       "      <th>0</th>\n",
       "      <td>전체차량대수</td>\n",
       "      <td>565609.00000</td>\n",
       "    </tr>\n",
       "    <tr>\n",
       "      <th>1</th>\n",
       "      <td>최근 2년 정기/정밀검사 수검차량(2021.01. ~ 2022.12.)</td>\n",
       "      <td>565609.00000</td>\n",
       "    </tr>\n",
       "    <tr>\n",
       "      <th>2</th>\n",
       "      <td>2~5년 이내 정기/정밀검사 수검차량(2018.01. ~ 2020.12.)</td>\n",
       "      <td>NaN</td>\n",
       "    </tr>\n",
       "    <tr>\n",
       "      <th>3</th>\n",
       "      <td>5~10년 이내 정기/정밀검사 수검차량(2013.01. ~ 2017.12.)</td>\n",
       "      <td>NaN</td>\n",
       "    </tr>\n",
       "    <tr>\n",
       "      <th>4</th>\n",
       "      <td>10년 이전 정기/정밀검사 수검차량( ~ 2012.12.)</td>\n",
       "      <td>NaN</td>\n",
       "    </tr>\n",
       "    <tr>\n",
       "      <th>5</th>\n",
       "      <td>검사기록이 없는 차량</td>\n",
       "      <td>NaN</td>\n",
       "    </tr>\n",
       "    <tr>\n",
       "      <th>6</th>\n",
       "      <td>정기/정밀검사 수검차량 비율</td>\n",
       "      <td>100.00000</td>\n",
       "    </tr>\n",
       "    <tr>\n",
       "      <th>7</th>\n",
       "      <td>정기/정밀검사 미수검차량 비율</td>\n",
       "      <td>0.00000</td>\n",
       "    </tr>\n",
       "  </tbody>\n",
       "</table>\n",
       "</div>"
      ],
      "text/plain": [
       "                                           구분           경유\n",
       "0                                      전체차량대수 565609.00000\n",
       "1     최근 2년 정기/정밀검사 수검차량(2021.01. ~ 2022.12.) 565609.00000\n",
       "2   2~5년 이내 정기/정밀검사 수검차량(2018.01. ~ 2020.12.)          NaN\n",
       "3  5~10년 이내 정기/정밀검사 수검차량(2013.01. ~ 2017.12.)          NaN\n",
       "4            10년 이전 정기/정밀검사 수검차량( ~ 2012.12.)          NaN\n",
       "5                                 검사기록이 없는 차량          NaN\n",
       "6                             정기/정밀검사 수검차량 비율    100.00000\n",
       "7                            정기/정밀검사 미수검차량 비율      0.00000"
      ]
     },
     "execution_count": 1961,
     "metadata": {},
     "output_type": "execute_result"
    }
   ],
   "source": [
    "ins_chk5 = pd.DataFrame(fuel_dict)\n",
    "ins_chk5"
   ]
  },
  {
   "attachments": {},
   "cell_type": "markdown",
   "metadata": {},
   "source": [
    "#### [출력] 5등급 수검율"
   ]
  },
  {
   "cell_type": "code",
   "execution_count": 1962,
   "metadata": {},
   "outputs": [
    {
     "data": {
      "text/plain": [
       "'2023.06.17_AM.11.05.37'"
      ]
     },
     "execution_count": 1962,
     "metadata": {},
     "output_type": "execute_result"
    }
   ],
   "source": [
    "today_date = datetime.today().strftime(\"%Y.%m.%d_%p.%I.%M.%S\")\n",
    "today_date"
   ]
  },
  {
   "cell_type": "code",
   "execution_count": 1963,
   "metadata": {},
   "outputs": [],
   "source": [
    "# # 수검율 출력\n",
    "# ins_chk5.to_excel(os.path.join(analysis_fold, '통계_5등급_연료별_수검률.xlsx'), index=False)"
   ]
  },
  {
   "attachments": {},
   "cell_type": "markdown",
   "metadata": {},
   "source": [
    "## 가중치 설정을 위한 상관계수 확인\n",
    "- 선별 조건(4가지)\n",
    "    - 매연\n",
    "    - 일일평균주행거리\n",
    "    - 최근검사경과일\n",
    "    - 운행제한단속건수"
   ]
  },
  {
   "attachments": {},
   "cell_type": "markdown",
   "metadata": {},
   "source": [
    "#### [출력] 전처리 완료 2"
   ]
  },
  {
   "cell_type": "code",
   "execution_count": 1964,
   "metadata": {},
   "outputs": [
    {
     "data": {
      "text/plain": [
       "((939139, 54), (565609, 40))"
      ]
     },
     "execution_count": 1964,
     "metadata": {},
     "output_type": "execute_result"
    }
   ],
   "source": [
    "gm4di.shape, gm5di.shape"
   ]
  },
  {
   "cell_type": "code",
   "execution_count": 1965,
   "metadata": {},
   "outputs": [],
   "source": [
    "# about 37.6s\n",
    "gm4di.to_csv(os.path.join(ods_fold, 'BD3_3_4등급_전처리완료2.csv'), index=False, encoding='cp949')"
   ]
  },
  {
   "cell_type": "code",
   "execution_count": 1966,
   "metadata": {},
   "outputs": [],
   "source": [
    "# about 24.6s\n",
    "gm5di.to_csv(os.path.join(ods_fold, 'BD3_3_5등급_전처리완료2.csv'), index=False, encoding='cp949')"
   ]
  },
  {
   "attachments": {},
   "cell_type": "markdown",
   "metadata": {},
   "source": [
    "# [로드] 전처리완료2"
   ]
  },
  {
   "cell_type": "code",
   "execution_count": 5,
   "metadata": {},
   "outputs": [
    {
     "name": "stdout",
     "output_type": "stream",
     "text": [
      "<class 'pandas.core.frame.DataFrame'>\n",
      "RangeIndex: 1502211 entries, 0 to 1502210\n",
      "Data columns (total 64 columns):\n",
      " #   Column         Non-Null Count    Dtype  \n",
      "---  ------         --------------    -----  \n",
      " 0   차대번호           1502211 non-null  object \n",
      " 1   차량번호           1502211 non-null  object \n",
      " 2   제원관리번호         1502211 non-null  object \n",
      " 3   차종             1502211 non-null  object \n",
      " 4   용도             1502211 non-null  object \n",
      " 5   최초등록일          1502211 non-null  int64  \n",
      " 6   연식             1502211 non-null  int64  \n",
      " 7   제작일자           1335155 non-null  float64\n",
      " 8   검사유효일          1502199 non-null  float64\n",
      " 9   배출가스인증번호       1384782 non-null  object \n",
      " 10  등급             1502211 non-null  int64  \n",
      " 11  차명             1502211 non-null  object \n",
      " 12  차종분류           1502211 non-null  object \n",
      " 13  차종유형           1502211 non-null  object \n",
      " 14  자동차형식          1501934 non-null  object \n",
      " 15  제작사명           1492566 non-null  object \n",
      " 16  연료             1502211 non-null  object \n",
      " 17  엔진형식           1500376 non-null  object \n",
      " 18  총중량            1502211 non-null  float64\n",
      " 19  적재중량           1501704 non-null  float64\n",
      " 20  엔진출력           1501859 non-null  object \n",
      " 21  배기량            1502211 non-null  float64\n",
      " 22  법정동코드          1502211 non-null  int64  \n",
      " 23  시도명            1502211 non-null  object \n",
      " 24  시군구명           1502211 non-null  object \n",
      " 25  소유자구분          1502211 non-null  object \n",
      " 26  말소여부           1502211 non-null  object \n",
      " 27  배인번호_수정        1153793 non-null  object \n",
      " 28  등급_수정          1502211 non-null  float64\n",
      " 29  DPF유무_수정       1153793 non-null  object \n",
      " 30  Grade          1497687 non-null  object \n",
      " 31  시군구명_수정        1502211 non-null  object \n",
      " 32  1일평균주행거리       1502211 non-null  float64\n",
      " 33  조기폐차최종승인YN     0 non-null        float64\n",
      " 34  저감장치           33 non-null       object \n",
      " 35  장치일련번호         35 non-null       object \n",
      " 36  연간주행거리         1502211 non-null  float64\n",
      " 37  최신경과기간         1082155 non-null  float64\n",
      " 38  주행거리           1187798 non-null  float64\n",
      " 39  검사일자           1187930 non-null  float64\n",
      " 40  검사방법           1187930 non-null  object \n",
      " 41  검사종류           1187930 non-null  object \n",
      " 42  검사판정           1187930 non-null  object \n",
      " 43  무부하매연판정1       1178159 non-null  object \n",
      " 44  무부하매연판정2       100095 non-null   object \n",
      " 45  무부하매연판정3       99194 non-null    object \n",
      " 46  무부하매연측정치1      1178163 non-null  float64\n",
      " 47  무부하매연측정치2      423337 non-null   float64\n",
      " 48  무부하매연측정치3      389276 non-null   float64\n",
      " 49  비상시및계절제단속발령건수  53 non-null       float64\n",
      " 50  비상시및계절제단속발령YN  53 non-null       object \n",
      " 51  운행제한단속정보건수     138 non-null      float64\n",
      " 52  운행제한단속정보YN     138 non-null      object \n",
      " 53  계절제1차단속YN      11 non-null       object \n",
      " 54  계절제2차단속YN      31 non-null       object \n",
      " 55  계절제3차단속YN      6 non-null        object \n",
      " 56  비상시단속YN        8 non-null        object \n",
      " 57  운행제한건수         90 non-null       float64\n",
      " 58  연간배출량          1043090 non-null  float64\n",
      " 59  연간환경이익         1043090 non-null  float64\n",
      " 60  환경이익           1043090 non-null  float64\n",
      " 61  지원비용           1149236 non-null  float64\n",
      " 62  경제적타당성         1043090 non-null  float64\n",
      " 63  운행제한단속정보       1502211 non-null  float64\n",
      "dtypes: float64(24), int64(4), object(36)\n",
      "memory usage: 733.5+ MB\n"
     ]
    }
   ],
   "source": [
    "# about 23.5s\n",
    "name = 'BD3_3_4등급_전처리완료2'\n",
    "file_name = f'{name}.csv'\n",
    "gm4di = pd.read_csv(os.path.join(ods_fold, file_name), low_memory=False, encoding='cp949')\n",
    "gm4di.info()"
   ]
  },
  {
   "cell_type": "code",
   "execution_count": 6,
   "metadata": {},
   "outputs": [
    {
     "name": "stdout",
     "output_type": "stream",
     "text": [
      "<class 'pandas.core.frame.DataFrame'>\n",
      "RangeIndex: 1156506 entries, 0 to 1156505\n",
      "Data columns (total 55 columns):\n",
      " #   Column         Non-Null Count    Dtype  \n",
      "---  ------         --------------    -----  \n",
      " 0   차량등록번호         1156506 non-null  object \n",
      " 1   본거지법정동코드       1156506 non-null  int64  \n",
      " 2   차대번호           1156506 non-null  object \n",
      " 3   제원관리번호         1156506 non-null  object \n",
      " 4   배출가스인증번호       544272 non-null   object \n",
      " 5   배출가스등급         1156506 non-null  object \n",
      " 6   용도             1156506 non-null  object \n",
      " 7   차명             1156505 non-null  object \n",
      " 8   차종             1156506 non-null  object \n",
      " 9   차종유형           1156506 non-null  object \n",
      " 10  연료             1156506 non-null  object \n",
      " 11  배기량            1156506 non-null  float64\n",
      " 12  총중량            1156506 non-null  float64\n",
      " 13  차량연식           1156506 non-null  int64  \n",
      " 14  조기폐차최종승인YN     13705 non-null    object \n",
      " 15  저감장치           144536 non-null   object \n",
      " 16  장치일련번호         190807 non-null   object \n",
      " 17  저감효율           401 non-null      float64\n",
      " 18  연간주행거리         1156506 non-null  float64\n",
      " 19  최신경과기간         633646 non-null   float64\n",
      " 20  시도             1156506 non-null  object \n",
      " 21  시구군            1156485 non-null  object \n",
      " 22  1일평균주행거리       522860 non-null   float64\n",
      " 23  주행거리           770873 non-null   float64\n",
      " 24  검사일자           771140 non-null   float64\n",
      " 25  검사방법           771140 non-null   object \n",
      " 26  검사종류           771140 non-null   object \n",
      " 27  검사판정           771140 non-null   object \n",
      " 28  무부하매연판정1       764272 non-null   object \n",
      " 29  무부하매연판정2       113921 non-null   object \n",
      " 30  무부하매연판정3       113585 non-null   object \n",
      " 31  무부하매연측정치1      764283 non-null   float64\n",
      " 32  무부하매연측정치2      262281 non-null   float64\n",
      " 33  무부하매연측정치3      239415 non-null   float64\n",
      " 34  비상시및계절제단속발령건수  774919 non-null   float64\n",
      " 35  비상시및계절제단속발령YN  774919 non-null   object \n",
      " 36  운행제한단속정보건수     49265 non-null    float64\n",
      " 37  운행제한단속정보YN     49265 non-null    object \n",
      " 38  계절제1차단속YN      78729 non-null    object \n",
      " 39  계절제2차단속YN      429055 non-null   object \n",
      " 40  계절제3차단속YN      504165 non-null   object \n",
      " 41  비상시단속YN        325849 non-null   object \n",
      " 42  운행제한건수         448587 non-null   float64\n",
      " 43  연간배출량_조기폐차     624352 non-null   float64\n",
      " 44  연간배출량_DPF      544041 non-null   float64\n",
      " 45  장치구분           219859 non-null   object \n",
      " 46  연간환경이익_조기폐차    624352 non-null   float64\n",
      " 47  연간환경이익_DPF     544041 non-null   float64\n",
      " 48  환경이익_조기폐차      624352 non-null   float64\n",
      " 49  환경이익_DPF       544041 non-null   float64\n",
      " 50  지원비용_조기폐차      1125985 non-null  float64\n",
      " 51  지원비용_DPF       1125985 non-null  float64\n",
      " 52  경제적타당성_조기폐차    624352 non-null   float64\n",
      " 53  경제적타당성_DPF     544041 non-null   float64\n",
      " 54  운행제한단속정보       1156506 non-null  float64\n",
      "dtypes: float64(25), int64(2), object(28)\n",
      "memory usage: 485.3+ MB\n"
     ]
    }
   ],
   "source": [
    "# about 9.0s\n",
    "name = 'BD3_3_5등급_전처리완료2'\n",
    "file_name = f'{name}.csv'\n",
    "gm5di = pd.read_csv(os.path.join(ods_fold, file_name), low_memory=False, encoding='cp949')\n",
    "gm5di.info()"
   ]
  },
  {
   "attachments": {},
   "cell_type": "markdown",
   "metadata": {},
   "source": [
    "### 상관계수 계산"
   ]
  },
  {
   "attachments": {},
   "cell_type": "markdown",
   "metadata": {},
   "source": [
    "#### 4등급 경유 N급"
   ]
  },
  {
   "cell_type": "code",
   "execution_count": 1967,
   "metadata": {},
   "outputs": [
    {
     "data": {
      "text/plain": [
       "Index(['차대번호', '차량번호', '제원관리번호', '차종', '용도', '최초등록일', '연식', '제작일자', '검사유효일',\n",
       "       '배출가스인증번호', '등급', '차명', '차종분류', '차종유형', '자동차형식', '제작사명', '연료', '엔진형식',\n",
       "       '총중량', '적재중량', '엔진출력', '배기량', '법정동코드', '시도명', '시군구명', '소유자구분', '말소여부',\n",
       "       '배인번호_수정', '등급_수정', 'DPF유무_수정', 'Grade', '저감장치', '장치일련번호', '최초등록일자수정',\n",
       "       '최근검사일자수정', '최근주행거리', '등록일기준검사일', '현재일자', '일일평균주행거리', '최근검사경과일', '주행거리',\n",
       "       '검사일자', '검사방법', '검사종류', '검사판정', '무부하매연판정1', '무부하매연판정2', '무부하매연판정3',\n",
       "       '무부하매연측정치1', '무부하매연측정치2', '무부하매연측정치3', '정기정밀', '운행제한건수', '수검일자구분'],\n",
       "      dtype='object')"
      ]
     },
     "execution_count": 1967,
     "metadata": {},
     "output_type": "execute_result"
    }
   ],
   "source": [
    "gm4di.columns"
   ]
  },
  {
   "cell_type": "code",
   "execution_count": 1968,
   "metadata": {},
   "outputs": [
    {
     "data": {
      "text/plain": [
       "0"
      ]
     },
     "execution_count": 1968,
     "metadata": {},
     "output_type": "execute_result"
    }
   ],
   "source": [
    "gm4di['일일평균주행거리'].isnull().sum()"
   ]
  },
  {
   "cell_type": "code",
   "execution_count": 1969,
   "metadata": {},
   "outputs": [],
   "source": [
    "# 선별조건선정\n",
    "col = ['무부하매연측정치1', '일일평균주행거리', '최근검사경과일', '운행제한건수']"
   ]
  },
  {
   "cell_type": "code",
   "execution_count": 1970,
   "metadata": {},
   "outputs": [
    {
     "data": {
      "text/plain": [
       "무부하매연측정치1    float64\n",
       "일일평균주행거리     float64\n",
       "최근검사경과일      float64\n",
       "운행제한건수       float64\n",
       "dtype: object"
      ]
     },
     "execution_count": 1970,
     "metadata": {},
     "output_type": "execute_result"
    }
   ],
   "source": [
    "gm4di[col].dtypes"
   ]
  },
  {
   "cell_type": "code",
   "execution_count": 1971,
   "metadata": {},
   "outputs": [
    {
     "data": {
      "text/plain": [
       "무부하매연측정치1    0\n",
       "일일평균주행거리     0\n",
       "최근검사경과일      0\n",
       "운행제한건수       0\n",
       "dtype: int64"
      ]
     },
     "execution_count": 1971,
     "metadata": {},
     "output_type": "execute_result"
    }
   ],
   "source": [
    "gm4di[col].isnull().sum()"
   ]
  },
  {
   "cell_type": "code",
   "execution_count": 1972,
   "metadata": {},
   "outputs": [],
   "source": [
    "# gm4di[col] = gm4di[col].fillna(0)\n",
    "# gm4di[col].isnull().sum()"
   ]
  },
  {
   "cell_type": "code",
   "execution_count": 1973,
   "metadata": {},
   "outputs": [
    {
     "data": {
      "text/html": [
       "<div>\n",
       "<style scoped>\n",
       "    .dataframe tbody tr th:only-of-type {\n",
       "        vertical-align: middle;\n",
       "    }\n",
       "\n",
       "    .dataframe tbody tr th {\n",
       "        vertical-align: top;\n",
       "    }\n",
       "\n",
       "    .dataframe thead th {\n",
       "        text-align: right;\n",
       "    }\n",
       "</style>\n",
       "<table border=\"1\" class=\"dataframe\">\n",
       "  <thead>\n",
       "    <tr style=\"text-align: right;\">\n",
       "      <th></th>\n",
       "      <th>무부하매연측정치1</th>\n",
       "      <th>일일평균주행거리</th>\n",
       "      <th>최근검사경과일</th>\n",
       "      <th>운행제한건수</th>\n",
       "    </tr>\n",
       "  </thead>\n",
       "  <tbody>\n",
       "    <tr>\n",
       "      <th>무부하매연측정치1</th>\n",
       "      <td>1.00000</td>\n",
       "      <td>0.00031</td>\n",
       "      <td>-0.02952</td>\n",
       "      <td>0.00300</td>\n",
       "    </tr>\n",
       "    <tr>\n",
       "      <th>일일평균주행거리</th>\n",
       "      <td>0.00031</td>\n",
       "      <td>1.00000</td>\n",
       "      <td>-0.04128</td>\n",
       "      <td>0.01667</td>\n",
       "    </tr>\n",
       "    <tr>\n",
       "      <th>최근검사경과일</th>\n",
       "      <td>-0.02952</td>\n",
       "      <td>-0.04128</td>\n",
       "      <td>1.00000</td>\n",
       "      <td>-0.00057</td>\n",
       "    </tr>\n",
       "    <tr>\n",
       "      <th>운행제한건수</th>\n",
       "      <td>0.00300</td>\n",
       "      <td>0.01667</td>\n",
       "      <td>-0.00057</td>\n",
       "      <td>1.00000</td>\n",
       "    </tr>\n",
       "  </tbody>\n",
       "</table>\n",
       "</div>"
      ],
      "text/plain": [
       "           무부하매연측정치1  일일평균주행거리  최근검사경과일   운행제한건수\n",
       "무부하매연측정치1    1.00000   0.00031 -0.02952  0.00300\n",
       "일일평균주행거리     0.00031   1.00000 -0.04128  0.01667\n",
       "최근검사경과일     -0.02952  -0.04128  1.00000 -0.00057\n",
       "운행제한건수       0.00300   0.01667 -0.00057  1.00000"
      ]
     },
     "execution_count": 1973,
     "metadata": {},
     "output_type": "execute_result"
    }
   ],
   "source": [
    "gm4di_corr = gm4di[col].corr()\n",
    "gm4di_corr"
   ]
  },
  {
   "attachments": {},
   "cell_type": "markdown",
   "metadata": {},
   "source": [
    "###### [출력] 4등급 경유차 선별조건 상관계수"
   ]
  },
  {
   "cell_type": "code",
   "execution_count": 1974,
   "metadata": {},
   "outputs": [
    {
     "data": {
      "text/html": [
       "<div>\n",
       "<style scoped>\n",
       "    .dataframe tbody tr th:only-of-type {\n",
       "        vertical-align: middle;\n",
       "    }\n",
       "\n",
       "    .dataframe tbody tr th {\n",
       "        vertical-align: top;\n",
       "    }\n",
       "\n",
       "    .dataframe thead th {\n",
       "        text-align: right;\n",
       "    }\n",
       "</style>\n",
       "<table border=\"1\" class=\"dataframe\">\n",
       "  <thead>\n",
       "    <tr style=\"text-align: right;\">\n",
       "      <th></th>\n",
       "      <th>index</th>\n",
       "      <th>무부하매연측정치1</th>\n",
       "      <th>일일평균주행거리</th>\n",
       "      <th>최근검사경과일</th>\n",
       "      <th>운행제한건수</th>\n",
       "      <th>합계</th>\n",
       "    </tr>\n",
       "  </thead>\n",
       "  <tbody>\n",
       "    <tr>\n",
       "      <th>0</th>\n",
       "      <td>무부하매연측정치1</td>\n",
       "      <td>1.00000</td>\n",
       "      <td>0.00031</td>\n",
       "      <td>-0.02952</td>\n",
       "      <td>0.00300</td>\n",
       "      <td>0.97379</td>\n",
       "    </tr>\n",
       "    <tr>\n",
       "      <th>1</th>\n",
       "      <td>일일평균주행거리</td>\n",
       "      <td>0.00031</td>\n",
       "      <td>1.00000</td>\n",
       "      <td>-0.04128</td>\n",
       "      <td>0.01667</td>\n",
       "      <td>0.97570</td>\n",
       "    </tr>\n",
       "    <tr>\n",
       "      <th>2</th>\n",
       "      <td>최근검사경과일</td>\n",
       "      <td>-0.02952</td>\n",
       "      <td>-0.04128</td>\n",
       "      <td>1.00000</td>\n",
       "      <td>-0.00057</td>\n",
       "      <td>0.92863</td>\n",
       "    </tr>\n",
       "    <tr>\n",
       "      <th>3</th>\n",
       "      <td>운행제한건수</td>\n",
       "      <td>0.00300</td>\n",
       "      <td>0.01667</td>\n",
       "      <td>-0.00057</td>\n",
       "      <td>1.00000</td>\n",
       "      <td>1.01910</td>\n",
       "    </tr>\n",
       "  </tbody>\n",
       "</table>\n",
       "</div>"
      ],
      "text/plain": [
       "       index  무부하매연측정치1  일일평균주행거리  최근검사경과일   운행제한건수      합계\n",
       "0  무부하매연측정치1    1.00000   0.00031 -0.02952  0.00300 0.97379\n",
       "1   일일평균주행거리    0.00031   1.00000 -0.04128  0.01667 0.97570\n",
       "2    최근검사경과일   -0.02952  -0.04128  1.00000 -0.00057 0.92863\n",
       "3     운행제한건수    0.00300   0.01667 -0.00057  1.00000 1.01910"
      ]
     },
     "execution_count": 1974,
     "metadata": {},
     "output_type": "execute_result"
    }
   ],
   "source": [
    "t4 = pd.concat([gm4di_corr, gm4di_corr.sum()], axis=1)\n",
    "t4 = t4.rename(columns={0:'합계'})\n",
    "t4 = t4.reset_index()\n",
    "t4"
   ]
  },
  {
   "cell_type": "code",
   "execution_count": 1975,
   "metadata": {},
   "outputs": [
    {
     "data": {
      "text/plain": [
       "Index(['index', '무부하매연측정치1', '일일평균주행거리', '최근검사경과일', '운행제한건수', '합계'], dtype='object')"
      ]
     },
     "execution_count": 1975,
     "metadata": {},
     "output_type": "execute_result"
    }
   ],
   "source": [
    "t4.columns"
   ]
  },
  {
   "cell_type": "code",
   "execution_count": 1976,
   "metadata": {},
   "outputs": [],
   "source": [
    "chc_col = {\n",
    "    'index':'LIST', \n",
    "    '무부하매연측정치1':'NOLOD_SMO_MEVLU1', \n",
    "    '일일평균주행거리':'DY_AVRG_DRVNG_DSTNC', \n",
    "    '최근검사경과일':'RCNT_INSP_ELPSD_WHL', \n",
    "    '운행제한건수':'RUN_LMT_NOCS', \n",
    "    '합계':'TOT_CRRLTN_CFFCNT',\n",
    "}"
   ]
  },
  {
   "cell_type": "code",
   "execution_count": 1977,
   "metadata": {},
   "outputs": [
    {
     "data": {
      "text/html": [
       "<div>\n",
       "<style scoped>\n",
       "    .dataframe tbody tr th:only-of-type {\n",
       "        vertical-align: middle;\n",
       "    }\n",
       "\n",
       "    .dataframe tbody tr th {\n",
       "        vertical-align: top;\n",
       "    }\n",
       "\n",
       "    .dataframe thead th {\n",
       "        text-align: right;\n",
       "    }\n",
       "</style>\n",
       "<table border=\"1\" class=\"dataframe\">\n",
       "  <thead>\n",
       "    <tr style=\"text-align: right;\">\n",
       "      <th></th>\n",
       "      <th>LIST</th>\n",
       "      <th>NOLOD_SMO_MEVLU1</th>\n",
       "      <th>DY_AVRG_DRVNG_DSTNC</th>\n",
       "      <th>RCNT_INSP_ELPSD_WHL</th>\n",
       "      <th>RUN_LMT_NOCS</th>\n",
       "      <th>TOT_CRRLTN_CFFCNT</th>\n",
       "    </tr>\n",
       "  </thead>\n",
       "  <tbody>\n",
       "    <tr>\n",
       "      <th>0</th>\n",
       "      <td>무부하매연측정치1</td>\n",
       "      <td>1.00000</td>\n",
       "      <td>0.00031</td>\n",
       "      <td>-0.02952</td>\n",
       "      <td>0.00300</td>\n",
       "      <td>0.97379</td>\n",
       "    </tr>\n",
       "    <tr>\n",
       "      <th>1</th>\n",
       "      <td>일일평균주행거리</td>\n",
       "      <td>0.00031</td>\n",
       "      <td>1.00000</td>\n",
       "      <td>-0.04128</td>\n",
       "      <td>0.01667</td>\n",
       "      <td>0.97570</td>\n",
       "    </tr>\n",
       "    <tr>\n",
       "      <th>2</th>\n",
       "      <td>최근검사경과일</td>\n",
       "      <td>-0.02952</td>\n",
       "      <td>-0.04128</td>\n",
       "      <td>1.00000</td>\n",
       "      <td>-0.00057</td>\n",
       "      <td>0.92863</td>\n",
       "    </tr>\n",
       "    <tr>\n",
       "      <th>3</th>\n",
       "      <td>운행제한건수</td>\n",
       "      <td>0.00300</td>\n",
       "      <td>0.01667</td>\n",
       "      <td>-0.00057</td>\n",
       "      <td>1.00000</td>\n",
       "      <td>1.01910</td>\n",
       "    </tr>\n",
       "  </tbody>\n",
       "</table>\n",
       "</div>"
      ],
      "text/plain": [
       "        LIST  NOLOD_SMO_MEVLU1  DY_AVRG_DRVNG_DSTNC  RCNT_INSP_ELPSD_WHL   \n",
       "0  무부하매연측정치1           1.00000              0.00031             -0.02952  \\\n",
       "1   일일평균주행거리           0.00031              1.00000             -0.04128   \n",
       "2    최근검사경과일          -0.02952             -0.04128              1.00000   \n",
       "3     운행제한건수           0.00300              0.01667             -0.00057   \n",
       "\n",
       "   RUN_LMT_NOCS  TOT_CRRLTN_CFFCNT  \n",
       "0       0.00300            0.97379  \n",
       "1       0.01667            0.97570  \n",
       "2      -0.00057            0.92863  \n",
       "3       1.00000            1.01910  "
      ]
     },
     "execution_count": 1977,
     "metadata": {},
     "output_type": "execute_result"
    }
   ],
   "source": [
    "t4r = t4.rename(columns=chc_col)\n",
    "t4r"
   ]
  },
  {
   "attachments": {},
   "cell_type": "markdown",
   "metadata": {},
   "source": [
    "###### [출력] 4등급 경유차 상관계수"
   ]
  },
  {
   "cell_type": "code",
   "execution_count": 1978,
   "metadata": {},
   "outputs": [],
   "source": [
    "# BD3-3_4등급경유차_상관계수\n",
    "t4r.to_csv(os.path.join(df_fold, 'STD_BD_GRD4_DS_CRRLTN_CFFCNT.csv'), index=False)"
   ]
  },
  {
   "cell_type": "code",
   "execution_count": 1979,
   "metadata": {},
   "outputs": [
    {
     "data": {
      "text/plain": [
       "무부하매연측정치1   0.97379\n",
       "일일평균주행거리    0.97570\n",
       "최근검사경과일     0.92863\n",
       "운행제한건수      1.01910\n",
       "dtype: float64"
      ]
     },
     "execution_count": 1979,
     "metadata": {},
     "output_type": "execute_result"
    }
   ],
   "source": [
    "gm4di_corr.sum()[col]"
   ]
  },
  {
   "cell_type": "code",
   "execution_count": 1980,
   "metadata": {},
   "outputs": [
    {
     "data": {
      "text/plain": [
       "(0.2498683278232009,\n",
       " 0.2503580653684643,\n",
       " 0.23827952336879377,\n",
       " 0.261494083439541)"
      ]
     },
     "execution_count": 1980,
     "metadata": {},
     "output_type": "execute_result"
    }
   ],
   "source": [
    "c1, c2, c3, c4 = gm4di_corr.sum()[col]\n",
    "sc1 = c1 + c2 + c3 + c4 \n",
    "w1, w2, w3, w4 = c1/sc1, c2/sc1, c3/sc1, c4/sc1\n",
    "w1, w2, w3, w4"
   ]
  },
  {
   "cell_type": "code",
   "execution_count": 1981,
   "metadata": {},
   "outputs": [
    {
     "data": {
      "text/plain": [
       "0"
      ]
     },
     "execution_count": 1981,
     "metadata": {},
     "output_type": "execute_result"
    }
   ],
   "source": [
    "gm4di['선별포인트'] = np.round(w1 * gm4di['무부하매연측정치1'] + w2 * gm4di['일일평균주행거리'] + w3 * gm4di['최근검사경과일'] + w4 * gm4di['운행제한건수'] , 0)\n",
    "gm4di['선별포인트'].isnull().sum()"
   ]
  },
  {
   "cell_type": "code",
   "execution_count": 1982,
   "metadata": {},
   "outputs": [
    {
     "data": {
      "text/html": [
       "<div>\n",
       "<style scoped>\n",
       "    .dataframe tbody tr th:only-of-type {\n",
       "        vertical-align: middle;\n",
       "    }\n",
       "\n",
       "    .dataframe tbody tr th {\n",
       "        vertical-align: top;\n",
       "    }\n",
       "\n",
       "    .dataframe thead th {\n",
       "        text-align: right;\n",
       "    }\n",
       "</style>\n",
       "<table border=\"1\" class=\"dataframe\">\n",
       "  <thead>\n",
       "    <tr style=\"text-align: right;\">\n",
       "      <th></th>\n",
       "      <th>차량번호</th>\n",
       "      <th>차종</th>\n",
       "      <th>선별포인트</th>\n",
       "    </tr>\n",
       "  </thead>\n",
       "  <tbody>\n",
       "    <tr>\n",
       "      <th>48638</th>\n",
       "      <td>22소6078</td>\n",
       "      <td>승용</td>\n",
       "      <td>675.00000</td>\n",
       "    </tr>\n",
       "    <tr>\n",
       "      <th>764257</th>\n",
       "      <td>경남82아9185</td>\n",
       "      <td>화물</td>\n",
       "      <td>610.00000</td>\n",
       "    </tr>\n",
       "    <tr>\n",
       "      <th>738577</th>\n",
       "      <td>경기91바3784</td>\n",
       "      <td>화물</td>\n",
       "      <td>591.00000</td>\n",
       "    </tr>\n",
       "    <tr>\n",
       "      <th>738409</th>\n",
       "      <td>경기94아2289</td>\n",
       "      <td>화물</td>\n",
       "      <td>589.00000</td>\n",
       "    </tr>\n",
       "    <tr>\n",
       "      <th>737894</th>\n",
       "      <td>충북80자4400</td>\n",
       "      <td>화물</td>\n",
       "      <td>571.00000</td>\n",
       "    </tr>\n",
       "    <tr>\n",
       "      <th>373348</th>\n",
       "      <td>97모8872</td>\n",
       "      <td>화물</td>\n",
       "      <td>538.00000</td>\n",
       "    </tr>\n",
       "    <tr>\n",
       "      <th>1146434</th>\n",
       "      <td>강원98바2213</td>\n",
       "      <td>특수</td>\n",
       "      <td>500.00000</td>\n",
       "    </tr>\n",
       "    <tr>\n",
       "      <th>594443</th>\n",
       "      <td>94버3820</td>\n",
       "      <td>화물</td>\n",
       "      <td>499.00000</td>\n",
       "    </tr>\n",
       "    <tr>\n",
       "      <th>760123</th>\n",
       "      <td>83너9947</td>\n",
       "      <td>화물</td>\n",
       "      <td>468.00000</td>\n",
       "    </tr>\n",
       "    <tr>\n",
       "      <th>764963</th>\n",
       "      <td>72우9725</td>\n",
       "      <td>승합</td>\n",
       "      <td>444.00000</td>\n",
       "    </tr>\n",
       "  </tbody>\n",
       "</table>\n",
       "</div>"
      ],
      "text/plain": [
       "              차량번호  차종     선별포인트\n",
       "48638      22소6078  승용 675.00000\n",
       "764257   경남82아9185  화물 610.00000\n",
       "738577   경기91바3784  화물 591.00000\n",
       "738409   경기94아2289  화물 589.00000\n",
       "737894   충북80자4400  화물 571.00000\n",
       "373348     97모8872  화물 538.00000\n",
       "1146434  강원98바2213  특수 500.00000\n",
       "594443     94버3820  화물 499.00000\n",
       "760123     83너9947  화물 468.00000\n",
       "764963     72우9725  승합 444.00000"
      ]
     },
     "execution_count": 1982,
     "metadata": {},
     "output_type": "execute_result"
    }
   ],
   "source": [
    "gm4di.sort_values('선별포인트', ascending=False)[['차량번호', '차종', '선별포인트']].head(10)"
   ]
  },
  {
   "cell_type": "code",
   "execution_count": 1983,
   "metadata": {},
   "outputs": [
    {
     "data": {
      "text/plain": [
       "count   939139.00000\n",
       "mean       114.75912\n",
       "std         36.37702\n",
       "min         40.00000\n",
       "25%         87.00000\n",
       "50%        113.00000\n",
       "75%        141.00000\n",
       "max        675.00000\n",
       "Name: 선별포인트, dtype: float64"
      ]
     },
     "execution_count": 1983,
     "metadata": {},
     "output_type": "execute_result"
    }
   ],
   "source": [
    "gm4di['선별포인트'].describe()"
   ]
  },
  {
   "cell_type": "code",
   "execution_count": 1984,
   "metadata": {},
   "outputs": [
    {
     "data": {
      "image/png": "[encoded data removed]",
      "text/plain": [
       "<Figure size 640x480 with 1 Axes>"
      ]
     },
     "metadata": {},
     "output_type": "display_data"
    }
   ],
   "source": [
    "gm4di['선별포인트'].hist();"
   ]
  },
  {
   "attachments": {},
   "cell_type": "markdown",
   "metadata": {},
   "source": [
    "##### [출력]"
   ]
  },
  {
   "cell_type": "code",
   "execution_count": 1985,
   "metadata": {},
   "outputs": [
    {
     "data": {
      "text/plain": [
       "Index(['차대번호', '차량번호', '제원관리번호', '차종', '용도', '최초등록일', '연식', '제작일자', '검사유효일',\n",
       "       '배출가스인증번호', '등급', '차명', '차종분류', '차종유형', '자동차형식', '제작사명', '연료', '엔진형식',\n",
       "       '총중량', '적재중량', '엔진출력', '배기량', '법정동코드', '시도명', '시군구명', '소유자구분', '말소여부',\n",
       "       '배인번호_수정', '등급_수정', 'DPF유무_수정', 'Grade', '저감장치', '장치일련번호', '최초등록일자수정',\n",
       "       '최근검사일자수정', '최근주행거리', '등록일기준검사일', '현재일자', '일일평균주행거리', '최근검사경과일', '주행거리',\n",
       "       '검사일자', '검사방법', '검사종류', '검사판정', '무부하매연판정1', '무부하매연판정2', '무부하매연판정3',\n",
       "       '무부하매연측정치1', '무부하매연측정치2', '무부하매연측정치3', '정기정밀', '운행제한건수', '수검일자구분',\n",
       "       '선별포인트'],\n",
       "      dtype='object')"
      ]
     },
     "execution_count": 1985,
     "metadata": {},
     "output_type": "execute_result"
    }
   ],
   "source": [
    "gm4di.columns"
   ]
  },
  {
   "cell_type": "code",
   "execution_count": 1986,
   "metadata": {},
   "outputs": [
    {
     "data": {
      "text/plain": [
       "(939139, 12)"
      ]
     },
     "execution_count": 1986,
     "metadata": {},
     "output_type": "execute_result"
    }
   ],
   "source": [
    "export4 = gm4di[[\n",
    "    '차대번호', \n",
    "    '차량번호', \n",
    "    '법정동코드', \n",
    "    '연식', \n",
    "    '용도', \n",
    "    '차종', \n",
    "    '차종유형', \n",
    "    '선별포인트',\n",
    "    '무부하매연측정치1', \n",
    "    '일일평균주행거리',\n",
    "    '최근검사경과일', \n",
    "    '운행제한건수', \n",
    "    ]]\n",
    "export4.shape"
   ]
  },
  {
   "attachments": {},
   "cell_type": "markdown",
   "metadata": {},
   "source": [
    "###### [출력] 선별포인트 상위 100위 샘플"
   ]
  },
  {
   "cell_type": "code",
   "execution_count": 1987,
   "metadata": {},
   "outputs": [
    {
     "data": {
      "text/html": [
       "<div>\n",
       "<style scoped>\n",
       "    .dataframe tbody tr th:only-of-type {\n",
       "        vertical-align: middle;\n",
       "    }\n",
       "\n",
       "    .dataframe tbody tr th {\n",
       "        vertical-align: top;\n",
       "    }\n",
       "\n",
       "    .dataframe thead th {\n",
       "        text-align: right;\n",
       "    }\n",
       "</style>\n",
       "<table border=\"1\" class=\"dataframe\">\n",
       "  <thead>\n",
       "    <tr style=\"text-align: right;\">\n",
       "      <th></th>\n",
       "      <th>차대번호</th>\n",
       "      <th>차량번호</th>\n",
       "      <th>법정동코드</th>\n",
       "      <th>연식</th>\n",
       "      <th>용도</th>\n",
       "      <th>차종</th>\n",
       "      <th>차종유형</th>\n",
       "      <th>선별포인트</th>\n",
       "      <th>무부하매연측정치1</th>\n",
       "      <th>일일평균주행거리</th>\n",
       "      <th>최근검사경과일</th>\n",
       "      <th>운행제한건수</th>\n",
       "    </tr>\n",
       "  </thead>\n",
       "  <tbody>\n",
       "    <tr>\n",
       "      <th>48638</th>\n",
       "      <td>KMHJN81VP9U143755</td>\n",
       "      <td>22소6078</td>\n",
       "      <td>4311112100</td>\n",
       "      <td>2009</td>\n",
       "      <td>자가용</td>\n",
       "      <td>승용</td>\n",
       "      <td>중형</td>\n",
       "      <td>675.00000</td>\n",
       "      <td>0.00000</td>\n",
       "      <td>2077.65498</td>\n",
       "      <td>650.00000</td>\n",
       "      <td>0.00000</td>\n",
       "    </tr>\n",
       "    <tr>\n",
       "      <th>764257</th>\n",
       "      <td>KMFRA18NPBC043270</td>\n",
       "      <td>경남82아9185</td>\n",
       "      <td>4833033000</td>\n",
       "      <td>2011</td>\n",
       "      <td>영업용</td>\n",
       "      <td>화물</td>\n",
       "      <td>대형</td>\n",
       "      <td>610.00000</td>\n",
       "      <td>0.00000</td>\n",
       "      <td>2181.02486</td>\n",
       "      <td>268.00000</td>\n",
       "      <td>0.00000</td>\n",
       "    </tr>\n",
       "    <tr>\n",
       "      <th>738577</th>\n",
       "      <td>KMFGA17HPAC142432</td>\n",
       "      <td>경기91바3784</td>\n",
       "      <td>4159025321</td>\n",
       "      <td>2010</td>\n",
       "      <td>영업용</td>\n",
       "      <td>화물</td>\n",
       "      <td>중형</td>\n",
       "      <td>591.00000</td>\n",
       "      <td>9.00000</td>\n",
       "      <td>2009.98389</td>\n",
       "      <td>361.00000</td>\n",
       "      <td>0.00000</td>\n",
       "    </tr>\n",
       "    <tr>\n",
       "      <th>738409</th>\n",
       "      <td>KMFGA17HPAC130619</td>\n",
       "      <td>경기94아2289</td>\n",
       "      <td>4146110700</td>\n",
       "      <td>2010</td>\n",
       "      <td>영업용</td>\n",
       "      <td>화물</td>\n",
       "      <td>중형</td>\n",
       "      <td>589.00000</td>\n",
       "      <td>1.00000</td>\n",
       "      <td>1836.49325</td>\n",
       "      <td>540.00000</td>\n",
       "      <td>0.00000</td>\n",
       "    </tr>\n",
       "    <tr>\n",
       "      <th>737894</th>\n",
       "      <td>KMFGA17HPAC131841</td>\n",
       "      <td>충북80자4400</td>\n",
       "      <td>4311310400</td>\n",
       "      <td>2010</td>\n",
       "      <td>영업용</td>\n",
       "      <td>화물</td>\n",
       "      <td>중형</td>\n",
       "      <td>571.00000</td>\n",
       "      <td>9.00000</td>\n",
       "      <td>1719.21121</td>\n",
       "      <td>582.00000</td>\n",
       "      <td>0.00000</td>\n",
       "    </tr>\n",
       "  </tbody>\n",
       "</table>\n",
       "</div>"
      ],
      "text/plain": [
       "                     차대번호       차량번호       법정동코드    연식   용도  차종 차종유형   \n",
       "48638   KMHJN81VP9U143755    22소6078  4311112100  2009  자가용  승용   중형  \\\n",
       "764257  KMFRA18NPBC043270  경남82아9185  4833033000  2011  영업용  화물   대형   \n",
       "738577  KMFGA17HPAC142432  경기91바3784  4159025321  2010  영업용  화물   중형   \n",
       "738409  KMFGA17HPAC130619  경기94아2289  4146110700  2010  영업용  화물   중형   \n",
       "737894  KMFGA17HPAC131841  충북80자4400  4311310400  2010  영업용  화물   중형   \n",
       "\n",
       "           선별포인트  무부하매연측정치1   일일평균주행거리   최근검사경과일  운행제한건수  \n",
       "48638  675.00000    0.00000 2077.65498 650.00000 0.00000  \n",
       "764257 610.00000    0.00000 2181.02486 268.00000 0.00000  \n",
       "738577 591.00000    9.00000 2009.98389 361.00000 0.00000  \n",
       "738409 589.00000    1.00000 1836.49325 540.00000 0.00000  \n",
       "737894 571.00000    9.00000 1719.21121 582.00000 0.00000  "
      ]
     },
     "execution_count": 1987,
     "metadata": {},
     "output_type": "execute_result"
    }
   ],
   "source": [
    "g4_top100 = export4.sort_values(['선별포인트'], ascending=False)\n",
    "g4_top100.head()"
   ]
  },
  {
   "cell_type": "code",
   "execution_count": 1988,
   "metadata": {},
   "outputs": [],
   "source": [
    "g4_top100.iloc[:100].to_excel(os.path.join(df_fold, 'BD3-3_4등급경유차_우선차량선별_4가지_top100.xlsx'), index=False)"
   ]
  },
  {
   "cell_type": "code",
   "execution_count": 1991,
   "metadata": {},
   "outputs": [],
   "source": [
    "chc_col = {\n",
    "    '차대번호':'VIN', \n",
    "    '차량번호':'VHRNO', # 자동차등록번호\n",
    "    '법정동코드':'STDG_CD', \n",
    "    '연식':'YRIDNW', \n",
    "    '용도':'PURPS_CD2', \n",
    "    '차종':'VHCTY_CD', # 차종코드\n",
    "    '차종유형':'VHCTY_TY', \n",
    "    '선별포인트':'SELCT_PNT',\n",
    "    '무부하매연측정치1':'NOLOD_SMO_MEVLU1', \n",
    "    '일일평균주행거리':'DY_AVRG_DRVNG_DSTNC',\n",
    "    '최근검사경과일':'RCNT_INSP_ELPSD_WHL', \n",
    "    '운행제한건수':'RUN_LMT_NOCS', \n",
    "    '지원비용_백만원':'SPRT_CST',\n",
    "    '배기량_리터':'DSPLVL',\n",
    "    '총중량_톤':'TOTL_WGHT',\n",
    "}"
   ]
  },
  {
   "cell_type": "code",
   "execution_count": 1992,
   "metadata": {},
   "outputs": [
    {
     "data": {
      "text/plain": [
       "Index(['VIN', 'VHRNO', 'STDG_CD', 'YRIDNW', 'PURPS_CD2', 'VHCTY_CD',\n",
       "       'VHCTY_TY', 'SELCT_PNT', 'NOLOD_SMO_MEVLU1', 'DY_AVRG_DRVNG_DSTNC',\n",
       "       'RCNT_INSP_ELPSD_WHL', 'RUN_LMT_NOCS'],\n",
       "      dtype='object')"
      ]
     },
     "execution_count": 1992,
     "metadata": {},
     "output_type": "execute_result"
    }
   ],
   "source": [
    "export4r = export4.rename(columns=chc_col)\n",
    "export4r.columns"
   ]
  },
  {
   "cell_type": "code",
   "execution_count": 1993,
   "metadata": {},
   "outputs": [],
   "source": [
    "# 7.6s\n",
    "# BD3-3_4등급경유차_우선차량선별\n",
    "export4r.to_csv(os.path.join(df_fold, 'STD_BD_GRD4_LEM_PRIO_ORD_SELCT_CURSTT.csv'), index=False)"
   ]
  },
  {
   "attachments": {},
   "cell_type": "markdown",
   "metadata": {},
   "source": [
    "#### 5등급 경유 N급"
   ]
  },
  {
   "cell_type": "code",
   "execution_count": 1994,
   "metadata": {},
   "outputs": [
    {
     "data": {
      "text/plain": [
       "Index(['차량등록번호', '본거지법정동코드', '차대번호', '제원관리번호', '배출가스인증번호', '배출가스등급', '용도',\n",
       "       '차명', '차종', '차종유형', '연료', '배기량', '총중량', '차량연식', '저감장치', '장치일련번호',\n",
       "       '저감효율', '최초등록일자수정', '최근검사일자수정', '최근주행거리', '등록일기준검사일', '현재일자',\n",
       "       '일일평균주행거리', '최근검사경과일', '시도', '시구군', '주행거리', '검사일자', '검사방법', '검사종류',\n",
       "       '검사판정', '무부하매연판정1', '무부하매연판정2', '무부하매연판정3', '무부하매연측정치1', '무부하매연측정치2',\n",
       "       '무부하매연측정치3', '정기정밀', '운행제한건수', '수검일자구분'],\n",
       "      dtype='object')"
      ]
     },
     "execution_count": 1994,
     "metadata": {},
     "output_type": "execute_result"
    }
   ],
   "source": [
    "gm5di.columns"
   ]
  },
  {
   "cell_type": "code",
   "execution_count": 1995,
   "metadata": {},
   "outputs": [
    {
     "data": {
      "text/plain": [
       "0"
      ]
     },
     "execution_count": 1995,
     "metadata": {},
     "output_type": "execute_result"
    }
   ],
   "source": [
    "gm5di['검사일자'].isnull().sum()"
   ]
  },
  {
   "cell_type": "code",
   "execution_count": 1996,
   "metadata": {},
   "outputs": [
    {
     "data": {
      "text/plain": [
       "0"
      ]
     },
     "execution_count": 1996,
     "metadata": {},
     "output_type": "execute_result"
    }
   ],
   "source": [
    "gm5di['일일평균주행거리'].isnull().sum()"
   ]
  },
  {
   "attachments": {},
   "cell_type": "markdown",
   "metadata": {},
   "source": [
    "###### 조기폐차 선별포인트"
   ]
  },
  {
   "cell_type": "code",
   "execution_count": 1997,
   "metadata": {},
   "outputs": [],
   "source": [
    "# 선별조건선정\n",
    "col = ['무부하매연측정치1', '일일평균주행거리', '최근검사경과일', '운행제한건수']"
   ]
  },
  {
   "cell_type": "code",
   "execution_count": 1998,
   "metadata": {},
   "outputs": [
    {
     "data": {
      "text/plain": [
       "무부하매연측정치1    float64\n",
       "일일평균주행거리     float64\n",
       "최근검사경과일      float64\n",
       "운행제한건수       float64\n",
       "dtype: object"
      ]
     },
     "execution_count": 1998,
     "metadata": {},
     "output_type": "execute_result"
    }
   ],
   "source": [
    "gm5di[col].dtypes"
   ]
  },
  {
   "cell_type": "code",
   "execution_count": 1999,
   "metadata": {},
   "outputs": [
    {
     "data": {
      "text/plain": [
       "무부하매연측정치1    0\n",
       "일일평균주행거리     0\n",
       "최근검사경과일      0\n",
       "운행제한건수       0\n",
       "dtype: int64"
      ]
     },
     "execution_count": 1999,
     "metadata": {},
     "output_type": "execute_result"
    }
   ],
   "source": [
    "gm5di[col].isnull().sum()"
   ]
  },
  {
   "cell_type": "code",
   "execution_count": 2000,
   "metadata": {},
   "outputs": [],
   "source": [
    "# # nan 값 0으로 채우기\n",
    "# gm5di[col] = gm5di[col].fillna(0)\n",
    "# gm5di[col].isnull().sum()"
   ]
  },
  {
   "cell_type": "code",
   "execution_count": 2001,
   "metadata": {},
   "outputs": [
    {
     "data": {
      "text/html": [
       "<div>\n",
       "<style scoped>\n",
       "    .dataframe tbody tr th:only-of-type {\n",
       "        vertical-align: middle;\n",
       "    }\n",
       "\n",
       "    .dataframe tbody tr th {\n",
       "        vertical-align: top;\n",
       "    }\n",
       "\n",
       "    .dataframe thead th {\n",
       "        text-align: right;\n",
       "    }\n",
       "</style>\n",
       "<table border=\"1\" class=\"dataframe\">\n",
       "  <thead>\n",
       "    <tr style=\"text-align: right;\">\n",
       "      <th></th>\n",
       "      <th>무부하매연측정치1</th>\n",
       "      <th>일일평균주행거리</th>\n",
       "      <th>최근검사경과일</th>\n",
       "      <th>운행제한건수</th>\n",
       "    </tr>\n",
       "  </thead>\n",
       "  <tbody>\n",
       "    <tr>\n",
       "      <th>무부하매연측정치1</th>\n",
       "      <td>1.00000</td>\n",
       "      <td>-0.08351</td>\n",
       "      <td>0.00378</td>\n",
       "      <td>-0.03187</td>\n",
       "    </tr>\n",
       "    <tr>\n",
       "      <th>일일평균주행거리</th>\n",
       "      <td>-0.08351</td>\n",
       "      <td>1.00000</td>\n",
       "      <td>-0.01126</td>\n",
       "      <td>0.06251</td>\n",
       "    </tr>\n",
       "    <tr>\n",
       "      <th>최근검사경과일</th>\n",
       "      <td>0.00378</td>\n",
       "      <td>-0.01126</td>\n",
       "      <td>1.00000</td>\n",
       "      <td>0.02925</td>\n",
       "    </tr>\n",
       "    <tr>\n",
       "      <th>운행제한건수</th>\n",
       "      <td>-0.03187</td>\n",
       "      <td>0.06251</td>\n",
       "      <td>0.02925</td>\n",
       "      <td>1.00000</td>\n",
       "    </tr>\n",
       "  </tbody>\n",
       "</table>\n",
       "</div>"
      ],
      "text/plain": [
       "           무부하매연측정치1  일일평균주행거리  최근검사경과일   운행제한건수\n",
       "무부하매연측정치1    1.00000  -0.08351  0.00378 -0.03187\n",
       "일일평균주행거리    -0.08351   1.00000 -0.01126  0.06251\n",
       "최근검사경과일      0.00378  -0.01126  1.00000  0.02925\n",
       "운행제한건수      -0.03187   0.06251  0.02925  1.00000"
      ]
     },
     "execution_count": 2001,
     "metadata": {},
     "output_type": "execute_result"
    }
   ],
   "source": [
    "gm5di_corr = gm5di[col].corr()\n",
    "gm5di_corr"
   ]
  },
  {
   "attachments": {},
   "cell_type": "markdown",
   "metadata": {},
   "source": [
    "###### [출력] 5등급 경유차 선별조건 상관계수"
   ]
  },
  {
   "cell_type": "code",
   "execution_count": 2002,
   "metadata": {},
   "outputs": [
    {
     "data": {
      "text/html": [
       "<div>\n",
       "<style scoped>\n",
       "    .dataframe tbody tr th:only-of-type {\n",
       "        vertical-align: middle;\n",
       "    }\n",
       "\n",
       "    .dataframe tbody tr th {\n",
       "        vertical-align: top;\n",
       "    }\n",
       "\n",
       "    .dataframe thead th {\n",
       "        text-align: right;\n",
       "    }\n",
       "</style>\n",
       "<table border=\"1\" class=\"dataframe\">\n",
       "  <thead>\n",
       "    <tr style=\"text-align: right;\">\n",
       "      <th></th>\n",
       "      <th>index</th>\n",
       "      <th>무부하매연측정치1</th>\n",
       "      <th>일일평균주행거리</th>\n",
       "      <th>최근검사경과일</th>\n",
       "      <th>운행제한건수</th>\n",
       "      <th>합계</th>\n",
       "    </tr>\n",
       "  </thead>\n",
       "  <tbody>\n",
       "    <tr>\n",
       "      <th>0</th>\n",
       "      <td>무부하매연측정치1</td>\n",
       "      <td>1.00000</td>\n",
       "      <td>-0.08351</td>\n",
       "      <td>0.00378</td>\n",
       "      <td>-0.03187</td>\n",
       "      <td>0.88840</td>\n",
       "    </tr>\n",
       "    <tr>\n",
       "      <th>1</th>\n",
       "      <td>일일평균주행거리</td>\n",
       "      <td>-0.08351</td>\n",
       "      <td>1.00000</td>\n",
       "      <td>-0.01126</td>\n",
       "      <td>0.06251</td>\n",
       "      <td>0.96774</td>\n",
       "    </tr>\n",
       "    <tr>\n",
       "      <th>2</th>\n",
       "      <td>최근검사경과일</td>\n",
       "      <td>0.00378</td>\n",
       "      <td>-0.01126</td>\n",
       "      <td>1.00000</td>\n",
       "      <td>0.02925</td>\n",
       "      <td>1.02177</td>\n",
       "    </tr>\n",
       "    <tr>\n",
       "      <th>3</th>\n",
       "      <td>운행제한건수</td>\n",
       "      <td>-0.03187</td>\n",
       "      <td>0.06251</td>\n",
       "      <td>0.02925</td>\n",
       "      <td>1.00000</td>\n",
       "      <td>1.05989</td>\n",
       "    </tr>\n",
       "  </tbody>\n",
       "</table>\n",
       "</div>"
      ],
      "text/plain": [
       "       index  무부하매연측정치1  일일평균주행거리  최근검사경과일   운행제한건수      합계\n",
       "0  무부하매연측정치1    1.00000  -0.08351  0.00378 -0.03187 0.88840\n",
       "1   일일평균주행거리   -0.08351   1.00000 -0.01126  0.06251 0.96774\n",
       "2    최근검사경과일    0.00378  -0.01126  1.00000  0.02925 1.02177\n",
       "3     운행제한건수   -0.03187   0.06251  0.02925  1.00000 1.05989"
      ]
     },
     "execution_count": 2002,
     "metadata": {},
     "output_type": "execute_result"
    }
   ],
   "source": [
    "t5 = pd.concat([gm5di_corr, gm5di_corr.sum()], axis=1)\n",
    "t5 = t5.rename(columns={0:'합계'})\n",
    "t5 = t5.reset_index()\n",
    "t5"
   ]
  },
  {
   "cell_type": "code",
   "execution_count": 2003,
   "metadata": {},
   "outputs": [
    {
     "data": {
      "text/plain": [
       "Index(['index', '무부하매연측정치1', '일일평균주행거리', '최근검사경과일', '운행제한건수', '합계'], dtype='object')"
      ]
     },
     "execution_count": 2003,
     "metadata": {},
     "output_type": "execute_result"
    }
   ],
   "source": [
    "t5.columns"
   ]
  },
  {
   "cell_type": "code",
   "execution_count": 2004,
   "metadata": {},
   "outputs": [],
   "source": [
    "chc_col = {\n",
    "    'index':'LIST', \n",
    "    '무부하매연측정치1':'NOLOD_SMO_MEVLU1', \n",
    "    '일일평균주행거리':'DY_AVRG_DRVNG_DSTNC', \n",
    "    '최근검사경과일':'RCNT_INSP_ELPSD_WHL', \n",
    "    '운행제한건수':'RUN_LMT_NOCS', \n",
    "    '합계':'TOT_CRRLTN_CFFCNT',\n",
    "}"
   ]
  },
  {
   "cell_type": "code",
   "execution_count": 2005,
   "metadata": {},
   "outputs": [
    {
     "data": {
      "text/html": [
       "<div>\n",
       "<style scoped>\n",
       "    .dataframe tbody tr th:only-of-type {\n",
       "        vertical-align: middle;\n",
       "    }\n",
       "\n",
       "    .dataframe tbody tr th {\n",
       "        vertical-align: top;\n",
       "    }\n",
       "\n",
       "    .dataframe thead th {\n",
       "        text-align: right;\n",
       "    }\n",
       "</style>\n",
       "<table border=\"1\" class=\"dataframe\">\n",
       "  <thead>\n",
       "    <tr style=\"text-align: right;\">\n",
       "      <th></th>\n",
       "      <th>LIST</th>\n",
       "      <th>NOLOD_SMO_MEVLU1</th>\n",
       "      <th>DY_AVRG_DRVNG_DSTNC</th>\n",
       "      <th>RCNT_INSP_ELPSD_WHL</th>\n",
       "      <th>RUN_LMT_NOCS</th>\n",
       "      <th>TOT_CRRLTN_CFFCNT</th>\n",
       "    </tr>\n",
       "  </thead>\n",
       "  <tbody>\n",
       "    <tr>\n",
       "      <th>0</th>\n",
       "      <td>무부하매연측정치1</td>\n",
       "      <td>1.00000</td>\n",
       "      <td>-0.08351</td>\n",
       "      <td>0.00378</td>\n",
       "      <td>-0.03187</td>\n",
       "      <td>0.88840</td>\n",
       "    </tr>\n",
       "    <tr>\n",
       "      <th>1</th>\n",
       "      <td>일일평균주행거리</td>\n",
       "      <td>-0.08351</td>\n",
       "      <td>1.00000</td>\n",
       "      <td>-0.01126</td>\n",
       "      <td>0.06251</td>\n",
       "      <td>0.96774</td>\n",
       "    </tr>\n",
       "    <tr>\n",
       "      <th>2</th>\n",
       "      <td>최근검사경과일</td>\n",
       "      <td>0.00378</td>\n",
       "      <td>-0.01126</td>\n",
       "      <td>1.00000</td>\n",
       "      <td>0.02925</td>\n",
       "      <td>1.02177</td>\n",
       "    </tr>\n",
       "    <tr>\n",
       "      <th>3</th>\n",
       "      <td>운행제한건수</td>\n",
       "      <td>-0.03187</td>\n",
       "      <td>0.06251</td>\n",
       "      <td>0.02925</td>\n",
       "      <td>1.00000</td>\n",
       "      <td>1.05989</td>\n",
       "    </tr>\n",
       "  </tbody>\n",
       "</table>\n",
       "</div>"
      ],
      "text/plain": [
       "        LIST  NOLOD_SMO_MEVLU1  DY_AVRG_DRVNG_DSTNC  RCNT_INSP_ELPSD_WHL   \n",
       "0  무부하매연측정치1           1.00000             -0.08351              0.00378  \\\n",
       "1   일일평균주행거리          -0.08351              1.00000             -0.01126   \n",
       "2    최근검사경과일           0.00378             -0.01126              1.00000   \n",
       "3     운행제한건수          -0.03187              0.06251              0.02925   \n",
       "\n",
       "   RUN_LMT_NOCS  TOT_CRRLTN_CFFCNT  \n",
       "0      -0.03187            0.88840  \n",
       "1       0.06251            0.96774  \n",
       "2       0.02925            1.02177  \n",
       "3       1.00000            1.05989  "
      ]
     },
     "execution_count": 2005,
     "metadata": {},
     "output_type": "execute_result"
    }
   ],
   "source": [
    "t5r = t5.rename(columns=chc_col)\n",
    "t5r"
   ]
  },
  {
   "attachments": {},
   "cell_type": "markdown",
   "metadata": {},
   "source": [
    "###### [출력] 5등급경유차 상관계수"
   ]
  },
  {
   "cell_type": "code",
   "execution_count": 2006,
   "metadata": {},
   "outputs": [],
   "source": [
    "# BD3-3_5등급경유차_상관계수\n",
    "t5r.to_csv(os.path.join(df_fold, 'STD_BD_GRD5_DS_CRRLTN_CFFCNT.csv'), index=False)"
   ]
  },
  {
   "cell_type": "code",
   "execution_count": 2007,
   "metadata": {},
   "outputs": [
    {
     "data": {
      "text/plain": [
       "무부하매연측정치1   0.88840\n",
       "일일평균주행거리    0.96774\n",
       "최근검사경과일     1.02177\n",
       "운행제한건수      1.05989\n",
       "dtype: float64"
      ]
     },
     "execution_count": 2007,
     "metadata": {},
     "output_type": "execute_result"
    }
   ],
   "source": [
    "gm5di_corr.sum()[col]"
   ]
  },
  {
   "cell_type": "code",
   "execution_count": 2008,
   "metadata": {},
   "outputs": [
    {
     "data": {
      "text/plain": [
       "(0.22560712075865694,\n",
       " 0.24575673425823677,\n",
       " 0.25947773952496284,\n",
       " 0.2691584054581434)"
      ]
     },
     "execution_count": 2008,
     "metadata": {},
     "output_type": "execute_result"
    }
   ],
   "source": [
    "c1, c2, c3, c4 = gm5di_corr.sum()[col]\n",
    "sc1 = c1 + c2 + c3 + c4\n",
    "w1, w2, w3, w4 = c1/sc1, c2/sc1, c3/sc1, c4/sc1\n",
    "w1, w2, w3, w4"
   ]
  },
  {
   "cell_type": "code",
   "execution_count": 2009,
   "metadata": {},
   "outputs": [
    {
     "data": {
      "text/plain": [
       "0"
      ]
     },
     "execution_count": 2009,
     "metadata": {},
     "output_type": "execute_result"
    }
   ],
   "source": [
    "gm5di['선별포인트'] = np.round(w1 * gm5di['무부하매연측정치1'] + w2 * gm5di['일일평균주행거리'] + w3 * gm5di['최근검사경과일'] + w4 * gm5di['운행제한건수'], 0)\n",
    "gm5di['선별포인트'].isnull().sum()"
   ]
  },
  {
   "cell_type": "code",
   "execution_count": 2011,
   "metadata": {},
   "outputs": [
    {
     "data": {
      "text/plain": [
       "count   565609.00000\n",
       "mean       120.53884\n",
       "std         39.60455\n",
       "min         43.00000\n",
       "25%         90.00000\n",
       "50%        118.00000\n",
       "75%        150.00000\n",
       "max        499.00000\n",
       "Name: 선별포인트, dtype: float64"
      ]
     },
     "execution_count": 2011,
     "metadata": {},
     "output_type": "execute_result"
    }
   ],
   "source": [
    "gm5di['선별포인트'].describe()"
   ]
  },
  {
   "cell_type": "code",
   "execution_count": 2010,
   "metadata": {},
   "outputs": [
    {
     "data": {
      "image/png": "[encoded data removed]",
      "text/plain": [
       "<Figure size 640x480 with 1 Axes>"
      ]
     },
     "metadata": {},
     "output_type": "display_data"
    }
   ],
   "source": [
    "gm5di['선별포인트'].hist();"
   ]
  },
  {
   "attachments": {},
   "cell_type": "markdown",
   "metadata": {},
   "source": [
    "##### [출력]"
   ]
  },
  {
   "cell_type": "code",
   "execution_count": 2012,
   "metadata": {},
   "outputs": [
    {
     "data": {
      "text/plain": [
       "Index(['차량등록번호', '본거지법정동코드', '차대번호', '제원관리번호', '배출가스인증번호', '배출가스등급', '용도',\n",
       "       '차명', '차종', '차종유형', '연료', '배기량', '총중량', '차량연식', '저감장치', '장치일련번호',\n",
       "       '저감효율', '최초등록일자수정', '최근검사일자수정', '최근주행거리', '등록일기준검사일', '현재일자',\n",
       "       '일일평균주행거리', '최근검사경과일', '시도', '시구군', '주행거리', '검사일자', '검사방법', '검사종류',\n",
       "       '검사판정', '무부하매연판정1', '무부하매연판정2', '무부하매연판정3', '무부하매연측정치1', '무부하매연측정치2',\n",
       "       '무부하매연측정치3', '정기정밀', '운행제한건수', '수검일자구분', '선별포인트'],\n",
       "      dtype='object')"
      ]
     },
     "execution_count": 2012,
     "metadata": {},
     "output_type": "execute_result"
    }
   ],
   "source": [
    "gm5di.columns"
   ]
  },
  {
   "cell_type": "code",
   "execution_count": 2013,
   "metadata": {},
   "outputs": [
    {
     "data": {
      "text/plain": [
       "저감장치\n",
       "DPF           83285\n",
       "PM-NOx저감장치     1299\n",
       "Name: count, dtype: int64"
      ]
     },
     "execution_count": 2013,
     "metadata": {},
     "output_type": "execute_result"
    }
   ],
   "source": [
    "gm5di['저감장치'].value_counts()"
   ]
  },
  {
   "cell_type": "code",
   "execution_count": 2014,
   "metadata": {},
   "outputs": [
    {
     "data": {
      "text/plain": [
       "array(['5', 'T5'], dtype=object)"
      ]
     },
     "execution_count": 2014,
     "metadata": {},
     "output_type": "execute_result"
    }
   ],
   "source": [
    "gm5di['배출가스등급'].unique()"
   ]
  },
  {
   "cell_type": "code",
   "execution_count": 2015,
   "metadata": {},
   "outputs": [
    {
     "data": {
      "text/plain": [
       "(565609, 13)"
      ]
     },
     "execution_count": 2015,
     "metadata": {},
     "output_type": "execute_result"
    }
   ],
   "source": [
    "export5 = gm5di[[\n",
    "    '차대번호', \n",
    "    '차량등록번호', \n",
    "    '본거지법정동코드', \n",
    "    '차량연식', \n",
    "    '용도', \n",
    "    '차종', \n",
    "    '차종유형', \n",
    "    '저감장치',\n",
    "    '선별포인트',\n",
    "    '무부하매연측정치1', \n",
    "    '일일평균주행거리',\n",
    "    '최근검사경과일', \n",
    "    '운행제한건수', \n",
    "    ]]\n",
    "export5.shape"
   ]
  },
  {
   "attachments": {},
   "cell_type": "markdown",
   "metadata": {},
   "source": [
    "###### [출력] 5등급 경유차 선별포인트 상위 100위 샘플"
   ]
  },
  {
   "cell_type": "code",
   "execution_count": 2016,
   "metadata": {},
   "outputs": [
    {
     "data": {
      "text/html": [
       "<div>\n",
       "<style scoped>\n",
       "    .dataframe tbody tr th:only-of-type {\n",
       "        vertical-align: middle;\n",
       "    }\n",
       "\n",
       "    .dataframe tbody tr th {\n",
       "        vertical-align: top;\n",
       "    }\n",
       "\n",
       "    .dataframe thead th {\n",
       "        text-align: right;\n",
       "    }\n",
       "</style>\n",
       "<table border=\"1\" class=\"dataframe\">\n",
       "  <thead>\n",
       "    <tr style=\"text-align: right;\">\n",
       "      <th></th>\n",
       "      <th>차대번호</th>\n",
       "      <th>차량등록번호</th>\n",
       "      <th>본거지법정동코드</th>\n",
       "      <th>차량연식</th>\n",
       "      <th>용도</th>\n",
       "      <th>차종</th>\n",
       "      <th>차종유형</th>\n",
       "      <th>저감장치</th>\n",
       "      <th>선별포인트</th>\n",
       "      <th>무부하매연측정치1</th>\n",
       "      <th>일일평균주행거리</th>\n",
       "      <th>최근검사경과일</th>\n",
       "      <th>운행제한건수</th>\n",
       "    </tr>\n",
       "  </thead>\n",
       "  <tbody>\n",
       "    <tr>\n",
       "      <th>1062591</th>\n",
       "      <td>KMFGA17PP7C067736</td>\n",
       "      <td>서울85바5177</td>\n",
       "      <td>1150010500</td>\n",
       "      <td>2007</td>\n",
       "      <td>영업용</td>\n",
       "      <td>화물</td>\n",
       "      <td>중형</td>\n",
       "      <td>NaN</td>\n",
       "      <td>499.00000</td>\n",
       "      <td>12.00000</td>\n",
       "      <td>1629.00421</td>\n",
       "      <td>368.00000</td>\n",
       "      <td>0.00000</td>\n",
       "    </tr>\n",
       "    <tr>\n",
       "      <th>1028096</th>\n",
       "      <td>KMFLA18EP7C020816</td>\n",
       "      <td>경기89아3220</td>\n",
       "      <td>4141010400</td>\n",
       "      <td>2007</td>\n",
       "      <td>영업용</td>\n",
       "      <td>화물</td>\n",
       "      <td>대형</td>\n",
       "      <td>DPF</td>\n",
       "      <td>487.00000</td>\n",
       "      <td>1.00000</td>\n",
       "      <td>1498.62952</td>\n",
       "      <td>457.00000</td>\n",
       "      <td>0.00000</td>\n",
       "    </tr>\n",
       "    <tr>\n",
       "      <th>1032767</th>\n",
       "      <td>KL3C5CHF17K001032</td>\n",
       "      <td>전북86사9320</td>\n",
       "      <td>4571025326</td>\n",
       "      <td>2007</td>\n",
       "      <td>영업용</td>\n",
       "      <td>화물</td>\n",
       "      <td>대형</td>\n",
       "      <td>NaN</td>\n",
       "      <td>422.00000</td>\n",
       "      <td>8.00000</td>\n",
       "      <td>1416.96885</td>\n",
       "      <td>273.00000</td>\n",
       "      <td>6.00000</td>\n",
       "    </tr>\n",
       "    <tr>\n",
       "      <th>417903</th>\n",
       "      <td>KMFLA19AP2C029792</td>\n",
       "      <td>경기90아2687</td>\n",
       "      <td>4163011600</td>\n",
       "      <td>2002</td>\n",
       "      <td>영업용</td>\n",
       "      <td>화물</td>\n",
       "      <td>중형</td>\n",
       "      <td>DPF</td>\n",
       "      <td>415.00000</td>\n",
       "      <td>26.00000</td>\n",
       "      <td>996.54256</td>\n",
       "      <td>631.00000</td>\n",
       "      <td>0.00000</td>\n",
       "    </tr>\n",
       "    <tr>\n",
       "      <th>317012</th>\n",
       "      <td>KMEFE18CPYC007830</td>\n",
       "      <td>경북98사2198</td>\n",
       "      <td>4711125626</td>\n",
       "      <td>2000</td>\n",
       "      <td>영업용</td>\n",
       "      <td>특수</td>\n",
       "      <td>대형</td>\n",
       "      <td>NaN</td>\n",
       "      <td>390.00000</td>\n",
       "      <td>23.00000</td>\n",
       "      <td>1164.38849</td>\n",
       "      <td>379.00000</td>\n",
       "      <td>0.00000</td>\n",
       "    </tr>\n",
       "  </tbody>\n",
       "</table>\n",
       "</div>"
      ],
      "text/plain": [
       "                      차대번호     차량등록번호    본거지법정동코드  차량연식   용도  차종 차종유형 저감장치   \n",
       "1062591  KMFGA17PP7C067736  서울85바5177  1150010500  2007  영업용  화물   중형  NaN  \\\n",
       "1028096  KMFLA18EP7C020816  경기89아3220  4141010400  2007  영업용  화물   대형  DPF   \n",
       "1032767  KL3C5CHF17K001032  전북86사9320  4571025326  2007  영업용  화물   대형  NaN   \n",
       "417903   KMFLA19AP2C029792  경기90아2687  4163011600  2002  영업용  화물   중형  DPF   \n",
       "317012   KMEFE18CPYC007830  경북98사2198  4711125626  2000  영업용  특수   대형  NaN   \n",
       "\n",
       "            선별포인트  무부하매연측정치1   일일평균주행거리   최근검사경과일  운행제한건수  \n",
       "1062591 499.00000   12.00000 1629.00421 368.00000 0.00000  \n",
       "1028096 487.00000    1.00000 1498.62952 457.00000 0.00000  \n",
       "1032767 422.00000    8.00000 1416.96885 273.00000 6.00000  \n",
       "417903  415.00000   26.00000  996.54256 631.00000 0.00000  \n",
       "317012  390.00000   23.00000 1164.38849 379.00000 0.00000  "
      ]
     },
     "execution_count": 2016,
     "metadata": {},
     "output_type": "execute_result"
    }
   ],
   "source": [
    "g5_top100 = export5.sort_values('선별포인트', ascending=False)\n",
    "g5_top100.head()"
   ]
  },
  {
   "cell_type": "code",
   "execution_count": 2017,
   "metadata": {},
   "outputs": [],
   "source": [
    "g5_top100.iloc[:100].to_excel(os.path.join(df_fold, 'BD3-3_5등급경유차_우선차량선별_4가지_top100.xlsx'), index=False)"
   ]
  },
  {
   "cell_type": "code",
   "execution_count": 2018,
   "metadata": {},
   "outputs": [],
   "source": [
    "chc_col = {\n",
    "    '차대번호':'VIN', \n",
    "    '차량등록번호':'VHRNO', # 자동차등록번호\n",
    "    '본거지법정동코드':'STDG_CD', \n",
    "    '차량연식':'YRIDNW', # 연식\n",
    "    '용도':'PURPS_CD2', \n",
    "    '차종':'VHCTY_CD', # 차종코드\n",
    "    '차종유형':'VHCTY_TY', \n",
    "    '저감장치':'RDCDVC',\n",
    "    '선별포인트':'SELCT_PNT',\n",
    "    '무부하매연측정치1':'NOLOD_SMO_MEVLU1', \n",
    "    '일일평균주행거리':'DY_AVRG_DRVNG_DSTNC',\n",
    "    '최근검사경과일':'RCNT_INSP_ELPSD_WHL', \n",
    "    '운행제한건수':'RUN_LMT_NOCS', \n",
    "    '지원비용_조기폐차_백만원':'SPRT_CST_ELPDSRC',\n",
    "    '지원비용_DPF_백만원':'SPRT_CST_DPF', \n",
    "    '배기량_리터':'DSPLVL',\n",
    "    '총중량_톤':'TOTL_WGHT',\n",
    "}"
   ]
  },
  {
   "cell_type": "code",
   "execution_count": 2019,
   "metadata": {},
   "outputs": [
    {
     "data": {
      "text/plain": [
       "Index(['VIN', 'VHRNO', 'STDG_CD', 'YRIDNW', 'PURPS_CD2', 'VHCTY_CD',\n",
       "       'VHCTY_TY', 'RDCDVC', 'SELCT_PNT', 'NOLOD_SMO_MEVLU1',\n",
       "       'DY_AVRG_DRVNG_DSTNC', 'RCNT_INSP_ELPSD_WHL', 'RUN_LMT_NOCS'],\n",
       "      dtype='object')"
      ]
     },
     "execution_count": 2019,
     "metadata": {},
     "output_type": "execute_result"
    }
   ],
   "source": [
    "export5r = export5.rename(columns=chc_col)\n",
    "export5r.columns"
   ]
  },
  {
   "cell_type": "code",
   "execution_count": 2020,
   "metadata": {},
   "outputs": [],
   "source": [
    "# 5.5s\n",
    "# BD3-3_5등급경유차_우선차량선별\n",
    "export5r.to_csv(os.path.join(df_fold, 'STD_BD_GRD5_LEM_PRIO_ORD_SELCT_CURSTT.csv'), index=False)"
   ]
  },
  {
   "attachments": {},
   "cell_type": "markdown",
   "metadata": {},
   "source": [
    "# code end"
   ]
  }
 ],
 "metadata": {
  "kernelspec": {
   "display_name": "base",
   "language": "python",
   "name": "python3"
  },
  "language_info": {
   "codemirror_mode": {
    "name": "ipython",
    "version": 3
   },
   "file_extension": ".py",
   "mimetype": "text/x-python",
   "name": "python",
   "nbconvert_exporter": "python",
   "pygments_lexer": "ipython3",
   "version": "3.9.13"
  },
  "orig_nbformat": 4,
  "vscode": {
   "interpreter": {
    "hash": "ad2bdc8ecc057115af97d19610ffacc2b4e99fae6737bb82f5d7fb13d2f2c186"
   }
  }
 },
 "nbformat": 4,
 "nbformat_minor": 2
}
