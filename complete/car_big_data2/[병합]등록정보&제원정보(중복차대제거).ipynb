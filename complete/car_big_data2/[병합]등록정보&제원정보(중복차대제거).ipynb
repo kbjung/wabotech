{
 "cells": [
  {
   "attachments": {},
   "cell_type": "markdown",
   "metadata": {},
   "source": [
    "# Library"
   ]
  },
  {
   "cell_type": "code",
   "execution_count": 1,
   "metadata": {},
   "outputs": [],
   "source": [
    "import pandas as pd\n",
    "import numpy as np\n",
    "import os"
   ]
  },
  {
   "cell_type": "code",
   "execution_count": 2,
   "metadata": {},
   "outputs": [],
   "source": [
    "ods_fold = 'D:/data/big2/ODS'"
   ]
  },
  {
   "attachments": {},
   "cell_type": "markdown",
   "metadata": {},
   "source": [
    "# [ODS] 자동차 등록정보(중복차대제거)"
   ]
  },
  {
   "cell_type": "code",
   "execution_count": 6,
   "metadata": {},
   "outputs": [
    {
     "name": "stdout",
     "output_type": "stream",
     "text": [
      "<class 'pandas.core.frame.DataFrame'>\n",
      "RangeIndex: 29521505 entries, 0 to 29521504\n",
      "Data columns (total 32 columns):\n",
      " #   Column         Dtype  \n",
      "---  ------         -----  \n",
      " 0   차량관리번호         object \n",
      " 1   차량등록번호         object \n",
      " 2   본거지 법정동 코드     int64  \n",
      " 3   소유자 구분         object \n",
      " 4   차종             object \n",
      " 5   용도             object \n",
      " 6   미정             object \n",
      " 7   현재 회원번호        object \n",
      " 8   미정.1           object \n",
      " 9   미정.2           object \n",
      " 10  차대번호           object \n",
      " 11  최초 등록 일자       int64  \n",
      " 12  차량 연식          int64  \n",
      " 13  차량 제작 일자       float64\n",
      " 14  배출가스검사유효일자     float64\n",
      " 15  제원관리번호         object \n",
      " 16  배출가스 인증번호      object \n",
      " 17  배출가스 등급        object \n",
      " 18  저공해조치 YN(미사용)  object \n",
      " 19  저공해조치 종류       float64\n",
      " 20  저공해조치 구조변경 YN  object \n",
      " 21  미정.3           float64\n",
      " 22  차량등록번호 숫자 정보   int64  \n",
      " 23  차량 말소 YN       object \n",
      " 24  미정.4           object \n",
      " 25  최초 회원번호        object \n",
      " 26  취득 일자          object \n",
      " 27  취득 금액          float64\n",
      " 28  미정.5           object \n",
      " 29  생성 일시          object \n",
      " 30  수정 일시          object \n",
      " 31  미정.6           object \n",
      "dtypes: float64(5), int64(4), object(23)\n",
      "memory usage: 7.0+ GB\n"
     ]
    }
   ],
   "source": [
    "# about 9m 30s\n",
    "file_name = '[ODS]자동차_등록정보(중복차대제거)(2022.12.29).csv'\n",
    "ods_path = os.path.join(ods_fold, file_name)\n",
    "df1 = pd.read_csv(ods_path, low_memory=False)\n",
    "df1.info()"
   ]
  },
  {
   "cell_type": "code",
   "execution_count": 7,
   "metadata": {},
   "outputs": [
    {
     "data": {
      "text/plain": [
       "Index(['차량관리번호', '차량등록번호', '본거지 법정동 코드', '소유자 구분', '차종', '용도', '미정', '현재 회원번호',\n",
       "       '미정.1', '미정.2', '차대번호', '최초 등록 일자', '차량 연식', '차량 제작 일자', '배출가스검사유효일자',\n",
       "       '제원관리번호', '배출가스 인증번호', '배출가스 등급', '저공해조치 YN(미사용)', '저공해조치 종류',\n",
       "       '저공해조치 구조변경 YN', '미정.3', '차량등록번호 숫자 정보', '차량 말소 YN', '미정.4', '최초 회원번호',\n",
       "       '취득 일자', '취득 금액', '미정.5', '생성 일시', '수정 일시', '미정.6'],\n",
       "      dtype='object')"
      ]
     },
     "execution_count": 7,
     "metadata": {},
     "output_type": "execute_result"
    }
   ],
   "source": [
    "df1.columns"
   ]
  },
  {
   "cell_type": "code",
   "execution_count": 8,
   "metadata": {},
   "outputs": [],
   "source": [
    "df1.columns = ['차량관리번호', '차량등록번호', '본거지법정동코드', '소유자구분', '차종_등록정보', '용도', '미정1', '현재회원번호', '미정2', '미정3', '차대번호', '최초등록일자', '차량연식', '차량제작일자', \n",
    "               '배출가스검사유효일자', '제원관리번호', '배출가스인증번호', '배출가스등급', '저공해조치YN(미사용)', '저공해조치종류', '저공해조치구조변경YN', '미정4', '차량등록번호숫자정보', '차량말소YN', \n",
    "               '미정5', '최초회원번호', '취득일자', '취득금액', '미정6', '생성일시_등록정보', '수정일시_등록정보', '미정7']"
   ]
  },
  {
   "attachments": {},
   "cell_type": "markdown",
   "metadata": {},
   "source": [
    "# [ODS] 자동차 제원정보"
   ]
  },
  {
   "cell_type": "code",
   "execution_count": 9,
   "metadata": {},
   "outputs": [
    {
     "name": "stdout",
     "output_type": "stream",
     "text": [
      "<class 'pandas.core.frame.DataFrame'>\n",
      "RangeIndex: 545374 entries, 0 to 545373\n",
      "Data columns (total 28 columns):\n",
      " #   Column       Non-Null Count   Dtype  \n",
      "---  ------       --------------   -----  \n",
      " 0   제원관리번호       545374 non-null  object \n",
      " 1   차명           545272 non-null  object \n",
      " 2   차종           545370 non-null  object \n",
      " 3   차종 분류        531367 non-null  object \n",
      " 4   차종 유형 (소분류)  531332 non-null  object \n",
      " 5   자동차 형식       516295 non-null  object \n",
      " 6   제작사 명        529017 non-null  object \n",
      " 7   연료           503254 non-null  object \n",
      " 8   엔진형식         494157 non-null  object \n",
      " 9   공차중량         0 non-null       float64\n",
      " 10  총 중량         541702 non-null  float64\n",
      " 11  적재 중량        446181 non-null  float64\n",
      " 12  엔진출력         471948 non-null  float64\n",
      " 13  배기량          510521 non-null  float64\n",
      " 14  승차 인원        545313 non-null  float64\n",
      " 15  차량 길이        514786 non-null  float64\n",
      " 16  차량 너비        514799 non-null  float64\n",
      " 17  차량 높이        514732 non-null  float64\n",
      " 18  원산지 명        540392 non-null  object \n",
      " 19  미정           0 non-null       float64\n",
      " 20  삭제 YN        545374 non-null  object \n",
      " 21  승인 일자        532881 non-null  object \n",
      " 22  구동 형식        114619 non-null  object \n",
      " 23  변속기 종류       540165 non-null  object \n",
      " 24  미정.1         1 non-null       object \n",
      " 25  생성 일시        545374 non-null  object \n",
      " 26  수정 일시        14578 non-null   object \n",
      " 27  미정.2         545374 non-null  object \n",
      "dtypes: float64(10), object(18)\n",
      "memory usage: 116.5+ MB\n"
     ]
    }
   ],
   "source": [
    "# about 4s\n",
    "file_name = '[ODS]자동차_제원정보(2022.12.29).csv'\n",
    "ods_path = os.path.join(ods_fold, file_name)\n",
    "df2 = pd.read_csv(ods_path, low_memory=False, encoding='cp949')\n",
    "df2.info()"
   ]
  },
  {
   "cell_type": "code",
   "execution_count": 10,
   "metadata": {},
   "outputs": [
    {
     "data": {
      "text/plain": [
       "Index(['제원관리번호', '차명', '차종', '차종 분류', '차종 유형 (소분류)', '자동차 형식', '제작사 명', '연료',\n",
       "       '엔진형식', '공차중량', '총 중량', '적재 중량', '엔진출력', '배기량', '승차 인원', '차량 길이',\n",
       "       '차량 너비', '차량 높이', '원산지 명', '미정', '삭제 YN', '승인 일자', '구동 형식', '변속기 종류',\n",
       "       '미정.1', '생성 일시', '수정 일시', '미정.2'],\n",
       "      dtype='object')"
      ]
     },
     "execution_count": 10,
     "metadata": {},
     "output_type": "execute_result"
    }
   ],
   "source": [
    "df2.columns"
   ]
  },
  {
   "cell_type": "code",
   "execution_count": 11,
   "metadata": {},
   "outputs": [],
   "source": [
    "df2.columns = ['제원관리번호', '차명', '차종_제원정보', '차종분류', '차종유형(소분류)', '자동차형식', '제작사명', '연료', '엔진형식', '공차중량', '총중량', '적재중량', '엔진출력', '배기량', '승차인원', \n",
    "               '차량길이', '차량너비', '차량높이', '원산지명', '미정1', '삭제YN', '승인일자', '구동형식', '변속기종류', '미정2', '생성일시_제원정보', '수정일시_제원정보', '미정3']"
   ]
  },
  {
   "attachments": {},
   "cell_type": "markdown",
   "metadata": {},
   "source": [
    "## [병합] 등록정보와 제원정보"
   ]
  },
  {
   "cell_type": "code",
   "execution_count": 12,
   "metadata": {},
   "outputs": [
    {
     "name": "stdout",
     "output_type": "stream",
     "text": [
      "<class 'pandas.core.frame.DataFrame'>\n",
      "Int64Index: 29521505 entries, 0 to 29521504\n",
      "Data columns (total 59 columns):\n",
      " #   Column        Dtype  \n",
      "---  ------        -----  \n",
      " 0   차량관리번호        object \n",
      " 1   차량등록번호        object \n",
      " 2   본거지법정동코드      int64  \n",
      " 3   소유자구분         object \n",
      " 4   차종_등록정보       object \n",
      " 5   용도            object \n",
      " 6   미정1_x         object \n",
      " 7   현재회원번호        object \n",
      " 8   미정2_x         object \n",
      " 9   미정3_x         object \n",
      " 10  차대번호          object \n",
      " 11  최초등록일자        int64  \n",
      " 12  차량연식          int64  \n",
      " 13  차량제작일자        float64\n",
      " 14  배출가스검사유효일자    float64\n",
      " 15  제원관리번호        object \n",
      " 16  배출가스인증번호      object \n",
      " 17  배출가스등급        object \n",
      " 18  저공해조치YN(미사용)  object \n",
      " 19  저공해조치종류       float64\n",
      " 20  저공해조치구조변경YN   object \n",
      " 21  미정4           float64\n",
      " 22  차량등록번호숫자정보    int64  \n",
      " 23  차량말소YN        object \n",
      " 24  미정5           object \n",
      " 25  최초회원번호        object \n",
      " 26  취득일자          object \n",
      " 27  취득금액          float64\n",
      " 28  미정6           object \n",
      " 29  생성일시_등록정보     object \n",
      " 30  수정일시_등록정보     object \n",
      " 31  미정7           object \n",
      " 32  차명            object \n",
      " 33  차종_제원정보       object \n",
      " 34  차종분류          object \n",
      " 35  차종유형(소분류)     object \n",
      " 36  자동차형식         object \n",
      " 37  제작사명          object \n",
      " 38  연료            object \n",
      " 39  엔진형식          object \n",
      " 40  공차중량          float64\n",
      " 41  총중량           float64\n",
      " 42  적재중량          float64\n",
      " 43  엔진출력          float64\n",
      " 44  배기량           float64\n",
      " 45  승차인원          float64\n",
      " 46  차량길이          float64\n",
      " 47  차량너비          float64\n",
      " 48  차량높이          float64\n",
      " 49  원산지명          object \n",
      " 50  미정1_y         float64\n",
      " 51  삭제YN          object \n",
      " 52  승인일자          object \n",
      " 53  구동형식          object \n",
      " 54  변속기종류         object \n",
      " 55  미정2_y         object \n",
      " 56  생성일시_제원정보     object \n",
      " 57  수정일시_제원정보     object \n",
      " 58  미정3_y         object \n",
      "dtypes: float64(15), int64(4), object(40)\n",
      "memory usage: 13.2+ GB\n"
     ]
    }
   ],
   "source": [
    "# about 45s\n",
    "total = df1.merge(df2, on='제원관리번호', how='left')\n",
    "total.info()"
   ]
  },
  {
   "cell_type": "code",
   "execution_count": 13,
   "metadata": {},
   "outputs": [
    {
     "data": {
      "text/plain": [
       "N    25692466\n",
       "Y     3829039\n",
       "Name: 차량말소YN, dtype: int64"
      ]
     },
     "execution_count": 13,
     "metadata": {},
     "output_type": "execute_result"
    }
   ],
   "source": [
    "total['차량말소YN'].value_counts()"
   ]
  },
  {
   "cell_type": "code",
   "execution_count": 14,
   "metadata": {},
   "outputs": [
    {
     "data": {
      "text/plain": [
       "(25692466, 59)"
      ]
     },
     "execution_count": 14,
     "metadata": {},
     "output_type": "execute_result"
    }
   ],
   "source": [
    "total1 = total[total['차량말소YN'] == 'N'].reset_index(drop=True)\n",
    "total1.shape"
   ]
  },
  {
   "attachments": {},
   "cell_type": "markdown",
   "metadata": {},
   "source": [
    "## [출력] 등록정보와 제원정보"
   ]
  },
  {
   "cell_type": "code",
   "execution_count": 15,
   "metadata": {},
   "outputs": [],
   "source": [
    "# about 17m\n",
    "total.to_csv(os.path.join(ods_fold, '[ODS]등록정보&제원정보(중복차대제거)(2022.12.29).csv'), index=False, encoding='cp949')"
   ]
  },
  {
   "attachments": {},
   "cell_type": "markdown",
   "metadata": {},
   "source": [
    "## [출력] 등록정보와 제원정보(말소제거)"
   ]
  },
  {
   "cell_type": "code",
   "execution_count": 16,
   "metadata": {},
   "outputs": [],
   "source": [
    "# about 15m\n",
    "total1.to_csv(os.path.join(ods_fold, '[ODS]등록정보&제원정보(말소제거)(중복차대제거)(2022.12.29).csv'), index=False, encoding='cp949')"
   ]
  },
  {
   "attachments": {},
   "cell_type": "markdown",
   "metadata": {},
   "source": [
    "# [ODS]1등급"
   ]
  },
  {
   "attachments": {},
   "cell_type": "markdown",
   "metadata": {},
   "source": [
    "## [로드]"
   ]
  },
  {
   "cell_type": "code",
   "execution_count": 18,
   "metadata": {},
   "outputs": [
    {
     "name": "stdout",
     "output_type": "stream",
     "text": [
      "<class 'pandas.core.frame.DataFrame'>\n",
      "RangeIndex: 2869999 entries, 0 to 2869998\n",
      "Data columns (total 32 columns):\n",
      " #   Column         Dtype  \n",
      "---  ------         -----  \n",
      " 0   차량관리번호         object \n",
      " 1   차량등록번호         object \n",
      " 2   본거지 법정동 코드     int64  \n",
      " 3   소유자 구분         object \n",
      " 4   차종             object \n",
      " 5   용도             object \n",
      " 6   미정             object \n",
      " 7   현재 회원번호        object \n",
      " 8   미정.1           object \n",
      " 9   미정.2           object \n",
      " 10  차대번호           object \n",
      " 11  최초 등록 일자       int64  \n",
      " 12  차량 연식          int64  \n",
      " 13  차량 제작 일자       float64\n",
      " 14  배출가스검사유효일자     float64\n",
      " 15  제원관리번호         object \n",
      " 16  배출가스 인증번호      object \n",
      " 17  배출가스 등급        int64  \n",
      " 18  저공해조치 YN(미사용)  object \n",
      " 19  저공해조치 종류       float64\n",
      " 20  저공해조치 구조변경 YN  object \n",
      " 21  미정.3           float64\n",
      " 22  차량등록번호 숫자 정보   int64  \n",
      " 23  차량 말소 YN       object \n",
      " 24  미정.4           object \n",
      " 25  최초 회원번호        object \n",
      " 26  취득 일자          float64\n",
      " 27  취득 금액          float64\n",
      " 28  미정.5           object \n",
      " 29  생성 일시          object \n",
      " 30  수정 일시          object \n",
      " 31  미정.6           object \n",
      "dtypes: float64(6), int64(5), object(21)\n",
      "memory usage: 700.7+ MB\n"
     ]
    }
   ],
   "source": [
    "# about 1m\n",
    "file_name = '[ODS][G1]자동차_등록정보(중복차대제거)(2022.12.29).csv'\n",
    "ods_path = os.path.join(ods_fold, file_name)\n",
    "df1 = pd.read_csv(ods_path, low_memory=False, encoding='cp949')\n",
    "df1.info()"
   ]
  },
  {
   "cell_type": "code",
   "execution_count": 22,
   "metadata": {},
   "outputs": [
    {
     "name": "stdout",
     "output_type": "stream",
     "text": [
      "<class 'pandas.core.frame.DataFrame'>\n",
      "RangeIndex: 545374 entries, 0 to 545373\n",
      "Data columns (total 28 columns):\n",
      " #   Column       Non-Null Count   Dtype  \n",
      "---  ------       --------------   -----  \n",
      " 0   제원관리번호       545374 non-null  object \n",
      " 1   차명           545272 non-null  object \n",
      " 2   차종           545370 non-null  object \n",
      " 3   차종 분류        531367 non-null  object \n",
      " 4   차종 유형 (소분류)  531332 non-null  object \n",
      " 5   자동차 형식       516295 non-null  object \n",
      " 6   제작사 명        529017 non-null  object \n",
      " 7   연료           503254 non-null  object \n",
      " 8   엔진형식         494157 non-null  object \n",
      " 9   공차중량         0 non-null       float64\n",
      " 10  총 중량         541702 non-null  float64\n",
      " 11  적재 중량        446181 non-null  float64\n",
      " 12  엔진출력         471948 non-null  float64\n",
      " 13  배기량          510521 non-null  float64\n",
      " 14  승차 인원        545313 non-null  float64\n",
      " 15  차량 길이        514786 non-null  float64\n",
      " 16  차량 너비        514799 non-null  float64\n",
      " 17  차량 높이        514732 non-null  float64\n",
      " 18  원산지 명        540392 non-null  object \n",
      " 19  미정           0 non-null       float64\n",
      " 20  삭제 YN        545374 non-null  object \n",
      " 21  승인 일자        532881 non-null  object \n",
      " 22  구동 형식        114619 non-null  object \n",
      " 23  변속기 종류       540165 non-null  object \n",
      " 24  미정.1         1 non-null       object \n",
      " 25  생성 일시        545374 non-null  object \n",
      " 26  수정 일시        14578 non-null   object \n",
      " 27  미정.2         545374 non-null  object \n",
      "dtypes: float64(10), object(18)\n",
      "memory usage: 116.5+ MB\n"
     ]
    }
   ],
   "source": [
    "# about 3s\n",
    "file_name = '[ODS]자동차_제원정보(2022.12.29).csv'\n",
    "ods_path = os.path.join(ods_fold, file_name)\n",
    "df2 = pd.read_csv(ods_path, low_memory=False, encoding='cp949')\n",
    "df2.info()"
   ]
  },
  {
   "attachments": {},
   "cell_type": "markdown",
   "metadata": {},
   "source": [
    "### 정리\n",
    "- 컬럼명, 컬럼순서, 컬럼"
   ]
  },
  {
   "cell_type": "code",
   "execution_count": 23,
   "metadata": {},
   "outputs": [
    {
     "data": {
      "text/plain": [
       "Index(['차량관리번호', '차량등록번호', '본거지 법정동 코드', '소유자 구분', '차종', '용도', '미정', '현재 회원번호',\n",
       "       '미정.1', '미정.2', '차대번호', '최초 등록 일자', '차량 연식', '차량 제작 일자', '배출가스검사유효일자',\n",
       "       '제원관리번호', '배출가스 인증번호', '배출가스 등급', '저공해조치 YN(미사용)', '저공해조치 종류',\n",
       "       '저공해조치 구조변경 YN', '미정.3', '차량등록번호 숫자 정보', '차량 말소 YN', '미정.4', '최초 회원번호',\n",
       "       '취득 일자', '취득 금액', '미정.5', '생성 일시', '수정 일시', '미정.6'],\n",
       "      dtype='object')"
      ]
     },
     "execution_count": 23,
     "metadata": {},
     "output_type": "execute_result"
    }
   ],
   "source": [
    "df1.columns"
   ]
  },
  {
   "cell_type": "code",
   "execution_count": 24,
   "metadata": {},
   "outputs": [],
   "source": [
    "df1.columns = ['차량관리번호', '차량등록번호', '본거지법정동코드', '소유자구분', '차종_등록정보', '용도', '미정1', '현재회원번호', '미정2', '미정3', '차대번호', '최초등록일자', '차량연식', '차량제작일자', \n",
    "               '배출가스검사유효일자', '제원관리번호', '배출가스인증번호', '배출가스등급', '저공해조치YN(미사용)', '저공해조치종류', '저공해조치구조변경YN', '미정4', '차량등록번호숫자정보', '차량말소YN', '미정5', '최초회원번호', '취득일자', '취득금액', '미정6', '생성일시_등록정보', '수정일시_등록정보', '미정7']"
   ]
  },
  {
   "cell_type": "code",
   "execution_count": 25,
   "metadata": {},
   "outputs": [
    {
     "data": {
      "text/plain": [
       "Index(['제원관리번호', '차명', '차종', '차종 분류', '차종 유형 (소분류)', '자동차 형식', '제작사 명', '연료',\n",
       "       '엔진형식', '공차중량', '총 중량', '적재 중량', '엔진출력', '배기량', '승차 인원', '차량 길이',\n",
       "       '차량 너비', '차량 높이', '원산지 명', '미정', '삭제 YN', '승인 일자', '구동 형식', '변속기 종류',\n",
       "       '미정.1', '생성 일시', '수정 일시', '미정.2'],\n",
       "      dtype='object')"
      ]
     },
     "execution_count": 25,
     "metadata": {},
     "output_type": "execute_result"
    }
   ],
   "source": [
    "df2.columns"
   ]
  },
  {
   "cell_type": "code",
   "execution_count": 26,
   "metadata": {},
   "outputs": [],
   "source": [
    "df2.columns = ['제원관리번호', '차명', '차종_제원정보', '차종분류', '차종유형(소분류)', '자동차형식', '제작사명', '연료',\n",
    "       '엔진형식', '공차중량', '총중량', '적재중량', '엔진출력', '배기량', '승차인원', '차량길이',\n",
    "       '차량너비', '차량높이', '원산지명', '미정1', '삭제YN', '승인일자', '구동형식', '변속기종류',\n",
    "       '미정2', '생성일시_제원정보', '수정일시_제원정보', '미정3']"
   ]
  },
  {
   "cell_type": "code",
   "execution_count": 27,
   "metadata": {},
   "outputs": [
    {
     "data": {
      "text/plain": [
       "1    2869999\n",
       "Name: 배출가스등급, dtype: int64"
      ]
     },
     "execution_count": 27,
     "metadata": {},
     "output_type": "execute_result"
    }
   ],
   "source": [
    "df1['배출가스등급'].value_counts()"
   ]
  },
  {
   "attachments": {},
   "cell_type": "markdown",
   "metadata": {},
   "source": [
    "## [병합] 등록정보와 제원정보"
   ]
  },
  {
   "cell_type": "code",
   "execution_count": 28,
   "metadata": {},
   "outputs": [
    {
     "name": "stdout",
     "output_type": "stream",
     "text": [
      "<class 'pandas.core.frame.DataFrame'>\n",
      "Int64Index: 2869999 entries, 0 to 2869998\n",
      "Data columns (total 59 columns):\n",
      " #   Column        Dtype  \n",
      "---  ------        -----  \n",
      " 0   차량관리번호        object \n",
      " 1   차량등록번호        object \n",
      " 2   본거지법정동코드      int64  \n",
      " 3   소유자구분         object \n",
      " 4   차종_등록정보       object \n",
      " 5   용도            object \n",
      " 6   미정1_x         object \n",
      " 7   현재회원번호        object \n",
      " 8   미정2_x         object \n",
      " 9   미정3_x         object \n",
      " 10  차대번호          object \n",
      " 11  최초등록일자        int64  \n",
      " 12  차량연식          int64  \n",
      " 13  차량제작일자        float64\n",
      " 14  배출가스검사유효일자    float64\n",
      " 15  제원관리번호        object \n",
      " 16  배출가스인증번호      object \n",
      " 17  배출가스등급        int64  \n",
      " 18  저공해조치YN(미사용)  object \n",
      " 19  저공해조치종류       float64\n",
      " 20  저공해조치구조변경YN   object \n",
      " 21  미정4           float64\n",
      " 22  차량등록번호숫자정보    int64  \n",
      " 23  차량말소YN        object \n",
      " 24  미정5           object \n",
      " 25  최초회원번호        object \n",
      " 26  취득일자          float64\n",
      " 27  취득금액          float64\n",
      " 28  미정6           object \n",
      " 29  생성일시_등록정보     object \n",
      " 30  수정일시_등록정보     object \n",
      " 31  미정7           object \n",
      " 32  차명            object \n",
      " 33  차종_제원정보       object \n",
      " 34  차종분류          object \n",
      " 35  차종유형(소분류)     object \n",
      " 36  자동차형식         object \n",
      " 37  제작사명          object \n",
      " 38  연료            object \n",
      " 39  엔진형식          object \n",
      " 40  공차중량          float64\n",
      " 41  총중량           float64\n",
      " 42  적재중량          float64\n",
      " 43  엔진출력          float64\n",
      " 44  배기량           float64\n",
      " 45  승차인원          float64\n",
      " 46  차량길이          float64\n",
      " 47  차량너비          float64\n",
      " 48  차량높이          float64\n",
      " 49  원산지명          object \n",
      " 50  미정1_y         float64\n",
      " 51  삭제YN          object \n",
      " 52  승인일자          object \n",
      " 53  구동형식          object \n",
      " 54  변속기종류         object \n",
      " 55  미정2_y         object \n",
      " 56  생성일시_제원정보     object \n",
      " 57  수정일시_제원정보     object \n",
      " 58  미정3_y         object \n",
      "dtypes: float64(16), int64(5), object(38)\n",
      "memory usage: 1.3+ GB\n"
     ]
    }
   ],
   "source": [
    "total = df1.merge(df2, on='제원관리번호', how='left')\n",
    "total.info()"
   ]
  },
  {
   "attachments": {},
   "cell_type": "markdown",
   "metadata": {},
   "source": [
    "## [출력] 등록정보와 제원정보"
   ]
  },
  {
   "cell_type": "code",
   "execution_count": 29,
   "metadata": {},
   "outputs": [],
   "source": [
    "# about 1m\n",
    "total.to_csv(os.path.join(ods_fold, '[ODS][G1]등록정보&제원정보(중복차대제거)(2022.12.29).csv'), index=False, encoding='cp949')"
   ]
  },
  {
   "attachments": {},
   "cell_type": "markdown",
   "metadata": {},
   "source": [
    "# [ODS]2등급"
   ]
  },
  {
   "attachments": {},
   "cell_type": "markdown",
   "metadata": {},
   "source": [
    "## [로드]"
   ]
  },
  {
   "cell_type": "code",
   "execution_count": 30,
   "metadata": {},
   "outputs": [
    {
     "name": "stdout",
     "output_type": "stream",
     "text": [
      "<class 'pandas.core.frame.DataFrame'>\n",
      "RangeIndex: 12048662 entries, 0 to 12048661\n",
      "Data columns (total 32 columns):\n",
      " #   Column         Dtype  \n",
      "---  ------         -----  \n",
      " 0   차량관리번호         object \n",
      " 1   차량등록번호         object \n",
      " 2   본거지 법정동 코드     int64  \n",
      " 3   소유자 구분         object \n",
      " 4   차종             object \n",
      " 5   용도             object \n",
      " 6   미정             object \n",
      " 7   현재 회원번호        object \n",
      " 8   미정.1           object \n",
      " 9   미정.2           object \n",
      " 10  차대번호           object \n",
      " 11  최초 등록 일자       int64  \n",
      " 12  차량 연식          int64  \n",
      " 13  차량 제작 일자       float64\n",
      " 14  배출가스검사유효일자     float64\n",
      " 15  제원관리번호         object \n",
      " 16  배출가스 인증번호      object \n",
      " 17  배출가스 등급        object \n",
      " 18  저공해조치 YN(미사용)  object \n",
      " 19  저공해조치 종류       float64\n",
      " 20  저공해조치 구조변경 YN  object \n",
      " 21  미정.3           float64\n",
      " 22  차량등록번호 숫자 정보   int64  \n",
      " 23  차량 말소 YN       object \n",
      " 24  미정.4           object \n",
      " 25  최초 회원번호        object \n",
      " 26  취득 일자          float64\n",
      " 27  취득 금액          float64\n",
      " 28  미정.5           object \n",
      " 29  생성 일시          object \n",
      " 30  수정 일시          object \n",
      " 31  미정.6           object \n",
      "dtypes: float64(6), int64(4), object(22)\n",
      "memory usage: 2.9+ GB\n"
     ]
    }
   ],
   "source": [
    "# about 4m\n",
    "file_name = '[ODS][G2]자동차_등록정보(중복차대제거)(2022.12.29).csv'\n",
    "ods_path = os.path.join(ods_fold, file_name)\n",
    "df1 = pd.read_csv(ods_path, low_memory=False, encoding='cp949')\n",
    "df1.info()"
   ]
  },
  {
   "attachments": {},
   "cell_type": "markdown",
   "metadata": {},
   "source": [
    "### 정리\n",
    "- 컬럼명, 컬럼순서, 컬럼"
   ]
  },
  {
   "cell_type": "code",
   "execution_count": 31,
   "metadata": {},
   "outputs": [
    {
     "data": {
      "text/plain": [
       "Index(['차량관리번호', '차량등록번호', '본거지 법정동 코드', '소유자 구분', '차종', '용도', '미정', '현재 회원번호',\n",
       "       '미정.1', '미정.2', '차대번호', '최초 등록 일자', '차량 연식', '차량 제작 일자', '배출가스검사유효일자',\n",
       "       '제원관리번호', '배출가스 인증번호', '배출가스 등급', '저공해조치 YN(미사용)', '저공해조치 종류',\n",
       "       '저공해조치 구조변경 YN', '미정.3', '차량등록번호 숫자 정보', '차량 말소 YN', '미정.4', '최초 회원번호',\n",
       "       '취득 일자', '취득 금액', '미정.5', '생성 일시', '수정 일시', '미정.6'],\n",
       "      dtype='object')"
      ]
     },
     "execution_count": 31,
     "metadata": {},
     "output_type": "execute_result"
    }
   ],
   "source": [
    "df1.columns"
   ]
  },
  {
   "cell_type": "code",
   "execution_count": 32,
   "metadata": {},
   "outputs": [],
   "source": [
    "df1.columns = ['차량관리번호', '차량등록번호', '본거지법정동코드', '소유자구분', '차종_등록정보', '용도', '미정1', '현재회원번호',\n",
    "       '미정2', '미정3', '차대번호', '최초등록일자', '차량연식', '차량제작일자', '배출가스검사유효일자',\n",
    "       '제원관리번호', '배출가스인증번호', '배출가스등급', '저공해조치YN(미사용)', '저공해조치종류',\n",
    "       '저공해조치구조변경YN', '미정4', '차량등록번호숫자정보', '차량말소YN', '미정5', '최초회원번호',\n",
    "       '취득일자', '취득금액', '미정6', '생성일시_등록정보', '수정일시_등록정보', '미정7']"
   ]
  },
  {
   "cell_type": "code",
   "execution_count": 33,
   "metadata": {},
   "outputs": [
    {
     "data": {
      "text/plain": [
       "2     11798398\n",
       "T2      250264\n",
       "Name: 배출가스등급, dtype: int64"
      ]
     },
     "execution_count": 33,
     "metadata": {},
     "output_type": "execute_result"
    }
   ],
   "source": [
    "df1['배출가스등급'].value_counts()"
   ]
  },
  {
   "attachments": {},
   "cell_type": "markdown",
   "metadata": {},
   "source": [
    "## [병합] 등록정보와 제원정보"
   ]
  },
  {
   "cell_type": "code",
   "execution_count": 34,
   "metadata": {},
   "outputs": [
    {
     "name": "stdout",
     "output_type": "stream",
     "text": [
      "<class 'pandas.core.frame.DataFrame'>\n",
      "Int64Index: 12048662 entries, 0 to 12048661\n",
      "Data columns (total 59 columns):\n",
      " #   Column        Dtype  \n",
      "---  ------        -----  \n",
      " 0   차량관리번호        object \n",
      " 1   차량등록번호        object \n",
      " 2   본거지법정동코드      int64  \n",
      " 3   소유자구분         object \n",
      " 4   차종_등록정보       object \n",
      " 5   용도            object \n",
      " 6   미정1_x         object \n",
      " 7   현재회원번호        object \n",
      " 8   미정2_x         object \n",
      " 9   미정3_x         object \n",
      " 10  차대번호          object \n",
      " 11  최초등록일자        int64  \n",
      " 12  차량연식          int64  \n",
      " 13  차량제작일자        float64\n",
      " 14  배출가스검사유효일자    float64\n",
      " 15  제원관리번호        object \n",
      " 16  배출가스인증번호      object \n",
      " 17  배출가스등급        object \n",
      " 18  저공해조치YN(미사용)  object \n",
      " 19  저공해조치종류       float64\n",
      " 20  저공해조치구조변경YN   object \n",
      " 21  미정4           float64\n",
      " 22  차량등록번호숫자정보    int64  \n",
      " 23  차량말소YN        object \n",
      " 24  미정5           object \n",
      " 25  최초회원번호        object \n",
      " 26  취득일자          float64\n",
      " 27  취득금액          float64\n",
      " 28  미정6           object \n",
      " 29  생성일시_등록정보     object \n",
      " 30  수정일시_등록정보     object \n",
      " 31  미정7           object \n",
      " 32  차명            object \n",
      " 33  차종_제원정보       object \n",
      " 34  차종분류          object \n",
      " 35  차종유형(소분류)     object \n",
      " 36  자동차형식         object \n",
      " 37  제작사명          object \n",
      " 38  연료            object \n",
      " 39  엔진형식          object \n",
      " 40  공차중량          float64\n",
      " 41  총중량           float64\n",
      " 42  적재중량          float64\n",
      " 43  엔진출력          float64\n",
      " 44  배기량           float64\n",
      " 45  승차인원          float64\n",
      " 46  차량길이          float64\n",
      " 47  차량너비          float64\n",
      " 48  차량높이          float64\n",
      " 49  원산지명          object \n",
      " 50  미정1_y         float64\n",
      " 51  삭제YN          object \n",
      " 52  승인일자          object \n",
      " 53  구동형식          object \n",
      " 54  변속기종류         object \n",
      " 55  미정2_y         object \n",
      " 56  생성일시_제원정보     object \n",
      " 57  수정일시_제원정보     object \n",
      " 58  미정3_y         object \n",
      "dtypes: float64(16), int64(4), object(39)\n",
      "memory usage: 5.4+ GB\n"
     ]
    }
   ],
   "source": [
    "total = df1.merge(df2, on='제원관리번호', how='left')\n",
    "total.info()"
   ]
  },
  {
   "attachments": {},
   "cell_type": "markdown",
   "metadata": {},
   "source": [
    "## [출력] 등록정보와 제원정보"
   ]
  },
  {
   "cell_type": "code",
   "execution_count": 35,
   "metadata": {},
   "outputs": [],
   "source": [
    "# about 5m\n",
    "total.to_csv(os.path.join(ods_fold, '[ODS][G2]등록정보&제원정보(중복차대제거)(2022.12.29).csv'), index=False, encoding='cp949')"
   ]
  },
  {
   "attachments": {},
   "cell_type": "markdown",
   "metadata": {},
   "source": [
    "# [ODS]3등급"
   ]
  },
  {
   "attachments": {},
   "cell_type": "markdown",
   "metadata": {},
   "source": [
    "## [로드]"
   ]
  },
  {
   "cell_type": "code",
   "execution_count": 36,
   "metadata": {},
   "outputs": [
    {
     "name": "stdout",
     "output_type": "stream",
     "text": [
      "<class 'pandas.core.frame.DataFrame'>\n",
      "RangeIndex: 10023646 entries, 0 to 10023645\n",
      "Data columns (total 32 columns):\n",
      " #   Column         Dtype  \n",
      "---  ------         -----  \n",
      " 0   차량관리번호         object \n",
      " 1   차량등록번호         object \n",
      " 2   본거지 법정동 코드     int64  \n",
      " 3   소유자 구분         object \n",
      " 4   차종             object \n",
      " 5   용도             object \n",
      " 6   미정             object \n",
      " 7   현재 회원번호        object \n",
      " 8   미정.1           object \n",
      " 9   미정.2           object \n",
      " 10  차대번호           object \n",
      " 11  최초 등록 일자       int64  \n",
      " 12  차량 연식          int64  \n",
      " 13  차량 제작 일자       float64\n",
      " 14  배출가스검사유효일자     float64\n",
      " 15  제원관리번호         object \n",
      " 16  배출가스 인증번호      object \n",
      " 17  배출가스 등급        object \n",
      " 18  저공해조치 YN(미사용)  object \n",
      " 19  저공해조치 종류       float64\n",
      " 20  저공해조치 구조변경 YN  object \n",
      " 21  미정.3           float64\n",
      " 22  차량등록번호 숫자 정보   int64  \n",
      " 23  차량 말소 YN       object \n",
      " 24  미정.4           object \n",
      " 25  최초 회원번호        object \n",
      " 26  취득 일자          float64\n",
      " 27  취득 금액          float64\n",
      " 28  미정.5           object \n",
      " 29  생성 일시          object \n",
      " 30  수정 일시          object \n",
      " 31  미정.6           object \n",
      "dtypes: float64(6), int64(4), object(22)\n",
      "memory usage: 2.4+ GB\n"
     ]
    }
   ],
   "source": [
    "# about 3m\n",
    "file_name = '[ODS][G3]자동차_등록정보(중복차대제거)(2022.12.29).csv'\n",
    "ods_path = os.path.join(ods_fold, file_name)\n",
    "df1 = pd.read_csv(ods_path, low_memory=False, encoding='cp949')\n",
    "df1.info()"
   ]
  },
  {
   "attachments": {},
   "cell_type": "markdown",
   "metadata": {},
   "source": [
    "### 정리\n",
    "- 컬럼명, 컬럼순서, 컬럼"
   ]
  },
  {
   "cell_type": "code",
   "execution_count": 37,
   "metadata": {},
   "outputs": [
    {
     "data": {
      "text/plain": [
       "Index(['차량관리번호', '차량등록번호', '본거지 법정동 코드', '소유자 구분', '차종', '용도', '미정', '현재 회원번호',\n",
       "       '미정.1', '미정.2', '차대번호', '최초 등록 일자', '차량 연식', '차량 제작 일자', '배출가스검사유효일자',\n",
       "       '제원관리번호', '배출가스 인증번호', '배출가스 등급', '저공해조치 YN(미사용)', '저공해조치 종류',\n",
       "       '저공해조치 구조변경 YN', '미정.3', '차량등록번호 숫자 정보', '차량 말소 YN', '미정.4', '최초 회원번호',\n",
       "       '취득 일자', '취득 금액', '미정.5', '생성 일시', '수정 일시', '미정.6'],\n",
       "      dtype='object')"
      ]
     },
     "execution_count": 37,
     "metadata": {},
     "output_type": "execute_result"
    }
   ],
   "source": [
    "df1.columns"
   ]
  },
  {
   "cell_type": "code",
   "execution_count": 38,
   "metadata": {},
   "outputs": [],
   "source": [
    "df1.columns = ['차량관리번호', '차량등록번호', '본거지법정동코드', '소유자구분', '차종_등록정보', '용도', '미정1', '현재회원번호',\n",
    "       '미정2', '미정3', '차대번호', '최초등록일자', '차량연식', '차량제작일자', '배출가스검사유효일자',\n",
    "       '제원관리번호', '배출가스인증번호', '배출가스등급', '저공해조치YN(미사용)', '저공해조치종류',\n",
    "       '저공해조치구조변경YN', '미정4', '차량등록번호숫자정보', '차량말소YN', '미정5', '최초회원번호',\n",
    "       '취득일자', '취득금액', '미정6', '생성일시_등록정보', '수정일시_등록정보', '미정7']"
   ]
  },
  {
   "cell_type": "code",
   "execution_count": 39,
   "metadata": {},
   "outputs": [
    {
     "data": {
      "text/plain": [
       "3     9886814\n",
       "T3     136832\n",
       "Name: 배출가스등급, dtype: int64"
      ]
     },
     "execution_count": 39,
     "metadata": {},
     "output_type": "execute_result"
    }
   ],
   "source": [
    "df1['배출가스등급'].value_counts()"
   ]
  },
  {
   "attachments": {},
   "cell_type": "markdown",
   "metadata": {},
   "source": [
    "## [병합] 등록정보와 제원정보"
   ]
  },
  {
   "cell_type": "code",
   "execution_count": 40,
   "metadata": {},
   "outputs": [
    {
     "name": "stdout",
     "output_type": "stream",
     "text": [
      "<class 'pandas.core.frame.DataFrame'>\n",
      "Int64Index: 10023646 entries, 0 to 10023645\n",
      "Data columns (total 59 columns):\n",
      " #   Column        Dtype  \n",
      "---  ------        -----  \n",
      " 0   차량관리번호        object \n",
      " 1   차량등록번호        object \n",
      " 2   본거지법정동코드      int64  \n",
      " 3   소유자구분         object \n",
      " 4   차종_등록정보       object \n",
      " 5   용도            object \n",
      " 6   미정1_x         object \n",
      " 7   현재회원번호        object \n",
      " 8   미정2_x         object \n",
      " 9   미정3_x         object \n",
      " 10  차대번호          object \n",
      " 11  최초등록일자        int64  \n",
      " 12  차량연식          int64  \n",
      " 13  차량제작일자        float64\n",
      " 14  배출가스검사유효일자    float64\n",
      " 15  제원관리번호        object \n",
      " 16  배출가스인증번호      object \n",
      " 17  배출가스등급        object \n",
      " 18  저공해조치YN(미사용)  object \n",
      " 19  저공해조치종류       float64\n",
      " 20  저공해조치구조변경YN   object \n",
      " 21  미정4           float64\n",
      " 22  차량등록번호숫자정보    int64  \n",
      " 23  차량말소YN        object \n",
      " 24  미정5           object \n",
      " 25  최초회원번호        object \n",
      " 26  취득일자          float64\n",
      " 27  취득금액          float64\n",
      " 28  미정6           object \n",
      " 29  생성일시_등록정보     object \n",
      " 30  수정일시_등록정보     object \n",
      " 31  미정7           object \n",
      " 32  차명            object \n",
      " 33  차종_제원정보       object \n",
      " 34  차종분류          object \n",
      " 35  차종유형(소분류)     object \n",
      " 36  자동차형식         object \n",
      " 37  제작사명          object \n",
      " 38  연료            object \n",
      " 39  엔진형식          object \n",
      " 40  공차중량          float64\n",
      " 41  총중량           float64\n",
      " 42  적재중량          float64\n",
      " 43  엔진출력          float64\n",
      " 44  배기량           float64\n",
      " 45  승차인원          float64\n",
      " 46  차량길이          float64\n",
      " 47  차량너비          float64\n",
      " 48  차량높이          float64\n",
      " 49  원산지명          object \n",
      " 50  미정1_y         float64\n",
      " 51  삭제YN          object \n",
      " 52  승인일자          object \n",
      " 53  구동형식          object \n",
      " 54  변속기종류         object \n",
      " 55  미정2_y         object \n",
      " 56  생성일시_제원정보     object \n",
      " 57  수정일시_제원정보     object \n",
      " 58  미정3_y         object \n",
      "dtypes: float64(16), int64(4), object(39)\n",
      "memory usage: 4.5+ GB\n"
     ]
    }
   ],
   "source": [
    "total = df1.merge(df2, on='제원관리번호', how='left')\n",
    "total.info()"
   ]
  },
  {
   "attachments": {},
   "cell_type": "markdown",
   "metadata": {},
   "source": [
    "## [출력] 등록정보와 제원정보"
   ]
  },
  {
   "cell_type": "code",
   "execution_count": 41,
   "metadata": {},
   "outputs": [],
   "source": [
    "# about 4m\n",
    "total.to_csv(os.path.join(ods_fold, '[ODS][G3]등록정보&제원정보(중복차대제거)(2022.12.29).csv'), index=False, encoding='cp949')"
   ]
  },
  {
   "attachments": {},
   "cell_type": "markdown",
   "metadata": {},
   "source": [
    "# [ODS]4등급"
   ]
  },
  {
   "attachments": {},
   "cell_type": "markdown",
   "metadata": {},
   "source": [
    "## [로드]"
   ]
  },
  {
   "cell_type": "code",
   "execution_count": 42,
   "metadata": {},
   "outputs": [
    {
     "name": "stdout",
     "output_type": "stream",
     "text": [
      "<class 'pandas.core.frame.DataFrame'>\n",
      "RangeIndex: 1897577 entries, 0 to 1897576\n",
      "Data columns (total 32 columns):\n",
      " #   Column         Dtype  \n",
      "---  ------         -----  \n",
      " 0   차량관리번호         object \n",
      " 1   차량등록번호         object \n",
      " 2   본거지 법정동 코드     int64  \n",
      " 3   소유자 구분         object \n",
      " 4   차종             object \n",
      " 5   용도             object \n",
      " 6   미정             object \n",
      " 7   현재 회원번호        object \n",
      " 8   미정.1           object \n",
      " 9   미정.2           object \n",
      " 10  차대번호           object \n",
      " 11  최초 등록 일자       int64  \n",
      " 12  차량 연식          int64  \n",
      " 13  차량 제작 일자       float64\n",
      " 14  배출가스검사유효일자     float64\n",
      " 15  제원관리번호         object \n",
      " 16  배출가스 인증번호      object \n",
      " 17  배출가스 등급        object \n",
      " 18  저공해조치 YN(미사용)  object \n",
      " 19  저공해조치 종류       float64\n",
      " 20  저공해조치 구조변경 YN  object \n",
      " 21  미정.3           float64\n",
      " 22  차량등록번호 숫자 정보   int64  \n",
      " 23  차량 말소 YN       object \n",
      " 24  미정.4           object \n",
      " 25  최초 회원번호        object \n",
      " 26  취득 일자          object \n",
      " 27  취득 금액          float64\n",
      " 28  미정.5           object \n",
      " 29  생성 일시          object \n",
      " 30  수정 일시          object \n",
      " 31  미정.6           object \n",
      "dtypes: float64(5), int64(4), object(23)\n",
      "memory usage: 463.3+ MB\n"
     ]
    }
   ],
   "source": [
    "# about 40s\n",
    "file_name = '[ODS][G4]자동차_등록정보(중복차대제거)(2022.12.29).csv'\n",
    "ods_path = os.path.join(ods_fold, file_name)\n",
    "df1 = pd.read_csv(ods_path, low_memory=False, encoding='cp949')\n",
    "df1.info()"
   ]
  },
  {
   "attachments": {},
   "cell_type": "markdown",
   "metadata": {},
   "source": [
    "### 정리\n",
    "- 컬럼명, 컬럼순서, 컬럼"
   ]
  },
  {
   "cell_type": "code",
   "execution_count": 43,
   "metadata": {},
   "outputs": [
    {
     "data": {
      "text/plain": [
       "Index(['차량관리번호', '차량등록번호', '본거지 법정동 코드', '소유자 구분', '차종', '용도', '미정', '현재 회원번호',\n",
       "       '미정.1', '미정.2', '차대번호', '최초 등록 일자', '차량 연식', '차량 제작 일자', '배출가스검사유효일자',\n",
       "       '제원관리번호', '배출가스 인증번호', '배출가스 등급', '저공해조치 YN(미사용)', '저공해조치 종류',\n",
       "       '저공해조치 구조변경 YN', '미정.3', '차량등록번호 숫자 정보', '차량 말소 YN', '미정.4', '최초 회원번호',\n",
       "       '취득 일자', '취득 금액', '미정.5', '생성 일시', '수정 일시', '미정.6'],\n",
       "      dtype='object')"
      ]
     },
     "execution_count": 43,
     "metadata": {},
     "output_type": "execute_result"
    }
   ],
   "source": [
    "df1.columns"
   ]
  },
  {
   "cell_type": "code",
   "execution_count": 44,
   "metadata": {},
   "outputs": [],
   "source": [
    "df1.columns = ['차량관리번호', '차량등록번호', '본거지법정동코드', '소유자구분', '차종_등록정보', '용도', '미정1', '현재회원번호',\n",
    "       '미정2', '미정3', '차대번호', '최초등록일자', '차량연식', '차량제작일자', '배출가스검사유효일자',\n",
    "       '제원관리번호', '배출가스인증번호', '배출가스등급', '저공해조치YN(미사용)', '저공해조치종류',\n",
    "       '저공해조치구조변경YN', '미정4', '차량등록번호숫자정보', '차량말소YN', '미정5', '최초회원번호',\n",
    "       '취득일자', '취득금액', '미정6', '생성일시_등록정보', '수정일시_등록정보', '미정7']"
   ]
  },
  {
   "cell_type": "code",
   "execution_count": 45,
   "metadata": {},
   "outputs": [
    {
     "data": {
      "text/plain": [
       "4     1897535\n",
       "T4         42\n",
       "Name: 배출가스등급, dtype: int64"
      ]
     },
     "execution_count": 45,
     "metadata": {},
     "output_type": "execute_result"
    }
   ],
   "source": [
    "df1['배출가스등급'].value_counts()"
   ]
  },
  {
   "attachments": {},
   "cell_type": "markdown",
   "metadata": {},
   "source": [
    "## [병합] 등록정보와 제원정보"
   ]
  },
  {
   "cell_type": "code",
   "execution_count": 46,
   "metadata": {},
   "outputs": [
    {
     "name": "stdout",
     "output_type": "stream",
     "text": [
      "<class 'pandas.core.frame.DataFrame'>\n",
      "Int64Index: 1897577 entries, 0 to 1897576\n",
      "Data columns (total 59 columns):\n",
      " #   Column        Dtype  \n",
      "---  ------        -----  \n",
      " 0   차량관리번호        object \n",
      " 1   차량등록번호        object \n",
      " 2   본거지법정동코드      int64  \n",
      " 3   소유자구분         object \n",
      " 4   차종_등록정보       object \n",
      " 5   용도            object \n",
      " 6   미정1_x         object \n",
      " 7   현재회원번호        object \n",
      " 8   미정2_x         object \n",
      " 9   미정3_x         object \n",
      " 10  차대번호          object \n",
      " 11  최초등록일자        int64  \n",
      " 12  차량연식          int64  \n",
      " 13  차량제작일자        float64\n",
      " 14  배출가스검사유효일자    float64\n",
      " 15  제원관리번호        object \n",
      " 16  배출가스인증번호      object \n",
      " 17  배출가스등급        object \n",
      " 18  저공해조치YN(미사용)  object \n",
      " 19  저공해조치종류       float64\n",
      " 20  저공해조치구조변경YN   object \n",
      " 21  미정4           float64\n",
      " 22  차량등록번호숫자정보    int64  \n",
      " 23  차량말소YN        object \n",
      " 24  미정5           object \n",
      " 25  최초회원번호        object \n",
      " 26  취득일자          object \n",
      " 27  취득금액          float64\n",
      " 28  미정6           object \n",
      " 29  생성일시_등록정보     object \n",
      " 30  수정일시_등록정보     object \n",
      " 31  미정7           object \n",
      " 32  차명            object \n",
      " 33  차종_제원정보       object \n",
      " 34  차종분류          object \n",
      " 35  차종유형(소분류)     object \n",
      " 36  자동차형식         object \n",
      " 37  제작사명          object \n",
      " 38  연료            object \n",
      " 39  엔진형식          object \n",
      " 40  공차중량          float64\n",
      " 41  총중량           float64\n",
      " 42  적재중량          float64\n",
      " 43  엔진출력          float64\n",
      " 44  배기량           float64\n",
      " 45  승차인원          float64\n",
      " 46  차량길이          float64\n",
      " 47  차량너비          float64\n",
      " 48  차량높이          float64\n",
      " 49  원산지명          object \n",
      " 50  미정1_y         float64\n",
      " 51  삭제YN          object \n",
      " 52  승인일자          object \n",
      " 53  구동형식          object \n",
      " 54  변속기종류         object \n",
      " 55  미정2_y         object \n",
      " 56  생성일시_제원정보     object \n",
      " 57  수정일시_제원정보     object \n",
      " 58  미정3_y         object \n",
      "dtypes: float64(15), int64(4), object(40)\n",
      "memory usage: 868.6+ MB\n"
     ]
    }
   ],
   "source": [
    "total = df1.merge(df2, on='제원관리번호', how='left')\n",
    "total.info()"
   ]
  },
  {
   "attachments": {},
   "cell_type": "markdown",
   "metadata": {},
   "source": [
    "## [출력] 등록정보와 제원정보"
   ]
  },
  {
   "cell_type": "code",
   "execution_count": 47,
   "metadata": {},
   "outputs": [],
   "source": [
    "# about 45s\n",
    "total.to_csv(os.path.join(ods_fold, '[ODS][G4]등록정보&제원정보(중복차대제거)(2022.12.29).csv'), index=False, encoding='cp949')"
   ]
  },
  {
   "attachments": {},
   "cell_type": "markdown",
   "metadata": {},
   "source": [
    "# [ODS]5등급"
   ]
  },
  {
   "attachments": {},
   "cell_type": "markdown",
   "metadata": {},
   "source": [
    "## [로드]"
   ]
  },
  {
   "cell_type": "code",
   "execution_count": 48,
   "metadata": {},
   "outputs": [
    {
     "name": "stdout",
     "output_type": "stream",
     "text": [
      "<class 'pandas.core.frame.DataFrame'>\n",
      "RangeIndex: 2377928 entries, 0 to 2377927\n",
      "Data columns (total 32 columns):\n",
      " #   Column         Dtype  \n",
      "---  ------         -----  \n",
      " 0   차량관리번호         object \n",
      " 1   차량등록번호         object \n",
      " 2   본거지 법정동 코드     int64  \n",
      " 3   소유자 구분         object \n",
      " 4   차종             object \n",
      " 5   용도             object \n",
      " 6   미정             object \n",
      " 7   현재 회원번호        object \n",
      " 8   미정.1           object \n",
      " 9   미정.2           object \n",
      " 10  차대번호           object \n",
      " 11  최초 등록 일자       int64  \n",
      " 12  차량 연식          int64  \n",
      " 13  차량 제작 일자       float64\n",
      " 14  배출가스검사유효일자     float64\n",
      " 15  제원관리번호         object \n",
      " 16  배출가스 인증번호      object \n",
      " 17  배출가스 등급        object \n",
      " 18  저공해조치 YN(미사용)  object \n",
      " 19  저공해조치 종류       float64\n",
      " 20  저공해조치 구조변경 YN  object \n",
      " 21  미정.3           float64\n",
      " 22  차량등록번호 숫자 정보   int64  \n",
      " 23  차량 말소 YN       object \n",
      " 24  미정.4           object \n",
      " 25  최초 회원번호        object \n",
      " 26  취득 일자          float64\n",
      " 27  취득 금액          float64\n",
      " 28  미정.5           object \n",
      " 29  생성 일시          object \n",
      " 30  수정 일시          object \n",
      " 31  미정.6           object \n",
      "dtypes: float64(6), int64(4), object(22)\n",
      "memory usage: 580.5+ MB\n"
     ]
    }
   ],
   "source": [
    "# about 50s\n",
    "file_name = '[ODS][G5]자동차_등록정보(중복차대제거)(2022.12.29).csv'\n",
    "ods_path = os.path.join(ods_fold, file_name)\n",
    "df1 = pd.read_csv(ods_path, low_memory=False, encoding='cp949')\n",
    "df1.info()"
   ]
  },
  {
   "attachments": {},
   "cell_type": "markdown",
   "metadata": {},
   "source": [
    "### 정리\n",
    "- 컬럼명, 컬럼순서, 컬럼"
   ]
  },
  {
   "cell_type": "code",
   "execution_count": 49,
   "metadata": {},
   "outputs": [
    {
     "data": {
      "text/plain": [
       "Index(['차량관리번호', '차량등록번호', '본거지 법정동 코드', '소유자 구분', '차종', '용도', '미정', '현재 회원번호',\n",
       "       '미정.1', '미정.2', '차대번호', '최초 등록 일자', '차량 연식', '차량 제작 일자', '배출가스검사유효일자',\n",
       "       '제원관리번호', '배출가스 인증번호', '배출가스 등급', '저공해조치 YN(미사용)', '저공해조치 종류',\n",
       "       '저공해조치 구조변경 YN', '미정.3', '차량등록번호 숫자 정보', '차량 말소 YN', '미정.4', '최초 회원번호',\n",
       "       '취득 일자', '취득 금액', '미정.5', '생성 일시', '수정 일시', '미정.6'],\n",
       "      dtype='object')"
      ]
     },
     "execution_count": 49,
     "metadata": {},
     "output_type": "execute_result"
    }
   ],
   "source": [
    "df1.columns"
   ]
  },
  {
   "cell_type": "code",
   "execution_count": 50,
   "metadata": {},
   "outputs": [],
   "source": [
    "df1.columns = ['차량관리번호', '차량등록번호', '본거지법정동코드', '소유자구분', '차종_등록정보', '용도', '미정1', '현재회원번호',\n",
    "       '미정2', '미정3', '차대번호', '최초등록일자', '차량연식', '차량제작일자', '배출가스검사유효일자',\n",
    "       '제원관리번호', '배출가스인증번호', '배출가스등급', '저공해조치YN(미사용)', '저공해조치종류',\n",
    "       '저공해조치구조변경YN', '미정4', '차량등록번호숫자정보', '차량말소YN', '미정5', '최초회원번호',\n",
    "       '취득일자', '취득금액', '미정6', '생성일시_등록정보', '수정일시_등록정보', '미정7']"
   ]
  },
  {
   "cell_type": "code",
   "execution_count": 51,
   "metadata": {},
   "outputs": [
    {
     "data": {
      "text/plain": [
       "5     2377881\n",
       "T5         47\n",
       "Name: 배출가스등급, dtype: int64"
      ]
     },
     "execution_count": 51,
     "metadata": {},
     "output_type": "execute_result"
    }
   ],
   "source": [
    "df1['배출가스등급'].value_counts()"
   ]
  },
  {
   "attachments": {},
   "cell_type": "markdown",
   "metadata": {},
   "source": [
    "## [병합] 등록정보와 제원정보"
   ]
  },
  {
   "cell_type": "code",
   "execution_count": 52,
   "metadata": {},
   "outputs": [
    {
     "name": "stdout",
     "output_type": "stream",
     "text": [
      "<class 'pandas.core.frame.DataFrame'>\n",
      "Int64Index: 2377928 entries, 0 to 2377927\n",
      "Data columns (total 59 columns):\n",
      " #   Column        Dtype  \n",
      "---  ------        -----  \n",
      " 0   차량관리번호        object \n",
      " 1   차량등록번호        object \n",
      " 2   본거지법정동코드      int64  \n",
      " 3   소유자구분         object \n",
      " 4   차종_등록정보       object \n",
      " 5   용도            object \n",
      " 6   미정1_x         object \n",
      " 7   현재회원번호        object \n",
      " 8   미정2_x         object \n",
      " 9   미정3_x         object \n",
      " 10  차대번호          object \n",
      " 11  최초등록일자        int64  \n",
      " 12  차량연식          int64  \n",
      " 13  차량제작일자        float64\n",
      " 14  배출가스검사유효일자    float64\n",
      " 15  제원관리번호        object \n",
      " 16  배출가스인증번호      object \n",
      " 17  배출가스등급        object \n",
      " 18  저공해조치YN(미사용)  object \n",
      " 19  저공해조치종류       float64\n",
      " 20  저공해조치구조변경YN   object \n",
      " 21  미정4           float64\n",
      " 22  차량등록번호숫자정보    int64  \n",
      " 23  차량말소YN        object \n",
      " 24  미정5           object \n",
      " 25  최초회원번호        object \n",
      " 26  취득일자          float64\n",
      " 27  취득금액          float64\n",
      " 28  미정6           object \n",
      " 29  생성일시_등록정보     object \n",
      " 30  수정일시_등록정보     object \n",
      " 31  미정7           object \n",
      " 32  차명            object \n",
      " 33  차종_제원정보       object \n",
      " 34  차종분류          object \n",
      " 35  차종유형(소분류)     object \n",
      " 36  자동차형식         object \n",
      " 37  제작사명          object \n",
      " 38  연료            object \n",
      " 39  엔진형식          object \n",
      " 40  공차중량          float64\n",
      " 41  총중량           float64\n",
      " 42  적재중량          float64\n",
      " 43  엔진출력          float64\n",
      " 44  배기량           float64\n",
      " 45  승차인원          float64\n",
      " 46  차량길이          float64\n",
      " 47  차량너비          float64\n",
      " 48  차량높이          float64\n",
      " 49  원산지명          object \n",
      " 50  미정1_y         float64\n",
      " 51  삭제YN          object \n",
      " 52  승인일자          object \n",
      " 53  구동형식          object \n",
      " 54  변속기종류         object \n",
      " 55  미정2_y         object \n",
      " 56  생성일시_제원정보     object \n",
      " 57  수정일시_제원정보     object \n",
      " 58  미정3_y         object \n",
      "dtypes: float64(16), int64(4), object(39)\n",
      "memory usage: 1.1+ GB\n"
     ]
    }
   ],
   "source": [
    "total = df1.merge(df2, on='제원관리번호', how='left')\n",
    "total.info()"
   ]
  },
  {
   "attachments": {},
   "cell_type": "markdown",
   "metadata": {},
   "source": [
    "## [출력] 등록정보와 제원정보"
   ]
  },
  {
   "cell_type": "code",
   "execution_count": 53,
   "metadata": {},
   "outputs": [],
   "source": [
    "# about 1m\n",
    "total.to_csv(os.path.join(ods_fold, '[ODS][G5]등록정보&제원정보(중복차대제거)(2022.12.29).csv'), index=False, encoding='cp949')"
   ]
  },
  {
   "attachments": {},
   "cell_type": "markdown",
   "metadata": {},
   "source": [
    "# [ODS]1등급(말소제거)"
   ]
  },
  {
   "attachments": {},
   "cell_type": "markdown",
   "metadata": {},
   "source": [
    "## [로드]"
   ]
  },
  {
   "cell_type": "code",
   "execution_count": 55,
   "metadata": {},
   "outputs": [
    {
     "name": "stdout",
     "output_type": "stream",
     "text": [
      "<class 'pandas.core.frame.DataFrame'>\n",
      "RangeIndex: 2771361 entries, 0 to 2771360\n",
      "Data columns (total 32 columns):\n",
      " #   Column         Dtype  \n",
      "---  ------         -----  \n",
      " 0   차량관리번호         object \n",
      " 1   차량등록번호         object \n",
      " 2   본거지 법정동 코드     int64  \n",
      " 3   소유자 구분         object \n",
      " 4   차종             object \n",
      " 5   용도             object \n",
      " 6   미정             object \n",
      " 7   현재 회원번호        object \n",
      " 8   미정.1           object \n",
      " 9   미정.2           object \n",
      " 10  차대번호           object \n",
      " 11  최초 등록 일자       int64  \n",
      " 12  차량 연식          int64  \n",
      " 13  차량 제작 일자       float64\n",
      " 14  배출가스검사유효일자     float64\n",
      " 15  제원관리번호         object \n",
      " 16  배출가스 인증번호      object \n",
      " 17  배출가스 등급        int64  \n",
      " 18  저공해조치 YN(미사용)  object \n",
      " 19  저공해조치 종류       float64\n",
      " 20  저공해조치 구조변경 YN  object \n",
      " 21  미정.3           float64\n",
      " 22  차량등록번호 숫자 정보   int64  \n",
      " 23  차량 말소 YN       object \n",
      " 24  미정.4           object \n",
      " 25  최초 회원번호        object \n",
      " 26  취득 일자          float64\n",
      " 27  취득 금액          float64\n",
      " 28  미정.5           object \n",
      " 29  생성 일시          object \n",
      " 30  수정 일시          object \n",
      " 31  미정.6           object \n",
      "dtypes: float64(6), int64(5), object(21)\n",
      "memory usage: 676.6+ MB\n"
     ]
    }
   ],
   "source": [
    "# about 1m 10s\n",
    "grade = 1\n",
    "file_name = f'[ODS][G{grade}]자동차_등록정보(말소제거)(중복차대제거)(2022.12.29).csv'\n",
    "ods_path = os.path.join(ods_fold, file_name)\n",
    "df1 = pd.read_csv(ods_path, low_memory=False, encoding='cp949')\n",
    "df1.info()"
   ]
  },
  {
   "cell_type": "code",
   "execution_count": 56,
   "metadata": {},
   "outputs": [
    {
     "name": "stdout",
     "output_type": "stream",
     "text": [
      "<class 'pandas.core.frame.DataFrame'>\n",
      "RangeIndex: 545374 entries, 0 to 545373\n",
      "Data columns (total 28 columns):\n",
      " #   Column       Non-Null Count   Dtype  \n",
      "---  ------       --------------   -----  \n",
      " 0   제원관리번호       545374 non-null  object \n",
      " 1   차명           545272 non-null  object \n",
      " 2   차종           545370 non-null  object \n",
      " 3   차종 분류        531367 non-null  object \n",
      " 4   차종 유형 (소분류)  531332 non-null  object \n",
      " 5   자동차 형식       516295 non-null  object \n",
      " 6   제작사 명        529017 non-null  object \n",
      " 7   연료           503254 non-null  object \n",
      " 8   엔진형식         494157 non-null  object \n",
      " 9   공차중량         0 non-null       float64\n",
      " 10  총 중량         541702 non-null  float64\n",
      " 11  적재 중량        446181 non-null  float64\n",
      " 12  엔진출력         471948 non-null  float64\n",
      " 13  배기량          510521 non-null  float64\n",
      " 14  승차 인원        545313 non-null  float64\n",
      " 15  차량 길이        514786 non-null  float64\n",
      " 16  차량 너비        514799 non-null  float64\n",
      " 17  차량 높이        514732 non-null  float64\n",
      " 18  원산지 명        540392 non-null  object \n",
      " 19  미정           0 non-null       float64\n",
      " 20  삭제 YN        545374 non-null  object \n",
      " 21  승인 일자        532881 non-null  object \n",
      " 22  구동 형식        114619 non-null  object \n",
      " 23  변속기 종류       540165 non-null  object \n",
      " 24  미정.1         1 non-null       object \n",
      " 25  생성 일시        545374 non-null  object \n",
      " 26  수정 일시        14578 non-null   object \n",
      " 27  미정.2         545374 non-null  object \n",
      "dtypes: float64(10), object(18)\n",
      "memory usage: 116.5+ MB\n"
     ]
    }
   ],
   "source": [
    "# about 3s\n",
    "file_name = '[ODS]자동차_제원정보(2022.12.29).csv'\n",
    "ods_path = os.path.join(ods_fold, file_name)\n",
    "df2 = pd.read_csv(ods_path, low_memory=False, encoding='cp949')\n",
    "df2.info()"
   ]
  },
  {
   "attachments": {},
   "cell_type": "markdown",
   "metadata": {},
   "source": [
    "### 정리\n",
    "- 컬럼명, 컬럼순서, 컬럼"
   ]
  },
  {
   "cell_type": "code",
   "execution_count": 57,
   "metadata": {},
   "outputs": [
    {
     "data": {
      "text/plain": [
       "Index(['차량관리번호', '차량등록번호', '본거지 법정동 코드', '소유자 구분', '차종', '용도', '미정', '현재 회원번호',\n",
       "       '미정.1', '미정.2', '차대번호', '최초 등록 일자', '차량 연식', '차량 제작 일자', '배출가스검사유효일자',\n",
       "       '제원관리번호', '배출가스 인증번호', '배출가스 등급', '저공해조치 YN(미사용)', '저공해조치 종류',\n",
       "       '저공해조치 구조변경 YN', '미정.3', '차량등록번호 숫자 정보', '차량 말소 YN', '미정.4', '최초 회원번호',\n",
       "       '취득 일자', '취득 금액', '미정.5', '생성 일시', '수정 일시', '미정.6'],\n",
       "      dtype='object')"
      ]
     },
     "execution_count": 57,
     "metadata": {},
     "output_type": "execute_result"
    }
   ],
   "source": [
    "df1.columns"
   ]
  },
  {
   "cell_type": "code",
   "execution_count": 58,
   "metadata": {},
   "outputs": [],
   "source": [
    "df1.columns = ['차량관리번호', '차량등록번호', '본거지법정동코드', '소유자구분', '차종_등록정보', '용도', '미정1', '현재회원번호', '미정2', '미정3', '차대번호', '최초등록일자', '차량연식', '차량제작일자', \n",
    "               '배출가스검사유효일자', '제원관리번호', '배출가스인증번호', '배출가스등급', '저공해조치YN(미사용)', '저공해조치종류', '저공해조치구조변경YN', '미정4', '차량등록번호숫자정보', '차량말소YN', '미정5', '최초회원번호', '취득일자', '취득금액', '미정6', '생성일시_등록정보', '수정일시_등록정보', '미정7']"
   ]
  },
  {
   "cell_type": "code",
   "execution_count": 59,
   "metadata": {},
   "outputs": [
    {
     "data": {
      "text/plain": [
       "Index(['제원관리번호', '차명', '차종', '차종 분류', '차종 유형 (소분류)', '자동차 형식', '제작사 명', '연료',\n",
       "       '엔진형식', '공차중량', '총 중량', '적재 중량', '엔진출력', '배기량', '승차 인원', '차량 길이',\n",
       "       '차량 너비', '차량 높이', '원산지 명', '미정', '삭제 YN', '승인 일자', '구동 형식', '변속기 종류',\n",
       "       '미정.1', '생성 일시', '수정 일시', '미정.2'],\n",
       "      dtype='object')"
      ]
     },
     "execution_count": 59,
     "metadata": {},
     "output_type": "execute_result"
    }
   ],
   "source": [
    "df2.columns"
   ]
  },
  {
   "cell_type": "code",
   "execution_count": 60,
   "metadata": {},
   "outputs": [],
   "source": [
    "df2.columns = ['제원관리번호', '차명', '차종_제원정보', '차종분류', '차종유형(소분류)', '자동차형식', '제작사명', '연료',\n",
    "       '엔진형식', '공차중량', '총중량', '적재중량', '엔진출력', '배기량', '승차인원', '차량길이',\n",
    "       '차량너비', '차량높이', '원산지명', '미정1', '삭제YN', '승인일자', '구동형식', '변속기종류',\n",
    "       '미정2', '생성일시_제원정보', '수정일시_제원정보', '미정3']"
   ]
  },
  {
   "cell_type": "code",
   "execution_count": 61,
   "metadata": {},
   "outputs": [
    {
     "data": {
      "text/plain": [
       "1    2771361\n",
       "Name: 배출가스등급, dtype: int64"
      ]
     },
     "execution_count": 61,
     "metadata": {},
     "output_type": "execute_result"
    }
   ],
   "source": [
    "df1['배출가스등급'].value_counts()"
   ]
  },
  {
   "attachments": {},
   "cell_type": "markdown",
   "metadata": {},
   "source": [
    "## [병합] 등록정보와 제원정보"
   ]
  },
  {
   "cell_type": "code",
   "execution_count": 62,
   "metadata": {},
   "outputs": [
    {
     "name": "stdout",
     "output_type": "stream",
     "text": [
      "<class 'pandas.core.frame.DataFrame'>\n",
      "Int64Index: 2771361 entries, 0 to 2771360\n",
      "Data columns (total 59 columns):\n",
      " #   Column        Dtype  \n",
      "---  ------        -----  \n",
      " 0   차량관리번호        object \n",
      " 1   차량등록번호        object \n",
      " 2   본거지법정동코드      int64  \n",
      " 3   소유자구분         object \n",
      " 4   차종_등록정보       object \n",
      " 5   용도            object \n",
      " 6   미정1_x         object \n",
      " 7   현재회원번호        object \n",
      " 8   미정2_x         object \n",
      " 9   미정3_x         object \n",
      " 10  차대번호          object \n",
      " 11  최초등록일자        int64  \n",
      " 12  차량연식          int64  \n",
      " 13  차량제작일자        float64\n",
      " 14  배출가스검사유효일자    float64\n",
      " 15  제원관리번호        object \n",
      " 16  배출가스인증번호      object \n",
      " 17  배출가스등급        int64  \n",
      " 18  저공해조치YN(미사용)  object \n",
      " 19  저공해조치종류       float64\n",
      " 20  저공해조치구조변경YN   object \n",
      " 21  미정4           float64\n",
      " 22  차량등록번호숫자정보    int64  \n",
      " 23  차량말소YN        object \n",
      " 24  미정5           object \n",
      " 25  최초회원번호        object \n",
      " 26  취득일자          float64\n",
      " 27  취득금액          float64\n",
      " 28  미정6           object \n",
      " 29  생성일시_등록정보     object \n",
      " 30  수정일시_등록정보     object \n",
      " 31  미정7           object \n",
      " 32  차명            object \n",
      " 33  차종_제원정보       object \n",
      " 34  차종분류          object \n",
      " 35  차종유형(소분류)     object \n",
      " 36  자동차형식         object \n",
      " 37  제작사명          object \n",
      " 38  연료            object \n",
      " 39  엔진형식          object \n",
      " 40  공차중량          float64\n",
      " 41  총중량           float64\n",
      " 42  적재중량          float64\n",
      " 43  엔진출력          float64\n",
      " 44  배기량           float64\n",
      " 45  승차인원          float64\n",
      " 46  차량길이          float64\n",
      " 47  차량너비          float64\n",
      " 48  차량높이          float64\n",
      " 49  원산지명          object \n",
      " 50  미정1_y         float64\n",
      " 51  삭제YN          object \n",
      " 52  승인일자          object \n",
      " 53  구동형식          object \n",
      " 54  변속기종류         object \n",
      " 55  미정2_y         object \n",
      " 56  생성일시_제원정보     object \n",
      " 57  수정일시_제원정보     object \n",
      " 58  미정3_y         object \n",
      "dtypes: float64(16), int64(5), object(38)\n",
      "memory usage: 1.2+ GB\n"
     ]
    }
   ],
   "source": [
    "total = df1.merge(df2, on='제원관리번호', how='left')\n",
    "total.info()"
   ]
  },
  {
   "attachments": {},
   "cell_type": "markdown",
   "metadata": {},
   "source": [
    "## [출력] 등록정보와 제원정보"
   ]
  },
  {
   "cell_type": "code",
   "execution_count": 63,
   "metadata": {},
   "outputs": [],
   "source": [
    "# about 2m\n",
    "total.to_csv(os.path.join(ods_fold, f'[ODS][G{grade}]등록정보&제원정보(말소제거)(중복차대제거)(2022.12.29).csv'), index=False, encoding='cp949')"
   ]
  },
  {
   "attachments": {},
   "cell_type": "markdown",
   "metadata": {},
   "source": [
    "# [ODS]2등급(말소제거)"
   ]
  },
  {
   "attachments": {},
   "cell_type": "markdown",
   "metadata": {},
   "source": [
    "## [로드]"
   ]
  },
  {
   "cell_type": "code",
   "execution_count": 64,
   "metadata": {},
   "outputs": [
    {
     "name": "stdout",
     "output_type": "stream",
     "text": [
      "<class 'pandas.core.frame.DataFrame'>\n",
      "RangeIndex: 11207276 entries, 0 to 11207275\n",
      "Data columns (total 32 columns):\n",
      " #   Column         Dtype  \n",
      "---  ------         -----  \n",
      " 0   차량관리번호         object \n",
      " 1   차량등록번호         object \n",
      " 2   본거지 법정동 코드     int64  \n",
      " 3   소유자 구분         object \n",
      " 4   차종             object \n",
      " 5   용도             object \n",
      " 6   미정             object \n",
      " 7   현재 회원번호        object \n",
      " 8   미정.1           object \n",
      " 9   미정.2           object \n",
      " 10  차대번호           object \n",
      " 11  최초 등록 일자       int64  \n",
      " 12  차량 연식          int64  \n",
      " 13  차량 제작 일자       float64\n",
      " 14  배출가스검사유효일자     float64\n",
      " 15  제원관리번호         object \n",
      " 16  배출가스 인증번호      object \n",
      " 17  배출가스 등급        object \n",
      " 18  저공해조치 YN(미사용)  object \n",
      " 19  저공해조치 종류       float64\n",
      " 20  저공해조치 구조변경 YN  object \n",
      " 21  미정.3           float64\n",
      " 22  차량등록번호 숫자 정보   int64  \n",
      " 23  차량 말소 YN       object \n",
      " 24  미정.4           object \n",
      " 25  최초 회원번호        object \n",
      " 26  취득 일자          float64\n",
      " 27  취득 금액          float64\n",
      " 28  미정.5           object \n",
      " 29  생성 일시          object \n",
      " 30  수정 일시          object \n",
      " 31  미정.6           object \n",
      "dtypes: float64(6), int64(4), object(22)\n",
      "memory usage: 2.7+ GB\n"
     ]
    }
   ],
   "source": [
    "# about 4m\n",
    "grade = 2\n",
    "file_name = f'[ODS][G{grade}]자동차_등록정보(말소제거)(중복차대제거)(2022.12.29).csv'\n",
    "ods_path = os.path.join(ods_fold, file_name)\n",
    "df1 = pd.read_csv(ods_path, low_memory=False, encoding='cp949')\n",
    "df1.info()"
   ]
  },
  {
   "attachments": {},
   "cell_type": "markdown",
   "metadata": {},
   "source": [
    "### 정리\n",
    "- 컬럼명, 컬럼순서, 컬럼"
   ]
  },
  {
   "cell_type": "code",
   "execution_count": 65,
   "metadata": {},
   "outputs": [
    {
     "data": {
      "text/plain": [
       "Index(['차량관리번호', '차량등록번호', '본거지 법정동 코드', '소유자 구분', '차종', '용도', '미정', '현재 회원번호',\n",
       "       '미정.1', '미정.2', '차대번호', '최초 등록 일자', '차량 연식', '차량 제작 일자', '배출가스검사유효일자',\n",
       "       '제원관리번호', '배출가스 인증번호', '배출가스 등급', '저공해조치 YN(미사용)', '저공해조치 종류',\n",
       "       '저공해조치 구조변경 YN', '미정.3', '차량등록번호 숫자 정보', '차량 말소 YN', '미정.4', '최초 회원번호',\n",
       "       '취득 일자', '취득 금액', '미정.5', '생성 일시', '수정 일시', '미정.6'],\n",
       "      dtype='object')"
      ]
     },
     "execution_count": 65,
     "metadata": {},
     "output_type": "execute_result"
    }
   ],
   "source": [
    "df1.columns"
   ]
  },
  {
   "cell_type": "code",
   "execution_count": 66,
   "metadata": {},
   "outputs": [],
   "source": [
    "df1.columns = ['차량관리번호', '차량등록번호', '본거지법정동코드', '소유자구분', '차종_등록정보', '용도', '미정1', '현재회원번호', '미정2', '미정3', '차대번호', '최초등록일자', '차량연식', '차량제작일자', \n",
    "               '배출가스검사유효일자', '제원관리번호', '배출가스인증번호', '배출가스등급', '저공해조치YN(미사용)', '저공해조치종류', '저공해조치구조변경YN', '미정4', '차량등록번호숫자정보', '차량말소YN', '미정5', '최초회원번호', '취득일자', '취득금액', '미정6', '생성일시_등록정보', '수정일시_등록정보', '미정7']"
   ]
  },
  {
   "cell_type": "code",
   "execution_count": 67,
   "metadata": {},
   "outputs": [
    {
     "data": {
      "text/plain": [
       "2     10959799\n",
       "T2      247477\n",
       "Name: 배출가스등급, dtype: int64"
      ]
     },
     "execution_count": 67,
     "metadata": {},
     "output_type": "execute_result"
    }
   ],
   "source": [
    "df1['배출가스등급'].value_counts()"
   ]
  },
  {
   "attachments": {},
   "cell_type": "markdown",
   "metadata": {},
   "source": [
    "## [병합] 등록정보와 제원정보"
   ]
  },
  {
   "cell_type": "code",
   "execution_count": 68,
   "metadata": {},
   "outputs": [
    {
     "name": "stdout",
     "output_type": "stream",
     "text": [
      "<class 'pandas.core.frame.DataFrame'>\n",
      "Int64Index: 11207276 entries, 0 to 11207275\n",
      "Data columns (total 59 columns):\n",
      " #   Column        Dtype  \n",
      "---  ------        -----  \n",
      " 0   차량관리번호        object \n",
      " 1   차량등록번호        object \n",
      " 2   본거지법정동코드      int64  \n",
      " 3   소유자구분         object \n",
      " 4   차종_등록정보       object \n",
      " 5   용도            object \n",
      " 6   미정1_x         object \n",
      " 7   현재회원번호        object \n",
      " 8   미정2_x         object \n",
      " 9   미정3_x         object \n",
      " 10  차대번호          object \n",
      " 11  최초등록일자        int64  \n",
      " 12  차량연식          int64  \n",
      " 13  차량제작일자        float64\n",
      " 14  배출가스검사유효일자    float64\n",
      " 15  제원관리번호        object \n",
      " 16  배출가스인증번호      object \n",
      " 17  배출가스등급        object \n",
      " 18  저공해조치YN(미사용)  object \n",
      " 19  저공해조치종류       float64\n",
      " 20  저공해조치구조변경YN   object \n",
      " 21  미정4           float64\n",
      " 22  차량등록번호숫자정보    int64  \n",
      " 23  차량말소YN        object \n",
      " 24  미정5           object \n",
      " 25  최초회원번호        object \n",
      " 26  취득일자          float64\n",
      " 27  취득금액          float64\n",
      " 28  미정6           object \n",
      " 29  생성일시_등록정보     object \n",
      " 30  수정일시_등록정보     object \n",
      " 31  미정7           object \n",
      " 32  차명            object \n",
      " 33  차종_제원정보       object \n",
      " 34  차종분류          object \n",
      " 35  차종유형(소분류)     object \n",
      " 36  자동차형식         object \n",
      " 37  제작사명          object \n",
      " 38  연료            object \n",
      " 39  엔진형식          object \n",
      " 40  공차중량          float64\n",
      " 41  총중량           float64\n",
      " 42  적재중량          float64\n",
      " 43  엔진출력          float64\n",
      " 44  배기량           float64\n",
      " 45  승차인원          float64\n",
      " 46  차량길이          float64\n",
      " 47  차량너비          float64\n",
      " 48  차량높이          float64\n",
      " 49  원산지명          object \n",
      " 50  미정1_y         float64\n",
      " 51  삭제YN          object \n",
      " 52  승인일자          object \n",
      " 53  구동형식          object \n",
      " 54  변속기종류         object \n",
      " 55  미정2_y         object \n",
      " 56  생성일시_제원정보     object \n",
      " 57  수정일시_제원정보     object \n",
      " 58  미정3_y         object \n",
      "dtypes: float64(16), int64(4), object(39)\n",
      "memory usage: 5.0+ GB\n"
     ]
    }
   ],
   "source": [
    "total = df1.merge(df2, on='제원관리번호', how='left')\n",
    "total.info()"
   ]
  },
  {
   "attachments": {},
   "cell_type": "markdown",
   "metadata": {},
   "source": [
    "## [출력] 등록정보와 제원정보"
   ]
  },
  {
   "cell_type": "code",
   "execution_count": 69,
   "metadata": {},
   "outputs": [],
   "source": [
    "# about 6m 50s\n",
    "total.to_csv(os.path.join(ods_fold, f'[ODS][G{grade}]등록정보&제원정보(말소제거)(중복차대제거)(2022.12.29).csv'), index=False, encoding='cp949')"
   ]
  },
  {
   "attachments": {},
   "cell_type": "markdown",
   "metadata": {},
   "source": [
    "# [ODS]3등급(말소제거)"
   ]
  },
  {
   "attachments": {},
   "cell_type": "markdown",
   "metadata": {},
   "source": [
    "## [로드]"
   ]
  },
  {
   "cell_type": "code",
   "execution_count": 70,
   "metadata": {},
   "outputs": [
    {
     "name": "stdout",
     "output_type": "stream",
     "text": [
      "<class 'pandas.core.frame.DataFrame'>\n",
      "RangeIndex: 8759209 entries, 0 to 8759208\n",
      "Data columns (total 32 columns):\n",
      " #   Column         Dtype  \n",
      "---  ------         -----  \n",
      " 0   차량관리번호         object \n",
      " 1   차량등록번호         object \n",
      " 2   본거지 법정동 코드     int64  \n",
      " 3   소유자 구분         object \n",
      " 4   차종             object \n",
      " 5   용도             object \n",
      " 6   미정             object \n",
      " 7   현재 회원번호        object \n",
      " 8   미정.1           object \n",
      " 9   미정.2           object \n",
      " 10  차대번호           object \n",
      " 11  최초 등록 일자       int64  \n",
      " 12  차량 연식          int64  \n",
      " 13  차량 제작 일자       float64\n",
      " 14  배출가스검사유효일자     float64\n",
      " 15  제원관리번호         object \n",
      " 16  배출가스 인증번호      object \n",
      " 17  배출가스 등급        object \n",
      " 18  저공해조치 YN(미사용)  object \n",
      " 19  저공해조치 종류       float64\n",
      " 20  저공해조치 구조변경 YN  object \n",
      " 21  미정.3           float64\n",
      " 22  차량등록번호 숫자 정보   int64  \n",
      " 23  차량 말소 YN       object \n",
      " 24  미정.4           object \n",
      " 25  최초 회원번호        object \n",
      " 26  취득 일자          float64\n",
      " 27  취득 금액          float64\n",
      " 28  미정.5           object \n",
      " 29  생성 일시          object \n",
      " 30  수정 일시          object \n",
      " 31  미정.6           object \n",
      "dtypes: float64(6), int64(4), object(22)\n",
      "memory usage: 2.1+ GB\n"
     ]
    }
   ],
   "source": [
    "# about 3m 15s\n",
    "grade = 3\n",
    "file_name = f'[ODS][G{grade}]자동차_등록정보(말소제거)(중복차대제거)(2022.12.29).csv'\n",
    "ods_path = os.path.join(ods_fold, file_name)\n",
    "df1 = pd.read_csv(ods_path, low_memory=False, encoding='cp949')\n",
    "df1.info()"
   ]
  },
  {
   "attachments": {},
   "cell_type": "markdown",
   "metadata": {},
   "source": [
    "### 정리\n",
    "- 컬럼명, 컬럼순서, 컬럼"
   ]
  },
  {
   "cell_type": "code",
   "execution_count": 71,
   "metadata": {},
   "outputs": [
    {
     "data": {
      "text/plain": [
       "Index(['차량관리번호', '차량등록번호', '본거지 법정동 코드', '소유자 구분', '차종', '용도', '미정', '현재 회원번호',\n",
       "       '미정.1', '미정.2', '차대번호', '최초 등록 일자', '차량 연식', '차량 제작 일자', '배출가스검사유효일자',\n",
       "       '제원관리번호', '배출가스 인증번호', '배출가스 등급', '저공해조치 YN(미사용)', '저공해조치 종류',\n",
       "       '저공해조치 구조변경 YN', '미정.3', '차량등록번호 숫자 정보', '차량 말소 YN', '미정.4', '최초 회원번호',\n",
       "       '취득 일자', '취득 금액', '미정.5', '생성 일시', '수정 일시', '미정.6'],\n",
       "      dtype='object')"
      ]
     },
     "execution_count": 71,
     "metadata": {},
     "output_type": "execute_result"
    }
   ],
   "source": [
    "df1.columns"
   ]
  },
  {
   "cell_type": "code",
   "execution_count": 72,
   "metadata": {},
   "outputs": [],
   "source": [
    "df1.columns = ['차량관리번호', '차량등록번호', '본거지법정동코드', '소유자구분', '차종_등록정보', '용도', '미정1', '현재회원번호', '미정2', '미정3', '차대번호', '최초등록일자', '차량연식', '차량제작일자', \n",
    "               '배출가스검사유효일자', '제원관리번호', '배출가스인증번호', '배출가스등급', '저공해조치YN(미사용)', '저공해조치종류', '저공해조치구조변경YN', '미정4', '차량등록번호숫자정보', '차량말소YN', '미정5', '최초회원번호', '취득일자', '취득금액', '미정6', '생성일시_등록정보', '수정일시_등록정보', '미정7']"
   ]
  },
  {
   "cell_type": "code",
   "execution_count": 73,
   "metadata": {},
   "outputs": [
    {
     "data": {
      "text/plain": [
       "3     8622913\n",
       "T3     136296\n",
       "Name: 배출가스등급, dtype: int64"
      ]
     },
     "execution_count": 73,
     "metadata": {},
     "output_type": "execute_result"
    }
   ],
   "source": [
    "df1['배출가스등급'].value_counts()"
   ]
  },
  {
   "attachments": {},
   "cell_type": "markdown",
   "metadata": {},
   "source": [
    "## [병합] 등록정보와 제원정보"
   ]
  },
  {
   "cell_type": "code",
   "execution_count": 74,
   "metadata": {},
   "outputs": [
    {
     "name": "stdout",
     "output_type": "stream",
     "text": [
      "<class 'pandas.core.frame.DataFrame'>\n",
      "Int64Index: 8759209 entries, 0 to 8759208\n",
      "Data columns (total 59 columns):\n",
      " #   Column        Dtype  \n",
      "---  ------        -----  \n",
      " 0   차량관리번호        object \n",
      " 1   차량등록번호        object \n",
      " 2   본거지법정동코드      int64  \n",
      " 3   소유자구분         object \n",
      " 4   차종_등록정보       object \n",
      " 5   용도            object \n",
      " 6   미정1_x         object \n",
      " 7   현재회원번호        object \n",
      " 8   미정2_x         object \n",
      " 9   미정3_x         object \n",
      " 10  차대번호          object \n",
      " 11  최초등록일자        int64  \n",
      " 12  차량연식          int64  \n",
      " 13  차량제작일자        float64\n",
      " 14  배출가스검사유효일자    float64\n",
      " 15  제원관리번호        object \n",
      " 16  배출가스인증번호      object \n",
      " 17  배출가스등급        object \n",
      " 18  저공해조치YN(미사용)  object \n",
      " 19  저공해조치종류       float64\n",
      " 20  저공해조치구조변경YN   object \n",
      " 21  미정4           float64\n",
      " 22  차량등록번호숫자정보    int64  \n",
      " 23  차량말소YN        object \n",
      " 24  미정5           object \n",
      " 25  최초회원번호        object \n",
      " 26  취득일자          float64\n",
      " 27  취득금액          float64\n",
      " 28  미정6           object \n",
      " 29  생성일시_등록정보     object \n",
      " 30  수정일시_등록정보     object \n",
      " 31  미정7           object \n",
      " 32  차명            object \n",
      " 33  차종_제원정보       object \n",
      " 34  차종분류          object \n",
      " 35  차종유형(소분류)     object \n",
      " 36  자동차형식         object \n",
      " 37  제작사명          object \n",
      " 38  연료            object \n",
      " 39  엔진형식          object \n",
      " 40  공차중량          float64\n",
      " 41  총중량           float64\n",
      " 42  적재중량          float64\n",
      " 43  엔진출력          float64\n",
      " 44  배기량           float64\n",
      " 45  승차인원          float64\n",
      " 46  차량길이          float64\n",
      " 47  차량너비          float64\n",
      " 48  차량높이          float64\n",
      " 49  원산지명          object \n",
      " 50  미정1_y         float64\n",
      " 51  삭제YN          object \n",
      " 52  승인일자          object \n",
      " 53  구동형식          object \n",
      " 54  변속기종류         object \n",
      " 55  미정2_y         object \n",
      " 56  생성일시_제원정보     object \n",
      " 57  수정일시_제원정보     object \n",
      " 58  미정3_y         object \n",
      "dtypes: float64(16), int64(4), object(39)\n",
      "memory usage: 3.9+ GB\n"
     ]
    }
   ],
   "source": [
    "total = df1.merge(df2, on='제원관리번호', how='left')\n",
    "total.info()"
   ]
  },
  {
   "attachments": {},
   "cell_type": "markdown",
   "metadata": {},
   "source": [
    "## [출력] 등록정보와 제원정보"
   ]
  },
  {
   "cell_type": "code",
   "execution_count": 75,
   "metadata": {},
   "outputs": [],
   "source": [
    "# about 5m 21s\n",
    "total.to_csv(os.path.join(ods_fold, f'[ODS][G{grade}]등록정보&제원정보(말소제거)(중복차대제거)(2022.12.29).csv'), index=False, encoding='cp949')"
   ]
  },
  {
   "attachments": {},
   "cell_type": "markdown",
   "metadata": {},
   "source": [
    "# [ODS]4등급(말소제거)"
   ]
  },
  {
   "attachments": {},
   "cell_type": "markdown",
   "metadata": {},
   "source": [
    "## [로드]"
   ]
  },
  {
   "cell_type": "code",
   "execution_count": 76,
   "metadata": {},
   "outputs": [
    {
     "name": "stdout",
     "output_type": "stream",
     "text": [
      "<class 'pandas.core.frame.DataFrame'>\n",
      "RangeIndex: 1511139 entries, 0 to 1511138\n",
      "Data columns (total 32 columns):\n",
      " #   Column         Non-Null Count    Dtype  \n",
      "---  ------         --------------    -----  \n",
      " 0   차량관리번호         1511139 non-null  object \n",
      " 1   차량등록번호         1511139 non-null  object \n",
      " 2   본거지 법정동 코드     1511139 non-null  int64  \n",
      " 3   소유자 구분         1511139 non-null  object \n",
      " 4   차종             1511137 non-null  object \n",
      " 5   용도             1511139 non-null  object \n",
      " 6   미정             1511139 non-null  object \n",
      " 7   현재 회원번호        1510300 non-null  object \n",
      " 8   미정.1           1511139 non-null  object \n",
      " 9   미정.2           1511139 non-null  object \n",
      " 10  차대번호           1511139 non-null  object \n",
      " 11  최초 등록 일자       1511139 non-null  int64  \n",
      " 12  차량 연식          1511139 non-null  int64  \n",
      " 13  차량 제작 일자       1342367 non-null  float64\n",
      " 14  배출가스검사유효일자     1511127 non-null  float64\n",
      " 15  제원관리번호         1511139 non-null  object \n",
      " 16  배출가스 인증번호      1387441 non-null  object \n",
      " 17  배출가스 등급        1511139 non-null  object \n",
      " 18  저공해조치 YN(미사용)  1510984 non-null  object \n",
      " 19  저공해조치 종류       189 non-null      float64\n",
      " 20  저공해조치 구조변경 YN  1511139 non-null  object \n",
      " 21  미정.3           0 non-null        float64\n",
      " 22  차량등록번호 숫자 정보   1511139 non-null  int64  \n",
      " 23  차량 말소 YN       1511139 non-null  object \n",
      " 24  미정.4           1511118 non-null  object \n",
      " 25  최초 회원번호        1506484 non-null  object \n",
      " 26  취득 일자          1417927 non-null  object \n",
      " 27  취득 금액          1436738 non-null  float64\n",
      " 28  미정.5           403044 non-null   object \n",
      " 29  생성 일시          1511139 non-null  object \n",
      " 30  수정 일시          914957 non-null   object \n",
      " 31  미정.6           1511139 non-null  object \n",
      "dtypes: float64(5), int64(4), object(23)\n",
      "memory usage: 368.9+ MB\n"
     ]
    }
   ],
   "source": [
    "# about 35s\n",
    "grade = 4\n",
    "file_name = f'[ODS][G{grade}]자동차_등록정보(말소제거)(중복차대제거)(2022.12.29).csv'\n",
    "ods_path = os.path.join(ods_fold, file_name)\n",
    "df1 = pd.read_csv(ods_path, low_memory=False, encoding='cp949')\n",
    "df1.info()"
   ]
  },
  {
   "attachments": {},
   "cell_type": "markdown",
   "metadata": {},
   "source": [
    "### 정리\n",
    "- 컬럼명, 컬럼순서, 컬럼"
   ]
  },
  {
   "cell_type": "code",
   "execution_count": 77,
   "metadata": {},
   "outputs": [
    {
     "data": {
      "text/plain": [
       "Index(['차량관리번호', '차량등록번호', '본거지 법정동 코드', '소유자 구분', '차종', '용도', '미정', '현재 회원번호',\n",
       "       '미정.1', '미정.2', '차대번호', '최초 등록 일자', '차량 연식', '차량 제작 일자', '배출가스검사유효일자',\n",
       "       '제원관리번호', '배출가스 인증번호', '배출가스 등급', '저공해조치 YN(미사용)', '저공해조치 종류',\n",
       "       '저공해조치 구조변경 YN', '미정.3', '차량등록번호 숫자 정보', '차량 말소 YN', '미정.4', '최초 회원번호',\n",
       "       '취득 일자', '취득 금액', '미정.5', '생성 일시', '수정 일시', '미정.6'],\n",
       "      dtype='object')"
      ]
     },
     "execution_count": 77,
     "metadata": {},
     "output_type": "execute_result"
    }
   ],
   "source": [
    "df1.columns"
   ]
  },
  {
   "cell_type": "code",
   "execution_count": 78,
   "metadata": {},
   "outputs": [],
   "source": [
    "df1.columns = ['차량관리번호', '차량등록번호', '본거지법정동코드', '소유자구분', '차종_등록정보', '용도', '미정1', '현재회원번호', '미정2', '미정3', '차대번호', '최초등록일자', '차량연식', '차량제작일자', \n",
    "               '배출가스검사유효일자', '제원관리번호', '배출가스인증번호', '배출가스등급', '저공해조치YN(미사용)', '저공해조치종류', '저공해조치구조변경YN', '미정4', '차량등록번호숫자정보', '차량말소YN', '미정5', '최초회원번호', '취득일자', '취득금액', '미정6', '생성일시_등록정보', '수정일시_등록정보', '미정7']"
   ]
  },
  {
   "cell_type": "code",
   "execution_count": 79,
   "metadata": {},
   "outputs": [
    {
     "data": {
      "text/plain": [
       "4     1511102\n",
       "T4         37\n",
       "Name: 배출가스등급, dtype: int64"
      ]
     },
     "execution_count": 79,
     "metadata": {},
     "output_type": "execute_result"
    }
   ],
   "source": [
    "df1['배출가스등급'].value_counts()"
   ]
  },
  {
   "attachments": {},
   "cell_type": "markdown",
   "metadata": {},
   "source": [
    "## [병합] 등록정보와 제원정보"
   ]
  },
  {
   "cell_type": "code",
   "execution_count": 80,
   "metadata": {},
   "outputs": [
    {
     "name": "stdout",
     "output_type": "stream",
     "text": [
      "<class 'pandas.core.frame.DataFrame'>\n",
      "Int64Index: 1511139 entries, 0 to 1511138\n",
      "Data columns (total 59 columns):\n",
      " #   Column        Non-Null Count    Dtype  \n",
      "---  ------        --------------    -----  \n",
      " 0   차량관리번호        1511139 non-null  object \n",
      " 1   차량등록번호        1511139 non-null  object \n",
      " 2   본거지법정동코드      1511139 non-null  int64  \n",
      " 3   소유자구분         1511139 non-null  object \n",
      " 4   차종_등록정보       1511137 non-null  object \n",
      " 5   용도            1511139 non-null  object \n",
      " 6   미정1_x         1511139 non-null  object \n",
      " 7   현재회원번호        1510300 non-null  object \n",
      " 8   미정2_x         1511139 non-null  object \n",
      " 9   미정3_x         1511139 non-null  object \n",
      " 10  차대번호          1511139 non-null  object \n",
      " 11  최초등록일자        1511139 non-null  int64  \n",
      " 12  차량연식          1511139 non-null  int64  \n",
      " 13  차량제작일자        1342367 non-null  float64\n",
      " 14  배출가스검사유효일자    1511127 non-null  float64\n",
      " 15  제원관리번호        1511139 non-null  object \n",
      " 16  배출가스인증번호      1387441 non-null  object \n",
      " 17  배출가스등급        1511139 non-null  object \n",
      " 18  저공해조치YN(미사용)  1510984 non-null  object \n",
      " 19  저공해조치종류       189 non-null      float64\n",
      " 20  저공해조치구조변경YN   1511139 non-null  object \n",
      " 21  미정4           0 non-null        float64\n",
      " 22  차량등록번호숫자정보    1511139 non-null  int64  \n",
      " 23  차량말소YN        1511139 non-null  object \n",
      " 24  미정5           1511118 non-null  object \n",
      " 25  최초회원번호        1506484 non-null  object \n",
      " 26  취득일자          1417927 non-null  object \n",
      " 27  취득금액          1436738 non-null  float64\n",
      " 28  미정6           403044 non-null   object \n",
      " 29  생성일시_등록정보     1511139 non-null  object \n",
      " 30  수정일시_등록정보     914957 non-null   object \n",
      " 31  미정7           1511139 non-null  object \n",
      " 32  차명            1511139 non-null  object \n",
      " 33  차종_제원정보       1511139 non-null  object \n",
      " 34  차종분류          1511139 non-null  object \n",
      " 35  차종유형(소분류)     1511139 non-null  object \n",
      " 36  자동차형식         1510611 non-null  object \n",
      " 37  제작사명          1501112 non-null  object \n",
      " 38  연료            1511068 non-null  object \n",
      " 39  엔진형식          1509138 non-null  object \n",
      " 40  공차중량          0 non-null        float64\n",
      " 41  총중량           1511114 non-null  float64\n",
      " 42  적재중량          1510602 non-null  float64\n",
      " 43  엔진출력          1510511 non-null  float64\n",
      " 44  배기량           1511128 non-null  float64\n",
      " 45  승차인원          1511139 non-null  float64\n",
      " 46  차량길이          1511064 non-null  float64\n",
      " 47  차량너비          1511064 non-null  float64\n",
      " 48  차량높이          1511062 non-null  float64\n",
      " 49  원산지명          1492014 non-null  object \n",
      " 50  미정1_y         0 non-null        float64\n",
      " 51  삭제YN          1511139 non-null  object \n",
      " 52  승인일자          1510592 non-null  object \n",
      " 53  구동형식          47 non-null       object \n",
      " 54  변속기종류         1510979 non-null  object \n",
      " 55  미정2_y         0 non-null        object \n",
      " 56  생성일시_제원정보     1511139 non-null  object \n",
      " 57  수정일시_제원정보     497 non-null      object \n",
      " 58  미정3_y         1511139 non-null  object \n",
      "dtypes: float64(15), int64(4), object(40)\n",
      "memory usage: 691.7+ MB\n"
     ]
    }
   ],
   "source": [
    "total = df1.merge(df2, on='제원관리번호', how='left')\n",
    "total.info()"
   ]
  },
  {
   "attachments": {},
   "cell_type": "markdown",
   "metadata": {},
   "source": [
    "## [출력] 등록정보와 제원정보"
   ]
  },
  {
   "cell_type": "code",
   "execution_count": 81,
   "metadata": {},
   "outputs": [],
   "source": [
    "# about 53s\n",
    "total.to_csv(os.path.join(ods_fold, f'[ODS][G{grade}]등록정보&제원정보(말소제거)(중복차대제거)(2022.12.29).csv'), index=False, encoding='cp949')"
   ]
  },
  {
   "attachments": {},
   "cell_type": "markdown",
   "metadata": {},
   "source": [
    "# [ODS]5등급(말소제거)"
   ]
  },
  {
   "attachments": {},
   "cell_type": "markdown",
   "metadata": {},
   "source": [
    "## [로드]"
   ]
  },
  {
   "cell_type": "code",
   "execution_count": 82,
   "metadata": {},
   "outputs": [
    {
     "name": "stdout",
     "output_type": "stream",
     "text": [
      "<class 'pandas.core.frame.DataFrame'>\n",
      "RangeIndex: 1154696 entries, 0 to 1154695\n",
      "Data columns (total 32 columns):\n",
      " #   Column         Non-Null Count    Dtype  \n",
      "---  ------         --------------    -----  \n",
      " 0   차량관리번호         1154696 non-null  object \n",
      " 1   차량등록번호         1154696 non-null  object \n",
      " 2   본거지 법정동 코드     1154696 non-null  int64  \n",
      " 3   소유자 구분         1154696 non-null  object \n",
      " 4   차종             1154684 non-null  object \n",
      " 5   용도             1154696 non-null  object \n",
      " 6   미정             1154695 non-null  object \n",
      " 7   현재 회원번호        1146027 non-null  object \n",
      " 8   미정.1           1154676 non-null  object \n",
      " 9   미정.2           1154696 non-null  object \n",
      " 10  차대번호           1154696 non-null  object \n",
      " 11  최초 등록 일자       1154696 non-null  int64  \n",
      " 12  차량 연식          1154696 non-null  int64  \n",
      " 13  차량 제작 일자       959021 non-null   float64\n",
      " 14  배출가스검사유효일자     1154184 non-null  float64\n",
      " 15  제원관리번호         1154696 non-null  object \n",
      " 16  배출가스 인증번호      542912 non-null   object \n",
      " 17  배출가스 등급        1154696 non-null  object \n",
      " 18  저공해조치 YN(미사용)  1154622 non-null  object \n",
      " 19  저공해조치 종류       361615 non-null   float64\n",
      " 20  저공해조치 구조변경 YN  1154696 non-null  object \n",
      " 21  미정.3           0 non-null        float64\n",
      " 22  차량등록번호 숫자 정보   1154696 non-null  int64  \n",
      " 23  차량 말소 YN       1154696 non-null  object \n",
      " 24  미정.4           1154683 non-null  object \n",
      " 25  최초 회원번호        1129421 non-null  object \n",
      " 26  취득 일자          1014477 non-null  float64\n",
      " 27  취득 금액          1040404 non-null  float64\n",
      " 28  미정.5           219219 non-null   object \n",
      " 29  생성 일시          1154696 non-null  object \n",
      " 30  수정 일시          556064 non-null   object \n",
      " 31  미정.6           1154696 non-null  object \n",
      "dtypes: float64(6), int64(4), object(22)\n",
      "memory usage: 281.9+ MB\n"
     ]
    }
   ],
   "source": [
    "# about 30s\n",
    "grade = 5\n",
    "file_name = f'[ODS][G{grade}]자동차_등록정보(말소제거)(중복차대제거)(2022.12.29).csv'\n",
    "ods_path = os.path.join(ods_fold, file_name)\n",
    "df1 = pd.read_csv(ods_path, low_memory=False, encoding='cp949')\n",
    "df1.info()"
   ]
  },
  {
   "attachments": {},
   "cell_type": "markdown",
   "metadata": {},
   "source": [
    "### 정리\n",
    "- 컬럼명, 컬럼순서, 컬럼"
   ]
  },
  {
   "cell_type": "code",
   "execution_count": 83,
   "metadata": {},
   "outputs": [
    {
     "data": {
      "text/plain": [
       "Index(['차량관리번호', '차량등록번호', '본거지 법정동 코드', '소유자 구분', '차종', '용도', '미정', '현재 회원번호',\n",
       "       '미정.1', '미정.2', '차대번호', '최초 등록 일자', '차량 연식', '차량 제작 일자', '배출가스검사유효일자',\n",
       "       '제원관리번호', '배출가스 인증번호', '배출가스 등급', '저공해조치 YN(미사용)', '저공해조치 종류',\n",
       "       '저공해조치 구조변경 YN', '미정.3', '차량등록번호 숫자 정보', '차량 말소 YN', '미정.4', '최초 회원번호',\n",
       "       '취득 일자', '취득 금액', '미정.5', '생성 일시', '수정 일시', '미정.6'],\n",
       "      dtype='object')"
      ]
     },
     "execution_count": 83,
     "metadata": {},
     "output_type": "execute_result"
    }
   ],
   "source": [
    "df1.columns"
   ]
  },
  {
   "cell_type": "code",
   "execution_count": 84,
   "metadata": {},
   "outputs": [],
   "source": [
    "df1.columns = ['차량관리번호', '차량등록번호', '본거지법정동코드', '소유자구분', '차종_등록정보', '용도', '미정1', '현재회원번호', '미정2', '미정3', '차대번호', '최초등록일자', '차량연식', '차량제작일자', \n",
    "               '배출가스검사유효일자', '제원관리번호', '배출가스인증번호', '배출가스등급', '저공해조치YN(미사용)', '저공해조치종류', '저공해조치구조변경YN', '미정4', '차량등록번호숫자정보', '차량말소YN', '미정5', '최초회원번호', '취득일자', '취득금액', '미정6', '생성일시_등록정보', '수정일시_등록정보', '미정7']"
   ]
  },
  {
   "cell_type": "code",
   "execution_count": 85,
   "metadata": {},
   "outputs": [
    {
     "data": {
      "text/plain": [
       "5     1154668\n",
       "T5         28\n",
       "Name: 배출가스등급, dtype: int64"
      ]
     },
     "execution_count": 85,
     "metadata": {},
     "output_type": "execute_result"
    }
   ],
   "source": [
    "df1['배출가스등급'].value_counts()"
   ]
  },
  {
   "attachments": {},
   "cell_type": "markdown",
   "metadata": {},
   "source": [
    "## [병합] 등록정보와 제원정보"
   ]
  },
  {
   "cell_type": "code",
   "execution_count": 86,
   "metadata": {},
   "outputs": [
    {
     "name": "stdout",
     "output_type": "stream",
     "text": [
      "<class 'pandas.core.frame.DataFrame'>\n",
      "Int64Index: 1154696 entries, 0 to 1154695\n",
      "Data columns (total 59 columns):\n",
      " #   Column        Non-Null Count    Dtype  \n",
      "---  ------        --------------    -----  \n",
      " 0   차량관리번호        1154696 non-null  object \n",
      " 1   차량등록번호        1154696 non-null  object \n",
      " 2   본거지법정동코드      1154696 non-null  int64  \n",
      " 3   소유자구분         1154696 non-null  object \n",
      " 4   차종_등록정보       1154684 non-null  object \n",
      " 5   용도            1154696 non-null  object \n",
      " 6   미정1_x         1154695 non-null  object \n",
      " 7   현재회원번호        1146027 non-null  object \n",
      " 8   미정2_x         1154676 non-null  object \n",
      " 9   미정3_x         1154696 non-null  object \n",
      " 10  차대번호          1154696 non-null  object \n",
      " 11  최초등록일자        1154696 non-null  int64  \n",
      " 12  차량연식          1154696 non-null  int64  \n",
      " 13  차량제작일자        959021 non-null   float64\n",
      " 14  배출가스검사유효일자    1154184 non-null  float64\n",
      " 15  제원관리번호        1154696 non-null  object \n",
      " 16  배출가스인증번호      542912 non-null   object \n",
      " 17  배출가스등급        1154696 non-null  object \n",
      " 18  저공해조치YN(미사용)  1154622 non-null  object \n",
      " 19  저공해조치종류       361615 non-null   float64\n",
      " 20  저공해조치구조변경YN   1154696 non-null  object \n",
      " 21  미정4           0 non-null        float64\n",
      " 22  차량등록번호숫자정보    1154696 non-null  int64  \n",
      " 23  차량말소YN        1154696 non-null  object \n",
      " 24  미정5           1154683 non-null  object \n",
      " 25  최초회원번호        1129421 non-null  object \n",
      " 26  취득일자          1014477 non-null  float64\n",
      " 27  취득금액          1040404 non-null  float64\n",
      " 28  미정6           219219 non-null   object \n",
      " 29  생성일시_등록정보     1154696 non-null  object \n",
      " 30  수정일시_등록정보     556064 non-null   object \n",
      " 31  미정7           1154696 non-null  object \n",
      " 32  차명            1154695 non-null  object \n",
      " 33  차종_제원정보       1154696 non-null  object \n",
      " 34  차종분류          1154696 non-null  object \n",
      " 35  차종유형(소분류)     1154696 non-null  object \n",
      " 36  자동차형식         1154174 non-null  object \n",
      " 37  제작사명          1151478 non-null  object \n",
      " 38  연료            1154669 non-null  object \n",
      " 39  엔진형식          1151192 non-null  object \n",
      " 40  공차중량          0 non-null        float64\n",
      " 41  총중량           1154695 non-null  float64\n",
      " 42  적재중량          1154685 non-null  float64\n",
      " 43  엔진출력          1154386 non-null  float64\n",
      " 44  배기량           1154694 non-null  float64\n",
      " 45  승차인원          1154695 non-null  float64\n",
      " 46  차량길이          1154695 non-null  float64\n",
      " 47  차량너비          1154695 non-null  float64\n",
      " 48  차량높이          1154695 non-null  float64\n",
      " 49  원산지명          1113073 non-null  object \n",
      " 50  미정1_y         0 non-null        float64\n",
      " 51  삭제YN          1154696 non-null  object \n",
      " 52  승인일자          1153503 non-null  object \n",
      " 53  구동형식          7 non-null        object \n",
      " 54  변속기종류         1154694 non-null  object \n",
      " 55  미정2_y         1 non-null        object \n",
      " 56  생성일시_제원정보     1154696 non-null  object \n",
      " 57  수정일시_제원정보     218 non-null      object \n",
      " 58  미정3_y         1154696 non-null  object \n",
      "dtypes: float64(16), int64(4), object(39)\n",
      "memory usage: 528.6+ MB\n"
     ]
    }
   ],
   "source": [
    "total = df1.merge(df2, on='제원관리번호', how='left')\n",
    "total.info()"
   ]
  },
  {
   "attachments": {},
   "cell_type": "markdown",
   "metadata": {},
   "source": [
    "## [출력] 등록정보와 제원정보"
   ]
  },
  {
   "cell_type": "code",
   "execution_count": 87,
   "metadata": {},
   "outputs": [],
   "source": [
    "# about 40s\n",
    "total.to_csv(os.path.join(ods_fold, f'[ODS][G{grade}]등록정보&제원정보(말소제거)(중복차대제거)(2022.12.29).csv'), index=False, encoding='cp949')"
   ]
  },
  {
   "cell_type": "markdown",
   "metadata": {},
   "source": [
    "# 코드 마지막"
   ]
  }
 ],
 "metadata": {
  "kernelspec": {
   "display_name": "base",
   "language": "python",
   "name": "python3"
  },
  "language_info": {
   "codemirror_mode": {
    "name": "ipython",
    "version": 3
   },
   "file_extension": ".py",
   "mimetype": "text/x-python",
   "name": "python",
   "nbconvert_exporter": "python",
   "pygments_lexer": "ipython3",
   "version": "3.9.13 (main, Aug 25 2022, 23:51:50) [MSC v.1916 64 bit (AMD64)]"
  },
  "orig_nbformat": 4,
  "vscode": {
   "interpreter": {
    "hash": "ad2bdc8ecc057115af97d19610ffacc2b4e99fae6737bb82f5d7fb13d2f2c186"
   }
  }
 },
 "nbformat": 4,
 "nbformat_minor": 2
}
