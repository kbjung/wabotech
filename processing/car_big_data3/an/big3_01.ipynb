{
 "cells": [
  {
   "cell_type": "markdown",
   "metadata": {},
   "source": [
    "# 자동차 환경 빅데이터 3차\n",
    "- 과제2 : 건설기계 배출가스 관리 체게 구축\n",
    "- 과제4 : 배출가스 전문정비제도 관리체계 구축\n",
    "- 과제5 : 자동차 환경 빅데이터 제작사 공동 활용체게 구축"
   ]
  },
  {
   "cell_type": "markdown",
   "metadata": {},
   "source": [
    "# Library"
   ]
  },
  {
   "cell_type": "code",
   "execution_count": 1,
   "metadata": {},
   "outputs": [],
   "source": [
    "import pandas as pd\n",
    "import os\n",
    "import numpy as np"
   ]
  },
  {
   "cell_type": "markdown",
   "metadata": {},
   "source": [
    "# Fold"
   ]
  },
  {
   "cell_type": "code",
   "execution_count": 4,
   "metadata": {},
   "outputs": [
    {
     "data": {
      "text/plain": [
       "{'raw_fold': 'D:/data/processing/big3/raw',\n",
       " 'an_fold': 'D:/data/processing/big3/analysis',\n",
       " 'df_fold': 'D:/data/processing/big3/df'}"
      ]
     },
     "execution_count": 4,
     "metadata": {},
     "output_type": "execute_result"
    }
   ],
   "source": [
    "raw_fold = 'D:/data/processing/big3/raw'\n",
    "an_fold = 'D:/data/processing/big3/analysis'\n",
    "df_fold = 'D:/data/processing/big3/df'\n",
    "folds = {'raw_fold':raw_fold, 'an_fold':an_fold, 'df_fold':df_fold}\n",
    "folds"
   ]
  },
  {
   "cell_type": "markdown",
   "metadata": {},
   "source": [
    "# Load\n",
    "- 자동차전문정비 : STD_TB_ERR_RES\n",
    "- 자동차전문정비상세 : STD_TB_ERR_RES_DET\n",
    "- 구조변경검사 : STD_DLM_TB_ERP_GUBUN_BAECHUL"
   ]
  },
  {
   "cell_type": "markdown",
   "metadata": {},
   "source": [
    "## 전문정비(STD_TB_ERR_RES)"
   ]
  },
  {
   "cell_type": "code",
   "execution_count": 5,
   "metadata": {},
   "outputs": [
    {
     "name": "stdout",
     "output_type": "stream",
     "text": [
      "<class 'pandas.core.frame.DataFrame'>\n",
      "RangeIndex: 54617 entries, 0 to 54616\n",
      "Data columns (total 16 columns):\n",
      " #   Column                 Non-Null Count  Dtype  \n",
      "---  ------                 --------------  -----  \n",
      " 0   DRVNG_DSTNC            54617 non-null  float64\n",
      " 1   VHRNO                  54617 non-null  object \n",
      " 2   VIN                    51051 non-null  object \n",
      " 3   LOD_COX_MEVLU          53884 non-null  object \n",
      " 4   LOD_HC_MEVLU           53886 non-null  object \n",
      " 5   LOD_NOX_MEVLU          53883 non-null  object \n",
      " 6   LOD_SMO_MEVLU          53941 non-null  object \n",
      " 7   LOD_TQ_MEVLU           53819 non-null  object \n",
      " 8   OVHUL_YMD              54617 non-null  int64  \n",
      " 9   SPCY_OVHUL_BIZPLC_NM   54617 non-null  object \n",
      " 10  OVHUL_RCPT_NO          54617 non-null  int64  \n",
      " 11  PRCINSP_RINSP_RCPT_NO  54617 non-null  object \n",
      " 12  NOLOD_COX_MEVLU        53870 non-null  object \n",
      " 13  NOLOD_HC_MEVLU         53871 non-null  object \n",
      " 14  NOLOD_AIR_EXCRT_MEVLU  28484 non-null  object \n",
      " 15  NOLOD_SMO_MEVLU        50992 non-null  object \n",
      "dtypes: float64(1), int64(2), object(13)\n",
      "memory usage: 6.7+ MB\n"
     ]
    }
   ],
   "source": [
    "# 0.3s\n",
    "name = 'STD_TB_ERR_RES(20231011)'\n",
    "file_name = f'{name}.csv'\n",
    "er = pd.read_csv(os.path.join(raw_fold, file_name), low_memory=False)\n",
    "er.info()"
   ]
  },
  {
   "cell_type": "markdown",
   "metadata": {},
   "source": [
    "## 전문정비상세(STD_TB_ERR_RES_DET)"
   ]
  },
  {
   "cell_type": "code",
   "execution_count": 6,
   "metadata": {},
   "outputs": [
    {
     "name": "stdout",
     "output_type": "stream",
     "text": [
      "<class 'pandas.core.frame.DataFrame'>\n",
      "RangeIndex: 106819 entries, 0 to 106818\n",
      "Data columns (total 8 columns):\n",
      " #   Column                 Non-Null Count   Dtype  \n",
      "---  ------                 --------------   -----  \n",
      " 0   VHRNO                  106818 non-null  object \n",
      " 1   VIN                    94670 non-null   object \n",
      " 2   OVHUL_CN               106817 non-null  object \n",
      " 3   OVHUL_YMD              106818 non-null  float64\n",
      " 4   SPCY_OVHUL_BIZPLC_NM   106818 non-null  object \n",
      " 5   OVHUL_CMPNT_NM         106817 non-null  object \n",
      " 6   OVHUL_RCPT_NO          106818 non-null  float64\n",
      " 7   PRCINSP_RINSP_RCPT_NO  0 non-null       float64\n",
      "dtypes: float64(3), object(5)\n",
      "memory usage: 6.5+ MB\n"
     ]
    }
   ],
   "source": [
    "# 0.3s\n",
    "name = 'STD_TB_ERR_RES_DET(20231011)'\n",
    "file_name = f'{name}.csv'\n",
    "erd = pd.read_csv(os.path.join(raw_fold, file_name), low_memory=False)\n",
    "erd.info()"
   ]
  },
  {
   "cell_type": "markdown",
   "metadata": {},
   "source": [
    "## 구조변경검사(STD_DLM_TB_ERP_GUBUN_BAECHUL)"
   ]
  },
  {
   "cell_type": "code",
   "execution_count": 7,
   "metadata": {},
   "outputs": [
    {
     "name": "stdout",
     "output_type": "stream",
     "text": [
      "<class 'pandas.core.frame.DataFrame'>\n",
      "RangeIndex: 1321945 entries, 0 to 1321944\n",
      "Data columns (total 39 columns):\n",
      " #   Column                     Non-Null Count    Dtype  \n",
      "---  ------                     --------------    -----  \n",
      " 0   AIR_PSSR                   1152822 non-null  float64\n",
      " 1   AIR_TMPRT                  1152822 non-null  float64\n",
      " 2   CO2_VAL                    1110507 non-null  float64\n",
      " 3   DRVNG_DSTNC                1320563 non-null  float64\n",
      " 4   FNCINSP_JGMT_YN            1321919 non-null  object \n",
      " 5   INSPOF_NM                  1321945 non-null  object \n",
      " 6   INSPOF_RPRSV_NM            1318198 non-null  object \n",
      " 7   MAXM_OTPT_MSRMT_VAL        445619 non-null   float64\n",
      " 8   MAXM_OTPT_PRMT_VAL         544747 non-null   float64\n",
      " 9   O2_VAL                     1110507 non-null  float64\n",
      " 10  PRCINSP_YMD                1321945 non-null  int64  \n",
      " 11  PRCINSP_VLD_YMD            127529 non-null   float64\n",
      " 12  PRCINSP_VLD_WHL            1321945 non-null  object \n",
      " 13  PRCINSP_JGMT               1321904 non-null  object \n",
      " 14  PRCINSP_KND                1265148 non-null  object \n",
      " 15  PRCINSP_RCPT_NO            1308820 non-null  object \n",
      " 16  RINSP_WHL                  1321945 non-null  object \n",
      " 17  VHCL_PURPS_CD              1321945 non-null  object \n",
      " 18  VHRNO                      1321945 non-null  object \n",
      " 19  VIN                        1321945 non-null  object \n",
      " 20  STRCT_CHG_INSP_MSRMT_MTHD  1321945 non-null  object \n",
      " 21  NOLOD_SMO_MSRMT_VAL1       1276978 non-null  float64\n",
      " 22  NOLOD_SMO_PRMT_VAL1        1276912 non-null  float64\n",
      " 23  NOLOD_SMO_MSRMT_VAL2       1060644 non-null  float64\n",
      " 24  NOLOD_SMO_PRMT_VAL2        1012599 non-null  float64\n",
      " 25  NOLOD_SMO_MSRMT_VAL3       990667 non-null   float64\n",
      " 26  NOLOD_SMO_PRMT_VAL3        990600 non-null   float64\n",
      " 27  NOLOD_SMO_MSRMT_VAL4       731316 non-null   float64\n",
      " 28  NOLOD_SMO_PRMT_VAL4        731299 non-null   float64\n",
      " 29  NOLOD_SMO_MSRMT_VAL5       731316 non-null   float64\n",
      " 30  NOLOD_SMO_PRMT_VAL5        731296 non-null   float64\n",
      " 31  NOLOD_SMO_MSRMT_VAL6       346019 non-null   float64\n",
      " 32  NOLOD_SMO_PRMT_VAL6        345649 non-null   float64\n",
      " 33  NOLOD_SMO_JGMT_YN1         1276959 non-null  object \n",
      " 34  NOLOD_SMO_JGMT_YN2         760411 non-null   object \n",
      " 35  NOLOD_SMO_JGMT_YN3         760365 non-null   object \n",
      " 36  NOLOD_SMO_JGMT_YN4         500957 non-null   object \n",
      " 37  NOLOD_SMO_JGMT_YN5         500955 non-null   object \n",
      " 38  NOLOD_SMO_JGMT_YN6         76346 non-null    object \n",
      "dtypes: float64(20), int64(1), object(18)\n",
      "memory usage: 393.3+ MB\n"
     ]
    }
   ],
   "source": [
    "# 11.7s\n",
    "name = 'STD_DLM_TB_ERP_GUBUN_BAECHUL(20231011)'\n",
    "file_name = f'{name}.csv'\n",
    "gb = pd.read_csv(os.path.join(raw_fold, file_name), low_memory=False)\n",
    "gb.info()"
   ]
  },
  {
   "cell_type": "code",
   "execution_count": null,
   "metadata": {},
   "outputs": [],
   "source": []
  }
 ],
 "metadata": {
  "kernelspec": {
   "display_name": "base",
   "language": "python",
   "name": "python3"
  },
  "language_info": {
   "codemirror_mode": {
    "name": "ipython",
    "version": 3
   },
   "file_extension": ".py",
   "mimetype": "text/x-python",
   "name": "python",
   "nbconvert_exporter": "python",
   "pygments_lexer": "ipython3",
   "version": "3.11.4"
  }
 },
 "nbformat": 4,
 "nbformat_minor": 2
}
