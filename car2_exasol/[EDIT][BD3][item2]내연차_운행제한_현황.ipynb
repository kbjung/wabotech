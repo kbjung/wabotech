{
 "cells": [
  {
   "attachments": {},
   "cell_type": "markdown",
   "metadata": {},
   "source": [
    "# Library\n"
   ]
  },
  {
   "cell_type": "code",
   "execution_count": 1,
   "metadata": {},
   "outputs": [],
   "source": [
    "import pandas as pd\n",
    "import numpy as np\n",
    "import os\n",
    "from tqdm import tqdm\n",
    "from datetime import datetime\n",
    "import pyexasol"
   ]
  },
  {
   "cell_type": "code",
   "execution_count": 2,
   "metadata": {},
   "outputs": [],
   "source": [
    "# 소수점 옵션\n",
    "pd.options.display.float_format = '{:.2f}'.format\n",
    "# pd.reset_option('display.float_format')"
   ]
  },
  {
   "attachments": {},
   "cell_type": "markdown",
   "metadata": {},
   "source": [
    "# server"
   ]
  },
  {
   "cell_type": "code",
   "execution_count": 3,
   "metadata": {},
   "outputs": [],
   "source": [
    "# # insider db\n",
    "# wb = pyexasol.connect(dsn='172.29.135.35/F99FAB2444F86051A9A467F6313FAAB48AF7C4760663430958E3B89A9DC53361:8563', user='sys', password='exasol', compression=True, schema='VSYSD')\n",
    "# exasol db\n",
    "ws = pyexasol.connect(dsn='dev.openankus.org:8563', user='sys', password='djslzja', compression=True, schema='VSYS')\n",
    "wb = pyexasol.connect(dsn='dev.openankus.org:8563', user='sys', password='djslzja', compression=True, schema='VSYSD')\n",
    "we = pyexasol.connect(dsn='dev.openankus.org:8563', user='sys', password='djslzja', compression=True, schema='vsyse')\n",
    "wbt = pyexasol.connect(dsn='dev.openankus.org:8563', user='sys', password='djslzja', compression=True, schema='wbt')"
   ]
  },
  {
   "attachments": {},
   "cell_type": "markdown",
   "metadata": {},
   "source": [
    "# fold path"
   ]
  },
  {
   "cell_type": "code",
   "execution_count": 4,
   "metadata": {},
   "outputs": [],
   "source": [
    "drive = 'D'\n",
    "ods_fold = f'{drive}:/data/big2/ODS'\n",
    "big2_fold = f'{drive}:/data/big2'\n",
    "an3_fold = f'{drive}:/data/big2/BD3/an'\n",
    "raw3_fold = f'{drive}:/data/big2/BD3/raw'"
   ]
  },
  {
   "attachments": {},
   "cell_type": "markdown",
   "metadata": {},
   "source": [
    "# Load\n",
    "- 등록&제원 -> result 5등급"
   ]
  },
  {
   "attachments": {},
   "cell_type": "markdown",
   "metadata": {},
   "source": [
    "## 등록정보(STD_CEG_CAR_MIG) 5등급만"
   ]
  },
  {
   "cell_type": "code",
   "execution_count": 5,
   "metadata": {},
   "outputs": [
    {
     "name": "stderr",
     "output_type": "stream",
     "text": [
      "C:\\Users\\kbjung\\AppData\\Roaming\\Python\\Python39\\site-packages\\pyexasol\\callback.py:42: DtypeWarning: Columns (8) have mixed types. Specify dtype option on import or set low_memory=False.\n",
      "  return pandas.read_csv(pipe, skip_blank_lines=False, **kwargs)\n"
     ]
    }
   ],
   "source": [
    "# 8.6s\n",
    "car = wb.export_to_pandas(\"SELECT VIN, BSPL_STDG_CD, VHCL_ERSR_YN, MANP_MNG_NO, YRIDNW, VHCTY_CD, PURPS_CD2, FRST_REG_YMD, VHCL_FBCTN_YMD, VHCL_MNG_NO FROM STD_CEG_CAR_MIG WHERE EXHST_GAS_GRD_CD = 'A0505' OR EXHST_GAS_GRD_CD = 'A05T5';\")"
   ]
  },
  {
   "cell_type": "code",
   "execution_count": 6,
   "metadata": {},
   "outputs": [
    {
     "name": "stdout",
     "output_type": "stream",
     "text": [
      "<class 'pandas.core.frame.DataFrame'>\n",
      "RangeIndex: 2378646 entries, 0 to 2378645\n",
      "Data columns (total 10 columns):\n",
      " #   Column          Dtype \n",
      "---  ------          ----- \n",
      " 0   VIN             object\n",
      " 1   BSPL_STDG_CD    int64 \n",
      " 2   VHCL_ERSR_YN    object\n",
      " 3   MANP_MNG_NO     object\n",
      " 4   YRIDNW          int64 \n",
      " 5   VHCTY_CD        object\n",
      " 6   PURPS_CD2       object\n",
      " 7   FRST_REG_YMD    int64 \n",
      " 8   VHCL_FBCTN_YMD  object\n",
      " 9   VHCL_MNG_NO     object\n",
      "dtypes: int64(3), object(7)\n",
      "memory usage: 181.5+ MB\n"
     ]
    }
   ],
   "source": [
    "car.info()"
   ]
  },
  {
   "cell_type": "code",
   "execution_count": 7,
   "metadata": {},
   "outputs": [],
   "source": [
    "car_ch_col = {\n",
    "    'VIN':'차대번호', \n",
    "    'BSPL_STDG_CD':'법정동코드', \n",
    "    'VHCL_ERSR_YN':'차량말소YN',\n",
    "    'MANP_MNG_NO':'제원관리번호',\n",
    "    'YRIDNW':'차량연식', \n",
    "    'VHCTY_CD':'차종', \n",
    "    'PURPS_CD2':'용도', \n",
    "    'FRST_REG_YMD':'최초등록일자',\n",
    "    'VHCL_FBCTN_YMD':'제작일자',\n",
    "    'VHCL_MNG_NO':'차량관리번호'\n",
    "}"
   ]
  },
  {
   "cell_type": "code",
   "execution_count": 8,
   "metadata": {},
   "outputs": [],
   "source": [
    "carr = car.rename(columns=car_ch_col)"
   ]
  },
  {
   "cell_type": "code",
   "execution_count": 9,
   "metadata": {},
   "outputs": [
    {
     "data": {
      "text/plain": [
       "Index(['차대번호', '법정동코드', '차량말소YN', '제원관리번호', '차량연식', '차종', '용도', '최초등록일자',\n",
       "       '제작일자', '차량관리번호'],\n",
       "      dtype='object')"
      ]
     },
     "execution_count": 9,
     "metadata": {},
     "output_type": "execute_result"
    }
   ],
   "source": [
    "carr.columns"
   ]
  },
  {
   "attachments": {},
   "cell_type": "markdown",
   "metadata": {},
   "source": [
    "## 제원정보(STD_CEG_CAR_SRC_MIG)"
   ]
  },
  {
   "cell_type": "code",
   "execution_count": 10,
   "metadata": {},
   "outputs": [],
   "source": [
    "# 3.8s\n",
    "src = wb.export_to_pandas(\"SELECT MANP_MNG_NO, FUEL_CD, VHCTY_TY_CD2 FROM STD_CEG_CAR_SRC_MIG;\")"
   ]
  },
  {
   "cell_type": "code",
   "execution_count": 11,
   "metadata": {},
   "outputs": [],
   "source": [
    "src_ch_col = {\n",
    "    'MANP_MNG_NO':'제원관리번호', \n",
    "    'FUEL_CD':'연료',\n",
    "    'VHCTY_TY_CD2':'차종유형', \n",
    "}"
   ]
  },
  {
   "cell_type": "code",
   "execution_count": 12,
   "metadata": {},
   "outputs": [
    {
     "data": {
      "text/plain": [
       "Index(['제원관리번호', '연료', '차종유형'], dtype='object')"
      ]
     },
     "execution_count": 12,
     "metadata": {},
     "output_type": "execute_result"
    }
   ],
   "source": [
    "srcr = src.rename(columns=src_ch_col)\n",
    "srcr.columns"
   ]
  },
  {
   "attachments": {},
   "cell_type": "markdown",
   "metadata": {},
   "source": [
    "## 저감장치 부착이력(STD_DLM_TB_ERP_ATT_HIS)"
   ]
  },
  {
   "cell_type": "code",
   "execution_count": 13,
   "metadata": {},
   "outputs": [
    {
     "name": "stdout",
     "output_type": "stream",
     "text": [
      "<class 'pandas.core.frame.DataFrame'>\n",
      "RangeIndex: 1010946 entries, 0 to 1010945\n",
      "Data columns (total 2 columns):\n",
      " #   Column        Non-Null Count    Dtype \n",
      "---  ------        --------------    ----- \n",
      " 0   VIN           1010946 non-null  object\n",
      " 1   RDCDVC_SE_CD  1010946 non-null  object\n",
      "dtypes: object(2)\n",
      "memory usage: 15.4+ MB\n"
     ]
    }
   ],
   "source": [
    "# 3.0s\n",
    "att = wb.export_to_pandas(\"SELECT VIN, RDCDVC_SE_CD FROM STD_DLM_TB_ERP_ATT_HIS;\")\n",
    "att.info()"
   ]
  },
  {
   "cell_type": "code",
   "execution_count": 14,
   "metadata": {},
   "outputs": [],
   "source": [
    "att_ch_col = {\n",
    "    'VIN':'차대번호', \n",
    "    'RDCDVC_SE_CD':'저감장치구분', \n",
    "}"
   ]
  },
  {
   "cell_type": "code",
   "execution_count": 15,
   "metadata": {},
   "outputs": [
    {
     "data": {
      "text/plain": [
       "Index(['차대번호', '저감장치구분'], dtype='object')"
      ]
     },
     "execution_count": 15,
     "metadata": {},
     "output_type": "execute_result"
    }
   ],
   "source": [
    "attr = att.rename(columns=att_ch_col)\n",
    "attr.columns"
   ]
  },
  {
   "attachments": {},
   "cell_type": "markdown",
   "metadata": {},
   "source": [
    "## 법정동코드(STD_BJCD_INFO)"
   ]
  },
  {
   "cell_type": "code",
   "execution_count": 16,
   "metadata": {},
   "outputs": [
    {
     "name": "stdout",
     "output_type": "stream",
     "text": [
      "<class 'pandas.core.frame.DataFrame'>\n",
      "RangeIndex: 46333 entries, 0 to 46332\n",
      "Data columns (total 5 columns):\n",
      " #   Column        Non-Null Count  Dtype \n",
      "---  ------        --------------  ----- \n",
      " 0   STDG_CD       46333 non-null  int64 \n",
      " 1   STDG_CTPV_CD  46333 non-null  int64 \n",
      " 2   STDG_SGG_CD   46333 non-null  int64 \n",
      " 3   STDG_CTPV_NM  46333 non-null  object\n",
      " 4   STDG_SGG_NM   46310 non-null  object\n",
      "dtypes: int64(3), object(2)\n",
      "memory usage: 1.8+ MB\n"
     ]
    }
   ],
   "source": [
    "# 1.3s\n",
    "code = wb.export_to_pandas(\"SELECT STDG_CD, STDG_CTPV_CD, STDG_SGG_CD, STDG_CTPV_NM, STDG_SGG_NM FROM STD_BJCD_INFO;\")\n",
    "code.info()"
   ]
  },
  {
   "cell_type": "code",
   "execution_count": 17,
   "metadata": {},
   "outputs": [
    {
     "data": {
      "text/plain": [
       "Index(['STDG_CD', 'STDG_CTPV_CD', 'STDG_SGG_CD', 'STDG_CTPV_NM',\n",
       "       'STDG_SGG_NM'],\n",
       "      dtype='object')"
      ]
     },
     "execution_count": 17,
     "metadata": {},
     "output_type": "execute_result"
    }
   ],
   "source": [
    "code.columns"
   ]
  },
  {
   "cell_type": "code",
   "execution_count": 18,
   "metadata": {},
   "outputs": [],
   "source": [
    "code_ch_col = {\n",
    "    'STDG_CD':'법정동코드', \n",
    "    'STDG_CTPV_NM':'시도', \n",
    "    'STDG_SGG_NM':'시군구', \n",
    "    'STDG_CTPV_CD':'시도코드', \n",
    "    'STDG_SGG_CD':'시군구코드',\n",
    "}"
   ]
  },
  {
   "cell_type": "code",
   "execution_count": 19,
   "metadata": {},
   "outputs": [
    {
     "data": {
      "text/plain": [
       "Index(['법정동코드', '시도코드', '시군구코드', '시도', '시군구'], dtype='object')"
      ]
     },
     "execution_count": 19,
     "metadata": {},
     "output_type": "execute_result"
    }
   ],
   "source": [
    "coder = code.rename(columns=code_ch_col)\n",
    "coder.columns"
   ]
  },
  {
   "attachments": {},
   "cell_type": "markdown",
   "metadata": {},
   "source": [
    "## 노후차 조기폐차 관리정보(수도권)(STD_DLM_TB_ERP_EARLY_ERASE_AEA)"
   ]
  },
  {
   "cell_type": "code",
   "execution_count": 20,
   "metadata": {},
   "outputs": [
    {
     "name": "stdout",
     "output_type": "stream",
     "text": [
      "<class 'pandas.core.frame.DataFrame'>\n",
      "RangeIndex: 804082 entries, 0 to 804081\n",
      "Data columns (total 3 columns):\n",
      " #   Column               Non-Null Count   Dtype \n",
      "---  ------               --------------   ----- \n",
      " 0   VIN                  804082 non-null  object\n",
      " 1   ELPDSRC_STTS_CD      804082 non-null  object\n",
      " 2   ELPDSRC_LST_APRV_YN  683874 non-null  object\n",
      "dtypes: object(3)\n",
      "memory usage: 18.4+ MB\n"
     ]
    }
   ],
   "source": [
    "# 2.4s\n",
    "aea = wb.export_to_pandas(\"SELECT VIN, ELPDSRC_STTS_CD, ELPDSRC_LST_APRV_YN FROM STD_DLM_TB_ERP_EARLY_ERASE_AEA;\")\n",
    "aea.info()"
   ]
  },
  {
   "cell_type": "code",
   "execution_count": 21,
   "metadata": {},
   "outputs": [
    {
     "data": {
      "text/plain": [
       "Index(['VIN', 'ELPDSRC_STTS_CD', 'ELPDSRC_LST_APRV_YN'], dtype='object')"
      ]
     },
     "execution_count": 21,
     "metadata": {},
     "output_type": "execute_result"
    }
   ],
   "source": [
    "aea.columns"
   ]
  },
  {
   "cell_type": "code",
   "execution_count": 22,
   "metadata": {},
   "outputs": [],
   "source": [
    "aea_ch_col = {\n",
    "    'VIN':'차대번호', \n",
    "    'ELPDSRC_STTS_CD':'조기폐차상태코드', \n",
    "    'ELPDSRC_LST_APRV_YN':'조기폐차최종승인YN',  \n",
    "}"
   ]
  },
  {
   "cell_type": "code",
   "execution_count": 23,
   "metadata": {},
   "outputs": [
    {
     "data": {
      "text/plain": [
       "Index(['차대번호', '조기폐차상태코드', '조기폐차최종승인YN'], dtype='object')"
      ]
     },
     "execution_count": 23,
     "metadata": {},
     "output_type": "execute_result"
    }
   ],
   "source": [
    "aear = aea.rename(columns=aea_ch_col)\n",
    "aear.columns"
   ]
  },
  {
   "cell_type": "code",
   "execution_count": 24,
   "metadata": {},
   "outputs": [
    {
     "data": {
      "text/html": [
       "<div>\n",
       "<style scoped>\n",
       "    .dataframe tbody tr th:only-of-type {\n",
       "        vertical-align: middle;\n",
       "    }\n",
       "\n",
       "    .dataframe tbody tr th {\n",
       "        vertical-align: top;\n",
       "    }\n",
       "\n",
       "    .dataframe thead th {\n",
       "        text-align: right;\n",
       "    }\n",
       "</style>\n",
       "<table border=\"1\" class=\"dataframe\">\n",
       "  <thead>\n",
       "    <tr style=\"text-align: right;\">\n",
       "      <th></th>\n",
       "      <th>차대번호</th>\n",
       "      <th>조기폐차상태코드</th>\n",
       "      <th>조기폐차최종승인YN</th>\n",
       "    </tr>\n",
       "  </thead>\n",
       "  <tbody>\n",
       "    <tr>\n",
       "      <th>0</th>\n",
       "      <td>KMCXLS7BP2U626435</td>\n",
       "      <td>A32Y</td>\n",
       "      <td>Y</td>\n",
       "    </tr>\n",
       "    <tr>\n",
       "      <th>1</th>\n",
       "      <td>KNAJA5265VA794691</td>\n",
       "      <td>A32Y</td>\n",
       "      <td>Y</td>\n",
       "    </tr>\n",
       "    <tr>\n",
       "      <th>2</th>\n",
       "      <td>KPBLC3D81VP018295</td>\n",
       "      <td>A32Y</td>\n",
       "      <td>Y</td>\n",
       "    </tr>\n",
       "    <tr>\n",
       "      <th>3</th>\n",
       "      <td>KPDHADMD1YP225493</td>\n",
       "      <td>A32Y</td>\n",
       "      <td>Y</td>\n",
       "    </tr>\n",
       "    <tr>\n",
       "      <th>4</th>\n",
       "      <td>KNAMA75122S249083</td>\n",
       "      <td>A32Y</td>\n",
       "      <td>Y</td>\n",
       "    </tr>\n",
       "  </tbody>\n",
       "</table>\n",
       "</div>"
      ],
      "text/plain": [
       "                차대번호 조기폐차상태코드 조기폐차최종승인YN\n",
       "0  KMCXLS7BP2U626435     A32Y          Y\n",
       "1  KNAJA5265VA794691     A32Y          Y\n",
       "2  KPBLC3D81VP018295     A32Y          Y\n",
       "3  KPDHADMD1YP225493     A32Y          Y\n",
       "4  KNAMA75122S249083     A32Y          Y"
      ]
     },
     "execution_count": 24,
     "metadata": {},
     "output_type": "execute_result"
    }
   ],
   "source": [
    "aear.head()"
   ]
  },
  {
   "attachments": {},
   "cell_type": "markdown",
   "metadata": {},
   "source": [
    "## 노후차 조기폐차 관리정보(수도권외)(STD_DLM_TB_ERP_EARLY_ERASE_LGV)"
   ]
  },
  {
   "cell_type": "code",
   "execution_count": 25,
   "metadata": {},
   "outputs": [
    {
     "name": "stdout",
     "output_type": "stream",
     "text": [
      "<class 'pandas.core.frame.DataFrame'>\n",
      "RangeIndex: 373371 entries, 0 to 373370\n",
      "Data columns (total 3 columns):\n",
      " #   Column               Non-Null Count   Dtype \n",
      "---  ------               --------------   ----- \n",
      " 0   VIN                  373371 non-null  object\n",
      " 1   ELPDSRC_STTS_CD      373371 non-null  object\n",
      " 2   ELPDSRC_LST_APRV_YN  160690 non-null  object\n",
      "dtypes: object(3)\n",
      "memory usage: 8.5+ MB\n"
     ]
    }
   ],
   "source": [
    "# 1.8s\n",
    "lgv = wb.export_to_pandas(\"SELECT VIN, ELPDSRC_STTS_CD, ELPDSRC_LST_APRV_YN FROM STD_DLM_TB_ERP_EARLY_ERASE_LGV;\")\n",
    "lgv.info()"
   ]
  },
  {
   "cell_type": "code",
   "execution_count": 26,
   "metadata": {},
   "outputs": [
    {
     "data": {
      "text/plain": [
       "Index(['VIN', 'ELPDSRC_STTS_CD', 'ELPDSRC_LST_APRV_YN'], dtype='object')"
      ]
     },
     "execution_count": 26,
     "metadata": {},
     "output_type": "execute_result"
    }
   ],
   "source": [
    "lgv.columns"
   ]
  },
  {
   "cell_type": "code",
   "execution_count": 27,
   "metadata": {},
   "outputs": [],
   "source": [
    "lgv_ch_col = {\n",
    "    'VIN':'차대번호', \n",
    "    'ELPDSRC_STTS_CD':'조기폐차상태코드', \n",
    "    'ELPDSRC_LST_APRV_YN':'조기폐차최종승인YN',  \n",
    "}"
   ]
  },
  {
   "cell_type": "code",
   "execution_count": 28,
   "metadata": {},
   "outputs": [
    {
     "data": {
      "text/plain": [
       "Index(['차대번호', '조기폐차상태코드', '조기폐차최종승인YN'], dtype='object')"
      ]
     },
     "execution_count": 28,
     "metadata": {},
     "output_type": "execute_result"
    }
   ],
   "source": [
    "lgvr = lgv.rename(columns=lgv_ch_col)\n",
    "lgvr.columns"
   ]
  },
  {
   "cell_type": "code",
   "execution_count": 29,
   "metadata": {},
   "outputs": [
    {
     "data": {
      "text/html": [
       "<div>\n",
       "<style scoped>\n",
       "    .dataframe tbody tr th:only-of-type {\n",
       "        vertical-align: middle;\n",
       "    }\n",
       "\n",
       "    .dataframe tbody tr th {\n",
       "        vertical-align: top;\n",
       "    }\n",
       "\n",
       "    .dataframe thead th {\n",
       "        text-align: right;\n",
       "    }\n",
       "</style>\n",
       "<table border=\"1\" class=\"dataframe\">\n",
       "  <thead>\n",
       "    <tr style=\"text-align: right;\">\n",
       "      <th></th>\n",
       "      <th>차대번호</th>\n",
       "      <th>조기폐차상태코드</th>\n",
       "      <th>조기폐차최종승인YN</th>\n",
       "    </tr>\n",
       "  </thead>\n",
       "  <tbody>\n",
       "    <tr>\n",
       "      <th>0</th>\n",
       "      <td>KMHSD81VP4U791871</td>\n",
       "      <td>A32M</td>\n",
       "      <td>NaN</td>\n",
       "    </tr>\n",
       "    <tr>\n",
       "      <th>1</th>\n",
       "      <td>KPBFA2AF16P223800</td>\n",
       "      <td>A32M</td>\n",
       "      <td>NaN</td>\n",
       "    </tr>\n",
       "    <tr>\n",
       "      <th>2</th>\n",
       "      <td>KMFWVH7HP7U772891</td>\n",
       "      <td>A32M</td>\n",
       "      <td>NaN</td>\n",
       "    </tr>\n",
       "    <tr>\n",
       "      <th>3</th>\n",
       "      <td>KMFXKN7BPYU361960</td>\n",
       "      <td>A32M</td>\n",
       "      <td>NaN</td>\n",
       "    </tr>\n",
       "    <tr>\n",
       "      <th>4</th>\n",
       "      <td>KMFXKS7BP2U563724</td>\n",
       "      <td>A32M</td>\n",
       "      <td>NaN</td>\n",
       "    </tr>\n",
       "  </tbody>\n",
       "</table>\n",
       "</div>"
      ],
      "text/plain": [
       "                차대번호 조기폐차상태코드 조기폐차최종승인YN\n",
       "0  KMHSD81VP4U791871     A32M        NaN\n",
       "1  KPBFA2AF16P223800     A32M        NaN\n",
       "2  KMFWVH7HP7U772891     A32M        NaN\n",
       "3  KMFXKN7BPYU361960     A32M        NaN\n",
       "4  KMFXKS7BP2U563724     A32M        NaN"
      ]
     },
     "execution_count": 29,
     "metadata": {},
     "output_type": "execute_result"
    }
   ],
   "source": [
    "lgvr.head()"
   ]
  },
  {
   "attachments": {},
   "cell_type": "markdown",
   "metadata": {},
   "source": [
    "## 비상시 및 계절제 단속발령(N_IS_ISSUE_DISCLOSURE)"
   ]
  },
  {
   "cell_type": "code",
   "execution_count": null,
   "metadata": {},
   "outputs": [],
   "source": [
    "# # 1.8s\n",
    "# isdis = we.export_to_pandas(\"SELECT GNFD_NO, VIN, REG_SIDO_CD, REG_SIGNGU_CD FROM ODS_N_IS_ISSUE_DISCLOSURE;\")\n",
    "# isdis.info()"
   ]
  },
  {
   "cell_type": "code",
   "execution_count": 98,
   "metadata": {},
   "outputs": [
    {
     "name": "stdout",
     "output_type": "stream",
     "text": [
      "<class 'pandas.core.frame.DataFrame'>\n",
      "RangeIndex: 10000 entries, 0 to 9999\n",
      "Data columns (total 6 columns):\n",
      " #   Column         Non-Null Count  Dtype \n",
      "---  ------         --------------  ----- \n",
      " 0   REGLT_NO       10000 non-null  int64 \n",
      " 1   GNFD_NO        10000 non-null  int64 \n",
      " 2   REG_SIDO_CD    10000 non-null  int64 \n",
      " 3   REG_SIGNGU_CD  10000 non-null  int64 \n",
      " 4   REGLT_AREA_CD  10000 non-null  int64 \n",
      " 5   VIN            10000 non-null  object\n",
      "dtypes: int64(5), object(1)\n",
      "memory usage: 468.9+ KB\n"
     ]
    }
   ],
   "source": [
    "# about 2.1s\n",
    "name = 'ODS_N_IS_ISSUE_DISCLOSURE(col_sliced)'\n",
    "file_name = f'{name}.csv'\n",
    "isdis = pd.read_csv(os.path.join(ods_fold, file_name), usecols=['REGLT_NO', 'GNFD_NO', 'VIN', 'REG_SIDO_CD', 'REG_SIGNGU_CD', 'REGLT_AREA_CD'], nrows=100**2) # usecols=['REGLT_NO', 'GNFD_NO, 'VIN', 'REG_SIDO_CD', 'REG_SIGNGU_CD', 'REGLT_AREA_CD']\n",
    "isdis.info()"
   ]
  },
  {
   "cell_type": "code",
   "execution_count": 99,
   "metadata": {},
   "outputs": [
    {
     "data": {
      "text/html": [
       "<div>\n",
       "<style scoped>\n",
       "    .dataframe tbody tr th:only-of-type {\n",
       "        vertical-align: middle;\n",
       "    }\n",
       "\n",
       "    .dataframe tbody tr th {\n",
       "        vertical-align: top;\n",
       "    }\n",
       "\n",
       "    .dataframe thead th {\n",
       "        text-align: right;\n",
       "    }\n",
       "</style>\n",
       "<table border=\"1\" class=\"dataframe\">\n",
       "  <thead>\n",
       "    <tr style=\"text-align: right;\">\n",
       "      <th></th>\n",
       "      <th>REGLT_NO</th>\n",
       "      <th>GNFD_NO</th>\n",
       "      <th>REG_SIDO_CD</th>\n",
       "      <th>REG_SIGNGU_CD</th>\n",
       "      <th>REGLT_AREA_CD</th>\n",
       "      <th>VIN</th>\n",
       "    </tr>\n",
       "  </thead>\n",
       "  <tbody>\n",
       "    <tr>\n",
       "      <th>0</th>\n",
       "      <td>54793831</td>\n",
       "      <td>1838</td>\n",
       "      <td>41</td>\n",
       "      <td>190</td>\n",
       "      <td>41190</td>\n",
       "      <td>KMFXKS7BP3U657943</td>\n",
       "    </tr>\n",
       "    <tr>\n",
       "      <th>1</th>\n",
       "      <td>54793839</td>\n",
       "      <td>1838</td>\n",
       "      <td>41</td>\n",
       "      <td>190</td>\n",
       "      <td>41190</td>\n",
       "      <td>KNAMA75432S388470</td>\n",
       "    </tr>\n",
       "    <tr>\n",
       "      <th>2</th>\n",
       "      <td>54793843</td>\n",
       "      <td>1838</td>\n",
       "      <td>28</td>\n",
       "      <td>237</td>\n",
       "      <td>41190</td>\n",
       "      <td>KNGDNM9N14K178854</td>\n",
       "    </tr>\n",
       "    <tr>\n",
       "      <th>3</th>\n",
       "      <td>54795717</td>\n",
       "      <td>1838</td>\n",
       "      <td>41</td>\n",
       "      <td>130</td>\n",
       "      <td>41190</td>\n",
       "      <td>KMFGA17PP7C072098</td>\n",
       "    </tr>\n",
       "    <tr>\n",
       "      <th>4</th>\n",
       "      <td>54793837</td>\n",
       "      <td>1838</td>\n",
       "      <td>41</td>\n",
       "      <td>190</td>\n",
       "      <td>41190</td>\n",
       "      <td>KPBSH3AB18P082348</td>\n",
       "    </tr>\n",
       "  </tbody>\n",
       "</table>\n",
       "</div>"
      ],
      "text/plain": [
       "   REGLT_NO  GNFD_NO  REG_SIDO_CD  REG_SIGNGU_CD  REGLT_AREA_CD   \n",
       "0  54793831     1838           41            190          41190  \\\n",
       "1  54793839     1838           41            190          41190   \n",
       "2  54793843     1838           28            237          41190   \n",
       "3  54795717     1838           41            130          41190   \n",
       "4  54793837     1838           41            190          41190   \n",
       "\n",
       "                 VIN  \n",
       "0  KMFXKS7BP3U657943  \n",
       "1  KNAMA75432S388470  \n",
       "2  KNGDNM9N14K178854  \n",
       "3  KMFGA17PP7C072098  \n",
       "4  KPBSH3AB18P082348  "
      ]
     },
     "execution_count": 99,
     "metadata": {},
     "output_type": "execute_result"
    }
   ],
   "source": [
    "isdis.head()"
   ]
  },
  {
   "cell_type": "code",
   "execution_count": 100,
   "metadata": {},
   "outputs": [
    {
     "data": {
      "text/plain": [
       "Index(['REGLT_NO', 'GNFD_NO', 'REG_SIDO_CD', 'REG_SIGNGU_CD', 'REGLT_AREA_CD',\n",
       "       'VIN'],\n",
       "      dtype='object')"
      ]
     },
     "execution_count": 100,
     "metadata": {},
     "output_type": "execute_result"
    }
   ],
   "source": [
    "isdis.columns"
   ]
  },
  {
   "cell_type": "code",
   "execution_count": 101,
   "metadata": {},
   "outputs": [],
   "source": [
    "isdis_ch_col = {\n",
    "    'REGLT_NO':'적발번호', \n",
    "    'GNFD_NO':'발령번호', \n",
    "    'REG_SIDO_CD':'등록시도코드', \n",
    "    'REG_SIGNGU_CD':'등록시군구코드', \n",
    "    'VIN':'차대번호',\n",
    "    'REGLT_AREA_CD':'적발지역코드', \n",
    "}"
   ]
  },
  {
   "cell_type": "code",
   "execution_count": 102,
   "metadata": {},
   "outputs": [
    {
     "data": {
      "text/plain": [
       "Index(['적발번호', '발령번호', '등록시도코드', '등록시군구코드', '적발지역코드', '차대번호'], dtype='object')"
      ]
     },
     "execution_count": 102,
     "metadata": {},
     "output_type": "execute_result"
    }
   ],
   "source": [
    "isdisr = isdis.rename(columns=isdis_ch_col)\n",
    "isdisr.columns"
   ]
  },
  {
   "attachments": {},
   "cell_type": "markdown",
   "metadata": {},
   "source": [
    "## 운행제한 발령정보(N_IS_ISSUE)"
   ]
  },
  {
   "cell_type": "code",
   "execution_count": 35,
   "metadata": {},
   "outputs": [],
   "source": [
    "# # 1.8s\n",
    "# isis = we.export_to_pandas(\"SELECT GNFD_NO, TY_STDR_ID, DNSTY_STDR_ID FROM ODS_N_IS_ISSUE;\")\n",
    "# isis.info()"
   ]
  },
  {
   "cell_type": "code",
   "execution_count": 36,
   "metadata": {},
   "outputs": [
    {
     "name": "stdout",
     "output_type": "stream",
     "text": [
      "<class 'pandas.core.frame.DataFrame'>\n",
      "RangeIndex: 1785 entries, 0 to 1784\n",
      "Data columns (total 3 columns):\n",
      " #   Column         Non-Null Count  Dtype \n",
      "---  ------         --------------  ----- \n",
      " 0   GNFD_NO        1785 non-null   int64 \n",
      " 1   DNSTY_STDR_ID  1785 non-null   object\n",
      " 2   TY_STDR_ID     1785 non-null   object\n",
      "dtypes: int64(1), object(2)\n",
      "memory usage: 42.0+ KB\n"
     ]
    }
   ],
   "source": [
    "name = 'ODS_N_IS_ISSUE'\n",
    "file_name = f'{name}.csv'\n",
    "isis = pd.read_csv(os.path.join(ods_fold, file_name), usecols=['GNFD_NO', 'TY_STDR_ID', 'DNSTY_STDR_ID']) # usecols=['GNFD_NO', 'TY_STDR_ID', 'DNSTY_STDR_ID']\n",
    "isis.info()"
   ]
  },
  {
   "cell_type": "code",
   "execution_count": 37,
   "metadata": {},
   "outputs": [
    {
     "data": {
      "text/plain": [
       "Index(['GNFD_NO', 'DNSTY_STDR_ID', 'TY_STDR_ID'], dtype='object')"
      ]
     },
     "execution_count": 37,
     "metadata": {},
     "output_type": "execute_result"
    }
   ],
   "source": [
    "isis.columns"
   ]
  },
  {
   "cell_type": "code",
   "execution_count": 38,
   "metadata": {},
   "outputs": [],
   "source": [
    "isis_ch_col = {\n",
    "    'GNFD_NO':'발령번호', \n",
    "    'DNSTY_STDR_ID':'농도기준아이디', \n",
    "    'TY_STDR_ID':'유형기준아이디', \n",
    "}"
   ]
  },
  {
   "cell_type": "code",
   "execution_count": 39,
   "metadata": {},
   "outputs": [
    {
     "data": {
      "text/plain": [
       "Index(['발령번호', '농도기준아이디', '유형기준아이디'], dtype='object')"
      ]
     },
     "execution_count": 39,
     "metadata": {},
     "output_type": "execute_result"
    }
   ],
   "source": [
    "isisr = isis.rename(columns=isis_ch_col)\n",
    "isisr.columns"
   ]
  },
  {
   "cell_type": "code",
   "execution_count": 40,
   "metadata": {},
   "outputs": [],
   "source": [
    "# DNSTY_STDR_ID(농도기준아이디) : 실발령(C011), 모의발령(C012)\n",
    "# TY_STDR_ID(유형기준아이디) : 비상시(T001), 계절제(T002)"
   ]
  },
  {
   "attachments": {},
   "cell_type": "markdown",
   "metadata": {},
   "source": [
    "## N_IS_PENALTY"
   ]
  },
  {
   "cell_type": "code",
   "execution_count": 41,
   "metadata": {},
   "outputs": [
    {
     "name": "stdout",
     "output_type": "stream",
     "text": [
      "<class 'pandas.core.frame.DataFrame'>\n",
      "RangeIndex: 10000 entries, 0 to 9999\n",
      "Data columns (total 2 columns):\n",
      " #   Column    Non-Null Count  Dtype\n",
      "---  ------    --------------  -----\n",
      " 0   REGLT_NO  10000 non-null  int64\n",
      " 1   REGLT_DE  10000 non-null  int64\n",
      "dtypes: int64(2)\n",
      "memory usage: 156.4 KB\n"
     ]
    }
   ],
   "source": [
    "# 1.8s\n",
    "ispe = ws.export_to_pandas(\"SELECT REGLT_NO, REGLT_DE FROM N_IS_PENALTY WHERE ROWNUM <= 10000;\")\n",
    "# ispe = ws.export_to_pandas(\"SELECT REGLT_NO, REGLT_DE FROM N_IS_PENALTY;\")\n",
    "ispe.info()"
   ]
  },
  {
   "cell_type": "code",
   "execution_count": 151,
   "metadata": {},
   "outputs": [],
   "source": [
    "# # about 2.1s\n",
    "# name = 'N_IS_PENALTY'\n",
    "# file_name = f'{name}.csv'\n",
    "# ispe = pd.read_csv(os.path.join(ods_fold, file_name), usecols=['REGLT_NO, 'REGLT_DE'], nrows=100**2, sep='|') # usecols=['REGLT_NO, 'REGLT_DE']\n",
    "# ispe.info()"
   ]
  },
  {
   "cell_type": "code",
   "execution_count": 42,
   "metadata": {},
   "outputs": [
    {
     "data": {
      "text/html": [
       "<div>\n",
       "<style scoped>\n",
       "    .dataframe tbody tr th:only-of-type {\n",
       "        vertical-align: middle;\n",
       "    }\n",
       "\n",
       "    .dataframe tbody tr th {\n",
       "        vertical-align: top;\n",
       "    }\n",
       "\n",
       "    .dataframe thead th {\n",
       "        text-align: right;\n",
       "    }\n",
       "</style>\n",
       "<table border=\"1\" class=\"dataframe\">\n",
       "  <thead>\n",
       "    <tr style=\"text-align: right;\">\n",
       "      <th></th>\n",
       "      <th>REGLT_NO</th>\n",
       "      <th>REGLT_DE</th>\n",
       "    </tr>\n",
       "  </thead>\n",
       "  <tbody>\n",
       "    <tr>\n",
       "      <th>0</th>\n",
       "      <td>40995</td>\n",
       "      <td>20191210</td>\n",
       "    </tr>\n",
       "    <tr>\n",
       "      <th>1</th>\n",
       "      <td>40828</td>\n",
       "      <td>20191210</td>\n",
       "    </tr>\n",
       "    <tr>\n",
       "      <th>2</th>\n",
       "      <td>40676</td>\n",
       "      <td>20191210</td>\n",
       "    </tr>\n",
       "    <tr>\n",
       "      <th>3</th>\n",
       "      <td>40683</td>\n",
       "      <td>20191210</td>\n",
       "    </tr>\n",
       "    <tr>\n",
       "      <th>4</th>\n",
       "      <td>42850</td>\n",
       "      <td>20191210</td>\n",
       "    </tr>\n",
       "  </tbody>\n",
       "</table>\n",
       "</div>"
      ],
      "text/plain": [
       "   REGLT_NO  REGLT_DE\n",
       "0     40995  20191210\n",
       "1     40828  20191210\n",
       "2     40676  20191210\n",
       "3     40683  20191210\n",
       "4     42850  20191210"
      ]
     },
     "execution_count": 42,
     "metadata": {},
     "output_type": "execute_result"
    }
   ],
   "source": [
    "ispe.head()"
   ]
  },
  {
   "cell_type": "code",
   "execution_count": 43,
   "metadata": {},
   "outputs": [
    {
     "data": {
      "text/plain": [
       "Index(['REGLT_NO', 'REGLT_DE'], dtype='object')"
      ]
     },
     "execution_count": 43,
     "metadata": {},
     "output_type": "execute_result"
    }
   ],
   "source": [
    "ispe.columns"
   ]
  },
  {
   "cell_type": "code",
   "execution_count": 44,
   "metadata": {},
   "outputs": [],
   "source": [
    "ispe_ch_col = {\n",
    "    'REGLT_NO':'적발번호', \n",
    "    'REGLT_DE':'단속일', \n",
    "}"
   ]
  },
  {
   "cell_type": "code",
   "execution_count": 45,
   "metadata": {},
   "outputs": [
    {
     "data": {
      "text/plain": [
       "Index(['적발번호', '단속일'], dtype='object')"
      ]
     },
     "execution_count": 45,
     "metadata": {},
     "output_type": "execute_result"
    }
   ],
   "source": [
    "isper = ispe.rename(columns=ispe_ch_col)\n",
    "isper.columns"
   ]
  },
  {
   "cell_type": "code",
   "execution_count": 46,
   "metadata": {},
   "outputs": [
    {
     "data": {
      "text/html": [
       "<div>\n",
       "<style scoped>\n",
       "    .dataframe tbody tr th:only-of-type {\n",
       "        vertical-align: middle;\n",
       "    }\n",
       "\n",
       "    .dataframe tbody tr th {\n",
       "        vertical-align: top;\n",
       "    }\n",
       "\n",
       "    .dataframe thead th {\n",
       "        text-align: right;\n",
       "    }\n",
       "</style>\n",
       "<table border=\"1\" class=\"dataframe\">\n",
       "  <thead>\n",
       "    <tr style=\"text-align: right;\">\n",
       "      <th></th>\n",
       "      <th>적발번호</th>\n",
       "      <th>단속일</th>\n",
       "    </tr>\n",
       "  </thead>\n",
       "  <tbody>\n",
       "    <tr>\n",
       "      <th>0</th>\n",
       "      <td>40995</td>\n",
       "      <td>20191210</td>\n",
       "    </tr>\n",
       "    <tr>\n",
       "      <th>1</th>\n",
       "      <td>40828</td>\n",
       "      <td>20191210</td>\n",
       "    </tr>\n",
       "    <tr>\n",
       "      <th>2</th>\n",
       "      <td>40676</td>\n",
       "      <td>20191210</td>\n",
       "    </tr>\n",
       "    <tr>\n",
       "      <th>3</th>\n",
       "      <td>40683</td>\n",
       "      <td>20191210</td>\n",
       "    </tr>\n",
       "    <tr>\n",
       "      <th>4</th>\n",
       "      <td>42850</td>\n",
       "      <td>20191210</td>\n",
       "    </tr>\n",
       "  </tbody>\n",
       "</table>\n",
       "</div>"
      ],
      "text/plain": [
       "    적발번호       단속일\n",
       "0  40995  20191210\n",
       "1  40828  20191210\n",
       "2  40676  20191210\n",
       "3  40683  20191210\n",
       "4  42850  20191210"
      ]
     },
     "execution_count": 46,
     "metadata": {},
     "output_type": "execute_result"
    }
   ],
   "source": [
    "isper.head()"
   ]
  },
  {
   "attachments": {},
   "cell_type": "markdown",
   "metadata": {},
   "source": [
    "## 운행제한 단속정보(N_US_DISCLOSURE)"
   ]
  },
  {
   "cell_type": "code",
   "execution_count": 47,
   "metadata": {},
   "outputs": [],
   "source": [
    "# # 1.8s\n",
    "# ispe = we.export_to_pandas(\"SELECT GNFD_NO, REGLT_DE FROM N_US_DISCLOSURE WHERE ROWNUM <= 10000;\")\n",
    "# # ispe = we.export_to_pandas(\"SELECT GNFD_NO, REGLT_DE FROM N_US_DISCLOSURE;\")\n",
    "# ispe.info()"
   ]
  },
  {
   "cell_type": "code",
   "execution_count": 141,
   "metadata": {},
   "outputs": [
    {
     "name": "stdout",
     "output_type": "stream",
     "text": [
      "<class 'pandas.core.frame.DataFrame'>\n",
      "RangeIndex: 10000 entries, 0 to 9999\n",
      "Data columns (total 6 columns):\n",
      " #   Column         Non-Null Count  Dtype \n",
      "---  ------         --------------  ----- \n",
      " 0   NO             10000 non-null  int64 \n",
      " 1   REG_SIDO_CD    10000 non-null  int64 \n",
      " 2   REG_SIGNGU_CD  10000 non-null  int64 \n",
      " 3   DISCL_TY       10000 non-null  object\n",
      " 4   REGLT_AREA_CD  10000 non-null  int64 \n",
      " 5   VIN            10000 non-null  object\n",
      "dtypes: int64(4), object(2)\n",
      "memory usage: 468.9+ KB\n"
     ]
    }
   ],
   "source": [
    "# about \n",
    "name = 'ODS_N_US_DISCLOSURE'\n",
    "file_name = f'{name}.csv'\n",
    "usdis = pd.read_csv(os.path.join(ods_fold, file_name), usecols=['NO', 'VIN', 'DISCL_TY', 'REGLT_AREA_CD', 'REG_SIDO_CD', 'REG_SIGNGU_CD'], nrows=100**2) # usecols=['NO', 'VIN, 'DISCL_TY', 'REGLT_AREA_CD', 'REG_SIDO_CD', 'REG_SIGNGU_CD']\n",
    "usdis.info()"
   ]
  },
  {
   "cell_type": "code",
   "execution_count": 142,
   "metadata": {},
   "outputs": [
    {
     "data": {
      "text/html": [
       "<div>\n",
       "<style scoped>\n",
       "    .dataframe tbody tr th:only-of-type {\n",
       "        vertical-align: middle;\n",
       "    }\n",
       "\n",
       "    .dataframe tbody tr th {\n",
       "        vertical-align: top;\n",
       "    }\n",
       "\n",
       "    .dataframe thead th {\n",
       "        text-align: right;\n",
       "    }\n",
       "</style>\n",
       "<table border=\"1\" class=\"dataframe\">\n",
       "  <thead>\n",
       "    <tr style=\"text-align: right;\">\n",
       "      <th></th>\n",
       "      <th>NO</th>\n",
       "      <th>REG_SIDO_CD</th>\n",
       "      <th>REG_SIGNGU_CD</th>\n",
       "      <th>DISCL_TY</th>\n",
       "      <th>REGLT_AREA_CD</th>\n",
       "      <th>VIN</th>\n",
       "    </tr>\n",
       "  </thead>\n",
       "  <tbody>\n",
       "    <tr>\n",
       "      <th>0</th>\n",
       "      <td>117112</td>\n",
       "      <td>41</td>\n",
       "      <td>110</td>\n",
       "      <td>S</td>\n",
       "      <td>41430</td>\n",
       "      <td>KPBFA2AD12P021974</td>\n",
       "    </tr>\n",
       "    <tr>\n",
       "      <th>1</th>\n",
       "      <td>117111</td>\n",
       "      <td>11</td>\n",
       "      <td>0</td>\n",
       "      <td>S</td>\n",
       "      <td>41430</td>\n",
       "      <td>KMHNN81XP2U038507</td>\n",
       "    </tr>\n",
       "    <tr>\n",
       "      <th>2</th>\n",
       "      <td>117107</td>\n",
       "      <td>41</td>\n",
       "      <td>410</td>\n",
       "      <td>S</td>\n",
       "      <td>41430</td>\n",
       "      <td>KMFZCD7JP5U094049</td>\n",
       "    </tr>\n",
       "    <tr>\n",
       "      <th>3</th>\n",
       "      <td>132833</td>\n",
       "      <td>11</td>\n",
       "      <td>0</td>\n",
       "      <td>S</td>\n",
       "      <td>41130</td>\n",
       "      <td>KMFWVH7HP4U579325</td>\n",
       "    </tr>\n",
       "    <tr>\n",
       "      <th>4</th>\n",
       "      <td>6933349</td>\n",
       "      <td>11</td>\n",
       "      <td>0</td>\n",
       "      <td>S</td>\n",
       "      <td>41130</td>\n",
       "      <td>KNAMA75433S411400</td>\n",
       "    </tr>\n",
       "  </tbody>\n",
       "</table>\n",
       "</div>"
      ],
      "text/plain": [
       "        NO  REG_SIDO_CD  REG_SIGNGU_CD DISCL_TY  REGLT_AREA_CD   \n",
       "0   117112           41            110        S          41430  \\\n",
       "1   117111           11              0        S          41430   \n",
       "2   117107           41            410        S          41430   \n",
       "3   132833           11              0        S          41130   \n",
       "4  6933349           11              0        S          41130   \n",
       "\n",
       "                 VIN  \n",
       "0  KPBFA2AD12P021974  \n",
       "1  KMHNN81XP2U038507  \n",
       "2  KMFZCD7JP5U094049  \n",
       "3  KMFWVH7HP4U579325  \n",
       "4  KNAMA75433S411400  "
      ]
     },
     "execution_count": 142,
     "metadata": {},
     "output_type": "execute_result"
    }
   ],
   "source": [
    "usdis.head()"
   ]
  },
  {
   "cell_type": "code",
   "execution_count": 143,
   "metadata": {},
   "outputs": [
    {
     "data": {
      "text/plain": [
       "Index(['NO', 'REG_SIDO_CD', 'REG_SIGNGU_CD', 'DISCL_TY', 'REGLT_AREA_CD',\n",
       "       'VIN'],\n",
       "      dtype='object')"
      ]
     },
     "execution_count": 143,
     "metadata": {},
     "output_type": "execute_result"
    }
   ],
   "source": [
    "usdis.columns"
   ]
  },
  {
   "cell_type": "code",
   "execution_count": 144,
   "metadata": {},
   "outputs": [],
   "source": [
    "usdis_ch_dict = {\n",
    "    'NO':'번호', \n",
    "    'VIN':'차대번호', \n",
    "    'REG_SIDO_CD':'등록시도코드', \n",
    "    'REG_SIGNGU_CD':'등록시군구코드', \n",
    "    'DISCL_TY':'적발유형', \n",
    "    'REGLT_AREA_CD':'단속지역코드', \n",
    "}"
   ]
  },
  {
   "cell_type": "code",
   "execution_count": 145,
   "metadata": {},
   "outputs": [
    {
     "data": {
      "text/plain": [
       "Index(['번호', '등록시도코드', '등록시군구코드', '적발유형', '단속지역코드', '차대번호'], dtype='object')"
      ]
     },
     "execution_count": 145,
     "metadata": {},
     "output_type": "execute_result"
    }
   ],
   "source": [
    "usdisr = usdis.rename(columns=usdis_ch_dict)\n",
    "usdisr.columns"
   ]
  },
  {
   "cell_type": "code",
   "execution_count": 53,
   "metadata": {},
   "outputs": [],
   "source": [
    "# DISCL_TY(적발유형) : S(일반), H(고농도->상시)"
   ]
  },
  {
   "attachments": {},
   "cell_type": "markdown",
   "metadata": {},
   "source": [
    "## N_US_PENALTY"
   ]
  },
  {
   "cell_type": "code",
   "execution_count": 54,
   "metadata": {},
   "outputs": [
    {
     "name": "stdout",
     "output_type": "stream",
     "text": [
      "<class 'pandas.core.frame.DataFrame'>\n",
      "RangeIndex: 443309 entries, 0 to 443308\n",
      "Data columns (total 2 columns):\n",
      " #   Column     Non-Null Count   Dtype\n",
      "---  ------     --------------   -----\n",
      " 0   NO         443309 non-null  int64\n",
      " 1   REGLT_CNT  443309 non-null  int64\n",
      "dtypes: int64(2)\n",
      "memory usage: 6.8 MB\n"
     ]
    }
   ],
   "source": [
    "# 1.8s\n",
    "uspe = ws.export_to_pandas('SELECT \"NO\", REGLT_CNT FROM N_US_PENALTY;')\n",
    "uspe.info()"
   ]
  },
  {
   "cell_type": "code",
   "execution_count": 55,
   "metadata": {},
   "outputs": [],
   "source": [
    "# # about 2.1s\n",
    "# name = 'N_US_PENALTY'\n",
    "# file_name = f'{name}.csv'\n",
    "# uspe = pd.read_csv(os.path.join(ods_fold, file_name), nrows=100**2, sep='|' ) # usecols=['NO', 'REGLT_CNT']\n",
    "# uspe.info()"
   ]
  },
  {
   "cell_type": "code",
   "execution_count": 56,
   "metadata": {},
   "outputs": [
    {
     "data": {
      "text/html": [
       "<div>\n",
       "<style scoped>\n",
       "    .dataframe tbody tr th:only-of-type {\n",
       "        vertical-align: middle;\n",
       "    }\n",
       "\n",
       "    .dataframe tbody tr th {\n",
       "        vertical-align: top;\n",
       "    }\n",
       "\n",
       "    .dataframe thead th {\n",
       "        text-align: right;\n",
       "    }\n",
       "</style>\n",
       "<table border=\"1\" class=\"dataframe\">\n",
       "  <thead>\n",
       "    <tr style=\"text-align: right;\">\n",
       "      <th></th>\n",
       "      <th>NO</th>\n",
       "      <th>REGLT_CNT</th>\n",
       "    </tr>\n",
       "  </thead>\n",
       "  <tbody>\n",
       "    <tr>\n",
       "      <th>0</th>\n",
       "      <td>8114417</td>\n",
       "      <td>1</td>\n",
       "    </tr>\n",
       "    <tr>\n",
       "      <th>1</th>\n",
       "      <td>6933701</td>\n",
       "      <td>4</td>\n",
       "    </tr>\n",
       "    <tr>\n",
       "      <th>2</th>\n",
       "      <td>6938411</td>\n",
       "      <td>10</td>\n",
       "    </tr>\n",
       "    <tr>\n",
       "      <th>3</th>\n",
       "      <td>8114173</td>\n",
       "      <td>1</td>\n",
       "    </tr>\n",
       "    <tr>\n",
       "      <th>4</th>\n",
       "      <td>6938670</td>\n",
       "      <td>14</td>\n",
       "    </tr>\n",
       "  </tbody>\n",
       "</table>\n",
       "</div>"
      ],
      "text/plain": [
       "        NO  REGLT_CNT\n",
       "0  8114417          1\n",
       "1  6933701          4\n",
       "2  6938411         10\n",
       "3  8114173          1\n",
       "4  6938670         14"
      ]
     },
     "execution_count": 56,
     "metadata": {},
     "output_type": "execute_result"
    }
   ],
   "source": [
    "uspe.head()"
   ]
  },
  {
   "cell_type": "code",
   "execution_count": 57,
   "metadata": {},
   "outputs": [
    {
     "data": {
      "text/plain": [
       "Index(['NO', 'REGLT_CNT'], dtype='object')"
      ]
     },
     "execution_count": 57,
     "metadata": {},
     "output_type": "execute_result"
    }
   ],
   "source": [
    "uspe.columns"
   ]
  },
  {
   "cell_type": "code",
   "execution_count": 58,
   "metadata": {},
   "outputs": [],
   "source": [
    "uspe_ch_dict = {\n",
    "    'NO':'번호', \n",
    "    'REGLT_CNT':'적발건수', \n",
    "}"
   ]
  },
  {
   "cell_type": "code",
   "execution_count": 59,
   "metadata": {},
   "outputs": [
    {
     "data": {
      "text/plain": [
       "Index(['번호', '적발건수'], dtype='object')"
      ]
     },
     "execution_count": 59,
     "metadata": {},
     "output_type": "execute_result"
    }
   ],
   "source": [
    "usper = uspe.rename(columns=uspe_ch_dict)\n",
    "usper.columns"
   ]
  },
  {
   "attachments": {},
   "cell_type": "markdown",
   "metadata": {},
   "source": [
    "# 전처리"
   ]
  },
  {
   "attachments": {},
   "cell_type": "markdown",
   "metadata": {},
   "source": [
    "## 중복 차대번호 제거"
   ]
  },
  {
   "cell_type": "code",
   "execution_count": 60,
   "metadata": {},
   "outputs": [
    {
     "data": {
      "text/plain": [
       "((2378646, 10), 2378598)"
      ]
     },
     "execution_count": 60,
     "metadata": {},
     "output_type": "execute_result"
    }
   ],
   "source": [
    "carr.shape, len(carr['차대번호'].unique())"
   ]
  },
  {
   "cell_type": "code",
   "execution_count": 61,
   "metadata": {},
   "outputs": [
    {
     "data": {
      "text/plain": [
       "(2378598, 10)"
      ]
     },
     "execution_count": 61,
     "metadata": {},
     "output_type": "execute_result"
    }
   ],
   "source": [
    "carr = carr.sort_values('최초등록일자', ascending=False).drop_duplicates('차대번호').reset_index(drop=True)\n",
    "carr.shape"
   ]
  },
  {
   "attachments": {},
   "cell_type": "markdown",
   "metadata": {},
   "source": [
    "## 차종 코드 변환"
   ]
  },
  {
   "cell_type": "code",
   "execution_count": 62,
   "metadata": {},
   "outputs": [
    {
     "data": {
      "text/plain": [
       "array(['화물', '승용', '특수', '승합', nan], dtype=object)"
      ]
     },
     "execution_count": 62,
     "metadata": {},
     "output_type": "execute_result"
    }
   ],
   "source": [
    "cd_dict = {\n",
    "    'A31M':'이륜', \n",
    "    'A31P':'승용', \n",
    "    'A31S':'특수', \n",
    "    'A31T':'화물', \n",
    "    'A31V':'승합'\n",
    "}\n",
    "carr['차종'] = carr['차종'].replace(cd_dict)\n",
    "carr['차종'].unique()"
   ]
  },
  {
   "attachments": {},
   "cell_type": "markdown",
   "metadata": {},
   "source": [
    "## 용도 코드 변환"
   ]
  },
  {
   "cell_type": "code",
   "execution_count": 63,
   "metadata": {},
   "outputs": [
    {
     "data": {
      "text/plain": [
       "array(['개인용', '영업용', '관용'], dtype=object)"
      ]
     },
     "execution_count": 63,
     "metadata": {},
     "output_type": "execute_result"
    }
   ],
   "source": [
    "purps_dict = {\n",
    "    'A08P':'개인용', \n",
    "    'A08B':'영업용', \n",
    "    'A08O':'관용',\n",
    "}\n",
    "carr['용도'] = carr['용도'].replace(purps_dict)\n",
    "carr['용도'].unique()"
   ]
  },
  {
   "attachments": {},
   "cell_type": "markdown",
   "metadata": {},
   "source": [
    "## 등록정보 말소 제거"
   ]
  },
  {
   "cell_type": "code",
   "execution_count": 64,
   "metadata": {},
   "outputs": [
    {
     "data": {
      "text/plain": [
       "(1162311, 10)"
      ]
     },
     "execution_count": 64,
     "metadata": {},
     "output_type": "execute_result"
    }
   ],
   "source": [
    "carm = carr[carr['차량말소YN'] == 'N'].reset_index(drop=True)\n",
    "carm.shape"
   ]
  },
  {
   "attachments": {},
   "cell_type": "markdown",
   "metadata": {},
   "source": [
    "## 연료 코드 변환"
   ]
  },
  {
   "cell_type": "code",
   "execution_count": 65,
   "metadata": {},
   "outputs": [
    {
     "data": {
      "text/plain": [
       "array(['경유', '휘발유', 'CNG(압축천연가스)', nan, 'LPG(액화석유가스)', '기타연료',\n",
       "       '휘발유 하이브리드', '알코올', '전기', '태양열', 'CNG 하이브리드', '경유 하이브리드', '등유',\n",
       "       'LPG 하이브리드', '수소', 'LNG(액화천연가스)'], dtype=object)"
      ]
     },
     "execution_count": 65,
     "metadata": {},
     "output_type": "execute_result"
    }
   ],
   "source": [
    "fuel_dict = {\n",
    "    'A90GS':'휘발유', \n",
    "    'A91DS':'경유',\n",
    "    'A92LP':'LPG(액화석유가스)', \n",
    "    'A90GH':'휘발유 하이브리드', \n",
    "    'A93EV':'전기', \n",
    "    'A91DH':'경유 하이브리드', \n",
    "    'A92CN':'CNG(압축천연가스)', \n",
    "    'A93HD':'수소', \n",
    "    'A92LH':'LPG 하이브리드', \n",
    "    'A94OT':'기타연료', \n",
    "    'A92CH':'CNG 하이브리드',\n",
    "    'A90AC':'알코올', \n",
    "    'A93SH':'태양열', \n",
    "    'A91KS':'등유', \n",
    "    'A92LN':'LNG(액화천연가스)', \n",
    "    'A90PH':'플러그인 하이브리드', \n",
    "}\n",
    "srcr['연료'] = srcr['연료'].replace(fuel_dict)\n",
    "srcr['연료'].unique()"
   ]
  },
  {
   "attachments": {},
   "cell_type": "markdown",
   "metadata": {},
   "source": [
    "## 차종유형 코드 변환"
   ]
  },
  {
   "cell_type": "code",
   "execution_count": 66,
   "metadata": {},
   "outputs": [
    {
     "data": {
      "text/plain": [
       "array(['대형', '소형', '중형', '경형', nan], dtype=object)"
      ]
     },
     "execution_count": 66,
     "metadata": {},
     "output_type": "execute_result"
    }
   ],
   "source": [
    "ty_dict = {\n",
    "    'A30C':'경형', \n",
    "    'A30L':'대형', \n",
    "    'A30M':'중형', \n",
    "    'A30S':'소형',\n",
    "}\n",
    "srcr['차종유형'] = srcr['차종유형'].replace(ty_dict)\n",
    "srcr['차종유형'].unique()"
   ]
  },
  {
   "attachments": {},
   "cell_type": "markdown",
   "metadata": {},
   "source": [
    "## 등록&제원 병합"
   ]
  },
  {
   "cell_type": "code",
   "execution_count": 67,
   "metadata": {},
   "outputs": [
    {
     "data": {
      "text/plain": [
       "(1162311, 12)"
      ]
     },
     "execution_count": 67,
     "metadata": {},
     "output_type": "execute_result"
    }
   ],
   "source": [
    "# 19.4s\n",
    "cs = carm.merge(srcr, on='제원관리번호', how='left')\n",
    "cs.shape"
   ]
  },
  {
   "attachments": {},
   "cell_type": "markdown",
   "metadata": {},
   "source": [
    "## 저감장치구분 코드 변환"
   ]
  },
  {
   "cell_type": "code",
   "execution_count": 68,
   "metadata": {},
   "outputs": [
    {
     "data": {
      "text/plain": [
       "array(['A1001', 'A1003', 'A1005', 'A1006', 'A1002', 'A1004', 'A1007'],\n",
       "      dtype=object)"
      ]
     },
     "execution_count": 68,
     "metadata": {},
     "output_type": "execute_result"
    }
   ],
   "source": [
    "# 4m 14.3s\n",
    "attr['저감장치구분'].unique()"
   ]
  },
  {
   "cell_type": "code",
   "execution_count": 69,
   "metadata": {},
   "outputs": [
    {
     "data": {
      "text/plain": [
       "array(['1종', '3종', '엔진개조', '엔진교체', '2종', '1종+SCR', '삼원촉매'], dtype=object)"
      ]
     },
     "execution_count": 69,
     "metadata": {},
     "output_type": "execute_result"
    }
   ],
   "source": [
    "# 27.5s\n",
    "rdcdvc_dict = {\n",
    "    'A1001':'1종', \n",
    "    'A1002':'2종', \n",
    "    'A1003':'3종', \n",
    "    'A1004':'1종+SCR', \n",
    "    'A1005':'엔진개조', \n",
    "    'A1006':'엔진교체',\n",
    "    'A1007':'삼원촉매',\n",
    "}\n",
    "attr['저감장치구분'] = attr['저감장치구분'].replace(rdcdvc_dict)\n",
    "attr['저감장치구분'].unique()"
   ]
  },
  {
   "attachments": {},
   "cell_type": "markdown",
   "metadata": {},
   "source": [
    "## 저감장치 부착 유무"
   ]
  },
  {
   "cell_type": "code",
   "execution_count": 70,
   "metadata": {},
   "outputs": [],
   "source": [
    "attr.loc[(attr['저감장치구분'] == '1종') | (attr['저감장치구분'] == '1종+SCR'), 'DPF_YN'] = '유'"
   ]
  },
  {
   "cell_type": "code",
   "execution_count": 71,
   "metadata": {},
   "outputs": [
    {
     "data": {
      "text/plain": [
       "DPF_YN\n",
       "NaN    531833\n",
       "유      479113\n",
       "Name: count, dtype: int64"
      ]
     },
     "execution_count": 71,
     "metadata": {},
     "output_type": "execute_result"
    }
   ],
   "source": [
    "attr['DPF_YN'].value_counts(dropna=False)"
   ]
  },
  {
   "attachments": {},
   "cell_type": "markdown",
   "metadata": {},
   "source": [
    "## 등록&제원&저감이력 병합"
   ]
  },
  {
   "cell_type": "code",
   "execution_count": 72,
   "metadata": {},
   "outputs": [
    {
     "data": {
      "text/plain": [
       "(1162570, 13)"
      ]
     },
     "execution_count": 72,
     "metadata": {},
     "output_type": "execute_result"
    }
   ],
   "source": [
    "# 1.7s\n",
    "csa = cs.merge(attr[['차대번호', 'DPF_YN']], on='차대번호', how='left')\n",
    "csa.shape"
   ]
  },
  {
   "attachments": {},
   "cell_type": "markdown",
   "metadata": {},
   "source": [
    "## 지역정보 병합"
   ]
  },
  {
   "cell_type": "code",
   "execution_count": 73,
   "metadata": {},
   "outputs": [],
   "source": [
    "csac = csa.merge(coder, on='법정동코드', how='left')"
   ]
  },
  {
   "attachments": {},
   "cell_type": "markdown",
   "metadata": {},
   "source": [
    "### 매칭 안되는 지역 처리"
   ]
  },
  {
   "cell_type": "code",
   "execution_count": 74,
   "metadata": {},
   "outputs": [],
   "source": [
    "csac.loc[csac['법정동코드'] == 4165052000, ['시도', '시군구']] = ['경기도', '포천시'] # 경기도 포천시 선단동"
   ]
  },
  {
   "attachments": {},
   "cell_type": "markdown",
   "metadata": {},
   "source": [
    "## 조기폐차 정보들 병합"
   ]
  },
  {
   "cell_type": "code",
   "execution_count": 75,
   "metadata": {},
   "outputs": [
    {
     "data": {
      "text/plain": [
       "(1177453, 3)"
      ]
     },
     "execution_count": 75,
     "metadata": {},
     "output_type": "execute_result"
    }
   ],
   "source": [
    "elp = pd.concat([aear, lgvr], ignore_index=True)\n",
    "elp.shape"
   ]
  },
  {
   "cell_type": "code",
   "execution_count": 76,
   "metadata": {},
   "outputs": [
    {
     "data": {
      "text/plain": [
       "((1177453, 3), 1105195)"
      ]
     },
     "execution_count": 76,
     "metadata": {},
     "output_type": "execute_result"
    }
   ],
   "source": [
    "elp.shape, len(elp['차대번호'].unique())"
   ]
  },
  {
   "cell_type": "code",
   "execution_count": 77,
   "metadata": {},
   "outputs": [
    {
     "data": {
      "text/plain": [
       "(1105195, 3)"
      ]
     },
     "execution_count": 77,
     "metadata": {},
     "output_type": "execute_result"
    }
   ],
   "source": [
    "elpm = elp.sort_values('조기폐차최종승인YN', ascending=False).drop_duplicates('차대번호').reset_index(drop=True)\n",
    "elpm.shape"
   ]
  },
  {
   "cell_type": "code",
   "execution_count": 78,
   "metadata": {},
   "outputs": [
    {
     "data": {
      "text/plain": [
       "(844474, 3)"
      ]
     },
     "execution_count": 78,
     "metadata": {},
     "output_type": "execute_result"
    }
   ],
   "source": [
    "elpm = elpm[elpm['조기폐차최종승인YN'] == 'Y'].reset_index(drop=True)\n",
    "elpm.shape"
   ]
  },
  {
   "attachments": {},
   "cell_type": "markdown",
   "metadata": {},
   "source": [
    "## 조기폐차 정보 추가"
   ]
  },
  {
   "cell_type": "code",
   "execution_count": 79,
   "metadata": {},
   "outputs": [
    {
     "data": {
      "text/plain": [
       "(1162570, 17)"
      ]
     },
     "execution_count": 79,
     "metadata": {},
     "output_type": "execute_result"
    }
   ],
   "source": [
    "csac.shape"
   ]
  },
  {
   "cell_type": "code",
   "execution_count": 80,
   "metadata": {},
   "outputs": [
    {
     "data": {
      "text/plain": [
       "(1162570, 19)"
      ]
     },
     "execution_count": 80,
     "metadata": {},
     "output_type": "execute_result"
    }
   ],
   "source": [
    "df = csac.merge(elpm, on='차대번호', how='left')\n",
    "df.shape"
   ]
  },
  {
   "attachments": {},
   "cell_type": "markdown",
   "metadata": {},
   "source": [
    "## 비상시 및 계절제 병합"
   ]
  },
  {
   "cell_type": "code",
   "execution_count": 103,
   "metadata": {},
   "outputs": [
    {
     "data": {
      "text/plain": [
       "((10000, 6), (1785, 3), (10000, 2))"
      ]
     },
     "execution_count": 103,
     "metadata": {},
     "output_type": "execute_result"
    }
   ],
   "source": [
    "isdisr.shape, isisr.shape, isper.shape"
   ]
  },
  {
   "cell_type": "code",
   "execution_count": 104,
   "metadata": {},
   "outputs": [
    {
     "data": {
      "text/plain": [
       "(Index(['적발번호', '발령번호', '등록시도코드', '등록시군구코드', '적발지역코드', '차대번호'], dtype='object'),\n",
       " Index(['발령번호', '농도기준아이디', '유형기준아이디'], dtype='object'),\n",
       " Index(['적발번호', '단속일'], dtype='object'))"
      ]
     },
     "execution_count": 104,
     "metadata": {},
     "output_type": "execute_result"
    }
   ],
   "source": [
    "isdisr.columns, isisr.columns, isper.columns"
   ]
  },
  {
   "cell_type": "code",
   "execution_count": 105,
   "metadata": {},
   "outputs": [
    {
     "data": {
      "text/html": [
       "<div>\n",
       "<style scoped>\n",
       "    .dataframe tbody tr th:only-of-type {\n",
       "        vertical-align: middle;\n",
       "    }\n",
       "\n",
       "    .dataframe tbody tr th {\n",
       "        vertical-align: top;\n",
       "    }\n",
       "\n",
       "    .dataframe thead th {\n",
       "        text-align: right;\n",
       "    }\n",
       "</style>\n",
       "<table border=\"1\" class=\"dataframe\">\n",
       "  <thead>\n",
       "    <tr style=\"text-align: right;\">\n",
       "      <th></th>\n",
       "      <th>적발번호</th>\n",
       "      <th>발령번호</th>\n",
       "      <th>등록시도코드</th>\n",
       "      <th>등록시군구코드</th>\n",
       "      <th>적발지역코드</th>\n",
       "      <th>차대번호</th>\n",
       "    </tr>\n",
       "  </thead>\n",
       "  <tbody>\n",
       "    <tr>\n",
       "      <th>0</th>\n",
       "      <td>54793831</td>\n",
       "      <td>1838</td>\n",
       "      <td>41</td>\n",
       "      <td>190</td>\n",
       "      <td>41190</td>\n",
       "      <td>KMFXKS7BP3U657943</td>\n",
       "    </tr>\n",
       "    <tr>\n",
       "      <th>1</th>\n",
       "      <td>54793839</td>\n",
       "      <td>1838</td>\n",
       "      <td>41</td>\n",
       "      <td>190</td>\n",
       "      <td>41190</td>\n",
       "      <td>KNAMA75432S388470</td>\n",
       "    </tr>\n",
       "    <tr>\n",
       "      <th>2</th>\n",
       "      <td>54793843</td>\n",
       "      <td>1838</td>\n",
       "      <td>28</td>\n",
       "      <td>237</td>\n",
       "      <td>41190</td>\n",
       "      <td>KNGDNM9N14K178854</td>\n",
       "    </tr>\n",
       "    <tr>\n",
       "      <th>3</th>\n",
       "      <td>54795717</td>\n",
       "      <td>1838</td>\n",
       "      <td>41</td>\n",
       "      <td>130</td>\n",
       "      <td>41190</td>\n",
       "      <td>KMFGA17PP7C072098</td>\n",
       "    </tr>\n",
       "    <tr>\n",
       "      <th>4</th>\n",
       "      <td>54793837</td>\n",
       "      <td>1838</td>\n",
       "      <td>41</td>\n",
       "      <td>190</td>\n",
       "      <td>41190</td>\n",
       "      <td>KPBSH3AB18P082348</td>\n",
       "    </tr>\n",
       "  </tbody>\n",
       "</table>\n",
       "</div>"
      ],
      "text/plain": [
       "       적발번호  발령번호  등록시도코드  등록시군구코드  적발지역코드               차대번호\n",
       "0  54793831  1838      41      190   41190  KMFXKS7BP3U657943\n",
       "1  54793839  1838      41      190   41190  KNAMA75432S388470\n",
       "2  54793843  1838      28      237   41190  KNGDNM9N14K178854\n",
       "3  54795717  1838      41      130   41190  KMFGA17PP7C072098\n",
       "4  54793837  1838      41      190   41190  KPBSH3AB18P082348"
      ]
     },
     "execution_count": 105,
     "metadata": {},
     "output_type": "execute_result"
    }
   ],
   "source": [
    "isdisr.head()"
   ]
  },
  {
   "cell_type": "code",
   "execution_count": 106,
   "metadata": {},
   "outputs": [
    {
     "data": {
      "text/plain": [
       "(10000, 6)"
      ]
     },
     "execution_count": 106,
     "metadata": {},
     "output_type": "execute_result"
    }
   ],
   "source": [
    "isdisr.shape"
   ]
  },
  {
   "cell_type": "code",
   "execution_count": 107,
   "metadata": {},
   "outputs": [
    {
     "data": {
      "text/plain": [
       "(10000, 7)"
      ]
     },
     "execution_count": 107,
     "metadata": {},
     "output_type": "execute_result"
    }
   ],
   "source": [
    "isdp= isdisr.merge(isper, on='적발번호', how='left')\n",
    "isdp.shape"
   ]
  },
  {
   "cell_type": "code",
   "execution_count": 108,
   "metadata": {},
   "outputs": [
    {
     "data": {
      "text/html": [
       "<div>\n",
       "<style scoped>\n",
       "    .dataframe tbody tr th:only-of-type {\n",
       "        vertical-align: middle;\n",
       "    }\n",
       "\n",
       "    .dataframe tbody tr th {\n",
       "        vertical-align: top;\n",
       "    }\n",
       "\n",
       "    .dataframe thead th {\n",
       "        text-align: right;\n",
       "    }\n",
       "</style>\n",
       "<table border=\"1\" class=\"dataframe\">\n",
       "  <thead>\n",
       "    <tr style=\"text-align: right;\">\n",
       "      <th></th>\n",
       "      <th>적발번호</th>\n",
       "      <th>발령번호</th>\n",
       "      <th>등록시도코드</th>\n",
       "      <th>등록시군구코드</th>\n",
       "      <th>적발지역코드</th>\n",
       "      <th>차대번호</th>\n",
       "      <th>단속일</th>\n",
       "    </tr>\n",
       "  </thead>\n",
       "  <tbody>\n",
       "    <tr>\n",
       "      <th>0</th>\n",
       "      <td>54793831</td>\n",
       "      <td>1838</td>\n",
       "      <td>41</td>\n",
       "      <td>190</td>\n",
       "      <td>41190</td>\n",
       "      <td>KMFXKS7BP3U657943</td>\n",
       "      <td>NaN</td>\n",
       "    </tr>\n",
       "    <tr>\n",
       "      <th>1</th>\n",
       "      <td>54793839</td>\n",
       "      <td>1838</td>\n",
       "      <td>41</td>\n",
       "      <td>190</td>\n",
       "      <td>41190</td>\n",
       "      <td>KNAMA75432S388470</td>\n",
       "      <td>NaN</td>\n",
       "    </tr>\n",
       "    <tr>\n",
       "      <th>2</th>\n",
       "      <td>54793843</td>\n",
       "      <td>1838</td>\n",
       "      <td>28</td>\n",
       "      <td>237</td>\n",
       "      <td>41190</td>\n",
       "      <td>KNGDNM9N14K178854</td>\n",
       "      <td>NaN</td>\n",
       "    </tr>\n",
       "    <tr>\n",
       "      <th>3</th>\n",
       "      <td>54795717</td>\n",
       "      <td>1838</td>\n",
       "      <td>41</td>\n",
       "      <td>130</td>\n",
       "      <td>41190</td>\n",
       "      <td>KMFGA17PP7C072098</td>\n",
       "      <td>NaN</td>\n",
       "    </tr>\n",
       "    <tr>\n",
       "      <th>4</th>\n",
       "      <td>54793837</td>\n",
       "      <td>1838</td>\n",
       "      <td>41</td>\n",
       "      <td>190</td>\n",
       "      <td>41190</td>\n",
       "      <td>KPBSH3AB18P082348</td>\n",
       "      <td>NaN</td>\n",
       "    </tr>\n",
       "  </tbody>\n",
       "</table>\n",
       "</div>"
      ],
      "text/plain": [
       "       적발번호  발령번호  등록시도코드  등록시군구코드  적발지역코드               차대번호  단속일\n",
       "0  54793831  1838      41      190   41190  KMFXKS7BP3U657943  NaN\n",
       "1  54793839  1838      41      190   41190  KNAMA75432S388470  NaN\n",
       "2  54793843  1838      28      237   41190  KNGDNM9N14K178854  NaN\n",
       "3  54795717  1838      41      130   41190  KMFGA17PP7C072098  NaN\n",
       "4  54793837  1838      41      190   41190  KPBSH3AB18P082348  NaN"
      ]
     },
     "execution_count": 108,
     "metadata": {},
     "output_type": "execute_result"
    }
   ],
   "source": [
    "isdp.head()"
   ]
  },
  {
   "cell_type": "code",
   "execution_count": 109,
   "metadata": {},
   "outputs": [
    {
     "data": {
      "text/plain": [
       "(10000, 9)"
      ]
     },
     "execution_count": 109,
     "metadata": {},
     "output_type": "execute_result"
    }
   ],
   "source": [
    "isdpi = isdp.merge(isisr, on='발령번호', how='left')\n",
    "isdpi.shape"
   ]
  },
  {
   "cell_type": "code",
   "execution_count": 110,
   "metadata": {},
   "outputs": [
    {
     "data": {
      "text/html": [
       "<div>\n",
       "<style scoped>\n",
       "    .dataframe tbody tr th:only-of-type {\n",
       "        vertical-align: middle;\n",
       "    }\n",
       "\n",
       "    .dataframe tbody tr th {\n",
       "        vertical-align: top;\n",
       "    }\n",
       "\n",
       "    .dataframe thead th {\n",
       "        text-align: right;\n",
       "    }\n",
       "</style>\n",
       "<table border=\"1\" class=\"dataframe\">\n",
       "  <thead>\n",
       "    <tr style=\"text-align: right;\">\n",
       "      <th></th>\n",
       "      <th>적발번호</th>\n",
       "      <th>발령번호</th>\n",
       "      <th>등록시도코드</th>\n",
       "      <th>등록시군구코드</th>\n",
       "      <th>적발지역코드</th>\n",
       "      <th>차대번호</th>\n",
       "      <th>단속일</th>\n",
       "      <th>농도기준아이디</th>\n",
       "      <th>유형기준아이디</th>\n",
       "    </tr>\n",
       "  </thead>\n",
       "  <tbody>\n",
       "    <tr>\n",
       "      <th>0</th>\n",
       "      <td>54793831</td>\n",
       "      <td>1838</td>\n",
       "      <td>41</td>\n",
       "      <td>190</td>\n",
       "      <td>41190</td>\n",
       "      <td>KMFXKS7BP3U657943</td>\n",
       "      <td>NaN</td>\n",
       "      <td>C012</td>\n",
       "      <td>T001</td>\n",
       "    </tr>\n",
       "    <tr>\n",
       "      <th>1</th>\n",
       "      <td>54793839</td>\n",
       "      <td>1838</td>\n",
       "      <td>41</td>\n",
       "      <td>190</td>\n",
       "      <td>41190</td>\n",
       "      <td>KNAMA75432S388470</td>\n",
       "      <td>NaN</td>\n",
       "      <td>C012</td>\n",
       "      <td>T001</td>\n",
       "    </tr>\n",
       "    <tr>\n",
       "      <th>2</th>\n",
       "      <td>54793843</td>\n",
       "      <td>1838</td>\n",
       "      <td>28</td>\n",
       "      <td>237</td>\n",
       "      <td>41190</td>\n",
       "      <td>KNGDNM9N14K178854</td>\n",
       "      <td>NaN</td>\n",
       "      <td>C012</td>\n",
       "      <td>T001</td>\n",
       "    </tr>\n",
       "    <tr>\n",
       "      <th>3</th>\n",
       "      <td>54795717</td>\n",
       "      <td>1838</td>\n",
       "      <td>41</td>\n",
       "      <td>130</td>\n",
       "      <td>41190</td>\n",
       "      <td>KMFGA17PP7C072098</td>\n",
       "      <td>NaN</td>\n",
       "      <td>C012</td>\n",
       "      <td>T001</td>\n",
       "    </tr>\n",
       "    <tr>\n",
       "      <th>4</th>\n",
       "      <td>54793837</td>\n",
       "      <td>1838</td>\n",
       "      <td>41</td>\n",
       "      <td>190</td>\n",
       "      <td>41190</td>\n",
       "      <td>KPBSH3AB18P082348</td>\n",
       "      <td>NaN</td>\n",
       "      <td>C012</td>\n",
       "      <td>T001</td>\n",
       "    </tr>\n",
       "  </tbody>\n",
       "</table>\n",
       "</div>"
      ],
      "text/plain": [
       "       적발번호  발령번호  등록시도코드  등록시군구코드  적발지역코드               차대번호  단속일 농도기준아이디   \n",
       "0  54793831  1838      41      190   41190  KMFXKS7BP3U657943  NaN    C012  \\\n",
       "1  54793839  1838      41      190   41190  KNAMA75432S388470  NaN    C012   \n",
       "2  54793843  1838      28      237   41190  KNGDNM9N14K178854  NaN    C012   \n",
       "3  54795717  1838      41      130   41190  KMFGA17PP7C072098  NaN    C012   \n",
       "4  54793837  1838      41      190   41190  KPBSH3AB18P082348  NaN    C012   \n",
       "\n",
       "  유형기준아이디  \n",
       "0    T001  \n",
       "1    T001  \n",
       "2    T001  \n",
       "3    T001  \n",
       "4    T001  "
      ]
     },
     "execution_count": 110,
     "metadata": {},
     "output_type": "execute_result"
    }
   ],
   "source": [
    "isdpi.head()"
   ]
  },
  {
   "attachments": {},
   "cell_type": "markdown",
   "metadata": {},
   "source": [
    "### 지역정보 추가"
   ]
  },
  {
   "cell_type": "code",
   "execution_count": 111,
   "metadata": {},
   "outputs": [
    {
     "data": {
      "text/html": [
       "<div>\n",
       "<style scoped>\n",
       "    .dataframe tbody tr th:only-of-type {\n",
       "        vertical-align: middle;\n",
       "    }\n",
       "\n",
       "    .dataframe tbody tr th {\n",
       "        vertical-align: top;\n",
       "    }\n",
       "\n",
       "    .dataframe thead th {\n",
       "        text-align: right;\n",
       "    }\n",
       "</style>\n",
       "<table border=\"1\" class=\"dataframe\">\n",
       "  <thead>\n",
       "    <tr style=\"text-align: right;\">\n",
       "      <th></th>\n",
       "      <th>법정동코드</th>\n",
       "      <th>시도코드</th>\n",
       "      <th>시군구코드</th>\n",
       "      <th>시도</th>\n",
       "      <th>시군구</th>\n",
       "    </tr>\n",
       "  </thead>\n",
       "  <tbody>\n",
       "    <tr>\n",
       "      <th>0</th>\n",
       "      <td>4171004506</td>\n",
       "      <td>41</td>\n",
       "      <td>710</td>\n",
       "      <td>경기도</td>\n",
       "      <td>양주군</td>\n",
       "    </tr>\n",
       "    <tr>\n",
       "      <th>1</th>\n",
       "      <td>4171004507</td>\n",
       "      <td>41</td>\n",
       "      <td>710</td>\n",
       "      <td>경기도</td>\n",
       "      <td>양주군</td>\n",
       "    </tr>\n",
       "    <tr>\n",
       "      <th>2</th>\n",
       "      <td>4171004508</td>\n",
       "      <td>41</td>\n",
       "      <td>710</td>\n",
       "      <td>경기도</td>\n",
       "      <td>양주군</td>\n",
       "    </tr>\n",
       "    <tr>\n",
       "      <th>3</th>\n",
       "      <td>4171004509</td>\n",
       "      <td>41</td>\n",
       "      <td>710</td>\n",
       "      <td>경기도</td>\n",
       "      <td>양주군</td>\n",
       "    </tr>\n",
       "    <tr>\n",
       "      <th>4</th>\n",
       "      <td>4171005000</td>\n",
       "      <td>41</td>\n",
       "      <td>710</td>\n",
       "      <td>경기도</td>\n",
       "      <td>양주군</td>\n",
       "    </tr>\n",
       "  </tbody>\n",
       "</table>\n",
       "</div>"
      ],
      "text/plain": [
       "        법정동코드  시도코드  시군구코드   시도  시군구\n",
       "0  4171004506    41    710  경기도  양주군\n",
       "1  4171004507    41    710  경기도  양주군\n",
       "2  4171004508    41    710  경기도  양주군\n",
       "3  4171004509    41    710  경기도  양주군\n",
       "4  4171005000    41    710  경기도  양주군"
      ]
     },
     "execution_count": 111,
     "metadata": {},
     "output_type": "execute_result"
    }
   ],
   "source": [
    "coder.head()"
   ]
  },
  {
   "cell_type": "code",
   "execution_count": 112,
   "metadata": {},
   "outputs": [
    {
     "data": {
      "text/html": [
       "<div>\n",
       "<style scoped>\n",
       "    .dataframe tbody tr th:only-of-type {\n",
       "        vertical-align: middle;\n",
       "    }\n",
       "\n",
       "    .dataframe tbody tr th {\n",
       "        vertical-align: top;\n",
       "    }\n",
       "\n",
       "    .dataframe thead th {\n",
       "        text-align: right;\n",
       "    }\n",
       "</style>\n",
       "<table border=\"1\" class=\"dataframe\">\n",
       "  <thead>\n",
       "    <tr style=\"text-align: right;\">\n",
       "      <th></th>\n",
       "      <th>법정동코드</th>\n",
       "      <th>시도코드</th>\n",
       "      <th>시군구코드</th>\n",
       "      <th>시도</th>\n",
       "      <th>시군구</th>\n",
       "    </tr>\n",
       "  </thead>\n",
       "  <tbody>\n",
       "    <tr>\n",
       "      <th>0</th>\n",
       "      <td>1100000000</td>\n",
       "      <td>11</td>\n",
       "      <td>0</td>\n",
       "      <td>서울특별시</td>\n",
       "      <td>NaN</td>\n",
       "    </tr>\n",
       "    <tr>\n",
       "      <th>1</th>\n",
       "      <td>1111000000</td>\n",
       "      <td>11</td>\n",
       "      <td>110</td>\n",
       "      <td>서울특별시</td>\n",
       "      <td>종로구</td>\n",
       "    </tr>\n",
       "    <tr>\n",
       "      <th>2</th>\n",
       "      <td>1114000000</td>\n",
       "      <td>11</td>\n",
       "      <td>140</td>\n",
       "      <td>서울특별시</td>\n",
       "      <td>중구</td>\n",
       "    </tr>\n",
       "    <tr>\n",
       "      <th>3</th>\n",
       "      <td>1117000000</td>\n",
       "      <td>11</td>\n",
       "      <td>170</td>\n",
       "      <td>서울특별시</td>\n",
       "      <td>용산구</td>\n",
       "    </tr>\n",
       "    <tr>\n",
       "      <th>4</th>\n",
       "      <td>1120000000</td>\n",
       "      <td>11</td>\n",
       "      <td>200</td>\n",
       "      <td>서울특별시</td>\n",
       "      <td>성동구</td>\n",
       "    </tr>\n",
       "  </tbody>\n",
       "</table>\n",
       "</div>"
      ],
      "text/plain": [
       "        법정동코드  시도코드  시군구코드     시도  시군구\n",
       "0  1100000000    11      0  서울특별시  NaN\n",
       "1  1111000000    11    110  서울특별시  종로구\n",
       "2  1114000000    11    140  서울특별시   중구\n",
       "3  1117000000    11    170  서울특별시  용산구\n",
       "4  1120000000    11    200  서울특별시  성동구"
      ]
     },
     "execution_count": 112,
     "metadata": {},
     "output_type": "execute_result"
    }
   ],
   "source": [
    "coder_dup = coder.sort_values('법정동코드', ascending=True).drop_duplicates(['시도코드', '시군구코드']).reset_index(drop=True)\n",
    "coder_dup.head()"
   ]
  },
  {
   "cell_type": "code",
   "execution_count": 130,
   "metadata": {},
   "outputs": [
    {
     "data": {
      "text/plain": [
       "(10000, 11)"
      ]
     },
     "execution_count": 130,
     "metadata": {},
     "output_type": "execute_result"
    }
   ],
   "source": [
    "is_total1 = isdpi.merge(coder_dup[['시도코드', '시군구코드', '시도', '시군구']], left_on=['등록시도코드', '등록시군구코드'], right_on=['시도코드', '시군구코드'], how='left')\n",
    "is_total1 = is_total1.drop(['시도코드', '시군구코드'], axis=1)\n",
    "is_total1.shape"
   ]
  },
  {
   "cell_type": "code",
   "execution_count": 131,
   "metadata": {},
   "outputs": [
    {
     "data": {
      "text/html": [
       "<div>\n",
       "<style scoped>\n",
       "    .dataframe tbody tr th:only-of-type {\n",
       "        vertical-align: middle;\n",
       "    }\n",
       "\n",
       "    .dataframe tbody tr th {\n",
       "        vertical-align: top;\n",
       "    }\n",
       "\n",
       "    .dataframe thead th {\n",
       "        text-align: right;\n",
       "    }\n",
       "</style>\n",
       "<table border=\"1\" class=\"dataframe\">\n",
       "  <thead>\n",
       "    <tr style=\"text-align: right;\">\n",
       "      <th></th>\n",
       "      <th>적발번호</th>\n",
       "      <th>발령번호</th>\n",
       "      <th>등록시도코드</th>\n",
       "      <th>등록시군구코드</th>\n",
       "      <th>적발지역코드</th>\n",
       "      <th>차대번호</th>\n",
       "      <th>단속일</th>\n",
       "      <th>농도기준아이디</th>\n",
       "      <th>유형기준아이디</th>\n",
       "      <th>시도</th>\n",
       "      <th>시군구</th>\n",
       "    </tr>\n",
       "  </thead>\n",
       "  <tbody>\n",
       "    <tr>\n",
       "      <th>0</th>\n",
       "      <td>54793831</td>\n",
       "      <td>1838</td>\n",
       "      <td>41</td>\n",
       "      <td>190</td>\n",
       "      <td>41190</td>\n",
       "      <td>KMFXKS7BP3U657943</td>\n",
       "      <td>NaN</td>\n",
       "      <td>C012</td>\n",
       "      <td>T001</td>\n",
       "      <td>경기도</td>\n",
       "      <td>부천시</td>\n",
       "    </tr>\n",
       "    <tr>\n",
       "      <th>1</th>\n",
       "      <td>54793839</td>\n",
       "      <td>1838</td>\n",
       "      <td>41</td>\n",
       "      <td>190</td>\n",
       "      <td>41190</td>\n",
       "      <td>KNAMA75432S388470</td>\n",
       "      <td>NaN</td>\n",
       "      <td>C012</td>\n",
       "      <td>T001</td>\n",
       "      <td>경기도</td>\n",
       "      <td>부천시</td>\n",
       "    </tr>\n",
       "    <tr>\n",
       "      <th>2</th>\n",
       "      <td>54793843</td>\n",
       "      <td>1838</td>\n",
       "      <td>28</td>\n",
       "      <td>237</td>\n",
       "      <td>41190</td>\n",
       "      <td>KNGDNM9N14K178854</td>\n",
       "      <td>NaN</td>\n",
       "      <td>C012</td>\n",
       "      <td>T001</td>\n",
       "      <td>인천광역시</td>\n",
       "      <td>부평구</td>\n",
       "    </tr>\n",
       "    <tr>\n",
       "      <th>3</th>\n",
       "      <td>54795717</td>\n",
       "      <td>1838</td>\n",
       "      <td>41</td>\n",
       "      <td>130</td>\n",
       "      <td>41190</td>\n",
       "      <td>KMFGA17PP7C072098</td>\n",
       "      <td>NaN</td>\n",
       "      <td>C012</td>\n",
       "      <td>T001</td>\n",
       "      <td>경기도</td>\n",
       "      <td>성남시</td>\n",
       "    </tr>\n",
       "    <tr>\n",
       "      <th>4</th>\n",
       "      <td>54793837</td>\n",
       "      <td>1838</td>\n",
       "      <td>41</td>\n",
       "      <td>190</td>\n",
       "      <td>41190</td>\n",
       "      <td>KPBSH3AB18P082348</td>\n",
       "      <td>NaN</td>\n",
       "      <td>C012</td>\n",
       "      <td>T001</td>\n",
       "      <td>경기도</td>\n",
       "      <td>부천시</td>\n",
       "    </tr>\n",
       "  </tbody>\n",
       "</table>\n",
       "</div>"
      ],
      "text/plain": [
       "       적발번호  발령번호  등록시도코드  등록시군구코드  적발지역코드               차대번호  단속일 농도기준아이디   \n",
       "0  54793831  1838      41      190   41190  KMFXKS7BP3U657943  NaN    C012  \\\n",
       "1  54793839  1838      41      190   41190  KNAMA75432S388470  NaN    C012   \n",
       "2  54793843  1838      28      237   41190  KNGDNM9N14K178854  NaN    C012   \n",
       "3  54795717  1838      41      130   41190  KMFGA17PP7C072098  NaN    C012   \n",
       "4  54793837  1838      41      190   41190  KPBSH3AB18P082348  NaN    C012   \n",
       "\n",
       "  유형기준아이디     시도  시군구  \n",
       "0    T001    경기도  부천시  \n",
       "1    T001    경기도  부천시  \n",
       "2    T001  인천광역시  부평구  \n",
       "3    T001    경기도  성남시  \n",
       "4    T001    경기도  부천시  "
      ]
     },
     "execution_count": 131,
     "metadata": {},
     "output_type": "execute_result"
    }
   ],
   "source": [
    "is_total1.head()"
   ]
  },
  {
   "cell_type": "code",
   "execution_count": 132,
   "metadata": {},
   "outputs": [
    {
     "data": {
      "text/html": [
       "<div>\n",
       "<style scoped>\n",
       "    .dataframe tbody tr th:only-of-type {\n",
       "        vertical-align: middle;\n",
       "    }\n",
       "\n",
       "    .dataframe tbody tr th {\n",
       "        vertical-align: top;\n",
       "    }\n",
       "\n",
       "    .dataframe thead th {\n",
       "        text-align: right;\n",
       "    }\n",
       "</style>\n",
       "<table border=\"1\" class=\"dataframe\">\n",
       "  <thead>\n",
       "    <tr style=\"text-align: right;\">\n",
       "      <th></th>\n",
       "      <th>적발번호</th>\n",
       "      <th>발령번호</th>\n",
       "      <th>등록시도코드</th>\n",
       "      <th>등록시군구코드</th>\n",
       "      <th>적발지역코드</th>\n",
       "      <th>차대번호</th>\n",
       "      <th>단속일</th>\n",
       "      <th>농도기준아이디</th>\n",
       "      <th>유형기준아이디</th>\n",
       "      <th>등록시도</th>\n",
       "      <th>등록시군구</th>\n",
       "    </tr>\n",
       "  </thead>\n",
       "  <tbody>\n",
       "    <tr>\n",
       "      <th>0</th>\n",
       "      <td>54793831</td>\n",
       "      <td>1838</td>\n",
       "      <td>41</td>\n",
       "      <td>190</td>\n",
       "      <td>41190</td>\n",
       "      <td>KMFXKS7BP3U657943</td>\n",
       "      <td>NaN</td>\n",
       "      <td>C012</td>\n",
       "      <td>T001</td>\n",
       "      <td>경기도</td>\n",
       "      <td>부천시</td>\n",
       "    </tr>\n",
       "    <tr>\n",
       "      <th>1</th>\n",
       "      <td>54793839</td>\n",
       "      <td>1838</td>\n",
       "      <td>41</td>\n",
       "      <td>190</td>\n",
       "      <td>41190</td>\n",
       "      <td>KNAMA75432S388470</td>\n",
       "      <td>NaN</td>\n",
       "      <td>C012</td>\n",
       "      <td>T001</td>\n",
       "      <td>경기도</td>\n",
       "      <td>부천시</td>\n",
       "    </tr>\n",
       "    <tr>\n",
       "      <th>2</th>\n",
       "      <td>54793843</td>\n",
       "      <td>1838</td>\n",
       "      <td>28</td>\n",
       "      <td>237</td>\n",
       "      <td>41190</td>\n",
       "      <td>KNGDNM9N14K178854</td>\n",
       "      <td>NaN</td>\n",
       "      <td>C012</td>\n",
       "      <td>T001</td>\n",
       "      <td>인천광역시</td>\n",
       "      <td>부평구</td>\n",
       "    </tr>\n",
       "    <tr>\n",
       "      <th>3</th>\n",
       "      <td>54795717</td>\n",
       "      <td>1838</td>\n",
       "      <td>41</td>\n",
       "      <td>130</td>\n",
       "      <td>41190</td>\n",
       "      <td>KMFGA17PP7C072098</td>\n",
       "      <td>NaN</td>\n",
       "      <td>C012</td>\n",
       "      <td>T001</td>\n",
       "      <td>경기도</td>\n",
       "      <td>성남시</td>\n",
       "    </tr>\n",
       "    <tr>\n",
       "      <th>4</th>\n",
       "      <td>54793837</td>\n",
       "      <td>1838</td>\n",
       "      <td>41</td>\n",
       "      <td>190</td>\n",
       "      <td>41190</td>\n",
       "      <td>KPBSH3AB18P082348</td>\n",
       "      <td>NaN</td>\n",
       "      <td>C012</td>\n",
       "      <td>T001</td>\n",
       "      <td>경기도</td>\n",
       "      <td>부천시</td>\n",
       "    </tr>\n",
       "  </tbody>\n",
       "</table>\n",
       "</div>"
      ],
      "text/plain": [
       "       적발번호  발령번호  등록시도코드  등록시군구코드  적발지역코드               차대번호  단속일 농도기준아이디   \n",
       "0  54793831  1838      41      190   41190  KMFXKS7BP3U657943  NaN    C012  \\\n",
       "1  54793839  1838      41      190   41190  KNAMA75432S388470  NaN    C012   \n",
       "2  54793843  1838      28      237   41190  KNGDNM9N14K178854  NaN    C012   \n",
       "3  54795717  1838      41      130   41190  KMFGA17PP7C072098  NaN    C012   \n",
       "4  54793837  1838      41      190   41190  KPBSH3AB18P082348  NaN    C012   \n",
       "\n",
       "  유형기준아이디   등록시도 등록시군구  \n",
       "0    T001    경기도   부천시  \n",
       "1    T001    경기도   부천시  \n",
       "2    T001  인천광역시   부평구  \n",
       "3    T001    경기도   성남시  \n",
       "4    T001    경기도   부천시  "
      ]
     },
     "execution_count": 132,
     "metadata": {},
     "output_type": "execute_result"
    }
   ],
   "source": [
    "is_total1 = is_total1.rename(columns={'시도':'등록시도', '시군구':'등록시군구'})\n",
    "is_total1.head()"
   ]
  },
  {
   "cell_type": "code",
   "execution_count": 133,
   "metadata": {},
   "outputs": [
    {
     "data": {
      "text/html": [
       "<div>\n",
       "<style scoped>\n",
       "    .dataframe tbody tr th:only-of-type {\n",
       "        vertical-align: middle;\n",
       "    }\n",
       "\n",
       "    .dataframe tbody tr th {\n",
       "        vertical-align: top;\n",
       "    }\n",
       "\n",
       "    .dataframe thead th {\n",
       "        text-align: right;\n",
       "    }\n",
       "</style>\n",
       "<table border=\"1\" class=\"dataframe\">\n",
       "  <thead>\n",
       "    <tr style=\"text-align: right;\">\n",
       "      <th></th>\n",
       "      <th>적발번호</th>\n",
       "      <th>발령번호</th>\n",
       "      <th>등록시도코드</th>\n",
       "      <th>등록시군구코드</th>\n",
       "      <th>적발지역코드</th>\n",
       "      <th>차대번호</th>\n",
       "      <th>단속일</th>\n",
       "      <th>농도기준아이디</th>\n",
       "      <th>유형기준아이디</th>\n",
       "      <th>등록시도</th>\n",
       "      <th>등록시군구</th>\n",
       "      <th>적발시도코드</th>\n",
       "      <th>적발시군구코드</th>\n",
       "    </tr>\n",
       "  </thead>\n",
       "  <tbody>\n",
       "    <tr>\n",
       "      <th>0</th>\n",
       "      <td>54793831</td>\n",
       "      <td>1838</td>\n",
       "      <td>41</td>\n",
       "      <td>190</td>\n",
       "      <td>41190</td>\n",
       "      <td>KMFXKS7BP3U657943</td>\n",
       "      <td>NaN</td>\n",
       "      <td>C012</td>\n",
       "      <td>T001</td>\n",
       "      <td>경기도</td>\n",
       "      <td>부천시</td>\n",
       "      <td>41</td>\n",
       "      <td>190</td>\n",
       "    </tr>\n",
       "    <tr>\n",
       "      <th>1</th>\n",
       "      <td>54793839</td>\n",
       "      <td>1838</td>\n",
       "      <td>41</td>\n",
       "      <td>190</td>\n",
       "      <td>41190</td>\n",
       "      <td>KNAMA75432S388470</td>\n",
       "      <td>NaN</td>\n",
       "      <td>C012</td>\n",
       "      <td>T001</td>\n",
       "      <td>경기도</td>\n",
       "      <td>부천시</td>\n",
       "      <td>41</td>\n",
       "      <td>190</td>\n",
       "    </tr>\n",
       "    <tr>\n",
       "      <th>2</th>\n",
       "      <td>54793843</td>\n",
       "      <td>1838</td>\n",
       "      <td>28</td>\n",
       "      <td>237</td>\n",
       "      <td>41190</td>\n",
       "      <td>KNGDNM9N14K178854</td>\n",
       "      <td>NaN</td>\n",
       "      <td>C012</td>\n",
       "      <td>T001</td>\n",
       "      <td>인천광역시</td>\n",
       "      <td>부평구</td>\n",
       "      <td>41</td>\n",
       "      <td>190</td>\n",
       "    </tr>\n",
       "    <tr>\n",
       "      <th>3</th>\n",
       "      <td>54795717</td>\n",
       "      <td>1838</td>\n",
       "      <td>41</td>\n",
       "      <td>130</td>\n",
       "      <td>41190</td>\n",
       "      <td>KMFGA17PP7C072098</td>\n",
       "      <td>NaN</td>\n",
       "      <td>C012</td>\n",
       "      <td>T001</td>\n",
       "      <td>경기도</td>\n",
       "      <td>성남시</td>\n",
       "      <td>41</td>\n",
       "      <td>190</td>\n",
       "    </tr>\n",
       "    <tr>\n",
       "      <th>4</th>\n",
       "      <td>54793837</td>\n",
       "      <td>1838</td>\n",
       "      <td>41</td>\n",
       "      <td>190</td>\n",
       "      <td>41190</td>\n",
       "      <td>KPBSH3AB18P082348</td>\n",
       "      <td>NaN</td>\n",
       "      <td>C012</td>\n",
       "      <td>T001</td>\n",
       "      <td>경기도</td>\n",
       "      <td>부천시</td>\n",
       "      <td>41</td>\n",
       "      <td>190</td>\n",
       "    </tr>\n",
       "  </tbody>\n",
       "</table>\n",
       "</div>"
      ],
      "text/plain": [
       "       적발번호  발령번호  등록시도코드  등록시군구코드 적발지역코드               차대번호  단속일 농도기준아이디   \n",
       "0  54793831  1838      41      190  41190  KMFXKS7BP3U657943  NaN    C012  \\\n",
       "1  54793839  1838      41      190  41190  KNAMA75432S388470  NaN    C012   \n",
       "2  54793843  1838      28      237  41190  KNGDNM9N14K178854  NaN    C012   \n",
       "3  54795717  1838      41      130  41190  KMFGA17PP7C072098  NaN    C012   \n",
       "4  54793837  1838      41      190  41190  KPBSH3AB18P082348  NaN    C012   \n",
       "\n",
       "  유형기준아이디   등록시도 등록시군구  적발시도코드  적발시군구코드  \n",
       "0    T001    경기도   부천시      41      190  \n",
       "1    T001    경기도   부천시      41      190  \n",
       "2    T001  인천광역시   부평구      41      190  \n",
       "3    T001    경기도   성남시      41      190  \n",
       "4    T001    경기도   부천시      41      190  "
      ]
     },
     "execution_count": 133,
     "metadata": {},
     "output_type": "execute_result"
    }
   ],
   "source": [
    "is_total1['적발지역코드'] = is_total1['적발지역코드'].astype('str')\n",
    "is_total1['적발시도코드'] = is_total1['적발지역코드'].str[:2]\n",
    "is_total1['적발시군구코드'] = is_total1['적발지역코드'].str[2:5]\n",
    "is_total1[['적발시도코드', '적발시군구코드']] = is_total1[['적발시도코드', '적발시군구코드']].astype('int')\n",
    "is_total1.head()"
   ]
  },
  {
   "cell_type": "code",
   "execution_count": 134,
   "metadata": {},
   "outputs": [
    {
     "data": {
      "text/html": [
       "<div>\n",
       "<style scoped>\n",
       "    .dataframe tbody tr th:only-of-type {\n",
       "        vertical-align: middle;\n",
       "    }\n",
       "\n",
       "    .dataframe tbody tr th {\n",
       "        vertical-align: top;\n",
       "    }\n",
       "\n",
       "    .dataframe thead th {\n",
       "        text-align: right;\n",
       "    }\n",
       "</style>\n",
       "<table border=\"1\" class=\"dataframe\">\n",
       "  <thead>\n",
       "    <tr style=\"text-align: right;\">\n",
       "      <th></th>\n",
       "      <th>적발번호</th>\n",
       "      <th>발령번호</th>\n",
       "      <th>등록시도코드</th>\n",
       "      <th>등록시군구코드</th>\n",
       "      <th>적발지역코드</th>\n",
       "      <th>차대번호</th>\n",
       "      <th>단속일</th>\n",
       "      <th>농도기준아이디</th>\n",
       "      <th>유형기준아이디</th>\n",
       "      <th>등록시도</th>\n",
       "      <th>등록시군구</th>\n",
       "      <th>적발시도코드</th>\n",
       "      <th>적발시군구코드</th>\n",
       "      <th>시도코드</th>\n",
       "      <th>시군구코드</th>\n",
       "      <th>시도</th>\n",
       "      <th>시군구</th>\n",
       "    </tr>\n",
       "  </thead>\n",
       "  <tbody>\n",
       "    <tr>\n",
       "      <th>0</th>\n",
       "      <td>54793831</td>\n",
       "      <td>1838</td>\n",
       "      <td>41</td>\n",
       "      <td>190</td>\n",
       "      <td>41190</td>\n",
       "      <td>KMFXKS7BP3U657943</td>\n",
       "      <td>NaN</td>\n",
       "      <td>C012</td>\n",
       "      <td>T001</td>\n",
       "      <td>경기도</td>\n",
       "      <td>부천시</td>\n",
       "      <td>41</td>\n",
       "      <td>190</td>\n",
       "      <td>41.00</td>\n",
       "      <td>190.00</td>\n",
       "      <td>경기도</td>\n",
       "      <td>부천시</td>\n",
       "    </tr>\n",
       "    <tr>\n",
       "      <th>1</th>\n",
       "      <td>54793839</td>\n",
       "      <td>1838</td>\n",
       "      <td>41</td>\n",
       "      <td>190</td>\n",
       "      <td>41190</td>\n",
       "      <td>KNAMA75432S388470</td>\n",
       "      <td>NaN</td>\n",
       "      <td>C012</td>\n",
       "      <td>T001</td>\n",
       "      <td>경기도</td>\n",
       "      <td>부천시</td>\n",
       "      <td>41</td>\n",
       "      <td>190</td>\n",
       "      <td>41.00</td>\n",
       "      <td>190.00</td>\n",
       "      <td>경기도</td>\n",
       "      <td>부천시</td>\n",
       "    </tr>\n",
       "    <tr>\n",
       "      <th>2</th>\n",
       "      <td>54793843</td>\n",
       "      <td>1838</td>\n",
       "      <td>28</td>\n",
       "      <td>237</td>\n",
       "      <td>41190</td>\n",
       "      <td>KNGDNM9N14K178854</td>\n",
       "      <td>NaN</td>\n",
       "      <td>C012</td>\n",
       "      <td>T001</td>\n",
       "      <td>인천광역시</td>\n",
       "      <td>부평구</td>\n",
       "      <td>41</td>\n",
       "      <td>190</td>\n",
       "      <td>41.00</td>\n",
       "      <td>190.00</td>\n",
       "      <td>경기도</td>\n",
       "      <td>부천시</td>\n",
       "    </tr>\n",
       "    <tr>\n",
       "      <th>3</th>\n",
       "      <td>54795717</td>\n",
       "      <td>1838</td>\n",
       "      <td>41</td>\n",
       "      <td>130</td>\n",
       "      <td>41190</td>\n",
       "      <td>KMFGA17PP7C072098</td>\n",
       "      <td>NaN</td>\n",
       "      <td>C012</td>\n",
       "      <td>T001</td>\n",
       "      <td>경기도</td>\n",
       "      <td>성남시</td>\n",
       "      <td>41</td>\n",
       "      <td>190</td>\n",
       "      <td>41.00</td>\n",
       "      <td>190.00</td>\n",
       "      <td>경기도</td>\n",
       "      <td>부천시</td>\n",
       "    </tr>\n",
       "    <tr>\n",
       "      <th>4</th>\n",
       "      <td>54793837</td>\n",
       "      <td>1838</td>\n",
       "      <td>41</td>\n",
       "      <td>190</td>\n",
       "      <td>41190</td>\n",
       "      <td>KPBSH3AB18P082348</td>\n",
       "      <td>NaN</td>\n",
       "      <td>C012</td>\n",
       "      <td>T001</td>\n",
       "      <td>경기도</td>\n",
       "      <td>부천시</td>\n",
       "      <td>41</td>\n",
       "      <td>190</td>\n",
       "      <td>41.00</td>\n",
       "      <td>190.00</td>\n",
       "      <td>경기도</td>\n",
       "      <td>부천시</td>\n",
       "    </tr>\n",
       "  </tbody>\n",
       "</table>\n",
       "</div>"
      ],
      "text/plain": [
       "       적발번호  발령번호  등록시도코드  등록시군구코드 적발지역코드               차대번호  단속일 농도기준아이디   \n",
       "0  54793831  1838      41      190  41190  KMFXKS7BP3U657943  NaN    C012  \\\n",
       "1  54793839  1838      41      190  41190  KNAMA75432S388470  NaN    C012   \n",
       "2  54793843  1838      28      237  41190  KNGDNM9N14K178854  NaN    C012   \n",
       "3  54795717  1838      41      130  41190  KMFGA17PP7C072098  NaN    C012   \n",
       "4  54793837  1838      41      190  41190  KPBSH3AB18P082348  NaN    C012   \n",
       "\n",
       "  유형기준아이디   등록시도 등록시군구  적발시도코드  적발시군구코드  시도코드  시군구코드   시도  시군구  \n",
       "0    T001    경기도   부천시      41      190 41.00 190.00  경기도  부천시  \n",
       "1    T001    경기도   부천시      41      190 41.00 190.00  경기도  부천시  \n",
       "2    T001  인천광역시   부평구      41      190 41.00 190.00  경기도  부천시  \n",
       "3    T001    경기도   성남시      41      190 41.00 190.00  경기도  부천시  \n",
       "4    T001    경기도   부천시      41      190 41.00 190.00  경기도  부천시  "
      ]
     },
     "execution_count": 134,
     "metadata": {},
     "output_type": "execute_result"
    }
   ],
   "source": [
    "is_total = is_total1.merge(coder_dup[['시도코드', '시군구코드', '시도', '시군구']], left_on=['적발시도코드', '적발시군구코드'], right_on=['시도코드', '시군구코드'], how='left')\n",
    "is_total.head()"
   ]
  },
  {
   "cell_type": "code",
   "execution_count": 135,
   "metadata": {},
   "outputs": [
    {
     "data": {
      "text/html": [
       "<div>\n",
       "<style scoped>\n",
       "    .dataframe tbody tr th:only-of-type {\n",
       "        vertical-align: middle;\n",
       "    }\n",
       "\n",
       "    .dataframe tbody tr th {\n",
       "        vertical-align: top;\n",
       "    }\n",
       "\n",
       "    .dataframe thead th {\n",
       "        text-align: right;\n",
       "    }\n",
       "</style>\n",
       "<table border=\"1\" class=\"dataframe\">\n",
       "  <thead>\n",
       "    <tr style=\"text-align: right;\">\n",
       "      <th></th>\n",
       "      <th>적발번호</th>\n",
       "      <th>발령번호</th>\n",
       "      <th>등록시도코드</th>\n",
       "      <th>등록시군구코드</th>\n",
       "      <th>적발지역코드</th>\n",
       "      <th>차대번호</th>\n",
       "      <th>단속일</th>\n",
       "      <th>농도기준아이디</th>\n",
       "      <th>유형기준아이디</th>\n",
       "      <th>등록시도</th>\n",
       "      <th>등록시군구</th>\n",
       "      <th>적발시도</th>\n",
       "      <th>적발시도</th>\n",
       "    </tr>\n",
       "  </thead>\n",
       "  <tbody>\n",
       "    <tr>\n",
       "      <th>0</th>\n",
       "      <td>54793831</td>\n",
       "      <td>1838</td>\n",
       "      <td>41</td>\n",
       "      <td>190</td>\n",
       "      <td>41190</td>\n",
       "      <td>KMFXKS7BP3U657943</td>\n",
       "      <td>NaN</td>\n",
       "      <td>C012</td>\n",
       "      <td>T001</td>\n",
       "      <td>경기도</td>\n",
       "      <td>부천시</td>\n",
       "      <td>경기도</td>\n",
       "      <td>부천시</td>\n",
       "    </tr>\n",
       "    <tr>\n",
       "      <th>1</th>\n",
       "      <td>54793839</td>\n",
       "      <td>1838</td>\n",
       "      <td>41</td>\n",
       "      <td>190</td>\n",
       "      <td>41190</td>\n",
       "      <td>KNAMA75432S388470</td>\n",
       "      <td>NaN</td>\n",
       "      <td>C012</td>\n",
       "      <td>T001</td>\n",
       "      <td>경기도</td>\n",
       "      <td>부천시</td>\n",
       "      <td>경기도</td>\n",
       "      <td>부천시</td>\n",
       "    </tr>\n",
       "    <tr>\n",
       "      <th>2</th>\n",
       "      <td>54793843</td>\n",
       "      <td>1838</td>\n",
       "      <td>28</td>\n",
       "      <td>237</td>\n",
       "      <td>41190</td>\n",
       "      <td>KNGDNM9N14K178854</td>\n",
       "      <td>NaN</td>\n",
       "      <td>C012</td>\n",
       "      <td>T001</td>\n",
       "      <td>인천광역시</td>\n",
       "      <td>부평구</td>\n",
       "      <td>경기도</td>\n",
       "      <td>부천시</td>\n",
       "    </tr>\n",
       "    <tr>\n",
       "      <th>3</th>\n",
       "      <td>54795717</td>\n",
       "      <td>1838</td>\n",
       "      <td>41</td>\n",
       "      <td>130</td>\n",
       "      <td>41190</td>\n",
       "      <td>KMFGA17PP7C072098</td>\n",
       "      <td>NaN</td>\n",
       "      <td>C012</td>\n",
       "      <td>T001</td>\n",
       "      <td>경기도</td>\n",
       "      <td>성남시</td>\n",
       "      <td>경기도</td>\n",
       "      <td>부천시</td>\n",
       "    </tr>\n",
       "    <tr>\n",
       "      <th>4</th>\n",
       "      <td>54793837</td>\n",
       "      <td>1838</td>\n",
       "      <td>41</td>\n",
       "      <td>190</td>\n",
       "      <td>41190</td>\n",
       "      <td>KPBSH3AB18P082348</td>\n",
       "      <td>NaN</td>\n",
       "      <td>C012</td>\n",
       "      <td>T001</td>\n",
       "      <td>경기도</td>\n",
       "      <td>부천시</td>\n",
       "      <td>경기도</td>\n",
       "      <td>부천시</td>\n",
       "    </tr>\n",
       "  </tbody>\n",
       "</table>\n",
       "</div>"
      ],
      "text/plain": [
       "       적발번호  발령번호  등록시도코드  등록시군구코드 적발지역코드               차대번호  단속일 농도기준아이디   \n",
       "0  54793831  1838      41      190  41190  KMFXKS7BP3U657943  NaN    C012  \\\n",
       "1  54793839  1838      41      190  41190  KNAMA75432S388470  NaN    C012   \n",
       "2  54793843  1838      28      237  41190  KNGDNM9N14K178854  NaN    C012   \n",
       "3  54795717  1838      41      130  41190  KMFGA17PP7C072098  NaN    C012   \n",
       "4  54793837  1838      41      190  41190  KPBSH3AB18P082348  NaN    C012   \n",
       "\n",
       "  유형기준아이디   등록시도 등록시군구 적발시도 적발시도  \n",
       "0    T001    경기도   부천시  경기도  부천시  \n",
       "1    T001    경기도   부천시  경기도  부천시  \n",
       "2    T001  인천광역시   부평구  경기도  부천시  \n",
       "3    T001    경기도   성남시  경기도  부천시  \n",
       "4    T001    경기도   부천시  경기도  부천시  "
      ]
     },
     "execution_count": 135,
     "metadata": {},
     "output_type": "execute_result"
    }
   ],
   "source": [
    "is_total = is_total.drop(['적발시도코드', '적발시군구코드', '시도코드', '시군구코드'], axis=1)\n",
    "is_total = is_total.rename(columns={'시도':'적발시도', '시군구':'적발시도'})\n",
    "is_total.head()"
   ]
  },
  {
   "attachments": {},
   "cell_type": "markdown",
   "metadata": {},
   "source": [
    "## 상시 병합"
   ]
  },
  {
   "cell_type": "code",
   "execution_count": 146,
   "metadata": {},
   "outputs": [
    {
     "data": {
      "text/html": [
       "<div>\n",
       "<style scoped>\n",
       "    .dataframe tbody tr th:only-of-type {\n",
       "        vertical-align: middle;\n",
       "    }\n",
       "\n",
       "    .dataframe tbody tr th {\n",
       "        vertical-align: top;\n",
       "    }\n",
       "\n",
       "    .dataframe thead th {\n",
       "        text-align: right;\n",
       "    }\n",
       "</style>\n",
       "<table border=\"1\" class=\"dataframe\">\n",
       "  <thead>\n",
       "    <tr style=\"text-align: right;\">\n",
       "      <th></th>\n",
       "      <th>번호</th>\n",
       "      <th>등록시도코드</th>\n",
       "      <th>등록시군구코드</th>\n",
       "      <th>적발유형</th>\n",
       "      <th>단속지역코드</th>\n",
       "      <th>차대번호</th>\n",
       "    </tr>\n",
       "  </thead>\n",
       "  <tbody>\n",
       "    <tr>\n",
       "      <th>0</th>\n",
       "      <td>117112</td>\n",
       "      <td>41</td>\n",
       "      <td>110</td>\n",
       "      <td>S</td>\n",
       "      <td>41430</td>\n",
       "      <td>KPBFA2AD12P021974</td>\n",
       "    </tr>\n",
       "    <tr>\n",
       "      <th>1</th>\n",
       "      <td>117111</td>\n",
       "      <td>11</td>\n",
       "      <td>0</td>\n",
       "      <td>S</td>\n",
       "      <td>41430</td>\n",
       "      <td>KMHNN81XP2U038507</td>\n",
       "    </tr>\n",
       "    <tr>\n",
       "      <th>2</th>\n",
       "      <td>117107</td>\n",
       "      <td>41</td>\n",
       "      <td>410</td>\n",
       "      <td>S</td>\n",
       "      <td>41430</td>\n",
       "      <td>KMFZCD7JP5U094049</td>\n",
       "    </tr>\n",
       "    <tr>\n",
       "      <th>3</th>\n",
       "      <td>132833</td>\n",
       "      <td>11</td>\n",
       "      <td>0</td>\n",
       "      <td>S</td>\n",
       "      <td>41130</td>\n",
       "      <td>KMFWVH7HP4U579325</td>\n",
       "    </tr>\n",
       "    <tr>\n",
       "      <th>4</th>\n",
       "      <td>6933349</td>\n",
       "      <td>11</td>\n",
       "      <td>0</td>\n",
       "      <td>S</td>\n",
       "      <td>41130</td>\n",
       "      <td>KNAMA75433S411400</td>\n",
       "    </tr>\n",
       "  </tbody>\n",
       "</table>\n",
       "</div>"
      ],
      "text/plain": [
       "        번호  등록시도코드  등록시군구코드 적발유형  단속지역코드               차대번호\n",
       "0   117112      41      110    S   41430  KPBFA2AD12P021974\n",
       "1   117111      11        0    S   41430  KMHNN81XP2U038507\n",
       "2   117107      41      410    S   41430  KMFZCD7JP5U094049\n",
       "3   132833      11        0    S   41130  KMFWVH7HP4U579325\n",
       "4  6933349      11        0    S   41130  KNAMA75433S411400"
      ]
     },
     "execution_count": 146,
     "metadata": {},
     "output_type": "execute_result"
    }
   ],
   "source": [
    "usdisr.head()"
   ]
  },
  {
   "cell_type": "code",
   "execution_count": 147,
   "metadata": {},
   "outputs": [
    {
     "data": {
      "text/html": [
       "<div>\n",
       "<style scoped>\n",
       "    .dataframe tbody tr th:only-of-type {\n",
       "        vertical-align: middle;\n",
       "    }\n",
       "\n",
       "    .dataframe tbody tr th {\n",
       "        vertical-align: top;\n",
       "    }\n",
       "\n",
       "    .dataframe thead th {\n",
       "        text-align: right;\n",
       "    }\n",
       "</style>\n",
       "<table border=\"1\" class=\"dataframe\">\n",
       "  <thead>\n",
       "    <tr style=\"text-align: right;\">\n",
       "      <th></th>\n",
       "      <th>번호</th>\n",
       "      <th>적발건수</th>\n",
       "    </tr>\n",
       "  </thead>\n",
       "  <tbody>\n",
       "    <tr>\n",
       "      <th>0</th>\n",
       "      <td>8114417</td>\n",
       "      <td>1</td>\n",
       "    </tr>\n",
       "    <tr>\n",
       "      <th>1</th>\n",
       "      <td>6933701</td>\n",
       "      <td>4</td>\n",
       "    </tr>\n",
       "    <tr>\n",
       "      <th>2</th>\n",
       "      <td>6938411</td>\n",
       "      <td>10</td>\n",
       "    </tr>\n",
       "    <tr>\n",
       "      <th>3</th>\n",
       "      <td>8114173</td>\n",
       "      <td>1</td>\n",
       "    </tr>\n",
       "    <tr>\n",
       "      <th>4</th>\n",
       "      <td>6938670</td>\n",
       "      <td>14</td>\n",
       "    </tr>\n",
       "  </tbody>\n",
       "</table>\n",
       "</div>"
      ],
      "text/plain": [
       "        번호  적발건수\n",
       "0  8114417     1\n",
       "1  6933701     4\n",
       "2  6938411    10\n",
       "3  8114173     1\n",
       "4  6938670    14"
      ]
     },
     "execution_count": 147,
     "metadata": {},
     "output_type": "execute_result"
    }
   ],
   "source": [
    "usper.head()"
   ]
  },
  {
   "cell_type": "code",
   "execution_count": 148,
   "metadata": {},
   "outputs": [
    {
     "data": {
      "text/plain": [
       "(10000, 6)"
      ]
     },
     "execution_count": 148,
     "metadata": {},
     "output_type": "execute_result"
    }
   ],
   "source": [
    "usdisr.shape"
   ]
  },
  {
   "cell_type": "code",
   "execution_count": 149,
   "metadata": {},
   "outputs": [
    {
     "data": {
      "text/plain": [
       "(10000, 7)"
      ]
     },
     "execution_count": 149,
     "metadata": {},
     "output_type": "execute_result"
    }
   ],
   "source": [
    "usdp = usdisr.merge(usper, on='번호', how='left')\n",
    "usdp.shape"
   ]
  },
  {
   "attachments": {},
   "cell_type": "markdown",
   "metadata": {},
   "source": [
    "### 지역정보 추가"
   ]
  },
  {
   "cell_type": "code",
   "execution_count": 150,
   "metadata": {},
   "outputs": [
    {
     "data": {
      "text/html": [
       "<div>\n",
       "<style scoped>\n",
       "    .dataframe tbody tr th:only-of-type {\n",
       "        vertical-align: middle;\n",
       "    }\n",
       "\n",
       "    .dataframe tbody tr th {\n",
       "        vertical-align: top;\n",
       "    }\n",
       "\n",
       "    .dataframe thead th {\n",
       "        text-align: right;\n",
       "    }\n",
       "</style>\n",
       "<table border=\"1\" class=\"dataframe\">\n",
       "  <thead>\n",
       "    <tr style=\"text-align: right;\">\n",
       "      <th></th>\n",
       "      <th>번호</th>\n",
       "      <th>등록시도코드</th>\n",
       "      <th>등록시군구코드</th>\n",
       "      <th>적발유형</th>\n",
       "      <th>단속지역코드</th>\n",
       "      <th>차대번호</th>\n",
       "      <th>적발건수</th>\n",
       "      <th>법정동코드</th>\n",
       "      <th>시도코드</th>\n",
       "      <th>시군구코드</th>\n",
       "      <th>시도</th>\n",
       "      <th>시군구</th>\n",
       "    </tr>\n",
       "  </thead>\n",
       "  <tbody>\n",
       "    <tr>\n",
       "      <th>0</th>\n",
       "      <td>117112</td>\n",
       "      <td>41</td>\n",
       "      <td>110</td>\n",
       "      <td>S</td>\n",
       "      <td>41430</td>\n",
       "      <td>KPBFA2AD12P021974</td>\n",
       "      <td>NaN</td>\n",
       "      <td>4111000000</td>\n",
       "      <td>41</td>\n",
       "      <td>110</td>\n",
       "      <td>경기도</td>\n",
       "      <td>수원시</td>\n",
       "    </tr>\n",
       "    <tr>\n",
       "      <th>1</th>\n",
       "      <td>117111</td>\n",
       "      <td>11</td>\n",
       "      <td>0</td>\n",
       "      <td>S</td>\n",
       "      <td>41430</td>\n",
       "      <td>KMHNN81XP2U038507</td>\n",
       "      <td>NaN</td>\n",
       "      <td>1100000000</td>\n",
       "      <td>11</td>\n",
       "      <td>0</td>\n",
       "      <td>서울특별시</td>\n",
       "      <td>NaN</td>\n",
       "    </tr>\n",
       "    <tr>\n",
       "      <th>2</th>\n",
       "      <td>117107</td>\n",
       "      <td>41</td>\n",
       "      <td>410</td>\n",
       "      <td>S</td>\n",
       "      <td>41430</td>\n",
       "      <td>KMFZCD7JP5U094049</td>\n",
       "      <td>NaN</td>\n",
       "      <td>4141000000</td>\n",
       "      <td>41</td>\n",
       "      <td>410</td>\n",
       "      <td>경기도</td>\n",
       "      <td>군포시</td>\n",
       "    </tr>\n",
       "    <tr>\n",
       "      <th>3</th>\n",
       "      <td>132833</td>\n",
       "      <td>11</td>\n",
       "      <td>0</td>\n",
       "      <td>S</td>\n",
       "      <td>41130</td>\n",
       "      <td>KMFWVH7HP4U579325</td>\n",
       "      <td>NaN</td>\n",
       "      <td>1100000000</td>\n",
       "      <td>11</td>\n",
       "      <td>0</td>\n",
       "      <td>서울특별시</td>\n",
       "      <td>NaN</td>\n",
       "    </tr>\n",
       "    <tr>\n",
       "      <th>4</th>\n",
       "      <td>6933349</td>\n",
       "      <td>11</td>\n",
       "      <td>0</td>\n",
       "      <td>S</td>\n",
       "      <td>41130</td>\n",
       "      <td>KNAMA75433S411400</td>\n",
       "      <td>NaN</td>\n",
       "      <td>1100000000</td>\n",
       "      <td>11</td>\n",
       "      <td>0</td>\n",
       "      <td>서울특별시</td>\n",
       "      <td>NaN</td>\n",
       "    </tr>\n",
       "  </tbody>\n",
       "</table>\n",
       "</div>"
      ],
      "text/plain": [
       "        번호  등록시도코드  등록시군구코드 적발유형  단속지역코드               차대번호  적발건수       법정동코드   \n",
       "0   117112      41      110    S   41430  KPBFA2AD12P021974   NaN  4111000000  \\\n",
       "1   117111      11        0    S   41430  KMHNN81XP2U038507   NaN  1100000000   \n",
       "2   117107      41      410    S   41430  KMFZCD7JP5U094049   NaN  4141000000   \n",
       "3   132833      11        0    S   41130  KMFWVH7HP4U579325   NaN  1100000000   \n",
       "4  6933349      11        0    S   41130  KNAMA75433S411400   NaN  1100000000   \n",
       "\n",
       "   시도코드  시군구코드     시도  시군구  \n",
       "0    41    110    경기도  수원시  \n",
       "1    11      0  서울특별시  NaN  \n",
       "2    41    410    경기도  군포시  \n",
       "3    11      0  서울특별시  NaN  \n",
       "4    11      0  서울특별시  NaN  "
      ]
     },
     "execution_count": 150,
     "metadata": {},
     "output_type": "execute_result"
    }
   ],
   "source": [
    "us_total = usdp.merge(coder_dup, left_on=['등록시도코드', '등록시군구코드'], right_on=['시도코드', '시군구코드'], how='left')\n",
    "us_total.head()"
   ]
  },
  {
   "cell_type": "code",
   "execution_count": 151,
   "metadata": {},
   "outputs": [
    {
     "data": {
      "text/html": [
       "<div>\n",
       "<style scoped>\n",
       "    .dataframe tbody tr th:only-of-type {\n",
       "        vertical-align: middle;\n",
       "    }\n",
       "\n",
       "    .dataframe tbody tr th {\n",
       "        vertical-align: top;\n",
       "    }\n",
       "\n",
       "    .dataframe thead th {\n",
       "        text-align: right;\n",
       "    }\n",
       "</style>\n",
       "<table border=\"1\" class=\"dataframe\">\n",
       "  <thead>\n",
       "    <tr style=\"text-align: right;\">\n",
       "      <th></th>\n",
       "      <th>번호</th>\n",
       "      <th>등록시도코드</th>\n",
       "      <th>등록시군구코드</th>\n",
       "      <th>적발유형</th>\n",
       "      <th>단속지역코드</th>\n",
       "      <th>차대번호</th>\n",
       "      <th>적발건수</th>\n",
       "      <th>법정동코드</th>\n",
       "      <th>시도</th>\n",
       "      <th>시군구</th>\n",
       "    </tr>\n",
       "  </thead>\n",
       "  <tbody>\n",
       "    <tr>\n",
       "      <th>0</th>\n",
       "      <td>117112</td>\n",
       "      <td>41</td>\n",
       "      <td>110</td>\n",
       "      <td>S</td>\n",
       "      <td>41430</td>\n",
       "      <td>KPBFA2AD12P021974</td>\n",
       "      <td>NaN</td>\n",
       "      <td>4111000000</td>\n",
       "      <td>경기도</td>\n",
       "      <td>수원시</td>\n",
       "    </tr>\n",
       "    <tr>\n",
       "      <th>1</th>\n",
       "      <td>117111</td>\n",
       "      <td>11</td>\n",
       "      <td>0</td>\n",
       "      <td>S</td>\n",
       "      <td>41430</td>\n",
       "      <td>KMHNN81XP2U038507</td>\n",
       "      <td>NaN</td>\n",
       "      <td>1100000000</td>\n",
       "      <td>서울특별시</td>\n",
       "      <td>NaN</td>\n",
       "    </tr>\n",
       "    <tr>\n",
       "      <th>2</th>\n",
       "      <td>117107</td>\n",
       "      <td>41</td>\n",
       "      <td>410</td>\n",
       "      <td>S</td>\n",
       "      <td>41430</td>\n",
       "      <td>KMFZCD7JP5U094049</td>\n",
       "      <td>NaN</td>\n",
       "      <td>4141000000</td>\n",
       "      <td>경기도</td>\n",
       "      <td>군포시</td>\n",
       "    </tr>\n",
       "    <tr>\n",
       "      <th>3</th>\n",
       "      <td>132833</td>\n",
       "      <td>11</td>\n",
       "      <td>0</td>\n",
       "      <td>S</td>\n",
       "      <td>41130</td>\n",
       "      <td>KMFWVH7HP4U579325</td>\n",
       "      <td>NaN</td>\n",
       "      <td>1100000000</td>\n",
       "      <td>서울특별시</td>\n",
       "      <td>NaN</td>\n",
       "    </tr>\n",
       "    <tr>\n",
       "      <th>4</th>\n",
       "      <td>6933349</td>\n",
       "      <td>11</td>\n",
       "      <td>0</td>\n",
       "      <td>S</td>\n",
       "      <td>41130</td>\n",
       "      <td>KNAMA75433S411400</td>\n",
       "      <td>NaN</td>\n",
       "      <td>1100000000</td>\n",
       "      <td>서울특별시</td>\n",
       "      <td>NaN</td>\n",
       "    </tr>\n",
       "  </tbody>\n",
       "</table>\n",
       "</div>"
      ],
      "text/plain": [
       "        번호  등록시도코드  등록시군구코드 적발유형  단속지역코드               차대번호  적발건수       법정동코드   \n",
       "0   117112      41      110    S   41430  KPBFA2AD12P021974   NaN  4111000000  \\\n",
       "1   117111      11        0    S   41430  KMHNN81XP2U038507   NaN  1100000000   \n",
       "2   117107      41      410    S   41430  KMFZCD7JP5U094049   NaN  4141000000   \n",
       "3   132833      11        0    S   41130  KMFWVH7HP4U579325   NaN  1100000000   \n",
       "4  6933349      11        0    S   41130  KNAMA75433S411400   NaN  1100000000   \n",
       "\n",
       "      시도  시군구  \n",
       "0    경기도  수원시  \n",
       "1  서울특별시  NaN  \n",
       "2    경기도  군포시  \n",
       "3  서울특별시  NaN  \n",
       "4  서울특별시  NaN  "
      ]
     },
     "execution_count": 151,
     "metadata": {},
     "output_type": "execute_result"
    }
   ],
   "source": [
    "us_total = us_total.drop(['시도코드', '시군구코드'], axis=1)\n",
    "us_total.head()"
   ]
  },
  {
   "cell_type": "code",
   "execution_count": 152,
   "metadata": {},
   "outputs": [
    {
     "data": {
      "text/plain": [
       "((10000, 13), (10000, 10))"
      ]
     },
     "execution_count": 152,
     "metadata": {},
     "output_type": "execute_result"
    }
   ],
   "source": [
    "is_total.shape, us_total.shape"
   ]
  },
  {
   "attachments": {},
   "cell_type": "markdown",
   "metadata": {},
   "source": [
    "# Load"
   ]
  },
  {
   "attachments": {},
   "cell_type": "markdown",
   "metadata": {},
   "source": [
    "## 5등급 지역별 조기폐차"
   ]
  },
  {
   "cell_type": "code",
   "execution_count": 153,
   "metadata": {},
   "outputs": [
    {
     "name": "stdout",
     "output_type": "stream",
     "text": [
      "<class 'pandas.core.frame.DataFrame'>\n",
      "RangeIndex: 68 entries, 0 to 67\n",
      "Data columns (total 6 columns):\n",
      " #   Column      Non-Null Count  Dtype  \n",
      "---  ------      --------------  -----  \n",
      " 0   RGN         68 non-null     object \n",
      " 1   YR          68 non-null     int64  \n",
      " 2   VHCL_MKCNT  68 non-null     int64  \n",
      " 3   VHCL_REDE   68 non-null     float64\n",
      " 4   ELPDSRC     68 non-null     float64\n",
      " 5   NTRL_DCLN   68 non-null     float64\n",
      "dtypes: float64(3), int64(2), object(1)\n",
      "memory usage: 3.3+ KB\n"
     ]
    }
   ],
   "source": [
    "# about 2.1s\n",
    "name = '5등급_조기폐차'\n",
    "file_name = f'{name}.xlsx'\n",
    "df1 = pd.read_excel(os.path.join(raw3_fold, file_name))\n",
    "df1.info()"
   ]
  },
  {
   "cell_type": "code",
   "execution_count": 154,
   "metadata": {},
   "outputs": [
    {
     "data": {
      "text/html": [
       "<div>\n",
       "<style scoped>\n",
       "    .dataframe tbody tr th:only-of-type {\n",
       "        vertical-align: middle;\n",
       "    }\n",
       "\n",
       "    .dataframe tbody tr th {\n",
       "        vertical-align: top;\n",
       "    }\n",
       "\n",
       "    .dataframe thead th {\n",
       "        text-align: right;\n",
       "    }\n",
       "</style>\n",
       "<table border=\"1\" class=\"dataframe\">\n",
       "  <thead>\n",
       "    <tr style=\"text-align: right;\">\n",
       "      <th></th>\n",
       "      <th>RGN</th>\n",
       "      <th>YR</th>\n",
       "      <th>VHCL_MKCNT</th>\n",
       "      <th>VHCL_REDE</th>\n",
       "      <th>ELPDSRC</th>\n",
       "      <th>NTRL_DCLN</th>\n",
       "    </tr>\n",
       "  </thead>\n",
       "  <tbody>\n",
       "    <tr>\n",
       "      <th>0</th>\n",
       "      <td>서울</td>\n",
       "      <td>2019</td>\n",
       "      <td>199898</td>\n",
       "      <td>46949.67</td>\n",
       "      <td>31792.00</td>\n",
       "      <td>15157.67</td>\n",
       "    </tr>\n",
       "    <tr>\n",
       "      <th>1</th>\n",
       "      <td>서울</td>\n",
       "      <td>2020</td>\n",
       "      <td>161864</td>\n",
       "      <td>38034.00</td>\n",
       "      <td>23045.00</td>\n",
       "      <td>14989.00</td>\n",
       "    </tr>\n",
       "    <tr>\n",
       "      <th>2</th>\n",
       "      <td>서울</td>\n",
       "      <td>2021</td>\n",
       "      <td>138381</td>\n",
       "      <td>23483.00</td>\n",
       "      <td>8148.00</td>\n",
       "      <td>15335.00</td>\n",
       "    </tr>\n",
       "    <tr>\n",
       "      <th>3</th>\n",
       "      <td>서울</td>\n",
       "      <td>2022</td>\n",
       "      <td>120996</td>\n",
       "      <td>17385.00</td>\n",
       "      <td>2476.00</td>\n",
       "      <td>14909.00</td>\n",
       "    </tr>\n",
       "    <tr>\n",
       "      <th>4</th>\n",
       "      <td>인천</td>\n",
       "      <td>2019</td>\n",
       "      <td>90619</td>\n",
       "      <td>20596.67</td>\n",
       "      <td>16421.67</td>\n",
       "      <td>4175.00</td>\n",
       "    </tr>\n",
       "  </tbody>\n",
       "</table>\n",
       "</div>"
      ],
      "text/plain": [
       "  RGN    YR  VHCL_MKCNT  VHCL_REDE  ELPDSRC  NTRL_DCLN\n",
       "0  서울  2019      199898   46949.67 31792.00   15157.67\n",
       "1  서울  2020      161864   38034.00 23045.00   14989.00\n",
       "2  서울  2021      138381   23483.00  8148.00   15335.00\n",
       "3  서울  2022      120996   17385.00  2476.00   14909.00\n",
       "4  인천  2019       90619   20596.67 16421.67    4175.00"
      ]
     },
     "execution_count": 154,
     "metadata": {},
     "output_type": "execute_result"
    }
   ],
   "source": [
    "df1.head()"
   ]
  },
  {
   "attachments": {},
   "cell_type": "markdown",
   "metadata": {},
   "source": [
    "## 5등급 저공해 미조치"
   ]
  },
  {
   "cell_type": "code",
   "execution_count": 155,
   "metadata": {},
   "outputs": [
    {
     "name": "stdout",
     "output_type": "stream",
     "text": [
      "<class 'pandas.core.frame.DataFrame'>\n",
      "RangeIndex: 12 entries, 0 to 11\n",
      "Data columns (total 3 columns):\n",
      " #   Column  Non-Null Count  Dtype \n",
      "---  ------  --------------  ----- \n",
      " 0   지역      12 non-null     object\n",
      " 1   구분      12 non-null     object\n",
      " 2   차량대수    12 non-null     int64 \n",
      "dtypes: int64(1), object(2)\n",
      "memory usage: 416.0+ bytes\n"
     ]
    }
   ],
   "source": [
    "# about 2.1s\n",
    "name = '5등급_저공해미조치'\n",
    "file_name = f'{name}.xlsx'\n",
    "no_dpf = pd.read_excel(os.path.join(raw3_fold, file_name))\n",
    "no_dpf.info()"
   ]
  },
  {
   "cell_type": "code",
   "execution_count": 156,
   "metadata": {},
   "outputs": [
    {
     "data": {
      "text/html": [
       "<div>\n",
       "<style scoped>\n",
       "    .dataframe tbody tr th:only-of-type {\n",
       "        vertical-align: middle;\n",
       "    }\n",
       "\n",
       "    .dataframe tbody tr th {\n",
       "        vertical-align: top;\n",
       "    }\n",
       "\n",
       "    .dataframe thead th {\n",
       "        text-align: right;\n",
       "    }\n",
       "</style>\n",
       "<table border=\"1\" class=\"dataframe\">\n",
       "  <thead>\n",
       "    <tr style=\"text-align: right;\">\n",
       "      <th></th>\n",
       "      <th>지역</th>\n",
       "      <th>구분</th>\n",
       "      <th>차량대수</th>\n",
       "    </tr>\n",
       "  </thead>\n",
       "  <tbody>\n",
       "    <tr>\n",
       "      <th>0</th>\n",
       "      <td>수도권</td>\n",
       "      <td>2차계절제_시작</td>\n",
       "      <td>539748</td>\n",
       "    </tr>\n",
       "    <tr>\n",
       "      <th>1</th>\n",
       "      <td>수도권</td>\n",
       "      <td>2차계절제_종료</td>\n",
       "      <td>515615</td>\n",
       "    </tr>\n",
       "    <tr>\n",
       "      <th>2</th>\n",
       "      <td>수도권</td>\n",
       "      <td>3차계절제_시작</td>\n",
       "      <td>459110</td>\n",
       "    </tr>\n",
       "    <tr>\n",
       "      <th>3</th>\n",
       "      <td>수도권</td>\n",
       "      <td>3차계절제_종료</td>\n",
       "      <td>436921</td>\n",
       "    </tr>\n",
       "    <tr>\n",
       "      <th>4</th>\n",
       "      <td>수도권</td>\n",
       "      <td>4차계절제_시작</td>\n",
       "      <td>394533</td>\n",
       "    </tr>\n",
       "  </tbody>\n",
       "</table>\n",
       "</div>"
      ],
      "text/plain": [
       "    지역        구분    차량대수\n",
       "0  수도권  2차계절제_시작  539748\n",
       "1  수도권  2차계절제_종료  515615\n",
       "2  수도권  3차계절제_시작  459110\n",
       "3  수도권  3차계절제_종료  436921\n",
       "4  수도권  4차계절제_시작  394533"
      ]
     },
     "execution_count": 156,
     "metadata": {},
     "output_type": "execute_result"
    }
   ],
   "source": [
    "no_dpf.head()"
   ]
  },
  {
   "attachments": {},
   "cell_type": "markdown",
   "metadata": {},
   "source": [
    "## [로드] 운행제한 테이블(limit)"
   ]
  },
  {
   "cell_type": "code",
   "execution_count": 23,
   "metadata": {},
   "outputs": [
    {
     "name": "stdout",
     "output_type": "stream",
     "text": [
      "<class 'pandas.core.frame.DataFrame'>\n",
      "RangeIndex: 731507 entries, 0 to 731506\n",
      "Data columns (total 7 columns):\n",
      " #   Column  Non-Null Count   Dtype  \n",
      "---  ------  --------------   -----  \n",
      " 0   VIN     731507 non-null  object \n",
      " 1   계절제_1차  37861 non-null   float64\n",
      " 2   계절제_2차  54788 non-null   float64\n",
      " 3   계절제_3차  68278 non-null   float64\n",
      " 4   비상시     94084 non-null   float64\n",
      " 5   상시      84185 non-null   float64\n",
      " 6   계절제_4차  29307 non-null   float64\n",
      "dtypes: float64(6), object(1)\n",
      "memory usage: 39.1+ MB\n"
     ]
    }
   ],
   "source": [
    "# about 2.1s\n",
    "name = '차대번호별 적발'\n",
    "file_name = f'{name}.csv'\n",
    "limit = pd.read_csv(os.path.join(raw3_fold, file_name), low_memory=False, encoding='cp949')\n",
    "limit.info()"
   ]
  },
  {
   "cell_type": "code",
   "execution_count": 24,
   "metadata": {},
   "outputs": [
    {
     "data": {
      "text/html": [
       "<div>\n",
       "<style scoped>\n",
       "    .dataframe tbody tr th:only-of-type {\n",
       "        vertical-align: middle;\n",
       "    }\n",
       "\n",
       "    .dataframe tbody tr th {\n",
       "        vertical-align: top;\n",
       "    }\n",
       "\n",
       "    .dataframe thead th {\n",
       "        text-align: right;\n",
       "    }\n",
       "</style>\n",
       "<table border=\"1\" class=\"dataframe\">\n",
       "  <thead>\n",
       "    <tr style=\"text-align: right;\">\n",
       "      <th></th>\n",
       "      <th>VIN</th>\n",
       "      <th>계절제_1차</th>\n",
       "      <th>계절제_2차</th>\n",
       "      <th>계절제_3차</th>\n",
       "      <th>비상시</th>\n",
       "      <th>상시</th>\n",
       "      <th>계절제_4차</th>\n",
       "    </tr>\n",
       "  </thead>\n",
       "  <tbody>\n",
       "    <tr>\n",
       "      <th>0</th>\n",
       "      <td>KPBFA2AD14P100772</td>\n",
       "      <td>1.00</td>\n",
       "      <td>NaN</td>\n",
       "      <td>NaN</td>\n",
       "      <td>1.00</td>\n",
       "      <td>NaN</td>\n",
       "      <td>NaN</td>\n",
       "    </tr>\n",
       "    <tr>\n",
       "      <th>1</th>\n",
       "      <td>KMJWWH7JP5U656738</td>\n",
       "      <td>4.00</td>\n",
       "      <td>2.00</td>\n",
       "      <td>25.00</td>\n",
       "      <td>3.00</td>\n",
       "      <td>NaN</td>\n",
       "      <td>1.00</td>\n",
       "    </tr>\n",
       "    <tr>\n",
       "      <th>2</th>\n",
       "      <td>KNAJC52136A532787</td>\n",
       "      <td>2.00</td>\n",
       "      <td>NaN</td>\n",
       "      <td>NaN</td>\n",
       "      <td>1.00</td>\n",
       "      <td>NaN</td>\n",
       "      <td>NaN</td>\n",
       "    </tr>\n",
       "    <tr>\n",
       "      <th>3</th>\n",
       "      <td>KMHSH81WP6U081899</td>\n",
       "      <td>4.00</td>\n",
       "      <td>NaN</td>\n",
       "      <td>NaN</td>\n",
       "      <td>1.00</td>\n",
       "      <td>NaN</td>\n",
       "      <td>NaN</td>\n",
       "    </tr>\n",
       "    <tr>\n",
       "      <th>4</th>\n",
       "      <td>KNAJE55186K143510</td>\n",
       "      <td>1.00</td>\n",
       "      <td>NaN</td>\n",
       "      <td>NaN</td>\n",
       "      <td>1.00</td>\n",
       "      <td>NaN</td>\n",
       "      <td>NaN</td>\n",
       "    </tr>\n",
       "  </tbody>\n",
       "</table>\n",
       "</div>"
      ],
      "text/plain": [
       "                 VIN  계절제_1차  계절제_2차  계절제_3차  비상시  상시  계절제_4차\n",
       "0  KPBFA2AD14P100772    1.00     NaN     NaN 1.00 NaN     NaN\n",
       "1  KMJWWH7JP5U656738    4.00    2.00   25.00 3.00 NaN    1.00\n",
       "2  KNAJC52136A532787    2.00     NaN     NaN 1.00 NaN     NaN\n",
       "3  KMHSH81WP6U081899    4.00     NaN     NaN 1.00 NaN     NaN\n",
       "4  KNAJE55186K143510    1.00     NaN     NaN 1.00 NaN     NaN"
      ]
     },
     "execution_count": 24,
     "metadata": {},
     "output_type": "execute_result"
    }
   ],
   "source": [
    "limit.head()"
   ]
  },
  {
   "attachments": {},
   "cell_type": "markdown",
   "metadata": {},
   "source": [
    "## [로드] 계절제 적발지역별 차대번호(slimit)"
   ]
  },
  {
   "cell_type": "code",
   "execution_count": 25,
   "metadata": {},
   "outputs": [
    {
     "name": "stdout",
     "output_type": "stream",
     "text": [
      "<class 'pandas.core.frame.DataFrame'>\n",
      "RangeIndex: 163294 entries, 0 to 163293\n",
      "Data columns (total 9 columns):\n",
      " #   Column  Non-Null Count   Dtype  \n",
      "---  ------  --------------   -----  \n",
      " 0   적발지역    163294 non-null  object \n",
      " 1   적발시도    163294 non-null  object \n",
      " 2   차대번호    163294 non-null  object \n",
      " 3   계절제_1차  39111 non-null   float64\n",
      " 4   계절제_2차  58088 non-null   float64\n",
      " 5   계절제_3차  73775 non-null   float64\n",
      " 6   계절제_4차  31673 non-null   float64\n",
      " 7   차종      162378 non-null  object \n",
      " 8   차종유형    162378 non-null  object \n",
      "dtypes: float64(4), object(5)\n",
      "memory usage: 11.2+ MB\n"
     ]
    }
   ],
   "source": [
    "# about 1.8s\n",
    "name = '계절제 적발지역 차대번호'\n",
    "file_name = f'{name}.csv'\n",
    "slimit = pd.read_csv(os.path.join(raw3_fold, file_name), low_memory=False, encoding='cp949')\n",
    "slimit.info()"
   ]
  },
  {
   "attachments": {},
   "cell_type": "markdown",
   "metadata": {},
   "source": [
    "# 분석"
   ]
  },
  {
   "cell_type": "code",
   "execution_count": 162,
   "metadata": {},
   "outputs": [
    {
     "data": {
      "text/html": [
       "<div>\n",
       "<style scoped>\n",
       "    .dataframe tbody tr th:only-of-type {\n",
       "        vertical-align: middle;\n",
       "    }\n",
       "\n",
       "    .dataframe tbody tr th {\n",
       "        vertical-align: top;\n",
       "    }\n",
       "\n",
       "    .dataframe thead th {\n",
       "        text-align: right;\n",
       "    }\n",
       "</style>\n",
       "<table border=\"1\" class=\"dataframe\">\n",
       "  <thead>\n",
       "    <tr style=\"text-align: right;\">\n",
       "      <th></th>\n",
       "      <th>번호</th>\n",
       "      <th>등록시도코드</th>\n",
       "      <th>등록시군구코드</th>\n",
       "      <th>적발유형</th>\n",
       "      <th>단속지역코드</th>\n",
       "      <th>차대번호</th>\n",
       "      <th>적발건수</th>\n",
       "      <th>법정동코드</th>\n",
       "      <th>시도</th>\n",
       "      <th>시군구</th>\n",
       "    </tr>\n",
       "  </thead>\n",
       "  <tbody>\n",
       "    <tr>\n",
       "      <th>0</th>\n",
       "      <td>117112</td>\n",
       "      <td>41</td>\n",
       "      <td>110</td>\n",
       "      <td>S</td>\n",
       "      <td>41430</td>\n",
       "      <td>KPBFA2AD12P021974</td>\n",
       "      <td>NaN</td>\n",
       "      <td>4111000000</td>\n",
       "      <td>경기도</td>\n",
       "      <td>수원시</td>\n",
       "    </tr>\n",
       "    <tr>\n",
       "      <th>1</th>\n",
       "      <td>117111</td>\n",
       "      <td>11</td>\n",
       "      <td>0</td>\n",
       "      <td>S</td>\n",
       "      <td>41430</td>\n",
       "      <td>KMHNN81XP2U038507</td>\n",
       "      <td>NaN</td>\n",
       "      <td>1100000000</td>\n",
       "      <td>서울특별시</td>\n",
       "      <td>NaN</td>\n",
       "    </tr>\n",
       "    <tr>\n",
       "      <th>2</th>\n",
       "      <td>117107</td>\n",
       "      <td>41</td>\n",
       "      <td>410</td>\n",
       "      <td>S</td>\n",
       "      <td>41430</td>\n",
       "      <td>KMFZCD7JP5U094049</td>\n",
       "      <td>NaN</td>\n",
       "      <td>4141000000</td>\n",
       "      <td>경기도</td>\n",
       "      <td>군포시</td>\n",
       "    </tr>\n",
       "    <tr>\n",
       "      <th>3</th>\n",
       "      <td>132833</td>\n",
       "      <td>11</td>\n",
       "      <td>0</td>\n",
       "      <td>S</td>\n",
       "      <td>41130</td>\n",
       "      <td>KMFWVH7HP4U579325</td>\n",
       "      <td>NaN</td>\n",
       "      <td>1100000000</td>\n",
       "      <td>서울특별시</td>\n",
       "      <td>NaN</td>\n",
       "    </tr>\n",
       "    <tr>\n",
       "      <th>4</th>\n",
       "      <td>6933349</td>\n",
       "      <td>11</td>\n",
       "      <td>0</td>\n",
       "      <td>S</td>\n",
       "      <td>41130</td>\n",
       "      <td>KNAMA75433S411400</td>\n",
       "      <td>NaN</td>\n",
       "      <td>1100000000</td>\n",
       "      <td>서울특별시</td>\n",
       "      <td>NaN</td>\n",
       "    </tr>\n",
       "  </tbody>\n",
       "</table>\n",
       "</div>"
      ],
      "text/plain": [
       "        번호  등록시도코드  등록시군구코드 적발유형  단속지역코드               차대번호  적발건수       법정동코드   \n",
       "0   117112      41      110    S   41430  KPBFA2AD12P021974   NaN  4111000000  \\\n",
       "1   117111      11        0    S   41430  KMHNN81XP2U038507   NaN  1100000000   \n",
       "2   117107      41      410    S   41430  KMFZCD7JP5U094049   NaN  4141000000   \n",
       "3   132833      11        0    S   41130  KMFWVH7HP4U579325   NaN  1100000000   \n",
       "4  6933349      11        0    S   41130  KNAMA75433S411400   NaN  1100000000   \n",
       "\n",
       "      시도  시군구  \n",
       "0    경기도  수원시  \n",
       "1  서울특별시  NaN  \n",
       "2    경기도  군포시  \n",
       "3  서울특별시  NaN  \n",
       "4  서울특별시  NaN  "
      ]
     },
     "execution_count": 162,
     "metadata": {},
     "output_type": "execute_result"
    }
   ],
   "source": [
    "us_total.head()"
   ]
  },
  {
   "cell_type": "code",
   "execution_count": 164,
   "metadata": {},
   "outputs": [
    {
     "data": {
      "text/plain": [
       "시도\n",
       "경기도     0.00\n",
       "서울특별시   0.00\n",
       "인천광역시   0.00\n",
       "Name: 적발건수, dtype: float64"
      ]
     },
     "execution_count": 164,
     "metadata": {},
     "output_type": "execute_result"
    }
   ],
   "source": [
    "us_total.groupby(['시도'])['적발건수'].sum()"
   ]
  },
  {
   "attachments": {},
   "cell_type": "markdown",
   "metadata": {},
   "source": [
    "## 5등급"
   ]
  },
  {
   "attachments": {},
   "cell_type": "markdown",
   "metadata": {},
   "source": [
    "### 5등급 지역별 조기폐차 현황"
   ]
  },
  {
   "cell_type": "code",
   "execution_count": 9,
   "metadata": {},
   "outputs": [],
   "source": [
    "STD_BD_GRD5_ELPDSRC_CURSTT = df1.copy()"
   ]
  },
  {
   "attachments": {},
   "cell_type": "markdown",
   "metadata": {},
   "source": [
    "#### [출력] STD_BD_GRD5_ELPDSRC_CURSTT"
   ]
  },
  {
   "cell_type": "code",
   "execution_count": null,
   "metadata": {},
   "outputs": [],
   "source": [
    "# expdf = STD_BD_GRD5_ELPDSRC_CURSTT\n",
    "# table_nm = 'STD_BD_GRD5_ELPDSRC_CURSTT'.upper()\n",
    "\n",
    "# # 테이블 생성\n",
    "# sql = 'create table ' + table_nm + '( \\n'\n",
    "\n",
    "# for idx,column in enumerate(expdf.columns):\n",
    "#     if 'float' in expdf[column].dtype.name:\n",
    "#         sql += column + ' float'\n",
    "#     elif 'int' in expdf[column].dtype.name:\n",
    "#         sql += column + ' number'\n",
    "#     else:\n",
    "#         sql += column + ' varchar(255)'\n",
    "\n",
    "#     if len(expdf.columns) - 1 != idx:\n",
    "#         sql += ','\n",
    "#     sql += '\\n'\n",
    "# sql += ')'    \n",
    "# wbt.execute(sql)\n",
    "\n",
    "# # 데이터 추가\n",
    "# # 5s\n",
    "# wbt.import_from_pandas(expdf, table_nm)"
   ]
  },
  {
   "attachments": {},
   "cell_type": "markdown",
   "metadata": {},
   "source": [
    "### 5등급 지역별 저공해미조치 차량현황"
   ]
  },
  {
   "cell_type": "code",
   "execution_count": 10,
   "metadata": {},
   "outputs": [],
   "source": [
    "cdict = {\n",
    "    '지역':'RGN',\n",
    "    '구분':'SEASON',\n",
    "    '차량대수':'VHCL_MKCNT', \n",
    "}"
   ]
  },
  {
   "cell_type": "code",
   "execution_count": 11,
   "metadata": {},
   "outputs": [
    {
     "data": {
      "text/plain": [
       "Index(['RGN', 'SEASON', 'VHCL_MKCNT'], dtype='object')"
      ]
     },
     "execution_count": 11,
     "metadata": {},
     "output_type": "execute_result"
    }
   ],
   "source": [
    "STD_BD_GRD5_LEM_N_MOD = no_dpf.rename(columns=cdict)\n",
    "STD_BD_GRD5_LEM_N_MOD.columns"
   ]
  },
  {
   "attachments": {},
   "cell_type": "markdown",
   "metadata": {},
   "source": [
    "#### [출력] [D] STD_BD_GRD5_LEM_N_MOD"
   ]
  },
  {
   "cell_type": "code",
   "execution_count": null,
   "metadata": {},
   "outputs": [],
   "source": [
    "# expdf = STD_BD_GRD5_LEM_N_MOD\n",
    "# table_nm = 'STD_BD_GRD5_LEM_N_MOD'.upper()\n",
    "\n",
    "# # 테이블 생성\n",
    "# sql = 'create table ' + table_nm + '( \\n'\n",
    "\n",
    "# for idx,column in enumerate(expdf.columns):\n",
    "#     if 'float' in expdf[column].dtype.name:\n",
    "#         sql += column + ' float'\n",
    "#     elif 'int' in expdf[column].dtype.name:\n",
    "#         sql += column + ' number'\n",
    "#     else:\n",
    "#         sql += column + ' varchar(255)'\n",
    "\n",
    "#     if len(expdf.columns) - 1 != idx:\n",
    "#         sql += ','\n",
    "#     sql += '\\n'\n",
    "# sql += ')'    \n",
    "# wbt.execute(sql)\n",
    "\n",
    "# # 데이터 추가\n",
    "# # 5s\n",
    "# wbt.import_from_pandas(expdf, table_nm)"
   ]
  },
  {
   "attachments": {},
   "cell_type": "markdown",
   "metadata": {},
   "source": [
    "### 지역별 계절관리제 적발 현황"
   ]
  },
  {
   "cell_type": "code",
   "execution_count": 127,
   "metadata": {},
   "outputs": [
    {
     "data": {
      "text/html": [
       "<div>\n",
       "<style scoped>\n",
       "    .dataframe tbody tr th:only-of-type {\n",
       "        vertical-align: middle;\n",
       "    }\n",
       "\n",
       "    .dataframe tbody tr th {\n",
       "        vertical-align: top;\n",
       "    }\n",
       "\n",
       "    .dataframe thead th {\n",
       "        text-align: right;\n",
       "    }\n",
       "</style>\n",
       "<table border=\"1\" class=\"dataframe\">\n",
       "  <thead>\n",
       "    <tr style=\"text-align: right;\">\n",
       "      <th></th>\n",
       "      <th>차대번호</th>\n",
       "      <th>계절제_1차</th>\n",
       "      <th>계절제_2차</th>\n",
       "      <th>계절제_3차</th>\n",
       "      <th>비상시</th>\n",
       "      <th>상시</th>\n",
       "      <th>계절제_4차</th>\n",
       "    </tr>\n",
       "  </thead>\n",
       "  <tbody>\n",
       "    <tr>\n",
       "      <th>0</th>\n",
       "      <td>KPBFA2AD14P100772</td>\n",
       "      <td>1.00</td>\n",
       "      <td>NaN</td>\n",
       "      <td>NaN</td>\n",
       "      <td>1.00</td>\n",
       "      <td>NaN</td>\n",
       "      <td>NaN</td>\n",
       "    </tr>\n",
       "    <tr>\n",
       "      <th>1</th>\n",
       "      <td>KMJWWH7JP5U656738</td>\n",
       "      <td>4.00</td>\n",
       "      <td>2.00</td>\n",
       "      <td>25.00</td>\n",
       "      <td>3.00</td>\n",
       "      <td>NaN</td>\n",
       "      <td>1.00</td>\n",
       "    </tr>\n",
       "    <tr>\n",
       "      <th>2</th>\n",
       "      <td>KNAJC52136A532787</td>\n",
       "      <td>2.00</td>\n",
       "      <td>NaN</td>\n",
       "      <td>NaN</td>\n",
       "      <td>1.00</td>\n",
       "      <td>NaN</td>\n",
       "      <td>NaN</td>\n",
       "    </tr>\n",
       "    <tr>\n",
       "      <th>3</th>\n",
       "      <td>KMHSH81WP6U081899</td>\n",
       "      <td>4.00</td>\n",
       "      <td>NaN</td>\n",
       "      <td>NaN</td>\n",
       "      <td>1.00</td>\n",
       "      <td>NaN</td>\n",
       "      <td>NaN</td>\n",
       "    </tr>\n",
       "    <tr>\n",
       "      <th>4</th>\n",
       "      <td>KNAJE55186K143510</td>\n",
       "      <td>1.00</td>\n",
       "      <td>NaN</td>\n",
       "      <td>NaN</td>\n",
       "      <td>1.00</td>\n",
       "      <td>NaN</td>\n",
       "      <td>NaN</td>\n",
       "    </tr>\n",
       "  </tbody>\n",
       "</table>\n",
       "</div>"
      ],
      "text/plain": [
       "                차대번호  계절제_1차  계절제_2차  계절제_3차  비상시  상시  계절제_4차\n",
       "0  KPBFA2AD14P100772    1.00     NaN     NaN 1.00 NaN     NaN\n",
       "1  KMJWWH7JP5U656738    4.00    2.00   25.00 3.00 NaN    1.00\n",
       "2  KNAJC52136A532787    2.00     NaN     NaN 1.00 NaN     NaN\n",
       "3  KMHSH81WP6U081899    4.00     NaN     NaN 1.00 NaN     NaN\n",
       "4  KNAJE55186K143510    1.00     NaN     NaN 1.00 NaN     NaN"
      ]
     },
     "execution_count": 127,
     "metadata": {},
     "output_type": "execute_result"
    }
   ],
   "source": [
    "limit.head()"
   ]
  },
  {
   "cell_type": "code",
   "execution_count": 128,
   "metadata": {},
   "outputs": [],
   "source": [
    "limit = limit.rename(columns={'VIN':'차대번호'})"
   ]
  },
  {
   "cell_type": "code",
   "execution_count": 129,
   "metadata": {},
   "outputs": [
    {
     "data": {
      "text/plain": [
       "(25693532, 22)"
      ]
     },
     "execution_count": 129,
     "metadata": {},
     "output_type": "execute_result"
    }
   ],
   "source": [
    "df.shape"
   ]
  },
  {
   "cell_type": "code",
   "execution_count": 130,
   "metadata": {},
   "outputs": [
    {
     "data": {
      "text/plain": [
       "(25693532, 28)"
      ]
     },
     "execution_count": 130,
     "metadata": {},
     "output_type": "execute_result"
    }
   ],
   "source": [
    "lmt1 = df.merge(limit, on='차대번호', how='left')\n",
    "lmt1.shape"
   ]
  },
  {
   "cell_type": "code",
   "execution_count": 131,
   "metadata": {},
   "outputs": [
    {
     "data": {
      "text/plain": [
       "Index(['차량등록번호', '본거지법정동코드', '차대번호', '제원관리번호', '배출가스인증번호', '배출가스등급', '차명',\n",
       "       '연료', '차량말소YN', '차종', '차종유형', '시도', '시구군', '읍면동', '리', '지역3', '폐지여부',\n",
       "       '대기관리권역', '대기관리권역YN', '조기폐차최종승인YN', '저감장치구분', '저감장치', '계절제_1차',\n",
       "       '계절제_2차', '계절제_3차', '비상시', '상시', '계절제_4차'],\n",
       "      dtype='object')"
      ]
     },
     "execution_count": 131,
     "metadata": {},
     "output_type": "execute_result"
    }
   ],
   "source": [
    "lmt1.columns"
   ]
  },
  {
   "cell_type": "code",
   "execution_count": 132,
   "metadata": {},
   "outputs": [
    {
     "data": {
      "text/plain": [
       "array(['서울특별시', '대구광역시', '인천광역시', '강원도', '경상남도', '전라북도', '충청북도', '경기도',\n",
       "       '부산광역시', '대전광역시', '울산광역시', '경상북도', '제주특별자치도', '전라남도', '광주광역시',\n",
       "       '충청남도', '세종특별자치시'], dtype=object)"
      ]
     },
     "execution_count": 132,
     "metadata": {},
     "output_type": "execute_result"
    }
   ],
   "source": [
    "lmt1['시도'].unique()"
   ]
  },
  {
   "cell_type": "code",
   "execution_count": 133,
   "metadata": {},
   "outputs": [],
   "source": [
    "lmt1.loc[(lmt1['시도'] == '서울특별시') | (lmt1['시도'] == '경기도') | (lmt1['시도'] == '인천광역시'), '지역'] = '수도권'\n",
    "lmt1['지역'] = lmt1['지역'].fillna('수도권외')"
   ]
  },
  {
   "cell_type": "code",
   "execution_count": 134,
   "metadata": {},
   "outputs": [
    {
     "data": {
      "text/plain": [
       "array(['수도권', '수도권외'], dtype=object)"
      ]
     },
     "execution_count": 134,
     "metadata": {},
     "output_type": "execute_result"
    }
   ],
   "source": [
    "lmt1['지역'].unique()"
   ]
  },
  {
   "cell_type": "code",
   "execution_count": 136,
   "metadata": {},
   "outputs": [],
   "source": [
    "lmt1.loc[lmt1['저감장치'] == 'DPF', '저감장치부착유무'] = '유'\n",
    "lmt1['저감장치부착유무'] = lmt1['저감장치부착유무'].fillna('무')"
   ]
  },
  {
   "cell_type": "code",
   "execution_count": 137,
   "metadata": {},
   "outputs": [
    {
     "data": {
      "text/plain": [
       "Index(['차량등록번호', '본거지법정동코드', '차대번호', '제원관리번호', '배출가스인증번호', '배출가스등급', '차명',\n",
       "       '연료', '차량말소YN', '차종', '차종유형', '시도', '시구군', '읍면동', '리', '지역3', '폐지여부',\n",
       "       '대기관리권역', '대기관리권역YN', '조기폐차최종승인YN', '저감장치구분', '저감장치', '계절제_1차',\n",
       "       '계절제_2차', '계절제_3차', '비상시', '상시', '계절제_4차', '지역', '저감장치부착유무'],\n",
       "      dtype='object')"
      ]
     },
     "execution_count": 137,
     "metadata": {},
     "output_type": "execute_result"
    }
   ],
   "source": [
    "lmt1.columns"
   ]
  },
  {
   "cell_type": "code",
   "execution_count": 138,
   "metadata": {},
   "outputs": [
    {
     "data": {
      "text/plain": [
       "(95688, 10)"
      ]
     },
     "execution_count": 138,
     "metadata": {},
     "output_type": "execute_result"
    }
   ],
   "source": [
    "season = lmt1.loc[ (lmt1['계절제_1차'] > 0) | (lmt1['계절제_2차'] > 0) | (lmt1['계절제_3차'] > 0) | (lmt1['계절제_4차'] > 0),[\n",
    "    '차대번호', \n",
    "    '계절제_1차', \n",
    "    '계절제_2차',\n",
    "    '계절제_3차', \n",
    "    '계절제_4차',\n",
    "    '지역', \n",
    "    '시도', \n",
    "    '저감장치부착유무', \n",
    "    '차종', \n",
    "    '차종유형', \n",
    "]]\n",
    "season.shape"
   ]
  },
  {
   "cell_type": "code",
   "execution_count": 139,
   "metadata": {},
   "outputs": [],
   "source": [
    "cdict = {\n",
    "    '차대번호':'VIN', \n",
    "    '계절제_1차':'SEASON_1ODR_CRDN_NOCS', \n",
    "    '계절제_2차':'SEASON_2ODR_CRDN_NOCS',\n",
    "    '계절제_3차':'SEASON_3ODR_CRDN_NOCS', \n",
    "    '계절제_4차':'SEASON_4ODR_CRDN_NOCS',\n",
    "    '지역':'RGN', \n",
    "    '시도':'CTPV', \n",
    "    '저감장치부착유무':'DPF_EXTRNS_YN', \n",
    "    '차종':'VHCTY_CD', \n",
    "    '차종유형':'VHCTY_TY', \n",
    "}"
   ]
  },
  {
   "cell_type": "code",
   "execution_count": 141,
   "metadata": {},
   "outputs": [
    {
     "data": {
      "text/plain": [
       "Index(['VIN', 'SEASON_1ODR_CRDN_NOCS', 'SEASON_2ODR_CRDN_NOCS',\n",
       "       'SEASON_3ODR_CRDN_NOCS', 'SEASON_4ODR_CRDN_NOCS', 'RGN', 'CTPV',\n",
       "       'DPF_EXTRNS_YN', 'VHCTY_CD', 'VHCTY_TY'],\n",
       "      dtype='object')"
      ]
     },
     "execution_count": 141,
     "metadata": {},
     "output_type": "execute_result"
    }
   ],
   "source": [
    "STD_BD_SEASON_CRDN_NOCS_CURSTT = season.rename(columns=cdict)\n",
    "STD_BD_SEASON_CRDN_NOCS_CURSTT.columns"
   ]
  },
  {
   "attachments": {},
   "cell_type": "markdown",
   "metadata": {},
   "source": [
    "#### [출력] [D] STD_BD_SEASON_CRDN_NOCS_CURSTT"
   ]
  },
  {
   "cell_type": "code",
   "execution_count": null,
   "metadata": {},
   "outputs": [],
   "source": [
    "# expdf = STD_BD_SEASON_CRDN_NOCS_CURSTT\n",
    "# table_nm = 'STD_BD_SEASON_CRDN_NOCS_CURSTT'.upper()\n",
    "\n",
    "# # 테이블 생성\n",
    "# sql = 'create table ' + table_nm + '( \\n'\n",
    "\n",
    "# for idx,column in enumerate(expdf.columns):\n",
    "#     if 'float' in expdf[column].dtype.name:\n",
    "#         sql += column + ' float'\n",
    "#     elif 'int' in expdf[column].dtype.name:\n",
    "#         sql += column + ' number'\n",
    "#     else:\n",
    "#         sql += column + ' varchar(255)'\n",
    "\n",
    "#     if len(expdf.columns) - 1 != idx:\n",
    "#         sql += ','\n",
    "#     sql += '\\n'\n",
    "# sql += ')'    \n",
    "# wbt.execute(sql)\n",
    "\n",
    "# # 데이터 추가\n",
    "# # 5s\n",
    "# wbt.import_from_pandas(expdf, table_nm)"
   ]
  },
  {
   "attachments": {},
   "cell_type": "markdown",
   "metadata": {},
   "source": [
    "### 지역별 상시운행제한 단속 현황"
   ]
  },
  {
   "cell_type": "code",
   "execution_count": null,
   "metadata": {},
   "outputs": [],
   "source": [
    "# orditm = lmt1.loc[lmt1['상시'] > 0, [\n",
    "#     '차대번호',\n",
    "#     '적발년도',\n",
    "#     '적발건수',\n",
    "#     '지역',\n",
    "#     '시도',\n",
    "# ]]"
   ]
  },
  {
   "attachments": {},
   "cell_type": "markdown",
   "metadata": {},
   "source": [
    "#### [로드]"
   ]
  },
  {
   "cell_type": "code",
   "execution_count": 145,
   "metadata": {},
   "outputs": [
    {
     "name": "stdout",
     "output_type": "stream",
     "text": [
      "<class 'pandas.core.frame.DataFrame'>\n",
      "RangeIndex: 106472 entries, 0 to 106471\n",
      "Data columns (total 5 columns):\n",
      " #   Column  Non-Null Count   Dtype \n",
      "---  ------  --------------   ----- \n",
      " 0   차대번호    106472 non-null  object\n",
      " 1   적발년도    106472 non-null  int64 \n",
      " 2   적발건수    106472 non-null  int64 \n",
      " 3   지역      106472 non-null  object\n",
      " 4   시도      106472 non-null  object\n",
      "dtypes: int64(2), object(3)\n",
      "memory usage: 4.1+ MB\n"
     ]
    }
   ],
   "source": [
    "# about 2.1s\n",
    "name = '상시 적발지역 차대번호2'\n",
    "file_name = f'{name}.csv'\n",
    "orditm = pd.read_csv(os.path.join(raw3_fold, file_name), encoding='cp949')\n",
    "orditm.info()"
   ]
  },
  {
   "cell_type": "code",
   "execution_count": 146,
   "metadata": {},
   "outputs": [],
   "source": [
    "cdict = {\n",
    "    '차대번호':'VIN', \n",
    "    '적발년도':'DSCL_YR', \n",
    "    '적발건수':'DSCL_NOCS', \n",
    "    '지역':'RGN',\n",
    "    '시도':'CTPV', \n",
    "}"
   ]
  },
  {
   "cell_type": "code",
   "execution_count": 147,
   "metadata": {},
   "outputs": [
    {
     "data": {
      "text/plain": [
       "Index(['VIN', 'DSCL_YR', 'DSCL_NOCS', 'RGN', 'CTPV'], dtype='object')"
      ]
     },
     "execution_count": 147,
     "metadata": {},
     "output_type": "execute_result"
    }
   ],
   "source": [
    "STD_BD_ORDITM_DSCL_CURSTT = orditm.rename(columns=cdict)\n",
    "STD_BD_ORDITM_DSCL_CURSTT.columns"
   ]
  },
  {
   "attachments": {},
   "cell_type": "markdown",
   "metadata": {},
   "source": [
    "#### [출력] STD_BD_ORDITM_DSCL_CURSTT"
   ]
  },
  {
   "cell_type": "code",
   "execution_count": null,
   "metadata": {},
   "outputs": [],
   "source": [
    "# expdf = STD_BD_ORDITM_DSCL_CURSTT\n",
    "# table_nm = 'STD_BD_ORDITM_DSCL_CURSTT'.upper()\n",
    "\n",
    "# # 테이블 생성\n",
    "# sql = 'create table ' + table_nm + '( \\n'\n",
    "\n",
    "# for idx,column in enumerate(expdf.columns):\n",
    "#     if 'float' in expdf[column].dtype.name:\n",
    "#         sql += column + ' float'\n",
    "#     elif 'int' in expdf[column].dtype.name:\n",
    "#         sql += column + ' number'\n",
    "#     else:\n",
    "#         sql += column + ' varchar(255)'\n",
    "\n",
    "#     if len(expdf.columns) - 1 != idx:\n",
    "#         sql += ','\n",
    "#     sql += '\\n'\n",
    "# sql += ')'    \n",
    "# wbt.execute(sql)\n",
    "\n",
    "# # 데이터 추가\n",
    "# # 5s\n",
    "# wbt.import_from_pandas(expdf, table_nm)"
   ]
  },
  {
   "attachments": {},
   "cell_type": "markdown",
   "metadata": {},
   "source": [
    "### 적발지역별 계절제 단속 현황 출력"
   ]
  },
  {
   "cell_type": "code",
   "execution_count": 148,
   "metadata": {},
   "outputs": [
    {
     "data": {
      "text/html": [
       "<div>\n",
       "<style scoped>\n",
       "    .dataframe tbody tr th:only-of-type {\n",
       "        vertical-align: middle;\n",
       "    }\n",
       "\n",
       "    .dataframe tbody tr th {\n",
       "        vertical-align: top;\n",
       "    }\n",
       "\n",
       "    .dataframe thead th {\n",
       "        text-align: right;\n",
       "    }\n",
       "</style>\n",
       "<table border=\"1\" class=\"dataframe\">\n",
       "  <thead>\n",
       "    <tr style=\"text-align: right;\">\n",
       "      <th></th>\n",
       "      <th>적발지역</th>\n",
       "      <th>적발시도</th>\n",
       "      <th>차대번호</th>\n",
       "      <th>계절제_1차</th>\n",
       "      <th>계절제_2차</th>\n",
       "      <th>계절제_3차</th>\n",
       "      <th>계절제_4차</th>\n",
       "      <th>차종</th>\n",
       "      <th>차종유형</th>\n",
       "    </tr>\n",
       "  </thead>\n",
       "  <tbody>\n",
       "    <tr>\n",
       "      <th>0</th>\n",
       "      <td>수도권</td>\n",
       "      <td>서울</td>\n",
       "      <td>KMFZCS7JP7U292779</td>\n",
       "      <td>4.00</td>\n",
       "      <td>NaN</td>\n",
       "      <td>NaN</td>\n",
       "      <td>NaN</td>\n",
       "      <td>화물</td>\n",
       "      <td>소형</td>\n",
       "    </tr>\n",
       "    <tr>\n",
       "      <th>1</th>\n",
       "      <td>수도권</td>\n",
       "      <td>인천</td>\n",
       "      <td>KMHSD81VP2U244691</td>\n",
       "      <td>1.00</td>\n",
       "      <td>3.00</td>\n",
       "      <td>NaN</td>\n",
       "      <td>NaN</td>\n",
       "      <td>승용</td>\n",
       "      <td>중형</td>\n",
       "    </tr>\n",
       "    <tr>\n",
       "      <th>2</th>\n",
       "      <td>수도권</td>\n",
       "      <td>인천</td>\n",
       "      <td>KMHJN81VP6U261521</td>\n",
       "      <td>1.00</td>\n",
       "      <td>NaN</td>\n",
       "      <td>NaN</td>\n",
       "      <td>NaN</td>\n",
       "      <td>승용</td>\n",
       "      <td>중형</td>\n",
       "    </tr>\n",
       "    <tr>\n",
       "      <th>3</th>\n",
       "      <td>수도권</td>\n",
       "      <td>인천</td>\n",
       "      <td>KNAJC52135A471475</td>\n",
       "      <td>1.00</td>\n",
       "      <td>NaN</td>\n",
       "      <td>NaN</td>\n",
       "      <td>NaN</td>\n",
       "      <td>승용</td>\n",
       "      <td>대형</td>\n",
       "    </tr>\n",
       "    <tr>\n",
       "      <th>4</th>\n",
       "      <td>수도권</td>\n",
       "      <td>경기</td>\n",
       "      <td>KMHSJ81WP6U029832</td>\n",
       "      <td>1.00</td>\n",
       "      <td>4.00</td>\n",
       "      <td>NaN</td>\n",
       "      <td>NaN</td>\n",
       "      <td>승용</td>\n",
       "      <td>대형</td>\n",
       "    </tr>\n",
       "  </tbody>\n",
       "</table>\n",
       "</div>"
      ],
      "text/plain": [
       "  적발지역 적발시도               차대번호  계절제_1차  계절제_2차  계절제_3차  계절제_4차  차종 차종유형\n",
       "0  수도권   서울  KMFZCS7JP7U292779    4.00     NaN     NaN     NaN  화물   소형\n",
       "1  수도권   인천  KMHSD81VP2U244691    1.00    3.00     NaN     NaN  승용   중형\n",
       "2  수도권   인천  KMHJN81VP6U261521    1.00     NaN     NaN     NaN  승용   중형\n",
       "3  수도권   인천  KNAJC52135A471475    1.00     NaN     NaN     NaN  승용   대형\n",
       "4  수도권   경기  KMHSJ81WP6U029832    1.00    4.00     NaN     NaN  승용   대형"
      ]
     },
     "execution_count": 148,
     "metadata": {},
     "output_type": "execute_result"
    }
   ],
   "source": [
    "slimit.head()"
   ]
  },
  {
   "cell_type": "code",
   "execution_count": 149,
   "metadata": {},
   "outputs": [
    {
     "data": {
      "text/plain": [
       "Index(['적발지역', '적발시도', '차대번호', '계절제_1차', '계절제_2차', '계절제_3차', '계절제_4차', '차종',\n",
       "       '차종유형'],\n",
       "      dtype='object')"
      ]
     },
     "execution_count": 149,
     "metadata": {},
     "output_type": "execute_result"
    }
   ],
   "source": [
    "slimit.columns"
   ]
  },
  {
   "cell_type": "code",
   "execution_count": 150,
   "metadata": {},
   "outputs": [],
   "source": [
    "cdict = {\n",
    "    '적발지역':'DSCL_RGN', \n",
    "    '적발시도':'DSCL_CTPV', \n",
    "    '차대번호':'VIN', \n",
    "    '계절제_1차':'SEASON_1ODR_CRDN_NOCS', \n",
    "    '계절제_2차':'SEASON_2ODR_CRDN_NOCS', \n",
    "    '계절제_3차':'SEASON_3ODR_CRDN_NOCS', \n",
    "    '계절제_4차':'SEASON_4ODR_CRDN_NOCS', \n",
    "    '차종':'VHCTY_CD',\n",
    "    '차종유형':'VHCTY_TY', \n",
    "}"
   ]
  },
  {
   "cell_type": "code",
   "execution_count": 151,
   "metadata": {},
   "outputs": [
    {
     "data": {
      "text/plain": [
       "Index(['DSCL_RGN', 'DSCL_CTPV', 'VIN', 'SEASON_1ODR_CRDN_NOCS',\n",
       "       'SEASON_2ODR_CRDN_NOCS', 'SEASON_3ODR_CRDN_NOCS',\n",
       "       'SEASON_4ODR_CRDN_NOCS', 'VHCTY_CD', 'VHCTY_TY'],\n",
       "      dtype='object')"
      ]
     },
     "execution_count": 151,
     "metadata": {},
     "output_type": "execute_result"
    }
   ],
   "source": [
    "STD_BD_SEASON_DSCL_RGN_CURSTT = slimit.rename(columns=cdict)\n",
    "STD_BD_SEASON_DSCL_RGN_CURSTT.columns"
   ]
  },
  {
   "attachments": {},
   "cell_type": "markdown",
   "metadata": {},
   "source": [
    "#### [출력] [D] STD_BD_SEASON_DSCL_RGN_CURSTT"
   ]
  },
  {
   "cell_type": "code",
   "execution_count": null,
   "metadata": {},
   "outputs": [],
   "source": [
    "# expdf = STD_BD_SEASON_DSCL_RGN_CURSTT\n",
    "# table_nm = 'STD_BD_SEASON_DSCL_RGN_CURSTT'.upper()\n",
    "\n",
    "# # 테이블 생성\n",
    "# sql = 'create table ' + table_nm + '( \\n'\n",
    "\n",
    "# for idx,column in enumerate(expdf.columns):\n",
    "#     if 'float' in expdf[column].dtype.name:\n",
    "#         sql += column + ' float'\n",
    "#     elif 'int' in expdf[column].dtype.name:\n",
    "#         sql += column + ' number'\n",
    "#     else:\n",
    "#         sql += column + ' varchar(255)'\n",
    "\n",
    "#     if len(expdf.columns) - 1 != idx:\n",
    "#         sql += ','\n",
    "#     sql += '\\n'\n",
    "# sql += ')'    \n",
    "# wbt.execute(sql)\n",
    "\n",
    "# # 데이터 추가\n",
    "# # 5s\n",
    "# wbt.import_from_pandas(expdf, table_nm)"
   ]
  },
  {
   "attachments": {},
   "cell_type": "markdown",
   "metadata": {},
   "source": [
    "# code end"
   ]
  }
 ],
 "metadata": {
  "kernelspec": {
   "display_name": "base",
   "language": "python",
   "name": "python3"
  },
  "language_info": {
   "codemirror_mode": {
    "name": "ipython",
    "version": 3
   },
   "file_extension": ".py",
   "mimetype": "text/x-python",
   "name": "python",
   "nbconvert_exporter": "python",
   "pygments_lexer": "ipython3",
   "version": "3.9.13"
  },
  "orig_nbformat": 4,
  "vscode": {
   "interpreter": {
    "hash": "ad2bdc8ecc057115af97d19610ffacc2b4e99fae6737bb82f5d7fb13d2f2c186"
   }
  }
 },
 "nbformat": 4,
 "nbformat_minor": 2
}
