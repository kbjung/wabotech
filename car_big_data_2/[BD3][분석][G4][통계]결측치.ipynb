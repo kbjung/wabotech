{
 "cells": [
  {
   "attachments": {},
   "cell_type": "markdown",
   "metadata": {},
   "source": [
    "# Library"
   ]
  },
  {
   "cell_type": "code",
   "execution_count": 1,
   "metadata": {},
   "outputs": [],
   "source": [
    "import pandas as pd\n",
    "import numpy as np\n",
    "import os"
   ]
  },
  {
   "attachments": {},
   "cell_type": "markdown",
   "metadata": {},
   "source": [
    "# 로드"
   ]
  },
  {
   "cell_type": "code",
   "execution_count": 2,
   "metadata": {},
   "outputs": [],
   "source": [
    "grade = 4\n",
    "ods_folder = 'D:\\과업\\[한국환경공단]자동차_환경_빅데이터_구축_2차\\data\\ODS'\n",
    "file_name = f'[ODS][G{grade}]등록정보&제원정보(말소적용)(한글컬럼)(2022.12.29).csv'\n",
    "ods_path = os.path.join(ods_folder, file_name)"
   ]
  },
  {
   "cell_type": "code",
   "execution_count": 3,
   "metadata": {},
   "outputs": [
    {
     "name": "stdout",
     "output_type": "stream",
     "text": [
      "<class 'pandas.core.frame.DataFrame'>\n",
      "RangeIndex: 1511251 entries, 0 to 1511250\n",
      "Data columns (total 59 columns):\n",
      " #   Column        Non-Null Count    Dtype  \n",
      "---  ------        --------------    -----  \n",
      " 0   차량관리번호        1511251 non-null  object \n",
      " 1   차량등록번호        1511251 non-null  object \n",
      " 2   본거지법정동코드      1511251 non-null  int64  \n",
      " 3   소유자구분         1511251 non-null  object \n",
      " 4   차종_등록정보       1511249 non-null  object \n",
      " 5   용도            1511251 non-null  object \n",
      " 6   미정1_x         1511251 non-null  object \n",
      " 7   현재회원번호        1510412 non-null  object \n",
      " 8   미정2_x         1511251 non-null  object \n",
      " 9   미정3_x         1511251 non-null  object \n",
      " 10  차대번호          1511251 non-null  object \n",
      " 11  최초등록일자        1511251 non-null  int64  \n",
      " 12  차량연식          1511251 non-null  int64  \n",
      " 13  차량제작일자        1342461 non-null  float64\n",
      " 14  배출가스검사유효일자    1511239 non-null  float64\n",
      " 15  제원관리번호        1511251 non-null  object \n",
      " 16  배출가스인증번호      1387542 non-null  object \n",
      " 17  배출가스등급        1511251 non-null  object \n",
      " 18  저공해조치YN(미사용)  1511096 non-null  object \n",
      " 19  저공해조치종류       189 non-null      float64\n",
      " 20  저공해조치구조변경YN   1511251 non-null  object \n",
      " 21  미정4           0 non-null        float64\n",
      " 22  차량등록번호숫자정보    1511251 non-null  int64  \n",
      " 23  차량말소YN        1511251 non-null  object \n",
      " 24  미정5           1511230 non-null  object \n",
      " 25  최초회원번호        1506595 non-null  object \n",
      " 26  취득일자          1418010 non-null  object \n",
      " 27  취득금액          1436843 non-null  float64\n",
      " 28  미정6           403099 non-null   object \n",
      " 29  생성일시_등록정보     1511251 non-null  object \n",
      " 30  수정일시_등록정보     915041 non-null   object \n",
      " 31  미정7           1511251 non-null  object \n",
      " 32  차명            1511251 non-null  object \n",
      " 33  차종_제원정보       1511251 non-null  object \n",
      " 34  차종분류          1511251 non-null  object \n",
      " 35  차종유형(소분류)     1511251 non-null  object \n",
      " 36  자동차형식         1510723 non-null  object \n",
      " 37  제작사명          1501221 non-null  object \n",
      " 38  연료            1511180 non-null  object \n",
      " 39  엔진형식          1509249 non-null  object \n",
      " 40  공차중량          0 non-null        float64\n",
      " 41  총중량           1511226 non-null  float64\n",
      " 42  적재중량          1510714 non-null  float64\n",
      " 43  엔진출력          1510623 non-null  float64\n",
      " 44  배기량           1511240 non-null  float64\n",
      " 45  승차인원          1511251 non-null  float64\n",
      " 46  차량길이          1511176 non-null  float64\n",
      " 47  차량너비          1511176 non-null  float64\n",
      " 48  차량높이          1511174 non-null  float64\n",
      " 49  원산지명          1492122 non-null  object \n",
      " 50  미정1_y         0 non-null        float64\n",
      " 51  삭제YN          1511251 non-null  object \n",
      " 52  승인일자          1510704 non-null  object \n",
      " 53  구동형식          47 non-null       float64\n",
      " 54  변속기종류         1511091 non-null  object \n",
      " 55  미정2_y         0 non-null        float64\n",
      " 56  생성일시_제원정보     1511251 non-null  object \n",
      " 57  수정일시_제원정보     497 non-null      object \n",
      " 58  미정3_y         1511251 non-null  object \n",
      "dtypes: float64(17), int64(4), object(38)\n",
      "memory usage: 680.3+ MB\n"
     ]
    }
   ],
   "source": [
    "# about 50s\n",
    "df = pd.read_csv(ods_path, encoding='cp949', low_memory=False)\n",
    "df.info()"
   ]
  },
  {
   "cell_type": "code",
   "execution_count": 8,
   "metadata": {},
   "outputs": [
    {
     "name": "stdout",
     "output_type": "stream",
     "text": [
      "<class 'pandas.core.frame.DataFrame'>\n",
      "Int64Index: 810777 entries, 0 to 810776\n",
      "Data columns (total 11 columns):\n",
      " #   Column      Non-Null Count   Dtype  \n",
      "---  ------      --------------   -----  \n",
      " 0   저감장치종류      586898 non-null  object \n",
      " 1   TDMS부착여부    204951 non-null  object \n",
      " 2   구조변경일자      810777 non-null  int64  \n",
      " 3   부착업체명       801632 non-null  object \n",
      " 4   부착일자        810775 non-null  float64\n",
      " 5   탈거승인일       178 non-null     float64\n",
      " 6   차량번호        810777 non-null  object \n",
      " 7   차대번호        810777 non-null  object \n",
      " 8   저감장치반납여부    326030 non-null  object \n",
      " 9   저감장치구분      810777 non-null  object \n",
      " 10  삼원촉매장치반납여부  13694 non-null   object \n",
      "dtypes: float64(2), int64(1), object(8)\n",
      "memory usage: 74.2+ MB\n"
     ]
    }
   ],
   "source": [
    "file_name = f'[ODS]저감장치부착이력(한글컬럼)(2022.12.29).csv'\n",
    "ods_path = os.path.join(ods_folder, file_name)\n",
    "dpf = pd.read_csv(ods_path, index_col=0, low_memory=False)\n",
    "dpf.info()"
   ]
  },
  {
   "attachments": {},
   "cell_type": "markdown",
   "metadata": {},
   "source": [
    "# 전처리\n",
    "- 연료(제원정보) : 전기차 제외"
   ]
  },
  {
   "cell_type": "code",
   "execution_count": 9,
   "metadata": {},
   "outputs": [
    {
     "data": {
      "text/plain": [
       "Index(['차량관리번호', '차량등록번호', '본거지법정동코드', '소유자구분', '차종_등록정보', '용도', '미정1_x',\n",
       "       '현재회원번호', '미정2_x', '미정3_x', '차대번호', '최초등록일자', '차량연식', '차량제작일자',\n",
       "       '배출가스검사유효일자', '제원관리번호', '배출가스인증번호', '배출가스등급', '저공해조치YN(미사용)', '저공해조치종류',\n",
       "       '저공해조치구조변경YN', '미정4', '차량등록번호숫자정보', '차량말소YN', '미정5', '최초회원번호', '취득일자',\n",
       "       '취득금액', '미정6', '생성일시_등록정보', '수정일시_등록정보', '미정7', '차명', '차종_제원정보', '차종분류',\n",
       "       '차종유형(소분류)', '자동차형식', '제작사명', '연료', '엔진형식', '공차중량', '총중량', '적재중량',\n",
       "       '엔진출력', '배기량', '승차인원', '차량길이', '차량너비', '차량높이', '원산지명', '미정1_y', '삭제YN',\n",
       "       '승인일자', '구동형식', '변속기종류', '미정2_y', '생성일시_제원정보', '수정일시_제원정보', '미정3_y'],\n",
       "      dtype='object')"
      ]
     },
     "execution_count": 9,
     "metadata": {},
     "output_type": "execute_result"
    }
   ],
   "source": [
    "df.columns"
   ]
  },
  {
   "cell_type": "code",
   "execution_count": 10,
   "metadata": {},
   "outputs": [
    {
     "data": {
      "text/plain": [
       "array(['휘발유', 'LGP(액화석유가스)', '경유', '기타연료', nan, '알코올', 'CNG(압축천연가스)'],\n",
       "      dtype=object)"
      ]
     },
     "execution_count": 10,
     "metadata": {},
     "output_type": "execute_result"
    }
   ],
   "source": [
    "df['연료'].unique()"
   ]
  },
  {
   "attachments": {},
   "cell_type": "markdown",
   "metadata": {},
   "source": [
    "## 필요한 컬럼만 추출"
   ]
  },
  {
   "cell_type": "code",
   "execution_count": 11,
   "metadata": {},
   "outputs": [],
   "source": [
    "df1 = df[['차량관리번호', '차량등록번호', '본거지법정동코드', '소유자구분', '차종_등록정보', '용도', '현재회원번호', '차대번호', '최초등록일자', '차량연식', '차량제작일자', '배출가스검사유효일자',\n",
    "          '제원관리번호', '배출가스인증번호', '배출가스등급', '저공해조치YN(미사용)', '저공해조치종류', '저공해조치구조변경YN', '차량등록번호숫자정보', '차량말소YN', '최초회원번호', '취득일자', '취득금액', \n",
    "          '생성일시_등록정보', '수정일시_등록정보', '차명', '차종_제원정보', '차종분류', '차종유형(소분류)', '자동차형식', '제작사명', '연료', '엔진형식', '공차중량', '총중량', '적재중량', '엔진출력', '배기량', \n",
    "          '승차인원', '차량길이', '차량너비', '차량높이', '원산지명', '삭제YN', '승인일자', '구동형식', '변속기종류', '생성일시_제원정보', '수정일시_제원정보', ]]"
   ]
  },
  {
   "attachments": {},
   "cell_type": "markdown",
   "metadata": {},
   "source": [
    "## 연료가 전기인 샘플만 추출"
   ]
  },
  {
   "cell_type": "code",
   "execution_count": 12,
   "metadata": {},
   "outputs": [
    {
     "data": {
      "text/plain": [
       "array(['휘발유', 'LGP(액화석유가스)', '경유', '기타연료', nan, '알코올', 'CNG(압축천연가스)'],\n",
       "      dtype=object)"
      ]
     },
     "execution_count": 12,
     "metadata": {},
     "output_type": "execute_result"
    }
   ],
   "source": [
    "df1['연료'].unique()"
   ]
  },
  {
   "cell_type": "code",
   "execution_count": 13,
   "metadata": {},
   "outputs": [
    {
     "data": {
      "text/plain": [
       "경유             1152698\n",
       "휘발유             332351\n",
       "LGP(액화석유가스)      26090\n",
       "기타연료                39\n",
       "알코올                  1\n",
       "CNG(압축천연가스)          1\n",
       "Name: 연료, dtype: int64"
      ]
     },
     "execution_count": 13,
     "metadata": {},
     "output_type": "execute_result"
    }
   ],
   "source": [
    "df1['연료'].value_counts()"
   ]
  },
  {
   "cell_type": "code",
   "execution_count": 14,
   "metadata": {},
   "outputs": [
    {
     "data": {
      "text/plain": [
       "(1511251, 49)"
      ]
     },
     "execution_count": 14,
     "metadata": {},
     "output_type": "execute_result"
    }
   ],
   "source": [
    "df1.shape"
   ]
  },
  {
   "cell_type": "code",
   "execution_count": 15,
   "metadata": {},
   "outputs": [
    {
     "data": {
      "text/plain": [
       "(1511251, 49)"
      ]
     },
     "execution_count": 15,
     "metadata": {},
     "output_type": "execute_result"
    }
   ],
   "source": [
    "df2 = df1[df1['연료'] != '전기'].reset_index(drop=True)\n",
    "df2.shape"
   ]
  },
  {
   "cell_type": "code",
   "execution_count": null,
   "metadata": {},
   "outputs": [
    {
     "data": {
      "text/plain": [
       "2404576"
      ]
     },
     "metadata": {},
     "output_type": "display_data"
    }
   ],
   "source": [
    "len(df2['차대번호'].unique())"
   ]
  },
  {
   "attachments": {},
   "cell_type": "markdown",
   "metadata": {},
   "source": [
    "## 중복 차대번호 처리\n",
    "- '최초등록일자', '배출가스검사유효일자', ascending=False"
   ]
  },
  {
   "cell_type": "code",
   "execution_count": null,
   "metadata": {},
   "outputs": [
    {
     "data": {
      "text/plain": [
       "(2404576, 49)"
      ]
     },
     "metadata": {},
     "output_type": "display_data"
    }
   ],
   "source": [
    "df2 = df2.sort_values(['최초등록일자', '배출가스검사유효일자'], ascending=False).drop_duplicates('차대번호').reset_index(drop=True)\n",
    "df2.shape"
   ]
  },
  {
   "attachments": {},
   "cell_type": "markdown",
   "metadata": {},
   "source": [
    "### [출력]"
   ]
  },
  {
   "cell_type": "code",
   "execution_count": null,
   "metadata": {},
   "outputs": [],
   "source": [
    "# about 57s\n",
    "df2.to_csv(os.path.join(ods_folder, f'[ODS][G{grade}]등록정보&제원정보(말소적용)(중복차대제거)(한글컬럼)(2022.12.29).csv'), index=False)"
   ]
  },
  {
   "attachments": {},
   "cell_type": "markdown",
   "metadata": {},
   "source": [
    "## 저감장치부착여부 추가"
   ]
  },
  {
   "cell_type": "code",
   "execution_count": 17,
   "metadata": {},
   "outputs": [
    {
     "data": {
      "text/plain": [
       "(1511251, 59)"
      ]
     },
     "execution_count": 17,
     "metadata": {},
     "output_type": "execute_result"
    }
   ],
   "source": [
    "df3 = df2.merge(dpf, on='차대번호', how='left')\n",
    "df3.shape"
   ]
  },
  {
   "cell_type": "code",
   "execution_count": 18,
   "metadata": {},
   "outputs": [
    {
     "data": {
      "text/html": [
       "<div>\n",
       "<style scoped>\n",
       "    .dataframe tbody tr th:only-of-type {\n",
       "        vertical-align: middle;\n",
       "    }\n",
       "\n",
       "    .dataframe tbody tr th {\n",
       "        vertical-align: top;\n",
       "    }\n",
       "\n",
       "    .dataframe thead th {\n",
       "        text-align: right;\n",
       "    }\n",
       "</style>\n",
       "<table border=\"1\" class=\"dataframe\">\n",
       "  <thead>\n",
       "    <tr style=\"text-align: right;\">\n",
       "      <th></th>\n",
       "      <th>차량관리번호</th>\n",
       "      <th>차량등록번호</th>\n",
       "      <th>본거지법정동코드</th>\n",
       "      <th>소유자구분</th>\n",
       "      <th>차종_등록정보</th>\n",
       "      <th>용도</th>\n",
       "      <th>현재회원번호</th>\n",
       "      <th>차대번호</th>\n",
       "      <th>최초등록일자</th>\n",
       "      <th>차량연식</th>\n",
       "      <th>...</th>\n",
       "      <th>저감장치종류</th>\n",
       "      <th>TDMS부착여부</th>\n",
       "      <th>구조변경일자</th>\n",
       "      <th>부착업체명</th>\n",
       "      <th>부착일자</th>\n",
       "      <th>탈거승인일</th>\n",
       "      <th>차량번호</th>\n",
       "      <th>저감장치반납여부</th>\n",
       "      <th>저감장치구분</th>\n",
       "      <th>삼원촉매장치반납여부</th>\n",
       "    </tr>\n",
       "  </thead>\n",
       "  <tbody>\n",
       "    <tr>\n",
       "      <th>0</th>\n",
       "      <td>CN-62-T-2213-01</td>\n",
       "      <td>서울2흐1820</td>\n",
       "      <td>1159010200</td>\n",
       "      <td>주민</td>\n",
       "      <td>승용</td>\n",
       "      <td>자가용</td>\n",
       "      <td>83F93626F5DE27EA64594DE5B3D02DB4</td>\n",
       "      <td>CN-62-T-2213</td>\n",
       "      <td>19650209</td>\n",
       "      <td>2002</td>\n",
       "      <td>...</td>\n",
       "      <td>NaN</td>\n",
       "      <td>NaN</td>\n",
       "      <td>NaN</td>\n",
       "      <td>NaN</td>\n",
       "      <td>NaN</td>\n",
       "      <td>NaN</td>\n",
       "      <td>NaN</td>\n",
       "      <td>NaN</td>\n",
       "      <td>NaN</td>\n",
       "      <td>NaN</td>\n",
       "    </tr>\n",
       "    <tr>\n",
       "      <th>1</th>\n",
       "      <td>SL68T032460-01</td>\n",
       "      <td>서울5가1334</td>\n",
       "      <td>1165010100</td>\n",
       "      <td>기타</td>\n",
       "      <td>승용</td>\n",
       "      <td>자가용</td>\n",
       "      <td>FFFB77E175610478415F654BFE77B2E7</td>\n",
       "      <td>SL68T032460</td>\n",
       "      <td>19750127</td>\n",
       "      <td>1968</td>\n",
       "      <td>...</td>\n",
       "      <td>NaN</td>\n",
       "      <td>NaN</td>\n",
       "      <td>NaN</td>\n",
       "      <td>NaN</td>\n",
       "      <td>NaN</td>\n",
       "      <td>NaN</td>\n",
       "      <td>NaN</td>\n",
       "      <td>NaN</td>\n",
       "      <td>NaN</td>\n",
       "      <td>NaN</td>\n",
       "    </tr>\n",
       "    <tr>\n",
       "      <th>2</th>\n",
       "      <td>2T1CF2897YC359923-01</td>\n",
       "      <td>16다1728</td>\n",
       "      <td>1117012400</td>\n",
       "      <td>기타</td>\n",
       "      <td>승용</td>\n",
       "      <td>자가용</td>\n",
       "      <td>086EDAAD3932E03864AB0AB7C3403056</td>\n",
       "      <td>2T1CF2897YC359923</td>\n",
       "      <td>19821231</td>\n",
       "      <td>2000</td>\n",
       "      <td>...</td>\n",
       "      <td>NaN</td>\n",
       "      <td>NaN</td>\n",
       "      <td>NaN</td>\n",
       "      <td>NaN</td>\n",
       "      <td>NaN</td>\n",
       "      <td>NaN</td>\n",
       "      <td>NaN</td>\n",
       "      <td>NaN</td>\n",
       "      <td>NaN</td>\n",
       "      <td>NaN</td>\n",
       "    </tr>\n",
       "    <tr>\n",
       "      <th>3</th>\n",
       "      <td>KNADA2322HS004198-01</td>\n",
       "      <td>전북1나2309</td>\n",
       "      <td>4574033530</td>\n",
       "      <td>주민</td>\n",
       "      <td>승용</td>\n",
       "      <td>자가용</td>\n",
       "      <td>1F391F79050FA17A36109FCFCAFC5299</td>\n",
       "      <td>KNADA2322HS004198</td>\n",
       "      <td>19870411</td>\n",
       "      <td>1987</td>\n",
       "      <td>...</td>\n",
       "      <td>NaN</td>\n",
       "      <td>NaN</td>\n",
       "      <td>NaN</td>\n",
       "      <td>NaN</td>\n",
       "      <td>NaN</td>\n",
       "      <td>NaN</td>\n",
       "      <td>NaN</td>\n",
       "      <td>NaN</td>\n",
       "      <td>NaN</td>\n",
       "      <td>NaN</td>\n",
       "    </tr>\n",
       "    <tr>\n",
       "      <th>4</th>\n",
       "      <td>KNADA2322HS004932-01</td>\n",
       "      <td>경기30다4720</td>\n",
       "      <td>4159025323</td>\n",
       "      <td>주민</td>\n",
       "      <td>승용</td>\n",
       "      <td>자가용</td>\n",
       "      <td>9ED8F300515AFBB6E571F7BE6F30DC08</td>\n",
       "      <td>KNADA2322HS004932</td>\n",
       "      <td>19870421</td>\n",
       "      <td>1987</td>\n",
       "      <td>...</td>\n",
       "      <td>NaN</td>\n",
       "      <td>NaN</td>\n",
       "      <td>NaN</td>\n",
       "      <td>NaN</td>\n",
       "      <td>NaN</td>\n",
       "      <td>NaN</td>\n",
       "      <td>NaN</td>\n",
       "      <td>NaN</td>\n",
       "      <td>NaN</td>\n",
       "      <td>NaN</td>\n",
       "    </tr>\n",
       "  </tbody>\n",
       "</table>\n",
       "<p>5 rows × 59 columns</p>\n",
       "</div>"
      ],
      "text/plain": [
       "                 차량관리번호     차량등록번호    본거지법정동코드 소유자구분 차종_등록정보   용도  \\\n",
       "0       CN-62-T-2213-01   서울2흐1820  1159010200    주민      승용  자가용   \n",
       "1        SL68T032460-01   서울5가1334  1165010100    기타      승용  자가용   \n",
       "2  2T1CF2897YC359923-01    16다1728  1117012400    기타      승용  자가용   \n",
       "3  KNADA2322HS004198-01   전북1나2309  4574033530    주민      승용  자가용   \n",
       "4  KNADA2322HS004932-01  경기30다4720  4159025323    주민      승용  자가용   \n",
       "\n",
       "                             현재회원번호               차대번호    최초등록일자  차량연식  ...  \\\n",
       "0  83F93626F5DE27EA64594DE5B3D02DB4       CN-62-T-2213  19650209  2002  ...   \n",
       "1  FFFB77E175610478415F654BFE77B2E7        SL68T032460  19750127  1968  ...   \n",
       "2  086EDAAD3932E03864AB0AB7C3403056  2T1CF2897YC359923  19821231  2000  ...   \n",
       "3  1F391F79050FA17A36109FCFCAFC5299  KNADA2322HS004198  19870411  1987  ...   \n",
       "4  9ED8F300515AFBB6E571F7BE6F30DC08  KNADA2322HS004932  19870421  1987  ...   \n",
       "\n",
       "   저감장치종류  TDMS부착여부 구조변경일자 부착업체명 부착일자 탈거승인일  차량번호 저감장치반납여부  저감장치구분 삼원촉매장치반납여부  \n",
       "0     NaN       NaN    NaN   NaN  NaN   NaN   NaN      NaN     NaN        NaN  \n",
       "1     NaN       NaN    NaN   NaN  NaN   NaN   NaN      NaN     NaN        NaN  \n",
       "2     NaN       NaN    NaN   NaN  NaN   NaN   NaN      NaN     NaN        NaN  \n",
       "3     NaN       NaN    NaN   NaN  NaN   NaN   NaN      NaN     NaN        NaN  \n",
       "4     NaN       NaN    NaN   NaN  NaN   NaN   NaN      NaN     NaN        NaN  \n",
       "\n",
       "[5 rows x 59 columns]"
      ]
     },
     "execution_count": 18,
     "metadata": {},
     "output_type": "execute_result"
    }
   ],
   "source": [
    "df3.head()"
   ]
  },
  {
   "cell_type": "code",
   "execution_count": 29,
   "metadata": {},
   "outputs": [
    {
     "data": {
      "text/plain": [
       "Series([], Name: 저감장치반납여부, dtype: int64)"
      ]
     },
     "execution_count": 29,
     "metadata": {},
     "output_type": "execute_result"
    }
   ],
   "source": [
    "df3['저감장치반납여부'].value_counts()"
   ]
  },
  {
   "cell_type": "code",
   "execution_count": 30,
   "metadata": {},
   "outputs": [
    {
     "data": {
      "text/plain": [
       "1종        32\n",
       "1종+SCR     2\n",
       "2종         2\n",
       "Name: 저감장치구분, dtype: int64"
      ]
     },
     "execution_count": 30,
     "metadata": {},
     "output_type": "execute_result"
    }
   ],
   "source": [
    "df3['저감장치구분'].value_counts()"
   ]
  },
  {
   "attachments": {},
   "cell_type": "markdown",
   "metadata": {},
   "source": [
    "# 기초 분석"
   ]
  },
  {
   "attachments": {},
   "cell_type": "markdown",
   "metadata": {},
   "source": [
    "## [로드] 영문, 한글 컬럼명 "
   ]
  },
  {
   "cell_type": "code",
   "execution_count": 19,
   "metadata": {},
   "outputs": [],
   "source": [
    "# 등록정보\n",
    "ex1 = pd.read_excel('analysis/ODSvsSTD/[정제]CEG_CAR_MIG.xlsx')\n",
    "# 제원정보\n",
    "ex2 = pd.read_excel('analysis/ODSvsSTD/[정제]CEG_CAR_SRC_MIG.xlsx')"
   ]
  },
  {
   "attachments": {},
   "cell_type": "markdown",
   "metadata": {},
   "source": [
    "### 컬럼명 dictionary로 정리"
   ]
  },
  {
   "cell_type": "code",
   "execution_count": 20,
   "metadata": {},
   "outputs": [],
   "source": [
    "ex1['내용'] = ['수정일시_등록정보', '소유자구분', '차량등록번호', '본거지법정동코드', '생성일시_등록정보', '용도', '배출가스검사유효일자', '배출가스인증번호', '현재회원번호', '취득일자', '취득금액', \n",
    "               '최초회원번호', '최초등록일자', '차종_등록정보', '차량등록번호숫자정보', '차량관리번호', '차량제작일자', '차량연식', '차량말소YN', '차대번호', '제원관리번호', '배출가스등급', '저공해조치종류',\n",
    "               '저공해조치구조변경YN', '저공해조치YN(미사용)', '미정', '미정', '미정', '미정', '미정', '미정', '미정', ]\n",
    "ex2['내용'] = ['수정일시_제원정보', '승인일자', '삭제YN', '생성일시_제원정보', '총중량', '차종유형(소분류)', '차종분류', '차종_제원정보', '차명', '차량높이', '차량너비', '차량길이', '구동형식', '제작사명', \n",
    "               '제원관리번호', '적재중량', '자동차형식', '공차중량', '원산지명', '연료', '엔진형식', '엔진출력', '승차인원', '배기량', '변속기종류', '미정', '미정', '미정' ]\n",
    "ex = pd.concat([ex1, ex2], ignore_index=True)"
   ]
  },
  {
   "cell_type": "code",
   "execution_count": 21,
   "metadata": {},
   "outputs": [],
   "source": [
    "col_dict = {a:b for b, a in zip(ex['컬럼'], ex['내용'])}"
   ]
  },
  {
   "attachments": {},
   "cell_type": "markdown",
   "metadata": {},
   "source": [
    "## [통계] 결측치"
   ]
  },
  {
   "cell_type": "code",
   "execution_count": 22,
   "metadata": {},
   "outputs": [],
   "source": [
    "an = df2.isnull().sum().reset_index()\n",
    "an.columns = ['한글컬럼', '결측치']\n",
    "an['컬럼'] = [col_dict[x] for x in an['한글컬럼']]\n",
    "an = an[['컬럼', '한글컬럼', '결측치']]"
   ]
  },
  {
   "attachments": {},
   "cell_type": "markdown",
   "metadata": {},
   "source": [
    "### [출력] 등록정보&제원정보(전기차 제외) 결측치 통계"
   ]
  },
  {
   "cell_type": "code",
   "execution_count": 15,
   "metadata": {},
   "outputs": [],
   "source": [
    "an.to_excel(f'analysis2/[BD3][G{grade}][통계]등록정보&제원정보_결측치(전기차제외)(말소적용).xlsx', index=False)"
   ]
  },
  {
   "attachments": {},
   "cell_type": "markdown",
   "metadata": {},
   "source": [
    "# 기초 분석(저감 적용)"
   ]
  },
  {
   "attachments": {},
   "cell_type": "markdown",
   "metadata": {},
   "source": [
    "## [로드] 영문, 한글 컬럼명 "
   ]
  },
  {
   "cell_type": "code",
   "execution_count": 23,
   "metadata": {},
   "outputs": [
    {
     "data": {
      "text/html": [
       "<div>\n",
       "<style scoped>\n",
       "    .dataframe tbody tr th:only-of-type {\n",
       "        vertical-align: middle;\n",
       "    }\n",
       "\n",
       "    .dataframe tbody tr th {\n",
       "        vertical-align: top;\n",
       "    }\n",
       "\n",
       "    .dataframe thead th {\n",
       "        text-align: right;\n",
       "    }\n",
       "</style>\n",
       "<table border=\"1\" class=\"dataframe\">\n",
       "  <thead>\n",
       "    <tr style=\"text-align: right;\">\n",
       "      <th></th>\n",
       "      <th>컬럼</th>\n",
       "      <th>내용</th>\n",
       "    </tr>\n",
       "  </thead>\n",
       "  <tbody>\n",
       "    <tr>\n",
       "      <th>0</th>\n",
       "      <td>EMI_RED_TYPE2</td>\n",
       "      <td>저감장치종류</td>\n",
       "    </tr>\n",
       "    <tr>\n",
       "      <th>1</th>\n",
       "      <td>PM_EFF_VAL</td>\n",
       "      <td>PM최종저감효율</td>\n",
       "    </tr>\n",
       "    <tr>\n",
       "      <th>2</th>\n",
       "      <td>TDMS_YN</td>\n",
       "      <td>TDMS부착여부</td>\n",
       "    </tr>\n",
       "    <tr>\n",
       "      <th>3</th>\n",
       "      <td>CONF_CHG_DATE</td>\n",
       "      <td>구조변경일자</td>\n",
       "    </tr>\n",
       "    <tr>\n",
       "      <th>4</th>\n",
       "      <td>ATT_ORG_NM</td>\n",
       "      <td>부착업체명</td>\n",
       "    </tr>\n",
       "    <tr>\n",
       "      <th>...</th>\n",
       "      <td>...</td>\n",
       "      <td>...</td>\n",
       "    </tr>\n",
       "    <tr>\n",
       "      <th>98</th>\n",
       "      <td>MAIN_EXP_REC_YN</td>\n",
       "      <td>미정</td>\n",
       "    </tr>\n",
       "    <tr>\n",
       "      <th>99</th>\n",
       "      <td>ENGINE_POWER</td>\n",
       "      <td>미정</td>\n",
       "    </tr>\n",
       "    <tr>\n",
       "      <th>100</th>\n",
       "      <td>CAR_FUEL_NM</td>\n",
       "      <td>미정</td>\n",
       "    </tr>\n",
       "    <tr>\n",
       "      <th>101</th>\n",
       "      <td>CAR_WEIGHT</td>\n",
       "      <td>미정</td>\n",
       "    </tr>\n",
       "    <tr>\n",
       "      <th>102</th>\n",
       "      <td>CAR_PASSENGER</td>\n",
       "      <td>미정</td>\n",
       "    </tr>\n",
       "  </tbody>\n",
       "</table>\n",
       "<p>103 rows × 2 columns</p>\n",
       "</div>"
      ],
      "text/plain": [
       "                  컬럼        내용\n",
       "0      EMI_RED_TYPE2    저감장치종류\n",
       "1         PM_EFF_VAL  PM최종저감효율\n",
       "2            TDMS_YN  TDMS부착여부\n",
       "3      CONF_CHG_DATE    구조변경일자\n",
       "4         ATT_ORG_NM     부착업체명\n",
       "..               ...       ...\n",
       "98   MAIN_EXP_REC_YN        미정\n",
       "99      ENGINE_POWER        미정\n",
       "100      CAR_FUEL_NM        미정\n",
       "101       CAR_WEIGHT        미정\n",
       "102    CAR_PASSENGER        미정\n",
       "\n",
       "[103 rows x 2 columns]"
      ]
     },
     "execution_count": 23,
     "metadata": {},
     "output_type": "execute_result"
    }
   ],
   "source": [
    "# 저감장치 부착이력\n",
    "file_name = '[정제]TB_ERP_ATT_HIS.xlsx'\n",
    "ex3 = pd.read_excel(f'analysis/ODSvsSTD/{file_name}')\n",
    "ex3"
   ]
  },
  {
   "attachments": {},
   "cell_type": "markdown",
   "metadata": {},
   "source": [
    "### 컬럼명 dictionary로 정리"
   ]
  },
  {
   "cell_type": "code",
   "execution_count": null,
   "metadata": {},
   "outputs": [],
   "source": [
    "ex = pd.concat([ex1, ex2, ex3], ignore_index=True)"
   ]
  },
  {
   "cell_type": "code",
   "execution_count": 26,
   "metadata": {},
   "outputs": [],
   "source": [
    "col_dict = {a:b for b, a in zip(ex['컬럼'], ex['내용'])}"
   ]
  },
  {
   "attachments": {},
   "cell_type": "markdown",
   "metadata": {},
   "source": [
    "## [통계] 결측치(저감장치부착여부)"
   ]
  },
  {
   "cell_type": "code",
   "execution_count": 31,
   "metadata": {},
   "outputs": [],
   "source": [
    "an = df3.isnull().sum().reset_index()\n",
    "an.columns = ['한글컬럼', '결측치']\n",
    "an['컬럼'] = [col_dict[x] for x in an['한글컬럼']]\n",
    "an = an[['컬럼', '한글컬럼', '결측치']]"
   ]
  },
  {
   "attachments": {},
   "cell_type": "markdown",
   "metadata": {},
   "source": [
    "### [출력] 등록정보&제원정보(전기차 제외, 저감 추가) 결측치 통계"
   ]
  },
  {
   "cell_type": "code",
   "execution_count": 32,
   "metadata": {},
   "outputs": [],
   "source": [
    "an.to_excel(f'analysis2/[BD3][G{grade}][통계]등록정보&제원정보_결측치(전기차제외)(말소,저감적용)(중복차대제거).xlsx', index=False)"
   ]
  },
  {
   "cell_type": "markdown",
   "metadata": {},
   "source": [
    "# 코드 마지막"
   ]
  }
 ],
 "metadata": {
  "kernelspec": {
   "display_name": "base",
   "language": "python",
   "name": "python3"
  },
  "language_info": {
   "codemirror_mode": {
    "name": "ipython",
    "version": 3
   },
   "file_extension": ".py",
   "mimetype": "text/x-python",
   "name": "python",
   "nbconvert_exporter": "python",
   "pygments_lexer": "ipython3",
   "version": "3.9.13"
  },
  "orig_nbformat": 4,
  "vscode": {
   "interpreter": {
    "hash": "ad2bdc8ecc057115af97d19610ffacc2b4e99fae6737bb82f5d7fb13d2f2c186"
   }
  }
 },
 "nbformat": 4,
 "nbformat_minor": 2
}
