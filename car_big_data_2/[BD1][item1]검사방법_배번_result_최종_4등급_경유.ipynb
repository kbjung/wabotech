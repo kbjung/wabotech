{
 "cells": [
  {
   "attachments": {},
   "cell_type": "markdown",
   "metadata": {},
   "source": [
    "# Library\n"
   ]
  },
  {
   "cell_type": "code",
   "execution_count": 1,
   "metadata": {},
   "outputs": [],
   "source": [
    "import pandas as pd\n",
    "import numpy as np\n",
    "import os\n",
    "from tqdm import tqdm\n",
    "from datetime import datetime\n",
    "from glob import glob"
   ]
  },
  {
   "cell_type": "code",
   "execution_count": 2,
   "metadata": {},
   "outputs": [],
   "source": [
    "# 소수점 옵션\n",
    "pd.options.display.float_format = '{:.2f}'.format\n",
    "# pd.reset_option('display.float_format')"
   ]
  },
  {
   "cell_type": "code",
   "execution_count": 43,
   "metadata": {},
   "outputs": [],
   "source": [
    "import matplotlib.pyplot as plt"
   ]
  },
  {
   "cell_type": "code",
   "execution_count": 44,
   "metadata": {},
   "outputs": [],
   "source": [
    "import platform\n",
    "from matplotlib import font_manager, rc\n",
    "\n",
    "# 한글 폰트 지정\n",
    "path = \"C:/Windows/Fonts/malgun.ttf\"\n",
    "if platform.system() == \"Windows\":\n",
    "    font_name = font_manager.FontProperties(fname=path).get_name()\n",
    "    rc('font', family=font_name)\n",
    "elif platform.system()==\"Darwin\":\n",
    "    rc('font', family='AppleGothic')\n",
    "else:\n",
    "    print(\"Unknown System\")"
   ]
  },
  {
   "cell_type": "code",
   "execution_count": 45,
   "metadata": {},
   "outputs": [],
   "source": [
    "# 음수 표현\n",
    "plt.rcParams['axes.unicode_minus'] = False"
   ]
  },
  {
   "attachments": {},
   "cell_type": "markdown",
   "metadata": {},
   "source": [
    "# fold path"
   ]
  },
  {
   "cell_type": "code",
   "execution_count": 3,
   "metadata": {},
   "outputs": [],
   "source": [
    "raw_fold = 'D:/data/big2/BD1/raw'\n",
    "ods_fold = 'D:/data/big2/ODS'\n",
    "sample_fold = 'D:/data/big2/BD1/sample'\n",
    "analysis_fold = 'D:/data/big2/BD1/an'"
   ]
  },
  {
   "attachments": {},
   "cell_type": "markdown",
   "metadata": {},
   "source": [
    "# Load"
   ]
  },
  {
   "attachments": {},
   "cell_type": "markdown",
   "metadata": {},
   "source": [
    "## 4등급 경유 result&정기&정밀(최신검사)"
   ]
  },
  {
   "cell_type": "code",
   "execution_count": 4,
   "metadata": {},
   "outputs": [
    {
     "name": "stdout",
     "output_type": "stream",
     "text": [
      "<class 'pandas.core.frame.DataFrame'>\n",
      "RangeIndex: 1148315 entries, 0 to 1148314\n",
      "Data columns (total 59 columns):\n",
      " #   Column     Non-Null Count    Dtype  \n",
      "---  ------     --------------    -----  \n",
      " 0   차대번호       1148315 non-null  object \n",
      " 1   차량번호       1148315 non-null  object \n",
      " 2   제원관리번호     1148315 non-null  object \n",
      " 3   차종         1148315 non-null  object \n",
      " 4   용도         1148315 non-null  object \n",
      " 5   최초등록일      1148315 non-null  int64  \n",
      " 6   연식         1148315 non-null  int64  \n",
      " 7   제작일자       1148313 non-null  float64\n",
      " 8   검사유효일      1148312 non-null  float64\n",
      " 9   배출가스인증번호   1141202 non-null  object \n",
      " 10  등급         1148315 non-null  int64  \n",
      " 11  차명         1148315 non-null  object \n",
      " 12  차종분류       1148315 non-null  object \n",
      " 13  차종유형       1148315 non-null  object \n",
      " 14  자동차형식      1148314 non-null  object \n",
      " 15  제작사명       1148297 non-null  object \n",
      " 16  연료         1148315 non-null  object \n",
      " 17  엔진형식       1148315 non-null  object \n",
      " 18  총중량        1148315 non-null  int64  \n",
      " 19  적재중량       1148256 non-null  float64\n",
      " 20  엔진출력       1148313 non-null  float64\n",
      " 21  배기량        1148315 non-null  int64  \n",
      " 22  법정동코드      1148315 non-null  int64  \n",
      " 23  시도명        1148315 non-null  object \n",
      " 24  시군구명       1148315 non-null  object \n",
      " 25  소유자구분      1148315 non-null  object \n",
      " 26  말소여부       1148315 non-null  object \n",
      " 27  일치유무       1148315 non-null  object \n",
      " 28  배인번호_수정    1148315 non-null  object \n",
      " 29  등급_수정      1148315 non-null  int64  \n",
      " 30  DPF유무_수정   1148315 non-null  object \n",
      " 31  주행거리       1120111 non-null  float64\n",
      " 32  차량연식       1120201 non-null  float64\n",
      " 33  검사방법       1120201 non-null  object \n",
      " 34  검사일자       1120201 non-null  float64\n",
      " 35  검사종류       1120201 non-null  object \n",
      " 36  검사판정시각     1111586 non-null  object \n",
      " 37  검사판정       1120201 non-null  object \n",
      " 38  산소값        810387 non-null   float64\n",
      " 39  이산화탄소값     810387 non-null   float64\n",
      " 40  무부하매연판정1   1111582 non-null  object \n",
      " 41  무부하매연판정2   42468 non-null    object \n",
      " 42  무부하매연판정3   41567 non-null    object \n",
      " 43  무부하매연판정4   41565 non-null    object \n",
      " 44  무부하매연판정5   41565 non-null    object \n",
      " 45  무부하매연판정6   39 non-null       object \n",
      " 46  무부하매연허용치1  1111582 non-null  float64\n",
      " 47  무부하매연허용치2  329713 non-null   float64\n",
      " 48  무부하매연허용치3  329712 non-null   float64\n",
      " 49  무부하매연허용치4  329710 non-null   float64\n",
      " 50  무부하매연허용치5  329710 non-null   float64\n",
      " 51  무부하매연허용치6  299269 non-null   float64\n",
      " 52  무부하매연측정치1  1111586 non-null  float64\n",
      " 53  무부하매연측정치2  362420 non-null   float64\n",
      " 54  무부하매연측정치3  329714 non-null   float64\n",
      " 55  무부하매연측정치4  329712 non-null   float64\n",
      " 56  무부하매연측정치5  329712 non-null   float64\n",
      " 57  무부하매연측정치6  299269 non-null   float64\n",
      " 58  정기정밀       1120201 non-null  object \n",
      "dtypes: float64(21), int64(7), object(31)\n",
      "memory usage: 516.9+ MB\n"
     ]
    }
   ],
   "source": [
    "# about 20.4s\n",
    "name = 'result(4등급_경유)&정기&정밀(최신검사)(2023.03.31)'\n",
    "file_name = f'{name}.csv'\n",
    "df = pd.read_csv(os.path.join(raw_fold, file_name), low_memory=False, encoding='cp949')\n",
    "df.info()"
   ]
  },
  {
   "cell_type": "code",
   "execution_count": 5,
   "metadata": {},
   "outputs": [
    {
     "data": {
      "text/plain": [
       "Index(['차대번호', '차량번호', '제원관리번호', '차종', '용도', '최초등록일', '연식', '제작일자', '검사유효일',\n",
       "       '배출가스인증번호', '등급', '차명', '차종분류', '차종유형', '자동차형식', '제작사명', '연료', '엔진형식',\n",
       "       '총중량', '적재중량', '엔진출력', '배기량', '법정동코드', '시도명', '시군구명', '소유자구분', '말소여부',\n",
       "       '일치유무', '배인번호_수정', '등급_수정', 'DPF유무_수정', '주행거리', '차량연식', '검사방법', '검사일자',\n",
       "       '검사종류', '검사판정시각', '검사판정', '산소값', '이산화탄소값', '무부하매연판정1', '무부하매연판정2',\n",
       "       '무부하매연판정3', '무부하매연판정4', '무부하매연판정5', '무부하매연판정6', '무부하매연허용치1',\n",
       "       '무부하매연허용치2', '무부하매연허용치3', '무부하매연허용치4', '무부하매연허용치5', '무부하매연허용치6',\n",
       "       '무부하매연측정치1', '무부하매연측정치2', '무부하매연측정치3', '무부하매연측정치4', '무부하매연측정치5',\n",
       "       '무부하매연측정치6', '정기정밀'],\n",
       "      dtype='object')"
      ]
     },
     "execution_count": 5,
     "metadata": {},
     "output_type": "execute_result"
    }
   ],
   "source": [
    "df.columns"
   ]
  },
  {
   "cell_type": "code",
   "execution_count": 6,
   "metadata": {},
   "outputs": [
    {
     "data": {
      "text/plain": [
       "4    1148315\n",
       "Name: 등급_수정, dtype: int64"
      ]
     },
     "execution_count": 6,
     "metadata": {},
     "output_type": "execute_result"
    }
   ],
   "source": [
    "df['등급_수정'].value_counts(dropna=False)"
   ]
  },
  {
   "cell_type": "code",
   "execution_count": 7,
   "metadata": {},
   "outputs": [
    {
     "data": {
      "text/plain": [
       "경유    1148315\n",
       "Name: 연료, dtype: int64"
      ]
     },
     "execution_count": 7,
     "metadata": {},
     "output_type": "execute_result"
    }
   ],
   "source": [
    "df['연료'].value_counts(dropna=False)"
   ]
  },
  {
   "cell_type": "code",
   "execution_count": 8,
   "metadata": {},
   "outputs": [
    {
     "data": {
      "text/plain": [
       "N    1148315\n",
       "Name: 말소여부, dtype: int64"
      ]
     },
     "execution_count": 8,
     "metadata": {},
     "output_type": "execute_result"
    }
   ],
   "source": [
    "df['말소여부'].value_counts(dropna=False)"
   ]
  },
  {
   "cell_type": "code",
   "execution_count": 9,
   "metadata": {},
   "outputs": [
    {
     "data": {
      "text/plain": [
       "배인번호_수정     0\n",
       "등급_수정       0\n",
       "DPF유무_수정    0\n",
       "dtype: int64"
      ]
     },
     "execution_count": 9,
     "metadata": {},
     "output_type": "execute_result"
    }
   ],
   "source": [
    "df[['배인번호_수정', '등급_수정', 'DPF유무_수정']].isnull().sum()"
   ]
  },
  {
   "cell_type": "code",
   "execution_count": 10,
   "metadata": {},
   "outputs": [
    {
     "data": {
      "text/plain": [
       "array(['무부하검사(급가속)', nan, '부하검사(KD-147)', '부하검사(LUG DOWN)',\n",
       "       '부하검사(ASM-Idling)', '무부하검사(정지가동)'], dtype=object)"
      ]
     },
     "execution_count": 10,
     "metadata": {},
     "output_type": "execute_result"
    }
   ],
   "source": [
    "df['검사방법'].unique()"
   ]
  },
  {
   "cell_type": "code",
   "execution_count": 11,
   "metadata": {},
   "outputs": [
    {
     "data": {
      "text/plain": [
       "array(['종합검사', nan, '재검사(2부재검사)', '정기검사', '정기(경과)검사', '종합검사(경과)',\n",
       "       '재검사(1부재검사)', '2부재검사(종합)', '1부재검사(종합)'], dtype=object)"
      ]
     },
     "execution_count": 11,
     "metadata": {},
     "output_type": "execute_result"
    }
   ],
   "source": [
    "df['검사종류'].unique()"
   ]
  },
  {
   "cell_type": "code",
   "execution_count": 13,
   "metadata": {},
   "outputs": [
    {
     "data": {
      "text/html": [
       "<div>\n",
       "<style scoped>\n",
       "    .dataframe tbody tr th:only-of-type {\n",
       "        vertical-align: middle;\n",
       "    }\n",
       "\n",
       "    .dataframe tbody tr th {\n",
       "        vertical-align: top;\n",
       "    }\n",
       "\n",
       "    .dataframe thead th {\n",
       "        text-align: right;\n",
       "    }\n",
       "</style>\n",
       "<table border=\"1\" class=\"dataframe\">\n",
       "  <thead>\n",
       "    <tr style=\"text-align: right;\">\n",
       "      <th></th>\n",
       "      <th>배출가스인증번호</th>\n",
       "      <th>제원관리번호</th>\n",
       "    </tr>\n",
       "  </thead>\n",
       "  <tbody>\n",
       "    <tr>\n",
       "      <th>0</th>\n",
       "      <td>4MY-AD-20</td>\n",
       "      <td>02420000100031305</td>\n",
       "    </tr>\n",
       "    <tr>\n",
       "      <th>1</th>\n",
       "      <td>4MY-AD-20</td>\n",
       "      <td>02420000100031305</td>\n",
       "    </tr>\n",
       "    <tr>\n",
       "      <th>2</th>\n",
       "      <td>4MY-AD-20</td>\n",
       "      <td>02420000100031305</td>\n",
       "    </tr>\n",
       "    <tr>\n",
       "      <th>3</th>\n",
       "      <td>4MY-AD-20</td>\n",
       "      <td>02420000100031305</td>\n",
       "    </tr>\n",
       "    <tr>\n",
       "      <th>4</th>\n",
       "      <td>4MY-AD-20</td>\n",
       "      <td>02420000100031305</td>\n",
       "    </tr>\n",
       "  </tbody>\n",
       "</table>\n",
       "</div>"
      ],
      "text/plain": [
       "    배출가스인증번호             제원관리번호\n",
       "0  4MY-AD-20  02420000100031305\n",
       "1  4MY-AD-20  02420000100031305\n",
       "2  4MY-AD-20  02420000100031305\n",
       "3  4MY-AD-20  02420000100031305\n",
       "4  4MY-AD-20  02420000100031305"
      ]
     },
     "execution_count": 13,
     "metadata": {},
     "output_type": "execute_result"
    }
   ],
   "source": [
    "df[['배출가스인증번호', '제원관리번호']].head()"
   ]
  },
  {
   "attachments": {},
   "cell_type": "markdown",
   "metadata": {},
   "source": [
    "## 통계(검사종류별, 검사방법별, 측정치 개수)"
   ]
  },
  {
   "cell_type": "code",
   "execution_count": 22,
   "metadata": {},
   "outputs": [
    {
     "data": {
      "text/html": [
       "<div>\n",
       "<style scoped>\n",
       "    .dataframe tbody tr th:only-of-type {\n",
       "        vertical-align: middle;\n",
       "    }\n",
       "\n",
       "    .dataframe tbody tr th {\n",
       "        vertical-align: top;\n",
       "    }\n",
       "\n",
       "    .dataframe thead th {\n",
       "        text-align: right;\n",
       "    }\n",
       "</style>\n",
       "<table border=\"1\" class=\"dataframe\">\n",
       "  <thead>\n",
       "    <tr style=\"text-align: right;\">\n",
       "      <th></th>\n",
       "      <th></th>\n",
       "      <th>무부하매연측정치1</th>\n",
       "      <th>무부하매연측정치2</th>\n",
       "      <th>무부하매연측정치3</th>\n",
       "      <th>무부하매연측정치4</th>\n",
       "      <th>무부하매연측정치5</th>\n",
       "      <th>무부하매연측정치6</th>\n",
       "    </tr>\n",
       "    <tr>\n",
       "      <th>검사종류</th>\n",
       "      <th>검사방법</th>\n",
       "      <th></th>\n",
       "      <th></th>\n",
       "      <th></th>\n",
       "      <th></th>\n",
       "      <th></th>\n",
       "      <th></th>\n",
       "    </tr>\n",
       "  </thead>\n",
       "  <tbody>\n",
       "    <tr>\n",
       "      <th rowspan=\"3\" valign=\"top\">1부재검사(종합)</th>\n",
       "      <th>무부하검사(급가속)</th>\n",
       "      <td>707</td>\n",
       "      <td>707</td>\n",
       "      <td>333</td>\n",
       "      <td>333</td>\n",
       "      <td>333</td>\n",
       "      <td>333</td>\n",
       "    </tr>\n",
       "    <tr>\n",
       "      <th>부하검사(KD-147)</th>\n",
       "      <td>16768</td>\n",
       "      <td>6486</td>\n",
       "      <td>6486</td>\n",
       "      <td>6486</td>\n",
       "      <td>6486</td>\n",
       "      <td>6486</td>\n",
       "    </tr>\n",
       "    <tr>\n",
       "      <th>부하검사(LUG DOWN)</th>\n",
       "      <td>1171</td>\n",
       "      <td>1171</td>\n",
       "      <td>1171</td>\n",
       "      <td>1171</td>\n",
       "      <td>1171</td>\n",
       "      <td>338</td>\n",
       "    </tr>\n",
       "    <tr>\n",
       "      <th rowspan=\"3\" valign=\"top\">2부재검사(종합)</th>\n",
       "      <th>무부하검사(급가속)</th>\n",
       "      <td>2587</td>\n",
       "      <td>2587</td>\n",
       "      <td>998</td>\n",
       "      <td>998</td>\n",
       "      <td>998</td>\n",
       "      <td>998</td>\n",
       "    </tr>\n",
       "    <tr>\n",
       "      <th>부하검사(KD-147)</th>\n",
       "      <td>77914</td>\n",
       "      <td>26469</td>\n",
       "      <td>26468</td>\n",
       "      <td>26468</td>\n",
       "      <td>26468</td>\n",
       "      <td>26467</td>\n",
       "    </tr>\n",
       "    <tr>\n",
       "      <th>부하검사(LUG DOWN)</th>\n",
       "      <td>6409</td>\n",
       "      <td>6409</td>\n",
       "      <td>6409</td>\n",
       "      <td>6409</td>\n",
       "      <td>6409</td>\n",
       "      <td>1506</td>\n",
       "    </tr>\n",
       "    <tr>\n",
       "      <th>재검사(1부재검사)</th>\n",
       "      <th>무부하검사(급가속)</th>\n",
       "      <td>18140</td>\n",
       "      <td>0</td>\n",
       "      <td>0</td>\n",
       "      <td>0</td>\n",
       "      <td>0</td>\n",
       "      <td>0</td>\n",
       "    </tr>\n",
       "    <tr>\n",
       "      <th>재검사(2부재검사)</th>\n",
       "      <th>무부하검사(급가속)</th>\n",
       "      <td>30943</td>\n",
       "      <td>0</td>\n",
       "      <td>0</td>\n",
       "      <td>0</td>\n",
       "      <td>0</td>\n",
       "      <td>0</td>\n",
       "    </tr>\n",
       "    <tr>\n",
       "      <th>정기(경과)검사</th>\n",
       "      <th>무부하검사(급가속)</th>\n",
       "      <td>11248</td>\n",
       "      <td>0</td>\n",
       "      <td>0</td>\n",
       "      <td>0</td>\n",
       "      <td>0</td>\n",
       "      <td>0</td>\n",
       "    </tr>\n",
       "    <tr>\n",
       "      <th rowspan=\"2\" valign=\"top\">정기검사</th>\n",
       "      <th>무부하검사(급가속)</th>\n",
       "      <td>168781</td>\n",
       "      <td>0</td>\n",
       "      <td>0</td>\n",
       "      <td>0</td>\n",
       "      <td>0</td>\n",
       "      <td>0</td>\n",
       "    </tr>\n",
       "    <tr>\n",
       "      <th>무부하검사(정지가동)</th>\n",
       "      <td>2</td>\n",
       "      <td>2</td>\n",
       "      <td>2</td>\n",
       "      <td>0</td>\n",
       "      <td>0</td>\n",
       "      <td>0</td>\n",
       "    </tr>\n",
       "    <tr>\n",
       "      <th rowspan=\"4\" valign=\"top\">종합검사</th>\n",
       "      <th>무부하검사(급가속)</th>\n",
       "      <td>47338</td>\n",
       "      <td>47338</td>\n",
       "      <td>18994</td>\n",
       "      <td>18994</td>\n",
       "      <td>18994</td>\n",
       "      <td>18994</td>\n",
       "    </tr>\n",
       "    <tr>\n",
       "      <th>부하검사(ASM-Idling)</th>\n",
       "      <td>3</td>\n",
       "      <td>3</td>\n",
       "      <td>3</td>\n",
       "      <td>3</td>\n",
       "      <td>3</td>\n",
       "      <td>3</td>\n",
       "    </tr>\n",
       "    <tr>\n",
       "      <th>부하검사(KD-147)</th>\n",
       "      <td>640907</td>\n",
       "      <td>219338</td>\n",
       "      <td>219336</td>\n",
       "      <td>219336</td>\n",
       "      <td>219336</td>\n",
       "      <td>219334</td>\n",
       "    </tr>\n",
       "    <tr>\n",
       "      <th>부하검사(LUG DOWN)</th>\n",
       "      <td>30143</td>\n",
       "      <td>30143</td>\n",
       "      <td>30143</td>\n",
       "      <td>30143</td>\n",
       "      <td>30143</td>\n",
       "      <td>8234</td>\n",
       "    </tr>\n",
       "    <tr>\n",
       "      <th rowspan=\"3\" valign=\"top\">종합검사(경과)</th>\n",
       "      <th>무부하검사(급가속)</th>\n",
       "      <td>3496</td>\n",
       "      <td>3496</td>\n",
       "      <td>1100</td>\n",
       "      <td>1100</td>\n",
       "      <td>1100</td>\n",
       "      <td>1100</td>\n",
       "    </tr>\n",
       "    <tr>\n",
       "      <th>부하검사(KD-147)</th>\n",
       "      <td>51191</td>\n",
       "      <td>14433</td>\n",
       "      <td>14433</td>\n",
       "      <td>14433</td>\n",
       "      <td>14433</td>\n",
       "      <td>14433</td>\n",
       "    </tr>\n",
       "    <tr>\n",
       "      <th>부하검사(LUG DOWN)</th>\n",
       "      <td>3838</td>\n",
       "      <td>3838</td>\n",
       "      <td>3838</td>\n",
       "      <td>3838</td>\n",
       "      <td>3838</td>\n",
       "      <td>1043</td>\n",
       "    </tr>\n",
       "  </tbody>\n",
       "</table>\n",
       "</div>"
      ],
      "text/plain": [
       "                             무부하매연측정치1  무부하매연측정치2  무부하매연측정치3  무부하매연측정치4  \\\n",
       "검사종류       검사방법                                                           \n",
       "1부재검사(종합)  무부하검사(급가속)              707        707        333        333   \n",
       "           부하검사(KD-147)          16768       6486       6486       6486   \n",
       "           부하검사(LUG DOWN)         1171       1171       1171       1171   \n",
       "2부재검사(종합)  무부하검사(급가속)             2587       2587        998        998   \n",
       "           부하검사(KD-147)          77914      26469      26468      26468   \n",
       "           부하검사(LUG DOWN)         6409       6409       6409       6409   \n",
       "재검사(1부재검사) 무부하검사(급가속)            18140          0          0          0   \n",
       "재검사(2부재검사) 무부하검사(급가속)            30943          0          0          0   \n",
       "정기(경과)검사   무부하검사(급가속)            11248          0          0          0   \n",
       "정기검사       무부하검사(급가속)           168781          0          0          0   \n",
       "           무부하검사(정지가동)               2          2          2          0   \n",
       "종합검사       무부하검사(급가속)            47338      47338      18994      18994   \n",
       "           부하검사(ASM-Idling)          3          3          3          3   \n",
       "           부하검사(KD-147)         640907     219338     219336     219336   \n",
       "           부하검사(LUG DOWN)        30143      30143      30143      30143   \n",
       "종합검사(경과)   무부하검사(급가속)             3496       3496       1100       1100   \n",
       "           부하검사(KD-147)          51191      14433      14433      14433   \n",
       "           부하검사(LUG DOWN)         3838       3838       3838       3838   \n",
       "\n",
       "                             무부하매연측정치5  무부하매연측정치6  \n",
       "검사종류       검사방법                                    \n",
       "1부재검사(종합)  무부하검사(급가속)              333        333  \n",
       "           부하검사(KD-147)           6486       6486  \n",
       "           부하검사(LUG DOWN)         1171        338  \n",
       "2부재검사(종합)  무부하검사(급가속)              998        998  \n",
       "           부하검사(KD-147)          26468      26467  \n",
       "           부하검사(LUG DOWN)         6409       1506  \n",
       "재검사(1부재검사) 무부하검사(급가속)                0          0  \n",
       "재검사(2부재검사) 무부하검사(급가속)                0          0  \n",
       "정기(경과)검사   무부하검사(급가속)                0          0  \n",
       "정기검사       무부하검사(급가속)                0          0  \n",
       "           무부하검사(정지가동)               0          0  \n",
       "종합검사       무부하검사(급가속)            18994      18994  \n",
       "           부하검사(ASM-Idling)          3          3  \n",
       "           부하검사(KD-147)         219336     219334  \n",
       "           부하검사(LUG DOWN)        30143       8234  \n",
       "종합검사(경과)   무부하검사(급가속)             1100       1100  \n",
       "           부하검사(KD-147)          14433      14433  \n",
       "           부하검사(LUG DOWN)         3838       1043  "
      ]
     },
     "execution_count": 22,
     "metadata": {},
     "output_type": "execute_result"
    }
   ],
   "source": [
    "col = '무부하매연측정치'\n",
    "agg = 'count'\n",
    "statics = df.groupby(['검사종류', '검사방법']).agg({f'{col}1':agg, f'{col}2':agg, f'{col}3':agg, f'{col}4':agg, f'{col}5':agg, f'{col}6':agg})\n",
    "statics"
   ]
  },
  {
   "cell_type": "code",
   "execution_count": 25,
   "metadata": {},
   "outputs": [
    {
     "data": {
      "text/plain": [
       "'2023.03.30_AM.10.50.35'"
      ]
     },
     "execution_count": 25,
     "metadata": {},
     "output_type": "execute_result"
    }
   ],
   "source": [
    "today_date = datetime.today().strftime(\"%Y.%m.%d_%p.%I.%M.%S\")\n",
    "today_date"
   ]
  },
  {
   "attachments": {},
   "cell_type": "markdown",
   "metadata": {},
   "source": [
    "### [출력] 통계"
   ]
  },
  {
   "cell_type": "code",
   "execution_count": 27,
   "metadata": {},
   "outputs": [],
   "source": [
    "statics.to_excel(os.path.join(analysis_fold, f'통계 result(4등급_경유) 검사종류 검사방법별 측정치 개수({today_date}).xlsx'))"
   ]
  },
  {
   "attachments": {},
   "cell_type": "markdown",
   "metadata": {},
   "source": [
    "### 제원관리번호 오류 확인"
   ]
  },
  {
   "cell_type": "code",
   "execution_count": 13,
   "metadata": {},
   "outputs": [
    {
     "data": {
      "text/plain": [
       "2420000100031300     29\n",
       "Name: 제원관리번호, dtype: int64"
      ]
     },
     "execution_count": 13,
     "metadata": {},
     "output_type": "execute_result"
    }
   ],
   "source": [
    "df.loc[df['배출가스인증번호'] == '4MY-AD-20', '제원관리번호'].value_counts()"
   ]
  },
  {
   "attachments": {},
   "cell_type": "markdown",
   "metadata": {},
   "source": [
    "# 전처리"
   ]
  },
  {
   "attachments": {},
   "cell_type": "markdown",
   "metadata": {},
   "source": [
    "## 차대번호 10자리 연식"
   ]
  },
  {
   "cell_type": "code",
   "execution_count": 14,
   "metadata": {},
   "outputs": [],
   "source": [
    "df1 = df.copy()"
   ]
  },
  {
   "cell_type": "code",
   "execution_count": 15,
   "metadata": {},
   "outputs": [],
   "source": [
    "df1['vin10'] = df1['차대번호'].str[9]"
   ]
  },
  {
   "cell_type": "code",
   "execution_count": 16,
   "metadata": {},
   "outputs": [],
   "source": [
    "vin10_dict = {'J':1988, 'K':1989, 'L':1990, 'M':1991, 'N':1992, 'P':1993, 'R':1994, 'S':1995, 'T':1996, 'V':1997, 'W':1998, 'X':1999, 'Y':2000, '1':2001, '2':2002, '3':2003, '4':2004, '5':2005, '6':2006, '7':2007, '8':2008, '9':2009, 'A':2010, 'B':2011, 'C':2012, 'D':2013, 'E':2014, 'F':2015, 'G':2016, 'H':2017}"
   ]
  },
  {
   "cell_type": "code",
   "execution_count": 17,
   "metadata": {},
   "outputs": [],
   "source": [
    "df1['vin10_year'] = df1['vin10'].map(vin10_dict, na_action='ignore')"
   ]
  },
  {
   "attachments": {},
   "cell_type": "markdown",
   "metadata": {},
   "source": [
    "## 배인번호 17자리 샘플"
   ]
  },
  {
   "cell_type": "code",
   "execution_count": 18,
   "metadata": {},
   "outputs": [
    {
     "data": {
      "text/plain": [
       "((1148306, 61), (9, 61))"
      ]
     },
     "execution_count": 18,
     "metadata": {},
     "output_type": "execute_result"
    }
   ],
   "source": [
    "df2y = df1.loc[df1['차대번호'].str.len() == 17].reset_index(drop=True)\n",
    "df2n = df1.loc[df1['차대번호'].str.len() != 17].reset_index(drop=True)\n",
    "df2y.shape, df2n.shape"
   ]
  },
  {
   "attachments": {},
   "cell_type": "markdown",
   "metadata": {},
   "source": [
    "### [출력] 샘플-배인번호17자리 아닌"
   ]
  },
  {
   "cell_type": "code",
   "execution_count": 167,
   "metadata": {},
   "outputs": [],
   "source": [
    "# today_date = datetime.today().strftime(\"%Y.%m.%d_%p.%I.%M.%S\")\n",
    "# df2n.to_excel(os.path.join(sample_fold, f'통합_샘플_차대번호17자리아닌_{today_date}.xlsx'), index=False)"
   ]
  },
  {
   "attachments": {},
   "cell_type": "markdown",
   "metadata": {},
   "source": [
    "## 배인 연식과 연식 동일한 샘플"
   ]
  },
  {
   "cell_type": "code",
   "execution_count": 19,
   "metadata": {},
   "outputs": [
    {
     "data": {
      "text/plain": [
       "((1148246, 61), (60, 61))"
      ]
     },
     "execution_count": 19,
     "metadata": {},
     "output_type": "execute_result"
    }
   ],
   "source": [
    "df3y = df2y.loc[df2y['vin10_year'] == df2y['연식']].reset_index(drop=True)\n",
    "df3n = df2y.loc[df2y['vin10_year'] != df2y['연식']].reset_index(drop=True)\n",
    "df3y.shape, df3n.shape"
   ]
  },
  {
   "attachments": {},
   "cell_type": "markdown",
   "metadata": {},
   "source": [
    "### [출력] 샘플-배인연식 다른"
   ]
  },
  {
   "cell_type": "code",
   "execution_count": 20,
   "metadata": {},
   "outputs": [],
   "source": [
    "# today_date = datetime.today().strftime(\"%Y.%m.%d_%p.%I.%M.%S\")\n",
    "# df3n.to_excel(os.path.join(sample_fold, f'통합_샘플_차대번호17자리_차량연식다른_{today_date}.xlsx'), index=False)"
   ]
  },
  {
   "attachments": {},
   "cell_type": "markdown",
   "metadata": {},
   "source": [
    "# [test] 배출가스 인증번호별 분석\n",
    "- [해결] issue\n",
    "    - 배인번호 없음 : 9MY-KM-14-22\n",
    "        - 차명 : 쏘렌토\n",
    "        - 등급변경 : 3 -> 4"
   ]
  },
  {
   "attachments": {},
   "cell_type": "markdown",
   "metadata": {},
   "source": [
    "## [로드] 배인번호 파일"
   ]
  },
  {
   "cell_type": "code",
   "execution_count": 21,
   "metadata": {},
   "outputs": [],
   "source": [
    "# 4MY-AD-20\n",
    "# 5MY-BK-14-07\n",
    "# 6MY-BK-13-08\n",
    "# 6MY-MK-14-02\n",
    "\n",
    "# 5MY-HD-24-35\n",
    "# 8MY-PA-14-03"
   ]
  },
  {
   "cell_type": "code",
   "execution_count": 142,
   "metadata": {},
   "outputs": [],
   "source": [
    "test_df = pd.DataFrame()"
   ]
  },
  {
   "cell_type": "code",
   "execution_count": 143,
   "metadata": {},
   "outputs": [
    {
     "data": {
      "text/plain": [
       "(30, 61)"
      ]
     },
     "execution_count": 143,
     "metadata": {},
     "output_type": "execute_result"
    }
   ],
   "source": [
    "emis_no = '4MY-AD-20'\n",
    "gas_df = df1.loc[df1['배인번호_수정'] == emis_no]\n",
    "gas_df.shape"
   ]
  },
  {
   "attachments": {},
   "cell_type": "markdown",
   "metadata": {},
   "source": [
    "### 전처리\n",
    "- 제거\n",
    "    - 차대번호 17자리 아닌 샘플\n",
    "    - 차대번호 10자리와 차량연식이 다른 샘플"
   ]
  },
  {
   "attachments": {},
   "cell_type": "markdown",
   "metadata": {},
   "source": [
    "#### [출력] 차대번호17자리 아닌 샘플"
   ]
  },
  {
   "cell_type": "code",
   "execution_count": 144,
   "metadata": {},
   "outputs": [
    {
     "data": {
      "text/plain": [
       "((30, 61), (0, 61))"
      ]
     },
     "execution_count": 144,
     "metadata": {},
     "output_type": "execute_result"
    }
   ],
   "source": [
    "vin17y = gas_df[(gas_df['차대번호'].str.len() == 17)].reset_index(drop=True)\n",
    "vin17n = gas_df[(gas_df['차대번호'].str.len() != 17)].reset_index(drop=True)\n",
    "vin17y.shape, vin17n.shape"
   ]
  },
  {
   "cell_type": "code",
   "execution_count": 145,
   "metadata": {},
   "outputs": [],
   "source": [
    "# vin17n.to_excel(os.path.join(sample_fold, f'샘플_차대번호17자리아닌_{emis_no}.xlsx'), index=False)"
   ]
  },
  {
   "attachments": {},
   "cell_type": "markdown",
   "metadata": {},
   "source": [
    "#### [출력] 차대번호10자리 연도와 차량연식 다른 샘플"
   ]
  },
  {
   "cell_type": "code",
   "execution_count": 146,
   "metadata": {},
   "outputs": [
    {
     "data": {
      "text/plain": [
       "((30, 61), (0, 61))"
      ]
     },
     "execution_count": 146,
     "metadata": {},
     "output_type": "execute_result"
    }
   ],
   "source": [
    "vin17y_vin10y = vin17y[vin17y['vin10_year'] == vin17y['연식']].reset_index(drop=True)\n",
    "vin17y_vin10n = vin17y[vin17y['vin10_year'] != vin17y['연식']].reset_index(drop=True)\n",
    "vin17y_vin10y.shape, vin17y_vin10n.shape"
   ]
  },
  {
   "cell_type": "code",
   "execution_count": 147,
   "metadata": {},
   "outputs": [],
   "source": [
    "# vin17y_vin10n.to_excel(os.path.join(sample_fold, f'샘플_차대번호17자리_차량연식다른_{emis_no}.xlsx'), index=False)"
   ]
  },
  {
   "attachments": {},
   "cell_type": "markdown",
   "metadata": {},
   "source": [
    "### 분석\n",
    "- 제원관리번호별, 자동차형식별, 엔진형식별, 검사판정별 무부하매연측정치1 통계"
   ]
  },
  {
   "cell_type": "code",
   "execution_count": 148,
   "metadata": {},
   "outputs": [
    {
     "data": {
      "text/plain": [
       "dtype('float64')"
      ]
     },
     "execution_count": 148,
     "metadata": {},
     "output_type": "execute_result"
    }
   ],
   "source": [
    "vin17y_vin10y['무부하매연측정치1'].dtype"
   ]
  },
  {
   "cell_type": "code",
   "execution_count": 149,
   "metadata": {},
   "outputs": [
    {
     "data": {
      "text/plain": [
       "3"
      ]
     },
     "execution_count": 149,
     "metadata": {},
     "output_type": "execute_result"
    }
   ],
   "source": [
    "vin17y_vin10y['무부하매연측정치1'].isnull().sum()"
   ]
  },
  {
   "cell_type": "code",
   "execution_count": 150,
   "metadata": {},
   "outputs": [],
   "source": [
    "def flat_cols(df):\n",
    "    df.columns = ['/'.join(x) for x in df.columns.to_flat_index()]\n",
    "    return df"
   ]
  },
  {
   "cell_type": "code",
   "execution_count": 151,
   "metadata": {},
   "outputs": [
    {
     "data": {
      "text/plain": [
       "Index(['차대번호', '차량번호', '제원관리번호', '차종', '용도', '최초등록일', '연식', '제작일자', '검사유효일',\n",
       "       '배출가스인증번호', '등급', '차명', '차종분류', '차종유형', '자동차형식', '제작사명', '연료', '엔진형식',\n",
       "       '총중량', '적재중량', '엔진출력', '배기량', '법정동코드', '시도명', '시군구명', '소유자구분', '말소여부',\n",
       "       '일치유무', '배인번호_수정', '등급_수정', 'DPF유무_수정', '주행거리', '차량연식', '검사방법', '검사일자',\n",
       "       '검사종류', '검사판정시각', '검사판정', '산소값', '이산화탄소값', '무부하매연판정1', '무부하매연판정2',\n",
       "       '무부하매연판정3', '무부하매연판정4', '무부하매연판정5', '무부하매연판정6', '무부하매연허용치1',\n",
       "       '무부하매연허용치2', '무부하매연허용치3', '무부하매연허용치4', '무부하매연허용치5', '무부하매연허용치6',\n",
       "       '무부하매연측정치1', '무부하매연측정치2', '무부하매연측정치3', '무부하매연측정치4', '무부하매연측정치5',\n",
       "       '무부하매연측정치6', '정기정밀', 'vin10', 'vin10_year'],\n",
       "      dtype='object')"
      ]
     },
     "execution_count": 151,
     "metadata": {},
     "output_type": "execute_result"
    }
   ],
   "source": [
    "vin17y_vin10y.columns"
   ]
  },
  {
   "cell_type": "code",
   "execution_count": 152,
   "metadata": {},
   "outputs": [
    {
     "data": {
      "text/plain": [
       "array(['종합검사', nan, '재검사(2부재검사)', '정기검사', '정기(경과)검사', '종합검사(경과)'],\n",
       "      dtype=object)"
      ]
     },
     "execution_count": 152,
     "metadata": {},
     "output_type": "execute_result"
    }
   ],
   "source": [
    "vin17y_vin10y['검사종류'].unique()"
   ]
  },
  {
   "cell_type": "code",
   "execution_count": 153,
   "metadata": {},
   "outputs": [
    {
     "data": {
      "text/plain": [
       "array(['무부하검사(급가속)', nan], dtype=object)"
      ]
     },
     "execution_count": 153,
     "metadata": {},
     "output_type": "execute_result"
    }
   ],
   "source": [
    "vin17y_vin10y['검사방법'].unique()"
   ]
  },
  {
   "cell_type": "code",
   "execution_count": 154,
   "metadata": {},
   "outputs": [],
   "source": [
    "groupby_col1 = ['제작사명', '배인번호_수정', '제원관리번호', '자동차형식', '엔진형식', '검사종류', '검사방법', '검사판정']\n",
    "g = vin17y_vin10y.groupby(groupby_col1).agg({'차대번호':'count', '무부하매연측정치1':['mean', 'min', 'max']}).pipe(flat_cols).round(2).reset_index()\n",
    "g = g.rename(columns={'배인번호_수정':'배출가스인증번호', '차대번호/count':'대수', '무부하매연측정치1/mean':'mean', '무부하매연측정치1/min':'min', '무부하매연측정치1/max':'max'})"
   ]
  },
  {
   "cell_type": "code",
   "execution_count": 155,
   "metadata": {},
   "outputs": [
    {
     "data": {
      "text/html": [
       "<div>\n",
       "<style scoped>\n",
       "    .dataframe tbody tr th:only-of-type {\n",
       "        vertical-align: middle;\n",
       "    }\n",
       "\n",
       "    .dataframe tbody tr th {\n",
       "        vertical-align: top;\n",
       "    }\n",
       "\n",
       "    .dataframe thead th {\n",
       "        text-align: right;\n",
       "    }\n",
       "</style>\n",
       "<table border=\"1\" class=\"dataframe\">\n",
       "  <thead>\n",
       "    <tr style=\"text-align: right;\">\n",
       "      <th></th>\n",
       "      <th>제작사명</th>\n",
       "      <th>배출가스인증번호</th>\n",
       "      <th>제원관리번호</th>\n",
       "      <th>자동차형식</th>\n",
       "      <th>엔진형식</th>\n",
       "      <th>검사종류</th>\n",
       "      <th>검사방법</th>\n",
       "      <th>검사판정</th>\n",
       "      <th>대수</th>\n",
       "      <th>mean</th>\n",
       "      <th>min</th>\n",
       "      <th>max</th>\n",
       "    </tr>\n",
       "  </thead>\n",
       "  <tbody>\n",
       "    <tr>\n",
       "      <th>0</th>\n",
       "      <td>아우디폭스바겐코리아(주)</td>\n",
       "      <td>4MY-AD-20</td>\n",
       "      <td>2420000100031300</td>\n",
       "      <td>4F</td>\n",
       "      <td>BMK</td>\n",
       "      <td>재검사(2부재검사)</td>\n",
       "      <td>무부하검사(급가속)</td>\n",
       "      <td>Y</td>\n",
       "      <td>1</td>\n",
       "      <td>19.00</td>\n",
       "      <td>19.00</td>\n",
       "      <td>19.00</td>\n",
       "    </tr>\n",
       "    <tr>\n",
       "      <th>1</th>\n",
       "      <td>아우디폭스바겐코리아(주)</td>\n",
       "      <td>4MY-AD-20</td>\n",
       "      <td>2420000100031300</td>\n",
       "      <td>4F</td>\n",
       "      <td>BMK</td>\n",
       "      <td>정기(경과)검사</td>\n",
       "      <td>무부하검사(급가속)</td>\n",
       "      <td>Y</td>\n",
       "      <td>2</td>\n",
       "      <td>6.00</td>\n",
       "      <td>0.00</td>\n",
       "      <td>12.00</td>\n",
       "    </tr>\n",
       "    <tr>\n",
       "      <th>2</th>\n",
       "      <td>아우디폭스바겐코리아(주)</td>\n",
       "      <td>4MY-AD-20</td>\n",
       "      <td>2420000100031300</td>\n",
       "      <td>4F</td>\n",
       "      <td>BMK</td>\n",
       "      <td>정기검사</td>\n",
       "      <td>무부하검사(급가속)</td>\n",
       "      <td>N</td>\n",
       "      <td>1</td>\n",
       "      <td>21.00</td>\n",
       "      <td>21.00</td>\n",
       "      <td>21.00</td>\n",
       "    </tr>\n",
       "    <tr>\n",
       "      <th>3</th>\n",
       "      <td>아우디폭스바겐코리아(주)</td>\n",
       "      <td>4MY-AD-20</td>\n",
       "      <td>2420000100031300</td>\n",
       "      <td>4F</td>\n",
       "      <td>BMK</td>\n",
       "      <td>정기검사</td>\n",
       "      <td>무부하검사(급가속)</td>\n",
       "      <td>Y</td>\n",
       "      <td>2</td>\n",
       "      <td>23.00</td>\n",
       "      <td>20.00</td>\n",
       "      <td>26.00</td>\n",
       "    </tr>\n",
       "    <tr>\n",
       "      <th>4</th>\n",
       "      <td>아우디폭스바겐코리아(주)</td>\n",
       "      <td>4MY-AD-20</td>\n",
       "      <td>2420000100031300</td>\n",
       "      <td>4F</td>\n",
       "      <td>BMK</td>\n",
       "      <td>종합검사</td>\n",
       "      <td>무부하검사(급가속)</td>\n",
       "      <td>N</td>\n",
       "      <td>1</td>\n",
       "      <td>51.00</td>\n",
       "      <td>51.00</td>\n",
       "      <td>51.00</td>\n",
       "    </tr>\n",
       "    <tr>\n",
       "      <th>5</th>\n",
       "      <td>아우디폭스바겐코리아(주)</td>\n",
       "      <td>4MY-AD-20</td>\n",
       "      <td>2420000100031300</td>\n",
       "      <td>4F</td>\n",
       "      <td>BMK</td>\n",
       "      <td>종합검사</td>\n",
       "      <td>무부하검사(급가속)</td>\n",
       "      <td>Y</td>\n",
       "      <td>15</td>\n",
       "      <td>12.33</td>\n",
       "      <td>0.00</td>\n",
       "      <td>31.00</td>\n",
       "    </tr>\n",
       "    <tr>\n",
       "      <th>6</th>\n",
       "      <td>아우디폭스바겐코리아(주)</td>\n",
       "      <td>4MY-AD-20</td>\n",
       "      <td>2420000100031300</td>\n",
       "      <td>4F</td>\n",
       "      <td>BMK</td>\n",
       "      <td>종합검사(경과)</td>\n",
       "      <td>무부하검사(급가속)</td>\n",
       "      <td>Y</td>\n",
       "      <td>4</td>\n",
       "      <td>15.00</td>\n",
       "      <td>11.00</td>\n",
       "      <td>17.00</td>\n",
       "    </tr>\n",
       "    <tr>\n",
       "      <th>7</th>\n",
       "      <td>자기인증면제차량</td>\n",
       "      <td>4MY-AD-20</td>\n",
       "      <td>31124022261309</td>\n",
       "      <td>4F</td>\n",
       "      <td>BMK</td>\n",
       "      <td>종합검사</td>\n",
       "      <td>무부하검사(급가속)</td>\n",
       "      <td>Y</td>\n",
       "      <td>1</td>\n",
       "      <td>2.00</td>\n",
       "      <td>2.00</td>\n",
       "      <td>2.00</td>\n",
       "    </tr>\n",
       "  </tbody>\n",
       "</table>\n",
       "</div>"
      ],
      "text/plain": [
       "            제작사명   배출가스인증번호             제원관리번호 자동차형식 엔진형식        검사종류  \\\n",
       "0  아우디폭스바겐코리아(주)  4MY-AD-20  2420000100031300     4F  BMK  재검사(2부재검사)   \n",
       "1  아우디폭스바겐코리아(주)  4MY-AD-20  2420000100031300     4F  BMK    정기(경과)검사   \n",
       "2  아우디폭스바겐코리아(주)  4MY-AD-20  2420000100031300     4F  BMK        정기검사   \n",
       "3  아우디폭스바겐코리아(주)  4MY-AD-20  2420000100031300     4F  BMK        정기검사   \n",
       "4  아우디폭스바겐코리아(주)  4MY-AD-20  2420000100031300     4F  BMK        종합검사   \n",
       "5  아우디폭스바겐코리아(주)  4MY-AD-20  2420000100031300     4F  BMK        종합검사   \n",
       "6  아우디폭스바겐코리아(주)  4MY-AD-20  2420000100031300     4F  BMK    종합검사(경과)   \n",
       "7       자기인증면제차량  4MY-AD-20    31124022261309     4F  BMK        종합검사   \n",
       "\n",
       "         검사방법 검사판정  대수  mean   min   max  \n",
       "0  무부하검사(급가속)    Y   1 19.00 19.00 19.00  \n",
       "1  무부하검사(급가속)    Y   2  6.00  0.00 12.00  \n",
       "2  무부하검사(급가속)    N   1 21.00 21.00 21.00  \n",
       "3  무부하검사(급가속)    Y   2 23.00 20.00 26.00  \n",
       "4  무부하검사(급가속)    N   1 51.00 51.00 51.00  \n",
       "5  무부하검사(급가속)    Y  15 12.33  0.00 31.00  \n",
       "6  무부하검사(급가속)    Y   4 15.00 11.00 17.00  \n",
       "7  무부하검사(급가속)    Y   1  2.00  2.00  2.00  "
      ]
     },
     "execution_count": 155,
     "metadata": {},
     "output_type": "execute_result"
    }
   ],
   "source": [
    "g"
   ]
  },
  {
   "cell_type": "code",
   "execution_count": 156,
   "metadata": {},
   "outputs": [
    {
     "data": {
      "text/plain": [
       "0     1\n",
       "1     2\n",
       "2     3\n",
       "3     3\n",
       "4    16\n",
       "5    16\n",
       "6     4\n",
       "7     1\n",
       "Name: 대수, dtype: int64"
      ]
     },
     "execution_count": 156,
     "metadata": {},
     "output_type": "execute_result"
    }
   ],
   "source": [
    "groupby_col2 = ['제작사명', '배출가스인증번호', '제원관리번호', '자동차형식', '엔진형식', '검사종류', '검사방법']\n",
    "g.groupby(groupby_col2)['대수'].transform('sum')"
   ]
  },
  {
   "cell_type": "code",
   "execution_count": 157,
   "metadata": {},
   "outputs": [
    {
     "data": {
      "text/html": [
       "<div>\n",
       "<style scoped>\n",
       "    .dataframe tbody tr th:only-of-type {\n",
       "        vertical-align: middle;\n",
       "    }\n",
       "\n",
       "    .dataframe tbody tr th {\n",
       "        vertical-align: top;\n",
       "    }\n",
       "\n",
       "    .dataframe thead th {\n",
       "        text-align: right;\n",
       "    }\n",
       "</style>\n",
       "<table border=\"1\" class=\"dataframe\">\n",
       "  <thead>\n",
       "    <tr style=\"text-align: right;\">\n",
       "      <th></th>\n",
       "      <th>제작사명</th>\n",
       "      <th>배출가스인증번호</th>\n",
       "      <th>제원관리번호</th>\n",
       "      <th>자동차형식</th>\n",
       "      <th>엔진형식</th>\n",
       "      <th>검사종류</th>\n",
       "      <th>검사방법</th>\n",
       "      <th>검사판정</th>\n",
       "      <th>대수</th>\n",
       "      <th>mean</th>\n",
       "      <th>min</th>\n",
       "      <th>max</th>\n",
       "      <th>합격률(%)</th>\n",
       "    </tr>\n",
       "  </thead>\n",
       "  <tbody>\n",
       "    <tr>\n",
       "      <th>0</th>\n",
       "      <td>아우디폭스바겐코리아(주)</td>\n",
       "      <td>4MY-AD-20</td>\n",
       "      <td>2420000100031300</td>\n",
       "      <td>4F</td>\n",
       "      <td>BMK</td>\n",
       "      <td>재검사(2부재검사)</td>\n",
       "      <td>무부하검사(급가속)</td>\n",
       "      <td>Y</td>\n",
       "      <td>1</td>\n",
       "      <td>19.00</td>\n",
       "      <td>19.00</td>\n",
       "      <td>19.00</td>\n",
       "      <td>100.00</td>\n",
       "    </tr>\n",
       "    <tr>\n",
       "      <th>1</th>\n",
       "      <td>아우디폭스바겐코리아(주)</td>\n",
       "      <td>4MY-AD-20</td>\n",
       "      <td>2420000100031300</td>\n",
       "      <td>4F</td>\n",
       "      <td>BMK</td>\n",
       "      <td>정기(경과)검사</td>\n",
       "      <td>무부하검사(급가속)</td>\n",
       "      <td>Y</td>\n",
       "      <td>2</td>\n",
       "      <td>6.00</td>\n",
       "      <td>0.00</td>\n",
       "      <td>12.00</td>\n",
       "      <td>100.00</td>\n",
       "    </tr>\n",
       "    <tr>\n",
       "      <th>2</th>\n",
       "      <td>아우디폭스바겐코리아(주)</td>\n",
       "      <td>4MY-AD-20</td>\n",
       "      <td>2420000100031300</td>\n",
       "      <td>4F</td>\n",
       "      <td>BMK</td>\n",
       "      <td>정기검사</td>\n",
       "      <td>무부하검사(급가속)</td>\n",
       "      <td>N</td>\n",
       "      <td>1</td>\n",
       "      <td>21.00</td>\n",
       "      <td>21.00</td>\n",
       "      <td>21.00</td>\n",
       "      <td>33.33</td>\n",
       "    </tr>\n",
       "    <tr>\n",
       "      <th>3</th>\n",
       "      <td>아우디폭스바겐코리아(주)</td>\n",
       "      <td>4MY-AD-20</td>\n",
       "      <td>2420000100031300</td>\n",
       "      <td>4F</td>\n",
       "      <td>BMK</td>\n",
       "      <td>정기검사</td>\n",
       "      <td>무부하검사(급가속)</td>\n",
       "      <td>Y</td>\n",
       "      <td>2</td>\n",
       "      <td>23.00</td>\n",
       "      <td>20.00</td>\n",
       "      <td>26.00</td>\n",
       "      <td>66.67</td>\n",
       "    </tr>\n",
       "    <tr>\n",
       "      <th>4</th>\n",
       "      <td>아우디폭스바겐코리아(주)</td>\n",
       "      <td>4MY-AD-20</td>\n",
       "      <td>2420000100031300</td>\n",
       "      <td>4F</td>\n",
       "      <td>BMK</td>\n",
       "      <td>종합검사</td>\n",
       "      <td>무부하검사(급가속)</td>\n",
       "      <td>N</td>\n",
       "      <td>1</td>\n",
       "      <td>51.00</td>\n",
       "      <td>51.00</td>\n",
       "      <td>51.00</td>\n",
       "      <td>6.25</td>\n",
       "    </tr>\n",
       "    <tr>\n",
       "      <th>5</th>\n",
       "      <td>아우디폭스바겐코리아(주)</td>\n",
       "      <td>4MY-AD-20</td>\n",
       "      <td>2420000100031300</td>\n",
       "      <td>4F</td>\n",
       "      <td>BMK</td>\n",
       "      <td>종합검사</td>\n",
       "      <td>무부하검사(급가속)</td>\n",
       "      <td>Y</td>\n",
       "      <td>15</td>\n",
       "      <td>12.33</td>\n",
       "      <td>0.00</td>\n",
       "      <td>31.00</td>\n",
       "      <td>93.75</td>\n",
       "    </tr>\n",
       "    <tr>\n",
       "      <th>6</th>\n",
       "      <td>아우디폭스바겐코리아(주)</td>\n",
       "      <td>4MY-AD-20</td>\n",
       "      <td>2420000100031300</td>\n",
       "      <td>4F</td>\n",
       "      <td>BMK</td>\n",
       "      <td>종합검사(경과)</td>\n",
       "      <td>무부하검사(급가속)</td>\n",
       "      <td>Y</td>\n",
       "      <td>4</td>\n",
       "      <td>15.00</td>\n",
       "      <td>11.00</td>\n",
       "      <td>17.00</td>\n",
       "      <td>100.00</td>\n",
       "    </tr>\n",
       "    <tr>\n",
       "      <th>7</th>\n",
       "      <td>자기인증면제차량</td>\n",
       "      <td>4MY-AD-20</td>\n",
       "      <td>31124022261309</td>\n",
       "      <td>4F</td>\n",
       "      <td>BMK</td>\n",
       "      <td>종합검사</td>\n",
       "      <td>무부하검사(급가속)</td>\n",
       "      <td>Y</td>\n",
       "      <td>1</td>\n",
       "      <td>2.00</td>\n",
       "      <td>2.00</td>\n",
       "      <td>2.00</td>\n",
       "      <td>100.00</td>\n",
       "    </tr>\n",
       "  </tbody>\n",
       "</table>\n",
       "</div>"
      ],
      "text/plain": [
       "            제작사명   배출가스인증번호             제원관리번호 자동차형식 엔진형식        검사종류  \\\n",
       "0  아우디폭스바겐코리아(주)  4MY-AD-20  2420000100031300     4F  BMK  재검사(2부재검사)   \n",
       "1  아우디폭스바겐코리아(주)  4MY-AD-20  2420000100031300     4F  BMK    정기(경과)검사   \n",
       "2  아우디폭스바겐코리아(주)  4MY-AD-20  2420000100031300     4F  BMK        정기검사   \n",
       "3  아우디폭스바겐코리아(주)  4MY-AD-20  2420000100031300     4F  BMK        정기검사   \n",
       "4  아우디폭스바겐코리아(주)  4MY-AD-20  2420000100031300     4F  BMK        종합검사   \n",
       "5  아우디폭스바겐코리아(주)  4MY-AD-20  2420000100031300     4F  BMK        종합검사   \n",
       "6  아우디폭스바겐코리아(주)  4MY-AD-20  2420000100031300     4F  BMK    종합검사(경과)   \n",
       "7       자기인증면제차량  4MY-AD-20    31124022261309     4F  BMK        종합검사   \n",
       "\n",
       "         검사방법 검사판정  대수  mean   min   max  합격률(%)  \n",
       "0  무부하검사(급가속)    Y   1 19.00 19.00 19.00  100.00  \n",
       "1  무부하검사(급가속)    Y   2  6.00  0.00 12.00  100.00  \n",
       "2  무부하검사(급가속)    N   1 21.00 21.00 21.00   33.33  \n",
       "3  무부하검사(급가속)    Y   2 23.00 20.00 26.00   66.67  \n",
       "4  무부하검사(급가속)    N   1 51.00 51.00 51.00    6.25  \n",
       "5  무부하검사(급가속)    Y  15 12.33  0.00 31.00   93.75  \n",
       "6  무부하검사(급가속)    Y   4 15.00 11.00 17.00  100.00  \n",
       "7  무부하검사(급가속)    Y   1  2.00  2.00  2.00  100.00  "
      ]
     },
     "execution_count": 157,
     "metadata": {},
     "output_type": "execute_result"
    }
   ],
   "source": [
    "g['합격률(%)'] = round(g['대수'] / g.groupby(groupby_col2)['대수'].transform('sum') * 100, 2)\n",
    "g"
   ]
  },
  {
   "cell_type": "code",
   "execution_count": 158,
   "metadata": {},
   "outputs": [],
   "source": [
    "test_df = pd.concat([test_df, g], ignore_index=True)"
   ]
  },
  {
   "cell_type": "code",
   "execution_count": 159,
   "metadata": {},
   "outputs": [
    {
     "data": {
      "text/html": [
       "<div>\n",
       "<style scoped>\n",
       "    .dataframe tbody tr th:only-of-type {\n",
       "        vertical-align: middle;\n",
       "    }\n",
       "\n",
       "    .dataframe tbody tr th {\n",
       "        vertical-align: top;\n",
       "    }\n",
       "\n",
       "    .dataframe thead th {\n",
       "        text-align: right;\n",
       "    }\n",
       "</style>\n",
       "<table border=\"1\" class=\"dataframe\">\n",
       "  <thead>\n",
       "    <tr style=\"text-align: right;\">\n",
       "      <th></th>\n",
       "      <th>제작사명</th>\n",
       "      <th>배출가스인증번호</th>\n",
       "      <th>제원관리번호</th>\n",
       "      <th>자동차형식</th>\n",
       "      <th>엔진형식</th>\n",
       "      <th>검사종류</th>\n",
       "      <th>검사방법</th>\n",
       "      <th>검사판정</th>\n",
       "      <th>대수</th>\n",
       "      <th>mean</th>\n",
       "      <th>min</th>\n",
       "      <th>max</th>\n",
       "      <th>합격률(%)</th>\n",
       "    </tr>\n",
       "  </thead>\n",
       "  <tbody>\n",
       "    <tr>\n",
       "      <th>0</th>\n",
       "      <td>아우디폭스바겐코리아(주)</td>\n",
       "      <td>4MY-AD-20</td>\n",
       "      <td>2420000100031300</td>\n",
       "      <td>4F</td>\n",
       "      <td>BMK</td>\n",
       "      <td>재검사(2부재검사)</td>\n",
       "      <td>무부하검사(급가속)</td>\n",
       "      <td>Y</td>\n",
       "      <td>1</td>\n",
       "      <td>19.00</td>\n",
       "      <td>19.00</td>\n",
       "      <td>19.00</td>\n",
       "      <td>100.00</td>\n",
       "    </tr>\n",
       "    <tr>\n",
       "      <th>1</th>\n",
       "      <td>아우디폭스바겐코리아(주)</td>\n",
       "      <td>4MY-AD-20</td>\n",
       "      <td>2420000100031300</td>\n",
       "      <td>4F</td>\n",
       "      <td>BMK</td>\n",
       "      <td>정기(경과)검사</td>\n",
       "      <td>무부하검사(급가속)</td>\n",
       "      <td>Y</td>\n",
       "      <td>2</td>\n",
       "      <td>6.00</td>\n",
       "      <td>0.00</td>\n",
       "      <td>12.00</td>\n",
       "      <td>100.00</td>\n",
       "    </tr>\n",
       "    <tr>\n",
       "      <th>2</th>\n",
       "      <td>아우디폭스바겐코리아(주)</td>\n",
       "      <td>4MY-AD-20</td>\n",
       "      <td>2420000100031300</td>\n",
       "      <td>4F</td>\n",
       "      <td>BMK</td>\n",
       "      <td>정기검사</td>\n",
       "      <td>무부하검사(급가속)</td>\n",
       "      <td>N</td>\n",
       "      <td>1</td>\n",
       "      <td>21.00</td>\n",
       "      <td>21.00</td>\n",
       "      <td>21.00</td>\n",
       "      <td>33.33</td>\n",
       "    </tr>\n",
       "    <tr>\n",
       "      <th>3</th>\n",
       "      <td>아우디폭스바겐코리아(주)</td>\n",
       "      <td>4MY-AD-20</td>\n",
       "      <td>2420000100031300</td>\n",
       "      <td>4F</td>\n",
       "      <td>BMK</td>\n",
       "      <td>정기검사</td>\n",
       "      <td>무부하검사(급가속)</td>\n",
       "      <td>Y</td>\n",
       "      <td>2</td>\n",
       "      <td>23.00</td>\n",
       "      <td>20.00</td>\n",
       "      <td>26.00</td>\n",
       "      <td>66.67</td>\n",
       "    </tr>\n",
       "    <tr>\n",
       "      <th>4</th>\n",
       "      <td>아우디폭스바겐코리아(주)</td>\n",
       "      <td>4MY-AD-20</td>\n",
       "      <td>2420000100031300</td>\n",
       "      <td>4F</td>\n",
       "      <td>BMK</td>\n",
       "      <td>종합검사</td>\n",
       "      <td>무부하검사(급가속)</td>\n",
       "      <td>N</td>\n",
       "      <td>1</td>\n",
       "      <td>51.00</td>\n",
       "      <td>51.00</td>\n",
       "      <td>51.00</td>\n",
       "      <td>6.25</td>\n",
       "    </tr>\n",
       "    <tr>\n",
       "      <th>5</th>\n",
       "      <td>아우디폭스바겐코리아(주)</td>\n",
       "      <td>4MY-AD-20</td>\n",
       "      <td>2420000100031300</td>\n",
       "      <td>4F</td>\n",
       "      <td>BMK</td>\n",
       "      <td>종합검사</td>\n",
       "      <td>무부하검사(급가속)</td>\n",
       "      <td>Y</td>\n",
       "      <td>15</td>\n",
       "      <td>12.33</td>\n",
       "      <td>0.00</td>\n",
       "      <td>31.00</td>\n",
       "      <td>93.75</td>\n",
       "    </tr>\n",
       "    <tr>\n",
       "      <th>6</th>\n",
       "      <td>아우디폭스바겐코리아(주)</td>\n",
       "      <td>4MY-AD-20</td>\n",
       "      <td>2420000100031300</td>\n",
       "      <td>4F</td>\n",
       "      <td>BMK</td>\n",
       "      <td>종합검사(경과)</td>\n",
       "      <td>무부하검사(급가속)</td>\n",
       "      <td>Y</td>\n",
       "      <td>4</td>\n",
       "      <td>15.00</td>\n",
       "      <td>11.00</td>\n",
       "      <td>17.00</td>\n",
       "      <td>100.00</td>\n",
       "    </tr>\n",
       "    <tr>\n",
       "      <th>7</th>\n",
       "      <td>자기인증면제차량</td>\n",
       "      <td>4MY-AD-20</td>\n",
       "      <td>31124022261309</td>\n",
       "      <td>4F</td>\n",
       "      <td>BMK</td>\n",
       "      <td>종합검사</td>\n",
       "      <td>무부하검사(급가속)</td>\n",
       "      <td>Y</td>\n",
       "      <td>1</td>\n",
       "      <td>2.00</td>\n",
       "      <td>2.00</td>\n",
       "      <td>2.00</td>\n",
       "      <td>100.00</td>\n",
       "    </tr>\n",
       "  </tbody>\n",
       "</table>\n",
       "</div>"
      ],
      "text/plain": [
       "            제작사명   배출가스인증번호             제원관리번호 자동차형식 엔진형식        검사종류  \\\n",
       "0  아우디폭스바겐코리아(주)  4MY-AD-20  2420000100031300     4F  BMK  재검사(2부재검사)   \n",
       "1  아우디폭스바겐코리아(주)  4MY-AD-20  2420000100031300     4F  BMK    정기(경과)검사   \n",
       "2  아우디폭스바겐코리아(주)  4MY-AD-20  2420000100031300     4F  BMK        정기검사   \n",
       "3  아우디폭스바겐코리아(주)  4MY-AD-20  2420000100031300     4F  BMK        정기검사   \n",
       "4  아우디폭스바겐코리아(주)  4MY-AD-20  2420000100031300     4F  BMK        종합검사   \n",
       "5  아우디폭스바겐코리아(주)  4MY-AD-20  2420000100031300     4F  BMK        종합검사   \n",
       "6  아우디폭스바겐코리아(주)  4MY-AD-20  2420000100031300     4F  BMK    종합검사(경과)   \n",
       "7       자기인증면제차량  4MY-AD-20    31124022261309     4F  BMK        종합검사   \n",
       "\n",
       "         검사방법 검사판정  대수  mean   min   max  합격률(%)  \n",
       "0  무부하검사(급가속)    Y   1 19.00 19.00 19.00  100.00  \n",
       "1  무부하검사(급가속)    Y   2  6.00  0.00 12.00  100.00  \n",
       "2  무부하검사(급가속)    N   1 21.00 21.00 21.00   33.33  \n",
       "3  무부하검사(급가속)    Y   2 23.00 20.00 26.00   66.67  \n",
       "4  무부하검사(급가속)    N   1 51.00 51.00 51.00    6.25  \n",
       "5  무부하검사(급가속)    Y  15 12.33  0.00 31.00   93.75  \n",
       "6  무부하검사(급가속)    Y   4 15.00 11.00 17.00  100.00  \n",
       "7  무부하검사(급가속)    Y   1  2.00  2.00  2.00  100.00  "
      ]
     },
     "execution_count": 159,
     "metadata": {},
     "output_type": "execute_result"
    }
   ],
   "source": [
    "test_df"
   ]
  },
  {
   "attachments": {},
   "cell_type": "markdown",
   "metadata": {},
   "source": [
    "# 배인번호별 분석"
   ]
  },
  {
   "cell_type": "code",
   "execution_count": 22,
   "metadata": {},
   "outputs": [],
   "source": [
    "def flat_cols(df):\n",
    "    df.columns = ['/'.join(x) for x in df.columns.to_flat_index()]\n",
    "    return df"
   ]
  },
  {
   "cell_type": "code",
   "execution_count": 23,
   "metadata": {},
   "outputs": [
    {
     "name": "stderr",
     "output_type": "stream",
     "text": [
      "100%|██████████| 140/140 [00:11<00:00, 11.85it/s]\n"
     ]
    }
   ],
   "source": [
    "# about 11.9s\n",
    "# 최적화 24m 51s -> 11.9s 시간 99% 절감, 처리 속도 124배 증가\n",
    "total_g_df = pd.DataFrame()\n",
    "groupby_col1 = ['제작사명', '배인번호_수정', '제원관리번호', '자동차형식', '엔진형식', '검사종류', '검사방법', '검사판정']\n",
    "groupby_col2 = ['제작사명', '배출가스인증번호', '제원관리번호', '자동차형식', '엔진형식', '검사종류', '검사방법']\n",
    "for one in tqdm(df3y['배인번호_수정'].unique()):\n",
    "    # 배인번호별 df\n",
    "    gas_df = df3y.loc[df3y['배인번호_수정'] == str(one)].reset_index(drop=True)\n",
    "\n",
    "    if gas_df.shape[0] != 0:\n",
    "        # 제번별, 차형식별, 엔진형식별, 검사판정별 무부하매연측정치1 통계\n",
    "        g = gas_df.groupby(groupby_col1).agg({'차대번호':'count', '무부하매연측정치1':['mean', 'min', 'max']}).pipe(flat_cols).round(2).reset_index()\n",
    "        g = g.rename(columns={'배인번호_수정':'배출가스인증번호', '차대번호/count':'대수', '무부하매연측정치1/mean':'mean', '무부하매연측정치1/min':'min', '무부하매연측정치1/max':'max'})\n",
    "        # 하나의 배인번호에서 제번별 엔진형식별 비율 계산\n",
    "        g['합격률(%)'] = round(g['대수'] / g.groupby(groupby_col2)['대수'].transform('sum') * 100, 2)\n",
    "        # 종합 - 통계\n",
    "        total_g_df = pd.concat([total_g_df, g], ignore_index=True)\n",
    "    else:\n",
    "        print(f'오류 배인번호 : {one}')\n",
    "        pass"
   ]
  },
  {
   "cell_type": "code",
   "execution_count": 24,
   "metadata": {},
   "outputs": [
    {
     "data": {
      "text/html": [
       "<div>\n",
       "<style scoped>\n",
       "    .dataframe tbody tr th:only-of-type {\n",
       "        vertical-align: middle;\n",
       "    }\n",
       "\n",
       "    .dataframe tbody tr th {\n",
       "        vertical-align: top;\n",
       "    }\n",
       "\n",
       "    .dataframe thead th {\n",
       "        text-align: right;\n",
       "    }\n",
       "</style>\n",
       "<table border=\"1\" class=\"dataframe\">\n",
       "  <thead>\n",
       "    <tr style=\"text-align: right;\">\n",
       "      <th></th>\n",
       "      <th>제작사명</th>\n",
       "      <th>배출가스인증번호</th>\n",
       "      <th>제원관리번호</th>\n",
       "      <th>자동차형식</th>\n",
       "      <th>엔진형식</th>\n",
       "      <th>검사종류</th>\n",
       "      <th>검사방법</th>\n",
       "      <th>검사판정</th>\n",
       "      <th>대수</th>\n",
       "      <th>mean</th>\n",
       "      <th>min</th>\n",
       "      <th>max</th>\n",
       "      <th>합격률(%)</th>\n",
       "    </tr>\n",
       "  </thead>\n",
       "  <tbody>\n",
       "    <tr>\n",
       "      <th>0</th>\n",
       "      <td>아우디폭스바겐코리아(주)</td>\n",
       "      <td>4MY-AD-20</td>\n",
       "      <td>02420000100031305</td>\n",
       "      <td>4F</td>\n",
       "      <td>BMK</td>\n",
       "      <td>재검사(2부재검사)</td>\n",
       "      <td>무부하검사(급가속)</td>\n",
       "      <td>Y</td>\n",
       "      <td>1</td>\n",
       "      <td>19.00</td>\n",
       "      <td>19.00</td>\n",
       "      <td>19.00</td>\n",
       "      <td>100.00</td>\n",
       "    </tr>\n",
       "    <tr>\n",
       "      <th>1</th>\n",
       "      <td>아우디폭스바겐코리아(주)</td>\n",
       "      <td>4MY-AD-20</td>\n",
       "      <td>02420000100031305</td>\n",
       "      <td>4F</td>\n",
       "      <td>BMK</td>\n",
       "      <td>정기(경과)검사</td>\n",
       "      <td>무부하검사(급가속)</td>\n",
       "      <td>Y</td>\n",
       "      <td>2</td>\n",
       "      <td>6.00</td>\n",
       "      <td>0.00</td>\n",
       "      <td>12.00</td>\n",
       "      <td>100.00</td>\n",
       "    </tr>\n",
       "    <tr>\n",
       "      <th>2</th>\n",
       "      <td>아우디폭스바겐코리아(주)</td>\n",
       "      <td>4MY-AD-20</td>\n",
       "      <td>02420000100031305</td>\n",
       "      <td>4F</td>\n",
       "      <td>BMK</td>\n",
       "      <td>정기검사</td>\n",
       "      <td>무부하검사(급가속)</td>\n",
       "      <td>N</td>\n",
       "      <td>1</td>\n",
       "      <td>21.00</td>\n",
       "      <td>21.00</td>\n",
       "      <td>21.00</td>\n",
       "      <td>33.33</td>\n",
       "    </tr>\n",
       "    <tr>\n",
       "      <th>3</th>\n",
       "      <td>아우디폭스바겐코리아(주)</td>\n",
       "      <td>4MY-AD-20</td>\n",
       "      <td>02420000100031305</td>\n",
       "      <td>4F</td>\n",
       "      <td>BMK</td>\n",
       "      <td>정기검사</td>\n",
       "      <td>무부하검사(급가속)</td>\n",
       "      <td>Y</td>\n",
       "      <td>2</td>\n",
       "      <td>23.00</td>\n",
       "      <td>20.00</td>\n",
       "      <td>26.00</td>\n",
       "      <td>66.67</td>\n",
       "    </tr>\n",
       "    <tr>\n",
       "      <th>4</th>\n",
       "      <td>아우디폭스바겐코리아(주)</td>\n",
       "      <td>4MY-AD-20</td>\n",
       "      <td>02420000100031305</td>\n",
       "      <td>4F</td>\n",
       "      <td>BMK</td>\n",
       "      <td>종합검사</td>\n",
       "      <td>무부하검사(급가속)</td>\n",
       "      <td>N</td>\n",
       "      <td>1</td>\n",
       "      <td>51.00</td>\n",
       "      <td>51.00</td>\n",
       "      <td>51.00</td>\n",
       "      <td>6.25</td>\n",
       "    </tr>\n",
       "  </tbody>\n",
       "</table>\n",
       "</div>"
      ],
      "text/plain": [
       "            제작사명   배출가스인증번호             제원관리번호 자동차형식 엔진형식        검사종류  \\\n",
       "0  아우디폭스바겐코리아(주)  4MY-AD-20  02420000100031305    4F  BMK  재검사(2부재검사)   \n",
       "1  아우디폭스바겐코리아(주)  4MY-AD-20  02420000100031305    4F  BMK    정기(경과)검사   \n",
       "2  아우디폭스바겐코리아(주)  4MY-AD-20  02420000100031305    4F  BMK        정기검사   \n",
       "3  아우디폭스바겐코리아(주)  4MY-AD-20  02420000100031305    4F  BMK        정기검사   \n",
       "4  아우디폭스바겐코리아(주)  4MY-AD-20  02420000100031305    4F  BMK        종합검사   \n",
       "\n",
       "         검사방법 검사판정  대수  mean   min   max  합격률(%)  \n",
       "0  무부하검사(급가속)    Y   1 19.00 19.00 19.00  100.00  \n",
       "1  무부하검사(급가속)    Y   2  6.00  0.00 12.00  100.00  \n",
       "2  무부하검사(급가속)    N   1 21.00 21.00 21.00   33.33  \n",
       "3  무부하검사(급가속)    Y   2 23.00 20.00 26.00   66.67  \n",
       "4  무부하검사(급가속)    N   1 51.00 51.00 51.00    6.25  "
      ]
     },
     "execution_count": 24,
     "metadata": {},
     "output_type": "execute_result"
    }
   ],
   "source": [
    "total_g_df.head()"
   ]
  },
  {
   "cell_type": "code",
   "execution_count": 25,
   "metadata": {},
   "outputs": [
    {
     "data": {
      "text/plain": [
       "(28212, 13)"
      ]
     },
     "execution_count": 25,
     "metadata": {},
     "output_type": "execute_result"
    }
   ],
   "source": [
    "total_g_df.shape"
   ]
  },
  {
   "cell_type": "code",
   "execution_count": 163,
   "metadata": {},
   "outputs": [
    {
     "data": {
      "text/plain": [
       "(25301, 13)"
      ]
     },
     "execution_count": 163,
     "metadata": {},
     "output_type": "execute_result"
    }
   ],
   "source": [
    "total_g_df1 = total_g_df.loc[total_g_df['배출가스인증번호'] != '확인불가']\n",
    "total_g_df1.shape"
   ]
  },
  {
   "attachments": {},
   "cell_type": "markdown",
   "metadata": {},
   "source": [
    "## [출력] 통계 배인번호별 매연값"
   ]
  },
  {
   "cell_type": "code",
   "execution_count": 164,
   "metadata": {},
   "outputs": [],
   "source": [
    "# about 2s\n",
    "today_date = datetime.today().strftime(\"%Y.%m.%d_%p.%I.%M.%S\")\n",
    "total_g_df1.to_excel(os.path.join(analysis_fold, f'통계_배인번호별_매연_{today_date}.xlsx'), index=False)"
   ]
  },
  {
   "attachments": {},
   "cell_type": "markdown",
   "metadata": {},
   "source": [
    "## 데이터 확인"
   ]
  },
  {
   "cell_type": "code",
   "execution_count": 165,
   "metadata": {},
   "outputs": [
    {
     "data": {
      "text/plain": [
       "(1148246, 61)"
      ]
     },
     "execution_count": 165,
     "metadata": {},
     "output_type": "execute_result"
    }
   ],
   "source": [
    "df3y.shape"
   ]
  },
  {
   "cell_type": "code",
   "execution_count": 166,
   "metadata": {},
   "outputs": [
    {
     "data": {
      "text/plain": [
       "1114000"
      ]
     },
     "execution_count": 166,
     "metadata": {},
     "output_type": "execute_result"
    }
   ],
   "source": [
    "total_g_df1['대수'].sum()"
   ]
  },
  {
   "cell_type": "code",
   "execution_count": 108,
   "metadata": {},
   "outputs": [
    {
     "data": {
      "text/plain": [
       "(6648, 61)"
      ]
     },
     "execution_count": 108,
     "metadata": {},
     "output_type": "execute_result"
    }
   ],
   "source": [
    "df3y[df3y['배인번호_수정'] == '확인불가'].shape"
   ]
  },
  {
   "cell_type": "code",
   "execution_count": 109,
   "metadata": {},
   "outputs": [
    {
     "data": {
      "text/plain": [
       "(0, 61)"
      ]
     },
     "execution_count": 109,
     "metadata": {},
     "output_type": "execute_result"
    }
   ],
   "source": [
    "df2n[df2n['배인번호_수정'] == '확인불가'].shape"
   ]
  },
  {
   "cell_type": "code",
   "execution_count": 110,
   "metadata": {},
   "outputs": [
    {
     "data": {
      "text/plain": [
       "(8, 61)"
      ]
     },
     "execution_count": 110,
     "metadata": {},
     "output_type": "execute_result"
    }
   ],
   "source": [
    "df3n[df3n['배인번호_수정'] == '확인불가'].shape"
   ]
  },
  {
   "cell_type": "code",
   "execution_count": 111,
   "metadata": {},
   "outputs": [
    {
     "data": {
      "text/plain": [
       "(6656, 59)"
      ]
     },
     "execution_count": 111,
     "metadata": {},
     "output_type": "execute_result"
    }
   ],
   "source": [
    "df[df['배인번호_수정'] == '확인불가'].shape"
   ]
  },
  {
   "attachments": {},
   "cell_type": "markdown",
   "metadata": {},
   "source": [
    "# 시각화"
   ]
  },
  {
   "cell_type": "code",
   "execution_count": 26,
   "metadata": {},
   "outputs": [
    {
     "data": {
      "text/plain": [
       "Index(['차대번호', '차량번호', '제원관리번호', '차종', '용도', '최초등록일', '연식', '제작일자', '검사유효일',\n",
       "       '배출가스인증번호', '등급', '차명', '차종분류', '차종유형', '자동차형식', '제작사명', '연료', '엔진형식',\n",
       "       '총중량', '적재중량', '엔진출력', '배기량', '법정동코드', '시도명', '시군구명', '소유자구분', '말소여부',\n",
       "       '일치유무', '배인번호_수정', '등급_수정', 'DPF유무_수정', '주행거리', '차량연식', '검사방법', '검사일자',\n",
       "       '검사종류', '검사판정시각', '검사판정', '산소값', '이산화탄소값', '무부하매연판정1', '무부하매연판정2',\n",
       "       '무부하매연판정3', '무부하매연판정4', '무부하매연판정5', '무부하매연판정6', '무부하매연허용치1',\n",
       "       '무부하매연허용치2', '무부하매연허용치3', '무부하매연허용치4', '무부하매연허용치5', '무부하매연허용치6',\n",
       "       '무부하매연측정치1', '무부하매연측정치2', '무부하매연측정치3', '무부하매연측정치4', '무부하매연측정치5',\n",
       "       '무부하매연측정치6', '정기정밀'],\n",
       "      dtype='object')"
      ]
     },
     "execution_count": 26,
     "metadata": {},
     "output_type": "execute_result"
    }
   ],
   "source": [
    "df.columns"
   ]
  },
  {
   "cell_type": "code",
   "execution_count": 29,
   "metadata": {},
   "outputs": [
    {
     "data": {
      "text/plain": [
       "array(['승용', '특수', '승합', '화물'], dtype=object)"
      ]
     },
     "execution_count": 29,
     "metadata": {},
     "output_type": "execute_result"
    }
   ],
   "source": [
    "df['차종'].unique()"
   ]
  },
  {
   "cell_type": "code",
   "execution_count": 30,
   "metadata": {},
   "outputs": [
    {
     "data": {
      "text/plain": [
       "array(['자가용', '관용', '영업용'], dtype=object)"
      ]
     },
     "execution_count": 30,
     "metadata": {},
     "output_type": "execute_result"
    }
   ],
   "source": [
    "df['용도'].unique()"
   ]
  },
  {
   "cell_type": "code",
   "execution_count": 61,
   "metadata": {},
   "outputs": [
    {
     "data": {
      "text/html": [
       "<div>\n",
       "<style scoped>\n",
       "    .dataframe tbody tr th:only-of-type {\n",
       "        vertical-align: middle;\n",
       "    }\n",
       "\n",
       "    .dataframe tbody tr th {\n",
       "        vertical-align: top;\n",
       "    }\n",
       "\n",
       "    .dataframe thead th {\n",
       "        text-align: right;\n",
       "    }\n",
       "</style>\n",
       "<table border=\"1\" class=\"dataframe\">\n",
       "  <thead>\n",
       "    <tr style=\"text-align: right;\">\n",
       "      <th></th>\n",
       "      <th>용도</th>\n",
       "      <th>차대번호</th>\n",
       "    </tr>\n",
       "  </thead>\n",
       "  <tbody>\n",
       "    <tr>\n",
       "      <th>0</th>\n",
       "      <td>관용</td>\n",
       "      <td>4813</td>\n",
       "    </tr>\n",
       "    <tr>\n",
       "      <th>1</th>\n",
       "      <td>영업용</td>\n",
       "      <td>36034</td>\n",
       "    </tr>\n",
       "    <tr>\n",
       "      <th>2</th>\n",
       "      <td>자가용</td>\n",
       "      <td>1107468</td>\n",
       "    </tr>\n",
       "  </tbody>\n",
       "</table>\n",
       "</div>"
      ],
      "text/plain": [
       "    용도     차대번호\n",
       "0   관용     4813\n",
       "1  영업용    36034\n",
       "2  자가용  1107468"
      ]
     },
     "execution_count": 61,
     "metadata": {},
     "output_type": "execute_result"
    }
   ],
   "source": [
    "temp = df.groupby('용도')['차대번호'].count().reset_index()\n",
    "temp"
   ]
  },
  {
   "cell_type": "code",
   "execution_count": 62,
   "metadata": {},
   "outputs": [
    {
     "data": {
      "image/png": "[encoded data removed]",
      "text/plain": [
       "<Figure size 800x500 with 1 Axes>"
      ]
     },
     "metadata": {},
     "output_type": "display_data"
    }
   ],
   "source": [
    "x = temp['용도'].to_list()\n",
    "y = temp['차대번호'].to_list()\n",
    "plt.figure(figsize=(8, 5))\n",
    "plt.xticks(fontsize=20)\n",
    "plt.yticks(fontsize=15)\n",
    "plt.grid(True, zorder=1)\n",
    "plt.title('4등급 경유차 \"용도\"', fontdict={'fontsize':20}, zorder=10)\n",
    "plt.bar(x, y);"
   ]
  },
  {
   "cell_type": "code",
   "execution_count": 65,
   "metadata": {},
   "outputs": [
    {
     "data": {
      "text/plain": [
       "['관용', '영업용', '자가용']"
      ]
     },
     "execution_count": 65,
     "metadata": {},
     "output_type": "execute_result"
    }
   ],
   "source": [
    "x"
   ]
  },
  {
   "cell_type": "code",
   "execution_count": 66,
   "metadata": {},
   "outputs": [
    {
     "data": {
      "text/plain": [
       "[4813, 36034, 1107468]"
      ]
     },
     "execution_count": 66,
     "metadata": {},
     "output_type": "execute_result"
    }
   ],
   "source": [
    "y"
   ]
  },
  {
   "cell_type": "code",
   "execution_count": 82,
   "metadata": {},
   "outputs": [
    {
     "data": {
      "image/png": "[encoded data removed]",
      "text/plain": [
       "<Figure size 800x500 with 1 Axes>"
      ]
     },
     "metadata": {},
     "output_type": "display_data"
    }
   ],
   "source": [
    "plt.figure(figsize=(8, 5))\n",
    "plt.title('4등급 경유차 \"용도\"', fontdict={'fontsize':20}, zorder=10)\n",
    "plt.pie(y, labels=x, autopct='%.1f%%');"
   ]
  },
  {
   "cell_type": "code",
   "execution_count": 81,
   "metadata": {},
   "outputs": [
    {
     "data": {
      "image/png": "[encoded data removed]",
      "text/plain": [
       "<Figure size 800x500 with 1 Axes>"
      ]
     },
     "metadata": {},
     "output_type": "display_data"
    }
   ],
   "source": [
    "explode = [0.3, 0.3, 0.3]\n",
    "plt.figure(figsize=(8, 5))\n",
    "plt.title('4등급 경유차 \"용도\"', fontdict={'fontsize':20}, zorder=10)\n",
    "plt.pie(y, labels=x, autopct='%.1f%%', explode=explode);"
   ]
  },
  {
   "cell_type": "code",
   "execution_count": 83,
   "metadata": {},
   "outputs": [
    {
     "data": {
      "image/png": "[encoded data removed]",
      "text/plain": [
       "<Figure size 800x500 with 1 Axes>"
      ]
     },
     "metadata": {},
     "output_type": "display_data"
    }
   ],
   "source": [
    "wedgeprops={'width': 0.5, 'edgecolor': 'w', 'linewidth': 1}\n",
    "plt.figure(figsize=(8, 5))\n",
    "plt.title('4등급 경유차 \"용도\"', fontdict={'fontsize':20}, zorder=10)\n",
    "plt.pie(y, labels=x, autopct='%.1f%%', wedgeprops=wedgeprops);"
   ]
  },
  {
   "cell_type": "markdown",
   "metadata": {},
   "source": []
  },
  {
   "cell_type": "code",
   "execution_count": 80,
   "metadata": {},
   "outputs": [
    {
     "data": {
      "image/png": "[encoded data removed]",
      "text/plain": [
       "<Figure size 800x500 with 1 Axes>"
      ]
     },
     "metadata": {},
     "output_type": "display_data"
    }
   ],
   "source": [
    "explode = [0.3, 0.3, 0.3]\n",
    "wedgeprops={'width': 0.5, 'edgecolor': 'w', 'linewidth': 1}\n",
    "plt.figure(figsize=(8, 5))\n",
    "plt.title('4등급 경유차 \"용도\"', fontdict={'fontsize':20}, zorder=10)\n",
    "plt.pie(y, labels=x, autopct='%.1f%%', explode=explode, wedgeprops=wedgeprops);"
   ]
  },
  {
   "cell_type": "code",
   "execution_count": 85,
   "metadata": {},
   "outputs": [
    {
     "data": {
      "text/html": [
       "<div>\n",
       "<style scoped>\n",
       "    .dataframe tbody tr th:only-of-type {\n",
       "        vertical-align: middle;\n",
       "    }\n",
       "\n",
       "    .dataframe tbody tr th {\n",
       "        vertical-align: top;\n",
       "    }\n",
       "\n",
       "    .dataframe thead th {\n",
       "        text-align: right;\n",
       "    }\n",
       "</style>\n",
       "<table border=\"1\" class=\"dataframe\">\n",
       "  <thead>\n",
       "    <tr style=\"text-align: right;\">\n",
       "      <th></th>\n",
       "      <th>차종</th>\n",
       "      <th>차대번호</th>\n",
       "    </tr>\n",
       "  </thead>\n",
       "  <tbody>\n",
       "    <tr>\n",
       "      <th>0</th>\n",
       "      <td>승용</td>\n",
       "      <td>524038</td>\n",
       "    </tr>\n",
       "    <tr>\n",
       "      <th>1</th>\n",
       "      <td>승합</td>\n",
       "      <td>132524</td>\n",
       "    </tr>\n",
       "    <tr>\n",
       "      <th>2</th>\n",
       "      <td>특수</td>\n",
       "      <td>6446</td>\n",
       "    </tr>\n",
       "    <tr>\n",
       "      <th>3</th>\n",
       "      <td>화물</td>\n",
       "      <td>485307</td>\n",
       "    </tr>\n",
       "  </tbody>\n",
       "</table>\n",
       "</div>"
      ],
      "text/plain": [
       "   차종    차대번호\n",
       "0  승용  524038\n",
       "1  승합  132524\n",
       "2  특수    6446\n",
       "3  화물  485307"
      ]
     },
     "execution_count": 85,
     "metadata": {},
     "output_type": "execute_result"
    }
   ],
   "source": [
    "temp = df.groupby('차종')['차대번호'].count().reset_index()\n",
    "temp"
   ]
  },
  {
   "cell_type": "code",
   "execution_count": 90,
   "metadata": {},
   "outputs": [
    {
     "data": {
      "image/png": "[encoded data removed]",
      "text/plain": [
       "<Figure size 800x500 with 1 Axes>"
      ]
     },
     "metadata": {},
     "output_type": "display_data"
    }
   ],
   "source": [
    "x = temp['차종'].to_list()\n",
    "y = temp['차대번호'].to_list()\n",
    "plt.figure(figsize=(8, 5))\n",
    "plt.title('4등급 경유차 \"차종\"', fontdict={'fontsize':20}, zorder=10)\n",
    "plt.bar(x, y, color='C2');"
   ]
  },
  {
   "attachments": {},
   "cell_type": "markdown",
   "metadata": {},
   "source": [
    "# code end"
   ]
  }
 ],
 "metadata": {
  "kernelspec": {
   "display_name": "base",
   "language": "python",
   "name": "python3"
  },
  "language_info": {
   "codemirror_mode": {
    "name": "ipython",
    "version": 3
   },
   "file_extension": ".py",
   "mimetype": "text/x-python",
   "name": "python",
   "nbconvert_exporter": "python",
   "pygments_lexer": "ipython3",
   "version": "3.9.13"
  },
  "orig_nbformat": 4,
  "vscode": {
   "interpreter": {
    "hash": "ad2bdc8ecc057115af97d19610ffacc2b4e99fae6737bb82f5d7fb13d2f2c186"
   }
  }
 },
 "nbformat": 4,
 "nbformat_minor": 2
}
