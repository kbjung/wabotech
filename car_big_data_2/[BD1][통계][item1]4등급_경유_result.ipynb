{
 "cells": [
  {
   "attachments": {},
   "cell_type": "markdown",
   "metadata": {},
   "source": [
    "# Library\n"
   ]
  },
  {
   "cell_type": "code",
   "execution_count": 1,
   "metadata": {},
   "outputs": [],
   "source": [
    "import pandas as pd\n",
    "import numpy as np\n",
    "import os\n",
    "from tqdm import tqdm\n",
    "from datetime import datetime"
   ]
  },
  {
   "attachments": {},
   "cell_type": "markdown",
   "metadata": {},
   "source": [
    "# fold path"
   ]
  },
  {
   "cell_type": "code",
   "execution_count": 11,
   "metadata": {},
   "outputs": [],
   "source": [
    "fold = 'D:/data/big2/BD1_4등급_데이터_점검1/emis'\n",
    "check_fold = 'D:/data/big2/BD1_4등급_데이터_점검1'\n",
    "analysis_fold = 'C:/Users/kbjung/Documents/GitHub/wabotech/car_big_data_2/analysis2/4등급_데이터_점검/과제1'"
   ]
  },
  {
   "cell_type": "code",
   "execution_count": 3,
   "metadata": {},
   "outputs": [
    {
     "data": {
      "text/plain": [
       "'2023.03.09_PM.15.35.59'"
      ]
     },
     "execution_count": 3,
     "metadata": {},
     "output_type": "execute_result"
    }
   ],
   "source": [
    "today_date = datetime.today().strftime(\"%Y.%m.%d_%p.%H.%M.%S\")\n",
    "today_date"
   ]
  },
  {
   "attachments": {},
   "cell_type": "markdown",
   "metadata": {},
   "source": [
    "# Load"
   ]
  },
  {
   "attachments": {},
   "cell_type": "markdown",
   "metadata": {},
   "source": [
    "## 4등급 경유 result"
   ]
  },
  {
   "cell_type": "code",
   "execution_count": 6,
   "metadata": {},
   "outputs": [
    {
     "name": "stdout",
     "output_type": "stream",
     "text": [
      "<class 'pandas.core.frame.DataFrame'>\n",
      "RangeIndex: 1153813 entries, 0 to 1153812\n",
      "Data columns (total 68 columns):\n",
      " #   Column       Non-Null Count    Dtype  \n",
      "---  ------       --------------    -----  \n",
      " 0   차대번호         1153813 non-null  object \n",
      " 1   차량번호_x       1153813 non-null  object \n",
      " 2   제원관리번호       1153813 non-null  object \n",
      " 3   차종_원본        1153813 non-null  object \n",
      " 4   용도           1153813 non-null  object \n",
      " 5   최초등록일        1153813 non-null  int64  \n",
      " 6   연식           1153813 non-null  int64  \n",
      " 7   제작일자         1153809 non-null  float64\n",
      " 8   검사유효일        1153810 non-null  float64\n",
      " 9   배출가스인증번호     1146663 non-null  object \n",
      " 10  등급           1153813 non-null  object \n",
      " 11  차명_x         1153813 non-null  object \n",
      " 12  차종분류         1153813 non-null  object \n",
      " 13  차종유형         1153813 non-null  object \n",
      " 14  자동차형식        1153812 non-null  object \n",
      " 15  제작사명         1153795 non-null  object \n",
      " 16  연료           1153813 non-null  object \n",
      " 17  엔진형식_x       1153813 non-null  object \n",
      " 18  총중량          1153813 non-null  float64\n",
      " 19  적재중량         1153589 non-null  float64\n",
      " 20  엔진출력         1153811 non-null  float64\n",
      " 21  배기량          1153813 non-null  float64\n",
      " 22  법정동코드        1153813 non-null  int64  \n",
      " 23  시도명          1153813 non-null  object \n",
      " 24  시군구명         1153813 non-null  object \n",
      " 25  소유자구분        1153813 non-null  object \n",
      " 26  말소여부         1153813 non-null  object \n",
      " 27  일치유무         1153813 non-null  object \n",
      " 28  사용연료         1131176 non-null  object \n",
      " 29  주행거리         1131063 non-null  float64\n",
      " 30  차명_y         1131176 non-null  object \n",
      " 31  차량번호_y       1131176 non-null  object \n",
      " 32  차종           1131176 non-null  object \n",
      " 33  차량연식         1131176 non-null  float64\n",
      " 34  엔진형식_y       1131165 non-null  object \n",
      " 35  검사방법         1131176 non-null  object \n",
      " 36  검사일자         1131176 non-null  float64\n",
      " 37  검사종류         1131176 non-null  object \n",
      " 38  검사판정시각       1122501 non-null  object \n",
      " 39  검사판정         1131176 non-null  object \n",
      " 40  산소값          817299 non-null   float64\n",
      " 41  이산화탄소값       817299 non-null   float64\n",
      " 42  무부하매연판정1     1122497 non-null  object \n",
      " 43  무부하매연판정2     44435 non-null    object \n",
      " 44  무부하매연판정3     43534 non-null    object \n",
      " 45  무부하매연판정4     43532 non-null    object \n",
      " 46  무부하매연판정5     43532 non-null    object \n",
      " 47  무부하매연판정6     46 non-null       object \n",
      " 48  무부하매연허용치1    1122497 non-null  float64\n",
      " 49  무부하매연허용치2    333612 non-null   float64\n",
      " 50  무부하매연허용치3    333611 non-null   float64\n",
      " 51  무부하매연허용치4    333609 non-null   float64\n",
      " 52  무부하매연허용치5    333609 non-null   float64\n",
      " 53  무부하매연허용치6    301714 non-null   float64\n",
      " 54  무부하매연측정치1    1122501 non-null  float64\n",
      " 55  무부하매연측정치2    367673 non-null   float64\n",
      " 56  무부하매연측정치3    333613 non-null   float64\n",
      " 57  무부하매연측정치4    333611 non-null   float64\n",
      " 58  무부하매연측정치5    333611 non-null   float64\n",
      " 59  무부하매연측정치6    301714 non-null   float64\n",
      " 60  정기정밀         1131176 non-null  object \n",
      " 61  vin10        1153813 non-null  object \n",
      " 62  vin_year     1153810 non-null  float64\n",
      " 63  DPF유무        1153813 non-null  object \n",
      " 64  배인번호_수정      1148394 non-null  object \n",
      " 65  제작사확인_DPF유무  1140321 non-null  object \n",
      " 66  확인유무         1140321 non-null  object \n",
      " 67  비고           0 non-null        float64\n",
      "dtypes: float64(25), int64(3), object(40)\n",
      "memory usage: 598.6+ MB\n"
     ]
    }
   ],
   "source": [
    "# about 27s\n",
    "name = '4등급_차량_리스트_양식_result_처리_2023.03.09_PM_03.15.40'\n",
    "file_name = f'{name}.csv'\n",
    "df = pd.read_csv(os.path.join(fold, file_name), encoding='cp949', low_memory=False)\n",
    "df.info()"
   ]
  },
  {
   "cell_type": "code",
   "execution_count": 7,
   "metadata": {},
   "outputs": [
    {
     "data": {
      "text/plain": [
       "Index(['차대번호', '차량번호_x', '제원관리번호', '차종_원본', '용도', '최초등록일', '연식', '제작일자',\n",
       "       '검사유효일', '배출가스인증번호', '등급', '차명_x', '차종분류', '차종유형', '자동차형식', '제작사명',\n",
       "       '연료', '엔진형식_x', '총중량', '적재중량', '엔진출력', '배기량', '법정동코드', '시도명', '시군구명',\n",
       "       '소유자구분', '말소여부', '일치유무', '사용연료', '주행거리', '차명_y', '차량번호_y', '차종', '차량연식',\n",
       "       '엔진형식_y', '검사방법', '검사일자', '검사종류', '검사판정시각', '검사판정', '산소값', '이산화탄소값',\n",
       "       '무부하매연판정1', '무부하매연판정2', '무부하매연판정3', '무부하매연판정4', '무부하매연판정5', '무부하매연판정6',\n",
       "       '무부하매연허용치1', '무부하매연허용치2', '무부하매연허용치3', '무부하매연허용치4', '무부하매연허용치5',\n",
       "       '무부하매연허용치6', '무부하매연측정치1', '무부하매연측정치2', '무부하매연측정치3', '무부하매연측정치4',\n",
       "       '무부하매연측정치5', '무부하매연측정치6', '정기정밀', 'vin10', 'vin_year', 'DPF유무',\n",
       "       '배인번호_수정', '제작사확인_DPF유무', '확인유무', '비고'],\n",
       "      dtype='object')"
      ]
     },
     "execution_count": 7,
     "metadata": {},
     "output_type": "execute_result"
    }
   ],
   "source": [
    "df.columns"
   ]
  },
  {
   "cell_type": "code",
   "execution_count": 8,
   "metadata": {},
   "outputs": [
    {
     "data": {
      "text/plain": [
       "경유    1153813\n",
       "Name: 연료, dtype: int64"
      ]
     },
     "execution_count": 8,
     "metadata": {},
     "output_type": "execute_result"
    }
   ],
   "source": [
    "df['연료'].value_counts(dropna=False)"
   ]
  },
  {
   "cell_type": "code",
   "execution_count": 10,
   "metadata": {},
   "outputs": [
    {
     "data": {
      "text/plain": [
       "N    1153813\n",
       "Name: 말소여부, dtype: int64"
      ]
     },
     "execution_count": 10,
     "metadata": {},
     "output_type": "execute_result"
    }
   ],
   "source": [
    "df['말소여부'].value_counts(dropna=False)"
   ]
  },
  {
   "attachments": {},
   "cell_type": "markdown",
   "metadata": {},
   "source": [
    "## 4등급차 회신내역 정리(23.02.14.)(정리)"
   ]
  },
  {
   "cell_type": "code",
   "execution_count": 12,
   "metadata": {},
   "outputs": [
    {
     "name": "stdout",
     "output_type": "stream",
     "text": [
      "<class 'pandas.core.frame.DataFrame'>\n",
      "RangeIndex: 133 entries, 0 to 132\n",
      "Data columns (total 2 columns):\n",
      " #   Column    Non-Null Count  Dtype \n",
      "---  ------    --------------  ----- \n",
      " 0   배출가스인증번호  133 non-null    object\n",
      " 1   차량 대수(대)  133 non-null    int64 \n",
      "dtypes: int64(1), object(1)\n",
      "memory usage: 2.2+ KB\n"
     ]
    }
   ],
   "source": [
    "# about 1s\n",
    "file_name = '4등급차 회신내역 정리(23.02.14.)(정리).xlsx'\n",
    "check_df = pd.read_excel(os.path.join(check_fold, file_name))\n",
    "check_df.info()"
   ]
  },
  {
   "cell_type": "code",
   "execution_count": 17,
   "metadata": {},
   "outputs": [
    {
     "data": {
      "text/plain": [
       "['5MY-BK-14-07',\n",
       " '6MY-BK-13-08',\n",
       " '6MY-MK-14-02',\n",
       " '6MY-MK-14-13',\n",
       " '7MY-MK-14-04',\n",
       " '7MY-MK-14-07',\n",
       " '4MY-PA-06',\n",
       " '5MY-PA-13-20',\n",
       " '5MY-PA-14-17',\n",
       " '5MY-PA-14-18',\n",
       " '5MY-PA-14-19',\n",
       " '5MY-PA-14-20',\n",
       " '6MY-PA-14-03',\n",
       " '6MY-PA-14-4',\n",
       " '7MY-PA-13-11',\n",
       " '7MY-PA-14-1',\n",
       " '7MY-PA-14-2',\n",
       " '7MY-PA-14-07',\n",
       " '8MY-PA-14-3',\n",
       " '9MY-PA-13-1',\n",
       " '4MY-AD-20',\n",
       " '5MY-AD-13-06',\n",
       " '5MY-AD-13-07',\n",
       " '5MY-AD-13-13',\n",
       " '5MY-AD-14-08',\n",
       " '5MY-AD-14-12',\n",
       " '5MY-AD-14-18',\n",
       " '5MY-AD-14-19',\n",
       " '6MY-AD-13-11',\n",
       " '6MY-AD-14-10',\n",
       " '7MY-AD-13-01',\n",
       " '7MY-AD-13-05',\n",
       " '7MY-AD-13-06',\n",
       " '7MY-AD-14-04',\n",
       " '8MY-AD-14-03',\n",
       " '8MY-AD-14-09',\n",
       " '9MY-AD-14-04',\n",
       " '9MY-JL-14-4',\n",
       " 'AMY-JL-13-9',\n",
       " '6MY-GK-14-01',\n",
       " '5MY-HD-24-35',\n",
       " '5MY-HD-24-56',\n",
       " '5MY-HD-24-59',\n",
       " '5MY-KM-24-17',\n",
       " '5MY-KM-24-57',\n",
       " '5MY-KM-24-64',\n",
       " '6MY-HD-14-63',\n",
       " '6MY-HD-14-64',\n",
       " '6MY-HD-14-96',\n",
       " '6MY-HD-14-97',\n",
       " '6MY-HD-24-12',\n",
       " '6MY-HD-24-44',\n",
       " '6MY-HD-24-100',\n",
       " '6MY-KM-14-57',\n",
       " '6MY-KM-14-58',\n",
       " '6MY-KM-14-59',\n",
       " '6MY-KM-14-61',\n",
       " '6MY-KM-24-06',\n",
       " '6MY-KM-24-81',\n",
       " '7MY-HD-13-58',\n",
       " '7MY-HD-14-45',\n",
       " '7MY-HD-14-46',\n",
       " '7MY-HD-14-47',\n",
       " '7MY-HD-14-57',\n",
       " '7MY-HD-14-68',\n",
       " '7MY-HD-23-01',\n",
       " '7MY-HD-24-08',\n",
       " '7MY-HD-24-09',\n",
       " '7MY-KM-14-52',\n",
       " '7MY-KM-14-63',\n",
       " '7MY-KM-14-64',\n",
       " '7MY-KM-14-65',\n",
       " '7MY-KM-24-32',\n",
       " '7MY-KM-24-33',\n",
       " '8MY-KM-13-19',\n",
       " '8MY-KM-14-21',\n",
       " '8MY-KM-14-29',\n",
       " '9MY-HD-14-21',\n",
       " '9MY-KM-14-22',\n",
       " '9MY-KM-14-41',\n",
       " '6MY-DW-14-18',\n",
       " '7MY-DW-13-07',\n",
       " '5MY-SY-23-58',\n",
       " '5MY-SY-24-48',\n",
       " '7MY-SY-14-24',\n",
       " '7MY-SY-14-34',\n",
       " '7MY-SY-14-48',\n",
       " '7MY-SY-14-49',\n",
       " '7MY-SY-14-60',\n",
       " '7MY-SY-14-61',\n",
       " '8MY-SY-13-14',\n",
       " 'C135',\n",
       " '7MY-SM-14-36',\n",
       " '5MY-VTK-24-01',\n",
       " '7MY-VTK-24-01',\n",
       " '7MY-VTK-24-02',\n",
       " 'CMY-VTK-14-01',\n",
       " 'CMY-VTK-14-02',\n",
       " 'FMY-VTK-14-1',\n",
       " 'FMY-VTK-14-2',\n",
       " 'FMY-VTK-14-3',\n",
       " 'FMY-VTK-14-4',\n",
       " '7MY-DK-24-04',\n",
       " '5MY-SK-23-01',\n",
       " '7MY-SK-24-02',\n",
       " '7MY-SK-24-03',\n",
       " '7MY-MT-24-01',\n",
       " '7MY-MT-24-02',\n",
       " '6MY-DB-23-45',\n",
       " '6MY-DB-24-24',\n",
       " '7MY-DB-23-40',\n",
       " '7MY-DB-23-43',\n",
       " '7MY-DB-24-40',\n",
       " '7MY-DB-24-42',\n",
       " '7MY-DB-24-43',\n",
       " '7MY-DB-24-44',\n",
       " '8MY-DB-24-08',\n",
       " '6MY-HD-23-55',\n",
       " '7MY-HD-24-28',\n",
       " '7MY-HD-24-29',\n",
       " '7MY-HD-24-30',\n",
       " '7MY-HD-24-31',\n",
       " '4MY-DC-33',\n",
       " '7MY-DC-23-69',\n",
       " '7MY-DC-23-70',\n",
       " '7MY-DC-24-69',\n",
       " '7MY-DC-24-70',\n",
       " '7MY-DC-24-71',\n",
       " '7MY-DC-24-72',\n",
       " '8MY-DC-23-27',\n",
       " '8MY-DC-24-12',\n",
       " '8MY-DC-24-15',\n",
       " '8MY-DC-24-27']"
      ]
     },
     "execution_count": 17,
     "metadata": {},
     "output_type": "execute_result"
    }
   ],
   "source": [
    "list(check_df.to_dict()['배출가스인증번호'].values())"
   ]
  },
  {
   "cell_type": "code",
   "execution_count": 18,
   "metadata": {},
   "outputs": [],
   "source": [
    "emis_list = ['5MY-BK-14-07', '6MY-BK-13-08', '6MY-MK-14-02', '6MY-MK-14-13', '7MY-MK-14-04', '7MY-MK-14-07', '4MY-PA-06', '5MY-PA-13-20', '5MY-PA-14-17', '5MY-PA-14-18', '5MY-PA-14-19', '5MY-PA-14-20',\n",
    "             '6MY-PA-14-03', '6MY-PA-14-4', '7MY-PA-13-11', '7MY-PA-14-1', '7MY-PA-14-2', '7MY-PA-14-07', '8MY-PA-14-3', '9MY-PA-13-1', '4MY-AD-20', '5MY-AD-13-06', '5MY-AD-13-07', '5MY-AD-13-13',\n",
    "             '5MY-AD-14-08', '5MY-AD-14-12', '5MY-AD-14-18', '5MY-AD-14-19', '6MY-AD-13-11', '6MY-AD-14-10', '7MY-AD-13-01', '7MY-AD-13-05', '7MY-AD-13-06', '7MY-AD-14-04', '8MY-AD-14-03', '8MY-AD-14-09', \n",
    "             '9MY-AD-14-04', '9MY-JL-14-4', 'AMY-JL-13-9', '6MY-GK-14-01', '5MY-HD-24-35', '5MY-HD-24-56', '5MY-HD-24-59', '5MY-KM-24-17', '5MY-KM-24-57', '5MY-KM-24-64', '6MY-HD-14-63', '6MY-HD-14-64', '6MY-HD-14-96', '6MY-HD-14-97', '6MY-HD-24-12', '6MY-HD-24-44', '6MY-HD-24-100', '6MY-KM-14-57', '6MY-KM-14-58', '6MY-KM-14-59', '6MY-KM-14-61', '6MY-KM-24-06', '6MY-KM-24-81', '7MY-HD-13-58',\n",
    "             '7MY-HD-14-45', '7MY-HD-14-46', '7MY-HD-14-47', '7MY-HD-14-57', '7MY-HD-14-68', '7MY-HD-23-01', '7MY-HD-24-08', '7MY-HD-24-09', '7MY-KM-14-52', '7MY-KM-14-63', '7MY-KM-14-64', '7MY-KM-14-65',\n",
    "             '7MY-KM-24-32', '7MY-KM-24-33', '8MY-KM-13-19', '8MY-KM-14-21', '8MY-KM-14-29', '9MY-HD-14-21', '9MY-KM-14-22', '9MY-KM-14-41', '6MY-DW-14-18', '7MY-DW-13-07', '5MY-SY-23-58', '5MY-SY-24-48',\n",
    "             '7MY-SY-14-24', '7MY-SY-14-34', '7MY-SY-14-48', '7MY-SY-14-49', '7MY-SY-14-60', '7MY-SY-14-61', '8MY-SY-13-14', 'C135', '7MY-SM-14-36', '5MY-VTK-24-01', '7MY-VTK-24-01', '7MY-VTK-24-02',\n",
    "             'CMY-VTK-14-01', 'CMY-VTK-14-02', 'FMY-VTK-14-1', 'FMY-VTK-14-2', 'FMY-VTK-14-3', 'FMY-VTK-14-4', '7MY-DK-24-04', '5MY-SK-23-01', '7MY-SK-24-02', '7MY-SK-24-03', '7MY-MT-24-01', '7MY-MT-24-02',\n",
    "             '6MY-DB-23-45', '6MY-DB-24-24', '7MY-DB-23-40', '7MY-DB-23-43', '7MY-DB-24-40', '7MY-DB-24-42', '7MY-DB-24-43', '7MY-DB-24-44', '8MY-DB-24-08', '6MY-HD-23-55', '7MY-HD-24-28', '7MY-HD-24-29',\n",
    "             '7MY-HD-24-30', '7MY-HD-24-31', '4MY-DC-33', '7MY-DC-23-69', '7MY-DC-23-70', '7MY-DC-24-69', '7MY-DC-24-70', '7MY-DC-24-71', '7MY-DC-24-72', '8MY-DC-23-27', '8MY-DC-24-12', '8MY-DC-24-15',\n",
    "             '8MY-DC-24-27']"
   ]
  },
  {
   "attachments": {},
   "cell_type": "markdown",
   "metadata": {},
   "source": [
    "# 전처리"
   ]
  },
  {
   "attachments": {},
   "cell_type": "markdown",
   "metadata": {},
   "source": [
    "### 배출가스인증번호 str 타입으로 변경"
   ]
  },
  {
   "cell_type": "code",
   "execution_count": 19,
   "metadata": {},
   "outputs": [
    {
     "data": {
      "text/plain": [
       "7150"
      ]
     },
     "execution_count": 19,
     "metadata": {},
     "output_type": "execute_result"
    }
   ],
   "source": [
    "df['배출가스인증번호'].isnull().sum()"
   ]
  },
  {
   "cell_type": "code",
   "execution_count": 20,
   "metadata": {},
   "outputs": [
    {
     "data": {
      "text/plain": [
       "5419"
      ]
     },
     "execution_count": 20,
     "metadata": {},
     "output_type": "execute_result"
    }
   ],
   "source": [
    "df['배인번호_수정'].isnull().sum()"
   ]
  },
  {
   "cell_type": "code",
   "execution_count": 21,
   "metadata": {},
   "outputs": [],
   "source": [
    "df['배출가스인증번호'] = df['배출가스인증번호'].astype('str')\n",
    "df['배인번호_수정'] = df['배인번호_수정'].astype('str')"
   ]
  },
  {
   "cell_type": "code",
   "execution_count": 24,
   "metadata": {},
   "outputs": [
    {
     "data": {
      "text/plain": [
       "(0, 0)"
      ]
     },
     "execution_count": 24,
     "metadata": {},
     "output_type": "execute_result"
    }
   ],
   "source": [
    "df['배출가스인증번호'].isnull().sum(), df['배인번호_수정'].isnull().sum()"
   ]
  },
  {
   "attachments": {},
   "cell_type": "markdown",
   "metadata": {},
   "source": [
    "### 엔진형식 str 타입으로 변경\n",
    "- nan 값 존재"
   ]
  },
  {
   "cell_type": "code",
   "execution_count": 26,
   "metadata": {},
   "outputs": [
    {
     "data": {
      "text/plain": [
       "22648"
      ]
     },
     "execution_count": 26,
     "metadata": {},
     "output_type": "execute_result"
    }
   ],
   "source": [
    "df['엔진형식_y'].isnull().sum()"
   ]
  },
  {
   "cell_type": "code",
   "execution_count": 27,
   "metadata": {},
   "outputs": [],
   "source": [
    "df['엔진형식_y'] = df['엔진형식_y'].astype('str')"
   ]
  },
  {
   "cell_type": "code",
   "execution_count": 28,
   "metadata": {},
   "outputs": [
    {
     "data": {
      "text/plain": [
       "0"
      ]
     },
     "execution_count": 28,
     "metadata": {},
     "output_type": "execute_result"
    }
   ],
   "source": [
    "df['엔진형식_y'].isnull().sum()"
   ]
  },
  {
   "attachments": {},
   "cell_type": "markdown",
   "metadata": {},
   "source": [
    "### 검사판정 str 타입으로 변경"
   ]
  },
  {
   "cell_type": "code",
   "execution_count": 30,
   "metadata": {},
   "outputs": [
    {
     "data": {
      "text/plain": [
       "22637"
      ]
     },
     "execution_count": 30,
     "metadata": {},
     "output_type": "execute_result"
    }
   ],
   "source": [
    "df['검사판정'].isnull().sum()"
   ]
  },
  {
   "cell_type": "code",
   "execution_count": 31,
   "metadata": {},
   "outputs": [],
   "source": [
    "df['검사판정'] = df['검사판정'].astype('str')"
   ]
  },
  {
   "cell_type": "code",
   "execution_count": 32,
   "metadata": {},
   "outputs": [
    {
     "data": {
      "text/plain": [
       "0"
      ]
     },
     "execution_count": 32,
     "metadata": {},
     "output_type": "execute_result"
    }
   ],
   "source": [
    "df['검사판정'].isnull().sum()"
   ]
  },
  {
   "attachments": {},
   "cell_type": "markdown",
   "metadata": {},
   "source": [
    "#### [출력] 배인번호별 csv"
   ]
  },
  {
   "cell_type": "code",
   "execution_count": 54,
   "metadata": {},
   "outputs": [
    {
     "name": "stderr",
     "output_type": "stream",
     "text": [
      "100%|██████████| 207/207 [01:06<00:00,  3.11it/s]\n"
     ]
    }
   ],
   "source": [
    "# # about 1m 15s\n",
    "# # csv\n",
    "# for one in tqdm(total['배출가스인증번호'].unique()):\n",
    "#     total[total['배출가스인증번호'] == one].reset_index(drop=True).to_csv(f'D:/data/big2/BD1_4등급_데이터_점검1/과제1/{one}.csv', index=False, encoding='cp949')"
   ]
  },
  {
   "attachments": {},
   "cell_type": "markdown",
   "metadata": {},
   "source": [
    "#### [출력] 배인번호별 excel"
   ]
  },
  {
   "cell_type": "code",
   "execution_count": 24,
   "metadata": {},
   "outputs": [
    {
     "name": "stderr",
     "output_type": "stream",
     "text": [
      "100%|██████████| 207/207 [26:49<00:00,  7.78s/it] \n"
     ]
    }
   ],
   "source": [
    "# # about 27m 48s\n",
    "# # excel\n",
    "# for one in tqdm(total['배출가스인증번호'].unique()):\n",
    "#     total[total['배출가스인증번호'] == one].reset_index(drop=True).to_excel(f'D:/data/big2/BD1_4등급_데이터_점검1/과제1/{one}.xlsx', index=False)"
   ]
  },
  {
   "cell_type": "code",
   "execution_count": 33,
   "metadata": {},
   "outputs": [
    {
     "data": {
      "text/plain": [
       "제작사명         0.0\n",
       "검사판정         0.0\n",
       "무부하매연판정1     0.0\n",
       "무부하매연측정치1    0.0\n",
       "dtype: float64"
      ]
     },
     "execution_count": 33,
     "metadata": {},
     "output_type": "execute_result"
    }
   ],
   "source": [
    "df.loc[df['제작사명'] == 'SOFA차량', ['제작사명' ,'검사판정', '무부하매연판정1', '무부하매연측정치1']].isnull().sum()"
   ]
  },
  {
   "cell_type": "code",
   "execution_count": 34,
   "metadata": {},
   "outputs": [
    {
     "data": {
      "text/plain": [
       "(0, 4)"
      ]
     },
     "execution_count": 34,
     "metadata": {},
     "output_type": "execute_result"
    }
   ],
   "source": [
    "df.loc[df['제작사명'] == 'SOFA차량', ['제작사명' ,'검사판정', '무부하매연판정1', '무부하매연측정치1']].shape"
   ]
  },
  {
   "attachments": {},
   "cell_type": "markdown",
   "metadata": {},
   "source": [
    "# 배출가스 인증번호별 분석"
   ]
  },
  {
   "attachments": {},
   "cell_type": "markdown",
   "metadata": {},
   "source": [
    "### 전처리\n",
    "- 제거\n",
    "    - 차대번호 17자리 아닌 샘플\n",
    "    - 차대번호 10자리와 차량연식이 다른 샘플"
   ]
  },
  {
   "attachments": {},
   "cell_type": "markdown",
   "metadata": {},
   "source": [
    "#### [출력] 차대번호17자리 아닌 샘플"
   ]
  },
  {
   "cell_type": "code",
   "execution_count": 37,
   "metadata": {},
   "outputs": [
    {
     "data": {
      "text/plain": [
       "((1153803, 68), (10, 68))"
      ]
     },
     "execution_count": 37,
     "metadata": {},
     "output_type": "execute_result"
    }
   ],
   "source": [
    "df_vin17y = df[(df['차대번호'].str.len() == 17)].reset_index(drop=True)\n",
    "df_vin17n = df[(df['차대번호'].str.len() != 17)].reset_index(drop=True)\n",
    "df_vin17y.shape, df_vin17n.shape"
   ]
  },
  {
   "cell_type": "code",
   "execution_count": 20,
   "metadata": {},
   "outputs": [],
   "source": [
    "# df_vin17n.to_excel(os.path.join(gas_nm_fold, f'샘플_차대번호17자리아닌_{gas_nm}.xlsx'), index=False)"
   ]
  },
  {
   "attachments": {},
   "cell_type": "markdown",
   "metadata": {},
   "source": [
    "#### [출력] 차대번호10자리 연도와 차량연식 다른 샘플"
   ]
  },
  {
   "cell_type": "code",
   "execution_count": 42,
   "metadata": {},
   "outputs": [
    {
     "data": {
      "text/plain": [
       "((1153744, 68), (59, 68))"
      ]
     },
     "execution_count": 42,
     "metadata": {},
     "output_type": "execute_result"
    }
   ],
   "source": [
    "df_vin17y_yeary = df_vin17y[df_vin17y['vin_year'] == df_vin17y['연식']].reset_index(drop=True)\n",
    "df_vin17y_yearn = df_vin17y[df_vin17y['vin_year'] != df_vin17y['연식']].reset_index(drop=True)\n",
    "df_vin17y_yeary.shape, df_vin17y_yearn.shape"
   ]
  },
  {
   "cell_type": "code",
   "execution_count": 91,
   "metadata": {},
   "outputs": [],
   "source": [
    "# df_vin17y_yearn.to_excel(os.path.join(gas_nm_fold, f'샘플_차대번호17자리_차량연식다른_{gas_nm}.xlsx'), index=False)"
   ]
  },
  {
   "attachments": {},
   "cell_type": "markdown",
   "metadata": {},
   "source": [
    "#### [출력] 배인번호 해당 제작사가 아닌 샘플\n",
    "- 자가인증면제차량과 SOFA차량 포함(검사 받지 않는 차량)\n",
    "    - SOFA차량은 따로 대수 통계"
   ]
  },
  {
   "cell_type": "code",
   "execution_count": 43,
   "metadata": {},
   "outputs": [
    {
     "data": {
      "text/plain": [
       "array(['아우디폭스바겐코리아(주)', '타타대우상용차(주)', '(주)볼보자동차코리아', '자기인증면제차량',\n",
       "       '비엠더블유코리아(주)', '한불모터스(주)', '현대자동차(주)', '기아자동차(주)', '스카니아코리아그룹(주)',\n",
       "       '쌍용자동차(주)', '볼보트럭코리아(주)', '자일대우상용차 주식회사', '한국지엠주식회사',\n",
       "       '지엠아시아퍼시픽지역본부 주식회사', '메르세데스벤츠코리아(주)', '다임러트럭코리아(주)', '만트럭버스코리아(주)',\n",
       "       '르노삼성자동차(주)', '(주)재규어랜드로버코리아', '(주)광림', '(주)세인이엔지', '(주)드림티엔에스',\n",
       "       '(주) 메인모터스', '(주)수산씨에스엠', '수성특장(주)', '한신특장', '(주)지엠케이',\n",
       "       '주식회사 평강비아이엠(B.I.M)', '(주)뉴테크특장', '(주)호룡', '(주)태경이엔지', '(주)우리특장',\n",
       "       '한빛테크원(주)', '일성산업', '(주) 고호산업', '진우기계', nan, '(주)밴텍캠핑카', '주식회사 천하',\n",
       "       '(주)동해기계항공', '동진특장', '(주)다산중공업', '(주)사자후', '(주) 두성특장차', '탱크코리아(주)',\n",
       "       '(주) 두성하-드텍', '이텍산업 주식회사', '(주)화인특장', '정우정공 (주)',\n",
       "       '주식회사 카셈(KASEM Co.,Ltd)', '(주)한국메리트특장', '(주)포멕특장', '(주)한국쓰리축',\n",
       "       '한국특장기술(주)', '(주)함코', '건민특장 주식회사', '(주) 골드밴', '(주)한국토미',\n",
       "       '한국쓰리축공업(주)', '삼우중공업(주)', '(유)대원오토', '대흥특장정공 (주)', '(주)새한에어서스펜션',\n",
       "       '(주)우양', '(주)한국차체', '(주)나노메딕스', '카고텍코리아(주)', '(주)화이어텍', '디앨 주식회사',\n",
       "       '신정개발특장차 주식회사', '대경특장(주)', '(주)서보테크', '흥국정공 (주)', '한국텍(주)',\n",
       "       '주식회사 유아이테크', '우림특장산업', '(주)화성특장', '(주)한성티앤아이', '(주)한국특장기술',\n",
       "       '신영특장엠엔씨(주)', '(주)에이엔디오토모빌', '(주)신광테크놀러지', '(주)디투에스', '(주)에코카',\n",
       "       '반도특장(주)', '(주)세정모터스', '녹산대진특장차', '라헬(주)', '한특사료차', '디와이(주) 익산공장',\n",
       "       '(주) 삼오특장자동차', '동일석유(주)', '(주)성원테크', '베스텍특장', '태극자동차공업사',\n",
       "       '원천특장공업주식회사', '(주)위더스지', '(주) 에이엠특장', '부커셰링코리아 (주)',\n",
       "       '나인특장자동차정비(주)', '(주)알텍', '(주)부성특장', '창림모아츠(주)', '(주)대양특장',\n",
       "       '동양자동차공업(주)', '한국특장 (주)', '씨제이대한통운(주)', '한국후3축', '주식회사 한서정공',\n",
       "       '정부쓰리축', '(주) 강남기공', '고려에스티엠(주)', '(주)노바스코리아', '(주) 오텍', '선진정공(주)',\n",
       "       '(유)삼능기계', '(주)우성특장', '(주)비오에프인베스트먼트', '로버코리아(주)', '에프씨에이코리아(주)',\n",
       "       '포드세일즈서비스코리아(유)', '한국상용차(주)', '더유니코오토(주)', '(주)무빙애드', '동우인더스(주)',\n",
       "       '(주) 대진에스티씨', '한아에스에스(주)', '(주)크린텍', '라인호(주)', '한국오토모빌얼라이언스(주)',\n",
       "       '(주)중평', '대덕', 'SK에너지(주)울산COMPLEX', '디에스아이코리아피티와이엘티디',\n",
       "       '씨엔에스코퍼레이션(주)', '영원과학(주)', '네오플란오토모빌코리아(주)', '(주)케이지비고려골든박스',\n",
       "       '한국도로공사', '(주)에버다임', '대동안전(주)', '(주)한일', '(주)동진특수', '한국공항공사',\n",
       "       '지에스칼텍스(주)', '에스티에이컴퍼니(주)', '(주)방원테크', '주식회사 우레아텍', '한국아이비금융(주)',\n",
       "       '로쏘엠', '해광산업사', '대지정공(주)', '(주)세기통운', '강원도청', '한성자동차(주)',\n",
       "       '서울특별시소방재난본부', '충청남도청', '전라남도소방본부', '비스너코리아 주식회사', '한국상용트럭(주)',\n",
       "       '성진지오텍(주)', '서울시보건환경연구원', '신아특장', '(주)프로덕션툴즈', '(주)동방',\n",
       "       '대한예수교장로회평강제일교회', '길우상사(주)', '서울시티투어버스(주)', '(주)맥스리무진', '(주)애드터치',\n",
       "       '(주)삼부', '(주)팔도', '영일특장(주)', '(주)동양특장', '(주)수산중공업', '(주) 진화이앤씨',\n",
       "       '고려특장(주)', '주식회사 씨엔에스티', '에스알(주)', '동아탑정비공업사', '광림특장차 주식회사',\n",
       "       '코리아특장', '형제특장 주식회사', '유비통상(주)', '계백자동차(주)', '남영코리아화이어트럭(주)',\n",
       "       '대한특장', '카써스(주)', '(주) 맥써버모터스', '세화자동차', '(주)마노', '카올넷', '(주)엘위포투',\n",
       "       '(주)성진테크', '해양산업', '씨엔라인', '원진(주)', '엠에스특장공업(주)', '신제일정공(주)',\n",
       "       '(주)삼성특장', '신성엔지니어링', '(주)진우에스엠씨', '(주)뉴텍티앤엠', '제일F.R.P산업',\n",
       "       '(주)가이젠캠핑카', '(주)대진정공', '도원자동차공업 (주)', '(주)한성특장', '(주)미동이엔씨',\n",
       "       '대구시소방본부', '(주)승신', '(주)에이엠티코리아', '드림특장(주)', '제이에스이엔지', '(주)용진특장',\n",
       "       '(주)엠뱅크', '동아특장공업사'], dtype=object)"
      ]
     },
     "execution_count": 43,
     "metadata": {},
     "output_type": "execute_result"
    }
   ],
   "source": [
    "df_vin17y_yeary['제작사명'].unique()"
   ]
  },
  {
   "cell_type": "code",
   "execution_count": 44,
   "metadata": {},
   "outputs": [
    {
     "data": {
      "text/plain": [
       "'아우디폭스바겐코리아(주)'"
      ]
     },
     "execution_count": 44,
     "metadata": {},
     "output_type": "execute_result"
    }
   ],
   "source": [
    "productor_name = df_vin17y_yeary['제작사명'].unique()[0]\n",
    "productor_name"
   ]
  },
  {
   "cell_type": "code",
   "execution_count": 45,
   "metadata": {},
   "outputs": [
    {
     "data": {
      "text/plain": [
       "((6879, 68), (1146865, 68))"
      ]
     },
     "execution_count": 45,
     "metadata": {},
     "output_type": "execute_result"
    }
   ],
   "source": [
    "df_vin17y_yeary_producty = df_vin17y_yeary[(df_vin17y_yeary['제작사명'] == productor_name) | (df_vin17y_yeary['제작사명'] == '자가인증면제차량') | (df_vin17y_yeary['제작사명'] == 'SOFA차량')].reset_index(drop=True)\n",
    "df_vin17y_yeary_productn = df_vin17y_yeary[(df_vin17y_yeary['제작사명'] != productor_name) & (df_vin17y_yeary['제작사명'] != '자가인증면제차량') & (df_vin17y_yeary['제작사명'] != 'SOFA차량')].reset_index(drop=True)\n",
    "df_vin17y_yeary_producty.shape, df_vin17y_yeary_productn.shape"
   ]
  },
  {
   "cell_type": "code",
   "execution_count": 95,
   "metadata": {},
   "outputs": [],
   "source": [
    "# df_vin17y_yeary_productn.to_excel(os.path.join(gas_nm_fold, f'샘플_차대번호17자리_차량연식다른_해당제작사아닌_{gas_nm}.xlsx'), index=False)"
   ]
  },
  {
   "attachments": {},
   "cell_type": "markdown",
   "metadata": {},
   "source": [
    "### 분석\n",
    "- 제원관리번호별, 자동차형식별, 엔진형식별, 검사판정별 무부하매연측정치1 통계"
   ]
  },
  {
   "cell_type": "code",
   "execution_count": 46,
   "metadata": {},
   "outputs": [
    {
     "data": {
      "text/plain": [
       "dtype('float64')"
      ]
     },
     "execution_count": 46,
     "metadata": {},
     "output_type": "execute_result"
    }
   ],
   "source": [
    "df_vin17y_yeary_producty['무부하매연측정치1'].dtype"
   ]
  },
  {
   "cell_type": "code",
   "execution_count": 47,
   "metadata": {},
   "outputs": [
    {
     "data": {
      "text/plain": [
       "308"
      ]
     },
     "execution_count": 47,
     "metadata": {},
     "output_type": "execute_result"
    }
   ],
   "source": [
    "df_vin17y_yeary_producty['무부하매연측정치1'].isnull().sum()"
   ]
  },
  {
   "cell_type": "code",
   "execution_count": 49,
   "metadata": {},
   "outputs": [],
   "source": [
    "def flat_cols(df):\n",
    "    df.columns = ['/'.join(x) for x in df.columns.to_flat_index()]\n",
    "    return df"
   ]
  },
  {
   "cell_type": "code",
   "execution_count": 54,
   "metadata": {},
   "outputs": [
    {
     "data": {
      "text/html": [
       "<div>\n",
       "<style scoped>\n",
       "    .dataframe tbody tr th:only-of-type {\n",
       "        vertical-align: middle;\n",
       "    }\n",
       "\n",
       "    .dataframe tbody tr th {\n",
       "        vertical-align: top;\n",
       "    }\n",
       "\n",
       "    .dataframe thead th {\n",
       "        text-align: right;\n",
       "    }\n",
       "</style>\n",
       "<table border=\"1\" class=\"dataframe\">\n",
       "  <thead>\n",
       "    <tr style=\"text-align: right;\">\n",
       "      <th></th>\n",
       "      <th>제작사명</th>\n",
       "      <th>배출가스인증번호</th>\n",
       "      <th>제원관리번호</th>\n",
       "      <th>자동차형식</th>\n",
       "      <th>엔진형식</th>\n",
       "      <th>검사판정</th>\n",
       "      <th>대수</th>\n",
       "      <th>mean</th>\n",
       "      <th>min</th>\n",
       "      <th>max</th>\n",
       "    </tr>\n",
       "  </thead>\n",
       "  <tbody>\n",
       "    <tr>\n",
       "      <th>0</th>\n",
       "      <td>아우디폭스바겐코리아(주)</td>\n",
       "      <td>4MY-AD-20</td>\n",
       "      <td>2420000000000000.0</td>\n",
       "      <td>4F</td>\n",
       "      <td>BMK</td>\n",
       "      <td>N</td>\n",
       "      <td>2</td>\n",
       "      <td>36.00</td>\n",
       "      <td>21.0</td>\n",
       "      <td>51.0</td>\n",
       "    </tr>\n",
       "    <tr>\n",
       "      <th>1</th>\n",
       "      <td>아우디폭스바겐코리아(주)</td>\n",
       "      <td>4MY-AD-20</td>\n",
       "      <td>2420000000000000.0</td>\n",
       "      <td>4F</td>\n",
       "      <td>BMK</td>\n",
       "      <td>Y</td>\n",
       "      <td>25</td>\n",
       "      <td>12.96</td>\n",
       "      <td>0.0</td>\n",
       "      <td>31.0</td>\n",
       "    </tr>\n",
       "    <tr>\n",
       "      <th>2</th>\n",
       "      <td>아우디폭스바겐코리아(주)</td>\n",
       "      <td>4MY-AD-20</td>\n",
       "      <td>2420000000000000.0</td>\n",
       "      <td>4F</td>\n",
       "      <td>nan</td>\n",
       "      <td>nan</td>\n",
       "      <td>2</td>\n",
       "      <td>NaN</td>\n",
       "      <td>NaN</td>\n",
       "      <td>NaN</td>\n",
       "    </tr>\n",
       "    <tr>\n",
       "      <th>3</th>\n",
       "      <td>아우디폭스바겐코리아(주)</td>\n",
       "      <td>5MY-AD-13-06</td>\n",
       "      <td>2420000000000000.0</td>\n",
       "      <td>3D</td>\n",
       "      <td>BMK</td>\n",
       "      <td>N</td>\n",
       "      <td>2</td>\n",
       "      <td>25.50</td>\n",
       "      <td>0.0</td>\n",
       "      <td>51.0</td>\n",
       "    </tr>\n",
       "    <tr>\n",
       "      <th>4</th>\n",
       "      <td>아우디폭스바겐코리아(주)</td>\n",
       "      <td>5MY-AD-13-06</td>\n",
       "      <td>2420000000000000.0</td>\n",
       "      <td>3D</td>\n",
       "      <td>BMK</td>\n",
       "      <td>Y</td>\n",
       "      <td>309</td>\n",
       "      <td>1.21</td>\n",
       "      <td>0.0</td>\n",
       "      <td>27.0</td>\n",
       "    </tr>\n",
       "  </tbody>\n",
       "</table>\n",
       "</div>"
      ],
      "text/plain": [
       "            제작사명      배출가스인증번호              제원관리번호 자동차형식 엔진형식 검사판정   대수  \\\n",
       "0  아우디폭스바겐코리아(주)     4MY-AD-20  2420000000000000.0    4F  BMK    N    2   \n",
       "1  아우디폭스바겐코리아(주)     4MY-AD-20  2420000000000000.0    4F  BMK    Y   25   \n",
       "2  아우디폭스바겐코리아(주)     4MY-AD-20  2420000000000000.0    4F  nan  nan    2   \n",
       "3  아우디폭스바겐코리아(주)  5MY-AD-13-06  2420000000000000.0    3D  BMK    N    2   \n",
       "4  아우디폭스바겐코리아(주)  5MY-AD-13-06  2420000000000000.0    3D  BMK    Y  309   \n",
       "\n",
       "    mean   min   max  \n",
       "0  36.00  21.0  51.0  \n",
       "1  12.96   0.0  31.0  \n",
       "2    NaN   NaN   NaN  \n",
       "3  25.50   0.0  51.0  \n",
       "4   1.21   0.0  27.0  "
      ]
     },
     "execution_count": 54,
     "metadata": {},
     "output_type": "execute_result"
    }
   ],
   "source": [
    "g = df_vin17y_yeary_producty.groupby(['제작사명', '배인번호_수정', '제원관리번호', '자동차형식', '엔진형식_y', '검사판정'], dropna=False, ).agg({'차대번호':'count', '무부하매연측정치1':['mean', 'min', 'max']}).pipe(flat_cols).round(2).reset_index()\n",
    "g = g.rename(columns={'배인번호_수정':'배출가스인증번호', '엔진형식_y':'엔진형식', '차대번호/count':'대수', '무부하매연측정치1/mean':'mean', '무부하매연측정치1/min':'min', '무부하매연측정치1/max':'max'})\n",
    "g.head()"
   ]
  },
  {
   "attachments": {},
   "cell_type": "markdown",
   "metadata": {},
   "source": [
    "## [출력] 배인번호별 분석3"
   ]
  },
  {
   "cell_type": "code",
   "execution_count": 24,
   "metadata": {},
   "outputs": [],
   "source": [
    "def flat_cols(df):\n",
    "    df.columns = ['/'.join(x) for x in df.columns.to_flat_index()]\n",
    "    return df"
   ]
  },
  {
   "cell_type": "code",
   "execution_count": 25,
   "metadata": {},
   "outputs": [
    {
     "data": {
      "text/plain": [
       "133"
      ]
     },
     "execution_count": 25,
     "metadata": {},
     "output_type": "execute_result"
    }
   ],
   "source": [
    "# gas_nm_list = check_df['배출가스인증번호'].unique()\n",
    "# len(gas_nm_list)"
   ]
  },
  {
   "cell_type": "code",
   "execution_count": null,
   "metadata": {},
   "outputs": [],
   "source": [
    "gas_nm_list = df['배인번호_수정'].unique()\n",
    "len(gas_nm_list)"
   ]
  },
  {
   "cell_type": "code",
   "execution_count": 26,
   "metadata": {},
   "outputs": [],
   "source": [
    "# folder 설정\n",
    "gas_nm_fold = 'D:/data/big2/BD1_4등급_데이터_점검1/result'\n",
    "analysis_fold = 'C:/Users/kbjung/Documents/GitHub/wabotech/car_big_data_2/analysis2/4등급_데이터_점검/과제1'"
   ]
  },
  {
   "cell_type": "code",
   "execution_count": 27,
   "metadata": {},
   "outputs": [
    {
     "name": "stderr",
     "output_type": "stream",
     "text": [
      " 59%|█████▊    | 78/133 [01:10<01:45,  1.92s/it]"
     ]
    },
    {
     "name": "stdout",
     "output_type": "stream",
     "text": [
      "9MY-KM-14-22 파일 없음.\n"
     ]
    },
    {
     "name": "stderr",
     "output_type": "stream",
     "text": [
      "100%|██████████| 133/133 [01:44<00:00,  1.27it/s]\n"
     ]
    }
   ],
   "source": [
    "# 1m 40s\n",
    "\n",
    "productor_dict = {\n",
    "    'HD':'현대자동차(주)', 'KM':'기아자동차(주)', 'JL':'(주)재규어랜드로버코리아', 'AD':'아우디폭스바겐코리아(주)', 'PP':'아우디폭스바겐코리아(주)', 'PA':'(주)볼보자동차코리아', 'BK':'비엠더블유코리아(주)',\n",
    "    'DC':'타타대우상용차(주)', 'DB':'자일대우상용차 주식회사', 'DW':'한국지엠주식회사', 'DK':'다임러트럭코리아(주)', 'HB':'한불모터스(주)', 'SK':'스카니아코리아그룹(주)', 'SY':'쌍용자동차(주)', \n",
    "    'VTK':'볼보트럭코리아(주)', 'GK':'지엠아시아퍼시픽지역본부 주식회사', 'MK':'메르세데스벤츠코리아(주)', 'MT':'만트럭버스코리아(주)', 'SM':'르노삼성자동차(주)',  }\n",
    "\n",
    "total_gas_df_vin17_n = pd.DataFrame()\n",
    "total_gas_df_vin17_y_vin10_year_n = pd.DataFrame()\n",
    "total_gas_df_vin17_y_vin10_year_y_product_n = pd.DataFrame()\n",
    "total_g_df = pd.DataFrame()\n",
    "for one in tqdm(gas_nm_list):\n",
    "    try:\n",
    "        # 파일 로드\n",
    "        file_name = f'{one}.csv'\n",
    "        gas_df = pd.read_csv(os.path.join(gas_nm_fold, file_name), low_memory=False, encoding='cp949')\n",
    "\n",
    "        # [출력] 차대번호 17자리 아닌 샘플\n",
    "        gas_df_vin17_y = gas_df[(gas_df['차대번호'].str.len() == 17)].reset_index(drop=True)\n",
    "        gas_df_vin17_n = gas_df[(gas_df['차대번호'].str.len() != 17)].reset_index(drop=True)\n",
    "        gas_df_vin17_n.to_excel(os.path.join(gas_nm_fold, f'샘플_차대번호17자리아닌_{one}.xlsx'), index=False)\n",
    "        # 종합 - 17자리 아닌 샘플\n",
    "        total_gas_df_vin17_n = pd.concat([total_gas_df_vin17_n, gas_df_vin17_n], ignore_index=True)\n",
    "\n",
    "        # [출력] 차대번호 연식과 차량연식 다른 샘플\n",
    "        gas_df_vin17_y_vin10_year_y = gas_df_vin17_y[gas_df_vin17_y['vin10_year'] == gas_df_vin17_y['차량연식_y']].reset_index(drop=True)\n",
    "        gas_df_vin17_y_vin10_year_n = gas_df_vin17_y[gas_df_vin17_y['vin10_year'] != gas_df_vin17_y['차량연식_y']].reset_index(drop=True)\n",
    "        gas_df_vin17_y_vin10_year_n.to_excel(os.path.join(gas_nm_fold, f'샘플_차대번호17자리_차량연식다른_{one}.xlsx'), index=False)\n",
    "        # 종합 - 연식다른 샘플\n",
    "        total_gas_df_vin17_y_vin10_year_n = pd.concat([total_gas_df_vin17_y_vin10_year_n, gas_df_vin17_y_vin10_year_n], ignore_index=True)\n",
    "\n",
    "        # [출력] 배인번호 해당 제작사가 아닌 샘플\n",
    "        productors = gas_df_vin17_y_vin10_year_y['제작사명'].unique()\n",
    "        # 제작사명 조건에 따라 진행\n",
    "        if len(productors) == 1: # 제작사명 1개일 때\n",
    "            productor_name = gas_df_vin17_y_vin10_year_y['제작사명'].unique()[0]\n",
    "            num = 0\n",
    "            productor_name = gas_df_vin17_y_vin10_year_y['제작사명'].unique()[num]\n",
    "            gas_df_vin17_y_vin10_year_y_product_y = gas_df_vin17_y_vin10_year_y[(gas_df_vin17_y_vin10_year_y['제작사명'] == productor_name) | (gas_df_vin17_y_vin10_year_y['제작사명'] == '자기인증면제차량')].reset_index(drop=True)\n",
    "            gas_df_vin17_y_vin10_year_y_product_n = gas_df_vin17_y_vin10_year_y[(gas_df_vin17_y_vin10_year_y['제작사명'] != productor_name) & (gas_df_vin17_y_vin10_year_y['제작사명'] != '자기인증면제차량')].reset_index(drop=True)\n",
    "            gas_df_vin17_y_vin10_year_y_product_n.to_excel(os.path.join(gas_nm_fold, f'샘플_차대번호17자리_차량연식다른_해당제작사아닌_{one}.xlsx'), index=False)\n",
    "            # 종합 - 다른 제작사 샘플\n",
    "            total_gas_df_vin17_y_vin10_year_y_product_n = pd.concat([total_gas_df_vin17_y_vin10_year_y_product_n, gas_df_vin17_y_vin10_year_y_product_n], ignore_index=True)\n",
    "        else: # 제작사명이 여러개 일 때\n",
    "            temp = one.split('-')\n",
    "            if len(temp) == 1:\n",
    "                productor_name = one\n",
    "            else:\n",
    "                productor_name = productor_dict[temp[1]]\n",
    "            gas_df_vin17_y_vin10_year_y_product_y = gas_df_vin17_y_vin10_year_y[(gas_df_vin17_y_vin10_year_y['제작사명'] == productor_name) | (gas_df_vin17_y_vin10_year_y['제작사명'] == '자가인증면제차량') | (gas_df_vin17_y_vin10_year_y['제작사명'] == 'SOFA차량')].reset_index(drop=True)\n",
    "            gas_df_vin17_y_vin10_year_y_product_n = gas_df_vin17_y_vin10_year_y[(gas_df_vin17_y_vin10_year_y['제작사명'] != productor_name) & (gas_df_vin17_y_vin10_year_y['제작사명'] != '자가인증면제차량') & (gas_df_vin17_y_vin10_year_y['제작사명'] != 'SOFA차량')].reset_index(drop=True)\n",
    "            gas_df_vin17_y_vin10_year_y_product_n.to_excel(os.path.join(gas_nm_fold, f'샘플_차대번호17자리_차량연식다른_해당제작사아닌_{one}.xlsx'), index=False)\n",
    "            # 종합 - 다른 제작사 샘플\n",
    "            total_gas_df_vin17_y_vin10_year_y_product_n = pd.concat([total_gas_df_vin17_y_vin10_year_y_product_n, gas_df_vin17_y_vin10_year_y_product_n], ignore_index=True)\n",
    "\n",
    "        # 제번별, 차형식별, 엔진형식별, 검사판정별 무부하매연측정치1 통계\n",
    "        g = gas_df_vin17_y_vin10_year_y_product_y.groupby(['배출가스인증번호', '제작사명', '제원관리번호', '자동차형식', '엔진형식_y', '검사판정'], dropna=False).agg({'차대번호':'count', '무부하매연측정치1':['mean', 'min', 'max']}).pipe(flat_cols).round(2).reset_index()\n",
    "        g = g.rename(columns={'엔진형식_y':'엔진형식', '차대번호/count':'대수', '무부하매연측정치1/mean':'mean', '무부하매연측정치1/min':'min', '무부하매연측정치1/max':'max'})\n",
    "        # 하나의 배인번호에서 제번별 엔진형식별 비율 계산\n",
    "        concat_two = pd.DataFrame()\n",
    "        for two in g['제원관리번호'].unique():\n",
    "            for three in g['엔진형식'].unique():\n",
    "                temp = g[(g['제원관리번호'] == two) & (g['엔진형식'] == three)].copy()\n",
    "                temp['엔진형식/sum'] = temp['대수'].sum()\n",
    "                temp['검사판정비율'] = temp['대수'] / temp['엔진형식/sum']\n",
    "                concat_two = pd.concat([concat_two, temp], ignore_index=True)\n",
    "        # 종합 - 통계\n",
    "        total_g_df = pd.concat([total_g_df, concat_two], ignore_index=True)\n",
    "\n",
    "    except:\n",
    "        print(f'{one} 파일 없음.')\n",
    "        pass\n",
    "# 1m 40s"
   ]
  },
  {
   "cell_type": "code",
   "execution_count": 30,
   "metadata": {},
   "outputs": [
    {
     "data": {
      "text/html": [
       "<div>\n",
       "<style scoped>\n",
       "    .dataframe tbody tr th:only-of-type {\n",
       "        vertical-align: middle;\n",
       "    }\n",
       "\n",
       "    .dataframe tbody tr th {\n",
       "        vertical-align: top;\n",
       "    }\n",
       "\n",
       "    .dataframe thead th {\n",
       "        text-align: right;\n",
       "    }\n",
       "</style>\n",
       "<table border=\"1\" class=\"dataframe\">\n",
       "  <thead>\n",
       "    <tr style=\"text-align: right;\">\n",
       "      <th></th>\n",
       "      <th>배출가스인증번호</th>\n",
       "      <th>제작사명</th>\n",
       "      <th>제원관리번호</th>\n",
       "      <th>자동차형식</th>\n",
       "      <th>엔진형식</th>\n",
       "      <th>검사판정</th>\n",
       "      <th>대수</th>\n",
       "      <th>mean</th>\n",
       "      <th>min</th>\n",
       "      <th>max</th>\n",
       "      <th>엔진형식/sum</th>\n",
       "      <th>검사판정비율</th>\n",
       "    </tr>\n",
       "  </thead>\n",
       "  <tbody>\n",
       "    <tr>\n",
       "      <th>0</th>\n",
       "      <td>5MY-BK-14-07</td>\n",
       "      <td>비엠더블유코리아(주)</td>\n",
       "      <td>120001600041305</td>\n",
       "      <td>X3 3.0d</td>\n",
       "      <td>306D3</td>\n",
       "      <td>N</td>\n",
       "      <td>1</td>\n",
       "      <td>1.00</td>\n",
       "      <td>1.0</td>\n",
       "      <td>1.0</td>\n",
       "      <td>124</td>\n",
       "      <td>0.008065</td>\n",
       "    </tr>\n",
       "    <tr>\n",
       "      <th>1</th>\n",
       "      <td>5MY-BK-14-07</td>\n",
       "      <td>비엠더블유코리아(주)</td>\n",
       "      <td>120001600041305</td>\n",
       "      <td>X3 3.0d</td>\n",
       "      <td>306D3</td>\n",
       "      <td>Y</td>\n",
       "      <td>123</td>\n",
       "      <td>1.98</td>\n",
       "      <td>0.0</td>\n",
       "      <td>34.0</td>\n",
       "      <td>124</td>\n",
       "      <td>0.991935</td>\n",
       "    </tr>\n",
       "    <tr>\n",
       "      <th>2</th>\n",
       "      <td>5MY-BK-14-07</td>\n",
       "      <td>비엠더블유코리아(주)</td>\n",
       "      <td>120001600051307</td>\n",
       "      <td>X3 3.0d</td>\n",
       "      <td>306D3</td>\n",
       "      <td>N</td>\n",
       "      <td>1</td>\n",
       "      <td>NaN</td>\n",
       "      <td>NaN</td>\n",
       "      <td>NaN</td>\n",
       "      <td>86</td>\n",
       "      <td>0.011628</td>\n",
       "    </tr>\n",
       "    <tr>\n",
       "      <th>3</th>\n",
       "      <td>5MY-BK-14-07</td>\n",
       "      <td>비엠더블유코리아(주)</td>\n",
       "      <td>120001600051307</td>\n",
       "      <td>X3 3.0d</td>\n",
       "      <td>306D3</td>\n",
       "      <td>Y</td>\n",
       "      <td>85</td>\n",
       "      <td>2.98</td>\n",
       "      <td>0.0</td>\n",
       "      <td>38.0</td>\n",
       "      <td>86</td>\n",
       "      <td>0.988372</td>\n",
       "    </tr>\n",
       "    <tr>\n",
       "      <th>4</th>\n",
       "      <td>6MY-BK-13-08</td>\n",
       "      <td>비엠더블유코리아(주)</td>\n",
       "      <td>120002200001307</td>\n",
       "      <td>X5 3.0d</td>\n",
       "      <td>306D3</td>\n",
       "      <td>Y</td>\n",
       "      <td>503</td>\n",
       "      <td>2.79</td>\n",
       "      <td>0.0</td>\n",
       "      <td>43.0</td>\n",
       "      <td>503</td>\n",
       "      <td>1.000000</td>\n",
       "    </tr>\n",
       "  </tbody>\n",
       "</table>\n",
       "</div>"
      ],
      "text/plain": [
       "       배출가스인증번호         제작사명           제원관리번호    자동차형식   엔진형식 검사판정   대수  mean  \\\n",
       "0  5MY-BK-14-07  비엠더블유코리아(주)  120001600041305  X3 3.0d  306D3    N    1  1.00   \n",
       "1  5MY-BK-14-07  비엠더블유코리아(주)  120001600041305  X3 3.0d  306D3    Y  123  1.98   \n",
       "2  5MY-BK-14-07  비엠더블유코리아(주)  120001600051307  X3 3.0d  306D3    N    1   NaN   \n",
       "3  5MY-BK-14-07  비엠더블유코리아(주)  120001600051307  X3 3.0d  306D3    Y   85  2.98   \n",
       "4  6MY-BK-13-08  비엠더블유코리아(주)  120002200001307  X5 3.0d  306D3    Y  503  2.79   \n",
       "\n",
       "   min   max  엔진형식/sum    검사판정비율  \n",
       "0  1.0   1.0       124  0.008065  \n",
       "1  0.0  34.0       124  0.991935  \n",
       "2  NaN   NaN        86  0.011628  \n",
       "3  0.0  38.0        86  0.988372  \n",
       "4  0.0  43.0       503  1.000000  "
      ]
     },
     "execution_count": 30,
     "metadata": {},
     "output_type": "execute_result"
    }
   ],
   "source": [
    "total_g_df.head()"
   ]
  },
  {
   "cell_type": "code",
   "execution_count": 28,
   "metadata": {},
   "outputs": [
    {
     "data": {
      "text/plain": [
       "((10, 92), (23549, 92), (4863, 92), (6575, 12))"
      ]
     },
     "execution_count": 28,
     "metadata": {},
     "output_type": "execute_result"
    }
   ],
   "source": [
    "total_gas_df_vin17_n.shape, total_gas_df_vin17_y_vin10_year_n.shape, total_gas_df_vin17_y_vin10_year_y_product_n.shape, total_g_df.shape"
   ]
  },
  {
   "cell_type": "code",
   "execution_count": 106,
   "metadata": {},
   "outputs": [],
   "source": [
    "# about 0s\n",
    "total_gas_df_vin17_n.to_excel(os.path.join(gas_nm_fold, f'통합_샘플_차대번호17자리아닌.xlsx'), index=False)"
   ]
  },
  {
   "cell_type": "code",
   "execution_count": 83,
   "metadata": {},
   "outputs": [],
   "source": [
    "# about 28s\n",
    "total_gas_df_vin17_y_vin10_year_n.to_excel(os.path.join(gas_nm_fold, f'통합_샘플_차대번호17자리_차량연식다른.xlsx'), index=False)"
   ]
  },
  {
   "cell_type": "code",
   "execution_count": 84,
   "metadata": {},
   "outputs": [],
   "source": [
    "# about 8s\n",
    "total_gas_df_vin17_y_vin10_year_y_product_n.to_excel(os.path.join(gas_nm_fold, f'통합_샘플_차대번호17자리_차량연식다른_해당제작사아닌.xlsx'), index=False)"
   ]
  },
  {
   "cell_type": "code",
   "execution_count": 37,
   "metadata": {},
   "outputs": [],
   "source": [
    "# about 2s\n",
    "total_g_df.to_excel(os.path.join(analysis_fold, f'통합3_통계_제번별_차형식별_엔진형식별_검사판정별_무부하매연측정치1_{today_date}.xlsx'), index=False)"
   ]
  },
  {
   "attachments": {},
   "cell_type": "markdown",
   "metadata": {},
   "source": [
    "# 없는 배인번호 확인\n",
    "- 없는 배인번호 확인 : 9MY-KM-14-22\n",
    "- 차명 : 쏘렌토\n",
    "- 3등급에 존재 : 4등급으로 변경됨."
   ]
  },
  {
   "cell_type": "code",
   "execution_count": null,
   "metadata": {},
   "outputs": [
    {
     "data": {
      "text/plain": [
       "(0, 92)"
      ]
     },
     "metadata": {},
     "output_type": "display_data"
    }
   ],
   "source": [
    "total[total['배출가스인증번호'] == '9MY-KM-14-22'].shape"
   ]
  },
  {
   "cell_type": "code",
   "execution_count": null,
   "metadata": {},
   "outputs": [
    {
     "data": {
      "text/plain": [
       "(0, 49)"
      ]
     },
     "metadata": {},
     "output_type": "display_data"
    }
   ],
   "source": [
    "df[df['배출가스인증번호'] == '9MY-KM-14-22'].shape"
   ]
  },
  {
   "cell_type": "code",
   "execution_count": null,
   "metadata": {},
   "outputs": [
    {
     "data": {
      "text/plain": [
       "(9621, 49)"
      ]
     },
     "metadata": {},
     "output_type": "display_data"
    }
   ],
   "source": [
    "df[df['차명'] == '쏘렌토'].shape"
   ]
  },
  {
   "cell_type": "code",
   "execution_count": null,
   "metadata": {},
   "outputs": [
    {
     "data": {
      "text/plain": [
       "array(['6MY-KM-24-81', '7MY-KM-14-52', nan], dtype=object)"
      ]
     },
     "metadata": {},
     "output_type": "display_data"
    }
   ],
   "source": [
    "df.loc[df['차명'] == '쏘렌토', '배출가스인증번호'].unique()"
   ]
  },
  {
   "cell_type": "code",
   "execution_count": null,
   "metadata": {},
   "outputs": [
    {
     "data": {
      "text/plain": [
       "(9621, 49)"
      ]
     },
     "metadata": {},
     "output_type": "display_data"
    }
   ],
   "source": [
    "df1[df1['차명'] == '쏘렌토'].shape"
   ]
  },
  {
   "cell_type": "code",
   "execution_count": null,
   "metadata": {},
   "outputs": [
    {
     "data": {
      "text/plain": [
       "(9621, 49)"
      ]
     },
     "metadata": {},
     "output_type": "display_data"
    }
   ],
   "source": [
    "df2[df2['차명'] == '쏘렌토'].shape"
   ]
  },
  {
   "attachments": {},
   "cell_type": "markdown",
   "metadata": {},
   "source": [
    "# code end"
   ]
  }
 ],
 "metadata": {
  "kernelspec": {
   "display_name": "base",
   "language": "python",
   "name": "python3"
  },
  "language_info": {
   "codemirror_mode": {
    "name": "ipython",
    "version": 3
   },
   "file_extension": ".py",
   "mimetype": "text/x-python",
   "name": "python",
   "nbconvert_exporter": "python",
   "pygments_lexer": "ipython3",
   "version": "3.9.13"
  },
  "orig_nbformat": 4,
  "vscode": {
   "interpreter": {
    "hash": "ad2bdc8ecc057115af97d19610ffacc2b4e99fae6737bb82f5d7fb13d2f2c186"
   }
  }
 },
 "nbformat": 4,
 "nbformat_minor": 2
}
