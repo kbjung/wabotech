{
 "cells": [
  {
   "attachments": {},
   "cell_type": "markdown",
   "metadata": {},
   "source": [
    "# Library"
   ]
  },
  {
   "cell_type": "code",
   "execution_count": 1,
   "metadata": {},
   "outputs": [],
   "source": [
    "import pandas as pd\n",
    "import numpy as np\n",
    "from tqdm import tqdm\n",
    "import os, re"
   ]
  },
  {
   "attachments": {},
   "cell_type": "markdown",
   "metadata": {},
   "source": [
    "# fold path"
   ]
  },
  {
   "cell_type": "code",
   "execution_count": 2,
   "metadata": {},
   "outputs": [],
   "source": [
    "ods_fold = 'D:/data/big2/ODS'\n",
    "col_fold = 'C:/Users/kbjung/Documents/GitHub/wabotech/car_big_data_2/analysis/ODSvsSTD'"
   ]
  },
  {
   "cell_type": "code",
   "execution_count": 51,
   "metadata": {},
   "outputs": [],
   "source": [
    "# 소수점 옵션\n",
    "pd.options.display.float_format = '{:.2f}'.format\n",
    "# pd.reset_option('display.float_format')"
   ]
  },
  {
   "attachments": {},
   "cell_type": "markdown",
   "metadata": {},
   "source": [
    "# 1\\. 등록정보(ODS_CEG_CAR_MIG)"
   ]
  },
  {
   "cell_type": "code",
   "execution_count": 3,
   "metadata": {},
   "outputs": [
    {
     "name": "stdout",
     "output_type": "stream",
     "text": [
      "<class 'pandas.core.frame.DataFrame'>\n",
      "Int64Index: 29534047 entries, 0 to 29534046\n",
      "Data columns (total 32 columns):\n",
      " #   Column             Dtype  \n",
      "---  ------             -----  \n",
      " 0   VHMNO              object \n",
      " 1   VHRNO              object \n",
      " 2   BSPL_LEDO_CD       int64  \n",
      " 3   OWNR_SE            object \n",
      " 4   VHCTY              object \n",
      " 5   PURPS              object \n",
      " 6   NOW_OWNR_NM        object \n",
      " 7   NOW_MBERNO         object \n",
      " 8   BSPL_ADRS          object \n",
      " 9   OWNR_ADRS          object \n",
      " 10  VIN                object \n",
      " 11  FST_REG_DE         int64  \n",
      " 12  VHCL_YRIDNW        int64  \n",
      " 13  VHCL_MNFCT_DE      object \n",
      " 14  EMIS_INSP_EFCT_DE  float64\n",
      " 15  SRCMNNO            object \n",
      " 16  EMIS_CRTCNO        object \n",
      " 17  EMIS_GRD           object \n",
      " 18  LEM_YN             object \n",
      " 19  LEM_KND            float64\n",
      " 20  LEM_STRCHG_YN      object \n",
      " 21  BSPL_ZIP           float64\n",
      " 22  VHRNO_NUM_INFO     int64  \n",
      " 23  VHCL_ERSR_YN       object \n",
      " 24  FST_OWNR_NM        object \n",
      " 25  FST_MBERNO         object \n",
      " 26  ACQS_DE            object \n",
      " 27  ACQS_AMT           float64\n",
      " 28  RMK                object \n",
      " 29  CRTN_DT            object \n",
      " 30  UPDT_DT            object \n",
      " 31  USER_ID            object \n",
      "dtypes: float64(4), int64(4), object(24)\n",
      "memory usage: 7.3+ GB\n"
     ]
    }
   ],
   "source": [
    "# about 9m 45s\n",
    "name = 'CEG_CAR_MIG'\n",
    "file_name = f'ODS_{name}.csv'\n",
    "df = pd.read_csv(os.path.join(ods_fold, file_name), low_memory=False, index_col=0)\n",
    "df.info()"
   ]
  },
  {
   "cell_type": "code",
   "execution_count": 4,
   "metadata": {},
   "outputs": [
    {
     "data": {
      "text/html": [
       "<div>\n",
       "<style scoped>\n",
       "    .dataframe tbody tr th:only-of-type {\n",
       "        vertical-align: middle;\n",
       "    }\n",
       "\n",
       "    .dataframe tbody tr th {\n",
       "        vertical-align: top;\n",
       "    }\n",
       "\n",
       "    .dataframe thead th {\n",
       "        text-align: right;\n",
       "    }\n",
       "</style>\n",
       "<table border=\"1\" class=\"dataframe\">\n",
       "  <thead>\n",
       "    <tr style=\"text-align: right;\">\n",
       "      <th></th>\n",
       "      <th>컬럼</th>\n",
       "      <th>내용</th>\n",
       "    </tr>\n",
       "  </thead>\n",
       "  <tbody>\n",
       "    <tr>\n",
       "      <th>0</th>\n",
       "      <td>UPDT_DT</td>\n",
       "      <td>수정일시</td>\n",
       "    </tr>\n",
       "    <tr>\n",
       "      <th>1</th>\n",
       "      <td>OWNR_SE</td>\n",
       "      <td>소유자구분</td>\n",
       "    </tr>\n",
       "    <tr>\n",
       "      <th>2</th>\n",
       "      <td>VHRNO</td>\n",
       "      <td>차량등록번호</td>\n",
       "    </tr>\n",
       "    <tr>\n",
       "      <th>3</th>\n",
       "      <td>BSPL_LEDO_CD</td>\n",
       "      <td>본거지법정동코드</td>\n",
       "    </tr>\n",
       "    <tr>\n",
       "      <th>4</th>\n",
       "      <td>CRTN_DT</td>\n",
       "      <td>생성일시</td>\n",
       "    </tr>\n",
       "  </tbody>\n",
       "</table>\n",
       "</div>"
      ],
      "text/plain": [
       "             컬럼        내용\n",
       "0       UPDT_DT      수정일시\n",
       "1       OWNR_SE     소유자구분\n",
       "2         VHRNO    차량등록번호\n",
       "3  BSPL_LEDO_CD  본거지법정동코드\n",
       "4       CRTN_DT      생성일시"
      ]
     },
     "execution_count": 4,
     "metadata": {},
     "output_type": "execute_result"
    }
   ],
   "source": [
    "file_name = f'[정제]{name}.xlsx'\n",
    "col_df = pd.read_excel(os.path.join(col_fold, file_name), sheet_name='ODS_col')\n",
    "col_df.head()"
   ]
  },
  {
   "cell_type": "code",
   "execution_count": 5,
   "metadata": {},
   "outputs": [
    {
     "data": {
      "text/plain": [
       "{'UPDT_DT': '수정일시',\n",
       " 'OWNR_SE': '소유자구분',\n",
       " 'VHRNO': '차량등록번호',\n",
       " 'BSPL_LEDO_CD': '본거지법정동코드',\n",
       " 'CRTN_DT': '생성일시',\n",
       " 'PURPS': '용도',\n",
       " 'EMIS_INSP_EFCT_DE': '배출가스검사유효일자',\n",
       " 'EMIS_CRTCNO': '배출가스인증번호',\n",
       " 'NOW_MBERNO': '현재회원번호',\n",
       " 'ACQS_DE': '취득일자',\n",
       " 'ACQS_AMT': '취득금액',\n",
       " 'FST_MBERNO': '최초회원번호',\n",
       " 'FST_REG_DE': '최초등록일자',\n",
       " 'VHCTY': '차종',\n",
       " 'VHRNO_NUM_INFO': '차량등록번호숫자정보',\n",
       " 'VHMNO': '차량관리번호',\n",
       " 'VHCL_MNFCT_DE': '차량제작일자',\n",
       " 'VHCL_YRIDNW': '차량연식',\n",
       " 'VHCL_ERSR_YN': '차량말소YN',\n",
       " 'VIN': '차대번호',\n",
       " 'SRCMNNO': '제원관리번호',\n",
       " 'EMIS_GRD': '배출가스등급',\n",
       " 'LEM_KND': '저공해조치종류',\n",
       " 'LEM_STRCHG_YN': '저공해조치구조변경YN',\n",
       " 'LEM_YN': '저공해조치YN(미사용)',\n",
       " 'NOW_OWNR_NM': '미정',\n",
       " 'BSPL_ADRS': '미정',\n",
       " 'OWNR_ADRS': '미정',\n",
       " 'BSPL_ZIP': '미정',\n",
       " 'FST_OWNR_NM': '미정',\n",
       " 'RMK': '미정',\n",
       " 'USER_ID': '미정'}"
      ]
     },
     "execution_count": 5,
     "metadata": {},
     "output_type": "execute_result"
    }
   ],
   "source": [
    "col_dict = {a:b for a,b in col_df[['컬럼', '내용']].values}\n",
    "col_dict"
   ]
  },
  {
   "cell_type": "code",
   "execution_count": 6,
   "metadata": {},
   "outputs": [
    {
     "data": {
      "text/plain": [
       "Index(['차량관리번호', '차량등록번호', '본거지법정동코드', '소유자구분', '차종', '용도', '미정', '현재회원번호',\n",
       "       '미정', '미정', '차대번호', '최초등록일자', '차량연식', '차량제작일자', '배출가스검사유효일자', '제원관리번호',\n",
       "       '배출가스인증번호', '배출가스등급', '저공해조치YN(미사용)', '저공해조치종류', '저공해조치구조변경YN', '미정',\n",
       "       '차량등록번호숫자정보', '차량말소YN', '미정', '최초회원번호', '취득일자', '취득금액', '미정', '생성일시',\n",
       "       '수정일시', '미정'],\n",
       "      dtype='object')"
      ]
     },
     "execution_count": 6,
     "metadata": {},
     "output_type": "execute_result"
    }
   ],
   "source": [
    "df.columns = [col_dict[x] for x in df.columns]\n",
    "df.columns"
   ]
  },
  {
   "attachments": {},
   "cell_type": "markdown",
   "metadata": {},
   "source": [
    "## 차량등록번호"
   ]
  },
  {
   "cell_type": "code",
   "execution_count": 7,
   "metadata": {},
   "outputs": [
    {
     "data": {
      "text/plain": [
       "(29534047, 32)"
      ]
     },
     "execution_count": 7,
     "metadata": {},
     "output_type": "execute_result"
    }
   ],
   "source": [
    "df.shape"
   ]
  },
  {
   "cell_type": "code",
   "execution_count": 8,
   "metadata": {},
   "outputs": [
    {
     "data": {
      "text/plain": [
       "0"
      ]
     },
     "execution_count": 8,
     "metadata": {},
     "output_type": "execute_result"
    }
   ],
   "source": [
    "# 결측치 확인\n",
    "df['차량등록번호'].isnull().sum()"
   ]
  },
  {
   "cell_type": "code",
   "execution_count": 9,
   "metadata": {},
   "outputs": [
    {
     "name": "stderr",
     "output_type": "stream",
     "text": [
      "100%|██████████| 29534047/29534047 [00:35<00:00, 831439.60it/s]\n"
     ]
    },
    {
     "data": {
      "text/plain": [
       "1"
      ]
     },
     "execution_count": 9,
     "metadata": {},
     "output_type": "execute_result"
    }
   ],
   "source": [
    "p1 = re.compile('[가-힣]{2}[0-9]{1,2}[가-힣]{1}[0-9]{4}')\n",
    "p2 = re.compile('[0-9]{2}[가-힣]{1}[0-9]{4}')\n",
    "wrong_vhrno_list = []\n",
    "for one in tqdm(df['차량등록번호']):\n",
    "    if not p1.search(str(one)) and not p2.search(str(one)):\n",
    "        wrong_vhrno_list.append(one)\n",
    "len(wrong_vhrno_list)"
   ]
  },
  {
   "cell_type": "code",
   "execution_count": 10,
   "metadata": {},
   "outputs": [
    {
     "data": {
      "text/plain": [
       "['서울703**575']"
      ]
     },
     "execution_count": 10,
     "metadata": {},
     "output_type": "execute_result"
    }
   ],
   "source": [
    "wrong_vhrno_list"
   ]
  },
  {
   "attachments": {},
   "cell_type": "markdown",
   "metadata": {},
   "source": [
    "## 본거지 법정동 코드"
   ]
  },
  {
   "cell_type": "code",
   "execution_count": 11,
   "metadata": {},
   "outputs": [
    {
     "data": {
      "text/plain": [
       "0"
      ]
     },
     "execution_count": 11,
     "metadata": {},
     "output_type": "execute_result"
    }
   ],
   "source": [
    "df['본거지법정동코드'].isnull().sum()"
   ]
  },
  {
   "cell_type": "code",
   "execution_count": 12,
   "metadata": {},
   "outputs": [
    {
     "name": "stderr",
     "output_type": "stream",
     "text": [
      "100%|██████████| 29534047/29534047 [00:18<00:00, 1625711.43it/s]\n"
     ]
    },
    {
     "data": {
      "text/plain": [
       "0"
      ]
     },
     "execution_count": 12,
     "metadata": {},
     "output_type": "execute_result"
    }
   ],
   "source": [
    "wrong_localcode_list = []\n",
    "for one in tqdm(df['본거지법정동코드']):\n",
    "    if len(str(one)) != 10:\n",
    "        wrong_localcode_list.append(one)\n",
    "len(wrong_localcode_list)"
   ]
  },
  {
   "cell_type": "code",
   "execution_count": 13,
   "metadata": {},
   "outputs": [
    {
     "name": "stderr",
     "output_type": "stream",
     "text": [
      "100%|██████████| 29534047/29534047 [00:26<00:00, 1117989.31it/s]\n"
     ]
    },
    {
     "data": {
      "text/plain": [
       "0"
      ]
     },
     "execution_count": 13,
     "metadata": {},
     "output_type": "execute_result"
    }
   ],
   "source": [
    "p = re.compile('[0-9]{10}')\n",
    "wrong_localcode_list = []\n",
    "for one in tqdm(df['본거지법정동코드']):\n",
    "    if not p.search(str(one)):\n",
    "        wrong_localcode_list.append(one)\n",
    "len(wrong_localcode_list)"
   ]
  },
  {
   "attachments": {},
   "cell_type": "markdown",
   "metadata": {},
   "source": [
    "## 배출가스검사유효일자"
   ]
  },
  {
   "cell_type": "code",
   "execution_count": 14,
   "metadata": {},
   "outputs": [
    {
     "data": {
      "text/plain": [
       "0    19850225.0\n",
       "1    19760706.0\n",
       "2           NaN\n",
       "3    20191220.0\n",
       "4    19930227.0\n",
       "Name: 배출가스검사유효일자, dtype: float64"
      ]
     },
     "execution_count": 14,
     "metadata": {},
     "output_type": "execute_result"
    }
   ],
   "source": [
    "df['배출가스검사유효일자'].head()"
   ]
  },
  {
   "cell_type": "code",
   "execution_count": 15,
   "metadata": {},
   "outputs": [
    {
     "data": {
      "text/plain": [
       "635"
      ]
     },
     "execution_count": 15,
     "metadata": {},
     "output_type": "execute_result"
    }
   ],
   "source": [
    "df['배출가스검사유효일자'].isnull().sum()"
   ]
  },
  {
   "cell_type": "code",
   "execution_count": 16,
   "metadata": {},
   "outputs": [
    {
     "data": {
      "text/plain": [
       "635"
      ]
     },
     "execution_count": 16,
     "metadata": {},
     "output_type": "execute_result"
    }
   ],
   "source": [
    "null_idx = df[df['배출가스검사유효일자'].isnull() == True].index\n",
    "len(null_idx)"
   ]
  },
  {
   "cell_type": "code",
   "execution_count": 17,
   "metadata": {},
   "outputs": [
    {
     "name": "stderr",
     "output_type": "stream",
     "text": [
      "29534047it [00:30, 975731.91it/s] \n"
     ]
    },
    {
     "data": {
      "text/plain": [
       "637"
      ]
     },
     "execution_count": 17,
     "metadata": {},
     "output_type": "execute_result"
    }
   ],
   "source": [
    "p = re.compile('[0-9]{8}[.][0]')\n",
    "wrong_gascheckdate_idx = []\n",
    "for i, one in tqdm(enumerate(df['배출가스검사유효일자'].to_list())):\n",
    "    if not p.search(str(one)):\n",
    "        wrong_gascheckdate_idx.append(i)\n",
    "len(wrong_gascheckdate_idx)"
   ]
  },
  {
   "cell_type": "code",
   "execution_count": 18,
   "metadata": {},
   "outputs": [
    {
     "data": {
      "text/plain": [
       "{4124, 15938}"
      ]
     },
     "execution_count": 18,
     "metadata": {},
     "output_type": "execute_result"
    }
   ],
   "source": [
    "set(wrong_gascheckdate_idx) - set(null_idx)"
   ]
  },
  {
   "cell_type": "code",
   "execution_count": 19,
   "metadata": {},
   "outputs": [
    {
     "data": {
      "text/plain": [
       "15938    1990604.0\n",
       "4124     1990118.0\n",
       "Name: 배출가스검사유효일자, dtype: float64"
      ]
     },
     "execution_count": 19,
     "metadata": {},
     "output_type": "execute_result"
    }
   ],
   "source": [
    "df.loc[list(set(wrong_gascheckdate_idx) - set(null_idx)), '배출가스검사유효일자']"
   ]
  },
  {
   "cell_type": "code",
   "execution_count": 20,
   "metadata": {},
   "outputs": [
    {
     "data": {
      "text/html": [
       "<div>\n",
       "<style scoped>\n",
       "    .dataframe tbody tr th:only-of-type {\n",
       "        vertical-align: middle;\n",
       "    }\n",
       "\n",
       "    .dataframe tbody tr th {\n",
       "        vertical-align: top;\n",
       "    }\n",
       "\n",
       "    .dataframe thead th {\n",
       "        text-align: right;\n",
       "    }\n",
       "</style>\n",
       "<table border=\"1\" class=\"dataframe\">\n",
       "  <thead>\n",
       "    <tr style=\"text-align: right;\">\n",
       "      <th></th>\n",
       "      <th>배출가스검사유효일자</th>\n",
       "      <th>차량연식</th>\n",
       "      <th>배출가스인증번호</th>\n",
       "    </tr>\n",
       "  </thead>\n",
       "  <tbody>\n",
       "    <tr>\n",
       "      <th>15938</th>\n",
       "      <td>1990604.0</td>\n",
       "      <td>1983</td>\n",
       "      <td>NaN</td>\n",
       "    </tr>\n",
       "    <tr>\n",
       "      <th>4124</th>\n",
       "      <td>1990118.0</td>\n",
       "      <td>1979</td>\n",
       "      <td>NaN</td>\n",
       "    </tr>\n",
       "  </tbody>\n",
       "</table>\n",
       "</div>"
      ],
      "text/plain": [
       "       배출가스검사유효일자  차량연식 배출가스인증번호\n",
       "15938   1990604.0  1983      NaN\n",
       "4124    1990118.0  1979      NaN"
      ]
     },
     "execution_count": 20,
     "metadata": {},
     "output_type": "execute_result"
    }
   ],
   "source": [
    "df.loc[list(set(wrong_gascheckdate_idx) - set(null_idx)), ['배출가스검사유효일자', '차량연식', '배출가스인증번호']]"
   ]
  },
  {
   "cell_type": "code",
   "execution_count": 21,
   "metadata": {},
   "outputs": [
    {
     "data": {
      "text/html": [
       "<div>\n",
       "<style scoped>\n",
       "    .dataframe tbody tr th:only-of-type {\n",
       "        vertical-align: middle;\n",
       "    }\n",
       "\n",
       "    .dataframe tbody tr th {\n",
       "        vertical-align: top;\n",
       "    }\n",
       "\n",
       "    .dataframe thead th {\n",
       "        text-align: right;\n",
       "    }\n",
       "</style>\n",
       "<table border=\"1\" class=\"dataframe\">\n",
       "  <thead>\n",
       "    <tr style=\"text-align: right;\">\n",
       "      <th></th>\n",
       "      <th>차대번호</th>\n",
       "      <th>배출가스검사유효일자</th>\n",
       "      <th>차량연식</th>\n",
       "      <th>배출가스인증번호</th>\n",
       "    </tr>\n",
       "  </thead>\n",
       "  <tbody>\n",
       "    <tr>\n",
       "      <th>2</th>\n",
       "      <td>10762211783</td>\n",
       "      <td>NaN</td>\n",
       "      <td>1976</td>\n",
       "      <td>NaN</td>\n",
       "    </tr>\n",
       "    <tr>\n",
       "      <th>8</th>\n",
       "      <td>10762211682</td>\n",
       "      <td>NaN</td>\n",
       "      <td>1976</td>\n",
       "      <td>NaN</td>\n",
       "    </tr>\n",
       "    <tr>\n",
       "      <th>10</th>\n",
       "      <td>10762212246</td>\n",
       "      <td>NaN</td>\n",
       "      <td>1976</td>\n",
       "      <td>NaN</td>\n",
       "    </tr>\n",
       "    <tr>\n",
       "      <th>47</th>\n",
       "      <td>10762213150</td>\n",
       "      <td>NaN</td>\n",
       "      <td>1976</td>\n",
       "      <td>NaN</td>\n",
       "    </tr>\n",
       "    <tr>\n",
       "      <th>52</th>\n",
       "      <td>03761307405</td>\n",
       "      <td>NaN</td>\n",
       "      <td>1976</td>\n",
       "      <td>NaN</td>\n",
       "    </tr>\n",
       "    <tr>\n",
       "      <th>...</th>\n",
       "      <td>...</td>\n",
       "      <td>...</td>\n",
       "      <td>...</td>\n",
       "      <td>...</td>\n",
       "    </tr>\n",
       "    <tr>\n",
       "      <th>8087297</th>\n",
       "      <td>KNAKU815BAA058010</td>\n",
       "      <td>NaN</td>\n",
       "      <td>2010</td>\n",
       "      <td>9MY-KM-14-22</td>\n",
       "    </tr>\n",
       "    <tr>\n",
       "      <th>8251095</th>\n",
       "      <td>KMFZCY7JAAU616346</td>\n",
       "      <td>NaN</td>\n",
       "      <td>2010</td>\n",
       "      <td>7MY-HD-14-68</td>\n",
       "    </tr>\n",
       "    <tr>\n",
       "      <th>20922089</th>\n",
       "      <td>KMHK4815GJU081024</td>\n",
       "      <td>NaN</td>\n",
       "      <td>2018</td>\n",
       "      <td>HMY-HD-14-31</td>\n",
       "    </tr>\n",
       "    <tr>\n",
       "      <th>26101534</th>\n",
       "      <td>KNANE81BBMS034872</td>\n",
       "      <td>NaN</td>\n",
       "      <td>2021</td>\n",
       "      <td>JMY-KM-14-29</td>\n",
       "    </tr>\n",
       "    <tr>\n",
       "      <th>28249951</th>\n",
       "      <td>KPADM4AE1NP167376</td>\n",
       "      <td>NaN</td>\n",
       "      <td>2022</td>\n",
       "      <td>NaN</td>\n",
       "    </tr>\n",
       "  </tbody>\n",
       "</table>\n",
       "<p>635 rows × 4 columns</p>\n",
       "</div>"
      ],
      "text/plain": [
       "                       차대번호  배출가스검사유효일자  차량연식      배출가스인증번호\n",
       "2               10762211783         NaN  1976           NaN\n",
       "8               10762211682         NaN  1976           NaN\n",
       "10              10762212246         NaN  1976           NaN\n",
       "47              10762213150         NaN  1976           NaN\n",
       "52              03761307405         NaN  1976           NaN\n",
       "...                     ...         ...   ...           ...\n",
       "8087297   KNAKU815BAA058010         NaN  2010  9MY-KM-14-22\n",
       "8251095   KMFZCY7JAAU616346         NaN  2010  7MY-HD-14-68\n",
       "20922089  KMHK4815GJU081024         NaN  2018  HMY-HD-14-31\n",
       "26101534  KNANE81BBMS034872         NaN  2021  JMY-KM-14-29\n",
       "28249951  KPADM4AE1NP167376         NaN  2022           NaN\n",
       "\n",
       "[635 rows x 4 columns]"
      ]
     },
     "execution_count": 21,
     "metadata": {},
     "output_type": "execute_result"
    }
   ],
   "source": [
    "df.loc[null_idx, ['차대번호', '배출가스검사유효일자', '차량연식', '배출가스인증번호']]"
   ]
  },
  {
   "cell_type": "code",
   "execution_count": 22,
   "metadata": {},
   "outputs": [
    {
     "data": {
      "text/plain": [
       "17"
      ]
     },
     "execution_count": 22,
     "metadata": {},
     "output_type": "execute_result"
    }
   ],
   "source": [
    "len('KMHK4815GJU081024')"
   ]
  },
  {
   "cell_type": "code",
   "execution_count": 23,
   "metadata": {},
   "outputs": [
    {
     "data": {
      "text/plain": [
       "차대번호            0\n",
       "배출가스검사유효일자    635\n",
       "차량연식            0\n",
       "배출가스인증번호      540\n",
       "dtype: int64"
      ]
     },
     "execution_count": 23,
     "metadata": {},
     "output_type": "execute_result"
    }
   ],
   "source": [
    "df.loc[null_idx, ['차대번호', '배출가스검사유효일자', '차량연식', '배출가스인증번호']].isnull().sum()"
   ]
  },
  {
   "attachments": {},
   "cell_type": "markdown",
   "metadata": {},
   "source": [
    "# 정기검사"
   ]
  },
  {
   "cell_type": "code",
   "execution_count": 24,
   "metadata": {},
   "outputs": [
    {
     "name": "stdout",
     "output_type": "stream",
     "text": [
      "<class 'pandas.core.frame.DataFrame'>\n",
      "RangeIndex: 22006426 entries, 0 to 22006425\n",
      "Data columns (total 39 columns):\n",
      " #   Column     Dtype  \n",
      "---  ------     -----  \n",
      " 0   사용연료       object \n",
      " 1   주행거리       object \n",
      " 2   차명         object \n",
      " 3   차량번호       object \n",
      " 4   차대번호       object \n",
      " 5   차종         object \n",
      " 6   차량연식       int64  \n",
      " 7   엔진형식       object \n",
      " 8   검사방법       object \n",
      " 9   검사일자       int64  \n",
      " 10  검사종류       object \n",
      " 11  검사판정시각     object \n",
      " 12  검사판정       object \n",
      " 13  산소값        float64\n",
      " 14  이산화탄소값     float64\n",
      " 15  무부하매연판정1   object \n",
      " 16  무부하매연판정2   object \n",
      " 17  무부하매연판정3   object \n",
      " 18  무부하매연판정4   object \n",
      " 19  무부하매연판정5   object \n",
      " 20  무부하매연판정6   object \n",
      " 21  무부하매연허용치1  float64\n",
      " 22  무부하매연허용치2  float64\n",
      " 23  무부하매연허용치3  float64\n",
      " 24  무부하매연허용치4  float64\n",
      " 25  무부하매연허용치5  float64\n",
      " 26  무부하매연허용치6  float64\n",
      " 27  무부하매연측정치1  float64\n",
      " 28  무부하매연측정치2  float64\n",
      " 29  무부하매연측정치3  float64\n",
      " 30  무부하매연측정치4  float64\n",
      " 31  무부하매연측정치5  float64\n",
      " 32  무부하매연측정치6  float64\n",
      " 33  차량용도       object \n",
      " 34  최대출력허용치    float64\n",
      " 35  최대출력측정값    float64\n",
      " 36  검사접수번호     object \n",
      " 37  검사소명       object \n",
      " 38  재검사기간      object \n",
      "dtypes: float64(16), int64(2), object(21)\n",
      "memory usage: 6.4+ GB\n"
     ]
    }
   ],
   "source": [
    "# about 3m 34s\n",
    "file_name = '[ODS]정기검사(2022.12.28).csv'\n",
    "ins = pd.read_csv(os.path.join(ods_fold, file_name), low_memory=False)\n",
    "ins.info()"
   ]
  },
  {
   "cell_type": "code",
   "execution_count": 25,
   "metadata": {},
   "outputs": [
    {
     "data": {
      "text/plain": [
       "0    20190102\n",
       "1    20190102\n",
       "2    20190102\n",
       "3    20190102\n",
       "4    20190102\n",
       "Name: 검사일자, dtype: int64"
      ]
     },
     "execution_count": 25,
     "metadata": {},
     "output_type": "execute_result"
    }
   ],
   "source": [
    "ins['검사일자'].head()"
   ]
  },
  {
   "cell_type": "code",
   "execution_count": 26,
   "metadata": {},
   "outputs": [
    {
     "data": {
      "text/plain": [
       "18083379    20220124\n",
       "Name: 검사일자, dtype: int64"
      ]
     },
     "execution_count": 26,
     "metadata": {},
     "output_type": "execute_result"
    }
   ],
   "source": [
    "ins.loc[ins['차대번호'] == 'KMHK4815GJU081024', '검사일자']"
   ]
  },
  {
   "attachments": {},
   "cell_type": "markdown",
   "metadata": {},
   "source": [
    "## 배출가스 인증번호"
   ]
  },
  {
   "cell_type": "code",
   "execution_count": 27,
   "metadata": {},
   "outputs": [
    {
     "data": {
      "text/plain": [
       "3414724"
      ]
     },
     "execution_count": 27,
     "metadata": {},
     "output_type": "execute_result"
    }
   ],
   "source": [
    "df['배출가스인증번호'].isnull().sum()"
   ]
  },
  {
   "attachments": {},
   "cell_type": "markdown",
   "metadata": {},
   "source": [
    "## 차종"
   ]
  },
  {
   "attachments": {},
   "cell_type": "markdown",
   "metadata": {},
   "source": [
    "### 등록&제원정보"
   ]
  },
  {
   "cell_type": "code",
   "execution_count": 28,
   "metadata": {},
   "outputs": [
    {
     "data": {
      "text/plain": [
       "(29534047, 49)"
      ]
     },
     "execution_count": 28,
     "metadata": {},
     "output_type": "execute_result"
    }
   ],
   "source": [
    "# about 9m 24s\n",
    "file_name = '[ODS]등록정보&제원정보(2022.12.28).csv'\n",
    "df = pd.read_csv(os.path.join(ods_fold, file_name), encoding='cp949', low_memory=False)\n",
    "df.shape"
   ]
  },
  {
   "cell_type": "code",
   "execution_count": 40,
   "metadata": {},
   "outputs": [
    {
     "data": {
      "text/html": [
       "<div>\n",
       "<style scoped>\n",
       "    .dataframe tbody tr th:only-of-type {\n",
       "        vertical-align: middle;\n",
       "    }\n",
       "\n",
       "    .dataframe tbody tr th {\n",
       "        vertical-align: top;\n",
       "    }\n",
       "\n",
       "    .dataframe thead th {\n",
       "        text-align: right;\n",
       "    }\n",
       "</style>\n",
       "<table border=\"1\" class=\"dataframe\">\n",
       "  <thead>\n",
       "    <tr style=\"text-align: right;\">\n",
       "      <th></th>\n",
       "      <th>차대번호</th>\n",
       "      <th>배출가스인증번호</th>\n",
       "      <th>자동차형식</th>\n",
       "      <th>엔진형식</th>\n",
       "      <th>차명</th>\n",
       "      <th>차량연식</th>\n",
       "    </tr>\n",
       "  </thead>\n",
       "  <tbody>\n",
       "    <tr>\n",
       "      <th>29534031</th>\n",
       "      <td>KNMA4B2RMPP005538</td>\n",
       "      <td>NaN</td>\n",
       "      <td>T4W13-4D</td>\n",
       "      <td>H5H</td>\n",
       "      <td>SM6</td>\n",
       "      <td>2023</td>\n",
       "    </tr>\n",
       "    <tr>\n",
       "      <th>29534036</th>\n",
       "      <td>KMHJE811BPU100088</td>\n",
       "      <td>NaN</td>\n",
       "      <td>NX4H51BD-E8DF-G5A</td>\n",
       "      <td>G4FT</td>\n",
       "      <td>투싼 하이브리드(TUCSON HYBRID)</td>\n",
       "      <td>2023</td>\n",
       "    </tr>\n",
       "    <tr>\n",
       "      <th>29534037</th>\n",
       "      <td>KMHJE811BPU100230</td>\n",
       "      <td>NaN</td>\n",
       "      <td>NX4H51BD-E8DO-G5A</td>\n",
       "      <td>G4FT</td>\n",
       "      <td>투싼 하이브리드(TUCSON HYBRID)</td>\n",
       "      <td>2023</td>\n",
       "    </tr>\n",
       "    <tr>\n",
       "      <th>29534038</th>\n",
       "      <td>KMHJE811BPU100378</td>\n",
       "      <td>NaN</td>\n",
       "      <td>NX4H51BD-E9DO-G5A</td>\n",
       "      <td>G4FT</td>\n",
       "      <td>투싼 하이브리드(TUCSON HYBRID)</td>\n",
       "      <td>2023</td>\n",
       "    </tr>\n",
       "    <tr>\n",
       "      <th>29534039</th>\n",
       "      <td>KMHJE811BPU100494</td>\n",
       "      <td>NaN</td>\n",
       "      <td>NX4H51BD-E8DF-G5A</td>\n",
       "      <td>G4FT</td>\n",
       "      <td>투싼 하이브리드(TUCSON HYBRID)</td>\n",
       "      <td>2023</td>\n",
       "    </tr>\n",
       "    <tr>\n",
       "      <th>29534040</th>\n",
       "      <td>KMHJE811BPU100592</td>\n",
       "      <td>NaN</td>\n",
       "      <td>NX4H51BD-E8DF-G5A</td>\n",
       "      <td>G4FT</td>\n",
       "      <td>투싼 하이브리드(TUCSON HYBRID)</td>\n",
       "      <td>2023</td>\n",
       "    </tr>\n",
       "    <tr>\n",
       "      <th>29534041</th>\n",
       "      <td>KMHL241JBPA060768</td>\n",
       "      <td>NaN</td>\n",
       "      <td>DNJBH-G7-G5A</td>\n",
       "      <td>G4NR</td>\n",
       "      <td>쏘나타 하이브리드 (SONATA HYBRID)</td>\n",
       "      <td>2023</td>\n",
       "    </tr>\n",
       "    <tr>\n",
       "      <th>29534042</th>\n",
       "      <td>KMHL241JBPA060809</td>\n",
       "      <td>NaN</td>\n",
       "      <td>DNJBH-G7-G5A</td>\n",
       "      <td>G4NR</td>\n",
       "      <td>쏘나타 하이브리드 (SONATA HYBRID)</td>\n",
       "      <td>2023</td>\n",
       "    </tr>\n",
       "    <tr>\n",
       "      <th>29534043</th>\n",
       "      <td>KMHL241JBPA060817</td>\n",
       "      <td>NaN</td>\n",
       "      <td>DNJBH-G7-G5A</td>\n",
       "      <td>G4NR</td>\n",
       "      <td>쏘나타 하이브리드 (SONATA HYBRID)</td>\n",
       "      <td>2023</td>\n",
       "    </tr>\n",
       "    <tr>\n",
       "      <th>29534046</th>\n",
       "      <td>KMHL3412BPA299998</td>\n",
       "      <td>NaN</td>\n",
       "      <td>DN3BF-VS9-G3A</td>\n",
       "      <td>G4FP</td>\n",
       "      <td>쏘나타(SONATA)</td>\n",
       "      <td>2023</td>\n",
       "    </tr>\n",
       "  </tbody>\n",
       "</table>\n",
       "</div>"
      ],
      "text/plain": [
       "                       차대번호 배출가스인증번호              자동차형식  엔진형식  \\\n",
       "29534031  KNMA4B2RMPP005538      NaN           T4W13-4D   H5H   \n",
       "29534036  KMHJE811BPU100088      NaN  NX4H51BD-E8DF-G5A  G4FT   \n",
       "29534037  KMHJE811BPU100230      NaN  NX4H51BD-E8DO-G5A  G4FT   \n",
       "29534038  KMHJE811BPU100378      NaN  NX4H51BD-E9DO-G5A  G4FT   \n",
       "29534039  KMHJE811BPU100494      NaN  NX4H51BD-E8DF-G5A  G4FT   \n",
       "29534040  KMHJE811BPU100592      NaN  NX4H51BD-E8DF-G5A  G4FT   \n",
       "29534041  KMHL241JBPA060768      NaN       DNJBH-G7-G5A  G4NR   \n",
       "29534042  KMHL241JBPA060809      NaN       DNJBH-G7-G5A  G4NR   \n",
       "29534043  KMHL241JBPA060817      NaN       DNJBH-G7-G5A  G4NR   \n",
       "29534046  KMHL3412BPA299998      NaN      DN3BF-VS9-G3A  G4FP   \n",
       "\n",
       "                                 차명  차량연식  \n",
       "29534031                        SM6  2023  \n",
       "29534036    투싼 하이브리드(TUCSON HYBRID)  2023  \n",
       "29534037    투싼 하이브리드(TUCSON HYBRID)  2023  \n",
       "29534038    투싼 하이브리드(TUCSON HYBRID)  2023  \n",
       "29534039    투싼 하이브리드(TUCSON HYBRID)  2023  \n",
       "29534040    투싼 하이브리드(TUCSON HYBRID)  2023  \n",
       "29534041  쏘나타 하이브리드 (SONATA HYBRID)  2023  \n",
       "29534042  쏘나타 하이브리드 (SONATA HYBRID)  2023  \n",
       "29534043  쏘나타 하이브리드 (SONATA HYBRID)  2023  \n",
       "29534046                쏘나타(SONATA)  2023  "
      ]
     },
     "execution_count": 40,
     "metadata": {},
     "output_type": "execute_result"
    }
   ],
   "source": [
    "df.loc[df['배출가스인증번호'].isnull() == True, ['차대번호', '배출가스인증번호', '자동차형식', '엔진형식', '차명', '차량연식']].tail(10)"
   ]
  },
  {
   "cell_type": "code",
   "execution_count": 33,
   "metadata": {},
   "outputs": [
    {
     "data": {
      "text/plain": [
       "배출가스인증번호   차량연식  차명   \n",
       "LMY-HD-08  1988  엑셀       25\n",
       "           1987  엑셀        6\n",
       "KMY-HD-02  1987  엑셀        1\n",
       "           1988  엑셀        1\n",
       "           1989  엑셀        1\n",
       "KMY-HD-04  1992  EXCEL     1\n",
       "LMY-HD-08  1989  엑셀        1\n",
       "dtype: int64"
      ]
     },
     "execution_count": 33,
     "metadata": {},
     "output_type": "execute_result"
    }
   ],
   "source": [
    "df.loc[df['자동차형식'] == 'FX-2', ['배출가스인증번호', '차량연식', '차명']].value_counts()"
   ]
  },
  {
   "cell_type": "code",
   "execution_count": 42,
   "metadata": {},
   "outputs": [
    {
     "data": {
      "text/plain": [
       "배출가스인증번호      차량연식  차명                      \n",
       "KMY-KM-14-81  2020  K5                          24414\n",
       "LMY-HD-14-62  2021  투싼(TUCSON)                  23281\n",
       "MMY-KM-14-36  2022  스포티지                        21174\n",
       "LMY-HD-14-62  2022  투싼(TUCSON)                  20925\n",
       "KMY-KM-14-81  2021  K5                          15056\n",
       "JMY-KM-14-57  2022  스포티지                        12525\n",
       "KMY-HD-14-56  2021  쏘나타(SONATA)                 10923\n",
       "              2022  쏘나타(SONATA)                  9652\n",
       "KMY-KM-14-81  2022  K5                           9458\n",
       "KMY-HD-14-56  2020  쏘나타(SONATA)                  9007\n",
       "NMY-KM-14-11  2023  셀토스                          8869\n",
       "HMY-HD-14-31  2021  코나(KONA)                     7682\n",
       "LMY-HD-14-76  2022  코나(KONA)                     2485\n",
       "              2023  코나(KONA)                     2351\n",
       "LMY-HD-14-33  2021  아반떼 N 라인(AVANTE N Line)      1613\n",
       "MMY-KM-14-36  2023  스포티지                         1350\n",
       "JMY-HD-14-48  2021  투싼(TUCSON)                   1070\n",
       "LMY-HD-14-62  2023  투싼(TUCSON)                    918\n",
       "LMY-HD-14-33  2023  아반떼 N 라인 (AVANTE N Line)      324\n",
       "              2022  아반떼 N 라인 (AVANTE N Line)      292\n",
       "HMY-HD-14-31  2022  코나(KONA)                      201\n",
       "KMY-HD-14-56  2023  쏘나타(SONATA)                    74\n",
       "dtype: int64"
      ]
     },
     "execution_count": 42,
     "metadata": {},
     "output_type": "execute_result"
    }
   ],
   "source": [
    "df.loc[df['엔진형식'] == 'G4FP', ['배출가스인증번호', '차량연식', '차명']].value_counts()"
   ]
  },
  {
   "attachments": {},
   "cell_type": "markdown",
   "metadata": {},
   "source": [
    "## 차종"
   ]
  },
  {
   "cell_type": "code",
   "execution_count": 44,
   "metadata": {},
   "outputs": [
    {
     "data": {
      "text/plain": [
       "14"
      ]
     },
     "execution_count": 44,
     "metadata": {},
     "output_type": "execute_result"
    }
   ],
   "source": [
    "df['차종_등록정보'].isnull().sum()"
   ]
  },
  {
   "cell_type": "code",
   "execution_count": 45,
   "metadata": {},
   "outputs": [
    {
     "data": {
      "text/plain": [
       "array(['승용', '화물', '승합', '특수', nan], dtype=object)"
      ]
     },
     "execution_count": 45,
     "metadata": {},
     "output_type": "execute_result"
    }
   ],
   "source": [
    "df['차종_등록정보'].unique()"
   ]
  },
  {
   "cell_type": "code",
   "execution_count": 48,
   "metadata": {},
   "outputs": [
    {
     "data": {
      "text/html": [
       "<div>\n",
       "<style scoped>\n",
       "    .dataframe tbody tr th:only-of-type {\n",
       "        vertical-align: middle;\n",
       "    }\n",
       "\n",
       "    .dataframe tbody tr th {\n",
       "        vertical-align: top;\n",
       "    }\n",
       "\n",
       "    .dataframe thead th {\n",
       "        text-align: right;\n",
       "    }\n",
       "</style>\n",
       "<table border=\"1\" class=\"dataframe\">\n",
       "  <thead>\n",
       "    <tr style=\"text-align: right;\">\n",
       "      <th></th>\n",
       "      <th>차명</th>\n",
       "      <th>차종_등록정보</th>\n",
       "      <th>차종분류</th>\n",
       "    </tr>\n",
       "  </thead>\n",
       "  <tbody>\n",
       "    <tr>\n",
       "      <th>6257</th>\n",
       "      <td>유니목1200</td>\n",
       "      <td>NaN</td>\n",
       "      <td>특수용도형-특수용도형</td>\n",
       "    </tr>\n",
       "    <tr>\n",
       "      <th>7271</th>\n",
       "      <td>타이탄디젤14</td>\n",
       "      <td>NaN</td>\n",
       "      <td>일반형-카고</td>\n",
       "    </tr>\n",
       "    <tr>\n",
       "      <th>21694</th>\n",
       "      <td>봉고킹캡</td>\n",
       "      <td>NaN</td>\n",
       "      <td>일반형-카고</td>\n",
       "    </tr>\n",
       "    <tr>\n",
       "      <th>26839</th>\n",
       "      <td>슈퍼타이탄디젤14척(2.5톤)</td>\n",
       "      <td>NaN</td>\n",
       "      <td>일반형-카고</td>\n",
       "    </tr>\n",
       "    <tr>\n",
       "      <th>37972</th>\n",
       "      <td>로얄프린스1.5</td>\n",
       "      <td>NaN</td>\n",
       "      <td>일반</td>\n",
       "    </tr>\n",
       "    <tr>\n",
       "      <th>38473</th>\n",
       "      <td>그레이스살롱</td>\n",
       "      <td>NaN</td>\n",
       "      <td>일반</td>\n",
       "    </tr>\n",
       "    <tr>\n",
       "      <th>43509</th>\n",
       "      <td>봉고킹캡</td>\n",
       "      <td>NaN</td>\n",
       "      <td>일반형-카고</td>\n",
       "    </tr>\n",
       "    <tr>\n",
       "      <th>47889</th>\n",
       "      <td>포니2-1400픽업컨버터블탑</td>\n",
       "      <td>NaN</td>\n",
       "      <td>일반형-픽업</td>\n",
       "    </tr>\n",
       "    <tr>\n",
       "      <th>60693</th>\n",
       "      <td>베스타3밴</td>\n",
       "      <td>NaN</td>\n",
       "      <td>밴</td>\n",
       "    </tr>\n",
       "    <tr>\n",
       "      <th>62028</th>\n",
       "      <td>점보타이탄2.5톤더블캡</td>\n",
       "      <td>NaN</td>\n",
       "      <td>일반형-카고</td>\n",
       "    </tr>\n",
       "    <tr>\n",
       "      <th>66818</th>\n",
       "      <td>그레이스살롱</td>\n",
       "      <td>NaN</td>\n",
       "      <td>일반</td>\n",
       "    </tr>\n",
       "    <tr>\n",
       "      <th>73040</th>\n",
       "      <td>포터슈퍼캡</td>\n",
       "      <td>NaN</td>\n",
       "      <td>일반형-카고</td>\n",
       "    </tr>\n",
       "    <tr>\n",
       "      <th>84902</th>\n",
       "      <td>그랜저2.4</td>\n",
       "      <td>NaN</td>\n",
       "      <td>일반</td>\n",
       "    </tr>\n",
       "    <tr>\n",
       "      <th>87436</th>\n",
       "      <td>그랜저2.4</td>\n",
       "      <td>NaN</td>\n",
       "      <td>일반</td>\n",
       "    </tr>\n",
       "  </tbody>\n",
       "</table>\n",
       "</div>"
      ],
      "text/plain": [
       "                     차명 차종_등록정보         차종분류\n",
       "6257            유니목1200     NaN  특수용도형-특수용도형\n",
       "7271            타이탄디젤14     NaN       일반형-카고\n",
       "21694              봉고킹캡     NaN       일반형-카고\n",
       "26839  슈퍼타이탄디젤14척(2.5톤)     NaN       일반형-카고\n",
       "37972          로얄프린스1.5     NaN           일반\n",
       "38473            그레이스살롱     NaN           일반\n",
       "43509              봉고킹캡     NaN       일반형-카고\n",
       "47889   포니2-1400픽업컨버터블탑     NaN       일반형-픽업\n",
       "60693             베스타3밴     NaN            밴\n",
       "62028      점보타이탄2.5톤더블캡     NaN       일반형-카고\n",
       "66818            그레이스살롱     NaN           일반\n",
       "73040             포터슈퍼캡     NaN       일반형-카고\n",
       "84902            그랜저2.4     NaN           일반\n",
       "87436            그랜저2.4     NaN           일반"
      ]
     },
     "execution_count": 48,
     "metadata": {},
     "output_type": "execute_result"
    }
   ],
   "source": [
    "df.loc[df['차종_등록정보'].isnull() == True, ['차명', '차종_등록정보', '차종분류']]"
   ]
  },
  {
   "attachments": {},
   "cell_type": "markdown",
   "metadata": {},
   "source": [
    "## 차량 제작 일자"
   ]
  },
  {
   "cell_type": "code",
   "execution_count": 49,
   "metadata": {},
   "outputs": [
    {
     "data": {
      "text/plain": [
       "424546"
      ]
     },
     "execution_count": 49,
     "metadata": {},
     "output_type": "execute_result"
    }
   ],
   "source": [
    "df['차량제작일자'].isnull().sum()"
   ]
  },
  {
   "cell_type": "code",
   "execution_count": 52,
   "metadata": {},
   "outputs": [
    {
     "data": {
      "text/plain": [
       "count   29109501.00\n",
       "mean    20133035.32\n",
       "std        62241.75\n",
       "min        11212.00\n",
       "25%     20090924.00\n",
       "50%     20140829.00\n",
       "75%     20180908.00\n",
       "max     20221227.00\n",
       "Name: 차량제작일자, dtype: float64"
      ]
     },
     "execution_count": 52,
     "metadata": {},
     "output_type": "execute_result"
    }
   ],
   "source": [
    "df['차량제작일자'].describe()"
   ]
  },
  {
   "cell_type": "code",
   "execution_count": 53,
   "metadata": {},
   "outputs": [
    {
     "data": {
      "text/html": [
       "<div>\n",
       "<style scoped>\n",
       "    .dataframe tbody tr th:only-of-type {\n",
       "        vertical-align: middle;\n",
       "    }\n",
       "\n",
       "    .dataframe tbody tr th {\n",
       "        vertical-align: top;\n",
       "    }\n",
       "\n",
       "    .dataframe thead th {\n",
       "        text-align: right;\n",
       "    }\n",
       "</style>\n",
       "<table border=\"1\" class=\"dataframe\">\n",
       "  <thead>\n",
       "    <tr style=\"text-align: right;\">\n",
       "      <th></th>\n",
       "      <th>차량제작일자</th>\n",
       "      <th>차량연식</th>\n",
       "    </tr>\n",
       "  </thead>\n",
       "  <tbody>\n",
       "    <tr>\n",
       "      <th>0</th>\n",
       "      <td>NaN</td>\n",
       "      <td>1976</td>\n",
       "    </tr>\n",
       "    <tr>\n",
       "      <th>1</th>\n",
       "      <td>NaN</td>\n",
       "      <td>1968</td>\n",
       "    </tr>\n",
       "    <tr>\n",
       "      <th>2</th>\n",
       "      <td>NaN</td>\n",
       "      <td>1976</td>\n",
       "    </tr>\n",
       "    <tr>\n",
       "      <th>3</th>\n",
       "      <td>NaN</td>\n",
       "      <td>1971</td>\n",
       "    </tr>\n",
       "    <tr>\n",
       "      <th>4</th>\n",
       "      <td>NaN</td>\n",
       "      <td>1986</td>\n",
       "    </tr>\n",
       "  </tbody>\n",
       "</table>\n",
       "</div>"
      ],
      "text/plain": [
       "   차량제작일자  차량연식\n",
       "0     NaN  1976\n",
       "1     NaN  1968\n",
       "2     NaN  1976\n",
       "3     NaN  1971\n",
       "4     NaN  1986"
      ]
     },
     "execution_count": 53,
     "metadata": {},
     "output_type": "execute_result"
    }
   ],
   "source": [
    "df.loc[df['차량제작일자'].isnull() == True, ['차량제작일자', '차량연식']].head()"
   ]
  },
  {
   "cell_type": "code",
   "execution_count": 55,
   "metadata": {},
   "outputs": [],
   "source": [
    "df['차량제작일자'] = df['차량제작일자'].astype(str)"
   ]
  },
  {
   "cell_type": "code",
   "execution_count": 58,
   "metadata": {},
   "outputs": [
    {
     "data": {
      "text/plain": [
       "29534042    20221222.0\n",
       "29534043    20221222.0\n",
       "29534044    20221209.0\n",
       "29534045    20221216.0\n",
       "29534046    20221219.0\n",
       "Name: 차량제작일자, dtype: object"
      ]
     },
     "execution_count": 58,
     "metadata": {},
     "output_type": "execute_result"
    }
   ],
   "source": [
    "df['차량제작일자'].tail()"
   ]
  },
  {
   "cell_type": "code",
   "execution_count": 59,
   "metadata": {},
   "outputs": [
    {
     "data": {
      "text/plain": [
       "(424560, 49)"
      ]
     },
     "execution_count": 59,
     "metadata": {},
     "output_type": "execute_result"
    }
   ],
   "source": [
    "df.loc[df['차량제작일자'].str.len() != 10].shape"
   ]
  },
  {
   "cell_type": "code",
   "execution_count": 62,
   "metadata": {},
   "outputs": [
    {
     "data": {
      "text/plain": [
       "21685676          nan\n",
       "21712859          nan\n",
       "22655861          nan\n",
       "23415596          nan\n",
       "28698925    2020101.0\n",
       "Name: 차량제작일자, dtype: object"
      ]
     },
     "execution_count": 62,
     "metadata": {},
     "output_type": "execute_result"
    }
   ],
   "source": [
    "df.loc[df['차량제작일자'].str.len() != 10, '차량제작일자'].tail()"
   ]
  },
  {
   "cell_type": "code",
   "execution_count": 65,
   "metadata": {},
   "outputs": [
    {
     "name": "stderr",
     "output_type": "stream",
     "text": [
      "29534047it [00:14, 2067135.81it/s]\n"
     ]
    },
    {
     "data": {
      "text/plain": [
       "424546"
      ]
     },
     "execution_count": 65,
     "metadata": {},
     "output_type": "execute_result"
    }
   ],
   "source": [
    "nan_idx = []\n",
    "for i, one in tqdm(enumerate(df['차량제작일자'].to_list())):\n",
    "    if str(one) == 'nan':\n",
    "        nan_idx.append(i)\n",
    "len(nan_idx)"
   ]
  },
  {
   "cell_type": "code",
   "execution_count": 66,
   "metadata": {},
   "outputs": [
    {
     "name": "stderr",
     "output_type": "stream",
     "text": [
      "29534047it [00:16, 1765138.99it/s]\n"
     ]
    },
    {
     "data": {
      "text/plain": [
       "424560"
      ]
     },
     "execution_count": 66,
     "metadata": {},
     "output_type": "execute_result"
    }
   ],
   "source": [
    "error_idx = []\n",
    "for i, one in tqdm(enumerate(df['차량제작일자'].to_list())):\n",
    "    if len(str(one)) != 10:\n",
    "        error_idx.append(i)\n",
    "len(error_idx)"
   ]
  },
  {
   "cell_type": "code",
   "execution_count": 67,
   "metadata": {},
   "outputs": [
    {
     "data": {
      "text/plain": [
       "14"
      ]
     },
     "execution_count": 67,
     "metadata": {},
     "output_type": "execute_result"
    }
   ],
   "source": [
    "len(set(error_idx) - set(nan_idx))"
   ]
  },
  {
   "cell_type": "code",
   "execution_count": 70,
   "metadata": {},
   "outputs": [
    {
     "data": {
      "text/html": [
       "<div>\n",
       "<style scoped>\n",
       "    .dataframe tbody tr th:only-of-type {\n",
       "        vertical-align: middle;\n",
       "    }\n",
       "\n",
       "    .dataframe tbody tr th {\n",
       "        vertical-align: top;\n",
       "    }\n",
       "\n",
       "    .dataframe thead th {\n",
       "        text-align: right;\n",
       "    }\n",
       "</style>\n",
       "<table border=\"1\" class=\"dataframe\">\n",
       "  <thead>\n",
       "    <tr style=\"text-align: right;\">\n",
       "      <th></th>\n",
       "      <th>차량제작일자</th>\n",
       "      <th>차량연식</th>\n",
       "    </tr>\n",
       "  </thead>\n",
       "  <tbody>\n",
       "    <tr>\n",
       "      <th>17678839</th>\n",
       "      <td>2160221.0</td>\n",
       "      <td>2016</td>\n",
       "    </tr>\n",
       "    <tr>\n",
       "      <th>1492297</th>\n",
       "      <td>11212.0</td>\n",
       "      <td>2002</td>\n",
       "    </tr>\n",
       "    <tr>\n",
       "      <th>3291562</th>\n",
       "      <td>50226.0</td>\n",
       "      <td>2005</td>\n",
       "    </tr>\n",
       "    <tr>\n",
       "      <th>858730</th>\n",
       "      <td>7770707.0</td>\n",
       "      <td>1999</td>\n",
       "    </tr>\n",
       "    <tr>\n",
       "      <th>5554988</th>\n",
       "      <td>70814.0</td>\n",
       "      <td>2008</td>\n",
       "    </tr>\n",
       "    <tr>\n",
       "      <th>28698925</th>\n",
       "      <td>2020101.0</td>\n",
       "      <td>2022</td>\n",
       "    </tr>\n",
       "    <tr>\n",
       "      <th>12484270</th>\n",
       "      <td>2130128.0</td>\n",
       "      <td>2013</td>\n",
       "    </tr>\n",
       "    <tr>\n",
       "      <th>1233232</th>\n",
       "      <td>2210413.0</td>\n",
       "      <td>2001</td>\n",
       "    </tr>\n",
       "    <tr>\n",
       "      <th>201553</th>\n",
       "      <td>9910501.0</td>\n",
       "      <td>1991</td>\n",
       "    </tr>\n",
       "    <tr>\n",
       "      <th>453521</th>\n",
       "      <td>9950407.0</td>\n",
       "      <td>1995</td>\n",
       "    </tr>\n",
       "    <tr>\n",
       "      <th>8915729</th>\n",
       "      <td>2100819.0</td>\n",
       "      <td>2010</td>\n",
       "    </tr>\n",
       "    <tr>\n",
       "      <th>21051863</th>\n",
       "      <td>261217.0</td>\n",
       "      <td>2018</td>\n",
       "    </tr>\n",
       "    <tr>\n",
       "      <th>9209788</th>\n",
       "      <td>101110.0</td>\n",
       "      <td>2011</td>\n",
       "    </tr>\n",
       "    <tr>\n",
       "      <th>2076989</th>\n",
       "      <td>30204.0</td>\n",
       "      <td>2003</td>\n",
       "    </tr>\n",
       "  </tbody>\n",
       "</table>\n",
       "</div>"
      ],
      "text/plain": [
       "             차량제작일자  차량연식\n",
       "17678839  2160221.0  2016\n",
       "1492297     11212.0  2002\n",
       "3291562     50226.0  2005\n",
       "858730    7770707.0  1999\n",
       "5554988     70814.0  2008\n",
       "28698925  2020101.0  2022\n",
       "12484270  2130128.0  2013\n",
       "1233232   2210413.0  2001\n",
       "201553    9910501.0  1991\n",
       "453521    9950407.0  1995\n",
       "8915729   2100819.0  2010\n",
       "21051863   261217.0  2018\n",
       "9209788    101110.0  2011\n",
       "2076989     30204.0  2003"
      ]
     },
     "execution_count": 70,
     "metadata": {},
     "output_type": "execute_result"
    }
   ],
   "source": [
    "df.loc[list(set(error_idx) - set(nan_idx)), ['차량제작일자', '차량연식']]"
   ]
  },
  {
   "cell_type": "code",
   "execution_count": 71,
   "metadata": {},
   "outputs": [
    {
     "data": {
      "text/html": [
       "<div>\n",
       "<style scoped>\n",
       "    .dataframe tbody tr th:only-of-type {\n",
       "        vertical-align: middle;\n",
       "    }\n",
       "\n",
       "    .dataframe tbody tr th {\n",
       "        vertical-align: top;\n",
       "    }\n",
       "\n",
       "    .dataframe thead th {\n",
       "        text-align: right;\n",
       "    }\n",
       "</style>\n",
       "<table border=\"1\" class=\"dataframe\">\n",
       "  <thead>\n",
       "    <tr style=\"text-align: right;\">\n",
       "      <th></th>\n",
       "      <th>차량제작일자</th>\n",
       "      <th>차량연식</th>\n",
       "    </tr>\n",
       "  </thead>\n",
       "  <tbody>\n",
       "    <tr>\n",
       "      <th>0</th>\n",
       "      <td>nan</td>\n",
       "      <td>1976</td>\n",
       "    </tr>\n",
       "    <tr>\n",
       "      <th>1</th>\n",
       "      <td>nan</td>\n",
       "      <td>1968</td>\n",
       "    </tr>\n",
       "    <tr>\n",
       "      <th>2</th>\n",
       "      <td>nan</td>\n",
       "      <td>1976</td>\n",
       "    </tr>\n",
       "    <tr>\n",
       "      <th>3</th>\n",
       "      <td>nan</td>\n",
       "      <td>1971</td>\n",
       "    </tr>\n",
       "    <tr>\n",
       "      <th>4</th>\n",
       "      <td>nan</td>\n",
       "      <td>1986</td>\n",
       "    </tr>\n",
       "  </tbody>\n",
       "</table>\n",
       "</div>"
      ],
      "text/plain": [
       "  차량제작일자  차량연식\n",
       "0    nan  1976\n",
       "1    nan  1968\n",
       "2    nan  1976\n",
       "3    nan  1971\n",
       "4    nan  1986"
      ]
     },
     "execution_count": 71,
     "metadata": {},
     "output_type": "execute_result"
    }
   ],
   "source": [
    "df.loc[nan_idx, ['차량제작일자', '차량연식']].head()"
   ]
  },
  {
   "attachments": {},
   "cell_type": "markdown",
   "metadata": {},
   "source": [
    "## 차량 연식"
   ]
  },
  {
   "cell_type": "code",
   "execution_count": 72,
   "metadata": {},
   "outputs": [
    {
     "data": {
      "text/plain": [
       "0"
      ]
     },
     "execution_count": 72,
     "metadata": {},
     "output_type": "execute_result"
    }
   ],
   "source": [
    "df['차량연식'].isnull().sum()"
   ]
  },
  {
   "cell_type": "code",
   "execution_count": 73,
   "metadata": {},
   "outputs": [
    {
     "data": {
      "text/plain": [
       "0"
      ]
     },
     "execution_count": 73,
     "metadata": {},
     "output_type": "execute_result"
    }
   ],
   "source": [
    "p = re.compile('[0-9]')\n",
    "count = 0\n",
    "if one in df['차량연식']:\n",
    "    if not p.search(str(one)):\n",
    "        count += 1\n",
    "count"
   ]
  },
  {
   "attachments": {},
   "cell_type": "markdown",
   "metadata": {},
   "source": [
    "## 차량 말소 YN"
   ]
  },
  {
   "cell_type": "code",
   "execution_count": 74,
   "metadata": {},
   "outputs": [
    {
     "data": {
      "text/plain": [
       "0"
      ]
     },
     "execution_count": 74,
     "metadata": {},
     "output_type": "execute_result"
    }
   ],
   "source": [
    "df['차량말소YN'].isnull().sum()"
   ]
  },
  {
   "cell_type": "code",
   "execution_count": 75,
   "metadata": {},
   "outputs": [
    {
     "data": {
      "text/plain": [
       "N    25693532\n",
       "Y     3840515\n",
       "Name: 차량말소YN, dtype: int64"
      ]
     },
     "execution_count": 75,
     "metadata": {},
     "output_type": "execute_result"
    }
   ],
   "source": [
    "df['차량말소YN'].value_counts(dropna=True)"
   ]
  },
  {
   "attachments": {},
   "cell_type": "markdown",
   "metadata": {},
   "source": [
    "## 차대번호"
   ]
  },
  {
   "cell_type": "code",
   "execution_count": 76,
   "metadata": {},
   "outputs": [
    {
     "data": {
      "text/plain": [
       "0"
      ]
     },
     "execution_count": 76,
     "metadata": {},
     "output_type": "execute_result"
    }
   ],
   "source": [
    "df['차대번호'].isnull().sum()"
   ]
  },
  {
   "attachments": {},
   "cell_type": "markdown",
   "metadata": {},
   "source": [
    "## 제원관리번호"
   ]
  },
  {
   "cell_type": "code",
   "execution_count": 77,
   "metadata": {},
   "outputs": [
    {
     "data": {
      "text/plain": [
       "0"
      ]
     },
     "execution_count": 77,
     "metadata": {},
     "output_type": "execute_result"
    }
   ],
   "source": [
    "df['제원관리번호'].isnull().sum()"
   ]
  },
  {
   "cell_type": "code",
   "execution_count": 78,
   "metadata": {},
   "outputs": [
    {
     "data": {
      "text/plain": [
       "0    10004800000000\n",
       "1    30220100010946\n",
       "2    10004800000000\n",
       "3    30321400001063\n",
       "4    30381300100968\n",
       "Name: 제원관리번호, dtype: object"
      ]
     },
     "execution_count": 78,
     "metadata": {},
     "output_type": "execute_result"
    }
   ],
   "source": [
    "df['제원관리번호'].head()"
   ]
  },
  {
   "cell_type": "code",
   "execution_count": 80,
   "metadata": {},
   "outputs": [
    {
     "data": {
      "text/plain": [
       "array([14, 17], dtype=int64)"
      ]
     },
     "execution_count": 80,
     "metadata": {},
     "output_type": "execute_result"
    }
   ],
   "source": [
    "temp = df['제원관리번호'].str.len()\n",
    "temp.unique()"
   ]
  },
  {
   "cell_type": "code",
   "execution_count": 81,
   "metadata": {},
   "outputs": [
    {
     "data": {
      "text/plain": [
       "(1998450,)"
      ]
     },
     "execution_count": 81,
     "metadata": {},
     "output_type": "execute_result"
    }
   ],
   "source": [
    "df.loc[df['제원관리번호'].str.len() == 14, '제원관리번호'].shape"
   ]
  },
  {
   "cell_type": "code",
   "execution_count": 82,
   "metadata": {},
   "outputs": [
    {
     "data": {
      "text/plain": [
       "(27535597,)"
      ]
     },
     "execution_count": 82,
     "metadata": {},
     "output_type": "execute_result"
    }
   ],
   "source": [
    "df.loc[df['제원관리번호'].str.len() == 17, '제원관리번호'].shape"
   ]
  },
  {
   "cell_type": "code",
   "execution_count": 83,
   "metadata": {},
   "outputs": [
    {
     "data": {
      "text/plain": [
       "33     00034313000053303\n",
       "64     00034717000033303\n",
       "107    00032709000020003\n",
       "178    00034113000441104\n",
       "194    00034314000023303\n",
       "Name: 제원관리번호, dtype: object"
      ]
     },
     "execution_count": 83,
     "metadata": {},
     "output_type": "execute_result"
    }
   ],
   "source": [
    "df.loc[df['제원관리번호'].str.len() == 17, '제원관리번호'].head()"
   ]
  },
  {
   "cell_type": "code",
   "execution_count": 84,
   "metadata": {},
   "outputs": [
    {
     "data": {
      "text/plain": [
       "0"
      ]
     },
     "execution_count": 84,
     "metadata": {},
     "output_type": "execute_result"
    }
   ],
   "source": [
    "error_idx = []\n",
    "p = re.compile('[가-힣]')\n",
    "for i, one in enumerate(df['제원관리번호']):\n",
    "    if p.search(str(one)):\n",
    "        error_idx.append(i)\n",
    "len(error_idx)"
   ]
  },
  {
   "attachments": {},
   "cell_type": "markdown",
   "metadata": {},
   "source": [
    "## 배출가스 등급"
   ]
  },
  {
   "cell_type": "code",
   "execution_count": 85,
   "metadata": {},
   "outputs": [
    {
     "data": {
      "text/plain": [
       "32"
      ]
     },
     "execution_count": 85,
     "metadata": {},
     "output_type": "execute_result"
    }
   ],
   "source": [
    "df['배출가스등급'].isnull().sum()"
   ]
  },
  {
   "attachments": {},
   "cell_type": "markdown",
   "metadata": {},
   "source": [
    "# 2\\. 제원정보(ODS_CEG_CAR_SRC_MIG)"
   ]
  },
  {
   "cell_type": "code",
   "execution_count": 106,
   "metadata": {},
   "outputs": [
    {
     "name": "stdout",
     "output_type": "stream",
     "text": [
      "<class 'pandas.core.frame.DataFrame'>\n",
      "Index: 545374 entries, B0710004800013305 to A1110000800533322\n",
      "Data columns (total 27 columns):\n",
      " #   Column       Non-Null Count   Dtype  \n",
      "---  ------       --------------   -----  \n",
      " 0   VHCNM        545272 non-null  object \n",
      " 1   VHCTY        545370 non-null  object \n",
      " 2   VHCTY_CL     531367 non-null  object \n",
      " 3   VHCTY_TY     531332 non-null  object \n",
      " 4   CAR_FRM      516295 non-null  object \n",
      " 5   MKR_NM       529017 non-null  object \n",
      " 6   FUEL         503254 non-null  object \n",
      " 7   EGINTY       494157 non-null  object \n",
      " 8   EMPV_WGHT    0 non-null       float64\n",
      " 9   TOT_WGHT     541702 non-null  float64\n",
      " 10  CRYNG_WGHT   446181 non-null  float64\n",
      " 11  EGINPWR      471948 non-null  float64\n",
      " 12  DSPLVL       510521 non-null  float64\n",
      " 13  TKCAR_NMPR   545313 non-null  float64\n",
      " 14  VHCL_LT      514786 non-null  float64\n",
      " 15  VHCL_WH      514799 non-null  float64\n",
      " 16  VHCL_HG      514732 non-null  float64\n",
      " 17  PLOR_NM      540392 non-null  object \n",
      " 18  REPCAR_NM    0 non-null       float64\n",
      " 19  DELE_YN      545374 non-null  object \n",
      " 20  CNFRM_DE     532881 non-null  object \n",
      " 21  DRV_FRM      114619 non-null  object \n",
      " 22  GEARBOX_KND  540165 non-null  object \n",
      " 23  RMK          1 non-null       object \n",
      " 24  CRTN_DT      545374 non-null  object \n",
      " 25  UPDT_DT      14578 non-null   object \n",
      " 26  USER_ID      545374 non-null  object \n",
      "dtypes: float64(10), object(17)\n",
      "memory usage: 116.5+ MB\n"
     ]
    }
   ],
   "source": [
    "name = 'CEG_CAR_SRC_MIG'\n",
    "file_name = f'ODS_{name}.csv'\n",
    "src = pd.read_csv(os.path.join(ods_fold, file_name), index_col=0, low_memory=False)\n",
    "src.info()"
   ]
  },
  {
   "cell_type": "code",
   "execution_count": 107,
   "metadata": {},
   "outputs": [
    {
     "data": {
      "text/plain": [
       "Index(['차명', '차종', '차종분류', '차종유형(소분류)', '자동차형식', '제작사명', '연료', '엔진형식', '공차중량',\n",
       "       '총중량', '적재중량', '엔진출력', '배기량', '승차인원', '차량길이', '차량너비', '차량높이', '원산지명',\n",
       "       '미정', '삭제YN', '승인일자', '구동형식', '변속기종류', '미정', '생성일시', '수정일시', '미정'],\n",
       "      dtype='object')"
      ]
     },
     "execution_count": 107,
     "metadata": {},
     "output_type": "execute_result"
    }
   ],
   "source": [
    "file_name = f'[정제]{name}.xlsx'\n",
    "col_df = pd.read_excel(os.path.join(col_fold, file_name), sheet_name='ODS_col')\n",
    "col_dict = {a:b for a,b in col_df[['컬럼', '내용']].values}\n",
    "src.columns = [col_dict[x] for x in src.columns]\n",
    "src.columns"
   ]
  },
  {
   "attachments": {},
   "cell_type": "markdown",
   "metadata": {},
   "source": [
    "## 차종분류"
   ]
  },
  {
   "cell_type": "code",
   "execution_count": 108,
   "metadata": {},
   "outputs": [
    {
     "data": {
      "text/plain": [
       "array(['특수용도형-특수용도형', '특수', '특수용도형-피견인', '일반', '다목적', '밴', '일반형-픽업',\n",
       "       '일반형-카고', '기타', '견인', '특수작업형', '특수용도형-탱크로리', '덤프', '구난', '승용겸화물',\n",
       "       '특수용도형', nan], dtype=object)"
      ]
     },
     "execution_count": 108,
     "metadata": {},
     "output_type": "execute_result"
    }
   ],
   "source": [
    "src['차종분류'].unique()"
   ]
  },
  {
   "cell_type": "code",
   "execution_count": 109,
   "metadata": {},
   "outputs": [
    {
     "data": {
      "text/plain": [
       "14007"
      ]
     },
     "execution_count": 109,
     "metadata": {},
     "output_type": "execute_result"
    }
   ],
   "source": [
    "src['차종분류'].isnull().sum()"
   ]
  },
  {
   "cell_type": "code",
   "execution_count": 116,
   "metadata": {},
   "outputs": [
    {
     "data": {
      "text/html": [
       "<div>\n",
       "<style scoped>\n",
       "    .dataframe tbody tr th:only-of-type {\n",
       "        vertical-align: middle;\n",
       "    }\n",
       "\n",
       "    .dataframe tbody tr th {\n",
       "        vertical-align: top;\n",
       "    }\n",
       "\n",
       "    .dataframe thead th {\n",
       "        text-align: right;\n",
       "    }\n",
       "</style>\n",
       "<table border=\"1\" class=\"dataframe\">\n",
       "  <thead>\n",
       "    <tr style=\"text-align: right;\">\n",
       "      <th></th>\n",
       "      <th>차종분류</th>\n",
       "      <th>차종</th>\n",
       "      <th>차명</th>\n",
       "    </tr>\n",
       "    <tr>\n",
       "      <th>SRCMNNO</th>\n",
       "      <th></th>\n",
       "      <th></th>\n",
       "      <th></th>\n",
       "    </tr>\n",
       "  </thead>\n",
       "  <tbody>\n",
       "    <tr>\n",
       "      <th>07550000100043018</th>\n",
       "      <td>NaN</td>\n",
       "      <td>T</td>\n",
       "      <td>ELF</td>\n",
       "    </tr>\n",
       "    <tr>\n",
       "      <th>07550000100053018</th>\n",
       "      <td>NaN</td>\n",
       "      <td>T</td>\n",
       "      <td>ELF</td>\n",
       "    </tr>\n",
       "    <tr>\n",
       "      <th>07550000100063018</th>\n",
       "      <td>NaN</td>\n",
       "      <td>T</td>\n",
       "      <td>ELF</td>\n",
       "    </tr>\n",
       "    <tr>\n",
       "      <th>07550000100073018</th>\n",
       "      <td>NaN</td>\n",
       "      <td>T</td>\n",
       "      <td>ELF</td>\n",
       "    </tr>\n",
       "    <tr>\n",
       "      <th>07550000100083018</th>\n",
       "      <td>NaN</td>\n",
       "      <td>T</td>\n",
       "      <td>ELF</td>\n",
       "    </tr>\n",
       "  </tbody>\n",
       "</table>\n",
       "</div>"
      ],
      "text/plain": [
       "                  차종분류 차종   차명\n",
       "SRCMNNO                       \n",
       "07550000100043018  NaN  T  ELF\n",
       "07550000100053018  NaN  T  ELF\n",
       "07550000100063018  NaN  T  ELF\n",
       "07550000100073018  NaN  T  ELF\n",
       "07550000100083018  NaN  T  ELF"
      ]
     },
     "execution_count": 116,
     "metadata": {},
     "output_type": "execute_result"
    }
   ],
   "source": [
    "src.loc[src['차종분류'].isnull() == True, ['차종분류', '차종', '차명']].head()"
   ]
  },
  {
   "cell_type": "code",
   "execution_count": 102,
   "metadata": {},
   "outputs": [
    {
     "data": {
      "text/plain": [
       "array(['T', 'V', 'P', 'S', nan], dtype=object)"
      ]
     },
     "execution_count": 102,
     "metadata": {},
     "output_type": "execute_result"
    }
   ],
   "source": [
    "src['차종'].unique()"
   ]
  },
  {
   "cell_type": "code",
   "execution_count": 86,
   "metadata": {},
   "outputs": [
    {
     "data": {
      "text/plain": [
       "array(['일반', '일반형-카고', '특수용도형-특수용도형', '특수용도형-피견인', '덤프', '구난', '특수작업형',\n",
       "       '기타', '다목적', '견인', '밴', '일반형-픽업', '승용겸화물', '특수용도형-탱크로리', '특수',\n",
       "       '특수용도형', nan], dtype=object)"
      ]
     },
     "execution_count": 86,
     "metadata": {},
     "output_type": "execute_result"
    }
   ],
   "source": [
    "df['차종분류'].unique()"
   ]
  },
  {
   "cell_type": "code",
   "execution_count": 87,
   "metadata": {},
   "outputs": [
    {
     "data": {
      "text/plain": [
       "21"
      ]
     },
     "execution_count": 87,
     "metadata": {},
     "output_type": "execute_result"
    }
   ],
   "source": [
    "df['차종분류'].isnull().sum()"
   ]
  },
  {
   "cell_type": "code",
   "execution_count": 90,
   "metadata": {},
   "outputs": [
    {
     "data": {
      "text/html": [
       "<div>\n",
       "<style scoped>\n",
       "    .dataframe tbody tr th:only-of-type {\n",
       "        vertical-align: middle;\n",
       "    }\n",
       "\n",
       "    .dataframe tbody tr th {\n",
       "        vertical-align: top;\n",
       "    }\n",
       "\n",
       "    .dataframe thead th {\n",
       "        text-align: right;\n",
       "    }\n",
       "</style>\n",
       "<table border=\"1\" class=\"dataframe\">\n",
       "  <thead>\n",
       "    <tr style=\"text-align: right;\">\n",
       "      <th></th>\n",
       "      <th>차종분류</th>\n",
       "      <th>차종_등록정보</th>\n",
       "      <th>차종_제원정보</th>\n",
       "    </tr>\n",
       "  </thead>\n",
       "  <tbody>\n",
       "    <tr>\n",
       "      <th>29505431</th>\n",
       "      <td>NaN</td>\n",
       "      <td>승용</td>\n",
       "      <td>NaN</td>\n",
       "    </tr>\n",
       "    <tr>\n",
       "      <th>29506203</th>\n",
       "      <td>NaN</td>\n",
       "      <td>승용</td>\n",
       "      <td>NaN</td>\n",
       "    </tr>\n",
       "    <tr>\n",
       "      <th>29506215</th>\n",
       "      <td>NaN</td>\n",
       "      <td>승용</td>\n",
       "      <td>NaN</td>\n",
       "    </tr>\n",
       "    <tr>\n",
       "      <th>29506915</th>\n",
       "      <td>NaN</td>\n",
       "      <td>승용</td>\n",
       "      <td>NaN</td>\n",
       "    </tr>\n",
       "    <tr>\n",
       "      <th>29506919</th>\n",
       "      <td>NaN</td>\n",
       "      <td>승용</td>\n",
       "      <td>NaN</td>\n",
       "    </tr>\n",
       "    <tr>\n",
       "      <th>29506921</th>\n",
       "      <td>NaN</td>\n",
       "      <td>승용</td>\n",
       "      <td>NaN</td>\n",
       "    </tr>\n",
       "    <tr>\n",
       "      <th>29507665</th>\n",
       "      <td>NaN</td>\n",
       "      <td>승용</td>\n",
       "      <td>NaN</td>\n",
       "    </tr>\n",
       "    <tr>\n",
       "      <th>29508285</th>\n",
       "      <td>NaN</td>\n",
       "      <td>승용</td>\n",
       "      <td>NaN</td>\n",
       "    </tr>\n",
       "    <tr>\n",
       "      <th>29509242</th>\n",
       "      <td>NaN</td>\n",
       "      <td>승용</td>\n",
       "      <td>NaN</td>\n",
       "    </tr>\n",
       "    <tr>\n",
       "      <th>29509300</th>\n",
       "      <td>NaN</td>\n",
       "      <td>승용</td>\n",
       "      <td>NaN</td>\n",
       "    </tr>\n",
       "    <tr>\n",
       "      <th>29509301</th>\n",
       "      <td>NaN</td>\n",
       "      <td>승용</td>\n",
       "      <td>NaN</td>\n",
       "    </tr>\n",
       "    <tr>\n",
       "      <th>29509882</th>\n",
       "      <td>NaN</td>\n",
       "      <td>승용</td>\n",
       "      <td>NaN</td>\n",
       "    </tr>\n",
       "    <tr>\n",
       "      <th>29510532</th>\n",
       "      <td>NaN</td>\n",
       "      <td>승용</td>\n",
       "      <td>NaN</td>\n",
       "    </tr>\n",
       "    <tr>\n",
       "      <th>29512613</th>\n",
       "      <td>NaN</td>\n",
       "      <td>승용</td>\n",
       "      <td>NaN</td>\n",
       "    </tr>\n",
       "    <tr>\n",
       "      <th>29512614</th>\n",
       "      <td>NaN</td>\n",
       "      <td>승용</td>\n",
       "      <td>NaN</td>\n",
       "    </tr>\n",
       "    <tr>\n",
       "      <th>29512615</th>\n",
       "      <td>NaN</td>\n",
       "      <td>승용</td>\n",
       "      <td>NaN</td>\n",
       "    </tr>\n",
       "    <tr>\n",
       "      <th>29515652</th>\n",
       "      <td>NaN</td>\n",
       "      <td>승용</td>\n",
       "      <td>NaN</td>\n",
       "    </tr>\n",
       "    <tr>\n",
       "      <th>29517478</th>\n",
       "      <td>NaN</td>\n",
       "      <td>승용</td>\n",
       "      <td>NaN</td>\n",
       "    </tr>\n",
       "    <tr>\n",
       "      <th>29518017</th>\n",
       "      <td>NaN</td>\n",
       "      <td>승용</td>\n",
       "      <td>NaN</td>\n",
       "    </tr>\n",
       "    <tr>\n",
       "      <th>29518018</th>\n",
       "      <td>NaN</td>\n",
       "      <td>승용</td>\n",
       "      <td>NaN</td>\n",
       "    </tr>\n",
       "    <tr>\n",
       "      <th>29533577</th>\n",
       "      <td>NaN</td>\n",
       "      <td>승용</td>\n",
       "      <td>NaN</td>\n",
       "    </tr>\n",
       "  </tbody>\n",
       "</table>\n",
       "</div>"
      ],
      "text/plain": [
       "         차종분류 차종_등록정보 차종_제원정보\n",
       "29505431  NaN      승용     NaN\n",
       "29506203  NaN      승용     NaN\n",
       "29506215  NaN      승용     NaN\n",
       "29506915  NaN      승용     NaN\n",
       "29506919  NaN      승용     NaN\n",
       "29506921  NaN      승용     NaN\n",
       "29507665  NaN      승용     NaN\n",
       "29508285  NaN      승용     NaN\n",
       "29509242  NaN      승용     NaN\n",
       "29509300  NaN      승용     NaN\n",
       "29509301  NaN      승용     NaN\n",
       "29509882  NaN      승용     NaN\n",
       "29510532  NaN      승용     NaN\n",
       "29512613  NaN      승용     NaN\n",
       "29512614  NaN      승용     NaN\n",
       "29512615  NaN      승용     NaN\n",
       "29515652  NaN      승용     NaN\n",
       "29517478  NaN      승용     NaN\n",
       "29518017  NaN      승용     NaN\n",
       "29518018  NaN      승용     NaN\n",
       "29533577  NaN      승용     NaN"
      ]
     },
     "execution_count": 90,
     "metadata": {},
     "output_type": "execute_result"
    }
   ],
   "source": [
    "df.loc[df['차종분류'].isnull() == True, ['차종분류', '차종_등록정보', '차종_제원정보']]"
   ]
  },
  {
   "attachments": {},
   "cell_type": "markdown",
   "metadata": {},
   "source": [
    "## 차종"
   ]
  },
  {
   "cell_type": "code",
   "execution_count": 117,
   "metadata": {},
   "outputs": [
    {
     "data": {
      "text/plain": [
       "array(['T', 'V', 'P', 'S', nan], dtype=object)"
      ]
     },
     "execution_count": 117,
     "metadata": {},
     "output_type": "execute_result"
    }
   ],
   "source": [
    "src['차종'].unique()"
   ]
  },
  {
   "cell_type": "code",
   "execution_count": 118,
   "metadata": {},
   "outputs": [
    {
     "data": {
      "text/plain": [
       "4"
      ]
     },
     "execution_count": 118,
     "metadata": {},
     "output_type": "execute_result"
    }
   ],
   "source": [
    "src['차종'].isnull().sum()"
   ]
  },
  {
   "cell_type": "code",
   "execution_count": 119,
   "metadata": {},
   "outputs": [
    {
     "data": {
      "text/plain": [
       "SRCMNNO\n",
       "30110100002329    NaN\n",
       "30210100000056    NaN\n",
       "30220100000001    NaN\n",
       "30110100002328    NaN\n",
       "Name: 차종분류, dtype: object"
      ]
     },
     "execution_count": 119,
     "metadata": {},
     "output_type": "execute_result"
    }
   ],
   "source": [
    "src.loc[src['차종'].isnull() == True, '차종분류']"
   ]
  },
  {
   "cell_type": "code",
   "execution_count": 123,
   "metadata": {},
   "outputs": [
    {
     "data": {
      "text/plain": [
       "21"
      ]
     },
     "execution_count": 123,
     "metadata": {},
     "output_type": "execute_result"
    }
   ],
   "source": [
    "df['차종_제원정보'].isnull().sum()"
   ]
  },
  {
   "cell_type": "code",
   "execution_count": 124,
   "metadata": {},
   "outputs": [
    {
     "data": {
      "text/html": [
       "<div>\n",
       "<style scoped>\n",
       "    .dataframe tbody tr th:only-of-type {\n",
       "        vertical-align: middle;\n",
       "    }\n",
       "\n",
       "    .dataframe tbody tr th {\n",
       "        vertical-align: top;\n",
       "    }\n",
       "\n",
       "    .dataframe thead th {\n",
       "        text-align: right;\n",
       "    }\n",
       "</style>\n",
       "<table border=\"1\" class=\"dataframe\">\n",
       "  <thead>\n",
       "    <tr style=\"text-align: right;\">\n",
       "      <th></th>\n",
       "      <th>차종_제원정보</th>\n",
       "      <th>차종_등록정보</th>\n",
       "    </tr>\n",
       "  </thead>\n",
       "  <tbody>\n",
       "    <tr>\n",
       "      <th>29505431</th>\n",
       "      <td>NaN</td>\n",
       "      <td>승용</td>\n",
       "    </tr>\n",
       "    <tr>\n",
       "      <th>29506203</th>\n",
       "      <td>NaN</td>\n",
       "      <td>승용</td>\n",
       "    </tr>\n",
       "    <tr>\n",
       "      <th>29506215</th>\n",
       "      <td>NaN</td>\n",
       "      <td>승용</td>\n",
       "    </tr>\n",
       "    <tr>\n",
       "      <th>29506915</th>\n",
       "      <td>NaN</td>\n",
       "      <td>승용</td>\n",
       "    </tr>\n",
       "    <tr>\n",
       "      <th>29506919</th>\n",
       "      <td>NaN</td>\n",
       "      <td>승용</td>\n",
       "    </tr>\n",
       "    <tr>\n",
       "      <th>29506921</th>\n",
       "      <td>NaN</td>\n",
       "      <td>승용</td>\n",
       "    </tr>\n",
       "    <tr>\n",
       "      <th>29507665</th>\n",
       "      <td>NaN</td>\n",
       "      <td>승용</td>\n",
       "    </tr>\n",
       "    <tr>\n",
       "      <th>29508285</th>\n",
       "      <td>NaN</td>\n",
       "      <td>승용</td>\n",
       "    </tr>\n",
       "    <tr>\n",
       "      <th>29509242</th>\n",
       "      <td>NaN</td>\n",
       "      <td>승용</td>\n",
       "    </tr>\n",
       "    <tr>\n",
       "      <th>29509300</th>\n",
       "      <td>NaN</td>\n",
       "      <td>승용</td>\n",
       "    </tr>\n",
       "    <tr>\n",
       "      <th>29509301</th>\n",
       "      <td>NaN</td>\n",
       "      <td>승용</td>\n",
       "    </tr>\n",
       "    <tr>\n",
       "      <th>29509882</th>\n",
       "      <td>NaN</td>\n",
       "      <td>승용</td>\n",
       "    </tr>\n",
       "    <tr>\n",
       "      <th>29510532</th>\n",
       "      <td>NaN</td>\n",
       "      <td>승용</td>\n",
       "    </tr>\n",
       "    <tr>\n",
       "      <th>29512613</th>\n",
       "      <td>NaN</td>\n",
       "      <td>승용</td>\n",
       "    </tr>\n",
       "    <tr>\n",
       "      <th>29512614</th>\n",
       "      <td>NaN</td>\n",
       "      <td>승용</td>\n",
       "    </tr>\n",
       "    <tr>\n",
       "      <th>29512615</th>\n",
       "      <td>NaN</td>\n",
       "      <td>승용</td>\n",
       "    </tr>\n",
       "    <tr>\n",
       "      <th>29515652</th>\n",
       "      <td>NaN</td>\n",
       "      <td>승용</td>\n",
       "    </tr>\n",
       "    <tr>\n",
       "      <th>29517478</th>\n",
       "      <td>NaN</td>\n",
       "      <td>승용</td>\n",
       "    </tr>\n",
       "    <tr>\n",
       "      <th>29518017</th>\n",
       "      <td>NaN</td>\n",
       "      <td>승용</td>\n",
       "    </tr>\n",
       "    <tr>\n",
       "      <th>29518018</th>\n",
       "      <td>NaN</td>\n",
       "      <td>승용</td>\n",
       "    </tr>\n",
       "    <tr>\n",
       "      <th>29533577</th>\n",
       "      <td>NaN</td>\n",
       "      <td>승용</td>\n",
       "    </tr>\n",
       "  </tbody>\n",
       "</table>\n",
       "</div>"
      ],
      "text/plain": [
       "         차종_제원정보 차종_등록정보\n",
       "29505431     NaN      승용\n",
       "29506203     NaN      승용\n",
       "29506215     NaN      승용\n",
       "29506915     NaN      승용\n",
       "29506919     NaN      승용\n",
       "29506921     NaN      승용\n",
       "29507665     NaN      승용\n",
       "29508285     NaN      승용\n",
       "29509242     NaN      승용\n",
       "29509300     NaN      승용\n",
       "29509301     NaN      승용\n",
       "29509882     NaN      승용\n",
       "29510532     NaN      승용\n",
       "29512613     NaN      승용\n",
       "29512614     NaN      승용\n",
       "29512615     NaN      승용\n",
       "29515652     NaN      승용\n",
       "29517478     NaN      승용\n",
       "29518017     NaN      승용\n",
       "29518018     NaN      승용\n",
       "29533577     NaN      승용"
      ]
     },
     "execution_count": 124,
     "metadata": {},
     "output_type": "execute_result"
    }
   ],
   "source": [
    "df.loc[df['차종_제원정보'].isnull() == True, ['차종_제원정보', '차종_등록정보']]"
   ]
  },
  {
   "attachments": {},
   "cell_type": "markdown",
   "metadata": {},
   "source": [
    "## 차명"
   ]
  },
  {
   "cell_type": "code",
   "execution_count": 125,
   "metadata": {},
   "outputs": [
    {
     "data": {
      "text/plain": [
       "102"
      ]
     },
     "execution_count": 125,
     "metadata": {},
     "output_type": "execute_result"
    }
   ],
   "source": [
    "src['차명'].isnull().sum()"
   ]
  },
  {
   "cell_type": "code",
   "execution_count": 136,
   "metadata": {},
   "outputs": [
    {
     "data": {
      "text/html": [
       "<div>\n",
       "<style scoped>\n",
       "    .dataframe tbody tr th:only-of-type {\n",
       "        vertical-align: middle;\n",
       "    }\n",
       "\n",
       "    .dataframe tbody tr th {\n",
       "        vertical-align: top;\n",
       "    }\n",
       "\n",
       "    .dataframe thead th {\n",
       "        text-align: right;\n",
       "    }\n",
       "</style>\n",
       "<table border=\"1\" class=\"dataframe\">\n",
       "  <thead>\n",
       "    <tr style=\"text-align: right;\">\n",
       "      <th></th>\n",
       "      <th>자동차형식</th>\n",
       "      <th>엔진형식</th>\n",
       "      <th>차명</th>\n",
       "    </tr>\n",
       "    <tr>\n",
       "      <th>SRCMNNO</th>\n",
       "      <th></th>\n",
       "      <th></th>\n",
       "      <th></th>\n",
       "    </tr>\n",
       "  </thead>\n",
       "  <tbody>\n",
       "    <tr>\n",
       "      <th>30432000000014</th>\n",
       "      <td>NaN</td>\n",
       "      <td>NaN</td>\n",
       "      <td>NaN</td>\n",
       "    </tr>\n",
       "    <tr>\n",
       "      <th>30451600000004</th>\n",
       "      <td>NaN</td>\n",
       "      <td>NaN</td>\n",
       "      <td>NaN</td>\n",
       "    </tr>\n",
       "    <tr>\n",
       "      <th>30451600000007</th>\n",
       "      <td>NaN</td>\n",
       "      <td>10831268192</td>\n",
       "      <td>NaN</td>\n",
       "    </tr>\n",
       "    <tr>\n",
       "      <th>30451600000008</th>\n",
       "      <td>NaN</td>\n",
       "      <td>XA014091</td>\n",
       "      <td>NaN</td>\n",
       "    </tr>\n",
       "    <tr>\n",
       "      <th>30220100001103</th>\n",
       "      <td>NaN</td>\n",
       "      <td>NaN</td>\n",
       "      <td>NaN</td>\n",
       "    </tr>\n",
       "    <tr>\n",
       "      <th>30481800000001</th>\n",
       "      <td>NaN</td>\n",
       "      <td>G15CF</td>\n",
       "      <td>NaN</td>\n",
       "    </tr>\n",
       "    <tr>\n",
       "      <th>30460300000009</th>\n",
       "      <td>NaN</td>\n",
       "      <td>NaN</td>\n",
       "      <td>NaN</td>\n",
       "    </tr>\n",
       "    <tr>\n",
       "      <th>30462500000000</th>\n",
       "      <td>NaN</td>\n",
       "      <td>NaN</td>\n",
       "      <td>NaN</td>\n",
       "    </tr>\n",
       "    <tr>\n",
       "      <th>30110100002429</th>\n",
       "      <td>NaN</td>\n",
       "      <td>01801300465</td>\n",
       "      <td>NaN</td>\n",
       "    </tr>\n",
       "    <tr>\n",
       "      <th>30112200002000</th>\n",
       "      <td>NaN</td>\n",
       "      <td>NaN</td>\n",
       "      <td>NaN</td>\n",
       "    </tr>\n",
       "    <tr>\n",
       "      <th>30432400000002</th>\n",
       "      <td>NaN</td>\n",
       "      <td>5s</td>\n",
       "      <td>NaN</td>\n",
       "    </tr>\n",
       "    <tr>\n",
       "      <th>30432500001025</th>\n",
       "      <td>w-90</td>\n",
       "      <td>NaN</td>\n",
       "      <td>NaN</td>\n",
       "    </tr>\n",
       "    <tr>\n",
       "      <th>30432700000001</th>\n",
       "      <td>NaN</td>\n",
       "      <td>NaN</td>\n",
       "      <td>NaN</td>\n",
       "    </tr>\n",
       "    <tr>\n",
       "      <th>30112600000011</th>\n",
       "      <td>NaN</td>\n",
       "      <td>5F</td>\n",
       "      <td>NaN</td>\n",
       "    </tr>\n",
       "    <tr>\n",
       "      <th>30461400000002</th>\n",
       "      <td>NaN</td>\n",
       "      <td>NaN</td>\n",
       "      <td>NaN</td>\n",
       "    </tr>\n",
       "    <tr>\n",
       "      <th>30461400000007</th>\n",
       "      <td>NaN</td>\n",
       "      <td>NaN</td>\n",
       "      <td>NaN</td>\n",
       "    </tr>\n",
       "    <tr>\n",
       "      <th>30431200000008</th>\n",
       "      <td>NaN</td>\n",
       "      <td>NaN</td>\n",
       "      <td>NaN</td>\n",
       "    </tr>\n",
       "    <tr>\n",
       "      <th>99934103044871203</th>\n",
       "      <td>0</td>\n",
       "      <td>0</td>\n",
       "      <td>NaN</td>\n",
       "    </tr>\n",
       "    <tr>\n",
       "      <th>30111800000007</th>\n",
       "      <td>NaN</td>\n",
       "      <td>NaN</td>\n",
       "      <td>NaN</td>\n",
       "    </tr>\n",
       "    <tr>\n",
       "      <th>30411200000051</th>\n",
       "      <td>NaN</td>\n",
       "      <td>d2156hm</td>\n",
       "      <td>NaN</td>\n",
       "    </tr>\n",
       "    <tr>\n",
       "      <th>30311100000966</th>\n",
       "      <td>NaN</td>\n",
       "      <td>NaN</td>\n",
       "      <td>NaN</td>\n",
       "    </tr>\n",
       "    <tr>\n",
       "      <th>30462500000003</th>\n",
       "      <td>NaN</td>\n",
       "      <td>02674303223</td>\n",
       "      <td>NaN</td>\n",
       "    </tr>\n",
       "    <tr>\n",
       "      <th>30462600000000</th>\n",
       "      <td>NaN</td>\n",
       "      <td>015998</td>\n",
       "      <td>NaN</td>\n",
       "    </tr>\n",
       "    <tr>\n",
       "      <th>30470100000000</th>\n",
       "      <td>NaN</td>\n",
       "      <td>NaN</td>\n",
       "      <td>NaN</td>\n",
       "    </tr>\n",
       "    <tr>\n",
       "      <th>30412400000009</th>\n",
       "      <td>NaN</td>\n",
       "      <td>NaN</td>\n",
       "      <td>NaN</td>\n",
       "    </tr>\n",
       "    <tr>\n",
       "      <th>30420700000060</th>\n",
       "      <td>NaN</td>\n",
       "      <td>g4aj</td>\n",
       "      <td>NaN</td>\n",
       "    </tr>\n",
       "    <tr>\n",
       "      <th>30421400000035</th>\n",
       "      <td>NaN</td>\n",
       "      <td>04584100041강</td>\n",
       "      <td>NaN</td>\n",
       "    </tr>\n",
       "    <tr>\n",
       "      <th>30112600000072</th>\n",
       "      <td>104-941</td>\n",
       "      <td>104.941</td>\n",
       "      <td>NaN</td>\n",
       "    </tr>\n",
       "    <tr>\n",
       "      <th>30282400000006</th>\n",
       "      <td>NaN</td>\n",
       "      <td>01861100304</td>\n",
       "      <td>NaN</td>\n",
       "    </tr>\n",
       "    <tr>\n",
       "      <th>30412900002072</th>\n",
       "      <td>쓰바루웨곤 4WD</td>\n",
       "      <td>015998</td>\n",
       "      <td>NaN</td>\n",
       "    </tr>\n",
       "  </tbody>\n",
       "</table>\n",
       "</div>"
      ],
      "text/plain": [
       "                       자동차형식          엔진형식   차명\n",
       "SRCMNNO                                        \n",
       "30432000000014           NaN           NaN  NaN\n",
       "30451600000004           NaN           NaN  NaN\n",
       "30451600000007           NaN   10831268192  NaN\n",
       "30451600000008           NaN      XA014091  NaN\n",
       "30220100001103           NaN           NaN  NaN\n",
       "30481800000001           NaN         G15CF  NaN\n",
       "30460300000009           NaN           NaN  NaN\n",
       "30462500000000           NaN           NaN  NaN\n",
       "30110100002429           NaN   01801300465  NaN\n",
       "30112200002000           NaN           NaN  NaN\n",
       "30432400000002           NaN            5s  NaN\n",
       "30432500001025          w-90           NaN  NaN\n",
       "30432700000001           NaN           NaN  NaN\n",
       "30112600000011           NaN            5F  NaN\n",
       "30461400000002           NaN           NaN  NaN\n",
       "30461400000007           NaN           NaN  NaN\n",
       "30431200000008           NaN           NaN  NaN\n",
       "99934103044871203          0             0  NaN\n",
       "30111800000007           NaN           NaN  NaN\n",
       "30411200000051           NaN       d2156hm  NaN\n",
       "30311100000966           NaN           NaN  NaN\n",
       "30462500000003           NaN   02674303223  NaN\n",
       "30462600000000           NaN        015998  NaN\n",
       "30470100000000           NaN           NaN  NaN\n",
       "30412400000009           NaN           NaN  NaN\n",
       "30420700000060           NaN          g4aj  NaN\n",
       "30421400000035           NaN  04584100041강  NaN\n",
       "30112600000072       104-941       104.941  NaN\n",
       "30282400000006           NaN   01861100304  NaN\n",
       "30412900002072     쓰바루웨곤 4WD        015998  NaN"
      ]
     },
     "execution_count": 136,
     "metadata": {},
     "output_type": "execute_result"
    }
   ],
   "source": [
    "src.loc[src['차명'].isnull() == True, ['자동차형식', '엔진형식', '차명']].head(30)"
   ]
  },
  {
   "cell_type": "code",
   "execution_count": 134,
   "metadata": {},
   "outputs": [
    {
     "data": {
      "text/html": [
       "<div>\n",
       "<style scoped>\n",
       "    .dataframe tbody tr th:only-of-type {\n",
       "        vertical-align: middle;\n",
       "    }\n",
       "\n",
       "    .dataframe tbody tr th {\n",
       "        vertical-align: top;\n",
       "    }\n",
       "\n",
       "    .dataframe thead th {\n",
       "        text-align: right;\n",
       "    }\n",
       "</style>\n",
       "<table border=\"1\" class=\"dataframe\">\n",
       "  <thead>\n",
       "    <tr style=\"text-align: right;\">\n",
       "      <th></th>\n",
       "      <th>자동차형식</th>\n",
       "      <th>엔진형식</th>\n",
       "      <th>차명</th>\n",
       "    </tr>\n",
       "  </thead>\n",
       "  <tbody>\n",
       "    <tr>\n",
       "      <th>517100</th>\n",
       "      <td>104-941</td>\n",
       "      <td>104.941</td>\n",
       "      <td>벤즈C280</td>\n",
       "    </tr>\n",
       "    <tr>\n",
       "      <th>1878718</th>\n",
       "      <td>104-941</td>\n",
       "      <td>112 920</td>\n",
       "      <td>벤츠C280</td>\n",
       "    </tr>\n",
       "  </tbody>\n",
       "</table>\n",
       "</div>"
      ],
      "text/plain": [
       "           자동차형식     엔진형식      차명\n",
       "517100   104-941  104.941  벤즈C280\n",
       "1878718  104-941  112 920  벤츠C280"
      ]
     },
     "execution_count": 134,
     "metadata": {},
     "output_type": "execute_result"
    }
   ],
   "source": [
    "df.loc[df['자동차형식'] == '104-941', ['자동차형식', '엔진형식', '차명']]"
   ]
  },
  {
   "cell_type": "code",
   "execution_count": 137,
   "metadata": {},
   "outputs": [
    {
     "data": {
      "text/html": [
       "<div>\n",
       "<style scoped>\n",
       "    .dataframe tbody tr th:only-of-type {\n",
       "        vertical-align: middle;\n",
       "    }\n",
       "\n",
       "    .dataframe tbody tr th {\n",
       "        vertical-align: top;\n",
       "    }\n",
       "\n",
       "    .dataframe thead th {\n",
       "        text-align: right;\n",
       "    }\n",
       "</style>\n",
       "<table border=\"1\" class=\"dataframe\">\n",
       "  <thead>\n",
       "    <tr style=\"text-align: right;\">\n",
       "      <th></th>\n",
       "      <th>자동차형식</th>\n",
       "      <th>엔진형식</th>\n",
       "      <th>차명</th>\n",
       "    </tr>\n",
       "  </thead>\n",
       "  <tbody>\n",
       "    <tr>\n",
       "      <th>1171</th>\n",
       "      <td>TM19</td>\n",
       "      <td>G15CF</td>\n",
       "      <td>르망</td>\n",
       "    </tr>\n",
       "    <tr>\n",
       "      <th>1355</th>\n",
       "      <td>TM19</td>\n",
       "      <td>G15CF</td>\n",
       "      <td>르망</td>\n",
       "    </tr>\n",
       "    <tr>\n",
       "      <th>1972</th>\n",
       "      <td>TM19</td>\n",
       "      <td>G15CF</td>\n",
       "      <td>르망</td>\n",
       "    </tr>\n",
       "    <tr>\n",
       "      <th>3418</th>\n",
       "      <td>TM19</td>\n",
       "      <td>G15CF</td>\n",
       "      <td>르망</td>\n",
       "    </tr>\n",
       "    <tr>\n",
       "      <th>4413</th>\n",
       "      <td>TA19</td>\n",
       "      <td>G15CF</td>\n",
       "      <td>르망오토</td>\n",
       "    </tr>\n",
       "    <tr>\n",
       "      <th>...</th>\n",
       "      <td>...</td>\n",
       "      <td>...</td>\n",
       "      <td>...</td>\n",
       "    </tr>\n",
       "    <tr>\n",
       "      <th>1009310</th>\n",
       "      <td>TF19</td>\n",
       "      <td>G15CF</td>\n",
       "      <td>대우 르망</td>\n",
       "    </tr>\n",
       "    <tr>\n",
       "      <th>1087713</th>\n",
       "      <td>TM19</td>\n",
       "      <td>G15CF</td>\n",
       "      <td>르망</td>\n",
       "    </tr>\n",
       "    <tr>\n",
       "      <th>2082125</th>\n",
       "      <td>TF19E</td>\n",
       "      <td>G15CF</td>\n",
       "      <td>대우 르망</td>\n",
       "    </tr>\n",
       "    <tr>\n",
       "      <th>2310856</th>\n",
       "      <td>TF19</td>\n",
       "      <td>G15CF</td>\n",
       "      <td>LEMANS</td>\n",
       "    </tr>\n",
       "    <tr>\n",
       "      <th>2538514</th>\n",
       "      <td>TF19</td>\n",
       "      <td>G15CF</td>\n",
       "      <td>르망</td>\n",
       "    </tr>\n",
       "  </tbody>\n",
       "</table>\n",
       "<p>3321 rows × 3 columns</p>\n",
       "</div>"
      ],
      "text/plain": [
       "         자동차형식   엔진형식      차명\n",
       "1171      TM19  G15CF      르망\n",
       "1355      TM19  G15CF      르망\n",
       "1972      TM19  G15CF      르망\n",
       "3418      TM19  G15CF      르망\n",
       "4413      TA19  G15CF    르망오토\n",
       "...        ...    ...     ...\n",
       "1009310   TF19  G15CF   대우 르망\n",
       "1087713   TM19  G15CF      르망\n",
       "2082125  TF19E  G15CF   대우 르망\n",
       "2310856   TF19  G15CF  LEMANS\n",
       "2538514   TF19  G15CF      르망\n",
       "\n",
       "[3321 rows x 3 columns]"
      ]
     },
     "execution_count": 137,
     "metadata": {},
     "output_type": "execute_result"
    }
   ],
   "source": [
    "df.loc[df['엔진형식'] == 'G15CF', ['자동차형식', '엔진형식', '차명']]"
   ]
  },
  {
   "cell_type": "code",
   "execution_count": 132,
   "metadata": {},
   "outputs": [
    {
     "data": {
      "text/plain": [
       "23"
      ]
     },
     "execution_count": 132,
     "metadata": {},
     "output_type": "execute_result"
    }
   ],
   "source": [
    "df['차명'].isnull().sum()"
   ]
  },
  {
   "attachments": {},
   "cell_type": "markdown",
   "metadata": {},
   "source": [
    "## 제작사 명"
   ]
  },
  {
   "cell_type": "code",
   "execution_count": 138,
   "metadata": {},
   "outputs": [
    {
     "data": {
      "text/plain": [
       "16357"
      ]
     },
     "execution_count": 138,
     "metadata": {},
     "output_type": "execute_result"
    }
   ],
   "source": [
    "src['제작사명'].isnull().sum()"
   ]
  },
  {
   "cell_type": "code",
   "execution_count": 146,
   "metadata": {},
   "outputs": [
    {
     "data": {
      "text/plain": [
       "['(주) 두성특장차',\n",
       " '자기인증면제차량',\n",
       " 'SOFA차량',\n",
       " '한국토요타자동차(주)',\n",
       " '현대자동차(주)',\n",
       " '닛산',\n",
       " 'BMW AG',\n",
       " '자일대우상용차 주식회사',\n",
       " '(주)참존임포트',\n",
       " '한국특장차(주)',\n",
       " '스카니아코리아그룹(주)',\n",
       " '타타대우상용차(주)',\n",
       " '주식회사 천하',\n",
       " '아우라(AURA)',\n",
       " '정우정공 (주)',\n",
       " '원모터스(One motors)',\n",
       " '기아자동차(주)',\n",
       " '미니앤컴팩(mini&compact)',\n",
       " '와우모터스',\n",
       " '홍성일',\n",
       " '에스알(S.R)모터스',\n",
       " '이명환',\n",
       " '세하(SEHA)',\n",
       " '(주)인피니코리아',\n",
       " '오토포럼',\n",
       " '스타자동차매매상사',\n",
       " '최영훈',\n",
       " '(주)노바모터스',\n",
       " '조인수입차',\n",
       " '(주)신광테크놀러지',\n",
       " '쌍용자동차(주)',\n",
       " '한국상용트럭(주)',\n",
       " '(주)한성특장',\n",
       " '아우디폭스바겐코리아(주)',\n",
       " '(주)한국쓰리축',\n",
       " '(주)새한에어서스펜션',\n",
       " '모터프로',\n",
       " '한신특장',\n",
       " '명성정공',\n",
       " '뉴클락모터스',\n",
       " '한남상사',\n",
       " '더블유모터스컴퍼니',\n",
       " '현대',\n",
       " '한국특장기술(주)',\n",
       " nan,\n",
       " '(주)수산특장',\n",
       " '대우자동차(주)',\n",
       " '(주)스타텍',\n",
       " '케이에이치특장(주)',\n",
       " '(유)동양특장차',\n",
       " '(주)함코',\n",
       " '(유)삼능기계',\n",
       " '동우특장차(주)',\n",
       " '(주)알텍',\n",
       " '미래특장차(주)',\n",
       " '금양기전',\n",
       " '삼성상용차(주)',\n",
       " '지엠코리아(주)',\n",
       " '아시아자동차공업(주)',\n",
       " '**기타**',\n",
       " '(주)진도',\n",
       " 'TOYOTA',\n",
       " 'MAZDA',\n",
       " '건민특장 주식회사',\n",
       " '디와이(주) 익산공장',\n",
       " '(주)한국그린피아',\n",
       " '(주)포멕특장',\n",
       " '(주)한중특장',\n",
       " '대우중공업(주)',\n",
       " '대양중공업(주)',\n",
       " '이텍산업 주식회사',\n",
       " '메리트특장차주식회사',\n",
       " '태산냉동 주식회사',\n",
       " '(주)동해기계항공',\n",
       " '(주)유로카라반',\n",
       " '(주)한국토미',\n",
       " '도쿄모터스',\n",
       " '주식회사 에타',\n",
       " '엔에스티네트웍스(주)',\n",
       " '(주)삼호정공',\n",
       " '(주)디에프에스모터스',\n",
       " '다임러트럭코리아(주)',\n",
       " '(주)우성특장',\n",
       " '탱크코리아(주)',\n",
       " '동아자동차',\n",
       " '진명자동차써비스(주)',\n",
       " '경일중공업(주)',\n",
       " '한국정밀기술(주)',\n",
       " '두성기계공업(주)',\n",
       " '한국쓰리축공업(주)',\n",
       " '다임러크라이슬러(주)',\n",
       " 'GM',\n",
       " '혼다',\n",
       " '-',\n",
       " '포르쉐',\n",
       " '대구산업',\n",
       " '에스알(주)',\n",
       " '(주)한국메리트특장',\n",
       " '코리아리모엔터프라이즈',\n",
       " '한국특장 (주)',\n",
       " '카고텍코리아(주)',\n",
       " '정부쓰리축',\n",
       " '이안모터스',\n",
       " '진도특장차(주)',\n",
       " 'MITSUBISHI',\n",
       " '대산물산(주)',\n",
       " 'I&M',\n",
       " 'SSR.Corporation.korea',\n",
       " '나비',\n",
       " '(주)콜모터스',\n",
       " '아이럭셔리모터스',\n",
       " '세화통운(주)',\n",
       " 'K.B기프트',\n",
       " '(주)오토니드모터스',\n",
       " '영서무역',\n",
       " '사브',\n",
       " '비엠더블유코리아(주)',\n",
       " '(주)기아정기',\n",
       " '서울차량공업(주)',\n",
       " '이레FRP산업',\n",
       " '(주) 고호산업',\n",
       " '유럽자동차판매(주)',\n",
       " '르노삼성자동차(주)',\n",
       " '대구기자재',\n",
       " '(주)티브이알코리아',\n",
       " '(주)에버나인',\n",
       " '이상은',\n",
       " '바탕무역',\n",
       " '자라넷',\n",
       " '주식회사 씨엔에스티',\n",
       " '에프씨에이코리아(주)',\n",
       " '렉스피아튜닝',\n",
       " '한국닛산(주)',\n",
       " '주식회사 광림기업',\n",
       " '(주)블루버드엔터프라이즈',\n",
       " '아우디',\n",
       " '재규어',\n",
       " '(주)한원모터스',\n",
       " '한국지엠주식회사',\n",
       " '대흥중공업(주)',\n",
       " 'BENZ',\n",
       " 'FORD',\n",
       " '도요다',\n",
       " '덕산특장기공사',\n",
       " '지엠아시아퍼시픽지역본부 주식회사',\n",
       " '거화',\n",
       " '한성자동차(주)',\n",
       " '볼보',\n",
       " '주식회사 평강비아이엠(B.I.M)',\n",
       " '신흥정공(주)',\n",
       " '아이씨피(주)',\n",
       " '메르세데스벤츠코리아(주)',\n",
       " '(주)덕진이엔씨',\n",
       " '(주)미래하이텍',\n",
       " '(주)화이어텍',\n",
       " '오토라인',\n",
       " '김신애',\n",
       " '채숙',\n",
       " '지월카써비스',\n",
       " '1급 번영모터스',\n",
       " '조진남',\n",
       " '박연호',\n",
       " '한철민',\n",
       " '(주)코리아인터링크',\n",
       " '영원과학(주)',\n",
       " '크린매스터세리통상',\n",
       " 'KWON CHUNG SUK',\n",
       " '박미정',\n",
       " '(주)애니씰드',\n",
       " '이주호',\n",
       " '(재)세계평화통일가정연합선교회',\n",
       " '신정개발특장차 주식회사',\n",
       " '스카이',\n",
       " '(주)티엔엘대한물류',\n",
       " '유로아이오토(주)',\n",
       " 'GUD Car',\n",
       " '더에스라인모터스(주)',\n",
       " '제너럴트레이딩',\n",
       " '(주)삼한에스모터스',\n",
       " '금창수산',\n",
       " '(주)비오에프인베스트먼트',\n",
       " '김영아',\n",
       " '(주)애드로드',\n",
       " '배윤미',\n",
       " '박미화',\n",
       " '양희영',\n",
       " '벨지움투자개발코리아(주)',\n",
       " '랏로드커스텀',\n",
       " '(주)강남산업기계공업',\n",
       " '(유)디앤씨',\n",
       " '주식회사 한서정공',\n",
       " '에스 모터스',\n",
       " '(주) 삼오특장자동차',\n",
       " '주식회사 보고',\n",
       " '신영특장엠엔씨(주)',\n",
       " '(주)수산씨에스엠',\n",
       " '크라이슬러',\n",
       " '현대정공(주)',\n",
       " '신성엔지니어링',\n",
       " '(주)지원테크',\n",
       " '(주)드림티엔에스',\n",
       " '남영코리아화이어트럭(주)',\n",
       " '삼성중공업',\n",
       " '수정특장차(주)',\n",
       " '(주)뉴테크특장',\n",
       " '일성산업',\n",
       " '광림특장공업(주)',\n",
       " '(유)대원오토',\n",
       " '어시스트유에스에이아이엔씨',\n",
       " '고재선',\n",
       " '조영미',\n",
       " '도양국제상사',\n",
       " 'SM MOTORS',\n",
       " '월드모터스',\n",
       " '에덴자동차(EDEN AUTO)',\n",
       " '국제자동차',\n",
       " '오션모터스',\n",
       " '호미은자동차',\n",
       " '포드세일즈서비스코리아(유)',\n",
       " '보령',\n",
       " '영광무역',\n",
       " '네오자동차(NEO AUTO COMPANY)',\n",
       " '씨네툴스 (CINETOOLS)',\n",
       " '(주)지너스인터내셔날',\n",
       " 'COPART INTERNATIONAL',\n",
       " '이선아',\n",
       " '(주)삼정산업',\n",
       " '엠에스모터스',\n",
       " '(주)그립스아이앤씨',\n",
       " '(주)대신정공',\n",
       " '수림정공',\n",
       " '선진정공(주)',\n",
       " '진일엔지니어링 주식회사',\n",
       " '(주) 에이엠특장',\n",
       " '(주)동양특장',\n",
       " '(주)다복특장',\n",
       " '(주)에버다임',\n",
       " '광림특장차 주식회사',\n",
       " '대지정공(주)',\n",
       " '로젠바워',\n",
       " '(주)신인천정공',\n",
       " '정우정공(주)',\n",
       " '하나무역',\n",
       " '삼영무역',\n",
       " '혼다코리아(주)',\n",
       " '우림특장산업',\n",
       " '디제이(DJ)상사',\n",
       " '대우조선',\n",
       " '대신특장산업',\n",
       " '볼보트럭코리아(주)',\n",
       " '(주) 골드밴',\n",
       " '(주)하이랜더알브이',\n",
       " '(주)밴텍디엔씨',\n",
       " '(주)한빛특장',\n",
       " '(주)성안특장',\n",
       " '청호활어특장',\n",
       " '앵글러스마린',\n",
       " '큐브텍',\n",
       " '임규택',\n",
       " 'AZENDA(아젠다)',\n",
       " '이진욱',\n",
       " '송지영',\n",
       " '디멕스인터내셔널',\n",
       " '캠트코리아',\n",
       " '(주)대진정공',\n",
       " '카트레이드',\n",
       " '광진통운(주)',\n",
       " '아스타모터스',\n",
       " '애플모터스',\n",
       " '(주)광림',\n",
       " '세진트레일러 주식회사',\n",
       " '부커셰링코리아 (주)',\n",
       " '남영자동차공업(주)',\n",
       " '삼일자동차(주)',\n",
       " '광림특장차(주)',\n",
       " '(주)앤비엔텍',\n",
       " '이석훈',\n",
       " '제트아이서비스',\n",
       " '이안 알브이 인터내셔날',\n",
       " '주식회사 케이시엠모터스',\n",
       " '(주)대아엔지니어링',\n",
       " '다이하쯔',\n",
       " '티와이모터스(주)',\n",
       " '레드라인컨버젼',\n",
       " '골프M',\n",
       " 'IMC',\n",
       " '제이케이트레이딩(JK Trading)',\n",
       " 'GT MOTORS',\n",
       " '(주)수림텔레콤',\n",
       " '이튼케이주식회사',\n",
       " '김대유',\n",
       " 'SUNGAM PRINTING EQUIPMENT(여행과 캠핑)',\n",
       " '(주) 오텍',\n",
       " '중앙특장기술(주)',\n",
       " '에스오디(주)',\n",
       " '세화자동차',\n",
       " '주식회사 유아이테크',\n",
       " '반도산업(주)',\n",
       " '(주)나노메딕스',\n",
       " '백진석',\n",
       " '(주)화인특장',\n",
       " '(주) 닛시산업',\n",
       " '주식회사 제일모빌',\n",
       " '오토트레이더',\n",
       " '카네이션(CARNATION)',\n",
       " '신한국특장 주식회사',\n",
       " '에스디 원(SD one)',\n",
       " '(주)케이원캠핑',\n",
       " '우리캠핑',\n",
       " '한빛테크원(주)',\n",
       " '(주) 메인모터스',\n",
       " '재이(Jay)Motors',\n",
       " '한불모터스(주)',\n",
       " '(주)볼보자동차코리아',\n",
       " '이규선',\n",
       " '하순임',\n",
       " '김명진',\n",
       " '(주)아성자동차정비',\n",
       " '프로스퍼인터내셔날코리아',\n",
       " '박정미',\n",
       " '이근철',\n",
       " '박동빈',\n",
       " '(사)한국스포츠피싱협회',\n",
       " '김갑순',\n",
       " '김승태',\n",
       " '(주)엘케이오토',\n",
       " '박혜림',\n",
       " '형제마린',\n",
       " 'JAKO(자코)',\n",
       " '홍원태',\n",
       " '에스앤알모터스(주)',\n",
       " '이재호',\n",
       " '이성인',\n",
       " '삼성물산(주)',\n",
       " '렉스오토갤러리(주)',\n",
       " '(주)영광화학',\n",
       " '두일테크',\n",
       " '김용담',\n",
       " '삼성장재',\n",
       " '이기용',\n",
       " '송미호,이상곤',\n",
       " '김남규',\n",
       " 'MJ모터스',\n",
       " '이진하',\n",
       " '(주)컨피던스모터스',\n",
       " 'FIAT',\n",
       " '(주)대한',\n",
       " '(주)한성티앤아이',\n",
       " '(주)삼번',\n",
       " '(주)우리특장',\n",
       " '(주)에프엠케이',\n",
       " '박계현',\n",
       " '(주)삼부',\n",
       " '지우특장산업',\n",
       " '주식회사 코지캠퍼',\n",
       " '차캐드',\n",
       " '(주)에바다',\n",
       " '경기특장개발(주)',\n",
       " '(주)동일이앤시',\n",
       " '(주)에프원텍',\n",
       " '(주)패밀리카라반',\n",
       " '본모빌',\n",
       " '신진자동차',\n",
       " '새한자동차',\n",
       " '광운자동차(주)',\n",
       " '(주)엠제이모터스',\n",
       " '최종관',\n",
       " '(주)성진',\n",
       " '주식회사 와이제이캠핑카',\n",
       " '(주)오톡션',\n",
       " '포르쉐코리아 주식회사',\n",
       " '(주)재규어랜드로버코리아',\n",
       " '퍼시픽 코치웍 코리아',\n",
       " '(주)신화플러스',\n",
       " '뉴한라산업',\n",
       " 'W motors',\n",
       " '(주)오토젠',\n",
       " '(주)동문기업',\n",
       " '(주)마노',\n",
       " '한일무역',\n",
       " '정연마린테크',\n",
       " '알브이모터스코리아(주)',\n",
       " '정통특장(주)',\n",
       " '(주)지안캠핑카',\n",
       " '대성정공',\n",
       " '주식회사 서광특장',\n",
       " '지인모터스',\n",
       " '오토씨앤티',\n",
       " '수성특장(주)',\n",
       " '오메가특장',\n",
       " '엠지엠트레이딩(주)',\n",
       " '에코필드 유한회사',\n",
       " '주식회사 카셈(KASEM Co.,Ltd)',\n",
       " '유엘피 주식회사',\n",
       " '세종상사',\n",
       " '한국항공우주연구원',\n",
       " '(주)애드터치',\n",
       " '듀오탑',\n",
       " 'HB모터스',\n",
       " 'ACI C&T(에이씨아이)',\n",
       " '신호특장공업주식회사',\n",
       " '고려에스티엠(주)',\n",
       " '(주)에어트립',\n",
       " '폭스바겐',\n",
       " '창림모아츠(주)',\n",
       " '(주)뉴삼진캐딜락',\n",
       " '나르미모터스(주)',\n",
       " '주식회사 신화특장차',\n",
       " 'Kocyigit Ahmet Muhammed',\n",
       " '이제이피코리아(주)',\n",
       " '(주)남동무역',\n",
       " '영일특장(주)',\n",
       " '(주) 두성하-드텍',\n",
       " '(주) 송림모터스',\n",
       " '(주) 동문기업',\n",
       " '(주)성창자동차',\n",
       " '한국텍(주)',\n",
       " '인터제이디',\n",
       " '(주)호룡',\n",
       " 'IGNITION (이그니션)',\n",
       " '(주)노블레스 모터스',\n",
       " '대흥특장정공 (주)',\n",
       " '(주) 진화이앤씨',\n",
       " '(주)산요자코',\n",
       " '로쏘꼬모인터내셔널',\n",
       " '엠파이어할리',\n",
       " '(주)대양특장',\n",
       " '(주)모터뱅크',\n",
       " 'YJ RV KOREA',\n",
       " '(주)와풀',\n",
       " '와이제이(YJ)',\n",
       " '대한예수교장로회평강제일교회',\n",
       " '대경특장(주)',\n",
       " 'KNC 정공',\n",
       " '피케이임포트카(주)',\n",
       " '(주)에스에스모터스',\n",
       " '최혜선',\n",
       " '(주)우주',\n",
       " '이보라',\n",
       " '아우토니드',\n",
       " 'SUBARU',\n",
       " '아이모터스',\n",
       " '신우정비공업사',\n",
       " '새한마린',\n",
       " '동우특장기공사',\n",
       " '한북특장(주)',\n",
       " '(주) 스타코',\n",
       " 'NFS Corp',\n",
       " 'ALFA ROMEO',\n",
       " '(주)영일에프알피산업',\n",
       " '(주)에드윈알브이',\n",
       " '유에스 밀리터리 세일즈 주식회사',\n",
       " '한국상용차(주)',\n",
       " '한국특장(주)',\n",
       " '(주)창조인프라',\n",
       " '고려특장(주)',\n",
       " '주식회사 제이앤제이인터내셔널',\n",
       " '(주)태경이엔지',\n",
       " '오션레포츠',\n",
       " '보성정공(주)',\n",
       " '(주)알브이투크루즈',\n",
       " '채순석',\n",
       " '(주)진보',\n",
       " '클라임코리아(주)',\n",
       " '박근택',\n",
       " '제이에스이엔지',\n",
       " '세화자동차주식회사',\n",
       " '(주)도로오토모티브',\n",
       " '만트럭버스코리아(주)',\n",
       " '(주)투데이모터스',\n",
       " '김효기',\n",
       " '주식회사 테미스',\n",
       " '이엔피시컨버젼 주식회사',\n",
       " '주식회사 신두리특장',\n",
       " '후소특장차(주)',\n",
       " 'D.K MARINE',\n",
       " '윤호식',\n",
       " '한라산업',\n",
       " '(주)피엔소프트',\n",
       " '(주)모네타엠앤티',\n",
       " '디에이치케이',\n",
       " '엠엔디유',\n",
       " '유엔아이인터내셔날',\n",
       " '김상태',\n",
       " '빅토이모터스',\n",
       " '카앤조이',\n",
       " '바스코리아',\n",
       " '(주) 빌텍',\n",
       " '(주) 리츠 모터스',\n",
       " '저먼카라반(주)',\n",
       " '가고파이원특장',\n",
       " '동아특장공업사',\n",
       " '마린시트메탈',\n",
       " '나비스타인터내셔날',\n",
       " '주식회사 힐링코리아',\n",
       " 'LMC GmbH',\n",
       " '주식회사 바울글로벌',\n",
       " '주식회사 선롱버스코리아',\n",
       " '(주)부원이엔티트레이딩',\n",
       " '현대자동차온양점',\n",
       " '스즈키',\n",
       " '(주)동호아이앤씨',\n",
       " '유로카파트앤모터스',\n",
       " '(주)천우자동차',\n",
       " '이원철',\n",
       " '한주무역',\n",
       " '(주)보보스모터스',\n",
       " '볼란테(VOLANTE)',\n",
       " '골드코퍼레이션',\n",
       " '김지영',\n",
       " 'B N I 커뮤니케이션',\n",
       " '(주) 케이앤제이모터스',\n",
       " 'RSSS.net',\n",
       " '유비통상(주)',\n",
       " '(주)씨앤진도',\n",
       " '다나특장',\n",
       " '제일세흥(주)',\n",
       " '카라반라이프(주)',\n",
       " '(주)다산중공업',\n",
       " '(주)클라비스 (clavis)',\n",
       " '락락모터스(주)',\n",
       " '스카니아',\n",
       " 'Citroen',\n",
       " '(주)세정모터스',\n",
       " '하나시스템',\n",
       " '굿데이리무진',\n",
       " '(주)델타링크아시아',\n",
       " 'SHM',\n",
       " '임태랑',\n",
       " '삼우중공업(주)',\n",
       " '(주)케이원모터스',\n",
       " '미림공업사',\n",
       " '서덕환',\n",
       " '극동유화(주) 고진모터 임포츠',\n",
       " '(주)승신',\n",
       " '흥국정공 (주)',\n",
       " 'VIPS MOTORS',\n",
       " '(주)맥스리무진',\n",
       " '신일중공업(주)',\n",
       " '엠원무역',\n",
       " 'SH캠핑',\n",
       " '삼화리모',\n",
       " '(주)일진아이앤티',\n",
       " '(주)로스오토웍스',\n",
       " '주식회사 스페이스',\n",
       " '(주)저먼오토모빌지엠비에이치',\n",
       " '라테크(주)',\n",
       " '웨스턴할리우드',\n",
       " '정립 특수자동차 트레일러',\n",
       " '소드(주)',\n",
       " '(주)벨루스앤로쿠스',\n",
       " '오희영',\n",
       " '신씨네인테리어',\n",
       " '유영란',\n",
       " '(주)한국포장',\n",
       " 'LEE KEVIN JUNESUK (이준석)',\n",
       " '카라반클럽코리아',\n",
       " '고문자',\n",
       " 'JS TRADE',\n",
       " '(주) 피벗모터스',\n",
       " '(주)알에스모터스',\n",
       " 'Joy s RV AMERICA',\n",
       " 'YI HYON CHOL',\n",
       " '이희연',\n",
       " '송영철',\n",
       " '공보길',\n",
       " '베레쉬트오토모빌',\n",
       " '히스콤',\n",
       " '박성수',\n",
       " '이교석',\n",
       " 'S. Y Motors',\n",
       " '표사이먼',\n",
       " '금호타이어(주)',\n",
       " '김태상',\n",
       " '김성환',\n",
       " '카써스(주)',\n",
       " '팀-인터네셔날',\n",
       " '(주)에스엔제이프렌차이즈',\n",
       " '유성인더스트리얼컴퍼니',\n",
       " '(주)서정로지스틱스',\n",
       " 'LK trade',\n",
       " '(주)KAB',\n",
       " '원진(주)',\n",
       " '(주)지엠케이',\n",
       " '(주)일진정공',\n",
       " '세종S.E.M',\n",
       " '광림히아브상사',\n",
       " '타임 모터스(주)',\n",
       " '승전자동차(주)',\n",
       " '유창경',\n",
       " '(주)성일특장',\n",
       " '원천특장공업주식회사',\n",
       " '(주)매직캔',\n",
       " '오토구루피',\n",
       " '좌동정비공업사2',\n",
       " '마르퀴스모터스(주)',\n",
       " '지에이치케이(주)',\n",
       " '(주)카부티끄아이보',\n",
       " '오토피아',\n",
       " '지인인터내셔널&지인모터스',\n",
       " '(주)얼바인인베스트먼트그룹',\n",
       " '(주)디엔앰트레이딩',\n",
       " 'BICMOTORS',\n",
       " '주식회사 셀코',\n",
       " '신제일정공(주)',\n",
       " '부광모터스(주)',\n",
       " '화성특장차량(주)',\n",
       " '(주)뉴딜알브이',\n",
       " '(주)엠트랜드',\n",
       " '제이앤와이모터스',\n",
       " '현대역삼역판매대리점',\n",
       " '베스텍모터 (주)',\n",
       " '골드금융거래(주)',\n",
       " '(주)카라반클럽코리아',\n",
       " '(주)한국차체',\n",
       " 'HAHM TAIK SOO',\n",
       " '(주) 에스와이오토프라자',\n",
       " '씨엑스씨 주식회사',\n",
       " '정원특장(주)',\n",
       " '(주)삼성특장',\n",
       " '동양자동차공업(주)',\n",
       " '(주)온세특장',\n",
       " '케이티트레이딩(KT TRADING)',\n",
       " '(주)밴텍캠핑카',\n",
       " '주식회사 원모터스코리아',\n",
       " '(주)에임하이글로벌',\n",
       " '(주)익스클루시브모터스',\n",
       " '아우토펠릭스',\n",
       " '지럭스',\n",
       " 'ACARS',\n",
       " '짐캐리 주식회사',\n",
       " '이성해',\n",
       " '피노코리아',\n",
       " '영진자동차무역상사',\n",
       " '(주)에이시에이서울',\n",
       " '(주)신안특장',\n",
       " '알빙코리아',\n",
       " '주식회사 트랜스테크',\n",
       " '리라모터스',\n",
       " '(주) 궁전특수자동차',\n",
       " '(주)가이젠캠핑카',\n",
       " '대광특장정비',\n",
       " '(주) 제일트라마',\n",
       " '가나무역',\n",
       " 'JG 모터파크',\n",
       " '와이디모터스',\n",
       " 'B.S.K 오토모빌',\n",
       " '서진모터스',\n",
       " '진모터스',\n",
       " '(주)위너모터스',\n",
       " 'KT 모터스',\n",
       " '블루트레이딩',\n",
       " '동우인더스(주)',\n",
       " '코팩테크노',\n",
       " '제일종합무역(주)',\n",
       " '주식회사 키친파이브',\n",
       " '(주)신성특수',\n",
       " '(주)스파코',\n",
       " '샐비지앤개러지',\n",
       " '(주)휠라이프',\n",
       " '퍼플코퍼레이션',\n",
       " 'HMI',\n",
       " '송주영',\n",
       " '(주)씨앤피모터스',\n",
       " '(주)원오토박스',\n",
       " '디앨 주식회사',\n",
       " '유일 FMC',\n",
       " '성화기술산업 (주)',\n",
       " '(주)오토퀸',\n",
       " '뷰스트너',\n",
       " '(주)코윈',\n",
       " '(주)위더스지',\n",
       " '한특사료차',\n",
       " '(주)희성양행',\n",
       " '더 유니코',\n",
       " '모터라인(Motor Line)',\n",
       " '오아시스',\n",
       " '뱅캘',\n",
       " '(주)유라시아모터스앤레인보우',\n",
       " '대한특장자동차',\n",
       " '(주)우양',\n",
       " 'LOTUS',\n",
       " '해강(주)',\n",
       " '신아특장',\n",
       " '아치해운(주)',\n",
       " '(주)국제엑스포통상',\n",
       " '유니코',\n",
       " '지엠씨(GMC)코리아',\n",
       " '대우버스(주)',\n",
       " '(주)스타카라반',\n",
       " '보현모터스(주)',\n",
       " '(주)에핑헴튼앤컴퍼니',\n",
       " '(주)서범',\n",
       " '케이트',\n",
       " '라인트레이딩',\n",
       " '현대하이모터스',\n",
       " '삼진',\n",
       " '평화특장',\n",
       " '(주)지톤그룹',\n",
       " '암코모터스(주)',\n",
       " '김정환',\n",
       " '(주) 쿠즈플러스',\n",
       " '윤승호',\n",
       " '김태진',\n",
       " '(주)더블유엠',\n",
       " '(주)한국특장',\n",
       " '(주)에이제이월드',\n",
       " '(주)에코카',\n",
       " '카올넷',\n",
       " '(주)파이어스',\n",
       " '씨제이대한통운(주)',\n",
       " '계백자동차(주)',\n",
       " '한아에스에스(주)',\n",
       " '(주)부원로드텍',\n",
       " '고준',\n",
       " '김혜영',\n",
       " '(주)중부특장',\n",
       " 'ROVER',\n",
       " '에스제이원(주)',\n",
       " '(주)아울자동차',\n",
       " '(주)부산정비사업소',\n",
       " '(주)서보테크',\n",
       " '(주)제이엠모터스',\n",
       " 'TRD',\n",
       " '(주)준앤드케이시시',\n",
       " '의료법인 희연의료재단',\n",
       " '에이앤디모터스',\n",
       " '(주)이움인터네셔널',\n",
       " '홍도찬',\n",
       " '수정인터내셔날',\n",
       " '피케이앤에스에이치모터스(주)',\n",
       " 'Excel Sky Korea',\n",
       " '천일자동차매매상사',\n",
       " '대우자동차판매(주)',\n",
       " '울산해광산업',\n",
       " '일동상사',\n",
       " '트루모터스',\n",
       " '(주)카멜리아코리아',\n",
       " '좋은차좋은가격',\n",
       " '한국후3축',\n",
       " '(주)에이원텍',\n",
       " '(주)글로벌오디피',\n",
       " '대창발전차',\n",
       " '(주)진우에스엠씨',\n",
       " '(주)성진테크',\n",
       " '(주)원제로소프트',\n",
       " '본바겐코리아',\n",
       " 'K&G MOTORS',\n",
       " '(주)한특모터스',\n",
       " '(주)부성특장',\n",
       " '위크캠프',\n",
       " '(주)케이지비고려골든박스',\n",
       " 'JK다원모터스',\n",
       " '조인 인터네셔날',\n",
       " '강원정공',\n",
       " '신영특장차(주)',\n",
       " '(주)영일서브씨',\n",
       " '(주)디엠에이씨코퍼레이션',\n",
       " '해광산업사',\n",
       " 'FERRARI',\n",
       " '주식회사 남동모터스',\n",
       " '(유)엠코파워스포츠',\n",
       " '주식회사 유니캠프',\n",
       " '(주)씨벤모터스',\n",
       " '(주)제이프로비젼',\n",
       " '사람과자동차',\n",
       " '엔씨피',\n",
       " '맥아상사',\n",
       " '임항규',\n",
       " '(주)유브이아이씨',\n",
       " '오토모바일',\n",
       " '(주)이원모터스',\n",
       " '(주)태경',\n",
       " '(주) 케이.에이.비',\n",
       " '나인특장자동차정비(주)',\n",
       " '동일석유(주)',\n",
       " '(주)이건',\n",
       " '(주)상전정공',\n",
       " '(주)동도특장차',\n",
       " '통진특장공업(주)',\n",
       " '동아탑정비공업사',\n",
       " '(주)알브이트레일러',\n",
       " '유창에스테크(주)',\n",
       " '태극자동차공업사',\n",
       " '(주)무빙애드',\n",
       " '(합자)평화산업',\n",
       " '부커구이어',\n",
       " '대한특장',\n",
       " '(주)엠아이에스',\n",
       " '유한회사비케이모터스',\n",
       " '우진교역',\n",
       " '데니지',\n",
       " '(주)씨제이테크',\n",
       " '(주)대동특장차',\n",
       " '(주)우림엔지니어링',\n",
       " '(주)우진산전 오창공장',\n",
       " '(주)리안오토(RIAN AUTO)',\n",
       " '터보모터스',\n",
       " '(주)디엠이엔지',\n",
       " 'KASAN ENGINEERING',\n",
       " '형제특장 주식회사',\n",
       " '티엔티원',\n",
       " 'EU오토모바일',\n",
       " '오숙희',\n",
       " '아베모터스',\n",
       " '(주)차앤드사람',\n",
       " '변선은',\n",
       " '김지훈',\n",
       " '주식회사 앤코래',\n",
       " 'ICMAX(AUTO)',\n",
       " '(주)반켈이엔씨',\n",
       " '와이알 모비벅스',\n",
       " '(주)에이엠티코리아',\n",
       " '인천광역시소방안전본부',\n",
       " '(주)휴네이처',\n",
       " 'KOSAC상사',\n",
       " '주식회사 우성자동차종합상사',\n",
       " '성진무역',\n",
       " '(주)비젼에이',\n",
       " '(주)안전기업',\n",
       " '준이엔지',\n",
       " '쎄븐모터스(주)',\n",
       " '(주) 유라시아통상',\n",
       " '아성무역(주)',\n",
       " '엘앤제이컨설턴트',\n",
       " '(주)GS글로벌',\n",
       " '니시쇼오토',\n",
       " '싸이언트레이딩',\n",
       " '제이앤더블유모터스(주)',\n",
       " '(주) 티티엠모터스',\n",
       " '(주) 오토액심',\n",
       " '(주)히사시컴퍼니',\n",
       " '플러스원',\n",
       " '월드트레이딩',\n",
       " '대한',\n",
       " '(주)대한씨앤티',\n",
       " '경원모터스',\n",
       " '다낭모터스',\n",
       " '(주)지브이티',\n",
       " '뉴오토네이션',\n",
       " '투인(TO IN)모터스',\n",
       " '준정무역',\n",
       " '첸들러오토갤러리',\n",
       " '(주)비투윈',\n",
       " '윌러모터스',\n",
       " '윤정준',\n",
       " '주영인터내셔널',\n",
       " '권혁래',\n",
       " '라임오토',\n",
       " '엘에스전선(주)',\n",
       " '(주)에어스트림 투유',\n",
       " '(주)엠티이엔지',\n",
       " '(주) 드림관리공사',\n",
       " '처비웨이코리아(주)',\n",
       " '한국바우텍(주)',\n",
       " '엠지쿱(MG. COOP)',\n",
       " '(주)아산홀딩스',\n",
       " '호성',\n",
       " '주식회사 대일특장',\n",
       " '엠제이모터스 주식회사',\n",
       " '다니엘특장',\n",
       " '신흥공업(주)',\n",
       " '다임폴라특장(주)',\n",
       " '(주)성우모터스',\n",
       " '(주) 윌트비',\n",
       " 'JS인터네셔널',\n",
       " '브루엄 빕스 코리아',\n",
       " '모터비즈',\n",
       " '투맨특장',\n",
       " '(주)유일이앤티',\n",
       " '(주)제이엔자동차',\n",
       " '정선영',\n",
       " 'SJ 모터스',\n",
       " '윌쏘나코리아 유한회사',\n",
       " '아우토빌',\n",
       " '(주)자유락',\n",
       " '삼부특장',\n",
       " 'HS모터스',\n",
       " '(주)씨티앤티',\n",
       " 'EVS CO.',\n",
       " '(주)브이이엔에스',\n",
       " '김나라',\n",
       " '현대FRP',\n",
       " '(주)경원기계',\n",
       " '세아수입차(주)',\n",
       " '(주)굿모닝특장',\n",
       " '에스에이치오토스(주)',\n",
       " '동아특장차',\n",
       " '한국디지텍',\n",
       " '(주) 성보테크니칼',\n",
       " '메디벤 (주)',\n",
       " '현대시멘트(주)',\n",
       " '(주)라이모자동차판매',\n",
       " '오로금속(주)',\n",
       " '케이씨(주)',\n",
       " '(주)코니코스',\n",
       " '지엠월드모터스(주)',\n",
       " '(주)제이티엔케이서울',\n",
       " '전난희',\n",
       " '티앤비공인중개사사무소',\n",
       " '(주)케이엠티씨',\n",
       " '에스와이인터내셔널',\n",
       " '장혁준',\n",
       " '자동차와 미래',\n",
       " 'T.D 모터스',\n",
       " 'H4K MOTORS',\n",
       " 'Freightliner',\n",
       " '이베코',\n",
       " '타버트',\n",
       " 'VISION MOTORS',\n",
       " '심경보',\n",
       " '제일F.R.P산업',\n",
       " '(주) 티더블유에프에스',\n",
       " '카라반모터스',\n",
       " '(주)더밴',\n",
       " '랜드로버',\n",
       " '신진기공(주)',\n",
       " '박현기',\n",
       " '한정철',\n",
       " '이창수',\n",
       " '박필호',\n",
       " '서홍기',\n",
       " '조웅',\n",
       " '박경태',\n",
       " '김효철',\n",
       " '김철민',\n",
       " '박태성',\n",
       " '강민헌',\n",
       " '이병훈',\n",
       " '에스모터스',\n",
       " '옥토기업(주)',\n",
       " 'KOAM-CAROS CORP',\n",
       " '카체인지에이원(주)(영업소)',\n",
       " '서광교역',\n",
       " '카스토리',\n",
       " '더밸류코리아',\n",
       " '스피드코프레이션(주)',\n",
       " 'BMK International',\n",
       " '(주) 유로엠모터스코리아',\n",
       " '(주)한국캐스보로',\n",
       " '(주)필오토',\n",
       " '서울특별시소방재난본부',\n",
       " '예스모터',\n",
       " '한웰(Hanwell)',\n",
       " '(주)이씨엠트레이딩',\n",
       " '제이코리아',\n",
       " '한신코퍼레이션',\n",
       " '일공일',\n",
       " '동이무역상사',\n",
       " '(주)오토갤럭시명품관',\n",
       " '(주)비엔비코리아',\n",
       " '에스케이모터스',\n",
       " '(주)에스티앤홀딩스',\n",
       " '대산특장',\n",
       " '씨엔라인',\n",
       " '볼보트럭',\n",
       " '우진공업(주)',\n",
       " '에프스카이',\n",
       " '동진특장',\n",
       " '(주)에이엔디오토모빌',\n",
       " '후소특장(주)',\n",
       " '(주)명류당',\n",
       " '(주)동구크레인',\n",
       " '대한테크닉스(주)',\n",
       " '(주)카스메카트로닉스',\n",
       " '세아특장',\n",
       " '대형모터스',\n",
       " '정우산기',\n",
       " '경북종합특장',\n",
       " '사자인터내셔널',\n",
       " '유로모빌(주)',\n",
       " '에프엔비',\n",
       " '부커셰링코리아(주)',\n",
       " '케이에이29트레이딩',\n",
       " 'JJ',\n",
       " '전복길',\n",
       " '유니크',\n",
       " 'MOTOR STAR INTERNATIONAL',\n",
       " '진.한복연구소',\n",
       " '(주) 금강엔터프라이즈',\n",
       " '매직부엌가구',\n",
       " '싸운드웨이브',\n",
       " '문화상사',\n",
       " 'OPEL',\n",
       " '(주)오엠케이',\n",
       " 'BLU M Trading. co',\n",
       " '카이로스 캠핑카',\n",
       " '다나인터내셔널',\n",
       " '(주)아티테크',\n",
       " '일신해운(주)',\n",
       " '황토모터스',\n",
       " '이헌일',\n",
       " '더스타모터스',\n",
       " '남영중기',\n",
       " '박경애',\n",
       " '해동정공',\n",
       " '태영공업',\n",
       " '에스유(SU)무역',\n",
       " '이범봉',\n",
       " '김민수',\n",
       " ...]"
      ]
     },
     "execution_count": 146,
     "metadata": {},
     "output_type": "execute_result"
    }
   ],
   "source": [
    "list(src['제작사명'].unique())"
   ]
  },
  {
   "cell_type": "code",
   "execution_count": 149,
   "metadata": {},
   "outputs": [
    {
     "data": {
      "text/html": [
       "<div>\n",
       "<style scoped>\n",
       "    .dataframe tbody tr th:only-of-type {\n",
       "        vertical-align: middle;\n",
       "    }\n",
       "\n",
       "    .dataframe tbody tr th {\n",
       "        vertical-align: top;\n",
       "    }\n",
       "\n",
       "    .dataframe thead th {\n",
       "        text-align: right;\n",
       "    }\n",
       "</style>\n",
       "<table border=\"1\" class=\"dataframe\">\n",
       "  <thead>\n",
       "    <tr style=\"text-align: right;\">\n",
       "      <th></th>\n",
       "      <th>차명</th>\n",
       "      <th>자동차형식</th>\n",
       "      <th>엔진형식</th>\n",
       "      <th>제작사명</th>\n",
       "    </tr>\n",
       "    <tr>\n",
       "      <th>SRCMNNO</th>\n",
       "      <th></th>\n",
       "      <th></th>\n",
       "      <th></th>\n",
       "      <th></th>\n",
       "    </tr>\n",
       "  </thead>\n",
       "  <tbody>\n",
       "    <tr>\n",
       "      <th>30111100000072</th>\n",
       "      <td>벤츠300E</td>\n",
       "      <td>124 030</td>\n",
       "      <td>103 983</td>\n",
       "      <td>NaN</td>\n",
       "    </tr>\n",
       "    <tr>\n",
       "      <th>30111100000073</th>\n",
       "      <td>벤즈200</td>\n",
       "      <td>NaN</td>\n",
       "      <td>10292010047640</td>\n",
       "      <td>NaN</td>\n",
       "    </tr>\n",
       "    <tr>\n",
       "      <th>30111100000076</th>\n",
       "      <td>벤츠300E</td>\n",
       "      <td>124 030</td>\n",
       "      <td>103 983</td>\n",
       "      <td>NaN</td>\n",
       "    </tr>\n",
       "    <tr>\n",
       "      <th>30111100000080</th>\n",
       "      <td>벤츠S320</td>\n",
       "      <td>140 033</td>\n",
       "      <td>104 994</td>\n",
       "      <td>NaN</td>\n",
       "    </tr>\n",
       "    <tr>\n",
       "      <th>30111100000081</th>\n",
       "      <td>볼보</td>\n",
       "      <td>740GL</td>\n",
       "      <td>B200E</td>\n",
       "      <td>NaN</td>\n",
       "    </tr>\n",
       "    <tr>\n",
       "      <th>30111100000084</th>\n",
       "      <td>머큐리세이블</td>\n",
       "      <td>MSV3-27C</td>\n",
       "      <td>MSV3</td>\n",
       "      <td>NaN</td>\n",
       "    </tr>\n",
       "    <tr>\n",
       "      <th>30111100000085</th>\n",
       "      <td>아우디A62.0E</td>\n",
       "      <td>4A</td>\n",
       "      <td>ABK</td>\n",
       "      <td>NaN</td>\n",
       "    </tr>\n",
       "    <tr>\n",
       "      <th>30111100000088</th>\n",
       "      <td>BMW</td>\n",
       "      <td>318I</td>\n",
       "      <td>184S1</td>\n",
       "      <td>NaN</td>\n",
       "    </tr>\n",
       "    <tr>\n",
       "      <th>30111100000092</th>\n",
       "      <td>랜드크루사</td>\n",
       "      <td>NaN</td>\n",
       "      <td>3F0117036</td>\n",
       "      <td>NaN</td>\n",
       "    </tr>\n",
       "    <tr>\n",
       "      <th>30111100000109</th>\n",
       "      <td>BMW318i</td>\n",
       "      <td>318IA</td>\n",
       "      <td>184S1</td>\n",
       "      <td>NaN</td>\n",
       "    </tr>\n",
       "  </tbody>\n",
       "</table>\n",
       "</div>"
      ],
      "text/plain": [
       "                       차명     자동차형식            엔진형식 제작사명\n",
       "SRCMNNO                                                 \n",
       "30111100000072     벤츠300E   124 030         103 983  NaN\n",
       "30111100000073      벤즈200       NaN  10292010047640  NaN\n",
       "30111100000076     벤츠300E   124 030         103 983  NaN\n",
       "30111100000080     벤츠S320   140 033         104 994  NaN\n",
       "30111100000081         볼보     740GL           B200E  NaN\n",
       "30111100000084     머큐리세이블  MSV3-27C            MSV3  NaN\n",
       "30111100000085  아우디A62.0E        4A             ABK  NaN\n",
       "30111100000088        BMW      318I           184S1  NaN\n",
       "30111100000092      랜드크루사       NaN       3F0117036  NaN\n",
       "30111100000109    BMW318i     318IA           184S1  NaN"
      ]
     },
     "execution_count": 149,
     "metadata": {},
     "output_type": "execute_result"
    }
   ],
   "source": [
    "src.loc[src['제작사명'].isnull() == True, ['차명', '자동차형식', '엔진형식', '제작사명']].head(10)"
   ]
  },
  {
   "cell_type": "code",
   "execution_count": 143,
   "metadata": {},
   "outputs": [
    {
     "data": {
      "text/plain": [
       "차명          57\n",
       "자동차형식     5331\n",
       "엔진형식      4164\n",
       "제작사명     16357\n",
       "dtype: int64"
      ]
     },
     "execution_count": 143,
     "metadata": {},
     "output_type": "execute_result"
    }
   ],
   "source": [
    "src.loc[src['제작사명'].isnull() == True, ['차명', '자동차형식', '엔진형식', '제작사명']].isnull().sum()"
   ]
  },
  {
   "attachments": {},
   "cell_type": "markdown",
   "metadata": {},
   "source": [
    "## 제원관리번호"
   ]
  },
  {
   "cell_type": "code",
   "execution_count": null,
   "metadata": {},
   "outputs": [],
   "source": []
  },
  {
   "attachments": {},
   "cell_type": "markdown",
   "metadata": {},
   "source": [
    "## 자동차 형식"
   ]
  },
  {
   "cell_type": "code",
   "execution_count": null,
   "metadata": {},
   "outputs": [],
   "source": []
  },
  {
   "attachments": {},
   "cell_type": "markdown",
   "metadata": {},
   "source": [
    "## 연료"
   ]
  },
  {
   "cell_type": "code",
   "execution_count": null,
   "metadata": {},
   "outputs": [],
   "source": []
  },
  {
   "attachments": {},
   "cell_type": "markdown",
   "metadata": {},
   "source": [
    "## 엔진형식"
   ]
  },
  {
   "cell_type": "code",
   "execution_count": null,
   "metadata": {},
   "outputs": [],
   "source": []
  }
 ],
 "metadata": {
  "kernelspec": {
   "display_name": "base",
   "language": "python",
   "name": "python3"
  },
  "language_info": {
   "codemirror_mode": {
    "name": "ipython",
    "version": 3
   },
   "file_extension": ".py",
   "mimetype": "text/x-python",
   "name": "python",
   "nbconvert_exporter": "python",
   "pygments_lexer": "ipython3",
   "version": "3.9.13"
  },
  "orig_nbformat": 4,
  "vscode": {
   "interpreter": {
    "hash": "ad2bdc8ecc057115af97d19610ffacc2b4e99fae6737bb82f5d7fb13d2f2c186"
   }
  }
 },
 "nbformat": 4,
 "nbformat_minor": 2
}
