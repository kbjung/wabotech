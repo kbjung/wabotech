{
 "cells": [
  {
   "attachments": {},
   "cell_type": "markdown",
   "metadata": {},
   "source": [
    "# Library"
   ]
  },
  {
   "cell_type": "code",
   "execution_count": 1,
   "metadata": {},
   "outputs": [],
   "source": [
    "import pandas as pd\n",
    "import os\n",
    "from datetime import datetime"
   ]
  },
  {
   "cell_type": "code",
   "execution_count": 2,
   "metadata": {},
   "outputs": [],
   "source": [
    "# 소수점 옵션\n",
    "pd.options.display.float_format = '{:.2f}'.format\n",
    "# pd.reset_option('display.float_format')"
   ]
  },
  {
   "attachments": {},
   "cell_type": "markdown",
   "metadata": {},
   "source": [
    "# fold"
   ]
  },
  {
   "cell_type": "code",
   "execution_count": 3,
   "metadata": {},
   "outputs": [],
   "source": [
    "raw1_fold = 'D:/data/big2/BD1/raw'\n",
    "df1_fold = 'D:/data/big2/BD1/df'\n",
    "ods_fold = 'D:/data/big2/ODS'\n",
    "big2_fold = 'D:/data/big2'"
   ]
  },
  {
   "attachments": {},
   "cell_type": "markdown",
   "metadata": {},
   "source": [
    "# 차량 말소 현황"
   ]
  },
  {
   "attachments": {},
   "cell_type": "markdown",
   "metadata": {},
   "source": [
    "# [로드] 전처리 완료 파일"
   ]
  },
  {
   "cell_type": "code",
   "execution_count": 4,
   "metadata": {},
   "outputs": [
    {
     "name": "stdout",
     "output_type": "stream",
     "text": [
      "<class 'pandas.core.frame.DataFrame'>\n",
      "RangeIndex: 3642216 entries, 0 to 3642215\n",
      "Data columns (total 32 columns):\n",
      " #   Column       Dtype  \n",
      "---  ------       -----  \n",
      " 0   차량관리번호       object \n",
      " 1   본거지법정동코드     int64  \n",
      " 2   차종_등록정보      object \n",
      " 3   차대번호         object \n",
      " 4   최초등록일자       int64  \n",
      " 5   차량연식         int64  \n",
      " 6   제원관리번호       object \n",
      " 7   배출가스인증번호     object \n",
      " 8   배출가스등급       object \n",
      " 9   차량말소YN_등록정보  object \n",
      " 10  차명           object \n",
      " 11  차종유형(소분류)    object \n",
      " 12  제작사명         object \n",
      " 13  연료           object \n",
      " 14  등급           object \n",
      " 15  차량말소YN_변경이력  object \n",
      " 16  변경일자         int64  \n",
      " 17  변경구분코드       float64\n",
      " 18  법정동코드        int64  \n",
      " 19  시도           object \n",
      " 20  시구군          object \n",
      " 21  읍면동          object \n",
      " 22  리            object \n",
      " 23  지역3          float64\n",
      " 24  폐지여부         object \n",
      " 25  대기관리권역       object \n",
      " 26  대기관리권역YN     object \n",
      " 27  저감장치         object \n",
      " 28  변경일자_년       int64  \n",
      " 29  변경일자_월       int64  \n",
      " 30  변경일자_일       int64  \n",
      " 31  변경일자_년_월     float64\n",
      "dtypes: float64(3), int64(8), object(21)\n",
      "memory usage: 889.2+ MB\n"
     ]
    }
   ],
   "source": [
    "# about 19.4s\n",
    "name = '말소정보_전처리완료'\n",
    "file_name = f'{name}.csv'\n",
    "df = pd.read_csv(os.path.join(ods_fold, file_name), low_memory=False)\n",
    "df.info()"
   ]
  },
  {
   "attachments": {},
   "cell_type": "markdown",
   "metadata": {},
   "source": [
    "## 7\\. 월별 폐차 현황"
   ]
  },
  {
   "cell_type": "code",
   "execution_count": 5,
   "metadata": {},
   "outputs": [
    {
     "data": {
      "text/plain": [
       "(3642216, 32)"
      ]
     },
     "execution_count": 5,
     "metadata": {},
     "output_type": "execute_result"
    }
   ],
   "source": [
    "df.shape"
   ]
  },
  {
   "cell_type": "code",
   "execution_count": 6,
   "metadata": {},
   "outputs": [
    {
     "data": {
      "text/plain": [
       "Index(['차량관리번호', '본거지법정동코드', '차종_등록정보', '차대번호', '최초등록일자', '차량연식', '제원관리번호',\n",
       "       '배출가스인증번호', '배출가스등급', '차량말소YN_등록정보', '차명', '차종유형(소분류)', '제작사명', '연료',\n",
       "       '등급', '차량말소YN_변경이력', '변경일자', '변경구분코드', '법정동코드', '시도', '시구군', '읍면동', '리',\n",
       "       '지역3', '폐지여부', '대기관리권역', '대기관리권역YN', '저감장치', '변경일자_년', '변경일자_월',\n",
       "       '변경일자_일', '변경일자_년_월'],\n",
       "      dtype='object')"
      ]
     },
     "execution_count": 6,
     "metadata": {},
     "output_type": "execute_result"
    }
   ],
   "source": [
    "df.columns"
   ]
  },
  {
   "cell_type": "code",
   "execution_count": 7,
   "metadata": {},
   "outputs": [
    {
     "data": {
      "text/plain": [
       "array(['X', '2.0', '5.0', '3.0', '4.0', '1.0', nan], dtype=object)"
      ]
     },
     "execution_count": 7,
     "metadata": {},
     "output_type": "execute_result"
    }
   ],
   "source": [
    "df['등급'].unique()"
   ]
  },
  {
   "cell_type": "code",
   "execution_count": 8,
   "metadata": {},
   "outputs": [
    {
     "data": {
      "text/plain": [
       "등급\n",
       "3.0    1198403\n",
       "5.0    1189945\n",
       "2.0     783791\n",
       "4.0     366939\n",
       "1.0      88793\n",
       "X        14313\n",
       "NaN         32\n",
       "Name: count, dtype: int64"
      ]
     },
     "execution_count": 8,
     "metadata": {},
     "output_type": "execute_result"
    }
   ],
   "source": [
    "df['등급'].value_counts(dropna=False)"
   ]
  },
  {
   "cell_type": "code",
   "execution_count": 9,
   "metadata": {},
   "outputs": [
    {
     "data": {
      "text/plain": [
       "(366939, 32)"
      ]
     },
     "execution_count": 9,
     "metadata": {},
     "output_type": "execute_result"
    }
   ],
   "source": [
    "df1 = df.loc[df['등급'] == '4.0'].reset_index(drop=True)\n",
    "df1.shape"
   ]
  },
  {
   "attachments": {},
   "cell_type": "markdown",
   "metadata": {},
   "source": [
    "### 컬럼 수정"
   ]
  },
  {
   "cell_type": "code",
   "execution_count": 15,
   "metadata": {},
   "outputs": [
    {
     "data": {
      "text/plain": [
       "Index(['차량관리번호', '본거지법정동코드', '차종_등록정보', '차대번호', '최초등록일자', '차량연식', '제원관리번호',\n",
       "       '배출가스인증번호', '배출가스등급', '차량말소YN_등록정보', '차명', '차종유형(소분류)', '제작사명', '연료',\n",
       "       '등급', '차량말소YN_변경이력', '변경일자', '변경구분코드', '법정동코드', '시도', '시구군', '읍면동', '리',\n",
       "       '지역3', '폐지여부', '대기관리권역', '대기관리권역YN', '저감장치', '변경일자_년', '변경일자_월',\n",
       "       '변경일자_일', '변경일자_년_월'],\n",
       "      dtype='object')"
      ]
     },
     "execution_count": 15,
     "metadata": {},
     "output_type": "execute_result"
    }
   ],
   "source": [
    "df1.columns"
   ]
  },
  {
   "cell_type": "code",
   "execution_count": 11,
   "metadata": {},
   "outputs": [
    {
     "data": {
      "text/plain": [
       "dtype('int64')"
      ]
     },
     "execution_count": 11,
     "metadata": {},
     "output_type": "execute_result"
    }
   ],
   "source": [
    "df1['변경일자'].dtype"
   ]
  },
  {
   "cell_type": "code",
   "execution_count": 12,
   "metadata": {},
   "outputs": [],
   "source": [
    "df1['변경일자'] = df1['변경일자'].astype('str')"
   ]
  },
  {
   "cell_type": "code",
   "execution_count": 13,
   "metadata": {},
   "outputs": [],
   "source": [
    "df1['변경일자_년'] = df1['변경일자'].str[:4]\n",
    "df1['변경일자_월'] = df1['변경일자'].str[4:6]\n",
    "df1['변경일자_일'] = df1['변경일자'].str[6:8]"
   ]
  },
  {
   "attachments": {},
   "cell_type": "markdown",
   "metadata": {},
   "source": [
    "### [출력] 4등급 말소 현황"
   ]
  },
  {
   "cell_type": "code",
   "execution_count": 16,
   "metadata": {},
   "outputs": [
    {
     "data": {
      "text/plain": [
       "Index(['차량관리번호', '차종_등록정보', '차대번호', '제원관리번호', '배출가스인증번호', '차량말소YN_등록정보',\n",
       "       '배출가스등급', '차량말소YN_변경이력', '변경일자', '법정동코드', '시도', '시구군', '변경일자_년',\n",
       "       '변경일자_월', '변경일자_일'],\n",
       "      dtype='object')"
      ]
     },
     "execution_count": 16,
     "metadata": {},
     "output_type": "execute_result"
    }
   ],
   "source": [
    "df2 = df1[[\n",
    "    '차량관리번호',\n",
    "    '차종_등록정보',\n",
    "    '차대번호', \n",
    "    '제원관리번호', \n",
    "    '배출가스인증번호', \n",
    "    '차량말소YN_등록정보',\n",
    "    '배출가스등급',\n",
    "    '차량말소YN_변경이력', \n",
    "    '변경일자',\n",
    "    '법정동코드',\n",
    "    '시도',\n",
    "    '시구군',\n",
    "    '변경일자_년',  \n",
    "    '변경일자_월',  \n",
    "    '변경일자_일',  \n",
    "    ]]\n",
    "df2.columns"
   ]
  },
  {
   "cell_type": "code",
   "execution_count": 17,
   "metadata": {},
   "outputs": [],
   "source": [
    "chc_col = {\n",
    "    '차량관리번호':'VHCL_MNG_NO',\n",
    "    '차종_등록정보':'VHCTY_CD',\n",
    "    '차대번호':'VIN', \n",
    "    '제원관리번호':'MANG_MNG_NO', \n",
    "    '배출가스인증번호':'EXHST_GAS_CERT_NO', \n",
    "    '차량말소YN_등록정보':'VHCL_ERSR_YN_REG_INFO',\n",
    "    '배출가스등급':'EXHST_GAS_GRD_CD',\n",
    "    '차량말소YN_변경이력':'VHCL_ERSR_YN_CHG_HST', \n",
    "    '변경일자':'CHG_YMD', \n",
    "    '법정동코드':'STDG_CD',\n",
    "    '시도':'CTPV',\n",
    "    '시구군':'SGG',\n",
    "    '변경일자_년':'CHG_YMD_YR',  \n",
    "    '변경일자_월':'CHG_YMD_MM',  \n",
    "    '변경일자_일':'CHG_YMD_DY',  \n",
    "}"
   ]
  },
  {
   "cell_type": "code",
   "execution_count": 18,
   "metadata": {},
   "outputs": [
    {
     "data": {
      "text/plain": [
       "Index(['VHCL_MNG_NO', 'VHCTY_CD', 'VIN', 'MANG_MNG_NO', 'EXHST_GAS_CERT_NO',\n",
       "       'VHCL_ERSR_YN_REG_INFO', 'EXHST_GAS_GRD_CD', 'VHCL_ERSR_YN_CHG_HST',\n",
       "       'CHG_YMD', 'STDG_CD', 'CTPV', 'SGG', 'CHG_YMD_YR', 'CHG_YMD_MM',\n",
       "       'CHG_YMD_DY'],\n",
       "      dtype='object')"
      ]
     },
     "execution_count": 18,
     "metadata": {},
     "output_type": "execute_result"
    }
   ],
   "source": [
    "df2 = df2.rename(columns=chc_col)\n",
    "df2.columns"
   ]
  },
  {
   "cell_type": "code",
   "execution_count": 19,
   "metadata": {},
   "outputs": [
    {
     "data": {
      "text/plain": [
       "(366939, 15)"
      ]
     },
     "execution_count": 19,
     "metadata": {},
     "output_type": "execute_result"
    }
   ],
   "source": [
    "df2.shape"
   ]
  },
  {
   "cell_type": "code",
   "execution_count": 20,
   "metadata": {},
   "outputs": [
    {
     "data": {
      "text/plain": [
       "'2023.06.08_PM.04.21.57'"
      ]
     },
     "execution_count": 20,
     "metadata": {},
     "output_type": "execute_result"
    }
   ],
   "source": [
    "today_date = datetime.today().strftime(\"%Y.%m.%d_%p.%I.%M.%S\")\n",
    "today_date"
   ]
  },
  {
   "cell_type": "code",
   "execution_count": 21,
   "metadata": {},
   "outputs": [],
   "source": [
    "# about 8.7s\n",
    "file_name = f'BD1-2_STD_BD_GRD4_ERSR_RSLT.csv'\n",
    "df2.to_csv(os.path.join(df1_fold, file_name), index=False)"
   ]
  },
  {
   "attachments": {},
   "cell_type": "markdown",
   "metadata": {},
   "source": [
    "# 코드 마지막"
   ]
  }
 ],
 "metadata": {
  "kernelspec": {
   "display_name": "base",
   "language": "python",
   "name": "python3"
  },
  "language_info": {
   "codemirror_mode": {
    "name": "ipython",
    "version": 3
   },
   "file_extension": ".py",
   "mimetype": "text/x-python",
   "name": "python",
   "nbconvert_exporter": "python",
   "pygments_lexer": "ipython3",
   "version": "3.9.13"
  },
  "orig_nbformat": 4
 },
 "nbformat": 4,
 "nbformat_minor": 2
}
