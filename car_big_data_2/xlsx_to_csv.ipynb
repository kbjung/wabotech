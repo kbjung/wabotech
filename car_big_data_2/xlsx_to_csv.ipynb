{
 "cells": [
  {
   "cell_type": "code",
   "execution_count": 17,
   "metadata": {},
   "outputs": [],
   "source": [
    "import pandas as pd\n",
    "import os\n",
    "from glob import glob"
   ]
  },
  {
   "cell_type": "code",
   "execution_count": 2,
   "metadata": {},
   "outputs": [],
   "source": [
    "drive = 'D'"
   ]
  },
  {
   "cell_type": "code",
   "execution_count": 3,
   "metadata": {},
   "outputs": [],
   "source": [
    "df1_fold = f'{drive}:/data/big2/BD1/df'\n",
    "df3_fold = f'{drive}:/data/big2/BD3/df'"
   ]
  },
  {
   "cell_type": "code",
   "execution_count": 13,
   "metadata": {},
   "outputs": [],
   "source": [
    "def etoc(name, fold):\n",
    "    file_name = f'{name}.xlsx'\n",
    "    df = pd.read_excel(os.path.join(fold, file_name))\n",
    "    df.to_csv(os.path.join(fold, f'{name}.csv'), index=False)\n",
    "    print(os.path.join(fold, f'{name}.csv 출력완료.'))"
   ]
  },
  {
   "cell_type": "code",
   "execution_count": 14,
   "metadata": {},
   "outputs": [],
   "source": [
    "def ctoc(name, fold):\n",
    "    file_name = f'{name}.csv'\n",
    "    df = pd.read_csv(os.path.join(fold, file_name), encoding='cp949')\n",
    "    df.to_csv(os.path.join(fold, f'{name}.csv'), index=False)\n",
    "    print(os.path.join(fold, f'{name}.csv 출력완료.'))"
   ]
  },
  {
   "cell_type": "code",
   "execution_count": 21,
   "metadata": {},
   "outputs": [],
   "source": [
    "def multi_etoc(fold):\n",
    "    for file_name in glob(os.path.join(fold, '*.xlsx')):\n",
    "        name = file_name.split('\\\\')[-1]\n",
    "        csv_name = name.split('.')[0] + '.csv'\n",
    "        df = pd.read_excel(os.path.join(fold, name))\n",
    "        df.to_csv(os.path.join(fold, csv_name), index=False)\n",
    "        print(os.path.join(fold, csv_name), '출력완료.')"
   ]
  },
  {
   "cell_type": "code",
   "execution_count": 16,
   "metadata": {},
   "outputs": [
    {
     "name": "stdout",
     "output_type": "stream",
     "text": [
      "D:/data/big2/BD1/df\\STD_BD_GRD4_EXHST_GAS_MSS_TOT.csv 출력완료.\n"
     ]
    }
   ],
   "source": [
    "name = 'STD_BD_GRD4_EXHST_GAS_MSS_TOT'\n",
    "fold = df1_fold\n",
    "etoc(name, fold)"
   ]
  },
  {
   "cell_type": "code",
   "execution_count": null,
   "metadata": {},
   "outputs": [],
   "source": [
    "name = 'STD_BD_GRD4_RGN_CURSTT'\n",
    "fold = df1_fold\n",
    "ctoc(name, fold)"
   ]
  },
  {
   "cell_type": "code",
   "execution_count": 22,
   "metadata": {},
   "outputs": [
    {
     "name": "stdout",
     "output_type": "stream",
     "text": [
      "D:/data/big2/BD3/df\\STD_BD_CAR_CURSTT_MOD.csv 출력완료.\n",
      "D:/data/big2/BD3/df\\STD_BD_CAR_CURSTT_MOD2.csv 출력완료.\n",
      "D:/data/big2/BD3/df\\STD_BD_CAR_PRET.csv 출력완료.\n",
      "D:/data/big2/BD3/df\\STD_BD_CAR_REG_MKCNT.csv 출력완료.\n",
      "D:/data/big2/BD3/df\\STD_BD_ECO_CAR_PRET.csv 출력완료.\n",
      "D:/data/big2/BD3/df\\STD_BD_GRD4_DS_CRRLTN_CFFCNT.csv 출력완료.\n",
      "D:/data/big2/BD3/df\\STD_BD_GRD5_DS_DPF_CRRLTN_CFFCNT.csv 출력완료.\n",
      "D:/data/big2/BD3/df\\STD_BD_GRD5_DS_ELPDSRC_CRRLTN_CFFCNT.csv 출력완료.\n",
      "D:/data/big2/BD3/df\\STD_BD_GRD5_ELPDSRC_CURSTT.csv 출력완료.\n",
      "D:/data/big2/BD3/df\\STD_BD_GRD5_LEM_N_MOD.csv 출력완료.\n"
     ]
    }
   ],
   "source": [
    "multi_etoc(df3_fold)"
   ]
  },
  {
   "cell_type": "code",
   "execution_count": 21,
   "metadata": {},
   "outputs": [
    {
     "name": "stdout",
     "output_type": "stream",
     "text": [
      "<class 'pandas.core.frame.DataFrame'>\n",
      "RangeIndex: 7 entries, 0 to 6\n",
      "Data columns (total 9 columns):\n",
      " #   Column               Non-Null Count  Dtype  \n",
      "---  ------               --------------  -----  \n",
      " 0   LIST                 7 non-null      object \n",
      " 1   NOLOD_SMO_MEVLU1     7 non-null      float64\n",
      " 2   DY_AVRG_DRVNG_DSTNC  7 non-null      float64\n",
      " 3   RCNT_INSP_ELPSD_WHL  7 non-null      float64\n",
      " 4   RUN_LMT_CRDN_INFO    7 non-null      float64\n",
      " 5   SPRT_CST_ELPDSRC     7 non-null      float64\n",
      " 6   DSPLVL               7 non-null      float64\n",
      " 7   TOTL_WGHT            7 non-null      float64\n",
      " 8   TOT_CRRLTN_CFFCNT    7 non-null      float64\n",
      "dtypes: float64(8), object(1)\n",
      "memory usage: 632.0+ bytes\n"
     ]
    }
   ],
   "source": [
    "# about \n",
    "name = 'STD_BD_GRD5_DS_ELPDSRC_CRRLTN_CFFCNT'\n",
    "file_name = f'{name}.xlsx'\n",
    "df = pd.read_excel(os.path.join(df1_fold, file_name))\n",
    "df.info()"
   ]
  },
  {
   "cell_type": "code",
   "execution_count": 5,
   "metadata": {},
   "outputs": [
    {
     "name": "stdout",
     "output_type": "stream",
     "text": [
      "<class 'pandas.core.frame.DataFrame'>\n",
      "RangeIndex: 1038412 entries, 0 to 1038411\n",
      "Data columns (total 12 columns):\n",
      " #   Column               Non-Null Count    Dtype  \n",
      "---  ------               --------------    -----  \n",
      " 0   VIN                  1038412 non-null  object \n",
      " 1   VHRNO                1038412 non-null  object \n",
      " 2   STDG_CD              1038412 non-null  int64  \n",
      " 3   YRIDNW               1038412 non-null  int64  \n",
      " 4   PURPS_CD2            1038412 non-null  object \n",
      " 5   VHCTY_CD             1038412 non-null  object \n",
      " 6   VHCTY_TY             1038412 non-null  object \n",
      " 7   SELCT_PNT            1038412 non-null  float64\n",
      " 8   NOLOD_SMO_MEVLU1     1038412 non-null  float64\n",
      " 9   DY_AVRG_DRVNG_DSTNC  1038412 non-null  float64\n",
      " 10  RCNT_INSP_ELPSD_WHL  1038412 non-null  float64\n",
      " 11  RUN_LMT_NOCS         1038412 non-null  float64\n",
      "dtypes: float64(5), int64(2), object(5)\n",
      "memory usage: 95.1+ MB\n"
     ]
    }
   ],
   "source": [
    "# about \n",
    "name = 'STD_BD_GRD4_LEM_PRIO_ORD_SELCT_CURSTT'\n",
    "file_name = f'{name}.csv'\n",
    "df = pd.read_csv(os.path.join(df3_fold, file_name))\n",
    "df.info()"
   ]
  },
  {
   "cell_type": "code",
   "execution_count": 6,
   "metadata": {},
   "outputs": [
    {
     "data": {
      "text/plain": [
       "Index(['VIN', 'VHRNO', 'STDG_CD', 'YRIDNW', 'PURPS_CD2', 'VHCTY_CD',\n",
       "       'VHCTY_TY', 'SELCT_PNT', 'NOLOD_SMO_MEVLU1', 'DY_AVRG_DRVNG_DSTNC',\n",
       "       'RCNT_INSP_ELPSD_WHL', 'RUN_LMT_NOCS'],\n",
       "      dtype='object')"
      ]
     },
     "execution_count": 6,
     "metadata": {},
     "output_type": "execute_result"
    }
   ],
   "source": [
    "df.columns"
   ]
  },
  {
   "cell_type": "code",
   "execution_count": 28,
   "metadata": {},
   "outputs": [],
   "source": [
    "chc_dict = {\n",
    "    '적발지역':'DSCL_RGN',\n",
    "    '적발시도':'DSCL_CTPV',\n",
    "    '차대번호':'VIN',\n",
    "    '계절제_1차':'SEASON_1ODR_CRDN_NOCS',\n",
    "    '계절제_2차':'SEASON_2ODR_CRDN_NOCS',\n",
    "    '계절제_3차':'SEASON_3ODR_CRDN_NOCS',\n",
    "    '계절제_4차':'SEASON_4ODR_CRDN_NOCS',\n",
    "    '차종':'VHCTY',\n",
    "    '차종유형':'VHCTY_TY',\n",
    "            }"
   ]
  },
  {
   "cell_type": "code",
   "execution_count": 29,
   "metadata": {},
   "outputs": [
    {
     "data": {
      "text/plain": [
       "Index(['DSCL_RGN', 'DSCL_CTPV', 'VIN', 'SEASON_1ODR_CRDN_NOCS',\n",
       "       'SEASON_2ODR_CRDN_NOCS', 'SEASON_3ODR_CRDN_NOCS',\n",
       "       'SEASON_4ODR_CRDN_NOCS', 'VHCTY', 'VHCTY_TY'],\n",
       "      dtype='object')"
      ]
     },
     "execution_count": 29,
     "metadata": {},
     "output_type": "execute_result"
    }
   ],
   "source": [
    "df = df.rename(columns=chc_dict)\n",
    "df.columns"
   ]
  },
  {
   "cell_type": "code",
   "execution_count": 30,
   "metadata": {},
   "outputs": [],
   "source": [
    "df.to_csv(os.path.join(df3_fold, f'{name}.csv'), index=False)"
   ]
  },
  {
   "cell_type": "code",
   "execution_count": null,
   "metadata": {},
   "outputs": [],
   "source": []
  }
 ],
 "metadata": {
  "kernelspec": {
   "display_name": "base",
   "language": "python",
   "name": "python3"
  },
  "language_info": {
   "codemirror_mode": {
    "name": "ipython",
    "version": 3
   },
   "file_extension": ".py",
   "mimetype": "text/x-python",
   "name": "python",
   "nbconvert_exporter": "python",
   "pygments_lexer": "ipython3",
   "version": "3.9.13"
  },
  "orig_nbformat": 4
 },
 "nbformat": 4,
 "nbformat_minor": 2
}
