{
 "cells": [
  {
   "attachments": {},
   "cell_type": "markdown",
   "metadata": {},
   "source": [
    "# Library"
   ]
  },
  {
   "cell_type": "code",
   "execution_count": 1,
   "metadata": {},
   "outputs": [],
   "source": [
    "import pandas as pd\n",
    "import numpy as np\n",
    "import os\n",
    "from tqdm import tqdm"
   ]
  },
  {
   "attachments": {},
   "cell_type": "markdown",
   "metadata": {},
   "source": [
    "# [추출] 4등급 관련 파일"
   ]
  },
  {
   "attachments": {},
   "cell_type": "markdown",
   "metadata": {},
   "source": [
    "## [로드] 자동차 등록정보&제원정보"
   ]
  },
  {
   "cell_type": "code",
   "execution_count": 2,
   "metadata": {},
   "outputs": [
    {
     "name": "stderr",
     "output_type": "stream",
     "text": [
      "C:\\Users\\kbjung\\AppData\\Local\\Temp\\ipykernel_17664\\4162814292.py:2: DtypeWarning: Columns (11,13,17,37) have mixed types. Specify dtype option on import or set low_memory=False.\n",
      "  df = pd.read_csv('data/[ODS][G4]자동차_등록정보&자동차_제원정보(2022.12.29).csv')\n"
     ]
    },
    {
     "name": "stdout",
     "output_type": "stream",
     "text": [
      "<class 'pandas.core.frame.DataFrame'>\n",
      "RangeIndex: 1898816 entries, 0 to 1898815\n",
      "Data columns (total 40 columns):\n",
      " #   Column       Dtype  \n",
      "---  ------       -----  \n",
      " 0   차량관리번호       object \n",
      " 1   차량등록번호       object \n",
      " 2   본거지법정동코드     int64  \n",
      " 3   소유자구분        object \n",
      " 4   차종_등록정보      object \n",
      " 5   용도           object \n",
      " 6   차대번호         object \n",
      " 7   최초등록일자       int64  \n",
      " 8   차량연식         int64  \n",
      " 9   차량제작일자       float64\n",
      " 10  배출가스검사유효일자   float64\n",
      " 11  제원관리번호       object \n",
      " 12  배출가스인증번호     object \n",
      " 13  배출가스등급       object \n",
      " 14  저공해조치종류      float64\n",
      " 15  저공해조치구조변경YN  object \n",
      " 16  차량말소YN       object \n",
      " 17  취득일자         object \n",
      " 18  취득금액         float64\n",
      " 19  차명           object \n",
      " 20  차종_제원정보      object \n",
      " 21  차종분류         object \n",
      " 22  차종유형         object \n",
      " 23  자동차형식        object \n",
      " 24  제작사명         object \n",
      " 25  연료           object \n",
      " 26  엔진형식         object \n",
      " 27  총중량          float64\n",
      " 28  적재중량         float64\n",
      " 29  엔진출력         float64\n",
      " 30  배기량          float64\n",
      " 31  승차인원         float64\n",
      " 32  차량길이         float64\n",
      " 33  차량너비         float64\n",
      " 34  차량높이         float64\n",
      " 35  원산지명         object \n",
      " 36  삭제YN         object \n",
      " 37  승인일자         object \n",
      " 38  구동형식         float64\n",
      " 39  변속기종류        object \n",
      "dtypes: float64(13), int64(3), object(24)\n",
      "memory usage: 579.5+ MB\n"
     ]
    }
   ],
   "source": [
    "# about 11s\n",
    "df = pd.read_csv('data/[ODS][G4]자동차_등록정보&자동차_제원정보(2022.12.29).csv')\n",
    "df.info()"
   ]
  },
  {
   "cell_type": "code",
   "execution_count": 3,
   "metadata": {},
   "outputs": [
    {
     "data": {
      "text/plain": [
       "(1898816, 2)"
      ]
     },
     "execution_count": 3,
     "metadata": {},
     "output_type": "execute_result"
    }
   ],
   "source": [
    "vin = df[['차대번호', '제원관리번호']]\n",
    "vin.shape"
   ]
  },
  {
   "attachments": {},
   "cell_type": "markdown",
   "metadata": {},
   "source": [
    "## 말소 적용"
   ]
  },
  {
   "cell_type": "code",
   "execution_count": 4,
   "metadata": {},
   "outputs": [
    {
     "data": {
      "text/plain": [
       "N    1511251\n",
       "Y     387565\n",
       "Name: 차량말소YN, dtype: int64"
      ]
     },
     "execution_count": 4,
     "metadata": {},
     "output_type": "execute_result"
    }
   ],
   "source": [
    "df['차량말소YN'].value_counts()"
   ]
  },
  {
   "cell_type": "code",
   "execution_count": 5,
   "metadata": {},
   "outputs": [
    {
     "data": {
      "text/plain": [
       "(1511251, 40)"
      ]
     },
     "execution_count": 5,
     "metadata": {},
     "output_type": "execute_result"
    }
   ],
   "source": [
    "df1 = df[df['차량말소YN'] == 'N'].reset_index(drop=True)\n",
    "df1.shape"
   ]
  },
  {
   "attachments": {},
   "cell_type": "markdown",
   "metadata": {},
   "source": [
    "### [출력] 말소 제외"
   ]
  },
  {
   "cell_type": "code",
   "execution_count": 6,
   "metadata": {},
   "outputs": [],
   "source": [
    "df1.to_csv('data/[ODS][G4]등록정보&제원정보(말소적용)(2022.12.29).csv', index=False)"
   ]
  },
  {
   "cell_type": "code",
   "execution_count": 7,
   "metadata": {},
   "outputs": [
    {
     "data": {
      "text/plain": [
       "(1511251, 2)"
      ]
     },
     "execution_count": 7,
     "metadata": {},
     "output_type": "execute_result"
    }
   ],
   "source": [
    "vin2 = df1[['차대번호', '제원관리번호']]\n",
    "vin2.shape"
   ]
  },
  {
   "attachments": {},
   "cell_type": "markdown",
   "metadata": {},
   "source": [
    "## 정기검사"
   ]
  },
  {
   "cell_type": "code",
   "execution_count": 8,
   "metadata": {},
   "outputs": [],
   "source": [
    "ods_folder = 'D:\\과업\\[한국환경공단]자동차_환경_빅데이터_구축_2차\\data\\ODS'"
   ]
  },
  {
   "attachments": {},
   "cell_type": "markdown",
   "metadata": {},
   "source": [
    "### columns"
   ]
  },
  {
   "cell_type": "code",
   "execution_count": 9,
   "metadata": {},
   "outputs": [],
   "source": [
    "file_name = 'TB_JGT_HIS'\n",
    "col_exc = pd.read_excel(f'analysis/ODSvsSTD/[정제]{file_name}.xlsx', sheet_name='ODS_col')"
   ]
  },
  {
   "cell_type": "code",
   "execution_count": 10,
   "metadata": {},
   "outputs": [
    {
     "data": {
      "text/html": [
       "<div>\n",
       "<style scoped>\n",
       "    .dataframe tbody tr th:only-of-type {\n",
       "        vertical-align: middle;\n",
       "    }\n",
       "\n",
       "    .dataframe tbody tr th {\n",
       "        vertical-align: top;\n",
       "    }\n",
       "\n",
       "    .dataframe thead th {\n",
       "        text-align: right;\n",
       "    }\n",
       "</style>\n",
       "<table border=\"1\" class=\"dataframe\">\n",
       "  <thead>\n",
       "    <tr style=\"text-align: right;\">\n",
       "      <th></th>\n",
       "      <th>컬럼</th>\n",
       "      <th>내용</th>\n",
       "    </tr>\n",
       "  </thead>\n",
       "  <tbody>\n",
       "    <tr>\n",
       "      <th>0</th>\n",
       "      <td>CAR_FUEL_NM</td>\n",
       "      <td>사용연료</td>\n",
       "    </tr>\n",
       "    <tr>\n",
       "      <th>1</th>\n",
       "      <td>CAR_MILE</td>\n",
       "      <td>주행거리</td>\n",
       "    </tr>\n",
       "    <tr>\n",
       "      <th>2</th>\n",
       "      <td>CAR_NM</td>\n",
       "      <td>차명</td>\n",
       "    </tr>\n",
       "    <tr>\n",
       "      <th>3</th>\n",
       "      <td>CAR_REG_NO</td>\n",
       "      <td>차량번호</td>\n",
       "    </tr>\n",
       "    <tr>\n",
       "      <th>4</th>\n",
       "      <td>CAR_SER_NO</td>\n",
       "      <td>차대번호</td>\n",
       "    </tr>\n",
       "    <tr>\n",
       "      <th>...</th>\n",
       "      <td>...</td>\n",
       "      <td>...</td>\n",
       "    </tr>\n",
       "    <tr>\n",
       "      <th>58</th>\n",
       "      <td>FUN_CHKR_NM</td>\n",
       "      <td>미정</td>\n",
       "    </tr>\n",
       "    <tr>\n",
       "      <th>59</th>\n",
       "      <td>SMO_CHKR_NM</td>\n",
       "      <td>미정</td>\n",
       "    </tr>\n",
       "    <tr>\n",
       "      <th>60</th>\n",
       "      <td>MNG_CHKR_NM</td>\n",
       "      <td>미정</td>\n",
       "    </tr>\n",
       "    <tr>\n",
       "      <th>61</th>\n",
       "      <td>DT_GUBUN</td>\n",
       "      <td>미정</td>\n",
       "    </tr>\n",
       "    <tr>\n",
       "      <th>62</th>\n",
       "      <td>FILE_NM</td>\n",
       "      <td>미정</td>\n",
       "    </tr>\n",
       "  </tbody>\n",
       "</table>\n",
       "<p>63 rows × 2 columns</p>\n",
       "</div>"
      ],
      "text/plain": [
       "             컬럼    내용\n",
       "0   CAR_FUEL_NM  사용연료\n",
       "1      CAR_MILE  주행거리\n",
       "2        CAR_NM    차명\n",
       "3    CAR_REG_NO  차량번호\n",
       "4    CAR_SER_NO  차대번호\n",
       "..          ...   ...\n",
       "58  FUN_CHKR_NM    미정\n",
       "59  SMO_CHKR_NM    미정\n",
       "60  MNG_CHKR_NM    미정\n",
       "61     DT_GUBUN    미정\n",
       "62      FILE_NM    미정\n",
       "\n",
       "[63 rows x 2 columns]"
      ]
     },
     "execution_count": 10,
     "metadata": {},
     "output_type": "execute_result"
    }
   ],
   "source": [
    "col_exc"
   ]
  },
  {
   "cell_type": "code",
   "execution_count": 11,
   "metadata": {},
   "outputs": [
    {
     "data": {
      "text/plain": [
       "['사용연료',\n",
       " '주행거리',\n",
       " '차명',\n",
       " '차량번호',\n",
       " '차대번호',\n",
       " '차종',\n",
       " '차량연식',\n",
       " '검사방법',\n",
       " '이산화탄소값',\n",
       " '최대출력허용치',\n",
       " '최대출력측정값',\n",
       " '엔진형식',\n",
       " '검사접수번호',\n",
       " '정기검사일자',\n",
       " '검사종류',\n",
       " '검사소명',\n",
       " '검사판정시각',\n",
       " '정기검사판정',\n",
       " '산소값',\n",
       " '재검사기간',\n",
       " '무부하매연판정1',\n",
       " '무부하매연판정2',\n",
       " '무부하매연판정3',\n",
       " '무부하매연판정4',\n",
       " '무부하매연판정5',\n",
       " '무부하매연판정6',\n",
       " '무부하매연허용치1',\n",
       " '무부하매연허용치2',\n",
       " '무부하매연허용치3',\n",
       " '무부하매연허용치4',\n",
       " '무부하매연허용치5',\n",
       " '무부하매연허용치6',\n",
       " '무부하매연측정치1',\n",
       " '무부하매연측정치2',\n",
       " '무부하매연측정치3',\n",
       " '무부하매연측정치4',\n",
       " '무부하매연측정치5',\n",
       " '무부하매연측정치6',\n",
       " '차량용도',\n",
       " '미정',\n",
       " '미정',\n",
       " '미정',\n",
       " '미정',\n",
       " '미정',\n",
       " '미정',\n",
       " '미정',\n",
       " '미정',\n",
       " '미정',\n",
       " '미정',\n",
       " '미정',\n",
       " '미정',\n",
       " '미정',\n",
       " '미정',\n",
       " '미정',\n",
       " '미정',\n",
       " '미정',\n",
       " '미정',\n",
       " '미정',\n",
       " '미정',\n",
       " '미정',\n",
       " '미정',\n",
       " '미정',\n",
       " '미정']"
      ]
     },
     "execution_count": 11,
     "metadata": {},
     "output_type": "execute_result"
    }
   ],
   "source": [
    "col_exc['내용'].to_list()"
   ]
  },
  {
   "cell_type": "code",
   "execution_count": 12,
   "metadata": {},
   "outputs": [
    {
     "data": {
      "text/html": [
       "<div>\n",
       "<style scoped>\n",
       "    .dataframe tbody tr th:only-of-type {\n",
       "        vertical-align: middle;\n",
       "    }\n",
       "\n",
       "    .dataframe tbody tr th {\n",
       "        vertical-align: top;\n",
       "    }\n",
       "\n",
       "    .dataframe thead th {\n",
       "        text-align: right;\n",
       "    }\n",
       "</style>\n",
       "<table border=\"1\" class=\"dataframe\">\n",
       "  <thead>\n",
       "    <tr style=\"text-align: right;\">\n",
       "      <th></th>\n",
       "      <th>컬럼</th>\n",
       "      <th>내용</th>\n",
       "    </tr>\n",
       "  </thead>\n",
       "  <tbody>\n",
       "    <tr>\n",
       "      <th>0</th>\n",
       "      <td>CAR_FUEL_NM</td>\n",
       "      <td>사용연료</td>\n",
       "    </tr>\n",
       "    <tr>\n",
       "      <th>1</th>\n",
       "      <td>CAR_MILE</td>\n",
       "      <td>주행거리</td>\n",
       "    </tr>\n",
       "    <tr>\n",
       "      <th>2</th>\n",
       "      <td>CAR_NM</td>\n",
       "      <td>차명</td>\n",
       "    </tr>\n",
       "    <tr>\n",
       "      <th>3</th>\n",
       "      <td>CAR_REG_NO</td>\n",
       "      <td>차량번호</td>\n",
       "    </tr>\n",
       "    <tr>\n",
       "      <th>4</th>\n",
       "      <td>CAR_SER_NO</td>\n",
       "      <td>차대번호</td>\n",
       "    </tr>\n",
       "    <tr>\n",
       "      <th>5</th>\n",
       "      <td>CAR_TYPE_NM</td>\n",
       "      <td>차종</td>\n",
       "    </tr>\n",
       "    <tr>\n",
       "      <th>6</th>\n",
       "      <td>CAR_YEAR</td>\n",
       "      <td>차량연식</td>\n",
       "    </tr>\n",
       "    <tr>\n",
       "      <th>7</th>\n",
       "      <td>CHK_METHOD</td>\n",
       "      <td>검사방법</td>\n",
       "    </tr>\n",
       "    <tr>\n",
       "      <th>8</th>\n",
       "      <td>CO2_VAL</td>\n",
       "      <td>이산화탄소값</td>\n",
       "    </tr>\n",
       "    <tr>\n",
       "      <th>9</th>\n",
       "      <td>ENGINE_TOR_LIM</td>\n",
       "      <td>최대출력허용치</td>\n",
       "    </tr>\n",
       "    <tr>\n",
       "      <th>10</th>\n",
       "      <td>ENGINE_TOR_VAL</td>\n",
       "      <td>최대출력측정값</td>\n",
       "    </tr>\n",
       "    <tr>\n",
       "      <th>11</th>\n",
       "      <td>ENGINE_TYPE</td>\n",
       "      <td>엔진형식</td>\n",
       "    </tr>\n",
       "    <tr>\n",
       "      <th>12</th>\n",
       "      <td>JEBSU_NO</td>\n",
       "      <td>검사접수번호</td>\n",
       "    </tr>\n",
       "    <tr>\n",
       "      <th>13</th>\n",
       "      <td>JG_CHK_DATE</td>\n",
       "      <td>정기검사일자</td>\n",
       "    </tr>\n",
       "    <tr>\n",
       "      <th>14</th>\n",
       "      <td>JG_CHK_TYPE</td>\n",
       "      <td>검사종류</td>\n",
       "    </tr>\n",
       "    <tr>\n",
       "      <th>15</th>\n",
       "      <td>JG_ORG_NM</td>\n",
       "      <td>검사소명</td>\n",
       "    </tr>\n",
       "    <tr>\n",
       "      <th>16</th>\n",
       "      <td>JUDGE_DATE</td>\n",
       "      <td>검사판정시각</td>\n",
       "    </tr>\n",
       "    <tr>\n",
       "      <th>17</th>\n",
       "      <td>JUDGE_YN</td>\n",
       "      <td>정기검사판정</td>\n",
       "    </tr>\n",
       "    <tr>\n",
       "      <th>18</th>\n",
       "      <td>O2_VAL</td>\n",
       "      <td>산소값</td>\n",
       "    </tr>\n",
       "    <tr>\n",
       "      <th>19</th>\n",
       "      <td>RE_CHK_DATE</td>\n",
       "      <td>재검사기간</td>\n",
       "    </tr>\n",
       "    <tr>\n",
       "      <th>20</th>\n",
       "      <td>UNLOAD_SMO_JUDGE1</td>\n",
       "      <td>무부하매연판정1</td>\n",
       "    </tr>\n",
       "    <tr>\n",
       "      <th>21</th>\n",
       "      <td>UNLOAD_SMO_JUDGE2</td>\n",
       "      <td>무부하매연판정2</td>\n",
       "    </tr>\n",
       "    <tr>\n",
       "      <th>22</th>\n",
       "      <td>UNLOAD_SMO_JUDGE3</td>\n",
       "      <td>무부하매연판정3</td>\n",
       "    </tr>\n",
       "    <tr>\n",
       "      <th>23</th>\n",
       "      <td>UNLOAD_SMO_JUDGE4</td>\n",
       "      <td>무부하매연판정4</td>\n",
       "    </tr>\n",
       "    <tr>\n",
       "      <th>24</th>\n",
       "      <td>UNLOAD_SMO_JUDGE5</td>\n",
       "      <td>무부하매연판정5</td>\n",
       "    </tr>\n",
       "    <tr>\n",
       "      <th>25</th>\n",
       "      <td>UNLOAD_SMO_JUDGE6</td>\n",
       "      <td>무부하매연판정6</td>\n",
       "    </tr>\n",
       "    <tr>\n",
       "      <th>26</th>\n",
       "      <td>UNLOAD_SMO_LIM1</td>\n",
       "      <td>무부하매연허용치1</td>\n",
       "    </tr>\n",
       "    <tr>\n",
       "      <th>27</th>\n",
       "      <td>UNLOAD_SMO_LIM2</td>\n",
       "      <td>무부하매연허용치2</td>\n",
       "    </tr>\n",
       "    <tr>\n",
       "      <th>28</th>\n",
       "      <td>UNLOAD_SMO_LIM3</td>\n",
       "      <td>무부하매연허용치3</td>\n",
       "    </tr>\n",
       "    <tr>\n",
       "      <th>29</th>\n",
       "      <td>UNLOAD_SMO_LIM4</td>\n",
       "      <td>무부하매연허용치4</td>\n",
       "    </tr>\n",
       "    <tr>\n",
       "      <th>30</th>\n",
       "      <td>UNLOAD_SMO_LIM5</td>\n",
       "      <td>무부하매연허용치5</td>\n",
       "    </tr>\n",
       "    <tr>\n",
       "      <th>31</th>\n",
       "      <td>UNLOAD_SMO_LIM6</td>\n",
       "      <td>무부하매연허용치6</td>\n",
       "    </tr>\n",
       "    <tr>\n",
       "      <th>32</th>\n",
       "      <td>UNLOAD_SMO_VAL1</td>\n",
       "      <td>무부하매연측정치1</td>\n",
       "    </tr>\n",
       "    <tr>\n",
       "      <th>33</th>\n",
       "      <td>UNLOAD_SMO_VAL2</td>\n",
       "      <td>무부하매연측정치2</td>\n",
       "    </tr>\n",
       "    <tr>\n",
       "      <th>34</th>\n",
       "      <td>UNLOAD_SMO_VAL3</td>\n",
       "      <td>무부하매연측정치3</td>\n",
       "    </tr>\n",
       "    <tr>\n",
       "      <th>35</th>\n",
       "      <td>UNLOAD_SMO_VAL4</td>\n",
       "      <td>무부하매연측정치4</td>\n",
       "    </tr>\n",
       "    <tr>\n",
       "      <th>36</th>\n",
       "      <td>UNLOAD_SMO_VAL5</td>\n",
       "      <td>무부하매연측정치5</td>\n",
       "    </tr>\n",
       "    <tr>\n",
       "      <th>37</th>\n",
       "      <td>UNLOAD_SMO_VAL6</td>\n",
       "      <td>무부하매연측정치6</td>\n",
       "    </tr>\n",
       "    <tr>\n",
       "      <th>38</th>\n",
       "      <td>USAGE</td>\n",
       "      <td>차량용도</td>\n",
       "    </tr>\n",
       "  </tbody>\n",
       "</table>\n",
       "</div>"
      ],
      "text/plain": [
       "                   컬럼         내용\n",
       "0         CAR_FUEL_NM       사용연료\n",
       "1            CAR_MILE       주행거리\n",
       "2              CAR_NM         차명\n",
       "3          CAR_REG_NO       차량번호\n",
       "4          CAR_SER_NO       차대번호\n",
       "5         CAR_TYPE_NM         차종\n",
       "6            CAR_YEAR       차량연식\n",
       "7          CHK_METHOD       검사방법\n",
       "8             CO2_VAL     이산화탄소값\n",
       "9      ENGINE_TOR_LIM    최대출력허용치\n",
       "10     ENGINE_TOR_VAL    최대출력측정값\n",
       "11        ENGINE_TYPE       엔진형식\n",
       "12           JEBSU_NO     검사접수번호\n",
       "13        JG_CHK_DATE     정기검사일자\n",
       "14        JG_CHK_TYPE       검사종류\n",
       "15          JG_ORG_NM       검사소명\n",
       "16         JUDGE_DATE     검사판정시각\n",
       "17           JUDGE_YN     정기검사판정\n",
       "18             O2_VAL        산소값\n",
       "19        RE_CHK_DATE      재검사기간\n",
       "20  UNLOAD_SMO_JUDGE1   무부하매연판정1\n",
       "21  UNLOAD_SMO_JUDGE2   무부하매연판정2\n",
       "22  UNLOAD_SMO_JUDGE3   무부하매연판정3\n",
       "23  UNLOAD_SMO_JUDGE4   무부하매연판정4\n",
       "24  UNLOAD_SMO_JUDGE5   무부하매연판정5\n",
       "25  UNLOAD_SMO_JUDGE6   무부하매연판정6\n",
       "26    UNLOAD_SMO_LIM1  무부하매연허용치1\n",
       "27    UNLOAD_SMO_LIM2  무부하매연허용치2\n",
       "28    UNLOAD_SMO_LIM3  무부하매연허용치3\n",
       "29    UNLOAD_SMO_LIM4  무부하매연허용치4\n",
       "30    UNLOAD_SMO_LIM5  무부하매연허용치5\n",
       "31    UNLOAD_SMO_LIM6  무부하매연허용치6\n",
       "32    UNLOAD_SMO_VAL1  무부하매연측정치1\n",
       "33    UNLOAD_SMO_VAL2  무부하매연측정치2\n",
       "34    UNLOAD_SMO_VAL3  무부하매연측정치3\n",
       "35    UNLOAD_SMO_VAL4  무부하매연측정치4\n",
       "36    UNLOAD_SMO_VAL5  무부하매연측정치5\n",
       "37    UNLOAD_SMO_VAL6  무부하매연측정치6\n",
       "38              USAGE       차량용도"
      ]
     },
     "execution_count": 12,
     "metadata": {},
     "output_type": "execute_result"
    }
   ],
   "source": [
    "col_exc = col_exc.loc[:38]\n",
    "col_exc"
   ]
  },
  {
   "cell_type": "code",
   "execution_count": 13,
   "metadata": {},
   "outputs": [
    {
     "data": {
      "text/plain": [
       "['CAR_FUEL_NM',\n",
       " 'CAR_MILE',\n",
       " 'CAR_NM',\n",
       " 'CAR_REG_NO',\n",
       " 'CAR_SER_NO',\n",
       " 'CAR_TYPE_NM',\n",
       " 'CAR_YEAR',\n",
       " 'CHK_METHOD',\n",
       " 'CO2_VAL',\n",
       " 'ENGINE_TOR_LIM',\n",
       " 'ENGINE_TOR_VAL',\n",
       " 'ENGINE_TYPE',\n",
       " 'JEBSU_NO',\n",
       " 'JG_CHK_DATE',\n",
       " 'JG_CHK_TYPE',\n",
       " 'JG_ORG_NM',\n",
       " 'JUDGE_DATE',\n",
       " 'JUDGE_YN',\n",
       " 'O2_VAL',\n",
       " 'RE_CHK_DATE',\n",
       " 'UNLOAD_SMO_JUDGE1',\n",
       " 'UNLOAD_SMO_JUDGE2',\n",
       " 'UNLOAD_SMO_JUDGE3',\n",
       " 'UNLOAD_SMO_JUDGE4',\n",
       " 'UNLOAD_SMO_JUDGE5',\n",
       " 'UNLOAD_SMO_JUDGE6',\n",
       " 'UNLOAD_SMO_LIM1',\n",
       " 'UNLOAD_SMO_LIM2',\n",
       " 'UNLOAD_SMO_LIM3',\n",
       " 'UNLOAD_SMO_LIM4',\n",
       " 'UNLOAD_SMO_LIM5',\n",
       " 'UNLOAD_SMO_LIM6',\n",
       " 'UNLOAD_SMO_VAL1',\n",
       " 'UNLOAD_SMO_VAL2',\n",
       " 'UNLOAD_SMO_VAL3',\n",
       " 'UNLOAD_SMO_VAL4',\n",
       " 'UNLOAD_SMO_VAL5',\n",
       " 'UNLOAD_SMO_VAL6',\n",
       " 'USAGE']"
      ]
     },
     "execution_count": 13,
     "metadata": {},
     "output_type": "execute_result"
    }
   ],
   "source": [
    "col = col_exc['컬럼'].to_list()\n",
    "col"
   ]
  },
  {
   "cell_type": "code",
   "execution_count": 14,
   "metadata": {},
   "outputs": [
    {
     "data": {
      "text/plain": [
       "['사용연료',\n",
       " '주행거리',\n",
       " '차명',\n",
       " '차량번호',\n",
       " '차대번호',\n",
       " '차종',\n",
       " '차량연식',\n",
       " '검사방법',\n",
       " '이산화탄소값',\n",
       " '최대출력허용치',\n",
       " '최대출력측정값',\n",
       " '엔진형식',\n",
       " '검사접수번호',\n",
       " '정기검사일자',\n",
       " '검사종류',\n",
       " '검사소명',\n",
       " '검사판정시각',\n",
       " '정기검사판정',\n",
       " '산소값',\n",
       " '재검사기간',\n",
       " '무부하매연판정1',\n",
       " '무부하매연판정2',\n",
       " '무부하매연판정3',\n",
       " '무부하매연판정4',\n",
       " '무부하매연판정5',\n",
       " '무부하매연판정6',\n",
       " '무부하매연허용치1',\n",
       " '무부하매연허용치2',\n",
       " '무부하매연허용치3',\n",
       " '무부하매연허용치4',\n",
       " '무부하매연허용치5',\n",
       " '무부하매연허용치6',\n",
       " '무부하매연측정치1',\n",
       " '무부하매연측정치2',\n",
       " '무부하매연측정치3',\n",
       " '무부하매연측정치4',\n",
       " '무부하매연측정치5',\n",
       " '무부하매연측정치6',\n",
       " '차량용도']"
      ]
     },
     "execution_count": 14,
     "metadata": {},
     "output_type": "execute_result"
    }
   ],
   "source": [
    "# 필요한 컬럼만 추출\n",
    "sel_col = col_exc['내용'].to_list()\n",
    "sel_col"
   ]
  },
  {
   "attachments": {},
   "cell_type": "markdown",
   "metadata": {},
   "source": [
    "### [로드] 정기검사"
   ]
  },
  {
   "cell_type": "code",
   "execution_count": 15,
   "metadata": {},
   "outputs": [
    {
     "name": "stdout",
     "output_type": "stream",
     "text": [
      "<class 'pandas.core.frame.DataFrame'>\n",
      "RangeIndex: 22006426 entries, 0 to 22006425\n",
      "Data columns (total 39 columns):\n",
      " #   Column             Dtype  \n",
      "---  ------             -----  \n",
      " 0   JG_ORG_NM          object \n",
      " 1   JG_CHK_DATE        int64  \n",
      " 2   JG_CHK_TYPE        object \n",
      " 3   JEBSU_NO           object \n",
      " 4   CAR_REG_NO         object \n",
      " 5   CAR_SER_NO         object \n",
      " 6   CAR_NM             object \n",
      " 7   CAR_TYPE_NM        object \n",
      " 8   USAGE              object \n",
      " 9   CAR_YEAR           int64  \n",
      " 10  CAR_FUEL_NM        object \n",
      " 11  CAR_MILE           object \n",
      " 12  ENGINE_TYPE        object \n",
      " 13  CHK_METHOD         object \n",
      " 14  UNLOAD_SMO_VAL1    float64\n",
      " 15  UNLOAD_SMO_LIM1    float64\n",
      " 16  UNLOAD_SMO_JUDGE1  object \n",
      " 17  UNLOAD_SMO_VAL2    float64\n",
      " 18  UNLOAD_SMO_LIM2    float64\n",
      " 19  UNLOAD_SMO_JUDGE2  object \n",
      " 20  UNLOAD_SMO_VAL3    float64\n",
      " 21  UNLOAD_SMO_LIM3    float64\n",
      " 22  UNLOAD_SMO_JUDGE3  object \n",
      " 23  UNLOAD_SMO_VAL4    float64\n",
      " 24  UNLOAD_SMO_LIM4    float64\n",
      " 25  UNLOAD_SMO_JUDGE4  object \n",
      " 26  UNLOAD_SMO_VAL5    float64\n",
      " 27  UNLOAD_SMO_LIM5    float64\n",
      " 28  UNLOAD_SMO_JUDGE5  object \n",
      " 29  UNLOAD_SMO_VAL6    float64\n",
      " 30  UNLOAD_SMO_LIM6    float64\n",
      " 31  UNLOAD_SMO_JUDGE6  object \n",
      " 32  CO2_VAL            float64\n",
      " 33  ENGINE_TOR_LIM     float64\n",
      " 34  ENGINE_TOR_VAL     float64\n",
      " 35  O2_VAL             float64\n",
      " 36  JUDGE_YN           object \n",
      " 37  RE_CHK_DATE        object \n",
      " 38  JUDGE_DATE         object \n",
      "dtypes: float64(16), int64(2), object(21)\n",
      "memory usage: 6.4+ GB\n"
     ]
    }
   ],
   "source": [
    "# about 5m\n",
    "file_name = 'ODS_TB_JGT_HIS.csv'\n",
    "ins = pd.read_csv(os.path.join(ods_folder, file_name), usecols=col, low_memory=False)\n",
    "ins.info()"
   ]
  },
  {
   "cell_type": "code",
   "execution_count": 16,
   "metadata": {},
   "outputs": [
    {
     "name": "stdout",
     "output_type": "stream",
     "text": [
      "<class 'pandas.core.frame.DataFrame'>\n",
      "RangeIndex: 22006426 entries, 0 to 22006425\n",
      "Data columns (total 39 columns):\n",
      " #   Column             Dtype  \n",
      "---  ------             -----  \n",
      " 0   CAR_FUEL_NM        object \n",
      " 1   CAR_MILE           object \n",
      " 2   CAR_NM             object \n",
      " 3   CAR_REG_NO         object \n",
      " 4   CAR_SER_NO         object \n",
      " 5   CAR_TYPE_NM        object \n",
      " 6   CAR_YEAR           int64  \n",
      " 7   CHK_METHOD         object \n",
      " 8   CO2_VAL            float64\n",
      " 9   ENGINE_TOR_LIM     float64\n",
      " 10  ENGINE_TOR_VAL     float64\n",
      " 11  ENGINE_TYPE        object \n",
      " 12  JEBSU_NO           object \n",
      " 13  JG_CHK_DATE        int64  \n",
      " 14  JG_CHK_TYPE        object \n",
      " 15  JG_ORG_NM          object \n",
      " 16  JUDGE_DATE         object \n",
      " 17  JUDGE_YN           object \n",
      " 18  O2_VAL             float64\n",
      " 19  RE_CHK_DATE        object \n",
      " 20  UNLOAD_SMO_JUDGE1  object \n",
      " 21  UNLOAD_SMO_JUDGE2  object \n",
      " 22  UNLOAD_SMO_JUDGE3  object \n",
      " 23  UNLOAD_SMO_JUDGE4  object \n",
      " 24  UNLOAD_SMO_JUDGE5  object \n",
      " 25  UNLOAD_SMO_JUDGE6  object \n",
      " 26  UNLOAD_SMO_LIM1    float64\n",
      " 27  UNLOAD_SMO_LIM2    float64\n",
      " 28  UNLOAD_SMO_LIM3    float64\n",
      " 29  UNLOAD_SMO_LIM4    float64\n",
      " 30  UNLOAD_SMO_LIM5    float64\n",
      " 31  UNLOAD_SMO_LIM6    float64\n",
      " 32  UNLOAD_SMO_VAL1    float64\n",
      " 33  UNLOAD_SMO_VAL2    float64\n",
      " 34  UNLOAD_SMO_VAL3    float64\n",
      " 35  UNLOAD_SMO_VAL4    float64\n",
      " 36  UNLOAD_SMO_VAL5    float64\n",
      " 37  UNLOAD_SMO_VAL6    float64\n",
      " 38  USAGE              object \n",
      "dtypes: float64(16), int64(2), object(21)\n",
      "memory usage: 6.4+ GB\n"
     ]
    }
   ],
   "source": [
    "ins = ins[col]\n",
    "ins.info()"
   ]
  },
  {
   "cell_type": "code",
   "execution_count": 17,
   "metadata": {},
   "outputs": [],
   "source": [
    "ins.columns = sel_col"
   ]
  },
  {
   "cell_type": "code",
   "execution_count": 18,
   "metadata": {},
   "outputs": [
    {
     "data": {
      "text/plain": [
       "Index(['사용연료', '주행거리', '차명', '차량번호', '차대번호', '차종', '차량연식', '검사방법', '이산화탄소값',\n",
       "       '최대출력허용치', '최대출력측정값', '엔진형식', '검사접수번호', '정기검사일자', '검사종류', '검사소명',\n",
       "       '검사판정시각', '정기검사판정', '산소값', '재검사기간', '무부하매연판정1', '무부하매연판정2', '무부하매연판정3',\n",
       "       '무부하매연판정4', '무부하매연판정5', '무부하매연판정6', '무부하매연허용치1', '무부하매연허용치2',\n",
       "       '무부하매연허용치3', '무부하매연허용치4', '무부하매연허용치5', '무부하매연허용치6', '무부하매연측정치1',\n",
       "       '무부하매연측정치2', '무부하매연측정치3', '무부하매연측정치4', '무부하매연측정치5', '무부하매연측정치6',\n",
       "       '차량용도'],\n",
       "      dtype='object')"
      ]
     },
     "execution_count": 18,
     "metadata": {},
     "output_type": "execute_result"
    }
   ],
   "source": [
    "ins.columns"
   ]
  },
  {
   "cell_type": "code",
   "execution_count": 19,
   "metadata": {},
   "outputs": [
    {
     "data": {
      "text/html": [
       "<div>\n",
       "<style scoped>\n",
       "    .dataframe tbody tr th:only-of-type {\n",
       "        vertical-align: middle;\n",
       "    }\n",
       "\n",
       "    .dataframe tbody tr th {\n",
       "        vertical-align: top;\n",
       "    }\n",
       "\n",
       "    .dataframe thead th {\n",
       "        text-align: right;\n",
       "    }\n",
       "</style>\n",
       "<table border=\"1\" class=\"dataframe\">\n",
       "  <thead>\n",
       "    <tr style=\"text-align: right;\">\n",
       "      <th></th>\n",
       "      <th>사용연료</th>\n",
       "      <th>주행거리</th>\n",
       "      <th>차명</th>\n",
       "      <th>차량번호</th>\n",
       "      <th>차대번호</th>\n",
       "      <th>차종</th>\n",
       "      <th>차량연식</th>\n",
       "      <th>검사방법</th>\n",
       "      <th>이산화탄소값</th>\n",
       "      <th>최대출력허용치</th>\n",
       "      <th>...</th>\n",
       "      <th>무부하매연허용치4</th>\n",
       "      <th>무부하매연허용치5</th>\n",
       "      <th>무부하매연허용치6</th>\n",
       "      <th>무부하매연측정치1</th>\n",
       "      <th>무부하매연측정치2</th>\n",
       "      <th>무부하매연측정치3</th>\n",
       "      <th>무부하매연측정치4</th>\n",
       "      <th>무부하매연측정치5</th>\n",
       "      <th>무부하매연측정치6</th>\n",
       "      <th>차량용도</th>\n",
       "    </tr>\n",
       "  </thead>\n",
       "  <tbody>\n",
       "    <tr>\n",
       "      <th>0</th>\n",
       "      <td>경유</td>\n",
       "      <td>157111</td>\n",
       "      <td>봉고Ⅲ 1.2톤</td>\n",
       "      <td>86마9529</td>\n",
       "      <td>KNCWJX76AGK038342</td>\n",
       "      <td>화물차일반형중형</td>\n",
       "      <td>2016</td>\n",
       "      <td>무부하검사(급가속)</td>\n",
       "      <td>NaN</td>\n",
       "      <td>NaN</td>\n",
       "      <td>...</td>\n",
       "      <td>NaN</td>\n",
       "      <td>NaN</td>\n",
       "      <td>NaN</td>\n",
       "      <td>0.0</td>\n",
       "      <td>NaN</td>\n",
       "      <td>NaN</td>\n",
       "      <td>NaN</td>\n",
       "      <td>NaN</td>\n",
       "      <td>NaN</td>\n",
       "      <td>자가용</td>\n",
       "    </tr>\n",
       "    <tr>\n",
       "      <th>1</th>\n",
       "      <td>휘발유(무연)</td>\n",
       "      <td>108304</td>\n",
       "      <td>그랜저(GRANDEUR)</td>\n",
       "      <td>10주0782</td>\n",
       "      <td>KMHFF41CBDA233234</td>\n",
       "      <td>승용차일반형대형</td>\n",
       "      <td>2013</td>\n",
       "      <td>무부하검사(TSI)</td>\n",
       "      <td>14.5</td>\n",
       "      <td>NaN</td>\n",
       "      <td>...</td>\n",
       "      <td>1.0</td>\n",
       "      <td>120.0</td>\n",
       "      <td>0.1</td>\n",
       "      <td>0.0</td>\n",
       "      <td>77.0</td>\n",
       "      <td>1.01</td>\n",
       "      <td>0.0</td>\n",
       "      <td>63.0</td>\n",
       "      <td>1.0</td>\n",
       "      <td>자가용</td>\n",
       "    </tr>\n",
       "    <tr>\n",
       "      <th>2</th>\n",
       "      <td>엘피지</td>\n",
       "      <td>158358</td>\n",
       "      <td>K5</td>\n",
       "      <td>28호4612</td>\n",
       "      <td>KNAGN418BFA579667</td>\n",
       "      <td>승용차일반형중형</td>\n",
       "      <td>2015</td>\n",
       "      <td>무부하검사(TSI)</td>\n",
       "      <td>13.6</td>\n",
       "      <td>NaN</td>\n",
       "      <td>...</td>\n",
       "      <td>1.0</td>\n",
       "      <td>120.0</td>\n",
       "      <td>0.1</td>\n",
       "      <td>0.0</td>\n",
       "      <td>4.0</td>\n",
       "      <td>1.10</td>\n",
       "      <td>0.0</td>\n",
       "      <td>4.0</td>\n",
       "      <td>1.0</td>\n",
       "      <td>영업용</td>\n",
       "    </tr>\n",
       "    <tr>\n",
       "      <th>3</th>\n",
       "      <td>경유</td>\n",
       "      <td>21527</td>\n",
       "      <td>봉고Ⅲ 냉장차</td>\n",
       "      <td>84저2517</td>\n",
       "      <td>KNFSTZ76AJK245830</td>\n",
       "      <td>화물차특수용도형소형</td>\n",
       "      <td>2018</td>\n",
       "      <td>무부하검사(급가속)</td>\n",
       "      <td>NaN</td>\n",
       "      <td>NaN</td>\n",
       "      <td>...</td>\n",
       "      <td>NaN</td>\n",
       "      <td>NaN</td>\n",
       "      <td>NaN</td>\n",
       "      <td>1.0</td>\n",
       "      <td>NaN</td>\n",
       "      <td>NaN</td>\n",
       "      <td>NaN</td>\n",
       "      <td>NaN</td>\n",
       "      <td>NaN</td>\n",
       "      <td>자가용</td>\n",
       "    </tr>\n",
       "    <tr>\n",
       "      <th>4</th>\n",
       "      <td>경유</td>\n",
       "      <td>12482</td>\n",
       "      <td>그랜드 스타렉스(GRAND STAREX)</td>\n",
       "      <td>87다3979</td>\n",
       "      <td>KMFWBX7KBJU977503</td>\n",
       "      <td>화물차밴형소형</td>\n",
       "      <td>2018</td>\n",
       "      <td>무부하검사(급가속)</td>\n",
       "      <td>NaN</td>\n",
       "      <td>NaN</td>\n",
       "      <td>...</td>\n",
       "      <td>NaN</td>\n",
       "      <td>NaN</td>\n",
       "      <td>NaN</td>\n",
       "      <td>0.0</td>\n",
       "      <td>NaN</td>\n",
       "      <td>NaN</td>\n",
       "      <td>NaN</td>\n",
       "      <td>NaN</td>\n",
       "      <td>NaN</td>\n",
       "      <td>자가용</td>\n",
       "    </tr>\n",
       "  </tbody>\n",
       "</table>\n",
       "<p>5 rows × 39 columns</p>\n",
       "</div>"
      ],
      "text/plain": [
       "      사용연료    주행거리                      차명     차량번호               차대번호  \\\n",
       "0       경유  157111                봉고Ⅲ 1.2톤  86마9529  KNCWJX76AGK038342   \n",
       "1  휘발유(무연)  108304           그랜저(GRANDEUR)  10주0782  KMHFF41CBDA233234   \n",
       "2      엘피지  158358                      K5  28호4612  KNAGN418BFA579667   \n",
       "3       경유   21527                 봉고Ⅲ 냉장차  84저2517  KNFSTZ76AJK245830   \n",
       "4       경유   12482  그랜드 스타렉스(GRAND STAREX)  87다3979  KMFWBX7KBJU977503   \n",
       "\n",
       "           차종  차량연식        검사방법  이산화탄소값  최대출력허용치  ...  무부하매연허용치4 무부하매연허용치5  \\\n",
       "0    화물차일반형중형  2016  무부하검사(급가속)     NaN      NaN  ...        NaN       NaN   \n",
       "1    승용차일반형대형  2013  무부하검사(TSI)    14.5      NaN  ...        1.0     120.0   \n",
       "2    승용차일반형중형  2015  무부하검사(TSI)    13.6      NaN  ...        1.0     120.0   \n",
       "3  화물차특수용도형소형  2018  무부하검사(급가속)     NaN      NaN  ...        NaN       NaN   \n",
       "4     화물차밴형소형  2018  무부하검사(급가속)     NaN      NaN  ...        NaN       NaN   \n",
       "\n",
       "  무부하매연허용치6  무부하매연측정치1 무부하매연측정치2 무부하매연측정치3 무부하매연측정치4 무부하매연측정치5  무부하매연측정치6 차량용도  \n",
       "0       NaN        0.0       NaN       NaN       NaN       NaN        NaN  자가용  \n",
       "1       0.1        0.0      77.0      1.01       0.0      63.0        1.0  자가용  \n",
       "2       0.1        0.0       4.0      1.10       0.0       4.0        1.0  영업용  \n",
       "3       NaN        1.0       NaN       NaN       NaN       NaN        NaN  자가용  \n",
       "4       NaN        0.0       NaN       NaN       NaN       NaN        NaN  자가용  \n",
       "\n",
       "[5 rows x 39 columns]"
      ]
     },
     "execution_count": 19,
     "metadata": {},
     "output_type": "execute_result"
    }
   ],
   "source": [
    "ins.head()"
   ]
  },
  {
   "cell_type": "code",
   "execution_count": null,
   "metadata": {},
   "outputs": [
    {
     "data": {
      "text/plain": [
       "KMHDT41BBAU119153    239\n",
       "KNAF141BEKA809682    224\n",
       "KNAB3511BHT094014    211\n",
       "KNHMD376BBS449742    181\n",
       "KNABA24438T587325    167\n",
       "                    ... \n",
       "KN3HRX4N17K208026      1\n",
       "KMHSJ81UBCU857405      1\n",
       "WBAKV210XG0R25994      1\n",
       "KMFZCZ7KAHU401307      1\n",
       "KMHS381ABKU144553      1\n",
       "Name: 차대번호, Length: 12601262, dtype: int64"
      ]
     },
     "execution_count": 19,
     "metadata": {},
     "output_type": "execute_result"
    }
   ],
   "source": [
    "ins['차대번호'].value_counts()"
   ]
  },
  {
   "cell_type": "code",
   "execution_count": null,
   "metadata": {},
   "outputs": [
    {
     "data": {
      "text/plain": [
       "(3052217, 40)"
      ]
     },
     "execution_count": 20,
     "metadata": {},
     "output_type": "execute_result"
    }
   ],
   "source": [
    "# about 42s\n",
    "g4_ins = vin.merge(ins, on='차대번호', how='left')\n",
    "g4_ins.shape"
   ]
  },
  {
   "cell_type": "code",
   "execution_count": 42,
   "metadata": {},
   "outputs": [
    {
     "data": {
      "text/plain": [
       "(3965916, 40)"
      ]
     },
     "execution_count": 42,
     "metadata": {},
     "output_type": "execute_result"
    }
   ],
   "source": [
    "g4_ins = g4_ins.drop(['차대번호', '제원관리번호'], axis=1)\n",
    "g4_ins.shape"
   ]
  },
  {
   "cell_type": "code",
   "execution_count": 21,
   "metadata": {},
   "outputs": [
    {
     "data": {
      "text/plain": [
       "(2563368, 40)"
      ]
     },
     "execution_count": 21,
     "metadata": {},
     "output_type": "execute_result"
    }
   ],
   "source": [
    "# about \n",
    "g4_ins2 = vin2.merge(ins, on='차대번호', how='left')\n",
    "g4_ins2.shape"
   ]
  },
  {
   "attachments": {},
   "cell_type": "markdown",
   "metadata": {},
   "source": [
    "### [출력] [4등급]정기검사"
   ]
  },
  {
   "cell_type": "code",
   "execution_count": 22,
   "metadata": {},
   "outputs": [],
   "source": [
    "# about 45s\n",
    "g4_ins.to_csv('data/[ODS][G4]정기검사(2022.12.29).csv', index=False)"
   ]
  },
  {
   "attachments": {},
   "cell_type": "markdown",
   "metadata": {},
   "source": [
    "### [출력] [4등급]정기검사(말소적용)"
   ]
  },
  {
   "cell_type": "code",
   "execution_count": 23,
   "metadata": {},
   "outputs": [],
   "source": [
    "# about 37s\n",
    "g4_ins2.to_csv('data/[ODS][G4]정기검사(말소적용)(2022.12.29).csv', index=False)"
   ]
  },
  {
   "attachments": {},
   "cell_type": "markdown",
   "metadata": {},
   "source": [
    "## 정밀검사"
   ]
  },
  {
   "cell_type": "code",
   "execution_count": 24,
   "metadata": {},
   "outputs": [],
   "source": [
    "ods_folder = 'D:\\과업\\[한국환경공단]자동차_환경_빅데이터_구축_2차\\data\\ODS'"
   ]
  },
  {
   "attachments": {},
   "cell_type": "markdown",
   "metadata": {},
   "source": [
    "### columns"
   ]
  },
  {
   "cell_type": "code",
   "execution_count": 25,
   "metadata": {},
   "outputs": [],
   "source": [
    "file_name = 'TB_EET_HIS_ME'\n",
    "col_exc = pd.read_excel(f'analysis/ODSvsSTD/[정제]{file_name}.xlsx', sheet_name='ODS_col')"
   ]
  },
  {
   "cell_type": "code",
   "execution_count": 26,
   "metadata": {},
   "outputs": [
    {
     "data": {
      "text/html": [
       "<div>\n",
       "<style scoped>\n",
       "    .dataframe tbody tr th:only-of-type {\n",
       "        vertical-align: middle;\n",
       "    }\n",
       "\n",
       "    .dataframe tbody tr th {\n",
       "        vertical-align: top;\n",
       "    }\n",
       "\n",
       "    .dataframe thead th {\n",
       "        text-align: right;\n",
       "    }\n",
       "</style>\n",
       "<table border=\"1\" class=\"dataframe\">\n",
       "  <thead>\n",
       "    <tr style=\"text-align: right;\">\n",
       "      <th></th>\n",
       "      <th>컬럼</th>\n",
       "      <th>내용</th>\n",
       "    </tr>\n",
       "  </thead>\n",
       "  <tbody>\n",
       "    <tr>\n",
       "      <th>0</th>\n",
       "      <td>CAR_FUEL_NM</td>\n",
       "      <td>사용연료</td>\n",
       "    </tr>\n",
       "    <tr>\n",
       "      <th>1</th>\n",
       "      <td>CAR_MILE</td>\n",
       "      <td>주행거리</td>\n",
       "    </tr>\n",
       "    <tr>\n",
       "      <th>2</th>\n",
       "      <td>CAR_NM</td>\n",
       "      <td>차명</td>\n",
       "    </tr>\n",
       "    <tr>\n",
       "      <th>3</th>\n",
       "      <td>CAR_REG_NO</td>\n",
       "      <td>차량번호</td>\n",
       "    </tr>\n",
       "    <tr>\n",
       "      <th>4</th>\n",
       "      <td>CAR_SER_NO</td>\n",
       "      <td>차대번호</td>\n",
       "    </tr>\n",
       "    <tr>\n",
       "      <th>...</th>\n",
       "      <td>...</td>\n",
       "      <td>...</td>\n",
       "    </tr>\n",
       "    <tr>\n",
       "      <th>70</th>\n",
       "      <td>DELETE_GBN</td>\n",
       "      <td>미정</td>\n",
       "    </tr>\n",
       "    <tr>\n",
       "      <th>71</th>\n",
       "      <td>DELETE_REASON1</td>\n",
       "      <td>미정</td>\n",
       "    </tr>\n",
       "    <tr>\n",
       "      <th>72</th>\n",
       "      <td>DELETE_REASON2</td>\n",
       "      <td>미정</td>\n",
       "    </tr>\n",
       "    <tr>\n",
       "      <th>73</th>\n",
       "      <td>DELETE_REASON3</td>\n",
       "      <td>미정</td>\n",
       "    </tr>\n",
       "    <tr>\n",
       "      <th>74</th>\n",
       "      <td>DELETE_REASON4</td>\n",
       "      <td>미정</td>\n",
       "    </tr>\n",
       "  </tbody>\n",
       "</table>\n",
       "<p>75 rows × 2 columns</p>\n",
       "</div>"
      ],
      "text/plain": [
       "                컬럼    내용\n",
       "0      CAR_FUEL_NM  사용연료\n",
       "1         CAR_MILE  주행거리\n",
       "2           CAR_NM    차명\n",
       "3       CAR_REG_NO  차량번호\n",
       "4       CAR_SER_NO  차대번호\n",
       "..             ...   ...\n",
       "70      DELETE_GBN    미정\n",
       "71  DELETE_REASON1    미정\n",
       "72  DELETE_REASON2    미정\n",
       "73  DELETE_REASON3    미정\n",
       "74  DELETE_REASON4    미정\n",
       "\n",
       "[75 rows x 2 columns]"
      ]
     },
     "execution_count": 26,
     "metadata": {},
     "output_type": "execute_result"
    }
   ],
   "source": [
    "col_exc"
   ]
  },
  {
   "cell_type": "code",
   "execution_count": 27,
   "metadata": {},
   "outputs": [
    {
     "data": {
      "text/plain": [
       "['사용연료',\n",
       " '주행거리',\n",
       " '차명',\n",
       " '차량번호',\n",
       " '차대번호',\n",
       " '차종',\n",
       " '차량연식',\n",
       " '정밀검사 검사소코드',\n",
       " '이산화탄소값',\n",
       " '최대출력허용치',\n",
       " '최대출력측정값',\n",
       " '엔진형식',\n",
       " '산소값',\n",
       " '재검사기간',\n",
       " '정밀검사일자',\n",
       " '정밀검사판정',\n",
       " '정밀검사측정방법',\n",
       " '정밀검사소명',\n",
       " '정밀검사접수번호',\n",
       " '정밀검사종류',\n",
       " '정밀검사시각정보',\n",
       " '무부하매연판정1',\n",
       " '무부하매연판정2',\n",
       " '무부하매연판정3',\n",
       " '무부하매연판정4',\n",
       " '무부하매연판정5',\n",
       " '무부하매연판정6',\n",
       " '무부하매연허용치1',\n",
       " '무부하매연허용치2',\n",
       " '무부하매연허용치3',\n",
       " '무부하매연허용치4',\n",
       " '무부하매연허용치5',\n",
       " '무부하매연허용치6',\n",
       " '무부하매연측정치1',\n",
       " '무부하매연측정치2',\n",
       " '무부하매연측정치3',\n",
       " '무부하매연측정치4',\n",
       " '무부하매연측정치5',\n",
       " '무부하매연측정치6',\n",
       " '차량용도',\n",
       " '정밀검사유효기간',\n",
       " '미정',\n",
       " '미정',\n",
       " '미정',\n",
       " '미정',\n",
       " '미정',\n",
       " '미정',\n",
       " '미정',\n",
       " '미정',\n",
       " '미정',\n",
       " '미정',\n",
       " '미정',\n",
       " '미정',\n",
       " '미정',\n",
       " '미정',\n",
       " '미정',\n",
       " '미정',\n",
       " '미정',\n",
       " '미정',\n",
       " '미정',\n",
       " '미정',\n",
       " '미정',\n",
       " '미정',\n",
       " '미정',\n",
       " '미정',\n",
       " '미정',\n",
       " '미정',\n",
       " '미정',\n",
       " '미정',\n",
       " '미정',\n",
       " '미정',\n",
       " '미정',\n",
       " '미정',\n",
       " '미정',\n",
       " '미정']"
      ]
     },
     "execution_count": 27,
     "metadata": {},
     "output_type": "execute_result"
    }
   ],
   "source": [
    "col_exc['내용'].to_list()"
   ]
  },
  {
   "cell_type": "code",
   "execution_count": 28,
   "metadata": {},
   "outputs": [
    {
     "data": {
      "text/html": [
       "<div>\n",
       "<style scoped>\n",
       "    .dataframe tbody tr th:only-of-type {\n",
       "        vertical-align: middle;\n",
       "    }\n",
       "\n",
       "    .dataframe tbody tr th {\n",
       "        vertical-align: top;\n",
       "    }\n",
       "\n",
       "    .dataframe thead th {\n",
       "        text-align: right;\n",
       "    }\n",
       "</style>\n",
       "<table border=\"1\" class=\"dataframe\">\n",
       "  <thead>\n",
       "    <tr style=\"text-align: right;\">\n",
       "      <th></th>\n",
       "      <th>컬럼</th>\n",
       "      <th>내용</th>\n",
       "    </tr>\n",
       "  </thead>\n",
       "  <tbody>\n",
       "    <tr>\n",
       "      <th>0</th>\n",
       "      <td>CAR_FUEL_NM</td>\n",
       "      <td>사용연료</td>\n",
       "    </tr>\n",
       "    <tr>\n",
       "      <th>1</th>\n",
       "      <td>CAR_MILE</td>\n",
       "      <td>주행거리</td>\n",
       "    </tr>\n",
       "    <tr>\n",
       "      <th>2</th>\n",
       "      <td>CAR_NM</td>\n",
       "      <td>차명</td>\n",
       "    </tr>\n",
       "    <tr>\n",
       "      <th>3</th>\n",
       "      <td>CAR_REG_NO</td>\n",
       "      <td>차량번호</td>\n",
       "    </tr>\n",
       "    <tr>\n",
       "      <th>4</th>\n",
       "      <td>CAR_SER_NO</td>\n",
       "      <td>차대번호</td>\n",
       "    </tr>\n",
       "    <tr>\n",
       "      <th>5</th>\n",
       "      <td>CAR_TYPE_NM</td>\n",
       "      <td>차종</td>\n",
       "    </tr>\n",
       "    <tr>\n",
       "      <th>6</th>\n",
       "      <td>CAR_YEAR</td>\n",
       "      <td>차량연식</td>\n",
       "    </tr>\n",
       "    <tr>\n",
       "      <th>7</th>\n",
       "      <td>CMB_SMO_CHK_REG_NO</td>\n",
       "      <td>정밀검사 검사소코드</td>\n",
       "    </tr>\n",
       "    <tr>\n",
       "      <th>8</th>\n",
       "      <td>CO2_VAL</td>\n",
       "      <td>이산화탄소값</td>\n",
       "    </tr>\n",
       "    <tr>\n",
       "      <th>9</th>\n",
       "      <td>ENGINE_TOR_LIM</td>\n",
       "      <td>최대출력허용치</td>\n",
       "    </tr>\n",
       "    <tr>\n",
       "      <th>10</th>\n",
       "      <td>ENGINE_TOR_VAL</td>\n",
       "      <td>최대출력측정값</td>\n",
       "    </tr>\n",
       "    <tr>\n",
       "      <th>11</th>\n",
       "      <td>ENGINE_TYPE</td>\n",
       "      <td>엔진형식</td>\n",
       "    </tr>\n",
       "    <tr>\n",
       "      <th>12</th>\n",
       "      <td>O2_VAL</td>\n",
       "      <td>산소값</td>\n",
       "    </tr>\n",
       "    <tr>\n",
       "      <th>13</th>\n",
       "      <td>RE_INS_DATE2</td>\n",
       "      <td>재검사기간</td>\n",
       "    </tr>\n",
       "    <tr>\n",
       "      <th>14</th>\n",
       "      <td>SMO_CHK_DATE</td>\n",
       "      <td>정밀검사일자</td>\n",
       "    </tr>\n",
       "    <tr>\n",
       "      <th>15</th>\n",
       "      <td>SMO_CHK_JUDGE_YN</td>\n",
       "      <td>정밀검사판정</td>\n",
       "    </tr>\n",
       "    <tr>\n",
       "      <th>16</th>\n",
       "      <td>SMO_CHK_METHOD</td>\n",
       "      <td>정밀검사측정방법</td>\n",
       "    </tr>\n",
       "    <tr>\n",
       "      <th>17</th>\n",
       "      <td>SMO_CHK_ORG_NM</td>\n",
       "      <td>정밀검사소명</td>\n",
       "    </tr>\n",
       "    <tr>\n",
       "      <th>18</th>\n",
       "      <td>SMO_CHK_REG_NO</td>\n",
       "      <td>정밀검사접수번호</td>\n",
       "    </tr>\n",
       "    <tr>\n",
       "      <th>19</th>\n",
       "      <td>SMO_CHK_TYPE</td>\n",
       "      <td>정밀검사종류</td>\n",
       "    </tr>\n",
       "    <tr>\n",
       "      <th>20</th>\n",
       "      <td>SMO_CLOCK_INFO</td>\n",
       "      <td>정밀검사시각정보</td>\n",
       "    </tr>\n",
       "    <tr>\n",
       "      <th>21</th>\n",
       "      <td>UNLOAD_SMO_JUDGE1</td>\n",
       "      <td>무부하매연판정1</td>\n",
       "    </tr>\n",
       "    <tr>\n",
       "      <th>22</th>\n",
       "      <td>UNLOAD_SMO_JUDGE2</td>\n",
       "      <td>무부하매연판정2</td>\n",
       "    </tr>\n",
       "    <tr>\n",
       "      <th>23</th>\n",
       "      <td>UNLOAD_SMO_JUDGE3</td>\n",
       "      <td>무부하매연판정3</td>\n",
       "    </tr>\n",
       "    <tr>\n",
       "      <th>24</th>\n",
       "      <td>UNLOAD_SMO_JUDGE4</td>\n",
       "      <td>무부하매연판정4</td>\n",
       "    </tr>\n",
       "    <tr>\n",
       "      <th>25</th>\n",
       "      <td>UNLOAD_SMO_JUDGE5</td>\n",
       "      <td>무부하매연판정5</td>\n",
       "    </tr>\n",
       "    <tr>\n",
       "      <th>26</th>\n",
       "      <td>UNLOAD_SMO_JUDGE6</td>\n",
       "      <td>무부하매연판정6</td>\n",
       "    </tr>\n",
       "    <tr>\n",
       "      <th>27</th>\n",
       "      <td>UNLOAD_SMO_LIM1</td>\n",
       "      <td>무부하매연허용치1</td>\n",
       "    </tr>\n",
       "    <tr>\n",
       "      <th>28</th>\n",
       "      <td>UNLOAD_SMO_LIM2</td>\n",
       "      <td>무부하매연허용치2</td>\n",
       "    </tr>\n",
       "    <tr>\n",
       "      <th>29</th>\n",
       "      <td>UNLOAD_SMO_LIM3</td>\n",
       "      <td>무부하매연허용치3</td>\n",
       "    </tr>\n",
       "    <tr>\n",
       "      <th>30</th>\n",
       "      <td>UNLOAD_SMO_LIM4</td>\n",
       "      <td>무부하매연허용치4</td>\n",
       "    </tr>\n",
       "    <tr>\n",
       "      <th>31</th>\n",
       "      <td>UNLOAD_SMO_LIM5</td>\n",
       "      <td>무부하매연허용치5</td>\n",
       "    </tr>\n",
       "    <tr>\n",
       "      <th>32</th>\n",
       "      <td>UNLOAD_SMO_LIM6</td>\n",
       "      <td>무부하매연허용치6</td>\n",
       "    </tr>\n",
       "    <tr>\n",
       "      <th>33</th>\n",
       "      <td>UNLOAD_SMO_VAL1</td>\n",
       "      <td>무부하매연측정치1</td>\n",
       "    </tr>\n",
       "    <tr>\n",
       "      <th>34</th>\n",
       "      <td>UNLOAD_SMO_VAL2</td>\n",
       "      <td>무부하매연측정치2</td>\n",
       "    </tr>\n",
       "    <tr>\n",
       "      <th>35</th>\n",
       "      <td>UNLOAD_SMO_VAL3</td>\n",
       "      <td>무부하매연측정치3</td>\n",
       "    </tr>\n",
       "    <tr>\n",
       "      <th>36</th>\n",
       "      <td>UNLOAD_SMO_VAL4</td>\n",
       "      <td>무부하매연측정치4</td>\n",
       "    </tr>\n",
       "    <tr>\n",
       "      <th>37</th>\n",
       "      <td>UNLOAD_SMO_VAL5</td>\n",
       "      <td>무부하매연측정치5</td>\n",
       "    </tr>\n",
       "    <tr>\n",
       "      <th>38</th>\n",
       "      <td>UNLOAD_SMO_VAL6</td>\n",
       "      <td>무부하매연측정치6</td>\n",
       "    </tr>\n",
       "    <tr>\n",
       "      <th>39</th>\n",
       "      <td>USAGE</td>\n",
       "      <td>차량용도</td>\n",
       "    </tr>\n",
       "    <tr>\n",
       "      <th>40</th>\n",
       "      <td>SMO_CHK_EXP_DATE</td>\n",
       "      <td>정밀검사유효기간</td>\n",
       "    </tr>\n",
       "  </tbody>\n",
       "</table>\n",
       "</div>"
      ],
      "text/plain": [
       "                    컬럼          내용\n",
       "0          CAR_FUEL_NM        사용연료\n",
       "1             CAR_MILE        주행거리\n",
       "2               CAR_NM          차명\n",
       "3           CAR_REG_NO        차량번호\n",
       "4           CAR_SER_NO        차대번호\n",
       "5          CAR_TYPE_NM          차종\n",
       "6             CAR_YEAR        차량연식\n",
       "7   CMB_SMO_CHK_REG_NO  정밀검사 검사소코드\n",
       "8              CO2_VAL      이산화탄소값\n",
       "9       ENGINE_TOR_LIM     최대출력허용치\n",
       "10      ENGINE_TOR_VAL     최대출력측정값\n",
       "11         ENGINE_TYPE        엔진형식\n",
       "12              O2_VAL         산소값\n",
       "13        RE_INS_DATE2       재검사기간\n",
       "14        SMO_CHK_DATE      정밀검사일자\n",
       "15    SMO_CHK_JUDGE_YN      정밀검사판정\n",
       "16      SMO_CHK_METHOD    정밀검사측정방법\n",
       "17      SMO_CHK_ORG_NM      정밀검사소명\n",
       "18      SMO_CHK_REG_NO    정밀검사접수번호\n",
       "19        SMO_CHK_TYPE      정밀검사종류\n",
       "20      SMO_CLOCK_INFO    정밀검사시각정보\n",
       "21   UNLOAD_SMO_JUDGE1    무부하매연판정1\n",
       "22   UNLOAD_SMO_JUDGE2    무부하매연판정2\n",
       "23   UNLOAD_SMO_JUDGE3    무부하매연판정3\n",
       "24   UNLOAD_SMO_JUDGE4    무부하매연판정4\n",
       "25   UNLOAD_SMO_JUDGE5    무부하매연판정5\n",
       "26   UNLOAD_SMO_JUDGE6    무부하매연판정6\n",
       "27     UNLOAD_SMO_LIM1   무부하매연허용치1\n",
       "28     UNLOAD_SMO_LIM2   무부하매연허용치2\n",
       "29     UNLOAD_SMO_LIM3   무부하매연허용치3\n",
       "30     UNLOAD_SMO_LIM4   무부하매연허용치4\n",
       "31     UNLOAD_SMO_LIM5   무부하매연허용치5\n",
       "32     UNLOAD_SMO_LIM6   무부하매연허용치6\n",
       "33     UNLOAD_SMO_VAL1   무부하매연측정치1\n",
       "34     UNLOAD_SMO_VAL2   무부하매연측정치2\n",
       "35     UNLOAD_SMO_VAL3   무부하매연측정치3\n",
       "36     UNLOAD_SMO_VAL4   무부하매연측정치4\n",
       "37     UNLOAD_SMO_VAL5   무부하매연측정치5\n",
       "38     UNLOAD_SMO_VAL6   무부하매연측정치6\n",
       "39               USAGE        차량용도\n",
       "40    SMO_CHK_EXP_DATE    정밀검사유효기간"
      ]
     },
     "execution_count": 28,
     "metadata": {},
     "output_type": "execute_result"
    }
   ],
   "source": [
    "col_exc = col_exc.loc[:40]\n",
    "col_exc"
   ]
  },
  {
   "cell_type": "code",
   "execution_count": 29,
   "metadata": {},
   "outputs": [
    {
     "data": {
      "text/plain": [
       "['CAR_FUEL_NM',\n",
       " 'CAR_MILE',\n",
       " 'CAR_NM',\n",
       " 'CAR_REG_NO',\n",
       " 'CAR_SER_NO',\n",
       " 'CAR_TYPE_NM',\n",
       " 'CAR_YEAR',\n",
       " 'CMB_SMO_CHK_REG_NO',\n",
       " 'CO2_VAL',\n",
       " 'ENGINE_TOR_LIM',\n",
       " 'ENGINE_TOR_VAL',\n",
       " 'ENGINE_TYPE',\n",
       " 'O2_VAL',\n",
       " 'RE_INS_DATE2',\n",
       " 'SMO_CHK_DATE',\n",
       " 'SMO_CHK_JUDGE_YN',\n",
       " 'SMO_CHK_METHOD',\n",
       " 'SMO_CHK_ORG_NM',\n",
       " 'SMO_CHK_REG_NO',\n",
       " 'SMO_CHK_TYPE',\n",
       " 'SMO_CLOCK_INFO',\n",
       " 'UNLOAD_SMO_JUDGE1',\n",
       " 'UNLOAD_SMO_JUDGE2',\n",
       " 'UNLOAD_SMO_JUDGE3',\n",
       " 'UNLOAD_SMO_JUDGE4',\n",
       " 'UNLOAD_SMO_JUDGE5',\n",
       " 'UNLOAD_SMO_JUDGE6',\n",
       " 'UNLOAD_SMO_LIM1',\n",
       " 'UNLOAD_SMO_LIM2',\n",
       " 'UNLOAD_SMO_LIM3',\n",
       " 'UNLOAD_SMO_LIM4',\n",
       " 'UNLOAD_SMO_LIM5',\n",
       " 'UNLOAD_SMO_LIM6',\n",
       " 'UNLOAD_SMO_VAL1',\n",
       " 'UNLOAD_SMO_VAL2',\n",
       " 'UNLOAD_SMO_VAL3',\n",
       " 'UNLOAD_SMO_VAL4',\n",
       " 'UNLOAD_SMO_VAL5',\n",
       " 'UNLOAD_SMO_VAL6',\n",
       " 'USAGE',\n",
       " 'SMO_CHK_EXP_DATE']"
      ]
     },
     "execution_count": 29,
     "metadata": {},
     "output_type": "execute_result"
    }
   ],
   "source": [
    "col = col_exc['컬럼'].to_list()\n",
    "col"
   ]
  },
  {
   "cell_type": "code",
   "execution_count": 30,
   "metadata": {},
   "outputs": [
    {
     "data": {
      "text/plain": [
       "['사용연료',\n",
       " '주행거리',\n",
       " '차명',\n",
       " '차량번호',\n",
       " '차대번호',\n",
       " '차종',\n",
       " '차량연식',\n",
       " '정밀검사 검사소코드',\n",
       " '이산화탄소값',\n",
       " '최대출력허용치',\n",
       " '최대출력측정값',\n",
       " '엔진형식',\n",
       " '산소값',\n",
       " '재검사기간',\n",
       " '정밀검사일자',\n",
       " '정밀검사판정',\n",
       " '정밀검사측정방법',\n",
       " '정밀검사소명',\n",
       " '정밀검사접수번호',\n",
       " '정밀검사종류',\n",
       " '정밀검사시각정보',\n",
       " '무부하매연판정1',\n",
       " '무부하매연판정2',\n",
       " '무부하매연판정3',\n",
       " '무부하매연판정4',\n",
       " '무부하매연판정5',\n",
       " '무부하매연판정6',\n",
       " '무부하매연허용치1',\n",
       " '무부하매연허용치2',\n",
       " '무부하매연허용치3',\n",
       " '무부하매연허용치4',\n",
       " '무부하매연허용치5',\n",
       " '무부하매연허용치6',\n",
       " '무부하매연측정치1',\n",
       " '무부하매연측정치2',\n",
       " '무부하매연측정치3',\n",
       " '무부하매연측정치4',\n",
       " '무부하매연측정치5',\n",
       " '무부하매연측정치6',\n",
       " '차량용도',\n",
       " '정밀검사유효기간']"
      ]
     },
     "execution_count": 30,
     "metadata": {},
     "output_type": "execute_result"
    }
   ],
   "source": [
    "# 필요한 컬럼만 추출\n",
    "sel_col = col_exc['내용'].to_list()\n",
    "sel_col"
   ]
  },
  {
   "attachments": {},
   "cell_type": "markdown",
   "metadata": {},
   "source": [
    "### [로드] 정밀검사"
   ]
  },
  {
   "cell_type": "code",
   "execution_count": 31,
   "metadata": {},
   "outputs": [
    {
     "name": "stdout",
     "output_type": "stream",
     "text": [
      "<class 'pandas.core.frame.DataFrame'>\n",
      "RangeIndex: 28682228 entries, 0 to 28682227\n",
      "Data columns (total 41 columns):\n",
      " #   Column              Dtype  \n",
      "---  ------              -----  \n",
      " 0   SMO_CHK_ORG_NM      object \n",
      " 1   SMO_CHK_DATE        int64  \n",
      " 2   SMO_CHK_TYPE        object \n",
      " 3   SMO_CHK_REG_NO      object \n",
      " 4   CAR_REG_NO          object \n",
      " 5   CAR_SER_NO          object \n",
      " 6   CAR_NM              object \n",
      " 7   CAR_TYPE_NM         object \n",
      " 8   USAGE               object \n",
      " 9   CAR_YEAR            int64  \n",
      " 10  CAR_FUEL_NM         object \n",
      " 11  CAR_MILE            float64\n",
      " 12  ENGINE_TYPE         object \n",
      " 13  SMO_CHK_EXP_DATE    float64\n",
      " 14  SMO_CHK_METHOD      object \n",
      " 15  UNLOAD_SMO_VAL1     float64\n",
      " 16  UNLOAD_SMO_LIM1     float64\n",
      " 17  UNLOAD_SMO_JUDGE1   object \n",
      " 18  UNLOAD_SMO_VAL2     float64\n",
      " 19  UNLOAD_SMO_LIM2     float64\n",
      " 20  UNLOAD_SMO_JUDGE2   object \n",
      " 21  UNLOAD_SMO_VAL3     float64\n",
      " 22  UNLOAD_SMO_LIM3     float64\n",
      " 23  UNLOAD_SMO_JUDGE3   object \n",
      " 24  UNLOAD_SMO_VAL4     float64\n",
      " 25  UNLOAD_SMO_LIM4     float64\n",
      " 26  UNLOAD_SMO_JUDGE4   object \n",
      " 27  UNLOAD_SMO_VAL5     float64\n",
      " 28  UNLOAD_SMO_LIM5     float64\n",
      " 29  UNLOAD_SMO_JUDGE5   object \n",
      " 30  CO2_VAL             float64\n",
      " 31  ENGINE_TOR_LIM      float64\n",
      " 32  ENGINE_TOR_VAL      float64\n",
      " 33  O2_VAL              float64\n",
      " 34  SMO_CHK_JUDGE_YN    object \n",
      " 35  RE_INS_DATE2        object \n",
      " 36  SMO_CLOCK_INFO      object \n",
      " 37  CMB_SMO_CHK_REG_NO  object \n",
      " 38  UNLOAD_SMO_VAL6     float64\n",
      " 39  UNLOAD_SMO_LIM6     float64\n",
      " 40  UNLOAD_SMO_JUDGE6   object \n",
      "dtypes: float64(18), int64(2), object(21)\n",
      "memory usage: 8.8+ GB\n"
     ]
    }
   ],
   "source": [
    "# about 8m\n",
    "file_name = 'ODS_TB_EET_HIS_ME.csv'\n",
    "ins = pd.read_csv(os.path.join(ods_folder, file_name), usecols=col, low_memory=False)\n",
    "ins.info()"
   ]
  },
  {
   "cell_type": "code",
   "execution_count": 32,
   "metadata": {},
   "outputs": [
    {
     "name": "stdout",
     "output_type": "stream",
     "text": [
      "<class 'pandas.core.frame.DataFrame'>\n",
      "RangeIndex: 28682228 entries, 0 to 28682227\n",
      "Data columns (total 41 columns):\n",
      " #   Column              Dtype  \n",
      "---  ------              -----  \n",
      " 0   CAR_FUEL_NM         object \n",
      " 1   CAR_MILE            float64\n",
      " 2   CAR_NM              object \n",
      " 3   CAR_REG_NO          object \n",
      " 4   CAR_SER_NO          object \n",
      " 5   CAR_TYPE_NM         object \n",
      " 6   CAR_YEAR            int64  \n",
      " 7   CMB_SMO_CHK_REG_NO  object \n",
      " 8   CO2_VAL             float64\n",
      " 9   ENGINE_TOR_LIM      float64\n",
      " 10  ENGINE_TOR_VAL      float64\n",
      " 11  ENGINE_TYPE         object \n",
      " 12  O2_VAL              float64\n",
      " 13  RE_INS_DATE2        object \n",
      " 14  SMO_CHK_DATE        int64  \n",
      " 15  SMO_CHK_JUDGE_YN    object \n",
      " 16  SMO_CHK_METHOD      object \n",
      " 17  SMO_CHK_ORG_NM      object \n",
      " 18  SMO_CHK_REG_NO      object \n",
      " 19  SMO_CHK_TYPE        object \n",
      " 20  SMO_CLOCK_INFO      object \n",
      " 21  UNLOAD_SMO_JUDGE1   object \n",
      " 22  UNLOAD_SMO_JUDGE2   object \n",
      " 23  UNLOAD_SMO_JUDGE3   object \n",
      " 24  UNLOAD_SMO_JUDGE4   object \n",
      " 25  UNLOAD_SMO_JUDGE5   object \n",
      " 26  UNLOAD_SMO_JUDGE6   object \n",
      " 27  UNLOAD_SMO_LIM1     float64\n",
      " 28  UNLOAD_SMO_LIM2     float64\n",
      " 29  UNLOAD_SMO_LIM3     float64\n",
      " 30  UNLOAD_SMO_LIM4     float64\n",
      " 31  UNLOAD_SMO_LIM5     float64\n",
      " 32  UNLOAD_SMO_LIM6     float64\n",
      " 33  UNLOAD_SMO_VAL1     float64\n",
      " 34  UNLOAD_SMO_VAL2     float64\n",
      " 35  UNLOAD_SMO_VAL3     float64\n",
      " 36  UNLOAD_SMO_VAL4     float64\n",
      " 37  UNLOAD_SMO_VAL5     float64\n",
      " 38  UNLOAD_SMO_VAL6     float64\n",
      " 39  USAGE               object \n",
      " 40  SMO_CHK_EXP_DATE    float64\n",
      "dtypes: float64(18), int64(2), object(21)\n",
      "memory usage: 8.8+ GB\n"
     ]
    }
   ],
   "source": [
    "ins = ins[col]\n",
    "ins.info()"
   ]
  },
  {
   "cell_type": "code",
   "execution_count": 33,
   "metadata": {},
   "outputs": [],
   "source": [
    "ins.columns = sel_col"
   ]
  },
  {
   "cell_type": "code",
   "execution_count": 34,
   "metadata": {},
   "outputs": [
    {
     "data": {
      "text/plain": [
       "Index(['사용연료', '주행거리', '차명', '차량번호', '차대번호', '차종', '차량연식', '정밀검사 검사소코드',\n",
       "       '이산화탄소값', '최대출력허용치', '최대출력측정값', '엔진형식', '산소값', '재검사기간', '정밀검사일자',\n",
       "       '정밀검사판정', '정밀검사측정방법', '정밀검사소명', '정밀검사접수번호', '정밀검사종류', '정밀검사시각정보',\n",
       "       '무부하매연판정1', '무부하매연판정2', '무부하매연판정3', '무부하매연판정4', '무부하매연판정5', '무부하매연판정6',\n",
       "       '무부하매연허용치1', '무부하매연허용치2', '무부하매연허용치3', '무부하매연허용치4', '무부하매연허용치5',\n",
       "       '무부하매연허용치6', '무부하매연측정치1', '무부하매연측정치2', '무부하매연측정치3', '무부하매연측정치4',\n",
       "       '무부하매연측정치5', '무부하매연측정치6', '차량용도', '정밀검사유효기간'],\n",
       "      dtype='object')"
      ]
     },
     "execution_count": 34,
     "metadata": {},
     "output_type": "execute_result"
    }
   ],
   "source": [
    "ins.columns"
   ]
  },
  {
   "cell_type": "code",
   "execution_count": 35,
   "metadata": {},
   "outputs": [
    {
     "data": {
      "text/html": [
       "<div>\n",
       "<style scoped>\n",
       "    .dataframe tbody tr th:only-of-type {\n",
       "        vertical-align: middle;\n",
       "    }\n",
       "\n",
       "    .dataframe tbody tr th {\n",
       "        vertical-align: top;\n",
       "    }\n",
       "\n",
       "    .dataframe thead th {\n",
       "        text-align: right;\n",
       "    }\n",
       "</style>\n",
       "<table border=\"1\" class=\"dataframe\">\n",
       "  <thead>\n",
       "    <tr style=\"text-align: right;\">\n",
       "      <th></th>\n",
       "      <th>사용연료</th>\n",
       "      <th>주행거리</th>\n",
       "      <th>차명</th>\n",
       "      <th>차량번호</th>\n",
       "      <th>차대번호</th>\n",
       "      <th>차종</th>\n",
       "      <th>차량연식</th>\n",
       "      <th>정밀검사 검사소코드</th>\n",
       "      <th>이산화탄소값</th>\n",
       "      <th>최대출력허용치</th>\n",
       "      <th>...</th>\n",
       "      <th>무부하매연허용치5</th>\n",
       "      <th>무부하매연허용치6</th>\n",
       "      <th>무부하매연측정치1</th>\n",
       "      <th>무부하매연측정치2</th>\n",
       "      <th>무부하매연측정치3</th>\n",
       "      <th>무부하매연측정치4</th>\n",
       "      <th>무부하매연측정치5</th>\n",
       "      <th>무부하매연측정치6</th>\n",
       "      <th>차량용도</th>\n",
       "      <th>정밀검사유효기간</th>\n",
       "    </tr>\n",
       "  </thead>\n",
       "  <tbody>\n",
       "    <tr>\n",
       "      <th>0</th>\n",
       "      <td>경유</td>\n",
       "      <td>185597.0</td>\n",
       "      <td>봉고Ⅲ 1톤</td>\n",
       "      <td>90거4483</td>\n",
       "      <td>KNCSJY76BDK832102</td>\n",
       "      <td>화물차일반형소형</td>\n",
       "      <td>2013</td>\n",
       "      <td>B0392019010200111</td>\n",
       "      <td>0.00</td>\n",
       "      <td>NaN</td>\n",
       "      <td>...</td>\n",
       "      <td>NaN</td>\n",
       "      <td>NaN</td>\n",
       "      <td>0.00</td>\n",
       "      <td>NaN</td>\n",
       "      <td>NaN</td>\n",
       "      <td>NaN</td>\n",
       "      <td>NaN</td>\n",
       "      <td>NaN</td>\n",
       "      <td>자가용</td>\n",
       "      <td>20190110.0</td>\n",
       "    </tr>\n",
       "    <tr>\n",
       "      <th>1</th>\n",
       "      <td>휘발유</td>\n",
       "      <td>168918.0</td>\n",
       "      <td>그랜저(GRANDEUR)</td>\n",
       "      <td>58오7606</td>\n",
       "      <td>KMHFB41BBBA559634</td>\n",
       "      <td>승용차일반형대형</td>\n",
       "      <td>2011</td>\n",
       "      <td>31362019010200181</td>\n",
       "      <td>14.69</td>\n",
       "      <td>NaN</td>\n",
       "      <td>...</td>\n",
       "      <td>120.0</td>\n",
       "      <td>0.1</td>\n",
       "      <td>0.00</td>\n",
       "      <td>13.0</td>\n",
       "      <td>4.0</td>\n",
       "      <td>0.0</td>\n",
       "      <td>13.0</td>\n",
       "      <td>1.0</td>\n",
       "      <td>자가용</td>\n",
       "      <td>20181205.0</td>\n",
       "    </tr>\n",
       "    <tr>\n",
       "      <th>2</th>\n",
       "      <td>휘발유</td>\n",
       "      <td>238046.0</td>\n",
       "      <td>제네시스(GENESIS)</td>\n",
       "      <td>35로2372</td>\n",
       "      <td>KMHGB41AP9U047697</td>\n",
       "      <td>승용차일반형대형</td>\n",
       "      <td>2009</td>\n",
       "      <td>H0192019010200141</td>\n",
       "      <td>15.10</td>\n",
       "      <td>13.6</td>\n",
       "      <td>...</td>\n",
       "      <td>120.0</td>\n",
       "      <td>0.1</td>\n",
       "      <td>0.01</td>\n",
       "      <td>7.0</td>\n",
       "      <td>29.0</td>\n",
       "      <td>0.0</td>\n",
       "      <td>5.0</td>\n",
       "      <td>1.0</td>\n",
       "      <td>자가용</td>\n",
       "      <td>20190119.0</td>\n",
       "    </tr>\n",
       "    <tr>\n",
       "      <th>3</th>\n",
       "      <td>경유</td>\n",
       "      <td>120673.0</td>\n",
       "      <td>스포티지</td>\n",
       "      <td>35가8449</td>\n",
       "      <td>KNAPC813BBK099365</td>\n",
       "      <td>승용차다목적형중형</td>\n",
       "      <td>2011</td>\n",
       "      <td>41402019010200761</td>\n",
       "      <td>0.00</td>\n",
       "      <td>NaN</td>\n",
       "      <td>...</td>\n",
       "      <td>0.0</td>\n",
       "      <td>0.0</td>\n",
       "      <td>0.00</td>\n",
       "      <td>0.0</td>\n",
       "      <td>0.0</td>\n",
       "      <td>0.0</td>\n",
       "      <td>0.0</td>\n",
       "      <td>0.0</td>\n",
       "      <td>자가용</td>\n",
       "      <td>20190103.0</td>\n",
       "    </tr>\n",
       "    <tr>\n",
       "      <th>4</th>\n",
       "      <td>휘발유(무연)</td>\n",
       "      <td>196074.0</td>\n",
       "      <td>그랜저(GRANDEUR)</td>\n",
       "      <td>69두2774</td>\n",
       "      <td>KMHFF41EBBA002301</td>\n",
       "      <td>승용차일반형대형</td>\n",
       "      <td>2011</td>\n",
       "      <td>G0182019010200061</td>\n",
       "      <td>14.90</td>\n",
       "      <td>12.6</td>\n",
       "      <td>...</td>\n",
       "      <td>120.0</td>\n",
       "      <td>0.1</td>\n",
       "      <td>0.03</td>\n",
       "      <td>0.0</td>\n",
       "      <td>1.0</td>\n",
       "      <td>0.0</td>\n",
       "      <td>0.0</td>\n",
       "      <td>1.0</td>\n",
       "      <td>자가용</td>\n",
       "      <td>20190119.0</td>\n",
       "    </tr>\n",
       "  </tbody>\n",
       "</table>\n",
       "<p>5 rows × 41 columns</p>\n",
       "</div>"
      ],
      "text/plain": [
       "      사용연료      주행거리             차명     차량번호               차대번호         차종  \\\n",
       "0       경유  185597.0         봉고Ⅲ 1톤  90거4483  KNCSJY76BDK832102   화물차일반형소형   \n",
       "1      휘발유  168918.0  그랜저(GRANDEUR)  58오7606  KMHFB41BBBA559634   승용차일반형대형   \n",
       "2      휘발유  238046.0  제네시스(GENESIS)  35로2372  KMHGB41AP9U047697   승용차일반형대형   \n",
       "3       경유  120673.0           스포티지  35가8449  KNAPC813BBK099365  승용차다목적형중형   \n",
       "4  휘발유(무연)  196074.0  그랜저(GRANDEUR)  69두2774  KMHFF41EBBA002301   승용차일반형대형   \n",
       "\n",
       "   차량연식         정밀검사 검사소코드  이산화탄소값  최대출력허용치  ...  무부하매연허용치5 무부하매연허용치6  \\\n",
       "0  2013  B0392019010200111    0.00      NaN  ...        NaN       NaN   \n",
       "1  2011  31362019010200181   14.69      NaN  ...      120.0       0.1   \n",
       "2  2009  H0192019010200141   15.10     13.6  ...      120.0       0.1   \n",
       "3  2011  41402019010200761    0.00      NaN  ...        0.0       0.0   \n",
       "4  2011  G0182019010200061   14.90     12.6  ...      120.0       0.1   \n",
       "\n",
       "   무부하매연측정치1 무부하매연측정치2  무부하매연측정치3 무부하매연측정치4 무부하매연측정치5 무부하매연측정치6 차량용도  \\\n",
       "0       0.00       NaN        NaN       NaN       NaN       NaN  자가용   \n",
       "1       0.00      13.0        4.0       0.0      13.0       1.0  자가용   \n",
       "2       0.01       7.0       29.0       0.0       5.0       1.0  자가용   \n",
       "3       0.00       0.0        0.0       0.0       0.0       0.0  자가용   \n",
       "4       0.03       0.0        1.0       0.0       0.0       1.0  자가용   \n",
       "\n",
       "     정밀검사유효기간  \n",
       "0  20190110.0  \n",
       "1  20181205.0  \n",
       "2  20190119.0  \n",
       "3  20190103.0  \n",
       "4  20190119.0  \n",
       "\n",
       "[5 rows x 41 columns]"
      ]
     },
     "execution_count": 35,
     "metadata": {},
     "output_type": "execute_result"
    }
   ],
   "source": [
    "ins.head()"
   ]
  },
  {
   "cell_type": "code",
   "execution_count": 36,
   "metadata": {},
   "outputs": [
    {
     "data": {
      "text/plain": [
       "(3965916, 42)"
      ]
     },
     "execution_count": 36,
     "metadata": {},
     "output_type": "execute_result"
    }
   ],
   "source": [
    "# about 42s\n",
    "g4_ins = vin.merge(ins, on='차대번호', how='left')\n",
    "g4_ins.shape"
   ]
  },
  {
   "cell_type": "code",
   "execution_count": 37,
   "metadata": {},
   "outputs": [
    {
     "data": {
      "text/plain": [
       "(3431911, 42)"
      ]
     },
     "execution_count": 37,
     "metadata": {},
     "output_type": "execute_result"
    }
   ],
   "source": [
    "# about \n",
    "g4_ins2 = vin2.merge(ins, on='차대번호', how='left')\n",
    "g4_ins2.shape"
   ]
  },
  {
   "attachments": {},
   "cell_type": "markdown",
   "metadata": {},
   "source": [
    "### [출력] [4등급]정밀검사"
   ]
  },
  {
   "cell_type": "code",
   "execution_count": 38,
   "metadata": {},
   "outputs": [],
   "source": [
    "# about 1m\n",
    "g4_ins.to_csv('data/[ODS][G4]정밀검사(2022.12.29).csv', index=False)"
   ]
  },
  {
   "attachments": {},
   "cell_type": "markdown",
   "metadata": {},
   "source": [
    "### [출력] [4등급]정기검사(말소적용)"
   ]
  },
  {
   "cell_type": "code",
   "execution_count": 39,
   "metadata": {},
   "outputs": [],
   "source": [
    "# about \n",
    "g4_ins2.to_csv('data/[ODS][G4]정밀검사(말소적용)(2022.12.29).csv', index=False)"
   ]
  },
  {
   "attachments": {},
   "cell_type": "markdown",
   "metadata": {},
   "source": [
    "# [분석]"
   ]
  },
  {
   "cell_type": "code",
   "execution_count": 26,
   "metadata": {},
   "outputs": [
    {
     "data": {
      "text/plain": [
       "Index(['차량관리번호', '차량등록번호', '본거지법정동코드', '소유자구분', '차종_등록정보', '용도', '차대번호',\n",
       "       '최초등록일자', '차량연식', '차량제작일자', '배출가스검사유효일자', '제원관리번호', '배출가스인증번호',\n",
       "       '배출가스등급', '저공해조치종류', '저공해조치구조변경YN', '차량말소YN', '취득일자', '취득금액', '차명',\n",
       "       '차종_제원정보', '차종분류', '차종유형', '자동차형식', '제작사명', '연료', '엔진형식', '총중량', '적재중량',\n",
       "       '엔진출력', '배기량', '승차인원', '차량길이', '차량너비', '차량높이', '원산지명', '삭제YN', '승인일자',\n",
       "       '구동형식', '변속기종류'],\n",
       "      dtype='object')"
      ]
     },
     "execution_count": 26,
     "metadata": {},
     "output_type": "execute_result"
    }
   ],
   "source": [
    "df1.columns"
   ]
  },
  {
   "cell_type": "code",
   "execution_count": 28,
   "metadata": {},
   "outputs": [
    {
     "data": {
      "text/plain": [
       "array(['승용', '화물', '승합', nan, '특수'], dtype=object)"
      ]
     },
     "execution_count": 28,
     "metadata": {},
     "output_type": "execute_result"
    }
   ],
   "source": [
    "df1['차종_등록정보'].unique()"
   ]
  },
  {
   "cell_type": "code",
   "execution_count": 29,
   "metadata": {},
   "outputs": [
    {
     "data": {
      "text/plain": [
       "array(['자가용', '영업용', '관용'], dtype=object)"
      ]
     },
     "execution_count": 29,
     "metadata": {},
     "output_type": "execute_result"
    }
   ],
   "source": [
    "df1['용도'].unique()"
   ]
  },
  {
   "cell_type": "code",
   "execution_count": 30,
   "metadata": {},
   "outputs": [
    {
     "data": {
      "text/plain": [
       "array(['승용', '화물', '승합', '특수'], dtype=object)"
      ]
     },
     "execution_count": 30,
     "metadata": {},
     "output_type": "execute_result"
    }
   ],
   "source": [
    "df1['차종_제원정보'].unique()"
   ]
  },
  {
   "cell_type": "code",
   "execution_count": 31,
   "metadata": {},
   "outputs": [
    {
     "data": {
      "text/plain": [
       "array(['일반', '일반형-픽업', '일반형-카고', '승용겸화물', '특수', '다목적', '특수용도형-특수용도형',\n",
       "       '기타', '밴', '덤프', '특수작업형', '견인', '구난', '특수용도형-탱크로리', '특수용도형-피견인'],\n",
       "      dtype=object)"
      ]
     },
     "execution_count": 31,
     "metadata": {},
     "output_type": "execute_result"
    }
   ],
   "source": [
    "df1['차종분류'].unique()"
   ]
  },
  {
   "cell_type": "code",
   "execution_count": 32,
   "metadata": {},
   "outputs": [
    {
     "data": {
      "text/plain": [
       "array(['소형', '대형', '중형', '경형'], dtype=object)"
      ]
     },
     "execution_count": 32,
     "metadata": {},
     "output_type": "execute_result"
    }
   ],
   "source": [
    "df1['차종유형'].unique()"
   ]
  },
  {
   "cell_type": "code",
   "execution_count": 33,
   "metadata": {},
   "outputs": [
    {
     "data": {
      "text/plain": [
       "array([nan, 30.,  3., 12.,  4., 14., 31., 19., 11.,  2.,  1.])"
      ]
     },
     "execution_count": 33,
     "metadata": {},
     "output_type": "execute_result"
    }
   ],
   "source": [
    "df1['구동형식'].unique()"
   ]
  },
  {
   "cell_type": "code",
   "execution_count": 34,
   "metadata": {},
   "outputs": [
    {
     "data": {
      "text/plain": [
       "array(['휘발유', 'LGP(액화석유가스)', '경유', '기타연료', nan, '알코올', 'CNG(압축천연가스)'],\n",
       "      dtype=object)"
      ]
     },
     "execution_count": 34,
     "metadata": {},
     "output_type": "execute_result"
    }
   ],
   "source": [
    "df1['연료'].unique()"
   ]
  },
  {
   "attachments": {},
   "cell_type": "markdown",
   "metadata": {},
   "source": [
    "# 코드 마지막"
   ]
  }
 ],
 "metadata": {
  "kernelspec": {
   "display_name": "base",
   "language": "python",
   "name": "python3"
  },
  "language_info": {
   "codemirror_mode": {
    "name": "ipython",
    "version": 3
   },
   "file_extension": ".py",
   "mimetype": "text/x-python",
   "name": "python",
   "nbconvert_exporter": "python",
   "pygments_lexer": "ipython3",
   "version": "3.9.13"
  },
  "orig_nbformat": 4,
  "vscode": {
   "interpreter": {
    "hash": "ad2bdc8ecc057115af97d19610ffacc2b4e99fae6737bb82f5d7fb13d2f2c186"
   }
  }
 },
 "nbformat": 4,
 "nbformat_minor": 2
}
