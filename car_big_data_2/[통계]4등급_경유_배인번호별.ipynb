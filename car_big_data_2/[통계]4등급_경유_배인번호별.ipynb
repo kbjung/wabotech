{
 "cells": [
  {
   "attachments": {},
   "cell_type": "markdown",
   "metadata": {},
   "source": [
    "# Library\n"
   ]
  },
  {
   "cell_type": "code",
   "execution_count": 1,
   "metadata": {},
   "outputs": [],
   "source": [
    "import pandas as pd\n",
    "import numpy as np\n",
    "import os\n",
    "from tqdm import tqdm"
   ]
  },
  {
   "attachments": {},
   "cell_type": "markdown",
   "metadata": {},
   "source": [
    "# fold path"
   ]
  },
  {
   "cell_type": "code",
   "execution_count": 2,
   "metadata": {},
   "outputs": [],
   "source": [
    "ods_fold = 'D:/data/big2/ODS'\n",
    "g4_data_check_fold = 'D:/data/big2/BD1_4등급_데이터_점검1'"
   ]
  },
  {
   "attachments": {},
   "cell_type": "markdown",
   "metadata": {},
   "source": [
    "# Load"
   ]
  },
  {
   "attachments": {},
   "cell_type": "markdown",
   "metadata": {},
   "source": [
    "## 4등급 등록&제원정보"
   ]
  },
  {
   "cell_type": "code",
   "execution_count": 5,
   "metadata": {},
   "outputs": [
    {
     "name": "stderr",
     "output_type": "stream",
     "text": [
      "C:\\Users\\kbjung\\AppData\\Local\\Temp\\ipykernel_8664\\1303083448.py:3: DtypeWarning: Columns (12,14,21,44,48) have mixed types. Specify dtype option on import or set low_memory=False.\n",
      "  df = pd.read_csv(os.path.join(ods_fold, file_name), encoding='cp949')\n"
     ]
    },
    {
     "name": "stdout",
     "output_type": "stream",
     "text": [
      "<class 'pandas.core.frame.DataFrame'>\n",
      "RangeIndex: 1511251 entries, 0 to 1511250\n",
      "Data columns (total 49 columns):\n",
      " #   Column        Non-Null Count    Dtype  \n",
      "---  ------        --------------    -----  \n",
      " 0   차량관리번호        1511251 non-null  object \n",
      " 1   차량등록번호        1511251 non-null  object \n",
      " 2   본거지법정동코드      1511251 non-null  int64  \n",
      " 3   소유자구분         1511251 non-null  object \n",
      " 4   차종_등록정보       1511249 non-null  object \n",
      " 5   용도            1511251 non-null  object \n",
      " 6   현재회원번호        1510412 non-null  object \n",
      " 7   차대번호          1511251 non-null  object \n",
      " 8   최초등록일자        1511251 non-null  int64  \n",
      " 9   차량연식          1511251 non-null  int64  \n",
      " 10  차량제작일자        1342461 non-null  float64\n",
      " 11  배출가스검사유효일자    1511239 non-null  float64\n",
      " 12  제원관리번호        1511251 non-null  object \n",
      " 13  배출가스인증번호      1387530 non-null  object \n",
      " 14  배출가스등급        1511251 non-null  object \n",
      " 15  저공해조치YN(미사용)  1511096 non-null  object \n",
      " 16  저공해조치종류       189 non-null      float64\n",
      " 17  저공해조치구조변경YN   1511251 non-null  object \n",
      " 18  차량등록번호숫자정보    1511251 non-null  int64  \n",
      " 19  차량말소YN        1511251 non-null  object \n",
      " 20  최초회원번호        1506595 non-null  object \n",
      " 21  취득일자          1418010 non-null  object \n",
      " 22  취득금액          1436843 non-null  float64\n",
      " 23  생성일시_등록정보     1511251 non-null  object \n",
      " 24  수정일시_등록정보     915041 non-null   object \n",
      " 25  차명            1511251 non-null  object \n",
      " 26  차종_제원정보       1511251 non-null  object \n",
      " 27  차종분류          1511251 non-null  object \n",
      " 28  차종유형(소분류)     1511251 non-null  object \n",
      " 29  자동차형식         1510723 non-null  object \n",
      " 30  제작사명          1501221 non-null  object \n",
      " 31  연료            1511180 non-null  object \n",
      " 32  엔진형식          1509249 non-null  object \n",
      " 33  공차중량          0 non-null        float64\n",
      " 34  총중량           1511226 non-null  float64\n",
      " 35  적재중량          1510714 non-null  float64\n",
      " 36  엔진출력          1510623 non-null  float64\n",
      " 37  배기량           1511240 non-null  float64\n",
      " 38  승차인원          1511251 non-null  float64\n",
      " 39  차량길이          1511176 non-null  float64\n",
      " 40  차량너비          1511176 non-null  float64\n",
      " 41  차량높이          1511174 non-null  float64\n",
      " 42  원산지명          1492122 non-null  object \n",
      " 43  삭제YN          1511251 non-null  object \n",
      " 44  승인일자          1510704 non-null  object \n",
      " 45  구동형식          47 non-null       float64\n",
      " 46  변속기종류         1511091 non-null  object \n",
      " 47  생성일시_제원정보     1511251 non-null  object \n",
      " 48  수정일시_제원정보     497 non-null      object \n",
      "dtypes: float64(14), int64(4), object(31)\n",
      "memory usage: 565.0+ MB\n"
     ]
    }
   ],
   "source": [
    "# about 22s\n",
    "file_name = '[ODS][G4]등록정보&제원정보(말소제거)(2022.12.28).csv'\n",
    "df = pd.read_csv(os.path.join(ods_fold, file_name), encoding='cp949')\n",
    "df.info()"
   ]
  },
  {
   "cell_type": "code",
   "execution_count": 39,
   "metadata": {},
   "outputs": [
    {
     "data": {
      "text/plain": [
       "Index(['차량관리번호', '차량등록번호', '본거지법정동코드', '소유자구분', '차종_등록정보', '용도', '현재회원번호',\n",
       "       '차대번호', '최초등록일자', '차량연식', '차량제작일자', '배출가스검사유효일자', '제원관리번호', '배출가스인증번호',\n",
       "       '배출가스등급', '저공해조치YN(미사용)', '저공해조치종류', '저공해조치구조변경YN', '차량등록번호숫자정보',\n",
       "       '차량말소YN', '최초회원번호', '취득일자', '취득금액', '생성일시_등록정보', '수정일시_등록정보', '차명',\n",
       "       '차종_제원정보', '차종분류', '차종유형(소분류)', '자동차형식', '제작사명', '연료', '엔진형식', '공차중량',\n",
       "       '총중량', '적재중량', '엔진출력', '배기량', '승차인원', '차량길이', '차량너비', '차량높이', '원산지명',\n",
       "       '삭제YN', '승인일자', '구동형식', '변속기종류', '생성일시_제원정보', '수정일시_제원정보'],\n",
       "      dtype='object')"
      ]
     },
     "execution_count": 39,
     "metadata": {},
     "output_type": "execute_result"
    }
   ],
   "source": [
    "df.columns"
   ]
  },
  {
   "cell_type": "code",
   "execution_count": 40,
   "metadata": {},
   "outputs": [
    {
     "data": {
      "text/plain": [
       "경유             1152698\n",
       "휘발유             332351\n",
       "LPG(액화석유가스)      26090\n",
       "NaN                 71\n",
       "기타연료                39\n",
       "알코올                  1\n",
       "CNG(압축천연가스)          1\n",
       "Name: 연료, dtype: int64"
      ]
     },
     "execution_count": 40,
     "metadata": {},
     "output_type": "execute_result"
    }
   ],
   "source": [
    "df['연료'].value_counts(dropna=False)"
   ]
  },
  {
   "cell_type": "code",
   "execution_count": 41,
   "metadata": {},
   "outputs": [
    {
     "data": {
      "text/plain": [
       "N    1511251\n",
       "Name: 차량말소YN, dtype: int64"
      ]
     },
     "execution_count": 41,
     "metadata": {},
     "output_type": "execute_result"
    }
   ],
   "source": [
    "df['차량말소YN'].value_counts(dropna=False)"
   ]
  },
  {
   "attachments": {},
   "cell_type": "markdown",
   "metadata": {},
   "source": [
    "## 정기검사"
   ]
  },
  {
   "cell_type": "code",
   "execution_count": 21,
   "metadata": {},
   "outputs": [
    {
     "name": "stderr",
     "output_type": "stream",
     "text": [
      "C:\\Users\\kbjung\\AppData\\Local\\Temp\\ipykernel_17604\\1947711141.py:3: DtypeWarning: Columns (1) have mixed types. Specify dtype option on import or set low_memory=False.\n",
      "  ins = pd.read_csv(os.path.join(ods_fold, file_name))\n"
     ]
    },
    {
     "name": "stdout",
     "output_type": "stream",
     "text": [
      "<class 'pandas.core.frame.DataFrame'>\n",
      "RangeIndex: 22006426 entries, 0 to 22006425\n",
      "Data columns (total 39 columns):\n",
      " #   Column     Dtype  \n",
      "---  ------     -----  \n",
      " 0   사용연료       object \n",
      " 1   주행거리       object \n",
      " 2   차명         object \n",
      " 3   차량번호       object \n",
      " 4   차대번호       object \n",
      " 5   차종         object \n",
      " 6   차량연식       int64  \n",
      " 7   엔진형식       object \n",
      " 8   검사방법       object \n",
      " 9   검사일자       int64  \n",
      " 10  검사종류       object \n",
      " 11  검사판정시각     object \n",
      " 12  검사판정       object \n",
      " 13  산소값        float64\n",
      " 14  이산화탄소값     float64\n",
      " 15  무부하매연판정1   object \n",
      " 16  무부하매연판정2   object \n",
      " 17  무부하매연판정3   object \n",
      " 18  무부하매연판정4   object \n",
      " 19  무부하매연판정5   object \n",
      " 20  무부하매연판정6   object \n",
      " 21  무부하매연허용치1  float64\n",
      " 22  무부하매연허용치2  float64\n",
      " 23  무부하매연허용치3  float64\n",
      " 24  무부하매연허용치4  float64\n",
      " 25  무부하매연허용치5  float64\n",
      " 26  무부하매연허용치6  float64\n",
      " 27  무부하매연측정치1  float64\n",
      " 28  무부하매연측정치2  float64\n",
      " 29  무부하매연측정치3  float64\n",
      " 30  무부하매연측정치4  float64\n",
      " 31  무부하매연측정치5  float64\n",
      " 32  무부하매연측정치6  float64\n",
      " 33  차량용도       object \n",
      " 34  최대출력허용치    float64\n",
      " 35  최대출력측정값    float64\n",
      " 36  검사접수번호     object \n",
      " 37  검사소명       object \n",
      " 38  재검사기간      object \n",
      "dtypes: float64(16), int64(2), object(21)\n",
      "memory usage: 6.4+ GB\n"
     ]
    }
   ],
   "source": [
    "# about 2m 56s\n",
    "file_name = '[ODS]정기검사(2022.12.28).csv'\n",
    "ins = pd.read_csv(os.path.join(ods_fold, file_name))\n",
    "ins.info()"
   ]
  },
  {
   "attachments": {},
   "cell_type": "markdown",
   "metadata": {},
   "source": [
    "## 정밀검사"
   ]
  },
  {
   "cell_type": "code",
   "execution_count": 22,
   "metadata": {},
   "outputs": [
    {
     "name": "stdout",
     "output_type": "stream",
     "text": [
      "<class 'pandas.core.frame.DataFrame'>\n",
      "RangeIndex: 28682228 entries, 0 to 28682227\n",
      "Data columns (total 41 columns):\n",
      " #   Column     Dtype  \n",
      "---  ------     -----  \n",
      " 0   사용연료       object \n",
      " 1   주행거리       float64\n",
      " 2   차명         object \n",
      " 3   차량번호       object \n",
      " 4   차대번호       object \n",
      " 5   차종         object \n",
      " 6   차량연식       int64  \n",
      " 7   엔진형식       object \n",
      " 8   검사방법       object \n",
      " 9   검사일자       int64  \n",
      " 10  검사종류       object \n",
      " 11  검사판정시각     object \n",
      " 12  검사판정       object \n",
      " 13  산소값        float64\n",
      " 14  이산화탄소값     float64\n",
      " 15  무부하매연판정1   object \n",
      " 16  무부하매연판정2   object \n",
      " 17  무부하매연판정3   object \n",
      " 18  무부하매연판정4   object \n",
      " 19  무부하매연판정5   object \n",
      " 20  무부하매연판정6   object \n",
      " 21  무부하매연허용치1  float64\n",
      " 22  무부하매연허용치2  float64\n",
      " 23  무부하매연허용치3  float64\n",
      " 24  무부하매연허용치4  float64\n",
      " 25  무부하매연허용치5  float64\n",
      " 26  무부하매연허용치6  float64\n",
      " 27  무부하매연측정치1  float64\n",
      " 28  무부하매연측정치2  float64\n",
      " 29  무부하매연측정치3  float64\n",
      " 30  무부하매연측정치4  float64\n",
      " 31  무부하매연측정치5  float64\n",
      " 32  무부하매연측정치6  float64\n",
      " 33  차량용도       object \n",
      " 34  최대출력허용치    float64\n",
      " 35  최대출력측정값    float64\n",
      " 36  검사접수번호     object \n",
      " 37  검사소명       object \n",
      " 38  재검사기간      object \n",
      " 39  검사 검사소코드   object \n",
      " 40  검사유효기간     float64\n",
      "dtypes: float64(18), int64(2), object(21)\n",
      "memory usage: 8.8+ GB\n"
     ]
    }
   ],
   "source": [
    "# about \n",
    "file_name = '[ODS]정밀검사(2022.12.28).csv'\n",
    "dins = pd.read_csv(os.path.join(ods_fold, file_name))\n",
    "dins.info()"
   ]
  },
  {
   "attachments": {},
   "cell_type": "markdown",
   "metadata": {},
   "source": [
    "## 4등급차 회신내역 정리(23.02.14.)(정리)"
   ]
  },
  {
   "cell_type": "code",
   "execution_count": 6,
   "metadata": {},
   "outputs": [
    {
     "name": "stdout",
     "output_type": "stream",
     "text": [
      "<class 'pandas.core.frame.DataFrame'>\n",
      "RangeIndex: 133 entries, 0 to 132\n",
      "Data columns (total 2 columns):\n",
      " #   Column    Non-Null Count  Dtype \n",
      "---  ------    --------------  ----- \n",
      " 0   배출가스인증번호  133 non-null    object\n",
      " 1   차량 대수(대)  133 non-null    int64 \n",
      "dtypes: int64(1), object(1)\n",
      "memory usage: 2.2+ KB\n"
     ]
    }
   ],
   "source": [
    "# about \n",
    "file_name = '4등급차 회신내역 정리(23.02.14.)(정리).xlsx'\n",
    "check_df = pd.read_excel(os.path.join(g4_data_check_fold, file_name))\n",
    "check_df.info()"
   ]
  },
  {
   "attachments": {},
   "cell_type": "markdown",
   "metadata": {},
   "source": [
    "# 전처리\n",
    "    - 등록&제원정보\n",
    "        - 경유차만 추출\n",
    "        - 차대번호 중복 제거\n",
    "    - 정기, 정밀 검사\n",
    "        - 정기/정밀 검사 표기 컬럼 추가\n",
    "        - 병합\n",
    "        - 최신 검사만 추출\n",
    "    - 등록&제원, 정기&정밀 병합(차대번호 기준)"
   ]
  },
  {
   "attachments": {},
   "cell_type": "markdown",
   "metadata": {},
   "source": [
    "## 등록&제원정보\n"
   ]
  },
  {
   "attachments": {},
   "cell_type": "markdown",
   "metadata": {},
   "source": [
    "### 말소 제거"
   ]
  },
  {
   "cell_type": "code",
   "execution_count": 7,
   "metadata": {},
   "outputs": [
    {
     "data": {
      "text/plain": [
       "(1511251, 49)"
      ]
     },
     "execution_count": 7,
     "metadata": {},
     "output_type": "execute_result"
    }
   ],
   "source": [
    "df.shape"
   ]
  },
  {
   "cell_type": "code",
   "execution_count": 8,
   "metadata": {},
   "outputs": [
    {
     "data": {
      "text/plain": [
       "(1511251, 49)"
      ]
     },
     "execution_count": 8,
     "metadata": {},
     "output_type": "execute_result"
    }
   ],
   "source": [
    "df = df[df['차량말소YN'] == 'N']\n",
    "df.shape"
   ]
  },
  {
   "attachments": {},
   "cell_type": "markdown",
   "metadata": {},
   "source": [
    "### 경유차만 추출"
   ]
  },
  {
   "cell_type": "code",
   "execution_count": 9,
   "metadata": {},
   "outputs": [
    {
     "data": {
      "text/plain": [
       "(1511251, 49)"
      ]
     },
     "execution_count": 9,
     "metadata": {},
     "output_type": "execute_result"
    }
   ],
   "source": [
    "df.shape"
   ]
  },
  {
   "cell_type": "code",
   "execution_count": 10,
   "metadata": {},
   "outputs": [
    {
     "data": {
      "text/plain": [
       "(1152698, 49)"
      ]
     },
     "execution_count": 10,
     "metadata": {},
     "output_type": "execute_result"
    }
   ],
   "source": [
    "df1 = df[df['연료'] == '경유'].reset_index(drop=True)\n",
    "df1.shape"
   ]
  },
  {
   "attachments": {},
   "cell_type": "markdown",
   "metadata": {},
   "source": [
    "### 차대번호 중복 제거\n",
    "- '최초등록일자', '배출가스검사유효일자' 최신 순"
   ]
  },
  {
   "cell_type": "code",
   "execution_count": 11,
   "metadata": {},
   "outputs": [
    {
     "data": {
      "text/plain": [
       "(1152698, 49)"
      ]
     },
     "execution_count": 11,
     "metadata": {},
     "output_type": "execute_result"
    }
   ],
   "source": [
    "df2 = df1.sort_values(['최초등록일자', '배출가스검사유효일자'], ascending=[False, False]).drop_duplicates('차대번호').reset_index(drop=True)\n",
    "df2.shape"
   ]
  },
  {
   "attachments": {},
   "cell_type": "markdown",
   "metadata": {},
   "source": [
    "## 정기, 정밀 검사"
   ]
  },
  {
   "attachments": {},
   "cell_type": "markdown",
   "metadata": {},
   "source": [
    "### 정기, 정밀 검사 표기 컬럼 추가"
   ]
  },
  {
   "cell_type": "code",
   "execution_count": 47,
   "metadata": {},
   "outputs": [
    {
     "data": {
      "text/plain": [
       "((22006426, 40), (28682228, 42))"
      ]
     },
     "execution_count": 47,
     "metadata": {},
     "output_type": "execute_result"
    }
   ],
   "source": [
    "ins['정기정밀'] = '정기'\n",
    "dins['정기정밀'] = '정밀'\n",
    "ins.shape, dins.shape"
   ]
  },
  {
   "attachments": {},
   "cell_type": "markdown",
   "metadata": {},
   "source": [
    "### 병합"
   ]
  },
  {
   "cell_type": "code",
   "execution_count": 48,
   "metadata": {},
   "outputs": [
    {
     "data": {
      "text/plain": [
       "(50688654, 42)"
      ]
     },
     "execution_count": 48,
     "metadata": {},
     "output_type": "execute_result"
    }
   ],
   "source": [
    "# about 17s\n",
    "tin = pd.concat([ins, dins], ignore_index=True)\n",
    "tin.shape"
   ]
  },
  {
   "attachments": {},
   "cell_type": "markdown",
   "metadata": {},
   "source": [
    "### 최신 검사만 추출"
   ]
  },
  {
   "cell_type": "code",
   "execution_count": 49,
   "metadata": {},
   "outputs": [
    {
     "data": {
      "text/plain": [
       "(22044208, 42)"
      ]
     },
     "execution_count": 49,
     "metadata": {},
     "output_type": "execute_result"
    }
   ],
   "source": [
    "# about 6m 26s\n",
    "tin1 = tin.sort_values('검사일자', ascending=False).drop_duplicates('차대번호').reset_index(drop=True)\n",
    "tin1.shape"
   ]
  },
  {
   "attachments": {},
   "cell_type": "markdown",
   "metadata": {},
   "source": [
    "#### [출력] 정기&정밀검사"
   ]
  },
  {
   "cell_type": "code",
   "execution_count": 50,
   "metadata": {},
   "outputs": [],
   "source": [
    "# about 16m 44s\n",
    "tin.to_csv(os.path.join(ods_fold, '[ODS]정기&정밀검사(2022.12.28).csv'), index=False)"
   ]
  },
  {
   "attachments": {},
   "cell_type": "markdown",
   "metadata": {},
   "source": [
    "#### [출력] 정기&정밀검사(최신검사만)"
   ]
  },
  {
   "cell_type": "code",
   "execution_count": null,
   "metadata": {},
   "outputs": [],
   "source": [
    "# about 7m 17s\n",
    "tin1.to_csv(os.path.join(ods_fold, '[ODS]정기&정밀검사(최신검사만)(2022.12.28).csv'), index=False)"
   ]
  },
  {
   "attachments": {},
   "cell_type": "markdown",
   "metadata": {},
   "source": [
    "# [로드] 정기&정밀검사(최신검사만)"
   ]
  },
  {
   "cell_type": "code",
   "execution_count": 4,
   "metadata": {},
   "outputs": [
    {
     "name": "stderr",
     "output_type": "stream",
     "text": [
      "C:\\Users\\kbjung\\AppData\\Local\\Temp\\ipykernel_8664\\2047139476.py:2: DtypeWarning: Columns (1,40) have mixed types. Specify dtype option on import or set low_memory=False.\n",
      "  tin1 = pd.read_csv(os.path.join(ods_fold, '[ODS]정기&정밀검사(최신검사만)(2022.12.28).csv'))\n"
     ]
    }
   ],
   "source": [
    "# about 3m 4s\n",
    "tin1 = pd.read_csv(os.path.join(ods_fold, '[ODS]정기&정밀검사(최신검사만)(2022.12.28).csv'), low_memory=False)\n",
    "tin1.info()"
   ]
  },
  {
   "attachments": {},
   "cell_type": "markdown",
   "metadata": {},
   "source": [
    "## 등록&제원 과 정기&정밀 데이터 병합"
   ]
  },
  {
   "cell_type": "code",
   "execution_count": 12,
   "metadata": {},
   "outputs": [
    {
     "data": {
      "text/plain": [
       "(1152698, 49)"
      ]
     },
     "execution_count": 12,
     "metadata": {},
     "output_type": "execute_result"
    }
   ],
   "source": [
    "df2.shape"
   ]
  },
  {
   "cell_type": "code",
   "execution_count": 13,
   "metadata": {},
   "outputs": [
    {
     "data": {
      "text/plain": [
       "(1152698, 90)"
      ]
     },
     "execution_count": 13,
     "metadata": {},
     "output_type": "execute_result"
    }
   ],
   "source": [
    "# about \n",
    "total = df2.merge(tin1, on='차대번호', how='left')\n",
    "total.shape"
   ]
  },
  {
   "attachments": {},
   "cell_type": "markdown",
   "metadata": {},
   "source": [
    "### [출력] 등록&제원&정기&정밀 데이터 병합"
   ]
  },
  {
   "cell_type": "code",
   "execution_count": 14,
   "metadata": {},
   "outputs": [],
   "source": [
    "# about 51s\n",
    "total.to_csv(os.path.join(ods_fold, '[G4]등록&제원&정기&정밀(최신검사만).csv'), index=False)"
   ]
  },
  {
   "attachments": {},
   "cell_type": "markdown",
   "metadata": {},
   "source": [
    "## [로드] 등록&제원&정기&정밀 데이터"
   ]
  },
  {
   "cell_type": "code",
   "execution_count": 15,
   "metadata": {},
   "outputs": [
    {
     "name": "stderr",
     "output_type": "stream",
     "text": [
      "C:\\Users\\kbjung\\AppData\\Local\\Temp\\ipykernel_8664\\3224600024.py:2: DtypeWarning: Columns (14,48,65,66,67,68) have mixed types. Specify dtype option on import or set low_memory=False.\n",
      "  total = pd.read_csv(os.path.join(ods_fold, '[G4]등록&제원&정기&정밀(최신검사만).csv'))\n"
     ]
    },
    {
     "name": "stdout",
     "output_type": "stream",
     "text": [
      "<class 'pandas.core.frame.DataFrame'>\n",
      "RangeIndex: 1152698 entries, 0 to 1152697\n",
      "Data columns (total 90 columns):\n",
      " #   Column        Non-Null Count    Dtype  \n",
      "---  ------        --------------    -----  \n",
      " 0   차량관리번호        1152698 non-null  object \n",
      " 1   차량등록번호        1152698 non-null  object \n",
      " 2   본거지법정동코드      1152698 non-null  int64  \n",
      " 3   소유자구분         1152698 non-null  object \n",
      " 4   차종_등록정보       1152698 non-null  object \n",
      " 5   용도            1152698 non-null  object \n",
      " 6   현재회원번호        1152698 non-null  object \n",
      " 7   차대번호          1152698 non-null  object \n",
      " 8   최초등록일자        1152698 non-null  int64  \n",
      " 9   차량연식_x        1152698 non-null  int64  \n",
      " 10  차량제작일자        1152694 non-null  float64\n",
      " 11  배출가스검사유효일자    1152696 non-null  float64\n",
      " 12  제원관리번호        1152698 non-null  object \n",
      " 13  배출가스인증번호      1145077 non-null  object \n",
      " 14  배출가스등급        1152698 non-null  object \n",
      " 15  저공해조치YN(미사용)  1152552 non-null  object \n",
      " 16  저공해조치종류       187 non-null      float64\n",
      " 17  저공해조치구조변경YN   1152698 non-null  object \n",
      " 18  차량등록번호숫자정보    1152698 non-null  int64  \n",
      " 19  차량말소YN        1152698 non-null  object \n",
      " 20  최초회원번호        1152697 non-null  object \n",
      " 21  취득일자          1141098 non-null  float64\n",
      " 22  취득금액          1140992 non-null  float64\n",
      " 23  생성일시_등록정보     1152698 non-null  object \n",
      " 24  수정일시_등록정보     768029 non-null   object \n",
      " 25  차명_x          1152698 non-null  object \n",
      " 26  차종_제원정보       1152698 non-null  object \n",
      " 27  차종분류          1152698 non-null  object \n",
      " 28  차종유형(소분류)     1152698 non-null  object \n",
      " 29  자동차형식         1152696 non-null  object \n",
      " 30  제작사명          1152680 non-null  object \n",
      " 31  연료            1152698 non-null  object \n",
      " 32  엔진형식_x        1152697 non-null  object \n",
      " 33  공차중량          0 non-null        float64\n",
      " 34  총중량           1152698 non-null  float64\n",
      " 35  적재중량          1152467 non-null  float64\n",
      " 36  엔진출력          1152695 non-null  float64\n",
      " 37  배기량           1152698 non-null  float64\n",
      " 38  승차인원          1152698 non-null  float64\n",
      " 39  차량길이          1152697 non-null  float64\n",
      " 40  차량너비          1152697 non-null  float64\n",
      " 41  차량높이          1152697 non-null  float64\n",
      " 42  원산지명          1152698 non-null  object \n",
      " 43  삭제YN          1152698 non-null  object \n",
      " 44  승인일자          1152698 non-null  float64\n",
      " 45  구동형식          36 non-null       float64\n",
      " 46  변속기종류         1152671 non-null  object \n",
      " 47  생성일시_제원정보     1152698 non-null  object \n",
      " 48  수정일시_제원정보     420 non-null      object \n",
      " 49  사용연료          1129094 non-null  object \n",
      " 50  주행거리          1128973 non-null  float64\n",
      " 51  차명_y          1129094 non-null  object \n",
      " 52  차량번호          1129094 non-null  object \n",
      " 53  차종            1129094 non-null  object \n",
      " 54  차량연식_y        1129094 non-null  float64\n",
      " 55  엔진형식_y        1129083 non-null  object \n",
      " 56  검사방법          1129094 non-null  object \n",
      " 57  검사일자          1129094 non-null  float64\n",
      " 58  검사종류          1129094 non-null  object \n",
      " 59  검사판정시각        1120141 non-null  object \n",
      " 60  검사판정          1129094 non-null  object \n",
      " 61  산소값           812617 non-null   float64\n",
      " 62  이산화탄소값        812617 non-null   float64\n",
      " 63  무부하매연판정1      1120136 non-null  object \n",
      " 64  무부하매연판정2      44900 non-null    object \n",
      " 65  무부하매연판정3      43983 non-null    object \n",
      " 66  무부하매연판정4      43981 non-null    object \n",
      " 67  무부하매연판정5      43981 non-null    object \n",
      " 68  무부하매연판정6      46 non-null       object \n",
      " 69  무부하매연허용치1     1120136 non-null  float64\n",
      " 70  무부하매연허용치2     329792 non-null   float64\n",
      " 71  무부하매연허용치3     329791 non-null   float64\n",
      " 72  무부하매연허용치4     329789 non-null   float64\n",
      " 73  무부하매연허용치5     329789 non-null   float64\n",
      " 74  무부하매연허용치6     297589 non-null   float64\n",
      " 75  무부하매연측정치1     1120141 non-null  float64\n",
      " 76  무부하매연측정치2     364613 non-null   float64\n",
      " 77  무부하매연측정치3     329793 non-null   float64\n",
      " 78  무부하매연측정치4     329791 non-null   float64\n",
      " 79  무부하매연측정치5     329791 non-null   float64\n",
      " 80  무부하매연측정치6     297589 non-null   float64\n",
      " 81  차량용도          1129094 non-null  object \n",
      " 82  최대출력허용치       32207 non-null    float64\n",
      " 83  최대출력측정값       0 non-null        float64\n",
      " 84  검사접수번호        1129094 non-null  object \n",
      " 85  검사소명          1129094 non-null  object \n",
      " 86  재검사기간         1129094 non-null  object \n",
      " 87  정기정밀          1129094 non-null  object \n",
      " 88  검사 검사소코드      894215 non-null   object \n",
      " 89  검사유효기간        894215 non-null   float64\n",
      "dtypes: float64(36), int64(4), object(50)\n",
      "memory usage: 791.5+ MB\n"
     ]
    }
   ],
   "source": [
    "# about 24s\n",
    "total = pd.read_csv(os.path.join(ods_fold, '[G4]등록&제원&정기&정밀(최신검사만).csv'), low_memory=False)\n",
    "total.info()"
   ]
  },
  {
   "attachments": {},
   "cell_type": "markdown",
   "metadata": {},
   "source": [
    "## 차량연식과 차대번호10자리 연식 다른 데이터 제거"
   ]
  },
  {
   "cell_type": "code",
   "execution_count": 16,
   "metadata": {},
   "outputs": [
    {
     "data": {
      "text/html": [
       "<div>\n",
       "<style scoped>\n",
       "    .dataframe tbody tr th:only-of-type {\n",
       "        vertical-align: middle;\n",
       "    }\n",
       "\n",
       "    .dataframe tbody tr th {\n",
       "        vertical-align: top;\n",
       "    }\n",
       "\n",
       "    .dataframe thead th {\n",
       "        text-align: right;\n",
       "    }\n",
       "</style>\n",
       "<table border=\"1\" class=\"dataframe\">\n",
       "  <thead>\n",
       "    <tr style=\"text-align: right;\">\n",
       "      <th></th>\n",
       "      <th>차대번호</th>\n",
       "      <th>vin10</th>\n",
       "    </tr>\n",
       "  </thead>\n",
       "  <tbody>\n",
       "    <tr>\n",
       "      <th>0</th>\n",
       "      <td>KMFLA18KP8C028585</td>\n",
       "      <td>8</td>\n",
       "    </tr>\n",
       "    <tr>\n",
       "      <th>1</th>\n",
       "      <td>KMCLK18KP8C035195</td>\n",
       "      <td>8</td>\n",
       "    </tr>\n",
       "    <tr>\n",
       "      <th>2</th>\n",
       "      <td>KMFLA18KP8C031274</td>\n",
       "      <td>8</td>\n",
       "    </tr>\n",
       "    <tr>\n",
       "      <th>3</th>\n",
       "      <td>KMCGK17HP9C112030</td>\n",
       "      <td>9</td>\n",
       "    </tr>\n",
       "    <tr>\n",
       "      <th>4</th>\n",
       "      <td>KLACA26RD8B226753</td>\n",
       "      <td>8</td>\n",
       "    </tr>\n",
       "  </tbody>\n",
       "</table>\n",
       "</div>"
      ],
      "text/plain": [
       "                차대번호 vin10\n",
       "0  KMFLA18KP8C028585     8\n",
       "1  KMCLK18KP8C035195     8\n",
       "2  KMFLA18KP8C031274     8\n",
       "3  KMCGK17HP9C112030     9\n",
       "4  KLACA26RD8B226753     8"
      ]
     },
     "execution_count": 16,
     "metadata": {},
     "output_type": "execute_result"
    }
   ],
   "source": [
    "total['vin10'] = total['차대번호'].str[9]\n",
    "total[['차대번호', 'vin10']].head()"
   ]
  },
  {
   "cell_type": "code",
   "execution_count": 17,
   "metadata": {},
   "outputs": [],
   "source": [
    "vin10_dict = {'J':1988, 'K':1989, 'L':1990, 'M':1991, 'N':1992, 'P':1993, 'R':1994, 'S':1995, 'T':1996, 'V':1997, 'W':1998, 'X':1999, 'Y':2000, '1':2001, '2':2002, '3':2003, '4':2004, '5':2005, '6':2006, '7':2007, '8':2008, '9':2009, 'A':2010, 'B':2011, 'C':2012, 'D':2013, 'E':2014, 'F':2015, 'G':2016, 'H':2017}"
   ]
  },
  {
   "cell_type": "code",
   "execution_count": 18,
   "metadata": {},
   "outputs": [],
   "source": [
    "total['vin10_year'] = total['vin10'].map(vin10_dict, na_action='ignore')"
   ]
  },
  {
   "cell_type": "code",
   "execution_count": 19,
   "metadata": {},
   "outputs": [
    {
     "data": {
      "text/plain": [
       "(1152698, 92)"
      ]
     },
     "execution_count": 19,
     "metadata": {},
     "output_type": "execute_result"
    }
   ],
   "source": [
    "total.shape"
   ]
  },
  {
   "cell_type": "code",
   "execution_count": 20,
   "metadata": {},
   "outputs": [
    {
     "data": {
      "text/plain": [
       "2010.0    250181\n",
       "2011.0    235847\n",
       "2008.0    222602\n",
       "2009.0    210822\n",
       "2007.0    103939\n",
       "2012.0     93535\n",
       "2006.0     32595\n",
       "2005.0       941\n",
       "2017.0       732\n",
       "1988.0       485\n",
       "2016.0       482\n",
       "2015.0       463\n",
       "2013.0        30\n",
       "1989.0        14\n",
       "2014.0        14\n",
       "1990.0         3\n",
       "NaN            3\n",
       "2002.0         2\n",
       "2001.0         2\n",
       "2004.0         1\n",
       "2003.0         1\n",
       "1994.0         1\n",
       "1992.0         1\n",
       "1993.0         1\n",
       "1996.0         1\n",
       "Name: vin10_year, dtype: int64"
      ]
     },
     "execution_count": 20,
     "metadata": {},
     "output_type": "execute_result"
    }
   ],
   "source": [
    "total['vin10_year'].value_counts(dropna=False)"
   ]
  },
  {
   "attachments": {},
   "cell_type": "markdown",
   "metadata": {},
   "source": [
    "## [출력] 배인번호별 파일 출력"
   ]
  },
  {
   "cell_type": "code",
   "execution_count": 21,
   "metadata": {},
   "outputs": [
    {
     "data": {
      "text/plain": [
       "7621"
      ]
     },
     "execution_count": 21,
     "metadata": {},
     "output_type": "execute_result"
    }
   ],
   "source": [
    "total['배출가스인증번호'].isnull().sum()"
   ]
  },
  {
   "cell_type": "code",
   "execution_count": 24,
   "metadata": {},
   "outputs": [],
   "source": [
    "total['배출가스인증번호'] = total['배출가스인증번호'].astype('str')"
   ]
  },
  {
   "cell_type": "code",
   "execution_count": 25,
   "metadata": {},
   "outputs": [
    {
     "name": "stderr",
     "output_type": "stream",
     "text": [
      "100%|██████████| 207/207 [01:06<00:00,  3.11it/s]\n"
     ]
    }
   ],
   "source": [
    "# about 1m 15s\n",
    "# csv\n",
    "for one in tqdm(total['배출가스인증번호'].unique()):\n",
    "    total[total['배출가스인증번호'] == one].reset_index(drop=True).to_csv(f'D:/data/big2/BD1_4등급_데이터_점검1/과제1/{one}.csv', index=False, encoding='cp949')"
   ]
  },
  {
   "cell_type": "code",
   "execution_count": 76,
   "metadata": {},
   "outputs": [
    {
     "name": "stderr",
     "output_type": "stream",
     "text": [
      "  7%|▋         | 14/207 [12:52<2:57:29, 55.18s/it]\n"
     ]
    },
    {
     "ename": "KeyboardInterrupt",
     "evalue": "",
     "output_type": "error",
     "traceback": [
      "\u001b[1;31m---------------------------------------------------------------------------\u001b[0m",
      "\u001b[1;31mKeyboardInterrupt\u001b[0m                         Traceback (most recent call last)",
      "\u001b[1;32m~\\AppData\\Local\\Temp\\ipykernel_8664\\3771803539.py\u001b[0m in \u001b[0;36m<module>\u001b[1;34m\u001b[0m\n\u001b[0;32m      2\u001b[0m \u001b[1;31m# excel\u001b[0m\u001b[1;33m\u001b[0m\u001b[1;33m\u001b[0m\u001b[0m\n\u001b[0;32m      3\u001b[0m \u001b[1;32mfor\u001b[0m \u001b[0mone\u001b[0m \u001b[1;32min\u001b[0m \u001b[0mtqdm\u001b[0m\u001b[1;33m(\u001b[0m\u001b[0mtotal\u001b[0m\u001b[1;33m[\u001b[0m\u001b[1;34m'배출가스인증번호'\u001b[0m\u001b[1;33m]\u001b[0m\u001b[1;33m.\u001b[0m\u001b[0munique\u001b[0m\u001b[1;33m(\u001b[0m\u001b[1;33m)\u001b[0m\u001b[1;33m)\u001b[0m\u001b[1;33m:\u001b[0m\u001b[1;33m\u001b[0m\u001b[1;33m\u001b[0m\u001b[0m\n\u001b[1;32m----> 4\u001b[1;33m     \u001b[0mtotal\u001b[0m\u001b[1;33m[\u001b[0m\u001b[0mtotal\u001b[0m\u001b[1;33m[\u001b[0m\u001b[1;34m'배출가스인증번호'\u001b[0m\u001b[1;33m]\u001b[0m \u001b[1;33m==\u001b[0m \u001b[0mone\u001b[0m\u001b[1;33m]\u001b[0m\u001b[1;33m.\u001b[0m\u001b[0mreset_index\u001b[0m\u001b[1;33m(\u001b[0m\u001b[0mdrop\u001b[0m\u001b[1;33m=\u001b[0m\u001b[1;32mTrue\u001b[0m\u001b[1;33m)\u001b[0m\u001b[1;33m.\u001b[0m\u001b[0mto_excel\u001b[0m\u001b[1;33m(\u001b[0m\u001b[1;34mf'D:/data/big2/BD1_4등급_데이터_점검1/과제1/{one}.xlsx'\u001b[0m\u001b[1;33m,\u001b[0m \u001b[0mindex\u001b[0m\u001b[1;33m=\u001b[0m\u001b[1;32mFalse\u001b[0m\u001b[1;33m)\u001b[0m\u001b[1;33m\u001b[0m\u001b[1;33m\u001b[0m\u001b[0m\n\u001b[0m",
      "\u001b[1;32m~\\AppData\\Roaming\\Python\\Python39\\site-packages\\pandas\\util\\_decorators.py\u001b[0m in \u001b[0;36mwrapper\u001b[1;34m(*args, **kwargs)\u001b[0m\n\u001b[0;32m    209\u001b[0m                 \u001b[1;32melse\u001b[0m\u001b[1;33m:\u001b[0m\u001b[1;33m\u001b[0m\u001b[1;33m\u001b[0m\u001b[0m\n\u001b[0;32m    210\u001b[0m                     \u001b[0mkwargs\u001b[0m\u001b[1;33m[\u001b[0m\u001b[0mnew_arg_name\u001b[0m\u001b[1;33m]\u001b[0m \u001b[1;33m=\u001b[0m \u001b[0mnew_arg_value\u001b[0m\u001b[1;33m\u001b[0m\u001b[1;33m\u001b[0m\u001b[0m\n\u001b[1;32m--> 211\u001b[1;33m             \u001b[1;32mreturn\u001b[0m \u001b[0mfunc\u001b[0m\u001b[1;33m(\u001b[0m\u001b[1;33m*\u001b[0m\u001b[0margs\u001b[0m\u001b[1;33m,\u001b[0m \u001b[1;33m**\u001b[0m\u001b[0mkwargs\u001b[0m\u001b[1;33m)\u001b[0m\u001b[1;33m\u001b[0m\u001b[1;33m\u001b[0m\u001b[0m\n\u001b[0m\u001b[0;32m    212\u001b[0m \u001b[1;33m\u001b[0m\u001b[0m\n\u001b[0;32m    213\u001b[0m         \u001b[1;32mreturn\u001b[0m \u001b[0mcast\u001b[0m\u001b[1;33m(\u001b[0m\u001b[0mF\u001b[0m\u001b[1;33m,\u001b[0m \u001b[0mwrapper\u001b[0m\u001b[1;33m)\u001b[0m\u001b[1;33m\u001b[0m\u001b[1;33m\u001b[0m\u001b[0m\n",
      "\u001b[1;32m~\\AppData\\Roaming\\Python\\Python39\\site-packages\\pandas\\util\\_decorators.py\u001b[0m in \u001b[0;36mwrapper\u001b[1;34m(*args, **kwargs)\u001b[0m\n\u001b[0;32m    209\u001b[0m                 \u001b[1;32melse\u001b[0m\u001b[1;33m:\u001b[0m\u001b[1;33m\u001b[0m\u001b[1;33m\u001b[0m\u001b[0m\n\u001b[0;32m    210\u001b[0m                     \u001b[0mkwargs\u001b[0m\u001b[1;33m[\u001b[0m\u001b[0mnew_arg_name\u001b[0m\u001b[1;33m]\u001b[0m \u001b[1;33m=\u001b[0m \u001b[0mnew_arg_value\u001b[0m\u001b[1;33m\u001b[0m\u001b[1;33m\u001b[0m\u001b[0m\n\u001b[1;32m--> 211\u001b[1;33m             \u001b[1;32mreturn\u001b[0m \u001b[0mfunc\u001b[0m\u001b[1;33m(\u001b[0m\u001b[1;33m*\u001b[0m\u001b[0margs\u001b[0m\u001b[1;33m,\u001b[0m \u001b[1;33m**\u001b[0m\u001b[0mkwargs\u001b[0m\u001b[1;33m)\u001b[0m\u001b[1;33m\u001b[0m\u001b[1;33m\u001b[0m\u001b[0m\n\u001b[0m\u001b[0;32m    212\u001b[0m \u001b[1;33m\u001b[0m\u001b[0m\n\u001b[0;32m    213\u001b[0m         \u001b[1;32mreturn\u001b[0m \u001b[0mcast\u001b[0m\u001b[1;33m(\u001b[0m\u001b[0mF\u001b[0m\u001b[1;33m,\u001b[0m \u001b[0mwrapper\u001b[0m\u001b[1;33m)\u001b[0m\u001b[1;33m\u001b[0m\u001b[1;33m\u001b[0m\u001b[0m\n",
      "\u001b[1;32m~\\AppData\\Roaming\\Python\\Python39\\site-packages\\pandas\\core\\generic.py\u001b[0m in \u001b[0;36mto_excel\u001b[1;34m(self, excel_writer, sheet_name, na_rep, float_format, columns, header, index, index_label, startrow, startcol, engine, merge_cells, encoding, inf_rep, verbose, freeze_panes, storage_options)\u001b[0m\n\u001b[0;32m   2372\u001b[0m             \u001b[0minf_rep\u001b[0m\u001b[1;33m=\u001b[0m\u001b[0minf_rep\u001b[0m\u001b[1;33m,\u001b[0m\u001b[1;33m\u001b[0m\u001b[1;33m\u001b[0m\u001b[0m\n\u001b[0;32m   2373\u001b[0m         )\n\u001b[1;32m-> 2374\u001b[1;33m         formatter.write(\n\u001b[0m\u001b[0;32m   2375\u001b[0m             \u001b[0mexcel_writer\u001b[0m\u001b[1;33m,\u001b[0m\u001b[1;33m\u001b[0m\u001b[1;33m\u001b[0m\u001b[0m\n\u001b[0;32m   2376\u001b[0m             \u001b[0msheet_name\u001b[0m\u001b[1;33m=\u001b[0m\u001b[0msheet_name\u001b[0m\u001b[1;33m,\u001b[0m\u001b[1;33m\u001b[0m\u001b[1;33m\u001b[0m\u001b[0m\n",
      "\u001b[1;32m~\\AppData\\Roaming\\Python\\Python39\\site-packages\\pandas\\io\\formats\\excel.py\u001b[0m in \u001b[0;36mwrite\u001b[1;34m(self, writer, sheet_name, startrow, startcol, freeze_panes, engine, storage_options)\u001b[0m\n\u001b[0;32m    932\u001b[0m             \u001b[1;31m# make sure to close opened file handles\u001b[0m\u001b[1;33m\u001b[0m\u001b[1;33m\u001b[0m\u001b[0m\n\u001b[0;32m    933\u001b[0m             \u001b[1;32mif\u001b[0m \u001b[0mneed_save\u001b[0m\u001b[1;33m:\u001b[0m\u001b[1;33m\u001b[0m\u001b[1;33m\u001b[0m\u001b[0m\n\u001b[1;32m--> 934\u001b[1;33m                 \u001b[0mwriter\u001b[0m\u001b[1;33m.\u001b[0m\u001b[0mclose\u001b[0m\u001b[1;33m(\u001b[0m\u001b[1;33m)\u001b[0m\u001b[1;33m\u001b[0m\u001b[1;33m\u001b[0m\u001b[0m\n\u001b[0m",
      "\u001b[1;32m~\\AppData\\Roaming\\Python\\Python39\\site-packages\\pandas\\io\\excel\\_base.py\u001b[0m in \u001b[0;36mclose\u001b[1;34m(self)\u001b[0m\n\u001b[0;32m   1478\u001b[0m     \u001b[1;32mdef\u001b[0m \u001b[0mclose\u001b[0m\u001b[1;33m(\u001b[0m\u001b[0mself\u001b[0m\u001b[1;33m)\u001b[0m \u001b[1;33m->\u001b[0m \u001b[1;32mNone\u001b[0m\u001b[1;33m:\u001b[0m\u001b[1;33m\u001b[0m\u001b[1;33m\u001b[0m\u001b[0m\n\u001b[0;32m   1479\u001b[0m         \u001b[1;34m\"\"\"synonym for save, to make it more file-like\"\"\"\u001b[0m\u001b[1;33m\u001b[0m\u001b[1;33m\u001b[0m\u001b[0m\n\u001b[1;32m-> 1480\u001b[1;33m         \u001b[0mself\u001b[0m\u001b[1;33m.\u001b[0m\u001b[0m_save\u001b[0m\u001b[1;33m(\u001b[0m\u001b[1;33m)\u001b[0m\u001b[1;33m\u001b[0m\u001b[1;33m\u001b[0m\u001b[0m\n\u001b[0m\u001b[0;32m   1481\u001b[0m         \u001b[0mself\u001b[0m\u001b[1;33m.\u001b[0m\u001b[0m_handles\u001b[0m\u001b[1;33m.\u001b[0m\u001b[0mclose\u001b[0m\u001b[1;33m(\u001b[0m\u001b[1;33m)\u001b[0m\u001b[1;33m\u001b[0m\u001b[1;33m\u001b[0m\u001b[0m\n\u001b[0;32m   1482\u001b[0m \u001b[1;33m\u001b[0m\u001b[0m\n",
      "\u001b[1;32m~\\AppData\\Roaming\\Python\\Python39\\site-packages\\pandas\\io\\excel\\_xlsxwriter.py\u001b[0m in \u001b[0;36m_save\u001b[1;34m(self)\u001b[0m\n\u001b[0;32m    242\u001b[0m         \u001b[0mSave\u001b[0m \u001b[0mworkbook\u001b[0m \u001b[0mto\u001b[0m \u001b[0mdisk\u001b[0m\u001b[1;33m.\u001b[0m\u001b[1;33m\u001b[0m\u001b[1;33m\u001b[0m\u001b[0m\n\u001b[0;32m    243\u001b[0m         \"\"\"\n\u001b[1;32m--> 244\u001b[1;33m         \u001b[0mself\u001b[0m\u001b[1;33m.\u001b[0m\u001b[0mbook\u001b[0m\u001b[1;33m.\u001b[0m\u001b[0mclose\u001b[0m\u001b[1;33m(\u001b[0m\u001b[1;33m)\u001b[0m\u001b[1;33m\u001b[0m\u001b[1;33m\u001b[0m\u001b[0m\n\u001b[0m\u001b[0;32m    245\u001b[0m \u001b[1;33m\u001b[0m\u001b[0m\n\u001b[0;32m    246\u001b[0m     def _write_cells(\n",
      "\u001b[1;32mc:\\ProgramData\\Anaconda3\\lib\\site-packages\\xlsxwriter\\workbook.py\u001b[0m in \u001b[0;36mclose\u001b[1;34m(self)\u001b[0m\n\u001b[0;32m    322\u001b[0m \u001b[1;33m\u001b[0m\u001b[0m\n\u001b[0;32m    323\u001b[0m             \u001b[1;32mtry\u001b[0m\u001b[1;33m:\u001b[0m\u001b[1;33m\u001b[0m\u001b[1;33m\u001b[0m\u001b[0m\n\u001b[1;32m--> 324\u001b[1;33m                 \u001b[0mself\u001b[0m\u001b[1;33m.\u001b[0m\u001b[0m_store_workbook\u001b[0m\u001b[1;33m(\u001b[0m\u001b[1;33m)\u001b[0m\u001b[1;33m\u001b[0m\u001b[1;33m\u001b[0m\u001b[0m\n\u001b[0m\u001b[0;32m    325\u001b[0m             \u001b[1;32mexcept\u001b[0m \u001b[0mIOError\u001b[0m \u001b[1;32mas\u001b[0m \u001b[0me\u001b[0m\u001b[1;33m:\u001b[0m\u001b[1;33m\u001b[0m\u001b[1;33m\u001b[0m\u001b[0m\n\u001b[0;32m    326\u001b[0m                 \u001b[1;32mraise\u001b[0m \u001b[0mFileCreateError\u001b[0m\u001b[1;33m(\u001b[0m\u001b[0me\u001b[0m\u001b[1;33m)\u001b[0m\u001b[1;33m\u001b[0m\u001b[1;33m\u001b[0m\u001b[0m\n",
      "\u001b[1;32mc:\\ProgramData\\Anaconda3\\lib\\site-packages\\xlsxwriter\\workbook.py\u001b[0m in \u001b[0;36m_store_workbook\u001b[1;34m(self)\u001b[0m\n\u001b[0;32m    707\u001b[0m         \u001b[0mpackager\u001b[0m\u001b[1;33m.\u001b[0m\u001b[0m_set_tmpdir\u001b[0m\u001b[1;33m(\u001b[0m\u001b[0mself\u001b[0m\u001b[1;33m.\u001b[0m\u001b[0mtmpdir\u001b[0m\u001b[1;33m)\u001b[0m\u001b[1;33m\u001b[0m\u001b[1;33m\u001b[0m\u001b[0m\n\u001b[0;32m    708\u001b[0m         \u001b[0mpackager\u001b[0m\u001b[1;33m.\u001b[0m\u001b[0m_set_in_memory\u001b[0m\u001b[1;33m(\u001b[0m\u001b[0mself\u001b[0m\u001b[1;33m.\u001b[0m\u001b[0min_memory\u001b[0m\u001b[1;33m)\u001b[0m\u001b[1;33m\u001b[0m\u001b[1;33m\u001b[0m\u001b[0m\n\u001b[1;32m--> 709\u001b[1;33m         \u001b[0mxml_files\u001b[0m \u001b[1;33m=\u001b[0m \u001b[0mpackager\u001b[0m\u001b[1;33m.\u001b[0m\u001b[0m_create_package\u001b[0m\u001b[1;33m(\u001b[0m\u001b[1;33m)\u001b[0m\u001b[1;33m\u001b[0m\u001b[1;33m\u001b[0m\u001b[0m\n\u001b[0m\u001b[0;32m    710\u001b[0m \u001b[1;33m\u001b[0m\u001b[0m\n\u001b[0;32m    711\u001b[0m         \u001b[1;31m# Free up the Packager object.\u001b[0m\u001b[1;33m\u001b[0m\u001b[1;33m\u001b[0m\u001b[0m\n",
      "\u001b[1;32mc:\\ProgramData\\Anaconda3\\lib\\site-packages\\xlsxwriter\\packager.py\u001b[0m in \u001b[0;36m_create_package\u001b[1;34m(self)\u001b[0m\n\u001b[0;32m    135\u001b[0m         \u001b[0mself\u001b[0m\u001b[1;33m.\u001b[0m\u001b[0m_write_root_rels_file\u001b[0m\u001b[1;33m(\u001b[0m\u001b[1;33m)\u001b[0m\u001b[1;33m\u001b[0m\u001b[1;33m\u001b[0m\u001b[0m\n\u001b[0;32m    136\u001b[0m         \u001b[0mself\u001b[0m\u001b[1;33m.\u001b[0m\u001b[0m_write_workbook_rels_file\u001b[0m\u001b[1;33m(\u001b[0m\u001b[1;33m)\u001b[0m\u001b[1;33m\u001b[0m\u001b[1;33m\u001b[0m\u001b[0m\n\u001b[1;32m--> 137\u001b[1;33m         \u001b[0mself\u001b[0m\u001b[1;33m.\u001b[0m\u001b[0m_write_worksheet_files\u001b[0m\u001b[1;33m(\u001b[0m\u001b[1;33m)\u001b[0m\u001b[1;33m\u001b[0m\u001b[1;33m\u001b[0m\u001b[0m\n\u001b[0m\u001b[0;32m    138\u001b[0m         \u001b[0mself\u001b[0m\u001b[1;33m.\u001b[0m\u001b[0m_write_chartsheet_files\u001b[0m\u001b[1;33m(\u001b[0m\u001b[1;33m)\u001b[0m\u001b[1;33m\u001b[0m\u001b[1;33m\u001b[0m\u001b[0m\n\u001b[0;32m    139\u001b[0m         \u001b[0mself\u001b[0m\u001b[1;33m.\u001b[0m\u001b[0m_write_workbook_file\u001b[0m\u001b[1;33m(\u001b[0m\u001b[1;33m)\u001b[0m\u001b[1;33m\u001b[0m\u001b[1;33m\u001b[0m\u001b[0m\n",
      "\u001b[1;32mc:\\ProgramData\\Anaconda3\\lib\\site-packages\\xlsxwriter\\packager.py\u001b[0m in \u001b[0;36m_write_worksheet_files\u001b[1;34m(self)\u001b[0m\n\u001b[0;32m    191\u001b[0m             worksheet._set_xml_writer(self._filename('xl/worksheets/sheet'\n\u001b[0;32m    192\u001b[0m                                                      + str(index) + '.xml'))\n\u001b[1;32m--> 193\u001b[1;33m             \u001b[0mworksheet\u001b[0m\u001b[1;33m.\u001b[0m\u001b[0m_assemble_xml_file\u001b[0m\u001b[1;33m(\u001b[0m\u001b[1;33m)\u001b[0m\u001b[1;33m\u001b[0m\u001b[1;33m\u001b[0m\u001b[0m\n\u001b[0m\u001b[0;32m    194\u001b[0m             \u001b[0mindex\u001b[0m \u001b[1;33m+=\u001b[0m \u001b[1;36m1\u001b[0m\u001b[1;33m\u001b[0m\u001b[1;33m\u001b[0m\u001b[0m\n\u001b[0;32m    195\u001b[0m \u001b[1;33m\u001b[0m\u001b[0m\n",
      "\u001b[1;32mc:\\ProgramData\\Anaconda3\\lib\\site-packages\\xlsxwriter\\worksheet.py\u001b[0m in \u001b[0;36m_assemble_xml_file\u001b[1;34m(self)\u001b[0m\n\u001b[0;32m   4223\u001b[0m         \u001b[1;31m# Write the worksheet data such as rows columns and cells.\u001b[0m\u001b[1;33m\u001b[0m\u001b[1;33m\u001b[0m\u001b[0m\n\u001b[0;32m   4224\u001b[0m         \u001b[1;32mif\u001b[0m \u001b[1;32mnot\u001b[0m \u001b[0mself\u001b[0m\u001b[1;33m.\u001b[0m\u001b[0mconstant_memory\u001b[0m\u001b[1;33m:\u001b[0m\u001b[1;33m\u001b[0m\u001b[1;33m\u001b[0m\u001b[0m\n\u001b[1;32m-> 4225\u001b[1;33m             \u001b[0mself\u001b[0m\u001b[1;33m.\u001b[0m\u001b[0m_write_sheet_data\u001b[0m\u001b[1;33m(\u001b[0m\u001b[1;33m)\u001b[0m\u001b[1;33m\u001b[0m\u001b[1;33m\u001b[0m\u001b[0m\n\u001b[0m\u001b[0;32m   4226\u001b[0m         \u001b[1;32melse\u001b[0m\u001b[1;33m:\u001b[0m\u001b[1;33m\u001b[0m\u001b[1;33m\u001b[0m\u001b[0m\n\u001b[0;32m   4227\u001b[0m             \u001b[0mself\u001b[0m\u001b[1;33m.\u001b[0m\u001b[0m_write_optimized_sheet_data\u001b[0m\u001b[1;33m(\u001b[0m\u001b[1;33m)\u001b[0m\u001b[1;33m\u001b[0m\u001b[1;33m\u001b[0m\u001b[0m\n",
      "\u001b[1;32mc:\\ProgramData\\Anaconda3\\lib\\site-packages\\xlsxwriter\\worksheet.py\u001b[0m in \u001b[0;36m_write_sheet_data\u001b[1;34m(self)\u001b[0m\n\u001b[0;32m   5872\u001b[0m         \u001b[1;32melse\u001b[0m\u001b[1;33m:\u001b[0m\u001b[1;33m\u001b[0m\u001b[1;33m\u001b[0m\u001b[0m\n\u001b[0;32m   5873\u001b[0m             \u001b[0mself\u001b[0m\u001b[1;33m.\u001b[0m\u001b[0m_xml_start_tag\u001b[0m\u001b[1;33m(\u001b[0m\u001b[1;34m'sheetData'\u001b[0m\u001b[1;33m)\u001b[0m\u001b[1;33m\u001b[0m\u001b[1;33m\u001b[0m\u001b[0m\n\u001b[1;32m-> 5874\u001b[1;33m             \u001b[0mself\u001b[0m\u001b[1;33m.\u001b[0m\u001b[0m_write_rows\u001b[0m\u001b[1;33m(\u001b[0m\u001b[1;33m)\u001b[0m\u001b[1;33m\u001b[0m\u001b[1;33m\u001b[0m\u001b[0m\n\u001b[0m\u001b[0;32m   5875\u001b[0m             \u001b[0mself\u001b[0m\u001b[1;33m.\u001b[0m\u001b[0m_xml_end_tag\u001b[0m\u001b[1;33m(\u001b[0m\u001b[1;34m'sheetData'\u001b[0m\u001b[1;33m)\u001b[0m\u001b[1;33m\u001b[0m\u001b[1;33m\u001b[0m\u001b[0m\n\u001b[0;32m   5876\u001b[0m \u001b[1;33m\u001b[0m\u001b[0m\n",
      "\u001b[1;32mc:\\ProgramData\\Anaconda3\\lib\\site-packages\\xlsxwriter\\worksheet.py\u001b[0m in \u001b[0;36m_write_rows\u001b[1;34m(self)\u001b[0m\n\u001b[0;32m   6069\u001b[0m                         \u001b[1;32mif\u001b[0m \u001b[0mcol_num\u001b[0m \u001b[1;32min\u001b[0m \u001b[0mself\u001b[0m\u001b[1;33m.\u001b[0m\u001b[0mtable\u001b[0m\u001b[1;33m[\u001b[0m\u001b[0mrow_num\u001b[0m\u001b[1;33m]\u001b[0m\u001b[1;33m:\u001b[0m\u001b[1;33m\u001b[0m\u001b[1;33m\u001b[0m\u001b[0m\n\u001b[0;32m   6070\u001b[0m                             \u001b[0mcol_ref\u001b[0m \u001b[1;33m=\u001b[0m \u001b[0mself\u001b[0m\u001b[1;33m.\u001b[0m\u001b[0mtable\u001b[0m\u001b[1;33m[\u001b[0m\u001b[0mrow_num\u001b[0m\u001b[1;33m]\u001b[0m\u001b[1;33m[\u001b[0m\u001b[0mcol_num\u001b[0m\u001b[1;33m]\u001b[0m\u001b[1;33m\u001b[0m\u001b[1;33m\u001b[0m\u001b[0m\n\u001b[1;32m-> 6071\u001b[1;33m                             \u001b[0mself\u001b[0m\u001b[1;33m.\u001b[0m\u001b[0m_write_cell\u001b[0m\u001b[1;33m(\u001b[0m\u001b[0mrow_num\u001b[0m\u001b[1;33m,\u001b[0m \u001b[0mcol_num\u001b[0m\u001b[1;33m,\u001b[0m \u001b[0mcol_ref\u001b[0m\u001b[1;33m)\u001b[0m\u001b[1;33m\u001b[0m\u001b[1;33m\u001b[0m\u001b[0m\n\u001b[0m\u001b[0;32m   6072\u001b[0m \u001b[1;33m\u001b[0m\u001b[0m\n\u001b[0;32m   6073\u001b[0m                     \u001b[0mself\u001b[0m\u001b[1;33m.\u001b[0m\u001b[0m_xml_end_tag\u001b[0m\u001b[1;33m(\u001b[0m\u001b[1;34m'row'\u001b[0m\u001b[1;33m)\u001b[0m\u001b[1;33m\u001b[0m\u001b[1;33m\u001b[0m\u001b[0m\n",
      "\u001b[1;32mc:\\ProgramData\\Anaconda3\\lib\\site-packages\\xlsxwriter\\worksheet.py\u001b[0m in \u001b[0;36m_write_cell\u001b[1;34m(self, row, col, cell)\u001b[0m\n\u001b[0;32m   6258\u001b[0m             \u001b[1;32mif\u001b[0m \u001b[1;32mnot\u001b[0m \u001b[0mself\u001b[0m\u001b[1;33m.\u001b[0m\u001b[0mconstant_memory\u001b[0m\u001b[1;33m:\u001b[0m\u001b[1;33m\u001b[0m\u001b[1;33m\u001b[0m\u001b[0m\n\u001b[0;32m   6259\u001b[0m                 \u001b[1;31m# Write a shared string.\u001b[0m\u001b[1;33m\u001b[0m\u001b[1;33m\u001b[0m\u001b[0m\n\u001b[1;32m-> 6260\u001b[1;33m                 \u001b[0mself\u001b[0m\u001b[1;33m.\u001b[0m\u001b[0m_xml_string_element\u001b[0m\u001b[1;33m(\u001b[0m\u001b[0mstring\u001b[0m\u001b[1;33m,\u001b[0m \u001b[0mattributes\u001b[0m\u001b[1;33m)\u001b[0m\u001b[1;33m\u001b[0m\u001b[1;33m\u001b[0m\u001b[0m\n\u001b[0m\u001b[0;32m   6261\u001b[0m             \u001b[1;32melse\u001b[0m\u001b[1;33m:\u001b[0m\u001b[1;33m\u001b[0m\u001b[1;33m\u001b[0m\u001b[0m\n\u001b[0;32m   6262\u001b[0m                 \u001b[1;31m# Write an optimized in-line string.\u001b[0m\u001b[1;33m\u001b[0m\u001b[1;33m\u001b[0m\u001b[0m\n",
      "\u001b[1;32mc:\\ProgramData\\Anaconda3\\lib\\site-packages\\xlsxwriter\\xmlwriter.py\u001b[0m in \u001b[0;36m_xml_string_element\u001b[1;34m(self, index, attributes)\u001b[0m\n\u001b[0;32m    106\u001b[0m             \u001b[0mattr\u001b[0m \u001b[1;33m+=\u001b[0m \u001b[1;34m' %s=\"%s\"'\u001b[0m \u001b[1;33m%\u001b[0m \u001b[1;33m(\u001b[0m\u001b[0mkey\u001b[0m\u001b[1;33m,\u001b[0m \u001b[0mvalue\u001b[0m\u001b[1;33m)\u001b[0m\u001b[1;33m\u001b[0m\u001b[1;33m\u001b[0m\u001b[0m\n\u001b[0;32m    107\u001b[0m \u001b[1;33m\u001b[0m\u001b[0m\n\u001b[1;32m--> 108\u001b[1;33m         \u001b[0mself\u001b[0m\u001b[1;33m.\u001b[0m\u001b[0mfh\u001b[0m\u001b[1;33m.\u001b[0m\u001b[0mwrite\u001b[0m\u001b[1;33m(\u001b[0m\u001b[1;34m\"\"\"<c%s t=\"s\"><v>%d</v></c>\"\"\"\u001b[0m \u001b[1;33m%\u001b[0m \u001b[1;33m(\u001b[0m\u001b[0mattr\u001b[0m\u001b[1;33m,\u001b[0m \u001b[0mindex\u001b[0m\u001b[1;33m)\u001b[0m\u001b[1;33m)\u001b[0m\u001b[1;33m\u001b[0m\u001b[1;33m\u001b[0m\u001b[0m\n\u001b[0m\u001b[0;32m    109\u001b[0m \u001b[1;33m\u001b[0m\u001b[0m\n\u001b[0;32m    110\u001b[0m     \u001b[1;32mdef\u001b[0m \u001b[0m_xml_si_element\u001b[0m\u001b[1;33m(\u001b[0m\u001b[0mself\u001b[0m\u001b[1;33m,\u001b[0m \u001b[0mstring\u001b[0m\u001b[1;33m,\u001b[0m \u001b[0mattributes\u001b[0m\u001b[1;33m=\u001b[0m\u001b[1;33m[\u001b[0m\u001b[1;33m]\u001b[0m\u001b[1;33m)\u001b[0m\u001b[1;33m:\u001b[0m\u001b[1;33m\u001b[0m\u001b[1;33m\u001b[0m\u001b[0m\n",
      "\u001b[1;31mKeyboardInterrupt\u001b[0m: "
     ]
    }
   ],
   "source": [
    "# about 27m 48s\n",
    "# excel\n",
    "for one in tqdm(total['배출가스인증번호'].unique()):\n",
    "    total[total['배출가스인증번호'] == one].reset_index(drop=True).to_excel(f'D:/data/big2/BD1_4등급_데이터_점검1/과제1/{one}.xlsx', index=False)"
   ]
  },
  {
   "cell_type": "code",
   "execution_count": 486,
   "metadata": {},
   "outputs": [
    {
     "data": {
      "text/plain": [
       "제작사명           0\n",
       "검사판정         145\n",
       "무부하매연판정1     145\n",
       "무부하매연측정치1    145\n",
       "dtype: int64"
      ]
     },
     "execution_count": 486,
     "metadata": {},
     "output_type": "execute_result"
    }
   ],
   "source": [
    "total.loc[total['제작사명'] == 'SOFA차량', ['제작사명' ,'검사판정', '무부하매연판정1', '무부하매연측정치1']].isnull().sum()"
   ]
  },
  {
   "cell_type": "code",
   "execution_count": 487,
   "metadata": {},
   "outputs": [
    {
     "data": {
      "text/plain": [
       "(159, 4)"
      ]
     },
     "execution_count": 487,
     "metadata": {},
     "output_type": "execute_result"
    }
   ],
   "source": [
    "total.loc[total['제작사명'] == 'SOFA차량', ['제작사명' ,'검사판정', '무부하매연판정1', '무부하매연측정치1']].shape"
   ]
  },
  {
   "attachments": {},
   "cell_type": "markdown",
   "metadata": {},
   "source": [
    "# 배출가스 인증번호별 분석"
   ]
  },
  {
   "cell_type": "code",
   "execution_count": 217,
   "metadata": {},
   "outputs": [],
   "source": [
    "# check_df['배출가스인증번호'].to_list()"
   ]
  },
  {
   "attachments": {},
   "cell_type": "markdown",
   "metadata": {},
   "source": [
    "## [로드] 배인번호 파일"
   ]
  },
  {
   "cell_type": "code",
   "execution_count": 31,
   "metadata": {},
   "outputs": [],
   "source": [
    "gas_nm_fold = 'D:/data/big2/BD1_4등급_데이터_점검1/과제1'"
   ]
  },
  {
   "cell_type": "code",
   "execution_count": 128,
   "metadata": {},
   "outputs": [
    {
     "data": {
      "text/plain": [
       "(225, 92)"
      ]
     },
     "execution_count": 128,
     "metadata": {},
     "output_type": "execute_result"
    }
   ],
   "source": [
    "gas_nm = '5MY-BK-14-07'\n",
    "file_name = f'{gas_nm}.xlsx'\n",
    "gas_df = pd.read_excel(os.path.join(gas_nm_fold, file_name))\n",
    "gas_df.shape"
   ]
  },
  {
   "cell_type": "code",
   "execution_count": 129,
   "metadata": {},
   "outputs": [],
   "source": [
    "# gas_df.columns"
   ]
  },
  {
   "attachments": {},
   "cell_type": "markdown",
   "metadata": {},
   "source": [
    "### 전처리\n",
    "- 제거\n",
    "    - 차대번호 17자리 아닌 샘플\n",
    "    - 차대번호 10자리와 차량연식이 다른 샘플"
   ]
  },
  {
   "attachments": {},
   "cell_type": "markdown",
   "metadata": {},
   "source": [
    "#### [출력] 차대번호17자리 아닌 샘플"
   ]
  },
  {
   "cell_type": "code",
   "execution_count": 130,
   "metadata": {},
   "outputs": [
    {
     "data": {
      "text/plain": [
       "((225, 92), (0, 92))"
      ]
     },
     "execution_count": 130,
     "metadata": {},
     "output_type": "execute_result"
    }
   ],
   "source": [
    "gas_df_vin17_y = gas_df[(gas_df['차대번호'].str.len() == 17)].reset_index(drop=True)\n",
    "gas_df_vin17_n = gas_df[(gas_df['차대번호'].str.len() != 17)].reset_index(drop=True)\n",
    "gas_df_vin17_y.shape, gas_df_vin17_n.shape"
   ]
  },
  {
   "cell_type": "code",
   "execution_count": 432,
   "metadata": {},
   "outputs": [],
   "source": [
    "gas_df_vin17_n.to_excel(os.path.join(gas_nm_fold, f'샘플_차대번호17자리아닌_{gas_nm}.xlsx'), index=False)"
   ]
  },
  {
   "attachments": {},
   "cell_type": "markdown",
   "metadata": {},
   "source": [
    "#### [출력] 차대번호10자리 연도와 차량연식 다른 샘플"
   ]
  },
  {
   "cell_type": "code",
   "execution_count": 131,
   "metadata": {},
   "outputs": [
    {
     "data": {
      "text/plain": [
       "((210, 92), (15, 92))"
      ]
     },
     "execution_count": 131,
     "metadata": {},
     "output_type": "execute_result"
    }
   ],
   "source": [
    "gas_df_vin17_y_vin10_year_y = gas_df_vin17_y[gas_df_vin17_y['vin10_year'] == gas_df_vin17_y['차량연식_y']].reset_index(drop=True)\n",
    "gas_df_vin17_y_vin10_year_n = gas_df_vin17_y[gas_df_vin17_y['vin10_year'] != gas_df_vin17_y['차량연식_y']].reset_index(drop=True)\n",
    "gas_df_vin17_y_vin10_year_y.shape, gas_df_vin17_y_vin10_year_n.shape"
   ]
  },
  {
   "cell_type": "code",
   "execution_count": 434,
   "metadata": {},
   "outputs": [],
   "source": [
    "gas_df_vin17_y_vin10_year_n.to_excel(os.path.join(gas_nm_fold, f'샘플_차대번호17자리_차량연식다른_{gas_nm}.xlsx'), index=False)"
   ]
  },
  {
   "attachments": {},
   "cell_type": "markdown",
   "metadata": {},
   "source": [
    "#### [출력] 배인번호 해당 제작사가 아닌 샘플"
   ]
  },
  {
   "cell_type": "code",
   "execution_count": 132,
   "metadata": {},
   "outputs": [
    {
     "data": {
      "text/plain": [
       "array(['비엠더블유코리아(주)'], dtype=object)"
      ]
     },
     "execution_count": 132,
     "metadata": {},
     "output_type": "execute_result"
    }
   ],
   "source": [
    "gas_df_vin17_y_vin10_year_y['제작사명'].unique()"
   ]
  },
  {
   "cell_type": "code",
   "execution_count": 133,
   "metadata": {},
   "outputs": [
    {
     "data": {
      "text/plain": [
       "'비엠더블유코리아(주)'"
      ]
     },
     "execution_count": 133,
     "metadata": {},
     "output_type": "execute_result"
    }
   ],
   "source": [
    "productor_name = gas_df_vin17_y_vin10_year_y['제작사명'].unique()[0]\n",
    "productor_name"
   ]
  },
  {
   "cell_type": "code",
   "execution_count": 134,
   "metadata": {},
   "outputs": [
    {
     "data": {
      "text/plain": [
       "((210, 92), (0, 92))"
      ]
     },
     "execution_count": 134,
     "metadata": {},
     "output_type": "execute_result"
    }
   ],
   "source": [
    "gas_df_vin17_y_vin10_year_y_product_y = gas_df_vin17_y_vin10_year_y[(gas_df_vin17_y_vin10_year_y['제작사명'] == productor_name) | (gas_df_vin17_y_vin10_year_y['제작사명'] == '자가인증면제차량') | (gas_df_vin17_y_vin10_year_y['제작사명'] == 'SOFA차량')].reset_index(drop=True)\n",
    "gas_df_vin17_y_vin10_year_y_product_n = gas_df_vin17_y_vin10_year_y[(gas_df_vin17_y_vin10_year_y['제작사명'] != productor_name) & (gas_df_vin17_y_vin10_year_y['제작사명'] != '자가인증면제차량') & (gas_df_vin17_y_vin10_year_y['제작사명'] != 'SOFA차량')].reset_index(drop=True)\n",
    "gas_df_vin17_y_vin10_year_y_product_y.shape, gas_df_vin17_y_vin10_year_y_product_n.shape"
   ]
  },
  {
   "cell_type": "code",
   "execution_count": 438,
   "metadata": {},
   "outputs": [],
   "source": [
    "gas_df_vin17_y_vin10_year_y_product_n.to_excel(os.path.join(gas_nm_fold, f'샘플_차대번호17자리_차량연식다른_해당제작사아닌_{gas_nm}.xlsx'), index=False)"
   ]
  },
  {
   "cell_type": "code",
   "execution_count": 135,
   "metadata": {},
   "outputs": [
    {
     "data": {
      "text/html": [
       "<div>\n",
       "<style scoped>\n",
       "    .dataframe tbody tr th:only-of-type {\n",
       "        vertical-align: middle;\n",
       "    }\n",
       "\n",
       "    .dataframe tbody tr th {\n",
       "        vertical-align: top;\n",
       "    }\n",
       "\n",
       "    .dataframe thead th {\n",
       "        text-align: right;\n",
       "    }\n",
       "</style>\n",
       "<table border=\"1\" class=\"dataframe\">\n",
       "  <thead>\n",
       "    <tr style=\"text-align: right;\">\n",
       "      <th></th>\n",
       "      <th>제작사명</th>\n",
       "      <th>검사판정</th>\n",
       "      <th>무부하매연판정1</th>\n",
       "      <th>무부하매연측정치1</th>\n",
       "    </tr>\n",
       "  </thead>\n",
       "  <tbody>\n",
       "  </tbody>\n",
       "</table>\n",
       "</div>"
      ],
      "text/plain": [
       "Empty DataFrame\n",
       "Columns: [제작사명, 검사판정, 무부하매연판정1, 무부하매연측정치1]\n",
       "Index: []"
      ]
     },
     "execution_count": 135,
     "metadata": {},
     "output_type": "execute_result"
    }
   ],
   "source": [
    "gas_df_vin17_y_vin10_year_y_product_y.loc[gas_df_vin17_y_vin10_year_y_product_y['제작사명'] == 'SOFA차량', ['제작사명', '검사판정', '무부하매연판정1', '무부하매연측정치1']]"
   ]
  },
  {
   "attachments": {},
   "cell_type": "markdown",
   "metadata": {},
   "source": [
    "### 분석\n",
    "- 제원관리번호별, 자동차형식별, 엔진형식별, 검사판정별 무부하매연측정치1 통계"
   ]
  },
  {
   "cell_type": "code",
   "execution_count": 101,
   "metadata": {},
   "outputs": [
    {
     "data": {
      "text/plain": [
       "dtype('float64')"
      ]
     },
     "execution_count": 101,
     "metadata": {},
     "output_type": "execute_result"
    }
   ],
   "source": [
    "gas_df_vin17_y_vin10_year_y_product_y['무부하매연측정치1'].dtype"
   ]
  },
  {
   "cell_type": "code",
   "execution_count": 102,
   "metadata": {},
   "outputs": [
    {
     "data": {
      "text/plain": [
       "1"
      ]
     },
     "execution_count": 102,
     "metadata": {},
     "output_type": "execute_result"
    }
   ],
   "source": [
    "gas_df_vin17_y_vin10_year_y_product_y['무부하매연측정치1'].isnull().sum()"
   ]
  },
  {
   "cell_type": "code",
   "execution_count": 136,
   "metadata": {},
   "outputs": [
    {
     "data": {
      "text/html": [
       "<div>\n",
       "<style scoped>\n",
       "    .dataframe tbody tr th:only-of-type {\n",
       "        vertical-align: middle;\n",
       "    }\n",
       "\n",
       "    .dataframe tbody tr th {\n",
       "        vertical-align: top;\n",
       "    }\n",
       "\n",
       "    .dataframe thead tr th {\n",
       "        text-align: left;\n",
       "    }\n",
       "</style>\n",
       "<table border=\"1\" class=\"dataframe\">\n",
       "  <thead>\n",
       "    <tr>\n",
       "      <th></th>\n",
       "      <th>배출가스인증번호</th>\n",
       "      <th>제작사명</th>\n",
       "      <th>제원관리번호</th>\n",
       "      <th>자동차형식</th>\n",
       "      <th>엔진형식</th>\n",
       "      <th>검사판정</th>\n",
       "      <th>대수</th>\n",
       "      <th colspan=\"3\" halign=\"left\">무부하매연측정치1</th>\n",
       "    </tr>\n",
       "    <tr>\n",
       "      <th></th>\n",
       "      <th></th>\n",
       "      <th></th>\n",
       "      <th></th>\n",
       "      <th></th>\n",
       "      <th></th>\n",
       "      <th></th>\n",
       "      <th>count</th>\n",
       "      <th>mean</th>\n",
       "      <th>min</th>\n",
       "      <th>max</th>\n",
       "    </tr>\n",
       "  </thead>\n",
       "  <tbody>\n",
       "    <tr>\n",
       "      <th>0</th>\n",
       "      <td>5MY-BK-14-07</td>\n",
       "      <td>비엠더블유코리아(주)</td>\n",
       "      <td>120001600041305</td>\n",
       "      <td>X3 3.0d</td>\n",
       "      <td>306D3</td>\n",
       "      <td>N</td>\n",
       "      <td>1</td>\n",
       "      <td>1.00</td>\n",
       "      <td>1.0</td>\n",
       "      <td>1.0</td>\n",
       "    </tr>\n",
       "    <tr>\n",
       "      <th>1</th>\n",
       "      <td>5MY-BK-14-07</td>\n",
       "      <td>비엠더블유코리아(주)</td>\n",
       "      <td>120001600041305</td>\n",
       "      <td>X3 3.0d</td>\n",
       "      <td>306D3</td>\n",
       "      <td>Y</td>\n",
       "      <td>123</td>\n",
       "      <td>1.98</td>\n",
       "      <td>0.0</td>\n",
       "      <td>34.0</td>\n",
       "    </tr>\n",
       "    <tr>\n",
       "      <th>2</th>\n",
       "      <td>5MY-BK-14-07</td>\n",
       "      <td>비엠더블유코리아(주)</td>\n",
       "      <td>120001600051307</td>\n",
       "      <td>X3 3.0d</td>\n",
       "      <td>306D3</td>\n",
       "      <td>N</td>\n",
       "      <td>1</td>\n",
       "      <td>NaN</td>\n",
       "      <td>NaN</td>\n",
       "      <td>NaN</td>\n",
       "    </tr>\n",
       "    <tr>\n",
       "      <th>3</th>\n",
       "      <td>5MY-BK-14-07</td>\n",
       "      <td>비엠더블유코리아(주)</td>\n",
       "      <td>120001600051307</td>\n",
       "      <td>X3 3.0d</td>\n",
       "      <td>306D3</td>\n",
       "      <td>Y</td>\n",
       "      <td>85</td>\n",
       "      <td>2.98</td>\n",
       "      <td>0.0</td>\n",
       "      <td>38.0</td>\n",
       "    </tr>\n",
       "  </tbody>\n",
       "</table>\n",
       "</div>"
      ],
      "text/plain": [
       "       배출가스인증번호         제작사명           제원관리번호    자동차형식   엔진형식 검사판정    대수  \\\n",
       "                                                                   count   \n",
       "0  5MY-BK-14-07  비엠더블유코리아(주)  120001600041305  X3 3.0d  306D3    N     1   \n",
       "1  5MY-BK-14-07  비엠더블유코리아(주)  120001600041305  X3 3.0d  306D3    Y   123   \n",
       "2  5MY-BK-14-07  비엠더블유코리아(주)  120001600051307  X3 3.0d  306D3    N     1   \n",
       "3  5MY-BK-14-07  비엠더블유코리아(주)  120001600051307  X3 3.0d  306D3    Y    85   \n",
       "\n",
       "  무부하매연측정치1             \n",
       "       mean  min   max  \n",
       "0      1.00  1.0   1.0  \n",
       "1      1.98  0.0  34.0  \n",
       "2       NaN  NaN   NaN  \n",
       "3      2.98  0.0  38.0  "
      ]
     },
     "execution_count": 136,
     "metadata": {},
     "output_type": "execute_result"
    }
   ],
   "source": [
    "g = gas_df_vin17_y_vin10_year_y_product_y.groupby(['배출가스인증번호', '제작사명', '제원관리번호', '자동차형식', '엔진형식_y', '검사판정'], dropna=False).agg({'차대번호':'count', '무부하매연측정치1':['mean', 'min', 'max']}).round(2).reset_index()\n",
    "g = g.rename(columns={'엔진형식_y':'엔진형식', '차대번호':'대수'})\n",
    "g"
   ]
  },
  {
   "attachments": {},
   "cell_type": "markdown",
   "metadata": {},
   "source": [
    "#### [출력] 제번별, 자동차형식별, 엔진형식별 검사판정별 무부하매연측정치1 통계"
   ]
  },
  {
   "cell_type": "code",
   "execution_count": 442,
   "metadata": {},
   "outputs": [],
   "source": [
    "analysis_fold = 'D:/data/big2/BD1_4등급_데이터_점검1/과제1/통계'"
   ]
  },
  {
   "cell_type": "code",
   "execution_count": 443,
   "metadata": {},
   "outputs": [],
   "source": [
    "g.to_excel(os.path.join(analysis_fold, f'통계_제번별_차형식별_엔진형식별_검사판정별_무부하매연측정치1_{gas_nm}.xlsx'), index=False)"
   ]
  },
  {
   "attachments": {},
   "cell_type": "markdown",
   "metadata": {},
   "source": [
    "### 데이터 확인"
   ]
  },
  {
   "cell_type": "code",
   "execution_count": 444,
   "metadata": {},
   "outputs": [],
   "source": [
    "# gas_df_vin17_y_vin10_year_y_product_y.loc[gas_df_vin17_y_vin10_year_y_product_y['무부하매연판정1'].isnull() == True, ['검사판정']]"
   ]
  },
  {
   "cell_type": "code",
   "execution_count": 445,
   "metadata": {},
   "outputs": [],
   "source": [
    "# gas_df_vin17_y_vin10_year_y_product_y.loc[(gas_df_vin17_y_vin10_year_y_product_y['검사판정'] == 'N') & (gas_df_vin17_y_vin10_year_y_product_y['제원관리번호'] == '120001600051307'), ['무부하매연측정치1']]"
   ]
  },
  {
   "attachments": {},
   "cell_type": "markdown",
   "metadata": {},
   "source": [
    "## [출력] 배인번호별 분석"
   ]
  },
  {
   "cell_type": "code",
   "execution_count": 126,
   "metadata": {},
   "outputs": [
    {
     "data": {
      "text/plain": [
       "133"
      ]
     },
     "execution_count": 126,
     "metadata": {},
     "output_type": "execute_result"
    }
   ],
   "source": [
    "gas_nm_list = check_df['배출가스인증번호'].unique()\n",
    "len(gas_nm_list)"
   ]
  },
  {
   "cell_type": "code",
   "execution_count": 127,
   "metadata": {},
   "outputs": [
    {
     "name": "stderr",
     "output_type": "stream",
     "text": [
      "  2%|▏         | 2/133 [00:00<00:23,  5.52it/s]"
     ]
    },
    {
     "name": "stdout",
     "output_type": "stream",
     "text": [
      "5MY-BK-14-07 파일 없음.\n",
      "6MY-BK-13-08 파일 없음.\n"
     ]
    },
    {
     "name": "stderr",
     "output_type": "stream",
     "text": [
      "  3%|▎         | 4/133 [00:00<00:20,  6.25it/s]"
     ]
    },
    {
     "name": "stdout",
     "output_type": "stream",
     "text": [
      "6MY-MK-14-02 파일 없음.\n",
      "6MY-MK-14-13 파일 없음.\n"
     ]
    },
    {
     "name": "stderr",
     "output_type": "stream",
     "text": [
      "  5%|▍         | 6/133 [00:00<00:19,  6.37it/s]"
     ]
    },
    {
     "name": "stdout",
     "output_type": "stream",
     "text": [
      "7MY-MK-14-04 파일 없음.\n",
      "7MY-MK-14-07 파일 없음.\n"
     ]
    },
    {
     "name": "stderr",
     "output_type": "stream",
     "text": [
      "  6%|▌         | 8/133 [00:01<00:17,  7.03it/s]"
     ]
    },
    {
     "name": "stdout",
     "output_type": "stream",
     "text": [
      "4MY-PA-06 파일 없음.\n",
      "5MY-PA-13-20 파일 없음.\n"
     ]
    },
    {
     "name": "stderr",
     "output_type": "stream",
     "text": [
      "  8%|▊         | 10/133 [00:01<00:16,  7.26it/s]"
     ]
    },
    {
     "name": "stdout",
     "output_type": "stream",
     "text": [
      "5MY-PA-14-17 파일 없음.\n",
      "5MY-PA-14-18 파일 없음.\n"
     ]
    },
    {
     "name": "stderr",
     "output_type": "stream",
     "text": [
      "  9%|▉         | 12/133 [00:01<00:16,  7.25it/s]"
     ]
    },
    {
     "name": "stdout",
     "output_type": "stream",
     "text": [
      "5MY-PA-14-19 파일 없음.\n",
      "5MY-PA-14-20 파일 없음.\n"
     ]
    },
    {
     "name": "stderr",
     "output_type": "stream",
     "text": [
      " 11%|█         | 14/133 [00:02<00:18,  6.56it/s]"
     ]
    },
    {
     "name": "stdout",
     "output_type": "stream",
     "text": [
      "6MY-PA-14-03 파일 없음.\n",
      "6MY-PA-14-4 파일 없음.\n"
     ]
    },
    {
     "name": "stderr",
     "output_type": "stream",
     "text": [
      " 12%|█▏        | 16/133 [00:02<00:18,  6.44it/s]"
     ]
    },
    {
     "name": "stdout",
     "output_type": "stream",
     "text": [
      "7MY-PA-13-11 파일 없음.\n",
      "7MY-PA-14-1 파일 없음.\n"
     ]
    },
    {
     "name": "stderr",
     "output_type": "stream",
     "text": [
      " 14%|█▎        | 18/133 [00:02<00:16,  6.79it/s]"
     ]
    },
    {
     "name": "stdout",
     "output_type": "stream",
     "text": [
      "7MY-PA-14-2 파일 없음.\n",
      "7MY-PA-14-07 파일 없음.\n"
     ]
    },
    {
     "name": "stderr",
     "output_type": "stream",
     "text": [
      " 15%|█▌        | 20/133 [00:02<00:15,  7.11it/s]"
     ]
    },
    {
     "name": "stdout",
     "output_type": "stream",
     "text": [
      "8MY-PA-14-3 파일 없음.\n",
      "9MY-PA-13-1 파일 없음.\n"
     ]
    },
    {
     "name": "stderr",
     "output_type": "stream",
     "text": [
      " 17%|█▋        | 22/133 [00:03<00:17,  6.37it/s]"
     ]
    },
    {
     "name": "stdout",
     "output_type": "stream",
     "text": [
      "4MY-AD-20 파일 없음.\n",
      "5MY-AD-13-06 파일 없음.\n"
     ]
    },
    {
     "name": "stderr",
     "output_type": "stream",
     "text": [
      " 18%|█▊        | 24/133 [00:03<00:16,  6.69it/s]"
     ]
    },
    {
     "name": "stdout",
     "output_type": "stream",
     "text": [
      "5MY-AD-13-07 파일 없음.\n",
      "5MY-AD-13-13 파일 없음.\n"
     ]
    },
    {
     "name": "stderr",
     "output_type": "stream",
     "text": [
      " 20%|█▉        | 26/133 [00:03<00:16,  6.30it/s]"
     ]
    },
    {
     "name": "stdout",
     "output_type": "stream",
     "text": [
      "5MY-AD-14-08 파일 없음.\n",
      "5MY-AD-14-12 파일 없음.\n"
     ]
    },
    {
     "name": "stderr",
     "output_type": "stream",
     "text": [
      " 21%|██        | 28/133 [00:04<00:19,  5.51it/s]"
     ]
    },
    {
     "name": "stdout",
     "output_type": "stream",
     "text": [
      "5MY-AD-14-18 파일 없음.\n",
      "5MY-AD-14-19 파일 없음.\n"
     ]
    },
    {
     "name": "stderr",
     "output_type": "stream",
     "text": [
      " 23%|██▎       | 30/133 [00:04<00:16,  6.07it/s]"
     ]
    },
    {
     "name": "stdout",
     "output_type": "stream",
     "text": [
      "6MY-AD-13-11 파일 없음.\n",
      "6MY-AD-14-10 파일 없음.\n"
     ]
    },
    {
     "name": "stderr",
     "output_type": "stream",
     "text": [
      " 24%|██▍       | 32/133 [00:04<00:16,  6.11it/s]"
     ]
    },
    {
     "name": "stdout",
     "output_type": "stream",
     "text": [
      "7MY-AD-13-01 파일 없음.\n",
      "7MY-AD-13-05 파일 없음.\n"
     ]
    },
    {
     "name": "stderr",
     "output_type": "stream",
     "text": [
      " 26%|██▌       | 34/133 [00:05<00:15,  6.32it/s]"
     ]
    },
    {
     "name": "stdout",
     "output_type": "stream",
     "text": [
      "7MY-AD-13-06 파일 없음.\n",
      "7MY-AD-14-04 파일 없음.\n"
     ]
    },
    {
     "name": "stderr",
     "output_type": "stream",
     "text": [
      " 27%|██▋       | 36/133 [00:05<00:15,  6.43it/s]"
     ]
    },
    {
     "name": "stdout",
     "output_type": "stream",
     "text": [
      "8MY-AD-14-03 파일 없음.\n",
      "8MY-AD-14-09 파일 없음.\n"
     ]
    },
    {
     "name": "stderr",
     "output_type": "stream",
     "text": [
      " 29%|██▊       | 38/133 [00:05<00:15,  6.16it/s]"
     ]
    },
    {
     "name": "stdout",
     "output_type": "stream",
     "text": [
      "9MY-AD-14-04 파일 없음.\n",
      "9MY-JL-14-4 파일 없음.\n"
     ]
    },
    {
     "name": "stderr",
     "output_type": "stream",
     "text": [
      " 30%|███       | 40/133 [00:06<00:15,  6.05it/s]"
     ]
    },
    {
     "name": "stdout",
     "output_type": "stream",
     "text": [
      "AMY-JL-13-9 파일 없음.\n",
      "6MY-GK-14-01 파일 없음.\n"
     ]
    },
    {
     "name": "stderr",
     "output_type": "stream",
     "text": [
      " 32%|███▏      | 42/133 [00:06<00:15,  5.73it/s]"
     ]
    },
    {
     "name": "stdout",
     "output_type": "stream",
     "text": [
      "5MY-HD-24-35 파일 없음.\n",
      "5MY-HD-24-56 파일 없음.\n"
     ]
    },
    {
     "name": "stderr",
     "output_type": "stream",
     "text": [
      " 32%|███▏      | 43/133 [00:08<00:47,  1.88it/s]"
     ]
    },
    {
     "name": "stdout",
     "output_type": "stream",
     "text": [
      "5MY-HD-24-59 파일 없음.\n"
     ]
    },
    {
     "name": "stderr",
     "output_type": "stream",
     "text": [
      " 34%|███▍      | 45/133 [00:08<00:35,  2.51it/s]"
     ]
    },
    {
     "name": "stdout",
     "output_type": "stream",
     "text": [
      "5MY-KM-24-17 파일 없음.\n",
      "5MY-KM-24-57 파일 없음.\n"
     ]
    },
    {
     "name": "stderr",
     "output_type": "stream",
     "text": [
      " 35%|███▍      | 46/133 [00:08<00:29,  2.95it/s]"
     ]
    },
    {
     "name": "stdout",
     "output_type": "stream",
     "text": [
      "5MY-KM-24-64 파일 없음.\n"
     ]
    },
    {
     "name": "stderr",
     "output_type": "stream",
     "text": [
      " 35%|███▌      | 47/133 [00:10<00:52,  1.65it/s]"
     ]
    },
    {
     "name": "stdout",
     "output_type": "stream",
     "text": [
      "6MY-HD-14-63 파일 없음.\n"
     ]
    },
    {
     "name": "stderr",
     "output_type": "stream",
     "text": [
      " 37%|███▋      | 49/133 [00:10<00:37,  2.24it/s]"
     ]
    },
    {
     "name": "stdout",
     "output_type": "stream",
     "text": [
      "6MY-HD-14-64 파일 없음.\n",
      "6MY-HD-14-96 파일 없음.\n"
     ]
    },
    {
     "name": "stderr",
     "output_type": "stream",
     "text": [
      " 38%|███▊      | 50/133 [00:10<00:32,  2.56it/s]"
     ]
    },
    {
     "name": "stdout",
     "output_type": "stream",
     "text": [
      "6MY-HD-14-97 파일 없음.\n"
     ]
    },
    {
     "name": "stderr",
     "output_type": "stream",
     "text": [
      " 38%|███▊      | 51/133 [00:11<00:32,  2.52it/s]"
     ]
    },
    {
     "name": "stdout",
     "output_type": "stream",
     "text": [
      "6MY-HD-24-12 파일 없음.\n"
     ]
    },
    {
     "name": "stderr",
     "output_type": "stream",
     "text": [
      " 39%|███▉      | 52/133 [00:12<00:46,  1.72it/s]"
     ]
    },
    {
     "name": "stdout",
     "output_type": "stream",
     "text": [
      "6MY-HD-24-44 파일 없음.\n"
     ]
    },
    {
     "name": "stderr",
     "output_type": "stream",
     "text": [
      " 40%|███▉      | 53/133 [00:13<01:07,  1.19it/s]"
     ]
    },
    {
     "name": "stdout",
     "output_type": "stream",
     "text": [
      "6MY-HD-24-100 파일 없음.\n"
     ]
    },
    {
     "name": "stderr",
     "output_type": "stream",
     "text": [
      " 41%|████▏     | 55/133 [00:14<00:44,  1.77it/s]"
     ]
    },
    {
     "name": "stdout",
     "output_type": "stream",
     "text": [
      "6MY-KM-14-57 파일 없음.\n",
      "6MY-KM-14-58 파일 없음.\n"
     ]
    },
    {
     "name": "stderr",
     "output_type": "stream",
     "text": [
      " 42%|████▏     | 56/133 [00:14<00:33,  2.32it/s]"
     ]
    },
    {
     "name": "stdout",
     "output_type": "stream",
     "text": [
      "6MY-KM-14-59 파일 없음.\n"
     ]
    },
    {
     "name": "stderr",
     "output_type": "stream",
     "text": [
      " 44%|████▎     | 58/133 [00:18<01:13,  1.02it/s]"
     ]
    },
    {
     "name": "stdout",
     "output_type": "stream",
     "text": [
      "6MY-KM-14-61 파일 없음.\n",
      "6MY-KM-24-06 파일 없음.\n"
     ]
    },
    {
     "name": "stderr",
     "output_type": "stream",
     "text": [
      " 44%|████▍     | 59/133 [00:18<01:01,  1.21it/s]"
     ]
    },
    {
     "name": "stdout",
     "output_type": "stream",
     "text": [
      "6MY-KM-24-81 파일 없음.\n"
     ]
    },
    {
     "name": "stderr",
     "output_type": "stream",
     "text": [
      " 45%|████▌     | 60/133 [00:18<00:48,  1.52it/s]"
     ]
    },
    {
     "name": "stdout",
     "output_type": "stream",
     "text": [
      "7MY-HD-13-58 파일 없음.\n"
     ]
    },
    {
     "name": "stderr",
     "output_type": "stream",
     "text": [
      " 46%|████▌     | 61/133 [00:20<01:01,  1.17it/s]"
     ]
    },
    {
     "name": "stdout",
     "output_type": "stream",
     "text": [
      "7MY-HD-14-45 파일 없음.\n"
     ]
    },
    {
     "name": "stderr",
     "output_type": "stream",
     "text": [
      " 47%|████▋     | 62/133 [00:24<02:06,  1.79s/it]"
     ]
    },
    {
     "name": "stdout",
     "output_type": "stream",
     "text": [
      "7MY-HD-14-46 파일 없음.\n"
     ]
    },
    {
     "name": "stderr",
     "output_type": "stream",
     "text": [
      " 47%|████▋     | 63/133 [00:26<02:18,  1.98s/it]"
     ]
    },
    {
     "name": "stdout",
     "output_type": "stream",
     "text": [
      "7MY-HD-14-47 파일 없음.\n"
     ]
    },
    {
     "name": "stderr",
     "output_type": "stream",
     "text": [
      " 48%|████▊     | 64/133 [00:28<02:13,  1.93s/it]"
     ]
    },
    {
     "name": "stdout",
     "output_type": "stream",
     "text": [
      "7MY-HD-14-57 파일 없음.\n"
     ]
    },
    {
     "name": "stderr",
     "output_type": "stream",
     "text": [
      " 49%|████▉     | 65/133 [00:45<07:15,  6.40s/it]"
     ]
    },
    {
     "name": "stdout",
     "output_type": "stream",
     "text": [
      "7MY-HD-14-68 파일 없음.\n"
     ]
    },
    {
     "name": "stderr",
     "output_type": "stream",
     "text": [
      " 50%|████▉     | 66/133 [00:45<05:06,  4.57s/it]"
     ]
    },
    {
     "name": "stdout",
     "output_type": "stream",
     "text": [
      "7MY-HD-23-01 파일 없음.\n"
     ]
    },
    {
     "name": "stderr",
     "output_type": "stream",
     "text": [
      " 50%|█████     | 67/133 [00:46<03:43,  3.39s/it]"
     ]
    },
    {
     "name": "stdout",
     "output_type": "stream",
     "text": [
      "7MY-HD-24-08 파일 없음.\n"
     ]
    },
    {
     "name": "stderr",
     "output_type": "stream",
     "text": [
      " 51%|█████     | 68/133 [00:46<02:48,  2.59s/it]"
     ]
    },
    {
     "name": "stdout",
     "output_type": "stream",
     "text": [
      "7MY-HD-24-09 파일 없음.\n"
     ]
    },
    {
     "name": "stderr",
     "output_type": "stream",
     "text": [
      " 52%|█████▏    | 69/133 [00:47<02:00,  1.88s/it]"
     ]
    },
    {
     "name": "stdout",
     "output_type": "stream",
     "text": [
      "7MY-KM-14-52 파일 없음.\n"
     ]
    },
    {
     "name": "stderr",
     "output_type": "stream",
     "text": [
      " 53%|█████▎    | 70/133 [00:48<01:46,  1.68s/it]"
     ]
    },
    {
     "name": "stdout",
     "output_type": "stream",
     "text": [
      "7MY-KM-14-63 파일 없음.\n"
     ]
    },
    {
     "name": "stderr",
     "output_type": "stream",
     "text": [
      " 53%|█████▎    | 71/133 [00:48<01:21,  1.32s/it]"
     ]
    },
    {
     "name": "stdout",
     "output_type": "stream",
     "text": [
      "7MY-KM-14-64 파일 없음.\n"
     ]
    },
    {
     "name": "stderr",
     "output_type": "stream",
     "text": [
      " 54%|█████▍    | 72/133 [00:50<01:34,  1.55s/it]"
     ]
    },
    {
     "name": "stdout",
     "output_type": "stream",
     "text": [
      "7MY-KM-14-65 파일 없음.\n"
     ]
    },
    {
     "name": "stderr",
     "output_type": "stream",
     "text": [
      " 56%|█████▌    | 74/133 [00:51<00:53,  1.10it/s]"
     ]
    },
    {
     "name": "stdout",
     "output_type": "stream",
     "text": [
      "7MY-KM-24-32 파일 없음.\n",
      "7MY-KM-24-33 파일 없음.\n"
     ]
    },
    {
     "name": "stderr",
     "output_type": "stream",
     "text": [
      " 57%|█████▋    | 76/133 [00:58<01:48,  1.90s/it]"
     ]
    },
    {
     "name": "stdout",
     "output_type": "stream",
     "text": [
      "8MY-KM-13-19 파일 없음.\n",
      "8MY-KM-14-21 파일 없음.\n"
     ]
    },
    {
     "name": "stderr",
     "output_type": "stream",
     "text": [
      " 58%|█████▊    | 77/133 [00:58<01:17,  1.39s/it]"
     ]
    },
    {
     "name": "stdout",
     "output_type": "stream",
     "text": [
      "8MY-KM-14-29 파일 없음.\n"
     ]
    },
    {
     "name": "stderr",
     "output_type": "stream",
     "text": [
      " 59%|█████▊    | 78/133 [01:00<01:31,  1.67s/it]"
     ]
    },
    {
     "name": "stdout",
     "output_type": "stream",
     "text": [
      "9MY-HD-14-21 파일 없음.\n",
      "9MY-KM-14-22 파일 없음.\n"
     ]
    },
    {
     "name": "stderr",
     "output_type": "stream",
     "text": [
      " 60%|██████    | 80/133 [01:04<01:25,  1.62s/it]"
     ]
    },
    {
     "name": "stdout",
     "output_type": "stream",
     "text": [
      "9MY-KM-14-41 파일 없음.\n"
     ]
    },
    {
     "name": "stderr",
     "output_type": "stream",
     "text": [
      " 61%|██████    | 81/133 [01:04<01:08,  1.31s/it]"
     ]
    },
    {
     "name": "stdout",
     "output_type": "stream",
     "text": [
      "6MY-DW-14-18 파일 없음.\n"
     ]
    },
    {
     "name": "stderr",
     "output_type": "stream",
     "text": [
      " 62%|██████▏   | 83/133 [01:06<00:58,  1.17s/it]"
     ]
    },
    {
     "name": "stdout",
     "output_type": "stream",
     "text": [
      "7MY-DW-13-07 파일 없음.\n",
      "5MY-SY-23-58 파일 없음.\n"
     ]
    },
    {
     "name": "stderr",
     "output_type": "stream",
     "text": [
      " 63%|██████▎   | 84/133 [01:06<00:43,  1.13it/s]"
     ]
    },
    {
     "name": "stdout",
     "output_type": "stream",
     "text": [
      "5MY-SY-24-48 파일 없음.\n"
     ]
    },
    {
     "name": "stderr",
     "output_type": "stream",
     "text": [
      " 65%|██████▍   | 86/133 [01:07<00:27,  1.69it/s]"
     ]
    },
    {
     "name": "stdout",
     "output_type": "stream",
     "text": [
      "7MY-SY-14-24 파일 없음.\n",
      "7MY-SY-14-34 파일 없음.\n"
     ]
    },
    {
     "name": "stderr",
     "output_type": "stream",
     "text": [
      " 65%|██████▌   | 87/133 [01:07<00:21,  2.15it/s]"
     ]
    },
    {
     "name": "stdout",
     "output_type": "stream",
     "text": [
      "7MY-SY-14-48 파일 없음.\n"
     ]
    },
    {
     "name": "stderr",
     "output_type": "stream",
     "text": [
      " 66%|██████▌   | 88/133 [01:08<00:18,  2.50it/s]"
     ]
    },
    {
     "name": "stdout",
     "output_type": "stream",
     "text": [
      "7MY-SY-14-49 파일 없음.\n"
     ]
    },
    {
     "name": "stderr",
     "output_type": "stream",
     "text": [
      " 67%|██████▋   | 89/133 [01:09<00:34,  1.27it/s]"
     ]
    },
    {
     "name": "stdout",
     "output_type": "stream",
     "text": [
      "7MY-SY-14-60 파일 없음.\n"
     ]
    },
    {
     "name": "stderr",
     "output_type": "stream",
     "text": [
      " 68%|██████▊   | 91/133 [01:10<00:20,  2.06it/s]"
     ]
    },
    {
     "name": "stdout",
     "output_type": "stream",
     "text": [
      "7MY-SY-14-61 파일 없음.\n",
      "8MY-SY-13-14 파일 없음.\n"
     ]
    },
    {
     "name": "stderr",
     "output_type": "stream",
     "text": [
      " 69%|██████▉   | 92/133 [01:10<00:15,  2.67it/s]"
     ]
    },
    {
     "name": "stdout",
     "output_type": "stream",
     "text": [
      "C135 파일 없음.\n"
     ]
    },
    {
     "name": "stderr",
     "output_type": "stream",
     "text": [
      " 71%|███████   | 94/133 [01:11<00:14,  2.64it/s]"
     ]
    },
    {
     "name": "stdout",
     "output_type": "stream",
     "text": [
      "7MY-SM-14-36 파일 없음.\n",
      "5MY-VTK-24-01 파일 없음.\n"
     ]
    },
    {
     "name": "stderr",
     "output_type": "stream",
     "text": [
      " 72%|███████▏  | 96/133 [01:11<00:09,  3.82it/s]"
     ]
    },
    {
     "name": "stdout",
     "output_type": "stream",
     "text": [
      "7MY-VTK-24-01 파일 없음.\n",
      "7MY-VTK-24-02 파일 없음.\n"
     ]
    },
    {
     "name": "stderr",
     "output_type": "stream",
     "text": [
      " 74%|███████▎  | 98/133 [01:11<00:06,  5.30it/s]"
     ]
    },
    {
     "name": "stdout",
     "output_type": "stream",
     "text": [
      "CMY-VTK-14-01 파일 없음.\n",
      "CMY-VTK-14-02 파일 없음.\n"
     ]
    },
    {
     "name": "stderr",
     "output_type": "stream",
     "text": [
      " 75%|███████▌  | 100/133 [01:12<00:10,  3.23it/s]"
     ]
    },
    {
     "name": "stdout",
     "output_type": "stream",
     "text": [
      "FMY-VTK-14-1 파일 없음.\n",
      "FMY-VTK-14-2 파일 없음.\n"
     ]
    },
    {
     "name": "stderr",
     "output_type": "stream",
     "text": [
      " 77%|███████▋  | 102/133 [01:12<00:06,  4.51it/s]"
     ]
    },
    {
     "name": "stdout",
     "output_type": "stream",
     "text": [
      "FMY-VTK-14-3 파일 없음.\n",
      "FMY-VTK-14-4 파일 없음.\n"
     ]
    },
    {
     "name": "stderr",
     "output_type": "stream",
     "text": [
      " 78%|███████▊  | 104/133 [01:13<00:05,  5.44it/s]"
     ]
    },
    {
     "name": "stdout",
     "output_type": "stream",
     "text": [
      "7MY-DK-24-04 파일 없음.\n",
      "5MY-SK-23-01 파일 없음.\n"
     ]
    },
    {
     "name": "stderr",
     "output_type": "stream",
     "text": [
      " 80%|███████▉  | 106/133 [01:13<00:04,  6.07it/s]"
     ]
    },
    {
     "name": "stdout",
     "output_type": "stream",
     "text": [
      "7MY-SK-24-02 파일 없음.\n",
      "7MY-SK-24-03 파일 없음.\n"
     ]
    },
    {
     "name": "stderr",
     "output_type": "stream",
     "text": [
      " 81%|████████  | 108/133 [01:13<00:03,  6.44it/s]"
     ]
    },
    {
     "name": "stdout",
     "output_type": "stream",
     "text": [
      "7MY-MT-24-01 파일 없음.\n",
      "7MY-MT-24-02 파일 없음.\n"
     ]
    },
    {
     "name": "stderr",
     "output_type": "stream",
     "text": [
      " 82%|████████▏ | 109/133 [01:13<00:03,  6.76it/s]"
     ]
    },
    {
     "name": "stdout",
     "output_type": "stream",
     "text": [
      "6MY-DB-23-45 파일 없음.\n"
     ]
    },
    {
     "name": "stderr",
     "output_type": "stream",
     "text": [
      " 83%|████████▎ | 111/133 [01:14<00:03,  6.51it/s]"
     ]
    },
    {
     "name": "stdout",
     "output_type": "stream",
     "text": [
      "6MY-DB-24-24 파일 없음.\n",
      "7MY-DB-23-40 파일 없음.\n"
     ]
    },
    {
     "name": "stderr",
     "output_type": "stream",
     "text": [
      " 85%|████████▍ | 113/133 [01:14<00:02,  7.22it/s]"
     ]
    },
    {
     "name": "stdout",
     "output_type": "stream",
     "text": [
      "7MY-DB-23-43 파일 없음.\n",
      "7MY-DB-24-40 파일 없음.\n"
     ]
    },
    {
     "name": "stderr",
     "output_type": "stream",
     "text": [
      " 86%|████████▋ | 115/133 [01:14<00:02,  6.88it/s]"
     ]
    },
    {
     "name": "stdout",
     "output_type": "stream",
     "text": [
      "7MY-DB-24-42 파일 없음.\n",
      "7MY-DB-24-43 파일 없음.\n"
     ]
    },
    {
     "name": "stderr",
     "output_type": "stream",
     "text": [
      " 88%|████████▊ | 117/133 [01:15<00:02,  6.97it/s]"
     ]
    },
    {
     "name": "stdout",
     "output_type": "stream",
     "text": [
      "7MY-DB-24-44 파일 없음.\n",
      "8MY-DB-24-08 파일 없음.\n"
     ]
    },
    {
     "name": "stderr",
     "output_type": "stream",
     "text": [
      " 89%|████████▊ | 118/133 [01:18<00:15,  1.06s/it]"
     ]
    },
    {
     "name": "stdout",
     "output_type": "stream",
     "text": [
      "6MY-HD-23-55 파일 없음.\n"
     ]
    },
    {
     "name": "stderr",
     "output_type": "stream",
     "text": [
      " 89%|████████▉ | 119/133 [01:21<00:22,  1.59s/it]"
     ]
    },
    {
     "name": "stdout",
     "output_type": "stream",
     "text": [
      "7MY-HD-24-28 파일 없음.\n"
     ]
    },
    {
     "name": "stderr",
     "output_type": "stream",
     "text": [
      " 90%|█████████ | 120/133 [01:22<00:20,  1.57s/it]"
     ]
    },
    {
     "name": "stdout",
     "output_type": "stream",
     "text": [
      "7MY-HD-24-29 파일 없음.\n"
     ]
    },
    {
     "name": "stderr",
     "output_type": "stream",
     "text": [
      " 91%|█████████ | 121/133 [01:23<00:17,  1.47s/it]"
     ]
    },
    {
     "name": "stdout",
     "output_type": "stream",
     "text": [
      "7MY-HD-24-30 파일 없음.\n"
     ]
    },
    {
     "name": "stderr",
     "output_type": "stream",
     "text": [
      " 92%|█████████▏| 123/133 [01:24<00:08,  1.19it/s]"
     ]
    },
    {
     "name": "stdout",
     "output_type": "stream",
     "text": [
      "7MY-HD-24-31 파일 없음.\n",
      "4MY-DC-33 파일 없음.\n"
     ]
    },
    {
     "name": "stderr",
     "output_type": "stream",
     "text": [
      " 94%|█████████▍| 125/133 [01:24<00:04,  1.83it/s]"
     ]
    },
    {
     "name": "stdout",
     "output_type": "stream",
     "text": [
      "7MY-DC-23-69 파일 없음.\n",
      "7MY-DC-23-70 파일 없음.\n"
     ]
    },
    {
     "name": "stderr",
     "output_type": "stream",
     "text": [
      " 95%|█████████▌| 127/133 [01:25<00:02,  2.97it/s]"
     ]
    },
    {
     "name": "stdout",
     "output_type": "stream",
     "text": [
      "7MY-DC-24-69 파일 없음.\n",
      "7MY-DC-24-70 파일 없음.\n"
     ]
    },
    {
     "name": "stderr",
     "output_type": "stream",
     "text": [
      " 97%|█████████▋| 129/133 [01:25<00:01,  3.92it/s]"
     ]
    },
    {
     "name": "stdout",
     "output_type": "stream",
     "text": [
      "7MY-DC-24-71 파일 없음.\n",
      "7MY-DC-24-72 파일 없음.\n"
     ]
    },
    {
     "name": "stderr",
     "output_type": "stream",
     "text": [
      " 98%|█████████▊| 131/133 [01:25<00:00,  4.81it/s]"
     ]
    },
    {
     "name": "stdout",
     "output_type": "stream",
     "text": [
      "8MY-DC-23-27 파일 없음.\n",
      "8MY-DC-24-12 파일 없음.\n"
     ]
    },
    {
     "name": "stderr",
     "output_type": "stream",
     "text": [
      "100%|██████████| 133/133 [01:26<00:00,  1.54it/s]"
     ]
    },
    {
     "name": "stdout",
     "output_type": "stream",
     "text": [
      "8MY-DC-24-15 파일 없음.\n",
      "8MY-DC-24-27 파일 없음.\n"
     ]
    },
    {
     "name": "stderr",
     "output_type": "stream",
     "text": [
      "\n"
     ]
    }
   ],
   "source": [
    "gas_nm_fold = 'D:/data/big2/BD1_4등급_데이터_점검1/과제1'\n",
    "analysis_fold = 'D:/data/big2/BD1_4등급_데이터_점검1/과제1/통계'\n",
    "productor_dict = {\n",
    "    'HD':'현대자동차(주)', 'KM':'기아자동차(주)', 'JL':'(주)재규어랜드로버코리아', 'AD':'아우디폭스바겐코리아(주)', 'PP':'아우디폭스바겐코리아(주)', 'PA':'(주)볼보자동차코리아', 'BK':'비엠더블유코리아(주)',\n",
    "    'DC':'타타대우상용차(주)', 'DB':'자일대우상용차 주식회사', 'DW':'한국지엠주식회사', 'DK':'다임러트럭코리아(주)', 'HB':'한불모터스(주)', 'SK':'스카니아코리아그룹(주)', 'SY':'쌍용자동차(주)', \n",
    "    'VTK':'볼보트럭코리아(주)', 'GK':'지엠아시아퍼시픽지역본부 주식회사', 'MK':'메르세데스벤츠코리아(주)', 'MT':'만트럭버스코리아(주)', 'SM':'르노삼성자동차(주)',  }\n",
    "for one in tqdm(gas_nm_list):\n",
    "    try:\n",
    "        # 파일 로드\n",
    "        file_name = f'{one}.csv'\n",
    "        gas_df = pd.read_csv(os.path.join(gas_nm_fold, file_name), low_memory=False, encoding='cp949')\n",
    "\n",
    "        # [출력] 차대번호 17자리 아닌 샘플\n",
    "        gas_df_vin17_y = gas_df[(gas_df['차대번호'].str.len() == 17)].reset_index(drop=True)\n",
    "        gas_df_vin17_n = gas_df[(gas_df['차대번호'].str.len() != 17)].reset_index(drop=True)\n",
    "        gas_df_vin17_n.to_excel(os.path.join(gas_nm_fold, f'샘플_차대번호17자리아닌_{one}.xlsx'), index=False)\n",
    "\n",
    "        # [출력] 차대번호 연식과 차량연식 다른 샘플\n",
    "        gas_df_vin17_y_vin10_year_y = gas_df_vin17_y[gas_df_vin17_y['vin10_year'] == gas_df_vin17_y['차량연식_y']].reset_index(drop=True)\n",
    "        gas_df_vin17_y_vin10_year_n = gas_df_vin17_y[gas_df_vin17_y['vin10_year'] != gas_df_vin17_y['차량연식_y']].reset_index(drop=True)\n",
    "        gas_df_vin17_y_vin10_year_n.to_excel(os.path.join(gas_nm_fold, f'샘플_차대번호17자리_차량연식다른_{one}.xlsx'), index=False)\n",
    "\n",
    "        # [출력] 배인번호 해당 제작사가 아닌 샘플\n",
    "        productors = gas_df_vin17_y_vin10_year_y['제작사명'].unique()\n",
    "        # 제작사명 조건에 따라 진행\n",
    "        if len(productors) == 1:\n",
    "            productor_name = gas_df_vin17_y_vin10_year_y['제작사명'].unique()[0]\n",
    "            num = 0\n",
    "            productor_name = gas_df_vin17_y_vin10_year_y['제작사명'].unique()[num]\n",
    "            gas_df_vin17_y_vin10_year_y_product_y = gas_df_vin17_y_vin10_year_y[(gas_df_vin17_y_vin10_year_y['제작사명'] == productor_name) | (gas_df_vin17_y_vin10_year_y['제작사명'] == '자기인증면제차량')].reset_index(drop=True)\n",
    "            gas_df_vin17_y_vin10_year_y_product_n = gas_df_vin17_y_vin10_year_y[(gas_df_vin17_y_vin10_year_y['제작사명'] != productor_name) & (gas_df_vin17_y_vin10_year_y['제작사명'] != '자기인증면제차량')].reset_index(drop=True)\n",
    "            gas_df_vin17_y_vin10_year_y_product_n.to_excel(os.path.join(gas_nm_fold, f'샘플_차대번호17자리_차량연식다른_해당제작사아닌_{one}.xlsx'), index=False)    \n",
    "        else:\n",
    "            temp = one.split('-')\n",
    "            if len(temp) == 1:\n",
    "                productor_name = one\n",
    "            else:\n",
    "                productor_name = productor_dict[temp[1]]\n",
    "            # print(one)\n",
    "            # print(gas_df_vin17_y_vin10_year_y['제작사명'].unique())\n",
    "            # productor_name = input('제작사명 : ')\n",
    "            gas_df_vin17_y_vin10_year_y_product_y = gas_df_vin17_y_vin10_year_y[(gas_df_vin17_y_vin10_year_y['제작사명'] == productor_name) | (gas_df_vin17_y_vin10_year_y['제작사명'] == '자가인증면제차량') | (gas_df_vin17_y_vin10_year_y['제작사명'] == 'SOFA차량')].reset_index(drop=True)\n",
    "            gas_df_vin17_y_vin10_year_y_product_n = gas_df_vin17_y_vin10_year_y[(gas_df_vin17_y_vin10_year_y['제작사명'] != productor_name) & (gas_df_vin17_y_vin10_year_y['제작사명'] != '자가인증면제차량') & (gas_df_vin17_y_vin10_year_y['제작사명'] != 'SOFA차량')].reset_index(drop=True)\n",
    "            gas_df_vin17_y_vin10_year_y_product_n.to_excel(os.path.join(gas_nm_fold, f'샘플_차대번호17자리_차량연식다른_해당제작사아닌_{one}.xlsx'), index=False)\n",
    "\n",
    "        # 제번별, 차형식별, 엔진형식별, 검사판정별 무부하매연측정치1 통계\n",
    "        g = gas_df_vin17_y_vin10_year_y_product_y.groupby(['배출가스인증번호', '제작사명', '제원관리번호', '자동차형식', '엔진형식_y', '검사판정'], dropna=False).agg({'차대번호':'count', '무부하매연측정치1':['mean', 'min', 'max']}).round(2).reset_index()\n",
    "        g = g.rename(columns={'엔진형식_y':'엔진형식', '차대번호':'대수'})\n",
    "        g.to_excel(os.path.join(analysis_fold, f'통계_제번별_차형식별_엔진형식별_검사판정별_무부하매연측정치1_{one}.xlsx'), index=False)\n",
    "    except:\n",
    "        print(f'{one} 파일 없음.')\n",
    "        pass"
   ]
  },
  {
   "cell_type": "code",
   "execution_count": null,
   "metadata": {},
   "outputs": [
    {
     "data": {
      "text/plain": [
       "(0, 92)"
      ]
     },
     "metadata": {},
     "output_type": "display_data"
    }
   ],
   "source": [
    "total[total['배출가스인증번호'] == '9MY-KM-14-22'].shape"
   ]
  },
  {
   "cell_type": "code",
   "execution_count": 28,
   "metadata": {},
   "outputs": [
    {
     "data": {
      "text/plain": [
       "(0, 49)"
      ]
     },
     "execution_count": 28,
     "metadata": {},
     "output_type": "execute_result"
    }
   ],
   "source": [
    "df[df['배출가스인증번호'] == '9MY-KM-14-22'].shape"
   ]
  },
  {
   "cell_type": "code",
   "execution_count": 29,
   "metadata": {},
   "outputs": [
    {
     "data": {
      "text/plain": [
       "(9621, 49)"
      ]
     },
     "execution_count": 29,
     "metadata": {},
     "output_type": "execute_result"
    }
   ],
   "source": [
    "df[df['차명'] == '쏘렌토'].shape"
   ]
  },
  {
   "cell_type": "code",
   "execution_count": 30,
   "metadata": {},
   "outputs": [
    {
     "data": {
      "text/plain": [
       "array(['6MY-KM-24-81', '7MY-KM-14-52', nan], dtype=object)"
      ]
     },
     "execution_count": 30,
     "metadata": {},
     "output_type": "execute_result"
    }
   ],
   "source": [
    "df.loc[df['차명'] == '쏘렌토', '배출가스인증번호'].unique()"
   ]
  },
  {
   "attachments": {},
   "cell_type": "markdown",
   "metadata": {},
   "source": [
    "# code end"
   ]
  }
 ],
 "metadata": {
  "kernelspec": {
   "display_name": "base",
   "language": "python",
   "name": "python3"
  },
  "language_info": {
   "codemirror_mode": {
    "name": "ipython",
    "version": 3
   },
   "file_extension": ".py",
   "mimetype": "text/x-python",
   "name": "python",
   "nbconvert_exporter": "python",
   "pygments_lexer": "ipython3",
   "version": "3.9.13"
  },
  "orig_nbformat": 4,
  "vscode": {
   "interpreter": {
    "hash": "ad2bdc8ecc057115af97d19610ffacc2b4e99fae6737bb82f5d7fb13d2f2c186"
   }
  }
 },
 "nbformat": 4,
 "nbformat_minor": 2
}
