{
 "cells": [
  {
   "attachments": {},
   "cell_type": "markdown",
   "metadata": {},
   "source": [
    "# Library"
   ]
  },
  {
   "cell_type": "code",
   "execution_count": 1,
   "metadata": {},
   "outputs": [],
   "source": [
    "import pandas as pd\n",
    "import numpy as np\n",
    "import os\n",
    "from datetime import datetime"
   ]
  },
  {
   "attachments": {},
   "cell_type": "markdown",
   "metadata": {},
   "source": [
    "# fold path"
   ]
  },
  {
   "cell_type": "code",
   "execution_count": 2,
   "metadata": {},
   "outputs": [],
   "source": [
    "raw_fold = 'D:/data/big2/BD1/raw'"
   ]
  },
  {
   "cell_type": "code",
   "execution_count": 3,
   "metadata": {},
   "outputs": [],
   "source": [
    "# 소수점 옵션\n",
    "pd.options.display.float_format = '{:.2f}'.format\n",
    "# pd.reset_option('display.float_format')"
   ]
  },
  {
   "attachments": {},
   "cell_type": "markdown",
   "metadata": {},
   "source": [
    "# 로드"
   ]
  },
  {
   "attachments": {},
   "cell_type": "markdown",
   "metadata": {},
   "source": [
    "## [로드] 종합 result"
   ]
  },
  {
   "cell_type": "code",
   "execution_count": 29,
   "metadata": {},
   "outputs": [
    {
     "name": "stdout",
     "output_type": "stream",
     "text": [
      "<class 'pandas.core.frame.DataFrame'>\n",
      "RangeIndex: 1502235 entries, 0 to 1502234\n",
      "Data columns (total 38 columns):\n",
      " #   Column      Non-Null Count    Dtype  \n",
      "---  ------      --------------    -----  \n",
      " 0   차대번호        1502235 non-null  object \n",
      " 1   차량번호        1502235 non-null  object \n",
      " 2   제원관리번호      1502235 non-null  object \n",
      " 3   차종_원본       1153813 non-null  object \n",
      " 4   용도          1502235 non-null  object \n",
      " 5   최초등록일       1502235 non-null  int64  \n",
      " 6   연식          1502235 non-null  int64  \n",
      " 7   제작일자        1335178 non-null  float64\n",
      " 8   검사유효일       1502223 non-null  float64\n",
      " 9   배출가스인증번호    1382222 non-null  object \n",
      " 10  등급          1502235 non-null  int64  \n",
      " 11  차명          1502235 non-null  object \n",
      " 12  차종분류        1502235 non-null  object \n",
      " 13  차종유형        1502235 non-null  object \n",
      " 14  자동차형식       1501958 non-null  object \n",
      " 15  제작사명        1492590 non-null  object \n",
      " 16  연료          1502235 non-null  object \n",
      " 17  엔진형식        1500400 non-null  object \n",
      " 18  총중량         1502234 non-null  float64\n",
      " 19  적재중량        1501728 non-null  float64\n",
      " 20  엔진출력        1501882 non-null  object \n",
      " 21  배기량         1502231 non-null  float64\n",
      " 22  법정동코드       1502235 non-null  int64  \n",
      " 23  시도명         1502235 non-null  object \n",
      " 24  시군구명        1502235 non-null  object \n",
      " 25  소유자구분       1502235 non-null  object \n",
      " 26  말소여부        1502235 non-null  object \n",
      " 27  일치유무        1153813 non-null  object \n",
      " 28  인증번호 수정 유무  1153813 non-null  object \n",
      " 29  배인번호_수정     1153813 non-null  object \n",
      " 30  등급_수정       1153813 non-null  float64\n",
      " 31  DPF유무_수정    1153813 non-null  object \n",
      " 32  배출가스        1153813 non-null  object \n",
      " 33  등급2         1153813 non-null  object \n",
      " 34  DPF         1146987 non-null  object \n",
      " 35  비고          46458 non-null    object \n",
      " 36  차종          348422 non-null   object \n",
      " 37  Grade       348383 non-null   object \n",
      "dtypes: float64(6), int64(4), object(28)\n",
      "memory usage: 435.5+ MB\n"
     ]
    }
   ],
   "source": [
    "# about 17.0s\n",
    "name = '종합_4등급 차량 리스트 양식 result 최종_수정-작업(2023.04.13_PM.02.38.43)'\n",
    "file_name = f'{name}.csv'\n",
    "df = pd.read_csv(os.path.join(raw_fold, file_name), low_memory=False)\n",
    "df.info()"
   ]
  },
  {
   "cell_type": "code",
   "execution_count": 30,
   "metadata": {},
   "outputs": [
    {
     "data": {
      "text/plain": [
       "Index(['차대번호', '차량번호', '제원관리번호', '차종_원본', '용도', '최초등록일', '연식', '제작일자', '검사유효일',\n",
       "       '배출가스인증번호', '등급', '차명', '차종분류', '차종유형', '자동차형식', '제작사명', '연료', '엔진형식',\n",
       "       '총중량', '적재중량', '엔진출력', '배기량', '법정동코드', '시도명', '시군구명', '소유자구분', '말소여부',\n",
       "       '일치유무', '인증번호 수정 유무', '배인번호_수정', '등급_수정', 'DPF유무_수정', '배출가스', '등급2',\n",
       "       'DPF', '비고', '차종', 'Grade'],\n",
       "      dtype='object')"
      ]
     },
     "execution_count": 30,
     "metadata": {},
     "output_type": "execute_result"
    }
   ],
   "source": [
    "df.columns"
   ]
  },
  {
   "cell_type": "code",
   "execution_count": 31,
   "metadata": {},
   "outputs": [
    {
     "data": {
      "text/plain": [
       "경유             1153813\n",
       "휘발유             322983\n",
       "LPG(액화석유가스)      25400\n",
       "기타연료                37\n",
       "알코올                  1\n",
       "CNG(압축천연가스)          1\n",
       "Name: 연료, dtype: int64"
      ]
     },
     "execution_count": 31,
     "metadata": {},
     "output_type": "execute_result"
    }
   ],
   "source": [
    "df['연료'].value_counts(dropna=False)"
   ]
  },
  {
   "cell_type": "code",
   "execution_count": 32,
   "metadata": {},
   "outputs": [
    {
     "data": {
      "text/plain": [
       "4.00    1149291\n",
       "3.00       4396\n",
       "5.00        126\n",
       "Name: 등급_수정, dtype: int64"
      ]
     },
     "execution_count": 32,
     "metadata": {},
     "output_type": "execute_result"
    }
   ],
   "source": [
    "df['등급_수정'].value_counts(dropna=True)"
   ]
  },
  {
   "attachments": {},
   "cell_type": "markdown",
   "metadata": {},
   "source": [
    "# 전처리"
   ]
  },
  {
   "attachments": {},
   "cell_type": "markdown",
   "metadata": {},
   "source": [
    "## 컬럼 정리\n",
    "- 차종 값 -> 차종_원본으로 이동"
   ]
  },
  {
   "cell_type": "code",
   "execution_count": 34,
   "metadata": {},
   "outputs": [
    {
     "data": {
      "text/plain": [
       "348422"
      ]
     },
     "execution_count": 34,
     "metadata": {},
     "output_type": "execute_result"
    }
   ],
   "source": [
    "df['차종_원본'].isnull().sum()"
   ]
  },
  {
   "cell_type": "code",
   "execution_count": 35,
   "metadata": {},
   "outputs": [
    {
     "data": {
      "text/plain": [
       "Int64Index([1153813, 1153814, 1153815, 1153816, 1153817], dtype='int64')"
      ]
     },
     "execution_count": 35,
     "metadata": {},
     "output_type": "execute_result"
    }
   ],
   "source": [
    "df[df['차종_원본'].isnull() == True].index[:5]"
   ]
  },
  {
   "cell_type": "code",
   "execution_count": 37,
   "metadata": {},
   "outputs": [
    {
     "data": {
      "text/html": [
       "<div>\n",
       "<style scoped>\n",
       "    .dataframe tbody tr th:only-of-type {\n",
       "        vertical-align: middle;\n",
       "    }\n",
       "\n",
       "    .dataframe tbody tr th {\n",
       "        vertical-align: top;\n",
       "    }\n",
       "\n",
       "    .dataframe thead th {\n",
       "        text-align: right;\n",
       "    }\n",
       "</style>\n",
       "<table border=\"1\" class=\"dataframe\">\n",
       "  <thead>\n",
       "    <tr style=\"text-align: right;\">\n",
       "      <th></th>\n",
       "      <th>차종_원본</th>\n",
       "      <th>차종</th>\n",
       "    </tr>\n",
       "  </thead>\n",
       "  <tbody>\n",
       "    <tr>\n",
       "      <th>1153813</th>\n",
       "      <td>NaN</td>\n",
       "      <td>승용</td>\n",
       "    </tr>\n",
       "    <tr>\n",
       "      <th>1153814</th>\n",
       "      <td>NaN</td>\n",
       "      <td>승용</td>\n",
       "    </tr>\n",
       "    <tr>\n",
       "      <th>1153815</th>\n",
       "      <td>NaN</td>\n",
       "      <td>승용</td>\n",
       "    </tr>\n",
       "    <tr>\n",
       "      <th>1153816</th>\n",
       "      <td>NaN</td>\n",
       "      <td>승합</td>\n",
       "    </tr>\n",
       "    <tr>\n",
       "      <th>1153817</th>\n",
       "      <td>NaN</td>\n",
       "      <td>승용</td>\n",
       "    </tr>\n",
       "  </tbody>\n",
       "</table>\n",
       "</div>"
      ],
      "text/plain": [
       "        차종_원본  차종\n",
       "1153813   NaN  승용\n",
       "1153814   NaN  승용\n",
       "1153815   NaN  승용\n",
       "1153816   NaN  승합\n",
       "1153817   NaN  승용"
      ]
     },
     "execution_count": 37,
     "metadata": {},
     "output_type": "execute_result"
    }
   ],
   "source": [
    "df.loc[[1153813, 1153814, 1153815, 1153816, 1153817], ['차종_원본', '차종']]"
   ]
  },
  {
   "cell_type": "code",
   "execution_count": 38,
   "metadata": {},
   "outputs": [],
   "source": [
    "df.loc[df['차종_원본'].isnull() == True, '차종_원본'] = df.loc[df['차종_원본'].isnull() == True, '차종']"
   ]
  },
  {
   "cell_type": "code",
   "execution_count": 39,
   "metadata": {},
   "outputs": [
    {
     "data": {
      "text/plain": [
       "0"
      ]
     },
     "execution_count": 39,
     "metadata": {},
     "output_type": "execute_result"
    }
   ],
   "source": [
    "df['차종_원본'].isnull().sum()"
   ]
  },
  {
   "cell_type": "code",
   "execution_count": 40,
   "metadata": {},
   "outputs": [
    {
     "data": {
      "text/html": [
       "<div>\n",
       "<style scoped>\n",
       "    .dataframe tbody tr th:only-of-type {\n",
       "        vertical-align: middle;\n",
       "    }\n",
       "\n",
       "    .dataframe tbody tr th {\n",
       "        vertical-align: top;\n",
       "    }\n",
       "\n",
       "    .dataframe thead th {\n",
       "        text-align: right;\n",
       "    }\n",
       "</style>\n",
       "<table border=\"1\" class=\"dataframe\">\n",
       "  <thead>\n",
       "    <tr style=\"text-align: right;\">\n",
       "      <th></th>\n",
       "      <th>차종_원본</th>\n",
       "      <th>차종</th>\n",
       "    </tr>\n",
       "  </thead>\n",
       "  <tbody>\n",
       "    <tr>\n",
       "      <th>1153813</th>\n",
       "      <td>승용</td>\n",
       "      <td>승용</td>\n",
       "    </tr>\n",
       "    <tr>\n",
       "      <th>1153814</th>\n",
       "      <td>승용</td>\n",
       "      <td>승용</td>\n",
       "    </tr>\n",
       "    <tr>\n",
       "      <th>1153815</th>\n",
       "      <td>승용</td>\n",
       "      <td>승용</td>\n",
       "    </tr>\n",
       "    <tr>\n",
       "      <th>1153816</th>\n",
       "      <td>승합</td>\n",
       "      <td>승합</td>\n",
       "    </tr>\n",
       "    <tr>\n",
       "      <th>1153817</th>\n",
       "      <td>승용</td>\n",
       "      <td>승용</td>\n",
       "    </tr>\n",
       "  </tbody>\n",
       "</table>\n",
       "</div>"
      ],
      "text/plain": [
       "        차종_원본  차종\n",
       "1153813    승용  승용\n",
       "1153814    승용  승용\n",
       "1153815    승용  승용\n",
       "1153816    승합  승합\n",
       "1153817    승용  승용"
      ]
     },
     "execution_count": 40,
     "metadata": {},
     "output_type": "execute_result"
    }
   ],
   "source": [
    "df.loc[[1153813, 1153814, 1153815, 1153816, 1153817], ['차종_원본', '차종']]"
   ]
  },
  {
   "cell_type": "code",
   "execution_count": 41,
   "metadata": {},
   "outputs": [
    {
     "data": {
      "text/plain": [
       "Index(['차대번호', '차량번호', '제원관리번호', '차종_원본', '용도', '최초등록일', '연식', '제작일자', '검사유효일',\n",
       "       '배출가스인증번호', '등급', '차명', '차종분류', '차종유형', '자동차형식', '제작사명', '연료', '엔진형식',\n",
       "       '총중량', '적재중량', '엔진출력', '배기량', '법정동코드', '시도명', '시군구명', '소유자구분', '말소여부',\n",
       "       '일치유무', '인증번호 수정 유무', '배인번호_수정', '등급_수정', 'DPF유무_수정', '배출가스', '등급2',\n",
       "       'DPF', '비고', '차종', 'Grade'],\n",
       "      dtype='object')"
      ]
     },
     "execution_count": 41,
     "metadata": {},
     "output_type": "execute_result"
    }
   ],
   "source": [
    "df.columns"
   ]
  },
  {
   "cell_type": "code",
   "execution_count": 42,
   "metadata": {},
   "outputs": [
    {
     "data": {
      "text/plain": [
       "Index(['차대번호', '차량번호', '제원관리번호', '차종', '용도', '최초등록일', '연식', '제작일자', '검사유효일',\n",
       "       '배출가스인증번호', '등급', '차명', '차종분류', '차종유형', '자동차형식', '제작사명', '연료', '엔진형식',\n",
       "       '총중량', '적재중량', '엔진출력', '배기량', '법정동코드', '시도명', '시군구명', '소유자구분', '말소여부',\n",
       "       '일치유무', '인증번호 수정 유무', '배인번호_수정', '등급_수정', 'DPF유무_수정', '배출가스', '등급2',\n",
       "       'DPF', '비고'],\n",
       "      dtype='object')"
      ]
     },
     "execution_count": 42,
     "metadata": {},
     "output_type": "execute_result"
    }
   ],
   "source": [
    "df.drop(['차종', 'Grade'], axis=1, inplace=True)\n",
    "df.rename(columns={'차종_원본':'차종'}, inplace=True)\n",
    "df.columns"
   ]
  },
  {
   "attachments": {},
   "cell_type": "markdown",
   "metadata": {},
   "source": [
    "## 기타연료 수정\n",
    "- 에어스트림탐지견수송트레일러 제외 나머지 36대 '휘발유'로 수정"
   ]
  },
  {
   "cell_type": "code",
   "execution_count": 43,
   "metadata": {},
   "outputs": [
    {
     "data": {
      "text/html": [
       "<div>\n",
       "<style scoped>\n",
       "    .dataframe tbody tr th:only-of-type {\n",
       "        vertical-align: middle;\n",
       "    }\n",
       "\n",
       "    .dataframe tbody tr th {\n",
       "        vertical-align: top;\n",
       "    }\n",
       "\n",
       "    .dataframe thead th {\n",
       "        text-align: right;\n",
       "    }\n",
       "</style>\n",
       "<table border=\"1\" class=\"dataframe\">\n",
       "  <thead>\n",
       "    <tr style=\"text-align: right;\">\n",
       "      <th></th>\n",
       "      <th>연료</th>\n",
       "      <th>차명</th>\n",
       "    </tr>\n",
       "  </thead>\n",
       "  <tbody>\n",
       "    <tr>\n",
       "      <th>1502196</th>\n",
       "      <td>기타연료</td>\n",
       "      <td>캐피탈</td>\n",
       "    </tr>\n",
       "    <tr>\n",
       "      <th>1502197</th>\n",
       "      <td>기타연료</td>\n",
       "      <td>르망</td>\n",
       "    </tr>\n",
       "    <tr>\n",
       "      <th>1502198</th>\n",
       "      <td>기타연료</td>\n",
       "      <td>도요다크라운로얄싸롱</td>\n",
       "    </tr>\n",
       "    <tr>\n",
       "      <th>1502199</th>\n",
       "      <td>기타연료</td>\n",
       "      <td>캐피탈</td>\n",
       "    </tr>\n",
       "    <tr>\n",
       "      <th>1502200</th>\n",
       "      <td>기타연료</td>\n",
       "      <td>로얄살롱2.0AT</td>\n",
       "    </tr>\n",
       "    <tr>\n",
       "      <th>1502201</th>\n",
       "      <td>기타연료</td>\n",
       "      <td>스텔라오토매틱</td>\n",
       "    </tr>\n",
       "    <tr>\n",
       "      <th>1502202</th>\n",
       "      <td>기타연료</td>\n",
       "      <td>머큐리 세이블</td>\n",
       "    </tr>\n",
       "    <tr>\n",
       "      <th>1502204</th>\n",
       "      <td>기타연료</td>\n",
       "      <td>벤즈 230E</td>\n",
       "    </tr>\n",
       "    <tr>\n",
       "      <th>1502205</th>\n",
       "      <td>기타연료</td>\n",
       "      <td>캐피탈</td>\n",
       "    </tr>\n",
       "    <tr>\n",
       "      <th>1502206</th>\n",
       "      <td>기타연료</td>\n",
       "      <td>벤즈230E</td>\n",
       "    </tr>\n",
       "    <tr>\n",
       "      <th>1502207</th>\n",
       "      <td>기타연료</td>\n",
       "      <td>캐피탈</td>\n",
       "    </tr>\n",
       "    <tr>\n",
       "      <th>1502208</th>\n",
       "      <td>기타연료</td>\n",
       "      <td>로얄살롱2.0AT</td>\n",
       "    </tr>\n",
       "    <tr>\n",
       "      <th>1502209</th>\n",
       "      <td>기타연료</td>\n",
       "      <td>르망펜타-5</td>\n",
       "    </tr>\n",
       "    <tr>\n",
       "      <th>1502210</th>\n",
       "      <td>기타연료</td>\n",
       "      <td>엑셀</td>\n",
       "    </tr>\n",
       "    <tr>\n",
       "      <th>1502211</th>\n",
       "      <td>기타연료</td>\n",
       "      <td>캐피탈</td>\n",
       "    </tr>\n",
       "    <tr>\n",
       "      <th>1502212</th>\n",
       "      <td>기타연료</td>\n",
       "      <td>로얄살롱2.0AT</td>\n",
       "    </tr>\n",
       "    <tr>\n",
       "      <th>1502213</th>\n",
       "      <td>기타연료</td>\n",
       "      <td>캐피탈</td>\n",
       "    </tr>\n",
       "    <tr>\n",
       "      <th>1502214</th>\n",
       "      <td>기타연료</td>\n",
       "      <td>르망펜타-5</td>\n",
       "    </tr>\n",
       "    <tr>\n",
       "      <th>1502215</th>\n",
       "      <td>기타연료</td>\n",
       "      <td>로얄살롱2.0AT</td>\n",
       "    </tr>\n",
       "    <tr>\n",
       "      <th>1502216</th>\n",
       "      <td>기타연료</td>\n",
       "      <td>캐피탈</td>\n",
       "    </tr>\n",
       "    <tr>\n",
       "      <th>1502217</th>\n",
       "      <td>기타연료</td>\n",
       "      <td>에어스트림탐지견수송트레일러</td>\n",
       "    </tr>\n",
       "    <tr>\n",
       "      <th>1502218</th>\n",
       "      <td>기타연료</td>\n",
       "      <td>르망</td>\n",
       "    </tr>\n",
       "    <tr>\n",
       "      <th>1502219</th>\n",
       "      <td>기타연료</td>\n",
       "      <td>캐피탈</td>\n",
       "    </tr>\n",
       "    <tr>\n",
       "      <th>1502220</th>\n",
       "      <td>기타연료</td>\n",
       "      <td>캐피탈</td>\n",
       "    </tr>\n",
       "    <tr>\n",
       "      <th>1502221</th>\n",
       "      <td>기타연료</td>\n",
       "      <td>르망펜타-5</td>\n",
       "    </tr>\n",
       "    <tr>\n",
       "      <th>1502222</th>\n",
       "      <td>기타연료</td>\n",
       "      <td>캐피탈</td>\n",
       "    </tr>\n",
       "    <tr>\n",
       "      <th>1502224</th>\n",
       "      <td>기타연료</td>\n",
       "      <td>르망펜타-5</td>\n",
       "    </tr>\n",
       "    <tr>\n",
       "      <th>1502225</th>\n",
       "      <td>기타연료</td>\n",
       "      <td>프레스토오토매틱</td>\n",
       "    </tr>\n",
       "    <tr>\n",
       "      <th>1502226</th>\n",
       "      <td>기타연료</td>\n",
       "      <td>프레스토오토매틱</td>\n",
       "    </tr>\n",
       "    <tr>\n",
       "      <th>1502227</th>\n",
       "      <td>기타연료</td>\n",
       "      <td>캐피탈</td>\n",
       "    </tr>\n",
       "    <tr>\n",
       "      <th>1502228</th>\n",
       "      <td>기타연료</td>\n",
       "      <td>캐피탈</td>\n",
       "    </tr>\n",
       "    <tr>\n",
       "      <th>1502229</th>\n",
       "      <td>기타연료</td>\n",
       "      <td>프레스토오토매틱</td>\n",
       "    </tr>\n",
       "    <tr>\n",
       "      <th>1502230</th>\n",
       "      <td>기타연료</td>\n",
       "      <td>캐피탈</td>\n",
       "    </tr>\n",
       "    <tr>\n",
       "      <th>1502231</th>\n",
       "      <td>기타연료</td>\n",
       "      <td>프레스토오토매틱</td>\n",
       "    </tr>\n",
       "    <tr>\n",
       "      <th>1502232</th>\n",
       "      <td>기타연료</td>\n",
       "      <td>캐피탈</td>\n",
       "    </tr>\n",
       "    <tr>\n",
       "      <th>1502233</th>\n",
       "      <td>기타연료</td>\n",
       "      <td>캐피탈</td>\n",
       "    </tr>\n",
       "    <tr>\n",
       "      <th>1502234</th>\n",
       "      <td>기타연료</td>\n",
       "      <td>캐피탈</td>\n",
       "    </tr>\n",
       "  </tbody>\n",
       "</table>\n",
       "</div>"
      ],
      "text/plain": [
       "           연료              차명\n",
       "1502196  기타연료             캐피탈\n",
       "1502197  기타연료              르망\n",
       "1502198  기타연료      도요다크라운로얄싸롱\n",
       "1502199  기타연료             캐피탈\n",
       "1502200  기타연료       로얄살롱2.0AT\n",
       "1502201  기타연료         스텔라오토매틱\n",
       "1502202  기타연료         머큐리 세이블\n",
       "1502204  기타연료         벤즈 230E\n",
       "1502205  기타연료             캐피탈\n",
       "1502206  기타연료          벤즈230E\n",
       "1502207  기타연료             캐피탈\n",
       "1502208  기타연료       로얄살롱2.0AT\n",
       "1502209  기타연료          르망펜타-5\n",
       "1502210  기타연료              엑셀\n",
       "1502211  기타연료             캐피탈\n",
       "1502212  기타연료       로얄살롱2.0AT\n",
       "1502213  기타연료             캐피탈\n",
       "1502214  기타연료          르망펜타-5\n",
       "1502215  기타연료       로얄살롱2.0AT\n",
       "1502216  기타연료             캐피탈\n",
       "1502217  기타연료  에어스트림탐지견수송트레일러\n",
       "1502218  기타연료              르망\n",
       "1502219  기타연료             캐피탈\n",
       "1502220  기타연료             캐피탈\n",
       "1502221  기타연료          르망펜타-5\n",
       "1502222  기타연료             캐피탈\n",
       "1502224  기타연료          르망펜타-5\n",
       "1502225  기타연료        프레스토오토매틱\n",
       "1502226  기타연료        프레스토오토매틱\n",
       "1502227  기타연료             캐피탈\n",
       "1502228  기타연료             캐피탈\n",
       "1502229  기타연료        프레스토오토매틱\n",
       "1502230  기타연료             캐피탈\n",
       "1502231  기타연료        프레스토오토매틱\n",
       "1502232  기타연료             캐피탈\n",
       "1502233  기타연료             캐피탈\n",
       "1502234  기타연료             캐피탈"
      ]
     },
     "execution_count": 43,
     "metadata": {},
     "output_type": "execute_result"
    }
   ],
   "source": [
    "df.loc[df['연료'] == '기타연료', ['연료', '차명']]"
   ]
  },
  {
   "cell_type": "code",
   "execution_count": 44,
   "metadata": {},
   "outputs": [
    {
     "data": {
      "text/plain": [
       "(37, 2)"
      ]
     },
     "execution_count": 44,
     "metadata": {},
     "output_type": "execute_result"
    }
   ],
   "source": [
    "df.loc[df['연료'] == '기타연료', ['연료', '차명']].shape"
   ]
  },
  {
   "cell_type": "code",
   "execution_count": 45,
   "metadata": {},
   "outputs": [],
   "source": [
    "df.loc[(df['연료'] == '기타연료') & (df['차명'] != '에어스트림탐지견수송트레일러'), ['연료', '비고']] = ['휘발유', '기타연료에서 휘발유로 변경']"
   ]
  },
  {
   "cell_type": "code",
   "execution_count": 46,
   "metadata": {},
   "outputs": [
    {
     "data": {
      "text/plain": [
       "경유             1153813\n",
       "휘발유             323019\n",
       "LPG(액화석유가스)      25400\n",
       "알코올                  1\n",
       "기타연료                 1\n",
       "CNG(압축천연가스)          1\n",
       "Name: 연료, dtype: int64"
      ]
     },
     "execution_count": 46,
     "metadata": {},
     "output_type": "execute_result"
    }
   ],
   "source": [
    "df['연료'].value_counts(dropna=False)"
   ]
  },
  {
   "cell_type": "code",
   "execution_count": 47,
   "metadata": {},
   "outputs": [
    {
     "data": {
      "text/plain": [
       "(36, 36)"
      ]
     },
     "execution_count": 47,
     "metadata": {},
     "output_type": "execute_result"
    }
   ],
   "source": [
    "df.loc[df['비고'] == '기타연료에서 휘발유로 변경'].shape"
   ]
  },
  {
   "cell_type": "code",
   "execution_count": 48,
   "metadata": {},
   "outputs": [
    {
     "data": {
      "text/plain": [
       "(1502235, 36)"
      ]
     },
     "execution_count": 48,
     "metadata": {},
     "output_type": "execute_result"
    }
   ],
   "source": [
    "df.shape"
   ]
  },
  {
   "attachments": {},
   "cell_type": "markdown",
   "metadata": {},
   "source": [
    "### [출력] 기타연료 수정한 파일"
   ]
  },
  {
   "cell_type": "code",
   "execution_count": 49,
   "metadata": {},
   "outputs": [
    {
     "data": {
      "text/plain": [
       "'2023.04.13_PM.04.25.49'"
      ]
     },
     "execution_count": 49,
     "metadata": {},
     "output_type": "execute_result"
    }
   ],
   "source": [
    "today_date = datetime.today().strftime(\"%Y.%m.%d_%p.%I.%M.%S\")\n",
    "today_date"
   ]
  },
  {
   "cell_type": "code",
   "execution_count": 50,
   "metadata": {},
   "outputs": [],
   "source": [
    "# about 21.5s\n",
    "df.to_csv(os.path.join(raw_fold, f'종합_4등급 차량 리스트 양식 result 최종_수정-작업({today_date}).csv'), index=False)"
   ]
  },
  {
   "cell_type": "code",
   "execution_count": 51,
   "metadata": {},
   "outputs": [],
   "source": [
    "# about 14m 33.5s\n",
    "df.iloc[:700000].to_excel(os.path.join(raw_fold, f'종합_4등급 차량 리스트 양식 result 최종_수정-작업01({today_date}).xlsx'), index=False)\n",
    "df.iloc[700000:].to_excel(os.path.join(raw_fold, f'종합_4등급 차량 리스트 양식 result 최종_수정-작업02({today_date}).xlsx'), index=False)"
   ]
  },
  {
   "attachments": {},
   "cell_type": "markdown",
   "metadata": {},
   "source": [
    "# 코드 마지막"
   ]
  }
 ],
 "metadata": {
  "kernelspec": {
   "display_name": "base",
   "language": "python",
   "name": "python3"
  },
  "language_info": {
   "codemirror_mode": {
    "name": "ipython",
    "version": 3
   },
   "file_extension": ".py",
   "mimetype": "text/x-python",
   "name": "python",
   "nbconvert_exporter": "python",
   "pygments_lexer": "ipython3",
   "version": "3.9.13"
  },
  "orig_nbformat": 4,
  "vscode": {
   "interpreter": {
    "hash": "ad2bdc8ecc057115af97d19610ffacc2b4e99fae6737bb82f5d7fb13d2f2c186"
   }
  }
 },
 "nbformat": 4,
 "nbformat_minor": 2
}
