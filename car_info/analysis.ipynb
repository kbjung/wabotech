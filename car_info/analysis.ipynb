{
 "cells": [
  {
   "cell_type": "markdown",
   "metadata": {},
   "source": [
    "# 라이브러리"
   ]
  },
  {
   "cell_type": "code",
   "execution_count": 36,
   "metadata": {},
   "outputs": [],
   "source": [
    "import pandas as pd\n",
    "import numpy as np\n",
    "from tqdm import tqdm"
   ]
  },
  {
   "cell_type": "markdown",
   "metadata": {},
   "source": [
    "## 데이터 로드"
   ]
  },
  {
   "cell_type": "code",
   "execution_count": 128,
   "metadata": {},
   "outputs": [
    {
     "name": "stdout",
     "output_type": "stream",
     "text": [
      "<class 'pandas.core.frame.DataFrame'>\n",
      "Index: 2550090 entries, KMHE341DBHA277111-01 to KPBXH3AT1NP391577-01\n",
      "Data columns (total 39 columns):\n",
      " #   Column       Dtype  \n",
      "---  ------       -----  \n",
      " 0   차량등록번호       object \n",
      " 1   본거지법정동코드     int64  \n",
      " 2   소유자구분        object \n",
      " 3   차종_등록정보      object \n",
      " 4   용도           object \n",
      " 5   차대번호         object \n",
      " 6   최초등록일자       int64  \n",
      " 7   차량연식         int64  \n",
      " 8   차량제작일자       float64\n",
      " 9   검사유효일        int64  \n",
      " 10  제원관리번호       object \n",
      " 11  배출가스인증번호     object \n",
      " 12  배출가스등급       int64  \n",
      " 13  저공해조치종류      float64\n",
      " 14  저공해조치구조변경YN  object \n",
      " 15  차량말소YN       object \n",
      " 16  취득일자         float64\n",
      " 17  취득금액         float64\n",
      " 18  차명           object \n",
      " 19  차종_제원정보      object \n",
      " 20  차종분류         object \n",
      " 21  차종유형         object \n",
      " 22  자동차형식        object \n",
      " 23  제작사명         object \n",
      " 24  연료           object \n",
      " 25  엔진형식         object \n",
      " 26  총중량          float64\n",
      " 27  적재중량         float64\n",
      " 28  엔진출력         float64\n",
      " 29  배기량          float64\n",
      " 30  승차인원         int64  \n",
      " 31  차량길이         int64  \n",
      " 32  차량너비         int64  \n",
      " 33  차량높이         int64  \n",
      " 34  원산지명         object \n",
      " 35  삭제YN         object \n",
      " 36  제원승인일자       int64  \n",
      " 37  구동형식         object \n",
      " 38  변속기종류        object \n",
      "dtypes: float64(8), int64(10), object(21)\n",
      "memory usage: 778.2+ MB\n"
     ]
    }
   ],
   "source": [
    "df = pd.read_table('data/220819_22.06월기준_1등급_수정.txt', sep='\\t', encoding='EUC-kr', index_col=0)\n",
    "df.info()"
   ]
  },
  {
   "cell_type": "markdown",
   "metadata": {},
   "source": [
    "## 기본 분석\n",
    "- shape : 2550090, 40"
   ]
  },
  {
   "cell_type": "code",
   "execution_count": 129,
   "metadata": {},
   "outputs": [
    {
     "data": {
      "text/plain": [
       "Index(['차량등록번호', '본거지법정동코드', '소유자구분', '차종_등록정보', '용도', '차대번호', '최초등록일자',\n",
       "       '차량연식', '차량제작일자', '검사유효일', '제원관리번호', '배출가스인증번호', '배출가스등급', '저공해조치종류',\n",
       "       '저공해조치구조변경YN', '차량말소YN', '취득일자', '취득금액', '차명', '차종_제원정보', '차종분류',\n",
       "       '차종유형', '자동차형식', '제작사명', '연료', '엔진형식', '총중량', '적재중량', '엔진출력', '배기량',\n",
       "       '승차인원', '차량길이', '차량너비', '차량높이', '원산지명', '삭제YN', '제원승인일자', '구동형식',\n",
       "       '변속기종류'],\n",
       "      dtype='object')"
      ]
     },
     "execution_count": 129,
     "metadata": {},
     "output_type": "execute_result"
    }
   ],
   "source": [
    "df.columns"
   ]
  },
  {
   "cell_type": "code",
   "execution_count": 130,
   "metadata": {},
   "outputs": [
    {
     "data": {
      "text/plain": [
       "39"
      ]
     },
     "execution_count": 130,
     "metadata": {},
     "output_type": "execute_result"
    }
   ],
   "source": [
    "len(df.columns)"
   ]
  },
  {
   "cell_type": "code",
   "execution_count": 131,
   "metadata": {},
   "outputs": [
    {
     "data": {
      "text/html": [
       "<div>\n",
       "<style scoped>\n",
       "    .dataframe tbody tr th:only-of-type {\n",
       "        vertical-align: middle;\n",
       "    }\n",
       "\n",
       "    .dataframe tbody tr th {\n",
       "        vertical-align: top;\n",
       "    }\n",
       "\n",
       "    .dataframe thead th {\n",
       "        text-align: right;\n",
       "    }\n",
       "</style>\n",
       "<table border=\"1\" class=\"dataframe\">\n",
       "  <thead>\n",
       "    <tr style=\"text-align: right;\">\n",
       "      <th></th>\n",
       "      <th>차량등록번호</th>\n",
       "      <th>본거지법정동코드</th>\n",
       "      <th>소유자구분</th>\n",
       "      <th>차종_등록정보</th>\n",
       "      <th>용도</th>\n",
       "      <th>차대번호</th>\n",
       "      <th>최초등록일자</th>\n",
       "      <th>차량연식</th>\n",
       "      <th>차량제작일자</th>\n",
       "      <th>검사유효일</th>\n",
       "    </tr>\n",
       "    <tr>\n",
       "      <th>차량관리번호</th>\n",
       "      <th></th>\n",
       "      <th></th>\n",
       "      <th></th>\n",
       "      <th></th>\n",
       "      <th></th>\n",
       "      <th></th>\n",
       "      <th></th>\n",
       "      <th></th>\n",
       "      <th></th>\n",
       "      <th></th>\n",
       "    </tr>\n",
       "  </thead>\n",
       "  <tbody>\n",
       "    <tr>\n",
       "      <th>KMHE341DBHA277111-01</th>\n",
       "      <td>179어3939</td>\n",
       "      <td>3114010400</td>\n",
       "      <td>주민</td>\n",
       "      <td>승용</td>\n",
       "      <td>자가용</td>\n",
       "      <td>KMHE341DBHA277111</td>\n",
       "      <td>20160701</td>\n",
       "      <td>2017</td>\n",
       "      <td>20160616.0</td>\n",
       "      <td>20220630</td>\n",
       "    </tr>\n",
       "    <tr>\n",
       "      <th>KMHFG413BHA030981-01</th>\n",
       "      <td>31나8460</td>\n",
       "      <td>4117310300</td>\n",
       "      <td>주민</td>\n",
       "      <td>승용</td>\n",
       "      <td>자가용</td>\n",
       "      <td>KMHFG413BHA030981</td>\n",
       "      <td>20170111</td>\n",
       "      <td>2017</td>\n",
       "      <td>20160913.0</td>\n",
       "      <td>20230110</td>\n",
       "    </tr>\n",
       "    <tr>\n",
       "      <th>KMHFF41CBHA576552-01</th>\n",
       "      <td>08다0193</td>\n",
       "      <td>4817025027</td>\n",
       "      <td>주민</td>\n",
       "      <td>승용</td>\n",
       "      <td>자가용</td>\n",
       "      <td>KMHFF41CBHA576552</td>\n",
       "      <td>20160913</td>\n",
       "      <td>2017</td>\n",
       "      <td>20160707.0</td>\n",
       "      <td>20200912</td>\n",
       "    </tr>\n",
       "    <tr>\n",
       "      <th>KMHE341DBFA084105-01</th>\n",
       "      <td>209주6704</td>\n",
       "      <td>4617013400</td>\n",
       "      <td>주민</td>\n",
       "      <td>승용</td>\n",
       "      <td>자가용</td>\n",
       "      <td>KMHE341DBFA084105</td>\n",
       "      <td>20150119</td>\n",
       "      <td>2015</td>\n",
       "      <td>20141125.0</td>\n",
       "      <td>20231230</td>\n",
       "    </tr>\n",
       "    <tr>\n",
       "      <th>KNAGN41CBFA073853-01</th>\n",
       "      <td>58어2337</td>\n",
       "      <td>4117110100</td>\n",
       "      <td>주민</td>\n",
       "      <td>승용</td>\n",
       "      <td>자가용</td>\n",
       "      <td>KNAGN41CBFA073853</td>\n",
       "      <td>20140814</td>\n",
       "      <td>2015</td>\n",
       "      <td>20140529.0</td>\n",
       "      <td>20200813</td>\n",
       "    </tr>\n",
       "  </tbody>\n",
       "</table>\n",
       "</div>"
      ],
      "text/plain": [
       "                        차량등록번호    본거지법정동코드 소유자구분 차종_등록정보   용도  \\\n",
       "차량관리번호                                                          \n",
       "KMHE341DBHA277111-01  179어3939  3114010400    주민      승용  자가용   \n",
       "KMHFG413BHA030981-01   31나8460  4117310300    주민      승용  자가용   \n",
       "KMHFF41CBHA576552-01   08다0193  4817025027    주민      승용  자가용   \n",
       "KMHE341DBFA084105-01  209주6704  4617013400    주민      승용  자가용   \n",
       "KNAGN41CBFA073853-01   58어2337  4117110100    주민      승용  자가용   \n",
       "\n",
       "                                   차대번호    최초등록일자  차량연식      차량제작일자     검사유효일  \n",
       "차량관리번호                                                                         \n",
       "KMHE341DBHA277111-01  KMHE341DBHA277111  20160701  2017  20160616.0  20220630  \n",
       "KMHFG413BHA030981-01  KMHFG413BHA030981  20170111  2017  20160913.0  20230110  \n",
       "KMHFF41CBHA576552-01  KMHFF41CBHA576552  20160913  2017  20160707.0  20200912  \n",
       "KMHE341DBFA084105-01  KMHE341DBFA084105  20150119  2015  20141125.0  20231230  \n",
       "KNAGN41CBFA073853-01  KNAGN41CBFA073853  20140814  2015  20140529.0  20200813  "
      ]
     },
     "execution_count": 131,
     "metadata": {},
     "output_type": "execute_result"
    }
   ],
   "source": [
    "df.iloc[:5, :10]"
   ]
  },
  {
   "cell_type": "code",
   "execution_count": 132,
   "metadata": {},
   "outputs": [
    {
     "data": {
      "text/html": [
       "<div>\n",
       "<style scoped>\n",
       "    .dataframe tbody tr th:only-of-type {\n",
       "        vertical-align: middle;\n",
       "    }\n",
       "\n",
       "    .dataframe tbody tr th {\n",
       "        vertical-align: top;\n",
       "    }\n",
       "\n",
       "    .dataframe thead th {\n",
       "        text-align: right;\n",
       "    }\n",
       "</style>\n",
       "<table border=\"1\" class=\"dataframe\">\n",
       "  <thead>\n",
       "    <tr style=\"text-align: right;\">\n",
       "      <th></th>\n",
       "      <th>제원관리번호</th>\n",
       "      <th>배출가스인증번호</th>\n",
       "      <th>배출가스등급</th>\n",
       "      <th>저공해조치종류</th>\n",
       "      <th>저공해조치구조변경YN</th>\n",
       "      <th>차량말소YN</th>\n",
       "      <th>취득일자</th>\n",
       "      <th>취득금액</th>\n",
       "      <th>차명</th>\n",
       "      <th>차종_제원정보</th>\n",
       "    </tr>\n",
       "    <tr>\n",
       "      <th>차량관리번호</th>\n",
       "      <th></th>\n",
       "      <th></th>\n",
       "      <th></th>\n",
       "      <th></th>\n",
       "      <th></th>\n",
       "      <th></th>\n",
       "      <th></th>\n",
       "      <th></th>\n",
       "      <th></th>\n",
       "      <th></th>\n",
       "    </tr>\n",
       "  </thead>\n",
       "  <tbody>\n",
       "    <tr>\n",
       "      <th>KMHE341DBHA277111-01</th>\n",
       "      <td>A0810009800561216</td>\n",
       "      <td>EMY-HD-13-06</td>\n",
       "      <td>1</td>\n",
       "      <td>NaN</td>\n",
       "      <td>N</td>\n",
       "      <td>N</td>\n",
       "      <td>20220609.0</td>\n",
       "      <td>2700000.0</td>\n",
       "      <td>쏘나타(SONATA)</td>\n",
       "      <td>승용</td>\n",
       "    </tr>\n",
       "    <tr>\n",
       "      <th>KMHFG413BHA030981-01</th>\n",
       "      <td>A0810008701091316</td>\n",
       "      <td>DMY-HD-12-28</td>\n",
       "      <td>1</td>\n",
       "      <td>NaN</td>\n",
       "      <td>N</td>\n",
       "      <td>N</td>\n",
       "      <td>20170109.0</td>\n",
       "      <td>26764643.0</td>\n",
       "      <td>그랜저 하이브리드 (GRANDEUR HYBRID)</td>\n",
       "      <td>승용</td>\n",
       "    </tr>\n",
       "    <tr>\n",
       "      <th>KMHFF41CBHA576552-01</th>\n",
       "      <td>A0810008700981316</td>\n",
       "      <td>EMY-HD-13-14</td>\n",
       "      <td>1</td>\n",
       "      <td>NaN</td>\n",
       "      <td>N</td>\n",
       "      <td>N</td>\n",
       "      <td>20160912.0</td>\n",
       "      <td>27800000.0</td>\n",
       "      <td>그랜저(GRANDEUR)</td>\n",
       "      <td>승용</td>\n",
       "    </tr>\n",
       "    <tr>\n",
       "      <th>KMHE341DBFA084105-01</th>\n",
       "      <td>A0810009800011214</td>\n",
       "      <td>EMY-HD-13-06</td>\n",
       "      <td>1</td>\n",
       "      <td>NaN</td>\n",
       "      <td>N</td>\n",
       "      <td>N</td>\n",
       "      <td>20211210.0</td>\n",
       "      <td>1100000.0</td>\n",
       "      <td>쏘나타(SONATA)</td>\n",
       "      <td>승용</td>\n",
       "    </tr>\n",
       "    <tr>\n",
       "      <th>KNAGN41CBFA073853-01</th>\n",
       "      <td>A0110004701301214</td>\n",
       "      <td>BMY-KM-12-25</td>\n",
       "      <td>1</td>\n",
       "      <td>NaN</td>\n",
       "      <td>N</td>\n",
       "      <td>N</td>\n",
       "      <td>20140812.0</td>\n",
       "      <td>24168363.0</td>\n",
       "      <td>K5 하이브리드</td>\n",
       "      <td>승용</td>\n",
       "    </tr>\n",
       "  </tbody>\n",
       "</table>\n",
       "</div>"
      ],
      "text/plain": [
       "                                 제원관리번호      배출가스인증번호  배출가스등급  저공해조치종류  \\\n",
       "차량관리번호                                                                   \n",
       "KMHE341DBHA277111-01  A0810009800561216  EMY-HD-13-06       1      NaN   \n",
       "KMHFG413BHA030981-01  A0810008701091316  DMY-HD-12-28       1      NaN   \n",
       "KMHFF41CBHA576552-01  A0810008700981316  EMY-HD-13-14       1      NaN   \n",
       "KMHE341DBFA084105-01  A0810009800011214  EMY-HD-13-06       1      NaN   \n",
       "KNAGN41CBFA073853-01  A0110004701301214  BMY-KM-12-25       1      NaN   \n",
       "\n",
       "                     저공해조치구조변경YN 차량말소YN        취득일자        취득금액  \\\n",
       "차량관리번호                                                            \n",
       "KMHE341DBHA277111-01           N      N  20220609.0   2700000.0   \n",
       "KMHFG413BHA030981-01           N      N  20170109.0  26764643.0   \n",
       "KMHFF41CBHA576552-01           N      N  20160912.0  27800000.0   \n",
       "KMHE341DBFA084105-01           N      N  20211210.0   1100000.0   \n",
       "KNAGN41CBFA073853-01           N      N  20140812.0  24168363.0   \n",
       "\n",
       "                                               차명 차종_제원정보  \n",
       "차량관리번호                                                     \n",
       "KMHE341DBHA277111-01                  쏘나타(SONATA)      승용  \n",
       "KMHFG413BHA030981-01  그랜저 하이브리드 (GRANDEUR HYBRID)      승용  \n",
       "KMHFF41CBHA576552-01                그랜저(GRANDEUR)      승용  \n",
       "KMHE341DBFA084105-01                  쏘나타(SONATA)      승용  \n",
       "KNAGN41CBFA073853-01                     K5 하이브리드      승용  "
      ]
     },
     "execution_count": 132,
     "metadata": {},
     "output_type": "execute_result"
    }
   ],
   "source": [
    "df.iloc[:5, 10:20]"
   ]
  },
  {
   "cell_type": "code",
   "execution_count": 133,
   "metadata": {},
   "outputs": [
    {
     "data": {
      "text/html": [
       "<div>\n",
       "<style scoped>\n",
       "    .dataframe tbody tr th:only-of-type {\n",
       "        vertical-align: middle;\n",
       "    }\n",
       "\n",
       "    .dataframe tbody tr th {\n",
       "        vertical-align: top;\n",
       "    }\n",
       "\n",
       "    .dataframe thead th {\n",
       "        text-align: right;\n",
       "    }\n",
       "</style>\n",
       "<table border=\"1\" class=\"dataframe\">\n",
       "  <thead>\n",
       "    <tr style=\"text-align: right;\">\n",
       "      <th></th>\n",
       "      <th>차종분류</th>\n",
       "      <th>차종유형</th>\n",
       "      <th>자동차형식</th>\n",
       "      <th>제작사명</th>\n",
       "      <th>연료</th>\n",
       "      <th>엔진형식</th>\n",
       "      <th>총중량</th>\n",
       "      <th>적재중량</th>\n",
       "      <th>엔진출력</th>\n",
       "      <th>배기량</th>\n",
       "    </tr>\n",
       "    <tr>\n",
       "      <th>차량관리번호</th>\n",
       "      <th></th>\n",
       "      <th></th>\n",
       "      <th></th>\n",
       "      <th></th>\n",
       "      <th></th>\n",
       "      <th></th>\n",
       "      <th></th>\n",
       "      <th></th>\n",
       "      <th></th>\n",
       "      <th></th>\n",
       "    </tr>\n",
       "  </thead>\n",
       "  <tbody>\n",
       "    <tr>\n",
       "      <th>KMHE341DBHA277111-01</th>\n",
       "      <td>일반</td>\n",
       "      <td>중형</td>\n",
       "      <td>LF4DBD-T</td>\n",
       "      <td>현대자동차(주)</td>\n",
       "      <td>LPG(액화석유가스)</td>\n",
       "      <td>L4NA</td>\n",
       "      <td>1790.0</td>\n",
       "      <td>NaN</td>\n",
       "      <td>151.0</td>\n",
       "      <td>1999.0</td>\n",
       "    </tr>\n",
       "    <tr>\n",
       "      <th>KMHFG413BHA030981-01</th>\n",
       "      <td>일반</td>\n",
       "      <td>대형</td>\n",
       "      <td>HGE43BK-G</td>\n",
       "      <td>현대자동차(주)</td>\n",
       "      <td>휘발유 하이브리드</td>\n",
       "      <td>G4KK</td>\n",
       "      <td>2005.0</td>\n",
       "      <td>NaN</td>\n",
       "      <td>159.0</td>\n",
       "      <td>2359.0</td>\n",
       "    </tr>\n",
       "    <tr>\n",
       "      <th>KMHFF41CBHA576552-01</th>\n",
       "      <td>일반</td>\n",
       "      <td>대형</td>\n",
       "      <td>HG4CBK-L8</td>\n",
       "      <td>현대자동차(주)</td>\n",
       "      <td>휘발유</td>\n",
       "      <td>G4KJ</td>\n",
       "      <td>1910.0</td>\n",
       "      <td>NaN</td>\n",
       "      <td>190.0</td>\n",
       "      <td>2359.0</td>\n",
       "    </tr>\n",
       "    <tr>\n",
       "      <th>KMHE341DBFA084105-01</th>\n",
       "      <td>일반</td>\n",
       "      <td>중형</td>\n",
       "      <td>LF4DBA-R</td>\n",
       "      <td>현대자동차(주)</td>\n",
       "      <td>LPG(액화석유가스)</td>\n",
       "      <td>L4NA</td>\n",
       "      <td>1790.0</td>\n",
       "      <td>NaN</td>\n",
       "      <td>151.0</td>\n",
       "      <td>1999.0</td>\n",
       "    </tr>\n",
       "    <tr>\n",
       "      <th>KNAGN41CBFA073853-01</th>\n",
       "      <td>일반</td>\n",
       "      <td>중형</td>\n",
       "      <td>TFE4CBF-S</td>\n",
       "      <td>기아자동차(주)</td>\n",
       "      <td>휘발유 하이브리드</td>\n",
       "      <td>G4NE</td>\n",
       "      <td>1895.0</td>\n",
       "      <td>NaN</td>\n",
       "      <td>150.0</td>\n",
       "      <td>1999.0</td>\n",
       "    </tr>\n",
       "  </tbody>\n",
       "</table>\n",
       "</div>"
      ],
      "text/plain": [
       "                     차종분류 차종유형      자동차형식      제작사명           연료  엔진형식  \\\n",
       "차량관리번호                                                                   \n",
       "KMHE341DBHA277111-01   일반   중형   LF4DBD-T  현대자동차(주)  LPG(액화석유가스)  L4NA   \n",
       "KMHFG413BHA030981-01   일반   대형  HGE43BK-G  현대자동차(주)    휘발유 하이브리드  G4KK   \n",
       "KMHFF41CBHA576552-01   일반   대형  HG4CBK-L8  현대자동차(주)          휘발유  G4KJ   \n",
       "KMHE341DBFA084105-01   일반   중형   LF4DBA-R  현대자동차(주)  LPG(액화석유가스)  L4NA   \n",
       "KNAGN41CBFA073853-01   일반   중형  TFE4CBF-S  기아자동차(주)    휘발유 하이브리드  G4NE   \n",
       "\n",
       "                         총중량  적재중량   엔진출력     배기량  \n",
       "차량관리번호                                             \n",
       "KMHE341DBHA277111-01  1790.0   NaN  151.0  1999.0  \n",
       "KMHFG413BHA030981-01  2005.0   NaN  159.0  2359.0  \n",
       "KMHFF41CBHA576552-01  1910.0   NaN  190.0  2359.0  \n",
       "KMHE341DBFA084105-01  1790.0   NaN  151.0  1999.0  \n",
       "KNAGN41CBFA073853-01  1895.0   NaN  150.0  1999.0  "
      ]
     },
     "execution_count": 133,
     "metadata": {},
     "output_type": "execute_result"
    }
   ],
   "source": [
    "df.iloc[:5, 20:30]"
   ]
  },
  {
   "cell_type": "code",
   "execution_count": 134,
   "metadata": {},
   "outputs": [
    {
     "data": {
      "text/html": [
       "<div>\n",
       "<style scoped>\n",
       "    .dataframe tbody tr th:only-of-type {\n",
       "        vertical-align: middle;\n",
       "    }\n",
       "\n",
       "    .dataframe tbody tr th {\n",
       "        vertical-align: top;\n",
       "    }\n",
       "\n",
       "    .dataframe thead th {\n",
       "        text-align: right;\n",
       "    }\n",
       "</style>\n",
       "<table border=\"1\" class=\"dataframe\">\n",
       "  <thead>\n",
       "    <tr style=\"text-align: right;\">\n",
       "      <th></th>\n",
       "      <th>승차인원</th>\n",
       "      <th>차량길이</th>\n",
       "      <th>차량너비</th>\n",
       "      <th>차량높이</th>\n",
       "      <th>원산지명</th>\n",
       "      <th>삭제YN</th>\n",
       "      <th>제원승인일자</th>\n",
       "      <th>구동형식</th>\n",
       "      <th>변속기종류</th>\n",
       "    </tr>\n",
       "    <tr>\n",
       "      <th>차량관리번호</th>\n",
       "      <th></th>\n",
       "      <th></th>\n",
       "      <th></th>\n",
       "      <th></th>\n",
       "      <th></th>\n",
       "      <th></th>\n",
       "      <th></th>\n",
       "      <th></th>\n",
       "      <th></th>\n",
       "    </tr>\n",
       "  </thead>\n",
       "  <tbody>\n",
       "    <tr>\n",
       "      <th>KMHE341DBHA277111-01</th>\n",
       "      <td>5</td>\n",
       "      <td>4855</td>\n",
       "      <td>1865</td>\n",
       "      <td>1485</td>\n",
       "      <td>대한민국</td>\n",
       "      <td>N</td>\n",
       "      <td>20160405</td>\n",
       "      <td>NaN</td>\n",
       "      <td>자동</td>\n",
       "    </tr>\n",
       "    <tr>\n",
       "      <th>KMHFG413BHA030981-01</th>\n",
       "      <td>5</td>\n",
       "      <td>4920</td>\n",
       "      <td>1860</td>\n",
       "      <td>1470</td>\n",
       "      <td>대한민국</td>\n",
       "      <td>N</td>\n",
       "      <td>20160405</td>\n",
       "      <td>NaN</td>\n",
       "      <td>자동</td>\n",
       "    </tr>\n",
       "    <tr>\n",
       "      <th>KMHFF41CBHA576552-01</th>\n",
       "      <td>5</td>\n",
       "      <td>4920</td>\n",
       "      <td>1860</td>\n",
       "      <td>1470</td>\n",
       "      <td>대한민국</td>\n",
       "      <td>N</td>\n",
       "      <td>20160322</td>\n",
       "      <td>NaN</td>\n",
       "      <td>자동</td>\n",
       "    </tr>\n",
       "    <tr>\n",
       "      <th>KMHE341DBFA084105-01</th>\n",
       "      <td>5</td>\n",
       "      <td>4855</td>\n",
       "      <td>1865</td>\n",
       "      <td>1475</td>\n",
       "      <td>대한민국</td>\n",
       "      <td>N</td>\n",
       "      <td>20140318</td>\n",
       "      <td>NaN</td>\n",
       "      <td>자동</td>\n",
       "    </tr>\n",
       "    <tr>\n",
       "      <th>KNAGN41CBFA073853-01</th>\n",
       "      <td>5</td>\n",
       "      <td>4845</td>\n",
       "      <td>1835</td>\n",
       "      <td>1455</td>\n",
       "      <td>대한민국</td>\n",
       "      <td>N</td>\n",
       "      <td>20140502</td>\n",
       "      <td>NaN</td>\n",
       "      <td>자동</td>\n",
       "    </tr>\n",
       "  </tbody>\n",
       "</table>\n",
       "</div>"
      ],
      "text/plain": [
       "                      승차인원  차량길이  차량너비  차량높이  원산지명 삭제YN    제원승인일자 구동형식 변속기종류\n",
       "차량관리번호                                                                      \n",
       "KMHE341DBHA277111-01     5  4855  1865  1485  대한민국    N  20160405  NaN    자동\n",
       "KMHFG413BHA030981-01     5  4920  1860  1470  대한민국    N  20160405  NaN    자동\n",
       "KMHFF41CBHA576552-01     5  4920  1860  1470  대한민국    N  20160322  NaN    자동\n",
       "KMHE341DBFA084105-01     5  4855  1865  1475  대한민국    N  20140318  NaN    자동\n",
       "KNAGN41CBFA073853-01     5  4845  1835  1455  대한민국    N  20140502  NaN    자동"
      ]
     },
     "execution_count": 134,
     "metadata": {},
     "output_type": "execute_result"
    }
   ],
   "source": [
    "df.iloc[:5, 30:]"
   ]
  },
  {
   "cell_type": "code",
   "execution_count": 135,
   "metadata": {},
   "outputs": [
    {
     "data": {
      "text/plain": [
       "(2550090, 39)"
      ]
     },
     "execution_count": 135,
     "metadata": {},
     "output_type": "execute_result"
    }
   ],
   "source": [
    "df.shape"
   ]
  },
  {
   "cell_type": "code",
   "execution_count": 136,
   "metadata": {},
   "outputs": [
    {
     "name": "stdout",
     "output_type": "stream",
     "text": [
      "<class 'pandas.core.frame.DataFrame'>\n",
      "RangeIndex: 2550090 entries, 0 to 2550089\n",
      "Data columns (total 40 columns):\n",
      " #   Column       Dtype  \n",
      "---  ------       -----  \n",
      " 0   차량관리번호       object \n",
      " 1   차량등록번호       object \n",
      " 2   본거지법정동코드     int64  \n",
      " 3   소유자구분        object \n",
      " 4   차종_등록정보      object \n",
      " 5   용도           object \n",
      " 6   차대번호         object \n",
      " 7   최초등록일자       int64  \n",
      " 8   차량연식         int64  \n",
      " 9   차량제작일자       float64\n",
      " 10  검사유효일        int64  \n",
      " 11  제원관리번호       object \n",
      " 12  배출가스인증번호     object \n",
      " 13  배출가스등급       int64  \n",
      " 14  저공해조치종류      float64\n",
      " 15  저공해조치구조변경YN  object \n",
      " 16  차량말소YN       object \n",
      " 17  취득일자         float64\n",
      " 18  취득금액         float64\n",
      " 19  차명           object \n",
      " 20  차종_제원정보      object \n",
      " 21  차종분류         object \n",
      " 22  차종유형         object \n",
      " 23  자동차형식        object \n",
      " 24  제작사명         object \n",
      " 25  연료           object \n",
      " 26  엔진형식         object \n",
      " 27  총중량          float64\n",
      " 28  적재중량         float64\n",
      " 29  엔진출력         float64\n",
      " 30  배기량          float64\n",
      " 31  승차인원         int64  \n",
      " 32  차량길이         int64  \n",
      " 33  차량너비         int64  \n",
      " 34  차량높이         int64  \n",
      " 35  원산지명         object \n",
      " 36  삭제YN         object \n",
      " 37  제원승인일자       int64  \n",
      " 38  구동형식         object \n",
      " 39  변속기종류        object \n",
      "dtypes: float64(8), int64(10), object(22)\n",
      "memory usage: 778.2+ MB\n"
     ]
    }
   ],
   "source": [
    "df = df.reset_index()\n",
    "df.info()"
   ]
  },
  {
   "cell_type": "markdown",
   "metadata": {},
   "source": [
    "## 순수 전기차 데이터 추출"
   ]
  },
  {
   "cell_type": "markdown",
   "metadata": {},
   "source": [
    "### 필요한 컬럼\n",
    "- 차량등록번호, 차명, 연료"
   ]
  },
  {
   "cell_type": "code",
   "execution_count": 137,
   "metadata": {},
   "outputs": [
    {
     "data": {
      "text/html": [
       "<div>\n",
       "<style scoped>\n",
       "    .dataframe tbody tr th:only-of-type {\n",
       "        vertical-align: middle;\n",
       "    }\n",
       "\n",
       "    .dataframe tbody tr th {\n",
       "        vertical-align: top;\n",
       "    }\n",
       "\n",
       "    .dataframe thead th {\n",
       "        text-align: right;\n",
       "    }\n",
       "</style>\n",
       "<table border=\"1\" class=\"dataframe\">\n",
       "  <thead>\n",
       "    <tr style=\"text-align: right;\">\n",
       "      <th></th>\n",
       "      <th>차량등록번호</th>\n",
       "      <th>차명</th>\n",
       "      <th>연료</th>\n",
       "    </tr>\n",
       "  </thead>\n",
       "  <tbody>\n",
       "    <tr>\n",
       "      <th>2550085</th>\n",
       "      <td>115호4984</td>\n",
       "      <td>쏘나타(SONATA)</td>\n",
       "      <td>LPG(액화석유가스)</td>\n",
       "    </tr>\n",
       "    <tr>\n",
       "      <th>2550086</th>\n",
       "      <td>197호2274</td>\n",
       "      <td>쏘나타(SONATA)</td>\n",
       "      <td>LPG(액화석유가스)</td>\n",
       "    </tr>\n",
       "    <tr>\n",
       "      <th>2550087</th>\n",
       "      <td>258가7237</td>\n",
       "      <td>쏘나타(SONATA)</td>\n",
       "      <td>LPG(액화석유가스)</td>\n",
       "    </tr>\n",
       "    <tr>\n",
       "      <th>2550088</th>\n",
       "      <td>121하2545</td>\n",
       "      <td>쏘나타(SONATA)</td>\n",
       "      <td>LPG(액화석유가스)</td>\n",
       "    </tr>\n",
       "    <tr>\n",
       "      <th>2550089</th>\n",
       "      <td>225고3043</td>\n",
       "      <td>티볼리</td>\n",
       "      <td>휘발유</td>\n",
       "    </tr>\n",
       "  </tbody>\n",
       "</table>\n",
       "</div>"
      ],
      "text/plain": [
       "           차량등록번호           차명           연료\n",
       "2550085  115호4984  쏘나타(SONATA)  LPG(액화석유가스)\n",
       "2550086  197호2274  쏘나타(SONATA)  LPG(액화석유가스)\n",
       "2550087  258가7237  쏘나타(SONATA)  LPG(액화석유가스)\n",
       "2550088  121하2545  쏘나타(SONATA)  LPG(액화석유가스)\n",
       "2550089  225고3043          티볼리          휘발유"
      ]
     },
     "execution_count": 137,
     "metadata": {},
     "output_type": "execute_result"
    }
   ],
   "source": [
    "cols= ['차량등록번호', '차명', '연료']\n",
    "df[cols].tail()"
   ]
  },
  {
   "cell_type": "code",
   "execution_count": 138,
   "metadata": {},
   "outputs": [
    {
     "name": "stdout",
     "output_type": "stream",
     "text": [
      "<class 'pandas.core.frame.DataFrame'>\n",
      "RangeIndex: 2550090 entries, 0 to 2550089\n",
      "Data columns (total 3 columns):\n",
      " #   Column  Dtype \n",
      "---  ------  ----- \n",
      " 0   차량등록번호  object\n",
      " 1   차명      object\n",
      " 2   연료      object\n",
      "dtypes: object(3)\n",
      "memory usage: 58.4+ MB\n"
     ]
    }
   ],
   "source": [
    "df[cols].info()"
   ]
  },
  {
   "cell_type": "markdown",
   "metadata": {},
   "source": [
    "### 차명으로 정리\n",
    "- 제외 값 : 하이브리드, HYBRID, Hybrid, 수소(수소연료전지, 수소전기)\n",
    "- 원본 샘플 수 : 2,550,090 개\n",
    "    - 제외 샘플 수 : 765,735 개\n",
    "- 남은 샘플 수 : 1,784,355 개"
   ]
  },
  {
   "cell_type": "code",
   "execution_count": 139,
   "metadata": {},
   "outputs": [
    {
     "data": {
      "text/plain": [
       "array(['쏘나타(SONATA)', '그랜저 하이브리드 (GRANDEUR HYBRID)', '그랜저(GRANDEUR)',\n",
       "       'K5 하이브리드', '렉서스 CT200h', 'K7', '코나 일렉트릭 (KONA ELECTRIC)',\n",
       "       '쏘나타(SONATA) 하이브리드', '그랜저 하이브리드', 'K7 하이브리드', 'ACCORD 1.5T', 'K5',\n",
       "       '니로 하이브리드', '토요타 Camry Hybrid LE', '알페온2.4DOHC', 'TWIZY',\n",
       "       'ACCORD 2.4', '렉서스 NX300h', '쏘나타 하이브리드(SONATA HYBRID)', 'BMW i3',\n",
       "       '아이오닉 일렉트릭(IONIQ ELECTRIC)', 'MINI Cooper Countryman', 'BMW 530i',\n",
       "       'SM6', '말리부 1.35 TURBO', '카렌스', '아반떼 하이브리드(AVANTE HYBRID)',\n",
       "       '렉서스 ES300h', '말리부 1.5 TURBO', '포르테하이브리드', '크루즈 1.8 DOHC',\n",
       "       'CHEVROLET IMPALA 3.6', '토요타 Camry Hybrid', '쏘울 EV',\n",
       "       'BMW 530i xDrive', '아이오닉 하이브리드(IONIQ HYBRID)', '알페온 2.4 하이브리드',\n",
       "       'Passat 1.8 TSI', '포르테 하이브리드', '쏘나타 (SONATA) 하이브리드', '렉서스 LS600hL',\n",
       "       'CHEVROLET BOLT EV', 'CC 2.0 TSI', 'BMW 330i', '말리부 1.8 HYBRID',\n",
       "       'SM3 Z.E.', 'BMW 520i', 'GLC350 e 4Matic', 'Passat 2.0 TSI',\n",
       "       '그랜저(GRANDEUR) 하이브리드', '토요타 PRIUS', '렉서스 RX450h', '아반떼(AVANTE)',\n",
       "       'MINI Cooper S Convertible', 'BMW 428i Coupe', 'E300',\n",
       "       'K5 플러그인 하이브리드', '니로 EV', '토요타 Prius', 'E350', 'ACCORD 3.5',\n",
       "       'Model S 100D', 'E300 4Matic', '볼보 XC90T8 AWD',\n",
       "       'BMW 530i xDrive M Sport Package Plus', '알페온 2.4 DOHC',\n",
       "       'BMW 530i M Sport Package Plus', 'Golf GTI', '토요타 CAMRY Hybrid',\n",
       "       '렉서스 LS500h 2WD', 'CHEVROLET VOLT', 'ACCORD HYBRID',\n",
       "       'MINI Cooper Clubman', 'MINI Cooper S Clubman', 'MINI Cooper S',\n",
       "       'A3 2.0 TFSI', '재규어 XJ 3.0SC', '재규어 XF 25t',\n",
       "       'MINI Cooper five-door', '엔비온', 'C350 e', '토요타 RAV4 Hybrid',\n",
       "       'Passat 2.5', 'INFINITI Q50S Hybrid', 'MINI Cooper',\n",
       "       'Lincoln MKZ Hybrid', 'LEAF', '레인지로버 벨라 P380', 'E350 Coupe',\n",
       "       '토요타 Prius C', 'D2', '렉서스 GS450h', '렉서스 UX250h 2WD', '렉서스RX400h',\n",
       "       'BMW 428i Convertible', 'INSIGHT', '토요타 Prius V', '쏘울 전기차',\n",
       "       '베르나 하이브리드(VERNA)', 'BMW 328i', 'Model S 75D', '토요타 Avalon Hybrid',\n",
       "       'TT Roadster 45 TFSI quattro', '넥쏘 (NEXO) 수소전기차',\n",
       "       'Lexus RX400h HYBRID', 'BMW 430i Convertible', 'Model S 90D',\n",
       "       'BMW 520i Luxury', 'CR-Z', '렉서스 LS500h AWD',\n",
       "       'TT Coupe 45 TFSI quattro', 'MURANO', '아폴로(Apollo)1100전기버스',\n",
       "       'X-Trail 4WD', '아이오닉 플러그인(IONIQ PLUG-IN)', 'SONATA HYBRID',\n",
       "       '재규어 E-PACE P250', 'Model X 100D', 'SONATA Hybrid', 'Honda Accord',\n",
       "       'Danigo', '쏘나타 플러그인 하이브리드(SONATA PLUG-IN HYBRID)', 'BMW i8',\n",
       "       '재규어 XF 25t AWD', 'MINI Cooper Convertible', '카이엔 S 하이브리드',\n",
       "       'ACCORD 2.0T', '프라이드 하이브리드', 'MINI Cooper S five-door',\n",
       "       'MINI Cooper S Countryman ALL4', 'Fusion Hybrid',\n",
       "       '렉서스 GS450h F SPORT', '레이 전기차', '일렉시티(ELEC CITY)', '퓨전',\n",
       "       '도요타 프리우스(PRIUS) PHV', '스즈키이그니스(IGNIS)', '니로 PHEV',\n",
       "       '재규어 F-PACE 35t', '블루시티 초저상 하이브리드', '토요타 RAV4 Hybrid 2WD',\n",
       "       'BMW i3 94Ah', '재규어 I-PACE EV400', 'KIA OPTIMA', '토요타 Prius 2WD',\n",
       "       'BMW 328i Convertible', '아데오나(ADEONA)', '도요타 프리우스(PRIUS) V',\n",
       "       '폭스바겐파사트(PASSAT)', 'BMW ActiveHybrid 7', 'TOYOTA PRIUS HYBRID',\n",
       "       '그린어스', 'LEXUS RX400h', '체인지(CHANGE)', 'PRIUS', '파나메라 4 E-하이브리드',\n",
       "       'BMW 530i Luxury', '토요타 RAV4 Hybrid AWD', '토요타 Prius Prime',\n",
       "       'X-Trail 2WD', '혼다 어코드(ACCORD)2.4', '도요타 캠리 하이브리드', '블루시티 하이브리드',\n",
       "       '이-화이버드(eFIBIRD)', '재규어 XE 20t', '리프', '재규어 XF 35t',\n",
       "       'CIVIC HYBRID', 'BMW 430i Coupe', '스파크 EV', 'HONDA ACCORD',\n",
       "       '넥쏘(NEXO) 수소전기차', 'MURANO Hybrid', 'S400 하이브리드 L',\n",
       "       'BMW 530i xDrive Luxury', 'ACCORD', 'HYUNDAI SONATA HYBRID',\n",
       "       '렉서스 UX250h AWD', 'Outback', '카이엔 S E-하이브리드', '블루온 (BLUEON)',\n",
       "       'BMW 430i Convertible M Sport Package', '볼보 XC60T8 AWD',\n",
       "       'BMW 430i Coupe M sport Package', '스마트(SMART)ED',\n",
       "       '투싼(TUCSON) 수소연료전지', 'BMWActiveHybridX6', '도요타 프리우스(하이브리드)',\n",
       "       'Toyota Prius', '마스타(MASTA)VAN', 'TOYOTA CAMRY HYBRID',\n",
       "       '렉서스RX400h(하이브리드)', 'passat', 'VOLKSWAGEN CC', 'HYPERS',\n",
       "       'BMW i3 120Ah SOL plus', '파워프라자라보ev PEACE', 'PASSAT',\n",
       "       '렉서스 LS600HL 하이브리드', '혼다 인사이트(INSIGHT)', 'BMW 740e iPerformance',\n",
       "       '재규어 XE 3.0SC S', 'Camry Hybrid', '도요타 프리우스(TOYOTA PRIUS)',\n",
       "       '쏘나타(SONATA)하이브리드', 'SONATA hybrid', '테슬라(TESLA)모델S P85D',\n",
       "       '렉서스 LC500h', '쎄라토', 'SONATA', 'SONATA HYBRID(쏘나타 하이브리드)',\n",
       "       '토요타캠리(하이브리드)', '토요타 PRIUS HYBRID', 'TOYOTA PRIUS',\n",
       "       '도요타 하이랜더 하이브리드', '테슬라(TESLA)모델X100D', '어코드 쿠페 EX-L',\n",
       "       '포드씨맥스(C-MAX)', '쏘나타 하이브리드', '벤츠S400하이브리드', '기아 옵티마(하이브리드)',\n",
       "       'Model S P100D', 'BYD eBus-7', '페라리 La Ferrari', '벤츠 S500 하이브리드',\n",
       "       '프리우스(하이브리드)', '도요타캠리하이브리드', 'TOYOTA AQUA', 'HONDA ACCORD LX',\n",
       "       'TOYOTA PRIUS S HYBRID', '벤츠S500L하이브리드', '시보레K1500타호 하이브리드',\n",
       "       '이텍진공식소형전기노면청소차', 'SONATA  Hybrid 2.4', '토요타 Camry',\n",
       "       'INFINITI QX60 Hybrid', 'Lexus RX450h Hybrid', '혼다 어코드(ACCORD)',\n",
       "       'Model X 75D', '토요타C-HR', '매그넘(MAGNUM)', '혼다 어코드', 'RAV4 Hybrid',\n",
       "       'A3 Sportback e-tron', '캠리 하이브리드', '혼다어코드', 'HONDA ACCORD 3.5',\n",
       "       '포커스', 'BMW 430i Convertible Luxury', '도요타 프리우스 하이브리드',\n",
       "       '테슬라(TESLA)모델S P85', 'BMW ActiveHybrid 5', 'Model X P100D',\n",
       "       'PRIUS(하이브리드)', 'BMW X2 xDrive25i M Sport Package',\n",
       "       '제인모터스칼마토EV1톤내장탑차', 'BMWActiveHybrid7', '포드 퓨전 하이브리도',\n",
       "       '혼다어코드(ACCORD)', 'BMW X5 xDrive40e iPerformance',\n",
       "       'BMW i3 120Ah LUX', '렉서스 RX400H',\n",
       "       'BMW X1 xDrive25i M Sport Package', 'LEXUS LS600H',\n",
       "       '프리우스(PRIUS)하이브리드', 'Sonata Hybird', 'SERENA', 'RVR',\n",
       "       '벤츠S500하이브리드', 'TOYOTA RAV4 Hybrid', '쏘나타 HYBRID', 'OPTIMA HYBRID',\n",
       "       'TOYOTA CAMRY하이브리드', 'BMW ActiveHybrid 3', '혼다accord',\n",
       "       'HYUNDAI IONIQ HYBRID', '렉서스 LS600H 하이브리드', '캠리', '어코드(ACCORD)',\n",
       "       '소나타 하이브리드(SONATA HYBRID)', '시보레 타호(TAHOE) 하이브리드', 'LEXUS RX400H',\n",
       "       '쏘나타  하이브리드', '배터리교환식전기버스', '프리우스 하이브리드', 'HONDA CR-Z',\n",
       "       'HONDA ACCORD COUPE3.5', '시보레 타호이', 'TOYOTA HIGHLANDER',\n",
       "       '렉서스RX450h', '렉서스HS250H', '포르쉐파나메라S E-하이브리드', 'ACCORD3.5',\n",
       "       'HYUNDAI SONATA (하이브리드)', '혼다 어코드 LX', '렉서스 RX400H(하이브리드)',\n",
       "       'LEXUS ES 300h', '다니고3', 'TOYOTA AVALON', 'CHANGE',\n",
       "       '포르쉐파나메라(PANAMERA)터보하이브리드', '볼보 S90T8 AWD', 'BMW ActiveHybrid X6',\n",
       "       '기아옵티마', 'TOYOTA VOXY', '혼다아큐라(ACURA)NSX', '벤츠S400L하이브리드',\n",
       "       'HYUNDAI SONATA HYBRID 2.0', 'VOLKSWAGEN PASSAT',\n",
       "       '토요타프리우스(PRIUS)하이브리드', '렉서스CT200h', 'PORSCHE CAYENNE',\n",
       "       '씨티앤티 이존(e-ZONE)', '토요타 캠리(CAMRY) HYBRID', '렉서스LS600H', 'Fusion',\n",
       "       '도요타 캠리(하이브리드)', '쉐보레 타호(TAHOE) 하이브리드',\n",
       "       'TOYOTA PRIUS PRIME PLUG-IN', 'CAMRY HYBRID', 'Passat',\n",
       "       '도요타캠리(CAMRY)하이브리드', '폭스바겐 CC', 'PRIUS HYBRID', 'CAMRY',\n",
       "       'Volkswagen CC', '렉서스 RX400h', '씨티앤티이존(e-ZONE)',\n",
       "       'VOLKSWAGEN JETTA', '닛산 패스파인더 하이브리드', '렉서스 RX400H AWD', '폭스바겐CC',\n",
       "       'LEXUS CT200h', '포드 퓨전 하이브리드', 'GMC유콘 하이브리드',\n",
       "       'HYUNDAI SONATA Hybrid', 'IGNIS', 'TOYOTA 프리우스(PRIUS,하이브리드)',\n",
       "       '도요타 하이랜더(하이브리드)', 'BMW X5 XDRIVE 40E', '베르나하이브리드(VERNA)',\n",
       "       '현대 쏘나타(SONATA) 하이브리드', 'TOYOTA PRIUS V', 'LEXUS HS 250h',\n",
       "       '렉서스 CT200H', 'OPTIMA(하이브리드)', '도요타에스콰이어(ESQUIRE)', '프라이드하이브리드',\n",
       "       '도요타 프리우스 HYBRID', '현대 소나타 하이브리드', '닛산 SERENA S-하이브리드',\n",
       "       'LEXUS ES 300H', '혼다어코드LX', '혼다아코드 3.5', 'LEXUS CT200H HYBRID',\n",
       "       'E6', 'ACCORD CROSSTOUR', '아우디 TT QUATTRO', 'VOLKSWAGEN CC 2.0',\n",
       "       '도요타 프리우스', '스마트(SMART)ED카브리오', '도요타프리우스(PRIUS)C하이브리드',\n",
       "       '기아 옵티마(K5 하이브리드)', 'Lexus RX400h', 'SUZUKI HUSTLER',\n",
       "       '캐딜락에스컬레이드(ESCALADE)하이브리드', '파나메라 S 하이브리드',\n",
       "       '쏘나타  하이브리드(SONATA HYBRID)', '렉서스 LS600H', '도요타 캠리',\n",
       "       'Toyota Prius hybrid', '렉서스RX450H', 'FORD C-MAX',\n",
       "       'CAYENNE S E-Hybrid', 'CROWN HYVRID', 'PANAMERA S E-hybrid',\n",
       "       'TOYOTA ALPAHARD', 'HONDA VEZEL HYBRID', 'OPTIMA(K5)',\n",
       "       '파나메라 S E-하이브리드', '벤츠 S400 하이브리드', 'TOYOTA AQUA HYBRID', '폭스바겐 래빗',\n",
       "       '렉서스 LS600hL 하이브리드', 'AUDI TT COUPE', '렉서스 GS450H 하이브리드',\n",
       "       '도요타 AURIS', '폭스바겐 제타(JETTA)', '도요타프리우스(PRIUS)', 'ACCORD LX-P',\n",
       "       '도요다캠리(하이브리드)', '렉서스 HS250h(하이브리드)', 'SONATA HYBRID 2.0',\n",
       "       '페라리 LAFERRARI APERTA', '도요타하이랜더(HIGHLANDER)하이브리드',\n",
       "       'KIA OPTIMA(하이브리드)', '도요타 프리우스(PRIUS)하이브리드',\n",
       "       '일렉시티 FCEV(ELECCITY FCEV)', '렉서스 LS600 LH 하이브리드', 'ACCORD Hybrid',\n",
       "       '혼다 어코드 EX', '도요타 에스티마 하이브리드', 'OPTIMA Hybrid', 'LEXUS RX450h',\n",
       "       '어코드', 'hondaaccord', '도요다 프리우스', 'HONDA ACCORD2.4',\n",
       "       'Kia Optima(K5) Hybrid', '테슬라(TESLA)모델X 100D', 'HONDA ACCORD 2.4',\n",
       "       'TOYOTA SAI하이브리드', 'TESLA MODEL S', 'Accord',\n",
       "       '도요타 프리우스(PRIUS) 하이브리드', 'TOYOTA PRIUS 하이브리드', 'INSIGHT EX',\n",
       "       'HONDA  ACCORD', '벤츠ML350', 'Volkswagen Passat',\n",
       "       'HONDA ACCORD EX-L', 'CC 2.0', 'OPTIMA 하이브리드',\n",
       "       '도요타프리우스(PRIUS)하이브리드', '테슬라(TESLA)모델S Perfomance',\n",
       "       'TOYOTA CAMRY HYBRID LE', '크라운 하이브리드', 'TOYOTA CAMRY Hybrid',\n",
       "       '아폴로(Apollo)전기버스', 'LEXUS CT200H', '토요타야리스(YARIS)',\n",
       "       '도요타 프리우스(PRIUS 하이브리드)', '이-프리머스(e-PRIMUS)저상전기버스', 'D2C',\n",
       "       '도요타 캠리하이브리드', '닛산 알티마(ALTIMA 하이브리드)', '포르쉐 카이엔 S 하이브리드',\n",
       "       '혼다 CR-Z', '프리우스', 'OPTIMA hybrid', '혼다아코드', 'ACCORD LX',\n",
       "       '포르쉐파나메라S하이브리드(HYBRID)', '어코드SE', 'Toyota Camry Hybrid',\n",
       "       'LEXUS HYBRID RX450H', '렉서스 RX450h Hybrid', 'CIVIC Hybrid',\n",
       "       '벤츠S550하이브리드', '현대소나타하이브리드', '캠리하이브리드', 'TOYOTA PRIUS(하이브리드)',\n",
       "       '혼다오딧세이(ODYSSEY)하이브리드', 'HYUNDAI SONATA 2.4', 'HARRIER HYBRID',\n",
       "       '피아트500E', '폭스바겐골프(GOLF)GTI', 'HYUNDAI SONATA 하이브리드',\n",
       "       'Lexus CT200h', 'PRIUS V', 'HYUNDAI SONATA', '쏘나타 하이브리드(HYBRID)',\n",
       "       'Subaru Outback', 'TOYOTA CAMRY(하이브리드)', 'TOYOTA YARIS HYBRID',\n",
       "       'FORD FUSION TITANIUM', 'OPTIMA(K5 HYBRID)', 'NISSAN 350GT Hybrid',\n",
       "       '혼다 어코드LX', '테슬라(TESLA)모델S70D', 'BMW Active Hybrid 7', '혼다 인사이트',\n",
       "       '혼다어코드EX', 'PORSCHE CAYENNE S HYBRID', 'HANDA ACCORD',\n",
       "       'HYUNDAI SONATA(하이브리드)', 'LEXUS RX 400 HYBRID AWD',\n",
       "       'HONDA CR-Z HYBRID', 'GMC YUKON', 'LEXUS HS250h', '기아 옵티마(K5)',\n",
       "       '테슬라(TESLA)모델S PERFORMANCE', 'JETTA Hybrid', 'BMW  ACTIVEHYBRID 3',\n",
       "       'BMW750i하이브리드', '쉐보레볼트(VOLT)', '렉서스LS 600HL', '렉서스 LS600HL(하이브리드)',\n",
       "       'TOYOTA CROWN', '럭세스400', 'LEXUS LS600hl', '혼다 ACCORD LX',\n",
       "       'HYUNDAI SONATA HYBRID 2.4', 'ACCORD EX-L(어코드)', 'FX116',\n",
       "       '클릭하이브리드(CLICK)', 'HIGHLANDER HYBRID', '혼다시빅(하이브리드)',\n",
       "       '벤츠S450 4MATIC', '토요타 프리우스(Prius)', '포르쉐918스파이더(SPIDER)하이브리드',\n",
       "       'TOYOTA PRIUS PLUS', 'BMW750LI하이브리드', '2007 VOLKSWAGEN PASSAT',\n",
       "       '시보레 타호이(TAHOE) 하이브리드', 'HONDA FIT', '현대 쏘나타 (SONATA) 하이브리드',\n",
       "       'VOLKSWAGEN CC SPORT', 'HYUNDAI Sonata Hybrid 2.4',\n",
       "       'TOYOTA HARRIER HYBRID', '도요타 PRIUS 하이브리드', '토요타 프리우스',\n",
       "       'LEXUS ES300h', 'VOLKSWAGEN PASSAT 2.5', 'LEXUS RX 400h',\n",
       "       'Passat 1.8', 'TOYOTA PRIUS v', 'Volkswagen Jetta Hybrid',\n",
       "       '폭스바겐 RABBIT', '1991 HONDA ACCORD', '918 스파이더',\n",
       "       '도요타 캠리(CAMRY 하이브리드)', '폭스바겐 파사트(PASSAT)', '폭스바겐 제타',\n",
       "       'Accord EX-L(어코드)', '토요타RAV4 Hybrid', '인피니티 M35h', '혼다 시빅하이브리드',\n",
       "       '도요타 프리우스 (하이브리드)', 'CAMRY Hybrid', 'SONATA  Hybrid',\n",
       "       '혼다어코드(ACCORD)하이브리드', '도요타벨파이어(VELLFIRE)하이브리드',\n",
       "       'Porsche Cayenne S Hybrid', 'Honda Accord EX-L', '기아 옵티마(K5하이브리드)',\n",
       "       '골프 GTI', 'CAYENNE S Hybrid', '렉서스 RX450 HYBRID', 'HONDA  FIT',\n",
       "       'KIA OPTIMA HYBRID', 'TOYOTA 캠리 하이브리드', 'BS110CN',\n",
       "       '포르쉐카이엔(CAYENNE)', '브이버스', '코란도', '쏘나타 하이브리드 (SONATA HYBRID)',\n",
       "       'BMW X1 xDrive25i  Advantage', 'BMW X2 xDrive25i Advantage',\n",
       "       '재규어 F-TYPE P300 Coupe', 'VoltOn', '코나 하이브리드(KONA HYBRID)',\n",
       "       '하이퍼스에이치 (HYPERS H)', 'VOLKSWAGEN PASSAT SE', 'Model 3 Long Range',\n",
       "       'Model 3 Performance', 'Model S Long Range', 'Model S Performance',\n",
       "       'Model X Long Range', 'Model X Performance',\n",
       "       'Model X Standard Range', 'Model 3 Standard Range Plus RWD',\n",
       "       'Model S Standard Range', 'MINI Cooper(16 17 18)',\n",
       "       'MINI Cooper(15)', 'MINI Cooper Clubman(17 18 19)',\n",
       "       'MINI Cooper five-door(15)', 'MINI Cooper five-door(16 17 18)',\n",
       "       'TESLA MODEL 3', 'MINI Cooper S(16 17 18)',\n",
       "       'MINI Cooper S five-door(16 17 18)', 'A3 40 TFSI',\n",
       "       '벤츠 EQC 400 4MATIC', 'CEVO-C', 'BMW 530i M Sport Package',\n",
       "       '벤츠 E 300 e', '볼보 XC60T6 AWD', 'Mercedes-Benz E 250',\n",
       "       '볼보 XC90T6 AWD', 'BMW X2 xDrive20i Advantage',\n",
       "       'BMW X1 xDrive20i Advantage', '그랜저 하이브리드(GRANDEUR HYBRID)',\n",
       "       'BMW 530i xDrive M Sport Package', 'MINI Cooper S Clubman (18)',\n",
       "       'MINI Cooper S Countryman ALL4(18)',\n",
       "       'BMW X2 xDrive20i M Sport Package',\n",
       "       'BMW X1 xDrive20i M Sport Package', '바네스(VANESSE)',\n",
       "       '재규어 F-TYPE P300 Convertible', '레인지로버 이보크 P250',\n",
       "       'MINI Cooper Countryman(18)', 'MINI Cooper Countryman(17)',\n",
       "       'HU-SKY', '트레일블레이저 1.35 TURBO AWD', 'FX120',\n",
       "       '포터Ⅱ 일렉트릭 (PORTERⅡ ELECTRIC)', 'BMW 530e iPerformance Luxury',\n",
       "       '일렉시티 굴절버스', 'BMW Z4 sDrive20i M Sport Package',\n",
       "       'MINI John Cooper Works Convertible (17)',\n",
       "       'BMW Z4 sDrive20i Sport', '트레일블레이저 1.35 TURBO FWD',\n",
       "       'BMW 330i  M Sport Package', 'BMW 330i xDrive M Sport Package',\n",
       "       '일진무시동전기냉동탑차', 'BMW 330i Luxury', 'BMW 330i xDrive Luxury',\n",
       "       'MINI Cooper S Clubman (17 18 19)', 'HYPERS11L', '봉고Ⅲ 1톤 EV',\n",
       "       '트레일블레이저 1.2 TURBO FWD', 'MINI John Cooper Works (17 18)',\n",
       "       'Mercedes-Benz S560 e', 'BMW X1 xDrive25i Advantage',\n",
       "       'BMW X4 xDrive20i M Sport X', '토요타 Prius AWD',\n",
       "       'Mercedes-Benz E300 e 4MATIC', 'BMW X3 xDrive20i Luxury',\n",
       "       'BMW X1 xDrive25i M sport Package', 'BMW X4 xDrive20i xLine',\n",
       "       '렉서스 RX450hL', '쏘렌토 하이브리드',\n",
       "       'BMW 530e iPerformance M Sport Package', 'BMW 320i',\n",
       "       'MINI Cooper Countryman(16)', 'BMW 320i Luxury',\n",
       "       'BMW 320i M Sport Package', 'MINI Cooper Clubman (16)',\n",
       "       '디스커버리 스포츠 P250', '티볼리', 'BMW X3 xDrive30e xLine',\n",
       "       'BMW X3 xDrive30e M Sport Package', 'BMW 520i M Sport Package',\n",
       "       'MINI Cooper Clubman(18)', 'D2P', 'E-SKY',\n",
       "       'BMW 530e iPerformance M Sport Package(19)', '스마트(SMART)EQ',\n",
       "       '카운티일렉트릭', 'e-tron 55 quattro', '그린타운 850', 'TESLA X 90D',\n",
       "       '일레누스(ELENUUS)', '재규어 XE P250', 'TESLA MODEL3', '테슬라(TESLA)모델S',\n",
       "       'BMW 330e', 'BMW 320i Touring', '시티라이트', 'Peugeot e-208',\n",
       "       'DS3 CROSSBACK E-TENSE', 'Peugeot e-2008 SUV', 'ZOE',\n",
       "       '이-스마트(E-SMART)', 'MINI Cooper Countryman(19)',\n",
       "       '아반떼 Hybrid(AVANTE Hybrid)', '테슬라(TESLA)모델3', '레인지로버 스포츠 P360',\n",
       "       'NIO ES8', '마이브 M1', '티볼리 에어', 'Mercedes-Benz GLC300 e 4MATIC',\n",
       "       '테슬라(TESLA)모델X 75D', '투싼 하이브리드(TUCSON HYBRID)',\n",
       "       'Mercedes-Benz GLC300 e 4MATIC Coupe', 'BMW Z4 sDrive20i',\n",
       "       'BMW X4 xDrive20i', 'BMW X1 xDrive20i', 'Mercedes-Benz E250',\n",
       "       'SMART EV Z', '브이버스60', '파워프라자봉고3ev PEACE', 'BMW X3 xDrive20i',\n",
       "       '타이칸 4S (High)', '타이칸 4S (High. 5인승)', '포트로(POTRO)', 'E-SKY  II',\n",
       "       '타이칸 4S', 'BYD eBus-12', '브이버스60i', '재규어I-PACE EV400', 'SMART8.7',\n",
       "       '플러스(PLUS)', 'SMART9.3', 'IZM', '테슬라(TESLA)모델XPerformance',\n",
       "       '타이칸 4S (5인승)', '테슬라(TESLA)모델S 90D', '영일수소전기순찰차',\n",
       "       '포르쉐타이칸(TAYCAN)터보S', '포트로-픽업(POTRO-PICK UP)', 'CR-V HYBRID 4WD',\n",
       "       '테슬라(TESLA)모델S 75', 'Model Y Long Range', 'Model Y Performance',\n",
       "       '트랙스 1.4', 'BMW 420i Coupe', '코나(KONA)',\n",
       "       '포터Ⅱ 일렉트릭 내장탑차 (PORTERⅡ ELECTRIC)',\n",
       "       '포터Ⅱ 일렉트릭 윙바디 (PORTERⅡ ELECTRIC)', '포르쉐타이칸(TAYCAN)터보',\n",
       "       '포터Ⅱ 일렉트릭 파워게이트 (PORTERⅡ ELECTRIC)', '봉고Ⅲ EV 파워게이트',\n",
       "       '봉고Ⅲ EV 저상형내장차', '봉고Ⅲ EV 내장차', '봉고Ⅲ EV 윙바디', '포트로-탑(POTRO-TOP)',\n",
       "       '봉고Ⅲ EV 플러스내장차', '볼보 S90B6 AWD', '토요타 Sienna Hybrid 2WD', '다니고밴',\n",
       "       '포르쉐타이칸(TAYCAN)4S', 'LSEV', '토요타 Sienna Hybrid AWD',\n",
       "       '아이오닉5 (IONIQ5)', '일렉시티 이층버스', 'K8', 'K8 하이브리드',\n",
       "       'e-tron Sportback 50 quattro', 'BMW 420i Convertible',\n",
       "       '타이칸 터보 S (5인승)', '타이칸 터보 S', 'CEVO-C SE', 'BMW i3 120Ah',\n",
       "       '아이오닉5(IONIQ5)', 'e-tron 50 quattro', '플러스2.0(카고)', '타이칸 터보',\n",
       "       '타이칸 터보 (5인승)', 'GREENWAY1100', 'Model Y Standard Range',\n",
       "       '코란도 e-motion', 'TESLA MODEL S 75', 'SMART110',\n",
       "       '싼타페 하이브리드(SANTAFE HYBRID)', '아폴로(APOLLO)900전기버스',\n",
       "       'BMW X3 xDrive30e', 'G80', '크린텍전기노면청소및살수차', 'MG ZS EV',\n",
       "       'TESLA MODEL X', 'E-SKY  11', 'TESLA MODEL X 100D',\n",
       "       'Mercedes-Benz EQA250', 'MINI John Cooper Works',\n",
       "       '재규어 F-Type P300 Convertible', '재규어 F-Type P300 Coupe', '스파크 1.0',\n",
       "       'EV6', 'CHEVROLET BOLT EUV', '스포티지 하이브리드', '스파크밴 1.0',\n",
       "       'BYD eBus-9', 'e-tron Sportback 55 quattro',\n",
       "       '파워프라자봉고3ev PEACE 더블캡', '타이칸 크로스 투리스모 터보 (5인승)',\n",
       "       '포드머스탱(MUSTANG)마하E', '타이칸 (High. 5인승)', '타이칸', 'E-SKY 9',\n",
       "       '타이칸 (High)', '마스타(MASTA)HIM', 'ELFE', '대덕노면청소차',\n",
       "       'BMW iX3 M Sport', '타이칸 (5인승)', 'GV60', 'BMW iX xDrive40',\n",
       "       '현대에버다임양방향인명구조차', 'BMW iX xDrive50', 'PORSCHE TAYCAN',\n",
       "       'Mercedes-Benz EQS450 +', 'SMART T1.0', '나눔순찰차',\n",
       "       '타이칸 크로스 투리스모 (5인승)', '브이버스90N', '시티라이트 II', 'HYPERS1611',\n",
       "       'LIONNE', 'e-tron GT quattro', 'RS e-tron GT',\n",
       "       '포트로-탑S(POTRO-TOP S)', 'NEW BYD eBus-12', '비바', '엑시언트 수소전기트럭 윙바디',\n",
       "       'TAYCAN 4S', '신광재난현장지휘차', 'Mercedes-Benz EQC400 4MATIC',\n",
       "       'Polestar 2 Long Range Single Motor', 'HYPERS1609',\n",
       "       '볼보 XC40 Recharge Twin', '카운티일렉트릭 어린이운송차',\n",
       "       'Polestar 2 Long Range Dual Motor', '포트로-픽업S(POTRO-PICK UP S)',\n",
       "       '볼보 C40 Recharge Twin', 'MASADA 2밴', 'BMW i4 eDrive40',\n",
       "       '포터Ⅱ 일렉트릭 윙바디(PORTERⅡ ELECTRIC)', '포터Ⅱ 일렉트릭 내장탑(PORTERⅡ ELECTRIC)',\n",
       "       'MINI Cooper SE', '포터Ⅱ 일렉트릭 파워게이트(PORTERⅡ ELECTRIC)', '젤라',\n",
       "       '타이칸 크로스 투리스모', 'BMW i4 M50', 'YJ전기노면청소차', '타이칸 크로스 투리스모 4S',\n",
       "       '니로 플러스', 'Mercedes-Benz EQS350', 'GV70', '렉서스 UX300e',\n",
       "       'GREENWAY720', 'MASADA 4밴', '타이칸 크로스 투리스모 4S (5인승)', '그린타운플러스',\n",
       "       '시티라이트9', 'e-tron S', '테슬라로드스터(ROADSTER)', 'e-tron S Sportback',\n",
       "       'ModelX Long Range Plus', 'GMC허머(HUMMER)EV EDITION1',\n",
       "       'TESLA MODEL X90D', '한국드론이동관제차', '에픽시티', '에바다이동홍보차',\n",
       "       'NEW BYD eBus-7', 'Mercedes-Benz EQB300 4MATIC', 'Model 3 RWD',\n",
       "       '타이칸 크로스 투리스모 터보'], dtype=object)"
      ]
     },
     "execution_count": 139,
     "metadata": {},
     "output_type": "execute_result"
    }
   ],
   "source": [
    "df['차명'].unique()"
   ]
  },
  {
   "cell_type": "code",
   "execution_count": 140,
   "metadata": {},
   "outputs": [
    {
     "data": {
      "text/plain": [
       "(2550090, 40)"
      ]
     },
     "execution_count": 140,
     "metadata": {},
     "output_type": "execute_result"
    }
   ],
   "source": [
    "df.shape"
   ]
  },
  {
   "cell_type": "code",
   "execution_count": 141,
   "metadata": {},
   "outputs": [
    {
     "data": {
      "text/plain": [
       "0                    쏘나타(SONATA)\n",
       "1    그랜저 하이브리드 (GRANDEUR HYBRID)\n",
       "2                  그랜저(GRANDEUR)\n",
       "3                    쏘나타(SONATA)\n",
       "4                       K5 하이브리드\n",
       "Name: 차명, dtype: object"
      ]
     },
     "execution_count": 141,
     "metadata": {},
     "output_type": "execute_result"
    }
   ],
   "source": [
    "df['차명'][:5]"
   ]
  },
  {
   "cell_type": "code",
   "execution_count": 142,
   "metadata": {},
   "outputs": [
    {
     "name": "stderr",
     "output_type": "stream",
     "text": [
      "2550090it [00:01, 2336050.03it/s]\n"
     ]
    },
    {
     "data": {
      "text/plain": [
       "(765735, [1, 4, 10, 11, 16])"
      ]
     },
     "execution_count": 142,
     "metadata": {},
     "output_type": "execute_result"
    }
   ],
   "source": [
    "except_car_name_idx = []\n",
    "for i, s in tqdm(enumerate(df['차명'].to_list())):\n",
    "    if ('하이브리드' in s) or ('Hybrid' in s) or ('HYBRID' in s) or ('수소' in s):\n",
    "        except_car_name_idx.append(i)\n",
    "len(except_car_name_idx), except_car_name_idx[:5]"
   ]
  },
  {
   "cell_type": "code",
   "execution_count": 143,
   "metadata": {},
   "outputs": [
    {
     "data": {
      "text/plain": [
       "[2550059, 2550060, 2550061, 2550062, 2550063]"
      ]
     },
     "execution_count": 143,
     "metadata": {},
     "output_type": "execute_result"
    }
   ],
   "source": [
    "except_car_name_idx[-5:]"
   ]
  },
  {
   "cell_type": "code",
   "execution_count": 144,
   "metadata": {},
   "outputs": [
    {
     "data": {
      "text/plain": [
       "2550059    코나 하이브리드(KONA HYBRID)\n",
       "2550060                 K5 하이브리드\n",
       "2550061                 K5 하이브리드\n",
       "2550062                 K5 하이브리드\n",
       "2550063                 K5 하이브리드\n",
       "Name: 차명, dtype: object"
      ]
     },
     "execution_count": 144,
     "metadata": {},
     "output_type": "execute_result"
    }
   ],
   "source": [
    "df['차명'][[2550059, 2550060, 2550061, 2550062, 2550063]]"
   ]
  },
  {
   "cell_type": "code",
   "execution_count": 145,
   "metadata": {},
   "outputs": [
    {
     "name": "stdout",
     "output_type": "stream",
     "text": [
      "<class 'pandas.core.frame.DataFrame'>\n",
      "RangeIndex: 1784355 entries, 0 to 1784354\n",
      "Data columns (total 40 columns):\n",
      " #   Column       Dtype  \n",
      "---  ------       -----  \n",
      " 0   차량관리번호       object \n",
      " 1   차량등록번호       object \n",
      " 2   본거지법정동코드     int64  \n",
      " 3   소유자구분        object \n",
      " 4   차종_등록정보      object \n",
      " 5   용도           object \n",
      " 6   차대번호         object \n",
      " 7   최초등록일자       int64  \n",
      " 8   차량연식         int64  \n",
      " 9   차량제작일자       float64\n",
      " 10  검사유효일        int64  \n",
      " 11  제원관리번호       object \n",
      " 12  배출가스인증번호     object \n",
      " 13  배출가스등급       int64  \n",
      " 14  저공해조치종류      float64\n",
      " 15  저공해조치구조변경YN  object \n",
      " 16  차량말소YN       object \n",
      " 17  취득일자         float64\n",
      " 18  취득금액         float64\n",
      " 19  차명           object \n",
      " 20  차종_제원정보      object \n",
      " 21  차종분류         object \n",
      " 22  차종유형         object \n",
      " 23  자동차형식        object \n",
      " 24  제작사명         object \n",
      " 25  연료           object \n",
      " 26  엔진형식         object \n",
      " 27  총중량          float64\n",
      " 28  적재중량         float64\n",
      " 29  엔진출력         float64\n",
      " 30  배기량          float64\n",
      " 31  승차인원         int64  \n",
      " 32  차량길이         int64  \n",
      " 33  차량너비         int64  \n",
      " 34  차량높이         int64  \n",
      " 35  원산지명         object \n",
      " 36  삭제YN         object \n",
      " 37  제원승인일자       int64  \n",
      " 38  구동형식         object \n",
      " 39  변속기종류        object \n",
      "dtypes: float64(8), int64(10), object(22)\n",
      "memory usage: 544.5+ MB\n"
     ]
    }
   ],
   "source": [
    "sort_by_carname = df.drop(except_car_name_idx).reset_index(drop=True)\n",
    "sort_by_carname.info()"
   ]
  },
  {
   "cell_type": "markdown",
   "metadata": {},
   "source": [
    "### 연료로 정리\n",
    "- 연료명으로 정리\n",
    "    - \"전기\"만 추출\n",
    "- 원본 샘플 수 : 2,550,090 개\n",
    "- 차명으로 정리 후 남은 샘플 수 : 1,784,355 개\n",
    "- 연료명으로 정리 후 남은 샘플 수 : 298,605 개"
   ]
  },
  {
   "cell_type": "code",
   "execution_count": 146,
   "metadata": {},
   "outputs": [
    {
     "data": {
      "text/plain": [
       "array(['LPG(액화석유가스)', '휘발유', '휘발유 하이브리드', '전기', '수소'], dtype=object)"
      ]
     },
     "execution_count": 146,
     "metadata": {},
     "output_type": "execute_result"
    }
   ],
   "source": [
    "sort_by_carname['연료'].unique()"
   ]
  },
  {
   "cell_type": "code",
   "execution_count": 147,
   "metadata": {},
   "outputs": [
    {
     "data": {
      "text/plain": [
       "array(['코나 일렉트릭 (KONA ELECTRIC)', 'TWIZY', 'BMW i3',\n",
       "       '아이오닉 일렉트릭(IONIQ ELECTRIC)', '쏘울 EV', 'CHEVROLET BOLT EV',\n",
       "       'SM3 Z.E.', '니로 EV', 'Model S 100D', '엔비온', 'LEAF', 'D2', '쏘울 전기차',\n",
       "       'Model S 75D', 'Model S 90D', '아폴로(Apollo)1100전기버스',\n",
       "       'Model X 100D', 'Danigo', '레이 전기차', '일렉시티(ELEC CITY)',\n",
       "       'BMW i3 94Ah', '재규어 I-PACE EV400', '아데오나(ADEONA)', '그린어스',\n",
       "       '체인지(CHANGE)', '이-화이버드(eFIBIRD)', '리프', '스파크 EV', '블루온 (BLUEON)',\n",
       "       '스마트(SMART)ED', '마스타(MASTA)VAN', 'HYPERS', 'BMW i3 120Ah SOL plus',\n",
       "       '파워프라자라보ev PEACE', '테슬라(TESLA)모델S P85D', '테슬라(TESLA)모델X100D',\n",
       "       'Model S P100D', 'BYD eBus-7', '이텍진공식소형전기노면청소차', 'Model X 75D',\n",
       "       '매그넘(MAGNUM)', '테슬라(TESLA)모델S P85', 'Model X P100D',\n",
       "       '제인모터스칼마토EV1톤내장탑차', 'BMW i3 120Ah LUX', '배터리교환식전기버스', '다니고3',\n",
       "       'CHANGE', '씨티앤티 이존(e-ZONE)', '씨티앤티이존(e-ZONE)', 'E6',\n",
       "       '스마트(SMART)ED카브리오', '테슬라(TESLA)모델X 100D', 'TESLA MODEL S',\n",
       "       '테슬라(TESLA)모델S Perfomance', '아폴로(Apollo)전기버스',\n",
       "       '이-프리머스(e-PRIMUS)저상전기버스', 'D2C', '피아트500E', '테슬라(TESLA)모델S70D',\n",
       "       '테슬라(TESLA)모델S PERFORMANCE', 'FX116', 'BS110CN', '브이버스', 'VoltOn',\n",
       "       '하이퍼스에이치 (HYPERS H)', 'Model 3 Long Range', 'Model 3 Performance',\n",
       "       'Model S Long Range', 'Model S Performance', 'Model X Long Range',\n",
       "       'Model X Performance', 'Model X Standard Range',\n",
       "       'Model 3 Standard Range Plus RWD', 'Model S Standard Range',\n",
       "       'TESLA MODEL 3', '벤츠 EQC 400 4MATIC', 'CEVO-C', '바네스(VANESSE)',\n",
       "       'HU-SKY', 'FX120', '포터Ⅱ 일렉트릭 (PORTERⅡ ELECTRIC)', '일렉시티 굴절버스',\n",
       "       '일진무시동전기냉동탑차', 'HYPERS11L', '봉고Ⅲ 1톤 EV', 'D2P', 'E-SKY',\n",
       "       '스마트(SMART)EQ', '카운티일렉트릭', 'e-tron 55 quattro', '그린타운 850',\n",
       "       'TESLA X 90D', '일레누스(ELENUUS)', 'TESLA MODEL3', '테슬라(TESLA)모델S',\n",
       "       '시티라이트', 'Peugeot e-208', 'DS3 CROSSBACK E-TENSE',\n",
       "       'Peugeot e-2008 SUV', 'ZOE', '이-스마트(E-SMART)', '테슬라(TESLA)모델3',\n",
       "       'NIO ES8', '마이브 M1', '테슬라(TESLA)모델X 75D', 'SMART EV Z', '브이버스60',\n",
       "       '파워프라자봉고3ev PEACE', '타이칸 4S (High)', '타이칸 4S (High. 5인승)',\n",
       "       '포트로(POTRO)', 'E-SKY  II', '타이칸 4S', 'BYD eBus-12', '브이버스60i',\n",
       "       '재규어I-PACE EV400', 'SMART8.7', '플러스(PLUS)', 'SMART9.3', 'IZM',\n",
       "       '테슬라(TESLA)모델XPerformance', '타이칸 4S (5인승)', '테슬라(TESLA)모델S 90D',\n",
       "       '포르쉐타이칸(TAYCAN)터보S', '포트로-픽업(POTRO-PICK UP)', '테슬라(TESLA)모델S 75',\n",
       "       'Model Y Long Range', 'Model Y Performance',\n",
       "       '포터Ⅱ 일렉트릭 내장탑차 (PORTERⅡ ELECTRIC)',\n",
       "       '포터Ⅱ 일렉트릭 윙바디 (PORTERⅡ ELECTRIC)', '포르쉐타이칸(TAYCAN)터보',\n",
       "       '포터Ⅱ 일렉트릭 파워게이트 (PORTERⅡ ELECTRIC)', '봉고Ⅲ EV 파워게이트',\n",
       "       '봉고Ⅲ EV 저상형내장차', '봉고Ⅲ EV 내장차', '봉고Ⅲ EV 윙바디', '포트로-탑(POTRO-TOP)',\n",
       "       '봉고Ⅲ EV 플러스내장차', '다니고밴', '포르쉐타이칸(TAYCAN)4S', 'LSEV',\n",
       "       '아이오닉5 (IONIQ5)', '일렉시티 이층버스', 'e-tron Sportback 50 quattro',\n",
       "       '타이칸 터보 S (5인승)', '타이칸 터보 S', 'CEVO-C SE', 'BMW i3 120Ah',\n",
       "       '아이오닉5(IONIQ5)', 'e-tron 50 quattro', '플러스2.0(카고)', '타이칸 터보',\n",
       "       '타이칸 터보 (5인승)', 'GREENWAY1100', 'Model Y Standard Range',\n",
       "       '코란도 e-motion', 'TESLA MODEL S 75', 'SMART110',\n",
       "       '아폴로(APOLLO)900전기버스', 'G80', '크린텍전기노면청소및살수차', 'MG ZS EV',\n",
       "       'TESLA MODEL X', 'E-SKY  11', 'TESLA MODEL X 100D',\n",
       "       'Mercedes-Benz EQA250', 'EV6', 'CHEVROLET BOLT EUV', 'BYD eBus-9',\n",
       "       'e-tron Sportback 55 quattro', '파워프라자봉고3ev PEACE 더블캡',\n",
       "       '타이칸 크로스 투리스모 터보 (5인승)', '포드머스탱(MUSTANG)마하E', '타이칸 (High. 5인승)',\n",
       "       '타이칸', 'E-SKY 9', '타이칸 (High)', '마스타(MASTA)HIM', 'ELFE', '대덕노면청소차',\n",
       "       'BMW iX3 M Sport', '타이칸 (5인승)', 'GV60', 'BMW iX xDrive40',\n",
       "       '현대에버다임양방향인명구조차', 'BMW iX xDrive50', 'PORSCHE TAYCAN',\n",
       "       'Mercedes-Benz EQS450 +', 'SMART T1.0', '나눔순찰차',\n",
       "       '타이칸 크로스 투리스모 (5인승)', '브이버스90N', '시티라이트 II', 'HYPERS1611',\n",
       "       'LIONNE', 'e-tron GT quattro', 'RS e-tron GT',\n",
       "       '포트로-탑S(POTRO-TOP S)', 'NEW BYD eBus-12', '비바', 'TAYCAN 4S',\n",
       "       '신광재난현장지휘차', 'Mercedes-Benz EQC400 4MATIC',\n",
       "       'Polestar 2 Long Range Single Motor', 'HYPERS1609',\n",
       "       '볼보 XC40 Recharge Twin', '카운티일렉트릭 어린이운송차',\n",
       "       'Polestar 2 Long Range Dual Motor', '포트로-픽업S(POTRO-PICK UP S)',\n",
       "       '볼보 C40 Recharge Twin', 'MASADA 2밴', 'BMW i4 eDrive40',\n",
       "       '포터Ⅱ 일렉트릭 윙바디(PORTERⅡ ELECTRIC)', '포터Ⅱ 일렉트릭 내장탑(PORTERⅡ ELECTRIC)',\n",
       "       'MINI Cooper SE', '포터Ⅱ 일렉트릭 파워게이트(PORTERⅡ ELECTRIC)', '젤라',\n",
       "       '타이칸 크로스 투리스모', 'BMW i4 M50', 'YJ전기노면청소차', '타이칸 크로스 투리스모 4S',\n",
       "       '니로 플러스', 'Mercedes-Benz EQS350', 'GV70', '렉서스 UX300e',\n",
       "       'GREENWAY720', 'MASADA 4밴', '타이칸 크로스 투리스모 4S (5인승)', '그린타운플러스',\n",
       "       '시티라이트9', 'e-tron S', '테슬라로드스터(ROADSTER)', 'e-tron S Sportback',\n",
       "       'ModelX Long Range Plus', 'GMC허머(HUMMER)EV EDITION1',\n",
       "       'TESLA MODEL X90D', '한국드론이동관제차', '에픽시티', '에바다이동홍보차',\n",
       "       'NEW BYD eBus-7', 'Mercedes-Benz EQB300 4MATIC', 'Model 3 RWD',\n",
       "       '타이칸 크로스 투리스모 터보'], dtype=object)"
      ]
     },
     "execution_count": 147,
     "metadata": {},
     "output_type": "execute_result"
    }
   ],
   "source": [
    "sort_by_carname[sort_by_carname['연료'] == '전기']['차명'].unique()"
   ]
  },
  {
   "cell_type": "code",
   "execution_count": 148,
   "metadata": {},
   "outputs": [
    {
     "name": "stdout",
     "output_type": "stream",
     "text": [
      "<class 'pandas.core.frame.DataFrame'>\n",
      "RangeIndex: 298605 entries, 0 to 298604\n",
      "Data columns (total 40 columns):\n",
      " #   Column       Non-Null Count   Dtype  \n",
      "---  ------       --------------   -----  \n",
      " 0   차량관리번호       298605 non-null  object \n",
      " 1   차량등록번호       298605 non-null  object \n",
      " 2   본거지법정동코드     298605 non-null  int64  \n",
      " 3   소유자구분        298605 non-null  object \n",
      " 4   차종_등록정보      298605 non-null  object \n",
      " 5   용도           298605 non-null  object \n",
      " 6   차대번호         298605 non-null  object \n",
      " 7   최초등록일자       298605 non-null  int64  \n",
      " 8   차량연식         298605 non-null  int64  \n",
      " 9   차량제작일자       298605 non-null  float64\n",
      " 10  검사유효일        298605 non-null  int64  \n",
      " 11  제원관리번호       298605 non-null  object \n",
      " 12  배출가스인증번호     158296 non-null  object \n",
      " 13  배출가스등급       298605 non-null  int64  \n",
      " 14  저공해조치종류      0 non-null       float64\n",
      " 15  저공해조치구조변경YN  298605 non-null  object \n",
      " 16  차량말소YN       298605 non-null  object \n",
      " 17  취득일자         298605 non-null  float64\n",
      " 18  취득금액         298605 non-null  float64\n",
      " 19  차명           298605 non-null  object \n",
      " 20  차종_제원정보      298605 non-null  object \n",
      " 21  차종분류         298605 non-null  object \n",
      " 22  차종유형         298605 non-null  object \n",
      " 23  자동차형식        298605 non-null  object \n",
      " 24  제작사명         298605 non-null  object \n",
      " 25  연료           298605 non-null  object \n",
      " 26  엔진형식         298605 non-null  object \n",
      " 27  총중량          298605 non-null  float64\n",
      " 28  적재중량         203628 non-null  float64\n",
      " 29  엔진출력         298605 non-null  float64\n",
      " 30  배기량          298605 non-null  float64\n",
      " 31  승차인원         298605 non-null  int64  \n",
      " 32  차량길이         298605 non-null  int64  \n",
      " 33  차량너비         298605 non-null  int64  \n",
      " 34  차량높이         298605 non-null  int64  \n",
      " 35  원산지명         298605 non-null  object \n",
      " 36  삭제YN         298605 non-null  object \n",
      " 37  제원승인일자       298605 non-null  int64  \n",
      " 38  구동형식         264700 non-null  object \n",
      " 39  변속기종류        298605 non-null  object \n",
      "dtypes: float64(8), int64(10), object(22)\n",
      "memory usage: 91.1+ MB\n"
     ]
    }
   ],
   "source": [
    "sort_by_fuel = sort_by_carname[sort_by_carname['연료'] == '전기'].reset_index(drop=True)\n",
    "sort_by_fuel.info()"
   ]
  },
  {
   "cell_type": "markdown",
   "metadata": {},
   "source": [
    "### 대여사업용 차 제거\n",
    "- 차량등록번호로 정리\n",
    "    - 제거 할 값\n",
    "        - 대여사업용 : 허, 하, 호\n",
    "- 원본 샘플 수 : 2,550,090 개\n",
    "- 차명으로 정리 후 남은 샘플 수 : 1,784,355 개\n",
    "- 연료명으로 정리 후 남은 샘플 수 : 298,605 개\n",
    "- 대여사업용 제외 후 남은 샘플 수 : 258,989 개"
   ]
  },
  {
   "cell_type": "code",
   "execution_count": 149,
   "metadata": {},
   "outputs": [
    {
     "data": {
      "text/html": [
       "<div>\n",
       "<style scoped>\n",
       "    .dataframe tbody tr th:only-of-type {\n",
       "        vertical-align: middle;\n",
       "    }\n",
       "\n",
       "    .dataframe tbody tr th {\n",
       "        vertical-align: top;\n",
       "    }\n",
       "\n",
       "    .dataframe thead th {\n",
       "        text-align: right;\n",
       "    }\n",
       "</style>\n",
       "<table border=\"1\" class=\"dataframe\">\n",
       "  <thead>\n",
       "    <tr style=\"text-align: right;\">\n",
       "      <th></th>\n",
       "      <th>차량관리번호</th>\n",
       "      <th>차량등록번호</th>\n",
       "      <th>본거지법정동코드</th>\n",
       "      <th>소유자구분</th>\n",
       "      <th>차종_등록정보</th>\n",
       "      <th>용도</th>\n",
       "      <th>차대번호</th>\n",
       "      <th>최초등록일자</th>\n",
       "      <th>차량연식</th>\n",
       "      <th>차량제작일자</th>\n",
       "    </tr>\n",
       "  </thead>\n",
       "  <tbody>\n",
       "    <tr>\n",
       "      <th>0</th>\n",
       "      <td>KMHK381GFKU010663-01</td>\n",
       "      <td>63마6218</td>\n",
       "      <td>4311425344</td>\n",
       "      <td>주민</td>\n",
       "      <td>승용</td>\n",
       "      <td>자가용</td>\n",
       "      <td>KMHK381GFKU010663</td>\n",
       "      <td>20181022</td>\n",
       "      <td>2019</td>\n",
       "      <td>20181015.0</td>\n",
       "    </tr>\n",
       "    <tr>\n",
       "      <th>1</th>\n",
       "      <td>VF1ACVYB2KW597080-01</td>\n",
       "      <td>46더2154</td>\n",
       "      <td>4159036025</td>\n",
       "      <td>외국인</td>\n",
       "      <td>승용</td>\n",
       "      <td>자가용</td>\n",
       "      <td>VF1ACVYB2KW597080</td>\n",
       "      <td>20190307</td>\n",
       "      <td>2019</td>\n",
       "      <td>20181008.0</td>\n",
       "    </tr>\n",
       "    <tr>\n",
       "      <th>2</th>\n",
       "      <td>WBY1Z2102EVZ61650-01</td>\n",
       "      <td>32우3353</td>\n",
       "      <td>1111010100</td>\n",
       "      <td>주민</td>\n",
       "      <td>승용</td>\n",
       "      <td>자가용</td>\n",
       "      <td>WBY1Z2102EVZ61650</td>\n",
       "      <td>20150319</td>\n",
       "      <td>2014</td>\n",
       "      <td>20140506.0</td>\n",
       "    </tr>\n",
       "    <tr>\n",
       "      <th>3</th>\n",
       "      <td>KMHC051HFHU000852-01</td>\n",
       "      <td>40어0433</td>\n",
       "      <td>5013025021</td>\n",
       "      <td>주민</td>\n",
       "      <td>승용</td>\n",
       "      <td>자가용</td>\n",
       "      <td>KMHC051HFHU000852</td>\n",
       "      <td>20160902</td>\n",
       "      <td>2017</td>\n",
       "      <td>20160629.0</td>\n",
       "    </tr>\n",
       "    <tr>\n",
       "      <th>4</th>\n",
       "      <td>KMHC051HFHU003725-01</td>\n",
       "      <td>06머0310</td>\n",
       "      <td>2826011000</td>\n",
       "      <td>법인</td>\n",
       "      <td>승용</td>\n",
       "      <td>자가용</td>\n",
       "      <td>KMHC051HFHU003725</td>\n",
       "      <td>20161107</td>\n",
       "      <td>2017</td>\n",
       "      <td>20161101.0</td>\n",
       "    </tr>\n",
       "  </tbody>\n",
       "</table>\n",
       "</div>"
      ],
      "text/plain": [
       "                 차량관리번호   차량등록번호    본거지법정동코드 소유자구분 차종_등록정보   용도  \\\n",
       "0  KMHK381GFKU010663-01  63마6218  4311425344    주민      승용  자가용   \n",
       "1  VF1ACVYB2KW597080-01  46더2154  4159036025   외국인      승용  자가용   \n",
       "2  WBY1Z2102EVZ61650-01  32우3353  1111010100    주민      승용  자가용   \n",
       "3  KMHC051HFHU000852-01  40어0433  5013025021    주민      승용  자가용   \n",
       "4  KMHC051HFHU003725-01  06머0310  2826011000    법인      승용  자가용   \n",
       "\n",
       "                차대번호    최초등록일자  차량연식      차량제작일자  \n",
       "0  KMHK381GFKU010663  20181022  2019  20181015.0  \n",
       "1  VF1ACVYB2KW597080  20190307  2019  20181008.0  \n",
       "2  WBY1Z2102EVZ61650  20150319  2014  20140506.0  \n",
       "3  KMHC051HFHU000852  20160902  2017  20160629.0  \n",
       "4  KMHC051HFHU003725  20161107  2017  20161101.0  "
      ]
     },
     "execution_count": 149,
     "metadata": {},
     "output_type": "execute_result"
    }
   ],
   "source": [
    "sort_by_fuel.iloc[:5, :10]"
   ]
  },
  {
   "cell_type": "code",
   "execution_count": 150,
   "metadata": {},
   "outputs": [
    {
     "name": "stderr",
     "output_type": "stream",
     "text": [
      "298605it [00:00, 2150303.80it/s]\n"
     ]
    },
    {
     "data": {
      "text/plain": [
       "(39616, [13, 24, 30, 53, 62])"
      ]
     },
     "execution_count": 150,
     "metadata": {},
     "output_type": "execute_result"
    }
   ],
   "source": [
    "except_carnum_idx = []\n",
    "for i, s in tqdm(enumerate(sort_by_fuel['차량등록번호'].to_list())):\n",
    "    if ('허' in s) or ('하' in s) or ('호' in s):\n",
    "        except_carnum_idx.append(i)\n",
    "len(except_carnum_idx), except_carnum_idx[:5]"
   ]
  },
  {
   "cell_type": "code",
   "execution_count": 151,
   "metadata": {},
   "outputs": [
    {
     "data": {
      "text/plain": [
       "13    28하6183\n",
       "24    10호8167\n",
       "30    51하4605\n",
       "53    14허8967\n",
       "62    68하5981\n",
       "Name: 차량등록번호, dtype: object"
      ]
     },
     "execution_count": 151,
     "metadata": {},
     "output_type": "execute_result"
    }
   ],
   "source": [
    "sort_by_fuel['차량등록번호'][[13, 24, 30, 53, 62]]"
   ]
  },
  {
   "cell_type": "code",
   "execution_count": 157,
   "metadata": {},
   "outputs": [
    {
     "name": "stdout",
     "output_type": "stream",
     "text": [
      "<class 'pandas.core.frame.DataFrame'>\n",
      "RangeIndex: 258989 entries, 0 to 258988\n",
      "Data columns (total 40 columns):\n",
      " #   Column       Non-Null Count   Dtype  \n",
      "---  ------       --------------   -----  \n",
      " 0   차량관리번호       258989 non-null  object \n",
      " 1   차량등록번호       258989 non-null  object \n",
      " 2   본거지법정동코드     258989 non-null  int64  \n",
      " 3   소유자구분        258989 non-null  object \n",
      " 4   차종_등록정보      258989 non-null  object \n",
      " 5   용도           258989 non-null  object \n",
      " 6   차대번호         258989 non-null  object \n",
      " 7   최초등록일자       258989 non-null  int64  \n",
      " 8   차량연식         258989 non-null  int64  \n",
      " 9   차량제작일자       258989 non-null  float64\n",
      " 10  검사유효일        258989 non-null  int64  \n",
      " 11  제원관리번호       258989 non-null  object \n",
      " 12  배출가스인증번호     141585 non-null  object \n",
      " 13  배출가스등급       258989 non-null  int64  \n",
      " 14  저공해조치종류      0 non-null       float64\n",
      " 15  저공해조치구조변경YN  258989 non-null  object \n",
      " 16  차량말소YN       258989 non-null  object \n",
      " 17  취득일자         258989 non-null  float64\n",
      " 18  취득금액         258989 non-null  float64\n",
      " 19  차명           258989 non-null  object \n",
      " 20  차종_제원정보      258989 non-null  object \n",
      " 21  차종분류         258989 non-null  object \n",
      " 22  차종유형         258989 non-null  object \n",
      " 23  자동차형식        258989 non-null  object \n",
      " 24  제작사명         258989 non-null  object \n",
      " 25  연료           258989 non-null  object \n",
      " 26  엔진형식         258989 non-null  object \n",
      " 27  총중량          258989 non-null  float64\n",
      " 28  적재중량         183564 non-null  float64\n",
      " 29  엔진출력         258989 non-null  float64\n",
      " 30  배기량          258989 non-null  float64\n",
      " 31  승차인원         258989 non-null  int64  \n",
      " 32  차량길이         258989 non-null  int64  \n",
      " 33  차량너비         258989 non-null  int64  \n",
      " 34  차량높이         258989 non-null  int64  \n",
      " 35  원산지명         258989 non-null  object \n",
      " 36  삭제YN         258989 non-null  object \n",
      " 37  제원승인일자       258989 non-null  int64  \n",
      " 38  구동형식         227801 non-null  object \n",
      " 39  변속기종류        258989 non-null  object \n",
      "dtypes: float64(8), int64(10), object(22)\n",
      "memory usage: 79.0+ MB\n"
     ]
    }
   ],
   "source": [
    "sort_by_carnum = sort_by_fuel.drop(except_carnum_idx).reset_index(drop=True)\n",
    "sort_by_carnum.info()"
   ]
  },
  {
   "cell_type": "code",
   "execution_count": 158,
   "metadata": {},
   "outputs": [
    {
     "data": {
      "text/html": [
       "<div>\n",
       "<style scoped>\n",
       "    .dataframe tbody tr th:only-of-type {\n",
       "        vertical-align: middle;\n",
       "    }\n",
       "\n",
       "    .dataframe tbody tr th {\n",
       "        vertical-align: top;\n",
       "    }\n",
       "\n",
       "    .dataframe thead th {\n",
       "        text-align: right;\n",
       "    }\n",
       "</style>\n",
       "<table border=\"1\" class=\"dataframe\">\n",
       "  <thead>\n",
       "    <tr style=\"text-align: right;\">\n",
       "      <th></th>\n",
       "      <th>차량관리번호</th>\n",
       "      <th>차량등록번호</th>\n",
       "      <th>본거지법정동코드</th>\n",
       "      <th>소유자구분</th>\n",
       "      <th>차종_등록정보</th>\n",
       "      <th>용도</th>\n",
       "      <th>차대번호</th>\n",
       "      <th>최초등록일자</th>\n",
       "      <th>차량연식</th>\n",
       "      <th>차량제작일자</th>\n",
       "    </tr>\n",
       "  </thead>\n",
       "  <tbody>\n",
       "    <tr>\n",
       "      <th>0</th>\n",
       "      <td>KMHK381GFKU010663-01</td>\n",
       "      <td>63마6218</td>\n",
       "      <td>4311425344</td>\n",
       "      <td>주민</td>\n",
       "      <td>승용</td>\n",
       "      <td>자가용</td>\n",
       "      <td>KMHK381GFKU010663</td>\n",
       "      <td>20181022</td>\n",
       "      <td>2019</td>\n",
       "      <td>20181015.0</td>\n",
       "    </tr>\n",
       "    <tr>\n",
       "      <th>1</th>\n",
       "      <td>VF1ACVYB2KW597080-01</td>\n",
       "      <td>46더2154</td>\n",
       "      <td>4159036025</td>\n",
       "      <td>외국인</td>\n",
       "      <td>승용</td>\n",
       "      <td>자가용</td>\n",
       "      <td>VF1ACVYB2KW597080</td>\n",
       "      <td>20190307</td>\n",
       "      <td>2019</td>\n",
       "      <td>20181008.0</td>\n",
       "    </tr>\n",
       "    <tr>\n",
       "      <th>2</th>\n",
       "      <td>WBY1Z2102EVZ61650-01</td>\n",
       "      <td>32우3353</td>\n",
       "      <td>1111010100</td>\n",
       "      <td>주민</td>\n",
       "      <td>승용</td>\n",
       "      <td>자가용</td>\n",
       "      <td>WBY1Z2102EVZ61650</td>\n",
       "      <td>20150319</td>\n",
       "      <td>2014</td>\n",
       "      <td>20140506.0</td>\n",
       "    </tr>\n",
       "  </tbody>\n",
       "</table>\n",
       "</div>"
      ],
      "text/plain": [
       "                 차량관리번호   차량등록번호    본거지법정동코드 소유자구분 차종_등록정보   용도  \\\n",
       "0  KMHK381GFKU010663-01  63마6218  4311425344    주민      승용  자가용   \n",
       "1  VF1ACVYB2KW597080-01  46더2154  4159036025   외국인      승용  자가용   \n",
       "2  WBY1Z2102EVZ61650-01  32우3353  1111010100    주민      승용  자가용   \n",
       "\n",
       "                차대번호    최초등록일자  차량연식      차량제작일자  \n",
       "0  KMHK381GFKU010663  20181022  2019  20181015.0  \n",
       "1  VF1ACVYB2KW597080  20190307  2019  20181008.0  \n",
       "2  WBY1Z2102EVZ61650  20150319  2014  20140506.0  "
      ]
     },
     "execution_count": 158,
     "metadata": {},
     "output_type": "execute_result"
    }
   ],
   "source": [
    "sort_by_carnum.iloc[:3, :10]"
   ]
  },
  {
   "cell_type": "code",
   "execution_count": 59,
   "metadata": {},
   "outputs": [
    {
     "name": "stdout",
     "output_type": "stream",
     "text": [
      "Wall time: 2min 20s\n"
     ]
    }
   ],
   "source": [
    "%%time\n",
    "sort_by_carnum.to_excel('data/220819_22.06월기준_1등급_순수전기차.xlsx', encoding='utf-8', index=False)"
   ]
  },
  {
   "cell_type": "markdown",
   "metadata": {},
   "source": [
    "### 대여사업용 차"
   ]
  },
  {
   "cell_type": "code",
   "execution_count": 153,
   "metadata": {},
   "outputs": [
    {
     "name": "stdout",
     "output_type": "stream",
     "text": [
      "<class 'pandas.core.frame.DataFrame'>\n",
      "RangeIndex: 39616 entries, 0 to 39615\n",
      "Data columns (total 40 columns):\n",
      " #   Column       Non-Null Count  Dtype  \n",
      "---  ------       --------------  -----  \n",
      " 0   차량관리번호       39616 non-null  object \n",
      " 1   차량등록번호       39616 non-null  object \n",
      " 2   본거지법정동코드     39616 non-null  int64  \n",
      " 3   소유자구분        39616 non-null  object \n",
      " 4   차종_등록정보      39616 non-null  object \n",
      " 5   용도           39616 non-null  object \n",
      " 6   차대번호         39616 non-null  object \n",
      " 7   최초등록일자       39616 non-null  int64  \n",
      " 8   차량연식         39616 non-null  int64  \n",
      " 9   차량제작일자       39616 non-null  float64\n",
      " 10  검사유효일        39616 non-null  int64  \n",
      " 11  제원관리번호       39616 non-null  object \n",
      " 12  배출가스인증번호     16711 non-null  object \n",
      " 13  배출가스등급       39616 non-null  int64  \n",
      " 14  저공해조치종류      0 non-null      float64\n",
      " 15  저공해조치구조변경YN  39616 non-null  object \n",
      " 16  차량말소YN       39616 non-null  object \n",
      " 17  취득일자         39616 non-null  float64\n",
      " 18  취득금액         39616 non-null  float64\n",
      " 19  차명           39616 non-null  object \n",
      " 20  차종_제원정보      39616 non-null  object \n",
      " 21  차종분류         39616 non-null  object \n",
      " 22  차종유형         39616 non-null  object \n",
      " 23  자동차형식        39616 non-null  object \n",
      " 24  제작사명         39616 non-null  object \n",
      " 25  연료           39616 non-null  object \n",
      " 26  엔진형식         39616 non-null  object \n",
      " 27  총중량          39616 non-null  float64\n",
      " 28  적재중량         20064 non-null  float64\n",
      " 29  엔진출력         39616 non-null  float64\n",
      " 30  배기량          39616 non-null  float64\n",
      " 31  승차인원         39616 non-null  int64  \n",
      " 32  차량길이         39616 non-null  int64  \n",
      " 33  차량너비         39616 non-null  int64  \n",
      " 34  차량높이         39616 non-null  int64  \n",
      " 35  원산지명         39616 non-null  object \n",
      " 36  삭제YN         39616 non-null  object \n",
      " 37  제원승인일자       39616 non-null  int64  \n",
      " 38  구동형식         36899 non-null  object \n",
      " 39  변속기종류        39616 non-null  object \n",
      "dtypes: float64(8), int64(10), object(22)\n",
      "memory usage: 12.1+ MB\n"
     ]
    }
   ],
   "source": [
    "rent_car = sort_by_fuel.iloc[except_carnum_idx].reset_index(drop=True)\n",
    "rent_car.info()"
   ]
  },
  {
   "cell_type": "markdown",
   "metadata": {},
   "source": [
    "## 지역별 전기차 대수 통계\n",
    "- 본거지법정동코드 활용"
   ]
  },
  {
   "cell_type": "code",
   "execution_count": 62,
   "metadata": {},
   "outputs": [
    {
     "name": "stdout",
     "output_type": "stream",
     "text": [
      "<class 'pandas.core.frame.DataFrame'>\n",
      "RangeIndex: 46340 entries, 0 to 46339\n",
      "Data columns (total 3 columns):\n",
      " #   Column  Non-Null Count  Dtype \n",
      "---  ------  --------------  ----- \n",
      " 0   법정동코드   46340 non-null  int64 \n",
      " 1   법정동명    46340 non-null  object\n",
      " 2   폐지여부    46340 non-null  object\n",
      "dtypes: int64(1), object(2)\n",
      "memory usage: 1.1+ MB\n"
     ]
    }
   ],
   "source": [
    "code = pd.read_table('data/법정동코드_전체자료.txt', sep='\\t', encoding='EUC-kr')\n",
    "code.info()"
   ]
  },
  {
   "cell_type": "code",
   "execution_count": 63,
   "metadata": {},
   "outputs": [
    {
     "data": {
      "text/html": [
       "<div>\n",
       "<style scoped>\n",
       "    .dataframe tbody tr th:only-of-type {\n",
       "        vertical-align: middle;\n",
       "    }\n",
       "\n",
       "    .dataframe tbody tr th {\n",
       "        vertical-align: top;\n",
       "    }\n",
       "\n",
       "    .dataframe thead th {\n",
       "        text-align: right;\n",
       "    }\n",
       "</style>\n",
       "<table border=\"1\" class=\"dataframe\">\n",
       "  <thead>\n",
       "    <tr style=\"text-align: right;\">\n",
       "      <th></th>\n",
       "      <th>법정동코드</th>\n",
       "      <th>법정동명</th>\n",
       "      <th>폐지여부</th>\n",
       "    </tr>\n",
       "  </thead>\n",
       "  <tbody>\n",
       "    <tr>\n",
       "      <th>0</th>\n",
       "      <td>1100000000</td>\n",
       "      <td>서울특별시</td>\n",
       "      <td>존재</td>\n",
       "    </tr>\n",
       "    <tr>\n",
       "      <th>1</th>\n",
       "      <td>1111000000</td>\n",
       "      <td>서울특별시 종로구</td>\n",
       "      <td>존재</td>\n",
       "    </tr>\n",
       "    <tr>\n",
       "      <th>2</th>\n",
       "      <td>1111010100</td>\n",
       "      <td>서울특별시 종로구 청운동</td>\n",
       "      <td>존재</td>\n",
       "    </tr>\n",
       "    <tr>\n",
       "      <th>3</th>\n",
       "      <td>1111010200</td>\n",
       "      <td>서울특별시 종로구 신교동</td>\n",
       "      <td>존재</td>\n",
       "    </tr>\n",
       "    <tr>\n",
       "      <th>4</th>\n",
       "      <td>1111010300</td>\n",
       "      <td>서울특별시 종로구 궁정동</td>\n",
       "      <td>존재</td>\n",
       "    </tr>\n",
       "  </tbody>\n",
       "</table>\n",
       "</div>"
      ],
      "text/plain": [
       "        법정동코드           법정동명 폐지여부\n",
       "0  1100000000          서울특별시   존재\n",
       "1  1111000000      서울특별시 종로구   존재\n",
       "2  1111010100  서울특별시 종로구 청운동   존재\n",
       "3  1111010200  서울특별시 종로구 신교동   존재\n",
       "4  1111010300  서울특별시 종로구 궁정동   존재"
      ]
     },
     "execution_count": 63,
     "metadata": {},
     "output_type": "execute_result"
    }
   ],
   "source": [
    "code.head()"
   ]
  },
  {
   "cell_type": "code",
   "execution_count": 65,
   "metadata": {},
   "outputs": [
    {
     "name": "stdout",
     "output_type": "stream",
     "text": [
      "<class 'pandas.core.frame.DataFrame'>\n",
      "RangeIndex: 20550 entries, 0 to 20549\n",
      "Data columns (total 3 columns):\n",
      " #   Column  Non-Null Count  Dtype \n",
      "---  ------  --------------  ----- \n",
      " 0   법정동코드   20550 non-null  int64 \n",
      " 1   법정동명    20550 non-null  object\n",
      " 2   폐지여부    20550 non-null  object\n",
      "dtypes: int64(1), object(2)\n",
      "memory usage: 481.8+ KB\n"
     ]
    }
   ],
   "source": [
    "code2 = code[code['폐지여부'] == '존재'].reset_index(drop=True)\n",
    "code2.info()"
   ]
  },
  {
   "cell_type": "code",
   "execution_count": 67,
   "metadata": {},
   "outputs": [
    {
     "data": {
      "text/html": [
       "<div>\n",
       "<style scoped>\n",
       "    .dataframe tbody tr th:only-of-type {\n",
       "        vertical-align: middle;\n",
       "    }\n",
       "\n",
       "    .dataframe tbody tr th {\n",
       "        vertical-align: top;\n",
       "    }\n",
       "\n",
       "    .dataframe thead th {\n",
       "        text-align: right;\n",
       "    }\n",
       "</style>\n",
       "<table border=\"1\" class=\"dataframe\">\n",
       "  <thead>\n",
       "    <tr style=\"text-align: right;\">\n",
       "      <th></th>\n",
       "      <th>법정동코드</th>\n",
       "      <th>법정동명</th>\n",
       "      <th>폐지여부</th>\n",
       "    </tr>\n",
       "  </thead>\n",
       "  <tbody>\n",
       "    <tr>\n",
       "      <th>14451</th>\n",
       "      <td>4311425344</td>\n",
       "      <td>충청북도 청주시 청원구 오창읍 각리</td>\n",
       "      <td>존재</td>\n",
       "    </tr>\n",
       "  </tbody>\n",
       "</table>\n",
       "</div>"
      ],
      "text/plain": [
       "            법정동코드                 법정동명 폐지여부\n",
       "14451  4311425344  충청북도 청주시 청원구 오창읍 각리   존재"
      ]
     },
     "execution_count": 67,
     "metadata": {},
     "output_type": "execute_result"
    }
   ],
   "source": [
    "code[code['법정동코드'] == 4311425344]"
   ]
  },
  {
   "cell_type": "code",
   "execution_count": 154,
   "metadata": {},
   "outputs": [
    {
     "data": {
      "text/html": [
       "<div>\n",
       "<style scoped>\n",
       "    .dataframe tbody tr th:only-of-type {\n",
       "        vertical-align: middle;\n",
       "    }\n",
       "\n",
       "    .dataframe tbody tr th {\n",
       "        vertical-align: top;\n",
       "    }\n",
       "\n",
       "    .dataframe thead th {\n",
       "        text-align: right;\n",
       "    }\n",
       "</style>\n",
       "<table border=\"1\" class=\"dataframe\">\n",
       "  <thead>\n",
       "    <tr style=\"text-align: right;\">\n",
       "      <th></th>\n",
       "      <th>법정동코드</th>\n",
       "      <th>법정동명</th>\n",
       "      <th>폐지여부</th>\n",
       "    </tr>\n",
       "  </thead>\n",
       "  <tbody>\n",
       "    <tr>\n",
       "      <th>6100</th>\n",
       "      <td>4311425344</td>\n",
       "      <td>충청북도 청주시 청원구 오창읍 각리</td>\n",
       "      <td>존재</td>\n",
       "    </tr>\n",
       "  </tbody>\n",
       "</table>\n",
       "</div>"
      ],
      "text/plain": [
       "           법정동코드                 법정동명 폐지여부\n",
       "6100  4311425344  충청북도 청주시 청원구 오창읍 각리   존재"
      ]
     },
     "execution_count": 154,
     "metadata": {},
     "output_type": "execute_result"
    }
   ],
   "source": [
    "code2[code2['법정동코드'] == 4311425344]"
   ]
  },
  {
   "cell_type": "code",
   "execution_count": 68,
   "metadata": {},
   "outputs": [
    {
     "data": {
      "text/html": [
       "<div>\n",
       "<style scoped>\n",
       "    .dataframe tbody tr th:only-of-type {\n",
       "        vertical-align: middle;\n",
       "    }\n",
       "\n",
       "    .dataframe tbody tr th {\n",
       "        vertical-align: top;\n",
       "    }\n",
       "\n",
       "    .dataframe thead th {\n",
       "        text-align: right;\n",
       "    }\n",
       "</style>\n",
       "<table border=\"1\" class=\"dataframe\">\n",
       "  <thead>\n",
       "    <tr style=\"text-align: right;\">\n",
       "      <th></th>\n",
       "      <th>법정동코드</th>\n",
       "      <th>법정동명</th>\n",
       "      <th>폐지여부</th>\n",
       "    </tr>\n",
       "  </thead>\n",
       "  <tbody>\n",
       "    <tr>\n",
       "      <th>7172</th>\n",
       "      <td>4159036025</td>\n",
       "      <td>경기도 화성시 팔탄면 구장리</td>\n",
       "      <td>존재</td>\n",
       "    </tr>\n",
       "  </tbody>\n",
       "</table>\n",
       "</div>"
      ],
      "text/plain": [
       "           법정동코드             법정동명 폐지여부\n",
       "7172  4159036025  경기도 화성시 팔탄면 구장리   존재"
      ]
     },
     "execution_count": 68,
     "metadata": {},
     "output_type": "execute_result"
    }
   ],
   "source": [
    "code[code['법정동코드'] == 4159036025]"
   ]
  },
  {
   "cell_type": "code",
   "execution_count": 155,
   "metadata": {},
   "outputs": [
    {
     "data": {
      "text/html": [
       "<div>\n",
       "<style scoped>\n",
       "    .dataframe tbody tr th:only-of-type {\n",
       "        vertical-align: middle;\n",
       "    }\n",
       "\n",
       "    .dataframe tbody tr th {\n",
       "        vertical-align: top;\n",
       "    }\n",
       "\n",
       "    .dataframe thead th {\n",
       "        text-align: right;\n",
       "    }\n",
       "</style>\n",
       "<table border=\"1\" class=\"dataframe\">\n",
       "  <thead>\n",
       "    <tr style=\"text-align: right;\">\n",
       "      <th></th>\n",
       "      <th>법정동코드</th>\n",
       "      <th>법정동명</th>\n",
       "      <th>폐지여부</th>\n",
       "    </tr>\n",
       "  </thead>\n",
       "  <tbody>\n",
       "    <tr>\n",
       "      <th>3559</th>\n",
       "      <td>4159036025</td>\n",
       "      <td>경기도 화성시 팔탄면 구장리</td>\n",
       "      <td>존재</td>\n",
       "    </tr>\n",
       "  </tbody>\n",
       "</table>\n",
       "</div>"
      ],
      "text/plain": [
       "           법정동코드             법정동명 폐지여부\n",
       "3559  4159036025  경기도 화성시 팔탄면 구장리   존재"
      ]
     },
     "execution_count": 155,
     "metadata": {},
     "output_type": "execute_result"
    }
   ],
   "source": [
    "code2[code2['법정동코드'] == 4159036025]"
   ]
  },
  {
   "cell_type": "code",
   "execution_count": 69,
   "metadata": {},
   "outputs": [
    {
     "data": {
      "text/html": [
       "<div>\n",
       "<style scoped>\n",
       "    .dataframe tbody tr th:only-of-type {\n",
       "        vertical-align: middle;\n",
       "    }\n",
       "\n",
       "    .dataframe tbody tr th {\n",
       "        vertical-align: top;\n",
       "    }\n",
       "\n",
       "    .dataframe thead th {\n",
       "        text-align: right;\n",
       "    }\n",
       "</style>\n",
       "<table border=\"1\" class=\"dataframe\">\n",
       "  <thead>\n",
       "    <tr style=\"text-align: right;\">\n",
       "      <th></th>\n",
       "      <th>법정동코드</th>\n",
       "      <th>법정동명</th>\n",
       "      <th>폐지여부</th>\n",
       "    </tr>\n",
       "  </thead>\n",
       "  <tbody>\n",
       "    <tr>\n",
       "      <th>2</th>\n",
       "      <td>1111010100</td>\n",
       "      <td>서울특별시 종로구 청운동</td>\n",
       "      <td>존재</td>\n",
       "    </tr>\n",
       "  </tbody>\n",
       "</table>\n",
       "</div>"
      ],
      "text/plain": [
       "        법정동코드           법정동명 폐지여부\n",
       "2  1111010100  서울특별시 종로구 청운동   존재"
      ]
     },
     "execution_count": 69,
     "metadata": {},
     "output_type": "execute_result"
    }
   ],
   "source": [
    "code[code['법정동코드'] == 1111010100]"
   ]
  },
  {
   "cell_type": "code",
   "execution_count": 156,
   "metadata": {},
   "outputs": [
    {
     "data": {
      "text/html": [
       "<div>\n",
       "<style scoped>\n",
       "    .dataframe tbody tr th:only-of-type {\n",
       "        vertical-align: middle;\n",
       "    }\n",
       "\n",
       "    .dataframe tbody tr th {\n",
       "        vertical-align: top;\n",
       "    }\n",
       "\n",
       "    .dataframe thead th {\n",
       "        text-align: right;\n",
       "    }\n",
       "</style>\n",
       "<table border=\"1\" class=\"dataframe\">\n",
       "  <thead>\n",
       "    <tr style=\"text-align: right;\">\n",
       "      <th></th>\n",
       "      <th>법정동코드</th>\n",
       "      <th>법정동명</th>\n",
       "      <th>폐지여부</th>\n",
       "    </tr>\n",
       "  </thead>\n",
       "  <tbody>\n",
       "    <tr>\n",
       "      <th>2</th>\n",
       "      <td>1111010100</td>\n",
       "      <td>서울특별시 종로구 청운동</td>\n",
       "      <td>존재</td>\n",
       "    </tr>\n",
       "  </tbody>\n",
       "</table>\n",
       "</div>"
      ],
      "text/plain": [
       "        법정동코드           법정동명 폐지여부\n",
       "2  1111010100  서울특별시 종로구 청운동   존재"
      ]
     },
     "execution_count": 156,
     "metadata": {},
     "output_type": "execute_result"
    }
   ],
   "source": [
    "code2[code2['법정동코드'] == 1111010100]"
   ]
  },
  {
   "cell_type": "code",
   "execution_count": 70,
   "metadata": {},
   "outputs": [
    {
     "data": {
      "text/html": [
       "<div>\n",
       "<style scoped>\n",
       "    .dataframe tbody tr th:only-of-type {\n",
       "        vertical-align: middle;\n",
       "    }\n",
       "\n",
       "    .dataframe tbody tr th {\n",
       "        vertical-align: top;\n",
       "    }\n",
       "\n",
       "    .dataframe thead th {\n",
       "        text-align: right;\n",
       "    }\n",
       "</style>\n",
       "<table border=\"1\" class=\"dataframe\">\n",
       "  <thead>\n",
       "    <tr style=\"text-align: right;\">\n",
       "      <th></th>\n",
       "      <th>본거지법정동코드</th>\n",
       "      <th>법정동명</th>\n",
       "    </tr>\n",
       "  </thead>\n",
       "  <tbody>\n",
       "    <tr>\n",
       "      <th>0</th>\n",
       "      <td>4311425344</td>\n",
       "      <td>충청북도 청주시 청원구 오창읍 각리</td>\n",
       "    </tr>\n",
       "    <tr>\n",
       "      <th>1</th>\n",
       "      <td>4159036025</td>\n",
       "      <td>경기도 화성시 팔탄면 구장리</td>\n",
       "    </tr>\n",
       "    <tr>\n",
       "      <th>2</th>\n",
       "      <td>1111010100</td>\n",
       "      <td>서울특별시 종로구 청운동</td>\n",
       "    </tr>\n",
       "    <tr>\n",
       "      <th>3</th>\n",
       "      <td>5013025021</td>\n",
       "      <td>제주특별자치도 서귀포시 대정읍 상모리</td>\n",
       "    </tr>\n",
       "    <tr>\n",
       "      <th>4</th>\n",
       "      <td>2826011000</td>\n",
       "      <td>인천광역시 서구 석남동</td>\n",
       "    </tr>\n",
       "  </tbody>\n",
       "</table>\n",
       "</div>"
      ],
      "text/plain": [
       "     본거지법정동코드                  법정동명\n",
       "0  4311425344   충청북도 청주시 청원구 오창읍 각리\n",
       "1  4159036025       경기도 화성시 팔탄면 구장리\n",
       "2  1111010100         서울특별시 종로구 청운동\n",
       "3  5013025021  제주특별자치도 서귀포시 대정읍 상모리\n",
       "4  2826011000          인천광역시 서구 석남동"
      ]
     },
     "execution_count": 70,
     "metadata": {},
     "output_type": "execute_result"
    }
   ],
   "source": [
    "merge_by_code = sort_by_carnum.merge(code, how='left', left_on='본거지법정동코드', right_on='법정동코드')\n",
    "merge_by_code[['본거지법정동코드', '법정동명']].head()"
   ]
  },
  {
   "cell_type": "code",
   "execution_count": 159,
   "metadata": {},
   "outputs": [
    {
     "data": {
      "text/html": [
       "<div>\n",
       "<style scoped>\n",
       "    .dataframe tbody tr th:only-of-type {\n",
       "        vertical-align: middle;\n",
       "    }\n",
       "\n",
       "    .dataframe tbody tr th {\n",
       "        vertical-align: top;\n",
       "    }\n",
       "\n",
       "    .dataframe thead th {\n",
       "        text-align: right;\n",
       "    }\n",
       "</style>\n",
       "<table border=\"1\" class=\"dataframe\">\n",
       "  <thead>\n",
       "    <tr style=\"text-align: right;\">\n",
       "      <th></th>\n",
       "      <th>본거지법정동코드</th>\n",
       "      <th>법정동명</th>\n",
       "    </tr>\n",
       "  </thead>\n",
       "  <tbody>\n",
       "    <tr>\n",
       "      <th>0</th>\n",
       "      <td>4311425344</td>\n",
       "      <td>충청북도 청주시 청원구 오창읍 각리</td>\n",
       "    </tr>\n",
       "    <tr>\n",
       "      <th>1</th>\n",
       "      <td>4159036025</td>\n",
       "      <td>경기도 화성시 팔탄면 구장리</td>\n",
       "    </tr>\n",
       "    <tr>\n",
       "      <th>2</th>\n",
       "      <td>1111010100</td>\n",
       "      <td>서울특별시 종로구 청운동</td>\n",
       "    </tr>\n",
       "    <tr>\n",
       "      <th>3</th>\n",
       "      <td>5013025021</td>\n",
       "      <td>제주특별자치도 서귀포시 대정읍 상모리</td>\n",
       "    </tr>\n",
       "    <tr>\n",
       "      <th>4</th>\n",
       "      <td>2826011000</td>\n",
       "      <td>인천광역시 서구 석남동</td>\n",
       "    </tr>\n",
       "  </tbody>\n",
       "</table>\n",
       "</div>"
      ],
      "text/plain": [
       "     본거지법정동코드                  법정동명\n",
       "0  4311425344   충청북도 청주시 청원구 오창읍 각리\n",
       "1  4159036025       경기도 화성시 팔탄면 구장리\n",
       "2  1111010100         서울특별시 종로구 청운동\n",
       "3  5013025021  제주특별자치도 서귀포시 대정읍 상모리\n",
       "4  2826011000          인천광역시 서구 석남동"
      ]
     },
     "execution_count": 159,
     "metadata": {},
     "output_type": "execute_result"
    }
   ],
   "source": [
    "merge_by_code2 = sort_by_carnum.merge(code2, how='left', left_on='본거지법정동코드', right_on='법정동코드')\n",
    "merge_by_code2[['본거지법정동코드', '법정동명']].head()"
   ]
  },
  {
   "cell_type": "code",
   "execution_count": 162,
   "metadata": {},
   "outputs": [
    {
     "data": {
      "text/html": [
       "<div>\n",
       "<style scoped>\n",
       "    .dataframe tbody tr th:only-of-type {\n",
       "        vertical-align: middle;\n",
       "    }\n",
       "\n",
       "    .dataframe tbody tr th {\n",
       "        vertical-align: top;\n",
       "    }\n",
       "\n",
       "    .dataframe thead th {\n",
       "        text-align: right;\n",
       "    }\n",
       "</style>\n",
       "<table border=\"1\" class=\"dataframe\">\n",
       "  <thead>\n",
       "    <tr style=\"text-align: right;\">\n",
       "      <th></th>\n",
       "      <th>본거지법정동코드</th>\n",
       "      <th>법정동명</th>\n",
       "    </tr>\n",
       "  </thead>\n",
       "  <tbody>\n",
       "    <tr>\n",
       "      <th>0</th>\n",
       "      <td>5011010900</td>\n",
       "      <td>제주특별자치도 제주시 용담이동</td>\n",
       "    </tr>\n",
       "    <tr>\n",
       "      <th>1</th>\n",
       "      <td>1162010100</td>\n",
       "      <td>서울특별시 관악구 봉천동</td>\n",
       "    </tr>\n",
       "    <tr>\n",
       "      <th>2</th>\n",
       "      <td>5011012700</td>\n",
       "      <td>제주특별자치도 제주시 도두일동</td>\n",
       "    </tr>\n",
       "    <tr>\n",
       "      <th>3</th>\n",
       "      <td>1168010600</td>\n",
       "      <td>서울특별시 강남구 대치동</td>\n",
       "    </tr>\n",
       "    <tr>\n",
       "      <th>4</th>\n",
       "      <td>4113510300</td>\n",
       "      <td>경기도 성남시 분당구 정자동</td>\n",
       "    </tr>\n",
       "  </tbody>\n",
       "</table>\n",
       "</div>"
      ],
      "text/plain": [
       "     본거지법정동코드              법정동명\n",
       "0  5011010900  제주특별자치도 제주시 용담이동\n",
       "1  1162010100     서울특별시 관악구 봉천동\n",
       "2  5011012700  제주특별자치도 제주시 도두일동\n",
       "3  1168010600     서울특별시 강남구 대치동\n",
       "4  4113510300   경기도 성남시 분당구 정자동"
      ]
     },
     "execution_count": 162,
     "metadata": {},
     "output_type": "execute_result"
    }
   ],
   "source": [
    "rent_car_merge_by_code = rent_car.merge(code, how='left', left_on='본거지법정동코드', right_on='법정동코드')\n",
    "rent_car_merge_by_code[['본거지법정동코드', '법정동명']].head()"
   ]
  },
  {
   "cell_type": "code",
   "execution_count": 71,
   "metadata": {},
   "outputs": [
    {
     "name": "stdout",
     "output_type": "stream",
     "text": [
      "<class 'pandas.core.frame.DataFrame'>\n",
      "Int64Index: 258989 entries, 0 to 258988\n",
      "Data columns (total 43 columns):\n",
      " #   Column       Non-Null Count   Dtype  \n",
      "---  ------       --------------   -----  \n",
      " 0   차량관리번호       258989 non-null  object \n",
      " 1   차량등록번호       258989 non-null  object \n",
      " 2   본거지법정동코드     258989 non-null  int64  \n",
      " 3   소유자구분        258989 non-null  object \n",
      " 4   차종_등록정보      258989 non-null  object \n",
      " 5   용도           258989 non-null  object \n",
      " 6   차대번호         258989 non-null  object \n",
      " 7   최초등록일자       258989 non-null  int64  \n",
      " 8   차량연식         258989 non-null  int64  \n",
      " 9   차량제작일자       258989 non-null  float64\n",
      " 10  검사유효일        258989 non-null  int64  \n",
      " 11  제원관리번호       258989 non-null  object \n",
      " 12  배출가스인증번호     141585 non-null  object \n",
      " 13  배출가스등급       258989 non-null  int64  \n",
      " 14  저공해조치종류      0 non-null       float64\n",
      " 15  저공해조치구조변경YN  258989 non-null  object \n",
      " 16  차량말소YN       258989 non-null  object \n",
      " 17  취득일자         258989 non-null  float64\n",
      " 18  취득금액         258989 non-null  float64\n",
      " 19  차명           258989 non-null  object \n",
      " 20  차종_제원정보      258989 non-null  object \n",
      " 21  차종분류         258989 non-null  object \n",
      " 22  차종유형         258989 non-null  object \n",
      " 23  자동차형식        258989 non-null  object \n",
      " 24  제작사명         258989 non-null  object \n",
      " 25  연료           258989 non-null  object \n",
      " 26  엔진형식         258989 non-null  object \n",
      " 27  총중량          258989 non-null  float64\n",
      " 28  적재중량         183564 non-null  float64\n",
      " 29  엔진출력         258989 non-null  float64\n",
      " 30  배기량          258989 non-null  float64\n",
      " 31  승차인원         258989 non-null  int64  \n",
      " 32  차량길이         258989 non-null  int64  \n",
      " 33  차량너비         258989 non-null  int64  \n",
      " 34  차량높이         258989 non-null  int64  \n",
      " 35  원산지명         258989 non-null  object \n",
      " 36  삭제YN         258989 non-null  object \n",
      " 37  제원승인일자       258989 non-null  int64  \n",
      " 38  구동형식         227801 non-null  object \n",
      " 39  변속기종류        258989 non-null  object \n",
      " 40  법정동코드        258989 non-null  int64  \n",
      " 41  법정동명         258989 non-null  object \n",
      " 42  폐지여부         258989 non-null  object \n",
      "dtypes: float64(8), int64(11), object(24)\n",
      "memory usage: 86.9+ MB\n"
     ]
    }
   ],
   "source": [
    "merge_by_code.info()"
   ]
  },
  {
   "cell_type": "code",
   "execution_count": 160,
   "metadata": {},
   "outputs": [
    {
     "name": "stdout",
     "output_type": "stream",
     "text": [
      "<class 'pandas.core.frame.DataFrame'>\n",
      "Int64Index: 258989 entries, 0 to 258988\n",
      "Data columns (total 43 columns):\n",
      " #   Column       Non-Null Count   Dtype  \n",
      "---  ------       --------------   -----  \n",
      " 0   차량관리번호       258989 non-null  object \n",
      " 1   차량등록번호       258989 non-null  object \n",
      " 2   본거지법정동코드     258989 non-null  int64  \n",
      " 3   소유자구분        258989 non-null  object \n",
      " 4   차종_등록정보      258989 non-null  object \n",
      " 5   용도           258989 non-null  object \n",
      " 6   차대번호         258989 non-null  object \n",
      " 7   최초등록일자       258989 non-null  int64  \n",
      " 8   차량연식         258989 non-null  int64  \n",
      " 9   차량제작일자       258989 non-null  float64\n",
      " 10  검사유효일        258989 non-null  int64  \n",
      " 11  제원관리번호       258989 non-null  object \n",
      " 12  배출가스인증번호     141585 non-null  object \n",
      " 13  배출가스등급       258989 non-null  int64  \n",
      " 14  저공해조치종류      0 non-null       float64\n",
      " 15  저공해조치구조변경YN  258989 non-null  object \n",
      " 16  차량말소YN       258989 non-null  object \n",
      " 17  취득일자         258989 non-null  float64\n",
      " 18  취득금액         258989 non-null  float64\n",
      " 19  차명           258989 non-null  object \n",
      " 20  차종_제원정보      258989 non-null  object \n",
      " 21  차종분류         258989 non-null  object \n",
      " 22  차종유형         258989 non-null  object \n",
      " 23  자동차형식        258989 non-null  object \n",
      " 24  제작사명         258989 non-null  object \n",
      " 25  연료           258989 non-null  object \n",
      " 26  엔진형식         258989 non-null  object \n",
      " 27  총중량          258989 non-null  float64\n",
      " 28  적재중량         183564 non-null  float64\n",
      " 29  엔진출력         258989 non-null  float64\n",
      " 30  배기량          258989 non-null  float64\n",
      " 31  승차인원         258989 non-null  int64  \n",
      " 32  차량길이         258989 non-null  int64  \n",
      " 33  차량너비         258989 non-null  int64  \n",
      " 34  차량높이         258989 non-null  int64  \n",
      " 35  원산지명         258989 non-null  object \n",
      " 36  삭제YN         258989 non-null  object \n",
      " 37  제원승인일자       258989 non-null  int64  \n",
      " 38  구동형식         227801 non-null  object \n",
      " 39  변속기종류        258989 non-null  object \n",
      " 40  법정동코드        258508 non-null  float64\n",
      " 41  법정동명         258508 non-null  object \n",
      " 42  폐지여부         258508 non-null  object \n",
      "dtypes: float64(9), int64(10), object(24)\n",
      "memory usage: 86.9+ MB\n"
     ]
    }
   ],
   "source": [
    "merge_by_code2.info()"
   ]
  },
  {
   "cell_type": "code",
   "execution_count": 161,
   "metadata": {},
   "outputs": [
    {
     "data": {
      "text/plain": [
       "481"
      ]
     },
     "execution_count": 161,
     "metadata": {},
     "output_type": "execute_result"
    }
   ],
   "source": [
    "merge_by_code2['법정동명'].isnull().sum()"
   ]
  },
  {
   "cell_type": "code",
   "execution_count": 163,
   "metadata": {},
   "outputs": [
    {
     "name": "stdout",
     "output_type": "stream",
     "text": [
      "<class 'pandas.core.frame.DataFrame'>\n",
      "Int64Index: 39616 entries, 0 to 39615\n",
      "Data columns (total 43 columns):\n",
      " #   Column       Non-Null Count  Dtype  \n",
      "---  ------       --------------  -----  \n",
      " 0   차량관리번호       39616 non-null  object \n",
      " 1   차량등록번호       39616 non-null  object \n",
      " 2   본거지법정동코드     39616 non-null  int64  \n",
      " 3   소유자구분        39616 non-null  object \n",
      " 4   차종_등록정보      39616 non-null  object \n",
      " 5   용도           39616 non-null  object \n",
      " 6   차대번호         39616 non-null  object \n",
      " 7   최초등록일자       39616 non-null  int64  \n",
      " 8   차량연식         39616 non-null  int64  \n",
      " 9   차량제작일자       39616 non-null  float64\n",
      " 10  검사유효일        39616 non-null  int64  \n",
      " 11  제원관리번호       39616 non-null  object \n",
      " 12  배출가스인증번호     16711 non-null  object \n",
      " 13  배출가스등급       39616 non-null  int64  \n",
      " 14  저공해조치종류      0 non-null      float64\n",
      " 15  저공해조치구조변경YN  39616 non-null  object \n",
      " 16  차량말소YN       39616 non-null  object \n",
      " 17  취득일자         39616 non-null  float64\n",
      " 18  취득금액         39616 non-null  float64\n",
      " 19  차명           39616 non-null  object \n",
      " 20  차종_제원정보      39616 non-null  object \n",
      " 21  차종분류         39616 non-null  object \n",
      " 22  차종유형         39616 non-null  object \n",
      " 23  자동차형식        39616 non-null  object \n",
      " 24  제작사명         39616 non-null  object \n",
      " 25  연료           39616 non-null  object \n",
      " 26  엔진형식         39616 non-null  object \n",
      " 27  총중량          39616 non-null  float64\n",
      " 28  적재중량         20064 non-null  float64\n",
      " 29  엔진출력         39616 non-null  float64\n",
      " 30  배기량          39616 non-null  float64\n",
      " 31  승차인원         39616 non-null  int64  \n",
      " 32  차량길이         39616 non-null  int64  \n",
      " 33  차량너비         39616 non-null  int64  \n",
      " 34  차량높이         39616 non-null  int64  \n",
      " 35  원산지명         39616 non-null  object \n",
      " 36  삭제YN         39616 non-null  object \n",
      " 37  제원승인일자       39616 non-null  int64  \n",
      " 38  구동형식         36899 non-null  object \n",
      " 39  변속기종류        39616 non-null  object \n",
      " 40  법정동코드        39616 non-null  int64  \n",
      " 41  법정동명         39616 non-null  object \n",
      " 42  폐지여부         39616 non-null  object \n",
      "dtypes: float64(8), int64(11), object(24)\n",
      "memory usage: 13.3+ MB\n"
     ]
    }
   ],
   "source": [
    "rent_car_merge_by_code.info()"
   ]
  },
  {
   "cell_type": "code",
   "execution_count": 72,
   "metadata": {},
   "outputs": [
    {
     "name": "stdout",
     "output_type": "stream",
     "text": [
      "<class 'pandas.core.frame.DataFrame'>\n",
      "Int64Index: 258989 entries, 0 to 258988\n",
      "Data columns (total 42 columns):\n",
      " #   Column       Non-Null Count   Dtype  \n",
      "---  ------       --------------   -----  \n",
      " 0   차량관리번호       258989 non-null  object \n",
      " 1   차량등록번호       258989 non-null  object \n",
      " 2   본거지법정동코드     258989 non-null  int64  \n",
      " 3   소유자구분        258989 non-null  object \n",
      " 4   차종_등록정보      258989 non-null  object \n",
      " 5   용도           258989 non-null  object \n",
      " 6   차대번호         258989 non-null  object \n",
      " 7   최초등록일자       258989 non-null  int64  \n",
      " 8   차량연식         258989 non-null  int64  \n",
      " 9   차량제작일자       258989 non-null  float64\n",
      " 10  검사유효일        258989 non-null  int64  \n",
      " 11  제원관리번호       258989 non-null  object \n",
      " 12  배출가스인증번호     141585 non-null  object \n",
      " 13  배출가스등급       258989 non-null  int64  \n",
      " 14  저공해조치종류      0 non-null       float64\n",
      " 15  저공해조치구조변경YN  258989 non-null  object \n",
      " 16  차량말소YN       258989 non-null  object \n",
      " 17  취득일자         258989 non-null  float64\n",
      " 18  취득금액         258989 non-null  float64\n",
      " 19  차명           258989 non-null  object \n",
      " 20  차종_제원정보      258989 non-null  object \n",
      " 21  차종분류         258989 non-null  object \n",
      " 22  차종유형         258989 non-null  object \n",
      " 23  자동차형식        258989 non-null  object \n",
      " 24  제작사명         258989 non-null  object \n",
      " 25  연료           258989 non-null  object \n",
      " 26  엔진형식         258989 non-null  object \n",
      " 27  총중량          258989 non-null  float64\n",
      " 28  적재중량         183564 non-null  float64\n",
      " 29  엔진출력         258989 non-null  float64\n",
      " 30  배기량          258989 non-null  float64\n",
      " 31  승차인원         258989 non-null  int64  \n",
      " 32  차량길이         258989 non-null  int64  \n",
      " 33  차량너비         258989 non-null  int64  \n",
      " 34  차량높이         258989 non-null  int64  \n",
      " 35  원산지명         258989 non-null  object \n",
      " 36  삭제YN         258989 non-null  object \n",
      " 37  제원승인일자       258989 non-null  int64  \n",
      " 38  구동형식         227801 non-null  object \n",
      " 39  변속기종류        258989 non-null  object \n",
      " 40  법정동코드        258989 non-null  int64  \n",
      " 41  법정동명         258989 non-null  object \n",
      "dtypes: float64(8), int64(11), object(23)\n",
      "memory usage: 85.0+ MB\n"
     ]
    }
   ],
   "source": [
    "merge_by_code = merge_by_code.drop(['폐지여부'], axis=1)\n",
    "merge_by_code.info()"
   ]
  },
  {
   "cell_type": "code",
   "execution_count": 164,
   "metadata": {},
   "outputs": [
    {
     "name": "stdout",
     "output_type": "stream",
     "text": [
      "<class 'pandas.core.frame.DataFrame'>\n",
      "Int64Index: 39616 entries, 0 to 39615\n",
      "Data columns (total 42 columns):\n",
      " #   Column       Non-Null Count  Dtype  \n",
      "---  ------       --------------  -----  \n",
      " 0   차량관리번호       39616 non-null  object \n",
      " 1   차량등록번호       39616 non-null  object \n",
      " 2   본거지법정동코드     39616 non-null  int64  \n",
      " 3   소유자구분        39616 non-null  object \n",
      " 4   차종_등록정보      39616 non-null  object \n",
      " 5   용도           39616 non-null  object \n",
      " 6   차대번호         39616 non-null  object \n",
      " 7   최초등록일자       39616 non-null  int64  \n",
      " 8   차량연식         39616 non-null  int64  \n",
      " 9   차량제작일자       39616 non-null  float64\n",
      " 10  검사유효일        39616 non-null  int64  \n",
      " 11  제원관리번호       39616 non-null  object \n",
      " 12  배출가스인증번호     16711 non-null  object \n",
      " 13  배출가스등급       39616 non-null  int64  \n",
      " 14  저공해조치종류      0 non-null      float64\n",
      " 15  저공해조치구조변경YN  39616 non-null  object \n",
      " 16  차량말소YN       39616 non-null  object \n",
      " 17  취득일자         39616 non-null  float64\n",
      " 18  취득금액         39616 non-null  float64\n",
      " 19  차명           39616 non-null  object \n",
      " 20  차종_제원정보      39616 non-null  object \n",
      " 21  차종분류         39616 non-null  object \n",
      " 22  차종유형         39616 non-null  object \n",
      " 23  자동차형식        39616 non-null  object \n",
      " 24  제작사명         39616 non-null  object \n",
      " 25  연료           39616 non-null  object \n",
      " 26  엔진형식         39616 non-null  object \n",
      " 27  총중량          39616 non-null  float64\n",
      " 28  적재중량         20064 non-null  float64\n",
      " 29  엔진출력         39616 non-null  float64\n",
      " 30  배기량          39616 non-null  float64\n",
      " 31  승차인원         39616 non-null  int64  \n",
      " 32  차량길이         39616 non-null  int64  \n",
      " 33  차량너비         39616 non-null  int64  \n",
      " 34  차량높이         39616 non-null  int64  \n",
      " 35  원산지명         39616 non-null  object \n",
      " 36  삭제YN         39616 non-null  object \n",
      " 37  제원승인일자       39616 non-null  int64  \n",
      " 38  구동형식         36899 non-null  object \n",
      " 39  변속기종류        39616 non-null  object \n",
      " 40  법정동코드        39616 non-null  int64  \n",
      " 41  법정동명         39616 non-null  object \n",
      "dtypes: float64(8), int64(11), object(23)\n",
      "memory usage: 13.0+ MB\n"
     ]
    }
   ],
   "source": [
    "rent_car_merge_by_code = rent_car_merge_by_code.drop(['폐지여부'], axis=1)\n",
    "rent_car_merge_by_code.info()"
   ]
  },
  {
   "cell_type": "code",
   "execution_count": 75,
   "metadata": {},
   "outputs": [
    {
     "data": {
      "text/html": [
       "<div>\n",
       "<style scoped>\n",
       "    .dataframe tbody tr th:only-of-type {\n",
       "        vertical-align: middle;\n",
       "    }\n",
       "\n",
       "    .dataframe tbody tr th {\n",
       "        vertical-align: top;\n",
       "    }\n",
       "\n",
       "    .dataframe thead th {\n",
       "        text-align: right;\n",
       "    }\n",
       "</style>\n",
       "<table border=\"1\" class=\"dataframe\">\n",
       "  <thead>\n",
       "    <tr style=\"text-align: right;\">\n",
       "      <th></th>\n",
       "      <th>0</th>\n",
       "      <th>1</th>\n",
       "      <th>2</th>\n",
       "      <th>3</th>\n",
       "      <th>4</th>\n",
       "    </tr>\n",
       "  </thead>\n",
       "  <tbody>\n",
       "    <tr>\n",
       "      <th>0</th>\n",
       "      <td>충청북도</td>\n",
       "      <td>청주시</td>\n",
       "      <td>청원구</td>\n",
       "      <td>오창읍</td>\n",
       "      <td>각리</td>\n",
       "    </tr>\n",
       "    <tr>\n",
       "      <th>1</th>\n",
       "      <td>경기도</td>\n",
       "      <td>화성시</td>\n",
       "      <td>팔탄면</td>\n",
       "      <td>구장리</td>\n",
       "      <td>None</td>\n",
       "    </tr>\n",
       "    <tr>\n",
       "      <th>2</th>\n",
       "      <td>서울특별시</td>\n",
       "      <td>종로구</td>\n",
       "      <td>청운동</td>\n",
       "      <td>None</td>\n",
       "      <td>None</td>\n",
       "    </tr>\n",
       "    <tr>\n",
       "      <th>3</th>\n",
       "      <td>제주특별자치도</td>\n",
       "      <td>서귀포시</td>\n",
       "      <td>대정읍</td>\n",
       "      <td>상모리</td>\n",
       "      <td>None</td>\n",
       "    </tr>\n",
       "    <tr>\n",
       "      <th>4</th>\n",
       "      <td>인천광역시</td>\n",
       "      <td>서구</td>\n",
       "      <td>석남동</td>\n",
       "      <td>None</td>\n",
       "      <td>None</td>\n",
       "    </tr>\n",
       "    <tr>\n",
       "      <th>...</th>\n",
       "      <td>...</td>\n",
       "      <td>...</td>\n",
       "      <td>...</td>\n",
       "      <td>...</td>\n",
       "      <td>...</td>\n",
       "    </tr>\n",
       "    <tr>\n",
       "      <th>258984</th>\n",
       "      <td>광주광역시</td>\n",
       "      <td>북구</td>\n",
       "      <td>용두동</td>\n",
       "      <td>None</td>\n",
       "      <td>None</td>\n",
       "    </tr>\n",
       "    <tr>\n",
       "      <th>258985</th>\n",
       "      <td>강원도</td>\n",
       "      <td>태백시</td>\n",
       "      <td>황지동</td>\n",
       "      <td>None</td>\n",
       "      <td>None</td>\n",
       "    </tr>\n",
       "    <tr>\n",
       "      <th>258986</th>\n",
       "      <td>서울특별시</td>\n",
       "      <td>도봉구</td>\n",
       "      <td>창동</td>\n",
       "      <td>None</td>\n",
       "      <td>None</td>\n",
       "    </tr>\n",
       "    <tr>\n",
       "      <th>258987</th>\n",
       "      <td>광주광역시</td>\n",
       "      <td>서구</td>\n",
       "      <td>세하동</td>\n",
       "      <td>None</td>\n",
       "      <td>None</td>\n",
       "    </tr>\n",
       "    <tr>\n",
       "      <th>258988</th>\n",
       "      <td>경기도</td>\n",
       "      <td>성남시</td>\n",
       "      <td>중원구</td>\n",
       "      <td>하대원동</td>\n",
       "      <td>None</td>\n",
       "    </tr>\n",
       "  </tbody>\n",
       "</table>\n",
       "<p>258989 rows × 5 columns</p>\n",
       "</div>"
      ],
      "text/plain": [
       "              0     1    2     3     4\n",
       "0          충청북도   청주시  청원구   오창읍    각리\n",
       "1           경기도   화성시  팔탄면   구장리  None\n",
       "2         서울특별시   종로구  청운동  None  None\n",
       "3       제주특별자치도  서귀포시  대정읍   상모리  None\n",
       "4         인천광역시    서구  석남동  None  None\n",
       "...         ...   ...  ...   ...   ...\n",
       "258984    광주광역시    북구  용두동  None  None\n",
       "258985      강원도   태백시  황지동  None  None\n",
       "258986    서울특별시   도봉구   창동  None  None\n",
       "258987    광주광역시    서구  세하동  None  None\n",
       "258988      경기도   성남시  중원구  하대원동  None\n",
       "\n",
       "[258989 rows x 5 columns]"
      ]
     },
     "execution_count": 75,
     "metadata": {},
     "output_type": "execute_result"
    }
   ],
   "source": [
    "merge_by_code['법정동명'].str.split(expand=True)"
   ]
  },
  {
   "cell_type": "code",
   "execution_count": 165,
   "metadata": {},
   "outputs": [
    {
     "data": {
      "text/html": [
       "<div>\n",
       "<style scoped>\n",
       "    .dataframe tbody tr th:only-of-type {\n",
       "        vertical-align: middle;\n",
       "    }\n",
       "\n",
       "    .dataframe tbody tr th {\n",
       "        vertical-align: top;\n",
       "    }\n",
       "\n",
       "    .dataframe thead th {\n",
       "        text-align: right;\n",
       "    }\n",
       "</style>\n",
       "<table border=\"1\" class=\"dataframe\">\n",
       "  <thead>\n",
       "    <tr style=\"text-align: right;\">\n",
       "      <th></th>\n",
       "      <th>0</th>\n",
       "      <th>1</th>\n",
       "      <th>2</th>\n",
       "      <th>3</th>\n",
       "    </tr>\n",
       "  </thead>\n",
       "  <tbody>\n",
       "    <tr>\n",
       "      <th>0</th>\n",
       "      <td>제주특별자치도</td>\n",
       "      <td>제주시</td>\n",
       "      <td>용담이동</td>\n",
       "      <td>None</td>\n",
       "    </tr>\n",
       "    <tr>\n",
       "      <th>1</th>\n",
       "      <td>서울특별시</td>\n",
       "      <td>관악구</td>\n",
       "      <td>봉천동</td>\n",
       "      <td>None</td>\n",
       "    </tr>\n",
       "    <tr>\n",
       "      <th>2</th>\n",
       "      <td>제주특별자치도</td>\n",
       "      <td>제주시</td>\n",
       "      <td>도두일동</td>\n",
       "      <td>None</td>\n",
       "    </tr>\n",
       "    <tr>\n",
       "      <th>3</th>\n",
       "      <td>서울특별시</td>\n",
       "      <td>강남구</td>\n",
       "      <td>대치동</td>\n",
       "      <td>None</td>\n",
       "    </tr>\n",
       "    <tr>\n",
       "      <th>4</th>\n",
       "      <td>경기도</td>\n",
       "      <td>성남시</td>\n",
       "      <td>분당구</td>\n",
       "      <td>정자동</td>\n",
       "    </tr>\n",
       "    <tr>\n",
       "      <th>...</th>\n",
       "      <td>...</td>\n",
       "      <td>...</td>\n",
       "      <td>...</td>\n",
       "      <td>...</td>\n",
       "    </tr>\n",
       "    <tr>\n",
       "      <th>39611</th>\n",
       "      <td>대구광역시</td>\n",
       "      <td>동구</td>\n",
       "      <td>신암동</td>\n",
       "      <td>None</td>\n",
       "    </tr>\n",
       "    <tr>\n",
       "      <th>39612</th>\n",
       "      <td>대구광역시</td>\n",
       "      <td>동구</td>\n",
       "      <td>신암동</td>\n",
       "      <td>None</td>\n",
       "    </tr>\n",
       "    <tr>\n",
       "      <th>39613</th>\n",
       "      <td>대구광역시</td>\n",
       "      <td>동구</td>\n",
       "      <td>신암동</td>\n",
       "      <td>None</td>\n",
       "    </tr>\n",
       "    <tr>\n",
       "      <th>39614</th>\n",
       "      <td>대구광역시</td>\n",
       "      <td>동구</td>\n",
       "      <td>신암동</td>\n",
       "      <td>None</td>\n",
       "    </tr>\n",
       "    <tr>\n",
       "      <th>39615</th>\n",
       "      <td>대구광역시</td>\n",
       "      <td>동구</td>\n",
       "      <td>신암동</td>\n",
       "      <td>None</td>\n",
       "    </tr>\n",
       "  </tbody>\n",
       "</table>\n",
       "<p>39616 rows × 4 columns</p>\n",
       "</div>"
      ],
      "text/plain": [
       "             0    1     2     3\n",
       "0      제주특별자치도  제주시  용담이동  None\n",
       "1        서울특별시  관악구   봉천동  None\n",
       "2      제주특별자치도  제주시  도두일동  None\n",
       "3        서울특별시  강남구   대치동  None\n",
       "4          경기도  성남시   분당구   정자동\n",
       "...        ...  ...   ...   ...\n",
       "39611    대구광역시   동구   신암동  None\n",
       "39612    대구광역시   동구   신암동  None\n",
       "39613    대구광역시   동구   신암동  None\n",
       "39614    대구광역시   동구   신암동  None\n",
       "39615    대구광역시   동구   신암동  None\n",
       "\n",
       "[39616 rows x 4 columns]"
      ]
     },
     "execution_count": 165,
     "metadata": {},
     "output_type": "execute_result"
    }
   ],
   "source": [
    "rent_car_merge_by_code['법정동명'].str.split(expand=True)"
   ]
  },
  {
   "cell_type": "code",
   "execution_count": 76,
   "metadata": {},
   "outputs": [
    {
     "name": "stdout",
     "output_type": "stream",
     "text": [
      "<class 'pandas.core.frame.DataFrame'>\n",
      "Int64Index: 258989 entries, 0 to 258988\n",
      "Data columns (total 47 columns):\n",
      " #   Column       Non-Null Count   Dtype  \n",
      "---  ------       --------------   -----  \n",
      " 0   차량관리번호       258989 non-null  object \n",
      " 1   차량등록번호       258989 non-null  object \n",
      " 2   본거지법정동코드     258989 non-null  int64  \n",
      " 3   소유자구분        258989 non-null  object \n",
      " 4   차종_등록정보      258989 non-null  object \n",
      " 5   용도           258989 non-null  object \n",
      " 6   차대번호         258989 non-null  object \n",
      " 7   최초등록일자       258989 non-null  int64  \n",
      " 8   차량연식         258989 non-null  int64  \n",
      " 9   차량제작일자       258989 non-null  float64\n",
      " 10  검사유효일        258989 non-null  int64  \n",
      " 11  제원관리번호       258989 non-null  object \n",
      " 12  배출가스인증번호     141585 non-null  object \n",
      " 13  배출가스등급       258989 non-null  int64  \n",
      " 14  저공해조치종류      0 non-null       float64\n",
      " 15  저공해조치구조변경YN  258989 non-null  object \n",
      " 16  차량말소YN       258989 non-null  object \n",
      " 17  취득일자         258989 non-null  float64\n",
      " 18  취득금액         258989 non-null  float64\n",
      " 19  차명           258989 non-null  object \n",
      " 20  차종_제원정보      258989 non-null  object \n",
      " 21  차종분류         258989 non-null  object \n",
      " 22  차종유형         258989 non-null  object \n",
      " 23  자동차형식        258989 non-null  object \n",
      " 24  제작사명         258989 non-null  object \n",
      " 25  연료           258989 non-null  object \n",
      " 26  엔진형식         258989 non-null  object \n",
      " 27  총중량          258989 non-null  float64\n",
      " 28  적재중량         183564 non-null  float64\n",
      " 29  엔진출력         258989 non-null  float64\n",
      " 30  배기량          258989 non-null  float64\n",
      " 31  승차인원         258989 non-null  int64  \n",
      " 32  차량길이         258989 non-null  int64  \n",
      " 33  차량너비         258989 non-null  int64  \n",
      " 34  차량높이         258989 non-null  int64  \n",
      " 35  원산지명         258989 non-null  object \n",
      " 36  삭제YN         258989 non-null  object \n",
      " 37  제원승인일자       258989 non-null  int64  \n",
      " 38  구동형식         227801 non-null  object \n",
      " 39  변속기종류        258989 non-null  object \n",
      " 40  법정동코드        258989 non-null  int64  \n",
      " 41  법정동명         258989 non-null  object \n",
      " 42  0            258989 non-null  object \n",
      " 43  1            258989 non-null  object \n",
      " 44  2            256993 non-null  object \n",
      " 45  3            90940 non-null   object \n",
      " 46  4            3874 non-null    object \n",
      "dtypes: float64(8), int64(11), object(28)\n",
      "memory usage: 94.8+ MB\n"
     ]
    }
   ],
   "source": [
    "df2 = pd.concat([merge_by_code, merge_by_code['법정동명'].str.split(expand=True)], axis=1)\n",
    "df2.info()"
   ]
  },
  {
   "cell_type": "code",
   "execution_count": 166,
   "metadata": {},
   "outputs": [
    {
     "name": "stdout",
     "output_type": "stream",
     "text": [
      "<class 'pandas.core.frame.DataFrame'>\n",
      "Int64Index: 39616 entries, 0 to 39615\n",
      "Data columns (total 46 columns):\n",
      " #   Column       Non-Null Count  Dtype  \n",
      "---  ------       --------------  -----  \n",
      " 0   차량관리번호       39616 non-null  object \n",
      " 1   차량등록번호       39616 non-null  object \n",
      " 2   본거지법정동코드     39616 non-null  int64  \n",
      " 3   소유자구분        39616 non-null  object \n",
      " 4   차종_등록정보      39616 non-null  object \n",
      " 5   용도           39616 non-null  object \n",
      " 6   차대번호         39616 non-null  object \n",
      " 7   최초등록일자       39616 non-null  int64  \n",
      " 8   차량연식         39616 non-null  int64  \n",
      " 9   차량제작일자       39616 non-null  float64\n",
      " 10  검사유효일        39616 non-null  int64  \n",
      " 11  제원관리번호       39616 non-null  object \n",
      " 12  배출가스인증번호     16711 non-null  object \n",
      " 13  배출가스등급       39616 non-null  int64  \n",
      " 14  저공해조치종류      0 non-null      float64\n",
      " 15  저공해조치구조변경YN  39616 non-null  object \n",
      " 16  차량말소YN       39616 non-null  object \n",
      " 17  취득일자         39616 non-null  float64\n",
      " 18  취득금액         39616 non-null  float64\n",
      " 19  차명           39616 non-null  object \n",
      " 20  차종_제원정보      39616 non-null  object \n",
      " 21  차종분류         39616 non-null  object \n",
      " 22  차종유형         39616 non-null  object \n",
      " 23  자동차형식        39616 non-null  object \n",
      " 24  제작사명         39616 non-null  object \n",
      " 25  연료           39616 non-null  object \n",
      " 26  엔진형식         39616 non-null  object \n",
      " 27  총중량          39616 non-null  float64\n",
      " 28  적재중량         20064 non-null  float64\n",
      " 29  엔진출력         39616 non-null  float64\n",
      " 30  배기량          39616 non-null  float64\n",
      " 31  승차인원         39616 non-null  int64  \n",
      " 32  차량길이         39616 non-null  int64  \n",
      " 33  차량너비         39616 non-null  int64  \n",
      " 34  차량높이         39616 non-null  int64  \n",
      " 35  원산지명         39616 non-null  object \n",
      " 36  삭제YN         39616 non-null  object \n",
      " 37  제원승인일자       39616 non-null  int64  \n",
      " 38  구동형식         36899 non-null  object \n",
      " 39  변속기종류        39616 non-null  object \n",
      " 40  법정동코드        39616 non-null  int64  \n",
      " 41  법정동명         39616 non-null  object \n",
      " 42  0            39616 non-null  object \n",
      " 43  1            39616 non-null  object \n",
      " 44  2            39513 non-null  object \n",
      " 45  3            3496 non-null   object \n",
      "dtypes: float64(8), int64(11), object(27)\n",
      "memory usage: 14.2+ MB\n"
     ]
    }
   ],
   "source": [
    "rent2 = pd.concat([rent_car_merge_by_code, rent_car_merge_by_code['법정동명'].str.split(expand=True)], axis=1)\n",
    "rent2.info()"
   ]
  },
  {
   "cell_type": "code",
   "execution_count": 83,
   "metadata": {},
   "outputs": [
    {
     "data": {
      "text/html": [
       "<div>\n",
       "<style scoped>\n",
       "    .dataframe tbody tr th:only-of-type {\n",
       "        vertical-align: middle;\n",
       "    }\n",
       "\n",
       "    .dataframe tbody tr th {\n",
       "        vertical-align: top;\n",
       "    }\n",
       "\n",
       "    .dataframe thead th {\n",
       "        text-align: right;\n",
       "    }\n",
       "</style>\n",
       "<table border=\"1\" class=\"dataframe\">\n",
       "  <thead>\n",
       "    <tr style=\"text-align: right;\">\n",
       "      <th></th>\n",
       "      <th>법정동코드</th>\n",
       "      <th>법정동명</th>\n",
       "      <th>ad1</th>\n",
       "      <th>ad2</th>\n",
       "      <th>ad3</th>\n",
       "      <th>ad4</th>\n",
       "      <th>ad5</th>\n",
       "    </tr>\n",
       "  </thead>\n",
       "  <tbody>\n",
       "    <tr>\n",
       "      <th>0</th>\n",
       "      <td>4311425344</td>\n",
       "      <td>충청북도 청주시 청원구 오창읍 각리</td>\n",
       "      <td>충청북도</td>\n",
       "      <td>청주시</td>\n",
       "      <td>청원구</td>\n",
       "      <td>오창읍</td>\n",
       "      <td>각리</td>\n",
       "    </tr>\n",
       "    <tr>\n",
       "      <th>1</th>\n",
       "      <td>4159036025</td>\n",
       "      <td>경기도 화성시 팔탄면 구장리</td>\n",
       "      <td>경기도</td>\n",
       "      <td>화성시</td>\n",
       "      <td>팔탄면</td>\n",
       "      <td>구장리</td>\n",
       "      <td>None</td>\n",
       "    </tr>\n",
       "    <tr>\n",
       "      <th>2</th>\n",
       "      <td>1111010100</td>\n",
       "      <td>서울특별시 종로구 청운동</td>\n",
       "      <td>서울특별시</td>\n",
       "      <td>종로구</td>\n",
       "      <td>청운동</td>\n",
       "      <td>None</td>\n",
       "      <td>None</td>\n",
       "    </tr>\n",
       "  </tbody>\n",
       "</table>\n",
       "</div>"
      ],
      "text/plain": [
       "        법정동코드                 법정동명    ad1  ad2  ad3   ad4   ad5\n",
       "0  4311425344  충청북도 청주시 청원구 오창읍 각리   충청북도  청주시  청원구   오창읍    각리\n",
       "1  4159036025      경기도 화성시 팔탄면 구장리    경기도  화성시  팔탄면   구장리  None\n",
       "2  1111010100        서울특별시 종로구 청운동  서울특별시  종로구  청운동  None  None"
      ]
     },
     "execution_count": 83,
     "metadata": {},
     "output_type": "execute_result"
    }
   ],
   "source": [
    "df2 = df2.rename(columns={0:'ad1', 1:'ad2', 2:'ad3', 3:'ad4', 4:'ad5'})\n",
    "df2.iloc[:3, 40:]"
   ]
  },
  {
   "cell_type": "code",
   "execution_count": 167,
   "metadata": {},
   "outputs": [
    {
     "data": {
      "text/html": [
       "<div>\n",
       "<style scoped>\n",
       "    .dataframe tbody tr th:only-of-type {\n",
       "        vertical-align: middle;\n",
       "    }\n",
       "\n",
       "    .dataframe tbody tr th {\n",
       "        vertical-align: top;\n",
       "    }\n",
       "\n",
       "    .dataframe thead th {\n",
       "        text-align: right;\n",
       "    }\n",
       "</style>\n",
       "<table border=\"1\" class=\"dataframe\">\n",
       "  <thead>\n",
       "    <tr style=\"text-align: right;\">\n",
       "      <th></th>\n",
       "      <th>법정동코드</th>\n",
       "      <th>법정동명</th>\n",
       "      <th>ad1</th>\n",
       "      <th>ad2</th>\n",
       "      <th>ad3</th>\n",
       "      <th>ad4</th>\n",
       "    </tr>\n",
       "  </thead>\n",
       "  <tbody>\n",
       "    <tr>\n",
       "      <th>0</th>\n",
       "      <td>5011010900</td>\n",
       "      <td>제주특별자치도 제주시 용담이동</td>\n",
       "      <td>제주특별자치도</td>\n",
       "      <td>제주시</td>\n",
       "      <td>용담이동</td>\n",
       "      <td>None</td>\n",
       "    </tr>\n",
       "    <tr>\n",
       "      <th>1</th>\n",
       "      <td>1162010100</td>\n",
       "      <td>서울특별시 관악구 봉천동</td>\n",
       "      <td>서울특별시</td>\n",
       "      <td>관악구</td>\n",
       "      <td>봉천동</td>\n",
       "      <td>None</td>\n",
       "    </tr>\n",
       "    <tr>\n",
       "      <th>2</th>\n",
       "      <td>5011012700</td>\n",
       "      <td>제주특별자치도 제주시 도두일동</td>\n",
       "      <td>제주특별자치도</td>\n",
       "      <td>제주시</td>\n",
       "      <td>도두일동</td>\n",
       "      <td>None</td>\n",
       "    </tr>\n",
       "  </tbody>\n",
       "</table>\n",
       "</div>"
      ],
      "text/plain": [
       "        법정동코드              법정동명      ad1  ad2   ad3   ad4\n",
       "0  5011010900  제주특별자치도 제주시 용담이동  제주특별자치도  제주시  용담이동  None\n",
       "1  1162010100     서울특별시 관악구 봉천동    서울특별시  관악구   봉천동  None\n",
       "2  5011012700  제주특별자치도 제주시 도두일동  제주특별자치도  제주시  도두일동  None"
      ]
     },
     "execution_count": 167,
     "metadata": {},
     "output_type": "execute_result"
    }
   ],
   "source": [
    "rent2 = rent2.rename(columns={0:'ad1', 1:'ad2', 2:'ad3', 3:'ad4'})\n",
    "rent2.iloc[:3, 40:]"
   ]
  },
  {
   "cell_type": "code",
   "execution_count": 84,
   "metadata": {},
   "outputs": [
    {
     "data": {
      "text/plain": [
       "array(['충청북도', '경기도', '서울특별시', '제주특별자치도', '인천광역시', '충청남도', '울산광역시',\n",
       "       '대구광역시', '전라북도', '경상북도', '광주광역시', '부산광역시', '전라남도', '경상남도', '강원도',\n",
       "       '대전광역시', '세종특별자치시'], dtype=object)"
      ]
     },
     "execution_count": 84,
     "metadata": {},
     "output_type": "execute_result"
    }
   ],
   "source": [
    "df2['ad1'].unique()"
   ]
  },
  {
   "cell_type": "code",
   "execution_count": 86,
   "metadata": {},
   "outputs": [
    {
     "data": {
      "text/html": [
       "<div>\n",
       "<style scoped>\n",
       "    .dataframe tbody tr th:only-of-type {\n",
       "        vertical-align: middle;\n",
       "    }\n",
       "\n",
       "    .dataframe tbody tr th {\n",
       "        vertical-align: top;\n",
       "    }\n",
       "\n",
       "    .dataframe thead th {\n",
       "        text-align: right;\n",
       "    }\n",
       "</style>\n",
       "<table border=\"1\" class=\"dataframe\">\n",
       "  <thead>\n",
       "    <tr style=\"text-align: right;\">\n",
       "      <th></th>\n",
       "      <th>차량관리번호</th>\n",
       "      <th>차량등록번호</th>\n",
       "      <th>본거지법정동코드</th>\n",
       "      <th>소유자구분</th>\n",
       "      <th>차종_등록정보</th>\n",
       "      <th>용도</th>\n",
       "      <th>차대번호</th>\n",
       "      <th>최초등록일자</th>\n",
       "      <th>차량연식</th>\n",
       "      <th>차량제작일자</th>\n",
       "      <th>...</th>\n",
       "      <th>제원승인일자</th>\n",
       "      <th>구동형식</th>\n",
       "      <th>변속기종류</th>\n",
       "      <th>법정동코드</th>\n",
       "      <th>법정동명</th>\n",
       "      <th>ad1</th>\n",
       "      <th>ad2</th>\n",
       "      <th>ad3</th>\n",
       "      <th>ad4</th>\n",
       "      <th>ad5</th>\n",
       "    </tr>\n",
       "  </thead>\n",
       "  <tbody>\n",
       "    <tr>\n",
       "      <th>0</th>\n",
       "      <td>WBY1Z2102EVZ61650-01</td>\n",
       "      <td>32우3353</td>\n",
       "      <td>1111010100</td>\n",
       "      <td>주민</td>\n",
       "      <td>승용</td>\n",
       "      <td>자가용</td>\n",
       "      <td>WBY1Z2102EVZ61650</td>\n",
       "      <td>20150319</td>\n",
       "      <td>2014</td>\n",
       "      <td>20140506.0</td>\n",
       "      <td>...</td>\n",
       "      <td>20140430</td>\n",
       "      <td>NaN</td>\n",
       "      <td>변속기 없음</td>\n",
       "      <td>1111010100</td>\n",
       "      <td>서울특별시 종로구 청운동</td>\n",
       "      <td>서울특별시</td>\n",
       "      <td>종로구</td>\n",
       "      <td>청운동</td>\n",
       "      <td>None</td>\n",
       "      <td>None</td>\n",
       "    </tr>\n",
       "    <tr>\n",
       "      <th>1</th>\n",
       "      <td>WBY1Z2100FV306274-01</td>\n",
       "      <td>34두0674</td>\n",
       "      <td>1168010600</td>\n",
       "      <td>주민</td>\n",
       "      <td>승용</td>\n",
       "      <td>자가용</td>\n",
       "      <td>WBY1Z2100FV306274</td>\n",
       "      <td>20151016</td>\n",
       "      <td>2015</td>\n",
       "      <td>20150217.0</td>\n",
       "      <td>...</td>\n",
       "      <td>20140829</td>\n",
       "      <td>NaN</td>\n",
       "      <td>변속기 없음</td>\n",
       "      <td>1168010600</td>\n",
       "      <td>서울특별시 강남구 대치동</td>\n",
       "      <td>서울특별시</td>\n",
       "      <td>강남구</td>\n",
       "      <td>대치동</td>\n",
       "      <td>None</td>\n",
       "      <td>None</td>\n",
       "    </tr>\n",
       "    <tr>\n",
       "      <th>2</th>\n",
       "      <td>KMHC751HFJU022113-01</td>\n",
       "      <td>08도7443</td>\n",
       "      <td>1150010400</td>\n",
       "      <td>주민</td>\n",
       "      <td>승용</td>\n",
       "      <td>자가용</td>\n",
       "      <td>KMHC751HFJU022113</td>\n",
       "      <td>20171215</td>\n",
       "      <td>2018</td>\n",
       "      <td>20171201.0</td>\n",
       "      <td>...</td>\n",
       "      <td>20170411</td>\n",
       "      <td>NaN</td>\n",
       "      <td>변속기 없음</td>\n",
       "      <td>1150010400</td>\n",
       "      <td>서울특별시 강서구 가양동</td>\n",
       "      <td>서울특별시</td>\n",
       "      <td>강서구</td>\n",
       "      <td>가양동</td>\n",
       "      <td>None</td>\n",
       "      <td>None</td>\n",
       "    </tr>\n",
       "    <tr>\n",
       "      <th>3</th>\n",
       "      <td>KMHK381GFKU009438-01</td>\n",
       "      <td>39소5069</td>\n",
       "      <td>1174010700</td>\n",
       "      <td>주민</td>\n",
       "      <td>승용</td>\n",
       "      <td>자가용</td>\n",
       "      <td>KMHK381GFKU009438</td>\n",
       "      <td>20181017</td>\n",
       "      <td>2019</td>\n",
       "      <td>20181008.0</td>\n",
       "      <td>...</td>\n",
       "      <td>20180222</td>\n",
       "      <td>전륜구동</td>\n",
       "      <td>변속기 없음</td>\n",
       "      <td>1174010700</td>\n",
       "      <td>서울특별시 강동구 암사동</td>\n",
       "      <td>서울특별시</td>\n",
       "      <td>강동구</td>\n",
       "      <td>암사동</td>\n",
       "      <td>None</td>\n",
       "      <td>None</td>\n",
       "    </tr>\n",
       "    <tr>\n",
       "      <th>4</th>\n",
       "      <td>1G1F76E03J4118855-01</td>\n",
       "      <td>55구1496</td>\n",
       "      <td>1138011400</td>\n",
       "      <td>주민</td>\n",
       "      <td>승용</td>\n",
       "      <td>자가용</td>\n",
       "      <td>1G1F76E03J4118855</td>\n",
       "      <td>20180425</td>\n",
       "      <td>2018</td>\n",
       "      <td>20180226.0</td>\n",
       "      <td>...</td>\n",
       "      <td>20171020</td>\n",
       "      <td>NaN</td>\n",
       "      <td>변속기 없음</td>\n",
       "      <td>1138011400</td>\n",
       "      <td>서울특별시 은평구 진관동</td>\n",
       "      <td>서울특별시</td>\n",
       "      <td>은평구</td>\n",
       "      <td>진관동</td>\n",
       "      <td>None</td>\n",
       "      <td>None</td>\n",
       "    </tr>\n",
       "  </tbody>\n",
       "</table>\n",
       "<p>5 rows × 47 columns</p>\n",
       "</div>"
      ],
      "text/plain": [
       "                 차량관리번호   차량등록번호    본거지법정동코드 소유자구분 차종_등록정보   용도  \\\n",
       "0  WBY1Z2102EVZ61650-01  32우3353  1111010100    주민      승용  자가용   \n",
       "1  WBY1Z2100FV306274-01  34두0674  1168010600    주민      승용  자가용   \n",
       "2  KMHC751HFJU022113-01  08도7443  1150010400    주민      승용  자가용   \n",
       "3  KMHK381GFKU009438-01  39소5069  1174010700    주민      승용  자가용   \n",
       "4  1G1F76E03J4118855-01  55구1496  1138011400    주민      승용  자가용   \n",
       "\n",
       "                차대번호    최초등록일자  차량연식      차량제작일자  ...    제원승인일자  구동형식   변속기종류  \\\n",
       "0  WBY1Z2102EVZ61650  20150319  2014  20140506.0  ...  20140430   NaN  변속기 없음   \n",
       "1  WBY1Z2100FV306274  20151016  2015  20150217.0  ...  20140829   NaN  변속기 없음   \n",
       "2  KMHC751HFJU022113  20171215  2018  20171201.0  ...  20170411   NaN  변속기 없음   \n",
       "3  KMHK381GFKU009438  20181017  2019  20181008.0  ...  20180222  전륜구동  변속기 없음   \n",
       "4  1G1F76E03J4118855  20180425  2018  20180226.0  ...  20171020   NaN  변속기 없음   \n",
       "\n",
       "        법정동코드           법정동명    ad1  ad2  ad3   ad4   ad5  \n",
       "0  1111010100  서울특별시 종로구 청운동  서울특별시  종로구  청운동  None  None  \n",
       "1  1168010600  서울특별시 강남구 대치동  서울특별시  강남구  대치동  None  None  \n",
       "2  1150010400  서울특별시 강서구 가양동  서울특별시  강서구  가양동  None  None  \n",
       "3  1174010700  서울특별시 강동구 암사동  서울특별시  강동구  암사동  None  None  \n",
       "4  1138011400  서울특별시 은평구 진관동  서울특별시  은평구  진관동  None  None  \n",
       "\n",
       "[5 rows x 47 columns]"
      ]
     },
     "execution_count": 86,
     "metadata": {},
     "output_type": "execute_result"
    }
   ],
   "source": [
    "seoul = df2[df2['ad1'] == '서울특별시'].reset_index(drop=True)\n",
    "seoul.head()"
   ]
  },
  {
   "cell_type": "code",
   "execution_count": 87,
   "metadata": {},
   "outputs": [
    {
     "name": "stdout",
     "output_type": "stream",
     "text": [
      "<class 'pandas.core.frame.DataFrame'>\n",
      "RangeIndex: 33032 entries, 0 to 33031\n",
      "Data columns (total 7 columns):\n",
      " #   Column  Non-Null Count  Dtype \n",
      "---  ------  --------------  ----- \n",
      " 0   법정동코드   33032 non-null  int64 \n",
      " 1   법정동명    33032 non-null  object\n",
      " 2   ad1     33032 non-null  object\n",
      " 3   ad2     33032 non-null  object\n",
      " 4   ad3     33032 non-null  object\n",
      " 5   ad4     0 non-null      object\n",
      " 6   ad5     0 non-null      object\n",
      "dtypes: int64(1), object(6)\n",
      "memory usage: 1.8+ MB\n"
     ]
    }
   ],
   "source": [
    "seoul.iloc[:, 40:].info()"
   ]
  },
  {
   "cell_type": "code",
   "execution_count": 99,
   "metadata": {},
   "outputs": [
    {
     "data": {
      "text/plain": [
       "ad1\n",
       "강원도         9327\n",
       "경기도        52619\n",
       "경상남도       15222\n",
       "경상북도       14194\n",
       "광주광역시       6260\n",
       "대구광역시      17280\n",
       "대전광역시       9102\n",
       "부산광역시      14020\n",
       "서울특별시      33032\n",
       "세종특별자치시     2291\n",
       "울산광역시       3555\n",
       "인천광역시      13332\n",
       "전라남도       10570\n",
       "전라북도        9397\n",
       "제주특별자치도    24758\n",
       "충청남도       12868\n",
       "충청북도       11162\n",
       "Name: 차량대수, dtype: int64"
      ]
     },
     "execution_count": 99,
     "metadata": {},
     "output_type": "execute_result"
    }
   ],
   "source": [
    "capit = df2.groupby(['ad1'])['차량관리번호'].count().rename('차량대수')\n",
    "capit"
   ]
  },
  {
   "cell_type": "code",
   "execution_count": 168,
   "metadata": {},
   "outputs": [
    {
     "name": "stdout",
     "output_type": "stream",
     "text": [
      "<class 'pandas.core.frame.DataFrame'>\n",
      "RangeIndex: 15330 entries, 0 to 15329\n",
      "Data columns (total 6 columns):\n",
      " #   Column  Non-Null Count  Dtype \n",
      "---  ------  --------------  ----- \n",
      " 0   법정동코드   15330 non-null  int64 \n",
      " 1   법정동명    15330 non-null  object\n",
      " 2   ad1     15330 non-null  object\n",
      " 3   ad2     15330 non-null  object\n",
      " 4   ad3     15330 non-null  object\n",
      " 5   ad4     0 non-null      object\n",
      "dtypes: int64(1), object(5)\n",
      "memory usage: 718.7+ KB\n"
     ]
    }
   ],
   "source": [
    "rent_seoul = rent2[rent2['ad1'] == '서울특별시'].reset_index(drop=True)\n",
    "rent_seoul.iloc[:, 40:].info()"
   ]
  },
  {
   "cell_type": "code",
   "execution_count": 169,
   "metadata": {},
   "outputs": [
    {
     "data": {
      "text/plain": [
       "ad1\n",
       "강원도          832\n",
       "경기도         3590\n",
       "경상남도        1265\n",
       "경상북도         284\n",
       "광주광역시        506\n",
       "대구광역시       2421\n",
       "대전광역시       1366\n",
       "부산광역시       3184\n",
       "서울특별시      15330\n",
       "세종특별자치시      103\n",
       "울산광역시        626\n",
       "인천광역시       4997\n",
       "전라남도         979\n",
       "전라북도         326\n",
       "제주특별자치도     2864\n",
       "충청남도         430\n",
       "충청북도         513\n",
       "Name: 차량대수, dtype: int64"
      ]
     },
     "execution_count": 169,
     "metadata": {},
     "output_type": "execute_result"
    }
   ],
   "source": [
    "rent_capit = rent2.groupby(['ad1'])['차량관리번호'].count().rename('차량대수')\n",
    "rent_capit"
   ]
  },
  {
   "cell_type": "markdown",
   "metadata": {},
   "source": [
    "##### 수도권 지역 차량대수 파일 출력"
   ]
  },
  {
   "cell_type": "code",
   "execution_count": 101,
   "metadata": {},
   "outputs": [],
   "source": [
    "capit[['서울특별시', '인천광역시', '경기도']].to_excel('data/220819_22.06월기준_1등급_순수전기차_수_수도권.xlsx', encoding='utf-8')"
   ]
  },
  {
   "cell_type": "markdown",
   "metadata": {},
   "source": [
    "##### 지역별 차량대수 파일 출력"
   ]
  },
  {
   "cell_type": "code",
   "execution_count": 102,
   "metadata": {},
   "outputs": [],
   "source": [
    "capit.to_excel('data/220819_22.06월기준_1등급_순수전기차_수_지역별.xlsx', encoding='utf-8')"
   ]
  },
  {
   "cell_type": "code",
   "execution_count": 170,
   "metadata": {},
   "outputs": [],
   "source": [
    "rent_capit.to_excel('data/220819_22.06월기준_1등급_순수전기차_렌터카_수_지역별.xlsx', encoding='utf-8')"
   ]
  },
  {
   "cell_type": "markdown",
   "metadata": {},
   "source": [
    "#### 서울특별시 차량대수 통계"
   ]
  },
  {
   "cell_type": "code",
   "execution_count": 95,
   "metadata": {},
   "outputs": [
    {
     "data": {
      "text/plain": [
       "ad1\n",
       "서울특별시    33032\n",
       "Name: 차량대수, dtype: int64"
      ]
     },
     "execution_count": 95,
     "metadata": {},
     "output_type": "execute_result"
    }
   ],
   "source": [
    "seoul_group_ad1 = seoul.groupby(['ad1'])['차량관리번호'].count().rename('차량대수')\n",
    "seoul_group_ad1"
   ]
  },
  {
   "cell_type": "code",
   "execution_count": 96,
   "metadata": {},
   "outputs": [
    {
     "data": {
      "text/plain": [
       "ad1    ad2 \n",
       "서울특별시  강남구     3498\n",
       "       강동구     1648\n",
       "       강북구      678\n",
       "       강서구     1818\n",
       "       관악구      992\n",
       "       광진구      730\n",
       "       구로구     1156\n",
       "       금천구      728\n",
       "       노원구     1164\n",
       "       도봉구      804\n",
       "       동대문구     788\n",
       "       동작구      899\n",
       "       마포구     1274\n",
       "       서대문구     813\n",
       "       서초구     3484\n",
       "       성동구     1229\n",
       "       성북구     1129\n",
       "       송파구     2392\n",
       "       양천구     1314\n",
       "       영등포구    2003\n",
       "       용산구      896\n",
       "       은평구     1157\n",
       "       종로구      644\n",
       "       중구       766\n",
       "       중랑구     1028\n",
       "Name: 차량대수, dtype: int64"
      ]
     },
     "execution_count": 96,
     "metadata": {},
     "output_type": "execute_result"
    }
   ],
   "source": [
    "seoul_group_ad2 = seoul.groupby(['ad1', 'ad2'])['차량관리번호'].count().rename('차량대수')\n",
    "seoul_group_ad2"
   ]
  },
  {
   "cell_type": "code",
   "execution_count": 97,
   "metadata": {},
   "outputs": [
    {
     "data": {
      "text/plain": [
       "ad1    ad2  ad3\n",
       "서울특별시  강남구  개포동    285\n",
       "            논현동    197\n",
       "            대치동    600\n",
       "            도곡동    288\n",
       "            삼성동    309\n",
       "                  ... \n",
       "       중랑구  면목동    290\n",
       "            묵동     107\n",
       "            상봉동    103\n",
       "            신내동    227\n",
       "            중화동     85\n",
       "Name: 차량대수, Length: 425, dtype: int64"
      ]
     },
     "execution_count": 97,
     "metadata": {},
     "output_type": "execute_result"
    }
   ],
   "source": [
    "seoul_group_ad3 = seoul.groupby(['ad1', 'ad2', 'ad3'])['차량관리번호'].count().rename('차량대수')\n",
    "seoul_group_ad3"
   ]
  },
  {
   "cell_type": "code",
   "execution_count": 171,
   "metadata": {},
   "outputs": [
    {
     "data": {
      "text/plain": [
       "ad1\n",
       "서울특별시    15330\n",
       "Name: 차량대수, dtype: int64"
      ]
     },
     "execution_count": 171,
     "metadata": {},
     "output_type": "execute_result"
    }
   ],
   "source": [
    "rent_seoul_group_ad1 = rent_seoul.groupby(['ad1'])['차량관리번호'].count().rename('차량대수')\n",
    "rent_seoul_group_ad1"
   ]
  },
  {
   "cell_type": "code",
   "execution_count": 172,
   "metadata": {},
   "outputs": [
    {
     "data": {
      "text/plain": [
       "ad1    ad2 \n",
       "서울특별시  강남구     10036\n",
       "       강동구        19\n",
       "       강북구        30\n",
       "       강서구       396\n",
       "       관악구        26\n",
       "       광진구        55\n",
       "       구로구      2940\n",
       "       금천구        18\n",
       "       노원구         1\n",
       "       도봉구         1\n",
       "       동대문구        3\n",
       "       동작구         2\n",
       "       마포구        38\n",
       "       서대문구        6\n",
       "       서초구       325\n",
       "       성동구       426\n",
       "       성북구         1\n",
       "       송파구        59\n",
       "       양천구         3\n",
       "       영등포구      619\n",
       "       용산구         1\n",
       "       은평구         1\n",
       "       종로구        45\n",
       "       중구        265\n",
       "       중랑구        14\n",
       "Name: 차량대수, dtype: int64"
      ]
     },
     "execution_count": 172,
     "metadata": {},
     "output_type": "execute_result"
    }
   ],
   "source": [
    "rent_seoul_group_ad2 = rent_seoul.groupby(['ad1', 'ad2'])['차량관리번호'].count().rename('차량대수')\n",
    "rent_seoul_group_ad2"
   ]
  },
  {
   "cell_type": "code",
   "execution_count": 173,
   "metadata": {},
   "outputs": [
    {
     "data": {
      "text/plain": [
       "ad1    ad2  ad3  \n",
       "서울특별시  강남구  논현동        13\n",
       "            대치동      9876\n",
       "            도곡동         1\n",
       "            삼성동         4\n",
       "            수서동         1\n",
       "                     ... \n",
       "       중구   을지로2가      23\n",
       "            중림동         1\n",
       "            태평로2가     213\n",
       "       중랑구  면목동         1\n",
       "            상봉동        13\n",
       "Name: 차량대수, Length: 70, dtype: int64"
      ]
     },
     "execution_count": 173,
     "metadata": {},
     "output_type": "execute_result"
    }
   ],
   "source": [
    "rent_seoul_group_ad3 = rent_seoul.groupby(['ad1', 'ad2', 'ad3'])['차량관리번호'].count().rename('차량대수')\n",
    "rent_seoul_group_ad3"
   ]
  },
  {
   "cell_type": "markdown",
   "metadata": {},
   "source": [
    "##### 서울특별시 파일 출력"
   ]
  },
  {
   "cell_type": "code",
   "execution_count": 98,
   "metadata": {},
   "outputs": [],
   "source": [
    "# seoul_group_ad1.to_excel('data/220819_22.06월기준_1등급_순수전기차_수_서울1.xlsx', encoding='utf-8')\n",
    "# seoul_group_ad2.to_excel('data/220819_22.06월기준_1등급_순수전기차_수_서울2.xlsx', encoding='utf-8')\n",
    "# seoul_group_ad3.to_excel('data/220819_22.06월기준_1등급_순수전기차_수_서울3.xlsx', encoding='utf-8')"
   ]
  },
  {
   "cell_type": "code",
   "execution_count": 124,
   "metadata": {},
   "outputs": [],
   "source": [
    "seoul_file = pd.ExcelWriter('data/220819_22.06월기준_1등급_순수전기차_수_서울.xlsx', engine='openpyxl')\n",
    "seoul_group_ad1.to_excel(seoul_file, sheet_name='sheet1')\n",
    "seoul_group_ad2.to_excel(seoul_file, sheet_name='sheet2')\n",
    "seoul_group_ad3.to_excel(seoul_file, sheet_name='sheet3')\n",
    "seoul_file.save()"
   ]
  },
  {
   "cell_type": "code",
   "execution_count": 174,
   "metadata": {},
   "outputs": [],
   "source": [
    "rent_seoul_file = pd.ExcelWriter('data/220819_22.06월기준_1등급_순수전기차_렌터카_수_서울.xlsx', engine='openpyxl')\n",
    "rent_seoul_group_ad1.to_excel(rent_seoul_file, sheet_name='sheet1')\n",
    "rent_seoul_group_ad2.to_excel(rent_seoul_file, sheet_name='sheet2')\n",
    "rent_seoul_group_ad3.to_excel(rent_seoul_file, sheet_name='sheet3')\n",
    "rent_seoul_file.save()"
   ]
  },
  {
   "cell_type": "markdown",
   "metadata": {},
   "source": [
    "#### 인천광역시 차량대수 통계"
   ]
  },
  {
   "cell_type": "code",
   "execution_count": 103,
   "metadata": {},
   "outputs": [
    {
     "name": "stdout",
     "output_type": "stream",
     "text": [
      "<class 'pandas.core.frame.DataFrame'>\n",
      "RangeIndex: 13332 entries, 0 to 13331\n",
      "Data columns (total 47 columns):\n",
      " #   Column       Non-Null Count  Dtype  \n",
      "---  ------       --------------  -----  \n",
      " 0   차량관리번호       13332 non-null  object \n",
      " 1   차량등록번호       13332 non-null  object \n",
      " 2   본거지법정동코드     13332 non-null  int64  \n",
      " 3   소유자구분        13332 non-null  object \n",
      " 4   차종_등록정보      13332 non-null  object \n",
      " 5   용도           13332 non-null  object \n",
      " 6   차대번호         13332 non-null  object \n",
      " 7   최초등록일자       13332 non-null  int64  \n",
      " 8   차량연식         13332 non-null  int64  \n",
      " 9   차량제작일자       13332 non-null  float64\n",
      " 10  검사유효일        13332 non-null  int64  \n",
      " 11  제원관리번호       13332 non-null  object \n",
      " 12  배출가스인증번호     6406 non-null   object \n",
      " 13  배출가스등급       13332 non-null  int64  \n",
      " 14  저공해조치종류      0 non-null      float64\n",
      " 15  저공해조치구조변경YN  13332 non-null  object \n",
      " 16  차량말소YN       13332 non-null  object \n",
      " 17  취득일자         13332 non-null  float64\n",
      " 18  취득금액         13332 non-null  float64\n",
      " 19  차명           13332 non-null  object \n",
      " 20  차종_제원정보      13332 non-null  object \n",
      " 21  차종분류         13332 non-null  object \n",
      " 22  차종유형         13332 non-null  object \n",
      " 23  자동차형식        13332 non-null  object \n",
      " 24  제작사명         13332 non-null  object \n",
      " 25  연료           13332 non-null  object \n",
      " 26  엔진형식         13332 non-null  object \n",
      " 27  총중량          13332 non-null  float64\n",
      " 28  적재중량         9743 non-null   float64\n",
      " 29  엔진출력         13332 non-null  float64\n",
      " 30  배기량          13332 non-null  float64\n",
      " 31  승차인원         13332 non-null  int64  \n",
      " 32  차량길이         13332 non-null  int64  \n",
      " 33  차량너비         13332 non-null  int64  \n",
      " 34  차량높이         13332 non-null  int64  \n",
      " 35  원산지명         13332 non-null  object \n",
      " 36  삭제YN         13332 non-null  object \n",
      " 37  제원승인일자       13332 non-null  int64  \n",
      " 38  구동형식         12338 non-null  object \n",
      " 39  변속기종류        13332 non-null  object \n",
      " 40  법정동코드        13332 non-null  int64  \n",
      " 41  법정동명         13332 non-null  object \n",
      " 42  ad1          13332 non-null  object \n",
      " 43  ad2          13332 non-null  object \n",
      " 44  ad3          13332 non-null  object \n",
      " 45  ad4          568 non-null    object \n",
      " 46  ad5          0 non-null      object \n",
      "dtypes: float64(8), int64(11), object(28)\n",
      "memory usage: 4.8+ MB\n"
     ]
    }
   ],
   "source": [
    "incheon = df2[df2['ad1'] == '인천광역시'].reset_index(drop=True)\n",
    "incheon.info()"
   ]
  },
  {
   "cell_type": "code",
   "execution_count": 175,
   "metadata": {},
   "outputs": [
    {
     "name": "stdout",
     "output_type": "stream",
     "text": [
      "<class 'pandas.core.frame.DataFrame'>\n",
      "RangeIndex: 4997 entries, 0 to 4996\n",
      "Data columns (total 46 columns):\n",
      " #   Column       Non-Null Count  Dtype  \n",
      "---  ------       --------------  -----  \n",
      " 0   차량관리번호       4997 non-null   object \n",
      " 1   차량등록번호       4997 non-null   object \n",
      " 2   본거지법정동코드     4997 non-null   int64  \n",
      " 3   소유자구분        4997 non-null   object \n",
      " 4   차종_등록정보      4997 non-null   object \n",
      " 5   용도           4997 non-null   object \n",
      " 6   차대번호         4997 non-null   object \n",
      " 7   최초등록일자       4997 non-null   int64  \n",
      " 8   차량연식         4997 non-null   int64  \n",
      " 9   차량제작일자       4997 non-null   float64\n",
      " 10  검사유효일        4997 non-null   int64  \n",
      " 11  제원관리번호       4997 non-null   object \n",
      " 12  배출가스인증번호     2064 non-null   object \n",
      " 13  배출가스등급       4997 non-null   int64  \n",
      " 14  저공해조치종류      0 non-null      float64\n",
      " 15  저공해조치구조변경YN  4997 non-null   object \n",
      " 16  차량말소YN       4997 non-null   object \n",
      " 17  취득일자         4997 non-null   float64\n",
      " 18  취득금액         4997 non-null   float64\n",
      " 19  차명           4997 non-null   object \n",
      " 20  차종_제원정보      4997 non-null   object \n",
      " 21  차종분류         4997 non-null   object \n",
      " 22  차종유형         4997 non-null   object \n",
      " 23  자동차형식        4997 non-null   object \n",
      " 24  제작사명         4997 non-null   object \n",
      " 25  연료           4997 non-null   object \n",
      " 26  엔진형식         4997 non-null   object \n",
      " 27  총중량          4997 non-null   float64\n",
      " 28  적재중량         2632 non-null   float64\n",
      " 29  엔진출력         4997 non-null   float64\n",
      " 30  배기량          4997 non-null   float64\n",
      " 31  승차인원         4997 non-null   int64  \n",
      " 32  차량길이         4997 non-null   int64  \n",
      " 33  차량너비         4997 non-null   int64  \n",
      " 34  차량높이         4997 non-null   int64  \n",
      " 35  원산지명         4997 non-null   object \n",
      " 36  삭제YN         4997 non-null   object \n",
      " 37  제원승인일자       4997 non-null   int64  \n",
      " 38  구동형식         4342 non-null   object \n",
      " 39  변속기종류        4997 non-null   object \n",
      " 40  법정동코드        4997 non-null   int64  \n",
      " 41  법정동명         4997 non-null   object \n",
      " 42  ad1          4997 non-null   object \n",
      " 43  ad2          4997 non-null   object \n",
      " 44  ad3          4997 non-null   object \n",
      " 45  ad4          7 non-null      object \n",
      "dtypes: float64(8), int64(11), object(27)\n",
      "memory usage: 1.8+ MB\n"
     ]
    }
   ],
   "source": [
    "rent_incheon = rent2[rent2['ad1'] == '인천광역시'].reset_index(drop=True)\n",
    "rent_incheon.info()"
   ]
  },
  {
   "cell_type": "code",
   "execution_count": 104,
   "metadata": {},
   "outputs": [
    {
     "name": "stdout",
     "output_type": "stream",
     "text": [
      "<class 'pandas.core.frame.DataFrame'>\n",
      "RangeIndex: 13332 entries, 0 to 13331\n",
      "Data columns (total 7 columns):\n",
      " #   Column  Non-Null Count  Dtype \n",
      "---  ------  --------------  ----- \n",
      " 0   법정동코드   13332 non-null  int64 \n",
      " 1   법정동명    13332 non-null  object\n",
      " 2   ad1     13332 non-null  object\n",
      " 3   ad2     13332 non-null  object\n",
      " 4   ad3     13332 non-null  object\n",
      " 5   ad4     568 non-null    object\n",
      " 6   ad5     0 non-null      object\n",
      "dtypes: int64(1), object(6)\n",
      "memory usage: 729.2+ KB\n"
     ]
    }
   ],
   "source": [
    "incheon.iloc[:, 40:].info()"
   ]
  },
  {
   "cell_type": "code",
   "execution_count": 177,
   "metadata": {},
   "outputs": [
    {
     "name": "stdout",
     "output_type": "stream",
     "text": [
      "<class 'pandas.core.frame.DataFrame'>\n",
      "RangeIndex: 3 entries, 0 to 2\n",
      "Data columns (total 6 columns):\n",
      " #   Column  Non-Null Count  Dtype \n",
      "---  ------  --------------  ----- \n",
      " 0   법정동코드   3 non-null      int64 \n",
      " 1   법정동명    3 non-null      object\n",
      " 2   ad1     3 non-null      object\n",
      " 3   ad2     3 non-null      object\n",
      " 4   ad3     3 non-null      object\n",
      " 5   ad4     0 non-null      object\n",
      "dtypes: int64(1), object(5)\n",
      "memory usage: 272.0+ bytes\n"
     ]
    }
   ],
   "source": [
    "rent_incheon.iloc[:3, 40:].info()"
   ]
  },
  {
   "cell_type": "code",
   "execution_count": 108,
   "metadata": {},
   "outputs": [
    {
     "data": {
      "text/plain": [
       "ad1\n",
       "인천광역시    13332\n",
       "Name: 차량대수, dtype: int64"
      ]
     },
     "execution_count": 108,
     "metadata": {},
     "output_type": "execute_result"
    }
   ],
   "source": [
    "incheon_group_ad1 = incheon.groupby(['ad1'])['차량관리번호'].count().rename('차량대수')\n",
    "incheon_group_ad1"
   ]
  },
  {
   "cell_type": "code",
   "execution_count": 109,
   "metadata": {},
   "outputs": [
    {
     "data": {
      "text/plain": [
       "ad1    ad2 \n",
       "인천광역시  강화군      608\n",
       "       계양구      843\n",
       "       남동구     2424\n",
       "       동구       180\n",
       "       미추홀구    1217\n",
       "       부평구     1776\n",
       "       서구      2838\n",
       "       연수구     2402\n",
       "       옹진군       89\n",
       "       중구       955\n",
       "Name: 차량대수, dtype: int64"
      ]
     },
     "execution_count": 109,
     "metadata": {},
     "output_type": "execute_result"
    }
   ],
   "source": [
    "incheon_group_ad2 = incheon.groupby(['ad1', 'ad2'])['차량관리번호'].count().rename('차량대수')\n",
    "incheon_group_ad2"
   ]
  },
  {
   "cell_type": "code",
   "execution_count": 110,
   "metadata": {},
   "outputs": [
    {
     "data": {
      "text/plain": [
       "ad1    ad2  ad3  \n",
       "인천광역시  강화군  강화읍      158\n",
       "            교동면       27\n",
       "            길상면       77\n",
       "            내가면       28\n",
       "            불은면       65\n",
       "                    ... \n",
       "       중구   중산동      323\n",
       "            중앙동1가      1\n",
       "            중앙동3가      1\n",
       "            항동6가       2\n",
       "            항동7가      32\n",
       "Name: 차량대수, Length: 134, dtype: int64"
      ]
     },
     "execution_count": 110,
     "metadata": {},
     "output_type": "execute_result"
    }
   ],
   "source": [
    "incheon_group_ad3 = incheon.groupby(['ad1', 'ad2', 'ad3'])['차량관리번호'].count().rename('차량대수')\n",
    "incheon_group_ad3"
   ]
  },
  {
   "cell_type": "code",
   "execution_count": 111,
   "metadata": {},
   "outputs": [
    {
     "data": {
      "text/plain": [
       "ad1    ad2  ad3  ad4\n",
       "인천광역시  강화군  강화읍  갑곳리    26\n",
       "                 관청리    20\n",
       "                 국화리     9\n",
       "                 남산리    14\n",
       "                 대산리     8\n",
       "                        ..\n",
       "       옹진군  영흥면  내리     27\n",
       "                 선재리     5\n",
       "                 외리      5\n",
       "            자월면  승봉리     1\n",
       "                 자월리     3\n",
       "Name: 차량대수, Length: 101, dtype: int64"
      ]
     },
     "execution_count": 111,
     "metadata": {},
     "output_type": "execute_result"
    }
   ],
   "source": [
    "incheon_group_ad4 = incheon.groupby(['ad1', 'ad2', 'ad3', 'ad4'])['차량관리번호'].count().rename('차량대수')\n",
    "incheon_group_ad4"
   ]
  },
  {
   "cell_type": "code",
   "execution_count": 178,
   "metadata": {},
   "outputs": [
    {
     "data": {
      "text/plain": [
       "ad1\n",
       "인천광역시    4997\n",
       "Name: 차량대수, dtype: int64"
      ]
     },
     "execution_count": 178,
     "metadata": {},
     "output_type": "execute_result"
    }
   ],
   "source": [
    "rent_incheon_group_ad1 = rent_incheon.groupby(['ad1'])['차량관리번호'].count().rename('차량대수')\n",
    "rent_incheon_group_ad1"
   ]
  },
  {
   "cell_type": "code",
   "execution_count": 179,
   "metadata": {},
   "outputs": [
    {
     "data": {
      "text/plain": [
       "ad1    ad2 \n",
       "인천광역시  강화군      620\n",
       "       계양구     3619\n",
       "       남동구      298\n",
       "       동구         7\n",
       "       미추홀구      97\n",
       "       부평구      155\n",
       "       서구        54\n",
       "       연수구      112\n",
       "       옹진군       11\n",
       "       중구        24\n",
       "Name: 차량대수, dtype: int64"
      ]
     },
     "execution_count": 179,
     "metadata": {},
     "output_type": "execute_result"
    }
   ],
   "source": [
    "rent_incheon_group_ad2 = rent_incheon.groupby(['ad1', 'ad2'])['차량관리번호'].count().rename('차량대수')\n",
    "rent_incheon_group_ad2"
   ]
  },
  {
   "cell_type": "code",
   "execution_count": 180,
   "metadata": {},
   "outputs": [
    {
     "data": {
      "text/plain": [
       "ad1    ad2   ad3 \n",
       "인천광역시  강화군   강화읍        1\n",
       "             선원면      619\n",
       "       계양구   계산동     3610\n",
       "             용종동        1\n",
       "             작전동        8\n",
       "       남동구   구월동      257\n",
       "             논현동       41\n",
       "       동구    송림동        6\n",
       "             송현동        1\n",
       "       미추홀구  도화동       81\n",
       "             용현동        2\n",
       "             주안동       14\n",
       "       부평구   부개동        4\n",
       "             부평동      141\n",
       "             삼산동        4\n",
       "             일신동        3\n",
       "             청천동        3\n",
       "       서구    가좌동       11\n",
       "             금곡동        2\n",
       "             백석동        1\n",
       "             석남동        1\n",
       "             심곡동       10\n",
       "             청라동       29\n",
       "       연수구   송도동       53\n",
       "             청학동       59\n",
       "       옹진군   영흥면        4\n",
       "             자월면        7\n",
       "       중구    중산동        2\n",
       "             항동7가      22\n",
       "Name: 차량대수, dtype: int64"
      ]
     },
     "execution_count": 180,
     "metadata": {},
     "output_type": "execute_result"
    }
   ],
   "source": [
    "rent_incheon_group_ad3 = rent_incheon.groupby(['ad1', 'ad2', 'ad3'])['차량관리번호'].count().rename('차량대수')\n",
    "rent_incheon_group_ad3"
   ]
  },
  {
   "cell_type": "markdown",
   "metadata": {},
   "source": [
    "##### 인천광역시 지역별 차량대수 파일 출력"
   ]
  },
  {
   "cell_type": "code",
   "execution_count": 112,
   "metadata": {},
   "outputs": [],
   "source": [
    "# incheon_group_ad1.to_excel('data/220819_22.06월기준_1등급_순수전기차_수_인천1.xlsx')\n",
    "# incheon_group_ad2.to_excel('data/220819_22.06월기준_1등급_순수전기차_수_인천2.xlsx')\n",
    "# incheon_group_ad3.to_excel('data/220819_22.06월기준_1등급_순수전기차_수_인천3.xlsx')\n",
    "# incheon_group_ad4.to_excel('data/220819_22.06월기준_1등급_순수전기차_수_인천4.xlsx')"
   ]
  },
  {
   "cell_type": "code",
   "execution_count": 125,
   "metadata": {},
   "outputs": [],
   "source": [
    "incheon_file = pd.ExcelWriter('data/220819_22.06월기준_1등급_순수전기차_수_인천.xlsx', engine='openpyxl')\n",
    "incheon_group_ad1.to_excel(incheon_file, sheet_name='sheet1')\n",
    "incheon_group_ad2.to_excel(incheon_file, sheet_name='sheet2')\n",
    "incheon_group_ad3.to_excel(incheon_file, sheet_name='sheet3')\n",
    "incheon_group_ad4.to_excel(incheon_file, sheet_name='sheet4')\n",
    "incheon_file.save()"
   ]
  },
  {
   "cell_type": "code",
   "execution_count": 181,
   "metadata": {},
   "outputs": [],
   "source": [
    "rent_incheon_file = pd.ExcelWriter('data/220819_22.06월기준_1등급_순수전기차_렌터카_수_인천.xlsx', engine='openpyxl')\n",
    "rent_incheon_group_ad1.to_excel(rent_incheon_file, sheet_name='sheet1')\n",
    "rent_incheon_group_ad2.to_excel(rent_incheon_file, sheet_name='sheet2')\n",
    "rent_incheon_group_ad3.to_excel(rent_incheon_file, sheet_name='sheet3')\n",
    "rent_incheon_file.save()"
   ]
  },
  {
   "cell_type": "markdown",
   "metadata": {},
   "source": [
    "### 경기도 차량대수 통계"
   ]
  },
  {
   "cell_type": "code",
   "execution_count": 115,
   "metadata": {},
   "outputs": [
    {
     "name": "stdout",
     "output_type": "stream",
     "text": [
      "<class 'pandas.core.frame.DataFrame'>\n",
      "RangeIndex: 52619 entries, 0 to 52618\n",
      "Data columns (total 47 columns):\n",
      " #   Column       Non-Null Count  Dtype  \n",
      "---  ------       --------------  -----  \n",
      " 0   차량관리번호       52619 non-null  object \n",
      " 1   차량등록번호       52619 non-null  object \n",
      " 2   본거지법정동코드     52619 non-null  int64  \n",
      " 3   소유자구분        52619 non-null  object \n",
      " 4   차종_등록정보      52619 non-null  object \n",
      " 5   용도           52619 non-null  object \n",
      " 6   차대번호         52619 non-null  object \n",
      " 7   최초등록일자       52619 non-null  int64  \n",
      " 8   차량연식         52619 non-null  int64  \n",
      " 9   차량제작일자       52619 non-null  float64\n",
      " 10  검사유효일        52619 non-null  int64  \n",
      " 11  제원관리번호       52619 non-null  object \n",
      " 12  배출가스인증번호     26186 non-null  object \n",
      " 13  배출가스등급       52619 non-null  int64  \n",
      " 14  저공해조치종류      0 non-null      float64\n",
      " 15  저공해조치구조변경YN  52619 non-null  object \n",
      " 16  차량말소YN       52619 non-null  object \n",
      " 17  취득일자         52619 non-null  float64\n",
      " 18  취득금액         52619 non-null  float64\n",
      " 19  차명           52619 non-null  object \n",
      " 20  차종_제원정보      52619 non-null  object \n",
      " 21  차종분류         52619 non-null  object \n",
      " 22  차종유형         52619 non-null  object \n",
      " 23  자동차형식        52619 non-null  object \n",
      " 24  제작사명         52619 non-null  object \n",
      " 25  연료           52619 non-null  object \n",
      " 26  엔진형식         52619 non-null  object \n",
      " 27  총중량          52619 non-null  float64\n",
      " 28  적재중량         38352 non-null  float64\n",
      " 29  엔진출력         52619 non-null  float64\n",
      " 30  배기량          52619 non-null  float64\n",
      " 31  승차인원         52619 non-null  int64  \n",
      " 32  차량길이         52619 non-null  int64  \n",
      " 33  차량너비         52619 non-null  int64  \n",
      " 34  차량높이         52619 non-null  int64  \n",
      " 35  원산지명         52619 non-null  object \n",
      " 36  삭제YN         52619 non-null  object \n",
      " 37  제원승인일자       52619 non-null  int64  \n",
      " 38  구동형식         47313 non-null  object \n",
      " 39  변속기종류        52619 non-null  object \n",
      " 40  법정동코드        52619 non-null  int64  \n",
      " 41  법정동명         52619 non-null  object \n",
      " 42  ad1          52619 non-null  object \n",
      " 43  ad2          52619 non-null  object \n",
      " 44  ad3          52619 non-null  object \n",
      " 45  ad4          28863 non-null  object \n",
      " 46  ad5          650 non-null    object \n",
      "dtypes: float64(8), int64(11), object(28)\n",
      "memory usage: 18.9+ MB\n"
     ]
    }
   ],
   "source": [
    "gyeonggi = df2[df2['ad1'] == '경기도'].reset_index(drop=True)\n",
    "gyeonggi.info()"
   ]
  },
  {
   "cell_type": "code",
   "execution_count": 117,
   "metadata": {},
   "outputs": [
    {
     "name": "stdout",
     "output_type": "stream",
     "text": [
      "<class 'pandas.core.frame.DataFrame'>\n",
      "RangeIndex: 3 entries, 0 to 2\n",
      "Data columns (total 7 columns):\n",
      " #   Column  Non-Null Count  Dtype \n",
      "---  ------  --------------  ----- \n",
      " 0   법정동코드   3 non-null      int64 \n",
      " 1   법정동명    3 non-null      object\n",
      " 2   ad1     3 non-null      object\n",
      " 3   ad2     3 non-null      object\n",
      " 4   ad3     3 non-null      object\n",
      " 5   ad4     3 non-null      object\n",
      " 6   ad5     0 non-null      object\n",
      "dtypes: int64(1), object(6)\n",
      "memory usage: 296.0+ bytes\n"
     ]
    }
   ],
   "source": [
    "gyeonggi.iloc[:3, 40:].info()"
   ]
  },
  {
   "cell_type": "code",
   "execution_count": 182,
   "metadata": {},
   "outputs": [
    {
     "name": "stdout",
     "output_type": "stream",
     "text": [
      "<class 'pandas.core.frame.DataFrame'>\n",
      "RangeIndex: 3590 entries, 0 to 3589\n",
      "Data columns (total 6 columns):\n",
      " #   Column  Non-Null Count  Dtype \n",
      "---  ------  --------------  ----- \n",
      " 0   법정동코드   3590 non-null   int64 \n",
      " 1   법정동명    3590 non-null   object\n",
      " 2   ad1     3590 non-null   object\n",
      " 3   ad2     3590 non-null   object\n",
      " 4   ad3     3590 non-null   object\n",
      " 5   ad4     2227 non-null   object\n",
      "dtypes: int64(1), object(5)\n",
      "memory usage: 168.4+ KB\n"
     ]
    }
   ],
   "source": [
    "rent_gyeonggi = rent2[rent2['ad1'] == '경기도'].reset_index(drop=True)\n",
    "rent_gyeonggi.iloc[:, 40:].info()"
   ]
  },
  {
   "cell_type": "code",
   "execution_count": 183,
   "metadata": {},
   "outputs": [
    {
     "name": "stdout",
     "output_type": "stream",
     "text": [
      "<class 'pandas.core.frame.DataFrame'>\n",
      "RangeIndex: 3 entries, 0 to 2\n",
      "Data columns (total 6 columns):\n",
      " #   Column  Non-Null Count  Dtype \n",
      "---  ------  --------------  ----- \n",
      " 0   법정동코드   3 non-null      int64 \n",
      " 1   법정동명    3 non-null      object\n",
      " 2   ad1     3 non-null      object\n",
      " 3   ad2     3 non-null      object\n",
      " 4   ad3     3 non-null      object\n",
      " 5   ad4     2 non-null      object\n",
      "dtypes: int64(1), object(5)\n",
      "memory usage: 272.0+ bytes\n"
     ]
    }
   ],
   "source": [
    "rent_gyeonggi.iloc[:3, 40:].info()"
   ]
  },
  {
   "cell_type": "code",
   "execution_count": 118,
   "metadata": {},
   "outputs": [
    {
     "data": {
      "text/plain": [
       "ad1\n",
       "경기도    52619\n",
       "Name: 차량대수, dtype: int64"
      ]
     },
     "execution_count": 118,
     "metadata": {},
     "output_type": "execute_result"
    }
   ],
   "source": [
    "gyeonggi_group_ad1 = gyeonggi.groupby(['ad1'])['차량관리번호'].count().rename('차량대수')\n",
    "gyeonggi_group_ad1"
   ]
  },
  {
   "cell_type": "code",
   "execution_count": 119,
   "metadata": {},
   "outputs": [
    {
     "data": {
      "text/plain": [
       "ad1  ad2 \n",
       "경기도  가평군      331\n",
       "     고양시     4103\n",
       "     과천시      464\n",
       "     광명시      911\n",
       "     광주시     1516\n",
       "     구리시      515\n",
       "     군포시      808\n",
       "     김포시     2991\n",
       "     남양주시    2758\n",
       "     동두천시     350\n",
       "     부천시     2207\n",
       "     성남시     4050\n",
       "     수원시     4552\n",
       "     시흥시     1456\n",
       "     안산시     2024\n",
       "     안성시      826\n",
       "     안양시     1661\n",
       "     양주시     1186\n",
       "     양평군      820\n",
       "     여주시      602\n",
       "     연천군      316\n",
       "     오산시      633\n",
       "     용인시     4750\n",
       "     의왕시      720\n",
       "     의정부시    1179\n",
       "     이천시      972\n",
       "     파주시     2058\n",
       "     평택시     1954\n",
       "     포천시      604\n",
       "     하남시     1793\n",
       "     화성시     3509\n",
       "Name: 차량대수, dtype: int64"
      ]
     },
     "execution_count": 119,
     "metadata": {},
     "output_type": "execute_result"
    }
   ],
   "source": [
    "gyeonggi_group_ad2 = gyeonggi.groupby(['ad1', 'ad2'])['차량관리번호'].count().rename('차량대수')\n",
    "gyeonggi_group_ad2"
   ]
  },
  {
   "cell_type": "code",
   "execution_count": 120,
   "metadata": {},
   "outputs": [
    {
     "data": {
      "text/plain": [
       "ad1  ad2  ad3\n",
       "경기도  가평군  가평읍    105\n",
       "          북면      15\n",
       "          상면      37\n",
       "          설악면     75\n",
       "          조종면     30\n",
       "                ... \n",
       "     화성시  진안동     30\n",
       "          청계동    208\n",
       "          팔탄면     71\n",
       "          향남읍    269\n",
       "          황계동      2\n",
       "Name: 차량대수, Length: 502, dtype: int64"
      ]
     },
     "execution_count": 120,
     "metadata": {},
     "output_type": "execute_result"
    }
   ],
   "source": [
    "gyeonggi_group_ad3 = gyeonggi.groupby(['ad1', 'ad2', 'ad3'])['차량관리번호'].count().rename('차량대수')\n",
    "gyeonggi_group_ad3"
   ]
  },
  {
   "cell_type": "code",
   "execution_count": 121,
   "metadata": {},
   "outputs": [
    {
     "data": {
      "text/plain": [
       "ad1  ad2  ad3  ad4 \n",
       "경기도  가평군  가평읍  개곡리      3\n",
       "               경반리      6\n",
       "               금대리      2\n",
       "               달전리     13\n",
       "               대곡리      4\n",
       "                       ..\n",
       "     화성시  향남읍  증거리      1\n",
       "               평리       4\n",
       "               하길리     73\n",
       "               행정리     66\n",
       "               화리현리     2\n",
       "Name: 차량대수, Length: 1303, dtype: int64"
      ]
     },
     "execution_count": 121,
     "metadata": {},
     "output_type": "execute_result"
    }
   ],
   "source": [
    "gyeonggi_group_ad4 = gyeonggi.groupby(['ad1', 'ad2', 'ad3', 'ad4'])['차량관리번호'].count().rename('차량대수')\n",
    "gyeonggi_group_ad4"
   ]
  },
  {
   "cell_type": "code",
   "execution_count": 188,
   "metadata": {},
   "outputs": [
    {
     "data": {
      "text/plain": [
       "ad1\n",
       "경기도    3590\n",
       "Name: 차량대수, dtype: int64"
      ]
     },
     "execution_count": 188,
     "metadata": {},
     "output_type": "execute_result"
    }
   ],
   "source": [
    "rent_gyeonggi_group_ad1 = rent_gyeonggi.groupby(['ad1'])['차량관리번호'].count().rename('차량대수')\n",
    "rent_gyeonggi_group_ad1"
   ]
  },
  {
   "cell_type": "code",
   "execution_count": 189,
   "metadata": {},
   "outputs": [
    {
     "data": {
      "text/plain": [
       "ad1  ad2 \n",
       "경기도  가평군       1\n",
       "     고양시     671\n",
       "     광명시      10\n",
       "     광주시       1\n",
       "     구리시       1\n",
       "     군포시       9\n",
       "     김포시     308\n",
       "     남양주시      3\n",
       "     부천시     382\n",
       "     성남시     427\n",
       "     수원시     241\n",
       "     시흥시       1\n",
       "     안산시     201\n",
       "     안성시      12\n",
       "     안양시     105\n",
       "     양주시      69\n",
       "     양평군      18\n",
       "     여주시       6\n",
       "     연천군       7\n",
       "     오산시      46\n",
       "     용인시     577\n",
       "     의정부시    251\n",
       "     이천시      24\n",
       "     파주시      17\n",
       "     평택시      31\n",
       "     포천시      22\n",
       "     하남시      63\n",
       "     화성시      86\n",
       "Name: 차량대수, dtype: int64"
      ]
     },
     "execution_count": 189,
     "metadata": {},
     "output_type": "execute_result"
    }
   ],
   "source": [
    "rent_gyeonggi_group_ad2 = rent_gyeonggi.groupby(['ad1', 'ad2'])['차량관리번호'].count().rename('차량대수')\n",
    "rent_gyeonggi_group_ad2"
   ]
  },
  {
   "cell_type": "code",
   "execution_count": 190,
   "metadata": {},
   "outputs": [
    {
     "data": {
      "text/plain": [
       "ad1  ad2  ad3 \n",
       "경기도  가평군  청평면       1\n",
       "     고양시  덕양구      11\n",
       "          일산동구    588\n",
       "          일산서구     72\n",
       "     광명시  철산동      10\n",
       "                 ... \n",
       "     화성시  반월동       3\n",
       "          병점동       5\n",
       "          비봉면      13\n",
       "          우정읍       1\n",
       "          향남읍       3\n",
       "Name: 차량대수, Length: 67, dtype: int64"
      ]
     },
     "execution_count": 190,
     "metadata": {},
     "output_type": "execute_result"
    }
   ],
   "source": [
    "rent_gyeonggi_group_ad3 = rent_gyeonggi.groupby(['ad1', 'ad2', 'ad3'])['차량관리번호'].count().rename('차량대수')\n",
    "rent_gyeonggi_group_ad3"
   ]
  },
  {
   "cell_type": "code",
   "execution_count": 191,
   "metadata": {},
   "outputs": [
    {
     "data": {
      "text/plain": [
       "ad1  ad2   ad3   ad4  \n",
       "경기도  고양시   덕양구   행신동        6\n",
       "                 현천동        5\n",
       "           일산동구  마두동       36\n",
       "                 장항동      552\n",
       "           일산서구  대화동       72\n",
       "     남양주시  조안면   진중리        3\n",
       "     성남시   분당구   구미동       25\n",
       "                 금곡동        6\n",
       "                 백현동      141\n",
       "                 서현동       39\n",
       "                 수내동       81\n",
       "                 야탑동       63\n",
       "                 정자동       60\n",
       "           수정구   창곡동       12\n",
       "     수원시   권선구   고색동        1\n",
       "                 서둔동        2\n",
       "           영통구   매탄동        1\n",
       "                 신동         5\n",
       "                 영통동        5\n",
       "                 원천동        3\n",
       "                 하동         3\n",
       "           장안구   율전동        4\n",
       "                 이목동        2\n",
       "           팔달구   매산로2가     31\n",
       "                 우만동        1\n",
       "                 인계동      183\n",
       "     안산시   단원구   고잔동      109\n",
       "                 초지동        3\n",
       "           상록구   사동        89\n",
       "     안양시   동안구   관양동        3\n",
       "                 평촌동       37\n",
       "                 호계동       63\n",
       "           만안구   안양동        2\n",
       "     용인시   기흥구   구갈동      545\n",
       "                 보정동        1\n",
       "                 서천동        1\n",
       "                 신갈동        3\n",
       "                 영덕동       15\n",
       "           수지구   상현동        2\n",
       "                 죽전동        3\n",
       "                 풍덕천동       1\n",
       "           처인구   모현읍        3\n",
       "                 삼가동        3\n",
       "     화성시   향남읍   행정리        2\n",
       "Name: 차량대수, dtype: int64"
      ]
     },
     "execution_count": 191,
     "metadata": {},
     "output_type": "execute_result"
    }
   ],
   "source": [
    "rent_gyeonggi_group_ad4 = rent_gyeonggi.groupby(['ad1', 'ad2', 'ad3', 'ad4'])['차량관리번호'].count().rename('차량대수')\n",
    "rent_gyeonggi_group_ad4"
   ]
  },
  {
   "cell_type": "markdown",
   "metadata": {},
   "source": [
    "##### 경기도 지역별 차량대수 파일 출력"
   ]
  },
  {
   "cell_type": "code",
   "execution_count": 122,
   "metadata": {},
   "outputs": [],
   "source": [
    "# gyeonggi_group_ad1.to_excel('data/220819_22.06월기준_1등급_순수전기차_수_경기1.xlsx')\n",
    "# gyeonggi_group_ad2.to_excel('data/220819_22.06월기준_1등급_순수전기차_수_경기2.xlsx')\n",
    "# gyeonggi_group_ad3.to_excel('data/220819_22.06월기준_1등급_순수전기차_수_경기3.xlsx')\n",
    "# gyeonggi_group_ad4.to_excel('data/220819_22.06월기준_1등급_순수전기차_수_경기4.xlsx')"
   ]
  },
  {
   "cell_type": "code",
   "execution_count": 126,
   "metadata": {},
   "outputs": [],
   "source": [
    "gyeonggi_file = pd.ExcelWriter('data/220819_22.06월기준_1등급_순수전기차_수_경기.xlsx', engine='openpyxl')\n",
    "gyeonggi_group_ad1.to_excel(gyeonggi_file, sheet_name='sheet1')\n",
    "gyeonggi_group_ad2.to_excel(gyeonggi_file, sheet_name='sheet2')\n",
    "gyeonggi_group_ad3.to_excel(gyeonggi_file, sheet_name='sheet3')\n",
    "gyeonggi_group_ad4.to_excel(gyeonggi_file, sheet_name='sheet4')\n",
    "gyeonggi_file.save()"
   ]
  },
  {
   "cell_type": "code",
   "execution_count": 192,
   "metadata": {},
   "outputs": [],
   "source": [
    "rent_gyeonggi_file = pd.ExcelWriter('data/220819_22.06월기준_1등급_순수전기차_렌터카_수_경기.xlsx', engine='openpyxl')\n",
    "rent_gyeonggi_group_ad1.to_excel(rent_gyeonggi_file, sheet_name='sheet1')\n",
    "rent_gyeonggi_group_ad2.to_excel(rent_gyeonggi_file, sheet_name='sheet2')\n",
    "rent_gyeonggi_group_ad3.to_excel(rent_gyeonggi_file, sheet_name='sheet3')\n",
    "rent_gyeonggi_group_ad4.to_excel(rent_gyeonggi_file, sheet_name='sheet4')\n",
    "rent_gyeonggi_file.save()"
   ]
  },
  {
   "cell_type": "markdown",
   "metadata": {},
   "source": [
    "# 코드 마지막"
   ]
  }
 ],
 "metadata": {
  "kernelspec": {
   "display_name": "Python 3.9.13 ('base')",
   "language": "python",
   "name": "python3"
  },
  "language_info": {
   "codemirror_mode": {
    "name": "ipython",
    "version": 3
   },
   "file_extension": ".py",
   "mimetype": "text/x-python",
   "name": "python",
   "nbconvert_exporter": "python",
   "pygments_lexer": "ipython3",
   "version": "3.9.13"
  },
  "orig_nbformat": 4,
  "vscode": {
   "interpreter": {
    "hash": "ad2bdc8ecc057115af97d19610ffacc2b4e99fae6737bb82f5d7fb13d2f2c186"
   }
  }
 },
 "nbformat": 4,
 "nbformat_minor": 2
}
