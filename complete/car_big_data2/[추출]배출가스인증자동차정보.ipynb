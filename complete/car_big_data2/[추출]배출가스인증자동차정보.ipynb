{
 "cells": [
  {
   "attachments": {},
   "cell_type": "markdown",
   "metadata": {},
   "source": [
    "# Library"
   ]
  },
  {
   "cell_type": "code",
   "execution_count": 1,
   "metadata": {},
   "outputs": [],
   "source": [
    "import pandas as pd\n",
    "import numpy as np\n",
    "import os\n",
    "from tqdm import tqdm"
   ]
  },
  {
   "cell_type": "code",
   "execution_count": 2,
   "metadata": {},
   "outputs": [],
   "source": [
    "# ODS 폴더 경로\n",
    "ods_fold = 'D:/data/big2/ODS'"
   ]
  },
  {
   "attachments": {},
   "cell_type": "markdown",
   "metadata": {},
   "source": [
    "## 배출가스인증자동차정보"
   ]
  },
  {
   "attachments": {},
   "cell_type": "markdown",
   "metadata": {},
   "source": [
    "### columns"
   ]
  },
  {
   "cell_type": "code",
   "execution_count": 5,
   "metadata": {},
   "outputs": [
    {
     "data": {
      "text/plain": [
       "(25, 2)"
      ]
     },
     "execution_count": 5,
     "metadata": {},
     "output_type": "execute_result"
    }
   ],
   "source": [
    "name = 'CEG_EMIS_CERTI_VEH_MIG'\n",
    "file_name = f'[정제]{name}.xlsx'\n",
    "col_exc = pd.read_excel(f'analysis/ODSvsSTD/{file_name}', sheet_name='ODS_col')\n",
    "col_exc.shape"
   ]
  },
  {
   "cell_type": "code",
   "execution_count": 6,
   "metadata": {},
   "outputs": [
    {
     "name": "stdout",
     "output_type": "stream",
     "text": [
      "<class 'pandas.core.frame.DataFrame'>\n",
      "RangeIndex: 25 entries, 0 to 24\n",
      "Data columns (total 2 columns):\n",
      " #   Column  Non-Null Count  Dtype \n",
      "---  ------  --------------  ----- \n",
      " 0   컬럼      25 non-null     object\n",
      " 1   내용      25 non-null     object\n",
      "dtypes: object(2)\n",
      "memory usage: 528.0+ bytes\n"
     ]
    }
   ],
   "source": [
    "col_exc.info()"
   ]
  },
  {
   "cell_type": "code",
   "execution_count": 7,
   "metadata": {},
   "outputs": [
    {
     "data": {
      "text/plain": [
       "{'EMIS_VHCTY': '배출가스 차종',\n",
       " 'EMPV_WGHT': '공차중량',\n",
       " 'PURPS': '용도',\n",
       " 'EMIS_CRTCNO': '배출가스 인증번호',\n",
       " 'EMIS_CRTC_SNO': '배출가스 인증 일련번호',\n",
       " 'DSPLVL': '배기량',\n",
       " 'DRV_FRM': '구동 형식',\n",
       " 'FUEL': '연료',\n",
       " 'EGINTY': '엔진형식',\n",
       " 'EGINPWR': '엔진출력',\n",
       " 'VIN': '차대번호',\n",
       " 'TKCAR_NMPR_INFO': '승차 인원 정보',\n",
       " 'GEARBOX_KND': '변속기 종류',\n",
       " 'STRE_DE': '저장 일자',\n",
       " 'VHCL_LT_INFO': '차량 길이 정보',\n",
       " 'VHCL_WH_INFO': '차량 너비 정보',\n",
       " 'VHCL_HG_INFO': '차량 높이 정보',\n",
       " 'VHCL_YRIDNW': '차량 연식',\n",
       " 'VHCL_SNO': '차량 일련번호',\n",
       " 'VHCNM': '차명',\n",
       " 'TOT_WGHT': '총 중량',\n",
       " 'CAR_FRM': '자동차 형식',\n",
       " 'TIRE_MG_PRE_DTL': '미정',\n",
       " 'TIRE_MG_RR_DTL': '미정',\n",
       " 'RECP_FILE_NM': '미정'}"
      ]
     },
     "execution_count": 7,
     "metadata": {},
     "output_type": "execute_result"
    }
   ],
   "source": [
    "# 필요한 컬럼만 추출\n",
    "col = col_exc['컬럼'].to_list()\n",
    "col_dict = {a:b for a, b in zip(col_exc['컬럼'], col_exc['내용'])}\n",
    "col_dict"
   ]
  },
  {
   "attachments": {},
   "cell_type": "markdown",
   "metadata": {},
   "source": [
    "### [로드] 배출가스인증자동차정보"
   ]
  },
  {
   "cell_type": "code",
   "execution_count": 8,
   "metadata": {},
   "outputs": [
    {
     "name": "stdout",
     "output_type": "stream",
     "text": [
      "<class 'pandas.core.frame.DataFrame'>\n",
      "RangeIndex: 109269 entries, 0 to 109268\n",
      "Data columns (total 25 columns):\n",
      " #   Column           Non-Null Count   Dtype  \n",
      "---  ------           --------------   -----  \n",
      " 0   EMIS_CRTCNO      109269 non-null  object \n",
      " 1   EMIS_CRTC_SNO    109269 non-null  int64  \n",
      " 2   VHCL_SNO         109269 non-null  object \n",
      " 3   VHCNM            109241 non-null  object \n",
      " 4   CAR_FRM          109181 non-null  object \n",
      " 5   VIN              72498 non-null   object \n",
      " 6   EMIS_VHCTY       84041 non-null   object \n",
      " 7   VHCL_YRIDNW      104332 non-null  float64\n",
      " 8   DRV_FRM          91142 non-null   object \n",
      " 9   PURPS            96950 non-null   object \n",
      " 10  GEARBOX_KND      108853 non-null  object \n",
      " 11  EMPV_WGHT        109166 non-null  object \n",
      " 12  TOT_WGHT         109027 non-null  object \n",
      " 13  EGINTY           108279 non-null  object \n",
      " 14  DSPLVL           108249 non-null  float64\n",
      " 15  FUEL             108746 non-null  object \n",
      " 16  EGINPWR          99675 non-null   object \n",
      " 17  VHCL_LT_INFO     102659 non-null  object \n",
      " 18  VHCL_WH_INFO     102662 non-null  object \n",
      " 19  VHCL_HG_INFO     102660 non-null  object \n",
      " 20  TKCAR_NMPR_INFO  82499 non-null   object \n",
      " 21  TIRE_MG_PRE_DTL  76202 non-null   object \n",
      " 22  TIRE_MG_RR_DTL   76172 non-null   object \n",
      " 23  RECP_FILE_NM     109265 non-null  object \n",
      " 24  STRE_DE          109265 non-null  object \n",
      "dtypes: float64(2), int64(1), object(22)\n",
      "memory usage: 20.8+ MB\n"
     ]
    }
   ],
   "source": [
    "# about 1s\n",
    "file_name = f'ODS_{name}.csv'\n",
    "ins = pd.read_csv(os.path.join(ods_fold, file_name), usecols=col, low_memory=False)\n",
    "ins.info()"
   ]
  },
  {
   "cell_type": "code",
   "execution_count": 9,
   "metadata": {},
   "outputs": [
    {
     "name": "stdout",
     "output_type": "stream",
     "text": [
      "<class 'pandas.core.frame.DataFrame'>\n",
      "RangeIndex: 109269 entries, 0 to 109268\n",
      "Data columns (total 25 columns):\n",
      " #   Column           Non-Null Count   Dtype  \n",
      "---  ------           --------------   -----  \n",
      " 0   EMIS_VHCTY       84041 non-null   object \n",
      " 1   EMPV_WGHT        109166 non-null  object \n",
      " 2   PURPS            96950 non-null   object \n",
      " 3   EMIS_CRTCNO      109269 non-null  object \n",
      " 4   EMIS_CRTC_SNO    109269 non-null  int64  \n",
      " 5   DSPLVL           108249 non-null  float64\n",
      " 6   DRV_FRM          91142 non-null   object \n",
      " 7   FUEL             108746 non-null  object \n",
      " 8   EGINTY           108279 non-null  object \n",
      " 9   EGINPWR          99675 non-null   object \n",
      " 10  VIN              72498 non-null   object \n",
      " 11  TKCAR_NMPR_INFO  82499 non-null   object \n",
      " 12  GEARBOX_KND      108853 non-null  object \n",
      " 13  STRE_DE          109265 non-null  object \n",
      " 14  VHCL_LT_INFO     102659 non-null  object \n",
      " 15  VHCL_WH_INFO     102662 non-null  object \n",
      " 16  VHCL_HG_INFO     102660 non-null  object \n",
      " 17  VHCL_YRIDNW      104332 non-null  float64\n",
      " 18  VHCL_SNO         109269 non-null  object \n",
      " 19  VHCNM            109241 non-null  object \n",
      " 20  TOT_WGHT         109027 non-null  object \n",
      " 21  CAR_FRM          109181 non-null  object \n",
      " 22  TIRE_MG_PRE_DTL  76202 non-null   object \n",
      " 23  TIRE_MG_RR_DTL   76172 non-null   object \n",
      " 24  RECP_FILE_NM     109265 non-null  object \n",
      "dtypes: float64(2), int64(1), object(22)\n",
      "memory usage: 20.8+ MB\n"
     ]
    }
   ],
   "source": [
    "ins = ins[col]\n",
    "ins.info()"
   ]
  },
  {
   "cell_type": "code",
   "execution_count": 10,
   "metadata": {},
   "outputs": [],
   "source": [
    "ins.columns = [col_dict[x] for x in ins.columns]"
   ]
  },
  {
   "cell_type": "code",
   "execution_count": 11,
   "metadata": {},
   "outputs": [
    {
     "data": {
      "text/plain": [
       "Index(['배출가스 차종', '공차중량', '용도', '배출가스 인증번호', '배출가스 인증 일련번호', '배기량', '구동 형식',\n",
       "       '연료', '엔진형식', '엔진출력', '차대번호', '승차 인원 정보', '변속기 종류', '저장 일자', '차량 길이 정보',\n",
       "       '차량 너비 정보', '차량 높이 정보', '차량 연식', '차량 일련번호', '차명', '총 중량', '자동차 형식',\n",
       "       '미정', '미정', '미정'],\n",
       "      dtype='object')"
      ]
     },
     "execution_count": 11,
     "metadata": {},
     "output_type": "execute_result"
    }
   ],
   "source": [
    "ins.columns"
   ]
  },
  {
   "cell_type": "code",
   "execution_count": 12,
   "metadata": {},
   "outputs": [],
   "source": [
    "ins = ins[['배출가스 차종', '공차중량', '용도', '배출가스 인증번호', '배출가스 인증 일련번호', '배기량', '구동 형식',\n",
    "       '연료', '엔진형식', '엔진출력', '차대번호', '승차 인원 정보', '변속기 종류', '저장 일자', '차량 길이 정보',\n",
    "       '차량 너비 정보', '차량 높이 정보', '차량 연식', '차량 일련번호', '차명', '총 중량', '자동차 형식',]]"
   ]
  },
  {
   "cell_type": "code",
   "execution_count": 13,
   "metadata": {},
   "outputs": [],
   "source": [
    "ins.columns = ['배출가스차종', '공차중량', '용도', '배출가스인증번호', '배출가스인증일련번호', '배기량', '구동형식',\n",
    "       '연료', '엔진형식', '엔진출력', '차대번호', '승차인원정보', '변속기종류', '저장일자', '차량길이정보',\n",
    "       '차량너비정보', '차량높이정보', '차량연식', '차량일련번호', '차명', '총중량', '자동차형식',]"
   ]
  },
  {
   "attachments": {},
   "cell_type": "markdown",
   "metadata": {},
   "source": [
    "### [출력] 배출가스인증자동차정보"
   ]
  },
  {
   "cell_type": "code",
   "execution_count": 14,
   "metadata": {},
   "outputs": [],
   "source": [
    "# about 1s\n",
    "ins.to_csv(os.path.join(ods_fold, f'[ODS]배출가스인증자동차정보(2022.12.29).csv'), index=False)"
   ]
  },
  {
   "attachments": {},
   "cell_type": "markdown",
   "metadata": {},
   "source": [
    "# 코드 마지막"
   ]
  }
 ],
 "metadata": {
  "kernelspec": {
   "display_name": "base",
   "language": "python",
   "name": "python3"
  },
  "language_info": {
   "codemirror_mode": {
    "name": "ipython",
    "version": 3
   },
   "file_extension": ".py",
   "mimetype": "text/x-python",
   "name": "python",
   "nbconvert_exporter": "python",
   "pygments_lexer": "ipython3",
   "version": "3.9.13"
  },
  "orig_nbformat": 4,
  "vscode": {
   "interpreter": {
    "hash": "ad2bdc8ecc057115af97d19610ffacc2b4e99fae6737bb82f5d7fb13d2f2c186"
   }
  }
 },
 "nbformat": 4,
 "nbformat_minor": 2
}
