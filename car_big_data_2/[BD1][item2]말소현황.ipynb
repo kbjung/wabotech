{
 "cells": [
  {
   "attachments": {},
   "cell_type": "markdown",
   "metadata": {},
   "source": [
    "# Library"
   ]
  },
  {
   "cell_type": "code",
   "execution_count": 1,
   "metadata": {},
   "outputs": [],
   "source": [
    "import pandas as pd\n",
    "import os\n",
    "from datetime import datetime"
   ]
  },
  {
   "cell_type": "code",
   "execution_count": 2,
   "metadata": {},
   "outputs": [],
   "source": [
    "# 소수점 옵션\n",
    "pd.options.display.float_format = '{:.2f}'.format\n",
    "# pd.reset_option('display.float_format')"
   ]
  },
  {
   "attachments": {},
   "cell_type": "markdown",
   "metadata": {},
   "source": [
    "# fold"
   ]
  },
  {
   "cell_type": "code",
   "execution_count": 22,
   "metadata": {},
   "outputs": [],
   "source": [
    "raw1_fold = 'D:/data/big2/BD1/raw'\n",
    "df1_fold = 'D:/data/big2/BD1/df'\n",
    "ods_fold = 'D:/data/big2/ODS'\n",
    "big2_fold = 'D:/data/big2'"
   ]
  },
  {
   "attachments": {},
   "cell_type": "markdown",
   "metadata": {},
   "source": [
    "# 차량 말소 현황"
   ]
  },
  {
   "attachments": {},
   "cell_type": "markdown",
   "metadata": {},
   "source": [
    "# [로드] 전처리 완료 파일"
   ]
  },
  {
   "cell_type": "code",
   "execution_count": 4,
   "metadata": {},
   "outputs": [
    {
     "name": "stdout",
     "output_type": "stream",
     "text": [
      "<class 'pandas.core.frame.DataFrame'>\n",
      "RangeIndex: 3642251 entries, 0 to 3642250\n",
      "Data columns (total 24 columns):\n",
      " #   Column       Dtype  \n",
      "---  ------       -----  \n",
      " 0   차량관리번호       object \n",
      " 1   본거지법정동코드     int64  \n",
      " 2   차종_등록정보      object \n",
      " 3   차대번호         object \n",
      " 4   차량연식         int64  \n",
      " 5   제원관리번호       object \n",
      " 6   배출가스인증번호     object \n",
      " 7   배출가스등급       object \n",
      " 8   차량말소YN_등록정보  object \n",
      " 9   차명           object \n",
      " 10  연료           object \n",
      " 11  등급           object \n",
      " 12  차량말소YN_변경이력  object \n",
      " 13  변경일자         float64\n",
      " 14  변경구분코드       float64\n",
      " 15  법정동코드        int64  \n",
      " 16  시도           object \n",
      " 17  시구군          object \n",
      " 18  읍면동          object \n",
      " 19  리            object \n",
      " 20  지역3          float64\n",
      " 21  폐지여부         object \n",
      " 22  대기관리권역       object \n",
      " 23  대기관리권역YN     object \n",
      "dtypes: float64(3), int64(3), object(18)\n",
      "memory usage: 666.9+ MB\n"
     ]
    }
   ],
   "source": [
    "# about 19.4s\n",
    "name = '말소정보_전처리완료(2023.05.24)'\n",
    "file_name = f'{name}.csv'\n",
    "df = pd.read_csv(os.path.join(ods_fold, file_name), low_memory=False)\n",
    "df.info()"
   ]
  },
  {
   "attachments": {},
   "cell_type": "markdown",
   "metadata": {},
   "source": [
    "## 7\\. 월별 폐차 현황"
   ]
  },
  {
   "cell_type": "code",
   "execution_count": 5,
   "metadata": {},
   "outputs": [
    {
     "data": {
      "text/plain": [
       "(3642251, 24)"
      ]
     },
     "execution_count": 5,
     "metadata": {},
     "output_type": "execute_result"
    }
   ],
   "source": [
    "df.shape"
   ]
  },
  {
   "cell_type": "code",
   "execution_count": 6,
   "metadata": {},
   "outputs": [
    {
     "data": {
      "text/plain": [
       "Index(['차량관리번호', '본거지법정동코드', '차종_등록정보', '차대번호', '차량연식', '제원관리번호', '배출가스인증번호',\n",
       "       '배출가스등급', '차량말소YN_등록정보', '차명', '연료', '등급', '차량말소YN_변경이력', '변경일자',\n",
       "       '변경구분코드', '법정동코드', '시도', '시구군', '읍면동', '리', '지역3', '폐지여부', '대기관리권역',\n",
       "       '대기관리권역YN'],\n",
       "      dtype='object')"
      ]
     },
     "execution_count": 6,
     "metadata": {},
     "output_type": "execute_result"
    }
   ],
   "source": [
    "df.columns"
   ]
  },
  {
   "cell_type": "code",
   "execution_count": 7,
   "metadata": {},
   "outputs": [
    {
     "data": {
      "text/plain": [
       "array(['X', '2.0', '5.0', '3.0', '4.0', '1.0', nan], dtype=object)"
      ]
     },
     "execution_count": 7,
     "metadata": {},
     "output_type": "execute_result"
    }
   ],
   "source": [
    "df['등급'].unique()"
   ]
  },
  {
   "cell_type": "code",
   "execution_count": 10,
   "metadata": {},
   "outputs": [
    {
     "data": {
      "text/plain": [
       "등급\n",
       "3.0    1198427\n",
       "5.0    1189962\n",
       "2.0     783830\n",
       "4.0     366937\n",
       "1.0      88800\n",
       "X        14263\n",
       "NaN         32\n",
       "Name: count, dtype: int64"
      ]
     },
     "execution_count": 10,
     "metadata": {},
     "output_type": "execute_result"
    }
   ],
   "source": [
    "df['등급'].value_counts(dropna=False)"
   ]
  },
  {
   "cell_type": "code",
   "execution_count": 13,
   "metadata": {},
   "outputs": [
    {
     "data": {
      "text/plain": [
       "(366937, 24)"
      ]
     },
     "execution_count": 13,
     "metadata": {},
     "output_type": "execute_result"
    }
   ],
   "source": [
    "df1 = df.loc[df['등급'] == '4.0'].reset_index(drop=True)\n",
    "df1.shape"
   ]
  },
  {
   "attachments": {},
   "cell_type": "markdown",
   "metadata": {},
   "source": [
    "### [출력] 4등급 말소 현황"
   ]
  },
  {
   "cell_type": "code",
   "execution_count": 15,
   "metadata": {},
   "outputs": [
    {
     "data": {
      "text/plain": [
       "Index(['차량관리번호', '본거지법정동코드', '차종_등록정보', '차대번호', '차량연식', '제원관리번호', '배출가스인증번호',\n",
       "       '배출가스등급', '차량말소YN_등록정보', '차명', '연료', '등급', '차량말소YN_변경이력', '변경일자',\n",
       "       '변경구분코드', '법정동코드', '시도', '시구군', '읍면동', '리', '지역3', '폐지여부', '대기관리권역',\n",
       "       '대기관리권역YN'],\n",
       "      dtype='object')"
      ]
     },
     "execution_count": 15,
     "metadata": {},
     "output_type": "execute_result"
    }
   ],
   "source": [
    "df1.columns"
   ]
  },
  {
   "cell_type": "code",
   "execution_count": 16,
   "metadata": {},
   "outputs": [
    {
     "data": {
      "text/plain": [
       "Index(['차대번호', '본거지법정동코드', '연료', '변경일자'], dtype='object')"
      ]
     },
     "execution_count": 16,
     "metadata": {},
     "output_type": "execute_result"
    }
   ],
   "source": [
    "df2 = df1[[\n",
    "    '차대번호', \n",
    "    '본거지법정동코드', \n",
    "    '연료',  \n",
    "    '변경일자',\n",
    "    ]]\n",
    "df2.columns"
   ]
  },
  {
   "cell_type": "code",
   "execution_count": 17,
   "metadata": {},
   "outputs": [],
   "source": [
    "chc_col = {\n",
    "    '차대번호':'VIN', \n",
    "    '본거지법정동코드':'BSPL_STDG_CD',\n",
    "    '연료':'FUEL_CD', \n",
    "    '변경일자':'CHG_YMD', \n",
    "}"
   ]
  },
  {
   "cell_type": "code",
   "execution_count": 18,
   "metadata": {},
   "outputs": [
    {
     "data": {
      "text/plain": [
       "Index(['VIN', 'BSPL_STDG_CD', 'FUEL_CD', 'CHG_YMD'], dtype='object')"
      ]
     },
     "execution_count": 18,
     "metadata": {},
     "output_type": "execute_result"
    }
   ],
   "source": [
    "df2 = df2.rename(columns=chc_col)\n",
    "df2.columns"
   ]
  },
  {
   "cell_type": "code",
   "execution_count": 19,
   "metadata": {},
   "outputs": [
    {
     "data": {
      "text/plain": [
       "(366937, 4)"
      ]
     },
     "execution_count": 19,
     "metadata": {},
     "output_type": "execute_result"
    }
   ],
   "source": [
    "df2.shape"
   ]
  },
  {
   "cell_type": "code",
   "execution_count": 20,
   "metadata": {},
   "outputs": [
    {
     "data": {
      "text/plain": [
       "'2023.05.26_PM.03.45.43'"
      ]
     },
     "execution_count": 20,
     "metadata": {},
     "output_type": "execute_result"
    }
   ],
   "source": [
    "today_date = datetime.today().strftime(\"%Y.%m.%d_%p.%I.%M.%S\")\n",
    "today_date"
   ]
  },
  {
   "cell_type": "code",
   "execution_count": 23,
   "metadata": {},
   "outputs": [],
   "source": [
    "# about 8.7s\n",
    "file_name = f'BD1-2_STD_BD_GRD4_ERSR_RSLT({today_date}).csv'\n",
    "df2.to_csv(os.path.join(df1_fold, file_name), index=False)"
   ]
  },
  {
   "attachments": {},
   "cell_type": "markdown",
   "metadata": {},
   "source": [
    "# 코드 마지막"
   ]
  }
 ],
 "metadata": {
  "kernelspec": {
   "display_name": "base",
   "language": "python",
   "name": "python3"
  },
  "language_info": {
   "codemirror_mode": {
    "name": "ipython",
    "version": 3
   },
   "file_extension": ".py",
   "mimetype": "text/x-python",
   "name": "python",
   "nbconvert_exporter": "python",
   "pygments_lexer": "ipython3",
   "version": "3.9.13"
  },
  "orig_nbformat": 4
 },
 "nbformat": 4,
 "nbformat_minor": 2
}
