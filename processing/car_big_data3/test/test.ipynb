{
 "cells": [
  {
   "cell_type": "markdown",
   "metadata": {},
   "source": [
    "# Library"
   ]
  },
  {
   "cell_type": "code",
   "execution_count": 147,
   "metadata": {},
   "outputs": [],
   "source": [
    "import pandas as pd\n",
    "import os\n",
    "import numpy as np\n",
    "from datetime import datetime"
   ]
  },
  {
   "cell_type": "code",
   "execution_count": 4,
   "metadata": {},
   "outputs": [
    {
     "data": {
      "text/plain": [
       "((2, 3), (2, 3))"
      ]
     },
     "execution_count": 4,
     "metadata": {},
     "output_type": "execute_result"
    }
   ],
   "source": [
    "adf = pd.DataFrame({'시도':['세종', '서울'], '시군구':[np.nan, '종로구'], '대수':[12, 100]})\n",
    "bdf = pd.DataFrame({'시도':['세종', '서울'], '시군구':[np.nan, '종로구'], '대수2':[5, 10]})\n",
    "adf.shape, bdf.shape"
   ]
  },
  {
   "cell_type": "code",
   "execution_count": 5,
   "metadata": {},
   "outputs": [
    {
     "data": {
      "text/html": [
       "<div>\n",
       "<style scoped>\n",
       "    .dataframe tbody tr th:only-of-type {\n",
       "        vertical-align: middle;\n",
       "    }\n",
       "\n",
       "    .dataframe tbody tr th {\n",
       "        vertical-align: top;\n",
       "    }\n",
       "\n",
       "    .dataframe thead th {\n",
       "        text-align: right;\n",
       "    }\n",
       "</style>\n",
       "<table border=\"1\" class=\"dataframe\">\n",
       "  <thead>\n",
       "    <tr style=\"text-align: right;\">\n",
       "      <th></th>\n",
       "      <th>시도</th>\n",
       "      <th>시군구</th>\n",
       "      <th>대수</th>\n",
       "      <th>대수2</th>\n",
       "    </tr>\n",
       "  </thead>\n",
       "  <tbody>\n",
       "    <tr>\n",
       "      <th>0</th>\n",
       "      <td>세종</td>\n",
       "      <td>NaN</td>\n",
       "      <td>12</td>\n",
       "      <td>5</td>\n",
       "    </tr>\n",
       "    <tr>\n",
       "      <th>1</th>\n",
       "      <td>서울</td>\n",
       "      <td>종로구</td>\n",
       "      <td>100</td>\n",
       "      <td>10</td>\n",
       "    </tr>\n",
       "  </tbody>\n",
       "</table>\n",
       "</div>"
      ],
      "text/plain": [
       "   시도  시군구   대수  대수2\n",
       "0  세종  NaN   12    5\n",
       "1  서울  종로구  100   10"
      ]
     },
     "execution_count": 5,
     "metadata": {},
     "output_type": "execute_result"
    }
   ],
   "source": [
    "tdf = adf.merge(bdf, on=['시도', '시군구'], how='left')\n",
    "tdf"
   ]
  },
  {
   "cell_type": "markdown",
   "metadata": {},
   "source": [
    "# Folders"
   ]
  },
  {
   "cell_type": "code",
   "execution_count": 9,
   "metadata": {},
   "outputs": [
    {
     "data": {
      "text/plain": [
       "{'fold': 'D:/data/big3',\n",
       " 'raw_fold': 'D:/data/big3/raw',\n",
       " 'an_fold': 'D:/data/big3/analysis',\n",
       " 'df_fold': 'D:/data/big3/df'}"
      ]
     },
     "execution_count": 9,
     "metadata": {},
     "output_type": "execute_result"
    }
   ],
   "source": [
    "fold = 'D:/data/big3'\n",
    "raw_fold = 'D:/data/big3/raw'\n",
    "raw4_fold = 'D:/data/processing/big3/raw/BD4'\n",
    "an_fold = 'D:/data/big3/analysis'\n",
    "df_fold = 'D:/data/big3/df'\n",
    "folds = {'fold':fold, 'raw_fold':raw_fold, 'an_fold':an_fold, 'df_fold':df_fold}\n",
    "folds"
   ]
  },
  {
   "cell_type": "markdown",
   "metadata": {},
   "source": [
    "# Load"
   ]
  },
  {
   "cell_type": "markdown",
   "metadata": {},
   "source": [
    "## 전문정비(TB_ERR_RES)"
   ]
  },
  {
   "cell_type": "code",
   "execution_count": 3,
   "metadata": {},
   "outputs": [
    {
     "name": "stdout",
     "output_type": "stream",
     "text": [
      "<class 'pandas.core.frame.DataFrame'>\n",
      "RangeIndex: 54617 entries, 0 to 54616\n",
      "Data columns (total 16 columns):\n",
      " #   Column                 Non-Null Count  Dtype  \n",
      "---  ------                 --------------  -----  \n",
      " 0   DRVNG_DSTNC            54617 non-null  float64\n",
      " 1   VHRNO                  54617 non-null  object \n",
      " 2   VIN                    51051 non-null  object \n",
      " 3   LOD_COX_MEVLU          53884 non-null  object \n",
      " 4   LOD_HC_MEVLU           53886 non-null  object \n",
      " 5   LOD_NOX_MEVLU          53883 non-null  object \n",
      " 6   LOD_SMO_MEVLU          53941 non-null  object \n",
      " 7   LOD_TQ_MEVLU           53819 non-null  object \n",
      " 8   OVHUL_YMD              54617 non-null  int64  \n",
      " 9   SPCY_OVHUL_BIZPLC_NM   54617 non-null  object \n",
      " 10  OVHUL_RCPT_NO          54617 non-null  int64  \n",
      " 11  PRCINSP_RINSP_RCPT_NO  54617 non-null  object \n",
      " 12  NOLOD_COX_MEVLU        53870 non-null  object \n",
      " 13  NOLOD_HC_MEVLU         53871 non-null  object \n",
      " 14  NOLOD_AIR_EXCRT_MEVLU  28484 non-null  object \n",
      " 15  NOLOD_SMO_MEVLU        50992 non-null  object \n",
      "dtypes: float64(1), int64(2), object(13)\n",
      "memory usage: 6.7+ MB\n"
     ]
    }
   ],
   "source": [
    "name = 'STD_TB_ERR_RES(20230918)'\n",
    "file_name = f'{name}.csv'\n",
    "res = pd.read_csv(os.path.join(raw_fold, file_name))\n",
    "res.info()"
   ]
  },
  {
   "cell_type": "code",
   "execution_count": 4,
   "metadata": {},
   "outputs": [
    {
     "data": {
      "text/plain": [
       "['DRVNG_DSTNC',\n",
       " 'VHRNO',\n",
       " 'VIN',\n",
       " 'LOD_COX_MEVLU',\n",
       " 'LOD_HC_MEVLU',\n",
       " 'LOD_NOX_MEVLU',\n",
       " 'LOD_SMO_MEVLU',\n",
       " 'LOD_TQ_MEVLU',\n",
       " 'OVHUL_YMD',\n",
       " 'SPCY_OVHUL_BIZPLC_NM',\n",
       " 'OVHUL_RCPT_NO',\n",
       " 'PRCINSP_RINSP_RCPT_NO',\n",
       " 'NOLOD_COX_MEVLU',\n",
       " 'NOLOD_HC_MEVLU',\n",
       " 'NOLOD_AIR_EXCRT_MEVLU',\n",
       " 'NOLOD_SMO_MEVLU']"
      ]
     },
     "execution_count": 4,
     "metadata": {},
     "output_type": "execute_result"
    }
   ],
   "source": [
    "res.columns.to_list()"
   ]
  },
  {
   "cell_type": "code",
   "execution_count": 5,
   "metadata": {},
   "outputs": [
    {
     "data": {
      "text/plain": [
       "Index(['주행거리', '자동차등록번호', '차대번호', '부하_일산화탄소_측정치', '부하_탄화수소_측정치',\n",
       "       '부하_질소산화물_측정치', '부하_매연_측정치', '부하_토크_측정치', '정비일자', '전문정비사업소명', '정비접수번호',\n",
       "       '정밀재검사접수번호', '무부하_일산화탄소_측정치', '무부하_탄화수소_측정치', '무부하_공기과잉률_측정치',\n",
       "       '무부하_매연_측정치'],\n",
       "      dtype='object')"
      ]
     },
     "execution_count": 5,
     "metadata": {},
     "output_type": "execute_result"
    }
   ],
   "source": [
    "cdict = {\n",
    "    'DRVNG_DSTNC':'주행거리',\n",
    "    'VHRNO':'자동차등록번호',\n",
    "    'VIN':'차대번호',\n",
    "    'LOD_COX_MEVLU':'부하_일산화탄소_측정치',\n",
    "    'LOD_HC_MEVLU':'부하_탄화수소_측정치',\n",
    "    'LOD_NOX_MEVLU':'부하_질소산화물_측정치',\n",
    "    'LOD_SMO_MEVLU':'부하_매연_측정치',\n",
    "    'LOD_TQ_MEVLU':'부하_토크_측정치',\n",
    "    'OVHUL_YMD':'정비일자',\n",
    "    'SPCY_OVHUL_BIZPLC_NM':'전문정비사업소명',\n",
    "    'OVHUL_RCPT_NO':'정비접수번호',\n",
    "    'PRCINSP_RINSP_RCPT_NO':'정밀재검사접수번호',\n",
    "    'NOLOD_COX_MEVLU':'무부하_일산화탄소_측정치',\n",
    "    'NOLOD_HC_MEVLU':'무부하_탄화수소_측정치',\n",
    "    'NOLOD_AIR_EXCRT_MEVLU':'무부하_공기과잉률_측정치',\n",
    "    'NOLOD_SMO_MEVLU':'무부하_매연_측정치', \n",
    "}\n",
    "resr = res.rename(columns=cdict)\n",
    "resr.columns"
   ]
  },
  {
   "cell_type": "markdown",
   "metadata": {},
   "source": [
    "## 전문정비 상세(TB_ERR_RES_DET)"
   ]
  },
  {
   "cell_type": "code",
   "execution_count": 6,
   "metadata": {},
   "outputs": [
    {
     "name": "stdout",
     "output_type": "stream",
     "text": [
      "<class 'pandas.core.frame.DataFrame'>\n",
      "RangeIndex: 106819 entries, 0 to 106818\n",
      "Data columns (total 8 columns):\n",
      " #   Column                 Non-Null Count   Dtype  \n",
      "---  ------                 --------------   -----  \n",
      " 0   VHRNO                  106818 non-null  object \n",
      " 1   VIN                    94670 non-null   object \n",
      " 2   OVHUL_CN               106817 non-null  object \n",
      " 3   OVHUL_YMD              106818 non-null  float64\n",
      " 4   SPCY_OVHUL_BIZPLC_NM   106818 non-null  object \n",
      " 5   OVHUL_CMPNT_NM         106817 non-null  object \n",
      " 6   OVHUL_RCPT_NO          106818 non-null  float64\n",
      " 7   PRCINSP_RINSP_RCPT_NO  0 non-null       float64\n",
      "dtypes: float64(3), object(5)\n",
      "memory usage: 6.5+ MB\n"
     ]
    }
   ],
   "source": [
    "name = 'STD_TB_ERR_RES_DET(20230918)'\n",
    "file_name = f'{name}.csv'\n",
    "rdt = pd.read_csv(os.path.join(raw_fold, file_name))\n",
    "rdt.info()"
   ]
  },
  {
   "cell_type": "code",
   "execution_count": 7,
   "metadata": {},
   "outputs": [
    {
     "data": {
      "text/plain": [
       "['VHRNO',\n",
       " 'VIN',\n",
       " 'OVHUL_CN',\n",
       " 'OVHUL_YMD',\n",
       " 'SPCY_OVHUL_BIZPLC_NM',\n",
       " 'OVHUL_CMPNT_NM',\n",
       " 'OVHUL_RCPT_NO',\n",
       " 'PRCINSP_RINSP_RCPT_NO']"
      ]
     },
     "execution_count": 7,
     "metadata": {},
     "output_type": "execute_result"
    }
   ],
   "source": [
    "rdt.columns.to_list()"
   ]
  },
  {
   "cell_type": "code",
   "execution_count": 8,
   "metadata": {},
   "outputs": [
    {
     "data": {
      "text/plain": [
       "Index(['자동차등록번호', '차대번호', '정비내용', '정비일자', '전문정비사업소명', '정비부품명', '정비접수번호',\n",
       "       '정밀재검사접수번호'],\n",
       "      dtype='object')"
      ]
     },
     "execution_count": 8,
     "metadata": {},
     "output_type": "execute_result"
    }
   ],
   "source": [
    "cdict = {\n",
    "    'VHRNO':'자동차등록번호',\n",
    "    'VIN':'차대번호',\n",
    "    'OVHUL_CN':'정비내용',\n",
    "    'OVHUL_YMD':'정비일자',\n",
    "    'SPCY_OVHUL_BIZPLC_NM':'전문정비사업소명',\n",
    "    'OVHUL_CMPNT_NM':'정비부품명',\n",
    "    'OVHUL_RCPT_NO':'정비접수번호',\n",
    "    'PRCINSP_RINSP_RCPT_NO':'정밀재검사접수번호', \n",
    "}\n",
    "rdtr = rdt.rename(columns=cdict)\n",
    "rdtr.columns"
   ]
  },
  {
   "cell_type": "code",
   "execution_count": 9,
   "metadata": {},
   "outputs": [
    {
     "data": {
      "text/plain": [
       "{'자동차등록번호', '전문정비사업소명', '정밀재검사접수번호', '정비일자', '정비접수번호', '차대번호'}"
      ]
     },
     "execution_count": 9,
     "metadata": {},
     "output_type": "execute_result"
    }
   ],
   "source": [
    "set(resr.columns) & set(rdtr.columns)"
   ]
  },
  {
   "cell_type": "markdown",
   "metadata": {},
   "source": [
    "## 전문정비사업자_2회부적합정비결과등록_(20200101~20230731)_v10"
   ]
  },
  {
   "cell_type": "code",
   "execution_count": 10,
   "metadata": {},
   "outputs": [
    {
     "name": "stdout",
     "output_type": "stream",
     "text": [
      "<class 'pandas.core.frame.DataFrame'>\n",
      "RangeIndex: 26102 entries, 0 to 26101\n",
      "Data columns (total 71 columns):\n",
      " #   Column          Non-Null Count  Dtype  \n",
      "---  ------          --------------  -----  \n",
      " 0   No              26102 non-null  int64  \n",
      " 1   접수번호            26102 non-null  object \n",
      " 2   정비일자            26102 non-null  object \n",
      " 3   차대번호            26102 non-null  object \n",
      " 4   차량번호            26102 non-null  object \n",
      " 5   차량소유자명          26102 non-null  object \n",
      " 6   차종              26102 non-null  object \n",
      " 7   차명              26102 non-null  object \n",
      " 8   차량연료            26102 non-null  object \n",
      " 9   차량연식(년도)        26102 non-null  object \n",
      " 10  차량용도            26102 non-null  object \n",
      " 11  차령(년수)          26102 non-null  object \n",
      " 12  주행거리(km)        26102 non-null  object \n",
      " 13  차량중량(kg)        26102 non-null  object \n",
      " 14  총중량(kg)         26096 non-null  object \n",
      " 15  엔진출력(ps/rpm)    26102 non-null  object \n",
      " 16  엔진형식            26102 non-null  object \n",
      " 17  엔진배기량(cc)       26102 non-null  int64  \n",
      " 18  제작일자            26102 non-null  object \n",
      " 19  최초등록일자          26102 non-null  object \n",
      " 20  정밀검사만료일자        26102 non-null  object \n",
      " 21  시도(차량소유자)       26102 non-null  object \n",
      " 22  시군구(차량소유자)      25815 non-null  object \n",
      " 23  시도(전문정비사업자)     25989 non-null  object \n",
      " 24  시군구(전문정비사업자)    25455 non-null  object \n",
      " 25  보증기간(년수)        26102 non-null  int64  \n",
      " 26  보증기간(km)        26102 non-null  object \n",
      " 27  보증수리여부          26102 non-null  object \n",
      " 28  과실여부            26102 non-null  object \n",
      " 29  정비책임자명          26102 non-null  object \n",
      " 30  전문정비업체명         26102 non-null  object \n",
      " 31  정비여부            26102 non-null  object \n",
      " 32  정비사의견           9004 non-null   object \n",
      " 33  재검사(정밀검사) 이행여부  26102 non-null  object \n",
      " 34  검사일자            25717 non-null  float64\n",
      " 35  검사소명            25717 non-null  object \n",
      " 36  검사방법            25717 non-null  object \n",
      " 37  검사판정            25717 non-null  object \n",
      " 38  CO_측정치1         4440 non-null   float64\n",
      " 39  CO_허용치1         4440 non-null   float64\n",
      " 40  CO_판정1          4440 non-null   object \n",
      " 41  HC_측정치1         4440 non-null   float64\n",
      " 42  HC_허용치1         4440 non-null   float64\n",
      " 43  HC_판정1          4440 non-null   object \n",
      " 44  Nox_측정치         4354 non-null   float64\n",
      " 45  Nox_허용치         4354 non-null   float64\n",
      " 46  Nox_판정          4354 non-null   object \n",
      " 47  공기과잉률_측정치1      4440 non-null   float64\n",
      " 48  공기과잉률_허용치1      4440 non-null   float64\n",
      " 49  공기과잉률_판정1       4440 non-null   object \n",
      " 50  CO_측정치2         4439 non-null   float64\n",
      " 51  CO_허용치2         4439 non-null   float64\n",
      " 52  CO_판정2          4439 non-null   object \n",
      " 53  HC_측정치2         4439 non-null   float64\n",
      " 54  HC_허용치2         4439 non-null   float64\n",
      " 55  HC_판정2          4439 non-null   object \n",
      " 56  공기과잉률_측정치2      85 non-null     float64\n",
      " 57  공기과잉률_허용치2      85 non-null     float64\n",
      " 58  공기과잉률_판정2       85 non-null     object \n",
      " 59  매연_측정치1         21277 non-null  float64\n",
      " 60  매연_허용치1         21277 non-null  float64\n",
      " 61  매연_판정1          21277 non-null  object \n",
      " 62  매연_측정치2         2291 non-null   float64\n",
      " 63  매연_허용치2         2291 non-null   float64\n",
      " 64  매연_판정2          2291 non-null   object \n",
      " 65  매연_측정치3         2291 non-null   float64\n",
      " 66  매연_허용치3         2291 non-null   float64\n",
      " 67  매연_판정3          2291 non-null   object \n",
      " 68  관능검사판정          25717 non-null  object \n",
      " 69  관능부적합내용         0 non-null      float64\n",
      " 70  정비내역            25856 non-null  object \n",
      "dtypes: float64(22), int64(3), object(46)\n",
      "memory usage: 14.1+ MB\n"
     ]
    },
    {
     "name": "stderr",
     "output_type": "stream",
     "text": [
      "C:\\Users\\kbjung\\AppData\\Local\\Temp\\ipykernel_17740\\375430479.py:1: DtypeWarning: Columns (9) have mixed types. Specify dtype option on import or set low_memory=False.\n",
      "  err = pd.read_table(os.path.join(raw4_fold, '전문정비사업자_2회부적합정비결과등록_(20200101~20230731)_v10.txt'), encoding='cp949')\n"
     ]
    }
   ],
   "source": [
    "err = pd.read_table(os.path.join(raw4_fold, '전문정비사업자_2회부적합정비결과등록_(20200101~20230731)_v10.txt'), encoding='cp949')\n",
    "err.info()"
   ]
  },
  {
   "cell_type": "code",
   "execution_count": 30,
   "metadata": {},
   "outputs": [],
   "source": [
    "err.to_csv(os.path.join(raw4_fold, '전문정비사업자_2회부적합정비결과등록_(20200101~20230731)_v10.csv'), index=False)"
   ]
  },
  {
   "cell_type": "code",
   "execution_count": 16,
   "metadata": {},
   "outputs": [
    {
     "data": {
      "text/plain": [
       "39"
      ]
     },
     "execution_count": 16,
     "metadata": {},
     "output_type": "execute_result"
    }
   ],
   "source": [
    "num = 0\n",
    "for one in err['정비내역'].unique():\n",
    "    try:\n",
    "        if len(one.split(',')) >= num:\n",
    "            num = len(one.split(','))\n",
    "    except:\n",
    "        pass\n",
    "num"
   ]
  },
  {
   "cell_type": "code",
   "execution_count": 19,
   "metadata": {},
   "outputs": [
    {
     "data": {
      "text/plain": [
       "0    점화플러그 점검/조정, 점화배선 점검/조정, 배전기(Distributor) 점검/조...\n",
       "1            엔진오일 교환, 에어크리너 분해/탈착, 드로틀바디 분해/탈착, 소음기 교환\n",
       "2                                               소음기 교환\n",
       "3                      점화플러그 점검/조정, 점화시기(분사시기)조정 점검/조정\n",
       "4           엔진오일 교환, 공기유량센서 점검/조정, 에어크리너 교환, 배기관 분해/탈착\n",
       "Name: 정비내역, dtype: object"
      ]
     },
     "execution_count": 19,
     "metadata": {},
     "output_type": "execute_result"
    }
   ],
   "source": [
    "err['정비내역'].head()"
   ]
  },
  {
   "cell_type": "code",
   "execution_count": 117,
   "metadata": {},
   "outputs": [
    {
     "data": {
      "text/plain": [
       "['점화플러그 점검/조정',\n",
       " ' 점화배선 점검/조정',\n",
       " ' 배전기(Distributor) 점검/조정',\n",
       " ' 점화시기(분사시기)조정 점검/조정',\n",
       " ' 인젝터(휘발유) 점검/조정',\n",
       " ' 기화기(믹서포함) 점검/조정',\n",
       " ' 연료압력조절기 점검/조정',\n",
       " ' 연료휠터 점검/조정',\n",
       " ' 연료분사펌프(조정기 조정_봉인) 점검/조정',\n",
       " ' 노즐(디젤인젝터포함) 점검/조정',\n",
       " ' 공연비(혼합비) 점검/조정',\n",
       " ' 엔진정비 점검/조정',\n",
       " ' 엔진오일 점검/조정',\n",
       " ' 공회전속도 점검/조정',\n",
       " ' 전자제어장치(ECU) 점검/조정',\n",
       " ' 정화용촉매(Catalytic Converter) 점검/조정',\n",
       " ' 디젤산화촉매(DOC) 정비불가능',\n",
       " ' 매연여과장치(DPF) 정비불가능',\n",
       " ' EGR밸브 정비불가능',\n",
       " ' 배출가스재순환장치 EGR제어용 서머밸브 정비불가능',\n",
       " ' 정화조절밸브(Purge Control Valve) 점검/조정',\n",
       " ' 연료증발가스방지장치 EGR제어용 서머밸브 정비불가능',\n",
       " ' PVC밸브 점검/조정',\n",
       " ' 블로바이가스 호스 점검/조정',\n",
       " ' 산소센서 점검/조정',\n",
       " ' 공기유량센서 점검/조정',\n",
       " ' 스로틀포지션센서 점검/조정',\n",
       " ' 냉각수온센서 점검/조정',\n",
       " ' 에어크리너 점검/조정',\n",
       " ' 드로틀바디 점검/조정',\n",
       " ' 과급기 정비불가능',\n",
       " ' 소음기 점검/조정',\n",
       " ' 배기관 점검/조정']"
      ]
     },
     "execution_count": 117,
     "metadata": {},
     "output_type": "execute_result"
    }
   ],
   "source": [
    "temp = err['정비내역'].str.split(',')\n",
    "temp[0]"
   ]
  },
  {
   "cell_type": "code",
   "execution_count": 120,
   "metadata": {},
   "outputs": [
    {
     "data": {
      "text/plain": [
       "{' EGR밸브 교환',\n",
       " ' EGR밸브 분해/탈착',\n",
       " ' EGR밸브 점검/조정',\n",
       " ' EGR밸브 정비불가능',\n",
       " ' PVC밸브 교환',\n",
       " ' PVC밸브 분해/탈착',\n",
       " ' PVC밸브 점검/조정',\n",
       " ' PVC밸브 정비불가능',\n",
       " ' 공기유량센서 교환',\n",
       " ' 공기유량센서 분해/탈착',\n",
       " ' 공기유량센서 점검/조정',\n",
       " ' 공기유량센서 정비불가능',\n",
       " ' 공연비(혼합비) 교환',\n",
       " ' 공연비(혼합비) 분해/탈착',\n",
       " ' 공연비(혼합비) 점검/조정',\n",
       " ' 공연비(혼합비) 정비불가능',\n",
       " ' 공회전속도 교환',\n",
       " ' 공회전속도 분해/탈착',\n",
       " ' 공회전속도 점검/조정',\n",
       " ' 공회전속도 정비불가능',\n",
       " ' 과급기 교환',\n",
       " ' 과급기 분해/탈착',\n",
       " ' 과급기 점검/조정',\n",
       " ' 과급기 정비불가능',\n",
       " ' 기화기(믹서포함) 교환',\n",
       " ' 기화기(믹서포함) 분해/탈착',\n",
       " ' 기화기(믹서포함) 점검/조정',\n",
       " ' 기화기(믹서포함) 정비불가능',\n",
       " ' 냉각계통 교환',\n",
       " ' 냉각계통 분해/탈착',\n",
       " ' 냉각계통 점검/조정',\n",
       " ' 냉각계통 정비불가능',\n",
       " ' 냉각수온센서 교환',\n",
       " ' 냉각수온센서 분해/탈착',\n",
       " ' 냉각수온센서 점검/조정',\n",
       " ' 냉각수온센서 정비불가능',\n",
       " ' 노즐(디젤인젝터포함) 교환',\n",
       " ' 노즐(디젤인젝터포함) 분해/탈착',\n",
       " ' 노즐(디젤인젝터포함) 점검/조정',\n",
       " ' 노즐(디젤인젝터포함) 정비불가능',\n",
       " ' 드로틀바디 교환',\n",
       " ' 드로틀바디 분해/탈착',\n",
       " ' 드로틀바디 점검/조정',\n",
       " ' 드로틀바디 정비불가능',\n",
       " ' 디젤산화촉매(DOC) 교환',\n",
       " ' 디젤산화촉매(DOC) 분해/탈착',\n",
       " ' 디젤산화촉매(DOC) 점검/조정',\n",
       " ' 디젤산화촉매(DOC) 정비불가능',\n",
       " ' 매연여과장치(DPF) 교환',\n",
       " ' 매연여과장치(DPF) 분해/탈착',\n",
       " ' 매연여과장치(DPF) 점검/조정',\n",
       " ' 매연여과장치(DPF) 정비불가능',\n",
       " ' 배기관 교환',\n",
       " ' 배기관 분해/탈착',\n",
       " ' 배기관 점검/조정',\n",
       " ' 배기관 정비불가능',\n",
       " ' 배전기(Distributor) 교환',\n",
       " ' 배전기(Distributor) 분해/탈착',\n",
       " ' 배전기(Distributor) 점검/조정',\n",
       " ' 배전기(Distributor) 정비불가능',\n",
       " ' 배출가스재순환장치 EGR제어용 서머밸브 교환',\n",
       " ' 배출가스재순환장치 EGR제어용 서머밸브 분해/탈착',\n",
       " ' 배출가스재순환장치 EGR제어용 서머밸브 점검/조정',\n",
       " ' 배출가스재순환장치 EGR제어용 서머밸브 정비불가능',\n",
       " ' 블로바이가스 호스 교환',\n",
       " ' 블로바이가스 호스 분해/탈착',\n",
       " ' 블로바이가스 호스 점검/조정',\n",
       " ' 블로바이가스 호스 정비불가능',\n",
       " ' 산소센서 교환',\n",
       " ' 산소센서 분해/탈착',\n",
       " ' 산소센서 점검/조정',\n",
       " ' 산소센서 정비불가능',\n",
       " ' 소음기 교환',\n",
       " ' 소음기 분해/탈착',\n",
       " ' 소음기 점검/조정',\n",
       " ' 소음기 정비불가능',\n",
       " ' 스로틀포지션센서 교환',\n",
       " ' 스로틀포지션센서 분해/탈착',\n",
       " ' 스로틀포지션센서 점검/조정',\n",
       " ' 스로틀포지션센서 정비불가능',\n",
       " ' 에어크리너 교환',\n",
       " ' 에어크리너 분해/탈착',\n",
       " ' 에어크리너 점검/조정',\n",
       " ' 에어크리너 정비불가능',\n",
       " ' 엔진오일 교환',\n",
       " ' 엔진오일 분해/탈착',\n",
       " ' 엔진오일 점검/조정',\n",
       " ' 엔진오일 정비불가능',\n",
       " ' 엔진정비 교환',\n",
       " ' 엔진정비 분해/탈착',\n",
       " ' 엔진정비 점검/조정',\n",
       " ' 엔진정비 정비불가능',\n",
       " ' 연료분사펌프(조정기 조정_봉인) 교환',\n",
       " ' 연료분사펌프(조정기 조정_봉인) 분해/탈착',\n",
       " ' 연료분사펌프(조정기 조정_봉인) 점검/조정',\n",
       " ' 연료분사펌프(조정기 조정_봉인) 정비불가능',\n",
       " ' 연료압력조절기 교환',\n",
       " ' 연료압력조절기 분해/탈착',\n",
       " ' 연료압력조절기 점검/조정',\n",
       " ' 연료압력조절기 정비불가능',\n",
       " ' 연료증발가스방지장치 EGR제어용 서머밸브 교환',\n",
       " ' 연료증발가스방지장치 EGR제어용 서머밸브 분해/탈착',\n",
       " ' 연료증발가스방지장치 EGR제어용 서머밸브 점검/조정',\n",
       " ' 연료증발가스방지장치 EGR제어용 서머밸브 정비불가능',\n",
       " ' 연료휠터 교환',\n",
       " ' 연료휠터 분해/탈착',\n",
       " ' 연료휠터 점검/조정',\n",
       " ' 연료휠터 정비불가능',\n",
       " ' 인젝터(휘발유) 교환',\n",
       " ' 인젝터(휘발유) 분해/탈착',\n",
       " ' 인젝터(휘발유) 점검/조정',\n",
       " ' 인젝터(휘발유) 정비불가능',\n",
       " ' 전자제어장치(ECU) 교환',\n",
       " ' 전자제어장치(ECU) 분해/탈착',\n",
       " ' 전자제어장치(ECU) 점검/조정',\n",
       " ' 전자제어장치(ECU) 정비불가능',\n",
       " ' 점화배선 교환',\n",
       " ' 점화배선 분해/탈착',\n",
       " ' 점화배선 점검/조정',\n",
       " ' 점화배선 정비불가능',\n",
       " ' 점화시기(분사시기)조정 교환',\n",
       " ' 점화시기(분사시기)조정 분해/탈착',\n",
       " ' 점화시기(분사시기)조정 점검/조정',\n",
       " ' 점화시기(분사시기)조정 정비불가능',\n",
       " ' 점화플러그 교환',\n",
       " ' 점화플러그 분해/탈착',\n",
       " ' 정화용촉매(Catalytic Converter) 교환',\n",
       " ' 정화용촉매(Catalytic Converter) 분해/탈착',\n",
       " ' 정화용촉매(Catalytic Converter) 점검/조정',\n",
       " ' 정화용촉매(Catalytic Converter) 정비불가능',\n",
       " ' 정화조절밸브(Purge Control Valve) 교환',\n",
       " ' 정화조절밸브(Purge Control Valve) 분해/탈착',\n",
       " ' 정화조절밸브(Purge Control Valve) 점검/조정',\n",
       " ' 정화조절밸브(Purge Control Valve) 정비불가능',\n",
       " 'EGR밸브 교환',\n",
       " 'EGR밸브 분해/탈착',\n",
       " 'EGR밸브 점검/조정',\n",
       " 'PVC밸브 교환',\n",
       " 'PVC밸브 분해/탈착',\n",
       " 'PVC밸브 점검/조정',\n",
       " '공기유량센서 교환',\n",
       " '공기유량센서 분해/탈착',\n",
       " '공기유량센서 점검/조정',\n",
       " '공연비(혼합비) 교환',\n",
       " '공연비(혼합비) 분해/탈착',\n",
       " '공연비(혼합비) 점검/조정',\n",
       " '공회전속도 교환',\n",
       " '공회전속도 분해/탈착',\n",
       " '공회전속도 점검/조정',\n",
       " '과급기 교환',\n",
       " '과급기 분해/탈착',\n",
       " '과급기 점검/조정',\n",
       " '과급기 정비불가능',\n",
       " '기화기(믹서포함) 교환',\n",
       " '기화기(믹서포함) 분해/탈착',\n",
       " '기화기(믹서포함) 점검/조정',\n",
       " '냉각계통 교환',\n",
       " '냉각계통 분해/탈착',\n",
       " '냉각계통 점검/조정',\n",
       " '냉각계통 정비불가능',\n",
       " '냉각수온센서 교환',\n",
       " '냉각수온센서 점검/조정',\n",
       " '노즐(디젤인젝터포함) 교환',\n",
       " '노즐(디젤인젝터포함) 분해/탈착',\n",
       " '노즐(디젤인젝터포함) 점검/조정',\n",
       " '노즐(디젤인젝터포함) 정비불가능',\n",
       " '드로틀바디 교환',\n",
       " '드로틀바디 분해/탈착',\n",
       " '드로틀바디 점검/조정',\n",
       " '디젤산화촉매(DOC) 교환',\n",
       " '디젤산화촉매(DOC) 분해/탈착',\n",
       " '디젤산화촉매(DOC) 점검/조정',\n",
       " '매연여과장치(DPF) 교환',\n",
       " '매연여과장치(DPF) 분해/탈착',\n",
       " '매연여과장치(DPF) 점검/조정',\n",
       " '매연여과장치(DPF) 정비불가능',\n",
       " '배기관 교환',\n",
       " '배기관 분해/탈착',\n",
       " '배기관 점검/조정',\n",
       " '배기관 정비불가능',\n",
       " '배전기(Distributor) 교환',\n",
       " '배전기(Distributor) 점검/조정',\n",
       " '배전기(Distributor) 정비불가능',\n",
       " '배출가스재순환장치 EGR제어용 서머밸브 교환',\n",
       " '배출가스재순환장치 EGR제어용 서머밸브 분해/탈착',\n",
       " '배출가스재순환장치 EGR제어용 서머밸브 점검/조정',\n",
       " '배출가스재순환장치 EGR제어용 서머밸브 정비불가능',\n",
       " '블로바이가스 호스 교환',\n",
       " '블로바이가스 호스 분해/탈착',\n",
       " '블로바이가스 호스 점검/조정',\n",
       " '산소센서 교환',\n",
       " '산소센서 분해/탈착',\n",
       " '산소센서 점검/조정',\n",
       " '소음기 교환',\n",
       " '소음기 분해/탈착',\n",
       " '소음기 점검/조정',\n",
       " '소음기 정비불가능',\n",
       " '스로틀포지션센서 교환',\n",
       " '스로틀포지션센서 분해/탈착',\n",
       " '스로틀포지션센서 점검/조정',\n",
       " '에어크리너 교환',\n",
       " '에어크리너 분해/탈착',\n",
       " '에어크리너 점검/조정',\n",
       " '엔진오일 교환',\n",
       " '엔진오일 분해/탈착',\n",
       " '엔진오일 점검/조정',\n",
       " '엔진정비 교환',\n",
       " '엔진정비 분해/탈착',\n",
       " '엔진정비 점검/조정',\n",
       " '연료분사펌프(조정기 조정_봉인) 교환',\n",
       " '연료분사펌프(조정기 조정_봉인) 분해/탈착',\n",
       " '연료분사펌프(조정기 조정_봉인) 점검/조정',\n",
       " '연료압력조절기 교환',\n",
       " '연료압력조절기 분해/탈착',\n",
       " '연료압력조절기 점검/조정',\n",
       " '연료압력조절기 정비불가능',\n",
       " '연료증발가스방지장치 EGR제어용 서머밸브 교환',\n",
       " '연료증발가스방지장치 EGR제어용 서머밸브 분해/탈착',\n",
       " '연료증발가스방지장치 EGR제어용 서머밸브 점검/조정',\n",
       " '연료휠터 교환',\n",
       " '연료휠터 분해/탈착',\n",
       " '연료휠터 점검/조정',\n",
       " '연료휠터 정비불가능',\n",
       " '인젝터(휘발유) 교환',\n",
       " '인젝터(휘발유) 분해/탈착',\n",
       " '인젝터(휘발유) 점검/조정',\n",
       " '전자제어장치(ECU) 교환',\n",
       " '전자제어장치(ECU) 점검/조정',\n",
       " '점화배선 교환',\n",
       " '점화배선 분해/탈착',\n",
       " '점화배선 점검/조정',\n",
       " '점화시기(분사시기)조정 교환',\n",
       " '점화시기(분사시기)조정 분해/탈착',\n",
       " '점화시기(분사시기)조정 점검/조정',\n",
       " '점화플러그 교환',\n",
       " '점화플러그 분해/탈착',\n",
       " '점화플러그 점검/조정',\n",
       " '점화플러그 정비불가능',\n",
       " '정화용촉매(Catalytic Converter) 교환',\n",
       " '정화용촉매(Catalytic Converter) 분해/탈착',\n",
       " '정화용촉매(Catalytic Converter) 점검/조정',\n",
       " '정화조절밸브(Purge Control Valve) 교환',\n",
       " '정화조절밸브(Purge Control Valve) 분해/탈착',\n",
       " '정화조절밸브(Purge Control Valve) 점검/조정'}"
      ]
     },
     "execution_count": 120,
     "metadata": {},
     "output_type": "execute_result"
    }
   ],
   "source": [
    "temp_set = set()\n",
    "for one in temp:\n",
    "    try:\n",
    "        temp_set = temp_set | set(one)\n",
    "    except:\n",
    "        pass\n",
    "temp_set"
   ]
  },
  {
   "cell_type": "code",
   "execution_count": 121,
   "metadata": {},
   "outputs": [
    {
     "data": {
      "text/plain": [
       "['공회전속도 교환',\n",
       " '연료휠터 분해/탈착',\n",
       " '공연비(혼합비) 점검/조정',\n",
       " '블로바이가스 호스 분해/탈착',\n",
       " '산소센서 분해/탈착',\n",
       " '소음기 점검/조정',\n",
       " '점화시기(분사시기)조정 분해/탈착',\n",
       " '연료증발가스방지장치 EGR제어용 서머밸브 분해/탈착',\n",
       " '정화용촉매(Catalytic Converter) 교환',\n",
       " '드로틀바디 교환',\n",
       " '연료휠터 교환',\n",
       " '엔진오일 분해/탈착',\n",
       " '드로틀바디 점검/조정',\n",
       " '디젤산화촉매(DOC) 교환',\n",
       " '배기관 점검/조정',\n",
       " '매연여과장치(DPF) 점검/조정',\n",
       " '연료분사펌프(조정기 조정_봉인) 교환',\n",
       " '연료휠터 정비불가능',\n",
       " '엔진오일 분해/탈착',\n",
       " '노즐(디젤인젝터포함) 분해/탈착',\n",
       " '냉각계통 정비불가능',\n",
       " '공연비(혼합비) 분해/탈착',\n",
       " '연료압력조절기 교환',\n",
       " '배기관 점검/조정',\n",
       " '점화플러그 점검/조정',\n",
       " '연료증발가스방지장치 EGR제어용 서머밸브 교환',\n",
       " 'PVC밸브 분해/탈착',\n",
       " '공회전속도 점검/조정',\n",
       " '에어크리너 교환',\n",
       " '배기관 분해/탈착',\n",
       " '연료분사펌프(조정기 조정_봉인) 분해/탈착',\n",
       " '배전기(Distributor) 정비불가능',\n",
       " '블로바이가스 호스 정비불가능',\n",
       " '점화시기(분사시기)조정 정비불가능',\n",
       " '매연여과장치(DPF) 분해/탈착',\n",
       " 'PVC밸브 교환',\n",
       " '점화배선 분해/탈착',\n",
       " '연료분사펌프(조정기 조정_봉인) 교환',\n",
       " '공기유량센서 점검/조정',\n",
       " '소음기 교환',\n",
       " '연료증발가스방지장치 EGR제어용 서머밸브 점검/조정',\n",
       " '정화조절밸브(Purge Control Valve) 분해/탈착',\n",
       " '디젤산화촉매(DOC) 분해/탈착',\n",
       " '정화조절밸브(Purge Control Valve) 교환',\n",
       " '드로틀바디 정비불가능',\n",
       " '연료분사펌프(조정기 조정_봉인) 점검/조정',\n",
       " '정화조절밸브(Purge Control Valve) 점검/조정',\n",
       " '디젤산화촉매(DOC) 정비불가능',\n",
       " '인젝터(휘발유) 점검/조정',\n",
       " '정화조절밸브(Purge Control Valve) 점검/조정',\n",
       " '배출가스재순환장치 EGR제어용 서머밸브 점검/조정',\n",
       " '산소센서 점검/조정',\n",
       " '공회전속도 교환',\n",
       " '블로바이가스 호스 교환',\n",
       " '에어크리너 점검/조정',\n",
       " '기화기(믹서포함) 정비불가능',\n",
       " '연료휠터 점검/조정',\n",
       " '연료증발가스방지장치 EGR제어용 서머밸브 정비불가능',\n",
       " '정화용촉매(Catalytic Converter) 점검/조정',\n",
       " '인젝터(휘발유) 정비불가능',\n",
       " '연료휠터 정비불가능',\n",
       " '공기유량센서 정비불가능',\n",
       " '스로틀포지션센서 교환',\n",
       " '배전기(Distributor) 정비불가능',\n",
       " '과급기 교환',\n",
       " '블로바이가스 호스 분해/탈착',\n",
       " '스로틀포지션센서 교환',\n",
       " '냉각계통 교환',\n",
       " '블로바이가스 호스 점검/조정',\n",
       " '냉각수온센서 분해/탈착',\n",
       " '공기유량센서 교환',\n",
       " '엔진정비 분해/탈착',\n",
       " '냉각수온센서 정비불가능',\n",
       " '노즐(디젤인젝터포함) 분해/탈착',\n",
       " '산소센서 교환',\n",
       " '점화플러그 교환',\n",
       " '인젝터(휘발유) 교환',\n",
       " '공기유량센서 점검/조정',\n",
       " '냉각수온센서 교환',\n",
       " '노즐(디젤인젝터포함) 점검/조정',\n",
       " '엔진정비 교환',\n",
       " '점화시기(분사시기)조정 점검/조정',\n",
       " '공연비(혼합비) 교환',\n",
       " '과급기 정비불가능',\n",
       " '매연여과장치(DPF) 교환',\n",
       " '연료휠터 교환',\n",
       " '과급기 분해/탈착',\n",
       " 'EGR밸브 분해/탈착',\n",
       " 'EGR밸브 정비불가능',\n",
       " '엔진오일 교환',\n",
       " '공연비(혼합비) 분해/탈착',\n",
       " '스로틀포지션센서 점검/조정',\n",
       " '인젝터(휘발유) 점검/조정',\n",
       " '공회전속도 분해/탈착',\n",
       " '연료압력조절기 점검/조정',\n",
       " '배출가스재순환장치 EGR제어용 서머밸브 정비불가능',\n",
       " '에어크리너 분해/탈착',\n",
       " '기화기(믹서포함) 분해/탈착',\n",
       " '정화조절밸브(Purge Control Valve) 교환',\n",
       " '점화시기(분사시기)조정 교환',\n",
       " '공기유량센서 분해/탈착',\n",
       " '배전기(Distributor) 분해/탈착',\n",
       " '점화시기(분사시기)조정 분해/탈착',\n",
       " '배기관 정비불가능',\n",
       " '냉각수온센서 점검/조정',\n",
       " '배전기(Distributor) 교환',\n",
       " '정화용촉매(Catalytic Converter) 분해/탈착',\n",
       " '노즐(디젤인젝터포함) 정비불가능',\n",
       " '인젝터(휘발유) 분해/탈착',\n",
       " '블로바이가스 호스 교환',\n",
       " '연료압력조절기 정비불가능',\n",
       " '점화플러그 교환',\n",
       " '과급기 분해/탈착',\n",
       " '노즐(디젤인젝터포함) 점검/조정',\n",
       " '디젤산화촉매(DOC) 점검/조정',\n",
       " '매연여과장치(DPF) 분해/탈착',\n",
       " '공기유량센서 분해/탈착',\n",
       " '전자제어장치(ECU) 점검/조정',\n",
       " '산소센서 분해/탈착',\n",
       " '연료증발가스방지장치 EGR제어용 서머밸브 점검/조정',\n",
       " '스로틀포지션센서 정비불가능',\n",
       " '냉각수온센서 점검/조정',\n",
       " '점화배선 분해/탈착',\n",
       " '매연여과장치(DPF) 정비불가능',\n",
       " '인젝터(휘발유) 분해/탈착',\n",
       " '매연여과장치(DPF) 정비불가능',\n",
       " '정화조절밸브(Purge Control Valve) 정비불가능',\n",
       " '정화용촉매(Catalytic Converter) 분해/탈착',\n",
       " '냉각수온센서 교환',\n",
       " '에어크리너 점검/조정',\n",
       " '디젤산화촉매(DOC) 교환',\n",
       " '배출가스재순환장치 EGR제어용 서머밸브 점검/조정',\n",
       " 'EGR밸브 교환',\n",
       " '점화배선 교환',\n",
       " '점화시기(분사시기)조정 점검/조정',\n",
       " '산소센서 교환',\n",
       " '매연여과장치(DPF) 교환',\n",
       " '소음기 분해/탈착',\n",
       " '배출가스재순환장치 EGR제어용 서머밸브 교환',\n",
       " '공기유량센서 교환',\n",
       " '연료증발가스방지장치 EGR제어용 서머밸브 교환',\n",
       " '배출가스재순환장치 EGR제어용 서머밸브 정비불가능',\n",
       " '공회전속도 분해/탈착',\n",
       " '소음기 분해/탈착',\n",
       " '디젤산화촉매(DOC) 점검/조정',\n",
       " '배출가스재순환장치 EGR제어용 서머밸브 분해/탈착',\n",
       " '스로틀포지션센서 분해/탈착',\n",
       " '냉각계통 교환',\n",
       " '기화기(믹서포함) 분해/탈착',\n",
       " '점화플러그 분해/탈착',\n",
       " 'PVC밸브 교환',\n",
       " 'PVC밸브 정비불가능',\n",
       " '연료압력조절기 분해/탈착',\n",
       " '엔진정비 점검/조정',\n",
       " '배기관 분해/탈착',\n",
       " '매연여과장치(DPF) 점검/조정',\n",
       " '기화기(믹서포함) 교환',\n",
       " '연료압력조절기 정비불가능',\n",
       " '스로틀포지션센서 분해/탈착',\n",
       " '냉각계통 점검/조정',\n",
       " '배전기(Distributor) 점검/조정',\n",
       " '연료압력조절기 점검/조정',\n",
       " '산소센서 점검/조정',\n",
       " '에어크리너 정비불가능',\n",
       " '연료압력조절기 분해/탈착',\n",
       " '점화플러그 분해/탈착',\n",
       " '연료압력조절기 교환',\n",
       " '정화조절밸브(Purge Control Valve) 분해/탈착',\n",
       " '산소센서 정비불가능',\n",
       " '기화기(믹서포함) 점검/조정',\n",
       " '드로틀바디 교환',\n",
       " '노즐(디젤인젝터포함) 교환',\n",
       " '에어크리너 분해/탈착',\n",
       " '에어크리너 교환',\n",
       " '기화기(믹서포함) 점검/조정',\n",
       " '전자제어장치(ECU) 교환',\n",
       " '과급기 점검/조정',\n",
       " '디젤산화촉매(DOC) 분해/탈착',\n",
       " '연료분사펌프(조정기 조정_봉인) 분해/탈착',\n",
       " '스로틀포지션센서 점검/조정',\n",
       " '공회전속도 정비불가능',\n",
       " '배기관 교환',\n",
       " 'PVC밸브 점검/조정',\n",
       " '점화배선 점검/조정',\n",
       " '전자제어장치(ECU) 교환',\n",
       " '공연비(혼합비) 정비불가능',\n",
       " '냉각계통 정비불가능',\n",
       " '엔진정비 분해/탈착',\n",
       " '엔진정비 정비불가능',\n",
       " '공회전속도 점검/조정',\n",
       " '공연비(혼합비) 교환',\n",
       " 'PVC밸브 점검/조정',\n",
       " '배기관 정비불가능',\n",
       " '인젝터(휘발유) 교환',\n",
       " '공연비(혼합비) 점검/조정',\n",
       " 'EGR밸브 점검/조정',\n",
       " '배전기(Distributor) 교환',\n",
       " '냉각계통 점검/조정',\n",
       " '배기관 교환',\n",
       " '점화플러그 정비불가능',\n",
       " '엔진오일 점검/조정',\n",
       " '냉각계통 분해/탈착',\n",
       " '노즐(디젤인젝터포함) 정비불가능',\n",
       " 'EGR밸브 교환',\n",
       " '점화배선 정비불가능',\n",
       " '과급기 점검/조정',\n",
       " '냉각계통 분해/탈착',\n",
       " '정화용촉매(Catalytic Converter) 점검/조정',\n",
       " '정화용촉매(Catalytic Converter) 교환',\n",
       " '배출가스재순환장치 EGR제어용 서머밸브 교환',\n",
       " '배출가스재순환장치 EGR제어용 서머밸브 분해/탈착',\n",
       " '연료분사펌프(조정기 조정_봉인) 점검/조정',\n",
       " '소음기 정비불가능',\n",
       " '연료증발가스방지장치 EGR제어용 서머밸브 분해/탈착',\n",
       " '연료휠터 분해/탈착',\n",
       " '과급기 정비불가능',\n",
       " '기화기(믹서포함) 교환',\n",
       " '드로틀바디 분해/탈착',\n",
       " '연료분사펌프(조정기 조정_봉인) 정비불가능',\n",
       " '엔진오일 교환',\n",
       " '소음기 정비불가능',\n",
       " 'EGR밸브 분해/탈착',\n",
       " '전자제어장치(ECU) 분해/탈착',\n",
       " '전자제어장치(ECU) 점검/조정',\n",
       " '엔진정비 교환',\n",
       " '드로틀바디 분해/탈착',\n",
       " '연료휠터 점검/조정',\n",
       " '드로틀바디 점검/조정',\n",
       " '과급기 교환',\n",
       " '점화시기(분사시기)조정 교환',\n",
       " '점화배선 교환',\n",
       " '엔진오일 정비불가능',\n",
       " '전자제어장치(ECU) 정비불가능',\n",
       " '점화배선 점검/조정',\n",
       " '정화용촉매(Catalytic Converter) 정비불가능',\n",
       " '엔진오일 점검/조정',\n",
       " 'EGR밸브 점검/조정',\n",
       " '블로바이가스 호스 점검/조정',\n",
       " '노즐(디젤인젝터포함) 교환',\n",
       " '소음기 교환',\n",
       " '엔진정비 점검/조정',\n",
       " 'PVC밸브 분해/탈착',\n",
       " '소음기 점검/조정',\n",
       " '배전기(Distributor) 점검/조정']"
      ]
     },
     "execution_count": 121,
     "metadata": {},
     "output_type": "execute_result"
    }
   ],
   "source": [
    "temp_list = []\n",
    "for one in temp_set:\n",
    "    temp_list.append(one.strip())\n",
    "temp_list"
   ]
  },
  {
   "cell_type": "code",
   "execution_count": 122,
   "metadata": {},
   "outputs": [
    {
     "data": {
      "text/plain": [
       "244"
      ]
     },
     "execution_count": 122,
     "metadata": {},
     "output_type": "execute_result"
    }
   ],
   "source": [
    "len(temp_list)"
   ]
  },
  {
   "cell_type": "code",
   "execution_count": 123,
   "metadata": {},
   "outputs": [
    {
     "data": {
      "text/plain": [
       "136"
      ]
     },
     "execution_count": 123,
     "metadata": {},
     "output_type": "execute_result"
    }
   ],
   "source": [
    "len(set(temp_list))"
   ]
  },
  {
   "cell_type": "code",
   "execution_count": 125,
   "metadata": {},
   "outputs": [
    {
     "data": {
      "text/plain": [
       "136"
      ]
     },
     "execution_count": 125,
     "metadata": {},
     "output_type": "execute_result"
    }
   ],
   "source": [
    "temp_set2 = set(temp_list)\n",
    "len(temp_set2)"
   ]
  },
  {
   "cell_type": "code",
   "execution_count": 126,
   "metadata": {},
   "outputs": [
    {
     "data": {
      "text/plain": [
       "0    점화플러그 점검/조정, 점화배선 점검/조정, 배전기(Distributor) 점검/조...\n",
       "1            엔진오일 교환, 에어크리너 분해/탈착, 드로틀바디 분해/탈착, 소음기 교환\n",
       "2                                               소음기 교환\n",
       "3                      점화플러그 점검/조정, 점화시기(분사시기)조정 점검/조정\n",
       "4           엔진오일 교환, 공기유량센서 점검/조정, 에어크리너 교환, 배기관 분해/탈착\n",
       "Name: 정비내역, dtype: object"
      ]
     },
     "execution_count": 126,
     "metadata": {},
     "output_type": "execute_result"
    }
   ],
   "source": [
    "err['정비내역'].head()"
   ]
  },
  {
   "cell_type": "code",
   "execution_count": 127,
   "metadata": {},
   "outputs": [
    {
     "data": {
      "text/plain": [
       "(26102, 71)"
      ]
     },
     "execution_count": 127,
     "metadata": {},
     "output_type": "execute_result"
    }
   ],
   "source": [
    "err_copy = err.copy()\n",
    "err_copy.shape"
   ]
  },
  {
   "cell_type": "code",
   "execution_count": 129,
   "metadata": {},
   "outputs": [
    {
     "data": {
      "text/plain": [
       "(26102, 207)"
      ]
     },
     "execution_count": 129,
     "metadata": {},
     "output_type": "execute_result"
    }
   ],
   "source": [
    "for one in temp_set2:\n",
    "    err_copy[one] = np.nan\n",
    "err_copy.shape"
   ]
  },
  {
   "cell_type": "code",
   "execution_count": 82,
   "metadata": {},
   "outputs": [
    {
     "data": {
      "text/html": [
       "<div>\n",
       "<style scoped>\n",
       "    .dataframe tbody tr th:only-of-type {\n",
       "        vertical-align: middle;\n",
       "    }\n",
       "\n",
       "    .dataframe tbody tr th {\n",
       "        vertical-align: top;\n",
       "    }\n",
       "\n",
       "    .dataframe thead th {\n",
       "        text-align: right;\n",
       "    }\n",
       "</style>\n",
       "<table border=\"1\" class=\"dataframe\">\n",
       "  <thead>\n",
       "    <tr style=\"text-align: right;\">\n",
       "      <th></th>\n",
       "      <th>No</th>\n",
       "      <th>접수번호</th>\n",
       "      <th>정비일자</th>\n",
       "      <th>차대번호</th>\n",
       "      <th>차량번호</th>\n",
       "      <th>차량소유자명</th>\n",
       "      <th>차종</th>\n",
       "      <th>차명</th>\n",
       "      <th>차량연료</th>\n",
       "      <th>차량연식(년도)</th>\n",
       "      <th>...</th>\n",
       "      <th>엔진오일 점검/조정</th>\n",
       "      <th>냉각계통 분해/탈착</th>\n",
       "      <th>점화배선 정비불가능</th>\n",
       "      <th>소음기 정비불가능</th>\n",
       "      <th>드로틀바디 분해/탈착</th>\n",
       "      <th>연료분사펌프(조정기 조정_봉인) 정비불가능</th>\n",
       "      <th>전자제어장치(ECU) 분해/탈착</th>\n",
       "      <th>엔진오일 정비불가능</th>\n",
       "      <th>전자제어장치(ECU) 정비불가능</th>\n",
       "      <th>정화용촉매(Catalytic Converter) 정비불가능</th>\n",
       "    </tr>\n",
       "  </thead>\n",
       "  <tbody>\n",
       "    <tr>\n",
       "      <th>0</th>\n",
       "      <td>1</td>\n",
       "      <td>ZH51_20230731_00001</td>\n",
       "      <td>2023-07-31</td>\n",
       "      <td>KMHEC41LBCA364580</td>\n",
       "      <td>07조5174</td>\n",
       "      <td>오성환</td>\n",
       "      <td>승용차일반형중형</td>\n",
       "      <td>쏘나타 (SONATA)</td>\n",
       "      <td>엘피지</td>\n",
       "      <td>2012</td>\n",
       "      <td>...</td>\n",
       "      <td>NaN</td>\n",
       "      <td>NaN</td>\n",
       "      <td>NaN</td>\n",
       "      <td>NaN</td>\n",
       "      <td>NaN</td>\n",
       "      <td>NaN</td>\n",
       "      <td>NaN</td>\n",
       "      <td>NaN</td>\n",
       "      <td>NaN</td>\n",
       "      <td>NaN</td>\n",
       "    </tr>\n",
       "    <tr>\n",
       "      <th>1</th>\n",
       "      <td>2</td>\n",
       "      <td>ZM10_20230731_00001</td>\n",
       "      <td>2023-07-31</td>\n",
       "      <td>KMHF641NBKA192771</td>\n",
       "      <td>189무6484</td>\n",
       "      <td>김미례</td>\n",
       "      <td>승용차일반형대형</td>\n",
       "      <td>그랜저(GRANDEUR)</td>\n",
       "      <td>엘피지</td>\n",
       "      <td>2019</td>\n",
       "      <td>...</td>\n",
       "      <td>NaN</td>\n",
       "      <td>NaN</td>\n",
       "      <td>NaN</td>\n",
       "      <td>NaN</td>\n",
       "      <td>NaN</td>\n",
       "      <td>NaN</td>\n",
       "      <td>NaN</td>\n",
       "      <td>NaN</td>\n",
       "      <td>NaN</td>\n",
       "      <td>NaN</td>\n",
       "    </tr>\n",
       "    <tr>\n",
       "      <th>2</th>\n",
       "      <td>3</td>\n",
       "      <td>ZK20_20230731_00001</td>\n",
       "      <td>2023-07-31</td>\n",
       "      <td>KMHEU41MP6A120421</td>\n",
       "      <td>23가1130</td>\n",
       "      <td>김생찬</td>\n",
       "      <td>승용차일반형중형</td>\n",
       "      <td>쏘나타(SONATA)</td>\n",
       "      <td>엘피지</td>\n",
       "      <td>2006</td>\n",
       "      <td>...</td>\n",
       "      <td>NaN</td>\n",
       "      <td>NaN</td>\n",
       "      <td>NaN</td>\n",
       "      <td>NaN</td>\n",
       "      <td>NaN</td>\n",
       "      <td>NaN</td>\n",
       "      <td>NaN</td>\n",
       "      <td>NaN</td>\n",
       "      <td>NaN</td>\n",
       "      <td>NaN</td>\n",
       "    </tr>\n",
       "    <tr>\n",
       "      <th>3</th>\n",
       "      <td>4</td>\n",
       "      <td>ZK20_20230731_00002</td>\n",
       "      <td>2023-07-31</td>\n",
       "      <td>KLAJF69YDBK168156</td>\n",
       "      <td>56어5370</td>\n",
       "      <td>김영민</td>\n",
       "      <td>승용차일반형중형</td>\n",
       "      <td>크루즈 2.0 디젤</td>\n",
       "      <td>경유</td>\n",
       "      <td>2011</td>\n",
       "      <td>...</td>\n",
       "      <td>NaN</td>\n",
       "      <td>NaN</td>\n",
       "      <td>NaN</td>\n",
       "      <td>NaN</td>\n",
       "      <td>NaN</td>\n",
       "      <td>NaN</td>\n",
       "      <td>NaN</td>\n",
       "      <td>NaN</td>\n",
       "      <td>NaN</td>\n",
       "      <td>NaN</td>\n",
       "    </tr>\n",
       "    <tr>\n",
       "      <th>4</th>\n",
       "      <td>5</td>\n",
       "      <td>ZP06_20230731_00001</td>\n",
       "      <td>2023-07-31</td>\n",
       "      <td>KMFZSS7JP7U304470</td>\n",
       "      <td>80다5421</td>\n",
       "      <td>김현태</td>\n",
       "      <td>화물차특수용도형소형</td>\n",
       "      <td>포터Ⅱ슈퍼캡냉동탑차 (PORTERⅡ)</td>\n",
       "      <td>경유</td>\n",
       "      <td>2007</td>\n",
       "      <td>...</td>\n",
       "      <td>NaN</td>\n",
       "      <td>NaN</td>\n",
       "      <td>NaN</td>\n",
       "      <td>NaN</td>\n",
       "      <td>NaN</td>\n",
       "      <td>NaN</td>\n",
       "      <td>NaN</td>\n",
       "      <td>NaN</td>\n",
       "      <td>NaN</td>\n",
       "      <td>NaN</td>\n",
       "    </tr>\n",
       "  </tbody>\n",
       "</table>\n",
       "<p>5 rows × 207 columns</p>\n",
       "</div>"
      ],
      "text/plain": [
       "   No                 접수번호        정비일자               차대번호      차량번호 차량소유자명   \n",
       "0   1  ZH51_20230731_00001  2023-07-31  KMHEC41LBCA364580   07조5174    오성환  \\\n",
       "1   2  ZM10_20230731_00001  2023-07-31  KMHF641NBKA192771  189무6484    김미례   \n",
       "2   3  ZK20_20230731_00001  2023-07-31  KMHEU41MP6A120421   23가1130    김생찬   \n",
       "3   4  ZK20_20230731_00002  2023-07-31  KLAJF69YDBK168156   56어5370    김영민   \n",
       "4   5  ZP06_20230731_00001  2023-07-31  KMFZSS7JP7U304470   80다5421    김현태   \n",
       "\n",
       "           차종                    차명 차량연료 차량연식(년도)  ... 엔진오일 점검/조정 냉각계통 분해/탈착   \n",
       "0    승용차일반형중형          쏘나타 (SONATA)  엘피지     2012  ...        NaN        NaN  \\\n",
       "1    승용차일반형대형         그랜저(GRANDEUR)  엘피지     2019  ...        NaN        NaN   \n",
       "2    승용차일반형중형           쏘나타(SONATA)  엘피지     2006  ...        NaN        NaN   \n",
       "3    승용차일반형중형            크루즈 2.0 디젤   경유     2011  ...        NaN        NaN   \n",
       "4  화물차특수용도형소형  포터Ⅱ슈퍼캡냉동탑차 (PORTERⅡ)   경유     2007  ...        NaN        NaN   \n",
       "\n",
       "  점화배선 정비불가능 소음기 정비불가능 드로틀바디 분해/탈착 연료분사펌프(조정기 조정_봉인) 정비불가능 전자제어장치(ECU) 분해/탈착   \n",
       "0        NaN       NaN         NaN                     NaN               NaN  \\\n",
       "1        NaN       NaN         NaN                     NaN               NaN   \n",
       "2        NaN       NaN         NaN                     NaN               NaN   \n",
       "3        NaN       NaN         NaN                     NaN               NaN   \n",
       "4        NaN       NaN         NaN                     NaN               NaN   \n",
       "\n",
       "   엔진오일 정비불가능 전자제어장치(ECU) 정비불가능 정화용촉매(Catalytic Converter) 정비불가능  \n",
       "0         NaN               NaN                              NaN  \n",
       "1         NaN               NaN                              NaN  \n",
       "2         NaN               NaN                              NaN  \n",
       "3         NaN               NaN                              NaN  \n",
       "4         NaN               NaN                              NaN  \n",
       "\n",
       "[5 rows x 207 columns]"
      ]
     },
     "execution_count": 82,
     "metadata": {},
     "output_type": "execute_result"
    }
   ],
   "source": [
    "err_copy.head()"
   ]
  },
  {
   "cell_type": "code",
   "execution_count": 131,
   "metadata": {},
   "outputs": [
    {
     "data": {
      "text/plain": [
       "0    점화플러그 점검/조정, 점화배선 점검/조정, 배전기(Distributor) 점검/조...\n",
       "1            엔진오일 교환, 에어크리너 분해/탈착, 드로틀바디 분해/탈착, 소음기 교환\n",
       "2                                               소음기 교환\n",
       "3                      점화플러그 점검/조정, 점화시기(분사시기)조정 점검/조정\n",
       "4           엔진오일 교환, 공기유량센서 점검/조정, 에어크리너 교환, 배기관 분해/탈착\n",
       "Name: 정비내역, dtype: object"
      ]
     },
     "execution_count": 131,
     "metadata": {},
     "output_type": "execute_result"
    }
   ],
   "source": [
    "err_copy['정비내역'].head()"
   ]
  },
  {
   "cell_type": "code",
   "execution_count": 138,
   "metadata": {},
   "outputs": [
    {
     "data": {
      "text/plain": [
       "(26102, 207)"
      ]
     },
     "execution_count": 138,
     "metadata": {},
     "output_type": "execute_result"
    }
   ],
   "source": [
    "for one in temp_set2:\n",
    "    err_copy.loc[err_copy['정비내역'].str.contains(one, na=False, regex=False), one] = 'Y'\n",
    "err_copy.shape"
   ]
  },
  {
   "cell_type": "code",
   "execution_count": 139,
   "metadata": {},
   "outputs": [
    {
     "data": {
      "text/html": [
       "<div>\n",
       "<style scoped>\n",
       "    .dataframe tbody tr th:only-of-type {\n",
       "        vertical-align: middle;\n",
       "    }\n",
       "\n",
       "    .dataframe tbody tr th {\n",
       "        vertical-align: top;\n",
       "    }\n",
       "\n",
       "    .dataframe thead th {\n",
       "        text-align: right;\n",
       "    }\n",
       "</style>\n",
       "<table border=\"1\" class=\"dataframe\">\n",
       "  <thead>\n",
       "    <tr style=\"text-align: right;\">\n",
       "      <th></th>\n",
       "      <th>No</th>\n",
       "      <th>접수번호</th>\n",
       "      <th>정비일자</th>\n",
       "      <th>차대번호</th>\n",
       "      <th>차량번호</th>\n",
       "      <th>차량소유자명</th>\n",
       "      <th>차종</th>\n",
       "      <th>차명</th>\n",
       "      <th>차량연료</th>\n",
       "      <th>차량연식(년도)</th>\n",
       "      <th>...</th>\n",
       "      <th>점화배선 분해/탈착</th>\n",
       "      <th>공기유량센서 분해/탈착</th>\n",
       "      <th>노즐(디젤인젝터포함) 교환</th>\n",
       "      <th>엔진정비 점검/조정</th>\n",
       "      <th>블로바이가스 호스 점검/조정</th>\n",
       "      <th>EGR밸브 점검/조정</th>\n",
       "      <th>소음기 교환</th>\n",
       "      <th>정화조절밸브(Purge Control Valve) 정비불가능</th>\n",
       "      <th>소음기 점검/조정</th>\n",
       "      <th>배전기(Distributor) 점검/조정</th>\n",
       "    </tr>\n",
       "  </thead>\n",
       "  <tbody>\n",
       "    <tr>\n",
       "      <th>0</th>\n",
       "      <td>1</td>\n",
       "      <td>ZH51_20230731_00001</td>\n",
       "      <td>2023-07-31</td>\n",
       "      <td>KMHEC41LBCA364580</td>\n",
       "      <td>07조5174</td>\n",
       "      <td>오성환</td>\n",
       "      <td>승용차일반형중형</td>\n",
       "      <td>쏘나타 (SONATA)</td>\n",
       "      <td>엘피지</td>\n",
       "      <td>2012</td>\n",
       "      <td>...</td>\n",
       "      <td>NaN</td>\n",
       "      <td>NaN</td>\n",
       "      <td>NaN</td>\n",
       "      <td>Y</td>\n",
       "      <td>Y</td>\n",
       "      <td>NaN</td>\n",
       "      <td>NaN</td>\n",
       "      <td>NaN</td>\n",
       "      <td>Y</td>\n",
       "      <td>Y</td>\n",
       "    </tr>\n",
       "    <tr>\n",
       "      <th>1</th>\n",
       "      <td>2</td>\n",
       "      <td>ZM10_20230731_00001</td>\n",
       "      <td>2023-07-31</td>\n",
       "      <td>KMHF641NBKA192771</td>\n",
       "      <td>189무6484</td>\n",
       "      <td>김미례</td>\n",
       "      <td>승용차일반형대형</td>\n",
       "      <td>그랜저(GRANDEUR)</td>\n",
       "      <td>엘피지</td>\n",
       "      <td>2019</td>\n",
       "      <td>...</td>\n",
       "      <td>NaN</td>\n",
       "      <td>NaN</td>\n",
       "      <td>NaN</td>\n",
       "      <td>NaN</td>\n",
       "      <td>NaN</td>\n",
       "      <td>NaN</td>\n",
       "      <td>Y</td>\n",
       "      <td>NaN</td>\n",
       "      <td>NaN</td>\n",
       "      <td>NaN</td>\n",
       "    </tr>\n",
       "    <tr>\n",
       "      <th>2</th>\n",
       "      <td>3</td>\n",
       "      <td>ZK20_20230731_00001</td>\n",
       "      <td>2023-07-31</td>\n",
       "      <td>KMHEU41MP6A120421</td>\n",
       "      <td>23가1130</td>\n",
       "      <td>김생찬</td>\n",
       "      <td>승용차일반형중형</td>\n",
       "      <td>쏘나타(SONATA)</td>\n",
       "      <td>엘피지</td>\n",
       "      <td>2006</td>\n",
       "      <td>...</td>\n",
       "      <td>NaN</td>\n",
       "      <td>NaN</td>\n",
       "      <td>NaN</td>\n",
       "      <td>NaN</td>\n",
       "      <td>NaN</td>\n",
       "      <td>NaN</td>\n",
       "      <td>Y</td>\n",
       "      <td>NaN</td>\n",
       "      <td>NaN</td>\n",
       "      <td>NaN</td>\n",
       "    </tr>\n",
       "    <tr>\n",
       "      <th>3</th>\n",
       "      <td>4</td>\n",
       "      <td>ZK20_20230731_00002</td>\n",
       "      <td>2023-07-31</td>\n",
       "      <td>KLAJF69YDBK168156</td>\n",
       "      <td>56어5370</td>\n",
       "      <td>김영민</td>\n",
       "      <td>승용차일반형중형</td>\n",
       "      <td>크루즈 2.0 디젤</td>\n",
       "      <td>경유</td>\n",
       "      <td>2011</td>\n",
       "      <td>...</td>\n",
       "      <td>NaN</td>\n",
       "      <td>NaN</td>\n",
       "      <td>NaN</td>\n",
       "      <td>NaN</td>\n",
       "      <td>NaN</td>\n",
       "      <td>NaN</td>\n",
       "      <td>NaN</td>\n",
       "      <td>NaN</td>\n",
       "      <td>NaN</td>\n",
       "      <td>NaN</td>\n",
       "    </tr>\n",
       "    <tr>\n",
       "      <th>4</th>\n",
       "      <td>5</td>\n",
       "      <td>ZP06_20230731_00001</td>\n",
       "      <td>2023-07-31</td>\n",
       "      <td>KMFZSS7JP7U304470</td>\n",
       "      <td>80다5421</td>\n",
       "      <td>김현태</td>\n",
       "      <td>화물차특수용도형소형</td>\n",
       "      <td>포터Ⅱ슈퍼캡냉동탑차 (PORTERⅡ)</td>\n",
       "      <td>경유</td>\n",
       "      <td>2007</td>\n",
       "      <td>...</td>\n",
       "      <td>NaN</td>\n",
       "      <td>NaN</td>\n",
       "      <td>NaN</td>\n",
       "      <td>NaN</td>\n",
       "      <td>NaN</td>\n",
       "      <td>NaN</td>\n",
       "      <td>NaN</td>\n",
       "      <td>NaN</td>\n",
       "      <td>NaN</td>\n",
       "      <td>NaN</td>\n",
       "    </tr>\n",
       "  </tbody>\n",
       "</table>\n",
       "<p>5 rows × 207 columns</p>\n",
       "</div>"
      ],
      "text/plain": [
       "   No                 접수번호        정비일자               차대번호      차량번호 차량소유자명   \n",
       "0   1  ZH51_20230731_00001  2023-07-31  KMHEC41LBCA364580   07조5174    오성환  \\\n",
       "1   2  ZM10_20230731_00001  2023-07-31  KMHF641NBKA192771  189무6484    김미례   \n",
       "2   3  ZK20_20230731_00001  2023-07-31  KMHEU41MP6A120421   23가1130    김생찬   \n",
       "3   4  ZK20_20230731_00002  2023-07-31  KLAJF69YDBK168156   56어5370    김영민   \n",
       "4   5  ZP06_20230731_00001  2023-07-31  KMFZSS7JP7U304470   80다5421    김현태   \n",
       "\n",
       "           차종                    차명 차량연료 차량연식(년도)  ... 점화배선 분해/탈착   \n",
       "0    승용차일반형중형          쏘나타 (SONATA)  엘피지     2012  ...        NaN  \\\n",
       "1    승용차일반형대형         그랜저(GRANDEUR)  엘피지     2019  ...        NaN   \n",
       "2    승용차일반형중형           쏘나타(SONATA)  엘피지     2006  ...        NaN   \n",
       "3    승용차일반형중형            크루즈 2.0 디젤   경유     2011  ...        NaN   \n",
       "4  화물차특수용도형소형  포터Ⅱ슈퍼캡냉동탑차 (PORTERⅡ)   경유     2007  ...        NaN   \n",
       "\n",
       "  공기유량센서 분해/탈착 노즐(디젤인젝터포함) 교환 엔진정비 점검/조정 블로바이가스 호스 점검/조정 EGR밸브 점검/조정 소음기 교환   \n",
       "0          NaN            NaN          Y               Y         NaN    NaN  \\\n",
       "1          NaN            NaN        NaN             NaN         NaN      Y   \n",
       "2          NaN            NaN        NaN             NaN         NaN      Y   \n",
       "3          NaN            NaN        NaN             NaN         NaN    NaN   \n",
       "4          NaN            NaN        NaN             NaN         NaN    NaN   \n",
       "\n",
       "   정화조절밸브(Purge Control Valve) 정비불가능 소음기 점검/조정 배전기(Distributor) 점검/조정  \n",
       "0                                NaN         Y                      Y  \n",
       "1                                NaN       NaN                    NaN  \n",
       "2                                NaN       NaN                    NaN  \n",
       "3                                NaN       NaN                    NaN  \n",
       "4                                NaN       NaN                    NaN  \n",
       "\n",
       "[5 rows x 207 columns]"
      ]
     },
     "execution_count": 139,
     "metadata": {},
     "output_type": "execute_result"
    }
   ],
   "source": [
    "err_copy.head()"
   ]
  },
  {
   "cell_type": "code",
   "execution_count": 143,
   "metadata": {},
   "outputs": [
    {
     "data": {
      "text/plain": [
       "0"
      ]
     },
     "execution_count": 143,
     "metadata": {},
     "output_type": "execute_result"
    }
   ],
   "source": [
    "err_copy.loc[0, ['점화플러그 점검/조정', '점화배선 점검/조정', '배전기(Distributor) 점검/조정', '점화시기(분사시기)조정 점검/조정', '인젝터(휘발유) 점검/조정', '기화기(믹서포함) 점검/조정', '연료압력조절기 점검/조정', '연료휠터 점검/조정', \n",
    "                 '연료분사펌프(조정기 조정_봉인) 점검/조정', '노즐(디젤인젝터포함) 점검/조정', '공연비(혼합비) 점검/조정', '엔진정비 점검/조정', '엔진오일 점검/조정', '공회전속도 점검/조정', '전자제어장치(ECU) 점검/조정', '정화용촉매(Catalytic Converter) 점검/조정', '디젤산화촉매(DOC) 정비불가능', '매연여과장치(DPF) 정비불가능', 'EGR밸브 정비불가능', '배출가스재순환장치 EGR제어용 서머밸브 정비불가능', '정화조절밸브(Purge Control Valve) 점검/조정', \n",
    "                 '연료증발가스방지장치 EGR제어용 서머밸브 정비불가능', 'PVC밸브 점검/조정', '블로바이가스 호스 점검/조정', '산소센서 점검/조정', '공기유량센서 점검/조정', '스로틀포지션센서 점검/조정', '냉각수온센서 점검/조정', '에어크리너 점검/조정', '드로틀바디 점검/조정', '과급기 정비불가능', '소음기 점검/조정', '배기관 점검/조정']].isnull().sum()"
   ]
  },
  {
   "cell_type": "code",
   "execution_count": 144,
   "metadata": {},
   "outputs": [
    {
     "data": {
      "text/html": [
       "<div>\n",
       "<style scoped>\n",
       "    .dataframe tbody tr th:only-of-type {\n",
       "        vertical-align: middle;\n",
       "    }\n",
       "\n",
       "    .dataframe tbody tr th {\n",
       "        vertical-align: top;\n",
       "    }\n",
       "\n",
       "    .dataframe thead th {\n",
       "        text-align: right;\n",
       "    }\n",
       "</style>\n",
       "<table border=\"1\" class=\"dataframe\">\n",
       "  <thead>\n",
       "    <tr style=\"text-align: right;\">\n",
       "      <th></th>\n",
       "      <th>index</th>\n",
       "      <th>0</th>\n",
       "    </tr>\n",
       "  </thead>\n",
       "  <tbody>\n",
       "    <tr>\n",
       "      <th>0</th>\n",
       "      <td>연료휠터 분해/탈착</td>\n",
       "      <td>26041</td>\n",
       "    </tr>\n",
       "    <tr>\n",
       "      <th>1</th>\n",
       "      <td>공연비(혼합비) 점검/조정</td>\n",
       "      <td>25001</td>\n",
       "    </tr>\n",
       "    <tr>\n",
       "      <th>2</th>\n",
       "      <td>블로바이가스 호스 분해/탈착</td>\n",
       "      <td>26080</td>\n",
       "    </tr>\n",
       "    <tr>\n",
       "      <th>3</th>\n",
       "      <td>산소센서 분해/탈착</td>\n",
       "      <td>26029</td>\n",
       "    </tr>\n",
       "    <tr>\n",
       "      <th>4</th>\n",
       "      <td>연료증발가스방지장치 EGR제어용 서머밸브 분해/탈착</td>\n",
       "      <td>26080</td>\n",
       "    </tr>\n",
       "    <tr>\n",
       "      <th>...</th>\n",
       "      <td>...</td>\n",
       "      <td>...</td>\n",
       "    </tr>\n",
       "    <tr>\n",
       "      <th>131</th>\n",
       "      <td>EGR밸브 점검/조정</td>\n",
       "      <td>22418</td>\n",
       "    </tr>\n",
       "    <tr>\n",
       "      <th>132</th>\n",
       "      <td>소음기 교환</td>\n",
       "      <td>25392</td>\n",
       "    </tr>\n",
       "    <tr>\n",
       "      <th>133</th>\n",
       "      <td>정화조절밸브(Purge Control Valve) 정비불가능</td>\n",
       "      <td>25851</td>\n",
       "    </tr>\n",
       "    <tr>\n",
       "      <th>134</th>\n",
       "      <td>소음기 점검/조정</td>\n",
       "      <td>22045</td>\n",
       "    </tr>\n",
       "    <tr>\n",
       "      <th>135</th>\n",
       "      <td>배전기(Distributor) 점검/조정</td>\n",
       "      <td>25937</td>\n",
       "    </tr>\n",
       "  </tbody>\n",
       "</table>\n",
       "<p>136 rows × 2 columns</p>\n",
       "</div>"
      ],
      "text/plain": [
       "                                 index      0\n",
       "0                           연료휠터 분해/탈착  26041\n",
       "1                       공연비(혼합비) 점검/조정  25001\n",
       "2                      블로바이가스 호스 분해/탈착  26080\n",
       "3                           산소센서 분해/탈착  26029\n",
       "4         연료증발가스방지장치 EGR제어용 서머밸브 분해/탈착  26080\n",
       "..                                 ...    ...\n",
       "131                        EGR밸브 점검/조정  22418\n",
       "132                             소음기 교환  25392\n",
       "133  정화조절밸브(Purge Control Valve) 정비불가능  25851\n",
       "134                          소음기 점검/조정  22045\n",
       "135             배전기(Distributor) 점검/조정  25937\n",
       "\n",
       "[136 rows x 2 columns]"
      ]
     },
     "execution_count": 144,
     "metadata": {},
     "output_type": "execute_result"
    }
   ],
   "source": [
    "tt = err_copy.iloc[:, 71:].isnull().sum().reset_index()\n",
    "tt[tt[0] != 26102]"
   ]
  },
  {
   "cell_type": "code",
   "execution_count": 149,
   "metadata": {},
   "outputs": [
    {
     "data": {
      "text/plain": [
       "'20231208'"
      ]
     },
     "execution_count": 149,
     "metadata": {},
     "output_type": "execute_result"
    }
   ],
   "source": [
    "today_date = datetime.today().strftime('%Y%m%d')\n",
    "today_date"
   ]
  },
  {
   "cell_type": "markdown",
   "metadata": {},
   "source": [
    "### [출력] 전문정비 내역 수정"
   ]
  },
  {
   "cell_type": "code",
   "execution_count": 150,
   "metadata": {},
   "outputs": [],
   "source": [
    "# 1.0s\n",
    "err_copy.to_csv(os.path.join(raw4_fold, f'전문정비내역수정_{today_date}.csv'), index=False)"
   ]
  },
  {
   "cell_type": "markdown",
   "metadata": {},
   "source": [
    "# EDA"
   ]
  },
  {
   "cell_type": "markdown",
   "metadata": {},
   "source": [
    "## 전문정비"
   ]
  },
  {
   "cell_type": "code",
   "execution_count": 10,
   "metadata": {},
   "outputs": [
    {
     "data": {
      "text/html": [
       "<div>\n",
       "<style scoped>\n",
       "    .dataframe tbody tr th:only-of-type {\n",
       "        vertical-align: middle;\n",
       "    }\n",
       "\n",
       "    .dataframe tbody tr th {\n",
       "        vertical-align: top;\n",
       "    }\n",
       "\n",
       "    .dataframe thead th {\n",
       "        text-align: right;\n",
       "    }\n",
       "</style>\n",
       "<table border=\"1\" class=\"dataframe\">\n",
       "  <thead>\n",
       "    <tr style=\"text-align: right;\">\n",
       "      <th></th>\n",
       "      <th>주행거리</th>\n",
       "      <th>자동차등록번호</th>\n",
       "      <th>차대번호</th>\n",
       "      <th>부하_일산화탄소_측정치</th>\n",
       "      <th>부하_탄화수소_측정치</th>\n",
       "      <th>부하_질소산화물_측정치</th>\n",
       "      <th>부하_매연_측정치</th>\n",
       "      <th>부하_토크_측정치</th>\n",
       "      <th>정비일자</th>\n",
       "      <th>전문정비사업소명</th>\n",
       "      <th>정비접수번호</th>\n",
       "      <th>정밀재검사접수번호</th>\n",
       "      <th>무부하_일산화탄소_측정치</th>\n",
       "      <th>무부하_탄화수소_측정치</th>\n",
       "      <th>무부하_공기과잉률_측정치</th>\n",
       "      <th>무부하_매연_측정치</th>\n",
       "    </tr>\n",
       "  </thead>\n",
       "  <tbody>\n",
       "    <tr>\n",
       "      <th>0</th>\n",
       "      <td>91971.0</td>\n",
       "      <td>서울82누4807</td>\n",
       "      <td>KN4JAV7S2YK017953</td>\n",
       "      <td>0.00</td>\n",
       "      <td>0.00</td>\n",
       "      <td>0.00</td>\n",
       "      <td>0.00</td>\n",
       "      <td>0.00</td>\n",
       "      <td>20080110</td>\n",
       "      <td>(주)삼흥자동차서비스</td>\n",
       "      <td>1</td>\n",
       "      <td>11a02008011000171</td>\n",
       "      <td>0.00</td>\n",
       "      <td>0.00</td>\n",
       "      <td>0.00</td>\n",
       "      <td>&lt;NULL&gt;</td>\n",
       "    </tr>\n",
       "    <tr>\n",
       "      <th>1</th>\n",
       "      <td>127433.0</td>\n",
       "      <td>서울82모2590</td>\n",
       "      <td>KNR1M2HEYXT009110</td>\n",
       "      <td>0.00</td>\n",
       "      <td>0.00</td>\n",
       "      <td>0.00</td>\n",
       "      <td>0.00</td>\n",
       "      <td>0.00</td>\n",
       "      <td>20080123</td>\n",
       "      <td>(주)삼흥자동차서비스</td>\n",
       "      <td>1</td>\n",
       "      <td>A0142008012300171</td>\n",
       "      <td>0.00</td>\n",
       "      <td>0.00</td>\n",
       "      <td>0.00</td>\n",
       "      <td>&lt;NULL&gt;</td>\n",
       "    </tr>\n",
       "    <tr>\n",
       "      <th>2</th>\n",
       "      <td>307964.0</td>\n",
       "      <td>서울85두1462</td>\n",
       "      <td>KMFXKS7BPWU240029</td>\n",
       "      <td>0.00</td>\n",
       "      <td>0.00</td>\n",
       "      <td>0.00</td>\n",
       "      <td>0.00</td>\n",
       "      <td>0.00</td>\n",
       "      <td>20080108</td>\n",
       "      <td>(주)삼흥자동차서비스</td>\n",
       "      <td>1</td>\n",
       "      <td>A0142008010800381</td>\n",
       "      <td>0.00</td>\n",
       "      <td>0.00</td>\n",
       "      <td>0.00</td>\n",
       "      <td>&lt;NULL&gt;</td>\n",
       "    </tr>\n",
       "    <tr>\n",
       "      <th>3</th>\n",
       "      <td>190617.0</td>\n",
       "      <td>06서3621</td>\n",
       "      <td>KPBLC3D81VP026259</td>\n",
       "      <td>0.00</td>\n",
       "      <td>0.00</td>\n",
       "      <td>0.00</td>\n",
       "      <td>42.00</td>\n",
       "      <td>54.00</td>\n",
       "      <td>20080118</td>\n",
       "      <td>(주)동신공업사-부산</td>\n",
       "      <td>1</td>\n",
       "      <td>B0432008011800051</td>\n",
       "      <td>0.00</td>\n",
       "      <td>0.00</td>\n",
       "      <td>0.00</td>\n",
       "      <td>&lt;NULL&gt;</td>\n",
       "    </tr>\n",
       "    <tr>\n",
       "      <th>4</th>\n",
       "      <td>185991.0</td>\n",
       "      <td>72노1317</td>\n",
       "      <td>KMJWWH7BPYU258482</td>\n",
       "      <td>0.00</td>\n",
       "      <td>0.00</td>\n",
       "      <td>0.00</td>\n",
       "      <td>52.00</td>\n",
       "      <td>46.00</td>\n",
       "      <td>20080107</td>\n",
       "      <td>(주)동신공업사-부산</td>\n",
       "      <td>1</td>\n",
       "      <td>B0222008010700521</td>\n",
       "      <td>0.00</td>\n",
       "      <td>0.00</td>\n",
       "      <td>0.00</td>\n",
       "      <td>&lt;NULL&gt;</td>\n",
       "    </tr>\n",
       "  </tbody>\n",
       "</table>\n",
       "</div>"
      ],
      "text/plain": [
       "       주행거리    자동차등록번호               차대번호 부하_일산화탄소_측정치 부하_탄화수소_측정치  \\\n",
       "0   91971.0  서울82누4807  KN4JAV7S2YK017953         0.00        0.00   \n",
       "1  127433.0  서울82모2590  KNR1M2HEYXT009110         0.00        0.00   \n",
       "2  307964.0  서울85두1462  KMFXKS7BPWU240029         0.00        0.00   \n",
       "3  190617.0    06서3621  KPBLC3D81VP026259         0.00        0.00   \n",
       "4  185991.0    72노1317  KMJWWH7BPYU258482         0.00        0.00   \n",
       "\n",
       "  부하_질소산화물_측정치 부하_매연_측정치 부하_토크_측정치      정비일자     전문정비사업소명  정비접수번호  \\\n",
       "0         0.00      0.00      0.00  20080110  (주)삼흥자동차서비스       1   \n",
       "1         0.00      0.00      0.00  20080123  (주)삼흥자동차서비스       1   \n",
       "2         0.00      0.00      0.00  20080108  (주)삼흥자동차서비스       1   \n",
       "3         0.00     42.00     54.00  20080118  (주)동신공업사-부산       1   \n",
       "4         0.00     52.00     46.00  20080107  (주)동신공업사-부산       1   \n",
       "\n",
       "           정밀재검사접수번호 무부하_일산화탄소_측정치 무부하_탄화수소_측정치 무부하_공기과잉률_측정치 무부하_매연_측정치  \n",
       "0  11a02008011000171          0.00         0.00          0.00     <NULL>  \n",
       "1  A0142008012300171          0.00         0.00          0.00     <NULL>  \n",
       "2  A0142008010800381          0.00         0.00          0.00     <NULL>  \n",
       "3  B0432008011800051          0.00         0.00          0.00     <NULL>  \n",
       "4  B0222008010700521          0.00         0.00          0.00     <NULL>  "
      ]
     },
     "execution_count": 10,
     "metadata": {},
     "output_type": "execute_result"
    }
   ],
   "source": [
    "resr.head()"
   ]
  },
  {
   "cell_type": "code",
   "execution_count": 11,
   "metadata": {},
   "outputs": [
    {
     "data": {
      "text/plain": [
       "((54617, 16), 46780)"
      ]
     },
     "execution_count": 11,
     "metadata": {},
     "output_type": "execute_result"
    }
   ],
   "source": [
    "resr.shape, len(resr['자동차등록번호'].unique())"
   ]
  },
  {
   "cell_type": "code",
   "execution_count": 12,
   "metadata": {},
   "outputs": [
    {
     "data": {
      "text/plain": [
       "((54617, 16), 43771)"
      ]
     },
     "execution_count": 12,
     "metadata": {},
     "output_type": "execute_result"
    }
   ],
   "source": [
    "resr.shape, len(resr['차대번호'].unique())"
   ]
  },
  {
   "cell_type": "code",
   "execution_count": 13,
   "metadata": {},
   "outputs": [
    {
     "data": {
      "text/plain": [
       "((54617, 16), 54543)"
      ]
     },
     "execution_count": 13,
     "metadata": {},
     "output_type": "execute_result"
    }
   ],
   "source": [
    "resr.shape, len(resr['정밀재검사접수번호'].unique())"
   ]
  },
  {
   "cell_type": "code",
   "execution_count": 14,
   "metadata": {},
   "outputs": [
    {
     "data": {
      "text/plain": [
       "(121, 16)"
      ]
     },
     "execution_count": 14,
     "metadata": {},
     "output_type": "execute_result"
    }
   ],
   "source": [
    "dupl = resr[resr['정밀재검사접수번호'].duplicated(keep=False)].sort_values('정밀재검사접수번호')\n",
    "dupl.shape"
   ]
  },
  {
   "cell_type": "code",
   "execution_count": 15,
   "metadata": {},
   "outputs": [
    {
     "data": {
      "text/html": [
       "<div>\n",
       "<style scoped>\n",
       "    .dataframe tbody tr th:only-of-type {\n",
       "        vertical-align: middle;\n",
       "    }\n",
       "\n",
       "    .dataframe tbody tr th {\n",
       "        vertical-align: top;\n",
       "    }\n",
       "\n",
       "    .dataframe thead th {\n",
       "        text-align: right;\n",
       "    }\n",
       "</style>\n",
       "<table border=\"1\" class=\"dataframe\">\n",
       "  <thead>\n",
       "    <tr style=\"text-align: right;\">\n",
       "      <th></th>\n",
       "      <th>주행거리</th>\n",
       "      <th>자동차등록번호</th>\n",
       "      <th>차대번호</th>\n",
       "      <th>부하_일산화탄소_측정치</th>\n",
       "      <th>부하_탄화수소_측정치</th>\n",
       "      <th>부하_질소산화물_측정치</th>\n",
       "      <th>부하_매연_측정치</th>\n",
       "      <th>부하_토크_측정치</th>\n",
       "      <th>정비일자</th>\n",
       "      <th>전문정비사업소명</th>\n",
       "      <th>정비접수번호</th>\n",
       "      <th>정밀재검사접수번호</th>\n",
       "      <th>무부하_일산화탄소_측정치</th>\n",
       "      <th>무부하_탄화수소_측정치</th>\n",
       "      <th>무부하_공기과잉률_측정치</th>\n",
       "      <th>무부하_매연_측정치</th>\n",
       "    </tr>\n",
       "  </thead>\n",
       "  <tbody>\n",
       "    <tr>\n",
       "      <th>13643</th>\n",
       "      <td>81881.0</td>\n",
       "      <td>서울80머1122</td>\n",
       "      <td>KRV5KS3L4VC000023</td>\n",
       "      <td>0.00</td>\n",
       "      <td>0.00</td>\n",
       "      <td>0.00</td>\n",
       "      <td>28.00</td>\n",
       "      <td>172.00</td>\n",
       "      <td>20090513</td>\n",
       "      <td>서울특별시차량정비사업소</td>\n",
       "      <td>2</td>\n",
       "      <td>11a02009051300741</td>\n",
       "      <td>0.00</td>\n",
       "      <td>0.00</td>\n",
       "      <td>NaN</td>\n",
       "      <td>0.00</td>\n",
       "    </tr>\n",
       "    <tr>\n",
       "      <th>13642</th>\n",
       "      <td>81881.0</td>\n",
       "      <td>서울80머1122</td>\n",
       "      <td>KRV5KS3L4VC000023</td>\n",
       "      <td>0.00</td>\n",
       "      <td>0.00</td>\n",
       "      <td>0.00</td>\n",
       "      <td>28.00</td>\n",
       "      <td>172.00</td>\n",
       "      <td>20090513</td>\n",
       "      <td>서울특별시차량정비사업소</td>\n",
       "      <td>1</td>\n",
       "      <td>11a02009051300741</td>\n",
       "      <td>0.00</td>\n",
       "      <td>0.00</td>\n",
       "      <td>NaN</td>\n",
       "      <td>0.00</td>\n",
       "    </tr>\n",
       "    <tr>\n",
       "      <th>4393</th>\n",
       "      <td>148298.0</td>\n",
       "      <td>부산81나1038</td>\n",
       "      <td>KMFXKD7BP3U718984</td>\n",
       "      <td>0.00</td>\n",
       "      <td>0.00</td>\n",
       "      <td>0.00</td>\n",
       "      <td>21.00</td>\n",
       "      <td>50.00</td>\n",
       "      <td>20101001</td>\n",
       "      <td>삼덕정비(주)</td>\n",
       "      <td>2</td>\n",
       "      <td>26302010092700851</td>\n",
       "      <td>0.00</td>\n",
       "      <td>0.00</td>\n",
       "      <td>NaN</td>\n",
       "      <td>0.00</td>\n",
       "    </tr>\n",
       "    <tr>\n",
       "      <th>32445</th>\n",
       "      <td>148296.0</td>\n",
       "      <td>부산81나1038</td>\n",
       "      <td>KMFXKD7BP3U718984</td>\n",
       "      <td>0.00</td>\n",
       "      <td>0.00</td>\n",
       "      <td>0.00</td>\n",
       "      <td>57.00</td>\n",
       "      <td>0.00</td>\n",
       "      <td>20100928</td>\n",
       "      <td>삼덕정비(주)</td>\n",
       "      <td>1</td>\n",
       "      <td>26302010092700851</td>\n",
       "      <td>0.00</td>\n",
       "      <td>0.00</td>\n",
       "      <td>NaN</td>\n",
       "      <td>0.00</td>\n",
       "    </tr>\n",
       "    <tr>\n",
       "      <th>21179</th>\n",
       "      <td>36507.0</td>\n",
       "      <td>75루1661</td>\n",
       "      <td>KPDKFDNF14P000917</td>\n",
       "      <td>0.00</td>\n",
       "      <td>0.00</td>\n",
       "      <td>0.00</td>\n",
       "      <td>0.00</td>\n",
       "      <td>0.00</td>\n",
       "      <td>20071019</td>\n",
       "      <td>대구부란자</td>\n",
       "      <td>2</td>\n",
       "      <td>27302007100403841</td>\n",
       "      <td>0.00</td>\n",
       "      <td>0.00</td>\n",
       "      <td>24.50</td>\n",
       "      <td>&lt;NULL&gt;</td>\n",
       "    </tr>\n",
       "  </tbody>\n",
       "</table>\n",
       "</div>"
      ],
      "text/plain": [
       "           주행거리    자동차등록번호               차대번호 부하_일산화탄소_측정치 부하_탄화수소_측정치  \\\n",
       "13643   81881.0  서울80머1122  KRV5KS3L4VC000023         0.00        0.00   \n",
       "13642   81881.0  서울80머1122  KRV5KS3L4VC000023         0.00        0.00   \n",
       "4393   148298.0  부산81나1038  KMFXKD7BP3U718984         0.00        0.00   \n",
       "32445  148296.0  부산81나1038  KMFXKD7BP3U718984         0.00        0.00   \n",
       "21179   36507.0    75루1661  KPDKFDNF14P000917         0.00        0.00   \n",
       "\n",
       "      부하_질소산화물_측정치 부하_매연_측정치 부하_토크_측정치      정비일자      전문정비사업소명  정비접수번호  \\\n",
       "13643         0.00     28.00    172.00  20090513  서울특별시차량정비사업소       2   \n",
       "13642         0.00     28.00    172.00  20090513  서울특별시차량정비사업소       1   \n",
       "4393          0.00     21.00     50.00  20101001       삼덕정비(주)       2   \n",
       "32445         0.00     57.00      0.00  20100928       삼덕정비(주)       1   \n",
       "21179         0.00      0.00      0.00  20071019         대구부란자       2   \n",
       "\n",
       "               정밀재검사접수번호 무부하_일산화탄소_측정치 무부하_탄화수소_측정치 무부하_공기과잉률_측정치 무부하_매연_측정치  \n",
       "13643  11a02009051300741          0.00         0.00           NaN       0.00  \n",
       "13642  11a02009051300741          0.00         0.00           NaN       0.00  \n",
       "4393   26302010092700851          0.00         0.00           NaN       0.00  \n",
       "32445  26302010092700851          0.00         0.00           NaN       0.00  \n",
       "21179  27302007100403841          0.00         0.00         24.50     <NULL>  "
      ]
     },
     "execution_count": 15,
     "metadata": {},
     "output_type": "execute_result"
    }
   ],
   "source": [
    "dupl.head()"
   ]
  },
  {
   "cell_type": "code",
   "execution_count": 16,
   "metadata": {},
   "outputs": [
    {
     "data": {
      "text/plain": [
       "array([2, 1, 3, 4, 7, 6, 5], dtype=int64)"
      ]
     },
     "execution_count": 16,
     "metadata": {},
     "output_type": "execute_result"
    }
   ],
   "source": [
    "dupl['정비접수번호'].unique()"
   ]
  },
  {
   "cell_type": "code",
   "execution_count": 19,
   "metadata": {},
   "outputs": [
    {
     "name": "stdout",
     "output_type": "stream",
     "text": [
      "27302008072901661 2\n",
      "27302010022601700  1\n",
      "27602012083000681 2\n",
      "29502007112900971 1\n",
      "31302007082901261 3\n",
      "31312011062200251 2\n",
      "31332010070600031 3\n",
      "31362011011000041 2\n",
      "31362011092200091 1\n",
      "41412010032500400  1\n",
      "41652010030800300  1\n",
      "A0062007040500321 2\n",
      "C0152012012500031 1\n",
      "C0282012061900131 1\n",
      "E0302007082200031 2\n",
      "F0032008021100361 3\n",
      "H0952007062900271 2\n",
      "J0042008040800231 1\n",
      "J0142008081400081 2\n",
      "O0172009080500111 1\n"
     ]
    }
   ],
   "source": [
    "# 동일한 정밀재검사접수번호에서 정비접수번호는 다른가?\n",
    "for one in dupl['정밀재검사접수번호'].unique():\n",
    "    temp = dupl[dupl['정밀재검사접수번호'] == one]\n",
    "    if temp.shape[0] != len(temp['정비접수번호'].unique()):\n",
    "        print(one, len(temp['정비접수번호'].unique()))"
   ]
  },
  {
   "cell_type": "code",
   "execution_count": 21,
   "metadata": {},
   "outputs": [
    {
     "data": {
      "text/html": [
       "<div>\n",
       "<style scoped>\n",
       "    .dataframe tbody tr th:only-of-type {\n",
       "        vertical-align: middle;\n",
       "    }\n",
       "\n",
       "    .dataframe tbody tr th {\n",
       "        vertical-align: top;\n",
       "    }\n",
       "\n",
       "    .dataframe thead th {\n",
       "        text-align: right;\n",
       "    }\n",
       "</style>\n",
       "<table border=\"1\" class=\"dataframe\">\n",
       "  <thead>\n",
       "    <tr style=\"text-align: right;\">\n",
       "      <th></th>\n",
       "      <th>주행거리</th>\n",
       "      <th>자동차등록번호</th>\n",
       "      <th>차대번호</th>\n",
       "      <th>부하_일산화탄소_측정치</th>\n",
       "      <th>부하_탄화수소_측정치</th>\n",
       "      <th>부하_질소산화물_측정치</th>\n",
       "      <th>부하_매연_측정치</th>\n",
       "      <th>부하_토크_측정치</th>\n",
       "      <th>정비일자</th>\n",
       "      <th>전문정비사업소명</th>\n",
       "      <th>정비접수번호</th>\n",
       "      <th>정밀재검사접수번호</th>\n",
       "      <th>무부하_일산화탄소_측정치</th>\n",
       "      <th>무부하_탄화수소_측정치</th>\n",
       "      <th>무부하_공기과잉률_측정치</th>\n",
       "      <th>무부하_매연_측정치</th>\n",
       "    </tr>\n",
       "  </thead>\n",
       "  <tbody>\n",
       "    <tr>\n",
       "      <th>9815</th>\n",
       "      <td>17628.0</td>\n",
       "      <td>88러1181</td>\n",
       "      <td>KMFLA19RPVU116617</td>\n",
       "      <td>0.00</td>\n",
       "      <td>0.00</td>\n",
       "      <td>0.00</td>\n",
       "      <td>0.00</td>\n",
       "      <td>0.00</td>\n",
       "      <td>20080214</td>\n",
       "      <td>한일브랸쟈</td>\n",
       "      <td>3</td>\n",
       "      <td>F0032008021100361</td>\n",
       "      <td>0.00</td>\n",
       "      <td>0.00</td>\n",
       "      <td>0.00</td>\n",
       "      <td>&lt;NULL&gt;</td>\n",
       "    </tr>\n",
       "    <tr>\n",
       "      <th>9813</th>\n",
       "      <td>17628.0</td>\n",
       "      <td>88러1181</td>\n",
       "      <td>KMFLA19RPVU116617</td>\n",
       "      <td>0.00</td>\n",
       "      <td>0.00</td>\n",
       "      <td>0.00</td>\n",
       "      <td>0.00</td>\n",
       "      <td>0.00</td>\n",
       "      <td>20080214</td>\n",
       "      <td>한일브랸쟈</td>\n",
       "      <td>1</td>\n",
       "      <td>F0032008021100361</td>\n",
       "      <td>0.00</td>\n",
       "      <td>0.00</td>\n",
       "      <td>0.00</td>\n",
       "      <td>&lt;NULL&gt;</td>\n",
       "    </tr>\n",
       "    <tr>\n",
       "      <th>9814</th>\n",
       "      <td>17628.0</td>\n",
       "      <td>88러1181</td>\n",
       "      <td>KMFLA19RPVU116617</td>\n",
       "      <td>0.00</td>\n",
       "      <td>0.00</td>\n",
       "      <td>0.00</td>\n",
       "      <td>0.00</td>\n",
       "      <td>0.00</td>\n",
       "      <td>20080214</td>\n",
       "      <td>한일브랸쟈</td>\n",
       "      <td>2</td>\n",
       "      <td>F0032008021100361</td>\n",
       "      <td>0.00</td>\n",
       "      <td>0.00</td>\n",
       "      <td>0.00</td>\n",
       "      <td>&lt;NULL&gt;</td>\n",
       "    </tr>\n",
       "    <tr>\n",
       "      <th>9373</th>\n",
       "      <td>17628.0</td>\n",
       "      <td>88러1181</td>\n",
       "      <td>KMFLA19RPVU116617</td>\n",
       "      <td>0.00</td>\n",
       "      <td>0.00</td>\n",
       "      <td>0.00</td>\n",
       "      <td>0.00</td>\n",
       "      <td>0.00</td>\n",
       "      <td>20080212</td>\n",
       "      <td>e-디젤시스템</td>\n",
       "      <td>1</td>\n",
       "      <td>F0032008021100361</td>\n",
       "      <td>0.00</td>\n",
       "      <td>0.00</td>\n",
       "      <td>0.00</td>\n",
       "      <td>&lt;NULL&gt;</td>\n",
       "    </tr>\n",
       "  </tbody>\n",
       "</table>\n",
       "</div>"
      ],
      "text/plain": [
       "         주행거리  자동차등록번호               차대번호 부하_일산화탄소_측정치 부하_탄화수소_측정치  \\\n",
       "9815  17628.0  88러1181  KMFLA19RPVU116617         0.00        0.00   \n",
       "9813  17628.0  88러1181  KMFLA19RPVU116617         0.00        0.00   \n",
       "9814  17628.0  88러1181  KMFLA19RPVU116617         0.00        0.00   \n",
       "9373  17628.0  88러1181  KMFLA19RPVU116617         0.00        0.00   \n",
       "\n",
       "     부하_질소산화물_측정치 부하_매연_측정치 부하_토크_측정치      정비일자 전문정비사업소명  정비접수번호  \\\n",
       "9815         0.00      0.00      0.00  20080214    한일브랸쟈       3   \n",
       "9813         0.00      0.00      0.00  20080214    한일브랸쟈       1   \n",
       "9814         0.00      0.00      0.00  20080214    한일브랸쟈       2   \n",
       "9373         0.00      0.00      0.00  20080212  e-디젤시스템       1   \n",
       "\n",
       "              정밀재검사접수번호 무부하_일산화탄소_측정치 무부하_탄화수소_측정치 무부하_공기과잉률_측정치 무부하_매연_측정치  \n",
       "9815  F0032008021100361          0.00         0.00          0.00     <NULL>  \n",
       "9813  F0032008021100361          0.00         0.00          0.00     <NULL>  \n",
       "9814  F0032008021100361          0.00         0.00          0.00     <NULL>  \n",
       "9373  F0032008021100361          0.00         0.00          0.00     <NULL>  "
      ]
     },
     "execution_count": 21,
     "metadata": {},
     "output_type": "execute_result"
    }
   ],
   "source": [
    "dupl[dupl['정밀재검사접수번호'] == 'F0032008021100361']"
   ]
  },
  {
   "cell_type": "code",
   "execution_count": null,
   "metadata": {},
   "outputs": [],
   "source": [
    "# 정밀재검사접수번호, 정비접수번호, 전문정비사업소명, 차대번호 기준 중복 없는지 확인"
   ]
  },
  {
   "cell_type": "code",
   "execution_count": 33,
   "metadata": {},
   "outputs": [
    {
     "data": {
      "text/plain": [
       "(54617, 16)"
      ]
     },
     "execution_count": 33,
     "metadata": {},
     "output_type": "execute_result"
    }
   ],
   "source": [
    "resr.shape"
   ]
  },
  {
   "cell_type": "code",
   "execution_count": 34,
   "metadata": {},
   "outputs": [
    {
     "data": {
      "text/plain": [
       "(54617, 16)"
      ]
     },
     "execution_count": 34,
     "metadata": {},
     "output_type": "execute_result"
    }
   ],
   "source": [
    "resr.drop_duplicates(['정밀재검사접수번호', '정비접수번호', '전문정비사업소명', '차대번호']).shape"
   ]
  },
  {
   "cell_type": "code",
   "execution_count": 35,
   "metadata": {},
   "outputs": [
    {
     "data": {
      "text/plain": [
       "(106819, 8)"
      ]
     },
     "execution_count": 35,
     "metadata": {},
     "output_type": "execute_result"
    }
   ],
   "source": [
    "rdtr.shape"
   ]
  },
  {
   "cell_type": "code",
   "execution_count": 36,
   "metadata": {},
   "outputs": [
    {
     "data": {
      "text/plain": [
       "Index(['자동차등록번호', '차대번호', '정비내용', '정비일자', '전문정비사업소명', '정비부품명', '정비접수번호',\n",
       "       '정밀재검사접수번호'],\n",
       "      dtype='object')"
      ]
     },
     "execution_count": 36,
     "metadata": {},
     "output_type": "execute_result"
    }
   ],
   "source": [
    "rdtr.columns"
   ]
  },
  {
   "cell_type": "code",
   "execution_count": 37,
   "metadata": {},
   "outputs": [
    {
     "data": {
      "text/plain": [
       "(47983, 8)"
      ]
     },
     "execution_count": 37,
     "metadata": {},
     "output_type": "execute_result"
    }
   ],
   "source": [
    "# 정밀재검사접수번호, 정비접수번호, 전문정비사업소명, 차대번호 기준 중복 없는지 확인\n",
    "rdtr.drop_duplicates(['정밀재검사접수번호', '정비접수번호', '전문정비사업소명', '차대번호']).shape"
   ]
  },
  {
   "cell_type": "code",
   "execution_count": 38,
   "metadata": {},
   "outputs": [
    {
     "data": {
      "text/html": [
       "<div>\n",
       "<style scoped>\n",
       "    .dataframe tbody tr th:only-of-type {\n",
       "        vertical-align: middle;\n",
       "    }\n",
       "\n",
       "    .dataframe tbody tr th {\n",
       "        vertical-align: top;\n",
       "    }\n",
       "\n",
       "    .dataframe thead th {\n",
       "        text-align: right;\n",
       "    }\n",
       "</style>\n",
       "<table border=\"1\" class=\"dataframe\">\n",
       "  <thead>\n",
       "    <tr style=\"text-align: right;\">\n",
       "      <th></th>\n",
       "      <th>자동차등록번호</th>\n",
       "      <th>차대번호</th>\n",
       "      <th>정비내용</th>\n",
       "      <th>정비일자</th>\n",
       "      <th>전문정비사업소명</th>\n",
       "      <th>정비부품명</th>\n",
       "      <th>정비접수번호</th>\n",
       "      <th>정밀재검사접수번호</th>\n",
       "    </tr>\n",
       "  </thead>\n",
       "  <tbody>\n",
       "    <tr>\n",
       "      <th>0</th>\n",
       "      <td>경기87라5197</td>\n",
       "      <td>KMFXKD7BP1U464612</td>\n",
       "      <td>연료분사펌프(조속기조정봉인)</td>\n",
       "      <td>20070208.0</td>\n",
       "      <td>(주)중산자동차정비검사소</td>\n",
       "      <td>연료장치</td>\n",
       "      <td>1.0</td>\n",
       "      <td>NaN</td>\n",
       "    </tr>\n",
       "    <tr>\n",
       "      <th>1</th>\n",
       "      <td>경기5보7418</td>\n",
       "      <td>KMJFD37XPPU027845</td>\n",
       "      <td>연료분사펌프(조속기조정봉인)</td>\n",
       "      <td>20060811.0</td>\n",
       "      <td>(주)삼광자동차중기</td>\n",
       "      <td>연료장치</td>\n",
       "      <td>1.0</td>\n",
       "      <td>NaN</td>\n",
       "    </tr>\n",
       "    <tr>\n",
       "      <th>2</th>\n",
       "      <td>경기5보7418</td>\n",
       "      <td>KMJFD37XPPU027845</td>\n",
       "      <td>엔진오일</td>\n",
       "      <td>20060811.0</td>\n",
       "      <td>(주)삼광자동차중기</td>\n",
       "      <td>엔진계통</td>\n",
       "      <td>1.0</td>\n",
       "      <td>NaN</td>\n",
       "    </tr>\n",
       "    <tr>\n",
       "      <th>3</th>\n",
       "      <td>경기5보7418</td>\n",
       "      <td>KMJFD37XPPU027845</td>\n",
       "      <td>공회전속도</td>\n",
       "      <td>20060811.0</td>\n",
       "      <td>(주)삼광자동차중기</td>\n",
       "      <td>엔진계통</td>\n",
       "      <td>1.0</td>\n",
       "      <td>NaN</td>\n",
       "    </tr>\n",
       "    <tr>\n",
       "      <th>4</th>\n",
       "      <td>경기65러8780</td>\n",
       "      <td>KNAJA5265TA773125</td>\n",
       "      <td>연료분사펌프(조속기조정봉인)</td>\n",
       "      <td>20061211.0</td>\n",
       "      <td>(주)삼광자동차중기</td>\n",
       "      <td>연료장치</td>\n",
       "      <td>1.0</td>\n",
       "      <td>NaN</td>\n",
       "    </tr>\n",
       "  </tbody>\n",
       "</table>\n",
       "</div>"
      ],
      "text/plain": [
       "     자동차등록번호               차대번호              정비내용        정비일자       전문정비사업소명  \\\n",
       "0  경기87라5197  KMFXKD7BP1U464612  연료분사펌프(조속기조정봉인)  20070208.0  (주)중산자동차정비검사소   \n",
       "1   경기5보7418  KMJFD37XPPU027845  연료분사펌프(조속기조정봉인)  20060811.0     (주)삼광자동차중기   \n",
       "2   경기5보7418  KMJFD37XPPU027845              엔진오일  20060811.0     (주)삼광자동차중기   \n",
       "3   경기5보7418  KMJFD37XPPU027845             공회전속도  20060811.0     (주)삼광자동차중기   \n",
       "4  경기65러8780  KNAJA5265TA773125  연료분사펌프(조속기조정봉인)  20061211.0     (주)삼광자동차중기   \n",
       "\n",
       "  정비부품명  정비접수번호  정밀재검사접수번호  \n",
       "0  연료장치     1.0        NaN  \n",
       "1  연료장치     1.0        NaN  \n",
       "2  엔진계통     1.0        NaN  \n",
       "3  엔진계통     1.0        NaN  \n",
       "4  연료장치     1.0        NaN  "
      ]
     },
     "execution_count": 38,
     "metadata": {},
     "output_type": "execute_result"
    }
   ],
   "source": [
    "rdtr.head()"
   ]
  },
  {
   "cell_type": "code",
   "execution_count": 23,
   "metadata": {},
   "outputs": [
    {
     "data": {
      "text/html": [
       "<div>\n",
       "<style scoped>\n",
       "    .dataframe tbody tr th:only-of-type {\n",
       "        vertical-align: middle;\n",
       "    }\n",
       "\n",
       "    .dataframe tbody tr th {\n",
       "        vertical-align: top;\n",
       "    }\n",
       "\n",
       "    .dataframe thead th {\n",
       "        text-align: right;\n",
       "    }\n",
       "</style>\n",
       "<table border=\"1\" class=\"dataframe\">\n",
       "  <thead>\n",
       "    <tr style=\"text-align: right;\">\n",
       "      <th></th>\n",
       "      <th>자동차등록번호</th>\n",
       "      <th>차대번호</th>\n",
       "      <th>정비내용</th>\n",
       "      <th>정비일자</th>\n",
       "      <th>전문정비사업소명</th>\n",
       "      <th>정비부품명</th>\n",
       "      <th>정비접수번호</th>\n",
       "      <th>정밀재검사접수번호</th>\n",
       "    </tr>\n",
       "  </thead>\n",
       "  <tbody>\n",
       "    <tr>\n",
       "      <th>53775</th>\n",
       "      <td>88러1181</td>\n",
       "      <td>KMFLA19RPVU116617</td>\n",
       "      <td>연료분사펌프(조속기조정봉인)</td>\n",
       "      <td>20080215.0</td>\n",
       "      <td>한일브랸쟈</td>\n",
       "      <td>연료장치</td>\n",
       "      <td>4.0</td>\n",
       "      <td>NaN</td>\n",
       "    </tr>\n",
       "    <tr>\n",
       "      <th>56095</th>\n",
       "      <td>88러1181</td>\n",
       "      <td>KMFLA19RPVU116617</td>\n",
       "      <td>노즐(디젤인젝터포함)</td>\n",
       "      <td>20080212.0</td>\n",
       "      <td>e-디젤시스템</td>\n",
       "      <td>연료장치</td>\n",
       "      <td>1.0</td>\n",
       "      <td>NaN</td>\n",
       "    </tr>\n",
       "    <tr>\n",
       "      <th>56489</th>\n",
       "      <td>88러1181</td>\n",
       "      <td>KMFLA19RPVU116617</td>\n",
       "      <td>연료분사펌프(조속기조정봉인)</td>\n",
       "      <td>20080215.0</td>\n",
       "      <td>한일브랸쟈</td>\n",
       "      <td>연료장치</td>\n",
       "      <td>5.0</td>\n",
       "      <td>NaN</td>\n",
       "    </tr>\n",
       "  </tbody>\n",
       "</table>\n",
       "</div>"
      ],
      "text/plain": [
       "       자동차등록번호               차대번호              정비내용        정비일자 전문정비사업소명  \\\n",
       "53775  88러1181  KMFLA19RPVU116617  연료분사펌프(조속기조정봉인)  20080215.0    한일브랸쟈   \n",
       "56095  88러1181  KMFLA19RPVU116617       노즐(디젤인젝터포함)  20080212.0  e-디젤시스템   \n",
       "56489  88러1181  KMFLA19RPVU116617  연료분사펌프(조속기조정봉인)  20080215.0    한일브랸쟈   \n",
       "\n",
       "      정비부품명  정비접수번호  정밀재검사접수번호  \n",
       "53775  연료장치     4.0        NaN  \n",
       "56095  연료장치     1.0        NaN  \n",
       "56489  연료장치     5.0        NaN  "
      ]
     },
     "execution_count": 23,
     "metadata": {},
     "output_type": "execute_result"
    }
   ],
   "source": [
    "rdtr[rdtr['차대번호'] == 'KMFLA19RPVU116617']"
   ]
  },
  {
   "cell_type": "code",
   "execution_count": 24,
   "metadata": {},
   "outputs": [
    {
     "data": {
      "text/html": [
       "<div>\n",
       "<style scoped>\n",
       "    .dataframe tbody tr th:only-of-type {\n",
       "        vertical-align: middle;\n",
       "    }\n",
       "\n",
       "    .dataframe tbody tr th {\n",
       "        vertical-align: top;\n",
       "    }\n",
       "\n",
       "    .dataframe thead th {\n",
       "        text-align: right;\n",
       "    }\n",
       "</style>\n",
       "<table border=\"1\" class=\"dataframe\">\n",
       "  <thead>\n",
       "    <tr style=\"text-align: right;\">\n",
       "      <th></th>\n",
       "      <th>주행거리</th>\n",
       "      <th>자동차등록번호</th>\n",
       "      <th>차대번호</th>\n",
       "      <th>부하_일산화탄소_측정치</th>\n",
       "      <th>부하_탄화수소_측정치</th>\n",
       "      <th>부하_질소산화물_측정치</th>\n",
       "      <th>부하_매연_측정치</th>\n",
       "      <th>부하_토크_측정치</th>\n",
       "      <th>정비일자</th>\n",
       "      <th>전문정비사업소명</th>\n",
       "      <th>정비접수번호</th>\n",
       "      <th>정밀재검사접수번호</th>\n",
       "      <th>무부하_일산화탄소_측정치</th>\n",
       "      <th>무부하_탄화수소_측정치</th>\n",
       "      <th>무부하_공기과잉률_측정치</th>\n",
       "      <th>무부하_매연_측정치</th>\n",
       "    </tr>\n",
       "  </thead>\n",
       "  <tbody>\n",
       "    <tr>\n",
       "      <th>9373</th>\n",
       "      <td>17628.0</td>\n",
       "      <td>88러1181</td>\n",
       "      <td>KMFLA19RPVU116617</td>\n",
       "      <td>0.00</td>\n",
       "      <td>0.00</td>\n",
       "      <td>0.00</td>\n",
       "      <td>0.00</td>\n",
       "      <td>0.00</td>\n",
       "      <td>20080212</td>\n",
       "      <td>e-디젤시스템</td>\n",
       "      <td>1</td>\n",
       "      <td>F0032008021100361</td>\n",
       "      <td>0.00</td>\n",
       "      <td>0.00</td>\n",
       "      <td>0.00</td>\n",
       "      <td>&lt;NULL&gt;</td>\n",
       "    </tr>\n",
       "    <tr>\n",
       "      <th>9678</th>\n",
       "      <td>17807.0</td>\n",
       "      <td>88러1181</td>\n",
       "      <td>KMFLA19RPVU116617</td>\n",
       "      <td>0.00</td>\n",
       "      <td>0.00</td>\n",
       "      <td>0.00</td>\n",
       "      <td>0.00</td>\n",
       "      <td>0.00</td>\n",
       "      <td>20080215</td>\n",
       "      <td>한일브랸쟈</td>\n",
       "      <td>5</td>\n",
       "      <td>F0032008021500021</td>\n",
       "      <td>0.00</td>\n",
       "      <td>0.00</td>\n",
       "      <td>0.00</td>\n",
       "      <td>&lt;NULL&gt;</td>\n",
       "    </tr>\n",
       "    <tr>\n",
       "      <th>9813</th>\n",
       "      <td>17628.0</td>\n",
       "      <td>88러1181</td>\n",
       "      <td>KMFLA19RPVU116617</td>\n",
       "      <td>0.00</td>\n",
       "      <td>0.00</td>\n",
       "      <td>0.00</td>\n",
       "      <td>0.00</td>\n",
       "      <td>0.00</td>\n",
       "      <td>20080214</td>\n",
       "      <td>한일브랸쟈</td>\n",
       "      <td>1</td>\n",
       "      <td>F0032008021100361</td>\n",
       "      <td>0.00</td>\n",
       "      <td>0.00</td>\n",
       "      <td>0.00</td>\n",
       "      <td>&lt;NULL&gt;</td>\n",
       "    </tr>\n",
       "    <tr>\n",
       "      <th>9814</th>\n",
       "      <td>17628.0</td>\n",
       "      <td>88러1181</td>\n",
       "      <td>KMFLA19RPVU116617</td>\n",
       "      <td>0.00</td>\n",
       "      <td>0.00</td>\n",
       "      <td>0.00</td>\n",
       "      <td>0.00</td>\n",
       "      <td>0.00</td>\n",
       "      <td>20080214</td>\n",
       "      <td>한일브랸쟈</td>\n",
       "      <td>2</td>\n",
       "      <td>F0032008021100361</td>\n",
       "      <td>0.00</td>\n",
       "      <td>0.00</td>\n",
       "      <td>0.00</td>\n",
       "      <td>&lt;NULL&gt;</td>\n",
       "    </tr>\n",
       "    <tr>\n",
       "      <th>9815</th>\n",
       "      <td>17628.0</td>\n",
       "      <td>88러1181</td>\n",
       "      <td>KMFLA19RPVU116617</td>\n",
       "      <td>0.00</td>\n",
       "      <td>0.00</td>\n",
       "      <td>0.00</td>\n",
       "      <td>0.00</td>\n",
       "      <td>0.00</td>\n",
       "      <td>20080214</td>\n",
       "      <td>한일브랸쟈</td>\n",
       "      <td>3</td>\n",
       "      <td>F0032008021100361</td>\n",
       "      <td>0.00</td>\n",
       "      <td>0.00</td>\n",
       "      <td>0.00</td>\n",
       "      <td>&lt;NULL&gt;</td>\n",
       "    </tr>\n",
       "    <tr>\n",
       "      <th>9816</th>\n",
       "      <td>17790.0</td>\n",
       "      <td>88러1181</td>\n",
       "      <td>KMFLA19RPVU116617</td>\n",
       "      <td>0.00</td>\n",
       "      <td>0.00</td>\n",
       "      <td>0.00</td>\n",
       "      <td>0.00</td>\n",
       "      <td>0.00</td>\n",
       "      <td>20080215</td>\n",
       "      <td>한일브랸쟈</td>\n",
       "      <td>4</td>\n",
       "      <td>F0032008021400261</td>\n",
       "      <td>0.00</td>\n",
       "      <td>0.00</td>\n",
       "      <td>0.00</td>\n",
       "      <td>&lt;NULL&gt;</td>\n",
       "    </tr>\n",
       "  </tbody>\n",
       "</table>\n",
       "</div>"
      ],
      "text/plain": [
       "         주행거리  자동차등록번호               차대번호 부하_일산화탄소_측정치 부하_탄화수소_측정치  \\\n",
       "9373  17628.0  88러1181  KMFLA19RPVU116617         0.00        0.00   \n",
       "9678  17807.0  88러1181  KMFLA19RPVU116617         0.00        0.00   \n",
       "9813  17628.0  88러1181  KMFLA19RPVU116617         0.00        0.00   \n",
       "9814  17628.0  88러1181  KMFLA19RPVU116617         0.00        0.00   \n",
       "9815  17628.0  88러1181  KMFLA19RPVU116617         0.00        0.00   \n",
       "9816  17790.0  88러1181  KMFLA19RPVU116617         0.00        0.00   \n",
       "\n",
       "     부하_질소산화물_측정치 부하_매연_측정치 부하_토크_측정치      정비일자 전문정비사업소명  정비접수번호  \\\n",
       "9373         0.00      0.00      0.00  20080212  e-디젤시스템       1   \n",
       "9678         0.00      0.00      0.00  20080215    한일브랸쟈       5   \n",
       "9813         0.00      0.00      0.00  20080214    한일브랸쟈       1   \n",
       "9814         0.00      0.00      0.00  20080214    한일브랸쟈       2   \n",
       "9815         0.00      0.00      0.00  20080214    한일브랸쟈       3   \n",
       "9816         0.00      0.00      0.00  20080215    한일브랸쟈       4   \n",
       "\n",
       "              정밀재검사접수번호 무부하_일산화탄소_측정치 무부하_탄화수소_측정치 무부하_공기과잉률_측정치 무부하_매연_측정치  \n",
       "9373  F0032008021100361          0.00         0.00          0.00     <NULL>  \n",
       "9678  F0032008021500021          0.00         0.00          0.00     <NULL>  \n",
       "9813  F0032008021100361          0.00         0.00          0.00     <NULL>  \n",
       "9814  F0032008021100361          0.00         0.00          0.00     <NULL>  \n",
       "9815  F0032008021100361          0.00         0.00          0.00     <NULL>  \n",
       "9816  F0032008021400261          0.00         0.00          0.00     <NULL>  "
      ]
     },
     "execution_count": 24,
     "metadata": {},
     "output_type": "execute_result"
    }
   ],
   "source": [
    "resr[resr['차대번호'] == 'KMFLA19RPVU116617']"
   ]
  },
  {
   "cell_type": "code",
   "execution_count": 26,
   "metadata": {},
   "outputs": [
    {
     "data": {
      "text/plain": [
       "106819"
      ]
     },
     "execution_count": 26,
     "metadata": {},
     "output_type": "execute_result"
    }
   ],
   "source": [
    "rdtr['정밀재검사접수번호'].isnull().sum()"
   ]
  },
  {
   "cell_type": "code",
   "execution_count": 27,
   "metadata": {},
   "outputs": [],
   "source": [
    "# 어떤 열을 기준으로 병합 할 것인지 고민\n",
    "# resr, rdtr : 차대번호, 정비접수번호, 전문정비사업소명\n",
    "# 기준 df : resr"
   ]
  },
  {
   "cell_type": "markdown",
   "metadata": {},
   "source": [
    "# Preprocessing"
   ]
  },
  {
   "cell_type": "markdown",
   "metadata": {},
   "source": [
    "## 전문정비, 상세 병합\n",
    "- 어떤 열을 기준으로 병합 할 것인지 고민\n",
    "- resr, rdtr : 차대번호, 정비접수번호, 전문정비사업소명\n",
    "- 기준 df : resr"
   ]
  },
  {
   "cell_type": "code",
   "execution_count": 25,
   "metadata": {},
   "outputs": [
    {
     "data": {
      "text/plain": [
       "(54617, 16)"
      ]
     },
     "execution_count": 25,
     "metadata": {},
     "output_type": "execute_result"
    }
   ],
   "source": [
    "resr.shape"
   ]
  },
  {
   "cell_type": "code",
   "execution_count": null,
   "metadata": {},
   "outputs": [],
   "source": []
  }
 ],
 "metadata": {
  "interpreter": {
   "hash": "569b4317022eb29baeafb3d0f1f739310808ea28ce83ca127a35db1c01070585"
  },
  "kernelspec": {
   "display_name": "Python 3.9.12 ('base')",
   "language": "python",
   "name": "python3"
  },
  "language_info": {
   "codemirror_mode": {
    "name": "ipython",
    "version": 3
   },
   "file_extension": ".py",
   "mimetype": "text/x-python",
   "name": "python",
   "nbconvert_exporter": "python",
   "pygments_lexer": "ipython3",
   "version": "3.9.13"
  },
  "orig_nbformat": 4
 },
 "nbformat": 4,
 "nbformat_minor": 2
}
