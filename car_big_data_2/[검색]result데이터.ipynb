{
 "cells": [
  {
   "attachments": {},
   "cell_type": "markdown",
   "metadata": {},
   "source": [
    "# Library"
   ]
  },
  {
   "cell_type": "code",
   "execution_count": 1,
   "metadata": {},
   "outputs": [],
   "source": [
    "import pandas as pd\n",
    "import numpy as np\n",
    "import os\n",
    "from datetime import datetime"
   ]
  },
  {
   "attachments": {},
   "cell_type": "markdown",
   "metadata": {},
   "source": [
    "# fold path"
   ]
  },
  {
   "cell_type": "code",
   "execution_count": 2,
   "metadata": {},
   "outputs": [],
   "source": [
    "raw_fold = 'D:/data/big2/BD1/raw'\n",
    "an_fold = 'D:/data/big2/BD1/an'"
   ]
  },
  {
   "cell_type": "code",
   "execution_count": 3,
   "metadata": {},
   "outputs": [],
   "source": [
    "# 소수점 옵션\n",
    "pd.options.display.float_format = '{:.2f}'.format\n",
    "# pd.reset_option('display.float_format')"
   ]
  },
  {
   "attachments": {},
   "cell_type": "markdown",
   "metadata": {},
   "source": [
    "## result"
   ]
  },
  {
   "cell_type": "code",
   "execution_count": 4,
   "metadata": {},
   "outputs": [
    {
     "name": "stdout",
     "output_type": "stream",
     "text": [
      "<class 'pandas.core.frame.DataFrame'>\n",
      "RangeIndex: 1502235 entries, 0 to 1502234\n",
      "Data columns (total 33 columns):\n",
      " #   Column    Non-Null Count    Dtype  \n",
      "---  ------    --------------    -----  \n",
      " 0   차대번호      1502235 non-null  object \n",
      " 1   차량번호      1502235 non-null  object \n",
      " 2   제원관리번호    1502235 non-null  object \n",
      " 3   차종        1502235 non-null  object \n",
      " 4   용도        1502235 non-null  object \n",
      " 5   최초등록일     1502235 non-null  int64  \n",
      " 6   연식        1502235 non-null  int64  \n",
      " 7   제작일자      1335178 non-null  float64\n",
      " 8   검사유효일     1502223 non-null  float64\n",
      " 9   배출가스인증번호  1382222 non-null  object \n",
      " 10  등급        1502235 non-null  int64  \n",
      " 11  차명        1502235 non-null  object \n",
      " 12  차종분류      1502235 non-null  object \n",
      " 13  차종유형      1502235 non-null  object \n",
      " 14  자동차형식     1501958 non-null  object \n",
      " 15  제작사명      1492590 non-null  object \n",
      " 16  연료        1502235 non-null  object \n",
      " 17  엔진형식      1500400 non-null  object \n",
      " 18  총중량       1502234 non-null  float64\n",
      " 19  적재중량      1501728 non-null  float64\n",
      " 20  엔진출력      1501882 non-null  object \n",
      " 21  배기량       1502231 non-null  float64\n",
      " 22  법정동코드     1502235 non-null  int64  \n",
      " 23  시도명       1502235 non-null  object \n",
      " 24  시군구명      1502235 non-null  object \n",
      " 25  소유자구분     1502235 non-null  object \n",
      " 26  말소여부      1502235 non-null  object \n",
      " 27  일치유무      1153813 non-null  object \n",
      " 28  배인번호_수정   1153813 non-null  object \n",
      " 29  등급_수정     1153813 non-null  float64\n",
      " 30  DPF유무_수정  1502196 non-null  object \n",
      " 31  fuel      1497673 non-null  object \n",
      " 32  Grade     1497673 non-null  object \n",
      "dtypes: float64(6), int64(4), object(23)\n",
      "memory usage: 378.2+ MB\n"
     ]
    }
   ],
   "source": [
    "# about 16.6s\n",
    "name = '4등급 차량 리스트 양식(전체) result 최종 Grade 추가(2023.04.13_AM.08.39.05)'\n",
    "file_name = f'{name}.csv'\n",
    "df = pd.read_csv(os.path.join(raw_fold, file_name), encoding='cp949', low_memory=False)\n",
    "df.info()"
   ]
  },
  {
   "cell_type": "code",
   "execution_count": 5,
   "metadata": {},
   "outputs": [
    {
     "data": {
      "text/plain": [
       "Index(['차대번호', '차량번호', '제원관리번호', '차종', '용도', '최초등록일', '연식', '제작일자', '검사유효일',\n",
       "       '배출가스인증번호', '등급', '차명', '차종분류', '차종유형', '자동차형식', '제작사명', '연료', '엔진형식',\n",
       "       '총중량', '적재중량', '엔진출력', '배기량', '법정동코드', '시도명', '시군구명', '소유자구분', '말소여부',\n",
       "       '일치유무', '배인번호_수정', '등급_수정', 'DPF유무_수정', 'fuel', 'Grade'],\n",
       "      dtype='object')"
      ]
     },
     "execution_count": 5,
     "metadata": {},
     "output_type": "execute_result"
    }
   ],
   "source": [
    "df.columns"
   ]
  },
  {
   "cell_type": "code",
   "execution_count": 6,
   "metadata": {},
   "outputs": [
    {
     "data": {
      "text/plain": [
       "경유             1153813\n",
       "휘발유             322983\n",
       "LPG(액화석유가스)      25400\n",
       "기타연료                37\n",
       "알코올                  1\n",
       "CNG(압축천연가스)          1\n",
       "Name: 연료, dtype: int64"
      ]
     },
     "execution_count": 6,
     "metadata": {},
     "output_type": "execute_result"
    }
   ],
   "source": [
    "df['연료'].value_counts(dropna=False)"
   ]
  },
  {
   "cell_type": "code",
   "execution_count": 7,
   "metadata": {},
   "outputs": [
    {
     "data": {
      "text/plain": [
       "4.00    1149290\n",
       "3.00       4396\n",
       "5.00        127\n",
       "Name: 등급_수정, dtype: int64"
      ]
     },
     "execution_count": 7,
     "metadata": {},
     "output_type": "execute_result"
    }
   ],
   "source": [
    "df['등급_수정'].value_counts(dropna=True)"
   ]
  },
  {
   "cell_type": "code",
   "execution_count": 8,
   "metadata": {},
   "outputs": [
    {
     "data": {
      "text/plain": [
       "(118, 33)"
      ]
     },
     "execution_count": 8,
     "metadata": {},
     "output_type": "execute_result"
    }
   ],
   "source": [
    "df.loc[df['배출가스인증번호'] == '5MY-AD-13-07'].shape"
   ]
  },
  {
   "cell_type": "code",
   "execution_count": 9,
   "metadata": {},
   "outputs": [
    {
     "data": {
      "text/plain": [
       "(4396, 33)"
      ]
     },
     "execution_count": 9,
     "metadata": {},
     "output_type": "execute_result"
    }
   ],
   "source": [
    "df3 = df.loc[df['등급_수정'] == 3].reset_index(drop=True)\n",
    "df3.shape"
   ]
  },
  {
   "cell_type": "code",
   "execution_count": 10,
   "metadata": {},
   "outputs": [
    {
     "data": {
      "text/plain": [
       "등급_수정  배출가스인증번호     \n",
       "3.00   5MY-AD-13-07      118\n",
       "       5MY-AD-13-13       51\n",
       "       5MY-HD-24-59      164\n",
       "       6MY-AD-13-11      493\n",
       "       7MY-AD-13-01      565\n",
       "       7MY-AD-13-05       26\n",
       "       7MY-AD-13-06      207\n",
       "       7MY-DB-24-42       13\n",
       "       7MY-DK-24-04      148\n",
       "       7MY-HD-24-31        3\n",
       "       8MY-SY-13-14      313\n",
       "       9MY-JL-14-4       273\n",
       "       CMY-VTK-14-01       2\n",
       "       CMY-VTK-14-02      24\n",
       "       FMY-VTK-14-1     1768\n",
       "       FMY-VTK-14-2       86\n",
       "       FMY-VTK-14-3       76\n",
       "       FMY-VTK-14-4       49\n",
       "Name: 차대번호, dtype: int64"
      ]
     },
     "execution_count": 10,
     "metadata": {},
     "output_type": "execute_result"
    }
   ],
   "source": [
    "df3.groupby(['등급_수정', '배출가스인증번호'])['차대번호'].count()"
   ]
  },
  {
   "cell_type": "code",
   "execution_count": 11,
   "metadata": {},
   "outputs": [
    {
     "data": {
      "text/plain": [
       "등급_수정  배인번호_수정      \n",
       "3.00   5MY-AD-13-07      118\n",
       "       5MY-AD-13-13       51\n",
       "       6MY-AD-13-11      493\n",
       "       7MY-AD-13-01      565\n",
       "       7MY-AD-13-05       26\n",
       "       7MY-AD-13-06      207\n",
       "       7MY-DK-24-04      148\n",
       "       8MY-SY-13-14      313\n",
       "       9MY-JL-14-4       273\n",
       "       BMY-HD-14-54        3\n",
       "       BMY-KM-14-32        1\n",
       "       CMY-HD-14-11      164\n",
       "       CMY-VTK-14-01       2\n",
       "       CMY-VTK-14-02      24\n",
       "       FMY-DB-14-54       13\n",
       "       FMY-VTK-14-1     1780\n",
       "       FMY-VTK-14-2       87\n",
       "       FMY-VTK-14-3       76\n",
       "       FMY-VTK-14-4       49\n",
       "       확인불가                3\n",
       "Name: 차대번호, dtype: int64"
      ]
     },
     "execution_count": 11,
     "metadata": {},
     "output_type": "execute_result"
    }
   ],
   "source": [
    "df3.groupby(['등급_수정', '배인번호_수정'])['차대번호'].count()"
   ]
  },
  {
   "cell_type": "code",
   "execution_count": 12,
   "metadata": {},
   "outputs": [
    {
     "data": {
      "text/html": [
       "<div>\n",
       "<style scoped>\n",
       "    .dataframe tbody tr th:only-of-type {\n",
       "        vertical-align: middle;\n",
       "    }\n",
       "\n",
       "    .dataframe tbody tr th {\n",
       "        vertical-align: top;\n",
       "    }\n",
       "\n",
       "    .dataframe thead th {\n",
       "        text-align: right;\n",
       "    }\n",
       "</style>\n",
       "<table border=\"1\" class=\"dataframe\">\n",
       "  <thead>\n",
       "    <tr style=\"text-align: right;\">\n",
       "      <th></th>\n",
       "      <th>배출가스인증번호</th>\n",
       "      <th>배인번호_수정</th>\n",
       "      <th>등급_수정</th>\n",
       "      <th>제작사명</th>\n",
       "      <th>차명</th>\n",
       "    </tr>\n",
       "  </thead>\n",
       "  <tbody>\n",
       "  </tbody>\n",
       "</table>\n",
       "</div>"
      ],
      "text/plain": [
       "Empty DataFrame\n",
       "Columns: [배출가스인증번호, 배인번호_수정, 등급_수정, 제작사명, 차명]\n",
       "Index: []"
      ]
     },
     "execution_count": 12,
     "metadata": {},
     "output_type": "execute_result"
    }
   ],
   "source": [
    "df.loc[df['배출가스인증번호'] == 'EMY-HD-14-48', ['배출가스인증번호', '배인번호_수정', '등급_수정', '제작사명', '차명']]"
   ]
  },
  {
   "cell_type": "code",
   "execution_count": 13,
   "metadata": {},
   "outputs": [
    {
     "data": {
      "text/html": [
       "<div>\n",
       "<style scoped>\n",
       "    .dataframe tbody tr th:only-of-type {\n",
       "        vertical-align: middle;\n",
       "    }\n",
       "\n",
       "    .dataframe tbody tr th {\n",
       "        vertical-align: top;\n",
       "    }\n",
       "\n",
       "    .dataframe thead th {\n",
       "        text-align: right;\n",
       "    }\n",
       "</style>\n",
       "<table border=\"1\" class=\"dataframe\">\n",
       "  <thead>\n",
       "    <tr style=\"text-align: right;\">\n",
       "      <th></th>\n",
       "      <th>배출가스인증번호</th>\n",
       "      <th>배인번호_수정</th>\n",
       "      <th>등급_수정</th>\n",
       "      <th>제작사명</th>\n",
       "      <th>차명</th>\n",
       "    </tr>\n",
       "  </thead>\n",
       "  <tbody>\n",
       "  </tbody>\n",
       "</table>\n",
       "</div>"
      ],
      "text/plain": [
       "Empty DataFrame\n",
       "Columns: [배출가스인증번호, 배인번호_수정, 등급_수정, 제작사명, 차명]\n",
       "Index: []"
      ]
     },
     "execution_count": 13,
     "metadata": {},
     "output_type": "execute_result"
    }
   ],
   "source": [
    "df.loc[df['배인번호_수정'] == 'EMY-HD-14-48', ['배출가스인증번호', '배인번호_수정', '등급_수정', '제작사명', '차명']]"
   ]
  },
  {
   "cell_type": "code",
   "execution_count": 14,
   "metadata": {},
   "outputs": [
    {
     "data": {
      "text/plain": [
       "(127, 33)"
      ]
     },
     "execution_count": 14,
     "metadata": {},
     "output_type": "execute_result"
    }
   ],
   "source": [
    "df5 = df.loc[df['등급_수정'] == 5].reset_index(drop=True)\n",
    "df5.shape"
   ]
  },
  {
   "cell_type": "code",
   "execution_count": 15,
   "metadata": {},
   "outputs": [
    {
     "data": {
      "text/plain": [
       "등급_수정  배출가스인증번호    \n",
       "5.00   4MY-DC-33        7\n",
       "       5MY-SY-24-48     2\n",
       "       6MY-HD-23-55     3\n",
       "       7MY-DK-24-04     8\n",
       "       7MY-HD-14-68     1\n",
       "       8MY-KM-13-19    83\n",
       "       9MY-KM-14-41     2\n",
       "Name: 차대번호, dtype: int64"
      ]
     },
     "execution_count": 15,
     "metadata": {},
     "output_type": "execute_result"
    }
   ],
   "source": [
    "df5.groupby(['등급_수정', '배출가스인증번호'])['차대번호'].count()"
   ]
  },
  {
   "cell_type": "code",
   "execution_count": 16,
   "metadata": {},
   "outputs": [
    {
     "data": {
      "text/plain": [
       "등급_수정  배인번호_수정     \n",
       "5.00   3MY-HD-14        8\n",
       "       3MY-HD-15        1\n",
       "       4MY-DK-04        8\n",
       "       4MY-KM-03        1\n",
       "       4MY-KM-06       84\n",
       "       4MY-KM-07        4\n",
       "       5MY-KM-24-32     6\n",
       "       5MY-SY-24-48     2\n",
       "       6MY-DC-23-17     7\n",
       "       6MY-HD-23-55     3\n",
       "       확인불가             3\n",
       "Name: 차대번호, dtype: int64"
      ]
     },
     "execution_count": 16,
     "metadata": {},
     "output_type": "execute_result"
    }
   ],
   "source": [
    "df5.groupby(['등급_수정', '배인번호_수정'])['차대번호'].count()"
   ]
  },
  {
   "cell_type": "code",
   "execution_count": 17,
   "metadata": {},
   "outputs": [
    {
     "data": {
      "text/plain": [
       "'2023.04.13.AM.10.56.45'"
      ]
     },
     "execution_count": 17,
     "metadata": {},
     "output_type": "execute_result"
    }
   ],
   "source": [
    "today_date = datetime.today().strftime(\"%Y.%m.%d.%p.%I.%M.%S\")\n",
    "today_date"
   ]
  },
  {
   "cell_type": "code",
   "execution_count": 18,
   "metadata": {},
   "outputs": [
    {
     "data": {
      "text/plain": [
       "Index(['차대번호', '차량번호', '제원관리번호', '차종', '용도', '최초등록일', '연식', '제작일자', '검사유효일',\n",
       "       '배출가스인증번호', '등급', '차명', '차종분류', '차종유형', '자동차형식', '제작사명', '연료', '엔진형식',\n",
       "       '총중량', '적재중량', '엔진출력', '배기량', '법정동코드', '시도명', '시군구명', '소유자구분', '말소여부',\n",
       "       '일치유무', '배인번호_수정', '등급_수정', 'DPF유무_수정', 'fuel', 'Grade'],\n",
       "      dtype='object')"
      ]
     },
     "execution_count": 18,
     "metadata": {},
     "output_type": "execute_result"
    }
   ],
   "source": [
    "df.columns"
   ]
  },
  {
   "cell_type": "code",
   "execution_count": 19,
   "metadata": {},
   "outputs": [],
   "source": [
    "df.drop('fuel', axis=1, inplace=True)"
   ]
  },
  {
   "cell_type": "code",
   "execution_count": 20,
   "metadata": {},
   "outputs": [
    {
     "data": {
      "text/plain": [
       "Index(['차대번호', '차량번호', '제원관리번호', '차종', '용도', '최초등록일', '연식', '제작일자', '검사유효일',\n",
       "       '배출가스인증번호', '등급', '차명', '차종분류', '차종유형', '자동차형식', '제작사명', '연료', '엔진형식',\n",
       "       '총중량', '적재중량', '엔진출력', '배기량', '법정동코드', '시도명', '시군구명', '소유자구분', '말소여부',\n",
       "       '일치유무', '배인번호_수정', '등급_수정', 'DPF유무_수정', 'Grade'],\n",
       "      dtype='object')"
      ]
     },
     "execution_count": 20,
     "metadata": {},
     "output_type": "execute_result"
    }
   ],
   "source": [
    "df.columns"
   ]
  },
  {
   "cell_type": "code",
   "execution_count": 21,
   "metadata": {},
   "outputs": [],
   "source": [
    "# about 12m 55s\n",
    "df.iloc[:700000].to_excel(os.path.join(raw_fold, f'4등급 차량 리스트 양식(전체) result 최종 Grade 추가01({today_date}).xlsx'), index=False)\n",
    "df.iloc[700000:].to_excel(os.path.join(raw_fold, f'4등급 차량 리스트 양식(전체) result 최종 Grade 추가02({today_date}).xlsx'), index=False)"
   ]
  },
  {
   "attachments": {},
   "cell_type": "markdown",
   "metadata": {},
   "source": [
    "# 코드 마지막"
   ]
  }
 ],
 "metadata": {
  "kernelspec": {
   "display_name": "base",
   "language": "python",
   "name": "python3"
  },
  "language_info": {
   "codemirror_mode": {
    "name": "ipython",
    "version": 3
   },
   "file_extension": ".py",
   "mimetype": "text/x-python",
   "name": "python",
   "nbconvert_exporter": "python",
   "pygments_lexer": "ipython3",
   "version": "3.9.13"
  },
  "orig_nbformat": 4,
  "vscode": {
   "interpreter": {
    "hash": "ad2bdc8ecc057115af97d19610ffacc2b4e99fae6737bb82f5d7fb13d2f2c186"
   }
  }
 },
 "nbformat": 4,
 "nbformat_minor": 2
}
