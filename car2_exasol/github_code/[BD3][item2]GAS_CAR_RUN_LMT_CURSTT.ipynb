{
 "cells": [
  {
   "cell_type": "markdown",
   "metadata": {},
   "source": [
    "# Library\n"
   ]
  },
  {
   "cell_type": "code",
   "execution_count": 1,
   "metadata": {},
   "outputs": [],
   "source": [
    "import pandas as pd\n",
    "import numpy as np\n",
    "import os\n",
    "from tqdm import tqdm\n",
    "from datetime import datetime\n",
    "import pyexasol\n",
    "# import psycopg2"
   ]
  },
  {
   "cell_type": "code",
   "execution_count": 2,
   "metadata": {},
   "outputs": [],
   "source": [
    "# 소수점 옵션\n",
    "pd.options.display.float_format = '{:.2f}'.format\n",
    "# pd.reset_option('display.float_format')"
   ]
  },
  {
   "cell_type": "markdown",
   "metadata": {},
   "source": [
    "# folder"
   ]
  },
  {
   "cell_type": "code",
   "execution_count": 3,
   "metadata": {},
   "outputs": [],
   "source": [
    "ods_fold = 'D:/data/big2/ODS'\n",
    "df3_fold = 'D:/data/big2/BD3/df'"
   ]
  },
  {
   "cell_type": "markdown",
   "metadata": {},
   "source": [
    "# server"
   ]
  },
  {
   "cell_type": "code",
   "execution_count": 4,
   "metadata": {},
   "outputs": [],
   "source": [
    "# # insider db\n",
    "# wd = pyexasol.connect(dsn='', user='', password='', compression=True, schema='')\n",
    "# we = pyexasol.connect(dsn='', user='', password='', compression=True, schema='')"
   ]
  },
  {
   "cell_type": "code",
   "execution_count": 5,
   "metadata": {},
   "outputs": [],
   "source": [
    "# exasol db\n",
    "# ws = pyexasol.connect(dsn='', user='', password='', compression=True, schema='')\n",
    "wd = pyexasol.connect(dsn='', user='', password='', compression=True, schema='')\n",
    "we = pyexasol.connect(dsn='', user='', password='', compression=True, schema='')"
   ]
  },
  {
   "cell_type": "markdown",
   "metadata": {},
   "source": [
    "# Load\n",
    "- 등록&제원 -> result 5등급"
   ]
  },
  {
   "cell_type": "markdown",
   "metadata": {},
   "source": [
    "## 등록정보(STD_CEG_CAR_MIG) 5등급만"
   ]
  },
  {
   "cell_type": "code",
   "execution_count": 6,
   "metadata": {},
   "outputs": [
    {
     "name": "stderr",
     "output_type": "stream",
     "text": [
      "C:\\Users\\kbjung\\AppData\\Roaming\\Python\\Python39\\site-packages\\pyexasol\\callback.py:42: DtypeWarning: Columns (7,8) have mixed types. Specify dtype option on import or set low_memory=False.\n",
      "  return pandas.read_csv(pipe, skip_blank_lines=False, **kwargs)\n"
     ]
    }
   ],
   "source": [
    "# 19.4s\n",
    "car = wd.export_to_pandas(\"SELECT VIN, BSPL_STDG_CD, VHCL_ERSR_YN, MANP_MNG_NO, YRIDNW, VHCTY_CD, PURPS_CD2, FRST_REG_YMD, VHCL_FBCTN_YMD, VHCL_MNG_NO FROM STD_CEG_CAR_MIG WHERE EXHST_GAS_GRD_CD = 'A0505' OR EXHST_GAS_GRD_CD = 'A05T5';\")"
   ]
  },
  {
   "cell_type": "code",
   "execution_count": 7,
   "metadata": {},
   "outputs": [
    {
     "name": "stdout",
     "output_type": "stream",
     "text": [
      "<class 'pandas.core.frame.DataFrame'>\n",
      "RangeIndex: 2314337 entries, 0 to 2314336\n",
      "Data columns (total 10 columns):\n",
      " #   Column          Dtype \n",
      "---  ------          ----- \n",
      " 0   VIN             object\n",
      " 1   BSPL_STDG_CD    int64 \n",
      " 2   VHCL_ERSR_YN    object\n",
      " 3   MANP_MNG_NO     object\n",
      " 4   YRIDNW          int64 \n",
      " 5   VHCTY_CD        object\n",
      " 6   PURPS_CD2       object\n",
      " 7   FRST_REG_YMD    object\n",
      " 8   VHCL_FBCTN_YMD  object\n",
      " 9   VHCL_MNG_NO     object\n",
      "dtypes: int64(2), object(8)\n",
      "memory usage: 176.6+ MB\n"
     ]
    }
   ],
   "source": [
    "car.info()"
   ]
  },
  {
   "cell_type": "code",
   "execution_count": 8,
   "metadata": {},
   "outputs": [],
   "source": [
    "car_ch_col = {\n",
    "    'VIN':'차대번호', \n",
    "    'BSPL_STDG_CD':'법정동코드', \n",
    "    'VHCL_ERSR_YN':'차량말소YN',\n",
    "    'MANP_MNG_NO':'제원관리번호',\n",
    "    'YRIDNW':'차량연식', \n",
    "    'VHCTY_CD':'차종', \n",
    "    'PURPS_CD2':'용도', \n",
    "    'FRST_REG_YMD':'최초등록일자',\n",
    "    'VHCL_FBCTN_YMD':'제작일자',\n",
    "    'VHCL_MNG_NO':'차량관리번호'\n",
    "}"
   ]
  },
  {
   "cell_type": "code",
   "execution_count": 9,
   "metadata": {},
   "outputs": [],
   "source": [
    "carr = car.rename(columns=car_ch_col)"
   ]
  },
  {
   "cell_type": "code",
   "execution_count": 10,
   "metadata": {},
   "outputs": [
    {
     "data": {
      "text/plain": [
       "Index(['차대번호', '법정동코드', '차량말소YN', '제원관리번호', '차량연식', '차종', '용도', '최초등록일자',\n",
       "       '제작일자', '차량관리번호'],\n",
       "      dtype='object')"
      ]
     },
     "execution_count": 10,
     "metadata": {},
     "output_type": "execute_result"
    }
   ],
   "source": [
    "carr.columns"
   ]
  },
  {
   "cell_type": "markdown",
   "metadata": {},
   "source": [
    "## 제원정보(STD_CEG_CAR_SRC_MIG)"
   ]
  },
  {
   "cell_type": "code",
   "execution_count": 11,
   "metadata": {},
   "outputs": [],
   "source": [
    "# 3.8s\n",
    "src = wd.export_to_pandas(\"SELECT MANP_MNG_NO, FUEL_CD, VHCTY_TY_CD2 FROM STD_CEG_CAR_SRC_MIG;\")"
   ]
  },
  {
   "cell_type": "code",
   "execution_count": 12,
   "metadata": {},
   "outputs": [],
   "source": [
    "src_ch_col = {\n",
    "    'MANP_MNG_NO':'제원관리번호', \n",
    "    'FUEL_CD':'연료',\n",
    "    'VHCTY_TY_CD2':'차종유형', \n",
    "}"
   ]
  },
  {
   "cell_type": "code",
   "execution_count": 13,
   "metadata": {},
   "outputs": [
    {
     "data": {
      "text/plain": [
       "Index(['제원관리번호', '연료', '차종유형'], dtype='object')"
      ]
     },
     "execution_count": 13,
     "metadata": {},
     "output_type": "execute_result"
    }
   ],
   "source": [
    "srcr = src.rename(columns=src_ch_col)\n",
    "srcr.columns"
   ]
  },
  {
   "cell_type": "markdown",
   "metadata": {},
   "source": [
    "## 저감장치 부착이력(STD_DLM_TB_ERP_ATT_HIS)"
   ]
  },
  {
   "cell_type": "code",
   "execution_count": 14,
   "metadata": {},
   "outputs": [
    {
     "name": "stdout",
     "output_type": "stream",
     "text": [
      "<class 'pandas.core.frame.DataFrame'>\n",
      "RangeIndex: 1015941 entries, 0 to 1015940\n",
      "Data columns (total 2 columns):\n",
      " #   Column        Non-Null Count    Dtype \n",
      "---  ------        --------------    ----- \n",
      " 0   VIN           1015941 non-null  object\n",
      " 1   RDCDVC_SE_CD  1015941 non-null  object\n",
      "dtypes: object(2)\n",
      "memory usage: 15.5+ MB\n"
     ]
    }
   ],
   "source": [
    "# 3.0s\n",
    "att = wd.export_to_pandas(\"SELECT VIN, RDCDVC_SE_CD FROM STD_DLM_TB_ERP_ATT_HIS;\")\n",
    "att.info()"
   ]
  },
  {
   "cell_type": "code",
   "execution_count": 15,
   "metadata": {},
   "outputs": [],
   "source": [
    "att_ch_col = {\n",
    "    'VIN':'차대번호', \n",
    "    'RDCDVC_SE_CD':'저감장치구분', \n",
    "}"
   ]
  },
  {
   "cell_type": "code",
   "execution_count": 16,
   "metadata": {},
   "outputs": [
    {
     "data": {
      "text/plain": [
       "Index(['차대번호', '저감장치구분'], dtype='object')"
      ]
     },
     "execution_count": 16,
     "metadata": {},
     "output_type": "execute_result"
    }
   ],
   "source": [
    "attr = att.rename(columns=att_ch_col)\n",
    "attr.columns"
   ]
  },
  {
   "cell_type": "markdown",
   "metadata": {},
   "source": [
    "## 법정동코드(STD_BJCD_INFO)"
   ]
  },
  {
   "cell_type": "code",
   "execution_count": 17,
   "metadata": {},
   "outputs": [
    {
     "name": "stdout",
     "output_type": "stream",
     "text": [
      "<class 'pandas.core.frame.DataFrame'>\n",
      "RangeIndex: 47916 entries, 0 to 47915\n",
      "Data columns (total 5 columns):\n",
      " #   Column        Non-Null Count  Dtype \n",
      "---  ------        --------------  ----- \n",
      " 0   STDG_CD       47916 non-null  int64 \n",
      " 1   STDG_CTPV_CD  47916 non-null  int64 \n",
      " 2   STDG_SGG_CD   47916 non-null  int64 \n",
      " 3   STDG_CTPV_NM  47916 non-null  object\n",
      " 4   STDG_SGG_NM   47892 non-null  object\n",
      "dtypes: int64(3), object(2)\n",
      "memory usage: 1.8+ MB\n"
     ]
    }
   ],
   "source": [
    "# 1.3s\n",
    "code = wd.export_to_pandas(\"SELECT STDG_CD, STDG_CTPV_CD, STDG_SGG_CD, STDG_CTPV_NM, STDG_SGG_NM FROM STD_BJCD_INFO;\")\n",
    "code.info()"
   ]
  },
  {
   "cell_type": "code",
   "execution_count": 18,
   "metadata": {},
   "outputs": [
    {
     "data": {
      "text/plain": [
       "Index(['STDG_CD', 'STDG_CTPV_CD', 'STDG_SGG_CD', 'STDG_CTPV_NM',\n",
       "       'STDG_SGG_NM'],\n",
       "      dtype='object')"
      ]
     },
     "execution_count": 18,
     "metadata": {},
     "output_type": "execute_result"
    }
   ],
   "source": [
    "code.columns"
   ]
  },
  {
   "cell_type": "code",
   "execution_count": 19,
   "metadata": {},
   "outputs": [],
   "source": [
    "code_ch_col = {\n",
    "    'STDG_CD':'법정동코드', \n",
    "    'STDG_CTPV_NM':'시도', \n",
    "    'STDG_SGG_NM':'시군구', \n",
    "    'STDG_CTPV_CD':'시도코드', \n",
    "    'STDG_SGG_CD':'시군구코드',\n",
    "}"
   ]
  },
  {
   "cell_type": "code",
   "execution_count": 20,
   "metadata": {},
   "outputs": [
    {
     "data": {
      "text/plain": [
       "Index(['법정동코드', '시도코드', '시군구코드', '시도', '시군구'], dtype='object')"
      ]
     },
     "execution_count": 20,
     "metadata": {},
     "output_type": "execute_result"
    }
   ],
   "source": [
    "coder = code.rename(columns=code_ch_col)\n",
    "coder.columns"
   ]
  },
  {
   "cell_type": "markdown",
   "metadata": {},
   "source": [
    "## 노후차 조기폐차 관리정보(수도권)(STD_DLM_TB_ERP_EARLY_ERASE_AEA)"
   ]
  },
  {
   "cell_type": "code",
   "execution_count": 21,
   "metadata": {},
   "outputs": [
    {
     "name": "stdout",
     "output_type": "stream",
     "text": [
      "<class 'pandas.core.frame.DataFrame'>\n",
      "RangeIndex: 811412 entries, 0 to 811411\n",
      "Data columns (total 4 columns):\n",
      " #   Column               Non-Null Count   Dtype  \n",
      "---  ------               --------------   -----  \n",
      " 0   VIN                  811412 non-null  object \n",
      " 1   ELPDSRC_STTS_CD      811412 non-null  object \n",
      " 2   ELPDSRC_LST_APRV_YN  710812 non-null  object \n",
      " 3   ERSR_YMD             718610 non-null  float64\n",
      "dtypes: float64(1), object(3)\n",
      "memory usage: 24.8+ MB\n"
     ]
    }
   ],
   "source": [
    "# 2.9s\n",
    "aea = wd.export_to_pandas(\"SELECT VIN, ELPDSRC_STTS_CD, ELPDSRC_LST_APRV_YN, ERSR_YMD FROM STD_DLM_TB_ERP_EARLY_ERASE_AEA;\")\n",
    "aea.info()"
   ]
  },
  {
   "cell_type": "code",
   "execution_count": 22,
   "metadata": {},
   "outputs": [
    {
     "data": {
      "text/plain": [
       "Index(['VIN', 'ELPDSRC_STTS_CD', 'ELPDSRC_LST_APRV_YN', 'ERSR_YMD'], dtype='object')"
      ]
     },
     "execution_count": 22,
     "metadata": {},
     "output_type": "execute_result"
    }
   ],
   "source": [
    "aea.columns"
   ]
  },
  {
   "cell_type": "code",
   "execution_count": 23,
   "metadata": {},
   "outputs": [],
   "source": [
    "aea_ch_col = {\n",
    "    'VIN':'차대번호', \n",
    "    'ELPDSRC_STTS_CD':'조기폐차상태코드', \n",
    "    'ELPDSRC_LST_APRV_YN':'조기폐차최종승인YN', \n",
    "    'ERSR_YMD':'말소일자',\n",
    "}"
   ]
  },
  {
   "cell_type": "code",
   "execution_count": 24,
   "metadata": {},
   "outputs": [
    {
     "data": {
      "text/plain": [
       "Index(['차대번호', '조기폐차상태코드', '조기폐차최종승인YN', '말소일자'], dtype='object')"
      ]
     },
     "execution_count": 24,
     "metadata": {},
     "output_type": "execute_result"
    }
   ],
   "source": [
    "aear = aea.rename(columns=aea_ch_col)\n",
    "aear.columns"
   ]
  },
  {
   "cell_type": "code",
   "execution_count": 25,
   "metadata": {},
   "outputs": [
    {
     "data": {
      "text/html": [
       "<div>\n",
       "<style scoped>\n",
       "    .dataframe tbody tr th:only-of-type {\n",
       "        vertical-align: middle;\n",
       "    }\n",
       "\n",
       "    .dataframe tbody tr th {\n",
       "        vertical-align: top;\n",
       "    }\n",
       "\n",
       "    .dataframe thead th {\n",
       "        text-align: right;\n",
       "    }\n",
       "</style>\n",
       "<table border=\"1\" class=\"dataframe\">\n",
       "  <thead>\n",
       "    <tr style=\"text-align: right;\">\n",
       "      <th></th>\n",
       "      <th>차대번호</th>\n",
       "      <th>조기폐차상태코드</th>\n",
       "      <th>조기폐차최종승인YN</th>\n",
       "      <th>말소일자</th>\n",
       "    </tr>\n",
       "  </thead>\n",
       "  <tbody>\n",
       "    <tr>\n",
       "      <th>0</th>\n",
       "      <td>KMZKL17BP1U441173</td>\n",
       "      <td>A32Y</td>\n",
       "      <td>Y</td>\n",
       "      <td>20130917.00</td>\n",
       "    </tr>\n",
       "    <tr>\n",
       "      <th>1</th>\n",
       "      <td>KNHUP7513WS711743</td>\n",
       "      <td>A32Y</td>\n",
       "      <td>Y</td>\n",
       "      <td>20100802.00</td>\n",
       "    </tr>\n",
       "    <tr>\n",
       "      <th>2</th>\n",
       "      <td>KPBEA3D81TP079170</td>\n",
       "      <td>A32Y</td>\n",
       "      <td>Y</td>\n",
       "      <td>20100806.00</td>\n",
       "    </tr>\n",
       "    <tr>\n",
       "      <th>3</th>\n",
       "      <td>KPBEA3D81SP063998</td>\n",
       "      <td>A32Y</td>\n",
       "      <td>Y</td>\n",
       "      <td>20100802.00</td>\n",
       "    </tr>\n",
       "    <tr>\n",
       "      <th>4</th>\n",
       "      <td>KPBEA3D81RP011984</td>\n",
       "      <td>A32Y</td>\n",
       "      <td>Y</td>\n",
       "      <td>20100802.00</td>\n",
       "    </tr>\n",
       "  </tbody>\n",
       "</table>\n",
       "</div>"
      ],
      "text/plain": [
       "                차대번호 조기폐차상태코드 조기폐차최종승인YN        말소일자\n",
       "0  KMZKL17BP1U441173     A32Y          Y 20130917.00\n",
       "1  KNHUP7513WS711743     A32Y          Y 20100802.00\n",
       "2  KPBEA3D81TP079170     A32Y          Y 20100806.00\n",
       "3  KPBEA3D81SP063998     A32Y          Y 20100802.00\n",
       "4  KPBEA3D81RP011984     A32Y          Y 20100802.00"
      ]
     },
     "execution_count": 25,
     "metadata": {},
     "output_type": "execute_result"
    }
   ],
   "source": [
    "aear.head()"
   ]
  },
  {
   "cell_type": "markdown",
   "metadata": {},
   "source": [
    "## 노후차 조기폐차 관리정보(수도권외)(STD_DLM_TB_ERP_EARLY_ERASE_LGV)"
   ]
  },
  {
   "cell_type": "code",
   "execution_count": 26,
   "metadata": {},
   "outputs": [
    {
     "name": "stdout",
     "output_type": "stream",
     "text": [
      "<class 'pandas.core.frame.DataFrame'>\n",
      "RangeIndex: 388958 entries, 0 to 388957\n",
      "Data columns (total 4 columns):\n",
      " #   Column               Non-Null Count   Dtype  \n",
      "---  ------               --------------   -----  \n",
      " 0   VIN                  388958 non-null  object \n",
      " 1   ELPDSRC_STTS_CD      388958 non-null  object \n",
      " 2   ELPDSRC_LST_APRV_YN  176711 non-null  object \n",
      " 3   ERSR_YMD             190163 non-null  float64\n",
      "dtypes: float64(1), object(3)\n",
      "memory usage: 11.9+ MB\n"
     ]
    }
   ],
   "source": [
    "# 2.1s\n",
    "lgv = wd.export_to_pandas(\"SELECT VIN, ELPDSRC_STTS_CD, ELPDSRC_LST_APRV_YN, ERSR_YMD FROM STD_DLM_TB_ERP_EARLY_ERASE_LGV;\")\n",
    "lgv.info()"
   ]
  },
  {
   "cell_type": "code",
   "execution_count": 27,
   "metadata": {},
   "outputs": [
    {
     "data": {
      "text/plain": [
       "Index(['VIN', 'ELPDSRC_STTS_CD', 'ELPDSRC_LST_APRV_YN', 'ERSR_YMD'], dtype='object')"
      ]
     },
     "execution_count": 27,
     "metadata": {},
     "output_type": "execute_result"
    }
   ],
   "source": [
    "lgv.columns"
   ]
  },
  {
   "cell_type": "code",
   "execution_count": 28,
   "metadata": {},
   "outputs": [],
   "source": [
    "lgv_ch_col = {\n",
    "    'VIN':'차대번호', \n",
    "    'ELPDSRC_STTS_CD':'조기폐차상태코드', \n",
    "    'ELPDSRC_LST_APRV_YN':'조기폐차최종승인YN', \n",
    "    'ERSR_YMD':'말소일자', \n",
    "}"
   ]
  },
  {
   "cell_type": "code",
   "execution_count": 29,
   "metadata": {},
   "outputs": [
    {
     "data": {
      "text/plain": [
       "Index(['차대번호', '조기폐차상태코드', '조기폐차최종승인YN', '말소일자'], dtype='object')"
      ]
     },
     "execution_count": 29,
     "metadata": {},
     "output_type": "execute_result"
    }
   ],
   "source": [
    "lgvr = lgv.rename(columns=lgv_ch_col)\n",
    "lgvr.columns"
   ]
  },
  {
   "cell_type": "code",
   "execution_count": 30,
   "metadata": {},
   "outputs": [
    {
     "data": {
      "text/html": [
       "<div>\n",
       "<style scoped>\n",
       "    .dataframe tbody tr th:only-of-type {\n",
       "        vertical-align: middle;\n",
       "    }\n",
       "\n",
       "    .dataframe tbody tr th {\n",
       "        vertical-align: top;\n",
       "    }\n",
       "\n",
       "    .dataframe thead th {\n",
       "        text-align: right;\n",
       "    }\n",
       "</style>\n",
       "<table border=\"1\" class=\"dataframe\">\n",
       "  <thead>\n",
       "    <tr style=\"text-align: right;\">\n",
       "      <th></th>\n",
       "      <th>차대번호</th>\n",
       "      <th>조기폐차상태코드</th>\n",
       "      <th>조기폐차최종승인YN</th>\n",
       "      <th>말소일자</th>\n",
       "    </tr>\n",
       "  </thead>\n",
       "  <tbody>\n",
       "    <tr>\n",
       "      <th>0</th>\n",
       "      <td>KMHSD81VP4U668720</td>\n",
       "      <td>A32M</td>\n",
       "      <td>NaN</td>\n",
       "      <td>NaN</td>\n",
       "    </tr>\n",
       "    <tr>\n",
       "      <th>1</th>\n",
       "      <td>KPBEA2MC12P281515</td>\n",
       "      <td>A32M</td>\n",
       "      <td>NaN</td>\n",
       "      <td>NaN</td>\n",
       "    </tr>\n",
       "    <tr>\n",
       "      <th>2</th>\n",
       "      <td>KMHMH81VP2U154512</td>\n",
       "      <td>A32M</td>\n",
       "      <td>NaN</td>\n",
       "      <td>NaN</td>\n",
       "    </tr>\n",
       "    <tr>\n",
       "      <th>3</th>\n",
       "      <td>KMFWVH7HP6U722855</td>\n",
       "      <td>A32M</td>\n",
       "      <td>NaN</td>\n",
       "      <td>NaN</td>\n",
       "    </tr>\n",
       "    <tr>\n",
       "      <th>4</th>\n",
       "      <td>KN90J4MDD2GZ00019</td>\n",
       "      <td>A32C</td>\n",
       "      <td>NaN</td>\n",
       "      <td>NaN</td>\n",
       "    </tr>\n",
       "  </tbody>\n",
       "</table>\n",
       "</div>"
      ],
      "text/plain": [
       "                차대번호 조기폐차상태코드 조기폐차최종승인YN  말소일자\n",
       "0  KMHSD81VP4U668720     A32M        NaN   NaN\n",
       "1  KPBEA2MC12P281515     A32M        NaN   NaN\n",
       "2  KMHMH81VP2U154512     A32M        NaN   NaN\n",
       "3  KMFWVH7HP6U722855     A32M        NaN   NaN\n",
       "4  KN90J4MDD2GZ00019     A32C        NaN   NaN"
      ]
     },
     "execution_count": 30,
     "metadata": {},
     "output_type": "execute_result"
    }
   ],
   "source": [
    "lgvr.head()"
   ]
  },
  {
   "cell_type": "markdown",
   "metadata": {},
   "source": [
    "## [❗] 비상시 및 계절제 단속발령(N_IS_ISSUE_DISCLOSURE)"
   ]
  },
  {
   "cell_type": "code",
   "execution_count": 31,
   "metadata": {},
   "outputs": [],
   "source": [
    "# # 1m 27.5s\n",
    "# isdis = pd.read_csv(os.path.join(ods_fold, 'ODS_N_IS_ISSUE_DISCLOSURE(col_sliced).csv'), low_memory=False)\n",
    "# isdis_ch_col = {\n",
    "#     'REGLT_NO':'적발번호', \n",
    "#     'GNFD_NO':'발령번호', \n",
    "#     'REG_SIDO_CD':'등록시도코드', \n",
    "#     'REG_SIGNGU_CD':'등록시군구코드', \n",
    "#     'VIN':'차대번호',\n",
    "#     'REGLT_AREA_CD':'적발지역코드', \n",
    "# }\n",
    "# isdisr = isdis.rename(columns=isdis_ch_col)\n",
    "# isdisr.columns"
   ]
  },
  {
   "cell_type": "code",
   "execution_count": 32,
   "metadata": {},
   "outputs": [],
   "source": [
    "# # 1.8s\n",
    "# edb_id = 'vsysd'\n",
    "# edb_database = 'edb'\n",
    "# edb_port = 5444\n",
    "# edb_url = '172.29.135.50'\n",
    "# edb_pwd = 'vsyswynn'\n",
    "# conn = psycopg2.connect(dbname=edb_database, user=edb_id, password=edb_pwd, host=edb_url, port=edb_port)\n",
    "# cur = conn.cursor()\n",
    "# sql = \"select REGLT_NO, GNFD_NO, VIN, REG_SIDO_CD, REG_SIGNGU_CD, REGLT_AREA_CD from vsysd.n_is_issue_disclosure\"\n",
    "# cur.execute(sql)\n",
    "# isdis = pd.DataFrame(cur.fetchall())\n",
    "\n",
    "# isdis.columns = [desc[0].upper() for desc in cur.description]\n",
    "# isdis_ch_col = {\n",
    "#     'REGLT_NO':'적발번호', \n",
    "#     'GNFD_NO':'발령번호', \n",
    "#     'REG_SIDO_CD':'등록시도코드', \n",
    "#     'REG_SIGNGU_CD':'등록시군구코드', \n",
    "#     'VIN':'차대번호',\n",
    "#     'REGLT_AREA_CD':'적발지역코드', \n",
    "# }\n",
    "# isdisr = isdis.rename(columns=isdis_ch_col)\n",
    "# isdisr.columns"
   ]
  },
  {
   "cell_type": "code",
   "execution_count": 33,
   "metadata": {},
   "outputs": [
    {
     "name": "stdout",
     "output_type": "stream",
     "text": [
      "<class 'pandas.core.frame.DataFrame'>\n",
      "RangeIndex: 108436093 entries, 0 to 108436092\n",
      "Data columns (total 6 columns):\n",
      " #   Column         Dtype \n",
      "---  ------         ----- \n",
      " 0   REGLT_NO       int64 \n",
      " 1   GNFD_NO        int64 \n",
      " 2   VIN            object\n",
      " 3   REG_SIDO_CD    int64 \n",
      " 4   REG_SIGNGU_CD  int64 \n",
      " 5   REGLT_AREA_CD  int64 \n",
      "dtypes: int64(5), object(1)\n",
      "memory usage: 4.8+ GB\n"
     ]
    }
   ],
   "source": [
    "# 5m 37.5s\n",
    "isdis = wd.export_to_pandas(\"SELECT REGLT_NO, GNFD_NO, VIN, REG_SIDO_CD, REG_SIGNGU_CD, REGLT_AREA_CD FROM N_IS_ISSUE_DISCLOSURE;\")\n",
    "isdis.info()"
   ]
  },
  {
   "cell_type": "code",
   "execution_count": 34,
   "metadata": {},
   "outputs": [
    {
     "data": {
      "text/plain": [
       "Index(['적발번호', '발령번호', '차대번호', '등록시도코드', '등록시군구코드', '적발지역코드'], dtype='object')"
      ]
     },
     "execution_count": 34,
     "metadata": {},
     "output_type": "execute_result"
    }
   ],
   "source": [
    "isdis_ch_col = {\n",
    "    'REGLT_NO':'적발번호', \n",
    "    'GNFD_NO':'발령번호', \n",
    "    'REG_SIDO_CD':'등록시도코드', \n",
    "    'REG_SIGNGU_CD':'등록시군구코드', \n",
    "    'VIN':'차대번호',\n",
    "    'REGLT_AREA_CD':'적발지역코드', \n",
    "}\n",
    "isdisr = isdis.rename(columns=isdis_ch_col)\n",
    "isdisr.columns"
   ]
  },
  {
   "cell_type": "markdown",
   "metadata": {},
   "source": [
    "## [❗] 운행제한 발령정보(N_IS_ISSUE)"
   ]
  },
  {
   "cell_type": "code",
   "execution_count": 35,
   "metadata": {},
   "outputs": [],
   "source": [
    "# # 1s\n",
    "# isis = pd.read_csv(os.path.join(ods_fold, 'ODS_N_IS_ISSUE.csv'), low_memory=False, usecols=['GNFD_NO', 'DNSTY_STDR_ID', 'TY_STDR_ID'])\n",
    "# isis_ch_col = {\n",
    "#     'GNFD_NO':'발령번호', \n",
    "#     'DNSTY_STDR_ID':'농도기준아이디', \n",
    "#     'TY_STDR_ID':'유형기준아이디', \n",
    "# }\n",
    "# isisr = isis.rename(columns=isis_ch_col)\n",
    "# isisr.columns"
   ]
  },
  {
   "cell_type": "code",
   "execution_count": 36,
   "metadata": {},
   "outputs": [],
   "source": [
    "# sql = \"select GNFD_NO, TY_STDR_ID, DNSTY_STDR_ID from vsysd.n_is_issue\"\n",
    "# cur.execute(sql)\n",
    "# isis = pd.DataFrame(cur.fetchall())\n",
    "\n",
    "# isis.columns = [desc[0].upper() for desc in cur.description]\n",
    "# isis_ch_col = {\n",
    "#     'GNFD_NO':'발령번호', \n",
    "#     'DNSTY_STDR_ID':'농도기준아이디', \n",
    "#     'TY_STDR_ID':'유형기준아이디', \n",
    "# }\n",
    "# isisr = isis.rename(columns=isis_ch_col)\n",
    "# isisr.columns"
   ]
  },
  {
   "cell_type": "code",
   "execution_count": 37,
   "metadata": {},
   "outputs": [
    {
     "name": "stdout",
     "output_type": "stream",
     "text": [
      "<class 'pandas.core.frame.DataFrame'>\n",
      "RangeIndex: 2368 entries, 0 to 2367\n",
      "Data columns (total 3 columns):\n",
      " #   Column         Non-Null Count  Dtype \n",
      "---  ------         --------------  ----- \n",
      " 0   GNFD_NO        2368 non-null   int64 \n",
      " 1   TY_STDR_ID     2368 non-null   object\n",
      " 2   DNSTY_STDR_ID  2368 non-null   object\n",
      "dtypes: int64(1), object(2)\n",
      "memory usage: 55.6+ KB\n"
     ]
    }
   ],
   "source": [
    "# 1.1s\n",
    "isis = wd.export_to_pandas(\"SELECT GNFD_NO, TY_STDR_ID, DNSTY_STDR_ID FROM N_IS_ISSUE;\")\n",
    "isis.info()"
   ]
  },
  {
   "cell_type": "code",
   "execution_count": 38,
   "metadata": {},
   "outputs": [
    {
     "data": {
      "text/plain": [
       "Index(['발령번호', '유형기준아이디', '농도기준아이디'], dtype='object')"
      ]
     },
     "execution_count": 38,
     "metadata": {},
     "output_type": "execute_result"
    }
   ],
   "source": [
    "isis_ch_col = {\n",
    "    'GNFD_NO':'발령번호', \n",
    "    'DNSTY_STDR_ID':'농도기준아이디', \n",
    "    'TY_STDR_ID':'유형기준아이디', \n",
    "}\n",
    "isisr = isis.rename(columns=isis_ch_col)\n",
    "isisr.columns"
   ]
  },
  {
   "cell_type": "code",
   "execution_count": 39,
   "metadata": {},
   "outputs": [],
   "source": [
    "# DNSTY_STDR_ID(농도기준아이디) : 실발령(C011), 모의발령(C012)\n",
    "# TY_STDR_ID(유형기준아이디) : 비상시(T001), 계절제(T002)"
   ]
  },
  {
   "cell_type": "markdown",
   "metadata": {},
   "source": [
    "## [❗] N_IS_PENALTY"
   ]
  },
  {
   "cell_type": "code",
   "execution_count": 40,
   "metadata": {},
   "outputs": [],
   "source": [
    "# # 13.4s\n",
    "# ispe = pd.read_csv(os.path.join(ods_fold, 'N_IS_PENALTY.csv'), low_memory=False, sep='|', usecols=['REGLT_NO', 'REGLT_DE'])\n",
    "# ispe_ch_col = {\n",
    "#     'REGLT_NO':'적발번호', \n",
    "#     'REGLT_DE':'단속일', \n",
    "# }\n",
    "# isper = ispe.rename(columns=ispe_ch_col)\n",
    "# isper.columns"
   ]
  },
  {
   "cell_type": "code",
   "execution_count": 41,
   "metadata": {},
   "outputs": [],
   "source": [
    "# sql = \"select REGLT_NO, REGLT_DE from vsysd.n_is_penalty\"\n",
    "# cur.execute(sql)\n",
    "# ispe = pd.DataFrame(cur.fetchall())\n",
    "# ispe.columns = [desc[0].upper() for desc in cur.description]\n",
    "# ispe_ch_col = {\n",
    "#     'REGLT_NO':'적발번호', \n",
    "#     'REGLT_DE':'단속일', \n",
    "# }\n",
    "# isper = ispe.rename(columns=ispe_ch_col)\n",
    "# isper.columns"
   ]
  },
  {
   "cell_type": "code",
   "execution_count": 42,
   "metadata": {},
   "outputs": [
    {
     "name": "stdout",
     "output_type": "stream",
     "text": [
      "<class 'pandas.core.frame.DataFrame'>\n",
      "RangeIndex: 11277810 entries, 0 to 11277809\n",
      "Data columns (total 2 columns):\n",
      " #   Column    Dtype\n",
      "---  ------    -----\n",
      " 0   REGLT_NO  int64\n",
      " 1   REGLT_DE  int64\n",
      "dtypes: int64(2)\n",
      "memory usage: 172.1 MB\n"
     ]
    }
   ],
   "source": [
    "# 9.1s \n",
    "ispe = wd.export_to_pandas(\"SELECT REGLT_NO, REGLT_DE FROM N_IS_PENALTY;\")\n",
    "ispe.info()"
   ]
  },
  {
   "cell_type": "code",
   "execution_count": 43,
   "metadata": {},
   "outputs": [
    {
     "data": {
      "text/plain": [
       "Index(['적발번호', '단속일'], dtype='object')"
      ]
     },
     "execution_count": 43,
     "metadata": {},
     "output_type": "execute_result"
    }
   ],
   "source": [
    "ispe_ch_col = {\n",
    "    'REGLT_NO':'적발번호', \n",
    "    'REGLT_DE':'단속일', \n",
    "}\n",
    "isper = ispe.rename(columns=ispe_ch_col)\n",
    "isper.columns"
   ]
  },
  {
   "cell_type": "markdown",
   "metadata": {},
   "source": [
    "## [❗] 운행제한 단속정보(N_US_DISCLOSURE)"
   ]
  },
  {
   "cell_type": "code",
   "execution_count": 44,
   "metadata": {},
   "outputs": [],
   "source": [
    "# # 14.2s\n",
    "# usdis = pd.read_csv(os.path.join(ods_fold, 'ODS_N_US_DISCLOSURE.csv'), low_memory=False, usecols=['NO', 'VIN', 'REG_SIDO_CD', 'REG_SIGNGU_CD', 'DISCL_TY', 'REGLT_AREA_CD'])\n",
    "# usdis_ch_dict = {\n",
    "#     'NO':'번호', \n",
    "#     'VIN':'차대번호', \n",
    "#     'REG_SIDO_CD':'등록시도코드', \n",
    "#     'REG_SIGNGU_CD':'등록시군구코드', \n",
    "#     'DISCL_TY':'적발유형', \n",
    "#     'REGLT_AREA_CD':'단속지역코드', \n",
    "# }\n",
    "# usdisr = usdis.rename(columns=usdis_ch_dict)\n",
    "# usdisr.columns"
   ]
  },
  {
   "cell_type": "code",
   "execution_count": 45,
   "metadata": {},
   "outputs": [],
   "source": [
    "# sql = 'select \"no\", VIN, DISCL_TY, REGLT_AREA_CD, REG_SIDO_CD, REG_SIGNGU_CD from vsysd.n_us_disclosure'\n",
    "# cur.execute(sql)\n",
    "# usdis = pd.DataFrame(cur.fetchall())\n",
    "# usdis.columns = [desc[0].upper() for desc in cur.description]\n",
    "# usdis_ch_dict = {\n",
    "#     'NO':'번호', \n",
    "#     'VIN':'차대번호', \n",
    "#     'REG_SIDO_CD':'등록시도코드', \n",
    "#     'REG_SIGNGU_CD':'등록시군구코드', \n",
    "#     'DISCL_TY':'적발유형', \n",
    "#     'REGLT_AREA_CD':'단속지역코드', \n",
    "# }\n",
    "# usdisr = usdis.rename(columns=usdis_ch_dict)\n",
    "# usdisr.columns"
   ]
  },
  {
   "cell_type": "code",
   "execution_count": 46,
   "metadata": {},
   "outputs": [
    {
     "name": "stdout",
     "output_type": "stream",
     "text": [
      "<class 'pandas.core.frame.DataFrame'>\n",
      "RangeIndex: 3151659 entries, 0 to 3151658\n",
      "Data columns (total 6 columns):\n",
      " #   Column         Dtype \n",
      "---  ------         ----- \n",
      " 0   NO             int64 \n",
      " 1   VIN            object\n",
      " 2   DISCL_TY       object\n",
      " 3   REGLT_AREA_CD  int64 \n",
      " 4   REG_SIDO_CD    int64 \n",
      " 5   REG_SIGNGU_CD  int64 \n",
      "dtypes: int64(4), object(2)\n",
      "memory usage: 144.3+ MB\n"
     ]
    }
   ],
   "source": [
    "# 9.4s\n",
    "usdis = wd.export_to_pandas('SELECT \"NO\", VIN, DISCL_TY, REGLT_AREA_CD, REG_SIDO_CD, REG_SIGNGU_CD FROM N_US_DISCLOSURE;')\n",
    "usdis.info()"
   ]
  },
  {
   "cell_type": "code",
   "execution_count": 47,
   "metadata": {},
   "outputs": [
    {
     "data": {
      "text/plain": [
       "Index(['번호', '차대번호', '적발유형', '단속지역코드', '등록시도코드', '등록시군구코드'], dtype='object')"
      ]
     },
     "execution_count": 47,
     "metadata": {},
     "output_type": "execute_result"
    }
   ],
   "source": [
    "usdis_ch_dict = {\n",
    "    'NO':'번호', \n",
    "    'VIN':'차대번호', \n",
    "    'REG_SIDO_CD':'등록시도코드', \n",
    "    'REG_SIGNGU_CD':'등록시군구코드', \n",
    "    'DISCL_TY':'적발유형', \n",
    "    'REGLT_AREA_CD':'단속지역코드', \n",
    "}\n",
    "usdisr = usdis.rename(columns=usdis_ch_dict)\n",
    "usdisr.columns"
   ]
  },
  {
   "cell_type": "code",
   "execution_count": 48,
   "metadata": {},
   "outputs": [],
   "source": [
    "# DISCL_TY(적발유형) : S(일반 -> 상시), H(고농도)"
   ]
  },
  {
   "cell_type": "markdown",
   "metadata": {},
   "source": [
    "## [❗] N_US_PENALTY"
   ]
  },
  {
   "cell_type": "code",
   "execution_count": 49,
   "metadata": {},
   "outputs": [],
   "source": [
    "# # 0.5s\n",
    "# uspe = pd.read_csv(os.path.join(ods_fold, 'N_US_PENALTY.csv'), low_memory=False, sep='|', usecols=['NO', 'REGLT_CNT', 'REGLT_YM'])\n",
    "# uspe_ch_dict = {\n",
    "#     'NO':'번호', \n",
    "#     'REGLT_CNT':'적발건수', \n",
    "#     'REGLT_YM':'적발년월'\n",
    "# }\n",
    "# usper = uspe.rename(columns=uspe_ch_dict)\n",
    "# usper.columns"
   ]
  },
  {
   "cell_type": "code",
   "execution_count": 50,
   "metadata": {},
   "outputs": [],
   "source": [
    "# sql = 'select \"no\", REGLT_CNT, REGLT_YM FROM from vsysd.n_us_penalty'\n",
    "# cur.execute(sql)\n",
    "# uspe = pd.DataFrame(cur.fetchall())\n",
    "# uspe.columns = [desc[0].upper() for desc in cur.description]\n",
    "# uspe_ch_dict = {\n",
    "#     'NO':'번호', \n",
    "#     'REGLT_CNT':'적발건수', \n",
    "#     'REGLT_YM':'적발년월'\n",
    "# }\n",
    "# usper = uspe.rename(columns=uspe_ch_dict)\n",
    "# usper.columns"
   ]
  },
  {
   "cell_type": "code",
   "execution_count": 51,
   "metadata": {},
   "outputs": [
    {
     "name": "stdout",
     "output_type": "stream",
     "text": [
      "<class 'pandas.core.frame.DataFrame'>\n",
      "RangeIndex: 444663 entries, 0 to 444662\n",
      "Data columns (total 3 columns):\n",
      " #   Column     Non-Null Count   Dtype\n",
      "---  ------     --------------   -----\n",
      " 0   NO         444663 non-null  int64\n",
      " 1   REGLT_CNT  444663 non-null  int64\n",
      " 2   REGLT_YM   444663 non-null  int64\n",
      "dtypes: int64(3)\n",
      "memory usage: 10.2 MB\n"
     ]
    }
   ],
   "source": [
    "# 1.7s\n",
    "uspe = wd.export_to_pandas('SELECT \"NO\", REGLT_CNT, REGLT_YM FROM N_US_PENALTY;')\n",
    "uspe.info()"
   ]
  },
  {
   "cell_type": "code",
   "execution_count": 52,
   "metadata": {},
   "outputs": [
    {
     "data": {
      "text/plain": [
       "Index(['번호', '적발건수', '적발년월'], dtype='object')"
      ]
     },
     "execution_count": 52,
     "metadata": {},
     "output_type": "execute_result"
    }
   ],
   "source": [
    "uspe_ch_dict = {\n",
    "    'NO':'번호', \n",
    "    'REGLT_CNT':'적발건수', \n",
    "    'REGLT_YM':'적발년월'\n",
    "}\n",
    "usper = uspe.rename(columns=uspe_ch_dict)\n",
    "usper.columns"
   ]
  },
  {
   "cell_type": "markdown",
   "metadata": {},
   "source": [
    "## [❗] 등록이력(CEG_CAR_HISTORY_MIG)"
   ]
  },
  {
   "cell_type": "code",
   "execution_count": 53,
   "metadata": {},
   "outputs": [],
   "source": [
    "# # 1m 13.2s\n",
    "# his = ws.export_to_pandas(\"SELECT VHCL_ERSR_YN, CHNG_DE, VHMNO FROM CEG_CAR_HISTORY_MIG;\")\n",
    "# his_ch_col = {\n",
    "#     'VHCL_ERSR_YN':'차량말소YN', \n",
    "#     'CHNG_DE':'변경일자',\n",
    "#     'VHMNO':'차량관리번호'\n",
    "# }\n",
    "# hisr = his.rename(columns=his_ch_col)\n",
    "# hisr.columns"
   ]
  },
  {
   "cell_type": "code",
   "execution_count": 54,
   "metadata": {},
   "outputs": [],
   "source": [
    "# sql = 'select VHCL_ERSR_YN, CHNG_DE, VHMNO from vsysd.ceg_car_history_mig'\n",
    "# cur.execute(sql)\n",
    "# his = pd.DataFrame(cur.fetchall())\n",
    "# his.columns = [desc[0].upper() for desc in cur.description]\n",
    "# cur.close()\n",
    "# conn.close()\n",
    "# his_ch_col = {\n",
    "#     'VHCL_ERSR_YN':'차량말소YN', \n",
    "#     'CHNG_DE':'변경일자',\n",
    "#     'VHMNO':'차량관리번호'\n",
    "# }\n",
    "# hisr = his.rename(columns=his_ch_col)\n",
    "# hisr.columns"
   ]
  },
  {
   "cell_type": "code",
   "execution_count": 55,
   "metadata": {},
   "outputs": [
    {
     "name": "stdout",
     "output_type": "stream",
     "text": [
      "<class 'pandas.core.frame.DataFrame'>\n",
      "RangeIndex: 69241518 entries, 0 to 69241517\n",
      "Data columns (total 3 columns):\n",
      " #   Column        Dtype  \n",
      "---  ------        -----  \n",
      " 0   VHCL_ERSR_YN  object \n",
      " 1   CHNG_DE       float64\n",
      " 2   VHMNO         object \n",
      "dtypes: float64(1), object(2)\n",
      "memory usage: 1.5+ GB\n"
     ]
    }
   ],
   "source": [
    "# 1m 32.3s\n",
    "his = wd.export_to_pandas(\"SELECT VHCL_ERSR_YN, CHNG_DE, VHMNO FROM CEG_CAR_HISTORY_MIG;\")\n",
    "his.info()"
   ]
  },
  {
   "cell_type": "code",
   "execution_count": 56,
   "metadata": {},
   "outputs": [
    {
     "data": {
      "text/plain": [
       "Index(['차량말소YN', '변경일자', '차량관리번호'], dtype='object')"
      ]
     },
     "execution_count": 56,
     "metadata": {},
     "output_type": "execute_result"
    }
   ],
   "source": [
    "his_ch_col = {\n",
    "    'VHCL_ERSR_YN':'차량말소YN', \n",
    "    'CHNG_DE':'변경일자',\n",
    "    'VHMNO':'차량관리번호'\n",
    "}\n",
    "hisr = his.rename(columns=his_ch_col)\n",
    "hisr.columns"
   ]
  },
  {
   "cell_type": "markdown",
   "metadata": {},
   "source": [
    "# 전처리"
   ]
  },
  {
   "cell_type": "markdown",
   "metadata": {},
   "source": [
    "## 중복 차대번호 제거"
   ]
  },
  {
   "cell_type": "code",
   "execution_count": 57,
   "metadata": {},
   "outputs": [
    {
     "data": {
      "text/plain": [
       "((2314337, 10), 2314288)"
      ]
     },
     "execution_count": 57,
     "metadata": {},
     "output_type": "execute_result"
    }
   ],
   "source": [
    "carr.shape, len(carr['차대번호'].unique())"
   ]
  },
  {
   "cell_type": "code",
   "execution_count": 58,
   "metadata": {},
   "outputs": [
    {
     "data": {
      "text/plain": [
       "(2314288, 10)"
      ]
     },
     "execution_count": 58,
     "metadata": {},
     "output_type": "execute_result"
    }
   ],
   "source": [
    "carr['최초등록일자'] = pd.to_numeric(carr['최초등록일자'], errors='coerce')\n",
    "carr = carr.sort_values('최초등록일자', ascending=False).drop_duplicates('차대번호').reset_index(drop=True)\n",
    "carr.shape"
   ]
  },
  {
   "cell_type": "markdown",
   "metadata": {},
   "source": [
    "## 차종 코드 변환"
   ]
  },
  {
   "cell_type": "code",
   "execution_count": 59,
   "metadata": {},
   "outputs": [
    {
     "data": {
      "text/plain": [
       "array(['화물', '특수', '승용', '승합'], dtype=object)"
      ]
     },
     "execution_count": 59,
     "metadata": {},
     "output_type": "execute_result"
    }
   ],
   "source": [
    "cd_dict = {\n",
    "    'A31M':'이륜', \n",
    "    'A31P':'승용', \n",
    "    'A31S':'특수', \n",
    "    'A31T':'화물', \n",
    "    'A31V':'승합'\n",
    "}\n",
    "carr['차종'] = carr['차종'].replace(cd_dict)\n",
    "carr['차종'].unique()"
   ]
  },
  {
   "cell_type": "markdown",
   "metadata": {},
   "source": [
    "## 용도 코드 변환"
   ]
  },
  {
   "cell_type": "code",
   "execution_count": 60,
   "metadata": {},
   "outputs": [
    {
     "data": {
      "text/plain": [
       "array(['개인용', '영업용', '관용'], dtype=object)"
      ]
     },
     "execution_count": 60,
     "metadata": {},
     "output_type": "execute_result"
    }
   ],
   "source": [
    "purps_dict = {\n",
    "    'A08P':'개인용', \n",
    "    'A08B':'영업용', \n",
    "    'A08O':'관용',\n",
    "}\n",
    "carr['용도'] = carr['용도'].replace(purps_dict)\n",
    "carr['용도'].unique()"
   ]
  },
  {
   "cell_type": "markdown",
   "metadata": {},
   "source": [
    "## 등록정보 말소 제거"
   ]
  },
  {
   "cell_type": "code",
   "execution_count": 61,
   "metadata": {},
   "outputs": [
    {
     "data": {
      "text/plain": [
       "(973987, 10)"
      ]
     },
     "execution_count": 61,
     "metadata": {},
     "output_type": "execute_result"
    }
   ],
   "source": [
    "carm = carr[carr['차량말소YN'] == 'N'].reset_index(drop=True)\n",
    "carm.shape"
   ]
  },
  {
   "cell_type": "markdown",
   "metadata": {},
   "source": [
    "## 연료 코드 변환"
   ]
  },
  {
   "cell_type": "code",
   "execution_count": 62,
   "metadata": {},
   "outputs": [
    {
     "data": {
      "text/plain": [
       "array(['휘발유', '경유', '기타연료', 'LPG(액화석유가스)', nan, '휘발유 하이브리드',\n",
       "       'CNG(압축천연가스)', '알코올', '등유', '태양열', '경유 하이브리드', '전기', 'LPG 하이브리드',\n",
       "       '수소', 'LNG(액화천연가스)', 'CNG 하이브리드'], dtype=object)"
      ]
     },
     "execution_count": 62,
     "metadata": {},
     "output_type": "execute_result"
    }
   ],
   "source": [
    "fuel_dict = {\n",
    "    'A90GS':'휘발유', \n",
    "    'A91DS':'경유',\n",
    "    'A92LP':'LPG(액화석유가스)', \n",
    "    'A90GH':'휘발유 하이브리드', \n",
    "    'A93EV':'전기', \n",
    "    'A91DH':'경유 하이브리드', \n",
    "    'A92CN':'CNG(압축천연가스)', \n",
    "    'A93HD':'수소', \n",
    "    'A92LH':'LPG 하이브리드', \n",
    "    'A94OT':'기타연료', \n",
    "    'A92CH':'CNG 하이브리드',\n",
    "    'A90AC':'알코올', \n",
    "    'A93SH':'태양열', \n",
    "    'A91KS':'등유', \n",
    "    'A92LN':'LNG(액화천연가스)', \n",
    "    'A90PH':'플러그인 하이브리드', \n",
    "}\n",
    "srcr['연료'] = srcr['연료'].replace(fuel_dict)\n",
    "srcr['연료'].unique()"
   ]
  },
  {
   "cell_type": "markdown",
   "metadata": {},
   "source": [
    "## 차종유형 코드 변환"
   ]
  },
  {
   "cell_type": "code",
   "execution_count": 63,
   "metadata": {},
   "outputs": [
    {
     "data": {
      "text/plain": [
       "array(['대형', '중형', '소형', '경형', nan], dtype=object)"
      ]
     },
     "execution_count": 63,
     "metadata": {},
     "output_type": "execute_result"
    }
   ],
   "source": [
    "ty_dict = {\n",
    "    'A30C':'경형', \n",
    "    'A30L':'대형', \n",
    "    'A30M':'중형', \n",
    "    'A30S':'소형',\n",
    "}\n",
    "srcr['차종유형'] = srcr['차종유형'].replace(ty_dict)\n",
    "srcr['차종유형'].unique()"
   ]
  },
  {
   "cell_type": "markdown",
   "metadata": {},
   "source": [
    "## 등록&제원 병합"
   ]
  },
  {
   "cell_type": "code",
   "execution_count": 64,
   "metadata": {},
   "outputs": [
    {
     "data": {
      "text/plain": [
       "(973987, 12)"
      ]
     },
     "execution_count": 64,
     "metadata": {},
     "output_type": "execute_result"
    }
   ],
   "source": [
    "# 19.4s\n",
    "cs = carm.merge(srcr, on='제원관리번호', how='left')\n",
    "cs.shape"
   ]
  },
  {
   "cell_type": "code",
   "execution_count": 65,
   "metadata": {},
   "outputs": [
    {
     "data": {
      "text/plain": [
       "(2314288, 12)"
      ]
     },
     "execution_count": 65,
     "metadata": {},
     "output_type": "execute_result"
    }
   ],
   "source": [
    "cse = carr.merge(srcr, on='제원관리번호', how='left')\n",
    "cse.shape"
   ]
  },
  {
   "cell_type": "markdown",
   "metadata": {},
   "source": [
    "## 저감장치구분 코드 변환"
   ]
  },
  {
   "cell_type": "code",
   "execution_count": 66,
   "metadata": {},
   "outputs": [
    {
     "data": {
      "text/plain": [
       "array(['A1001', 'A1003', 'A1005', 'A1002', 'A1006', 'A1007', 'A1004'],\n",
       "      dtype=object)"
      ]
     },
     "execution_count": 66,
     "metadata": {},
     "output_type": "execute_result"
    }
   ],
   "source": [
    "# 0s\n",
    "attr['저감장치구분'].unique()"
   ]
  },
  {
   "cell_type": "code",
   "execution_count": 67,
   "metadata": {},
   "outputs": [
    {
     "data": {
      "text/plain": [
       "array(['1종', '3종', '엔진개조', '2종', '엔진교체', '삼원촉매', '1종+SCR'], dtype=object)"
      ]
     },
     "execution_count": 67,
     "metadata": {},
     "output_type": "execute_result"
    }
   ],
   "source": [
    "# 27.5s\n",
    "rdcdvc_dict = {\n",
    "    'A1001':'1종', \n",
    "    'A1002':'2종', \n",
    "    'A1003':'3종', \n",
    "    'A1004':'1종+SCR', \n",
    "    'A1005':'엔진개조', \n",
    "    'A1006':'엔진교체',\n",
    "    'A1007':'삼원촉매',\n",
    "}\n",
    "attr['저감장치구분'] = attr['저감장치구분'].replace(rdcdvc_dict)\n",
    "attr['저감장치구분'].unique()"
   ]
  },
  {
   "cell_type": "markdown",
   "metadata": {},
   "source": [
    "## 저감장치 부착 유무"
   ]
  },
  {
   "cell_type": "code",
   "execution_count": 68,
   "metadata": {},
   "outputs": [],
   "source": [
    "attr.loc[(attr['저감장치구분'] == '1종') | (attr['저감장치구분'] == '1종+SCR'), 'DPF_YN'] = '유'"
   ]
  },
  {
   "cell_type": "code",
   "execution_count": 69,
   "metadata": {},
   "outputs": [
    {
     "data": {
      "text/plain": [
       "DPF_YN\n",
       "NaN    533631\n",
       "유      482310\n",
       "Name: count, dtype: int64"
      ]
     },
     "execution_count": 69,
     "metadata": {},
     "output_type": "execute_result"
    }
   ],
   "source": [
    "attr['DPF_YN'].value_counts(dropna=False)"
   ]
  },
  {
   "cell_type": "code",
   "execution_count": 70,
   "metadata": {},
   "outputs": [
    {
     "data": {
      "text/plain": [
       "((1015941, 3), 1014369)"
      ]
     },
     "execution_count": 70,
     "metadata": {},
     "output_type": "execute_result"
    }
   ],
   "source": [
    "attr.shape, len(attr['차대번호'].unique())"
   ]
  },
  {
   "cell_type": "code",
   "execution_count": 71,
   "metadata": {},
   "outputs": [
    {
     "data": {
      "text/plain": [
       "(1014369, 3)"
      ]
     },
     "execution_count": 71,
     "metadata": {},
     "output_type": "execute_result"
    }
   ],
   "source": [
    "attr = attr.sort_values('DPF_YN').drop_duplicates('차대번호').reset_index(drop=True)\n",
    "attr.shape"
   ]
  },
  {
   "cell_type": "markdown",
   "metadata": {},
   "source": [
    "## 등록&제원&저감이력 병합"
   ]
  },
  {
   "cell_type": "code",
   "execution_count": 72,
   "metadata": {},
   "outputs": [
    {
     "data": {
      "text/plain": [
       "(973987, 13)"
      ]
     },
     "execution_count": 72,
     "metadata": {},
     "output_type": "execute_result"
    }
   ],
   "source": [
    "# 1.7s\n",
    "csa = cs.merge(attr[['차대번호', 'DPF_YN']], on='차대번호', how='left')\n",
    "csa.shape"
   ]
  },
  {
   "cell_type": "markdown",
   "metadata": {},
   "source": [
    "## 지역정보 병합"
   ]
  },
  {
   "cell_type": "code",
   "execution_count": 73,
   "metadata": {},
   "outputs": [],
   "source": [
    "csa['법정동코드'] = csa['법정동코드'].astype('str')\n",
    "csa['법정동코드'] = csa['법정동코드'].str[:5] + '00000'\n",
    "csa['법정동코드'] = pd.to_numeric(csa['법정동코드'])"
   ]
  },
  {
   "cell_type": "code",
   "execution_count": 74,
   "metadata": {},
   "outputs": [],
   "source": [
    "csac = csa.merge(coder, on='법정동코드', how='left')"
   ]
  },
  {
   "cell_type": "code",
   "execution_count": 75,
   "metadata": {},
   "outputs": [
    {
     "data": {
      "text/plain": [
       "0"
      ]
     },
     "execution_count": 75,
     "metadata": {},
     "output_type": "execute_result"
    }
   ],
   "source": [
    "csac['시도'].isnull().sum()"
   ]
  },
  {
   "cell_type": "markdown",
   "metadata": {},
   "source": [
    "## 조기폐차 정보들 병합"
   ]
  },
  {
   "cell_type": "code",
   "execution_count": 76,
   "metadata": {},
   "outputs": [
    {
     "data": {
      "text/plain": [
       "(1200370, 4)"
      ]
     },
     "execution_count": 76,
     "metadata": {},
     "output_type": "execute_result"
    }
   ],
   "source": [
    "elp = pd.concat([aear, lgvr], ignore_index=True)\n",
    "elp.shape"
   ]
  },
  {
   "cell_type": "code",
   "execution_count": 77,
   "metadata": {},
   "outputs": [
    {
     "data": {
      "text/plain": [
       "((1200370, 4), 1125610)"
      ]
     },
     "execution_count": 77,
     "metadata": {},
     "output_type": "execute_result"
    }
   ],
   "source": [
    "elp.shape, len(elp['차대번호'].unique())"
   ]
  },
  {
   "cell_type": "code",
   "execution_count": 78,
   "metadata": {},
   "outputs": [
    {
     "data": {
      "text/plain": [
       "(1125610, 4)"
      ]
     },
     "execution_count": 78,
     "metadata": {},
     "output_type": "execute_result"
    }
   ],
   "source": [
    "elpm = elp.sort_values('조기폐차최종승인YN', ascending=False).drop_duplicates('차대번호').reset_index(drop=True)\n",
    "elpm.shape"
   ]
  },
  {
   "cell_type": "code",
   "execution_count": 79,
   "metadata": {},
   "outputs": [
    {
     "data": {
      "text/plain": [
       "(887431, 4)"
      ]
     },
     "execution_count": 79,
     "metadata": {},
     "output_type": "execute_result"
    }
   ],
   "source": [
    "elpm = elpm[elpm['조기폐차최종승인YN'] == 'Y'].reset_index(drop=True)\n",
    "elpm.shape"
   ]
  },
  {
   "cell_type": "markdown",
   "metadata": {},
   "source": [
    "## 조기폐차 정보 추가"
   ]
  },
  {
   "cell_type": "code",
   "execution_count": 80,
   "metadata": {},
   "outputs": [
    {
     "data": {
      "text/plain": [
       "(973987, 17)"
      ]
     },
     "execution_count": 80,
     "metadata": {},
     "output_type": "execute_result"
    }
   ],
   "source": [
    "csac.shape"
   ]
  },
  {
   "cell_type": "code",
   "execution_count": 81,
   "metadata": {},
   "outputs": [
    {
     "data": {
      "text/plain": [
       "(973987, 20)"
      ]
     },
     "execution_count": 81,
     "metadata": {},
     "output_type": "execute_result"
    }
   ],
   "source": [
    "df = csac.merge(elpm, on='차대번호', how='left')\n",
    "df.shape"
   ]
  },
  {
   "cell_type": "code",
   "execution_count": 82,
   "metadata": {},
   "outputs": [
    {
     "data": {
      "text/html": [
       "<div>\n",
       "<style scoped>\n",
       "    .dataframe tbody tr th:only-of-type {\n",
       "        vertical-align: middle;\n",
       "    }\n",
       "\n",
       "    .dataframe tbody tr th {\n",
       "        vertical-align: top;\n",
       "    }\n",
       "\n",
       "    .dataframe thead th {\n",
       "        text-align: right;\n",
       "    }\n",
       "</style>\n",
       "<table border=\"1\" class=\"dataframe\">\n",
       "  <thead>\n",
       "    <tr style=\"text-align: right;\">\n",
       "      <th></th>\n",
       "      <th>차대번호</th>\n",
       "      <th>법정동코드</th>\n",
       "      <th>차량말소YN</th>\n",
       "      <th>제원관리번호</th>\n",
       "      <th>차량연식</th>\n",
       "      <th>차종</th>\n",
       "      <th>용도</th>\n",
       "      <th>최초등록일자</th>\n",
       "      <th>제작일자</th>\n",
       "      <th>차량관리번호</th>\n",
       "      <th>연료</th>\n",
       "      <th>차종유형</th>\n",
       "      <th>DPF_YN</th>\n",
       "      <th>시도코드</th>\n",
       "      <th>시군구코드</th>\n",
       "      <th>시도</th>\n",
       "      <th>시군구</th>\n",
       "      <th>조기폐차상태코드</th>\n",
       "      <th>조기폐차최종승인YN</th>\n",
       "      <th>말소일자</th>\n",
       "    </tr>\n",
       "  </thead>\n",
       "  <tbody>\n",
       "    <tr>\n",
       "      <th>0</th>\n",
       "      <td>KL3C3AHF27K000073</td>\n",
       "      <td>4785000000</td>\n",
       "      <td>N</td>\n",
       "      <td>A0310007202023307</td>\n",
       "      <td>2007</td>\n",
       "      <td>화물</td>\n",
       "      <td>개인용</td>\n",
       "      <td>20230613.00</td>\n",
       "      <td>20070627.00</td>\n",
       "      <td>KL3C3AHF27K000073-01</td>\n",
       "      <td>경유</td>\n",
       "      <td>대형</td>\n",
       "      <td>NaN</td>\n",
       "      <td>47</td>\n",
       "      <td>850</td>\n",
       "      <td>경상북도</td>\n",
       "      <td>칠곡군</td>\n",
       "      <td>NaN</td>\n",
       "      <td>NaN</td>\n",
       "      <td>NaN</td>\n",
       "    </tr>\n",
       "    <tr>\n",
       "      <th>1</th>\n",
       "      <td>KMFGA17PP7C071816</td>\n",
       "      <td>4427000000</td>\n",
       "      <td>N</td>\n",
       "      <td>00034427000023223</td>\n",
       "      <td>2007</td>\n",
       "      <td>화물</td>\n",
       "      <td>개인용</td>\n",
       "      <td>20230221.00</td>\n",
       "      <td>20061231.00</td>\n",
       "      <td>KMFGA17PP7C071816-01</td>\n",
       "      <td>경유</td>\n",
       "      <td>중형</td>\n",
       "      <td>NaN</td>\n",
       "      <td>44</td>\n",
       "      <td>270</td>\n",
       "      <td>충청남도</td>\n",
       "      <td>당진시</td>\n",
       "      <td>NaN</td>\n",
       "      <td>NaN</td>\n",
       "      <td>NaN</td>\n",
       "    </tr>\n",
       "    <tr>\n",
       "      <th>2</th>\n",
       "      <td>KL3C3AHF27K000082</td>\n",
       "      <td>4481000000</td>\n",
       "      <td>N</td>\n",
       "      <td>A0310007202023307</td>\n",
       "      <td>2007</td>\n",
       "      <td>화물</td>\n",
       "      <td>개인용</td>\n",
       "      <td>20220711.00</td>\n",
       "      <td>20070627.00</td>\n",
       "      <td>KL3C3AHF27K000082-01</td>\n",
       "      <td>경유</td>\n",
       "      <td>대형</td>\n",
       "      <td>NaN</td>\n",
       "      <td>44</td>\n",
       "      <td>810</td>\n",
       "      <td>충청남도</td>\n",
       "      <td>예산군</td>\n",
       "      <td>NaN</td>\n",
       "      <td>NaN</td>\n",
       "      <td>NaN</td>\n",
       "    </tr>\n",
       "    <tr>\n",
       "      <th>3</th>\n",
       "      <td>KRGLAAC3K3B019534</td>\n",
       "      <td>2714000000</td>\n",
       "      <td>N</td>\n",
       "      <td>00034427000033222</td>\n",
       "      <td>2003</td>\n",
       "      <td>화물</td>\n",
       "      <td>개인용</td>\n",
       "      <td>20220414.00</td>\n",
       "      <td>20021231.00</td>\n",
       "      <td>KRGLAAC3K3B019534-01</td>\n",
       "      <td>경유</td>\n",
       "      <td>중형</td>\n",
       "      <td>NaN</td>\n",
       "      <td>27</td>\n",
       "      <td>140</td>\n",
       "      <td>대구광역시</td>\n",
       "      <td>동구</td>\n",
       "      <td>NaN</td>\n",
       "      <td>NaN</td>\n",
       "      <td>NaN</td>\n",
       "    </tr>\n",
       "    <tr>\n",
       "      <th>4</th>\n",
       "      <td>KL3C3AHF27K000068</td>\n",
       "      <td>4684000000</td>\n",
       "      <td>N</td>\n",
       "      <td>A0310007202023307</td>\n",
       "      <td>2007</td>\n",
       "      <td>화물</td>\n",
       "      <td>개인용</td>\n",
       "      <td>20220413.00</td>\n",
       "      <td>20070618.00</td>\n",
       "      <td>KL3C3AHF27K000068-01</td>\n",
       "      <td>경유</td>\n",
       "      <td>대형</td>\n",
       "      <td>NaN</td>\n",
       "      <td>46</td>\n",
       "      <td>840</td>\n",
       "      <td>전라남도</td>\n",
       "      <td>무안군</td>\n",
       "      <td>NaN</td>\n",
       "      <td>NaN</td>\n",
       "      <td>NaN</td>\n",
       "    </tr>\n",
       "  </tbody>\n",
       "</table>\n",
       "</div>"
      ],
      "text/plain": [
       "                차대번호       법정동코드 차량말소YN             제원관리번호  차량연식  차종   용도   \n",
       "0  KL3C3AHF27K000073  4785000000      N  A0310007202023307  2007  화물  개인용  \\\n",
       "1  KMFGA17PP7C071816  4427000000      N  00034427000023223  2007  화물  개인용   \n",
       "2  KL3C3AHF27K000082  4481000000      N  A0310007202023307  2007  화물  개인용   \n",
       "3  KRGLAAC3K3B019534  2714000000      N  00034427000033222  2003  화물  개인용   \n",
       "4  KL3C3AHF27K000068  4684000000      N  A0310007202023307  2007  화물  개인용   \n",
       "\n",
       "       최초등록일자        제작일자                차량관리번호  연료 차종유형 DPF_YN  시도코드  시군구코드   \n",
       "0 20230613.00 20070627.00  KL3C3AHF27K000073-01  경유   대형    NaN    47    850  \\\n",
       "1 20230221.00 20061231.00  KMFGA17PP7C071816-01  경유   중형    NaN    44    270   \n",
       "2 20220711.00 20070627.00  KL3C3AHF27K000082-01  경유   대형    NaN    44    810   \n",
       "3 20220414.00 20021231.00  KRGLAAC3K3B019534-01  경유   중형    NaN    27    140   \n",
       "4 20220413.00 20070618.00  KL3C3AHF27K000068-01  경유   대형    NaN    46    840   \n",
       "\n",
       "      시도  시군구 조기폐차상태코드 조기폐차최종승인YN  말소일자  \n",
       "0   경상북도  칠곡군      NaN        NaN   NaN  \n",
       "1   충청남도  당진시      NaN        NaN   NaN  \n",
       "2   충청남도  예산군      NaN        NaN   NaN  \n",
       "3  대구광역시   동구      NaN        NaN   NaN  \n",
       "4   전라남도  무안군      NaN        NaN   NaN  "
      ]
     },
     "execution_count": 82,
     "metadata": {},
     "output_type": "execute_result"
    }
   ],
   "source": [
    "df.head()"
   ]
  },
  {
   "cell_type": "markdown",
   "metadata": {},
   "source": [
    "## 비상시 및 계절제 병합"
   ]
  },
  {
   "cell_type": "code",
   "execution_count": 83,
   "metadata": {},
   "outputs": [
    {
     "data": {
      "text/plain": [
       "((108436093, 6), (2368, 3), (11277810, 2))"
      ]
     },
     "execution_count": 83,
     "metadata": {},
     "output_type": "execute_result"
    }
   ],
   "source": [
    "isdisr.shape, isisr.shape, isper.shape"
   ]
  },
  {
   "cell_type": "code",
   "execution_count": 84,
   "metadata": {},
   "outputs": [
    {
     "data": {
      "text/plain": [
       "(Index(['적발번호', '발령번호', '차대번호', '등록시도코드', '등록시군구코드', '적발지역코드'], dtype='object'),\n",
       " Index(['발령번호', '유형기준아이디', '농도기준아이디'], dtype='object'),\n",
       " Index(['적발번호', '단속일'], dtype='object'))"
      ]
     },
     "execution_count": 84,
     "metadata": {},
     "output_type": "execute_result"
    }
   ],
   "source": [
    "isdisr.columns, isisr.columns, isper.columns"
   ]
  },
  {
   "cell_type": "code",
   "execution_count": 85,
   "metadata": {},
   "outputs": [
    {
     "data": {
      "text/plain": [
       "(108436093, 6)"
      ]
     },
     "execution_count": 85,
     "metadata": {},
     "output_type": "execute_result"
    }
   ],
   "source": [
    "isdisr.shape"
   ]
  },
  {
   "cell_type": "code",
   "execution_count": 86,
   "metadata": {},
   "outputs": [
    {
     "data": {
      "text/plain": [
       "(108436093, 7)"
      ]
     },
     "execution_count": 86,
     "metadata": {},
     "output_type": "execute_result"
    }
   ],
   "source": [
    "# 1m 1.2s\n",
    "isdp= isdisr.merge(isper, on='적발번호', how='left')\n",
    "isdp.shape"
   ]
  },
  {
   "cell_type": "code",
   "execution_count": 87,
   "metadata": {},
   "outputs": [
    {
     "data": {
      "text/plain": [
       "(108436093, 9)"
      ]
     },
     "execution_count": 87,
     "metadata": {},
     "output_type": "execute_result"
    }
   ],
   "source": [
    "# 13.1s\n",
    "isdpi = isdp.merge(isisr, on='발령번호', how='left')\n",
    "isdpi.shape"
   ]
  },
  {
   "cell_type": "markdown",
   "metadata": {},
   "source": [
    "### 지역정보 추가"
   ]
  },
  {
   "cell_type": "code",
   "execution_count": 88,
   "metadata": {},
   "outputs": [],
   "source": [
    "coder_dup = coder.sort_values('법정동코드', ascending=True).drop_duplicates(['시도코드', '시군구코드']).reset_index(drop=True)"
   ]
  },
  {
   "cell_type": "code",
   "execution_count": 89,
   "metadata": {},
   "outputs": [
    {
     "data": {
      "text/html": [
       "<div>\n",
       "<style scoped>\n",
       "    .dataframe tbody tr th:only-of-type {\n",
       "        vertical-align: middle;\n",
       "    }\n",
       "\n",
       "    .dataframe tbody tr th {\n",
       "        vertical-align: top;\n",
       "    }\n",
       "\n",
       "    .dataframe thead th {\n",
       "        text-align: right;\n",
       "    }\n",
       "</style>\n",
       "<table border=\"1\" class=\"dataframe\">\n",
       "  <thead>\n",
       "    <tr style=\"text-align: right;\">\n",
       "      <th></th>\n",
       "      <th>법정동코드</th>\n",
       "      <th>시도코드</th>\n",
       "      <th>시군구코드</th>\n",
       "      <th>시도</th>\n",
       "      <th>시군구</th>\n",
       "    </tr>\n",
       "  </thead>\n",
       "  <tbody>\n",
       "    <tr>\n",
       "      <th>0</th>\n",
       "      <td>1100000000</td>\n",
       "      <td>11</td>\n",
       "      <td>0</td>\n",
       "      <td>서울특별시</td>\n",
       "      <td>NaN</td>\n",
       "    </tr>\n",
       "    <tr>\n",
       "      <th>1</th>\n",
       "      <td>1111000000</td>\n",
       "      <td>11</td>\n",
       "      <td>110</td>\n",
       "      <td>서울특별시</td>\n",
       "      <td>종로구</td>\n",
       "    </tr>\n",
       "    <tr>\n",
       "      <th>2</th>\n",
       "      <td>1114000000</td>\n",
       "      <td>11</td>\n",
       "      <td>140</td>\n",
       "      <td>서울특별시</td>\n",
       "      <td>중구</td>\n",
       "    </tr>\n",
       "    <tr>\n",
       "      <th>3</th>\n",
       "      <td>1117000000</td>\n",
       "      <td>11</td>\n",
       "      <td>170</td>\n",
       "      <td>서울특별시</td>\n",
       "      <td>용산구</td>\n",
       "    </tr>\n",
       "    <tr>\n",
       "      <th>4</th>\n",
       "      <td>1120000000</td>\n",
       "      <td>11</td>\n",
       "      <td>200</td>\n",
       "      <td>서울특별시</td>\n",
       "      <td>성동구</td>\n",
       "    </tr>\n",
       "  </tbody>\n",
       "</table>\n",
       "</div>"
      ],
      "text/plain": [
       "        법정동코드  시도코드  시군구코드     시도  시군구\n",
       "0  1100000000    11      0  서울특별시  NaN\n",
       "1  1111000000    11    110  서울특별시  종로구\n",
       "2  1114000000    11    140  서울특별시   중구\n",
       "3  1117000000    11    170  서울특별시  용산구\n",
       "4  1120000000    11    200  서울특별시  성동구"
      ]
     },
     "execution_count": 89,
     "metadata": {},
     "output_type": "execute_result"
    }
   ],
   "source": [
    "coder_dup.head()"
   ]
  },
  {
   "cell_type": "code",
   "execution_count": 90,
   "metadata": {},
   "outputs": [
    {
     "data": {
      "text/plain": [
       "Index(['적발번호', '발령번호', '차대번호', '등록시도코드', '등록시군구코드', '적발지역코드', '단속일', '유형기준아이디',\n",
       "       '농도기준아이디'],\n",
       "      dtype='object')"
      ]
     },
     "execution_count": 90,
     "metadata": {},
     "output_type": "execute_result"
    }
   ],
   "source": [
    "isdpi.columns"
   ]
  },
  {
   "cell_type": "code",
   "execution_count": 91,
   "metadata": {},
   "outputs": [
    {
     "data": {
      "text/plain": [
       "((1030435, 9), (0, 9))"
      ]
     },
     "execution_count": 91,
     "metadata": {},
     "output_type": "execute_result"
    }
   ],
   "source": [
    "isdpi[isdpi['등록시도코드'] == 42].shape, isdpi[isdpi['등록시도코드'] == 51].shape"
   ]
  },
  {
   "cell_type": "code",
   "execution_count": 92,
   "metadata": {},
   "outputs": [],
   "source": [
    "isdpi.loc[isdpi['등록시도코드'] == 42, '등록시도코드'] = 51 # !!! 수정"
   ]
  },
  {
   "cell_type": "code",
   "execution_count": 93,
   "metadata": {},
   "outputs": [
    {
     "data": {
      "text/plain": [
       "(108436093, 11)"
      ]
     },
     "execution_count": 93,
     "metadata": {},
     "output_type": "execute_result"
    }
   ],
   "source": [
    "# 45.6s\n",
    "is_total1 = isdpi.merge(coder_dup[['시도코드', '시군구코드', '시도', '시군구']], left_on=['등록시도코드', '등록시군구코드'], right_on=['시도코드', '시군구코드'], how='left')\n",
    "is_total1 = is_total1.drop(['시도코드', '시군구코드'], axis=1)\n",
    "is_total1.shape"
   ]
  },
  {
   "cell_type": "code",
   "execution_count": 94,
   "metadata": {},
   "outputs": [],
   "source": [
    "# 20.5s\n",
    "is_total1 = is_total1.rename(columns={'시도':'등록시도', '시군구':'등록시군구'})"
   ]
  },
  {
   "cell_type": "code",
   "execution_count": 95,
   "metadata": {},
   "outputs": [
    {
     "data": {
      "text/plain": [
       "0"
      ]
     },
     "execution_count": 95,
     "metadata": {},
     "output_type": "execute_result"
    }
   ],
   "source": [
    "is_total1['등록시도'].isnull().sum()"
   ]
  },
  {
   "cell_type": "code",
   "execution_count": 96,
   "metadata": {},
   "outputs": [],
   "source": [
    "# 1m 19.2s\n",
    "is_total1['적발지역코드'] = is_total1['적발지역코드'].astype('str')\n",
    "is_total1['적발시도코드'] = is_total1['적발지역코드'].str[:2]\n",
    "is_total1['적발시군구코드'] = is_total1['적발지역코드'].str[2:5]\n",
    "is_total1[['적발시도코드', '적발시군구코드']] = is_total1[['적발시도코드', '적발시군구코드']].astype('int')"
   ]
  },
  {
   "cell_type": "code",
   "execution_count": 97,
   "metadata": {},
   "outputs": [
    {
     "data": {
      "text/plain": [
       "((600309, 13), (0, 13))"
      ]
     },
     "execution_count": 97,
     "metadata": {},
     "output_type": "execute_result"
    }
   ],
   "source": [
    "is_total1[is_total1['적발시도코드'] == 42].shape, is_total1[is_total1['적발시도코드'] == 51].shape"
   ]
  },
  {
   "cell_type": "code",
   "execution_count": 98,
   "metadata": {},
   "outputs": [
    {
     "data": {
      "text/plain": [
       "((1297863, 13), (0, 13))"
      ]
     },
     "execution_count": 98,
     "metadata": {},
     "output_type": "execute_result"
    }
   ],
   "source": [
    "is_total1[is_total1['적발시도코드'] == 36].shape, is_total1.loc[(is_total1['적발시도코드'] == 36) & (is_total1['적발시군구코드'] == 110)].shape"
   ]
  },
  {
   "cell_type": "code",
   "execution_count": 99,
   "metadata": {},
   "outputs": [],
   "source": [
    "is_total1.loc[is_total1['적발시도코드'] == 42, '적발시도코드'] = 51 # !!! 수정\n",
    "is_total1.loc[is_total1['적발시도코드'] == 36, '적발시군구코드'] = 110 # !!! 수정"
   ]
  },
  {
   "cell_type": "code",
   "execution_count": 100,
   "metadata": {},
   "outputs": [
    {
     "data": {
      "text/plain": [
       "시도코드     int64\n",
       "시군구코드    int64\n",
       "dtype: object"
      ]
     },
     "execution_count": 100,
     "metadata": {},
     "output_type": "execute_result"
    }
   ],
   "source": [
    "coder_dup[['시도코드', '시군구코드']].dtypes"
   ]
  },
  {
   "cell_type": "code",
   "execution_count": 101,
   "metadata": {},
   "outputs": [],
   "source": [
    "# 16.5s\n",
    "is_total = is_total1.merge(coder_dup[['시도코드', '시군구코드', '시도', '시군구']], left_on=['적발시도코드', '적발시군구코드'], right_on=['시도코드', '시군구코드'], how='left')"
   ]
  },
  {
   "cell_type": "code",
   "execution_count": 102,
   "metadata": {},
   "outputs": [
    {
     "data": {
      "text/plain": [
       "0"
      ]
     },
     "execution_count": 102,
     "metadata": {},
     "output_type": "execute_result"
    }
   ],
   "source": [
    "is_total['시도'].isnull().sum()"
   ]
  },
  {
   "cell_type": "code",
   "execution_count": 103,
   "metadata": {},
   "outputs": [
    {
     "data": {
      "text/plain": [
       "Index(['적발번호', '발령번호', '차대번호', '등록시도코드', '등록시군구코드', '적발지역코드', '단속일', '유형기준아이디',\n",
       "       '농도기준아이디', '등록시도', '등록시군구', '적발시도코드', '적발시군구코드', '시도코드', '시군구코드', '시도',\n",
       "       '시군구'],\n",
       "      dtype='object')"
      ]
     },
     "execution_count": 103,
     "metadata": {},
     "output_type": "execute_result"
    }
   ],
   "source": [
    "is_total.columns"
   ]
  },
  {
   "cell_type": "code",
   "execution_count": 104,
   "metadata": {},
   "outputs": [
    {
     "data": {
      "text/html": [
       "<div>\n",
       "<style scoped>\n",
       "    .dataframe tbody tr th:only-of-type {\n",
       "        vertical-align: middle;\n",
       "    }\n",
       "\n",
       "    .dataframe tbody tr th {\n",
       "        vertical-align: top;\n",
       "    }\n",
       "\n",
       "    .dataframe thead th {\n",
       "        text-align: right;\n",
       "    }\n",
       "</style>\n",
       "<table border=\"1\" class=\"dataframe\">\n",
       "  <thead>\n",
       "    <tr style=\"text-align: right;\">\n",
       "      <th></th>\n",
       "      <th>적발번호</th>\n",
       "      <th>발령번호</th>\n",
       "      <th>차대번호</th>\n",
       "      <th>등록시도코드</th>\n",
       "      <th>등록시군구코드</th>\n",
       "      <th>적발지역코드</th>\n",
       "      <th>단속일</th>\n",
       "      <th>유형기준아이디</th>\n",
       "      <th>농도기준아이디</th>\n",
       "      <th>등록시도</th>\n",
       "      <th>등록시군구</th>\n",
       "      <th>적발시도코드</th>\n",
       "      <th>적발시군구코드</th>\n",
       "      <th>적발시도</th>\n",
       "      <th>적발시군구</th>\n",
       "    </tr>\n",
       "  </thead>\n",
       "  <tbody>\n",
       "    <tr>\n",
       "      <th>0</th>\n",
       "      <td>51565757</td>\n",
       "      <td>1821</td>\n",
       "      <td>KMFPA18TP5C001735</td>\n",
       "      <td>41</td>\n",
       "      <td>170</td>\n",
       "      <td>28000</td>\n",
       "      <td>NaN</td>\n",
       "      <td>T001</td>\n",
       "      <td>C012</td>\n",
       "      <td>경기도</td>\n",
       "      <td>안양시</td>\n",
       "      <td>28</td>\n",
       "      <td>0</td>\n",
       "      <td>인천광역시</td>\n",
       "      <td>NaN</td>\n",
       "    </tr>\n",
       "    <tr>\n",
       "      <th>1</th>\n",
       "      <td>51565758</td>\n",
       "      <td>1821</td>\n",
       "      <td>KNAJE55135K039713</td>\n",
       "      <td>28</td>\n",
       "      <td>260</td>\n",
       "      <td>28000</td>\n",
       "      <td>NaN</td>\n",
       "      <td>T001</td>\n",
       "      <td>C012</td>\n",
       "      <td>인천광역시</td>\n",
       "      <td>서구</td>\n",
       "      <td>28</td>\n",
       "      <td>0</td>\n",
       "      <td>인천광역시</td>\n",
       "      <td>NaN</td>\n",
       "    </tr>\n",
       "    <tr>\n",
       "      <th>2</th>\n",
       "      <td>51652557</td>\n",
       "      <td>1821</td>\n",
       "      <td>KL5UL42PD7U000105</td>\n",
       "      <td>11</td>\n",
       "      <td>650</td>\n",
       "      <td>11000</td>\n",
       "      <td>NaN</td>\n",
       "      <td>T001</td>\n",
       "      <td>C012</td>\n",
       "      <td>서울특별시</td>\n",
       "      <td>서초구</td>\n",
       "      <td>11</td>\n",
       "      <td>0</td>\n",
       "      <td>서울특별시</td>\n",
       "      <td>NaN</td>\n",
       "    </tr>\n",
       "    <tr>\n",
       "      <th>3</th>\n",
       "      <td>51652540</td>\n",
       "      <td>1821</td>\n",
       "      <td>KMFGA17PP6C041875</td>\n",
       "      <td>41</td>\n",
       "      <td>460</td>\n",
       "      <td>11000</td>\n",
       "      <td>NaN</td>\n",
       "      <td>T001</td>\n",
       "      <td>C012</td>\n",
       "      <td>경기도</td>\n",
       "      <td>용인시</td>\n",
       "      <td>11</td>\n",
       "      <td>0</td>\n",
       "      <td>서울특별시</td>\n",
       "      <td>NaN</td>\n",
       "    </tr>\n",
       "    <tr>\n",
       "      <th>4</th>\n",
       "      <td>51652532</td>\n",
       "      <td>1821</td>\n",
       "      <td>KMFZCS7JP6U175495</td>\n",
       "      <td>41</td>\n",
       "      <td>170</td>\n",
       "      <td>11000</td>\n",
       "      <td>NaN</td>\n",
       "      <td>T001</td>\n",
       "      <td>C012</td>\n",
       "      <td>경기도</td>\n",
       "      <td>안양시</td>\n",
       "      <td>11</td>\n",
       "      <td>0</td>\n",
       "      <td>서울특별시</td>\n",
       "      <td>NaN</td>\n",
       "    </tr>\n",
       "  </tbody>\n",
       "</table>\n",
       "</div>"
      ],
      "text/plain": [
       "       적발번호  발령번호               차대번호  등록시도코드  등록시군구코드 적발지역코드  단속일 유형기준아이디   \n",
       "0  51565757  1821  KMFPA18TP5C001735      41      170  28000  NaN    T001  \\\n",
       "1  51565758  1821  KNAJE55135K039713      28      260  28000  NaN    T001   \n",
       "2  51652557  1821  KL5UL42PD7U000105      11      650  11000  NaN    T001   \n",
       "3  51652540  1821  KMFGA17PP6C041875      41      460  11000  NaN    T001   \n",
       "4  51652532  1821  KMFZCS7JP6U175495      41      170  11000  NaN    T001   \n",
       "\n",
       "  농도기준아이디   등록시도 등록시군구  적발시도코드  적발시군구코드   적발시도 적발시군구  \n",
       "0    C012    경기도   안양시      28        0  인천광역시   NaN  \n",
       "1    C012  인천광역시    서구      28        0  인천광역시   NaN  \n",
       "2    C012  서울특별시   서초구      11        0  서울특별시   NaN  \n",
       "3    C012    경기도   용인시      11        0  서울특별시   NaN  \n",
       "4    C012    경기도   안양시      11        0  서울특별시   NaN  "
      ]
     },
     "execution_count": 104,
     "metadata": {},
     "output_type": "execute_result"
    }
   ],
   "source": [
    "# 1m 22s\n",
    "is_total = is_total.drop(['시도코드', '시군구코드'], axis=1)\n",
    "is_total = is_total.rename(columns={'시도':'적발시도', '시군구':'적발시군구'})\n",
    "is_total.head()"
   ]
  },
  {
   "cell_type": "code",
   "execution_count": 105,
   "metadata": {},
   "outputs": [
    {
     "data": {
      "text/plain": [
       "0"
      ]
     },
     "execution_count": 105,
     "metadata": {},
     "output_type": "execute_result"
    }
   ],
   "source": [
    "is_total['적발시도'].isnull().sum()"
   ]
  },
  {
   "cell_type": "code",
   "execution_count": 106,
   "metadata": {},
   "outputs": [
    {
     "data": {
      "text/plain": [
       "array(['인천광역시', '서울특별시', '전라남도', '충청남도', '제주특별자치도', '충청북도', '대전광역시',\n",
       "       '대구광역시', '울산광역시', '경상남도', '부산광역시', '경상북도', '광주광역시', '경기도',\n",
       "       '세종특별자치시', '강원특별자치도', '전라북도'], dtype=object)"
      ]
     },
     "execution_count": 106,
     "metadata": {},
     "output_type": "execute_result"
    }
   ],
   "source": [
    "is_total['적발시도'].unique()"
   ]
  },
  {
   "cell_type": "code",
   "execution_count": 107,
   "metadata": {},
   "outputs": [],
   "source": [
    "# !!! 수정(2023.09.01)\n",
    "# 30s\n",
    "is_total.loc[(is_total['적발시도'] == '서울특별시') | (is_total['적발시도'] == '경기도') | (is_total['적발시도'] == '인천광역시'), '적발지역'] = '수도권'\n",
    "is_total.loc[is_total['적발지역'].isnull(), '적발지역'] = '수도권외'"
   ]
  },
  {
   "cell_type": "code",
   "execution_count": 108,
   "metadata": {},
   "outputs": [
    {
     "data": {
      "text/plain": [
       "array(['수도권', '수도권외'], dtype=object)"
      ]
     },
     "execution_count": 108,
     "metadata": {},
     "output_type": "execute_result"
    }
   ],
   "source": [
    "# 6s\n",
    "is_total['적발지역'].unique()"
   ]
  },
  {
   "cell_type": "markdown",
   "metadata": {},
   "source": [
    "## 상시 병합"
   ]
  },
  {
   "cell_type": "code",
   "execution_count": 109,
   "metadata": {},
   "outputs": [
    {
     "data": {
      "text/html": [
       "<div>\n",
       "<style scoped>\n",
       "    .dataframe tbody tr th:only-of-type {\n",
       "        vertical-align: middle;\n",
       "    }\n",
       "\n",
       "    .dataframe tbody tr th {\n",
       "        vertical-align: top;\n",
       "    }\n",
       "\n",
       "    .dataframe thead th {\n",
       "        text-align: right;\n",
       "    }\n",
       "</style>\n",
       "<table border=\"1\" class=\"dataframe\">\n",
       "  <thead>\n",
       "    <tr style=\"text-align: right;\">\n",
       "      <th></th>\n",
       "      <th>번호</th>\n",
       "      <th>차대번호</th>\n",
       "      <th>적발유형</th>\n",
       "      <th>단속지역코드</th>\n",
       "      <th>등록시도코드</th>\n",
       "      <th>등록시군구코드</th>\n",
       "    </tr>\n",
       "  </thead>\n",
       "  <tbody>\n",
       "    <tr>\n",
       "      <th>0</th>\n",
       "      <td>8389408</td>\n",
       "      <td>KMFZCD7JP5U081362</td>\n",
       "      <td>S</td>\n",
       "      <td>11000</td>\n",
       "      <td>11</td>\n",
       "      <td>140</td>\n",
       "    </tr>\n",
       "    <tr>\n",
       "      <th>1</th>\n",
       "      <td>8389410</td>\n",
       "      <td>KN3HNP6D15K094646</td>\n",
       "      <td>S</td>\n",
       "      <td>11000</td>\n",
       "      <td>11</td>\n",
       "      <td>140</td>\n",
       "    </tr>\n",
       "    <tr>\n",
       "      <th>2</th>\n",
       "      <td>8389713</td>\n",
       "      <td>KNAMA75432S302063</td>\n",
       "      <td>S</td>\n",
       "      <td>11000</td>\n",
       "      <td>11</td>\n",
       "      <td>140</td>\n",
       "    </tr>\n",
       "    <tr>\n",
       "      <th>3</th>\n",
       "      <td>8389714</td>\n",
       "      <td>KMFLA19RPYC015091</td>\n",
       "      <td>S</td>\n",
       "      <td>11000</td>\n",
       "      <td>11</td>\n",
       "      <td>140</td>\n",
       "    </tr>\n",
       "    <tr>\n",
       "      <th>4</th>\n",
       "      <td>8389716</td>\n",
       "      <td>KMHWP81JP5U664886</td>\n",
       "      <td>S</td>\n",
       "      <td>11000</td>\n",
       "      <td>11</td>\n",
       "      <td>140</td>\n",
       "    </tr>\n",
       "  </tbody>\n",
       "</table>\n",
       "</div>"
      ],
      "text/plain": [
       "        번호               차대번호 적발유형  단속지역코드  등록시도코드  등록시군구코드\n",
       "0  8389408  KMFZCD7JP5U081362    S   11000      11      140\n",
       "1  8389410  KN3HNP6D15K094646    S   11000      11      140\n",
       "2  8389713  KNAMA75432S302063    S   11000      11      140\n",
       "3  8389714  KMFLA19RPYC015091    S   11000      11      140\n",
       "4  8389716  KMHWP81JP5U664886    S   11000      11      140"
      ]
     },
     "execution_count": 109,
     "metadata": {},
     "output_type": "execute_result"
    }
   ],
   "source": [
    "usdisr.head()"
   ]
  },
  {
   "cell_type": "code",
   "execution_count": 110,
   "metadata": {},
   "outputs": [
    {
     "data": {
      "text/html": [
       "<div>\n",
       "<style scoped>\n",
       "    .dataframe tbody tr th:only-of-type {\n",
       "        vertical-align: middle;\n",
       "    }\n",
       "\n",
       "    .dataframe tbody tr th {\n",
       "        vertical-align: top;\n",
       "    }\n",
       "\n",
       "    .dataframe thead th {\n",
       "        text-align: right;\n",
       "    }\n",
       "</style>\n",
       "<table border=\"1\" class=\"dataframe\">\n",
       "  <thead>\n",
       "    <tr style=\"text-align: right;\">\n",
       "      <th></th>\n",
       "      <th>번호</th>\n",
       "      <th>적발건수</th>\n",
       "      <th>적발년월</th>\n",
       "    </tr>\n",
       "  </thead>\n",
       "  <tbody>\n",
       "    <tr>\n",
       "      <th>0</th>\n",
       "      <td>8114417</td>\n",
       "      <td>1</td>\n",
       "      <td>201901</td>\n",
       "    </tr>\n",
       "    <tr>\n",
       "      <th>1</th>\n",
       "      <td>6933701</td>\n",
       "      <td>4</td>\n",
       "      <td>201901</td>\n",
       "    </tr>\n",
       "    <tr>\n",
       "      <th>2</th>\n",
       "      <td>6938411</td>\n",
       "      <td>10</td>\n",
       "      <td>201901</td>\n",
       "    </tr>\n",
       "    <tr>\n",
       "      <th>3</th>\n",
       "      <td>8114173</td>\n",
       "      <td>1</td>\n",
       "      <td>201901</td>\n",
       "    </tr>\n",
       "    <tr>\n",
       "      <th>4</th>\n",
       "      <td>6938670</td>\n",
       "      <td>14</td>\n",
       "      <td>201901</td>\n",
       "    </tr>\n",
       "  </tbody>\n",
       "</table>\n",
       "</div>"
      ],
      "text/plain": [
       "        번호  적발건수    적발년월\n",
       "0  8114417     1  201901\n",
       "1  6933701     4  201901\n",
       "2  6938411    10  201901\n",
       "3  8114173     1  201901\n",
       "4  6938670    14  201901"
      ]
     },
     "execution_count": 110,
     "metadata": {},
     "output_type": "execute_result"
    }
   ],
   "source": [
    "usper.head()"
   ]
  },
  {
   "cell_type": "code",
   "execution_count": 111,
   "metadata": {},
   "outputs": [
    {
     "data": {
      "text/plain": [
       "(3151659, 6)"
      ]
     },
     "execution_count": 111,
     "metadata": {},
     "output_type": "execute_result"
    }
   ],
   "source": [
    "usdisr.shape"
   ]
  },
  {
   "cell_type": "code",
   "execution_count": 112,
   "metadata": {},
   "outputs": [
    {
     "data": {
      "text/plain": [
       "(3151659, 8)"
      ]
     },
     "execution_count": 112,
     "metadata": {},
     "output_type": "execute_result"
    }
   ],
   "source": [
    "# 1s\n",
    "usdp = usdisr.merge(usper, on='번호', how='left')\n",
    "usdp.shape"
   ]
  },
  {
   "cell_type": "markdown",
   "metadata": {},
   "source": [
    "### 지역정보 추가"
   ]
  },
  {
   "cell_type": "code",
   "execution_count": 113,
   "metadata": {},
   "outputs": [
    {
     "data": {
      "text/plain": [
       "((32447, 8), (0, 8))"
      ]
     },
     "execution_count": 113,
     "metadata": {},
     "output_type": "execute_result"
    }
   ],
   "source": [
    "usdp[usdp['등록시도코드'] == 42].shape, usdp[usdp['등록시도코드'] == 51].shape"
   ]
  },
  {
   "cell_type": "code",
   "execution_count": 114,
   "metadata": {},
   "outputs": [
    {
     "data": {
      "text/plain": [
       "((2919, 8), (35, 8))"
      ]
     },
     "execution_count": 114,
     "metadata": {},
     "output_type": "execute_result"
    }
   ],
   "source": [
    "usdp[usdp['등록시도코드'] == 36].shape, usdp.loc[(usdp['등록시도코드'] == 36) & (usdp['등록시군구코드'] == 110)].shape"
   ]
  },
  {
   "cell_type": "code",
   "execution_count": 115,
   "metadata": {},
   "outputs": [
    {
     "data": {
      "text/plain": [
       "등록시도코드     int64\n",
       "등록시군구코드    int64\n",
       "dtype: object"
      ]
     },
     "execution_count": 115,
     "metadata": {},
     "output_type": "execute_result"
    }
   ],
   "source": [
    "usdp[['등록시도코드', '등록시군구코드']].dtypes"
   ]
  },
  {
   "cell_type": "code",
   "execution_count": 116,
   "metadata": {},
   "outputs": [],
   "source": [
    "usdp.loc[usdp['등록시도코드'] == 42, '등록시도코드'] = 51 # !!! 수정\n",
    "usdp.loc[usdp['등록시도코드'] == 36, '등록시군구코드'] = 110 # !!! 수정"
   ]
  },
  {
   "cell_type": "code",
   "execution_count": 117,
   "metadata": {},
   "outputs": [
    {
     "data": {
      "text/html": [
       "<div>\n",
       "<style scoped>\n",
       "    .dataframe tbody tr th:only-of-type {\n",
       "        vertical-align: middle;\n",
       "    }\n",
       "\n",
       "    .dataframe tbody tr th {\n",
       "        vertical-align: top;\n",
       "    }\n",
       "\n",
       "    .dataframe thead th {\n",
       "        text-align: right;\n",
       "    }\n",
       "</style>\n",
       "<table border=\"1\" class=\"dataframe\">\n",
       "  <thead>\n",
       "    <tr style=\"text-align: right;\">\n",
       "      <th></th>\n",
       "      <th>번호</th>\n",
       "      <th>차대번호</th>\n",
       "      <th>적발유형</th>\n",
       "      <th>단속지역코드</th>\n",
       "      <th>등록시도코드</th>\n",
       "      <th>등록시군구코드</th>\n",
       "      <th>적발건수</th>\n",
       "      <th>적발년월</th>\n",
       "      <th>법정동코드</th>\n",
       "      <th>시도코드</th>\n",
       "      <th>시군구코드</th>\n",
       "      <th>시도</th>\n",
       "      <th>시군구</th>\n",
       "    </tr>\n",
       "  </thead>\n",
       "  <tbody>\n",
       "    <tr>\n",
       "      <th>0</th>\n",
       "      <td>8389408</td>\n",
       "      <td>KMFZCD7JP5U081362</td>\n",
       "      <td>S</td>\n",
       "      <td>11000</td>\n",
       "      <td>11</td>\n",
       "      <td>140</td>\n",
       "      <td>NaN</td>\n",
       "      <td>NaN</td>\n",
       "      <td>1114000000</td>\n",
       "      <td>11</td>\n",
       "      <td>140</td>\n",
       "      <td>서울특별시</td>\n",
       "      <td>중구</td>\n",
       "    </tr>\n",
       "    <tr>\n",
       "      <th>1</th>\n",
       "      <td>8389410</td>\n",
       "      <td>KN3HNP6D15K094646</td>\n",
       "      <td>S</td>\n",
       "      <td>11000</td>\n",
       "      <td>11</td>\n",
       "      <td>140</td>\n",
       "      <td>NaN</td>\n",
       "      <td>NaN</td>\n",
       "      <td>1114000000</td>\n",
       "      <td>11</td>\n",
       "      <td>140</td>\n",
       "      <td>서울특별시</td>\n",
       "      <td>중구</td>\n",
       "    </tr>\n",
       "    <tr>\n",
       "      <th>2</th>\n",
       "      <td>8389713</td>\n",
       "      <td>KNAMA75432S302063</td>\n",
       "      <td>S</td>\n",
       "      <td>11000</td>\n",
       "      <td>11</td>\n",
       "      <td>140</td>\n",
       "      <td>1.00</td>\n",
       "      <td>201908.00</td>\n",
       "      <td>1114000000</td>\n",
       "      <td>11</td>\n",
       "      <td>140</td>\n",
       "      <td>서울특별시</td>\n",
       "      <td>중구</td>\n",
       "    </tr>\n",
       "    <tr>\n",
       "      <th>3</th>\n",
       "      <td>8389714</td>\n",
       "      <td>KMFLA19RPYC015091</td>\n",
       "      <td>S</td>\n",
       "      <td>11000</td>\n",
       "      <td>11</td>\n",
       "      <td>140</td>\n",
       "      <td>1.00</td>\n",
       "      <td>201908.00</td>\n",
       "      <td>1114000000</td>\n",
       "      <td>11</td>\n",
       "      <td>140</td>\n",
       "      <td>서울특별시</td>\n",
       "      <td>중구</td>\n",
       "    </tr>\n",
       "    <tr>\n",
       "      <th>4</th>\n",
       "      <td>8389716</td>\n",
       "      <td>KMHWP81JP5U664886</td>\n",
       "      <td>S</td>\n",
       "      <td>11000</td>\n",
       "      <td>11</td>\n",
       "      <td>140</td>\n",
       "      <td>NaN</td>\n",
       "      <td>NaN</td>\n",
       "      <td>1114000000</td>\n",
       "      <td>11</td>\n",
       "      <td>140</td>\n",
       "      <td>서울특별시</td>\n",
       "      <td>중구</td>\n",
       "    </tr>\n",
       "  </tbody>\n",
       "</table>\n",
       "</div>"
      ],
      "text/plain": [
       "        번호               차대번호 적발유형  단속지역코드  등록시도코드  등록시군구코드  적발건수      적발년월   \n",
       "0  8389408  KMFZCD7JP5U081362    S   11000      11      140   NaN       NaN  \\\n",
       "1  8389410  KN3HNP6D15K094646    S   11000      11      140   NaN       NaN   \n",
       "2  8389713  KNAMA75432S302063    S   11000      11      140  1.00 201908.00   \n",
       "3  8389714  KMFLA19RPYC015091    S   11000      11      140  1.00 201908.00   \n",
       "4  8389716  KMHWP81JP5U664886    S   11000      11      140   NaN       NaN   \n",
       "\n",
       "        법정동코드  시도코드  시군구코드     시도 시군구  \n",
       "0  1114000000    11    140  서울특별시  중구  \n",
       "1  1114000000    11    140  서울특별시  중구  \n",
       "2  1114000000    11    140  서울특별시  중구  \n",
       "3  1114000000    11    140  서울특별시  중구  \n",
       "4  1114000000    11    140  서울특별시  중구  "
      ]
     },
     "execution_count": 117,
     "metadata": {},
     "output_type": "execute_result"
    }
   ],
   "source": [
    "us_total1 = usdp.merge(coder_dup, left_on=['등록시도코드', '등록시군구코드'], right_on=['시도코드', '시군구코드'], how='left')\n",
    "us_total1.head()"
   ]
  },
  {
   "cell_type": "code",
   "execution_count": 118,
   "metadata": {},
   "outputs": [
    {
     "data": {
      "text/html": [
       "<div>\n",
       "<style scoped>\n",
       "    .dataframe tbody tr th:only-of-type {\n",
       "        vertical-align: middle;\n",
       "    }\n",
       "\n",
       "    .dataframe tbody tr th {\n",
       "        vertical-align: top;\n",
       "    }\n",
       "\n",
       "    .dataframe thead th {\n",
       "        text-align: right;\n",
       "    }\n",
       "</style>\n",
       "<table border=\"1\" class=\"dataframe\">\n",
       "  <thead>\n",
       "    <tr style=\"text-align: right;\">\n",
       "      <th></th>\n",
       "      <th>번호</th>\n",
       "      <th>차대번호</th>\n",
       "      <th>적발유형</th>\n",
       "      <th>단속지역코드</th>\n",
       "      <th>등록시도코드</th>\n",
       "      <th>등록시군구코드</th>\n",
       "      <th>적발건수</th>\n",
       "      <th>적발년월</th>\n",
       "      <th>법정동코드</th>\n",
       "      <th>등록시도</th>\n",
       "      <th>등록시군구</th>\n",
       "    </tr>\n",
       "  </thead>\n",
       "  <tbody>\n",
       "    <tr>\n",
       "      <th>0</th>\n",
       "      <td>8389408</td>\n",
       "      <td>KMFZCD7JP5U081362</td>\n",
       "      <td>S</td>\n",
       "      <td>11000</td>\n",
       "      <td>11</td>\n",
       "      <td>140</td>\n",
       "      <td>NaN</td>\n",
       "      <td>NaN</td>\n",
       "      <td>1114000000</td>\n",
       "      <td>서울특별시</td>\n",
       "      <td>중구</td>\n",
       "    </tr>\n",
       "    <tr>\n",
       "      <th>1</th>\n",
       "      <td>8389410</td>\n",
       "      <td>KN3HNP6D15K094646</td>\n",
       "      <td>S</td>\n",
       "      <td>11000</td>\n",
       "      <td>11</td>\n",
       "      <td>140</td>\n",
       "      <td>NaN</td>\n",
       "      <td>NaN</td>\n",
       "      <td>1114000000</td>\n",
       "      <td>서울특별시</td>\n",
       "      <td>중구</td>\n",
       "    </tr>\n",
       "    <tr>\n",
       "      <th>2</th>\n",
       "      <td>8389713</td>\n",
       "      <td>KNAMA75432S302063</td>\n",
       "      <td>S</td>\n",
       "      <td>11000</td>\n",
       "      <td>11</td>\n",
       "      <td>140</td>\n",
       "      <td>1.00</td>\n",
       "      <td>201908.00</td>\n",
       "      <td>1114000000</td>\n",
       "      <td>서울특별시</td>\n",
       "      <td>중구</td>\n",
       "    </tr>\n",
       "    <tr>\n",
       "      <th>3</th>\n",
       "      <td>8389714</td>\n",
       "      <td>KMFLA19RPYC015091</td>\n",
       "      <td>S</td>\n",
       "      <td>11000</td>\n",
       "      <td>11</td>\n",
       "      <td>140</td>\n",
       "      <td>1.00</td>\n",
       "      <td>201908.00</td>\n",
       "      <td>1114000000</td>\n",
       "      <td>서울특별시</td>\n",
       "      <td>중구</td>\n",
       "    </tr>\n",
       "    <tr>\n",
       "      <th>4</th>\n",
       "      <td>8389716</td>\n",
       "      <td>KMHWP81JP5U664886</td>\n",
       "      <td>S</td>\n",
       "      <td>11000</td>\n",
       "      <td>11</td>\n",
       "      <td>140</td>\n",
       "      <td>NaN</td>\n",
       "      <td>NaN</td>\n",
       "      <td>1114000000</td>\n",
       "      <td>서울특별시</td>\n",
       "      <td>중구</td>\n",
       "    </tr>\n",
       "  </tbody>\n",
       "</table>\n",
       "</div>"
      ],
      "text/plain": [
       "        번호               차대번호 적발유형  단속지역코드  등록시도코드  등록시군구코드  적발건수      적발년월   \n",
       "0  8389408  KMFZCD7JP5U081362    S   11000      11      140   NaN       NaN  \\\n",
       "1  8389410  KN3HNP6D15K094646    S   11000      11      140   NaN       NaN   \n",
       "2  8389713  KNAMA75432S302063    S   11000      11      140  1.00 201908.00   \n",
       "3  8389714  KMFLA19RPYC015091    S   11000      11      140  1.00 201908.00   \n",
       "4  8389716  KMHWP81JP5U664886    S   11000      11      140   NaN       NaN   \n",
       "\n",
       "        법정동코드   등록시도 등록시군구  \n",
       "0  1114000000  서울특별시    중구  \n",
       "1  1114000000  서울특별시    중구  \n",
       "2  1114000000  서울특별시    중구  \n",
       "3  1114000000  서울특별시    중구  \n",
       "4  1114000000  서울특별시    중구  "
      ]
     },
     "execution_count": 118,
     "metadata": {},
     "output_type": "execute_result"
    }
   ],
   "source": [
    "us_total1 = us_total1.drop(['시도코드', '시군구코드'], axis=1) # !!! 수정(2023.09.01)\n",
    "us_total1 = us_total1.rename(columns={'시도':'등록시도', '시군구':'등록시군구'}) # !!! 수정(2023.09.01)\n",
    "us_total1.head()"
   ]
  },
  {
   "cell_type": "code",
   "execution_count": 119,
   "metadata": {},
   "outputs": [
    {
     "data": {
      "text/plain": [
       "0"
      ]
     },
     "execution_count": 119,
     "metadata": {},
     "output_type": "execute_result"
    }
   ],
   "source": [
    "us_total1['등록시도'].isnull().sum()"
   ]
  },
  {
   "cell_type": "code",
   "execution_count": 120,
   "metadata": {},
   "outputs": [],
   "source": [
    "# !!! 수정(2023.09.01)\n",
    "# 4s\n",
    "us_total1['단속지역코드'] = us_total1['단속지역코드'].astype('str')\n",
    "us_total1['단속시도코드'] = us_total1['단속지역코드'].str[:2]\n",
    "us_total1['단속시군구코드'] = us_total1['단속지역코드'].str[2:5]\n",
    "us_total1[['단속시도코드', '단속시군구코드']] = us_total1[['단속시도코드', '단속시군구코드']].astype('int')"
   ]
  },
  {
   "cell_type": "code",
   "execution_count": 121,
   "metadata": {},
   "outputs": [
    {
     "data": {
      "text/plain": [
       "((0, 13), (0, 13))"
      ]
     },
     "execution_count": 121,
     "metadata": {},
     "output_type": "execute_result"
    }
   ],
   "source": [
    "us_total1[us_total1['단속시도코드'] == 42].shape, us_total1[us_total1['단속시도코드'] == 51].shape"
   ]
  },
  {
   "cell_type": "code",
   "execution_count": 122,
   "metadata": {},
   "outputs": [
    {
     "data": {
      "text/plain": [
       "((0, 13), (0, 13))"
      ]
     },
     "execution_count": 122,
     "metadata": {},
     "output_type": "execute_result"
    }
   ],
   "source": [
    "us_total1[us_total1['단속시도코드'] == 36].shape, us_total1.loc[(us_total1['단속시도코드'] == 36) & (us_total1['단속시군구코드'] == 110)].shape"
   ]
  },
  {
   "cell_type": "code",
   "execution_count": 123,
   "metadata": {},
   "outputs": [],
   "source": [
    "# us_total1.loc[us_total1['단속시도코드'] == 42, '단속시도코드'] = 51\n",
    "# us_total1.loc[us_total1['단속시도코드'] == 36, '단속시군구코드'] = 110"
   ]
  },
  {
   "cell_type": "code",
   "execution_count": 124,
   "metadata": {},
   "outputs": [
    {
     "data": {
      "text/plain": [
       "시도코드     int64\n",
       "시군구코드    int64\n",
       "dtype: object"
      ]
     },
     "execution_count": 124,
     "metadata": {},
     "output_type": "execute_result"
    }
   ],
   "source": [
    "coder_dup[['시도코드', '시군구코드']].dtypes"
   ]
  },
  {
   "cell_type": "code",
   "execution_count": 125,
   "metadata": {},
   "outputs": [],
   "source": [
    "# !!! 수정(2023.09.01)\n",
    "# 2s\n",
    "us_total = us_total1.merge(coder_dup[['시도코드', '시군구코드', '시도', '시군구']], left_on=['단속시도코드', '단속시군구코드'], right_on=['시도코드', '시군구코드'], how='left')\n",
    "us_total = us_total.drop(['시도코드', '시군구코드'], axis=1)\n",
    "us_total = us_total.rename(columns={'시도':'단속시도', '시군구':'단속시군구'})"
   ]
  },
  {
   "cell_type": "code",
   "execution_count": 126,
   "metadata": {},
   "outputs": [
    {
     "data": {
      "text/plain": [
       "0"
      ]
     },
     "execution_count": 126,
     "metadata": {},
     "output_type": "execute_result"
    }
   ],
   "source": [
    "us_total['단속시도'].isnull().sum()"
   ]
  },
  {
   "cell_type": "code",
   "execution_count": 127,
   "metadata": {},
   "outputs": [
    {
     "data": {
      "text/html": [
       "<div>\n",
       "<style scoped>\n",
       "    .dataframe tbody tr th:only-of-type {\n",
       "        vertical-align: middle;\n",
       "    }\n",
       "\n",
       "    .dataframe tbody tr th {\n",
       "        vertical-align: top;\n",
       "    }\n",
       "\n",
       "    .dataframe thead th {\n",
       "        text-align: right;\n",
       "    }\n",
       "</style>\n",
       "<table border=\"1\" class=\"dataframe\">\n",
       "  <thead>\n",
       "    <tr style=\"text-align: right;\">\n",
       "      <th></th>\n",
       "      <th>번호</th>\n",
       "      <th>차대번호</th>\n",
       "      <th>적발유형</th>\n",
       "      <th>단속지역코드</th>\n",
       "      <th>등록시도코드</th>\n",
       "      <th>등록시군구코드</th>\n",
       "      <th>적발건수</th>\n",
       "      <th>적발년월</th>\n",
       "      <th>법정동코드</th>\n",
       "      <th>등록시도</th>\n",
       "      <th>등록시군구</th>\n",
       "      <th>단속시도코드</th>\n",
       "      <th>단속시군구코드</th>\n",
       "      <th>단속시도</th>\n",
       "      <th>단속시군구</th>\n",
       "    </tr>\n",
       "  </thead>\n",
       "  <tbody>\n",
       "    <tr>\n",
       "      <th>0</th>\n",
       "      <td>8389408</td>\n",
       "      <td>KMFZCD7JP5U081362</td>\n",
       "      <td>S</td>\n",
       "      <td>11000</td>\n",
       "      <td>11</td>\n",
       "      <td>140</td>\n",
       "      <td>NaN</td>\n",
       "      <td>NaN</td>\n",
       "      <td>1114000000</td>\n",
       "      <td>서울특별시</td>\n",
       "      <td>중구</td>\n",
       "      <td>11</td>\n",
       "      <td>0</td>\n",
       "      <td>서울특별시</td>\n",
       "      <td>NaN</td>\n",
       "    </tr>\n",
       "    <tr>\n",
       "      <th>1</th>\n",
       "      <td>8389410</td>\n",
       "      <td>KN3HNP6D15K094646</td>\n",
       "      <td>S</td>\n",
       "      <td>11000</td>\n",
       "      <td>11</td>\n",
       "      <td>140</td>\n",
       "      <td>NaN</td>\n",
       "      <td>NaN</td>\n",
       "      <td>1114000000</td>\n",
       "      <td>서울특별시</td>\n",
       "      <td>중구</td>\n",
       "      <td>11</td>\n",
       "      <td>0</td>\n",
       "      <td>서울특별시</td>\n",
       "      <td>NaN</td>\n",
       "    </tr>\n",
       "    <tr>\n",
       "      <th>2</th>\n",
       "      <td>8389713</td>\n",
       "      <td>KNAMA75432S302063</td>\n",
       "      <td>S</td>\n",
       "      <td>11000</td>\n",
       "      <td>11</td>\n",
       "      <td>140</td>\n",
       "      <td>1.00</td>\n",
       "      <td>201908.00</td>\n",
       "      <td>1114000000</td>\n",
       "      <td>서울특별시</td>\n",
       "      <td>중구</td>\n",
       "      <td>11</td>\n",
       "      <td>0</td>\n",
       "      <td>서울특별시</td>\n",
       "      <td>NaN</td>\n",
       "    </tr>\n",
       "    <tr>\n",
       "      <th>3</th>\n",
       "      <td>8389714</td>\n",
       "      <td>KMFLA19RPYC015091</td>\n",
       "      <td>S</td>\n",
       "      <td>11000</td>\n",
       "      <td>11</td>\n",
       "      <td>140</td>\n",
       "      <td>1.00</td>\n",
       "      <td>201908.00</td>\n",
       "      <td>1114000000</td>\n",
       "      <td>서울특별시</td>\n",
       "      <td>중구</td>\n",
       "      <td>11</td>\n",
       "      <td>0</td>\n",
       "      <td>서울특별시</td>\n",
       "      <td>NaN</td>\n",
       "    </tr>\n",
       "    <tr>\n",
       "      <th>4</th>\n",
       "      <td>8389716</td>\n",
       "      <td>KMHWP81JP5U664886</td>\n",
       "      <td>S</td>\n",
       "      <td>11000</td>\n",
       "      <td>11</td>\n",
       "      <td>140</td>\n",
       "      <td>NaN</td>\n",
       "      <td>NaN</td>\n",
       "      <td>1114000000</td>\n",
       "      <td>서울특별시</td>\n",
       "      <td>중구</td>\n",
       "      <td>11</td>\n",
       "      <td>0</td>\n",
       "      <td>서울특별시</td>\n",
       "      <td>NaN</td>\n",
       "    </tr>\n",
       "  </tbody>\n",
       "</table>\n",
       "</div>"
      ],
      "text/plain": [
       "        번호               차대번호 적발유형 단속지역코드  등록시도코드  등록시군구코드  적발건수      적발년월   \n",
       "0  8389408  KMFZCD7JP5U081362    S  11000      11      140   NaN       NaN  \\\n",
       "1  8389410  KN3HNP6D15K094646    S  11000      11      140   NaN       NaN   \n",
       "2  8389713  KNAMA75432S302063    S  11000      11      140  1.00 201908.00   \n",
       "3  8389714  KMFLA19RPYC015091    S  11000      11      140  1.00 201908.00   \n",
       "4  8389716  KMHWP81JP5U664886    S  11000      11      140   NaN       NaN   \n",
       "\n",
       "        법정동코드   등록시도 등록시군구  단속시도코드  단속시군구코드   단속시도 단속시군구  \n",
       "0  1114000000  서울특별시    중구      11        0  서울특별시   NaN  \n",
       "1  1114000000  서울특별시    중구      11        0  서울특별시   NaN  \n",
       "2  1114000000  서울특별시    중구      11        0  서울특별시   NaN  \n",
       "3  1114000000  서울특별시    중구      11        0  서울특별시   NaN  \n",
       "4  1114000000  서울특별시    중구      11        0  서울특별시   NaN  "
      ]
     },
     "execution_count": 127,
     "metadata": {},
     "output_type": "execute_result"
    }
   ],
   "source": [
    "us_total.head()"
   ]
  },
  {
   "cell_type": "code",
   "execution_count": 128,
   "metadata": {},
   "outputs": [
    {
     "data": {
      "text/plain": [
       "0"
      ]
     },
     "execution_count": 128,
     "metadata": {},
     "output_type": "execute_result"
    }
   ],
   "source": [
    "us_total['단속시도'].isnull().sum()"
   ]
  },
  {
   "cell_type": "code",
   "execution_count": 129,
   "metadata": {},
   "outputs": [
    {
     "data": {
      "text/plain": [
       "array(['서울특별시', '경기도', '인천광역시'], dtype=object)"
      ]
     },
     "execution_count": 129,
     "metadata": {},
     "output_type": "execute_result"
    }
   ],
   "source": [
    "us_total['단속시도'].unique()"
   ]
  },
  {
   "cell_type": "code",
   "execution_count": 130,
   "metadata": {},
   "outputs": [],
   "source": [
    "# !!! 수정(2023.09.01)\n",
    "# 1s\n",
    "us_total.loc[(us_total['단속시도'] == '서울특별시') | (us_total['단속시도'] == '경기도') | (us_total['단속시도'] == '인천광역시'), '단속지역'] = '수도권'\n",
    "# us_total.loc[us_total['단속지역'].isnull(), '단속지역'] = '수도권외'"
   ]
  },
  {
   "cell_type": "code",
   "execution_count": 131,
   "metadata": {},
   "outputs": [
    {
     "data": {
      "text/plain": [
       "array(['수도권'], dtype=object)"
      ]
     },
     "execution_count": 131,
     "metadata": {},
     "output_type": "execute_result"
    }
   ],
   "source": [
    "# 6s\n",
    "us_total['단속지역'].unique()"
   ]
  },
  {
   "cell_type": "code",
   "execution_count": 132,
   "metadata": {},
   "outputs": [
    {
     "data": {
      "text/plain": [
       "단속지역\n",
       "수도권    3151659\n",
       "Name: count, dtype: int64"
      ]
     },
     "execution_count": 132,
     "metadata": {},
     "output_type": "execute_result"
    }
   ],
   "source": [
    "us_total['단속지역'].value_counts(dropna=False)"
   ]
  },
  {
   "cell_type": "code",
   "execution_count": 133,
   "metadata": {},
   "outputs": [
    {
     "data": {
      "text/plain": [
       "((108436093, 16), (3151659, 16))"
      ]
     },
     "execution_count": 133,
     "metadata": {},
     "output_type": "execute_result"
    }
   ],
   "source": [
    "is_total.shape, us_total.shape"
   ]
  },
  {
   "cell_type": "markdown",
   "metadata": {},
   "source": [
    "## 등록(말소 유지) & 제원 병합"
   ]
  },
  {
   "cell_type": "code",
   "execution_count": 134,
   "metadata": {},
   "outputs": [],
   "source": [
    "# 10.3s\n",
    "cse = carr.merge(srcr, on='제원관리번호', how='left')"
   ]
  },
  {
   "cell_type": "code",
   "execution_count": 135,
   "metadata": {},
   "outputs": [
    {
     "data": {
      "text/plain": [
       "Index(['차대번호', '법정동코드', '차량말소YN', '제원관리번호', '차량연식', '차종', '용도', '최초등록일자',\n",
       "       '제작일자', '차량관리번호', '연료', '차종유형'],\n",
       "      dtype='object')"
      ]
     },
     "execution_count": 135,
     "metadata": {},
     "output_type": "execute_result"
    }
   ],
   "source": [
    "cse.columns"
   ]
  },
  {
   "cell_type": "markdown",
   "metadata": {},
   "source": [
    "## 등록&제원&이력 병합"
   ]
  },
  {
   "cell_type": "code",
   "execution_count": 136,
   "metadata": {},
   "outputs": [],
   "source": [
    "# 2m 6.0s\n",
    "ersr = cse.merge(hisr, on='차량관리번호', how='left')"
   ]
  },
  {
   "cell_type": "code",
   "execution_count": 137,
   "metadata": {},
   "outputs": [
    {
     "data": {
      "text/plain": [
       "Index(['차대번호', '법정동코드', '차량말소YN_x', '제원관리번호', '차량연식', '차종', '용도', '최초등록일자',\n",
       "       '제작일자', '차량관리번호', '연료', '차종유형', '차량말소YN_y', '변경일자'],\n",
       "      dtype='object')"
      ]
     },
     "execution_count": 137,
     "metadata": {},
     "output_type": "execute_result"
    }
   ],
   "source": [
    "ersr.columns"
   ]
  },
  {
   "cell_type": "code",
   "execution_count": 138,
   "metadata": {},
   "outputs": [],
   "source": [
    "# 1. 등록 차량말소와 등록이력 차량 말소 둘 모두 해당되는 데이터 추출\n",
    "ersr = ersr.loc[(ersr['차량말소YN_x'] == 'Y') & (ersr['차량말소YN_y'] == 'Y')].reset_index(drop=True)"
   ]
  },
  {
   "cell_type": "code",
   "execution_count": 139,
   "metadata": {},
   "outputs": [],
   "source": [
    "# 2. 변경일자 기준 최신 데이터만 남기고 차대번호 중복 제거\n",
    "ersr = ersr.sort_values('변경일자', ascending=False).drop_duplicates('차대번호').reset_index(drop=True)"
   ]
  },
  {
   "cell_type": "code",
   "execution_count": 140,
   "metadata": {},
   "outputs": [],
   "source": [
    "# 3. 변경일자 2019.01.01 이후만 추출\n",
    "ersr = ersr[ersr['변경일자'] >= 20190101].reset_index(drop=True)"
   ]
  },
  {
   "cell_type": "markdown",
   "metadata": {},
   "source": [
    "## 등록&제원&이력&법정동코드 병합(errc)"
   ]
  },
  {
   "cell_type": "code",
   "execution_count": 141,
   "metadata": {},
   "outputs": [],
   "source": [
    "ersr['법정동코드'] = ersr['법정동코드'].astype('str')\n",
    "ersr['법정동코드'] = ersr['법정동코드'].str[:5] + '00000'\n",
    "ersr['법정동코드'] = pd.to_numeric(ersr['법정동코드'])"
   ]
  },
  {
   "cell_type": "code",
   "execution_count": 142,
   "metadata": {},
   "outputs": [],
   "source": [
    "# 매칭 후 '시도' 빈값 없음\n",
    "errc = ersr.merge(coder, on='법정동코드', how='left')"
   ]
  },
  {
   "cell_type": "code",
   "execution_count": 143,
   "metadata": {},
   "outputs": [
    {
     "data": {
      "text/plain": [
       "0"
      ]
     },
     "execution_count": 143,
     "metadata": {},
     "output_type": "execute_result"
    }
   ],
   "source": [
    "errc['시도'].isnull().sum()"
   ]
  },
  {
   "cell_type": "markdown",
   "metadata": {},
   "source": [
    "# Load"
   ]
  },
  {
   "cell_type": "markdown",
   "metadata": {},
   "source": [
    "## 5등급 지역별 조기폐차(STD_BD_GRD5_ELPDSRC_CURSTT)"
   ]
  },
  {
   "cell_type": "code",
   "execution_count": 144,
   "metadata": {},
   "outputs": [
    {
     "data": {
      "text/plain": [
       "Index(['차대번호', '법정동코드', '차량말소YN', '제원관리번호', '차량연식', '차종', '용도', '최초등록일자',\n",
       "       '제작일자', '차량관리번호', '연료', '차종유형', 'DPF_YN', '시도코드', '시군구코드', '시도', '시군구',\n",
       "       '조기폐차상태코드', '조기폐차최종승인YN', '말소일자'],\n",
       "      dtype='object')"
      ]
     },
     "execution_count": 144,
     "metadata": {},
     "output_type": "execute_result"
    }
   ],
   "source": [
    "df.columns"
   ]
  },
  {
   "cell_type": "code",
   "execution_count": 145,
   "metadata": {},
   "outputs": [
    {
     "name": "stdout",
     "output_type": "stream",
     "text": [
      "<class 'pandas.core.frame.DataFrame'>\n",
      "RangeIndex: 68 entries, 0 to 67\n",
      "Data columns (total 6 columns):\n",
      " #   Column      Non-Null Count  Dtype  \n",
      "---  ------      --------------  -----  \n",
      " 0   RGN         68 non-null     object \n",
      " 1   YR          68 non-null     int64  \n",
      " 2   VHCL_MKCNT  68 non-null     int64  \n",
      " 3   VHCL_REDE   68 non-null     float64\n",
      " 4   ELPDSRC     68 non-null     float64\n",
      " 5   NTRL_DCLN   68 non-null     float64\n",
      "dtypes: float64(3), int64(2), object(1)\n",
      "memory usage: 3.3+ KB\n"
     ]
    }
   ],
   "source": [
    "# 8.6s\n",
    "df1 = we.export_to_pandas(\"SELECT * FROM STD_BD_GRD5_ELPDSRC;\")\n",
    "df1.info()"
   ]
  },
  {
   "cell_type": "code",
   "execution_count": 146,
   "metadata": {},
   "outputs": [
    {
     "data": {
      "text/plain": [
       "(68, 6)"
      ]
     },
     "execution_count": 146,
     "metadata": {},
     "output_type": "execute_result"
    }
   ],
   "source": [
    "df1 = df1.dropna()\n",
    "df1.shape"
   ]
  },
  {
   "cell_type": "markdown",
   "metadata": {},
   "source": [
    "## 5등급 저공해 미조치(STD_BD_GRD5_LEM_N_MOD)"
   ]
  },
  {
   "cell_type": "code",
   "execution_count": 147,
   "metadata": {},
   "outputs": [
    {
     "name": "stdout",
     "output_type": "stream",
     "text": [
      "<class 'pandas.core.frame.DataFrame'>\n",
      "RangeIndex: 12 entries, 0 to 11\n",
      "Data columns (total 4 columns):\n",
      " #   Column      Non-Null Count  Dtype \n",
      "---  ------      --------------  ----- \n",
      " 0   RGN         12 non-null     object\n",
      " 1   SEASON      12 non-null     object\n",
      " 2   VHCL_MKCNT  12 non-null     int64 \n",
      " 3   LOAD_DT     12 non-null     int64 \n",
      "dtypes: int64(2), object(2)\n",
      "memory usage: 512.0+ bytes\n"
     ]
    }
   ],
   "source": [
    "# 8.6s\n",
    "no_dpf = we.export_to_pandas(\"SELECT * FROM STD_BD_GRD5_LEM_N_MOD;\")\n",
    "no_dpf.info()"
   ]
  },
  {
   "cell_type": "code",
   "execution_count": 148,
   "metadata": {},
   "outputs": [
    {
     "data": {
      "text/html": [
       "<div>\n",
       "<style scoped>\n",
       "    .dataframe tbody tr th:only-of-type {\n",
       "        vertical-align: middle;\n",
       "    }\n",
       "\n",
       "    .dataframe tbody tr th {\n",
       "        vertical-align: top;\n",
       "    }\n",
       "\n",
       "    .dataframe thead th {\n",
       "        text-align: right;\n",
       "    }\n",
       "</style>\n",
       "<table border=\"1\" class=\"dataframe\">\n",
       "  <thead>\n",
       "    <tr style=\"text-align: right;\">\n",
       "      <th></th>\n",
       "      <th>RGN</th>\n",
       "      <th>SEASON</th>\n",
       "      <th>VHCL_MKCNT</th>\n",
       "      <th>LOAD_DT</th>\n",
       "    </tr>\n",
       "  </thead>\n",
       "  <tbody>\n",
       "    <tr>\n",
       "      <th>0</th>\n",
       "      <td>수도권</td>\n",
       "      <td>2차계절제_시작</td>\n",
       "      <td>539748</td>\n",
       "      <td>20230810</td>\n",
       "    </tr>\n",
       "    <tr>\n",
       "      <th>1</th>\n",
       "      <td>수도권</td>\n",
       "      <td>2차계절제_종료</td>\n",
       "      <td>515615</td>\n",
       "      <td>20230810</td>\n",
       "    </tr>\n",
       "    <tr>\n",
       "      <th>2</th>\n",
       "      <td>수도권</td>\n",
       "      <td>3차계절제_시작</td>\n",
       "      <td>459110</td>\n",
       "      <td>20230810</td>\n",
       "    </tr>\n",
       "    <tr>\n",
       "      <th>3</th>\n",
       "      <td>수도권</td>\n",
       "      <td>3차계절제_종료</td>\n",
       "      <td>436921</td>\n",
       "      <td>20230810</td>\n",
       "    </tr>\n",
       "    <tr>\n",
       "      <th>4</th>\n",
       "      <td>수도권</td>\n",
       "      <td>4차계절제_시작</td>\n",
       "      <td>394533</td>\n",
       "      <td>20230810</td>\n",
       "    </tr>\n",
       "  </tbody>\n",
       "</table>\n",
       "</div>"
      ],
      "text/plain": [
       "   RGN      SEASON  VHCL_MKCNT   LOAD_DT\n",
       "0  수도권   2차계절제_시작       539748  20230810\n",
       "1  수도권   2차계절제_종료       515615  20230810\n",
       "2  수도권   3차계절제_시작       459110  20230810\n",
       "3  수도권   3차계절제_종료       436921  20230810\n",
       "4  수도권   4차계절제_시작       394533  20230810"
      ]
     },
     "execution_count": 148,
     "metadata": {},
     "output_type": "execute_result"
    }
   ],
   "source": [
    "no_dpf.head()"
   ]
  },
  {
   "cell_type": "markdown",
   "metadata": {},
   "source": [
    "# 분석"
   ]
  },
  {
   "cell_type": "markdown",
   "metadata": {},
   "source": [
    "## 5등급 지역별 조기폐차 현황"
   ]
  },
  {
   "cell_type": "code",
   "execution_count": 149,
   "metadata": {},
   "outputs": [],
   "source": [
    "dfm = df.copy()"
   ]
  },
  {
   "cell_type": "code",
   "execution_count": 150,
   "metadata": {},
   "outputs": [],
   "source": [
    "dfm['최초등록일자'] = dfm['최초등록일자'].astype('str')\n",
    "dfm['최초등록일자_년'] = dfm['최초등록일자'].str[:4]\n",
    "dfm['최초등록일자_월'] = dfm['최초등록일자'].str[4:6]\n",
    "dfm['최초등록일자_일'] = dfm['최초등록일자'].str[6:8]"
   ]
  },
  {
   "cell_type": "code",
   "execution_count": 151,
   "metadata": {},
   "outputs": [],
   "source": [
    "errc['변경일자'] = errc['변경일자'].astype('str')\n",
    "errc['변경일자_년'] = errc['변경일자'].str[:4]\n",
    "errc['변경일자_월'] = errc['변경일자'].str[4:6]\n",
    "errc['변경일자_일'] = errc['변경일자'].str[6:8]"
   ]
  },
  {
   "cell_type": "markdown",
   "metadata": {},
   "source": [
    "## 시도, 연도별 차량 현황 분석"
   ]
  },
  {
   "cell_type": "code",
   "execution_count": 152,
   "metadata": {},
   "outputs": [
    {
     "data": {
      "text/plain": [
       "2023"
      ]
     },
     "execution_count": 152,
     "metadata": {},
     "output_type": "execute_result"
    }
   ],
   "source": [
    "int(datetime.today().strftime(\"%Y\"))"
   ]
  },
  {
   "cell_type": "code",
   "execution_count": 153,
   "metadata": {},
   "outputs": [],
   "source": [
    "# 올해 차량 대수\n",
    "grp1 = dfm.groupby(['시도'], as_index=False)['차대번호'].count()\n",
    "grp1 = grp1.rename(columns={'차대번호':'차량대수'})\n",
    "# year = 2022\n",
    "year = int(datetime.today().strftime(\"%Y\")) # !!! 수정(2023.08.31)\n",
    "grp1['연도'] = f'{year}'\n",
    "grp1 = grp1[['연도', '시도', '차량대수']]"
   ]
  },
  {
   "cell_type": "code",
   "execution_count": 154,
   "metadata": {},
   "outputs": [
    {
     "data": {
      "text/html": [
       "<div>\n",
       "<style scoped>\n",
       "    .dataframe tbody tr th:only-of-type {\n",
       "        vertical-align: middle;\n",
       "    }\n",
       "\n",
       "    .dataframe tbody tr th {\n",
       "        vertical-align: top;\n",
       "    }\n",
       "\n",
       "    .dataframe thead th {\n",
       "        text-align: right;\n",
       "    }\n",
       "</style>\n",
       "<table border=\"1\" class=\"dataframe\">\n",
       "  <thead>\n",
       "    <tr style=\"text-align: right;\">\n",
       "      <th></th>\n",
       "      <th>연도</th>\n",
       "      <th>시도</th>\n",
       "      <th>차량대수</th>\n",
       "    </tr>\n",
       "  </thead>\n",
       "  <tbody>\n",
       "    <tr>\n",
       "      <th>0</th>\n",
       "      <td>2023</td>\n",
       "      <td>강원특별자치도</td>\n",
       "      <td>39204</td>\n",
       "    </tr>\n",
       "    <tr>\n",
       "      <th>1</th>\n",
       "      <td>2023</td>\n",
       "      <td>경기도</td>\n",
       "      <td>197306</td>\n",
       "    </tr>\n",
       "    <tr>\n",
       "      <th>2</th>\n",
       "      <td>2023</td>\n",
       "      <td>경상남도</td>\n",
       "      <td>87566</td>\n",
       "    </tr>\n",
       "    <tr>\n",
       "      <th>3</th>\n",
       "      <td>2023</td>\n",
       "      <td>경상북도</td>\n",
       "      <td>100814</td>\n",
       "    </tr>\n",
       "    <tr>\n",
       "      <th>4</th>\n",
       "      <td>2023</td>\n",
       "      <td>광주광역시</td>\n",
       "      <td>21863</td>\n",
       "    </tr>\n",
       "  </tbody>\n",
       "</table>\n",
       "</div>"
      ],
      "text/plain": [
       "     연도       시도    차량대수\n",
       "0  2023  강원특별자치도   39204\n",
       "1  2023      경기도  197306\n",
       "2  2023     경상남도   87566\n",
       "3  2023     경상북도  100814\n",
       "4  2023    광주광역시   21863"
      ]
     },
     "execution_count": 154,
     "metadata": {},
     "output_type": "execute_result"
    }
   ],
   "source": [
    "grp1.head()"
   ]
  },
  {
   "cell_type": "code",
   "execution_count": 155,
   "metadata": {},
   "outputs": [],
   "source": [
    "# 4년간 차량 통계 기본 데이터셋\n",
    "yr_list, ctpv_list = [], []\n",
    "for ctpv in grp1['시도'].unique():\n",
    "    for yr in range(year - 3, year + 1): # !!! 수정(2023.08.31)\n",
    "        yr_list.append(str(yr))\n",
    "        ctpv_list.append(ctpv)\n",
    "base = pd.DataFrame({'연도':yr_list, '시도':ctpv_list})"
   ]
  },
  {
   "cell_type": "code",
   "execution_count": 156,
   "metadata": {},
   "outputs": [
    {
     "data": {
      "text/html": [
       "<div>\n",
       "<style scoped>\n",
       "    .dataframe tbody tr th:only-of-type {\n",
       "        vertical-align: middle;\n",
       "    }\n",
       "\n",
       "    .dataframe tbody tr th {\n",
       "        vertical-align: top;\n",
       "    }\n",
       "\n",
       "    .dataframe thead th {\n",
       "        text-align: right;\n",
       "    }\n",
       "</style>\n",
       "<table border=\"1\" class=\"dataframe\">\n",
       "  <thead>\n",
       "    <tr style=\"text-align: right;\">\n",
       "      <th></th>\n",
       "      <th>연도</th>\n",
       "      <th>시도</th>\n",
       "    </tr>\n",
       "  </thead>\n",
       "  <tbody>\n",
       "    <tr>\n",
       "      <th>0</th>\n",
       "      <td>2020</td>\n",
       "      <td>강원특별자치도</td>\n",
       "    </tr>\n",
       "    <tr>\n",
       "      <th>1</th>\n",
       "      <td>2021</td>\n",
       "      <td>강원특별자치도</td>\n",
       "    </tr>\n",
       "    <tr>\n",
       "      <th>2</th>\n",
       "      <td>2022</td>\n",
       "      <td>강원특별자치도</td>\n",
       "    </tr>\n",
       "    <tr>\n",
       "      <th>3</th>\n",
       "      <td>2023</td>\n",
       "      <td>강원특별자치도</td>\n",
       "    </tr>\n",
       "    <tr>\n",
       "      <th>4</th>\n",
       "      <td>2020</td>\n",
       "      <td>경기도</td>\n",
       "    </tr>\n",
       "  </tbody>\n",
       "</table>\n",
       "</div>"
      ],
      "text/plain": [
       "     연도       시도\n",
       "0  2020  강원특별자치도\n",
       "1  2021  강원특별자치도\n",
       "2  2022  강원특별자치도\n",
       "3  2023  강원특별자치도\n",
       "4  2020      경기도"
      ]
     },
     "execution_count": 156,
     "metadata": {},
     "output_type": "execute_result"
    }
   ],
   "source": [
    "base.head()"
   ]
  },
  {
   "cell_type": "code",
   "execution_count": 157,
   "metadata": {},
   "outputs": [
    {
     "data": {
      "text/html": [
       "<div>\n",
       "<style scoped>\n",
       "    .dataframe tbody tr th:only-of-type {\n",
       "        vertical-align: middle;\n",
       "    }\n",
       "\n",
       "    .dataframe tbody tr th {\n",
       "        vertical-align: top;\n",
       "    }\n",
       "\n",
       "    .dataframe thead th {\n",
       "        text-align: right;\n",
       "    }\n",
       "</style>\n",
       "<table border=\"1\" class=\"dataframe\">\n",
       "  <thead>\n",
       "    <tr style=\"text-align: right;\">\n",
       "      <th></th>\n",
       "      <th>연도</th>\n",
       "      <th>시도</th>\n",
       "      <th>등록대수</th>\n",
       "    </tr>\n",
       "  </thead>\n",
       "  <tbody>\n",
       "    <tr>\n",
       "      <th>0</th>\n",
       "      <td>1920</td>\n",
       "      <td>경기도</td>\n",
       "      <td>2</td>\n",
       "    </tr>\n",
       "    <tr>\n",
       "      <th>1</th>\n",
       "      <td>1920</td>\n",
       "      <td>서울특별시</td>\n",
       "      <td>1</td>\n",
       "    </tr>\n",
       "    <tr>\n",
       "      <th>2</th>\n",
       "      <td>1942</td>\n",
       "      <td>강원특별자치도</td>\n",
       "      <td>2</td>\n",
       "    </tr>\n",
       "    <tr>\n",
       "      <th>3</th>\n",
       "      <td>1943</td>\n",
       "      <td>강원특별자치도</td>\n",
       "      <td>3</td>\n",
       "    </tr>\n",
       "    <tr>\n",
       "      <th>4</th>\n",
       "      <td>1944</td>\n",
       "      <td>강원특별자치도</td>\n",
       "      <td>5</td>\n",
       "    </tr>\n",
       "    <tr>\n",
       "      <th>...</th>\n",
       "      <td>...</td>\n",
       "      <td>...</td>\n",
       "      <td>...</td>\n",
       "    </tr>\n",
       "    <tr>\n",
       "      <th>831</th>\n",
       "      <td>2023</td>\n",
       "      <td>경상북도</td>\n",
       "      <td>1</td>\n",
       "    </tr>\n",
       "    <tr>\n",
       "      <th>832</th>\n",
       "      <td>2023</td>\n",
       "      <td>충청남도</td>\n",
       "      <td>1</td>\n",
       "    </tr>\n",
       "    <tr>\n",
       "      <th>833</th>\n",
       "      <td>nan</td>\n",
       "      <td>대구광역시</td>\n",
       "      <td>4</td>\n",
       "    </tr>\n",
       "    <tr>\n",
       "      <th>834</th>\n",
       "      <td>nan</td>\n",
       "      <td>서울특별시</td>\n",
       "      <td>1</td>\n",
       "    </tr>\n",
       "    <tr>\n",
       "      <th>835</th>\n",
       "      <td>nan</td>\n",
       "      <td>제주특별자치도</td>\n",
       "      <td>1</td>\n",
       "    </tr>\n",
       "  </tbody>\n",
       "</table>\n",
       "<p>836 rows × 3 columns</p>\n",
       "</div>"
      ],
      "text/plain": [
       "       연도       시도  등록대수\n",
       "0    1920      경기도     2\n",
       "1    1920    서울특별시     1\n",
       "2    1942  강원특별자치도     2\n",
       "3    1943  강원특별자치도     3\n",
       "4    1944  강원특별자치도     5\n",
       "..    ...      ...   ...\n",
       "831  2023     경상북도     1\n",
       "832  2023     충청남도     1\n",
       "833   nan    대구광역시     4\n",
       "834   nan    서울특별시     1\n",
       "835   nan  제주특별자치도     1\n",
       "\n",
       "[836 rows x 3 columns]"
      ]
     },
     "execution_count": 157,
     "metadata": {},
     "output_type": "execute_result"
    }
   ],
   "source": [
    "# 연도별 등록대수\n",
    "grp2 = dfm.groupby(['최초등록일자_년', '시도'], as_index=False)['차대번호'].count()\n",
    "grp2 = grp2.rename(columns={'최초등록일자_년':'연도', '차대번호':'등록대수'})\n",
    "grp2"
   ]
  },
  {
   "cell_type": "code",
   "execution_count": 158,
   "metadata": {},
   "outputs": [
    {
     "data": {
      "text/html": [
       "<div>\n",
       "<style scoped>\n",
       "    .dataframe tbody tr th:only-of-type {\n",
       "        vertical-align: middle;\n",
       "    }\n",
       "\n",
       "    .dataframe tbody tr th {\n",
       "        vertical-align: top;\n",
       "    }\n",
       "\n",
       "    .dataframe thead th {\n",
       "        text-align: right;\n",
       "    }\n",
       "</style>\n",
       "<table border=\"1\" class=\"dataframe\">\n",
       "  <thead>\n",
       "    <tr style=\"text-align: right;\">\n",
       "      <th></th>\n",
       "      <th>연도</th>\n",
       "      <th>시도</th>\n",
       "      <th>말소대수</th>\n",
       "    </tr>\n",
       "  </thead>\n",
       "  <tbody>\n",
       "    <tr>\n",
       "      <th>0</th>\n",
       "      <td>2019</td>\n",
       "      <td>경기도</td>\n",
       "      <td>73287</td>\n",
       "    </tr>\n",
       "    <tr>\n",
       "      <th>1</th>\n",
       "      <td>2019</td>\n",
       "      <td>경상남도</td>\n",
       "      <td>17541</td>\n",
       "    </tr>\n",
       "    <tr>\n",
       "      <th>2</th>\n",
       "      <td>2019</td>\n",
       "      <td>경상북도</td>\n",
       "      <td>19635</td>\n",
       "    </tr>\n",
       "    <tr>\n",
       "      <th>3</th>\n",
       "      <td>2019</td>\n",
       "      <td>광주광역시</td>\n",
       "      <td>5895</td>\n",
       "    </tr>\n",
       "    <tr>\n",
       "      <th>4</th>\n",
       "      <td>2019</td>\n",
       "      <td>대구광역시</td>\n",
       "      <td>10822</td>\n",
       "    </tr>\n",
       "    <tr>\n",
       "      <th>...</th>\n",
       "      <td>...</td>\n",
       "      <td>...</td>\n",
       "      <td>...</td>\n",
       "    </tr>\n",
       "    <tr>\n",
       "      <th>76</th>\n",
       "      <td>2023</td>\n",
       "      <td>전라남도</td>\n",
       "      <td>7859</td>\n",
       "    </tr>\n",
       "    <tr>\n",
       "      <th>77</th>\n",
       "      <td>2023</td>\n",
       "      <td>전라북도</td>\n",
       "      <td>5575</td>\n",
       "    </tr>\n",
       "    <tr>\n",
       "      <th>78</th>\n",
       "      <td>2023</td>\n",
       "      <td>제주특별자치도</td>\n",
       "      <td>3145</td>\n",
       "    </tr>\n",
       "    <tr>\n",
       "      <th>79</th>\n",
       "      <td>2023</td>\n",
       "      <td>충청남도</td>\n",
       "      <td>6528</td>\n",
       "    </tr>\n",
       "    <tr>\n",
       "      <th>80</th>\n",
       "      <td>2023</td>\n",
       "      <td>충청북도</td>\n",
       "      <td>4202</td>\n",
       "    </tr>\n",
       "  </tbody>\n",
       "</table>\n",
       "<p>81 rows × 3 columns</p>\n",
       "</div>"
      ],
      "text/plain": [
       "      연도       시도   말소대수\n",
       "0   2019      경기도  73287\n",
       "1   2019     경상남도  17541\n",
       "2   2019     경상북도  19635\n",
       "3   2019    광주광역시   5895\n",
       "4   2019    대구광역시  10822\n",
       "..   ...      ...    ...\n",
       "76  2023     전라남도   7859\n",
       "77  2023     전라북도   5575\n",
       "78  2023  제주특별자치도   3145\n",
       "79  2023     충청남도   6528\n",
       "80  2023     충청북도   4202\n",
       "\n",
       "[81 rows x 3 columns]"
      ]
     },
     "execution_count": 158,
     "metadata": {},
     "output_type": "execute_result"
    }
   ],
   "source": [
    "# 연도별 말소대수\n",
    "grp3 = errc.groupby(['변경일자_년', '시도'], as_index=False)['차대번호'].count()\n",
    "grp3 = grp3.rename(columns={'변경일자_년':'연도', '차대번호':'말소대수'})\n",
    "grp3"
   ]
  },
  {
   "cell_type": "code",
   "execution_count": 159,
   "metadata": {},
   "outputs": [
    {
     "data": {
      "text/html": [
       "<div>\n",
       "<style scoped>\n",
       "    .dataframe tbody tr th:only-of-type {\n",
       "        vertical-align: middle;\n",
       "    }\n",
       "\n",
       "    .dataframe tbody tr th {\n",
       "        vertical-align: top;\n",
       "    }\n",
       "\n",
       "    .dataframe thead th {\n",
       "        text-align: right;\n",
       "    }\n",
       "</style>\n",
       "<table border=\"1\" class=\"dataframe\">\n",
       "  <thead>\n",
       "    <tr style=\"text-align: right;\">\n",
       "      <th></th>\n",
       "      <th>연도</th>\n",
       "      <th>시도</th>\n",
       "      <th>차량대수</th>\n",
       "    </tr>\n",
       "  </thead>\n",
       "  <tbody>\n",
       "    <tr>\n",
       "      <th>0</th>\n",
       "      <td>2020</td>\n",
       "      <td>강원특별자치도</td>\n",
       "      <td>NaN</td>\n",
       "    </tr>\n",
       "    <tr>\n",
       "      <th>1</th>\n",
       "      <td>2021</td>\n",
       "      <td>강원특별자치도</td>\n",
       "      <td>NaN</td>\n",
       "    </tr>\n",
       "    <tr>\n",
       "      <th>2</th>\n",
       "      <td>2022</td>\n",
       "      <td>강원특별자치도</td>\n",
       "      <td>NaN</td>\n",
       "    </tr>\n",
       "    <tr>\n",
       "      <th>3</th>\n",
       "      <td>2023</td>\n",
       "      <td>강원특별자치도</td>\n",
       "      <td>39204.00</td>\n",
       "    </tr>\n",
       "    <tr>\n",
       "      <th>4</th>\n",
       "      <td>2020</td>\n",
       "      <td>경기도</td>\n",
       "      <td>NaN</td>\n",
       "    </tr>\n",
       "    <tr>\n",
       "      <th>...</th>\n",
       "      <td>...</td>\n",
       "      <td>...</td>\n",
       "      <td>...</td>\n",
       "    </tr>\n",
       "    <tr>\n",
       "      <th>63</th>\n",
       "      <td>2023</td>\n",
       "      <td>충청남도</td>\n",
       "      <td>53434.00</td>\n",
       "    </tr>\n",
       "    <tr>\n",
       "      <th>64</th>\n",
       "      <td>2020</td>\n",
       "      <td>충청북도</td>\n",
       "      <td>NaN</td>\n",
       "    </tr>\n",
       "    <tr>\n",
       "      <th>65</th>\n",
       "      <td>2021</td>\n",
       "      <td>충청북도</td>\n",
       "      <td>NaN</td>\n",
       "    </tr>\n",
       "    <tr>\n",
       "      <th>66</th>\n",
       "      <td>2022</td>\n",
       "      <td>충청북도</td>\n",
       "      <td>NaN</td>\n",
       "    </tr>\n",
       "    <tr>\n",
       "      <th>67</th>\n",
       "      <td>2023</td>\n",
       "      <td>충청북도</td>\n",
       "      <td>35931.00</td>\n",
       "    </tr>\n",
       "  </tbody>\n",
       "</table>\n",
       "<p>68 rows × 3 columns</p>\n",
       "</div>"
      ],
      "text/plain": [
       "      연도       시도     차량대수\n",
       "0   2020  강원특별자치도      NaN\n",
       "1   2021  강원특별자치도      NaN\n",
       "2   2022  강원특별자치도      NaN\n",
       "3   2023  강원특별자치도 39204.00\n",
       "4   2020      경기도      NaN\n",
       "..   ...      ...      ...\n",
       "63  2023     충청남도 53434.00\n",
       "64  2020     충청북도      NaN\n",
       "65  2021     충청북도      NaN\n",
       "66  2022     충청북도      NaN\n",
       "67  2023     충청북도 35931.00\n",
       "\n",
       "[68 rows x 3 columns]"
      ]
     },
     "execution_count": 159,
     "metadata": {},
     "output_type": "execute_result"
    }
   ],
   "source": [
    "base1 = base.merge(grp1, on=['연도', '시도'], how='left')\n",
    "base1"
   ]
  },
  {
   "cell_type": "code",
   "execution_count": 160,
   "metadata": {},
   "outputs": [
    {
     "data": {
      "text/html": [
       "<div>\n",
       "<style scoped>\n",
       "    .dataframe tbody tr th:only-of-type {\n",
       "        vertical-align: middle;\n",
       "    }\n",
       "\n",
       "    .dataframe tbody tr th {\n",
       "        vertical-align: top;\n",
       "    }\n",
       "\n",
       "    .dataframe thead th {\n",
       "        text-align: right;\n",
       "    }\n",
       "</style>\n",
       "<table border=\"1\" class=\"dataframe\">\n",
       "  <thead>\n",
       "    <tr style=\"text-align: right;\">\n",
       "      <th></th>\n",
       "      <th>연도</th>\n",
       "      <th>시도</th>\n",
       "      <th>차량대수</th>\n",
       "      <th>등록대수</th>\n",
       "    </tr>\n",
       "  </thead>\n",
       "  <tbody>\n",
       "    <tr>\n",
       "      <th>0</th>\n",
       "      <td>2020</td>\n",
       "      <td>강원특별자치도</td>\n",
       "      <td>NaN</td>\n",
       "      <td>1.00</td>\n",
       "    </tr>\n",
       "    <tr>\n",
       "      <th>1</th>\n",
       "      <td>2021</td>\n",
       "      <td>강원특별자치도</td>\n",
       "      <td>NaN</td>\n",
       "      <td>NaN</td>\n",
       "    </tr>\n",
       "    <tr>\n",
       "      <th>2</th>\n",
       "      <td>2022</td>\n",
       "      <td>강원특별자치도</td>\n",
       "      <td>NaN</td>\n",
       "      <td>NaN</td>\n",
       "    </tr>\n",
       "    <tr>\n",
       "      <th>3</th>\n",
       "      <td>2023</td>\n",
       "      <td>강원특별자치도</td>\n",
       "      <td>39204.00</td>\n",
       "      <td>NaN</td>\n",
       "    </tr>\n",
       "    <tr>\n",
       "      <th>4</th>\n",
       "      <td>2020</td>\n",
       "      <td>경기도</td>\n",
       "      <td>NaN</td>\n",
       "      <td>1.00</td>\n",
       "    </tr>\n",
       "    <tr>\n",
       "      <th>...</th>\n",
       "      <td>...</td>\n",
       "      <td>...</td>\n",
       "      <td>...</td>\n",
       "      <td>...</td>\n",
       "    </tr>\n",
       "    <tr>\n",
       "      <th>63</th>\n",
       "      <td>2023</td>\n",
       "      <td>충청남도</td>\n",
       "      <td>53434.00</td>\n",
       "      <td>1.00</td>\n",
       "    </tr>\n",
       "    <tr>\n",
       "      <th>64</th>\n",
       "      <td>2020</td>\n",
       "      <td>충청북도</td>\n",
       "      <td>NaN</td>\n",
       "      <td>NaN</td>\n",
       "    </tr>\n",
       "    <tr>\n",
       "      <th>65</th>\n",
       "      <td>2021</td>\n",
       "      <td>충청북도</td>\n",
       "      <td>NaN</td>\n",
       "      <td>NaN</td>\n",
       "    </tr>\n",
       "    <tr>\n",
       "      <th>66</th>\n",
       "      <td>2022</td>\n",
       "      <td>충청북도</td>\n",
       "      <td>NaN</td>\n",
       "      <td>NaN</td>\n",
       "    </tr>\n",
       "    <tr>\n",
       "      <th>67</th>\n",
       "      <td>2023</td>\n",
       "      <td>충청북도</td>\n",
       "      <td>35931.00</td>\n",
       "      <td>NaN</td>\n",
       "    </tr>\n",
       "  </tbody>\n",
       "</table>\n",
       "<p>68 rows × 4 columns</p>\n",
       "</div>"
      ],
      "text/plain": [
       "      연도       시도     차량대수  등록대수\n",
       "0   2020  강원특별자치도      NaN  1.00\n",
       "1   2021  강원특별자치도      NaN   NaN\n",
       "2   2022  강원특별자치도      NaN   NaN\n",
       "3   2023  강원특별자치도 39204.00   NaN\n",
       "4   2020      경기도      NaN  1.00\n",
       "..   ...      ...      ...   ...\n",
       "63  2023     충청남도 53434.00  1.00\n",
       "64  2020     충청북도      NaN   NaN\n",
       "65  2021     충청북도      NaN   NaN\n",
       "66  2022     충청북도      NaN   NaN\n",
       "67  2023     충청북도 35931.00   NaN\n",
       "\n",
       "[68 rows x 4 columns]"
      ]
     },
     "execution_count": 160,
     "metadata": {},
     "output_type": "execute_result"
    }
   ],
   "source": [
    "base2 = base1.merge(grp2, on=['연도', '시도'], how='left')\n",
    "base2"
   ]
  },
  {
   "cell_type": "code",
   "execution_count": 161,
   "metadata": {},
   "outputs": [
    {
     "data": {
      "text/html": [
       "<div>\n",
       "<style scoped>\n",
       "    .dataframe tbody tr th:only-of-type {\n",
       "        vertical-align: middle;\n",
       "    }\n",
       "\n",
       "    .dataframe tbody tr th {\n",
       "        vertical-align: top;\n",
       "    }\n",
       "\n",
       "    .dataframe thead th {\n",
       "        text-align: right;\n",
       "    }\n",
       "</style>\n",
       "<table border=\"1\" class=\"dataframe\">\n",
       "  <thead>\n",
       "    <tr style=\"text-align: right;\">\n",
       "      <th></th>\n",
       "      <th>연도</th>\n",
       "      <th>시도</th>\n",
       "      <th>차량대수</th>\n",
       "      <th>등록대수</th>\n",
       "      <th>말소대수</th>\n",
       "    </tr>\n",
       "  </thead>\n",
       "  <tbody>\n",
       "    <tr>\n",
       "      <th>0</th>\n",
       "      <td>2020</td>\n",
       "      <td>강원특별자치도</td>\n",
       "      <td>NaN</td>\n",
       "      <td>1.00</td>\n",
       "      <td>NaN</td>\n",
       "    </tr>\n",
       "    <tr>\n",
       "      <th>1</th>\n",
       "      <td>2021</td>\n",
       "      <td>강원특별자치도</td>\n",
       "      <td>NaN</td>\n",
       "      <td>NaN</td>\n",
       "      <td>NaN</td>\n",
       "    </tr>\n",
       "    <tr>\n",
       "      <th>2</th>\n",
       "      <td>2022</td>\n",
       "      <td>강원특별자치도</td>\n",
       "      <td>NaN</td>\n",
       "      <td>NaN</td>\n",
       "      <td>NaN</td>\n",
       "    </tr>\n",
       "    <tr>\n",
       "      <th>3</th>\n",
       "      <td>2023</td>\n",
       "      <td>강원특별자치도</td>\n",
       "      <td>39204.00</td>\n",
       "      <td>NaN</td>\n",
       "      <td>1279.00</td>\n",
       "    </tr>\n",
       "    <tr>\n",
       "      <th>4</th>\n",
       "      <td>2020</td>\n",
       "      <td>경기도</td>\n",
       "      <td>NaN</td>\n",
       "      <td>1.00</td>\n",
       "      <td>95909.00</td>\n",
       "    </tr>\n",
       "    <tr>\n",
       "      <th>...</th>\n",
       "      <td>...</td>\n",
       "      <td>...</td>\n",
       "      <td>...</td>\n",
       "      <td>...</td>\n",
       "      <td>...</td>\n",
       "    </tr>\n",
       "    <tr>\n",
       "      <th>63</th>\n",
       "      <td>2023</td>\n",
       "      <td>충청남도</td>\n",
       "      <td>53434.00</td>\n",
       "      <td>1.00</td>\n",
       "      <td>6528.00</td>\n",
       "    </tr>\n",
       "    <tr>\n",
       "      <th>64</th>\n",
       "      <td>2020</td>\n",
       "      <td>충청북도</td>\n",
       "      <td>NaN</td>\n",
       "      <td>NaN</td>\n",
       "      <td>23584.00</td>\n",
       "    </tr>\n",
       "    <tr>\n",
       "      <th>65</th>\n",
       "      <td>2021</td>\n",
       "      <td>충청북도</td>\n",
       "      <td>NaN</td>\n",
       "      <td>NaN</td>\n",
       "      <td>19528.00</td>\n",
       "    </tr>\n",
       "    <tr>\n",
       "      <th>66</th>\n",
       "      <td>2022</td>\n",
       "      <td>충청북도</td>\n",
       "      <td>NaN</td>\n",
       "      <td>NaN</td>\n",
       "      <td>9000.00</td>\n",
       "    </tr>\n",
       "    <tr>\n",
       "      <th>67</th>\n",
       "      <td>2023</td>\n",
       "      <td>충청북도</td>\n",
       "      <td>35931.00</td>\n",
       "      <td>NaN</td>\n",
       "      <td>4202.00</td>\n",
       "    </tr>\n",
       "  </tbody>\n",
       "</table>\n",
       "<p>68 rows × 5 columns</p>\n",
       "</div>"
      ],
      "text/plain": [
       "      연도       시도     차량대수  등록대수     말소대수\n",
       "0   2020  강원특별자치도      NaN  1.00      NaN\n",
       "1   2021  강원특별자치도      NaN   NaN      NaN\n",
       "2   2022  강원특별자치도      NaN   NaN      NaN\n",
       "3   2023  강원특별자치도 39204.00   NaN  1279.00\n",
       "4   2020      경기도      NaN  1.00 95909.00\n",
       "..   ...      ...      ...   ...      ...\n",
       "63  2023     충청남도 53434.00  1.00  6528.00\n",
       "64  2020     충청북도      NaN   NaN 23584.00\n",
       "65  2021     충청북도      NaN   NaN 19528.00\n",
       "66  2022     충청북도      NaN   NaN  9000.00\n",
       "67  2023     충청북도 35931.00   NaN  4202.00\n",
       "\n",
       "[68 rows x 5 columns]"
      ]
     },
     "execution_count": 161,
     "metadata": {},
     "output_type": "execute_result"
    }
   ],
   "source": [
    "base3 = base2.merge(grp3, on=['연도', '시도'], how='left')\n",
    "base3"
   ]
  },
  {
   "cell_type": "code",
   "execution_count": 162,
   "metadata": {},
   "outputs": [
    {
     "data": {
      "text/plain": [
       "차량대수    51\n",
       "등록대수    47\n",
       "말소대수     3\n",
       "dtype: int64"
      ]
     },
     "execution_count": 162,
     "metadata": {},
     "output_type": "execute_result"
    }
   ],
   "source": [
    "base3[['차량대수', '등록대수', '말소대수']].isnull().sum()"
   ]
  },
  {
   "cell_type": "code",
   "execution_count": 163,
   "metadata": {},
   "outputs": [],
   "source": [
    "base3[['차량대수', '등록대수', '말소대수']] = base3[['차량대수', '등록대수', '말소대수']].fillna(0)"
   ]
  },
  {
   "cell_type": "code",
   "execution_count": 164,
   "metadata": {},
   "outputs": [],
   "source": [
    "n = len(base3['연도'].unique())\n",
    "for i in range(base3.shape[0] // n):\n",
    "    for j in range(2, n+1):\n",
    "        base3.loc[(i+1)*n - j, '차량대수'] = base3.loc[(i+1)*n - (j-1), '차량대수'] + base3.loc[(i+1)*n - (j-1), '말소대수'] - base3.loc[(i+1)*n - (j-1), '등록대수']"
   ]
  },
  {
   "cell_type": "code",
   "execution_count": 165,
   "metadata": {},
   "outputs": [
    {
     "data": {
      "text/html": [
       "<div>\n",
       "<style scoped>\n",
       "    .dataframe tbody tr th:only-of-type {\n",
       "        vertical-align: middle;\n",
       "    }\n",
       "\n",
       "    .dataframe tbody tr th {\n",
       "        vertical-align: top;\n",
       "    }\n",
       "\n",
       "    .dataframe thead th {\n",
       "        text-align: right;\n",
       "    }\n",
       "</style>\n",
       "<table border=\"1\" class=\"dataframe\">\n",
       "  <thead>\n",
       "    <tr style=\"text-align: right;\">\n",
       "      <th></th>\n",
       "      <th>연도</th>\n",
       "      <th>시도</th>\n",
       "      <th>차량대수</th>\n",
       "      <th>등록대수</th>\n",
       "      <th>말소대수</th>\n",
       "    </tr>\n",
       "  </thead>\n",
       "  <tbody>\n",
       "    <tr>\n",
       "      <th>0</th>\n",
       "      <td>2020</td>\n",
       "      <td>강원특별자치도</td>\n",
       "      <td>40483.00</td>\n",
       "      <td>1.00</td>\n",
       "      <td>0.00</td>\n",
       "    </tr>\n",
       "    <tr>\n",
       "      <th>1</th>\n",
       "      <td>2021</td>\n",
       "      <td>강원특별자치도</td>\n",
       "      <td>40483.00</td>\n",
       "      <td>0.00</td>\n",
       "      <td>0.00</td>\n",
       "    </tr>\n",
       "    <tr>\n",
       "      <th>2</th>\n",
       "      <td>2022</td>\n",
       "      <td>강원특별자치도</td>\n",
       "      <td>40483.00</td>\n",
       "      <td>0.00</td>\n",
       "      <td>0.00</td>\n",
       "    </tr>\n",
       "    <tr>\n",
       "      <th>3</th>\n",
       "      <td>2023</td>\n",
       "      <td>강원특별자치도</td>\n",
       "      <td>39204.00</td>\n",
       "      <td>0.00</td>\n",
       "      <td>1279.00</td>\n",
       "    </tr>\n",
       "    <tr>\n",
       "      <th>4</th>\n",
       "      <td>2020</td>\n",
       "      <td>경기도</td>\n",
       "      <td>314191.00</td>\n",
       "      <td>1.00</td>\n",
       "      <td>95909.00</td>\n",
       "    </tr>\n",
       "    <tr>\n",
       "      <th>...</th>\n",
       "      <td>...</td>\n",
       "      <td>...</td>\n",
       "      <td>...</td>\n",
       "      <td>...</td>\n",
       "      <td>...</td>\n",
       "    </tr>\n",
       "    <tr>\n",
       "      <th>63</th>\n",
       "      <td>2023</td>\n",
       "      <td>충청남도</td>\n",
       "      <td>53434.00</td>\n",
       "      <td>1.00</td>\n",
       "      <td>6528.00</td>\n",
       "    </tr>\n",
       "    <tr>\n",
       "      <th>64</th>\n",
       "      <td>2020</td>\n",
       "      <td>충청북도</td>\n",
       "      <td>68661.00</td>\n",
       "      <td>0.00</td>\n",
       "      <td>23584.00</td>\n",
       "    </tr>\n",
       "    <tr>\n",
       "      <th>65</th>\n",
       "      <td>2021</td>\n",
       "      <td>충청북도</td>\n",
       "      <td>49133.00</td>\n",
       "      <td>0.00</td>\n",
       "      <td>19528.00</td>\n",
       "    </tr>\n",
       "    <tr>\n",
       "      <th>66</th>\n",
       "      <td>2022</td>\n",
       "      <td>충청북도</td>\n",
       "      <td>40133.00</td>\n",
       "      <td>0.00</td>\n",
       "      <td>9000.00</td>\n",
       "    </tr>\n",
       "    <tr>\n",
       "      <th>67</th>\n",
       "      <td>2023</td>\n",
       "      <td>충청북도</td>\n",
       "      <td>35931.00</td>\n",
       "      <td>0.00</td>\n",
       "      <td>4202.00</td>\n",
       "    </tr>\n",
       "  </tbody>\n",
       "</table>\n",
       "<p>68 rows × 5 columns</p>\n",
       "</div>"
      ],
      "text/plain": [
       "      연도       시도      차량대수  등록대수     말소대수\n",
       "0   2020  강원특별자치도  40483.00  1.00     0.00\n",
       "1   2021  강원특별자치도  40483.00  0.00     0.00\n",
       "2   2022  강원특별자치도  40483.00  0.00     0.00\n",
       "3   2023  강원특별자치도  39204.00  0.00  1279.00\n",
       "4   2020      경기도 314191.00  1.00 95909.00\n",
       "..   ...      ...       ...   ...      ...\n",
       "63  2023     충청남도  53434.00  1.00  6528.00\n",
       "64  2020     충청북도  68661.00  0.00 23584.00\n",
       "65  2021     충청북도  49133.00  0.00 19528.00\n",
       "66  2022     충청북도  40133.00  0.00  9000.00\n",
       "67  2023     충청북도  35931.00  0.00  4202.00\n",
       "\n",
       "[68 rows x 5 columns]"
      ]
     },
     "execution_count": 165,
     "metadata": {},
     "output_type": "execute_result"
    }
   ],
   "source": [
    "base3"
   ]
  },
  {
   "cell_type": "code",
   "execution_count": 166,
   "metadata": {},
   "outputs": [
    {
     "data": {
      "text/plain": [
       "Index(['차대번호', '법정동코드', '차량말소YN', '제원관리번호', '차량연식', '차종', '용도', '최초등록일자',\n",
       "       '제작일자', '차량관리번호', '연료', '차종유형', 'DPF_YN', '시도코드', '시군구코드', '시도', '시군구',\n",
       "       '조기폐차상태코드', '조기폐차최종승인YN', '말소일자', '최초등록일자_년', '최초등록일자_월', '최초등록일자_일'],\n",
       "      dtype='object')"
      ]
     },
     "execution_count": 166,
     "metadata": {},
     "output_type": "execute_result"
    }
   ],
   "source": [
    "dfm.columns"
   ]
  },
  {
   "cell_type": "code",
   "execution_count": 167,
   "metadata": {},
   "outputs": [],
   "source": [
    "dfm['말소일자'] = dfm['말소일자'].astype('str')\n",
    "dfm['말소일자_년'] = dfm['말소일자'].str[:4]\n",
    "dfm['말소일자_월'] = dfm['말소일자'].str[4:6]\n",
    "dfm['말소일자_일'] = dfm['말소일자'].str[6:8]"
   ]
  },
  {
   "cell_type": "code",
   "execution_count": 168,
   "metadata": {},
   "outputs": [
    {
     "data": {
      "text/plain": [
       "count          6.00\n",
       "mean    20183723.83\n",
       "std        36788.53\n",
       "min     20130201.00\n",
       "25%     20157908.00\n",
       "50%     20195262.50\n",
       "75%     20210406.50\n",
       "max     20220706.00\n",
       "Name: 말소일자, dtype: float64"
      ]
     },
     "execution_count": 168,
     "metadata": {},
     "output_type": "execute_result"
    }
   ],
   "source": [
    "temp = pd.to_numeric(dfm['말소일자'], errors='coerce')\n",
    "temp.describe()"
   ]
  },
  {
   "cell_type": "code",
   "execution_count": 169,
   "metadata": {},
   "outputs": [
    {
     "data": {
      "text/html": [
       "<div>\n",
       "<style scoped>\n",
       "    .dataframe tbody tr th:only-of-type {\n",
       "        vertical-align: middle;\n",
       "    }\n",
       "\n",
       "    .dataframe tbody tr th {\n",
       "        vertical-align: top;\n",
       "    }\n",
       "\n",
       "    .dataframe thead th {\n",
       "        text-align: right;\n",
       "    }\n",
       "</style>\n",
       "<table border=\"1\" class=\"dataframe\">\n",
       "  <thead>\n",
       "    <tr style=\"text-align: right;\">\n",
       "      <th></th>\n",
       "      <th>연도</th>\n",
       "      <th>조기폐차대수</th>\n",
       "    </tr>\n",
       "  </thead>\n",
       "  <tbody>\n",
       "    <tr>\n",
       "      <th>0</th>\n",
       "      <td>2013</td>\n",
       "      <td>1</td>\n",
       "    </tr>\n",
       "    <tr>\n",
       "      <th>1</th>\n",
       "      <td>2015</td>\n",
       "      <td>1</td>\n",
       "    </tr>\n",
       "    <tr>\n",
       "      <th>2</th>\n",
       "      <td>2018</td>\n",
       "      <td>1</td>\n",
       "    </tr>\n",
       "    <tr>\n",
       "      <th>3</th>\n",
       "      <td>2021</td>\n",
       "      <td>2</td>\n",
       "    </tr>\n",
       "    <tr>\n",
       "      <th>4</th>\n",
       "      <td>2022</td>\n",
       "      <td>1</td>\n",
       "    </tr>\n",
       "  </tbody>\n",
       "</table>\n",
       "</div>"
      ],
      "text/plain": [
       "     연도  조기폐차대수\n",
       "0  2013       1\n",
       "1  2015       1\n",
       "2  2018       1\n",
       "3  2021       2\n",
       "4  2022       1"
      ]
     },
     "execution_count": 169,
     "metadata": {},
     "output_type": "execute_result"
    }
   ],
   "source": [
    "grp4 = dfm.loc[dfm['조기폐차최종승인YN'] == 'Y'].groupby(['말소일자_년'], as_index=False)['차대번호'].count()\n",
    "grp4 = grp4.rename(columns={'말소일자_년':'연도', '차대번호':'조기폐차대수'})\n",
    "grp4"
   ]
  },
  {
   "cell_type": "code",
   "execution_count": 170,
   "metadata": {},
   "outputs": [
    {
     "data": {
      "text/html": [
       "<div>\n",
       "<style scoped>\n",
       "    .dataframe tbody tr th:only-of-type {\n",
       "        vertical-align: middle;\n",
       "    }\n",
       "\n",
       "    .dataframe tbody tr th {\n",
       "        vertical-align: top;\n",
       "    }\n",
       "\n",
       "    .dataframe thead th {\n",
       "        text-align: right;\n",
       "    }\n",
       "</style>\n",
       "<table border=\"1\" class=\"dataframe\">\n",
       "  <thead>\n",
       "    <tr style=\"text-align: right;\">\n",
       "      <th></th>\n",
       "      <th>연도</th>\n",
       "      <th>시도</th>\n",
       "      <th>차량대수</th>\n",
       "      <th>등록대수</th>\n",
       "      <th>말소대수</th>\n",
       "      <th>조기폐차대수</th>\n",
       "    </tr>\n",
       "  </thead>\n",
       "  <tbody>\n",
       "    <tr>\n",
       "      <th>0</th>\n",
       "      <td>2020</td>\n",
       "      <td>강원특별자치도</td>\n",
       "      <td>40483.00</td>\n",
       "      <td>1.00</td>\n",
       "      <td>0.00</td>\n",
       "      <td>NaN</td>\n",
       "    </tr>\n",
       "    <tr>\n",
       "      <th>1</th>\n",
       "      <td>2021</td>\n",
       "      <td>강원특별자치도</td>\n",
       "      <td>40483.00</td>\n",
       "      <td>0.00</td>\n",
       "      <td>0.00</td>\n",
       "      <td>2.00</td>\n",
       "    </tr>\n",
       "    <tr>\n",
       "      <th>2</th>\n",
       "      <td>2022</td>\n",
       "      <td>강원특별자치도</td>\n",
       "      <td>40483.00</td>\n",
       "      <td>0.00</td>\n",
       "      <td>0.00</td>\n",
       "      <td>1.00</td>\n",
       "    </tr>\n",
       "    <tr>\n",
       "      <th>3</th>\n",
       "      <td>2023</td>\n",
       "      <td>강원특별자치도</td>\n",
       "      <td>39204.00</td>\n",
       "      <td>0.00</td>\n",
       "      <td>1279.00</td>\n",
       "      <td>NaN</td>\n",
       "    </tr>\n",
       "    <tr>\n",
       "      <th>4</th>\n",
       "      <td>2020</td>\n",
       "      <td>경기도</td>\n",
       "      <td>314191.00</td>\n",
       "      <td>1.00</td>\n",
       "      <td>95909.00</td>\n",
       "      <td>NaN</td>\n",
       "    </tr>\n",
       "    <tr>\n",
       "      <th>...</th>\n",
       "      <td>...</td>\n",
       "      <td>...</td>\n",
       "      <td>...</td>\n",
       "      <td>...</td>\n",
       "      <td>...</td>\n",
       "      <td>...</td>\n",
       "    </tr>\n",
       "    <tr>\n",
       "      <th>63</th>\n",
       "      <td>2023</td>\n",
       "      <td>충청남도</td>\n",
       "      <td>53434.00</td>\n",
       "      <td>1.00</td>\n",
       "      <td>6528.00</td>\n",
       "      <td>NaN</td>\n",
       "    </tr>\n",
       "    <tr>\n",
       "      <th>64</th>\n",
       "      <td>2020</td>\n",
       "      <td>충청북도</td>\n",
       "      <td>68661.00</td>\n",
       "      <td>0.00</td>\n",
       "      <td>23584.00</td>\n",
       "      <td>NaN</td>\n",
       "    </tr>\n",
       "    <tr>\n",
       "      <th>65</th>\n",
       "      <td>2021</td>\n",
       "      <td>충청북도</td>\n",
       "      <td>49133.00</td>\n",
       "      <td>0.00</td>\n",
       "      <td>19528.00</td>\n",
       "      <td>2.00</td>\n",
       "    </tr>\n",
       "    <tr>\n",
       "      <th>66</th>\n",
       "      <td>2022</td>\n",
       "      <td>충청북도</td>\n",
       "      <td>40133.00</td>\n",
       "      <td>0.00</td>\n",
       "      <td>9000.00</td>\n",
       "      <td>1.00</td>\n",
       "    </tr>\n",
       "    <tr>\n",
       "      <th>67</th>\n",
       "      <td>2023</td>\n",
       "      <td>충청북도</td>\n",
       "      <td>35931.00</td>\n",
       "      <td>0.00</td>\n",
       "      <td>4202.00</td>\n",
       "      <td>NaN</td>\n",
       "    </tr>\n",
       "  </tbody>\n",
       "</table>\n",
       "<p>68 rows × 6 columns</p>\n",
       "</div>"
      ],
      "text/plain": [
       "      연도       시도      차량대수  등록대수     말소대수  조기폐차대수\n",
       "0   2020  강원특별자치도  40483.00  1.00     0.00     NaN\n",
       "1   2021  강원특별자치도  40483.00  0.00     0.00    2.00\n",
       "2   2022  강원특별자치도  40483.00  0.00     0.00    1.00\n",
       "3   2023  강원특별자치도  39204.00  0.00  1279.00     NaN\n",
       "4   2020      경기도 314191.00  1.00 95909.00     NaN\n",
       "..   ...      ...       ...   ...      ...     ...\n",
       "63  2023     충청남도  53434.00  1.00  6528.00     NaN\n",
       "64  2020     충청북도  68661.00  0.00 23584.00     NaN\n",
       "65  2021     충청북도  49133.00  0.00 19528.00    2.00\n",
       "66  2022     충청북도  40133.00  0.00  9000.00    1.00\n",
       "67  2023     충청북도  35931.00  0.00  4202.00     NaN\n",
       "\n",
       "[68 rows x 6 columns]"
      ]
     },
     "execution_count": 170,
     "metadata": {},
     "output_type": "execute_result"
    }
   ],
   "source": [
    "base4 = base3.merge(grp4, on='연도', how='left')\n",
    "base4"
   ]
  },
  {
   "cell_type": "code",
   "execution_count": 171,
   "metadata": {},
   "outputs": [
    {
     "data": {
      "text/html": [
       "<div>\n",
       "<style scoped>\n",
       "    .dataframe tbody tr th:only-of-type {\n",
       "        vertical-align: middle;\n",
       "    }\n",
       "\n",
       "    .dataframe tbody tr th {\n",
       "        vertical-align: top;\n",
       "    }\n",
       "\n",
       "    .dataframe thead th {\n",
       "        text-align: right;\n",
       "    }\n",
       "</style>\n",
       "<table border=\"1\" class=\"dataframe\">\n",
       "  <thead>\n",
       "    <tr style=\"text-align: right;\">\n",
       "      <th></th>\n",
       "      <th>연도</th>\n",
       "      <th>시도</th>\n",
       "      <th>차량대수</th>\n",
       "      <th>조기폐차대수</th>\n",
       "    </tr>\n",
       "  </thead>\n",
       "  <tbody>\n",
       "    <tr>\n",
       "      <th>0</th>\n",
       "      <td>2020</td>\n",
       "      <td>강원특별자치도</td>\n",
       "      <td>40483.00</td>\n",
       "      <td>0.00</td>\n",
       "    </tr>\n",
       "    <tr>\n",
       "      <th>1</th>\n",
       "      <td>2021</td>\n",
       "      <td>강원특별자치도</td>\n",
       "      <td>40483.00</td>\n",
       "      <td>2.00</td>\n",
       "    </tr>\n",
       "    <tr>\n",
       "      <th>2</th>\n",
       "      <td>2022</td>\n",
       "      <td>강원특별자치도</td>\n",
       "      <td>40483.00</td>\n",
       "      <td>1.00</td>\n",
       "    </tr>\n",
       "    <tr>\n",
       "      <th>3</th>\n",
       "      <td>2023</td>\n",
       "      <td>강원특별자치도</td>\n",
       "      <td>39204.00</td>\n",
       "      <td>0.00</td>\n",
       "    </tr>\n",
       "    <tr>\n",
       "      <th>4</th>\n",
       "      <td>2020</td>\n",
       "      <td>경기도</td>\n",
       "      <td>314191.00</td>\n",
       "      <td>0.00</td>\n",
       "    </tr>\n",
       "    <tr>\n",
       "      <th>...</th>\n",
       "      <td>...</td>\n",
       "      <td>...</td>\n",
       "      <td>...</td>\n",
       "      <td>...</td>\n",
       "    </tr>\n",
       "    <tr>\n",
       "      <th>63</th>\n",
       "      <td>2023</td>\n",
       "      <td>충청남도</td>\n",
       "      <td>53434.00</td>\n",
       "      <td>0.00</td>\n",
       "    </tr>\n",
       "    <tr>\n",
       "      <th>64</th>\n",
       "      <td>2020</td>\n",
       "      <td>충청북도</td>\n",
       "      <td>68661.00</td>\n",
       "      <td>0.00</td>\n",
       "    </tr>\n",
       "    <tr>\n",
       "      <th>65</th>\n",
       "      <td>2021</td>\n",
       "      <td>충청북도</td>\n",
       "      <td>49133.00</td>\n",
       "      <td>2.00</td>\n",
       "    </tr>\n",
       "    <tr>\n",
       "      <th>66</th>\n",
       "      <td>2022</td>\n",
       "      <td>충청북도</td>\n",
       "      <td>40133.00</td>\n",
       "      <td>1.00</td>\n",
       "    </tr>\n",
       "    <tr>\n",
       "      <th>67</th>\n",
       "      <td>2023</td>\n",
       "      <td>충청북도</td>\n",
       "      <td>35931.00</td>\n",
       "      <td>0.00</td>\n",
       "    </tr>\n",
       "  </tbody>\n",
       "</table>\n",
       "<p>68 rows × 4 columns</p>\n",
       "</div>"
      ],
      "text/plain": [
       "      연도       시도      차량대수  조기폐차대수\n",
       "0   2020  강원특별자치도  40483.00    0.00\n",
       "1   2021  강원특별자치도  40483.00    2.00\n",
       "2   2022  강원특별자치도  40483.00    1.00\n",
       "3   2023  강원특별자치도  39204.00    0.00\n",
       "4   2020      경기도 314191.00    0.00\n",
       "..   ...      ...       ...     ...\n",
       "63  2023     충청남도  53434.00    0.00\n",
       "64  2020     충청북도  68661.00    0.00\n",
       "65  2021     충청북도  49133.00    2.00\n",
       "66  2022     충청북도  40133.00    1.00\n",
       "67  2023     충청북도  35931.00    0.00\n",
       "\n",
       "[68 rows x 4 columns]"
      ]
     },
     "execution_count": 171,
     "metadata": {},
     "output_type": "execute_result"
    }
   ],
   "source": [
    "base4['조기폐차대수'] = base4['조기폐차대수'].fillna(0)\n",
    "base4 = base4.drop(['등록대수', '말소대수'], axis=1)\n",
    "base4"
   ]
  },
  {
   "cell_type": "code",
   "execution_count": 172,
   "metadata": {},
   "outputs": [],
   "source": [
    "n = len(base4['연도'].unique())\n",
    "for i in range(base4.shape[0] // n):\n",
    "    for j in range(n-1):\n",
    "        base4.loc[i*4 + j+1, '감소대수'] = base4.loc[i*4 + j, '차량대수'] - base4.loc[i*4 + j+1, '차량대수']"
   ]
  },
  {
   "cell_type": "code",
   "execution_count": 173,
   "metadata": {},
   "outputs": [
    {
     "data": {
      "text/html": [
       "<div>\n",
       "<style scoped>\n",
       "    .dataframe tbody tr th:only-of-type {\n",
       "        vertical-align: middle;\n",
       "    }\n",
       "\n",
       "    .dataframe tbody tr th {\n",
       "        vertical-align: top;\n",
       "    }\n",
       "\n",
       "    .dataframe thead th {\n",
       "        text-align: right;\n",
       "    }\n",
       "</style>\n",
       "<table border=\"1\" class=\"dataframe\">\n",
       "  <thead>\n",
       "    <tr style=\"text-align: right;\">\n",
       "      <th></th>\n",
       "      <th>연도</th>\n",
       "      <th>시도</th>\n",
       "      <th>차량대수</th>\n",
       "      <th>조기폐차대수</th>\n",
       "      <th>감소대수</th>\n",
       "    </tr>\n",
       "  </thead>\n",
       "  <tbody>\n",
       "    <tr>\n",
       "      <th>0</th>\n",
       "      <td>2020</td>\n",
       "      <td>강원특별자치도</td>\n",
       "      <td>40483.00</td>\n",
       "      <td>0.00</td>\n",
       "      <td>NaN</td>\n",
       "    </tr>\n",
       "    <tr>\n",
       "      <th>1</th>\n",
       "      <td>2021</td>\n",
       "      <td>강원특별자치도</td>\n",
       "      <td>40483.00</td>\n",
       "      <td>2.00</td>\n",
       "      <td>0.00</td>\n",
       "    </tr>\n",
       "    <tr>\n",
       "      <th>2</th>\n",
       "      <td>2022</td>\n",
       "      <td>강원특별자치도</td>\n",
       "      <td>40483.00</td>\n",
       "      <td>1.00</td>\n",
       "      <td>0.00</td>\n",
       "    </tr>\n",
       "    <tr>\n",
       "      <th>3</th>\n",
       "      <td>2023</td>\n",
       "      <td>강원특별자치도</td>\n",
       "      <td>39204.00</td>\n",
       "      <td>0.00</td>\n",
       "      <td>1279.00</td>\n",
       "    </tr>\n",
       "    <tr>\n",
       "      <th>4</th>\n",
       "      <td>2020</td>\n",
       "      <td>경기도</td>\n",
       "      <td>314191.00</td>\n",
       "      <td>0.00</td>\n",
       "      <td>NaN</td>\n",
       "    </tr>\n",
       "    <tr>\n",
       "      <th>...</th>\n",
       "      <td>...</td>\n",
       "      <td>...</td>\n",
       "      <td>...</td>\n",
       "      <td>...</td>\n",
       "      <td>...</td>\n",
       "    </tr>\n",
       "    <tr>\n",
       "      <th>63</th>\n",
       "      <td>2023</td>\n",
       "      <td>충청남도</td>\n",
       "      <td>53434.00</td>\n",
       "      <td>0.00</td>\n",
       "      <td>6527.00</td>\n",
       "    </tr>\n",
       "    <tr>\n",
       "      <th>64</th>\n",
       "      <td>2020</td>\n",
       "      <td>충청북도</td>\n",
       "      <td>68661.00</td>\n",
       "      <td>0.00</td>\n",
       "      <td>NaN</td>\n",
       "    </tr>\n",
       "    <tr>\n",
       "      <th>65</th>\n",
       "      <td>2021</td>\n",
       "      <td>충청북도</td>\n",
       "      <td>49133.00</td>\n",
       "      <td>2.00</td>\n",
       "      <td>19528.00</td>\n",
       "    </tr>\n",
       "    <tr>\n",
       "      <th>66</th>\n",
       "      <td>2022</td>\n",
       "      <td>충청북도</td>\n",
       "      <td>40133.00</td>\n",
       "      <td>1.00</td>\n",
       "      <td>9000.00</td>\n",
       "    </tr>\n",
       "    <tr>\n",
       "      <th>67</th>\n",
       "      <td>2023</td>\n",
       "      <td>충청북도</td>\n",
       "      <td>35931.00</td>\n",
       "      <td>0.00</td>\n",
       "      <td>4202.00</td>\n",
       "    </tr>\n",
       "  </tbody>\n",
       "</table>\n",
       "<p>68 rows × 5 columns</p>\n",
       "</div>"
      ],
      "text/plain": [
       "      연도       시도      차량대수  조기폐차대수     감소대수\n",
       "0   2020  강원특별자치도  40483.00    0.00      NaN\n",
       "1   2021  강원특별자치도  40483.00    2.00     0.00\n",
       "2   2022  강원특별자치도  40483.00    1.00     0.00\n",
       "3   2023  강원특별자치도  39204.00    0.00  1279.00\n",
       "4   2020      경기도 314191.00    0.00      NaN\n",
       "..   ...      ...       ...     ...      ...\n",
       "63  2023     충청남도  53434.00    0.00  6527.00\n",
       "64  2020     충청북도  68661.00    0.00      NaN\n",
       "65  2021     충청북도  49133.00    2.00 19528.00\n",
       "66  2022     충청북도  40133.00    1.00  9000.00\n",
       "67  2023     충청북도  35931.00    0.00  4202.00\n",
       "\n",
       "[68 rows x 5 columns]"
      ]
     },
     "execution_count": 173,
     "metadata": {},
     "output_type": "execute_result"
    }
   ],
   "source": [
    "base4"
   ]
  },
  {
   "cell_type": "code",
   "execution_count": 174,
   "metadata": {},
   "outputs": [],
   "source": [
    "base4['자연감소대수'] = base4['감소대수'] - base4['조기폐차대수']"
   ]
  },
  {
   "cell_type": "code",
   "execution_count": 175,
   "metadata": {},
   "outputs": [
    {
     "data": {
      "text/html": [
       "<div>\n",
       "<style scoped>\n",
       "    .dataframe tbody tr th:only-of-type {\n",
       "        vertical-align: middle;\n",
       "    }\n",
       "\n",
       "    .dataframe tbody tr th {\n",
       "        vertical-align: top;\n",
       "    }\n",
       "\n",
       "    .dataframe thead th {\n",
       "        text-align: right;\n",
       "    }\n",
       "</style>\n",
       "<table border=\"1\" class=\"dataframe\">\n",
       "  <thead>\n",
       "    <tr style=\"text-align: right;\">\n",
       "      <th></th>\n",
       "      <th>연도</th>\n",
       "      <th>시도</th>\n",
       "      <th>차량대수</th>\n",
       "      <th>조기폐차대수</th>\n",
       "      <th>감소대수</th>\n",
       "      <th>자연감소대수</th>\n",
       "    </tr>\n",
       "  </thead>\n",
       "  <tbody>\n",
       "    <tr>\n",
       "      <th>0</th>\n",
       "      <td>2020</td>\n",
       "      <td>강원특별자치도</td>\n",
       "      <td>40483.00</td>\n",
       "      <td>0.00</td>\n",
       "      <td>NaN</td>\n",
       "      <td>NaN</td>\n",
       "    </tr>\n",
       "    <tr>\n",
       "      <th>1</th>\n",
       "      <td>2021</td>\n",
       "      <td>강원특별자치도</td>\n",
       "      <td>40483.00</td>\n",
       "      <td>2.00</td>\n",
       "      <td>0.00</td>\n",
       "      <td>-2.00</td>\n",
       "    </tr>\n",
       "    <tr>\n",
       "      <th>2</th>\n",
       "      <td>2022</td>\n",
       "      <td>강원특별자치도</td>\n",
       "      <td>40483.00</td>\n",
       "      <td>1.00</td>\n",
       "      <td>0.00</td>\n",
       "      <td>-1.00</td>\n",
       "    </tr>\n",
       "    <tr>\n",
       "      <th>3</th>\n",
       "      <td>2023</td>\n",
       "      <td>강원특별자치도</td>\n",
       "      <td>39204.00</td>\n",
       "      <td>0.00</td>\n",
       "      <td>1279.00</td>\n",
       "      <td>1279.00</td>\n",
       "    </tr>\n",
       "    <tr>\n",
       "      <th>4</th>\n",
       "      <td>2020</td>\n",
       "      <td>경기도</td>\n",
       "      <td>314191.00</td>\n",
       "      <td>0.00</td>\n",
       "      <td>NaN</td>\n",
       "      <td>NaN</td>\n",
       "    </tr>\n",
       "    <tr>\n",
       "      <th>...</th>\n",
       "      <td>...</td>\n",
       "      <td>...</td>\n",
       "      <td>...</td>\n",
       "      <td>...</td>\n",
       "      <td>...</td>\n",
       "      <td>...</td>\n",
       "    </tr>\n",
       "    <tr>\n",
       "      <th>63</th>\n",
       "      <td>2023</td>\n",
       "      <td>충청남도</td>\n",
       "      <td>53434.00</td>\n",
       "      <td>0.00</td>\n",
       "      <td>6527.00</td>\n",
       "      <td>6527.00</td>\n",
       "    </tr>\n",
       "    <tr>\n",
       "      <th>64</th>\n",
       "      <td>2020</td>\n",
       "      <td>충청북도</td>\n",
       "      <td>68661.00</td>\n",
       "      <td>0.00</td>\n",
       "      <td>NaN</td>\n",
       "      <td>NaN</td>\n",
       "    </tr>\n",
       "    <tr>\n",
       "      <th>65</th>\n",
       "      <td>2021</td>\n",
       "      <td>충청북도</td>\n",
       "      <td>49133.00</td>\n",
       "      <td>2.00</td>\n",
       "      <td>19528.00</td>\n",
       "      <td>19526.00</td>\n",
       "    </tr>\n",
       "    <tr>\n",
       "      <th>66</th>\n",
       "      <td>2022</td>\n",
       "      <td>충청북도</td>\n",
       "      <td>40133.00</td>\n",
       "      <td>1.00</td>\n",
       "      <td>9000.00</td>\n",
       "      <td>8999.00</td>\n",
       "    </tr>\n",
       "    <tr>\n",
       "      <th>67</th>\n",
       "      <td>2023</td>\n",
       "      <td>충청북도</td>\n",
       "      <td>35931.00</td>\n",
       "      <td>0.00</td>\n",
       "      <td>4202.00</td>\n",
       "      <td>4202.00</td>\n",
       "    </tr>\n",
       "  </tbody>\n",
       "</table>\n",
       "<p>68 rows × 6 columns</p>\n",
       "</div>"
      ],
      "text/plain": [
       "      연도       시도      차량대수  조기폐차대수     감소대수   자연감소대수\n",
       "0   2020  강원특별자치도  40483.00    0.00      NaN      NaN\n",
       "1   2021  강원특별자치도  40483.00    2.00     0.00    -2.00\n",
       "2   2022  강원특별자치도  40483.00    1.00     0.00    -1.00\n",
       "3   2023  강원특별자치도  39204.00    0.00  1279.00  1279.00\n",
       "4   2020      경기도 314191.00    0.00      NaN      NaN\n",
       "..   ...      ...       ...     ...      ...      ...\n",
       "63  2023     충청남도  53434.00    0.00  6527.00  6527.00\n",
       "64  2020     충청북도  68661.00    0.00      NaN      NaN\n",
       "65  2021     충청북도  49133.00    2.00 19528.00 19526.00\n",
       "66  2022     충청북도  40133.00    1.00  9000.00  8999.00\n",
       "67  2023     충청북도  35931.00    0.00  4202.00  4202.00\n",
       "\n",
       "[68 rows x 6 columns]"
      ]
     },
     "execution_count": 175,
     "metadata": {},
     "output_type": "execute_result"
    }
   ],
   "source": [
    "base4"
   ]
  },
  {
   "cell_type": "code",
   "execution_count": 176,
   "metadata": {},
   "outputs": [
    {
     "data": {
      "text/plain": [
       "(2, 6)"
      ]
     },
     "execution_count": 176,
     "metadata": {},
     "output_type": "execute_result"
    }
   ],
   "source": [
    "# 음수 존재하여 사용 못함\n",
    "base4[base4['자연감소대수'] < 0].shape"
   ]
  },
  {
   "cell_type": "code",
   "execution_count": 177,
   "metadata": {},
   "outputs": [
    {
     "data": {
      "text/plain": [
       "'20230901'"
      ]
     },
     "execution_count": 177,
     "metadata": {},
     "output_type": "execute_result"
    }
   ],
   "source": [
    "today_date = datetime.today().strftime(\"%Y%m%d\")\n",
    "today_date"
   ]
  },
  {
   "cell_type": "code",
   "execution_count": 178,
   "metadata": {},
   "outputs": [
    {
     "data": {
      "text/html": [
       "<div>\n",
       "<style scoped>\n",
       "    .dataframe tbody tr th:only-of-type {\n",
       "        vertical-align: middle;\n",
       "    }\n",
       "\n",
       "    .dataframe tbody tr th {\n",
       "        vertical-align: top;\n",
       "    }\n",
       "\n",
       "    .dataframe thead th {\n",
       "        text-align: right;\n",
       "    }\n",
       "</style>\n",
       "<table border=\"1\" class=\"dataframe\">\n",
       "  <thead>\n",
       "    <tr style=\"text-align: right;\">\n",
       "      <th></th>\n",
       "      <th>RGN</th>\n",
       "      <th>YR</th>\n",
       "      <th>VHCL_MKCNT</th>\n",
       "      <th>VHCL_REDE</th>\n",
       "      <th>ELPDSRC</th>\n",
       "      <th>NTRL_DCLN</th>\n",
       "    </tr>\n",
       "  </thead>\n",
       "  <tbody>\n",
       "    <tr>\n",
       "      <th>0</th>\n",
       "      <td>서울</td>\n",
       "      <td>2019</td>\n",
       "      <td>199898</td>\n",
       "      <td>46949.67</td>\n",
       "      <td>31792.00</td>\n",
       "      <td>15157.67</td>\n",
       "    </tr>\n",
       "    <tr>\n",
       "      <th>1</th>\n",
       "      <td>서울</td>\n",
       "      <td>2020</td>\n",
       "      <td>161864</td>\n",
       "      <td>38034.00</td>\n",
       "      <td>23045.00</td>\n",
       "      <td>14989.00</td>\n",
       "    </tr>\n",
       "    <tr>\n",
       "      <th>2</th>\n",
       "      <td>서울</td>\n",
       "      <td>2021</td>\n",
       "      <td>138381</td>\n",
       "      <td>23483.00</td>\n",
       "      <td>8148.00</td>\n",
       "      <td>15335.00</td>\n",
       "    </tr>\n",
       "    <tr>\n",
       "      <th>3</th>\n",
       "      <td>서울</td>\n",
       "      <td>2022</td>\n",
       "      <td>120996</td>\n",
       "      <td>17385.00</td>\n",
       "      <td>2476.00</td>\n",
       "      <td>14909.00</td>\n",
       "    </tr>\n",
       "    <tr>\n",
       "      <th>4</th>\n",
       "      <td>인천</td>\n",
       "      <td>2019</td>\n",
       "      <td>90619</td>\n",
       "      <td>20596.67</td>\n",
       "      <td>16421.67</td>\n",
       "      <td>4175.00</td>\n",
       "    </tr>\n",
       "  </tbody>\n",
       "</table>\n",
       "</div>"
      ],
      "text/plain": [
       "  RGN    YR  VHCL_MKCNT  VHCL_REDE  ELPDSRC  NTRL_DCLN\n",
       "0  서울  2019      199898   46949.67 31792.00   15157.67\n",
       "1  서울  2020      161864   38034.00 23045.00   14989.00\n",
       "2  서울  2021      138381   23483.00  8148.00   15335.00\n",
       "3  서울  2022      120996   17385.00  2476.00   14909.00\n",
       "4  인천  2019       90619   20596.67 16421.67    4175.00"
      ]
     },
     "execution_count": 178,
     "metadata": {},
     "output_type": "execute_result"
    }
   ],
   "source": [
    "df1.head()"
   ]
  },
  {
   "cell_type": "code",
   "execution_count": 179,
   "metadata": {},
   "outputs": [],
   "source": [
    "df1['LOAD_DT'] = today_date"
   ]
  },
  {
   "cell_type": "code",
   "execution_count": 180,
   "metadata": {},
   "outputs": [],
   "source": [
    "df1[['VHCL_REDE', 'ELPDSRC', 'NTRL_DCLN']] = df1[['VHCL_REDE', 'ELPDSRC', 'NTRL_DCLN']].round(0)"
   ]
  },
  {
   "cell_type": "code",
   "execution_count": 181,
   "metadata": {},
   "outputs": [
    {
     "data": {
      "text/html": [
       "<div>\n",
       "<style scoped>\n",
       "    .dataframe tbody tr th:only-of-type {\n",
       "        vertical-align: middle;\n",
       "    }\n",
       "\n",
       "    .dataframe tbody tr th {\n",
       "        vertical-align: top;\n",
       "    }\n",
       "\n",
       "    .dataframe thead th {\n",
       "        text-align: right;\n",
       "    }\n",
       "</style>\n",
       "<table border=\"1\" class=\"dataframe\">\n",
       "  <thead>\n",
       "    <tr style=\"text-align: right;\">\n",
       "      <th></th>\n",
       "      <th>RGN</th>\n",
       "      <th>YR</th>\n",
       "      <th>VHCL_MKCNT</th>\n",
       "      <th>VHCL_REDE</th>\n",
       "      <th>ELPDSRC</th>\n",
       "      <th>NTRL_DCLN</th>\n",
       "      <th>LOAD_DT</th>\n",
       "    </tr>\n",
       "  </thead>\n",
       "  <tbody>\n",
       "    <tr>\n",
       "      <th>0</th>\n",
       "      <td>서울</td>\n",
       "      <td>2019</td>\n",
       "      <td>199898</td>\n",
       "      <td>46950.00</td>\n",
       "      <td>31792.00</td>\n",
       "      <td>15158.00</td>\n",
       "      <td>20230901</td>\n",
       "    </tr>\n",
       "    <tr>\n",
       "      <th>1</th>\n",
       "      <td>서울</td>\n",
       "      <td>2020</td>\n",
       "      <td>161864</td>\n",
       "      <td>38034.00</td>\n",
       "      <td>23045.00</td>\n",
       "      <td>14989.00</td>\n",
       "      <td>20230901</td>\n",
       "    </tr>\n",
       "    <tr>\n",
       "      <th>2</th>\n",
       "      <td>서울</td>\n",
       "      <td>2021</td>\n",
       "      <td>138381</td>\n",
       "      <td>23483.00</td>\n",
       "      <td>8148.00</td>\n",
       "      <td>15335.00</td>\n",
       "      <td>20230901</td>\n",
       "    </tr>\n",
       "    <tr>\n",
       "      <th>3</th>\n",
       "      <td>서울</td>\n",
       "      <td>2022</td>\n",
       "      <td>120996</td>\n",
       "      <td>17385.00</td>\n",
       "      <td>2476.00</td>\n",
       "      <td>14909.00</td>\n",
       "      <td>20230901</td>\n",
       "    </tr>\n",
       "    <tr>\n",
       "      <th>4</th>\n",
       "      <td>인천</td>\n",
       "      <td>2019</td>\n",
       "      <td>90619</td>\n",
       "      <td>20597.00</td>\n",
       "      <td>16422.00</td>\n",
       "      <td>4175.00</td>\n",
       "      <td>20230901</td>\n",
       "    </tr>\n",
       "    <tr>\n",
       "      <th>...</th>\n",
       "      <td>...</td>\n",
       "      <td>...</td>\n",
       "      <td>...</td>\n",
       "      <td>...</td>\n",
       "      <td>...</td>\n",
       "      <td>...</td>\n",
       "      <td>...</td>\n",
       "    </tr>\n",
       "    <tr>\n",
       "      <th>63</th>\n",
       "      <td>경남</td>\n",
       "      <td>2022</td>\n",
       "      <td>98885</td>\n",
       "      <td>24199.00</td>\n",
       "      <td>14765.00</td>\n",
       "      <td>9434.00</td>\n",
       "      <td>20230901</td>\n",
       "    </tr>\n",
       "    <tr>\n",
       "      <th>64</th>\n",
       "      <td>제주</td>\n",
       "      <td>2019</td>\n",
       "      <td>44978</td>\n",
       "      <td>9340.00</td>\n",
       "      <td>5424.00</td>\n",
       "      <td>3915.00</td>\n",
       "      <td>20230901</td>\n",
       "    </tr>\n",
       "    <tr>\n",
       "      <th>65</th>\n",
       "      <td>제주</td>\n",
       "      <td>2020</td>\n",
       "      <td>37016</td>\n",
       "      <td>7962.00</td>\n",
       "      <td>4562.00</td>\n",
       "      <td>3400.00</td>\n",
       "      <td>20230901</td>\n",
       "    </tr>\n",
       "    <tr>\n",
       "      <th>66</th>\n",
       "      <td>제주</td>\n",
       "      <td>2021</td>\n",
       "      <td>29057</td>\n",
       "      <td>7959.00</td>\n",
       "      <td>4501.00</td>\n",
       "      <td>3458.00</td>\n",
       "      <td>20230901</td>\n",
       "    </tr>\n",
       "    <tr>\n",
       "      <th>67</th>\n",
       "      <td>제주</td>\n",
       "      <td>2022</td>\n",
       "      <td>23163</td>\n",
       "      <td>5894.00</td>\n",
       "      <td>3238.00</td>\n",
       "      <td>2656.00</td>\n",
       "      <td>20230901</td>\n",
       "    </tr>\n",
       "  </tbody>\n",
       "</table>\n",
       "<p>68 rows × 7 columns</p>\n",
       "</div>"
      ],
      "text/plain": [
       "   RGN    YR  VHCL_MKCNT  VHCL_REDE  ELPDSRC  NTRL_DCLN   LOAD_DT\n",
       "0   서울  2019      199898   46950.00 31792.00   15158.00  20230901\n",
       "1   서울  2020      161864   38034.00 23045.00   14989.00  20230901\n",
       "2   서울  2021      138381   23483.00  8148.00   15335.00  20230901\n",
       "3   서울  2022      120996   17385.00  2476.00   14909.00  20230901\n",
       "4   인천  2019       90619   20597.00 16422.00    4175.00  20230901\n",
       "..  ..   ...         ...        ...      ...        ...       ...\n",
       "63  경남  2022       98885   24199.00 14765.00    9434.00  20230901\n",
       "64  제주  2019       44978    9340.00  5424.00    3915.00  20230901\n",
       "65  제주  2020       37016    7962.00  4562.00    3400.00  20230901\n",
       "66  제주  2021       29057    7959.00  4501.00    3458.00  20230901\n",
       "67  제주  2022       23163    5894.00  3238.00    2656.00  20230901\n",
       "\n",
       "[68 rows x 7 columns]"
      ]
     },
     "execution_count": 181,
     "metadata": {},
     "output_type": "execute_result"
    }
   ],
   "source": [
    "df1"
   ]
  },
  {
   "cell_type": "code",
   "execution_count": 182,
   "metadata": {},
   "outputs": [
    {
     "data": {
      "text/plain": [
       "Index(['RGN', 'YR', 'VHCL_MKCNT', 'VHCL_REDE', 'ELPDSRC', 'NTRL_DCLN',\n",
       "       'LOAD_DT'],\n",
       "      dtype='object')"
      ]
     },
     "execution_count": 182,
     "metadata": {},
     "output_type": "execute_result"
    }
   ],
   "source": [
    "STD_BD_GRD5_ELPDSRC_CURSTT = df1.copy()\n",
    "STD_BD_GRD5_ELPDSRC_CURSTT.columns"
   ]
  },
  {
   "cell_type": "code",
   "execution_count": 183,
   "metadata": {},
   "outputs": [
    {
     "data": {
      "text/html": [
       "<div>\n",
       "<style scoped>\n",
       "    .dataframe tbody tr th:only-of-type {\n",
       "        vertical-align: middle;\n",
       "    }\n",
       "\n",
       "    .dataframe tbody tr th {\n",
       "        vertical-align: top;\n",
       "    }\n",
       "\n",
       "    .dataframe thead th {\n",
       "        text-align: right;\n",
       "    }\n",
       "</style>\n",
       "<table border=\"1\" class=\"dataframe\">\n",
       "  <thead>\n",
       "    <tr style=\"text-align: right;\">\n",
       "      <th></th>\n",
       "      <th>RGN</th>\n",
       "      <th>YR</th>\n",
       "      <th>VHCL_MKCNT</th>\n",
       "      <th>VHCL_REDE</th>\n",
       "      <th>ELPDSRC</th>\n",
       "      <th>NTRL_DCLN</th>\n",
       "      <th>LOAD_DT</th>\n",
       "    </tr>\n",
       "  </thead>\n",
       "  <tbody>\n",
       "    <tr>\n",
       "      <th>0</th>\n",
       "      <td>서울</td>\n",
       "      <td>2019</td>\n",
       "      <td>199898</td>\n",
       "      <td>46950.00</td>\n",
       "      <td>31792.00</td>\n",
       "      <td>15158.00</td>\n",
       "      <td>20230901</td>\n",
       "    </tr>\n",
       "    <tr>\n",
       "      <th>1</th>\n",
       "      <td>서울</td>\n",
       "      <td>2020</td>\n",
       "      <td>161864</td>\n",
       "      <td>38034.00</td>\n",
       "      <td>23045.00</td>\n",
       "      <td>14989.00</td>\n",
       "      <td>20230901</td>\n",
       "    </tr>\n",
       "    <tr>\n",
       "      <th>2</th>\n",
       "      <td>서울</td>\n",
       "      <td>2021</td>\n",
       "      <td>138381</td>\n",
       "      <td>23483.00</td>\n",
       "      <td>8148.00</td>\n",
       "      <td>15335.00</td>\n",
       "      <td>20230901</td>\n",
       "    </tr>\n",
       "    <tr>\n",
       "      <th>3</th>\n",
       "      <td>서울</td>\n",
       "      <td>2022</td>\n",
       "      <td>120996</td>\n",
       "      <td>17385.00</td>\n",
       "      <td>2476.00</td>\n",
       "      <td>14909.00</td>\n",
       "      <td>20230901</td>\n",
       "    </tr>\n",
       "    <tr>\n",
       "      <th>4</th>\n",
       "      <td>인천</td>\n",
       "      <td>2019</td>\n",
       "      <td>90619</td>\n",
       "      <td>20597.00</td>\n",
       "      <td>16422.00</td>\n",
       "      <td>4175.00</td>\n",
       "      <td>20230901</td>\n",
       "    </tr>\n",
       "  </tbody>\n",
       "</table>\n",
       "</div>"
      ],
      "text/plain": [
       "  RGN    YR  VHCL_MKCNT  VHCL_REDE  ELPDSRC  NTRL_DCLN   LOAD_DT\n",
       "0  서울  2019      199898   46950.00 31792.00   15158.00  20230901\n",
       "1  서울  2020      161864   38034.00 23045.00   14989.00  20230901\n",
       "2  서울  2021      138381   23483.00  8148.00   15335.00  20230901\n",
       "3  서울  2022      120996   17385.00  2476.00   14909.00  20230901\n",
       "4  인천  2019       90619   20597.00 16422.00    4175.00  20230901"
      ]
     },
     "execution_count": 183,
     "metadata": {},
     "output_type": "execute_result"
    }
   ],
   "source": [
    "STD_BD_GRD5_ELPDSRC_CURSTT.head()"
   ]
  },
  {
   "cell_type": "code",
   "execution_count": 184,
   "metadata": {},
   "outputs": [],
   "source": [
    "# !!! 수정(2023.08.31)\n",
    "try:\n",
    "    STD_BD_GRD5_ELPDSRC_CURSTT['VHCL_MKCNT'] = STD_BD_GRD5_ELPDSRC_CURSTT['VHCL_MKCNT'].str.replace(',', '')\n",
    "    STD_BD_GRD5_ELPDSRC_CURSTT['VHCL_REDE'] = STD_BD_GRD5_ELPDSRC_CURSTT['VHCL_REDE'].str.replace(',', '')\n",
    "    STD_BD_GRD5_ELPDSRC_CURSTT['ELPDSRC'] = STD_BD_GRD5_ELPDSRC_CURSTT['ELPDSRC'].str.replace(',', '')\n",
    "    STD_BD_GRD5_ELPDSRC_CURSTT['NTRL_DCLN'] = STD_BD_GRD5_ELPDSRC_CURSTT['NTRL_DCLN'].str.replace(',', '')\n",
    "    STD_BD_GRD5_ELPDSRC_CURSTT['VHCL_MKCNT'] = pd.to_numeric(STD_BD_GRD5_ELPDSRC_CURSTT['VHCL_MKCNT'], errors='coerce')\n",
    "    STD_BD_GRD5_ELPDSRC_CURSTT['VHCL_REDE'] = pd.to_numeric(STD_BD_GRD5_ELPDSRC_CURSTT['VHCL_REDE'], errors='coerce')\n",
    "    STD_BD_GRD5_ELPDSRC_CURSTT['ELPDSRC'] = pd.to_numeric(STD_BD_GRD5_ELPDSRC_CURSTT['ELPDSRC'], errors='coerce')\n",
    "    STD_BD_GRD5_ELPDSRC_CURSTT['NTRL_DCLN'] = pd.to_numeric(STD_BD_GRD5_ELPDSRC_CURSTT['NTRL_DCLN'], errors='coerce')\n",
    "except:\n",
    "    pass"
   ]
  },
  {
   "cell_type": "code",
   "execution_count": 185,
   "metadata": {},
   "outputs": [
    {
     "data": {
      "text/html": [
       "<div>\n",
       "<style scoped>\n",
       "    .dataframe tbody tr th:only-of-type {\n",
       "        vertical-align: middle;\n",
       "    }\n",
       "\n",
       "    .dataframe tbody tr th {\n",
       "        vertical-align: top;\n",
       "    }\n",
       "\n",
       "    .dataframe thead th {\n",
       "        text-align: right;\n",
       "    }\n",
       "</style>\n",
       "<table border=\"1\" class=\"dataframe\">\n",
       "  <thead>\n",
       "    <tr style=\"text-align: right;\">\n",
       "      <th></th>\n",
       "      <th>RGN</th>\n",
       "      <th>YR</th>\n",
       "      <th>VHCL_MKCNT</th>\n",
       "      <th>VHCL_REDE</th>\n",
       "      <th>ELPDSRC</th>\n",
       "      <th>NTRL_DCLN</th>\n",
       "      <th>LOAD_DT</th>\n",
       "    </tr>\n",
       "  </thead>\n",
       "  <tbody>\n",
       "    <tr>\n",
       "      <th>0</th>\n",
       "      <td>서울</td>\n",
       "      <td>2019</td>\n",
       "      <td>199898</td>\n",
       "      <td>46950.00</td>\n",
       "      <td>31792.00</td>\n",
       "      <td>15158.00</td>\n",
       "      <td>20230901</td>\n",
       "    </tr>\n",
       "    <tr>\n",
       "      <th>1</th>\n",
       "      <td>서울</td>\n",
       "      <td>2020</td>\n",
       "      <td>161864</td>\n",
       "      <td>38034.00</td>\n",
       "      <td>23045.00</td>\n",
       "      <td>14989.00</td>\n",
       "      <td>20230901</td>\n",
       "    </tr>\n",
       "    <tr>\n",
       "      <th>2</th>\n",
       "      <td>서울</td>\n",
       "      <td>2021</td>\n",
       "      <td>138381</td>\n",
       "      <td>23483.00</td>\n",
       "      <td>8148.00</td>\n",
       "      <td>15335.00</td>\n",
       "      <td>20230901</td>\n",
       "    </tr>\n",
       "    <tr>\n",
       "      <th>3</th>\n",
       "      <td>서울</td>\n",
       "      <td>2022</td>\n",
       "      <td>120996</td>\n",
       "      <td>17385.00</td>\n",
       "      <td>2476.00</td>\n",
       "      <td>14909.00</td>\n",
       "      <td>20230901</td>\n",
       "    </tr>\n",
       "    <tr>\n",
       "      <th>4</th>\n",
       "      <td>인천</td>\n",
       "      <td>2019</td>\n",
       "      <td>90619</td>\n",
       "      <td>20597.00</td>\n",
       "      <td>16422.00</td>\n",
       "      <td>4175.00</td>\n",
       "      <td>20230901</td>\n",
       "    </tr>\n",
       "  </tbody>\n",
       "</table>\n",
       "</div>"
      ],
      "text/plain": [
       "  RGN    YR  VHCL_MKCNT  VHCL_REDE  ELPDSRC  NTRL_DCLN   LOAD_DT\n",
       "0  서울  2019      199898   46950.00 31792.00   15158.00  20230901\n",
       "1  서울  2020      161864   38034.00 23045.00   14989.00  20230901\n",
       "2  서울  2021      138381   23483.00  8148.00   15335.00  20230901\n",
       "3  서울  2022      120996   17385.00  2476.00   14909.00  20230901\n",
       "4  인천  2019       90619   20597.00 16422.00    4175.00  20230901"
      ]
     },
     "execution_count": 185,
     "metadata": {},
     "output_type": "execute_result"
    }
   ],
   "source": [
    "STD_BD_GRD5_ELPDSRC_CURSTT.head()"
   ]
  },
  {
   "cell_type": "code",
   "execution_count": 186,
   "metadata": {},
   "outputs": [
    {
     "name": "stdout",
     "output_type": "stream",
     "text": [
      "<class 'pandas.core.frame.DataFrame'>\n",
      "RangeIndex: 68 entries, 0 to 67\n",
      "Data columns (total 7 columns):\n",
      " #   Column      Non-Null Count  Dtype  \n",
      "---  ------      --------------  -----  \n",
      " 0   RGN         68 non-null     object \n",
      " 1   YR          68 non-null     int64  \n",
      " 2   VHCL_MKCNT  68 non-null     int64  \n",
      " 3   VHCL_REDE   68 non-null     float64\n",
      " 4   ELPDSRC     68 non-null     float64\n",
      " 5   NTRL_DCLN   68 non-null     float64\n",
      " 6   LOAD_DT     68 non-null     object \n",
      "dtypes: float64(3), int64(2), object(2)\n",
      "memory usage: 3.8+ KB\n"
     ]
    }
   ],
   "source": [
    "STD_BD_GRD5_ELPDSRC_CURSTT.info()"
   ]
  },
  {
   "cell_type": "markdown",
   "metadata": {},
   "source": [
    "### [출력] [D] STD_BD_GRD5_ELPDSRC_CURSTT"
   ]
  },
  {
   "cell_type": "code",
   "execution_count": 187,
   "metadata": {},
   "outputs": [],
   "source": [
    "# expdf = STD_BD_GRD5_ELPDSRC_CURSTT\n",
    "# table_nm = 'STD_BD_GRD5_ELPDSRC_CURSTT'.upper()\n",
    "\n",
    "# # 테이블 생성\n",
    "# sql = 'create or replace table ' + table_nm + '( \\n'\n",
    "\n",
    "# for idx,column in enumerate(expdf.columns):\n",
    "#     if 'float' in expdf[column].dtype.name:\n",
    "#         sql += column + ' float'\n",
    "#     elif 'int' in expdf[column].dtype.name:\n",
    "#         sql += column + ' number'\n",
    "#     else:\n",
    "#         sql += column + ' varchar(255)'\n",
    "\n",
    "#     if len(expdf.columns) - 1 != idx:\n",
    "#         sql += ','\n",
    "#     sql += '\\n'\n",
    "# sql += ')'    \n",
    "# we.execute(sql)\n",
    "\n",
    "# # 데이터 추가\n",
    "# # 5s\n",
    "# we.import_from_pandas(expdf, table_nm)"
   ]
  },
  {
   "cell_type": "code",
   "execution_count": 188,
   "metadata": {},
   "outputs": [],
   "source": [
    "# # 1.3s\n",
    "# STD_BD_GRD5_ELPDSRC_CURSTT.to_csv(os.path.join(df3_fold, 'STD_BD_GRD5_ELPDSRC_CURSTT.csv'), index=False)"
   ]
  },
  {
   "cell_type": "markdown",
   "metadata": {},
   "source": [
    "## 5등급 지역별 저공해미조치 차량현황"
   ]
  },
  {
   "cell_type": "code",
   "execution_count": 189,
   "metadata": {},
   "outputs": [],
   "source": [
    "no_dpf['테이블생성일자'] = today_date"
   ]
  },
  {
   "cell_type": "code",
   "execution_count": 190,
   "metadata": {},
   "outputs": [],
   "source": [
    "cdict = {\n",
    "    '테이블생성일자':'LOAD_DT',\n",
    "    '지역':'RGN',\n",
    "    '구분':'SEASON',\n",
    "    '차량대수':'VHCL_MKCNT', \n",
    "}"
   ]
  },
  {
   "cell_type": "code",
   "execution_count": 191,
   "metadata": {},
   "outputs": [
    {
     "data": {
      "text/plain": [
       "Index(['RGN', 'SEASON', 'VHCL_MKCNT', 'LOAD_DT', 'LOAD_DT'], dtype='object')"
      ]
     },
     "execution_count": 191,
     "metadata": {},
     "output_type": "execute_result"
    }
   ],
   "source": [
    "STD_BD_GRD5_LEM_N_MOD = no_dpf.rename(columns=cdict)\n",
    "STD_BD_GRD5_LEM_N_MOD.columns"
   ]
  },
  {
   "cell_type": "code",
   "execution_count": 192,
   "metadata": {},
   "outputs": [
    {
     "data": {
      "text/html": [
       "<div>\n",
       "<style scoped>\n",
       "    .dataframe tbody tr th:only-of-type {\n",
       "        vertical-align: middle;\n",
       "    }\n",
       "\n",
       "    .dataframe tbody tr th {\n",
       "        vertical-align: top;\n",
       "    }\n",
       "\n",
       "    .dataframe thead th {\n",
       "        text-align: right;\n",
       "    }\n",
       "</style>\n",
       "<table border=\"1\" class=\"dataframe\">\n",
       "  <thead>\n",
       "    <tr style=\"text-align: right;\">\n",
       "      <th></th>\n",
       "      <th>RGN</th>\n",
       "      <th>SEASON</th>\n",
       "      <th>VHCL_MKCNT</th>\n",
       "      <th>LOAD_DT</th>\n",
       "      <th>LOAD_DT</th>\n",
       "    </tr>\n",
       "  </thead>\n",
       "  <tbody>\n",
       "    <tr>\n",
       "      <th>0</th>\n",
       "      <td>수도권</td>\n",
       "      <td>2차계절제_시작</td>\n",
       "      <td>539748</td>\n",
       "      <td>20230810</td>\n",
       "      <td>20230901</td>\n",
       "    </tr>\n",
       "    <tr>\n",
       "      <th>1</th>\n",
       "      <td>수도권</td>\n",
       "      <td>2차계절제_종료</td>\n",
       "      <td>515615</td>\n",
       "      <td>20230810</td>\n",
       "      <td>20230901</td>\n",
       "    </tr>\n",
       "    <tr>\n",
       "      <th>2</th>\n",
       "      <td>수도권</td>\n",
       "      <td>3차계절제_시작</td>\n",
       "      <td>459110</td>\n",
       "      <td>20230810</td>\n",
       "      <td>20230901</td>\n",
       "    </tr>\n",
       "    <tr>\n",
       "      <th>3</th>\n",
       "      <td>수도권</td>\n",
       "      <td>3차계절제_종료</td>\n",
       "      <td>436921</td>\n",
       "      <td>20230810</td>\n",
       "      <td>20230901</td>\n",
       "    </tr>\n",
       "    <tr>\n",
       "      <th>4</th>\n",
       "      <td>수도권</td>\n",
       "      <td>4차계절제_시작</td>\n",
       "      <td>394533</td>\n",
       "      <td>20230810</td>\n",
       "      <td>20230901</td>\n",
       "    </tr>\n",
       "  </tbody>\n",
       "</table>\n",
       "</div>"
      ],
      "text/plain": [
       "   RGN      SEASON  VHCL_MKCNT   LOAD_DT   LOAD_DT\n",
       "0  수도권   2차계절제_시작       539748  20230810  20230901\n",
       "1  수도권   2차계절제_종료       515615  20230810  20230901\n",
       "2  수도권   3차계절제_시작       459110  20230810  20230901\n",
       "3  수도권   3차계절제_종료       436921  20230810  20230901\n",
       "4  수도권   4차계절제_시작       394533  20230810  20230901"
      ]
     },
     "execution_count": 192,
     "metadata": {},
     "output_type": "execute_result"
    }
   ],
   "source": [
    "STD_BD_GRD5_LEM_N_MOD.head()"
   ]
  },
  {
   "cell_type": "code",
   "execution_count": 193,
   "metadata": {},
   "outputs": [],
   "source": [
    "try:\n",
    "    STD_BD_GRD5_LEM_N_MOD['VHCL_MKCNT'] = STD_BD_GRD5_LEM_N_MOD['VHCL_MKCNT'].str.replace(',', '') # !!! 수정\n",
    "    STD_BD_GRD5_LEM_N_MOD['VHCL_MKCNT'] = pd.to_numeric(STD_BD_GRD5_LEM_N_MOD['VHCL_MKCNT'], errors='coerce') # !!! 수정\n",
    "except:\n",
    "    pass"
   ]
  },
  {
   "cell_type": "code",
   "execution_count": 194,
   "metadata": {},
   "outputs": [
    {
     "data": {
      "text/html": [
       "<div>\n",
       "<style scoped>\n",
       "    .dataframe tbody tr th:only-of-type {\n",
       "        vertical-align: middle;\n",
       "    }\n",
       "\n",
       "    .dataframe tbody tr th {\n",
       "        vertical-align: top;\n",
       "    }\n",
       "\n",
       "    .dataframe thead th {\n",
       "        text-align: right;\n",
       "    }\n",
       "</style>\n",
       "<table border=\"1\" class=\"dataframe\">\n",
       "  <thead>\n",
       "    <tr style=\"text-align: right;\">\n",
       "      <th></th>\n",
       "      <th>RGN</th>\n",
       "      <th>SEASON</th>\n",
       "      <th>VHCL_MKCNT</th>\n",
       "      <th>LOAD_DT</th>\n",
       "      <th>LOAD_DT</th>\n",
       "    </tr>\n",
       "  </thead>\n",
       "  <tbody>\n",
       "    <tr>\n",
       "      <th>0</th>\n",
       "      <td>수도권</td>\n",
       "      <td>2차계절제_시작</td>\n",
       "      <td>539748</td>\n",
       "      <td>20230810</td>\n",
       "      <td>20230901</td>\n",
       "    </tr>\n",
       "    <tr>\n",
       "      <th>1</th>\n",
       "      <td>수도권</td>\n",
       "      <td>2차계절제_종료</td>\n",
       "      <td>515615</td>\n",
       "      <td>20230810</td>\n",
       "      <td>20230901</td>\n",
       "    </tr>\n",
       "    <tr>\n",
       "      <th>2</th>\n",
       "      <td>수도권</td>\n",
       "      <td>3차계절제_시작</td>\n",
       "      <td>459110</td>\n",
       "      <td>20230810</td>\n",
       "      <td>20230901</td>\n",
       "    </tr>\n",
       "    <tr>\n",
       "      <th>3</th>\n",
       "      <td>수도권</td>\n",
       "      <td>3차계절제_종료</td>\n",
       "      <td>436921</td>\n",
       "      <td>20230810</td>\n",
       "      <td>20230901</td>\n",
       "    </tr>\n",
       "    <tr>\n",
       "      <th>4</th>\n",
       "      <td>수도권</td>\n",
       "      <td>4차계절제_시작</td>\n",
       "      <td>394533</td>\n",
       "      <td>20230810</td>\n",
       "      <td>20230901</td>\n",
       "    </tr>\n",
       "  </tbody>\n",
       "</table>\n",
       "</div>"
      ],
      "text/plain": [
       "   RGN      SEASON  VHCL_MKCNT   LOAD_DT   LOAD_DT\n",
       "0  수도권   2차계절제_시작       539748  20230810  20230901\n",
       "1  수도권   2차계절제_종료       515615  20230810  20230901\n",
       "2  수도권   3차계절제_시작       459110  20230810  20230901\n",
       "3  수도권   3차계절제_종료       436921  20230810  20230901\n",
       "4  수도권   4차계절제_시작       394533  20230810  20230901"
      ]
     },
     "execution_count": 194,
     "metadata": {},
     "output_type": "execute_result"
    }
   ],
   "source": [
    "STD_BD_GRD5_LEM_N_MOD.head()"
   ]
  },
  {
   "cell_type": "code",
   "execution_count": 195,
   "metadata": {},
   "outputs": [
    {
     "name": "stdout",
     "output_type": "stream",
     "text": [
      "<class 'pandas.core.frame.DataFrame'>\n",
      "RangeIndex: 12 entries, 0 to 11\n",
      "Data columns (total 5 columns):\n",
      " #   Column      Non-Null Count  Dtype \n",
      "---  ------      --------------  ----- \n",
      " 0   RGN         12 non-null     object\n",
      " 1   SEASON      12 non-null     object\n",
      " 2   VHCL_MKCNT  12 non-null     int64 \n",
      " 3   LOAD_DT     12 non-null     int64 \n",
      " 4   LOAD_DT     12 non-null     object\n",
      "dtypes: int64(2), object(3)\n",
      "memory usage: 608.0+ bytes\n"
     ]
    }
   ],
   "source": [
    "STD_BD_GRD5_LEM_N_MOD.info()"
   ]
  },
  {
   "cell_type": "markdown",
   "metadata": {},
   "source": [
    "### [출력] [D] STD_BD_GRD5_LEM_N_MOD"
   ]
  },
  {
   "cell_type": "code",
   "execution_count": 196,
   "metadata": {},
   "outputs": [],
   "source": [
    "# expdf = STD_BD_GRD5_LEM_N_MOD\n",
    "# table_nm = 'STD_BD_GRD5_LEM_N_MOD'.upper()\n",
    "\n",
    "# # 테이블 생성\n",
    "# sql = 'create or replace table ' + table_nm + '( \\n'\n",
    "\n",
    "# for idx,column in enumerate(expdf.columns):\n",
    "#     # if 'float' in expdf[column].dtype.name:\n",
    "#     #     sql += column + ' float'\n",
    "#     # elif 'int' in expdf[column].dtype.name:\n",
    "#     #     sql += column + ' number'\n",
    "#     # else:\n",
    "#     sql += column + ' varchar(255)'\n",
    "\n",
    "#     if len(expdf.columns) - 1 != idx:\n",
    "#         sql += ','\n",
    "#     sql += '\\n'\n",
    "# sql += ')'    \n",
    "# we.execute(sql)\n",
    "\n",
    "# # 데이터 추가\n",
    "# # 5s\n",
    "# we.import_from_pandas(expdf, table_nm)"
   ]
  },
  {
   "cell_type": "code",
   "execution_count": 197,
   "metadata": {},
   "outputs": [],
   "source": [
    "# # 1.3s\n",
    "# STD_BD_GRD5_LEM_N_MOD.to_csv(os.path.join(df3_fold, 'STD_BD_GRD5_LEM_N_MOD.csv'), index=False)"
   ]
  },
  {
   "cell_type": "markdown",
   "metadata": {},
   "source": [
    "## 차대번호별 운행제한 적발 현황"
   ]
  },
  {
   "cell_type": "code",
   "execution_count": 198,
   "metadata": {},
   "outputs": [],
   "source": [
    "# DNSTY_STDR_ID(농도기준아이디) : 실발령(C011), 모의발령(C012)\n",
    "# TY_STDR_ID(유형기준아이디) : 비상시(T001), 계절제(T002)"
   ]
  },
  {
   "cell_type": "code",
   "execution_count": 199,
   "metadata": {},
   "outputs": [
    {
     "data": {
      "text/html": [
       "<div>\n",
       "<style scoped>\n",
       "    .dataframe tbody tr th:only-of-type {\n",
       "        vertical-align: middle;\n",
       "    }\n",
       "\n",
       "    .dataframe tbody tr th {\n",
       "        vertical-align: top;\n",
       "    }\n",
       "\n",
       "    .dataframe thead th {\n",
       "        text-align: right;\n",
       "    }\n",
       "</style>\n",
       "<table border=\"1\" class=\"dataframe\">\n",
       "  <thead>\n",
       "    <tr style=\"text-align: right;\">\n",
       "      <th></th>\n",
       "      <th>적발번호</th>\n",
       "      <th>발령번호</th>\n",
       "      <th>차대번호</th>\n",
       "      <th>등록시도코드</th>\n",
       "      <th>등록시군구코드</th>\n",
       "      <th>적발지역코드</th>\n",
       "      <th>단속일</th>\n",
       "      <th>유형기준아이디</th>\n",
       "      <th>농도기준아이디</th>\n",
       "      <th>등록시도</th>\n",
       "      <th>등록시군구</th>\n",
       "      <th>적발시도코드</th>\n",
       "      <th>적발시군구코드</th>\n",
       "      <th>적발시도</th>\n",
       "      <th>적발시군구</th>\n",
       "      <th>적발지역</th>\n",
       "    </tr>\n",
       "  </thead>\n",
       "  <tbody>\n",
       "    <tr>\n",
       "      <th>0</th>\n",
       "      <td>51565757</td>\n",
       "      <td>1821</td>\n",
       "      <td>KMFPA18TP5C001735</td>\n",
       "      <td>41</td>\n",
       "      <td>170</td>\n",
       "      <td>28000</td>\n",
       "      <td>NaN</td>\n",
       "      <td>T001</td>\n",
       "      <td>C012</td>\n",
       "      <td>경기도</td>\n",
       "      <td>안양시</td>\n",
       "      <td>28</td>\n",
       "      <td>0</td>\n",
       "      <td>인천광역시</td>\n",
       "      <td>NaN</td>\n",
       "      <td>수도권</td>\n",
       "    </tr>\n",
       "    <tr>\n",
       "      <th>1</th>\n",
       "      <td>51565758</td>\n",
       "      <td>1821</td>\n",
       "      <td>KNAJE55135K039713</td>\n",
       "      <td>28</td>\n",
       "      <td>260</td>\n",
       "      <td>28000</td>\n",
       "      <td>NaN</td>\n",
       "      <td>T001</td>\n",
       "      <td>C012</td>\n",
       "      <td>인천광역시</td>\n",
       "      <td>서구</td>\n",
       "      <td>28</td>\n",
       "      <td>0</td>\n",
       "      <td>인천광역시</td>\n",
       "      <td>NaN</td>\n",
       "      <td>수도권</td>\n",
       "    </tr>\n",
       "    <tr>\n",
       "      <th>2</th>\n",
       "      <td>51652557</td>\n",
       "      <td>1821</td>\n",
       "      <td>KL5UL42PD7U000105</td>\n",
       "      <td>11</td>\n",
       "      <td>650</td>\n",
       "      <td>11000</td>\n",
       "      <td>NaN</td>\n",
       "      <td>T001</td>\n",
       "      <td>C012</td>\n",
       "      <td>서울특별시</td>\n",
       "      <td>서초구</td>\n",
       "      <td>11</td>\n",
       "      <td>0</td>\n",
       "      <td>서울특별시</td>\n",
       "      <td>NaN</td>\n",
       "      <td>수도권</td>\n",
       "    </tr>\n",
       "    <tr>\n",
       "      <th>3</th>\n",
       "      <td>51652540</td>\n",
       "      <td>1821</td>\n",
       "      <td>KMFGA17PP6C041875</td>\n",
       "      <td>41</td>\n",
       "      <td>460</td>\n",
       "      <td>11000</td>\n",
       "      <td>NaN</td>\n",
       "      <td>T001</td>\n",
       "      <td>C012</td>\n",
       "      <td>경기도</td>\n",
       "      <td>용인시</td>\n",
       "      <td>11</td>\n",
       "      <td>0</td>\n",
       "      <td>서울특별시</td>\n",
       "      <td>NaN</td>\n",
       "      <td>수도권</td>\n",
       "    </tr>\n",
       "    <tr>\n",
       "      <th>4</th>\n",
       "      <td>51652532</td>\n",
       "      <td>1821</td>\n",
       "      <td>KMFZCS7JP6U175495</td>\n",
       "      <td>41</td>\n",
       "      <td>170</td>\n",
       "      <td>11000</td>\n",
       "      <td>NaN</td>\n",
       "      <td>T001</td>\n",
       "      <td>C012</td>\n",
       "      <td>경기도</td>\n",
       "      <td>안양시</td>\n",
       "      <td>11</td>\n",
       "      <td>0</td>\n",
       "      <td>서울특별시</td>\n",
       "      <td>NaN</td>\n",
       "      <td>수도권</td>\n",
       "    </tr>\n",
       "  </tbody>\n",
       "</table>\n",
       "</div>"
      ],
      "text/plain": [
       "       적발번호  발령번호               차대번호  등록시도코드  등록시군구코드 적발지역코드  단속일 유형기준아이디   \n",
       "0  51565757  1821  KMFPA18TP5C001735      41      170  28000  NaN    T001  \\\n",
       "1  51565758  1821  KNAJE55135K039713      28      260  28000  NaN    T001   \n",
       "2  51652557  1821  KL5UL42PD7U000105      11      650  11000  NaN    T001   \n",
       "3  51652540  1821  KMFGA17PP6C041875      41      460  11000  NaN    T001   \n",
       "4  51652532  1821  KMFZCS7JP6U175495      41      170  11000  NaN    T001   \n",
       "\n",
       "  농도기준아이디   등록시도 등록시군구  적발시도코드  적발시군구코드   적발시도 적발시군구 적발지역  \n",
       "0    C012    경기도   안양시      28        0  인천광역시   NaN  수도권  \n",
       "1    C012  인천광역시    서구      28        0  인천광역시   NaN  수도권  \n",
       "2    C012  서울특별시   서초구      11        0  서울특별시   NaN  수도권  \n",
       "3    C012    경기도   용인시      11        0  서울특별시   NaN  수도권  \n",
       "4    C012    경기도   안양시      11        0  서울특별시   NaN  수도권  "
      ]
     },
     "execution_count": 199,
     "metadata": {},
     "output_type": "execute_result"
    }
   ],
   "source": [
    "is_total.head()"
   ]
  },
  {
   "cell_type": "code",
   "execution_count": 200,
   "metadata": {},
   "outputs": [
    {
     "data": {
      "text/plain": [
       "(108436093, 16)"
      ]
     },
     "execution_count": 200,
     "metadata": {},
     "output_type": "execute_result"
    }
   ],
   "source": [
    "is_total.shape"
   ]
  },
  {
   "cell_type": "code",
   "execution_count": 201,
   "metadata": {},
   "outputs": [
    {
     "data": {
      "text/plain": [
       "array(['C012', 'C011'], dtype=object)"
      ]
     },
     "execution_count": 201,
     "metadata": {},
     "output_type": "execute_result"
    }
   ],
   "source": [
    "is_total['농도기준아이디'].unique()"
   ]
  },
  {
   "cell_type": "code",
   "execution_count": 202,
   "metadata": {},
   "outputs": [
    {
     "data": {
      "text/plain": [
       "array(['T001', 'T002'], dtype=object)"
      ]
     },
     "execution_count": 202,
     "metadata": {},
     "output_type": "execute_result"
    }
   ],
   "source": [
    "is_total['유형기준아이디'].unique()"
   ]
  },
  {
   "cell_type": "code",
   "execution_count": 203,
   "metadata": {},
   "outputs": [
    {
     "data": {
      "text/plain": [
       "(16382044, 16)"
      ]
     },
     "execution_count": 203,
     "metadata": {},
     "output_type": "execute_result"
    }
   ],
   "source": [
    "# 11.0s\n",
    "# DNSTY_STDR_ID(농도기준아이디) : 실발령(C011), 모의발령(C012)\n",
    "# TY_STDR_ID(유형기준아이디) : 비상시(T001), 계절제(T002)\n",
    "# 계절제\n",
    "is_season = is_total.loc[(is_total['농도기준아이디'] == 'C011') & (is_total['유형기준아이디'] == 'T002')].reset_index(drop=True)\n",
    "is_season.shape"
   ]
  },
  {
   "cell_type": "code",
   "execution_count": 204,
   "metadata": {},
   "outputs": [
    {
     "data": {
      "text/plain": [
       "dtype('float64')"
      ]
     },
     "execution_count": 204,
     "metadata": {},
     "output_type": "execute_result"
    }
   ],
   "source": [
    "is_season['단속일'].dtype"
   ]
  },
  {
   "cell_type": "code",
   "execution_count": 205,
   "metadata": {},
   "outputs": [
    {
     "data": {
      "text/plain": [
       "count     387538.00\n",
       "mean    20214080.37\n",
       "std         8988.34\n",
       "min     20201201.00\n",
       "25%     20210120.00\n",
       "50%     20211202.00\n",
       "75%     20220316.00\n",
       "max     20230331.00\n",
       "Name: 단속일, dtype: float64"
      ]
     },
     "execution_count": 205,
     "metadata": {},
     "output_type": "execute_result"
    }
   ],
   "source": [
    "is_season['단속일'].describe()"
   ]
  },
  {
   "cell_type": "code",
   "execution_count": 206,
   "metadata": {},
   "outputs": [
    {
     "data": {
      "text/plain": [
       "15994506"
      ]
     },
     "execution_count": 206,
     "metadata": {},
     "output_type": "execute_result"
    }
   ],
   "source": [
    "is_season['단속일'].isnull().sum()"
   ]
  },
  {
   "cell_type": "code",
   "execution_count": 207,
   "metadata": {},
   "outputs": [
    {
     "data": {
      "text/plain": [
       "2023"
      ]
     },
     "execution_count": 207,
     "metadata": {},
     "output_type": "execute_result"
    }
   ],
   "source": [
    "int(today_date[:4])"
   ]
  },
  {
   "cell_type": "code",
   "execution_count": 208,
   "metadata": {},
   "outputs": [],
   "source": [
    "# 계절제 1차(2019.12 ~ 2020.3)\n",
    "# 계절제 2차(2020.12 ~ 2021.3)\n",
    "# 계절제 3차(2021.12 ~ 2022.3)\n",
    "# 계절제 4차(2022.12 ~ 2023.3)\n",
    "\n",
    "for yr in range(2019, int(today_date[:4])):\n",
    "    start_date = f'{yr}1130'\n",
    "    end_date = f'{yr+1}0401'\n",
    "    is_season.loc[(is_season['단속일'] > int(start_date)) & (is_season['단속일'] < int(end_date)), f'계절제_{yr-2018}차여부'] = 'Y'"
   ]
  },
  {
   "cell_type": "code",
   "execution_count": 209,
   "metadata": {},
   "outputs": [
    {
     "data": {
      "text/html": [
       "<div>\n",
       "<style scoped>\n",
       "    .dataframe tbody tr th:only-of-type {\n",
       "        vertical-align: middle;\n",
       "    }\n",
       "\n",
       "    .dataframe tbody tr th {\n",
       "        vertical-align: top;\n",
       "    }\n",
       "\n",
       "    .dataframe thead th {\n",
       "        text-align: right;\n",
       "    }\n",
       "</style>\n",
       "<table border=\"1\" class=\"dataframe\">\n",
       "  <thead>\n",
       "    <tr style=\"text-align: right;\">\n",
       "      <th></th>\n",
       "      <th>적발번호</th>\n",
       "      <th>발령번호</th>\n",
       "      <th>차대번호</th>\n",
       "      <th>등록시도코드</th>\n",
       "      <th>등록시군구코드</th>\n",
       "      <th>적발지역코드</th>\n",
       "      <th>단속일</th>\n",
       "      <th>유형기준아이디</th>\n",
       "      <th>농도기준아이디</th>\n",
       "      <th>등록시도</th>\n",
       "      <th>등록시군구</th>\n",
       "      <th>적발시도코드</th>\n",
       "      <th>적발시군구코드</th>\n",
       "      <th>적발시도</th>\n",
       "      <th>적발시군구</th>\n",
       "      <th>적발지역</th>\n",
       "      <th>계절제_1차여부</th>\n",
       "      <th>계절제_2차여부</th>\n",
       "      <th>계절제_3차여부</th>\n",
       "      <th>계절제_4차여부</th>\n",
       "    </tr>\n",
       "  </thead>\n",
       "  <tbody>\n",
       "    <tr>\n",
       "      <th>0</th>\n",
       "      <td>111616383</td>\n",
       "      <td>2430</td>\n",
       "      <td>KL90F4ADD5HZ00068</td>\n",
       "      <td>45</td>\n",
       "      <td>130</td>\n",
       "      <td>28000</td>\n",
       "      <td>NaN</td>\n",
       "      <td>T002</td>\n",
       "      <td>C011</td>\n",
       "      <td>전라북도</td>\n",
       "      <td>군산시</td>\n",
       "      <td>28</td>\n",
       "      <td>0</td>\n",
       "      <td>인천광역시</td>\n",
       "      <td>NaN</td>\n",
       "      <td>수도권</td>\n",
       "      <td>NaN</td>\n",
       "      <td>NaN</td>\n",
       "      <td>NaN</td>\n",
       "      <td>NaN</td>\n",
       "    </tr>\n",
       "    <tr>\n",
       "      <th>1</th>\n",
       "      <td>111616380</td>\n",
       "      <td>2430</td>\n",
       "      <td>KL3P9CNF37K000737</td>\n",
       "      <td>28</td>\n",
       "      <td>140</td>\n",
       "      <td>28000</td>\n",
       "      <td>NaN</td>\n",
       "      <td>T002</td>\n",
       "      <td>C011</td>\n",
       "      <td>인천광역시</td>\n",
       "      <td>동구</td>\n",
       "      <td>28</td>\n",
       "      <td>0</td>\n",
       "      <td>인천광역시</td>\n",
       "      <td>NaN</td>\n",
       "      <td>수도권</td>\n",
       "      <td>NaN</td>\n",
       "      <td>NaN</td>\n",
       "      <td>NaN</td>\n",
       "      <td>NaN</td>\n",
       "    </tr>\n",
       "    <tr>\n",
       "      <th>2</th>\n",
       "      <td>111620590</td>\n",
       "      <td>2430</td>\n",
       "      <td>KPBFA2AD14P125977</td>\n",
       "      <td>26</td>\n",
       "      <td>260</td>\n",
       "      <td>26000</td>\n",
       "      <td>NaN</td>\n",
       "      <td>T002</td>\n",
       "      <td>C011</td>\n",
       "      <td>부산광역시</td>\n",
       "      <td>동래구</td>\n",
       "      <td>26</td>\n",
       "      <td>0</td>\n",
       "      <td>부산광역시</td>\n",
       "      <td>NaN</td>\n",
       "      <td>수도권외</td>\n",
       "      <td>NaN</td>\n",
       "      <td>NaN</td>\n",
       "      <td>NaN</td>\n",
       "      <td>NaN</td>\n",
       "    </tr>\n",
       "    <tr>\n",
       "      <th>3</th>\n",
       "      <td>111620591</td>\n",
       "      <td>2430</td>\n",
       "      <td>KMFLA18AP2C034510</td>\n",
       "      <td>48</td>\n",
       "      <td>120</td>\n",
       "      <td>26000</td>\n",
       "      <td>NaN</td>\n",
       "      <td>T002</td>\n",
       "      <td>C011</td>\n",
       "      <td>경상남도</td>\n",
       "      <td>창원시</td>\n",
       "      <td>26</td>\n",
       "      <td>0</td>\n",
       "      <td>부산광역시</td>\n",
       "      <td>NaN</td>\n",
       "      <td>수도권외</td>\n",
       "      <td>NaN</td>\n",
       "      <td>NaN</td>\n",
       "      <td>NaN</td>\n",
       "      <td>NaN</td>\n",
       "    </tr>\n",
       "    <tr>\n",
       "      <th>4</th>\n",
       "      <td>111622099</td>\n",
       "      <td>2430</td>\n",
       "      <td>KMFLA19AP2C031701</td>\n",
       "      <td>48</td>\n",
       "      <td>250</td>\n",
       "      <td>26000</td>\n",
       "      <td>NaN</td>\n",
       "      <td>T002</td>\n",
       "      <td>C011</td>\n",
       "      <td>경상남도</td>\n",
       "      <td>김해시</td>\n",
       "      <td>26</td>\n",
       "      <td>0</td>\n",
       "      <td>부산광역시</td>\n",
       "      <td>NaN</td>\n",
       "      <td>수도권외</td>\n",
       "      <td>NaN</td>\n",
       "      <td>NaN</td>\n",
       "      <td>NaN</td>\n",
       "      <td>NaN</td>\n",
       "    </tr>\n",
       "  </tbody>\n",
       "</table>\n",
       "</div>"
      ],
      "text/plain": [
       "        적발번호  발령번호               차대번호  등록시도코드  등록시군구코드 적발지역코드  단속일 유형기준아이디   \n",
       "0  111616383  2430  KL90F4ADD5HZ00068      45      130  28000  NaN    T002  \\\n",
       "1  111616380  2430  KL3P9CNF37K000737      28      140  28000  NaN    T002   \n",
       "2  111620590  2430  KPBFA2AD14P125977      26      260  26000  NaN    T002   \n",
       "3  111620591  2430  KMFLA18AP2C034510      48      120  26000  NaN    T002   \n",
       "4  111622099  2430  KMFLA19AP2C031701      48      250  26000  NaN    T002   \n",
       "\n",
       "  농도기준아이디   등록시도 등록시군구  적발시도코드  적발시군구코드   적발시도 적발시군구  적발지역 계절제_1차여부 계절제_2차여부   \n",
       "0    C011   전라북도   군산시      28        0  인천광역시   NaN   수도권      NaN      NaN  \\\n",
       "1    C011  인천광역시    동구      28        0  인천광역시   NaN   수도권      NaN      NaN   \n",
       "2    C011  부산광역시   동래구      26        0  부산광역시   NaN  수도권외      NaN      NaN   \n",
       "3    C011   경상남도   창원시      26        0  부산광역시   NaN  수도권외      NaN      NaN   \n",
       "4    C011   경상남도   김해시      26        0  부산광역시   NaN  수도권외      NaN      NaN   \n",
       "\n",
       "  계절제_3차여부 계절제_4차여부  \n",
       "0      NaN      NaN  \n",
       "1      NaN      NaN  \n",
       "2      NaN      NaN  \n",
       "3      NaN      NaN  \n",
       "4      NaN      NaN  "
      ]
     },
     "execution_count": 209,
     "metadata": {},
     "output_type": "execute_result"
    }
   ],
   "source": [
    "is_season.head()"
   ]
  },
  {
   "cell_type": "code",
   "execution_count": 210,
   "metadata": {},
   "outputs": [
    {
     "data": {
      "text/plain": [
       "(0, 20)"
      ]
     },
     "execution_count": 210,
     "metadata": {},
     "output_type": "execute_result"
    }
   ],
   "source": [
    "is_season.loc[( (is_season['적발시도'] == '부산광역시') | (is_season['적발시도'] == '대구광역시') ) & ((is_season['계절제_2차여부'] == 'Y') | (is_season['계절제_3차여부'] == 'Y'))].shape"
   ]
  },
  {
   "cell_type": "code",
   "execution_count": 211,
   "metadata": {},
   "outputs": [
    {
     "data": {
      "text/plain": [
       "(45942, 20)"
      ]
     },
     "execution_count": 211,
     "metadata": {},
     "output_type": "execute_result"
    }
   ],
   "source": [
    "is_season.loc[( (is_season['적발시도'] == '부산광역시') | (is_season['적발시도'] == '대구광역시') ) & (is_season['계절제_4차여부'] == 'Y')].shape"
   ]
  },
  {
   "cell_type": "code",
   "execution_count": 212,
   "metadata": {},
   "outputs": [
    {
     "data": {
      "text/plain": [
       "((16382044, 20), 452851)"
      ]
     },
     "execution_count": 212,
     "metadata": {},
     "output_type": "execute_result"
    }
   ],
   "source": [
    "is_season.shape, len(is_season['차대번호'].unique())"
   ]
  },
  {
   "cell_type": "code",
   "execution_count": 213,
   "metadata": {},
   "outputs": [
    {
     "data": {
      "text/plain": [
       "(753349, 20)"
      ]
     },
     "execution_count": 213,
     "metadata": {},
     "output_type": "execute_result"
    }
   ],
   "source": [
    "is_season.drop_duplicates(['차대번호', '적발시도']).shape"
   ]
  },
  {
   "cell_type": "code",
   "execution_count": 214,
   "metadata": {},
   "outputs": [
    {
     "data": {
      "text/plain": [
       "{'계절제_1차여부': 'count',\n",
       " '계절제_2차여부': 'count',\n",
       " '계절제_3차여부': 'count',\n",
       " '계절제_4차여부': 'count'}"
      ]
     },
     "execution_count": 214,
     "metadata": {},
     "output_type": "execute_result"
    }
   ],
   "source": [
    "agg_dict = {x:'count' for x in is_season.columns if '계절제' in x}\n",
    "agg_dict"
   ]
  },
  {
   "cell_type": "code",
   "execution_count": 215,
   "metadata": {},
   "outputs": [
    {
     "data": {
      "text/plain": [
       "{'계절제_1차여부': '계절제_1차',\n",
       " '계절제_2차여부': '계절제_2차',\n",
       " '계절제_3차여부': '계절제_3차',\n",
       " '계절제_4차여부': '계절제_4차'}"
      ]
     },
     "execution_count": 215,
     "metadata": {},
     "output_type": "execute_result"
    }
   ],
   "source": [
    "limit_season_rename_dict = {x:x.replace('여부','') for x in agg_dict.keys()}\n",
    "limit_season_rename_dict"
   ]
  },
  {
   "cell_type": "code",
   "execution_count": 216,
   "metadata": {},
   "outputs": [
    {
     "data": {
      "text/html": [
       "<div>\n",
       "<style scoped>\n",
       "    .dataframe tbody tr th:only-of-type {\n",
       "        vertical-align: middle;\n",
       "    }\n",
       "\n",
       "    .dataframe tbody tr th {\n",
       "        vertical-align: top;\n",
       "    }\n",
       "\n",
       "    .dataframe thead th {\n",
       "        text-align: right;\n",
       "    }\n",
       "</style>\n",
       "<table border=\"1\" class=\"dataframe\">\n",
       "  <thead>\n",
       "    <tr style=\"text-align: right;\">\n",
       "      <th></th>\n",
       "      <th>차대번호</th>\n",
       "      <th>계절제_1차</th>\n",
       "      <th>계절제_2차</th>\n",
       "      <th>계절제_3차</th>\n",
       "      <th>계절제_4차</th>\n",
       "    </tr>\n",
       "  </thead>\n",
       "  <tbody>\n",
       "    <tr>\n",
       "      <th>0</th>\n",
       "      <td>000000JN44C000673</td>\n",
       "      <td>0</td>\n",
       "      <td>0</td>\n",
       "      <td>9</td>\n",
       "      <td>0</td>\n",
       "    </tr>\n",
       "    <tr>\n",
       "      <th>1</th>\n",
       "      <td>01451201380</td>\n",
       "      <td>0</td>\n",
       "      <td>0</td>\n",
       "      <td>0</td>\n",
       "      <td>0</td>\n",
       "    </tr>\n",
       "    <tr>\n",
       "      <th>2</th>\n",
       "      <td>01741320297</td>\n",
       "      <td>0</td>\n",
       "      <td>0</td>\n",
       "      <td>0</td>\n",
       "      <td>0</td>\n",
       "    </tr>\n",
       "    <tr>\n",
       "      <th>3</th>\n",
       "      <td>01751300580</td>\n",
       "      <td>0</td>\n",
       "      <td>1</td>\n",
       "      <td>0</td>\n",
       "      <td>0</td>\n",
       "    </tr>\n",
       "    <tr>\n",
       "      <th>4</th>\n",
       "      <td>01761300921</td>\n",
       "      <td>0</td>\n",
       "      <td>0</td>\n",
       "      <td>0</td>\n",
       "      <td>0</td>\n",
       "    </tr>\n",
       "    <tr>\n",
       "      <th>...</th>\n",
       "      <td>...</td>\n",
       "      <td>...</td>\n",
       "      <td>...</td>\n",
       "      <td>...</td>\n",
       "      <td>...</td>\n",
       "    </tr>\n",
       "    <tr>\n",
       "      <th>452846</th>\n",
       "      <td>YV2JSO2C768870642</td>\n",
       "      <td>0</td>\n",
       "      <td>0</td>\n",
       "      <td>1</td>\n",
       "      <td>2</td>\n",
       "    </tr>\n",
       "    <tr>\n",
       "      <th>452847</th>\n",
       "      <td>YV2JSO2C76A625817</td>\n",
       "      <td>0</td>\n",
       "      <td>0</td>\n",
       "      <td>0</td>\n",
       "      <td>0</td>\n",
       "    </tr>\n",
       "    <tr>\n",
       "      <th>452848</th>\n",
       "      <td>YV2JSO2C88A655606</td>\n",
       "      <td>0</td>\n",
       "      <td>0</td>\n",
       "      <td>0</td>\n",
       "      <td>0</td>\n",
       "    </tr>\n",
       "    <tr>\n",
       "      <th>452849</th>\n",
       "      <td>YV2JSO2C968870643</td>\n",
       "      <td>0</td>\n",
       "      <td>0</td>\n",
       "      <td>31</td>\n",
       "      <td>0</td>\n",
       "    </tr>\n",
       "    <tr>\n",
       "      <th>452850</th>\n",
       "      <td>YV2JSO2CO6A615503</td>\n",
       "      <td>0</td>\n",
       "      <td>0</td>\n",
       "      <td>0</td>\n",
       "      <td>0</td>\n",
       "    </tr>\n",
       "  </tbody>\n",
       "</table>\n",
       "<p>452851 rows × 5 columns</p>\n",
       "</div>"
      ],
      "text/plain": [
       "                     차대번호  계절제_1차  계절제_2차  계절제_3차  계절제_4차\n",
       "0       000000JN44C000673       0       0       9       0\n",
       "1             01451201380       0       0       0       0\n",
       "2             01741320297       0       0       0       0\n",
       "3             01751300580       0       1       0       0\n",
       "4             01761300921       0       0       0       0\n",
       "...                   ...     ...     ...     ...     ...\n",
       "452846  YV2JSO2C768870642       0       0       1       2\n",
       "452847  YV2JSO2C76A625817       0       0       0       0\n",
       "452848  YV2JSO2C88A655606       0       0       0       0\n",
       "452849  YV2JSO2C968870643       0       0      31       0\n",
       "452850  YV2JSO2CO6A615503       0       0       0       0\n",
       "\n",
       "[452851 rows x 5 columns]"
      ]
     },
     "execution_count": 216,
     "metadata": {},
     "output_type": "execute_result"
    }
   ],
   "source": [
    "limit_season = is_season.groupby(['차대번호'], as_index=False).agg(agg_dict)\n",
    "limit_season = limit_season.rename(columns=limit_season_rename_dict)\n",
    "limit_season"
   ]
  },
  {
   "cell_type": "code",
   "execution_count": 217,
   "metadata": {},
   "outputs": [
    {
     "data": {
      "text/plain": [
       "(99791, 5)"
      ]
     },
     "execution_count": 217,
     "metadata": {},
     "output_type": "execute_result"
    }
   ],
   "source": [
    "limit_season[(limit_season['계절제_1차'] > 0) |(limit_season['계절제_2차'] > 0) |(limit_season['계절제_3차'] > 0) | (limit_season['계절제_4차'] > 0)].shape"
   ]
  },
  {
   "cell_type": "code",
   "execution_count": 218,
   "metadata": {},
   "outputs": [
    {
     "data": {
      "text/plain": [
       "(753383, 16)"
      ]
     },
     "execution_count": 218,
     "metadata": {},
     "output_type": "execute_result"
    }
   ],
   "source": [
    "# 11.0s\n",
    "# DNSTY_STDR_ID(농도기준아이디) : 실발령(C011), 모의발령(C012)\n",
    "# TY_STDR_ID(유형기준아이디) : 비상시(T001), 계절제(T002)\n",
    "# 비상시\n",
    "is_high = is_total.loc[(is_total['농도기준아이디'] == 'C011') & (is_total['유형기준아이디'] == 'T001')].reset_index(drop=True)\n",
    "is_high.shape"
   ]
  },
  {
   "cell_type": "code",
   "execution_count": 219,
   "metadata": {},
   "outputs": [
    {
     "data": {
      "text/html": [
       "<div>\n",
       "<style scoped>\n",
       "    .dataframe tbody tr th:only-of-type {\n",
       "        vertical-align: middle;\n",
       "    }\n",
       "\n",
       "    .dataframe tbody tr th {\n",
       "        vertical-align: top;\n",
       "    }\n",
       "\n",
       "    .dataframe thead th {\n",
       "        text-align: right;\n",
       "    }\n",
       "</style>\n",
       "<table border=\"1\" class=\"dataframe\">\n",
       "  <thead>\n",
       "    <tr style=\"text-align: right;\">\n",
       "      <th></th>\n",
       "      <th>적발번호</th>\n",
       "      <th>발령번호</th>\n",
       "      <th>차대번호</th>\n",
       "      <th>등록시도코드</th>\n",
       "      <th>등록시군구코드</th>\n",
       "      <th>적발지역코드</th>\n",
       "      <th>단속일</th>\n",
       "      <th>유형기준아이디</th>\n",
       "      <th>농도기준아이디</th>\n",
       "      <th>등록시도</th>\n",
       "      <th>등록시군구</th>\n",
       "      <th>적발시도코드</th>\n",
       "      <th>적발시군구코드</th>\n",
       "      <th>적발시도</th>\n",
       "      <th>적발시군구</th>\n",
       "      <th>적발지역</th>\n",
       "    </tr>\n",
       "  </thead>\n",
       "  <tbody>\n",
       "    <tr>\n",
       "      <th>0</th>\n",
       "      <td>114846051</td>\n",
       "      <td>2672</td>\n",
       "      <td>KL4V3TDF13K000505</td>\n",
       "      <td>26</td>\n",
       "      <td>470</td>\n",
       "      <td>31000</td>\n",
       "      <td>NaN</td>\n",
       "      <td>T001</td>\n",
       "      <td>C011</td>\n",
       "      <td>부산광역시</td>\n",
       "      <td>연제구</td>\n",
       "      <td>31</td>\n",
       "      <td>0</td>\n",
       "      <td>울산광역시</td>\n",
       "      <td>NaN</td>\n",
       "      <td>수도권외</td>\n",
       "    </tr>\n",
       "    <tr>\n",
       "      <th>1</th>\n",
       "      <td>114838737</td>\n",
       "      <td>2672</td>\n",
       "      <td>KMFWVH7JP7U801845</td>\n",
       "      <td>26</td>\n",
       "      <td>170</td>\n",
       "      <td>26000</td>\n",
       "      <td>NaN</td>\n",
       "      <td>T001</td>\n",
       "      <td>C011</td>\n",
       "      <td>부산광역시</td>\n",
       "      <td>동구</td>\n",
       "      <td>26</td>\n",
       "      <td>0</td>\n",
       "      <td>부산광역시</td>\n",
       "      <td>NaN</td>\n",
       "      <td>수도권외</td>\n",
       "    </tr>\n",
       "    <tr>\n",
       "      <th>2</th>\n",
       "      <td>114844155</td>\n",
       "      <td>2672</td>\n",
       "      <td>KMJWWH7JP6U744190</td>\n",
       "      <td>31</td>\n",
       "      <td>710</td>\n",
       "      <td>31000</td>\n",
       "      <td>NaN</td>\n",
       "      <td>T001</td>\n",
       "      <td>C011</td>\n",
       "      <td>울산광역시</td>\n",
       "      <td>울주군</td>\n",
       "      <td>31</td>\n",
       "      <td>0</td>\n",
       "      <td>울산광역시</td>\n",
       "      <td>NaN</td>\n",
       "      <td>수도권외</td>\n",
       "    </tr>\n",
       "    <tr>\n",
       "      <th>3</th>\n",
       "      <td>114844158</td>\n",
       "      <td>2672</td>\n",
       "      <td>KMFLA18EP6C012515</td>\n",
       "      <td>31</td>\n",
       "      <td>140</td>\n",
       "      <td>31000</td>\n",
       "      <td>NaN</td>\n",
       "      <td>T001</td>\n",
       "      <td>C011</td>\n",
       "      <td>울산광역시</td>\n",
       "      <td>남구</td>\n",
       "      <td>31</td>\n",
       "      <td>0</td>\n",
       "      <td>울산광역시</td>\n",
       "      <td>NaN</td>\n",
       "      <td>수도권외</td>\n",
       "    </tr>\n",
       "    <tr>\n",
       "      <th>4</th>\n",
       "      <td>114844159</td>\n",
       "      <td>2672</td>\n",
       "      <td>KMFGA17PP7C061877</td>\n",
       "      <td>31</td>\n",
       "      <td>140</td>\n",
       "      <td>31000</td>\n",
       "      <td>NaN</td>\n",
       "      <td>T001</td>\n",
       "      <td>C011</td>\n",
       "      <td>울산광역시</td>\n",
       "      <td>남구</td>\n",
       "      <td>31</td>\n",
       "      <td>0</td>\n",
       "      <td>울산광역시</td>\n",
       "      <td>NaN</td>\n",
       "      <td>수도권외</td>\n",
       "    </tr>\n",
       "  </tbody>\n",
       "</table>\n",
       "</div>"
      ],
      "text/plain": [
       "        적발번호  발령번호               차대번호  등록시도코드  등록시군구코드 적발지역코드  단속일 유형기준아이디   \n",
       "0  114846051  2672  KL4V3TDF13K000505      26      470  31000  NaN    T001  \\\n",
       "1  114838737  2672  KMFWVH7JP7U801845      26      170  26000  NaN    T001   \n",
       "2  114844155  2672  KMJWWH7JP6U744190      31      710  31000  NaN    T001   \n",
       "3  114844158  2672  KMFLA18EP6C012515      31      140  31000  NaN    T001   \n",
       "4  114844159  2672  KMFGA17PP7C061877      31      140  31000  NaN    T001   \n",
       "\n",
       "  농도기준아이디   등록시도 등록시군구  적발시도코드  적발시군구코드   적발시도 적발시군구  적발지역  \n",
       "0    C011  부산광역시   연제구      31        0  울산광역시   NaN  수도권외  \n",
       "1    C011  부산광역시    동구      26        0  부산광역시   NaN  수도권외  \n",
       "2    C011  울산광역시   울주군      31        0  울산광역시   NaN  수도권외  \n",
       "3    C011  울산광역시    남구      31        0  울산광역시   NaN  수도권외  \n",
       "4    C011  울산광역시    남구      31        0  울산광역시   NaN  수도권외  "
      ]
     },
     "execution_count": 219,
     "metadata": {},
     "output_type": "execute_result"
    }
   ],
   "source": [
    "is_high.head()"
   ]
  },
  {
   "cell_type": "code",
   "execution_count": 220,
   "metadata": {},
   "outputs": [
    {
     "data": {
      "text/html": [
       "<div>\n",
       "<style scoped>\n",
       "    .dataframe tbody tr th:only-of-type {\n",
       "        vertical-align: middle;\n",
       "    }\n",
       "\n",
       "    .dataframe tbody tr th {\n",
       "        vertical-align: top;\n",
       "    }\n",
       "\n",
       "    .dataframe thead th {\n",
       "        text-align: right;\n",
       "    }\n",
       "</style>\n",
       "<table border=\"1\" class=\"dataframe\">\n",
       "  <thead>\n",
       "    <tr style=\"text-align: right;\">\n",
       "      <th></th>\n",
       "      <th>차대번호</th>\n",
       "      <th>비상시</th>\n",
       "    </tr>\n",
       "  </thead>\n",
       "  <tbody>\n",
       "    <tr>\n",
       "      <th>0</th>\n",
       "      <td>000000JN44C000673</td>\n",
       "      <td>1</td>\n",
       "    </tr>\n",
       "    <tr>\n",
       "      <th>1</th>\n",
       "      <td>01441201316</td>\n",
       "      <td>0</td>\n",
       "    </tr>\n",
       "    <tr>\n",
       "      <th>2</th>\n",
       "      <td>01761301128</td>\n",
       "      <td>1</td>\n",
       "    </tr>\n",
       "    <tr>\n",
       "      <th>3</th>\n",
       "      <td>01794200041</td>\n",
       "      <td>0</td>\n",
       "    </tr>\n",
       "    <tr>\n",
       "      <th>4</th>\n",
       "      <td>01841300288</td>\n",
       "      <td>1</td>\n",
       "    </tr>\n",
       "    <tr>\n",
       "      <th>...</th>\n",
       "      <td>...</td>\n",
       "      <td>...</td>\n",
       "    </tr>\n",
       "    <tr>\n",
       "      <th>227030</th>\n",
       "      <td>YV2JS02CX8A655591</td>\n",
       "      <td>0</td>\n",
       "    </tr>\n",
       "    <tr>\n",
       "      <th>227031</th>\n",
       "      <td>YV2JSO2C768870642</td>\n",
       "      <td>1</td>\n",
       "    </tr>\n",
       "    <tr>\n",
       "      <th>227032</th>\n",
       "      <td>YV2JSO2C76A625817</td>\n",
       "      <td>1</td>\n",
       "    </tr>\n",
       "    <tr>\n",
       "      <th>227033</th>\n",
       "      <td>YV2JSO2C88A655606</td>\n",
       "      <td>0</td>\n",
       "    </tr>\n",
       "    <tr>\n",
       "      <th>227034</th>\n",
       "      <td>YV2JSO2C968870643</td>\n",
       "      <td>2</td>\n",
       "    </tr>\n",
       "  </tbody>\n",
       "</table>\n",
       "<p>227035 rows × 2 columns</p>\n",
       "</div>"
      ],
      "text/plain": [
       "                     차대번호  비상시\n",
       "0       000000JN44C000673    1\n",
       "1             01441201316    0\n",
       "2             01761301128    1\n",
       "3             01794200041    0\n",
       "4             01841300288    1\n",
       "...                   ...  ...\n",
       "227030  YV2JS02CX8A655591    0\n",
       "227031  YV2JSO2C768870642    1\n",
       "227032  YV2JSO2C76A625817    1\n",
       "227033  YV2JSO2C88A655606    0\n",
       "227034  YV2JSO2C968870643    2\n",
       "\n",
       "[227035 rows x 2 columns]"
      ]
     },
     "execution_count": 220,
     "metadata": {},
     "output_type": "execute_result"
    }
   ],
   "source": [
    "limit_high = is_high.groupby(['차대번호'], as_index=False).agg({'단속일':'count'})\n",
    "limit_high = limit_high.rename(columns={'단속일':'비상시'})\n",
    "limit_high"
   ]
  },
  {
   "cell_type": "code",
   "execution_count": 221,
   "metadata": {},
   "outputs": [
    {
     "data": {
      "text/plain": [
       "(3151659, 16)"
      ]
     },
     "execution_count": 221,
     "metadata": {},
     "output_type": "execute_result"
    }
   ],
   "source": [
    "us_total.shape"
   ]
  },
  {
   "cell_type": "code",
   "execution_count": 222,
   "metadata": {},
   "outputs": [
    {
     "data": {
      "text/plain": [
       "dtype('float64')"
      ]
     },
     "execution_count": 222,
     "metadata": {},
     "output_type": "execute_result"
    }
   ],
   "source": [
    "us_total['적발건수'].dtype"
   ]
  },
  {
   "cell_type": "code",
   "execution_count": 223,
   "metadata": {},
   "outputs": [
    {
     "data": {
      "text/html": [
       "<div>\n",
       "<style scoped>\n",
       "    .dataframe tbody tr th:only-of-type {\n",
       "        vertical-align: middle;\n",
       "    }\n",
       "\n",
       "    .dataframe tbody tr th {\n",
       "        vertical-align: top;\n",
       "    }\n",
       "\n",
       "    .dataframe thead th {\n",
       "        text-align: right;\n",
       "    }\n",
       "</style>\n",
       "<table border=\"1\" class=\"dataframe\">\n",
       "  <thead>\n",
       "    <tr style=\"text-align: right;\">\n",
       "      <th></th>\n",
       "      <th>차대번호</th>\n",
       "      <th>상시</th>\n",
       "    </tr>\n",
       "  </thead>\n",
       "  <tbody>\n",
       "    <tr>\n",
       "      <th>0</th>\n",
       "      <td>01771226923</td>\n",
       "      <td>3.00</td>\n",
       "    </tr>\n",
       "    <tr>\n",
       "      <th>1</th>\n",
       "      <td>01781201391</td>\n",
       "      <td>1.00</td>\n",
       "    </tr>\n",
       "    <tr>\n",
       "      <th>2</th>\n",
       "      <td>01781212746</td>\n",
       "      <td>1.00</td>\n",
       "    </tr>\n",
       "    <tr>\n",
       "      <th>3</th>\n",
       "      <td>01791201714</td>\n",
       "      <td>2.00</td>\n",
       "    </tr>\n",
       "    <tr>\n",
       "      <th>4</th>\n",
       "      <td>01792116793</td>\n",
       "      <td>7.00</td>\n",
       "    </tr>\n",
       "    <tr>\n",
       "      <th>...</th>\n",
       "      <td>...</td>\n",
       "      <td>...</td>\n",
       "    </tr>\n",
       "    <tr>\n",
       "      <th>86533</th>\n",
       "      <td>YV2JSO2C668870647</td>\n",
       "      <td>64.00</td>\n",
       "    </tr>\n",
       "    <tr>\n",
       "      <th>86534</th>\n",
       "      <td>YV2JSO2C768870642</td>\n",
       "      <td>4.00</td>\n",
       "    </tr>\n",
       "    <tr>\n",
       "      <th>86535</th>\n",
       "      <td>YV2JSO2C76A620052</td>\n",
       "      <td>1.00</td>\n",
       "    </tr>\n",
       "    <tr>\n",
       "      <th>86536</th>\n",
       "      <td>YV2JSO2C968870643</td>\n",
       "      <td>86.00</td>\n",
       "    </tr>\n",
       "    <tr>\n",
       "      <th>86537</th>\n",
       "      <td>YV2X1G1G2EA766707</td>\n",
       "      <td>6.00</td>\n",
       "    </tr>\n",
       "  </tbody>\n",
       "</table>\n",
       "<p>86538 rows × 2 columns</p>\n",
       "</div>"
      ],
      "text/plain": [
       "                    차대번호    상시\n",
       "0            01771226923  3.00\n",
       "1            01781201391  1.00\n",
       "2            01781212746  1.00\n",
       "3            01791201714  2.00\n",
       "4            01792116793  7.00\n",
       "...                  ...   ...\n",
       "86533  YV2JSO2C668870647 64.00\n",
       "86534  YV2JSO2C768870642  4.00\n",
       "86535  YV2JSO2C76A620052  1.00\n",
       "86536  YV2JSO2C968870643 86.00\n",
       "86537  YV2X1G1G2EA766707  6.00\n",
       "\n",
       "[86538 rows x 2 columns]"
      ]
     },
     "execution_count": 223,
     "metadata": {},
     "output_type": "execute_result"
    }
   ],
   "source": [
    "limit_alw = us_total.groupby('차대번호', as_index=False).agg({'적발건수':'sum'})\n",
    "limit_alw = limit_alw.rename(columns={'적발건수':'상시'})\n",
    "limit_alw"
   ]
  },
  {
   "cell_type": "code",
   "execution_count": 224,
   "metadata": {},
   "outputs": [
    {
     "data": {
      "text/plain": [
       "((452851, 5), (227035, 2), (86538, 2))"
      ]
     },
     "execution_count": 224,
     "metadata": {},
     "output_type": "execute_result"
    }
   ],
   "source": [
    "limit_season.shape, limit_high.shape, limit_alw.shape"
   ]
  },
  {
   "cell_type": "code",
   "execution_count": 225,
   "metadata": {},
   "outputs": [
    {
     "data": {
      "text/plain": [
       "(452851, 6)"
      ]
     },
     "execution_count": 225,
     "metadata": {},
     "output_type": "execute_result"
    }
   ],
   "source": [
    "limit_sh = limit_season.merge(limit_high, on='차대번호', how='left')\n",
    "limit_sh.shape"
   ]
  },
  {
   "cell_type": "code",
   "execution_count": 226,
   "metadata": {},
   "outputs": [
    {
     "data": {
      "text/plain": [
       "(452851, 7)"
      ]
     },
     "execution_count": 226,
     "metadata": {},
     "output_type": "execute_result"
    }
   ],
   "source": [
    "limit = limit_sh.merge(limit_alw, on='차대번호', how='left')\n",
    "limit.shape"
   ]
  },
  {
   "cell_type": "code",
   "execution_count": 227,
   "metadata": {},
   "outputs": [
    {
     "data": {
      "text/plain": [
       "Index(['차대번호', '계절제_1차', '계절제_2차', '계절제_3차', '계절제_4차', '비상시', '상시'], dtype='object')"
      ]
     },
     "execution_count": 227,
     "metadata": {},
     "output_type": "execute_result"
    }
   ],
   "source": [
    "limit.columns"
   ]
  },
  {
   "cell_type": "code",
   "execution_count": 228,
   "metadata": {},
   "outputs": [
    {
     "data": {
      "text/plain": [
       "계절제_1차         0\n",
       "계절제_2차         0\n",
       "계절제_3차         0\n",
       "계절제_4차         0\n",
       "비상시       289859\n",
       "상시        403805\n",
       "dtype: int64"
      ]
     },
     "execution_count": 228,
     "metadata": {},
     "output_type": "execute_result"
    }
   ],
   "source": [
    "limit.iloc[:, 1:].isnull().sum()"
   ]
  },
  {
   "cell_type": "code",
   "execution_count": 229,
   "metadata": {},
   "outputs": [
    {
     "data": {
      "text/plain": [
       "계절제_1차    0\n",
       "계절제_2차    0\n",
       "계절제_3차    0\n",
       "계절제_4차    0\n",
       "비상시       0\n",
       "상시        0\n",
       "dtype: int64"
      ]
     },
     "execution_count": 229,
     "metadata": {},
     "output_type": "execute_result"
    }
   ],
   "source": [
    "limit.iloc[:, 1:] = limit.iloc[:, 1:].fillna(0)\n",
    "limit.iloc[:, 1:].isnull().sum()"
   ]
  },
  {
   "cell_type": "code",
   "execution_count": 230,
   "metadata": {},
   "outputs": [
    {
     "data": {
      "text/plain": [
       "비상시    float64\n",
       "상시     float64\n",
       "dtype: object"
      ]
     },
     "execution_count": 230,
     "metadata": {},
     "output_type": "execute_result"
    }
   ],
   "source": [
    "limit[['비상시', '상시']].dtypes"
   ]
  },
  {
   "cell_type": "code",
   "execution_count": 231,
   "metadata": {},
   "outputs": [],
   "source": [
    "limit['비상시'] = limit['비상시'].astype('int')\n",
    "limit['상시'] = limit['상시'].astype('int')"
   ]
  },
  {
   "cell_type": "code",
   "execution_count": 232,
   "metadata": {},
   "outputs": [
    {
     "data": {
      "text/html": [
       "<div>\n",
       "<style scoped>\n",
       "    .dataframe tbody tr th:only-of-type {\n",
       "        vertical-align: middle;\n",
       "    }\n",
       "\n",
       "    .dataframe tbody tr th {\n",
       "        vertical-align: top;\n",
       "    }\n",
       "\n",
       "    .dataframe thead th {\n",
       "        text-align: right;\n",
       "    }\n",
       "</style>\n",
       "<table border=\"1\" class=\"dataframe\">\n",
       "  <thead>\n",
       "    <tr style=\"text-align: right;\">\n",
       "      <th></th>\n",
       "      <th>차대번호</th>\n",
       "      <th>계절제_1차</th>\n",
       "      <th>계절제_2차</th>\n",
       "      <th>계절제_3차</th>\n",
       "      <th>계절제_4차</th>\n",
       "      <th>비상시</th>\n",
       "      <th>상시</th>\n",
       "    </tr>\n",
       "  </thead>\n",
       "  <tbody>\n",
       "    <tr>\n",
       "      <th>0</th>\n",
       "      <td>000000JN44C000673</td>\n",
       "      <td>0</td>\n",
       "      <td>0</td>\n",
       "      <td>9</td>\n",
       "      <td>0</td>\n",
       "      <td>1</td>\n",
       "      <td>0</td>\n",
       "    </tr>\n",
       "    <tr>\n",
       "      <th>1</th>\n",
       "      <td>01451201380</td>\n",
       "      <td>0</td>\n",
       "      <td>0</td>\n",
       "      <td>0</td>\n",
       "      <td>0</td>\n",
       "      <td>0</td>\n",
       "      <td>0</td>\n",
       "    </tr>\n",
       "    <tr>\n",
       "      <th>2</th>\n",
       "      <td>01741320297</td>\n",
       "      <td>0</td>\n",
       "      <td>0</td>\n",
       "      <td>0</td>\n",
       "      <td>0</td>\n",
       "      <td>0</td>\n",
       "      <td>0</td>\n",
       "    </tr>\n",
       "    <tr>\n",
       "      <th>3</th>\n",
       "      <td>01751300580</td>\n",
       "      <td>0</td>\n",
       "      <td>1</td>\n",
       "      <td>0</td>\n",
       "      <td>0</td>\n",
       "      <td>0</td>\n",
       "      <td>0</td>\n",
       "    </tr>\n",
       "    <tr>\n",
       "      <th>4</th>\n",
       "      <td>01761300921</td>\n",
       "      <td>0</td>\n",
       "      <td>0</td>\n",
       "      <td>0</td>\n",
       "      <td>0</td>\n",
       "      <td>0</td>\n",
       "      <td>0</td>\n",
       "    </tr>\n",
       "  </tbody>\n",
       "</table>\n",
       "</div>"
      ],
      "text/plain": [
       "                차대번호  계절제_1차  계절제_2차  계절제_3차  계절제_4차  비상시  상시\n",
       "0  000000JN44C000673       0       0       9       0    1   0\n",
       "1        01451201380       0       0       0       0    0   0\n",
       "2        01741320297       0       0       0       0    0   0\n",
       "3        01751300580       0       1       0       0    0   0\n",
       "4        01761300921       0       0       0       0    0   0"
      ]
     },
     "execution_count": 232,
     "metadata": {},
     "output_type": "execute_result"
    }
   ],
   "source": [
    "limit.head()"
   ]
  },
  {
   "cell_type": "code",
   "execution_count": 233,
   "metadata": {},
   "outputs": [
    {
     "data": {
      "text/plain": [
       "(452851, 7)"
      ]
     },
     "execution_count": 233,
     "metadata": {},
     "output_type": "execute_result"
    }
   ],
   "source": [
    "limit.shape"
   ]
  },
  {
   "cell_type": "code",
   "execution_count": 234,
   "metadata": {},
   "outputs": [
    {
     "data": {
      "text/plain": [
       "(973987, 20)"
      ]
     },
     "execution_count": 234,
     "metadata": {},
     "output_type": "execute_result"
    }
   ],
   "source": [
    "df.shape"
   ]
  },
  {
   "cell_type": "code",
   "execution_count": 235,
   "metadata": {},
   "outputs": [
    {
     "data": {
      "text/plain": [
       "(973987, 26)"
      ]
     },
     "execution_count": 235,
     "metadata": {},
     "output_type": "execute_result"
    }
   ],
   "source": [
    "lmt1 = df.merge(limit, on='차대번호', how='left')\n",
    "lmt1.shape"
   ]
  },
  {
   "cell_type": "code",
   "execution_count": 236,
   "metadata": {},
   "outputs": [
    {
     "data": {
      "text/plain": [
       "Index(['차대번호', '법정동코드', '차량말소YN', '제원관리번호', '차량연식', '차종', '용도', '최초등록일자',\n",
       "       '제작일자', '차량관리번호', '연료', '차종유형', 'DPF_YN', '시도코드', '시군구코드', '시도', '시군구',\n",
       "       '조기폐차상태코드', '조기폐차최종승인YN', '말소일자', '계절제_1차', '계절제_2차', '계절제_3차',\n",
       "       '계절제_4차', '비상시', '상시'],\n",
       "      dtype='object')"
      ]
     },
     "execution_count": 236,
     "metadata": {},
     "output_type": "execute_result"
    }
   ],
   "source": [
    "lmt1.columns"
   ]
  },
  {
   "cell_type": "code",
   "execution_count": 237,
   "metadata": {},
   "outputs": [
    {
     "data": {
      "text/html": [
       "<div>\n",
       "<style scoped>\n",
       "    .dataframe tbody tr th:only-of-type {\n",
       "        vertical-align: middle;\n",
       "    }\n",
       "\n",
       "    .dataframe tbody tr th {\n",
       "        vertical-align: top;\n",
       "    }\n",
       "\n",
       "    .dataframe thead th {\n",
       "        text-align: right;\n",
       "    }\n",
       "</style>\n",
       "<table border=\"1\" class=\"dataframe\">\n",
       "  <thead>\n",
       "    <tr style=\"text-align: right;\">\n",
       "      <th></th>\n",
       "      <th>차대번호</th>\n",
       "      <th>법정동코드</th>\n",
       "      <th>차량말소YN</th>\n",
       "      <th>제원관리번호</th>\n",
       "      <th>차량연식</th>\n",
       "      <th>차종</th>\n",
       "      <th>용도</th>\n",
       "      <th>최초등록일자</th>\n",
       "      <th>제작일자</th>\n",
       "      <th>차량관리번호</th>\n",
       "      <th>...</th>\n",
       "      <th>시군구</th>\n",
       "      <th>조기폐차상태코드</th>\n",
       "      <th>조기폐차최종승인YN</th>\n",
       "      <th>말소일자</th>\n",
       "      <th>계절제_1차</th>\n",
       "      <th>계절제_2차</th>\n",
       "      <th>계절제_3차</th>\n",
       "      <th>계절제_4차</th>\n",
       "      <th>비상시</th>\n",
       "      <th>상시</th>\n",
       "    </tr>\n",
       "  </thead>\n",
       "  <tbody>\n",
       "    <tr>\n",
       "      <th>0</th>\n",
       "      <td>KL3C3AHF27K000073</td>\n",
       "      <td>4785000000</td>\n",
       "      <td>N</td>\n",
       "      <td>A0310007202023307</td>\n",
       "      <td>2007</td>\n",
       "      <td>화물</td>\n",
       "      <td>개인용</td>\n",
       "      <td>20230613.00</td>\n",
       "      <td>20070627.00</td>\n",
       "      <td>KL3C3AHF27K000073-01</td>\n",
       "      <td>...</td>\n",
       "      <td>칠곡군</td>\n",
       "      <td>NaN</td>\n",
       "      <td>NaN</td>\n",
       "      <td>NaN</td>\n",
       "      <td>NaN</td>\n",
       "      <td>NaN</td>\n",
       "      <td>NaN</td>\n",
       "      <td>NaN</td>\n",
       "      <td>NaN</td>\n",
       "      <td>NaN</td>\n",
       "    </tr>\n",
       "    <tr>\n",
       "      <th>1</th>\n",
       "      <td>KMFGA17PP7C071816</td>\n",
       "      <td>4427000000</td>\n",
       "      <td>N</td>\n",
       "      <td>00034427000023223</td>\n",
       "      <td>2007</td>\n",
       "      <td>화물</td>\n",
       "      <td>개인용</td>\n",
       "      <td>20230221.00</td>\n",
       "      <td>20061231.00</td>\n",
       "      <td>KMFGA17PP7C071816-01</td>\n",
       "      <td>...</td>\n",
       "      <td>당진시</td>\n",
       "      <td>NaN</td>\n",
       "      <td>NaN</td>\n",
       "      <td>NaN</td>\n",
       "      <td>NaN</td>\n",
       "      <td>NaN</td>\n",
       "      <td>NaN</td>\n",
       "      <td>NaN</td>\n",
       "      <td>NaN</td>\n",
       "      <td>NaN</td>\n",
       "    </tr>\n",
       "    <tr>\n",
       "      <th>2</th>\n",
       "      <td>KL3C3AHF27K000082</td>\n",
       "      <td>4481000000</td>\n",
       "      <td>N</td>\n",
       "      <td>A0310007202023307</td>\n",
       "      <td>2007</td>\n",
       "      <td>화물</td>\n",
       "      <td>개인용</td>\n",
       "      <td>20220711.00</td>\n",
       "      <td>20070627.00</td>\n",
       "      <td>KL3C3AHF27K000082-01</td>\n",
       "      <td>...</td>\n",
       "      <td>예산군</td>\n",
       "      <td>NaN</td>\n",
       "      <td>NaN</td>\n",
       "      <td>NaN</td>\n",
       "      <td>NaN</td>\n",
       "      <td>NaN</td>\n",
       "      <td>NaN</td>\n",
       "      <td>NaN</td>\n",
       "      <td>NaN</td>\n",
       "      <td>NaN</td>\n",
       "    </tr>\n",
       "    <tr>\n",
       "      <th>3</th>\n",
       "      <td>KRGLAAC3K3B019534</td>\n",
       "      <td>2714000000</td>\n",
       "      <td>N</td>\n",
       "      <td>00034427000033222</td>\n",
       "      <td>2003</td>\n",
       "      <td>화물</td>\n",
       "      <td>개인용</td>\n",
       "      <td>20220414.00</td>\n",
       "      <td>20021231.00</td>\n",
       "      <td>KRGLAAC3K3B019534-01</td>\n",
       "      <td>...</td>\n",
       "      <td>동구</td>\n",
       "      <td>NaN</td>\n",
       "      <td>NaN</td>\n",
       "      <td>NaN</td>\n",
       "      <td>NaN</td>\n",
       "      <td>NaN</td>\n",
       "      <td>NaN</td>\n",
       "      <td>NaN</td>\n",
       "      <td>NaN</td>\n",
       "      <td>NaN</td>\n",
       "    </tr>\n",
       "    <tr>\n",
       "      <th>4</th>\n",
       "      <td>KL3C3AHF27K000068</td>\n",
       "      <td>4684000000</td>\n",
       "      <td>N</td>\n",
       "      <td>A0310007202023307</td>\n",
       "      <td>2007</td>\n",
       "      <td>화물</td>\n",
       "      <td>개인용</td>\n",
       "      <td>20220413.00</td>\n",
       "      <td>20070618.00</td>\n",
       "      <td>KL3C3AHF27K000068-01</td>\n",
       "      <td>...</td>\n",
       "      <td>무안군</td>\n",
       "      <td>NaN</td>\n",
       "      <td>NaN</td>\n",
       "      <td>NaN</td>\n",
       "      <td>NaN</td>\n",
       "      <td>NaN</td>\n",
       "      <td>NaN</td>\n",
       "      <td>NaN</td>\n",
       "      <td>NaN</td>\n",
       "      <td>NaN</td>\n",
       "    </tr>\n",
       "  </tbody>\n",
       "</table>\n",
       "<p>5 rows × 26 columns</p>\n",
       "</div>"
      ],
      "text/plain": [
       "                차대번호       법정동코드 차량말소YN             제원관리번호  차량연식  차종   용도   \n",
       "0  KL3C3AHF27K000073  4785000000      N  A0310007202023307  2007  화물  개인용  \\\n",
       "1  KMFGA17PP7C071816  4427000000      N  00034427000023223  2007  화물  개인용   \n",
       "2  KL3C3AHF27K000082  4481000000      N  A0310007202023307  2007  화물  개인용   \n",
       "3  KRGLAAC3K3B019534  2714000000      N  00034427000033222  2003  화물  개인용   \n",
       "4  KL3C3AHF27K000068  4684000000      N  A0310007202023307  2007  화물  개인용   \n",
       "\n",
       "       최초등록일자        제작일자                차량관리번호  ...  시군구 조기폐차상태코드 조기폐차최종승인YN   \n",
       "0 20230613.00 20070627.00  KL3C3AHF27K000073-01  ...  칠곡군      NaN        NaN  \\\n",
       "1 20230221.00 20061231.00  KMFGA17PP7C071816-01  ...  당진시      NaN        NaN   \n",
       "2 20220711.00 20070627.00  KL3C3AHF27K000082-01  ...  예산군      NaN        NaN   \n",
       "3 20220414.00 20021231.00  KRGLAAC3K3B019534-01  ...   동구      NaN        NaN   \n",
       "4 20220413.00 20070618.00  KL3C3AHF27K000068-01  ...  무안군      NaN        NaN   \n",
       "\n",
       "   말소일자  계절제_1차 계절제_2차 계절제_3차 계절제_4차 비상시  상시  \n",
       "0   NaN     NaN    NaN    NaN    NaN NaN NaN  \n",
       "1   NaN     NaN    NaN    NaN    NaN NaN NaN  \n",
       "2   NaN     NaN    NaN    NaN    NaN NaN NaN  \n",
       "3   NaN     NaN    NaN    NaN    NaN NaN NaN  \n",
       "4   NaN     NaN    NaN    NaN    NaN NaN NaN  \n",
       "\n",
       "[5 rows x 26 columns]"
      ]
     },
     "execution_count": 237,
     "metadata": {},
     "output_type": "execute_result"
    }
   ],
   "source": [
    "lmt1.head()"
   ]
  },
  {
   "cell_type": "code",
   "execution_count": 238,
   "metadata": {},
   "outputs": [
    {
     "data": {
      "text/plain": [
       "array(['경상북도', '충청남도', '대구광역시', '전라남도', '경기도', '울산광역시', '부산광역시', '광주광역시',\n",
       "       '대전광역시', '경상남도', '강원특별자치도', '충청북도', '전라북도', '서울특별시', '인천광역시',\n",
       "       '제주특별자치도', '세종특별자치시'], dtype=object)"
      ]
     },
     "execution_count": 238,
     "metadata": {},
     "output_type": "execute_result"
    }
   ],
   "source": [
    "lmt1['시도'].unique()"
   ]
  },
  {
   "cell_type": "code",
   "execution_count": 239,
   "metadata": {},
   "outputs": [],
   "source": [
    "lmt1.loc[(lmt1['시도'] == '서울특별시') | (lmt1['시도'] == '경기도') | (lmt1['시도'] == '인천광역시'), '지역'] = '수도권'\n",
    "lmt1['지역'] = lmt1['지역'].fillna('수도권외')"
   ]
  },
  {
   "cell_type": "code",
   "execution_count": 240,
   "metadata": {},
   "outputs": [
    {
     "data": {
      "text/plain": [
       "array(['수도권외', '수도권'], dtype=object)"
      ]
     },
     "execution_count": 240,
     "metadata": {},
     "output_type": "execute_result"
    }
   ],
   "source": [
    "lmt1['지역'].unique()"
   ]
  },
  {
   "cell_type": "code",
   "execution_count": 241,
   "metadata": {},
   "outputs": [
    {
     "data": {
      "text/plain": [
       "DPF_YN\n",
       "NaN    692500\n",
       "유      281487\n",
       "Name: count, dtype: int64"
      ]
     },
     "execution_count": 241,
     "metadata": {},
     "output_type": "execute_result"
    }
   ],
   "source": [
    "lmt1['DPF_YN'].value_counts(dropna=False)"
   ]
  },
  {
   "cell_type": "code",
   "execution_count": 242,
   "metadata": {},
   "outputs": [],
   "source": [
    "lmt1['DPF_YN'] = lmt1['DPF_YN'].fillna('무')"
   ]
  },
  {
   "cell_type": "code",
   "execution_count": 243,
   "metadata": {},
   "outputs": [
    {
     "data": {
      "text/plain": [
       "(datetime.datetime(2020, 12, 1, 0, 0), datetime.datetime(2021, 3, 31, 0, 0))"
      ]
     },
     "execution_count": 243,
     "metadata": {},
     "output_type": "execute_result"
    }
   ],
   "source": [
    "season_start_date = datetime(2020, 12, 1)\n",
    "season_end_date = datetime(2021, 3, 31)\n",
    "season_start_date, season_end_date"
   ]
  },
  {
   "cell_type": "code",
   "execution_count": 244,
   "metadata": {},
   "outputs": [
    {
     "data": {
      "text/plain": [
       "120"
      ]
     },
     "execution_count": 244,
     "metadata": {},
     "output_type": "execute_result"
    }
   ],
   "source": [
    "days = (season_end_date - season_start_date).days\n",
    "days"
   ]
  },
  {
   "cell_type": "code",
   "execution_count": 245,
   "metadata": {},
   "outputs": [],
   "source": [
    "for one in [x for x in limit_season_rename_dict.values()]:\n",
    "    lmt1[one + '_일평균'] = lmt1[one] / days"
   ]
  },
  {
   "cell_type": "code",
   "execution_count": 246,
   "metadata": {},
   "outputs": [
    {
     "data": {
      "text/plain": [
       "Index(['차대번호', '법정동코드', '차량말소YN', '제원관리번호', '차량연식', '차종', '용도', '최초등록일자',\n",
       "       '제작일자', '차량관리번호', '연료', '차종유형', 'DPF_YN', '시도코드', '시군구코드', '시도', '시군구',\n",
       "       '조기폐차상태코드', '조기폐차최종승인YN', '말소일자', '계절제_1차', '계절제_2차', '계절제_3차',\n",
       "       '계절제_4차', '비상시', '상시', '지역', '계절제_1차_일평균', '계절제_2차_일평균', '계절제_3차_일평균',\n",
       "       '계절제_4차_일평균'],\n",
       "      dtype='object')"
      ]
     },
     "execution_count": 246,
     "metadata": {},
     "output_type": "execute_result"
    }
   ],
   "source": [
    "lmt1.columns"
   ]
  },
  {
   "cell_type": "code",
   "execution_count": 247,
   "metadata": {},
   "outputs": [
    {
     "data": {
      "text/plain": [
       "계절제_1차        688161\n",
       "계절제_2차        688161\n",
       "계절제_3차        688161\n",
       "계절제_4차        688161\n",
       "계절제_1차_일평균    688161\n",
       "계절제_2차_일평균    688161\n",
       "계절제_3차_일평균    688161\n",
       "계절제_4차_일평균    688161\n",
       "dtype: int64"
      ]
     },
     "execution_count": 247,
     "metadata": {},
     "output_type": "execute_result"
    }
   ],
   "source": [
    "lmt1[[x for x in limit_season_rename_dict.values()] + [x + '_일평균' for x in limit_season_rename_dict.values()]].isnull().sum()"
   ]
  },
  {
   "cell_type": "code",
   "execution_count": 248,
   "metadata": {},
   "outputs": [
    {
     "data": {
      "text/plain": [
       "계절제_1차        0\n",
       "계절제_2차        0\n",
       "계절제_3차        0\n",
       "계절제_4차        0\n",
       "계절제_1차_일평균    0\n",
       "계절제_2차_일평균    0\n",
       "계절제_3차_일평균    0\n",
       "계절제_4차_일평균    0\n",
       "dtype: int64"
      ]
     },
     "execution_count": 248,
     "metadata": {},
     "output_type": "execute_result"
    }
   ],
   "source": [
    "lmt1[[x for x in limit_season_rename_dict.values()] + [x + '_일평균' for x in limit_season_rename_dict.values()]] = lmt1[[x for x in limit_season_rename_dict.values()] + [x + '_일평균' for x in limit_season_rename_dict.values()]].fillna(0)\n",
    "lmt1[[x for x in limit_season_rename_dict.values()] + [x + '_일평균' for x in limit_season_rename_dict.values()]].isnull().sum()"
   ]
  },
  {
   "cell_type": "code",
   "execution_count": null,
   "metadata": {},
   "outputs": [],
   "source": [
    "# season = lmt1[season_col]"
   ]
  },
  {
   "cell_type": "code",
   "execution_count": null,
   "metadata": {},
   "outputs": [],
   "source": [
    "# cdict = {\n",
    "#     '테이블생성일자':'LOAD_DT', \n",
    "#     '차대번호':'VIN', \n",
    "#     '적발지역':'RGN', \n",
    "#     '적발시도':'CTPV', \n",
    "#     'DPF_YN':'DPF_EXTRNS_YN', \n",
    "#     '차종':'VHCTY_CD', \n",
    "#     '차종유형':'VHCTY_TY', \n",
    "# }\n",
    "# for one in limit_season_rename_dict.values():\n",
    "#     cdict[one] = one.replace('계절제', 'SEASON').replace('차', 'ODR_CRDN_NOCS')\n",
    "# cdict"
   ]
  },
  {
   "cell_type": "code",
   "execution_count": null,
   "metadata": {},
   "outputs": [],
   "source": []
  },
  {
   "cell_type": "markdown",
   "metadata": {},
   "source": [
    "### 수정 코드(2023.08.31)"
   ]
  },
  {
   "cell_type": "code",
   "execution_count": 249,
   "metadata": {},
   "outputs": [
    {
     "data": {
      "text/plain": [
       "Index(['적발번호', '발령번호', '차대번호', '등록시도코드', '등록시군구코드', '적발지역코드', '단속일', '유형기준아이디',\n",
       "       '농도기준아이디', '등록시도', '등록시군구', '적발시도코드', '적발시군구코드', '적발시도', '적발시군구',\n",
       "       '적발지역', '계절제_1차여부', '계절제_2차여부', '계절제_3차여부', '계절제_4차여부'],\n",
       "      dtype='object')"
      ]
     },
     "execution_count": 249,
     "metadata": {},
     "output_type": "execute_result"
    }
   ],
   "source": [
    "is_season.columns"
   ]
  },
  {
   "cell_type": "code",
   "execution_count": 250,
   "metadata": {},
   "outputs": [
    {
     "data": {
      "text/plain": [
       "array([nan, 'Y'], dtype=object)"
      ]
     },
     "execution_count": 250,
     "metadata": {},
     "output_type": "execute_result"
    }
   ],
   "source": [
    "is_season['계절제_2차여부'].unique()"
   ]
  },
  {
   "cell_type": "code",
   "execution_count": 251,
   "metadata": {},
   "outputs": [
    {
     "data": {
      "text/plain": [
       "((16382044, 20), 452851)"
      ]
     },
     "execution_count": 251,
     "metadata": {},
     "output_type": "execute_result"
    }
   ],
   "source": [
    "is_season.shape, len(is_season['차대번호'].unique())"
   ]
  },
  {
   "cell_type": "code",
   "execution_count": 252,
   "metadata": {},
   "outputs": [
    {
     "data": {
      "text/plain": [
       "(16382044, 39)"
      ]
     },
     "execution_count": 252,
     "metadata": {},
     "output_type": "execute_result"
    }
   ],
   "source": [
    "# !!! 수정(2023.09.01)\n",
    "ss_df = is_season.merge(df, on='차대번호', how='left')\n",
    "ss_df.shape"
   ]
  },
  {
   "cell_type": "code",
   "execution_count": 253,
   "metadata": {},
   "outputs": [
    {
     "data": {
      "text/plain": [
       "(0, 39)"
      ]
     },
     "execution_count": 253,
     "metadata": {},
     "output_type": "execute_result"
    }
   ],
   "source": [
    "ss_df[((ss_df['계절제_2차여부'] == 'Y') | ((ss_df['계절제_3차여부'] == 'Y'))) & ((ss_df['적발시도'] == '부산광역시') | (ss_df['적발시도'] == '대구광역시'))].shape"
   ]
  },
  {
   "cell_type": "code",
   "execution_count": 254,
   "metadata": {},
   "outputs": [
    {
     "data": {
      "text/plain": [
       "Index(['적발번호', '발령번호', '차대번호', '등록시도코드', '등록시군구코드', '적발지역코드', '단속일', '유형기준아이디',\n",
       "       '농도기준아이디', '등록시도', '등록시군구', '적발시도코드', '적발시군구코드', '적발시도', '적발시군구',\n",
       "       '적발지역', '계절제_1차여부', '계절제_2차여부', '계절제_3차여부', '계절제_4차여부', '법정동코드',\n",
       "       '차량말소YN', '제원관리번호', '차량연식', '차종', '용도', '최초등록일자', '제작일자', '차량관리번호',\n",
       "       '연료', '차종유형', 'DPF_YN', '시도코드', '시군구코드', '시도', '시군구', '조기폐차상태코드',\n",
       "       '조기폐차최종승인YN', '말소일자'],\n",
       "      dtype='object')"
      ]
     },
     "execution_count": 254,
     "metadata": {},
     "output_type": "execute_result"
    }
   ],
   "source": [
    "ss_df.columns"
   ]
  },
  {
   "cell_type": "code",
   "execution_count": 255,
   "metadata": {},
   "outputs": [
    {
     "data": {
      "text/plain": [
       "array(['인천광역시', '부산광역시', '대구광역시', '서울특별시', '경기도'], dtype=object)"
      ]
     },
     "execution_count": 255,
     "metadata": {},
     "output_type": "execute_result"
    }
   ],
   "source": [
    "ss_df['적발시도'].unique()"
   ]
  },
  {
   "cell_type": "code",
   "execution_count": 256,
   "metadata": {},
   "outputs": [
    {
     "data": {
      "text/plain": [
       "array(['수도권', '수도권외'], dtype=object)"
      ]
     },
     "execution_count": 256,
     "metadata": {},
     "output_type": "execute_result"
    }
   ],
   "source": [
    "ss_df['적발지역'].unique()"
   ]
  },
  {
   "cell_type": "code",
   "execution_count": 257,
   "metadata": {},
   "outputs": [
    {
     "data": {
      "text/plain": [
       "적발지역\n",
       "수도권     15429850\n",
       "수도권외      952194\n",
       "Name: count, dtype: int64"
      ]
     },
     "execution_count": 257,
     "metadata": {},
     "output_type": "execute_result"
    }
   ],
   "source": [
    "ss_df['적발지역'].value_counts(dropna=False)"
   ]
  },
  {
   "cell_type": "code",
   "execution_count": 258,
   "metadata": {},
   "outputs": [
    {
     "data": {
      "text/plain": [
       "DPF_YN\n",
       "유      9791226\n",
       "NaN    6590818\n",
       "Name: count, dtype: int64"
      ]
     },
     "execution_count": 258,
     "metadata": {},
     "output_type": "execute_result"
    }
   ],
   "source": [
    "ss_df['DPF_YN'].value_counts(dropna=False)"
   ]
  },
  {
   "cell_type": "code",
   "execution_count": 259,
   "metadata": {},
   "outputs": [
    {
     "data": {
      "text/plain": [
       "DPF_YN\n",
       "유    9791226\n",
       "무    6590818\n",
       "Name: count, dtype: int64"
      ]
     },
     "execution_count": 259,
     "metadata": {},
     "output_type": "execute_result"
    }
   ],
   "source": [
    "# !!! 수정(2023.09.01)\n",
    "ss_df['DPF_YN'] = ss_df['DPF_YN'].fillna('무')\n",
    "ss_df['DPF_YN'].value_counts(dropna=False)"
   ]
  },
  {
   "cell_type": "code",
   "execution_count": 260,
   "metadata": {},
   "outputs": [],
   "source": [
    "ss_df['테이블생성일자'] = today_date"
   ]
  },
  {
   "cell_type": "code",
   "execution_count": 261,
   "metadata": {},
   "outputs": [
    {
     "data": {
      "text/plain": [
       "['계절제_1차여부', '계절제_2차여부', '계절제_3차여부', '계절제_4차여부']"
      ]
     },
     "execution_count": 261,
     "metadata": {},
     "output_type": "execute_result"
    }
   ],
   "source": [
    "[x for x in limit_season_rename_dict.keys()]"
   ]
  },
  {
   "cell_type": "code",
   "execution_count": 262,
   "metadata": {},
   "outputs": [],
   "source": [
    "season_col = ['테이블생성일자', '차대번호'] + ['적발지역', '적발시도', 'DPF_YN', '차종', '차종유형'] + [x for x in limit_season_rename_dict.keys()]"
   ]
  },
  {
   "cell_type": "code",
   "execution_count": 263,
   "metadata": {},
   "outputs": [
    {
     "data": {
      "text/plain": [
       "(16382044, 11)"
      ]
     },
     "execution_count": 263,
     "metadata": {},
     "output_type": "execute_result"
    }
   ],
   "source": [
    "season = ss_df[season_col] # !!! 수정(2023.09.01)\n",
    "season.shape"
   ]
  },
  {
   "cell_type": "code",
   "execution_count": 264,
   "metadata": {},
   "outputs": [
    {
     "data": {
      "text/plain": [
       "array(['인천광역시', '부산광역시', '대구광역시', '서울특별시', '경기도'], dtype=object)"
      ]
     },
     "execution_count": 264,
     "metadata": {},
     "output_type": "execute_result"
    }
   ],
   "source": [
    "season['적발시도'].unique()"
   ]
  },
  {
   "cell_type": "code",
   "execution_count": 265,
   "metadata": {},
   "outputs": [
    {
     "data": {
      "text/plain": [
       "((0, 11), (0, 11))"
      ]
     },
     "execution_count": 265,
     "metadata": {},
     "output_type": "execute_result"
    }
   ],
   "source": [
    "season[(season['계절제_1차여부'] == 'Y') & (season['적발시도'] == '부산광역시')].shape, season[(season['계절제_1차여부'] == 'Y') & (season['적발시도'] == '대구광역시')].shape"
   ]
  },
  {
   "cell_type": "code",
   "execution_count": 266,
   "metadata": {},
   "outputs": [
    {
     "data": {
      "text/plain": [
       "((0, 11), (0, 11))"
      ]
     },
     "execution_count": 266,
     "metadata": {},
     "output_type": "execute_result"
    }
   ],
   "source": [
    "season[(season['계절제_2차여부'] == 'Y') & (season['적발시도'] == '부산광역시')].shape, season[(season['계절제_2차여부'] == 'Y') & (season['적발시도'] == '대구광역시')].shape"
   ]
  },
  {
   "cell_type": "code",
   "execution_count": 267,
   "metadata": {},
   "outputs": [
    {
     "data": {
      "text/plain": [
       "((0, 11), (0, 11))"
      ]
     },
     "execution_count": 267,
     "metadata": {},
     "output_type": "execute_result"
    }
   ],
   "source": [
    "season[(season['계절제_3차여부'] == 'Y') & (season['적발시도'] == '부산광역시')].shape, season[(season['계절제_3차여부'] == 'Y') & (season['적발시도'] == '대구광역시')].shape"
   ]
  },
  {
   "cell_type": "code",
   "execution_count": null,
   "metadata": {},
   "outputs": [],
   "source": []
  },
  {
   "cell_type": "code",
   "execution_count": 268,
   "metadata": {},
   "outputs": [
    {
     "data": {
      "text/plain": [
       "(452851, 5)"
      ]
     },
     "execution_count": 268,
     "metadata": {},
     "output_type": "execute_result"
    }
   ],
   "source": [
    "limit_season.shape"
   ]
  },
  {
   "cell_type": "code",
   "execution_count": 269,
   "metadata": {},
   "outputs": [
    {
     "data": {
      "text/plain": [
       "15994506"
      ]
     },
     "execution_count": 269,
     "metadata": {},
     "output_type": "execute_result"
    }
   ],
   "source": [
    "is_season['단속일'].isnull().sum()"
   ]
  },
  {
   "cell_type": "code",
   "execution_count": 270,
   "metadata": {},
   "outputs": [
    {
     "data": {
      "text/plain": [
       "Index(['적발번호', '발령번호', '차대번호', '등록시도코드', '등록시군구코드', '적발지역코드', '단속일', '유형기준아이디',\n",
       "       '농도기준아이디', '등록시도', '등록시군구', '적발시도코드', '적발시군구코드', '적발시도', '적발시군구',\n",
       "       '적발지역', '계절제_1차여부', '계절제_2차여부', '계절제_3차여부', '계절제_4차여부', '법정동코드',\n",
       "       '차량말소YN', '제원관리번호', '차량연식', '차종', '용도', '최초등록일자', '제작일자', '차량관리번호',\n",
       "       '연료', '차종유형', 'DPF_YN', '시도코드', '시군구코드', '시도', '시군구', '조기폐차상태코드',\n",
       "       '조기폐차최종승인YN', '말소일자', '테이블생성일자'],\n",
       "      dtype='object')"
      ]
     },
     "execution_count": 270,
     "metadata": {},
     "output_type": "execute_result"
    }
   ],
   "source": [
    "ss_df.columns"
   ]
  },
  {
   "cell_type": "code",
   "execution_count": 271,
   "metadata": {},
   "outputs": [
    {
     "data": {
      "text/plain": [
       "(0, 40)"
      ]
     },
     "execution_count": 271,
     "metadata": {},
     "output_type": "execute_result"
    }
   ],
   "source": [
    "ss_df[(ss_df['단속일'].isnull() == True) & ((ss_df['계절제_1차여부']) | (ss_df['계절제_1차여부']) | (ss_df['계절제_1차여부']))].shape"
   ]
  },
  {
   "cell_type": "code",
   "execution_count": 272,
   "metadata": {},
   "outputs": [
    {
     "data": {
      "text/plain": [
       "((473851, 40), (452851, 40))"
      ]
     },
     "execution_count": 272,
     "metadata": {},
     "output_type": "execute_result"
    }
   ],
   "source": [
    "ss_df.drop_duplicates(['등록시도', '차대번호']).shape, ss_df.drop_duplicates('차대번호').shape"
   ]
  },
  {
   "cell_type": "code",
   "execution_count": 273,
   "metadata": {},
   "outputs": [],
   "source": [
    "temp = ss_df.drop_duplicates(['등록시도', '차대번호'])"
   ]
  },
  {
   "cell_type": "code",
   "execution_count": 274,
   "metadata": {},
   "outputs": [
    {
     "data": {
      "text/plain": [
       "(41129, 40)"
      ]
     },
     "execution_count": 274,
     "metadata": {},
     "output_type": "execute_result"
    }
   ],
   "source": [
    "temp.loc[temp['차대번호'].duplicated(keep=False)].shape"
   ]
  },
  {
   "cell_type": "code",
   "execution_count": 275,
   "metadata": {},
   "outputs": [
    {
     "data": {
      "text/html": [
       "<div>\n",
       "<style scoped>\n",
       "    .dataframe tbody tr th:only-of-type {\n",
       "        vertical-align: middle;\n",
       "    }\n",
       "\n",
       "    .dataframe tbody tr th {\n",
       "        vertical-align: top;\n",
       "    }\n",
       "\n",
       "    .dataframe thead th {\n",
       "        text-align: right;\n",
       "    }\n",
       "</style>\n",
       "<table border=\"1\" class=\"dataframe\">\n",
       "  <thead>\n",
       "    <tr style=\"text-align: right;\">\n",
       "      <th></th>\n",
       "      <th>적발번호</th>\n",
       "      <th>발령번호</th>\n",
       "      <th>차대번호</th>\n",
       "      <th>등록시도코드</th>\n",
       "      <th>등록시군구코드</th>\n",
       "      <th>적발지역코드</th>\n",
       "      <th>단속일</th>\n",
       "      <th>유형기준아이디</th>\n",
       "      <th>농도기준아이디</th>\n",
       "      <th>등록시도</th>\n",
       "      <th>...</th>\n",
       "      <th>차종유형</th>\n",
       "      <th>DPF_YN</th>\n",
       "      <th>시도코드</th>\n",
       "      <th>시군구코드</th>\n",
       "      <th>시도</th>\n",
       "      <th>시군구</th>\n",
       "      <th>조기폐차상태코드</th>\n",
       "      <th>조기폐차최종승인YN</th>\n",
       "      <th>말소일자</th>\n",
       "      <th>테이블생성일자</th>\n",
       "    </tr>\n",
       "  </thead>\n",
       "  <tbody>\n",
       "    <tr>\n",
       "      <th>10652536</th>\n",
       "      <td>41407527</td>\n",
       "      <td>1384</td>\n",
       "      <td>01761301128</td>\n",
       "      <td>28</td>\n",
       "      <td>710</td>\n",
       "      <td>41570</td>\n",
       "      <td>20220217.00</td>\n",
       "      <td>T002</td>\n",
       "      <td>C011</td>\n",
       "      <td>인천광역시</td>\n",
       "      <td>...</td>\n",
       "      <td>대형</td>\n",
       "      <td>무</td>\n",
       "      <td>28.00</td>\n",
       "      <td>710.00</td>\n",
       "      <td>인천광역시</td>\n",
       "      <td>강화군</td>\n",
       "      <td>NaN</td>\n",
       "      <td>NaN</td>\n",
       "      <td>NaN</td>\n",
       "      <td>20230901</td>\n",
       "    </tr>\n",
       "    <tr>\n",
       "      <th>13618976</th>\n",
       "      <td>12397135</td>\n",
       "      <td>498</td>\n",
       "      <td>01761301128</td>\n",
       "      <td>41</td>\n",
       "      <td>570</td>\n",
       "      <td>28000</td>\n",
       "      <td>NaN</td>\n",
       "      <td>T002</td>\n",
       "      <td>C011</td>\n",
       "      <td>경기도</td>\n",
       "      <td>...</td>\n",
       "      <td>대형</td>\n",
       "      <td>무</td>\n",
       "      <td>28.00</td>\n",
       "      <td>710.00</td>\n",
       "      <td>인천광역시</td>\n",
       "      <td>강화군</td>\n",
       "      <td>NaN</td>\n",
       "      <td>NaN</td>\n",
       "      <td>NaN</td>\n",
       "      <td>20230901</td>\n",
       "    </tr>\n",
       "    <tr>\n",
       "      <th>7426919</th>\n",
       "      <td>6014535</td>\n",
       "      <td>448</td>\n",
       "      <td>02831187228EOQN</td>\n",
       "      <td>28</td>\n",
       "      <td>110</td>\n",
       "      <td>41170</td>\n",
       "      <td>NaN</td>\n",
       "      <td>T002</td>\n",
       "      <td>C011</td>\n",
       "      <td>인천광역시</td>\n",
       "      <td>...</td>\n",
       "      <td>소형</td>\n",
       "      <td>무</td>\n",
       "      <td>30.00</td>\n",
       "      <td>230.00</td>\n",
       "      <td>대전광역시</td>\n",
       "      <td>대덕구</td>\n",
       "      <td>NaN</td>\n",
       "      <td>NaN</td>\n",
       "      <td>NaN</td>\n",
       "      <td>20230901</td>\n",
       "    </tr>\n",
       "    <tr>\n",
       "      <th>14772763</th>\n",
       "      <td>107226544</td>\n",
       "      <td>2416</td>\n",
       "      <td>02831187228EOQN</td>\n",
       "      <td>30</td>\n",
       "      <td>230</td>\n",
       "      <td>27000</td>\n",
       "      <td>NaN</td>\n",
       "      <td>T002</td>\n",
       "      <td>C011</td>\n",
       "      <td>대전광역시</td>\n",
       "      <td>...</td>\n",
       "      <td>소형</td>\n",
       "      <td>무</td>\n",
       "      <td>30.00</td>\n",
       "      <td>230.00</td>\n",
       "      <td>대전광역시</td>\n",
       "      <td>대덕구</td>\n",
       "      <td>NaN</td>\n",
       "      <td>NaN</td>\n",
       "      <td>NaN</td>\n",
       "      <td>20230901</td>\n",
       "    </tr>\n",
       "    <tr>\n",
       "      <th>16343469</th>\n",
       "      <td>136904671</td>\n",
       "      <td>2500</td>\n",
       "      <td>03824219227</td>\n",
       "      <td>46</td>\n",
       "      <td>110</td>\n",
       "      <td>11000</td>\n",
       "      <td>20230331.00</td>\n",
       "      <td>T002</td>\n",
       "      <td>C011</td>\n",
       "      <td>전라남도</td>\n",
       "      <td>...</td>\n",
       "      <td>대형</td>\n",
       "      <td>무</td>\n",
       "      <td>46.00</td>\n",
       "      <td>110.00</td>\n",
       "      <td>전라남도</td>\n",
       "      <td>목포시</td>\n",
       "      <td>NaN</td>\n",
       "      <td>NaN</td>\n",
       "      <td>NaN</td>\n",
       "      <td>20230901</td>\n",
       "    </tr>\n",
       "    <tr>\n",
       "      <th>5852189</th>\n",
       "      <td>3906777</td>\n",
       "      <td>430</td>\n",
       "      <td>03824219227</td>\n",
       "      <td>41</td>\n",
       "      <td>280</td>\n",
       "      <td>41280</td>\n",
       "      <td>NaN</td>\n",
       "      <td>T002</td>\n",
       "      <td>C011</td>\n",
       "      <td>경기도</td>\n",
       "      <td>...</td>\n",
       "      <td>대형</td>\n",
       "      <td>무</td>\n",
       "      <td>46.00</td>\n",
       "      <td>110.00</td>\n",
       "      <td>전라남도</td>\n",
       "      <td>목포시</td>\n",
       "      <td>NaN</td>\n",
       "      <td>NaN</td>\n",
       "      <td>NaN</td>\n",
       "      <td>20230901</td>\n",
       "    </tr>\n",
       "    <tr>\n",
       "      <th>1288671</th>\n",
       "      <td>119655671</td>\n",
       "      <td>2455</td>\n",
       "      <td>110244230031</td>\n",
       "      <td>11</td>\n",
       "      <td>110</td>\n",
       "      <td>28000</td>\n",
       "      <td>NaN</td>\n",
       "      <td>T002</td>\n",
       "      <td>C011</td>\n",
       "      <td>서울특별시</td>\n",
       "      <td>...</td>\n",
       "      <td>NaN</td>\n",
       "      <td>무</td>\n",
       "      <td>NaN</td>\n",
       "      <td>NaN</td>\n",
       "      <td>NaN</td>\n",
       "      <td>NaN</td>\n",
       "      <td>NaN</td>\n",
       "      <td>NaN</td>\n",
       "      <td>NaN</td>\n",
       "      <td>20230901</td>\n",
       "    </tr>\n",
       "    <tr>\n",
       "      <th>5929219</th>\n",
       "      <td>3993320</td>\n",
       "      <td>431</td>\n",
       "      <td>110244230031</td>\n",
       "      <td>28</td>\n",
       "      <td>177</td>\n",
       "      <td>28000</td>\n",
       "      <td>NaN</td>\n",
       "      <td>T002</td>\n",
       "      <td>C011</td>\n",
       "      <td>인천광역시</td>\n",
       "      <td>...</td>\n",
       "      <td>NaN</td>\n",
       "      <td>무</td>\n",
       "      <td>NaN</td>\n",
       "      <td>NaN</td>\n",
       "      <td>NaN</td>\n",
       "      <td>NaN</td>\n",
       "      <td>NaN</td>\n",
       "      <td>NaN</td>\n",
       "      <td>NaN</td>\n",
       "      <td>20230901</td>\n",
       "    </tr>\n",
       "    <tr>\n",
       "      <th>6161864</th>\n",
       "      <td>4287875</td>\n",
       "      <td>434</td>\n",
       "      <td>118311301989</td>\n",
       "      <td>11</td>\n",
       "      <td>680</td>\n",
       "      <td>41130</td>\n",
       "      <td>NaN</td>\n",
       "      <td>T002</td>\n",
       "      <td>C011</td>\n",
       "      <td>서울특별시</td>\n",
       "      <td>...</td>\n",
       "      <td>대형</td>\n",
       "      <td>무</td>\n",
       "      <td>50.00</td>\n",
       "      <td>110.00</td>\n",
       "      <td>제주특별자치도</td>\n",
       "      <td>제주시</td>\n",
       "      <td>NaN</td>\n",
       "      <td>NaN</td>\n",
       "      <td>NaN</td>\n",
       "      <td>20230901</td>\n",
       "    </tr>\n",
       "    <tr>\n",
       "      <th>2620530</th>\n",
       "      <td>128638343</td>\n",
       "      <td>2479</td>\n",
       "      <td>118311301989</td>\n",
       "      <td>50</td>\n",
       "      <td>110</td>\n",
       "      <td>27000</td>\n",
       "      <td>NaN</td>\n",
       "      <td>T002</td>\n",
       "      <td>C011</td>\n",
       "      <td>제주특별자치도</td>\n",
       "      <td>...</td>\n",
       "      <td>대형</td>\n",
       "      <td>무</td>\n",
       "      <td>50.00</td>\n",
       "      <td>110.00</td>\n",
       "      <td>제주특별자치도</td>\n",
       "      <td>제주시</td>\n",
       "      <td>NaN</td>\n",
       "      <td>NaN</td>\n",
       "      <td>NaN</td>\n",
       "      <td>20230901</td>\n",
       "    </tr>\n",
       "  </tbody>\n",
       "</table>\n",
       "<p>10 rows × 40 columns</p>\n",
       "</div>"
      ],
      "text/plain": [
       "               적발번호  발령번호             차대번호  등록시도코드  등록시군구코드 적발지역코드   \n",
       "10652536   41407527  1384      01761301128      28      710  41570  \\\n",
       "13618976   12397135   498      01761301128      41      570  28000   \n",
       "7426919     6014535   448  02831187228EOQN      28      110  41170   \n",
       "14772763  107226544  2416  02831187228EOQN      30      230  27000   \n",
       "16343469  136904671  2500      03824219227      46      110  11000   \n",
       "5852189     3906777   430      03824219227      41      280  41280   \n",
       "1288671   119655671  2455     110244230031      11      110  28000   \n",
       "5929219     3993320   431     110244230031      28      177  28000   \n",
       "6161864     4287875   434     118311301989      11      680  41130   \n",
       "2620530   128638343  2479     118311301989      50      110  27000   \n",
       "\n",
       "                 단속일 유형기준아이디 농도기준아이디     등록시도  ... 차종유형  DPF_YN  시도코드  시군구코드   \n",
       "10652536 20220217.00    T002    C011    인천광역시  ...   대형       무 28.00 710.00  \\\n",
       "13618976         NaN    T002    C011      경기도  ...   대형       무 28.00 710.00   \n",
       "7426919          NaN    T002    C011    인천광역시  ...   소형       무 30.00 230.00   \n",
       "14772763         NaN    T002    C011    대전광역시  ...   소형       무 30.00 230.00   \n",
       "16343469 20230331.00    T002    C011     전라남도  ...   대형       무 46.00 110.00   \n",
       "5852189          NaN    T002    C011      경기도  ...   대형       무 46.00 110.00   \n",
       "1288671          NaN    T002    C011    서울특별시  ...  NaN       무   NaN    NaN   \n",
       "5929219          NaN    T002    C011    인천광역시  ...  NaN       무   NaN    NaN   \n",
       "6161864          NaN    T002    C011    서울특별시  ...   대형       무 50.00 110.00   \n",
       "2620530          NaN    T002    C011  제주특별자치도  ...   대형       무 50.00 110.00   \n",
       "\n",
       "               시도  시군구 조기폐차상태코드 조기폐차최종승인YN 말소일자   테이블생성일자  \n",
       "10652536    인천광역시  강화군      NaN        NaN  NaN  20230901  \n",
       "13618976    인천광역시  강화군      NaN        NaN  NaN  20230901  \n",
       "7426919     대전광역시  대덕구      NaN        NaN  NaN  20230901  \n",
       "14772763    대전광역시  대덕구      NaN        NaN  NaN  20230901  \n",
       "16343469     전라남도  목포시      NaN        NaN  NaN  20230901  \n",
       "5852189      전라남도  목포시      NaN        NaN  NaN  20230901  \n",
       "1288671       NaN  NaN      NaN        NaN  NaN  20230901  \n",
       "5929219       NaN  NaN      NaN        NaN  NaN  20230901  \n",
       "6161864   제주특별자치도  제주시      NaN        NaN  NaN  20230901  \n",
       "2620530   제주특별자치도  제주시      NaN        NaN  NaN  20230901  \n",
       "\n",
       "[10 rows x 40 columns]"
      ]
     },
     "execution_count": 275,
     "metadata": {},
     "output_type": "execute_result"
    }
   ],
   "source": [
    "temp.loc[temp['차대번호'].duplicated(keep=False)].sort_values('차대번호').head(10)"
   ]
  },
  {
   "cell_type": "code",
   "execution_count": null,
   "metadata": {},
   "outputs": [],
   "source": []
  },
  {
   "cell_type": "code",
   "execution_count": 276,
   "metadata": {},
   "outputs": [
    {
     "data": {
      "text/plain": [
       "{'테이블생성일자': 'LOAD_DT',\n",
       " '차대번호': 'VIN',\n",
       " '적발지역': 'DSCL_RGN',\n",
       " '적발시도': 'DSCL_CTPV',\n",
       " 'DPF_YN': 'DPF_EXTRNS_YN',\n",
       " '차종': 'VHCTY_CD',\n",
       " '차종유형': 'VHCTY_TY',\n",
       " '계절제_1차여부': 'SEASON_1ODR_CRDN_YN',\n",
       " '계절제_2차여부': 'SEASON_2ODR_CRDN_YN',\n",
       " '계절제_3차여부': 'SEASON_3ODR_CRDN_YN',\n",
       " '계절제_4차여부': 'SEASON_4ODR_CRDN_YN'}"
      ]
     },
     "execution_count": 276,
     "metadata": {},
     "output_type": "execute_result"
    }
   ],
   "source": [
    "cdict = {\n",
    "    '테이블생성일자':'LOAD_DT', \n",
    "    '차대번호':'VIN', \n",
    "    '적발지역':'DSCL_RGN', # !!! 수정(2023.09.01)\n",
    "    '적발시도':'DSCL_CTPV', # !!! 수정(2023.09.01)\n",
    "    'DPF_YN':'DPF_EXTRNS_YN', \n",
    "    '차종':'VHCTY_CD', \n",
    "    '차종유형':'VHCTY_TY', \n",
    "}\n",
    "for one in limit_season_rename_dict.keys():\n",
    "    cdict[one] = one.replace('계절제', 'SEASON').replace('차여부', 'ODR_CRDN_YN') # !!! 수정(2023.09.01)\n",
    "cdict"
   ]
  },
  {
   "cell_type": "code",
   "execution_count": 279,
   "metadata": {},
   "outputs": [
    {
     "data": {
      "text/plain": [
       "Index(['LOAD_DT', 'VIN', 'DSCL_RGN', 'DSCL_CTPV', 'DPF_EXTRNS_YN', 'VHCTY_CD',\n",
       "       'VHCTY_TY', 'SEASON_1ODR_CRDN_YN', 'SEASON_2ODR_CRDN_YN',\n",
       "       'SEASON_3ODR_CRDN_YN', 'SEASON_4ODR_CRDN_YN'],\n",
       "      dtype='object')"
      ]
     },
     "execution_count": 279,
     "metadata": {},
     "output_type": "execute_result"
    }
   ],
   "source": [
    "STD_BD_SEASON_CRDN_NOCS_CURSTT = season.rename(columns=cdict)\n",
    "STD_BD_SEASON_CRDN_NOCS_CURSTT.columns"
   ]
  },
  {
   "cell_type": "code",
   "execution_count": 280,
   "metadata": {},
   "outputs": [
    {
     "data": {
      "text/plain": [
       "['LOAD_DT',\n",
       " 'VIN',\n",
       " 'DSCL_RGN',\n",
       " 'DSCL_CTPV',\n",
       " 'DPF_EXTRNS_YN',\n",
       " 'VHCTY_CD',\n",
       " 'VHCTY_TY',\n",
       " 'SEASON_1ODR_CRDN_YN',\n",
       " 'SEASON_2ODR_CRDN_YN',\n",
       " 'SEASON_3ODR_CRDN_YN',\n",
       " 'SEASON_4ODR_CRDN_YN']"
      ]
     },
     "execution_count": 280,
     "metadata": {},
     "output_type": "execute_result"
    }
   ],
   "source": [
    "list(STD_BD_SEASON_CRDN_NOCS_CURSTT.columns)"
   ]
  },
  {
   "cell_type": "code",
   "execution_count": 281,
   "metadata": {},
   "outputs": [
    {
     "data": {
      "text/plain": [
       "(16382044, 11)"
      ]
     },
     "execution_count": 281,
     "metadata": {},
     "output_type": "execute_result"
    }
   ],
   "source": [
    "STD_BD_SEASON_CRDN_NOCS_CURSTT.shape"
   ]
  },
  {
   "cell_type": "code",
   "execution_count": 282,
   "metadata": {},
   "outputs": [
    {
     "data": {
      "text/html": [
       "<div>\n",
       "<style scoped>\n",
       "    .dataframe tbody tr th:only-of-type {\n",
       "        vertical-align: middle;\n",
       "    }\n",
       "\n",
       "    .dataframe tbody tr th {\n",
       "        vertical-align: top;\n",
       "    }\n",
       "\n",
       "    .dataframe thead th {\n",
       "        text-align: right;\n",
       "    }\n",
       "</style>\n",
       "<table border=\"1\" class=\"dataframe\">\n",
       "  <thead>\n",
       "    <tr style=\"text-align: right;\">\n",
       "      <th></th>\n",
       "      <th>LOAD_DT</th>\n",
       "      <th>VIN</th>\n",
       "      <th>DSCL_RGN</th>\n",
       "      <th>DSCL_CTPV</th>\n",
       "      <th>DPF_EXTRNS_YN</th>\n",
       "      <th>VHCTY_CD</th>\n",
       "      <th>VHCTY_TY</th>\n",
       "      <th>SEASON_1ODR_CRDN_YN</th>\n",
       "      <th>SEASON_2ODR_CRDN_YN</th>\n",
       "      <th>SEASON_3ODR_CRDN_YN</th>\n",
       "      <th>SEASON_4ODR_CRDN_YN</th>\n",
       "    </tr>\n",
       "  </thead>\n",
       "  <tbody>\n",
       "    <tr>\n",
       "      <th>0</th>\n",
       "      <td>20230901</td>\n",
       "      <td>KL90F4ADD5HZ00068</td>\n",
       "      <td>수도권</td>\n",
       "      <td>인천광역시</td>\n",
       "      <td>유</td>\n",
       "      <td>승용</td>\n",
       "      <td>대형</td>\n",
       "      <td>NaN</td>\n",
       "      <td>NaN</td>\n",
       "      <td>NaN</td>\n",
       "      <td>NaN</td>\n",
       "    </tr>\n",
       "    <tr>\n",
       "      <th>1</th>\n",
       "      <td>20230901</td>\n",
       "      <td>KL3P9CNF37K000737</td>\n",
       "      <td>수도권</td>\n",
       "      <td>인천광역시</td>\n",
       "      <td>유</td>\n",
       "      <td>화물</td>\n",
       "      <td>대형</td>\n",
       "      <td>NaN</td>\n",
       "      <td>NaN</td>\n",
       "      <td>NaN</td>\n",
       "      <td>NaN</td>\n",
       "    </tr>\n",
       "    <tr>\n",
       "      <th>2</th>\n",
       "      <td>20230901</td>\n",
       "      <td>KPBFA2AD14P125977</td>\n",
       "      <td>수도권외</td>\n",
       "      <td>부산광역시</td>\n",
       "      <td>무</td>\n",
       "      <td>승용</td>\n",
       "      <td>대형</td>\n",
       "      <td>NaN</td>\n",
       "      <td>NaN</td>\n",
       "      <td>NaN</td>\n",
       "      <td>NaN</td>\n",
       "    </tr>\n",
       "    <tr>\n",
       "      <th>3</th>\n",
       "      <td>20230901</td>\n",
       "      <td>KMFLA18AP2C034510</td>\n",
       "      <td>수도권외</td>\n",
       "      <td>부산광역시</td>\n",
       "      <td>유</td>\n",
       "      <td>화물</td>\n",
       "      <td>대형</td>\n",
       "      <td>NaN</td>\n",
       "      <td>NaN</td>\n",
       "      <td>NaN</td>\n",
       "      <td>NaN</td>\n",
       "    </tr>\n",
       "    <tr>\n",
       "      <th>4</th>\n",
       "      <td>20230901</td>\n",
       "      <td>KMFLA19AP2C031701</td>\n",
       "      <td>수도권외</td>\n",
       "      <td>부산광역시</td>\n",
       "      <td>무</td>\n",
       "      <td>화물</td>\n",
       "      <td>대형</td>\n",
       "      <td>NaN</td>\n",
       "      <td>NaN</td>\n",
       "      <td>NaN</td>\n",
       "      <td>NaN</td>\n",
       "    </tr>\n",
       "  </tbody>\n",
       "</table>\n",
       "</div>"
      ],
      "text/plain": [
       "    LOAD_DT                VIN DSCL_RGN DSCL_CTPV DPF_EXTRNS_YN VHCTY_CD   \n",
       "0  20230901  KL90F4ADD5HZ00068      수도권     인천광역시             유       승용  \\\n",
       "1  20230901  KL3P9CNF37K000737      수도권     인천광역시             유       화물   \n",
       "2  20230901  KPBFA2AD14P125977     수도권외     부산광역시             무       승용   \n",
       "3  20230901  KMFLA18AP2C034510     수도권외     부산광역시             유       화물   \n",
       "4  20230901  KMFLA19AP2C031701     수도권외     부산광역시             무       화물   \n",
       "\n",
       "  VHCTY_TY SEASON_1ODR_CRDN_YN SEASON_2ODR_CRDN_YN SEASON_3ODR_CRDN_YN   \n",
       "0       대형                 NaN                 NaN                 NaN  \\\n",
       "1       대형                 NaN                 NaN                 NaN   \n",
       "2       대형                 NaN                 NaN                 NaN   \n",
       "3       대형                 NaN                 NaN                 NaN   \n",
       "4       대형                 NaN                 NaN                 NaN   \n",
       "\n",
       "  SEASON_4ODR_CRDN_YN  \n",
       "0                 NaN  \n",
       "1                 NaN  \n",
       "2                 NaN  \n",
       "3                 NaN  \n",
       "4                 NaN  "
      ]
     },
     "execution_count": 282,
     "metadata": {},
     "output_type": "execute_result"
    }
   ],
   "source": [
    "STD_BD_SEASON_CRDN_NOCS_CURSTT.head()"
   ]
  },
  {
   "cell_type": "markdown",
   "metadata": {},
   "source": [
    "### [출력] STD_BD_SEASON_CRDN_NOCS_CURSTT"
   ]
  },
  {
   "cell_type": "code",
   "execution_count": 283,
   "metadata": {},
   "outputs": [],
   "source": [
    "# expdf = STD_BD_SEASON_CRDN_NOCS_CURSTT\n",
    "# table_nm = 'STD_BD_SEASON_CRDN_NOCS_CURSTT'.upper()\n",
    "\n",
    "# # 테이블 생성\n",
    "# sql = 'create or replace table ' + table_nm + '( \\n'\n",
    "\n",
    "# for idx,column in enumerate(expdf.columns):\n",
    "#     sql += column + ' varchar(255)'\n",
    "\n",
    "#     if len(expdf.columns) - 1 != idx:\n",
    "#         sql += ','\n",
    "#     sql += '\\n'\n",
    "# sql += ')'    \n",
    "# we.execute(sql)\n",
    "\n",
    "# # 데이터 추가\n",
    "# # 5s\n",
    "# we.import_from_pandas(expdf, table_nm)"
   ]
  },
  {
   "cell_type": "code",
   "execution_count": 409,
   "metadata": {},
   "outputs": [
    {
     "data": {
      "text/plain": [
       "'20230901'"
      ]
     },
     "execution_count": 409,
     "metadata": {},
     "output_type": "execute_result"
    }
   ],
   "source": [
    "today_date"
   ]
  },
  {
   "cell_type": "code",
   "execution_count": 284,
   "metadata": {},
   "outputs": [],
   "source": [
    "# # \n",
    "# STD_BD_SEASON_CRDN_NOCS_CURSTT.to_csv(os.path.join(df3_fold, f'STD_BD_SEASON_CRDN_NOCS_CURSTT({today_date}).csv'), index=False)"
   ]
  },
  {
   "cell_type": "markdown",
   "metadata": {},
   "source": [
    "## 계절제별 적발건수"
   ]
  },
  {
   "cell_type": "code",
   "execution_count": 285,
   "metadata": {},
   "outputs": [
    {
     "data": {
      "text/plain": [
       "{'계절제_1차여부': '계절제_1차',\n",
       " '계절제_2차여부': '계절제_2차',\n",
       " '계절제_3차여부': '계절제_3차',\n",
       " '계절제_4차여부': '계절제_4차'}"
      ]
     },
     "execution_count": 285,
     "metadata": {},
     "output_type": "execute_result"
    }
   ],
   "source": [
    "limit_season_rename_dict"
   ]
  },
  {
   "cell_type": "code",
   "execution_count": 286,
   "metadata": {},
   "outputs": [
    {
     "data": {
      "text/html": [
       "<div>\n",
       "<style scoped>\n",
       "    .dataframe tbody tr th:only-of-type {\n",
       "        vertical-align: middle;\n",
       "    }\n",
       "\n",
       "    .dataframe tbody tr th {\n",
       "        vertical-align: top;\n",
       "    }\n",
       "\n",
       "    .dataframe thead th {\n",
       "        text-align: right;\n",
       "    }\n",
       "</style>\n",
       "<table border=\"1\" class=\"dataframe\">\n",
       "  <thead>\n",
       "    <tr style=\"text-align: right;\">\n",
       "      <th></th>\n",
       "      <th>계절제차수</th>\n",
       "      <th>일평균적발건수</th>\n",
       "    </tr>\n",
       "  </thead>\n",
       "  <tbody>\n",
       "    <tr>\n",
       "      <th>0</th>\n",
       "      <td>1차</td>\n",
       "      <td>0.00</td>\n",
       "    </tr>\n",
       "    <tr>\n",
       "      <th>1</th>\n",
       "      <td>2차</td>\n",
       "      <td>684.51</td>\n",
       "    </tr>\n",
       "    <tr>\n",
       "      <th>2</th>\n",
       "      <td>3차</td>\n",
       "      <td>508.93</td>\n",
       "    </tr>\n",
       "    <tr>\n",
       "      <th>3</th>\n",
       "      <td>4차</td>\n",
       "      <td>556.02</td>\n",
       "    </tr>\n",
       "  </tbody>\n",
       "</table>\n",
       "</div>"
      ],
      "text/plain": [
       "  계절제차수  일평균적발건수\n",
       "0    1차     0.00\n",
       "1    2차   684.51\n",
       "2    3차   508.93\n",
       "3    4차   556.02"
      ]
     },
     "execution_count": 286,
     "metadata": {},
     "output_type": "execute_result"
    }
   ],
   "source": [
    "season_tot = lmt1[[x + '_일평균' for x in limit_season_rename_dict.values()]].sum().reset_index()\n",
    "season_tot = season_tot.rename(columns={'index':'계절제차수', 0:'일평균적발건수'})\n",
    "season_tot['계절제차수'] = season_tot['계절제차수'].str.replace('계절제_', '').str.replace('_일평균', '')\n",
    "season_tot"
   ]
  },
  {
   "cell_type": "code",
   "execution_count": 287,
   "metadata": {},
   "outputs": [],
   "source": [
    "season_tot['테이블생성일자'] = today_date"
   ]
  },
  {
   "cell_type": "code",
   "execution_count": 288,
   "metadata": {},
   "outputs": [
    {
     "data": {
      "text/plain": [
       "Index(['계절제차수', '일평균적발건수', '테이블생성일자'], dtype='object')"
      ]
     },
     "execution_count": 288,
     "metadata": {},
     "output_type": "execute_result"
    }
   ],
   "source": [
    "season_tot.columns"
   ]
  },
  {
   "cell_type": "code",
   "execution_count": 289,
   "metadata": {},
   "outputs": [
    {
     "data": {
      "text/plain": [
       "Index(['SEASON_ORD', 'DY_AVRG_CRDN_NOCS', 'LOAD_DT'], dtype='object')"
      ]
     },
     "execution_count": 289,
     "metadata": {},
     "output_type": "execute_result"
    }
   ],
   "source": [
    "cdict = {\n",
    "    '계절제차수':'SEASON_ORD', \n",
    "    '일평균적발건수':'DY_AVRG_CRDN_NOCS', \n",
    "    '테이블생성일자':'LOAD_DT', \n",
    "    }\n",
    "STD_BD_SEASON_DY_AVRG_CRDN_NOCS = season_tot.rename(columns=cdict)\n",
    "STD_BD_SEASON_DY_AVRG_CRDN_NOCS.columns"
   ]
  },
  {
   "cell_type": "code",
   "execution_count": 290,
   "metadata": {},
   "outputs": [
    {
     "data": {
      "text/plain": [
       "['SEASON_ORD', 'DY_AVRG_CRDN_NOCS', 'LOAD_DT']"
      ]
     },
     "execution_count": 290,
     "metadata": {},
     "output_type": "execute_result"
    }
   ],
   "source": [
    "list(STD_BD_SEASON_DY_AVRG_CRDN_NOCS.columns)"
   ]
  },
  {
   "cell_type": "markdown",
   "metadata": {},
   "source": [
    "### [출력] STD_BD_SEASON_DY_AVRG_CRDN_NOCS"
   ]
  },
  {
   "cell_type": "code",
   "execution_count": 291,
   "metadata": {},
   "outputs": [],
   "source": [
    "# expdf = STD_BD_SEASON_DY_AVRG_CRDN_NOCS\n",
    "# table_nm = 'STD_BD_SEASON_DY_AVRG_CRDN_NOCS'.upper()\n",
    "\n",
    "# # 테이블 생성\n",
    "# sql = 'create or replace table ' + table_nm + '( \\n'\n",
    "\n",
    "# for idx,column in enumerate(expdf.columns):\n",
    "#     # if 'float' in expdf[column].dtype.name:\n",
    "#     #     sql += column + ' float'\n",
    "#     # elif 'int' in expdf[column].dtype.name:\n",
    "#     #     sql += column + ' number'\n",
    "#     # else:\n",
    "#     sql += column + ' varchar(255)'\n",
    "\n",
    "#     if len(expdf.columns) - 1 != idx:\n",
    "#         sql += ','\n",
    "#     sql += '\\n'\n",
    "# sql += ')'    \n",
    "# we.execute(sql)\n",
    "\n",
    "# # 데이터 추가\n",
    "# # 5s\n",
    "# we.import_from_pandas(expdf, table_nm)"
   ]
  },
  {
   "cell_type": "code",
   "execution_count": 292,
   "metadata": {},
   "outputs": [],
   "source": [
    "# # \n",
    "# STD_BD_SEASON_DY_AVRG_CRDN_NOCS.to_csv(os.path.join(df3_fold, f'STD_BD_SEASON_DY_AVRG_CRDN_NOCS({today_date}).csv'), index=False)"
   ]
  },
  {
   "cell_type": "markdown",
   "metadata": {},
   "source": [
    "## 지역별 상시운행제한 단속 현황"
   ]
  },
  {
   "cell_type": "code",
   "execution_count": 293,
   "metadata": {},
   "outputs": [
    {
     "data": {
      "text/plain": [
       "(3151659, 16)"
      ]
     },
     "execution_count": 293,
     "metadata": {},
     "output_type": "execute_result"
    }
   ],
   "source": [
    "us_total.shape"
   ]
  },
  {
   "cell_type": "code",
   "execution_count": 294,
   "metadata": {},
   "outputs": [
    {
     "data": {
      "text/plain": [
       "(3151659, 17)"
      ]
     },
     "execution_count": 294,
     "metadata": {},
     "output_type": "execute_result"
    }
   ],
   "source": [
    "us_total2 = us_total.merge(limit_alw, on='차대번호', how='left')\n",
    "us_total2.shape"
   ]
  },
  {
   "cell_type": "code",
   "execution_count": 295,
   "metadata": {},
   "outputs": [
    {
     "data": {
      "text/html": [
       "<div>\n",
       "<style scoped>\n",
       "    .dataframe tbody tr th:only-of-type {\n",
       "        vertical-align: middle;\n",
       "    }\n",
       "\n",
       "    .dataframe tbody tr th {\n",
       "        vertical-align: top;\n",
       "    }\n",
       "\n",
       "    .dataframe thead th {\n",
       "        text-align: right;\n",
       "    }\n",
       "</style>\n",
       "<table border=\"1\" class=\"dataframe\">\n",
       "  <thead>\n",
       "    <tr style=\"text-align: right;\">\n",
       "      <th></th>\n",
       "      <th>번호</th>\n",
       "      <th>차대번호</th>\n",
       "      <th>적발유형</th>\n",
       "      <th>단속지역코드</th>\n",
       "      <th>등록시도코드</th>\n",
       "      <th>등록시군구코드</th>\n",
       "      <th>적발건수</th>\n",
       "      <th>적발년월</th>\n",
       "      <th>법정동코드</th>\n",
       "      <th>등록시도</th>\n",
       "      <th>등록시군구</th>\n",
       "      <th>단속시도코드</th>\n",
       "      <th>단속시군구코드</th>\n",
       "      <th>단속시도</th>\n",
       "      <th>단속시군구</th>\n",
       "      <th>단속지역</th>\n",
       "      <th>상시</th>\n",
       "    </tr>\n",
       "  </thead>\n",
       "  <tbody>\n",
       "    <tr>\n",
       "      <th>0</th>\n",
       "      <td>8389408</td>\n",
       "      <td>KMFZCD7JP5U081362</td>\n",
       "      <td>S</td>\n",
       "      <td>11000</td>\n",
       "      <td>11</td>\n",
       "      <td>140</td>\n",
       "      <td>NaN</td>\n",
       "      <td>NaN</td>\n",
       "      <td>1114000000</td>\n",
       "      <td>서울특별시</td>\n",
       "      <td>중구</td>\n",
       "      <td>11</td>\n",
       "      <td>0</td>\n",
       "      <td>서울특별시</td>\n",
       "      <td>NaN</td>\n",
       "      <td>수도권</td>\n",
       "      <td>8.00</td>\n",
       "    </tr>\n",
       "    <tr>\n",
       "      <th>1</th>\n",
       "      <td>8389410</td>\n",
       "      <td>KN3HNP6D15K094646</td>\n",
       "      <td>S</td>\n",
       "      <td>11000</td>\n",
       "      <td>11</td>\n",
       "      <td>140</td>\n",
       "      <td>NaN</td>\n",
       "      <td>NaN</td>\n",
       "      <td>1114000000</td>\n",
       "      <td>서울특별시</td>\n",
       "      <td>중구</td>\n",
       "      <td>11</td>\n",
       "      <td>0</td>\n",
       "      <td>서울특별시</td>\n",
       "      <td>NaN</td>\n",
       "      <td>수도권</td>\n",
       "      <td>74.00</td>\n",
       "    </tr>\n",
       "    <tr>\n",
       "      <th>2</th>\n",
       "      <td>8389713</td>\n",
       "      <td>KNAMA75432S302063</td>\n",
       "      <td>S</td>\n",
       "      <td>11000</td>\n",
       "      <td>11</td>\n",
       "      <td>140</td>\n",
       "      <td>1.00</td>\n",
       "      <td>201908.00</td>\n",
       "      <td>1114000000</td>\n",
       "      <td>서울특별시</td>\n",
       "      <td>중구</td>\n",
       "      <td>11</td>\n",
       "      <td>0</td>\n",
       "      <td>서울특별시</td>\n",
       "      <td>NaN</td>\n",
       "      <td>수도권</td>\n",
       "      <td>36.00</td>\n",
       "    </tr>\n",
       "    <tr>\n",
       "      <th>3</th>\n",
       "      <td>8389714</td>\n",
       "      <td>KMFLA19RPYC015091</td>\n",
       "      <td>S</td>\n",
       "      <td>11000</td>\n",
       "      <td>11</td>\n",
       "      <td>140</td>\n",
       "      <td>1.00</td>\n",
       "      <td>201908.00</td>\n",
       "      <td>1114000000</td>\n",
       "      <td>서울특별시</td>\n",
       "      <td>중구</td>\n",
       "      <td>11</td>\n",
       "      <td>0</td>\n",
       "      <td>서울특별시</td>\n",
       "      <td>NaN</td>\n",
       "      <td>수도권</td>\n",
       "      <td>68.00</td>\n",
       "    </tr>\n",
       "    <tr>\n",
       "      <th>4</th>\n",
       "      <td>8389716</td>\n",
       "      <td>KMHWP81JP5U664886</td>\n",
       "      <td>S</td>\n",
       "      <td>11000</td>\n",
       "      <td>11</td>\n",
       "      <td>140</td>\n",
       "      <td>NaN</td>\n",
       "      <td>NaN</td>\n",
       "      <td>1114000000</td>\n",
       "      <td>서울특별시</td>\n",
       "      <td>중구</td>\n",
       "      <td>11</td>\n",
       "      <td>0</td>\n",
       "      <td>서울특별시</td>\n",
       "      <td>NaN</td>\n",
       "      <td>수도권</td>\n",
       "      <td>37.00</td>\n",
       "    </tr>\n",
       "  </tbody>\n",
       "</table>\n",
       "</div>"
      ],
      "text/plain": [
       "        번호               차대번호 적발유형 단속지역코드  등록시도코드  등록시군구코드  적발건수      적발년월   \n",
       "0  8389408  KMFZCD7JP5U081362    S  11000      11      140   NaN       NaN  \\\n",
       "1  8389410  KN3HNP6D15K094646    S  11000      11      140   NaN       NaN   \n",
       "2  8389713  KNAMA75432S302063    S  11000      11      140  1.00 201908.00   \n",
       "3  8389714  KMFLA19RPYC015091    S  11000      11      140  1.00 201908.00   \n",
       "4  8389716  KMHWP81JP5U664886    S  11000      11      140   NaN       NaN   \n",
       "\n",
       "        법정동코드   등록시도 등록시군구  단속시도코드  단속시군구코드   단속시도 단속시군구 단속지역    상시  \n",
       "0  1114000000  서울특별시    중구      11        0  서울특별시   NaN  수도권  8.00  \n",
       "1  1114000000  서울특별시    중구      11        0  서울특별시   NaN  수도권 74.00  \n",
       "2  1114000000  서울특별시    중구      11        0  서울특별시   NaN  수도권 36.00  \n",
       "3  1114000000  서울특별시    중구      11        0  서울특별시   NaN  수도권 68.00  \n",
       "4  1114000000  서울특별시    중구      11        0  서울특별시   NaN  수도권 37.00  "
      ]
     },
     "execution_count": 295,
     "metadata": {},
     "output_type": "execute_result"
    }
   ],
   "source": [
    "us_total2.head()"
   ]
  },
  {
   "cell_type": "code",
   "execution_count": 211,
   "metadata": {},
   "outputs": [],
   "source": [
    "# us_total2.loc[(us_total2['시도'] == '서울특별시') | (us_total2['시도'] == '경기도') | (us_total2['시도'] == '인천광역시'), '지역'] = '수도권'\n",
    "# us_total2['지역'] = us_total2['지역'].fillna('수도권외')"
   ]
  },
  {
   "cell_type": "code",
   "execution_count": 296,
   "metadata": {},
   "outputs": [
    {
     "data": {
      "text/plain": [
       "array(['서울특별시', '경기도', '인천광역시'], dtype=object)"
      ]
     },
     "execution_count": 296,
     "metadata": {},
     "output_type": "execute_result"
    }
   ],
   "source": [
    "us_total2['단속시도'].unique()"
   ]
  },
  {
   "cell_type": "code",
   "execution_count": 297,
   "metadata": {},
   "outputs": [
    {
     "data": {
      "text/plain": [
       "array(['수도권'], dtype=object)"
      ]
     },
     "execution_count": 297,
     "metadata": {},
     "output_type": "execute_result"
    }
   ],
   "source": [
    "us_total2['단속지역'].unique()"
   ]
  },
  {
   "cell_type": "code",
   "execution_count": 298,
   "metadata": {},
   "outputs": [],
   "source": [
    "us_total2['적발년월'] = us_total2['적발년월'].astype('str')\n",
    "us_total2['적발년월_년'] = us_total2['적발년월'].str[:4]"
   ]
  },
  {
   "cell_type": "code",
   "execution_count": 299,
   "metadata": {},
   "outputs": [
    {
     "data": {
      "text/plain": [
       "(86538, 18)"
      ]
     },
     "execution_count": 299,
     "metadata": {},
     "output_type": "execute_result"
    }
   ],
   "source": [
    "# 4s\n",
    "us_total2 = us_total2.sort_values('적발년월_년', ascending=True).drop_duplicates('차대번호').reset_index(drop=True)\n",
    "us_total2.shape"
   ]
  },
  {
   "cell_type": "code",
   "execution_count": 300,
   "metadata": {},
   "outputs": [],
   "source": [
    "us_total2 = us_total2.drop(['적발건수'], axis=1)"
   ]
  },
  {
   "cell_type": "code",
   "execution_count": 301,
   "metadata": {},
   "outputs": [],
   "source": [
    "us_total2 = us_total2.rename(columns={'적발년월_년':'적발년도', '상시':'적발건수'})"
   ]
  },
  {
   "cell_type": "code",
   "execution_count": 302,
   "metadata": {},
   "outputs": [
    {
     "data": {
      "text/plain": [
       "dtype('float64')"
      ]
     },
     "execution_count": 302,
     "metadata": {},
     "output_type": "execute_result"
    }
   ],
   "source": [
    "us_total2['적발건수'].dtype"
   ]
  },
  {
   "cell_type": "code",
   "execution_count": 303,
   "metadata": {},
   "outputs": [
    {
     "data": {
      "text/plain": [
       "0"
      ]
     },
     "execution_count": 303,
     "metadata": {},
     "output_type": "execute_result"
    }
   ],
   "source": [
    "us_total2['단속시도'].isnull().sum()"
   ]
  },
  {
   "cell_type": "code",
   "execution_count": 304,
   "metadata": {},
   "outputs": [
    {
     "data": {
      "text/plain": [
       "0"
      ]
     },
     "execution_count": 304,
     "metadata": {},
     "output_type": "execute_result"
    }
   ],
   "source": [
    "us_total2['단속지역'].isnull().sum()"
   ]
  },
  {
   "cell_type": "code",
   "execution_count": 307,
   "metadata": {},
   "outputs": [
    {
     "data": {
      "text/plain": [
       "(86538, 17)"
      ]
     },
     "execution_count": 307,
     "metadata": {},
     "output_type": "execute_result"
    }
   ],
   "source": [
    "us_total2.shape"
   ]
  },
  {
   "cell_type": "code",
   "execution_count": 305,
   "metadata": {},
   "outputs": [],
   "source": [
    "orditm = us_total2.loc[(us_total2['적발건수'] > 0) & (us_total2['적발년도'].isnull() == False), [\n",
    "    '차대번호',\n",
    "    '적발년도',\n",
    "    '적발건수',\n",
    "    '단속지역', # !!! 수정(2023.09.01)\n",
    "    '단속시도', # !!! 수정(2023.09.01)\n",
    "]]"
   ]
  },
  {
   "cell_type": "code",
   "execution_count": 306,
   "metadata": {},
   "outputs": [
    {
     "data": {
      "text/plain": [
       "(84293, 5)"
      ]
     },
     "execution_count": 306,
     "metadata": {},
     "output_type": "execute_result"
    }
   ],
   "source": [
    "orditm.shape"
   ]
  },
  {
   "cell_type": "code",
   "execution_count": 308,
   "metadata": {},
   "outputs": [
    {
     "data": {
      "text/plain": [
       "count   84293.00\n",
       "mean       23.94\n",
       "std        45.81\n",
       "min         1.00\n",
       "25%         2.00\n",
       "50%         8.00\n",
       "75%        27.00\n",
       "max      1022.00\n",
       "Name: 적발건수, dtype: float64"
      ]
     },
     "execution_count": 308,
     "metadata": {},
     "output_type": "execute_result"
    }
   ],
   "source": [
    "orditm['적발건수'].describe()"
   ]
  },
  {
   "cell_type": "code",
   "execution_count": 309,
   "metadata": {},
   "outputs": [],
   "source": [
    "orditm['테이블생성일자'] = today_date"
   ]
  },
  {
   "cell_type": "code",
   "execution_count": 310,
   "metadata": {},
   "outputs": [],
   "source": [
    "cdict = {\n",
    "    '테이블생성일자':'LOAD_DT', \n",
    "    '차대번호':'VIN', \n",
    "    '적발년도':'DSCL_YR', \n",
    "    '적발건수':'DSCL_NOCS', \n",
    "    '단속지역':'DSCL_RGN', # !!! 수정(2023.09.01)\n",
    "    '단속시도':'DSCL_CTPV', # !!! 수정(2023.09.01)\n",
    "}"
   ]
  },
  {
   "cell_type": "code",
   "execution_count": 311,
   "metadata": {},
   "outputs": [
    {
     "data": {
      "text/plain": [
       "Index(['VIN', 'DSCL_YR', 'DSCL_NOCS', 'DSCL_RGN', 'DSCL_CTPV', 'LOAD_DT'], dtype='object')"
      ]
     },
     "execution_count": 311,
     "metadata": {},
     "output_type": "execute_result"
    }
   ],
   "source": [
    "STD_BD_ORDITM_DSCL_CURSTT = orditm.rename(columns=cdict)\n",
    "STD_BD_ORDITM_DSCL_CURSTT.columns"
   ]
  },
  {
   "cell_type": "markdown",
   "metadata": {},
   "source": [
    "### [출력] STD_BD_ORDITM_DSCL_CURSTT"
   ]
  },
  {
   "cell_type": "code",
   "execution_count": 312,
   "metadata": {},
   "outputs": [],
   "source": [
    "# expdf = STD_BD_ORDITM_DSCL_CURSTT\n",
    "# table_nm = 'STD_BD_ORDITM_DSCL_CURSTT'.upper()\n",
    "\n",
    "# # 테이블 생성\n",
    "# sql = 'create or replace table ' + table_nm + '( \\n'\n",
    "\n",
    "# for idx,column in enumerate(expdf.columns):\n",
    "#     # if 'float' in expdf[column].dtype.name:\n",
    "#     #     sql += column + ' float'\n",
    "#     # elif 'int' in expdf[column].dtype.name:\n",
    "#     #     sql += column + ' number'\n",
    "#     # else:\n",
    "#     sql += column + ' varchar(255)'\n",
    "\n",
    "#     if len(expdf.columns) - 1 != idx:\n",
    "#         sql += ','\n",
    "#     sql += '\\n'\n",
    "# sql += ')'    \n",
    "# we.execute(sql)\n",
    "\n",
    "# # 데이터 추가\n",
    "# # 5s\n",
    "# we.import_from_pandas(expdf, table_nm)"
   ]
  },
  {
   "cell_type": "code",
   "execution_count": 313,
   "metadata": {},
   "outputs": [],
   "source": [
    "# # 1.3s\n",
    "# STD_BD_ORDITM_DSCL_CURSTT.to_csv(os.path.join(df3_fold, f'STD_BD_ORDITM_DSCL_CURSTT({today_date}).csv'), index=False)"
   ]
  },
  {
   "cell_type": "markdown",
   "metadata": {},
   "source": [
    "## 적발지역별 계절제 단속 현황 출력"
   ]
  },
  {
   "cell_type": "code",
   "execution_count": 314,
   "metadata": {},
   "outputs": [
    {
     "data": {
      "text/plain": [
       "(16382044, 20)"
      ]
     },
     "execution_count": 314,
     "metadata": {},
     "output_type": "execute_result"
    }
   ],
   "source": [
    "is_season.shape"
   ]
  },
  {
   "cell_type": "code",
   "execution_count": 315,
   "metadata": {},
   "outputs": [
    {
     "data": {
      "text/html": [
       "<div>\n",
       "<style scoped>\n",
       "    .dataframe tbody tr th:only-of-type {\n",
       "        vertical-align: middle;\n",
       "    }\n",
       "\n",
       "    .dataframe tbody tr th {\n",
       "        vertical-align: top;\n",
       "    }\n",
       "\n",
       "    .dataframe thead th {\n",
       "        text-align: right;\n",
       "    }\n",
       "</style>\n",
       "<table border=\"1\" class=\"dataframe\">\n",
       "  <thead>\n",
       "    <tr style=\"text-align: right;\">\n",
       "      <th></th>\n",
       "      <th>적발번호</th>\n",
       "      <th>발령번호</th>\n",
       "      <th>차대번호</th>\n",
       "      <th>등록시도코드</th>\n",
       "      <th>등록시군구코드</th>\n",
       "      <th>적발지역코드</th>\n",
       "      <th>단속일</th>\n",
       "      <th>유형기준아이디</th>\n",
       "      <th>농도기준아이디</th>\n",
       "      <th>등록시도</th>\n",
       "      <th>등록시군구</th>\n",
       "      <th>적발시도코드</th>\n",
       "      <th>적발시군구코드</th>\n",
       "      <th>적발시도</th>\n",
       "      <th>적발시군구</th>\n",
       "      <th>적발지역</th>\n",
       "      <th>계절제_1차여부</th>\n",
       "      <th>계절제_2차여부</th>\n",
       "      <th>계절제_3차여부</th>\n",
       "      <th>계절제_4차여부</th>\n",
       "    </tr>\n",
       "  </thead>\n",
       "  <tbody>\n",
       "    <tr>\n",
       "      <th>0</th>\n",
       "      <td>111616383</td>\n",
       "      <td>2430</td>\n",
       "      <td>KL90F4ADD5HZ00068</td>\n",
       "      <td>45</td>\n",
       "      <td>130</td>\n",
       "      <td>28000</td>\n",
       "      <td>NaN</td>\n",
       "      <td>T002</td>\n",
       "      <td>C011</td>\n",
       "      <td>전라북도</td>\n",
       "      <td>군산시</td>\n",
       "      <td>28</td>\n",
       "      <td>0</td>\n",
       "      <td>인천광역시</td>\n",
       "      <td>NaN</td>\n",
       "      <td>수도권</td>\n",
       "      <td>NaN</td>\n",
       "      <td>NaN</td>\n",
       "      <td>NaN</td>\n",
       "      <td>NaN</td>\n",
       "    </tr>\n",
       "    <tr>\n",
       "      <th>1</th>\n",
       "      <td>111616380</td>\n",
       "      <td>2430</td>\n",
       "      <td>KL3P9CNF37K000737</td>\n",
       "      <td>28</td>\n",
       "      <td>140</td>\n",
       "      <td>28000</td>\n",
       "      <td>NaN</td>\n",
       "      <td>T002</td>\n",
       "      <td>C011</td>\n",
       "      <td>인천광역시</td>\n",
       "      <td>동구</td>\n",
       "      <td>28</td>\n",
       "      <td>0</td>\n",
       "      <td>인천광역시</td>\n",
       "      <td>NaN</td>\n",
       "      <td>수도권</td>\n",
       "      <td>NaN</td>\n",
       "      <td>NaN</td>\n",
       "      <td>NaN</td>\n",
       "      <td>NaN</td>\n",
       "    </tr>\n",
       "    <tr>\n",
       "      <th>2</th>\n",
       "      <td>111620590</td>\n",
       "      <td>2430</td>\n",
       "      <td>KPBFA2AD14P125977</td>\n",
       "      <td>26</td>\n",
       "      <td>260</td>\n",
       "      <td>26000</td>\n",
       "      <td>NaN</td>\n",
       "      <td>T002</td>\n",
       "      <td>C011</td>\n",
       "      <td>부산광역시</td>\n",
       "      <td>동래구</td>\n",
       "      <td>26</td>\n",
       "      <td>0</td>\n",
       "      <td>부산광역시</td>\n",
       "      <td>NaN</td>\n",
       "      <td>수도권외</td>\n",
       "      <td>NaN</td>\n",
       "      <td>NaN</td>\n",
       "      <td>NaN</td>\n",
       "      <td>NaN</td>\n",
       "    </tr>\n",
       "    <tr>\n",
       "      <th>3</th>\n",
       "      <td>111620591</td>\n",
       "      <td>2430</td>\n",
       "      <td>KMFLA18AP2C034510</td>\n",
       "      <td>48</td>\n",
       "      <td>120</td>\n",
       "      <td>26000</td>\n",
       "      <td>NaN</td>\n",
       "      <td>T002</td>\n",
       "      <td>C011</td>\n",
       "      <td>경상남도</td>\n",
       "      <td>창원시</td>\n",
       "      <td>26</td>\n",
       "      <td>0</td>\n",
       "      <td>부산광역시</td>\n",
       "      <td>NaN</td>\n",
       "      <td>수도권외</td>\n",
       "      <td>NaN</td>\n",
       "      <td>NaN</td>\n",
       "      <td>NaN</td>\n",
       "      <td>NaN</td>\n",
       "    </tr>\n",
       "    <tr>\n",
       "      <th>4</th>\n",
       "      <td>111622099</td>\n",
       "      <td>2430</td>\n",
       "      <td>KMFLA19AP2C031701</td>\n",
       "      <td>48</td>\n",
       "      <td>250</td>\n",
       "      <td>26000</td>\n",
       "      <td>NaN</td>\n",
       "      <td>T002</td>\n",
       "      <td>C011</td>\n",
       "      <td>경상남도</td>\n",
       "      <td>김해시</td>\n",
       "      <td>26</td>\n",
       "      <td>0</td>\n",
       "      <td>부산광역시</td>\n",
       "      <td>NaN</td>\n",
       "      <td>수도권외</td>\n",
       "      <td>NaN</td>\n",
       "      <td>NaN</td>\n",
       "      <td>NaN</td>\n",
       "      <td>NaN</td>\n",
       "    </tr>\n",
       "  </tbody>\n",
       "</table>\n",
       "</div>"
      ],
      "text/plain": [
       "        적발번호  발령번호               차대번호  등록시도코드  등록시군구코드 적발지역코드  단속일 유형기준아이디   \n",
       "0  111616383  2430  KL90F4ADD5HZ00068      45      130  28000  NaN    T002  \\\n",
       "1  111616380  2430  KL3P9CNF37K000737      28      140  28000  NaN    T002   \n",
       "2  111620590  2430  KPBFA2AD14P125977      26      260  26000  NaN    T002   \n",
       "3  111620591  2430  KMFLA18AP2C034510      48      120  26000  NaN    T002   \n",
       "4  111622099  2430  KMFLA19AP2C031701      48      250  26000  NaN    T002   \n",
       "\n",
       "  농도기준아이디   등록시도 등록시군구  적발시도코드  적발시군구코드   적발시도 적발시군구  적발지역 계절제_1차여부 계절제_2차여부   \n",
       "0    C011   전라북도   군산시      28        0  인천광역시   NaN   수도권      NaN      NaN  \\\n",
       "1    C011  인천광역시    동구      28        0  인천광역시   NaN   수도권      NaN      NaN   \n",
       "2    C011  부산광역시   동래구      26        0  부산광역시   NaN  수도권외      NaN      NaN   \n",
       "3    C011   경상남도   창원시      26        0  부산광역시   NaN  수도권외      NaN      NaN   \n",
       "4    C011   경상남도   김해시      26        0  부산광역시   NaN  수도권외      NaN      NaN   \n",
       "\n",
       "  계절제_3차여부 계절제_4차여부  \n",
       "0      NaN      NaN  \n",
       "1      NaN      NaN  \n",
       "2      NaN      NaN  \n",
       "3      NaN      NaN  \n",
       "4      NaN      NaN  "
      ]
     },
     "execution_count": 315,
     "metadata": {},
     "output_type": "execute_result"
    }
   ],
   "source": [
    "is_season.head()"
   ]
  },
  {
   "cell_type": "code",
   "execution_count": 316,
   "metadata": {},
   "outputs": [
    {
     "data": {
      "text/html": [
       "<div>\n",
       "<style scoped>\n",
       "    .dataframe tbody tr th:only-of-type {\n",
       "        vertical-align: middle;\n",
       "    }\n",
       "\n",
       "    .dataframe tbody tr th {\n",
       "        vertical-align: top;\n",
       "    }\n",
       "\n",
       "    .dataframe thead th {\n",
       "        text-align: right;\n",
       "    }\n",
       "</style>\n",
       "<table border=\"1\" class=\"dataframe\">\n",
       "  <thead>\n",
       "    <tr style=\"text-align: right;\">\n",
       "      <th></th>\n",
       "      <th>적발번호</th>\n",
       "      <th>발령번호</th>\n",
       "      <th>차대번호</th>\n",
       "      <th>등록시도코드</th>\n",
       "      <th>등록시군구코드</th>\n",
       "      <th>적발지역코드</th>\n",
       "      <th>단속일</th>\n",
       "      <th>유형기준아이디</th>\n",
       "      <th>농도기준아이디</th>\n",
       "      <th>등록시도</th>\n",
       "      <th>등록시군구</th>\n",
       "      <th>적발시도코드</th>\n",
       "      <th>적발시군구코드</th>\n",
       "      <th>적발시도</th>\n",
       "      <th>적발시군구</th>\n",
       "      <th>적발지역</th>\n",
       "      <th>계절제_1차여부</th>\n",
       "      <th>계절제_2차여부</th>\n",
       "      <th>계절제_3차여부</th>\n",
       "      <th>계절제_4차여부</th>\n",
       "    </tr>\n",
       "  </thead>\n",
       "  <tbody>\n",
       "    <tr>\n",
       "      <th>0</th>\n",
       "      <td>111666444</td>\n",
       "      <td>2430</td>\n",
       "      <td>KMHSJ81WP6U027471</td>\n",
       "      <td>41</td>\n",
       "      <td>360</td>\n",
       "      <td>41820</td>\n",
       "      <td>NaN</td>\n",
       "      <td>T002</td>\n",
       "      <td>C011</td>\n",
       "      <td>경기도</td>\n",
       "      <td>남양주시</td>\n",
       "      <td>41</td>\n",
       "      <td>820</td>\n",
       "      <td>경기도</td>\n",
       "      <td>가평군</td>\n",
       "      <td>수도권</td>\n",
       "      <td>NaN</td>\n",
       "      <td>NaN</td>\n",
       "      <td>NaN</td>\n",
       "      <td>NaN</td>\n",
       "    </tr>\n",
       "    <tr>\n",
       "      <th>1</th>\n",
       "      <td>111689195</td>\n",
       "      <td>2430</td>\n",
       "      <td>KN4HN26NK7K194096</td>\n",
       "      <td>11</td>\n",
       "      <td>530</td>\n",
       "      <td>41820</td>\n",
       "      <td>NaN</td>\n",
       "      <td>T002</td>\n",
       "      <td>C011</td>\n",
       "      <td>서울특별시</td>\n",
       "      <td>구로구</td>\n",
       "      <td>41</td>\n",
       "      <td>820</td>\n",
       "      <td>경기도</td>\n",
       "      <td>가평군</td>\n",
       "      <td>수도권</td>\n",
       "      <td>NaN</td>\n",
       "      <td>NaN</td>\n",
       "      <td>NaN</td>\n",
       "      <td>NaN</td>\n",
       "    </tr>\n",
       "    <tr>\n",
       "      <th>2</th>\n",
       "      <td>111696614</td>\n",
       "      <td>2430</td>\n",
       "      <td>KMFLA18EP7C024398</td>\n",
       "      <td>41</td>\n",
       "      <td>360</td>\n",
       "      <td>41820</td>\n",
       "      <td>NaN</td>\n",
       "      <td>T002</td>\n",
       "      <td>C011</td>\n",
       "      <td>경기도</td>\n",
       "      <td>남양주시</td>\n",
       "      <td>41</td>\n",
       "      <td>820</td>\n",
       "      <td>경기도</td>\n",
       "      <td>가평군</td>\n",
       "      <td>수도권</td>\n",
       "      <td>NaN</td>\n",
       "      <td>NaN</td>\n",
       "      <td>NaN</td>\n",
       "      <td>NaN</td>\n",
       "    </tr>\n",
       "    <tr>\n",
       "      <th>3</th>\n",
       "      <td>111656698</td>\n",
       "      <td>2430</td>\n",
       "      <td>KPACE4AB18P024365</td>\n",
       "      <td>41</td>\n",
       "      <td>190</td>\n",
       "      <td>41820</td>\n",
       "      <td>NaN</td>\n",
       "      <td>T002</td>\n",
       "      <td>C011</td>\n",
       "      <td>경기도</td>\n",
       "      <td>부천시</td>\n",
       "      <td>41</td>\n",
       "      <td>820</td>\n",
       "      <td>경기도</td>\n",
       "      <td>가평군</td>\n",
       "      <td>수도권</td>\n",
       "      <td>NaN</td>\n",
       "      <td>NaN</td>\n",
       "      <td>NaN</td>\n",
       "      <td>NaN</td>\n",
       "    </tr>\n",
       "    <tr>\n",
       "      <th>4</th>\n",
       "      <td>111709435</td>\n",
       "      <td>2430</td>\n",
       "      <td>KMFGA17LP2C163416</td>\n",
       "      <td>41</td>\n",
       "      <td>650</td>\n",
       "      <td>41820</td>\n",
       "      <td>NaN</td>\n",
       "      <td>T002</td>\n",
       "      <td>C011</td>\n",
       "      <td>경기도</td>\n",
       "      <td>포천시</td>\n",
       "      <td>41</td>\n",
       "      <td>820</td>\n",
       "      <td>경기도</td>\n",
       "      <td>가평군</td>\n",
       "      <td>수도권</td>\n",
       "      <td>NaN</td>\n",
       "      <td>NaN</td>\n",
       "      <td>NaN</td>\n",
       "      <td>NaN</td>\n",
       "    </tr>\n",
       "  </tbody>\n",
       "</table>\n",
       "</div>"
      ],
      "text/plain": [
       "        적발번호  발령번호               차대번호  등록시도코드  등록시군구코드 적발지역코드  단속일 유형기준아이디   \n",
       "0  111666444  2430  KMHSJ81WP6U027471      41      360  41820  NaN    T002  \\\n",
       "1  111689195  2430  KN4HN26NK7K194096      11      530  41820  NaN    T002   \n",
       "2  111696614  2430  KMFLA18EP7C024398      41      360  41820  NaN    T002   \n",
       "3  111656698  2430  KPACE4AB18P024365      41      190  41820  NaN    T002   \n",
       "4  111709435  2430  KMFGA17LP2C163416      41      650  41820  NaN    T002   \n",
       "\n",
       "  농도기준아이디   등록시도 등록시군구  적발시도코드  적발시군구코드 적발시도 적발시군구 적발지역 계절제_1차여부 계절제_2차여부   \n",
       "0    C011    경기도  남양주시      41      820  경기도   가평군  수도권      NaN      NaN  \\\n",
       "1    C011  서울특별시   구로구      41      820  경기도   가평군  수도권      NaN      NaN   \n",
       "2    C011    경기도  남양주시      41      820  경기도   가평군  수도권      NaN      NaN   \n",
       "3    C011    경기도   부천시      41      820  경기도   가평군  수도권      NaN      NaN   \n",
       "4    C011    경기도   포천시      41      820  경기도   가평군  수도권      NaN      NaN   \n",
       "\n",
       "  계절제_3차여부 계절제_4차여부  \n",
       "0      NaN      NaN  \n",
       "1      NaN      NaN  \n",
       "2      NaN      NaN  \n",
       "3      NaN      NaN  \n",
       "4      NaN      NaN  "
      ]
     },
     "execution_count": 316,
     "metadata": {},
     "output_type": "execute_result"
    }
   ],
   "source": [
    "is_season2 = is_season.sort_values(['적발시도', '적발시군구']).drop_duplicates(['차대번호', '적발시도']).reset_index(drop=True)\n",
    "is_season2.head()"
   ]
  },
  {
   "cell_type": "code",
   "execution_count": 317,
   "metadata": {},
   "outputs": [
    {
     "data": {
      "text/plain": [
       "(753349, 20)"
      ]
     },
     "execution_count": 317,
     "metadata": {},
     "output_type": "execute_result"
    }
   ],
   "source": [
    "is_season2.shape"
   ]
  },
  {
   "cell_type": "code",
   "execution_count": 318,
   "metadata": {},
   "outputs": [
    {
     "data": {
      "text/plain": [
       "(753349, 24)"
      ]
     },
     "execution_count": 318,
     "metadata": {},
     "output_type": "execute_result"
    }
   ],
   "source": [
    "is_lmt = is_season2.merge(limit_season, on='차대번호', how='left')\n",
    "is_lmt.shape"
   ]
  },
  {
   "cell_type": "code",
   "execution_count": 319,
   "metadata": {},
   "outputs": [
    {
     "data": {
      "text/plain": [
       "array(['수도권', '수도권외'], dtype=object)"
      ]
     },
     "execution_count": 319,
     "metadata": {},
     "output_type": "execute_result"
    }
   ],
   "source": [
    "is_lmt['적발지역'].unique()"
   ]
  },
  {
   "cell_type": "code",
   "execution_count": 320,
   "metadata": {},
   "outputs": [
    {
     "data": {
      "text/plain": [
       "array(['경기도', '서울특별시', '인천광역시', '광주광역시', '대전광역시', '강원특별자치도', '경상남도',\n",
       "       '부산광역시', '경상북도', '충청남도', '세종특별자치시', '전라북도', '충청북도', '대구광역시',\n",
       "       '전라남도', '울산광역시', '제주특별자치도'], dtype=object)"
      ]
     },
     "execution_count": 320,
     "metadata": {},
     "output_type": "execute_result"
    }
   ],
   "source": [
    "is_lmt['등록시도'].unique()"
   ]
  },
  {
   "cell_type": "code",
   "execution_count": 321,
   "metadata": {},
   "outputs": [
    {
     "data": {
      "text/plain": [
       "0    41\n",
       "1    41\n",
       "2    41\n",
       "3    41\n",
       "4    41\n",
       "Name: 적발시도코드, dtype: object"
      ]
     },
     "execution_count": 321,
     "metadata": {},
     "output_type": "execute_result"
    }
   ],
   "source": [
    "is_lmt['적발시도코드'] = is_lmt['적발지역코드'].str[:2]\n",
    "is_lmt['적발시도코드'].head()"
   ]
  },
  {
   "cell_type": "code",
   "execution_count": 322,
   "metadata": {},
   "outputs": [
    {
     "data": {
      "text/plain": [
       "Index(['적발번호', '발령번호', '차대번호', '등록시도코드', '등록시군구코드', '적발지역코드', '단속일', '유형기준아이디',\n",
       "       '농도기준아이디', '등록시도', '등록시군구', '적발시도코드', '적발시군구코드', '적발시도', '적발시군구',\n",
       "       '적발지역', '계절제_1차여부', '계절제_2차여부', '계절제_3차여부', '계절제_4차여부', '계절제_1차',\n",
       "       '계절제_2차', '계절제_3차', '계절제_4차'],\n",
       "      dtype='object')"
      ]
     },
     "execution_count": 322,
     "metadata": {},
     "output_type": "execute_result"
    }
   ],
   "source": [
    "is_lmt.columns"
   ]
  },
  {
   "cell_type": "code",
   "execution_count": 323,
   "metadata": {},
   "outputs": [],
   "source": [
    "is_lmt2 = is_lmt[[\n",
    "    '적발지역',\n",
    "    '적발시도', \n",
    "    '적발시도코드', # !!! 수정\n",
    "    '등록시도',  # !!! 수정\n",
    "    '차대번호', \n",
    "    '계절제_1차', \n",
    "    '계절제_2차', \n",
    "    '계절제_3차', \n",
    "    '계절제_4차', \n",
    "]]"
   ]
  },
  {
   "cell_type": "code",
   "execution_count": 324,
   "metadata": {},
   "outputs": [
    {
     "data": {
      "text/plain": [
       "(753349, 9)"
      ]
     },
     "execution_count": 324,
     "metadata": {},
     "output_type": "execute_result"
    }
   ],
   "source": [
    "is_lmt2.shape"
   ]
  },
  {
   "cell_type": "code",
   "execution_count": 325,
   "metadata": {},
   "outputs": [
    {
     "data": {
      "text/plain": [
       "((973987, 20), 973987)"
      ]
     },
     "execution_count": 325,
     "metadata": {},
     "output_type": "execute_result"
    }
   ],
   "source": [
    "df.shape, len(df['차대번호'].unique())"
   ]
  },
  {
   "cell_type": "code",
   "execution_count": 326,
   "metadata": {},
   "outputs": [
    {
     "data": {
      "text/plain": [
       "Index(['차대번호', '법정동코드', '차량말소YN', '제원관리번호', '차량연식', '차종', '용도', '최초등록일자',\n",
       "       '제작일자', '차량관리번호', '연료', '차종유형', 'DPF_YN', '시도코드', '시군구코드', '시도', '시군구',\n",
       "       '조기폐차상태코드', '조기폐차최종승인YN', '말소일자'],\n",
       "      dtype='object')"
      ]
     },
     "execution_count": 326,
     "metadata": {},
     "output_type": "execute_result"
    }
   ],
   "source": [
    "df.columns"
   ]
  },
  {
   "cell_type": "code",
   "execution_count": 327,
   "metadata": {},
   "outputs": [
    {
     "data": {
      "text/plain": [
       "(973987, 20)"
      ]
     },
     "execution_count": 327,
     "metadata": {},
     "output_type": "execute_result"
    }
   ],
   "source": [
    "dfm = df.sort_values('최초등록일자', ascending=False).drop_duplicates('차대번호').reset_index(drop=True)\n",
    "dfm.shape"
   ]
  },
  {
   "cell_type": "code",
   "execution_count": 330,
   "metadata": {},
   "outputs": [
    {
     "data": {
      "text/plain": [
       "(753349, 9)"
      ]
     },
     "execution_count": 330,
     "metadata": {},
     "output_type": "execute_result"
    }
   ],
   "source": [
    "is_lmt2.shape"
   ]
  },
  {
   "cell_type": "code",
   "execution_count": 328,
   "metadata": {},
   "outputs": [],
   "source": [
    "slimit = is_lmt2.merge(dfm[['차대번호', '차종', '차종유형']], on='차대번호', how='left')"
   ]
  },
  {
   "cell_type": "code",
   "execution_count": 329,
   "metadata": {},
   "outputs": [
    {
     "data": {
      "text/plain": [
       "(753349, 11)"
      ]
     },
     "execution_count": 329,
     "metadata": {},
     "output_type": "execute_result"
    }
   ],
   "source": [
    "slimit.shape"
   ]
  },
  {
   "cell_type": "code",
   "execution_count": 331,
   "metadata": {},
   "outputs": [
    {
     "data": {
      "text/html": [
       "<div>\n",
       "<style scoped>\n",
       "    .dataframe tbody tr th:only-of-type {\n",
       "        vertical-align: middle;\n",
       "    }\n",
       "\n",
       "    .dataframe tbody tr th {\n",
       "        vertical-align: top;\n",
       "    }\n",
       "\n",
       "    .dataframe thead th {\n",
       "        text-align: right;\n",
       "    }\n",
       "</style>\n",
       "<table border=\"1\" class=\"dataframe\">\n",
       "  <thead>\n",
       "    <tr style=\"text-align: right;\">\n",
       "      <th></th>\n",
       "      <th>적발지역</th>\n",
       "      <th>적발시도</th>\n",
       "      <th>적발시도코드</th>\n",
       "      <th>등록시도</th>\n",
       "      <th>차대번호</th>\n",
       "      <th>계절제_1차</th>\n",
       "      <th>계절제_2차</th>\n",
       "      <th>계절제_3차</th>\n",
       "      <th>계절제_4차</th>\n",
       "      <th>차종</th>\n",
       "      <th>차종유형</th>\n",
       "    </tr>\n",
       "  </thead>\n",
       "  <tbody>\n",
       "    <tr>\n",
       "      <th>0</th>\n",
       "      <td>수도권</td>\n",
       "      <td>경기도</td>\n",
       "      <td>41</td>\n",
       "      <td>경기도</td>\n",
       "      <td>KMHSJ81WP6U027471</td>\n",
       "      <td>0</td>\n",
       "      <td>0</td>\n",
       "      <td>0</td>\n",
       "      <td>0</td>\n",
       "      <td>승용</td>\n",
       "      <td>대형</td>\n",
       "    </tr>\n",
       "    <tr>\n",
       "      <th>1</th>\n",
       "      <td>수도권</td>\n",
       "      <td>경기도</td>\n",
       "      <td>41</td>\n",
       "      <td>서울특별시</td>\n",
       "      <td>KN4HN26NK7K194096</td>\n",
       "      <td>0</td>\n",
       "      <td>2</td>\n",
       "      <td>0</td>\n",
       "      <td>0</td>\n",
       "      <td>화물</td>\n",
       "      <td>중형</td>\n",
       "    </tr>\n",
       "    <tr>\n",
       "      <th>2</th>\n",
       "      <td>수도권</td>\n",
       "      <td>경기도</td>\n",
       "      <td>41</td>\n",
       "      <td>경기도</td>\n",
       "      <td>KMFLA18EP7C024398</td>\n",
       "      <td>0</td>\n",
       "      <td>4</td>\n",
       "      <td>0</td>\n",
       "      <td>0</td>\n",
       "      <td>화물</td>\n",
       "      <td>대형</td>\n",
       "    </tr>\n",
       "    <tr>\n",
       "      <th>3</th>\n",
       "      <td>수도권</td>\n",
       "      <td>경기도</td>\n",
       "      <td>41</td>\n",
       "      <td>경기도</td>\n",
       "      <td>KPACE4AB18P024365</td>\n",
       "      <td>0</td>\n",
       "      <td>0</td>\n",
       "      <td>0</td>\n",
       "      <td>0</td>\n",
       "      <td>화물</td>\n",
       "      <td>소형</td>\n",
       "    </tr>\n",
       "    <tr>\n",
       "      <th>4</th>\n",
       "      <td>수도권</td>\n",
       "      <td>경기도</td>\n",
       "      <td>41</td>\n",
       "      <td>경기도</td>\n",
       "      <td>KMFGA17LP2C163416</td>\n",
       "      <td>0</td>\n",
       "      <td>0</td>\n",
       "      <td>0</td>\n",
       "      <td>0</td>\n",
       "      <td>화물</td>\n",
       "      <td>중형</td>\n",
       "    </tr>\n",
       "  </tbody>\n",
       "</table>\n",
       "</div>"
      ],
      "text/plain": [
       "  적발지역 적발시도 적발시도코드   등록시도               차대번호  계절제_1차  계절제_2차  계절제_3차  계절제_4차   \n",
       "0  수도권  경기도     41    경기도  KMHSJ81WP6U027471       0       0       0       0  \\\n",
       "1  수도권  경기도     41  서울특별시  KN4HN26NK7K194096       0       2       0       0   \n",
       "2  수도권  경기도     41    경기도  KMFLA18EP7C024398       0       4       0       0   \n",
       "3  수도권  경기도     41    경기도  KPACE4AB18P024365       0       0       0       0   \n",
       "4  수도권  경기도     41    경기도  KMFGA17LP2C163416       0       0       0       0   \n",
       "\n",
       "   차종 차종유형  \n",
       "0  승용   대형  \n",
       "1  화물   중형  \n",
       "2  화물   대형  \n",
       "3  화물   소형  \n",
       "4  화물   중형  "
      ]
     },
     "execution_count": 331,
     "metadata": {},
     "output_type": "execute_result"
    }
   ],
   "source": [
    "slimit.head()"
   ]
  },
  {
   "cell_type": "code",
   "execution_count": 332,
   "metadata": {},
   "outputs": [
    {
     "data": {
      "text/plain": [
       "array(['경기도', '대구광역시', '부산광역시', '서울특별시', '인천광역시'], dtype=object)"
      ]
     },
     "execution_count": 332,
     "metadata": {},
     "output_type": "execute_result"
    }
   ],
   "source": [
    "slimit['적발시도'].unique()"
   ]
  },
  {
   "cell_type": "code",
   "execution_count": 333,
   "metadata": {},
   "outputs": [
    {
     "data": {
      "text/plain": [
       "array(['경기', '대구', '부산', '서울', '인천'], dtype=object)"
      ]
     },
     "execution_count": 333,
     "metadata": {},
     "output_type": "execute_result"
    }
   ],
   "source": [
    "# 시도명 2글자로 수정\n",
    "slimit['적발시도'] = slimit['적발시도'].map({'경기도':'경기', '대구광역시':'대구', '부산광역시':'부산', '서울특별시':'서울', '인천광역시':'인천'})\n",
    "slimit['적발시도'].unique()"
   ]
  },
  {
   "cell_type": "code",
   "execution_count": 334,
   "metadata": {},
   "outputs": [],
   "source": [
    "# 건수 0 -> nan\n",
    "slimit.loc[slimit['계절제_1차'] == 0, '계절제_1차'] = np.nan\n",
    "slimit.loc[slimit['계절제_2차'] == 0, '계절제_2차'] = np.nan\n",
    "slimit.loc[slimit['계절제_3차'] == 0, '계절제_3차'] = np.nan\n",
    "slimit.loc[slimit['계절제_4차'] == 0, '계절제_4차'] = np.nan"
   ]
  },
  {
   "cell_type": "code",
   "execution_count": 335,
   "metadata": {},
   "outputs": [
    {
     "data": {
      "text/html": [
       "<div>\n",
       "<style scoped>\n",
       "    .dataframe tbody tr th:only-of-type {\n",
       "        vertical-align: middle;\n",
       "    }\n",
       "\n",
       "    .dataframe tbody tr th {\n",
       "        vertical-align: top;\n",
       "    }\n",
       "\n",
       "    .dataframe thead th {\n",
       "        text-align: right;\n",
       "    }\n",
       "</style>\n",
       "<table border=\"1\" class=\"dataframe\">\n",
       "  <thead>\n",
       "    <tr style=\"text-align: right;\">\n",
       "      <th></th>\n",
       "      <th>적발지역</th>\n",
       "      <th>적발시도</th>\n",
       "      <th>적발시도코드</th>\n",
       "      <th>등록시도</th>\n",
       "      <th>차대번호</th>\n",
       "      <th>계절제_1차</th>\n",
       "      <th>계절제_2차</th>\n",
       "      <th>계절제_3차</th>\n",
       "      <th>계절제_4차</th>\n",
       "      <th>차종</th>\n",
       "      <th>차종유형</th>\n",
       "    </tr>\n",
       "  </thead>\n",
       "  <tbody>\n",
       "    <tr>\n",
       "      <th>0</th>\n",
       "      <td>수도권</td>\n",
       "      <td>경기</td>\n",
       "      <td>41</td>\n",
       "      <td>경기도</td>\n",
       "      <td>KMHSJ81WP6U027471</td>\n",
       "      <td>NaN</td>\n",
       "      <td>NaN</td>\n",
       "      <td>NaN</td>\n",
       "      <td>NaN</td>\n",
       "      <td>승용</td>\n",
       "      <td>대형</td>\n",
       "    </tr>\n",
       "    <tr>\n",
       "      <th>1</th>\n",
       "      <td>수도권</td>\n",
       "      <td>경기</td>\n",
       "      <td>41</td>\n",
       "      <td>서울특별시</td>\n",
       "      <td>KN4HN26NK7K194096</td>\n",
       "      <td>NaN</td>\n",
       "      <td>2.00</td>\n",
       "      <td>NaN</td>\n",
       "      <td>NaN</td>\n",
       "      <td>화물</td>\n",
       "      <td>중형</td>\n",
       "    </tr>\n",
       "    <tr>\n",
       "      <th>2</th>\n",
       "      <td>수도권</td>\n",
       "      <td>경기</td>\n",
       "      <td>41</td>\n",
       "      <td>경기도</td>\n",
       "      <td>KMFLA18EP7C024398</td>\n",
       "      <td>NaN</td>\n",
       "      <td>4.00</td>\n",
       "      <td>NaN</td>\n",
       "      <td>NaN</td>\n",
       "      <td>화물</td>\n",
       "      <td>대형</td>\n",
       "    </tr>\n",
       "    <tr>\n",
       "      <th>3</th>\n",
       "      <td>수도권</td>\n",
       "      <td>경기</td>\n",
       "      <td>41</td>\n",
       "      <td>경기도</td>\n",
       "      <td>KPACE4AB18P024365</td>\n",
       "      <td>NaN</td>\n",
       "      <td>NaN</td>\n",
       "      <td>NaN</td>\n",
       "      <td>NaN</td>\n",
       "      <td>화물</td>\n",
       "      <td>소형</td>\n",
       "    </tr>\n",
       "    <tr>\n",
       "      <th>4</th>\n",
       "      <td>수도권</td>\n",
       "      <td>경기</td>\n",
       "      <td>41</td>\n",
       "      <td>경기도</td>\n",
       "      <td>KMFGA17LP2C163416</td>\n",
       "      <td>NaN</td>\n",
       "      <td>NaN</td>\n",
       "      <td>NaN</td>\n",
       "      <td>NaN</td>\n",
       "      <td>화물</td>\n",
       "      <td>중형</td>\n",
       "    </tr>\n",
       "  </tbody>\n",
       "</table>\n",
       "</div>"
      ],
      "text/plain": [
       "  적발지역 적발시도 적발시도코드   등록시도               차대번호  계절제_1차  계절제_2차  계절제_3차  계절제_4차   \n",
       "0  수도권   경기     41    경기도  KMHSJ81WP6U027471     NaN     NaN     NaN     NaN  \\\n",
       "1  수도권   경기     41  서울특별시  KN4HN26NK7K194096     NaN    2.00     NaN     NaN   \n",
       "2  수도권   경기     41    경기도  KMFLA18EP7C024398     NaN    4.00     NaN     NaN   \n",
       "3  수도권   경기     41    경기도  KPACE4AB18P024365     NaN     NaN     NaN     NaN   \n",
       "4  수도권   경기     41    경기도  KMFGA17LP2C163416     NaN     NaN     NaN     NaN   \n",
       "\n",
       "   차종 차종유형  \n",
       "0  승용   대형  \n",
       "1  화물   중형  \n",
       "2  화물   대형  \n",
       "3  화물   소형  \n",
       "4  화물   중형  "
      ]
     },
     "execution_count": 335,
     "metadata": {},
     "output_type": "execute_result"
    }
   ],
   "source": [
    "slimit.head()"
   ]
  },
  {
   "cell_type": "code",
   "execution_count": 336,
   "metadata": {},
   "outputs": [
    {
     "data": {
      "text/plain": [
       "Index(['적발지역', '적발시도', '적발시도코드', '등록시도', '차대번호', '계절제_1차', '계절제_2차', '계절제_3차',\n",
       "       '계절제_4차', '차종', '차종유형'],\n",
       "      dtype='object')"
      ]
     },
     "execution_count": 336,
     "metadata": {},
     "output_type": "execute_result"
    }
   ],
   "source": [
    "slimit.columns"
   ]
  },
  {
   "cell_type": "code",
   "execution_count": 337,
   "metadata": {},
   "outputs": [],
   "source": [
    "slimit['테이블생성일자'] = today_date"
   ]
  },
  {
   "cell_type": "code",
   "execution_count": 338,
   "metadata": {},
   "outputs": [],
   "source": [
    "cdict = {\n",
    "    '테이블생성일자':'LOAD_DT', \n",
    "    '적발지역':'DSCL_RGN', \n",
    "    '적발시도':'DSCL_CTPV', \n",
    "    '적발시도코드':'DSCL_CTPV_CD', # !!! 수정\n",
    "    '등록시도':'RED_CTPV', # !!! 수정\n",
    "    '차대번호':'VIN', \n",
    "    '계절제_1차':'SEASON_1ODR_CRDN_NOCS', \n",
    "    '계절제_2차':'SEASON_2ODR_CRDN_NOCS', \n",
    "    '계절제_3차':'SEASON_3ODR_CRDN_NOCS', \n",
    "    '계절제_4차':'SEASON_4ODR_CRDN_NOCS', \n",
    "    '차종':'VHCTY_CD',\n",
    "    '차종유형':'VHCTY_TY', \n",
    "}"
   ]
  },
  {
   "cell_type": "code",
   "execution_count": 339,
   "metadata": {},
   "outputs": [
    {
     "data": {
      "text/plain": [
       "Index(['DSCL_RGN', 'DSCL_CTPV', 'DSCL_CTPV_CD', 'RED_CTPV', 'VIN',\n",
       "       'SEASON_1ODR_CRDN_NOCS', 'SEASON_2ODR_CRDN_NOCS',\n",
       "       'SEASON_3ODR_CRDN_NOCS', 'SEASON_4ODR_CRDN_NOCS', 'VHCTY_CD',\n",
       "       'VHCTY_TY', 'LOAD_DT'],\n",
       "      dtype='object')"
      ]
     },
     "execution_count": 339,
     "metadata": {},
     "output_type": "execute_result"
    }
   ],
   "source": [
    "STD_BD_SEASON_DSCL_RGN_CURSTT = slimit.rename(columns=cdict)\n",
    "STD_BD_SEASON_DSCL_RGN_CURSTT.columns"
   ]
  },
  {
   "cell_type": "markdown",
   "metadata": {},
   "source": [
    "### [출력] STD_BD_SEASON_DSCL_RGN_CURSTT"
   ]
  },
  {
   "cell_type": "code",
   "execution_count": 340,
   "metadata": {},
   "outputs": [],
   "source": [
    "# expdf = STD_BD_SEASON_DSCL_RGN_CURSTT\n",
    "# table_nm = 'STD_BD_SEASON_DSCL_RGN_CURSTT'.upper()\n",
    "\n",
    "# # 테이블 생성\n",
    "# sql = 'create or replace table ' + table_nm + '( \\n'\n",
    "\n",
    "# for idx,column in enumerate(expdf.columns):\n",
    "#     sql += column + ' varchar(255)'\n",
    "\n",
    "#     if len(expdf.columns) - 1 != idx:\n",
    "#         sql += ','\n",
    "#     sql += '\\n'\n",
    "# sql += ')'    \n",
    "# we.execute(sql)\n",
    "\n",
    "# # 데이터 추가\n",
    "# # 5s\n",
    "# we.import_from_pandas(expdf, table_nm)"
   ]
  },
  {
   "cell_type": "code",
   "execution_count": 341,
   "metadata": {},
   "outputs": [],
   "source": [
    "# # 1.3s\n",
    "# STD_BD_SEASON_DSCL_RGN_CURSTT.to_csv(os.path.join(df3_fold, f'STD_BD_SEASON_DSCL_RGN_CURSTT({today_date}).csv'), index=False)"
   ]
  },
  {
   "cell_type": "markdown",
   "metadata": {},
   "source": [
    "## 5등급 저감사업"
   ]
  },
  {
   "cell_type": "code",
   "execution_count": 342,
   "metadata": {},
   "outputs": [
    {
     "data": {
      "text/plain": [
       "(2314288, 10)"
      ]
     },
     "execution_count": 342,
     "metadata": {},
     "output_type": "execute_result"
    }
   ],
   "source": [
    "carr.shape"
   ]
  },
  {
   "cell_type": "code",
   "execution_count": 343,
   "metadata": {},
   "outputs": [
    {
     "data": {
      "text/plain": [
       "(2314288, 13)"
      ]
     },
     "execution_count": 343,
     "metadata": {},
     "output_type": "execute_result"
    }
   ],
   "source": [
    "# 4s\n",
    "ce = carr.merge(elpm, on='차대번호', how='left')\n",
    "ce.shape"
   ]
  },
  {
   "cell_type": "code",
   "execution_count": 344,
   "metadata": {},
   "outputs": [
    {
     "data": {
      "text/plain": [
       "(2314288, 15)"
      ]
     },
     "execution_count": 344,
     "metadata": {},
     "output_type": "execute_result"
    }
   ],
   "source": [
    "# 4s\n",
    "dfe = ce.merge(attr, on='차대번호', how='left')\n",
    "dfe.shape"
   ]
  },
  {
   "cell_type": "code",
   "execution_count": 345,
   "metadata": {},
   "outputs": [
    {
     "data": {
      "text/plain": [
       "(1340281, 21)"
      ]
     },
     "execution_count": 345,
     "metadata": {},
     "output_type": "execute_result"
    }
   ],
   "source": [
    "errc.shape"
   ]
  },
  {
   "cell_type": "code",
   "execution_count": 346,
   "metadata": {},
   "outputs": [
    {
     "data": {
      "text/plain": [
       "Index(['차대번호', '법정동코드', '차량말소YN', '제원관리번호', '차량연식', '차종', '용도', '최초등록일자',\n",
       "       '제작일자', '차량관리번호', '조기폐차상태코드', '조기폐차최종승인YN', '말소일자', '저감장치구분', 'DPF_YN'],\n",
       "      dtype='object')"
      ]
     },
     "execution_count": 346,
     "metadata": {},
     "output_type": "execute_result"
    }
   ],
   "source": [
    "dfe.columns"
   ]
  },
  {
   "cell_type": "code",
   "execution_count": 347,
   "metadata": {},
   "outputs": [
    {
     "data": {
      "text/plain": [
       "Index(['차대번호', '법정동코드', '차량말소YN_x', '제원관리번호', '차량연식', '차종', '용도', '최초등록일자',\n",
       "       '제작일자', '차량관리번호', '연료', '차종유형', '차량말소YN_y', '변경일자', '시도코드', '시군구코드',\n",
       "       '시도', '시군구', '변경일자_년', '변경일자_월', '변경일자_일'],\n",
       "      dtype='object')"
      ]
     },
     "execution_count": 347,
     "metadata": {},
     "output_type": "execute_result"
    }
   ],
   "source": [
    "errc.columns"
   ]
  },
  {
   "cell_type": "code",
   "execution_count": 348,
   "metadata": {},
   "outputs": [],
   "source": [
    "dfe['최초등록일자'] = dfe['최초등록일자'].astype('str')\n",
    "dfe['최초등록일자_년'] = dfe['최초등록일자'].str[:4]\n",
    "dfe['최초등록일자_월'] = dfe['최초등록일자'].str[4:6]\n",
    "dfe['최초등록일자_일'] = dfe['최초등록일자'].str[6:8]"
   ]
  },
  {
   "cell_type": "code",
   "execution_count": 349,
   "metadata": {},
   "outputs": [],
   "source": [
    "dfe['말소일자_년'] = dfe['말소일자'].astype('str').str[:4]\n",
    "dfe['말소일자_월'] = dfe['말소일자'].astype('str').str[4:6]\n",
    "dfe['말소일자_일'] = dfe['말소일자'].astype('str').str[6:8]"
   ]
  },
  {
   "cell_type": "code",
   "execution_count": 350,
   "metadata": {},
   "outputs": [],
   "source": [
    "errc['변경일자'] = errc['변경일자'].astype('str')\n",
    "errc['변경일자_년'] = errc['변경일자'].str[:4]\n",
    "errc['변경일자_월'] = errc['변경일자'].str[4:6]\n",
    "errc['변경일자_일'] = errc['변경일자'].str[6:8]"
   ]
  },
  {
   "cell_type": "code",
   "execution_count": 351,
   "metadata": {},
   "outputs": [
    {
     "data": {
      "text/plain": [
       "(1340281, 21)"
      ]
     },
     "execution_count": 351,
     "metadata": {},
     "output_type": "execute_result"
    }
   ],
   "source": [
    "errc.shape"
   ]
  },
  {
   "cell_type": "code",
   "execution_count": 352,
   "metadata": {},
   "outputs": [
    {
     "data": {
      "text/plain": [
       "(1340281, 24)"
      ]
     },
     "execution_count": 352,
     "metadata": {},
     "output_type": "execute_result"
    }
   ],
   "source": [
    "ere = errc.merge(elpm, on='차대번호', how='left')\n",
    "ere.shape"
   ]
  },
  {
   "cell_type": "code",
   "execution_count": 353,
   "metadata": {},
   "outputs": [
    {
     "data": {
      "text/plain": [
       "(1340281, 26)"
      ]
     },
     "execution_count": 353,
     "metadata": {},
     "output_type": "execute_result"
    }
   ],
   "source": [
    "erea = ere.merge(attr, on='차대번호', how='left')\n",
    "erea.shape"
   ]
  },
  {
   "cell_type": "code",
   "execution_count": 354,
   "metadata": {},
   "outputs": [],
   "source": [
    "# 연도 설정\n",
    "# year = '2022'\n",
    "year = today_date[:4] # !!! 수정(2023.09.01)\n",
    "dfe['연도'] = year"
   ]
  },
  {
   "cell_type": "code",
   "execution_count": 355,
   "metadata": {},
   "outputs": [
    {
     "data": {
      "text/plain": [
       "'2023'"
      ]
     },
     "execution_count": 355,
     "metadata": {},
     "output_type": "execute_result"
    }
   ],
   "source": [
    "year"
   ]
  },
  {
   "cell_type": "code",
   "execution_count": 356,
   "metadata": {},
   "outputs": [],
   "source": [
    "def knd1(x):\n",
    "    if '1종' in x.unique():\n",
    "        return x.value_counts()['1종']\n",
    "    else:\n",
    "        return 0"
   ]
  },
  {
   "cell_type": "code",
   "execution_count": 357,
   "metadata": {},
   "outputs": [],
   "source": [
    "def knd2(x):\n",
    "    if '1종+SCR' in x.unique():\n",
    "        return x.value_counts()['1종+SCR']\n",
    "    else:\n",
    "        return 0"
   ]
  },
  {
   "cell_type": "code",
   "execution_count": 358,
   "metadata": {},
   "outputs": [
    {
     "data": {
      "text/html": [
       "<div>\n",
       "<style scoped>\n",
       "    .dataframe tbody tr th:only-of-type {\n",
       "        vertical-align: middle;\n",
       "    }\n",
       "\n",
       "    .dataframe tbody tr th {\n",
       "        vertical-align: top;\n",
       "    }\n",
       "\n",
       "    .dataframe thead th {\n",
       "        text-align: right;\n",
       "    }\n",
       "</style>\n",
       "<table border=\"1\" class=\"dataframe\">\n",
       "  <thead>\n",
       "    <tr style=\"text-align: right;\">\n",
       "      <th></th>\n",
       "      <th>연도</th>\n",
       "      <th>차량대수</th>\n",
       "      <th>저감장치(1종)</th>\n",
       "      <th>저감장치(1종+SCR)</th>\n",
       "    </tr>\n",
       "  </thead>\n",
       "  <tbody>\n",
       "    <tr>\n",
       "      <th>0</th>\n",
       "      <td>2023</td>\n",
       "      <td>973987</td>\n",
       "      <td>279018</td>\n",
       "      <td>2469</td>\n",
       "    </tr>\n",
       "  </tbody>\n",
       "</table>\n",
       "</div>"
      ],
      "text/plain": [
       "     연도    차량대수  저감장치(1종)  저감장치(1종+SCR)\n",
       "0  2023  973987    279018          2469"
      ]
     },
     "execution_count": 358,
     "metadata": {},
     "output_type": "execute_result"
    }
   ],
   "source": [
    "# 올해 차량 대수 # !!! 수정(2023.09.01)\n",
    "grp1 = dfe[dfe['차량말소YN'] == 'N'].groupby(['연도']).agg({'차대번호':'count', '저감장치구분':[knd1, knd2]}).reset_index()\n",
    "grp1.columns = ['연도', '차량대수', '저감장치(1종)', '저감장치(1종+SCR)']\n",
    "grp1"
   ]
  },
  {
   "cell_type": "code",
   "execution_count": 359,
   "metadata": {},
   "outputs": [
    {
     "data": {
      "text/html": [
       "<div>\n",
       "<style scoped>\n",
       "    .dataframe tbody tr th:only-of-type {\n",
       "        vertical-align: middle;\n",
       "    }\n",
       "\n",
       "    .dataframe tbody tr th {\n",
       "        vertical-align: top;\n",
       "    }\n",
       "\n",
       "    .dataframe thead th {\n",
       "        text-align: right;\n",
       "    }\n",
       "</style>\n",
       "<table border=\"1\" class=\"dataframe\">\n",
       "  <thead>\n",
       "    <tr style=\"text-align: right;\">\n",
       "      <th></th>\n",
       "      <th>연도</th>\n",
       "      <th>등록대수</th>\n",
       "      <th>등록저감장치(1종)</th>\n",
       "      <th>등록저감장치(1종+SCR)</th>\n",
       "    </tr>\n",
       "  </thead>\n",
       "  <tbody>\n",
       "    <tr>\n",
       "      <th>0</th>\n",
       "      <td>1920</td>\n",
       "      <td>3</td>\n",
       "      <td>0</td>\n",
       "      <td>0</td>\n",
       "    </tr>\n",
       "    <tr>\n",
       "      <th>1</th>\n",
       "      <td>1942</td>\n",
       "      <td>2</td>\n",
       "      <td>0</td>\n",
       "      <td>0</td>\n",
       "    </tr>\n",
       "    <tr>\n",
       "      <th>2</th>\n",
       "      <td>1943</td>\n",
       "      <td>3</td>\n",
       "      <td>0</td>\n",
       "      <td>0</td>\n",
       "    </tr>\n",
       "    <tr>\n",
       "      <th>3</th>\n",
       "      <td>1944</td>\n",
       "      <td>13</td>\n",
       "      <td>0</td>\n",
       "      <td>0</td>\n",
       "    </tr>\n",
       "    <tr>\n",
       "      <th>4</th>\n",
       "      <td>1945</td>\n",
       "      <td>4</td>\n",
       "      <td>0</td>\n",
       "      <td>0</td>\n",
       "    </tr>\n",
       "    <tr>\n",
       "      <th>...</th>\n",
       "      <td>...</td>\n",
       "      <td>...</td>\n",
       "      <td>...</td>\n",
       "      <td>...</td>\n",
       "    </tr>\n",
       "    <tr>\n",
       "      <th>67</th>\n",
       "      <td>2020</td>\n",
       "      <td>23</td>\n",
       "      <td>6</td>\n",
       "      <td>1</td>\n",
       "    </tr>\n",
       "    <tr>\n",
       "      <th>68</th>\n",
       "      <td>2021</td>\n",
       "      <td>8</td>\n",
       "      <td>2</td>\n",
       "      <td>0</td>\n",
       "    </tr>\n",
       "    <tr>\n",
       "      <th>69</th>\n",
       "      <td>2022</td>\n",
       "      <td>3</td>\n",
       "      <td>0</td>\n",
       "      <td>0</td>\n",
       "    </tr>\n",
       "    <tr>\n",
       "      <th>70</th>\n",
       "      <td>2023</td>\n",
       "      <td>2</td>\n",
       "      <td>0</td>\n",
       "      <td>0</td>\n",
       "    </tr>\n",
       "    <tr>\n",
       "      <th>71</th>\n",
       "      <td>nan</td>\n",
       "      <td>6</td>\n",
       "      <td>0</td>\n",
       "      <td>0</td>\n",
       "    </tr>\n",
       "  </tbody>\n",
       "</table>\n",
       "<p>72 rows × 4 columns</p>\n",
       "</div>"
      ],
      "text/plain": [
       "      연도  등록대수  등록저감장치(1종)  등록저감장치(1종+SCR)\n",
       "0   1920     3           0               0\n",
       "1   1942     2           0               0\n",
       "2   1943     3           0               0\n",
       "3   1944    13           0               0\n",
       "4   1945     4           0               0\n",
       "..   ...   ...         ...             ...\n",
       "67  2020    23           6               1\n",
       "68  2021     8           2               0\n",
       "69  2022     3           0               0\n",
       "70  2023     2           0               0\n",
       "71   nan     6           0               0\n",
       "\n",
       "[72 rows x 4 columns]"
      ]
     },
     "execution_count": 359,
     "metadata": {},
     "output_type": "execute_result"
    }
   ],
   "source": [
    "# 연도별 등록대수\n",
    "grp2 = dfe[dfe['차량말소YN'] == 'N'].groupby(['최초등록일자_년']).agg({'차대번호':'count', '저감장치구분':[knd1, knd2]}).reset_index()\n",
    "grp2.columns = ['연도', '등록대수', '등록저감장치(1종)', '등록저감장치(1종+SCR)']\n",
    "grp2"
   ]
  },
  {
   "cell_type": "code",
   "execution_count": 360,
   "metadata": {},
   "outputs": [
    {
     "data": {
      "text/html": [
       "<div>\n",
       "<style scoped>\n",
       "    .dataframe tbody tr th:only-of-type {\n",
       "        vertical-align: middle;\n",
       "    }\n",
       "\n",
       "    .dataframe tbody tr th {\n",
       "        vertical-align: top;\n",
       "    }\n",
       "\n",
       "    .dataframe thead th {\n",
       "        text-align: right;\n",
       "    }\n",
       "</style>\n",
       "<table border=\"1\" class=\"dataframe\">\n",
       "  <thead>\n",
       "    <tr style=\"text-align: right;\">\n",
       "      <th></th>\n",
       "      <th>연도</th>\n",
       "      <th>말소대수</th>\n",
       "      <th>말소저감장치(1종)</th>\n",
       "      <th>말소저감장치(1종+SCR)</th>\n",
       "    </tr>\n",
       "  </thead>\n",
       "  <tbody>\n",
       "    <tr>\n",
       "      <th>0</th>\n",
       "      <td>2019</td>\n",
       "      <td>261048</td>\n",
       "      <td>8526</td>\n",
       "      <td>36</td>\n",
       "    </tr>\n",
       "    <tr>\n",
       "      <th>1</th>\n",
       "      <td>2020</td>\n",
       "      <td>411333</td>\n",
       "      <td>16713</td>\n",
       "      <td>86</td>\n",
       "    </tr>\n",
       "    <tr>\n",
       "      <th>2</th>\n",
       "      <td>2021</td>\n",
       "      <td>343331</td>\n",
       "      <td>21296</td>\n",
       "      <td>128</td>\n",
       "    </tr>\n",
       "    <tr>\n",
       "      <th>3</th>\n",
       "      <td>2022</td>\n",
       "      <td>216274</td>\n",
       "      <td>34777</td>\n",
       "      <td>185</td>\n",
       "    </tr>\n",
       "    <tr>\n",
       "      <th>4</th>\n",
       "      <td>2023</td>\n",
       "      <td>108295</td>\n",
       "      <td>25364</td>\n",
       "      <td>122</td>\n",
       "    </tr>\n",
       "  </tbody>\n",
       "</table>\n",
       "</div>"
      ],
      "text/plain": [
       "     연도    말소대수  말소저감장치(1종)  말소저감장치(1종+SCR)\n",
       "0  2019  261048        8526              36\n",
       "1  2020  411333       16713              86\n",
       "2  2021  343331       21296             128\n",
       "3  2022  216274       34777             185\n",
       "4  2023  108295       25364             122"
      ]
     },
     "execution_count": 360,
     "metadata": {},
     "output_type": "execute_result"
    }
   ],
   "source": [
    "# 연도별 말소대수\n",
    "grp3 = erea.groupby('변경일자_년').agg({'차대번호':'count', '저감장치구분':[knd1, knd2]}).reset_index()\n",
    "grp3.columns = ['연도', '말소대수', '말소저감장치(1종)', '말소저감장치(1종+SCR)']\n",
    "grp3"
   ]
  },
  {
   "cell_type": "code",
   "execution_count": 361,
   "metadata": {},
   "outputs": [
    {
     "data": {
      "text/html": [
       "<div>\n",
       "<style scoped>\n",
       "    .dataframe tbody tr th:only-of-type {\n",
       "        vertical-align: middle;\n",
       "    }\n",
       "\n",
       "    .dataframe tbody tr th {\n",
       "        vertical-align: top;\n",
       "    }\n",
       "\n",
       "    .dataframe thead th {\n",
       "        text-align: right;\n",
       "    }\n",
       "</style>\n",
       "<table border=\"1\" class=\"dataframe\">\n",
       "  <thead>\n",
       "    <tr style=\"text-align: right;\">\n",
       "      <th></th>\n",
       "      <th>연도</th>\n",
       "      <th>조기폐차</th>\n",
       "    </tr>\n",
       "  </thead>\n",
       "  <tbody>\n",
       "    <tr>\n",
       "      <th>0</th>\n",
       "      <td>2005</td>\n",
       "      <td>1</td>\n",
       "    </tr>\n",
       "    <tr>\n",
       "      <th>1</th>\n",
       "      <td>2011</td>\n",
       "      <td>1</td>\n",
       "    </tr>\n",
       "    <tr>\n",
       "      <th>2</th>\n",
       "      <td>2013</td>\n",
       "      <td>1</td>\n",
       "    </tr>\n",
       "    <tr>\n",
       "      <th>3</th>\n",
       "      <td>2015</td>\n",
       "      <td>1</td>\n",
       "    </tr>\n",
       "    <tr>\n",
       "      <th>4</th>\n",
       "      <td>2018</td>\n",
       "      <td>1</td>\n",
       "    </tr>\n",
       "    <tr>\n",
       "      <th>5</th>\n",
       "      <td>2019</td>\n",
       "      <td>79951</td>\n",
       "    </tr>\n",
       "    <tr>\n",
       "      <th>6</th>\n",
       "      <td>2020</td>\n",
       "      <td>97484</td>\n",
       "    </tr>\n",
       "    <tr>\n",
       "      <th>7</th>\n",
       "      <td>2021</td>\n",
       "      <td>106445</td>\n",
       "    </tr>\n",
       "    <tr>\n",
       "      <th>8</th>\n",
       "      <td>2022</td>\n",
       "      <td>87391</td>\n",
       "    </tr>\n",
       "    <tr>\n",
       "      <th>9</th>\n",
       "      <td>2023</td>\n",
       "      <td>27812</td>\n",
       "    </tr>\n",
       "    <tr>\n",
       "      <th>10</th>\n",
       "      <td>2032</td>\n",
       "      <td>7</td>\n",
       "    </tr>\n",
       "    <tr>\n",
       "      <th>11</th>\n",
       "      <td>2202</td>\n",
       "      <td>9</td>\n",
       "    </tr>\n",
       "    <tr>\n",
       "      <th>12</th>\n",
       "      <td>2221</td>\n",
       "      <td>1</td>\n",
       "    </tr>\n",
       "    <tr>\n",
       "      <th>13</th>\n",
       "      <td>2222</td>\n",
       "      <td>1</td>\n",
       "    </tr>\n",
       "    <tr>\n",
       "      <th>14</th>\n",
       "      <td>3022</td>\n",
       "      <td>1</td>\n",
       "    </tr>\n",
       "    <tr>\n",
       "      <th>15</th>\n",
       "      <td>4444</td>\n",
       "      <td>1</td>\n",
       "    </tr>\n",
       "    <tr>\n",
       "      <th>16</th>\n",
       "      <td>nan</td>\n",
       "      <td>452</td>\n",
       "    </tr>\n",
       "  </tbody>\n",
       "</table>\n",
       "</div>"
      ],
      "text/plain": [
       "      연도    조기폐차\n",
       "0   2005       1\n",
       "1   2011       1\n",
       "2   2013       1\n",
       "3   2015       1\n",
       "4   2018       1\n",
       "5   2019   79951\n",
       "6   2020   97484\n",
       "7   2021  106445\n",
       "8   2022   87391\n",
       "9   2023   27812\n",
       "10  2032       7\n",
       "11  2202       9\n",
       "12  2221       1\n",
       "13  2222       1\n",
       "14  3022       1\n",
       "15  4444       1\n",
       "16   nan     452"
      ]
     },
     "execution_count": 361,
     "metadata": {},
     "output_type": "execute_result"
    }
   ],
   "source": [
    "# 연도별 조기폐차 대수\n",
    "grp4 = dfe.groupby('말소일자_년').agg({'조기폐차최종승인YN':'count'}).reset_index()\n",
    "grp4 = grp4.rename(columns={'말소일자_년':'연도', '조기폐차최종승인YN':'조기폐차'})\n",
    "grp4"
   ]
  },
  {
   "cell_type": "code",
   "execution_count": 362,
   "metadata": {},
   "outputs": [
    {
     "data": {
      "text/html": [
       "<div>\n",
       "<style scoped>\n",
       "    .dataframe tbody tr th:only-of-type {\n",
       "        vertical-align: middle;\n",
       "    }\n",
       "\n",
       "    .dataframe tbody tr th {\n",
       "        vertical-align: top;\n",
       "    }\n",
       "\n",
       "    .dataframe thead th {\n",
       "        text-align: right;\n",
       "    }\n",
       "</style>\n",
       "<table border=\"1\" class=\"dataframe\">\n",
       "  <thead>\n",
       "    <tr style=\"text-align: right;\">\n",
       "      <th></th>\n",
       "      <th>연도</th>\n",
       "    </tr>\n",
       "  </thead>\n",
       "  <tbody>\n",
       "    <tr>\n",
       "      <th>0</th>\n",
       "      <td>2019</td>\n",
       "    </tr>\n",
       "    <tr>\n",
       "      <th>1</th>\n",
       "      <td>2020</td>\n",
       "    </tr>\n",
       "    <tr>\n",
       "      <th>2</th>\n",
       "      <td>2021</td>\n",
       "    </tr>\n",
       "    <tr>\n",
       "      <th>3</th>\n",
       "      <td>2022</td>\n",
       "    </tr>\n",
       "    <tr>\n",
       "      <th>4</th>\n",
       "      <td>2023</td>\n",
       "    </tr>\n",
       "  </tbody>\n",
       "</table>\n",
       "</div>"
      ],
      "text/plain": [
       "     연도\n",
       "0  2019\n",
       "1  2020\n",
       "2  2021\n",
       "3  2022\n",
       "4  2023"
      ]
     },
     "execution_count": 362,
     "metadata": {},
     "output_type": "execute_result"
    }
   ],
   "source": [
    "# 2019년도부터 차량 통계 기본 데이터셋\n",
    "yr_list = []\n",
    "for yr in range(2019, int(year) + 1): # !!! 수정(2023.09.01)\n",
    "    yr_list.append(str(yr))\n",
    "base = pd.DataFrame({'연도':yr_list})\n",
    "base"
   ]
  },
  {
   "cell_type": "code",
   "execution_count": 363,
   "metadata": {},
   "outputs": [
    {
     "data": {
      "text/html": [
       "<div>\n",
       "<style scoped>\n",
       "    .dataframe tbody tr th:only-of-type {\n",
       "        vertical-align: middle;\n",
       "    }\n",
       "\n",
       "    .dataframe tbody tr th {\n",
       "        vertical-align: top;\n",
       "    }\n",
       "\n",
       "    .dataframe thead th {\n",
       "        text-align: right;\n",
       "    }\n",
       "</style>\n",
       "<table border=\"1\" class=\"dataframe\">\n",
       "  <thead>\n",
       "    <tr style=\"text-align: right;\">\n",
       "      <th></th>\n",
       "      <th>연도</th>\n",
       "      <th>차량대수</th>\n",
       "      <th>저감장치(1종)</th>\n",
       "      <th>저감장치(1종+SCR)</th>\n",
       "    </tr>\n",
       "  </thead>\n",
       "  <tbody>\n",
       "    <tr>\n",
       "      <th>0</th>\n",
       "      <td>2019</td>\n",
       "      <td>NaN</td>\n",
       "      <td>NaN</td>\n",
       "      <td>NaN</td>\n",
       "    </tr>\n",
       "    <tr>\n",
       "      <th>1</th>\n",
       "      <td>2020</td>\n",
       "      <td>NaN</td>\n",
       "      <td>NaN</td>\n",
       "      <td>NaN</td>\n",
       "    </tr>\n",
       "    <tr>\n",
       "      <th>2</th>\n",
       "      <td>2021</td>\n",
       "      <td>NaN</td>\n",
       "      <td>NaN</td>\n",
       "      <td>NaN</td>\n",
       "    </tr>\n",
       "    <tr>\n",
       "      <th>3</th>\n",
       "      <td>2022</td>\n",
       "      <td>NaN</td>\n",
       "      <td>NaN</td>\n",
       "      <td>NaN</td>\n",
       "    </tr>\n",
       "    <tr>\n",
       "      <th>4</th>\n",
       "      <td>2023</td>\n",
       "      <td>973987.00</td>\n",
       "      <td>279018.00</td>\n",
       "      <td>2469.00</td>\n",
       "    </tr>\n",
       "  </tbody>\n",
       "</table>\n",
       "</div>"
      ],
      "text/plain": [
       "     연도      차량대수  저감장치(1종)  저감장치(1종+SCR)\n",
       "0  2019       NaN       NaN           NaN\n",
       "1  2020       NaN       NaN           NaN\n",
       "2  2021       NaN       NaN           NaN\n",
       "3  2022       NaN       NaN           NaN\n",
       "4  2023 973987.00 279018.00       2469.00"
      ]
     },
     "execution_count": 363,
     "metadata": {},
     "output_type": "execute_result"
    }
   ],
   "source": [
    "base1 = base.merge(grp1, on='연도', how='left')\n",
    "base1"
   ]
  },
  {
   "cell_type": "code",
   "execution_count": 364,
   "metadata": {},
   "outputs": [
    {
     "data": {
      "text/html": [
       "<div>\n",
       "<style scoped>\n",
       "    .dataframe tbody tr th:only-of-type {\n",
       "        vertical-align: middle;\n",
       "    }\n",
       "\n",
       "    .dataframe tbody tr th {\n",
       "        vertical-align: top;\n",
       "    }\n",
       "\n",
       "    .dataframe thead th {\n",
       "        text-align: right;\n",
       "    }\n",
       "</style>\n",
       "<table border=\"1\" class=\"dataframe\">\n",
       "  <thead>\n",
       "    <tr style=\"text-align: right;\">\n",
       "      <th></th>\n",
       "      <th>연도</th>\n",
       "      <th>차량대수</th>\n",
       "      <th>저감장치(1종)</th>\n",
       "      <th>저감장치(1종+SCR)</th>\n",
       "      <th>등록대수</th>\n",
       "      <th>등록저감장치(1종)</th>\n",
       "      <th>등록저감장치(1종+SCR)</th>\n",
       "    </tr>\n",
       "  </thead>\n",
       "  <tbody>\n",
       "    <tr>\n",
       "      <th>0</th>\n",
       "      <td>2019</td>\n",
       "      <td>NaN</td>\n",
       "      <td>NaN</td>\n",
       "      <td>NaN</td>\n",
       "      <td>56</td>\n",
       "      <td>8</td>\n",
       "      <td>1</td>\n",
       "    </tr>\n",
       "    <tr>\n",
       "      <th>1</th>\n",
       "      <td>2020</td>\n",
       "      <td>NaN</td>\n",
       "      <td>NaN</td>\n",
       "      <td>NaN</td>\n",
       "      <td>23</td>\n",
       "      <td>6</td>\n",
       "      <td>1</td>\n",
       "    </tr>\n",
       "    <tr>\n",
       "      <th>2</th>\n",
       "      <td>2021</td>\n",
       "      <td>NaN</td>\n",
       "      <td>NaN</td>\n",
       "      <td>NaN</td>\n",
       "      <td>8</td>\n",
       "      <td>2</td>\n",
       "      <td>0</td>\n",
       "    </tr>\n",
       "    <tr>\n",
       "      <th>3</th>\n",
       "      <td>2022</td>\n",
       "      <td>NaN</td>\n",
       "      <td>NaN</td>\n",
       "      <td>NaN</td>\n",
       "      <td>3</td>\n",
       "      <td>0</td>\n",
       "      <td>0</td>\n",
       "    </tr>\n",
       "    <tr>\n",
       "      <th>4</th>\n",
       "      <td>2023</td>\n",
       "      <td>973987.00</td>\n",
       "      <td>279018.00</td>\n",
       "      <td>2469.00</td>\n",
       "      <td>2</td>\n",
       "      <td>0</td>\n",
       "      <td>0</td>\n",
       "    </tr>\n",
       "  </tbody>\n",
       "</table>\n",
       "</div>"
      ],
      "text/plain": [
       "     연도      차량대수  저감장치(1종)  저감장치(1종+SCR)  등록대수  등록저감장치(1종)  등록저감장치(1종+SCR)\n",
       "0  2019       NaN       NaN           NaN    56           8               1\n",
       "1  2020       NaN       NaN           NaN    23           6               1\n",
       "2  2021       NaN       NaN           NaN     8           2               0\n",
       "3  2022       NaN       NaN           NaN     3           0               0\n",
       "4  2023 973987.00 279018.00       2469.00     2           0               0"
      ]
     },
     "execution_count": 364,
     "metadata": {},
     "output_type": "execute_result"
    }
   ],
   "source": [
    "base2 = base1.merge(grp2, on='연도', how='left')\n",
    "base2"
   ]
  },
  {
   "cell_type": "code",
   "execution_count": 365,
   "metadata": {},
   "outputs": [
    {
     "data": {
      "text/html": [
       "<div>\n",
       "<style scoped>\n",
       "    .dataframe tbody tr th:only-of-type {\n",
       "        vertical-align: middle;\n",
       "    }\n",
       "\n",
       "    .dataframe tbody tr th {\n",
       "        vertical-align: top;\n",
       "    }\n",
       "\n",
       "    .dataframe thead th {\n",
       "        text-align: right;\n",
       "    }\n",
       "</style>\n",
       "<table border=\"1\" class=\"dataframe\">\n",
       "  <thead>\n",
       "    <tr style=\"text-align: right;\">\n",
       "      <th></th>\n",
       "      <th>연도</th>\n",
       "      <th>차량대수</th>\n",
       "      <th>저감장치(1종)</th>\n",
       "      <th>저감장치(1종+SCR)</th>\n",
       "      <th>등록대수</th>\n",
       "      <th>등록저감장치(1종)</th>\n",
       "      <th>등록저감장치(1종+SCR)</th>\n",
       "      <th>말소대수</th>\n",
       "      <th>말소저감장치(1종)</th>\n",
       "      <th>말소저감장치(1종+SCR)</th>\n",
       "    </tr>\n",
       "  </thead>\n",
       "  <tbody>\n",
       "    <tr>\n",
       "      <th>0</th>\n",
       "      <td>2019</td>\n",
       "      <td>NaN</td>\n",
       "      <td>NaN</td>\n",
       "      <td>NaN</td>\n",
       "      <td>56</td>\n",
       "      <td>8</td>\n",
       "      <td>1</td>\n",
       "      <td>261048</td>\n",
       "      <td>8526</td>\n",
       "      <td>36</td>\n",
       "    </tr>\n",
       "    <tr>\n",
       "      <th>1</th>\n",
       "      <td>2020</td>\n",
       "      <td>NaN</td>\n",
       "      <td>NaN</td>\n",
       "      <td>NaN</td>\n",
       "      <td>23</td>\n",
       "      <td>6</td>\n",
       "      <td>1</td>\n",
       "      <td>411333</td>\n",
       "      <td>16713</td>\n",
       "      <td>86</td>\n",
       "    </tr>\n",
       "    <tr>\n",
       "      <th>2</th>\n",
       "      <td>2021</td>\n",
       "      <td>NaN</td>\n",
       "      <td>NaN</td>\n",
       "      <td>NaN</td>\n",
       "      <td>8</td>\n",
       "      <td>2</td>\n",
       "      <td>0</td>\n",
       "      <td>343331</td>\n",
       "      <td>21296</td>\n",
       "      <td>128</td>\n",
       "    </tr>\n",
       "    <tr>\n",
       "      <th>3</th>\n",
       "      <td>2022</td>\n",
       "      <td>NaN</td>\n",
       "      <td>NaN</td>\n",
       "      <td>NaN</td>\n",
       "      <td>3</td>\n",
       "      <td>0</td>\n",
       "      <td>0</td>\n",
       "      <td>216274</td>\n",
       "      <td>34777</td>\n",
       "      <td>185</td>\n",
       "    </tr>\n",
       "    <tr>\n",
       "      <th>4</th>\n",
       "      <td>2023</td>\n",
       "      <td>973987.00</td>\n",
       "      <td>279018.00</td>\n",
       "      <td>2469.00</td>\n",
       "      <td>2</td>\n",
       "      <td>0</td>\n",
       "      <td>0</td>\n",
       "      <td>108295</td>\n",
       "      <td>25364</td>\n",
       "      <td>122</td>\n",
       "    </tr>\n",
       "  </tbody>\n",
       "</table>\n",
       "</div>"
      ],
      "text/plain": [
       "     연도      차량대수  저감장치(1종)  저감장치(1종+SCR)  등록대수  등록저감장치(1종)  등록저감장치(1종+SCR)   \n",
       "0  2019       NaN       NaN           NaN    56           8               1  \\\n",
       "1  2020       NaN       NaN           NaN    23           6               1   \n",
       "2  2021       NaN       NaN           NaN     8           2               0   \n",
       "3  2022       NaN       NaN           NaN     3           0               0   \n",
       "4  2023 973987.00 279018.00       2469.00     2           0               0   \n",
       "\n",
       "     말소대수  말소저감장치(1종)  말소저감장치(1종+SCR)  \n",
       "0  261048        8526              36  \n",
       "1  411333       16713              86  \n",
       "2  343331       21296             128  \n",
       "3  216274       34777             185  \n",
       "4  108295       25364             122  "
      ]
     },
     "execution_count": 365,
     "metadata": {},
     "output_type": "execute_result"
    }
   ],
   "source": [
    "base3 = base2.merge(grp3, on='연도', how='left')\n",
    "base3"
   ]
  },
  {
   "cell_type": "code",
   "execution_count": 366,
   "metadata": {},
   "outputs": [
    {
     "data": {
      "text/html": [
       "<div>\n",
       "<style scoped>\n",
       "    .dataframe tbody tr th:only-of-type {\n",
       "        vertical-align: middle;\n",
       "    }\n",
       "\n",
       "    .dataframe tbody tr th {\n",
       "        vertical-align: top;\n",
       "    }\n",
       "\n",
       "    .dataframe thead th {\n",
       "        text-align: right;\n",
       "    }\n",
       "</style>\n",
       "<table border=\"1\" class=\"dataframe\">\n",
       "  <thead>\n",
       "    <tr style=\"text-align: right;\">\n",
       "      <th></th>\n",
       "      <th>연도</th>\n",
       "      <th>차량대수</th>\n",
       "      <th>저감장치(1종)</th>\n",
       "      <th>저감장치(1종+SCR)</th>\n",
       "      <th>등록대수</th>\n",
       "      <th>등록저감장치(1종)</th>\n",
       "      <th>등록저감장치(1종+SCR)</th>\n",
       "      <th>말소대수</th>\n",
       "      <th>말소저감장치(1종)</th>\n",
       "      <th>말소저감장치(1종+SCR)</th>\n",
       "      <th>조기폐차</th>\n",
       "    </tr>\n",
       "  </thead>\n",
       "  <tbody>\n",
       "    <tr>\n",
       "      <th>0</th>\n",
       "      <td>2019</td>\n",
       "      <td>NaN</td>\n",
       "      <td>NaN</td>\n",
       "      <td>NaN</td>\n",
       "      <td>56</td>\n",
       "      <td>8</td>\n",
       "      <td>1</td>\n",
       "      <td>261048</td>\n",
       "      <td>8526</td>\n",
       "      <td>36</td>\n",
       "      <td>79951</td>\n",
       "    </tr>\n",
       "    <tr>\n",
       "      <th>1</th>\n",
       "      <td>2020</td>\n",
       "      <td>NaN</td>\n",
       "      <td>NaN</td>\n",
       "      <td>NaN</td>\n",
       "      <td>23</td>\n",
       "      <td>6</td>\n",
       "      <td>1</td>\n",
       "      <td>411333</td>\n",
       "      <td>16713</td>\n",
       "      <td>86</td>\n",
       "      <td>97484</td>\n",
       "    </tr>\n",
       "    <tr>\n",
       "      <th>2</th>\n",
       "      <td>2021</td>\n",
       "      <td>NaN</td>\n",
       "      <td>NaN</td>\n",
       "      <td>NaN</td>\n",
       "      <td>8</td>\n",
       "      <td>2</td>\n",
       "      <td>0</td>\n",
       "      <td>343331</td>\n",
       "      <td>21296</td>\n",
       "      <td>128</td>\n",
       "      <td>106445</td>\n",
       "    </tr>\n",
       "    <tr>\n",
       "      <th>3</th>\n",
       "      <td>2022</td>\n",
       "      <td>NaN</td>\n",
       "      <td>NaN</td>\n",
       "      <td>NaN</td>\n",
       "      <td>3</td>\n",
       "      <td>0</td>\n",
       "      <td>0</td>\n",
       "      <td>216274</td>\n",
       "      <td>34777</td>\n",
       "      <td>185</td>\n",
       "      <td>87391</td>\n",
       "    </tr>\n",
       "    <tr>\n",
       "      <th>4</th>\n",
       "      <td>2023</td>\n",
       "      <td>973987.00</td>\n",
       "      <td>279018.00</td>\n",
       "      <td>2469.00</td>\n",
       "      <td>2</td>\n",
       "      <td>0</td>\n",
       "      <td>0</td>\n",
       "      <td>108295</td>\n",
       "      <td>25364</td>\n",
       "      <td>122</td>\n",
       "      <td>27812</td>\n",
       "    </tr>\n",
       "  </tbody>\n",
       "</table>\n",
       "</div>"
      ],
      "text/plain": [
       "     연도      차량대수  저감장치(1종)  저감장치(1종+SCR)  등록대수  등록저감장치(1종)  등록저감장치(1종+SCR)   \n",
       "0  2019       NaN       NaN           NaN    56           8               1  \\\n",
       "1  2020       NaN       NaN           NaN    23           6               1   \n",
       "2  2021       NaN       NaN           NaN     8           2               0   \n",
       "3  2022       NaN       NaN           NaN     3           0               0   \n",
       "4  2023 973987.00 279018.00       2469.00     2           0               0   \n",
       "\n",
       "     말소대수  말소저감장치(1종)  말소저감장치(1종+SCR)    조기폐차  \n",
       "0  261048        8526              36   79951  \n",
       "1  411333       16713              86   97484  \n",
       "2  343331       21296             128  106445  \n",
       "3  216274       34777             185   87391  \n",
       "4  108295       25364             122   27812  "
      ]
     },
     "execution_count": 366,
     "metadata": {},
     "output_type": "execute_result"
    }
   ],
   "source": [
    "base4 = base3.merge(grp4, on='연도', how='left')\n",
    "base4"
   ]
  },
  {
   "cell_type": "code",
   "execution_count": 367,
   "metadata": {},
   "outputs": [
    {
     "data": {
      "text/plain": [
       "Index(['연도', '차량대수', '저감장치(1종)', '저감장치(1종+SCR)', '등록대수', '등록저감장치(1종)',\n",
       "       '등록저감장치(1종+SCR)', '말소대수', '말소저감장치(1종)', '말소저감장치(1종+SCR)', '조기폐차'],\n",
       "      dtype='object')"
      ]
     },
     "execution_count": 367,
     "metadata": {},
     "output_type": "execute_result"
    }
   ],
   "source": [
    "base4.columns"
   ]
  },
  {
   "cell_type": "code",
   "execution_count": 368,
   "metadata": {},
   "outputs": [
    {
     "data": {
      "text/plain": [
       "차량대수              4\n",
       "저감장치(1종)          4\n",
       "저감장치(1종+SCR)      4\n",
       "등록대수              0\n",
       "등록저감장치(1종)        0\n",
       "등록저감장치(1종+SCR)    0\n",
       "말소대수              0\n",
       "말소저감장치(1종)        0\n",
       "말소저감장치(1종+SCR)    0\n",
       "조기폐차              0\n",
       "dtype: int64"
      ]
     },
     "execution_count": 368,
     "metadata": {},
     "output_type": "execute_result"
    }
   ],
   "source": [
    "base4.iloc[:, 1:].isnull().sum()"
   ]
  },
  {
   "cell_type": "code",
   "execution_count": 369,
   "metadata": {},
   "outputs": [],
   "source": [
    "base4.iloc[:,1:] = base4.iloc[:,1:].fillna(0) # !!! 수정(2023.09.01)"
   ]
  },
  {
   "cell_type": "code",
   "execution_count": 370,
   "metadata": {},
   "outputs": [
    {
     "data": {
      "text/plain": [
       "차량대수              0\n",
       "저감장치(1종)          0\n",
       "저감장치(1종+SCR)      0\n",
       "등록대수              0\n",
       "등록저감장치(1종)        0\n",
       "등록저감장치(1종+SCR)    0\n",
       "말소대수              0\n",
       "말소저감장치(1종)        0\n",
       "말소저감장치(1종+SCR)    0\n",
       "조기폐차              0\n",
       "dtype: int64"
      ]
     },
     "execution_count": 370,
     "metadata": {},
     "output_type": "execute_result"
    }
   ],
   "source": [
    "base4.iloc[:, 1:].isnull().sum()"
   ]
  },
  {
   "cell_type": "code",
   "execution_count": 371,
   "metadata": {},
   "outputs": [],
   "source": [
    "n = len(base4['연도'].unique())\n",
    "for i in range(base4.shape[0] // n):\n",
    "    for j in range(2, n+1):\n",
    "        base4.loc[(i+1)*n - j, '차량대수'] = base4.loc[(i+1)*n - (j-1), '차량대수'] + base4.loc[(i+1)*n - (j-1), '말소대수'] - base4.loc[(i+1)*n - (j-1), '등록대수']\n",
    "        base4.loc[(i+1)*n - j, '저감장치(1종)'] = base4.loc[(i+1)*n - (j-1), '저감장치(1종)'] + base4.loc[(i+1)*n - (j-1), '말소저감장치(1종)'] - base4.loc[(i+1)*n - (j-1), '등록저감장치(1종)']\n",
    "        base4.loc[(i+1)*n - j, '저감장치(1종+SCR)'] = base4.loc[(i+1)*n - (j-1), '저감장치(1종+SCR)'] + base4.loc[(i+1)*n - (j-1), '말소저감장치(1종+SCR)'] - base4.loc[(i+1)*n - (j-1), '등록저감장치(1종+SCR)']"
   ]
  },
  {
   "cell_type": "code",
   "execution_count": 372,
   "metadata": {},
   "outputs": [
    {
     "data": {
      "text/html": [
       "<div>\n",
       "<style scoped>\n",
       "    .dataframe tbody tr th:only-of-type {\n",
       "        vertical-align: middle;\n",
       "    }\n",
       "\n",
       "    .dataframe tbody tr th {\n",
       "        vertical-align: top;\n",
       "    }\n",
       "\n",
       "    .dataframe thead th {\n",
       "        text-align: right;\n",
       "    }\n",
       "</style>\n",
       "<table border=\"1\" class=\"dataframe\">\n",
       "  <thead>\n",
       "    <tr style=\"text-align: right;\">\n",
       "      <th></th>\n",
       "      <th>연도</th>\n",
       "      <th>차량대수</th>\n",
       "      <th>저감장치(1종)</th>\n",
       "      <th>저감장치(1종+SCR)</th>\n",
       "      <th>등록대수</th>\n",
       "      <th>등록저감장치(1종)</th>\n",
       "      <th>등록저감장치(1종+SCR)</th>\n",
       "      <th>말소대수</th>\n",
       "      <th>말소저감장치(1종)</th>\n",
       "      <th>말소저감장치(1종+SCR)</th>\n",
       "      <th>조기폐차</th>\n",
       "    </tr>\n",
       "  </thead>\n",
       "  <tbody>\n",
       "    <tr>\n",
       "      <th>0</th>\n",
       "      <td>2019</td>\n",
       "      <td>2053184.00</td>\n",
       "      <td>377160.00</td>\n",
       "      <td>2989.00</td>\n",
       "      <td>56</td>\n",
       "      <td>8</td>\n",
       "      <td>1</td>\n",
       "      <td>261048</td>\n",
       "      <td>8526</td>\n",
       "      <td>36</td>\n",
       "      <td>79951</td>\n",
       "    </tr>\n",
       "    <tr>\n",
       "      <th>1</th>\n",
       "      <td>2020</td>\n",
       "      <td>1641874.00</td>\n",
       "      <td>360453.00</td>\n",
       "      <td>2904.00</td>\n",
       "      <td>23</td>\n",
       "      <td>6</td>\n",
       "      <td>1</td>\n",
       "      <td>411333</td>\n",
       "      <td>16713</td>\n",
       "      <td>86</td>\n",
       "      <td>97484</td>\n",
       "    </tr>\n",
       "    <tr>\n",
       "      <th>2</th>\n",
       "      <td>2021</td>\n",
       "      <td>1298551.00</td>\n",
       "      <td>339159.00</td>\n",
       "      <td>2776.00</td>\n",
       "      <td>8</td>\n",
       "      <td>2</td>\n",
       "      <td>0</td>\n",
       "      <td>343331</td>\n",
       "      <td>21296</td>\n",
       "      <td>128</td>\n",
       "      <td>106445</td>\n",
       "    </tr>\n",
       "    <tr>\n",
       "      <th>3</th>\n",
       "      <td>2022</td>\n",
       "      <td>1082280.00</td>\n",
       "      <td>304382.00</td>\n",
       "      <td>2591.00</td>\n",
       "      <td>3</td>\n",
       "      <td>0</td>\n",
       "      <td>0</td>\n",
       "      <td>216274</td>\n",
       "      <td>34777</td>\n",
       "      <td>185</td>\n",
       "      <td>87391</td>\n",
       "    </tr>\n",
       "    <tr>\n",
       "      <th>4</th>\n",
       "      <td>2023</td>\n",
       "      <td>973987.00</td>\n",
       "      <td>279018.00</td>\n",
       "      <td>2469.00</td>\n",
       "      <td>2</td>\n",
       "      <td>0</td>\n",
       "      <td>0</td>\n",
       "      <td>108295</td>\n",
       "      <td>25364</td>\n",
       "      <td>122</td>\n",
       "      <td>27812</td>\n",
       "    </tr>\n",
       "  </tbody>\n",
       "</table>\n",
       "</div>"
      ],
      "text/plain": [
       "     연도       차량대수  저감장치(1종)  저감장치(1종+SCR)  등록대수  등록저감장치(1종)  등록저감장치(1종+SCR)   \n",
       "0  2019 2053184.00 377160.00       2989.00    56           8               1  \\\n",
       "1  2020 1641874.00 360453.00       2904.00    23           6               1   \n",
       "2  2021 1298551.00 339159.00       2776.00     8           2               0   \n",
       "3  2022 1082280.00 304382.00       2591.00     3           0               0   \n",
       "4  2023  973987.00 279018.00       2469.00     2           0               0   \n",
       "\n",
       "     말소대수  말소저감장치(1종)  말소저감장치(1종+SCR)    조기폐차  \n",
       "0  261048        8526              36   79951  \n",
       "1  411333       16713              86   97484  \n",
       "2  343331       21296             128  106445  \n",
       "3  216274       34777             185   87391  \n",
       "4  108295       25364             122   27812  "
      ]
     },
     "execution_count": 372,
     "metadata": {},
     "output_type": "execute_result"
    }
   ],
   "source": [
    "base4"
   ]
  },
  {
   "cell_type": "code",
   "execution_count": 373,
   "metadata": {},
   "outputs": [
    {
     "data": {
      "text/html": [
       "<div>\n",
       "<style scoped>\n",
       "    .dataframe tbody tr th:only-of-type {\n",
       "        vertical-align: middle;\n",
       "    }\n",
       "\n",
       "    .dataframe tbody tr th {\n",
       "        vertical-align: top;\n",
       "    }\n",
       "\n",
       "    .dataframe thead th {\n",
       "        text-align: right;\n",
       "    }\n",
       "</style>\n",
       "<table border=\"1\" class=\"dataframe\">\n",
       "  <thead>\n",
       "    <tr style=\"text-align: right;\">\n",
       "      <th></th>\n",
       "      <th>연도</th>\n",
       "      <th>차량대수</th>\n",
       "      <th>조기폐차</th>\n",
       "      <th>저감장치(1종)</th>\n",
       "      <th>저감장치(1종+SCR)</th>\n",
       "    </tr>\n",
       "  </thead>\n",
       "  <tbody>\n",
       "    <tr>\n",
       "      <th>0</th>\n",
       "      <td>2019</td>\n",
       "      <td>2053184.00</td>\n",
       "      <td>79951</td>\n",
       "      <td>377160.00</td>\n",
       "      <td>2989.00</td>\n",
       "    </tr>\n",
       "    <tr>\n",
       "      <th>1</th>\n",
       "      <td>2020</td>\n",
       "      <td>1641874.00</td>\n",
       "      <td>97484</td>\n",
       "      <td>360453.00</td>\n",
       "      <td>2904.00</td>\n",
       "    </tr>\n",
       "    <tr>\n",
       "      <th>2</th>\n",
       "      <td>2021</td>\n",
       "      <td>1298551.00</td>\n",
       "      <td>106445</td>\n",
       "      <td>339159.00</td>\n",
       "      <td>2776.00</td>\n",
       "    </tr>\n",
       "    <tr>\n",
       "      <th>3</th>\n",
       "      <td>2022</td>\n",
       "      <td>1082280.00</td>\n",
       "      <td>87391</td>\n",
       "      <td>304382.00</td>\n",
       "      <td>2591.00</td>\n",
       "    </tr>\n",
       "    <tr>\n",
       "      <th>4</th>\n",
       "      <td>2023</td>\n",
       "      <td>973987.00</td>\n",
       "      <td>27812</td>\n",
       "      <td>279018.00</td>\n",
       "      <td>2469.00</td>\n",
       "    </tr>\n",
       "  </tbody>\n",
       "</table>\n",
       "</div>"
      ],
      "text/plain": [
       "     연도       차량대수    조기폐차  저감장치(1종)  저감장치(1종+SCR)\n",
       "0  2019 2053184.00   79951 377160.00       2989.00\n",
       "1  2020 1641874.00   97484 360453.00       2904.00\n",
       "2  2021 1298551.00  106445 339159.00       2776.00\n",
       "3  2022 1082280.00   87391 304382.00       2591.00\n",
       "4  2023  973987.00   27812 279018.00       2469.00"
      ]
     },
     "execution_count": 373,
     "metadata": {},
     "output_type": "execute_result"
    }
   ],
   "source": [
    "base5 = base4[['연도', '차량대수', '조기폐차', '저감장치(1종)', '저감장치(1종+SCR)']]\n",
    "base5"
   ]
  },
  {
   "cell_type": "code",
   "execution_count": 374,
   "metadata": {},
   "outputs": [
    {
     "name": "stderr",
     "output_type": "stream",
     "text": [
      "C:\\Users\\kbjung\\AppData\\Local\\Temp\\ipykernel_22504\\2849714677.py:1: SettingWithCopyWarning: \n",
      "A value is trying to be set on a copy of a slice from a DataFrame.\n",
      "Try using .loc[row_indexer,col_indexer] = value instead\n",
      "\n",
      "See the caveats in the documentation: https://pandas.pydata.org/pandas-docs/stable/user_guide/indexing.html#returning-a-view-versus-a-copy\n",
      "  base5['감소대수'] = base5['차량대수'].shift() - base5['차량대수']\n"
     ]
    },
    {
     "data": {
      "text/html": [
       "<div>\n",
       "<style scoped>\n",
       "    .dataframe tbody tr th:only-of-type {\n",
       "        vertical-align: middle;\n",
       "    }\n",
       "\n",
       "    .dataframe tbody tr th {\n",
       "        vertical-align: top;\n",
       "    }\n",
       "\n",
       "    .dataframe thead th {\n",
       "        text-align: right;\n",
       "    }\n",
       "</style>\n",
       "<table border=\"1\" class=\"dataframe\">\n",
       "  <thead>\n",
       "    <tr style=\"text-align: right;\">\n",
       "      <th></th>\n",
       "      <th>연도</th>\n",
       "      <th>차량대수</th>\n",
       "      <th>조기폐차</th>\n",
       "      <th>저감장치(1종)</th>\n",
       "      <th>저감장치(1종+SCR)</th>\n",
       "      <th>감소대수</th>\n",
       "    </tr>\n",
       "  </thead>\n",
       "  <tbody>\n",
       "    <tr>\n",
       "      <th>0</th>\n",
       "      <td>2019</td>\n",
       "      <td>2053184.00</td>\n",
       "      <td>79951</td>\n",
       "      <td>377160.00</td>\n",
       "      <td>2989.00</td>\n",
       "      <td>NaN</td>\n",
       "    </tr>\n",
       "    <tr>\n",
       "      <th>1</th>\n",
       "      <td>2020</td>\n",
       "      <td>1641874.00</td>\n",
       "      <td>97484</td>\n",
       "      <td>360453.00</td>\n",
       "      <td>2904.00</td>\n",
       "      <td>411310.00</td>\n",
       "    </tr>\n",
       "    <tr>\n",
       "      <th>2</th>\n",
       "      <td>2021</td>\n",
       "      <td>1298551.00</td>\n",
       "      <td>106445</td>\n",
       "      <td>339159.00</td>\n",
       "      <td>2776.00</td>\n",
       "      <td>343323.00</td>\n",
       "    </tr>\n",
       "    <tr>\n",
       "      <th>3</th>\n",
       "      <td>2022</td>\n",
       "      <td>1082280.00</td>\n",
       "      <td>87391</td>\n",
       "      <td>304382.00</td>\n",
       "      <td>2591.00</td>\n",
       "      <td>216271.00</td>\n",
       "    </tr>\n",
       "    <tr>\n",
       "      <th>4</th>\n",
       "      <td>2023</td>\n",
       "      <td>973987.00</td>\n",
       "      <td>27812</td>\n",
       "      <td>279018.00</td>\n",
       "      <td>2469.00</td>\n",
       "      <td>108293.00</td>\n",
       "    </tr>\n",
       "  </tbody>\n",
       "</table>\n",
       "</div>"
      ],
      "text/plain": [
       "     연도       차량대수    조기폐차  저감장치(1종)  저감장치(1종+SCR)      감소대수\n",
       "0  2019 2053184.00   79951 377160.00       2989.00       NaN\n",
       "1  2020 1641874.00   97484 360453.00       2904.00 411310.00\n",
       "2  2021 1298551.00  106445 339159.00       2776.00 343323.00\n",
       "3  2022 1082280.00   87391 304382.00       2591.00 216271.00\n",
       "4  2023  973987.00   27812 279018.00       2469.00 108293.00"
      ]
     },
     "execution_count": 374,
     "metadata": {},
     "output_type": "execute_result"
    }
   ],
   "source": [
    "base5['감소대수'] = base5['차량대수'].shift() - base5['차량대수']\n",
    "base5"
   ]
  },
  {
   "cell_type": "code",
   "execution_count": 375,
   "metadata": {},
   "outputs": [
    {
     "name": "stderr",
     "output_type": "stream",
     "text": [
      "C:\\Users\\kbjung\\AppData\\Local\\Temp\\ipykernel_22504\\2601777811.py:1: SettingWithCopyWarning: \n",
      "A value is trying to be set on a copy of a slice from a DataFrame.\n",
      "Try using .loc[row_indexer,col_indexer] = value instead\n",
      "\n",
      "See the caveats in the documentation: https://pandas.pydata.org/pandas-docs/stable/user_guide/indexing.html#returning-a-view-versus-a-copy\n",
      "  base5['자연감소'] = base5['감소대수'] - base5['조기폐차']\n"
     ]
    },
    {
     "data": {
      "text/html": [
       "<div>\n",
       "<style scoped>\n",
       "    .dataframe tbody tr th:only-of-type {\n",
       "        vertical-align: middle;\n",
       "    }\n",
       "\n",
       "    .dataframe tbody tr th {\n",
       "        vertical-align: top;\n",
       "    }\n",
       "\n",
       "    .dataframe thead th {\n",
       "        text-align: right;\n",
       "    }\n",
       "</style>\n",
       "<table border=\"1\" class=\"dataframe\">\n",
       "  <thead>\n",
       "    <tr style=\"text-align: right;\">\n",
       "      <th></th>\n",
       "      <th>연도</th>\n",
       "      <th>차량대수</th>\n",
       "      <th>조기폐차</th>\n",
       "      <th>저감장치(1종)</th>\n",
       "      <th>저감장치(1종+SCR)</th>\n",
       "      <th>감소대수</th>\n",
       "      <th>자연감소</th>\n",
       "    </tr>\n",
       "  </thead>\n",
       "  <tbody>\n",
       "    <tr>\n",
       "      <th>0</th>\n",
       "      <td>2019</td>\n",
       "      <td>2053184.00</td>\n",
       "      <td>79951</td>\n",
       "      <td>377160.00</td>\n",
       "      <td>2989.00</td>\n",
       "      <td>NaN</td>\n",
       "      <td>NaN</td>\n",
       "    </tr>\n",
       "    <tr>\n",
       "      <th>1</th>\n",
       "      <td>2020</td>\n",
       "      <td>1641874.00</td>\n",
       "      <td>97484</td>\n",
       "      <td>360453.00</td>\n",
       "      <td>2904.00</td>\n",
       "      <td>411310.00</td>\n",
       "      <td>313826.00</td>\n",
       "    </tr>\n",
       "    <tr>\n",
       "      <th>2</th>\n",
       "      <td>2021</td>\n",
       "      <td>1298551.00</td>\n",
       "      <td>106445</td>\n",
       "      <td>339159.00</td>\n",
       "      <td>2776.00</td>\n",
       "      <td>343323.00</td>\n",
       "      <td>236878.00</td>\n",
       "    </tr>\n",
       "    <tr>\n",
       "      <th>3</th>\n",
       "      <td>2022</td>\n",
       "      <td>1082280.00</td>\n",
       "      <td>87391</td>\n",
       "      <td>304382.00</td>\n",
       "      <td>2591.00</td>\n",
       "      <td>216271.00</td>\n",
       "      <td>128880.00</td>\n",
       "    </tr>\n",
       "    <tr>\n",
       "      <th>4</th>\n",
       "      <td>2023</td>\n",
       "      <td>973987.00</td>\n",
       "      <td>27812</td>\n",
       "      <td>279018.00</td>\n",
       "      <td>2469.00</td>\n",
       "      <td>108293.00</td>\n",
       "      <td>80481.00</td>\n",
       "    </tr>\n",
       "  </tbody>\n",
       "</table>\n",
       "</div>"
      ],
      "text/plain": [
       "     연도       차량대수    조기폐차  저감장치(1종)  저감장치(1종+SCR)      감소대수      자연감소\n",
       "0  2019 2053184.00   79951 377160.00       2989.00       NaN       NaN\n",
       "1  2020 1641874.00   97484 360453.00       2904.00 411310.00 313826.00\n",
       "2  2021 1298551.00  106445 339159.00       2776.00 343323.00 236878.00\n",
       "3  2022 1082280.00   87391 304382.00       2591.00 216271.00 128880.00\n",
       "4  2023  973987.00   27812 279018.00       2469.00 108293.00  80481.00"
      ]
     },
     "execution_count": 375,
     "metadata": {},
     "output_type": "execute_result"
    }
   ],
   "source": [
    "base5['자연감소'] = base5['감소대수'] - base5['조기폐차']\n",
    "base5"
   ]
  },
  {
   "cell_type": "code",
   "execution_count": 376,
   "metadata": {},
   "outputs": [
    {
     "name": "stderr",
     "output_type": "stream",
     "text": [
      "C:\\Users\\kbjung\\AppData\\Local\\Temp\\ipykernel_22504\\3804496685.py:1: SettingWithCopyWarning: \n",
      "A value is trying to be set on a copy of a slice from a DataFrame.\n",
      "Try using .loc[row_indexer,col_indexer] = value instead\n",
      "\n",
      "See the caveats in the documentation: https://pandas.pydata.org/pandas-docs/stable/user_guide/indexing.html#returning-a-view-versus-a-copy\n",
      "  base5['미장착'] = base5['차량대수'] - base5['저감장치(1종)'] - base5['저감장치(1종+SCR)']\n"
     ]
    },
    {
     "data": {
      "text/html": [
       "<div>\n",
       "<style scoped>\n",
       "    .dataframe tbody tr th:only-of-type {\n",
       "        vertical-align: middle;\n",
       "    }\n",
       "\n",
       "    .dataframe tbody tr th {\n",
       "        vertical-align: top;\n",
       "    }\n",
       "\n",
       "    .dataframe thead th {\n",
       "        text-align: right;\n",
       "    }\n",
       "</style>\n",
       "<table border=\"1\" class=\"dataframe\">\n",
       "  <thead>\n",
       "    <tr style=\"text-align: right;\">\n",
       "      <th></th>\n",
       "      <th>연도</th>\n",
       "      <th>차량대수</th>\n",
       "      <th>조기폐차</th>\n",
       "      <th>저감장치(1종)</th>\n",
       "      <th>저감장치(1종+SCR)</th>\n",
       "      <th>감소대수</th>\n",
       "      <th>자연감소</th>\n",
       "      <th>미장착</th>\n",
       "    </tr>\n",
       "  </thead>\n",
       "  <tbody>\n",
       "    <tr>\n",
       "      <th>0</th>\n",
       "      <td>2019</td>\n",
       "      <td>2053184.00</td>\n",
       "      <td>79951</td>\n",
       "      <td>377160.00</td>\n",
       "      <td>2989.00</td>\n",
       "      <td>NaN</td>\n",
       "      <td>NaN</td>\n",
       "      <td>1673035.00</td>\n",
       "    </tr>\n",
       "    <tr>\n",
       "      <th>1</th>\n",
       "      <td>2020</td>\n",
       "      <td>1641874.00</td>\n",
       "      <td>97484</td>\n",
       "      <td>360453.00</td>\n",
       "      <td>2904.00</td>\n",
       "      <td>411310.00</td>\n",
       "      <td>313826.00</td>\n",
       "      <td>1278517.00</td>\n",
       "    </tr>\n",
       "    <tr>\n",
       "      <th>2</th>\n",
       "      <td>2021</td>\n",
       "      <td>1298551.00</td>\n",
       "      <td>106445</td>\n",
       "      <td>339159.00</td>\n",
       "      <td>2776.00</td>\n",
       "      <td>343323.00</td>\n",
       "      <td>236878.00</td>\n",
       "      <td>956616.00</td>\n",
       "    </tr>\n",
       "    <tr>\n",
       "      <th>3</th>\n",
       "      <td>2022</td>\n",
       "      <td>1082280.00</td>\n",
       "      <td>87391</td>\n",
       "      <td>304382.00</td>\n",
       "      <td>2591.00</td>\n",
       "      <td>216271.00</td>\n",
       "      <td>128880.00</td>\n",
       "      <td>775307.00</td>\n",
       "    </tr>\n",
       "    <tr>\n",
       "      <th>4</th>\n",
       "      <td>2023</td>\n",
       "      <td>973987.00</td>\n",
       "      <td>27812</td>\n",
       "      <td>279018.00</td>\n",
       "      <td>2469.00</td>\n",
       "      <td>108293.00</td>\n",
       "      <td>80481.00</td>\n",
       "      <td>692500.00</td>\n",
       "    </tr>\n",
       "  </tbody>\n",
       "</table>\n",
       "</div>"
      ],
      "text/plain": [
       "     연도       차량대수    조기폐차  저감장치(1종)  저감장치(1종+SCR)      감소대수      자연감소   \n",
       "0  2019 2053184.00   79951 377160.00       2989.00       NaN       NaN  \\\n",
       "1  2020 1641874.00   97484 360453.00       2904.00 411310.00 313826.00   \n",
       "2  2021 1298551.00  106445 339159.00       2776.00 343323.00 236878.00   \n",
       "3  2022 1082280.00   87391 304382.00       2591.00 216271.00 128880.00   \n",
       "4  2023  973987.00   27812 279018.00       2469.00 108293.00  80481.00   \n",
       "\n",
       "         미장착  \n",
       "0 1673035.00  \n",
       "1 1278517.00  \n",
       "2  956616.00  \n",
       "3  775307.00  \n",
       "4  692500.00  "
      ]
     },
     "execution_count": 376,
     "metadata": {},
     "output_type": "execute_result"
    }
   ],
   "source": [
    "base5['미장착'] = base5['차량대수'] - base5['저감장치(1종)'] - base5['저감장치(1종+SCR)']\n",
    "base5"
   ]
  },
  {
   "cell_type": "code",
   "execution_count": 377,
   "metadata": {},
   "outputs": [
    {
     "name": "stderr",
     "output_type": "stream",
     "text": [
      "C:\\Users\\kbjung\\AppData\\Local\\Temp\\ipykernel_22504\\3755925745.py:1: SettingWithCopyWarning: \n",
      "A value is trying to be set on a copy of a slice from a DataFrame.\n",
      "Try using .loc[row_indexer,col_indexer] = value instead\n",
      "\n",
      "See the caveats in the documentation: https://pandas.pydata.org/pandas-docs/stable/user_guide/indexing.html#returning-a-view-versus-a-copy\n",
      "  base5['테이블생성일자'] = today_date\n"
     ]
    }
   ],
   "source": [
    "base5['테이블생성일자'] = today_date"
   ]
  },
  {
   "cell_type": "code",
   "execution_count": 378,
   "metadata": {},
   "outputs": [
    {
     "data": {
      "text/plain": [
       "['연도',\n",
       " '차량대수',\n",
       " '조기폐차',\n",
       " '저감장치(1종)',\n",
       " '저감장치(1종+SCR)',\n",
       " '감소대수',\n",
       " '자연감소',\n",
       " '미장착',\n",
       " '테이블생성일자']"
      ]
     },
     "execution_count": 378,
     "metadata": {},
     "output_type": "execute_result"
    }
   ],
   "source": [
    "base5.columns.to_list()"
   ]
  },
  {
   "cell_type": "code",
   "execution_count": 379,
   "metadata": {},
   "outputs": [
    {
     "data": {
      "text/html": [
       "<div>\n",
       "<style scoped>\n",
       "    .dataframe tbody tr th:only-of-type {\n",
       "        vertical-align: middle;\n",
       "    }\n",
       "\n",
       "    .dataframe tbody tr th {\n",
       "        vertical-align: top;\n",
       "    }\n",
       "\n",
       "    .dataframe thead th {\n",
       "        text-align: right;\n",
       "    }\n",
       "</style>\n",
       "<table border=\"1\" class=\"dataframe\">\n",
       "  <thead>\n",
       "    <tr style=\"text-align: right;\">\n",
       "      <th></th>\n",
       "      <th>연도</th>\n",
       "      <th>차량대수</th>\n",
       "      <th>자연감소</th>\n",
       "      <th>조기폐차</th>\n",
       "      <th>저감장치(1종)</th>\n",
       "      <th>저감장치(1종+SCR)</th>\n",
       "      <th>미장착</th>\n",
       "      <th>테이블생성일자</th>\n",
       "    </tr>\n",
       "  </thead>\n",
       "  <tbody>\n",
       "    <tr>\n",
       "      <th>0</th>\n",
       "      <td>2019</td>\n",
       "      <td>2053184.00</td>\n",
       "      <td>NaN</td>\n",
       "      <td>79951</td>\n",
       "      <td>377160.00</td>\n",
       "      <td>2989.00</td>\n",
       "      <td>1673035.00</td>\n",
       "      <td>20230901</td>\n",
       "    </tr>\n",
       "    <tr>\n",
       "      <th>1</th>\n",
       "      <td>2020</td>\n",
       "      <td>1641874.00</td>\n",
       "      <td>313826.00</td>\n",
       "      <td>97484</td>\n",
       "      <td>360453.00</td>\n",
       "      <td>2904.00</td>\n",
       "      <td>1278517.00</td>\n",
       "      <td>20230901</td>\n",
       "    </tr>\n",
       "    <tr>\n",
       "      <th>2</th>\n",
       "      <td>2021</td>\n",
       "      <td>1298551.00</td>\n",
       "      <td>236878.00</td>\n",
       "      <td>106445</td>\n",
       "      <td>339159.00</td>\n",
       "      <td>2776.00</td>\n",
       "      <td>956616.00</td>\n",
       "      <td>20230901</td>\n",
       "    </tr>\n",
       "    <tr>\n",
       "      <th>3</th>\n",
       "      <td>2022</td>\n",
       "      <td>1082280.00</td>\n",
       "      <td>128880.00</td>\n",
       "      <td>87391</td>\n",
       "      <td>304382.00</td>\n",
       "      <td>2591.00</td>\n",
       "      <td>775307.00</td>\n",
       "      <td>20230901</td>\n",
       "    </tr>\n",
       "    <tr>\n",
       "      <th>4</th>\n",
       "      <td>2023</td>\n",
       "      <td>973987.00</td>\n",
       "      <td>80481.00</td>\n",
       "      <td>27812</td>\n",
       "      <td>279018.00</td>\n",
       "      <td>2469.00</td>\n",
       "      <td>692500.00</td>\n",
       "      <td>20230901</td>\n",
       "    </tr>\n",
       "  </tbody>\n",
       "</table>\n",
       "</div>"
      ],
      "text/plain": [
       "     연도       차량대수      자연감소    조기폐차  저감장치(1종)  저감장치(1종+SCR)        미장착   \n",
       "0  2019 2053184.00       NaN   79951 377160.00       2989.00 1673035.00  \\\n",
       "1  2020 1641874.00 313826.00   97484 360453.00       2904.00 1278517.00   \n",
       "2  2021 1298551.00 236878.00  106445 339159.00       2776.00  956616.00   \n",
       "3  2022 1082280.00 128880.00   87391 304382.00       2591.00  775307.00   \n",
       "4  2023  973987.00  80481.00   27812 279018.00       2469.00  692500.00   \n",
       "\n",
       "    테이블생성일자  \n",
       "0  20230901  \n",
       "1  20230901  \n",
       "2  20230901  \n",
       "3  20230901  \n",
       "4  20230901  "
      ]
     },
     "execution_count": 379,
     "metadata": {},
     "output_type": "execute_result"
    }
   ],
   "source": [
    "base5 = base5[[\n",
    "    '연도',\n",
    "    '차량대수',\n",
    "    '자연감소',\n",
    "    '조기폐차',\n",
    "    '저감장치(1종)',\n",
    "    '저감장치(1종+SCR)',\n",
    "    '미장착',\n",
    "    '테이블생성일자'\n",
    "    ]]\n",
    "base5"
   ]
  },
  {
   "cell_type": "code",
   "execution_count": 380,
   "metadata": {},
   "outputs": [
    {
     "data": {
      "text/plain": [
       "Index(['YR', 'VHCL_MKCNT', 'NTRL_DCLN', 'ELPDSRC', 'RDCDVC_1KND',\n",
       "       'RDCDVC_1KND_SCR', 'UNMNTNG', 'LOAD_DT'],\n",
       "      dtype='object')"
      ]
     },
     "execution_count": 380,
     "metadata": {},
     "output_type": "execute_result"
    }
   ],
   "source": [
    "cdict = {\n",
    "    '연도':'YR', \n",
    "    '차량대수':'VHCL_MKCNT', \n",
    "    '자연감소':'NTRL_DCLN', \n",
    "    '조기폐차':'ELPDSRC', \n",
    "    '저감장치(1종)':'RDCDVC_1KND', \n",
    "    '저감장치(1종+SCR)':'RDCDVC_1KND_SCR', \n",
    "    '미장착':'UNMNTNG', \n",
    "    '테이블생성일자':'LOAD_DT', \n",
    "}\n",
    "STD_BD_DAT_GRD5_REDUC_BIZ = base5.rename(columns=cdict)\n",
    "STD_BD_DAT_GRD5_REDUC_BIZ.columns"
   ]
  },
  {
   "cell_type": "code",
   "execution_count": 381,
   "metadata": {},
   "outputs": [
    {
     "data": {
      "text/plain": [
       "['YR',\n",
       " 'VHCL_MKCNT',\n",
       " 'NTRL_DCLN',\n",
       " 'ELPDSRC',\n",
       " 'RDCDVC_1KND',\n",
       " 'RDCDVC_1KND_SCR',\n",
       " 'UNMNTNG',\n",
       " 'LOAD_DT']"
      ]
     },
     "execution_count": 381,
     "metadata": {},
     "output_type": "execute_result"
    }
   ],
   "source": [
    "STD_BD_DAT_GRD5_REDUC_BIZ.columns.to_list()"
   ]
  },
  {
   "cell_type": "markdown",
   "metadata": {},
   "source": [
    "### [출력] STD_BD_DAT_GRD5_REDUC_BIZ"
   ]
  },
  {
   "cell_type": "code",
   "execution_count": 382,
   "metadata": {},
   "outputs": [],
   "source": [
    "# expdf = STD_BD_DAT_GRD5_REDUC_BIZ\n",
    "# table_nm = 'STD_BD_DAT_GRD5_REDUC_BIZ'.upper()\n",
    "\n",
    "# # 테이블 생성\n",
    "# sql = 'create table ' + table_nm + '( \\n'\n",
    "\n",
    "# for idx,column in enumerate(expdf.columns):\n",
    "#     # if 'float' in expdf[column].dtype.name:\n",
    "#     #     sql += column + ' float'\n",
    "#     # elif 'int' in expdf[column].dtype.name:\n",
    "#     #     sql += column + ' number'\n",
    "#     # else:\n",
    "#     sql += column + ' varchar(255)'\n",
    "\n",
    "#     if len(expdf.columns) - 1 != idx:\n",
    "#         sql += ','\n",
    "#     sql += '\\n'\n",
    "# sql += ')'    \n",
    "# we.execute(sql)\n",
    "\n",
    "# # 데이터 추가\n",
    "# # 5s\n",
    "# we.import_from_pandas(expdf, table_nm)"
   ]
  },
  {
   "cell_type": "code",
   "execution_count": 383,
   "metadata": {},
   "outputs": [],
   "source": [
    "# # 0s\n",
    "# STD_BD_DAT_GRD5_REDUC_BIZ.to_csv(os.path.join(df3_fold, f'STD_BD_DAT_GRD5_REDUC_BIZ({today_date}).csv'), index=False)"
   ]
  },
  {
   "cell_type": "markdown",
   "metadata": {},
   "source": [
    "## 운행제한현황"
   ]
  },
  {
   "cell_type": "code",
   "execution_count": 384,
   "metadata": {},
   "outputs": [
    {
     "data": {
      "text/plain": [
       "((16382044, 20), 452851)"
      ]
     },
     "execution_count": 384,
     "metadata": {},
     "output_type": "execute_result"
    }
   ],
   "source": [
    "is_season.shape, len(is_season['차대번호'].unique())"
   ]
  },
  {
   "cell_type": "code",
   "execution_count": 385,
   "metadata": {},
   "outputs": [
    {
     "data": {
      "text/plain": [
       "((452851, 5), 452851)"
      ]
     },
     "execution_count": 385,
     "metadata": {},
     "output_type": "execute_result"
    }
   ],
   "source": [
    "limit_season.shape, len(limit_season['차대번호'].unique())"
   ]
  },
  {
   "cell_type": "code",
   "execution_count": 386,
   "metadata": {},
   "outputs": [
    {
     "data": {
      "text/plain": [
       "(16382044, 24)"
      ]
     },
     "execution_count": 386,
     "metadata": {},
     "output_type": "execute_result"
    }
   ],
   "source": [
    "# 12s\n",
    "il = is_season.merge(limit_season, on='차대번호', how='left') # !!! 수정(2023.09.01)\n",
    "il.shape"
   ]
  },
  {
   "cell_type": "code",
   "execution_count": 387,
   "metadata": {},
   "outputs": [
    {
     "data": {
      "text/plain": [
       "(16382044, 43)"
      ]
     },
     "execution_count": 387,
     "metadata": {},
     "output_type": "execute_result"
    }
   ],
   "source": [
    "# 21s\n",
    "ild = il.merge(df, on='차대번호', how='left') # !!! 수정(2023.09.01)\n",
    "ild.shape"
   ]
  },
  {
   "cell_type": "code",
   "execution_count": 388,
   "metadata": {},
   "outputs": [
    {
     "data": {
      "text/plain": [
       "(452851, 43)"
      ]
     },
     "execution_count": 388,
     "metadata": {},
     "output_type": "execute_result"
    }
   ],
   "source": [
    "# 6s\n",
    "ildm = ild.drop_duplicates('차대번호').reset_index(drop=True) # !!! 수정(2023.09.01)\n",
    "ildm.shape"
   ]
  },
  {
   "cell_type": "code",
   "execution_count": 389,
   "metadata": {},
   "outputs": [
    {
     "data": {
      "text/plain": [
       "Index(['적발번호', '발령번호', '차대번호', '등록시도코드', '등록시군구코드', '적발지역코드', '단속일', '유형기준아이디',\n",
       "       '농도기준아이디', '등록시도', '등록시군구', '적발시도코드', '적발시군구코드', '적발시도', '적발시군구',\n",
       "       '적발지역', '계절제_1차여부', '계절제_2차여부', '계절제_3차여부', '계절제_4차여부', '계절제_1차',\n",
       "       '계절제_2차', '계절제_3차', '계절제_4차', '법정동코드', '차량말소YN', '제원관리번호', '차량연식', '차종',\n",
       "       '용도', '최초등록일자', '제작일자', '차량관리번호', '연료', '차종유형', 'DPF_YN', '시도코드',\n",
       "       '시군구코드', '시도', '시군구', '조기폐차상태코드', '조기폐차최종승인YN', '말소일자'],\n",
       "      dtype='object')"
      ]
     },
     "execution_count": 389,
     "metadata": {},
     "output_type": "execute_result"
    }
   ],
   "source": [
    "ildm.columns"
   ]
  },
  {
   "cell_type": "code",
   "execution_count": 390,
   "metadata": {},
   "outputs": [
    {
     "data": {
      "text/plain": [
       "((452851, 43), 452851)"
      ]
     },
     "execution_count": 390,
     "metadata": {},
     "output_type": "execute_result"
    }
   ],
   "source": [
    "ildm.shape, len(ildm['차대번호'].unique())"
   ]
  },
  {
   "cell_type": "code",
   "execution_count": 391,
   "metadata": {},
   "outputs": [
    {
     "data": {
      "text/plain": [
       "DPF_YN\n",
       "NaN    265789\n",
       "유      187062\n",
       "Name: count, dtype: int64"
      ]
     },
     "execution_count": 391,
     "metadata": {},
     "output_type": "execute_result"
    }
   ],
   "source": [
    "ildm['DPF_YN'].value_counts(dropna=False)"
   ]
  },
  {
   "cell_type": "code",
   "execution_count": 392,
   "metadata": {},
   "outputs": [
    {
     "data": {
      "text/plain": [
       "저감장치미장착\n",
       "미장착    265789\n",
       "NaN    187062\n",
       "Name: count, dtype: int64"
      ]
     },
     "execution_count": 392,
     "metadata": {},
     "output_type": "execute_result"
    }
   ],
   "source": [
    "ildm.loc[ildm['DPF_YN'].isnull(), '저감장치미장착'] = '미장착'\n",
    "ildm['저감장치미장착'].value_counts(dropna=False)"
   ]
  },
  {
   "cell_type": "code",
   "execution_count": 393,
   "metadata": {},
   "outputs": [
    {
     "data": {
      "text/plain": [
       "(52493, 7)"
      ]
     },
     "execution_count": 393,
     "metadata": {},
     "output_type": "execute_result"
    }
   ],
   "source": [
    "temp1 = ildm.loc[ildm['계절제_2차'] > 0, ['차대번호', '적발지역', '적발시도', '차종', '차종유형', '계절제_2차', '저감장치미장착']]\n",
    "temp1.shape"
   ]
  },
  {
   "cell_type": "code",
   "execution_count": 395,
   "metadata": {},
   "outputs": [
    {
     "data": {
      "text/plain": [
       "(22849, 6)"
      ]
     },
     "execution_count": 395,
     "metadata": {},
     "output_type": "execute_result"
    }
   ],
   "source": [
    "temp2 = ildm.loc[ildm['계절제_2차'] > 1, ['차대번호', '적발지역', '적발시도', '차종', '차종유형', '계절제_2차']]\n",
    "temp2.shape"
   ]
  },
  {
   "cell_type": "code",
   "execution_count": 396,
   "metadata": {},
   "outputs": [
    {
     "data": {
      "text/html": [
       "<div>\n",
       "<style scoped>\n",
       "    .dataframe tbody tr th:only-of-type {\n",
       "        vertical-align: middle;\n",
       "    }\n",
       "\n",
       "    .dataframe tbody tr th {\n",
       "        vertical-align: top;\n",
       "    }\n",
       "\n",
       "    .dataframe thead th {\n",
       "        text-align: right;\n",
       "    }\n",
       "</style>\n",
       "<table border=\"1\" class=\"dataframe\">\n",
       "  <thead>\n",
       "    <tr style=\"text-align: right;\">\n",
       "      <th></th>\n",
       "      <th>적발지역</th>\n",
       "      <th>적발시도</th>\n",
       "      <th>차종</th>\n",
       "      <th>차종유형</th>\n",
       "      <th>적발차량대수</th>\n",
       "      <th>저공해미조치</th>\n",
       "    </tr>\n",
       "  </thead>\n",
       "  <tbody>\n",
       "    <tr>\n",
       "      <th>0</th>\n",
       "      <td>수도권</td>\n",
       "      <td>경기도</td>\n",
       "      <td>승용</td>\n",
       "      <td>대형</td>\n",
       "      <td>2466</td>\n",
       "      <td>1027</td>\n",
       "    </tr>\n",
       "    <tr>\n",
       "      <th>1</th>\n",
       "      <td>수도권</td>\n",
       "      <td>경기도</td>\n",
       "      <td>승용</td>\n",
       "      <td>소형</td>\n",
       "      <td>8</td>\n",
       "      <td>8</td>\n",
       "    </tr>\n",
       "    <tr>\n",
       "      <th>2</th>\n",
       "      <td>수도권</td>\n",
       "      <td>경기도</td>\n",
       "      <td>승용</td>\n",
       "      <td>중형</td>\n",
       "      <td>1593</td>\n",
       "      <td>736</td>\n",
       "    </tr>\n",
       "    <tr>\n",
       "      <th>3</th>\n",
       "      <td>수도권</td>\n",
       "      <td>경기도</td>\n",
       "      <td>승합</td>\n",
       "      <td>대형</td>\n",
       "      <td>23</td>\n",
       "      <td>10</td>\n",
       "    </tr>\n",
       "    <tr>\n",
       "      <th>4</th>\n",
       "      <td>수도권</td>\n",
       "      <td>경기도</td>\n",
       "      <td>승합</td>\n",
       "      <td>소형</td>\n",
       "      <td>3</td>\n",
       "      <td>3</td>\n",
       "    </tr>\n",
       "    <tr>\n",
       "      <th>5</th>\n",
       "      <td>수도권</td>\n",
       "      <td>경기도</td>\n",
       "      <td>승합</td>\n",
       "      <td>중형</td>\n",
       "      <td>654</td>\n",
       "      <td>242</td>\n",
       "    </tr>\n",
       "    <tr>\n",
       "      <th>6</th>\n",
       "      <td>수도권</td>\n",
       "      <td>경기도</td>\n",
       "      <td>특수</td>\n",
       "      <td>대형</td>\n",
       "      <td>84</td>\n",
       "      <td>57</td>\n",
       "    </tr>\n",
       "    <tr>\n",
       "      <th>7</th>\n",
       "      <td>수도권</td>\n",
       "      <td>경기도</td>\n",
       "      <td>특수</td>\n",
       "      <td>소형</td>\n",
       "      <td>14</td>\n",
       "      <td>6</td>\n",
       "    </tr>\n",
       "    <tr>\n",
       "      <th>8</th>\n",
       "      <td>수도권</td>\n",
       "      <td>경기도</td>\n",
       "      <td>특수</td>\n",
       "      <td>중형</td>\n",
       "      <td>40</td>\n",
       "      <td>28</td>\n",
       "    </tr>\n",
       "    <tr>\n",
       "      <th>9</th>\n",
       "      <td>수도권</td>\n",
       "      <td>경기도</td>\n",
       "      <td>화물</td>\n",
       "      <td>대형</td>\n",
       "      <td>1595</td>\n",
       "      <td>534</td>\n",
       "    </tr>\n",
       "    <tr>\n",
       "      <th>10</th>\n",
       "      <td>수도권</td>\n",
       "      <td>경기도</td>\n",
       "      <td>화물</td>\n",
       "      <td>소형</td>\n",
       "      <td>2513</td>\n",
       "      <td>1100</td>\n",
       "    </tr>\n",
       "    <tr>\n",
       "      <th>11</th>\n",
       "      <td>수도권</td>\n",
       "      <td>경기도</td>\n",
       "      <td>화물</td>\n",
       "      <td>중형</td>\n",
       "      <td>2060</td>\n",
       "      <td>917</td>\n",
       "    </tr>\n",
       "    <tr>\n",
       "      <th>12</th>\n",
       "      <td>수도권</td>\n",
       "      <td>서울특별시</td>\n",
       "      <td>승용</td>\n",
       "      <td>대형</td>\n",
       "      <td>1855</td>\n",
       "      <td>744</td>\n",
       "    </tr>\n",
       "    <tr>\n",
       "      <th>13</th>\n",
       "      <td>수도권</td>\n",
       "      <td>서울특별시</td>\n",
       "      <td>승용</td>\n",
       "      <td>소형</td>\n",
       "      <td>38</td>\n",
       "      <td>38</td>\n",
       "    </tr>\n",
       "    <tr>\n",
       "      <th>14</th>\n",
       "      <td>수도권</td>\n",
       "      <td>서울특별시</td>\n",
       "      <td>승용</td>\n",
       "      <td>중형</td>\n",
       "      <td>1231</td>\n",
       "      <td>492</td>\n",
       "    </tr>\n",
       "    <tr>\n",
       "      <th>15</th>\n",
       "      <td>수도권</td>\n",
       "      <td>서울특별시</td>\n",
       "      <td>승합</td>\n",
       "      <td>대형</td>\n",
       "      <td>12</td>\n",
       "      <td>4</td>\n",
       "    </tr>\n",
       "    <tr>\n",
       "      <th>16</th>\n",
       "      <td>수도권</td>\n",
       "      <td>서울특별시</td>\n",
       "      <td>승합</td>\n",
       "      <td>소형</td>\n",
       "      <td>8</td>\n",
       "      <td>8</td>\n",
       "    </tr>\n",
       "    <tr>\n",
       "      <th>17</th>\n",
       "      <td>수도권</td>\n",
       "      <td>서울특별시</td>\n",
       "      <td>승합</td>\n",
       "      <td>중형</td>\n",
       "      <td>408</td>\n",
       "      <td>158</td>\n",
       "    </tr>\n",
       "    <tr>\n",
       "      <th>18</th>\n",
       "      <td>수도권</td>\n",
       "      <td>서울특별시</td>\n",
       "      <td>특수</td>\n",
       "      <td>대형</td>\n",
       "      <td>21</td>\n",
       "      <td>16</td>\n",
       "    </tr>\n",
       "    <tr>\n",
       "      <th>19</th>\n",
       "      <td>수도권</td>\n",
       "      <td>서울특별시</td>\n",
       "      <td>특수</td>\n",
       "      <td>소형</td>\n",
       "      <td>7</td>\n",
       "      <td>3</td>\n",
       "    </tr>\n",
       "    <tr>\n",
       "      <th>20</th>\n",
       "      <td>수도권</td>\n",
       "      <td>서울특별시</td>\n",
       "      <td>특수</td>\n",
       "      <td>중형</td>\n",
       "      <td>34</td>\n",
       "      <td>27</td>\n",
       "    </tr>\n",
       "    <tr>\n",
       "      <th>21</th>\n",
       "      <td>수도권</td>\n",
       "      <td>서울특별시</td>\n",
       "      <td>화물</td>\n",
       "      <td>대형</td>\n",
       "      <td>440</td>\n",
       "      <td>121</td>\n",
       "    </tr>\n",
       "    <tr>\n",
       "      <th>22</th>\n",
       "      <td>수도권</td>\n",
       "      <td>서울특별시</td>\n",
       "      <td>화물</td>\n",
       "      <td>소형</td>\n",
       "      <td>1253</td>\n",
       "      <td>624</td>\n",
       "    </tr>\n",
       "    <tr>\n",
       "      <th>23</th>\n",
       "      <td>수도권</td>\n",
       "      <td>서울특별시</td>\n",
       "      <td>화물</td>\n",
       "      <td>중형</td>\n",
       "      <td>809</td>\n",
       "      <td>292</td>\n",
       "    </tr>\n",
       "    <tr>\n",
       "      <th>24</th>\n",
       "      <td>수도권</td>\n",
       "      <td>인천광역시</td>\n",
       "      <td>승용</td>\n",
       "      <td>대형</td>\n",
       "      <td>689</td>\n",
       "      <td>314</td>\n",
       "    </tr>\n",
       "    <tr>\n",
       "      <th>25</th>\n",
       "      <td>수도권</td>\n",
       "      <td>인천광역시</td>\n",
       "      <td>승용</td>\n",
       "      <td>소형</td>\n",
       "      <td>2</td>\n",
       "      <td>2</td>\n",
       "    </tr>\n",
       "    <tr>\n",
       "      <th>26</th>\n",
       "      <td>수도권</td>\n",
       "      <td>인천광역시</td>\n",
       "      <td>승용</td>\n",
       "      <td>중형</td>\n",
       "      <td>453</td>\n",
       "      <td>224</td>\n",
       "    </tr>\n",
       "    <tr>\n",
       "      <th>27</th>\n",
       "      <td>수도권</td>\n",
       "      <td>인천광역시</td>\n",
       "      <td>승합</td>\n",
       "      <td>대형</td>\n",
       "      <td>8</td>\n",
       "      <td>7</td>\n",
       "    </tr>\n",
       "    <tr>\n",
       "      <th>28</th>\n",
       "      <td>수도권</td>\n",
       "      <td>인천광역시</td>\n",
       "      <td>승합</td>\n",
       "      <td>중형</td>\n",
       "      <td>150</td>\n",
       "      <td>63</td>\n",
       "    </tr>\n",
       "    <tr>\n",
       "      <th>29</th>\n",
       "      <td>수도권</td>\n",
       "      <td>인천광역시</td>\n",
       "      <td>특수</td>\n",
       "      <td>대형</td>\n",
       "      <td>78</td>\n",
       "      <td>59</td>\n",
       "    </tr>\n",
       "    <tr>\n",
       "      <th>30</th>\n",
       "      <td>수도권</td>\n",
       "      <td>인천광역시</td>\n",
       "      <td>특수</td>\n",
       "      <td>소형</td>\n",
       "      <td>1</td>\n",
       "      <td>1</td>\n",
       "    </tr>\n",
       "    <tr>\n",
       "      <th>31</th>\n",
       "      <td>수도권</td>\n",
       "      <td>인천광역시</td>\n",
       "      <td>특수</td>\n",
       "      <td>중형</td>\n",
       "      <td>14</td>\n",
       "      <td>10</td>\n",
       "    </tr>\n",
       "    <tr>\n",
       "      <th>32</th>\n",
       "      <td>수도권</td>\n",
       "      <td>인천광역시</td>\n",
       "      <td>화물</td>\n",
       "      <td>대형</td>\n",
       "      <td>494</td>\n",
       "      <td>165</td>\n",
       "    </tr>\n",
       "    <tr>\n",
       "      <th>33</th>\n",
       "      <td>수도권</td>\n",
       "      <td>인천광역시</td>\n",
       "      <td>화물</td>\n",
       "      <td>소형</td>\n",
       "      <td>595</td>\n",
       "      <td>265</td>\n",
       "    </tr>\n",
       "    <tr>\n",
       "      <th>34</th>\n",
       "      <td>수도권</td>\n",
       "      <td>인천광역시</td>\n",
       "      <td>화물</td>\n",
       "      <td>중형</td>\n",
       "      <td>466</td>\n",
       "      <td>231</td>\n",
       "    </tr>\n",
       "    <tr>\n",
       "      <th>35</th>\n",
       "      <td>수도권외</td>\n",
       "      <td>대구광역시</td>\n",
       "      <td>승용</td>\n",
       "      <td>대형</td>\n",
       "      <td>233</td>\n",
       "      <td>114</td>\n",
       "    </tr>\n",
       "    <tr>\n",
       "      <th>36</th>\n",
       "      <td>수도권외</td>\n",
       "      <td>대구광역시</td>\n",
       "      <td>승용</td>\n",
       "      <td>소형</td>\n",
       "      <td>1</td>\n",
       "      <td>1</td>\n",
       "    </tr>\n",
       "    <tr>\n",
       "      <th>37</th>\n",
       "      <td>수도권외</td>\n",
       "      <td>대구광역시</td>\n",
       "      <td>승용</td>\n",
       "      <td>중형</td>\n",
       "      <td>159</td>\n",
       "      <td>103</td>\n",
       "    </tr>\n",
       "    <tr>\n",
       "      <th>38</th>\n",
       "      <td>수도권외</td>\n",
       "      <td>대구광역시</td>\n",
       "      <td>승합</td>\n",
       "      <td>대형</td>\n",
       "      <td>1</td>\n",
       "      <td>0</td>\n",
       "    </tr>\n",
       "    <tr>\n",
       "      <th>39</th>\n",
       "      <td>수도권외</td>\n",
       "      <td>대구광역시</td>\n",
       "      <td>승합</td>\n",
       "      <td>중형</td>\n",
       "      <td>26</td>\n",
       "      <td>12</td>\n",
       "    </tr>\n",
       "    <tr>\n",
       "      <th>40</th>\n",
       "      <td>수도권외</td>\n",
       "      <td>대구광역시</td>\n",
       "      <td>특수</td>\n",
       "      <td>대형</td>\n",
       "      <td>3</td>\n",
       "      <td>2</td>\n",
       "    </tr>\n",
       "    <tr>\n",
       "      <th>41</th>\n",
       "      <td>수도권외</td>\n",
       "      <td>대구광역시</td>\n",
       "      <td>특수</td>\n",
       "      <td>중형</td>\n",
       "      <td>4</td>\n",
       "      <td>3</td>\n",
       "    </tr>\n",
       "    <tr>\n",
       "      <th>42</th>\n",
       "      <td>수도권외</td>\n",
       "      <td>대구광역시</td>\n",
       "      <td>화물</td>\n",
       "      <td>대형</td>\n",
       "      <td>77</td>\n",
       "      <td>25</td>\n",
       "    </tr>\n",
       "    <tr>\n",
       "      <th>43</th>\n",
       "      <td>수도권외</td>\n",
       "      <td>대구광역시</td>\n",
       "      <td>화물</td>\n",
       "      <td>소형</td>\n",
       "      <td>115</td>\n",
       "      <td>61</td>\n",
       "    </tr>\n",
       "    <tr>\n",
       "      <th>44</th>\n",
       "      <td>수도권외</td>\n",
       "      <td>대구광역시</td>\n",
       "      <td>화물</td>\n",
       "      <td>중형</td>\n",
       "      <td>103</td>\n",
       "      <td>44</td>\n",
       "    </tr>\n",
       "    <tr>\n",
       "      <th>45</th>\n",
       "      <td>수도권외</td>\n",
       "      <td>부산광역시</td>\n",
       "      <td>승용</td>\n",
       "      <td>대형</td>\n",
       "      <td>150</td>\n",
       "      <td>64</td>\n",
       "    </tr>\n",
       "    <tr>\n",
       "      <th>46</th>\n",
       "      <td>수도권외</td>\n",
       "      <td>부산광역시</td>\n",
       "      <td>승용</td>\n",
       "      <td>소형</td>\n",
       "      <td>1</td>\n",
       "      <td>1</td>\n",
       "    </tr>\n",
       "    <tr>\n",
       "      <th>47</th>\n",
       "      <td>수도권외</td>\n",
       "      <td>부산광역시</td>\n",
       "      <td>승용</td>\n",
       "      <td>중형</td>\n",
       "      <td>114</td>\n",
       "      <td>53</td>\n",
       "    </tr>\n",
       "    <tr>\n",
       "      <th>48</th>\n",
       "      <td>수도권외</td>\n",
       "      <td>부산광역시</td>\n",
       "      <td>승합</td>\n",
       "      <td>대형</td>\n",
       "      <td>1</td>\n",
       "      <td>1</td>\n",
       "    </tr>\n",
       "    <tr>\n",
       "      <th>49</th>\n",
       "      <td>수도권외</td>\n",
       "      <td>부산광역시</td>\n",
       "      <td>승합</td>\n",
       "      <td>중형</td>\n",
       "      <td>23</td>\n",
       "      <td>5</td>\n",
       "    </tr>\n",
       "    <tr>\n",
       "      <th>50</th>\n",
       "      <td>수도권외</td>\n",
       "      <td>부산광역시</td>\n",
       "      <td>특수</td>\n",
       "      <td>대형</td>\n",
       "      <td>25</td>\n",
       "      <td>22</td>\n",
       "    </tr>\n",
       "    <tr>\n",
       "      <th>51</th>\n",
       "      <td>수도권외</td>\n",
       "      <td>부산광역시</td>\n",
       "      <td>특수</td>\n",
       "      <td>중형</td>\n",
       "      <td>3</td>\n",
       "      <td>3</td>\n",
       "    </tr>\n",
       "    <tr>\n",
       "      <th>52</th>\n",
       "      <td>수도권외</td>\n",
       "      <td>부산광역시</td>\n",
       "      <td>화물</td>\n",
       "      <td>대형</td>\n",
       "      <td>129</td>\n",
       "      <td>47</td>\n",
       "    </tr>\n",
       "    <tr>\n",
       "      <th>53</th>\n",
       "      <td>수도권외</td>\n",
       "      <td>부산광역시</td>\n",
       "      <td>화물</td>\n",
       "      <td>소형</td>\n",
       "      <td>93</td>\n",
       "      <td>49</td>\n",
       "    </tr>\n",
       "    <tr>\n",
       "      <th>54</th>\n",
       "      <td>수도권외</td>\n",
       "      <td>부산광역시</td>\n",
       "      <td>화물</td>\n",
       "      <td>중형</td>\n",
       "      <td>103</td>\n",
       "      <td>38</td>\n",
       "    </tr>\n",
       "  </tbody>\n",
       "</table>\n",
       "</div>"
      ],
      "text/plain": [
       "    적발지역   적발시도  차종 차종유형  적발차량대수  저공해미조치\n",
       "0    수도권    경기도  승용   대형    2466    1027\n",
       "1    수도권    경기도  승용   소형       8       8\n",
       "2    수도권    경기도  승용   중형    1593     736\n",
       "3    수도권    경기도  승합   대형      23      10\n",
       "4    수도권    경기도  승합   소형       3       3\n",
       "5    수도권    경기도  승합   중형     654     242\n",
       "6    수도권    경기도  특수   대형      84      57\n",
       "7    수도권    경기도  특수   소형      14       6\n",
       "8    수도권    경기도  특수   중형      40      28\n",
       "9    수도권    경기도  화물   대형    1595     534\n",
       "10   수도권    경기도  화물   소형    2513    1100\n",
       "11   수도권    경기도  화물   중형    2060     917\n",
       "12   수도권  서울특별시  승용   대형    1855     744\n",
       "13   수도권  서울특별시  승용   소형      38      38\n",
       "14   수도권  서울특별시  승용   중형    1231     492\n",
       "15   수도권  서울특별시  승합   대형      12       4\n",
       "16   수도권  서울특별시  승합   소형       8       8\n",
       "17   수도권  서울특별시  승합   중형     408     158\n",
       "18   수도권  서울특별시  특수   대형      21      16\n",
       "19   수도권  서울특별시  특수   소형       7       3\n",
       "20   수도권  서울특별시  특수   중형      34      27\n",
       "21   수도권  서울특별시  화물   대형     440     121\n",
       "22   수도권  서울특별시  화물   소형    1253     624\n",
       "23   수도권  서울특별시  화물   중형     809     292\n",
       "24   수도권  인천광역시  승용   대형     689     314\n",
       "25   수도권  인천광역시  승용   소형       2       2\n",
       "26   수도권  인천광역시  승용   중형     453     224\n",
       "27   수도권  인천광역시  승합   대형       8       7\n",
       "28   수도권  인천광역시  승합   중형     150      63\n",
       "29   수도권  인천광역시  특수   대형      78      59\n",
       "30   수도권  인천광역시  특수   소형       1       1\n",
       "31   수도권  인천광역시  특수   중형      14      10\n",
       "32   수도권  인천광역시  화물   대형     494     165\n",
       "33   수도권  인천광역시  화물   소형     595     265\n",
       "34   수도권  인천광역시  화물   중형     466     231\n",
       "35  수도권외  대구광역시  승용   대형     233     114\n",
       "36  수도권외  대구광역시  승용   소형       1       1\n",
       "37  수도권외  대구광역시  승용   중형     159     103\n",
       "38  수도권외  대구광역시  승합   대형       1       0\n",
       "39  수도권외  대구광역시  승합   중형      26      12\n",
       "40  수도권외  대구광역시  특수   대형       3       2\n",
       "41  수도권외  대구광역시  특수   중형       4       3\n",
       "42  수도권외  대구광역시  화물   대형      77      25\n",
       "43  수도권외  대구광역시  화물   소형     115      61\n",
       "44  수도권외  대구광역시  화물   중형     103      44\n",
       "45  수도권외  부산광역시  승용   대형     150      64\n",
       "46  수도권외  부산광역시  승용   소형       1       1\n",
       "47  수도권외  부산광역시  승용   중형     114      53\n",
       "48  수도권외  부산광역시  승합   대형       1       1\n",
       "49  수도권외  부산광역시  승합   중형      23       5\n",
       "50  수도권외  부산광역시  특수   대형      25      22\n",
       "51  수도권외  부산광역시  특수   중형       3       3\n",
       "52  수도권외  부산광역시  화물   대형     129      47\n",
       "53  수도권외  부산광역시  화물   소형      93      49\n",
       "54  수도권외  부산광역시  화물   중형     103      38"
      ]
     },
     "execution_count": 396,
     "metadata": {},
     "output_type": "execute_result"
    }
   ],
   "source": [
    "grp1 = temp1.groupby(['적발지역', '적발시도', '차종', '차종유형']).agg({'차대번호':'count', '저감장치미장착':'count'}).reset_index()\n",
    "grp1 = grp1.rename(columns={'차대번호':'적발차량대수', '저감장치미장착':'저공해미조치'})\n",
    "grp1"
   ]
  },
  {
   "cell_type": "code",
   "execution_count": 397,
   "metadata": {},
   "outputs": [
    {
     "data": {
      "text/html": [
       "<div>\n",
       "<style scoped>\n",
       "    .dataframe tbody tr th:only-of-type {\n",
       "        vertical-align: middle;\n",
       "    }\n",
       "\n",
       "    .dataframe tbody tr th {\n",
       "        vertical-align: top;\n",
       "    }\n",
       "\n",
       "    .dataframe thead th {\n",
       "        text-align: right;\n",
       "    }\n",
       "</style>\n",
       "<table border=\"1\" class=\"dataframe\">\n",
       "  <thead>\n",
       "    <tr style=\"text-align: right;\">\n",
       "      <th></th>\n",
       "      <th>적발지역</th>\n",
       "      <th>적발시도</th>\n",
       "      <th>차종</th>\n",
       "      <th>차종유형</th>\n",
       "      <th>중복적발대수</th>\n",
       "    </tr>\n",
       "  </thead>\n",
       "  <tbody>\n",
       "    <tr>\n",
       "      <th>0</th>\n",
       "      <td>수도권</td>\n",
       "      <td>경기도</td>\n",
       "      <td>승용</td>\n",
       "      <td>대형</td>\n",
       "      <td>1007</td>\n",
       "    </tr>\n",
       "    <tr>\n",
       "      <th>1</th>\n",
       "      <td>수도권</td>\n",
       "      <td>경기도</td>\n",
       "      <td>승용</td>\n",
       "      <td>소형</td>\n",
       "      <td>3</td>\n",
       "    </tr>\n",
       "    <tr>\n",
       "      <th>2</th>\n",
       "      <td>수도권</td>\n",
       "      <td>경기도</td>\n",
       "      <td>승용</td>\n",
       "      <td>중형</td>\n",
       "      <td>600</td>\n",
       "    </tr>\n",
       "    <tr>\n",
       "      <th>3</th>\n",
       "      <td>수도권</td>\n",
       "      <td>경기도</td>\n",
       "      <td>승합</td>\n",
       "      <td>대형</td>\n",
       "      <td>9</td>\n",
       "    </tr>\n",
       "    <tr>\n",
       "      <th>4</th>\n",
       "      <td>수도권</td>\n",
       "      <td>경기도</td>\n",
       "      <td>승합</td>\n",
       "      <td>소형</td>\n",
       "      <td>1</td>\n",
       "    </tr>\n",
       "    <tr>\n",
       "      <th>5</th>\n",
       "      <td>수도권</td>\n",
       "      <td>경기도</td>\n",
       "      <td>승합</td>\n",
       "      <td>중형</td>\n",
       "      <td>318</td>\n",
       "    </tr>\n",
       "    <tr>\n",
       "      <th>6</th>\n",
       "      <td>수도권</td>\n",
       "      <td>경기도</td>\n",
       "      <td>특수</td>\n",
       "      <td>대형</td>\n",
       "      <td>36</td>\n",
       "    </tr>\n",
       "    <tr>\n",
       "      <th>7</th>\n",
       "      <td>수도권</td>\n",
       "      <td>경기도</td>\n",
       "      <td>특수</td>\n",
       "      <td>소형</td>\n",
       "      <td>5</td>\n",
       "    </tr>\n",
       "    <tr>\n",
       "      <th>8</th>\n",
       "      <td>수도권</td>\n",
       "      <td>경기도</td>\n",
       "      <td>특수</td>\n",
       "      <td>중형</td>\n",
       "      <td>17</td>\n",
       "    </tr>\n",
       "    <tr>\n",
       "      <th>9</th>\n",
       "      <td>수도권</td>\n",
       "      <td>경기도</td>\n",
       "      <td>화물</td>\n",
       "      <td>대형</td>\n",
       "      <td>852</td>\n",
       "    </tr>\n",
       "    <tr>\n",
       "      <th>10</th>\n",
       "      <td>수도권</td>\n",
       "      <td>경기도</td>\n",
       "      <td>화물</td>\n",
       "      <td>소형</td>\n",
       "      <td>1083</td>\n",
       "    </tr>\n",
       "    <tr>\n",
       "      <th>11</th>\n",
       "      <td>수도권</td>\n",
       "      <td>경기도</td>\n",
       "      <td>화물</td>\n",
       "      <td>중형</td>\n",
       "      <td>895</td>\n",
       "    </tr>\n",
       "    <tr>\n",
       "      <th>12</th>\n",
       "      <td>수도권</td>\n",
       "      <td>서울특별시</td>\n",
       "      <td>승용</td>\n",
       "      <td>대형</td>\n",
       "      <td>891</td>\n",
       "    </tr>\n",
       "    <tr>\n",
       "      <th>13</th>\n",
       "      <td>수도권</td>\n",
       "      <td>서울특별시</td>\n",
       "      <td>승용</td>\n",
       "      <td>소형</td>\n",
       "      <td>15</td>\n",
       "    </tr>\n",
       "    <tr>\n",
       "      <th>14</th>\n",
       "      <td>수도권</td>\n",
       "      <td>서울특별시</td>\n",
       "      <td>승용</td>\n",
       "      <td>중형</td>\n",
       "      <td>553</td>\n",
       "    </tr>\n",
       "    <tr>\n",
       "      <th>15</th>\n",
       "      <td>수도권</td>\n",
       "      <td>서울특별시</td>\n",
       "      <td>승합</td>\n",
       "      <td>대형</td>\n",
       "      <td>5</td>\n",
       "    </tr>\n",
       "    <tr>\n",
       "      <th>16</th>\n",
       "      <td>수도권</td>\n",
       "      <td>서울특별시</td>\n",
       "      <td>승합</td>\n",
       "      <td>소형</td>\n",
       "      <td>2</td>\n",
       "    </tr>\n",
       "    <tr>\n",
       "      <th>17</th>\n",
       "      <td>수도권</td>\n",
       "      <td>서울특별시</td>\n",
       "      <td>승합</td>\n",
       "      <td>중형</td>\n",
       "      <td>217</td>\n",
       "    </tr>\n",
       "    <tr>\n",
       "      <th>18</th>\n",
       "      <td>수도권</td>\n",
       "      <td>서울특별시</td>\n",
       "      <td>특수</td>\n",
       "      <td>대형</td>\n",
       "      <td>15</td>\n",
       "    </tr>\n",
       "    <tr>\n",
       "      <th>19</th>\n",
       "      <td>수도권</td>\n",
       "      <td>서울특별시</td>\n",
       "      <td>특수</td>\n",
       "      <td>소형</td>\n",
       "      <td>6</td>\n",
       "    </tr>\n",
       "    <tr>\n",
       "      <th>20</th>\n",
       "      <td>수도권</td>\n",
       "      <td>서울특별시</td>\n",
       "      <td>특수</td>\n",
       "      <td>중형</td>\n",
       "      <td>21</td>\n",
       "    </tr>\n",
       "    <tr>\n",
       "      <th>21</th>\n",
       "      <td>수도권</td>\n",
       "      <td>서울특별시</td>\n",
       "      <td>화물</td>\n",
       "      <td>대형</td>\n",
       "      <td>275</td>\n",
       "    </tr>\n",
       "    <tr>\n",
       "      <th>22</th>\n",
       "      <td>수도권</td>\n",
       "      <td>서울특별시</td>\n",
       "      <td>화물</td>\n",
       "      <td>소형</td>\n",
       "      <td>647</td>\n",
       "    </tr>\n",
       "    <tr>\n",
       "      <th>23</th>\n",
       "      <td>수도권</td>\n",
       "      <td>서울특별시</td>\n",
       "      <td>화물</td>\n",
       "      <td>중형</td>\n",
       "      <td>428</td>\n",
       "    </tr>\n",
       "    <tr>\n",
       "      <th>24</th>\n",
       "      <td>수도권</td>\n",
       "      <td>인천광역시</td>\n",
       "      <td>승용</td>\n",
       "      <td>대형</td>\n",
       "      <td>276</td>\n",
       "    </tr>\n",
       "    <tr>\n",
       "      <th>25</th>\n",
       "      <td>수도권</td>\n",
       "      <td>인천광역시</td>\n",
       "      <td>승용</td>\n",
       "      <td>중형</td>\n",
       "      <td>156</td>\n",
       "    </tr>\n",
       "    <tr>\n",
       "      <th>26</th>\n",
       "      <td>수도권</td>\n",
       "      <td>인천광역시</td>\n",
       "      <td>승합</td>\n",
       "      <td>대형</td>\n",
       "      <td>6</td>\n",
       "    </tr>\n",
       "    <tr>\n",
       "      <th>27</th>\n",
       "      <td>수도권</td>\n",
       "      <td>인천광역시</td>\n",
       "      <td>승합</td>\n",
       "      <td>중형</td>\n",
       "      <td>84</td>\n",
       "    </tr>\n",
       "    <tr>\n",
       "      <th>28</th>\n",
       "      <td>수도권</td>\n",
       "      <td>인천광역시</td>\n",
       "      <td>특수</td>\n",
       "      <td>대형</td>\n",
       "      <td>28</td>\n",
       "    </tr>\n",
       "    <tr>\n",
       "      <th>29</th>\n",
       "      <td>수도권</td>\n",
       "      <td>인천광역시</td>\n",
       "      <td>특수</td>\n",
       "      <td>소형</td>\n",
       "      <td>1</td>\n",
       "    </tr>\n",
       "    <tr>\n",
       "      <th>30</th>\n",
       "      <td>수도권</td>\n",
       "      <td>인천광역시</td>\n",
       "      <td>특수</td>\n",
       "      <td>중형</td>\n",
       "      <td>5</td>\n",
       "    </tr>\n",
       "    <tr>\n",
       "      <th>31</th>\n",
       "      <td>수도권</td>\n",
       "      <td>인천광역시</td>\n",
       "      <td>화물</td>\n",
       "      <td>대형</td>\n",
       "      <td>287</td>\n",
       "    </tr>\n",
       "    <tr>\n",
       "      <th>32</th>\n",
       "      <td>수도권</td>\n",
       "      <td>인천광역시</td>\n",
       "      <td>화물</td>\n",
       "      <td>소형</td>\n",
       "      <td>286</td>\n",
       "    </tr>\n",
       "    <tr>\n",
       "      <th>33</th>\n",
       "      <td>수도권</td>\n",
       "      <td>인천광역시</td>\n",
       "      <td>화물</td>\n",
       "      <td>중형</td>\n",
       "      <td>203</td>\n",
       "    </tr>\n",
       "    <tr>\n",
       "      <th>34</th>\n",
       "      <td>수도권외</td>\n",
       "      <td>대구광역시</td>\n",
       "      <td>승용</td>\n",
       "      <td>대형</td>\n",
       "      <td>58</td>\n",
       "    </tr>\n",
       "    <tr>\n",
       "      <th>35</th>\n",
       "      <td>수도권외</td>\n",
       "      <td>대구광역시</td>\n",
       "      <td>승용</td>\n",
       "      <td>중형</td>\n",
       "      <td>36</td>\n",
       "    </tr>\n",
       "    <tr>\n",
       "      <th>36</th>\n",
       "      <td>수도권외</td>\n",
       "      <td>대구광역시</td>\n",
       "      <td>승합</td>\n",
       "      <td>중형</td>\n",
       "      <td>7</td>\n",
       "    </tr>\n",
       "    <tr>\n",
       "      <th>37</th>\n",
       "      <td>수도권외</td>\n",
       "      <td>대구광역시</td>\n",
       "      <td>특수</td>\n",
       "      <td>대형</td>\n",
       "      <td>1</td>\n",
       "    </tr>\n",
       "    <tr>\n",
       "      <th>38</th>\n",
       "      <td>수도권외</td>\n",
       "      <td>대구광역시</td>\n",
       "      <td>화물</td>\n",
       "      <td>대형</td>\n",
       "      <td>34</td>\n",
       "    </tr>\n",
       "    <tr>\n",
       "      <th>39</th>\n",
       "      <td>수도권외</td>\n",
       "      <td>대구광역시</td>\n",
       "      <td>화물</td>\n",
       "      <td>소형</td>\n",
       "      <td>35</td>\n",
       "    </tr>\n",
       "    <tr>\n",
       "      <th>40</th>\n",
       "      <td>수도권외</td>\n",
       "      <td>대구광역시</td>\n",
       "      <td>화물</td>\n",
       "      <td>중형</td>\n",
       "      <td>37</td>\n",
       "    </tr>\n",
       "    <tr>\n",
       "      <th>41</th>\n",
       "      <td>수도권외</td>\n",
       "      <td>부산광역시</td>\n",
       "      <td>승용</td>\n",
       "      <td>대형</td>\n",
       "      <td>34</td>\n",
       "    </tr>\n",
       "    <tr>\n",
       "      <th>42</th>\n",
       "      <td>수도권외</td>\n",
       "      <td>부산광역시</td>\n",
       "      <td>승용</td>\n",
       "      <td>소형</td>\n",
       "      <td>1</td>\n",
       "    </tr>\n",
       "    <tr>\n",
       "      <th>43</th>\n",
       "      <td>수도권외</td>\n",
       "      <td>부산광역시</td>\n",
       "      <td>승용</td>\n",
       "      <td>중형</td>\n",
       "      <td>26</td>\n",
       "    </tr>\n",
       "    <tr>\n",
       "      <th>44</th>\n",
       "      <td>수도권외</td>\n",
       "      <td>부산광역시</td>\n",
       "      <td>승합</td>\n",
       "      <td>중형</td>\n",
       "      <td>10</td>\n",
       "    </tr>\n",
       "    <tr>\n",
       "      <th>45</th>\n",
       "      <td>수도권외</td>\n",
       "      <td>부산광역시</td>\n",
       "      <td>특수</td>\n",
       "      <td>대형</td>\n",
       "      <td>4</td>\n",
       "    </tr>\n",
       "    <tr>\n",
       "      <th>46</th>\n",
       "      <td>수도권외</td>\n",
       "      <td>부산광역시</td>\n",
       "      <td>화물</td>\n",
       "      <td>대형</td>\n",
       "      <td>37</td>\n",
       "    </tr>\n",
       "    <tr>\n",
       "      <th>47</th>\n",
       "      <td>수도권외</td>\n",
       "      <td>부산광역시</td>\n",
       "      <td>화물</td>\n",
       "      <td>소형</td>\n",
       "      <td>29</td>\n",
       "    </tr>\n",
       "    <tr>\n",
       "      <th>48</th>\n",
       "      <td>수도권외</td>\n",
       "      <td>부산광역시</td>\n",
       "      <td>화물</td>\n",
       "      <td>중형</td>\n",
       "      <td>35</td>\n",
       "    </tr>\n",
       "  </tbody>\n",
       "</table>\n",
       "</div>"
      ],
      "text/plain": [
       "    적발지역   적발시도  차종 차종유형  중복적발대수\n",
       "0    수도권    경기도  승용   대형    1007\n",
       "1    수도권    경기도  승용   소형       3\n",
       "2    수도권    경기도  승용   중형     600\n",
       "3    수도권    경기도  승합   대형       9\n",
       "4    수도권    경기도  승합   소형       1\n",
       "5    수도권    경기도  승합   중형     318\n",
       "6    수도권    경기도  특수   대형      36\n",
       "7    수도권    경기도  특수   소형       5\n",
       "8    수도권    경기도  특수   중형      17\n",
       "9    수도권    경기도  화물   대형     852\n",
       "10   수도권    경기도  화물   소형    1083\n",
       "11   수도권    경기도  화물   중형     895\n",
       "12   수도권  서울특별시  승용   대형     891\n",
       "13   수도권  서울특별시  승용   소형      15\n",
       "14   수도권  서울특별시  승용   중형     553\n",
       "15   수도권  서울특별시  승합   대형       5\n",
       "16   수도권  서울특별시  승합   소형       2\n",
       "17   수도권  서울특별시  승합   중형     217\n",
       "18   수도권  서울특별시  특수   대형      15\n",
       "19   수도권  서울특별시  특수   소형       6\n",
       "20   수도권  서울특별시  특수   중형      21\n",
       "21   수도권  서울특별시  화물   대형     275\n",
       "22   수도권  서울특별시  화물   소형     647\n",
       "23   수도권  서울특별시  화물   중형     428\n",
       "24   수도권  인천광역시  승용   대형     276\n",
       "25   수도권  인천광역시  승용   중형     156\n",
       "26   수도권  인천광역시  승합   대형       6\n",
       "27   수도권  인천광역시  승합   중형      84\n",
       "28   수도권  인천광역시  특수   대형      28\n",
       "29   수도권  인천광역시  특수   소형       1\n",
       "30   수도권  인천광역시  특수   중형       5\n",
       "31   수도권  인천광역시  화물   대형     287\n",
       "32   수도권  인천광역시  화물   소형     286\n",
       "33   수도권  인천광역시  화물   중형     203\n",
       "34  수도권외  대구광역시  승용   대형      58\n",
       "35  수도권외  대구광역시  승용   중형      36\n",
       "36  수도권외  대구광역시  승합   중형       7\n",
       "37  수도권외  대구광역시  특수   대형       1\n",
       "38  수도권외  대구광역시  화물   대형      34\n",
       "39  수도권외  대구광역시  화물   소형      35\n",
       "40  수도권외  대구광역시  화물   중형      37\n",
       "41  수도권외  부산광역시  승용   대형      34\n",
       "42  수도권외  부산광역시  승용   소형       1\n",
       "43  수도권외  부산광역시  승용   중형      26\n",
       "44  수도권외  부산광역시  승합   중형      10\n",
       "45  수도권외  부산광역시  특수   대형       4\n",
       "46  수도권외  부산광역시  화물   대형      37\n",
       "47  수도권외  부산광역시  화물   소형      29\n",
       "48  수도권외  부산광역시  화물   중형      35"
      ]
     },
     "execution_count": 397,
     "metadata": {},
     "output_type": "execute_result"
    }
   ],
   "source": [
    "grp2 = temp2.groupby(['적발지역', '적발시도', '차종', '차종유형'])['차대번호'].count().reset_index()\n",
    "grp2 = grp2.rename(columns={'차대번호':'중복적발대수'})\n",
    "grp2"
   ]
  },
  {
   "cell_type": "code",
   "execution_count": 398,
   "metadata": {},
   "outputs": [
    {
     "data": {
      "text/html": [
       "<div>\n",
       "<style scoped>\n",
       "    .dataframe tbody tr th:only-of-type {\n",
       "        vertical-align: middle;\n",
       "    }\n",
       "\n",
       "    .dataframe tbody tr th {\n",
       "        vertical-align: top;\n",
       "    }\n",
       "\n",
       "    .dataframe thead th {\n",
       "        text-align: right;\n",
       "    }\n",
       "</style>\n",
       "<table border=\"1\" class=\"dataframe\">\n",
       "  <thead>\n",
       "    <tr style=\"text-align: right;\">\n",
       "      <th></th>\n",
       "      <th>적발지역</th>\n",
       "      <th>적발시도</th>\n",
       "      <th>차종</th>\n",
       "      <th>차종유형</th>\n",
       "      <th>적발차량대수</th>\n",
       "      <th>저공해미조치</th>\n",
       "      <th>중복적발대수</th>\n",
       "      <th>계절관리제</th>\n",
       "    </tr>\n",
       "  </thead>\n",
       "  <tbody>\n",
       "    <tr>\n",
       "      <th>0</th>\n",
       "      <td>수도권</td>\n",
       "      <td>경기도</td>\n",
       "      <td>승용</td>\n",
       "      <td>대형</td>\n",
       "      <td>2466</td>\n",
       "      <td>1027</td>\n",
       "      <td>1007.00</td>\n",
       "      <td>계절제_2차</td>\n",
       "    </tr>\n",
       "    <tr>\n",
       "      <th>1</th>\n",
       "      <td>수도권</td>\n",
       "      <td>경기도</td>\n",
       "      <td>승용</td>\n",
       "      <td>소형</td>\n",
       "      <td>8</td>\n",
       "      <td>8</td>\n",
       "      <td>3.00</td>\n",
       "      <td>계절제_2차</td>\n",
       "    </tr>\n",
       "    <tr>\n",
       "      <th>2</th>\n",
       "      <td>수도권</td>\n",
       "      <td>경기도</td>\n",
       "      <td>승용</td>\n",
       "      <td>중형</td>\n",
       "      <td>1593</td>\n",
       "      <td>736</td>\n",
       "      <td>600.00</td>\n",
       "      <td>계절제_2차</td>\n",
       "    </tr>\n",
       "    <tr>\n",
       "      <th>3</th>\n",
       "      <td>수도권</td>\n",
       "      <td>경기도</td>\n",
       "      <td>승합</td>\n",
       "      <td>대형</td>\n",
       "      <td>23</td>\n",
       "      <td>10</td>\n",
       "      <td>9.00</td>\n",
       "      <td>계절제_2차</td>\n",
       "    </tr>\n",
       "    <tr>\n",
       "      <th>4</th>\n",
       "      <td>수도권</td>\n",
       "      <td>경기도</td>\n",
       "      <td>승합</td>\n",
       "      <td>소형</td>\n",
       "      <td>3</td>\n",
       "      <td>3</td>\n",
       "      <td>1.00</td>\n",
       "      <td>계절제_2차</td>\n",
       "    </tr>\n",
       "    <tr>\n",
       "      <th>5</th>\n",
       "      <td>수도권</td>\n",
       "      <td>경기도</td>\n",
       "      <td>승합</td>\n",
       "      <td>중형</td>\n",
       "      <td>654</td>\n",
       "      <td>242</td>\n",
       "      <td>318.00</td>\n",
       "      <td>계절제_2차</td>\n",
       "    </tr>\n",
       "    <tr>\n",
       "      <th>6</th>\n",
       "      <td>수도권</td>\n",
       "      <td>경기도</td>\n",
       "      <td>특수</td>\n",
       "      <td>대형</td>\n",
       "      <td>84</td>\n",
       "      <td>57</td>\n",
       "      <td>36.00</td>\n",
       "      <td>계절제_2차</td>\n",
       "    </tr>\n",
       "    <tr>\n",
       "      <th>7</th>\n",
       "      <td>수도권</td>\n",
       "      <td>경기도</td>\n",
       "      <td>특수</td>\n",
       "      <td>소형</td>\n",
       "      <td>14</td>\n",
       "      <td>6</td>\n",
       "      <td>5.00</td>\n",
       "      <td>계절제_2차</td>\n",
       "    </tr>\n",
       "    <tr>\n",
       "      <th>8</th>\n",
       "      <td>수도권</td>\n",
       "      <td>경기도</td>\n",
       "      <td>특수</td>\n",
       "      <td>중형</td>\n",
       "      <td>40</td>\n",
       "      <td>28</td>\n",
       "      <td>17.00</td>\n",
       "      <td>계절제_2차</td>\n",
       "    </tr>\n",
       "    <tr>\n",
       "      <th>9</th>\n",
       "      <td>수도권</td>\n",
       "      <td>경기도</td>\n",
       "      <td>화물</td>\n",
       "      <td>대형</td>\n",
       "      <td>1595</td>\n",
       "      <td>534</td>\n",
       "      <td>852.00</td>\n",
       "      <td>계절제_2차</td>\n",
       "    </tr>\n",
       "    <tr>\n",
       "      <th>10</th>\n",
       "      <td>수도권</td>\n",
       "      <td>경기도</td>\n",
       "      <td>화물</td>\n",
       "      <td>소형</td>\n",
       "      <td>2513</td>\n",
       "      <td>1100</td>\n",
       "      <td>1083.00</td>\n",
       "      <td>계절제_2차</td>\n",
       "    </tr>\n",
       "    <tr>\n",
       "      <th>11</th>\n",
       "      <td>수도권</td>\n",
       "      <td>경기도</td>\n",
       "      <td>화물</td>\n",
       "      <td>중형</td>\n",
       "      <td>2060</td>\n",
       "      <td>917</td>\n",
       "      <td>895.00</td>\n",
       "      <td>계절제_2차</td>\n",
       "    </tr>\n",
       "    <tr>\n",
       "      <th>12</th>\n",
       "      <td>수도권</td>\n",
       "      <td>서울특별시</td>\n",
       "      <td>승용</td>\n",
       "      <td>대형</td>\n",
       "      <td>1855</td>\n",
       "      <td>744</td>\n",
       "      <td>891.00</td>\n",
       "      <td>계절제_2차</td>\n",
       "    </tr>\n",
       "    <tr>\n",
       "      <th>13</th>\n",
       "      <td>수도권</td>\n",
       "      <td>서울특별시</td>\n",
       "      <td>승용</td>\n",
       "      <td>소형</td>\n",
       "      <td>38</td>\n",
       "      <td>38</td>\n",
       "      <td>15.00</td>\n",
       "      <td>계절제_2차</td>\n",
       "    </tr>\n",
       "    <tr>\n",
       "      <th>14</th>\n",
       "      <td>수도권</td>\n",
       "      <td>서울특별시</td>\n",
       "      <td>승용</td>\n",
       "      <td>중형</td>\n",
       "      <td>1231</td>\n",
       "      <td>492</td>\n",
       "      <td>553.00</td>\n",
       "      <td>계절제_2차</td>\n",
       "    </tr>\n",
       "    <tr>\n",
       "      <th>15</th>\n",
       "      <td>수도권</td>\n",
       "      <td>서울특별시</td>\n",
       "      <td>승합</td>\n",
       "      <td>대형</td>\n",
       "      <td>12</td>\n",
       "      <td>4</td>\n",
       "      <td>5.00</td>\n",
       "      <td>계절제_2차</td>\n",
       "    </tr>\n",
       "    <tr>\n",
       "      <th>16</th>\n",
       "      <td>수도권</td>\n",
       "      <td>서울특별시</td>\n",
       "      <td>승합</td>\n",
       "      <td>소형</td>\n",
       "      <td>8</td>\n",
       "      <td>8</td>\n",
       "      <td>2.00</td>\n",
       "      <td>계절제_2차</td>\n",
       "    </tr>\n",
       "    <tr>\n",
       "      <th>17</th>\n",
       "      <td>수도권</td>\n",
       "      <td>서울특별시</td>\n",
       "      <td>승합</td>\n",
       "      <td>중형</td>\n",
       "      <td>408</td>\n",
       "      <td>158</td>\n",
       "      <td>217.00</td>\n",
       "      <td>계절제_2차</td>\n",
       "    </tr>\n",
       "    <tr>\n",
       "      <th>18</th>\n",
       "      <td>수도권</td>\n",
       "      <td>서울특별시</td>\n",
       "      <td>특수</td>\n",
       "      <td>대형</td>\n",
       "      <td>21</td>\n",
       "      <td>16</td>\n",
       "      <td>15.00</td>\n",
       "      <td>계절제_2차</td>\n",
       "    </tr>\n",
       "    <tr>\n",
       "      <th>19</th>\n",
       "      <td>수도권</td>\n",
       "      <td>서울특별시</td>\n",
       "      <td>특수</td>\n",
       "      <td>소형</td>\n",
       "      <td>7</td>\n",
       "      <td>3</td>\n",
       "      <td>6.00</td>\n",
       "      <td>계절제_2차</td>\n",
       "    </tr>\n",
       "    <tr>\n",
       "      <th>20</th>\n",
       "      <td>수도권</td>\n",
       "      <td>서울특별시</td>\n",
       "      <td>특수</td>\n",
       "      <td>중형</td>\n",
       "      <td>34</td>\n",
       "      <td>27</td>\n",
       "      <td>21.00</td>\n",
       "      <td>계절제_2차</td>\n",
       "    </tr>\n",
       "    <tr>\n",
       "      <th>21</th>\n",
       "      <td>수도권</td>\n",
       "      <td>서울특별시</td>\n",
       "      <td>화물</td>\n",
       "      <td>대형</td>\n",
       "      <td>440</td>\n",
       "      <td>121</td>\n",
       "      <td>275.00</td>\n",
       "      <td>계절제_2차</td>\n",
       "    </tr>\n",
       "    <tr>\n",
       "      <th>22</th>\n",
       "      <td>수도권</td>\n",
       "      <td>서울특별시</td>\n",
       "      <td>화물</td>\n",
       "      <td>소형</td>\n",
       "      <td>1253</td>\n",
       "      <td>624</td>\n",
       "      <td>647.00</td>\n",
       "      <td>계절제_2차</td>\n",
       "    </tr>\n",
       "    <tr>\n",
       "      <th>23</th>\n",
       "      <td>수도권</td>\n",
       "      <td>서울특별시</td>\n",
       "      <td>화물</td>\n",
       "      <td>중형</td>\n",
       "      <td>809</td>\n",
       "      <td>292</td>\n",
       "      <td>428.00</td>\n",
       "      <td>계절제_2차</td>\n",
       "    </tr>\n",
       "    <tr>\n",
       "      <th>24</th>\n",
       "      <td>수도권</td>\n",
       "      <td>인천광역시</td>\n",
       "      <td>승용</td>\n",
       "      <td>대형</td>\n",
       "      <td>689</td>\n",
       "      <td>314</td>\n",
       "      <td>276.00</td>\n",
       "      <td>계절제_2차</td>\n",
       "    </tr>\n",
       "    <tr>\n",
       "      <th>25</th>\n",
       "      <td>수도권</td>\n",
       "      <td>인천광역시</td>\n",
       "      <td>승용</td>\n",
       "      <td>소형</td>\n",
       "      <td>2</td>\n",
       "      <td>2</td>\n",
       "      <td>NaN</td>\n",
       "      <td>계절제_2차</td>\n",
       "    </tr>\n",
       "    <tr>\n",
       "      <th>26</th>\n",
       "      <td>수도권</td>\n",
       "      <td>인천광역시</td>\n",
       "      <td>승용</td>\n",
       "      <td>중형</td>\n",
       "      <td>453</td>\n",
       "      <td>224</td>\n",
       "      <td>156.00</td>\n",
       "      <td>계절제_2차</td>\n",
       "    </tr>\n",
       "    <tr>\n",
       "      <th>27</th>\n",
       "      <td>수도권</td>\n",
       "      <td>인천광역시</td>\n",
       "      <td>승합</td>\n",
       "      <td>대형</td>\n",
       "      <td>8</td>\n",
       "      <td>7</td>\n",
       "      <td>6.00</td>\n",
       "      <td>계절제_2차</td>\n",
       "    </tr>\n",
       "    <tr>\n",
       "      <th>28</th>\n",
       "      <td>수도권</td>\n",
       "      <td>인천광역시</td>\n",
       "      <td>승합</td>\n",
       "      <td>중형</td>\n",
       "      <td>150</td>\n",
       "      <td>63</td>\n",
       "      <td>84.00</td>\n",
       "      <td>계절제_2차</td>\n",
       "    </tr>\n",
       "    <tr>\n",
       "      <th>29</th>\n",
       "      <td>수도권</td>\n",
       "      <td>인천광역시</td>\n",
       "      <td>특수</td>\n",
       "      <td>대형</td>\n",
       "      <td>78</td>\n",
       "      <td>59</td>\n",
       "      <td>28.00</td>\n",
       "      <td>계절제_2차</td>\n",
       "    </tr>\n",
       "    <tr>\n",
       "      <th>30</th>\n",
       "      <td>수도권</td>\n",
       "      <td>인천광역시</td>\n",
       "      <td>특수</td>\n",
       "      <td>소형</td>\n",
       "      <td>1</td>\n",
       "      <td>1</td>\n",
       "      <td>1.00</td>\n",
       "      <td>계절제_2차</td>\n",
       "    </tr>\n",
       "    <tr>\n",
       "      <th>31</th>\n",
       "      <td>수도권</td>\n",
       "      <td>인천광역시</td>\n",
       "      <td>특수</td>\n",
       "      <td>중형</td>\n",
       "      <td>14</td>\n",
       "      <td>10</td>\n",
       "      <td>5.00</td>\n",
       "      <td>계절제_2차</td>\n",
       "    </tr>\n",
       "    <tr>\n",
       "      <th>32</th>\n",
       "      <td>수도권</td>\n",
       "      <td>인천광역시</td>\n",
       "      <td>화물</td>\n",
       "      <td>대형</td>\n",
       "      <td>494</td>\n",
       "      <td>165</td>\n",
       "      <td>287.00</td>\n",
       "      <td>계절제_2차</td>\n",
       "    </tr>\n",
       "    <tr>\n",
       "      <th>33</th>\n",
       "      <td>수도권</td>\n",
       "      <td>인천광역시</td>\n",
       "      <td>화물</td>\n",
       "      <td>소형</td>\n",
       "      <td>595</td>\n",
       "      <td>265</td>\n",
       "      <td>286.00</td>\n",
       "      <td>계절제_2차</td>\n",
       "    </tr>\n",
       "    <tr>\n",
       "      <th>34</th>\n",
       "      <td>수도권</td>\n",
       "      <td>인천광역시</td>\n",
       "      <td>화물</td>\n",
       "      <td>중형</td>\n",
       "      <td>466</td>\n",
       "      <td>231</td>\n",
       "      <td>203.00</td>\n",
       "      <td>계절제_2차</td>\n",
       "    </tr>\n",
       "    <tr>\n",
       "      <th>35</th>\n",
       "      <td>수도권외</td>\n",
       "      <td>대구광역시</td>\n",
       "      <td>승용</td>\n",
       "      <td>대형</td>\n",
       "      <td>233</td>\n",
       "      <td>114</td>\n",
       "      <td>58.00</td>\n",
       "      <td>계절제_2차</td>\n",
       "    </tr>\n",
       "    <tr>\n",
       "      <th>36</th>\n",
       "      <td>수도권외</td>\n",
       "      <td>대구광역시</td>\n",
       "      <td>승용</td>\n",
       "      <td>소형</td>\n",
       "      <td>1</td>\n",
       "      <td>1</td>\n",
       "      <td>NaN</td>\n",
       "      <td>계절제_2차</td>\n",
       "    </tr>\n",
       "    <tr>\n",
       "      <th>37</th>\n",
       "      <td>수도권외</td>\n",
       "      <td>대구광역시</td>\n",
       "      <td>승용</td>\n",
       "      <td>중형</td>\n",
       "      <td>159</td>\n",
       "      <td>103</td>\n",
       "      <td>36.00</td>\n",
       "      <td>계절제_2차</td>\n",
       "    </tr>\n",
       "    <tr>\n",
       "      <th>38</th>\n",
       "      <td>수도권외</td>\n",
       "      <td>대구광역시</td>\n",
       "      <td>승합</td>\n",
       "      <td>대형</td>\n",
       "      <td>1</td>\n",
       "      <td>0</td>\n",
       "      <td>NaN</td>\n",
       "      <td>계절제_2차</td>\n",
       "    </tr>\n",
       "    <tr>\n",
       "      <th>39</th>\n",
       "      <td>수도권외</td>\n",
       "      <td>대구광역시</td>\n",
       "      <td>승합</td>\n",
       "      <td>중형</td>\n",
       "      <td>26</td>\n",
       "      <td>12</td>\n",
       "      <td>7.00</td>\n",
       "      <td>계절제_2차</td>\n",
       "    </tr>\n",
       "    <tr>\n",
       "      <th>40</th>\n",
       "      <td>수도권외</td>\n",
       "      <td>대구광역시</td>\n",
       "      <td>특수</td>\n",
       "      <td>대형</td>\n",
       "      <td>3</td>\n",
       "      <td>2</td>\n",
       "      <td>1.00</td>\n",
       "      <td>계절제_2차</td>\n",
       "    </tr>\n",
       "    <tr>\n",
       "      <th>41</th>\n",
       "      <td>수도권외</td>\n",
       "      <td>대구광역시</td>\n",
       "      <td>특수</td>\n",
       "      <td>중형</td>\n",
       "      <td>4</td>\n",
       "      <td>3</td>\n",
       "      <td>NaN</td>\n",
       "      <td>계절제_2차</td>\n",
       "    </tr>\n",
       "    <tr>\n",
       "      <th>42</th>\n",
       "      <td>수도권외</td>\n",
       "      <td>대구광역시</td>\n",
       "      <td>화물</td>\n",
       "      <td>대형</td>\n",
       "      <td>77</td>\n",
       "      <td>25</td>\n",
       "      <td>34.00</td>\n",
       "      <td>계절제_2차</td>\n",
       "    </tr>\n",
       "    <tr>\n",
       "      <th>43</th>\n",
       "      <td>수도권외</td>\n",
       "      <td>대구광역시</td>\n",
       "      <td>화물</td>\n",
       "      <td>소형</td>\n",
       "      <td>115</td>\n",
       "      <td>61</td>\n",
       "      <td>35.00</td>\n",
       "      <td>계절제_2차</td>\n",
       "    </tr>\n",
       "    <tr>\n",
       "      <th>44</th>\n",
       "      <td>수도권외</td>\n",
       "      <td>대구광역시</td>\n",
       "      <td>화물</td>\n",
       "      <td>중형</td>\n",
       "      <td>103</td>\n",
       "      <td>44</td>\n",
       "      <td>37.00</td>\n",
       "      <td>계절제_2차</td>\n",
       "    </tr>\n",
       "    <tr>\n",
       "      <th>45</th>\n",
       "      <td>수도권외</td>\n",
       "      <td>부산광역시</td>\n",
       "      <td>승용</td>\n",
       "      <td>대형</td>\n",
       "      <td>150</td>\n",
       "      <td>64</td>\n",
       "      <td>34.00</td>\n",
       "      <td>계절제_2차</td>\n",
       "    </tr>\n",
       "    <tr>\n",
       "      <th>46</th>\n",
       "      <td>수도권외</td>\n",
       "      <td>부산광역시</td>\n",
       "      <td>승용</td>\n",
       "      <td>소형</td>\n",
       "      <td>1</td>\n",
       "      <td>1</td>\n",
       "      <td>1.00</td>\n",
       "      <td>계절제_2차</td>\n",
       "    </tr>\n",
       "    <tr>\n",
       "      <th>47</th>\n",
       "      <td>수도권외</td>\n",
       "      <td>부산광역시</td>\n",
       "      <td>승용</td>\n",
       "      <td>중형</td>\n",
       "      <td>114</td>\n",
       "      <td>53</td>\n",
       "      <td>26.00</td>\n",
       "      <td>계절제_2차</td>\n",
       "    </tr>\n",
       "    <tr>\n",
       "      <th>48</th>\n",
       "      <td>수도권외</td>\n",
       "      <td>부산광역시</td>\n",
       "      <td>승합</td>\n",
       "      <td>대형</td>\n",
       "      <td>1</td>\n",
       "      <td>1</td>\n",
       "      <td>NaN</td>\n",
       "      <td>계절제_2차</td>\n",
       "    </tr>\n",
       "    <tr>\n",
       "      <th>49</th>\n",
       "      <td>수도권외</td>\n",
       "      <td>부산광역시</td>\n",
       "      <td>승합</td>\n",
       "      <td>중형</td>\n",
       "      <td>23</td>\n",
       "      <td>5</td>\n",
       "      <td>10.00</td>\n",
       "      <td>계절제_2차</td>\n",
       "    </tr>\n",
       "    <tr>\n",
       "      <th>50</th>\n",
       "      <td>수도권외</td>\n",
       "      <td>부산광역시</td>\n",
       "      <td>특수</td>\n",
       "      <td>대형</td>\n",
       "      <td>25</td>\n",
       "      <td>22</td>\n",
       "      <td>4.00</td>\n",
       "      <td>계절제_2차</td>\n",
       "    </tr>\n",
       "    <tr>\n",
       "      <th>51</th>\n",
       "      <td>수도권외</td>\n",
       "      <td>부산광역시</td>\n",
       "      <td>특수</td>\n",
       "      <td>중형</td>\n",
       "      <td>3</td>\n",
       "      <td>3</td>\n",
       "      <td>NaN</td>\n",
       "      <td>계절제_2차</td>\n",
       "    </tr>\n",
       "    <tr>\n",
       "      <th>52</th>\n",
       "      <td>수도권외</td>\n",
       "      <td>부산광역시</td>\n",
       "      <td>화물</td>\n",
       "      <td>대형</td>\n",
       "      <td>129</td>\n",
       "      <td>47</td>\n",
       "      <td>37.00</td>\n",
       "      <td>계절제_2차</td>\n",
       "    </tr>\n",
       "    <tr>\n",
       "      <th>53</th>\n",
       "      <td>수도권외</td>\n",
       "      <td>부산광역시</td>\n",
       "      <td>화물</td>\n",
       "      <td>소형</td>\n",
       "      <td>93</td>\n",
       "      <td>49</td>\n",
       "      <td>29.00</td>\n",
       "      <td>계절제_2차</td>\n",
       "    </tr>\n",
       "    <tr>\n",
       "      <th>54</th>\n",
       "      <td>수도권외</td>\n",
       "      <td>부산광역시</td>\n",
       "      <td>화물</td>\n",
       "      <td>중형</td>\n",
       "      <td>103</td>\n",
       "      <td>38</td>\n",
       "      <td>35.00</td>\n",
       "      <td>계절제_2차</td>\n",
       "    </tr>\n",
       "  </tbody>\n",
       "</table>\n",
       "</div>"
      ],
      "text/plain": [
       "    적발지역   적발시도  차종 차종유형  적발차량대수  저공해미조치  중복적발대수   계절관리제\n",
       "0    수도권    경기도  승용   대형    2466    1027 1007.00  계절제_2차\n",
       "1    수도권    경기도  승용   소형       8       8    3.00  계절제_2차\n",
       "2    수도권    경기도  승용   중형    1593     736  600.00  계절제_2차\n",
       "3    수도권    경기도  승합   대형      23      10    9.00  계절제_2차\n",
       "4    수도권    경기도  승합   소형       3       3    1.00  계절제_2차\n",
       "5    수도권    경기도  승합   중형     654     242  318.00  계절제_2차\n",
       "6    수도권    경기도  특수   대형      84      57   36.00  계절제_2차\n",
       "7    수도권    경기도  특수   소형      14       6    5.00  계절제_2차\n",
       "8    수도권    경기도  특수   중형      40      28   17.00  계절제_2차\n",
       "9    수도권    경기도  화물   대형    1595     534  852.00  계절제_2차\n",
       "10   수도권    경기도  화물   소형    2513    1100 1083.00  계절제_2차\n",
       "11   수도권    경기도  화물   중형    2060     917  895.00  계절제_2차\n",
       "12   수도권  서울특별시  승용   대형    1855     744  891.00  계절제_2차\n",
       "13   수도권  서울특별시  승용   소형      38      38   15.00  계절제_2차\n",
       "14   수도권  서울특별시  승용   중형    1231     492  553.00  계절제_2차\n",
       "15   수도권  서울특별시  승합   대형      12       4    5.00  계절제_2차\n",
       "16   수도권  서울특별시  승합   소형       8       8    2.00  계절제_2차\n",
       "17   수도권  서울특별시  승합   중형     408     158  217.00  계절제_2차\n",
       "18   수도권  서울특별시  특수   대형      21      16   15.00  계절제_2차\n",
       "19   수도권  서울특별시  특수   소형       7       3    6.00  계절제_2차\n",
       "20   수도권  서울특별시  특수   중형      34      27   21.00  계절제_2차\n",
       "21   수도권  서울특별시  화물   대형     440     121  275.00  계절제_2차\n",
       "22   수도권  서울특별시  화물   소형    1253     624  647.00  계절제_2차\n",
       "23   수도권  서울특별시  화물   중형     809     292  428.00  계절제_2차\n",
       "24   수도권  인천광역시  승용   대형     689     314  276.00  계절제_2차\n",
       "25   수도권  인천광역시  승용   소형       2       2     NaN  계절제_2차\n",
       "26   수도권  인천광역시  승용   중형     453     224  156.00  계절제_2차\n",
       "27   수도권  인천광역시  승합   대형       8       7    6.00  계절제_2차\n",
       "28   수도권  인천광역시  승합   중형     150      63   84.00  계절제_2차\n",
       "29   수도권  인천광역시  특수   대형      78      59   28.00  계절제_2차\n",
       "30   수도권  인천광역시  특수   소형       1       1    1.00  계절제_2차\n",
       "31   수도권  인천광역시  특수   중형      14      10    5.00  계절제_2차\n",
       "32   수도권  인천광역시  화물   대형     494     165  287.00  계절제_2차\n",
       "33   수도권  인천광역시  화물   소형     595     265  286.00  계절제_2차\n",
       "34   수도권  인천광역시  화물   중형     466     231  203.00  계절제_2차\n",
       "35  수도권외  대구광역시  승용   대형     233     114   58.00  계절제_2차\n",
       "36  수도권외  대구광역시  승용   소형       1       1     NaN  계절제_2차\n",
       "37  수도권외  대구광역시  승용   중형     159     103   36.00  계절제_2차\n",
       "38  수도권외  대구광역시  승합   대형       1       0     NaN  계절제_2차\n",
       "39  수도권외  대구광역시  승합   중형      26      12    7.00  계절제_2차\n",
       "40  수도권외  대구광역시  특수   대형       3       2    1.00  계절제_2차\n",
       "41  수도권외  대구광역시  특수   중형       4       3     NaN  계절제_2차\n",
       "42  수도권외  대구광역시  화물   대형      77      25   34.00  계절제_2차\n",
       "43  수도권외  대구광역시  화물   소형     115      61   35.00  계절제_2차\n",
       "44  수도권외  대구광역시  화물   중형     103      44   37.00  계절제_2차\n",
       "45  수도권외  부산광역시  승용   대형     150      64   34.00  계절제_2차\n",
       "46  수도권외  부산광역시  승용   소형       1       1    1.00  계절제_2차\n",
       "47  수도권외  부산광역시  승용   중형     114      53   26.00  계절제_2차\n",
       "48  수도권외  부산광역시  승합   대형       1       1     NaN  계절제_2차\n",
       "49  수도권외  부산광역시  승합   중형      23       5   10.00  계절제_2차\n",
       "50  수도권외  부산광역시  특수   대형      25      22    4.00  계절제_2차\n",
       "51  수도권외  부산광역시  특수   중형       3       3     NaN  계절제_2차\n",
       "52  수도권외  부산광역시  화물   대형     129      47   37.00  계절제_2차\n",
       "53  수도권외  부산광역시  화물   소형      93      49   29.00  계절제_2차\n",
       "54  수도권외  부산광역시  화물   중형     103      38   35.00  계절제_2차"
      ]
     },
     "execution_count": 398,
     "metadata": {},
     "output_type": "execute_result"
    }
   ],
   "source": [
    "grp = grp1.merge(grp2, on=['적발지역', '적발시도', '차종', '차종유형'], how='left')\n",
    "grp['계절관리제'] = '계절제_2차'\n",
    "grp"
   ]
  },
  {
   "cell_type": "code",
   "execution_count": 399,
   "metadata": {},
   "outputs": [
    {
     "data": {
      "text/plain": [
       "{'계절제_1차여부': '계절제_1차',\n",
       " '계절제_2차여부': '계절제_2차',\n",
       " '계절제_3차여부': '계절제_3차',\n",
       " '계절제_4차여부': '계절제_4차'}"
      ]
     },
     "execution_count": 399,
     "metadata": {},
     "output_type": "execute_result"
    }
   ],
   "source": [
    "limit_season_rename_dict"
   ]
  },
  {
   "cell_type": "code",
   "execution_count": 400,
   "metadata": {},
   "outputs": [],
   "source": [
    "total_grp_lmt = pd.DataFrame()\n",
    "for one in limit_season_rename_dict.values():\n",
    "    temp1 = ildm.loc[ildm[one] > 0, ['차대번호', '적발지역', '적발시도', '차종', '차종유형', '저감장치미장착'] + [one]]\n",
    "    temp2 = ildm.loc[ildm[one] > 1, ['차대번호', '적발지역', '적발시도', '차종', '차종유형'] + [one]]\n",
    "    if temp1.shape[0] > 0 and temp2.shape[0] > 0:\n",
    "        grp1 = temp1.groupby(['적발지역', '적발시도', '차종', '차종유형']).agg({'차대번호':'count', '저감장치미장착':'count'}).reset_index()\n",
    "        grp1 = grp1.rename(columns={'차대번호':'적발차량대수', '저감장치미장착':'저공해미조치'})\n",
    "        grp2 = temp2.groupby(['적발지역', '적발시도', '차종', '차종유형'])['차대번호'].count().reset_index()\n",
    "        grp2 = grp2.rename(columns={'차대번호':'중복적발대수'})\n",
    "        grp = grp1.merge(grp2, on=['적발지역', '적발시도', '차종', '차종유형'], how='left')\n",
    "        grp['계절관리제'] = one\n",
    "        total_grp_lmt = pd.concat([total_grp_lmt, grp], ignore_index=True)\n",
    "    else:\n",
    "        pass"
   ]
  },
  {
   "cell_type": "code",
   "execution_count": 401,
   "metadata": {},
   "outputs": [
    {
     "data": {
      "text/html": [
       "<div>\n",
       "<style scoped>\n",
       "    .dataframe tbody tr th:only-of-type {\n",
       "        vertical-align: middle;\n",
       "    }\n",
       "\n",
       "    .dataframe tbody tr th {\n",
       "        vertical-align: top;\n",
       "    }\n",
       "\n",
       "    .dataframe thead th {\n",
       "        text-align: right;\n",
       "    }\n",
       "</style>\n",
       "<table border=\"1\" class=\"dataframe\">\n",
       "  <thead>\n",
       "    <tr style=\"text-align: right;\">\n",
       "      <th></th>\n",
       "      <th>적발지역</th>\n",
       "      <th>적발시도</th>\n",
       "      <th>차종</th>\n",
       "      <th>차종유형</th>\n",
       "      <th>적발차량대수</th>\n",
       "      <th>저공해미조치</th>\n",
       "      <th>중복적발대수</th>\n",
       "      <th>계절관리제</th>\n",
       "    </tr>\n",
       "  </thead>\n",
       "  <tbody>\n",
       "    <tr>\n",
       "      <th>0</th>\n",
       "      <td>수도권</td>\n",
       "      <td>경기도</td>\n",
       "      <td>승용</td>\n",
       "      <td>대형</td>\n",
       "      <td>2466</td>\n",
       "      <td>1027</td>\n",
       "      <td>1007.00</td>\n",
       "      <td>계절제_2차</td>\n",
       "    </tr>\n",
       "    <tr>\n",
       "      <th>1</th>\n",
       "      <td>수도권</td>\n",
       "      <td>경기도</td>\n",
       "      <td>승용</td>\n",
       "      <td>소형</td>\n",
       "      <td>8</td>\n",
       "      <td>8</td>\n",
       "      <td>3.00</td>\n",
       "      <td>계절제_2차</td>\n",
       "    </tr>\n",
       "    <tr>\n",
       "      <th>2</th>\n",
       "      <td>수도권</td>\n",
       "      <td>경기도</td>\n",
       "      <td>승용</td>\n",
       "      <td>중형</td>\n",
       "      <td>1593</td>\n",
       "      <td>736</td>\n",
       "      <td>600.00</td>\n",
       "      <td>계절제_2차</td>\n",
       "    </tr>\n",
       "    <tr>\n",
       "      <th>3</th>\n",
       "      <td>수도권</td>\n",
       "      <td>경기도</td>\n",
       "      <td>승합</td>\n",
       "      <td>대형</td>\n",
       "      <td>23</td>\n",
       "      <td>10</td>\n",
       "      <td>9.00</td>\n",
       "      <td>계절제_2차</td>\n",
       "    </tr>\n",
       "    <tr>\n",
       "      <th>4</th>\n",
       "      <td>수도권</td>\n",
       "      <td>경기도</td>\n",
       "      <td>승합</td>\n",
       "      <td>소형</td>\n",
       "      <td>3</td>\n",
       "      <td>3</td>\n",
       "      <td>1.00</td>\n",
       "      <td>계절제_2차</td>\n",
       "    </tr>\n",
       "    <tr>\n",
       "      <th>...</th>\n",
       "      <td>...</td>\n",
       "      <td>...</td>\n",
       "      <td>...</td>\n",
       "      <td>...</td>\n",
       "      <td>...</td>\n",
       "      <td>...</td>\n",
       "      <td>...</td>\n",
       "      <td>...</td>\n",
       "    </tr>\n",
       "    <tr>\n",
       "      <th>164</th>\n",
       "      <td>수도권외</td>\n",
       "      <td>부산광역시</td>\n",
       "      <td>특수</td>\n",
       "      <td>대형</td>\n",
       "      <td>51</td>\n",
       "      <td>49</td>\n",
       "      <td>22.00</td>\n",
       "      <td>계절제_4차</td>\n",
       "    </tr>\n",
       "    <tr>\n",
       "      <th>165</th>\n",
       "      <td>수도권외</td>\n",
       "      <td>부산광역시</td>\n",
       "      <td>특수</td>\n",
       "      <td>중형</td>\n",
       "      <td>12</td>\n",
       "      <td>12</td>\n",
       "      <td>4.00</td>\n",
       "      <td>계절제_4차</td>\n",
       "    </tr>\n",
       "    <tr>\n",
       "      <th>166</th>\n",
       "      <td>수도권외</td>\n",
       "      <td>부산광역시</td>\n",
       "      <td>화물</td>\n",
       "      <td>대형</td>\n",
       "      <td>501</td>\n",
       "      <td>464</td>\n",
       "      <td>261.00</td>\n",
       "      <td>계절제_4차</td>\n",
       "    </tr>\n",
       "    <tr>\n",
       "      <th>167</th>\n",
       "      <td>수도권외</td>\n",
       "      <td>부산광역시</td>\n",
       "      <td>화물</td>\n",
       "      <td>소형</td>\n",
       "      <td>2068</td>\n",
       "      <td>1921</td>\n",
       "      <td>1012.00</td>\n",
       "      <td>계절제_4차</td>\n",
       "    </tr>\n",
       "    <tr>\n",
       "      <th>168</th>\n",
       "      <td>수도권외</td>\n",
       "      <td>부산광역시</td>\n",
       "      <td>화물</td>\n",
       "      <td>중형</td>\n",
       "      <td>1557</td>\n",
       "      <td>1453</td>\n",
       "      <td>736.00</td>\n",
       "      <td>계절제_4차</td>\n",
       "    </tr>\n",
       "  </tbody>\n",
       "</table>\n",
       "<p>169 rows × 8 columns</p>\n",
       "</div>"
      ],
      "text/plain": [
       "     적발지역   적발시도  차종 차종유형  적발차량대수  저공해미조치  중복적발대수   계절관리제\n",
       "0     수도권    경기도  승용   대형    2466    1027 1007.00  계절제_2차\n",
       "1     수도권    경기도  승용   소형       8       8    3.00  계절제_2차\n",
       "2     수도권    경기도  승용   중형    1593     736  600.00  계절제_2차\n",
       "3     수도권    경기도  승합   대형      23      10    9.00  계절제_2차\n",
       "4     수도권    경기도  승합   소형       3       3    1.00  계절제_2차\n",
       "..    ...    ...  ..  ...     ...     ...     ...     ...\n",
       "164  수도권외  부산광역시  특수   대형      51      49   22.00  계절제_4차\n",
       "165  수도권외  부산광역시  특수   중형      12      12    4.00  계절제_4차\n",
       "166  수도권외  부산광역시  화물   대형     501     464  261.00  계절제_4차\n",
       "167  수도권외  부산광역시  화물   소형    2068    1921 1012.00  계절제_4차\n",
       "168  수도권외  부산광역시  화물   중형    1557    1453  736.00  계절제_4차\n",
       "\n",
       "[169 rows x 8 columns]"
      ]
     },
     "execution_count": 401,
     "metadata": {},
     "output_type": "execute_result"
    }
   ],
   "source": [
    "total_grp_lmt"
   ]
  },
  {
   "cell_type": "code",
   "execution_count": 402,
   "metadata": {},
   "outputs": [
    {
     "data": {
      "text/plain": [
       "array(['계절제_2차', '계절제_3차', '계절제_4차'], dtype=object)"
      ]
     },
     "execution_count": 402,
     "metadata": {},
     "output_type": "execute_result"
    }
   ],
   "source": [
    "total_grp_lmt['계절관리제'].unique()"
   ]
  },
  {
   "cell_type": "code",
   "execution_count": 403,
   "metadata": {},
   "outputs": [],
   "source": [
    "total_grp_lmt['테이블생성일자'] = today_date"
   ]
  },
  {
   "cell_type": "code",
   "execution_count": 404,
   "metadata": {},
   "outputs": [
    {
     "data": {
      "text/plain": [
       "['적발지역',\n",
       " '적발시도',\n",
       " '차종',\n",
       " '차종유형',\n",
       " '적발차량대수',\n",
       " '저공해미조치',\n",
       " '중복적발대수',\n",
       " '계절관리제',\n",
       " '테이블생성일자']"
      ]
     },
     "execution_count": 404,
     "metadata": {},
     "output_type": "execute_result"
    }
   ],
   "source": [
    "total_grp_lmt.columns.to_list()"
   ]
  },
  {
   "cell_type": "code",
   "execution_count": null,
   "metadata": {},
   "outputs": [],
   "source": [
    "# today_date = datetime.today().strftime(\"%Y%m%d\")\n",
    "# total_grp_lmt['테이블생성일자'] = today_date\n",
    "# total_grp_lmt = total_grp_lmt[[\n",
    "#     '계절관리제', \n",
    "#     '지역', \n",
    "#     '시도', \n",
    "#     '차종', \n",
    "#     '차종유형', \n",
    "#     '적발차량대수', \n",
    "#     '저공해미조치', \n",
    "#     '중복적발대수', \n",
    "#     '테이블생성일자', \n",
    "# ]]\n",
    "# cdict = {\n",
    "#     '계절관리제':'SEASON', \n",
    "#     '지역':'RGN', \n",
    "#     '시도':'CTPV', \n",
    "#     '차종':'VHCTY_CD', \n",
    "#     '차종유형':'VHCTY_TY', \n",
    "#     '적발차량대수':'DSCL_VHCL_MKCNT', \n",
    "#     '저공해미조치':'UNLEM', \n",
    "#     '중복적발대수':'DUP_DSCL_MKCNT', \n",
    "#     '테이블생성일자':'LOAD_DT', \n",
    "# }\n",
    "# STD_BD_DAT_RUN_LMT_CURSTT = total_grp_lmt.rename(columns=cdict)"
   ]
  },
  {
   "cell_type": "code",
   "execution_count": 407,
   "metadata": {},
   "outputs": [
    {
     "data": {
      "text/plain": [
       "Index(['SEASON', 'RGN', 'CTPV', 'VHCTY_CD', 'VHCTY_TY', 'DSCL_VHCL_MKCNT',\n",
       "       'UNLEM', 'DUP_DSCL_MKCNT', 'LOAD_DT'],\n",
       "      dtype='object')"
      ]
     },
     "execution_count": 407,
     "metadata": {},
     "output_type": "execute_result"
    }
   ],
   "source": [
    "total_grp_lmt = total_grp_lmt[[\n",
    "    '계절관리제', \n",
    "    '적발지역', # !!! 수정(2023.09.01)\n",
    "    '적발시도', # !!! 수정(2023.09.01)\n",
    "    '차종', \n",
    "    '차종유형', \n",
    "    '적발차량대수', \n",
    "    '저공해미조치', \n",
    "    '중복적발대수', \n",
    "    '테이블생성일자', \n",
    "]]\n",
    "cdict = {\n",
    "    '계절관리제':'SEASON', \n",
    "    '적발지역':'DSCL_RGN', # !!! 수정(2023.09.01)\n",
    "    '적발시도':'DSCL_CTPV', # !!! 수정(2023.09.01)\n",
    "    '차종':'VHCTY_CD', \n",
    "    '차종유형':'VHCTY_TY', \n",
    "    '적발차량대수':'DSCL_VHCL_MKCNT', \n",
    "    '저공해미조치':'UNLEM', \n",
    "    '중복적발대수':'DUP_DSCL_MKCNT', \n",
    "    '테이블생성일자':'LOAD_DT', \n",
    "}\n",
    "STD_BD_DAT_RUN_LMT_CURSTT = total_grp_lmt.rename(columns=cdict)\n",
    "STD_BD_DAT_RUN_LMT_CURSTT.columns"
   ]
  },
  {
   "cell_type": "code",
   "execution_count": 408,
   "metadata": {},
   "outputs": [
    {
     "data": {
      "text/plain": [
       "['SEASON',\n",
       " 'RGN',\n",
       " 'CTPV',\n",
       " 'VHCTY_CD',\n",
       " 'VHCTY_TY',\n",
       " 'DSCL_VHCL_MKCNT',\n",
       " 'UNLEM',\n",
       " 'DUP_DSCL_MKCNT',\n",
       " 'LOAD_DT']"
      ]
     },
     "execution_count": 408,
     "metadata": {},
     "output_type": "execute_result"
    }
   ],
   "source": [
    "STD_BD_DAT_RUN_LMT_CURSTT.columns.to_list()"
   ]
  },
  {
   "cell_type": "markdown",
   "metadata": {},
   "source": [
    "### [출력] STD_BD_DAT_RUN_LMT_CURSTT"
   ]
  },
  {
   "cell_type": "code",
   "execution_count": null,
   "metadata": {},
   "outputs": [],
   "source": [
    "# expdf = STD_BD_DAT_RUN_LMT_CURSTT\n",
    "# table_nm = 'STD_BD_DAT_RUN_LMT_CURSTT'.upper()\n",
    "\n",
    "# # 테이블 생성\n",
    "# sql = 'create table ' + table_nm + '( \\n'\n",
    "\n",
    "# for idx,column in enumerate(expdf.columns):\n",
    "#     # if 'float' in expdf[column].dtype.name:\n",
    "#     #     sql += column + ' float'\n",
    "#     # elif 'int' in expdf[column].dtype.name:\n",
    "#     #     sql += column + ' number'\n",
    "#     # else:\n",
    "#     sql += column + ' varchar(255)'\n",
    "\n",
    "#     if len(expdf.columns) - 1 != idx:\n",
    "#         sql += ','\n",
    "#     sql += '\\n'\n",
    "# sql += ')'    \n",
    "# we.execute(sql)\n",
    "\n",
    "# # 데이터 추가\n",
    "# # 5s\n",
    "# we.import_from_pandas(expdf, table_nm)"
   ]
  },
  {
   "cell_type": "code",
   "execution_count": 329,
   "metadata": {},
   "outputs": [],
   "source": [
    "# # 0s\n",
    "# STD_BD_DAT_RUN_LMT_CURSTT.to_csv(os.path.join(df3_fold, f'STD_BD_DAT_RUN_LMT_CURSTT({today_date}).csv'), index=False)"
   ]
  },
  {
   "cell_type": "markdown",
   "metadata": {},
   "source": [
    "# code end"
   ]
  }
 ],
 "metadata": {
  "kernelspec": {
   "display_name": "Python 3 (ipykernel)",
   "language": "python",
   "name": "python3"
  },
  "language_info": {
   "codemirror_mode": {
    "name": "ipython",
    "version": 3
   },
   "file_extension": ".py",
   "mimetype": "text/x-python",
   "name": "python",
   "nbconvert_exporter": "python",
   "pygments_lexer": "ipython3",
   "version": "3.9.13"
  },
  "vscode": {
   "interpreter": {
    "hash": "ad2bdc8ecc057115af97d19610ffacc2b4e99fae6737bb82f5d7fb13d2f2c186"
   }
  }
 },
 "nbformat": 4,
 "nbformat_minor": 4
}
