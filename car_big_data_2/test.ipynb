{
 "cells": [
  {
   "attachments": {},
   "cell_type": "markdown",
   "metadata": {},
   "source": [
    "# Library"
   ]
  },
  {
   "cell_type": "code",
   "execution_count": 2,
   "metadata": {},
   "outputs": [],
   "source": [
    "import pandas as pd\n",
    "import os"
   ]
  },
  {
   "attachments": {},
   "cell_type": "markdown",
   "metadata": {},
   "source": [
    "# folder"
   ]
  },
  {
   "cell_type": "code",
   "execution_count": 3,
   "metadata": {},
   "outputs": [],
   "source": [
    "path = 'D:/data/big2/ODS'"
   ]
  },
  {
   "attachments": {},
   "cell_type": "markdown",
   "metadata": {},
   "source": [
    "# load"
   ]
  },
  {
   "cell_type": "code",
   "execution_count": 4,
   "metadata": {},
   "outputs": [
    {
     "name": "stdout",
     "output_type": "stream",
     "text": [
      "<class 'pandas.core.frame.DataFrame'>\n",
      "RangeIndex: 799 entries, 0 to 798\n",
      "Data columns (total 2 columns):\n",
      " #   Column  Non-Null Count  Dtype \n",
      "---  ------  --------------  ----- \n",
      " 0   장치인증번호  799 non-null    object\n",
      " 1   장치구분    799 non-null    object\n",
      "dtypes: object(2)\n",
      "memory usage: 12.6+ KB\n"
     ]
    }
   ],
   "source": [
    "df = pd.read_excel(os.path.join(path, '저감장치_리스트.xlsx'))\n",
    "df.info()"
   ]
  },
  {
   "cell_type": "code",
   "execution_count": 5,
   "metadata": {},
   "outputs": [
    {
     "data": {
      "text/plain": [
       "(136, 2)"
      ]
     },
     "execution_count": 5,
     "metadata": {},
     "output_type": "execute_result"
    }
   ],
   "source": [
    "df = df.drop_duplicates().reset_index(drop=True)\n",
    "df.shape"
   ]
  },
  {
   "cell_type": "code",
   "execution_count": 6,
   "metadata": {},
   "outputs": [],
   "source": [
    "df.to_excel(os.path.join(path, '저감장치_리스트_수정.xlsx'), index=False)"
   ]
  },
  {
   "cell_type": "code",
   "execution_count": 8,
   "metadata": {},
   "outputs": [
    {
     "name": "stdout",
     "output_type": "stream",
     "text": [
      "<class 'pandas.core.frame.DataFrame'>\n",
      "RangeIndex: 10071308 entries, 0 to 10071307\n",
      "Data columns (total 57 columns):\n",
      " #   Column           Dtype  \n",
      "---  ------           -----  \n",
      " 0   배출가스등급           object \n",
      " 1   검사소명             object \n",
      " 2   검사일자             int64  \n",
      " 3   검사종류             object \n",
      " 4   검사접수번호           object \n",
      " 5   차량번호             object \n",
      " 6   차대번호             object \n",
      " 7   CAR_TYPE         object \n",
      " 8   차명               object \n",
      " 9   차종               object \n",
      " 10  차량용도             object \n",
      " 11  차량연식             int64  \n",
      " 12  사용연료             object \n",
      " 13  주행거리             float64\n",
      " 14  CAR_LENGTH       float64\n",
      " 15  CAR_WIDTH        float64\n",
      " 16  CAR_HEIGHT       float64\n",
      " 17  엔진형식             object \n",
      " 18  ENGINE_CAPACITY  float64\n",
      " 19  ENGINE_POWER     object \n",
      " 20  CAR_WEIGHT       float64\n",
      " 21  TOT_WEIGHT       float64\n",
      " 22  CAR_PASSENGER    float64\n",
      " 23  CONT             object \n",
      " 24  FIRST_REG_DATE   int64  \n",
      " 25  MAKE_DATE        float64\n",
      " 26  검사전유효기간만료일       float64\n",
      " 27  FUN_JUDGE_YN     object \n",
      " 28  FUN_FAIL_ITEM    object \n",
      " 29  검사방법             object \n",
      " 30  무부하매연측정치1        float64\n",
      " 31  무부하매연허용치1        float64\n",
      " 32  무부하매연판정1         object \n",
      " 33  무부하매연측정치2        float64\n",
      " 34  무부하매연허용치2        float64\n",
      " 35  무부하매연판정2         object \n",
      " 36  무부하매연측정치3        float64\n",
      " 37  무부하매연허용치3        float64\n",
      " 38  무부하매연판정3         object \n",
      " 39  무부하매연측정치4        float64\n",
      " 40  무부하매연허용치4        float64\n",
      " 41  무부하매연판정4         object \n",
      " 42  무부하매연측정치5        float64\n",
      " 43  무부하매연허용치5        float64\n",
      " 44  무부하매연판정5         object \n",
      " 45  무부하매연측정치6        float64\n",
      " 46  무부하매연허용치6        float64\n",
      " 47  무부하매연판정6         object \n",
      " 48  이산화탄소값           float64\n",
      " 49  최대출력허용치          float64\n",
      " 50  최대출력측정값          float64\n",
      " 51  산소값              float64\n",
      " 52  AIR_TEMPER       float64\n",
      " 53  AIR_PRESS        float64\n",
      " 54  검사판정             object \n",
      " 55  재검사기간            object \n",
      " 56  검사유효기간           object \n",
      "dtypes: float64(28), int64(3), object(26)\n",
      "memory usage: 4.3+ GB\n"
     ]
    }
   ],
   "source": [
    "# about 2m 12.1s\n",
    "df = pd.read_table(os.path.join(path, '45등급 정기정밀.txt'), sep='\\t', encoding='cp949', low_memory=False)\n",
    "df.info()"
   ]
  },
  {
   "cell_type": "code",
   "execution_count": 9,
   "metadata": {},
   "outputs": [
    {
     "data": {
      "text/html": [
       "<div>\n",
       "<style scoped>\n",
       "    .dataframe tbody tr th:only-of-type {\n",
       "        vertical-align: middle;\n",
       "    }\n",
       "\n",
       "    .dataframe tbody tr th {\n",
       "        vertical-align: top;\n",
       "    }\n",
       "\n",
       "    .dataframe thead th {\n",
       "        text-align: right;\n",
       "    }\n",
       "</style>\n",
       "<table border=\"1\" class=\"dataframe\">\n",
       "  <thead>\n",
       "    <tr style=\"text-align: right;\">\n",
       "      <th></th>\n",
       "      <th>배출가스등급</th>\n",
       "      <th>검사소명</th>\n",
       "      <th>검사일자</th>\n",
       "      <th>검사종류</th>\n",
       "      <th>검사접수번호</th>\n",
       "      <th>차량번호</th>\n",
       "      <th>차대번호</th>\n",
       "      <th>CAR_TYPE</th>\n",
       "      <th>차명</th>\n",
       "      <th>차종</th>\n",
       "      <th>...</th>\n",
       "      <th>무부하매연판정6</th>\n",
       "      <th>이산화탄소값</th>\n",
       "      <th>최대출력허용치</th>\n",
       "      <th>최대출력측정값</th>\n",
       "      <th>산소값</th>\n",
       "      <th>AIR_TEMPER</th>\n",
       "      <th>AIR_PRESS</th>\n",
       "      <th>검사판정</th>\n",
       "      <th>재검사기간</th>\n",
       "      <th>검사유효기간</th>\n",
       "    </tr>\n",
       "  </thead>\n",
       "  <tbody>\n",
       "    <tr>\n",
       "      <th>0</th>\n",
       "      <td>5</td>\n",
       "      <td>제일종합정비</td>\n",
       "      <td>20190102</td>\n",
       "      <td>정기검사</td>\n",
       "      <td>L0382019010200061</td>\n",
       "      <td>89보6265</td>\n",
       "      <td>KN3HDP3352K887598</td>\n",
       "      <td>10080700870000</td>\n",
       "      <td>봉고프런티어</td>\n",
       "      <td>화물차일반형소형</td>\n",
       "      <td>...</td>\n",
       "      <td>NaN</td>\n",
       "      <td>NaN</td>\n",
       "      <td>NaN</td>\n",
       "      <td>NaN</td>\n",
       "      <td>NaN</td>\n",
       "      <td>NaN</td>\n",
       "      <td>NaN</td>\n",
       "      <td>Y</td>\n",
       "      <td>20190102~20190115</td>\n",
       "      <td>20181206~20191205</td>\n",
       "    </tr>\n",
       "    <tr>\n",
       "      <th>1</th>\n",
       "      <td>5</td>\n",
       "      <td>도원자동차공업사</td>\n",
       "      <td>20190102</td>\n",
       "      <td>정기검사</td>\n",
       "      <td>P0662019010200131</td>\n",
       "      <td>79우3060</td>\n",
       "      <td>KNHMB76127S134164</td>\n",
       "      <td>A0110003600202206</td>\n",
       "      <td>그랜드 카니발</td>\n",
       "      <td>승합차일반형중형</td>\n",
       "      <td>...</td>\n",
       "      <td>NaN</td>\n",
       "      <td>NaN</td>\n",
       "      <td>NaN</td>\n",
       "      <td>NaN</td>\n",
       "      <td>NaN</td>\n",
       "      <td>NaN</td>\n",
       "      <td>NaN</td>\n",
       "      <td>Y</td>\n",
       "      <td>20190102~20190220</td>\n",
       "      <td>20190111~20190710</td>\n",
       "    </tr>\n",
       "    <tr>\n",
       "      <th>2</th>\n",
       "      <td>4</td>\n",
       "      <td>첨단공업㈜</td>\n",
       "      <td>20190102</td>\n",
       "      <td>정기검사</td>\n",
       "      <td>J0472019010200041</td>\n",
       "      <td>52보8949</td>\n",
       "      <td>KMHJN81VP7U619856</td>\n",
       "      <td>A0810006301221206</td>\n",
       "      <td>투싼(TUCSON)</td>\n",
       "      <td>승용차다목적형중형</td>\n",
       "      <td>...</td>\n",
       "      <td>NaN</td>\n",
       "      <td>NaN</td>\n",
       "      <td>NaN</td>\n",
       "      <td>NaN</td>\n",
       "      <td>NaN</td>\n",
       "      <td>NaN</td>\n",
       "      <td>NaN</td>\n",
       "      <td>Y</td>\n",
       "      <td>20190102~20190302</td>\n",
       "      <td>20190121~20210120</td>\n",
       "    </tr>\n",
       "    <tr>\n",
       "      <th>3</th>\n",
       "      <td>4</td>\n",
       "      <td>(주)태안현대자동차정비</td>\n",
       "      <td>20190102</td>\n",
       "      <td>정기검사</td>\n",
       "      <td>H2472019010200281</td>\n",
       "      <td>81러2797</td>\n",
       "      <td>KMFZCZ7JABU712606</td>\n",
       "      <td>A0810006209243110</td>\n",
       "      <td>포터Ⅱ(PORTERⅡ)</td>\n",
       "      <td>화물차일반형소형</td>\n",
       "      <td>...</td>\n",
       "      <td>NaN</td>\n",
       "      <td>NaN</td>\n",
       "      <td>NaN</td>\n",
       "      <td>NaN</td>\n",
       "      <td>NaN</td>\n",
       "      <td>NaN</td>\n",
       "      <td>NaN</td>\n",
       "      <td>Y</td>\n",
       "      <td>20190102~20190214</td>\n",
       "      <td>20190105~20200104</td>\n",
       "    </tr>\n",
       "    <tr>\n",
       "      <th>4</th>\n",
       "      <td>5</td>\n",
       "      <td>태양종합정비(주)</td>\n",
       "      <td>20190102</td>\n",
       "      <td>정기검사</td>\n",
       "      <td>G0252019010200191</td>\n",
       "      <td>84버3580</td>\n",
       "      <td>KMFXKS7BP2U640920</td>\n",
       "      <td>10057001730000</td>\n",
       "      <td>포터초장축슈퍼캡</td>\n",
       "      <td>화물차일반형소형</td>\n",
       "      <td>...</td>\n",
       "      <td>NaN</td>\n",
       "      <td>NaN</td>\n",
       "      <td>NaN</td>\n",
       "      <td>NaN</td>\n",
       "      <td>NaN</td>\n",
       "      <td>NaN</td>\n",
       "      <td>NaN</td>\n",
       "      <td>Y</td>\n",
       "      <td>20190102~20190128</td>\n",
       "      <td>20181219~20191218</td>\n",
       "    </tr>\n",
       "  </tbody>\n",
       "</table>\n",
       "<p>5 rows × 57 columns</p>\n",
       "</div>"
      ],
      "text/plain": [
       "  배출가스등급          검사소명      검사일자  검사종류             검사접수번호     차량번호  \\\n",
       "0      5        제일종합정비  20190102  정기검사  L0382019010200061  89보6265   \n",
       "1      5      도원자동차공업사  20190102  정기검사  P0662019010200131  79우3060   \n",
       "2      4         첨단공업㈜  20190102  정기검사  J0472019010200041  52보8949   \n",
       "3      4  (주)태안현대자동차정비  20190102  정기검사  H2472019010200281  81러2797   \n",
       "4      5     태양종합정비(주)  20190102  정기검사  G0252019010200191  84버3580   \n",
       "\n",
       "                차대번호           CAR_TYPE            차명         차종  ...  \\\n",
       "0  KN3HDP3352K887598     10080700870000        봉고프런티어   화물차일반형소형  ...   \n",
       "1  KNHMB76127S134164  A0110003600202206       그랜드 카니발   승합차일반형중형  ...   \n",
       "2  KMHJN81VP7U619856  A0810006301221206    투싼(TUCSON)  승용차다목적형중형  ...   \n",
       "3  KMFZCZ7JABU712606  A0810006209243110  포터Ⅱ(PORTERⅡ)   화물차일반형소형  ...   \n",
       "4  KMFXKS7BP2U640920     10057001730000      포터초장축슈퍼캡   화물차일반형소형  ...   \n",
       "\n",
       "  무부하매연판정6  이산화탄소값 최대출력허용치  최대출력측정값  산소값  AIR_TEMPER  AIR_PRESS 검사판정  \\\n",
       "0      NaN     NaN     NaN      NaN  NaN         NaN        NaN    Y   \n",
       "1      NaN     NaN     NaN      NaN  NaN         NaN        NaN    Y   \n",
       "2      NaN     NaN     NaN      NaN  NaN         NaN        NaN    Y   \n",
       "3      NaN     NaN     NaN      NaN  NaN         NaN        NaN    Y   \n",
       "4      NaN     NaN     NaN      NaN  NaN         NaN        NaN    Y   \n",
       "\n",
       "               재검사기간             검사유효기간  \n",
       "0  20190102~20190115  20181206~20191205  \n",
       "1  20190102~20190220  20190111~20190710  \n",
       "2  20190102~20190302  20190121~20210120  \n",
       "3  20190102~20190214  20190105~20200104  \n",
       "4  20190102~20190128  20181219~20191218  \n",
       "\n",
       "[5 rows x 57 columns]"
      ]
     },
     "execution_count": 9,
     "metadata": {},
     "output_type": "execute_result"
    }
   ],
   "source": [
    "df.head()"
   ]
  },
  {
   "cell_type": "code",
   "execution_count": 10,
   "metadata": {},
   "outputs": [
    {
     "data": {
      "text/html": [
       "<div>\n",
       "<style scoped>\n",
       "    .dataframe tbody tr th:only-of-type {\n",
       "        vertical-align: middle;\n",
       "    }\n",
       "\n",
       "    .dataframe tbody tr th {\n",
       "        vertical-align: top;\n",
       "    }\n",
       "\n",
       "    .dataframe thead th {\n",
       "        text-align: right;\n",
       "    }\n",
       "</style>\n",
       "<table border=\"1\" class=\"dataframe\">\n",
       "  <thead>\n",
       "    <tr style=\"text-align: right;\">\n",
       "      <th></th>\n",
       "      <th>차대번호</th>\n",
       "      <th>검사일자</th>\n",
       "    </tr>\n",
       "  </thead>\n",
       "  <tbody>\n",
       "    <tr>\n",
       "      <th>0</th>\n",
       "      <td>KN3HDP3352K887598</td>\n",
       "      <td>20190102</td>\n",
       "    </tr>\n",
       "    <tr>\n",
       "      <th>1</th>\n",
       "      <td>KNHMB76127S134164</td>\n",
       "      <td>20190102</td>\n",
       "    </tr>\n",
       "    <tr>\n",
       "      <th>2</th>\n",
       "      <td>KMHJN81VP7U619856</td>\n",
       "      <td>20190102</td>\n",
       "    </tr>\n",
       "    <tr>\n",
       "      <th>3</th>\n",
       "      <td>KMFZCZ7JABU712606</td>\n",
       "      <td>20190102</td>\n",
       "    </tr>\n",
       "    <tr>\n",
       "      <th>4</th>\n",
       "      <td>KMFXKS7BP2U640920</td>\n",
       "      <td>20190102</td>\n",
       "    </tr>\n",
       "  </tbody>\n",
       "</table>\n",
       "</div>"
      ],
      "text/plain": [
       "                차대번호      검사일자\n",
       "0  KN3HDP3352K887598  20190102\n",
       "1  KNHMB76127S134164  20190102\n",
       "2  KMHJN81VP7U619856  20190102\n",
       "3  KMFZCZ7JABU712606  20190102\n",
       "4  KMFXKS7BP2U640920  20190102"
      ]
     },
     "execution_count": 10,
     "metadata": {},
     "output_type": "execute_result"
    }
   ],
   "source": [
    "df[['차대번호', '검사일자']].head()"
   ]
  },
  {
   "cell_type": "code",
   "execution_count": 11,
   "metadata": {},
   "outputs": [
    {
     "data": {
      "text/html": [
       "<div>\n",
       "<style scoped>\n",
       "    .dataframe tbody tr th:only-of-type {\n",
       "        vertical-align: middle;\n",
       "    }\n",
       "\n",
       "    .dataframe tbody tr th {\n",
       "        vertical-align: top;\n",
       "    }\n",
       "\n",
       "    .dataframe thead th {\n",
       "        text-align: right;\n",
       "    }\n",
       "</style>\n",
       "<table border=\"1\" class=\"dataframe\">\n",
       "  <thead>\n",
       "    <tr style=\"text-align: right;\">\n",
       "      <th></th>\n",
       "      <th>차대번호</th>\n",
       "      <th>검사일자</th>\n",
       "    </tr>\n",
       "  </thead>\n",
       "  <tbody>\n",
       "    <tr>\n",
       "      <th>10071303</th>\n",
       "      <td>KMFGA17AP2C165668</td>\n",
       "      <td>20221206</td>\n",
       "    </tr>\n",
       "    <tr>\n",
       "      <th>10071304</th>\n",
       "      <td>KMFZCS7JP6U151858</td>\n",
       "      <td>20221206</td>\n",
       "    </tr>\n",
       "    <tr>\n",
       "      <th>10071305</th>\n",
       "      <td>KMFGA17HP9C123896</td>\n",
       "      <td>20221206</td>\n",
       "    </tr>\n",
       "    <tr>\n",
       "      <th>10071306</th>\n",
       "      <td>KMFZCY7JAAU592722</td>\n",
       "      <td>20221206</td>\n",
       "    </tr>\n",
       "    <tr>\n",
       "      <th>10071307</th>\n",
       "      <td>KMJWA37JBAU181387</td>\n",
       "      <td>20221206</td>\n",
       "    </tr>\n",
       "  </tbody>\n",
       "</table>\n",
       "</div>"
      ],
      "text/plain": [
       "                       차대번호      검사일자\n",
       "10071303  KMFGA17AP2C165668  20221206\n",
       "10071304  KMFZCS7JP6U151858  20221206\n",
       "10071305  KMFGA17HP9C123896  20221206\n",
       "10071306  KMFZCY7JAAU592722  20221206\n",
       "10071307  KMJWA37JBAU181387  20221206"
      ]
     },
     "execution_count": 11,
     "metadata": {},
     "output_type": "execute_result"
    }
   ],
   "source": [
    "df[['차대번호', '검사일자']].tail()"
   ]
  },
  {
   "cell_type": "code",
   "execution_count": 12,
   "metadata": {},
   "outputs": [],
   "source": [
    "# about \n",
    "df = df.sort_values(['차대번호', '검사일자'], ascending=False).reset_index(drop=True)"
   ]
  },
  {
   "cell_type": "code",
   "execution_count": 13,
   "metadata": {},
   "outputs": [
    {
     "data": {
      "text/html": [
       "<div>\n",
       "<style scoped>\n",
       "    .dataframe tbody tr th:only-of-type {\n",
       "        vertical-align: middle;\n",
       "    }\n",
       "\n",
       "    .dataframe tbody tr th {\n",
       "        vertical-align: top;\n",
       "    }\n",
       "\n",
       "    .dataframe thead th {\n",
       "        text-align: right;\n",
       "    }\n",
       "</style>\n",
       "<table border=\"1\" class=\"dataframe\">\n",
       "  <thead>\n",
       "    <tr style=\"text-align: right;\">\n",
       "      <th></th>\n",
       "      <th>차대번호</th>\n",
       "      <th>검사일자</th>\n",
       "    </tr>\n",
       "  </thead>\n",
       "  <tbody>\n",
       "    <tr>\n",
       "      <th>0</th>\n",
       "      <td>sl67c027628</td>\n",
       "      <td>20220908</td>\n",
       "    </tr>\n",
       "    <tr>\n",
       "      <th>1</th>\n",
       "      <td>sl67c027628</td>\n",
       "      <td>20220308</td>\n",
       "    </tr>\n",
       "    <tr>\n",
       "      <th>2</th>\n",
       "      <td>sl67c027628</td>\n",
       "      <td>20210917</td>\n",
       "    </tr>\n",
       "    <tr>\n",
       "      <th>3</th>\n",
       "      <td>sl67c027628</td>\n",
       "      <td>20210315</td>\n",
       "    </tr>\n",
       "    <tr>\n",
       "      <th>4</th>\n",
       "      <td>sl67c027628</td>\n",
       "      <td>20200921</td>\n",
       "    </tr>\n",
       "  </tbody>\n",
       "</table>\n",
       "</div>"
      ],
      "text/plain": [
       "          차대번호      검사일자\n",
       "0  sl67c027628  20220908\n",
       "1  sl67c027628  20220308\n",
       "2  sl67c027628  20210917\n",
       "3  sl67c027628  20210315\n",
       "4  sl67c027628  20200921"
      ]
     },
     "execution_count": 13,
     "metadata": {},
     "output_type": "execute_result"
    }
   ],
   "source": [
    "df[['차대번호', '검사일자']].head()"
   ]
  },
  {
   "cell_type": "code",
   "execution_count": 14,
   "metadata": {},
   "outputs": [
    {
     "data": {
      "text/html": [
       "<div>\n",
       "<style scoped>\n",
       "    .dataframe tbody tr th:only-of-type {\n",
       "        vertical-align: middle;\n",
       "    }\n",
       "\n",
       "    .dataframe tbody tr th {\n",
       "        vertical-align: top;\n",
       "    }\n",
       "\n",
       "    .dataframe thead th {\n",
       "        text-align: right;\n",
       "    }\n",
       "</style>\n",
       "<table border=\"1\" class=\"dataframe\">\n",
       "  <thead>\n",
       "    <tr style=\"text-align: right;\">\n",
       "      <th></th>\n",
       "      <th>차대번호</th>\n",
       "      <th>검사일자</th>\n",
       "    </tr>\n",
       "  </thead>\n",
       "  <tbody>\n",
       "    <tr>\n",
       "      <th>10071303</th>\n",
       "      <td>00000000CN67C4065</td>\n",
       "      <td>20210604</td>\n",
       "    </tr>\n",
       "    <tr>\n",
       "      <th>10071304</th>\n",
       "      <td>00000000CN67C4065</td>\n",
       "      <td>20201221</td>\n",
       "    </tr>\n",
       "    <tr>\n",
       "      <th>10071305</th>\n",
       "      <td>00000000CN67C4065</td>\n",
       "      <td>20200709</td>\n",
       "    </tr>\n",
       "    <tr>\n",
       "      <th>10071306</th>\n",
       "      <td>00000000CN67C4065</td>\n",
       "      <td>20191206</td>\n",
       "    </tr>\n",
       "    <tr>\n",
       "      <th>10071307</th>\n",
       "      <td>00000000CN67C4065</td>\n",
       "      <td>20190621</td>\n",
       "    </tr>\n",
       "  </tbody>\n",
       "</table>\n",
       "</div>"
      ],
      "text/plain": [
       "                       차대번호      검사일자\n",
       "10071303  00000000CN67C4065  20210604\n",
       "10071304  00000000CN67C4065  20201221\n",
       "10071305  00000000CN67C4065  20200709\n",
       "10071306  00000000CN67C4065  20191206\n",
       "10071307  00000000CN67C4065  20190621"
      ]
     },
     "execution_count": 14,
     "metadata": {},
     "output_type": "execute_result"
    }
   ],
   "source": [
    "df[['차대번호', '검사일자']].tail()"
   ]
  },
  {
   "cell_type": "code",
   "execution_count": 15,
   "metadata": {},
   "outputs": [
    {
     "data": {
      "text/plain": [
       "(8806991, 57)"
      ]
     },
     "execution_count": 15,
     "metadata": {},
     "output_type": "execute_result"
    }
   ],
   "source": [
    "df1 = df.drop_duplicates(['차대번호', '검사일자']).reset_index(drop=True)\n",
    "df1.shape"
   ]
  },
  {
   "cell_type": "code",
   "execution_count": 18,
   "metadata": {},
   "outputs": [
    {
     "data": {
      "text/html": [
       "<div>\n",
       "<style scoped>\n",
       "    .dataframe tbody tr th:only-of-type {\n",
       "        vertical-align: middle;\n",
       "    }\n",
       "\n",
       "    .dataframe tbody tr th {\n",
       "        vertical-align: top;\n",
       "    }\n",
       "\n",
       "    .dataframe thead th {\n",
       "        text-align: right;\n",
       "    }\n",
       "</style>\n",
       "<table border=\"1\" class=\"dataframe\">\n",
       "  <thead>\n",
       "    <tr style=\"text-align: right;\">\n",
       "      <th></th>\n",
       "      <th>차대번호</th>\n",
       "      <th>검사일자</th>\n",
       "    </tr>\n",
       "  </thead>\n",
       "  <tbody>\n",
       "    <tr>\n",
       "      <th>0</th>\n",
       "      <td>sl67c027628</td>\n",
       "      <td>20220908</td>\n",
       "    </tr>\n",
       "    <tr>\n",
       "      <th>1</th>\n",
       "      <td>sl67c027628</td>\n",
       "      <td>20220308</td>\n",
       "    </tr>\n",
       "    <tr>\n",
       "      <th>2</th>\n",
       "      <td>sl67c027628</td>\n",
       "      <td>20210917</td>\n",
       "    </tr>\n",
       "    <tr>\n",
       "      <th>3</th>\n",
       "      <td>sl67c027628</td>\n",
       "      <td>20210315</td>\n",
       "    </tr>\n",
       "    <tr>\n",
       "      <th>4</th>\n",
       "      <td>sl67c027628</td>\n",
       "      <td>20200921</td>\n",
       "    </tr>\n",
       "  </tbody>\n",
       "</table>\n",
       "</div>"
      ],
      "text/plain": [
       "          차대번호      검사일자\n",
       "0  sl67c027628  20220908\n",
       "1  sl67c027628  20220308\n",
       "2  sl67c027628  20210917\n",
       "3  sl67c027628  20210315\n",
       "4  sl67c027628  20200921"
      ]
     },
     "execution_count": 18,
     "metadata": {},
     "output_type": "execute_result"
    }
   ],
   "source": [
    "df1[['차대번호', '검사일자']].head()"
   ]
  },
  {
   "cell_type": "code",
   "execution_count": 19,
   "metadata": {},
   "outputs": [
    {
     "data": {
      "text/html": [
       "<div>\n",
       "<style scoped>\n",
       "    .dataframe tbody tr th:only-of-type {\n",
       "        vertical-align: middle;\n",
       "    }\n",
       "\n",
       "    .dataframe tbody tr th {\n",
       "        vertical-align: top;\n",
       "    }\n",
       "\n",
       "    .dataframe thead th {\n",
       "        text-align: right;\n",
       "    }\n",
       "</style>\n",
       "<table border=\"1\" class=\"dataframe\">\n",
       "  <thead>\n",
       "    <tr style=\"text-align: right;\">\n",
       "      <th></th>\n",
       "      <th>차대번호</th>\n",
       "      <th>검사일자</th>\n",
       "    </tr>\n",
       "  </thead>\n",
       "  <tbody>\n",
       "    <tr>\n",
       "      <th>8806986</th>\n",
       "      <td>00000000CN67C4065</td>\n",
       "      <td>20210604</td>\n",
       "    </tr>\n",
       "    <tr>\n",
       "      <th>8806987</th>\n",
       "      <td>00000000CN67C4065</td>\n",
       "      <td>20201221</td>\n",
       "    </tr>\n",
       "    <tr>\n",
       "      <th>8806988</th>\n",
       "      <td>00000000CN67C4065</td>\n",
       "      <td>20200709</td>\n",
       "    </tr>\n",
       "    <tr>\n",
       "      <th>8806989</th>\n",
       "      <td>00000000CN67C4065</td>\n",
       "      <td>20191206</td>\n",
       "    </tr>\n",
       "    <tr>\n",
       "      <th>8806990</th>\n",
       "      <td>00000000CN67C4065</td>\n",
       "      <td>20190621</td>\n",
       "    </tr>\n",
       "  </tbody>\n",
       "</table>\n",
       "</div>"
      ],
      "text/plain": [
       "                      차대번호      검사일자\n",
       "8806986  00000000CN67C4065  20210604\n",
       "8806987  00000000CN67C4065  20201221\n",
       "8806988  00000000CN67C4065  20200709\n",
       "8806989  00000000CN67C4065  20191206\n",
       "8806990  00000000CN67C4065  20190621"
      ]
     },
     "execution_count": 19,
     "metadata": {},
     "output_type": "execute_result"
    }
   ],
   "source": [
    "df1[['차대번호', '검사일자']].tail()"
   ]
  },
  {
   "cell_type": "code",
   "execution_count": 20,
   "metadata": {},
   "outputs": [],
   "source": [
    "# about 3m 45.2s\n",
    "df1.to_csv(os.path.join(path, '4_5등급_검사일자중복제거.csv'), index=False)"
   ]
  }
 ],
 "metadata": {
  "kernelspec": {
   "display_name": "base",
   "language": "python",
   "name": "python3"
  },
  "language_info": {
   "codemirror_mode": {
    "name": "ipython",
    "version": 3
   },
   "file_extension": ".py",
   "mimetype": "text/x-python",
   "name": "python",
   "nbconvert_exporter": "python",
   "pygments_lexer": "ipython3",
   "version": "3.9.13"
  },
  "orig_nbformat": 4
 },
 "nbformat": 4,
 "nbformat_minor": 2
}
