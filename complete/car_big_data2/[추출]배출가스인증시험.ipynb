{
 "cells": [
  {
   "attachments": {},
   "cell_type": "markdown",
   "metadata": {},
   "source": [
    "# Library"
   ]
  },
  {
   "cell_type": "code",
   "execution_count": 1,
   "metadata": {},
   "outputs": [],
   "source": [
    "import pandas as pd\n",
    "import numpy as np\n",
    "import os\n",
    "from tqdm import tqdm"
   ]
  },
  {
   "cell_type": "code",
   "execution_count": 2,
   "metadata": {},
   "outputs": [],
   "source": [
    "# ODS 폴더 경로\n",
    "ods_fold = 'D:/data/big2/ODS'"
   ]
  },
  {
   "attachments": {},
   "cell_type": "markdown",
   "metadata": {},
   "source": [
    "## 배출가스인증시험"
   ]
  },
  {
   "attachments": {},
   "cell_type": "markdown",
   "metadata": {},
   "source": [
    "### columns"
   ]
  },
  {
   "cell_type": "code",
   "execution_count": 3,
   "metadata": {},
   "outputs": [
    {
     "data": {
      "text/plain": [
       "(23, 2)"
      ]
     },
     "execution_count": 3,
     "metadata": {},
     "output_type": "execute_result"
    }
   ],
   "source": [
    "name = 'CEG_EMIS_CERTI_TEST_MIG'\n",
    "file_name = f'[정제]{name}.xlsx'\n",
    "col_exc = pd.read_excel(f'analysis/ODSvsSTD/{file_name}', sheet_name='ODS_col')\n",
    "col_exc.shape"
   ]
  },
  {
   "cell_type": "code",
   "execution_count": 4,
   "metadata": {},
   "outputs": [
    {
     "name": "stdout",
     "output_type": "stream",
     "text": [
      "<class 'pandas.core.frame.DataFrame'>\n",
      "RangeIndex: 23 entries, 0 to 22\n",
      "Data columns (total 2 columns):\n",
      " #   Column  Non-Null Count  Dtype \n",
      "---  ------  --------------  ----- \n",
      " 0   컬럼      23 non-null     object\n",
      " 1   내용      23 non-null     object\n",
      "dtypes: object(2)\n",
      "memory usage: 496.0+ bytes\n"
     ]
    }
   ],
   "source": [
    "col_exc.info()"
   ]
  },
  {
   "cell_type": "code",
   "execution_count": 5,
   "metadata": {},
   "outputs": [
    {
     "data": {
      "text/plain": [
       "{'PN_PERM_STDR_VAL': '입자개수 허용 기준 값',\n",
       " 'NOX_PERM_STDR_VAL': '질소산화물 허용 기준 값',\n",
       " 'PM_PERM_STDR_VAL': '입자상물질 허용 기준 값',\n",
       " 'NOX_TEST_RSLT': '질소산화물 시험 결과',\n",
       " 'PN_TEST_RSLT': '입자개수 시험 결과',\n",
       " 'CO_PERM_STDR_VAL': '일산화탄소 허용 기준 값',\n",
       " 'CO_TEST_RSLT': '일산화탄소 시험 결과',\n",
       " 'EMIS_CRTCNO': '배출가스 인증번호',\n",
       " 'EMIS_CRTC_SNO': '배출가스 인증 일련번호',\n",
       " 'EMIS_TEST_MOD_VAL': '배출가스 시험 모드 값',\n",
       " 'HC_PERM_STDR_VAL': '탄화수소3 허용 기준 값',\n",
       " 'HC_NOX_PERM_STDR_VAL': '탄화수소3 질소산화물 허용 기준 값',\n",
       " 'HC_NOX_TEST_RSLT': '탄화수소3 질소산화물 시험 결과',\n",
       " 'HC_TEST_RSLT': '탄화수소3 시험 결과',\n",
       " 'NMHC_PERM_STDR_VAL': '탄화수소2 허용 기준 값',\n",
       " 'NMHC_TEST_RSLT': '탄화수소2 시험 결과',\n",
       " 'NMOG_PERM_STDR_VAL': '탄화수소1 허용 기준 값',\n",
       " 'NMOG_NOX_PERM_STDR_VAL': '탄화수소1 질소산화물 허용 기준 값',\n",
       " 'NMOG_NOX_TEST_RSLT': '탄화수소1 질소산화물 시험 결과',\n",
       " 'NMOG_TEST_RSLT': '탄화수소1 시험 결과',\n",
       " 'PM_TEST_RSLT': '입자상물질 시험 결과',\n",
       " 'RECP_FILE_NM': '미정',\n",
       " 'STRE_DE': '미정'}"
      ]
     },
     "execution_count": 5,
     "metadata": {},
     "output_type": "execute_result"
    }
   ],
   "source": [
    "# 필요한 컬럼만 추출\n",
    "col = col_exc['컬럼'].to_list()\n",
    "col_dict = {a:b for a, b in zip(col_exc['컬럼'], col_exc['내용'])}\n",
    "col_dict"
   ]
  },
  {
   "attachments": {},
   "cell_type": "markdown",
   "metadata": {},
   "source": [
    "### [로드] 배출가스인증시험"
   ]
  },
  {
   "cell_type": "code",
   "execution_count": 6,
   "metadata": {},
   "outputs": [
    {
     "name": "stdout",
     "output_type": "stream",
     "text": [
      "<class 'pandas.core.frame.DataFrame'>\n",
      "RangeIndex: 86406 entries, 0 to 86405\n",
      "Data columns (total 23 columns):\n",
      " #   Column                  Non-Null Count  Dtype  \n",
      "---  ------                  --------------  -----  \n",
      " 0   EMIS_CRTCNO             86406 non-null  object \n",
      " 1   EMIS_CRTC_SNO           86406 non-null  int64  \n",
      " 2   EMIS_TEST_MOD_VAL       85442 non-null  object \n",
      " 3   CO_PERM_STDR_VAL        16761 non-null  float64\n",
      " 4   CO_TEST_RSLT            17868 non-null  float64\n",
      " 5   NMOG_PERM_STDR_VAL      43 non-null     float64\n",
      " 6   NMOG_TEST_RSLT          3116 non-null   float64\n",
      " 7   NMHC_PERM_STDR_VAL      20 non-null     float64\n",
      " 8   NMHC_TEST_RSLT          268 non-null    float64\n",
      " 9   HC_PERM_STDR_VAL        12176 non-null  float64\n",
      " 10  HC_TEST_RSLT            12236 non-null  float64\n",
      " 11  NOX_PERM_STDR_VAL       13893 non-null  float64\n",
      " 12  NOX_TEST_RSLT           16856 non-null  float64\n",
      " 13  NMOG_NOX_PERM_STDR_VAL  4229 non-null   float64\n",
      " 14  NMOG_NOX_TEST_RSLT      4783 non-null   float64\n",
      " 15  HC_NOX_PERM_STDR_VAL    8513 non-null   float64\n",
      " 16  HC_NOX_TEST_RSLT        8548 non-null   float64\n",
      " 17  PM_PERM_STDR_VAL        2770 non-null   float64\n",
      " 18  PM_TEST_RSLT            6460 non-null   float64\n",
      " 19  PN_PERM_STDR_VAL        1978 non-null   float64\n",
      " 20  PN_TEST_RSLT            0 non-null      float64\n",
      " 21  RECP_FILE_NM            86406 non-null  object \n",
      " 22  STRE_DE                 86406 non-null  object \n",
      "dtypes: float64(18), int64(1), object(4)\n",
      "memory usage: 15.2+ MB\n"
     ]
    }
   ],
   "source": [
    "# about 1s\n",
    "file_name = f'ODS_{name}.csv'\n",
    "ins = pd.read_csv(os.path.join(ods_fold, file_name), usecols=col, low_memory=False)\n",
    "ins.info()"
   ]
  },
  {
   "cell_type": "code",
   "execution_count": 7,
   "metadata": {},
   "outputs": [
    {
     "name": "stdout",
     "output_type": "stream",
     "text": [
      "<class 'pandas.core.frame.DataFrame'>\n",
      "RangeIndex: 86406 entries, 0 to 86405\n",
      "Data columns (total 23 columns):\n",
      " #   Column                  Non-Null Count  Dtype  \n",
      "---  ------                  --------------  -----  \n",
      " 0   PN_PERM_STDR_VAL        1978 non-null   float64\n",
      " 1   NOX_PERM_STDR_VAL       13893 non-null  float64\n",
      " 2   PM_PERM_STDR_VAL        2770 non-null   float64\n",
      " 3   NOX_TEST_RSLT           16856 non-null  float64\n",
      " 4   PN_TEST_RSLT            0 non-null      float64\n",
      " 5   CO_PERM_STDR_VAL        16761 non-null  float64\n",
      " 6   CO_TEST_RSLT            17868 non-null  float64\n",
      " 7   EMIS_CRTCNO             86406 non-null  object \n",
      " 8   EMIS_CRTC_SNO           86406 non-null  int64  \n",
      " 9   EMIS_TEST_MOD_VAL       85442 non-null  object \n",
      " 10  HC_PERM_STDR_VAL        12176 non-null  float64\n",
      " 11  HC_NOX_PERM_STDR_VAL    8513 non-null   float64\n",
      " 12  HC_NOX_TEST_RSLT        8548 non-null   float64\n",
      " 13  HC_TEST_RSLT            12236 non-null  float64\n",
      " 14  NMHC_PERM_STDR_VAL      20 non-null     float64\n",
      " 15  NMHC_TEST_RSLT          268 non-null    float64\n",
      " 16  NMOG_PERM_STDR_VAL      43 non-null     float64\n",
      " 17  NMOG_NOX_PERM_STDR_VAL  4229 non-null   float64\n",
      " 18  NMOG_NOX_TEST_RSLT      4783 non-null   float64\n",
      " 19  NMOG_TEST_RSLT          3116 non-null   float64\n",
      " 20  PM_TEST_RSLT            6460 non-null   float64\n",
      " 21  RECP_FILE_NM            86406 non-null  object \n",
      " 22  STRE_DE                 86406 non-null  object \n",
      "dtypes: float64(18), int64(1), object(4)\n",
      "memory usage: 15.2+ MB\n"
     ]
    }
   ],
   "source": [
    "ins = ins[col]\n",
    "ins.info()"
   ]
  },
  {
   "cell_type": "code",
   "execution_count": 8,
   "metadata": {},
   "outputs": [],
   "source": [
    "ins.columns = [col_dict[x] for x in ins.columns]"
   ]
  },
  {
   "cell_type": "code",
   "execution_count": 9,
   "metadata": {},
   "outputs": [
    {
     "data": {
      "text/plain": [
       "Index(['입자개수 허용 기준 값', '질소산화물 허용 기준 값', '입자상물질 허용 기준 값', '질소산화물 시험 결과',\n",
       "       '입자개수 시험 결과', '일산화탄소 허용 기준 값', '일산화탄소 시험 결과', '배출가스 인증번호',\n",
       "       '배출가스 인증 일련번호', '배출가스 시험 모드 값', '탄화수소3 허용 기준 값', '탄화수소3 질소산화물 허용 기준 값',\n",
       "       '탄화수소3 질소산화물 시험 결과', '탄화수소3 시험 결과', '탄화수소2 허용 기준 값', '탄화수소2 시험 결과',\n",
       "       '탄화수소1 허용 기준 값', '탄화수소1 질소산화물 허용 기준 값', '탄화수소1 질소산화물 시험 결과',\n",
       "       '탄화수소1 시험 결과', '입자상물질 시험 결과', '미정', '미정'],\n",
       "      dtype='object')"
      ]
     },
     "execution_count": 9,
     "metadata": {},
     "output_type": "execute_result"
    }
   ],
   "source": [
    "ins.columns"
   ]
  },
  {
   "cell_type": "code",
   "execution_count": 10,
   "metadata": {},
   "outputs": [],
   "source": [
    "ins = ins[['입자개수 허용 기준 값', '질소산화물 허용 기준 값', '입자상물질 허용 기준 값', '질소산화물 시험 결과',\n",
    "       '입자개수 시험 결과', '일산화탄소 허용 기준 값', '일산화탄소 시험 결과', '배출가스 인증번호',\n",
    "       '배출가스 인증 일련번호', '배출가스 시험 모드 값', '탄화수소3 허용 기준 값', '탄화수소3 질소산화물 허용 기준 값',\n",
    "       '탄화수소3 질소산화물 시험 결과', '탄화수소3 시험 결과', '탄화수소2 허용 기준 값', '탄화수소2 시험 결과',\n",
    "       '탄화수소1 허용 기준 값', '탄화수소1 질소산화물 허용 기준 값', '탄화수소1 질소산화물 시험 결과',\n",
    "       '탄화수소1 시험 결과', '입자상물질 시험 결과']]"
   ]
  },
  {
   "cell_type": "code",
   "execution_count": 11,
   "metadata": {},
   "outputs": [],
   "source": [
    "ins.columns = ['입자개수허용기준값', '질소산화물허용기준값', '입자상물질허용기준값', '질소산화물시험결과',\n",
    "       '입자개수시험결과', '일산화탄소허용기준값', '일산화탄소시험결과', '배출가스인증번호',\n",
    "       '배출가스인증일련번호', '배출가스시험모드값', '탄화수소3허용기준값', '탄화수소3질소산화물허용기준값',\n",
    "       '탄화수소3질소산화물시험결과', '탄화수소3시험결과', '탄화수소2허용기준값', '탄화수소2시험결과',\n",
    "       '탄화수소1허용기준값', '탄화수소1질소산화물허용기준값', '탄화수소1질소산화물시험결과',\n",
    "       '탄화수소1시험결과', '입자상물질시험결과']"
   ]
  },
  {
   "attachments": {},
   "cell_type": "markdown",
   "metadata": {},
   "source": [
    "### [출력] 배출가스인증시험"
   ]
  },
  {
   "cell_type": "code",
   "execution_count": 12,
   "metadata": {},
   "outputs": [],
   "source": [
    "# about 1s\n",
    "ins.to_csv(os.path.join(ods_fold, f'[ODS]배출가스인증시험(2022.12.29).csv'), index=False)"
   ]
  },
  {
   "attachments": {},
   "cell_type": "markdown",
   "metadata": {},
   "source": [
    "# 코드 마지막"
   ]
  }
 ],
 "metadata": {
  "kernelspec": {
   "display_name": "base",
   "language": "python",
   "name": "python3"
  },
  "language_info": {
   "codemirror_mode": {
    "name": "ipython",
    "version": 3
   },
   "file_extension": ".py",
   "mimetype": "text/x-python",
   "name": "python",
   "nbconvert_exporter": "python",
   "pygments_lexer": "ipython3",
   "version": "3.9.13"
  },
  "orig_nbformat": 4,
  "vscode": {
   "interpreter": {
    "hash": "ad2bdc8ecc057115af97d19610ffacc2b4e99fae6737bb82f5d7fb13d2f2c186"
   }
  }
 },
 "nbformat": 4,
 "nbformat_minor": 2
}
