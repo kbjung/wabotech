{
 "cells": [
  {
   "attachments": {},
   "cell_type": "markdown",
   "metadata": {},
   "source": [
    "# 라이브러리"
   ]
  },
  {
   "cell_type": "code",
   "execution_count": 1,
   "metadata": {},
   "outputs": [],
   "source": [
    "import pandas as pd\n",
    "import os\n",
    "import numpy as np"
   ]
  },
  {
   "attachments": {},
   "cell_type": "markdown",
   "metadata": {},
   "source": [
    "## 파일 경로"
   ]
  },
  {
   "cell_type": "code",
   "execution_count": 2,
   "metadata": {},
   "outputs": [],
   "source": [
    "# file path(pandas)\n",
    "\n",
    "# ODS : D:/과업/[한국환경공단]자동차_환경_빅데이터_구축_2차/data/ODS\n",
    "\n",
    "ods_path = 'D:/과업/[한국환경공단]자동차_환경_빅데이터_구축_2차/data/ODS'"
   ]
  },
  {
   "attachments": {},
   "cell_type": "markdown",
   "metadata": {},
   "source": [
    "## [로드]"
   ]
  },
  {
   "cell_type": "code",
   "execution_count": 6,
   "metadata": {},
   "outputs": [
    {
     "ename": "ParserError",
     "evalue": "Error tokenizing data. C error: out of memory",
     "output_type": "error",
     "traceback": [
      "\u001b[1;31m---------------------------------------------------------------------------\u001b[0m",
      "\u001b[1;31mParserError\u001b[0m                               Traceback (most recent call last)",
      "\u001b[1;32m~\\AppData\\Local\\Temp\\ipykernel_17124\\1969714906.py\u001b[0m in \u001b[0;36m<module>\u001b[1;34m\u001b[0m\n\u001b[0;32m      4\u001b[0m \u001b[1;33m\u001b[0m\u001b[0m\n\u001b[0;32m      5\u001b[0m \u001b[0mdf_list1\u001b[0m \u001b[1;33m=\u001b[0m \u001b[1;33m[\u001b[0m\u001b[1;33m]\u001b[0m\u001b[1;33m\u001b[0m\u001b[1;33m\u001b[0m\u001b[0m\n\u001b[1;32m----> 6\u001b[1;33m \u001b[1;32mfor\u001b[0m \u001b[0mone\u001b[0m \u001b[1;32min\u001b[0m \u001b[0mpd\u001b[0m\u001b[1;33m.\u001b[0m\u001b[0mread_csv\u001b[0m\u001b[1;33m(\u001b[0m\u001b[0mos\u001b[0m\u001b[1;33m.\u001b[0m\u001b[0mpath\u001b[0m\u001b[1;33m.\u001b[0m\u001b[0mjoin\u001b[0m\u001b[1;33m(\u001b[0m\u001b[0mods_path\u001b[0m\u001b[1;33m,\u001b[0m \u001b[1;34m'ODS_N_IS_ISSUE_DISCLOSURE_1.csv'\u001b[0m\u001b[1;33m)\u001b[0m\u001b[1;33m,\u001b[0m \u001b[0mlow_memory\u001b[0m\u001b[1;33m=\u001b[0m\u001b[1;32mFalse\u001b[0m\u001b[1;33m,\u001b[0m \u001b[0mchunksize\u001b[0m\u001b[1;33m=\u001b[0m\u001b[1;36m20000\u001b[0m\u001b[1;33m)\u001b[0m\u001b[1;33m:\u001b[0m \u001b[1;31m# 20 GB\u001b[0m\u001b[1;33m\u001b[0m\u001b[1;33m\u001b[0m\u001b[0m\n\u001b[0m\u001b[0;32m      7\u001b[0m     \u001b[0mdf_list1\u001b[0m\u001b[1;33m.\u001b[0m\u001b[0mappend\u001b[0m\u001b[1;33m(\u001b[0m\u001b[0mone\u001b[0m\u001b[1;33m)\u001b[0m\u001b[1;33m\u001b[0m\u001b[1;33m\u001b[0m\u001b[0m\n\u001b[0;32m      8\u001b[0m \u001b[0mods1\u001b[0m \u001b[1;33m=\u001b[0m \u001b[0mpd\u001b[0m\u001b[1;33m.\u001b[0m\u001b[0mconcat\u001b[0m\u001b[1;33m(\u001b[0m\u001b[0mdf_list1\u001b[0m\u001b[1;33m,\u001b[0m \u001b[0maxis\u001b[0m\u001b[1;33m=\u001b[0m\u001b[1;36m0\u001b[0m\u001b[1;33m)\u001b[0m\u001b[1;33m\u001b[0m\u001b[1;33m\u001b[0m\u001b[0m\n",
      "\u001b[1;32m~\\AppData\\Roaming\\Python\\Python39\\site-packages\\pandas\\io\\parsers\\readers.py\u001b[0m in \u001b[0;36m__next__\u001b[1;34m(self)\u001b[0m\n\u001b[0;32m   1696\u001b[0m     \u001b[1;32mdef\u001b[0m \u001b[0m__next__\u001b[0m\u001b[1;33m(\u001b[0m\u001b[0mself\u001b[0m\u001b[1;33m)\u001b[0m \u001b[1;33m->\u001b[0m \u001b[0mDataFrame\u001b[0m\u001b[1;33m:\u001b[0m\u001b[1;33m\u001b[0m\u001b[1;33m\u001b[0m\u001b[0m\n\u001b[0;32m   1697\u001b[0m         \u001b[1;32mtry\u001b[0m\u001b[1;33m:\u001b[0m\u001b[1;33m\u001b[0m\u001b[1;33m\u001b[0m\u001b[0m\n\u001b[1;32m-> 1698\u001b[1;33m             \u001b[1;32mreturn\u001b[0m \u001b[0mself\u001b[0m\u001b[1;33m.\u001b[0m\u001b[0mget_chunk\u001b[0m\u001b[1;33m(\u001b[0m\u001b[1;33m)\u001b[0m\u001b[1;33m\u001b[0m\u001b[1;33m\u001b[0m\u001b[0m\n\u001b[0m\u001b[0;32m   1699\u001b[0m         \u001b[1;32mexcept\u001b[0m \u001b[0mStopIteration\u001b[0m\u001b[1;33m:\u001b[0m\u001b[1;33m\u001b[0m\u001b[1;33m\u001b[0m\u001b[0m\n\u001b[0;32m   1700\u001b[0m             \u001b[0mself\u001b[0m\u001b[1;33m.\u001b[0m\u001b[0mclose\u001b[0m\u001b[1;33m(\u001b[0m\u001b[1;33m)\u001b[0m\u001b[1;33m\u001b[0m\u001b[1;33m\u001b[0m\u001b[0m\n",
      "\u001b[1;32m~\\AppData\\Roaming\\Python\\Python39\\site-packages\\pandas\\io\\parsers\\readers.py\u001b[0m in \u001b[0;36mget_chunk\u001b[1;34m(self, size)\u001b[0m\n\u001b[0;32m   1808\u001b[0m                 \u001b[1;32mraise\u001b[0m \u001b[0mStopIteration\u001b[0m\u001b[1;33m\u001b[0m\u001b[1;33m\u001b[0m\u001b[0m\n\u001b[0;32m   1809\u001b[0m             \u001b[0msize\u001b[0m \u001b[1;33m=\u001b[0m \u001b[0mmin\u001b[0m\u001b[1;33m(\u001b[0m\u001b[0msize\u001b[0m\u001b[1;33m,\u001b[0m \u001b[0mself\u001b[0m\u001b[1;33m.\u001b[0m\u001b[0mnrows\u001b[0m \u001b[1;33m-\u001b[0m \u001b[0mself\u001b[0m\u001b[1;33m.\u001b[0m\u001b[0m_currow\u001b[0m\u001b[1;33m)\u001b[0m\u001b[1;33m\u001b[0m\u001b[1;33m\u001b[0m\u001b[0m\n\u001b[1;32m-> 1810\u001b[1;33m         \u001b[1;32mreturn\u001b[0m \u001b[0mself\u001b[0m\u001b[1;33m.\u001b[0m\u001b[0mread\u001b[0m\u001b[1;33m(\u001b[0m\u001b[0mnrows\u001b[0m\u001b[1;33m=\u001b[0m\u001b[0msize\u001b[0m\u001b[1;33m)\u001b[0m\u001b[1;33m\u001b[0m\u001b[1;33m\u001b[0m\u001b[0m\n\u001b[0m\u001b[0;32m   1811\u001b[0m \u001b[1;33m\u001b[0m\u001b[0m\n\u001b[0;32m   1812\u001b[0m     \u001b[1;32mdef\u001b[0m \u001b[0m__enter__\u001b[0m\u001b[1;33m(\u001b[0m\u001b[0mself\u001b[0m\u001b[1;33m)\u001b[0m \u001b[1;33m->\u001b[0m \u001b[0mTextFileReader\u001b[0m\u001b[1;33m:\u001b[0m\u001b[1;33m\u001b[0m\u001b[1;33m\u001b[0m\u001b[0m\n",
      "\u001b[1;32m~\\AppData\\Roaming\\Python\\Python39\\site-packages\\pandas\\io\\parsers\\readers.py\u001b[0m in \u001b[0;36mread\u001b[1;34m(self, nrows)\u001b[0m\n\u001b[0;32m   1776\u001b[0m                     \u001b[0mcolumns\u001b[0m\u001b[1;33m,\u001b[0m\u001b[1;33m\u001b[0m\u001b[1;33m\u001b[0m\u001b[0m\n\u001b[0;32m   1777\u001b[0m                     \u001b[0mcol_dict\u001b[0m\u001b[1;33m,\u001b[0m\u001b[1;33m\u001b[0m\u001b[1;33m\u001b[0m\u001b[0m\n\u001b[1;32m-> 1778\u001b[1;33m                 \u001b[1;33m)\u001b[0m \u001b[1;33m=\u001b[0m \u001b[0mself\u001b[0m\u001b[1;33m.\u001b[0m\u001b[0m_engine\u001b[0m\u001b[1;33m.\u001b[0m\u001b[0mread\u001b[0m\u001b[1;33m(\u001b[0m  \u001b[1;31m# type: ignore[attr-defined]\u001b[0m\u001b[1;33m\u001b[0m\u001b[1;33m\u001b[0m\u001b[0m\n\u001b[0m\u001b[0;32m   1779\u001b[0m                     \u001b[0mnrows\u001b[0m\u001b[1;33m\u001b[0m\u001b[1;33m\u001b[0m\u001b[0m\n\u001b[0;32m   1780\u001b[0m                 )\n",
      "\u001b[1;32m~\\AppData\\Roaming\\Python\\Python39\\site-packages\\pandas\\io\\parsers\\c_parser_wrapper.py\u001b[0m in \u001b[0;36mread\u001b[1;34m(self, nrows)\u001b[0m\n\u001b[0;32m    233\u001b[0m \u001b[1;33m\u001b[0m\u001b[0m\n\u001b[0;32m    234\u001b[0m             \u001b[1;32melse\u001b[0m\u001b[1;33m:\u001b[0m\u001b[1;33m\u001b[0m\u001b[1;33m\u001b[0m\u001b[0m\n\u001b[1;32m--> 235\u001b[1;33m                 \u001b[0mdata\u001b[0m \u001b[1;33m=\u001b[0m \u001b[0mself\u001b[0m\u001b[1;33m.\u001b[0m\u001b[0m_reader\u001b[0m\u001b[1;33m.\u001b[0m\u001b[0mread\u001b[0m\u001b[1;33m(\u001b[0m\u001b[0mnrows\u001b[0m\u001b[1;33m)\u001b[0m\u001b[1;33m\u001b[0m\u001b[1;33m\u001b[0m\u001b[0m\n\u001b[0m\u001b[0;32m    236\u001b[0m         \u001b[1;32mexcept\u001b[0m \u001b[0mStopIteration\u001b[0m\u001b[1;33m:\u001b[0m\u001b[1;33m\u001b[0m\u001b[1;33m\u001b[0m\u001b[0m\n\u001b[0;32m    237\u001b[0m             \u001b[1;32mif\u001b[0m \u001b[0mself\u001b[0m\u001b[1;33m.\u001b[0m\u001b[0m_first_chunk\u001b[0m\u001b[1;33m:\u001b[0m\u001b[1;33m\u001b[0m\u001b[1;33m\u001b[0m\u001b[0m\n",
      "\u001b[1;32m~\\AppData\\Roaming\\Python\\Python39\\site-packages\\pandas\\_libs\\parsers.pyx\u001b[0m in \u001b[0;36mpandas._libs.parsers.TextReader.read\u001b[1;34m()\u001b[0m\n",
      "\u001b[1;32m~\\AppData\\Roaming\\Python\\Python39\\site-packages\\pandas\\_libs\\parsers.pyx\u001b[0m in \u001b[0;36mpandas._libs.parsers.TextReader._read_rows\u001b[1;34m()\u001b[0m\n",
      "\u001b[1;32m~\\AppData\\Roaming\\Python\\Python39\\site-packages\\pandas\\_libs\\parsers.pyx\u001b[0m in \u001b[0;36mpandas._libs.parsers.TextReader._tokenize_rows\u001b[1;34m()\u001b[0m\n",
      "\u001b[1;32m~\\AppData\\Roaming\\Python\\Python39\\site-packages\\pandas\\_libs\\parsers.pyx\u001b[0m in \u001b[0;36mpandas._libs.parsers.raise_parser_error\u001b[1;34m()\u001b[0m\n",
      "\u001b[1;31mParserError\u001b[0m: Error tokenizing data. C error: out of memory"
     ]
    }
   ],
   "source": [
    "# # about \n",
    "# # 파일 사이즈가 너무 커서 메모리 부족 오류 발생\n",
    "#     # chunksize로 한번에 불러오는 샘플 수 조절하여 메모리 절약\n",
    "\n",
    "# df_list1 = []\n",
    "# for one in pd.read_csv(os.path.join(ods_path, 'ODS_N_IS_ISSUE_DISCLOSURE_1.csv'), low_memory=False, chunksize=20000): # 20 GB\n",
    "#     df_list1.append(one)\n",
    "# ods1 = pd.concat(df_list1, axis=0)\n",
    "# del df_list1"
   ]
  },
  {
   "cell_type": "code",
   "execution_count": null,
   "metadata": {},
   "outputs": [],
   "source": [
    "# df_list2 = []\n",
    "# for one in pd.read_csv(os.path.join(ods_path, 'ODS_N_IS_ISSUE_DISCLOSURE_2.csv'), low_memory=False, chunksize=20000): # 30.4 GB\n",
    "#     df_list2.append(one)\n",
    "# ods2 = pd.concat(df_list2, axis=0)\n",
    "# del df_list2"
   ]
  },
  {
   "cell_type": "code",
   "execution_count": 3,
   "metadata": {},
   "outputs": [],
   "source": [
    "# about 20m -> error\n",
    "\n",
    "ods1 = pd.read_csv(os.path.join(ods_path, 'ODS_N_IS_ISSUE_DISCLOSURE_1.csv'), low_memory=False)\n",
    "ods2 = pd.read_csv(os.path.join(ods_path, 'ODS_N_IS_ISSUE_DISCLOSURE_2.csv'), low_memory=False)"
   ]
  },
  {
   "attachments": {},
   "cell_type": "markdown",
   "metadata": {},
   "source": [
    "## 파일 하나씩 불러오기"
   ]
  },
  {
   "cell_type": "code",
   "execution_count": 4,
   "metadata": {},
   "outputs": [],
   "source": [
    "# about 9m\n",
    "\n",
    "ods1 = pd.read_csv(os.path.join(ods_path, 'ODS_N_IS_ISSUE_DISCLOSURE_1.csv'), low_memory=False)"
   ]
  },
  {
   "cell_type": "code",
   "execution_count": 5,
   "metadata": {},
   "outputs": [
    {
     "data": {
      "text/plain": [
       "Index(['REGLT_NO', 'GNFD_NO', 'REG_SIDO_CD', 'REG_SIGNGU_CD', 'REGLT_AREA_CD',\n",
       "       'TFCLNE_ID', 'DISCL_DEHMS', 'VHMNO', 'VIN', 'VHRNO', 'FILE_NM',\n",
       "       'FILE_CURS_NM', 'ORG_FILE_CURS_NM', 'THUMB_FILE_CURS_NM',\n",
       "       'DTL_FILE_CURS_NM', 'REG_ID', 'REG_DT', 'EXCLU_REG_DT', 'RDCDVC_YN',\n",
       "       'BSN_YN', 'RWMR_YN', 'DSPN_YN', 'RQT_YN', 'UNDEVT_YN', 'SND_YN'],\n",
       "      dtype='object')"
      ]
     },
     "execution_count": 5,
     "metadata": {},
     "output_type": "execute_result"
    }
   ],
   "source": [
    "ods1.columns"
   ]
  },
  {
   "cell_type": "code",
   "execution_count": 6,
   "metadata": {},
   "outputs": [
    {
     "data": {
      "text/plain": [
       "(32271175, 25)"
      ]
     },
     "execution_count": 6,
     "metadata": {},
     "output_type": "execute_result"
    }
   ],
   "source": [
    "ods1.shape"
   ]
  },
  {
   "cell_type": "code",
   "execution_count": 7,
   "metadata": {},
   "outputs": [
    {
     "name": "stdout",
     "output_type": "stream",
     "text": [
      "<class 'pandas.core.frame.DataFrame'>\n",
      "RangeIndex: 32271175 entries, 0 to 32271174\n",
      "Data columns (total 25 columns):\n",
      " #   Column              Dtype \n",
      "---  ------              ----- \n",
      " 0   REGLT_NO            int64 \n",
      " 1   GNFD_NO             int64 \n",
      " 2   REG_SIDO_CD         int64 \n",
      " 3   REG_SIGNGU_CD       int64 \n",
      " 4   REGLT_AREA_CD       int64 \n",
      " 5   TFCLNE_ID           object\n",
      " 6   DISCL_DEHMS         int64 \n",
      " 7   VHMNO               object\n",
      " 8   VIN                 object\n",
      " 9   VHRNO               object\n",
      " 10  FILE_NM             object\n",
      " 11  FILE_CURS_NM        object\n",
      " 12  ORG_FILE_CURS_NM    object\n",
      " 13  THUMB_FILE_CURS_NM  object\n",
      " 14  DTL_FILE_CURS_NM    object\n",
      " 15  REG_ID              object\n",
      " 16  REG_DT              object\n",
      " 17  EXCLU_REG_DT        object\n",
      " 18  RDCDVC_YN           object\n",
      " 19  BSN_YN              object\n",
      " 20  RWMR_YN             object\n",
      " 21  DSPN_YN             object\n",
      " 22  RQT_YN              object\n",
      " 23  UNDEVT_YN           object\n",
      " 24  SND_YN              object\n",
      "dtypes: int64(6), object(19)\n",
      "memory usage: 6.0+ GB\n"
     ]
    }
   ],
   "source": [
    "ods1.info()"
   ]
  },
  {
   "cell_type": "code",
   "execution_count": 8,
   "metadata": {},
   "outputs": [
    {
     "data": {
      "text/plain": [
       "REGLT_NO                   0\n",
       "GNFD_NO                    0\n",
       "REG_SIDO_CD                0\n",
       "REG_SIGNGU_CD              0\n",
       "REGLT_AREA_CD              0\n",
       "TFCLNE_ID                  0\n",
       "DISCL_DEHMS                0\n",
       "VHMNO                      0\n",
       "VIN                        0\n",
       "VHRNO                      0\n",
       "FILE_NM                    0\n",
       "FILE_CURS_NM               0\n",
       "ORG_FILE_CURS_NM          24\n",
       "THUMB_FILE_CURS_NM     17599\n",
       "DTL_FILE_CURS_NM       17599\n",
       "REG_ID                     0\n",
       "REG_DT                     0\n",
       "EXCLU_REG_DT          220430\n",
       "RDCDVC_YN             220430\n",
       "BSN_YN                220430\n",
       "RWMR_YN               220430\n",
       "DSPN_YN               220430\n",
       "RQT_YN                220430\n",
       "UNDEVT_YN             220430\n",
       "SND_YN                     0\n",
       "dtype: int64"
      ]
     },
     "execution_count": 8,
     "metadata": {},
     "output_type": "execute_result"
    }
   ],
   "source": [
    "ods1.isnull().sum()"
   ]
  },
  {
   "cell_type": "code",
   "execution_count": 9,
   "metadata": {},
   "outputs": [
    {
     "data": {
      "text/html": [
       "<div>\n",
       "<style scoped>\n",
       "    .dataframe tbody tr th:only-of-type {\n",
       "        vertical-align: middle;\n",
       "    }\n",
       "\n",
       "    .dataframe tbody tr th {\n",
       "        vertical-align: top;\n",
       "    }\n",
       "\n",
       "    .dataframe thead th {\n",
       "        text-align: right;\n",
       "    }\n",
       "</style>\n",
       "<table border=\"1\" class=\"dataframe\">\n",
       "  <thead>\n",
       "    <tr style=\"text-align: right;\">\n",
       "      <th></th>\n",
       "      <th>REGLT_NO</th>\n",
       "      <th>GNFD_NO</th>\n",
       "      <th>REG_SIDO_CD</th>\n",
       "      <th>REG_SIGNGU_CD</th>\n",
       "      <th>REGLT_AREA_CD</th>\n",
       "      <th>DISCL_DEHMS</th>\n",
       "    </tr>\n",
       "  </thead>\n",
       "  <tbody>\n",
       "    <tr>\n",
       "      <th>count</th>\n",
       "      <td>3.227118e+07</td>\n",
       "      <td>3.227118e+07</td>\n",
       "      <td>3.227118e+07</td>\n",
       "      <td>3.227118e+07</td>\n",
       "      <td>3.227118e+07</td>\n",
       "      <td>3.227118e+07</td>\n",
       "    </tr>\n",
       "    <tr>\n",
       "      <th>mean</th>\n",
       "      <td>8.227695e+07</td>\n",
       "      <td>2.135604e+03</td>\n",
       "      <td>3.526393e+01</td>\n",
       "      <td>3.197524e+02</td>\n",
       "      <td>3.526036e+04</td>\n",
       "      <td>2.022099e+13</td>\n",
       "    </tr>\n",
       "    <tr>\n",
       "      <th>std</th>\n",
       "      <td>1.863628e+07</td>\n",
       "      <td>2.403785e+02</td>\n",
       "      <td>1.217507e+01</td>\n",
       "      <td>2.210675e+02</td>\n",
       "      <td>1.291545e+04</td>\n",
       "      <td>1.109729e+09</td>\n",
       "    </tr>\n",
       "    <tr>\n",
       "      <th>min</th>\n",
       "      <td>5.000000e+07</td>\n",
       "      <td>1.817000e+03</td>\n",
       "      <td>1.100000e+01</td>\n",
       "      <td>1.100000e+02</td>\n",
       "      <td>1.100000e+04</td>\n",
       "      <td>2.022043e+13</td>\n",
       "    </tr>\n",
       "    <tr>\n",
       "      <th>25%</th>\n",
       "      <td>6.613717e+07</td>\n",
       "      <td>1.911000e+03</td>\n",
       "      <td>2.800000e+01</td>\n",
       "      <td>1.400000e+02</td>\n",
       "      <td>2.800000e+04</td>\n",
       "      <td>2.022063e+13</td>\n",
       "    </tr>\n",
       "    <tr>\n",
       "      <th>50%</th>\n",
       "      <td>8.227493e+07</td>\n",
       "      <td>2.115000e+03</td>\n",
       "      <td>4.100000e+01</td>\n",
       "      <td>2.300000e+02</td>\n",
       "      <td>4.128000e+04</td>\n",
       "      <td>2.022091e+13</td>\n",
       "    </tr>\n",
       "    <tr>\n",
       "      <th>75%</th>\n",
       "      <td>9.841899e+07</td>\n",
       "      <td>2.328000e+03</td>\n",
       "      <td>4.600000e+01</td>\n",
       "      <td>4.500000e+02</td>\n",
       "      <td>4.677000e+04</td>\n",
       "      <td>2.022111e+13</td>\n",
       "    </tr>\n",
       "    <tr>\n",
       "      <th>max</th>\n",
       "      <td>1.145550e+08</td>\n",
       "      <td>2.666000e+03</td>\n",
       "      <td>5.000000e+01</td>\n",
       "      <td>9.400000e+02</td>\n",
       "      <td>5.013000e+04</td>\n",
       "      <td>2.023010e+13</td>\n",
       "    </tr>\n",
       "  </tbody>\n",
       "</table>\n",
       "</div>"
      ],
      "text/plain": [
       "           REGLT_NO       GNFD_NO   REG_SIDO_CD  REG_SIGNGU_CD  REGLT_AREA_CD  \\\n",
       "count  3.227118e+07  3.227118e+07  3.227118e+07   3.227118e+07   3.227118e+07   \n",
       "mean   8.227695e+07  2.135604e+03  3.526393e+01   3.197524e+02   3.526036e+04   \n",
       "std    1.863628e+07  2.403785e+02  1.217507e+01   2.210675e+02   1.291545e+04   \n",
       "min    5.000000e+07  1.817000e+03  1.100000e+01   1.100000e+02   1.100000e+04   \n",
       "25%    6.613717e+07  1.911000e+03  2.800000e+01   1.400000e+02   2.800000e+04   \n",
       "50%    8.227493e+07  2.115000e+03  4.100000e+01   2.300000e+02   4.128000e+04   \n",
       "75%    9.841899e+07  2.328000e+03  4.600000e+01   4.500000e+02   4.677000e+04   \n",
       "max    1.145550e+08  2.666000e+03  5.000000e+01   9.400000e+02   5.013000e+04   \n",
       "\n",
       "        DISCL_DEHMS  \n",
       "count  3.227118e+07  \n",
       "mean   2.022099e+13  \n",
       "std    1.109729e+09  \n",
       "min    2.022043e+13  \n",
       "25%    2.022063e+13  \n",
       "50%    2.022091e+13  \n",
       "75%    2.022111e+13  \n",
       "max    2.023010e+13  "
      ]
     },
     "execution_count": 9,
     "metadata": {},
     "output_type": "execute_result"
    }
   ],
   "source": [
    "ods1.describe()"
   ]
  },
  {
   "cell_type": "code",
   "execution_count": 13,
   "metadata": {},
   "outputs": [
    {
     "name": "stdout",
     "output_type": "stream",
     "text": [
      "REGLT_NO\n",
      "min : 50000004, max : 114555050\n",
      "\n",
      "GNFD_NO\n",
      "min : 1817, max : 2666\n",
      "\n",
      "REG_SIDO_CD\n",
      "min : 11, max : 50\n",
      "\n",
      "REG_SIGNGU_CD\n",
      "min : 110, max : 940\n",
      "\n",
      "REGLT_AREA_CD\n",
      "min : 11000, max : 50130\n",
      "\n",
      "TFCLNE_ID\n",
      "min : L11000003001, max : L50130022002\n",
      "\n",
      "DISCL_DEHMS\n",
      "min : 20220425161935, max : 20230104210000\n",
      "\n",
      "VHMNO\n",
      "min : 00000000CN67C4065-01, max : sl67c027628-01\n",
      "\n",
      "VIN\n",
      "min : 00000000CN67C4065, max : sl67c027628\n",
      "\n",
      "VHRNO\n",
      "min : 01가1007, max : 충북9라1052\n",
      "\n",
      "FILE_NM\n",
      "min : L11000003001_20220502_152412_18무4079.jpg, max : L50130022002_20230104_171317_40구1725.jpg\n",
      "\n",
      "FILE_CURS_NM\n",
      "min : /interface/density/meta/20220425/L41190002001_20220425_165631_02가1136.JPG, max : /interface/density/meta/20230104/L50130022002_20230104_171317_40구1725.jpg\n",
      "\n",
      "ORG_FILE_CURS_NM\n",
      "THUMB_FILE_CURS_NM\n",
      "DTL_FILE_CURS_NM\n",
      "REG_ID\n",
      "min : SYSTEM, max : SYSTEM\n",
      "\n",
      "REG_DT\n",
      "min : 22/05/02, max : 23/01/04\n",
      "\n",
      "EXCLU_REG_DT\n",
      "RDCDVC_YN\n",
      "BSN_YN\n",
      "RWMR_YN\n",
      "DSPN_YN\n",
      "RQT_YN\n",
      "UNDEVT_YN\n",
      "SND_YN\n",
      "min : N, max : Y\n",
      "\n"
     ]
    }
   ],
   "source": [
    "for one in ods1.columns:\n",
    "    try:\n",
    "        print(one)\n",
    "        print(f'min : {ods1[one].min()}, max : {ods1[one].max()}')\n",
    "        print()\n",
    "    except:\n",
    "        pass"
   ]
  },
  {
   "attachments": {},
   "cell_type": "markdown",
   "metadata": {},
   "source": [
    "### 메모리 최적화"
   ]
  },
  {
   "cell_type": "code",
   "execution_count": null,
   "metadata": {},
   "outputs": [],
   "source": [
    "# REGLT_NO\n",
    "# min : 50000004, max : 114555050\n",
    "# => int32\n",
    "\n",
    "# GNFD_NO\n",
    "# min : 1817, max : 2666\n",
    "# => int16\n",
    "\n",
    "# REG_SIDO_CD\n",
    "# min : 11, max : 50\n",
    "# => int8\n",
    "\n",
    "# REG_SIGNGU_CD\n",
    "# min : 110, max : 940\n",
    "# => int16\n",
    "\n",
    "# REGLT_AREA_CD\n",
    "# min : 11000, max : 50130\n",
    "# => unit16\n",
    "\n",
    "# DISCL_DEHMS\n",
    "# min : 20220425161935, max : 20230104210000\n",
    "# => int64(same)"
   ]
  },
  {
   "cell_type": "code",
   "execution_count": 14,
   "metadata": {},
   "outputs": [
    {
     "name": "stdout",
     "output_type": "stream",
     "text": [
      "<class 'pandas.core.frame.DataFrame'>\n",
      "RangeIndex: 32271175 entries, 0 to 32271174\n",
      "Data columns (total 25 columns):\n",
      " #   Column              Dtype \n",
      "---  ------              ----- \n",
      " 0   REGLT_NO            int64 \n",
      " 1   GNFD_NO             int64 \n",
      " 2   REG_SIDO_CD         int64 \n",
      " 3   REG_SIGNGU_CD       int64 \n",
      " 4   REGLT_AREA_CD       int64 \n",
      " 5   TFCLNE_ID           object\n",
      " 6   DISCL_DEHMS         int64 \n",
      " 7   VHMNO               object\n",
      " 8   VIN                 object\n",
      " 9   VHRNO               object\n",
      " 10  FILE_NM             object\n",
      " 11  FILE_CURS_NM        object\n",
      " 12  ORG_FILE_CURS_NM    object\n",
      " 13  THUMB_FILE_CURS_NM  object\n",
      " 14  DTL_FILE_CURS_NM    object\n",
      " 15  REG_ID              object\n",
      " 16  REG_DT              object\n",
      " 17  EXCLU_REG_DT        object\n",
      " 18  RDCDVC_YN           object\n",
      " 19  BSN_YN              object\n",
      " 20  RWMR_YN             object\n",
      " 21  DSPN_YN             object\n",
      " 22  RQT_YN              object\n",
      " 23  UNDEVT_YN           object\n",
      " 24  SND_YN              object\n",
      "dtypes: int64(6), object(19)\n",
      "memory usage: 6.0+ GB\n"
     ]
    }
   ],
   "source": [
    "ods1.info()\n",
    "# memory usage: 6.0+ GB"
   ]
  },
  {
   "cell_type": "code",
   "execution_count": 15,
   "metadata": {},
   "outputs": [],
   "source": [
    "ods1['REGLT_NO'] = ods1['REGLT_NO'].astype('int32')\n",
    "ods1['GNFD_NO'] = ods1['GNFD_NO'].astype('int16')\n",
    "ods1['REGLT_NO'] = ods1['REGLT_NO'].astype('int8')\n",
    "ods1['REGLT_NO'] = ods1['REGLT_NO'].astype('int16')\n",
    "ods1['REGLT_NO'] = ods1['REGLT_NO'].astype('uint16')"
   ]
  },
  {
   "cell_type": "code",
   "execution_count": 16,
   "metadata": {},
   "outputs": [
    {
     "name": "stdout",
     "output_type": "stream",
     "text": [
      "<class 'pandas.core.frame.DataFrame'>\n",
      "RangeIndex: 32271175 entries, 0 to 32271174\n",
      "Data columns (total 25 columns):\n",
      " #   Column              Dtype \n",
      "---  ------              ----- \n",
      " 0   REGLT_NO            uint16\n",
      " 1   GNFD_NO             int16 \n",
      " 2   REG_SIDO_CD         int64 \n",
      " 3   REG_SIGNGU_CD       int64 \n",
      " 4   REGLT_AREA_CD       int64 \n",
      " 5   TFCLNE_ID           object\n",
      " 6   DISCL_DEHMS         int64 \n",
      " 7   VHMNO               object\n",
      " 8   VIN                 object\n",
      " 9   VHRNO               object\n",
      " 10  FILE_NM             object\n",
      " 11  FILE_CURS_NM        object\n",
      " 12  ORG_FILE_CURS_NM    object\n",
      " 13  THUMB_FILE_CURS_NM  object\n",
      " 14  DTL_FILE_CURS_NM    object\n",
      " 15  REG_ID              object\n",
      " 16  REG_DT              object\n",
      " 17  EXCLU_REG_DT        object\n",
      " 18  RDCDVC_YN           object\n",
      " 19  BSN_YN              object\n",
      " 20  RWMR_YN             object\n",
      " 21  DSPN_YN             object\n",
      " 22  RQT_YN              object\n",
      " 23  UNDEVT_YN           object\n",
      " 24  SND_YN              object\n",
      "dtypes: int16(1), int64(4), object(19), uint16(1)\n",
      "memory usage: 5.7+ GB\n"
     ]
    }
   ],
   "source": [
    "ods1.info()\n",
    "# memory usage: 5.7+ GB"
   ]
  },
  {
   "cell_type": "code",
   "execution_count": null,
   "metadata": {},
   "outputs": [],
   "source": [
    "#  0   REGLT_NO            uint16\n",
    "#  1   GNFD_NO             int16 \n",
    "#  2   REG_SIDO_CD         int64 \n",
    "#  3   REG_SIGNGU_CD       int64 \n",
    "#  4   REGLT_AREA_CD       int64 \n",
    "#  5   TFCLNE_ID           object\n",
    "#  6   DISCL_DEHMS         int64 \n",
    "#  7   VHMNO               object\n",
    "#  8   VIN                 object\n",
    "#  9   VHRNO               object\n",
    "#  10  FILE_NM             object\n",
    "#  11  FILE_CURS_NM        object\n",
    "#  12  ORG_FILE_CURS_NM    object\n",
    "#  13  THUMB_FILE_CURS_NM  object\n",
    "#  14  DTL_FILE_CURS_NM    object\n",
    "#  15  REG_ID              object\n",
    "#  16  REG_DT              object\n",
    "#  17  EXCLU_REG_DT        object\n",
    "#  18  RDCDVC_YN           object\n",
    "#  19  BSN_YN              object\n",
    "#  20  RWMR_YN             object\n",
    "#  21  DSPN_YN             object\n",
    "#  22  RQT_YN              object\n",
    "#  23  UNDEVT_YN           object\n",
    "#  24  SND_YN              object"
   ]
  },
  {
   "cell_type": "code",
   "execution_count": 5,
   "metadata": {},
   "outputs": [],
   "source": [
    "dtypes = {\n",
    "    'REGLT_NO':'uint16', \n",
    "    'GNFD_NO':'int16', \n",
    "    'REG_SIDO_CD':'int64', \n",
    "    'REG_SIGNGU_CD':'int64', \n",
    "    'REGLT_AREA_CD':'int64', \n",
    "    'TFCLNE_ID':'str', \n",
    "    'DISCL_DEHMS':'int64', \n",
    "    'VHMNO':'str', \n",
    "    'VIN':'str', \n",
    "    'VHRNO':'str',\n",
    "    'FILE_NM':'str',\n",
    "    'FILE_CURS_NM':'str',\n",
    "    'ORG_FILE_CURS_NM':'str',\n",
    "    'THUMB_FILE_CURS_NM':'str',\n",
    "    'DTL_FILE_CURS_NM':'str',\n",
    "    'REG_ID':'str',\n",
    "    'REG_DT':'str',\n",
    "    'EXCLU_REG_DT':'str',\n",
    "    'RDCDVC_YN':'str',\n",
    "    'BSN_YN':'str',\n",
    "    'RWMR_YN':'str',\n",
    "    'DSPN_YN':'str',\n",
    "    'RQT_YN':'str',\n",
    "    'UNDEVT_YN':'str',\n",
    "    'SND_YN':'str',\n",
    "    }"
   ]
  },
  {
   "cell_type": "code",
   "execution_count": 6,
   "metadata": {},
   "outputs": [
    {
     "name": "stdout",
     "output_type": "stream",
     "text": [
      "<class 'pandas.core.frame.DataFrame'>\n",
      "RangeIndex: 32271175 entries, 0 to 32271174\n",
      "Data columns (total 25 columns):\n",
      " #   Column              Dtype \n",
      "---  ------              ----- \n",
      " 0   REGLT_NO            uint16\n",
      " 1   GNFD_NO             int16 \n",
      " 2   REG_SIDO_CD         int64 \n",
      " 3   REG_SIGNGU_CD       int64 \n",
      " 4   REGLT_AREA_CD       int64 \n",
      " 5   TFCLNE_ID           object\n",
      " 6   DISCL_DEHMS         int64 \n",
      " 7   VHMNO               object\n",
      " 8   VIN                 object\n",
      " 9   VHRNO               object\n",
      " 10  FILE_NM             object\n",
      " 11  FILE_CURS_NM        object\n",
      " 12  ORG_FILE_CURS_NM    object\n",
      " 13  THUMB_FILE_CURS_NM  object\n",
      " 14  DTL_FILE_CURS_NM    object\n",
      " 15  REG_ID              object\n",
      " 16  REG_DT              object\n",
      " 17  EXCLU_REG_DT        object\n",
      " 18  RDCDVC_YN           object\n",
      " 19  BSN_YN              object\n",
      " 20  RWMR_YN             object\n",
      " 21  DSPN_YN             object\n",
      " 22  RQT_YN              object\n",
      " 23  UNDEVT_YN           object\n",
      " 24  SND_YN              object\n",
      "dtypes: int16(1), int64(4), object(19), uint16(1)\n",
      "memory usage: 5.7+ GB\n"
     ]
    }
   ],
   "source": [
    "# about 9-10m\n",
    "# about 38 GB\n",
    "\n",
    "ods1 = pd.read_csv(os.path.join(ods_path, 'ODS_N_IS_ISSUE_DISCLOSURE_1.csv'), low_memory=False, dtype=dtypes)\n",
    "ods1.info()"
   ]
  },
  {
   "cell_type": "code",
   "execution_count": null,
   "metadata": {},
   "outputs": [],
   "source": []
  },
  {
   "cell_type": "code",
   "execution_count": null,
   "metadata": {},
   "outputs": [],
   "source": []
  },
  {
   "attachments": {},
   "cell_type": "markdown",
   "metadata": {},
   "source": [
    "## [출력] 병합 파일"
   ]
  },
  {
   "cell_type": "code",
   "execution_count": null,
   "metadata": {},
   "outputs": [],
   "source": [
    "total.to_csv(os.path.join(ods_path, 'ODS_N_IS_ISSUE_DISCLOSURE.csv'))"
   ]
  }
 ],
 "metadata": {
  "kernelspec": {
   "display_name": "base",
   "language": "python",
   "name": "python3"
  },
  "language_info": {
   "codemirror_mode": {
    "name": "ipython",
    "version": 3
   },
   "file_extension": ".py",
   "mimetype": "text/x-python",
   "name": "python",
   "nbconvert_exporter": "python",
   "pygments_lexer": "ipython3",
   "version": "3.9.13"
  },
  "orig_nbformat": 4,
  "vscode": {
   "interpreter": {
    "hash": "ad2bdc8ecc057115af97d19610ffacc2b4e99fae6737bb82f5d7fb13d2f2c186"
   }
  }
 },
 "nbformat": 4,
 "nbformat_minor": 2
}
