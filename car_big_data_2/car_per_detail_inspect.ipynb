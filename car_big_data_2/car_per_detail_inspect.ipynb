{
 "cells": [
  {
   "attachments": {},
   "cell_type": "markdown",
   "metadata": {},
   "source": [
    "# 정밀검사"
   ]
  },
  {
   "attachments": {},
   "cell_type": "markdown",
   "metadata": {},
   "source": [
    "# Library"
   ]
  },
  {
   "cell_type": "code",
   "execution_count": 1,
   "metadata": {},
   "outputs": [],
   "source": [
    "import pandas as pd\n",
    "import numpy as np\n",
    "from tqdm import tqdm\n",
    "import re"
   ]
  },
  {
   "cell_type": "code",
   "execution_count": 2,
   "metadata": {},
   "outputs": [
    {
     "name": "stdout",
     "output_type": "stream",
     "text": [
      "<class 'pandas.core.frame.DataFrame'>\n",
      "RangeIndex: 75 entries, 0 to 74\n",
      "Data columns (total 1 columns):\n",
      " #   Column  Non-Null Count  Dtype \n",
      "---  ------  --------------  ----- \n",
      " 0   col     75 non-null     object\n",
      "dtypes: object(1)\n",
      "memory usage: 728.0+ bytes\n"
     ]
    }
   ],
   "source": [
    "col = pd.read_excel('data/220819_정밀검사_컬럼명.xlsx')\n",
    "col.info()"
   ]
  },
  {
   "cell_type": "code",
   "execution_count": 3,
   "metadata": {},
   "outputs": [
    {
     "data": {
      "text/plain": [
       "0       정밀검사소명\n",
       "1       정밀검사일자\n",
       "2       정밀검사종류\n",
       "3     정밀검사접수번호\n",
       "4         차량번호\n",
       "        ...   \n",
       "70        삭제구분\n",
       "71       삭제사유1\n",
       "72       삭제사유2\n",
       "73       삭제사유3\n",
       "74       삭제사유4\n",
       "Name: col, Length: 75, dtype: object"
      ]
     },
     "execution_count": 3,
     "metadata": {},
     "output_type": "execute_result"
    }
   ],
   "source": [
    "col['col']"
   ]
  },
  {
   "cell_type": "code",
   "execution_count": 4,
   "metadata": {},
   "outputs": [
    {
     "name": "stderr",
     "output_type": "stream",
     "text": [
      "C:\\Users\\kbjung\\AppData\\Local\\Temp\\ipykernel_18180\\1084732681.py:1: DtypeWarning: Columns (12,72,73) have mixed types. Specify dtype option on import or set low_memory=False.\n",
      "  df = pd.read_table('data/220819_정밀검사.txt', names=col['col'], encoding='cp949')\n"
     ]
    },
    {
     "name": "stdout",
     "output_type": "stream",
     "text": [
      "<class 'pandas.core.frame.DataFrame'>\n",
      "RangeIndex: 1444208 entries, 0 to 1444207\n",
      "Data columns (total 75 columns):\n",
      " #   Column     Non-Null Count    Dtype  \n",
      "---  ------     --------------    -----  \n",
      " 0   정밀검사소명     1444208 non-null  object \n",
      " 1   정밀검사일자     1444208 non-null  int64  \n",
      " 2   정밀검사종류     1444208 non-null  object \n",
      " 3   정밀검사접수번호   1444208 non-null  object \n",
      " 4   차량번호       1444208 non-null  object \n",
      " 5   차대번호       1444208 non-null  object \n",
      " 6   차량형식번호     1444208 non-null  object \n",
      " 7   차명         1444208 non-null  object \n",
      " 8   차종         1444208 non-null  object \n",
      " 9   차량용도       1444208 non-null  object \n",
      " 10  차량연식       1444208 non-null  int64  \n",
      " 11  차량연료       1444208 non-null  object \n",
      " 12  주행거리       1444208 non-null  object \n",
      " 13  차량길이       1443935 non-null  float64\n",
      " 14  차량너비       1443935 non-null  float64\n",
      " 15  차량높이       1443935 non-null  float64\n",
      " 16  엔진형식       1444198 non-null  object \n",
      " 17  원동기배기량     1443935 non-null  float64\n",
      " 18  엔진출력       1444207 non-null  object \n",
      " 19  차량중량       1443935 non-null  float64\n",
      " 20  총중량        1443934 non-null  float64\n",
      " 21  정원         1443934 non-null  float64\n",
      " 22  비고         99302 non-null    object \n",
      " 23  최초등록일      1444208 non-null  int64  \n",
      " 24  정밀검사유효기간   1444208 non-null  int64  \n",
      " 25  관능검사판정     1444208 non-null  object \n",
      " 26  관능검사부적합내용  30228 non-null    object \n",
      " 27  정밀검사측정방법   1444208 non-null  object \n",
      " 28  무부하매연측정치1  1411554 non-null  float64\n",
      " 29  무부하매연허용치1  1411538 non-null  float64\n",
      " 30  무부하매연판정1   1411534 non-null  object \n",
      " 31  무부하매연측정치2  1074609 non-null  float64\n",
      " 32  무부하매연허용치2  1033948 non-null  float64\n",
      " 33  무부하매연판정2   802563 non-null   object \n",
      " 34  무부하매연측정치3  1016832 non-null  float64\n",
      " 35  무부하매연허용치3  1016822 non-null  float64\n",
      " 36  무부하매연판정3   774684 non-null   object \n",
      " 37  무부하매연측정치4  1016823 non-null  float64\n",
      " 38  무부하매연허용치4  1016813 non-null  float64\n",
      " 39  무부하매연판정4   774356 non-null   object \n",
      " 40  무부하매연측정치5  1016823 non-null  float64\n",
      " 41  무부하매연허용치5  1016813 non-null  float64\n",
      " 42  무부하매연판정5   774356 non-null   object \n",
      " 43  이산화탄소값     973592 non-null   float64\n",
      " 44  최대출력허용치    973588 non-null   float64\n",
      " 45  최대출력측정값    711699 non-null   object \n",
      " 46  산소값        1353635 non-null  float64\n",
      " 47  공기온도       397102 non-null   float64\n",
      " 48  공기압력       0 non-null        float64\n",
      " 49  정밀검사판정     1353635 non-null  float64\n",
      " 50  재검사기간      1359549 non-null  float64\n",
      " 51  정밀검사유효기간2  1359549 non-null  float64\n",
      " 52  관능검사등록자    1444208 non-null  object \n",
      " 53  정밀검사등록자    1444208 non-null  object \n",
      " 54  정밀검사소대표명   1444208 non-null  object \n",
      " 55  기타내용1      1443420 non-null  object \n",
      " 56  기타내용2      1411095 non-null  object \n",
      " 57  기타내용3      1311155 non-null  object \n",
      " 58  기타내용4      0 non-null        float64\n",
      " 59  기타내용5      0 non-null        float64\n",
      " 60  원본대장테이블    0 non-null        float64\n",
      " 61  정밀검사시간정보   0 non-null        float64\n",
      " 62  통합접수번호     0 non-null        float64\n",
      " 63  데이터생성일자    0 non-null        float64\n",
      " 64  무부하매연측정치6  1411554 non-null  object \n",
      " 65  무부하매연허용치6  1444208 non-null  object \n",
      " 66  무부하매연판정6   1444208 non-null  int64  \n",
      " 67  수신파일명      1444208 non-null  object \n",
      " 68  제작등록일자     1442382 non-null  float64\n",
      " 69  데이터구분      1444208 non-null  object \n",
      " 70  삭제구분       1444208 non-null  object \n",
      " 71  삭제사유1      0 non-null        float64\n",
      " 72  삭제사유2      7 non-null        object \n",
      " 73  삭제사유3      274 non-null      object \n",
      " 74  삭제사유4      0 non-null        float64\n",
      "dtypes: float64(34), int64(5), object(36)\n",
      "memory usage: 826.4+ MB\n"
     ]
    }
   ],
   "source": [
    "df = pd.read_table('data/220819_정밀검사.txt', names=col['col'], encoding='cp949')\n",
    "df.info()"
   ]
  },
  {
   "cell_type": "code",
   "execution_count": 5,
   "metadata": {},
   "outputs": [
    {
     "data": {
      "text/plain": [
       "Index(['정밀검사소명', '정밀검사일자', '정밀검사종류', '정밀검사접수번호', '차량번호', '차대번호', '차량형식번호',\n",
       "       '차명', '차종', '차량용도', '차량연식', '차량연료', '주행거리', '차량길이', '차량너비', '차량높이',\n",
       "       '엔진형식', '원동기배기량', '엔진출력', '차량중량', '총중량', '정원', '비고', '최초등록일',\n",
       "       '정밀검사유효기간', '관능검사판정', '관능검사부적합내용', '정밀검사측정방법', '무부하매연측정치1', '무부하매연허용치1',\n",
       "       '무부하매연판정1', '무부하매연측정치2', '무부하매연허용치2', '무부하매연판정2', '무부하매연측정치3',\n",
       "       '무부하매연허용치3', '무부하매연판정3', '무부하매연측정치4', '무부하매연허용치4', '무부하매연판정4',\n",
       "       '무부하매연측정치5', '무부하매연허용치5', '무부하매연판정5', '이산화탄소값', '최대출력허용치', '최대출력측정값',\n",
       "       '산소값', '공기온도', '공기압력', '정밀검사판정', '재검사기간', '정밀검사유효기간2', '관능검사등록자',\n",
       "       '정밀검사등록자', '정밀검사소대표명', '기타내용1', '기타내용2', '기타내용3', '기타내용4', '기타내용5',\n",
       "       '원본대장테이블', '정밀검사시간정보', '통합접수번호', '데이터생성일자', '무부하매연측정치6', '무부하매연허용치6',\n",
       "       '무부하매연판정6', '수신파일명', '제작등록일자', '데이터구분', '삭제구분', '삭제사유1', '삭제사유2',\n",
       "       '삭제사유3', '삭제사유4'],\n",
       "      dtype='object')"
      ]
     },
     "execution_count": 5,
     "metadata": {},
     "output_type": "execute_result"
    }
   ],
   "source": [
    "df.columns"
   ]
  },
  {
   "cell_type": "code",
   "execution_count": 6,
   "metadata": {},
   "outputs": [],
   "source": [
    "# csv 출력\n",
    "df.to_csv('data/220819_정기검사.csv', encoding='cp949', index=False)\n",
    "# 47.7s"
   ]
  },
  {
   "cell_type": "code",
   "execution_count": 7,
   "metadata": {},
   "outputs": [
    {
     "data": {
      "text/html": [
       "<div>\n",
       "<style scoped>\n",
       "    .dataframe tbody tr th:only-of-type {\n",
       "        vertical-align: middle;\n",
       "    }\n",
       "\n",
       "    .dataframe tbody tr th {\n",
       "        vertical-align: top;\n",
       "    }\n",
       "\n",
       "    .dataframe thead th {\n",
       "        text-align: right;\n",
       "    }\n",
       "</style>\n",
       "<table border=\"1\" class=\"dataframe\">\n",
       "  <thead>\n",
       "    <tr style=\"text-align: right;\">\n",
       "      <th></th>\n",
       "      <th>index</th>\n",
       "      <th>0</th>\n",
       "    </tr>\n",
       "  </thead>\n",
       "  <tbody>\n",
       "    <tr>\n",
       "      <th>0</th>\n",
       "      <td>정밀검사소명</td>\n",
       "      <td>0</td>\n",
       "    </tr>\n",
       "    <tr>\n",
       "      <th>1</th>\n",
       "      <td>정밀검사일자</td>\n",
       "      <td>0</td>\n",
       "    </tr>\n",
       "    <tr>\n",
       "      <th>2</th>\n",
       "      <td>정밀검사종류</td>\n",
       "      <td>0</td>\n",
       "    </tr>\n",
       "    <tr>\n",
       "      <th>3</th>\n",
       "      <td>정밀검사접수번호</td>\n",
       "      <td>0</td>\n",
       "    </tr>\n",
       "    <tr>\n",
       "      <th>4</th>\n",
       "      <td>차량번호</td>\n",
       "      <td>0</td>\n",
       "    </tr>\n",
       "  </tbody>\n",
       "</table>\n",
       "</div>"
      ],
      "text/plain": [
       "      index  0\n",
       "0    정밀검사소명  0\n",
       "1    정밀검사일자  0\n",
       "2    정밀검사종류  0\n",
       "3  정밀검사접수번호  0\n",
       "4      차량번호  0"
      ]
     },
     "execution_count": 7,
     "metadata": {},
     "output_type": "execute_result"
    }
   ],
   "source": [
    "info_df = df.isnull().sum().reset_index()\n",
    "info_df.head()"
   ]
  },
  {
   "cell_type": "code",
   "execution_count": 61,
   "metadata": {},
   "outputs": [
    {
     "data": {
      "text/plain": [
       "0    20080430.0\n",
       "1    20100410.0\n",
       "2    20081030.0\n",
       "3    20100415.0\n",
       "4    20020328.0\n",
       "Name: 제작등록일자, dtype: float64"
      ]
     },
     "execution_count": 61,
     "metadata": {},
     "output_type": "execute_result"
    }
   ],
   "source": [
    "df['제작등록일자'].head()"
   ]
  },
  {
   "attachments": {},
   "cell_type": "markdown",
   "metadata": {},
   "source": [
    "## 기본 확인"
   ]
  },
  {
   "cell_type": "code",
   "execution_count": null,
   "metadata": {},
   "outputs": [],
   "source": [
    "# null 값 있는 컬럼\n",
    "# 13\t차량길이\t273\n",
    "# 14\t차량너비\t273\n",
    "# 15\t차량높이\t273\n",
    "# 16\t엔진형식\t10\n",
    "# 17\t원동기배기량\t273\n",
    "# 18\t엔진출력\t1\n",
    "# 19\t차량중량\t273\n",
    "# 20\t총중량\t274\n",
    "# 21\t정원\t274\n",
    "# 22\t비고\t1344906\n",
    "# 26\t관능검사부적합내용\t1413980\n",
    "# 28\t무부하매연측정치1\t32654\n",
    "# 29\t무부하매연허용치1\t32670\n",
    "# 30\t무부하매연판정1\t32674\n",
    "# 31\t무부하매연측정치2\t369599\n",
    "# 32\t무부하매연허용치2\t410260\n",
    "# 33\t무부하매연판정2\t641645\n",
    "# 34\t무부하매연측정치3\t427376\n",
    "# 35\t무부하매연허용치3\t427386\n",
    "# 36\t무부하매연판정3\t669524\n",
    "# 37\t무부하매연측정치4\t427385\n",
    "# 38\t무부하매연허용치4\t427395\n",
    "# 39\t무부하매연판정4\t669852\n",
    "# 40\t무부하매연측정치5\t427385\n",
    "# 41\t무부하매연허용치5\t427395\n",
    "# 42\t무부하매연판정5\t669852\n",
    "# 43\t이산화탄소값\t470616\n",
    "# 44\t최대출력허용치\t470620\n",
    "# 45\t최대출력측정값\t732509\n",
    "# 46\t산소값\t90573\n",
    "# 47\t공기온도\t1047106\n",
    "# 48\t공기압력\t1444208\n",
    "# 49\t정밀검사판정\t90573\n",
    "# 50\t재검사기간\t84659\n",
    "# 51\t정밀검사유효기간2\t84659\n",
    "# 55\t기타내용1\t788\n",
    "# 56\t기타내용2\t33113\n",
    "# 57\t기타내용3\t133053\n",
    "# 58\t기타내용4\t1444208\n",
    "# 59\t기타내용5\t1444208\n",
    "# 60\t원본대장테이블\t1444208\n",
    "# 61\t정밀검사시간정보\t1444208\n",
    "# 62\t통합접수번호\t1444208\n",
    "# 63\t데이터생성일자\t1444208\n",
    "# 64\t무부하매연측정치6\t32654\n",
    "# 68\t제작등록일자\t1826\n",
    "# 71\t삭제사유1\t1444208\n",
    "# 72\t삭제사유2\t1444201\n",
    "# 73\t삭제사유3\t1443934\n",
    "# 74\t삭제사유4\t1444208"
   ]
  },
  {
   "cell_type": "code",
   "execution_count": 8,
   "metadata": {},
   "outputs": [
    {
     "data": {
      "text/html": [
       "<div>\n",
       "<style scoped>\n",
       "    .dataframe tbody tr th:only-of-type {\n",
       "        vertical-align: middle;\n",
       "    }\n",
       "\n",
       "    .dataframe tbody tr th {\n",
       "        vertical-align: top;\n",
       "    }\n",
       "\n",
       "    .dataframe thead th {\n",
       "        text-align: right;\n",
       "    }\n",
       "</style>\n",
       "<table border=\"1\" class=\"dataframe\">\n",
       "  <thead>\n",
       "    <tr style=\"text-align: right;\">\n",
       "      <th></th>\n",
       "      <th>index</th>\n",
       "      <th>0</th>\n",
       "    </tr>\n",
       "  </thead>\n",
       "  <tbody>\n",
       "    <tr>\n",
       "      <th>5</th>\n",
       "      <td>차대번호</td>\n",
       "      <td>0</td>\n",
       "    </tr>\n",
       "    <tr>\n",
       "      <th>6</th>\n",
       "      <td>차량형식번호</td>\n",
       "      <td>0</td>\n",
       "    </tr>\n",
       "    <tr>\n",
       "      <th>7</th>\n",
       "      <td>차명</td>\n",
       "      <td>0</td>\n",
       "    </tr>\n",
       "    <tr>\n",
       "      <th>8</th>\n",
       "      <td>차종</td>\n",
       "      <td>0</td>\n",
       "    </tr>\n",
       "    <tr>\n",
       "      <th>9</th>\n",
       "      <td>차량용도</td>\n",
       "      <td>0</td>\n",
       "    </tr>\n",
       "    <tr>\n",
       "      <th>10</th>\n",
       "      <td>차량연식</td>\n",
       "      <td>0</td>\n",
       "    </tr>\n",
       "    <tr>\n",
       "      <th>11</th>\n",
       "      <td>차량연료</td>\n",
       "      <td>0</td>\n",
       "    </tr>\n",
       "    <tr>\n",
       "      <th>12</th>\n",
       "      <td>주행거리</td>\n",
       "      <td>0</td>\n",
       "    </tr>\n",
       "    <tr>\n",
       "      <th>13</th>\n",
       "      <td>차량길이</td>\n",
       "      <td>273</td>\n",
       "    </tr>\n",
       "    <tr>\n",
       "      <th>14</th>\n",
       "      <td>차량너비</td>\n",
       "      <td>273</td>\n",
       "    </tr>\n",
       "  </tbody>\n",
       "</table>\n",
       "</div>"
      ],
      "text/plain": [
       "     index    0\n",
       "5     차대번호    0\n",
       "6   차량형식번호    0\n",
       "7       차명    0\n",
       "8       차종    0\n",
       "9     차량용도    0\n",
       "10    차량연식    0\n",
       "11    차량연료    0\n",
       "12    주행거리    0\n",
       "13    차량길이  273\n",
       "14    차량너비  273"
      ]
     },
     "execution_count": 8,
     "metadata": {},
     "output_type": "execute_result"
    }
   ],
   "source": [
    "info_df[5:15]"
   ]
  },
  {
   "cell_type": "code",
   "execution_count": 9,
   "metadata": {},
   "outputs": [
    {
     "data": {
      "text/html": [
       "<div>\n",
       "<style scoped>\n",
       "    .dataframe tbody tr th:only-of-type {\n",
       "        vertical-align: middle;\n",
       "    }\n",
       "\n",
       "    .dataframe tbody tr th {\n",
       "        vertical-align: top;\n",
       "    }\n",
       "\n",
       "    .dataframe thead th {\n",
       "        text-align: right;\n",
       "    }\n",
       "</style>\n",
       "<table border=\"1\" class=\"dataframe\">\n",
       "  <thead>\n",
       "    <tr style=\"text-align: right;\">\n",
       "      <th></th>\n",
       "      <th>index</th>\n",
       "      <th>0</th>\n",
       "    </tr>\n",
       "  </thead>\n",
       "  <tbody>\n",
       "    <tr>\n",
       "      <th>15</th>\n",
       "      <td>차량높이</td>\n",
       "      <td>273</td>\n",
       "    </tr>\n",
       "    <tr>\n",
       "      <th>16</th>\n",
       "      <td>엔진형식</td>\n",
       "      <td>10</td>\n",
       "    </tr>\n",
       "    <tr>\n",
       "      <th>17</th>\n",
       "      <td>원동기배기량</td>\n",
       "      <td>273</td>\n",
       "    </tr>\n",
       "    <tr>\n",
       "      <th>18</th>\n",
       "      <td>엔진출력</td>\n",
       "      <td>1</td>\n",
       "    </tr>\n",
       "    <tr>\n",
       "      <th>19</th>\n",
       "      <td>차량중량</td>\n",
       "      <td>273</td>\n",
       "    </tr>\n",
       "    <tr>\n",
       "      <th>20</th>\n",
       "      <td>총중량</td>\n",
       "      <td>274</td>\n",
       "    </tr>\n",
       "    <tr>\n",
       "      <th>21</th>\n",
       "      <td>정원</td>\n",
       "      <td>274</td>\n",
       "    </tr>\n",
       "    <tr>\n",
       "      <th>22</th>\n",
       "      <td>비고</td>\n",
       "      <td>1344906</td>\n",
       "    </tr>\n",
       "    <tr>\n",
       "      <th>23</th>\n",
       "      <td>최초등록일</td>\n",
       "      <td>0</td>\n",
       "    </tr>\n",
       "    <tr>\n",
       "      <th>24</th>\n",
       "      <td>정밀검사유효기간</td>\n",
       "      <td>0</td>\n",
       "    </tr>\n",
       "  </tbody>\n",
       "</table>\n",
       "</div>"
      ],
      "text/plain": [
       "       index        0\n",
       "15      차량높이      273\n",
       "16      엔진형식       10\n",
       "17    원동기배기량      273\n",
       "18      엔진출력        1\n",
       "19      차량중량      273\n",
       "20       총중량      274\n",
       "21        정원      274\n",
       "22        비고  1344906\n",
       "23     최초등록일        0\n",
       "24  정밀검사유효기간        0"
      ]
     },
     "execution_count": 9,
     "metadata": {},
     "output_type": "execute_result"
    }
   ],
   "source": [
    "info_df[15:25]"
   ]
  },
  {
   "cell_type": "code",
   "execution_count": 10,
   "metadata": {},
   "outputs": [
    {
     "data": {
      "text/html": [
       "<div>\n",
       "<style scoped>\n",
       "    .dataframe tbody tr th:only-of-type {\n",
       "        vertical-align: middle;\n",
       "    }\n",
       "\n",
       "    .dataframe tbody tr th {\n",
       "        vertical-align: top;\n",
       "    }\n",
       "\n",
       "    .dataframe thead th {\n",
       "        text-align: right;\n",
       "    }\n",
       "</style>\n",
       "<table border=\"1\" class=\"dataframe\">\n",
       "  <thead>\n",
       "    <tr style=\"text-align: right;\">\n",
       "      <th></th>\n",
       "      <th>index</th>\n",
       "      <th>0</th>\n",
       "    </tr>\n",
       "  </thead>\n",
       "  <tbody>\n",
       "    <tr>\n",
       "      <th>25</th>\n",
       "      <td>관능검사판정</td>\n",
       "      <td>0</td>\n",
       "    </tr>\n",
       "    <tr>\n",
       "      <th>26</th>\n",
       "      <td>관능검사부적합내용</td>\n",
       "      <td>1413980</td>\n",
       "    </tr>\n",
       "    <tr>\n",
       "      <th>27</th>\n",
       "      <td>정밀검사측정방법</td>\n",
       "      <td>0</td>\n",
       "    </tr>\n",
       "    <tr>\n",
       "      <th>28</th>\n",
       "      <td>무부하매연측정치1</td>\n",
       "      <td>32654</td>\n",
       "    </tr>\n",
       "    <tr>\n",
       "      <th>29</th>\n",
       "      <td>무부하매연허용치1</td>\n",
       "      <td>32670</td>\n",
       "    </tr>\n",
       "    <tr>\n",
       "      <th>30</th>\n",
       "      <td>무부하매연판정1</td>\n",
       "      <td>32674</td>\n",
       "    </tr>\n",
       "    <tr>\n",
       "      <th>31</th>\n",
       "      <td>무부하매연측정치2</td>\n",
       "      <td>369599</td>\n",
       "    </tr>\n",
       "    <tr>\n",
       "      <th>32</th>\n",
       "      <td>무부하매연허용치2</td>\n",
       "      <td>410260</td>\n",
       "    </tr>\n",
       "    <tr>\n",
       "      <th>33</th>\n",
       "      <td>무부하매연판정2</td>\n",
       "      <td>641645</td>\n",
       "    </tr>\n",
       "    <tr>\n",
       "      <th>34</th>\n",
       "      <td>무부하매연측정치3</td>\n",
       "      <td>427376</td>\n",
       "    </tr>\n",
       "  </tbody>\n",
       "</table>\n",
       "</div>"
      ],
      "text/plain": [
       "        index        0\n",
       "25     관능검사판정        0\n",
       "26  관능검사부적합내용  1413980\n",
       "27   정밀검사측정방법        0\n",
       "28  무부하매연측정치1    32654\n",
       "29  무부하매연허용치1    32670\n",
       "30   무부하매연판정1    32674\n",
       "31  무부하매연측정치2   369599\n",
       "32  무부하매연허용치2   410260\n",
       "33   무부하매연판정2   641645\n",
       "34  무부하매연측정치3   427376"
      ]
     },
     "execution_count": 10,
     "metadata": {},
     "output_type": "execute_result"
    }
   ],
   "source": [
    "info_df[25:35]"
   ]
  },
  {
   "cell_type": "code",
   "execution_count": 11,
   "metadata": {},
   "outputs": [
    {
     "data": {
      "text/html": [
       "<div>\n",
       "<style scoped>\n",
       "    .dataframe tbody tr th:only-of-type {\n",
       "        vertical-align: middle;\n",
       "    }\n",
       "\n",
       "    .dataframe tbody tr th {\n",
       "        vertical-align: top;\n",
       "    }\n",
       "\n",
       "    .dataframe thead th {\n",
       "        text-align: right;\n",
       "    }\n",
       "</style>\n",
       "<table border=\"1\" class=\"dataframe\">\n",
       "  <thead>\n",
       "    <tr style=\"text-align: right;\">\n",
       "      <th></th>\n",
       "      <th>index</th>\n",
       "      <th>0</th>\n",
       "    </tr>\n",
       "  </thead>\n",
       "  <tbody>\n",
       "    <tr>\n",
       "      <th>35</th>\n",
       "      <td>무부하매연허용치3</td>\n",
       "      <td>427386</td>\n",
       "    </tr>\n",
       "    <tr>\n",
       "      <th>36</th>\n",
       "      <td>무부하매연판정3</td>\n",
       "      <td>669524</td>\n",
       "    </tr>\n",
       "    <tr>\n",
       "      <th>37</th>\n",
       "      <td>무부하매연측정치4</td>\n",
       "      <td>427385</td>\n",
       "    </tr>\n",
       "    <tr>\n",
       "      <th>38</th>\n",
       "      <td>무부하매연허용치4</td>\n",
       "      <td>427395</td>\n",
       "    </tr>\n",
       "    <tr>\n",
       "      <th>39</th>\n",
       "      <td>무부하매연판정4</td>\n",
       "      <td>669852</td>\n",
       "    </tr>\n",
       "    <tr>\n",
       "      <th>40</th>\n",
       "      <td>무부하매연측정치5</td>\n",
       "      <td>427385</td>\n",
       "    </tr>\n",
       "    <tr>\n",
       "      <th>41</th>\n",
       "      <td>무부하매연허용치5</td>\n",
       "      <td>427395</td>\n",
       "    </tr>\n",
       "    <tr>\n",
       "      <th>42</th>\n",
       "      <td>무부하매연판정5</td>\n",
       "      <td>669852</td>\n",
       "    </tr>\n",
       "    <tr>\n",
       "      <th>43</th>\n",
       "      <td>이산화탄소값</td>\n",
       "      <td>470616</td>\n",
       "    </tr>\n",
       "    <tr>\n",
       "      <th>44</th>\n",
       "      <td>최대출력허용치</td>\n",
       "      <td>470620</td>\n",
       "    </tr>\n",
       "  </tbody>\n",
       "</table>\n",
       "</div>"
      ],
      "text/plain": [
       "        index       0\n",
       "35  무부하매연허용치3  427386\n",
       "36   무부하매연판정3  669524\n",
       "37  무부하매연측정치4  427385\n",
       "38  무부하매연허용치4  427395\n",
       "39   무부하매연판정4  669852\n",
       "40  무부하매연측정치5  427385\n",
       "41  무부하매연허용치5  427395\n",
       "42   무부하매연판정5  669852\n",
       "43     이산화탄소값  470616\n",
       "44    최대출력허용치  470620"
      ]
     },
     "execution_count": 11,
     "metadata": {},
     "output_type": "execute_result"
    }
   ],
   "source": [
    "info_df[35:45]"
   ]
  },
  {
   "cell_type": "code",
   "execution_count": 12,
   "metadata": {},
   "outputs": [
    {
     "data": {
      "text/html": [
       "<div>\n",
       "<style scoped>\n",
       "    .dataframe tbody tr th:only-of-type {\n",
       "        vertical-align: middle;\n",
       "    }\n",
       "\n",
       "    .dataframe tbody tr th {\n",
       "        vertical-align: top;\n",
       "    }\n",
       "\n",
       "    .dataframe thead th {\n",
       "        text-align: right;\n",
       "    }\n",
       "</style>\n",
       "<table border=\"1\" class=\"dataframe\">\n",
       "  <thead>\n",
       "    <tr style=\"text-align: right;\">\n",
       "      <th></th>\n",
       "      <th>index</th>\n",
       "      <th>0</th>\n",
       "    </tr>\n",
       "  </thead>\n",
       "  <tbody>\n",
       "    <tr>\n",
       "      <th>45</th>\n",
       "      <td>최대출력측정값</td>\n",
       "      <td>732509</td>\n",
       "    </tr>\n",
       "    <tr>\n",
       "      <th>46</th>\n",
       "      <td>산소값</td>\n",
       "      <td>90573</td>\n",
       "    </tr>\n",
       "    <tr>\n",
       "      <th>47</th>\n",
       "      <td>공기온도</td>\n",
       "      <td>1047106</td>\n",
       "    </tr>\n",
       "    <tr>\n",
       "      <th>48</th>\n",
       "      <td>공기압력</td>\n",
       "      <td>1444208</td>\n",
       "    </tr>\n",
       "    <tr>\n",
       "      <th>49</th>\n",
       "      <td>정밀검사판정</td>\n",
       "      <td>90573</td>\n",
       "    </tr>\n",
       "    <tr>\n",
       "      <th>50</th>\n",
       "      <td>재검사기간</td>\n",
       "      <td>84659</td>\n",
       "    </tr>\n",
       "    <tr>\n",
       "      <th>51</th>\n",
       "      <td>정밀검사유효기간2</td>\n",
       "      <td>84659</td>\n",
       "    </tr>\n",
       "    <tr>\n",
       "      <th>52</th>\n",
       "      <td>관능검사등록자</td>\n",
       "      <td>0</td>\n",
       "    </tr>\n",
       "    <tr>\n",
       "      <th>53</th>\n",
       "      <td>정밀검사등록자</td>\n",
       "      <td>0</td>\n",
       "    </tr>\n",
       "    <tr>\n",
       "      <th>54</th>\n",
       "      <td>정밀검사소대표명</td>\n",
       "      <td>0</td>\n",
       "    </tr>\n",
       "  </tbody>\n",
       "</table>\n",
       "</div>"
      ],
      "text/plain": [
       "        index        0\n",
       "45    최대출력측정값   732509\n",
       "46        산소값    90573\n",
       "47       공기온도  1047106\n",
       "48       공기압력  1444208\n",
       "49     정밀검사판정    90573\n",
       "50      재검사기간    84659\n",
       "51  정밀검사유효기간2    84659\n",
       "52    관능검사등록자        0\n",
       "53    정밀검사등록자        0\n",
       "54   정밀검사소대표명        0"
      ]
     },
     "execution_count": 12,
     "metadata": {},
     "output_type": "execute_result"
    }
   ],
   "source": [
    "info_df[45:55]"
   ]
  },
  {
   "cell_type": "code",
   "execution_count": 13,
   "metadata": {},
   "outputs": [
    {
     "data": {
      "text/html": [
       "<div>\n",
       "<style scoped>\n",
       "    .dataframe tbody tr th:only-of-type {\n",
       "        vertical-align: middle;\n",
       "    }\n",
       "\n",
       "    .dataframe tbody tr th {\n",
       "        vertical-align: top;\n",
       "    }\n",
       "\n",
       "    .dataframe thead th {\n",
       "        text-align: right;\n",
       "    }\n",
       "</style>\n",
       "<table border=\"1\" class=\"dataframe\">\n",
       "  <thead>\n",
       "    <tr style=\"text-align: right;\">\n",
       "      <th></th>\n",
       "      <th>index</th>\n",
       "      <th>0</th>\n",
       "    </tr>\n",
       "  </thead>\n",
       "  <tbody>\n",
       "    <tr>\n",
       "      <th>55</th>\n",
       "      <td>기타내용1</td>\n",
       "      <td>788</td>\n",
       "    </tr>\n",
       "    <tr>\n",
       "      <th>56</th>\n",
       "      <td>기타내용2</td>\n",
       "      <td>33113</td>\n",
       "    </tr>\n",
       "    <tr>\n",
       "      <th>57</th>\n",
       "      <td>기타내용3</td>\n",
       "      <td>133053</td>\n",
       "    </tr>\n",
       "    <tr>\n",
       "      <th>58</th>\n",
       "      <td>기타내용4</td>\n",
       "      <td>1444208</td>\n",
       "    </tr>\n",
       "    <tr>\n",
       "      <th>59</th>\n",
       "      <td>기타내용5</td>\n",
       "      <td>1444208</td>\n",
       "    </tr>\n",
       "    <tr>\n",
       "      <th>60</th>\n",
       "      <td>원본대장테이블</td>\n",
       "      <td>1444208</td>\n",
       "    </tr>\n",
       "    <tr>\n",
       "      <th>61</th>\n",
       "      <td>정밀검사시간정보</td>\n",
       "      <td>1444208</td>\n",
       "    </tr>\n",
       "    <tr>\n",
       "      <th>62</th>\n",
       "      <td>통합접수번호</td>\n",
       "      <td>1444208</td>\n",
       "    </tr>\n",
       "    <tr>\n",
       "      <th>63</th>\n",
       "      <td>데이터생성일자</td>\n",
       "      <td>1444208</td>\n",
       "    </tr>\n",
       "    <tr>\n",
       "      <th>64</th>\n",
       "      <td>무부하매연측정치6</td>\n",
       "      <td>32654</td>\n",
       "    </tr>\n",
       "    <tr>\n",
       "      <th>65</th>\n",
       "      <td>무부하매연허용치6</td>\n",
       "      <td>0</td>\n",
       "    </tr>\n",
       "    <tr>\n",
       "      <th>66</th>\n",
       "      <td>무부하매연판정6</td>\n",
       "      <td>0</td>\n",
       "    </tr>\n",
       "    <tr>\n",
       "      <th>67</th>\n",
       "      <td>수신파일명</td>\n",
       "      <td>0</td>\n",
       "    </tr>\n",
       "    <tr>\n",
       "      <th>68</th>\n",
       "      <td>제작등록일자</td>\n",
       "      <td>1826</td>\n",
       "    </tr>\n",
       "    <tr>\n",
       "      <th>69</th>\n",
       "      <td>데이터구분</td>\n",
       "      <td>0</td>\n",
       "    </tr>\n",
       "    <tr>\n",
       "      <th>70</th>\n",
       "      <td>삭제구분</td>\n",
       "      <td>0</td>\n",
       "    </tr>\n",
       "    <tr>\n",
       "      <th>71</th>\n",
       "      <td>삭제사유1</td>\n",
       "      <td>1444208</td>\n",
       "    </tr>\n",
       "    <tr>\n",
       "      <th>72</th>\n",
       "      <td>삭제사유2</td>\n",
       "      <td>1444201</td>\n",
       "    </tr>\n",
       "    <tr>\n",
       "      <th>73</th>\n",
       "      <td>삭제사유3</td>\n",
       "      <td>1443934</td>\n",
       "    </tr>\n",
       "    <tr>\n",
       "      <th>74</th>\n",
       "      <td>삭제사유4</td>\n",
       "      <td>1444208</td>\n",
       "    </tr>\n",
       "  </tbody>\n",
       "</table>\n",
       "</div>"
      ],
      "text/plain": [
       "        index        0\n",
       "55      기타내용1      788\n",
       "56      기타내용2    33113\n",
       "57      기타내용3   133053\n",
       "58      기타내용4  1444208\n",
       "59      기타내용5  1444208\n",
       "60    원본대장테이블  1444208\n",
       "61   정밀검사시간정보  1444208\n",
       "62     통합접수번호  1444208\n",
       "63    데이터생성일자  1444208\n",
       "64  무부하매연측정치6    32654\n",
       "65  무부하매연허용치6        0\n",
       "66   무부하매연판정6        0\n",
       "67      수신파일명        0\n",
       "68     제작등록일자     1826\n",
       "69      데이터구분        0\n",
       "70       삭제구분        0\n",
       "71      삭제사유1  1444208\n",
       "72      삭제사유2  1444201\n",
       "73      삭제사유3  1443934\n",
       "74      삭제사유4  1444208"
      ]
     },
     "execution_count": 13,
     "metadata": {},
     "output_type": "execute_result"
    }
   ],
   "source": [
    "info_df[55:]"
   ]
  },
  {
   "cell_type": "code",
   "execution_count": 14,
   "metadata": {},
   "outputs": [
    {
     "data": {
      "text/html": [
       "<div>\n",
       "<style scoped>\n",
       "    .dataframe tbody tr th:only-of-type {\n",
       "        vertical-align: middle;\n",
       "    }\n",
       "\n",
       "    .dataframe tbody tr th {\n",
       "        vertical-align: top;\n",
       "    }\n",
       "\n",
       "    .dataframe thead th {\n",
       "        text-align: right;\n",
       "    }\n",
       "</style>\n",
       "<table border=\"1\" class=\"dataframe\">\n",
       "  <thead>\n",
       "    <tr style=\"text-align: right;\">\n",
       "      <th></th>\n",
       "      <th>index</th>\n",
       "      <th>0</th>\n",
       "    </tr>\n",
       "  </thead>\n",
       "  <tbody>\n",
       "    <tr>\n",
       "      <th>13</th>\n",
       "      <td>차량길이</td>\n",
       "      <td>273</td>\n",
       "    </tr>\n",
       "    <tr>\n",
       "      <th>14</th>\n",
       "      <td>차량너비</td>\n",
       "      <td>273</td>\n",
       "    </tr>\n",
       "    <tr>\n",
       "      <th>15</th>\n",
       "      <td>차량높이</td>\n",
       "      <td>273</td>\n",
       "    </tr>\n",
       "    <tr>\n",
       "      <th>16</th>\n",
       "      <td>엔진형식</td>\n",
       "      <td>10</td>\n",
       "    </tr>\n",
       "    <tr>\n",
       "      <th>17</th>\n",
       "      <td>원동기배기량</td>\n",
       "      <td>273</td>\n",
       "    </tr>\n",
       "    <tr>\n",
       "      <th>18</th>\n",
       "      <td>엔진출력</td>\n",
       "      <td>1</td>\n",
       "    </tr>\n",
       "    <tr>\n",
       "      <th>19</th>\n",
       "      <td>차량중량</td>\n",
       "      <td>273</td>\n",
       "    </tr>\n",
       "    <tr>\n",
       "      <th>20</th>\n",
       "      <td>총중량</td>\n",
       "      <td>274</td>\n",
       "    </tr>\n",
       "    <tr>\n",
       "      <th>21</th>\n",
       "      <td>정원</td>\n",
       "      <td>274</td>\n",
       "    </tr>\n",
       "    <tr>\n",
       "      <th>22</th>\n",
       "      <td>비고</td>\n",
       "      <td>1344906</td>\n",
       "    </tr>\n",
       "    <tr>\n",
       "      <th>26</th>\n",
       "      <td>관능검사부적합내용</td>\n",
       "      <td>1413980</td>\n",
       "    </tr>\n",
       "    <tr>\n",
       "      <th>28</th>\n",
       "      <td>무부하매연측정치1</td>\n",
       "      <td>32654</td>\n",
       "    </tr>\n",
       "    <tr>\n",
       "      <th>29</th>\n",
       "      <td>무부하매연허용치1</td>\n",
       "      <td>32670</td>\n",
       "    </tr>\n",
       "    <tr>\n",
       "      <th>30</th>\n",
       "      <td>무부하매연판정1</td>\n",
       "      <td>32674</td>\n",
       "    </tr>\n",
       "    <tr>\n",
       "      <th>31</th>\n",
       "      <td>무부하매연측정치2</td>\n",
       "      <td>369599</td>\n",
       "    </tr>\n",
       "    <tr>\n",
       "      <th>32</th>\n",
       "      <td>무부하매연허용치2</td>\n",
       "      <td>410260</td>\n",
       "    </tr>\n",
       "    <tr>\n",
       "      <th>33</th>\n",
       "      <td>무부하매연판정2</td>\n",
       "      <td>641645</td>\n",
       "    </tr>\n",
       "    <tr>\n",
       "      <th>34</th>\n",
       "      <td>무부하매연측정치3</td>\n",
       "      <td>427376</td>\n",
       "    </tr>\n",
       "    <tr>\n",
       "      <th>35</th>\n",
       "      <td>무부하매연허용치3</td>\n",
       "      <td>427386</td>\n",
       "    </tr>\n",
       "    <tr>\n",
       "      <th>36</th>\n",
       "      <td>무부하매연판정3</td>\n",
       "      <td>669524</td>\n",
       "    </tr>\n",
       "    <tr>\n",
       "      <th>37</th>\n",
       "      <td>무부하매연측정치4</td>\n",
       "      <td>427385</td>\n",
       "    </tr>\n",
       "    <tr>\n",
       "      <th>38</th>\n",
       "      <td>무부하매연허용치4</td>\n",
       "      <td>427395</td>\n",
       "    </tr>\n",
       "    <tr>\n",
       "      <th>39</th>\n",
       "      <td>무부하매연판정4</td>\n",
       "      <td>669852</td>\n",
       "    </tr>\n",
       "    <tr>\n",
       "      <th>40</th>\n",
       "      <td>무부하매연측정치5</td>\n",
       "      <td>427385</td>\n",
       "    </tr>\n",
       "    <tr>\n",
       "      <th>41</th>\n",
       "      <td>무부하매연허용치5</td>\n",
       "      <td>427395</td>\n",
       "    </tr>\n",
       "    <tr>\n",
       "      <th>42</th>\n",
       "      <td>무부하매연판정5</td>\n",
       "      <td>669852</td>\n",
       "    </tr>\n",
       "    <tr>\n",
       "      <th>43</th>\n",
       "      <td>이산화탄소값</td>\n",
       "      <td>470616</td>\n",
       "    </tr>\n",
       "    <tr>\n",
       "      <th>44</th>\n",
       "      <td>최대출력허용치</td>\n",
       "      <td>470620</td>\n",
       "    </tr>\n",
       "    <tr>\n",
       "      <th>45</th>\n",
       "      <td>최대출력측정값</td>\n",
       "      <td>732509</td>\n",
       "    </tr>\n",
       "    <tr>\n",
       "      <th>46</th>\n",
       "      <td>산소값</td>\n",
       "      <td>90573</td>\n",
       "    </tr>\n",
       "    <tr>\n",
       "      <th>47</th>\n",
       "      <td>공기온도</td>\n",
       "      <td>1047106</td>\n",
       "    </tr>\n",
       "    <tr>\n",
       "      <th>48</th>\n",
       "      <td>공기압력</td>\n",
       "      <td>1444208</td>\n",
       "    </tr>\n",
       "    <tr>\n",
       "      <th>49</th>\n",
       "      <td>정밀검사판정</td>\n",
       "      <td>90573</td>\n",
       "    </tr>\n",
       "    <tr>\n",
       "      <th>50</th>\n",
       "      <td>재검사기간</td>\n",
       "      <td>84659</td>\n",
       "    </tr>\n",
       "    <tr>\n",
       "      <th>51</th>\n",
       "      <td>정밀검사유효기간2</td>\n",
       "      <td>84659</td>\n",
       "    </tr>\n",
       "    <tr>\n",
       "      <th>55</th>\n",
       "      <td>기타내용1</td>\n",
       "      <td>788</td>\n",
       "    </tr>\n",
       "    <tr>\n",
       "      <th>56</th>\n",
       "      <td>기타내용2</td>\n",
       "      <td>33113</td>\n",
       "    </tr>\n",
       "    <tr>\n",
       "      <th>57</th>\n",
       "      <td>기타내용3</td>\n",
       "      <td>133053</td>\n",
       "    </tr>\n",
       "    <tr>\n",
       "      <th>58</th>\n",
       "      <td>기타내용4</td>\n",
       "      <td>1444208</td>\n",
       "    </tr>\n",
       "    <tr>\n",
       "      <th>59</th>\n",
       "      <td>기타내용5</td>\n",
       "      <td>1444208</td>\n",
       "    </tr>\n",
       "    <tr>\n",
       "      <th>60</th>\n",
       "      <td>원본대장테이블</td>\n",
       "      <td>1444208</td>\n",
       "    </tr>\n",
       "    <tr>\n",
       "      <th>61</th>\n",
       "      <td>정밀검사시간정보</td>\n",
       "      <td>1444208</td>\n",
       "    </tr>\n",
       "    <tr>\n",
       "      <th>62</th>\n",
       "      <td>통합접수번호</td>\n",
       "      <td>1444208</td>\n",
       "    </tr>\n",
       "    <tr>\n",
       "      <th>63</th>\n",
       "      <td>데이터생성일자</td>\n",
       "      <td>1444208</td>\n",
       "    </tr>\n",
       "    <tr>\n",
       "      <th>64</th>\n",
       "      <td>무부하매연측정치6</td>\n",
       "      <td>32654</td>\n",
       "    </tr>\n",
       "    <tr>\n",
       "      <th>68</th>\n",
       "      <td>제작등록일자</td>\n",
       "      <td>1826</td>\n",
       "    </tr>\n",
       "    <tr>\n",
       "      <th>71</th>\n",
       "      <td>삭제사유1</td>\n",
       "      <td>1444208</td>\n",
       "    </tr>\n",
       "    <tr>\n",
       "      <th>72</th>\n",
       "      <td>삭제사유2</td>\n",
       "      <td>1444201</td>\n",
       "    </tr>\n",
       "    <tr>\n",
       "      <th>73</th>\n",
       "      <td>삭제사유3</td>\n",
       "      <td>1443934</td>\n",
       "    </tr>\n",
       "    <tr>\n",
       "      <th>74</th>\n",
       "      <td>삭제사유4</td>\n",
       "      <td>1444208</td>\n",
       "    </tr>\n",
       "  </tbody>\n",
       "</table>\n",
       "</div>"
      ],
      "text/plain": [
       "        index        0\n",
       "13       차량길이      273\n",
       "14       차량너비      273\n",
       "15       차량높이      273\n",
       "16       엔진형식       10\n",
       "17     원동기배기량      273\n",
       "18       엔진출력        1\n",
       "19       차량중량      273\n",
       "20        총중량      274\n",
       "21         정원      274\n",
       "22         비고  1344906\n",
       "26  관능검사부적합내용  1413980\n",
       "28  무부하매연측정치1    32654\n",
       "29  무부하매연허용치1    32670\n",
       "30   무부하매연판정1    32674\n",
       "31  무부하매연측정치2   369599\n",
       "32  무부하매연허용치2   410260\n",
       "33   무부하매연판정2   641645\n",
       "34  무부하매연측정치3   427376\n",
       "35  무부하매연허용치3   427386\n",
       "36   무부하매연판정3   669524\n",
       "37  무부하매연측정치4   427385\n",
       "38  무부하매연허용치4   427395\n",
       "39   무부하매연판정4   669852\n",
       "40  무부하매연측정치5   427385\n",
       "41  무부하매연허용치5   427395\n",
       "42   무부하매연판정5   669852\n",
       "43     이산화탄소값   470616\n",
       "44    최대출력허용치   470620\n",
       "45    최대출력측정값   732509\n",
       "46        산소값    90573\n",
       "47       공기온도  1047106\n",
       "48       공기압력  1444208\n",
       "49     정밀검사판정    90573\n",
       "50      재검사기간    84659\n",
       "51  정밀검사유효기간2    84659\n",
       "55      기타내용1      788\n",
       "56      기타내용2    33113\n",
       "57      기타내용3   133053\n",
       "58      기타내용4  1444208\n",
       "59      기타내용5  1444208\n",
       "60    원본대장테이블  1444208\n",
       "61   정밀검사시간정보  1444208\n",
       "62     통합접수번호  1444208\n",
       "63    데이터생성일자  1444208\n",
       "64  무부하매연측정치6    32654\n",
       "68     제작등록일자     1826\n",
       "71      삭제사유1  1444208\n",
       "72      삭제사유2  1444201\n",
       "73      삭제사유3  1443934\n",
       "74      삭제사유4  1444208"
      ]
     },
     "execution_count": 14,
     "metadata": {},
     "output_type": "execute_result"
    }
   ],
   "source": [
    "info_df[info_df[0] != 0]"
   ]
  },
  {
   "attachments": {},
   "cell_type": "markdown",
   "metadata": {},
   "source": [
    "## 0\\. 정밀검사소명"
   ]
  },
  {
   "cell_type": "code",
   "execution_count": 18,
   "metadata": {},
   "outputs": [
    {
     "data": {
      "text/plain": [
       "0"
      ]
     },
     "execution_count": 18,
     "metadata": {},
     "output_type": "execute_result"
    }
   ],
   "source": [
    "df.iloc[:, 0].isnull().sum()"
   ]
  },
  {
   "cell_type": "code",
   "execution_count": 19,
   "metadata": {},
   "outputs": [
    {
     "data": {
      "text/plain": [
       "array(['터미널자동차정비', '목포자동차검사소', '삼부자동차정비(주)', ..., '우성자동차정비공업(주)',\n",
       "       '동일자동차공업(주)-양주시', '명원기업'], dtype=object)"
      ]
     },
     "execution_count": 19,
     "metadata": {},
     "output_type": "execute_result"
    }
   ],
   "source": [
    "df.iloc[:, 0].unique()"
   ]
  },
  {
   "cell_type": "code",
   "execution_count": 20,
   "metadata": {},
   "outputs": [
    {
     "data": {
      "text/plain": [
       "성산자동차검사소           13991\n",
       "강남자동차검사소           12616\n",
       "노원자동차검사소           10538\n",
       "해운대자동차검사소           8723\n",
       "창원자동차검사소            8077\n",
       "                   ...  \n",
       "그린모터서비스               10\n",
       "테스트_자일월암검사정비(주)        5\n",
       "(주)베스트원현대서비스           5\n",
       "테스트_(주)설화모터스           1\n",
       "명원기업                   1\n",
       "Name: 정밀검사소명, Length: 1456, dtype: int64"
      ]
     },
     "execution_count": 20,
     "metadata": {},
     "output_type": "execute_result"
    }
   ],
   "source": [
    "df.iloc[:, 0].value_counts()"
   ]
  },
  {
   "attachments": {},
   "cell_type": "markdown",
   "metadata": {},
   "source": [
    "## 1\\. 정밀검사일자"
   ]
  },
  {
   "cell_type": "code",
   "execution_count": 21,
   "metadata": {},
   "outputs": [
    {
     "data": {
      "text/plain": [
       "0"
      ]
     },
     "execution_count": 21,
     "metadata": {},
     "output_type": "execute_result"
    }
   ],
   "source": [
    "df.iloc[:, 1].isnull().sum()"
   ]
  },
  {
   "cell_type": "code",
   "execution_count": 22,
   "metadata": {},
   "outputs": [
    {
     "data": {
      "text/plain": [
       "0    20220502\n",
       "1    20220502\n",
       "2    20220502\n",
       "3    20220502\n",
       "4    20220502\n",
       "Name: 정밀검사일자, dtype: int64"
      ]
     },
     "execution_count": 22,
     "metadata": {},
     "output_type": "execute_result"
    }
   ],
   "source": [
    "df.iloc[:5, 1]"
   ]
  },
  {
   "attachments": {},
   "cell_type": "markdown",
   "metadata": {},
   "source": [
    "## 2\\. 정밀검사종류"
   ]
  },
  {
   "cell_type": "code",
   "execution_count": 23,
   "metadata": {},
   "outputs": [
    {
     "data": {
      "text/plain": [
       "0"
      ]
     },
     "execution_count": 23,
     "metadata": {},
     "output_type": "execute_result"
    }
   ],
   "source": [
    "df.iloc[:, 2].isnull().sum()"
   ]
  },
  {
   "cell_type": "code",
   "execution_count": 24,
   "metadata": {},
   "outputs": [
    {
     "data": {
      "text/plain": [
       "0         종합검사\n",
       "1         종합검사\n",
       "2         종합검사\n",
       "3    1부재검사(종합)\n",
       "4    2부재검사(종합)\n",
       "Name: 정밀검사종류, dtype: object"
      ]
     },
     "execution_count": 24,
     "metadata": {},
     "output_type": "execute_result"
    }
   ],
   "source": [
    "df.iloc[:5, 2]"
   ]
  },
  {
   "attachments": {},
   "cell_type": "markdown",
   "metadata": {},
   "source": [
    "## 3\\. 정밀검사접수번호"
   ]
  },
  {
   "cell_type": "code",
   "execution_count": 25,
   "metadata": {},
   "outputs": [
    {
     "data": {
      "text/plain": [
       "0"
      ]
     },
     "execution_count": 25,
     "metadata": {},
     "output_type": "execute_result"
    }
   ],
   "source": [
    "df.iloc[:, 3].isnull().sum()"
   ]
  },
  {
   "cell_type": "code",
   "execution_count": 26,
   "metadata": {},
   "outputs": [
    {
     "data": {
      "text/plain": [
       "0    N1962022050200201\n",
       "1    46302022050201571\n",
       "2    A0552022050200221\n",
       "3    284b2022050200951\n",
       "4    C0962022050200801\n",
       "Name: 정밀검사접수번호, dtype: object"
      ]
     },
     "execution_count": 26,
     "metadata": {},
     "output_type": "execute_result"
    }
   ],
   "source": [
    "df.iloc[:5, 3]"
   ]
  },
  {
   "attachments": {},
   "cell_type": "markdown",
   "metadata": {},
   "source": [
    "## 4\\. 차량번호"
   ]
  },
  {
   "cell_type": "code",
   "execution_count": 27,
   "metadata": {},
   "outputs": [
    {
     "data": {
      "text/plain": [
       "0"
      ]
     },
     "execution_count": 27,
     "metadata": {},
     "output_type": "execute_result"
    }
   ],
   "source": [
    "df.iloc[:, 4].isnull().sum()"
   ]
  },
  {
   "cell_type": "code",
   "execution_count": 28,
   "metadata": {},
   "outputs": [
    {
     "data": {
      "text/plain": [
       "0      63거3230\n",
       "1      33루1602\n",
       "2      70구8691\n",
       "3      67마1964\n",
       "4    대구80로2113\n",
       "Name: 차량번호, dtype: object"
      ]
     },
     "execution_count": 28,
     "metadata": {},
     "output_type": "execute_result"
    }
   ],
   "source": [
    "df.iloc[:5, 4]"
   ]
  },
  {
   "attachments": {},
   "cell_type": "markdown",
   "metadata": {},
   "source": [
    "## 5\\. 차대번호"
   ]
  },
  {
   "cell_type": "code",
   "execution_count": 29,
   "metadata": {},
   "outputs": [
    {
     "data": {
      "text/plain": [
       "0"
      ]
     },
     "execution_count": 29,
     "metadata": {},
     "output_type": "execute_result"
    }
   ],
   "source": [
    "df.iloc[:, 5].isnull().sum()"
   ]
  },
  {
   "cell_type": "code",
   "execution_count": 30,
   "metadata": {},
   "outputs": [
    {
     "data": {
      "text/plain": [
       "0    KNABA24438T611846\n",
       "1    KNALN414BBA023289\n",
       "2    KNHMB76439S301221\n",
       "3    KNABM514BBT985305\n",
       "4    KMFXKD7BP2U576967\n",
       "Name: 차대번호, dtype: object"
      ]
     },
     "execution_count": 30,
     "metadata": {},
     "output_type": "execute_result"
    }
   ],
   "source": [
    "df.iloc[:5, 5]"
   ]
  },
  {
   "attachments": {},
   "cell_type": "markdown",
   "metadata": {},
   "source": [
    "## 6\\. 차량형식번호"
   ]
  },
  {
   "cell_type": "code",
   "execution_count": 31,
   "metadata": {},
   "outputs": [
    {
     "data": {
      "text/plain": [
       "0    A0110003200521407\n",
       "1    A0110004500131310\n",
       "2    A0110003600732208\n",
       "3    A0110003200871410\n",
       "4       10057001680000\n",
       "Name: 차량형식번호, dtype: object"
      ]
     },
     "execution_count": 31,
     "metadata": {},
     "output_type": "execute_result"
    }
   ],
   "source": [
    "df.iloc[:5, 6]"
   ]
  },
  {
   "attachments": {},
   "cell_type": "markdown",
   "metadata": {},
   "source": [
    "## 7\\. 차명"
   ]
  },
  {
   "cell_type": "code",
   "execution_count": 35,
   "metadata": {},
   "outputs": [
    {
     "data": {
      "text/plain": [
       "0"
      ]
     },
     "execution_count": 35,
     "metadata": {},
     "output_type": "execute_result"
    }
   ],
   "source": [
    "df.iloc[:, 7].isnull().sum()"
   ]
  },
  {
   "cell_type": "code",
   "execution_count": 36,
   "metadata": {},
   "outputs": [
    {
     "data": {
      "text/plain": [
       "0          모닝\n",
       "1          K7\n",
       "2     그랜드 카니발\n",
       "3          모닝\n",
       "4    포터초장축더블캡\n",
       "Name: 차명, dtype: object"
      ]
     },
     "execution_count": 36,
     "metadata": {},
     "output_type": "execute_result"
    }
   ],
   "source": [
    "df.iloc[:5, 7]"
   ]
  },
  {
   "attachments": {},
   "cell_type": "markdown",
   "metadata": {},
   "source": [
    "## 8\\. 차종"
   ]
  },
  {
   "cell_type": "code",
   "execution_count": 15,
   "metadata": {},
   "outputs": [
    {
     "data": {
      "text/plain": [
       "0"
      ]
     },
     "execution_count": 15,
     "metadata": {},
     "output_type": "execute_result"
    }
   ],
   "source": [
    "df.iloc[:, 8].isnull().sum()"
   ]
  },
  {
   "cell_type": "code",
   "execution_count": 16,
   "metadata": {},
   "outputs": [
    {
     "data": {
      "text/plain": [
       "0    승용차일반형경형\n",
       "1    승용차일반형대형\n",
       "2    승합차일반형중형\n",
       "3    승용차일반형경형\n",
       "4    화물차일반형중형\n",
       "Name: 차종, dtype: object"
      ]
     },
     "execution_count": 16,
     "metadata": {},
     "output_type": "execute_result"
    }
   ],
   "source": [
    "df.iloc[:5, 8]"
   ]
  },
  {
   "cell_type": "code",
   "execution_count": 17,
   "metadata": {},
   "outputs": [
    {
     "data": {
      "text/plain": [
       "array(['승용차일반형경형', '승용차일반형대형', '승합차일반형중형', '화물차일반형중형', '화물차일반형소형',\n",
       "       '승용차다목적형대형', '승용차다목적형중형', '승용차일반형중형', '승용차기타형대형', '승합차일반형경형',\n",
       "       '특수차견인형대형', '화물차일반형경형', '화물차밴형소형', '특수차특수용도형소형', '화물차특수용도형소형',\n",
       "       '화물차일반형대형', '화물차밴형중형', '승용차일반형소형', '승용차겸화물형경형', '승용차다목적형소형',\n",
       "       '승용차기타형중형', '화물차밴형경형', '특수차특수용도형중형', '화물차특수용도형중형', '화물차덤프형소형',\n",
       "       '화물차특수용도형대형', '승합차일반형대형', '승합차특수형중형', '화물차덤프형중형', '화물차탱크로리형대형',\n",
       "       '특수차구난형중형', '화물차탱크로리형중형', '화물차특수용도형경형', '특수차특수용도형대형', '특수차구난형소형',\n",
       "       '승합차일반형소형', '승용차겸화물형대형', '화물차덤프형대형', '화물차덤프형경형', '특수차구난형대형',\n",
       "       '승용차기타형소형', '특수차견인형소형', '승합차특수형대형', '특수차특수용도형경형', '승합차특수형소형',\n",
       "       '화물차탱크로리형경형', '승용차기타형경형', '승용차다목적형경형', '특수차견인형중형'], dtype=object)"
      ]
     },
     "execution_count": 17,
     "metadata": {},
     "output_type": "execute_result"
    }
   ],
   "source": [
    "df.iloc[:, 8].unique()"
   ]
  },
  {
   "attachments": {},
   "cell_type": "markdown",
   "metadata": {},
   "source": [
    "## 9\\. 차량용도"
   ]
  },
  {
   "cell_type": "code",
   "execution_count": 37,
   "metadata": {},
   "outputs": [
    {
     "data": {
      "text/plain": [
       "0"
      ]
     },
     "execution_count": 37,
     "metadata": {},
     "output_type": "execute_result"
    }
   ],
   "source": [
    "df.iloc[:, 9].isnull().sum()"
   ]
  },
  {
   "cell_type": "code",
   "execution_count": 38,
   "metadata": {},
   "outputs": [
    {
     "data": {
      "text/plain": [
       "0    자가용\n",
       "1    자가용\n",
       "2    자가용\n",
       "3    자가용\n",
       "4    자가용\n",
       "Name: 차량용도, dtype: object"
      ]
     },
     "execution_count": 38,
     "metadata": {},
     "output_type": "execute_result"
    }
   ],
   "source": [
    "df.iloc[:5, 9]"
   ]
  },
  {
   "cell_type": "code",
   "execution_count": 39,
   "metadata": {},
   "outputs": [
    {
     "data": {
      "text/plain": [
       "array(['자가용', '영업용', '개인택시', '관용'], dtype=object)"
      ]
     },
     "execution_count": 39,
     "metadata": {},
     "output_type": "execute_result"
    }
   ],
   "source": [
    "df.iloc[:, 9].unique()"
   ]
  },
  {
   "attachments": {},
   "cell_type": "markdown",
   "metadata": {},
   "source": [
    "## 10\\. 차량연식"
   ]
  },
  {
   "cell_type": "code",
   "execution_count": 40,
   "metadata": {},
   "outputs": [
    {
     "data": {
      "text/plain": [
       "0"
      ]
     },
     "execution_count": 40,
     "metadata": {},
     "output_type": "execute_result"
    }
   ],
   "source": [
    "df.iloc[:, 10].isnull().sum()"
   ]
  },
  {
   "cell_type": "code",
   "execution_count": 41,
   "metadata": {},
   "outputs": [
    {
     "data": {
      "text/plain": [
       "0    2008\n",
       "1    2011\n",
       "2    2009\n",
       "3    2011\n",
       "4    2002\n",
       "Name: 차량연식, dtype: int64"
      ]
     },
     "execution_count": 41,
     "metadata": {},
     "output_type": "execute_result"
    }
   ],
   "source": [
    "df.iloc[:5, 10]"
   ]
  },
  {
   "cell_type": "code",
   "execution_count": 42,
   "metadata": {},
   "outputs": [
    {
     "data": {
      "text/plain": [
       "array([2008, 2011, 2009, 2002], dtype=int64)"
      ]
     },
     "execution_count": 42,
     "metadata": {},
     "output_type": "execute_result"
    }
   ],
   "source": [
    "df.iloc[:5, 10].unique()"
   ]
  },
  {
   "attachments": {},
   "cell_type": "markdown",
   "metadata": {},
   "source": [
    "## 11\\. 차량연료"
   ]
  },
  {
   "cell_type": "code",
   "execution_count": 43,
   "metadata": {},
   "outputs": [
    {
     "data": {
      "text/plain": [
       "0"
      ]
     },
     "execution_count": 43,
     "metadata": {},
     "output_type": "execute_result"
    }
   ],
   "source": [
    "df.iloc[:, 11].isnull().sum()"
   ]
  },
  {
   "cell_type": "code",
   "execution_count": 44,
   "metadata": {},
   "outputs": [
    {
     "data": {
      "text/plain": [
       "0    휘발유(무연)\n",
       "1    휘발유(무연)\n",
       "2         경유\n",
       "3    휘발유(무연)\n",
       "4         경유\n",
       "Name: 차량연료, dtype: object"
      ]
     },
     "execution_count": 44,
     "metadata": {},
     "output_type": "execute_result"
    }
   ],
   "source": [
    "df.iloc[:5, 11]"
   ]
  },
  {
   "cell_type": "code",
   "execution_count": 48,
   "metadata": {},
   "outputs": [
    {
     "data": {
      "text/plain": [
       "array(['휘발유(무연)', '경유', '휘발유', '엘피지', '하이브리드(휘발유+전기)', '하이브리드(LPG+전기)',\n",
       "       '하이브리드(경유+전기)', '휘발유(유연)', 'LNG'], dtype=object)"
      ]
     },
     "execution_count": 48,
     "metadata": {},
     "output_type": "execute_result"
    }
   ],
   "source": [
    "df.iloc[:, 11].unique()"
   ]
  },
  {
   "attachments": {},
   "cell_type": "markdown",
   "metadata": {},
   "source": [
    "## 12\\. 주행거리"
   ]
  },
  {
   "cell_type": "code",
   "execution_count": 45,
   "metadata": {},
   "outputs": [
    {
     "data": {
      "text/plain": [
       "0"
      ]
     },
     "execution_count": 45,
     "metadata": {},
     "output_type": "execute_result"
    }
   ],
   "source": [
    "df.iloc[:, 12].isnull().sum()"
   ]
  },
  {
   "cell_type": "code",
   "execution_count": 46,
   "metadata": {},
   "outputs": [
    {
     "data": {
      "text/plain": [
       "0     96531\n",
       "1    238951\n",
       "2    117282\n",
       "3    123072\n",
       "4    118420\n",
       "Name: 주행거리, dtype: object"
      ]
     },
     "execution_count": 46,
     "metadata": {},
     "output_type": "execute_result"
    }
   ],
   "source": [
    "df.iloc[:5, 12]"
   ]
  },
  {
   "cell_type": "code",
   "execution_count": 72,
   "metadata": {},
   "outputs": [
    {
     "data": {
      "text/plain": [
       "0"
      ]
     },
     "execution_count": 72,
     "metadata": {},
     "output_type": "execute_result"
    }
   ],
   "source": [
    "df.iloc[:, 0].isnull().sum()"
   ]
  },
  {
   "attachments": {},
   "cell_type": "markdown",
   "metadata": {},
   "source": [
    "## 13\\. 차량길이"
   ]
  },
  {
   "cell_type": "code",
   "execution_count": 49,
   "metadata": {},
   "outputs": [
    {
     "data": {
      "text/plain": [
       "273"
      ]
     },
     "execution_count": 49,
     "metadata": {},
     "output_type": "execute_result"
    }
   ],
   "source": [
    "df.iloc[:, 13].isnull().sum()"
   ]
  },
  {
   "cell_type": "code",
   "execution_count": 50,
   "metadata": {},
   "outputs": [
    {
     "data": {
      "text/plain": [
       "0    3550.0\n",
       "1    4965.0\n",
       "2    5130.0\n",
       "3    3535.0\n",
       "4    5075.0\n",
       "Name: 차량길이, dtype: float64"
      ]
     },
     "execution_count": 50,
     "metadata": {},
     "output_type": "execute_result"
    }
   ],
   "source": [
    "df.iloc[:5, 13]"
   ]
  },
  {
   "attachments": {},
   "cell_type": "markdown",
   "metadata": {},
   "source": [
    "## 14\\. 차량너비"
   ]
  },
  {
   "cell_type": "code",
   "execution_count": 52,
   "metadata": {},
   "outputs": [
    {
     "data": {
      "text/plain": [
       "273"
      ]
     },
     "execution_count": 52,
     "metadata": {},
     "output_type": "execute_result"
    }
   ],
   "source": [
    "df.iloc[:, 14].isnull().sum()"
   ]
  },
  {
   "cell_type": "code",
   "execution_count": 51,
   "metadata": {},
   "outputs": [
    {
     "data": {
      "text/plain": [
       "0    1595.0\n",
       "1    1850.0\n",
       "2    1985.0\n",
       "3    1595.0\n",
       "4    1690.0\n",
       "Name: 차량너비, dtype: float64"
      ]
     },
     "execution_count": 51,
     "metadata": {},
     "output_type": "execute_result"
    }
   ],
   "source": [
    "df.iloc[:5, 14]"
   ]
  },
  {
   "attachments": {},
   "cell_type": "markdown",
   "metadata": {},
   "source": [
    "## 15\\. 차량높이"
   ]
  },
  {
   "cell_type": "code",
   "execution_count": 53,
   "metadata": {},
   "outputs": [
    {
     "data": {
      "text/plain": [
       "0    1480.0\n",
       "1    1475.0\n",
       "2    1820.0\n",
       "3    1480.0\n",
       "4    1930.0\n",
       "Name: 차량높이, dtype: float64"
      ]
     },
     "execution_count": 53,
     "metadata": {},
     "output_type": "execute_result"
    }
   ],
   "source": [
    "df.iloc[:5, 15]"
   ]
  },
  {
   "attachments": {},
   "cell_type": "markdown",
   "metadata": {},
   "source": [
    "## 16\\. 엔진형식"
   ]
  },
  {
   "cell_type": "code",
   "execution_count": 54,
   "metadata": {},
   "outputs": [
    {
     "data": {
      "text/plain": [
       "0    G4HE\n",
       "1    G6DC\n",
       "2      J3\n",
       "3    G4HE\n",
       "4    D4BB\n",
       "Name: 엔진형식, dtype: object"
      ]
     },
     "execution_count": 54,
     "metadata": {},
     "output_type": "execute_result"
    }
   ],
   "source": [
    "df.iloc[:5, 16]"
   ]
  },
  {
   "attachments": {},
   "cell_type": "markdown",
   "metadata": {},
   "source": [
    "## 17\\. 원동기배기량"
   ]
  },
  {
   "cell_type": "code",
   "execution_count": 55,
   "metadata": {},
   "outputs": [
    {
     "data": {
      "text/plain": [
       "0     999.0\n",
       "1    3470.0\n",
       "2    2902.0\n",
       "3     999.0\n",
       "4    2607.0\n",
       "Name: 원동기배기량, dtype: float64"
      ]
     },
     "execution_count": 55,
     "metadata": {},
     "output_type": "execute_result"
    }
   ],
   "source": [
    "df.iloc[:5, 17]"
   ]
  },
  {
   "attachments": {},
   "cell_type": "markdown",
   "metadata": {},
   "source": [
    "## 18\\. 엔진출력"
   ]
  },
  {
   "cell_type": "code",
   "execution_count": 56,
   "metadata": {},
   "outputs": [
    {
     "data": {
      "text/plain": [
       "0     64/5600\n",
       "1    290/6600\n",
       "2    192/3800\n",
       "3     72/6000\n",
       "4     80/4000\n",
       "Name: 엔진출력, dtype: object"
      ]
     },
     "execution_count": 56,
     "metadata": {},
     "output_type": "execute_result"
    }
   ],
   "source": [
    "df.iloc[:5, 18]"
   ]
  },
  {
   "attachments": {},
   "cell_type": "markdown",
   "metadata": {},
   "source": [
    "## 19\\. 차량중량"
   ]
  },
  {
   "cell_type": "code",
   "execution_count": 57,
   "metadata": {},
   "outputs": [
    {
     "data": {
      "text/plain": [
       "0     915.0\n",
       "1    1620.0\n",
       "2    2230.0\n",
       "3     955.0\n",
       "4    1620.0\n",
       "Name: 차량중량, dtype: float64"
      ]
     },
     "execution_count": 57,
     "metadata": {},
     "output_type": "execute_result"
    }
   ],
   "source": [
    "df.iloc[:5, 19]"
   ]
  },
  {
   "attachments": {},
   "cell_type": "markdown",
   "metadata": {},
   "source": [
    "## 20\\. 총중량"
   ]
  },
  {
   "cell_type": "code",
   "execution_count": 58,
   "metadata": {},
   "outputs": [
    {
     "data": {
      "text/plain": [
       "0    1240.0\n",
       "1    1945.0\n",
       "2    2945.0\n",
       "3    1280.0\n",
       "4    3010.0\n",
       "Name: 총중량, dtype: float64"
      ]
     },
     "execution_count": 58,
     "metadata": {},
     "output_type": "execute_result"
    }
   ],
   "source": [
    "df.iloc[:5, 20]"
   ]
  },
  {
   "attachments": {},
   "cell_type": "markdown",
   "metadata": {},
   "source": [
    "## 21\\. 정원"
   ]
  },
  {
   "cell_type": "code",
   "execution_count": 59,
   "metadata": {},
   "outputs": [
    {
     "data": {
      "text/plain": [
       "0     5.0\n",
       "1     5.0\n",
       "2    11.0\n",
       "3     5.0\n",
       "4     6.0\n",
       "Name: 정원, dtype: float64"
      ]
     },
     "execution_count": 59,
     "metadata": {},
     "output_type": "execute_result"
    }
   ],
   "source": [
    "df.iloc[:5, 21]"
   ]
  },
  {
   "attachments": {},
   "cell_type": "markdown",
   "metadata": {},
   "source": [
    "## 22\\. 비고"
   ]
  },
  {
   "cell_type": "code",
   "execution_count": 60,
   "metadata": {},
   "outputs": [
    {
     "data": {
      "text/plain": [
       "0    NaN\n",
       "1    NaN\n",
       "2    NaN\n",
       "3    NaN\n",
       "4    NaN\n",
       "Name: 비고, dtype: object"
      ]
     },
     "execution_count": 60,
     "metadata": {},
     "output_type": "execute_result"
    }
   ],
   "source": [
    "df.iloc[:5, 22]"
   ]
  },
  {
   "attachments": {},
   "cell_type": "markdown",
   "metadata": {},
   "source": [
    "## 23\\. 비고 "
   ]
  },
  {
   "cell_type": "code",
   "execution_count": 117,
   "metadata": {},
   "outputs": [
    {
     "data": {
      "text/plain": [
       "0   NaN\n",
       "1   NaN\n",
       "2   NaN\n",
       "3   NaN\n",
       "4   NaN\n",
       "Name: 비고, dtype: float64"
      ]
     },
     "execution_count": 117,
     "metadata": {},
     "output_type": "execute_result"
    }
   ],
   "source": [
    "df.iloc[:5, 23]"
   ]
  },
  {
   "cell_type": "code",
   "execution_count": 12,
   "metadata": {},
   "outputs": [
    {
     "data": {
      "text/plain": [
       "array([nan])"
      ]
     },
     "execution_count": 12,
     "metadata": {},
     "output_type": "execute_result"
    }
   ],
   "source": [
    "df.iloc[:, 23].unique()"
   ]
  },
  {
   "attachments": {},
   "cell_type": "markdown",
   "metadata": {},
   "source": [
    "## 24\\. 최초등록일자 "
   ]
  },
  {
   "cell_type": "code",
   "execution_count": 118,
   "metadata": {},
   "outputs": [
    {
     "data": {
      "text/plain": [
       "0    20200626\n",
       "1    20131205\n",
       "2    20180712\n",
       "3    20071115\n",
       "4    20190717\n",
       "Name: 최초등록일자, dtype: int64"
      ]
     },
     "execution_count": 118,
     "metadata": {},
     "output_type": "execute_result"
    }
   ],
   "source": [
    "df.iloc[:5, 24]"
   ]
  },
  {
   "attachments": {},
   "cell_type": "markdown",
   "metadata": {},
   "source": [
    "## 25\\. 제작일자 "
   ]
  },
  {
   "cell_type": "code",
   "execution_count": 90,
   "metadata": {},
   "outputs": [
    {
     "data": {
      "text/plain": [
       "0    20200622.0\n",
       "1    20131130.0\n",
       "2    20180703.0\n",
       "3    20070905.0\n",
       "4    20190626.0\n",
       "Name: 제작일자, dtype: float64"
      ]
     },
     "execution_count": 90,
     "metadata": {},
     "output_type": "execute_result"
    }
   ],
   "source": [
    "df.iloc[:5, 25]"
   ]
  },
  {
   "cell_type": "code",
   "execution_count": 73,
   "metadata": {},
   "outputs": [
    {
     "data": {
      "text/plain": [
       "1925"
      ]
     },
     "execution_count": 73,
     "metadata": {},
     "output_type": "execute_result"
    }
   ],
   "source": [
    "df.iloc[:, 25].isnull().sum()"
   ]
  },
  {
   "cell_type": "code",
   "execution_count": 75,
   "metadata": {},
   "outputs": [
    {
     "data": {
      "text/html": [
       "<div>\n",
       "<style scoped>\n",
       "    .dataframe tbody tr th:only-of-type {\n",
       "        vertical-align: middle;\n",
       "    }\n",
       "\n",
       "    .dataframe tbody tr th {\n",
       "        vertical-align: top;\n",
       "    }\n",
       "\n",
       "    .dataframe thead th {\n",
       "        text-align: right;\n",
       "    }\n",
       "</style>\n",
       "<table border=\"1\" class=\"dataframe\">\n",
       "  <thead>\n",
       "    <tr style=\"text-align: right;\">\n",
       "      <th></th>\n",
       "      <th>차대번호</th>\n",
       "      <th>제작일자</th>\n",
       "    </tr>\n",
       "  </thead>\n",
       "  <tbody>\n",
       "    <tr>\n",
       "      <th>456</th>\n",
       "      <td>KMHJF31KPTU334445</td>\n",
       "      <td>NaN</td>\n",
       "    </tr>\n",
       "    <tr>\n",
       "      <th>1512</th>\n",
       "      <td>KMHMF11FPSU085571</td>\n",
       "      <td>NaN</td>\n",
       "    </tr>\n",
       "    <tr>\n",
       "      <th>2626</th>\n",
       "      <td>KNCSB1125TS703543</td>\n",
       "      <td>NaN</td>\n",
       "    </tr>\n",
       "    <tr>\n",
       "      <th>3084</th>\n",
       "      <td>KMFMA19HPSU027208</td>\n",
       "      <td>NaN</td>\n",
       "    </tr>\n",
       "    <tr>\n",
       "      <th>3504</th>\n",
       "      <td>KMFLA19JPTC102343</td>\n",
       "      <td>NaN</td>\n",
       "    </tr>\n",
       "  </tbody>\n",
       "</table>\n",
       "</div>"
      ],
      "text/plain": [
       "                   차대번호  제작일자\n",
       "456   KMHJF31KPTU334445   NaN\n",
       "1512  KMHMF11FPSU085571   NaN\n",
       "2626  KNCSB1125TS703543   NaN\n",
       "3084  KMFMA19HPSU027208   NaN\n",
       "3504  KMFLA19JPTC102343   NaN"
      ]
     },
     "execution_count": 75,
     "metadata": {},
     "output_type": "execute_result"
    }
   ],
   "source": [
    "df.loc[df['제작일자'].isnull() == True, ['차대번호', '제작일자']].head()"
   ]
  },
  {
   "cell_type": "code",
   "execution_count": 76,
   "metadata": {},
   "outputs": [
    {
     "data": {
      "text/plain": [
       "(1925, 2)"
      ]
     },
     "execution_count": 76,
     "metadata": {},
     "output_type": "execute_result"
    }
   ],
   "source": [
    "df.loc[df['제작일자'].isnull() == True, ['차대번호', '제작일자']].shape"
   ]
  },
  {
   "cell_type": "code",
   "execution_count": 81,
   "metadata": {},
   "outputs": [],
   "source": [
    "temp = df.loc[df['제작일자'].isnull() == True, ['차대번호', '제작일자']]"
   ]
  },
  {
   "cell_type": "code",
   "execution_count": 86,
   "metadata": {},
   "outputs": [
    {
     "data": {
      "text/plain": [
       "1824"
      ]
     },
     "execution_count": 86,
     "metadata": {},
     "output_type": "execute_result"
    }
   ],
   "source": [
    "# 제작일자 null 값 샘플 중 차대번호(17자리, IOQ 제외)인 데이터\n",
    "idx25 = []\n",
    "for i, one in enumerate(temp['차대번호']):\n",
    "    if (len(one) == 17) and ('I' not in one) and ('O' not in one) and ('Q' not in one):\n",
    "        idx25.append(temp.index[i])\n",
    "len(idx25)"
   ]
  },
  {
   "cell_type": "code",
   "execution_count": 93,
   "metadata": {},
   "outputs": [
    {
     "data": {
      "text/html": [
       "<div>\n",
       "<style scoped>\n",
       "    .dataframe tbody tr th:only-of-type {\n",
       "        vertical-align: middle;\n",
       "    }\n",
       "\n",
       "    .dataframe tbody tr th {\n",
       "        vertical-align: top;\n",
       "    }\n",
       "\n",
       "    .dataframe thead th {\n",
       "        text-align: right;\n",
       "    }\n",
       "</style>\n",
       "<table border=\"1\" class=\"dataframe\">\n",
       "  <thead>\n",
       "    <tr style=\"text-align: right;\">\n",
       "      <th></th>\n",
       "      <th>차대번호</th>\n",
       "      <th>차량번호</th>\n",
       "      <th>차량연식</th>\n",
       "      <th>최초등록일자</th>\n",
       "      <th>제작일자</th>\n",
       "      <th>비고</th>\n",
       "    </tr>\n",
       "  </thead>\n",
       "  <tbody>\n",
       "    <tr>\n",
       "      <th>456</th>\n",
       "      <td>KMHJF31KPTU334445</td>\n",
       "      <td>23더6026</td>\n",
       "      <td>1996</td>\n",
       "      <td>19960614</td>\n",
       "      <td>NaN</td>\n",
       "      <td>NaN</td>\n",
       "    </tr>\n",
       "    <tr>\n",
       "      <th>1512</th>\n",
       "      <td>KMHMF11FPSU085571</td>\n",
       "      <td>강원3도5405</td>\n",
       "      <td>1995</td>\n",
       "      <td>19950601</td>\n",
       "      <td>NaN</td>\n",
       "      <td>NaN</td>\n",
       "    </tr>\n",
       "    <tr>\n",
       "      <th>2626</th>\n",
       "      <td>KNCSB1125TS703543</td>\n",
       "      <td>강원80다2062</td>\n",
       "      <td>1996</td>\n",
       "      <td>19960704</td>\n",
       "      <td>NaN</td>\n",
       "      <td>NaN</td>\n",
       "    </tr>\n",
       "    <tr>\n",
       "      <th>3084</th>\n",
       "      <td>KMFMA19HPSU027208</td>\n",
       "      <td>96라9641</td>\n",
       "      <td>1995</td>\n",
       "      <td>19950928</td>\n",
       "      <td>NaN</td>\n",
       "      <td>NaN</td>\n",
       "    </tr>\n",
       "    <tr>\n",
       "      <th>3504</th>\n",
       "      <td>KMFLA19JPTC102343</td>\n",
       "      <td>92무0426</td>\n",
       "      <td>1996</td>\n",
       "      <td>19960216</td>\n",
       "      <td>NaN</td>\n",
       "      <td>NaN</td>\n",
       "    </tr>\n",
       "  </tbody>\n",
       "</table>\n",
       "</div>"
      ],
      "text/plain": [
       "                   차대번호       차량번호  차량연식    최초등록일자  제작일자  비고\n",
       "456   KMHJF31KPTU334445    23더6026  1996  19960614   NaN NaN\n",
       "1512  KMHMF11FPSU085571   강원3도5405  1995  19950601   NaN NaN\n",
       "2626  KNCSB1125TS703543  강원80다2062  1996  19960704   NaN NaN\n",
       "3084  KMFMA19HPSU027208    96라9641  1995  19950928   NaN NaN\n",
       "3504  KMFLA19JPTC102343    92무0426  1996  19960216   NaN NaN"
      ]
     },
     "execution_count": 93,
     "metadata": {},
     "output_type": "execute_result"
    }
   ],
   "source": [
    "df.loc[idx25, ['차대번호', '차량번호', '차량연식', '최초등록일자', '제작일자', '비고']].head()"
   ]
  },
  {
   "cell_type": "code",
   "execution_count": 89,
   "metadata": {},
   "outputs": [
    {
     "data": {
      "text/plain": [
       "'T'"
      ]
     },
     "execution_count": 89,
     "metadata": {},
     "output_type": "execute_result"
    }
   ],
   "source": [
    "df.loc[idx25[0], '차대번호'][9]"
   ]
  },
  {
   "attachments": {},
   "cell_type": "markdown",
   "metadata": {},
   "source": [
    "## 26\\. 검사전 유효기간 만료일"
   ]
  },
  {
   "cell_type": "code",
   "execution_count": 119,
   "metadata": {},
   "outputs": [
    {
     "data": {
      "text/plain": [
       "0    20220625\n",
       "1    20220604\n",
       "2    20220711\n",
       "3    20220627\n",
       "4    20220716\n",
       "Name: 검사전 유효기간 만료일, dtype: int64"
      ]
     },
     "execution_count": 119,
     "metadata": {},
     "output_type": "execute_result"
    }
   ],
   "source": [
    "df.iloc[:5, 26]"
   ]
  },
  {
   "attachments": {},
   "cell_type": "markdown",
   "metadata": {},
   "source": [
    "## 27\\. 관능검사판정"
   ]
  },
  {
   "cell_type": "code",
   "execution_count": 120,
   "metadata": {},
   "outputs": [
    {
     "data": {
      "text/plain": [
       "0   NaN\n",
       "1   NaN\n",
       "2   NaN\n",
       "3   NaN\n",
       "4   NaN\n",
       "Name: 관능검사판정, dtype: float64"
      ]
     },
     "execution_count": 120,
     "metadata": {},
     "output_type": "execute_result"
    }
   ],
   "source": [
    "df.iloc[:5, 27]"
   ]
  },
  {
   "attachments": {},
   "cell_type": "markdown",
   "metadata": {},
   "source": [
    "## 28\\. 관능부적합항목"
   ]
  },
  {
   "cell_type": "code",
   "execution_count": 121,
   "metadata": {},
   "outputs": [
    {
     "data": {
      "text/plain": [
       "0   NaN\n",
       "1   NaN\n",
       "2   NaN\n",
       "3   NaN\n",
       "4   NaN\n",
       "Name: 관능부적합항목, dtype: float64"
      ]
     },
     "execution_count": 121,
     "metadata": {},
     "output_type": "execute_result"
    }
   ],
   "source": [
    "df.iloc[:5, 28]"
   ]
  },
  {
   "attachments": {},
   "cell_type": "markdown",
   "metadata": {},
   "source": [
    "## 29\\. 검사방법"
   ]
  },
  {
   "cell_type": "code",
   "execution_count": 122,
   "metadata": {},
   "outputs": [
    {
     "data": {
      "text/plain": [
       "0    무부하검사(정지가동)\n",
       "1     무부하검사(급가속)\n",
       "2     무부하검사(급가속)\n",
       "3     무부하검사(급가속)\n",
       "4    무부하검사(정지가동)\n",
       "Name: 검사방법, dtype: object"
      ]
     },
     "execution_count": 122,
     "metadata": {},
     "output_type": "execute_result"
    }
   ],
   "source": [
    "df.iloc[:5, 29]"
   ]
  },
  {
   "cell_type": "code",
   "execution_count": 9,
   "metadata": {},
   "outputs": [
    {
     "data": {
      "text/plain": [
       "array(['무부하검사(정지가동)', '무부하검사(급가속)', '무부하검사(TSI)'], dtype=object)"
      ]
     },
     "execution_count": 9,
     "metadata": {},
     "output_type": "execute_result"
    }
   ],
   "source": [
    "df.iloc[:, 29].unique()"
   ]
  },
  {
   "attachments": {},
   "cell_type": "markdown",
   "metadata": {},
   "source": [
    "## 30\\. 무부하매연측정치1"
   ]
  },
  {
   "cell_type": "code",
   "execution_count": 123,
   "metadata": {},
   "outputs": [
    {
     "data": {
      "text/plain": [
       "0    NaN\n",
       "1    0.0\n",
       "2    0.0\n",
       "3    0.0\n",
       "4    NaN\n",
       "Name: 무부하매연측정치1, dtype: float64"
      ]
     },
     "execution_count": 123,
     "metadata": {},
     "output_type": "execute_result"
    }
   ],
   "source": [
    "df.iloc[:5, 30]"
   ]
  },
  {
   "cell_type": "code",
   "execution_count": 13,
   "metadata": {},
   "outputs": [
    {
     "data": {
      "text/plain": [
       "array([     nan, 0.00e+00, 2.00e+00, 1.70e+01, 1.00e+00, 1.20e+01,\n",
       "       1.00e+01, 1.00e-02, 1.00e-01, 1.20e-01, 5.00e-01, 1.70e-01,\n",
       "       4.00e-01, 3.00e-02, 1.40e-01, 2.00e-02, 3.00e-01, 2.00e-01,\n",
       "       3.10e-01, 4.80e-01, 5.40e-01, 3.00e+00, 5.30e+01, 4.30e+01,\n",
       "       3.30e+01, 2.30e+01, 7.00e+00, 8.00e+00, 5.00e+00, 4.00e+00,\n",
       "       1.40e+01, 1.10e+01, 9.00e+00, 6.00e-02, 4.00e-02, 7.00e-02,\n",
       "       5.00e-02, 8.00e-01, 1.50e-01, 1.80e-01, 9.00e-02, 1.60e-01,\n",
       "       2.10e-01, 2.80e-01, 8.00e-02, 6.00e+01, 3.50e+01, 1.90e-01,\n",
       "       4.40e-01, 2.00e+01, 2.40e-01, 2.50e-01, 1.10e-01, 4.90e-01,\n",
       "       5.80e-01, 2.20e-01, 3.90e-01, 4.60e-01, 7.00e-01, 5.30e-01,\n",
       "       3.00e+01, 2.10e+01, 3.30e-01, 6.90e-01, 6.00e-01, 3.50e-01,\n",
       "       3.80e-01, 2.80e+01, 1.17e+00, 1.40e+00, 5.10e-01, 9.30e-01,\n",
       "       6.00e+00, 3.40e+01, 2.70e-01, 5.90e-01, 1.30e-01, 2.90e+01,\n",
       "       9.00e-01, 5.60e-01, 7.10e-01, 2.20e+01, 7.20e-01, 9.10e-01,\n",
       "       1.69e+00, 1.90e+00, 5.20e-01, 2.90e-01, 8.50e+01, 2.98e+00,\n",
       "       2.30e-01, 2.81e+00, 5.80e+01, 4.70e-01, 6.60e+00, 4.00e+01,\n",
       "       1.30e+01, 1.80e+01, 2.40e+01, 7.20e+01, 3.60e+01, 4.10e+01,\n",
       "       2.50e+01, 1.90e+01, 1.60e+01, 4.40e+01, 1.50e+01, 2.60e+01,\n",
       "       8.00e+01, 6.20e+01, 3.10e+01, 3.90e+01, 4.70e+01, 4.60e+01,\n",
       "       8.10e+01, 7.50e+01, 6.70e+01, 3.70e+01, 3.80e+01, 5.20e+01,\n",
       "       5.50e+01, 3.20e+01, 6.20e-01, 2.70e+01, 4.50e+01, 7.60e+01,\n",
       "       8.30e+01, 8.90e+01, 7.40e+01, 8.20e+01, 6.50e+01, 6.30e+01,\n",
       "       7.80e+01, 6.10e+01, 4.20e+01, 8.60e+01, 4.90e+01, 5.40e+01,\n",
       "       5.90e+01, 4.80e+01, 5.10e+01, 9.80e+01, 9.30e+01, 7.30e+01,\n",
       "       6.60e+01, 5.60e+01, 6.40e+01, 7.10e+01, 9.40e+01, 7.00e+01,\n",
       "       5.00e+01, 8.80e-01, 2.60e-01, 3.70e-01, 7.70e+01, 6.90e+01,\n",
       "       5.70e-01, 2.75e+00, 5.70e+01, 3.60e-01, 4.20e-01, 4.10e-01,\n",
       "       8.40e+01, 8.70e-01, 5.50e-01, 6.40e-01, 9.60e+01, 9.90e+01,\n",
       "       1.30e+00, 7.90e-01, 9.70e+01, 4.30e-01, 9.70e-01, 4.40e+00,\n",
       "       8.80e+01, 8.40e-01, 6.70e+00, 6.60e-01, 7.90e+01, 9.20e+01,\n",
       "       1.20e+00, 8.30e-01, 7.40e-01, 8.70e+01, 8.10e-01, 9.10e+01,\n",
       "       9.00e+01, 8.60e-01, 6.80e-01, 1.15e+00, 6.10e-01, 6.80e+01,\n",
       "       1.50e+00, 3.40e+00, 9.40e-01, 9.50e-01, 2.70e+00, 2.19e+00,\n",
       "       8.20e+00, 3.40e-01, 4.50e-01, 9.90e-01, 6.30e-01, 9.60e-01,\n",
       "       3.20e-01, 7.60e-01, 2.20e+00, 7.50e-01, 1.00e+02, 1.14e+00,\n",
       "       1.26e+02, 7.71e+00, 1.60e+00, 4.80e+00, 1.10e+00, 1.12e+00,\n",
       "       1.70e+00, 9.80e-01, 6.70e-01, 6.50e-01, 3.10e+00, 4.70e+00,\n",
       "       9.90e+00, 1.53e+00, 1.11e+00, 1.80e+00, 9.50e+01, 3.80e+00,\n",
       "       9.50e+00, 4.50e+00, 2.50e+00, 7.50e+00, 1.18e+00, 2.57e+00,\n",
       "       7.30e-01, 3.60e+00, 1.27e+00, 1.23e+00, 8.50e-01, 3.70e+00,\n",
       "       8.90e-01, 9.20e-01, 2.76e+00, 2.53e+00, 2.42e+00, 1.05e+00,\n",
       "       3.20e+00, 3.55e+00, 2.18e+00, 1.04e+02, 1.03e+02, 8.50e+00,\n",
       "       7.80e-01, 1.43e+00, 2.36e+00, 2.17e+00, 5.40e+00, 4.90e+00,\n",
       "       1.13e+00, 2.40e+00, 4.20e+00, 1.26e+00, 1.57e+00, 1.33e+00,\n",
       "       7.70e-01, 1.34e+00, 1.35e+00, 1.03e+00, 2.10e+00, 5.10e+00,\n",
       "       8.20e-01, 2.30e+00, 5.60e+00, 5.84e+00, 9.80e+00, 4.66e+00,\n",
       "       5.70e+00, 1.01e+00, 1.86e+00, 1.07e+00, 5.07e+00, 7.70e+00,\n",
       "       2.60e+00, 1.21e+02, 9.30e+00, 1.68e+00, 4.60e+00, 6.10e+00,\n",
       "       6.40e+00, 8.10e+00, 1.19e+00, 1.92e+00, 1.09e+00, 4.95e+00,\n",
       "       1.28e+00, 3.14e+00, 3.90e+00, 1.16e+00, 6.09e+00, 4.04e+00,\n",
       "       1.04e+00, 3.79e+00, 4.37e+00, 1.06e+00, 2.79e+00, 2.87e+00,\n",
       "       9.60e+00, 3.30e+00, 1.52e+00, 3.34e+00, 2.86e+00, 3.50e+00,\n",
       "       1.82e+00, 1.62e+00, 4.14e+00, 1.31e+00, 1.99e+00, 6.98e+00,\n",
       "       2.64e+00, 3.22e+00, 4.88e+00, 1.55e+00, 6.51e+00, 2.90e+00,\n",
       "       2.33e+00, 1.48e+00, 1.24e+00, 2.80e+00, 2.95e+00, 1.37e+00,\n",
       "       2.43e+00, 1.08e+00, 1.21e+00, 5.80e+00, 1.41e+00, 1.16e+02,\n",
       "       2.03e+00, 6.35e+00, 2.25e+00, 1.10e+02, 6.30e+00, 6.03e+00,\n",
       "       4.10e+00, 3.95e+00, 1.49e+00, 5.46e+00, 8.30e+00, 6.95e+00,\n",
       "       5.30e+00, 9.82e+00, 5.50e+00, 1.22e+00, 1.56e+00, 1.38e+00,\n",
       "       1.84e+00, 6.50e+00, 3.37e+00, 3.84e+00, 6.91e+00, 4.30e+00,\n",
       "       7.44e+00, 8.70e+00, 9.17e+00, 7.98e+00, 1.39e+00, 2.44e+00])"
      ]
     },
     "execution_count": 13,
     "metadata": {},
     "output_type": "execute_result"
    }
   ],
   "source": [
    "df.iloc[:, 30].unique()"
   ]
  },
  {
   "attachments": {},
   "cell_type": "markdown",
   "metadata": {},
   "source": [
    "## 31\\. 무부하매연허용치1"
   ]
  },
  {
   "cell_type": "code",
   "execution_count": 124,
   "metadata": {},
   "outputs": [
    {
     "data": {
      "text/plain": [
       "0    NaN\n",
       "1    0.0\n",
       "2    0.0\n",
       "3    0.0\n",
       "4    NaN\n",
       "Name: 무부하매연허용치1, dtype: float64"
      ]
     },
     "execution_count": 124,
     "metadata": {},
     "output_type": "execute_result"
    }
   ],
   "source": [
    "df.iloc[:5, 31]"
   ]
  },
  {
   "attachments": {},
   "cell_type": "markdown",
   "metadata": {},
   "source": [
    "## 32\\. 무부하매연판정1"
   ]
  },
  {
   "cell_type": "code",
   "execution_count": 125,
   "metadata": {},
   "outputs": [
    {
     "data": {
      "text/plain": [
       "0    NaN\n",
       "1      Y\n",
       "2      Y\n",
       "3      Y\n",
       "4    NaN\n",
       "Name: 무부하매연판정1, dtype: object"
      ]
     },
     "execution_count": 125,
     "metadata": {},
     "output_type": "execute_result"
    }
   ],
   "source": [
    "df.iloc[:5, 32]"
   ]
  },
  {
   "attachments": {},
   "cell_type": "markdown",
   "metadata": {},
   "source": [
    "## 33\\. 무부하매연측정치2"
   ]
  },
  {
   "cell_type": "code",
   "execution_count": 126,
   "metadata": {},
   "outputs": [
    {
     "data": {
      "text/plain": [
       "0   NaN\n",
       "1   NaN\n",
       "2   NaN\n",
       "3   NaN\n",
       "4   NaN\n",
       "Name: 무부하매연측정치2, dtype: float64"
      ]
     },
     "execution_count": 126,
     "metadata": {},
     "output_type": "execute_result"
    }
   ],
   "source": [
    "df.iloc[:5, 33]"
   ]
  },
  {
   "attachments": {},
   "cell_type": "markdown",
   "metadata": {},
   "source": [
    "## 34\\. 무부하매연허용치2"
   ]
  },
  {
   "cell_type": "code",
   "execution_count": 127,
   "metadata": {},
   "outputs": [
    {
     "data": {
      "text/plain": [
       "0   NaN\n",
       "1   NaN\n",
       "2   NaN\n",
       "3   NaN\n",
       "4   NaN\n",
       "Name: 무부하매연허용치2, dtype: float64"
      ]
     },
     "execution_count": 127,
     "metadata": {},
     "output_type": "execute_result"
    }
   ],
   "source": [
    "df.iloc[:5, 34]"
   ]
  },
  {
   "attachments": {},
   "cell_type": "markdown",
   "metadata": {},
   "source": [
    "## 35\\. 무부하매연판정2"
   ]
  },
  {
   "cell_type": "code",
   "execution_count": 128,
   "metadata": {},
   "outputs": [
    {
     "data": {
      "text/plain": [
       "0    NaN\n",
       "1    NaN\n",
       "2    NaN\n",
       "3    NaN\n",
       "4    NaN\n",
       "Name: 무부하매연판정2, dtype: object"
      ]
     },
     "execution_count": 128,
     "metadata": {},
     "output_type": "execute_result"
    }
   ],
   "source": [
    "df.iloc[:5, 35]"
   ]
  },
  {
   "attachments": {},
   "cell_type": "markdown",
   "metadata": {},
   "source": [
    "## 36\\. 무부하매연측정치3"
   ]
  },
  {
   "cell_type": "code",
   "execution_count": 129,
   "metadata": {},
   "outputs": [
    {
     "data": {
      "text/plain": [
       "0   NaN\n",
       "1   NaN\n",
       "2   NaN\n",
       "3   NaN\n",
       "4   NaN\n",
       "Name: 무부하매연측정치3, dtype: float64"
      ]
     },
     "execution_count": 129,
     "metadata": {},
     "output_type": "execute_result"
    }
   ],
   "source": [
    "df.iloc[:5, 36]"
   ]
  },
  {
   "attachments": {},
   "cell_type": "markdown",
   "metadata": {},
   "source": [
    "## 37\\. 무부하매연허용치3"
   ]
  },
  {
   "cell_type": "code",
   "execution_count": 130,
   "metadata": {},
   "outputs": [
    {
     "data": {
      "text/plain": [
       "0   NaN\n",
       "1   NaN\n",
       "2   NaN\n",
       "3   NaN\n",
       "4   NaN\n",
       "Name: 무부하매연허용치3, dtype: float64"
      ]
     },
     "execution_count": 130,
     "metadata": {},
     "output_type": "execute_result"
    }
   ],
   "source": [
    "df.iloc[:5, 37]"
   ]
  },
  {
   "attachments": {},
   "cell_type": "markdown",
   "metadata": {},
   "source": [
    "## 38\\. 무부하매연판정3"
   ]
  },
  {
   "cell_type": "code",
   "execution_count": 131,
   "metadata": {},
   "outputs": [
    {
     "data": {
      "text/plain": [
       "0    NaN\n",
       "1    NaN\n",
       "2    NaN\n",
       "3    NaN\n",
       "4    NaN\n",
       "Name: 무부하매연판정3, dtype: object"
      ]
     },
     "execution_count": 131,
     "metadata": {},
     "output_type": "execute_result"
    }
   ],
   "source": [
    "df.iloc[:5, 38]"
   ]
  },
  {
   "attachments": {},
   "cell_type": "markdown",
   "metadata": {},
   "source": [
    "## 39\\. 무부하매연측정치4"
   ]
  },
  {
   "cell_type": "code",
   "execution_count": 132,
   "metadata": {},
   "outputs": [
    {
     "data": {
      "text/plain": [
       "0   NaN\n",
       "1   NaN\n",
       "2   NaN\n",
       "3   NaN\n",
       "4   NaN\n",
       "Name: 무부하매연측정치4, dtype: float64"
      ]
     },
     "execution_count": 132,
     "metadata": {},
     "output_type": "execute_result"
    }
   ],
   "source": [
    "df.iloc[:5, 39]"
   ]
  },
  {
   "attachments": {},
   "cell_type": "markdown",
   "metadata": {},
   "source": [
    "## 40\\. 무부하매연허용치4"
   ]
  },
  {
   "cell_type": "code",
   "execution_count": 133,
   "metadata": {},
   "outputs": [
    {
     "data": {
      "text/plain": [
       "0   NaN\n",
       "1   NaN\n",
       "2   NaN\n",
       "3   NaN\n",
       "4   NaN\n",
       "Name: 무부하매연허용치4, dtype: float64"
      ]
     },
     "execution_count": 133,
     "metadata": {},
     "output_type": "execute_result"
    }
   ],
   "source": [
    "df.iloc[:5, 40]"
   ]
  },
  {
   "attachments": {},
   "cell_type": "markdown",
   "metadata": {},
   "source": [
    "## 41\\. 무부하매연판정4"
   ]
  },
  {
   "cell_type": "code",
   "execution_count": 134,
   "metadata": {},
   "outputs": [
    {
     "data": {
      "text/plain": [
       "0    NaN\n",
       "1    NaN\n",
       "2    NaN\n",
       "3    NaN\n",
       "4    NaN\n",
       "Name: 무부하매연판정4, dtype: object"
      ]
     },
     "execution_count": 134,
     "metadata": {},
     "output_type": "execute_result"
    }
   ],
   "source": [
    "df.iloc[:5, 41]"
   ]
  },
  {
   "attachments": {},
   "cell_type": "markdown",
   "metadata": {},
   "source": [
    "## 42\\. 무부하매연측정치5"
   ]
  },
  {
   "cell_type": "code",
   "execution_count": 135,
   "metadata": {},
   "outputs": [
    {
     "data": {
      "text/plain": [
       "0   NaN\n",
       "1   NaN\n",
       "2   NaN\n",
       "3   NaN\n",
       "4   NaN\n",
       "Name: 무부하매연측정치5, dtype: float64"
      ]
     },
     "execution_count": 135,
     "metadata": {},
     "output_type": "execute_result"
    }
   ],
   "source": [
    "df.iloc[:5, 42]"
   ]
  },
  {
   "attachments": {},
   "cell_type": "markdown",
   "metadata": {},
   "source": [
    "## 43\\. 무부하매연허용치5"
   ]
  },
  {
   "cell_type": "code",
   "execution_count": 136,
   "metadata": {},
   "outputs": [
    {
     "data": {
      "text/plain": [
       "0   NaN\n",
       "1   NaN\n",
       "2   NaN\n",
       "3   NaN\n",
       "4   NaN\n",
       "Name: 무부하매연측정치5, dtype: float64"
      ]
     },
     "execution_count": 136,
     "metadata": {},
     "output_type": "execute_result"
    }
   ],
   "source": [
    "df.iloc[:5, 42]"
   ]
  },
  {
   "attachments": {},
   "cell_type": "markdown",
   "metadata": {},
   "source": [
    "## 44\\. 무부하매연판정5"
   ]
  },
  {
   "cell_type": "code",
   "execution_count": 137,
   "metadata": {},
   "outputs": [
    {
     "data": {
      "text/plain": [
       "0    NaN\n",
       "1    NaN\n",
       "2    NaN\n",
       "3    NaN\n",
       "4    NaN\n",
       "Name: 무부하매연판정5, dtype: object"
      ]
     },
     "execution_count": 137,
     "metadata": {},
     "output_type": "execute_result"
    }
   ],
   "source": [
    "df.iloc[:5, 44]"
   ]
  },
  {
   "attachments": {},
   "cell_type": "markdown",
   "metadata": {},
   "source": [
    "## 45\\. 무부하매연측정치6"
   ]
  },
  {
   "cell_type": "code",
   "execution_count": 138,
   "metadata": {},
   "outputs": [
    {
     "data": {
      "text/plain": [
       "0   NaN\n",
       "1   NaN\n",
       "2   NaN\n",
       "3   NaN\n",
       "4   NaN\n",
       "Name: 무부하매연측정치6, dtype: float64"
      ]
     },
     "execution_count": 138,
     "metadata": {},
     "output_type": "execute_result"
    }
   ],
   "source": [
    "df.iloc[:5, 45]"
   ]
  },
  {
   "attachments": {},
   "cell_type": "markdown",
   "metadata": {},
   "source": [
    "## 46\\. 무부하매연허용치6"
   ]
  },
  {
   "cell_type": "code",
   "execution_count": 139,
   "metadata": {},
   "outputs": [
    {
     "data": {
      "text/plain": [
       "0   NaN\n",
       "1   NaN\n",
       "2   NaN\n",
       "3   NaN\n",
       "4   NaN\n",
       "Name: 무부하매연허용치6, dtype: float64"
      ]
     },
     "execution_count": 139,
     "metadata": {},
     "output_type": "execute_result"
    }
   ],
   "source": [
    "df.iloc[:5, 46]"
   ]
  },
  {
   "attachments": {},
   "cell_type": "markdown",
   "metadata": {},
   "source": [
    "## 47\\. 무부하매연판정6"
   ]
  },
  {
   "cell_type": "code",
   "execution_count": 140,
   "metadata": {},
   "outputs": [
    {
     "data": {
      "text/plain": [
       "0    NaN\n",
       "1    NaN\n",
       "2    NaN\n",
       "3    NaN\n",
       "4    NaN\n",
       "Name: 무부하매연판정6, dtype: object"
      ]
     },
     "execution_count": 140,
     "metadata": {},
     "output_type": "execute_result"
    }
   ],
   "source": [
    "df.iloc[:5, 47]"
   ]
  },
  {
   "attachments": {},
   "cell_type": "markdown",
   "metadata": {},
   "source": [
    "## 48\\. 이산화탄소값"
   ]
  },
  {
   "cell_type": "code",
   "execution_count": 141,
   "metadata": {},
   "outputs": [
    {
     "data": {
      "text/plain": [
       "0   NaN\n",
       "1   NaN\n",
       "2   NaN\n",
       "3   NaN\n",
       "4   NaN\n",
       "Name: 이산화탄소값, dtype: float64"
      ]
     },
     "execution_count": 141,
     "metadata": {},
     "output_type": "execute_result"
    }
   ],
   "source": [
    "df.iloc[:5, 48]"
   ]
  },
  {
   "attachments": {},
   "cell_type": "markdown",
   "metadata": {},
   "source": [
    "## 49\\. 최대출력허용치"
   ]
  },
  {
   "cell_type": "code",
   "execution_count": 142,
   "metadata": {},
   "outputs": [
    {
     "data": {
      "text/plain": [
       "0   NaN\n",
       "1   NaN\n",
       "2   NaN\n",
       "3   NaN\n",
       "4   NaN\n",
       "Name: 최대출력허용치, dtype: float64"
      ]
     },
     "execution_count": 142,
     "metadata": {},
     "output_type": "execute_result"
    }
   ],
   "source": [
    "df.iloc[:5, 49]"
   ]
  },
  {
   "attachments": {},
   "cell_type": "markdown",
   "metadata": {},
   "source": [
    "## 50\\. 최대출력측정값"
   ]
  },
  {
   "cell_type": "code",
   "execution_count": 143,
   "metadata": {},
   "outputs": [
    {
     "data": {
      "text/plain": [
       "0   NaN\n",
       "1   NaN\n",
       "2   NaN\n",
       "3   NaN\n",
       "4   NaN\n",
       "Name: 최대출력측정값, dtype: float64"
      ]
     },
     "execution_count": 143,
     "metadata": {},
     "output_type": "execute_result"
    }
   ],
   "source": [
    "df.iloc[:5, 50]"
   ]
  },
  {
   "attachments": {},
   "cell_type": "markdown",
   "metadata": {},
   "source": [
    "## 51\\. 산소값"
   ]
  },
  {
   "cell_type": "code",
   "execution_count": 144,
   "metadata": {},
   "outputs": [
    {
     "data": {
      "text/plain": [
       "0   NaN\n",
       "1   NaN\n",
       "2   NaN\n",
       "3   NaN\n",
       "4   NaN\n",
       "Name: 산소값, dtype: float64"
      ]
     },
     "execution_count": 144,
     "metadata": {},
     "output_type": "execute_result"
    }
   ],
   "source": [
    "df.iloc[:5, 51]"
   ]
  },
  {
   "attachments": {},
   "cell_type": "markdown",
   "metadata": {},
   "source": [
    "## 52\\. 공기온도"
   ]
  },
  {
   "cell_type": "code",
   "execution_count": 145,
   "metadata": {},
   "outputs": [
    {
     "data": {
      "text/plain": [
       "0   NaN\n",
       "1   NaN\n",
       "2   NaN\n",
       "3   NaN\n",
       "4   NaN\n",
       "Name: 공기온도, dtype: float64"
      ]
     },
     "execution_count": 145,
     "metadata": {},
     "output_type": "execute_result"
    }
   ],
   "source": [
    "df.iloc[:5, 52]"
   ]
  },
  {
   "attachments": {},
   "cell_type": "markdown",
   "metadata": {},
   "source": [
    "## 53\\. 공기압력"
   ]
  },
  {
   "cell_type": "code",
   "execution_count": 146,
   "metadata": {},
   "outputs": [
    {
     "data": {
      "text/plain": [
       "0   NaN\n",
       "1   NaN\n",
       "2   NaN\n",
       "3   NaN\n",
       "4   NaN\n",
       "Name: 공기압력, dtype: float64"
      ]
     },
     "execution_count": 146,
     "metadata": {},
     "output_type": "execute_result"
    }
   ],
   "source": [
    "df.iloc[:5, 53]"
   ]
  },
  {
   "attachments": {},
   "cell_type": "markdown",
   "metadata": {},
   "source": [
    "## 54\\. 검사판정"
   ]
  },
  {
   "cell_type": "code",
   "execution_count": 147,
   "metadata": {},
   "outputs": [
    {
     "data": {
      "text/plain": [
       "0    Y\n",
       "1    Y\n",
       "2    Y\n",
       "3    N\n",
       "4    Y\n",
       "Name: 검사판정, dtype: object"
      ]
     },
     "execution_count": 147,
     "metadata": {},
     "output_type": "execute_result"
    }
   ],
   "source": [
    "df.iloc[:5, 54]"
   ]
  },
  {
   "attachments": {},
   "cell_type": "markdown",
   "metadata": {},
   "source": [
    "## 55\\. 재검사기간"
   ]
  },
  {
   "cell_type": "code",
   "execution_count": 148,
   "metadata": {},
   "outputs": [
    {
     "data": {
      "text/plain": [
       "0    20220630~20220805\n",
       "1    20220630~20220715\n",
       "2    20220630~20220821\n",
       "3    20220630~20220807\n",
       "4    20220630~20220826\n",
       "Name: 재검사기간, dtype: object"
      ]
     },
     "execution_count": 148,
     "metadata": {},
     "output_type": "execute_result"
    }
   ],
   "source": [
    "df.iloc[:5, 55]"
   ]
  },
  {
   "attachments": {},
   "cell_type": "markdown",
   "metadata": {},
   "source": [
    "## 56\\. 검사후 갱신유효기간"
   ]
  },
  {
   "cell_type": "code",
   "execution_count": 149,
   "metadata": {},
   "outputs": [
    {
     "data": {
      "text/plain": [
       "0    20220626~20230625\n",
       "1    20220605~20221204\n",
       "2    20220712~20240711\n",
       "3    20220628~20221227\n",
       "4    20220717~20230716\n",
       "Name: 검사후 갱신유효기간, dtype: object"
      ]
     },
     "execution_count": 149,
     "metadata": {},
     "output_type": "execute_result"
    }
   ],
   "source": [
    "df.iloc[:5, 56]"
   ]
  },
  {
   "attachments": {},
   "cell_type": "markdown",
   "metadata": {},
   "source": [
    "## 57\\. 관능검사원"
   ]
  },
  {
   "cell_type": "code",
   "execution_count": 150,
   "metadata": {},
   "outputs": [
    {
     "data": {
      "text/plain": [
       "0    최지훈\n",
       "1    김영수\n",
       "2    허진우\n",
       "3    정광영\n",
       "4    김경호\n",
       "Name: 관능검사원, dtype: object"
      ]
     },
     "execution_count": 150,
     "metadata": {},
     "output_type": "execute_result"
    }
   ],
   "source": [
    "df.iloc[:5, 57]"
   ]
  },
  {
   "attachments": {},
   "cell_type": "markdown",
   "metadata": {},
   "source": [
    "## 58\\. 배출가스검사원"
   ]
  },
  {
   "cell_type": "code",
   "execution_count": 151,
   "metadata": {},
   "outputs": [
    {
     "data": {
      "text/plain": [
       "0    장정우\n",
       "1    김동현\n",
       "2    이건호\n",
       "3    정광영\n",
       "4    이기태\n",
       "Name: 배출가스검사원, dtype: object"
      ]
     },
     "execution_count": 151,
     "metadata": {},
     "output_type": "execute_result"
    }
   ],
   "source": [
    "df.iloc[:5, 58]"
   ]
  },
  {
   "attachments": {},
   "cell_type": "markdown",
   "metadata": {},
   "source": [
    "## 59\\. 책임검사원"
   ]
  },
  {
   "cell_type": "code",
   "execution_count": 152,
   "metadata": {},
   "outputs": [
    {
     "data": {
      "text/plain": [
       "0    박기열\n",
       "1    이준석\n",
       "2    박주하\n",
       "3    김동윤\n",
       "4    이광구\n",
       "Name: 책임검사원, dtype: object"
      ]
     },
     "execution_count": 152,
     "metadata": {},
     "output_type": "execute_result"
    }
   ],
   "source": [
    "df.iloc[:5, 59]"
   ]
  },
  {
   "attachments": {},
   "cell_type": "markdown",
   "metadata": {},
   "source": [
    "## 60\\. 검사 판정시간"
   ]
  },
  {
   "cell_type": "code",
   "execution_count": 153,
   "metadata": {},
   "outputs": [
    {
     "data": {
      "text/plain": [
       "0    20220701 11:08:49\n",
       "1    20220701 09:26:26\n",
       "2    20220701 15:05:16\n",
       "3    20220701 16:57:36\n",
       "4    20220701 15:53:50\n",
       "Name: 검사 판정시간, dtype: object"
      ]
     },
     "execution_count": 153,
     "metadata": {},
     "output_type": "execute_result"
    }
   ],
   "source": [
    "df.iloc[:5, 60]"
   ]
  },
  {
   "attachments": {},
   "cell_type": "markdown",
   "metadata": {},
   "source": [
    "## 61\\. 자료구분코드"
   ]
  },
  {
   "cell_type": "code",
   "execution_count": 154,
   "metadata": {},
   "outputs": [
    {
     "data": {
      "text/plain": [
       "0    D\n",
       "1    D\n",
       "2    D\n",
       "3    D\n",
       "4    D\n",
       "Name: 자료구분코드, dtype: object"
      ]
     },
     "execution_count": 154,
     "metadata": {},
     "output_type": "execute_result"
    }
   ],
   "source": [
    "df.iloc[:5, 61]"
   ]
  },
  {
   "cell_type": "markdown",
   "metadata": {},
   "source": [
    "# 코드 마지막"
   ]
  }
 ],
 "metadata": {
  "kernelspec": {
   "display_name": "base",
   "language": "python",
   "name": "python3"
  },
  "language_info": {
   "codemirror_mode": {
    "name": "ipython",
    "version": 3
   },
   "file_extension": ".py",
   "mimetype": "text/x-python",
   "name": "python",
   "nbconvert_exporter": "python",
   "pygments_lexer": "ipython3",
   "version": "3.9.13"
  },
  "orig_nbformat": 4,
  "vscode": {
   "interpreter": {
    "hash": "ad2bdc8ecc057115af97d19610ffacc2b4e99fae6737bb82f5d7fb13d2f2c186"
   }
  }
 },
 "nbformat": 4,
 "nbformat_minor": 2
}
