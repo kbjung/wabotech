{
 "cells": [
  {
   "attachments": {},
   "cell_type": "markdown",
   "metadata": {},
   "source": [
    "# Library"
   ]
  },
  {
   "cell_type": "code",
   "execution_count": 1,
   "metadata": {},
   "outputs": [],
   "source": [
    "import pandas as pd\n",
    "import numpy as np\n",
    "import os\n",
    "from tqdm import tqdm"
   ]
  },
  {
   "cell_type": "code",
   "execution_count": 2,
   "metadata": {},
   "outputs": [],
   "source": [
    "# 소수점 옵션\n",
    "pd.options.display.float_format = '{:.2f}'.format\n",
    "# pd.reset_option('display.float_format')"
   ]
  },
  {
   "attachments": {},
   "cell_type": "markdown",
   "metadata": {},
   "source": [
    "# 로드\n",
    "- 등록정보&제원정보(말소적용)\n",
    "- 저감장치 부착이력"
   ]
  },
  {
   "cell_type": "code",
   "execution_count": 3,
   "metadata": {},
   "outputs": [],
   "source": [
    "ods_fold = 'D:/data/big2/ODS'"
   ]
  },
  {
   "cell_type": "code",
   "execution_count": 4,
   "metadata": {},
   "outputs": [],
   "source": [
    "# about 25s\n",
    "# 등록&제원 정보(말소적용)\n",
    "grade = 4\n",
    "df = pd.read_csv(os.path.join(ods_fold, f'[ODS][G{grade}]등록정보&제원정보(말소제거)(2022.12.29).csv'), low_memory=False, encoding='cp949')\n",
    "# 저감장치 부착이력(중복 차대번호 처리)\n",
    "dpf = pd.read_csv(os.path.join(ods_fold, '[ODS]저감장치부착이력(중복차대제거)(2022.12.29).csv'), low_memory=False, encoding='cp949')"
   ]
  },
  {
   "cell_type": "code",
   "execution_count": 5,
   "metadata": {},
   "outputs": [],
   "source": [
    "# 유로4인증대장\n",
    "euro = pd.read_excel('D:/data/big2/dpf.xlsx')"
   ]
  },
  {
   "attachments": {},
   "cell_type": "markdown",
   "metadata": {},
   "source": [
    "# 전처리"
   ]
  },
  {
   "cell_type": "code",
   "execution_count": 6,
   "metadata": {},
   "outputs": [
    {
     "name": "stdout",
     "output_type": "stream",
     "text": [
      "<class 'pandas.core.frame.DataFrame'>\n",
      "RangeIndex: 1511251 entries, 0 to 1511250\n",
      "Data columns (total 49 columns):\n",
      " #   Column        Non-Null Count    Dtype  \n",
      "---  ------        --------------    -----  \n",
      " 0   차량관리번호        1511251 non-null  object \n",
      " 1   차량등록번호        1511251 non-null  object \n",
      " 2   본거지법정동코드      1511251 non-null  int64  \n",
      " 3   소유자구분         1511251 non-null  object \n",
      " 4   차종            1511249 non-null  object \n",
      " 5   용도            1511251 non-null  object \n",
      " 6   현재회원번호        1510412 non-null  object \n",
      " 7   차대번호          1511251 non-null  object \n",
      " 8   최초등록일자        1511251 non-null  int64  \n",
      " 9   차량연식          1511251 non-null  int64  \n",
      " 10  차량제작일자        1342461 non-null  float64\n",
      " 11  배출가스검사유효일자    1511239 non-null  float64\n",
      " 12  제원관리번호        1511251 non-null  object \n",
      " 13  배출가스인증번호      1387530 non-null  object \n",
      " 14  배출가스등급        1511251 non-null  object \n",
      " 15  저공해조치YN(미사용)  1511096 non-null  object \n",
      " 16  저공해조치종류       189 non-null      float64\n",
      " 17  저공해조치구조변경YN   1511251 non-null  object \n",
      " 18  차량등록번호숫자정보    1511251 non-null  int64  \n",
      " 19  차량말소YN        1511251 non-null  object \n",
      " 20  최초회원번호        1506595 non-null  object \n",
      " 21  취득일자          1418010 non-null  object \n",
      " 22  취득금액          1436843 non-null  float64\n",
      " 23  생성일시          1511251 non-null  object \n",
      " 24  수정일시          915041 non-null   object \n",
      " 25  차명            1511251 non-null  object \n",
      " 26  차종_제원정보       1511251 non-null  object \n",
      " 27  차종분류          1511251 non-null  object \n",
      " 28  차종유형(소분류)     1511251 non-null  object \n",
      " 29  자동차형식         1510723 non-null  object \n",
      " 30  제작사명          1501221 non-null  object \n",
      " 31  연료            1511180 non-null  object \n",
      " 32  엔진형식          1509249 non-null  object \n",
      " 33  공차중량          0 non-null        float64\n",
      " 34  총중량           1511226 non-null  float64\n",
      " 35  적재중량          1510714 non-null  float64\n",
      " 36  엔진출력          1510623 non-null  float64\n",
      " 37  배기량           1511240 non-null  float64\n",
      " 38  승차인원          1511251 non-null  float64\n",
      " 39  차량길이          1511176 non-null  float64\n",
      " 40  차량너비          1511176 non-null  float64\n",
      " 41  차량높이          1511174 non-null  float64\n",
      " 42  원산지명          1492122 non-null  object \n",
      " 43  삭제YN          1511251 non-null  object \n",
      " 44  승인일자          1510704 non-null  object \n",
      " 45  구동형식          47 non-null       float64\n",
      " 46  변속기종류         1511091 non-null  object \n",
      " 47  생성일시_제원정보     1511251 non-null  object \n",
      " 48  수정일시_제원정보     497 non-null      object \n",
      "dtypes: float64(14), int64(4), object(31)\n",
      "memory usage: 565.0+ MB\n"
     ]
    }
   ],
   "source": [
    "df.info()"
   ]
  },
  {
   "cell_type": "code",
   "execution_count": 7,
   "metadata": {},
   "outputs": [
    {
     "data": {
      "text/plain": [
       "Index(['차량관리번호', '차량등록번호', '본거지법정동코드', '소유자구분', '차종', '용도', '현재회원번호', '차대번호',\n",
       "       '최초등록일자', '차량연식', '차량제작일자', '배출가스검사유효일자', '제원관리번호', '배출가스인증번호',\n",
       "       '배출가스등급', '저공해조치YN(미사용)', '저공해조치종류', '저공해조치구조변경YN', '차량등록번호숫자정보',\n",
       "       '차량말소YN', '최초회원번호', '취득일자', '취득금액', '생성일시', '수정일시', '차명', '차종_제원정보',\n",
       "       '차종분류', '차종유형(소분류)', '자동차형식', '제작사명', '연료', '엔진형식', '공차중량', '총중량',\n",
       "       '적재중량', '엔진출력', '배기량', '승차인원', '차량길이', '차량너비', '차량높이', '원산지명', '삭제YN',\n",
       "       '승인일자', '구동형식', '변속기종류', '생성일시_제원정보', '수정일시_제원정보'],\n",
       "      dtype='object')"
      ]
     },
     "execution_count": 7,
     "metadata": {},
     "output_type": "execute_result"
    }
   ],
   "source": [
    "df.columns"
   ]
  },
  {
   "cell_type": "code",
   "execution_count": 8,
   "metadata": {},
   "outputs": [],
   "source": [
    "df.columns = ['차량관리번호', '차량등록번호', '본거지법정동코드', '소유자구분', '차종_등록정보', '용도', '현재회원번호', '차대번호',\n",
    "       '최초등록일자', '차량연식', '차량제작일자', '배출가스검사유효일자', '제원관리번호', '배출가스인증번호',\n",
    "       '배출가스등급', '저공해조치YN(미사용)', '저공해조치종류', '저공해조치구조변경YN', '차량등록번호숫자정보',\n",
    "       '차량말소YN', '최초회원번호', '취득일자', '취득금액', '생성일시', '수정일시', '차명', '차종_제원정보',\n",
    "       '차종분류', '차종유형(소분류)', '자동차형식', '제작사명', '연료', '엔진형식', '공차중량', '총중량',\n",
    "       '적재중량', '엔진출력', '배기량', '승차인원', '차량길이', '차량너비', '차량높이', '원산지명', '삭제YN',\n",
    "       '승인일자', '구동형식', '변속기종류', '생성일시_제원정보', '수정일시_제원정보']"
   ]
  },
  {
   "cell_type": "code",
   "execution_count": 9,
   "metadata": {},
   "outputs": [
    {
     "data": {
      "text/plain": [
       "(1511251, 49)"
      ]
     },
     "execution_count": 9,
     "metadata": {},
     "output_type": "execute_result"
    }
   ],
   "source": [
    "df.shape"
   ]
  },
  {
   "cell_type": "code",
   "execution_count": 10,
   "metadata": {},
   "outputs": [
    {
     "name": "stdout",
     "output_type": "stream",
     "text": [
      "<class 'pandas.core.frame.DataFrame'>\n",
      "RangeIndex: 809255 entries, 0 to 809254\n",
      "Data columns (total 11 columns):\n",
      " #   Column      Non-Null Count   Dtype  \n",
      "---  ------      --------------   -----  \n",
      " 0   저감장치종류      585410 non-null  object \n",
      " 1   TDMS부착여부    204903 non-null  object \n",
      " 2   구조변경일자      809255 non-null  int64  \n",
      " 3   부착업체명       800321 non-null  object \n",
      " 4   부착일자        809254 non-null  float64\n",
      " 5   탈거승인일       169 non-null     float64\n",
      " 6   차량번호        809255 non-null  object \n",
      " 7   차대번호        809255 non-null  object \n",
      " 8   저감장치반납여부    324650 non-null  object \n",
      " 9   저감장치구분      809255 non-null  object \n",
      " 10  삼원촉매장치반납여부  13688 non-null   object \n",
      "dtypes: float64(2), int64(1), object(8)\n",
      "memory usage: 67.9+ MB\n"
     ]
    }
   ],
   "source": [
    "dpf.info()"
   ]
  },
  {
   "cell_type": "code",
   "execution_count": 11,
   "metadata": {},
   "outputs": [
    {
     "data": {
      "text/plain": [
       "(809255, 11)"
      ]
     },
     "execution_count": 11,
     "metadata": {},
     "output_type": "execute_result"
    }
   ],
   "source": [
    "dpf.shape"
   ]
  },
  {
   "cell_type": "code",
   "execution_count": 12,
   "metadata": {},
   "outputs": [
    {
     "data": {
      "text/plain": [
       "저감장치종류        223845\n",
       "TDMS부착여부      604352\n",
       "구조변경일자             0\n",
       "부착업체명           8934\n",
       "부착일자               1\n",
       "탈거승인일         809086\n",
       "차량번호               0\n",
       "차대번호               0\n",
       "저감장치반납여부      484605\n",
       "저감장치구분             0\n",
       "삼원촉매장치반납여부    795567\n",
       "dtype: int64"
      ]
     },
     "execution_count": 12,
     "metadata": {},
     "output_type": "execute_result"
    }
   ],
   "source": [
    "dpf.isnull().sum()"
   ]
  },
  {
   "cell_type": "code",
   "execution_count": 13,
   "metadata": {},
   "outputs": [
    {
     "name": "stdout",
     "output_type": "stream",
     "text": [
      "<class 'pandas.core.frame.DataFrame'>\n",
      "RangeIndex: 82 entries, 0 to 81\n",
      "Data columns (total 2 columns):\n",
      " #   Column    Non-Null Count  Dtype \n",
      "---  ------    --------------  ----- \n",
      " 0   배출가스인증번호  82 non-null     object\n",
      " 1   DPF유무     82 non-null     object\n",
      "dtypes: object(2)\n",
      "memory usage: 1.4+ KB\n"
     ]
    }
   ],
   "source": [
    "euro.info()"
   ]
  },
  {
   "cell_type": "code",
   "execution_count": 14,
   "metadata": {},
   "outputs": [
    {
     "data": {
      "text/plain": [
       "(82, 2)"
      ]
     },
     "execution_count": 14,
     "metadata": {},
     "output_type": "execute_result"
    }
   ],
   "source": [
    "euro.shape"
   ]
  },
  {
   "attachments": {},
   "cell_type": "markdown",
   "metadata": {},
   "source": [
    "### 중복 차대번호 처리\n",
    "- '최초등록일자', '배출가스검사유효일자', ascending=False"
   ]
  },
  {
   "cell_type": "code",
   "execution_count": 15,
   "metadata": {},
   "outputs": [
    {
     "data": {
      "text/plain": [
       "(1511251, 1511211)"
      ]
     },
     "execution_count": 15,
     "metadata": {},
     "output_type": "execute_result"
    }
   ],
   "source": [
    "df.shape[0], len(df['차대번호'].unique())"
   ]
  },
  {
   "cell_type": "code",
   "execution_count": 16,
   "metadata": {},
   "outputs": [
    {
     "data": {
      "text/plain": [
       "40"
      ]
     },
     "execution_count": 16,
     "metadata": {},
     "output_type": "execute_result"
    }
   ],
   "source": [
    "df.shape[0] - len(df['차대번호'].unique())"
   ]
  },
  {
   "cell_type": "code",
   "execution_count": 17,
   "metadata": {},
   "outputs": [
    {
     "data": {
      "text/html": [
       "<div>\n",
       "<style scoped>\n",
       "    .dataframe tbody tr th:only-of-type {\n",
       "        vertical-align: middle;\n",
       "    }\n",
       "\n",
       "    .dataframe tbody tr th {\n",
       "        vertical-align: top;\n",
       "    }\n",
       "\n",
       "    .dataframe thead th {\n",
       "        text-align: right;\n",
       "    }\n",
       "</style>\n",
       "<table border=\"1\" class=\"dataframe\">\n",
       "  <thead>\n",
       "    <tr style=\"text-align: right;\">\n",
       "      <th></th>\n",
       "      <th>차량관리번호</th>\n",
       "      <th>차량등록번호</th>\n",
       "      <th>본거지법정동코드</th>\n",
       "      <th>소유자구분</th>\n",
       "      <th>차종_등록정보</th>\n",
       "      <th>용도</th>\n",
       "      <th>현재회원번호</th>\n",
       "      <th>차대번호</th>\n",
       "      <th>최초등록일자</th>\n",
       "      <th>차량연식</th>\n",
       "      <th>...</th>\n",
       "      <th>차량너비</th>\n",
       "      <th>차량높이</th>\n",
       "      <th>원산지명</th>\n",
       "      <th>삭제YN</th>\n",
       "      <th>승인일자</th>\n",
       "      <th>구동형식</th>\n",
       "      <th>변속기종류</th>\n",
       "      <th>생성일시_제원정보</th>\n",
       "      <th>수정일시_제원정보</th>\n",
       "      <th>dupl</th>\n",
       "    </tr>\n",
       "  </thead>\n",
       "  <tbody>\n",
       "    <tr>\n",
       "      <th>0</th>\n",
       "      <td>CN-62-T-2213-01</td>\n",
       "      <td>서울2흐1820</td>\n",
       "      <td>1159010200</td>\n",
       "      <td>주민</td>\n",
       "      <td>승용</td>\n",
       "      <td>자가용</td>\n",
       "      <td>83F93626F5DE27EA64594DE5B3D02DB4</td>\n",
       "      <td>CN-62-T-2213</td>\n",
       "      <td>19650209</td>\n",
       "      <td>2002</td>\n",
       "      <td>...</td>\n",
       "      <td>1650.00</td>\n",
       "      <td>2000.00</td>\n",
       "      <td>영국</td>\n",
       "      <td>N</td>\n",
       "      <td>19920529</td>\n",
       "      <td>NaN</td>\n",
       "      <td>M</td>\n",
       "      <td>19/06/22</td>\n",
       "      <td>NaN</td>\n",
       "      <td>False</td>\n",
       "    </tr>\n",
       "    <tr>\n",
       "      <th>1</th>\n",
       "      <td>SL68T032460-01</td>\n",
       "      <td>서울5가1334</td>\n",
       "      <td>1165010100</td>\n",
       "      <td>기타</td>\n",
       "      <td>승용</td>\n",
       "      <td>자가용</td>\n",
       "      <td>FFFB77E175610478415F654BFE77B2E7</td>\n",
       "      <td>SL68T032460</td>\n",
       "      <td>19750127</td>\n",
       "      <td>1968</td>\n",
       "      <td>...</td>\n",
       "      <td>1750.00</td>\n",
       "      <td>1410.00</td>\n",
       "      <td>대한민국</td>\n",
       "      <td>N</td>\n",
       "      <td>19890911</td>\n",
       "      <td>NaN</td>\n",
       "      <td>A</td>\n",
       "      <td>19/06/22</td>\n",
       "      <td>NaN</td>\n",
       "      <td>False</td>\n",
       "    </tr>\n",
       "    <tr>\n",
       "      <th>2</th>\n",
       "      <td>2T1CF2897YC359923-01</td>\n",
       "      <td>16다1728</td>\n",
       "      <td>1117012400</td>\n",
       "      <td>기타</td>\n",
       "      <td>승용</td>\n",
       "      <td>자가용</td>\n",
       "      <td>086EDAAD3932E03864AB0AB7C3403056</td>\n",
       "      <td>2T1CF2897YC359923</td>\n",
       "      <td>19821231</td>\n",
       "      <td>2000</td>\n",
       "      <td>...</td>\n",
       "      <td>1795.00</td>\n",
       "      <td>1490.00</td>\n",
       "      <td>기타</td>\n",
       "      <td>N</td>\n",
       "      <td>20021025</td>\n",
       "      <td>NaN</td>\n",
       "      <td>X</td>\n",
       "      <td>19/06/22</td>\n",
       "      <td>NaN</td>\n",
       "      <td>False</td>\n",
       "    </tr>\n",
       "    <tr>\n",
       "      <th>3</th>\n",
       "      <td>KNADA2322HS004198-01</td>\n",
       "      <td>전북1나2309</td>\n",
       "      <td>4574033530</td>\n",
       "      <td>주민</td>\n",
       "      <td>승용</td>\n",
       "      <td>자가용</td>\n",
       "      <td>1F391F79050FA17A36109FCFCAFC5299</td>\n",
       "      <td>KNADA2322HS004198</td>\n",
       "      <td>19870411</td>\n",
       "      <td>1987</td>\n",
       "      <td>...</td>\n",
       "      <td>1605.00</td>\n",
       "      <td>1460.00</td>\n",
       "      <td>NaN</td>\n",
       "      <td>N</td>\n",
       "      <td>19870127</td>\n",
       "      <td>NaN</td>\n",
       "      <td>M</td>\n",
       "      <td>19/06/22</td>\n",
       "      <td>NaN</td>\n",
       "      <td>False</td>\n",
       "    </tr>\n",
       "    <tr>\n",
       "      <th>4</th>\n",
       "      <td>KNADA2322HS004932-01</td>\n",
       "      <td>경기30다4720</td>\n",
       "      <td>4159025323</td>\n",
       "      <td>주민</td>\n",
       "      <td>승용</td>\n",
       "      <td>자가용</td>\n",
       "      <td>9ED8F300515AFBB6E571F7BE6F30DC08</td>\n",
       "      <td>KNADA2322HS004932</td>\n",
       "      <td>19870421</td>\n",
       "      <td>1987</td>\n",
       "      <td>...</td>\n",
       "      <td>1605.00</td>\n",
       "      <td>1460.00</td>\n",
       "      <td>NaN</td>\n",
       "      <td>N</td>\n",
       "      <td>19870127</td>\n",
       "      <td>NaN</td>\n",
       "      <td>M</td>\n",
       "      <td>19/06/22</td>\n",
       "      <td>NaN</td>\n",
       "      <td>False</td>\n",
       "    </tr>\n",
       "  </tbody>\n",
       "</table>\n",
       "<p>5 rows × 50 columns</p>\n",
       "</div>"
      ],
      "text/plain": [
       "                 차량관리번호     차량등록번호    본거지법정동코드 소유자구분 차종_등록정보   용도  \\\n",
       "0       CN-62-T-2213-01   서울2흐1820  1159010200    주민      승용  자가용   \n",
       "1        SL68T032460-01   서울5가1334  1165010100    기타      승용  자가용   \n",
       "2  2T1CF2897YC359923-01    16다1728  1117012400    기타      승용  자가용   \n",
       "3  KNADA2322HS004198-01   전북1나2309  4574033530    주민      승용  자가용   \n",
       "4  KNADA2322HS004932-01  경기30다4720  4159025323    주민      승용  자가용   \n",
       "\n",
       "                             현재회원번호               차대번호    최초등록일자  차량연식  ...  \\\n",
       "0  83F93626F5DE27EA64594DE5B3D02DB4       CN-62-T-2213  19650209  2002  ...   \n",
       "1  FFFB77E175610478415F654BFE77B2E7        SL68T032460  19750127  1968  ...   \n",
       "2  086EDAAD3932E03864AB0AB7C3403056  2T1CF2897YC359923  19821231  2000  ...   \n",
       "3  1F391F79050FA17A36109FCFCAFC5299  KNADA2322HS004198  19870411  1987  ...   \n",
       "4  9ED8F300515AFBB6E571F7BE6F30DC08  KNADA2322HS004932  19870421  1987  ...   \n",
       "\n",
       "     차량너비    차량높이  원산지명 삭제YN      승인일자 구동형식  변속기종류 생성일시_제원정보  수정일시_제원정보   dupl  \n",
       "0 1650.00 2000.00    영국    N  19920529  NaN      M  19/06/22        NaN  False  \n",
       "1 1750.00 1410.00  대한민국    N  19890911  NaN      A  19/06/22        NaN  False  \n",
       "2 1795.00 1490.00    기타    N  20021025  NaN      X  19/06/22        NaN  False  \n",
       "3 1605.00 1460.00   NaN    N  19870127  NaN      M  19/06/22        NaN  False  \n",
       "4 1605.00 1460.00   NaN    N  19870127  NaN      M  19/06/22        NaN  False  \n",
       "\n",
       "[5 rows x 50 columns]"
      ]
     },
     "execution_count": 17,
     "metadata": {},
     "output_type": "execute_result"
    }
   ],
   "source": [
    "df['dupl'] = df['차대번호'].duplicated().to_list()\n",
    "df.head()"
   ]
  },
  {
   "cell_type": "code",
   "execution_count": 18,
   "metadata": {},
   "outputs": [
    {
     "data": {
      "text/html": [
       "<div>\n",
       "<style scoped>\n",
       "    .dataframe tbody tr th:only-of-type {\n",
       "        vertical-align: middle;\n",
       "    }\n",
       "\n",
       "    .dataframe tbody tr th {\n",
       "        vertical-align: top;\n",
       "    }\n",
       "\n",
       "    .dataframe thead th {\n",
       "        text-align: right;\n",
       "    }\n",
       "</style>\n",
       "<table border=\"1\" class=\"dataframe\">\n",
       "  <thead>\n",
       "    <tr style=\"text-align: right;\">\n",
       "      <th></th>\n",
       "      <th>차량관리번호</th>\n",
       "      <th>차량등록번호</th>\n",
       "      <th>본거지법정동코드</th>\n",
       "      <th>소유자구분</th>\n",
       "      <th>차종_등록정보</th>\n",
       "      <th>용도</th>\n",
       "      <th>현재회원번호</th>\n",
       "      <th>차대번호</th>\n",
       "      <th>최초등록일자</th>\n",
       "      <th>차량연식</th>\n",
       "      <th>...</th>\n",
       "      <th>차량너비</th>\n",
       "      <th>차량높이</th>\n",
       "      <th>원산지명</th>\n",
       "      <th>삭제YN</th>\n",
       "      <th>승인일자</th>\n",
       "      <th>구동형식</th>\n",
       "      <th>변속기종류</th>\n",
       "      <th>생성일시_제원정보</th>\n",
       "      <th>수정일시_제원정보</th>\n",
       "      <th>dupl</th>\n",
       "    </tr>\n",
       "  </thead>\n",
       "  <tbody>\n",
       "    <tr>\n",
       "      <th>0</th>\n",
       "      <td>1GBEL19W3XB192382-02</td>\n",
       "      <td>39고6855</td>\n",
       "      <td>1141011800</td>\n",
       "      <td>주민</td>\n",
       "      <td>승용</td>\n",
       "      <td>자가용</td>\n",
       "      <td>502E2726B1B408896B07CD69C1BFD944</td>\n",
       "      <td>1GBEL19W3XB192382</td>\n",
       "      <td>20091013</td>\n",
       "      <td>1999</td>\n",
       "      <td>...</td>\n",
       "      <td>1980.00</td>\n",
       "      <td>1915.00</td>\n",
       "      <td>독일</td>\n",
       "      <td>N</td>\n",
       "      <td>20090805</td>\n",
       "      <td>NaN</td>\n",
       "      <td>A</td>\n",
       "      <td>19/06/22</td>\n",
       "      <td>NaN</td>\n",
       "      <td>True</td>\n",
       "    </tr>\n",
       "    <tr>\n",
       "      <th>1</th>\n",
       "      <td>KMHBF31FPMV273591-03</td>\n",
       "      <td>57구7651</td>\n",
       "      <td>4513040021</td>\n",
       "      <td>기타</td>\n",
       "      <td>승용</td>\n",
       "      <td>자가용</td>\n",
       "      <td>42122EFA693C98DB2F3E4DAA915742B6</td>\n",
       "      <td>KMHBF31FPMV273591</td>\n",
       "      <td>20040714</td>\n",
       "      <td>1991</td>\n",
       "      <td>...</td>\n",
       "      <td>1750.00</td>\n",
       "      <td>1410.00</td>\n",
       "      <td>대한민국</td>\n",
       "      <td>N</td>\n",
       "      <td>19910125</td>\n",
       "      <td>NaN</td>\n",
       "      <td>M</td>\n",
       "      <td>19/06/22</td>\n",
       "      <td>NaN</td>\n",
       "      <td>True</td>\n",
       "    </tr>\n",
       "    <tr>\n",
       "      <th>2</th>\n",
       "      <td>KMHBF21DPNU459285-04</td>\n",
       "      <td>57구3409</td>\n",
       "      <td>4513040021</td>\n",
       "      <td>기타</td>\n",
       "      <td>승용</td>\n",
       "      <td>자가용</td>\n",
       "      <td>70C44A62FA06C1DFCB647A4ECB93ACA4</td>\n",
       "      <td>KMHBF21DPNU459285</td>\n",
       "      <td>20040302</td>\n",
       "      <td>1992</td>\n",
       "      <td>...</td>\n",
       "      <td>1750.00</td>\n",
       "      <td>1410.00</td>\n",
       "      <td>대한민국</td>\n",
       "      <td>N</td>\n",
       "      <td>19920122</td>\n",
       "      <td>NaN</td>\n",
       "      <td>M</td>\n",
       "      <td>19/06/22</td>\n",
       "      <td>NaN</td>\n",
       "      <td>True</td>\n",
       "    </tr>\n",
       "    <tr>\n",
       "      <th>3</th>\n",
       "      <td>KMHBF31FPNU503892-03</td>\n",
       "      <td>16다1105</td>\n",
       "      <td>1117012400</td>\n",
       "      <td>기타</td>\n",
       "      <td>승용</td>\n",
       "      <td>자가용</td>\n",
       "      <td>9602A1954E945253D8BF4656A1BAE7F1</td>\n",
       "      <td>KMHBF31FPNU503892</td>\n",
       "      <td>20040112</td>\n",
       "      <td>1992</td>\n",
       "      <td>...</td>\n",
       "      <td>0.00</td>\n",
       "      <td>0.00</td>\n",
       "      <td>대한민국</td>\n",
       "      <td>N</td>\n",
       "      <td>19910416</td>\n",
       "      <td>NaN</td>\n",
       "      <td>M</td>\n",
       "      <td>19/06/22</td>\n",
       "      <td>NaN</td>\n",
       "      <td>True</td>\n",
       "    </tr>\n",
       "    <tr>\n",
       "      <th>4</th>\n",
       "      <td>KLAJA19Y1SB055388-03</td>\n",
       "      <td>대구30고9995</td>\n",
       "      <td>2720010300</td>\n",
       "      <td>기타</td>\n",
       "      <td>승용</td>\n",
       "      <td>자가용</td>\n",
       "      <td>5D681BED675EFD56E4E94FF11FD41E14</td>\n",
       "      <td>KLAJA19Y1SB055388</td>\n",
       "      <td>20031204</td>\n",
       "      <td>1995</td>\n",
       "      <td>...</td>\n",
       "      <td>1718.00</td>\n",
       "      <td>1382.00</td>\n",
       "      <td>대한민국</td>\n",
       "      <td>N</td>\n",
       "      <td>19950429</td>\n",
       "      <td>NaN</td>\n",
       "      <td>A</td>\n",
       "      <td>19/06/22</td>\n",
       "      <td>NaN</td>\n",
       "      <td>True</td>\n",
       "    </tr>\n",
       "  </tbody>\n",
       "</table>\n",
       "<p>5 rows × 50 columns</p>\n",
       "</div>"
      ],
      "text/plain": [
       "                 차량관리번호     차량등록번호    본거지법정동코드 소유자구분 차종_등록정보   용도  \\\n",
       "0  1GBEL19W3XB192382-02    39고6855  1141011800    주민      승용  자가용   \n",
       "1  KMHBF31FPMV273591-03    57구7651  4513040021    기타      승용  자가용   \n",
       "2  KMHBF21DPNU459285-04    57구3409  4513040021    기타      승용  자가용   \n",
       "3  KMHBF31FPNU503892-03    16다1105  1117012400    기타      승용  자가용   \n",
       "4  KLAJA19Y1SB055388-03  대구30고9995  2720010300    기타      승용  자가용   \n",
       "\n",
       "                             현재회원번호               차대번호    최초등록일자  차량연식  ...  \\\n",
       "0  502E2726B1B408896B07CD69C1BFD944  1GBEL19W3XB192382  20091013  1999  ...   \n",
       "1  42122EFA693C98DB2F3E4DAA915742B6  KMHBF31FPMV273591  20040714  1991  ...   \n",
       "2  70C44A62FA06C1DFCB647A4ECB93ACA4  KMHBF21DPNU459285  20040302  1992  ...   \n",
       "3  9602A1954E945253D8BF4656A1BAE7F1  KMHBF31FPNU503892  20040112  1992  ...   \n",
       "4  5D681BED675EFD56E4E94FF11FD41E14  KLAJA19Y1SB055388  20031204  1995  ...   \n",
       "\n",
       "     차량너비    차량높이  원산지명 삭제YN      승인일자 구동형식  변속기종류 생성일시_제원정보  수정일시_제원정보  dupl  \n",
       "0 1980.00 1915.00    독일    N  20090805  NaN      A  19/06/22        NaN  True  \n",
       "1 1750.00 1410.00  대한민국    N  19910125  NaN      M  19/06/22        NaN  True  \n",
       "2 1750.00 1410.00  대한민국    N  19920122  NaN      M  19/06/22        NaN  True  \n",
       "3    0.00    0.00  대한민국    N  19910416  NaN      M  19/06/22        NaN  True  \n",
       "4 1718.00 1382.00  대한민국    N  19950429  NaN      A  19/06/22        NaN  True  \n",
       "\n",
       "[5 rows x 50 columns]"
      ]
     },
     "execution_count": 18,
     "metadata": {},
     "output_type": "execute_result"
    }
   ],
   "source": [
    "dupl_vin = df[df['dupl'] == True].sort_values(['최초등록일자', '배출가스검사유효일자'], ascending=False).reset_index(drop=True)\n",
    "dupl_vin.head()"
   ]
  },
  {
   "attachments": {},
   "cell_type": "markdown",
   "metadata": {},
   "source": [
    "#### [출력] 중복 차대번호 샘플"
   ]
  },
  {
   "cell_type": "code",
   "execution_count": 19,
   "metadata": {},
   "outputs": [],
   "source": [
    "# dupl_vin.to_excel(f'analysis2/[BD3][G{grade}][샘플]등록&제원-저감_중복차대번호(말소제거).xlsx')"
   ]
  },
  {
   "cell_type": "code",
   "execution_count": 17,
   "metadata": {},
   "outputs": [
    {
     "data": {
      "text/plain": [
       "(1511211, 49)"
      ]
     },
     "execution_count": 17,
     "metadata": {},
     "output_type": "execute_result"
    }
   ],
   "source": [
    "df = df.sort_values(['최초등록일자', '배출가스검사유효일자'], ascending=[False, False]).drop_duplicates('차대번호').reset_index(drop=True)\n",
    "df.shape"
   ]
  },
  {
   "cell_type": "code",
   "execution_count": 21,
   "metadata": {},
   "outputs": [
    {
     "data": {
      "text/plain": [
       "(1511211, 49)"
      ]
     },
     "execution_count": 21,
     "metadata": {},
     "output_type": "execute_result"
    }
   ],
   "source": [
    "# # 중복 여부 컬럼 삭제\n",
    "# df = df.drop('dupl', axis=1)\n",
    "# df.shape"
   ]
  },
  {
   "attachments": {},
   "cell_type": "markdown",
   "metadata": {},
   "source": [
    "## 차대번호 기준 병합"
   ]
  },
  {
   "cell_type": "code",
   "execution_count": 18,
   "metadata": {},
   "outputs": [
    {
     "data": {
      "text/plain": [
       "(1511211, 59)"
      ]
     },
     "execution_count": 18,
     "metadata": {},
     "output_type": "execute_result"
    }
   ],
   "source": [
    "total = df.merge(dpf, on='차대번호', how='left')\n",
    "total.shape"
   ]
  },
  {
   "cell_type": "code",
   "execution_count": 19,
   "metadata": {},
   "outputs": [
    {
     "data": {
      "text/plain": [
       "1511175"
      ]
     },
     "execution_count": 19,
     "metadata": {},
     "output_type": "execute_result"
    }
   ],
   "source": [
    "total['구조변경일자'].isnull().sum()"
   ]
  },
  {
   "cell_type": "code",
   "execution_count": 20,
   "metadata": {},
   "outputs": [
    {
     "data": {
      "text/plain": [
       "차량관리번호                0\n",
       "차량등록번호                0\n",
       "본거지법정동코드              0\n",
       "소유자구분                 0\n",
       "차종_등록정보               2\n",
       "용도                    0\n",
       "현재회원번호              839\n",
       "차대번호                  0\n",
       "최초등록일자                0\n",
       "차량연식                  0\n",
       "차량제작일자           168773\n",
       "배출가스검사유효일자           12\n",
       "제원관리번호                0\n",
       "배출가스인증번호         123700\n",
       "배출가스등급                0\n",
       "저공해조치YN(미사용)        155\n",
       "저공해조치종류         1511022\n",
       "저공해조치구조변경YN           0\n",
       "차량등록번호숫자정보            0\n",
       "차량말소YN                0\n",
       "최초회원번호             4655\n",
       "취득일자              93214\n",
       "취득금액              74401\n",
       "생성일시                  0\n",
       "수정일시             596187\n",
       "차명                    0\n",
       "차종_제원정보               0\n",
       "차종분류                  0\n",
       "차종유형(소분류)             0\n",
       "자동차형식               528\n",
       "제작사명              10027\n",
       "연료                   71\n",
       "엔진형식               2001\n",
       "공차중량            1511211\n",
       "총중량                  25\n",
       "적재중량                537\n",
       "엔진출력                628\n",
       "배기량                  11\n",
       "승차인원                  0\n",
       "차량길이                 75\n",
       "차량너비                 75\n",
       "차량높이                 77\n",
       "원산지명              19125\n",
       "삭제YN                  0\n",
       "승인일자                547\n",
       "구동형식            1511164\n",
       "변속기종류               160\n",
       "생성일시_제원정보             0\n",
       "수정일시_제원정보       1510714\n",
       "저감장치종류          1511175\n",
       "TDMS부착여부        1511182\n",
       "구조변경일자          1511175\n",
       "부착업체명           1511175\n",
       "부착일자            1511175\n",
       "탈거승인일           1511211\n",
       "차량번호            1511175\n",
       "저감장치반납여부        1511211\n",
       "저감장치구분          1511175\n",
       "삼원촉매장치반납여부      1511211\n",
       "dtype: int64"
      ]
     },
     "execution_count": 20,
     "metadata": {},
     "output_type": "execute_result"
    }
   ],
   "source": [
    "total.isnull().sum()"
   ]
  },
  {
   "attachments": {},
   "cell_type": "markdown",
   "metadata": {},
   "source": [
    "## 저감 데이터에서 등록&제원 데이터와 매칭되는 차대번호 샘플"
   ]
  },
  {
   "cell_type": "code",
   "execution_count": 21,
   "metadata": {},
   "outputs": [
    {
     "data": {
      "text/plain": [
       "809219"
      ]
     },
     "execution_count": 21,
     "metadata": {},
     "output_type": "execute_result"
    }
   ],
   "source": [
    "miss_match_vin = list(set(dpf['차대번호']) - set(df['차대번호']))\n",
    "len(miss_match_vin)"
   ]
  },
  {
   "cell_type": "code",
   "execution_count": 22,
   "metadata": {},
   "outputs": [
    {
     "data": {
      "text/plain": [
       "36"
      ]
     },
     "execution_count": 22,
     "metadata": {},
     "output_type": "execute_result"
    }
   ],
   "source": [
    "match_vin = list(set(dpf['차대번호']) & set(df['차대번호']))\n",
    "len(match_vin)"
   ]
  },
  {
   "cell_type": "code",
   "execution_count": 23,
   "metadata": {},
   "outputs": [
    {
     "data": {
      "text/plain": [
       "['KL5UY61YD7P000752',\n",
       " 'KMHSJ81WP7U204822',\n",
       " 'KL5UY61YD7P000803',\n",
       " 'KL3K9ARF57K000004',\n",
       " 'KMHSJ81WP7U231639']"
      ]
     },
     "execution_count": 23,
     "metadata": {},
     "output_type": "execute_result"
    }
   ],
   "source": [
    "match_vin[:5]"
   ]
  },
  {
   "cell_type": "code",
   "execution_count": 28,
   "metadata": {},
   "outputs": [
    {
     "name": "stderr",
     "output_type": "stream",
     "text": [
      "100%|██████████| 36/36 [00:01<00:00, 22.06it/s]\n"
     ]
    },
    {
     "data": {
      "text/plain": [
       "(36, 11)"
      ]
     },
     "execution_count": 28,
     "metadata": {},
     "output_type": "execute_result"
    }
   ],
   "source": [
    "match_dpf = pd.DataFrame()\n",
    "for one in tqdm(match_vin):\n",
    "    temp = dpf[dpf['차대번호'] == one]\n",
    "    match_dpf = pd.concat([match_dpf, temp], ignore_index=True)\n",
    "match_dpf.shape"
   ]
  },
  {
   "cell_type": "code",
   "execution_count": 29,
   "metadata": {},
   "outputs": [
    {
     "data": {
      "text/html": [
       "<div>\n",
       "<style scoped>\n",
       "    .dataframe tbody tr th:only-of-type {\n",
       "        vertical-align: middle;\n",
       "    }\n",
       "\n",
       "    .dataframe tbody tr th {\n",
       "        vertical-align: top;\n",
       "    }\n",
       "\n",
       "    .dataframe thead th {\n",
       "        text-align: right;\n",
       "    }\n",
       "</style>\n",
       "<table border=\"1\" class=\"dataframe\">\n",
       "  <thead>\n",
       "    <tr style=\"text-align: right;\">\n",
       "      <th></th>\n",
       "      <th>저감장치종류</th>\n",
       "      <th>TDMS부착여부</th>\n",
       "      <th>구조변경일자</th>\n",
       "      <th>부착업체명</th>\n",
       "      <th>부착일자</th>\n",
       "      <th>탈거승인일</th>\n",
       "      <th>차량번호</th>\n",
       "      <th>차대번호</th>\n",
       "      <th>저감장치반납여부</th>\n",
       "      <th>저감장치구분</th>\n",
       "      <th>삼원촉매장치반납여부</th>\n",
       "    </tr>\n",
       "  </thead>\n",
       "  <tbody>\n",
       "    <tr>\n",
       "      <th>29</th>\n",
       "      <td>복합대형</td>\n",
       "      <td>N</td>\n",
       "      <td>20191216</td>\n",
       "      <td>㈜주왕</td>\n",
       "      <td>20191216.00</td>\n",
       "      <td>NaN</td>\n",
       "      <td>충남80아2361</td>\n",
       "      <td>KL3C6CHF18K003487</td>\n",
       "      <td>NaN</td>\n",
       "      <td>1종</td>\n",
       "      <td>NaN</td>\n",
       "    </tr>\n",
       "    <tr>\n",
       "      <th>17</th>\n",
       "      <td>자연대형</td>\n",
       "      <td>N</td>\n",
       "      <td>20191011</td>\n",
       "      <td>(주)명성테크</td>\n",
       "      <td>20191011.00</td>\n",
       "      <td>NaN</td>\n",
       "      <td>부산91아2052</td>\n",
       "      <td>KL3K9ARF18K000823</td>\n",
       "      <td>NaN</td>\n",
       "      <td>1종</td>\n",
       "      <td>NaN</td>\n",
       "    </tr>\n",
       "    <tr>\n",
       "      <th>28</th>\n",
       "      <td>자연대형+SCR</td>\n",
       "      <td>N</td>\n",
       "      <td>20190927</td>\n",
       "      <td>(주)서천제일자동차공업사</td>\n",
       "      <td>20190927.00</td>\n",
       "      <td>NaN</td>\n",
       "      <td>서울87아7110</td>\n",
       "      <td>KL3K9ARF57K000004</td>\n",
       "      <td>NaN</td>\n",
       "      <td>1종+SCR</td>\n",
       "      <td>NaN</td>\n",
       "    </tr>\n",
       "    <tr>\n",
       "      <th>34</th>\n",
       "      <td>복합대형</td>\n",
       "      <td>N</td>\n",
       "      <td>20160126</td>\n",
       "      <td>북항자동차정비검사소</td>\n",
       "      <td>20160126.00</td>\n",
       "      <td>NaN</td>\n",
       "      <td>서울74바1057</td>\n",
       "      <td>KL5UY61YD7P000720</td>\n",
       "      <td>NaN</td>\n",
       "      <td>1종</td>\n",
       "      <td>NaN</td>\n",
       "    </tr>\n",
       "    <tr>\n",
       "      <th>4</th>\n",
       "      <td>자연대형+SCR</td>\n",
       "      <td>N</td>\n",
       "      <td>20160826</td>\n",
       "      <td>형제자동차공업사(부천)</td>\n",
       "      <td>20160826.00</td>\n",
       "      <td>NaN</td>\n",
       "      <td>인천73바9377</td>\n",
       "      <td>KL5UY61YD7P000752</td>\n",
       "      <td>NaN</td>\n",
       "      <td>1종+SCR</td>\n",
       "      <td>NaN</td>\n",
       "    </tr>\n",
       "  </tbody>\n",
       "</table>\n",
       "</div>"
      ],
      "text/plain": [
       "      저감장치종류 TDMS부착여부    구조변경일자          부착업체명        부착일자  탈거승인일       차량번호  \\\n",
       "29      복합대형        N  20191216            ㈜주왕 20191216.00    NaN  충남80아2361   \n",
       "17      자연대형        N  20191011        (주)명성테크 20191011.00    NaN  부산91아2052   \n",
       "28  자연대형+SCR        N  20190927  (주)서천제일자동차공업사 20190927.00    NaN  서울87아7110   \n",
       "34      복합대형        N  20160126     북항자동차정비검사소 20160126.00    NaN  서울74바1057   \n",
       "4   자연대형+SCR        N  20160826   형제자동차공업사(부천) 20160826.00    NaN  인천73바9377   \n",
       "\n",
       "                 차대번호 저감장치반납여부  저감장치구분 삼원촉매장치반납여부  \n",
       "29  KL3C6CHF18K003487      NaN      1종        NaN  \n",
       "17  KL3K9ARF18K000823      NaN      1종        NaN  \n",
       "28  KL3K9ARF57K000004      NaN  1종+SCR        NaN  \n",
       "34  KL5UY61YD7P000720      NaN      1종        NaN  \n",
       "4   KL5UY61YD7P000752      NaN  1종+SCR        NaN  "
      ]
     },
     "execution_count": 29,
     "metadata": {},
     "output_type": "execute_result"
    }
   ],
   "source": [
    "match_dpf.sort_values(['차대번호', '구조변경일자', '부착일자']).head()"
   ]
  },
  {
   "cell_type": "code",
   "execution_count": 30,
   "metadata": {},
   "outputs": [
    {
     "data": {
      "text/plain": [
       "(36, 11)"
      ]
     },
     "execution_count": 30,
     "metadata": {},
     "output_type": "execute_result"
    }
   ],
   "source": [
    "match_dpf.shape"
   ]
  },
  {
   "cell_type": "code",
   "execution_count": 31,
   "metadata": {},
   "outputs": [
    {
     "data": {
      "text/plain": [
       "0"
      ]
     },
     "execution_count": 31,
     "metadata": {},
     "output_type": "execute_result"
    }
   ],
   "source": [
    "match_dpf.duplicated('차대번호').sum()"
   ]
  },
  {
   "attachments": {},
   "cell_type": "markdown",
   "metadata": {},
   "source": [
    "### [출력] 매칭되는 차대번호 샘플"
   ]
  },
  {
   "cell_type": "code",
   "execution_count": 32,
   "metadata": {},
   "outputs": [],
   "source": [
    "# match_dpf.sort_values(['차대번호', '구조변경일자', '부착일자']).to_excel(f'analysis2/[BD3][G{grade}][통계]저감장치부착이력_등록&제원정보_매칭_차대번호_샘플(말소제거).xlsx', index=False)"
   ]
  },
  {
   "attachments": {},
   "cell_type": "markdown",
   "metadata": {},
   "source": [
    "## 분류 통계\n",
    "- 중복 차대번호 제거\n",
    "    - 최초등록일자, 배출가스검사유효일자 : 최신순(ascending=False)\n",
    "- 분류\n",
    "    - 연료 : 휘발유가스, 경유\n",
    "    - 차량제작일자\n",
    "    - 저감장치구분(1종, 1종+SCR)"
   ]
  },
  {
   "cell_type": "code",
   "execution_count": 24,
   "metadata": {},
   "outputs": [
    {
     "data": {
      "text/plain": [
       "Index(['차량관리번호', '차량등록번호', '본거지법정동코드', '소유자구분', '차종_등록정보', '용도', '현재회원번호',\n",
       "       '차대번호', '최초등록일자', '차량연식', '차량제작일자', '배출가스검사유효일자', '제원관리번호', '배출가스인증번호',\n",
       "       '배출가스등급', '저공해조치YN(미사용)', '저공해조치종류', '저공해조치구조변경YN', '차량등록번호숫자정보',\n",
       "       '차량말소YN', '최초회원번호', '취득일자', '취득금액', '생성일시', '수정일시', '차명', '차종_제원정보',\n",
       "       '차종분류', '차종유형(소분류)', '자동차형식', '제작사명', '연료', '엔진형식', '공차중량', '총중량',\n",
       "       '적재중량', '엔진출력', '배기량', '승차인원', '차량길이', '차량너비', '차량높이', '원산지명', '삭제YN',\n",
       "       '승인일자', '구동형식', '변속기종류', '생성일시_제원정보', '수정일시_제원정보', '저감장치종류', 'TDMS부착여부',\n",
       "       '구조변경일자', '부착업체명', '부착일자', '탈거승인일', '차량번호', '저감장치반납여부', '저감장치구분',\n",
       "       '삼원촉매장치반납여부'],\n",
       "      dtype='object')"
      ]
     },
     "execution_count": 24,
     "metadata": {},
     "output_type": "execute_result"
    }
   ],
   "source": [
    "total.columns"
   ]
  },
  {
   "attachments": {},
   "cell_type": "markdown",
   "metadata": {},
   "source": [
    "## 유로4 DPF 부착여부 적용"
   ]
  },
  {
   "cell_type": "code",
   "execution_count": 25,
   "metadata": {},
   "outputs": [
    {
     "data": {
      "text/plain": [
       "(1511211, 60)"
      ]
     },
     "execution_count": 25,
     "metadata": {},
     "output_type": "execute_result"
    }
   ],
   "source": [
    "total1 = total.merge(euro, on='배출가스인증번호', how='left')\n",
    "total1.shape"
   ]
  },
  {
   "cell_type": "code",
   "execution_count": 26,
   "metadata": {},
   "outputs": [
    {
     "data": {
      "text/plain": [
       "무    686158\n",
       "유    306096\n",
       "Name: DPF유무, dtype: int64"
      ]
     },
     "execution_count": 26,
     "metadata": {},
     "output_type": "execute_result"
    }
   ],
   "source": [
    "total1['DPF유무'].value_counts()"
   ]
  },
  {
   "cell_type": "code",
   "execution_count": 27,
   "metadata": {},
   "outputs": [
    {
     "data": {
      "text/plain": [
       "무      686158\n",
       "nan    518957\n",
       "유      306096\n",
       "Name: DPF유무, dtype: int64"
      ]
     },
     "execution_count": 27,
     "metadata": {},
     "output_type": "execute_result"
    }
   ],
   "source": [
    "total1['DPF유무'] = total1['DPF유무'].astype('str')\n",
    "total1['DPF유무'].value_counts()"
   ]
  },
  {
   "cell_type": "code",
   "execution_count": 28,
   "metadata": {},
   "outputs": [
    {
     "data": {
      "text/plain": [
       "무    1205115\n",
       "유     306096\n",
       "Name: DPF유무, dtype: int64"
      ]
     },
     "execution_count": 28,
     "metadata": {},
     "output_type": "execute_result"
    }
   ],
   "source": [
    "total1['DPF유무'] = total1['DPF유무'].str.replace('nan', '무')\n",
    "total1['DPF유무'].value_counts()"
   ]
  },
  {
   "cell_type": "code",
   "execution_count": 29,
   "metadata": {},
   "outputs": [],
   "source": [
    "temp = total1.isnull().sum().reset_index()"
   ]
  },
  {
   "cell_type": "code",
   "execution_count": 30,
   "metadata": {},
   "outputs": [
    {
     "data": {
      "text/plain": [
       "Index(['index', 0], dtype='object')"
      ]
     },
     "execution_count": 30,
     "metadata": {},
     "output_type": "execute_result"
    }
   ],
   "source": [
    "temp.columns"
   ]
  },
  {
   "cell_type": "code",
   "execution_count": 31,
   "metadata": {},
   "outputs": [
    {
     "data": {
      "text/html": [
       "<div>\n",
       "<style scoped>\n",
       "    .dataframe tbody tr th:only-of-type {\n",
       "        vertical-align: middle;\n",
       "    }\n",
       "\n",
       "    .dataframe tbody tr th {\n",
       "        vertical-align: top;\n",
       "    }\n",
       "\n",
       "    .dataframe thead th {\n",
       "        text-align: right;\n",
       "    }\n",
       "</style>\n",
       "<table border=\"1\" class=\"dataframe\">\n",
       "  <thead>\n",
       "    <tr style=\"text-align: right;\">\n",
       "      <th></th>\n",
       "      <th>index</th>\n",
       "      <th>0</th>\n",
       "    </tr>\n",
       "  </thead>\n",
       "  <tbody>\n",
       "    <tr>\n",
       "      <th>17</th>\n",
       "      <td>저공해조치구조변경YN</td>\n",
       "      <td>0</td>\n",
       "    </tr>\n",
       "  </tbody>\n",
       "</table>\n",
       "</div>"
      ],
      "text/plain": [
       "          index  0\n",
       "17  저공해조치구조변경YN  0"
      ]
     },
     "execution_count": 31,
     "metadata": {},
     "output_type": "execute_result"
    }
   ],
   "source": [
    "temp[temp['index'] == '저공해조치구조변경YN']"
   ]
  },
  {
   "cell_type": "code",
   "execution_count": 32,
   "metadata": {},
   "outputs": [
    {
     "data": {
      "text/plain": [
       "N    1204047\n",
       "Y     307164\n",
       "Name: 저공해조치구조변경YN, dtype: int64"
      ]
     },
     "execution_count": 32,
     "metadata": {},
     "output_type": "execute_result"
    }
   ],
   "source": [
    "total1['저공해조치구조변경YN'].value_counts(dropna=False)"
   ]
  },
  {
   "cell_type": "code",
   "execution_count": 33,
   "metadata": {},
   "outputs": [
    {
     "data": {
      "text/html": [
       "<div>\n",
       "<style scoped>\n",
       "    .dataframe tbody tr th:only-of-type {\n",
       "        vertical-align: middle;\n",
       "    }\n",
       "\n",
       "    .dataframe tbody tr th {\n",
       "        vertical-align: top;\n",
       "    }\n",
       "\n",
       "    .dataframe thead th {\n",
       "        text-align: right;\n",
       "    }\n",
       "</style>\n",
       "<table border=\"1\" class=\"dataframe\">\n",
       "  <thead>\n",
       "    <tr style=\"text-align: right;\">\n",
       "      <th></th>\n",
       "      <th>index</th>\n",
       "      <th>0</th>\n",
       "    </tr>\n",
       "  </thead>\n",
       "  <tbody>\n",
       "    <tr>\n",
       "      <th>51</th>\n",
       "      <td>구조변경일자</td>\n",
       "      <td>1511175</td>\n",
       "    </tr>\n",
       "  </tbody>\n",
       "</table>\n",
       "</div>"
      ],
      "text/plain": [
       "     index        0\n",
       "51  구조변경일자  1511175"
      ]
     },
     "execution_count": 33,
     "metadata": {},
     "output_type": "execute_result"
    }
   ],
   "source": [
    "temp[temp['index'] == '구조변경일자']"
   ]
  },
  {
   "cell_type": "code",
   "execution_count": 34,
   "metadata": {},
   "outputs": [
    {
     "data": {
      "text/html": [
       "<div>\n",
       "<style scoped>\n",
       "    .dataframe tbody tr th:only-of-type {\n",
       "        vertical-align: middle;\n",
       "    }\n",
       "\n",
       "    .dataframe tbody tr th {\n",
       "        vertical-align: top;\n",
       "    }\n",
       "\n",
       "    .dataframe thead th {\n",
       "        text-align: right;\n",
       "    }\n",
       "</style>\n",
       "<table border=\"1\" class=\"dataframe\">\n",
       "  <thead>\n",
       "    <tr style=\"text-align: right;\">\n",
       "      <th></th>\n",
       "      <th>index</th>\n",
       "      <th>0</th>\n",
       "    </tr>\n",
       "  </thead>\n",
       "  <tbody>\n",
       "    <tr>\n",
       "      <th>59</th>\n",
       "      <td>DPF유무</td>\n",
       "      <td>0</td>\n",
       "    </tr>\n",
       "  </tbody>\n",
       "</table>\n",
       "</div>"
      ],
      "text/plain": [
       "    index  0\n",
       "59  DPF유무  0"
      ]
     },
     "execution_count": 34,
     "metadata": {},
     "output_type": "execute_result"
    }
   ],
   "source": [
    "temp[temp['index'] == 'DPF유무']"
   ]
  },
  {
   "cell_type": "code",
   "execution_count": 35,
   "metadata": {},
   "outputs": [
    {
     "data": {
      "text/html": [
       "<div>\n",
       "<style scoped>\n",
       "    .dataframe tbody tr th:only-of-type {\n",
       "        vertical-align: middle;\n",
       "    }\n",
       "\n",
       "    .dataframe tbody tr th {\n",
       "        vertical-align: top;\n",
       "    }\n",
       "\n",
       "    .dataframe thead th {\n",
       "        text-align: right;\n",
       "    }\n",
       "</style>\n",
       "<table border=\"1\" class=\"dataframe\">\n",
       "  <thead>\n",
       "    <tr style=\"text-align: right;\">\n",
       "      <th></th>\n",
       "      <th>index</th>\n",
       "      <th>0</th>\n",
       "    </tr>\n",
       "  </thead>\n",
       "  <tbody>\n",
       "    <tr>\n",
       "      <th>57</th>\n",
       "      <td>저감장치구분</td>\n",
       "      <td>1511175</td>\n",
       "    </tr>\n",
       "  </tbody>\n",
       "</table>\n",
       "</div>"
      ],
      "text/plain": [
       "     index        0\n",
       "57  저감장치구분  1511175"
      ]
     },
     "execution_count": 35,
     "metadata": {},
     "output_type": "execute_result"
    }
   ],
   "source": [
    "temp[temp['index'] == '저감장치구분']"
   ]
  },
  {
   "attachments": {},
   "cell_type": "markdown",
   "metadata": {},
   "source": [
    "# 분석"
   ]
  },
  {
   "attachments": {},
   "cell_type": "markdown",
   "metadata": {},
   "source": [
    "## [Case 5]"
   ]
  },
  {
   "attachments": {},
   "cell_type": "markdown",
   "metadata": {},
   "source": [
    "### 차량연료별 분류\n",
    "- 차량 대수\n",
    "    - 휘발류•가스('휘발유', '알코올', 'LGP(액화석유가스)', 'CNG(압축천연가스)')\n",
    "    - 경유"
   ]
  },
  {
   "cell_type": "code",
   "execution_count": 36,
   "metadata": {},
   "outputs": [
    {
     "data": {
      "text/plain": [
       "array(['경유', '휘발유', nan, '기타연료', 'LGP(액화석유가스)', 'CNG(압축천연가스)', '알코올'],\n",
       "      dtype=object)"
      ]
     },
     "execution_count": 36,
     "metadata": {},
     "output_type": "execute_result"
    }
   ],
   "source": [
    "total1['연료'].unique()"
   ]
  },
  {
   "cell_type": "code",
   "execution_count": 37,
   "metadata": {},
   "outputs": [
    {
     "data": {
      "text/plain": [
       "(358404, 60)"
      ]
     },
     "execution_count": 37,
     "metadata": {},
     "output_type": "execute_result"
    }
   ],
   "source": [
    "total1[ (total1['연료'] == '휘발유') | (total1['연료'] == '알코올') | (total1['연료'] == 'LGP(액화석유가스)') | (total1['연료'] == 'CNG(압축천연가스)') ].shape"
   ]
  },
  {
   "cell_type": "code",
   "execution_count": 38,
   "metadata": {},
   "outputs": [
    {
     "data": {
      "text/plain": [
       "(1152697, 60)"
      ]
     },
     "execution_count": 38,
     "metadata": {},
     "output_type": "execute_result"
    }
   ],
   "source": [
    "total1[total1['연료'] == '경유'].shape"
   ]
  },
  {
   "cell_type": "code",
   "execution_count": 39,
   "metadata": {},
   "outputs": [
    {
     "data": {
      "text/html": [
       "<div>\n",
       "<style scoped>\n",
       "    .dataframe tbody tr th:only-of-type {\n",
       "        vertical-align: middle;\n",
       "    }\n",
       "\n",
       "    .dataframe tbody tr th {\n",
       "        vertical-align: top;\n",
       "    }\n",
       "\n",
       "    .dataframe thead th {\n",
       "        text-align: right;\n",
       "    }\n",
       "</style>\n",
       "<table border=\"1\" class=\"dataframe\">\n",
       "  <thead>\n",
       "    <tr style=\"text-align: right;\">\n",
       "      <th></th>\n",
       "      <th>연료</th>\n",
       "      <th>수(차대번호)</th>\n",
       "    </tr>\n",
       "  </thead>\n",
       "  <tbody>\n",
       "    <tr>\n",
       "      <th>0</th>\n",
       "      <td>휘발유_가스</td>\n",
       "      <td>358404</td>\n",
       "    </tr>\n",
       "    <tr>\n",
       "      <th>1</th>\n",
       "      <td>경유</td>\n",
       "      <td>1152697</td>\n",
       "    </tr>\n",
       "  </tbody>\n",
       "</table>\n",
       "</div>"
      ],
      "text/plain": [
       "       연료  수(차대번호)\n",
       "0  휘발유_가스   358404\n",
       "1      경유  1152697"
      ]
     },
     "execution_count": 39,
     "metadata": {},
     "output_type": "execute_result"
    }
   ],
   "source": [
    "num_by_fuel = pd.DataFrame({'연료':['휘발유_가스', '경유'], \n",
    "                            '수(차대번호)':[\n",
    "                                total1[ (total1['연료'] == '휘발유') | (total1['연료'] == '알코올') | (total1['연료'] == 'LGP(액화석유가스)') | (total1['연료'] == 'CNG(압축천연가스)') ].shape[0], \n",
    "                                total1[total1['연료'] == '경유'].shape[0]\n",
    "                                ]\n",
    "                            })\n",
    "num_by_fuel"
   ]
  },
  {
   "cell_type": "code",
   "execution_count": 40,
   "metadata": {},
   "outputs": [
    {
     "name": "stderr",
     "output_type": "stream",
     "text": [
      "100%|██████████| 1511211/1511211 [00:00<00:00, 1799978.46it/s]\n"
     ]
    },
    {
     "data": {
      "text/plain": [
       "1511211"
      ]
     },
     "execution_count": 40,
     "metadata": {},
     "output_type": "execute_result"
    }
   ],
   "source": [
    "fuel_list = []\n",
    "for one in tqdm(total1['연료']):\n",
    "    if one == '휘발유' or one == '알코올' or one == 'LGP(액화석유가스)' or one == 'CNG(압축천연가스)':\n",
    "        fuel_list.append('휘발유_가스')\n",
    "    elif one == '경유':\n",
    "        fuel_list.append('경유')\n",
    "    else:\n",
    "        fuel_list.append('기타')\n",
    "len(fuel_list)"
   ]
  },
  {
   "cell_type": "code",
   "execution_count": 41,
   "metadata": {},
   "outputs": [],
   "source": [
    "total1['fuel'] = fuel_list"
   ]
  },
  {
   "attachments": {},
   "cell_type": "markdown",
   "metadata": {},
   "source": [
    "### 차량제작일자별 분류\n",
    "- 휘발류•가스('휘발유', 'LGP(액화석유가스)', '알코올', 'CNG(압축천연가스)')\n",
    "    - A : 1988.01.01 ~ 2000.12.31\n",
    "    - B : ~ 1997.12.31\n",
    "- 경유(DPF : 저감장치구분, DFP유무)\n",
    "    - A : DPF, 2008.01.01 ~\n",
    "    - B : DPF, ~ 2007.12.31\n",
    "    - C : 2008.01.01 ~\n",
    "    - D : ~ 2007.12.31"
   ]
  },
  {
   "cell_type": "code",
   "execution_count": 42,
   "metadata": {},
   "outputs": [
    {
     "data": {
      "text/plain": [
       "count    1342438.00\n",
       "mean    20072068.99\n",
       "std        52081.54\n",
       "min      2100819.00\n",
       "25%     20070816.00\n",
       "50%     20090306.00\n",
       "75%     20100619.00\n",
       "max     20190926.00\n",
       "Name: 차량제작일자, dtype: float64"
      ]
     },
     "execution_count": 42,
     "metadata": {},
     "output_type": "execute_result"
    }
   ],
   "source": [
    "total1['차량제작일자'].describe()"
   ]
  },
  {
   "cell_type": "code",
   "execution_count": 43,
   "metadata": {},
   "outputs": [
    {
     "data": {
      "text/plain": [
       "count         36.00\n",
       "mean    20168754.36\n",
       "std        33314.56\n",
       "min     20101022.00\n",
       "25%     20157721.50\n",
       "50%     20190755.50\n",
       "75%     20191120.25\n",
       "max     20200211.00\n",
       "Name: 구조변경일자, dtype: float64"
      ]
     },
     "execution_count": 43,
     "metadata": {},
     "output_type": "execute_result"
    }
   ],
   "source": [
    "total1['구조변경일자'].describe()"
   ]
  },
  {
   "cell_type": "code",
   "execution_count": 44,
   "metadata": {},
   "outputs": [
    {
     "data": {
      "text/plain": [
       "1511175"
      ]
     },
     "execution_count": 44,
     "metadata": {},
     "output_type": "execute_result"
    }
   ],
   "source": [
    "total1['구조변경일자'].isnull().sum()"
   ]
  },
  {
   "cell_type": "code",
   "execution_count": 45,
   "metadata": {},
   "outputs": [
    {
     "data": {
      "text/plain": [
       "N    1204047\n",
       "Y     307164\n",
       "Name: 저공해조치구조변경YN, dtype: int64"
      ]
     },
     "execution_count": 45,
     "metadata": {},
     "output_type": "execute_result"
    }
   ],
   "source": [
    "total1['저공해조치구조변경YN'].value_counts(dropna=False)"
   ]
  },
  {
   "cell_type": "code",
   "execution_count": 46,
   "metadata": {},
   "outputs": [
    {
     "data": {
      "text/plain": [
       "NaN       1511175\n",
       "1종             32\n",
       "2종              2\n",
       "1종+SCR          2\n",
       "Name: 저감장치구분, dtype: int64"
      ]
     },
     "execution_count": 46,
     "metadata": {},
     "output_type": "execute_result"
    }
   ],
   "source": [
    "total1['저감장치구분'].value_counts(dropna=False)"
   ]
  },
  {
   "cell_type": "code",
   "execution_count": 47,
   "metadata": {},
   "outputs": [
    {
     "data": {
      "text/plain": [
       "2010    250187\n",
       "2011    235849\n",
       "2008    223275\n",
       "2009    210924\n",
       "2007    104407\n",
       "2012     93587\n",
       "1994     37724\n",
       "1996     35900\n",
       "1995     35255\n",
       "1993     34341\n",
       "1992     34065\n",
       "2006     32778\n",
       "1991     30469\n",
       "1997     29647\n",
       "1990     26782\n",
       "1989     20740\n",
       "1999     19507\n",
       "2000     12844\n",
       "1988     11869\n",
       "1998     10050\n",
       "2002      8483\n",
       "2001      7515\n",
       "1987      1287\n",
       "2005      1031\n",
       "2017       732\n",
       "2018       484\n",
       "2016       483\n",
       "2015       463\n",
       "2004       201\n",
       "2003       165\n",
       "2013        98\n",
       "2014        14\n",
       "1986        14\n",
       "2019        13\n",
       "1985         6\n",
       "1983         5\n",
       "1984         4\n",
       "2020         3\n",
       "1979         3\n",
       "1981         2\n",
       "1978         1\n",
       "1973         1\n",
       "1901         1\n",
       "1980         1\n",
       "1968         1\n",
       "Name: 차량연식, dtype: int64"
      ]
     },
     "execution_count": 47,
     "metadata": {},
     "output_type": "execute_result"
    }
   ],
   "source": [
    "total1['차량연식'].value_counts(dropna=False)"
   ]
  },
  {
   "cell_type": "code",
   "execution_count": 48,
   "metadata": {},
   "outputs": [
    {
     "data": {
      "text/plain": [
       "True"
      ]
     },
     "execution_count": 48,
     "metadata": {},
     "output_type": "execute_result"
    }
   ],
   "source": [
    "str(np.nan) == 'nan'"
   ]
  },
  {
   "cell_type": "code",
   "execution_count": 49,
   "metadata": {},
   "outputs": [
    {
     "name": "stderr",
     "output_type": "stream",
     "text": [
      "1511211it [00:03, 459411.26it/s]\n"
     ]
    },
    {
     "data": {
      "text/plain": [
       "1511211"
      ]
     },
     "execution_count": 49,
     "metadata": {},
     "output_type": "execute_result"
    }
   ],
   "source": [
    "grade_list = []\n",
    "for f, y, cy, d, e in tqdm(zip(total1['연료'], total1['차량제작일자'], total1['차량연식'],total1['저감장치구분'], total1['DPF유무'])):\n",
    "    if ( (f == '휘발유') or (f == 'LGP(액화석유가스)') or (f == '알코올') or (f == 'CNG(압축천연가스)') ) and ( (19980101 <= y <= 20001231) or (1998 <= cy <= 2000) ):\n",
    "        grade_list.append('A')\n",
    "    elif (f == '휘발유' or f == 'LGP(액화석유가스)' or f == '알코올' or f == 'CNG(압축천연가스)') and ( (y <= 19971231) or (cy <= 1997) ):\n",
    "        grade_list.append('B')\n",
    "    elif (f == '경유') and ( (y >= 20080101) or (cy >= 2008) ) and ( (str(d) == '1종') or (str(d) == '1종+SCR') or (e == '유') ):\n",
    "        grade_list.append('A')\n",
    "    elif (f == '경유') and ( (y <= 20071231) or (cy <= 2007) )and ( (str(d) == '1종') or (str(d) == '1종+SCR') or (e == '유') ):\n",
    "        grade_list.append('B')\n",
    "    elif (f == '경유') and ( (y >= 20080101) or (cy >= 2008) ) and ( (str(d) == 'nan') or (str(d) == '2종') or (e == '무') ):\n",
    "        grade_list.append('C')\n",
    "    elif (f == '경유') and ( (y <= 20071231) or (cy <= 2007) ) and ( (str(d) == 'nan') or (str(d) == '2종') or (e == '무') ):\n",
    "        grade_list.append('D')\n",
    "    else:\n",
    "        grade_list.append('X')\n",
    "len(grade_list)"
   ]
  },
  {
   "cell_type": "code",
   "execution_count": 50,
   "metadata": {},
   "outputs": [],
   "source": [
    "total1['Grade'] = grade_list"
   ]
  },
  {
   "cell_type": "code",
   "execution_count": 51,
   "metadata": {},
   "outputs": [
    {
     "data": {
      "text/plain": [
       "fuel\n",
       "경유        1152697\n",
       "기타            110\n",
       "휘발유_가스     358404\n",
       "Name: 차대번호, dtype: int64"
      ]
     },
     "execution_count": 51,
     "metadata": {},
     "output_type": "execute_result"
    }
   ],
   "source": [
    "total1.groupby(['fuel'])['차대번호'].count()"
   ]
  },
  {
   "cell_type": "code",
   "execution_count": 52,
   "metadata": {},
   "outputs": [
    {
     "data": {
      "text/plain": [
       "fuel    Grade\n",
       "경유      A        206113\n",
       "        B        100004\n",
       "        C        809308\n",
       "        D         37272\n",
       "기타      X           110\n",
       "휘발유_가스  A         43618\n",
       "        B        297338\n",
       "        X         17448\n",
       "Name: 차대번호, dtype: int64"
      ]
     },
     "execution_count": 52,
     "metadata": {},
     "output_type": "execute_result"
    }
   ],
   "source": [
    "total1.groupby(['fuel', 'Grade'])['차대번호'].count()"
   ]
  },
  {
   "cell_type": "code",
   "execution_count": 53,
   "metadata": {},
   "outputs": [
    {
     "data": {
      "text/html": [
       "<div>\n",
       "<style scoped>\n",
       "    .dataframe tbody tr th:only-of-type {\n",
       "        vertical-align: middle;\n",
       "    }\n",
       "\n",
       "    .dataframe tbody tr th {\n",
       "        vertical-align: top;\n",
       "    }\n",
       "\n",
       "    .dataframe thead th {\n",
       "        text-align: right;\n",
       "    }\n",
       "</style>\n",
       "<table border=\"1\" class=\"dataframe\">\n",
       "  <thead>\n",
       "    <tr style=\"text-align: right;\">\n",
       "      <th></th>\n",
       "      <th>차량관리번호</th>\n",
       "      <th>차량등록번호</th>\n",
       "      <th>본거지법정동코드</th>\n",
       "      <th>소유자구분</th>\n",
       "      <th>차종_등록정보</th>\n",
       "      <th>용도</th>\n",
       "      <th>현재회원번호</th>\n",
       "      <th>차대번호</th>\n",
       "      <th>최초등록일자</th>\n",
       "      <th>차량연식</th>\n",
       "      <th>...</th>\n",
       "      <th>부착업체명</th>\n",
       "      <th>부착일자</th>\n",
       "      <th>탈거승인일</th>\n",
       "      <th>차량번호</th>\n",
       "      <th>저감장치반납여부</th>\n",
       "      <th>저감장치구분</th>\n",
       "      <th>삼원촉매장치반납여부</th>\n",
       "      <th>DPF유무</th>\n",
       "      <th>fuel</th>\n",
       "      <th>Grade</th>\n",
       "    </tr>\n",
       "  </thead>\n",
       "  <tbody>\n",
       "  </tbody>\n",
       "</table>\n",
       "<p>0 rows × 62 columns</p>\n",
       "</div>"
      ],
      "text/plain": [
       "Empty DataFrame\n",
       "Columns: [차량관리번호, 차량등록번호, 본거지법정동코드, 소유자구분, 차종_등록정보, 용도, 현재회원번호, 차대번호, 최초등록일자, 차량연식, 차량제작일자, 배출가스검사유효일자, 제원관리번호, 배출가스인증번호, 배출가스등급, 저공해조치YN(미사용), 저공해조치종류, 저공해조치구조변경YN, 차량등록번호숫자정보, 차량말소YN, 최초회원번호, 취득일자, 취득금액, 생성일시, 수정일시, 차명, 차종_제원정보, 차종분류, 차종유형(소분류), 자동차형식, 제작사명, 연료, 엔진형식, 공차중량, 총중량, 적재중량, 엔진출력, 배기량, 승차인원, 차량길이, 차량너비, 차량높이, 원산지명, 삭제YN, 승인일자, 구동형식, 변속기종류, 생성일시_제원정보, 수정일시_제원정보, 저감장치종류, TDMS부착여부, 구조변경일자, 부착업체명, 부착일자, 탈거승인일, 차량번호, 저감장치반납여부, 저감장치구분, 삼원촉매장치반납여부, DPF유무, fuel, Grade]\n",
       "Index: []\n",
       "\n",
       "[0 rows x 62 columns]"
      ]
     },
     "execution_count": 53,
     "metadata": {},
     "output_type": "execute_result"
    }
   ],
   "source": [
    "total1[(total1['fuel'] == '경유') & (total1['Grade'] == 'X')]"
   ]
  },
  {
   "cell_type": "code",
   "execution_count": 54,
   "metadata": {},
   "outputs": [
    {
     "data": {
      "text/html": [
       "<div>\n",
       "<style scoped>\n",
       "    .dataframe tbody tr th:only-of-type {\n",
       "        vertical-align: middle;\n",
       "    }\n",
       "\n",
       "    .dataframe tbody tr th {\n",
       "        vertical-align: top;\n",
       "    }\n",
       "\n",
       "    .dataframe thead th {\n",
       "        text-align: right;\n",
       "    }\n",
       "</style>\n",
       "<table border=\"1\" class=\"dataframe\">\n",
       "  <thead>\n",
       "    <tr style=\"text-align: right;\">\n",
       "      <th></th>\n",
       "      <th>차량관리번호</th>\n",
       "      <th>차량등록번호</th>\n",
       "      <th>본거지법정동코드</th>\n",
       "      <th>소유자구분</th>\n",
       "      <th>차종_등록정보</th>\n",
       "      <th>용도</th>\n",
       "      <th>현재회원번호</th>\n",
       "      <th>차대번호</th>\n",
       "      <th>최초등록일자</th>\n",
       "      <th>차량연식</th>\n",
       "      <th>...</th>\n",
       "      <th>부착업체명</th>\n",
       "      <th>부착일자</th>\n",
       "      <th>탈거승인일</th>\n",
       "      <th>차량번호</th>\n",
       "      <th>저감장치반납여부</th>\n",
       "      <th>저감장치구분</th>\n",
       "      <th>삼원촉매장치반납여부</th>\n",
       "      <th>DPF유무</th>\n",
       "      <th>fuel</th>\n",
       "      <th>Grade</th>\n",
       "    </tr>\n",
       "  </thead>\n",
       "  <tbody>\n",
       "    <tr>\n",
       "      <th>55</th>\n",
       "      <td>1C3EW65G51V703776-02</td>\n",
       "      <td>14저9873</td>\n",
       "      <td>2729011100</td>\n",
       "      <td>주민</td>\n",
       "      <td>승용</td>\n",
       "      <td>자가용</td>\n",
       "      <td>972CC41E952C0C9DF73A2AE675AA8BD6</td>\n",
       "      <td>1C3EW65G51V703776</td>\n",
       "      <td>20200421</td>\n",
       "      <td>2001</td>\n",
       "      <td>...</td>\n",
       "      <td>NaN</td>\n",
       "      <td>NaN</td>\n",
       "      <td>NaN</td>\n",
       "      <td>NaN</td>\n",
       "      <td>NaN</td>\n",
       "      <td>NaN</td>\n",
       "      <td>NaN</td>\n",
       "      <td>무</td>\n",
       "      <td>휘발유_가스</td>\n",
       "      <td>X</td>\n",
       "    </tr>\n",
       "    <tr>\n",
       "      <th>56</th>\n",
       "      <td>1C3EW65G51V703776-01</td>\n",
       "      <td>14저9733</td>\n",
       "      <td>4113111000</td>\n",
       "      <td>주민</td>\n",
       "      <td>승용</td>\n",
       "      <td>자가용</td>\n",
       "      <td>C037AB7812B4F32C4BE747B5E9F6D68E</td>\n",
       "      <td>1C3EW65G51V703826</td>\n",
       "      <td>20200410</td>\n",
       "      <td>2001</td>\n",
       "      <td>...</td>\n",
       "      <td>NaN</td>\n",
       "      <td>NaN</td>\n",
       "      <td>NaN</td>\n",
       "      <td>NaN</td>\n",
       "      <td>NaN</td>\n",
       "      <td>NaN</td>\n",
       "      <td>NaN</td>\n",
       "      <td>무</td>\n",
       "      <td>휘발유_가스</td>\n",
       "      <td>X</td>\n",
       "    </tr>\n",
       "    <tr>\n",
       "      <th>122</th>\n",
       "      <td>KMHEP41BP2A644387-04</td>\n",
       "      <td>04보2050</td>\n",
       "      <td>4122025041</td>\n",
       "      <td>기타</td>\n",
       "      <td>승용</td>\n",
       "      <td>자가용</td>\n",
       "      <td>02AA45CAEFECA3407CF08F5BF486E111</td>\n",
       "      <td>KMHEP41BP2A644387</td>\n",
       "      <td>20190422</td>\n",
       "      <td>2002</td>\n",
       "      <td>...</td>\n",
       "      <td>NaN</td>\n",
       "      <td>NaN</td>\n",
       "      <td>NaN</td>\n",
       "      <td>NaN</td>\n",
       "      <td>NaN</td>\n",
       "      <td>NaN</td>\n",
       "      <td>NaN</td>\n",
       "      <td>무</td>\n",
       "      <td>휘발유_가스</td>\n",
       "      <td>X</td>\n",
       "    </tr>\n",
       "    <tr>\n",
       "      <th>155</th>\n",
       "      <td>KMHEP41BP1A451538-02</td>\n",
       "      <td>45라6813</td>\n",
       "      <td>4785025000</td>\n",
       "      <td>기타</td>\n",
       "      <td>승용</td>\n",
       "      <td>자가용</td>\n",
       "      <td>0A3310F560E1819328EF261BB1AC7D0D</td>\n",
       "      <td>KMHEP41BP1A451538</td>\n",
       "      <td>20190312</td>\n",
       "      <td>2001</td>\n",
       "      <td>...</td>\n",
       "      <td>NaN</td>\n",
       "      <td>NaN</td>\n",
       "      <td>NaN</td>\n",
       "      <td>NaN</td>\n",
       "      <td>NaN</td>\n",
       "      <td>NaN</td>\n",
       "      <td>NaN</td>\n",
       "      <td>무</td>\n",
       "      <td>휘발유_가스</td>\n",
       "      <td>X</td>\n",
       "    </tr>\n",
       "    <tr>\n",
       "      <th>181</th>\n",
       "      <td>KMHEN41BP1A493049-04</td>\n",
       "      <td>58주4268</td>\n",
       "      <td>4122025041</td>\n",
       "      <td>기타</td>\n",
       "      <td>승용</td>\n",
       "      <td>자가용</td>\n",
       "      <td>226609637B597B9BDA506E3C06569D3B</td>\n",
       "      <td>KMHEN41BP1A493049</td>\n",
       "      <td>20190207</td>\n",
       "      <td>2001</td>\n",
       "      <td>...</td>\n",
       "      <td>NaN</td>\n",
       "      <td>NaN</td>\n",
       "      <td>NaN</td>\n",
       "      <td>NaN</td>\n",
       "      <td>NaN</td>\n",
       "      <td>NaN</td>\n",
       "      <td>NaN</td>\n",
       "      <td>무</td>\n",
       "      <td>휘발유_가스</td>\n",
       "      <td>X</td>\n",
       "    </tr>\n",
       "  </tbody>\n",
       "</table>\n",
       "<p>5 rows × 62 columns</p>\n",
       "</div>"
      ],
      "text/plain": [
       "                   차량관리번호   차량등록번호    본거지법정동코드 소유자구분 차종_등록정보   용도  \\\n",
       "55   1C3EW65G51V703776-02  14저9873  2729011100    주민      승용  자가용   \n",
       "56   1C3EW65G51V703776-01  14저9733  4113111000    주민      승용  자가용   \n",
       "122  KMHEP41BP2A644387-04  04보2050  4122025041    기타      승용  자가용   \n",
       "155  KMHEP41BP1A451538-02  45라6813  4785025000    기타      승용  자가용   \n",
       "181  KMHEN41BP1A493049-04  58주4268  4122025041    기타      승용  자가용   \n",
       "\n",
       "                               현재회원번호               차대번호    최초등록일자  차량연식  ...  \\\n",
       "55   972CC41E952C0C9DF73A2AE675AA8BD6  1C3EW65G51V703776  20200421  2001  ...   \n",
       "56   C037AB7812B4F32C4BE747B5E9F6D68E  1C3EW65G51V703826  20200410  2001  ...   \n",
       "122  02AA45CAEFECA3407CF08F5BF486E111  KMHEP41BP2A644387  20190422  2002  ...   \n",
       "155  0A3310F560E1819328EF261BB1AC7D0D  KMHEP41BP1A451538  20190312  2001  ...   \n",
       "181  226609637B597B9BDA506E3C06569D3B  KMHEN41BP1A493049  20190207  2001  ...   \n",
       "\n",
       "     부착업체명  부착일자 탈거승인일 차량번호 저감장치반납여부 저감장치구분  삼원촉매장치반납여부 DPF유무    fuel Grade  \n",
       "55     NaN   NaN   NaN  NaN      NaN    NaN         NaN     무  휘발유_가스     X  \n",
       "56     NaN   NaN   NaN  NaN      NaN    NaN         NaN     무  휘발유_가스     X  \n",
       "122    NaN   NaN   NaN  NaN      NaN    NaN         NaN     무  휘발유_가스     X  \n",
       "155    NaN   NaN   NaN  NaN      NaN    NaN         NaN     무  휘발유_가스     X  \n",
       "181    NaN   NaN   NaN  NaN      NaN    NaN         NaN     무  휘발유_가스     X  \n",
       "\n",
       "[5 rows x 62 columns]"
      ]
     },
     "execution_count": 54,
     "metadata": {},
     "output_type": "execute_result"
    }
   ],
   "source": [
    "total1[(total1['fuel'] == '휘발유_가스') & (total1['Grade'] == 'X')].head()"
   ]
  },
  {
   "cell_type": "code",
   "execution_count": 55,
   "metadata": {},
   "outputs": [
    {
     "data": {
      "text/html": [
       "<div>\n",
       "<style scoped>\n",
       "    .dataframe tbody tr th:only-of-type {\n",
       "        vertical-align: middle;\n",
       "    }\n",
       "\n",
       "    .dataframe tbody tr th {\n",
       "        vertical-align: top;\n",
       "    }\n",
       "\n",
       "    .dataframe thead th {\n",
       "        text-align: right;\n",
       "    }\n",
       "</style>\n",
       "<table border=\"1\" class=\"dataframe\">\n",
       "  <thead>\n",
       "    <tr style=\"text-align: right;\">\n",
       "      <th></th>\n",
       "      <th>차량관리번호</th>\n",
       "      <th>차량등록번호</th>\n",
       "      <th>본거지법정동코드</th>\n",
       "      <th>소유자구분</th>\n",
       "      <th>차종_등록정보</th>\n",
       "      <th>용도</th>\n",
       "      <th>현재회원번호</th>\n",
       "      <th>차대번호</th>\n",
       "      <th>최초등록일자</th>\n",
       "      <th>차량연식</th>\n",
       "      <th>...</th>\n",
       "      <th>부착업체명</th>\n",
       "      <th>부착일자</th>\n",
       "      <th>탈거승인일</th>\n",
       "      <th>차량번호</th>\n",
       "      <th>저감장치반납여부</th>\n",
       "      <th>저감장치구분</th>\n",
       "      <th>삼원촉매장치반납여부</th>\n",
       "      <th>DPF유무</th>\n",
       "      <th>fuel</th>\n",
       "      <th>Grade</th>\n",
       "    </tr>\n",
       "  </thead>\n",
       "  <tbody>\n",
       "    <tr>\n",
       "      <th>1028</th>\n",
       "      <td>KL90C3ADGPBZ00002-02</td>\n",
       "      <td>04버5285</td>\n",
       "      <td>4122025041</td>\n",
       "      <td>기타</td>\n",
       "      <td>승용</td>\n",
       "      <td>자가용</td>\n",
       "      <td>4A7BC648CD39CEEC1350B36416682677</td>\n",
       "      <td>KL90C3ADGPBZ00002</td>\n",
       "      <td>20171127</td>\n",
       "      <td>1993</td>\n",
       "      <td>...</td>\n",
       "      <td>NaN</td>\n",
       "      <td>NaN</td>\n",
       "      <td>NaN</td>\n",
       "      <td>NaN</td>\n",
       "      <td>NaN</td>\n",
       "      <td>NaN</td>\n",
       "      <td>NaN</td>\n",
       "      <td>무</td>\n",
       "      <td>기타</td>\n",
       "      <td>X</td>\n",
       "    </tr>\n",
       "    <tr>\n",
       "      <th>3398</th>\n",
       "      <td>1SML4DC197J202141-01</td>\n",
       "      <td>82도5103</td>\n",
       "      <td>4874037021</td>\n",
       "      <td>주민</td>\n",
       "      <td>화물</td>\n",
       "      <td>자가용</td>\n",
       "      <td>F6F2052533AA840608E9E999850F0A12</td>\n",
       "      <td>1SML4DC197J202141</td>\n",
       "      <td>20130205</td>\n",
       "      <td>2007</td>\n",
       "      <td>...</td>\n",
       "      <td>NaN</td>\n",
       "      <td>NaN</td>\n",
       "      <td>NaN</td>\n",
       "      <td>NaN</td>\n",
       "      <td>NaN</td>\n",
       "      <td>NaN</td>\n",
       "      <td>NaN</td>\n",
       "      <td>무</td>\n",
       "      <td>기타</td>\n",
       "      <td>X</td>\n",
       "    </tr>\n",
       "    <tr>\n",
       "      <th>457123</th>\n",
       "      <td>1FMDU32X6TUB80420-01</td>\n",
       "      <td>35어6959</td>\n",
       "      <td>1117012400</td>\n",
       "      <td>기타</td>\n",
       "      <td>승용</td>\n",
       "      <td>자가용</td>\n",
       "      <td>6B6974ECF164E7DB55D1B46A602FFB55</td>\n",
       "      <td>1FMDU32X6TUB80420</td>\n",
       "      <td>20100111</td>\n",
       "      <td>1996</td>\n",
       "      <td>...</td>\n",
       "      <td>NaN</td>\n",
       "      <td>NaN</td>\n",
       "      <td>NaN</td>\n",
       "      <td>NaN</td>\n",
       "      <td>NaN</td>\n",
       "      <td>NaN</td>\n",
       "      <td>NaN</td>\n",
       "      <td>무</td>\n",
       "      <td>기타</td>\n",
       "      <td>X</td>\n",
       "    </tr>\n",
       "    <tr>\n",
       "      <th>535174</th>\n",
       "      <td>1B7GL23X4VS262612-01</td>\n",
       "      <td>96모8254</td>\n",
       "      <td>4785025000</td>\n",
       "      <td>기타</td>\n",
       "      <td>화물</td>\n",
       "      <td>자가용</td>\n",
       "      <td>DEB3B71AA729D5C631600E877054D20E</td>\n",
       "      <td>1B7GL23X4VS262612</td>\n",
       "      <td>20091006</td>\n",
       "      <td>1997</td>\n",
       "      <td>...</td>\n",
       "      <td>NaN</td>\n",
       "      <td>NaN</td>\n",
       "      <td>NaN</td>\n",
       "      <td>NaN</td>\n",
       "      <td>NaN</td>\n",
       "      <td>NaN</td>\n",
       "      <td>NaN</td>\n",
       "      <td>무</td>\n",
       "      <td>기타</td>\n",
       "      <td>X</td>\n",
       "    </tr>\n",
       "    <tr>\n",
       "      <th>538634</th>\n",
       "      <td>1G4HR52L3SH558308-01</td>\n",
       "      <td>33조3244</td>\n",
       "      <td>4785025000</td>\n",
       "      <td>기타</td>\n",
       "      <td>승용</td>\n",
       "      <td>자가용</td>\n",
       "      <td>4553F6368E78935AB8A37C840DE52659</td>\n",
       "      <td>1G4HR52L3SH558308</td>\n",
       "      <td>20090929</td>\n",
       "      <td>1995</td>\n",
       "      <td>...</td>\n",
       "      <td>NaN</td>\n",
       "      <td>NaN</td>\n",
       "      <td>NaN</td>\n",
       "      <td>NaN</td>\n",
       "      <td>NaN</td>\n",
       "      <td>NaN</td>\n",
       "      <td>NaN</td>\n",
       "      <td>무</td>\n",
       "      <td>기타</td>\n",
       "      <td>X</td>\n",
       "    </tr>\n",
       "  </tbody>\n",
       "</table>\n",
       "<p>5 rows × 62 columns</p>\n",
       "</div>"
      ],
      "text/plain": [
       "                      차량관리번호   차량등록번호    본거지법정동코드 소유자구분 차종_등록정보   용도  \\\n",
       "1028    KL90C3ADGPBZ00002-02  04버5285  4122025041    기타      승용  자가용   \n",
       "3398    1SML4DC197J202141-01  82도5103  4874037021    주민      화물  자가용   \n",
       "457123  1FMDU32X6TUB80420-01  35어6959  1117012400    기타      승용  자가용   \n",
       "535174  1B7GL23X4VS262612-01  96모8254  4785025000    기타      화물  자가용   \n",
       "538634  1G4HR52L3SH558308-01  33조3244  4785025000    기타      승용  자가용   \n",
       "\n",
       "                                  현재회원번호               차대번호    최초등록일자  차량연식  \\\n",
       "1028    4A7BC648CD39CEEC1350B36416682677  KL90C3ADGPBZ00002  20171127  1993   \n",
       "3398    F6F2052533AA840608E9E999850F0A12  1SML4DC197J202141  20130205  2007   \n",
       "457123  6B6974ECF164E7DB55D1B46A602FFB55  1FMDU32X6TUB80420  20100111  1996   \n",
       "535174  DEB3B71AA729D5C631600E877054D20E  1B7GL23X4VS262612  20091006  1997   \n",
       "538634  4553F6368E78935AB8A37C840DE52659  1G4HR52L3SH558308  20090929  1995   \n",
       "\n",
       "        ...  부착업체명  부착일자 탈거승인일 차량번호 저감장치반납여부 저감장치구분  삼원촉매장치반납여부 DPF유무  fuel  \\\n",
       "1028    ...    NaN   NaN   NaN  NaN      NaN    NaN         NaN     무    기타   \n",
       "3398    ...    NaN   NaN   NaN  NaN      NaN    NaN         NaN     무    기타   \n",
       "457123  ...    NaN   NaN   NaN  NaN      NaN    NaN         NaN     무    기타   \n",
       "535174  ...    NaN   NaN   NaN  NaN      NaN    NaN         NaN     무    기타   \n",
       "538634  ...    NaN   NaN   NaN  NaN      NaN    NaN         NaN     무    기타   \n",
       "\n",
       "       Grade  \n",
       "1028       X  \n",
       "3398       X  \n",
       "457123     X  \n",
       "535174     X  \n",
       "538634     X  \n",
       "\n",
       "[5 rows x 62 columns]"
      ]
     },
     "execution_count": 55,
     "metadata": {},
     "output_type": "execute_result"
    }
   ],
   "source": [
    "total1[(total1['fuel'] == '기타') & (total1['Grade'] == 'X')].head()"
   ]
  },
  {
   "attachments": {},
   "cell_type": "markdown",
   "metadata": {},
   "source": [
    "#### [출력] 등급 통계"
   ]
  },
  {
   "cell_type": "code",
   "execution_count": 65,
   "metadata": {},
   "outputs": [],
   "source": [
    "with pd.ExcelWriter(f'analysis2/Case5/[BD3][G{grade}][통계]Case5_등급분류(중복차대제거)(말소제거).xlsx') as writer:\n",
    "    total1.groupby(['fuel'])['차대번호'].count().to_excel(writer, sheet_name='연료별')\n",
    "    total1.groupby(['fuel', 'Grade'])['차대번호'].count().to_excel(writer, sheet_name='등급별')"
   ]
  },
  {
   "attachments": {},
   "cell_type": "markdown",
   "metadata": {},
   "source": [
    "#### [출력] 등급 산정 안된 샘플"
   ]
  },
  {
   "cell_type": "code",
   "execution_count": 66,
   "metadata": {},
   "outputs": [],
   "source": [
    "# about 2m 50s\n",
    "with pd.ExcelWriter(f'analysis2/Case5/[BD3][G{grade}][샘플]Case5_등급미분류(중복차대제거)(말소제거).xlsx') as writer2:\n",
    "    total1[(total1['fuel'] == '경유') & (total1['Grade'] == 'X')].to_excel(writer2, sheet_name='경유', index=False)\n",
    "    total1[(total1['fuel'] == '휘발유_가스') & (total1['Grade'] == 'X')].to_excel(writer2, sheet_name='휘발유', index=False)\n",
    "    total1[(total1['fuel'] == '기타') & (total1['Grade'] == 'X')].to_excel(writer2, sheet_name='기타', index=False)"
   ]
  },
  {
   "attachments": {},
   "cell_type": "markdown",
   "metadata": {},
   "source": [
    "# 기타 연료 처리\n",
    "- 1\\. 다른 연료 샘플과 '자동차형식'으로 매칭\n",
    "- 2\\. 다른 연료 샘플과 '제원관리번호'로 매칭\n",
    "- 3\\. 1, 2번 적용 안되면 '기타'로 분류\n",
    "- #\\. '기타'연료 샘플 원본에 표기"
   ]
  },
  {
   "attachments": {},
   "cell_type": "markdown",
   "metadata": {},
   "source": [
    "## 1\\. 다른 연료 샘플과 '자동차형식'으로 매칭"
   ]
  },
  {
   "cell_type": "code",
   "execution_count": 56,
   "metadata": {},
   "outputs": [
    {
     "data": {
      "text/plain": [
       "((1511101, 62), (110, 62))"
      ]
     },
     "execution_count": 56,
     "metadata": {},
     "output_type": "execute_result"
    }
   ],
   "source": [
    "gd = total1[(total1['fuel'] == '휘발유_가스')|(total1['fuel'] == '경유')].reset_index(drop=True)\n",
    "etc = total1[total1['fuel'] == '기타'].reset_index(drop=True)\n",
    "gd.shape, etc.shape"
   ]
  },
  {
   "cell_type": "code",
   "execution_count": 57,
   "metadata": {},
   "outputs": [
    {
     "data": {
      "text/plain": [
       "(44, 8163)"
      ]
     },
     "execution_count": 57,
     "metadata": {},
     "output_type": "execute_result"
    }
   ],
   "source": [
    "len(etc['자동차형식'].unique()), len(gd['자동차형식'].unique())"
   ]
  },
  {
   "cell_type": "code",
   "execution_count": 58,
   "metadata": {},
   "outputs": [
    {
     "data": {
      "text/plain": [
       "28"
      ]
     },
     "execution_count": 58,
     "metadata": {},
     "output_type": "execute_result"
    }
   ],
   "source": [
    "len(set(etc['자동차형식'].unique()) & set(gd['자동차형식'].unique()))"
   ]
  },
  {
   "cell_type": "code",
   "execution_count": 59,
   "metadata": {},
   "outputs": [
    {
     "data": {
      "text/plain": [
       "28"
      ]
     },
     "execution_count": 59,
     "metadata": {},
     "output_type": "execute_result"
    }
   ],
   "source": [
    "dup_carform = list(set(etc['자동차형식'].unique()) & set(gd['자동차형식'].unique()))\n",
    "len(dup_carform)"
   ]
  },
  {
   "cell_type": "code",
   "execution_count": 60,
   "metadata": {},
   "outputs": [
    {
     "data": {
      "text/plain": [
       "[nan, 'FXA', 'B5-25SX', 'TF68E', 'FD3S']"
      ]
     },
     "execution_count": 60,
     "metadata": {},
     "output_type": "execute_result"
    }
   ],
   "source": [
    "dup_carform[:5]"
   ]
  },
  {
   "cell_type": "code",
   "execution_count": 61,
   "metadata": {},
   "outputs": [
    {
     "data": {
      "text/plain": [
       "['FXA', 'B5-25SX', 'TF68E', 'FD3S', '140 051']"
      ]
     },
     "execution_count": 61,
     "metadata": {},
     "output_type": "execute_result"
    }
   ],
   "source": [
    "dup_carform = dup_carform[1:]\n",
    "dup_carform[:5]"
   ]
  },
  {
   "cell_type": "code",
   "execution_count": 62,
   "metadata": {},
   "outputs": [
    {
     "data": {
      "text/plain": [
       "56"
      ]
     },
     "execution_count": 62,
     "metadata": {},
     "output_type": "execute_result"
    }
   ],
   "source": [
    "# 다른 연료와 미매칭되는 자동차형식 인덱스 추출 : 56\n",
    "idx1 = []\n",
    "for i, one in enumerate(etc['자동차형식']):\n",
    "    if one not in dup_carform:\n",
    "        idx1.append(i)\n",
    "len(idx1)"
   ]
  },
  {
   "cell_type": "code",
   "execution_count": 63,
   "metadata": {},
   "outputs": [
    {
     "data": {
      "text/plain": [
       "54"
      ]
     },
     "execution_count": 63,
     "metadata": {},
     "output_type": "execute_result"
    }
   ],
   "source": [
    "# 다른 연료와 매칭되는 자동차형식 인덱스 추출 : 54\n",
    "idx1_1 = []\n",
    "for i, one in enumerate(etc['자동차형식']):\n",
    "    if one in dup_carform:\n",
    "        idx1_1.append(i)\n",
    "len(idx1_1)"
   ]
  },
  {
   "cell_type": "code",
   "execution_count": 64,
   "metadata": {},
   "outputs": [
    {
     "data": {
      "text/plain": [
       "(56, 62)"
      ]
     },
     "execution_count": 64,
     "metadata": {},
     "output_type": "execute_result"
    }
   ],
   "source": [
    "# 다른 연료의 자동차형식과 미매칭되는 샘플\n",
    "etc1 = etc.loc[idx1]\n",
    "etc1.shape"
   ]
  },
  {
   "attachments": {},
   "cell_type": "markdown",
   "metadata": {},
   "source": [
    "### [출력]"
   ]
  },
  {
   "cell_type": "code",
   "execution_count": 65,
   "metadata": {},
   "outputs": [],
   "source": [
    "etc1.to_excel('analysis2/Case5/[BD3][G4][샘플]Case5_기타연료_처리1.xlsx', index=False)"
   ]
  },
  {
   "attachments": {},
   "cell_type": "markdown",
   "metadata": {},
   "source": [
    "## 2\\. 다른 연료 샘플과 '제원관리번호'로 매칭"
   ]
  },
  {
   "cell_type": "code",
   "execution_count": 66,
   "metadata": {},
   "outputs": [
    {
     "data": {
      "text/plain": [
       "(56, 17306)"
      ]
     },
     "execution_count": 66,
     "metadata": {},
     "output_type": "execute_result"
    }
   ],
   "source": [
    "len(etc1['제원관리번호'].unique()), len(gd['제원관리번호'].unique())"
   ]
  },
  {
   "cell_type": "code",
   "execution_count": 67,
   "metadata": {},
   "outputs": [
    {
     "data": {
      "text/plain": [
       "0"
      ]
     },
     "execution_count": 67,
     "metadata": {},
     "output_type": "execute_result"
    }
   ],
   "source": [
    "len( set(etc1['제원관리번호'].unique()) & set(gd['제원관리번호'].unique()) )"
   ]
  },
  {
   "attachments": {},
   "cell_type": "markdown",
   "metadata": {},
   "source": [
    "### '자동차형식' 매칭 샘플"
   ]
  },
  {
   "cell_type": "code",
   "execution_count": 68,
   "metadata": {},
   "outputs": [
    {
     "data": {
      "text/plain": [
       "27"
      ]
     },
     "execution_count": 68,
     "metadata": {},
     "output_type": "execute_result"
    }
   ],
   "source": [
    "len(dup_carform)"
   ]
  },
  {
   "cell_type": "code",
   "execution_count": 69,
   "metadata": {},
   "outputs": [
    {
     "name": "stdout",
     "output_type": "stream",
     "text": [
      "자동차형식 : FXA\n",
      "['휘발유']\n",
      "자동차형식 : B5-25SX\n",
      "['휘발유']\n",
      "자동차형식 : TF68E\n",
      "['휘발유']\n",
      "자동차형식 : FD3S\n",
      "['휘발유']\n",
      "자동차형식 : 140 051\n",
      "['휘발유']\n",
      "자동차형식 : MSV3-27A\n",
      "['휘발유']\n",
      "자동차형식 : 1994\n",
      "['휘발유']\n",
      "자동차형식 : 964\n",
      "['휘발유']\n",
      "자동차형식 : 202 028\n",
      "['휘발유']\n",
      "자동차형식 : FE-26HT\n",
      "['휘발유']\n",
      "자동차형식 : 210 037\n",
      "['휘발유']\n",
      "자동차형식 : JA19Y\n",
      "['휘발유']\n",
      "자동차형식 : FXA-1\n",
      "['휘발유']\n",
      "자동차형식 : ST-34\n",
      "['휘발유']\n",
      "자동차형식 : TF19T\n",
      "['휘발유']\n",
      "자동차형식 : MR2\n",
      "['휘발유']\n",
      "자동차형식 : GR\n",
      "['휘발유']\n",
      "자동차형식 : 154AN55A\n",
      "['휘발유']\n",
      "자동차형식 : MS122\n",
      "['휘발유']\n",
      "자동차형식 : TF19I\n",
      "['휘발유']\n",
      "자동차형식 : SR19F\n",
      "['휘발유']\n",
      "자동차형식 : WA19B\n",
      "['휘발유']\n",
      "자동차형식 : FXB\n",
      "['휘발유']\n",
      "자동차형식 : B250\n",
      "['휘발유' 'LGP(액화석유가스)']\n",
      "자동차형식 : 740GLE\n",
      "['휘발유']\n",
      "자동차형식 : 911터보\n",
      "['휘발유']\n",
      "자동차형식 : VG30\n",
      "['휘발유']\n"
     ]
    }
   ],
   "source": [
    "for n in range(27):\n",
    "    print(f'자동차형식 : {dup_carform[n]}')\n",
    "    print(gd[gd['자동차형식'] == dup_carform[n]]['연료'].unique())"
   ]
  },
  {
   "cell_type": "code",
   "execution_count": 70,
   "metadata": {},
   "outputs": [
    {
     "data": {
      "text/plain": [
       "(77, 62)"
      ]
     },
     "execution_count": 70,
     "metadata": {},
     "output_type": "execute_result"
    }
   ],
   "source": [
    "# 하나의 자동차형식에 연료 2가지 : B250\n",
    "gd[gd['자동차형식'] == 'B250'].shape"
   ]
  },
  {
   "attachments": {},
   "cell_type": "markdown",
   "metadata": {},
   "source": [
    "#### [출력] 1개의 자동차형식에 연료 2가지"
   ]
  },
  {
   "cell_type": "code",
   "execution_count": null,
   "metadata": {},
   "outputs": [],
   "source": [
    "gd[gd['자동차형식'] == 'B250'].to_excel('analysis2/Case5/[BD3][G4][샘플]Case5_자동차형식1개_연료2개.xlsx', index=False)"
   ]
  },
  {
   "attachments": {},
   "cell_type": "markdown",
   "metadata": {},
   "source": [
    "## 자동차형식 이용 연료 수정"
   ]
  },
  {
   "cell_type": "code",
   "execution_count": 71,
   "metadata": {},
   "outputs": [],
   "source": [
    "match_gas = {}\n",
    "for n in range(27):\n",
    "    a = dup_carform[n]\n",
    "    b = gd[gd['자동차형식'] == dup_carform[n]]['연료'].unique()[0]\n",
    "    match_gas[a] = b"
   ]
  },
  {
   "cell_type": "code",
   "execution_count": 72,
   "metadata": {},
   "outputs": [
    {
     "data": {
      "text/plain": [
       "{'FXA': '휘발유',\n",
       " 'B5-25SX': '휘발유',\n",
       " 'TF68E': '휘발유',\n",
       " 'FD3S': '휘발유',\n",
       " '140 051': '휘발유',\n",
       " 'MSV3-27A': '휘발유',\n",
       " '1994': '휘발유',\n",
       " '964': '휘발유',\n",
       " '202 028': '휘발유',\n",
       " 'FE-26HT': '휘발유',\n",
       " '210 037': '휘발유',\n",
       " 'JA19Y': '휘발유',\n",
       " 'FXA-1': '휘발유',\n",
       " 'ST-34': '휘발유',\n",
       " 'TF19T': '휘발유',\n",
       " 'MR2': '휘발유',\n",
       " 'GR': '휘발유',\n",
       " '154AN55A': '휘발유',\n",
       " 'MS122': '휘발유',\n",
       " 'TF19I': '휘발유',\n",
       " 'SR19F': '휘발유',\n",
       " 'WA19B': '휘발유',\n",
       " 'FXB': '휘발유',\n",
       " 'B250': '휘발유',\n",
       " '740GLE': '휘발유',\n",
       " '911터보': '휘발유',\n",
       " 'VG30': '휘발유'}"
      ]
     },
     "execution_count": 72,
     "metadata": {},
     "output_type": "execute_result"
    }
   ],
   "source": [
    "match_gas"
   ]
  },
  {
   "cell_type": "code",
   "execution_count": 73,
   "metadata": {},
   "outputs": [
    {
     "data": {
      "text/plain": [
       "110"
      ]
     },
     "execution_count": 73,
     "metadata": {},
     "output_type": "execute_result"
    }
   ],
   "source": [
    "match_gas_list = []\n",
    "for i in etc['자동차형식']:\n",
    "    if i in dup_carform:\n",
    "        match_gas_list.append(match_gas[i])\n",
    "    else:\n",
    "        match_gas_list.append(np.nan)\n",
    "len(match_gas_list)"
   ]
  },
  {
   "cell_type": "code",
   "execution_count": 74,
   "metadata": {},
   "outputs": [
    {
     "data": {
      "text/plain": [
       "['휘발유', '휘발유', '휘발유', nan, '휘발유']"
      ]
     },
     "execution_count": 74,
     "metadata": {},
     "output_type": "execute_result"
    }
   ],
   "source": [
    "match_gas_list[-5:]"
   ]
  },
  {
   "cell_type": "code",
   "execution_count": 75,
   "metadata": {},
   "outputs": [],
   "source": [
    "etc['연료'] = match_gas_list"
   ]
  },
  {
   "cell_type": "code",
   "execution_count": 76,
   "metadata": {},
   "outputs": [
    {
     "data": {
      "text/plain": [
       "NaN    56\n",
       "휘발유    54\n",
       "Name: 연료, dtype: int64"
      ]
     },
     "execution_count": 76,
     "metadata": {},
     "output_type": "execute_result"
    }
   ],
   "source": [
    "etc['연료'].value_counts(dropna=False)"
   ]
  },
  {
   "cell_type": "code",
   "execution_count": 77,
   "metadata": {},
   "outputs": [
    {
     "data": {
      "text/plain": [
       "Index(['차량관리번호', '차량등록번호', '본거지법정동코드', '소유자구분', '차종_등록정보', '용도', '현재회원번호',\n",
       "       '차대번호', '최초등록일자', '차량연식', '차량제작일자', '배출가스검사유효일자', '제원관리번호', '배출가스인증번호',\n",
       "       '배출가스등급', '저공해조치YN(미사용)', '저공해조치종류', '저공해조치구조변경YN', '차량등록번호숫자정보',\n",
       "       '차량말소YN', '최초회원번호', '취득일자', '취득금액', '생성일시', '수정일시', '차명', '차종_제원정보',\n",
       "       '차종분류', '차종유형(소분류)', '자동차형식', '제작사명', '연료', '엔진형식', '공차중량', '총중량',\n",
       "       '적재중량', '엔진출력', '배기량', '승차인원', '차량길이', '차량너비', '차량높이', '원산지명', '삭제YN',\n",
       "       '승인일자', '구동형식', '변속기종류', '생성일시_제원정보', '수정일시_제원정보', '저감장치종류', 'TDMS부착여부',\n",
       "       '구조변경일자', '부착업체명', '부착일자', '탈거승인일', '차량번호', '저감장치반납여부', '저감장치구분',\n",
       "       '삼원촉매장치반납여부', 'DPF유무', 'fuel', 'Grade'],\n",
       "      dtype='object')"
      ]
     },
     "execution_count": 77,
     "metadata": {},
     "output_type": "execute_result"
    }
   ],
   "source": [
    "total2 = pd.concat([gd, etc], ignore_index=True)\n",
    "total2.columns"
   ]
  },
  {
   "cell_type": "code",
   "execution_count": 78,
   "metadata": {},
   "outputs": [
    {
     "name": "stderr",
     "output_type": "stream",
     "text": [
      "100%|██████████| 1511211/1511211 [00:00<00:00, 1698358.67it/s]\n"
     ]
    },
    {
     "data": {
      "text/plain": [
       "1511211"
      ]
     },
     "execution_count": 78,
     "metadata": {},
     "output_type": "execute_result"
    }
   ],
   "source": [
    "fuel_list = []\n",
    "for one in tqdm(total2['연료']):\n",
    "    if one == '휘발유' or one == '알코올' or one == 'LGP(액화석유가스)' or one == 'CNG(압축천연가스)':\n",
    "        fuel_list.append('휘발유_가스')\n",
    "    elif one == '경유':\n",
    "        fuel_list.append('경유')\n",
    "    else:\n",
    "        fuel_list.append('기타')\n",
    "len(fuel_list)"
   ]
  },
  {
   "cell_type": "code",
   "execution_count": 79,
   "metadata": {},
   "outputs": [],
   "source": [
    "total2['fuel'] = fuel_list"
   ]
  },
  {
   "attachments": {},
   "cell_type": "markdown",
   "metadata": {},
   "source": [
    "### 차량제작일자별 분류\n",
    "- 휘발류•가스('휘발유', 'LGP(액화석유가스)', '알코올', 'CNG(압축천연가스)')\n",
    "    - A : 1988.01.01 ~ 2000.12.31\n",
    "    - B : ~ 1997.12.31\n",
    "- 경유(DPF : 저감장치구분, DFP유무)\n",
    "    - A : DPF, 2008.01.01 ~\n",
    "    - B : DPF, ~ 2007.12.31\n",
    "    - C : 2008.01.01 ~\n",
    "    - D : ~ 2007.12.31"
   ]
  },
  {
   "cell_type": "code",
   "execution_count": 86,
   "metadata": {},
   "outputs": [
    {
     "data": {
      "text/plain": [
       "경유        1152697\n",
       "휘발유_가스     358458\n",
       "기타             56\n",
       "Name: fuel, dtype: int64"
      ]
     },
     "execution_count": 86,
     "metadata": {},
     "output_type": "execute_result"
    }
   ],
   "source": [
    "total2['fuel'].value_counts(dropna=False)"
   ]
  },
  {
   "cell_type": "code",
   "execution_count": 80,
   "metadata": {},
   "outputs": [
    {
     "data": {
      "text/plain": [
       "NaN       1511175\n",
       "1종             32\n",
       "2종              2\n",
       "1종+SCR          2\n",
       "Name: 저감장치구분, dtype: int64"
      ]
     },
     "execution_count": 80,
     "metadata": {},
     "output_type": "execute_result"
    }
   ],
   "source": [
    "total2['저감장치구분'].value_counts(dropna=False)"
   ]
  },
  {
   "cell_type": "code",
   "execution_count": 81,
   "metadata": {},
   "outputs": [
    {
     "data": {
      "text/plain": [
       "True"
      ]
     },
     "execution_count": 81,
     "metadata": {},
     "output_type": "execute_result"
    }
   ],
   "source": [
    "str(np.nan) == 'nan'"
   ]
  },
  {
   "cell_type": "code",
   "execution_count": 87,
   "metadata": {},
   "outputs": [
    {
     "name": "stderr",
     "output_type": "stream",
     "text": [
      "1511211it [00:03, 484723.89it/s]\n"
     ]
    },
    {
     "data": {
      "text/plain": [
       "1511211"
      ]
     },
     "execution_count": 87,
     "metadata": {},
     "output_type": "execute_result"
    }
   ],
   "source": [
    "grade_list = []\n",
    "for f, y, cy, d, e in tqdm(zip(total2['연료'], total2['차량제작일자'], total2['차량연식'],total2['저감장치구분'], total2['DPF유무'])):\n",
    "    if ( (f == '휘발유') or (f == 'LGP(액화석유가스)') or (f == '알코올') or (f == 'CNG(압축천연가스)') ) and ( (19980101 <= y <= 20001231) or (1998 <= cy <= 2000) ):\n",
    "        grade_list.append('A')\n",
    "    elif (f == '휘발유' or f == 'LGP(액화석유가스)' or f == '알코올' or f == 'CNG(압축천연가스)') and ( (y <= 19971231) or (cy <= 1997) ):\n",
    "        grade_list.append('B')\n",
    "    elif (f == '경유') and ( (y >= 20080101) or (cy >= 2008) ) and ( (str(d) == '1종') or (str(d) == '1종+SCR') or (e == '유') ):\n",
    "        grade_list.append('A')\n",
    "    elif (f == '경유') and ( (y <= 20071231) or (cy <= 2007) )and ( (str(d) == '1종') or (str(d) == '1종+SCR') or (e == '유') ):\n",
    "        grade_list.append('B')\n",
    "    elif (f == '경유') and ( (y >= 20080101) or (cy >= 2008) ) and ( (str(d) == 'nan') or (str(d) == '2종') or (e == '무') ):\n",
    "        grade_list.append('C')\n",
    "    elif (f == '경유') and ( (y <= 20071231) or (cy <= 2007) ) and ( (str(d) == 'nan') or (str(d) == '2종') or (e == '무') ):\n",
    "        grade_list.append('D')\n",
    "    else:\n",
    "        grade_list.append('X')\n",
    "len(grade_list)"
   ]
  },
  {
   "cell_type": "code",
   "execution_count": 88,
   "metadata": {},
   "outputs": [],
   "source": [
    "total2['Grade'] = grade_list"
   ]
  },
  {
   "cell_type": "code",
   "execution_count": 89,
   "metadata": {},
   "outputs": [
    {
     "data": {
      "text/plain": [
       "fuel\n",
       "경유        1152697\n",
       "기타             56\n",
       "휘발유_가스     358458\n",
       "Name: 차대번호, dtype: int64"
      ]
     },
     "execution_count": 89,
     "metadata": {},
     "output_type": "execute_result"
    }
   ],
   "source": [
    "total2.groupby(['fuel'])['차대번호'].count()"
   ]
  },
  {
   "cell_type": "code",
   "execution_count": 90,
   "metadata": {},
   "outputs": [
    {
     "data": {
      "text/plain": [
       "fuel    Grade\n",
       "경유      A        206113\n",
       "        B        100004\n",
       "        C        809308\n",
       "        D         37272\n",
       "기타      X            56\n",
       "휘발유_가스  A         43622\n",
       "        B        297387\n",
       "        X         17449\n",
       "Name: 차대번호, dtype: int64"
      ]
     },
     "execution_count": 90,
     "metadata": {},
     "output_type": "execute_result"
    }
   ],
   "source": [
    "total2.groupby(['fuel', 'Grade'])['차대번호'].count()"
   ]
  },
  {
   "attachments": {},
   "cell_type": "markdown",
   "metadata": {},
   "source": [
    "#### [출력] 등급 통계"
   ]
  },
  {
   "cell_type": "code",
   "execution_count": 91,
   "metadata": {},
   "outputs": [],
   "source": [
    "with pd.ExcelWriter(f'analysis2/Case5/[BD3][G{grade}][통계]Case5_등급분류(중복차대제거)(말소제거).xlsx') as writer:\n",
    "    total2.groupby(['fuel'])['차대번호'].count().to_excel(writer, sheet_name='연료별')\n",
    "    total2.groupby(['fuel', 'Grade'])['차대번호'].count().to_excel(writer, sheet_name='등급별')"
   ]
  },
  {
   "attachments": {},
   "cell_type": "markdown",
   "metadata": {},
   "source": [
    "#### [출력] 등급 산정 안된 샘플"
   ]
  },
  {
   "cell_type": "code",
   "execution_count": 92,
   "metadata": {},
   "outputs": [
    {
     "data": {
      "text/plain": [
       "((0, 62), (17449, 62), (56, 62))"
      ]
     },
     "execution_count": 92,
     "metadata": {},
     "output_type": "execute_result"
    }
   ],
   "source": [
    "die_x = total2[(total2['fuel'] == '경유') & (total2['Grade'] == 'X')].reset_index(drop=True)\n",
    "gas_x = total2[(total2['fuel'] == '휘발유_가스') & (total2['Grade'] == 'X')].reset_index(drop=True)\n",
    "etc_x = total2[(total2['fuel'] == '기타') & (total2['Grade'] == 'X')].reset_index(drop=True)\n",
    "die_x.shape, gas_x.shape, etc_x.shape"
   ]
  },
  {
   "cell_type": "code",
   "execution_count": 93,
   "metadata": {},
   "outputs": [],
   "source": [
    "# about 17s\n",
    "with pd.ExcelWriter(f'analysis2/Case5/[BD3][G{grade}][샘플]Case5_등급미분류(중복차대제거)(말소제거).xlsx') as writer2:\n",
    "    die_x.to_excel(writer2, sheet_name='경유', index=False)\n",
    "    gas_x.to_excel(writer2, sheet_name='휘발유', index=False)\n",
    "    etc_x.to_excel(writer2, sheet_name='기타', index=False)"
   ]
  },
  {
   "attachments": {},
   "cell_type": "markdown",
   "metadata": {},
   "source": [
    "### 등급 비분류 샘플의 정기&정밀 데이터"
   ]
  },
  {
   "cell_type": "code",
   "execution_count": 102,
   "metadata": {},
   "outputs": [
    {
     "data": {
      "text/plain": [
       "(22006426, 39)"
      ]
     },
     "execution_count": 102,
     "metadata": {},
     "output_type": "execute_result"
    }
   ],
   "source": [
    "# 정기\n",
    "# about 3m 34s\n",
    "name = '[ODS]정기검사(2022.12.29)'\n",
    "file_name = f'{name}.csv'\n",
    "ins = pd.read_csv(os.path.join(ods_fold, file_name), low_memory=False)\n",
    "ins.shape"
   ]
  },
  {
   "cell_type": "code",
   "execution_count": 103,
   "metadata": {},
   "outputs": [
    {
     "data": {
      "text/plain": [
       "Index(['사용연료', '주행거리', '차명', '차량번호', '차대번호', '차종', '차량연식', '검사방법', '이산화탄소값',\n",
       "       '최대출력허용치', '최대출력측정값', '엔진형식', '검사접수번호', '정기검사일자', '검사종류', '검사소명',\n",
       "       '검사판정시각', '정기검사판정', '산소값', '재검사기간', '무부하매연판정1', '무부하매연판정2', '무부하매연판정3',\n",
       "       '무부하매연판정4', '무부하매연판정5', '무부하매연판정6', '무부하매연허용치1', '무부하매연허용치2',\n",
       "       '무부하매연허용치3', '무부하매연허용치4', '무부하매연허용치5', '무부하매연허용치6', '무부하매연측정치1',\n",
       "       '무부하매연측정치2', '무부하매연측정치3', '무부하매연측정치4', '무부하매연측정치5', '무부하매연측정치6',\n",
       "       '차량용도'],\n",
       "      dtype='object')"
      ]
     },
     "execution_count": 103,
     "metadata": {},
     "output_type": "execute_result"
    }
   ],
   "source": [
    "ins.columns"
   ]
  },
  {
   "cell_type": "code",
   "execution_count": null,
   "metadata": {},
   "outputs": [],
   "source": [
    "ins.columns = ['사용연료', '주행거리', '차명', '차량번호', '차대번호', '차종', '차량연식', '검사방법', '이산화탄소값',\n",
    "       '최대출력허용치', '최대출력측정값', '엔진형식', '검사접수번호', '검사일자', '검사종류', '검사소명',\n",
    "       '검사판정시각', '검사판정', '산소값', '재검사기간', '무부하매연판정1', '무부하매연판정2', '무부하매연판정3',\n",
    "       '무부하매연판정4', '무부하매연판정5', '무부하매연판정6', '무부하매연허용치1', '무부하매연허용치2',\n",
    "       '무부하매연허용치3', '무부하매연허용치4', '무부하매연허용치5', '무부하매연허용치6', '무부하매연측정치1',\n",
    "       '무부하매연측정치2', '무부하매연측정치3', '무부하매연측정치4', '무부하매연측정치5', '무부하매연측정치6',\n",
    "       '차량용도']"
   ]
  },
  {
   "cell_type": "code",
   "execution_count": 107,
   "metadata": {},
   "outputs": [
    {
     "ename": "KeyError",
     "evalue": "\"['검사일자', '검사판정'] not in index\"",
     "output_type": "error",
     "traceback": [
      "\u001b[1;31m---------------------------------------------------------------------------\u001b[0m",
      "\u001b[1;31mKeyError\u001b[0m                                  Traceback (most recent call last)",
      "\u001b[1;32m~\\AppData\\Local\\Temp\\ipykernel_15732\\1651638048.py\u001b[0m in \u001b[0;36m<module>\u001b[1;34m\u001b[0m\n\u001b[1;32m----> 1\u001b[1;33m ins = ins[['사용연료', '주행거리', '차명', '차량번호', '차대번호', '차종', '차량연식', '검사방법', '이산화탄소값', '엔진형식', '검사일자', '검사종류', '검사판정시각', '검사판정', '산소값', \n\u001b[0m\u001b[0;32m      2\u001b[0m        \u001b[1;34m'무부하매연판정1'\u001b[0m\u001b[1;33m,\u001b[0m \u001b[1;34m'무부하매연판정2'\u001b[0m\u001b[1;33m,\u001b[0m \u001b[1;34m'무부하매연판정3'\u001b[0m\u001b[1;33m,\u001b[0m\u001b[1;33m\u001b[0m\u001b[1;33m\u001b[0m\u001b[0m\n\u001b[0;32m      3\u001b[0m        \u001b[1;34m'무부하매연판정4'\u001b[0m\u001b[1;33m,\u001b[0m \u001b[1;34m'무부하매연판정5'\u001b[0m\u001b[1;33m,\u001b[0m \u001b[1;34m'무부하매연판정6'\u001b[0m\u001b[1;33m,\u001b[0m \u001b[1;34m'무부하매연허용치1'\u001b[0m\u001b[1;33m,\u001b[0m \u001b[1;34m'무부하매연허용치2'\u001b[0m\u001b[1;33m,\u001b[0m\u001b[1;33m\u001b[0m\u001b[1;33m\u001b[0m\u001b[0m\n\u001b[0;32m      4\u001b[0m        \u001b[1;34m'무부하매연허용치3'\u001b[0m\u001b[1;33m,\u001b[0m \u001b[1;34m'무부하매연허용치4'\u001b[0m\u001b[1;33m,\u001b[0m \u001b[1;34m'무부하매연허용치5'\u001b[0m\u001b[1;33m,\u001b[0m \u001b[1;34m'무부하매연허용치6'\u001b[0m\u001b[1;33m,\u001b[0m \u001b[1;34m'무부하매연측정치1'\u001b[0m\u001b[1;33m,\u001b[0m\u001b[1;33m\u001b[0m\u001b[1;33m\u001b[0m\u001b[0m\n\u001b[0;32m      5\u001b[0m        \u001b[1;34m'무부하매연측정치2'\u001b[0m\u001b[1;33m,\u001b[0m \u001b[1;34m'무부하매연측정치3'\u001b[0m\u001b[1;33m,\u001b[0m \u001b[1;34m'무부하매연측정치4'\u001b[0m\u001b[1;33m,\u001b[0m \u001b[1;34m'무부하매연측정치5'\u001b[0m\u001b[1;33m,\u001b[0m \u001b[1;34m'무부하매연측정치6'\u001b[0m\u001b[1;33m,\u001b[0m\u001b[1;33m\u001b[0m\u001b[1;33m\u001b[0m\u001b[0m\n",
      "\u001b[1;32m~\\AppData\\Roaming\\Python\\Python39\\site-packages\\pandas\\core\\frame.py\u001b[0m in \u001b[0;36m__getitem__\u001b[1;34m(self, key)\u001b[0m\n\u001b[0;32m   3809\u001b[0m             \u001b[1;32mif\u001b[0m \u001b[0mis_iterator\u001b[0m\u001b[1;33m(\u001b[0m\u001b[0mkey\u001b[0m\u001b[1;33m)\u001b[0m\u001b[1;33m:\u001b[0m\u001b[1;33m\u001b[0m\u001b[1;33m\u001b[0m\u001b[0m\n\u001b[0;32m   3810\u001b[0m                 \u001b[0mkey\u001b[0m \u001b[1;33m=\u001b[0m \u001b[0mlist\u001b[0m\u001b[1;33m(\u001b[0m\u001b[0mkey\u001b[0m\u001b[1;33m)\u001b[0m\u001b[1;33m\u001b[0m\u001b[1;33m\u001b[0m\u001b[0m\n\u001b[1;32m-> 3811\u001b[1;33m             \u001b[0mindexer\u001b[0m \u001b[1;33m=\u001b[0m \u001b[0mself\u001b[0m\u001b[1;33m.\u001b[0m\u001b[0mcolumns\u001b[0m\u001b[1;33m.\u001b[0m\u001b[0m_get_indexer_strict\u001b[0m\u001b[1;33m(\u001b[0m\u001b[0mkey\u001b[0m\u001b[1;33m,\u001b[0m \u001b[1;34m\"columns\"\u001b[0m\u001b[1;33m)\u001b[0m\u001b[1;33m[\u001b[0m\u001b[1;36m1\u001b[0m\u001b[1;33m]\u001b[0m\u001b[1;33m\u001b[0m\u001b[1;33m\u001b[0m\u001b[0m\n\u001b[0m\u001b[0;32m   3812\u001b[0m \u001b[1;33m\u001b[0m\u001b[0m\n\u001b[0;32m   3813\u001b[0m         \u001b[1;31m# take() does not accept boolean indexers\u001b[0m\u001b[1;33m\u001b[0m\u001b[1;33m\u001b[0m\u001b[0m\n",
      "\u001b[1;32m~\\AppData\\Roaming\\Python\\Python39\\site-packages\\pandas\\core\\indexes\\base.py\u001b[0m in \u001b[0;36m_get_indexer_strict\u001b[1;34m(self, key, axis_name)\u001b[0m\n\u001b[0;32m   6111\u001b[0m             \u001b[0mkeyarr\u001b[0m\u001b[1;33m,\u001b[0m \u001b[0mindexer\u001b[0m\u001b[1;33m,\u001b[0m \u001b[0mnew_indexer\u001b[0m \u001b[1;33m=\u001b[0m \u001b[0mself\u001b[0m\u001b[1;33m.\u001b[0m\u001b[0m_reindex_non_unique\u001b[0m\u001b[1;33m(\u001b[0m\u001b[0mkeyarr\u001b[0m\u001b[1;33m)\u001b[0m\u001b[1;33m\u001b[0m\u001b[1;33m\u001b[0m\u001b[0m\n\u001b[0;32m   6112\u001b[0m \u001b[1;33m\u001b[0m\u001b[0m\n\u001b[1;32m-> 6113\u001b[1;33m         \u001b[0mself\u001b[0m\u001b[1;33m.\u001b[0m\u001b[0m_raise_if_missing\u001b[0m\u001b[1;33m(\u001b[0m\u001b[0mkeyarr\u001b[0m\u001b[1;33m,\u001b[0m \u001b[0mindexer\u001b[0m\u001b[1;33m,\u001b[0m \u001b[0maxis_name\u001b[0m\u001b[1;33m)\u001b[0m\u001b[1;33m\u001b[0m\u001b[1;33m\u001b[0m\u001b[0m\n\u001b[0m\u001b[0;32m   6114\u001b[0m \u001b[1;33m\u001b[0m\u001b[0m\n\u001b[0;32m   6115\u001b[0m         \u001b[0mkeyarr\u001b[0m \u001b[1;33m=\u001b[0m \u001b[0mself\u001b[0m\u001b[1;33m.\u001b[0m\u001b[0mtake\u001b[0m\u001b[1;33m(\u001b[0m\u001b[0mindexer\u001b[0m\u001b[1;33m)\u001b[0m\u001b[1;33m\u001b[0m\u001b[1;33m\u001b[0m\u001b[0m\n",
      "\u001b[1;32m~\\AppData\\Roaming\\Python\\Python39\\site-packages\\pandas\\core\\indexes\\base.py\u001b[0m in \u001b[0;36m_raise_if_missing\u001b[1;34m(self, key, indexer, axis_name)\u001b[0m\n\u001b[0;32m   6174\u001b[0m \u001b[1;33m\u001b[0m\u001b[0m\n\u001b[0;32m   6175\u001b[0m             \u001b[0mnot_found\u001b[0m \u001b[1;33m=\u001b[0m \u001b[0mlist\u001b[0m\u001b[1;33m(\u001b[0m\u001b[0mensure_index\u001b[0m\u001b[1;33m(\u001b[0m\u001b[0mkey\u001b[0m\u001b[1;33m)\u001b[0m\u001b[1;33m[\u001b[0m\u001b[0mmissing_mask\u001b[0m\u001b[1;33m.\u001b[0m\u001b[0mnonzero\u001b[0m\u001b[1;33m(\u001b[0m\u001b[1;33m)\u001b[0m\u001b[1;33m[\u001b[0m\u001b[1;36m0\u001b[0m\u001b[1;33m]\u001b[0m\u001b[1;33m]\u001b[0m\u001b[1;33m.\u001b[0m\u001b[0munique\u001b[0m\u001b[1;33m(\u001b[0m\u001b[1;33m)\u001b[0m\u001b[1;33m)\u001b[0m\u001b[1;33m\u001b[0m\u001b[1;33m\u001b[0m\u001b[0m\n\u001b[1;32m-> 6176\u001b[1;33m             \u001b[1;32mraise\u001b[0m \u001b[0mKeyError\u001b[0m\u001b[1;33m(\u001b[0m\u001b[1;34mf\"{not_found} not in index\"\u001b[0m\u001b[1;33m)\u001b[0m\u001b[1;33m\u001b[0m\u001b[1;33m\u001b[0m\u001b[0m\n\u001b[0m\u001b[0;32m   6177\u001b[0m \u001b[1;33m\u001b[0m\u001b[0m\n\u001b[0;32m   6178\u001b[0m     \u001b[1;33m@\u001b[0m\u001b[0moverload\u001b[0m\u001b[1;33m\u001b[0m\u001b[1;33m\u001b[0m\u001b[0m\n",
      "\u001b[1;31mKeyError\u001b[0m: \"['검사일자', '검사판정'] not in index\""
     ]
    }
   ],
   "source": [
    "ins = ins[['사용연료', '주행거리', '차명', '차량번호', '차대번호', '차종', '차량연식', '검사방법', '이산화탄소값', \n",
    "           '엔진형식', '검사일자', '검사종류', '검사판정시각', '검사판정', '산소값', \n",
    "           '무부하매연판정1', '무부하매연판정2', '무부하매연판정3', '무부하매연판정4', '무부하매연판정5', '무부하매연판정6',\n",
    "           '무부하매연허용치1', '무부하매연허용치2', '무부하매연허용치3', '무부하매연허용치4', '무부하매연허용치5', '무부하매연허용치6', \n",
    "           '무부하매연측정치1', '무부하매연측정치2', '무부하매연측정치3', '무부하매연측정치4', '무부하매연측정치5', '무부하매연측정치6']]"
   ]
  },
  {
   "cell_type": "code",
   "execution_count": 104,
   "metadata": {},
   "outputs": [
    {
     "data": {
      "text/plain": [
       "(28682228, 39)"
      ]
     },
     "execution_count": 104,
     "metadata": {},
     "output_type": "execute_result"
    }
   ],
   "source": [
    "# 정밀\n",
    "# about 5m 33s\n",
    "name = '[ODS]정밀검사(2022.12.29)'\n",
    "file_name = f'{name}.csv'\n",
    "dins = pd.read_csv(os.path.join(ods_fold, file_name), low_memory=False)\n",
    "dins.shape"
   ]
  },
  {
   "cell_type": "code",
   "execution_count": 105,
   "metadata": {},
   "outputs": [
    {
     "data": {
      "text/plain": [
       "Index(['사용연료', '주행거리', '차명', '차량번호', '차대번호', '차종', '차량연식', '정밀검사 검사소코드',\n",
       "       '이산화탄소값', '최대출력허용치', '최대출력측정값', '엔진형식', '산소값', '재검사기간', '정밀검사일자',\n",
       "       '정밀검사판정', '정밀검사측정방법', '정밀검사소명', '정밀검사접수번호', '정밀검사종류', '정밀검사시각정보',\n",
       "       '무부하매연판정1', '무부하매연판정2', '무부하매연판정3', '무부하매연판정4', '무부하매연판정5', '무부하매연판정6',\n",
       "       '무부하매연허용치1', '무부하매연허용치2', '무부하매연허용치3', '무부하매연허용치4', '무부하매연허용치5',\n",
       "       '무부하매연허용치6', '무부하매연측정치1', '무부하매연측정치2', '무부하매연측정치3', '무부하매연측정치4',\n",
       "       '무부하매연측정치5', '무부하매연측정치6'],\n",
       "      dtype='object')"
      ]
     },
     "execution_count": 105,
     "metadata": {},
     "output_type": "execute_result"
    }
   ],
   "source": [
    "dins.columns"
   ]
  },
  {
   "cell_type": "code",
   "execution_count": null,
   "metadata": {},
   "outputs": [],
   "source": [
    "dins.columns = ['사용연료', '주행거리', '차명', '차량번호', '차대번호', '차종', '차량연식', '정밀검사 검사소코드',\n",
    "       '이산화탄소값', '최대출력허용치', '최대출력측정값', '엔진형식', '산소값', '재검사기간', '검사일자',\n",
    "       '검사판정', '검사측정방법', '정밀검사소명', '정밀검사접수번호', '정밀검사종류', '정밀검사시각정보',\n",
    "       '무부하매연판정1', '무부하매연판정2', '무부하매연판정3', '무부하매연판정4', '무부하매연판정5', '무부하매연판정6',\n",
    "       '무부하매연허용치1', '무부하매연허용치2', '무부하매연허용치3', '무부하매연허용치4', '무부하매연허용치5',\n",
    "       '무부하매연허용치6', '무부하매연측정치1', '무부하매연측정치2', '무부하매연측정치3', '무부하매연측정치4',\n",
    "       '무부하매연측정치5', '무부하매연측정치6']"
   ]
  },
  {
   "cell_type": "code",
   "execution_count": null,
   "metadata": {},
   "outputs": [],
   "source": [
    "dins = dins[['사용연료', '주행거리', '차명', '차량번호', '차대번호', '차종', '차량연식', '이산화탄소값', \n",
    "             '엔진형식', '검사일자', '검사종류', '정밀검사시각정보', '검사판정', '검사측정방법',   '산소값',\n",
    "             '무부하매연판정1', '무부하매연판정2', '무부하매연판정3', '무부하매연판정4', '무부하매연판정5', '무부하매연판정6',\n",
    "             '무부하매연허용치1', '무부하매연허용치2', '무부하매연허용치3', '무부하매연허용치4', '무부하매연허용치5', '무부하매연허용치6', \n",
    "             '무부하매연측정치1', '무부하매연측정치2', '무부하매연측정치3', '무부하매연측정치4', '무부하매연측정치5', '무부하매연측정치6']]"
   ]
  },
  {
   "cell_type": "code",
   "execution_count": 106,
   "metadata": {},
   "outputs": [
    {
     "data": {
      "text/plain": [
       "array([ True,  True,  True,  True,  True,  True,  True, False,  True,\n",
       "        True,  True,  True, False, False, False, False, False, False,\n",
       "       False, False, False, False, False, False, False, False, False,\n",
       "       False, False, False, False, False, False, False, False, False,\n",
       "       False, False, False])"
      ]
     },
     "execution_count": 106,
     "metadata": {},
     "output_type": "execute_result"
    }
   ],
   "source": [
    "ins.columns == dins.columns"
   ]
  },
  {
   "cell_type": "code",
   "execution_count": null,
   "metadata": {},
   "outputs": [],
   "source": [
    "ins['정기정밀'] = '정기'\n",
    "dins['정기정밀'] = '정밀'"
   ]
  },
  {
   "cell_type": "code",
   "execution_count": null,
   "metadata": {},
   "outputs": [],
   "source": []
  },
  {
   "cell_type": "code",
   "execution_count": null,
   "metadata": {},
   "outputs": [],
   "source": []
  },
  {
   "cell_type": "code",
   "execution_count": null,
   "metadata": {},
   "outputs": [],
   "source": []
  },
  {
   "cell_type": "code",
   "execution_count": null,
   "metadata": {},
   "outputs": [],
   "source": []
  },
  {
   "attachments": {},
   "cell_type": "markdown",
   "metadata": {},
   "source": [
    "# 코드 마지막"
   ]
  }
 ],
 "metadata": {
  "kernelspec": {
   "display_name": "base",
   "language": "python",
   "name": "python3"
  },
  "language_info": {
   "codemirror_mode": {
    "name": "ipython",
    "version": 3
   },
   "file_extension": ".py",
   "mimetype": "text/x-python",
   "name": "python",
   "nbconvert_exporter": "python",
   "pygments_lexer": "ipython3",
   "version": "3.9.13"
  },
  "orig_nbformat": 4,
  "vscode": {
   "interpreter": {
    "hash": "ad2bdc8ecc057115af97d19610ffacc2b4e99fae6737bb82f5d7fb13d2f2c186"
   }
  }
 },
 "nbformat": 4,
 "nbformat_minor": 2
}
