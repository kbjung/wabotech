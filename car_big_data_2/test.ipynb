{
 "cells": [
  {
   "attachments": {},
   "cell_type": "markdown",
   "metadata": {},
   "source": [
    "# Library"
   ]
  },
  {
   "cell_type": "code",
   "execution_count": 1,
   "metadata": {},
   "outputs": [],
   "source": [
    "import pandas as pd\n",
    "import os"
   ]
  },
  {
   "attachments": {},
   "cell_type": "markdown",
   "metadata": {},
   "source": [
    "# folder"
   ]
  },
  {
   "cell_type": "code",
   "execution_count": 25,
   "metadata": {},
   "outputs": [],
   "source": [
    "ods_fold = 'D:/data/big2/ODS'\n",
    "df3_fold = 'D:/data/big2/BD3/df'\n",
    "raw3_fold = 'D:/data/big2/BD3/raw'"
   ]
  },
  {
   "attachments": {},
   "cell_type": "markdown",
   "metadata": {},
   "source": [
    "## 등록정보"
   ]
  },
  {
   "cell_type": "code",
   "execution_count": 3,
   "metadata": {},
   "outputs": [],
   "source": [
    "# about 8m 39.5s\n",
    "name = '[ODS]등록정보&제원정보(2022.12.28)'\n",
    "file_name = f'{name}.csv'\n",
    "df = pd.read_csv(os.path.join(ods_fold, file_name), low_memory=False, encoding='cp949')\n",
    "df.info()"
   ]
  },
  {
   "cell_type": "code",
   "execution_count": null,
   "metadata": {},
   "outputs": [
    {
     "data": {
      "text/plain": [
       "Index(['차량관리번호', '차량등록번호', '본거지법정동코드', '소유자구분', '차종_등록정보', '용도', '현재회원번호',\n",
       "       '차대번호', '최초등록일자', '차량연식', '차량제작일자', '배출가스검사유효일자', '제원관리번호', '배출가스인증번호',\n",
       "       '배출가스등급', '저공해조치YN(미사용)', '저공해조치종류', '저공해조치구조변경YN', '차량등록번호숫자정보',\n",
       "       '차량말소YN', '최초회원번호', '취득일자', '취득금액', '생성일시_등록정보', '수정일시_등록정보', '차명',\n",
       "       '차종_제원정보', '차종분류', '차종유형(소분류)', '자동차형식', '제작사명', '연료', '엔진형식', '공차중량',\n",
       "       '총중량', '적재중량', '엔진출력', '배기량', '승차인원', '차량길이', '차량너비', '차량높이', '원산지명',\n",
       "       '삭제YN', '승인일자', '구동형식', '변속기종류', '생성일시_제원정보', '수정일시_제원정보'],\n",
       "      dtype='object')"
      ]
     },
     "execution_count": 6,
     "metadata": {},
     "output_type": "execute_result"
    }
   ],
   "source": [
    "df.columns"
   ]
  },
  {
   "cell_type": "code",
   "execution_count": null,
   "metadata": {},
   "outputs": [
    {
     "data": {
      "text/html": [
       "<div>\n",
       "<style scoped>\n",
       "    .dataframe tbody tr th:only-of-type {\n",
       "        vertical-align: middle;\n",
       "    }\n",
       "\n",
       "    .dataframe tbody tr th {\n",
       "        vertical-align: top;\n",
       "    }\n",
       "\n",
       "    .dataframe thead th {\n",
       "        text-align: right;\n",
       "    }\n",
       "</style>\n",
       "<table border=\"1\" class=\"dataframe\">\n",
       "  <thead>\n",
       "    <tr style=\"text-align: right;\">\n",
       "      <th></th>\n",
       "      <th>차대번호</th>\n",
       "      <th>차량등록번호</th>\n",
       "      <th>배출가스인증번호</th>\n",
       "      <th>배출가스등급</th>\n",
       "      <th>차명</th>\n",
       "      <th>자동차형식</th>\n",
       "      <th>엔진형식</th>\n",
       "      <th>연료</th>\n",
       "      <th>차량연식</th>\n",
       "      <th>용도</th>\n",
       "      <th>차종_등록정보</th>\n",
       "      <th>차종_제원정보</th>\n",
       "    </tr>\n",
       "  </thead>\n",
       "  <tbody>\n",
       "    <tr>\n",
       "      <th>20466723</th>\n",
       "      <td>KMHE241CBJA417701</td>\n",
       "      <td>998무2907</td>\n",
       "      <td>HMY-HD-14-09</td>\n",
       "      <td>2</td>\n",
       "      <td>쏘나타 (SONATA) 순찰차</td>\n",
       "      <td>LF4CBF-GP</td>\n",
       "      <td>G4ND</td>\n",
       "      <td>휘발유</td>\n",
       "      <td>2018</td>\n",
       "      <td>관용</td>\n",
       "      <td>승용</td>\n",
       "      <td>승용</td>\n",
       "    </tr>\n",
       "  </tbody>\n",
       "</table>\n",
       "</div>"
      ],
      "text/plain": [
       "                       차대번호    차량등록번호      배출가스인증번호 배출가스등급                차명  \\\n",
       "20466723  KMHE241CBJA417701  998무2907  HMY-HD-14-09      2  쏘나타 (SONATA) 순찰차   \n",
       "\n",
       "              자동차형식  엔진형식   연료  차량연식  용도 차종_등록정보 차종_제원정보  \n",
       "20466723  LF4CBF-GP  G4ND  휘발유  2018  관용      승용      승용  "
      ]
     },
     "execution_count": 14,
     "metadata": {},
     "output_type": "execute_result"
    }
   ],
   "source": [
    "df.loc[df['차량등록번호'] == '998무2907', ['차대번호', '차량등록번호' , '배출가스인증번호', '배출가스등급', '차명', '자동차형식', '엔진형식', '연료', '차량연식', '용도', '차종_등록정보', '차종_제원정보']]"
   ]
  },
  {
   "attachments": {},
   "cell_type": "markdown",
   "metadata": {},
   "source": [
    "# result 확인"
   ]
  },
  {
   "cell_type": "code",
   "execution_count": 5,
   "metadata": {},
   "outputs": [],
   "source": [
    "raw_fold = 'D:/data/big2/BD1/raw'"
   ]
  },
  {
   "cell_type": "code",
   "execution_count": 6,
   "metadata": {},
   "outputs": [
    {
     "name": "stdout",
     "output_type": "stream",
     "text": [
      "<class 'pandas.core.frame.DataFrame'>\n",
      "RangeIndex: 1502235 entries, 0 to 1502234\n",
      "Data columns (total 44 columns):\n",
      " #   Column         Non-Null Count    Dtype  \n",
      "---  ------         --------------    -----  \n",
      " 0   차대번호           1502235 non-null  object \n",
      " 1   차량번호           1502235 non-null  object \n",
      " 2   제원관리번호         1502235 non-null  object \n",
      " 3   차종             1502235 non-null  object \n",
      " 4   용도             1502235 non-null  object \n",
      " 5   최초등록일          1502235 non-null  int64  \n",
      " 6   연식             1502235 non-null  int64  \n",
      " 7   제작일자           1335178 non-null  float64\n",
      " 8   검사유효일          1502223 non-null  float64\n",
      " 9   배출가스인증번호       1384783 non-null  object \n",
      " 10  등급             1502235 non-null  int64  \n",
      " 11  차명             1502235 non-null  object \n",
      " 12  차종분류           1502235 non-null  object \n",
      " 13  차종유형           1502235 non-null  object \n",
      " 14  자동차형식          1501958 non-null  object \n",
      " 15  제작사명           1492590 non-null  object \n",
      " 16  연료             1502235 non-null  object \n",
      " 17  엔진형식           1500400 non-null  object \n",
      " 18  총중량            1502234 non-null  float64\n",
      " 19  적재중량           1501728 non-null  float64\n",
      " 20  엔진출력           1501882 non-null  object \n",
      " 21  배기량            1502231 non-null  float64\n",
      " 22  법정동코드          1502235 non-null  int64  \n",
      " 23  시도명            1502235 non-null  object \n",
      " 24  시군구명           1502235 non-null  object \n",
      " 25  소유자구분          1502235 non-null  object \n",
      " 26  말소여부           1502235 non-null  object \n",
      " 27  일치유무           1153813 non-null  object \n",
      " 28  인증번호 수정 유무     1151141 non-null  object \n",
      " 29  배인번호_수정        1153813 non-null  object \n",
      " 30  등급_수정          1502235 non-null  float64\n",
      " 31  DPF유무_수정       1153813 non-null  object \n",
      " 32  배출가스           1151141 non-null  object \n",
      " 33  등급2            1151141 non-null  object \n",
      " 34  DPF            1144315 non-null  object \n",
      " 35  비고             46494 non-null    object \n",
      " 36  Grade          1497711 non-null  object \n",
      " 37  시군구명_수정        1494113 non-null  object \n",
      " 38  dong_code      1502235 non-null  int64  \n",
      " 39  E_CO_total     1497708 non-null  float64\n",
      " 40  E_HC_total     1497708 non-null  float64\n",
      " 41  E_NOx_total    1497708 non-null  float64\n",
      " 42  E_PM10_total   1497708 non-null  float64\n",
      " 43  E_PM2_5_total  1497708 non-null  float64\n",
      "dtypes: float64(11), int64(5), object(28)\n",
      "memory usage: 504.3+ MB\n"
     ]
    }
   ],
   "source": [
    "# about \n",
    "name = 'result(전체)_CAPSS_배출량(Grade추가)(dong_code추가)(2023.05.08_PM.04.42.03)'\n",
    "file_name = f'{name}.csv'\n",
    "df = pd.read_csv(os.path.join(raw_fold, file_name), low_memory=False)\n",
    "df.info()"
   ]
  },
  {
   "cell_type": "code",
   "execution_count": 7,
   "metadata": {},
   "outputs": [
    {
     "data": {
      "text/plain": [
       "Index(['차대번호', '차량번호', '제원관리번호', '차종', '용도', '최초등록일', '연식', '제작일자', '검사유효일',\n",
       "       '배출가스인증번호', '등급', '차명', '차종분류', '차종유형', '자동차형식', '제작사명', '연료', '엔진형식',\n",
       "       '총중량', '적재중량', '엔진출력', '배기량', '법정동코드', '시도명', '시군구명', '소유자구분', '말소여부',\n",
       "       '일치유무', '인증번호 수정 유무', '배인번호_수정', '등급_수정', 'DPF유무_수정', '배출가스', '등급2',\n",
       "       'DPF', '비고', 'Grade', '시군구명_수정', 'dong_code', 'E_CO_total',\n",
       "       'E_HC_total', 'E_NOx_total', 'E_PM10_total', 'E_PM2_5_total'],\n",
       "      dtype='object')"
      ]
     },
     "execution_count": 7,
     "metadata": {},
     "output_type": "execute_result"
    }
   ],
   "source": [
    "df.columns"
   ]
  },
  {
   "cell_type": "code",
   "execution_count": 8,
   "metadata": {},
   "outputs": [
    {
     "data": {
      "text/plain": [
       "(118, 44)"
      ]
     },
     "execution_count": 8,
     "metadata": {},
     "output_type": "execute_result"
    }
   ],
   "source": [
    "df.loc[df['배인번호_수정'] == '5MY-AD-13-07'].shape"
   ]
  },
  {
   "cell_type": "code",
   "execution_count": 9,
   "metadata": {},
   "outputs": [
    {
     "data": {
      "text/plain": [
       "(51, 44)"
      ]
     },
     "execution_count": 9,
     "metadata": {},
     "output_type": "execute_result"
    }
   ],
   "source": [
    "df.loc[df['배인번호_수정'] == '5MY-AD-13-13'].shape"
   ]
  },
  {
   "cell_type": "code",
   "execution_count": 10,
   "metadata": {},
   "outputs": [
    {
     "data": {
      "text/plain": [
       "(493, 44)"
      ]
     },
     "execution_count": 10,
     "metadata": {},
     "output_type": "execute_result"
    }
   ],
   "source": [
    "df.loc[df['배인번호_수정'] == '6MY-AD-13-11'].shape"
   ]
  },
  {
   "cell_type": "code",
   "execution_count": 11,
   "metadata": {},
   "outputs": [
    {
     "data": {
      "text/plain": [
       "(565, 44)"
      ]
     },
     "execution_count": 11,
     "metadata": {},
     "output_type": "execute_result"
    }
   ],
   "source": [
    "df.loc[df['배인번호_수정'] == '7MY-AD-13-01'].shape"
   ]
  },
  {
   "cell_type": "code",
   "execution_count": 12,
   "metadata": {},
   "outputs": [
    {
     "data": {
      "text/plain": [
       "(26, 44)"
      ]
     },
     "execution_count": 12,
     "metadata": {},
     "output_type": "execute_result"
    }
   ],
   "source": [
    "df.loc[df['배인번호_수정'] == '7MY-AD-13-05'].shape"
   ]
  },
  {
   "cell_type": "code",
   "execution_count": 13,
   "metadata": {},
   "outputs": [
    {
     "data": {
      "text/plain": [
       "(207, 44)"
      ]
     },
     "execution_count": 13,
     "metadata": {},
     "output_type": "execute_result"
    }
   ],
   "source": [
    "df.loc[df['배인번호_수정'] == '7MY-AD-13-06'].shape"
   ]
  },
  {
   "cell_type": "code",
   "execution_count": 14,
   "metadata": {},
   "outputs": [
    {
     "data": {
      "text/plain": [
       "(273, 44)"
      ]
     },
     "execution_count": 14,
     "metadata": {},
     "output_type": "execute_result"
    }
   ],
   "source": [
    "df.loc[df['배인번호_수정'] == '9MY-JL-14-4'].shape"
   ]
  },
  {
   "cell_type": "code",
   "execution_count": 15,
   "metadata": {},
   "outputs": [
    {
     "data": {
      "text/plain": [
       "(27866, 44)"
      ]
     },
     "execution_count": 15,
     "metadata": {},
     "output_type": "execute_result"
    }
   ],
   "source": [
    "df.loc[df['배출가스인증번호'] == '5MY-HD-24-59'].shape"
   ]
  },
  {
   "cell_type": "code",
   "execution_count": 16,
   "metadata": {},
   "outputs": [
    {
     "data": {
      "text/plain": [
       "(27698, 44)"
      ]
     },
     "execution_count": 16,
     "metadata": {},
     "output_type": "execute_result"
    }
   ],
   "source": [
    "df.loc[df['배인번호_수정'] == '5MY-HD-24-59'].shape"
   ]
  },
  {
   "cell_type": "code",
   "execution_count": 17,
   "metadata": {},
   "outputs": [
    {
     "data": {
      "text/plain": [
       "168"
      ]
     },
     "execution_count": 17,
     "metadata": {},
     "output_type": "execute_result"
    }
   ],
   "source": [
    "df.loc[df['배출가스인증번호'] == '5MY-HD-24-59'].shape[0] - df.loc[df['배인번호_수정'] == '5MY-HD-24-59'].shape[0]"
   ]
  },
  {
   "cell_type": "code",
   "execution_count": 18,
   "metadata": {},
   "outputs": [
    {
     "data": {
      "text/plain": [
       "(313, 44)"
      ]
     },
     "execution_count": 18,
     "metadata": {},
     "output_type": "execute_result"
    }
   ],
   "source": [
    "df.loc[df['배인번호_수정'] == '8MY-SY-13-14'].shape"
   ]
  },
  {
   "cell_type": "code",
   "execution_count": 19,
   "metadata": {},
   "outputs": [
    {
     "data": {
      "text/plain": [
       "(2, 44)"
      ]
     },
     "execution_count": 19,
     "metadata": {},
     "output_type": "execute_result"
    }
   ],
   "source": [
    "df.loc[df['배인번호_수정'] == 'CMY-VTK-14-01'].shape"
   ]
  },
  {
   "cell_type": "code",
   "execution_count": 20,
   "metadata": {},
   "outputs": [
    {
     "data": {
      "text/plain": [
       "(24, 44)"
      ]
     },
     "execution_count": 20,
     "metadata": {},
     "output_type": "execute_result"
    }
   ],
   "source": [
    "df.loc[df['배인번호_수정'] == 'CMY-VTK-14-02'].shape"
   ]
  },
  {
   "cell_type": "code",
   "execution_count": 21,
   "metadata": {},
   "outputs": [
    {
     "data": {
      "text/plain": [
       "(1780, 44)"
      ]
     },
     "execution_count": 21,
     "metadata": {},
     "output_type": "execute_result"
    }
   ],
   "source": [
    "df.loc[df['배인번호_수정'] == 'FMY-VTK-14-1'].shape"
   ]
  },
  {
   "cell_type": "code",
   "execution_count": 22,
   "metadata": {},
   "outputs": [
    {
     "data": {
      "text/plain": [
       "(87, 44)"
      ]
     },
     "execution_count": 22,
     "metadata": {},
     "output_type": "execute_result"
    }
   ],
   "source": [
    "df.loc[df['배인번호_수정'] == 'FMY-VTK-14-2'].shape"
   ]
  },
  {
   "cell_type": "code",
   "execution_count": 23,
   "metadata": {},
   "outputs": [
    {
     "data": {
      "text/plain": [
       "(76, 44)"
      ]
     },
     "execution_count": 23,
     "metadata": {},
     "output_type": "execute_result"
    }
   ],
   "source": [
    "df.loc[df['배인번호_수정'] == 'FMY-VTK-14-3'].shape"
   ]
  },
  {
   "cell_type": "code",
   "execution_count": 24,
   "metadata": {},
   "outputs": [
    {
     "data": {
      "text/plain": [
       "(49, 44)"
      ]
     },
     "execution_count": 24,
     "metadata": {},
     "output_type": "execute_result"
    }
   ],
   "source": [
    "df.loc[df['배인번호_수정'] == 'FMY-VTK-14-4'].shape"
   ]
  },
  {
   "cell_type": "code",
   "execution_count": 25,
   "metadata": {},
   "outputs": [
    {
     "data": {
      "text/plain": [
       "(148, 44)"
      ]
     },
     "execution_count": 25,
     "metadata": {},
     "output_type": "execute_result"
    }
   ],
   "source": [
    "df.loc[df['배인번호_수정'] == '7MY-DK-24-04'].shape"
   ]
  },
  {
   "cell_type": "code",
   "execution_count": 26,
   "metadata": {},
   "outputs": [
    {
     "data": {
      "text/plain": [
       "(57, 44)"
      ]
     },
     "execution_count": 26,
     "metadata": {},
     "output_type": "execute_result"
    }
   ],
   "source": [
    "df.loc[df['배출가스인증번호'] == '7MY-DB-24-42'].shape"
   ]
  },
  {
   "cell_type": "code",
   "execution_count": 27,
   "metadata": {},
   "outputs": [
    {
     "data": {
      "text/plain": [
       "(44, 44)"
      ]
     },
     "execution_count": 27,
     "metadata": {},
     "output_type": "execute_result"
    }
   ],
   "source": [
    "df.loc[df['배인번호_수정'] == '7MY-DB-24-42'].shape"
   ]
  },
  {
   "cell_type": "code",
   "execution_count": 28,
   "metadata": {},
   "outputs": [
    {
     "data": {
      "text/plain": [
       "13"
      ]
     },
     "execution_count": 28,
     "metadata": {},
     "output_type": "execute_result"
    }
   ],
   "source": [
    "df.loc[df['배출가스인증번호'] == '7MY-DB-24-42'].shape[0] - df.loc[df['배인번호_수정'] == '7MY-DB-24-42'].shape[0]"
   ]
  },
  {
   "cell_type": "code",
   "execution_count": 29,
   "metadata": {},
   "outputs": [
    {
     "data": {
      "text/plain": [
       "등급_수정\n",
       "4.0    1497711\n",
       "3.0       4397\n",
       "5.0        127\n",
       "Name: count, dtype: int64"
      ]
     },
     "execution_count": 29,
     "metadata": {},
     "output_type": "execute_result"
    }
   ],
   "source": [
    "df['등급_수정'].value_counts(dropna=False)"
   ]
  },
  {
   "attachments": {},
   "cell_type": "markdown",
   "metadata": {},
   "source": [
    "## 5등급으로 변경"
   ]
  },
  {
   "cell_type": "code",
   "execution_count": 30,
   "metadata": {},
   "outputs": [
    {
     "data": {
      "text/plain": [
       "(24, 3)"
      ]
     },
     "execution_count": 30,
     "metadata": {},
     "output_type": "execute_result"
    }
   ],
   "source": [
    "df.loc[df['배인번호_수정'] == '4MY-DB-04', ['차명', '제작사명', '등급_수정']].shape"
   ]
  },
  {
   "cell_type": "code",
   "execution_count": 31,
   "metadata": {},
   "outputs": [],
   "source": [
    "df.loc[df['배인번호_수정'] == '4MY-DB-04', '등급_수정'] = 5"
   ]
  },
  {
   "cell_type": "code",
   "execution_count": 32,
   "metadata": {},
   "outputs": [
    {
     "data": {
      "text/plain": [
       "(9, 44)"
      ]
     },
     "execution_count": 32,
     "metadata": {},
     "output_type": "execute_result"
    }
   ],
   "source": [
    "df.loc[df['배인번호_수정'] == '4MY-DB-03'].shape"
   ]
  },
  {
   "cell_type": "code",
   "execution_count": 33,
   "metadata": {},
   "outputs": [
    {
     "data": {
      "text/plain": [
       "array([4.])"
      ]
     },
     "execution_count": 33,
     "metadata": {},
     "output_type": "execute_result"
    }
   ],
   "source": [
    "df.loc[df['배인번호_수정'] == '4MY-DB-03', '등급_수정'].unique()"
   ]
  },
  {
   "cell_type": "code",
   "execution_count": 34,
   "metadata": {},
   "outputs": [],
   "source": [
    "df.loc[df['배인번호_수정'] == '4MY-DB-03', '등급_수정'] = 5"
   ]
  },
  {
   "cell_type": "code",
   "execution_count": 35,
   "metadata": {},
   "outputs": [
    {
     "data": {
      "text/plain": [
       "등급_수정\n",
       "4.0    1497678\n",
       "3.0       4397\n",
       "5.0        160\n",
       "Name: count, dtype: int64"
      ]
     },
     "execution_count": 35,
     "metadata": {},
     "output_type": "execute_result"
    }
   ],
   "source": [
    "df['등급_수정'].value_counts(dropna=False)"
   ]
  },
  {
   "attachments": {},
   "cell_type": "markdown",
   "metadata": {},
   "source": [
    "## 소나타 DPF 장착 확인(아직 수행전)\n"
   ]
  },
  {
   "cell_type": "code",
   "execution_count": 47,
   "metadata": {},
   "outputs": [
    {
     "data": {
      "text/plain": [
       "Index(['차대번호', '차량번호', '제원관리번호', '차종', '용도', '최초등록일', '연식', '제작일자', '검사유효일',\n",
       "       '배출가스인증번호', '등급', '차명', '차종분류', '차종유형', '자동차형식', '제작사명', '연료', '엔진형식',\n",
       "       '총중량', '적재중량', '엔진출력', '배기량', '법정동코드', '시도명', '시군구명', '소유자구분', '말소여부',\n",
       "       '일치유무', '인증번호 수정 유무', '배인번호_수정', '등급_수정', 'DPF유무_수정', '배출가스', '등급2',\n",
       "       'DPF', '비고', 'Grade', '시군구명_수정', 'dong_code', 'E_CO_total',\n",
       "       'E_HC_total', 'E_NOx_total', 'E_PM10_total', 'E_PM2_5_total'],\n",
       "      dtype='object')"
      ]
     },
     "execution_count": 47,
     "metadata": {},
     "output_type": "execute_result"
    }
   ],
   "source": [
    "df.columns"
   ]
  },
  {
   "cell_type": "code",
   "execution_count": null,
   "metadata": {},
   "outputs": [],
   "source": [
    "df.loc[df['배인번호_수정']]"
   ]
  },
  {
   "cell_type": "code",
   "execution_count": 36,
   "metadata": {},
   "outputs": [],
   "source": [
    "# about 3.1s\n",
    "df.loc[df['등급_수정'] == 3].to_excel(os.path.join(raw_fold, 'result_3등급.xlsx'), index=False)\n",
    "df.loc[df['등급_수정'] == 5].to_excel(os.path.join(raw_fold, 'result_5등급.xlsx'), index=False)"
   ]
  },
  {
   "cell_type": "code",
   "execution_count": 42,
   "metadata": {},
   "outputs": [],
   "source": [
    "# about 28.4s\n",
    "df.to_csv(os.path.join(ods_fold, 'result(전체)_CAPSS_배출량(Grade추가)(dong_code추가)(2023.05.15).csv'), index=False)"
   ]
  },
  {
   "cell_type": "code",
   "execution_count": 37,
   "metadata": {},
   "outputs": [
    {
     "data": {
      "text/plain": [
       "(1153813, 44)"
      ]
     },
     "execution_count": 37,
     "metadata": {},
     "output_type": "execute_result"
    }
   ],
   "source": [
    "df.loc[df['연료'] == '경유'].shape"
   ]
  },
  {
   "cell_type": "code",
   "execution_count": 38,
   "metadata": {},
   "outputs": [
    {
     "data": {
      "text/plain": [
       "등급_수정\n",
       "4.0    1149256\n",
       "3.0       4397\n",
       "5.0        160\n",
       "Name: count, dtype: int64"
      ]
     },
     "execution_count": 38,
     "metadata": {},
     "output_type": "execute_result"
    }
   ],
   "source": [
    "df2 = df.loc[df['연료'] == '경유'].reset_index(drop=True)\n",
    "df2['등급_수정'].value_counts(dropna=False)"
   ]
  },
  {
   "cell_type": "code",
   "execution_count": 72,
   "metadata": {},
   "outputs": [
    {
     "data": {
      "text/plain": [
       "Index(['차대번호', '차량번호', '제원관리번호', '차종', '용도', '최초등록일', '연식', '제작일자', '검사유효일',\n",
       "       '배출가스인증번호', '등급', '차명', '차종분류', '차종유형', '자동차형식', '제작사명', '연료', '엔진형식',\n",
       "       '총중량', '적재중량', '엔진출력', '배기량', '법정동코드', '시도명', '시군구명', '소유자구분', '말소여부',\n",
       "       '일치유무', '인증번호 수정 유무', '배인번호_수정', '등급_수정', 'DPF유무_수정', '배출가스', '등급2',\n",
       "       'DPF', '비고', 'Grade', '시군구명_수정', 'dong_code', 'E_CO_total',\n",
       "       'E_HC_total', 'E_NOx_total', 'E_PM10_total', 'E_PM2_5_total'],\n",
       "      dtype='object')"
      ]
     },
     "execution_count": 72,
     "metadata": {},
     "output_type": "execute_result"
    }
   ],
   "source": [
    "df2.columns"
   ]
  },
  {
   "cell_type": "code",
   "execution_count": 71,
   "metadata": {},
   "outputs": [],
   "source": [
    "# about \n",
    "n = 800000\n",
    "df2.iloc[:n].to_excel(os.path.join(raw_fold, 'result(전체)_CAPSS_배출량(Grade추가)(dong_code추가)(2023.05.15)01.xlsx'), index=False)\n",
    "df2.iloc[n:].to_excel(os.path.join(raw_fold, 'result(전체)_CAPSS_배출량(Grade추가)(dong_code추가)(2023.05.15)02.xlsx'), index=False)"
   ]
  },
  {
   "cell_type": "code",
   "execution_count": 39,
   "metadata": {},
   "outputs": [
    {
     "data": {
      "text/plain": [
       "(1149256, 44)"
      ]
     },
     "execution_count": 39,
     "metadata": {},
     "output_type": "execute_result"
    }
   ],
   "source": [
    "df3 = df2.loc[df2['등급_수정'] == 4].reset_index(drop=True)\n",
    "df3.shape"
   ]
  },
  {
   "cell_type": "code",
   "execution_count": 40,
   "metadata": {},
   "outputs": [
    {
     "data": {
      "text/plain": [
       "Index(['차대번호', '차량번호', '제원관리번호', '차종', '용도', '최초등록일', '연식', '제작일자', '검사유효일',\n",
       "       '배출가스인증번호', '등급', '차명', '차종분류', '차종유형', '자동차형식', '제작사명', '연료', '엔진형식',\n",
       "       '총중량', '적재중량', '엔진출력', '배기량', '법정동코드', '시도명', '시군구명', '소유자구분', '말소여부',\n",
       "       '일치유무', '인증번호 수정 유무', '배인번호_수정', '등급_수정', 'DPF유무_수정', '배출가스', '등급2',\n",
       "       'DPF', '비고', 'Grade', '시군구명_수정', 'dong_code', 'E_CO_total',\n",
       "       'E_HC_total', 'E_NOx_total', 'E_PM10_total', 'E_PM2_5_total'],\n",
       "      dtype='object')"
      ]
     },
     "execution_count": 40,
     "metadata": {},
     "output_type": "execute_result"
    }
   ],
   "source": [
    "df3.columns"
   ]
  },
  {
   "cell_type": "code",
   "execution_count": 41,
   "metadata": {},
   "outputs": [],
   "source": [
    "# about \n",
    "n = 600000\n",
    "df3.iloc[:n].to_excel(os.path.join(raw_fold, 'result(4등급_경유)_CAPSS배출량(Grade추가)(dong_code추가)(2023.05.17)01.xlsx'), index=False)\n",
    "df3.iloc[n:].to_excel(os.path.join(raw_fold, 'result(4등급_경유)_CAPSS배출량(Grade추가)(dong_code추가)(2023.05.17)02.xlsx'), index=False)"
   ]
  },
  {
   "cell_type": "code",
   "execution_count": 43,
   "metadata": {},
   "outputs": [
    {
     "data": {
      "text/plain": [
       "등급_수정\n",
       "4.0    1497678\n",
       "3.0       4397\n",
       "5.0        160\n",
       "Name: count, dtype: int64"
      ]
     },
     "execution_count": 43,
     "metadata": {},
     "output_type": "execute_result"
    }
   ],
   "source": [
    "df['등급_수정'].value_counts(dropna=False)"
   ]
  },
  {
   "cell_type": "code",
   "execution_count": 44,
   "metadata": {},
   "outputs": [
    {
     "data": {
      "text/plain": [
       "연료\n",
       "경유             1149256\n",
       "휘발유             323019\n",
       "LPG(액화석유가스)      25400\n",
       "알코올                  1\n",
       "기타연료                 1\n",
       "CNG(압축천연가스)          1\n",
       "Name: count, dtype: int64"
      ]
     },
     "execution_count": 44,
     "metadata": {},
     "output_type": "execute_result"
    }
   ],
   "source": [
    "df.loc[df['등급_수정'] == 4, '연료'].value_counts(dropna=False)"
   ]
  },
  {
   "cell_type": "code",
   "execution_count": 45,
   "metadata": {},
   "outputs": [
    {
     "data": {
      "text/plain": [
       "(1497678, 44)"
      ]
     },
     "execution_count": 45,
     "metadata": {},
     "output_type": "execute_result"
    }
   ],
   "source": [
    "g4 = df.loc[df['등급_수정'] == 4].reset_index(drop=True)\n",
    "g4.shape"
   ]
  },
  {
   "cell_type": "code",
   "execution_count": 46,
   "metadata": {},
   "outputs": [],
   "source": [
    "# about 17m 52.6s\n",
    "n = 800000\n",
    "g4.iloc[:n].to_excel(os.path.join(raw_fold, 'result(4등급)_CAPSS배출량(Grade추가)(dong_code추가)(2023.05.17)01.xlsx'), index=False)\n",
    "g4.iloc[n:].to_excel(os.path.join(raw_fold, 'result(4등급)_CAPSS배출량(Grade추가)(dong_code추가)(2023.05.17)02.xlsx'), index=False)"
   ]
  },
  {
   "attachments": {},
   "cell_type": "markdown",
   "metadata": {},
   "source": [
    "# result 보관용 파일 등급 수정 반영"
   ]
  },
  {
   "cell_type": "code",
   "execution_count": 5,
   "metadata": {},
   "outputs": [
    {
     "name": "stdout",
     "output_type": "stream",
     "text": [
      "<class 'pandas.core.frame.DataFrame'>\n",
      "RangeIndex: 1149289 entries, 0 to 1149288\n",
      "Data columns (total 81 columns):\n",
      " #   Column         Non-Null Count    Dtype  \n",
      "---  ------         --------------    -----  \n",
      " 0   차대번호           1149289 non-null  object \n",
      " 1   차량번호           1149289 non-null  object \n",
      " 2   제원관리번호         1149289 non-null  object \n",
      " 3   차종             1149289 non-null  object \n",
      " 4   용도             1149289 non-null  object \n",
      " 5   최초등록일          1149289 non-null  int64  \n",
      " 6   연식             1149289 non-null  int64  \n",
      " 7   제작일자           1149288 non-null  float64\n",
      " 8   검사유효일          1149286 non-null  float64\n",
      " 9   배출가스인증번호       1144738 non-null  object \n",
      " 10  등급             1149289 non-null  int64  \n",
      " 11  차명             1149289 non-null  object \n",
      " 12  차종분류           1149289 non-null  object \n",
      " 13  차종유형           1149289 non-null  object \n",
      " 14  자동차형식          1149288 non-null  object \n",
      " 15  제작사명           1149272 non-null  object \n",
      " 16  연료             1149289 non-null  object \n",
      " 17  엔진형식           1149289 non-null  object \n",
      " 18  총중량            1149289 non-null  float64\n",
      " 19  적재중량           1149230 non-null  float64\n",
      " 20  엔진출력           1149287 non-null  float64\n",
      " 21  배기량            1149289 non-null  float64\n",
      " 22  법정동코드          1149289 non-null  int64  \n",
      " 23  시도명            1149289 non-null  object \n",
      " 24  시군구명           1149289 non-null  object \n",
      " 25  소유자구분          1149289 non-null  object \n",
      " 26  말소여부           1149289 non-null  object \n",
      " 27  일치유무           1149289 non-null  object \n",
      " 28  인증번호 수정 유무     1146618 non-null  object \n",
      " 29  배인번호_수정        1149289 non-null  object \n",
      " 30  등급_수정          1149289 non-null  float64\n",
      " 31  DPF유무_수정       1149289 non-null  object \n",
      " 32  배출가스           1146618 non-null  object \n",
      " 33  등급2            1146618 non-null  object \n",
      " 34  DPF            1139796 non-null  object \n",
      " 35  비고             44445 non-null    object \n",
      " 36  Grade          1149289 non-null  object \n",
      " 37  차령             1149289 non-null  int64  \n",
      " 38  시군구명_수정        1149289 non-null  object \n",
      " 39  1일평균주행거리       1149289 non-null  float64\n",
      " 40  조기폐차최종승인YN     0 non-null        float64\n",
      " 41  저감장치           32 non-null       object \n",
      " 42  장치일련번호         34 non-null       object \n",
      " 43  연간주행거리         1149289 non-null  float64\n",
      " 44  최신경과기간         1051999 non-null  float64\n",
      " 45  검사일자           1121144 non-null  float64\n",
      " 46  검사방법           1121144 non-null  object \n",
      " 47  검사종류           1121144 non-null  object \n",
      " 48  검사판정           1121144 non-null  object \n",
      " 49  무부하매연판정1       1112520 non-null  object \n",
      " 50  무부하매연판정2       42469 non-null    object \n",
      " 51  무부하매연판정3       41566 non-null    object \n",
      " 52  무부하매연측정치1      1112525 non-null  float64\n",
      " 53  무부하매연측정치2      363252 non-null   float64\n",
      " 54  무부하매연측정치3      330070 non-null   float64\n",
      " 55  연간배출량          1037785 non-null  float64\n",
      " 56  연간환경이익         1037785 non-null  float64\n",
      " 57  환경이익           1037785 non-null  float64\n",
      " 58  지원비용           1149289 non-null  int64  \n",
      " 59  경제적타당성         1037785 non-null  float64\n",
      " 60  단속발령19         0 non-null        float64\n",
      " 61  단속발령20         44 non-null       float64\n",
      " 62  단속발령21         11 non-null       float64\n",
      " 63  단속발령22         2 non-null        float64\n",
      " 64  단속발령대수_x       47 non-null       float64\n",
      " 65  단속정보18         84 non-null       float64\n",
      " 66  단속정보19         51 non-null       float64\n",
      " 67  단속정보20         28 non-null       float64\n",
      " 68  단속정보21         2 non-null        float64\n",
      " 69  단속정보22         0 non-null        float64\n",
      " 70  단속정보대수_x       138 non-null      float64\n",
      " 71  운행제한단속정보YN     138 non-null      object \n",
      " 72  단속발령1차         28 non-null       float64\n",
      " 73  단속발령2차         6 non-null        float64\n",
      " 74  단속발령3차         0 non-null        float64\n",
      " 75  단속발령대수_y       30 non-null       float64\n",
      " 76  단속정보1차         5 non-null        float64\n",
      " 77  단속정보2차         0 non-null        float64\n",
      " 78  단속정보3차         0 non-null        float64\n",
      " 79  단속정보대수_y       5 non-null        float64\n",
      " 80  비상시및계절제단속발령YN  30 non-null       object \n",
      "dtypes: float64(38), int64(6), object(37)\n",
      "memory usage: 710.2+ MB\n"
     ]
    }
   ],
   "source": [
    "# about \n",
    "name = '4등급_경유차_경제적타당성평가_검사경과기간_운행제한이력(2023.05.07_PM.02.48.37)'\n",
    "file_name = f'{name}.csv'\n",
    "df = pd.read_csv(os.path.join(ods_fold, file_name), low_memory=False)\n",
    "df.info()"
   ]
  },
  {
   "attachments": {},
   "cell_type": "markdown",
   "metadata": {},
   "source": [
    "# STD_BD_CAR_PRET"
   ]
  },
  {
   "cell_type": "code",
   "execution_count": 4,
   "metadata": {},
   "outputs": [
    {
     "data": {
      "text/html": [
       "<div>\n",
       "<style scoped>\n",
       "    .dataframe tbody tr th:only-of-type {\n",
       "        vertical-align: middle;\n",
       "    }\n",
       "\n",
       "    .dataframe tbody tr th {\n",
       "        vertical-align: top;\n",
       "    }\n",
       "\n",
       "    .dataframe thead th {\n",
       "        text-align: right;\n",
       "    }\n",
       "</style>\n",
       "<table border=\"1\" class=\"dataframe\">\n",
       "  <thead>\n",
       "    <tr style=\"text-align: right;\">\n",
       "      <th></th>\n",
       "      <th>YMD</th>\n",
       "      <th>GSL</th>\n",
       "      <th>DSL</th>\n",
       "      <th>LPG</th>\n",
       "      <th>GSL_PRET</th>\n",
       "      <th>DSL_PRET</th>\n",
       "      <th>LPG_PRET</th>\n",
       "    </tr>\n",
       "  </thead>\n",
       "  <tbody>\n",
       "    <tr>\n",
       "      <th>0</th>\n",
       "      <td>2019-12-31</td>\n",
       "      <td>11396509.0</td>\n",
       "      <td>9920850.0</td>\n",
       "      <td>1948981.0</td>\n",
       "      <td>NaN</td>\n",
       "      <td>NaN</td>\n",
       "      <td>NaN</td>\n",
       "    </tr>\n",
       "    <tr>\n",
       "      <th>1</th>\n",
       "      <td>2020-12-31</td>\n",
       "      <td>11997523.0</td>\n",
       "      <td>9949937.0</td>\n",
       "      <td>1930371.0</td>\n",
       "      <td>NaN</td>\n",
       "      <td>NaN</td>\n",
       "      <td>NaN</td>\n",
       "    </tr>\n",
       "    <tr>\n",
       "      <th>2</th>\n",
       "      <td>2021-12-31</td>\n",
       "      <td>12562007.0</td>\n",
       "      <td>9836781.0</td>\n",
       "      <td>1900023.0</td>\n",
       "      <td>NaN</td>\n",
       "      <td>NaN</td>\n",
       "      <td>NaN</td>\n",
       "    </tr>\n",
       "    <tr>\n",
       "      <th>3</th>\n",
       "      <td>2022-12-31</td>\n",
       "      <td>13272774.0</td>\n",
       "      <td>9926769.0</td>\n",
       "      <td>1918540.0</td>\n",
       "      <td>13272774.0</td>\n",
       "      <td>9926769.0</td>\n",
       "      <td>1918540.0</td>\n",
       "    </tr>\n",
       "    <tr>\n",
       "      <th>4</th>\n",
       "      <td>2023-12-31</td>\n",
       "      <td>NaN</td>\n",
       "      <td>NaN</td>\n",
       "      <td>NaN</td>\n",
       "      <td>13874767.0</td>\n",
       "      <td>9891960.0</td>\n",
       "      <td>1900592.0</td>\n",
       "    </tr>\n",
       "  </tbody>\n",
       "</table>\n",
       "</div>"
      ],
      "text/plain": [
       "          YMD         GSL        DSL        LPG    GSL_PRET   DSL_PRET   \n",
       "0  2019-12-31  11396509.0  9920850.0  1948981.0         NaN        NaN  \\\n",
       "1  2020-12-31  11997523.0  9949937.0  1930371.0         NaN        NaN   \n",
       "2  2021-12-31  12562007.0  9836781.0  1900023.0         NaN        NaN   \n",
       "3  2022-12-31  13272774.0  9926769.0  1918540.0  13272774.0  9926769.0   \n",
       "4  2023-12-31         NaN        NaN        NaN  13874767.0  9891960.0   \n",
       "\n",
       "    LPG_PRET  \n",
       "0        NaN  \n",
       "1        NaN  \n",
       "2        NaN  \n",
       "3  1918540.0  \n",
       "4  1900592.0  "
      ]
     },
     "execution_count": 4,
     "metadata": {},
     "output_type": "execute_result"
    }
   ],
   "source": [
    "# about \n",
    "name = 'STD_BD_CAR_PRET'\n",
    "file_name = f'{name}.csv'\n",
    "df = pd.read_csv(os.path.join(df3_fold, file_name), low_memory=False, nrows=5)\n",
    "df.head()"
   ]
  },
  {
   "cell_type": "code",
   "execution_count": 5,
   "metadata": {},
   "outputs": [
    {
     "data": {
      "text/html": [
       "<div>\n",
       "<style scoped>\n",
       "    .dataframe tbody tr th:only-of-type {\n",
       "        vertical-align: middle;\n",
       "    }\n",
       "\n",
       "    .dataframe tbody tr th {\n",
       "        vertical-align: top;\n",
       "    }\n",
       "\n",
       "    .dataframe thead th {\n",
       "        text-align: right;\n",
       "    }\n",
       "</style>\n",
       "<table border=\"1\" class=\"dataframe\">\n",
       "  <thead>\n",
       "    <tr style=\"text-align: right;\">\n",
       "      <th></th>\n",
       "      <th>연월일</th>\n",
       "      <th>휘발유</th>\n",
       "      <th>경유</th>\n",
       "      <th>LPG</th>\n",
       "      <th>휘발유_예측</th>\n",
       "      <th>경유_예측</th>\n",
       "      <th>LPG_예측</th>\n",
       "    </tr>\n",
       "  </thead>\n",
       "  <tbody>\n",
       "    <tr>\n",
       "      <th>0</th>\n",
       "      <td>2019-12-31</td>\n",
       "      <td>11396509.0</td>\n",
       "      <td>9920850.0</td>\n",
       "      <td>1948981.0</td>\n",
       "      <td>NaN</td>\n",
       "      <td>NaN</td>\n",
       "      <td>NaN</td>\n",
       "    </tr>\n",
       "    <tr>\n",
       "      <th>1</th>\n",
       "      <td>2020-12-31</td>\n",
       "      <td>11997523.0</td>\n",
       "      <td>9949937.0</td>\n",
       "      <td>1930371.0</td>\n",
       "      <td>NaN</td>\n",
       "      <td>NaN</td>\n",
       "      <td>NaN</td>\n",
       "    </tr>\n",
       "    <tr>\n",
       "      <th>2</th>\n",
       "      <td>2021-12-31</td>\n",
       "      <td>12562007.0</td>\n",
       "      <td>9836781.0</td>\n",
       "      <td>1900023.0</td>\n",
       "      <td>NaN</td>\n",
       "      <td>NaN</td>\n",
       "      <td>NaN</td>\n",
       "    </tr>\n",
       "    <tr>\n",
       "      <th>3</th>\n",
       "      <td>2022-12-31</td>\n",
       "      <td>13272774.0</td>\n",
       "      <td>9926769.0</td>\n",
       "      <td>1918540.0</td>\n",
       "      <td>13272774.0</td>\n",
       "      <td>9926769.0</td>\n",
       "      <td>1918540.0</td>\n",
       "    </tr>\n",
       "    <tr>\n",
       "      <th>4</th>\n",
       "      <td>2023-12-31</td>\n",
       "      <td>NaN</td>\n",
       "      <td>NaN</td>\n",
       "      <td>NaN</td>\n",
       "      <td>13874767.0</td>\n",
       "      <td>9891960.0</td>\n",
       "      <td>1900592.0</td>\n",
       "    </tr>\n",
       "  </tbody>\n",
       "</table>\n",
       "</div>"
      ],
      "text/plain": [
       "          연월일         휘발유         경유        LPG      휘발유_예측      경유_예측   \n",
       "0  2019-12-31  11396509.0  9920850.0  1948981.0         NaN        NaN  \\\n",
       "1  2020-12-31  11997523.0  9949937.0  1930371.0         NaN        NaN   \n",
       "2  2021-12-31  12562007.0  9836781.0  1900023.0         NaN        NaN   \n",
       "3  2022-12-31  13272774.0  9926769.0  1918540.0  13272774.0  9926769.0   \n",
       "4  2023-12-31         NaN        NaN        NaN  13874767.0  9891960.0   \n",
       "\n",
       "      LPG_예측  \n",
       "0        NaN  \n",
       "1        NaN  \n",
       "2        NaN  \n",
       "3  1918540.0  \n",
       "4  1900592.0  "
      ]
     },
     "execution_count": 5,
     "metadata": {},
     "output_type": "execute_result"
    }
   ],
   "source": [
    "df.columns = ['연월일', '휘발유', '경유', 'LPG', '휘발유_예측', '경유_예측', 'LPG_예측']\n",
    "df.head()"
   ]
  },
  {
   "attachments": {},
   "cell_type": "markdown",
   "metadata": {},
   "source": [
    "# STD_BD_ECO_CAR_PRET"
   ]
  },
  {
   "cell_type": "code",
   "execution_count": 6,
   "metadata": {},
   "outputs": [
    {
     "data": {
      "text/html": [
       "<div>\n",
       "<style scoped>\n",
       "    .dataframe tbody tr th:only-of-type {\n",
       "        vertical-align: middle;\n",
       "    }\n",
       "\n",
       "    .dataframe tbody tr th {\n",
       "        vertical-align: top;\n",
       "    }\n",
       "\n",
       "    .dataframe thead th {\n",
       "        text-align: right;\n",
       "    }\n",
       "</style>\n",
       "<table border=\"1\" class=\"dataframe\">\n",
       "  <thead>\n",
       "    <tr style=\"text-align: right;\">\n",
       "      <th></th>\n",
       "      <th>YMD</th>\n",
       "      <th>BTYCR</th>\n",
       "      <th>HY</th>\n",
       "      <th>BTYCR_PRET</th>\n",
       "      <th>HY_PRET</th>\n",
       "    </tr>\n",
       "  </thead>\n",
       "  <tbody>\n",
       "    <tr>\n",
       "      <th>0</th>\n",
       "      <td>2019-12-31</td>\n",
       "      <td>376118.0</td>\n",
       "      <td>28321.0</td>\n",
       "      <td>NaN</td>\n",
       "      <td>NaN</td>\n",
       "    </tr>\n",
       "    <tr>\n",
       "      <th>1</th>\n",
       "      <td>2020-12-31</td>\n",
       "      <td>374436.0</td>\n",
       "      <td>28302.0</td>\n",
       "      <td>NaN</td>\n",
       "      <td>NaN</td>\n",
       "    </tr>\n",
       "    <tr>\n",
       "      <th>2</th>\n",
       "      <td>2021-12-31</td>\n",
       "      <td>370483.0</td>\n",
       "      <td>28264.0</td>\n",
       "      <td>NaN</td>\n",
       "      <td>NaN</td>\n",
       "    </tr>\n",
       "    <tr>\n",
       "      <th>3</th>\n",
       "      <td>2022-12-31</td>\n",
       "      <td>368693.0</td>\n",
       "      <td>28227.0</td>\n",
       "      <td>368693.000000</td>\n",
       "      <td>28227.000000</td>\n",
       "    </tr>\n",
       "    <tr>\n",
       "      <th>4</th>\n",
       "      <td>2023-12-31</td>\n",
       "      <td>NaN</td>\n",
       "      <td>NaN</td>\n",
       "      <td>403848.976186</td>\n",
       "      <td>32647.982899</td>\n",
       "    </tr>\n",
       "  </tbody>\n",
       "</table>\n",
       "</div>"
      ],
      "text/plain": [
       "          YMD     BTYCR       HY     BTYCR_PRET       HY_PRET\n",
       "0  2019-12-31  376118.0  28321.0            NaN           NaN\n",
       "1  2020-12-31  374436.0  28302.0            NaN           NaN\n",
       "2  2021-12-31  370483.0  28264.0            NaN           NaN\n",
       "3  2022-12-31  368693.0  28227.0  368693.000000  28227.000000\n",
       "4  2023-12-31       NaN      NaN  403848.976186  32647.982899"
      ]
     },
     "execution_count": 6,
     "metadata": {},
     "output_type": "execute_result"
    }
   ],
   "source": [
    "# about \n",
    "name = 'STD_BD_ECO_CAR_PRET'\n",
    "file_name = f'{name}.csv'\n",
    "df = pd.read_csv(os.path.join(df3_fold, file_name), low_memory=False, nrows=5)\n",
    "df.head()"
   ]
  },
  {
   "cell_type": "code",
   "execution_count": 7,
   "metadata": {},
   "outputs": [
    {
     "data": {
      "text/html": [
       "<div>\n",
       "<style scoped>\n",
       "    .dataframe tbody tr th:only-of-type {\n",
       "        vertical-align: middle;\n",
       "    }\n",
       "\n",
       "    .dataframe tbody tr th {\n",
       "        vertical-align: top;\n",
       "    }\n",
       "\n",
       "    .dataframe thead th {\n",
       "        text-align: right;\n",
       "    }\n",
       "</style>\n",
       "<table border=\"1\" class=\"dataframe\">\n",
       "  <thead>\n",
       "    <tr style=\"text-align: right;\">\n",
       "      <th></th>\n",
       "      <th>연월일</th>\n",
       "      <th>전기</th>\n",
       "      <th>수소</th>\n",
       "      <th>전기_예측</th>\n",
       "      <th>수소_예측</th>\n",
       "    </tr>\n",
       "  </thead>\n",
       "  <tbody>\n",
       "    <tr>\n",
       "      <th>0</th>\n",
       "      <td>2019-12-31</td>\n",
       "      <td>376118.0</td>\n",
       "      <td>28321.0</td>\n",
       "      <td>NaN</td>\n",
       "      <td>NaN</td>\n",
       "    </tr>\n",
       "    <tr>\n",
       "      <th>1</th>\n",
       "      <td>2020-12-31</td>\n",
       "      <td>374436.0</td>\n",
       "      <td>28302.0</td>\n",
       "      <td>NaN</td>\n",
       "      <td>NaN</td>\n",
       "    </tr>\n",
       "    <tr>\n",
       "      <th>2</th>\n",
       "      <td>2021-12-31</td>\n",
       "      <td>370483.0</td>\n",
       "      <td>28264.0</td>\n",
       "      <td>NaN</td>\n",
       "      <td>NaN</td>\n",
       "    </tr>\n",
       "    <tr>\n",
       "      <th>3</th>\n",
       "      <td>2022-12-31</td>\n",
       "      <td>368693.0</td>\n",
       "      <td>28227.0</td>\n",
       "      <td>368693.000000</td>\n",
       "      <td>28227.000000</td>\n",
       "    </tr>\n",
       "    <tr>\n",
       "      <th>4</th>\n",
       "      <td>2023-12-31</td>\n",
       "      <td>NaN</td>\n",
       "      <td>NaN</td>\n",
       "      <td>403848.976186</td>\n",
       "      <td>32647.982899</td>\n",
       "    </tr>\n",
       "  </tbody>\n",
       "</table>\n",
       "</div>"
      ],
      "text/plain": [
       "          연월일        전기       수소          전기_예측         수소_예측\n",
       "0  2019-12-31  376118.0  28321.0            NaN           NaN\n",
       "1  2020-12-31  374436.0  28302.0            NaN           NaN\n",
       "2  2021-12-31  370483.0  28264.0            NaN           NaN\n",
       "3  2022-12-31  368693.0  28227.0  368693.000000  28227.000000\n",
       "4  2023-12-31       NaN      NaN  403848.976186  32647.982899"
      ]
     },
     "execution_count": 7,
     "metadata": {},
     "output_type": "execute_result"
    }
   ],
   "source": [
    "df.columns = ['연월일', '전기', '수소', '전기_예측', '수소_예측']\n",
    "df.head()"
   ]
  },
  {
   "attachments": {},
   "cell_type": "markdown",
   "metadata": {},
   "source": [
    "# STD_BD_CAR_CURSTT_MOD"
   ]
  },
  {
   "cell_type": "code",
   "execution_count": 8,
   "metadata": {},
   "outputs": [
    {
     "data": {
      "text/html": [
       "<div>\n",
       "<style scoped>\n",
       "    .dataframe tbody tr th:only-of-type {\n",
       "        vertical-align: middle;\n",
       "    }\n",
       "\n",
       "    .dataframe tbody tr th {\n",
       "        vertical-align: top;\n",
       "    }\n",
       "\n",
       "    .dataframe thead th {\n",
       "        text-align: right;\n",
       "    }\n",
       "</style>\n",
       "<table border=\"1\" class=\"dataframe\">\n",
       "  <thead>\n",
       "    <tr style=\"text-align: right;\">\n",
       "      <th></th>\n",
       "      <th>CRTR_YM</th>\n",
       "      <th>RGN</th>\n",
       "      <th>CTPV_NM</th>\n",
       "      <th>EXHST_GAS_GRD_CD</th>\n",
       "      <th>VHCL_MKCNT</th>\n",
       "    </tr>\n",
       "  </thead>\n",
       "  <tbody>\n",
       "    <tr>\n",
       "      <th>0</th>\n",
       "      <td>201912</td>\n",
       "      <td>수도권</td>\n",
       "      <td>서울특별시</td>\n",
       "      <td>1</td>\n",
       "      <td>254737</td>\n",
       "    </tr>\n",
       "    <tr>\n",
       "      <th>1</th>\n",
       "      <td>201912</td>\n",
       "      <td>수도권</td>\n",
       "      <td>서울특별시</td>\n",
       "      <td>2</td>\n",
       "      <td>1298298</td>\n",
       "    </tr>\n",
       "    <tr>\n",
       "      <th>2</th>\n",
       "      <td>201912</td>\n",
       "      <td>수도권</td>\n",
       "      <td>서울특별시</td>\n",
       "      <td>3</td>\n",
       "      <td>1101307</td>\n",
       "    </tr>\n",
       "    <tr>\n",
       "      <th>3</th>\n",
       "      <td>201912</td>\n",
       "      <td>수도권</td>\n",
       "      <td>서울특별시</td>\n",
       "      <td>4</td>\n",
       "      <td>238769</td>\n",
       "    </tr>\n",
       "    <tr>\n",
       "      <th>4</th>\n",
       "      <td>201912</td>\n",
       "      <td>수도권</td>\n",
       "      <td>서울특별시</td>\n",
       "      <td>5</td>\n",
       "      <td>199898</td>\n",
       "    </tr>\n",
       "  </tbody>\n",
       "</table>\n",
       "</div>"
      ],
      "text/plain": [
       "   CRTR_YM  RGN CTPV_NM  EXHST_GAS_GRD_CD  VHCL_MKCNT\n",
       "0   201912  수도권   서울특별시                 1      254737\n",
       "1   201912  수도권   서울특별시                 2     1298298\n",
       "2   201912  수도권   서울특별시                 3     1101307\n",
       "3   201912  수도권   서울특별시                 4      238769\n",
       "4   201912  수도권   서울특별시                 5      199898"
      ]
     },
     "execution_count": 8,
     "metadata": {},
     "output_type": "execute_result"
    }
   ],
   "source": [
    "# about \n",
    "name = 'STD_BD_CAR_CURSTT_MOD'\n",
    "file_name = f'{name}.csv'\n",
    "df = pd.read_csv(os.path.join(df3_fold, file_name), low_memory=False, nrows=5)\n",
    "df.head()"
   ]
  },
  {
   "cell_type": "code",
   "execution_count": 9,
   "metadata": {},
   "outputs": [
    {
     "data": {
      "text/plain": [
       "Index(['CRTR_YM', 'RGN', 'CTPV_NM', 'EXHST_GAS_GRD_CD', 'VHCL_MKCNT'], dtype='object')"
      ]
     },
     "execution_count": 9,
     "metadata": {},
     "output_type": "execute_result"
    }
   ],
   "source": [
    "df.columns"
   ]
  },
  {
   "cell_type": "code",
   "execution_count": null,
   "metadata": {},
   "outputs": [],
   "source": [
    "STD_BD_CAR_CURSTT_MOD = df[[\n",
    "    'CRTR_YM', \n",
    "    'RGN', \n",
    "    'CTPV_NM', \n",
    "    'EXHST_GAS_GRD_CD', \n",
    "    'VHCL_MKCNT',\n",
    "]]"
   ]
  },
  {
   "attachments": {},
   "cell_type": "markdown",
   "metadata": {},
   "source": [
    "# STD_BD_CAR_CURSTT_MOD2"
   ]
  },
  {
   "cell_type": "code",
   "execution_count": 10,
   "metadata": {},
   "outputs": [
    {
     "data": {
      "text/html": [
       "<div>\n",
       "<style scoped>\n",
       "    .dataframe tbody tr th:only-of-type {\n",
       "        vertical-align: middle;\n",
       "    }\n",
       "\n",
       "    .dataframe tbody tr th {\n",
       "        vertical-align: top;\n",
       "    }\n",
       "\n",
       "    .dataframe thead th {\n",
       "        text-align: right;\n",
       "    }\n",
       "</style>\n",
       "<table border=\"1\" class=\"dataframe\">\n",
       "  <thead>\n",
       "    <tr style=\"text-align: right;\">\n",
       "      <th></th>\n",
       "      <th>CRTR_YM</th>\n",
       "      <th>FUEL_CD</th>\n",
       "      <th>EXHST_GAS_GRD_CD</th>\n",
       "      <th>VHCL_MKCNT</th>\n",
       "    </tr>\n",
       "  </thead>\n",
       "  <tbody>\n",
       "    <tr>\n",
       "      <th>0</th>\n",
       "      <td>201912</td>\n",
       "      <td>휘발유</td>\n",
       "      <td>1</td>\n",
       "      <td>969119</td>\n",
       "    </tr>\n",
       "    <tr>\n",
       "      <th>1</th>\n",
       "      <td>201912</td>\n",
       "      <td>휘발유</td>\n",
       "      <td>2</td>\n",
       "      <td>8385154</td>\n",
       "    </tr>\n",
       "    <tr>\n",
       "      <th>2</th>\n",
       "      <td>201912</td>\n",
       "      <td>휘발유</td>\n",
       "      <td>3</td>\n",
       "      <td>1558693</td>\n",
       "    </tr>\n",
       "    <tr>\n",
       "      <th>3</th>\n",
       "      <td>201912</td>\n",
       "      <td>휘발유</td>\n",
       "      <td>4</td>\n",
       "      <td>426002</td>\n",
       "    </tr>\n",
       "    <tr>\n",
       "      <th>4</th>\n",
       "      <td>201912</td>\n",
       "      <td>휘발유</td>\n",
       "      <td>5</td>\n",
       "      <td>30426</td>\n",
       "    </tr>\n",
       "  </tbody>\n",
       "</table>\n",
       "</div>"
      ],
      "text/plain": [
       "   CRTR_YM FUEL_CD  EXHST_GAS_GRD_CD  VHCL_MKCNT\n",
       "0   201912     휘발유                 1      969119\n",
       "1   201912     휘발유                 2     8385154\n",
       "2   201912     휘발유                 3     1558693\n",
       "3   201912     휘발유                 4      426002\n",
       "4   201912     휘발유                 5       30426"
      ]
     },
     "execution_count": 10,
     "metadata": {},
     "output_type": "execute_result"
    }
   ],
   "source": [
    "# about \n",
    "name = 'STD_BD_CAR_CURSTT_MOD2'\n",
    "file_name = f'{name}.csv'\n",
    "df = pd.read_csv(os.path.join(df3_fold, file_name), low_memory=False, nrows=5)\n",
    "df.head()"
   ]
  },
  {
   "cell_type": "code",
   "execution_count": 11,
   "metadata": {},
   "outputs": [
    {
     "data": {
      "text/plain": [
       "Index(['CRTR_YM', 'FUEL_CD', 'EXHST_GAS_GRD_CD', 'VHCL_MKCNT'], dtype='object')"
      ]
     },
     "execution_count": 11,
     "metadata": {},
     "output_type": "execute_result"
    }
   ],
   "source": [
    "df.columns"
   ]
  },
  {
   "cell_type": "code",
   "execution_count": null,
   "metadata": {},
   "outputs": [],
   "source": [
    "STD_BD_CAR_CURSTT_MOD2 = df[[\n",
    "    'CRTR_YM', \n",
    "    'FUEL_CD', \n",
    "    'EXHST_GAS_GRD_CD', \n",
    "    'VHCL_MKCNT'\n",
    "]]"
   ]
  },
  {
   "attachments": {},
   "cell_type": "markdown",
   "metadata": {},
   "source": [
    "# STD_BD_CAR_CURSTT"
   ]
  },
  {
   "cell_type": "code",
   "execution_count": 13,
   "metadata": {},
   "outputs": [
    {
     "data": {
      "text/html": [
       "<div>\n",
       "<style scoped>\n",
       "    .dataframe tbody tr th:only-of-type {\n",
       "        vertical-align: middle;\n",
       "    }\n",
       "\n",
       "    .dataframe tbody tr th {\n",
       "        vertical-align: top;\n",
       "    }\n",
       "\n",
       "    .dataframe thead th {\n",
       "        text-align: right;\n",
       "    }\n",
       "</style>\n",
       "<table border=\"1\" class=\"dataframe\">\n",
       "  <thead>\n",
       "    <tr style=\"text-align: right;\">\n",
       "      <th></th>\n",
       "      <th>BSPL_STDG_CD</th>\n",
       "      <th>VHCTY_CD</th>\n",
       "      <th>PURPS_CD2</th>\n",
       "      <th>VIN</th>\n",
       "      <th>MANG_MNG_NO</th>\n",
       "      <th>EXHST_GAS_CERT_NO</th>\n",
       "      <th>EXHST_GAS_GRD_CD</th>\n",
       "      <th>VHCL_ERSR_YN</th>\n",
       "      <th>FUEL_CD</th>\n",
       "      <th>CTPV</th>\n",
       "      <th>SGG</th>\n",
       "    </tr>\n",
       "  </thead>\n",
       "  <tbody>\n",
       "    <tr>\n",
       "      <th>0</th>\n",
       "      <td>1165010700</td>\n",
       "      <td>승용</td>\n",
       "      <td>자가용</td>\n",
       "      <td>10762211742</td>\n",
       "      <td>10004800000000</td>\n",
       "      <td>NaN</td>\n",
       "      <td>5</td>\n",
       "      <td>N</td>\n",
       "      <td>휘발유</td>\n",
       "      <td>서울특별시</td>\n",
       "      <td>서초구</td>\n",
       "    </tr>\n",
       "    <tr>\n",
       "      <th>1</th>\n",
       "      <td>2711010500</td>\n",
       "      <td>승용</td>\n",
       "      <td>자가용</td>\n",
       "      <td>KG68T122688*</td>\n",
       "      <td>30220100010946</td>\n",
       "      <td>NaN</td>\n",
       "      <td>5</td>\n",
       "      <td>N</td>\n",
       "      <td>휘발유</td>\n",
       "      <td>대구광역시</td>\n",
       "      <td>중구</td>\n",
       "    </tr>\n",
       "    <tr>\n",
       "      <th>2</th>\n",
       "      <td>2820010300</td>\n",
       "      <td>승용</td>\n",
       "      <td>자가용</td>\n",
       "      <td>10762211783</td>\n",
       "      <td>10004800000000</td>\n",
       "      <td>NaN</td>\n",
       "      <td>5</td>\n",
       "      <td>N</td>\n",
       "      <td>휘발유</td>\n",
       "      <td>인천광역시</td>\n",
       "      <td>남동구</td>\n",
       "    </tr>\n",
       "    <tr>\n",
       "      <th>3</th>\n",
       "      <td>4213011200</td>\n",
       "      <td>화물</td>\n",
       "      <td>자가용</td>\n",
       "      <td>PN71C018511000000</td>\n",
       "      <td>30321400001063</td>\n",
       "      <td>NaN</td>\n",
       "      <td>5</td>\n",
       "      <td>N</td>\n",
       "      <td>경유</td>\n",
       "      <td>강원도</td>\n",
       "      <td>원주시</td>\n",
       "    </tr>\n",
       "    <tr>\n",
       "      <th>4</th>\n",
       "      <td>4812110500</td>\n",
       "      <td>승용</td>\n",
       "      <td>자가용</td>\n",
       "      <td>KMHLA11FPGU060639</td>\n",
       "      <td>30381300100968</td>\n",
       "      <td>NaN</td>\n",
       "      <td>5</td>\n",
       "      <td>N</td>\n",
       "      <td>휘발유</td>\n",
       "      <td>경상남도</td>\n",
       "      <td>창원시 의창구</td>\n",
       "    </tr>\n",
       "  </tbody>\n",
       "</table>\n",
       "</div>"
      ],
      "text/plain": [
       "   BSPL_STDG_CD VHCTY_CD PURPS_CD2                VIN     MANG_MNG_NO   \n",
       "0    1165010700       승용       자가용        10762211742  10004800000000  \\\n",
       "1    2711010500       승용       자가용       KG68T122688*  30220100010946   \n",
       "2    2820010300       승용       자가용        10762211783  10004800000000   \n",
       "3    4213011200       화물       자가용  PN71C018511000000  30321400001063   \n",
       "4    4812110500       승용       자가용  KMHLA11FPGU060639  30381300100968   \n",
       "\n",
       "   EXHST_GAS_CERT_NO  EXHST_GAS_GRD_CD VHCL_ERSR_YN FUEL_CD   CTPV      SGG  \n",
       "0                NaN                 5            N     휘발유  서울특별시      서초구  \n",
       "1                NaN                 5            N     휘발유  대구광역시       중구  \n",
       "2                NaN                 5            N     휘발유  인천광역시      남동구  \n",
       "3                NaN                 5            N      경유    강원도      원주시  \n",
       "4                NaN                 5            N     휘발유   경상남도  창원시 의창구  "
      ]
     },
     "execution_count": 13,
     "metadata": {},
     "output_type": "execute_result"
    }
   ],
   "source": [
    "# about \n",
    "name = 'STD_BD_CAR_CURSTT'\n",
    "file_name = f'{name}.csv'\n",
    "df = pd.read_csv(os.path.join(df3_fold, file_name), low_memory=False, nrows=5)\n",
    "df.head()"
   ]
  },
  {
   "cell_type": "code",
   "execution_count": 14,
   "metadata": {},
   "outputs": [
    {
     "data": {
      "text/plain": [
       "Index(['BSPL_STDG_CD', 'VHCTY_CD', 'PURPS_CD2', 'VIN', 'MANG_MNG_NO',\n",
       "       'EXHST_GAS_CERT_NO', 'EXHST_GAS_GRD_CD', 'VHCL_ERSR_YN', 'FUEL_CD',\n",
       "       'CTPV', 'SGG'],\n",
       "      dtype='object')"
      ]
     },
     "execution_count": 14,
     "metadata": {},
     "output_type": "execute_result"
    }
   ],
   "source": [
    "df.columns"
   ]
  },
  {
   "cell_type": "code",
   "execution_count": null,
   "metadata": {},
   "outputs": [],
   "source": [
    "STD_BD_CAR_CURSTT = df[[\n",
    "    'BSPL_STDG_CD', \n",
    "    'VHCTY_CD', \n",
    "    'PURPS_CD2', \n",
    "    'VIN', \n",
    "    'MANG_MNG_NO',\n",
    "    'EXHST_GAS_CERT_NO', \n",
    "    'EXHST_GAS_GRD_CD', \n",
    "    'VHCL_ERSR_YN', \n",
    "    'FUEL_CD',\n",
    "    'CTPV', \n",
    "    'SGG'\n",
    "]]"
   ]
  },
  {
   "attachments": {},
   "cell_type": "markdown",
   "metadata": {},
   "source": [
    "# STD_BD_CAR_REG_MKCNT"
   ]
  },
  {
   "cell_type": "code",
   "execution_count": 15,
   "metadata": {},
   "outputs": [
    {
     "data": {
      "text/html": [
       "<div>\n",
       "<style scoped>\n",
       "    .dataframe tbody tr th:only-of-type {\n",
       "        vertical-align: middle;\n",
       "    }\n",
       "\n",
       "    .dataframe tbody tr th {\n",
       "        vertical-align: top;\n",
       "    }\n",
       "\n",
       "    .dataframe thead th {\n",
       "        text-align: right;\n",
       "    }\n",
       "</style>\n",
       "<table border=\"1\" class=\"dataframe\">\n",
       "  <thead>\n",
       "    <tr style=\"text-align: right;\">\n",
       "      <th></th>\n",
       "      <th>YR</th>\n",
       "      <th>FUEL_CD</th>\n",
       "      <th>CTPV</th>\n",
       "      <th>VHCL_MKCNT</th>\n",
       "      <th>FUEL_RT</th>\n",
       "    </tr>\n",
       "  </thead>\n",
       "  <tbody>\n",
       "    <tr>\n",
       "      <th>0</th>\n",
       "      <td>2019</td>\n",
       "      <td>휘발유</td>\n",
       "      <td>강원</td>\n",
       "      <td>345500</td>\n",
       "      <td>0.443664</td>\n",
       "    </tr>\n",
       "    <tr>\n",
       "      <th>1</th>\n",
       "      <td>2019</td>\n",
       "      <td>경유</td>\n",
       "      <td>강원</td>\n",
       "      <td>369377</td>\n",
       "      <td>0.474325</td>\n",
       "    </tr>\n",
       "    <tr>\n",
       "      <th>2</th>\n",
       "      <td>2019</td>\n",
       "      <td>LPG</td>\n",
       "      <td>강원</td>\n",
       "      <td>61280</td>\n",
       "      <td>0.078691</td>\n",
       "    </tr>\n",
       "    <tr>\n",
       "      <th>3</th>\n",
       "      <td>2019</td>\n",
       "      <td>전기</td>\n",
       "      <td>강원</td>\n",
       "      <td>2445</td>\n",
       "      <td>0.003140</td>\n",
       "    </tr>\n",
       "    <tr>\n",
       "      <th>4</th>\n",
       "      <td>2019</td>\n",
       "      <td>수소</td>\n",
       "      <td>강원</td>\n",
       "      <td>140</td>\n",
       "      <td>0.000180</td>\n",
       "    </tr>\n",
       "  </tbody>\n",
       "</table>\n",
       "</div>"
      ],
      "text/plain": [
       "     YR FUEL_CD CTPV  VHCL_MKCNT   FUEL_RT\n",
       "0  2019     휘발유   강원      345500  0.443664\n",
       "1  2019      경유   강원      369377  0.474325\n",
       "2  2019     LPG   강원       61280  0.078691\n",
       "3  2019      전기   강원        2445  0.003140\n",
       "4  2019      수소   강원         140  0.000180"
      ]
     },
     "execution_count": 15,
     "metadata": {},
     "output_type": "execute_result"
    }
   ],
   "source": [
    "# about \n",
    "name = 'STD_BD_CAR_REG_MKCNT'\n",
    "file_name = f'{name}.csv'\n",
    "df = pd.read_csv(os.path.join(df3_fold, file_name), low_memory=False, nrows=5)\n",
    "df.head()"
   ]
  },
  {
   "cell_type": "code",
   "execution_count": 16,
   "metadata": {},
   "outputs": [
    {
     "data": {
      "text/plain": [
       "Index(['YR', 'FUEL_CD', 'CTPV', 'VHCL_MKCNT', 'FUEL_RT'], dtype='object')"
      ]
     },
     "execution_count": 16,
     "metadata": {},
     "output_type": "execute_result"
    }
   ],
   "source": [
    "df.columns"
   ]
  },
  {
   "cell_type": "code",
   "execution_count": null,
   "metadata": {},
   "outputs": [],
   "source": [
    "STD_BD_CAR_REG_MKCNT = df[[\n",
    "    'YR', \n",
    "    'FUEL_CD', \n",
    "    'CTPV', \n",
    "    'VHCL_MKCNT', \n",
    "    'FUEL_RT'\n",
    "]]"
   ]
  },
  {
   "attachments": {},
   "cell_type": "markdown",
   "metadata": {},
   "source": [
    "# STD_BD_CAR_PRET"
   ]
  },
  {
   "cell_type": "code",
   "execution_count": 17,
   "metadata": {},
   "outputs": [
    {
     "data": {
      "text/html": [
       "<div>\n",
       "<style scoped>\n",
       "    .dataframe tbody tr th:only-of-type {\n",
       "        vertical-align: middle;\n",
       "    }\n",
       "\n",
       "    .dataframe tbody tr th {\n",
       "        vertical-align: top;\n",
       "    }\n",
       "\n",
       "    .dataframe thead th {\n",
       "        text-align: right;\n",
       "    }\n",
       "</style>\n",
       "<table border=\"1\" class=\"dataframe\">\n",
       "  <thead>\n",
       "    <tr style=\"text-align: right;\">\n",
       "      <th></th>\n",
       "      <th>YMD</th>\n",
       "      <th>GSL</th>\n",
       "      <th>DSL</th>\n",
       "      <th>LPG</th>\n",
       "      <th>GSL_PRET</th>\n",
       "      <th>DSL_PRET</th>\n",
       "      <th>LPG_PRET</th>\n",
       "    </tr>\n",
       "  </thead>\n",
       "  <tbody>\n",
       "    <tr>\n",
       "      <th>0</th>\n",
       "      <td>2019-12-31</td>\n",
       "      <td>11396509.0</td>\n",
       "      <td>9920850.0</td>\n",
       "      <td>1948981.0</td>\n",
       "      <td>NaN</td>\n",
       "      <td>NaN</td>\n",
       "      <td>NaN</td>\n",
       "    </tr>\n",
       "    <tr>\n",
       "      <th>1</th>\n",
       "      <td>2020-12-31</td>\n",
       "      <td>11997523.0</td>\n",
       "      <td>9949937.0</td>\n",
       "      <td>1930371.0</td>\n",
       "      <td>NaN</td>\n",
       "      <td>NaN</td>\n",
       "      <td>NaN</td>\n",
       "    </tr>\n",
       "    <tr>\n",
       "      <th>2</th>\n",
       "      <td>2021-12-31</td>\n",
       "      <td>12562007.0</td>\n",
       "      <td>9836781.0</td>\n",
       "      <td>1900023.0</td>\n",
       "      <td>NaN</td>\n",
       "      <td>NaN</td>\n",
       "      <td>NaN</td>\n",
       "    </tr>\n",
       "    <tr>\n",
       "      <th>3</th>\n",
       "      <td>2022-12-31</td>\n",
       "      <td>13272774.0</td>\n",
       "      <td>9926769.0</td>\n",
       "      <td>1918540.0</td>\n",
       "      <td>13272774.0</td>\n",
       "      <td>9926769.0</td>\n",
       "      <td>1918540.0</td>\n",
       "    </tr>\n",
       "    <tr>\n",
       "      <th>4</th>\n",
       "      <td>2023-12-31</td>\n",
       "      <td>NaN</td>\n",
       "      <td>NaN</td>\n",
       "      <td>NaN</td>\n",
       "      <td>13874767.0</td>\n",
       "      <td>9891960.0</td>\n",
       "      <td>1900592.0</td>\n",
       "    </tr>\n",
       "  </tbody>\n",
       "</table>\n",
       "</div>"
      ],
      "text/plain": [
       "          YMD         GSL        DSL        LPG    GSL_PRET   DSL_PRET   \n",
       "0  2019-12-31  11396509.0  9920850.0  1948981.0         NaN        NaN  \\\n",
       "1  2020-12-31  11997523.0  9949937.0  1930371.0         NaN        NaN   \n",
       "2  2021-12-31  12562007.0  9836781.0  1900023.0         NaN        NaN   \n",
       "3  2022-12-31  13272774.0  9926769.0  1918540.0  13272774.0  9926769.0   \n",
       "4  2023-12-31         NaN        NaN        NaN  13874767.0  9891960.0   \n",
       "\n",
       "    LPG_PRET  \n",
       "0        NaN  \n",
       "1        NaN  \n",
       "2        NaN  \n",
       "3  1918540.0  \n",
       "4  1900592.0  "
      ]
     },
     "execution_count": 17,
     "metadata": {},
     "output_type": "execute_result"
    }
   ],
   "source": [
    "# about \n",
    "name = 'STD_BD_CAR_PRET'\n",
    "file_name = f'{name}.csv'\n",
    "df = pd.read_csv(os.path.join(df3_fold, file_name), low_memory=False, nrows=5)\n",
    "df.head()"
   ]
  },
  {
   "cell_type": "code",
   "execution_count": 18,
   "metadata": {},
   "outputs": [
    {
     "data": {
      "text/plain": [
       "Index(['YMD', 'GSL', 'DSL', 'LPG', 'GSL_PRET', 'DSL_PRET', 'LPG_PRET'], dtype='object')"
      ]
     },
     "execution_count": 18,
     "metadata": {},
     "output_type": "execute_result"
    }
   ],
   "source": [
    "df.columns"
   ]
  },
  {
   "cell_type": "code",
   "execution_count": null,
   "metadata": {},
   "outputs": [],
   "source": [
    "STD_BD_CAR_REG_MKCNT = df[[\n",
    "    'YMD', \n",
    "    'GSL', \n",
    "    'DSL', \n",
    "    'LPG', \n",
    "    'GSL_PRET', \n",
    "    'DSL_PRET', \n",
    "    'LPG_PRET'\n",
    "]]"
   ]
  },
  {
   "attachments": {},
   "cell_type": "markdown",
   "metadata": {},
   "source": [
    "# STD_BD_FUEL_GRD_VHCL_CURSTT_PRET"
   ]
  },
  {
   "cell_type": "code",
   "execution_count": 19,
   "metadata": {},
   "outputs": [
    {
     "data": {
      "text/html": [
       "<div>\n",
       "<style scoped>\n",
       "    .dataframe tbody tr th:only-of-type {\n",
       "        vertical-align: middle;\n",
       "    }\n",
       "\n",
       "    .dataframe tbody tr th {\n",
       "        vertical-align: top;\n",
       "    }\n",
       "\n",
       "    .dataframe thead th {\n",
       "        text-align: right;\n",
       "    }\n",
       "</style>\n",
       "<table border=\"1\" class=\"dataframe\">\n",
       "  <thead>\n",
       "    <tr style=\"text-align: right;\">\n",
       "      <th></th>\n",
       "      <th>YR</th>\n",
       "      <th>FUEL_CD</th>\n",
       "      <th>GRD</th>\n",
       "      <th>VHCL_MKCNT</th>\n",
       "      <th>VHCL_PRET</th>\n",
       "    </tr>\n",
       "  </thead>\n",
       "  <tbody>\n",
       "    <tr>\n",
       "      <th>0</th>\n",
       "      <td>2019-12-31</td>\n",
       "      <td>휘발유</td>\n",
       "      <td>1</td>\n",
       "      <td>969119.0</td>\n",
       "      <td>NaN</td>\n",
       "    </tr>\n",
       "    <tr>\n",
       "      <th>1</th>\n",
       "      <td>2020-12-31</td>\n",
       "      <td>휘발유</td>\n",
       "      <td>1</td>\n",
       "      <td>1339467.0</td>\n",
       "      <td>NaN</td>\n",
       "    </tr>\n",
       "    <tr>\n",
       "      <th>2</th>\n",
       "      <td>2021-12-31</td>\n",
       "      <td>휘발유</td>\n",
       "      <td>1</td>\n",
       "      <td>1634815.0</td>\n",
       "      <td>NaN</td>\n",
       "    </tr>\n",
       "    <tr>\n",
       "      <th>3</th>\n",
       "      <td>2022-12-31</td>\n",
       "      <td>휘발유</td>\n",
       "      <td>1</td>\n",
       "      <td>NaN</td>\n",
       "      <td>1.977353e+06</td>\n",
       "    </tr>\n",
       "    <tr>\n",
       "      <th>4</th>\n",
       "      <td>2023-12-31</td>\n",
       "      <td>휘발유</td>\n",
       "      <td>1</td>\n",
       "      <td>NaN</td>\n",
       "      <td>2.313175e+06</td>\n",
       "    </tr>\n",
       "  </tbody>\n",
       "</table>\n",
       "</div>"
      ],
      "text/plain": [
       "           YR FUEL_CD  GRD  VHCL_MKCNT     VHCL_PRET\n",
       "0  2019-12-31     휘발유    1    969119.0           NaN\n",
       "1  2020-12-31     휘발유    1   1339467.0           NaN\n",
       "2  2021-12-31     휘발유    1   1634815.0           NaN\n",
       "3  2022-12-31     휘발유    1         NaN  1.977353e+06\n",
       "4  2023-12-31     휘발유    1         NaN  2.313175e+06"
      ]
     },
     "execution_count": 19,
     "metadata": {},
     "output_type": "execute_result"
    }
   ],
   "source": [
    "# about \n",
    "name = 'STD_BD_FUEL_GRD_VHCL_CURSTT_PRET'\n",
    "file_name = f'{name}.csv'\n",
    "df = pd.read_csv(os.path.join(df3_fold, file_name), low_memory=False, nrows=5)\n",
    "df.head()"
   ]
  },
  {
   "cell_type": "code",
   "execution_count": 20,
   "metadata": {},
   "outputs": [
    {
     "data": {
      "text/plain": [
       "Index(['YR', 'FUEL_CD', 'GRD', 'VHCL_MKCNT', 'VHCL_PRET'], dtype='object')"
      ]
     },
     "execution_count": 20,
     "metadata": {},
     "output_type": "execute_result"
    }
   ],
   "source": [
    "df.columns"
   ]
  },
  {
   "cell_type": "code",
   "execution_count": null,
   "metadata": {},
   "outputs": [],
   "source": [
    "STD_BD_FUEL_GRD_VHCL_CURSTT_PRET = df[[\n",
    "    'YR', \n",
    "    'FUEL_CD', \n",
    "    'GRD', \n",
    "    'VHCL_MKCNT', \n",
    "    'VHCL_PRET'\n",
    "]]"
   ]
  },
  {
   "attachments": {},
   "cell_type": "markdown",
   "metadata": {},
   "source": [
    "# STD_BD_ECO_CAR_PRET"
   ]
  },
  {
   "cell_type": "code",
   "execution_count": 21,
   "metadata": {},
   "outputs": [
    {
     "data": {
      "text/html": [
       "<div>\n",
       "<style scoped>\n",
       "    .dataframe tbody tr th:only-of-type {\n",
       "        vertical-align: middle;\n",
       "    }\n",
       "\n",
       "    .dataframe tbody tr th {\n",
       "        vertical-align: top;\n",
       "    }\n",
       "\n",
       "    .dataframe thead th {\n",
       "        text-align: right;\n",
       "    }\n",
       "</style>\n",
       "<table border=\"1\" class=\"dataframe\">\n",
       "  <thead>\n",
       "    <tr style=\"text-align: right;\">\n",
       "      <th></th>\n",
       "      <th>YMD</th>\n",
       "      <th>BTYCR</th>\n",
       "      <th>HY</th>\n",
       "      <th>BTYCR_PRET</th>\n",
       "      <th>HY_PRET</th>\n",
       "    </tr>\n",
       "  </thead>\n",
       "  <tbody>\n",
       "    <tr>\n",
       "      <th>0</th>\n",
       "      <td>2019-12-31</td>\n",
       "      <td>376118.0</td>\n",
       "      <td>28321.0</td>\n",
       "      <td>NaN</td>\n",
       "      <td>NaN</td>\n",
       "    </tr>\n",
       "    <tr>\n",
       "      <th>1</th>\n",
       "      <td>2020-12-31</td>\n",
       "      <td>374436.0</td>\n",
       "      <td>28302.0</td>\n",
       "      <td>NaN</td>\n",
       "      <td>NaN</td>\n",
       "    </tr>\n",
       "    <tr>\n",
       "      <th>2</th>\n",
       "      <td>2021-12-31</td>\n",
       "      <td>370483.0</td>\n",
       "      <td>28264.0</td>\n",
       "      <td>NaN</td>\n",
       "      <td>NaN</td>\n",
       "    </tr>\n",
       "    <tr>\n",
       "      <th>3</th>\n",
       "      <td>2022-12-31</td>\n",
       "      <td>368693.0</td>\n",
       "      <td>28227.0</td>\n",
       "      <td>368693.000000</td>\n",
       "      <td>28227.000000</td>\n",
       "    </tr>\n",
       "    <tr>\n",
       "      <th>4</th>\n",
       "      <td>2023-12-31</td>\n",
       "      <td>NaN</td>\n",
       "      <td>NaN</td>\n",
       "      <td>403848.976186</td>\n",
       "      <td>32647.982899</td>\n",
       "    </tr>\n",
       "  </tbody>\n",
       "</table>\n",
       "</div>"
      ],
      "text/plain": [
       "          YMD     BTYCR       HY     BTYCR_PRET       HY_PRET\n",
       "0  2019-12-31  376118.0  28321.0            NaN           NaN\n",
       "1  2020-12-31  374436.0  28302.0            NaN           NaN\n",
       "2  2021-12-31  370483.0  28264.0            NaN           NaN\n",
       "3  2022-12-31  368693.0  28227.0  368693.000000  28227.000000\n",
       "4  2023-12-31       NaN      NaN  403848.976186  32647.982899"
      ]
     },
     "execution_count": 21,
     "metadata": {},
     "output_type": "execute_result"
    }
   ],
   "source": [
    "# about \n",
    "name = 'STD_BD_ECO_CAR_PRET'\n",
    "file_name = f'{name}.csv'\n",
    "df = pd.read_csv(os.path.join(df3_fold, file_name), low_memory=False, nrows=5)\n",
    "df.head()"
   ]
  },
  {
   "cell_type": "code",
   "execution_count": 22,
   "metadata": {},
   "outputs": [
    {
     "data": {
      "text/plain": [
       "Index(['YMD', 'BTYCR', 'HY', 'BTYCR_PRET', 'HY_PRET'], dtype='object')"
      ]
     },
     "execution_count": 22,
     "metadata": {},
     "output_type": "execute_result"
    }
   ],
   "source": [
    "df.columns"
   ]
  },
  {
   "cell_type": "code",
   "execution_count": null,
   "metadata": {},
   "outputs": [],
   "source": [
    "STD_BD_FUEL_GRD_VHCL_CURSTT_PRET = df[[\n",
    "    'YMD', \n",
    "    'BTYCR', \n",
    "    'HY', \n",
    "    'BTYCR_PRET', \n",
    "    'HY_PRET'\n",
    "]]"
   ]
  },
  {
   "attachments": {},
   "cell_type": "markdown",
   "metadata": {},
   "source": [
    "# STD_BD_ERSR_RSLT"
   ]
  },
  {
   "cell_type": "code",
   "execution_count": 23,
   "metadata": {},
   "outputs": [
    {
     "data": {
      "text/html": [
       "<div>\n",
       "<style scoped>\n",
       "    .dataframe tbody tr th:only-of-type {\n",
       "        vertical-align: middle;\n",
       "    }\n",
       "\n",
       "    .dataframe tbody tr th {\n",
       "        vertical-align: top;\n",
       "    }\n",
       "\n",
       "    .dataframe thead th {\n",
       "        text-align: right;\n",
       "    }\n",
       "</style>\n",
       "<table border=\"1\" class=\"dataframe\">\n",
       "  <thead>\n",
       "    <tr style=\"text-align: right;\">\n",
       "      <th></th>\n",
       "      <th>BSPL_STDG_CD</th>\n",
       "      <th>VIN</th>\n",
       "      <th>CHG_YMD</th>\n",
       "      <th>EXHST_GAS_GRD_CD</th>\n",
       "      <th>FUEL_CD</th>\n",
       "    </tr>\n",
       "  </thead>\n",
       "  <tbody>\n",
       "    <tr>\n",
       "      <th>0</th>\n",
       "      <td>1150010500</td>\n",
       "      <td>KMJNG18TPNC005002</td>\n",
       "      <td>20220628</td>\n",
       "      <td>X</td>\n",
       "      <td>경유</td>\n",
       "    </tr>\n",
       "    <tr>\n",
       "      <th>1</th>\n",
       "      <td>4725039022</td>\n",
       "      <td>KNAFK412BDA020343</td>\n",
       "      <td>20220628</td>\n",
       "      <td>2.0</td>\n",
       "      <td>휘발유</td>\n",
       "    </tr>\n",
       "    <tr>\n",
       "      <th>2</th>\n",
       "      <td>4136031021</td>\n",
       "      <td>KN3HNP6D26K136856</td>\n",
       "      <td>20220628</td>\n",
       "      <td>5.0</td>\n",
       "      <td>경유</td>\n",
       "    </tr>\n",
       "    <tr>\n",
       "      <th>3</th>\n",
       "      <td>4146135024</td>\n",
       "      <td>KMFZCS7JP6U149891</td>\n",
       "      <td>20220628</td>\n",
       "      <td>5.0</td>\n",
       "      <td>경유</td>\n",
       "    </tr>\n",
       "    <tr>\n",
       "      <th>4</th>\n",
       "      <td>1135010300</td>\n",
       "      <td>KNHMB76136S018476</td>\n",
       "      <td>20220628</td>\n",
       "      <td>5.0</td>\n",
       "      <td>경유</td>\n",
       "    </tr>\n",
       "  </tbody>\n",
       "</table>\n",
       "</div>"
      ],
      "text/plain": [
       "   BSPL_STDG_CD                VIN   CHG_YMD EXHST_GAS_GRD_CD FUEL_CD\n",
       "0    1150010500  KMJNG18TPNC005002  20220628                X      경유\n",
       "1    4725039022  KNAFK412BDA020343  20220628              2.0     휘발유\n",
       "2    4136031021  KN3HNP6D26K136856  20220628              5.0      경유\n",
       "3    4146135024  KMFZCS7JP6U149891  20220628              5.0      경유\n",
       "4    1135010300  KNHMB76136S018476  20220628              5.0      경유"
      ]
     },
     "execution_count": 23,
     "metadata": {},
     "output_type": "execute_result"
    }
   ],
   "source": [
    "# about \n",
    "name = 'STD_BD_ERSR_RSLT'\n",
    "file_name = f'{name}.csv'\n",
    "df = pd.read_csv(os.path.join(df3_fold, file_name), low_memory=False, nrows=5)\n",
    "df.head()"
   ]
  },
  {
   "cell_type": "code",
   "execution_count": 24,
   "metadata": {},
   "outputs": [
    {
     "data": {
      "text/plain": [
       "Index(['BSPL_STDG_CD', 'VIN', 'CHG_YMD', 'EXHST_GAS_GRD_CD', 'FUEL_CD'], dtype='object')"
      ]
     },
     "execution_count": 24,
     "metadata": {},
     "output_type": "execute_result"
    }
   ],
   "source": [
    "df.columns"
   ]
  },
  {
   "cell_type": "code",
   "execution_count": null,
   "metadata": {},
   "outputs": [],
   "source": [
    "STD_BD_ERSR_RSLT = df[[\n",
    "    'BSPL_STDG_CD', \n",
    "    'VIN', \n",
    "    'CHG_YMD', \n",
    "    'EXHST_GAS_GRD_CD', \n",
    "    'FUEL_CD'\n",
    "]]"
   ]
  },
  {
   "attachments": {},
   "cell_type": "markdown",
   "metadata": {},
   "source": [
    "# 운행제한 건수 정보"
   ]
  },
  {
   "cell_type": "code",
   "execution_count": 35,
   "metadata": {},
   "outputs": [],
   "source": [
    "# about \n",
    "name = '차대번호별 적발'\n",
    "file_name = f'{name}.csv'\n",
    "df = pd.read_csv(os.path.join(raw3_fold, file_name), low_memory=False, nrows=5, encoding='cp949')"
   ]
  },
  {
   "cell_type": "code",
   "execution_count": 36,
   "metadata": {},
   "outputs": [
    {
     "data": {
      "text/html": [
       "<div>\n",
       "<style scoped>\n",
       "    .dataframe tbody tr th:only-of-type {\n",
       "        vertical-align: middle;\n",
       "    }\n",
       "\n",
       "    .dataframe tbody tr th {\n",
       "        vertical-align: top;\n",
       "    }\n",
       "\n",
       "    .dataframe thead th {\n",
       "        text-align: right;\n",
       "    }\n",
       "</style>\n",
       "<table border=\"1\" class=\"dataframe\">\n",
       "  <thead>\n",
       "    <tr style=\"text-align: right;\">\n",
       "      <th></th>\n",
       "      <th>VIN</th>\n",
       "      <th>계절제_1차</th>\n",
       "      <th>계절제_2차</th>\n",
       "      <th>계절제_3차</th>\n",
       "      <th>비상시</th>\n",
       "      <th>상시</th>\n",
       "      <th>계절제_4차</th>\n",
       "    </tr>\n",
       "  </thead>\n",
       "  <tbody>\n",
       "    <tr>\n",
       "      <th>0</th>\n",
       "      <td>KPBFA2AD14P100772</td>\n",
       "      <td>1</td>\n",
       "      <td>NaN</td>\n",
       "      <td>NaN</td>\n",
       "      <td>1</td>\n",
       "      <td>NaN</td>\n",
       "      <td>NaN</td>\n",
       "    </tr>\n",
       "    <tr>\n",
       "      <th>1</th>\n",
       "      <td>KMJWWH7JP5U656738</td>\n",
       "      <td>4</td>\n",
       "      <td>2.0</td>\n",
       "      <td>25.0</td>\n",
       "      <td>3</td>\n",
       "      <td>NaN</td>\n",
       "      <td>1.0</td>\n",
       "    </tr>\n",
       "    <tr>\n",
       "      <th>2</th>\n",
       "      <td>KNAJC52136A532787</td>\n",
       "      <td>2</td>\n",
       "      <td>NaN</td>\n",
       "      <td>NaN</td>\n",
       "      <td>1</td>\n",
       "      <td>NaN</td>\n",
       "      <td>NaN</td>\n",
       "    </tr>\n",
       "    <tr>\n",
       "      <th>3</th>\n",
       "      <td>KMHSH81WP6U081899</td>\n",
       "      <td>4</td>\n",
       "      <td>NaN</td>\n",
       "      <td>NaN</td>\n",
       "      <td>1</td>\n",
       "      <td>NaN</td>\n",
       "      <td>NaN</td>\n",
       "    </tr>\n",
       "    <tr>\n",
       "      <th>4</th>\n",
       "      <td>KNAJE55186K143510</td>\n",
       "      <td>1</td>\n",
       "      <td>NaN</td>\n",
       "      <td>NaN</td>\n",
       "      <td>1</td>\n",
       "      <td>NaN</td>\n",
       "      <td>NaN</td>\n",
       "    </tr>\n",
       "  </tbody>\n",
       "</table>\n",
       "</div>"
      ],
      "text/plain": [
       "                 VIN  계절제_1차  계절제_2차  계절제_3차  비상시  상시  계절제_4차\n",
       "0  KPBFA2AD14P100772       1     NaN     NaN    1 NaN     NaN\n",
       "1  KMJWWH7JP5U656738       4     2.0    25.0    3 NaN     1.0\n",
       "2  KNAJC52136A532787       2     NaN     NaN    1 NaN     NaN\n",
       "3  KMHSH81WP6U081899       4     NaN     NaN    1 NaN     NaN\n",
       "4  KNAJE55186K143510       1     NaN     NaN    1 NaN     NaN"
      ]
     },
     "execution_count": 36,
     "metadata": {},
     "output_type": "execute_result"
    }
   ],
   "source": [
    "df.head()"
   ]
  },
  {
   "cell_type": "code",
   "execution_count": 37,
   "metadata": {},
   "outputs": [
    {
     "data": {
      "text/plain": [
       "Index(['VIN', '계절제_1차', '계절제_2차', '계절제_3차', '비상시', '상시', '계절제_4차'], dtype='object')"
      ]
     },
     "execution_count": 37,
     "metadata": {},
     "output_type": "execute_result"
    }
   ],
   "source": [
    "df.columns"
   ]
  },
  {
   "attachments": {},
   "cell_type": "markdown",
   "metadata": {},
   "source": [
    "# 계절제 적발지역 차대번호"
   ]
  },
  {
   "cell_type": "code",
   "execution_count": 38,
   "metadata": {},
   "outputs": [],
   "source": [
    "# about \n",
    "name = '계절제 적발지역 차대번호'\n",
    "file_name = f'{name}.csv'\n",
    "df = pd.read_csv(os.path.join(raw3_fold, file_name), low_memory=False, nrows=5, encoding='cp949')"
   ]
  },
  {
   "cell_type": "code",
   "execution_count": 39,
   "metadata": {},
   "outputs": [
    {
     "data": {
      "text/html": [
       "<div>\n",
       "<style scoped>\n",
       "    .dataframe tbody tr th:only-of-type {\n",
       "        vertical-align: middle;\n",
       "    }\n",
       "\n",
       "    .dataframe tbody tr th {\n",
       "        vertical-align: top;\n",
       "    }\n",
       "\n",
       "    .dataframe thead th {\n",
       "        text-align: right;\n",
       "    }\n",
       "</style>\n",
       "<table border=\"1\" class=\"dataframe\">\n",
       "  <thead>\n",
       "    <tr style=\"text-align: right;\">\n",
       "      <th></th>\n",
       "      <th>적발지역</th>\n",
       "      <th>적발시도</th>\n",
       "      <th>차대번호</th>\n",
       "      <th>계절제_1차</th>\n",
       "      <th>계절제_2차</th>\n",
       "      <th>계절제_3차</th>\n",
       "      <th>계절제_4차</th>\n",
       "      <th>차종</th>\n",
       "      <th>차종유형</th>\n",
       "    </tr>\n",
       "  </thead>\n",
       "  <tbody>\n",
       "    <tr>\n",
       "      <th>0</th>\n",
       "      <td>수도권</td>\n",
       "      <td>서울</td>\n",
       "      <td>KMFZCS7JP7U292779</td>\n",
       "      <td>4</td>\n",
       "      <td>NaN</td>\n",
       "      <td>NaN</td>\n",
       "      <td>NaN</td>\n",
       "      <td>화물</td>\n",
       "      <td>소형</td>\n",
       "    </tr>\n",
       "    <tr>\n",
       "      <th>1</th>\n",
       "      <td>수도권</td>\n",
       "      <td>인천</td>\n",
       "      <td>KMHSD81VP2U244691</td>\n",
       "      <td>1</td>\n",
       "      <td>3.0</td>\n",
       "      <td>NaN</td>\n",
       "      <td>NaN</td>\n",
       "      <td>승용</td>\n",
       "      <td>중형</td>\n",
       "    </tr>\n",
       "    <tr>\n",
       "      <th>2</th>\n",
       "      <td>수도권</td>\n",
       "      <td>인천</td>\n",
       "      <td>KMHJN81VP6U261521</td>\n",
       "      <td>1</td>\n",
       "      <td>NaN</td>\n",
       "      <td>NaN</td>\n",
       "      <td>NaN</td>\n",
       "      <td>승용</td>\n",
       "      <td>중형</td>\n",
       "    </tr>\n",
       "    <tr>\n",
       "      <th>3</th>\n",
       "      <td>수도권</td>\n",
       "      <td>인천</td>\n",
       "      <td>KNAJC52135A471475</td>\n",
       "      <td>1</td>\n",
       "      <td>NaN</td>\n",
       "      <td>NaN</td>\n",
       "      <td>NaN</td>\n",
       "      <td>승용</td>\n",
       "      <td>대형</td>\n",
       "    </tr>\n",
       "    <tr>\n",
       "      <th>4</th>\n",
       "      <td>수도권</td>\n",
       "      <td>경기</td>\n",
       "      <td>KMHSJ81WP6U029832</td>\n",
       "      <td>1</td>\n",
       "      <td>4.0</td>\n",
       "      <td>NaN</td>\n",
       "      <td>NaN</td>\n",
       "      <td>승용</td>\n",
       "      <td>대형</td>\n",
       "    </tr>\n",
       "  </tbody>\n",
       "</table>\n",
       "</div>"
      ],
      "text/plain": [
       "  적발지역 적발시도               차대번호  계절제_1차  계절제_2차  계절제_3차  계절제_4차  차종 차종유형\n",
       "0  수도권   서울  KMFZCS7JP7U292779       4     NaN     NaN     NaN  화물   소형\n",
       "1  수도권   인천  KMHSD81VP2U244691       1     3.0     NaN     NaN  승용   중형\n",
       "2  수도권   인천  KMHJN81VP6U261521       1     NaN     NaN     NaN  승용   중형\n",
       "3  수도권   인천  KNAJC52135A471475       1     NaN     NaN     NaN  승용   대형\n",
       "4  수도권   경기  KMHSJ81WP6U029832       1     4.0     NaN     NaN  승용   대형"
      ]
     },
     "execution_count": 39,
     "metadata": {},
     "output_type": "execute_result"
    }
   ],
   "source": [
    "df.head()"
   ]
  },
  {
   "cell_type": "code",
   "execution_count": null,
   "metadata": {},
   "outputs": [
    {
     "data": {
      "text/plain": [
       "Index(['VIN', '계절제_1차', '계절제_2차', '계절제_3차', '비상시', '상시', '계절제_4차'], dtype='object')"
      ]
     },
     "metadata": {},
     "output_type": "display_data"
    }
   ],
   "source": [
    "df.columns"
   ]
  },
  {
   "attachments": {},
   "cell_type": "markdown",
   "metadata": {},
   "source": [
    "# STD_BD_GRD5_ELPDSRC_CURSTT"
   ]
  },
  {
   "cell_type": "code",
   "execution_count": 58,
   "metadata": {},
   "outputs": [],
   "source": [
    "# about \n",
    "name = 'STD_BD_GRD5_ELPDSRC_CURSTT'\n",
    "file_name = f'{name}.csv'\n",
    "df = pd.read_csv(os.path.join(df3_fold, file_name), low_memory=False, nrows=10)"
   ]
  },
  {
   "cell_type": "code",
   "execution_count": 59,
   "metadata": {},
   "outputs": [
    {
     "data": {
      "text/html": [
       "<div>\n",
       "<style scoped>\n",
       "    .dataframe tbody tr th:only-of-type {\n",
       "        vertical-align: middle;\n",
       "    }\n",
       "\n",
       "    .dataframe tbody tr th {\n",
       "        vertical-align: top;\n",
       "    }\n",
       "\n",
       "    .dataframe thead th {\n",
       "        text-align: right;\n",
       "    }\n",
       "</style>\n",
       "<table border=\"1\" class=\"dataframe\">\n",
       "  <thead>\n",
       "    <tr style=\"text-align: right;\">\n",
       "      <th></th>\n",
       "      <th>RGN</th>\n",
       "      <th>YR</th>\n",
       "      <th>VHCL_MKCNT</th>\n",
       "      <th>VHCL_REDE</th>\n",
       "      <th>ELPDSRC</th>\n",
       "      <th>NTRL_DCLN</th>\n",
       "    </tr>\n",
       "  </thead>\n",
       "  <tbody>\n",
       "    <tr>\n",
       "      <th>5</th>\n",
       "      <td>인천</td>\n",
       "      <td>2020</td>\n",
       "      <td>73308</td>\n",
       "      <td>17311.000000</td>\n",
       "      <td>12104.0</td>\n",
       "      <td>5207.000000</td>\n",
       "    </tr>\n",
       "    <tr>\n",
       "      <th>6</th>\n",
       "      <td>인천</td>\n",
       "      <td>2021</td>\n",
       "      <td>61402</td>\n",
       "      <td>11906.000000</td>\n",
       "      <td>6131.0</td>\n",
       "      <td>5775.000000</td>\n",
       "    </tr>\n",
       "    <tr>\n",
       "      <th>7</th>\n",
       "      <td>인천</td>\n",
       "      <td>2022</td>\n",
       "      <td>51722</td>\n",
       "      <td>9680.000000</td>\n",
       "      <td>2641.0</td>\n",
       "      <td>7039.000000</td>\n",
       "    </tr>\n",
       "    <tr>\n",
       "      <th>8</th>\n",
       "      <td>경기</td>\n",
       "      <td>2019</td>\n",
       "      <td>403770</td>\n",
       "      <td>120267.333333</td>\n",
       "      <td>100867.0</td>\n",
       "      <td>19400.333333</td>\n",
       "    </tr>\n",
       "    <tr>\n",
       "      <th>9</th>\n",
       "      <td>경기</td>\n",
       "      <td>2020</td>\n",
       "      <td>310682</td>\n",
       "      <td>93088.000000</td>\n",
       "      <td>70796.0</td>\n",
       "      <td>22292.000000</td>\n",
       "    </tr>\n",
       "  </tbody>\n",
       "</table>\n",
       "</div>"
      ],
      "text/plain": [
       "  RGN    YR  VHCL_MKCNT      VHCL_REDE   ELPDSRC     NTRL_DCLN\n",
       "5  인천  2020       73308   17311.000000   12104.0   5207.000000\n",
       "6  인천  2021       61402   11906.000000    6131.0   5775.000000\n",
       "7  인천  2022       51722    9680.000000    2641.0   7039.000000\n",
       "8  경기  2019      403770  120267.333333  100867.0  19400.333333\n",
       "9  경기  2020      310682   93088.000000   70796.0  22292.000000"
      ]
     },
     "execution_count": 59,
     "metadata": {},
     "output_type": "execute_result"
    }
   ],
   "source": [
    "df.tail()"
   ]
  },
  {
   "cell_type": "code",
   "execution_count": 42,
   "metadata": {},
   "outputs": [
    {
     "data": {
      "text/plain": [
       "Index(['RGN', 'YR', 'VHCL_MKCNT', 'VHCL_REDE', 'ELPDSRC', 'NTRL_DCLN'], dtype='object')"
      ]
     },
     "execution_count": 42,
     "metadata": {},
     "output_type": "execute_result"
    }
   ],
   "source": [
    "df.columns"
   ]
  },
  {
   "cell_type": "code",
   "execution_count": null,
   "metadata": {},
   "outputs": [],
   "source": [
    "STD_BD_GRD5_ELPDSRC_CURSTT = df[[\n",
    "    'RGN', \n",
    "    'YR', \n",
    "    'VHCL_MKCNT', \n",
    "    'VHCL_REDE', \n",
    "    'ELPDSRC', \n",
    "    'NTRL_DCLN'\n",
    "]]"
   ]
  },
  {
   "attachments": {},
   "cell_type": "markdown",
   "metadata": {},
   "source": [
    "# STD_BD_GRD5_LEM_N_MOD"
   ]
  },
  {
   "cell_type": "code",
   "execution_count": 60,
   "metadata": {},
   "outputs": [],
   "source": [
    "# about \n",
    "name = 'STD_BD_GRD5_LEM_N_MOD'\n",
    "file_name = f'{name}.csv'\n",
    "df = pd.read_csv(os.path.join(df3_fold, file_name), low_memory=False, nrows=10)"
   ]
  },
  {
   "cell_type": "code",
   "execution_count": 61,
   "metadata": {},
   "outputs": [
    {
     "data": {
      "text/html": [
       "<div>\n",
       "<style scoped>\n",
       "    .dataframe tbody tr th:only-of-type {\n",
       "        vertical-align: middle;\n",
       "    }\n",
       "\n",
       "    .dataframe tbody tr th {\n",
       "        vertical-align: top;\n",
       "    }\n",
       "\n",
       "    .dataframe thead th {\n",
       "        text-align: right;\n",
       "    }\n",
       "</style>\n",
       "<table border=\"1\" class=\"dataframe\">\n",
       "  <thead>\n",
       "    <tr style=\"text-align: right;\">\n",
       "      <th></th>\n",
       "      <th>지역</th>\n",
       "      <th>구분</th>\n",
       "      <th>차량대수</th>\n",
       "    </tr>\n",
       "  </thead>\n",
       "  <tbody>\n",
       "    <tr>\n",
       "      <th>5</th>\n",
       "      <td>수도권</td>\n",
       "      <td>4차계절제_종료</td>\n",
       "      <td>374738</td>\n",
       "    </tr>\n",
       "    <tr>\n",
       "      <th>6</th>\n",
       "      <td>수도권외</td>\n",
       "      <td>2차계절제_시작</td>\n",
       "      <td>1138402</td>\n",
       "    </tr>\n",
       "    <tr>\n",
       "      <th>7</th>\n",
       "      <td>수도권외</td>\n",
       "      <td>2차계절제_종료</td>\n",
       "      <td>1091526</td>\n",
       "    </tr>\n",
       "    <tr>\n",
       "      <th>8</th>\n",
       "      <td>수도권외</td>\n",
       "      <td>3차계절제_시작</td>\n",
       "      <td>876652</td>\n",
       "    </tr>\n",
       "    <tr>\n",
       "      <th>9</th>\n",
       "      <td>수도권외</td>\n",
       "      <td>3차계절제_종료</td>\n",
       "      <td>832753</td>\n",
       "    </tr>\n",
       "  </tbody>\n",
       "</table>\n",
       "</div>"
      ],
      "text/plain": [
       "     지역        구분     차량대수\n",
       "5   수도권  4차계절제_종료   374738\n",
       "6  수도권외  2차계절제_시작  1138402\n",
       "7  수도권외  2차계절제_종료  1091526\n",
       "8  수도권외  3차계절제_시작   876652\n",
       "9  수도권외  3차계절제_종료   832753"
      ]
     },
     "execution_count": 61,
     "metadata": {},
     "output_type": "execute_result"
    }
   ],
   "source": [
    "df.tail()"
   ]
  },
  {
   "cell_type": "code",
   "execution_count": 45,
   "metadata": {},
   "outputs": [
    {
     "data": {
      "text/plain": [
       "Index(['지역', '구분', '차량대수'], dtype='object')"
      ]
     },
     "execution_count": 45,
     "metadata": {},
     "output_type": "execute_result"
    }
   ],
   "source": [
    "df.columns"
   ]
  },
  {
   "cell_type": "code",
   "execution_count": null,
   "metadata": {},
   "outputs": [],
   "source": [
    "STD_BD_GRD5_LEM_N_MOD = df[[\n",
    "    '지역', \n",
    "    '구분', \n",
    "    '차량대수'\n",
    "]]"
   ]
  },
  {
   "attachments": {},
   "cell_type": "markdown",
   "metadata": {},
   "source": [
    "# STD_BD_SEASON_CRDN_NOCS_CURSTT"
   ]
  },
  {
   "cell_type": "code",
   "execution_count": 62,
   "metadata": {},
   "outputs": [],
   "source": [
    "# about \n",
    "name = 'STD_BD_SEASON_CRDN_NOCS_CURSTT'\n",
    "file_name = f'{name}.csv'\n",
    "df = pd.read_csv(os.path.join(df3_fold, file_name), low_memory=False, nrows=10)"
   ]
  },
  {
   "cell_type": "code",
   "execution_count": 63,
   "metadata": {},
   "outputs": [
    {
     "data": {
      "text/html": [
       "<div>\n",
       "<style scoped>\n",
       "    .dataframe tbody tr th:only-of-type {\n",
       "        vertical-align: middle;\n",
       "    }\n",
       "\n",
       "    .dataframe tbody tr th {\n",
       "        vertical-align: top;\n",
       "    }\n",
       "\n",
       "    .dataframe thead th {\n",
       "        text-align: right;\n",
       "    }\n",
       "</style>\n",
       "<table border=\"1\" class=\"dataframe\">\n",
       "  <thead>\n",
       "    <tr style=\"text-align: right;\">\n",
       "      <th></th>\n",
       "      <th>VIN</th>\n",
       "      <th>SEASON_1ODR_CRDN_NOCS</th>\n",
       "      <th>SEASON_2ODR_CRDN_NOCS</th>\n",
       "      <th>SEASON_3ODR_CRDN_NOCS</th>\n",
       "      <th>SEASON_4ODR_CRDN_NOCS</th>\n",
       "      <th>RGN</th>\n",
       "      <th>CTPV</th>\n",
       "      <th>DPF_EXTRNS_YN</th>\n",
       "      <th>VHCTY_CD</th>\n",
       "      <th>VHCTY_TY</th>\n",
       "    </tr>\n",
       "  </thead>\n",
       "  <tbody>\n",
       "    <tr>\n",
       "      <th>5</th>\n",
       "      <td>KMFZCN7HP7U272857</td>\n",
       "      <td>2.0</td>\n",
       "      <td>NaN</td>\n",
       "      <td>NaN</td>\n",
       "      <td>NaN</td>\n",
       "      <td>수도권</td>\n",
       "      <td>경기</td>\n",
       "      <td>무</td>\n",
       "      <td>화물</td>\n",
       "      <td>소형</td>\n",
       "    </tr>\n",
       "    <tr>\n",
       "      <th>6</th>\n",
       "      <td>KPBFA2AD13P063719</td>\n",
       "      <td>1.0</td>\n",
       "      <td>NaN</td>\n",
       "      <td>NaN</td>\n",
       "      <td>NaN</td>\n",
       "      <td>수도권</td>\n",
       "      <td>서울</td>\n",
       "      <td>무</td>\n",
       "      <td>승용</td>\n",
       "      <td>대형</td>\n",
       "    </tr>\n",
       "    <tr>\n",
       "      <th>7</th>\n",
       "      <td>KPALA4A814P215937</td>\n",
       "      <td>1.0</td>\n",
       "      <td>NaN</td>\n",
       "      <td>NaN</td>\n",
       "      <td>NaN</td>\n",
       "      <td>수도권</td>\n",
       "      <td>경기</td>\n",
       "      <td>무</td>\n",
       "      <td>화물</td>\n",
       "      <td>소형</td>\n",
       "    </tr>\n",
       "    <tr>\n",
       "      <th>8</th>\n",
       "      <td>KMHSD81VP5U979699</td>\n",
       "      <td>4.0</td>\n",
       "      <td>10.0</td>\n",
       "      <td>5.0</td>\n",
       "      <td>2.0</td>\n",
       "      <td>수도권</td>\n",
       "      <td>경기</td>\n",
       "      <td>무</td>\n",
       "      <td>승용</td>\n",
       "      <td>중형</td>\n",
       "    </tr>\n",
       "    <tr>\n",
       "      <th>9</th>\n",
       "      <td>KMHMG81VP3U169191</td>\n",
       "      <td>2.0</td>\n",
       "      <td>NaN</td>\n",
       "      <td>NaN</td>\n",
       "      <td>NaN</td>\n",
       "      <td>수도권</td>\n",
       "      <td>경기</td>\n",
       "      <td>무</td>\n",
       "      <td>승용</td>\n",
       "      <td>중형</td>\n",
       "    </tr>\n",
       "  </tbody>\n",
       "</table>\n",
       "</div>"
      ],
      "text/plain": [
       "                 VIN  SEASON_1ODR_CRDN_NOCS  SEASON_2ODR_CRDN_NOCS   \n",
       "5  KMFZCN7HP7U272857                    2.0                    NaN  \\\n",
       "6  KPBFA2AD13P063719                    1.0                    NaN   \n",
       "7  KPALA4A814P215937                    1.0                    NaN   \n",
       "8  KMHSD81VP5U979699                    4.0                   10.0   \n",
       "9  KMHMG81VP3U169191                    2.0                    NaN   \n",
       "\n",
       "   SEASON_3ODR_CRDN_NOCS  SEASON_4ODR_CRDN_NOCS  RGN CTPV DPF_EXTRNS_YN   \n",
       "5                    NaN                    NaN  수도권   경기             무  \\\n",
       "6                    NaN                    NaN  수도권   서울             무   \n",
       "7                    NaN                    NaN  수도권   경기             무   \n",
       "8                    5.0                    2.0  수도권   경기             무   \n",
       "9                    NaN                    NaN  수도권   경기             무   \n",
       "\n",
       "  VHCTY_CD VHCTY_TY  \n",
       "5       화물       소형  \n",
       "6       승용       대형  \n",
       "7       화물       소형  \n",
       "8       승용       중형  \n",
       "9       승용       중형  "
      ]
     },
     "execution_count": 63,
     "metadata": {},
     "output_type": "execute_result"
    }
   ],
   "source": [
    "df.tail()"
   ]
  },
  {
   "cell_type": "code",
   "execution_count": 48,
   "metadata": {},
   "outputs": [
    {
     "data": {
      "text/plain": [
       "Index(['VIN', 'SEASON_1ODR_CRDN_NOCS', 'SEASON_2ODR_CRDN_NOCS',\n",
       "       'SEASON_3ODR_CRDN_NOCS', 'SEASON_4ODR_CRDN_NOCS', 'RGN', 'CTPV',\n",
       "       'DPF_EXTRNS_YN', 'VHCTY_CD', 'VHCTY_TY'],\n",
       "      dtype='object')"
      ]
     },
     "execution_count": 48,
     "metadata": {},
     "output_type": "execute_result"
    }
   ],
   "source": [
    "df.columns"
   ]
  },
  {
   "cell_type": "code",
   "execution_count": null,
   "metadata": {},
   "outputs": [],
   "source": [
    "STD_BD_SEASON_CRDN_NOCS_CURSTT = df[[\n",
    "    'VIN', \n",
    "    'SEASON_1ODR_CRDN_NOCS', \n",
    "    'SEASON_2ODR_CRDN_NOCS',\n",
    "    'SEASON_3ODR_CRDN_NOCS', \n",
    "    'SEASON_4ODR_CRDN_NOCS', \n",
    "    'RGN', \n",
    "    'CTPV',\n",
    "    'DPF_EXTRNS_YN', \n",
    "    'VHCTY_CD', \n",
    "    'VHCTY_TY'\n",
    "]]"
   ]
  },
  {
   "attachments": {},
   "cell_type": "markdown",
   "metadata": {},
   "source": [
    "# STD_BD_ORDITM_DSCL_CURSTT"
   ]
  },
  {
   "cell_type": "code",
   "execution_count": 64,
   "metadata": {},
   "outputs": [],
   "source": [
    "# about \n",
    "name = 'STD_BD_ORDITM_DSCL_CURSTT'\n",
    "file_name = f'{name}.csv'\n",
    "df = pd.read_csv(os.path.join(df3_fold, file_name), low_memory=False, nrows=10)"
   ]
  },
  {
   "cell_type": "code",
   "execution_count": 65,
   "metadata": {},
   "outputs": [
    {
     "data": {
      "text/html": [
       "<div>\n",
       "<style scoped>\n",
       "    .dataframe tbody tr th:only-of-type {\n",
       "        vertical-align: middle;\n",
       "    }\n",
       "\n",
       "    .dataframe tbody tr th {\n",
       "        vertical-align: top;\n",
       "    }\n",
       "\n",
       "    .dataframe thead th {\n",
       "        text-align: right;\n",
       "    }\n",
       "</style>\n",
       "<table border=\"1\" class=\"dataframe\">\n",
       "  <thead>\n",
       "    <tr style=\"text-align: right;\">\n",
       "      <th></th>\n",
       "      <th>VIN</th>\n",
       "      <th>DSCL_YR</th>\n",
       "      <th>DSCL_NOCS</th>\n",
       "      <th>RGN</th>\n",
       "      <th>CTPV</th>\n",
       "    </tr>\n",
       "  </thead>\n",
       "  <tbody>\n",
       "    <tr>\n",
       "      <th>0</th>\n",
       "      <td>KNGDPM5313K123343</td>\n",
       "      <td>2019</td>\n",
       "      <td>2</td>\n",
       "      <td>수도권</td>\n",
       "      <td>서울</td>\n",
       "    </tr>\n",
       "    <tr>\n",
       "      <th>1</th>\n",
       "      <td>KNGDPM5N14K163032</td>\n",
       "      <td>2019</td>\n",
       "      <td>4</td>\n",
       "      <td>수도권</td>\n",
       "      <td>서울</td>\n",
       "    </tr>\n",
       "    <tr>\n",
       "      <th>2</th>\n",
       "      <td>KNHMB76136S072660</td>\n",
       "      <td>2019</td>\n",
       "      <td>4</td>\n",
       "      <td>수도권</td>\n",
       "      <td>인천</td>\n",
       "    </tr>\n",
       "    <tr>\n",
       "      <th>3</th>\n",
       "      <td>KNHMB76137S128033</td>\n",
       "      <td>2019</td>\n",
       "      <td>3</td>\n",
       "      <td>수도권</td>\n",
       "      <td>서울</td>\n",
       "    </tr>\n",
       "    <tr>\n",
       "      <th>4</th>\n",
       "      <td>KNHUP7513YS048282</td>\n",
       "      <td>2019</td>\n",
       "      <td>6</td>\n",
       "      <td>수도권</td>\n",
       "      <td>서울</td>\n",
       "    </tr>\n",
       "  </tbody>\n",
       "</table>\n",
       "</div>"
      ],
      "text/plain": [
       "                 VIN  DSCL_YR  DSCL_NOCS  RGN CTPV\n",
       "0  KNGDPM5313K123343     2019          2  수도권   서울\n",
       "1  KNGDPM5N14K163032     2019          4  수도권   서울\n",
       "2  KNHMB76136S072660     2019          4  수도권   인천\n",
       "3  KNHMB76137S128033     2019          3  수도권   서울\n",
       "4  KNHUP7513YS048282     2019          6  수도권   서울"
      ]
     },
     "execution_count": 65,
     "metadata": {},
     "output_type": "execute_result"
    }
   ],
   "source": [
    "df.head()"
   ]
  },
  {
   "cell_type": "code",
   "execution_count": 51,
   "metadata": {},
   "outputs": [
    {
     "data": {
      "text/plain": [
       "Index(['VIN', 'DSCL_YR', 'DSCL_NOCS', 'RGN', 'CTPV'], dtype='object')"
      ]
     },
     "execution_count": 51,
     "metadata": {},
     "output_type": "execute_result"
    }
   ],
   "source": [
    "df.columns"
   ]
  },
  {
   "cell_type": "code",
   "execution_count": null,
   "metadata": {},
   "outputs": [],
   "source": [
    "STD_BD_ORDITM_DSCL_CURSTT = df[[\n",
    "    'VIN', \n",
    "    'DSCL_YR', \n",
    "    'DSCL_NOCS', \n",
    "    'RGN', \n",
    "    'CTPV'\n",
    "]]"
   ]
  },
  {
   "attachments": {},
   "cell_type": "markdown",
   "metadata": {},
   "source": [
    "# STD_BD_SEASON_DSCL_RGN_CURSTT"
   ]
  },
  {
   "cell_type": "code",
   "execution_count": 66,
   "metadata": {},
   "outputs": [],
   "source": [
    "# about \n",
    "name = 'STD_BD_SEASON_DSCL_RGN_CURSTT'\n",
    "file_name = f'{name}.csv'\n",
    "df = pd.read_csv(os.path.join(df3_fold, file_name), low_memory=False, nrows=10)"
   ]
  },
  {
   "cell_type": "code",
   "execution_count": 67,
   "metadata": {},
   "outputs": [
    {
     "data": {
      "text/html": [
       "<div>\n",
       "<style scoped>\n",
       "    .dataframe tbody tr th:only-of-type {\n",
       "        vertical-align: middle;\n",
       "    }\n",
       "\n",
       "    .dataframe tbody tr th {\n",
       "        vertical-align: top;\n",
       "    }\n",
       "\n",
       "    .dataframe thead th {\n",
       "        text-align: right;\n",
       "    }\n",
       "</style>\n",
       "<table border=\"1\" class=\"dataframe\">\n",
       "  <thead>\n",
       "    <tr style=\"text-align: right;\">\n",
       "      <th></th>\n",
       "      <th>DSCL_RGN</th>\n",
       "      <th>DSCL_CTPV</th>\n",
       "      <th>VIN</th>\n",
       "      <th>SEASON_1ODR_CRDN_NOCS</th>\n",
       "      <th>SEASON_2ODR_CRDN_NOCS</th>\n",
       "      <th>SEASON_3ODR_CRDN_NOCS</th>\n",
       "      <th>SEASON_4ODR_CRDN_NOCS</th>\n",
       "      <th>VHCTY_CD</th>\n",
       "      <th>VHCTY_TY</th>\n",
       "    </tr>\n",
       "  </thead>\n",
       "  <tbody>\n",
       "    <tr>\n",
       "      <th>5</th>\n",
       "      <td>수도권</td>\n",
       "      <td>경기</td>\n",
       "      <td>KMFZCS7JP8U374430</td>\n",
       "      <td>4.0</td>\n",
       "      <td>NaN</td>\n",
       "      <td>NaN</td>\n",
       "      <td>NaN</td>\n",
       "      <td>화물</td>\n",
       "      <td>소형</td>\n",
       "    </tr>\n",
       "    <tr>\n",
       "      <th>6</th>\n",
       "      <td>수도권</td>\n",
       "      <td>경기</td>\n",
       "      <td>KL3C6CHF17K001021</td>\n",
       "      <td>2.0</td>\n",
       "      <td>NaN</td>\n",
       "      <td>NaN</td>\n",
       "      <td>NaN</td>\n",
       "      <td>화물</td>\n",
       "      <td>대형</td>\n",
       "    </tr>\n",
       "    <tr>\n",
       "      <th>7</th>\n",
       "      <td>수도권</td>\n",
       "      <td>경기</td>\n",
       "      <td>KMHSJ81WP7U109517</td>\n",
       "      <td>1.0</td>\n",
       "      <td>9.0</td>\n",
       "      <td>NaN</td>\n",
       "      <td>NaN</td>\n",
       "      <td>승용</td>\n",
       "      <td>대형</td>\n",
       "    </tr>\n",
       "    <tr>\n",
       "      <th>8</th>\n",
       "      <td>수도권</td>\n",
       "      <td>인천</td>\n",
       "      <td>KNAJE55135K014635</td>\n",
       "      <td>2.0</td>\n",
       "      <td>NaN</td>\n",
       "      <td>26.0</td>\n",
       "      <td>8.0</td>\n",
       "      <td>승용</td>\n",
       "      <td>중형</td>\n",
       "    </tr>\n",
       "    <tr>\n",
       "      <th>9</th>\n",
       "      <td>수도권외</td>\n",
       "      <td>대전</td>\n",
       "      <td>KMFLA18EP7C022138</td>\n",
       "      <td>NaN</td>\n",
       "      <td>2.0</td>\n",
       "      <td>NaN</td>\n",
       "      <td>NaN</td>\n",
       "      <td>화물</td>\n",
       "      <td>중형</td>\n",
       "    </tr>\n",
       "  </tbody>\n",
       "</table>\n",
       "</div>"
      ],
      "text/plain": [
       "  DSCL_RGN DSCL_CTPV                VIN  SEASON_1ODR_CRDN_NOCS   \n",
       "5      수도권        경기  KMFZCS7JP8U374430                    4.0  \\\n",
       "6      수도권        경기  KL3C6CHF17K001021                    2.0   \n",
       "7      수도권        경기  KMHSJ81WP7U109517                    1.0   \n",
       "8      수도권        인천  KNAJE55135K014635                    2.0   \n",
       "9     수도권외        대전  KMFLA18EP7C022138                    NaN   \n",
       "\n",
       "   SEASON_2ODR_CRDN_NOCS  SEASON_3ODR_CRDN_NOCS  SEASON_4ODR_CRDN_NOCS   \n",
       "5                    NaN                    NaN                    NaN  \\\n",
       "6                    NaN                    NaN                    NaN   \n",
       "7                    9.0                    NaN                    NaN   \n",
       "8                    NaN                   26.0                    8.0   \n",
       "9                    2.0                    NaN                    NaN   \n",
       "\n",
       "  VHCTY_CD VHCTY_TY  \n",
       "5       화물       소형  \n",
       "6       화물       대형  \n",
       "7       승용       대형  \n",
       "8       승용       중형  \n",
       "9       화물       중형  "
      ]
     },
     "execution_count": 67,
     "metadata": {},
     "output_type": "execute_result"
    }
   ],
   "source": [
    "df.tail()"
   ]
  },
  {
   "cell_type": "code",
   "execution_count": 54,
   "metadata": {},
   "outputs": [
    {
     "data": {
      "text/plain": [
       "Index(['DSCL_RGN', 'DSCL_CTPV', 'VIN', 'SEASON_1ODR_CRDN_NOCS',\n",
       "       'SEASON_2ODR_CRDN_NOCS', 'SEASON_3ODR_CRDN_NOCS',\n",
       "       'SEASON_4ODR_CRDN_NOCS', 'VHCTY_CD', 'VHCTY_TY'],\n",
       "      dtype='object')"
      ]
     },
     "execution_count": 54,
     "metadata": {},
     "output_type": "execute_result"
    }
   ],
   "source": [
    "df.columns"
   ]
  },
  {
   "cell_type": "code",
   "execution_count": null,
   "metadata": {},
   "outputs": [],
   "source": [
    "STD_BD_SEASON_DSCL_RGN_CURSTT = df[[\n",
    "    'DSCL_RGN', \n",
    "    'DSCL_CTPV', \n",
    "    'VIN', \n",
    "    'SEASON_1ODR_CRDN_NOCS',\n",
    "    'SEASON_2ODR_CRDN_NOCS', \n",
    "    'SEASON_3ODR_CRDN_NOCS',\n",
    "    'SEASON_4ODR_CRDN_NOCS', \n",
    "    'VHCTY_CD', \n",
    "    'VHCTY_TY'\n",
    "]]"
   ]
  }
 ],
 "metadata": {
  "interpreter": {
   "hash": "569b4317022eb29baeafb3d0f1f739310808ea28ce83ca127a35db1c01070585"
  },
  "kernelspec": {
   "display_name": "Python 3.9.12 ('base')",
   "language": "python",
   "name": "python3"
  },
  "language_info": {
   "codemirror_mode": {
    "name": "ipython",
    "version": 3
   },
   "file_extension": ".py",
   "mimetype": "text/x-python",
   "name": "python",
   "nbconvert_exporter": "python",
   "pygments_lexer": "ipython3",
   "version": "3.9.13"
  },
  "orig_nbformat": 4
 },
 "nbformat": 4,
 "nbformat_minor": 2
}
