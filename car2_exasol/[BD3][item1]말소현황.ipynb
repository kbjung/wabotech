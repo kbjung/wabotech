{
 "cells": [
  {
   "attachments": {},
   "cell_type": "markdown",
   "metadata": {},
   "source": [
    "# Library"
   ]
  },
  {
   "cell_type": "code",
   "execution_count": 1,
   "metadata": {},
   "outputs": [],
   "source": [
    "import pandas as pd\n",
    "import os\n",
    "from datetime import datetime\n",
    "import numpy as np"
   ]
  },
  {
   "cell_type": "code",
   "execution_count": 2,
   "metadata": {},
   "outputs": [],
   "source": [
    "# 소수점 옵션\n",
    "pd.options.display.float_format = '{:.2f}'.format\n",
    "# pd.reset_option('display.float_format')"
   ]
  },
  {
   "attachments": {},
   "cell_type": "markdown",
   "metadata": {},
   "source": [
    "# fold"
   ]
  },
  {
   "cell_type": "code",
   "execution_count": 3,
   "metadata": {},
   "outputs": [],
   "source": [
    "an3_fold = 'D:/data/big2/BD3/an'\n",
    "df3_fold = 'D:/data/big2/BD3/df'\n",
    "ods_fold = 'D:/data/big2/ODS'\n",
    "big2_fold = 'D:/data/big2'"
   ]
  },
  {
   "attachments": {},
   "cell_type": "markdown",
   "metadata": {},
   "source": [
    "# 로드"
   ]
  },
  {
   "attachments": {},
   "cell_type": "markdown",
   "metadata": {},
   "source": [
    "## CEG_CAR_HISTORY_MIG"
   ]
  },
  {
   "cell_type": "code",
   "execution_count": 11,
   "metadata": {},
   "outputs": [],
   "source": [
    "# about 2m 6.8s\n",
    "name = '차량변경이력'\n",
    "file_name = f'{name}.csv'\n",
    "his = pd.read_csv(os.path.join(ods_fold, file_name), low_memory=False)"
   ]
  },
  {
   "cell_type": "code",
   "execution_count": 12,
   "metadata": {},
   "outputs": [
    {
     "name": "stdout",
     "output_type": "stream",
     "text": [
      "<class 'pandas.core.frame.DataFrame'>\n",
      "RangeIndex: 50044248 entries, 0 to 50044247\n",
      "Data columns (total 5 columns):\n",
      " #   Column  Dtype  \n",
      "---  ------  -----  \n",
      " 0   차량관리번호  object \n",
      " 1   변경일자    float64\n",
      " 2   변경구분코드  object \n",
      " 3   차대번호    object \n",
      " 4   차량말소여부  object \n",
      "dtypes: float64(1), object(4)\n",
      "memory usage: 1.9+ GB\n"
     ]
    }
   ],
   "source": [
    "his.info()"
   ]
  },
  {
   "cell_type": "code",
   "execution_count": 7,
   "metadata": {},
   "outputs": [],
   "source": [
    "# 0   VHMNO               object  -> \n",
    "# 1   PRCS_SNO            object  -> \n",
    "# 2   CHNG_DE             float64 ->\n",
    "# 3   CHNG_SE_CD          object  ->\n",
    "# 4   VHRNO               object  ->\n",
    "# 5   BSPL_LEDO_CD        float64 ->\n",
    "# 6   OWNR_SE             object  ->\n",
    "# 7   VHCTY               object  ->\n",
    "# 8   PURPS               object  ->\n",
    "# 9   NOW_OWNR_NM         object  ->\n",
    "# 10  NOW_MBERNO          object  ->\n",
    "# 11  BSPL_ADRS           object  ->\n",
    "# 12  OWNR_ADRS           object  ->\n",
    "# 13  VIN                 object  ->\n",
    "# 14  FST_REG_DE          float64 ->\n",
    "# 15  VHCL_YRIDNW         int64   ->\n",
    "# 16  VHCL_MNFCT_DE       float64 ->\n",
    "# 17  EMIS_INSP_EFCT_DE   float64 ->\n",
    "# 18  SRCMNNO             object  ->\n",
    "# 19  EMIS_CRTCNO         object  ->\n",
    "# 20  EMIS_GRD            object  ->\n",
    "# 21  LEM_YN              object  ->\n",
    "# 22  LEM_KND             float64 ->\n",
    "# 23  LEM_STRCHG_YN       object  ->\n",
    "# 24  BSPL_ZIP            float64 ->\n",
    "# 25  VHRNO_NUM_INFO      int64   ->\n",
    "# 26  VHCL_ERSR_YN        object  ->\n",
    "# 27  ACQS_DE             object  ->\n",
    "# 28  ACQS_AMT            float64 ->\n",
    "# 29  RMK                 object  ->\n",
    "# 30  MOLIT_LINK_FILE_NM  object  ->\n",
    "# 31  CRTN_DT             object  ->\n",
    "# 32  UPDT_DT             object  ->\n",
    "# 33  USER_ID             object  ->"
   ]
  },
  {
   "cell_type": "code",
   "execution_count": 1,
   "metadata": {},
   "outputs": [],
   "source": [
    "# col_dict = {\n",
    "#     'VHMNO':'차량관리번호',\n",
    "#     'PRCS_SNO':'처리_SNO', # 처리SNO\n",
    "#     'CHNG_DE':'변경일자', # 변경일자\n",
    "#     'CHNG_SE_CD':'변경구분코드', # 변경구분코드\n",
    "#     'VHRNO':'차량등록번호',\n",
    "#     'BSPL_LEDO_CD':'본거지법정동코드',\n",
    "#     'OWNR_SE':'소유자구분',\n",
    "#     'VHCTY':'차종',\n",
    "#     'PURPS':'용도',\n",
    "#     'NOW_OWNR_NM':'현재소유자명', # 현재소유자명\n",
    "#     'NOW_MBERNO':'현재회원번호',\n",
    "#     'BSPL_ADRS':'본거지주소', # 본거지주소\n",
    "#     'OWNR_ADRS':'소유자주소', # 소유자주소\n",
    "#     'VIN':'차대번호',\n",
    "#     'FST_REG_DE':'최초등록일자',\n",
    "#     'VHCL_YRIDNW':'차량연식',\n",
    "#     'VHCL_MNFCT_DE':'차량제작일자',\n",
    "#     'EMIS_INSP_EFCT_DE':'배출가스검사유효일자',\n",
    "#     'SRCMNNO':'제원관리번호',\n",
    "#     'EMIS_CRTCNO':'배출가스인증번호',\n",
    "#     'EMIS_GRD':'배출가스등급',\n",
    "#     'LEM_YN':'저공해조치여부',\n",
    "#     'LEM_KND':'저공해조치종류',\n",
    "#     'LEM_STRCHG_YN':'저공해조치구조변경여부',\n",
    "#     'BSPL_ZIP':'본거지우편번호', # 본거지우편번호\n",
    "#     'VHRNO_NUM_INFO':'차량등록번호숫자정보',\n",
    "#     'VHCL_ERSR_YN':'차량말소여부',\n",
    "#     'ACQS_DE':'취득일자',\n",
    "#     'ACQS_AMT':'취득금액',\n",
    "#     'RMK':'비고',\n",
    "#     'MOLIT_LINK_FILE_NM':'국토부연계파일명', # 국토부연계파일명\n",
    "#     'CRTN_DT':'생성일시',\n",
    "#     'UPDT_DT':'수정일시',\n",
    "#     'USER_ID':'사용자ID'}"
   ]
  },
  {
   "cell_type": "code",
   "execution_count": 9,
   "metadata": {},
   "outputs": [
    {
     "data": {
      "text/plain": [
       "Index(['차량관리번호', '처리_SNO', '변경일자', '변경구분코드', '차량등록번호', '본거지법정동코드', '소유자구분',\n",
       "       '차종', '용도', '현재소유자명', '현재회원번호', '본거지주소', '소유자주소', '차대번호', '최초등록일자',\n",
       "       '차량연식', '차량제작일자', '배출가스검사유효일자', '제원관리번호', '배출가스인증번호', '배출가스등급',\n",
       "       '저공해조치YN', '저공해조치종류', '저공해조치구조변경YN', '본거지우편번호', '차량등록번호숫자정보', '차량말소YN',\n",
       "       '취득일자', '취득금액', '비고', '국토부연계파일명', '생성일시', '수정일시', '사용자ID'],\n",
       "      dtype='object')"
      ]
     },
     "execution_count": 9,
     "metadata": {},
     "output_type": "execute_result"
    }
   ],
   "source": [
    "# his.columns = [col_dict[x] for x in his.columns]\n",
    "# his.columns"
   ]
  },
  {
   "cell_type": "code",
   "execution_count": 13,
   "metadata": {},
   "outputs": [
    {
     "data": {
      "text/plain": [
       "count   50037386.00\n",
       "mean    20205039.70\n",
       "std         9815.94\n",
       "min     19840228.00\n",
       "25%     20200417.00\n",
       "50%     20201103.00\n",
       "75%     20210907.00\n",
       "max     20221122.00\n",
       "Name: 변경일자, dtype: float64"
      ]
     },
     "execution_count": 13,
     "metadata": {},
     "output_type": "execute_result"
    }
   ],
   "source": [
    "his['변경일자'].describe()"
   ]
  },
  {
   "cell_type": "code",
   "execution_count": 14,
   "metadata": {},
   "outputs": [
    {
     "data": {
      "text/plain": [
       "6862"
      ]
     },
     "execution_count": 14,
     "metadata": {},
     "output_type": "execute_result"
    }
   ],
   "source": [
    "his['변경일자'].isnull().sum()"
   ]
  },
  {
   "cell_type": "code",
   "execution_count": 15,
   "metadata": {},
   "outputs": [
    {
     "data": {
      "text/plain": [
       "변경구분코드\n",
       "1210    13147718\n",
       "1100    11846334\n",
       "CEGO    10738784\n",
       "1110     4522138\n",
       "CEGC     3038433\n",
       "1411     2394726\n",
       "1427      956976\n",
       "1120      936618\n",
       "1023      512129\n",
       "1250      469364\n",
       "1021      416343\n",
       "1211      328741\n",
       "1410      223139\n",
       "1430      221724\n",
       "1071       56105\n",
       "1222       43026\n",
       "1444       20648\n",
       "1081       20445\n",
       "1414       20246\n",
       "1415       17851\n",
       "1418       14856\n",
       "1140       14421\n",
       "1017        9534\n",
       "1440        8457\n",
       "1014        8002\n",
       "1012        6883\n",
       "1015        6058\n",
       "1010        5837\n",
       "1458        4806\n",
       "1130        4380\n",
       "1019        3929\n",
       "1431        3195\n",
       "1419        2940\n",
       "1425        2734\n",
       "1412        2540\n",
       "1013        2370\n",
       "1016        1940\n",
       "1443        1714\n",
       "1442        1403\n",
       "1441        1302\n",
       "1424        1188\n",
       "1018         876\n",
       "1421         785\n",
       "1413         712\n",
       "1011         549\n",
       "1420         310\n",
       "1432         306\n",
       "1447         241\n",
       "1091         134\n",
       "1445         107\n",
       "1455          70\n",
       "1417          56\n",
       "1433          55\n",
       "1423          33\n",
       "1422          27\n",
       "1446           8\n",
       "1448           2\n",
       "Name: count, dtype: int64"
      ]
     },
     "execution_count": 15,
     "metadata": {},
     "output_type": "execute_result"
    }
   ],
   "source": [
    "his['변경구분코드'].value_counts(dropna=False)"
   ]
  },
  {
   "attachments": {},
   "cell_type": "markdown",
   "metadata": {},
   "source": [
    "### 변경구분코드로 추출\n",
    "- CEGO, CEGC 제외"
   ]
  },
  {
   "cell_type": "code",
   "execution_count": 25,
   "metadata": {},
   "outputs": [
    {
     "data": {
      "text/plain": [
       "차량말소여부\n",
       "N    46355117\n",
       "Y     3689131\n",
       "Name: count, dtype: int64"
      ]
     },
     "execution_count": 25,
     "metadata": {},
     "output_type": "execute_result"
    }
   ],
   "source": [
    "his['차량말소여부'].value_counts(dropna=False)"
   ]
  },
  {
   "cell_type": "code",
   "execution_count": 26,
   "metadata": {},
   "outputs": [
    {
     "data": {
      "text/plain": [
       "array(['CEGO', 'CEGC', '1100', '1210', '1110', '1410', '1023', '1430',\n",
       "       '1411', '1071', '1010', '1250', '1222', '1120', '1427', '1021',\n",
       "       '1414', '1415', '1017', '1444', '1419', '1015', '1425', '1418',\n",
       "       '1014', '1443', '1012', '1019', '1140', '1412', '1130', '1440',\n",
       "       '1431', '1013', '1016', '1458', '1081', '1413', '1441', 1110, 1100,\n",
       "       1120, 1250, 1081, 1411, 1427, 1410, 1021, 1430, 1210, 1023, 1414,\n",
       "       1415, 1444, 1412, 1071, 1013, 1012, 1140, 1458, 1418, 1222, 1014,\n",
       "       1010, 1019, 1015, 1440, 1419, 1425, 1017, 1443, 1413, 1431, 1441,\n",
       "       1130, 1016, 1421, 1420, 1442, 1455, 1424, 1445, 1423, 1432, 1422,\n",
       "       1018, '1442', 1011, 1417, '1432', 1447, 1091, '1421', '1420',\n",
       "       '1018', '1424', '1423', '1011', '1091', '1417', '1445', '1447',\n",
       "       '1422', 1446, '1455', '1433', 1433, 1211, '1211', 1448, '1446'],\n",
       "      dtype=object)"
      ]
     },
     "execution_count": 26,
     "metadata": {},
     "output_type": "execute_result"
    }
   ],
   "source": [
    "his['변경구분코드'].unique()"
   ]
  },
  {
   "cell_type": "code",
   "execution_count": 27,
   "metadata": {},
   "outputs": [
    {
     "data": {
      "text/plain": [
       "(50044248, 5)"
      ]
     },
     "execution_count": 27,
     "metadata": {},
     "output_type": "execute_result"
    }
   ],
   "source": [
    "his.shape"
   ]
  },
  {
   "cell_type": "code",
   "execution_count": 28,
   "metadata": {},
   "outputs": [
    {
     "data": {
      "text/plain": [
       "count   50037386.00\n",
       "mean    20205039.70\n",
       "std         9815.94\n",
       "min     19840228.00\n",
       "25%     20200417.00\n",
       "50%     20201103.00\n",
       "75%     20210907.00\n",
       "max     20221122.00\n",
       "Name: 변경일자, dtype: float64"
      ]
     },
     "execution_count": 28,
     "metadata": {},
     "output_type": "execute_result"
    }
   ],
   "source": [
    "his['변경일자'].describe()"
   ]
  },
  {
   "cell_type": "code",
   "execution_count": 29,
   "metadata": {},
   "outputs": [
    {
     "data": {
      "text/plain": [
       "Index(['차량관리번호', '변경일자', '변경구분코드', '차대번호', '차량말소여부'], dtype='object')"
      ]
     },
     "execution_count": 29,
     "metadata": {},
     "output_type": "execute_result"
    }
   ],
   "source": [
    "his.columns"
   ]
  },
  {
   "cell_type": "code",
   "execution_count": 30,
   "metadata": {},
   "outputs": [
    {
     "data": {
      "text/plain": [
       "(36267031, 5)"
      ]
     },
     "execution_count": 30,
     "metadata": {},
     "output_type": "execute_result"
    }
   ],
   "source": [
    "# about 49.7s\n",
    "his01 = his.loc[(his['변경구분코드'] != 'CEGO') & (his['변경구분코드'] != 'CEGC'), ['차량관리번호', '차대번호', '차량말소여부', '변경일자', '변경구분코드']].reset_index(drop=True)\n",
    "his01.shape"
   ]
  },
  {
   "cell_type": "code",
   "execution_count": 31,
   "metadata": {},
   "outputs": [
    {
     "data": {
      "text/plain": [
       "13777217"
      ]
     },
     "execution_count": 31,
     "metadata": {},
     "output_type": "execute_result"
    }
   ],
   "source": [
    "his.shape[0] - his01.shape[0]"
   ]
  },
  {
   "cell_type": "code",
   "execution_count": 32,
   "metadata": {},
   "outputs": [],
   "source": [
    "# about 1m 51.7s\n",
    "his01.to_csv(os.path.join(ods_fold, '차량변경이력_수정01.csv'), index=False)"
   ]
  },
  {
   "attachments": {},
   "cell_type": "markdown",
   "metadata": {},
   "source": [
    "# 차량 폐차 현황"
   ]
  },
  {
   "attachments": {},
   "cell_type": "markdown",
   "metadata": {},
   "source": [
    "## 1\\. [로드] 데이터"
   ]
  },
  {
   "attachments": {},
   "cell_type": "markdown",
   "metadata": {},
   "source": [
    "### 1-1\\. 등록&제원"
   ]
  },
  {
   "cell_type": "code",
   "execution_count": 4,
   "metadata": {},
   "outputs": [
    {
     "name": "stdout",
     "output_type": "stream",
     "text": [
      "<class 'pandas.core.frame.DataFrame'>\n",
      "RangeIndex: 29534047 entries, 0 to 29534046\n",
      "Data columns (total 14 columns):\n",
      " #   Column     Dtype \n",
      "---  ------     ----- \n",
      " 0   차량관리번호     object\n",
      " 1   본거지법정동코드   int64 \n",
      " 2   차종_등록정보    object\n",
      " 3   차대번호       object\n",
      " 4   최초등록일자     int64 \n",
      " 5   차량연식       int64 \n",
      " 6   제원관리번호     object\n",
      " 7   배출가스인증번호   object\n",
      " 8   배출가스등급     object\n",
      " 9   차량말소YN     object\n",
      " 10  차명         object\n",
      " 11  차종유형(소분류)  object\n",
      " 12  제작사명       object\n",
      " 13  연료         object\n",
      "dtypes: int64(3), object(11)\n",
      "memory usage: 3.1+ GB\n"
     ]
    }
   ],
   "source": [
    "# about 5m 3.9s\n",
    "name = '[ODS]등록정보&제원정보(2022.12.28)'\n",
    "file_name = f'{name}.csv'\n",
    "smig = pd.read_csv(os.path.join(ods_fold, file_name), low_memory=False, usecols=['차량관리번호', '차대번호', '차량말소YN', '배출가스인증번호', '배출가스등급', '제원관리번호', '차종_등록정보', '차종유형(소분류)', '차량연식', '연료', '차명', '본거지법정동코드', '최초등록일자', '제작사명'], encoding='cp949')\n",
    "smig.info()"
   ]
  },
  {
   "cell_type": "code",
   "execution_count": 5,
   "metadata": {},
   "outputs": [
    {
     "data": {
      "text/plain": [
       "배출가스등급\n",
       "2      11803371\n",
       "3       9890563\n",
       "1       2870152\n",
       "5       2378599\n",
       "4       1898773\n",
       "X        305339\n",
       "T2       250282\n",
       "T3       136844\n",
       "T5           49\n",
       "T4           43\n",
       "NaN          32\n",
       "Name: count, dtype: int64"
      ]
     },
     "execution_count": 5,
     "metadata": {},
     "output_type": "execute_result"
    }
   ],
   "source": [
    "smig['배출가스등급'].value_counts(dropna=False)"
   ]
  },
  {
   "cell_type": "code",
   "execution_count": 6,
   "metadata": {},
   "outputs": [],
   "source": [
    "smig['배출가스등급'] = smig['배출가스등급'].astype('str')"
   ]
  },
  {
   "cell_type": "code",
   "execution_count": 7,
   "metadata": {},
   "outputs": [],
   "source": [
    "smig.loc[smig['배출가스등급'] == '1', '등급'] = 1\n",
    "smig.loc[(smig['배출가스등급'] == '2') | (smig['배출가스등급'] == 'T2'), '등급'] = 2\n",
    "smig.loc[(smig['배출가스등급'] == '3') | (smig['배출가스등급'] == 'T3'), '등급'] = 3\n",
    "smig.loc[(smig['배출가스등급'] == '4') | (smig['배출가스등급'] == 'T4'), '등급'] = 4\n",
    "smig.loc[(smig['배출가스등급'] == '5') | (smig['배출가스등급'] == 'T5'), '등급'] = 5\n",
    "smig.loc[smig['배출가스등급'] == 'X', '등급'] = 'X'\n",
    "smig.loc[smig['배출가스등급'].isnull() == True, '등급'] = 'nan'"
   ]
  },
  {
   "cell_type": "code",
   "execution_count": 8,
   "metadata": {},
   "outputs": [
    {
     "data": {
      "text/plain": [
       "등급\n",
       "2.0    12053653\n",
       "3.0    10027407\n",
       "1.0     2870152\n",
       "5.0     2378648\n",
       "4.0     1898816\n",
       "X        305339\n",
       "Name: count, dtype: int64"
      ]
     },
     "execution_count": 8,
     "metadata": {},
     "output_type": "execute_result"
    }
   ],
   "source": [
    "smig['등급'].value_counts(dropna=True)"
   ]
  },
  {
   "cell_type": "code",
   "execution_count": 9,
   "metadata": {},
   "outputs": [
    {
     "data": {
      "text/plain": [
       "차량말소YN\n",
       "N    25693532\n",
       "Y     3840515\n",
       "Name: count, dtype: int64"
      ]
     },
     "execution_count": 9,
     "metadata": {},
     "output_type": "execute_result"
    }
   ],
   "source": [
    "smig['차량말소YN'].value_counts(dropna=False)"
   ]
  },
  {
   "cell_type": "code",
   "execution_count": 10,
   "metadata": {},
   "outputs": [
    {
     "data": {
      "text/plain": [
       "((29534047, 15), 29534043)"
      ]
     },
     "execution_count": 10,
     "metadata": {},
     "output_type": "execute_result"
    }
   ],
   "source": [
    "smig.shape, len(smig['차량관리번호'].unique())"
   ]
  },
  {
   "cell_type": "code",
   "execution_count": 11,
   "metadata": {},
   "outputs": [
    {
     "data": {
      "text/plain": [
       "29521505"
      ]
     },
     "execution_count": 11,
     "metadata": {},
     "output_type": "execute_result"
    }
   ],
   "source": [
    "len(smig['차대번호'].unique())"
   ]
  },
  {
   "cell_type": "code",
   "execution_count": 12,
   "metadata": {},
   "outputs": [
    {
     "data": {
      "text/plain": [
       "차종유형(소분류)\n",
       "중형     15578187\n",
       "대형      7713385\n",
       "소형      3769094\n",
       "경형      2473350\n",
       "NaN          31\n",
       "Name: count, dtype: int64"
      ]
     },
     "execution_count": 12,
     "metadata": {},
     "output_type": "execute_result"
    }
   ],
   "source": [
    "smig['차종유형(소분류)'].value_counts(dropna=False)"
   ]
  },
  {
   "cell_type": "code",
   "execution_count": 13,
   "metadata": {},
   "outputs": [
    {
     "data": {
      "text/plain": [
       "array(['휘발유', '경유', nan, '기타연료', '등유', '알코올', 'LPG(액화석유가스)',\n",
       "       'CNG(압축천연가스)', '휘발유 하이브리드', '태양열', 'LPG 하이브리드', '전기',\n",
       "       'LNG(액화천연가스)', '경유 하이브리드', 'CNG 하이브리드', '수소'], dtype=object)"
      ]
     },
     "execution_count": 13,
     "metadata": {},
     "output_type": "execute_result"
    }
   ],
   "source": [
    "smig['연료'].unique()"
   ]
  },
  {
   "cell_type": "code",
   "execution_count": 14,
   "metadata": {},
   "outputs": [],
   "source": [
    "# 24.2s\n",
    "smig.loc[(smig['연료'] == '경유') | (smig['연료'] == '경유 하이브리드'), 'fuel'] = '경유'\n",
    "smig.loc[(smig['연료'] == '휘발유') | (smig['연료'] == '휘발유 하이브리드'), 'fuel'] = '휘발유'\n",
    "smig.loc[(smig['연료'] == 'LPG(액화석유가스)') | (smig['연료'] == 'LPG 하이브리드'), 'fuel'] = 'LPG'\n",
    "smig.loc[(smig['연료'] == 'CNG(압축천연가스)') | (smig['연료'] == 'CNG 하이브리드'), 'fuel'] = 'CNG'\n",
    "smig.loc[smig['연료'] == 'LNG(액화천연가스)', 'fuel'] = 'LNG'\n",
    "smig.loc[smig['연료'] == '전기', 'fuel'] = '전기'\n",
    "smig.loc[smig['연료'] == '수소', 'fuel'] = '수소'\n",
    "smig.loc[smig['연료'] == '등유', 'fuel'] = '등유'\n",
    "smig.loc[smig['연료'] == '알코올', 'fuel'] = '알코올'\n",
    "smig.loc[smig['연료'] == '태양열', 'fuel'] = '태양열'\n",
    "smig.loc[smig['연료'] == '기타연료', 'fuel'] = '기타연료'\n",
    "smig.loc[smig['연료'].isnull() == True, 'fuel'] = np.nan"
   ]
  },
  {
   "attachments": {},
   "cell_type": "markdown",
   "metadata": {},
   "source": [
    "### 1-2\\. CEG_CAR_HISTORY_MIG_수정01\n",
    "- 변경구분코드 : CEGO, CEGC 제외함."
   ]
  },
  {
   "cell_type": "code",
   "execution_count": 25,
   "metadata": {},
   "outputs": [
    {
     "name": "stdout",
     "output_type": "stream",
     "text": [
      "<class 'pandas.core.frame.DataFrame'>\n",
      "RangeIndex: 36267031 entries, 0 to 36267030\n",
      "Data columns (total 5 columns):\n",
      " #   Column  Dtype  \n",
      "---  ------  -----  \n",
      " 0   차량관리번호  object \n",
      " 1   차대번호    object \n",
      " 2   차량말소여부  object \n",
      " 3   변경일자    float64\n",
      " 4   변경구분코드  int64  \n",
      "dtypes: float64(1), int64(1), object(3)\n",
      "memory usage: 1.4+ GB\n"
     ]
    }
   ],
   "source": [
    "# about 2m 25.8s\n",
    "name = '차량변경이력_수정01'\n",
    "file_name = f'{name}.csv'\n",
    "his = pd.read_csv(os.path.join(ods_fold, file_name), low_memory=False)\n",
    "his.info()"
   ]
  },
  {
   "cell_type": "code",
   "execution_count": 26,
   "metadata": {},
   "outputs": [
    {
     "data": {
      "text/plain": [
       "((36267031, 5), 19399228)"
      ]
     },
     "execution_count": 26,
     "metadata": {},
     "output_type": "execute_result"
    }
   ],
   "source": [
    "his.shape, len(his['차량관리번호'].unique())"
   ]
  },
  {
   "cell_type": "code",
   "execution_count": 27,
   "metadata": {},
   "outputs": [
    {
     "data": {
      "text/plain": [
       "19400662"
      ]
     },
     "execution_count": 27,
     "metadata": {},
     "output_type": "execute_result"
    }
   ],
   "source": [
    "len(his['차대번호'].unique())"
   ]
  },
  {
   "attachments": {},
   "cell_type": "markdown",
   "metadata": {},
   "source": [
    "### 1-3\\. 법정동코드"
   ]
  },
  {
   "cell_type": "code",
   "execution_count": 15,
   "metadata": {},
   "outputs": [
    {
     "name": "stdout",
     "output_type": "stream",
     "text": [
      "<class 'pandas.core.frame.DataFrame'>\n",
      "RangeIndex: 46342 entries, 0 to 46341\n",
      "Data columns (total 9 columns):\n",
      " #   Column    Non-Null Count  Dtype  \n",
      "---  ------    --------------  -----  \n",
      " 0   법정동코드     46342 non-null  int64  \n",
      " 1   시도        46342 non-null  object \n",
      " 2   시구군       46319 non-null  object \n",
      " 3   읍면동       45849 non-null  object \n",
      " 4   리         33682 non-null  object \n",
      " 5   지역3       0 non-null      float64\n",
      " 6   폐지여부      46342 non-null  object \n",
      " 7   대기관리권역    46342 non-null  object \n",
      " 8   대기관리권역YN  46337 non-null  object \n",
      "dtypes: float64(1), int64(1), object(7)\n",
      "memory usage: 3.2+ MB\n"
     ]
    }
   ],
   "source": [
    "# about 8.9s\n",
    "name = '법정동코드_2022.10.14(수정2023.05.04)'\n",
    "file_name = f'{name}.xlsx'\n",
    "code = pd.read_excel(os.path.join(big2_fold, file_name))\n",
    "code.info()"
   ]
  },
  {
   "attachments": {},
   "cell_type": "markdown",
   "metadata": {},
   "source": [
    "### 1-4. 저감장치 부착이력(중복차대제거)"
   ]
  },
  {
   "cell_type": "code",
   "execution_count": 29,
   "metadata": {},
   "outputs": [
    {
     "name": "stdout",
     "output_type": "stream",
     "text": [
      "<class 'pandas.core.frame.DataFrame'>\n",
      "RangeIndex: 809255 entries, 0 to 809254\n",
      "Data columns (total 2 columns):\n",
      " #   Column  Non-Null Count   Dtype \n",
      "---  ------  --------------   ----- \n",
      " 0   차대번호    809255 non-null  object\n",
      " 1   저감장치구분  809255 non-null  object\n",
      "dtypes: object(2)\n",
      "memory usage: 12.3+ MB\n"
     ]
    }
   ],
   "source": [
    "# about 5m 3.9s\n",
    "name = '[ODS]저감장치부착이력(중복차대제거)(2022.12.28)'\n",
    "file_name = f'{name}.csv'\n",
    "erp = pd.read_csv(os.path.join(ods_fold, file_name), low_memory=False, usecols=['차대번호', '저감장치구분'], encoding='cp949')\n",
    "erp.info()"
   ]
  },
  {
   "cell_type": "code",
   "execution_count": 30,
   "metadata": {},
   "outputs": [
    {
     "data": {
      "text/plain": [
       "저감장치구분\n",
       "1종        294300\n",
       "엔진개조      198574\n",
       "2종        156328\n",
       "3종        147153\n",
       "엔진교체        8528\n",
       "1종+SCR      2301\n",
       "삼원촉매        2071\n",
       "Name: count, dtype: int64"
      ]
     },
     "execution_count": 30,
     "metadata": {},
     "output_type": "execute_result"
    }
   ],
   "source": [
    "erp['저감장치구분'].value_counts(dropna=False)"
   ]
  },
  {
   "cell_type": "code",
   "execution_count": 31,
   "metadata": {},
   "outputs": [],
   "source": [
    "erp1 = erp.copy()"
   ]
  },
  {
   "cell_type": "code",
   "execution_count": 32,
   "metadata": {},
   "outputs": [],
   "source": [
    "erp1.loc[(erp['저감장치구분'] == '1종') | (erp['저감장치구분'] == '1종+SCR'), '저감장치'] = 'DPF'"
   ]
  },
  {
   "cell_type": "code",
   "execution_count": 33,
   "metadata": {},
   "outputs": [
    {
     "data": {
      "text/plain": [
       "저감장치\n",
       "NaN    512654\n",
       "DPF    296601\n",
       "Name: count, dtype: int64"
      ]
     },
     "execution_count": 33,
     "metadata": {},
     "output_type": "execute_result"
    }
   ],
   "source": [
    "erp1['저감장치'].value_counts(dropna=False)"
   ]
  },
  {
   "attachments": {},
   "cell_type": "markdown",
   "metadata": {},
   "source": [
    "## 2\\. 차량관리번호 기준으로 병합"
   ]
  },
  {
   "cell_type": "code",
   "execution_count": 379,
   "metadata": {},
   "outputs": [
    {
     "data": {
      "text/plain": [
       "(46401826, 20)"
      ]
     },
     "execution_count": 379,
     "metadata": {},
     "output_type": "execute_result"
    }
   ],
   "source": [
    "# about 2m 0.3s\n",
    "df = smig.merge(his, on='차량관리번호', how='left')\n",
    "df.shape"
   ]
  },
  {
   "cell_type": "code",
   "execution_count": 380,
   "metadata": {},
   "outputs": [
    {
     "data": {
      "text/plain": [
       "Index(['차량관리번호', '본거지법정동코드', '차종_등록정보', '차대번호_x', '최초등록일자', '차량연식', '제원관리번호',\n",
       "       '배출가스인증번호', '배출가스등급', '차량말소YN', '차명', '차종유형(소분류)', '제작사명', '연료', '등급',\n",
       "       'fuel', '차대번호_y', '차량말소여부', '변경일자', '변경구분코드'],\n",
       "      dtype='object')"
      ]
     },
     "execution_count": 380,
     "metadata": {},
     "output_type": "execute_result"
    }
   ],
   "source": [
    "df.columns"
   ]
  },
  {
   "cell_type": "code",
   "execution_count": 381,
   "metadata": {},
   "outputs": [
    {
     "data": {
      "text/plain": [
       "Index(['차량관리번호', '본거지법정동코드', '차종_등록정보', '차대번호', '최초등록일자', '차량연식', '제원관리번호',\n",
       "       '배출가스인증번호', '배출가스등급', '차량말소YN_등록정보', '차명', '차종유형(소분류)', '제작사명', '연료',\n",
       "       '등급', 'fuel', '차량말소YN_변경이력', '변경일자', '변경구분코드'],\n",
       "      dtype='object')"
      ]
     },
     "execution_count": 381,
     "metadata": {},
     "output_type": "execute_result"
    }
   ],
   "source": [
    "# 31.4s\n",
    "df = df.drop('차대번호_y', axis=1)\n",
    "df = df.rename(columns={'차량말소YN':'차량말소YN_등록정보', '차량말소여부':'차량말소YN_변경이력', '차대번호_x':'차대번호'})\n",
    "df.columns"
   ]
  },
  {
   "attachments": {},
   "cell_type": "markdown",
   "metadata": {},
   "source": [
    "## 3\\. 차량말소(등록과 변경이력) : Y 추출"
   ]
  },
  {
   "cell_type": "code",
   "execution_count": 382,
   "metadata": {},
   "outputs": [
    {
     "data": {
      "text/plain": [
       "(3671025, 19)"
      ]
     },
     "execution_count": 382,
     "metadata": {},
     "output_type": "execute_result"
    }
   ],
   "source": [
    "# 9.3s\n",
    "df = df.loc[(df['차량말소YN_등록정보'] == 'Y') & (df['차량말소YN_변경이력'] == 'Y')].reset_index(drop=True)\n",
    "df.shape"
   ]
  },
  {
   "cell_type": "code",
   "execution_count": 383,
   "metadata": {},
   "outputs": [
    {
     "data": {
      "text/plain": [
       "0"
      ]
     },
     "execution_count": 383,
     "metadata": {},
     "output_type": "execute_result"
    }
   ],
   "source": [
    "df['변경일자'].isnull().sum()"
   ]
  },
  {
   "cell_type": "code",
   "execution_count": 384,
   "metadata": {},
   "outputs": [
    {
     "data": {
      "text/plain": [
       "count    3671025.00\n",
       "mean    20204821.91\n",
       "std         9403.21\n",
       "min     19971111.00\n",
       "25%     20200306.00\n",
       "50%     20201130.00\n",
       "75%     20210818.00\n",
       "max     20220628.00\n",
       "Name: 변경일자, dtype: float64"
      ]
     },
     "execution_count": 384,
     "metadata": {},
     "output_type": "execute_result"
    }
   ],
   "source": [
    "df['변경일자'].describe()"
   ]
  },
  {
   "attachments": {},
   "cell_type": "markdown",
   "metadata": {},
   "source": [
    "## 4\\. 차대번호 중복 제거(최신 변경일자 기준)"
   ]
  },
  {
   "cell_type": "code",
   "execution_count": 385,
   "metadata": {},
   "outputs": [
    {
     "data": {
      "text/plain": [
       "(3642360, 19)"
      ]
     },
     "execution_count": 385,
     "metadata": {},
     "output_type": "execute_result"
    }
   ],
   "source": [
    "# about 13.5s\n",
    "df1 = df.sort_values('변경일자', ascending=False).drop_duplicates('차대번호').reset_index(drop=True)\n",
    "df1.shape"
   ]
  },
  {
   "attachments": {},
   "cell_type": "markdown",
   "metadata": {},
   "source": [
    "## 5\\. 변경일자 2019.01.01 이후만 추출"
   ]
  },
  {
   "cell_type": "code",
   "execution_count": 386,
   "metadata": {},
   "outputs": [
    {
     "data": {
      "text/plain": [
       "(3642251, 19)"
      ]
     },
     "execution_count": 386,
     "metadata": {},
     "output_type": "execute_result"
    }
   ],
   "source": [
    "df1.loc[df1['변경일자'] >= 20190101].shape"
   ]
  },
  {
   "cell_type": "code",
   "execution_count": 387,
   "metadata": {},
   "outputs": [
    {
     "data": {
      "text/plain": [
       "(3642251, 19)"
      ]
     },
     "execution_count": 387,
     "metadata": {},
     "output_type": "execute_result"
    }
   ],
   "source": [
    "# about 1.4s\n",
    "df2 = df1.loc[df1['변경일자'] >= 20190101].reset_index(drop=True)\n",
    "df2.shape"
   ]
  },
  {
   "cell_type": "code",
   "execution_count": 388,
   "metadata": {},
   "outputs": [
    {
     "data": {
      "text/plain": [
       "count    3642251.00\n",
       "mean    20204829.13\n",
       "std         9393.15\n",
       "min     20190108.00\n",
       "25%     20200306.00\n",
       "50%     20201130.00\n",
       "75%     20210818.00\n",
       "max     20220628.00\n",
       "Name: 변경일자, dtype: float64"
      ]
     },
     "execution_count": 388,
     "metadata": {},
     "output_type": "execute_result"
    }
   ],
   "source": [
    "df2['변경일자'].describe()"
   ]
  },
  {
   "attachments": {},
   "cell_type": "markdown",
   "metadata": {},
   "source": [
    "## 6\\. 정보 추가"
   ]
  },
  {
   "attachments": {},
   "cell_type": "markdown",
   "metadata": {},
   "source": [
    "### 6-1\\. 법정동 코드 병합"
   ]
  },
  {
   "cell_type": "code",
   "execution_count": 389,
   "metadata": {},
   "outputs": [
    {
     "data": {
      "text/plain": [
       "Index(['차량관리번호', '본거지법정동코드', '차종_등록정보', '차대번호', '최초등록일자', '차량연식', '제원관리번호',\n",
       "       '배출가스인증번호', '배출가스등급', '차량말소YN_등록정보', '차명', '차종유형(소분류)', '제작사명', '연료',\n",
       "       '등급', 'fuel', '차량말소YN_변경이력', '변경일자', '변경구분코드'],\n",
       "      dtype='object')"
      ]
     },
     "execution_count": 389,
     "metadata": {},
     "output_type": "execute_result"
    }
   ],
   "source": [
    "df2.columns"
   ]
  },
  {
   "cell_type": "code",
   "execution_count": 390,
   "metadata": {},
   "outputs": [
    {
     "data": {
      "text/plain": [
       "Index(['법정동코드', '시도', '시구군', '읍면동', '리', '지역3', '폐지여부', '대기관리권역', '대기관리권역YN'], dtype='object')"
      ]
     },
     "execution_count": 390,
     "metadata": {},
     "output_type": "execute_result"
    }
   ],
   "source": [
    "code.columns"
   ]
  },
  {
   "cell_type": "code",
   "execution_count": 391,
   "metadata": {},
   "outputs": [
    {
     "data": {
      "text/plain": [
       "(3642251, 19)"
      ]
     },
     "execution_count": 391,
     "metadata": {},
     "output_type": "execute_result"
    }
   ],
   "source": [
    "df2.shape"
   ]
  },
  {
   "cell_type": "code",
   "execution_count": 392,
   "metadata": {},
   "outputs": [
    {
     "data": {
      "text/plain": [
       "(3642251, 28)"
      ]
     },
     "execution_count": 392,
     "metadata": {},
     "output_type": "execute_result"
    }
   ],
   "source": [
    "df3 = df2.merge(code, left_on='본거지법정동코드', right_on='법정동코드', how='left')\n",
    "df3.shape"
   ]
  },
  {
   "cell_type": "code",
   "execution_count": 393,
   "metadata": {},
   "outputs": [
    {
     "data": {
      "text/plain": [
       "0"
      ]
     },
     "execution_count": 393,
     "metadata": {},
     "output_type": "execute_result"
    }
   ],
   "source": [
    "df3['시도'].isnull().sum()"
   ]
  },
  {
   "cell_type": "code",
   "execution_count": 394,
   "metadata": {},
   "outputs": [
    {
     "data": {
      "text/plain": [
       "3     용인시 처인구\n",
       "7     성남시 수정구\n",
       "9     수원시 권선구\n",
       "17    천안시 동남구\n",
       "20    용인시 수지구\n",
       "Name: 시구군, dtype: object"
      ]
     },
     "execution_count": 394,
     "metadata": {},
     "output_type": "execute_result"
    }
   ],
   "source": [
    "df3.loc[df3['시구군'].str.split(' ').str.len() != 1, '시구군'].head()"
   ]
  },
  {
   "cell_type": "code",
   "execution_count": 395,
   "metadata": {},
   "outputs": [
    {
     "data": {
      "text/plain": [
       "2193762    NaN\n",
       "Name: 시구군, dtype: object"
      ]
     },
     "execution_count": 395,
     "metadata": {},
     "output_type": "execute_result"
    }
   ],
   "source": [
    "df3['시구군'] = df3['시구군'].str.split(' ').str[0]\n",
    "df3.loc[df3['시구군'].str.split(' ').str.len() != 1, '시구군'].head()"
   ]
  },
  {
   "attachments": {},
   "cell_type": "markdown",
   "metadata": {},
   "source": [
    "### 6-2. 저감장치 부착 정보 추가"
   ]
  },
  {
   "cell_type": "code",
   "execution_count": 396,
   "metadata": {},
   "outputs": [
    {
     "data": {
      "text/plain": [
       "(3642251, 28)"
      ]
     },
     "execution_count": 396,
     "metadata": {},
     "output_type": "execute_result"
    }
   ],
   "source": [
    "df3.shape"
   ]
  },
  {
   "cell_type": "code",
   "execution_count": 397,
   "metadata": {},
   "outputs": [
    {
     "data": {
      "text/plain": [
       "(3642251, 29)"
      ]
     },
     "execution_count": 397,
     "metadata": {},
     "output_type": "execute_result"
    }
   ],
   "source": [
    "df4 = df3.merge(erp1[['차대번호', '저감장치']], on='차대번호', how='left')\n",
    "df4.shape"
   ]
  },
  {
   "cell_type": "code",
   "execution_count": 398,
   "metadata": {},
   "outputs": [
    {
     "data": {
      "text/plain": [
       "저감장치\n",
       "NaN    3583446\n",
       "DPF      58805\n",
       "Name: count, dtype: int64"
      ]
     },
     "execution_count": 398,
     "metadata": {},
     "output_type": "execute_result"
    }
   ],
   "source": [
    "df4['저감장치'].value_counts(dropna=False)"
   ]
  },
  {
   "attachments": {},
   "cell_type": "markdown",
   "metadata": {},
   "source": [
    "## 7\\. 월별 폐차 현황"
   ]
  },
  {
   "cell_type": "code",
   "execution_count": 399,
   "metadata": {},
   "outputs": [
    {
     "data": {
      "text/plain": [
       "(3642251, 29)"
      ]
     },
     "execution_count": 399,
     "metadata": {},
     "output_type": "execute_result"
    }
   ],
   "source": [
    "df4.shape"
   ]
  },
  {
   "cell_type": "code",
   "execution_count": 400,
   "metadata": {},
   "outputs": [
    {
     "data": {
      "text/plain": [
       "Index(['차량관리번호', '본거지법정동코드', '차종_등록정보', '차대번호', '최초등록일자', '차량연식', '제원관리번호',\n",
       "       '배출가스인증번호', '배출가스등급', '차량말소YN_등록정보', '차명', '차종유형(소분류)', '제작사명', '연료',\n",
       "       '등급', 'fuel', '차량말소YN_변경이력', '변경일자', '변경구분코드', '법정동코드', '시도', '시구군',\n",
       "       '읍면동', '리', '지역3', '폐지여부', '대기관리권역', '대기관리권역YN', '저감장치'],\n",
       "      dtype='object')"
      ]
     },
     "execution_count": 400,
     "metadata": {},
     "output_type": "execute_result"
    }
   ],
   "source": [
    "df4.columns"
   ]
  },
  {
   "cell_type": "code",
   "execution_count": 401,
   "metadata": {},
   "outputs": [
    {
     "data": {
      "text/plain": [
       "2193762    NaN\n",
       "Name: 시구군, dtype: object"
      ]
     },
     "execution_count": 401,
     "metadata": {},
     "output_type": "execute_result"
    }
   ],
   "source": [
    "df4.loc[df4['시구군'].str.split(' ').str.len() != 1, '시구군'].head()"
   ]
  },
  {
   "cell_type": "code",
   "execution_count": 402,
   "metadata": {},
   "outputs": [
    {
     "data": {
      "text/plain": [
       "('2019', '01', '01')"
      ]
     },
     "execution_count": 402,
     "metadata": {},
     "output_type": "execute_result"
    }
   ],
   "source": [
    "'20190101'[:4], '20190101'[4:6], '20190101'[6:]"
   ]
  },
  {
   "cell_type": "code",
   "execution_count": 403,
   "metadata": {},
   "outputs": [
    {
     "data": {
      "text/plain": [
       "count    3642251.00\n",
       "mean    20204829.13\n",
       "std         9393.15\n",
       "min     20190108.00\n",
       "25%     20200306.00\n",
       "50%     20201130.00\n",
       "75%     20210818.00\n",
       "max     20220628.00\n",
       "Name: 변경일자, dtype: float64"
      ]
     },
     "execution_count": 403,
     "metadata": {},
     "output_type": "execute_result"
    }
   ],
   "source": [
    "df4['변경일자'].describe()"
   ]
  },
  {
   "cell_type": "code",
   "execution_count": 404,
   "metadata": {},
   "outputs": [],
   "source": [
    "df4['변경일자'] = df4['변경일자'].astype('str')"
   ]
  },
  {
   "cell_type": "code",
   "execution_count": 405,
   "metadata": {},
   "outputs": [
    {
     "data": {
      "text/plain": [
       "0    20220628.0\n",
       "1    20220628.0\n",
       "2    20220628.0\n",
       "3    20220628.0\n",
       "4    20220628.0\n",
       "Name: 변경일자, dtype: object"
      ]
     },
     "execution_count": 405,
     "metadata": {},
     "output_type": "execute_result"
    }
   ],
   "source": [
    "df4['변경일자'].head()"
   ]
  },
  {
   "cell_type": "code",
   "execution_count": 406,
   "metadata": {},
   "outputs": [],
   "source": [
    "df4['변경일자_년'] = df4['변경일자'].str[:4]\n",
    "df4['변경일자_월'] = df4['변경일자'].str[4:6]\n",
    "df4['변경일자_일'] = df4['변경일자'].str[6:8]"
   ]
  },
  {
   "cell_type": "code",
   "execution_count": 407,
   "metadata": {},
   "outputs": [],
   "source": [
    "df4['변경일자_년_월'] = df4['변경일자_년'] + '.' + df4['변경일자_월']"
   ]
  },
  {
   "cell_type": "code",
   "execution_count": 408,
   "metadata": {},
   "outputs": [
    {
     "data": {
      "text/html": [
       "<div>\n",
       "<style scoped>\n",
       "    .dataframe tbody tr th:only-of-type {\n",
       "        vertical-align: middle;\n",
       "    }\n",
       "\n",
       "    .dataframe tbody tr th {\n",
       "        vertical-align: top;\n",
       "    }\n",
       "\n",
       "    .dataframe thead th {\n",
       "        text-align: right;\n",
       "    }\n",
       "</style>\n",
       "<table border=\"1\" class=\"dataframe\">\n",
       "  <thead>\n",
       "    <tr style=\"text-align: right;\">\n",
       "      <th></th>\n",
       "      <th>변경일자</th>\n",
       "      <th>변경일자_년</th>\n",
       "      <th>변경일자_월</th>\n",
       "      <th>변경일자_일</th>\n",
       "      <th>변경일자_년_월</th>\n",
       "    </tr>\n",
       "  </thead>\n",
       "  <tbody>\n",
       "    <tr>\n",
       "      <th>0</th>\n",
       "      <td>20220628.0</td>\n",
       "      <td>2022</td>\n",
       "      <td>06</td>\n",
       "      <td>28</td>\n",
       "      <td>2022.06</td>\n",
       "    </tr>\n",
       "    <tr>\n",
       "      <th>1</th>\n",
       "      <td>20220628.0</td>\n",
       "      <td>2022</td>\n",
       "      <td>06</td>\n",
       "      <td>28</td>\n",
       "      <td>2022.06</td>\n",
       "    </tr>\n",
       "    <tr>\n",
       "      <th>2</th>\n",
       "      <td>20220628.0</td>\n",
       "      <td>2022</td>\n",
       "      <td>06</td>\n",
       "      <td>28</td>\n",
       "      <td>2022.06</td>\n",
       "    </tr>\n",
       "    <tr>\n",
       "      <th>3</th>\n",
       "      <td>20220628.0</td>\n",
       "      <td>2022</td>\n",
       "      <td>06</td>\n",
       "      <td>28</td>\n",
       "      <td>2022.06</td>\n",
       "    </tr>\n",
       "    <tr>\n",
       "      <th>4</th>\n",
       "      <td>20220628.0</td>\n",
       "      <td>2022</td>\n",
       "      <td>06</td>\n",
       "      <td>28</td>\n",
       "      <td>2022.06</td>\n",
       "    </tr>\n",
       "  </tbody>\n",
       "</table>\n",
       "</div>"
      ],
      "text/plain": [
       "         변경일자 변경일자_년 변경일자_월 변경일자_일 변경일자_년_월\n",
       "0  20220628.0   2022     06     28  2022.06\n",
       "1  20220628.0   2022     06     28  2022.06\n",
       "2  20220628.0   2022     06     28  2022.06\n",
       "3  20220628.0   2022     06     28  2022.06\n",
       "4  20220628.0   2022     06     28  2022.06"
      ]
     },
     "execution_count": 408,
     "metadata": {},
     "output_type": "execute_result"
    }
   ],
   "source": [
    "df4[['변경일자', '변경일자_년', '변경일자_월', '변경일자_일', '변경일자_년_월']].head()"
   ]
  },
  {
   "cell_type": "code",
   "execution_count": 409,
   "metadata": {},
   "outputs": [],
   "source": [
    "df4['변경일자'] = df4['변경일자_년'] + df4['변경일자_월'] + df4['변경일자_일']\n",
    "df4['변경일자'] = df4['변경일자'].astype('int')"
   ]
  },
  {
   "cell_type": "code",
   "execution_count": 410,
   "metadata": {},
   "outputs": [
    {
     "data": {
      "text/plain": [
       "0    20220628\n",
       "1    20220628\n",
       "2    20220628\n",
       "3    20220628\n",
       "4    20220628\n",
       "Name: 변경일자, dtype: int32"
      ]
     },
     "execution_count": 410,
     "metadata": {},
     "output_type": "execute_result"
    }
   ],
   "source": [
    "df4['변경일자'].head()"
   ]
  },
  {
   "cell_type": "code",
   "execution_count": 411,
   "metadata": {},
   "outputs": [],
   "source": [
    "df4[['변경일자_년', '변경일자_월', '변경일자_일']] = df4[['변경일자_년', '변경일자_월', '변경일자_일']].astype('int')"
   ]
  },
  {
   "cell_type": "code",
   "execution_count": 412,
   "metadata": {},
   "outputs": [
    {
     "data": {
      "text/html": [
       "<div>\n",
       "<style scoped>\n",
       "    .dataframe tbody tr th:only-of-type {\n",
       "        vertical-align: middle;\n",
       "    }\n",
       "\n",
       "    .dataframe tbody tr th {\n",
       "        vertical-align: top;\n",
       "    }\n",
       "\n",
       "    .dataframe thead th {\n",
       "        text-align: right;\n",
       "    }\n",
       "</style>\n",
       "<table border=\"1\" class=\"dataframe\">\n",
       "  <thead>\n",
       "    <tr style=\"text-align: right;\">\n",
       "      <th></th>\n",
       "      <th>변경일자</th>\n",
       "      <th>변경일자_년</th>\n",
       "      <th>변경일자_월</th>\n",
       "      <th>변경일자_일</th>\n",
       "      <th>변경일자_년_월</th>\n",
       "    </tr>\n",
       "  </thead>\n",
       "  <tbody>\n",
       "    <tr>\n",
       "      <th>0</th>\n",
       "      <td>20220628</td>\n",
       "      <td>2022</td>\n",
       "      <td>6</td>\n",
       "      <td>28</td>\n",
       "      <td>2022.06</td>\n",
       "    </tr>\n",
       "    <tr>\n",
       "      <th>1</th>\n",
       "      <td>20220628</td>\n",
       "      <td>2022</td>\n",
       "      <td>6</td>\n",
       "      <td>28</td>\n",
       "      <td>2022.06</td>\n",
       "    </tr>\n",
       "    <tr>\n",
       "      <th>2</th>\n",
       "      <td>20220628</td>\n",
       "      <td>2022</td>\n",
       "      <td>6</td>\n",
       "      <td>28</td>\n",
       "      <td>2022.06</td>\n",
       "    </tr>\n",
       "    <tr>\n",
       "      <th>3</th>\n",
       "      <td>20220628</td>\n",
       "      <td>2022</td>\n",
       "      <td>6</td>\n",
       "      <td>28</td>\n",
       "      <td>2022.06</td>\n",
       "    </tr>\n",
       "    <tr>\n",
       "      <th>4</th>\n",
       "      <td>20220628</td>\n",
       "      <td>2022</td>\n",
       "      <td>6</td>\n",
       "      <td>28</td>\n",
       "      <td>2022.06</td>\n",
       "    </tr>\n",
       "  </tbody>\n",
       "</table>\n",
       "</div>"
      ],
      "text/plain": [
       "       변경일자  변경일자_년  변경일자_월  변경일자_일 변경일자_년_월\n",
       "0  20220628    2022       6      28  2022.06\n",
       "1  20220628    2022       6      28  2022.06\n",
       "2  20220628    2022       6      28  2022.06\n",
       "3  20220628    2022       6      28  2022.06\n",
       "4  20220628    2022       6      28  2022.06"
      ]
     },
     "execution_count": 412,
     "metadata": {},
     "output_type": "execute_result"
    }
   ],
   "source": [
    "df4[['변경일자', '변경일자_년', '변경일자_월', '변경일자_일', '변경일자_년_월']].head()"
   ]
  },
  {
   "cell_type": "code",
   "execution_count": 413,
   "metadata": {},
   "outputs": [
    {
     "data": {
      "text/plain": [
       "0"
      ]
     },
     "execution_count": 413,
     "metadata": {},
     "output_type": "execute_result"
    }
   ],
   "source": [
    "df4['변경일자'].isnull().sum()"
   ]
  },
  {
   "cell_type": "code",
   "execution_count": 414,
   "metadata": {},
   "outputs": [
    {
     "data": {
      "text/plain": [
       "Index(['차량관리번호', '본거지법정동코드', '차종_등록정보', '차대번호', '최초등록일자', '차량연식', '제원관리번호',\n",
       "       '배출가스인증번호', '배출가스등급', '차량말소YN_등록정보', '차명', '차종유형(소분류)', '제작사명', '연료',\n",
       "       '등급', 'fuel', '차량말소YN_변경이력', '변경일자', '변경구분코드', '법정동코드', '시도', '시구군',\n",
       "       '읍면동', '리', '지역3', '폐지여부', '대기관리권역', '대기관리권역YN', '저감장치', '변경일자_년',\n",
       "       '변경일자_월', '변경일자_일', '변경일자_년_월'],\n",
       "      dtype='object')"
      ]
     },
     "execution_count": 414,
     "metadata": {},
     "output_type": "execute_result"
    }
   ],
   "source": [
    "df4.columns"
   ]
  },
  {
   "cell_type": "code",
   "execution_count": 415,
   "metadata": {},
   "outputs": [
    {
     "data": {
      "text/plain": [
       "array(['X', 2.0, 5.0, 3.0, 4.0, 1.0, nan], dtype=object)"
      ]
     },
     "execution_count": 415,
     "metadata": {},
     "output_type": "execute_result"
    }
   ],
   "source": [
    "df4['등급'].unique()"
   ]
  },
  {
   "cell_type": "code",
   "execution_count": 416,
   "metadata": {},
   "outputs": [
    {
     "data": {
      "text/plain": [
       "(3642251, 33)"
      ]
     },
     "execution_count": 416,
     "metadata": {},
     "output_type": "execute_result"
    }
   ],
   "source": [
    "df4.shape"
   ]
  },
  {
   "attachments": {},
   "cell_type": "markdown",
   "metadata": {},
   "source": [
    "### [출력] 전처리 완료 파일"
   ]
  },
  {
   "cell_type": "code",
   "execution_count": 417,
   "metadata": {},
   "outputs": [
    {
     "data": {
      "text/plain": [
       "'2023.06.13'"
      ]
     },
     "execution_count": 417,
     "metadata": {},
     "output_type": "execute_result"
    }
   ],
   "source": [
    "today_date = datetime.today().strftime(\"%Y.%m.%d\")\n",
    "today_date"
   ]
  },
  {
   "cell_type": "code",
   "execution_count": 418,
   "metadata": {},
   "outputs": [],
   "source": [
    "# about 42.2s\n",
    "df4.to_csv(os.path.join(ods_fold, f'말소정보_전처리완료.csv'), index=False)"
   ]
  },
  {
   "cell_type": "code",
   "execution_count": 419,
   "metadata": {},
   "outputs": [
    {
     "data": {
      "text/plain": [
       "array(['경유', '휘발유', 'LPG(액화석유가스)', '휘발유 하이브리드', nan, 'CNG(압축천연가스)', '전기',\n",
       "       '수소', 'LPG 하이브리드', '경유 하이브리드', '기타연료', 'CNG 하이브리드', '알코올', '태양열'],\n",
       "      dtype=object)"
      ]
     },
     "execution_count": 419,
     "metadata": {},
     "output_type": "execute_result"
    }
   ],
   "source": [
    "df4['연료'].unique()"
   ]
  },
  {
   "attachments": {},
   "cell_type": "markdown",
   "metadata": {},
   "source": [
    "# [로드] 말소정보_전처리완료"
   ]
  },
  {
   "cell_type": "code",
   "execution_count": 16,
   "metadata": {},
   "outputs": [
    {
     "name": "stdout",
     "output_type": "stream",
     "text": [
      "<class 'pandas.core.frame.DataFrame'>\n",
      "RangeIndex: 3642251 entries, 0 to 3642250\n",
      "Data columns (total 33 columns):\n",
      " #   Column       Dtype  \n",
      "---  ------       -----  \n",
      " 0   차량관리번호       object \n",
      " 1   본거지법정동코드     int64  \n",
      " 2   차종_등록정보      object \n",
      " 3   차대번호         object \n",
      " 4   최초등록일자       int64  \n",
      " 5   차량연식         int64  \n",
      " 6   제원관리번호       object \n",
      " 7   배출가스인증번호     object \n",
      " 8   배출가스등급       object \n",
      " 9   차량말소YN_등록정보  object \n",
      " 10  차명           object \n",
      " 11  차종유형(소분류)    object \n",
      " 12  제작사명         object \n",
      " 13  연료           object \n",
      " 14  등급           object \n",
      " 15  fuel         object \n",
      " 16  차량말소YN_변경이력  object \n",
      " 17  변경일자         int64  \n",
      " 18  변경구분코드       float64\n",
      " 19  법정동코드        int64  \n",
      " 20  시도           object \n",
      " 21  시구군          object \n",
      " 22  읍면동          object \n",
      " 23  리            object \n",
      " 24  지역3          float64\n",
      " 25  폐지여부         object \n",
      " 26  대기관리권역       object \n",
      " 27  대기관리권역YN     object \n",
      " 28  저감장치         object \n",
      " 29  변경일자_년       int64  \n",
      " 30  변경일자_월       int64  \n",
      " 31  변경일자_일       int64  \n",
      " 32  변경일자_년_월     float64\n",
      "dtypes: float64(3), int64(8), object(22)\n",
      "memory usage: 917.0+ MB\n"
     ]
    }
   ],
   "source": [
    "# about 24.0s\n",
    "name = '말소정보_전처리완료'\n",
    "file_name = f'{name}.csv'\n",
    "df4 = pd.read_csv(os.path.join(ods_fold, file_name), low_memory=False)\n",
    "df4.info()"
   ]
  },
  {
   "attachments": {},
   "cell_type": "markdown",
   "metadata": {},
   "source": [
    "### [출력] 전체 말소 현황"
   ]
  },
  {
   "cell_type": "code",
   "execution_count": 17,
   "metadata": {},
   "outputs": [
    {
     "data": {
      "text/plain": [
       "Index(['차량관리번호', '본거지법정동코드', '차종_등록정보', '차대번호', '최초등록일자', '차량연식', '제원관리번호',\n",
       "       '배출가스인증번호', '배출가스등급', '차량말소YN_등록정보', '차명', '차종유형(소분류)', '제작사명', '연료',\n",
       "       '등급', 'fuel', '차량말소YN_변경이력', '변경일자', '변경구분코드', '법정동코드', '시도', '시구군',\n",
       "       '읍면동', '리', '지역3', '폐지여부', '대기관리권역', '대기관리권역YN', '저감장치', '변경일자_년',\n",
       "       '변경일자_월', '변경일자_일', '변경일자_년_월'],\n",
       "      dtype='object')"
      ]
     },
     "execution_count": 17,
     "metadata": {},
     "output_type": "execute_result"
    }
   ],
   "source": [
    "df4.columns"
   ]
  },
  {
   "cell_type": "code",
   "execution_count": 18,
   "metadata": {},
   "outputs": [
    {
     "data": {
      "text/plain": [
       "0    20220628\n",
       "1    20220628\n",
       "2    20220628\n",
       "3    20220628\n",
       "4    20220628\n",
       "Name: 변경일자, dtype: int64"
      ]
     },
     "execution_count": 18,
     "metadata": {},
     "output_type": "execute_result"
    }
   ],
   "source": [
    "df4['변경일자'].head()"
   ]
  },
  {
   "cell_type": "code",
   "execution_count": 19,
   "metadata": {},
   "outputs": [
    {
     "data": {
      "text/plain": [
       "Index(['본거지법정동코드', '차대번호', '변경일자', '등급', '연료'], dtype='object')"
      ]
     },
     "execution_count": 19,
     "metadata": {},
     "output_type": "execute_result"
    }
   ],
   "source": [
    "df5 = df4[[\n",
    "    '본거지법정동코드',\n",
    "    '차대번호', \n",
    "    '변경일자', \n",
    "    '등급', \n",
    "    '연료'\n",
    "    ]]\n",
    "df5.columns"
   ]
  },
  {
   "cell_type": "code",
   "execution_count": 183,
   "metadata": {},
   "outputs": [],
   "source": [
    "chc_col = {\n",
    "    '본거지법정동코드':'BSPL_STDG_CD',\n",
    "    '차대번호':'VIN', \n",
    "    '변경일자':'CHG_YMD', \n",
    "    '등급':'EXHST_GAS_GRD_CD', \n",
    "    '연료':'FUEL_CD', \n",
    "}"
   ]
  },
  {
   "cell_type": "code",
   "execution_count": 184,
   "metadata": {},
   "outputs": [
    {
     "data": {
      "text/plain": [
       "Index(['BSPL_STDG_CD', 'VIN', 'CHG_YMD', 'EXHST_GAS_GRD_CD', 'FUEL_CD'], dtype='object')"
      ]
     },
     "execution_count": 184,
     "metadata": {},
     "output_type": "execute_result"
    }
   ],
   "source": [
    "df6 = df5.rename(columns=chc_col)\n",
    "df6.columns"
   ]
  },
  {
   "cell_type": "code",
   "execution_count": 185,
   "metadata": {},
   "outputs": [
    {
     "data": {
      "text/plain": [
       "(3642251, 5)"
      ]
     },
     "execution_count": 185,
     "metadata": {},
     "output_type": "execute_result"
    }
   ],
   "source": [
    "df6.shape"
   ]
  },
  {
   "cell_type": "code",
   "execution_count": 186,
   "metadata": {},
   "outputs": [
    {
     "data": {
      "text/plain": [
       "'2023.06.13_PM.07.28.22'"
      ]
     },
     "execution_count": 186,
     "metadata": {},
     "output_type": "execute_result"
    }
   ],
   "source": [
    "today_date = datetime.today().strftime(\"%Y.%m.%d_%p.%I.%M.%S\")\n",
    "today_date"
   ]
  },
  {
   "cell_type": "code",
   "execution_count": 187,
   "metadata": {},
   "outputs": [],
   "source": [
    "# about 8.7s\n",
    "file_name = f'BD3-1_말소차량.csv'\n",
    "df6.to_csv(os.path.join(df3_fold, file_name), index=False)"
   ]
  },
  {
   "attachments": {},
   "cell_type": "markdown",
   "metadata": {},
   "source": [
    "# 코드 마지막"
   ]
  }
 ],
 "metadata": {
  "kernelspec": {
   "display_name": "base",
   "language": "python",
   "name": "python3"
  },
  "language_info": {
   "codemirror_mode": {
    "name": "ipython",
    "version": 3
   },
   "file_extension": ".py",
   "mimetype": "text/x-python",
   "name": "python",
   "nbconvert_exporter": "python",
   "pygments_lexer": "ipython3",
   "version": "3.9.13"
  },
  "orig_nbformat": 4
 },
 "nbformat": 4,
 "nbformat_minor": 2
}
