{
 "cells": [
  {
   "attachments": {},
   "cell_type": "markdown",
   "metadata": {},
   "source": [
    "# Library"
   ]
  },
  {
   "cell_type": "code",
   "execution_count": 1,
   "metadata": {},
   "outputs": [],
   "source": [
    "import pandas as pd\n",
    "import os"
   ]
  },
  {
   "attachments": {},
   "cell_type": "markdown",
   "metadata": {},
   "source": [
    "# folder"
   ]
  },
  {
   "cell_type": "code",
   "execution_count": 2,
   "metadata": {},
   "outputs": [],
   "source": [
    "ods_fold = 'D:/data/big2/ODS'"
   ]
  },
  {
   "attachments": {},
   "cell_type": "markdown",
   "metadata": {},
   "source": [
    "## 등록정보"
   ]
  },
  {
   "cell_type": "code",
   "execution_count": 3,
   "metadata": {},
   "outputs": [],
   "source": [
    "# about 8m 39.5s\n",
    "name = '[ODS]등록정보&제원정보(2022.12.28)'\n",
    "file_name = f'{name}.csv'\n",
    "df = pd.read_csv(os.path.join(ods_fold, file_name), low_memory=False, encoding='cp949')\n",
    "df.info()"
   ]
  },
  {
   "cell_type": "code",
   "execution_count": null,
   "metadata": {},
   "outputs": [
    {
     "data": {
      "text/plain": [
       "Index(['차량관리번호', '차량등록번호', '본거지법정동코드', '소유자구분', '차종_등록정보', '용도', '현재회원번호',\n",
       "       '차대번호', '최초등록일자', '차량연식', '차량제작일자', '배출가스검사유효일자', '제원관리번호', '배출가스인증번호',\n",
       "       '배출가스등급', '저공해조치YN(미사용)', '저공해조치종류', '저공해조치구조변경YN', '차량등록번호숫자정보',\n",
       "       '차량말소YN', '최초회원번호', '취득일자', '취득금액', '생성일시_등록정보', '수정일시_등록정보', '차명',\n",
       "       '차종_제원정보', '차종분류', '차종유형(소분류)', '자동차형식', '제작사명', '연료', '엔진형식', '공차중량',\n",
       "       '총중량', '적재중량', '엔진출력', '배기량', '승차인원', '차량길이', '차량너비', '차량높이', '원산지명',\n",
       "       '삭제YN', '승인일자', '구동형식', '변속기종류', '생성일시_제원정보', '수정일시_제원정보'],\n",
       "      dtype='object')"
      ]
     },
     "execution_count": 6,
     "metadata": {},
     "output_type": "execute_result"
    }
   ],
   "source": [
    "df.columns"
   ]
  },
  {
   "cell_type": "code",
   "execution_count": null,
   "metadata": {},
   "outputs": [
    {
     "data": {
      "text/html": [
       "<div>\n",
       "<style scoped>\n",
       "    .dataframe tbody tr th:only-of-type {\n",
       "        vertical-align: middle;\n",
       "    }\n",
       "\n",
       "    .dataframe tbody tr th {\n",
       "        vertical-align: top;\n",
       "    }\n",
       "\n",
       "    .dataframe thead th {\n",
       "        text-align: right;\n",
       "    }\n",
       "</style>\n",
       "<table border=\"1\" class=\"dataframe\">\n",
       "  <thead>\n",
       "    <tr style=\"text-align: right;\">\n",
       "      <th></th>\n",
       "      <th>차대번호</th>\n",
       "      <th>차량등록번호</th>\n",
       "      <th>배출가스인증번호</th>\n",
       "      <th>배출가스등급</th>\n",
       "      <th>차명</th>\n",
       "      <th>자동차형식</th>\n",
       "      <th>엔진형식</th>\n",
       "      <th>연료</th>\n",
       "      <th>차량연식</th>\n",
       "      <th>용도</th>\n",
       "      <th>차종_등록정보</th>\n",
       "      <th>차종_제원정보</th>\n",
       "    </tr>\n",
       "  </thead>\n",
       "  <tbody>\n",
       "    <tr>\n",
       "      <th>20466723</th>\n",
       "      <td>KMHE241CBJA417701</td>\n",
       "      <td>998무2907</td>\n",
       "      <td>HMY-HD-14-09</td>\n",
       "      <td>2</td>\n",
       "      <td>쏘나타 (SONATA) 순찰차</td>\n",
       "      <td>LF4CBF-GP</td>\n",
       "      <td>G4ND</td>\n",
       "      <td>휘발유</td>\n",
       "      <td>2018</td>\n",
       "      <td>관용</td>\n",
       "      <td>승용</td>\n",
       "      <td>승용</td>\n",
       "    </tr>\n",
       "  </tbody>\n",
       "</table>\n",
       "</div>"
      ],
      "text/plain": [
       "                       차대번호    차량등록번호      배출가스인증번호 배출가스등급                차명  \\\n",
       "20466723  KMHE241CBJA417701  998무2907  HMY-HD-14-09      2  쏘나타 (SONATA) 순찰차   \n",
       "\n",
       "              자동차형식  엔진형식   연료  차량연식  용도 차종_등록정보 차종_제원정보  \n",
       "20466723  LF4CBF-GP  G4ND  휘발유  2018  관용      승용      승용  "
      ]
     },
     "execution_count": 14,
     "metadata": {},
     "output_type": "execute_result"
    }
   ],
   "source": [
    "df.loc[df['차량등록번호'] == '998무2907', ['차대번호', '차량등록번호' , '배출가스인증번호', '배출가스등급', '차명', '자동차형식', '엔진형식', '연료', '차량연식', '용도', '차종_등록정보', '차종_제원정보']]"
   ]
  },
  {
   "attachments": {},
   "cell_type": "markdown",
   "metadata": {},
   "source": [
    "# result 확인"
   ]
  },
  {
   "cell_type": "code",
   "execution_count": 5,
   "metadata": {},
   "outputs": [],
   "source": [
    "raw_fold = 'D:/data/big2/BD1/raw'"
   ]
  },
  {
   "cell_type": "code",
   "execution_count": 6,
   "metadata": {},
   "outputs": [
    {
     "name": "stdout",
     "output_type": "stream",
     "text": [
      "<class 'pandas.core.frame.DataFrame'>\n",
      "RangeIndex: 1502235 entries, 0 to 1502234\n",
      "Data columns (total 44 columns):\n",
      " #   Column         Non-Null Count    Dtype  \n",
      "---  ------         --------------    -----  \n",
      " 0   차대번호           1502235 non-null  object \n",
      " 1   차량번호           1502235 non-null  object \n",
      " 2   제원관리번호         1502235 non-null  object \n",
      " 3   차종             1502235 non-null  object \n",
      " 4   용도             1502235 non-null  object \n",
      " 5   최초등록일          1502235 non-null  int64  \n",
      " 6   연식             1502235 non-null  int64  \n",
      " 7   제작일자           1335178 non-null  float64\n",
      " 8   검사유효일          1502223 non-null  float64\n",
      " 9   배출가스인증번호       1384783 non-null  object \n",
      " 10  등급             1502235 non-null  int64  \n",
      " 11  차명             1502235 non-null  object \n",
      " 12  차종분류           1502235 non-null  object \n",
      " 13  차종유형           1502235 non-null  object \n",
      " 14  자동차형식          1501958 non-null  object \n",
      " 15  제작사명           1492590 non-null  object \n",
      " 16  연료             1502235 non-null  object \n",
      " 17  엔진형식           1500400 non-null  object \n",
      " 18  총중량            1502234 non-null  float64\n",
      " 19  적재중량           1501728 non-null  float64\n",
      " 20  엔진출력           1501882 non-null  object \n",
      " 21  배기량            1502231 non-null  float64\n",
      " 22  법정동코드          1502235 non-null  int64  \n",
      " 23  시도명            1502235 non-null  object \n",
      " 24  시군구명           1502235 non-null  object \n",
      " 25  소유자구분          1502235 non-null  object \n",
      " 26  말소여부           1502235 non-null  object \n",
      " 27  일치유무           1153813 non-null  object \n",
      " 28  인증번호 수정 유무     1151141 non-null  object \n",
      " 29  배인번호_수정        1153813 non-null  object \n",
      " 30  등급_수정          1502235 non-null  float64\n",
      " 31  DPF유무_수정       1153813 non-null  object \n",
      " 32  배출가스           1151141 non-null  object \n",
      " 33  등급2            1151141 non-null  object \n",
      " 34  DPF            1144315 non-null  object \n",
      " 35  비고             46494 non-null    object \n",
      " 36  Grade          1497711 non-null  object \n",
      " 37  시군구명_수정        1494113 non-null  object \n",
      " 38  dong_code      1502235 non-null  int64  \n",
      " 39  E_CO_total     1497708 non-null  float64\n",
      " 40  E_HC_total     1497708 non-null  float64\n",
      " 41  E_NOx_total    1497708 non-null  float64\n",
      " 42  E_PM10_total   1497708 non-null  float64\n",
      " 43  E_PM2_5_total  1497708 non-null  float64\n",
      "dtypes: float64(11), int64(5), object(28)\n",
      "memory usage: 504.3+ MB\n"
     ]
    }
   ],
   "source": [
    "# about \n",
    "name = 'result(전체)_CAPSS_배출량(Grade추가)(dong_code추가)(2023.05.08_PM.04.42.03)'\n",
    "file_name = f'{name}.csv'\n",
    "df = pd.read_csv(os.path.join(raw_fold, file_name), low_memory=False)\n",
    "df.info()"
   ]
  },
  {
   "cell_type": "code",
   "execution_count": 7,
   "metadata": {},
   "outputs": [
    {
     "data": {
      "text/plain": [
       "Index(['차대번호', '차량번호', '제원관리번호', '차종', '용도', '최초등록일', '연식', '제작일자', '검사유효일',\n",
       "       '배출가스인증번호', '등급', '차명', '차종분류', '차종유형', '자동차형식', '제작사명', '연료', '엔진형식',\n",
       "       '총중량', '적재중량', '엔진출력', '배기량', '법정동코드', '시도명', '시군구명', '소유자구분', '말소여부',\n",
       "       '일치유무', '인증번호 수정 유무', '배인번호_수정', '등급_수정', 'DPF유무_수정', '배출가스', '등급2',\n",
       "       'DPF', '비고', 'Grade', '시군구명_수정', 'dong_code', 'E_CO_total',\n",
       "       'E_HC_total', 'E_NOx_total', 'E_PM10_total', 'E_PM2_5_total'],\n",
       "      dtype='object')"
      ]
     },
     "execution_count": 7,
     "metadata": {},
     "output_type": "execute_result"
    }
   ],
   "source": [
    "df.columns"
   ]
  },
  {
   "cell_type": "code",
   "execution_count": 8,
   "metadata": {},
   "outputs": [
    {
     "data": {
      "text/plain": [
       "(118, 44)"
      ]
     },
     "execution_count": 8,
     "metadata": {},
     "output_type": "execute_result"
    }
   ],
   "source": [
    "df.loc[df['배인번호_수정'] == '5MY-AD-13-07'].shape"
   ]
  },
  {
   "cell_type": "code",
   "execution_count": 9,
   "metadata": {},
   "outputs": [
    {
     "data": {
      "text/plain": [
       "(51, 44)"
      ]
     },
     "execution_count": 9,
     "metadata": {},
     "output_type": "execute_result"
    }
   ],
   "source": [
    "df.loc[df['배인번호_수정'] == '5MY-AD-13-13'].shape"
   ]
  },
  {
   "cell_type": "code",
   "execution_count": 10,
   "metadata": {},
   "outputs": [
    {
     "data": {
      "text/plain": [
       "(493, 44)"
      ]
     },
     "execution_count": 10,
     "metadata": {},
     "output_type": "execute_result"
    }
   ],
   "source": [
    "df.loc[df['배인번호_수정'] == '6MY-AD-13-11'].shape"
   ]
  },
  {
   "cell_type": "code",
   "execution_count": 11,
   "metadata": {},
   "outputs": [
    {
     "data": {
      "text/plain": [
       "(565, 44)"
      ]
     },
     "execution_count": 11,
     "metadata": {},
     "output_type": "execute_result"
    }
   ],
   "source": [
    "df.loc[df['배인번호_수정'] == '7MY-AD-13-01'].shape"
   ]
  },
  {
   "cell_type": "code",
   "execution_count": 12,
   "metadata": {},
   "outputs": [
    {
     "data": {
      "text/plain": [
       "(26, 44)"
      ]
     },
     "execution_count": 12,
     "metadata": {},
     "output_type": "execute_result"
    }
   ],
   "source": [
    "df.loc[df['배인번호_수정'] == '7MY-AD-13-05'].shape"
   ]
  },
  {
   "cell_type": "code",
   "execution_count": 13,
   "metadata": {},
   "outputs": [
    {
     "data": {
      "text/plain": [
       "(207, 44)"
      ]
     },
     "execution_count": 13,
     "metadata": {},
     "output_type": "execute_result"
    }
   ],
   "source": [
    "df.loc[df['배인번호_수정'] == '7MY-AD-13-06'].shape"
   ]
  },
  {
   "cell_type": "code",
   "execution_count": 14,
   "metadata": {},
   "outputs": [
    {
     "data": {
      "text/plain": [
       "(273, 44)"
      ]
     },
     "execution_count": 14,
     "metadata": {},
     "output_type": "execute_result"
    }
   ],
   "source": [
    "df.loc[df['배인번호_수정'] == '9MY-JL-14-4'].shape"
   ]
  },
  {
   "cell_type": "code",
   "execution_count": 15,
   "metadata": {},
   "outputs": [
    {
     "data": {
      "text/plain": [
       "(27866, 44)"
      ]
     },
     "execution_count": 15,
     "metadata": {},
     "output_type": "execute_result"
    }
   ],
   "source": [
    "df.loc[df['배출가스인증번호'] == '5MY-HD-24-59'].shape"
   ]
  },
  {
   "cell_type": "code",
   "execution_count": 16,
   "metadata": {},
   "outputs": [
    {
     "data": {
      "text/plain": [
       "(27698, 44)"
      ]
     },
     "execution_count": 16,
     "metadata": {},
     "output_type": "execute_result"
    }
   ],
   "source": [
    "df.loc[df['배인번호_수정'] == '5MY-HD-24-59'].shape"
   ]
  },
  {
   "cell_type": "code",
   "execution_count": 17,
   "metadata": {},
   "outputs": [
    {
     "data": {
      "text/plain": [
       "168"
      ]
     },
     "execution_count": 17,
     "metadata": {},
     "output_type": "execute_result"
    }
   ],
   "source": [
    "df.loc[df['배출가스인증번호'] == '5MY-HD-24-59'].shape[0] - df.loc[df['배인번호_수정'] == '5MY-HD-24-59'].shape[0]"
   ]
  },
  {
   "cell_type": "code",
   "execution_count": 18,
   "metadata": {},
   "outputs": [
    {
     "data": {
      "text/plain": [
       "(313, 44)"
      ]
     },
     "execution_count": 18,
     "metadata": {},
     "output_type": "execute_result"
    }
   ],
   "source": [
    "df.loc[df['배인번호_수정'] == '8MY-SY-13-14'].shape"
   ]
  },
  {
   "cell_type": "code",
   "execution_count": 19,
   "metadata": {},
   "outputs": [
    {
     "data": {
      "text/plain": [
       "(2, 44)"
      ]
     },
     "execution_count": 19,
     "metadata": {},
     "output_type": "execute_result"
    }
   ],
   "source": [
    "df.loc[df['배인번호_수정'] == 'CMY-VTK-14-01'].shape"
   ]
  },
  {
   "cell_type": "code",
   "execution_count": 20,
   "metadata": {},
   "outputs": [
    {
     "data": {
      "text/plain": [
       "(24, 44)"
      ]
     },
     "execution_count": 20,
     "metadata": {},
     "output_type": "execute_result"
    }
   ],
   "source": [
    "df.loc[df['배인번호_수정'] == 'CMY-VTK-14-02'].shape"
   ]
  },
  {
   "cell_type": "code",
   "execution_count": 21,
   "metadata": {},
   "outputs": [
    {
     "data": {
      "text/plain": [
       "(1780, 44)"
      ]
     },
     "execution_count": 21,
     "metadata": {},
     "output_type": "execute_result"
    }
   ],
   "source": [
    "df.loc[df['배인번호_수정'] == 'FMY-VTK-14-1'].shape"
   ]
  },
  {
   "cell_type": "code",
   "execution_count": 22,
   "metadata": {},
   "outputs": [
    {
     "data": {
      "text/plain": [
       "(87, 44)"
      ]
     },
     "execution_count": 22,
     "metadata": {},
     "output_type": "execute_result"
    }
   ],
   "source": [
    "df.loc[df['배인번호_수정'] == 'FMY-VTK-14-2'].shape"
   ]
  },
  {
   "cell_type": "code",
   "execution_count": 23,
   "metadata": {},
   "outputs": [
    {
     "data": {
      "text/plain": [
       "(76, 44)"
      ]
     },
     "execution_count": 23,
     "metadata": {},
     "output_type": "execute_result"
    }
   ],
   "source": [
    "df.loc[df['배인번호_수정'] == 'FMY-VTK-14-3'].shape"
   ]
  },
  {
   "cell_type": "code",
   "execution_count": 24,
   "metadata": {},
   "outputs": [
    {
     "data": {
      "text/plain": [
       "(49, 44)"
      ]
     },
     "execution_count": 24,
     "metadata": {},
     "output_type": "execute_result"
    }
   ],
   "source": [
    "df.loc[df['배인번호_수정'] == 'FMY-VTK-14-4'].shape"
   ]
  },
  {
   "cell_type": "code",
   "execution_count": 25,
   "metadata": {},
   "outputs": [
    {
     "data": {
      "text/plain": [
       "(148, 44)"
      ]
     },
     "execution_count": 25,
     "metadata": {},
     "output_type": "execute_result"
    }
   ],
   "source": [
    "df.loc[df['배인번호_수정'] == '7MY-DK-24-04'].shape"
   ]
  },
  {
   "cell_type": "code",
   "execution_count": 26,
   "metadata": {},
   "outputs": [
    {
     "data": {
      "text/plain": [
       "(57, 44)"
      ]
     },
     "execution_count": 26,
     "metadata": {},
     "output_type": "execute_result"
    }
   ],
   "source": [
    "df.loc[df['배출가스인증번호'] == '7MY-DB-24-42'].shape"
   ]
  },
  {
   "cell_type": "code",
   "execution_count": 27,
   "metadata": {},
   "outputs": [
    {
     "data": {
      "text/plain": [
       "(44, 44)"
      ]
     },
     "execution_count": 27,
     "metadata": {},
     "output_type": "execute_result"
    }
   ],
   "source": [
    "df.loc[df['배인번호_수정'] == '7MY-DB-24-42'].shape"
   ]
  },
  {
   "cell_type": "code",
   "execution_count": 28,
   "metadata": {},
   "outputs": [
    {
     "data": {
      "text/plain": [
       "13"
      ]
     },
     "execution_count": 28,
     "metadata": {},
     "output_type": "execute_result"
    }
   ],
   "source": [
    "df.loc[df['배출가스인증번호'] == '7MY-DB-24-42'].shape[0] - df.loc[df['배인번호_수정'] == '7MY-DB-24-42'].shape[0]"
   ]
  },
  {
   "cell_type": "code",
   "execution_count": 29,
   "metadata": {},
   "outputs": [
    {
     "data": {
      "text/plain": [
       "등급_수정\n",
       "4.0    1497711\n",
       "3.0       4397\n",
       "5.0        127\n",
       "Name: count, dtype: int64"
      ]
     },
     "execution_count": 29,
     "metadata": {},
     "output_type": "execute_result"
    }
   ],
   "source": [
    "df['등급_수정'].value_counts(dropna=False)"
   ]
  },
  {
   "attachments": {},
   "cell_type": "markdown",
   "metadata": {},
   "source": [
    "## 5등급으로 변경"
   ]
  },
  {
   "cell_type": "code",
   "execution_count": 30,
   "metadata": {},
   "outputs": [
    {
     "data": {
      "text/plain": [
       "(24, 3)"
      ]
     },
     "execution_count": 30,
     "metadata": {},
     "output_type": "execute_result"
    }
   ],
   "source": [
    "df.loc[df['배인번호_수정'] == '4MY-DB-04', ['차명', '제작사명', '등급_수정']].shape"
   ]
  },
  {
   "cell_type": "code",
   "execution_count": 31,
   "metadata": {},
   "outputs": [],
   "source": [
    "df.loc[df['배인번호_수정'] == '4MY-DB-04', '등급_수정'] = 5"
   ]
  },
  {
   "cell_type": "code",
   "execution_count": 32,
   "metadata": {},
   "outputs": [
    {
     "data": {
      "text/plain": [
       "(9, 44)"
      ]
     },
     "execution_count": 32,
     "metadata": {},
     "output_type": "execute_result"
    }
   ],
   "source": [
    "df.loc[df['배인번호_수정'] == '4MY-DB-03'].shape"
   ]
  },
  {
   "cell_type": "code",
   "execution_count": 33,
   "metadata": {},
   "outputs": [
    {
     "data": {
      "text/plain": [
       "array([4.])"
      ]
     },
     "execution_count": 33,
     "metadata": {},
     "output_type": "execute_result"
    }
   ],
   "source": [
    "df.loc[df['배인번호_수정'] == '4MY-DB-03', '등급_수정'].unique()"
   ]
  },
  {
   "cell_type": "code",
   "execution_count": 34,
   "metadata": {},
   "outputs": [],
   "source": [
    "df.loc[df['배인번호_수정'] == '4MY-DB-03', '등급_수정'] = 5"
   ]
  },
  {
   "cell_type": "code",
   "execution_count": 35,
   "metadata": {},
   "outputs": [
    {
     "data": {
      "text/plain": [
       "등급_수정\n",
       "4.0    1497678\n",
       "3.0       4397\n",
       "5.0        160\n",
       "Name: count, dtype: int64"
      ]
     },
     "execution_count": 35,
     "metadata": {},
     "output_type": "execute_result"
    }
   ],
   "source": [
    "df['등급_수정'].value_counts(dropna=False)"
   ]
  },
  {
   "cell_type": "code",
   "execution_count": 36,
   "metadata": {},
   "outputs": [],
   "source": [
    "# about 3.1s\n",
    "df.loc[df['등급_수정'] == 3].to_excel(os.path.join(raw_fold, 'result_3등급.xlsx'), index=False)\n",
    "df.loc[df['등급_수정'] == 5].to_excel(os.path.join(raw_fold, 'result_5등급.xlsx'), index=False)"
   ]
  },
  {
   "cell_type": "code",
   "execution_count": 42,
   "metadata": {},
   "outputs": [],
   "source": [
    "# about 28.4s\n",
    "df.to_csv(os.path.join(ods_fold, 'result(전체)_CAPSS_배출량(Grade추가)(dong_code추가)(2023.05.15).csv'), index=False)"
   ]
  },
  {
   "cell_type": "code",
   "execution_count": 37,
   "metadata": {},
   "outputs": [
    {
     "data": {
      "text/plain": [
       "(1153813, 44)"
      ]
     },
     "execution_count": 37,
     "metadata": {},
     "output_type": "execute_result"
    }
   ],
   "source": [
    "df.loc[df['연료'] == '경유'].shape"
   ]
  },
  {
   "cell_type": "code",
   "execution_count": 38,
   "metadata": {},
   "outputs": [
    {
     "data": {
      "text/plain": [
       "등급_수정\n",
       "4.0    1149256\n",
       "3.0       4397\n",
       "5.0        160\n",
       "Name: count, dtype: int64"
      ]
     },
     "execution_count": 38,
     "metadata": {},
     "output_type": "execute_result"
    }
   ],
   "source": [
    "df2 = df.loc[df['연료'] == '경유'].reset_index(drop=True)\n",
    "df2['등급_수정'].value_counts(dropna=False)"
   ]
  },
  {
   "cell_type": "code",
   "execution_count": 72,
   "metadata": {},
   "outputs": [
    {
     "data": {
      "text/plain": [
       "Index(['차대번호', '차량번호', '제원관리번호', '차종', '용도', '최초등록일', '연식', '제작일자', '검사유효일',\n",
       "       '배출가스인증번호', '등급', '차명', '차종분류', '차종유형', '자동차형식', '제작사명', '연료', '엔진형식',\n",
       "       '총중량', '적재중량', '엔진출력', '배기량', '법정동코드', '시도명', '시군구명', '소유자구분', '말소여부',\n",
       "       '일치유무', '인증번호 수정 유무', '배인번호_수정', '등급_수정', 'DPF유무_수정', '배출가스', '등급2',\n",
       "       'DPF', '비고', 'Grade', '시군구명_수정', 'dong_code', 'E_CO_total',\n",
       "       'E_HC_total', 'E_NOx_total', 'E_PM10_total', 'E_PM2_5_total'],\n",
       "      dtype='object')"
      ]
     },
     "execution_count": 72,
     "metadata": {},
     "output_type": "execute_result"
    }
   ],
   "source": [
    "df2.columns"
   ]
  },
  {
   "cell_type": "code",
   "execution_count": 71,
   "metadata": {},
   "outputs": [],
   "source": [
    "# about \n",
    "n = 800000\n",
    "df2.iloc[:n].to_excel(os.path.join(raw_fold, 'result(전체)_CAPSS_배출량(Grade추가)(dong_code추가)(2023.05.15)01.xlsx'), index=False)\n",
    "df2.iloc[n:].to_excel(os.path.join(raw_fold, 'result(전체)_CAPSS_배출량(Grade추가)(dong_code추가)(2023.05.15)02.xlsx'), index=False)"
   ]
  },
  {
   "cell_type": "code",
   "execution_count": 39,
   "metadata": {},
   "outputs": [
    {
     "data": {
      "text/plain": [
       "(1149256, 44)"
      ]
     },
     "execution_count": 39,
     "metadata": {},
     "output_type": "execute_result"
    }
   ],
   "source": [
    "df3 = df2.loc[df2['등급_수정'] == 4].reset_index(drop=True)\n",
    "df3.shape"
   ]
  },
  {
   "cell_type": "code",
   "execution_count": 40,
   "metadata": {},
   "outputs": [
    {
     "data": {
      "text/plain": [
       "Index(['차대번호', '차량번호', '제원관리번호', '차종', '용도', '최초등록일', '연식', '제작일자', '검사유효일',\n",
       "       '배출가스인증번호', '등급', '차명', '차종분류', '차종유형', '자동차형식', '제작사명', '연료', '엔진형식',\n",
       "       '총중량', '적재중량', '엔진출력', '배기량', '법정동코드', '시도명', '시군구명', '소유자구분', '말소여부',\n",
       "       '일치유무', '인증번호 수정 유무', '배인번호_수정', '등급_수정', 'DPF유무_수정', '배출가스', '등급2',\n",
       "       'DPF', '비고', 'Grade', '시군구명_수정', 'dong_code', 'E_CO_total',\n",
       "       'E_HC_total', 'E_NOx_total', 'E_PM10_total', 'E_PM2_5_total'],\n",
       "      dtype='object')"
      ]
     },
     "execution_count": 40,
     "metadata": {},
     "output_type": "execute_result"
    }
   ],
   "source": [
    "df3.columns"
   ]
  },
  {
   "cell_type": "code",
   "execution_count": 41,
   "metadata": {},
   "outputs": [],
   "source": [
    "# about \n",
    "n = 600000\n",
    "df3.iloc[:n].to_excel(os.path.join(raw_fold, 'result(4등급_경유)_CAPSS배출량(Grade추가)(dong_code추가)(2023.05.17)01.xlsx'), index=False)\n",
    "df3.iloc[n:].to_excel(os.path.join(raw_fold, 'result(4등급_경유)_CAPSS배출량(Grade추가)(dong_code추가)(2023.05.17)02.xlsx'), index=False)"
   ]
  },
  {
   "cell_type": "code",
   "execution_count": 43,
   "metadata": {},
   "outputs": [
    {
     "data": {
      "text/plain": [
       "등급_수정\n",
       "4.0    1497678\n",
       "3.0       4397\n",
       "5.0        160\n",
       "Name: count, dtype: int64"
      ]
     },
     "execution_count": 43,
     "metadata": {},
     "output_type": "execute_result"
    }
   ],
   "source": [
    "df['등급_수정'].value_counts(dropna=False)"
   ]
  },
  {
   "cell_type": "code",
   "execution_count": 44,
   "metadata": {},
   "outputs": [
    {
     "data": {
      "text/plain": [
       "연료\n",
       "경유             1149256\n",
       "휘발유             323019\n",
       "LPG(액화석유가스)      25400\n",
       "알코올                  1\n",
       "기타연료                 1\n",
       "CNG(압축천연가스)          1\n",
       "Name: count, dtype: int64"
      ]
     },
     "execution_count": 44,
     "metadata": {},
     "output_type": "execute_result"
    }
   ],
   "source": [
    "df.loc[df['등급_수정'] == 4, '연료'].value_counts(dropna=False)"
   ]
  },
  {
   "cell_type": "code",
   "execution_count": 45,
   "metadata": {},
   "outputs": [
    {
     "data": {
      "text/plain": [
       "(1497678, 44)"
      ]
     },
     "execution_count": 45,
     "metadata": {},
     "output_type": "execute_result"
    }
   ],
   "source": [
    "g4 = df.loc[df['등급_수정'] == 4].reset_index(drop=True)\n",
    "g4.shape"
   ]
  },
  {
   "cell_type": "code",
   "execution_count": 46,
   "metadata": {},
   "outputs": [],
   "source": [
    "# about 17m 52.6s\n",
    "n = 800000\n",
    "g4.iloc[:n].to_excel(os.path.join(raw_fold, 'result(4등급)_CAPSS배출량(Grade추가)(dong_code추가)(2023.05.17)01.xlsx'), index=False)\n",
    "g4.iloc[n:].to_excel(os.path.join(raw_fold, 'result(4등급)_CAPSS배출량(Grade추가)(dong_code추가)(2023.05.17)02.xlsx'), index=False)"
   ]
  },
  {
   "attachments": {},
   "cell_type": "markdown",
   "metadata": {},
   "source": [
    "# result 보관용 파일 등급 수정 반영"
   ]
  },
  {
   "cell_type": "code",
   "execution_count": 5,
   "metadata": {},
   "outputs": [
    {
     "name": "stdout",
     "output_type": "stream",
     "text": [
      "<class 'pandas.core.frame.DataFrame'>\n",
      "RangeIndex: 1149289 entries, 0 to 1149288\n",
      "Data columns (total 81 columns):\n",
      " #   Column         Non-Null Count    Dtype  \n",
      "---  ------         --------------    -----  \n",
      " 0   차대번호           1149289 non-null  object \n",
      " 1   차량번호           1149289 non-null  object \n",
      " 2   제원관리번호         1149289 non-null  object \n",
      " 3   차종             1149289 non-null  object \n",
      " 4   용도             1149289 non-null  object \n",
      " 5   최초등록일          1149289 non-null  int64  \n",
      " 6   연식             1149289 non-null  int64  \n",
      " 7   제작일자           1149288 non-null  float64\n",
      " 8   검사유효일          1149286 non-null  float64\n",
      " 9   배출가스인증번호       1144738 non-null  object \n",
      " 10  등급             1149289 non-null  int64  \n",
      " 11  차명             1149289 non-null  object \n",
      " 12  차종분류           1149289 non-null  object \n",
      " 13  차종유형           1149289 non-null  object \n",
      " 14  자동차형식          1149288 non-null  object \n",
      " 15  제작사명           1149272 non-null  object \n",
      " 16  연료             1149289 non-null  object \n",
      " 17  엔진형식           1149289 non-null  object \n",
      " 18  총중량            1149289 non-null  float64\n",
      " 19  적재중량           1149230 non-null  float64\n",
      " 20  엔진출력           1149287 non-null  float64\n",
      " 21  배기량            1149289 non-null  float64\n",
      " 22  법정동코드          1149289 non-null  int64  \n",
      " 23  시도명            1149289 non-null  object \n",
      " 24  시군구명           1149289 non-null  object \n",
      " 25  소유자구분          1149289 non-null  object \n",
      " 26  말소여부           1149289 non-null  object \n",
      " 27  일치유무           1149289 non-null  object \n",
      " 28  인증번호 수정 유무     1146618 non-null  object \n",
      " 29  배인번호_수정        1149289 non-null  object \n",
      " 30  등급_수정          1149289 non-null  float64\n",
      " 31  DPF유무_수정       1149289 non-null  object \n",
      " 32  배출가스           1146618 non-null  object \n",
      " 33  등급2            1146618 non-null  object \n",
      " 34  DPF            1139796 non-null  object \n",
      " 35  비고             44445 non-null    object \n",
      " 36  Grade          1149289 non-null  object \n",
      " 37  차령             1149289 non-null  int64  \n",
      " 38  시군구명_수정        1149289 non-null  object \n",
      " 39  1일평균주행거리       1149289 non-null  float64\n",
      " 40  조기폐차최종승인YN     0 non-null        float64\n",
      " 41  저감장치           32 non-null       object \n",
      " 42  장치일련번호         34 non-null       object \n",
      " 43  연간주행거리         1149289 non-null  float64\n",
      " 44  최신경과기간         1051999 non-null  float64\n",
      " 45  검사일자           1121144 non-null  float64\n",
      " 46  검사방법           1121144 non-null  object \n",
      " 47  검사종류           1121144 non-null  object \n",
      " 48  검사판정           1121144 non-null  object \n",
      " 49  무부하매연판정1       1112520 non-null  object \n",
      " 50  무부하매연판정2       42469 non-null    object \n",
      " 51  무부하매연판정3       41566 non-null    object \n",
      " 52  무부하매연측정치1      1112525 non-null  float64\n",
      " 53  무부하매연측정치2      363252 non-null   float64\n",
      " 54  무부하매연측정치3      330070 non-null   float64\n",
      " 55  연간배출량          1037785 non-null  float64\n",
      " 56  연간환경이익         1037785 non-null  float64\n",
      " 57  환경이익           1037785 non-null  float64\n",
      " 58  지원비용           1149289 non-null  int64  \n",
      " 59  경제적타당성         1037785 non-null  float64\n",
      " 60  단속발령19         0 non-null        float64\n",
      " 61  단속발령20         44 non-null       float64\n",
      " 62  단속발령21         11 non-null       float64\n",
      " 63  단속발령22         2 non-null        float64\n",
      " 64  단속발령대수_x       47 non-null       float64\n",
      " 65  단속정보18         84 non-null       float64\n",
      " 66  단속정보19         51 non-null       float64\n",
      " 67  단속정보20         28 non-null       float64\n",
      " 68  단속정보21         2 non-null        float64\n",
      " 69  단속정보22         0 non-null        float64\n",
      " 70  단속정보대수_x       138 non-null      float64\n",
      " 71  운행제한단속정보YN     138 non-null      object \n",
      " 72  단속발령1차         28 non-null       float64\n",
      " 73  단속발령2차         6 non-null        float64\n",
      " 74  단속발령3차         0 non-null        float64\n",
      " 75  단속발령대수_y       30 non-null       float64\n",
      " 76  단속정보1차         5 non-null        float64\n",
      " 77  단속정보2차         0 non-null        float64\n",
      " 78  단속정보3차         0 non-null        float64\n",
      " 79  단속정보대수_y       5 non-null        float64\n",
      " 80  비상시및계절제단속발령YN  30 non-null       object \n",
      "dtypes: float64(38), int64(6), object(37)\n",
      "memory usage: 710.2+ MB\n"
     ]
    }
   ],
   "source": [
    "# about \n",
    "name = '4등급_경유차_경제적타당성평가_검사경과기간_운행제한이력(2023.05.07_PM.02.48.37)'\n",
    "file_name = f'{name}.csv'\n",
    "df = pd.read_csv(os.path.join(ods_fold, file_name), low_memory=False)\n",
    "df.info()"
   ]
  },
  {
   "cell_type": "code",
   "execution_count": null,
   "metadata": {},
   "outputs": [],
   "source": []
  }
 ],
 "metadata": {
  "interpreter": {
   "hash": "569b4317022eb29baeafb3d0f1f739310808ea28ce83ca127a35db1c01070585"
  },
  "kernelspec": {
   "display_name": "Python 3.9.12 ('base')",
   "language": "python",
   "name": "python3"
  },
  "language_info": {
   "codemirror_mode": {
    "name": "ipython",
    "version": 3
   },
   "file_extension": ".py",
   "mimetype": "text/x-python",
   "name": "python",
   "nbconvert_exporter": "python",
   "pygments_lexer": "ipython3",
   "version": "3.9.13"
  },
  "orig_nbformat": 4
 },
 "nbformat": 4,
 "nbformat_minor": 2
}
