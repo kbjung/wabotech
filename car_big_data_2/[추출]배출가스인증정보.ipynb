{
 "cells": [
  {
   "attachments": {},
   "cell_type": "markdown",
   "metadata": {},
   "source": [
    "# Library"
   ]
  },
  {
   "cell_type": "code",
   "execution_count": 1,
   "metadata": {},
   "outputs": [],
   "source": [
    "import pandas as pd\n",
    "import numpy as np\n",
    "import os\n",
    "from tqdm import tqdm"
   ]
  },
  {
   "cell_type": "code",
   "execution_count": 2,
   "metadata": {},
   "outputs": [],
   "source": [
    "# ODS 폴더 경로\n",
    "ods_fold = 'D:/data/big2/ODS'"
   ]
  },
  {
   "attachments": {},
   "cell_type": "markdown",
   "metadata": {},
   "source": [
    "## 배출가스인증정보"
   ]
  },
  {
   "attachments": {},
   "cell_type": "markdown",
   "metadata": {},
   "source": [
    "### columns"
   ]
  },
  {
   "cell_type": "code",
   "execution_count": 8,
   "metadata": {},
   "outputs": [
    {
     "data": {
      "text/plain": [
       "(23, 2)"
      ]
     },
     "execution_count": 8,
     "metadata": {},
     "output_type": "execute_result"
    }
   ],
   "source": [
    "name = 'CEG_EMIS_CERTI_MIG'\n",
    "file_name = f'[정제]{name}.xlsx'\n",
    "col_exc = pd.read_excel(f'analysis/ODSvsSTD/{file_name}', sheet_name='ODS_col')\n",
    "col_exc.shape"
   ]
  },
  {
   "cell_type": "code",
   "execution_count": 9,
   "metadata": {},
   "outputs": [
    {
     "name": "stdout",
     "output_type": "stream",
     "text": [
      "<class 'pandas.core.frame.DataFrame'>\n",
      "RangeIndex: 23 entries, 0 to 22\n",
      "Data columns (total 2 columns):\n",
      " #   Column  Non-Null Count  Dtype \n",
      "---  ------  --------------  ----- \n",
      " 0   컬럼      23 non-null     object\n",
      " 1   내용      23 non-null     object\n",
      "dtypes: object(2)\n",
      "memory usage: 496.0+ bytes\n"
     ]
    }
   ],
   "source": [
    "col_exc.info()"
   ]
  },
  {
   "cell_type": "code",
   "execution_count": 10,
   "metadata": {},
   "outputs": [
    {
     "data": {
      "text/plain": [
       "{'STRE_DE': '저장 일자',\n",
       " 'MKR_NM': '제작사 명',\n",
       " 'FUEL': '연료',\n",
       " 'EMIS_CRTC_DE': '배출가스 인증 일자',\n",
       " 'EMIS_CRTCNO': '배출가스인증번호',\n",
       " 'EMIS_PERM_STDR_CD': '배출가스 허용 기준 코드',\n",
       " 'EMIS_VHCTY': '배출가스 차종',\n",
       " 'EMIS_CRTC_UNAVBL_RESN': '배출가스 인증 무효 사유',\n",
       " 'EMIS_CRTC_2_SE': '배출가스 인증 2 구분',\n",
       " 'EMIS_CRTC_STUS': '배출가스 인증 상태',\n",
       " 'EMIS_CRTC_SNO': '배출가스 인증 일련번호',\n",
       " 'EMIS_CRTC_UNAVBL_DE': '배출가스 인증 무효 일자',\n",
       " 'EMIS_CRTC_1_SE': '배출가스 인증 1 구분',\n",
       " 'EMIS_GRD': '배출가스 등급',\n",
       " 'SAME_VHCTY_TY': '동일 차종 유형',\n",
       " 'REPCAR_VIN': '대표차 차대번호',\n",
       " 'REPCAR_EMIS_CRTCNO': '대표차 배출가스 인증번호',\n",
       " 'ORGCAR_SRCMNNO': '기본차 제원관리번호',\n",
       " 'DMSTC_INCM_MKR_SE': '국내 수입 제작사 구분',\n",
       " 'MNFCT_NM': '제조사 명',\n",
       " 'PLOR_NM': '원산지 명',\n",
       " 'RECP_FILE_NM': '미정',\n",
       " 'SRCMNNO': '미정'}"
      ]
     },
     "execution_count": 10,
     "metadata": {},
     "output_type": "execute_result"
    }
   ],
   "source": [
    "# 필요한 컬럼만 추출\n",
    "col = col_exc['컬럼'].to_list()\n",
    "col_dict = {a:b for a, b in zip(col_exc['컬럼'], col_exc['내용'])}\n",
    "col_dict"
   ]
  },
  {
   "attachments": {},
   "cell_type": "markdown",
   "metadata": {},
   "source": [
    "### [로드] 배출가스인증정보"
   ]
  },
  {
   "cell_type": "code",
   "execution_count": 4,
   "metadata": {},
   "outputs": [
    {
     "name": "stdout",
     "output_type": "stream",
     "text": [
      "<class 'pandas.core.frame.DataFrame'>\n",
      "RangeIndex: 810777 entries, 0 to 810776\n",
      "Data columns (total 39 columns):\n",
      " #   Column                        Non-Null Count   Dtype  \n",
      "---  ------                        --------------   -----  \n",
      " 0   ERP_REG_NO                    810777 non-null  int64  \n",
      " 1   SIDO                          810777 non-null  object \n",
      " 2   SIGUNGU                       810661 non-null  object \n",
      " 3   CAR_REG_NO                    810777 non-null  object \n",
      " 4   CURR_CAR_REG_NO               77466 non-null   object \n",
      " 5   CAR_SER_NO                    810777 non-null  object \n",
      " 6   CAR_TYPE_NM                   810777 non-null  object \n",
      " 7   USAGE                         810774 non-null  object \n",
      " 8   CAR_YEAR                      810777 non-null  int64  \n",
      " 9   FIRST_REG_DATE                775578 non-null  float64\n",
      " 10  CAR_OWNER_NM                  808532 non-null  object \n",
      " 11  USER_CONTACT_TEL_NO           792453 non-null  object \n",
      " 12  ATT_ORG_NM                    801632 non-null  object \n",
      " 13  CURR_SIGUNGU                  574335 non-null  object \n",
      " 14  ATT_DATE                      810775 non-null  float64\n",
      " 15  EMI_RED_TYPE1                 810777 non-null  object \n",
      " 16  EMI_RED_TYPE2                 586898 non-null  object \n",
      " 17  REG_MODEL_NO                  810774 non-null  object \n",
      " 18  EQUIP_SER_NO                  682711 non-null  object \n",
      " 19  SMO_CHK_ORG_NM                670378 non-null  object \n",
      " 20  CONF_CHG_DATE                 810777 non-null  int64  \n",
      " 21  CAR_MILE                      796828 non-null  float64\n",
      " 22  MAKER_ORG_CD                  810777 non-null  object \n",
      " 23  ETC_CONT1                     56 non-null      object \n",
      " 24  ETC_CONT2                     290840 non-null  object \n",
      " 25  ETC_CONT3                     44 non-null      object \n",
      " 26  ETC_CONT4                     234839 non-null  object \n",
      " 27  ETC_CONT5                     349596 non-null  object \n",
      " 28  SRC_TBL                       253341 non-null  object \n",
      " 29  CAR_NM                        810773 non-null  object \n",
      " 30  REC_DATE                      810748 non-null  float64\n",
      " 31  REC_NM                        564302 non-null  object \n",
      " 32  APL_LAF_CD                    810243 non-null  object \n",
      " 33  EMI_RED_REMOVE_YN             326030 non-null  object \n",
      " 34  T_CHK_DATE                    178 non-null     float64\n",
      " 35  RETURN_CHK_DATE               441 non-null     float64\n",
      " 36  PM_EFF_VAL                    84460 non-null   float64\n",
      " 37  TDMS_YN                       204951 non-null  object \n",
      " 38  THREE_WAY_CATALYST_RETURN_YN  13694 non-null   object \n",
      "dtypes: float64(7), int64(3), object(29)\n",
      "memory usage: 241.2+ MB\n"
     ]
    }
   ],
   "source": [
    "# about 14\n",
    "file_name = f'ODS_{name}.csv'\n",
    "ins = pd.read_csv(os.path.join(ods_fold, file_name), usecols=col, low_memory=False)\n",
    "ins.info()"
   ]
  },
  {
   "cell_type": "code",
   "execution_count": 5,
   "metadata": {},
   "outputs": [
    {
     "name": "stdout",
     "output_type": "stream",
     "text": [
      "<class 'pandas.core.frame.DataFrame'>\n",
      "RangeIndex: 810777 entries, 0 to 810776\n",
      "Data columns (total 39 columns):\n",
      " #   Column                        Non-Null Count   Dtype  \n",
      "---  ------                        --------------   -----  \n",
      " 0   EMI_RED_TYPE2                 586898 non-null  object \n",
      " 1   PM_EFF_VAL                    84460 non-null   float64\n",
      " 2   TDMS_YN                       204951 non-null  object \n",
      " 3   CONF_CHG_DATE                 810777 non-null  int64  \n",
      " 4   ATT_ORG_NM                    801632 non-null  object \n",
      " 5   ATT_DATE                      810775 non-null  float64\n",
      " 6   T_CHK_DATE                    178 non-null     float64\n",
      " 7   CAR_REG_NO                    810777 non-null  object \n",
      " 8   CAR_SER_NO                    810777 non-null  object \n",
      " 9   CAR_MILE                      796828 non-null  float64\n",
      " 10  EMI_RED_REMOVE_YN             326030 non-null  object \n",
      " 11  EMI_RED_TYPE1                 810777 non-null  object \n",
      " 12  ERP_REG_NO                    810777 non-null  int64  \n",
      " 13  RETURN_CHK_DATE               441 non-null     float64\n",
      " 14  EQUIP_SER_NO                  682711 non-null  object \n",
      " 15  THREE_WAY_CATALYST_RETURN_YN  13694 non-null   object \n",
      " 16  SIDO                          810777 non-null  object \n",
      " 17  SIGUNGU                       810661 non-null  object \n",
      " 18  CURR_CAR_REG_NO               77466 non-null   object \n",
      " 19  CAR_TYPE_NM                   810777 non-null  object \n",
      " 20  USAGE                         810774 non-null  object \n",
      " 21  CAR_YEAR                      810777 non-null  int64  \n",
      " 22  FIRST_REG_DATE                775578 non-null  float64\n",
      " 23  CAR_OWNER_NM                  808532 non-null  object \n",
      " 24  USER_CONTACT_TEL_NO           792453 non-null  object \n",
      " 25  CURR_SIGUNGU                  574335 non-null  object \n",
      " 26  REG_MODEL_NO                  810774 non-null  object \n",
      " 27  SMO_CHK_ORG_NM                670378 non-null  object \n",
      " 28  MAKER_ORG_CD                  810777 non-null  object \n",
      " 29  ETC_CONT1                     56 non-null      object \n",
      " 30  ETC_CONT2                     290840 non-null  object \n",
      " 31  ETC_CONT3                     44 non-null      object \n",
      " 32  ETC_CONT4                     234839 non-null  object \n",
      " 33  ETC_CONT5                     349596 non-null  object \n",
      " 34  SRC_TBL                       253341 non-null  object \n",
      " 35  CAR_NM                        810773 non-null  object \n",
      " 36  REC_DATE                      810748 non-null  float64\n",
      " 37  REC_NM                        564302 non-null  object \n",
      " 38  APL_LAF_CD                    810243 non-null  object \n",
      "dtypes: float64(7), int64(3), object(29)\n",
      "memory usage: 241.2+ MB\n"
     ]
    }
   ],
   "source": [
    "ins = ins[col]\n",
    "ins.info()"
   ]
  },
  {
   "cell_type": "code",
   "execution_count": 6,
   "metadata": {},
   "outputs": [],
   "source": [
    "ins.columns = [col_dict[x] for x in ins.columns]"
   ]
  },
  {
   "cell_type": "code",
   "execution_count": 7,
   "metadata": {},
   "outputs": [
    {
     "data": {
      "text/plain": [
       "Index(['저감장치종류', 'PM최종저감효율', 'TDMS부착여부', '구조변경일자', '부착업체명', '부착일자', '탈거승인일',\n",
       "       '차량번호', '차대번호', '주행거리', '저감장치반납여부', '저감장치구분', '저감등록번호', '재장착확인일자',\n",
       "       '장치일련번호', '삼원촉매장치반납여부', '미정', '미정', '미정', '미정', '미정', '미정', '미정', '미정',\n",
       "       '미정', '미정', '미정', '미정', '미정', '미정', '미정', '미정', '미정', '미정', '미정', '미정',\n",
       "       '미정', '미정', '미정'],\n",
       "      dtype='object')"
      ]
     },
     "execution_count": 7,
     "metadata": {},
     "output_type": "execute_result"
    }
   ],
   "source": [
    "ins.columns"
   ]
  },
  {
   "cell_type": "code",
   "execution_count": 8,
   "metadata": {},
   "outputs": [],
   "source": [
    "ins = ins[['저감장치종류', 'PM최종저감효율', 'TDMS부착여부', '구조변경일자', '부착업체명', '부착일자', '탈거승인일',\n",
    "       '차량번호', '차대번호', '주행거리', '저감장치반납여부', '저감장치구분', '저감등록번호', '재장착확인일자',\n",
    "       '장치일련번호', '삼원촉매장치반납여부',]]"
   ]
  },
  {
   "attachments": {},
   "cell_type": "markdown",
   "metadata": {},
   "source": [
    "### [출력] 배출가스인증정보"
   ]
  },
  {
   "cell_type": "code",
   "execution_count": 9,
   "metadata": {},
   "outputs": [],
   "source": [
    "# about 5s\n",
    "ins.to_csv(os.path.join(ods_fold, f'[ODS]배출가스인증정보(2022.12.29).csv'), index=False)"
   ]
  },
  {
   "attachments": {},
   "cell_type": "markdown",
   "metadata": {},
   "source": [
    "# 코드 마지막"
   ]
  }
 ],
 "metadata": {
  "kernelspec": {
   "display_name": "base",
   "language": "python",
   "name": "python3"
  },
  "language_info": {
   "codemirror_mode": {
    "name": "ipython",
    "version": 3
   },
   "file_extension": ".py",
   "mimetype": "text/x-python",
   "name": "python",
   "nbconvert_exporter": "python",
   "pygments_lexer": "ipython3",
   "version": "3.9.13"
  },
  "orig_nbformat": 4,
  "vscode": {
   "interpreter": {
    "hash": "ad2bdc8ecc057115af97d19610ffacc2b4e99fae6737bb82f5d7fb13d2f2c186"
   }
  }
 },
 "nbformat": 4,
 "nbformat_minor": 2
}
