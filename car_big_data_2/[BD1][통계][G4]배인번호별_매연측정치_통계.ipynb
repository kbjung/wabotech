{
 "cells": [
  {
   "attachments": {},
   "cell_type": "markdown",
   "metadata": {},
   "source": [
    "# Library"
   ]
  },
  {
   "cell_type": "code",
   "execution_count": 1,
   "metadata": {},
   "outputs": [],
   "source": [
    "import pandas as pd\n",
    "import os\n",
    "import numpy as np\n",
    "from tqdm import tqdm"
   ]
  },
  {
   "attachments": {},
   "cell_type": "markdown",
   "metadata": {},
   "source": [
    "# File Load\n",
    "- 4등급_차량_리스트_양식_result\n",
    "- 정기\n",
    "- 정밀"
   ]
  },
  {
   "cell_type": "code",
   "execution_count": 29,
   "metadata": {},
   "outputs": [],
   "source": [
    "ods_fold = 'D:/data/big2/ODS'\n",
    "fold = 'D:/data/big2/BD1_4등급_데이터_점검1'"
   ]
  },
  {
   "cell_type": "code",
   "execution_count": 66,
   "metadata": {},
   "outputs": [],
   "source": [
    "# about 11s\n",
    "file_name = '4등급_차량_리스트_양식_result.csv'\n",
    "df = pd.read_csv(os.path.join(fold, file_name), encoding='cp949', low_memory=False)"
   ]
  },
  {
   "cell_type": "code",
   "execution_count": 4,
   "metadata": {},
   "outputs": [],
   "source": [
    "# about 3m 33s\n",
    "file_name = '[ODS]정기검사(2022.12.29).csv'\n",
    "ins = pd.read_csv(os.path.join(ods_fold, file_name), low_memory=False)"
   ]
  },
  {
   "cell_type": "code",
   "execution_count": 5,
   "metadata": {},
   "outputs": [],
   "source": [
    "# about 5m 55s\n",
    "file_name = '[ODS]정밀검사(2022.12.29).csv'\n",
    "dins = pd.read_csv(os.path.join(ods_fold, file_name), low_memory=False)"
   ]
  },
  {
   "cell_type": "code",
   "execution_count": 6,
   "metadata": {},
   "outputs": [
    {
     "data": {
      "text/plain": [
       "((1511251, 49), (22006426, 39), (28682228, 41))"
      ]
     },
     "execution_count": 6,
     "metadata": {},
     "output_type": "execute_result"
    }
   ],
   "source": [
    "df.shape, ins.shape, dins.shape"
   ]
  },
  {
   "cell_type": "code",
   "execution_count": 31,
   "metadata": {},
   "outputs": [
    {
     "data": {
      "text/plain": [
       "Index(['차대번호', '차량번호', '제원관리번호', '차종', '용도', '최초등록일', '연식', '제작일자', '검사유효일',\n",
       "       '인증번호', '등급', '차명', '차종분류', '차종유형', '자동차형식', '제작사명', '연료', '엔진형식',\n",
       "       '총중량', '적재중량', '엔진출력', '배기량', '법정동코드', '시도명', '시군구명', '소유자구분', '말소여부',\n",
       "       '일치유무'],\n",
       "      dtype='object')"
      ]
     },
     "execution_count": 31,
     "metadata": {},
     "output_type": "execute_result"
    }
   ],
   "source": [
    "df.columns"
   ]
  },
  {
   "cell_type": "code",
   "execution_count": 8,
   "metadata": {},
   "outputs": [
    {
     "data": {
      "text/plain": [
       "Index(['사용연료', '주행거리', '차명', '차량번호', '차대번호', '차종', '차량연식', '엔진형식', '검사방법',\n",
       "       '검사일자', '검사종류', '검사판정시각', '검사판정', '산소값', '이산화탄소값', '무부하매연판정1',\n",
       "       '무부하매연판정2', '무부하매연판정3', '무부하매연판정4', '무부하매연판정5', '무부하매연판정6', '무부하매연허용치1',\n",
       "       '무부하매연허용치2', '무부하매연허용치3', '무부하매연허용치4', '무부하매연허용치5', '무부하매연허용치6',\n",
       "       '무부하매연측정치1', '무부하매연측정치2', '무부하매연측정치3', '무부하매연측정치4', '무부하매연측정치5',\n",
       "       '무부하매연측정치6', '차량용도', '최대출력허용치', '최대출력측정값', '검사접수번호', '검사소명', '재검사기간'],\n",
       "      dtype='object')"
      ]
     },
     "execution_count": 8,
     "metadata": {},
     "output_type": "execute_result"
    }
   ],
   "source": [
    "ins.columns"
   ]
  },
  {
   "cell_type": "code",
   "execution_count": 9,
   "metadata": {},
   "outputs": [
    {
     "data": {
      "text/plain": [
       "Index(['사용연료', '주행거리', '차명', '차량번호', '차대번호', '차종', '차량연식', '엔진형식', '검사방법',\n",
       "       '검사일자', '검사종류', '검사판정시각', '검사판정', '산소값', '이산화탄소값', '무부하매연판정1',\n",
       "       '무부하매연판정2', '무부하매연판정3', '무부하매연판정4', '무부하매연판정5', '무부하매연판정6', '무부하매연허용치1',\n",
       "       '무부하매연허용치2', '무부하매연허용치3', '무부하매연허용치4', '무부하매연허용치5', '무부하매연허용치6',\n",
       "       '무부하매연측정치1', '무부하매연측정치2', '무부하매연측정치3', '무부하매연측정치4', '무부하매연측정치5',\n",
       "       '무부하매연측정치6', '차량용도', '최대출력허용치', '최대출력측정값', '검사접수번호', '검사소명', '재검사기간',\n",
       "       '검사 검사소코드', '검사유효기간'],\n",
       "      dtype='object')"
      ]
     },
     "execution_count": 9,
     "metadata": {},
     "output_type": "execute_result"
    }
   ],
   "source": [
    "dins.columns"
   ]
  },
  {
   "attachments": {},
   "cell_type": "markdown",
   "metadata": {},
   "source": [
    "# Preprocessing"
   ]
  },
  {
   "attachments": {},
   "cell_type": "markdown",
   "metadata": {},
   "source": [
    "## 전처리 : 4등급_차량_리스트_양식_result\n",
    "- 컬럼명 정리\n",
    "    - '차종' : '차종_원본', '인증번호':'배출가스인증번호'\n",
    "- ~~중복 차대번호 처리 : '최초등록일', '검사유효일, 내림차순 정렬(ascending=[False, False])~~\n",
    "- 배출가스등급 : 4등급\n",
    "- 연료 : 경유차"
   ]
  },
  {
   "cell_type": "code",
   "execution_count": 32,
   "metadata": {},
   "outputs": [
    {
     "data": {
      "text/plain": [
       "Index(['차대번호', '차량번호', '제원관리번호', '차종', '용도', '최초등록일', '연식', '제작일자', '검사유효일',\n",
       "       '인증번호', '등급', '차명', '차종분류', '차종유형', '자동차형식', '제작사명', '연료', '엔진형식',\n",
       "       '총중량', '적재중량', '엔진출력', '배기량', '법정동코드', '시도명', '시군구명', '소유자구분', '말소여부',\n",
       "       '일치유무'],\n",
       "      dtype='object')"
      ]
     },
     "execution_count": 32,
     "metadata": {},
     "output_type": "execute_result"
    }
   ],
   "source": [
    "df.columns"
   ]
  },
  {
   "cell_type": "code",
   "execution_count": 67,
   "metadata": {},
   "outputs": [
    {
     "data": {
      "text/plain": [
       "Index(['차대번호', '차량번호', '제원관리번호', '차종_원본', '용도', '최초등록일', '연식', '제작일자', '검사유효일',\n",
       "       '배출가스인증번호', '등급', '차명', '차종분류', '차종유형', '자동차형식', '제작사명', '연료', '엔진형식',\n",
       "       '총중량', '적재중량', '엔진출력', '배기량', '법정동코드', '시도명', '시군구명', '소유자구분', '말소여부',\n",
       "       '일치유무'],\n",
       "      dtype='object')"
      ]
     },
     "execution_count": 67,
     "metadata": {},
     "output_type": "execute_result"
    }
   ],
   "source": [
    "df = df.rename(columns={'차종':'차종_원본', '인증번호':'배출가스인증번호'})\n",
    "df.columns"
   ]
  },
  {
   "cell_type": "code",
   "execution_count": 68,
   "metadata": {},
   "outputs": [
    {
     "data": {
      "text/plain": [
       "((1502235, 28), 1502213)"
      ]
     },
     "execution_count": 68,
     "metadata": {},
     "output_type": "execute_result"
    }
   ],
   "source": [
    "df.shape, len(df['차대번호'].unique())"
   ]
  },
  {
   "cell_type": "code",
   "execution_count": 69,
   "metadata": {},
   "outputs": [],
   "source": [
    "# df = df.sort_values(['최초등록일', '검사유효일'], ascending=[False, False]).drop_duplicates('차대번호').reset_index(drop=True)\n",
    "# df.shape"
   ]
  },
  {
   "cell_type": "code",
   "execution_count": 70,
   "metadata": {},
   "outputs": [
    {
     "data": {
      "text/plain": [
       "4    1502235\n",
       "Name: 등급, dtype: int64"
      ]
     },
     "execution_count": 70,
     "metadata": {},
     "output_type": "execute_result"
    }
   ],
   "source": [
    "df['등급'].value_counts(dropna=False)"
   ]
  },
  {
   "cell_type": "code",
   "execution_count": 71,
   "metadata": {},
   "outputs": [
    {
     "data": {
      "text/plain": [
       "경유             1153813\n",
       "휘발유             322983\n",
       "LPG(액화석유가스)      25400\n",
       "기타연료                37\n",
       "알코올                  1\n",
       "CNG(압축천연가스)          1\n",
       "Name: 연료, dtype: int64"
      ]
     },
     "execution_count": 71,
     "metadata": {},
     "output_type": "execute_result"
    }
   ],
   "source": [
    "df['연료'].value_counts(dropna=False)"
   ]
  },
  {
   "cell_type": "code",
   "execution_count": 72,
   "metadata": {},
   "outputs": [
    {
     "data": {
      "text/plain": [
       "(1502235, 28)"
      ]
     },
     "execution_count": 72,
     "metadata": {},
     "output_type": "execute_result"
    }
   ],
   "source": [
    "df.shape"
   ]
  },
  {
   "cell_type": "code",
   "execution_count": 73,
   "metadata": {},
   "outputs": [
    {
     "data": {
      "text/plain": [
       "(1153813, 28)"
      ]
     },
     "execution_count": 73,
     "metadata": {},
     "output_type": "execute_result"
    }
   ],
   "source": [
    "df = df[df['연료'] == '경유'].reset_index(drop=True)\n",
    "df.shape"
   ]
  },
  {
   "attachments": {},
   "cell_type": "markdown",
   "metadata": {},
   "source": [
    "## 전처리 : 정기, 정밀 검사\n",
    "- 정기, 정밀 검사 필요한 컬럼만 추출\n",
    "- 정기, 정밀 검사 샘플에 '정기, 정밀' 검사 표기\n",
    "- 정기, 정밀 통합하여 중복 차대번호 제거(최신 '검사일자'만 사용)"
   ]
  },
  {
   "cell_type": "code",
   "execution_count": 16,
   "metadata": {},
   "outputs": [
    {
     "data": {
      "text/plain": [
       "(39, 41)"
      ]
     },
     "execution_count": 16,
     "metadata": {},
     "output_type": "execute_result"
    }
   ],
   "source": [
    "len(ins.columns), len(dins.columns)"
   ]
  },
  {
   "cell_type": "code",
   "execution_count": 17,
   "metadata": {},
   "outputs": [
    {
     "data": {
      "text/plain": [
       "33"
      ]
     },
     "execution_count": 17,
     "metadata": {},
     "output_type": "execute_result"
    }
   ],
   "source": [
    "col = ['사용연료', '주행거리', '차명', '차량번호', '차대번호', '차종', '차량연식', '엔진형식', '검사방법',\n",
    "       '검사일자', '검사종류', '검사판정시각', '검사판정', '산소값', '이산화탄소값', '무부하매연판정1',\n",
    "       '무부하매연판정2', '무부하매연판정3', '무부하매연판정4', '무부하매연판정5', '무부하매연판정6', '무부하매연허용치1',\n",
    "       '무부하매연허용치2', '무부하매연허용치3', '무부하매연허용치4', '무부하매연허용치5', '무부하매연허용치6',\n",
    "       '무부하매연측정치1', '무부하매연측정치2', '무부하매연측정치3', '무부하매연측정치4', '무부하매연측정치5',\n",
    "       '무부하매연측정치6',]\n",
    "len(col)"
   ]
  },
  {
   "cell_type": "code",
   "execution_count": 18,
   "metadata": {},
   "outputs": [
    {
     "data": {
      "text/plain": [
       "((22006426, 33), (28682228, 33))"
      ]
     },
     "execution_count": 18,
     "metadata": {},
     "output_type": "execute_result"
    }
   ],
   "source": [
    "# about 30s\n",
    "ins = ins[col]\n",
    "dins = dins[col]\n",
    "ins.shape, dins.shape"
   ]
  },
  {
   "cell_type": "code",
   "execution_count": 19,
   "metadata": {},
   "outputs": [],
   "source": [
    "ins['정기정밀'] = '정기'\n",
    "dins['정기정밀'] = '정밀'"
   ]
  },
  {
   "cell_type": "code",
   "execution_count": 20,
   "metadata": {},
   "outputs": [
    {
     "data": {
      "text/plain": [
       "((22006426, 34), 12601262)"
      ]
     },
     "execution_count": 20,
     "metadata": {},
     "output_type": "execute_result"
    }
   ],
   "source": [
    "# about 13s\n",
    "ins.shape, len(ins['차대번호'].unique())"
   ]
  },
  {
   "cell_type": "code",
   "execution_count": 21,
   "metadata": {},
   "outputs": [
    {
     "data": {
      "text/plain": [
       "((28682228, 34), 15367596)"
      ]
     },
     "execution_count": 21,
     "metadata": {},
     "output_type": "execute_result"
    }
   ],
   "source": [
    "# 20s\n",
    "dins.shape, len(dins['차대번호'].unique())"
   ]
  },
  {
   "cell_type": "code",
   "execution_count": 22,
   "metadata": {},
   "outputs": [
    {
     "data": {
      "text/plain": [
       "(50688654, 34)"
      ]
     },
     "execution_count": 22,
     "metadata": {},
     "output_type": "execute_result"
    }
   ],
   "source": [
    "# about \n",
    "tin = pd.concat([ins, dins], ignore_index=True)\n",
    "tin.shape"
   ]
  },
  {
   "cell_type": "code",
   "execution_count": 23,
   "metadata": {},
   "outputs": [
    {
     "data": {
      "text/plain": [
       "True"
      ]
     },
     "execution_count": 23,
     "metadata": {},
     "output_type": "execute_result"
    }
   ],
   "source": [
    "tin.shape[0] == ins.shape[0] + dins.shape[0]"
   ]
  },
  {
   "cell_type": "code",
   "execution_count": 24,
   "metadata": {},
   "outputs": [
    {
     "data": {
      "text/plain": [
       "(22044208, 34)"
      ]
     },
     "execution_count": 24,
     "metadata": {},
     "output_type": "execute_result"
    }
   ],
   "source": [
    "tin = tin.sort_values('검사일자', ascending=False).drop_duplicates('차대번호').reset_index(drop=True)\n",
    "tin.shape"
   ]
  },
  {
   "attachments": {},
   "cell_type": "markdown",
   "metadata": {},
   "source": [
    "## 전처리 : 등록&제원과 정기,정밀 병합\n",
    "- 4등급 경유 등록&제원 : df\n",
    "- 최신 검사일자 중복 차대번호 제거 정기, 정밀 : tin\n",
    "- 병합 : total"
   ]
  },
  {
   "cell_type": "code",
   "execution_count": 74,
   "metadata": {},
   "outputs": [
    {
     "data": {
      "text/plain": [
       "(1153813, 61)"
      ]
     },
     "execution_count": 74,
     "metadata": {},
     "output_type": "execute_result"
    }
   ],
   "source": [
    "# about 45s\n",
    "total = df.merge(tin, on='차대번호', how='left')\n",
    "total.shape"
   ]
  },
  {
   "attachments": {},
   "cell_type": "markdown",
   "metadata": {},
   "source": [
    "# Analysis\n",
    "- '배출가스인증번호'별 '무부하매연판정1'별 '차대번호' 개수\n",
    "- '배출가스인증번호'별 '검사방법', '무부하매연판정1'별 '차대번호' 개수\n",
    "- '배출가스인증번호'별 '검사방법', '무부하매연판정1'별 '무부하매연측정치1'의 통계"
   ]
  },
  {
   "cell_type": "code",
   "execution_count": 75,
   "metadata": {},
   "outputs": [
    {
     "data": {
      "text/plain": [
       "종합검사          731612\n",
       "정기검사          171096\n",
       "2부재검사(종합)      87447\n",
       "종합검사(경과)       60618\n",
       "재검사(2부재검사)     31210\n",
       "NaN            22637\n",
       "1부재검사(종합)      18846\n",
       "재검사(1부재검사)     18420\n",
       "정기(경과)검사       11927\n",
       "Name: 검사종류, dtype: int64"
      ]
     },
     "execution_count": 75,
     "metadata": {},
     "output_type": "execute_result"
    }
   ],
   "source": [
    "total['검사종류'].value_counts(dropna=False)"
   ]
  },
  {
   "cell_type": "code",
   "execution_count": 76,
   "metadata": {},
   "outputs": [
    {
     "data": {
      "text/plain": [
       "부하검사(KD-147)        798238\n",
       "무부하검사(급가속)          289263\n",
       "부하검사(LUG DOWN)       43669\n",
       "NaN                  22637\n",
       "부하검사(ASM-Idling)         3\n",
       "무부하검사(정지가동)              2\n",
       "무부하검사(TSI)               1\n",
       "Name: 검사방법, dtype: int64"
      ]
     },
     "execution_count": 76,
     "metadata": {},
     "output_type": "execute_result"
    }
   ],
   "source": [
    "total['검사방법'].value_counts(dropna=False)"
   ]
  },
  {
   "cell_type": "code",
   "execution_count": 77,
   "metadata": {},
   "outputs": [
    {
     "data": {
      "text/plain": [
       "Y      1087888\n",
       "N        34609\n",
       "NaN      31316\n",
       "Name: 무부하매연판정1, dtype: int64"
      ]
     },
     "execution_count": 77,
     "metadata": {},
     "output_type": "execute_result"
    }
   ],
   "source": [
    "total['무부하매연판정1'].value_counts(dropna=False)"
   ]
  },
  {
   "cell_type": "code",
   "execution_count": 78,
   "metadata": {},
   "outputs": [
    {
     "data": {
      "text/plain": [
       "0.00      276379\n",
       "1.00       84223\n",
       "2.00       70398\n",
       "3.00       63318\n",
       "4.00       62680\n",
       "           ...  \n",
       "0.01           1\n",
       "99.90          1\n",
       "2.50           1\n",
       "135.00         1\n",
       "103.00         1\n",
       "Name: 무부하매연측정치1, Length: 111, dtype: int64"
      ]
     },
     "execution_count": 78,
     "metadata": {},
     "output_type": "execute_result"
    }
   ],
   "source": [
    "total['무부하매연측정치1'].value_counts(dropna=False)"
   ]
  },
  {
   "cell_type": "code",
   "execution_count": 79,
   "metadata": {},
   "outputs": [
    {
     "data": {
      "text/plain": [
       "31312"
      ]
     },
     "execution_count": 79,
     "metadata": {},
     "output_type": "execute_result"
    }
   ],
   "source": [
    "total['무부하매연측정치1'].isnull().sum()"
   ]
  },
  {
   "cell_type": "code",
   "execution_count": 80,
   "metadata": {},
   "outputs": [
    {
     "data": {
      "text/html": [
       "<div>\n",
       "<style scoped>\n",
       "    .dataframe tbody tr th:only-of-type {\n",
       "        vertical-align: middle;\n",
       "    }\n",
       "\n",
       "    .dataframe tbody tr th {\n",
       "        vertical-align: top;\n",
       "    }\n",
       "\n",
       "    .dataframe thead th {\n",
       "        text-align: right;\n",
       "    }\n",
       "</style>\n",
       "<table border=\"1\" class=\"dataframe\">\n",
       "  <thead>\n",
       "    <tr style=\"text-align: right;\">\n",
       "      <th></th>\n",
       "      <th>count</th>\n",
       "    </tr>\n",
       "    <tr>\n",
       "      <th>무부하매연판정1</th>\n",
       "      <th></th>\n",
       "    </tr>\n",
       "  </thead>\n",
       "  <tbody>\n",
       "    <tr>\n",
       "      <th>N</th>\n",
       "      <td>34609</td>\n",
       "    </tr>\n",
       "    <tr>\n",
       "      <th>Y</th>\n",
       "      <td>1087888</td>\n",
       "    </tr>\n",
       "    <tr>\n",
       "      <th>NaN</th>\n",
       "      <td>31316</td>\n",
       "    </tr>\n",
       "  </tbody>\n",
       "</table>\n",
       "</div>"
      ],
      "text/plain": [
       "            count\n",
       "무부하매연판정1         \n",
       "N           34609\n",
       "Y         1087888\n",
       "NaN         31316"
      ]
     },
     "execution_count": 80,
     "metadata": {},
     "output_type": "execute_result"
    }
   ],
   "source": [
    "total.groupby(['무부하매연판정1'], dropna=False)['차대번호'].agg(['count'])"
   ]
  },
  {
   "cell_type": "code",
   "execution_count": 96,
   "metadata": {},
   "outputs": [
    {
     "data": {
      "text/html": [
       "<div>\n",
       "<style scoped>\n",
       "    .dataframe tbody tr th:only-of-type {\n",
       "        vertical-align: middle;\n",
       "    }\n",
       "\n",
       "    .dataframe tbody tr th {\n",
       "        vertical-align: top;\n",
       "    }\n",
       "\n",
       "    .dataframe thead tr th {\n",
       "        text-align: left;\n",
       "    }\n",
       "\n",
       "    .dataframe thead tr:last-of-type th {\n",
       "        text-align: right;\n",
       "    }\n",
       "</style>\n",
       "<table border=\"1\" class=\"dataframe\">\n",
       "  <thead>\n",
       "    <tr>\n",
       "      <th></th>\n",
       "      <th colspan=\"7\" halign=\"left\">count</th>\n",
       "    </tr>\n",
       "    <tr>\n",
       "      <th>검사방법</th>\n",
       "      <th>무부하검사(TSI)</th>\n",
       "      <th>무부하검사(급가속)</th>\n",
       "      <th>무부하검사(정지가동)</th>\n",
       "      <th>부하검사(ASM-Idling)</th>\n",
       "      <th>부하검사(KD-147)</th>\n",
       "      <th>부하검사(LUG DOWN)</th>\n",
       "      <th>NaN</th>\n",
       "    </tr>\n",
       "    <tr>\n",
       "      <th>무부하매연판정1</th>\n",
       "      <th></th>\n",
       "      <th></th>\n",
       "      <th></th>\n",
       "      <th></th>\n",
       "      <th></th>\n",
       "      <th></th>\n",
       "      <th></th>\n",
       "    </tr>\n",
       "  </thead>\n",
       "  <tbody>\n",
       "    <tr>\n",
       "      <th>N</th>\n",
       "      <td>NaN</td>\n",
       "      <td>5724.0</td>\n",
       "      <td>NaN</td>\n",
       "      <td>NaN</td>\n",
       "      <td>27614.0</td>\n",
       "      <td>1271.0</td>\n",
       "      <td>NaN</td>\n",
       "    </tr>\n",
       "    <tr>\n",
       "      <th>Y</th>\n",
       "      <td>1.0</td>\n",
       "      <td>283244.0</td>\n",
       "      <td>2.0</td>\n",
       "      <td>3.0</td>\n",
       "      <td>762382.0</td>\n",
       "      <td>42256.0</td>\n",
       "      <td>NaN</td>\n",
       "    </tr>\n",
       "    <tr>\n",
       "      <th>NaN</th>\n",
       "      <td>NaN</td>\n",
       "      <td>295.0</td>\n",
       "      <td>NaN</td>\n",
       "      <td>NaN</td>\n",
       "      <td>8242.0</td>\n",
       "      <td>142.0</td>\n",
       "      <td>22637.0</td>\n",
       "    </tr>\n",
       "  </tbody>\n",
       "</table>\n",
       "</div>"
      ],
      "text/plain": [
       "              count                                                       \\\n",
       "검사방법     무부하검사(TSI) 무부하검사(급가속) 무부하검사(정지가동) 부하검사(ASM-Idling) 부하검사(KD-147)   \n",
       "무부하매연판정1                                                                   \n",
       "N               NaN     5724.0         NaN              NaN      27614.0   \n",
       "Y               1.0   283244.0         2.0              3.0     762382.0   \n",
       "NaN             NaN      295.0         NaN              NaN       8242.0   \n",
       "\n",
       "                                  \n",
       "검사방법     부하검사(LUG DOWN)      NaN  \n",
       "무부하매연판정1                          \n",
       "N                1271.0      NaN  \n",
       "Y               42256.0      NaN  \n",
       "NaN               142.0  22637.0  "
      ]
     },
     "execution_count": 96,
     "metadata": {},
     "output_type": "execute_result"
    }
   ],
   "source": [
    "gas_total_group = total.groupby(['무부하매연판정1', '검사방법'], dropna=False)['차대번호'].agg(['count']).unstack()\n",
    "gas_total_group"
   ]
  },
  {
   "cell_type": "code",
   "execution_count": 104,
   "metadata": {},
   "outputs": [
    {
     "data": {
      "text/html": [
       "<div>\n",
       "<style scoped>\n",
       "    .dataframe tbody tr th:only-of-type {\n",
       "        vertical-align: middle;\n",
       "    }\n",
       "\n",
       "    .dataframe tbody tr th {\n",
       "        vertical-align: top;\n",
       "    }\n",
       "\n",
       "    .dataframe thead th {\n",
       "        text-align: right;\n",
       "    }\n",
       "</style>\n",
       "<table border=\"1\" class=\"dataframe\">\n",
       "  <thead>\n",
       "    <tr style=\"text-align: right;\">\n",
       "      <th></th>\n",
       "      <th></th>\n",
       "      <th></th>\n",
       "      <th>count</th>\n",
       "      <th>mean</th>\n",
       "      <th>min</th>\n",
       "      <th>max</th>\n",
       "    </tr>\n",
       "    <tr>\n",
       "      <th>배출가스인증번호</th>\n",
       "      <th>무부하매연판정1</th>\n",
       "      <th>검사방법</th>\n",
       "      <th></th>\n",
       "      <th></th>\n",
       "      <th></th>\n",
       "      <th></th>\n",
       "    </tr>\n",
       "  </thead>\n",
       "  <tbody>\n",
       "    <tr>\n",
       "      <th rowspan=\"2\" valign=\"top\"></th>\n",
       "      <th rowspan=\"2\" valign=\"top\">Y</th>\n",
       "      <th>부하검사(ASM-Idling)</th>\n",
       "      <td>1</td>\n",
       "      <td>0.030000</td>\n",
       "      <td>0.03</td>\n",
       "      <td>0.03</td>\n",
       "    </tr>\n",
       "    <tr>\n",
       "      <th>부하검사(KD-147)</th>\n",
       "      <td>2</td>\n",
       "      <td>7.500000</td>\n",
       "      <td>4.00</td>\n",
       "      <td>11.00</td>\n",
       "    </tr>\n",
       "    <tr>\n",
       "      <th>7MY-DC-24-72</th>\n",
       "      <th>Y</th>\n",
       "      <th>무부하검사(급가속)</th>\n",
       "      <td>1</td>\n",
       "      <td>2.000000</td>\n",
       "      <td>2.00</td>\n",
       "      <td>2.00</td>\n",
       "    </tr>\n",
       "    <tr>\n",
       "      <th rowspan=\"2\" valign=\"top\">7MY-HD-24-30</th>\n",
       "      <th>N</th>\n",
       "      <th>부하검사(LUG DOWN)</th>\n",
       "      <td>1</td>\n",
       "      <td>43.000000</td>\n",
       "      <td>43.00</td>\n",
       "      <td>43.00</td>\n",
       "    </tr>\n",
       "    <tr>\n",
       "      <th>Y</th>\n",
       "      <th>무부하검사(급가속)</th>\n",
       "      <td>2</td>\n",
       "      <td>0.500000</td>\n",
       "      <td>0.00</td>\n",
       "      <td>1.00</td>\n",
       "    </tr>\n",
       "    <tr>\n",
       "      <th>...</th>\n",
       "      <th>...</th>\n",
       "      <th>...</th>\n",
       "      <td>...</td>\n",
       "      <td>...</td>\n",
       "      <td>...</td>\n",
       "      <td>...</td>\n",
       "    </tr>\n",
       "    <tr>\n",
       "      <th rowspan=\"5\" valign=\"top\">NaN</th>\n",
       "      <th rowspan=\"2\" valign=\"top\">Y</th>\n",
       "      <th>부하검사(KD-147)</th>\n",
       "      <td>4389</td>\n",
       "      <td>3.680565</td>\n",
       "      <td>0.00</td>\n",
       "      <td>25.00</td>\n",
       "    </tr>\n",
       "    <tr>\n",
       "      <th>부하검사(LUG DOWN)</th>\n",
       "      <td>305</td>\n",
       "      <td>3.442623</td>\n",
       "      <td>0.00</td>\n",
       "      <td>26.00</td>\n",
       "    </tr>\n",
       "    <tr>\n",
       "      <th rowspan=\"3\" valign=\"top\">NaN</th>\n",
       "      <th>무부하검사(급가속)</th>\n",
       "      <td>0</td>\n",
       "      <td>NaN</td>\n",
       "      <td>NaN</td>\n",
       "      <td>NaN</td>\n",
       "    </tr>\n",
       "    <tr>\n",
       "      <th>부하검사(KD-147)</th>\n",
       "      <td>0</td>\n",
       "      <td>NaN</td>\n",
       "      <td>NaN</td>\n",
       "      <td>NaN</td>\n",
       "    </tr>\n",
       "    <tr>\n",
       "      <th>NaN</th>\n",
       "      <td>0</td>\n",
       "      <td>NaN</td>\n",
       "      <td>NaN</td>\n",
       "      <td>NaN</td>\n",
       "    </tr>\n",
       "  </tbody>\n",
       "</table>\n",
       "<p>815 rows × 4 columns</p>\n",
       "</div>"
      ],
      "text/plain": [
       "                                         count       mean    min    max\n",
       "배출가스인증번호      무부하매연판정1 검사방법                                            \n",
       "              Y        부하검사(ASM-Idling)      1   0.030000   0.03   0.03\n",
       "                       부하검사(KD-147)          2   7.500000   4.00  11.00\n",
       " 7MY-DC-24-72 Y        무부하검사(급가속)            1   2.000000   2.00   2.00\n",
       " 7MY-HD-24-30 N        부하검사(LUG DOWN)        1  43.000000  43.00  43.00\n",
       "              Y        무부하검사(급가속)            2   0.500000   0.00   1.00\n",
       "...                                        ...        ...    ...    ...\n",
       "NaN           Y        부하검사(KD-147)       4389   3.680565   0.00  25.00\n",
       "                       부하검사(LUG DOWN)      305   3.442623   0.00  26.00\n",
       "              NaN      무부하검사(급가속)            0        NaN    NaN    NaN\n",
       "                       부하검사(KD-147)          0        NaN    NaN    NaN\n",
       "                       NaN                   0        NaN    NaN    NaN\n",
       "\n",
       "[815 rows x 4 columns]"
      ]
     },
     "execution_count": 104,
     "metadata": {},
     "output_type": "execute_result"
    }
   ],
   "source": [
    "gas_grp = total.groupby(['배출가스인증번호', '무부하매연판정1', '검사방법'], dropna=False)['무부하매연측정치1'].agg(['count', 'mean', 'min', 'max'])\n",
    "gas_grp"
   ]
  },
  {
   "cell_type": "code",
   "execution_count": 105,
   "metadata": {},
   "outputs": [
    {
     "data": {
      "text/html": [
       "<div>\n",
       "<style scoped>\n",
       "    .dataframe tbody tr th:only-of-type {\n",
       "        vertical-align: middle;\n",
       "    }\n",
       "\n",
       "    .dataframe tbody tr th {\n",
       "        vertical-align: top;\n",
       "    }\n",
       "\n",
       "    .dataframe thead th {\n",
       "        text-align: right;\n",
       "    }\n",
       "</style>\n",
       "<table border=\"1\" class=\"dataframe\">\n",
       "  <thead>\n",
       "    <tr style=\"text-align: right;\">\n",
       "      <th></th>\n",
       "      <th></th>\n",
       "      <th></th>\n",
       "      <th>count</th>\n",
       "    </tr>\n",
       "    <tr>\n",
       "      <th>배출가스인증번호</th>\n",
       "      <th>무부하매연판정1</th>\n",
       "      <th>검사방법</th>\n",
       "      <th></th>\n",
       "    </tr>\n",
       "  </thead>\n",
       "  <tbody>\n",
       "    <tr>\n",
       "      <th rowspan=\"2\" valign=\"top\"></th>\n",
       "      <th rowspan=\"2\" valign=\"top\">Y</th>\n",
       "      <th>부하검사(ASM-Idling)</th>\n",
       "      <td>1</td>\n",
       "    </tr>\n",
       "    <tr>\n",
       "      <th>부하검사(KD-147)</th>\n",
       "      <td>2</td>\n",
       "    </tr>\n",
       "    <tr>\n",
       "      <th>7MY-DC-24-72</th>\n",
       "      <th>Y</th>\n",
       "      <th>무부하검사(급가속)</th>\n",
       "      <td>1</td>\n",
       "    </tr>\n",
       "    <tr>\n",
       "      <th rowspan=\"2\" valign=\"top\">7MY-HD-24-30</th>\n",
       "      <th>N</th>\n",
       "      <th>부하검사(LUG DOWN)</th>\n",
       "      <td>1</td>\n",
       "    </tr>\n",
       "    <tr>\n",
       "      <th>Y</th>\n",
       "      <th>무부하검사(급가속)</th>\n",
       "      <td>2</td>\n",
       "    </tr>\n",
       "    <tr>\n",
       "      <th>...</th>\n",
       "      <th>...</th>\n",
       "      <th>...</th>\n",
       "      <td>...</td>\n",
       "    </tr>\n",
       "    <tr>\n",
       "      <th rowspan=\"5\" valign=\"top\">NaN</th>\n",
       "      <th rowspan=\"2\" valign=\"top\">Y</th>\n",
       "      <th>부하검사(KD-147)</th>\n",
       "      <td>4389</td>\n",
       "    </tr>\n",
       "    <tr>\n",
       "      <th>부하검사(LUG DOWN)</th>\n",
       "      <td>305</td>\n",
       "    </tr>\n",
       "    <tr>\n",
       "      <th rowspan=\"3\" valign=\"top\">NaN</th>\n",
       "      <th>무부하검사(급가속)</th>\n",
       "      <td>5</td>\n",
       "    </tr>\n",
       "    <tr>\n",
       "      <th>부하검사(KD-147)</th>\n",
       "      <td>25</td>\n",
       "    </tr>\n",
       "    <tr>\n",
       "      <th>NaN</th>\n",
       "      <td>378</td>\n",
       "    </tr>\n",
       "  </tbody>\n",
       "</table>\n",
       "<p>815 rows × 1 columns</p>\n",
       "</div>"
      ],
      "text/plain": [
       "                                         count\n",
       "배출가스인증번호      무부하매연판정1 검사방법                   \n",
       "              Y        부하검사(ASM-Idling)      1\n",
       "                       부하검사(KD-147)          2\n",
       " 7MY-DC-24-72 Y        무부하검사(급가속)            1\n",
       " 7MY-HD-24-30 N        부하검사(LUG DOWN)        1\n",
       "              Y        무부하검사(급가속)            2\n",
       "...                                        ...\n",
       "NaN           Y        부하검사(KD-147)       4389\n",
       "                       부하검사(LUG DOWN)      305\n",
       "              NaN      무부하검사(급가속)            5\n",
       "                       부하검사(KD-147)         25\n",
       "                       NaN                 378\n",
       "\n",
       "[815 rows x 1 columns]"
      ]
     },
     "execution_count": 105,
     "metadata": {},
     "output_type": "execute_result"
    }
   ],
   "source": [
    "gas_vin_grp = total.groupby(['배출가스인증번호', '무부하매연판정1', '검사방법'], dropna=False)['차대번호'].agg(['count'])\n",
    "gas_vin_grp"
   ]
  },
  {
   "cell_type": "code",
   "execution_count": 107,
   "metadata": {},
   "outputs": [
    {
     "data": {
      "text/html": [
       "<div>\n",
       "<style scoped>\n",
       "    .dataframe tbody tr th:only-of-type {\n",
       "        vertical-align: middle;\n",
       "    }\n",
       "\n",
       "    .dataframe tbody tr th {\n",
       "        vertical-align: top;\n",
       "    }\n",
       "\n",
       "    .dataframe thead th {\n",
       "        text-align: right;\n",
       "    }\n",
       "</style>\n",
       "<table border=\"1\" class=\"dataframe\">\n",
       "  <thead>\n",
       "    <tr style=\"text-align: right;\">\n",
       "      <th></th>\n",
       "      <th></th>\n",
       "      <th></th>\n",
       "      <th>count</th>\n",
       "      <th>mean</th>\n",
       "      <th>min</th>\n",
       "      <th>max</th>\n",
       "    </tr>\n",
       "    <tr>\n",
       "      <th>배출가스인증번호</th>\n",
       "      <th>무부하매연판정1</th>\n",
       "      <th>검사방법</th>\n",
       "      <th></th>\n",
       "      <th></th>\n",
       "      <th></th>\n",
       "      <th></th>\n",
       "    </tr>\n",
       "  </thead>\n",
       "  <tbody>\n",
       "    <tr>\n",
       "      <th rowspan=\"2\" valign=\"top\"></th>\n",
       "      <th rowspan=\"2\" valign=\"top\">Y</th>\n",
       "      <th>부하검사(ASM-Idling)</th>\n",
       "      <td>1</td>\n",
       "      <td>0.030000</td>\n",
       "      <td>0.03</td>\n",
       "      <td>0.03</td>\n",
       "    </tr>\n",
       "    <tr>\n",
       "      <th>부하검사(KD-147)</th>\n",
       "      <td>2</td>\n",
       "      <td>7.500000</td>\n",
       "      <td>4.00</td>\n",
       "      <td>11.00</td>\n",
       "    </tr>\n",
       "    <tr>\n",
       "      <th>7MY-DC-24-72</th>\n",
       "      <th>Y</th>\n",
       "      <th>무부하검사(급가속)</th>\n",
       "      <td>1</td>\n",
       "      <td>2.000000</td>\n",
       "      <td>2.00</td>\n",
       "      <td>2.00</td>\n",
       "    </tr>\n",
       "    <tr>\n",
       "      <th rowspan=\"2\" valign=\"top\">7MY-HD-24-30</th>\n",
       "      <th rowspan=\"2\" valign=\"top\">Y</th>\n",
       "      <th>무부하검사(급가속)</th>\n",
       "      <td>2</td>\n",
       "      <td>0.500000</td>\n",
       "      <td>0.00</td>\n",
       "      <td>1.00</td>\n",
       "    </tr>\n",
       "    <tr>\n",
       "      <th>부하검사(LUG DOWN)</th>\n",
       "      <td>5</td>\n",
       "      <td>9.200000</td>\n",
       "      <td>1.00</td>\n",
       "      <td>16.00</td>\n",
       "    </tr>\n",
       "    <tr>\n",
       "      <th>...</th>\n",
       "      <th>...</th>\n",
       "      <th>...</th>\n",
       "      <td>...</td>\n",
       "      <td>...</td>\n",
       "      <td>...</td>\n",
       "      <td>...</td>\n",
       "    </tr>\n",
       "    <tr>\n",
       "      <th>FMY-VTK-14-4</th>\n",
       "      <th>Y</th>\n",
       "      <th>부하검사(LUG DOWN)</th>\n",
       "      <td>24</td>\n",
       "      <td>0.458333</td>\n",
       "      <td>0.00</td>\n",
       "      <td>4.00</td>\n",
       "    </tr>\n",
       "    <tr>\n",
       "      <th rowspan=\"4\" valign=\"top\">NaN</th>\n",
       "      <th rowspan=\"4\" valign=\"top\">Y</th>\n",
       "      <th>무부하검사(TSI)</th>\n",
       "      <td>1</td>\n",
       "      <td>0.000000</td>\n",
       "      <td>0.00</td>\n",
       "      <td>0.00</td>\n",
       "    </tr>\n",
       "    <tr>\n",
       "      <th>무부하검사(급가속)</th>\n",
       "      <td>1939</td>\n",
       "      <td>2.832388</td>\n",
       "      <td>0.00</td>\n",
       "      <td>41.00</td>\n",
       "    </tr>\n",
       "    <tr>\n",
       "      <th>부하검사(KD-147)</th>\n",
       "      <td>4389</td>\n",
       "      <td>3.680565</td>\n",
       "      <td>0.00</td>\n",
       "      <td>25.00</td>\n",
       "    </tr>\n",
       "    <tr>\n",
       "      <th>부하검사(LUG DOWN)</th>\n",
       "      <td>305</td>\n",
       "      <td>3.442623</td>\n",
       "      <td>0.00</td>\n",
       "      <td>26.00</td>\n",
       "    </tr>\n",
       "  </tbody>\n",
       "</table>\n",
       "<p>391 rows × 4 columns</p>\n",
       "</div>"
      ],
      "text/plain": [
       "                                         count      mean   min    max\n",
       "배출가스인증번호      무부하매연판정1 검사방법                                          \n",
       "              Y        부하검사(ASM-Idling)      1  0.030000  0.03   0.03\n",
       "                       부하검사(KD-147)          2  7.500000  4.00  11.00\n",
       " 7MY-DC-24-72 Y        무부하검사(급가속)            1  2.000000  2.00   2.00\n",
       " 7MY-HD-24-30 Y        무부하검사(급가속)            2  0.500000  0.00   1.00\n",
       "                       부하검사(LUG DOWN)        5  9.200000  1.00  16.00\n",
       "...                                        ...       ...   ...    ...\n",
       "FMY-VTK-14-4  Y        부하검사(LUG DOWN)       24  0.458333  0.00   4.00\n",
       "NaN           Y        무부하검사(TSI)            1  0.000000  0.00   0.00\n",
       "                       무부하검사(급가속)         1939  2.832388  0.00  41.00\n",
       "                       부하검사(KD-147)       4389  3.680565  0.00  25.00\n",
       "                       부하검사(LUG DOWN)      305  3.442623  0.00  26.00\n",
       "\n",
       "[391 rows x 4 columns]"
      ]
     },
     "execution_count": 107,
     "metadata": {},
     "output_type": "execute_result"
    }
   ],
   "source": [
    "gas_grp_y = total[total['무부하매연판정1'] == 'Y'].groupby(['배출가스인증번호', '무부하매연판정1', '검사방법'], dropna=False)['무부하매연측정치1'].agg(['count', 'mean', 'min', 'max'])\n",
    "gas_grp_y"
   ]
  },
  {
   "cell_type": "code",
   "execution_count": 108,
   "metadata": {},
   "outputs": [
    {
     "data": {
      "text/plain": [
       "배출가스인증번호       무부하매연판정1  검사방법            \n",
       "               Y         부하검사(ASM-Idling)       1\n",
       "                         부하검사(KD-147)           2\n",
       " 7MY-DC-24-72  Y         무부하검사(급가속)             1\n",
       " 7MY-HD-24-30  Y         무부하검사(급가속)             2\n",
       "                         부하검사(LUG DOWN)         5\n",
       "                                             ... \n",
       "FMY-VTK-14-4   Y         부하검사(LUG DOWN)        24\n",
       "NaN            Y         무부하검사(TSI)             1\n",
       "                         무부하검사(급가속)          1939\n",
       "                         부하검사(KD-147)        4389\n",
       "                         부하검사(LUG DOWN)       305\n",
       "Name: 차대번호, Length: 391, dtype: int64"
      ]
     },
     "execution_count": 108,
     "metadata": {},
     "output_type": "execute_result"
    }
   ],
   "source": [
    "gas_grp_y_vin = total[total['무부하매연판정1'] == 'Y'].groupby(['배출가스인증번호', '무부하매연판정1', '검사방법'], dropna=False)['차대번호'].agg('count')\n",
    "gas_grp_y_vin"
   ]
  },
  {
   "cell_type": "code",
   "execution_count": 110,
   "metadata": {},
   "outputs": [
    {
     "data": {
      "text/html": [
       "<div>\n",
       "<style scoped>\n",
       "    .dataframe tbody tr th:only-of-type {\n",
       "        vertical-align: middle;\n",
       "    }\n",
       "\n",
       "    .dataframe tbody tr th {\n",
       "        vertical-align: top;\n",
       "    }\n",
       "\n",
       "    .dataframe thead th {\n",
       "        text-align: right;\n",
       "    }\n",
       "</style>\n",
       "<table border=\"1\" class=\"dataframe\">\n",
       "  <thead>\n",
       "    <tr style=\"text-align: right;\">\n",
       "      <th></th>\n",
       "      <th></th>\n",
       "      <th></th>\n",
       "      <th>count</th>\n",
       "      <th>mean</th>\n",
       "      <th>min</th>\n",
       "      <th>max</th>\n",
       "    </tr>\n",
       "    <tr>\n",
       "      <th>배출가스인증번호</th>\n",
       "      <th>무부하매연판정1</th>\n",
       "      <th>검사방법</th>\n",
       "      <th></th>\n",
       "      <th></th>\n",
       "      <th></th>\n",
       "      <th></th>\n",
       "    </tr>\n",
       "  </thead>\n",
       "  <tbody>\n",
       "    <tr>\n",
       "      <th>7MY-HD-24-30</th>\n",
       "      <th>N</th>\n",
       "      <th>부하검사(LUG DOWN)</th>\n",
       "      <td>1</td>\n",
       "      <td>43.000000</td>\n",
       "      <td>43.0</td>\n",
       "      <td>43.0</td>\n",
       "    </tr>\n",
       "    <tr>\n",
       "      <th>4MY-AD-20</th>\n",
       "      <th>N</th>\n",
       "      <th>무부하검사(급가속)</th>\n",
       "      <td>1</td>\n",
       "      <td>51.000000</td>\n",
       "      <td>51.0</td>\n",
       "      <td>51.0</td>\n",
       "    </tr>\n",
       "    <tr>\n",
       "      <th>5MY-AD-13-06</th>\n",
       "      <th>N</th>\n",
       "      <th>무부하검사(급가속)</th>\n",
       "      <td>1</td>\n",
       "      <td>51.000000</td>\n",
       "      <td>51.0</td>\n",
       "      <td>51.0</td>\n",
       "    </tr>\n",
       "    <tr>\n",
       "      <th>5MY-AD-14-08</th>\n",
       "      <th>N</th>\n",
       "      <th>부하검사(KD-147)</th>\n",
       "      <td>1</td>\n",
       "      <td>65.000000</td>\n",
       "      <td>65.0</td>\n",
       "      <td>65.0</td>\n",
       "    </tr>\n",
       "    <tr>\n",
       "      <th>5MY-AD-14-18</th>\n",
       "      <th>N</th>\n",
       "      <th>무부하검사(급가속)</th>\n",
       "      <td>1</td>\n",
       "      <td>45.000000</td>\n",
       "      <td>45.0</td>\n",
       "      <td>45.0</td>\n",
       "    </tr>\n",
       "    <tr>\n",
       "      <th>...</th>\n",
       "      <th>...</th>\n",
       "      <th>...</th>\n",
       "      <td>...</td>\n",
       "      <td>...</td>\n",
       "      <td>...</td>\n",
       "      <td>...</td>\n",
       "    </tr>\n",
       "    <tr>\n",
       "      <th>C135</th>\n",
       "      <th>N</th>\n",
       "      <th>부하검사(KD-147)</th>\n",
       "      <td>1</td>\n",
       "      <td>53.000000</td>\n",
       "      <td>53.0</td>\n",
       "      <td>53.0</td>\n",
       "    </tr>\n",
       "    <tr>\n",
       "      <th>FMY-VTK-14-1</th>\n",
       "      <th>N</th>\n",
       "      <th>부하검사(LUG DOWN)</th>\n",
       "      <td>4</td>\n",
       "      <td>24.750000</td>\n",
       "      <td>18.0</td>\n",
       "      <td>38.0</td>\n",
       "    </tr>\n",
       "    <tr>\n",
       "      <th rowspan=\"3\" valign=\"top\">NaN</th>\n",
       "      <th rowspan=\"3\" valign=\"top\">N</th>\n",
       "      <th>무부하검사(급가속)</th>\n",
       "      <td>6</td>\n",
       "      <td>43.833333</td>\n",
       "      <td>16.0</td>\n",
       "      <td>91.0</td>\n",
       "    </tr>\n",
       "    <tr>\n",
       "      <th>부하검사(KD-147)</th>\n",
       "      <td>96</td>\n",
       "      <td>36.395833</td>\n",
       "      <td>10.0</td>\n",
       "      <td>94.0</td>\n",
       "    </tr>\n",
       "    <tr>\n",
       "      <th>부하검사(LUG DOWN)</th>\n",
       "      <td>3</td>\n",
       "      <td>17.666667</td>\n",
       "      <td>17.0</td>\n",
       "      <td>19.0</td>\n",
       "    </tr>\n",
       "  </tbody>\n",
       "</table>\n",
       "<p>167 rows × 4 columns</p>\n",
       "</div>"
      ],
      "text/plain": [
       "                                       count       mean   min   max\n",
       "배출가스인증번호      무부하매연판정1 검사방법                                        \n",
       " 7MY-HD-24-30 N        부하검사(LUG DOWN)      1  43.000000  43.0  43.0\n",
       "4MY-AD-20     N        무부하검사(급가속)          1  51.000000  51.0  51.0\n",
       "5MY-AD-13-06  N        무부하검사(급가속)          1  51.000000  51.0  51.0\n",
       "5MY-AD-14-08  N        부하검사(KD-147)        1  65.000000  65.0  65.0\n",
       "5MY-AD-14-18  N        무부하검사(급가속)          1  45.000000  45.0  45.0\n",
       "...                                      ...        ...   ...   ...\n",
       "C135          N        부하검사(KD-147)        1  53.000000  53.0  53.0\n",
       "FMY-VTK-14-1  N        부하검사(LUG DOWN)      4  24.750000  18.0  38.0\n",
       "NaN           N        무부하검사(급가속)          6  43.833333  16.0  91.0\n",
       "                       부하검사(KD-147)       96  36.395833  10.0  94.0\n",
       "                       부하검사(LUG DOWN)      3  17.666667  17.0  19.0\n",
       "\n",
       "[167 rows x 4 columns]"
      ]
     },
     "execution_count": 110,
     "metadata": {},
     "output_type": "execute_result"
    }
   ],
   "source": [
    "gas_grp_n = total[total['무부하매연판정1'] == 'N'].groupby(['배출가스인증번호', '무부하매연판정1', '검사방법'], dropna=False)['무부하매연측정치1'].agg(['count', 'mean', 'min', 'max'])\n",
    "gas_grp_n"
   ]
  },
  {
   "cell_type": "code",
   "execution_count": 111,
   "metadata": {},
   "outputs": [
    {
     "data": {
      "text/plain": [
       "배출가스인증번호       무부하매연판정1  검사방법          \n",
       " 7MY-HD-24-30  N         부하검사(LUG DOWN)     1\n",
       "4MY-AD-20      N         무부하검사(급가속)         1\n",
       "5MY-AD-13-06   N         무부하검사(급가속)         1\n",
       "5MY-AD-14-08   N         부하검사(KD-147)       1\n",
       "5MY-AD-14-18   N         무부하검사(급가속)         1\n",
       "                                           ..\n",
       "C135           N         부하검사(KD-147)       1\n",
       "FMY-VTK-14-1   N         부하검사(LUG DOWN)     4\n",
       "NaN            N         무부하검사(급가속)         6\n",
       "                         부하검사(KD-147)      96\n",
       "                         부하검사(LUG DOWN)     3\n",
       "Name: 차대번호, Length: 167, dtype: int64"
      ]
     },
     "execution_count": 111,
     "metadata": {},
     "output_type": "execute_result"
    }
   ],
   "source": [
    "gas_grp_n_vin = total[total['무부하매연판정1'] == 'N'].groupby(['배출가스인증번호', '무부하매연판정1', '검사방법'], dropna=False)['차대번호'].agg('count')\n",
    "gas_grp_n_vin"
   ]
  },
  {
   "cell_type": "code",
   "execution_count": 112,
   "metadata": {},
   "outputs": [
    {
     "data": {
      "text/html": [
       "<div>\n",
       "<style scoped>\n",
       "    .dataframe tbody tr th:only-of-type {\n",
       "        vertical-align: middle;\n",
       "    }\n",
       "\n",
       "    .dataframe tbody tr th {\n",
       "        vertical-align: top;\n",
       "    }\n",
       "\n",
       "    .dataframe thead th {\n",
       "        text-align: right;\n",
       "    }\n",
       "</style>\n",
       "<table border=\"1\" class=\"dataframe\">\n",
       "  <thead>\n",
       "    <tr style=\"text-align: right;\">\n",
       "      <th></th>\n",
       "      <th>배출가스인증번호</th>\n",
       "      <th>무부하매연판정1_x</th>\n",
       "      <th>검사방법_x</th>\n",
       "      <th>count_x</th>\n",
       "      <th>mean_x</th>\n",
       "      <th>min_x</th>\n",
       "      <th>max_x</th>\n",
       "      <th>무부하매연판정1_y</th>\n",
       "      <th>검사방법_y</th>\n",
       "      <th>count_y</th>\n",
       "      <th>mean_y</th>\n",
       "      <th>min_y</th>\n",
       "      <th>max_y</th>\n",
       "    </tr>\n",
       "  </thead>\n",
       "  <tbody>\n",
       "    <tr>\n",
       "      <th>0</th>\n",
       "      <td></td>\n",
       "      <td>Y</td>\n",
       "      <td>부하검사(ASM-Idling)</td>\n",
       "      <td>1.0</td>\n",
       "      <td>0.030000</td>\n",
       "      <td>0.03</td>\n",
       "      <td>0.03</td>\n",
       "      <td>NaN</td>\n",
       "      <td>NaN</td>\n",
       "      <td>NaN</td>\n",
       "      <td>NaN</td>\n",
       "      <td>NaN</td>\n",
       "      <td>NaN</td>\n",
       "    </tr>\n",
       "    <tr>\n",
       "      <th>1</th>\n",
       "      <td></td>\n",
       "      <td>Y</td>\n",
       "      <td>부하검사(KD-147)</td>\n",
       "      <td>2.0</td>\n",
       "      <td>7.500000</td>\n",
       "      <td>4.00</td>\n",
       "      <td>11.00</td>\n",
       "      <td>NaN</td>\n",
       "      <td>NaN</td>\n",
       "      <td>NaN</td>\n",
       "      <td>NaN</td>\n",
       "      <td>NaN</td>\n",
       "      <td>NaN</td>\n",
       "    </tr>\n",
       "    <tr>\n",
       "      <th>2</th>\n",
       "      <td>7MY-DC-24-72</td>\n",
       "      <td>Y</td>\n",
       "      <td>무부하검사(급가속)</td>\n",
       "      <td>1.0</td>\n",
       "      <td>2.000000</td>\n",
       "      <td>2.00</td>\n",
       "      <td>2.00</td>\n",
       "      <td>NaN</td>\n",
       "      <td>NaN</td>\n",
       "      <td>NaN</td>\n",
       "      <td>NaN</td>\n",
       "      <td>NaN</td>\n",
       "      <td>NaN</td>\n",
       "    </tr>\n",
       "    <tr>\n",
       "      <th>3</th>\n",
       "      <td>7MY-HD-24-30</td>\n",
       "      <td>Y</td>\n",
       "      <td>무부하검사(급가속)</td>\n",
       "      <td>2.0</td>\n",
       "      <td>0.500000</td>\n",
       "      <td>0.00</td>\n",
       "      <td>1.00</td>\n",
       "      <td>N</td>\n",
       "      <td>부하검사(LUG DOWN)</td>\n",
       "      <td>1.0</td>\n",
       "      <td>43.000000</td>\n",
       "      <td>43.0</td>\n",
       "      <td>43.0</td>\n",
       "    </tr>\n",
       "    <tr>\n",
       "      <th>4</th>\n",
       "      <td>7MY-HD-24-30</td>\n",
       "      <td>Y</td>\n",
       "      <td>부하검사(LUG DOWN)</td>\n",
       "      <td>5.0</td>\n",
       "      <td>9.200000</td>\n",
       "      <td>1.00</td>\n",
       "      <td>16.00</td>\n",
       "      <td>N</td>\n",
       "      <td>부하검사(LUG DOWN)</td>\n",
       "      <td>1.0</td>\n",
       "      <td>43.000000</td>\n",
       "      <td>43.0</td>\n",
       "      <td>43.0</td>\n",
       "    </tr>\n",
       "    <tr>\n",
       "      <th>...</th>\n",
       "      <td>...</td>\n",
       "      <td>...</td>\n",
       "      <td>...</td>\n",
       "      <td>...</td>\n",
       "      <td>...</td>\n",
       "      <td>...</td>\n",
       "      <td>...</td>\n",
       "      <td>...</td>\n",
       "      <td>...</td>\n",
       "      <td>...</td>\n",
       "      <td>...</td>\n",
       "      <td>...</td>\n",
       "      <td>...</td>\n",
       "    </tr>\n",
       "    <tr>\n",
       "      <th>542</th>\n",
       "      <td>NaN</td>\n",
       "      <td>Y</td>\n",
       "      <td>부하검사(KD-147)</td>\n",
       "      <td>4389.0</td>\n",
       "      <td>3.680565</td>\n",
       "      <td>0.00</td>\n",
       "      <td>25.00</td>\n",
       "      <td>N</td>\n",
       "      <td>부하검사(LUG DOWN)</td>\n",
       "      <td>3.0</td>\n",
       "      <td>17.666667</td>\n",
       "      <td>17.0</td>\n",
       "      <td>19.0</td>\n",
       "    </tr>\n",
       "    <tr>\n",
       "      <th>543</th>\n",
       "      <td>NaN</td>\n",
       "      <td>Y</td>\n",
       "      <td>부하검사(LUG DOWN)</td>\n",
       "      <td>305.0</td>\n",
       "      <td>3.442623</td>\n",
       "      <td>0.00</td>\n",
       "      <td>26.00</td>\n",
       "      <td>N</td>\n",
       "      <td>무부하검사(급가속)</td>\n",
       "      <td>6.0</td>\n",
       "      <td>43.833333</td>\n",
       "      <td>16.0</td>\n",
       "      <td>91.0</td>\n",
       "    </tr>\n",
       "    <tr>\n",
       "      <th>544</th>\n",
       "      <td>NaN</td>\n",
       "      <td>Y</td>\n",
       "      <td>부하검사(LUG DOWN)</td>\n",
       "      <td>305.0</td>\n",
       "      <td>3.442623</td>\n",
       "      <td>0.00</td>\n",
       "      <td>26.00</td>\n",
       "      <td>N</td>\n",
       "      <td>부하검사(KD-147)</td>\n",
       "      <td>96.0</td>\n",
       "      <td>36.395833</td>\n",
       "      <td>10.0</td>\n",
       "      <td>94.0</td>\n",
       "    </tr>\n",
       "    <tr>\n",
       "      <th>545</th>\n",
       "      <td>NaN</td>\n",
       "      <td>Y</td>\n",
       "      <td>부하검사(LUG DOWN)</td>\n",
       "      <td>305.0</td>\n",
       "      <td>3.442623</td>\n",
       "      <td>0.00</td>\n",
       "      <td>26.00</td>\n",
       "      <td>N</td>\n",
       "      <td>부하검사(LUG DOWN)</td>\n",
       "      <td>3.0</td>\n",
       "      <td>17.666667</td>\n",
       "      <td>17.0</td>\n",
       "      <td>19.0</td>\n",
       "    </tr>\n",
       "    <tr>\n",
       "      <th>546</th>\n",
       "      <td>8MY-BD-0M-24</td>\n",
       "      <td>NaN</td>\n",
       "      <td>NaN</td>\n",
       "      <td>NaN</td>\n",
       "      <td>NaN</td>\n",
       "      <td>NaN</td>\n",
       "      <td>NaN</td>\n",
       "      <td>N</td>\n",
       "      <td>부하검사(LUG DOWN)</td>\n",
       "      <td>1.0</td>\n",
       "      <td>16.000000</td>\n",
       "      <td>16.0</td>\n",
       "      <td>16.0</td>\n",
       "    </tr>\n",
       "  </tbody>\n",
       "</table>\n",
       "<p>547 rows × 13 columns</p>\n",
       "</div>"
      ],
      "text/plain": [
       "          배출가스인증번호 무부하매연판정1_x            검사방법_x  count_x    mean_x  min_x  \\\n",
       "0                           Y  부하검사(ASM-Idling)      1.0  0.030000   0.03   \n",
       "1                           Y      부하검사(KD-147)      2.0  7.500000   4.00   \n",
       "2     7MY-DC-24-72          Y        무부하검사(급가속)      1.0  2.000000   2.00   \n",
       "3     7MY-HD-24-30          Y        무부하검사(급가속)      2.0  0.500000   0.00   \n",
       "4     7MY-HD-24-30          Y    부하검사(LUG DOWN)      5.0  9.200000   1.00   \n",
       "..             ...        ...               ...      ...       ...    ...   \n",
       "542            NaN          Y      부하검사(KD-147)   4389.0  3.680565   0.00   \n",
       "543            NaN          Y    부하검사(LUG DOWN)    305.0  3.442623   0.00   \n",
       "544            NaN          Y    부하검사(LUG DOWN)    305.0  3.442623   0.00   \n",
       "545            NaN          Y    부하검사(LUG DOWN)    305.0  3.442623   0.00   \n",
       "546   8MY-BD-0M-24        NaN               NaN      NaN       NaN    NaN   \n",
       "\n",
       "     max_x 무부하매연판정1_y          검사방법_y  count_y     mean_y  min_y  max_y  \n",
       "0     0.03        NaN             NaN      NaN        NaN    NaN    NaN  \n",
       "1    11.00        NaN             NaN      NaN        NaN    NaN    NaN  \n",
       "2     2.00        NaN             NaN      NaN        NaN    NaN    NaN  \n",
       "3     1.00          N  부하검사(LUG DOWN)      1.0  43.000000   43.0   43.0  \n",
       "4    16.00          N  부하검사(LUG DOWN)      1.0  43.000000   43.0   43.0  \n",
       "..     ...        ...             ...      ...        ...    ...    ...  \n",
       "542  25.00          N  부하검사(LUG DOWN)      3.0  17.666667   17.0   19.0  \n",
       "543  26.00          N      무부하검사(급가속)      6.0  43.833333   16.0   91.0  \n",
       "544  26.00          N    부하검사(KD-147)     96.0  36.395833   10.0   94.0  \n",
       "545  26.00          N  부하검사(LUG DOWN)      3.0  17.666667   17.0   19.0  \n",
       "546    NaN          N  부하검사(LUG DOWN)      1.0  16.000000   16.0   16.0  \n",
       "\n",
       "[547 rows x 13 columns]"
      ]
     },
     "execution_count": 112,
     "metadata": {},
     "output_type": "execute_result"
    }
   ],
   "source": [
    "pd.merge(gas_grp_y.reset_index(), gas_grp_n.reset_index(), on='배출가스인증번호', how='outer')"
   ]
  },
  {
   "cell_type": "code",
   "execution_count": 113,
   "metadata": {},
   "outputs": [],
   "source": [
    "with pd.ExcelWriter('analysis2/4등급_데이터_점검/[BD1][통계][G4]배인번호별_검사방법별_매연측정치_통계.xlsx') as writer:\n",
    "    # 전체 합격/불합격별 대수 통계\n",
    "    gas_total_group.to_excel(writer, sheet_name='판정별_통계')\n",
    "    # 배출가스인증번호, 판정별 매연측정치 통계\n",
    "    gas_grp.to_excel(writer, sheet_name = '매연측정치_통계')\n",
    "    gas_vin_grp.to_excel(writer, sheet_name = '매연측정치_차대번호_통계')\n",
    "    # 매연판정 합격/불합격별 매연측정치 통계\n",
    "    gas_grp_y.to_excel(writer, sheet_name='합격_매연측정치_통계')\n",
    "    gas_grp_y_vin.to_excel(writer, sheet_name='합격_매연측정치_차대번호_통계')\n",
    "    gas_grp_n.to_excel(writer, sheet_name='불합격_매연측정치_통계')\n",
    "    gas_grp_n_vin.to_excel(writer, sheet_name='불합격_매연측정치_차대번호_통계')\n",
    "    # 합격/불합격 매연측정치 비교 통계\n",
    "    pd.merge(gas_grp_y.reset_index(), gas_grp_n.reset_index(), on='배출가스인증번호', how='outer').to_excel(writer, sheet_name='합격_불합격_매연측정치_통계_비교')"
   ]
  },
  {
   "cell_type": "code",
   "execution_count": null,
   "metadata": {},
   "outputs": [],
   "source": []
  }
 ],
 "metadata": {
  "kernelspec": {
   "display_name": "base",
   "language": "python",
   "name": "python3"
  },
  "language_info": {
   "codemirror_mode": {
    "name": "ipython",
    "version": 3
   },
   "file_extension": ".py",
   "mimetype": "text/x-python",
   "name": "python",
   "nbconvert_exporter": "python",
   "pygments_lexer": "ipython3",
   "version": "3.9.13"
  },
  "orig_nbformat": 4,
  "vscode": {
   "interpreter": {
    "hash": "ad2bdc8ecc057115af97d19610ffacc2b4e99fae6737bb82f5d7fb13d2f2c186"
   }
  }
 },
 "nbformat": 4,
 "nbformat_minor": 2
}
