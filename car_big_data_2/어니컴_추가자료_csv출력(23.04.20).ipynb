{
 "cells": [
  {
   "attachments": {},
   "cell_type": "markdown",
   "metadata": {},
   "source": [
    "# Library"
   ]
  },
  {
   "cell_type": "code",
   "execution_count": 2,
   "metadata": {},
   "outputs": [],
   "source": [
    "import pandas as pd\n",
    "import os\n",
    "import math\n",
    "from tqdm import tqdm\n",
    "from datetime import datetime"
   ]
  },
  {
   "cell_type": "code",
   "execution_count": 3,
   "metadata": {},
   "outputs": [],
   "source": [
    "# 소수점 옵션\n",
    "pd.options.display.float_format = '{:.2f}'.format\n",
    "# pd.reset_option('display.float_format')"
   ]
  },
  {
   "attachments": {},
   "cell_type": "markdown",
   "metadata": {},
   "source": [
    "# fold"
   ]
  },
  {
   "cell_type": "code",
   "execution_count": 140,
   "metadata": {},
   "outputs": [],
   "source": [
    "raw1_fold = 'D:/data/big2/BD1/raw'\n",
    "an1_fold = 'D:/data/big2/BD1/an'\n",
    "ods_fold = 'D:/data/big2/ODS'\n",
    "big2_fold = 'D:/data/big2'"
   ]
  },
  {
   "attachments": {},
   "cell_type": "markdown",
   "metadata": {},
   "source": [
    "# dsv to csv"
   ]
  },
  {
   "attachments": {},
   "cell_type": "markdown",
   "metadata": {},
   "source": [
    "## STD_CEG_CAR_CONF_CHG_MIG_230420"
   ]
  },
  {
   "cell_type": "code",
   "execution_count": 3,
   "metadata": {},
   "outputs": [
    {
     "name": "stderr",
     "output_type": "stream",
     "text": [
      "C:\\Users\\kbjung\\AppData\\Local\\Temp\\ipykernel_12788\\1058226554.py:1: DtypeWarning: Columns (1) have mixed types. Specify dtype option on import or set low_memory=False.\n",
      "  df = pd.read_csv(os.path.join(raw_fold, file_name), sep='|')\n"
     ]
    }
   ],
   "source": [
    "# about 13.6s\n",
    "name = 'STD_CEG_CAR_CONF_CHG_MIG_230420'\n",
    "file_name = f'{name}.dsv'\n",
    "df = pd.read_csv(os.path.join(raw1_fold, file_name), sep='|')"
   ]
  },
  {
   "cell_type": "code",
   "execution_count": 4,
   "metadata": {},
   "outputs": [
    {
     "name": "stdout",
     "output_type": "stream",
     "text": [
      "<class 'pandas.core.frame.DataFrame'>\n",
      "RangeIndex: 2564738 entries, 0 to 2564737\n",
      "Data columns (total 16 columns):\n",
      " #   Column                 Dtype  \n",
      "---  ------                 -----  \n",
      " 0   CRT_DT                 object \n",
      " 1   DRVE_AFMUL             object \n",
      " 2   GEARBOX_KND            object \n",
      " 3   MOLIT_LINK_FILE_NM     object \n",
      " 4   STRCT_CHG_YMD          int64  \n",
      " 5   STRCT_CHG_SPEC         object \n",
      " 6   STRCT_CHG_DTL_SPEC     object \n",
      " 7   STRCT_CHG_DTL_SPEC_CD  object \n",
      " 8   STRCT_CHG_INSPOF_NM    object \n",
      " 9   STRCT_CHG_SE           object \n",
      " 10  STRCT_CHG_SE_CD        object \n",
      " 11  MDFCN_DT               float64\n",
      " 12  USER_ID                object \n",
      " 13  VHCL_MNG_NO            object \n",
      " 14  VHRNO                  object \n",
      " 15  VIN                    object \n",
      "dtypes: float64(1), int64(1), object(14)\n",
      "memory usage: 313.1+ MB\n"
     ]
    }
   ],
   "source": [
    "df.info()"
   ]
  },
  {
   "cell_type": "code",
   "execution_count": 5,
   "metadata": {},
   "outputs": [
    {
     "data": {
      "text/html": [
       "<div>\n",
       "<style scoped>\n",
       "    .dataframe tbody tr th:only-of-type {\n",
       "        vertical-align: middle;\n",
       "    }\n",
       "\n",
       "    .dataframe tbody tr th {\n",
       "        vertical-align: top;\n",
       "    }\n",
       "\n",
       "    .dataframe thead th {\n",
       "        text-align: right;\n",
       "    }\n",
       "</style>\n",
       "<table border=\"1\" class=\"dataframe\">\n",
       "  <thead>\n",
       "    <tr style=\"text-align: right;\">\n",
       "      <th></th>\n",
       "      <th>CRT_DT</th>\n",
       "      <th>DRVE_AFMUL</th>\n",
       "      <th>GEARBOX_KND</th>\n",
       "      <th>MOLIT_LINK_FILE_NM</th>\n",
       "      <th>STRCT_CHG_YMD</th>\n",
       "      <th>STRCT_CHG_SPEC</th>\n",
       "      <th>STRCT_CHG_DTL_SPEC</th>\n",
       "      <th>STRCT_CHG_DTL_SPEC_CD</th>\n",
       "      <th>STRCT_CHG_INSPOF_NM</th>\n",
       "      <th>STRCT_CHG_SE</th>\n",
       "      <th>STRCT_CHG_SE_CD</th>\n",
       "      <th>MDFCN_DT</th>\n",
       "      <th>USER_ID</th>\n",
       "      <th>VHCL_MNG_NO</th>\n",
       "      <th>VHRNO</th>\n",
       "      <th>VIN</th>\n",
       "    </tr>\n",
       "  </thead>\n",
       "  <tbody>\n",
       "    <tr>\n",
       "      <th>0</th>\n",
       "      <td>19/06/20</td>\n",
       "      <td>NaN</td>\n",
       "      <td>M</td>\n",
       "      <td>20190619_EARLY_DATA</td>\n",
       "      <td>19780926</td>\n",
       "      <td>탱크로리구변</td>\n",
       "      <td>NaN</td>\n",
       "      <td>NaN</td>\n",
       "      <td>NaN</td>\n",
       "      <td>물품적재장치</td>\n",
       "      <td>6</td>\n",
       "      <td>NaN</td>\n",
       "      <td>SYSTEM</td>\n",
       "      <td>03781228812-01</td>\n",
       "      <td>서울8라3077</td>\n",
       "      <td>03781228812</td>\n",
       "    </tr>\n",
       "    <tr>\n",
       "      <th>1</th>\n",
       "      <td>19/06/20</td>\n",
       "      <td>NaN</td>\n",
       "      <td>M</td>\n",
       "      <td>20190619_EARLY_DATA</td>\n",
       "      <td>19780928</td>\n",
       "      <td>탱크로리구변</td>\n",
       "      <td>NaN</td>\n",
       "      <td>NaN</td>\n",
       "      <td>NaN</td>\n",
       "      <td>물품적재장치</td>\n",
       "      <td>6</td>\n",
       "      <td>NaN</td>\n",
       "      <td>SYSTEM</td>\n",
       "      <td>03781230159-01</td>\n",
       "      <td>서울7나5894</td>\n",
       "      <td>03781230159</td>\n",
       "    </tr>\n",
       "    <tr>\n",
       "      <th>2</th>\n",
       "      <td>19/06/20</td>\n",
       "      <td>NaN</td>\n",
       "      <td>M</td>\n",
       "      <td>20190619_EARLY_DATA</td>\n",
       "      <td>19781002</td>\n",
       "      <td>탱크로리구변</td>\n",
       "      <td>NaN</td>\n",
       "      <td>NaN</td>\n",
       "      <td>NaN</td>\n",
       "      <td>물품적재장치</td>\n",
       "      <td>6</td>\n",
       "      <td>NaN</td>\n",
       "      <td>SYSTEM</td>\n",
       "      <td>03781229694-01</td>\n",
       "      <td>서울7나5910</td>\n",
       "      <td>03781229694</td>\n",
       "    </tr>\n",
       "    <tr>\n",
       "      <th>3</th>\n",
       "      <td>19/06/20</td>\n",
       "      <td>NaN</td>\n",
       "      <td>M</td>\n",
       "      <td>20190619_EARLY_DATA</td>\n",
       "      <td>19781019</td>\n",
       "      <td>탱크로리구변</td>\n",
       "      <td>NaN</td>\n",
       "      <td>NaN</td>\n",
       "      <td>NaN</td>\n",
       "      <td>물품적재장치</td>\n",
       "      <td>6</td>\n",
       "      <td>NaN</td>\n",
       "      <td>SYSTEM</td>\n",
       "      <td>03781227715-01</td>\n",
       "      <td>서울8라2197</td>\n",
       "      <td>03781227715</td>\n",
       "    </tr>\n",
       "    <tr>\n",
       "      <th>4</th>\n",
       "      <td>19/06/20</td>\n",
       "      <td>NaN</td>\n",
       "      <td>M</td>\n",
       "      <td>20190619_EARLY_DATA</td>\n",
       "      <td>19781030</td>\n",
       "      <td>카고에서 탱크로 구변</td>\n",
       "      <td>NaN</td>\n",
       "      <td>NaN</td>\n",
       "      <td>NaN</td>\n",
       "      <td>물품적재장치</td>\n",
       "      <td>6</td>\n",
       "      <td>NaN</td>\n",
       "      <td>SYSTEM</td>\n",
       "      <td>03781201355-01</td>\n",
       "      <td>경기8다4041</td>\n",
       "      <td>03781201355</td>\n",
       "    </tr>\n",
       "  </tbody>\n",
       "</table>\n",
       "</div>"
      ],
      "text/plain": [
       "     CRT_DT DRVE_AFMUL GEARBOX_KND   MOLIT_LINK_FILE_NM  STRCT_CHG_YMD  \\\n",
       "0  19/06/20        NaN           M  20190619_EARLY_DATA       19780926   \n",
       "1  19/06/20        NaN           M  20190619_EARLY_DATA       19780928   \n",
       "2  19/06/20        NaN           M  20190619_EARLY_DATA       19781002   \n",
       "3  19/06/20        NaN           M  20190619_EARLY_DATA       19781019   \n",
       "4  19/06/20        NaN           M  20190619_EARLY_DATA       19781030   \n",
       "\n",
       "  STRCT_CHG_SPEC STRCT_CHG_DTL_SPEC STRCT_CHG_DTL_SPEC_CD STRCT_CHG_INSPOF_NM  \\\n",
       "0         탱크로리구변                NaN                   NaN                 NaN   \n",
       "1         탱크로리구변                NaN                   NaN                 NaN   \n",
       "2         탱크로리구변                NaN                   NaN                 NaN   \n",
       "3         탱크로리구변                NaN                   NaN                 NaN   \n",
       "4    카고에서 탱크로 구변                NaN                   NaN                 NaN   \n",
       "\n",
       "  STRCT_CHG_SE STRCT_CHG_SE_CD  MDFCN_DT USER_ID     VHCL_MNG_NO     VHRNO  \\\n",
       "0       물품적재장치               6       NaN  SYSTEM  03781228812-01  서울8라3077   \n",
       "1       물품적재장치               6       NaN  SYSTEM  03781230159-01  서울7나5894   \n",
       "2       물품적재장치               6       NaN  SYSTEM  03781229694-01  서울7나5910   \n",
       "3       물품적재장치               6       NaN  SYSTEM  03781227715-01  서울8라2197   \n",
       "4       물품적재장치               6       NaN  SYSTEM  03781201355-01  경기8다4041   \n",
       "\n",
       "           VIN  \n",
       "0  03781228812  \n",
       "1  03781230159  \n",
       "2  03781229694  \n",
       "3  03781227715  \n",
       "4  03781201355  "
      ]
     },
     "execution_count": 5,
     "metadata": {},
     "output_type": "execute_result"
    }
   ],
   "source": [
    "df.head()"
   ]
  },
  {
   "attachments": {},
   "cell_type": "markdown",
   "metadata": {},
   "source": [
    "### csv"
   ]
  },
  {
   "cell_type": "code",
   "execution_count": 6,
   "metadata": {},
   "outputs": [],
   "source": [
    "# about 44.1s\n",
    "file_name = f'{name}.csv'\n",
    "df.to_csv(os.path.join(raw1_fold, file_name), index=False)"
   ]
  },
  {
   "attachments": {},
   "cell_type": "markdown",
   "metadata": {},
   "source": [
    "## CEG_CAR_HISTORY_MIG_230420"
   ]
  },
  {
   "cell_type": "code",
   "execution_count": 3,
   "metadata": {},
   "outputs": [
    {
     "name": "stderr",
     "output_type": "stream",
     "text": [
      "C:\\Users\\kbjung\\AppData\\Local\\Temp\\ipykernel_11772\\4258192127.py:4: DtypeWarning: Columns (3,9,10,11,12,19,20,21,23,27,29,30,32) have mixed types. Specify dtype option on import or set low_memory=False.\n",
      "  df = pd.read_csv(os.path.join(raw_fold, file_name), sep='|')\n"
     ]
    }
   ],
   "source": [
    "# # about 22m 17.9s\n",
    "# name = 'CEG_CAR_HISTORY_MIG_230420'\n",
    "# file_name = f'{name}.dsv'\n",
    "# df = pd.read_csv(os.path.join(raw1_fold, file_name), sep='|')"
   ]
  },
  {
   "cell_type": "code",
   "execution_count": 4,
   "metadata": {},
   "outputs": [
    {
     "name": "stdout",
     "output_type": "stream",
     "text": [
      "<class 'pandas.core.frame.DataFrame'>\n",
      "RangeIndex: 50044248 entries, 0 to 50044247\n",
      "Data columns (total 34 columns):\n",
      " #   Column              Dtype  \n",
      "---  ------              -----  \n",
      " 0   VHMNO               object \n",
      " 1   PRCS_SNO            object \n",
      " 2   CHNG_DE             float64\n",
      " 3   CHNG_SE_CD          object \n",
      " 4   VHRNO               object \n",
      " 5   BSPL_LEDO_CD        float64\n",
      " 6   OWNR_SE             object \n",
      " 7   VHCTY               object \n",
      " 8   PURPS               object \n",
      " 9   NOW_OWNR_NM         object \n",
      " 10  NOW_MBERNO          object \n",
      " 11  BSPL_ADRS           object \n",
      " 12  OWNR_ADRS           object \n",
      " 13  VIN                 object \n",
      " 14  FST_REG_DE          float64\n",
      " 15  VHCL_YRIDNW         int64  \n",
      " 16  VHCL_MNFCT_DE       float64\n",
      " 17  EMIS_INSP_EFCT_DE   float64\n",
      " 18  SRCMNNO             object \n",
      " 19  EMIS_CRTCNO         object \n",
      " 20  EMIS_GRD            object \n",
      " 21  LEM_YN              object \n",
      " 22  LEM_KND             float64\n",
      " 23  LEM_STRCHG_YN       object \n",
      " 24  BSPL_ZIP            float64\n",
      " 25  VHRNO_NUM_INFO      int64  \n",
      " 26  VHCL_ERSR_YN        object \n",
      " 27  ACQS_DE             object \n",
      " 28  ACQS_AMT            float64\n",
      " 29  RMK                 object \n",
      " 30  MOLIT_LINK_FILE_NM  object \n",
      " 31  CRTN_DT             object \n",
      " 32  UPDT_DT             object \n",
      " 33  USER_ID             object \n",
      "dtypes: float64(8), int64(2), object(24)\n",
      "memory usage: 12.7+ GB\n"
     ]
    }
   ],
   "source": [
    "df.info()"
   ]
  },
  {
   "cell_type": "code",
   "execution_count": 5,
   "metadata": {},
   "outputs": [
    {
     "data": {
      "text/html": [
       "<div>\n",
       "<style scoped>\n",
       "    .dataframe tbody tr th:only-of-type {\n",
       "        vertical-align: middle;\n",
       "    }\n",
       "\n",
       "    .dataframe tbody tr th {\n",
       "        vertical-align: top;\n",
       "    }\n",
       "\n",
       "    .dataframe thead th {\n",
       "        text-align: right;\n",
       "    }\n",
       "</style>\n",
       "<table border=\"1\" class=\"dataframe\">\n",
       "  <thead>\n",
       "    <tr style=\"text-align: right;\">\n",
       "      <th></th>\n",
       "      <th>VHMNO</th>\n",
       "      <th>PRCS_SNO</th>\n",
       "      <th>CHNG_DE</th>\n",
       "      <th>CHNG_SE_CD</th>\n",
       "      <th>VHRNO</th>\n",
       "      <th>BSPL_LEDO_CD</th>\n",
       "      <th>OWNR_SE</th>\n",
       "      <th>VHCTY</th>\n",
       "      <th>PURPS</th>\n",
       "      <th>NOW_OWNR_NM</th>\n",
       "      <th>...</th>\n",
       "      <th>BSPL_ZIP</th>\n",
       "      <th>VHRNO_NUM_INFO</th>\n",
       "      <th>VHCL_ERSR_YN</th>\n",
       "      <th>ACQS_DE</th>\n",
       "      <th>ACQS_AMT</th>\n",
       "      <th>RMK</th>\n",
       "      <th>MOLIT_LINK_FILE_NM</th>\n",
       "      <th>CRTN_DT</th>\n",
       "      <th>UPDT_DT</th>\n",
       "      <th>USER_ID</th>\n",
       "    </tr>\n",
       "  </thead>\n",
       "  <tbody>\n",
       "    <tr>\n",
       "      <th>0</th>\n",
       "      <td>1G1F76E01J4121141-01</td>\n",
       "      <td>20190319170247470050401</td>\n",
       "      <td>20190319.0</td>\n",
       "      <td>CEGO</td>\n",
       "      <td>49마2725</td>\n",
       "      <td>4.812512e+09</td>\n",
       "      <td>R</td>\n",
       "      <td>P</td>\n",
       "      <td>P</td>\n",
       "      <td>NaN</td>\n",
       "      <td>...</td>\n",
       "      <td>NaN</td>\n",
       "      <td>492725</td>\n",
       "      <td>N</td>\n",
       "      <td>NaN</td>\n",
       "      <td>NaN</td>\n",
       "      <td>190319_DB위원회요청_1등급확정</td>\n",
       "      <td>NaN</td>\n",
       "      <td>19/03/19</td>\n",
       "      <td>NaN</td>\n",
       "      <td>SYSTEM</td>\n",
       "    </tr>\n",
       "    <tr>\n",
       "      <th>1</th>\n",
       "      <td>1G1F76E01J4121155-01</td>\n",
       "      <td>20190319170247470047403</td>\n",
       "      <td>20190319.0</td>\n",
       "      <td>CEGO</td>\n",
       "      <td>17고2413</td>\n",
       "      <td>3.020012e+09</td>\n",
       "      <td>R</td>\n",
       "      <td>P</td>\n",
       "      <td>P</td>\n",
       "      <td>NaN</td>\n",
       "      <td>...</td>\n",
       "      <td>NaN</td>\n",
       "      <td>172413</td>\n",
       "      <td>N</td>\n",
       "      <td>NaN</td>\n",
       "      <td>NaN</td>\n",
       "      <td>190319_DB위원회요청_1등급확정</td>\n",
       "      <td>NaN</td>\n",
       "      <td>19/03/19</td>\n",
       "      <td>NaN</td>\n",
       "      <td>SYSTEM</td>\n",
       "    </tr>\n",
       "    <tr>\n",
       "      <th>2</th>\n",
       "      <td>1G1F76E01J4121186-01</td>\n",
       "      <td>20190319170247470050625</td>\n",
       "      <td>20190319.0</td>\n",
       "      <td>CEGO</td>\n",
       "      <td>42보9269</td>\n",
       "      <td>2.820010e+09</td>\n",
       "      <td>R</td>\n",
       "      <td>P</td>\n",
       "      <td>P</td>\n",
       "      <td>NaN</td>\n",
       "      <td>...</td>\n",
       "      <td>NaN</td>\n",
       "      <td>429269</td>\n",
       "      <td>N</td>\n",
       "      <td>NaN</td>\n",
       "      <td>NaN</td>\n",
       "      <td>190319_DB위원회요청_1등급확정</td>\n",
       "      <td>NaN</td>\n",
       "      <td>19/03/19</td>\n",
       "      <td>NaN</td>\n",
       "      <td>SYSTEM</td>\n",
       "    </tr>\n",
       "    <tr>\n",
       "      <th>3</th>\n",
       "      <td>1G1F76E01J4121222-01</td>\n",
       "      <td>20190319170247470048594</td>\n",
       "      <td>20190319.0</td>\n",
       "      <td>CEGO</td>\n",
       "      <td>32주6567</td>\n",
       "      <td>1.126010e+09</td>\n",
       "      <td>R</td>\n",
       "      <td>P</td>\n",
       "      <td>P</td>\n",
       "      <td>NaN</td>\n",
       "      <td>...</td>\n",
       "      <td>NaN</td>\n",
       "      <td>326567</td>\n",
       "      <td>N</td>\n",
       "      <td>NaN</td>\n",
       "      <td>NaN</td>\n",
       "      <td>190319_DB위원회요청_1등급확정</td>\n",
       "      <td>NaN</td>\n",
       "      <td>19/03/19</td>\n",
       "      <td>NaN</td>\n",
       "      <td>SYSTEM</td>\n",
       "    </tr>\n",
       "    <tr>\n",
       "      <th>4</th>\n",
       "      <td>1G1F76E01J4121303-01</td>\n",
       "      <td>20190319170247470047614</td>\n",
       "      <td>20190319.0</td>\n",
       "      <td>CEGO</td>\n",
       "      <td>60로8573</td>\n",
       "      <td>4.136011e+09</td>\n",
       "      <td>R</td>\n",
       "      <td>P</td>\n",
       "      <td>P</td>\n",
       "      <td>NaN</td>\n",
       "      <td>...</td>\n",
       "      <td>NaN</td>\n",
       "      <td>608573</td>\n",
       "      <td>N</td>\n",
       "      <td>NaN</td>\n",
       "      <td>NaN</td>\n",
       "      <td>190319_DB위원회요청_1등급확정</td>\n",
       "      <td>NaN</td>\n",
       "      <td>19/03/19</td>\n",
       "      <td>NaN</td>\n",
       "      <td>SYSTEM</td>\n",
       "    </tr>\n",
       "  </tbody>\n",
       "</table>\n",
       "<p>5 rows × 34 columns</p>\n",
       "</div>"
      ],
      "text/plain": [
       "                  VHMNO                 PRCS_SNO     CHNG_DE CHNG_SE_CD  \\\n",
       "0  1G1F76E01J4121141-01  20190319170247470050401  20190319.0       CEGO   \n",
       "1  1G1F76E01J4121155-01  20190319170247470047403  20190319.0       CEGO   \n",
       "2  1G1F76E01J4121186-01  20190319170247470050625  20190319.0       CEGO   \n",
       "3  1G1F76E01J4121222-01  20190319170247470048594  20190319.0       CEGO   \n",
       "4  1G1F76E01J4121303-01  20190319170247470047614  20190319.0       CEGO   \n",
       "\n",
       "     VHRNO  BSPL_LEDO_CD OWNR_SE VHCTY PURPS NOW_OWNR_NM  ... BSPL_ZIP  \\\n",
       "0  49마2725  4.812512e+09       R     P     P         NaN  ...      NaN   \n",
       "1  17고2413  3.020012e+09       R     P     P         NaN  ...      NaN   \n",
       "2  42보9269  2.820010e+09       R     P     P         NaN  ...      NaN   \n",
       "3  32주6567  1.126010e+09       R     P     P         NaN  ...      NaN   \n",
       "4  60로8573  4.136011e+09       R     P     P         NaN  ...      NaN   \n",
       "\n",
       "  VHRNO_NUM_INFO VHCL_ERSR_YN ACQS_DE  ACQS_AMT                   RMK  \\\n",
       "0         492725            N     NaN       NaN  190319_DB위원회요청_1등급확정   \n",
       "1         172413            N     NaN       NaN  190319_DB위원회요청_1등급확정   \n",
       "2         429269            N     NaN       NaN  190319_DB위원회요청_1등급확정   \n",
       "3         326567            N     NaN       NaN  190319_DB위원회요청_1등급확정   \n",
       "4         608573            N     NaN       NaN  190319_DB위원회요청_1등급확정   \n",
       "\n",
       "   MOLIT_LINK_FILE_NM   CRTN_DT UPDT_DT USER_ID  \n",
       "0                 NaN  19/03/19     NaN  SYSTEM  \n",
       "1                 NaN  19/03/19     NaN  SYSTEM  \n",
       "2                 NaN  19/03/19     NaN  SYSTEM  \n",
       "3                 NaN  19/03/19     NaN  SYSTEM  \n",
       "4                 NaN  19/03/19     NaN  SYSTEM  \n",
       "\n",
       "[5 rows x 34 columns]"
      ]
     },
     "execution_count": 5,
     "metadata": {},
     "output_type": "execute_result"
    }
   ],
   "source": [
    "df.head()"
   ]
  },
  {
   "attachments": {},
   "cell_type": "markdown",
   "metadata": {},
   "source": [
    "### csv"
   ]
  },
  {
   "cell_type": "code",
   "execution_count": 8,
   "metadata": {},
   "outputs": [],
   "source": [
    "per = 10000000"
   ]
  },
  {
   "cell_type": "code",
   "execution_count": 9,
   "metadata": {},
   "outputs": [
    {
     "data": {
      "text/plain": [
       "7"
      ]
     },
     "execution_count": 9,
     "metadata": {},
     "output_type": "execute_result"
    }
   ],
   "source": [
    "num = math.ceil(df.shape[0] / per) + 1\n",
    "num"
   ]
  },
  {
   "cell_type": "code",
   "execution_count": 10,
   "metadata": {},
   "outputs": [],
   "source": [
    "# about 21m 42.6s\n",
    "for i in range(1, num):\n",
    "    file_name = f'{name}_{i:0>2}.csv'\n",
    "    df.iloc[per*(i-1):per*i].to_csv(os.path.join(raw1_fold, file_name), index=False)"
   ]
  },
  {
   "cell_type": "code",
   "execution_count": 11,
   "metadata": {},
   "outputs": [],
   "source": [
    "# about 21m 9.8s\n",
    "file_name = f'{name}.csv'\n",
    "df.to_csv(os.path.join(raw1_fold, file_name), index=False)"
   ]
  },
  {
   "attachments": {},
   "cell_type": "markdown",
   "metadata": {},
   "source": [
    "# csv 로드"
   ]
  },
  {
   "attachments": {},
   "cell_type": "markdown",
   "metadata": {},
   "source": [
    "## STD_CEG_CAR_CONF_CHG_MIG_230420"
   ]
  },
  {
   "cell_type": "code",
   "execution_count": 6,
   "metadata": {},
   "outputs": [],
   "source": [
    "# about 13.7s\n",
    "# 구조변경 테이블(추정)\n",
    "name = 'STD_CEG_CAR_CONF_CHG_MIG_230420'\n",
    "file_name = f'{name}.csv'\n",
    "std = pd.read_csv(os.path.join(raw1_fold, file_name), nrows=1000)"
   ]
  },
  {
   "cell_type": "code",
   "execution_count": 7,
   "metadata": {},
   "outputs": [
    {
     "name": "stdout",
     "output_type": "stream",
     "text": [
      "<class 'pandas.core.frame.DataFrame'>\n",
      "RangeIndex: 1000 entries, 0 to 999\n",
      "Data columns (total 16 columns):\n",
      " #   Column                 Non-Null Count  Dtype  \n",
      "---  ------                 --------------  -----  \n",
      " 0   CRT_DT                 1000 non-null   object \n",
      " 1   DRVE_AFMUL             0 non-null      float64\n",
      " 2   GEARBOX_KND            1000 non-null   object \n",
      " 3   MOLIT_LINK_FILE_NM     1000 non-null   object \n",
      " 4   STRCT_CHG_YMD          1000 non-null   int64  \n",
      " 5   STRCT_CHG_SPEC         968 non-null    object \n",
      " 6   STRCT_CHG_DTL_SPEC     2 non-null      object \n",
      " 7   STRCT_CHG_DTL_SPEC_CD  2 non-null      float64\n",
      " 8   STRCT_CHG_INSPOF_NM    179 non-null    object \n",
      " 9   STRCT_CHG_SE           987 non-null    object \n",
      " 10  STRCT_CHG_SE_CD        987 non-null    object \n",
      " 11  MDFCN_DT               0 non-null      float64\n",
      " 12  USER_ID                1000 non-null   object \n",
      " 13  VHCL_MNG_NO            1000 non-null   object \n",
      " 14  VHRNO                  1000 non-null   object \n",
      " 15  VIN                    1000 non-null   object \n",
      "dtypes: float64(3), int64(1), object(12)\n",
      "memory usage: 125.1+ KB\n"
     ]
    }
   ],
   "source": [
    "std.info()"
   ]
  },
  {
   "cell_type": "code",
   "execution_count": 8,
   "metadata": {},
   "outputs": [
    {
     "data": {
      "text/html": [
       "<div>\n",
       "<style scoped>\n",
       "    .dataframe tbody tr th:only-of-type {\n",
       "        vertical-align: middle;\n",
       "    }\n",
       "\n",
       "    .dataframe tbody tr th {\n",
       "        vertical-align: top;\n",
       "    }\n",
       "\n",
       "    .dataframe thead th {\n",
       "        text-align: right;\n",
       "    }\n",
       "</style>\n",
       "<table border=\"1\" class=\"dataframe\">\n",
       "  <thead>\n",
       "    <tr style=\"text-align: right;\">\n",
       "      <th></th>\n",
       "      <th>CRT_DT</th>\n",
       "      <th>DRVE_AFMUL</th>\n",
       "      <th>GEARBOX_KND</th>\n",
       "      <th>MOLIT_LINK_FILE_NM</th>\n",
       "      <th>STRCT_CHG_YMD</th>\n",
       "      <th>STRCT_CHG_SPEC</th>\n",
       "      <th>STRCT_CHG_DTL_SPEC</th>\n",
       "      <th>STRCT_CHG_DTL_SPEC_CD</th>\n",
       "      <th>STRCT_CHG_INSPOF_NM</th>\n",
       "      <th>STRCT_CHG_SE</th>\n",
       "      <th>STRCT_CHG_SE_CD</th>\n",
       "      <th>MDFCN_DT</th>\n",
       "      <th>USER_ID</th>\n",
       "      <th>VHCL_MNG_NO</th>\n",
       "      <th>VHRNO</th>\n",
       "      <th>VIN</th>\n",
       "    </tr>\n",
       "  </thead>\n",
       "  <tbody>\n",
       "    <tr>\n",
       "      <th>0</th>\n",
       "      <td>19/06/20</td>\n",
       "      <td>NaN</td>\n",
       "      <td>M</td>\n",
       "      <td>20190619_EARLY_DATA</td>\n",
       "      <td>19780926</td>\n",
       "      <td>탱크로리구변</td>\n",
       "      <td>NaN</td>\n",
       "      <td>NaN</td>\n",
       "      <td>NaN</td>\n",
       "      <td>물품적재장치</td>\n",
       "      <td>6</td>\n",
       "      <td>NaN</td>\n",
       "      <td>SYSTEM</td>\n",
       "      <td>03781228812-01</td>\n",
       "      <td>서울8라3077</td>\n",
       "      <td>03781228812</td>\n",
       "    </tr>\n",
       "    <tr>\n",
       "      <th>1</th>\n",
       "      <td>19/06/20</td>\n",
       "      <td>NaN</td>\n",
       "      <td>M</td>\n",
       "      <td>20190619_EARLY_DATA</td>\n",
       "      <td>19780928</td>\n",
       "      <td>탱크로리구변</td>\n",
       "      <td>NaN</td>\n",
       "      <td>NaN</td>\n",
       "      <td>NaN</td>\n",
       "      <td>물품적재장치</td>\n",
       "      <td>6</td>\n",
       "      <td>NaN</td>\n",
       "      <td>SYSTEM</td>\n",
       "      <td>03781230159-01</td>\n",
       "      <td>서울7나5894</td>\n",
       "      <td>03781230159</td>\n",
       "    </tr>\n",
       "    <tr>\n",
       "      <th>2</th>\n",
       "      <td>19/06/20</td>\n",
       "      <td>NaN</td>\n",
       "      <td>M</td>\n",
       "      <td>20190619_EARLY_DATA</td>\n",
       "      <td>19781002</td>\n",
       "      <td>탱크로리구변</td>\n",
       "      <td>NaN</td>\n",
       "      <td>NaN</td>\n",
       "      <td>NaN</td>\n",
       "      <td>물품적재장치</td>\n",
       "      <td>6</td>\n",
       "      <td>NaN</td>\n",
       "      <td>SYSTEM</td>\n",
       "      <td>03781229694-01</td>\n",
       "      <td>서울7나5910</td>\n",
       "      <td>03781229694</td>\n",
       "    </tr>\n",
       "    <tr>\n",
       "      <th>3</th>\n",
       "      <td>19/06/20</td>\n",
       "      <td>NaN</td>\n",
       "      <td>M</td>\n",
       "      <td>20190619_EARLY_DATA</td>\n",
       "      <td>19781019</td>\n",
       "      <td>탱크로리구변</td>\n",
       "      <td>NaN</td>\n",
       "      <td>NaN</td>\n",
       "      <td>NaN</td>\n",
       "      <td>물품적재장치</td>\n",
       "      <td>6</td>\n",
       "      <td>NaN</td>\n",
       "      <td>SYSTEM</td>\n",
       "      <td>03781227715-01</td>\n",
       "      <td>서울8라2197</td>\n",
       "      <td>03781227715</td>\n",
       "    </tr>\n",
       "    <tr>\n",
       "      <th>4</th>\n",
       "      <td>19/06/20</td>\n",
       "      <td>NaN</td>\n",
       "      <td>M</td>\n",
       "      <td>20190619_EARLY_DATA</td>\n",
       "      <td>19781030</td>\n",
       "      <td>카고에서 탱크로 구변</td>\n",
       "      <td>NaN</td>\n",
       "      <td>NaN</td>\n",
       "      <td>NaN</td>\n",
       "      <td>물품적재장치</td>\n",
       "      <td>6</td>\n",
       "      <td>NaN</td>\n",
       "      <td>SYSTEM</td>\n",
       "      <td>03781201355-01</td>\n",
       "      <td>경기8다4041</td>\n",
       "      <td>03781201355</td>\n",
       "    </tr>\n",
       "  </tbody>\n",
       "</table>\n",
       "</div>"
      ],
      "text/plain": [
       "     CRT_DT  DRVE_AFMUL GEARBOX_KND   MOLIT_LINK_FILE_NM  STRCT_CHG_YMD   \n",
       "0  19/06/20         NaN           M  20190619_EARLY_DATA       19780926  \\\n",
       "1  19/06/20         NaN           M  20190619_EARLY_DATA       19780928   \n",
       "2  19/06/20         NaN           M  20190619_EARLY_DATA       19781002   \n",
       "3  19/06/20         NaN           M  20190619_EARLY_DATA       19781019   \n",
       "4  19/06/20         NaN           M  20190619_EARLY_DATA       19781030   \n",
       "\n",
       "  STRCT_CHG_SPEC STRCT_CHG_DTL_SPEC  STRCT_CHG_DTL_SPEC_CD   \n",
       "0         탱크로리구변                NaN                    NaN  \\\n",
       "1         탱크로리구변                NaN                    NaN   \n",
       "2         탱크로리구변                NaN                    NaN   \n",
       "3         탱크로리구변                NaN                    NaN   \n",
       "4    카고에서 탱크로 구변                NaN                    NaN   \n",
       "\n",
       "  STRCT_CHG_INSPOF_NM STRCT_CHG_SE STRCT_CHG_SE_CD  MDFCN_DT USER_ID   \n",
       "0                 NaN       물품적재장치               6       NaN  SYSTEM  \\\n",
       "1                 NaN       물품적재장치               6       NaN  SYSTEM   \n",
       "2                 NaN       물품적재장치               6       NaN  SYSTEM   \n",
       "3                 NaN       물품적재장치               6       NaN  SYSTEM   \n",
       "4                 NaN       물품적재장치               6       NaN  SYSTEM   \n",
       "\n",
       "      VHCL_MNG_NO     VHRNO          VIN  \n",
       "0  03781228812-01  서울8라3077  03781228812  \n",
       "1  03781230159-01  서울7나5894  03781230159  \n",
       "2  03781229694-01  서울7나5910  03781229694  \n",
       "3  03781227715-01  서울8라2197  03781227715  \n",
       "4  03781201355-01  경기8다4041  03781201355  "
      ]
     },
     "execution_count": 8,
     "metadata": {},
     "output_type": "execute_result"
    }
   ],
   "source": [
    "std.head()"
   ]
  },
  {
   "cell_type": "code",
   "execution_count": 9,
   "metadata": {},
   "outputs": [
    {
     "data": {
      "text/plain": [
       "CRT_DT                      0\n",
       "DRVE_AFMUL               1000\n",
       "GEARBOX_KND                 0\n",
       "MOLIT_LINK_FILE_NM          0\n",
       "STRCT_CHG_YMD               0\n",
       "STRCT_CHG_SPEC             32\n",
       "STRCT_CHG_DTL_SPEC        998\n",
       "STRCT_CHG_DTL_SPEC_CD     998\n",
       "STRCT_CHG_INSPOF_NM       821\n",
       "STRCT_CHG_SE               13\n",
       "STRCT_CHG_SE_CD            13\n",
       "MDFCN_DT                 1000\n",
       "USER_ID                     0\n",
       "VHCL_MNG_NO                 0\n",
       "VHRNO                       0\n",
       "VIN                         0\n",
       "dtype: int64"
      ]
     },
     "execution_count": 9,
     "metadata": {},
     "output_type": "execute_result"
    }
   ],
   "source": [
    "std.isnull().sum()"
   ]
  },
  {
   "cell_type": "code",
   "execution_count": 10,
   "metadata": {},
   "outputs": [
    {
     "data": {
      "text/plain": [
       "Index(['CRT_DT', 'DRVE_AFMUL', 'GEARBOX_KND', 'MOLIT_LINK_FILE_NM',\n",
       "       'STRCT_CHG_YMD', 'STRCT_CHG_SPEC', 'STRCT_CHG_DTL_SPEC',\n",
       "       'STRCT_CHG_DTL_SPEC_CD', 'STRCT_CHG_INSPOF_NM', 'STRCT_CHG_SE',\n",
       "       'STRCT_CHG_SE_CD', 'MDFCN_DT', 'USER_ID', 'VHCL_MNG_NO', 'VHRNO',\n",
       "       'VIN'],\n",
       "      dtype='object')"
      ]
     },
     "execution_count": 10,
     "metadata": {},
     "output_type": "execute_result"
    }
   ],
   "source": [
    "std.columns"
   ]
  },
  {
   "cell_type": "code",
   "execution_count": 11,
   "metadata": {},
   "outputs": [],
   "source": [
    "# 컬럼 한글화\n",
    "col_dict = {\n",
    "    'CRT_DT':'생성일시',\n",
    "    'DRVE_AFMUL':'구동방식',\n",
    "    'GEARBOX_KND':'변속기종류',\n",
    "    'MOLIT_LINK_FILE_NM':'국토부연계파일명', # 국토부연계파일명\n",
    "    'STRCT_CHG_YMD':'구조변경일자', # 구조변경일자\n",
    "    'STRCT_CHG_SPEC':'구조변경상세사양', # 구조변경상세사양\n",
    "    'STRCT_CHG_DTL_SPEC':'구조변경상세사양코드', # 구조변경상세사양코드\n",
    "    'STRCT_CHG_DTL_SPEC_CD':'구조변경상세사양코드', # 구조변경상세사양코드\n",
    "    'STRCT_CHG_INSPOF_NM':'구조변경검사소명', # 구조변경검사소명\n",
    "    'STRCT_CHG_SE':'구조변경구분', # 구조변경구분\n",
    "    'STRCT_CHG_SE_CD':'구조변경구분코드', # 구조변경구분코드\n",
    "    'MDFCN_DT':'수정일시',\n",
    "    'USER_ID':'사용자ID',\n",
    "    'VHCL_MNG_NO':'차량관리번호',\n",
    "    'VHRNO':'자동차등록정보',\n",
    "    'VIN':'차대번호',\n",
    "    }"
   ]
  },
  {
   "cell_type": "code",
   "execution_count": 12,
   "metadata": {},
   "outputs": [
    {
     "data": {
      "text/plain": [
       "Index(['생성일시', '구동방식', '변속기종류', '미정', '구조변경일자', '미정', '미정', '미정', '미정', '미정',\n",
       "       '미정', '수정일시', '사용자ID', '차량관리번호', '자동차등록정보', '차대번호'],\n",
       "      dtype='object')"
      ]
     },
     "execution_count": 12,
     "metadata": {},
     "output_type": "execute_result"
    }
   ],
   "source": [
    "std.columns = [col_dict[x] for x in std.columns]\n",
    "std.columns"
   ]
  },
  {
   "attachments": {},
   "cell_type": "markdown",
   "metadata": {},
   "source": [
    "### 샘플"
   ]
  },
  {
   "cell_type": "code",
   "execution_count": 13,
   "metadata": {},
   "outputs": [],
   "source": [
    "std.to_excel(os.path.join(raw1_fold, '샘플_STD_CEG_CAR_CONF_CHG_MIG_230420.xlsx'), index=False)"
   ]
  },
  {
   "attachments": {},
   "cell_type": "markdown",
   "metadata": {},
   "source": [
    "## CEG_CAR_HISTORY_MIG_230420"
   ]
  },
  {
   "cell_type": "code",
   "execution_count": 5,
   "metadata": {},
   "outputs": [],
   "source": [
    "# about 25m 0.8s\n",
    "name = 'CEG_CAR_HISTORY_MIG_230420'\n",
    "file_name = f'{name}.csv'\n",
    "his = pd.read_csv(os.path.join(raw1_fold, file_name), low_memory=False)"
   ]
  },
  {
   "cell_type": "code",
   "execution_count": 6,
   "metadata": {},
   "outputs": [
    {
     "name": "stdout",
     "output_type": "stream",
     "text": [
      "<class 'pandas.core.frame.DataFrame'>\n",
      "RangeIndex: 50044248 entries, 0 to 50044247\n",
      "Data columns (total 34 columns):\n",
      " #   Column              Dtype  \n",
      "---  ------              -----  \n",
      " 0   VHMNO               object \n",
      " 1   PRCS_SNO            object \n",
      " 2   CHNG_DE             float64\n",
      " 3   CHNG_SE_CD          object \n",
      " 4   VHRNO               object \n",
      " 5   BSPL_LEDO_CD        float64\n",
      " 6   OWNR_SE             object \n",
      " 7   VHCTY               object \n",
      " 8   PURPS               object \n",
      " 9   NOW_OWNR_NM         object \n",
      " 10  NOW_MBERNO          object \n",
      " 11  BSPL_ADRS           object \n",
      " 12  OWNR_ADRS           object \n",
      " 13  VIN                 object \n",
      " 14  FST_REG_DE          float64\n",
      " 15  VHCL_YRIDNW         int64  \n",
      " 16  VHCL_MNFCT_DE       float64\n",
      " 17  EMIS_INSP_EFCT_DE   float64\n",
      " 18  SRCMNNO             object \n",
      " 19  EMIS_CRTCNO         object \n",
      " 20  EMIS_GRD            object \n",
      " 21  LEM_YN              object \n",
      " 22  LEM_KND             float64\n",
      " 23  LEM_STRCHG_YN       object \n",
      " 24  BSPL_ZIP            float64\n",
      " 25  VHRNO_NUM_INFO      int64  \n",
      " 26  VHCL_ERSR_YN        object \n",
      " 27  ACQS_DE             object \n",
      " 28  ACQS_AMT            float64\n",
      " 29  RMK                 object \n",
      " 30  MOLIT_LINK_FILE_NM  object \n",
      " 31  CRTN_DT             object \n",
      " 32  UPDT_DT             object \n",
      " 33  USER_ID             object \n",
      "dtypes: float64(8), int64(2), object(24)\n",
      "memory usage: 12.7+ GB\n"
     ]
    }
   ],
   "source": [
    "his.info()"
   ]
  },
  {
   "cell_type": "code",
   "execution_count": 7,
   "metadata": {},
   "outputs": [],
   "source": [
    "# 0   VHMNO               object  -> \n",
    "# 1   PRCS_SNO            object  -> \n",
    "# 2   CHNG_DE             float64 ->\n",
    "# 3   CHNG_SE_CD          object  ->\n",
    "# 4   VHRNO               object  ->\n",
    "# 5   BSPL_LEDO_CD        float64 ->\n",
    "# 6   OWNR_SE             object  ->\n",
    "# 7   VHCTY               object  ->\n",
    "# 8   PURPS               object  ->\n",
    "# 9   NOW_OWNR_NM         object  ->\n",
    "# 10  NOW_MBERNO          object  ->\n",
    "# 11  BSPL_ADRS           object  ->\n",
    "# 12  OWNR_ADRS           object  ->\n",
    "# 13  VIN                 object  ->\n",
    "# 14  FST_REG_DE          float64 ->\n",
    "# 15  VHCL_YRIDNW         int64   ->\n",
    "# 16  VHCL_MNFCT_DE       float64 ->\n",
    "# 17  EMIS_INSP_EFCT_DE   float64 ->\n",
    "# 18  SRCMNNO             object  ->\n",
    "# 19  EMIS_CRTCNO         object  ->\n",
    "# 20  EMIS_GRD            object  ->\n",
    "# 21  LEM_YN              object  ->\n",
    "# 22  LEM_KND             float64 ->\n",
    "# 23  LEM_STRCHG_YN       object  ->\n",
    "# 24  BSPL_ZIP            float64 ->\n",
    "# 25  VHRNO_NUM_INFO      int64   ->\n",
    "# 26  VHCL_ERSR_YN        object  ->\n",
    "# 27  ACQS_DE             object  ->\n",
    "# 28  ACQS_AMT            float64 ->\n",
    "# 29  RMK                 object  ->\n",
    "# 30  MOLIT_LINK_FILE_NM  object  ->\n",
    "# 31  CRTN_DT             object  ->\n",
    "# 32  UPDT_DT             object  ->\n",
    "# 33  USER_ID             object  ->"
   ]
  },
  {
   "cell_type": "code",
   "execution_count": 8,
   "metadata": {},
   "outputs": [],
   "source": [
    "col_dict = {\n",
    "    'VHMNO':'차량관리번호',\n",
    "    'PRCS_SNO':'처리_SNO', # 처리SNO\n",
    "    'CHNG_DE':'변경일자', # 변경일자\n",
    "    'CHNG_SE_CD':'변경구분코드', # 변경구분코드\n",
    "    'VHRNO':'차량등록번호',\n",
    "    'BSPL_LEDO_CD':'본거지법정동코드',\n",
    "    'OWNR_SE':'소유자구분',\n",
    "    'VHCTY':'차종',\n",
    "    'PURPS':'용도',\n",
    "    'NOW_OWNR_NM':'현재소유자명', # 현재소유자명\n",
    "    'NOW_MBERNO':'현재회원번호',\n",
    "    'BSPL_ADRS':'본거지주소', # 본거지주소\n",
    "    'OWNR_ADRS':'소유자주소', # 소유자주소\n",
    "    'VIN':'차대번호',\n",
    "    'FST_REG_DE':'최초등록일자',\n",
    "    'VHCL_YRIDNW':'차량연식',\n",
    "    'VHCL_MNFCT_DE':'차량제작일자',\n",
    "    'EMIS_INSP_EFCT_DE':'배출가스검사유효일자',\n",
    "    'SRCMNNO':'제원관리번호',\n",
    "    'EMIS_CRTCNO':'배출가스인증번호',\n",
    "    'EMIS_GRD':'배출가스등급',\n",
    "    'LEM_YN':'저공해조치YN',\n",
    "    'LEM_KND':'저공해조치종류',\n",
    "    'LEM_STRCHG_YN':'저공해조치구조변경YN',\n",
    "    'BSPL_ZIP':'본거지우편번호', # 본거지우편번호\n",
    "    'VHRNO_NUM_INFO':'차량등록번호숫자정보',\n",
    "    'VHCL_ERSR_YN':'차량말소YN',\n",
    "    'ACQS_DE':'취득일자',\n",
    "    'ACQS_AMT':'취득금액',\n",
    "    'RMK':'비고',\n",
    "    'MOLIT_LINK_FILE_NM':'국토부연계파일명', # 국토부연계파일명\n",
    "    'CRTN_DT':'생성일시',\n",
    "    'UPDT_DT':'수정일시',\n",
    "    'USER_ID':'사용자ID'}"
   ]
  },
  {
   "cell_type": "code",
   "execution_count": 9,
   "metadata": {},
   "outputs": [
    {
     "data": {
      "text/plain": [
       "Index(['차량관리번호', '처리_SNO', '변경일자', '변경구분코드', '차량등록번호', '본거지법정동코드', '소유자구분',\n",
       "       '차종', '용도', '현재소유자명', '현재회원번호', '본거지주소', '소유자주소', '차대번호', '최초등록일자',\n",
       "       '차량연식', '차량제작일자', '배출가스검사유효일자', '제원관리번호', '배출가스인증번호', '배출가스등급',\n",
       "       '저공해조치YN', '저공해조치종류', '저공해조치구조변경YN', '본거지우편번호', '차량등록번호숫자정보', '차량말소YN',\n",
       "       '취득일자', '취득금액', '비고', '국토부연계파일명', '생성일시', '수정일시', '사용자ID'],\n",
       "      dtype='object')"
      ]
     },
     "execution_count": 9,
     "metadata": {},
     "output_type": "execute_result"
    }
   ],
   "source": [
    "his.columns = [col_dict[x] for x in his.columns]\n",
    "his.columns"
   ]
  },
  {
   "cell_type": "code",
   "execution_count": 10,
   "metadata": {},
   "outputs": [
    {
     "data": {
      "text/plain": [
       "count   50037386.00\n",
       "mean    20205039.70\n",
       "std         9815.94\n",
       "min     19840228.00\n",
       "25%     20200417.00\n",
       "50%     20201103.00\n",
       "75%     20210907.00\n",
       "max     20221122.00\n",
       "Name: 변경일자, dtype: float64"
      ]
     },
     "execution_count": 10,
     "metadata": {},
     "output_type": "execute_result"
    }
   ],
   "source": [
    "his['변경일자'].describe()"
   ]
  },
  {
   "cell_type": "code",
   "execution_count": 14,
   "metadata": {},
   "outputs": [
    {
     "data": {
      "text/plain": [
       "6862"
      ]
     },
     "execution_count": 14,
     "metadata": {},
     "output_type": "execute_result"
    }
   ],
   "source": [
    "his['변경일자'].isnull().sum()"
   ]
  },
  {
   "cell_type": "code",
   "execution_count": 11,
   "metadata": {},
   "outputs": [
    {
     "data": {
      "text/plain": [
       "array(['CEGO', 'CEGC', '1100', '1210', '1110', '1410', '1023', '1430',\n",
       "       '1411', '1071', '1010', '1250', '1222', '1120', '1427', '1021',\n",
       "       '1414', '1415', '1017', '1444', '1419', '1015', '1425', '1418',\n",
       "       '1014', '1443', '1012', '1019', '1140', '1412', '1130', '1440',\n",
       "       '1431', '1013', '1016', '1458', '1081', '1413', '1441', '1421',\n",
       "       '1420', '1442', '1455', '1424', '1445', '1423', '1432', '1422',\n",
       "       '1018', '1011', '1417', '1447', '1091', '1446', '1433', '1211',\n",
       "       '1448'], dtype=object)"
      ]
     },
     "execution_count": 11,
     "metadata": {},
     "output_type": "execute_result"
    }
   ],
   "source": [
    "his['변경구분코드'].unique()"
   ]
  },
  {
   "cell_type": "code",
   "execution_count": 12,
   "metadata": {},
   "outputs": [
    {
     "data": {
      "text/plain": [
       "변경구분코드\n",
       "1210    13147718\n",
       "1100    11846334\n",
       "CEGO    10738784\n",
       "1110     4522138\n",
       "CEGC     3038433\n",
       "1411     2394726\n",
       "1427      956976\n",
       "1120      936618\n",
       "1023      512129\n",
       "1250      469364\n",
       "1021      416343\n",
       "1211      328741\n",
       "1410      223139\n",
       "1430      221724\n",
       "1071       56105\n",
       "1222       43026\n",
       "1444       20648\n",
       "1081       20445\n",
       "1414       20246\n",
       "1415       17851\n",
       "1418       14856\n",
       "1140       14421\n",
       "1017        9534\n",
       "1440        8457\n",
       "1014        8002\n",
       "1012        6883\n",
       "1015        6058\n",
       "1010        5837\n",
       "1458        4806\n",
       "1130        4380\n",
       "1019        3929\n",
       "1431        3195\n",
       "1419        2940\n",
       "1425        2734\n",
       "1412        2540\n",
       "1013        2370\n",
       "1016        1940\n",
       "1443        1714\n",
       "1442        1403\n",
       "1441        1302\n",
       "1424        1188\n",
       "1018         876\n",
       "1421         785\n",
       "1413         712\n",
       "1011         549\n",
       "1420         310\n",
       "1432         306\n",
       "1447         241\n",
       "1091         134\n",
       "1445         107\n",
       "1455          70\n",
       "1417          56\n",
       "1433          55\n",
       "1423          33\n",
       "1422          27\n",
       "1446           8\n",
       "1448           2\n",
       "Name: count, dtype: int64"
      ]
     },
     "execution_count": 12,
     "metadata": {},
     "output_type": "execute_result"
    }
   ],
   "source": [
    "his['변경구분코드'].value_counts(dropna=False)"
   ]
  },
  {
   "cell_type": "code",
   "execution_count": 13,
   "metadata": {},
   "outputs": [
    {
     "data": {
      "text/plain": [
       "차량말소YN\n",
       "N    46355117\n",
       "Y     3689131\n",
       "Name: count, dtype: int64"
      ]
     },
     "execution_count": 13,
     "metadata": {},
     "output_type": "execute_result"
    }
   ],
   "source": [
    "his['차량말소YN'].value_counts(dropna=False)"
   ]
  },
  {
   "attachments": {},
   "cell_type": "markdown",
   "metadata": {},
   "source": [
    "### 변경구분코드로 추출\n",
    "- CEGO, CEGC 제외"
   ]
  },
  {
   "cell_type": "code",
   "execution_count": 17,
   "metadata": {},
   "outputs": [
    {
     "data": {
      "text/plain": [
       "(50044248, 34)"
      ]
     },
     "execution_count": 17,
     "metadata": {},
     "output_type": "execute_result"
    }
   ],
   "source": [
    "his.shape"
   ]
  },
  {
   "cell_type": "code",
   "execution_count": 31,
   "metadata": {},
   "outputs": [
    {
     "data": {
      "text/plain": [
       "(36267031, 5)"
      ]
     },
     "execution_count": 31,
     "metadata": {},
     "output_type": "execute_result"
    }
   ],
   "source": [
    "# about 49.7s\n",
    "his01 = his.loc[(his['변경구분코드'] != 'CEGO') & (his['변경구분코드'] != 'CEGC'), ['차량관리번호', '차대번호', '차량말소YN', '변경일자', '변경구분코드']].reset_index(drop=True)\n",
    "his01.shape"
   ]
  },
  {
   "cell_type": "code",
   "execution_count": 24,
   "metadata": {},
   "outputs": [
    {
     "data": {
      "text/plain": [
       "13777217"
      ]
     },
     "execution_count": 24,
     "metadata": {},
     "output_type": "execute_result"
    }
   ],
   "source": [
    "his.shape[0] - his01.shape[0]"
   ]
  },
  {
   "attachments": {},
   "cell_type": "markdown",
   "metadata": {},
   "source": [
    "#### 출력"
   ]
  },
  {
   "cell_type": "code",
   "execution_count": 64,
   "metadata": {},
   "outputs": [],
   "source": [
    "# about 1m 59.9s\n",
    "his01.to_csv(os.path.join(raw1_fold, 'CEG_CAR_HISTORY_MIG_230420_수정01.csv'), index=False)"
   ]
  },
  {
   "attachments": {},
   "cell_type": "markdown",
   "metadata": {},
   "source": [
    "# 차량 폐차 현황"
   ]
  },
  {
   "attachments": {},
   "cell_type": "markdown",
   "metadata": {},
   "source": [
    "## 1\\. [로드] 데이터"
   ]
  },
  {
   "attachments": {},
   "cell_type": "markdown",
   "metadata": {},
   "source": [
    "### 1-1\\. 등록&제원"
   ]
  },
  {
   "cell_type": "code",
   "execution_count": 86,
   "metadata": {},
   "outputs": [
    {
     "name": "stdout",
     "output_type": "stream",
     "text": [
      "<class 'pandas.core.frame.DataFrame'>\n",
      "RangeIndex: 29534047 entries, 0 to 29534046\n",
      "Data columns (total 11 columns):\n",
      " #   Column    Dtype \n",
      "---  ------    ----- \n",
      " 0   차량관리번호    object\n",
      " 1   본거지법정동코드  int64 \n",
      " 2   차종_등록정보   object\n",
      " 3   차대번호      object\n",
      " 4   차량연식      int64 \n",
      " 5   제원관리번호    object\n",
      " 6   배출가스인증번호  object\n",
      " 7   배출가스등급    object\n",
      " 8   차량말소YN    object\n",
      " 9   차명        object\n",
      " 10  연료        object\n",
      "dtypes: int64(2), object(9)\n",
      "memory usage: 2.4+ GB\n"
     ]
    }
   ],
   "source": [
    "# about 5m 3.9s\n",
    "name = '[ODS]등록정보&제원정보(2022.12.28)'\n",
    "file_name = f'{name}.csv'\n",
    "smig = pd.read_csv(os.path.join(ods_fold, file_name), low_memory=False, usecols=['차량관리번호', '차대번호', '차량말소YN', '배출가스인증번호', '배출가스등급', '제원관리번호', '차종_등록정보', '차량연식', '연료', '차명', '본거지법정동코드'], encoding='cp949')\n",
    "smig.info()"
   ]
  },
  {
   "cell_type": "code",
   "execution_count": 170,
   "metadata": {},
   "outputs": [
    {
     "data": {
      "text/plain": [
       "차량말소YN\n",
       "N    25693532\n",
       "Y     3840515\n",
       "Name: count, dtype: int64"
      ]
     },
     "execution_count": 170,
     "metadata": {},
     "output_type": "execute_result"
    }
   ],
   "source": [
    "smig['차량말소YN'].value_counts(dropna=False)"
   ]
  },
  {
   "cell_type": "code",
   "execution_count": 71,
   "metadata": {},
   "outputs": [
    {
     "data": {
      "text/plain": [
       "((29534047, 12), 29534043)"
      ]
     },
     "execution_count": 71,
     "metadata": {},
     "output_type": "execute_result"
    }
   ],
   "source": [
    "smig.shape, len(smig['차량관리번호'].unique())"
   ]
  },
  {
   "cell_type": "code",
   "execution_count": 72,
   "metadata": {},
   "outputs": [
    {
     "data": {
      "text/plain": [
       "29521505"
      ]
     },
     "execution_count": 72,
     "metadata": {},
     "output_type": "execute_result"
    }
   ],
   "source": [
    "len(smig['차대번호'].unique())"
   ]
  },
  {
   "attachments": {},
   "cell_type": "markdown",
   "metadata": {},
   "source": [
    "### 1-2\\. CEG_CAR_HISTORY_MIG_230420_수정01"
   ]
  },
  {
   "cell_type": "code",
   "execution_count": 91,
   "metadata": {},
   "outputs": [
    {
     "name": "stdout",
     "output_type": "stream",
     "text": [
      "<class 'pandas.core.frame.DataFrame'>\n",
      "RangeIndex: 36267031 entries, 0 to 36267030\n",
      "Data columns (total 5 columns):\n",
      " #   Column  Dtype  \n",
      "---  ------  -----  \n",
      " 0   차량관리번호  object \n",
      " 1   차대번호    object \n",
      " 2   차량말소YN  object \n",
      " 3   변경일자    float64\n",
      " 4   변경구분코드  int64  \n",
      "dtypes: float64(1), int64(1), object(3)\n",
      "memory usage: 1.4+ GB\n"
     ]
    }
   ],
   "source": [
    "# about 2m 25.8s\n",
    "name = 'CEG_CAR_HISTORY_MIG_230420_수정01'\n",
    "file_name = f'{name}.csv'\n",
    "his = pd.read_csv(os.path.join(raw1_fold, file_name), low_memory=False)\n",
    "his.info()"
   ]
  },
  {
   "cell_type": "code",
   "execution_count": 93,
   "metadata": {},
   "outputs": [
    {
     "data": {
      "text/plain": [
       "((36267031, 5), 19399228)"
      ]
     },
     "execution_count": 93,
     "metadata": {},
     "output_type": "execute_result"
    }
   ],
   "source": [
    "his.shape, len(his['차량관리번호'].unique())"
   ]
  },
  {
   "cell_type": "code",
   "execution_count": 94,
   "metadata": {},
   "outputs": [
    {
     "data": {
      "text/plain": [
       "19400662"
      ]
     },
     "execution_count": 94,
     "metadata": {},
     "output_type": "execute_result"
    }
   ],
   "source": [
    "len(his['차대번호'].unique())"
   ]
  },
  {
   "attachments": {},
   "cell_type": "markdown",
   "metadata": {},
   "source": [
    "### 1-3\\. 법정동코드"
   ]
  },
  {
   "cell_type": "code",
   "execution_count": 89,
   "metadata": {},
   "outputs": [
    {
     "name": "stdout",
     "output_type": "stream",
     "text": [
      "<class 'pandas.core.frame.DataFrame'>\n",
      "RangeIndex: 46342 entries, 0 to 46341\n",
      "Data columns (total 9 columns):\n",
      " #   Column    Non-Null Count  Dtype  \n",
      "---  ------    --------------  -----  \n",
      " 0   법정동코드     46342 non-null  int64  \n",
      " 1   시도        46342 non-null  object \n",
      " 2   시구군       46319 non-null  object \n",
      " 3   읍면동       45849 non-null  object \n",
      " 4   리         33682 non-null  object \n",
      " 5   지역3       0 non-null      float64\n",
      " 6   폐지여부      46342 non-null  object \n",
      " 7   대기관리권역    46342 non-null  object \n",
      " 8   대기관리권역YN  46337 non-null  object \n",
      "dtypes: float64(1), int64(1), object(7)\n",
      "memory usage: 3.2+ MB\n"
     ]
    }
   ],
   "source": [
    "# about 8.9s\n",
    "name = '법정동코드_2022.10.14(수정2023.05.04)'\n",
    "file_name = f'{name}.xlsx'\n",
    "code = pd.read_excel(os.path.join(big2_fold, file_name))\n",
    "code.info()"
   ]
  },
  {
   "attachments": {},
   "cell_type": "markdown",
   "metadata": {},
   "source": [
    "## 2\\. 차량관리번호 기준으로 병합"
   ]
  },
  {
   "cell_type": "code",
   "execution_count": 95,
   "metadata": {},
   "outputs": [
    {
     "data": {
      "text/plain": [
       "(46401826, 15)"
      ]
     },
     "execution_count": 95,
     "metadata": {},
     "output_type": "execute_result"
    }
   ],
   "source": [
    "# about 2m 0.3s\n",
    "df = smig.merge(his, on='차량관리번호', how='left')\n",
    "df.shape"
   ]
  },
  {
   "cell_type": "code",
   "execution_count": 96,
   "metadata": {},
   "outputs": [
    {
     "data": {
      "text/plain": [
       "Index(['차량관리번호', '본거지법정동코드', '차종_등록정보', '차대번호_x', '차량연식', '제원관리번호', '배출가스인증번호',\n",
       "       '배출가스등급', '차량말소YN_x', '차명', '연료', '차대번호_y', '차량말소YN_y', '변경일자',\n",
       "       '변경구분코드'],\n",
       "      dtype='object')"
      ]
     },
     "execution_count": 96,
     "metadata": {},
     "output_type": "execute_result"
    }
   ],
   "source": [
    "df.columns"
   ]
  },
  {
   "cell_type": "code",
   "execution_count": 97,
   "metadata": {},
   "outputs": [
    {
     "data": {
      "text/plain": [
       "Index(['차량관리번호', '본거지법정동코드', '차종_등록정보', '차대번호', '차량연식', '제원관리번호', '배출가스인증번호',\n",
       "       '배출가스등급', '차량말소YN_등록정보', '차명', '연료', '차량말소YN_변경이력', '변경일자', '변경구분코드'],\n",
       "      dtype='object')"
      ]
     },
     "execution_count": 97,
     "metadata": {},
     "output_type": "execute_result"
    }
   ],
   "source": [
    "df = df.drop('차대번호_y', axis=1)\n",
    "df = df.rename(columns={'차량말소YN_x':'차량말소YN_등록정보', '차량말소YN_y':'차량말소YN_변경이력', '차대번호_x':'차대번호'})\n",
    "df.columns"
   ]
  },
  {
   "attachments": {},
   "cell_type": "markdown",
   "metadata": {},
   "source": [
    "## 3\\. 차량말소(등록과 변경이력) : Y 추출"
   ]
  },
  {
   "cell_type": "code",
   "execution_count": 98,
   "metadata": {},
   "outputs": [
    {
     "data": {
      "text/plain": [
       "(3671025, 14)"
      ]
     },
     "execution_count": 98,
     "metadata": {},
     "output_type": "execute_result"
    }
   ],
   "source": [
    "df = df.loc[(df['차량말소YN_등록정보'] == 'Y') & (df['차량말소YN_변경이력'] == 'Y')].reset_index(drop=True)\n",
    "df.shape"
   ]
  },
  {
   "cell_type": "code",
   "execution_count": 99,
   "metadata": {},
   "outputs": [
    {
     "data": {
      "text/plain": [
       "0"
      ]
     },
     "execution_count": 99,
     "metadata": {},
     "output_type": "execute_result"
    }
   ],
   "source": [
    "df['변경일자'].isnull().sum()"
   ]
  },
  {
   "cell_type": "code",
   "execution_count": 100,
   "metadata": {},
   "outputs": [
    {
     "data": {
      "text/plain": [
       "count    3671025.00\n",
       "mean    20204821.91\n",
       "std         9403.21\n",
       "min     19971111.00\n",
       "25%     20200306.00\n",
       "50%     20201130.00\n",
       "75%     20210818.00\n",
       "max     20220628.00\n",
       "Name: 변경일자, dtype: float64"
      ]
     },
     "execution_count": 100,
     "metadata": {},
     "output_type": "execute_result"
    }
   ],
   "source": [
    "df['변경일자'].describe()"
   ]
  },
  {
   "attachments": {},
   "cell_type": "markdown",
   "metadata": {},
   "source": [
    "## 4\\. 차대번호 중복 제거(최신 변경일자 기준)"
   ]
  },
  {
   "cell_type": "code",
   "execution_count": 101,
   "metadata": {},
   "outputs": [
    {
     "data": {
      "text/plain": [
       "(3642360, 14)"
      ]
     },
     "execution_count": 101,
     "metadata": {},
     "output_type": "execute_result"
    }
   ],
   "source": [
    "# about 13.5s\n",
    "df = df.sort_values('변경일자', ascending=False).drop_duplicates('차대번호').reset_index(drop=True)\n",
    "df.shape"
   ]
  },
  {
   "attachments": {},
   "cell_type": "markdown",
   "metadata": {},
   "source": [
    "## 5\\. 변경일자 2019.01.01 이후만 추출"
   ]
  },
  {
   "cell_type": "code",
   "execution_count": 102,
   "metadata": {},
   "outputs": [
    {
     "data": {
      "text/plain": [
       "(3642251, 14)"
      ]
     },
     "execution_count": 102,
     "metadata": {},
     "output_type": "execute_result"
    }
   ],
   "source": [
    "df.loc[df['변경일자'] >= 20190101].shape"
   ]
  },
  {
   "cell_type": "code",
   "execution_count": 103,
   "metadata": {},
   "outputs": [
    {
     "data": {
      "text/plain": [
       "(3642251, 14)"
      ]
     },
     "execution_count": 103,
     "metadata": {},
     "output_type": "execute_result"
    }
   ],
   "source": [
    "# about 1.4s\n",
    "df = df.loc[df['변경일자'] >= 20190101].reset_index(drop=True)\n",
    "df.shape"
   ]
  },
  {
   "cell_type": "code",
   "execution_count": 104,
   "metadata": {},
   "outputs": [
    {
     "data": {
      "text/plain": [
       "count    3642251.00\n",
       "mean    20204829.13\n",
       "std         9393.15\n",
       "min     20190108.00\n",
       "25%     20200306.00\n",
       "50%     20201130.00\n",
       "75%     20210818.00\n",
       "max     20220628.00\n",
       "Name: 변경일자, dtype: float64"
      ]
     },
     "execution_count": 104,
     "metadata": {},
     "output_type": "execute_result"
    }
   ],
   "source": [
    "df['변경일자'].describe()"
   ]
  },
  {
   "attachments": {},
   "cell_type": "markdown",
   "metadata": {},
   "source": [
    "## 6\\. 법정동 코드 병합"
   ]
  },
  {
   "cell_type": "code",
   "execution_count": 105,
   "metadata": {},
   "outputs": [
    {
     "data": {
      "text/plain": [
       "Index(['차량관리번호', '본거지법정동코드', '차종_등록정보', '차대번호', '차량연식', '제원관리번호', '배출가스인증번호',\n",
       "       '배출가스등급', '차량말소YN_등록정보', '차명', '연료', '차량말소YN_변경이력', '변경일자', '변경구분코드'],\n",
       "      dtype='object')"
      ]
     },
     "execution_count": 105,
     "metadata": {},
     "output_type": "execute_result"
    }
   ],
   "source": [
    "df.columns"
   ]
  },
  {
   "cell_type": "code",
   "execution_count": 106,
   "metadata": {},
   "outputs": [
    {
     "data": {
      "text/plain": [
       "Index(['법정동코드', '시도', '시구군', '읍면동', '리', '지역3', '폐지여부', '대기관리권역', '대기관리권역YN'], dtype='object')"
      ]
     },
     "execution_count": 106,
     "metadata": {},
     "output_type": "execute_result"
    }
   ],
   "source": [
    "code.columns"
   ]
  },
  {
   "cell_type": "code",
   "execution_count": 107,
   "metadata": {},
   "outputs": [
    {
     "data": {
      "text/plain": [
       "(3642251, 14)"
      ]
     },
     "execution_count": 107,
     "metadata": {},
     "output_type": "execute_result"
    }
   ],
   "source": [
    "df.shape"
   ]
  },
  {
   "cell_type": "code",
   "execution_count": 108,
   "metadata": {},
   "outputs": [
    {
     "data": {
      "text/plain": [
       "(3642251, 23)"
      ]
     },
     "execution_count": 108,
     "metadata": {},
     "output_type": "execute_result"
    }
   ],
   "source": [
    "df = df.merge(code, left_on='본거지법정동코드', right_on='법정동코드', how='left')\n",
    "df.shape"
   ]
  },
  {
   "cell_type": "code",
   "execution_count": 109,
   "metadata": {},
   "outputs": [
    {
     "data": {
      "text/plain": [
       "0"
      ]
     },
     "execution_count": 109,
     "metadata": {},
     "output_type": "execute_result"
    }
   ],
   "source": [
    "df['시도'].isnull().sum()"
   ]
  },
  {
   "attachments": {},
   "cell_type": "markdown",
   "metadata": {},
   "source": [
    "### [출력] 전처리 완료 파일"
   ]
  },
  {
   "cell_type": "code",
   "execution_count": 111,
   "metadata": {},
   "outputs": [
    {
     "data": {
      "text/plain": [
       "'2023.05.19'"
      ]
     },
     "execution_count": 111,
     "metadata": {},
     "output_type": "execute_result"
    }
   ],
   "source": [
    "today_date = datetime.today().strftime(\"%Y.%m.%d\")\n",
    "today_date"
   ]
  },
  {
   "cell_type": "code",
   "execution_count": 112,
   "metadata": {},
   "outputs": [],
   "source": [
    "# about 33.3s\n",
    "df.to_csv(os.path.join(ods_fold, f'폐차정보_전처리완료({today_date}).xlsx'), index=False)"
   ]
  },
  {
   "attachments": {},
   "cell_type": "markdown",
   "metadata": {},
   "source": [
    "## 7\\. 월별 폐차 현황"
   ]
  },
  {
   "cell_type": "code",
   "execution_count": 113,
   "metadata": {},
   "outputs": [
    {
     "data": {
      "text/plain": [
       "(3642251, 23)"
      ]
     },
     "execution_count": 113,
     "metadata": {},
     "output_type": "execute_result"
    }
   ],
   "source": [
    "df.shape"
   ]
  },
  {
   "cell_type": "code",
   "execution_count": 114,
   "metadata": {},
   "outputs": [
    {
     "data": {
      "text/plain": [
       "Index(['차량관리번호', '본거지법정동코드', '차종_등록정보', '차대번호', '차량연식', '제원관리번호', '배출가스인증번호',\n",
       "       '배출가스등급', '차량말소YN_등록정보', '차명', '연료', '차량말소YN_변경이력', '변경일자', '변경구분코드',\n",
       "       '법정동코드', '시도', '시구군', '읍면동', '리', '지역3', '폐지여부', '대기관리권역', '대기관리권역YN'],\n",
       "      dtype='object')"
      ]
     },
     "execution_count": 114,
     "metadata": {},
     "output_type": "execute_result"
    }
   ],
   "source": [
    "df.columns"
   ]
  },
  {
   "cell_type": "code",
   "execution_count": 117,
   "metadata": {},
   "outputs": [
    {
     "data": {
      "text/plain": [
       "('2019', '01', '01')"
      ]
     },
     "execution_count": 117,
     "metadata": {},
     "output_type": "execute_result"
    }
   ],
   "source": [
    "'20190101'[:4], '20190101'[4:6], '20190101'[6:]"
   ]
  },
  {
   "cell_type": "code",
   "execution_count": 119,
   "metadata": {},
   "outputs": [],
   "source": [
    "df['변경일자'] = df['변경일자'].astype('str')"
   ]
  },
  {
   "cell_type": "code",
   "execution_count": 123,
   "metadata": {},
   "outputs": [],
   "source": [
    "df['변경일자_년'] = df['변경일자'].str[:4]\n",
    "df['변경일자_월'] = df['변경일자'].str[4:6]\n",
    "df['변경일자_일'] = df['변경일자'].str[6:8]"
   ]
  },
  {
   "cell_type": "code",
   "execution_count": 124,
   "metadata": {},
   "outputs": [
    {
     "data": {
      "text/html": [
       "<div>\n",
       "<style scoped>\n",
       "    .dataframe tbody tr th:only-of-type {\n",
       "        vertical-align: middle;\n",
       "    }\n",
       "\n",
       "    .dataframe tbody tr th {\n",
       "        vertical-align: top;\n",
       "    }\n",
       "\n",
       "    .dataframe thead th {\n",
       "        text-align: right;\n",
       "    }\n",
       "</style>\n",
       "<table border=\"1\" class=\"dataframe\">\n",
       "  <thead>\n",
       "    <tr style=\"text-align: right;\">\n",
       "      <th></th>\n",
       "      <th>변경일자_년</th>\n",
       "      <th>변경일자_월</th>\n",
       "      <th>변경일자_일</th>\n",
       "    </tr>\n",
       "  </thead>\n",
       "  <tbody>\n",
       "    <tr>\n",
       "      <th>0</th>\n",
       "      <td>2022</td>\n",
       "      <td>06</td>\n",
       "      <td>28</td>\n",
       "    </tr>\n",
       "    <tr>\n",
       "      <th>1</th>\n",
       "      <td>2022</td>\n",
       "      <td>06</td>\n",
       "      <td>28</td>\n",
       "    </tr>\n",
       "    <tr>\n",
       "      <th>2</th>\n",
       "      <td>2022</td>\n",
       "      <td>06</td>\n",
       "      <td>28</td>\n",
       "    </tr>\n",
       "    <tr>\n",
       "      <th>3</th>\n",
       "      <td>2022</td>\n",
       "      <td>06</td>\n",
       "      <td>28</td>\n",
       "    </tr>\n",
       "    <tr>\n",
       "      <th>4</th>\n",
       "      <td>2022</td>\n",
       "      <td>06</td>\n",
       "      <td>28</td>\n",
       "    </tr>\n",
       "  </tbody>\n",
       "</table>\n",
       "</div>"
      ],
      "text/plain": [
       "  변경일자_년 변경일자_월 변경일자_일\n",
       "0   2022     06     28\n",
       "1   2022     06     28\n",
       "2   2022     06     28\n",
       "3   2022     06     28\n",
       "4   2022     06     28"
      ]
     },
     "execution_count": 124,
     "metadata": {},
     "output_type": "execute_result"
    }
   ],
   "source": [
    "df[['변경일자_년', '변경일자_월', '변경일자_일']].head()"
   ]
  },
  {
   "cell_type": "code",
   "execution_count": 125,
   "metadata": {},
   "outputs": [],
   "source": [
    "df[['변경일자_년', '변경일자_월', '변경일자_일']] = df[['변경일자_년', '변경일자_월', '변경일자_일']].astype('int')"
   ]
  },
  {
   "cell_type": "code",
   "execution_count": 127,
   "metadata": {},
   "outputs": [
    {
     "data": {
      "text/plain": [
       "Index(['차량관리번호', '본거지법정동코드', '차종_등록정보', '차대번호', '차량연식', '제원관리번호', '배출가스인증번호',\n",
       "       '배출가스등급', '차량말소YN_등록정보', '차명', '연료', '차량말소YN_변경이력', '변경일자', '변경구분코드',\n",
       "       '법정동코드', '시도', '시구군', '읍면동', '리', '지역3', '폐지여부', '대기관리권역', '대기관리권역YN',\n",
       "       '변경일자_년', '변경일자_월', '변경일자_일'],\n",
       "      dtype='object')"
      ]
     },
     "execution_count": 127,
     "metadata": {},
     "output_type": "execute_result"
    }
   ],
   "source": [
    "df.columns"
   ]
  },
  {
   "cell_type": "code",
   "execution_count": 160,
   "metadata": {},
   "outputs": [
    {
     "data": {
      "text/plain": [
       "array(['X', '2', '5', '3', '4', '1', 'T2', 'T3', 'T4', 'T5', nan],\n",
       "      dtype=object)"
      ]
     },
     "execution_count": 160,
     "metadata": {},
     "output_type": "execute_result"
    }
   ],
   "source": [
    "df['배출가스등급'].unique()"
   ]
  },
  {
   "cell_type": "code",
   "execution_count": 165,
   "metadata": {},
   "outputs": [
    {
     "data": {
      "text/html": [
       "<div>\n",
       "<style scoped>\n",
       "    .dataframe tbody tr th:only-of-type {\n",
       "        vertical-align: middle;\n",
       "    }\n",
       "\n",
       "    .dataframe tbody tr th {\n",
       "        vertical-align: top;\n",
       "    }\n",
       "\n",
       "    .dataframe thead th {\n",
       "        text-align: right;\n",
       "    }\n",
       "</style>\n",
       "<table border=\"1\" class=\"dataframe\">\n",
       "  <thead>\n",
       "    <tr style=\"text-align: right;\">\n",
       "      <th>변경일자_년</th>\n",
       "      <th>2019</th>\n",
       "      <th>2020</th>\n",
       "      <th>2021</th>\n",
       "      <th>2022</th>\n",
       "    </tr>\n",
       "    <tr>\n",
       "      <th>변경일자_월</th>\n",
       "      <th></th>\n",
       "      <th></th>\n",
       "      <th></th>\n",
       "      <th></th>\n",
       "    </tr>\n",
       "  </thead>\n",
       "  <tbody>\n",
       "    <tr>\n",
       "      <th>1</th>\n",
       "      <td>7.00</td>\n",
       "      <td>88100.00</td>\n",
       "      <td>85248.00</td>\n",
       "      <td>73283.00</td>\n",
       "    </tr>\n",
       "    <tr>\n",
       "      <th>2</th>\n",
       "      <td>13.00</td>\n",
       "      <td>95024.00</td>\n",
       "      <td>78430.00</td>\n",
       "      <td>70422.00</td>\n",
       "    </tr>\n",
       "    <tr>\n",
       "      <th>3</th>\n",
       "      <td>4.00</td>\n",
       "      <td>109440.00</td>\n",
       "      <td>119163.00</td>\n",
       "      <td>90059.00</td>\n",
       "    </tr>\n",
       "    <tr>\n",
       "      <th>4</th>\n",
       "      <td>4.00</td>\n",
       "      <td>101337.00</td>\n",
       "      <td>135526.00</td>\n",
       "      <td>95752.00</td>\n",
       "    </tr>\n",
       "    <tr>\n",
       "      <th>5</th>\n",
       "      <td>15.00</td>\n",
       "      <td>102224.00</td>\n",
       "      <td>121173.00</td>\n",
       "      <td>100812.00</td>\n",
       "    </tr>\n",
       "    <tr>\n",
       "      <th>6</th>\n",
       "      <td>31226.00</td>\n",
       "      <td>110174.00</td>\n",
       "      <td>112687.00</td>\n",
       "      <td>79455.00</td>\n",
       "    </tr>\n",
       "    <tr>\n",
       "      <th>7</th>\n",
       "      <td>99261.00</td>\n",
       "      <td>100068.00</td>\n",
       "      <td>98464.00</td>\n",
       "      <td>NaN</td>\n",
       "    </tr>\n",
       "    <tr>\n",
       "      <th>8</th>\n",
       "      <td>93713.00</td>\n",
       "      <td>98369.00</td>\n",
       "      <td>89065.00</td>\n",
       "      <td>NaN</td>\n",
       "    </tr>\n",
       "    <tr>\n",
       "      <th>9</th>\n",
       "      <td>103771.00</td>\n",
       "      <td>99850.00</td>\n",
       "      <td>84060.00</td>\n",
       "      <td>NaN</td>\n",
       "    </tr>\n",
       "    <tr>\n",
       "      <th>10</th>\n",
       "      <td>135734.00</td>\n",
       "      <td>105954.00</td>\n",
       "      <td>90710.00</td>\n",
       "      <td>NaN</td>\n",
       "    </tr>\n",
       "    <tr>\n",
       "      <th>11</th>\n",
       "      <td>126470.00</td>\n",
       "      <td>106043.00</td>\n",
       "      <td>92026.00</td>\n",
       "      <td>NaN</td>\n",
       "    </tr>\n",
       "    <tr>\n",
       "      <th>12</th>\n",
       "      <td>117725.00</td>\n",
       "      <td>109410.00</td>\n",
       "      <td>91980.00</td>\n",
       "      <td>NaN</td>\n",
       "    </tr>\n",
       "  </tbody>\n",
       "</table>\n",
       "</div>"
      ],
      "text/plain": [
       "변경일자_년      2019      2020      2021      2022\n",
       "변경일자_월                                        \n",
       "1           7.00  88100.00  85248.00  73283.00\n",
       "2          13.00  95024.00  78430.00  70422.00\n",
       "3           4.00 109440.00 119163.00  90059.00\n",
       "4           4.00 101337.00 135526.00  95752.00\n",
       "5          15.00 102224.00 121173.00 100812.00\n",
       "6       31226.00 110174.00 112687.00  79455.00\n",
       "7       99261.00 100068.00  98464.00       NaN\n",
       "8       93713.00  98369.00  89065.00       NaN\n",
       "9      103771.00  99850.00  84060.00       NaN\n",
       "10     135734.00 105954.00  90710.00       NaN\n",
       "11     126470.00 106043.00  92026.00       NaN\n",
       "12     117725.00 109410.00  91980.00       NaN"
      ]
     },
     "execution_count": 165,
     "metadata": {},
     "output_type": "execute_result"
    }
   ],
   "source": [
    "gp1 = df.groupby(['변경일자_년', '변경일자_월'], dropna=False)['차대번호'].count().unstack('변경일자_년')\n",
    "gp1"
   ]
  },
  {
   "cell_type": "code",
   "execution_count": 166,
   "metadata": {},
   "outputs": [
    {
     "data": {
      "text/html": [
       "<div>\n",
       "<style scoped>\n",
       "    .dataframe tbody tr th:only-of-type {\n",
       "        vertical-align: middle;\n",
       "    }\n",
       "\n",
       "    .dataframe tbody tr th {\n",
       "        vertical-align: top;\n",
       "    }\n",
       "\n",
       "    .dataframe thead tr th {\n",
       "        text-align: left;\n",
       "    }\n",
       "\n",
       "    .dataframe thead tr:last-of-type th {\n",
       "        text-align: right;\n",
       "    }\n",
       "</style>\n",
       "<table border=\"1\" class=\"dataframe\">\n",
       "  <thead>\n",
       "    <tr>\n",
       "      <th>배출가스등급</th>\n",
       "      <th colspan=\"4\" halign=\"left\">1</th>\n",
       "      <th colspan=\"4\" halign=\"left\">2</th>\n",
       "      <th colspan=\"2\" halign=\"left\">3</th>\n",
       "      <th>...</th>\n",
       "      <th colspan=\"2\" halign=\"left\">T5</th>\n",
       "      <th colspan=\"4\" halign=\"left\">X</th>\n",
       "      <th colspan=\"4\" halign=\"left\">NaN</th>\n",
       "    </tr>\n",
       "    <tr>\n",
       "      <th>변경일자_년</th>\n",
       "      <th>2019</th>\n",
       "      <th>2020</th>\n",
       "      <th>2021</th>\n",
       "      <th>2022</th>\n",
       "      <th>2019</th>\n",
       "      <th>2020</th>\n",
       "      <th>2021</th>\n",
       "      <th>2022</th>\n",
       "      <th>2019</th>\n",
       "      <th>2020</th>\n",
       "      <th>...</th>\n",
       "      <th>2021</th>\n",
       "      <th>2022</th>\n",
       "      <th>2019</th>\n",
       "      <th>2020</th>\n",
       "      <th>2021</th>\n",
       "      <th>2022</th>\n",
       "      <th>2019</th>\n",
       "      <th>2020</th>\n",
       "      <th>2021</th>\n",
       "      <th>2022</th>\n",
       "    </tr>\n",
       "    <tr>\n",
       "      <th>변경일자_월</th>\n",
       "      <th></th>\n",
       "      <th></th>\n",
       "      <th></th>\n",
       "      <th></th>\n",
       "      <th></th>\n",
       "      <th></th>\n",
       "      <th></th>\n",
       "      <th></th>\n",
       "      <th></th>\n",
       "      <th></th>\n",
       "      <th></th>\n",
       "      <th></th>\n",
       "      <th></th>\n",
       "      <th></th>\n",
       "      <th></th>\n",
       "      <th></th>\n",
       "      <th></th>\n",
       "      <th></th>\n",
       "      <th></th>\n",
       "      <th></th>\n",
       "      <th></th>\n",
       "    </tr>\n",
       "  </thead>\n",
       "  <tbody>\n",
       "    <tr>\n",
       "      <th>1</th>\n",
       "      <td>NaN</td>\n",
       "      <td>1513.00</td>\n",
       "      <td>2506.00</td>\n",
       "      <td>2411.00</td>\n",
       "      <td>NaN</td>\n",
       "      <td>18259.00</td>\n",
       "      <td>23028.00</td>\n",
       "      <td>22003.00</td>\n",
       "      <td>2.00</td>\n",
       "      <td>33111.00</td>\n",
       "      <td>...</td>\n",
       "      <td>1.00</td>\n",
       "      <td>2.00</td>\n",
       "      <td>5.00</td>\n",
       "      <td>279.00</td>\n",
       "      <td>314.00</td>\n",
       "      <td>340.00</td>\n",
       "      <td>NaN</td>\n",
       "      <td>NaN</td>\n",
       "      <td>NaN</td>\n",
       "      <td>NaN</td>\n",
       "    </tr>\n",
       "    <tr>\n",
       "      <th>2</th>\n",
       "      <td>NaN</td>\n",
       "      <td>1831.00</td>\n",
       "      <td>2395.00</td>\n",
       "      <td>2720.00</td>\n",
       "      <td>NaN</td>\n",
       "      <td>18775.00</td>\n",
       "      <td>21559.00</td>\n",
       "      <td>21823.00</td>\n",
       "      <td>NaN</td>\n",
       "      <td>31581.00</td>\n",
       "      <td>...</td>\n",
       "      <td>1.00</td>\n",
       "      <td>1.00</td>\n",
       "      <td>13.00</td>\n",
       "      <td>220.00</td>\n",
       "      <td>267.00</td>\n",
       "      <td>414.00</td>\n",
       "      <td>NaN</td>\n",
       "      <td>NaN</td>\n",
       "      <td>NaN</td>\n",
       "      <td>NaN</td>\n",
       "    </tr>\n",
       "    <tr>\n",
       "      <th>3</th>\n",
       "      <td>NaN</td>\n",
       "      <td>2276.00</td>\n",
       "      <td>3196.00</td>\n",
       "      <td>3155.00</td>\n",
       "      <td>NaN</td>\n",
       "      <td>18593.00</td>\n",
       "      <td>26438.00</td>\n",
       "      <td>24544.00</td>\n",
       "      <td>1.00</td>\n",
       "      <td>33608.00</td>\n",
       "      <td>...</td>\n",
       "      <td>NaN</td>\n",
       "      <td>4.00</td>\n",
       "      <td>3.00</td>\n",
       "      <td>273.00</td>\n",
       "      <td>414.00</td>\n",
       "      <td>448.00</td>\n",
       "      <td>NaN</td>\n",
       "      <td>NaN</td>\n",
       "      <td>NaN</td>\n",
       "      <td>NaN</td>\n",
       "    </tr>\n",
       "    <tr>\n",
       "      <th>4</th>\n",
       "      <td>NaN</td>\n",
       "      <td>1045.00</td>\n",
       "      <td>3081.00</td>\n",
       "      <td>3014.00</td>\n",
       "      <td>1.00</td>\n",
       "      <td>14041.00</td>\n",
       "      <td>23177.00</td>\n",
       "      <td>22987.00</td>\n",
       "      <td>1.00</td>\n",
       "      <td>29205.00</td>\n",
       "      <td>...</td>\n",
       "      <td>NaN</td>\n",
       "      <td>NaN</td>\n",
       "      <td>1.00</td>\n",
       "      <td>222.00</td>\n",
       "      <td>488.00</td>\n",
       "      <td>585.00</td>\n",
       "      <td>NaN</td>\n",
       "      <td>NaN</td>\n",
       "      <td>NaN</td>\n",
       "      <td>NaN</td>\n",
       "    </tr>\n",
       "    <tr>\n",
       "      <th>5</th>\n",
       "      <td>NaN</td>\n",
       "      <td>1067.00</td>\n",
       "      <td>2852.00</td>\n",
       "      <td>3244.00</td>\n",
       "      <td>1.00</td>\n",
       "      <td>15273.00</td>\n",
       "      <td>21841.00</td>\n",
       "      <td>25270.00</td>\n",
       "      <td>2.00</td>\n",
       "      <td>32391.00</td>\n",
       "      <td>...</td>\n",
       "      <td>NaN</td>\n",
       "      <td>NaN</td>\n",
       "      <td>7.00</td>\n",
       "      <td>209.00</td>\n",
       "      <td>473.00</td>\n",
       "      <td>725.00</td>\n",
       "      <td>NaN</td>\n",
       "      <td>NaN</td>\n",
       "      <td>NaN</td>\n",
       "      <td>NaN</td>\n",
       "    </tr>\n",
       "    <tr>\n",
       "      <th>6</th>\n",
       "      <td>358.00</td>\n",
       "      <td>1702.00</td>\n",
       "      <td>3259.00</td>\n",
       "      <td>2727.00</td>\n",
       "      <td>5526.00</td>\n",
       "      <td>18911.00</td>\n",
       "      <td>24303.00</td>\n",
       "      <td>22238.00</td>\n",
       "      <td>11804.00</td>\n",
       "      <td>38257.00</td>\n",
       "      <td>...</td>\n",
       "      <td>NaN</td>\n",
       "      <td>NaN</td>\n",
       "      <td>123.00</td>\n",
       "      <td>317.00</td>\n",
       "      <td>618.00</td>\n",
       "      <td>688.00</td>\n",
       "      <td>NaN</td>\n",
       "      <td>NaN</td>\n",
       "      <td>NaN</td>\n",
       "      <td>NaN</td>\n",
       "    </tr>\n",
       "    <tr>\n",
       "      <th>7</th>\n",
       "      <td>1224.00</td>\n",
       "      <td>2175.00</td>\n",
       "      <td>3270.00</td>\n",
       "      <td>NaN</td>\n",
       "      <td>18671.00</td>\n",
       "      <td>20091.00</td>\n",
       "      <td>24395.00</td>\n",
       "      <td>NaN</td>\n",
       "      <td>38224.00</td>\n",
       "      <td>35535.00</td>\n",
       "      <td>...</td>\n",
       "      <td>NaN</td>\n",
       "      <td>NaN</td>\n",
       "      <td>406.00</td>\n",
       "      <td>388.00</td>\n",
       "      <td>612.00</td>\n",
       "      <td>NaN</td>\n",
       "      <td>NaN</td>\n",
       "      <td>32.00</td>\n",
       "      <td>NaN</td>\n",
       "      <td>NaN</td>\n",
       "    </tr>\n",
       "    <tr>\n",
       "      <th>8</th>\n",
       "      <td>1198.00</td>\n",
       "      <td>2508.00</td>\n",
       "      <td>2788.00</td>\n",
       "      <td>NaN</td>\n",
       "      <td>17767.00</td>\n",
       "      <td>22257.00</td>\n",
       "      <td>22587.00</td>\n",
       "      <td>NaN</td>\n",
       "      <td>36038.00</td>\n",
       "      <td>35784.00</td>\n",
       "      <td>...</td>\n",
       "      <td>NaN</td>\n",
       "      <td>NaN</td>\n",
       "      <td>445.00</td>\n",
       "      <td>336.00</td>\n",
       "      <td>447.00</td>\n",
       "      <td>NaN</td>\n",
       "      <td>NaN</td>\n",
       "      <td>NaN</td>\n",
       "      <td>NaN</td>\n",
       "      <td>NaN</td>\n",
       "    </tr>\n",
       "    <tr>\n",
       "      <th>9</th>\n",
       "      <td>1282.00</td>\n",
       "      <td>2765.00</td>\n",
       "      <td>3185.00</td>\n",
       "      <td>NaN</td>\n",
       "      <td>17113.00</td>\n",
       "      <td>22015.00</td>\n",
       "      <td>21809.00</td>\n",
       "      <td>NaN</td>\n",
       "      <td>33583.00</td>\n",
       "      <td>35309.00</td>\n",
       "      <td>...</td>\n",
       "      <td>2.00</td>\n",
       "      <td>NaN</td>\n",
       "      <td>326.00</td>\n",
       "      <td>323.00</td>\n",
       "      <td>365.00</td>\n",
       "      <td>NaN</td>\n",
       "      <td>NaN</td>\n",
       "      <td>NaN</td>\n",
       "      <td>NaN</td>\n",
       "      <td>NaN</td>\n",
       "    </tr>\n",
       "    <tr>\n",
       "      <th>10</th>\n",
       "      <td>1913.00</td>\n",
       "      <td>2538.00</td>\n",
       "      <td>4220.00</td>\n",
       "      <td>NaN</td>\n",
       "      <td>21976.00</td>\n",
       "      <td>21489.00</td>\n",
       "      <td>24423.00</td>\n",
       "      <td>NaN</td>\n",
       "      <td>38184.00</td>\n",
       "      <td>33818.00</td>\n",
       "      <td>...</td>\n",
       "      <td>6.00</td>\n",
       "      <td>NaN</td>\n",
       "      <td>381.00</td>\n",
       "      <td>308.00</td>\n",
       "      <td>390.00</td>\n",
       "      <td>NaN</td>\n",
       "      <td>NaN</td>\n",
       "      <td>NaN</td>\n",
       "      <td>NaN</td>\n",
       "      <td>NaN</td>\n",
       "    </tr>\n",
       "    <tr>\n",
       "      <th>11</th>\n",
       "      <td>1767.00</td>\n",
       "      <td>2534.00</td>\n",
       "      <td>3256.00</td>\n",
       "      <td>NaN</td>\n",
       "      <td>20510.00</td>\n",
       "      <td>22616.00</td>\n",
       "      <td>24176.00</td>\n",
       "      <td>NaN</td>\n",
       "      <td>34982.00</td>\n",
       "      <td>33940.00</td>\n",
       "      <td>...</td>\n",
       "      <td>NaN</td>\n",
       "      <td>NaN</td>\n",
       "      <td>359.00</td>\n",
       "      <td>279.00</td>\n",
       "      <td>409.00</td>\n",
       "      <td>NaN</td>\n",
       "      <td>NaN</td>\n",
       "      <td>NaN</td>\n",
       "      <td>NaN</td>\n",
       "      <td>NaN</td>\n",
       "    </tr>\n",
       "    <tr>\n",
       "      <th>12</th>\n",
       "      <td>1906.00</td>\n",
       "      <td>2805.00</td>\n",
       "      <td>3114.00</td>\n",
       "      <td>NaN</td>\n",
       "      <td>21541.00</td>\n",
       "      <td>24404.00</td>\n",
       "      <td>25025.00</td>\n",
       "      <td>NaN</td>\n",
       "      <td>37717.00</td>\n",
       "      <td>37492.00</td>\n",
       "      <td>...</td>\n",
       "      <td>2.00</td>\n",
       "      <td>NaN</td>\n",
       "      <td>245.00</td>\n",
       "      <td>377.00</td>\n",
       "      <td>421.00</td>\n",
       "      <td>NaN</td>\n",
       "      <td>NaN</td>\n",
       "      <td>NaN</td>\n",
       "      <td>NaN</td>\n",
       "      <td>NaN</td>\n",
       "    </tr>\n",
       "  </tbody>\n",
       "</table>\n",
       "<p>12 rows × 44 columns</p>\n",
       "</div>"
      ],
      "text/plain": [
       "배출가스등급       1                                2                              \n",
       "변경일자_년    2019    2020    2021    2022     2019     2020     2021     2022   \n",
       "변경일자_월                                                                       \n",
       "1          NaN 1513.00 2506.00 2411.00      NaN 18259.00 23028.00 22003.00  \\\n",
       "2          NaN 1831.00 2395.00 2720.00      NaN 18775.00 21559.00 21823.00   \n",
       "3          NaN 2276.00 3196.00 3155.00      NaN 18593.00 26438.00 24544.00   \n",
       "4          NaN 1045.00 3081.00 3014.00     1.00 14041.00 23177.00 22987.00   \n",
       "5          NaN 1067.00 2852.00 3244.00     1.00 15273.00 21841.00 25270.00   \n",
       "6       358.00 1702.00 3259.00 2727.00  5526.00 18911.00 24303.00 22238.00   \n",
       "7      1224.00 2175.00 3270.00     NaN 18671.00 20091.00 24395.00      NaN   \n",
       "8      1198.00 2508.00 2788.00     NaN 17767.00 22257.00 22587.00      NaN   \n",
       "9      1282.00 2765.00 3185.00     NaN 17113.00 22015.00 21809.00      NaN   \n",
       "10     1913.00 2538.00 4220.00     NaN 21976.00 21489.00 24423.00      NaN   \n",
       "11     1767.00 2534.00 3256.00     NaN 20510.00 22616.00 24176.00      NaN   \n",
       "12     1906.00 2805.00 3114.00     NaN 21541.00 24404.00 25025.00      NaN   \n",
       "\n",
       "배출가스등급        3           ...   T5           X                       NaN   \n",
       "변경일자_년     2019     2020  ... 2021 2022   2019   2020   2021   2022 2019   \n",
       "변경일자_월                    ...                                              \n",
       "1          2.00 33111.00  ... 1.00 2.00   5.00 279.00 314.00 340.00  NaN  \\\n",
       "2           NaN 31581.00  ... 1.00 1.00  13.00 220.00 267.00 414.00  NaN   \n",
       "3          1.00 33608.00  ...  NaN 4.00   3.00 273.00 414.00 448.00  NaN   \n",
       "4          1.00 29205.00  ...  NaN  NaN   1.00 222.00 488.00 585.00  NaN   \n",
       "5          2.00 32391.00  ...  NaN  NaN   7.00 209.00 473.00 725.00  NaN   \n",
       "6      11804.00 38257.00  ...  NaN  NaN 123.00 317.00 618.00 688.00  NaN   \n",
       "7      38224.00 35535.00  ...  NaN  NaN 406.00 388.00 612.00    NaN  NaN   \n",
       "8      36038.00 35784.00  ...  NaN  NaN 445.00 336.00 447.00    NaN  NaN   \n",
       "9      33583.00 35309.00  ... 2.00  NaN 326.00 323.00 365.00    NaN  NaN   \n",
       "10     38184.00 33818.00  ... 6.00  NaN 381.00 308.00 390.00    NaN  NaN   \n",
       "11     34982.00 33940.00  ...  NaN  NaN 359.00 279.00 409.00    NaN  NaN   \n",
       "12     37717.00 37492.00  ... 2.00  NaN 245.00 377.00 421.00    NaN  NaN   \n",
       "\n",
       "배출가스등급                  \n",
       "변경일자_년  2020 2021 2022  \n",
       "변경일자_월                  \n",
       "1        NaN  NaN  NaN  \n",
       "2        NaN  NaN  NaN  \n",
       "3        NaN  NaN  NaN  \n",
       "4        NaN  NaN  NaN  \n",
       "5        NaN  NaN  NaN  \n",
       "6        NaN  NaN  NaN  \n",
       "7      32.00  NaN  NaN  \n",
       "8        NaN  NaN  NaN  \n",
       "9        NaN  NaN  NaN  \n",
       "10       NaN  NaN  NaN  \n",
       "11       NaN  NaN  NaN  \n",
       "12       NaN  NaN  NaN  \n",
       "\n",
       "[12 rows x 44 columns]"
      ]
     },
     "execution_count": 166,
     "metadata": {},
     "output_type": "execute_result"
    }
   ],
   "source": [
    "gp2 = df.groupby(['배출가스등급', '변경일자_년', '변경일자_월'], dropna=False)['차대번호'].count().unstack('배출가스등급').unstack('변경일자_년')\n",
    "gp2"
   ]
  },
  {
   "cell_type": "code",
   "execution_count": 167,
   "metadata": {},
   "outputs": [
    {
     "data": {
      "text/html": [
       "<div>\n",
       "<style scoped>\n",
       "    .dataframe tbody tr th:only-of-type {\n",
       "        vertical-align: middle;\n",
       "    }\n",
       "\n",
       "    .dataframe tbody tr th {\n",
       "        vertical-align: top;\n",
       "    }\n",
       "\n",
       "    .dataframe thead th {\n",
       "        text-align: right;\n",
       "    }\n",
       "</style>\n",
       "<table border=\"1\" class=\"dataframe\">\n",
       "  <thead>\n",
       "    <tr style=\"text-align: right;\">\n",
       "      <th></th>\n",
       "      <th>변경일자_년</th>\n",
       "      <th>2019</th>\n",
       "      <th>2020</th>\n",
       "      <th>2021</th>\n",
       "      <th>2022</th>\n",
       "    </tr>\n",
       "    <tr>\n",
       "      <th>시도</th>\n",
       "      <th>변경일자_월</th>\n",
       "      <th></th>\n",
       "      <th></th>\n",
       "      <th></th>\n",
       "      <th></th>\n",
       "    </tr>\n",
       "  </thead>\n",
       "  <tbody>\n",
       "    <tr>\n",
       "      <th rowspan=\"5\" valign=\"top\">강원도</th>\n",
       "      <th>1</th>\n",
       "      <td>NaN</td>\n",
       "      <td>2987.00</td>\n",
       "      <td>2958.00</td>\n",
       "      <td>2403.00</td>\n",
       "    </tr>\n",
       "    <tr>\n",
       "      <th>2</th>\n",
       "      <td>NaN</td>\n",
       "      <td>2976.00</td>\n",
       "      <td>2498.00</td>\n",
       "      <td>2369.00</td>\n",
       "    </tr>\n",
       "    <tr>\n",
       "      <th>3</th>\n",
       "      <td>NaN</td>\n",
       "      <td>5012.00</td>\n",
       "      <td>4123.00</td>\n",
       "      <td>2801.00</td>\n",
       "    </tr>\n",
       "    <tr>\n",
       "      <th>4</th>\n",
       "      <td>1.00</td>\n",
       "      <td>3552.00</td>\n",
       "      <td>7445.00</td>\n",
       "      <td>3674.00</td>\n",
       "    </tr>\n",
       "    <tr>\n",
       "      <th>5</th>\n",
       "      <td>NaN</td>\n",
       "      <td>3598.00</td>\n",
       "      <td>4823.00</td>\n",
       "      <td>4333.00</td>\n",
       "    </tr>\n",
       "    <tr>\n",
       "      <th>...</th>\n",
       "      <th>...</th>\n",
       "      <td>...</td>\n",
       "      <td>...</td>\n",
       "      <td>...</td>\n",
       "      <td>...</td>\n",
       "    </tr>\n",
       "    <tr>\n",
       "      <th rowspan=\"5\" valign=\"top\">충청북도</th>\n",
       "      <th>8</th>\n",
       "      <td>3411.00</td>\n",
       "      <td>4506.00</td>\n",
       "      <td>3121.00</td>\n",
       "      <td>NaN</td>\n",
       "    </tr>\n",
       "    <tr>\n",
       "      <th>9</th>\n",
       "      <td>3284.00</td>\n",
       "      <td>3894.00</td>\n",
       "      <td>2960.00</td>\n",
       "      <td>NaN</td>\n",
       "    </tr>\n",
       "    <tr>\n",
       "      <th>10</th>\n",
       "      <td>4651.00</td>\n",
       "      <td>3904.00</td>\n",
       "      <td>3926.00</td>\n",
       "      <td>NaN</td>\n",
       "    </tr>\n",
       "    <tr>\n",
       "      <th>11</th>\n",
       "      <td>6132.00</td>\n",
       "      <td>4388.00</td>\n",
       "      <td>3925.00</td>\n",
       "      <td>NaN</td>\n",
       "    </tr>\n",
       "    <tr>\n",
       "      <th>12</th>\n",
       "      <td>6707.00</td>\n",
       "      <td>4741.00</td>\n",
       "      <td>3635.00</td>\n",
       "      <td>NaN</td>\n",
       "    </tr>\n",
       "  </tbody>\n",
       "</table>\n",
       "<p>204 rows × 4 columns</p>\n",
       "</div>"
      ],
      "text/plain": [
       "변경일자_년         2019    2020    2021    2022\n",
       "시도   변경일자_월                                \n",
       "강원도  1          NaN 2987.00 2958.00 2403.00\n",
       "     2          NaN 2976.00 2498.00 2369.00\n",
       "     3          NaN 5012.00 4123.00 2801.00\n",
       "     4         1.00 3552.00 7445.00 3674.00\n",
       "     5          NaN 3598.00 4823.00 4333.00\n",
       "...             ...     ...     ...     ...\n",
       "충청북도 8      3411.00 4506.00 3121.00     NaN\n",
       "     9      3284.00 3894.00 2960.00     NaN\n",
       "     10     4651.00 3904.00 3926.00     NaN\n",
       "     11     6132.00 4388.00 3925.00     NaN\n",
       "     12     6707.00 4741.00 3635.00     NaN\n",
       "\n",
       "[204 rows x 4 columns]"
      ]
     },
     "execution_count": 167,
     "metadata": {},
     "output_type": "execute_result"
    }
   ],
   "source": [
    "gp3 = df.groupby(['시도', '변경일자_년', '변경일자_월'], dropna=False)['차대번호'].count().unstack('변경일자_년')\n",
    "gp3"
   ]
  },
  {
   "cell_type": "code",
   "execution_count": 168,
   "metadata": {},
   "outputs": [
    {
     "data": {
      "text/html": [
       "<div>\n",
       "<style scoped>\n",
       "    .dataframe tbody tr th:only-of-type {\n",
       "        vertical-align: middle;\n",
       "    }\n",
       "\n",
       "    .dataframe tbody tr th {\n",
       "        vertical-align: top;\n",
       "    }\n",
       "\n",
       "    .dataframe thead tr th {\n",
       "        text-align: left;\n",
       "    }\n",
       "\n",
       "    .dataframe thead tr:last-of-type th {\n",
       "        text-align: right;\n",
       "    }\n",
       "</style>\n",
       "<table border=\"1\" class=\"dataframe\">\n",
       "  <thead>\n",
       "    <tr>\n",
       "      <th></th>\n",
       "      <th>배출가스등급</th>\n",
       "      <th colspan=\"4\" halign=\"left\">1</th>\n",
       "      <th colspan=\"4\" halign=\"left\">2</th>\n",
       "      <th colspan=\"2\" halign=\"left\">3</th>\n",
       "      <th>...</th>\n",
       "      <th colspan=\"2\" halign=\"left\">T5</th>\n",
       "      <th colspan=\"4\" halign=\"left\">X</th>\n",
       "      <th colspan=\"4\" halign=\"left\">NaN</th>\n",
       "    </tr>\n",
       "    <tr>\n",
       "      <th></th>\n",
       "      <th>변경일자_년</th>\n",
       "      <th>2019</th>\n",
       "      <th>2020</th>\n",
       "      <th>2021</th>\n",
       "      <th>2022</th>\n",
       "      <th>2019</th>\n",
       "      <th>2020</th>\n",
       "      <th>2021</th>\n",
       "      <th>2022</th>\n",
       "      <th>2019</th>\n",
       "      <th>2020</th>\n",
       "      <th>...</th>\n",
       "      <th>2021</th>\n",
       "      <th>2022</th>\n",
       "      <th>2019</th>\n",
       "      <th>2020</th>\n",
       "      <th>2021</th>\n",
       "      <th>2022</th>\n",
       "      <th>2019</th>\n",
       "      <th>2020</th>\n",
       "      <th>2021</th>\n",
       "      <th>2022</th>\n",
       "    </tr>\n",
       "    <tr>\n",
       "      <th>시도</th>\n",
       "      <th>변경일자_월</th>\n",
       "      <th></th>\n",
       "      <th></th>\n",
       "      <th></th>\n",
       "      <th></th>\n",
       "      <th></th>\n",
       "      <th></th>\n",
       "      <th></th>\n",
       "      <th></th>\n",
       "      <th></th>\n",
       "      <th></th>\n",
       "      <th></th>\n",
       "      <th></th>\n",
       "      <th></th>\n",
       "      <th></th>\n",
       "      <th></th>\n",
       "      <th></th>\n",
       "      <th></th>\n",
       "      <th></th>\n",
       "      <th></th>\n",
       "      <th></th>\n",
       "      <th></th>\n",
       "    </tr>\n",
       "  </thead>\n",
       "  <tbody>\n",
       "    <tr>\n",
       "      <th rowspan=\"5\" valign=\"top\">강원도</th>\n",
       "      <th>1</th>\n",
       "      <td>NaN</td>\n",
       "      <td>16.00</td>\n",
       "      <td>60.00</td>\n",
       "      <td>42.00</td>\n",
       "      <td>NaN</td>\n",
       "      <td>603.00</td>\n",
       "      <td>756.00</td>\n",
       "      <td>724.00</td>\n",
       "      <td>NaN</td>\n",
       "      <td>1085.00</td>\n",
       "      <td>...</td>\n",
       "      <td>NaN</td>\n",
       "      <td>NaN</td>\n",
       "      <td>NaN</td>\n",
       "      <td>6.00</td>\n",
       "      <td>7.00</td>\n",
       "      <td>9.00</td>\n",
       "      <td>NaN</td>\n",
       "      <td>NaN</td>\n",
       "      <td>NaN</td>\n",
       "      <td>NaN</td>\n",
       "    </tr>\n",
       "    <tr>\n",
       "      <th>2</th>\n",
       "      <td>NaN</td>\n",
       "      <td>33.00</td>\n",
       "      <td>49.00</td>\n",
       "      <td>76.00</td>\n",
       "      <td>NaN</td>\n",
       "      <td>587.00</td>\n",
       "      <td>688.00</td>\n",
       "      <td>688.00</td>\n",
       "      <td>NaN</td>\n",
       "      <td>1002.00</td>\n",
       "      <td>...</td>\n",
       "      <td>NaN</td>\n",
       "      <td>NaN</td>\n",
       "      <td>NaN</td>\n",
       "      <td>7.00</td>\n",
       "      <td>3.00</td>\n",
       "      <td>2.00</td>\n",
       "      <td>NaN</td>\n",
       "      <td>NaN</td>\n",
       "      <td>NaN</td>\n",
       "      <td>NaN</td>\n",
       "    </tr>\n",
       "    <tr>\n",
       "      <th>3</th>\n",
       "      <td>NaN</td>\n",
       "      <td>37.00</td>\n",
       "      <td>64.00</td>\n",
       "      <td>87.00</td>\n",
       "      <td>NaN</td>\n",
       "      <td>600.00</td>\n",
       "      <td>898.00</td>\n",
       "      <td>785.00</td>\n",
       "      <td>NaN</td>\n",
       "      <td>1131.00</td>\n",
       "      <td>...</td>\n",
       "      <td>NaN</td>\n",
       "      <td>1.00</td>\n",
       "      <td>NaN</td>\n",
       "      <td>4.00</td>\n",
       "      <td>6.00</td>\n",
       "      <td>1.00</td>\n",
       "      <td>NaN</td>\n",
       "      <td>NaN</td>\n",
       "      <td>NaN</td>\n",
       "      <td>NaN</td>\n",
       "    </tr>\n",
       "    <tr>\n",
       "      <th>4</th>\n",
       "      <td>NaN</td>\n",
       "      <td>19.00</td>\n",
       "      <td>73.00</td>\n",
       "      <td>89.00</td>\n",
       "      <td>NaN</td>\n",
       "      <td>511.00</td>\n",
       "      <td>760.00</td>\n",
       "      <td>776.00</td>\n",
       "      <td>NaN</td>\n",
       "      <td>1113.00</td>\n",
       "      <td>...</td>\n",
       "      <td>NaN</td>\n",
       "      <td>NaN</td>\n",
       "      <td>NaN</td>\n",
       "      <td>2.00</td>\n",
       "      <td>3.00</td>\n",
       "      <td>10.00</td>\n",
       "      <td>NaN</td>\n",
       "      <td>NaN</td>\n",
       "      <td>NaN</td>\n",
       "      <td>NaN</td>\n",
       "    </tr>\n",
       "    <tr>\n",
       "      <th>5</th>\n",
       "      <td>NaN</td>\n",
       "      <td>25.00</td>\n",
       "      <td>54.00</td>\n",
       "      <td>123.00</td>\n",
       "      <td>NaN</td>\n",
       "      <td>569.00</td>\n",
       "      <td>701.00</td>\n",
       "      <td>848.00</td>\n",
       "      <td>NaN</td>\n",
       "      <td>1151.00</td>\n",
       "      <td>...</td>\n",
       "      <td>NaN</td>\n",
       "      <td>NaN</td>\n",
       "      <td>NaN</td>\n",
       "      <td>3.00</td>\n",
       "      <td>6.00</td>\n",
       "      <td>9.00</td>\n",
       "      <td>NaN</td>\n",
       "      <td>NaN</td>\n",
       "      <td>NaN</td>\n",
       "      <td>NaN</td>\n",
       "    </tr>\n",
       "    <tr>\n",
       "      <th>...</th>\n",
       "      <th>...</th>\n",
       "      <td>...</td>\n",
       "      <td>...</td>\n",
       "      <td>...</td>\n",
       "      <td>...</td>\n",
       "      <td>...</td>\n",
       "      <td>...</td>\n",
       "      <td>...</td>\n",
       "      <td>...</td>\n",
       "      <td>...</td>\n",
       "      <td>...</td>\n",
       "      <td>...</td>\n",
       "      <td>...</td>\n",
       "      <td>...</td>\n",
       "      <td>...</td>\n",
       "      <td>...</td>\n",
       "      <td>...</td>\n",
       "      <td>...</td>\n",
       "      <td>...</td>\n",
       "      <td>...</td>\n",
       "      <td>...</td>\n",
       "      <td>...</td>\n",
       "    </tr>\n",
       "    <tr>\n",
       "      <th rowspan=\"5\" valign=\"top\">충청북도</th>\n",
       "      <th>8</th>\n",
       "      <td>32.00</td>\n",
       "      <td>59.00</td>\n",
       "      <td>85.00</td>\n",
       "      <td>NaN</td>\n",
       "      <td>612.00</td>\n",
       "      <td>770.00</td>\n",
       "      <td>828.00</td>\n",
       "      <td>NaN</td>\n",
       "      <td>1293.00</td>\n",
       "      <td>1200.00</td>\n",
       "      <td>...</td>\n",
       "      <td>NaN</td>\n",
       "      <td>NaN</td>\n",
       "      <td>18.00</td>\n",
       "      <td>8.00</td>\n",
       "      <td>22.00</td>\n",
       "      <td>NaN</td>\n",
       "      <td>NaN</td>\n",
       "      <td>NaN</td>\n",
       "      <td>NaN</td>\n",
       "      <td>NaN</td>\n",
       "    </tr>\n",
       "    <tr>\n",
       "      <th>9</th>\n",
       "      <td>37.00</td>\n",
       "      <td>67.00</td>\n",
       "      <td>80.00</td>\n",
       "      <td>NaN</td>\n",
       "      <td>625.00</td>\n",
       "      <td>727.00</td>\n",
       "      <td>826.00</td>\n",
       "      <td>NaN</td>\n",
       "      <td>1300.00</td>\n",
       "      <td>1238.00</td>\n",
       "      <td>...</td>\n",
       "      <td>NaN</td>\n",
       "      <td>NaN</td>\n",
       "      <td>14.00</td>\n",
       "      <td>6.00</td>\n",
       "      <td>4.00</td>\n",
       "      <td>NaN</td>\n",
       "      <td>NaN</td>\n",
       "      <td>NaN</td>\n",
       "      <td>NaN</td>\n",
       "      <td>NaN</td>\n",
       "    </tr>\n",
       "    <tr>\n",
       "      <th>10</th>\n",
       "      <td>33.00</td>\n",
       "      <td>54.00</td>\n",
       "      <td>110.00</td>\n",
       "      <td>NaN</td>\n",
       "      <td>707.00</td>\n",
       "      <td>807.00</td>\n",
       "      <td>856.00</td>\n",
       "      <td>NaN</td>\n",
       "      <td>1372.00</td>\n",
       "      <td>1172.00</td>\n",
       "      <td>...</td>\n",
       "      <td>NaN</td>\n",
       "      <td>NaN</td>\n",
       "      <td>17.00</td>\n",
       "      <td>10.00</td>\n",
       "      <td>8.00</td>\n",
       "      <td>NaN</td>\n",
       "      <td>NaN</td>\n",
       "      <td>NaN</td>\n",
       "      <td>NaN</td>\n",
       "      <td>NaN</td>\n",
       "    </tr>\n",
       "    <tr>\n",
       "      <th>11</th>\n",
       "      <td>39.00</td>\n",
       "      <td>63.00</td>\n",
       "      <td>118.00</td>\n",
       "      <td>NaN</td>\n",
       "      <td>717.00</td>\n",
       "      <td>810.00</td>\n",
       "      <td>852.00</td>\n",
       "      <td>NaN</td>\n",
       "      <td>1211.00</td>\n",
       "      <td>1155.00</td>\n",
       "      <td>...</td>\n",
       "      <td>NaN</td>\n",
       "      <td>NaN</td>\n",
       "      <td>19.00</td>\n",
       "      <td>10.00</td>\n",
       "      <td>6.00</td>\n",
       "      <td>NaN</td>\n",
       "      <td>NaN</td>\n",
       "      <td>NaN</td>\n",
       "      <td>NaN</td>\n",
       "      <td>NaN</td>\n",
       "    </tr>\n",
       "    <tr>\n",
       "      <th>12</th>\n",
       "      <td>35.00</td>\n",
       "      <td>46.00</td>\n",
       "      <td>92.00</td>\n",
       "      <td>NaN</td>\n",
       "      <td>708.00</td>\n",
       "      <td>851.00</td>\n",
       "      <td>966.00</td>\n",
       "      <td>NaN</td>\n",
       "      <td>1319.00</td>\n",
       "      <td>1328.00</td>\n",
       "      <td>...</td>\n",
       "      <td>1.00</td>\n",
       "      <td>NaN</td>\n",
       "      <td>19.00</td>\n",
       "      <td>7.00</td>\n",
       "      <td>10.00</td>\n",
       "      <td>NaN</td>\n",
       "      <td>NaN</td>\n",
       "      <td>NaN</td>\n",
       "      <td>NaN</td>\n",
       "      <td>NaN</td>\n",
       "    </tr>\n",
       "  </tbody>\n",
       "</table>\n",
       "<p>204 rows × 44 columns</p>\n",
       "</div>"
      ],
      "text/plain": [
       "배출가스등급          1                          2                            3   \n",
       "변경일자_년       2019  2020   2021   2022   2019   2020   2021   2022    2019   \n",
       "시도   변경일자_월                                                                 \n",
       "강원도  1        NaN 16.00  60.00  42.00    NaN 603.00 756.00 724.00     NaN  \\\n",
       "     2        NaN 33.00  49.00  76.00    NaN 587.00 688.00 688.00     NaN   \n",
       "     3        NaN 37.00  64.00  87.00    NaN 600.00 898.00 785.00     NaN   \n",
       "     4        NaN 19.00  73.00  89.00    NaN 511.00 760.00 776.00     NaN   \n",
       "     5        NaN 25.00  54.00 123.00    NaN 569.00 701.00 848.00     NaN   \n",
       "...           ...   ...    ...    ...    ...    ...    ...    ...     ...   \n",
       "충청북도 8      32.00 59.00  85.00    NaN 612.00 770.00 828.00    NaN 1293.00   \n",
       "     9      37.00 67.00  80.00    NaN 625.00 727.00 826.00    NaN 1300.00   \n",
       "     10     33.00 54.00 110.00    NaN 707.00 807.00 856.00    NaN 1372.00   \n",
       "     11     39.00 63.00 118.00    NaN 717.00 810.00 852.00    NaN 1211.00   \n",
       "     12     35.00 46.00  92.00    NaN 708.00 851.00 966.00    NaN 1319.00   \n",
       "\n",
       "배출가스등급               ...   T5          X                    NaN                 \n",
       "변경일자_년         2020  ... 2021 2022  2019  2020  2021  2022 2019 2020 2021 2022  \n",
       "시도   변경일자_월          ...                                                        \n",
       "강원도  1      1085.00  ...  NaN  NaN   NaN  6.00  7.00  9.00  NaN  NaN  NaN  NaN  \n",
       "     2      1002.00  ...  NaN  NaN   NaN  7.00  3.00  2.00  NaN  NaN  NaN  NaN  \n",
       "     3      1131.00  ...  NaN 1.00   NaN  4.00  6.00  1.00  NaN  NaN  NaN  NaN  \n",
       "     4      1113.00  ...  NaN  NaN   NaN  2.00  3.00 10.00  NaN  NaN  NaN  NaN  \n",
       "     5      1151.00  ...  NaN  NaN   NaN  3.00  6.00  9.00  NaN  NaN  NaN  NaN  \n",
       "...             ...  ...  ...  ...   ...   ...   ...   ...  ...  ...  ...  ...  \n",
       "충청북도 8      1200.00  ...  NaN  NaN 18.00  8.00 22.00   NaN  NaN  NaN  NaN  NaN  \n",
       "     9      1238.00  ...  NaN  NaN 14.00  6.00  4.00   NaN  NaN  NaN  NaN  NaN  \n",
       "     10     1172.00  ...  NaN  NaN 17.00 10.00  8.00   NaN  NaN  NaN  NaN  NaN  \n",
       "     11     1155.00  ...  NaN  NaN 19.00 10.00  6.00   NaN  NaN  NaN  NaN  NaN  \n",
       "     12     1328.00  ... 1.00  NaN 19.00  7.00 10.00   NaN  NaN  NaN  NaN  NaN  \n",
       "\n",
       "[204 rows x 44 columns]"
      ]
     },
     "execution_count": 168,
     "metadata": {},
     "output_type": "execute_result"
    }
   ],
   "source": [
    "gp4 = df.groupby(['시도', '배출가스등급', '변경일자_년', '변경일자_월'], dropna=False)['차대번호'].count().unstack('배출가스등급').unstack('변경일자_년')\n",
    "gp4"
   ]
  },
  {
   "attachments": {},
   "cell_type": "markdown",
   "metadata": {},
   "source": [
    "### [출력] 폐차 현황"
   ]
  },
  {
   "cell_type": "code",
   "execution_count": 155,
   "metadata": {},
   "outputs": [
    {
     "data": {
      "text/plain": [
       "'2023.05.19'"
      ]
     },
     "execution_count": 155,
     "metadata": {},
     "output_type": "execute_result"
    }
   ],
   "source": [
    "today_date = datetime.today().strftime(\"%Y.%m.%d\")\n",
    "today_date"
   ]
  },
  {
   "cell_type": "code",
   "execution_count": 169,
   "metadata": {},
   "outputs": [],
   "source": [
    "with pd.ExcelWriter(os.path.join(an1_fold, f'폐차현황({today_date}).xlsx')) as writer:\n",
    "    gp1.to_excel(writer, sheet_name='연_월')\n",
    "    gp2.to_excel(writer, sheet_name='연_월_등급')\n",
    "    gp3.to_excel(writer, sheet_name='연_월_시도')\n",
    "    gp4.to_excel(writer, sheet_name='연_월_시도_등급')"
   ]
  },
  {
   "attachments": {},
   "cell_type": "markdown",
   "metadata": {},
   "source": [
    "# 코드 마지막"
   ]
  }
 ],
 "metadata": {
  "kernelspec": {
   "display_name": "base",
   "language": "python",
   "name": "python3"
  },
  "language_info": {
   "codemirror_mode": {
    "name": "ipython",
    "version": 3
   },
   "file_extension": ".py",
   "mimetype": "text/x-python",
   "name": "python",
   "nbconvert_exporter": "python",
   "pygments_lexer": "ipython3",
   "version": "3.9.13"
  },
  "orig_nbformat": 4
 },
 "nbformat": 4,
 "nbformat_minor": 2
}
