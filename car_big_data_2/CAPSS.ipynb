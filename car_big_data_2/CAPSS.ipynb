{
 "cells": [
  {
   "attachments": {},
   "cell_type": "markdown",
   "metadata": {},
   "source": [
    "# Library"
   ]
  },
  {
   "cell_type": "code",
   "execution_count": 1,
   "metadata": {},
   "outputs": [],
   "source": [
    "import pandas as pd\n",
    "import numpy as np\n",
    "import os\n",
    "from tqdm import tqdm\n",
    "from datetime import datetime\n",
    "import math"
   ]
  },
  {
   "cell_type": "code",
   "execution_count": 2,
   "metadata": {},
   "outputs": [],
   "source": [
    "# 소수점 옵션\n",
    "pd.options.display.float_format = '{:.2f}'.format\n",
    "# pd.reset_option('display.float_format')"
   ]
  },
  {
   "attachments": {},
   "cell_type": "markdown",
   "metadata": {},
   "source": [
    "# fold path"
   ]
  },
  {
   "cell_type": "code",
   "execution_count": 3,
   "metadata": {},
   "outputs": [],
   "source": [
    "drive = 'D'"
   ]
  },
  {
   "cell_type": "code",
   "execution_count": 135,
   "metadata": {},
   "outputs": [],
   "source": [
    "ods_fold = f'{drive}:/data/big2/ODS'\n",
    "big2_fold = f'{drive}:/data/big2'\n",
    "pre_fold = f'{drive}:/data/seoul_lab/pre'"
   ]
  },
  {
   "attachments": {},
   "cell_type": "markdown",
   "metadata": {},
   "source": [
    "# Load\n",
    "- 등록&제원\n",
    "- 저감장치 부착이력\n",
    "- 법정동코드\n",
    "- KOSIS"
   ]
  },
  {
   "attachments": {},
   "cell_type": "markdown",
   "metadata": {},
   "source": [
    "## 등록&제원"
   ]
  },
  {
   "cell_type": "code",
   "execution_count": 5,
   "metadata": {},
   "outputs": [
    {
     "data": {
      "text/plain": [
       "\"\\n'차량관리번호', '차량등록번호', '본거지법정동코드', '소유자구분', '차종_등록정보', '용도', '현재회원번호', '차대번호', '최초등록일자', '차량연식', '차량제작일자', '배출가스검사유효일자', '제원관리번호', \\n'배출가스인증번호', '배출가스등급', '저공해조치YN(미사용)', '저공해조치종류', '저공해조치구조변경YN', '차량등록번호숫자정보', '차량말소YN', '최초회원번호', '취득일자', '취득금액', '생성일시_등록정보', '수정일시_등록정보', \\n'차명', '차종_제원정보', '차종분류', '차종유형(소분류)', '자동차형식', '제작사명', '연료', '엔진형식', '공차중량', '총중량', '적재중량', '엔진출력', '배기량', '승차인원', '차량길이', '차량너비', '차량높이', '원산지명', \\n'삭제YN', '승인일자', '구동형식', '변속기종류', '생성일시_제원정보', '수정일시_제원정보'\\n\""
      ]
     },
     "execution_count": 5,
     "metadata": {},
     "output_type": "execute_result"
    }
   ],
   "source": [
    "# 전체 컬럼명\n",
    "'''\n",
    "'차량관리번호', '차량등록번호', '본거지법정동코드', '소유자구분', '차종_등록정보', '용도', '현재회원번호', '차대번호', '최초등록일자', '차량연식', '차량제작일자', '배출가스검사유효일자', '제원관리번호', \n",
    "'배출가스인증번호', '배출가스등급', '저공해조치YN(미사용)', '저공해조치종류', '저공해조치구조변경YN', '차량등록번호숫자정보', '차량말소YN', '최초회원번호', '취득일자', '취득금액', '생성일시_등록정보', '수정일시_등록정보', \n",
    "'차명', '차종_제원정보', '차종분류', '차종유형(소분류)', '자동차형식', '제작사명', '연료', '엔진형식', '공차중량', '총중량', '적재중량', '엔진출력', '배기량', '승차인원', '차량길이', '차량너비', '차량높이', '원산지명', \n",
    "'삭제YN', '승인일자', '구동형식', '변속기종류', '생성일시_제원정보', '수정일시_제원정보'\n",
    "'''"
   ]
  },
  {
   "cell_type": "code",
   "execution_count": 6,
   "metadata": {},
   "outputs": [
    {
     "name": "stdout",
     "output_type": "stream",
     "text": [
      "<class 'pandas.core.frame.DataFrame'>\n",
      "RangeIndex: 29534047 entries, 0 to 29534046\n",
      "Data columns (total 9 columns):\n",
      " #   Column     Dtype \n",
      "---  ------     ----- \n",
      " 0   본거지법정동코드   int64 \n",
      " 1   차종_등록정보    object\n",
      " 2   차대번호       object\n",
      " 3   차량연식       int64 \n",
      " 4   배출가스인증번호   object\n",
      " 5   배출가스등급     object\n",
      " 6   차량말소YN     object\n",
      " 7   차종유형(소분류)  object\n",
      " 8   연료         object\n",
      "dtypes: int64(2), object(7)\n",
      "memory usage: 2.0+ GB\n"
     ]
    }
   ],
   "source": [
    "# about 4m 30.7s\n",
    "name = '[ODS]등록정보&제원정보(2022.12.28)'\n",
    "file_name = f'{name}.csv'\n",
    "smig = pd.read_csv(os.path.join(ods_fold, file_name), low_memory=False, encoding='cp949', usecols=['차대번호', '본거지법정동코드', '차종_등록정보', '차량연식', '배출가스인증번호', '배출가스등급', '차량말소YN', '차종유형(소분류)', '연료'])\n",
    "smig.info()"
   ]
  },
  {
   "cell_type": "code",
   "execution_count": 7,
   "metadata": {},
   "outputs": [
    {
     "data": {
      "text/plain": [
       "Index(['본거지법정동코드', '차종_등록정보', '차대번호', '차량연식', '배출가스인증번호', '배출가스등급', '차량말소YN',\n",
       "       '차종유형(소분류)', '연료'],\n",
       "      dtype='object')"
      ]
     },
     "execution_count": 7,
     "metadata": {},
     "output_type": "execute_result"
    }
   ],
   "source": [
    "smig.columns"
   ]
  },
  {
   "cell_type": "code",
   "execution_count": 8,
   "metadata": {},
   "outputs": [
    {
     "data": {
      "text/plain": [
       "array(['소형', '경형', '중형', '대형', nan], dtype=object)"
      ]
     },
     "execution_count": 8,
     "metadata": {},
     "output_type": "execute_result"
    }
   ],
   "source": [
    "smig['차종유형(소분류)'].unique()"
   ]
  },
  {
   "cell_type": "code",
   "execution_count": 9,
   "metadata": {},
   "outputs": [
    {
     "data": {
      "text/plain": [
       "Index(['법정동코드', '차종', '차대번호', '차량연식', '배출가스인증번호', '배출가스등급', '차량말소YN', '차종유형',\n",
       "       '연료'],\n",
       "      dtype='object')"
      ]
     },
     "execution_count": 9,
     "metadata": {},
     "output_type": "execute_result"
    }
   ],
   "source": [
    "smig1 = smig.rename(columns={'본거지법정동코드':'법정동코드', '차종_등록정보':'차종', '차종유형(소분류)':'차종유형'})\n",
    "smig1.columns"
   ]
  },
  {
   "cell_type": "code",
   "execution_count": 10,
   "metadata": {},
   "outputs": [
    {
     "data": {
      "text/plain": [
       "차량말소YN\n",
       "N    25693532\n",
       "Y     3840515\n",
       "Name: count, dtype: int64"
      ]
     },
     "execution_count": 10,
     "metadata": {},
     "output_type": "execute_result"
    }
   ],
   "source": [
    "smig1['차량말소YN'].value_counts(dropna=False)"
   ]
  },
  {
   "cell_type": "code",
   "execution_count": 11,
   "metadata": {},
   "outputs": [
    {
     "data": {
      "text/plain": [
       "(25693532, 9)"
      ]
     },
     "execution_count": 11,
     "metadata": {},
     "output_type": "execute_result"
    }
   ],
   "source": [
    "smig2 = smig1[smig1['차량말소YN'] == 'N'].reset_index(drop=True)\n",
    "smig2.shape"
   ]
  },
  {
   "attachments": {},
   "cell_type": "markdown",
   "metadata": {},
   "source": [
    "## 저감장치 부착이력(중복차대제거)"
   ]
  },
  {
   "cell_type": "code",
   "execution_count": 12,
   "metadata": {},
   "outputs": [
    {
     "name": "stdout",
     "output_type": "stream",
     "text": [
      "<class 'pandas.core.frame.DataFrame'>\n",
      "RangeIndex: 809255 entries, 0 to 809254\n",
      "Data columns (total 2 columns):\n",
      " #   Column  Non-Null Count   Dtype \n",
      "---  ------  --------------   ----- \n",
      " 0   차대번호    809255 non-null  object\n",
      " 1   저감장치구분  809255 non-null  object\n",
      "dtypes: object(2)\n",
      "memory usage: 12.3+ MB\n"
     ]
    }
   ],
   "source": [
    "# about 28.3s\n",
    "# columns = 저감장치종류, TDMS부착여부, 구조변경일자, 부착업체명, 부착일자, 탈거승인일, 차량번호, 차대번호, 저감장치반납여부, 저감장치구분, 삼원촉매장치반납여부\n",
    "name = '[ODS]저감장치부착이력(중복차대제거)(2022.12.28)'\n",
    "file_name = f'{name}.csv'\n",
    "att = pd.read_csv(os.path.join(ods_fold, file_name), low_memory=False, encoding='cp949', usecols=['차대번호', '저감장치구분'])\n",
    "att.info()"
   ]
  },
  {
   "cell_type": "code",
   "execution_count": 215,
   "metadata": {},
   "outputs": [
    {
     "data": {
      "text/plain": [
       "array(['엔진교체', '3종', '1종', '2종', '엔진개조', '1종+SCR', '삼원촉매'], dtype=object)"
      ]
     },
     "execution_count": 215,
     "metadata": {},
     "output_type": "execute_result"
    }
   ],
   "source": [
    "att['저감장치구분'].unique()"
   ]
  },
  {
   "cell_type": "code",
   "execution_count": 216,
   "metadata": {},
   "outputs": [],
   "source": [
    "att.loc[(att['저감장치구분'] == '1종') | (att['저감장치구분'] == '1종+SCR'), '저감장치부착유무'] = '유'"
   ]
  },
  {
   "cell_type": "code",
   "execution_count": 217,
   "metadata": {},
   "outputs": [
    {
     "data": {
      "text/plain": [
       "저감장치부착유무\n",
       "NaN    512654\n",
       "유      296601\n",
       "Name: count, dtype: int64"
      ]
     },
     "execution_count": 217,
     "metadata": {},
     "output_type": "execute_result"
    }
   ],
   "source": [
    "att['저감장치부착유무'].value_counts(dropna=False)"
   ]
  },
  {
   "attachments": {},
   "cell_type": "markdown",
   "metadata": {},
   "source": [
    "## 법정동코드"
   ]
  },
  {
   "cell_type": "code",
   "execution_count": 13,
   "metadata": {},
   "outputs": [
    {
     "name": "stdout",
     "output_type": "stream",
     "text": [
      "<class 'pandas.core.frame.DataFrame'>\n",
      "RangeIndex: 46342 entries, 0 to 46341\n",
      "Data columns (total 3 columns):\n",
      " #   Column  Non-Null Count  Dtype \n",
      "---  ------  --------------  ----- \n",
      " 0   법정동코드   46342 non-null  int64 \n",
      " 1   시도      46342 non-null  object\n",
      " 2   시구군     46319 non-null  object\n",
      "dtypes: int64(1), object(2)\n",
      "memory usage: 1.1+ MB\n"
     ]
    }
   ],
   "source": [
    "# about 5.6s\n",
    "# columns = '법정동코드', '시도', '시구군', '읍면동', '리', '지역3', '폐지여부', '대기관리권역', '대기관리권역YN' \n",
    "name = '법정동코드_2022.10.14(수정2023.05.04)'\n",
    "file_name = f'{name}.xlsx'\n",
    "code = pd.read_excel(os.path.join(big2_fold, file_name), usecols=['법정동코드', '시도', '시구군'])\n",
    "code.info()"
   ]
  },
  {
   "attachments": {},
   "cell_type": "markdown",
   "metadata": {},
   "source": [
    "## KOSIS(2021)"
   ]
  },
  {
   "cell_type": "code",
   "execution_count": 14,
   "metadata": {},
   "outputs": [
    {
     "name": "stdout",
     "output_type": "stream",
     "text": [
      "<class 'pandas.core.frame.DataFrame'>\n",
      "RangeIndex: 1230 entries, 0 to 1229\n",
      "Data columns (total 4 columns):\n",
      " #   Column  Non-Null Count  Dtype  \n",
      "---  ------  --------------  -----  \n",
      " 0   시도명     1230 non-null   object \n",
      " 1   시군구명    1230 non-null   object \n",
      " 2   차종      1230 non-null   object \n",
      " 3   전체      1230 non-null   float64\n",
      "dtypes: float64(1), object(3)\n",
      "memory usage: 38.6+ KB\n"
     ]
    }
   ],
   "source": [
    "# about 0.2s\n",
    "name = '용도별_차종별_시군구별_자동차1일평균주행거리(2021)'\n",
    "file_name = f'{name}.xlsx'\n",
    "kos = pd.read_excel(os.path.join(ods_fold, file_name))\n",
    "kos.info()"
   ]
  },
  {
   "attachments": {},
   "cell_type": "markdown",
   "metadata": {},
   "source": [
    "# 전처리"
   ]
  },
  {
   "attachments": {},
   "cell_type": "markdown",
   "metadata": {},
   "source": [
    "## 등급 수정"
   ]
  },
  {
   "cell_type": "code",
   "execution_count": 15,
   "metadata": {},
   "outputs": [
    {
     "data": {
      "text/plain": [
       "배출가스등급\n",
       "2     10960244\n",
       "3      8623130\n",
       "1      2771395\n",
       "4      1511214\n",
       "5      1154733\n",
       "X       288966\n",
       "T2      247483\n",
       "T3      136301\n",
       "T4          37\n",
       "T5          29\n",
       "Name: count, dtype: int64"
      ]
     },
     "execution_count": 15,
     "metadata": {},
     "output_type": "execute_result"
    }
   ],
   "source": [
    "smig2['배출가스등급'].value_counts(dropna=False)"
   ]
  },
  {
   "cell_type": "code",
   "execution_count": 16,
   "metadata": {},
   "outputs": [
    {
     "data": {
      "text/plain": [
       "array(['5', 'X', 'T5', '4', '3', 'T4', 'T3', '2', '1', 'T2'], dtype=object)"
      ]
     },
     "execution_count": 16,
     "metadata": {},
     "output_type": "execute_result"
    }
   ],
   "source": [
    "smig2['배출가스등급'].unique()"
   ]
  },
  {
   "cell_type": "code",
   "execution_count": 17,
   "metadata": {},
   "outputs": [],
   "source": [
    "smig2.loc[smig2['배출가스등급'] == '1', '등급'] = '1'\n",
    "smig2.loc[(smig2['배출가스등급'] == '2') | (smig2['배출가스등급'] == 'T2'), '등급'] = '2'\n",
    "smig2.loc[(smig2['배출가스등급'] == '3') | (smig2['배출가스등급'] == 'T3'), '등급'] = '3'\n",
    "smig2.loc[(smig2['배출가스등급'] == '4') | (smig2['배출가스등급'] == 'T4'), '등급'] = '4'\n",
    "smig2.loc[(smig2['배출가스등급'] == '5') | (smig2['배출가스등급'] == 'T5'), '등급'] = '5'\n",
    "smig2.loc[smig2['배출가스등급'] == 'X', '등급'] = 'X'"
   ]
  },
  {
   "cell_type": "code",
   "execution_count": 18,
   "metadata": {},
   "outputs": [
    {
     "data": {
      "text/plain": [
       "등급\n",
       "2    11207727\n",
       "3     8759431\n",
       "1     2771395\n",
       "4     1511251\n",
       "5     1154762\n",
       "X      288966\n",
       "Name: count, dtype: int64"
      ]
     },
     "execution_count": 18,
     "metadata": {},
     "output_type": "execute_result"
    }
   ],
   "source": [
    "smig2['등급'].value_counts(dropna=False)"
   ]
  },
  {
   "attachments": {},
   "cell_type": "markdown",
   "metadata": {},
   "source": [
    "## 연료 수정"
   ]
  },
  {
   "cell_type": "code",
   "execution_count": 19,
   "metadata": {},
   "outputs": [
    {
     "data": {
      "text/plain": [
       "연료\n",
       "휘발유            12177033\n",
       "경유              9890990\n",
       "LPG(액화석유가스)     1904188\n",
       "휘발유 하이브리드       1095741\n",
       "전기               368693\n",
       "NaN              146798\n",
       "경유 하이브리드          35779\n",
       "CNG(압축천연가스)       30461\n",
       "수소                28227\n",
       "LPG 하이브리드         14352\n",
       "기타연료                933\n",
       "CNG 하이브리드           304\n",
       "LNG(액화천연가스)          27\n",
       "알코올                   3\n",
       "태양열                   2\n",
       "등유                    1\n",
       "Name: count, dtype: int64"
      ]
     },
     "execution_count": 19,
     "metadata": {},
     "output_type": "execute_result"
    }
   ],
   "source": [
    "smig2['연료'].value_counts(dropna=False)"
   ]
  },
  {
   "cell_type": "code",
   "execution_count": 20,
   "metadata": {},
   "outputs": [
    {
     "data": {
      "text/plain": [
       "array(['휘발유', '경유', nan, '기타연료', '등유', '알코올', 'LPG(액화석유가스)',\n",
       "       'CNG(압축천연가스)', '휘발유 하이브리드', 'LPG 하이브리드', '전기', 'LNG(액화천연가스)',\n",
       "       '경유 하이브리드', 'CNG 하이브리드', '수소', '태양열'], dtype=object)"
      ]
     },
     "execution_count": 20,
     "metadata": {},
     "output_type": "execute_result"
    }
   ],
   "source": [
    "smig2['연료'].unique()"
   ]
  },
  {
   "cell_type": "code",
   "execution_count": 22,
   "metadata": {},
   "outputs": [],
   "source": [
    "# about 22.9s\n",
    "smig2.loc[(smig2['연료'] == '휘발유') | (smig2['연료'] == '휘발유 하이브리드'), 'fuel'] = '휘발유'\n",
    "smig2.loc[(smig2['연료'] == '경유') | (smig2['연료'] == '경유 하이브리드'), 'fuel'] = '경유'\n",
    "smig2.loc[(smig2['연료'] == 'LPG(액화석유가스)') | (smig2['연료'] == 'LPG 하이브리드'), 'fuel'] = 'LPG'\n",
    "smig2.loc[(smig2['연료'] == 'CNG(압축천연가스)') | (smig2['연료'] == 'CNG 하이브리드'), 'fuel'] = 'CNG'\n",
    "smig2.loc[(smig2['연료'] == 'LNG(액화천연가스)') | (smig2['연료'] == 'LNG 하이브리드'), 'fuel'] = 'LNG'\n",
    "smig2.loc[smig2['연료'] == '전기', 'fuel'] = '전기'\n",
    "smig2.loc[smig2['연료'] == '수소', 'fuel'] = '수소'\n",
    "smig2.loc[smig2['연료'] == '태양열', 'fuel'] = '태양열'\n",
    "smig2.loc[smig2['연료'] == '알코올', 'fuel'] = '알코올'\n",
    "smig2.loc[smig2['연료'] == '등유', 'fuel'] = '등유'\n",
    "smig2.loc[smig2['연료'] == '기타연료', 'fuel'] = '기타연료'\n",
    "smig2.loc[smig2['연료'].isnull() == True, 'fuel'] = np.nan"
   ]
  },
  {
   "cell_type": "code",
   "execution_count": 23,
   "metadata": {},
   "outputs": [
    {
     "data": {
      "text/plain": [
       "fuel\n",
       "휘발유     13272774\n",
       "경유       9926769\n",
       "LPG      1918540\n",
       "전기        368693\n",
       "NaN       146798\n",
       "CNG        30765\n",
       "수소         28227\n",
       "기타연료         933\n",
       "LNG           27\n",
       "알코올            3\n",
       "태양열            2\n",
       "등유             1\n",
       "Name: count, dtype: int64"
      ]
     },
     "execution_count": 23,
     "metadata": {},
     "output_type": "execute_result"
    }
   ],
   "source": [
    "smig2['fuel'].value_counts(dropna=False)"
   ]
  },
  {
   "cell_type": "code",
   "execution_count": 28,
   "metadata": {},
   "outputs": [
    {
     "data": {
      "text/plain": [
       "(25693532, 11)"
      ]
     },
     "execution_count": 28,
     "metadata": {},
     "output_type": "execute_result"
    }
   ],
   "source": [
    "smig2.shape"
   ]
  },
  {
   "cell_type": "code",
   "execution_count": 29,
   "metadata": {},
   "outputs": [
    {
     "data": {
      "text/plain": [
       "25693532"
      ]
     },
     "execution_count": 29,
     "metadata": {},
     "output_type": "execute_result"
    }
   ],
   "source": [
    "smig2['fuel'].value_counts(dropna=False).sum()"
   ]
  },
  {
   "attachments": {},
   "cell_type": "markdown",
   "metadata": {},
   "source": [
    "## 중복 차대번호 제거"
   ]
  },
  {
   "cell_type": "code",
   "execution_count": 42,
   "metadata": {},
   "outputs": [
    {
     "data": {
      "text/plain": [
       "(25693532, 25692512)"
      ]
     },
     "execution_count": 42,
     "metadata": {},
     "output_type": "execute_result"
    }
   ],
   "source": [
    "smig2.shape[0], len(smig2['차대번호'].unique())"
   ]
  },
  {
   "cell_type": "code",
   "execution_count": 145,
   "metadata": {},
   "outputs": [
    {
     "data": {
      "text/plain": [
       "(25692512, 11)"
      ]
     },
     "execution_count": 145,
     "metadata": {},
     "output_type": "execute_result"
    }
   ],
   "source": [
    "smig3 = smig2.drop_duplicates('차대번호').reset_index(drop=True)\n",
    "smig3.shape"
   ]
  },
  {
   "attachments": {},
   "cell_type": "markdown",
   "metadata": {},
   "source": [
    "## 차령 정보 계산 및 데이터 추가"
   ]
  },
  {
   "cell_type": "code",
   "execution_count": 146,
   "metadata": {},
   "outputs": [
    {
     "data": {
      "text/plain": [
       "2023"
      ]
     },
     "execution_count": 146,
     "metadata": {},
     "output_type": "execute_result"
    }
   ],
   "source": [
    "current_yr = int(datetime.today().strftime(\"%Y\"))\n",
    "current_yr"
   ]
  },
  {
   "cell_type": "code",
   "execution_count": 147,
   "metadata": {},
   "outputs": [
    {
     "data": {
      "text/plain": [
       "Index(['법정동코드', '차종', '차대번호', '차량연식', '배출가스인증번호', '배출가스등급', '차량말소YN', '차종유형',\n",
       "       '연료', '등급', 'fuel'],\n",
       "      dtype='object')"
      ]
     },
     "execution_count": 147,
     "metadata": {},
     "output_type": "execute_result"
    }
   ],
   "source": [
    "smig3.columns"
   ]
  },
  {
   "cell_type": "code",
   "execution_count": 148,
   "metadata": {},
   "outputs": [
    {
     "data": {
      "text/plain": [
       "count   25692512.00\n",
       "mean           8.55\n",
       "std            6.21\n",
       "min            0.00\n",
       "25%            4.00\n",
       "50%            7.00\n",
       "75%           12.00\n",
       "max          123.00\n",
       "Name: 차령, dtype: float64"
      ]
     },
     "execution_count": 148,
     "metadata": {},
     "output_type": "execute_result"
    }
   ],
   "source": [
    "smig3['차령'] = current_yr - smig3['차량연식']\n",
    "smig3['차령'].describe()"
   ]
  },
  {
   "cell_type": "code",
   "execution_count": 149,
   "metadata": {},
   "outputs": [
    {
     "data": {
      "text/plain": [
       "0"
      ]
     },
     "execution_count": 149,
     "metadata": {},
     "output_type": "execute_result"
    }
   ],
   "source": [
    "smig3['차령'].isnull().sum()"
   ]
  },
  {
   "cell_type": "code",
   "execution_count": 150,
   "metadata": {},
   "outputs": [
    {
     "data": {
      "text/plain": [
       "Index(['법정동코드', '차종', '차대번호', '차량연식', '배출가스인증번호', '배출가스등급', '차량말소YN', '차종유형',\n",
       "       '연료', '등급', 'fuel', '차령'],\n",
       "      dtype='object')"
      ]
     },
     "execution_count": 150,
     "metadata": {},
     "output_type": "execute_result"
    }
   ],
   "source": [
    "smig3.columns"
   ]
  },
  {
   "attachments": {},
   "cell_type": "markdown",
   "metadata": {},
   "source": [
    "## 법정동코드로 지역정보 부착\n",
    "- 시군구명 앞지역명만 추출"
   ]
  },
  {
   "cell_type": "code",
   "execution_count": 151,
   "metadata": {},
   "outputs": [
    {
     "data": {
      "text/plain": [
       "(25692512, 12)"
      ]
     },
     "execution_count": 151,
     "metadata": {},
     "output_type": "execute_result"
    }
   ],
   "source": [
    "smig3.shape"
   ]
  },
  {
   "cell_type": "code",
   "execution_count": 152,
   "metadata": {},
   "outputs": [
    {
     "data": {
      "text/plain": [
       "(25692512, 14)"
      ]
     },
     "execution_count": 152,
     "metadata": {},
     "output_type": "execute_result"
    }
   ],
   "source": [
    "smig4 = smig3.merge(code, on='법정동코드', how='left')\n",
    "smig4.shape"
   ]
  },
  {
   "cell_type": "code",
   "execution_count": 153,
   "metadata": {},
   "outputs": [
    {
     "data": {
      "text/plain": [
       "4     창원시 의창구\n",
       "11    청주시 상당구\n",
       "37    안산시 단원구\n",
       "74     포항시 남구\n",
       "75     포항시 남구\n",
       "Name: 시구군, dtype: object"
      ]
     },
     "execution_count": 153,
     "metadata": {},
     "output_type": "execute_result"
    }
   ],
   "source": [
    "# 25.9s\n",
    "smig4.loc[smig4['시구군'].str.split(' ').str.len() != 1, '시구군'].head()"
   ]
  },
  {
   "cell_type": "code",
   "execution_count": 154,
   "metadata": {},
   "outputs": [
    {
     "data": {
      "text/plain": [
       "Series([], Name: 시구군, dtype: object)"
      ]
     },
     "execution_count": 154,
     "metadata": {},
     "output_type": "execute_result"
    }
   ],
   "source": [
    "smig4.loc[smig4['시구군'].str.contains('부산') == True, '시구군'].head()"
   ]
  },
  {
   "cell_type": "code",
   "execution_count": 155,
   "metadata": {},
   "outputs": [
    {
     "data": {
      "text/plain": [
       "6195     NaN\n",
       "7506     NaN\n",
       "7598     NaN\n",
       "9987     NaN\n",
       "21107    NaN\n",
       "Name: 시구군, dtype: object"
      ]
     },
     "execution_count": 155,
     "metadata": {},
     "output_type": "execute_result"
    }
   ],
   "source": [
    "# 58.3s\n",
    "smig4['시구군'] = smig4['시구군'].str.split(' ').str[0]\n",
    "smig4.loc[smig4['시구군'].str.split(' ').str.len() != 1, '시구군'].head()"
   ]
  },
  {
   "cell_type": "code",
   "execution_count": 156,
   "metadata": {},
   "outputs": [
    {
     "data": {
      "text/plain": [
       "0    서초구\n",
       "1     중구\n",
       "2    남동구\n",
       "3    원주시\n",
       "4    창원시\n",
       "Name: 시구군, dtype: object"
      ]
     },
     "execution_count": 156,
     "metadata": {},
     "output_type": "execute_result"
    }
   ],
   "source": [
    "smig4['시구군'].head()"
   ]
  },
  {
   "attachments": {},
   "cell_type": "markdown",
   "metadata": {},
   "source": [
    "## 1일평균주행거리 정보 추가\n",
    "- 매칭 컬럼(등록&제원|kosis)\n",
    "- 1\\. 시도, 시구군, 차종 | 시도명, 시군구명, 차종\n",
    "- 2\\. 시도, 차종 | 시도명, 차종\n",
    "- 3\\. 시도, 시구군, 차종(nan) | 시도명, 시군구명, 차종(합계)\n",
    "    - 차종:nan인 데이터는 kosis의 차종:합계의 일일평균주행거리로 매칭"
   ]
  },
  {
   "cell_type": "code",
   "execution_count": 157,
   "metadata": {},
   "outputs": [
    {
     "data": {
      "text/plain": [
       "Index(['법정동코드', '차종', '차대번호', '차량연식', '배출가스인증번호', '배출가스등급', '차량말소YN', '차종유형',\n",
       "       '연료', '등급', 'fuel', '차령', '시도', '시구군'],\n",
       "      dtype='object')"
      ]
     },
     "execution_count": 157,
     "metadata": {},
     "output_type": "execute_result"
    }
   ],
   "source": [
    "smig4.columns"
   ]
  },
  {
   "cell_type": "code",
   "execution_count": 158,
   "metadata": {},
   "outputs": [
    {
     "data": {
      "text/plain": [
       "Index(['시도명', '시군구명', '차종', '전체'], dtype='object')"
      ]
     },
     "execution_count": 158,
     "metadata": {},
     "output_type": "execute_result"
    }
   ],
   "source": [
    "kos.columns"
   ]
  },
  {
   "cell_type": "code",
   "execution_count": 159,
   "metadata": {},
   "outputs": [
    {
     "data": {
      "text/plain": [
       "(25692512, 14)"
      ]
     },
     "execution_count": 159,
     "metadata": {},
     "output_type": "execute_result"
    }
   ],
   "source": [
    "smig4.shape"
   ]
  },
  {
   "cell_type": "code",
   "execution_count": 160,
   "metadata": {},
   "outputs": [
    {
     "data": {
      "text/plain": [
       "(25692512, 17)"
      ]
     },
     "execution_count": 160,
     "metadata": {},
     "output_type": "execute_result"
    }
   ],
   "source": [
    "# about 9.1s\n",
    "# 시도, 시구군, 차종으로 매칭\n",
    "smig5 = smig4.merge(kos, left_on=['시도', '시구군', '차종'], right_on=['시도명', '시군구명', '차종'], how='left')\n",
    "smig5.shape"
   ]
  },
  {
   "cell_type": "code",
   "execution_count": 161,
   "metadata": {},
   "outputs": [
    {
     "data": {
      "text/plain": [
       "341953"
      ]
     },
     "execution_count": 161,
     "metadata": {},
     "output_type": "execute_result"
    }
   ],
   "source": [
    "smig5['전체'].isnull().sum()"
   ]
  },
  {
   "cell_type": "code",
   "execution_count": 162,
   "metadata": {},
   "outputs": [
    {
     "data": {
      "text/plain": [
       "((25350559, 17), (341953, 17))"
      ]
     },
     "execution_count": 162,
     "metadata": {},
     "output_type": "execute_result"
    }
   ],
   "source": [
    "# 4.8s\n",
    "smig5y = smig5.loc[smig5['전체'].isnull() == False]\n",
    "smig5n = smig5.loc[smig5['전체'].isnull() == True]\n",
    "smig5y.shape, smig5n.shape"
   ]
  },
  {
   "cell_type": "code",
   "execution_count": 163,
   "metadata": {},
   "outputs": [
    {
     "data": {
      "text/plain": [
       "Index(['법정동코드', '차종', '차대번호', '차량연식', '배출가스인증번호', '배출가스등급', '차량말소YN', '차종유형',\n",
       "       '연료', '등급', 'fuel', '차령', '시도', '시구군', '시도명', '시군구명', '전체'],\n",
       "      dtype='object')"
      ]
     },
     "execution_count": 163,
     "metadata": {},
     "output_type": "execute_result"
    }
   ],
   "source": [
    "smig5n.columns"
   ]
  },
  {
   "cell_type": "code",
   "execution_count": 164,
   "metadata": {},
   "outputs": [
    {
     "data": {
      "text/plain": [
       "Index(['법정동코드', '차종', '차대번호', '차량연식', '배출가스인증번호', '배출가스등급', '차량말소YN', '차종유형',\n",
       "       '연료', '등급', 'fuel', '차령', '시도', '시구군'],\n",
       "      dtype='object')"
      ]
     },
     "execution_count": 164,
     "metadata": {},
     "output_type": "execute_result"
    }
   ],
   "source": [
    "smig5n = smig5n.drop(['시도명', '시군구명', '전체'], axis=1)\n",
    "smig5n.columns"
   ]
  },
  {
   "cell_type": "code",
   "execution_count": 165,
   "metadata": {},
   "outputs": [
    {
     "data": {
      "text/plain": [
       "(341953, 14)"
      ]
     },
     "execution_count": 165,
     "metadata": {},
     "output_type": "execute_result"
    }
   ],
   "source": [
    "smig5n.shape"
   ]
  },
  {
   "cell_type": "code",
   "execution_count": 166,
   "metadata": {},
   "outputs": [
    {
     "data": {
      "text/plain": [
       "(1230, 4)"
      ]
     },
     "execution_count": 166,
     "metadata": {},
     "output_type": "execute_result"
    }
   ],
   "source": [
    "kos.shape"
   ]
  },
  {
   "cell_type": "code",
   "execution_count": 167,
   "metadata": {},
   "outputs": [
    {
     "data": {
      "text/plain": [
       "(85, 4)"
      ]
     },
     "execution_count": 167,
     "metadata": {},
     "output_type": "execute_result"
    }
   ],
   "source": [
    "kos.loc[kos['시군구명'] == '소계'].shape"
   ]
  },
  {
   "cell_type": "code",
   "execution_count": 168,
   "metadata": {},
   "outputs": [
    {
     "data": {
      "text/plain": [
       "(341953, 17)"
      ]
     },
     "execution_count": 168,
     "metadata": {},
     "output_type": "execute_result"
    }
   ],
   "source": [
    "# 시도, 차종으로만 매칭\n",
    "smig5nm = smig5n.merge(kos.loc[kos['시군구명'] == '소계'].reset_index(drop=True), left_on=['시도', '차종'], right_on=['시도명', '차종'], how='left')\n",
    "smig5nm.shape"
   ]
  },
  {
   "cell_type": "code",
   "execution_count": 169,
   "metadata": {},
   "outputs": [
    {
     "data": {
      "text/plain": [
       "Index(['법정동코드', '차종', '차대번호', '차량연식', '배출가스인증번호', '배출가스등급', '차량말소YN', '차종유형',\n",
       "       '연료', '등급', 'fuel', '차령', '시도', '시구군', '시도명', '시군구명', '전체'],\n",
       "      dtype='object')"
      ]
     },
     "execution_count": 169,
     "metadata": {},
     "output_type": "execute_result"
    }
   ],
   "source": [
    "smig5nm.columns"
   ]
  },
  {
   "cell_type": "code",
   "execution_count": 170,
   "metadata": {},
   "outputs": [
    {
     "data": {
      "text/plain": [
       "14"
      ]
     },
     "execution_count": 170,
     "metadata": {},
     "output_type": "execute_result"
    }
   ],
   "source": [
    "smig5nm['전체'].isnull().sum()"
   ]
  },
  {
   "cell_type": "code",
   "execution_count": 171,
   "metadata": {},
   "outputs": [
    {
     "data": {
      "text/html": [
       "<div>\n",
       "<style scoped>\n",
       "    .dataframe tbody tr th:only-of-type {\n",
       "        vertical-align: middle;\n",
       "    }\n",
       "\n",
       "    .dataframe tbody tr th {\n",
       "        vertical-align: top;\n",
       "    }\n",
       "\n",
       "    .dataframe thead th {\n",
       "        text-align: right;\n",
       "    }\n",
       "</style>\n",
       "<table border=\"1\" class=\"dataframe\">\n",
       "  <thead>\n",
       "    <tr style=\"text-align: right;\">\n",
       "      <th></th>\n",
       "      <th>시도</th>\n",
       "      <th>시구군</th>\n",
       "      <th>차종</th>\n",
       "    </tr>\n",
       "  </thead>\n",
       "  <tbody>\n",
       "    <tr>\n",
       "      <th>40</th>\n",
       "      <td>서울특별시</td>\n",
       "      <td>서초구</td>\n",
       "      <td>NaN</td>\n",
       "    </tr>\n",
       "    <tr>\n",
       "      <th>45</th>\n",
       "      <td>경상남도</td>\n",
       "      <td>함안군</td>\n",
       "      <td>NaN</td>\n",
       "    </tr>\n",
       "    <tr>\n",
       "      <th>201</th>\n",
       "      <td>경상남도</td>\n",
       "      <td>의령군</td>\n",
       "      <td>NaN</td>\n",
       "    </tr>\n",
       "    <tr>\n",
       "      <th>263</th>\n",
       "      <td>경상남도</td>\n",
       "      <td>함안군</td>\n",
       "      <td>NaN</td>\n",
       "    </tr>\n",
       "    <tr>\n",
       "      <th>372</th>\n",
       "      <td>전라남도</td>\n",
       "      <td>순천시</td>\n",
       "      <td>NaN</td>\n",
       "    </tr>\n",
       "    <tr>\n",
       "      <th>376</th>\n",
       "      <td>대구광역시</td>\n",
       "      <td>달성군</td>\n",
       "      <td>NaN</td>\n",
       "    </tr>\n",
       "    <tr>\n",
       "      <th>444</th>\n",
       "      <td>울산광역시</td>\n",
       "      <td>북구</td>\n",
       "      <td>NaN</td>\n",
       "    </tr>\n",
       "    <tr>\n",
       "      <th>512</th>\n",
       "      <td>경상남도</td>\n",
       "      <td>진주시</td>\n",
       "      <td>NaN</td>\n",
       "    </tr>\n",
       "    <tr>\n",
       "      <th>636</th>\n",
       "      <td>경상남도</td>\n",
       "      <td>창원시</td>\n",
       "      <td>NaN</td>\n",
       "    </tr>\n",
       "    <tr>\n",
       "      <th>650</th>\n",
       "      <td>경상북도</td>\n",
       "      <td>경주시</td>\n",
       "      <td>NaN</td>\n",
       "    </tr>\n",
       "    <tr>\n",
       "      <th>702</th>\n",
       "      <td>대구광역시</td>\n",
       "      <td>서구</td>\n",
       "      <td>NaN</td>\n",
       "    </tr>\n",
       "    <tr>\n",
       "      <th>822</th>\n",
       "      <td>서울특별시</td>\n",
       "      <td>구로구</td>\n",
       "      <td>NaN</td>\n",
       "    </tr>\n",
       "    <tr>\n",
       "      <th>970</th>\n",
       "      <td>대구광역시</td>\n",
       "      <td>달서구</td>\n",
       "      <td>NaN</td>\n",
       "    </tr>\n",
       "    <tr>\n",
       "      <th>1009</th>\n",
       "      <td>대구광역시</td>\n",
       "      <td>남구</td>\n",
       "      <td>NaN</td>\n",
       "    </tr>\n",
       "  </tbody>\n",
       "</table>\n",
       "</div>"
      ],
      "text/plain": [
       "         시도  시구군   차종\n",
       "40    서울특별시  서초구  NaN\n",
       "45     경상남도  함안군  NaN\n",
       "201    경상남도  의령군  NaN\n",
       "263    경상남도  함안군  NaN\n",
       "372    전라남도  순천시  NaN\n",
       "376   대구광역시  달성군  NaN\n",
       "444   울산광역시   북구  NaN\n",
       "512    경상남도  진주시  NaN\n",
       "636    경상남도  창원시  NaN\n",
       "650    경상북도  경주시  NaN\n",
       "702   대구광역시   서구  NaN\n",
       "822   서울특별시  구로구  NaN\n",
       "970   대구광역시  달서구  NaN\n",
       "1009  대구광역시   남구  NaN"
      ]
     },
     "execution_count": 171,
     "metadata": {},
     "output_type": "execute_result"
    }
   ],
   "source": [
    "smig5nm.loc[smig5nm['전체'].isnull() == True, ['시도', '시구군', '차종']]"
   ]
  },
  {
   "cell_type": "code",
   "execution_count": 172,
   "metadata": {},
   "outputs": [],
   "source": [
    "# 차종이 빈값인 데이터는 kosis의 차종이 합계인 데이터로 매칭\n",
    "for a, b, c in smig5nm.loc[smig5nm['전체'].isnull() == True, ['시도', '시구군', '차종']].values:\n",
    "    smig5nm.loc[(smig5nm['전체'].isnull() == True) & (smig5nm['시도'] == a) & ((smig5nm['시구군'] == b) & ((smig5nm['차종'].isnull() == True))), '전체'] = kos.loc[(kos['시도명'] == a) & (kos['시군구명'] == b) & (kos['차종'] == '합계'), '전체'].iloc[0]"
   ]
  },
  {
   "cell_type": "code",
   "execution_count": 173,
   "metadata": {},
   "outputs": [
    {
     "data": {
      "text/plain": [
       "36.9"
      ]
     },
     "execution_count": 173,
     "metadata": {},
     "output_type": "execute_result"
    }
   ],
   "source": [
    "kos.loc[(kos['시도명'] == a) & (kos['시군구명'] == b) & (kos['차종'] == '합계'), '전체'].iloc[0]"
   ]
  },
  {
   "cell_type": "code",
   "execution_count": 174,
   "metadata": {},
   "outputs": [
    {
     "data": {
      "text/plain": [
       "0"
      ]
     },
     "execution_count": 174,
     "metadata": {},
     "output_type": "execute_result"
    }
   ],
   "source": [
    "smig5nm['전체'].isnull().sum()"
   ]
  },
  {
   "cell_type": "code",
   "execution_count": 206,
   "metadata": {},
   "outputs": [
    {
     "data": {
      "text/plain": [
       "(25692512, 17)"
      ]
     },
     "execution_count": 206,
     "metadata": {},
     "output_type": "execute_result"
    }
   ],
   "source": [
    "# 6.4s\n",
    "smig5 = pd.concat([smig5y, smig5nm], ignore_index=True)\n",
    "smig5.shape"
   ]
  },
  {
   "cell_type": "code",
   "execution_count": 207,
   "metadata": {},
   "outputs": [
    {
     "data": {
      "text/plain": [
       "Index(['법정동코드', '차종', '차대번호', '차량연식', '배출가스인증번호', '배출가스등급', '차량말소YN', '차종유형',\n",
       "       '연료', '등급', 'fuel', '차령', '시도', '시구군', '시도명', '시군구명', '전체'],\n",
       "      dtype='object')"
      ]
     },
     "execution_count": 207,
     "metadata": {},
     "output_type": "execute_result"
    }
   ],
   "source": [
    "smig5.columns"
   ]
  },
  {
   "cell_type": "code",
   "execution_count": 208,
   "metadata": {},
   "outputs": [
    {
     "data": {
      "text/plain": [
       "Index(['법정동코드', '차종', '차대번호', '차량연식', '배출가스인증번호', '배출가스등급', '차량말소YN', '차종유형',\n",
       "       '연료', '등급', 'fuel', '차령', '시도', '시구군', '일일평균주행거리'],\n",
       "      dtype='object')"
      ]
     },
     "execution_count": 208,
     "metadata": {},
     "output_type": "execute_result"
    }
   ],
   "source": [
    "# 12.1s\n",
    "smig5 = smig5.rename(columns={'전체':'일일평균주행거리'})\n",
    "smig5 = smig5.drop(['시도명', '시군구명'], axis=1)\n",
    "smig5.columns"
   ]
  },
  {
   "cell_type": "code",
   "execution_count": 209,
   "metadata": {},
   "outputs": [
    {
     "data": {
      "text/plain": [
       "0"
      ]
     },
     "execution_count": 209,
     "metadata": {},
     "output_type": "execute_result"
    }
   ],
   "source": [
    "smig5['일일평균주행거리'].isnull().sum()"
   ]
  },
  {
   "attachments": {},
   "cell_type": "markdown",
   "metadata": {},
   "source": [
    "## 저감장치 정보 추가"
   ]
  },
  {
   "cell_type": "code",
   "execution_count": 218,
   "metadata": {},
   "outputs": [
    {
     "data": {
      "text/plain": [
       "Index(['차대번호', '저감장치구분', '저감장치부착유무'], dtype='object')"
      ]
     },
     "execution_count": 218,
     "metadata": {},
     "output_type": "execute_result"
    }
   ],
   "source": [
    "att.columns"
   ]
  },
  {
   "cell_type": "code",
   "execution_count": 219,
   "metadata": {},
   "outputs": [
    {
     "data": {
      "text/plain": [
       "Index(['법정동코드', '차종', '차대번호', '차량연식', '배출가스인증번호', '배출가스등급', '차량말소YN', '차종유형',\n",
       "       '연료', '등급', 'fuel', '차령', '시도', '시구군', '일일평균주행거리'],\n",
       "      dtype='object')"
      ]
     },
     "execution_count": 219,
     "metadata": {},
     "output_type": "execute_result"
    }
   ],
   "source": [
    "smig5.columns"
   ]
  },
  {
   "cell_type": "code",
   "execution_count": 220,
   "metadata": {},
   "outputs": [
    {
     "data": {
      "text/plain": [
       "(25692512, 15)"
      ]
     },
     "execution_count": 220,
     "metadata": {},
     "output_type": "execute_result"
    }
   ],
   "source": [
    "smig5.shape"
   ]
  },
  {
   "cell_type": "code",
   "execution_count": 221,
   "metadata": {},
   "outputs": [
    {
     "data": {
      "text/plain": [
       "(25692512, 16)"
      ]
     },
     "execution_count": 221,
     "metadata": {},
     "output_type": "execute_result"
    }
   ],
   "source": [
    "# 40.9s\n",
    "smig6 = smig5.merge(att[['차대번호', '저감장치부착유무']], on='차대번호', how='left')\n",
    "smig6.shape"
   ]
  },
  {
   "cell_type": "code",
   "execution_count": 222,
   "metadata": {},
   "outputs": [
    {
     "data": {
      "text/plain": [
       "저감장치부착유무\n",
       "NaN    25549321\n",
       "유        143191\n",
       "Name: count, dtype: int64"
      ]
     },
     "execution_count": 222,
     "metadata": {},
     "output_type": "execute_result"
    }
   ],
   "source": [
    "smig6['저감장치부착유무'].value_counts(dropna=False)"
   ]
  },
  {
   "attachments": {},
   "cell_type": "markdown",
   "metadata": {},
   "source": [
    "## [출력] 전처리 완료"
   ]
  },
  {
   "cell_type": "code",
   "execution_count": 223,
   "metadata": {},
   "outputs": [],
   "source": [
    "# 2m 47.1s\n",
    "smig6.to_csv(os.path.join(pre_fold, '전처리완료_일일평균주행거리포함.csv'), index=False)"
   ]
  },
  {
   "attachments": {},
   "cell_type": "markdown",
   "metadata": {},
   "source": [
    "# [로드] 전처리"
   ]
  },
  {
   "cell_type": "code",
   "execution_count": null,
   "metadata": {},
   "outputs": [],
   "source": [
    "# # \n",
    "# name = '전처리완료_일일평균주행거리포함'\n",
    "# file_name = f'{name}.csv'\n",
    "# smig4 = pd.read_csv(os.path.join(pre_fold, file_name), low_memory=False)\n",
    "# smig4.info()"
   ]
  },
  {
   "attachments": {},
   "cell_type": "markdown",
   "metadata": {},
   "source": [
    "## 연료로 분류"
   ]
  },
  {
   "cell_type": "code",
   "execution_count": 224,
   "metadata": {},
   "outputs": [
    {
     "data": {
      "text/plain": [
       "(25117108, 16)"
      ]
     },
     "execution_count": 224,
     "metadata": {},
     "output_type": "execute_result"
    }
   ],
   "source": [
    "# 10.2s\n",
    "# 휘발유, 경유, LPG\n",
    "dgl = smig6.loc[(smig6['fuel'] == '휘발유') | (smig6['fuel'] == '경유') | (smig6['fuel'] == 'LPG')].reset_index(drop=True)\n",
    "dgl.shape"
   ]
  },
  {
   "cell_type": "code",
   "execution_count": 225,
   "metadata": {},
   "outputs": [
    {
     "data": {
      "text/plain": [
       "(575404, 16)"
      ]
     },
     "execution_count": 225,
     "metadata": {},
     "output_type": "execute_result"
    }
   ],
   "source": [
    "# 4.6s\n",
    "# 나머지 : 전기, 수소, 태양열, CNG, LNG, 등유, 알코올, 기타연료, nan\n",
    "etc = smig6[(smig6['fuel'] != '휘발유') & (smig6['fuel'] != '경유') & (smig6['fuel'] != 'LPG')].reset_index(drop=True)\n",
    "etc.shape"
   ]
  },
  {
   "cell_type": "code",
   "execution_count": 226,
   "metadata": {},
   "outputs": [
    {
     "data": {
      "text/plain": [
       "25692512"
      ]
     },
     "execution_count": 226,
     "metadata": {},
     "output_type": "execute_result"
    }
   ],
   "source": [
    "dgl.shape[0] + etc.shape[0]"
   ]
  },
  {
   "attachments": {},
   "cell_type": "markdown",
   "metadata": {},
   "source": [
    "# 배출량 계산"
   ]
  },
  {
   "attachments": {},
   "cell_type": "markdown",
   "metadata": {},
   "source": [
    "## 자동차-엔진 가열(Hot-start) 배출"
   ]
  },
  {
   "attachments": {},
   "cell_type": "markdown",
   "metadata": {},
   "source": [
    "### 배출량 식\n",
    "$$E_{i, j} = VKT \\times {EF_i \\over {1000}} \\times DF \\times (1 - {R \\over {100}})$$\n",
    "\n",
    "$E_{i, j}$ : 자동차 $j$의 도로주행시 발생한 오염물질 $i$의 배출량($kg/yr$)\n",
    "\n",
    "$VKT$ : 주행거리($km/yr$)\n",
    "\n",
    "$EF_i$ : 차종별, 연료별, 연식별, 차속별 배출계수($g/km$)\n",
    "\n",
    "$DF$ : 열화계수\n",
    "\n",
    "$R$ : 저감장치 부착 효율(%)"
   ]
  },
  {
   "attachments": {},
   "cell_type": "markdown",
   "metadata": {},
   "source": [
    "### 주행거리(VKT)\n",
    "- [현재 설정] \"용도별_차종별_시군구별_자동차주행거리\" 자료(KOSIS)(2021)의 1일 평균주행거리 * 365 = 주행거리(km/yr)"
   ]
  },
  {
   "cell_type": "code",
   "execution_count": 227,
   "metadata": {},
   "outputs": [],
   "source": [
    "# 2.6s\n",
    "df2 = dgl.copy()"
   ]
  },
  {
   "cell_type": "code",
   "execution_count": 228,
   "metadata": {},
   "outputs": [],
   "source": [
    "df2['VKT'] = df2['일일평균주행거리'] * 365"
   ]
  },
  {
   "cell_type": "code",
   "execution_count": 229,
   "metadata": {},
   "outputs": [
    {
     "data": {
      "text/plain": [
       "0"
      ]
     },
     "execution_count": 229,
     "metadata": {},
     "output_type": "execute_result"
    }
   ],
   "source": [
    "df2['VKT'].isnull().sum()"
   ]
  },
  {
   "attachments": {},
   "cell_type": "markdown",
   "metadata": {},
   "source": [
    "### DF(열화계수)\n",
    "- 필요한 정보 : 연료, 차종, 차종유형, 연식, 차령\n",
    "- 조건 수정(2023.04.20, 최)\n",
    "    - 특수 소형 = 승용 소형\n",
    "    - 승합 대형 = 화물 대형"
   ]
  },
  {
   "cell_type": "code",
   "execution_count": 230,
   "metadata": {},
   "outputs": [
    {
     "data": {
      "text/plain": [
       "array(['휘발유', '경유', 'LPG'], dtype=object)"
      ]
     },
     "execution_count": 230,
     "metadata": {},
     "output_type": "execute_result"
    }
   ],
   "source": [
    "df2['fuel'].unique()"
   ]
  },
  {
   "cell_type": "code",
   "execution_count": 231,
   "metadata": {},
   "outputs": [],
   "source": [
    "DF_col = ['fuel', '차종', '차종유형', '차량연식', '차령']"
   ]
  },
  {
   "cell_type": "code",
   "execution_count": 232,
   "metadata": {},
   "outputs": [
    {
     "data": {
      "text/html": [
       "<div>\n",
       "<style scoped>\n",
       "    .dataframe tbody tr th:only-of-type {\n",
       "        vertical-align: middle;\n",
       "    }\n",
       "\n",
       "    .dataframe tbody tr th {\n",
       "        vertical-align: top;\n",
       "    }\n",
       "\n",
       "    .dataframe thead th {\n",
       "        text-align: right;\n",
       "    }\n",
       "</style>\n",
       "<table border=\"1\" class=\"dataframe\">\n",
       "  <thead>\n",
       "    <tr style=\"text-align: right;\">\n",
       "      <th></th>\n",
       "      <th>fuel</th>\n",
       "      <th>차종</th>\n",
       "      <th>차종유형</th>\n",
       "      <th>차량연식</th>\n",
       "      <th>차령</th>\n",
       "    </tr>\n",
       "  </thead>\n",
       "  <tbody>\n",
       "    <tr>\n",
       "      <th>0</th>\n",
       "      <td>휘발유</td>\n",
       "      <td>승용</td>\n",
       "      <td>소형</td>\n",
       "      <td>1976</td>\n",
       "      <td>47</td>\n",
       "    </tr>\n",
       "    <tr>\n",
       "      <th>1</th>\n",
       "      <td>휘발유</td>\n",
       "      <td>승용</td>\n",
       "      <td>경형</td>\n",
       "      <td>1968</td>\n",
       "      <td>55</td>\n",
       "    </tr>\n",
       "    <tr>\n",
       "      <th>2</th>\n",
       "      <td>휘발유</td>\n",
       "      <td>승용</td>\n",
       "      <td>소형</td>\n",
       "      <td>1976</td>\n",
       "      <td>47</td>\n",
       "    </tr>\n",
       "    <tr>\n",
       "      <th>3</th>\n",
       "      <td>경유</td>\n",
       "      <td>화물</td>\n",
       "      <td>중형</td>\n",
       "      <td>1971</td>\n",
       "      <td>52</td>\n",
       "    </tr>\n",
       "    <tr>\n",
       "      <th>4</th>\n",
       "      <td>휘발유</td>\n",
       "      <td>승용</td>\n",
       "      <td>소형</td>\n",
       "      <td>1986</td>\n",
       "      <td>37</td>\n",
       "    </tr>\n",
       "  </tbody>\n",
       "</table>\n",
       "</div>"
      ],
      "text/plain": [
       "  fuel  차종 차종유형  차량연식  차령\n",
       "0  휘발유  승용   소형  1976  47\n",
       "1  휘발유  승용   경형  1968  55\n",
       "2  휘발유  승용   소형  1976  47\n",
       "3   경유  화물   중형  1971  52\n",
       "4  휘발유  승용   소형  1986  37"
      ]
     },
     "execution_count": 232,
     "metadata": {},
     "output_type": "execute_result"
    }
   ],
   "source": [
    "df2[DF_col].head()"
   ]
  },
  {
   "cell_type": "code",
   "execution_count": 233,
   "metadata": {},
   "outputs": [
    {
     "data": {
      "text/plain": [
       "array(['휘발유', '승용', '소형', 1976, 47], dtype=object)"
      ]
     },
     "execution_count": 233,
     "metadata": {},
     "output_type": "execute_result"
    }
   ],
   "source": [
    "df2[DF_col].values[0]"
   ]
  },
  {
   "attachments": {},
   "cell_type": "markdown",
   "metadata": {},
   "source": [
    "#### ❗ DF(열화계수) 코드\n",
    "- 연료, 차종, 차종유형 설정에 해당되지 않는 차량의 열화계수 값 설정\n",
    "    - 현재 설정값 : np.nan\n",
    "    - 고려 설정값 : 1"
   ]
  },
  {
   "cell_type": "code",
   "execution_count": 234,
   "metadata": {},
   "outputs": [
    {
     "name": "stderr",
     "output_type": "stream",
     "text": [
      "100%|██████████| 25117108/25117108 [01:10<00:00, 355901.37it/s]\n"
     ]
    }
   ],
   "source": [
    "# about 1m 14.5s\n",
    "DF_CO_list = []\n",
    "DF_HC_list = []\n",
    "DF_PM_list = []\n",
    "DF_NOx_list = []\n",
    "# '연료', '차종', '차종유형', '연식', '차령'\n",
    "for fuel, car_type, car_size, car_birth, car_age in tqdm(df2[DF_col].values):    \n",
    "    if fuel == '경유':\n",
    "        if (car_type == '승용') or ( (car_type == '특수') and (car_size == '소형') ): # 최 확인(2023.04.20) : \"특수 소형\" -> \"승용 소형\" 조건으로 계산\n",
    "            warranty = 5\n",
    "            if car_age <= warranty:\n",
    "                DF_CO = 1\n",
    "                DF_HC = 1\n",
    "                DF_PM = 1\n",
    "                DF_NOx = 1\n",
    "            else:\n",
    "                DF_CO = 1 + (car_age - warranty)*0.05\n",
    "                DF_HC = 1 + (car_age - warranty)*0.05\n",
    "                DF_PM = 1 + (car_age - warranty)*0.05\n",
    "                DF_NOx = 1 + (car_age - warranty)*0.02\n",
    "                if DF_CO > 1.5:\n",
    "                    DF_CO = 1.5\n",
    "                if DF_HC > 1.5:\n",
    "                    DF_HC = 1.5\n",
    "                if DF_PM > 1.5:\n",
    "                    DF_PM = 1.5\n",
    "                if DF_NOx > 1.2:\n",
    "                    DF_NOx = 1.2\n",
    "        elif car_type == '승합':\n",
    "            if car_size == '소형' or car_size == '중형':\n",
    "                warranty = 5\n",
    "                if car_age <= warranty:\n",
    "                    DF_CO = 1\n",
    "                    DF_HC = 1\n",
    "                    DF_PM = 1\n",
    "                    DF_NOx = 1\n",
    "                else:\n",
    "                    DF_CO = 1 + (car_age - warranty)*0.05\n",
    "                    DF_HC = 1 + (car_age - warranty)*0.05\n",
    "                    DF_PM = 1 + (car_age - warranty)*0.05\n",
    "                    DF_NOx = 1 + (car_age - warranty)*0.02\n",
    "                    if DF_CO > 1.5:\n",
    "                        DF_CO = 1.5\n",
    "                    if DF_HC > 1.5:\n",
    "                        DF_HC = 1.5\n",
    "                    if DF_PM > 1.5:\n",
    "                        DF_PM = 1.5\n",
    "                    if DF_NOx > 1.2:\n",
    "                        DF_NOx = 1.2\n",
    "            elif car_size == '대형':\n",
    "                warranty = 3\n",
    "                if car_age <= warranty:\n",
    "                    DF_CO = 1\n",
    "                    DF_HC = 1\n",
    "                    DF_PM = 1\n",
    "                    DF_NOx = 1\n",
    "                else:\n",
    "                    DF_CO = 1 + (car_age - warranty)*0.05\n",
    "                    DF_HC = 1 + (car_age - warranty)*0.05\n",
    "                    DF_PM = 1 + (car_age - warranty)*0.05\n",
    "                    DF_NOx = 1 + (car_age - warranty)*0.02\n",
    "                    if DF_CO > 1.5:\n",
    "                        DF_CO = 1.5\n",
    "                    if DF_HC > 1.5:\n",
    "                        DF_HC = 1.5\n",
    "                    if DF_PM > 1.5:\n",
    "                        DF_PM = 1.5\n",
    "                    if DF_NOx > 1.2:\n",
    "                        DF_NOx = 1.2\n",
    "        elif car_type == '화물':\n",
    "            # car_size : 경, 소, 중, 대\n",
    "            warranty = 5\n",
    "            if car_age <= warranty:\n",
    "                DF_CO = 1\n",
    "                DF_HC = 1\n",
    "                DF_PM = 1\n",
    "                DF_NOx = 1\n",
    "            else:\n",
    "                DF_CO = 1 + (car_age - warranty)*0.05\n",
    "                DF_HC = 1 + (car_age - warranty)*0.05\n",
    "                DF_PM = 1 + (car_age - warranty)*0.05\n",
    "                DF_NOx = 1 + (car_age - warranty)*0.02\n",
    "                if DF_CO > 1.5:\n",
    "                    DF_CO = 1.5\n",
    "                if DF_HC > 1.5:\n",
    "                    DF_HC = 1.5\n",
    "                if DF_PM > 1.5:\n",
    "                    DF_PM = 1.5\n",
    "                if DF_NOx > 1.2:\n",
    "                    DF_NOx = 1.2\n",
    "        elif car_type == '특수':\n",
    "            # car_size : 중, 대\n",
    "            warranty = 5\n",
    "            if car_age <= warranty:\n",
    "                DF_CO = 1\n",
    "                DF_HC = 1\n",
    "                DF_PM = 1\n",
    "                DF_NOx = 1\n",
    "            else:\n",
    "                DF_CO = 1 + (car_age - warranty)*0.05\n",
    "                DF_HC = 1 + (car_age - warranty)*0.05\n",
    "                DF_PM = 1 + (car_age - warranty)*0.05\n",
    "                DF_NOx = 1 + (car_age - warranty)*0.02\n",
    "                if DF_CO > 1.5:\n",
    "                    DF_CO = 1.5\n",
    "                if DF_HC > 1.5:\n",
    "                    DF_HC = 1.5\n",
    "                if DF_PM > 1.5:\n",
    "                    DF_PM = 1.5\n",
    "                if DF_NOx > 1.2:\n",
    "                    DF_NOx = 1.2\n",
    "    elif (fuel == '휘발유') or (fuel == 'LPG(액화석유가스)'):\n",
    "        if car_type == '승용':\n",
    "            # 경, 소, 중, 대\n",
    "            if car_birth <= 2000:\n",
    "                warranty = 5\n",
    "                if car_age <= warranty:\n",
    "                    DF_CO = 1\n",
    "                    DF_HC = 1\n",
    "                    DF_PM = 1\n",
    "                    DF_NOx = 1\n",
    "                else:\n",
    "                    DF_CO = 1 + (car_age - warranty)*0.1\n",
    "                    DF_HC = 1 + (car_age - warranty)*0.1\n",
    "                    DF_PM = 1 + (car_age - warranty)*0.1\n",
    "                    DF_NOx = 1 + (car_age - warranty)*0.1\n",
    "                    if DF_CO > 2.0:\n",
    "                        DF_CO = 2.0\n",
    "                    if DF_HC > 2.0:\n",
    "                        DF_HC = 2.0\n",
    "                    if DF_PM > 2.0:\n",
    "                        DF_PM = 2.0\n",
    "                    if DF_NOx > 2.0:\n",
    "                        DF_NOx = 2.0\n",
    "            elif car_birth >= 2001:\n",
    "                warranty = 10\n",
    "                if car_age <= warranty:\n",
    "                    DF_CO = 1\n",
    "                    DF_HC = 1\n",
    "                    DF_PM = 1\n",
    "                    DF_NOx = 1\n",
    "                else:\n",
    "                    DF_CO = 1 + (car_age - warranty)*0.1\n",
    "                    DF_HC = 1 + (car_age - warranty)*0.1\n",
    "                    DF_PM = 1 + (car_age - warranty)*0.1\n",
    "                    DF_NOx = 1 + (car_age - warranty)*0.1\n",
    "                    if DF_CO > 2.0:\n",
    "                        DF_CO = 2.0\n",
    "                    if DF_HC > 2.0:\n",
    "                        DF_HC = 2.0\n",
    "                    if DF_PM > 2.0:\n",
    "                        DF_PM = 2.0\n",
    "                    if DF_NOx > 2.0:\n",
    "                        DF_NOx = 2.0\n",
    "        elif car_type == '승합':\n",
    "            if car_size == '경형':\n",
    "                warranty = 5\n",
    "                if car_age <= warranty:\n",
    "                    DF_CO = 1\n",
    "                    DF_HC = 1\n",
    "                    DF_PM = 1\n",
    "                    DF_NOx = 1\n",
    "                else:\n",
    "                    DF_CO = 1 + (car_age - warranty)*0.1\n",
    "                    DF_HC = 1 + (car_age - warranty)*0.1\n",
    "                    DF_PM = 1 + (car_age - warranty)*0.1\n",
    "                    DF_NOx = 1 + (car_age - warranty)*0.1\n",
    "                    if DF_CO > 2.0:\n",
    "                        DF_CO = 2.0\n",
    "                    if DF_HC > 2.0:\n",
    "                        DF_HC = 2.0\n",
    "                    if DF_PM > 2.0:\n",
    "                        DF_PM = 2.0\n",
    "                    if DF_NOx > 2.0:\n",
    "                        DF_NOx = 2.0\n",
    "            elif (car_size == '소형') or (car_size == '중형'):\n",
    "                if car_birth <= 2005:\n",
    "                    warranty = 5\n",
    "                    if car_age <= warranty:\n",
    "                        DF_CO = 1\n",
    "                        DF_HC = 1\n",
    "                        DF_PM = 1\n",
    "                        DF_NOx = 1\n",
    "                    else:\n",
    "                        DF_CO = 1 + (car_age - warranty)*0.1\n",
    "                        DF_HC = 1 + (car_age - warranty)*0.1\n",
    "                        DF_PM = 1 + (car_age - warranty)*0.1\n",
    "                        DF_NOx = 1 + (car_age - warranty)*0.1\n",
    "                        if DF_CO > 2.0:\n",
    "                            DF_CO = 2.0\n",
    "                        if DF_HC > 2.0:\n",
    "                            DF_HC = 2.0\n",
    "                        if DF_PM > 2.0:\n",
    "                            DF_PM = 2.0\n",
    "                        if DF_NOx > 2.0:\n",
    "                            DF_NOx = 2.0\n",
    "                elif car_birth >= 2006:\n",
    "                    warranty = 10\n",
    "                    if car_age <= warranty:\n",
    "                        DF_CO = 1\n",
    "                        DF_HC = 1\n",
    "                        DF_PM = 1\n",
    "                        DF_NOx = 1\n",
    "                    else:\n",
    "                        DF_CO = 1 + (car_age - warranty)*0.1\n",
    "                        DF_HC = 1 + (car_age - warranty)*0.1\n",
    "                        DF_PM = 1 + (car_age - warranty)*0.1\n",
    "                        DF_NOx = 1 + (car_age - warranty)*0.1\n",
    "                        if DF_CO > 2.0:\n",
    "                            DF_CO = 2.0\n",
    "                        if DF_HC > 2.0:\n",
    "                            DF_HC = 2.0\n",
    "                        if DF_PM > 2.0:\n",
    "                            DF_PM = 2.0\n",
    "                        if DF_NOx > 2.0:\n",
    "                            DF_NOx = 2.0\n",
    "        elif (car_type == '화물') or ( (car_type == '승합') and (car_size == '대형')): # 최 확인(2023.04.20) : 습합 대형 -> 화물 대형 조건으로 계산\n",
    "            # 경, 소, 중, 대\n",
    "            warranty = 5\n",
    "            if car_age <= warranty:\n",
    "                DF_CO = 1\n",
    "                DF_HC = 1\n",
    "                DF_PM = 1\n",
    "                DF_NOx = 1\n",
    "            else:\n",
    "                DF_CO = 1 + (car_age - warranty)*0.1\n",
    "                DF_HC = 1 + (car_age - warranty)*0.1\n",
    "                DF_PM = 1 + (car_age - warranty)*0.1\n",
    "                DF_NOx = 1 + (car_age - warranty)*0.1\n",
    "                if DF_CO > 2.0:\n",
    "                    DF_CO = 2.0\n",
    "                if DF_HC > 2.0:\n",
    "                    DF_HC = 2.0\n",
    "                if DF_PM > 2.0:\n",
    "                    DF_PM = 2.0\n",
    "                if DF_NOx > 2.0:\n",
    "                    DF_NOx = 2.0\n",
    "        elif car_type == '특수':\n",
    "            # 중, 대\n",
    "            warranty = 5\n",
    "            if car_age <= warranty:\n",
    "                DF_CO = 1\n",
    "                DF_HC = 1\n",
    "                DF_PM = 1\n",
    "                DF_NOx = 1\n",
    "            else:\n",
    "                DF_CO = 1 + (car_age - warranty)*0.1\n",
    "                DF_HC = 1 + (car_age - warranty)*0.1\n",
    "                DF_PM = 1 + (car_age - warranty)*0.1\n",
    "                DF_NOx = 1 + (car_age - warranty)*0.1\n",
    "                if DF_CO > 2.0:\n",
    "                    DF_CO = 2.0\n",
    "                if DF_HC > 2.0:\n",
    "                    DF_HC = 2.0\n",
    "                if DF_PM > 2.0:\n",
    "                    DF_PM = 2.0\n",
    "                if DF_NOx > 2.0:\n",
    "                    DF_NOx = 2.0\n",
    "    else:\n",
    "        # 설정 고민\n",
    "            # 고려 : 1\n",
    "        # DF_CO, DF_HC, DF_PM, DF_NOx = np.nan, np.nan, np.nan, np.nan\n",
    "        DF_CO, DF_HC, DF_PM, DF_NOx = 1, 1, 1, 1\n",
    "\n",
    "    # 열화계수(DF) 리스트에 저장\n",
    "    DF_CO_list.append(DF_CO)\n",
    "    DF_HC_list.append(DF_HC)\n",
    "    DF_PM_list.append(DF_PM)\n",
    "    DF_NOx_list.append(DF_NOx)"
   ]
  },
  {
   "cell_type": "code",
   "execution_count": 235,
   "metadata": {},
   "outputs": [
    {
     "data": {
      "text/plain": [
       "25117108"
      ]
     },
     "execution_count": 235,
     "metadata": {},
     "output_type": "execute_result"
    }
   ],
   "source": [
    "df2.shape[0]"
   ]
  },
  {
   "cell_type": "code",
   "execution_count": 236,
   "metadata": {},
   "outputs": [
    {
     "data": {
      "text/plain": [
       "(25117108, 25117108, 25117108, 25117108)"
      ]
     },
     "execution_count": 236,
     "metadata": {},
     "output_type": "execute_result"
    }
   ],
   "source": [
    "len(DF_CO_list), len(DF_HC_list), len(DF_PM_list), len(DF_NOx_list)"
   ]
  },
  {
   "cell_type": "code",
   "execution_count": 237,
   "metadata": {},
   "outputs": [],
   "source": [
    "df2['DF_CO'] = DF_CO_list\n",
    "df2['DF_HC'] = DF_HC_list\n",
    "df2['DF_PM'] = DF_PM_list\n",
    "df2['DF_NOx'] = DF_NOx_list"
   ]
  },
  {
   "cell_type": "code",
   "execution_count": 238,
   "metadata": {},
   "outputs": [
    {
     "data": {
      "text/html": [
       "<div>\n",
       "<style scoped>\n",
       "    .dataframe tbody tr th:only-of-type {\n",
       "        vertical-align: middle;\n",
       "    }\n",
       "\n",
       "    .dataframe tbody tr th {\n",
       "        vertical-align: top;\n",
       "    }\n",
       "\n",
       "    .dataframe thead th {\n",
       "        text-align: right;\n",
       "    }\n",
       "</style>\n",
       "<table border=\"1\" class=\"dataframe\">\n",
       "  <thead>\n",
       "    <tr style=\"text-align: right;\">\n",
       "      <th></th>\n",
       "      <th>fuel</th>\n",
       "      <th>차종</th>\n",
       "      <th>차종유형</th>\n",
       "      <th>차량연식</th>\n",
       "      <th>차령</th>\n",
       "      <th>DF_CO</th>\n",
       "      <th>DF_HC</th>\n",
       "      <th>DF_PM</th>\n",
       "      <th>DF_NOx</th>\n",
       "    </tr>\n",
       "  </thead>\n",
       "  <tbody>\n",
       "    <tr>\n",
       "      <th>6596372</th>\n",
       "      <td>경유</td>\n",
       "      <td>화물</td>\n",
       "      <td>대형</td>\n",
       "      <td>2014</td>\n",
       "      <td>9</td>\n",
       "      <td>1.20</td>\n",
       "      <td>1.20</td>\n",
       "      <td>1.20</td>\n",
       "      <td>1.08</td>\n",
       "    </tr>\n",
       "    <tr>\n",
       "      <th>7687743</th>\n",
       "      <td>휘발유</td>\n",
       "      <td>승용</td>\n",
       "      <td>대형</td>\n",
       "      <td>2014</td>\n",
       "      <td>9</td>\n",
       "      <td>1.00</td>\n",
       "      <td>1.00</td>\n",
       "      <td>1.00</td>\n",
       "      <td>1.00</td>\n",
       "    </tr>\n",
       "    <tr>\n",
       "      <th>8569447</th>\n",
       "      <td>경유</td>\n",
       "      <td>화물</td>\n",
       "      <td>대형</td>\n",
       "      <td>2014</td>\n",
       "      <td>9</td>\n",
       "      <td>1.20</td>\n",
       "      <td>1.20</td>\n",
       "      <td>1.20</td>\n",
       "      <td>1.08</td>\n",
       "    </tr>\n",
       "    <tr>\n",
       "      <th>8732660</th>\n",
       "      <td>경유</td>\n",
       "      <td>승용</td>\n",
       "      <td>중형</td>\n",
       "      <td>2015</td>\n",
       "      <td>8</td>\n",
       "      <td>1.15</td>\n",
       "      <td>1.15</td>\n",
       "      <td>1.15</td>\n",
       "      <td>1.06</td>\n",
       "    </tr>\n",
       "    <tr>\n",
       "      <th>8779297</th>\n",
       "      <td>휘발유</td>\n",
       "      <td>승용</td>\n",
       "      <td>중형</td>\n",
       "      <td>2014</td>\n",
       "      <td>9</td>\n",
       "      <td>1.00</td>\n",
       "      <td>1.00</td>\n",
       "      <td>1.00</td>\n",
       "      <td>1.00</td>\n",
       "    </tr>\n",
       "  </tbody>\n",
       "</table>\n",
       "</div>"
      ],
      "text/plain": [
       "        fuel  차종 차종유형  차량연식  차령  DF_CO  DF_HC  DF_PM  DF_NOx\n",
       "6596372   경유  화물   대형  2014   9   1.20   1.20   1.20    1.08\n",
       "7687743  휘발유  승용   대형  2014   9   1.00   1.00   1.00    1.00\n",
       "8569447   경유  화물   대형  2014   9   1.20   1.20   1.20    1.08\n",
       "8732660   경유  승용   중형  2015   8   1.15   1.15   1.15    1.06\n",
       "8779297  휘발유  승용   중형  2014   9   1.00   1.00   1.00    1.00"
      ]
     },
     "execution_count": 238,
     "metadata": {},
     "output_type": "execute_result"
    }
   ],
   "source": [
    "check_DF_col = ['DF_CO', 'DF_HC', 'DF_PM', 'DF_NOx']\n",
    "df2.loc[df2['차령'] < 10, DF_col + check_DF_col].head()"
   ]
  },
  {
   "attachments": {},
   "cell_type": "markdown",
   "metadata": {},
   "source": [
    "### 저감장치 부착 효율(R) 계산\n",
    "- 저감장치부착유무 : 유 -> DPF로 가정하고 진행\n",
    "- 휘발성 유기 화합물(Volatile Organic Compounds:VOC) : 생활주변에서 흔히 사용하는 탄화수소류가 거의 해당됨.\n",
    "- 저감장치별 물질 제거 효율(%)\n",
    "\n",
    "    장치종류|CO|VOC|PM\n",
    "    :-:|:-:|:-:|:-:\n",
    "    DPF|99.5|90|83.6\n",
    "    pDPF|94.6|89.3|56\n",
    "    DOC|85.4|72|35"
   ]
  },
  {
   "cell_type": "code",
   "execution_count": 239,
   "metadata": {},
   "outputs": [],
   "source": [
    "df2.loc[df2['저감장치부착유무'] == '유', ['R_CO', 'R_HC', 'R_PM']] = 99.5, 90, 83.6"
   ]
  },
  {
   "cell_type": "code",
   "execution_count": 240,
   "metadata": {},
   "outputs": [
    {
     "data": {
      "text/plain": [
       "25117108"
      ]
     },
     "execution_count": 240,
     "metadata": {},
     "output_type": "execute_result"
    }
   ],
   "source": [
    "df2.shape[0]"
   ]
  },
  {
   "cell_type": "code",
   "execution_count": 241,
   "metadata": {},
   "outputs": [],
   "source": [
    "check_R_col = ['R_CO', 'R_HC', 'R_PM']"
   ]
  },
  {
   "cell_type": "code",
   "execution_count": 242,
   "metadata": {},
   "outputs": [
    {
     "data": {
      "text/plain": [
       "R_CO    143185\n",
       "R_HC    143185\n",
       "R_PM    143185\n",
       "dtype: int64"
      ]
     },
     "execution_count": 242,
     "metadata": {},
     "output_type": "execute_result"
    }
   ],
   "source": [
    "df2[check_R_col].notnull().sum()"
   ]
  },
  {
   "cell_type": "code",
   "execution_count": 243,
   "metadata": {},
   "outputs": [
    {
     "data": {
      "text/html": [
       "<div>\n",
       "<style scoped>\n",
       "    .dataframe tbody tr th:only-of-type {\n",
       "        vertical-align: middle;\n",
       "    }\n",
       "\n",
       "    .dataframe tbody tr th {\n",
       "        vertical-align: top;\n",
       "    }\n",
       "\n",
       "    .dataframe thead th {\n",
       "        text-align: right;\n",
       "    }\n",
       "</style>\n",
       "<table border=\"1\" class=\"dataframe\">\n",
       "  <thead>\n",
       "    <tr style=\"text-align: right;\">\n",
       "      <th></th>\n",
       "      <th>fuel</th>\n",
       "      <th>차종</th>\n",
       "      <th>차종유형</th>\n",
       "      <th>차량연식</th>\n",
       "      <th>차령</th>\n",
       "      <th>DF_CO</th>\n",
       "      <th>DF_HC</th>\n",
       "      <th>DF_PM</th>\n",
       "      <th>DF_NOx</th>\n",
       "      <th>R_CO</th>\n",
       "      <th>R_HC</th>\n",
       "      <th>R_PM</th>\n",
       "    </tr>\n",
       "  </thead>\n",
       "  <tbody>\n",
       "    <tr>\n",
       "      <th>40425</th>\n",
       "      <td>경유</td>\n",
       "      <td>특수</td>\n",
       "      <td>대형</td>\n",
       "      <td>1986</td>\n",
       "      <td>37</td>\n",
       "      <td>1.50</td>\n",
       "      <td>1.50</td>\n",
       "      <td>1.50</td>\n",
       "      <td>1.20</td>\n",
       "      <td>99.50</td>\n",
       "      <td>90.00</td>\n",
       "      <td>83.60</td>\n",
       "    </tr>\n",
       "    <tr>\n",
       "      <th>48341</th>\n",
       "      <td>경유</td>\n",
       "      <td>화물</td>\n",
       "      <td>대형</td>\n",
       "      <td>1986</td>\n",
       "      <td>37</td>\n",
       "      <td>1.50</td>\n",
       "      <td>1.50</td>\n",
       "      <td>1.50</td>\n",
       "      <td>1.20</td>\n",
       "      <td>99.50</td>\n",
       "      <td>90.00</td>\n",
       "      <td>83.60</td>\n",
       "    </tr>\n",
       "    <tr>\n",
       "      <th>53808</th>\n",
       "      <td>경유</td>\n",
       "      <td>화물</td>\n",
       "      <td>대형</td>\n",
       "      <td>1988</td>\n",
       "      <td>35</td>\n",
       "      <td>1.50</td>\n",
       "      <td>1.50</td>\n",
       "      <td>1.50</td>\n",
       "      <td>1.20</td>\n",
       "      <td>99.50</td>\n",
       "      <td>90.00</td>\n",
       "      <td>83.60</td>\n",
       "    </tr>\n",
       "    <tr>\n",
       "      <th>61857</th>\n",
       "      <td>경유</td>\n",
       "      <td>특수</td>\n",
       "      <td>대형</td>\n",
       "      <td>1988</td>\n",
       "      <td>35</td>\n",
       "      <td>1.50</td>\n",
       "      <td>1.50</td>\n",
       "      <td>1.50</td>\n",
       "      <td>1.20</td>\n",
       "      <td>99.50</td>\n",
       "      <td>90.00</td>\n",
       "      <td>83.60</td>\n",
       "    </tr>\n",
       "    <tr>\n",
       "      <th>63642</th>\n",
       "      <td>경유</td>\n",
       "      <td>화물</td>\n",
       "      <td>대형</td>\n",
       "      <td>1988</td>\n",
       "      <td>35</td>\n",
       "      <td>1.50</td>\n",
       "      <td>1.50</td>\n",
       "      <td>1.50</td>\n",
       "      <td>1.20</td>\n",
       "      <td>99.50</td>\n",
       "      <td>90.00</td>\n",
       "      <td>83.60</td>\n",
       "    </tr>\n",
       "  </tbody>\n",
       "</table>\n",
       "</div>"
      ],
      "text/plain": [
       "      fuel  차종 차종유형  차량연식  차령  DF_CO  DF_HC  DF_PM  DF_NOx  R_CO  R_HC  R_PM\n",
       "40425   경유  특수   대형  1986  37   1.50   1.50   1.50    1.20 99.50 90.00 83.60\n",
       "48341   경유  화물   대형  1986  37   1.50   1.50   1.50    1.20 99.50 90.00 83.60\n",
       "53808   경유  화물   대형  1988  35   1.50   1.50   1.50    1.20 99.50 90.00 83.60\n",
       "61857   경유  특수   대형  1988  35   1.50   1.50   1.50    1.20 99.50 90.00 83.60\n",
       "63642   경유  화물   대형  1988  35   1.50   1.50   1.50    1.20 99.50 90.00 83.60"
      ]
     },
     "execution_count": 243,
     "metadata": {},
     "output_type": "execute_result"
    }
   ],
   "source": [
    "df2.loc[df2['저감장치부착유무'] == '유', DF_col + check_DF_col + check_R_col].head()"
   ]
  },
  {
   "cell_type": "code",
   "execution_count": 244,
   "metadata": {},
   "outputs": [],
   "source": [
    "df2[check_R_col] = df2[check_R_col].fillna(0)"
   ]
  },
  {
   "cell_type": "code",
   "execution_count": 245,
   "metadata": {},
   "outputs": [
    {
     "data": {
      "text/plain": [
       "R_CO    0\n",
       "R_HC    0\n",
       "R_PM    0\n",
       "dtype: int64"
      ]
     },
     "execution_count": 245,
     "metadata": {},
     "output_type": "execute_result"
    }
   ],
   "source": [
    "df2[check_R_col].isnull().sum()"
   ]
  },
  {
   "attachments": {},
   "cell_type": "markdown",
   "metadata": {},
   "source": [
    "### ❗ 배출계수(EFi)\n",
    "- 연료, 차종, 차종유형 설정에 해당되지 않는 차량의 배출계수 값 설정\n",
    "    - 현재 설정값 : np.nan\n",
    "    - 고려 설정값 : 1\n",
    "- 조건 수정(2023.04.20, 최)\n",
    "    - 특수 중형 = 승합 중형\n",
    "    - 화물 중형 = 승합 중형\n",
    "    - 화물 대형 = 승합 대형\n",
    "    - 특수 중형 = 승용 중형"
   ]
  },
  {
   "cell_type": "code",
   "execution_count": 246,
   "metadata": {},
   "outputs": [],
   "source": [
    "EFi_col = ['차종', '차종유형', '연료', '차량연식']\n",
    "# 참고 : KOSIS 차량속도(2017) 일반국도 평균 (https://kosis.kr/statHtml/statHtml.do?orgId=210&tblId=DT_21002_J008)\n",
    "V = 54.1\n",
    "# 국가 대기오염물질 배출량 산정방법 편람(V)(2022) 부록 참고(for PM-2.5)\n",
    "k = 0.92"
   ]
  },
  {
   "cell_type": "code",
   "execution_count": 247,
   "metadata": {},
   "outputs": [
    {
     "data": {
      "text/plain": [
       "array(['승용', '소형', '휘발유', 1976], dtype=object)"
      ]
     },
     "execution_count": 247,
     "metadata": {},
     "output_type": "execute_result"
    }
   ],
   "source": [
    "df2[EFi_col].values[0]"
   ]
  },
  {
   "cell_type": "code",
   "execution_count": 248,
   "metadata": {},
   "outputs": [
    {
     "data": {
      "text/plain": [
       "array(['소형', '경형', '중형', '대형', nan], dtype=object)"
      ]
     },
     "execution_count": 248,
     "metadata": {},
     "output_type": "execute_result"
    }
   ],
   "source": [
    "df2['차종유형'].unique()"
   ]
  },
  {
   "cell_type": "code",
   "execution_count": 249,
   "metadata": {},
   "outputs": [
    {
     "name": "stderr",
     "output_type": "stream",
     "text": [
      "100%|██████████| 25117108/25117108 [01:48<00:00, 231884.90it/s]\n"
     ]
    }
   ],
   "source": [
    "# about 7.9s\n",
    "EFi_CO_list = []\n",
    "EFi_HC_list = []\n",
    "EFi_NOx_list = []\n",
    "EFi_PM10_list = []\n",
    "EFi_PM2_5_list = []\n",
    "\n",
    "for car_type, car_size, fuel, car_birth in tqdm(df2[EFi_col].values):\n",
    "    if fuel == '휘발유':\n",
    "        if (car_type == '승용') and (car_size == '경형'):\n",
    "            if car_birth <= 1996:\n",
    "                if V <= 65:\n",
    "                    EFi_CO = 59.783 * (V**-1.0007)\n",
    "                else:\n",
    "                    EFi_CO = 0.0874 * V - 3.5618\n",
    "                EFi_HC = 7.6244 * (V**-0.8364)\n",
    "                EFi_NOx = 2.6754 * (V**-0.3236)\n",
    "                if V < 85:\n",
    "                    EFi_PM10 = 0.00030\n",
    "                    EFi_PM2_5 = k * 0.00030\n",
    "                else:\n",
    "                    EFi_PM10 = 0.00075\n",
    "                    EFi_PM2_5 = k * 0.00075\n",
    "            elif 1997 <= car_birth <= 1999:\n",
    "                if V <= 65:\n",
    "                    EFi_CO = 59.783 * (V**-1.0007)\n",
    "                else:\n",
    "                    EFi_CO = 0.0874 * V - 3.5618\n",
    "                EFi_HC = 8.6275 * (V**-1.0722)\n",
    "                EFi_NOx = 3.2294 * (V**-0.5763)\n",
    "                if V < 85:\n",
    "                    EFi_PM10 = 0.00030\n",
    "                    EFi_PM2_5 = k * 0.00030\n",
    "                else:\n",
    "                    EFi_PM10 = 0.00075\n",
    "                    EFi_PM2_5 = k * 0.00075\n",
    "            elif 2000 <= car_birth <= 2002:\n",
    "                if V <= 65:\n",
    "                    EFi_CO = 60.556 * (V**-1.2501)\n",
    "                else:\n",
    "                    EFi_CO = -0.0006 * V + 0.5753\n",
    "                EFi_HC = 5.1835 * (V**-1.1889)\n",
    "                EFi_NOx = 1.7525 * (V**-0.6481)\n",
    "                if V < 85:\n",
    "                    EFi_PM10 = 0.00030\n",
    "                    EFi_PM2_5 = k * 0.00030\n",
    "                else:\n",
    "                    EFi_PM10 = 0.00075\n",
    "                    EFi_PM2_5 = k * 0.00075\n",
    "            elif 2003 <= car_birth <= 2005:\n",
    "                if V <= 65:\n",
    "                    EFi_CO = 60.556 * (V**-1.2501)\n",
    "                else:\n",
    "                    EFi_CO = -0.0006 * V + 0.5753\n",
    "                EFi_HC = 0.7446 * (V**-0.9392)\n",
    "                EFi_NOx = 0.3403 * (V**-0.5455)\n",
    "                if V < 85:\n",
    "                    EFi_PM10 = 0.00030\n",
    "                    EFi_PM2_5 = k * 0.00030\n",
    "                else:\n",
    "                    EFi_PM10 = 0.00075\n",
    "                    EFi_PM2_5 = k * 0.00075\n",
    "            elif 2006 <= car_birth <= 2008:\n",
    "                if V <= 45:\n",
    "                    EFi_CO = 4.9952 * (V**-0.8461)\n",
    "                else:\n",
    "                    EFi_CO = -0.0001 * V**2 + 0.0229 * V - 0.5701\n",
    "                EFi_HC = 0.2958 * (V**-0.7830)\n",
    "                EFi_NOx = 0.4819 * (V**-0.9198)\n",
    "                if V < 85:\n",
    "                    EFi_PM10 = 0.00030\n",
    "                    EFi_PM2_5 = k * 0.00030\n",
    "                else:\n",
    "                    EFi_PM10 = 0.00075\n",
    "                    EFi_PM2_5 = k * 0.00075\n",
    "            elif 2009 <= car_birth <= 2011:\n",
    "                if V <= 45:\n",
    "                    EFi_CO = 4.5956 * (V**-0.8461)\n",
    "                else:\n",
    "                    EFi_CO = -9.2000*(10**-5) * (V**2) + 2.1068*(10**-2) * V - 5.2449*(10**-1)\n",
    "                EFi_HC = 0.2662 * (V**-0.7830)\n",
    "                EFi_NOx = 0.4476 * (V**-0.9198)\n",
    "                if V < 85:\n",
    "                    EFi_PM10 = 0.00030\n",
    "                    EFi_PM2_5 = k * 0.00030\n",
    "                else:\n",
    "                    EFi_PM10 = 0.00075\n",
    "                    EFi_PM2_5 = k * 0.00075\n",
    "            elif 2012 <= car_birth <= 2013:\n",
    "                if V <= 45:\n",
    "                    EFi_CO = 4.4517 * (V**-0.8461)\n",
    "                else:\n",
    "                    EFi_CO = -8.9120*(10**-5) * (V**2) + 2.0408*(10**-2)*V - 5.0807*(10**-1)\n",
    "                EFi_HC = 0.2556 * (V**-0.7830)\n",
    "                EFi_NOx = 0.4353 * (V**-0.9198)\n",
    "                if V < 85:\n",
    "                    EFi_PM10 = 0.00030\n",
    "                    EFi_PM2_5 = k * 0.00030\n",
    "                else:\n",
    "                    EFi_PM10 = 0.00075\n",
    "                    EFi_PM2_5 = k * 0.00075\n",
    "            elif car_birth == 2014:\n",
    "                if V <= 45:\n",
    "                    EFi_CO = 4.3079 * (V**-0.8461)\n",
    "                else:\n",
    "                    EFi_CO = -8.6240*(10**-5) * (V**2) + 1.9749*(10**-2)*V - 4.9165*(10**-1)\n",
    "                EFi_HC = 0.2449 * (V**-0.7830)\n",
    "                EFi_NOx = 0.4230 * (V**-0.9198)\n",
    "                if V < 85:\n",
    "                    EFi_PM10 = 0.00030\n",
    "                    EFi_PM2_5 = k * 0.00030\n",
    "                else:\n",
    "                    EFi_PM10 = 0.00075\n",
    "                    EFi_PM2_5 = k * 0.00075\n",
    "            elif 2015 <= car_birth:\n",
    "                if V <= 45:\n",
    "                    EFi_CO = 4.164 * (V**-0.8461)\n",
    "                else:\n",
    "                    EFi_CO = -8.3360*(10**-5) * (V**2) + 1.9089*(10**-2)*V - 4.7524*(10**-1)\n",
    "                EFi_HC = 0.2343 * (V**-0.7830)\n",
    "                EFi_NOx = 0.4106 * (V**-0.9198)\n",
    "                if V < 85:\n",
    "                    EFi_PM10 = 0.00030\n",
    "                    EFi_PM2_5 = k * 0.00030\n",
    "                else:\n",
    "                    EFi_PM10 = 0.00075\n",
    "                    EFi_PM2_5 = k * 0.00075\n",
    "        elif (car_type == '승용') and (car_size == '소형'):\n",
    "            if car_birth <= 1986:\n",
    "                EFi_CO = 247.00 * (V**-0.6651)\n",
    "                EFi_HC = 15.953 * (V**-0.5059)\n",
    "                EFi_NOx = 3.1140 * (V**-0.2278)\n",
    "                if V < 85:\n",
    "                    EFi_PM10 = 0.00030\n",
    "                    EFi_PM2_5 = k * 0.00030\n",
    "                else:\n",
    "                    EFi_PM10 = 0.00075\n",
    "                    EFi_PM2_5 = k * 0.00075\n",
    "            elif 1987 <= car_birth <= 1990:\n",
    "                EFi_CO = 36.169 * (V**-0.7587)\n",
    "                EFi_HC = 15.607 * (V**-1.0423)\n",
    "                EFi_NOx = 6.2007 * (V**-0.6781)\n",
    "                if V < 85:\n",
    "                    EFi_PM10 = 0.00030\n",
    "                    EFi_PM2_5 = k * 0.00030\n",
    "                else:\n",
    "                    EFi_PM10 = 0.00075\n",
    "                    EFi_PM2_5 = k * 0.00075\n",
    "            elif 1991 <= car_birth <= 1999:\n",
    "                EFi_CO = 111.67 * (V**-1.1566)\n",
    "                EFi_HC = 32.017 * (V**-1.4171)\n",
    "                EFi_NOx = 7.5244 * (V**-0.7634)\n",
    "                if V < 85:\n",
    "                    EFi_PM10 = 0.00030\n",
    "                    EFi_PM2_5 = k * 0.00030\n",
    "                else:\n",
    "                    EFi_PM10 = 0.00075\n",
    "                    EFi_PM2_5 = k * 0.00075\n",
    "            elif 2000 <= car_birth <= 2002:\n",
    "                EFi_CO = 22.356 * (V**-0.9068)\n",
    "                EFi_HC = 0.8428 * (V**-0.8829)\n",
    "                EFi_NOx = 1.2613 * (V**-0.3873)\n",
    "                if V < 85:\n",
    "                    EFi_PM10 = 0.00030\n",
    "                    EFi_PM2_5 = k * 0.00030\n",
    "                else:\n",
    "                    EFi_PM10 = 0.00075\n",
    "                    EFi_PM2_5 = k * 0.00075\n",
    "            elif 2003 <= car_birth <= 2005:\n",
    "                EFi_CO = 1.4898 * (V**-0.3837)\n",
    "                EFi_HC = 0.1738 * (V**-0.7268)\n",
    "                EFi_NOx = 0.1563 * (V**-0.2671)\n",
    "                if V < 85:\n",
    "                    EFi_PM10 = 0.00030\n",
    "                    EFi_PM2_5 = k * 0.00030\n",
    "                else:\n",
    "                    EFi_PM10 = 0.00075\n",
    "                    EFi_PM2_5 = k * 0.00075\n",
    "            elif 2006 <= car_birth <= 2008:\n",
    "                EFi_CO = 1.0000*(10**-4)*(V**2) - 7.1000*(10**-3)*V + 2.2450*(10**-1)\n",
    "                if V <= 65.4:\n",
    "                    EFi_HC = 0.0633 * (V**-1.0484)\n",
    "                else:\n",
    "                    EFi_HC = 1.3200*(10**-6)*(V**2) - 1.8800*(10**-4)*V + 7.7000*(10**-3)\n",
    "                EFi_NOx = -3.5000*(10**-6)*(V**2) + 3.3000*(10**-4)*V + 1.1200*(10**-2)\n",
    "                if V < 85:\n",
    "                    EFi_PM10 = 0.00030\n",
    "                    EFi_PM2_5 = k * 0.00030\n",
    "                else:\n",
    "                    EFi_PM10 = 0.00075\n",
    "                    EFi_PM2_5 = k * 0.00075\n",
    "            elif 2009 <= car_birth <= 2011:\n",
    "                EFi_CO = 9.2000*(10**-5)*(V**2) - 6.5320*(10**-3)*V + 2.0654*(10**-1)\n",
    "                if V <= 65.4:\n",
    "                    EFi_HC = 0.0570 * (V**-1.0484)\n",
    "                else:\n",
    "                    EFi_HC = 1.1880*(10**-6)*(V**2) - 1.6920*(10**-4)*V + 6.9300*(10**-3)\n",
    "                EFi_NOx = -3.2511*(10**-6)*(V**2) + 3.0653*(10**-4)*V + 1.0404*(10**-2)\n",
    "                if V < 85:\n",
    "                    EFi_PM10 = 0.00030\n",
    "                    EFi_PM2_5 = k * 0.00030\n",
    "                else:\n",
    "                    EFi_PM10 = 0.00075\n",
    "                    EFi_PM2_5 = k * 0.00075\n",
    "            elif 2012 <= car_birth <= 2013:\n",
    "                EFi_CO = 8.9120*(10**-5)*(V**2) - 6.3275*(10**-3)*V + 2.0007*(10**-1)\n",
    "                if V <= 65.4:\n",
    "                    EFi_HC = 0.0547 * (V**-1.0484)\n",
    "                else:\n",
    "                    EFi_HC = 1.1405*(10**-6)*(V**2) - 1.6243*(10**-4)*V + 6.6528*(10**-3)\n",
    "                EFi_NOx = -3.1615*(10**-6)*(V**2) + 2.9809*(10**-4)*V + 1.0117*(10**-2)\n",
    "                if V < 85:\n",
    "                    EFi_PM10 = 0.00030\n",
    "                    EFi_PM2_5 = k * 0.00030\n",
    "                else:\n",
    "                    EFi_PM10 = 0.00075\n",
    "                    EFi_PM2_5 = k * 0.00075\n",
    "            elif car_birth == 2014:\n",
    "                EFi_CO = 8.6240*(10**-5)*(V**2) - 6.1230*(10**-3)*V + 1.9361*(10**-1)\n",
    "                if V <= 65.4:\n",
    "                    EFi_HC = 0.0524 * (V**-1.0484)\n",
    "                else:\n",
    "                    EFi_HC = 1.0930*(10**-6)*(V**2) - 1.5566*(10**-4)*V + 6.3756*(10**-3)\n",
    "                EFi_NOx = -3.0719*(10**-6)*(V**2) + 2.8964*(10**-4)*V + 9.8301*(10**-3)\n",
    "                if V < 85:\n",
    "                    EFi_PM10 = 0.00030\n",
    "                    EFi_PM2_5 = k * 0.00030\n",
    "                else:\n",
    "                    EFi_PM10 = 0.00075\n",
    "                    EFi_PM2_5 = k * 0.00075\n",
    "            elif 2015 <= car_birth:\n",
    "                EFi_CO = 8.3360*(10**-5)*(V**2) - 5.9186*(10**-3)*V + 1.8714*(10**-1)\n",
    "                if V <= 65.4:\n",
    "                    EFi_HC = 0.0501 * (V**-1.0484)\n",
    "                else:\n",
    "                    EFi_HC = 1.0500*(10**-6)*(V**2) - 1.4890*(10**-4)*V + 6.09840*(10**-3)\n",
    "                EFi_NOx = -2.9823*(10**-6)*(V**2) + 2.8119*(10**-4)*V + 9.5434*(10**-3)\n",
    "                if V < 85:\n",
    "                    EFi_PM10 = 0.00030\n",
    "                    EFi_PM2_5 = k * 0.00030\n",
    "                else:\n",
    "                    EFi_PM10 = 0.00075\n",
    "                    EFi_PM2_5 = k * 0.00075\n",
    "        elif ( (car_type == '승용') and (car_size == '중형') ) or ( (car_type == '특수') and (car_size == '중형') ): # 최 확인(2023.04.20) : 특수 중형 -> 승용 중형 조건으로 계산\n",
    "            if car_birth <= 1986:\n",
    "                EFi_CO = 247.00 * (V**-0.6651)\n",
    "                EFi_HC = 15.953 * (V**-0.5059)\n",
    "                EFi_NOx = 3.1140 * (V**-0.2278)\n",
    "                if V < 85:\n",
    "                    EFi_PM10 = 0.00030\n",
    "                    EFi_PM2_5 = k * 0.00030\n",
    "                else:\n",
    "                    EFi_PM10 = 0.00075\n",
    "                    EFi_PM2_5 = k * 0.00075\n",
    "            elif 1987 <= car_birth <= 1990:\n",
    "                EFi_CO = 36.169 * (V**-0.7587)\n",
    "                EFi_HC = 15.607 * (V**-1.0423)\n",
    "                EFi_NOx = 6.2007 * (V**-0.6781)\n",
    "                if V < 85:\n",
    "                    EFi_PM10 = 0.00030\n",
    "                    EFi_PM2_5 = k * 0.00030\n",
    "                else:\n",
    "                    EFi_PM10 = 0.00075\n",
    "                    EFi_PM2_5 = k * 0.00075\n",
    "            elif 1991 <= car_birth <= 1999:\n",
    "                EFi_CO = 51.555 * (V**-0.9531)\n",
    "                EFi_HC = 31.816 * (V**-1.4804)\n",
    "                EFi_NOx = 7.5244 * (V**-0.7634)\n",
    "                if V < 85:\n",
    "                    EFi_PM10 = 0.00030\n",
    "                    EFi_PM2_5 = k * 0.00030\n",
    "                else:\n",
    "                    EFi_PM10 = 0.00075\n",
    "                    EFi_PM2_5 = k * 0.00075\n",
    "            elif 2000 <= car_birth <= 2002:\n",
    "                EFi_CO = 29.921 * (V**-0.8868)\n",
    "                EFi_HC = 7.9374 * (V**-1.3041)\n",
    "                EFi_NOx = 1.8525 * (V**-0.4192)\n",
    "                if V < 85:\n",
    "                    EFi_PM10 = 0.00030\n",
    "                    EFi_PM2_5 = k * 0.00030\n",
    "                else:\n",
    "                    EFi_PM10 = 0.00075\n",
    "                    EFi_PM2_5 = k * 0.00075\n",
    "            elif 2003 <= car_birth <= 2005:\n",
    "                EFi_CO = 2.4938 * (V**-0.6106)\n",
    "                EFi_HC = 0.4262 * (V**-1.0122)\n",
    "                EFi_NOx = 0.1818 * (V**-0.4316)\n",
    "                if V < 85:\n",
    "                    EFi_PM10 = 0.00030\n",
    "                    EFi_PM2_5 = k * 0.00030\n",
    "                else:\n",
    "                    EFi_PM10 = 0.00075\n",
    "                    EFi_PM2_5 = k * 0.00075\n",
    "            elif 2006 <= car_birth <= 2008:\n",
    "                EFi_CO = 2.2900*(10**-5)*(V**2) - 1.6300*(10**-3)*V + 5.8300*(10**-2)\n",
    "                if V <= 65.4:\n",
    "                    EFi_HC = 0.0633 * (V**-1.0484)\n",
    "                else:\n",
    "                    EFi_HC = 1.3200*(10**-6)*(V**2) - 1.8800*(10**-4)*V + 7.7000*(10**-3)\n",
    "                EFi_NOx = -3.5000*(10**-6)*(V**2) + 3.3000*(10**-4)*V + 1.1200*(10**-2)\n",
    "                if V < 85:\n",
    "                    EFi_PM10 = 0.00030\n",
    "                    EFi_PM2_5 = k * 0.00030\n",
    "                else:\n",
    "                    EFi_PM10 = 0.00075\n",
    "                    EFi_PM2_5 = k * 0.00075\n",
    "            elif 2009 <= car_birth <= 2011:\n",
    "                EFi_CO = 2.1068*(10**-5)*(V**2) - 1.4996*(10**-3)*V + 5.3636*(10**-2)\n",
    "                if V <= 65.4:\n",
    "                    EFi_HC = 0.0570 * (V**-1.0484)\n",
    "                else:\n",
    "                    EFi_HC = 1.1880*(10**-6)*(V**2) - 1.6920*(10**-4)*V + 6.9300*(10**-3)\n",
    "                EFi_NOx = -3.2511*(10**-6)*(V**2) + 3.0653*(10**-4)*V + 1.0404*(10**-2)\n",
    "                if V < 85:\n",
    "                    EFi_PM10 = 0.00030\n",
    "                    EFi_PM2_5 = k * 0.00030\n",
    "                else:\n",
    "                    EFi_PM10 = 0.00075\n",
    "                    EFi_PM2_5 = k * 0.00075\n",
    "            elif 2012 <= car_birth <= 2013:\n",
    "                EFi_CO = 2.0408*(10**-5)*(V**2) - 1.4527*(10**-3)*V + 5.1957*(10**-2)\n",
    "                if V <= 65.4:\n",
    "                    EFi_HC = 0.0547 * (V**-1.0484)\n",
    "                else:\n",
    "                    EFi_HC = 1.1405*(10**-6)*(V**2) - 1.6243*(10**-4)*V + 6.6528*(10**-3)\n",
    "                EFi_NOx = -3.1615*(10**-6)*(V**2) + 2.9809*(10**-4)*V + 1.0117*(10**-2)\n",
    "                if V < 85:\n",
    "                    EFi_PM10 = 0.00030\n",
    "                    EFi_PM2_5 = k * 0.00030\n",
    "                else:\n",
    "                    EFi_PM10 = 0.00075\n",
    "                    EFi_PM2_5 = k * 0.00075\n",
    "            elif car_birth == 2014:\n",
    "                EFi_CO = 1.9749*(10**-5)*(V**2) - 1.4057*(10**-3)*V + 5.0278*(10**-2)\n",
    "                if V <= 65.4:\n",
    "                    EFi_HC = 0.0524 * (V**-1.0484)\n",
    "                else:\n",
    "                    EFi_HC = 1.0930*(10**-6)*(V**2) - 1.5566*(10**-4)*V + 6.3756*(10**-3)\n",
    "                EFi_NOx = -3.0719*(10**-6)*(V**2) + 2.8964*(10**-4)*V + 9.8301*(10**-3)\n",
    "                if V < 85:\n",
    "                    EFi_PM10 = 0.00030\n",
    "                    EFi_PM2_5 = k * 0.00030\n",
    "                else:\n",
    "                    EFi_PM10 = 0.00075\n",
    "                    EFi_PM2_5 = k * 0.00075\n",
    "            elif 2015 <= car_birth:\n",
    "                EFi_CO = 1.9089*(10**-5)*(V**2) - 1.3588*(10**-3)*V + 4.8599*(10**-2)\n",
    "                if V <= 65.4:\n",
    "                    EFi_HC = 0.0501 * (V**-1.0484)\n",
    "                else:\n",
    "                    EFi_HC = 1.0500*(10**-6)*(V**2) - 1.4890*(10**-4)*V + 6.0984*(10**-3)\n",
    "                EFi_NOx = -2.9823*(10**-6)*(V**2) + 2.8119*(10**-4)*V + 9.5434*(10**-3)\n",
    "                if V < 85:\n",
    "                    EFi_PM10 = 0.00030\n",
    "                    EFi_PM2_5 = k * 0.00030\n",
    "                else:\n",
    "                    EFi_PM10 = 0.00075\n",
    "                    EFi_PM2_5 = k * 0.00075\n",
    "        elif (car_type == '승용') and (car_size == '대형'):\n",
    "            if car_birth <= 1986:\n",
    "                EFi_CO = 247.00 * (V**-0.6651)\n",
    "                EFi_HC = 15.953 * (V**-0.5059)\n",
    "                EFi_NOx = 3.1140 * (V**-0.2278)\n",
    "                if V < 85:\n",
    "                    EFi_PM10 = 0.00030\n",
    "                    EFi_PM2_5 = k * 0.00030\n",
    "                else:\n",
    "                    EFi_PM10 = 0.00075\n",
    "                    EFi_PM2_5 = k * 0.00075\n",
    "            elif 1987 <= car_birth <= 1990:\n",
    "                EFi_CO = 36.169 * (V**-0.7587)\n",
    "                EFi_HC = 15.607 * (V**-1.0423)\n",
    "                EFi_NOx = 6.2007 * (V**-0.6781)\n",
    "                if V < 85:\n",
    "                    EFi_PM10 = 0.00030\n",
    "                    EFi_PM2_5 = k * 0.00030\n",
    "                else:\n",
    "                    EFi_PM10 = 0.00075\n",
    "                    EFi_PM2_5 = k * 0.00075\n",
    "            elif 1991 <= car_birth <= 1999:\n",
    "                EFi_CO = 51.555 * (V**-0.9531)\n",
    "                EFi_HC = 31.816 * (V**-1.4804)\n",
    "                EFi_NOx = 7.5244 * (V**-0.7634)\n",
    "                if V < 85:\n",
    "                    EFi_PM10 = 0.00030\n",
    "                    EFi_PM2_5 = k * 0.00030\n",
    "                else:\n",
    "                    EFi_PM10 = 0.00075\n",
    "                    EFi_PM2_5 = k * 0.00075\n",
    "            elif 2000 <= car_birth <= 2002:\n",
    "                EFi_CO = 29.921 * (V**-0.8868)\n",
    "                EFi_HC = 7.9374 * (V**-1.3041)\n",
    "                EFi_NOx = 1.8525 * (V**-0.4192)\n",
    "                if V < 85:\n",
    "                    EFi_PM10 = 0.00030\n",
    "                    EFi_PM2_5 = k * 0.00030\n",
    "                else:\n",
    "                    EFi_PM10 = 0.00075\n",
    "                    EFi_PM2_5 = k * 0.00075\n",
    "            elif 2003 <= car_birth <= 2005:\n",
    "                EFi_CO = 2.4938 * (V**-0.6106)\n",
    "                EFi_HC = 0.4262 * (V**-1.0122)\n",
    "                EFi_NOx = 0.1818 * (V**-0.4316)\n",
    "                if V < 85:\n",
    "                    EFi_PM10 = 0.00030\n",
    "                    EFi_PM2_5 = k * 0.00030\n",
    "                else:\n",
    "                    EFi_PM10 = 0.00075\n",
    "                    EFi_PM2_5 = k * 0.00075\n",
    "            elif 2006 <= car_birth <= 2008:\n",
    "                if V <= 65.4:\n",
    "                    EFi_CO = 1.4082 * (V**-0.7728)\n",
    "                else:\n",
    "                    EFi_CO = 8.0000*(10**-5)*(V**2) - 1.2700*(10**-2)*V + 5.7510*(10**-1)\n",
    "                if V <= 65.4:\n",
    "                    EFi_HC = 0.0633 * (V**-1.0484)\n",
    "                else:\n",
    "                    EFi_HC = 1.3200*(10**-6)*(V**2) - 1.8800*(10**-4)*V + 7.7000*(10**-3)\n",
    "                EFi_NOx = -3.5000*(10**-6)*(V**2) + 3.3000*(10**-4)*V + 1.1200*(10**-2)\n",
    "                if V < 85:\n",
    "                    EFi_PM10 = 0.00030\n",
    "                    EFi_PM2_5 = k * 0.00030\n",
    "                else:\n",
    "                    EFi_PM10 = 0.00075\n",
    "                    EFi_PM2_5 = k * 0.00075\n",
    "            elif 2009 <= car_birth <= 2011:\n",
    "                if V <= 65.4:\n",
    "                    EFi_CO = 1.2955 * (V**-0.7728)\n",
    "                else:\n",
    "                    EFi_CO = 7.3600*(10**-5)*(V**2) - 1.1684*(10**-2)*V + 5.2909*(10**-1)\n",
    "                if V <= 65.4:\n",
    "                    EFi_HC = 0.0570 * (V**-1.0484)\n",
    "                else:\n",
    "                    EFi_HC = 1.1880*(10**-6)*(V**2) - 1.6920*(10**-4)*V + 6.9300*(10**-3)\n",
    "                EFi_NOx = -3.2511*(10**-6)*(V**2) + 3.0653*(10**-4)*V + 1.0404*(10**-2)\n",
    "                if V < 85:\n",
    "                    EFi_PM10 = 0.00030\n",
    "                    EFi_PM2_5 = k * 0.00030\n",
    "                else:\n",
    "                    EFi_PM10 = 0.00075\n",
    "                    EFi_PM2_5 = k * 0.00075\n",
    "            elif 2012 <= car_birth <= 2013:\n",
    "                if V <= 65.4:\n",
    "                    EFi_CO = 1.2550 * (V**-0.7728)\n",
    "                else:\n",
    "                    EFi_CO = 7.1296*(10**-5)*(V**2) - 1.1318*(10**-2)*V + 5.1253*(10**-1)\n",
    "                if V <= 65.4:\n",
    "                    EFi_HC = 0.0547 * (V**-1.0484)\n",
    "                else:\n",
    "                    EFi_HC = 1.1405*(10**-6)*(V**2) - 1.6243*(10**-4)*V + 6.6528*(10**-3)\n",
    "                EFi_NOx = -3.1615*(10**-6)*(V**2) + 2.9809*(10**-4)*V + 1.0117*(10**-2)\n",
    "                if V < 85:\n",
    "                    EFi_PM10 = 0.00030\n",
    "                    EFi_PM2_5 = k * 0.00030\n",
    "                else:\n",
    "                    EFi_PM10 = 0.00075\n",
    "                    EFi_PM2_5 = k * 0.00075\n",
    "            elif car_birth == 2014:\n",
    "                if V <= 65.4:\n",
    "                    EFi_CO = 1.2144 * (V**-0.7728)\n",
    "                else:\n",
    "                    EFi_CO = 6.8992*(10**-5)*(V**2) - 1.0952*(10**-2)*V + 4.9597*(10**-1)\n",
    "                if V <= 65.4:\n",
    "                    EFi_HC = 0.0524 * (V**-1.0484)\n",
    "                else:\n",
    "                    EFi_HC = 1.0930*(10**-6)*(V**2) - 1.5566*(10**-4)*V + 6.3756*(10**-3)\n",
    "                EFi_NOx = -3.0719*(10**-6)*(V**2) + 2.8964*(10**-4)*V + 9.8301*(10**-3)\n",
    "                if V < 85:\n",
    "                    EFi_PM10 = 0.00030\n",
    "                    EFi_PM2_5 = k * 0.00030\n",
    "                else:\n",
    "                    EFi_PM10 = 0.00075\n",
    "                    EFi_PM2_5 = k * 0.00075\n",
    "            elif 2015 <= car_birth:\n",
    "                if V <= 65.4:\n",
    "                    EFi_CO = 1.1739 * (V**-0.7728)\n",
    "                else:\n",
    "                    EFi_CO = 6.6688*(10**-5)*(V**2) - 1.0587*(10**-2)*V + 4.7940*(10**-1)\n",
    "                if V <= 65.4:\n",
    "                    EFi_HC = 0.0501 * (V**-1.0484)\n",
    "                else:\n",
    "                    EFi_HC = 1.0500*(10**-6)*(V**2) - 1.4890*(10**-4)*V + 6.0984*(10**-3)\n",
    "                EFi_NOx = -2.9823*(10**-6)*(V**2) + 2.8119*(10**-4)*V + 9.5434*(10**-3)\n",
    "                if V < 85:\n",
    "                    EFi_PM10 = 0.00030\n",
    "                    EFi_PM2_5 = k * 0.00030\n",
    "                else:\n",
    "                    EFi_PM10 = 0.00075\n",
    "                    EFi_PM2_5 = k * 0.00075\n",
    "        elif ( (car_type == '승합') and (car_size == '경형') ) or ( (car_type == '화물') and (car_size == '경형') ):\n",
    "            if car_birth <= 1996:\n",
    "                if V <= 45:\n",
    "                    EFi_CO = 11.249 * (V**-0.6579)\n",
    "                else:\n",
    "                    EFi_CO = 0.0003 * (V**2) + 0.0002 * V + 0.4136\n",
    "                EFi_HC = 7.6244 * (V**-0.8364)\n",
    "                EFi_NOx = 2.6754 * (V**-0.3236)\n",
    "                if V < 85:\n",
    "                    EFi_PM10 = 0.00030\n",
    "                    EFi_PM2_5 = k * 0.00030\n",
    "                else:\n",
    "                    EFi_PM10 = 0.00075\n",
    "                    EFi_PM2_5 = k * 0.00075\n",
    "            elif 1997 <= car_birth <= 1999:\n",
    "                if V <= 45:\n",
    "                    EFi_CO = 16.965 * (V**-0.8461)\n",
    "                else:\n",
    "                    EFi_CO = -0.0003 * (V**2) + 0.0777 * V - 1.9363\n",
    "                EFi_HC = 3.0285 * (V**-0.7830)\n",
    "                EFi_NOx = 1.9923 * (V**-0.3889)\n",
    "                if V < 85:\n",
    "                    EFi_PM10 = 0.00030\n",
    "                    EFi_PM2_5 = k * 0.00030\n",
    "                else:\n",
    "                    EFi_PM10 = 0.00075\n",
    "                    EFi_PM2_5 = k * 0.00075\n",
    "            elif 2000 <= car_birth <= 2002:\n",
    "                if V <= 45:\n",
    "                    EFi_CO = 9.9433 * (V**-0.8461)\n",
    "                else:\n",
    "                    EFi_CO = -0.0002 * (V**2) + 0.0455 * V - 1.1349\n",
    "                EFi_HC = 1.8928 * (V**-0.7830)\n",
    "                EFi_NOx = 1.2352 * (V**-0.3889)\n",
    "                if V < 85:\n",
    "                    EFi_PM10 = 0.00030\n",
    "                    EFi_PM2_5 = k * 0.00030\n",
    "                else:\n",
    "                    EFi_PM10 = 0.00075\n",
    "                    EFi_PM2_5 = k * 0.00075\n",
    "            elif 2003 <= car_birth <= 2005:\n",
    "                if V <= 45:\n",
    "                    EFi_CO = 9.9433 * (V**-0.8461)\n",
    "                else:\n",
    "                    EFi_CO = -0.0002 * (V**2) + 0.0455 * V - 1.1349\n",
    "                EFi_HC = 0.9227 * (V**-0.7830)\n",
    "                EFi_NOx = 3.8859 * (V**-0.9198)\n",
    "                if V < 85:\n",
    "                    EFi_PM10 = 0.00030\n",
    "                    EFi_PM2_5 = k * 0.00030\n",
    "                else:\n",
    "                    EFi_PM10 = 0.00075\n",
    "                    EFi_PM2_5 = k * 0.00075\n",
    "            elif 2006 <= car_birth:\n",
    "                if V <= 45:\n",
    "                    EFi_CO = 4.4952 * (V**-0.8461)\n",
    "                else:\n",
    "                    EFi_CO = -0.0001 * (V**2) + 0.0229 * V - 0.5701\n",
    "                EFi_HC = 0.2958 * (V**-0.7830)\n",
    "                EFi_NOx = 0.4819 * (V**-0.9198)\n",
    "                if V < 85:\n",
    "                    EFi_PM10 = 0.00030\n",
    "                    EFi_PM2_5 = k * 0.00030\n",
    "                else:\n",
    "                    EFi_PM10 = 0.00075\n",
    "                    EFi_PM2_5 = k * 0.00075\n",
    "        elif (car_type == '승합') and (car_size == '소형'):\n",
    "            if car_birth <= 1990:\n",
    "                EFi_CO = 36.169 * (V**-0.7587)\n",
    "                EFi_HC = 15.607 * (V**-1.0423)\n",
    "                EFi_NOx = 6.2007 * (V**-0.6781)\n",
    "                if V < 85:\n",
    "                    EFi_PM10 = 0.00030\n",
    "                    EFi_PM2_5 = k * 0.00030\n",
    "                else:\n",
    "                    EFi_PM10 = 0.00075\n",
    "                    EFi_PM2_5 = k * 0.00075\n",
    "            elif 1991 <= car_birth <= 1996:\n",
    "                EFi_CO = 39.402 * (V**-0.8879)\n",
    "                EFi_HC = 23.400 * (V**-1.4041)\n",
    "                EFi_NOx = 7.5244 * (V**-0.7634)\n",
    "                if V < 85:\n",
    "                    EFi_PM10 = 0.00030\n",
    "                    EFi_PM2_5 = k * 0.00030\n",
    "                else:\n",
    "                    EFi_PM10 = 0.00075\n",
    "                    EFi_PM2_5 = k * 0.00075\n",
    "            elif 1997 <= car_birth <= 1999:\n",
    "                EFi_CO = 77.088 * (V**-1.2078)\n",
    "                EFi_HC = 18.731 * (V**-1.5356)\n",
    "                EFi_NOx = 4.4260 * (V**-0.7978)\n",
    "                if V < 85:\n",
    "                    EFi_PM10 = 0.00030\n",
    "                    EFi_PM2_5 = k * 0.00030\n",
    "                else:\n",
    "                    EFi_PM10 = 0.00075\n",
    "                    EFi_PM2_5 = k * 0.00075\n",
    "            elif car_birth == 2000:\n",
    "                EFi_CO = 41.669 * (V**-1.2078)\n",
    "                EFi_HC = 14.190 * (V**-1.5356)\n",
    "                EFi_NOx = 3.4578 * (V**-0.7978)\n",
    "                if V < 85:\n",
    "                    EFi_PM10 = 0.00030\n",
    "                    EFi_PM2_5 = k * 0.00030\n",
    "                else:\n",
    "                    EFi_PM10 = 0.00075\n",
    "                    EFi_PM2_5 = k * 0.00075\n",
    "            elif 2001 <= car_birth <= 2002:\n",
    "                EFi_CO = 41.669 * (V**-1.2078)\n",
    "                EFi_HC = 11.920 * (V**-1.5356)\n",
    "                EFi_NOx = 3.0649 * (V**-0.7978)\n",
    "                if V < 85:\n",
    "                    EFi_PM10 = 0.00030\n",
    "                    EFi_PM2_5 = k * 0.00030\n",
    "                else:\n",
    "                    EFi_PM10 = 0.00075\n",
    "                    EFi_PM2_5 = k * 0.00075\n",
    "            elif 2003 <= car_birth <= 2005:\n",
    "                EFi_CO = 37.573 * (V**-1.2078)\n",
    "                EFi_HC = 3.1786 * (V**-1.5356)\n",
    "                EFi_NOx = 1.4931 * (V**-0.7978)\n",
    "                if V < 85:\n",
    "                    EFi_PM10 = 0.00030\n",
    "                    EFi_PM2_5 = k * 0.00030\n",
    "                else:\n",
    "                    EFi_PM10 = 0.00075\n",
    "                    EFi_PM2_5 = k * 0.00075\n",
    "            elif 2006 <= car_birth:\n",
    "                EFi_CO = 32.899 * (V**-1.2078)\n",
    "                EFi_HC = 2.7387 * (V**-1.5356)\n",
    "                EFi_NOx = 1.1808 * (V**-0.7978)\n",
    "                if V < 85:\n",
    "                    EFi_PM10 = 0.00030\n",
    "                    EFi_PM2_5 = k * 0.00030\n",
    "                else:\n",
    "                    EFi_PM10 = 0.00075\n",
    "                    EFi_PM2_5 = k * 0.00075\n",
    "        elif ( (car_type == '승합') and ((car_size == '중형') or (car_size == '대형')) ) or ( (car_type == '화물') and (car_size == '소형') ):\n",
    "            if car_birth <= 1990:\n",
    "                EFi_CO = 36.169 * (V**-0.7587)\n",
    "                EFi_HC = 15.607 * (V**-1.0423)\n",
    "                EFi_NOx = 6.2007 * (V**-0.6781)\n",
    "                if V < 85:\n",
    "                    EFi_PM10 = 0.00030\n",
    "                    EFi_PM2_5 = k * 0.00030\n",
    "                else:\n",
    "                    EFi_PM10 = 0.00075\n",
    "                    EFi_PM2_5 = k * 0.00075\n",
    "            elif 1991 <= car_birth <= 1996:\n",
    "                EFi_CO = 39.402 * (V**-0.8879)\n",
    "                EFi_HC = 23.400 * (V**-1.4041)\n",
    "                EFi_NOx = 7.5244 * (V**-0.7634)\n",
    "                if V < 85:\n",
    "                    EFi_PM10 = 0.00030\n",
    "                    EFi_PM2_5 = k * 0.00030\n",
    "                else:\n",
    "                    EFi_PM10 = 0.00075\n",
    "                    EFi_PM2_5 = k * 0.00075\n",
    "            elif 1997 <= car_birth <= 1999:\n",
    "                EFi_CO = 77.088 * (V**-1.2078)\n",
    "                EFi_HC = 18.731 * (V**-1.5356)\n",
    "                EFi_NOx = 4.4260 * (V**-0.7978)\n",
    "                if V < 85:\n",
    "                    EFi_PM10 = 0.00030\n",
    "                    EFi_PM2_5 = k * 0.00030\n",
    "                else:\n",
    "                    EFi_PM10 = 0.00075\n",
    "                    EFi_PM2_5 = k * 0.00075\n",
    "            elif 2000 <= car_birth <= 2002:\n",
    "                EFi_CO = 41.669 * (V**-1.2078)\n",
    "                EFi_HC = 14.190 * (V**-1.5356)\n",
    "                EFi_NOx = 3.4578 * (V**-0.7978)\n",
    "                if V < 85:\n",
    "                    EFi_PM10 = 0.00030\n",
    "                    EFi_PM2_5 = k * 0.00030\n",
    "                else:\n",
    "                    EFi_PM10 = 0.00075\n",
    "                    EFi_PM2_5 = k * 0.00075\n",
    "            elif 2003 <= car_birth <= 2005:\n",
    "                EFi_CO = 36.578 * (V**-1.2078)\n",
    "                EFi_HC = 3.0337 * (V**-1.5356)\n",
    "                EFi_NOx = 2.0104 * (V**-0.7978)\n",
    "                if V < 85:\n",
    "                    EFi_PM10 = 0.00030\n",
    "                    EFi_PM2_5 = k * 0.00030\n",
    "                else:\n",
    "                    EFi_PM10 = 0.00075\n",
    "                    EFi_PM2_5 = k * 0.00075\n",
    "            elif 2006 <= car_birth:\n",
    "                EFi_CO = 14.202 * (V**-1.2078)\n",
    "                EFi_HC = 1.2233 * (V**-1.5356)\n",
    "                EFi_NOx = 0.2493 * (V**-0.7978)\n",
    "                if V < 85:\n",
    "                    EFi_PM10 = 0.00030\n",
    "                    EFi_PM2_5 = k * 0.00030\n",
    "                else:\n",
    "                    EFi_PM10 = 0.00075\n",
    "                    EFi_PM2_5 = k * 0.00075\n",
    "        elif (car_type == '화물') and ( (car_size == '중형') or (car_size == '대형') ):\n",
    "            if 1993 <= car_birth:\n",
    "                if V <= 65:\n",
    "                    EFi_CO = 70\n",
    "                    EFi_HC = 7\n",
    "                    EFi_NOx = 4.5\n",
    "                else:\n",
    "                    EFi_CO = 55\n",
    "                    EFi_HC = 3.5\n",
    "                    EFi_NOx = 7.5\n",
    "                if V < 85:\n",
    "                    EFi_PM10 = 0.00030\n",
    "                    EFi_PM2_5 = k * 0.00030\n",
    "                else:\n",
    "                    EFi_PM10 = 0.00075\n",
    "                    EFi_PM2_5 = k * 0.00075\n",
    "    elif fuel == '경유':\n",
    "        if (car_type == '승용') and (car_size == '경형'):\n",
    "            if car_birth <= 2005:\n",
    "                EFi_CO = 0.7392 * (V**-0.7524)\n",
    "                EFi_HC = 0.0989 * (V**-0.6848)\n",
    "                EFi_NOx = 24.3491 * (V**-0.7277)\n",
    "                EFi_PM10 = 0.0839 * (V**-0.3420)\n",
    "                EFi_PM2_5 = k * 0.0839 * (V**-0.3420)\n",
    "            elif 2006 <= car_birth <= 2010:\n",
    "                EFi_CO = 0.5775 * (V**-0.7524)\n",
    "                EFi_HC = 0.0825 * (V**-0.6848)\n",
    "                EFi_NOx = 24.3491 * (V**-0.7277)\n",
    "                EFi_PM10 = 0.0420 * (V**-0.3420)\n",
    "                EFi_PM2_5 = k * 0.0420 * (V**-0.3420)\n",
    "            elif 2011 <= car_birth <= 2015:\n",
    "                EFi_CO = 0.5141 * (V**-0.6792)\n",
    "                EFi_HC = 0.3713 * (V**-0.7513)\n",
    "                EFi_NOx = 0.0003 * (V**2) - 0.0324 * V + 1.4773\n",
    "                if V <= 65.4:\n",
    "                    EFi_PM10 = 0.0225 * (V**-0.7264)\n",
    "                    EFi_PM2_5 = k * 0.0225 * (V**-0.7264)\n",
    "                else:\n",
    "                    EFi_PM10 = 0.0009 * (V**-0.0416)\n",
    "                    EFi_PM2_5 = k * 0.0009 * (V**-0.0416)\n",
    "            elif 2016 <= car_birth:\n",
    "                EFi_CO = 0.4574 * (V**-0.5215)\n",
    "                EFi_HC = 0.1300 * (V**-0.7265)\n",
    "                EFi_NOx = 2.7702 * (V**-0.3869)\n",
    "                if V <= 65.4:\n",
    "                    EFi_PM10 = 0.0225 * (V**-0.7264)\n",
    "                    EFi_PM2_5 = k * 0.0225 * (V**-0.7264)\n",
    "                else:\n",
    "                    EFi_PM10 = 0.0009 * (V**-0.0416)\n",
    "                    EFi_PM2_5 = k * 0.0009 * (V**-0.0416)\n",
    "        elif (car_type == '승용') and (car_size == '소형'):\n",
    "            if car_birth <= 2004:\n",
    "                EFi_CO = 5.9672 * (V**-0.9534)\n",
    "                EFi_HC = 0.6523 * (V**-1.0167)\n",
    "                EFi_NOx = 24.3491 * (V**-0.7277)\n",
    "                if V <= 65:\n",
    "                    EFi_PM10 = 0.3861 * (V**-0.5093)\n",
    "                    EFi_PM2_5 = k * 0.3861 * (V**-0.5093)\n",
    "                else:\n",
    "                    EFi_PM10 = -0.00001 * (V**2) + 0.0026 * V - 0.0618\n",
    "                    EFi_PM2_5 = k * -0.00001 * (V**2) + 0.0026 * V - 0.0618\n",
    "            elif car_birth == 2005:\n",
    "                EFi_CO = 0.7392 * (V**-0.7524)\n",
    "                EFi_HC = 0.0989 * (V**-0.6848)\n",
    "                EFi_NOx = 24.3491 * (V**-0.7277)\n",
    "                EFi_PM10 = 0.0839 * (V**-0.3420)\n",
    "                EFi_PM2_5 = k * 0.0839 * (V**-0.3420)\n",
    "            elif 2006 <= car_birth <= 2010:\n",
    "                EFi_CO = 0.5775 * (V**-0.7524)\n",
    "                EFi_HC = 0.0825 * (V**-0.6848)\n",
    "                EFi_NOx = 24.3491 * (V**-0.7277)\n",
    "                EFi_PM10 = 0.0420 * (V**-0.3420)\n",
    "                EFi_PM2_5 = k * 0.0420 * (V**-0.3420)\n",
    "            elif 2011 <= car_birth <= 2015:\n",
    "                EFi_CO = 0.5141 * (V**-0.6792)\n",
    "                EFi_HC = 0.3713 * (V**-0.7513)\n",
    "                EFi_NOx = 0.0003 * (V**2) - 0.0324 * V + 1.4773\n",
    "                if V <= 65.4:\n",
    "                    EFi_PM10 = 0.0225 * (V**-0.7264)\n",
    "                    EFi_PM2_5 = k * 0.0225 * (V**-0.7264)\n",
    "                else:\n",
    "                    EFi_PM10 = 0.0009 * (V**-0.0416)\n",
    "                    EFi_PM2_5 = k * 0.0009 * (V**-0.0416)\n",
    "            elif 2016 <= car_birth:\n",
    "                EFi_CO = 0.4574 * (V**-0.5215)\n",
    "                EFi_HC = 0.1300 * (V**-0.7265)\n",
    "                EFi_NOx = 2.7702 * (V**-0.3869)\n",
    "                if V <= 65.4:\n",
    "                    EFi_PM10 = 0.0225 * (V**-0.7264)\n",
    "                    EFi_PM2_5 = k * 0.0225 * (V**-0.7264)\n",
    "                else:\n",
    "                    EFi_PM10 = 0.0009 * (V**-0.0416)\n",
    "                    EFi_PM2_5 = k * 0.0009 * (V**-0.0416)\n",
    "        elif (car_type == '승용') and (car_size == '중형'):\n",
    "            if car_birth <= 2004:\n",
    "                EFi_CO = 5.9672 * (V**-0.9534)\n",
    "                EFi_HC = 0.6523 * (V**-1.0167)\n",
    "                EFi_NOx = 24.3491 * (V**-0.7277)\n",
    "                if V <= 65:\n",
    "                    EFi_PM10 = 0.3861 * (V**-0.5093)\n",
    "                    EFi_PM2_5 = k * 0.3861 * (V**-0.5093)\n",
    "                else:\n",
    "                    EFi_PM10 = -0.00001 * (V**2) + 0.0026 * V - 0.0618\n",
    "                    EFi_PM2_5 = k * -0.00001 * (V**2) + 0.0026 * V - 0.0618\n",
    "            elif car_birth == 2005:\n",
    "                EFi_CO = 0.6930 * (V**-0.7524)\n",
    "                EFi_HC = 0.1865 * (V**-0.6848)\n",
    "                EFi_NOx = 24.3491 * (V**-0.7277)\n",
    "                EFi_PM10 = 0.0723 * (V**-0.3420)\n",
    "                EFi_PM2_5 = k * 0.0723 * (V**-0.3420)\n",
    "            elif 2006 <= car_birth <= 2010:\n",
    "                EFi_CO = 0.5414 * (V**-0.7524)\n",
    "                EFi_HC = 0.0927 * (V**-0.6848)\n",
    "                EFi_NOx = 24.3491 * (V**-0.7277)\n",
    "                EFi_PM10 = 0.0396 * (V**-0.3420)\n",
    "                EFi_PM2_5 = k * 0.0396 * (V**-0.3420)\n",
    "            elif 2011 <= car_birth <= 2015:\n",
    "                EFi_CO = 0.5141 * (V**-0.6792)\n",
    "                EFi_HC = 0.3713 * (V**-0.7513)\n",
    "                EFi_NOx = 0.0003 * (V**2) - 0.0324 * V + 1.4773\n",
    "                if V <= 65.4:\n",
    "                    EFi_PM10 = 0.0225 * (V**-0.7264)\n",
    "                    EFi_PM2_5 = k * 0.0225 * (V**-0.7264)\n",
    "                else:\n",
    "                    EFi_PM10 = 0.0009 * (V**-0.0416)\n",
    "                    EFi_PM2_5 = k * 0.0009 * (V**-0.0416)\n",
    "            elif 2016 <= car_birth:\n",
    "                EFi_CO = 0.4574 * (V**-0.5215)\n",
    "                EFi_HC = 0.1300 * (V**-0.7265)\n",
    "                EFi_NOx = 2.7702 * (V**-0.3869)\n",
    "                if V <= 65.4:\n",
    "                    EFi_PM10 = 0.0225 * (V**-0.7264)\n",
    "                    EFi_PM2_5 = k * 0.0225 * (V**-0.7264)\n",
    "                else:\n",
    "                    EFi_PM10 = 0.0009 * (V**-0.0416)\n",
    "                    EFi_PM2_5 = k * 0.0009 * (V**-0.0416)\n",
    "        elif (car_type == '승용') and (car_size == '대형'):\n",
    "            if car_birth <= 2004:\n",
    "                EFi_CO = 5.9672 * (V**-0.9534)\n",
    "                EFi_HC = 0.6523 * (V**-1.0167)\n",
    "                EFi_NOx = 24.3491 * (V**-0.7277)\n",
    "                if V <= 65:\n",
    "                    EFi_PM10 = 0.3861 * (V**-0.5093)\n",
    "                    EFi_PM2_5 = k * 0.3861 * (V**-0.5093)\n",
    "                else:\n",
    "                    EFi_PM10 = -0.00001 * (V**2) + 0.0026 * V - 0.0618\n",
    "                    EFi_PM2_5 = k * -0.00001 * (V**2) + 0.0026 * V - 0.0618\n",
    "            elif car_birth == 2005:\n",
    "                EFi_CO = 0.9609 * (V**-0.7524)\n",
    "                EFi_HC = 0.1865 * (V**-0.6848)\n",
    "                EFi_NOx = 24.3491 * (V**-0.7277)\n",
    "                EFi_PM10 = 0.0723 * (V**-0.3420)\n",
    "                EFi_PM2_5 = k * 0.0723 * (V**-0.3420)\n",
    "            elif 2006 <= car_birth <= 2010:\n",
    "                EFi_CO = 0.7507 * (V**-0.7524)\n",
    "                EFi_HC = 0.1554 * (V**-0.6848)\n",
    "                EFi_NOx = 24.3491 * (V**-0.7277)\n",
    "                EFi_PM10 = 0.0361 * (V**-0.3420)\n",
    "                EFi_PM2_5 = k * 0.0361 * (V**-0.3420)\n",
    "            elif 2011 <= car_birth <= 2015:\n",
    "                EFi_CO = 0.5141 * (V**-0.6792)\n",
    "                EFi_HC = 0.3713 * (V**-0.7513)\n",
    "                EFi_NOx = 0.0003 * (V**2) - 0.0324 * V + 1.4773\n",
    "                if V <= 65.4:\n",
    "                    EFi_PM10 = 0.0225 * (V**-0.7264)\n",
    "                    EFi_PM2_5 = k * 0.0225 * (V**-0.7264)\n",
    "                else:\n",
    "                    EFi_PM10 = 0.0009 * (V**-0.0416)\n",
    "                    EFi_PM2_5 = k * 0.0009 * (V**-0.0416)\n",
    "            elif 2016 <= car_birth:\n",
    "                EFi_CO = 0.4574 * (V**-0.5215)\n",
    "                EFi_HC = 0.1300 * (V**-0.7265)\n",
    "                EFi_NOx = 2.7702 * (V**-0.3869)\n",
    "                if V <= 65.4:\n",
    "                    EFi_PM10 = 0.0225 * (V**-0.7264)\n",
    "                    EFi_PM2_5 = k * 0.0225 * (V**-0.7264)\n",
    "                else:\n",
    "                    EFi_PM10 = 0.0009 * (V**-0.0416)\n",
    "                    EFi_PM2_5 = k * 0.0009 * (V**-0.0416)\n",
    "        elif (car_type == '승합') and (car_size == '소형'):\n",
    "            if car_birth <= 1990:\n",
    "                if V <= 65.4:\n",
    "                    EFi_CO = 3.4539 * (V**-0.4266)\n",
    "                else:\n",
    "                    EFi_CO = 0.0051 * V + 0.2212\n",
    "                EFi_HC = 0.9835 * (V**-0.5096)\n",
    "                EFi_NOx = 24.3491 * (V**-0.7277)\n",
    "                EFi_PM10 = 1.1412 * (V**-0.4324)\n",
    "                EFi_PM2_5 = k * 1.1412 * (V**-0.4324)\n",
    "            elif 1991 <= car_birth <= 1995:\n",
    "                if V <= 65.4:\n",
    "                    EFi_CO = 3.4539 * (V**-0.4266)\n",
    "                else:\n",
    "                    EFi_CO = 0.0051 * V + 0.2212\n",
    "                EFi_HC = 1.6313 * (V**-0.7298)\n",
    "                EFi_NOx = 24.3491 * (V**-0.7277)\n",
    "                EFi_PM10 = 0.5999 * (V**-0.3294)\n",
    "                EFi_PM2_5 = k * 0.5999 * (V**-0.3294)\n",
    "            elif 1996 <= car_birth <= 1997:\n",
    "                if V <= 65.4:\n",
    "                    EFi_CO = 3.4539 * (V**-0.4266)\n",
    "                else:\n",
    "                    EFi_CO = 0.0051 * V + 0.2212\n",
    "                EFi_HC = 1.1293 * (V**-0.6588)\n",
    "                EFi_NOx = 24.3491 * (V**-0.7277)\n",
    "                EFi_PM10 = 0.6408 * (V**-0.3596)\n",
    "                EFi_PM2_5 = k * 0.6408 * (V**-0.3596)\n",
    "            elif 1998 <= car_birth <= 1999:\n",
    "                EFi_CO = 3.7564 * (V**-0.5175)\n",
    "                EFi_HC = 1.1293 * (V**-0.6588)\n",
    "                EFi_NOx = 24.3491 * (V**-0.7277)\n",
    "                EFi_PM10 = 0.5168 * (V**-0.3596)\n",
    "                EFi_PM2_5 = k * 0.5168 * (V**-0.3596)\n",
    "            elif 2000 <= car_birth <= 2003:\n",
    "                EFi_CO = 3.7564 * (V**-0.5175)\n",
    "                EFi_HC = 1.1293 * (V**-0.6588)\n",
    "                EFi_NOx = 24.3491 * (V**-0.7277)\n",
    "                EFi_PM10 = 0.2894 * (V**-0.3596)\n",
    "                EFi_PM2_5 = k * 0.2894 * (V**-0.3596)\n",
    "            elif 2004 <= car_birth <= 2007:\n",
    "                EFi_CO = 3.2797 * (V**-0.8887)\n",
    "                EFi_HC = 0.1807 * (V**-0.6588)\n",
    "                EFi_NOx = 24.3491 * (V**-0.7277)\n",
    "                EFi_PM10 = 0.2067 * (V**-0.3596)\n",
    "                EFi_PM2_5 = k * 0.2067 * (V**-0.3596)\n",
    "            elif 2008 <= car_birth <= 2011:\n",
    "                if V <= 65.4:\n",
    "                    EFi_CO = 4.222 * (V**-1.4035)\n",
    "                else:\n",
    "                    EFi_CO = 0.011666 * (V**0.09222)\n",
    "                if V <= 97.3:\n",
    "                    EFi_HC = 0.829 * (V**-1.0961)\n",
    "                EFi_NOx = 24.3491 * (V**-0.7277)\n",
    "                EFi_PM10 = 0.3111 * (V**-0.5125)\n",
    "                EFi_PM2_5 = k * 0.3111 * (V**-0.5125)\n",
    "            elif 2012 <= car_birth:\n",
    "                if V <= 65.4:\n",
    "                    EFi_CO = 4.222 * (V**-1.4035)\n",
    "                else:\n",
    "                    EFi_CO = 0.011666 * (V**0.09222)\n",
    "                if V <= 97.3:\n",
    "                    EFi_HC = 0.829 * (V**-1.0961)\n",
    "                if V <= 65.4:\n",
    "                    EFi_NOx = 2.0217 * (V**-0.2645)\n",
    "                else:\n",
    "                    EFi_NOx = 0.0271 * (V**0.7596)\n",
    "                EFi_PM10 = 0.1119 * (V**-0.5125)\n",
    "                EFi_PM2_5 = k * 0.1119 * (V**-0.5125)\n",
    "        elif (car_type == '승합') and (car_size == '중형'):\n",
    "            if car_birth <= 1995:\n",
    "                EFi_CO = 32.550 * (V**-0.4944)\n",
    "                EFi_HC = 15.753 * (V**-0.5912)\n",
    "                if V < 80:\n",
    "                    EFi_NOx = 40.692 * (V**-0.5590)\n",
    "                else:\n",
    "                    EFi_NOx = -0.0023 * (V**2) + 0.5381 * V - 23.590\n",
    "                EFi_PM10 = 5.4886 * (V**-0.5911)\n",
    "                EFi_PM2_5 = k * 5.4886 * (V**-0.5911)\n",
    "            elif 1996 <= car_birth <= 1997:\n",
    "                EFi_CO = 16.410 * (V**-0.3790)\n",
    "                EFi_HC = 4.2324 * (V**-0.3926)\n",
    "                if V < 80:\n",
    "                    EFi_NOx = 22.804 * (V**-0.4660)\n",
    "                else:\n",
    "                    EFi_NOx = -0.0021 * (V**2) + 0.4430 * V - 18.730\n",
    "                EFi_PM10 = 1.6593 * (V**-0.3935)\n",
    "                EFi_PM2_5 = k * 1.6593 * (V**-0.3935)\n",
    "            elif 1998 <= car_birth <= 2000:\n",
    "                EFi_CO = 16.410 * (V**-0.3790)\n",
    "                EFi_HC = 4.2324 * (V**-0.3926)\n",
    "                if V < 80:\n",
    "                    EFi_NOx = 25.708 * (V**-0.4772)\n",
    "                else:\n",
    "                    EFi_NOx = 0.0019 * (V**2) - 0.2628 * V + 12.145\n",
    "                EFi_PM10 = 1.6593 * (V**-0.3935)\n",
    "                EFi_PM2_5 = k * 1.6593 * (V**-0.3935)\n",
    "            elif 2001 <= car_birth <= 2004:\n",
    "                EFi_CO = 16.378 * (V**-0.5340)\n",
    "                EFi_HC = 5.8477 * (V**-0.5466)\n",
    "                if V < 80:\n",
    "                    EFi_NOx = 25.436 * (V**-0.4656)\n",
    "                else:\n",
    "                    EFi_NOx = 0.0008 * (V**2) - 0.0482 * V + 1.8424\n",
    "                EFi_PM10 = 1.2848 * (V**-0.4715)\n",
    "                EFi_PM2_5 = k * 1.2848 * (V**-0.4715)\n",
    "            elif 2005 <= car_birth <= 2007:\n",
    "                EFi_CO = 15.256 * (V**-0.7448)\n",
    "                EFi_HC = 2.0502 * (V**-0.6504)\n",
    "                EFi_NOx = 15.001 * (V**-0.4528)\n",
    "                EFi_PM10 = 0.2979 * (V**-0.4008)\n",
    "                EFi_PM2_5 = k * 1.0457 * (V**-0.4527)\n",
    "            elif 2008 <= car_birth <= 2010:\n",
    "                EFi_CO = 8.1771 * (V**-0.7725)\n",
    "                EFi_HC = 1.2991 * (V**-0.6538)\n",
    "                if V <= 64.7:\n",
    "                    EFi_NOx = 17.3032 * (V**-0.3660)\n",
    "                    EFi_PM10 = 0.0539 * (V**-0.5182)\n",
    "                    EFi_PM2_5 = k * 0.0539 * (V**-0.5182)\n",
    "                else:\n",
    "                    EFi_NOx = 0.3259 * (V**0.5773)\n",
    "                    EFi_PM10 = 2.0000*(10**-4) * V - 7.5600*(10**-3)\n",
    "                    EFi_PM2_5 = k * 2.0000*(10**-4) * V - 7.5600*(10**-3)\n",
    "            elif 2011 <= car_birth <= 2014:\n",
    "                EFi_CO = 4.5201 * (V**-0.7279)\n",
    "                EFi_HC = 1.6826 * (V**-0.8045)\n",
    "                if V <= 64.7:\n",
    "                    EFi_NOx = 17.2485 * (V**-0.4040)\n",
    "                    EFi_PM10 = 0.0469 * (V**-0.4674)\n",
    "                    EFi_PM2_5 = k * 0.0469 * (V**-0.4674)\n",
    "                else:\n",
    "                    EFi_NOx = 1.1797 * (V**0.2308)\n",
    "                    EFi_PM10 = 1.6800*(10**-4) * V - 5.1600*(10**-3)\n",
    "                    EFi_PM2_5 = k * 1.6800*(10**-4) * V - 5.1600*(10**-3)\n",
    "            elif 2015 <= car_birth:\n",
    "                EFi_CO = 7.4065 * (V**-0.5995)\n",
    "                EFi_HC = 2.4562 * (V**-1.3145)\n",
    "                EFi_NOx = 42.7393 * (V**-1.2949)\n",
    "                if V <= 64.7:\n",
    "                    EFi_PM10 = 0.0081 * (V**-0.5182)\n",
    "                    EFi_PM2_5 = k * 0.0081 * (V**-0.5182)\n",
    "                else:\n",
    "                    EFi_PM10 = 3.0000*(10**-5) * V - 0.0011\n",
    "                    EFi_PM2_5 = k * 3.0000*(10**-5) * V - 0.0011\n",
    "        elif (car_type == '승합') and (car_size == '대형'):\n",
    "            if car_birth <= 1995:\n",
    "                EFi_CO = 28.205 * (V**-0.5337)\n",
    "                EFi_HC = 6.1146 * (V**-0.4979)\n",
    "                EFi_NOx = 41.346 * (V**-0.3645)\n",
    "                EFi_PM10 = 5.2158 * (V**-0.5048)\n",
    "                EFi_PM2_5 = k * 5.2158 * (V**-0.5048)\n",
    "            elif 1996 <= car_birth <= 1997:\n",
    "                EFi_CO = 23.205 * (V**-0.5425)\n",
    "                EFi_HC = 6.5657 * (V**-0.5431)\n",
    "                EFi_NOx = 42.1379 * (V**-0.3786)\n",
    "                EFi_PM10 = 2.4911 * (V**-0.4149)\n",
    "                EFi_PM2_5 = k * 2.4911 * (V**-0.4149)\n",
    "            elif 1998 <= car_birth <= 2000:\n",
    "                EFi_CO = 23.205 * (V**-0.5425)\n",
    "                EFi_HC = 6.5657 * (V**-0.5431)\n",
    "                EFi_NOx = 42.1379 * (V**-0.3786)\n",
    "                EFi_PM10 = 1.4432 * (V**-0.3870)\n",
    "                EFi_PM2_5 = k * 1.4432 * (V**-0.3870)\n",
    "            elif car_birth == 2001:\n",
    "                EFi_CO = 21.348 * (V**-0.5806)\n",
    "                EFi_HC = 6.6390 * (V**-0.5760)\n",
    "                EFi_NOx = 36.7191 * (V**-0.3548)\n",
    "                EFi_PM10 = 0.9375 * (V**-0.3910)\n",
    "                EFi_PM2_5 = k * 0.9375 * (V**-0.3910)\n",
    "            elif 2002 <= car_birth <= 2004:\n",
    "                EFi_CO = 21.348 * (V**-0.5806)\n",
    "                EFi_HC = 6.6390 * (V**-0.5760)\n",
    "                EFi_NOx = 36.7191 * (V**-0.3548)\n",
    "                EFi_PM10 = 1.1507 * (V**-0.4804)\n",
    "                EFi_PM2_5 = k * 1.1507 * (V**-0.4804)\n",
    "            elif 2005 <= car_birth <= 2007:\n",
    "                EFi_CO = 9.6452 * (V**-0.5291)\n",
    "                EFi_HC = 3.2339 * (V**-0.7436)\n",
    "                EFi_NOx = 30.5870 * (V**-0.3548)\n",
    "                if V <= 80:\n",
    "                    EFi_PM10 = 0.4657 * (V**-0.5634)\n",
    "                    EFi_PM2_5 = k * 0.4657 * (V**-0.5634)\n",
    "                else:\n",
    "                    EFi_PM10 = 0.0014 * (V**0.7970)\n",
    "                    EFi_PM2_5 = k * 0.0014 * (V**0.7970)\n",
    "            elif 2008 <= car_birth <= 2010:\n",
    "                EFi_CO = 6.8493 * (V**-0.6506)\n",
    "                EFi_HC = 1.7177 * (V**-0.6781)\n",
    "                EFi_NOx = 40.7564 * (V**-0.4757)\n",
    "                EFi_PM10 = 0.2418 * (V**-0.4727)\n",
    "                EFi_PM2_5 = k * 0.2418 * (V**-0.4727)\n",
    "            elif 2011 <= car_birth <= 2014:\n",
    "                EFi_CO = 5.4607 * (V**-0.2990)\n",
    "                EFi_HC = 0.8863 * (V**-0.6933)\n",
    "                EFi_NOx = 40.3729 * (V**-0.5386)\n",
    "                EFi_PM10 = 0.2125 * (V**-0.4650)\n",
    "                EFi_PM2_5 = k * 0.2125 * (V**-0.4650)\n",
    "            elif 2015 <= car_birth:\n",
    "                EFi_CO = 11.4415 * (V**-0.8036)\n",
    "                EFi_HC = 0.6774 * (V**-0.8321)\n",
    "                EFi_NOx = 112.1229 * (V**-1.6393)\n",
    "                EFi_PM10 = 0.0363 * (V**-0.4727)\n",
    "                EFi_PM2_5 = k * 0.0363 * (V**-0.4727)\n",
    "        elif (car_type == '화물') and (car_size == '소형'):\n",
    "            if car_birth <= 1990:\n",
    "                EFi_CO = 4.5854 * (V**-0.3613)\n",
    "                EFi_HC = 0.4840 * (V**-0.2756)\n",
    "                EFi_NOx = 24.3491 * (V**-0.7277)\n",
    "                EFi_PM10 = 0.8117 * (V**-0.4071)\n",
    "                EFi_PM2_5 = k * 0.8117 * (V**-0.4071)\n",
    "            elif 1991 <= car_birth <= 1995:\n",
    "                EFi_CO = 3.4774 * (V**-0.3483)\n",
    "                EFi_HC = 0.4844 * (V**-0.3288)\n",
    "                EFi_NOx = 24.3491 * (V**-0.7277)\n",
    "                EFi_PM10 = 0.6188 * (V**-0.4540)\n",
    "                EFi_PM2_5 = k * 0.6188 * (V**-0.4540)\n",
    "            elif 1996 <= car_birth <= 1997:\n",
    "                EFi_CO = 3.3934 * (V**-0.3837)\n",
    "                EFi_HC = 0.4955 * (V**-0.3393)\n",
    "                EFi_NOx = 24.3491 * (V**-0.7277)\n",
    "                EFi_PM10 = 0.7037 * (V**-0.5357)\n",
    "                EFi_PM2_5 = k * 0.7037 * (V**-0.5357)\n",
    "            elif 1998 <= car_birth <= 1999:\n",
    "                EFi_CO = 4.0896 * (V**-0.6083)\n",
    "                EFi_HC = 0.6122 * (V**-0.5684)\n",
    "                EFi_NOx = 24.3491 * (V**-0.7277)\n",
    "                EFi_PM10 = 0.6157 * (V**-0.5357)\n",
    "                EFi_PM2_5 = k * 0.6157 * (V**-0.5357)\n",
    "            elif 2000 <= car_birth <= 2003:\n",
    "                EFi_CO = 4.0896 * (V**-0.6083)\n",
    "                EFi_HC = 0.6122 * (V**-0.5684)\n",
    "                EFi_NOx = 24.3491 * (V**-0.7277)\n",
    "                EFi_PM10 = 0.4838 * (V**-0.5357)\n",
    "                EFi_PM2_5 = k * 0.4838 * (V**-0.5357)\n",
    "            elif 2004 <= car_birth <= 2007:\n",
    "                EFi_CO = 3.2797 * (V**-0.8887)\n",
    "                EFi_HC = 0.1807 * (V**-0.6588)\n",
    "                EFi_NOx = 24.3491 * (V**-0.7277)\n",
    "                EFi_PM10 = 0.2067 * (V**-0.3596)\n",
    "                EFi_PM2_5 = k * 0.2067 * (V**-0.3596)\n",
    "            elif 2008 <= car_birth <= 2011:\n",
    "                if V <= 65.4:\n",
    "                    EFi_CO = 4.222 * (V**-1.4035)\n",
    "                else:\n",
    "                    EFi_CO = 0.01166 * (V**0.09222)\n",
    "                if V <= 97.3:\n",
    "                    EFi_HC = 0.829 * (V**-1.0961)\n",
    "                EFi_NOx = 24.3491 * (V**-0.7277)\n",
    "                EFi_PM10 = 0.3111 * (V**-0.5125)\n",
    "                EFi_PM2_5 = k * 0.3111 * (V**-0.5125)\n",
    "            elif 2012 <= car_birth <= 2016:\n",
    "                if V <= 65.4:\n",
    "                    EFi_CO = 4.222 * (V**-1.4035)\n",
    "                    EFi_NOx = 2.0217 * (V**-0.2645)\n",
    "                else:\n",
    "                    EFi_CO = 0.01166 * (V**0.09222)\n",
    "                    EFi_NOx = 0.0271 * (V**0.7596)\n",
    "                if V <= 97.3:\n",
    "                    EFi_HC = 0.829 * (V**-1.0961)\n",
    "                EFi_PM10 = 0.1119 * (V**-0.5125)\n",
    "                EFi_PM2_5 = k * 0.1119 * (V**-0.5125)\n",
    "        elif ( (car_type == '화물') and (car_size == '중형') ) | (car_type == '특수'):\n",
    "            if car_birth <= 1995:\n",
    "                EFi_CO = 16.769 * (V**-0.3772)\n",
    "                EFi_HC = 6.7755 * (V**-0.5003)\n",
    "                EFi_NOx = 24.915 * (V**-0.3942)\n",
    "                EFi_PM10 = 3.6772 * (V**-0.5514)\n",
    "                EFi_PM2_5 = k * 3.6772 * (V**-0.5514)\n",
    "            elif 1996 <= car_birth <= 2000:\n",
    "                EFi_CO = 21.057 * (V**-0.4958)\n",
    "                EFi_HC = 6.7532 * (V**-0.5711)\n",
    "                EFi_NOx = 25.022 * (V**-0.4240)\n",
    "                EFi_PM10 = 3.5285 * (V**-0.5962)\n",
    "                EFi_PM2_5 = k * 3.5285 * (V**-0.5962)\n",
    "            elif car_birth == 2001:\n",
    "                EFi_CO = 25.501 * (V**-0.6100)\n",
    "                EFi_HC = 6.8738 * (V**-0.5913)\n",
    "                if V <= 64.7:\n",
    "                    EFi_NOx = 17.3032 * (V**-0.3660)\n",
    "                else:\n",
    "                    EFi_NOx = 0.3259 * (V**0.5773)\n",
    "                EFi_PM10 = 1.4444 * (V**-0.4824)\n",
    "                EFi_PM2_5 = k * 1.4444 * (V**-0.4824)\n",
    "            elif 2002 <= car_birth <= 2004:\n",
    "                EFi_CO = 25.501 * (V**-0.6100)\n",
    "                EFi_HC = 6.8738 * (V**-0.5913)\n",
    "                if V <= 64.7:\n",
    "                    EFi_NOx = 17.3032 * (V**-0.3660)\n",
    "                else:\n",
    "                    EFi_NOx = 0.3259 * (V**0.5773)\n",
    "                EFi_PM10 = 1.0432 * (V**-0.4992)\n",
    "                EFi_PM2_5 = k * 1.0432 * (V**-0.4992)\n",
    "            elif 2005 <= car_birth <= 2007:\n",
    "                EFi_CO = 15.256 * (V**-0.7448)\n",
    "                EFi_HC = 2.0502 * (V**-0.6504)\n",
    "                if V <= 64.7:\n",
    "                    EFi_NOx = 17.3032 * (V**-0.3660)\n",
    "                else:\n",
    "                    EFi_NOx = 0.3259 * (V**0.5773)\n",
    "                EFi_PM10 = 0.2979 * (V**-0.4008)\n",
    "                EFi_PM2_5 = k * 0.2979 * (V**-0.4008)\n",
    "            elif 2008 <= car_birth <= 2010:\n",
    "                EFi_CO = 8.1771 * (V**-0.7725)\n",
    "                EFi_HC = 1.2991 * (V**-0.6538)\n",
    "                if V <= 64.7:\n",
    "                    EFi_NOx = 17.3032 * (V**-0.3660)\n",
    "                    EFi_PM10 = 0.0539 * (V**-0.5182)\n",
    "                    EFi_PM2_5 = k * 0.0539 * (V**-0.5182)\n",
    "                else:\n",
    "                    EFi_NOx = 0.3259 * (V**0.5773)\n",
    "                    EFi_PM10 = 0.0002 * V - 0.00756\n",
    "                    EFi_PM2_5 = k * 0.0002 * V - 0.00756\n",
    "            elif 2011 <= car_birth <= 2014:\n",
    "                EFi_CO = 4.5201 * (V**-0.7279)\n",
    "                EFi_HC = 1.6826 * (V**-0.8045)\n",
    "                if V <= 64.7:\n",
    "                    EFi_NOx = 17.2485 * (V**-0.4040)\n",
    "                    EFi_PM10 = 0.0469 * (V**-0.4674)\n",
    "                    EFi_PM2_5 = k * 0.0469 * (V**-0.4674)\n",
    "                else:\n",
    "                    EFi_NOx = 1.1797 * (V**0.2308)\n",
    "                    EFi_PM10 = 0.000168 * V - 0.00516\n",
    "                    EFi_PM2_5 = k * 0.000168 * V - 0.00516\n",
    "            elif 2015 <= car_birth:\n",
    "                EFi_CO = 7.4065 * (V**-0.5995)\n",
    "                EFi_HC = 2.4562 * (V**-1.3145)\n",
    "                EFi_NOx = 42.7393 * (V**-1.2949)\n",
    "                if V <= 64.7:\n",
    "                    EFi_PM10 = 0.0081 * (V**-0.5182)\n",
    "                    EFi_PM2_5 = k * 0.0081 * (V**-0.5182)\n",
    "                else:\n",
    "                    EFi_PM10 = 3.0000 * (10**-5) * V - 0.0011\n",
    "                    EFi_PM2_5 = k * 3.0000 * (10**-5) * V - 0.0011\n",
    "        elif (car_type == '화물') and (car_size == '대형'):\n",
    "            if car_birth <= 1995:\n",
    "                EFi_CO = 30.402 * (V**-0.4685)\n",
    "                EFi_HC = 15.75 * (V**-0.582)\n",
    "                EFi_NOx = 117.49 * (V**-0.365)\n",
    "                EFi_PM10 = 7.6212 * (V**-0.4183)\n",
    "                EFi_PM2_5 = k * 7.6212 * (V**-0.4183)\n",
    "            elif 1996 <= car_birth <= 1997:\n",
    "                EFi_CO = 18.101 * (V**-0.3454)\n",
    "                EFi_HC = 10.301 * (V**-0.5856)\n",
    "                EFi_NOx = 94.319 * (V**-0.4061)\n",
    "                EFi_PM10 = 6.0264 * (V**-0.4627)\n",
    "                EFi_PM2_5 = k * 6.0264 * (V**-0.4627)\n",
    "            elif 1998 <= car_birth <= 2000:\n",
    "                EFi_CO = 18.101 * (V**-0.3454)\n",
    "                EFi_HC = 10.301 * (V**-0.5856)\n",
    "                EFi_NOx = 94.319 * (V**-0.4061)\n",
    "                EFi_PM10 = 4.873 * (V**-0.4382)\n",
    "                EFi_PM2_5 = k * 4.873 * (V**-0.4382)\n",
    "            elif 2001 <= car_birth <= 2004:\n",
    "                EFi_CO = 28.399 * (V**-0.5999)\n",
    "                EFi_HC = 10.031 * (V**-0.5828)\n",
    "                EFi_NOx = 85.301 * (V**-0.4023)\n",
    "                EFi_PM10 = 3.7541 * (V**-0.4055)\n",
    "                EFi_PM2_5 = k * 3.7541 * (V**-0.4055)\n",
    "            elif 2005 <= car_birth <= 2007:\n",
    "                EFi_CO = 52.136 * (V**-0.8618)\n",
    "                EFi_HC = 3.7878 * (V**-0.5425)\n",
    "                EFi_NOx = 107.5 * (V**-0.5679)\n",
    "                EFi_PM10 = 2.6847 * (V**-0.6112)\n",
    "                EFi_PM2_5 = k * 2.6847 * (V**-0.6112)\n",
    "            elif 2008 <= car_birth <= 2010:\n",
    "                EFi_CO = 6.8493 * (V**-0.6506)\n",
    "                EFi_HC = 1.7177 * (V**-0.6781)\n",
    "                EFi_NOx = 40.7564 * (V**-0.4757)\n",
    "                EFi_PM10 = 0.2418 * (V**-0.4727)\n",
    "                EFi_PM2_5 = k * 0.2418 * (V**-0.4727)\n",
    "            elif 2011 <= car_birth <= 2014:\n",
    "                EFi_CO = 5.4607 * (V**-0.2990)\n",
    "                EFi_HC = 0.8863 * (V**-0.6933)\n",
    "                EFi_NOx = 40.3729 * (V**-0.5386)\n",
    "                EFi_PM10 = 0.2125 * (V**-0.4650)\n",
    "                EFi_PM2_5 = k * 0.2125 * (V**-0.4650)\n",
    "            elif 2015 <= car_birth:\n",
    "                EFi_CO = 4.3762 * (V**-0.4550)\n",
    "                EFi_HC = 0.3627 * (V**-0.7071)\n",
    "                EFi_NOx = 18.0405 * (V**-1.0986)\n",
    "                EFi_PM10 = 0.0363 * (V**-0.4727)\n",
    "                EFi_PM2_5 = k * 0.0363 * (V**-0.4727)\n",
    "    elif fuel == 'LPG(액화석유가스)':\n",
    "        if (car_type == '승용') and (car_size == '경형'):\n",
    "            if car_birth <= 1996:\n",
    "                if V <= 45:\n",
    "                    EFi_CO = 22.498 * (V**-0.6579)\n",
    "                else:\n",
    "                    EFi_CO = 0.0006 * (V**2) + 0.0004 * V + 0.8272\n",
    "                EFi_HC = 12.961 * (V**-0.8364)\n",
    "                EFi_NOx = 4.0131 * (V**-0.3236)\n",
    "                if V < 85:\n",
    "                    EFi_PM10 = 0.0002\n",
    "                    EFi_PM2_5 = k * 0.0002\n",
    "                else:\n",
    "                    EFi_PM10 = 0.0005\n",
    "                    EFi_PM2_5 = k * 0.0005\n",
    "            elif 1997 <= car_birth <= 1999:\n",
    "                if V <= 45:\n",
    "                    EFi_CO = 19.887 * (V**-0.8461)\n",
    "                else:\n",
    "                    EFi_CO = -0.0004 * (V**2) + 0.0911 * V - 2.2698\n",
    "                EFi_HC = 2.2714 * (V**-0.7830)\n",
    "                EFi_NOx = 1.8528 * (V**-0.3889)\n",
    "                if V < 85:\n",
    "                    EFi_PM10 = 0.0002\n",
    "                    EFi_PM2_5 = k * 0.0002\n",
    "                else:\n",
    "                    EFi_PM10 = 0.0005\n",
    "                    EFi_PM2_5 = k * 0.0005\n",
    "            elif 2000 <= car_birth <= 2002:\n",
    "                if V <= 45:\n",
    "                    EFi_CO = 19.887 * (V**-0.8461)\n",
    "                else:\n",
    "                    EFi_CO = -0.0004 * (V**2) + 0.0911 * V - 2.2698\n",
    "                EFi_HC = 2.2714 * (V**-0.7830)\n",
    "                EFi_NOx = 5.8289 * (V**-0.9198)\n",
    "                if V < 85:\n",
    "                    EFi_PM10 = 0.0002\n",
    "                    EFi_PM2_5 = k * 0.0002\n",
    "                else:\n",
    "                    EFi_PM10 = 0.0005\n",
    "                    EFi_PM2_5 = k * 0.0005\n",
    "            elif 2003 <= car_birth <= 2005:\n",
    "                if V <= 45:\n",
    "                    EFi_CO = 19.887 * (V**-0.8461)\n",
    "                else:\n",
    "                    EFi_CO = -0.0004 * (V**2) + 0.0911 * V - 2.2698\n",
    "                EFi_HC = 1.1073 * (V**-0.7830)\n",
    "                EFi_NOx = 5.8289 * (V**-0.9198)\n",
    "                if V < 85:\n",
    "                    EFi_PM10 = 0.0002\n",
    "                    EFi_PM2_5 = k * 0.0002\n",
    "                else:\n",
    "                    EFi_PM10 = 0.0005\n",
    "                    EFi_PM2_5 = k * 0.0005\n",
    "            elif 2006 <= car_birth <= 2007:\n",
    "                if V <= 45:\n",
    "                    EFi_CO = 8.9904 * (V**-0.8461)\n",
    "                else:\n",
    "                    EFi_CO = -0.0002 * (V**2) + 0.0457 * V - 1.1403\n",
    "                EFi_HC = 0.3549 * (V**-0.7830)\n",
    "                EFi_NOx = 0.7228 * (V**-0.9198)\n",
    "                if V < 85:\n",
    "                    EFi_PM10 = 0.0002\n",
    "                    EFi_PM2_5 = k * 0.0002\n",
    "                else:\n",
    "                    EFi_PM10 = 0.0005\n",
    "                    EFi_PM2_5 = k * 0.0005\n",
    "            elif car_birth == 2008:\n",
    "                if V <= 79.6:\n",
    "                    EFi_CO = 0.7693 * (V**-0.7666)\n",
    "                    EFi_HC = 0.1063 * (V**-1.0745)\n",
    "                else:\n",
    "                    EFi_CO = 5.0000 * (10**-16) * (V**7.2766)\n",
    "                    EFi_HC = 1.0000 * (10**-15) * (V**6.2696)\n",
    "                EFi_NOx = -4.0000 * (10**-6) * (V**2) + 6.0000 * (10**-4) * V + 5.5000 * (10**-3)\n",
    "                if V < 85:\n",
    "                    EFi_PM10 = 0.0002\n",
    "                    EFi_PM2_5 = k * 0.0002\n",
    "                else:\n",
    "                    EFi_PM10 = 0.0005\n",
    "                    EFi_PM2_5 = k * 0.0005\n",
    "            elif 2009 <= car_birth <= 2011:\n",
    "                if V <= 79.6:\n",
    "                    EFi_CO = 0.7059 * (V**-0.7666)\n",
    "                    EFi_HC = 0.0974 * (V**-1.0745)\n",
    "                else:\n",
    "                    EFi_CO = 4.5878 * (10**-16) * (V**7.2766)\n",
    "                    EFi_HC = 9.1667 * (10**-16) * (V**6.2696)\n",
    "                EFi_NOx = -3.7333 * (10**-6) * (V**2) + 5.6000 * (10**-4) * V + 5.1333 * (10**-3)\n",
    "                if V < 85:\n",
    "                    EFi_PM10 = 0.0002\n",
    "                    EFi_PM2_5 = k * 0.0002\n",
    "                else:\n",
    "                    EFi_PM10 = 0.0005\n",
    "                    EFi_PM2_5 = k * 0.0005\n",
    "            elif 2012 <= car_birth <= 2013:\n",
    "                if V <= 79.6:\n",
    "                    EFi_CO = 0.6830 * (V**-0.7666)\n",
    "                    EFi_HC = 0.0943 * (V**-1.0745)\n",
    "                else:\n",
    "                    EFi_CO = 4.4393 * (10**-16) * (V**7.2766)\n",
    "                    EFi_HC = 8.8667 * (10**-16) * (V**6.2696)\n",
    "                EFi_NOx = -3.6373 * (10**-6) * (V**2) + 5.4560 * (10**-4) * V + 5.0013 * (10**-3)\n",
    "                if V < 85:\n",
    "                    EFi_PM10 = 0.0002\n",
    "                    EFi_PM2_5 = k * 0.0002\n",
    "                else:\n",
    "                    EFi_PM10 = 0.0005\n",
    "                    EFi_PM2_5 = k * 0.0005\n",
    "            elif car_birth == 2014:\n",
    "                if V <= 79.6:\n",
    "                    EFi_CO = 0.6602 * (V**-0.7666)\n",
    "                    EFi_HC = 0.0911 * (V**-1.0745)\n",
    "                else:\n",
    "                    EFi_CO = 4.2909 * (10**-16) * (V**7.2766)\n",
    "                    EFi_HC = 8.5667 * (10**-16) * (V**6.2696)\n",
    "                EFi_NOx = -3.5413 * (10**-6) * (V**2) + 5.3120 * (10**-4) * V + 4.8693 * (10**-3)\n",
    "                if V < 85:\n",
    "                    EFi_PM10 = 0.0002\n",
    "                    EFi_PM2_5 = k * 0.0002\n",
    "                else:\n",
    "                    EFi_PM10 = 0.0005\n",
    "                    EFi_PM2_5 = k * 0.0005\n",
    "            elif 2015 <= car_birth:\n",
    "                if V <= 79.6:\n",
    "                    EFi_CO = 0.6374 * (V**-0.7666)\n",
    "                    EFi_HC = 0.0879 * (V**-1.0745)\n",
    "                else:\n",
    "                    EFi_CO = 4.1425 * (10**-16) * (V**7.2766)\n",
    "                    EFi_HC = 8.2667 * (10**-16) * (V**6.2696)\n",
    "                EFi_NOx = -3.4453 * (10**-6) * (V**2) + 5.1680 * (10**-4) * V + 4.7373 * (10**-3)\n",
    "                if V < 85:\n",
    "                    EFi_PM10 = 0.0002\n",
    "                    EFi_PM2_5 = k * 0.0002\n",
    "                else:\n",
    "                    EFi_PM10 = 0.0005\n",
    "                    EFi_PM2_5 = k * 0.0005\n",
    "        elif (car_type == '승용') and (car_size == '소형'):\n",
    "            if car_birth <= 1990:\n",
    "                EFi_CO = 72.338 * (V**-0.7587)\n",
    "                EFi_HC = 26.532 * (V**-1.0423)\n",
    "                EFi_NOx = 9.3011 * (V**-0.6781)\n",
    "                if V < 85:\n",
    "                    EFi_PM10 = 0.0002\n",
    "                    EFi_PM2_5 = k * 0.0002\n",
    "                else:\n",
    "                    EFi_PM10 = 0.0005\n",
    "                    EFi_PM2_5 = k * 0.0005\n",
    "            elif 1991 <= car_birth == 1996:\n",
    "                EFi_CO = 72.338 * (V**-0.7587)\n",
    "                EFi_HC = 101.79 * (V**-1.6823)\n",
    "                EFi_NOx = 11.287 * (V**-0.7634)\n",
    "                if V < 85:\n",
    "                    EFi_PM10 = 0.0002\n",
    "                    EFi_PM2_5 = k * 0.0002\n",
    "                else:\n",
    "                    EFi_PM10 = 0.0005\n",
    "                    EFi_PM2_5 = k * 0.0005\n",
    "            elif 1997 <= car_birth <= 1999:\n",
    "                EFi_CO = 44.956 * (V**-1.0085)\n",
    "                EFi_HC = 11.173 * (V**-1.3927)\n",
    "                EFi_NOx = 7.5371 * (V**-0.7864)\n",
    "                if V < 85:\n",
    "                    EFi_PM10 = 0.0002\n",
    "                    EFi_PM2_5 = k * 0.0002\n",
    "                else:\n",
    "                    EFi_PM10 = 0.0005\n",
    "                    EFi_PM2_5 = k * 0.0005\n",
    "            elif 2000 <= car_birth <= 2002:\n",
    "                EFi_CO = 44.956 * (V**-1.0085)\n",
    "                EFi_HC = 11.173 * (V**-1.3927)\n",
    "                EFi_NOx = 4.7108 * (V**-0.7864)\n",
    "                if V < 85:\n",
    "                    EFi_PM10 = 0.0002\n",
    "                    EFi_PM2_5 = k * 0.0002\n",
    "                else:\n",
    "                    EFi_PM10 = 0.0005\n",
    "                    EFi_PM2_5 = k * 0.0005\n",
    "            elif 2003 <= car_birth <= 2005:\n",
    "                EFi_CO = 44.956 * (V**-1.0085)\n",
    "                EFi_HC = 3.2821 * (V**-1.3927)\n",
    "                EFi_NOx = 4.7108 * (V**-0.7864)\n",
    "                if V < 85:\n",
    "                    EFi_PM10 = 0.0002\n",
    "                    EFi_PM2_5 = k * 0.0002\n",
    "                else:\n",
    "                    EFi_PM10 = 0.0005\n",
    "                    EFi_PM2_5 = k * 0.0005\n",
    "            elif 2006 <= car_birth <= 2007:\n",
    "                EFi_CO = 39.362 * (V**-1.0085)\n",
    "                EFi_HC = 2.8981 * (V**-1.3927)\n",
    "                EFi_NOx = 1.8419 * (V**-0.7864)\n",
    "                if V < 85:\n",
    "                    EFi_PM10 = 0.0002\n",
    "                    EFi_PM2_5 = k * 0.0002\n",
    "                else:\n",
    "                    EFi_PM10 = 0.0005\n",
    "                    EFi_PM2_5 = k * 0.0005\n",
    "            elif car_birth == 2008:\n",
    "                if V <= 79.6:\n",
    "                    EFi_CO = 0.7693 * (V**-0.7666)\n",
    "                    EFi_HC = 0.1063 * (V**-1.0745)\n",
    "                else:\n",
    "                    EFi_CO = 5.0000 * (10**-16) * (V**7.2766)\n",
    "                    EFi_HC = 1.0000 * (10**-15) * (V**6.2696)\n",
    "                EFi_NOx = -4.0000 * (10**-6) * (V**2) + 6.0000 * (10**-4) * V + 5.5000 * (10**-3)\n",
    "                if V < 85:\n",
    "                    EFi_PM10 = 0.0002\n",
    "                    EFi_PM2_5 = k * 0.0002\n",
    "                else:\n",
    "                    EFi_PM10 = 0.0005\n",
    "                    EFi_PM2_5 = k * 0.0005\n",
    "            elif 2009 <= car_birth <= 2011:\n",
    "                if V <= 79.6:\n",
    "                    EFi_CO = 0.7059 * (V**-0.7666)\n",
    "                    EFi_HC = 0.0974 * (V**-1.0745)\n",
    "                else:\n",
    "                    EFi_CO = 4.5878 * (10**-16) * (V**7.2766)\n",
    "                    EFi_HC = 9.1667 * (10**-16) * (V**6.2696)\n",
    "                EFi_NOx = -3.7333 * (10**-6) * (V**2) + 5.6000 * (10**-4) * V + 5.1333 * (10**-3)\n",
    "                if V < 85:\n",
    "                    EFi_PM10 = 0.0002\n",
    "                    EFi_PM2_5 = k * 0.0002\n",
    "                else:\n",
    "                    EFi_PM10 = 0.0005\n",
    "                    EFi_PM2_5 = k * 0.0005\n",
    "            elif 2012 <= car_birth <= 2013:\n",
    "                if V <= 79.6:\n",
    "                    EFi_CO = 0.6830 * (V**-0.7666)\n",
    "                    EFi_HC = 0.0943 * (V**-1.0745)\n",
    "                else:\n",
    "                    EFi_CO = 4.4393 * (10**-16) * (V**7.2766)\n",
    "                    EFi_HC = 8.8667 * (10**-16) * (V**6.2696)\n",
    "                EFi_NOx = -3.6373 * (10**-6) * (V**2) + 5.4560 * (10**-4) * V + 5.0013 * (10**-3)\n",
    "                if V < 85:\n",
    "                    EFi_PM10 = 0.0002\n",
    "                    EFi_PM2_5 = k * 0.0002\n",
    "                else:\n",
    "                    EFi_PM10 = 0.0005\n",
    "                    EFi_PM2_5 = k * 0.0005\n",
    "            elif car_birth == 2014:\n",
    "                if V <= 79.6:\n",
    "                    EFi_CO = 0.6602 * (V**-0.7666)\n",
    "                    EFi_HC = 0.0911 * (V**-1.0745)\n",
    "                else:\n",
    "                    EFi_CO = 4.2909 * (10**-16) * (V**7.2766)\n",
    "                    EFi_HC = 8.5667 * (10**-16) * (V**6.2696)\n",
    "                EFi_NOx = -3.5413 * (10**-6) * (V**2) + 5.3120 * (10**-4) * V + 4.8693 * (10**-3)\n",
    "                if V < 85:\n",
    "                    EFi_PM10 = 0.0002\n",
    "                    EFi_PM2_5 = k * 0.0002\n",
    "                else:\n",
    "                    EFi_PM10 = 0.0005\n",
    "                    EFi_PM2_5 = k * 0.0005\n",
    "            elif 2015 <= car_birth:\n",
    "                if V <= 79.6:\n",
    "                    EFi_CO = 0.6374 * (V**-0.7666)\n",
    "                    EFi_HC = 0.0879 * (V**-1.0745)\n",
    "                else:\n",
    "                    EFi_CO = 4.1425 * (10**-16) * (V**7.2766)\n",
    "                    EFi_HC = 8.2667 * (10**-16) * (V**6.2696)\n",
    "                EFi_NOx = -3.4453 * (10**-6) * (V**2) + 5.1680 * (10**-4) * V + 4.7373 * (10**-3)\n",
    "                if V < 85:\n",
    "                    EFi_PM10 = 0.0002\n",
    "                    EFi_PM2_5 = k * 0.0002\n",
    "                else:\n",
    "                    EFi_PM10 = 0.0005\n",
    "                    EFi_PM2_5 = k * 0.0005\n",
    "        elif ( (car_type == '승용') and ( (car_size == '중형') or (car_size == '대형') ) or ( (car_type == '특수') and (car_size == '중형') ) ): # 최 확인(2023.04.20) : 특수 중형 -> 승용 중형 조건으로 계산\n",
    "            if car_birth <= 1990:\n",
    "                EFi_CO = 72.338 * (V**-0.7587)\n",
    "                EFi_HC = 26.532 * (V**-1.0423)\n",
    "                EFi_NOx = 9.3011 * (V**-0.6781)\n",
    "                if V < 85:\n",
    "                    EFi_PM10 = 0.0002\n",
    "                    EFi_PM2_5 = k * 0.0002\n",
    "                else:\n",
    "                    EFi_PM10 = 0.0005\n",
    "                    EFi_PM2_5 = k * 0.0005\n",
    "            elif 1991 <= car_birth == 1996:\n",
    "                EFi_CO = 29.825 * (V**-0.6771)\n",
    "                EFi_HC = 26.520 * (V**-1.4041)\n",
    "                EFi_NOx = 11.287 * (V**-0.7634)\n",
    "                if V < 85:\n",
    "                    EFi_PM10 = 0.0002\n",
    "                    EFi_PM2_5 = k * 0.0002\n",
    "                else:\n",
    "                    EFi_PM10 = 0.0005\n",
    "                    EFi_PM2_5 = k * 0.0005\n",
    "            elif 1997 <= car_birth <= 1999:\n",
    "                EFi_CO = 29.825 * (V**-0.6771)\n",
    "                EFi_HC = 4.7595 * (V**-0.9512)\n",
    "                EFi_NOx = 12.562 * (V**-0.8606)\n",
    "                if V < 85:\n",
    "                    EFi_PM10 = 0.0002\n",
    "                    EFi_PM2_5 = k * 0.0002\n",
    "                else:\n",
    "                    EFi_PM10 = 0.0005\n",
    "                    EFi_PM2_5 = k * 0.0005\n",
    "            elif 2000 <= car_birth <= 2005:\n",
    "                EFi_CO = 17.829 * (V**-0.6778)\n",
    "                EFi_HC = 6.3668 * (V**-1.2849)\n",
    "                EFi_NOx = 8.8952 * (V**-0.8119)\n",
    "                if V < 85:\n",
    "                    EFi_PM10 = 0.0002\n",
    "                    EFi_PM2_5 = k * 0.0002\n",
    "                else:\n",
    "                    EFi_PM10 = 0.0005\n",
    "                    EFi_PM2_5 = k * 0.0005\n",
    "            elif 2006 <= car_birth <= 2007:\n",
    "                EFi_CO = 73.022 * (V**-1.2078)\n",
    "                EFi_HC = 4.4166 * (V**-1.5356)\n",
    "                EFi_NOx = 2.0280 * (V**-0.7978)\n",
    "                if V < 85:\n",
    "                    EFi_PM10 = 0.0002\n",
    "                    EFi_PM2_5 = k * 0.0002\n",
    "                else:\n",
    "                    EFi_PM10 = 0.0005\n",
    "                    EFi_PM2_5 = k * 0.0005\n",
    "            elif car_birth == 2008:\n",
    "                if V <= 79.6:\n",
    "                    EFi_CO = 0.7693 * (V**-0.7666)\n",
    "                    EFi_HC = 0.1063 * (V**-1.0745)\n",
    "                else:\n",
    "                    EFi_CO = 5.0000 * (10**-16) * (V**7.2766)\n",
    "                    EFi_HC = 1.0000 * (10**-15) * (V**6.2696)\n",
    "                EFi_NOx = -4.0000 * (10**-6) * (V**2) + 6.0000 * (10**-4) * V + 5.5000 * (10**-3)\n",
    "                if V < 85:\n",
    "                    EFi_PM10 = 0.0002\n",
    "                    EFi_PM2_5 = k * 0.0002\n",
    "                else:\n",
    "                    EFi_PM10 = 0.0005\n",
    "                    EFi_PM2_5 = k * 0.0005\n",
    "            elif 2009 <= car_birth <= 2011:\n",
    "                if V <= 79.6:\n",
    "                    EFi_CO = 0.7059 * (V**-0.7666)\n",
    "                    EFi_HC = 0.0974 * (V**-1.0745)\n",
    "                else:\n",
    "                    EFi_CO = 4.5878 * (10**-16) * (V**7.2766)\n",
    "                    EFi_HC = 9.1667 * (10**-16) * (V**6.2696)\n",
    "                EFi_NOx = -3.7333 * (10**-6) * (V**2) + 5.6000 * (10**-4) * V + 5.1333 * (10**-3)\n",
    "                if V < 85:\n",
    "                    EFi_PM10 = 0.0002\n",
    "                    EFi_PM2_5 = k * 0.0002\n",
    "                else:\n",
    "                    EFi_PM10 = 0.0005\n",
    "                    EFi_PM2_5 = k * 0.0005\n",
    "            elif 2012 <= car_birth <= 2013:\n",
    "                if V <= 79.6:\n",
    "                    EFi_CO = 0.6830 * (V**-0.7666)\n",
    "                    EFi_HC = 0.0943 * (V**-1.0745)\n",
    "                else:\n",
    "                    EFi_CO = 4.4393 * (10**-16) * (V**7.2766)\n",
    "                    EFi_HC = 8.8667 * (10**-16) * (V**6.2696)\n",
    "                EFi_NOx = -3.6373 * (10**-6) * (V**2) + 5.4560 * (10**-4) * V + 5.0013 * (10**-3)\n",
    "                if V < 85:\n",
    "                    EFi_PM10 = 0.0002\n",
    "                    EFi_PM2_5 = k * 0.0002\n",
    "                else:\n",
    "                    EFi_PM10 = 0.0005\n",
    "                    EFi_PM2_5 = k * 0.0005\n",
    "            elif car_birth == 2014:\n",
    "                if V <= 79.6:\n",
    "                    EFi_CO = 0.6602 * (V**-0.7666)\n",
    "                    EFi_HC = 0.0911 * (V**-1.0745)\n",
    "                else:\n",
    "                    EFi_CO = 4.2909 * (10**-16) * (V**7.2766)\n",
    "                    EFi_HC = 8.5667 * (10**-16) * (V**6.2696)\n",
    "                EFi_NOx = -3.5413 * (10**-6) * (V**2) + 5.3120 * (10**-4) * V + 4.8693 * (10**-3)\n",
    "                if V < 85:\n",
    "                    EFi_PM10 = 0.0002\n",
    "                    EFi_PM2_5 = k * 0.0002\n",
    "                else:\n",
    "                    EFi_PM10 = 0.0005\n",
    "                    EFi_PM2_5 = k * 0.0005\n",
    "            elif 2015 <= car_birth:\n",
    "                if V <= 79.6:\n",
    "                    EFi_CO = 0.6374 * (V**-0.7666)\n",
    "                    EFi_HC = 0.0879 * (V**-1.0745)\n",
    "                else:\n",
    "                    EFi_CO = 4.1425 * (10**-16) * (V**7.2766)\n",
    "                    EFi_HC = 8.2667 * (10**-16) * (V**6.2696)\n",
    "                EFi_NOx = -3.4453 * (10**-6) * (V**2) + 5.1680 * (10**-4) * V + 4.7373 * (10**-3)\n",
    "                if V < 85:\n",
    "                    EFi_PM10 = 0.0002\n",
    "                    EFi_PM2_5 = k * 0.0002\n",
    "                else:\n",
    "                    EFi_PM10 = 0.0005\n",
    "                    EFi_PM2_5 = k * 0.0005\n",
    "        elif ( (car_type == '승합') and (car_size == '경형') ) or ( (car_type == '화물') and (car_size == '경형') ):\n",
    "            if car_birth <= 1996:\n",
    "                if V <= 45:\n",
    "                    EFi_CO = 22.498 * (V**-0.6579)\n",
    "                else:\n",
    "                    EFi_CO = 0.0006 * (V**2) + 0.0004 * V + 0.8272\n",
    "                EFi_HC = 12.961 * (V**-0.8364)\n",
    "                EFi_NOx = 4.0131 * (V**-0.3236)\n",
    "                if V < 85:\n",
    "                    EFi_PM10 = 0.0002\n",
    "                    EFi_PM2_5 = k * 0.0002\n",
    "                else:\n",
    "                    EFi_PM10 = 0.0005\n",
    "                    EFi_PM2_5 = k * 0.0005\n",
    "            elif 1997 <= car_birth == 1999:\n",
    "                if V <= 45:\n",
    "                    EFi_CO = 19.887 * (V**-0.8461)\n",
    "                else:\n",
    "                    EFi_CO = -0.0004 * (V**2) + 0.0911 * V - 2.2698\n",
    "                EFi_HC = 2.2714 * (V**-0.7830)\n",
    "                EFi_NOx = 1.8528 * (V**-0.3889)\n",
    "                if V < 85:\n",
    "                    EFi_PM10 = 0.0002\n",
    "                    EFi_PM2_5 = k * 0.0002\n",
    "                else:\n",
    "                    EFi_PM10 = 0.0005\n",
    "                    EFi_PM2_5 = k * 0.0005\n",
    "            elif 2000 <= car_birth <= 2002:\n",
    "                if V <= 45:\n",
    "                    EFi_CO = 19.887 * (V**-0.8461)\n",
    "                else:\n",
    "                    EFi_CO = -0.0004 * (V**2) + 0.0911 * V - 2.2698\n",
    "                EFi_HC = 2.2714 * (V**-0.7830)\n",
    "                EFi_NOx = 5.8289 * (V**-0.9198)\n",
    "                if V < 85:\n",
    "                    EFi_PM10 = 0.0002\n",
    "                    EFi_PM2_5 = k * 0.0002\n",
    "                else:\n",
    "                    EFi_PM10 = 0.0005\n",
    "                    EFi_PM2_5 = k * 0.0005\n",
    "            elif 2003 <= car_birth <= 2005:\n",
    "                if V <= 45:\n",
    "                    EFi_CO = 19.887 * (V**-0.8461)\n",
    "                else:\n",
    "                    EFi_CO = -0.0004 * (V**2) + 0.0911 * V - 2.2698\n",
    "                EFi_HC = 1.1073 * (V**-0.7830)\n",
    "                EFi_NOx = 5.8289 * (V**-0.9198)\n",
    "                if V < 85:\n",
    "                    EFi_PM10 = 0.0002\n",
    "                    EFi_PM2_5 = k * 0.0002\n",
    "                else:\n",
    "                    EFi_PM10 = 0.0005\n",
    "                    EFi_PM2_5 = k * 0.0005\n",
    "            elif 2006 <= car_birth:\n",
    "                if V <= 45:\n",
    "                    EFi_CO = 8.9904 * (V**-0.8461)\n",
    "                else:\n",
    "                    EFi_CO = -0.0002 * (V**2) + 0.0457 * V - 1.1403\n",
    "                EFi_HC = 0.3549 * (V**-0.7830)\n",
    "                EFi_NOx = 0.7228 * (V**-0.9198)\n",
    "                if V < 85:\n",
    "                    EFi_PM10 = 0.0002\n",
    "                    EFi_PM2_5 = k * 0.0002\n",
    "                else:\n",
    "                    EFi_PM10 = 0.0005\n",
    "                    EFi_PM2_5 = k * 0.0005\n",
    "        elif (car_type == '승합') and (car_size == '소형'):\n",
    "            if car_birth <= 1990:\n",
    "                EFi_CO = 72.338 * (V**-0.7587)\n",
    "                EFi_HC = 26.532 * (V**-1.0423)\n",
    "                EFi_NOx = 9.3011 * (V**-0.6781)\n",
    "                if V < 85:\n",
    "                    EFi_PM10 = 0.0002\n",
    "                    EFi_PM2_5 = k * 0.0002\n",
    "                else:\n",
    "                    EFi_PM10 = 0.0005\n",
    "                    EFi_PM2_5 = k * 0.0005\n",
    "            elif 1991 <= car_birth == 1996:\n",
    "                EFi_CO = 29.825 * (V**-0.6771)\n",
    "                EFi_HC = 26.520 * (V**-1.4041)\n",
    "                EFi_NOx = 11.287 * (V**-0.7634)\n",
    "                if V < 85:\n",
    "                    EFi_PM10 = 0.0002\n",
    "                    EFi_PM2_5 = k * 0.0002\n",
    "                else:\n",
    "                    EFi_PM10 = 0.0005\n",
    "                    EFi_PM2_5 = k * 0.0005\n",
    "            elif 1997 <= car_birth <= 1999:\n",
    "                EFi_CO = 29.825 * (V**-0.6771)\n",
    "                EFi_HC = 4.7595 * (V**-0.9512)\n",
    "                EFi_NOx = 12.562 * (V**-0.8606)\n",
    "                if V < 85:\n",
    "                    EFi_PM10 = 0.0002\n",
    "                    EFi_PM2_5 = k * 0.0002\n",
    "                else:\n",
    "                    EFi_PM10 = 0.0005\n",
    "                    EFi_PM2_5 = k * 0.0005\n",
    "            elif 2000 <= car_birth <= 2005:\n",
    "                EFi_CO = 17.829 * (V**-0.6778)\n",
    "                EFi_HC = 6.3668 * (V**-1.2849)\n",
    "                EFi_NOx = 8.8952 * (V**-0.8119)\n",
    "                if V < 85:\n",
    "                    EFi_PM10 = 0.0002\n",
    "                    EFi_PM2_5 = k * 0.0002\n",
    "                else:\n",
    "                    EFi_PM10 = 0.0005\n",
    "                    EFi_PM2_5 = k * 0.0005\n",
    "            elif 2006 <= car_birth:\n",
    "                if V <= 65.4:\n",
    "                    EFi_CO = 6.1701 * (V**-1.0719)\n",
    "                    EFi_HC = 2.3782 * (V**-1.9979)\n",
    "                else:\n",
    "                    EFi_CO = 3.0000 * (10**-10) * (V**4.5809)\n",
    "                    EFi_HC = 5.0000 * (10**-10) * (V**3.4895)\n",
    "                if V <= 97.3:\n",
    "                    EFi_NOx = 0.4758 * (V**-1.0665)\n",
    "                if V < 85:\n",
    "                    EFi_PM10 = 0.0002\n",
    "                    EFi_PM2_5 = k * 0.0002\n",
    "                else:\n",
    "                    EFi_PM10 = 0.0005\n",
    "                    EFi_PM2_5 = k * 0.0005\n",
    "        # 최 확인(2023.04.20) : 화물 중형 -> 승합 중형 조건, 화물 대형 -> 승합 대형 조건으로 계산\n",
    "        elif ( (car_type == '승합') and ( (car_size == '중형') or (car_size == '대형') ) ) or ( (car_type == '화물') and ((car_size == '소형') or (car_size == '중형') or (car_size == '대형')) ):\n",
    "            if car_birth <= 1990:\n",
    "                EFi_CO = 72.338 * (V**-0.7587)\n",
    "                EFi_HC = 26.532 * (V**-1.0423)\n",
    "                EFi_NOx = 9.3011 * (V**-0.6781)\n",
    "                if V < 85:\n",
    "                    EFi_PM10 = 0.0002\n",
    "                    EFi_PM2_5 = k * 0.0002\n",
    "                else:\n",
    "                    EFi_PM10 = 0.0005\n",
    "                    EFi_PM2_5 = k * 0.0005\n",
    "            elif 1991 <= car_birth == 1996:\n",
    "                EFi_CO = 29.825 * (V**-0.6771)\n",
    "                EFi_HC = 26.520 * (V**-1.4041)\n",
    "                EFi_NOx = 11.287 * (V**-0.7634)\n",
    "                if V < 85:\n",
    "                    EFi_PM10 = 0.0002\n",
    "                    EFi_PM2_5 = k * 0.0002\n",
    "                else:\n",
    "                    EFi_PM10 = 0.0005\n",
    "                    EFi_PM2_5 = k * 0.0005\n",
    "            elif 1997 <= car_birth <= 1999:\n",
    "                EFi_CO = 29.825 * (V**-0.6771)\n",
    "                EFi_HC = 4.7595 * (V**-0.9512)\n",
    "                EFi_NOx = 12.562 * (V**-0.8606)\n",
    "                if V < 85:\n",
    "                    EFi_PM10 = 0.0002\n",
    "                    EFi_PM2_5 = k * 0.0002\n",
    "                else:\n",
    "                    EFi_PM10 = 0.0005\n",
    "                    EFi_PM2_5 = k * 0.0005\n",
    "            elif 2000 <= car_birth <= 2005:\n",
    "                EFi_CO = 17.829 * (V**-0.6778)\n",
    "                EFi_HC = 6.3668 * (V**-1.2849)\n",
    "                EFi_NOx = 8.8952 * (V**-0.8119)\n",
    "                if V < 85:\n",
    "                    EFi_PM10 = 0.0002\n",
    "                    EFi_PM2_5 = k * 0.0002\n",
    "                else:\n",
    "                    EFi_PM10 = 0.0005\n",
    "                    EFi_PM2_5 = k * 0.0005\n",
    "            elif 2006 <= car_birth:\n",
    "                if V <= 65.4:\n",
    "                    EFi_CO = 16.491 * (V**-1.4713)\n",
    "                    EFi_HC = 1.9218 * (V**-1.8418)\n",
    "                else:\n",
    "                    EFi_CO = 3.0000 * (10**-13) * (V**6.0619)\n",
    "                    EFi_HC = 3.0000 * (10**-9) * (V**3.0639)\n",
    "                if V <= 97.3:\n",
    "                    EFi_NOx = 0.1246 * (V**-0.441)\n",
    "                if V < 85:\n",
    "                    EFi_PM10 = 0.0002\n",
    "                    EFi_PM2_5 = k * 0.0002\n",
    "                else:\n",
    "                    EFi_PM10 = 0.0005\n",
    "                    EFi_PM2_5 = k * 0.0005\n",
    "    else:\n",
    "        # 값 고민 : 1\n",
    "        # EFi_CO, EFi_HC, EFi_NOx, EFi_PM10, EFi_PM2_5 = np.nan, np.nan, np.nan, np.nan, np.nan\n",
    "        EFi_CO, EFi_HC, EFi_NOx, EFi_PM10, EFi_PM2_5 = 1, 1, 1, 1, 1\n",
    "\n",
    "    # 배출계수(EFi) 리스트에 저장\n",
    "    EFi_CO_list.append(EFi_CO)\n",
    "    EFi_HC_list.append(EFi_HC)\n",
    "    EFi_NOx_list.append(EFi_NOx)\n",
    "    EFi_PM10_list.append(EFi_PM10)\n",
    "    EFi_PM2_5_list.append(EFi_PM2_5)"
   ]
  },
  {
   "cell_type": "code",
   "execution_count": 250,
   "metadata": {},
   "outputs": [
    {
     "data": {
      "text/plain": [
       "25117108"
      ]
     },
     "execution_count": 250,
     "metadata": {},
     "output_type": "execute_result"
    }
   ],
   "source": [
    "df2.shape[0]"
   ]
  },
  {
   "cell_type": "code",
   "execution_count": 251,
   "metadata": {},
   "outputs": [
    {
     "data": {
      "text/plain": [
       "(25117108, 25117108, 25117108, 25117108, 25117108)"
      ]
     },
     "execution_count": 251,
     "metadata": {},
     "output_type": "execute_result"
    }
   ],
   "source": [
    "len(EFi_CO_list), len(EFi_HC_list), len(EFi_NOx_list), len(EFi_PM10_list), len(EFi_PM2_5_list)"
   ]
  },
  {
   "cell_type": "code",
   "execution_count": 252,
   "metadata": {},
   "outputs": [],
   "source": [
    "df2['EFi_CO'] = EFi_CO_list\n",
    "df2['EFi_HC'] = EFi_HC_list\n",
    "df2['EFi_NOx'] = EFi_NOx_list\n",
    "df2['EFi_PM10'] = EFi_PM10_list\n",
    "df2['EFi_PM2_5'] = EFi_PM2_5_list"
   ]
  },
  {
   "cell_type": "code",
   "execution_count": 253,
   "metadata": {},
   "outputs": [],
   "source": [
    "check_EFi_col = ['EFi_CO', 'EFi_HC', 'EFi_NOx', 'EFi_PM10', 'EFi_PM2_5']"
   ]
  },
  {
   "attachments": {},
   "cell_type": "markdown",
   "metadata": {},
   "source": [
    "### 배출량 계산"
   ]
  },
  {
   "cell_type": "code",
   "execution_count": 254,
   "metadata": {},
   "outputs": [
    {
     "data": {
      "text/plain": [
       "['fuel',\n",
       " '차종',\n",
       " '차종유형',\n",
       " '차량연식',\n",
       " '차령',\n",
       " 'DF_CO',\n",
       " 'DF_HC',\n",
       " 'DF_PM',\n",
       " 'DF_NOx',\n",
       " 'R_CO',\n",
       " 'R_HC',\n",
       " 'R_PM']"
      ]
     },
     "execution_count": 254,
     "metadata": {},
     "output_type": "execute_result"
    }
   ],
   "source": [
    "DF_col + check_DF_col + check_R_col"
   ]
  },
  {
   "cell_type": "code",
   "execution_count": 255,
   "metadata": {},
   "outputs": [
    {
     "data": {
      "text/html": [
       "<div>\n",
       "<style scoped>\n",
       "    .dataframe tbody tr th:only-of-type {\n",
       "        vertical-align: middle;\n",
       "    }\n",
       "\n",
       "    .dataframe tbody tr th {\n",
       "        vertical-align: top;\n",
       "    }\n",
       "\n",
       "    .dataframe thead th {\n",
       "        text-align: right;\n",
       "    }\n",
       "</style>\n",
       "<table border=\"1\" class=\"dataframe\">\n",
       "  <thead>\n",
       "    <tr style=\"text-align: right;\">\n",
       "      <th></th>\n",
       "      <th>fuel</th>\n",
       "      <th>차종</th>\n",
       "      <th>차종유형</th>\n",
       "      <th>차량연식</th>\n",
       "      <th>차령</th>\n",
       "      <th>DF_CO</th>\n",
       "      <th>DF_HC</th>\n",
       "      <th>DF_PM</th>\n",
       "      <th>DF_NOx</th>\n",
       "      <th>R_CO</th>\n",
       "      <th>R_HC</th>\n",
       "      <th>R_PM</th>\n",
       "      <th>EFi_CO</th>\n",
       "      <th>EFi_HC</th>\n",
       "      <th>EFi_NOx</th>\n",
       "      <th>EFi_PM10</th>\n",
       "      <th>EFi_PM2_5</th>\n",
       "    </tr>\n",
       "  </thead>\n",
       "  <tbody>\n",
       "    <tr>\n",
       "      <th>0</th>\n",
       "      <td>휘발유</td>\n",
       "      <td>승용</td>\n",
       "      <td>소형</td>\n",
       "      <td>1976</td>\n",
       "      <td>47</td>\n",
       "      <td>2.00</td>\n",
       "      <td>2.00</td>\n",
       "      <td>2.00</td>\n",
       "      <td>2.00</td>\n",
       "      <td>0.00</td>\n",
       "      <td>0.00</td>\n",
       "      <td>0.00</td>\n",
       "      <td>17.38</td>\n",
       "      <td>2.12</td>\n",
       "      <td>1.25</td>\n",
       "      <td>0.00</td>\n",
       "      <td>0.00</td>\n",
       "    </tr>\n",
       "    <tr>\n",
       "      <th>1</th>\n",
       "      <td>휘발유</td>\n",
       "      <td>승용</td>\n",
       "      <td>경형</td>\n",
       "      <td>1968</td>\n",
       "      <td>55</td>\n",
       "      <td>2.00</td>\n",
       "      <td>2.00</td>\n",
       "      <td>2.00</td>\n",
       "      <td>2.00</td>\n",
       "      <td>0.00</td>\n",
       "      <td>0.00</td>\n",
       "      <td>0.00</td>\n",
       "      <td>1.10</td>\n",
       "      <td>0.27</td>\n",
       "      <td>0.74</td>\n",
       "      <td>0.00</td>\n",
       "      <td>0.00</td>\n",
       "    </tr>\n",
       "    <tr>\n",
       "      <th>2</th>\n",
       "      <td>휘발유</td>\n",
       "      <td>승용</td>\n",
       "      <td>소형</td>\n",
       "      <td>1976</td>\n",
       "      <td>47</td>\n",
       "      <td>2.00</td>\n",
       "      <td>2.00</td>\n",
       "      <td>2.00</td>\n",
       "      <td>2.00</td>\n",
       "      <td>0.00</td>\n",
       "      <td>0.00</td>\n",
       "      <td>0.00</td>\n",
       "      <td>17.38</td>\n",
       "      <td>2.12</td>\n",
       "      <td>1.25</td>\n",
       "      <td>0.00</td>\n",
       "      <td>0.00</td>\n",
       "    </tr>\n",
       "    <tr>\n",
       "      <th>3</th>\n",
       "      <td>경유</td>\n",
       "      <td>화물</td>\n",
       "      <td>중형</td>\n",
       "      <td>1971</td>\n",
       "      <td>52</td>\n",
       "      <td>1.50</td>\n",
       "      <td>1.50</td>\n",
       "      <td>1.50</td>\n",
       "      <td>1.20</td>\n",
       "      <td>0.00</td>\n",
       "      <td>0.00</td>\n",
       "      <td>0.00</td>\n",
       "      <td>3.72</td>\n",
       "      <td>0.92</td>\n",
       "      <td>5.17</td>\n",
       "      <td>0.41</td>\n",
       "      <td>0.37</td>\n",
       "    </tr>\n",
       "    <tr>\n",
       "      <th>4</th>\n",
       "      <td>휘발유</td>\n",
       "      <td>승용</td>\n",
       "      <td>소형</td>\n",
       "      <td>1986</td>\n",
       "      <td>37</td>\n",
       "      <td>2.00</td>\n",
       "      <td>2.00</td>\n",
       "      <td>2.00</td>\n",
       "      <td>2.00</td>\n",
       "      <td>0.00</td>\n",
       "      <td>0.00</td>\n",
       "      <td>0.00</td>\n",
       "      <td>17.38</td>\n",
       "      <td>2.12</td>\n",
       "      <td>1.25</td>\n",
       "      <td>0.00</td>\n",
       "      <td>0.00</td>\n",
       "    </tr>\n",
       "  </tbody>\n",
       "</table>\n",
       "</div>"
      ],
      "text/plain": [
       "  fuel  차종 차종유형  차량연식  차령  DF_CO  DF_HC  DF_PM  DF_NOx  R_CO  R_HC  R_PM   \n",
       "0  휘발유  승용   소형  1976  47   2.00   2.00   2.00    2.00  0.00  0.00  0.00  \\\n",
       "1  휘발유  승용   경형  1968  55   2.00   2.00   2.00    2.00  0.00  0.00  0.00   \n",
       "2  휘발유  승용   소형  1976  47   2.00   2.00   2.00    2.00  0.00  0.00  0.00   \n",
       "3   경유  화물   중형  1971  52   1.50   1.50   1.50    1.20  0.00  0.00  0.00   \n",
       "4  휘발유  승용   소형  1986  37   2.00   2.00   2.00    2.00  0.00  0.00  0.00   \n",
       "\n",
       "   EFi_CO  EFi_HC  EFi_NOx  EFi_PM10  EFi_PM2_5  \n",
       "0   17.38    2.12     1.25      0.00       0.00  \n",
       "1    1.10    0.27     0.74      0.00       0.00  \n",
       "2   17.38    2.12     1.25      0.00       0.00  \n",
       "3    3.72    0.92     5.17      0.41       0.37  \n",
       "4   17.38    2.12     1.25      0.00       0.00  "
      ]
     },
     "execution_count": 255,
     "metadata": {},
     "output_type": "execute_result"
    }
   ],
   "source": [
    "df2[DF_col + check_DF_col + check_R_col + check_EFi_col].head()"
   ]
  },
  {
   "cell_type": "code",
   "execution_count": 256,
   "metadata": {},
   "outputs": [],
   "source": [
    "# E = VKT * (EFi / 1000) * DF * (1 - R / 100)\n",
    "df2['E_HOT_CO'] = df2['VKT'] * (df2['EFi_CO'] / 1000) * df2['DF_CO'] * (1 - df2['R_CO'] / 100)\n",
    "df2['E_HOT_HC'] = df2['VKT'] * (df2['EFi_HC'] / 1000) * df2['DF_HC'] * (1 - df2['R_HC'] / 100)\n",
    "df2['E_HOT_NOx'] = df2['VKT'] * (df2['EFi_NOx'] / 1000) * df2['DF_NOx'] * (1 - 0 / 100)\n",
    "df2['E_HOT_PM10'] = df2['VKT'] * (df2['EFi_PM10'] / 1000) * df2['DF_PM'] * (1 - df2['R_PM'] / 100)\n",
    "df2['E_HOT_PM2_5'] = df2['VKT'] * (df2['EFi_PM2_5'] / 1000) * df2['DF_PM'] * (1 - df2['R_PM'] / 100)"
   ]
  },
  {
   "cell_type": "code",
   "execution_count": 257,
   "metadata": {},
   "outputs": [],
   "source": [
    "check_E_HOT_col = ['E_HOT_CO', 'E_HOT_HC', 'E_HOT_NOx', 'E_HOT_PM10', 'E_HOT_PM2_5']"
   ]
  },
  {
   "cell_type": "code",
   "execution_count": 258,
   "metadata": {},
   "outputs": [
    {
     "data": {
      "text/html": [
       "<div>\n",
       "<style scoped>\n",
       "    .dataframe tbody tr th:only-of-type {\n",
       "        vertical-align: middle;\n",
       "    }\n",
       "\n",
       "    .dataframe tbody tr th {\n",
       "        vertical-align: top;\n",
       "    }\n",
       "\n",
       "    .dataframe thead th {\n",
       "        text-align: right;\n",
       "    }\n",
       "</style>\n",
       "<table border=\"1\" class=\"dataframe\">\n",
       "  <thead>\n",
       "    <tr style=\"text-align: right;\">\n",
       "      <th></th>\n",
       "      <th>fuel</th>\n",
       "      <th>차종</th>\n",
       "      <th>차종유형</th>\n",
       "      <th>차량연식</th>\n",
       "      <th>차령</th>\n",
       "      <th>DF_CO</th>\n",
       "      <th>DF_HC</th>\n",
       "      <th>DF_PM</th>\n",
       "      <th>DF_NOx</th>\n",
       "      <th>R_CO</th>\n",
       "      <th>...</th>\n",
       "      <th>EFi_CO</th>\n",
       "      <th>EFi_HC</th>\n",
       "      <th>EFi_NOx</th>\n",
       "      <th>EFi_PM10</th>\n",
       "      <th>EFi_PM2_5</th>\n",
       "      <th>E_HOT_CO</th>\n",
       "      <th>E_HOT_HC</th>\n",
       "      <th>E_HOT_NOx</th>\n",
       "      <th>E_HOT_PM10</th>\n",
       "      <th>E_HOT_PM2_5</th>\n",
       "    </tr>\n",
       "  </thead>\n",
       "  <tbody>\n",
       "    <tr>\n",
       "      <th>0</th>\n",
       "      <td>휘발유</td>\n",
       "      <td>승용</td>\n",
       "      <td>소형</td>\n",
       "      <td>1976</td>\n",
       "      <td>47</td>\n",
       "      <td>2.00</td>\n",
       "      <td>2.00</td>\n",
       "      <td>2.00</td>\n",
       "      <td>2.00</td>\n",
       "      <td>0.00</td>\n",
       "      <td>...</td>\n",
       "      <td>17.38</td>\n",
       "      <td>2.12</td>\n",
       "      <td>1.25</td>\n",
       "      <td>0.00</td>\n",
       "      <td>0.00</td>\n",
       "      <td>405.90</td>\n",
       "      <td>49.49</td>\n",
       "      <td>29.31</td>\n",
       "      <td>0.01</td>\n",
       "      <td>0.01</td>\n",
       "    </tr>\n",
       "    <tr>\n",
       "      <th>1</th>\n",
       "      <td>휘발유</td>\n",
       "      <td>승용</td>\n",
       "      <td>경형</td>\n",
       "      <td>1968</td>\n",
       "      <td>55</td>\n",
       "      <td>2.00</td>\n",
       "      <td>2.00</td>\n",
       "      <td>2.00</td>\n",
       "      <td>2.00</td>\n",
       "      <td>0.00</td>\n",
       "      <td>...</td>\n",
       "      <td>1.10</td>\n",
       "      <td>0.27</td>\n",
       "      <td>0.74</td>\n",
       "      <td>0.00</td>\n",
       "      <td>0.00</td>\n",
       "      <td>30.01</td>\n",
       "      <td>7.37</td>\n",
       "      <td>20.02</td>\n",
       "      <td>0.01</td>\n",
       "      <td>0.01</td>\n",
       "    </tr>\n",
       "    <tr>\n",
       "      <th>2</th>\n",
       "      <td>휘발유</td>\n",
       "      <td>승용</td>\n",
       "      <td>소형</td>\n",
       "      <td>1976</td>\n",
       "      <td>47</td>\n",
       "      <td>2.00</td>\n",
       "      <td>2.00</td>\n",
       "      <td>2.00</td>\n",
       "      <td>2.00</td>\n",
       "      <td>0.00</td>\n",
       "      <td>...</td>\n",
       "      <td>17.38</td>\n",
       "      <td>2.12</td>\n",
       "      <td>1.25</td>\n",
       "      <td>0.00</td>\n",
       "      <td>0.00</td>\n",
       "      <td>488.35</td>\n",
       "      <td>59.54</td>\n",
       "      <td>35.26</td>\n",
       "      <td>0.01</td>\n",
       "      <td>0.01</td>\n",
       "    </tr>\n",
       "    <tr>\n",
       "      <th>3</th>\n",
       "      <td>경유</td>\n",
       "      <td>화물</td>\n",
       "      <td>중형</td>\n",
       "      <td>1971</td>\n",
       "      <td>52</td>\n",
       "      <td>1.50</td>\n",
       "      <td>1.50</td>\n",
       "      <td>1.50</td>\n",
       "      <td>1.20</td>\n",
       "      <td>0.00</td>\n",
       "      <td>...</td>\n",
       "      <td>3.72</td>\n",
       "      <td>0.92</td>\n",
       "      <td>5.17</td>\n",
       "      <td>0.41</td>\n",
       "      <td>0.37</td>\n",
       "      <td>97.81</td>\n",
       "      <td>24.18</td>\n",
       "      <td>108.63</td>\n",
       "      <td>10.70</td>\n",
       "      <td>9.85</td>\n",
       "    </tr>\n",
       "    <tr>\n",
       "      <th>4</th>\n",
       "      <td>휘발유</td>\n",
       "      <td>승용</td>\n",
       "      <td>소형</td>\n",
       "      <td>1986</td>\n",
       "      <td>37</td>\n",
       "      <td>2.00</td>\n",
       "      <td>2.00</td>\n",
       "      <td>2.00</td>\n",
       "      <td>2.00</td>\n",
       "      <td>0.00</td>\n",
       "      <td>...</td>\n",
       "      <td>17.38</td>\n",
       "      <td>2.12</td>\n",
       "      <td>1.25</td>\n",
       "      <td>0.00</td>\n",
       "      <td>0.00</td>\n",
       "      <td>483.28</td>\n",
       "      <td>58.92</td>\n",
       "      <td>34.89</td>\n",
       "      <td>0.01</td>\n",
       "      <td>0.01</td>\n",
       "    </tr>\n",
       "  </tbody>\n",
       "</table>\n",
       "<p>5 rows × 22 columns</p>\n",
       "</div>"
      ],
      "text/plain": [
       "  fuel  차종 차종유형  차량연식  차령  DF_CO  DF_HC  DF_PM  DF_NOx  R_CO  ...  EFi_CO   \n",
       "0  휘발유  승용   소형  1976  47   2.00   2.00   2.00    2.00  0.00  ...   17.38  \\\n",
       "1  휘발유  승용   경형  1968  55   2.00   2.00   2.00    2.00  0.00  ...    1.10   \n",
       "2  휘발유  승용   소형  1976  47   2.00   2.00   2.00    2.00  0.00  ...   17.38   \n",
       "3   경유  화물   중형  1971  52   1.50   1.50   1.50    1.20  0.00  ...    3.72   \n",
       "4  휘발유  승용   소형  1986  37   2.00   2.00   2.00    2.00  0.00  ...   17.38   \n",
       "\n",
       "   EFi_HC  EFi_NOx  EFi_PM10  EFi_PM2_5  E_HOT_CO  E_HOT_HC  E_HOT_NOx   \n",
       "0    2.12     1.25      0.00       0.00    405.90     49.49      29.31  \\\n",
       "1    0.27     0.74      0.00       0.00     30.01      7.37      20.02   \n",
       "2    2.12     1.25      0.00       0.00    488.35     59.54      35.26   \n",
       "3    0.92     5.17      0.41       0.37     97.81     24.18     108.63   \n",
       "4    2.12     1.25      0.00       0.00    483.28     58.92      34.89   \n",
       "\n",
       "   E_HOT_PM10  E_HOT_PM2_5  \n",
       "0        0.01         0.01  \n",
       "1        0.01         0.01  \n",
       "2        0.01         0.01  \n",
       "3       10.70         9.85  \n",
       "4        0.01         0.01  \n",
       "\n",
       "[5 rows x 22 columns]"
      ]
     },
     "execution_count": 258,
     "metadata": {},
     "output_type": "execute_result"
    }
   ],
   "source": [
    "df2[DF_col + check_DF_col + check_R_col + check_EFi_col + check_E_HOT_col].head()"
   ]
  },
  {
   "cell_type": "code",
   "execution_count": 259,
   "metadata": {},
   "outputs": [
    {
     "data": {
      "text/plain": [
       "(25117108, 34)"
      ]
     },
     "execution_count": 259,
     "metadata": {},
     "output_type": "execute_result"
    }
   ],
   "source": [
    "df2.shape"
   ]
  },
  {
   "attachments": {},
   "cell_type": "markdown",
   "metadata": {},
   "source": [
    "## 자동차-엔진 미가열(Cold-start) 배출"
   ]
  },
  {
   "attachments": {},
   "cell_type": "markdown",
   "metadata": {},
   "source": [
    "### 배출량 식\n",
    "$$E_{COLD :i, j} = \\beta_{i, j} \\times N_j \\times M_j \\times e^{HOT}_j \\times (e^{COLD} / e^{HOT} \\vert_{i, j} - 1)$$\n",
    "\n",
    "- $E_{COLD :i, j}$ : 차종 $j$에서 배출되는 오염물질 $i$의 엔진미가열 배출량\n",
    "- $\\beta_{i, j}$ : 차종 $j$의 엔진미가열 상태의 주행거리 분율\n",
    "- $N_j$ : 차종 $j$의 수\n",
    "- $M_j$ : 차종 $j$의 주행거리\n",
    "- $e^{HOT}_j$ : 차종 $j$의 엔진가열 상태에서의 배출계수\n",
    "- $e^{COLD} / e^{HOT} \\vert_{i, j}$ : 차종 $j$의 엔진가열상태 대비 엔진미가열 상태에서의 배출 비율"
   ]
  },
  {
   "attachments": {},
   "cell_type": "markdown",
   "metadata": {},
   "source": [
    "### 베타($\\beta$)\n",
    "- 1회 평균주행거리(1 trip length)와 대기온도, 자동차 이용 패턴을 고려\n",
    "    - 1회 평균주행거리 정보는 모든 차종에 대하여 각각 적용하는 방안은 수집자료의 한계로 국내 연구결과를 바탕으로 수도권 지역 승용차의 1회 평균 주행거리 12.35km를 적용\n",
    "    - 이때 과대산정 가능성을 염두하여, 도시지역의 택시를 제외한 승용차(경형, 소형, 중형, 대형), 승합차(경형, 소형), RV(소형, 중형)에 적용\n",
    "\n",
    "    - 1회 주행거리 : 12.35 km (2002년 기준)\n",
    "    - 미가열 배출 적용 차종 : 승용차(경형, 소형, 중형, 대형) / 승합차(경형, 소형) / RV(소형, 중형)\n",
    "    - 미가열 배출 적용 지역 : 도시지역(고속도로 구간 제외)\n",
    "\n",
    "- 산정식\n",
    "\n",
    "-|Factor $\\beta$의 산정식\n",
    "-|-\n",
    "$Estimated$ $l_{trip}$|$0.647-0.025 \\times l_{trip} - (0.00974 - 0.000385 \\times l_{trip}) \\times T_a$\n",
    "$Measured$ $l_{trip}$|$0.698-0.051 \\times l_{trip} - (0.01051 - 0.000770 \\times l_{trip}) \\times T_a$\n",
    "\n",
    "- $T_a$ : 대기온도\n",
    "- $Estimated$ $l_{trip}$ : 유럽평균(1985) 약 11.8km / 유럽평균(1998) 약 12.4km(Andre et al., 1998)"
   ]
  },
  {
   "cell_type": "code",
   "execution_count": 260,
   "metadata": {},
   "outputs": [],
   "source": [
    "l_trip = 12.35 # 국립환경과학원(2007), 도로 이동오염원 대기오염 배출량 산정방법 개선 및 장래 배출량 예측방법 연구\n",
    "Ta = 12.4 # e-나라지표 (https://www.index.go.kr/unity/potal/main/EachDtlPageDetail.do?idx_cd=1400) 2002년 년 평균 기온"
   ]
  },
  {
   "cell_type": "code",
   "execution_count": 261,
   "metadata": {},
   "outputs": [],
   "source": [
    "df2['Beta(Estimated)'] = 0.647 - 0.025 * l_trip - (0.00974 - 0.000385 * l_trip) * Ta\n",
    "# df2['Beta(Measured)'] = 0.698 - 0.051 * l_trip - (0.01051 - 0.000770 * l_trip) * Ta"
   ]
  },
  {
   "cell_type": "code",
   "execution_count": 262,
   "metadata": {},
   "outputs": [
    {
     "data": {
      "text/plain": [
       "0   0.28\n",
       "1   0.28\n",
       "2   0.28\n",
       "3   0.28\n",
       "4   0.28\n",
       "Name: Beta(Estimated), dtype: float64"
      ]
     },
     "execution_count": 262,
     "metadata": {},
     "output_type": "execute_result"
    }
   ],
   "source": [
    "df2['Beta(Estimated)'].head()"
   ]
  },
  {
   "cell_type": "code",
   "execution_count": 263,
   "metadata": {},
   "outputs": [
    {
     "data": {
      "text/plain": [
       "0"
      ]
     },
     "execution_count": 263,
     "metadata": {},
     "output_type": "execute_result"
    }
   ],
   "source": [
    "df2['Beta(Estimated)'].isnull().sum()"
   ]
  },
  {
   "attachments": {},
   "cell_type": "markdown",
   "metadata": {},
   "source": [
    "### $e^{COLD} / e^{HOT}$"
   ]
  },
  {
   "cell_type": "code",
   "execution_count": 265,
   "metadata": {},
   "outputs": [
    {
     "data": {
      "text/plain": [
       "array(['휘발유', '경유', 'LPG'], dtype=object)"
      ]
     },
     "execution_count": 265,
     "metadata": {},
     "output_type": "execute_result"
    }
   ],
   "source": [
    "df2['fuel'].unique()"
   ]
  },
  {
   "cell_type": "code",
   "execution_count": 266,
   "metadata": {},
   "outputs": [
    {
     "data": {
      "text/plain": [
       "count   25117108.00\n",
       "mean        2014.36\n",
       "std            6.19\n",
       "min         1900.00\n",
       "25%         2011.00\n",
       "50%         2015.00\n",
       "75%         2019.00\n",
       "max         2023.00\n",
       "Name: 차량연식, dtype: float64"
      ]
     },
     "execution_count": 266,
     "metadata": {},
     "output_type": "execute_result"
    }
   ],
   "source": [
    "df2['차량연식'].describe()"
   ]
  },
  {
   "cell_type": "code",
   "execution_count": 270,
   "metadata": {},
   "outputs": [],
   "source": [
    "# 1m 31.7s\n",
    "# 휘발유(자동 제어)\n",
    "df2.loc[(df2['연료'] == '휘발유') & (df2['차량연식'] < 1991) & ( (df2['차종'] == '승용') | ( (df2['차종'] == '승합') & ((df2['차종유형'] == '경형') | (df2['차종유형'] == '소형')) ) ), 'eCOLD/eHOT_CO'] = 3.7 - 0.09 * Ta\n",
    "df2.loc[(df2['연료'] == '휘발유') & (df2['차량연식'] >= 1991) & ( (df2['차종'] == '승용') | ( (df2['차종'] == '승합') & ((df2['차종유형'] == '경형') | (df2['차종유형'] == '소형')) ) ), 'eCOLD/eHOT_CO'] = 9.04 - 0.09 * Ta\n",
    "df2.loc[(df2['연료'] == '휘발유') & (df2['차량연식'] < 1991) & ( (df2['차종'] == '승용') | ( (df2['차종'] == '승합') & ((df2['차종유형'] == '경형') | (df2['차종유형'] == '소형')) ) ), 'eCOLD/eHOT_NOx'] = 1.14 - 0.006 * Ta\n",
    "df2.loc[(df2['연료'] == '휘발유') & (df2['차량연식'] >= 1991) & ( (df2['차종'] == '승용') | ( (df2['차종'] == '승합') & ((df2['차종유형'] == '경형') | (df2['차종유형'] == '소형')) ) ), 'eCOLD/eHOT_NOx'] = 3.66 - 0.006 * Ta\n",
    "df2.loc[(df2['연료'] == '휘발유') & (df2['차량연식'] < 1991) & ( (df2['차종'] == '승용') | ( (df2['차종'] == '승합') & ((df2['차종유형'] == '경형') | (df2['차종유형'] == '소형')) ) ), 'eCOLD/eHOT_HC'] = 2.8 - 0.06 * Ta\n",
    "df2.loc[(df2['연료'] == '휘발유') & (df2['차량연식'] >= 1991) & ( (df2['차종'] == '승용') | ( (df2['차종'] == '승합') & ((df2['차종유형'] == '경형') | (df2['차종유형'] == '소형')) ) ), 'eCOLD/eHOT_HC'] = 12.59 - 0.06 * Ta\n",
    "df2.loc[df2['연료'] == '휘발유', 'eCOLD/eHOT_PM'] = 1\n",
    "# 경유\n",
    "df2.loc[(df2['연료'] == '경유') & ( (df2['차종'] == '승용') | ( (df2['차종'] == '승합') & ((df2['차종유형'] == '경형') | (df2['차종유형'] == '소형')) ) ),'eCOLD/eHOT_CO'] = 1.9 - 0.03 * Ta\n",
    "df2.loc[(df2['연료'] == '경유') & ( (df2['차종'] == '승용') | ( (df2['차종'] == '승합') & ((df2['차종유형'] == '경형') | (df2['차종유형'] == '소형')) ) ),'eCOLD/eHOT_NOx'] = 1.3 - 0.013 * Ta\n",
    "df2.loc[(df2['연료'] == '경유') & ( (df2['차종'] == '승용') | ( (df2['차종'] == '승합') & ((df2['차종유형'] == '경형') | (df2['차종유형'] == '소형')) ) ),'eCOLD/eHOT_HC'] = 3.1 - 0.09 * Ta\n",
    "df2.loc[(df2['연료'] == '경유') & ( (df2['차종'] == '승용') | ( (df2['차종'] == '승합') & ((df2['차종유형'] == '경형') | (df2['차종유형'] == '소형')) ) ),'eCOLD/eHOT_PM'] = 3.1 - 0.1 * Ta\n",
    "# LPG(액화석유가스)\n",
    "df2.loc[(df2['연료'] == 'LPG(액화석유가스)') & ( (df2['차종'] == '승용') | ( (df2['차종'] == '승합') & ((df2['차종유형'] == '경형') | (df2['차종유형'] == '소형')) ) ),'eCOLD/eHOT_CO'] = 3.66 - 0.09 * Ta\n",
    "df2.loc[(df2['연료'] == 'LPG(액화석유가스)') & ( (df2['차종'] == '승용') | ( (df2['차종'] == '승합') & ((df2['차종유형'] == '경형') | (df2['차종유형'] == '소형')) ) ),'eCOLD/eHOT_NOx'] = 0.98 - 0.006 * Ta\n",
    "df2.loc[(df2['연료'] == 'LPG(액화석유가스)') & ( (df2['차종'] == '승용') | ( (df2['차종'] == '승합') & ((df2['차종유형'] == '경형') | (df2['차종유형'] == '소형')) ) ),'eCOLD/eHOT_HC'] = 2.24 - 0.06 * Ta\n",
    "df2.loc[(df2['연료'] == 'LPG(액화석유가스)') & ( (df2['차종'] == '승용') | ( (df2['차종'] == '승합') & ((df2['차종유형'] == '경형') | (df2['차종유형'] == '소형')) ) ),'eCOLD/eHOT_PM'] = 1"
   ]
  },
  {
   "cell_type": "code",
   "execution_count": 271,
   "metadata": {},
   "outputs": [
    {
     "data": {
      "text/plain": [
       "eCOLD/eHOT_CO     5427867\n",
       "eCOLD/eHOT_NOx    5427867\n",
       "eCOLD/eHOT_HC     5427867\n",
       "eCOLD/eHOT_PM     5394721\n",
       "dtype: int64"
      ]
     },
     "execution_count": 271,
     "metadata": {},
     "output_type": "execute_result"
    }
   ],
   "source": [
    "check_ecoldhot_col = ['eCOLD/eHOT_CO', 'eCOLD/eHOT_NOx', 'eCOLD/eHOT_HC', 'eCOLD/eHOT_PM']\n",
    "df2[check_ecoldhot_col].isnull().sum()"
   ]
  },
  {
   "cell_type": "code",
   "execution_count": 272,
   "metadata": {},
   "outputs": [
    {
     "data": {
      "text/plain": [
       "eCOLD/eHOT_CO     0\n",
       "eCOLD/eHOT_NOx    0\n",
       "eCOLD/eHOT_HC     0\n",
       "eCOLD/eHOT_PM     0\n",
       "dtype: int64"
      ]
     },
     "execution_count": 272,
     "metadata": {},
     "output_type": "execute_result"
    }
   ],
   "source": [
    "df2[check_ecoldhot_col] = df2[check_ecoldhot_col].fillna(1)\n",
    "df2[check_ecoldhot_col].isnull().sum()"
   ]
  },
  {
   "cell_type": "code",
   "execution_count": 273,
   "metadata": {},
   "outputs": [
    {
     "data": {
      "text/plain": [
       "(0,)"
      ]
     },
     "execution_count": 273,
     "metadata": {},
     "output_type": "execute_result"
    }
   ],
   "source": [
    "df2.loc[df2['eCOLD/eHOT_CO'] < 0, 'eCOLD/eHOT_CO'].shape"
   ]
  },
  {
   "cell_type": "code",
   "execution_count": 274,
   "metadata": {},
   "outputs": [
    {
     "data": {
      "text/plain": [
       "(0,)"
      ]
     },
     "execution_count": 274,
     "metadata": {},
     "output_type": "execute_result"
    }
   ],
   "source": [
    "df2.loc[df2['eCOLD/eHOT_NOx'] < 0, 'eCOLD/eHOT_NOx'].shape"
   ]
  },
  {
   "cell_type": "code",
   "execution_count": 275,
   "metadata": {},
   "outputs": [
    {
     "data": {
      "text/plain": [
       "(0,)"
      ]
     },
     "execution_count": 275,
     "metadata": {},
     "output_type": "execute_result"
    }
   ],
   "source": [
    "df2.loc[df2['eCOLD/eHOT_HC'] < 0, 'eCOLD/eHOT_HC'].shape"
   ]
  },
  {
   "cell_type": "code",
   "execution_count": 276,
   "metadata": {},
   "outputs": [
    {
     "data": {
      "text/plain": [
       "(0,)"
      ]
     },
     "execution_count": 276,
     "metadata": {},
     "output_type": "execute_result"
    }
   ],
   "source": [
    "df2.loc[df2['eCOLD/eHOT_PM'] < 0, 'eCOLD/eHOT_PM'].shape"
   ]
  },
  {
   "attachments": {},
   "cell_type": "markdown",
   "metadata": {},
   "source": [
    "### 배출량 계산"
   ]
  },
  {
   "cell_type": "code",
   "execution_count": 277,
   "metadata": {},
   "outputs": [
    {
     "data": {
      "text/plain": [
       "Index(['법정동코드', '차종', '차대번호', '차량연식', '배출가스인증번호', '배출가스등급', '차량말소YN', '차종유형',\n",
       "       '연료', '등급', 'fuel', '차령', '시도', '시구군', '일일평균주행거리', '저감장치부착유무', 'VKT',\n",
       "       'DF_CO', 'DF_HC', 'DF_PM', 'DF_NOx', 'R_CO', 'R_HC', 'R_PM', 'EFi_CO',\n",
       "       'EFi_HC', 'EFi_NOx', 'EFi_PM10', 'EFi_PM2_5', 'E_HOT_CO', 'E_HOT_HC',\n",
       "       'E_HOT_NOx', 'E_HOT_PM10', 'E_HOT_PM2_5', 'Beta(Estimated)',\n",
       "       'eCOLD/eHOT_CO', 'eCOLD/eHOT_NOx', 'eCOLD/eHOT_HC', 'eCOLD/eHOT_PM'],\n",
       "      dtype='object')"
      ]
     },
     "execution_count": 277,
     "metadata": {},
     "output_type": "execute_result"
    }
   ],
   "source": [
    "df2.columns"
   ]
  },
  {
   "attachments": {},
   "cell_type": "markdown",
   "metadata": {},
   "source": [
    "#### 🔺 계산식 고민\n",
    "$$E_{COLD :i, j} = \\beta_{i, j} \\times N_j \\times M_j \\times e^{HOT}_j \\times (e^{COLD} / e^{HOT} \\vert_{i, j} - 1)$$\n",
    "- $M_j$ : 차종 $j$의 주행거리\n",
    "    - 1년 주행거리로 계산? \n",
    "        - VKT\n",
    "    - 1회 주행거리로 계산?\n",
    "        - l_trip"
   ]
  },
  {
   "cell_type": "code",
   "execution_count": 278,
   "metadata": {},
   "outputs": [],
   "source": [
    "#         E      =             B          *     M      *    e(HOT)     * ( e(COLD)/e(HOT)      - 1 )\n",
    "df2['E_COLD_CO'] = df2['Beta(Estimated)'] * df2['VKT'] * df2['EFi_CO'] * (df2['eCOLD/eHOT_CO'] - 1)\n",
    "df2['E_COLD_NOx'] = df2['Beta(Estimated)'] * df2['VKT'] * df2['EFi_NOx'] * (df2['eCOLD/eHOT_NOx'] - 1)\n",
    "df2['E_COLD_HC'] = df2['Beta(Estimated)'] * df2['VKT'] * df2['EFi_HC'] * (df2['eCOLD/eHOT_HC'] - 1)\n",
    "df2['E_COLD_PM10'] = df2['Beta(Estimated)'] * df2['VKT'] * df2['EFi_PM10'] * (df2['eCOLD/eHOT_PM'] - 1)\n",
    "df2['E_COLD_PM2_5'] = df2['Beta(Estimated)'] * df2['VKT'] * df2['EFi_PM2_5'] * (df2['eCOLD/eHOT_PM'] - 1)"
   ]
  },
  {
   "cell_type": "code",
   "execution_count": 279,
   "metadata": {},
   "outputs": [
    {
     "data": {
      "text/plain": [
       "(1744345, 6)"
      ]
     },
     "execution_count": 279,
     "metadata": {},
     "output_type": "execute_result"
    }
   ],
   "source": [
    "df2.loc[df2['E_COLD_NOx'] < 0, ['연료', 'Beta(Estimated)', 'VKT', 'EFi_NOx', 'eCOLD/eHOT_NOx', 'E_COLD_NOx']].shape"
   ]
  },
  {
   "cell_type": "code",
   "execution_count": 280,
   "metadata": {},
   "outputs": [
    {
     "data": {
      "text/html": [
       "<div>\n",
       "<style scoped>\n",
       "    .dataframe tbody tr th:only-of-type {\n",
       "        vertical-align: middle;\n",
       "    }\n",
       "\n",
       "    .dataframe tbody tr th {\n",
       "        vertical-align: top;\n",
       "    }\n",
       "\n",
       "    .dataframe thead th {\n",
       "        text-align: right;\n",
       "    }\n",
       "</style>\n",
       "<table border=\"1\" class=\"dataframe\">\n",
       "  <thead>\n",
       "    <tr style=\"text-align: right;\">\n",
       "      <th></th>\n",
       "      <th>연료</th>\n",
       "      <th>Beta(Estimated)</th>\n",
       "      <th>VKT</th>\n",
       "      <th>EFi_NOx</th>\n",
       "      <th>eCOLD/eHOT_NOx</th>\n",
       "      <th>E_COLD_NOx</th>\n",
       "    </tr>\n",
       "  </thead>\n",
       "  <tbody>\n",
       "    <tr>\n",
       "      <th>6069</th>\n",
       "      <td>LPG(액화석유가스)</td>\n",
       "      <td>0.28</td>\n",
       "      <td>13797.00</td>\n",
       "      <td>0.62</td>\n",
       "      <td>0.91</td>\n",
       "      <td>-223.67</td>\n",
       "    </tr>\n",
       "    <tr>\n",
       "      <th>10087</th>\n",
       "      <td>LPG(액화석유가스)</td>\n",
       "      <td>0.28</td>\n",
       "      <td>13760.50</td>\n",
       "      <td>0.20</td>\n",
       "      <td>0.91</td>\n",
       "      <td>-73.33</td>\n",
       "    </tr>\n",
       "    <tr>\n",
       "      <th>10786</th>\n",
       "      <td>LPG(액화석유가스)</td>\n",
       "      <td>0.28</td>\n",
       "      <td>12446.50</td>\n",
       "      <td>0.62</td>\n",
       "      <td>0.91</td>\n",
       "      <td>-201.77</td>\n",
       "    </tr>\n",
       "    <tr>\n",
       "      <th>11187</th>\n",
       "      <td>LPG(액화석유가스)</td>\n",
       "      <td>0.28</td>\n",
       "      <td>12629.00</td>\n",
       "      <td>0.62</td>\n",
       "      <td>0.91</td>\n",
       "      <td>-204.73</td>\n",
       "    </tr>\n",
       "    <tr>\n",
       "      <th>12082</th>\n",
       "      <td>LPG(액화석유가스)</td>\n",
       "      <td>0.28</td>\n",
       "      <td>13870.00</td>\n",
       "      <td>0.62</td>\n",
       "      <td>0.91</td>\n",
       "      <td>-224.85</td>\n",
       "    </tr>\n",
       "  </tbody>\n",
       "</table>\n",
       "</div>"
      ],
      "text/plain": [
       "                연료  Beta(Estimated)      VKT  EFi_NOx  eCOLD/eHOT_NOx   \n",
       "6069   LPG(액화석유가스)             0.28 13797.00     0.62            0.91  \\\n",
       "10087  LPG(액화석유가스)             0.28 13760.50     0.20            0.91   \n",
       "10786  LPG(액화석유가스)             0.28 12446.50     0.62            0.91   \n",
       "11187  LPG(액화석유가스)             0.28 12629.00     0.62            0.91   \n",
       "12082  LPG(액화석유가스)             0.28 13870.00     0.62            0.91   \n",
       "\n",
       "       E_COLD_NOx  \n",
       "6069      -223.67  \n",
       "10087      -73.33  \n",
       "10786     -201.77  \n",
       "11187     -204.73  \n",
       "12082     -224.85  "
      ]
     },
     "execution_count": 280,
     "metadata": {},
     "output_type": "execute_result"
    }
   ],
   "source": [
    "df2.loc[df2['E_COLD_NOx'] < 0, ['연료', 'Beta(Estimated)', 'VKT', 'EFi_NOx', 'eCOLD/eHOT_NOx', 'E_COLD_NOx']].head()"
   ]
  },
  {
   "cell_type": "code",
   "execution_count": 281,
   "metadata": {},
   "outputs": [
    {
     "data": {
      "text/html": [
       "<div>\n",
       "<style scoped>\n",
       "    .dataframe tbody tr th:only-of-type {\n",
       "        vertical-align: middle;\n",
       "    }\n",
       "\n",
       "    .dataframe tbody tr th {\n",
       "        vertical-align: top;\n",
       "    }\n",
       "\n",
       "    .dataframe thead th {\n",
       "        text-align: right;\n",
       "    }\n",
       "</style>\n",
       "<table border=\"1\" class=\"dataframe\">\n",
       "  <thead>\n",
       "    <tr style=\"text-align: right;\">\n",
       "      <th></th>\n",
       "      <th>E_HOT_CO</th>\n",
       "      <th>E_HOT_HC</th>\n",
       "      <th>E_HOT_NOx</th>\n",
       "      <th>E_HOT_PM10</th>\n",
       "      <th>E_HOT_PM2_5</th>\n",
       "      <th>E_COLD_CO</th>\n",
       "      <th>E_COLD_NOx</th>\n",
       "      <th>E_COLD_HC</th>\n",
       "      <th>E_COLD_PM10</th>\n",
       "      <th>E_COLD_PM2_5</th>\n",
       "    </tr>\n",
       "  </thead>\n",
       "  <tbody>\n",
       "    <tr>\n",
       "      <th>0</th>\n",
       "      <td>405.90</td>\n",
       "      <td>49.49</td>\n",
       "      <td>29.31</td>\n",
       "      <td>0.01</td>\n",
       "      <td>0.01</td>\n",
       "      <td>88865.91</td>\n",
       "      <td>265.73</td>\n",
       "      <td>7222.95</td>\n",
       "      <td>0.00</td>\n",
       "      <td>0.00</td>\n",
       "    </tr>\n",
       "    <tr>\n",
       "      <th>1</th>\n",
       "      <td>30.01</td>\n",
       "      <td>7.37</td>\n",
       "      <td>20.02</td>\n",
       "      <td>0.01</td>\n",
       "      <td>0.01</td>\n",
       "      <td>6569.22</td>\n",
       "      <td>181.56</td>\n",
       "      <td>1076.01</td>\n",
       "      <td>0.00</td>\n",
       "      <td>0.00</td>\n",
       "    </tr>\n",
       "    <tr>\n",
       "      <th>2</th>\n",
       "      <td>488.35</td>\n",
       "      <td>59.54</td>\n",
       "      <td>35.26</td>\n",
       "      <td>0.01</td>\n",
       "      <td>0.01</td>\n",
       "      <td>106916.80</td>\n",
       "      <td>319.70</td>\n",
       "      <td>8690.11</td>\n",
       "      <td>0.00</td>\n",
       "      <td>0.00</td>\n",
       "    </tr>\n",
       "    <tr>\n",
       "      <th>3</th>\n",
       "      <td>97.81</td>\n",
       "      <td>24.18</td>\n",
       "      <td>108.63</td>\n",
       "      <td>10.70</td>\n",
       "      <td>9.85</td>\n",
       "      <td>0.00</td>\n",
       "      <td>0.00</td>\n",
       "      <td>0.00</td>\n",
       "      <td>0.00</td>\n",
       "      <td>0.00</td>\n",
       "    </tr>\n",
       "    <tr>\n",
       "      <th>4</th>\n",
       "      <td>483.28</td>\n",
       "      <td>58.92</td>\n",
       "      <td>34.89</td>\n",
       "      <td>0.01</td>\n",
       "      <td>0.01</td>\n",
       "      <td>105805.98</td>\n",
       "      <td>316.38</td>\n",
       "      <td>8599.82</td>\n",
       "      <td>0.00</td>\n",
       "      <td>0.00</td>\n",
       "    </tr>\n",
       "  </tbody>\n",
       "</table>\n",
       "</div>"
      ],
      "text/plain": [
       "   E_HOT_CO  E_HOT_HC  E_HOT_NOx  E_HOT_PM10  E_HOT_PM2_5  E_COLD_CO   \n",
       "0    405.90     49.49      29.31        0.01         0.01   88865.91  \\\n",
       "1     30.01      7.37      20.02        0.01         0.01    6569.22   \n",
       "2    488.35     59.54      35.26        0.01         0.01  106916.80   \n",
       "3     97.81     24.18     108.63       10.70         9.85       0.00   \n",
       "4    483.28     58.92      34.89        0.01         0.01  105805.98   \n",
       "\n",
       "   E_COLD_NOx  E_COLD_HC  E_COLD_PM10  E_COLD_PM2_5  \n",
       "0      265.73    7222.95         0.00          0.00  \n",
       "1      181.56    1076.01         0.00          0.00  \n",
       "2      319.70    8690.11         0.00          0.00  \n",
       "3        0.00       0.00         0.00          0.00  \n",
       "4      316.38    8599.82         0.00          0.00  "
      ]
     },
     "execution_count": 281,
     "metadata": {},
     "output_type": "execute_result"
    }
   ],
   "source": [
    "check_E_cold_col = ['E_COLD_CO', 'E_COLD_NOx', 'E_COLD_HC', 'E_COLD_PM10', 'E_COLD_PM2_5']\n",
    "df2[check_E_HOT_col + check_E_cold_col].head()"
   ]
  },
  {
   "cell_type": "code",
   "execution_count": 282,
   "metadata": {},
   "outputs": [
    {
     "data": {
      "text/html": [
       "<div>\n",
       "<style scoped>\n",
       "    .dataframe tbody tr th:only-of-type {\n",
       "        vertical-align: middle;\n",
       "    }\n",
       "\n",
       "    .dataframe tbody tr th {\n",
       "        vertical-align: top;\n",
       "    }\n",
       "\n",
       "    .dataframe thead th {\n",
       "        text-align: right;\n",
       "    }\n",
       "</style>\n",
       "<table border=\"1\" class=\"dataframe\">\n",
       "  <thead>\n",
       "    <tr style=\"text-align: right;\">\n",
       "      <th></th>\n",
       "      <th>E_HOT_CO</th>\n",
       "      <th>E_HOT_HC</th>\n",
       "      <th>E_HOT_NOx</th>\n",
       "      <th>E_HOT_PM10</th>\n",
       "      <th>E_HOT_PM2_5</th>\n",
       "      <th>E_COLD_CO</th>\n",
       "      <th>E_COLD_NOx</th>\n",
       "      <th>E_COLD_HC</th>\n",
       "      <th>E_COLD_PM10</th>\n",
       "      <th>E_COLD_PM2_5</th>\n",
       "    </tr>\n",
       "  </thead>\n",
       "  <tbody>\n",
       "    <tr>\n",
       "      <th>25117103</th>\n",
       "      <td>0.44</td>\n",
       "      <td>0.01</td>\n",
       "      <td>0.23</td>\n",
       "      <td>0.00</td>\n",
       "      <td>0.00</td>\n",
       "      <td>841.32</td>\n",
       "      <td>162.65</td>\n",
       "      <td>32.50</td>\n",
       "      <td>0.00</td>\n",
       "      <td>0.00</td>\n",
       "    </tr>\n",
       "    <tr>\n",
       "      <th>25117104</th>\n",
       "      <td>0.44</td>\n",
       "      <td>0.01</td>\n",
       "      <td>0.23</td>\n",
       "      <td>0.00</td>\n",
       "      <td>0.00</td>\n",
       "      <td>841.32</td>\n",
       "      <td>162.65</td>\n",
       "      <td>32.50</td>\n",
       "      <td>0.00</td>\n",
       "      <td>0.00</td>\n",
       "    </tr>\n",
       "    <tr>\n",
       "      <th>25117105</th>\n",
       "      <td>0.41</td>\n",
       "      <td>0.01</td>\n",
       "      <td>0.21</td>\n",
       "      <td>0.00</td>\n",
       "      <td>0.00</td>\n",
       "      <td>791.57</td>\n",
       "      <td>153.03</td>\n",
       "      <td>30.58</td>\n",
       "      <td>0.00</td>\n",
       "      <td>0.00</td>\n",
       "    </tr>\n",
       "    <tr>\n",
       "      <th>25117106</th>\n",
       "      <td>13.36</td>\n",
       "      <td>13.36</td>\n",
       "      <td>13.36</td>\n",
       "      <td>13.36</td>\n",
       "      <td>13.36</td>\n",
       "      <td>0.00</td>\n",
       "      <td>0.00</td>\n",
       "      <td>0.00</td>\n",
       "      <td>0.00</td>\n",
       "      <td>0.00</td>\n",
       "    </tr>\n",
       "    <tr>\n",
       "      <th>25117107</th>\n",
       "      <td>0.81</td>\n",
       "      <td>0.10</td>\n",
       "      <td>8.40</td>\n",
       "      <td>0.02</td>\n",
       "      <td>0.02</td>\n",
       "      <td>118.28</td>\n",
       "      <td>322.22</td>\n",
       "      <td>27.64</td>\n",
       "      <td>4.18</td>\n",
       "      <td>3.85</td>\n",
       "    </tr>\n",
       "  </tbody>\n",
       "</table>\n",
       "</div>"
      ],
      "text/plain": [
       "          E_HOT_CO  E_HOT_HC  E_HOT_NOx  E_HOT_PM10  E_HOT_PM2_5  E_COLD_CO   \n",
       "25117103      0.44      0.01       0.23        0.00         0.00     841.32  \\\n",
       "25117104      0.44      0.01       0.23        0.00         0.00     841.32   \n",
       "25117105      0.41      0.01       0.21        0.00         0.00     791.57   \n",
       "25117106     13.36     13.36      13.36       13.36        13.36       0.00   \n",
       "25117107      0.81      0.10       8.40        0.02         0.02     118.28   \n",
       "\n",
       "          E_COLD_NOx  E_COLD_HC  E_COLD_PM10  E_COLD_PM2_5  \n",
       "25117103      162.65      32.50         0.00          0.00  \n",
       "25117104      162.65      32.50         0.00          0.00  \n",
       "25117105      153.03      30.58         0.00          0.00  \n",
       "25117106        0.00       0.00         0.00          0.00  \n",
       "25117107      322.22      27.64         4.18          3.85  "
      ]
     },
     "execution_count": 282,
     "metadata": {},
     "output_type": "execute_result"
    }
   ],
   "source": [
    "df2[check_E_HOT_col + check_E_cold_col].tail()"
   ]
  },
  {
   "cell_type": "code",
   "execution_count": 283,
   "metadata": {},
   "outputs": [
    {
     "data": {
      "text/plain": [
       "E_COLD_CO       0\n",
       "E_COLD_NOx      0\n",
       "E_COLD_HC       0\n",
       "E_COLD_PM10     0\n",
       "E_COLD_PM2_5    0\n",
       "dtype: int64"
      ]
     },
     "execution_count": 283,
     "metadata": {},
     "output_type": "execute_result"
    }
   ],
   "source": [
    "df2[check_E_cold_col].isnull().sum()"
   ]
  },
  {
   "attachments": {},
   "cell_type": "markdown",
   "metadata": {},
   "source": [
    "## 자동차-휘발유 증발 배출"
   ]
  },
  {
   "attachments": {},
   "cell_type": "markdown",
   "metadata": {},
   "source": [
    "### 배출량 식\n",
    "- 3가지\n",
    "    - 주간증발손실(Diurnal loss)\n",
    "    - 고온증발손실(Hot and warm soak)\n",
    "    - 주행손실(Running loss)\n",
    "- 현재('19 배출량 기준) 휘발유 증발 배출원\n",
    "    - 주간증발손실, 주행손실 고려\n",
    "    - 우리나라 휘발유 차량 대부분이 방지설비로 카본 캐니스터를 장착하고 있으므로 $e^{S,HOT}$, $e^{S,WARM}$, 고온증발손실(hot and warm soak) 배출은 없는 것으로 가정\n",
    "\n",
    "---\n",
    "\n",
    "$$E_{EVA, VOC:j} = 365 \\times N_j \\times (e^d + S^c + S^{fi}) + R$$\n",
    "$S^c = (1-q)(p \\times x \\times e^{S, HOT} + w \\times x \\times e^{S,WARM})$\n",
    "\n",
    "$S^{fi} = q \\times e^{fi} \\times x$\n",
    "$$R = m_j(p \\times e^{R,HOT} + w \\times e^{R,WARM})$$\n",
    "\n",
    "- $E_{EVA, VOC:j}$ : 차종 j의 증발손실에 의한 VOC 배출량(g/yr)\n",
    "- $N_j$ : 차종 j의 휘발유 사용 차량 등록대수(대)\n",
    "- $e^d$ : 금속탱크를 가지고 있는 휘발유 차량의 일중 VOC 배출량(g/day-대)\n",
    "- $S^c$ : Carburetor 휘발유 차량의 일중 hot and warm soak 배출량(g/day-대)\n",
    "- $S^{fi}$ : Fuel injection 휘발유 차량의 일중 hot and warm soak 배출량(g/day-대)\n",
    "- $R$ : Running loss에 의한 휘발유 차량의 연중 배출량(g/yr)\n",
    "- $q$ : Fuel injection 휘발유 차량의 비율\n",
    "- $p$ : 가열 엔진 상태로 끝나는 trip의 비율\n",
    "- $x$ : 일평균 통행횟수 $= V_j / 365 \\times l_{trip}$\n",
    "- $w$ : 미가열 엔진 상태료 끝나는 trip의 비율\n",
    "- $e^{S,HOT}$ : Hot soak emission의 평균 배출계수\n",
    "- $e^{S,WARM}$ : Cold and warm soak emission의 평균 배출계수\n",
    "- $e^{fi}$ : Fuel injection 휘발유 차량의 평균 hot and warm soak 배출계수\n",
    "- $e^{R,HOT}$ : 휘발유 차량의 평균 hot running loss 배출계수\n",
    "- $e^{R,WARM}$ : 휘발유 차량의 평균 warm running loss 배출계수\n",
    "- $m_j$ : 차종 j의 연간 총 주행거리\n",
    "- $V_j$ : 차종 j의 1대당 평균 연간 주행거리"
   ]
  },
  {
   "attachments": {},
   "cell_type": "markdown",
   "metadata": {},
   "source": [
    "### 배출계수"
   ]
  },
  {
   "attachments": {},
   "cell_type": "markdown",
   "metadata": {},
   "source": [
    "#### 🔺 수정 중"
   ]
  },
  {
   "attachments": {},
   "cell_type": "markdown",
   "metadata": {},
   "source": [
    "#### $e^d$ Diurnal(g/day)\n",
    "- $e^d$ : 금속탱크를 가지고 있는 휘발유 차량의 일중 VOC 배출량(g/day-대)"
   ]
  },
  {
   "attachments": {},
   "cell_type": "markdown",
   "metadata": {},
   "source": [
    "##### 🔺 RVP(증기압)\n",
    "- 참고 COPERT 3(p.80) Table 6.10: Gasoline fuel specifications\n",
    "    - summer : 60\n",
    "    - winter : 70\n",
    "    - 평균 : 65\n",
    "- 수정 사항(2023.04.20, 최)\n",
    "    - 국내 과학기술원, 환경부 자료 찾아서 사용 추천"
   ]
  },
  {
   "cell_type": "code",
   "execution_count": 284,
   "metadata": {},
   "outputs": [],
   "source": [
    "RVP = 65"
   ]
  },
  {
   "attachments": {},
   "cell_type": "markdown",
   "metadata": {},
   "source": [
    "##### ❗ t_a(기온)\n",
    "- t_a, t_min, t_rise\n",
    "    - 참고 COPERT 3(p.72) Table 5.32: Summary of emission factors for estimating evaporative emissions of gasoline vehicles(all RVp in kPa, all temperatures in °C)\n",
    "        - t_a = (t_max + t_min) / 2\n",
    "        - t_rise = t_max - t_min\n",
    "    - 기상자료개방포털(2002년) 연평균 기온\n",
    "        - https://data.kma.go.kr/stcs/grnd/grndTaList.do?pgmNo=70\n",
    "        - 7.5°C(최저), 12.4°C(평균), 17.9°C(최고)\n",
    "    - 기상자료개방포털(2022년) 연평균 기온\n",
    "        - https://data.kma.go.kr/stcs/grnd/grndTaList.do?pgmNo=70\n",
    "        - 8°C(최저), 12.9°C(평균), 18.6°C(최고)"
   ]
  },
  {
   "cell_type": "code",
   "execution_count": 285,
   "metadata": {},
   "outputs": [],
   "source": [
    "t_min = 8 # 평균 최저 온도\n",
    "t_max = 18.6\n",
    "t_a = (t_min + t_max) / 2\n",
    "t_rise = 10.6 # 평균 상승 온도"
   ]
  },
  {
   "cell_type": "code",
   "execution_count": 286,
   "metadata": {},
   "outputs": [],
   "source": [
    "df2.loc[df2['차량연식'] < 1991, 'e_d'] = 9.1 * np.exp( 0.0158 * (RVP - 61.2) + 0.0574 * (t_min - 22.5) + 0.0614 * (t_rise - 11.7) )\n",
    "df2.loc[df2['차량연식'] >= 1991, 'e_d'] = 0.2 * (9.1 * np.exp( 0.0158 * (RVP - 61.2) + 0.0574 * (t_min - 22.5) + 0.0614 * (t_rise - 11.7) ))"
   ]
  },
  {
   "cell_type": "code",
   "execution_count": 287,
   "metadata": {},
   "outputs": [
    {
     "data": {
      "text/plain": [
       "0"
      ]
     },
     "execution_count": 287,
     "metadata": {},
     "output_type": "execute_result"
    }
   ],
   "source": [
    "df2['e_d'].isnull().sum()"
   ]
  },
  {
   "attachments": {},
   "cell_type": "markdown",
   "metadata": {},
   "source": [
    "#### $e^{R,HOT}$ Hot running loss(g/km)\n",
    "- $e^{R,HOT}$ : 휘발유 차량의 평균 hot running loss 배출계수"
   ]
  },
  {
   "cell_type": "code",
   "execution_count": 288,
   "metadata": {},
   "outputs": [],
   "source": [
    "df2.loc[df2['차량연식'] < 1991, 'e_RHOT'] = 0.136 * np.exp( - 5.967 + 0.04259 * RVP + 0.1773 * t_a)\n",
    "df2.loc[df2['차량연식'] >= 1991, 'e_RHOT'] = 0.1 * (0.136 * np.exp( - 5.967 + 0.04259 * RVP + 0.1773 * t_a))"
   ]
  },
  {
   "cell_type": "code",
   "execution_count": 289,
   "metadata": {},
   "outputs": [
    {
     "data": {
      "text/plain": [
       "0"
      ]
     },
     "execution_count": 289,
     "metadata": {},
     "output_type": "execute_result"
    }
   ],
   "source": [
    "df2['e_RHOT'].isnull().sum()"
   ]
  },
  {
   "attachments": {},
   "cell_type": "markdown",
   "metadata": {},
   "source": [
    "#### $e^{S,HOT}$ Hot soak(g/procedure)\n",
    "- $e^{S,HOT}$ : Hot soak emission의 평균 배출계수"
   ]
  },
  {
   "cell_type": "code",
   "execution_count": 290,
   "metadata": {},
   "outputs": [],
   "source": [
    "df2.loc[df2['차량연식'] < 1991, 'e_SHOT'] = 3.0042 * np.exp(0.02 * RVP)\n",
    "df2.loc[df2['차량연식'] >= 1991, 'e_SHOT'] = 0.3 * np.exp(-2.14 + 0.02302 * RVP + 0.09408 * t_a)"
   ]
  },
  {
   "attachments": {},
   "cell_type": "markdown",
   "metadata": {},
   "source": [
    "#### $e^{S,WARM}$ Waram soak(g/procedure)\n",
    "- $e^{S,WARM}$ : Cold and warm soak emission의 평균 배출계수"
   ]
  },
  {
   "cell_type": "code",
   "execution_count": 291,
   "metadata": {},
   "outputs": [],
   "source": [
    "df2.loc[df2['차량연식'] < 1991, 'e_SWARM'] = np.exp(-1.644 + 0.01993 * RVP + 0.07521 * t_a)\n",
    "df2.loc[df2['차량연식'] >= 1991, 'e_SWARM'] = 0.2 * np.exp(-2.41 + 0.02302 * RVP + 0.09408 * t_a)"
   ]
  },
  {
   "attachments": {},
   "cell_type": "markdown",
   "metadata": {},
   "source": [
    "#### $e^{fi}$ Warm and hot soak for Fuel injected vehicle(g/procedure)\n",
    "- $e^{fi}$ : Fuel injection 휘발유 차량의 평균 hot and warm soak 배출계수"
   ]
  },
  {
   "cell_type": "code",
   "execution_count": 292,
   "metadata": {},
   "outputs": [],
   "source": [
    "df2.loc[df2['차량연식'] < 1991, 'e_fi'] = 0.7\n",
    "df2.loc[df2['차량연식'] >= 1991, 'e_fi'] = 0"
   ]
  },
  {
   "attachments": {},
   "cell_type": "markdown",
   "metadata": {},
   "source": [
    "#### $e^{R,WARM}$ Warm running loss(g/km)\n",
    "- $e^{R,HOT}$ : 휘발유 차량의 평균 hot running loss 배출계수"
   ]
  },
  {
   "cell_type": "code",
   "execution_count": 293,
   "metadata": {},
   "outputs": [],
   "source": [
    "df2.loc[df2['차량연식'] < 1991, 'e_RWARM'] = 0.1 * np.exp(-5.967 + 0.04259 * RVP + 0.1773 * t_a)\n",
    "df2.loc[df2['차량연식'] >= 1991, 'e_RWARM'] = 0.1 * (0.1 * np.exp(-5.967 + 0.04259 * RVP + 0.1773 * t_a))"
   ]
  },
  {
   "cell_type": "code",
   "execution_count": 294,
   "metadata": {},
   "outputs": [
    {
     "data": {
      "text/plain": [
       "0"
      ]
     },
     "execution_count": 294,
     "metadata": {},
     "output_type": "execute_result"
    }
   ],
   "source": [
    "df2['e_RWARM'].isnull().sum()"
   ]
  },
  {
   "attachments": {},
   "cell_type": "markdown",
   "metadata": {},
   "source": [
    "### $R$\n",
    "$R = m_j(p \\times e^{R,HOT} + w \\times e^{R,WARM})$\n",
    "- Running loss에 의한 휘발유 차량의 연중 배출량(g/yr)\n",
    "- $m_j$ : 차종 j의 연간 총 주행거리\n",
    "- $p$ : 가열 엔진 상태로 끝나는 trip의 비율\n",
    "- $e^{R,HOT}$ : 휘발유 차량의 평균 hot running loss 배출계수\n",
    "- $w$ : 미가열 엔진 상태로 끝나는 trip의 비율\n",
    "- $e^{R,WARM}$ : 휘발유 차량의 평균 warm running loss 배출계수"
   ]
  },
  {
   "attachments": {},
   "cell_type": "markdown",
   "metadata": {},
   "source": [
    "#### ❓ 확인 중\n",
    "- 수정 사항(2023.04.20, 최)\n",
    "    - 찾는 중"
   ]
  },
  {
   "cell_type": "code",
   "execution_count": 295,
   "metadata": {},
   "outputs": [],
   "source": [
    "p = 0.5 # 가열 엔진 상태로 끝나는 trip의 비율\n",
    "w = 0.5 # 미가열 엔진 상태로 끝나는 trip의 비율"
   ]
  },
  {
   "cell_type": "code",
   "execution_count": 296,
   "metadata": {},
   "outputs": [],
   "source": [
    "df2['R'] = df2['VKT'] * (p * df2['e_RHOT'] + w * df2['e_RWARM'])"
   ]
  },
  {
   "cell_type": "code",
   "execution_count": 297,
   "metadata": {},
   "outputs": [
    {
     "data": {
      "text/plain": [
       "0"
      ]
     },
     "execution_count": 297,
     "metadata": {},
     "output_type": "execute_result"
    }
   ],
   "source": [
    "df2['R'].isnull().sum()"
   ]
  },
  {
   "attachments": {},
   "cell_type": "markdown",
   "metadata": {},
   "source": [
    "### $S^{fi}$\n",
    "$S^{fi} = q \\times e^{fi} \\times x$\n",
    "- Fuel injection 휘발유 차량의 일중 hot and warm soak 배출량(g/day-대)\n",
    "- $q$ : Fuel injection 휘발유 차량의 비율\n",
    "- $e^{fi}$ : Fuel injection 휘발유 차량의 평균 hot and warm soak 배출계수\n",
    "- $x$ : 일평균 통행횟수 $= V_j / 365 \\times l_{trip}$\n",
    "- $V_j$ : 차종 j의 1대당 평균 연간 주행거리"
   ]
  },
  {
   "cell_type": "code",
   "execution_count": 298,
   "metadata": {},
   "outputs": [
    {
     "data": {
      "text/plain": [
       "0.9931614868162287"
      ]
     },
     "execution_count": 298,
     "metadata": {},
     "output_type": "execute_result"
    }
   ],
   "source": [
    "# 8.9s\n",
    "not_injection = df2[(df2['fuel'] == '휘발유') & (df2['차량연식'] < 1991)].shape[0]\n",
    "injection = df2[(df2['fuel'] == '휘발유') & (df2['차량연식'] >= 1991)].shape[0]\n",
    "# Fuel injection 휘발유 차량의 비율\n",
    "q = injection / (injection + not_injection)\n",
    "q"
   ]
  },
  {
   "cell_type": "code",
   "execution_count": 299,
   "metadata": {},
   "outputs": [],
   "source": [
    "# x = df2['VKT'] / (365 * l_trip)\n",
    "df2['S_fi'] = q * df2['e_fi'] * ( df2['VKT'] / (365 * l_trip) )"
   ]
  },
  {
   "attachments": {},
   "cell_type": "markdown",
   "metadata": {},
   "source": [
    "### $S^c$\n",
    "$S^c = (1-q)(p \\times x \\times e^{S, HOT} + w \\times x \\times e^{S,WARM})$\n",
    "- Carburetor 휘발유 차량의 일중 hot and warm soak 배출량(g/day-대)\n",
    "- $q$ : Fuel injection 휘발유 차량의 비율\n",
    "- $p$ : 가열 엔진 상태로 끝나는 trip의 비율\n",
    "- $x$ : 일평균 통행횟수 $= V_j / 365 \\times l_{trip}$\n",
    "- $e^{S,HOT}$ : Hot soak emission의 평균 배출계수\n",
    "- $w$ : 미가열 엔진 상태료 끝나는 trip의 비율\n",
    "- $x$ : 일평균 통행횟수 $= V_j / 365 \\times l_{trip}$\n",
    "- $V_j$ : 차종 j의 1대당 평균 연간 주행거리\n",
    "- $e^{S,WARM}$ : Cold and warm soak emission의 평균 배출계수"
   ]
  },
  {
   "cell_type": "code",
   "execution_count": 300,
   "metadata": {},
   "outputs": [],
   "source": [
    "# x = df2['VKT'] / (365 * l_trip)\n",
    "df2['S_c'] = (1-q) * (p * (df2['VKT'] / (365 * l_trip)) * df2['e_SHOT'] + w * (df2['VKT'] / (365 * l_trip)) * df2['e_SWARM'])"
   ]
  },
  {
   "attachments": {},
   "cell_type": "markdown",
   "metadata": {},
   "source": [
    "### $E_{EVA,VOC}$\n",
    "$E_{EVA, VOC:j} = 365 \\times N_j \\times (e^d + S^c + S^{fi}) + R$\n",
    "- $N_j$ : 차종 j의 휘발유 사용 차량 등록대수(대)\n",
    "- $e^d$ : 금속탱크를 가지고 있는 휘발유 차량의 일중 VOC 배출량(g/day-대)\n",
    "- $S^c$ : Carburetor 휘발유 차량의 일중 hot and warm soak 배출량(g/day-대)\n",
    "- $S^{fi}$ : Fuel injection 휘발유 차량의 일중 hot and warm soak 배출량(g/day-대)\n",
    "- $R$ : Running loss에 의한 휘발유 차량의 연중 배출량(g/yr)"
   ]
  },
  {
   "cell_type": "code",
   "execution_count": 301,
   "metadata": {},
   "outputs": [],
   "source": [
    "df2['E_EVA_VOC'] = 365 * df2['e_d'] + df2['S_c'] + df2['S_fi'] + df2['R']"
   ]
  },
  {
   "cell_type": "code",
   "execution_count": 302,
   "metadata": {},
   "outputs": [
    {
     "data": {
      "text/plain": [
       "0"
      ]
     },
     "execution_count": 302,
     "metadata": {},
     "output_type": "execute_result"
    }
   ],
   "source": [
    "df2['E_EVA_VOC'].isnull().sum()"
   ]
  },
  {
   "attachments": {},
   "cell_type": "markdown",
   "metadata": {},
   "source": [
    "## 배출량 합계\n",
    "$E_{total}(kg) = E_{HOT}(kg) + E_{COLD}(g) + E_{EVAP}(g)$"
   ]
  },
  {
   "cell_type": "code",
   "execution_count": 303,
   "metadata": {},
   "outputs": [
    {
     "data": {
      "text/plain": [
       "(1744345, 54)"
      ]
     },
     "execution_count": 303,
     "metadata": {},
     "output_type": "execute_result"
    }
   ],
   "source": [
    "df2[df2['E_COLD_NOx'] < 0].shape"
   ]
  },
  {
   "cell_type": "code",
   "execution_count": 304,
   "metadata": {},
   "outputs": [],
   "source": [
    "# E_COLD_NOx 음수 -> 0으로 처리(2023.04.24 from 최이사님)\n",
    "df2.loc[df2['E_COLD_NOx'] < 0, 'E_COLD_NOx'] = 0"
   ]
  },
  {
   "cell_type": "code",
   "execution_count": 305,
   "metadata": {},
   "outputs": [
    {
     "data": {
      "text/plain": [
       "(0, 54)"
      ]
     },
     "execution_count": 305,
     "metadata": {},
     "output_type": "execute_result"
    }
   ],
   "source": [
    "df2[df2['E_COLD_NOx'] < 0].shape"
   ]
  },
  {
   "cell_type": "code",
   "execution_count": 306,
   "metadata": {},
   "outputs": [
    {
     "data": {
      "text/plain": [
       "(['E_HOT_CO', 'E_HOT_HC', 'E_HOT_NOx', 'E_HOT_PM10', 'E_HOT_PM2_5'],\n",
       " ['E_COLD_CO', 'E_COLD_NOx', 'E_COLD_HC', 'E_COLD_PM10', 'E_COLD_PM2_5'])"
      ]
     },
     "execution_count": 306,
     "metadata": {},
     "output_type": "execute_result"
    }
   ],
   "source": [
    "check_E_HOT_col, check_E_cold_col"
   ]
  },
  {
   "cell_type": "code",
   "execution_count": 307,
   "metadata": {},
   "outputs": [
    {
     "data": {
      "text/plain": [
       "(0, 54)"
      ]
     },
     "execution_count": 307,
     "metadata": {},
     "output_type": "execute_result"
    }
   ],
   "source": [
    "df2.loc[(df2['fuel'] == '휘발유') & (df2['E_COLD_PM10'] != 0)].shape"
   ]
  },
  {
   "cell_type": "code",
   "execution_count": 308,
   "metadata": {},
   "outputs": [
    {
     "data": {
      "text/plain": [
       "array(['휘발유', '경유', 'LPG'], dtype=object)"
      ]
     },
     "execution_count": 308,
     "metadata": {},
     "output_type": "execute_result"
    }
   ],
   "source": [
    "df2['fuel'].unique()"
   ]
  },
  {
   "cell_type": "code",
   "execution_count": 309,
   "metadata": {},
   "outputs": [],
   "source": [
    "# 26.5s\n",
    "fuel = '휘발유'\n",
    "df2.loc[df2['fuel'] == fuel, 'E_CO_total'] = df2.loc[df2['fuel'] == fuel , 'E_HOT_CO'] + df2.loc[df2['fuel'] == fuel , 'E_COLD_CO']/1000\n",
    "df2.loc[df2['fuel'] == fuel, 'E_HC_total'] = df2.loc[df2['fuel'] == fuel , 'E_HOT_HC'] + df2.loc[df2['fuel'] == fuel , 'E_COLD_HC']/1000 + df2.loc[df2['fuel'] == fuel , 'E_EVA_VOC']/1000\n",
    "df2.loc[df2['fuel'] == fuel, 'E_NOx_total'] = df2.loc[df2['fuel'] == fuel , 'E_HOT_NOx'] + df2.loc[df2['fuel'] == fuel , 'E_COLD_NOx']/1000\n",
    "df2.loc[df2['fuel'] == fuel, 'E_PM10_total'] = df2.loc[df2['fuel'] == fuel , 'E_HOT_PM10'] + df2.loc[df2['fuel'] == fuel , 'E_COLD_PM10']/1000\n",
    "df2.loc[df2['fuel'] == fuel, 'E_PM2_5_total'] = df2.loc[df2['fuel'] == fuel , 'E_HOT_PM2_5'] + df2.loc[df2['fuel'] == fuel , 'E_COLD_PM2_5']/1000"
   ]
  },
  {
   "cell_type": "code",
   "execution_count": 310,
   "metadata": {},
   "outputs": [],
   "source": [
    "# 22.7s\n",
    "fuel = '경유'\n",
    "df2.loc[df2['fuel'] == fuel, 'E_CO_total'] = df2.loc[df2['fuel'] == fuel , 'E_HOT_CO'] + df2.loc[df2['fuel'] == fuel , 'E_COLD_CO']/1000\n",
    "df2.loc[df2['fuel'] == fuel, 'E_HC_total'] = df2.loc[df2['fuel'] == fuel , 'E_HOT_HC'] + df2.loc[df2['fuel'] == fuel , 'E_COLD_HC']/1000\n",
    "df2.loc[df2['fuel'] == fuel, 'E_NOx_total'] = df2.loc[df2['fuel'] == fuel , 'E_HOT_NOx'] + df2.loc[df2['fuel'] == fuel , 'E_COLD_NOx']/1000\n",
    "df2.loc[df2['fuel'] == fuel, 'E_PM10_total'] = df2.loc[df2['fuel'] == fuel , 'E_HOT_PM10'] + df2.loc[df2['fuel'] == fuel , 'E_COLD_PM10']/1000\n",
    "df2.loc[df2['fuel'] == fuel, 'E_PM2_5_total'] = df2.loc[df2['fuel'] == fuel , 'E_HOT_PM2_5'] + df2.loc[df2['fuel'] == fuel , 'E_COLD_PM2_5']/1000"
   ]
  },
  {
   "cell_type": "code",
   "execution_count": 311,
   "metadata": {},
   "outputs": [],
   "source": [
    "# 20.0s\n",
    "fuel = 'LPG'\n",
    "df2.loc[df2['fuel'] == fuel, 'E_CO_total'] = df2.loc[df2['fuel'] == fuel , 'E_HOT_CO'] + df2.loc[df2['fuel'] == fuel , 'E_COLD_CO']/1000\n",
    "df2.loc[df2['fuel'] == fuel, 'E_HC_total'] = df2.loc[df2['fuel'] == fuel , 'E_HOT_HC'] + df2.loc[df2['fuel'] == fuel , 'E_COLD_HC']/1000\n",
    "df2.loc[df2['fuel'] == fuel, 'E_NOx_total'] = df2.loc[df2['fuel'] == fuel , 'E_HOT_NOx'] + df2.loc[df2['fuel'] == fuel , 'E_COLD_NOx']/1000\n",
    "df2.loc[df2['fuel'] == fuel, 'E_PM10_total'] = df2.loc[df2['fuel'] == fuel , 'E_HOT_PM10'] + df2.loc[df2['fuel'] == fuel , 'E_COLD_PM10']/1000\n",
    "df2.loc[df2['fuel'] == fuel, 'E_PM2_5_total'] = df2.loc[df2['fuel'] == fuel , 'E_HOT_PM2_5'] + df2.loc[df2['fuel'] == fuel , 'E_COLD_PM2_5']/1000"
   ]
  },
  {
   "cell_type": "code",
   "execution_count": 312,
   "metadata": {},
   "outputs": [
    {
     "data": {
      "text/html": [
       "<div>\n",
       "<style scoped>\n",
       "    .dataframe tbody tr th:only-of-type {\n",
       "        vertical-align: middle;\n",
       "    }\n",
       "\n",
       "    .dataframe tbody tr th {\n",
       "        vertical-align: top;\n",
       "    }\n",
       "\n",
       "    .dataframe thead th {\n",
       "        text-align: right;\n",
       "    }\n",
       "</style>\n",
       "<table border=\"1\" class=\"dataframe\">\n",
       "  <thead>\n",
       "    <tr style=\"text-align: right;\">\n",
       "      <th></th>\n",
       "      <th>E_CO_total</th>\n",
       "      <th>E_HC_total</th>\n",
       "      <th>E_NOx_total</th>\n",
       "      <th>E_PM10_total</th>\n",
       "      <th>E_PM2_5_total</th>\n",
       "    </tr>\n",
       "  </thead>\n",
       "  <tbody>\n",
       "    <tr>\n",
       "      <th>0</th>\n",
       "      <td>494.77</td>\n",
       "      <td>58.74</td>\n",
       "      <td>29.57</td>\n",
       "      <td>0.01</td>\n",
       "      <td>0.01</td>\n",
       "    </tr>\n",
       "    <tr>\n",
       "      <th>1</th>\n",
       "      <td>36.57</td>\n",
       "      <td>10.58</td>\n",
       "      <td>20.21</td>\n",
       "      <td>0.01</td>\n",
       "      <td>0.01</td>\n",
       "    </tr>\n",
       "    <tr>\n",
       "      <th>2</th>\n",
       "      <td>595.27</td>\n",
       "      <td>70.38</td>\n",
       "      <td>35.58</td>\n",
       "      <td>0.01</td>\n",
       "      <td>0.01</td>\n",
       "    </tr>\n",
       "    <tr>\n",
       "      <th>3</th>\n",
       "      <td>97.81</td>\n",
       "      <td>24.18</td>\n",
       "      <td>108.63</td>\n",
       "      <td>10.70</td>\n",
       "      <td>9.85</td>\n",
       "    </tr>\n",
       "    <tr>\n",
       "      <th>4</th>\n",
       "      <td>589.08</td>\n",
       "      <td>69.66</td>\n",
       "      <td>35.21</td>\n",
       "      <td>0.01</td>\n",
       "      <td>0.01</td>\n",
       "    </tr>\n",
       "  </tbody>\n",
       "</table>\n",
       "</div>"
      ],
      "text/plain": [
       "   E_CO_total  E_HC_total  E_NOx_total  E_PM10_total  E_PM2_5_total\n",
       "0      494.77       58.74        29.57          0.01           0.01\n",
       "1       36.57       10.58        20.21          0.01           0.01\n",
       "2      595.27       70.38        35.58          0.01           0.01\n",
       "3       97.81       24.18       108.63         10.70           9.85\n",
       "4      589.08       69.66        35.21          0.01           0.01"
      ]
     },
     "execution_count": 312,
     "metadata": {},
     "output_type": "execute_result"
    }
   ],
   "source": [
    "check_E_col = ['E_CO_total', 'E_HC_total', 'E_NOx_total', 'E_PM10_total', 'E_PM2_5_total']\n",
    "df2[check_E_col].head()"
   ]
  },
  {
   "cell_type": "code",
   "execution_count": 314,
   "metadata": {},
   "outputs": [
    {
     "data": {
      "text/html": [
       "<div>\n",
       "<style scoped>\n",
       "    .dataframe tbody tr th:only-of-type {\n",
       "        vertical-align: middle;\n",
       "    }\n",
       "\n",
       "    .dataframe tbody tr th {\n",
       "        vertical-align: top;\n",
       "    }\n",
       "\n",
       "    .dataframe thead th {\n",
       "        text-align: right;\n",
       "    }\n",
       "</style>\n",
       "<table border=\"1\" class=\"dataframe\">\n",
       "  <thead>\n",
       "    <tr style=\"text-align: right;\">\n",
       "      <th></th>\n",
       "      <th>E_CO_total</th>\n",
       "      <th>E_HC_total</th>\n",
       "      <th>E_NOx_total</th>\n",
       "      <th>E_PM10_total</th>\n",
       "      <th>E_PM2_5_total</th>\n",
       "      <th>E_EVA_VOC</th>\n",
       "    </tr>\n",
       "  </thead>\n",
       "  <tbody>\n",
       "    <tr>\n",
       "      <th>0</th>\n",
       "      <td>494.77</td>\n",
       "      <td>58.74</td>\n",
       "      <td>29.57</td>\n",
       "      <td>0.01</td>\n",
       "      <td>0.01</td>\n",
       "      <td>2030.80</td>\n",
       "    </tr>\n",
       "    <tr>\n",
       "      <th>1</th>\n",
       "      <td>36.57</td>\n",
       "      <td>10.58</td>\n",
       "      <td>20.21</td>\n",
       "      <td>0.01</td>\n",
       "      <td>0.01</td>\n",
       "      <td>2129.61</td>\n",
       "    </tr>\n",
       "    <tr>\n",
       "      <th>2</th>\n",
       "      <td>595.27</td>\n",
       "      <td>70.38</td>\n",
       "      <td>35.58</td>\n",
       "      <td>0.01</td>\n",
       "      <td>0.01</td>\n",
       "      <td>2151.98</td>\n",
       "    </tr>\n",
       "    <tr>\n",
       "      <th>4</th>\n",
       "      <td>589.08</td>\n",
       "      <td>69.66</td>\n",
       "      <td>35.21</td>\n",
       "      <td>0.01</td>\n",
       "      <td>0.01</td>\n",
       "      <td>2144.52</td>\n",
       "    </tr>\n",
       "    <tr>\n",
       "      <th>6</th>\n",
       "      <td>494.77</td>\n",
       "      <td>58.74</td>\n",
       "      <td>29.57</td>\n",
       "      <td>0.01</td>\n",
       "      <td>0.01</td>\n",
       "      <td>2030.80</td>\n",
       "    </tr>\n",
       "  </tbody>\n",
       "</table>\n",
       "</div>"
      ],
      "text/plain": [
       "   E_CO_total  E_HC_total  E_NOx_total  E_PM10_total  E_PM2_5_total  E_EVA_VOC\n",
       "0      494.77       58.74        29.57          0.01           0.01    2030.80\n",
       "1       36.57       10.58        20.21          0.01           0.01    2129.61\n",
       "2      595.27       70.38        35.58          0.01           0.01    2151.98\n",
       "4      589.08       69.66        35.21          0.01           0.01    2144.52\n",
       "6      494.77       58.74        29.57          0.01           0.01    2030.80"
      ]
     },
     "execution_count": 314,
     "metadata": {},
     "output_type": "execute_result"
    }
   ],
   "source": [
    "df2.loc[df2['fuel'] == '휘발유', check_E_col + ['E_EVA_VOC']].head()"
   ]
  },
  {
   "cell_type": "code",
   "execution_count": 315,
   "metadata": {},
   "outputs": [
    {
     "data": {
      "text/html": [
       "<div>\n",
       "<style scoped>\n",
       "    .dataframe tbody tr th:only-of-type {\n",
       "        vertical-align: middle;\n",
       "    }\n",
       "\n",
       "    .dataframe tbody tr th {\n",
       "        vertical-align: top;\n",
       "    }\n",
       "\n",
       "    .dataframe thead th {\n",
       "        text-align: right;\n",
       "    }\n",
       "</style>\n",
       "<table border=\"1\" class=\"dataframe\">\n",
       "  <thead>\n",
       "    <tr style=\"text-align: right;\">\n",
       "      <th></th>\n",
       "      <th>E_CO_total</th>\n",
       "      <th>E_HC_total</th>\n",
       "      <th>E_NOx_total</th>\n",
       "      <th>E_PM10_total</th>\n",
       "      <th>E_PM2_5_total</th>\n",
       "    </tr>\n",
       "  </thead>\n",
       "  <tbody>\n",
       "    <tr>\n",
       "      <th>3</th>\n",
       "      <td>97.81</td>\n",
       "      <td>24.18</td>\n",
       "      <td>108.63</td>\n",
       "      <td>10.70</td>\n",
       "      <td>9.85</td>\n",
       "    </tr>\n",
       "    <tr>\n",
       "      <th>5</th>\n",
       "      <td>114.72</td>\n",
       "      <td>28.36</td>\n",
       "      <td>127.41</td>\n",
       "      <td>12.55</td>\n",
       "      <td>11.55</td>\n",
       "    </tr>\n",
       "    <tr>\n",
       "      <th>9</th>\n",
       "      <td>74.78</td>\n",
       "      <td>18.49</td>\n",
       "      <td>83.06</td>\n",
       "      <td>8.18</td>\n",
       "      <td>7.53</td>\n",
       "    </tr>\n",
       "    <tr>\n",
       "      <th>11</th>\n",
       "      <td>105.14</td>\n",
       "      <td>25.99</td>\n",
       "      <td>116.78</td>\n",
       "      <td>11.50</td>\n",
       "      <td>10.58</td>\n",
       "    </tr>\n",
       "    <tr>\n",
       "      <th>16</th>\n",
       "      <td>122.66</td>\n",
       "      <td>40.40</td>\n",
       "      <td>573.17</td>\n",
       "      <td>37.57</td>\n",
       "      <td>34.56</td>\n",
       "    </tr>\n",
       "  </tbody>\n",
       "</table>\n",
       "</div>"
      ],
      "text/plain": [
       "    E_CO_total  E_HC_total  E_NOx_total  E_PM10_total  E_PM2_5_total\n",
       "3        97.81       24.18       108.63         10.70           9.85\n",
       "5       114.72       28.36       127.41         12.55          11.55\n",
       "9        74.78       18.49        83.06          8.18           7.53\n",
       "11      105.14       25.99       116.78         11.50          10.58\n",
       "16      122.66       40.40       573.17         37.57          34.56"
      ]
     },
     "execution_count": 315,
     "metadata": {},
     "output_type": "execute_result"
    }
   ],
   "source": [
    "df2.loc[df2['fuel'] == '경유', check_E_col].head()"
   ]
  },
  {
   "cell_type": "code",
   "execution_count": 316,
   "metadata": {},
   "outputs": [
    {
     "data": {
      "text/html": [
       "<div>\n",
       "<style scoped>\n",
       "    .dataframe tbody tr th:only-of-type {\n",
       "        vertical-align: middle;\n",
       "    }\n",
       "\n",
       "    .dataframe tbody tr th {\n",
       "        vertical-align: top;\n",
       "    }\n",
       "\n",
       "    .dataframe thead th {\n",
       "        text-align: right;\n",
       "    }\n",
       "</style>\n",
       "<table border=\"1\" class=\"dataframe\">\n",
       "  <thead>\n",
       "    <tr style=\"text-align: right;\">\n",
       "      <th></th>\n",
       "      <th>E_CO_total</th>\n",
       "      <th>E_HC_total</th>\n",
       "      <th>E_NOx_total</th>\n",
       "      <th>E_PM10_total</th>\n",
       "      <th>E_PM2_5_total</th>\n",
       "    </tr>\n",
       "  </thead>\n",
       "  <tbody>\n",
       "    <tr>\n",
       "      <th>6069</th>\n",
       "      <td>68.95</td>\n",
       "      <td>6.50</td>\n",
       "      <td>8.57</td>\n",
       "      <td>0.00</td>\n",
       "      <td>0.00</td>\n",
       "    </tr>\n",
       "    <tr>\n",
       "      <th>10087</th>\n",
       "      <td>15.77</td>\n",
       "      <td>0.67</td>\n",
       "      <td>2.81</td>\n",
       "      <td>0.00</td>\n",
       "      <td>0.00</td>\n",
       "    </tr>\n",
       "    <tr>\n",
       "      <th>10786</th>\n",
       "      <td>62.20</td>\n",
       "      <td>5.86</td>\n",
       "      <td>7.73</td>\n",
       "      <td>0.00</td>\n",
       "      <td>0.00</td>\n",
       "    </tr>\n",
       "    <tr>\n",
       "      <th>11187</th>\n",
       "      <td>63.11</td>\n",
       "      <td>5.95</td>\n",
       "      <td>7.85</td>\n",
       "      <td>0.00</td>\n",
       "      <td>0.00</td>\n",
       "    </tr>\n",
       "    <tr>\n",
       "      <th>12082</th>\n",
       "      <td>69.32</td>\n",
       "      <td>6.53</td>\n",
       "      <td>8.62</td>\n",
       "      <td>0.00</td>\n",
       "      <td>0.00</td>\n",
       "    </tr>\n",
       "  </tbody>\n",
       "</table>\n",
       "</div>"
      ],
      "text/plain": [
       "       E_CO_total  E_HC_total  E_NOx_total  E_PM10_total  E_PM2_5_total\n",
       "6069        68.95        6.50         8.57          0.00           0.00\n",
       "10087       15.77        0.67         2.81          0.00           0.00\n",
       "10786       62.20        5.86         7.73          0.00           0.00\n",
       "11187       63.11        5.95         7.85          0.00           0.00\n",
       "12082       69.32        6.53         8.62          0.00           0.00"
      ]
     },
     "execution_count": 316,
     "metadata": {},
     "output_type": "execute_result"
    }
   ],
   "source": [
    "df2.loc[df2['fuel'] == 'LPG', check_E_col].head()"
   ]
  },
  {
   "cell_type": "code",
   "execution_count": 317,
   "metadata": {},
   "outputs": [
    {
     "data": {
      "text/html": [
       "<div>\n",
       "<style scoped>\n",
       "    .dataframe tbody tr th:only-of-type {\n",
       "        vertical-align: middle;\n",
       "    }\n",
       "\n",
       "    .dataframe tbody tr th {\n",
       "        vertical-align: top;\n",
       "    }\n",
       "\n",
       "    .dataframe thead th {\n",
       "        text-align: right;\n",
       "    }\n",
       "</style>\n",
       "<table border=\"1\" class=\"dataframe\">\n",
       "  <thead>\n",
       "    <tr style=\"text-align: right;\">\n",
       "      <th></th>\n",
       "      <th>fuel</th>\n",
       "      <th>차종</th>\n",
       "      <th>차종유형</th>\n",
       "      <th>차량연식</th>\n",
       "      <th>차령</th>\n",
       "      <th>E_CO_total</th>\n",
       "      <th>E_HC_total</th>\n",
       "      <th>E_NOx_total</th>\n",
       "      <th>E_PM10_total</th>\n",
       "      <th>E_PM2_5_total</th>\n",
       "    </tr>\n",
       "  </thead>\n",
       "  <tbody>\n",
       "    <tr>\n",
       "      <th>29</th>\n",
       "      <td>경유</td>\n",
       "      <td>승용</td>\n",
       "      <td>중형</td>\n",
       "      <td>1972</td>\n",
       "      <td>51</td>\n",
       "      <td>2.55</td>\n",
       "      <td>0.23</td>\n",
       "      <td>19.30</td>\n",
       "      <td>1.03</td>\n",
       "      <td>0.94</td>\n",
       "    </tr>\n",
       "    <tr>\n",
       "      <th>31</th>\n",
       "      <td>경유</td>\n",
       "      <td>승용</td>\n",
       "      <td>중형</td>\n",
       "      <td>1973</td>\n",
       "      <td>50</td>\n",
       "      <td>2.59</td>\n",
       "      <td>0.24</td>\n",
       "      <td>19.54</td>\n",
       "      <td>1.04</td>\n",
       "      <td>0.96</td>\n",
       "    </tr>\n",
       "    <tr>\n",
       "      <th>43</th>\n",
       "      <td>경유</td>\n",
       "      <td>승용</td>\n",
       "      <td>중형</td>\n",
       "      <td>1975</td>\n",
       "      <td>48</td>\n",
       "      <td>2.69</td>\n",
       "      <td>0.25</td>\n",
       "      <td>20.32</td>\n",
       "      <td>1.08</td>\n",
       "      <td>0.99</td>\n",
       "    </tr>\n",
       "    <tr>\n",
       "      <th>60</th>\n",
       "      <td>경유</td>\n",
       "      <td>승용</td>\n",
       "      <td>소형</td>\n",
       "      <td>1983</td>\n",
       "      <td>40</td>\n",
       "      <td>2.83</td>\n",
       "      <td>0.26</td>\n",
       "      <td>21.41</td>\n",
       "      <td>1.14</td>\n",
       "      <td>1.05</td>\n",
       "    </tr>\n",
       "    <tr>\n",
       "      <th>73</th>\n",
       "      <td>경유</td>\n",
       "      <td>승용</td>\n",
       "      <td>중형</td>\n",
       "      <td>1975</td>\n",
       "      <td>48</td>\n",
       "      <td>2.72</td>\n",
       "      <td>0.25</td>\n",
       "      <td>20.57</td>\n",
       "      <td>1.09</td>\n",
       "      <td>1.01</td>\n",
       "    </tr>\n",
       "  </tbody>\n",
       "</table>\n",
       "</div>"
      ],
      "text/plain": [
       "   fuel  차종 차종유형  차량연식  차령  E_CO_total  E_HC_total  E_NOx_total  E_PM10_total   \n",
       "29   경유  승용   중형  1972  51        2.55        0.23        19.30          1.03  \\\n",
       "31   경유  승용   중형  1973  50        2.59        0.24        19.54          1.04   \n",
       "43   경유  승용   중형  1975  48        2.69        0.25        20.32          1.08   \n",
       "60   경유  승용   소형  1983  40        2.83        0.26        21.41          1.14   \n",
       "73   경유  승용   중형  1975  48        2.72        0.25        20.57          1.09   \n",
       "\n",
       "    E_PM2_5_total  \n",
       "29           0.94  \n",
       "31           0.96  \n",
       "43           0.99  \n",
       "60           1.05  \n",
       "73           1.01  "
      ]
     },
     "execution_count": 317,
     "metadata": {},
     "output_type": "execute_result"
    }
   ],
   "source": [
    "df2.loc[(df2['fuel'] == '경유') & (df2['차종'] == '승용'), DF_col + check_E_col].head()"
   ]
  },
  {
   "cell_type": "code",
   "execution_count": 318,
   "metadata": {},
   "outputs": [
    {
     "data": {
      "text/html": [
       "<div>\n",
       "<style scoped>\n",
       "    .dataframe tbody tr th:only-of-type {\n",
       "        vertical-align: middle;\n",
       "    }\n",
       "\n",
       "    .dataframe tbody tr th {\n",
       "        vertical-align: top;\n",
       "    }\n",
       "\n",
       "    .dataframe thead th {\n",
       "        text-align: right;\n",
       "    }\n",
       "</style>\n",
       "<table border=\"1\" class=\"dataframe\">\n",
       "  <thead>\n",
       "    <tr style=\"text-align: right;\">\n",
       "      <th></th>\n",
       "      <th>fuel</th>\n",
       "      <th>차종</th>\n",
       "      <th>차종유형</th>\n",
       "      <th>차량연식</th>\n",
       "      <th>차령</th>\n",
       "      <th>E_CO_total</th>\n",
       "      <th>E_HC_total</th>\n",
       "      <th>E_NOx_total</th>\n",
       "      <th>E_PM10_total</th>\n",
       "      <th>E_PM2_5_total</th>\n",
       "    </tr>\n",
       "  </thead>\n",
       "  <tbody>\n",
       "    <tr>\n",
       "      <th>3</th>\n",
       "      <td>경유</td>\n",
       "      <td>화물</td>\n",
       "      <td>중형</td>\n",
       "      <td>1971</td>\n",
       "      <td>52</td>\n",
       "      <td>97.81</td>\n",
       "      <td>24.18</td>\n",
       "      <td>108.63</td>\n",
       "      <td>10.70</td>\n",
       "      <td>9.85</td>\n",
       "    </tr>\n",
       "    <tr>\n",
       "      <th>5</th>\n",
       "      <td>경유</td>\n",
       "      <td>화물</td>\n",
       "      <td>중형</td>\n",
       "      <td>1976</td>\n",
       "      <td>47</td>\n",
       "      <td>114.72</td>\n",
       "      <td>28.36</td>\n",
       "      <td>127.41</td>\n",
       "      <td>12.55</td>\n",
       "      <td>11.55</td>\n",
       "    </tr>\n",
       "    <tr>\n",
       "      <th>9</th>\n",
       "      <td>경유</td>\n",
       "      <td>화물</td>\n",
       "      <td>중형</td>\n",
       "      <td>1967</td>\n",
       "      <td>56</td>\n",
       "      <td>74.78</td>\n",
       "      <td>18.49</td>\n",
       "      <td>83.06</td>\n",
       "      <td>8.18</td>\n",
       "      <td>7.53</td>\n",
       "    </tr>\n",
       "    <tr>\n",
       "      <th>11</th>\n",
       "      <td>경유</td>\n",
       "      <td>화물</td>\n",
       "      <td>중형</td>\n",
       "      <td>1976</td>\n",
       "      <td>47</td>\n",
       "      <td>105.14</td>\n",
       "      <td>25.99</td>\n",
       "      <td>116.78</td>\n",
       "      <td>11.50</td>\n",
       "      <td>10.58</td>\n",
       "    </tr>\n",
       "    <tr>\n",
       "      <th>16</th>\n",
       "      <td>경유</td>\n",
       "      <td>화물</td>\n",
       "      <td>대형</td>\n",
       "      <td>1970</td>\n",
       "      <td>53</td>\n",
       "      <td>122.66</td>\n",
       "      <td>40.40</td>\n",
       "      <td>573.17</td>\n",
       "      <td>37.57</td>\n",
       "      <td>34.56</td>\n",
       "    </tr>\n",
       "  </tbody>\n",
       "</table>\n",
       "</div>"
      ],
      "text/plain": [
       "   fuel  차종 차종유형  차량연식  차령  E_CO_total  E_HC_total  E_NOx_total  E_PM10_total   \n",
       "3    경유  화물   중형  1971  52       97.81       24.18       108.63         10.70  \\\n",
       "5    경유  화물   중형  1976  47      114.72       28.36       127.41         12.55   \n",
       "9    경유  화물   중형  1967  56       74.78       18.49        83.06          8.18   \n",
       "11   경유  화물   중형  1976  47      105.14       25.99       116.78         11.50   \n",
       "16   경유  화물   대형  1970  53      122.66       40.40       573.17         37.57   \n",
       "\n",
       "    E_PM2_5_total  \n",
       "3            9.85  \n",
       "5           11.55  \n",
       "9            7.53  \n",
       "11          10.58  \n",
       "16          34.56  "
      ]
     },
     "execution_count": 318,
     "metadata": {},
     "output_type": "execute_result"
    }
   ],
   "source": [
    "df2.loc[(df2['fuel'] == '경유') & (df2['차종'] == '화물'), DF_col + check_E_col].head()"
   ]
  },
  {
   "cell_type": "code",
   "execution_count": 319,
   "metadata": {},
   "outputs": [
    {
     "data": {
      "text/html": [
       "<div>\n",
       "<style scoped>\n",
       "    .dataframe tbody tr th:only-of-type {\n",
       "        vertical-align: middle;\n",
       "    }\n",
       "\n",
       "    .dataframe tbody tr th {\n",
       "        vertical-align: top;\n",
       "    }\n",
       "\n",
       "    .dataframe thead th {\n",
       "        text-align: right;\n",
       "    }\n",
       "</style>\n",
       "<table border=\"1\" class=\"dataframe\">\n",
       "  <thead>\n",
       "    <tr style=\"text-align: right;\">\n",
       "      <th></th>\n",
       "      <th>fuel</th>\n",
       "      <th>차종</th>\n",
       "      <th>차종유형</th>\n",
       "      <th>차량연식</th>\n",
       "      <th>차령</th>\n",
       "      <th>E_CO_total</th>\n",
       "      <th>E_HC_total</th>\n",
       "      <th>E_NOx_total</th>\n",
       "      <th>E_PM10_total</th>\n",
       "      <th>E_PM2_5_total</th>\n",
       "    </tr>\n",
       "  </thead>\n",
       "  <tbody>\n",
       "    <tr>\n",
       "      <th>0</th>\n",
       "      <td>휘발유</td>\n",
       "      <td>승용</td>\n",
       "      <td>소형</td>\n",
       "      <td>1976</td>\n",
       "      <td>47</td>\n",
       "      <td>494.77</td>\n",
       "      <td>58.74</td>\n",
       "      <td>29.57</td>\n",
       "      <td>0.01</td>\n",
       "      <td>0.01</td>\n",
       "    </tr>\n",
       "    <tr>\n",
       "      <th>1</th>\n",
       "      <td>휘발유</td>\n",
       "      <td>승용</td>\n",
       "      <td>경형</td>\n",
       "      <td>1968</td>\n",
       "      <td>55</td>\n",
       "      <td>36.57</td>\n",
       "      <td>10.58</td>\n",
       "      <td>20.21</td>\n",
       "      <td>0.01</td>\n",
       "      <td>0.01</td>\n",
       "    </tr>\n",
       "    <tr>\n",
       "      <th>2</th>\n",
       "      <td>휘발유</td>\n",
       "      <td>승용</td>\n",
       "      <td>소형</td>\n",
       "      <td>1976</td>\n",
       "      <td>47</td>\n",
       "      <td>595.27</td>\n",
       "      <td>70.38</td>\n",
       "      <td>35.58</td>\n",
       "      <td>0.01</td>\n",
       "      <td>0.01</td>\n",
       "    </tr>\n",
       "    <tr>\n",
       "      <th>4</th>\n",
       "      <td>휘발유</td>\n",
       "      <td>승용</td>\n",
       "      <td>소형</td>\n",
       "      <td>1986</td>\n",
       "      <td>37</td>\n",
       "      <td>589.08</td>\n",
       "      <td>69.66</td>\n",
       "      <td>35.21</td>\n",
       "      <td>0.01</td>\n",
       "      <td>0.01</td>\n",
       "    </tr>\n",
       "    <tr>\n",
       "      <th>6</th>\n",
       "      <td>휘발유</td>\n",
       "      <td>승용</td>\n",
       "      <td>소형</td>\n",
       "      <td>1976</td>\n",
       "      <td>47</td>\n",
       "      <td>494.77</td>\n",
       "      <td>58.74</td>\n",
       "      <td>29.57</td>\n",
       "      <td>0.01</td>\n",
       "      <td>0.01</td>\n",
       "    </tr>\n",
       "  </tbody>\n",
       "</table>\n",
       "</div>"
      ],
      "text/plain": [
       "  fuel  차종 차종유형  차량연식  차령  E_CO_total  E_HC_total  E_NOx_total  E_PM10_total   \n",
       "0  휘발유  승용   소형  1976  47      494.77       58.74        29.57          0.01  \\\n",
       "1  휘발유  승용   경형  1968  55       36.57       10.58        20.21          0.01   \n",
       "2  휘발유  승용   소형  1976  47      595.27       70.38        35.58          0.01   \n",
       "4  휘발유  승용   소형  1986  37      589.08       69.66        35.21          0.01   \n",
       "6  휘발유  승용   소형  1976  47      494.77       58.74        29.57          0.01   \n",
       "\n",
       "   E_PM2_5_total  \n",
       "0           0.01  \n",
       "1           0.01  \n",
       "2           0.01  \n",
       "4           0.01  \n",
       "6           0.01  "
      ]
     },
     "execution_count": 319,
     "metadata": {},
     "output_type": "execute_result"
    }
   ],
   "source": [
    "df2.loc[(df2['fuel'] == '휘발유') & (df2['차종'] == '승용'), DF_col + check_E_col].head()"
   ]
  },
  {
   "cell_type": "code",
   "execution_count": 320,
   "metadata": {},
   "outputs": [
    {
     "data": {
      "text/html": [
       "<div>\n",
       "<style scoped>\n",
       "    .dataframe tbody tr th:only-of-type {\n",
       "        vertical-align: middle;\n",
       "    }\n",
       "\n",
       "    .dataframe tbody tr th {\n",
       "        vertical-align: top;\n",
       "    }\n",
       "\n",
       "    .dataframe thead th {\n",
       "        text-align: right;\n",
       "    }\n",
       "</style>\n",
       "<table border=\"1\" class=\"dataframe\">\n",
       "  <thead>\n",
       "    <tr style=\"text-align: right;\">\n",
       "      <th></th>\n",
       "      <th>fuel</th>\n",
       "      <th>차종</th>\n",
       "      <th>차종유형</th>\n",
       "      <th>차량연식</th>\n",
       "      <th>차령</th>\n",
       "      <th>E_CO_total</th>\n",
       "      <th>E_HC_total</th>\n",
       "      <th>E_NOx_total</th>\n",
       "      <th>E_PM10_total</th>\n",
       "      <th>E_PM2_5_total</th>\n",
       "    </tr>\n",
       "  </thead>\n",
       "  <tbody>\n",
       "    <tr>\n",
       "      <th>61</th>\n",
       "      <td>휘발유</td>\n",
       "      <td>화물</td>\n",
       "      <td>소형</td>\n",
       "      <td>1973</td>\n",
       "      <td>50</td>\n",
       "      <td>66.73</td>\n",
       "      <td>11.69</td>\n",
       "      <td>15.78</td>\n",
       "      <td>0.01</td>\n",
       "      <td>0.01</td>\n",
       "    </tr>\n",
       "    <tr>\n",
       "      <th>87</th>\n",
       "      <td>휘발유</td>\n",
       "      <td>화물</td>\n",
       "      <td>대형</td>\n",
       "      <td>1980</td>\n",
       "      <td>43</td>\n",
       "      <td>90.74</td>\n",
       "      <td>24.49</td>\n",
       "      <td>125.98</td>\n",
       "      <td>9.93</td>\n",
       "      <td>9.13</td>\n",
       "    </tr>\n",
       "    <tr>\n",
       "      <th>96</th>\n",
       "      <td>휘발유</td>\n",
       "      <td>화물</td>\n",
       "      <td>소형</td>\n",
       "      <td>1976</td>\n",
       "      <td>47</td>\n",
       "      <td>57.79</td>\n",
       "      <td>10.32</td>\n",
       "      <td>13.67</td>\n",
       "      <td>0.01</td>\n",
       "      <td>0.01</td>\n",
       "    </tr>\n",
       "    <tr>\n",
       "      <th>141</th>\n",
       "      <td>휘발유</td>\n",
       "      <td>화물</td>\n",
       "      <td>중형</td>\n",
       "      <td>1972</td>\n",
       "      <td>51</td>\n",
       "      <td>186.92</td>\n",
       "      <td>48.93</td>\n",
       "      <td>259.51</td>\n",
       "      <td>20.45</td>\n",
       "      <td>18.82</td>\n",
       "    </tr>\n",
       "    <tr>\n",
       "      <th>159</th>\n",
       "      <td>휘발유</td>\n",
       "      <td>화물</td>\n",
       "      <td>대형</td>\n",
       "      <td>1962</td>\n",
       "      <td>61</td>\n",
       "      <td>90.74</td>\n",
       "      <td>24.49</td>\n",
       "      <td>125.98</td>\n",
       "      <td>9.93</td>\n",
       "      <td>9.13</td>\n",
       "    </tr>\n",
       "  </tbody>\n",
       "</table>\n",
       "</div>"
      ],
      "text/plain": [
       "    fuel  차종 차종유형  차량연식  차령  E_CO_total  E_HC_total  E_NOx_total   \n",
       "61   휘발유  화물   소형  1973  50       66.73       11.69        15.78  \\\n",
       "87   휘발유  화물   대형  1980  43       90.74       24.49       125.98   \n",
       "96   휘발유  화물   소형  1976  47       57.79       10.32        13.67   \n",
       "141  휘발유  화물   중형  1972  51      186.92       48.93       259.51   \n",
       "159  휘발유  화물   대형  1962  61       90.74       24.49       125.98   \n",
       "\n",
       "     E_PM10_total  E_PM2_5_total  \n",
       "61           0.01           0.01  \n",
       "87           9.93           9.13  \n",
       "96           0.01           0.01  \n",
       "141         20.45          18.82  \n",
       "159          9.93           9.13  "
      ]
     },
     "execution_count": 320,
     "metadata": {},
     "output_type": "execute_result"
    }
   ],
   "source": [
    "df2.loc[(df2['fuel'] == '휘발유') & (df2['차종'] == '화물'), DF_col + check_E_col].head()"
   ]
  },
  {
   "attachments": {},
   "cell_type": "markdown",
   "metadata": {},
   "source": [
    "### issue\n",
    "- LPG : E_COLD_NOx 값 음수 -> 0으로 처리"
   ]
  },
  {
   "cell_type": "code",
   "execution_count": 321,
   "metadata": {},
   "outputs": [
    {
     "data": {
      "text/html": [
       "<div>\n",
       "<style scoped>\n",
       "    .dataframe tbody tr th:only-of-type {\n",
       "        vertical-align: middle;\n",
       "    }\n",
       "\n",
       "    .dataframe tbody tr th {\n",
       "        vertical-align: top;\n",
       "    }\n",
       "\n",
       "    .dataframe thead th {\n",
       "        text-align: right;\n",
       "    }\n",
       "</style>\n",
       "<table border=\"1\" class=\"dataframe\">\n",
       "  <thead>\n",
       "    <tr style=\"text-align: right;\">\n",
       "      <th></th>\n",
       "      <th>fuel</th>\n",
       "      <th>차종</th>\n",
       "      <th>차종유형</th>\n",
       "      <th>차량연식</th>\n",
       "      <th>차령</th>\n",
       "      <th>E_HOT_CO</th>\n",
       "      <th>E_HOT_HC</th>\n",
       "      <th>E_HOT_NOx</th>\n",
       "      <th>E_HOT_PM10</th>\n",
       "      <th>E_HOT_PM2_5</th>\n",
       "      <th>E_COLD_CO</th>\n",
       "      <th>E_COLD_NOx</th>\n",
       "      <th>E_COLD_HC</th>\n",
       "      <th>E_COLD_PM10</th>\n",
       "      <th>E_COLD_PM2_5</th>\n",
       "      <th>E_CO_total</th>\n",
       "      <th>E_HC_total</th>\n",
       "      <th>E_NOx_total</th>\n",
       "      <th>E_PM10_total</th>\n",
       "      <th>E_PM2_5_total</th>\n",
       "    </tr>\n",
       "  </thead>\n",
       "  <tbody>\n",
       "    <tr>\n",
       "      <th>6069</th>\n",
       "      <td>LPG</td>\n",
       "      <td>승용</td>\n",
       "      <td>소형</td>\n",
       "      <td>1983</td>\n",
       "      <td>40</td>\n",
       "      <td>48.33</td>\n",
       "      <td>5.72</td>\n",
       "      <td>8.57</td>\n",
       "      <td>0.00</td>\n",
       "      <td>0.00</td>\n",
       "      <td>20625.83</td>\n",
       "      <td>0.00</td>\n",
       "      <td>783.64</td>\n",
       "      <td>0.00</td>\n",
       "      <td>0.00</td>\n",
       "      <td>68.95</td>\n",
       "      <td>6.50</td>\n",
       "      <td>8.57</td>\n",
       "      <td>0.00</td>\n",
       "      <td>0.00</td>\n",
       "    </tr>\n",
       "    <tr>\n",
       "      <th>10087</th>\n",
       "      <td>LPG</td>\n",
       "      <td>승용</td>\n",
       "      <td>소형</td>\n",
       "      <td>2002</td>\n",
       "      <td>21</td>\n",
       "      <td>11.05</td>\n",
       "      <td>0.59</td>\n",
       "      <td>2.81</td>\n",
       "      <td>0.00</td>\n",
       "      <td>0.00</td>\n",
       "      <td>4717.69</td>\n",
       "      <td>0.00</td>\n",
       "      <td>81.29</td>\n",
       "      <td>0.00</td>\n",
       "      <td>0.00</td>\n",
       "      <td>15.77</td>\n",
       "      <td>0.67</td>\n",
       "      <td>2.81</td>\n",
       "      <td>0.00</td>\n",
       "      <td>0.00</td>\n",
       "    </tr>\n",
       "    <tr>\n",
       "      <th>10786</th>\n",
       "      <td>LPG</td>\n",
       "      <td>승용</td>\n",
       "      <td>소형</td>\n",
       "      <td>1982</td>\n",
       "      <td>41</td>\n",
       "      <td>43.60</td>\n",
       "      <td>5.16</td>\n",
       "      <td>7.73</td>\n",
       "      <td>0.00</td>\n",
       "      <td>0.00</td>\n",
       "      <td>18606.90</td>\n",
       "      <td>0.00</td>\n",
       "      <td>706.93</td>\n",
       "      <td>0.00</td>\n",
       "      <td>0.00</td>\n",
       "      <td>62.20</td>\n",
       "      <td>5.86</td>\n",
       "      <td>7.73</td>\n",
       "      <td>0.00</td>\n",
       "      <td>0.00</td>\n",
       "    </tr>\n",
       "    <tr>\n",
       "      <th>11187</th>\n",
       "      <td>LPG</td>\n",
       "      <td>승용</td>\n",
       "      <td>소형</td>\n",
       "      <td>1982</td>\n",
       "      <td>41</td>\n",
       "      <td>44.23</td>\n",
       "      <td>5.23</td>\n",
       "      <td>7.85</td>\n",
       "      <td>0.00</td>\n",
       "      <td>0.00</td>\n",
       "      <td>18879.73</td>\n",
       "      <td>0.00</td>\n",
       "      <td>717.30</td>\n",
       "      <td>0.00</td>\n",
       "      <td>0.00</td>\n",
       "      <td>63.11</td>\n",
       "      <td>5.95</td>\n",
       "      <td>7.85</td>\n",
       "      <td>0.00</td>\n",
       "      <td>0.00</td>\n",
       "    </tr>\n",
       "    <tr>\n",
       "      <th>12082</th>\n",
       "      <td>LPG</td>\n",
       "      <td>승용</td>\n",
       "      <td>소형</td>\n",
       "      <td>1982</td>\n",
       "      <td>41</td>\n",
       "      <td>48.58</td>\n",
       "      <td>5.75</td>\n",
       "      <td>8.62</td>\n",
       "      <td>0.00</td>\n",
       "      <td>0.00</td>\n",
       "      <td>20734.96</td>\n",
       "      <td>0.00</td>\n",
       "      <td>787.78</td>\n",
       "      <td>0.00</td>\n",
       "      <td>0.00</td>\n",
       "      <td>69.32</td>\n",
       "      <td>6.53</td>\n",
       "      <td>8.62</td>\n",
       "      <td>0.00</td>\n",
       "      <td>0.00</td>\n",
       "    </tr>\n",
       "  </tbody>\n",
       "</table>\n",
       "</div>"
      ],
      "text/plain": [
       "      fuel  차종 차종유형  차량연식  차령  E_HOT_CO  E_HOT_HC  E_HOT_NOx  E_HOT_PM10   \n",
       "6069   LPG  승용   소형  1983  40     48.33      5.72       8.57        0.00  \\\n",
       "10087  LPG  승용   소형  2002  21     11.05      0.59       2.81        0.00   \n",
       "10786  LPG  승용   소형  1982  41     43.60      5.16       7.73        0.00   \n",
       "11187  LPG  승용   소형  1982  41     44.23      5.23       7.85        0.00   \n",
       "12082  LPG  승용   소형  1982  41     48.58      5.75       8.62        0.00   \n",
       "\n",
       "       E_HOT_PM2_5  E_COLD_CO  E_COLD_NOx  E_COLD_HC  E_COLD_PM10   \n",
       "6069          0.00   20625.83        0.00     783.64         0.00  \\\n",
       "10087         0.00    4717.69        0.00      81.29         0.00   \n",
       "10786         0.00   18606.90        0.00     706.93         0.00   \n",
       "11187         0.00   18879.73        0.00     717.30         0.00   \n",
       "12082         0.00   20734.96        0.00     787.78         0.00   \n",
       "\n",
       "       E_COLD_PM2_5  E_CO_total  E_HC_total  E_NOx_total  E_PM10_total   \n",
       "6069           0.00       68.95        6.50         8.57          0.00  \\\n",
       "10087          0.00       15.77        0.67         2.81          0.00   \n",
       "10786          0.00       62.20        5.86         7.73          0.00   \n",
       "11187          0.00       63.11        5.95         7.85          0.00   \n",
       "12082          0.00       69.32        6.53         8.62          0.00   \n",
       "\n",
       "       E_PM2_5_total  \n",
       "6069            0.00  \n",
       "10087           0.00  \n",
       "10786           0.00  \n",
       "11187           0.00  \n",
       "12082           0.00  "
      ]
     },
     "execution_count": 321,
     "metadata": {},
     "output_type": "execute_result"
    }
   ],
   "source": [
    "df2.loc[df2['fuel'] == 'LPG', DF_col + check_E_HOT_col + check_E_cold_col + check_E_col].head()"
   ]
  },
  {
   "cell_type": "code",
   "execution_count": 322,
   "metadata": {},
   "outputs": [
    {
     "data": {
      "text/html": [
       "<div>\n",
       "<style scoped>\n",
       "    .dataframe tbody tr th:only-of-type {\n",
       "        vertical-align: middle;\n",
       "    }\n",
       "\n",
       "    .dataframe tbody tr th {\n",
       "        vertical-align: top;\n",
       "    }\n",
       "\n",
       "    .dataframe thead th {\n",
       "        text-align: right;\n",
       "    }\n",
       "</style>\n",
       "<table border=\"1\" class=\"dataframe\">\n",
       "  <thead>\n",
       "    <tr style=\"text-align: right;\">\n",
       "      <th></th>\n",
       "      <th>fuel</th>\n",
       "      <th>차종</th>\n",
       "      <th>차종유형</th>\n",
       "      <th>차량연식</th>\n",
       "      <th>차령</th>\n",
       "      <th>E_COLD_CO</th>\n",
       "      <th>E_COLD_NOx</th>\n",
       "      <th>E_COLD_HC</th>\n",
       "      <th>E_COLD_PM10</th>\n",
       "      <th>E_COLD_PM2_5</th>\n",
       "      <th>E_CO_total</th>\n",
       "      <th>E_HC_total</th>\n",
       "      <th>E_NOx_total</th>\n",
       "      <th>E_PM10_total</th>\n",
       "      <th>E_PM2_5_total</th>\n",
       "    </tr>\n",
       "  </thead>\n",
       "  <tbody>\n",
       "    <tr>\n",
       "      <th>6069</th>\n",
       "      <td>LPG</td>\n",
       "      <td>승용</td>\n",
       "      <td>소형</td>\n",
       "      <td>1983</td>\n",
       "      <td>40</td>\n",
       "      <td>20625.83</td>\n",
       "      <td>0.00</td>\n",
       "      <td>783.64</td>\n",
       "      <td>0.00</td>\n",
       "      <td>0.00</td>\n",
       "      <td>68.95</td>\n",
       "      <td>6.50</td>\n",
       "      <td>8.57</td>\n",
       "      <td>0.00</td>\n",
       "      <td>0.00</td>\n",
       "    </tr>\n",
       "    <tr>\n",
       "      <th>10087</th>\n",
       "      <td>LPG</td>\n",
       "      <td>승용</td>\n",
       "      <td>소형</td>\n",
       "      <td>2002</td>\n",
       "      <td>21</td>\n",
       "      <td>4717.69</td>\n",
       "      <td>0.00</td>\n",
       "      <td>81.29</td>\n",
       "      <td>0.00</td>\n",
       "      <td>0.00</td>\n",
       "      <td>15.77</td>\n",
       "      <td>0.67</td>\n",
       "      <td>2.81</td>\n",
       "      <td>0.00</td>\n",
       "      <td>0.00</td>\n",
       "    </tr>\n",
       "    <tr>\n",
       "      <th>10786</th>\n",
       "      <td>LPG</td>\n",
       "      <td>승용</td>\n",
       "      <td>소형</td>\n",
       "      <td>1982</td>\n",
       "      <td>41</td>\n",
       "      <td>18606.90</td>\n",
       "      <td>0.00</td>\n",
       "      <td>706.93</td>\n",
       "      <td>0.00</td>\n",
       "      <td>0.00</td>\n",
       "      <td>62.20</td>\n",
       "      <td>5.86</td>\n",
       "      <td>7.73</td>\n",
       "      <td>0.00</td>\n",
       "      <td>0.00</td>\n",
       "    </tr>\n",
       "    <tr>\n",
       "      <th>11187</th>\n",
       "      <td>LPG</td>\n",
       "      <td>승용</td>\n",
       "      <td>소형</td>\n",
       "      <td>1982</td>\n",
       "      <td>41</td>\n",
       "      <td>18879.73</td>\n",
       "      <td>0.00</td>\n",
       "      <td>717.30</td>\n",
       "      <td>0.00</td>\n",
       "      <td>0.00</td>\n",
       "      <td>63.11</td>\n",
       "      <td>5.95</td>\n",
       "      <td>7.85</td>\n",
       "      <td>0.00</td>\n",
       "      <td>0.00</td>\n",
       "    </tr>\n",
       "    <tr>\n",
       "      <th>12082</th>\n",
       "      <td>LPG</td>\n",
       "      <td>승용</td>\n",
       "      <td>소형</td>\n",
       "      <td>1982</td>\n",
       "      <td>41</td>\n",
       "      <td>20734.96</td>\n",
       "      <td>0.00</td>\n",
       "      <td>787.78</td>\n",
       "      <td>0.00</td>\n",
       "      <td>0.00</td>\n",
       "      <td>69.32</td>\n",
       "      <td>6.53</td>\n",
       "      <td>8.62</td>\n",
       "      <td>0.00</td>\n",
       "      <td>0.00</td>\n",
       "    </tr>\n",
       "  </tbody>\n",
       "</table>\n",
       "</div>"
      ],
      "text/plain": [
       "      fuel  차종 차종유형  차량연식  차령  E_COLD_CO  E_COLD_NOx  E_COLD_HC  E_COLD_PM10   \n",
       "6069   LPG  승용   소형  1983  40   20625.83        0.00     783.64         0.00  \\\n",
       "10087  LPG  승용   소형  2002  21    4717.69        0.00      81.29         0.00   \n",
       "10786  LPG  승용   소형  1982  41   18606.90        0.00     706.93         0.00   \n",
       "11187  LPG  승용   소형  1982  41   18879.73        0.00     717.30         0.00   \n",
       "12082  LPG  승용   소형  1982  41   20734.96        0.00     787.78         0.00   \n",
       "\n",
       "       E_COLD_PM2_5  E_CO_total  E_HC_total  E_NOx_total  E_PM10_total   \n",
       "6069           0.00       68.95        6.50         8.57          0.00  \\\n",
       "10087          0.00       15.77        0.67         2.81          0.00   \n",
       "10786          0.00       62.20        5.86         7.73          0.00   \n",
       "11187          0.00       63.11        5.95         7.85          0.00   \n",
       "12082          0.00       69.32        6.53         8.62          0.00   \n",
       "\n",
       "       E_PM2_5_total  \n",
       "6069            0.00  \n",
       "10087           0.00  \n",
       "10786           0.00  \n",
       "11187           0.00  \n",
       "12082           0.00  "
      ]
     },
     "execution_count": 322,
     "metadata": {},
     "output_type": "execute_result"
    }
   ],
   "source": [
    "df2.loc[df2['fuel'] == 'LPG', DF_col + check_E_cold_col + check_E_col].head()"
   ]
  },
  {
   "cell_type": "code",
   "execution_count": 323,
   "metadata": {},
   "outputs": [
    {
     "data": {
      "text/plain": [
       "Index(['법정동코드', '차종', '차대번호', '차량연식', '배출가스인증번호', '배출가스등급', '차량말소YN', '차종유형',\n",
       "       '연료', '등급', 'fuel', '차령', '시도', '시구군', '일일평균주행거리', '저감장치부착유무', 'VKT',\n",
       "       'DF_CO', 'DF_HC', 'DF_PM', 'DF_NOx', 'R_CO', 'R_HC', 'R_PM', 'EFi_CO',\n",
       "       'EFi_HC', 'EFi_NOx', 'EFi_PM10', 'EFi_PM2_5', 'E_HOT_CO', 'E_HOT_HC',\n",
       "       'E_HOT_NOx', 'E_HOT_PM10', 'E_HOT_PM2_5', 'Beta(Estimated)',\n",
       "       'eCOLD/eHOT_CO', 'eCOLD/eHOT_NOx', 'eCOLD/eHOT_HC', 'eCOLD/eHOT_PM',\n",
       "       'E_COLD_CO', 'E_COLD_NOx', 'E_COLD_HC', 'E_COLD_PM10', 'E_COLD_PM2_5',\n",
       "       'e_d', 'e_RHOT', 'e_SHOT', 'e_SWARM', 'e_fi', 'e_RWARM', 'R', 'S_fi',\n",
       "       'S_c', 'E_EVA_VOC', 'E_CO_total', 'E_HC_total', 'E_NOx_total',\n",
       "       'E_PM10_total', 'E_PM2_5_total'],\n",
       "      dtype='object')"
      ]
     },
     "execution_count": 323,
     "metadata": {},
     "output_type": "execute_result"
    }
   ],
   "source": [
    "df2.columns"
   ]
  },
  {
   "cell_type": "code",
   "execution_count": 324,
   "metadata": {},
   "outputs": [
    {
     "data": {
      "text/plain": [
       "dtype('float64')"
      ]
     },
     "execution_count": 324,
     "metadata": {},
     "output_type": "execute_result"
    }
   ],
   "source": [
    "df2['E_COLD_CO'].dtype"
   ]
  },
  {
   "cell_type": "code",
   "execution_count": 325,
   "metadata": {},
   "outputs": [
    {
     "data": {
      "text/plain": [
       "(0, 59)"
      ]
     },
     "execution_count": 325,
     "metadata": {},
     "output_type": "execute_result"
    }
   ],
   "source": [
    "df2.loc[df2['E_CO_total'] < 0].shape"
   ]
  },
  {
   "cell_type": "code",
   "execution_count": 326,
   "metadata": {},
   "outputs": [
    {
     "data": {
      "text/plain": [
       "(0, 59)"
      ]
     },
     "execution_count": 326,
     "metadata": {},
     "output_type": "execute_result"
    }
   ],
   "source": [
    "df2.loc[df2['E_HC_total'] < 0].shape"
   ]
  },
  {
   "cell_type": "code",
   "execution_count": 327,
   "metadata": {},
   "outputs": [
    {
     "data": {
      "text/plain": [
       "(0, 59)"
      ]
     },
     "execution_count": 327,
     "metadata": {},
     "output_type": "execute_result"
    }
   ],
   "source": [
    "df2.loc[df2['E_PM10_total'] < 0].shape"
   ]
  },
  {
   "cell_type": "code",
   "execution_count": 328,
   "metadata": {},
   "outputs": [
    {
     "data": {
      "text/plain": [
       "(0, 59)"
      ]
     },
     "execution_count": 328,
     "metadata": {},
     "output_type": "execute_result"
    }
   ],
   "source": [
    "df2.loc[df2['E_PM2_5_total'] < 0].shape"
   ]
  },
  {
   "cell_type": "code",
   "execution_count": 329,
   "metadata": {},
   "outputs": [
    {
     "data": {
      "text/plain": [
       "(0, 2)"
      ]
     },
     "execution_count": 329,
     "metadata": {},
     "output_type": "execute_result"
    }
   ],
   "source": [
    "df2.loc[df2['E_NOx_total'] < 0, ['E_NOx_total', 'E_COLD_NOx']].shape"
   ]
  },
  {
   "attachments": {},
   "cell_type": "markdown",
   "metadata": {},
   "source": [
    "## 황산화물 배출량"
   ]
  },
  {
   "cell_type": "code",
   "execution_count": null,
   "metadata": {},
   "outputs": [],
   "source": []
  },
  {
   "cell_type": "code",
   "execution_count": null,
   "metadata": {},
   "outputs": [],
   "source": []
  },
  {
   "cell_type": "code",
   "execution_count": null,
   "metadata": {},
   "outputs": [],
   "source": []
  },
  {
   "attachments": {},
   "cell_type": "markdown",
   "metadata": {},
   "source": [
    "### [출력] 배출량\n",
    "- 연료 : 휘발유, 경유, LPG(액화석유가스)\n",
    "- 물질 : CO, HC, NOx, PM10, PM2.5"
   ]
  },
  {
   "cell_type": "code",
   "execution_count": 330,
   "metadata": {},
   "outputs": [
    {
     "data": {
      "text/plain": [
       "Index(['법정동코드', '차종', '차대번호', '차량연식', '배출가스인증번호', '배출가스등급', '차량말소YN', '차종유형',\n",
       "       '연료', '등급', 'fuel', '차령', '시도', '시구군', '일일평균주행거리', '저감장치부착유무', 'VKT',\n",
       "       'DF_CO', 'DF_HC', 'DF_PM', 'DF_NOx', 'R_CO', 'R_HC', 'R_PM', 'EFi_CO',\n",
       "       'EFi_HC', 'EFi_NOx', 'EFi_PM10', 'EFi_PM2_5', 'E_HOT_CO', 'E_HOT_HC',\n",
       "       'E_HOT_NOx', 'E_HOT_PM10', 'E_HOT_PM2_5', 'Beta(Estimated)',\n",
       "       'eCOLD/eHOT_CO', 'eCOLD/eHOT_NOx', 'eCOLD/eHOT_HC', 'eCOLD/eHOT_PM',\n",
       "       'E_COLD_CO', 'E_COLD_NOx', 'E_COLD_HC', 'E_COLD_PM10', 'E_COLD_PM2_5',\n",
       "       'e_d', 'e_RHOT', 'e_SHOT', 'e_SWARM', 'e_fi', 'e_RWARM', 'R', 'S_fi',\n",
       "       'S_c', 'E_EVA_VOC', 'E_CO_total', 'E_HC_total', 'E_NOx_total',\n",
       "       'E_PM10_total', 'E_PM2_5_total'],\n",
       "      dtype='object')"
      ]
     },
     "execution_count": 330,
     "metadata": {},
     "output_type": "execute_result"
    }
   ],
   "source": [
    "df2.columns"
   ]
  },
  {
   "attachments": {},
   "cell_type": "markdown",
   "metadata": {},
   "source": [
    "# 통계"
   ]
  },
  {
   "attachments": {},
   "cell_type": "markdown",
   "metadata": {},
   "source": [
    "## 연료/시도 별 배출량 합계"
   ]
  },
  {
   "cell_type": "code",
   "execution_count": 331,
   "metadata": {},
   "outputs": [
    {
     "data": {
      "text/html": [
       "<div>\n",
       "<style scoped>\n",
       "    .dataframe tbody tr th:only-of-type {\n",
       "        vertical-align: middle;\n",
       "    }\n",
       "\n",
       "    .dataframe tbody tr th {\n",
       "        vertical-align: top;\n",
       "    }\n",
       "\n",
       "    .dataframe thead th {\n",
       "        text-align: right;\n",
       "    }\n",
       "</style>\n",
       "<table border=\"1\" class=\"dataframe\">\n",
       "  <thead>\n",
       "    <tr style=\"text-align: right;\">\n",
       "      <th></th>\n",
       "      <th>E_CO_total</th>\n",
       "      <th>E_HC_total</th>\n",
       "      <th>E_NOx_total</th>\n",
       "      <th>E_PM10_total</th>\n",
       "      <th>E_PM2_5_total</th>\n",
       "    </tr>\n",
       "    <tr>\n",
       "      <th>시도</th>\n",
       "      <th></th>\n",
       "      <th></th>\n",
       "      <th></th>\n",
       "      <th></th>\n",
       "      <th></th>\n",
       "    </tr>\n",
       "  </thead>\n",
       "  <tbody>\n",
       "    <tr>\n",
       "      <th>강원도</th>\n",
       "      <td>5065170.79</td>\n",
       "      <td>1106593.67</td>\n",
       "      <td>7844359.27</td>\n",
       "      <td>622818.81</td>\n",
       "      <td>610874.79</td>\n",
       "    </tr>\n",
       "    <tr>\n",
       "      <th>경기도</th>\n",
       "      <td>39499252.41</td>\n",
       "      <td>9398742.91</td>\n",
       "      <td>58924335.41</td>\n",
       "      <td>5532122.26</td>\n",
       "      <td>5460001.11</td>\n",
       "    </tr>\n",
       "    <tr>\n",
       "      <th>경상남도</th>\n",
       "      <td>11983104.09</td>\n",
       "      <td>2702887.56</td>\n",
       "      <td>18752528.13</td>\n",
       "      <td>1549158.38</td>\n",
       "      <td>1521916.78</td>\n",
       "    </tr>\n",
       "    <tr>\n",
       "      <th>경상북도</th>\n",
       "      <td>10333279.06</td>\n",
       "      <td>2155106.82</td>\n",
       "      <td>17126530.89</td>\n",
       "      <td>1158165.43</td>\n",
       "      <td>1128684.40</td>\n",
       "    </tr>\n",
       "    <tr>\n",
       "      <th>광주광역시</th>\n",
       "      <td>4081039.33</td>\n",
       "      <td>979307.25</td>\n",
       "      <td>6577765.71</td>\n",
       "      <td>578815.94</td>\n",
       "      <td>569461.39</td>\n",
       "    </tr>\n",
       "    <tr>\n",
       "      <th>대구광역시</th>\n",
       "      <td>7487903.76</td>\n",
       "      <td>1792186.66</td>\n",
       "      <td>10433355.28</td>\n",
       "      <td>1065562.63</td>\n",
       "      <td>1051862.77</td>\n",
       "    </tr>\n",
       "    <tr>\n",
       "      <th>대전광역시</th>\n",
       "      <td>4301996.11</td>\n",
       "      <td>955123.79</td>\n",
       "      <td>5953671.84</td>\n",
       "      <td>537486.76</td>\n",
       "      <td>529736.27</td>\n",
       "    </tr>\n",
       "    <tr>\n",
       "      <th>부산광역시</th>\n",
       "      <td>9602758.11</td>\n",
       "      <td>2417191.20</td>\n",
       "      <td>14485308.82</td>\n",
       "      <td>1455406.06</td>\n",
       "      <td>1435577.60</td>\n",
       "    </tr>\n",
       "    <tr>\n",
       "      <th>서울특별시</th>\n",
       "      <td>22368860.20</td>\n",
       "      <td>5092821.84</td>\n",
       "      <td>24304184.51</td>\n",
       "      <td>2729339.42</td>\n",
       "      <td>2695905.30</td>\n",
       "    </tr>\n",
       "    <tr>\n",
       "      <th>세종특별자치시</th>\n",
       "      <td>1006375.54</td>\n",
       "      <td>308746.70</td>\n",
       "      <td>1446018.81</td>\n",
       "      <td>213409.75</td>\n",
       "      <td>212007.14</td>\n",
       "    </tr>\n",
       "    <tr>\n",
       "      <th>울산광역시</th>\n",
       "      <td>3224145.99</td>\n",
       "      <td>738985.38</td>\n",
       "      <td>4808145.11</td>\n",
       "      <td>418333.41</td>\n",
       "      <td>412241.12</td>\n",
       "    </tr>\n",
       "    <tr>\n",
       "      <th>인천광역시</th>\n",
       "      <td>10175306.36</td>\n",
       "      <td>2944627.29</td>\n",
       "      <td>14081740.10</td>\n",
       "      <td>1990885.64</td>\n",
       "      <td>1976257.21</td>\n",
       "    </tr>\n",
       "    <tr>\n",
       "      <th>전라남도</th>\n",
       "      <td>8063138.19</td>\n",
       "      <td>1958888.26</td>\n",
       "      <td>14304504.81</td>\n",
       "      <td>1206413.34</td>\n",
       "      <td>1182387.16</td>\n",
       "    </tr>\n",
       "    <tr>\n",
       "      <th>전라북도</th>\n",
       "      <td>6308273.47</td>\n",
       "      <td>1378391.06</td>\n",
       "      <td>11007654.00</td>\n",
       "      <td>766210.76</td>\n",
       "      <td>747658.38</td>\n",
       "    </tr>\n",
       "    <tr>\n",
       "      <th>제주특별자치도</th>\n",
       "      <td>3762208.65</td>\n",
       "      <td>1095296.70</td>\n",
       "      <td>4881223.39</td>\n",
       "      <td>763790.08</td>\n",
       "      <td>758671.76</td>\n",
       "    </tr>\n",
       "    <tr>\n",
       "      <th>충청남도</th>\n",
       "      <td>7512642.64</td>\n",
       "      <td>1636739.80</td>\n",
       "      <td>12497421.58</td>\n",
       "      <td>909332.35</td>\n",
       "      <td>891359.67</td>\n",
       "    </tr>\n",
       "    <tr>\n",
       "      <th>충청북도</th>\n",
       "      <td>5589387.89</td>\n",
       "      <td>1224212.43</td>\n",
       "      <td>9036988.58</td>\n",
       "      <td>685181.99</td>\n",
       "      <td>672202.36</td>\n",
       "    </tr>\n",
       "  </tbody>\n",
       "</table>\n",
       "</div>"
      ],
      "text/plain": [
       "         E_CO_total  E_HC_total  E_NOx_total  E_PM10_total  E_PM2_5_total\n",
       "시도                                                                       \n",
       "강원도      5065170.79  1106593.67   7844359.27     622818.81      610874.79\n",
       "경기도     39499252.41  9398742.91  58924335.41    5532122.26     5460001.11\n",
       "경상남도    11983104.09  2702887.56  18752528.13    1549158.38     1521916.78\n",
       "경상북도    10333279.06  2155106.82  17126530.89    1158165.43     1128684.40\n",
       "광주광역시    4081039.33   979307.25   6577765.71     578815.94      569461.39\n",
       "대구광역시    7487903.76  1792186.66  10433355.28    1065562.63     1051862.77\n",
       "대전광역시    4301996.11   955123.79   5953671.84     537486.76      529736.27\n",
       "부산광역시    9602758.11  2417191.20  14485308.82    1455406.06     1435577.60\n",
       "서울특별시   22368860.20  5092821.84  24304184.51    2729339.42     2695905.30\n",
       "세종특별자치시  1006375.54   308746.70   1446018.81     213409.75      212007.14\n",
       "울산광역시    3224145.99   738985.38   4808145.11     418333.41      412241.12\n",
       "인천광역시   10175306.36  2944627.29  14081740.10    1990885.64     1976257.21\n",
       "전라남도     8063138.19  1958888.26  14304504.81    1206413.34     1182387.16\n",
       "전라북도     6308273.47  1378391.06  11007654.00     766210.76      747658.38\n",
       "제주특별자치도  3762208.65  1095296.70   4881223.39     763790.08      758671.76\n",
       "충청남도     7512642.64  1636739.80  12497421.58     909332.35      891359.67\n",
       "충청북도     5589387.89  1224212.43   9036988.58     685181.99      672202.36"
      ]
     },
     "execution_count": 331,
     "metadata": {},
     "output_type": "execute_result"
    }
   ],
   "source": [
    "groupby1 = df2.groupby(['시도']).agg({'E_CO_total':'sum', 'E_HC_total':'sum', 'E_NOx_total':'sum', 'E_PM10_total':'sum', 'E_PM2_5_total':'sum'})\n",
    "groupby1"
   ]
  },
  {
   "cell_type": "code",
   "execution_count": 332,
   "metadata": {},
   "outputs": [
    {
     "data": {
      "text/plain": [
       "'2023.06.09_AM.10.58.42'"
      ]
     },
     "execution_count": 332,
     "metadata": {},
     "output_type": "execute_result"
    }
   ],
   "source": [
    "today_date = datetime.today().strftime(\"%Y.%m.%d_%p.%I.%M.%S\")\n",
    "today_date"
   ]
  },
  {
   "cell_type": "code",
   "execution_count": 200,
   "metadata": {},
   "outputs": [],
   "source": [
    "# groupby1.to_excel(os.path.join(analysis_fold, f'BD1-3_통계_result_4등급_시도별_CAPSS매연량합계({today_date}).xlsx'), sheet_name='시도_시군구')"
   ]
  },
  {
   "attachments": {},
   "cell_type": "markdown",
   "metadata": {},
   "source": [
    "# [출력] 경유, 휘발유, LPG 차량 배출량"
   ]
  },
  {
   "cell_type": "code",
   "execution_count": null,
   "metadata": {},
   "outputs": [],
   "source": [
    "# 컬럼명 정리"
   ]
  },
  {
   "cell_type": "code",
   "execution_count": null,
   "metadata": {},
   "outputs": [],
   "source": [
    "# # about\n",
    "# df2.to_csv(os.path.join(df_fold, '경유_휘발유_LPG차량_배출량.csv'), index=False)"
   ]
  },
  {
   "attachments": {},
   "cell_type": "markdown",
   "metadata": {},
   "source": [
    "# 코드 마지막"
   ]
  }
 ],
 "metadata": {
  "kernelspec": {
   "display_name": "base",
   "language": "python",
   "name": "python3"
  },
  "language_info": {
   "codemirror_mode": {
    "name": "ipython",
    "version": 3
   },
   "file_extension": ".py",
   "mimetype": "text/x-python",
   "name": "python",
   "nbconvert_exporter": "python",
   "pygments_lexer": "ipython3",
   "version": "3.9.13"
  },
  "orig_nbformat": 4,
  "vscode": {
   "interpreter": {
    "hash": "ad2bdc8ecc057115af97d19610ffacc2b4e99fae6737bb82f5d7fb13d2f2c186"
   }
  }
 },
 "nbformat": 4,
 "nbformat_minor": 2
}
