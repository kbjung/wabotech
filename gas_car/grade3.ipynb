{
 "cells": [
  {
   "cell_type": "markdown",
   "metadata": {},
   "source": [
    "# Library"
   ]
  },
  {
   "cell_type": "code",
   "execution_count": 1,
   "metadata": {},
   "outputs": [],
   "source": [
    "import pandas as pd\n",
    "import numpy as np"
   ]
  },
  {
   "cell_type": "markdown",
   "metadata": {},
   "source": [
    "## [로드] 컬럼명 데이터"
   ]
  },
  {
   "cell_type": "code",
   "execution_count": 2,
   "metadata": {},
   "outputs": [],
   "source": [
    "col_df = pd.read_table('data/컬럼명.txt', sep=',')\n",
    "col= col_df.columns"
   ]
  },
  {
   "cell_type": "code",
   "execution_count": 3,
   "metadata": {},
   "outputs": [
    {
     "data": {
      "text/plain": [
       "Index(['차량관리번호', '차량등록번호', '본거지법정동코드', '소유자구분', '차종_등록정보', '용도', '차대번호',\n",
       "       '최초등록일자', '차량연식', '차량제작일자', '검사유효일', '제원관리번호', '배출가스인증번호', '배출가스등급',\n",
       "       '저공해조치종류', '저공해조치구조변경YN', '차량말소YN', '취득일자', '취득금액', '차명', '차종_제원정보',\n",
       "       '차종분류', '차종유형', '자동차형식', '제작사명', '연료', '엔진형식', '총중량', '적재중량', '엔진출력',\n",
       "       '배기량', '승차인원', '차량길이', '차량너비', '차량높이', '원산지명', '삭제YN', '제원승인일자', '구동형식',\n",
       "       '변속기종류'],\n",
       "      dtype='object')"
      ]
     },
     "execution_count": 3,
     "metadata": {},
     "output_type": "execute_result"
    }
   ],
   "source": [
    "col"
   ]
  },
  {
   "cell_type": "markdown",
   "metadata": {},
   "source": [
    "## [로드] 파일2"
   ]
  },
  {
   "cell_type": "code",
   "execution_count": 4,
   "metadata": {},
   "outputs": [
    {
     "name": "stderr",
     "output_type": "stream",
     "text": [
      "C:\\Users\\kbj\\AppData\\Local\\Temp\\ipykernel_16796\\3108440264.py:2: DtypeWarning: Columns (14,29,30) have mixed types. Specify dtype option on import or set low_memory=False.\n",
      "  df = pd.read_table('data/220819_22.06월기준_3등급.txt', encoding='cp949', header=40, names=col)\n"
     ]
    },
    {
     "name": "stdout",
     "output_type": "stream",
     "text": [
      "<class 'pandas.core.frame.DataFrame'>\n",
      "RangeIndex: 8718475 entries, 0 to 8718474\n",
      "Data columns (total 40 columns):\n",
      " #   Column       Dtype  \n",
      "---  ------       -----  \n",
      " 0   차량관리번호       object \n",
      " 1   차량등록번호       object \n",
      " 2   본거지법정동코드     int64  \n",
      " 3   소유자구분        object \n",
      " 4   차종_등록정보      object \n",
      " 5   용도           object \n",
      " 6   차대번호         object \n",
      " 7   최초등록일자       int64  \n",
      " 8   차량연식         int64  \n",
      " 9   차량제작일자       float64\n",
      " 10  검사유효일        float64\n",
      " 11  제원관리번호       object \n",
      " 12  배출가스인증번호     object \n",
      " 13  배출가스등급       int64  \n",
      " 14  저공해조치종류      object \n",
      " 15  저공해조치구조변경YN  object \n",
      " 16  차량말소YN       object \n",
      " 17  취득일자         float64\n",
      " 18  취득금액         float64\n",
      " 19  차명           object \n",
      " 20  차종_제원정보      object \n",
      " 21  차종분류         object \n",
      " 22  차종유형         object \n",
      " 23  자동차형식        object \n",
      " 24  제작사명         object \n",
      " 25  연료           object \n",
      " 26  엔진형식         object \n",
      " 27  총중량          float64\n",
      " 28  적재중량         float64\n",
      " 29  엔진출력         object \n",
      " 30  배기량          object \n",
      " 31  승차인원         float64\n",
      " 32  차량길이         float64\n",
      " 33  차량너비         float64\n",
      " 34  차량높이         float64\n",
      " 35  원산지명         object \n",
      " 36  삭제YN         object \n",
      " 37  제원승인일자       float64\n",
      " 38  구동형식         object \n",
      " 39  변속기종류        object \n",
      "dtypes: float64(11), int64(4), object(25)\n",
      "memory usage: 2.6+ GB\n"
     ]
    }
   ],
   "source": [
    "# 53.9s\n",
    "df = pd.read_table('data/220819_22.06월기준_3등급.txt', encoding='cp949', header=40, names=col)\n",
    "df.info()"
   ]
  },
  {
   "cell_type": "code",
   "execution_count": 5,
   "metadata": {},
   "outputs": [
    {
     "data": {
      "text/html": [
       "<div>\n",
       "<style scoped>\n",
       "    .dataframe tbody tr th:only-of-type {\n",
       "        vertical-align: middle;\n",
       "    }\n",
       "\n",
       "    .dataframe tbody tr th {\n",
       "        vertical-align: top;\n",
       "    }\n",
       "\n",
       "    .dataframe thead th {\n",
       "        text-align: right;\n",
       "    }\n",
       "</style>\n",
       "<table border=\"1\" class=\"dataframe\">\n",
       "  <thead>\n",
       "    <tr style=\"text-align: right;\">\n",
       "      <th></th>\n",
       "      <th>연료</th>\n",
       "      <th>차대번호</th>\n",
       "    </tr>\n",
       "  </thead>\n",
       "  <tbody>\n",
       "    <tr>\n",
       "      <th>2</th>\n",
       "      <td>경유</td>\n",
       "      <td>7509278</td>\n",
       "    </tr>\n",
       "    <tr>\n",
       "      <th>5</th>\n",
       "      <td>휘발유</td>\n",
       "      <td>928645</td>\n",
       "    </tr>\n",
       "    <tr>\n",
       "      <th>1</th>\n",
       "      <td>LPG(액화석유가스)</td>\n",
       "      <td>244450</td>\n",
       "    </tr>\n",
       "    <tr>\n",
       "      <th>3</th>\n",
       "      <td>경유 하이브리드</td>\n",
       "      <td>29846</td>\n",
       "    </tr>\n",
       "    <tr>\n",
       "      <th>0</th>\n",
       "      <td>CNG(압축천연가스)</td>\n",
       "      <td>6253</td>\n",
       "    </tr>\n",
       "    <tr>\n",
       "      <th>4</th>\n",
       "      <td>기타연료</td>\n",
       "      <td>3</td>\n",
       "    </tr>\n",
       "  </tbody>\n",
       "</table>\n",
       "</div>"
      ],
      "text/plain": [
       "            연료     차대번호\n",
       "2           경유  7509278\n",
       "5          휘발유   928645\n",
       "1  LPG(액화석유가스)   244450\n",
       "3     경유 하이브리드    29846\n",
       "0  CNG(압축천연가스)     6253\n",
       "4         기타연료        3"
      ]
     },
     "execution_count": 5,
     "metadata": {},
     "output_type": "execute_result"
    }
   ],
   "source": [
    "f = df.groupby('연료', as_index=False)['차대번호'].count().sort_values('차대번호', ascending=False)\n",
    "f"
   ]
  },
  {
   "cell_type": "code",
   "execution_count": 8,
   "metadata": {},
   "outputs": [
    {
     "data": {
      "text/html": [
       "<div>\n",
       "<style scoped>\n",
       "    .dataframe tbody tr th:only-of-type {\n",
       "        vertical-align: middle;\n",
       "    }\n",
       "\n",
       "    .dataframe tbody tr th {\n",
       "        vertical-align: top;\n",
       "    }\n",
       "\n",
       "    .dataframe thead th {\n",
       "        text-align: right;\n",
       "    }\n",
       "</style>\n",
       "<table border=\"1\" class=\"dataframe\">\n",
       "  <thead>\n",
       "    <tr style=\"text-align: right;\">\n",
       "      <th></th>\n",
       "      <th>연료</th>\n",
       "      <th>3등급</th>\n",
       "    </tr>\n",
       "  </thead>\n",
       "  <tbody>\n",
       "    <tr>\n",
       "      <th>2</th>\n",
       "      <td>경유</td>\n",
       "      <td>7509278</td>\n",
       "    </tr>\n",
       "    <tr>\n",
       "      <th>5</th>\n",
       "      <td>휘발유</td>\n",
       "      <td>928645</td>\n",
       "    </tr>\n",
       "    <tr>\n",
       "      <th>1</th>\n",
       "      <td>LPG(액화석유가스)</td>\n",
       "      <td>244450</td>\n",
       "    </tr>\n",
       "    <tr>\n",
       "      <th>3</th>\n",
       "      <td>경유 하이브리드</td>\n",
       "      <td>29846</td>\n",
       "    </tr>\n",
       "    <tr>\n",
       "      <th>0</th>\n",
       "      <td>CNG(압축천연가스)</td>\n",
       "      <td>6253</td>\n",
       "    </tr>\n",
       "    <tr>\n",
       "      <th>4</th>\n",
       "      <td>기타연료</td>\n",
       "      <td>3</td>\n",
       "    </tr>\n",
       "  </tbody>\n",
       "</table>\n",
       "</div>"
      ],
      "text/plain": [
       "            연료      3등급\n",
       "2           경유  7509278\n",
       "5          휘발유   928645\n",
       "1  LPG(액화석유가스)   244450\n",
       "3     경유 하이브리드    29846\n",
       "0  CNG(압축천연가스)     6253\n",
       "4         기타연료        3"
      ]
     },
     "execution_count": 8,
     "metadata": {},
     "output_type": "execute_result"
    }
   ],
   "source": [
    "f.columns = ['연료', '3등급']\n",
    "f"
   ]
  },
  {
   "cell_type": "code",
   "execution_count": 10,
   "metadata": {},
   "outputs": [
    {
     "data": {
      "text/html": [
       "<div>\n",
       "<style scoped>\n",
       "    .dataframe tbody tr th:only-of-type {\n",
       "        vertical-align: middle;\n",
       "    }\n",
       "\n",
       "    .dataframe tbody tr th {\n",
       "        vertical-align: top;\n",
       "    }\n",
       "\n",
       "    .dataframe thead th {\n",
       "        text-align: right;\n",
       "    }\n",
       "</style>\n",
       "<table border=\"1\" class=\"dataframe\">\n",
       "  <thead>\n",
       "    <tr style=\"text-align: right;\">\n",
       "      <th></th>\n",
       "      <th>차량관리번호</th>\n",
       "      <th>차량등록번호</th>\n",
       "      <th>본거지법정동코드</th>\n",
       "      <th>소유자구분</th>\n",
       "      <th>차종_등록정보</th>\n",
       "      <th>용도</th>\n",
       "      <th>차대번호</th>\n",
       "      <th>최초등록일자</th>\n",
       "      <th>차량연식</th>\n",
       "      <th>차량제작일자</th>\n",
       "      <th>...</th>\n",
       "      <th>배기량</th>\n",
       "      <th>승차인원</th>\n",
       "      <th>차량길이</th>\n",
       "      <th>차량너비</th>\n",
       "      <th>차량높이</th>\n",
       "      <th>원산지명</th>\n",
       "      <th>삭제YN</th>\n",
       "      <th>제원승인일자</th>\n",
       "      <th>구동형식</th>\n",
       "      <th>변속기종류</th>\n",
       "    </tr>\n",
       "  </thead>\n",
       "  <tbody>\n",
       "    <tr>\n",
       "      <th>2032510</th>\n",
       "      <td>4T1BB46K28U041443-01</td>\n",
       "      <td>19거7727</td>\n",
       "      <td>4136025021</td>\n",
       "      <td>주민</td>\n",
       "      <td>승용</td>\n",
       "      <td>자가용</td>\n",
       "      <td>4T1BB46K28U041443</td>\n",
       "      <td>20090928</td>\n",
       "      <td>2008</td>\n",
       "      <td>20081231.0</td>\n",
       "      <td>...</td>\n",
       "      <td>2362</td>\n",
       "      <td>5.0</td>\n",
       "      <td>4805.0</td>\n",
       "      <td>1820.0</td>\n",
       "      <td>1470.0</td>\n",
       "      <td>대한민국</td>\n",
       "      <td>N</td>\n",
       "      <td>20090928.0</td>\n",
       "      <td>NaN</td>\n",
       "      <td>자동</td>\n",
       "    </tr>\n",
       "    <tr>\n",
       "      <th>4222288</th>\n",
       "      <td>JTDKB20U287752643-01</td>\n",
       "      <td>22무3654</td>\n",
       "      <td>3611011200</td>\n",
       "      <td>주민</td>\n",
       "      <td>승용</td>\n",
       "      <td>자가용</td>\n",
       "      <td>JTDKB20U287752643</td>\n",
       "      <td>20090728</td>\n",
       "      <td>2008</td>\n",
       "      <td>20090718.0</td>\n",
       "      <td>...</td>\n",
       "      <td>1497</td>\n",
       "      <td>5.0</td>\n",
       "      <td>4445.0</td>\n",
       "      <td>1725.0</td>\n",
       "      <td>1490.0</td>\n",
       "      <td>일본</td>\n",
       "      <td>N</td>\n",
       "      <td>20090728.0</td>\n",
       "      <td>NaN</td>\n",
       "      <td>기타</td>\n",
       "    </tr>\n",
       "    <tr>\n",
       "      <th>7797094</th>\n",
       "      <td>KP9GN2ZTZLKCUN002-01</td>\n",
       "      <td>98도7996</td>\n",
       "      <td>1121510500</td>\n",
       "      <td>주민</td>\n",
       "      <td>특수</td>\n",
       "      <td>자가용</td>\n",
       "      <td>KP9GN2ZTZLKCUN002</td>\n",
       "      <td>20200703</td>\n",
       "      <td>2020</td>\n",
       "      <td>20200630.0</td>\n",
       "      <td>...</td>\n",
       "      <td>0</td>\n",
       "      <td>0.0</td>\n",
       "      <td>4435.0</td>\n",
       "      <td>2330.0</td>\n",
       "      <td>2210.0</td>\n",
       "      <td>대한민국</td>\n",
       "      <td>N</td>\n",
       "      <td>20200701.0</td>\n",
       "      <td>없음</td>\n",
       "      <td>변속기 없음</td>\n",
       "    </tr>\n",
       "  </tbody>\n",
       "</table>\n",
       "<p>3 rows × 40 columns</p>\n",
       "</div>"
      ],
      "text/plain": [
       "                       차량관리번호   차량등록번호    본거지법정동코드 소유자구분 차종_등록정보   용도  \\\n",
       "2032510  4T1BB46K28U041443-01  19거7727  4136025021    주민      승용  자가용   \n",
       "4222288  JTDKB20U287752643-01  22무3654  3611011200    주민      승용  자가용   \n",
       "7797094  KP9GN2ZTZLKCUN002-01  98도7996  1121510500    주민      특수  자가용   \n",
       "\n",
       "                      차대번호    최초등록일자  차량연식      차량제작일자  ...   배기량 승차인원  \\\n",
       "2032510  4T1BB46K28U041443  20090928  2008  20081231.0  ...  2362  5.0   \n",
       "4222288  JTDKB20U287752643  20090728  2008  20090718.0  ...  1497  5.0   \n",
       "7797094  KP9GN2ZTZLKCUN002  20200703  2020  20200630.0  ...     0  0.0   \n",
       "\n",
       "           차량길이    차량너비    차량높이  원산지명 삭제YN      제원승인일자  구동형식   변속기종류  \n",
       "2032510  4805.0  1820.0  1470.0  대한민국    N  20090928.0   NaN      자동  \n",
       "4222288  4445.0  1725.0  1490.0    일본    N  20090728.0   NaN      기타  \n",
       "7797094  4435.0  2330.0  2210.0  대한민국    N  20200701.0    없음  변속기 없음  \n",
       "\n",
       "[3 rows x 40 columns]"
      ]
     },
     "execution_count": 10,
     "metadata": {},
     "output_type": "execute_result"
    }
   ],
   "source": [
    "df[df['연료'] == '기타연료']"
   ]
  },
  {
   "cell_type": "markdown",
   "metadata": {},
   "source": [
    "## [excel] 연료별 통계"
   ]
  },
  {
   "cell_type": "code",
   "execution_count": 9,
   "metadata": {},
   "outputs": [
    {
     "name": "stderr",
     "output_type": "stream",
     "text": [
      "C:\\Users\\kbj\\AppData\\Roaming\\Python\\Python39\\site-packages\\pandas\\util\\_decorators.py:211: FutureWarning: the 'encoding' keyword is deprecated and will be removed in a future version. Please take steps to stop the use of 'encoding'\n",
      "  return func(*args, **kwargs)\n"
     ]
    }
   ],
   "source": [
    "f.to_excel('analysis/[G3]연료별_차대번호_통계.xlsx', index=False, encoding='utf-8')"
   ]
  },
  {
   "cell_type": "markdown",
   "metadata": {},
   "source": [
    "# 지역별 수량 통계"
   ]
  },
  {
   "cell_type": "markdown",
   "metadata": {},
   "source": [
    "## [로드] 법정동코드"
   ]
  },
  {
   "cell_type": "code",
   "execution_count": 18,
   "metadata": {},
   "outputs": [
    {
     "name": "stdout",
     "output_type": "stream",
     "text": [
      "<class 'pandas.core.frame.DataFrame'>\n",
      "RangeIndex: 229 entries, 0 to 228\n",
      "Data columns (total 4 columns):\n",
      " #   Column  Non-Null Count  Dtype \n",
      "---  ------  --------------  ----- \n",
      " 0   ad1     229 non-null    object\n",
      " 1   code1   229 non-null    int64 \n",
      " 2   ad2     229 non-null    object\n",
      " 3   code2   229 non-null    int64 \n",
      "dtypes: int64(2), object(2)\n",
      "memory usage: 7.3+ KB\n"
     ]
    }
   ],
   "source": [
    "code = pd.read_excel('data/지역구분코드(수정).xlsx')\n",
    "code.info()"
   ]
  },
  {
   "cell_type": "code",
   "execution_count": 19,
   "metadata": {},
   "outputs": [
    {
     "data": {
      "text/html": [
       "<div>\n",
       "<style scoped>\n",
       "    .dataframe tbody tr th:only-of-type {\n",
       "        vertical-align: middle;\n",
       "    }\n",
       "\n",
       "    .dataframe tbody tr th {\n",
       "        vertical-align: top;\n",
       "    }\n",
       "\n",
       "    .dataframe thead th {\n",
       "        text-align: right;\n",
       "    }\n",
       "</style>\n",
       "<table border=\"1\" class=\"dataframe\">\n",
       "  <thead>\n",
       "    <tr style=\"text-align: right;\">\n",
       "      <th></th>\n",
       "      <th>ad1</th>\n",
       "      <th>code1</th>\n",
       "    </tr>\n",
       "  </thead>\n",
       "  <tbody>\n",
       "    <tr>\n",
       "      <th>0</th>\n",
       "      <td>서울특별시</td>\n",
       "      <td>11</td>\n",
       "    </tr>\n",
       "    <tr>\n",
       "      <th>1</th>\n",
       "      <td>부산광역시</td>\n",
       "      <td>26</td>\n",
       "    </tr>\n",
       "    <tr>\n",
       "      <th>2</th>\n",
       "      <td>대구광역시</td>\n",
       "      <td>27</td>\n",
       "    </tr>\n",
       "    <tr>\n",
       "      <th>3</th>\n",
       "      <td>인천광역시</td>\n",
       "      <td>28</td>\n",
       "    </tr>\n",
       "    <tr>\n",
       "      <th>4</th>\n",
       "      <td>광주광역시</td>\n",
       "      <td>29</td>\n",
       "    </tr>\n",
       "    <tr>\n",
       "      <th>5</th>\n",
       "      <td>대전광역시</td>\n",
       "      <td>30</td>\n",
       "    </tr>\n",
       "    <tr>\n",
       "      <th>6</th>\n",
       "      <td>울산광역시</td>\n",
       "      <td>31</td>\n",
       "    </tr>\n",
       "    <tr>\n",
       "      <th>7</th>\n",
       "      <td>세종특별자치시</td>\n",
       "      <td>36</td>\n",
       "    </tr>\n",
       "    <tr>\n",
       "      <th>8</th>\n",
       "      <td>경기도</td>\n",
       "      <td>41</td>\n",
       "    </tr>\n",
       "    <tr>\n",
       "      <th>9</th>\n",
       "      <td>강원도</td>\n",
       "      <td>42</td>\n",
       "    </tr>\n",
       "    <tr>\n",
       "      <th>10</th>\n",
       "      <td>충청북도</td>\n",
       "      <td>43</td>\n",
       "    </tr>\n",
       "    <tr>\n",
       "      <th>11</th>\n",
       "      <td>충청남도</td>\n",
       "      <td>44</td>\n",
       "    </tr>\n",
       "    <tr>\n",
       "      <th>12</th>\n",
       "      <td>전라북도</td>\n",
       "      <td>45</td>\n",
       "    </tr>\n",
       "    <tr>\n",
       "      <th>13</th>\n",
       "      <td>전라남도</td>\n",
       "      <td>46</td>\n",
       "    </tr>\n",
       "    <tr>\n",
       "      <th>14</th>\n",
       "      <td>경상북도</td>\n",
       "      <td>47</td>\n",
       "    </tr>\n",
       "    <tr>\n",
       "      <th>15</th>\n",
       "      <td>경상남도</td>\n",
       "      <td>48</td>\n",
       "    </tr>\n",
       "    <tr>\n",
       "      <th>16</th>\n",
       "      <td>제주특별자치도</td>\n",
       "      <td>50</td>\n",
       "    </tr>\n",
       "  </tbody>\n",
       "</table>\n",
       "</div>"
      ],
      "text/plain": [
       "        ad1  code1\n",
       "0     서울특별시     11\n",
       "1     부산광역시     26\n",
       "2     대구광역시     27\n",
       "3     인천광역시     28\n",
       "4     광주광역시     29\n",
       "5     대전광역시     30\n",
       "6     울산광역시     31\n",
       "7   세종특별자치시     36\n",
       "8       경기도     41\n",
       "9       강원도     42\n",
       "10     충청북도     43\n",
       "11     충청남도     44\n",
       "12     전라북도     45\n",
       "13     전라남도     46\n",
       "14     경상북도     47\n",
       "15     경상남도     48\n",
       "16  제주특별자치도     50"
      ]
     },
     "execution_count": 19,
     "metadata": {},
     "output_type": "execute_result"
    }
   ],
   "source": [
    "code = code[['ad1', 'code1']].drop_duplicates(['ad1'], keep='first').reset_index(drop=True)\n",
    "code"
   ]
  },
  {
   "cell_type": "markdown",
   "metadata": {},
   "source": [
    "## 법정동 코드와 매칭"
   ]
  },
  {
   "cell_type": "code",
   "execution_count": 20,
   "metadata": {},
   "outputs": [
    {
     "data": {
      "text/plain": [
       "0    4157010100\n",
       "1    1165010700\n",
       "2    2638010200\n",
       "3    2614010100\n",
       "4    1126010500\n",
       "Name: 본거지법정동코드, dtype: int64"
      ]
     },
     "execution_count": 20,
     "metadata": {},
     "output_type": "execute_result"
    }
   ],
   "source": [
    "df['본거지법정동코드'].head()"
   ]
  },
  {
   "cell_type": "code",
   "execution_count": 21,
   "metadata": {},
   "outputs": [
    {
     "data": {
      "text/plain": [
       "0"
      ]
     },
     "execution_count": 21,
     "metadata": {},
     "output_type": "execute_result"
    }
   ],
   "source": [
    "df['본거지법정동코드'].isnull().sum()"
   ]
  },
  {
   "cell_type": "code",
   "execution_count": 22,
   "metadata": {},
   "outputs": [],
   "source": [
    "df['지역코드'] = df['본거지법정동코드'].astype('str').str[:2]\n",
    "df['지역코드'] = df['지역코드'].astype('int')"
   ]
  },
  {
   "cell_type": "code",
   "execution_count": 23,
   "metadata": {},
   "outputs": [
    {
     "data": {
      "text/plain": [
       "0    41\n",
       "1    11\n",
       "2    26\n",
       "3    26\n",
       "4    11\n",
       "Name: 지역코드, dtype: int32"
      ]
     },
     "execution_count": 23,
     "metadata": {},
     "output_type": "execute_result"
    }
   ],
   "source": [
    "df['지역코드'].head()"
   ]
  },
  {
   "cell_type": "code",
   "execution_count": 24,
   "metadata": {},
   "outputs": [
    {
     "data": {
      "text/plain": [
       "0    11\n",
       "1    26\n",
       "2    27\n",
       "3    28\n",
       "4    29\n",
       "Name: code1, dtype: int64"
      ]
     },
     "execution_count": 24,
     "metadata": {},
     "output_type": "execute_result"
    }
   ],
   "source": [
    "code['code1'].head()"
   ]
  },
  {
   "cell_type": "code",
   "execution_count": 25,
   "metadata": {},
   "outputs": [
    {
     "data": {
      "text/html": [
       "<div>\n",
       "<style scoped>\n",
       "    .dataframe tbody tr th:only-of-type {\n",
       "        vertical-align: middle;\n",
       "    }\n",
       "\n",
       "    .dataframe tbody tr th {\n",
       "        vertical-align: top;\n",
       "    }\n",
       "\n",
       "    .dataframe thead th {\n",
       "        text-align: right;\n",
       "    }\n",
       "</style>\n",
       "<table border=\"1\" class=\"dataframe\">\n",
       "  <thead>\n",
       "    <tr style=\"text-align: right;\">\n",
       "      <th></th>\n",
       "      <th>지역코드</th>\n",
       "      <th>ad1</th>\n",
       "    </tr>\n",
       "  </thead>\n",
       "  <tbody>\n",
       "    <tr>\n",
       "      <th>0</th>\n",
       "      <td>41</td>\n",
       "      <td>경기도</td>\n",
       "    </tr>\n",
       "    <tr>\n",
       "      <th>1</th>\n",
       "      <td>11</td>\n",
       "      <td>서울특별시</td>\n",
       "    </tr>\n",
       "    <tr>\n",
       "      <th>2</th>\n",
       "      <td>26</td>\n",
       "      <td>부산광역시</td>\n",
       "    </tr>\n",
       "    <tr>\n",
       "      <th>3</th>\n",
       "      <td>26</td>\n",
       "      <td>부산광역시</td>\n",
       "    </tr>\n",
       "    <tr>\n",
       "      <th>4</th>\n",
       "      <td>11</td>\n",
       "      <td>서울특별시</td>\n",
       "    </tr>\n",
       "  </tbody>\n",
       "</table>\n",
       "</div>"
      ],
      "text/plain": [
       "   지역코드    ad1\n",
       "0    41    경기도\n",
       "1    11  서울특별시\n",
       "2    26  부산광역시\n",
       "3    26  부산광역시\n",
       "4    11  서울특별시"
      ]
     },
     "execution_count": 25,
     "metadata": {},
     "output_type": "execute_result"
    }
   ],
   "source": [
    "df = df.merge(code, left_on='지역코드', right_on='code1', how='left')\n",
    "df[['지역코드', 'ad1']].head()"
   ]
  },
  {
   "cell_type": "code",
   "execution_count": 26,
   "metadata": {},
   "outputs": [
    {
     "data": {
      "text/plain": [
       "0"
      ]
     },
     "execution_count": 26,
     "metadata": {},
     "output_type": "execute_result"
    }
   ],
   "source": [
    "df['ad1'].isnull().sum()"
   ]
  },
  {
   "cell_type": "code",
   "execution_count": 27,
   "metadata": {},
   "outputs": [
    {
     "data": {
      "text/html": [
       "<div>\n",
       "<style scoped>\n",
       "    .dataframe tbody tr th:only-of-type {\n",
       "        vertical-align: middle;\n",
       "    }\n",
       "\n",
       "    .dataframe tbody tr th {\n",
       "        vertical-align: top;\n",
       "    }\n",
       "\n",
       "    .dataframe thead th {\n",
       "        text-align: right;\n",
       "    }\n",
       "</style>\n",
       "<table border=\"1\" class=\"dataframe\">\n",
       "  <thead>\n",
       "    <tr style=\"text-align: right;\">\n",
       "      <th></th>\n",
       "      <th>ad1</th>\n",
       "      <th>차대번호</th>\n",
       "    </tr>\n",
       "  </thead>\n",
       "  <tbody>\n",
       "    <tr>\n",
       "      <th>0</th>\n",
       "      <td>강원도</td>\n",
       "      <td>349557</td>\n",
       "    </tr>\n",
       "    <tr>\n",
       "      <th>1</th>\n",
       "      <td>경기도</td>\n",
       "      <td>2796166</td>\n",
       "    </tr>\n",
       "    <tr>\n",
       "      <th>2</th>\n",
       "      <td>경상남도</td>\n",
       "      <td>839431</td>\n",
       "    </tr>\n",
       "    <tr>\n",
       "      <th>3</th>\n",
       "      <td>경상북도</td>\n",
       "      <td>620475</td>\n",
       "    </tr>\n",
       "    <tr>\n",
       "      <th>4</th>\n",
       "      <td>광주광역시</td>\n",
       "      <td>317327</td>\n",
       "    </tr>\n",
       "    <tr>\n",
       "      <th>5</th>\n",
       "      <td>대구광역시</td>\n",
       "      <td>547738</td>\n",
       "    </tr>\n",
       "    <tr>\n",
       "      <th>6</th>\n",
       "      <td>대전광역시</td>\n",
       "      <td>321244</td>\n",
       "    </tr>\n",
       "    <tr>\n",
       "      <th>7</th>\n",
       "      <td>부산광역시</td>\n",
       "      <td>665142</td>\n",
       "    </tr>\n",
       "    <tr>\n",
       "      <th>8</th>\n",
       "      <td>서울특별시</td>\n",
       "      <td>1430746</td>\n",
       "    </tr>\n",
       "    <tr>\n",
       "      <th>9</th>\n",
       "      <td>세종특별자치시</td>\n",
       "      <td>91006</td>\n",
       "    </tr>\n",
       "    <tr>\n",
       "      <th>10</th>\n",
       "      <td>울산광역시</td>\n",
       "      <td>275628</td>\n",
       "    </tr>\n",
       "    <tr>\n",
       "      <th>11</th>\n",
       "      <td>인천광역시</td>\n",
       "      <td>770805</td>\n",
       "    </tr>\n",
       "    <tr>\n",
       "      <th>12</th>\n",
       "      <td>전라남도</td>\n",
       "      <td>462809</td>\n",
       "    </tr>\n",
       "    <tr>\n",
       "      <th>13</th>\n",
       "      <td>전라북도</td>\n",
       "      <td>390719</td>\n",
       "    </tr>\n",
       "    <tr>\n",
       "      <th>14</th>\n",
       "      <td>제주특별자치도</td>\n",
       "      <td>294599</td>\n",
       "    </tr>\n",
       "    <tr>\n",
       "      <th>15</th>\n",
       "      <td>충청남도</td>\n",
       "      <td>501349</td>\n",
       "    </tr>\n",
       "    <tr>\n",
       "      <th>16</th>\n",
       "      <td>충청북도</td>\n",
       "      <td>386621</td>\n",
       "    </tr>\n",
       "  </tbody>\n",
       "</table>\n",
       "</div>"
      ],
      "text/plain": [
       "        ad1     차대번호\n",
       "0       강원도   349557\n",
       "1       경기도  2796166\n",
       "2      경상남도   839431\n",
       "3      경상북도   620475\n",
       "4     광주광역시   317327\n",
       "5     대구광역시   547738\n",
       "6     대전광역시   321244\n",
       "7     부산광역시   665142\n",
       "8     서울특별시  1430746\n",
       "9   세종특별자치시    91006\n",
       "10    울산광역시   275628\n",
       "11    인천광역시   770805\n",
       "12     전라남도   462809\n",
       "13     전라북도   390719\n",
       "14  제주특별자치도   294599\n",
       "15     충청남도   501349\n",
       "16     충청북도   386621"
      ]
     },
     "execution_count": 27,
     "metadata": {},
     "output_type": "execute_result"
    }
   ],
   "source": [
    "l = df.groupby(['ad1'], as_index=False)['차대번호'].count()\n",
    "l"
   ]
  },
  {
   "cell_type": "code",
   "execution_count": 30,
   "metadata": {},
   "outputs": [
    {
     "data": {
      "text/html": [
       "<div>\n",
       "<style scoped>\n",
       "    .dataframe tbody tr th:only-of-type {\n",
       "        vertical-align: middle;\n",
       "    }\n",
       "\n",
       "    .dataframe tbody tr th {\n",
       "        vertical-align: top;\n",
       "    }\n",
       "\n",
       "    .dataframe thead th {\n",
       "        text-align: right;\n",
       "    }\n",
       "</style>\n",
       "<table border=\"1\" class=\"dataframe\">\n",
       "  <thead>\n",
       "    <tr style=\"text-align: right;\">\n",
       "      <th></th>\n",
       "      <th>지역</th>\n",
       "      <th>2등급</th>\n",
       "    </tr>\n",
       "  </thead>\n",
       "  <tbody>\n",
       "    <tr>\n",
       "      <th>0</th>\n",
       "      <td>강원도</td>\n",
       "      <td>349557</td>\n",
       "    </tr>\n",
       "    <tr>\n",
       "      <th>1</th>\n",
       "      <td>경기도</td>\n",
       "      <td>2796166</td>\n",
       "    </tr>\n",
       "    <tr>\n",
       "      <th>2</th>\n",
       "      <td>경상남도</td>\n",
       "      <td>839431</td>\n",
       "    </tr>\n",
       "    <tr>\n",
       "      <th>3</th>\n",
       "      <td>경상북도</td>\n",
       "      <td>620475</td>\n",
       "    </tr>\n",
       "    <tr>\n",
       "      <th>4</th>\n",
       "      <td>광주광역시</td>\n",
       "      <td>317327</td>\n",
       "    </tr>\n",
       "    <tr>\n",
       "      <th>5</th>\n",
       "      <td>대구광역시</td>\n",
       "      <td>547738</td>\n",
       "    </tr>\n",
       "    <tr>\n",
       "      <th>6</th>\n",
       "      <td>대전광역시</td>\n",
       "      <td>321244</td>\n",
       "    </tr>\n",
       "    <tr>\n",
       "      <th>7</th>\n",
       "      <td>부산광역시</td>\n",
       "      <td>665142</td>\n",
       "    </tr>\n",
       "    <tr>\n",
       "      <th>8</th>\n",
       "      <td>서울특별시</td>\n",
       "      <td>1430746</td>\n",
       "    </tr>\n",
       "    <tr>\n",
       "      <th>9</th>\n",
       "      <td>세종특별자치시</td>\n",
       "      <td>91006</td>\n",
       "    </tr>\n",
       "    <tr>\n",
       "      <th>10</th>\n",
       "      <td>울산광역시</td>\n",
       "      <td>275628</td>\n",
       "    </tr>\n",
       "    <tr>\n",
       "      <th>11</th>\n",
       "      <td>인천광역시</td>\n",
       "      <td>770805</td>\n",
       "    </tr>\n",
       "    <tr>\n",
       "      <th>12</th>\n",
       "      <td>전라남도</td>\n",
       "      <td>462809</td>\n",
       "    </tr>\n",
       "    <tr>\n",
       "      <th>13</th>\n",
       "      <td>전라북도</td>\n",
       "      <td>390719</td>\n",
       "    </tr>\n",
       "    <tr>\n",
       "      <th>14</th>\n",
       "      <td>제주특별자치도</td>\n",
       "      <td>294599</td>\n",
       "    </tr>\n",
       "    <tr>\n",
       "      <th>15</th>\n",
       "      <td>충청남도</td>\n",
       "      <td>501349</td>\n",
       "    </tr>\n",
       "    <tr>\n",
       "      <th>16</th>\n",
       "      <td>충청북도</td>\n",
       "      <td>386621</td>\n",
       "    </tr>\n",
       "  </tbody>\n",
       "</table>\n",
       "</div>"
      ],
      "text/plain": [
       "         지역      2등급\n",
       "0       강원도   349557\n",
       "1       경기도  2796166\n",
       "2      경상남도   839431\n",
       "3      경상북도   620475\n",
       "4     광주광역시   317327\n",
       "5     대구광역시   547738\n",
       "6     대전광역시   321244\n",
       "7     부산광역시   665142\n",
       "8     서울특별시  1430746\n",
       "9   세종특별자치시    91006\n",
       "10    울산광역시   275628\n",
       "11    인천광역시   770805\n",
       "12     전라남도   462809\n",
       "13     전라북도   390719\n",
       "14  제주특별자치도   294599\n",
       "15     충청남도   501349\n",
       "16     충청북도   386621"
      ]
     },
     "execution_count": 30,
     "metadata": {},
     "output_type": "execute_result"
    }
   ],
   "source": [
    "l.columns = ['지역', '2등급']\n",
    "l"
   ]
  },
  {
   "cell_type": "markdown",
   "metadata": {},
   "source": [
    "### [excel] 지역별 수량 통계"
   ]
  },
  {
   "cell_type": "code",
   "execution_count": 31,
   "metadata": {},
   "outputs": [
    {
     "name": "stderr",
     "output_type": "stream",
     "text": [
      "C:\\Users\\kbj\\AppData\\Roaming\\Python\\Python39\\site-packages\\pandas\\util\\_decorators.py:211: FutureWarning: the 'encoding' keyword is deprecated and will be removed in a future version. Please take steps to stop the use of 'encoding'\n",
      "  return func(*args, **kwargs)\n"
     ]
    }
   ],
   "source": [
    "l.to_excel('analysis/[G2]지역별_차대번호_통계.xlsx', index=False, encoding='utf-8')"
   ]
  },
  {
   "cell_type": "markdown",
   "metadata": {},
   "source": [
    "# 코드 마지막"
   ]
  }
 ],
 "metadata": {
  "kernelspec": {
   "display_name": "Python 3.9.13 ('base')",
   "language": "python",
   "name": "python3"
  },
  "language_info": {
   "codemirror_mode": {
    "name": "ipython",
    "version": 3
   },
   "file_extension": ".py",
   "mimetype": "text/x-python",
   "name": "python",
   "nbconvert_exporter": "python",
   "pygments_lexer": "ipython3",
   "version": "3.9.13"
  },
  "orig_nbformat": 4,
  "vscode": {
   "interpreter": {
    "hash": "ad2bdc8ecc057115af97d19610ffacc2b4e99fae6737bb82f5d7fb13d2f2c186"
   }
  }
 },
 "nbformat": 4,
 "nbformat_minor": 2
}
