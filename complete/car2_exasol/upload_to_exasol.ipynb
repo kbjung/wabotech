{
 "cells": [
  {
   "cell_type": "markdown",
   "metadata": {},
   "source": [
    "# Library\n"
   ]
  },
  {
   "cell_type": "code",
   "execution_count": 1,
   "metadata": {
    "tags": []
   },
   "outputs": [],
   "source": [
    "import pandas as pd\n",
    "import os\n",
    "import pyexasol\n",
    "from tqdm import tqdm"
   ]
  },
  {
   "cell_type": "markdown",
   "metadata": {},
   "source": [
    "# folder"
   ]
  },
  {
   "cell_type": "code",
   "execution_count": 2,
   "metadata": {},
   "outputs": [],
   "source": [
    "raw1_fold = 'D:/data/complete/big2/BD1/raw'\n",
    "df1_fold = 'D:/data/complete/big2/BD1/df'\n",
    "raw3_fold = 'D:/data/complete/big2/BD3/raw'\n",
    "df3_fold = 'D:/data/complete/big2/BD3/df'"
   ]
  },
  {
   "cell_type": "code",
   "execution_count": 3,
   "metadata": {},
   "outputs": [],
   "source": [
    "sys_fold = 'D:/data/complete/big2/sys'\n",
    "keco_fold = 'C:/Users/kbjung/Downloads'"
   ]
  },
  {
   "cell_type": "markdown",
   "metadata": {},
   "source": [
    "# server"
   ]
  },
  {
   "cell_type": "code",
   "execution_count": 4,
   "metadata": {
    "tags": []
   },
   "outputs": [],
   "source": [
    "# # insider db\n",
    "# wd = pyexasol.connect(dsn='172.29.135.35/F99FAB2444F86051A9A467F6313FAAB48AF7C4760663430958E3B89A9DC53361:8563', user='sys', password='exasol', compression=True, schema='VSYSD')\n",
    "# we = pyexasol.connect(dsn='172.29.135.35/F99FAB2444F86051A9A467F6313FAAB48AF7C4760663430958E3B89A9DC53361:8563', user='sys', password='exasol', compression=True, schema='VSYSE')"
   ]
  },
  {
   "cell_type": "code",
   "execution_count": 7,
   "metadata": {},
   "outputs": [],
   "source": [
    "# exasol db\n",
    "wd = pyexasol.connect(dsn='dev.openankus.org:8563', user='sys', password='djslzja', compression=True, schema='VSYSD')\n",
    "we = pyexasol.connect(dsn='dev.openankus.org:8563', user='sys', password='djslzja', compression=True, schema='VSYSE')\n",
    "# wbt = pyexasol.connect(dsn='dev.openankus.org:8563', user='sys', password='djslzja', compression=True, schema='wbt')"
   ]
  },
  {
   "cell_type": "markdown",
   "metadata": {},
   "source": [
    "# 분석 테이블 리스트"
   ]
  },
  {
   "cell_type": "code",
   "execution_count": 19,
   "metadata": {},
   "outputs": [
    {
     "data": {
      "text/plain": [
       "46"
      ]
     },
     "execution_count": 19,
     "metadata": {},
     "output_type": "execute_result"
    }
   ],
   "source": [
    "# 분석 결과 테이블 41개\n",
    "# 분석 참고 테이블 3개\n",
    "# 동양 요청 테이블 2개\n",
    "varchar_type_list = [\n",
    "    # 분석시 참고 테이블\n",
    "    # 'STD_BD_KOSIS', \n",
    "\n",
    "    # 과제 1-1\n",
    "    'STD_BD_GRD4_CAR_CURSTT', \n",
    "    'STD_BD_GRD4_CAR_CURSTT_TOT', \n",
    "    'STD_BD_GRD4_SI', \n",
    "    'STD_BD_DAT_GRD4_CERT_NO_RVW', \n",
    "    'STD_BD_DAT_GRD4_SI', \n",
    "\n",
    "    # 과제 1-2\n",
    "    'STD_BD_GRD4_ELPDSRC_CURSTT', \n",
    "    'STD_BD_GRD4_NOW_ELPDSRC_CURSTT', \n",
    "    'STD_BD_GRD4_MLSFC_RSLT', \n",
    "    'STD_BD_DAT_GRD4_MLSFC', \n",
    "    'STD_BD_DAT_GRD4_DTL_INFO', \n",
    "    'STD_BD_GRD4_RGN_CURSTT', \n",
    "    'STD_BD_GRD4_RGN_CURSTT_MOD', \n",
    "    'STD_BD_DAT_GRD4_CAR_CURSTT', \n",
    "\n",
    "    # 과제 1-3\n",
    "    'STD_BD_GRD4_EXHST_GAS_MSS_TOT', \n",
    "    'STD_BD_GRD4_EXHST_GAS_MSS', \n",
    "    'STD_BD_DAT_GRD4_EXHST_MSS_CURSTT',\n",
    "    'STD_BD_DAT_GRD4_MEVLU', \n",
    "\n",
    "    # 과제 3-1\n",
    "    'STD_BD_CAR_CURSTT_MOD',\n",
    "    'STD_BD_CAR_CURSTT_MOD2',\n",
    "    'STD_BD_CAR_CURSTT',\n",
    "    'STD_BD_CAR_REG_MKCNT',\n",
    "    'STD_BD_CAR_PRET',\n",
    "    'STD_BD_HYBRD_CAR_PRET',\n",
    "    'STD_BD_FUEL_GRD_VHCL_CURSTT_PRET',\n",
    "    'STD_BD_ECO_CAR_PRET',\n",
    "    'STD_BD_ERSR_RSLT',\n",
    "    'STD_BD_DAT_GRD_CURSTT',\n",
    "    'STD_BD_DAT_FUEL_CAR_DEC',\n",
    "    \n",
    "    # 과제 3-2\n",
    "    'STD_BD_GRD5_ELPDSRC_CURSTT', \n",
    "    'STD_BD_GRD5_LEM_N_MOD', \n",
    "    'STD_BD_SEASON_CRDN_NOCS_CURSTT',\n",
    "    'STD_BD_SEASON_DSCL_VHCL_CURSTT', \n",
    "    'STD_BD_RUN_LMT_CURSTT',\n",
    "    'STD_BD_SEASON_DY_AVRG_CRDN_NOCS',\n",
    "    'STD_BD_ORDITM_DSCL_CURSTT',\n",
    "    'STD_BD_SEASON_DSCL_RGN_CURSTT',\n",
    "    'STD_BD_DAT_GRD5_REDUC_BIZ', \n",
    "    'STD_BD_DAT_RUN_LMT_CURSTT',\n",
    "\n",
    "    # 과제 3-3\n",
    "    'STD_BD_GRD4_DS_CRRLTN_CFFCNT',\n",
    "    'STD_BD_GRD4_LEM_PRIO_ORD_SELCT_CURSTT',\n",
    "    'STD_BD_GRD5_DS_CRRLTN_CFFCNT',\n",
    "    'STD_BD_GRD5_LEM_PRIO_ORD_SELCT_CURSTT',\n",
    "    'STD_BD_DAT_LEM_SELCT',\n",
    "    'STD_BD_DAT_SELCT_PNT_CURSTT',\n",
    "    \n",
    "    # 보험 가입\n",
    "    'STD_BD_CAR_CURSTT_MOD_4RD_INS', \n",
    "    'STD_BD_CAR_CURSTT_MOD2_4RD_INS', \n",
    "]\n",
    "# normal_type_list = [\n",
    "#     # 'STD_BD_TB_MAPDATA', # 분석시 참고 테이블\n",
    "#     # 'STD_BD_GRD4_RESULT', # 분석시 참고 테이블\n",
    "#     'STD_BD_DAT_GRD4_CERT_NO_RVW', # 과제1\n",
    "#     'STD_BD_DAT_GRD4_SI', # 과제1\n",
    "#     'STD_BD_GRD4_SI', # 과제1\n",
    "#     'STD_BD_DAT_GRD4_EXHST_MSS_CURSTT', # 과제1\n",
    "#     'STD_BD_GRD5_ELPDSRC_CURSTT', # 과제3\n",
    "#     'STD_BD_GRD5_LEM_N_MOD', # 과제3\n",
    "#     'STD_BD_SEASON_DY_AVRG_CRDN_NOCS', # 과제3\n",
    "#     'STD_BD_DAT_GRD5_REDUC_BIZ', # 과제3\n",
    "#     # 'STD_BD_CAR_CURSTT_MOD_4RD_INS', # 동양 요청 테이블\n",
    "#     # 'STD_BD_CAR_CURSTT_MOD2_4RD_INS', # 동양 요청 테이블\n",
    "# ]\n",
    "len(varchar_type_list) #, len(normal_type_list)"
   ]
  },
  {
   "cell_type": "markdown",
   "metadata": {},
   "source": [
    "# Upload"
   ]
  },
  {
   "cell_type": "code",
   "execution_count": 20,
   "metadata": {},
   "outputs": [
    {
     "name": "stderr",
     "output_type": "stream",
     "text": [
      "100%|██████████| 46/46 [06:54<00:00,  9.02s/it]"
     ]
    },
    {
     "name": "stdout",
     "output_type": "stream",
     "text": [
      "전체 완료\n",
      "\n"
     ]
    },
    {
     "name": "stderr",
     "output_type": "stream",
     "text": [
      "\n"
     ]
    }
   ],
   "source": [
    "# 6m 55.8s\n",
    "for name in tqdm(varchar_type_list):\n",
    "    # print(f'{name} 업로드 시작')\n",
    "    try:\n",
    "        file_name = f'{name}.csv'\n",
    "        expdf = pd.read_csv(os.path.join(keco_fold, file_name), low_memory=False)\n",
    "        table_nm = f'{name}'.upper()\n",
    "\n",
    "        # 테이블 생성\n",
    "        sql = 'create or replace table ' + table_nm + '( \\n'\n",
    "\n",
    "        for idx,column in enumerate(expdf.columns):\n",
    "            sql += column + ' varchar(255)'\n",
    "            if len(expdf.columns) - 1 != idx:\n",
    "                sql += ','\n",
    "            sql += '\\n'\n",
    "        sql += ')'    \n",
    "        we.execute(sql)\n",
    "\n",
    "        # 데이터 추가\n",
    "        # 1s\n",
    "        we.import_from_pandas(expdf, table_nm)\n",
    "        # print(f'{name} 업로드 성공')\n",
    "        # print()\n",
    "    except:\n",
    "        print(f'{name} 업로드 실패')\n",
    "        print()\n",
    "print('전체 완료')\n",
    "print()"
   ]
  },
  {
   "cell_type": "markdown",
   "metadata": {},
   "source": [
    "# Load"
   ]
  },
  {
   "cell_type": "markdown",
   "metadata": {},
   "source": [
    "## STD_BD_TB_MAPDATA(RH에서 제공한 법정동코드)"
   ]
  },
  {
   "cell_type": "code",
   "execution_count": 6,
   "metadata": {},
   "outputs": [
    {
     "name": "stdout",
     "output_type": "stream",
     "text": [
      "<class 'pandas.core.frame.DataFrame'>\n",
      "RangeIndex: 3799 entries, 0 to 3798\n",
      "Data columns (total 7 columns):\n",
      " #   Column       Non-Null Count  Dtype  \n",
      "---  ------       --------------  -----  \n",
      " 0   dong_code    3799 non-null   int64  \n",
      " 1   ctprvn_code  3798 non-null   float64\n",
      " 2   signgu_code  3798 non-null   float64\n",
      " 3   sdstrd_code  3798 non-null   float64\n",
      " 4   ctprvn_nm    3799 non-null   object \n",
      " 5   signgu_nm    3757 non-null   object \n",
      " 6   sdstrd_nm    3521 non-null   object \n",
      "dtypes: float64(3), int64(1), object(3)\n",
      "memory usage: 207.9+ KB\n"
     ]
    }
   ],
   "source": [
    "# name = 'tb_mapdata_gu(2023.04.20)'\n",
    "name = 'STD_BD_TB_MAPDATA'\n",
    "file_name = f'{name}.csv'\n",
    "STD_BD_TB_MAPDATA = pd.read_csv(os.path.join(sys_fold, file_name), low_memory=False, encoding='cp949')\n",
    "STD_BD_TB_MAPDATA.info()"
   ]
  },
  {
   "cell_type": "code",
   "execution_count": 7,
   "metadata": {},
   "outputs": [],
   "source": [
    "# expdf = STD_BD_TB_MAPDATA\n",
    "# table_nm = 'STD_BD_TB_MAPDATA'.upper()\n",
    "\n",
    "# # 테이블 생성\n",
    "# sql = 'create or replace table ' + table_nm + '( \\n'\n",
    "\n",
    "# for idx,column in enumerate(expdf.columns):\n",
    "#     if 'float' in expdf[column].dtype.name:\n",
    "#         sql += column + ' float'\n",
    "#     elif 'int' in expdf[column].dtype.name:\n",
    "#         sql += column + ' number'\n",
    "#     else:\n",
    "#         sql += column + ' varchar(255)'\n",
    "\n",
    "#     if len(expdf.columns) - 1 != idx:\n",
    "#         sql += ','\n",
    "#     sql += '\\n'\n",
    "# sql += ')'    \n",
    "# we.execute(sql)\n",
    "\n",
    "# # 데이터 추가\n",
    "# # 1s\n",
    "# we.import_from_pandas(expdf, table_nm)"
   ]
  },
  {
   "cell_type": "code",
   "execution_count": 7,
   "metadata": {},
   "outputs": [
    {
     "data": {
      "text/plain": [
       "'create or replace table STD_BD_TB_MAPDATA( \\nDONG_CODE number,\\nCTPRVN_CODE float,\\nSIGNGU_CODE float,\\nSDSTRD_CODE float,\\nCTPRVN_NM varchar(255),\\nSIGNGU_NM varchar(255),\\nSDSTRD_NM varchar(255)\\n)'"
      ]
     },
     "execution_count": 7,
     "metadata": {},
     "output_type": "execute_result"
    }
   ],
   "source": [
    "# sql"
   ]
  },
  {
   "cell_type": "markdown",
   "metadata": {},
   "source": [
    "## STD_BD_GRD4_RESULT(4등급 result)"
   ]
  },
  {
   "cell_type": "code",
   "execution_count": 8,
   "metadata": {},
   "outputs": [],
   "source": [
    "# # 9.9s\n",
    "# # name = '4등급_차량_리스트_양식_result_최종(전체)(2023.07.03)'\n",
    "# name = 'STD_BD_GRD4_RESULT'\n",
    "# file_name = f'{name}.csv'\n",
    "# STD_BD_GRD4_RESULT = pd.read_csv(os.path.join(sys_fold, file_name), low_memory=False)\n",
    "# STD_BD_GRD4_RESULT.info()"
   ]
  },
  {
   "cell_type": "code",
   "execution_count": 9,
   "metadata": {},
   "outputs": [],
   "source": [
    "# expdf = STD_BD_GRD4_RESULT\n",
    "# table_nm = 'STD_BD_GRD4_RESULT'.upper()\n",
    "\n",
    "# # 테이블 생성\n",
    "# sql = 'create or replace table ' + table_nm + '( \\n'\n",
    "\n",
    "# for idx,column in enumerate(expdf.columns):\n",
    "#     if 'float' in expdf[column].dtype.name:\n",
    "#         sql += column + ' float'\n",
    "#     elif 'int' in expdf[column].dtype.name:\n",
    "#         sql += column + ' number'\n",
    "#     else:\n",
    "#         sql += column + ' varchar(255)'\n",
    "\n",
    "#     if len(expdf.columns) - 1 != idx:\n",
    "#         sql += ','\n",
    "#     sql += '\\n'\n",
    "# sql += ')'    \n",
    "# we.execute(sql)\n",
    "\n",
    "# # 데이터 추가\n",
    "# # 1s\n",
    "# we.import_from_pandas(expdf, table_nm)"
   ]
  },
  {
   "cell_type": "code",
   "execution_count": 10,
   "metadata": {},
   "outputs": [],
   "source": [
    "# sql"
   ]
  },
  {
   "cell_type": "markdown",
   "metadata": {},
   "source": [
    "## STD_BD_KOSIS"
   ]
  },
  {
   "cell_type": "code",
   "execution_count": 11,
   "metadata": {},
   "outputs": [
    {
     "name": "stdout",
     "output_type": "stream",
     "text": [
      "<class 'pandas.core.frame.DataFrame'>\n",
      "RangeIndex: 1230 entries, 0 to 1229\n",
      "Data columns (total 4 columns):\n",
      " #   Column               Non-Null Count  Dtype  \n",
      "---  ------               --------------  -----  \n",
      " 0   CTPV                 1230 non-null   object \n",
      " 1   SGG                  1230 non-null   object \n",
      " 2   VHCTY_CD             1230 non-null   object \n",
      " 3   DY_AVRG_DRVNG_DSTNC  1230 non-null   float64\n",
      "dtypes: float64(1), object(3)\n",
      "memory usage: 38.6+ KB\n"
     ]
    }
   ],
   "source": [
    "# # 9.9s\n",
    "# name = 'STD_BD_KOSIS'\n",
    "# file_name = f'{name}.csv'\n",
    "# STD_BD_KOSIS = pd.read_csv(os.path.join(sys_fold, file_name), low_memory=False)\n",
    "# STD_BD_KOSIS.info()"
   ]
  },
  {
   "cell_type": "code",
   "execution_count": 12,
   "metadata": {},
   "outputs": [],
   "source": [
    "# expdf = STD_BD_KOSIS\n",
    "# table_nm = 'STD_BD_KOSIS'.upper()\n",
    "\n",
    "# # 테이블 생성\n",
    "# sql = 'create or replace table ' + table_nm + '( \\n'\n",
    "\n",
    "# for idx,column in enumerate(expdf.columns):\n",
    "#     # if 'float' in expdf[column].dtype.name:\n",
    "#     #     sql += column + ' float'\n",
    "#     # elif 'int' in expdf[column].dtype.name:\n",
    "#     #     sql += column + ' number'\n",
    "#     # else:\n",
    "#     sql += column + ' varchar(255)'\n",
    "\n",
    "#     if len(expdf.columns) - 1 != idx:\n",
    "#         sql += ','\n",
    "#     sql += '\\n'\n",
    "# sql += ')'    \n",
    "# we.execute(sql)\n",
    "\n",
    "# # 데이터 추가\n",
    "# # 1s\n",
    "# we.import_from_pandas(expdf, table_nm)"
   ]
  },
  {
   "cell_type": "markdown",
   "metadata": {},
   "source": [
    "# BD1"
   ]
  },
  {
   "cell_type": "markdown",
   "metadata": {},
   "source": [
    "## STD_BD_GRD4_CAR_CURSTT"
   ]
  },
  {
   "cell_type": "code",
   "execution_count": 7,
   "metadata": {},
   "outputs": [
    {
     "name": "stdout",
     "output_type": "stream",
     "text": [
      "<class 'pandas.core.frame.DataFrame'>\n",
      "RangeIndex: 1390266 entries, 0 to 1390265\n",
      "Data columns (total 27 columns):\n",
      " #   Column                 Non-Null Count    Dtype  \n",
      "---  ------                 --------------    -----  \n",
      " 0   IDX                    1390266 non-null  int64  \n",
      " 1   LOAD_DT                1390266 non-null  int64  \n",
      " 2   CRTR_YM                1390266 non-null  float64\n",
      " 3   VIN                    1390266 non-null  object \n",
      " 4   MANG_MNG_NO            1390266 non-null  object \n",
      " 5   VHCTY_CD               1390264 non-null  object \n",
      " 6   PURPS_CD2              1390266 non-null  object \n",
      " 7   YRIDNW                 1390266 non-null  int64  \n",
      " 8   VHCTY_TY               1390266 non-null  object \n",
      " 9   FUEL_CD                1390197 non-null  object \n",
      " 10  STDG_CD                1390266 non-null  int64  \n",
      " 11  CTPV_NM                1390266 non-null  object \n",
      " 12  SGG_NM                 1382812 non-null  object \n",
      " 13  VHCNM                  1390266 non-null  object \n",
      " 14  MNFCTR_NM              1380693 non-null  object \n",
      " 15  EXHST_GAS_CERT_NO_MOD  1271957 non-null  object \n",
      " 16  EXHST_GAS_GRD_CD_MOD   1390266 non-null  int64  \n",
      " 17  DPF_MNTNG_YN           1052613 non-null  object \n",
      " 18  INSP_MTHD              1137427 non-null  object \n",
      " 19  INSP_KND               1137425 non-null  object \n",
      " 20  INSP_JGMT              1137427 non-null  object \n",
      " 21  NOLOD_SMO_MEVLU1       1128424 non-null  float64\n",
      " 22  NOLOD_SMO_JGMT_YN1     1128423 non-null  object \n",
      " 23  NOLOD_SMO_MEVLU2       426732 non-null   float64\n",
      " 24  NOLOD_SMO_MEVLU3       395736 non-null   float64\n",
      " 25  STDG_CD_MOD            1390266 non-null  int64  \n",
      " 26  GRD4_MLSFC             1390266 non-null  object \n",
      "dtypes: float64(4), int64(6), object(17)\n",
      "memory usage: 286.4+ MB\n"
     ]
    }
   ],
   "source": [
    "STD_BD_GRD4_CAR_CURSTT = pd.read_csv(os.path.join(sys_fold, 'STD_BD_GRD4_CAR_CURSTT.csv'), low_memory=False)\n",
    "STD_BD_GRD4_CAR_CURSTT.info()"
   ]
  },
  {
   "cell_type": "code",
   "execution_count": 8,
   "metadata": {},
   "outputs": [],
   "source": [
    "expdf = STD_BD_GRD4_CAR_CURSTT\n",
    "table_nm = 'STD_BD_GRD4_CAR_CURSTT'.upper()\n",
    "\n",
    "# 테이블 생성\n",
    "sql = 'create or replace table ' + table_nm + '( \\n'\n",
    "\n",
    "for idx,column in enumerate(expdf.columns):\n",
    "    # if 'float' in expdf[column].dtype.name:\n",
    "    #     sql += column + ' float'\n",
    "    # elif 'int' in expdf[column].dtype.name:\n",
    "    #     sql += column + ' number'\n",
    "    # else:\n",
    "    sql += column + ' varchar(255)'\n",
    "\n",
    "    if len(expdf.columns) - 1 != idx:\n",
    "        sql += ','\n",
    "    sql += '\\n'\n",
    "sql += ')'    \n",
    "we.execute(sql)\n",
    "\n",
    "# 데이터 추가\n",
    "# 9s\n",
    "we.import_from_pandas(expdf, table_nm)"
   ]
  },
  {
   "cell_type": "markdown",
   "metadata": {},
   "source": [
    "## [+] STD_BD_GRD5_CAR_CURSTT"
   ]
  },
  {
   "cell_type": "code",
   "execution_count": 5,
   "metadata": {},
   "outputs": [
    {
     "name": "stdout",
     "output_type": "stream",
     "text": [
      "<class 'pandas.core.frame.DataFrame'>\n",
      "RangeIndex: 906192 entries, 0 to 906191\n",
      "Data columns (total 26 columns):\n",
      " #   Column                 Non-Null Count   Dtype  \n",
      "---  ------                 --------------   -----  \n",
      " 0   LOAD_DT                906192 non-null  int64  \n",
      " 1   CRTR_YM                906192 non-null  float64\n",
      " 2   VIN                    906192 non-null  object \n",
      " 3   MANG_MNG_NO            906192 non-null  object \n",
      " 4   VHCTY_CD               906192 non-null  object \n",
      " 5   PURPS_CD2              906192 non-null  object \n",
      " 6   YRIDNW                 906192 non-null  float64\n",
      " 7   VHCTY_TY               906192 non-null  object \n",
      " 8   FUEL_CD                906192 non-null  object \n",
      " 9   STDG_CD                906192 non-null  int64  \n",
      " 10  CTPV_NM                906192 non-null  object \n",
      " 11  SGG_NM                 902986 non-null  object \n",
      " 12  VHCNM                  906192 non-null  object \n",
      " 13  MNFCTR_NM              906192 non-null  object \n",
      " 14  EXHST_GAS_CERT_NO_MOD  906192 non-null  object \n",
      " 15  EXHST_GAS_GRD_CD_MOD   906192 non-null  int64  \n",
      " 16  DPF_MNTNG_YN           1 non-null       object \n",
      " 17  INSP_MTHD              643383 non-null  object \n",
      " 18  INSP_KND               643214 non-null  object \n",
      " 19  INSP_JGMT              643214 non-null  object \n",
      " 20  NOLOD_SMO_MEVLU1       637184 non-null  float64\n",
      " 21  NOLOD_SMO_JGMT_YN1     637182 non-null  object \n",
      " 22  NOLOD_SMO_MEVLU2       237954 non-null  float64\n",
      " 23  NOLOD_SMO_MEVLU3       217907 non-null  float64\n",
      " 24  STDG_CD_MOD            906192 non-null  int64  \n",
      " 25  GRD4_MLSFC             906192 non-null  object \n",
      "dtypes: float64(5), int64(4), object(17)\n",
      "memory usage: 179.8+ MB\n"
     ]
    }
   ],
   "source": [
    "STD_BD_GRD5_CAR_CURSTT = pd.read_csv(os.path.join(sys_fold, 'STD_BD_GRD5_CAR_CURSTT_202401241432.csv'), low_memory=False, sep='|')\n",
    "STD_BD_GRD5_CAR_CURSTT.info()"
   ]
  },
  {
   "cell_type": "code",
   "execution_count": 8,
   "metadata": {},
   "outputs": [],
   "source": [
    "expdf = STD_BD_GRD5_CAR_CURSTT\n",
    "table_nm = 'STD_BD_GRD5_CAR_CURSTT'.upper()\n",
    "\n",
    "# 테이블 생성\n",
    "sql = 'create or replace table ' + table_nm + '( \\n'\n",
    "\n",
    "for idx,column in enumerate(expdf.columns):\n",
    "    # if 'float' in expdf[column].dtype.name:\n",
    "    #     sql += column + ' float'\n",
    "    # elif 'int' in expdf[column].dtype.name:\n",
    "    #     sql += column + ' number'\n",
    "    # else:\n",
    "    sql += column + ' varchar(255)'\n",
    "\n",
    "    if len(expdf.columns) - 1 != idx:\n",
    "        sql += ','\n",
    "    sql += '\\n'\n",
    "sql += ')'    \n",
    "we.execute(sql)\n",
    "\n",
    "# 데이터 추가\n",
    "# 9s\n",
    "we.import_from_pandas(expdf, table_nm)"
   ]
  },
  {
   "cell_type": "markdown",
   "metadata": {},
   "source": [
    "## STD_BD_GRD4_SI"
   ]
  },
  {
   "cell_type": "code",
   "execution_count": 9,
   "metadata": {},
   "outputs": [
    {
     "name": "stdout",
     "output_type": "stream",
     "text": [
      "<class 'pandas.core.frame.DataFrame'>\n",
      "RangeIndex: 1052697 entries, 0 to 1052696\n",
      "Data columns (total 11 columns):\n",
      " #   Column                 Non-Null Count    Dtype  \n",
      "---  ------                 --------------    -----  \n",
      " 0   IDX                    1052697 non-null  int64  \n",
      " 1   LOAD_DT                1052697 non-null  int64  \n",
      " 2   VIN                    1052697 non-null  object \n",
      " 3   MANG_MNG_NO            1052697 non-null  object \n",
      " 4   VHCNM                  1052697 non-null  object \n",
      " 5   MNFCTR_NM              1052680 non-null  object \n",
      " 6   EXHST_GAS_CERT_NO_MOD  1046165 non-null  object \n",
      " 7   INSP_MTHD              1047878 non-null  object \n",
      " 8   DRVNG_DSTNC            1047672 non-null  float64\n",
      " 9   VHCAG                  1052697 non-null  int64  \n",
      " 10  SI                     1006355 non-null  float64\n",
      "dtypes: float64(2), int64(3), object(6)\n",
      "memory usage: 88.3+ MB\n"
     ]
    }
   ],
   "source": [
    "STD_BD_GRD4_SI = pd.read_csv(os.path.join(sys_fold, 'STD_BD_GRD4_SI.csv'))\n",
    "STD_BD_GRD4_SI.info()"
   ]
  },
  {
   "cell_type": "code",
   "execution_count": 10,
   "metadata": {},
   "outputs": [],
   "source": [
    "expdf = STD_BD_GRD4_SI\n",
    "table_nm = 'STD_BD_GRD4_SI'.upper()\n",
    "\n",
    "# 테이블 생성\n",
    "sql = 'create or replace table ' + table_nm + '( \\n'\n",
    "\n",
    "for idx,column in enumerate(expdf.columns):\n",
    "    # if 'float' in expdf[column].dtype.name:\n",
    "    #     sql += column + ' float'\n",
    "    # elif 'int' in expdf[column].dtype.name:\n",
    "    #     sql += column + ' number'\n",
    "    # else:\n",
    "    sql += column + ' varchar(255)'\n",
    "\n",
    "    if len(expdf.columns) - 1 != idx:\n",
    "        sql += ','\n",
    "    sql += '\\n'\n",
    "sql += ')'    \n",
    "we.execute(sql)\n",
    "\n",
    "# 데이터 추가\n",
    "# 6s\n",
    "we.import_from_pandas(expdf, table_nm)"
   ]
  },
  {
   "cell_type": "markdown",
   "metadata": {},
   "source": [
    "## STD_BD_GRD4_CAR_CURSTT_TOT"
   ]
  },
  {
   "cell_type": "code",
   "execution_count": 11,
   "metadata": {},
   "outputs": [
    {
     "name": "stdout",
     "output_type": "stream",
     "text": [
      "<class 'pandas.core.frame.DataFrame'>\n",
      "RangeIndex: 1403 entries, 0 to 1402\n",
      "Data columns (total 11 columns):\n",
      " #   Column                 Non-Null Count  Dtype  \n",
      "---  ------                 --------------  -----  \n",
      " 0   IDX                    1403 non-null   int64  \n",
      " 1   LOAD_DT                1403 non-null   int64  \n",
      " 2   VHCNM                  1403 non-null   object \n",
      " 3   MNFCTR_NM              1403 non-null   object \n",
      " 4   MANG_MNG_NO            1403 non-null   object \n",
      " 5   EXHST_GAS_CERT_NO_MOD  1392 non-null   object \n",
      " 6   INSP_MTHD              1403 non-null   object \n",
      " 7   LOWR_QRT               1403 non-null   float64\n",
      " 8   MID_QRT                1403 non-null   float64\n",
      " 9   UP_QRT                 1403 non-null   float64\n",
      " 10  VHCL_MKCNT             1403 non-null   int64  \n",
      "dtypes: float64(3), int64(3), object(5)\n",
      "memory usage: 120.7+ KB\n"
     ]
    }
   ],
   "source": [
    "STD_BD_GRD4_CAR_CURSTT_TOT = pd.read_csv(os.path.join(sys_fold, 'STD_BD_GRD4_CAR_CURSTT_TOT.csv'))\n",
    "STD_BD_GRD4_CAR_CURSTT_TOT.info()"
   ]
  },
  {
   "cell_type": "code",
   "execution_count": 12,
   "metadata": {},
   "outputs": [],
   "source": [
    "expdf = STD_BD_GRD4_CAR_CURSTT_TOT\n",
    "table_nm = 'STD_BD_GRD4_CAR_CURSTT_TOT'.upper()\n",
    "\n",
    "# 테이블 생성\n",
    "sql = 'create or replace table ' + table_nm + '( \\n'\n",
    "\n",
    "for idx,column in enumerate(expdf.columns):\n",
    "    # if 'float' in expdf[column].dtype.name:\n",
    "    #     sql += column + ' float'\n",
    "    # elif 'int' in expdf[column].dtype.name:\n",
    "    #     sql += column + ' number'\n",
    "    # else:\n",
    "    sql += column + ' varchar(255)'\n",
    "\n",
    "    if len(expdf.columns) - 1 != idx:\n",
    "        sql += ','\n",
    "    sql += '\\n'\n",
    "sql += ')'    \n",
    "we.execute(sql)\n",
    "\n",
    "# 데이터 추가\n",
    "# 1s\n",
    "we.import_from_pandas(expdf, table_nm)"
   ]
  },
  {
   "cell_type": "markdown",
   "metadata": {},
   "source": [
    "## STD_BD_DAT_GRD4_CERT_NO_RVW"
   ]
  },
  {
   "cell_type": "code",
   "execution_count": 13,
   "metadata": {},
   "outputs": [
    {
     "name": "stdout",
     "output_type": "stream",
     "text": [
      "<class 'pandas.core.frame.DataFrame'>\n",
      "RangeIndex: 1017 entries, 0 to 1016\n",
      "Data columns (total 11 columns):\n",
      " #   Column             Non-Null Count  Dtype  \n",
      "---  ------             --------------  -----  \n",
      " 0   IDX                1017 non-null   int64  \n",
      " 1   EXHST_GAS_CERT_NO  1006 non-null   object \n",
      " 2   INSP_MTHD          1017 non-null   object \n",
      " 3   RVW_SE             1017 non-null   object \n",
      " 4   RPRS_MNFCTR_NM     1017 non-null   object \n",
      " 5   RPRS_VHCNM         1017 non-null   object \n",
      " 6   MANG_MNG_NO        1017 non-null   object \n",
      " 7   LOWR_QRT           1017 non-null   float64\n",
      " 8   MID_QRT            1017 non-null   float64\n",
      " 9   UP_QRT             1017 non-null   float64\n",
      " 10  LOAD_DT            1017 non-null   int64  \n",
      "dtypes: float64(3), int64(2), object(6)\n",
      "memory usage: 87.5+ KB\n"
     ]
    }
   ],
   "source": [
    "# 0s\n",
    "STD_BD_DAT_GRD4_CERT_NO_RVW = pd.read_csv(os.path.join(sys_fold, 'STD_BD_DAT_GRD4_CERT_NO_RVW.csv'))\n",
    "STD_BD_DAT_GRD4_CERT_NO_RVW.info()"
   ]
  },
  {
   "cell_type": "code",
   "execution_count": 7,
   "metadata": {},
   "outputs": [
    {
     "name": "stdout",
     "output_type": "stream",
     "text": [
      "<class 'pandas.core.frame.DataFrame'>\n",
      "RangeIndex: 1132 entries, 0 to 1131\n",
      "Data columns (total 12 columns):\n",
      " #   Column    Non-Null Count  Dtype  \n",
      "---  ------    --------------  -----  \n",
      " 0   배출가스인증번호  1132 non-null   object \n",
      " 1   제작사명      1132 non-null   object \n",
      " 2   차명        1132 non-null   object \n",
      " 3   검사방법      1132 non-null   object \n",
      " 4   제원관리번호    1132 non-null   object \n",
      " 5   q1        1132 non-null   float64\n",
      " 6   q2        1132 non-null   float64\n",
      " 7   q3        1132 non-null   float64\n",
      " 8   차량대수      1132 non-null   int64  \n",
      " 9   테이블생성일자   1132 non-null   int64  \n",
      " 10  q2_mean   1132 non-null   float64\n",
      " 11  검토구분      1132 non-null   object \n",
      "dtypes: float64(4), int64(2), object(6)\n",
      "memory usage: 106.3+ KB\n"
     ]
    }
   ],
   "source": [
    "# # 0s\n",
    "# grp7 = pd.read_csv(os.path.join(sys_fold, '샘플_4등급경유차_배출가스인증번호_검토.csv'))\n",
    "# grp7.info()"
   ]
  },
  {
   "cell_type": "code",
   "execution_count": 8,
   "metadata": {},
   "outputs": [],
   "source": [
    "# STD_BD_DAT_GRD4_CERT_NO_RVW = grp7[[\n",
    "#     '배출가스인증번호',\n",
    "#     '검사방법',\n",
    "#     '검토구분',\n",
    "#     '제작사명',\n",
    "#     '차명',\n",
    "#     '제원관리번호',\n",
    "#     'q1',\n",
    "#     'q2',\n",
    "#     'q3',\n",
    "#     '테이블생성일자',\n",
    "# ]]"
   ]
  },
  {
   "cell_type": "code",
   "execution_count": 9,
   "metadata": {},
   "outputs": [
    {
     "data": {
      "text/plain": [
       "Index(['EXHST_GAS_CERT_NO', 'INSP_MTHD', 'RVW_SE', 'RPRS_MNFCTR_NM',\n",
       "       'RPRS_VHCNM', 'MANG_MNG_NO', 'LOWR_QRT', 'MID_QRT', 'UP_QRT',\n",
       "       'LOAD_DT'],\n",
       "      dtype='object')"
      ]
     },
     "execution_count": 9,
     "metadata": {},
     "output_type": "execute_result"
    }
   ],
   "source": [
    "cdict = {\n",
    "    '배출가스인증번호':'EXHST_GAS_CERT_NO',\n",
    "    '검사방법':'INSP_MTHD',\n",
    "    '검토구분':'RVW_SE',\n",
    "    '제작사명':'RPRS_MNFCTR_NM',\n",
    "    '차명':'RPRS_VHCNM', \n",
    "    '제원관리번호':'MANG_MNG_NO',\n",
    "    'q1':'LOWR_QRT',\n",
    "    'q2':'MID_QRT',\n",
    "    'q3':'UP_QRT',\n",
    "    '테이블생성일자':'LOAD_DT',\n",
    "}\n",
    "STD_BD_DAT_GRD4_CERT_NO_RVW = STD_BD_DAT_GRD4_CERT_NO_RVW.rename(columns=cdict)\n",
    "STD_BD_DAT_GRD4_CERT_NO_RVW.columns"
   ]
  },
  {
   "cell_type": "code",
   "execution_count": 10,
   "metadata": {},
   "outputs": [],
   "source": [
    "expdf = STD_BD_DAT_GRD4_CERT_NO_RVW\n",
    "table_nm = 'STD_BD_DAT_GRD4_CERT_NO_RVW'.upper()\n",
    "\n",
    "# 테이블 생성\n",
    "sql = 'create or replace table ' + table_nm + '( \\n'\n",
    "\n",
    "for idx,column in enumerate(expdf.columns):\n",
    "    if 'float' in expdf[column].dtype.name:\n",
    "        sql += column + ' float'\n",
    "    elif 'int' in expdf[column].dtype.name:\n",
    "        sql += column + ' number'\n",
    "    else:\n",
    "        sql += column + ' varchar(255)'\n",
    "\n",
    "    if len(expdf.columns) - 1 != idx:\n",
    "        sql += ','\n",
    "    sql += '\\n'\n",
    "sql += ')'    \n",
    "we.execute(sql)\n",
    "\n",
    "# 데이터 추가\n",
    "# 1s\n",
    "we.import_from_pandas(expdf, table_nm)"
   ]
  },
  {
   "cell_type": "code",
   "execution_count": 15,
   "metadata": {},
   "outputs": [
    {
     "data": {
      "text/plain": [
       "'create or replace table STD_BD_DAT_GRD4_CERT_NO_RVW( \\nIDX number,\\nEXHST_GAS_CERT_NO varchar(255),\\nINSP_MTHD varchar(255),\\nRVW_SE varchar(255),\\nRPRS_MNFCTR_NM varchar(255),\\nRPRS_VHCNM varchar(255),\\nMANG_MNG_NO varchar(255),\\nLOWR_QRT float,\\nMID_QRT float,\\nUP_QRT float,\\nLOAD_DT number\\n)'"
      ]
     },
     "execution_count": 15,
     "metadata": {},
     "output_type": "execute_result"
    }
   ],
   "source": [
    "sql"
   ]
  },
  {
   "cell_type": "markdown",
   "metadata": {},
   "source": [
    "## STD_BD_DAT_GRD4_SI"
   ]
  },
  {
   "cell_type": "code",
   "execution_count": 16,
   "metadata": {},
   "outputs": [
    {
     "name": "stdout",
     "output_type": "stream",
     "text": [
      "<class 'pandas.core.frame.DataFrame'>\n",
      "RangeIndex: 386 entries, 0 to 385\n",
      "Data columns (total 10 columns):\n",
      " #   Column             Non-Null Count  Dtype  \n",
      "---  ------             --------------  -----  \n",
      " 0   IDX                386 non-null    int64  \n",
      " 1   EXHST_GAS_CERT_NO  382 non-null    object \n",
      " 2   INSP_MTHD          386 non-null    object \n",
      " 3   RPRS_MNFCTR_NM     386 non-null    object \n",
      " 4   RPRS_VHCNM         386 non-null    object \n",
      " 5   RPRS_VHCTY_CD      386 non-null    object \n",
      " 6   RPRS_FUEL          386 non-null    object \n",
      " 7   FRST_YRIDNW        386 non-null    int64  \n",
      " 8   SI                 378 non-null    float64\n",
      " 9   LOAD_DT            386 non-null    int64  \n",
      "dtypes: float64(1), int64(3), object(6)\n",
      "memory usage: 30.3+ KB\n"
     ]
    }
   ],
   "source": [
    "# 0s\n",
    "STD_BD_DAT_GRD4_SI = pd.read_csv(os.path.join(sys_fold, 'STD_BD_DAT_GRD4_SI.csv'))\n",
    "STD_BD_DAT_GRD4_SI.info()"
   ]
  },
  {
   "cell_type": "code",
   "execution_count": 17,
   "metadata": {},
   "outputs": [],
   "source": [
    "expdf = STD_BD_DAT_GRD4_SI\n",
    "table_nm = 'STD_BD_DAT_GRD4_SI'.upper()\n",
    "\n",
    "# 테이블 생성\n",
    "sql = 'create or replace table ' + table_nm + '( \\n'\n",
    "\n",
    "for idx,column in enumerate(expdf.columns):\n",
    "    if 'float' in expdf[column].dtype.name:\n",
    "        sql += column + ' float'\n",
    "    elif 'int' in expdf[column].dtype.name:\n",
    "        sql += column + ' number'\n",
    "    else:\n",
    "        sql += column + ' varchar(255)'\n",
    "\n",
    "    if len(expdf.columns) - 1 != idx:\n",
    "        sql += ','\n",
    "    sql += '\\n'\n",
    "sql += ')'    \n",
    "we.execute(sql)\n",
    "\n",
    "# 데이터 추가\n",
    "# 1s\n",
    "we.import_from_pandas(expdf, table_nm)"
   ]
  },
  {
   "cell_type": "code",
   "execution_count": 18,
   "metadata": {},
   "outputs": [
    {
     "data": {
      "text/plain": [
       "'create or replace table STD_BD_DAT_GRD4_SI( \\nIDX number,\\nEXHST_GAS_CERT_NO varchar(255),\\nINSP_MTHD varchar(255),\\nRPRS_MNFCTR_NM varchar(255),\\nRPRS_VHCNM varchar(255),\\nRPRS_VHCTY_CD varchar(255),\\nRPRS_FUEL varchar(255),\\nFRST_YRIDNW number,\\nSI float,\\nLOAD_DT number\\n)'"
      ]
     },
     "execution_count": 18,
     "metadata": {},
     "output_type": "execute_result"
    }
   ],
   "source": [
    "sql"
   ]
  },
  {
   "cell_type": "markdown",
   "metadata": {},
   "source": [
    "## STD_BD_GRD4_ELPDSRC_CURSTT"
   ]
  },
  {
   "cell_type": "code",
   "execution_count": 19,
   "metadata": {},
   "outputs": [
    {
     "name": "stdout",
     "output_type": "stream",
     "text": [
      "<class 'pandas.core.frame.DataFrame'>\n",
      "RangeIndex: 1411482 entries, 0 to 1411481\n",
      "Data columns (total 13 columns):\n",
      " #   Column               Non-Null Count    Dtype  \n",
      "---  ------               --------------    -----  \n",
      " 0   IDX                  1411482 non-null  int64  \n",
      " 1   CRTR_YM              1411482 non-null  float64\n",
      " 2   VIN                  1411482 non-null  object \n",
      " 3   STDG_CD              1411482 non-null  int64  \n",
      " 4   VHCTY_CD             1411482 non-null  object \n",
      " 5   PURPS_CD2            1411482 non-null  object \n",
      " 6   FUEL_CD              1411482 non-null  object \n",
      " 7   VHCTY_TY             1411482 non-null  object \n",
      " 8   CTPV                 1411482 non-null  object \n",
      " 9   SGG                  1402796 non-null  object \n",
      " 10  ELPDSRC_STTS_CD      30783 non-null    object \n",
      " 11  ELPDSRC_LST_APRV_YN  30783 non-null    object \n",
      " 12  LOAD_DT              1411482 non-null  int64  \n",
      "dtypes: float64(1), int64(3), object(9)\n",
      "memory usage: 140.0+ MB\n"
     ]
    }
   ],
   "source": [
    "STD_BD_GRD4_ELPDSRC_CURSTT = pd.read_csv(os.path.join(sys_fold, 'STD_BD_GRD4_ELPDSRC_CURSTT.csv'))\n",
    "STD_BD_GRD4_ELPDSRC_CURSTT.info()"
   ]
  },
  {
   "cell_type": "code",
   "execution_count": 20,
   "metadata": {},
   "outputs": [],
   "source": [
    "expdf = STD_BD_GRD4_ELPDSRC_CURSTT\n",
    "table_nm = 'STD_BD_GRD4_ELPDSRC_CURSTT'.upper()\n",
    "\n",
    "# 테이블 생성\n",
    "sql = 'create or replace table ' + table_nm + '( \\n'\n",
    "\n",
    "for idx,column in enumerate(expdf.columns):\n",
    "    # if 'float' in expdf[column].dtype.name:\n",
    "    #     sql += column + ' float'\n",
    "    # elif 'int' in expdf[column].dtype.name:\n",
    "    #     sql += column + ' number'\n",
    "    # else:\n",
    "    sql += column + ' varchar(255)'\n",
    "\n",
    "    if len(expdf.columns) - 1 != idx:\n",
    "        sql += ','\n",
    "    sql += '\\n'\n",
    "sql += ')'    \n",
    "we.execute(sql)\n",
    "\n",
    "# 데이터 추가\n",
    "# 5s\n",
    "we.import_from_pandas(expdf, table_nm)"
   ]
  },
  {
   "cell_type": "markdown",
   "metadata": {},
   "source": [
    "## [+] STD_BD_GRD5_ELPDSRC_CURSTT"
   ]
  },
  {
   "cell_type": "code",
   "execution_count": 10,
   "metadata": {},
   "outputs": [
    {
     "name": "stdout",
     "output_type": "stream",
     "text": [
      "<class 'pandas.core.frame.DataFrame'>\n",
      "RangeIndex: 2346601 entries, 0 to 2346600\n",
      "Data columns (total 12 columns):\n",
      " #   Column                Dtype  \n",
      "---  ------                -----  \n",
      " 0   CRTR_YM               float64\n",
      " 1   VIN                   object \n",
      " 2   STDG_CD               int64  \n",
      " 3   VHCTY_CD              object \n",
      " 4   PURPS_CD2             object \n",
      " 5   FUEL_CD               object \n",
      " 6   VHCTY_TY              object \n",
      " 7   CTPV                  object \n",
      " 8   SGG                   object \n",
      " 9   ELPDSRC_STTS_CD       object \n",
      " 10  ELPDSRC_LAST_APRV_YN  object \n",
      " 11  LOAD_DT               int64  \n",
      "dtypes: float64(1), int64(2), object(9)\n",
      "memory usage: 214.8+ MB\n"
     ]
    }
   ],
   "source": [
    "STD_BD_GRD5_ELPDSRC_CURSTT = pd.read_csv(os.path.join(sys_fold, 'STD_BD_GRD5_ELPDSRC_CURSTT_202401241432.csv'), low_memory=False, sep='|')\n",
    "STD_BD_GRD5_ELPDSRC_CURSTT.info()"
   ]
  },
  {
   "cell_type": "code",
   "execution_count": 11,
   "metadata": {},
   "outputs": [],
   "source": [
    "expdf = STD_BD_GRD5_ELPDSRC_CURSTT\n",
    "table_nm = 'STD_BD_GRD5_ELPDSRC_CURSTT'.upper()\n",
    "\n",
    "# 테이블 생성\n",
    "sql = 'create or replace table ' + table_nm + '( \\n'\n",
    "\n",
    "for idx,column in enumerate(expdf.columns):\n",
    "    # if 'float' in expdf[column].dtype.name:\n",
    "    #     sql += column + ' float'\n",
    "    # elif 'int' in expdf[column].dtype.name:\n",
    "    #     sql += column + ' number'\n",
    "    # else:\n",
    "    sql += column + ' varchar(255)'\n",
    "\n",
    "    if len(expdf.columns) - 1 != idx:\n",
    "        sql += ','\n",
    "    sql += '\\n'\n",
    "sql += ')'    \n",
    "we.execute(sql)\n",
    "\n",
    "# 데이터 추가\n",
    "# 5s\n",
    "we.import_from_pandas(expdf, table_nm)"
   ]
  },
  {
   "cell_type": "markdown",
   "metadata": {},
   "source": [
    "## STD_BD_GRD4_NOW_ELPDSRC_CURSTT"
   ]
  },
  {
   "cell_type": "code",
   "execution_count": 12,
   "metadata": {},
   "outputs": [
    {
     "name": "stdout",
     "output_type": "stream",
     "text": [
      "<class 'pandas.core.frame.DataFrame'>\n",
      "RangeIndex: 1411514 entries, 0 to 1411513\n",
      "Data columns (total 8 columns):\n",
      " #   Column                Non-Null Count    Dtype \n",
      "---  ------                --------------    ----- \n",
      " 0   VIN                   1411514 non-null  object\n",
      " 1   STDG_CD               1411514 non-null  int64 \n",
      " 2   FUEL_CD               1411514 non-null  object\n",
      " 3   CTPV                  1411514 non-null  object\n",
      " 4   SGG                   1402873 non-null  object\n",
      " 5   ELPDSRC_STTS_CD       48922 non-null    object\n",
      " 6   ELPDSRC_LAST_APRV_YN  41657 non-null    object\n",
      " 7   LOAD_DT               1411514 non-null  int64 \n",
      "dtypes: int64(2), object(6)\n",
      "memory usage: 86.2+ MB\n"
     ]
    }
   ],
   "source": [
    "STD_BD_GRD4_NOW_ELPDSRC_CURSTT = pd.read_csv(os.path.join(sys_fold, 'STD_BD_GRD4_NOW_ELPDSRC_CURSTT(20231027).csv'))\n",
    "STD_BD_GRD4_NOW_ELPDSRC_CURSTT.info()"
   ]
  },
  {
   "cell_type": "code",
   "execution_count": 13,
   "metadata": {},
   "outputs": [
    {
     "data": {
      "text/html": [
       "<div>\n",
       "<style scoped>\n",
       "    .dataframe tbody tr th:only-of-type {\n",
       "        vertical-align: middle;\n",
       "    }\n",
       "\n",
       "    .dataframe tbody tr th {\n",
       "        vertical-align: top;\n",
       "    }\n",
       "\n",
       "    .dataframe thead th {\n",
       "        text-align: right;\n",
       "    }\n",
       "</style>\n",
       "<table border=\"1\" class=\"dataframe\">\n",
       "  <thead>\n",
       "    <tr style=\"text-align: right;\">\n",
       "      <th></th>\n",
       "      <th>VIN</th>\n",
       "      <th>STDG_CD</th>\n",
       "      <th>FUEL_CD</th>\n",
       "      <th>CTPV</th>\n",
       "      <th>SGG</th>\n",
       "      <th>ELPDSRC_STTS_CD</th>\n",
       "      <th>ELPDSRC_LAST_APRV_YN</th>\n",
       "      <th>LOAD_DT</th>\n",
       "    </tr>\n",
       "  </thead>\n",
       "  <tbody>\n",
       "    <tr>\n",
       "      <th>0</th>\n",
       "      <td>KNCSJX74AAK466529</td>\n",
       "      <td>2914000000</td>\n",
       "      <td>경유</td>\n",
       "      <td>광주광역시</td>\n",
       "      <td>서구</td>\n",
       "      <td>NaN</td>\n",
       "      <td>NaN</td>\n",
       "      <td>20231027</td>\n",
       "    </tr>\n",
       "    <tr>\n",
       "      <th>1</th>\n",
       "      <td>KNCSJX74AAK466524</td>\n",
       "      <td>2914000000</td>\n",
       "      <td>경유</td>\n",
       "      <td>광주광역시</td>\n",
       "      <td>서구</td>\n",
       "      <td>NaN</td>\n",
       "      <td>NaN</td>\n",
       "      <td>20231027</td>\n",
       "    </tr>\n",
       "    <tr>\n",
       "      <th>2</th>\n",
       "      <td>KNCSJX74AAK466522</td>\n",
       "      <td>2914000000</td>\n",
       "      <td>경유</td>\n",
       "      <td>광주광역시</td>\n",
       "      <td>서구</td>\n",
       "      <td>NaN</td>\n",
       "      <td>NaN</td>\n",
       "      <td>20231027</td>\n",
       "    </tr>\n",
       "    <tr>\n",
       "      <th>3</th>\n",
       "      <td>KNCSJX74AAK466519</td>\n",
       "      <td>2914000000</td>\n",
       "      <td>경유</td>\n",
       "      <td>광주광역시</td>\n",
       "      <td>서구</td>\n",
       "      <td>NaN</td>\n",
       "      <td>NaN</td>\n",
       "      <td>20231027</td>\n",
       "    </tr>\n",
       "    <tr>\n",
       "      <th>4</th>\n",
       "      <td>KNCSJX74AAAK46652</td>\n",
       "      <td>2914000000</td>\n",
       "      <td>경유</td>\n",
       "      <td>광주광역시</td>\n",
       "      <td>서구</td>\n",
       "      <td>NaN</td>\n",
       "      <td>NaN</td>\n",
       "      <td>20231027</td>\n",
       "    </tr>\n",
       "  </tbody>\n",
       "</table>\n",
       "</div>"
      ],
      "text/plain": [
       "                 VIN     STDG_CD FUEL_CD   CTPV SGG ELPDSRC_STTS_CD  \\\n",
       "0  KNCSJX74AAK466529  2914000000      경유  광주광역시  서구             NaN   \n",
       "1  KNCSJX74AAK466524  2914000000      경유  광주광역시  서구             NaN   \n",
       "2  KNCSJX74AAK466522  2914000000      경유  광주광역시  서구             NaN   \n",
       "3  KNCSJX74AAK466519  2914000000      경유  광주광역시  서구             NaN   \n",
       "4  KNCSJX74AAAK46652  2914000000      경유  광주광역시  서구             NaN   \n",
       "\n",
       "  ELPDSRC_LAST_APRV_YN   LOAD_DT  \n",
       "0                  NaN  20231027  \n",
       "1                  NaN  20231027  \n",
       "2                  NaN  20231027  \n",
       "3                  NaN  20231027  \n",
       "4                  NaN  20231027  "
      ]
     },
     "execution_count": 13,
     "metadata": {},
     "output_type": "execute_result"
    }
   ],
   "source": [
    "STD_BD_GRD4_NOW_ELPDSRC_CURSTT.head()"
   ]
  },
  {
   "cell_type": "code",
   "execution_count": 14,
   "metadata": {},
   "outputs": [],
   "source": [
    "expdf = STD_BD_GRD4_NOW_ELPDSRC_CURSTT\n",
    "table_nm = 'STD_BD_GRD4_NOW_ELPDSRC_CURSTT'.upper()\n",
    "\n",
    "# 테이블 생성\n",
    "sql = 'create or replace table ' + table_nm + '( \\n'\n",
    "\n",
    "for idx,column in enumerate(expdf.columns):\n",
    "    # if 'float' in expdf[column].dtype.name:\n",
    "    #     sql += column + ' float'\n",
    "    # elif 'int' in expdf[column].dtype.name:\n",
    "    #     sql += column + ' number'\n",
    "    # else:\n",
    "    sql += column + ' varchar(255)'\n",
    "\n",
    "    if len(expdf.columns) - 1 != idx:\n",
    "        sql += ','\n",
    "    sql += '\\n'\n",
    "sql += ')'    \n",
    "we.execute(sql)\n",
    "\n",
    "# 데이터 추가\n",
    "# 5s\n",
    "we.import_from_pandas(expdf, table_nm)"
   ]
  },
  {
   "cell_type": "markdown",
   "metadata": {},
   "source": [
    "## STD_BD_GRD4_MLSFC_RSLT"
   ]
  },
  {
   "cell_type": "code",
   "execution_count": 21,
   "metadata": {},
   "outputs": [
    {
     "name": "stderr",
     "output_type": "stream",
     "text": [
      "C:\\Users\\kbjung\\AppData\\Local\\Temp\\ipykernel_20100\\3387438605.py:1: DtypeWarning: Columns (12) have mixed types. Specify dtype option on import or set low_memory=False.\n",
      "  STD_BD_GRD4_MLSFC_RSLT = pd.read_csv(os.path.join(sys_fold, 'STD_BD_GRD4_MLSFC_RSLT.csv'))\n"
     ]
    },
    {
     "name": "stdout",
     "output_type": "stream",
     "text": [
      "<class 'pandas.core.frame.DataFrame'>\n",
      "RangeIndex: 1390266 entries, 0 to 1390265\n",
      "Data columns (total 15 columns):\n",
      " #   Column        Non-Null Count    Dtype \n",
      "---  ------        --------------    ----- \n",
      " 0   IDX           1390266 non-null  int64 \n",
      " 1   LOAD_DT       1390266 non-null  int64 \n",
      " 2   VIN           1390266 non-null  object\n",
      " 3   MANG_MNG_NO   1390266 non-null  object\n",
      " 4   VHCTY_CD      1390264 non-null  object\n",
      " 5   PURPS_CD2     1390266 non-null  object\n",
      " 6   YRIDNW        1390266 non-null  int64 \n",
      " 7   VHCTY_TY      1390266 non-null  object\n",
      " 8   FUEL_CD       1390197 non-null  object\n",
      " 9   STDG_CD       1390266 non-null  int64 \n",
      " 10  CTPV_NM       1390266 non-null  object\n",
      " 11  SGG_NM        1382812 non-null  object\n",
      " 12  DPF_MNTNG_YN  1052613 non-null  object\n",
      " 13  GRD4_MLSFC    1390266 non-null  object\n",
      " 14  STDG_CD_MOD   1390266 non-null  int64 \n",
      "dtypes: int64(5), object(10)\n",
      "memory usage: 159.1+ MB\n"
     ]
    }
   ],
   "source": [
    "STD_BD_GRD4_MLSFC_RSLT = pd.read_csv(os.path.join(sys_fold, 'STD_BD_GRD4_MLSFC_RSLT.csv'))\n",
    "STD_BD_GRD4_MLSFC_RSLT.info()"
   ]
  },
  {
   "cell_type": "code",
   "execution_count": 22,
   "metadata": {},
   "outputs": [],
   "source": [
    "expdf = STD_BD_GRD4_MLSFC_RSLT\n",
    "table_nm = 'STD_BD_GRD4_MLSFC_RSLT'.upper()\n",
    "\n",
    "# 테이블 생성\n",
    "sql = 'create or replace table ' + table_nm + '( \\n'\n",
    "\n",
    "for idx,column in enumerate(expdf.columns):\n",
    "    # if 'float' in expdf[column].dtype.name:\n",
    "    #     sql += column + ' float'\n",
    "    # elif 'int' in expdf[column].dtype.name:\n",
    "    #     sql += column + ' number'\n",
    "    # else:\n",
    "    sql += column + ' varchar(255)'\n",
    "\n",
    "    if len(expdf.columns) - 1 != idx:\n",
    "        sql += ','\n",
    "    sql += '\\n'\n",
    "sql += ')'    \n",
    "we.execute(sql)\n",
    "\n",
    "# 데이터 추가\n",
    "# 7s\n",
    "we.import_from_pandas(expdf, table_nm)"
   ]
  },
  {
   "cell_type": "markdown",
   "metadata": {},
   "source": [
    "## STD_BD_DAT_GRD4_MLSFC"
   ]
  },
  {
   "cell_type": "code",
   "execution_count": 6,
   "metadata": {},
   "outputs": [
    {
     "name": "stdout",
     "output_type": "stream",
     "text": [
      "<class 'pandas.core.frame.DataFrame'>\n",
      "RangeIndex: 38485 entries, 0 to 38484\n",
      "Data columns (total 14 columns):\n",
      " #   Column     Non-Null Count  Dtype  \n",
      "---  ------     --------------  -----  \n",
      " 0   FUEL_CD    38485 non-null  object \n",
      " 1   CTPV       38485 non-null  object \n",
      " 2   SGG        38303 non-null  object \n",
      " 3   VHCTY_CD   38485 non-null  object \n",
      " 4   VHCTY_TY   38485 non-null  object \n",
      " 5   PURPS_CD2  38485 non-null  object \n",
      " 6   YRIDNW     38485 non-null  int64  \n",
      " 7   A_MKCNT    12745 non-null  float64\n",
      " 8   B_MKCNT    15808 non-null  float64\n",
      " 9   C_MKCNT    11000 non-null  float64\n",
      " 10  D_MKCNT    1406 non-null   float64\n",
      " 11  X_MKCNT    6111 non-null   float64\n",
      " 12  YR         38485 non-null  int64  \n",
      " 13  LOAD_DT    38485 non-null  int64  \n",
      "dtypes: float64(5), int64(3), object(6)\n",
      "memory usage: 4.1+ MB\n"
     ]
    }
   ],
   "source": [
    "# 0s\n",
    "STD_BD_DAT_GRD4_MLSFC = pd.read_csv(os.path.join(keco_fold, 'STD_BD_DAT_GRD4_MLSFC_20231211.csv'))\n",
    "STD_BD_DAT_GRD4_MLSFC.info()"
   ]
  },
  {
   "cell_type": "code",
   "execution_count": 7,
   "metadata": {},
   "outputs": [],
   "source": [
    "expdf = STD_BD_DAT_GRD4_MLSFC\n",
    "table_nm = 'STD_BD_DAT_GRD4_MLSFC'.upper()\n",
    "\n",
    "# 테이블 생성\n",
    "sql = 'create or replace table ' + table_nm + '( \\n'\n",
    "\n",
    "for idx,column in enumerate(expdf.columns):\n",
    "    # if 'float' in expdf[column].dtype.name:\n",
    "    #     sql += column + ' float'\n",
    "    # elif 'int' in expdf[column].dtype.name:\n",
    "    #     sql += column + ' number'\n",
    "    # else:\n",
    "    sql += column + ' varchar(255)'\n",
    "\n",
    "    if len(expdf.columns) - 1 != idx:\n",
    "        sql += ','\n",
    "    sql += '\\n'\n",
    "sql += ')'    \n",
    "we.execute(sql)\n",
    "\n",
    "# 데이터 추가\n",
    "# 1s\n",
    "we.import_from_pandas(expdf, table_nm)"
   ]
  },
  {
   "cell_type": "markdown",
   "metadata": {},
   "source": [
    "## STD_BD_DAT_GRD4_DTL_INFO"
   ]
  },
  {
   "cell_type": "code",
   "execution_count": 25,
   "metadata": {},
   "outputs": [
    {
     "name": "stderr",
     "output_type": "stream",
     "text": [
      "C:\\Users\\kbjung\\AppData\\Local\\Temp\\ipykernel_20100\\2969779950.py:2: DtypeWarning: Columns (11,12,14,15) have mixed types. Specify dtype option on import or set low_memory=False.\n",
      "  STD_BD_DAT_GRD4_DTL_INFO = pd.read_csv(os.path.join(sys_fold, 'STD_BD_DAT_GRD4_DTL_INFO.csv'))\n"
     ]
    },
    {
     "name": "stdout",
     "output_type": "stream",
     "text": [
      "<class 'pandas.core.frame.DataFrame'>\n",
      "RangeIndex: 1906799 entries, 0 to 1906798\n",
      "Data columns (total 19 columns):\n",
      " #   Column           Dtype  \n",
      "---  ------           -----  \n",
      " 0   IDX              int64  \n",
      " 1   VHRNO            object \n",
      " 2   VIN              object \n",
      " 3   GRD4_MLSFC       object \n",
      " 4   VHCTY_CD         object \n",
      " 5   VHCTY_TY         object \n",
      " 6   PURPS_CD2        object \n",
      " 7   FUEL_CD          object \n",
      " 8   CTPV             object \n",
      " 9   SGG              object \n",
      " 10  YRIDNW           int64  \n",
      " 11  DPF_MNTNG_YN     object \n",
      " 12  RDCDVC_KND       object \n",
      " 13  FRST_REG_YMD     float64\n",
      " 14  ELPDSRC_APLY_YN  object \n",
      " 15  ELPDSRC_STTS_CD  object \n",
      " 16  CHNG_DE          float64\n",
      " 17  VHCL_ERSR_YN     object \n",
      " 18  LOAD_DT          int64  \n",
      "dtypes: float64(2), int64(3), object(14)\n",
      "memory usage: 276.4+ MB\n"
     ]
    }
   ],
   "source": [
    "# 6s\n",
    "STD_BD_DAT_GRD4_DTL_INFO = pd.read_csv(os.path.join(sys_fold, 'STD_BD_DAT_GRD4_DTL_INFO.csv'))\n",
    "STD_BD_DAT_GRD4_DTL_INFO.info()"
   ]
  },
  {
   "cell_type": "code",
   "execution_count": 26,
   "metadata": {},
   "outputs": [],
   "source": [
    "expdf = STD_BD_DAT_GRD4_DTL_INFO\n",
    "table_nm = 'STD_BD_DAT_GRD4_DTL_INFO'.upper()\n",
    "\n",
    "# 테이블 생성\n",
    "sql = 'create or replace table ' + table_nm + '( \\n'\n",
    "\n",
    "for idx,column in enumerate(expdf.columns):\n",
    "    # if 'float' in expdf[column].dtype.name:\n",
    "    #     sql += column + ' float'\n",
    "    # elif 'int' in expdf[column].dtype.name:\n",
    "    #     sql += column + ' number'\n",
    "    # else:\n",
    "    sql += column + ' varchar(255)'\n",
    "\n",
    "    if len(expdf.columns) - 1 != idx:\n",
    "        sql += ','\n",
    "    sql += '\\n'\n",
    "sql += ')'    \n",
    "we.execute(sql)\n",
    "\n",
    "# 데이터 추가\n",
    "# 9s\n",
    "we.import_from_pandas(expdf, table_nm)"
   ]
  },
  {
   "cell_type": "markdown",
   "metadata": {},
   "source": [
    "## STD_BD_GRD4_RGN_CURSTT"
   ]
  },
  {
   "cell_type": "code",
   "execution_count": 6,
   "metadata": {},
   "outputs": [
    {
     "name": "stdout",
     "output_type": "stream",
     "text": [
      "<class 'pandas.core.frame.DataFrame'>\n",
      "RangeIndex: 11136 entries, 0 to 11135\n",
      "Data columns (total 8 columns):\n",
      " #   Column      Non-Null Count  Dtype  \n",
      "---  ------      --------------  -----  \n",
      " 0   LOAD_DT     11136 non-null  int64  \n",
      " 1   CRTR_YM     11136 non-null  float64\n",
      " 2   YR          11136 non-null  int64  \n",
      " 3   MM          11136 non-null  int64  \n",
      " 4   FUEL_CD     11136 non-null  object \n",
      " 5   CTPV        11136 non-null  object \n",
      " 6   SGG         11088 non-null  object \n",
      " 7   VHCL_MKCNT  11136 non-null  float64\n",
      "dtypes: float64(2), int64(3), object(3)\n",
      "memory usage: 696.1+ KB\n"
     ]
    }
   ],
   "source": [
    "STD_BD_GRD4_RGN_CURSTT = pd.read_csv(os.path.join(sys_fold, 'STD_BD_GRD4_RGN_CURSTT.csv'))\n",
    "STD_BD_GRD4_RGN_CURSTT.info()"
   ]
  },
  {
   "cell_type": "code",
   "execution_count": 7,
   "metadata": {},
   "outputs": [
    {
     "data": {
      "text/html": [
       "<div>\n",
       "<style scoped>\n",
       "    .dataframe tbody tr th:only-of-type {\n",
       "        vertical-align: middle;\n",
       "    }\n",
       "\n",
       "    .dataframe tbody tr th {\n",
       "        vertical-align: top;\n",
       "    }\n",
       "\n",
       "    .dataframe thead th {\n",
       "        text-align: right;\n",
       "    }\n",
       "</style>\n",
       "<table border=\"1\" class=\"dataframe\">\n",
       "  <thead>\n",
       "    <tr style=\"text-align: right;\">\n",
       "      <th></th>\n",
       "      <th>LOAD_DT</th>\n",
       "      <th>CRTR_YM</th>\n",
       "      <th>YR</th>\n",
       "      <th>MM</th>\n",
       "      <th>FUEL_CD</th>\n",
       "      <th>CTPV</th>\n",
       "      <th>SGG</th>\n",
       "      <th>VHCL_MKCNT</th>\n",
       "    </tr>\n",
       "  </thead>\n",
       "  <tbody>\n",
       "    <tr>\n",
       "      <th>0</th>\n",
       "      <td>20230822</td>\n",
       "      <td>2022.09</td>\n",
       "      <td>2022</td>\n",
       "      <td>9</td>\n",
       "      <td>CNG(압축천연가스)</td>\n",
       "      <td>전라남도</td>\n",
       "      <td>해남군</td>\n",
       "      <td>1.0</td>\n",
       "    </tr>\n",
       "    <tr>\n",
       "      <th>1</th>\n",
       "      <td>20230822</td>\n",
       "      <td>2022.10</td>\n",
       "      <td>2022</td>\n",
       "      <td>10</td>\n",
       "      <td>CNG(압축천연가스)</td>\n",
       "      <td>전라남도</td>\n",
       "      <td>해남군</td>\n",
       "      <td>1.0</td>\n",
       "    </tr>\n",
       "    <tr>\n",
       "      <th>2</th>\n",
       "      <td>20230822</td>\n",
       "      <td>2022.11</td>\n",
       "      <td>2022</td>\n",
       "      <td>11</td>\n",
       "      <td>CNG(압축천연가스)</td>\n",
       "      <td>전라남도</td>\n",
       "      <td>해남군</td>\n",
       "      <td>1.0</td>\n",
       "    </tr>\n",
       "    <tr>\n",
       "      <th>3</th>\n",
       "      <td>20230822</td>\n",
       "      <td>2022.12</td>\n",
       "      <td>2022</td>\n",
       "      <td>12</td>\n",
       "      <td>CNG(압축천연가스)</td>\n",
       "      <td>전라남도</td>\n",
       "      <td>해남군</td>\n",
       "      <td>1.0</td>\n",
       "    </tr>\n",
       "    <tr>\n",
       "      <th>4</th>\n",
       "      <td>20230822</td>\n",
       "      <td>2023.01</td>\n",
       "      <td>2023</td>\n",
       "      <td>1</td>\n",
       "      <td>CNG(압축천연가스)</td>\n",
       "      <td>전라남도</td>\n",
       "      <td>해남군</td>\n",
       "      <td>1.0</td>\n",
       "    </tr>\n",
       "  </tbody>\n",
       "</table>\n",
       "</div>"
      ],
      "text/plain": [
       "    LOAD_DT  CRTR_YM    YR  MM      FUEL_CD  CTPV  SGG  VHCL_MKCNT\n",
       "0  20230822  2022.09  2022   9  CNG(압축천연가스)  전라남도  해남군         1.0\n",
       "1  20230822  2022.10  2022  10  CNG(압축천연가스)  전라남도  해남군         1.0\n",
       "2  20230822  2022.11  2022  11  CNG(압축천연가스)  전라남도  해남군         1.0\n",
       "3  20230822  2022.12  2022  12  CNG(압축천연가스)  전라남도  해남군         1.0\n",
       "4  20230822  2023.01  2023   1  CNG(압축천연가스)  전라남도  해남군         1.0"
      ]
     },
     "execution_count": 7,
     "metadata": {},
     "output_type": "execute_result"
    }
   ],
   "source": [
    "STD_BD_GRD4_RGN_CURSTT.head()"
   ]
  },
  {
   "cell_type": "code",
   "execution_count": 8,
   "metadata": {},
   "outputs": [],
   "source": [
    "expdf = STD_BD_GRD4_RGN_CURSTT\n",
    "table_nm = 'STD_BD_GRD4_RGN_CURSTT'.upper()\n",
    "\n",
    "# 테이블 생성\n",
    "sql = 'create or replace table ' + table_nm + '( \\n'\n",
    "\n",
    "for idx,column in enumerate(expdf.columns):\n",
    "    # if 'float' in expdf[column].dtype.name:\n",
    "    #     sql += column + ' float'\n",
    "    # elif 'int' in expdf[column].dtype.name:\n",
    "    #     sql += column + ' number'\n",
    "    # else:\n",
    "    sql += column + ' varchar(255)'\n",
    "\n",
    "    if len(expdf.columns) - 1 != idx:\n",
    "        sql += ','\n",
    "    sql += '\\n'\n",
    "sql += ')'    \n",
    "we.execute(sql)\n",
    "\n",
    "# 데이터 추가\n",
    "# 5s\n",
    "we.import_from_pandas(expdf, table_nm)"
   ]
  },
  {
   "cell_type": "markdown",
   "metadata": {},
   "source": [
    "## [+] STD_BD_GRD5_RGN_CURSTT"
   ]
  },
  {
   "cell_type": "code",
   "execution_count": 12,
   "metadata": {},
   "outputs": [
    {
     "name": "stdout",
     "output_type": "stream",
     "text": [
      "<class 'pandas.core.frame.DataFrame'>\n",
      "RangeIndex: 7764 entries, 0 to 7763\n",
      "Data columns (total 8 columns):\n",
      " #   Column      Non-Null Count  Dtype  \n",
      "---  ------      --------------  -----  \n",
      " 0   LOAD_DT     7764 non-null   int64  \n",
      " 1   CRTR_YM     7764 non-null   float64\n",
      " 2   YR          7764 non-null   int64  \n",
      " 3   MM          7764 non-null   int64  \n",
      " 4   FUEL_CD     7764 non-null   object \n",
      " 5   CTPV        7764 non-null   object \n",
      " 6   SGG         7716 non-null   object \n",
      " 7   VHCL_MKCNT  7764 non-null   float64\n",
      "dtypes: float64(2), int64(3), object(3)\n",
      "memory usage: 485.4+ KB\n"
     ]
    }
   ],
   "source": [
    "STD_BD_GRD5_RGN_CURSTT = pd.read_csv(os.path.join(sys_fold, 'STD_BD_GRD5_RGN_CURSTT_202401241432.csv'), low_memory=False, sep='|')\n",
    "STD_BD_GRD5_RGN_CURSTT.info()"
   ]
  },
  {
   "cell_type": "code",
   "execution_count": 14,
   "metadata": {},
   "outputs": [
    {
     "data": {
      "text/html": [
       "<div>\n",
       "<style scoped>\n",
       "    .dataframe tbody tr th:only-of-type {\n",
       "        vertical-align: middle;\n",
       "    }\n",
       "\n",
       "    .dataframe tbody tr th {\n",
       "        vertical-align: top;\n",
       "    }\n",
       "\n",
       "    .dataframe thead th {\n",
       "        text-align: right;\n",
       "    }\n",
       "</style>\n",
       "<table border=\"1\" class=\"dataframe\">\n",
       "  <thead>\n",
       "    <tr style=\"text-align: right;\">\n",
       "      <th></th>\n",
       "      <th>LOAD_DT</th>\n",
       "      <th>CRTR_YM</th>\n",
       "      <th>YR</th>\n",
       "      <th>MM</th>\n",
       "      <th>FUEL_CD</th>\n",
       "      <th>CTPV</th>\n",
       "      <th>SGG</th>\n",
       "      <th>VHCL_MKCNT</th>\n",
       "    </tr>\n",
       "  </thead>\n",
       "  <tbody>\n",
       "    <tr>\n",
       "      <th>0</th>\n",
       "      <td>20240124</td>\n",
       "      <td>2023.01</td>\n",
       "      <td>2023</td>\n",
       "      <td>1</td>\n",
       "      <td>LPG(액화석유가스)</td>\n",
       "      <td>강원특별자치도</td>\n",
       "      <td>강릉시</td>\n",
       "      <td>1.0</td>\n",
       "    </tr>\n",
       "    <tr>\n",
       "      <th>1</th>\n",
       "      <td>20240124</td>\n",
       "      <td>2023.02</td>\n",
       "      <td>2023</td>\n",
       "      <td>2</td>\n",
       "      <td>LPG(액화석유가스)</td>\n",
       "      <td>강원특별자치도</td>\n",
       "      <td>강릉시</td>\n",
       "      <td>1.0</td>\n",
       "    </tr>\n",
       "    <tr>\n",
       "      <th>2</th>\n",
       "      <td>20240124</td>\n",
       "      <td>2023.03</td>\n",
       "      <td>2023</td>\n",
       "      <td>3</td>\n",
       "      <td>LPG(액화석유가스)</td>\n",
       "      <td>강원특별자치도</td>\n",
       "      <td>강릉시</td>\n",
       "      <td>1.0</td>\n",
       "    </tr>\n",
       "    <tr>\n",
       "      <th>3</th>\n",
       "      <td>20240124</td>\n",
       "      <td>2023.04</td>\n",
       "      <td>2023</td>\n",
       "      <td>4</td>\n",
       "      <td>LPG(액화석유가스)</td>\n",
       "      <td>강원특별자치도</td>\n",
       "      <td>강릉시</td>\n",
       "      <td>1.0</td>\n",
       "    </tr>\n",
       "    <tr>\n",
       "      <th>4</th>\n",
       "      <td>20240124</td>\n",
       "      <td>2023.05</td>\n",
       "      <td>2023</td>\n",
       "      <td>5</td>\n",
       "      <td>LPG(액화석유가스)</td>\n",
       "      <td>강원특별자치도</td>\n",
       "      <td>강릉시</td>\n",
       "      <td>1.0</td>\n",
       "    </tr>\n",
       "  </tbody>\n",
       "</table>\n",
       "</div>"
      ],
      "text/plain": [
       "    LOAD_DT  CRTR_YM    YR  MM      FUEL_CD     CTPV  SGG  VHCL_MKCNT\n",
       "0  20240124  2023.01  2023   1  LPG(액화석유가스)  강원특별자치도  강릉시         1.0\n",
       "1  20240124  2023.02  2023   2  LPG(액화석유가스)  강원특별자치도  강릉시         1.0\n",
       "2  20240124  2023.03  2023   3  LPG(액화석유가스)  강원특별자치도  강릉시         1.0\n",
       "3  20240124  2023.04  2023   4  LPG(액화석유가스)  강원특별자치도  강릉시         1.0\n",
       "4  20240124  2023.05  2023   5  LPG(액화석유가스)  강원특별자치도  강릉시         1.0"
      ]
     },
     "execution_count": 14,
     "metadata": {},
     "output_type": "execute_result"
    }
   ],
   "source": [
    "STD_BD_GRD5_RGN_CURSTT.head()"
   ]
  },
  {
   "cell_type": "code",
   "execution_count": 15,
   "metadata": {},
   "outputs": [],
   "source": [
    "expdf = STD_BD_GRD5_RGN_CURSTT\n",
    "table_nm = 'STD_BD_GRD5_RGN_CURSTT'.upper()\n",
    "\n",
    "# 테이블 생성\n",
    "sql = 'create or replace table ' + table_nm + '( \\n'\n",
    "\n",
    "for idx,column in enumerate(expdf.columns):\n",
    "    # if 'float' in expdf[column].dtype.name:\n",
    "    #     sql += column + ' float'\n",
    "    # elif 'int' in expdf[column].dtype.name:\n",
    "    #     sql += column + ' number'\n",
    "    # else:\n",
    "    sql += column + ' varchar(255)'\n",
    "\n",
    "    if len(expdf.columns) - 1 != idx:\n",
    "        sql += ','\n",
    "    sql += '\\n'\n",
    "sql += ')'    \n",
    "we.execute(sql)\n",
    "\n",
    "# 데이터 추가\n",
    "# 5s\n",
    "we.import_from_pandas(expdf, table_nm)"
   ]
  },
  {
   "cell_type": "markdown",
   "metadata": {},
   "source": [
    "## STD_BD_GRD4_RGN_CURSTT_MOD"
   ]
  },
  {
   "cell_type": "code",
   "execution_count": 29,
   "metadata": {},
   "outputs": [
    {
     "name": "stdout",
     "output_type": "stream",
     "text": [
      "<class 'pandas.core.frame.DataFrame'>\n",
      "RangeIndex: 272 entries, 0 to 271\n",
      "Data columns (total 6 columns):\n",
      " #   Column      Non-Null Count  Dtype  \n",
      "---  ------      --------------  -----  \n",
      " 0   IDX         272 non-null    int64  \n",
      " 1   LOAD_DT     272 non-null    int64  \n",
      " 2   CRTR_Y      272 non-null    int64  \n",
      " 3   CTPV        272 non-null    object \n",
      " 4   VHCTY_CD    272 non-null    object \n",
      " 5   VHCL_MKCNT  272 non-null    float64\n",
      "dtypes: float64(1), int64(3), object(2)\n",
      "memory usage: 12.9+ KB\n"
     ]
    }
   ],
   "source": [
    "STD_BD_GRD4_RGN_CURSTT_MOD = pd.read_csv(os.path.join(sys_fold, 'STD_BD_GRD4_RGN_CURSTT_MOD.csv'))\n",
    "STD_BD_GRD4_RGN_CURSTT_MOD.info()"
   ]
  },
  {
   "cell_type": "code",
   "execution_count": 30,
   "metadata": {},
   "outputs": [],
   "source": [
    "expdf = STD_BD_GRD4_RGN_CURSTT_MOD\n",
    "table_nm = 'STD_BD_GRD4_RGN_CURSTT_MOD'.upper()\n",
    "\n",
    "# 테이블 생성\n",
    "sql = 'create or replace table ' + table_nm + '( \\n'\n",
    "\n",
    "for idx,column in enumerate(expdf.columns):\n",
    "    # if 'float' in expdf[column].dtype.name:\n",
    "    #     sql += column + ' float'\n",
    "    # elif 'int' in expdf[column].dtype.name:\n",
    "    #     sql += column + ' number'\n",
    "    # else:\n",
    "    sql += column + ' varchar(255)'\n",
    "\n",
    "    if len(expdf.columns) - 1 != idx:\n",
    "        sql += ','\n",
    "    sql += '\\n'\n",
    "sql += ')'    \n",
    "we.execute(sql)\n",
    "\n",
    "# 데이터 추가\n",
    "# 5s\n",
    "we.import_from_pandas(expdf, table_nm)"
   ]
  },
  {
   "cell_type": "markdown",
   "metadata": {},
   "source": [
    "## [+] STD_BD_GRD5_RGN_CURSTT_MOD"
   ]
  },
  {
   "cell_type": "code",
   "execution_count": 16,
   "metadata": {},
   "outputs": [
    {
     "name": "stdout",
     "output_type": "stream",
     "text": [
      "<class 'pandas.core.frame.DataFrame'>\n",
      "RangeIndex: 204 entries, 0 to 203\n",
      "Data columns (total 5 columns):\n",
      " #   Column      Non-Null Count  Dtype  \n",
      "---  ------      --------------  -----  \n",
      " 0   LOAD_DT     204 non-null    int64  \n",
      " 1   CRTR_Y      204 non-null    int64  \n",
      " 2   CTPV        204 non-null    object \n",
      " 3   VHCTY_CD    204 non-null    object \n",
      " 4   VHCL_MKCNT  204 non-null    float64\n",
      "dtypes: float64(1), int64(2), object(2)\n",
      "memory usage: 8.1+ KB\n"
     ]
    }
   ],
   "source": [
    "STD_BD_GRD5_RGN_CURSTT_MOD = pd.read_csv(os.path.join(sys_fold, 'STD_BD_GRD5_RGN_CURSTT_MOD_202401241432.csv'), low_memory=False, sep='|')\n",
    "STD_BD_GRD5_RGN_CURSTT_MOD.info()"
   ]
  },
  {
   "cell_type": "code",
   "execution_count": 17,
   "metadata": {},
   "outputs": [],
   "source": [
    "expdf = STD_BD_GRD5_RGN_CURSTT_MOD\n",
    "table_nm = 'STD_BD_GRD5_RGN_CURSTT_MOD'.upper()\n",
    "\n",
    "# 테이블 생성\n",
    "sql = 'create or replace table ' + table_nm + '( \\n'\n",
    "\n",
    "for idx,column in enumerate(expdf.columns):\n",
    "    # if 'float' in expdf[column].dtype.name:\n",
    "    #     sql += column + ' float'\n",
    "    # elif 'int' in expdf[column].dtype.name:\n",
    "    #     sql += column + ' number'\n",
    "    # else:\n",
    "    sql += column + ' varchar(255)'\n",
    "\n",
    "    if len(expdf.columns) - 1 != idx:\n",
    "        sql += ','\n",
    "    sql += '\\n'\n",
    "sql += ')'    \n",
    "we.execute(sql)\n",
    "\n",
    "# 데이터 추가\n",
    "# 5s\n",
    "we.import_from_pandas(expdf, table_nm)"
   ]
  },
  {
   "cell_type": "markdown",
   "metadata": {},
   "source": [
    "## STD_BD_DAT_GRD4_CAR_CURSTT"
   ]
  },
  {
   "cell_type": "code",
   "execution_count": 31,
   "metadata": {},
   "outputs": [
    {
     "name": "stdout",
     "output_type": "stream",
     "text": [
      "<class 'pandas.core.frame.DataFrame'>\n",
      "RangeIndex: 266112 entries, 0 to 266111\n",
      "Data columns (total 15 columns):\n",
      " #   Column               Non-Null Count   Dtype  \n",
      "---  ------               --------------   -----  \n",
      " 0   IDX                  266112 non-null  int64  \n",
      " 1   YR                   266112 non-null  int64  \n",
      " 2   MM                   266112 non-null  int64  \n",
      " 3   CTPV                 266112 non-null  object \n",
      " 4   SGG                  266112 non-null  object \n",
      " 5   FUEL_CD              266112 non-null  object \n",
      " 6   VHCTY_CD             266112 non-null  object \n",
      " 7   VHCTY_TY             266112 non-null  object \n",
      " 8   PURPS_CD2            266112 non-null  object \n",
      " 9   VHCL_MKCNT           266112 non-null  float64\n",
      " 10  DEC_RT               266112 non-null  float64\n",
      " 11  RDCDVC_EXTRNS_MKCNT  266112 non-null  float64\n",
      " 12  RDCDVC_UNAT_MKCNT    266112 non-null  float64\n",
      " 13  ELPDSRC_MKCNT        266112 non-null  float64\n",
      " 14  LOAD_DT              266112 non-null  int64  \n",
      "dtypes: float64(5), int64(4), object(6)\n",
      "memory usage: 30.5+ MB\n"
     ]
    }
   ],
   "source": [
    "# 1s\n",
    "STD_BD_DAT_GRD4_CAR_CURSTT = pd.read_csv(os.path.join(sys_fold, 'STD_BD_DAT_GRD4_CAR_CURSTT.csv'))\n",
    "STD_BD_DAT_GRD4_CAR_CURSTT.info()"
   ]
  },
  {
   "cell_type": "code",
   "execution_count": 32,
   "metadata": {},
   "outputs": [],
   "source": [
    "expdf = STD_BD_DAT_GRD4_CAR_CURSTT\n",
    "table_nm = 'STD_BD_DAT_GRD4_CAR_CURSTT'.upper()\n",
    "\n",
    "# 테이블 생성\n",
    "sql = 'create or replace table ' + table_nm + '( \\n'\n",
    "\n",
    "for idx,column in enumerate(expdf.columns):\n",
    "    # if 'float' in expdf[column].dtype.name:\n",
    "    #     sql += column + ' float'\n",
    "    # elif 'int' in expdf[column].dtype.name:\n",
    "    #     sql += column + ' number'\n",
    "    # else:\n",
    "    sql += column + ' varchar(255)'\n",
    "\n",
    "    if len(expdf.columns) - 1 != idx:\n",
    "        sql += ','\n",
    "    sql += '\\n'\n",
    "sql += ')'    \n",
    "we.execute(sql)\n",
    "\n",
    "# 데이터 추가\n",
    "# 2s\n",
    "we.import_from_pandas(expdf, table_nm)"
   ]
  },
  {
   "cell_type": "markdown",
   "metadata": {},
   "source": [
    "## STD_BD_GRD4_EXHST_GAS_MSS_TOT"
   ]
  },
  {
   "cell_type": "code",
   "execution_count": 33,
   "metadata": {},
   "outputs": [
    {
     "name": "stdout",
     "output_type": "stream",
     "text": [
      "<class 'pandas.core.frame.DataFrame'>\n",
      "RangeIndex: 231 entries, 0 to 230\n",
      "Data columns (total 11 columns):\n",
      " #   Column           Non-Null Count  Dtype  \n",
      "---  ------           --------------  -----  \n",
      " 0   IDX              231 non-null    int64  \n",
      " 1   YR               231 non-null    int64  \n",
      " 2   CTPV             231 non-null    object \n",
      " 3   SGG              231 non-null    object \n",
      " 4   CO_EXHST_MSS     231 non-null    float64\n",
      " 5   HC_EXHST_MSS     231 non-null    float64\n",
      " 6   NOX_EXHST_MSS    231 non-null    float64\n",
      " 7   PM10_EXHST_MSS   231 non-null    float64\n",
      " 8   PM2_5_EXHST_MSS  231 non-null    float64\n",
      " 9   LOAD_DT          231 non-null    int64  \n",
      " 10  CRTR_YM          231 non-null    float64\n",
      "dtypes: float64(6), int64(3), object(2)\n",
      "memory usage: 20.0+ KB\n"
     ]
    }
   ],
   "source": [
    "STD_BD_GRD4_EXHST_GAS_MSS_TOT = pd.read_csv(os.path.join(sys_fold, 'STD_BD_GRD4_EXHST_GAS_MSS_TOT.csv'))\n",
    "STD_BD_GRD4_EXHST_GAS_MSS_TOT.info()"
   ]
  },
  {
   "cell_type": "code",
   "execution_count": 34,
   "metadata": {},
   "outputs": [],
   "source": [
    "expdf = STD_BD_GRD4_EXHST_GAS_MSS_TOT\n",
    "table_nm = 'STD_BD_GRD4_EXHST_GAS_MSS_TOT'.upper()\n",
    "\n",
    "# 테이블 생성\n",
    "sql = 'create or replace table ' + table_nm + '( \\n'\n",
    "\n",
    "for idx,column in enumerate(expdf.columns):\n",
    "    # if 'float' in expdf[column].dtype.name:\n",
    "    #     sql += column + ' float'\n",
    "    # elif 'int' in expdf[column].dtype.name:\n",
    "    #     sql += column + ' number'\n",
    "    # else:\n",
    "    sql += column + ' varchar(255)'\n",
    "\n",
    "    if len(expdf.columns) - 1 != idx:\n",
    "        sql += ','\n",
    "    sql += '\\n'\n",
    "sql += ')'    \n",
    "we.execute(sql)\n",
    "\n",
    "# 데이터 추가\n",
    "# 7s\n",
    "we.import_from_pandas(expdf, table_nm)"
   ]
  },
  {
   "cell_type": "markdown",
   "metadata": {},
   "source": [
    "## STD_BD_GRD4_EXHST_GAS_MSS"
   ]
  },
  {
   "cell_type": "code",
   "execution_count": 35,
   "metadata": {},
   "outputs": [
    {
     "name": "stderr",
     "output_type": "stream",
     "text": [
      "C:\\Users\\kbjung\\AppData\\Local\\Temp\\ipykernel_20100\\2736260677.py:1: DtypeWarning: Columns (5,30) have mixed types. Specify dtype option on import or set low_memory=False.\n",
      "  STD_BD_GRD4_EXHST_GAS_MSS = pd.read_csv(os.path.join(sys_fold, 'STD_BD_GRD4_EXHST_GAS_MSS.csv'))\n"
     ]
    },
    {
     "name": "stdout",
     "output_type": "stream",
     "text": [
      "<class 'pandas.core.frame.DataFrame'>\n",
      "RangeIndex: 1390161 entries, 0 to 1390160\n",
      "Data columns (total 37 columns):\n",
      " #   Column                  Non-Null Count    Dtype  \n",
      "---  ------                  --------------    -----  \n",
      " 0   IDX                     1390161 non-null  int64  \n",
      " 1   LOAD_DT                 1390161 non-null  int64  \n",
      " 2   CRTR_YM                 1390161 non-null  float64\n",
      " 3   VIN                     1390161 non-null  object \n",
      " 4   VHRNO                   1390161 non-null  object \n",
      " 5   MANG_MNG_NO             1390161 non-null  object \n",
      " 6   VHCTY_CD                1390159 non-null  object \n",
      " 7   PURPS_CD2               1390161 non-null  object \n",
      " 8   FRST_REG_YMD            1390159 non-null  object \n",
      " 9   YRIDNW                  1390161 non-null  int64  \n",
      " 10  FBCTN_YMD               1226003 non-null  float64\n",
      " 11  EXHST_GAS_INSP_VLD_YMD  1390156 non-null  float64\n",
      " 12  VHCNM                   1390161 non-null  object \n",
      " 13  VHCTY_CL_CD             1390161 non-null  object \n",
      " 14  VHCTY_TY                1390161 non-null  object \n",
      " 15  CAR_FRM                 1389690 non-null  object \n",
      " 16  MNFCTR_NM               1380619 non-null  object \n",
      " 17  FUEL_CD                 1390161 non-null  object \n",
      " 18  EGIN_TY                 1388218 non-null  object \n",
      " 19  TOTL_WGHT               1390146 non-null  float64\n",
      " 20  CRYNG_WGHT              1389637 non-null  float64\n",
      " 21  EGIN_OTPT               1389604 non-null  float64\n",
      " 22  DSPLVL                  1390157 non-null  float64\n",
      " 23  STDG_CD                 1390161 non-null  int64  \n",
      " 24  CTPV_NM                 1390161 non-null  object \n",
      " 25  SGG_NM                  1382707 non-null  object \n",
      " 26  OWNR_SE                 1390161 non-null  object \n",
      " 27  ERSR_YN                 1390161 non-null  object \n",
      " 28  EXHST_GAS_CERT_NO       1271940 non-null  object \n",
      " 29  EXHST_GAS_GRD_CD        1390161 non-null  int64  \n",
      " 30  DPF_YN                  1052613 non-null  object \n",
      " 31  CO_EXHST_MSS            1390161 non-null  float64\n",
      " 32  HC_EXHST_MSS            1390161 non-null  float64\n",
      " 33  NOX_EXHST_MSS           1390161 non-null  float64\n",
      " 34  PM10_EXHST_MSS          1390161 non-null  float64\n",
      " 35  PM2_5_EXHST_MSS         1390161 non-null  float64\n",
      " 36  STDG_CD_MOD             1390161 non-null  int64  \n",
      "dtypes: float64(12), int64(6), object(19)\n",
      "memory usage: 392.4+ MB\n"
     ]
    }
   ],
   "source": [
    "STD_BD_GRD4_EXHST_GAS_MSS = pd.read_csv(os.path.join(sys_fold, 'STD_BD_GRD4_EXHST_GAS_MSS.csv'))\n",
    "STD_BD_GRD4_EXHST_GAS_MSS.info()"
   ]
  },
  {
   "cell_type": "code",
   "execution_count": 36,
   "metadata": {},
   "outputs": [],
   "source": [
    "expdf = STD_BD_GRD4_EXHST_GAS_MSS\n",
    "table_nm = 'STD_BD_GRD4_EXHST_GAS_MSS'.upper()\n",
    "\n",
    "# 테이블 생성\n",
    "sql = 'create or replace table ' + table_nm + '( \\n'\n",
    "\n",
    "for idx,column in enumerate(expdf.columns):\n",
    "    # if 'float' in expdf[column].dtype.name:\n",
    "    #     sql += column + ' float'\n",
    "    # elif 'int' in expdf[column].dtype.name:\n",
    "    #     sql += column + ' number'\n",
    "    # else:\n",
    "    sql += column + ' varchar(255)'\n",
    "\n",
    "    if len(expdf.columns) - 1 != idx:\n",
    "        sql += ','\n",
    "    sql += '\\n'\n",
    "sql += ')'    \n",
    "we.execute(sql)\n",
    "\n",
    "# 데이터 추가\n",
    "# 30.7s\n",
    "we.import_from_pandas(expdf, table_nm)"
   ]
  },
  {
   "cell_type": "markdown",
   "metadata": {},
   "source": [
    "## STD_BD_DAT_GRD4_EXHST_MSS_CURSTT"
   ]
  },
  {
   "cell_type": "code",
   "execution_count": 37,
   "metadata": {},
   "outputs": [
    {
     "name": "stdout",
     "output_type": "stream",
     "text": [
      "<class 'pandas.core.frame.DataFrame'>\n",
      "RangeIndex: 8273 entries, 0 to 8272\n",
      "Data columns (total 14 columns):\n",
      " #   Column              Non-Null Count  Dtype  \n",
      "---  ------              --------------  -----  \n",
      " 0   IDX                 8273 non-null   int64  \n",
      " 1   YR                  8273 non-null   int64  \n",
      " 2   CTPV                8273 non-null   object \n",
      " 3   SGG                 8273 non-null   object \n",
      " 4   FUEL_CD             8273 non-null   object \n",
      " 5   VHCTY_CD            8273 non-null   object \n",
      " 6   VHCTY_TY            8273 non-null   object \n",
      " 7   PURPS_CD2           8273 non-null   object \n",
      " 8   CO_EXHST_MSS_SM     8273 non-null   float64\n",
      " 9   HC_EXHST_MSS_SM     8273 non-null   float64\n",
      " 10  NOX_EXHST_MSS_SM    8273 non-null   float64\n",
      " 11  PM10_EXHST_MSS_SM   8273 non-null   float64\n",
      " 12  PM2_5_EXHST_MSS_SM  8273 non-null   float64\n",
      " 13  LOAD_DT             8273 non-null   int64  \n",
      "dtypes: float64(5), int64(3), object(6)\n",
      "memory usage: 905.0+ KB\n"
     ]
    }
   ],
   "source": [
    "# 0s\n",
    "STD_BD_DAT_GRD4_EXHST_MSS_CURSTT = pd.read_csv(os.path.join(sys_fold, 'STD_BD_DAT_GRD4_EXHST_MSS_CURSTT.csv'))\n",
    "STD_BD_DAT_GRD4_EXHST_MSS_CURSTT.info()"
   ]
  },
  {
   "cell_type": "code",
   "execution_count": 38,
   "metadata": {},
   "outputs": [],
   "source": [
    "expdf = STD_BD_DAT_GRD4_EXHST_MSS_CURSTT\n",
    "table_nm = 'STD_BD_DAT_GRD4_EXHST_MSS_CURSTT'.upper()\n",
    "\n",
    "# 테이블 생성\n",
    "sql = 'create or replace table ' + table_nm + '( \\n'\n",
    "\n",
    "for idx,column in enumerate(expdf.columns):\n",
    "    if 'float' in expdf[column].dtype.name:\n",
    "        sql += column + ' float'\n",
    "    elif 'int' in expdf[column].dtype.name:\n",
    "        sql += column + ' number'\n",
    "    else:\n",
    "        sql += column + ' varchar(255)'\n",
    "\n",
    "    if len(expdf.columns) - 1 != idx:\n",
    "        sql += ','\n",
    "    sql += '\\n'\n",
    "sql += ')'    \n",
    "we.execute(sql)\n",
    "\n",
    "# 데이터 추가\n",
    "# 1s\n",
    "we.import_from_pandas(expdf, table_nm)"
   ]
  },
  {
   "cell_type": "code",
   "execution_count": 39,
   "metadata": {},
   "outputs": [
    {
     "data": {
      "text/plain": [
       "'create or replace table STD_BD_DAT_GRD4_EXHST_MSS_CURSTT( \\nIDX number,\\nYR number,\\nCTPV varchar(255),\\nSGG varchar(255),\\nFUEL_CD varchar(255),\\nVHCTY_CD varchar(255),\\nVHCTY_TY varchar(255),\\nPURPS_CD2 varchar(255),\\nCO_EXHST_MSS_SM float,\\nHC_EXHST_MSS_SM float,\\nNOX_EXHST_MSS_SM float,\\nPM10_EXHST_MSS_SM float,\\nPM2_5_EXHST_MSS_SM float,\\nLOAD_DT number\\n)'"
      ]
     },
     "execution_count": 39,
     "metadata": {},
     "output_type": "execute_result"
    }
   ],
   "source": [
    "sql"
   ]
  },
  {
   "cell_type": "markdown",
   "metadata": {},
   "source": [
    "## STD_BD_DAT_GRD4_MEVLU"
   ]
  },
  {
   "cell_type": "code",
   "execution_count": 40,
   "metadata": {},
   "outputs": [
    {
     "name": "stdout",
     "output_type": "stream",
     "text": [
      "<class 'pandas.core.frame.DataFrame'>\n",
      "RangeIndex: 8273 entries, 0 to 8272\n",
      "Data columns (total 14 columns):\n",
      " #   Column                Non-Null Count  Dtype  \n",
      "---  ------                --------------  -----  \n",
      " 0   IDX                   8273 non-null   int64  \n",
      " 1   YR                    8273 non-null   int64  \n",
      " 2   CTPV                  8273 non-null   object \n",
      " 3   SGG                   8273 non-null   object \n",
      " 4   FUEL_CD               8273 non-null   object \n",
      " 5   VHCTY_CD              8273 non-null   object \n",
      " 6   VHCTY_TY              8273 non-null   object \n",
      " 7   PURPS_CD2             8273 non-null   object \n",
      " 8   CO_EXHST_MSS_AVRG     8273 non-null   float64\n",
      " 9   HC_EXHST_MSS_AVRG     8273 non-null   float64\n",
      " 10  NOX_EXHST_MSS_AVRG    8273 non-null   float64\n",
      " 11  PM10_EXHST_MSS_AVRG   8273 non-null   float64\n",
      " 12  PM2_5_EXHST_MSS_AVRG  8273 non-null   float64\n",
      " 13  LOAD_DT               8273 non-null   int64  \n",
      "dtypes: float64(5), int64(3), object(6)\n",
      "memory usage: 905.0+ KB\n"
     ]
    }
   ],
   "source": [
    "# 0s\n",
    "STD_BD_DAT_GRD4_MEVLU = pd.read_csv(os.path.join(sys_fold, 'STD_BD_DAT_GRD4_MEVLU.csv'))\n",
    "STD_BD_DAT_GRD4_MEVLU.info()"
   ]
  },
  {
   "cell_type": "code",
   "execution_count": 41,
   "metadata": {},
   "outputs": [],
   "source": [
    "expdf = STD_BD_DAT_GRD4_MEVLU\n",
    "table_nm = 'STD_BD_DAT_GRD4_MEVLU'.upper()\n",
    "\n",
    "# 테이블 생성\n",
    "sql = 'create or replace table ' + table_nm + '( \\n'\n",
    "\n",
    "for idx,column in enumerate(expdf.columns):\n",
    "    # if 'float' in expdf[column].dtype.name:\n",
    "    #     sql += column + ' float'\n",
    "    # elif 'int' in expdf[column].dtype.name:\n",
    "    #     sql += column + ' number'\n",
    "    # else:\n",
    "    sql += column + ' varchar(255)'\n",
    "\n",
    "    if len(expdf.columns) - 1 != idx:\n",
    "        sql += ','\n",
    "    sql += '\\n'\n",
    "sql += ')'    \n",
    "we.execute(sql)\n",
    "\n",
    "# 데이터 추가\n",
    "# 1s\n",
    "we.import_from_pandas(expdf, table_nm)"
   ]
  },
  {
   "cell_type": "markdown",
   "metadata": {},
   "source": [
    "# BD3"
   ]
  },
  {
   "cell_type": "markdown",
   "metadata": {},
   "source": [
    "## STD_BD_CAR_CURSTT_MOD"
   ]
  },
  {
   "cell_type": "code",
   "execution_count": 6,
   "metadata": {},
   "outputs": [
    {
     "name": "stdout",
     "output_type": "stream",
     "text": [
      "<class 'pandas.core.frame.DataFrame'>\n",
      "RangeIndex: 4488 entries, 0 to 4487\n",
      "Data columns (total 7 columns):\n",
      " #   Column            Non-Null Count  Dtype \n",
      "---  ------            --------------  ----- \n",
      " 0   CRTR_YM           4488 non-null   int64 \n",
      " 1   YR                4488 non-null   int64 \n",
      " 2   RGN               4488 non-null   object\n",
      " 3   CTPV_NM           4488 non-null   object\n",
      " 4   EXHST_GAS_GRD_CD  4488 non-null   object\n",
      " 5   VHCL_MKCNT        4488 non-null   int64 \n",
      " 6   LOAD_DT           4488 non-null   int64 \n",
      "dtypes: int64(4), object(3)\n",
      "memory usage: 245.6+ KB\n"
     ]
    }
   ],
   "source": [
    "STD_BD_CAR_CURSTT_MOD = pd.read_csv(os.path.join(sys_fold, 'STD_BD_CAR_CURSTT_MOD.csv'))\n",
    "STD_BD_CAR_CURSTT_MOD.info()"
   ]
  },
  {
   "cell_type": "code",
   "execution_count": 7,
   "metadata": {},
   "outputs": [
    {
     "data": {
      "text/plain": [
       "array(['1', '2', '3', '4', '5', '미분류'], dtype=object)"
      ]
     },
     "execution_count": 7,
     "metadata": {},
     "output_type": "execute_result"
    }
   ],
   "source": [
    "STD_BD_CAR_CURSTT_MOD.EXHST_GAS_GRD_CD.unique()"
   ]
  },
  {
   "cell_type": "code",
   "execution_count": 8,
   "metadata": {},
   "outputs": [],
   "source": [
    "expdf = STD_BD_CAR_CURSTT_MOD\n",
    "table_nm = 'STD_BD_CAR_CURSTT_MOD'.upper()\n",
    "\n",
    "# 테이블 생성\n",
    "sql = 'create or replace table ' + table_nm + '( \\n'\n",
    "\n",
    "for idx,column in enumerate(expdf.columns):\n",
    "    # if 'float' in expdf[column].dtype.name:\n",
    "    #     sql += column + ' float'\n",
    "    # elif 'int' in expdf[column].dtype.name:\n",
    "    #     sql += column + ' number'\n",
    "    # else:\n",
    "    sql += column + ' varchar(255)'\n",
    "\n",
    "    if len(expdf.columns) - 1 != idx:\n",
    "        sql += ','\n",
    "    sql += '\\n'\n",
    "sql += ')'    \n",
    "we.execute(sql)\n",
    "\n",
    "# 데이터 추가\n",
    "# 1s\n",
    "we.import_from_pandas(expdf, table_nm)"
   ]
  },
  {
   "cell_type": "markdown",
   "metadata": {},
   "source": [
    "## STD_BD_CAR_CURSTT_MOD2"
   ]
  },
  {
   "cell_type": "code",
   "execution_count": 9,
   "metadata": {},
   "outputs": [
    {
     "name": "stdout",
     "output_type": "stream",
     "text": [
      "<class 'pandas.core.frame.DataFrame'>\n",
      "RangeIndex: 748 entries, 0 to 747\n",
      "Data columns (total 6 columns):\n",
      " #   Column            Non-Null Count  Dtype \n",
      "---  ------            --------------  ----- \n",
      " 0   CRTR_YM           748 non-null    int64 \n",
      " 1   YR                748 non-null    int64 \n",
      " 2   FUEL_CD           748 non-null    object\n",
      " 3   EXHST_GAS_GRD_CD  748 non-null    int64 \n",
      " 4   VHCL_MKCNT        748 non-null    int64 \n",
      " 5   LOAD_DT           748 non-null    int64 \n",
      "dtypes: int64(5), object(1)\n",
      "memory usage: 35.2+ KB\n"
     ]
    }
   ],
   "source": [
    "STD_BD_CAR_CURSTT_MOD2 = pd.read_csv(os.path.join(sys_fold, 'STD_BD_CAR_CURSTT_MOD2.csv'))\n",
    "STD_BD_CAR_CURSTT_MOD2.info()"
   ]
  },
  {
   "cell_type": "code",
   "execution_count": 10,
   "metadata": {},
   "outputs": [],
   "source": [
    "expdf = STD_BD_CAR_CURSTT_MOD2\n",
    "table_nm = 'STD_BD_CAR_CURSTT_MOD2'.upper()\n",
    "\n",
    "# 테이블 생성\n",
    "sql = 'create or replace table ' + table_nm + '( \\n'\n",
    "\n",
    "for idx,column in enumerate(expdf.columns):\n",
    "    # if 'float' in expdf[column].dtype.name:\n",
    "    #     sql += column + ' float'\n",
    "    # elif 'int' in expdf[column].dtype.name:\n",
    "    #     sql += column + ' number'\n",
    "    # else:\n",
    "    sql += column + ' varchar(255)'\n",
    "\n",
    "    if len(expdf.columns) - 1 != idx:\n",
    "        sql += ','\n",
    "    sql += '\\n'\n",
    "sql += ')'    \n",
    "we.execute(sql)\n",
    "\n",
    "# 데이터 추가\n",
    "# 1s\n",
    "we.import_from_pandas(expdf, table_nm)"
   ]
  },
  {
   "cell_type": "markdown",
   "metadata": {},
   "source": [
    "## STD_BD_CAR_CURSTT"
   ]
  },
  {
   "cell_type": "code",
   "execution_count": 8,
   "metadata": {},
   "outputs": [
    {
     "name": "stderr",
     "output_type": "stream",
     "text": [
      "C:\\Users\\kbjung\\AppData\\Local\\Temp\\ipykernel_4220\\459260850.py:1: DtypeWarning: Columns (8) have mixed types. Specify dtype option on import or set low_memory=False.\n",
      "  STD_BD_CAR_CURSTT = pd.read_csv(os.path.join(sys_fold, 'STD_BD_CAR_CURSTT.csv'))\n"
     ]
    },
    {
     "name": "stdout",
     "output_type": "stream",
     "text": [
      "<class 'pandas.core.frame.DataFrame'>\n",
      "RangeIndex: 25615830 entries, 0 to 25615829\n",
      "Data columns (total 13 columns):\n",
      " #   Column             Dtype \n",
      "---  ------             ----- \n",
      " 0   IDX                int64 \n",
      " 1   LOAD_DT            int64 \n",
      " 2   BSPL_STDG_CD       int64 \n",
      " 3   VHCTY_CD           object\n",
      " 4   PURPS_CD2          object\n",
      " 5   VIN                object\n",
      " 6   MANG_MNG_NO        object\n",
      " 7   EXHST_GAS_CERT_NO  object\n",
      " 8   EXHST_GAS_GRD_CD   object\n",
      " 9   VHCL_ERSR_YN       object\n",
      " 10  FUEL_CD            object\n",
      " 11  CTPV               object\n",
      " 12  SGG                object\n",
      "dtypes: int64(3), object(10)\n",
      "memory usage: 2.5+ GB\n"
     ]
    }
   ],
   "source": [
    "STD_BD_CAR_CURSTT = pd.read_csv(os.path.join(sys_fold, 'STD_BD_CAR_CURSTT.csv'))\n",
    "STD_BD_CAR_CURSTT.info()"
   ]
  },
  {
   "cell_type": "code",
   "execution_count": 9,
   "metadata": {},
   "outputs": [
    {
     "data": {
      "text/plain": [
       "array(['X', '1', '2', '3', '5', '4', 2, 3, 1, 4, 5], dtype=object)"
      ]
     },
     "execution_count": 9,
     "metadata": {},
     "output_type": "execute_result"
    }
   ],
   "source": [
    "STD_BD_CAR_CURSTT['EXHST_GAS_GRD_CD'].unique()"
   ]
  },
  {
   "cell_type": "code",
   "execution_count": 10,
   "metadata": {},
   "outputs": [],
   "source": [
    "STD_BD_CAR_CURSTT.loc[STD_BD_CAR_CURSTT['EXHST_GAS_GRD_CD'] == 1, 'EXHST_GAS_GRD_CD'] = '1'\n",
    "STD_BD_CAR_CURSTT.loc[STD_BD_CAR_CURSTT['EXHST_GAS_GRD_CD'] == 2, 'EXHST_GAS_GRD_CD'] = '2'\n",
    "STD_BD_CAR_CURSTT.loc[STD_BD_CAR_CURSTT['EXHST_GAS_GRD_CD'] == 3, 'EXHST_GAS_GRD_CD'] = '3'\n",
    "STD_BD_CAR_CURSTT.loc[STD_BD_CAR_CURSTT['EXHST_GAS_GRD_CD'] == 4, 'EXHST_GAS_GRD_CD'] = '4'\n",
    "STD_BD_CAR_CURSTT.loc[STD_BD_CAR_CURSTT['EXHST_GAS_GRD_CD'] == 5, 'EXHST_GAS_GRD_CD'] = '5'"
   ]
  },
  {
   "cell_type": "code",
   "execution_count": 11,
   "metadata": {},
   "outputs": [
    {
     "data": {
      "text/plain": [
       "array(['X', '1', '2', '3', '5', '4'], dtype=object)"
      ]
     },
     "execution_count": 11,
     "metadata": {},
     "output_type": "execute_result"
    }
   ],
   "source": [
    "STD_BD_CAR_CURSTT['EXHST_GAS_GRD_CD'].unique()"
   ]
  },
  {
   "cell_type": "code",
   "execution_count": 12,
   "metadata": {},
   "outputs": [],
   "source": [
    "expdf = STD_BD_CAR_CURSTT\n",
    "table_nm = 'STD_BD_CAR_CURSTT'.upper()\n",
    "\n",
    "# 테이블 생성\n",
    "sql = 'create or replace table ' + table_nm + '( \\n'\n",
    "\n",
    "for idx,column in enumerate(expdf.columns):\n",
    "    # if 'float' in expdf[column].dtype.name:\n",
    "    #     sql += column + ' float'\n",
    "    # elif 'int' in expdf[column].dtype.name:\n",
    "    #     sql += column + ' number'\n",
    "    # else:\n",
    "    sql += column + ' varchar(255)'\n",
    "\n",
    "    if len(expdf.columns) - 1 != idx:\n",
    "        sql += ','\n",
    "    sql += '\\n'\n",
    "sql += ')'    \n",
    "we.execute(sql)\n",
    "\n",
    "# 데이터 추가\n",
    "# 1s\n",
    "we.import_from_pandas(expdf, table_nm)"
   ]
  },
  {
   "cell_type": "markdown",
   "metadata": {},
   "source": [
    "## STD_BD_CAR_REG_MKCNT"
   ]
  },
  {
   "cell_type": "code",
   "execution_count": 48,
   "metadata": {},
   "outputs": [
    {
     "name": "stdout",
     "output_type": "stream",
     "text": [
      "<class 'pandas.core.frame.DataFrame'>\n",
      "RangeIndex: 340 entries, 0 to 339\n",
      "Data columns (total 7 columns):\n",
      " #   Column      Non-Null Count  Dtype  \n",
      "---  ------      --------------  -----  \n",
      " 0   IDX         340 non-null    int64  \n",
      " 1   LOAD_DT     340 non-null    int64  \n",
      " 2   YR          340 non-null    int64  \n",
      " 3   FUEL_CD     340 non-null    object \n",
      " 4   CTPV        340 non-null    object \n",
      " 5   VHCL_MKCNT  340 non-null    float64\n",
      " 6   FUEL_RT     340 non-null    float64\n",
      "dtypes: float64(2), int64(3), object(2)\n",
      "memory usage: 18.7+ KB\n"
     ]
    }
   ],
   "source": [
    "STD_BD_CAR_REG_MKCNT = pd.read_csv(os.path.join(sys_fold, 'STD_BD_CAR_REG_MKCNT.csv'))\n",
    "STD_BD_CAR_REG_MKCNT.info()"
   ]
  },
  {
   "cell_type": "code",
   "execution_count": 49,
   "metadata": {},
   "outputs": [],
   "source": [
    "expdf = STD_BD_CAR_REG_MKCNT\n",
    "table_nm = 'STD_BD_CAR_REG_MKCNT'.upper()\n",
    "\n",
    "# 테이블 생성\n",
    "sql = 'create or replace table ' + table_nm + '( \\n'\n",
    "\n",
    "for idx,column in enumerate(expdf.columns):\n",
    "    # if 'float' in expdf[column].dtype.name:\n",
    "    #     sql += column + ' float'\n",
    "    # elif 'int' in expdf[column].dtype.name:\n",
    "    #     sql += column + ' number'\n",
    "    # else:\n",
    "    sql += column + ' varchar(255)'\n",
    "\n",
    "    if len(expdf.columns) - 1 != idx:\n",
    "        sql += ','\n",
    "    sql += '\\n'\n",
    "sql += ')'    \n",
    "we.execute(sql)\n",
    "\n",
    "# 데이터 추가\n",
    "# 1s\n",
    "we.import_from_pandas(expdf, table_nm)"
   ]
  },
  {
   "cell_type": "markdown",
   "metadata": {},
   "source": [
    "## STD_BD_CAR_PRET"
   ]
  },
  {
   "cell_type": "code",
   "execution_count": 50,
   "metadata": {},
   "outputs": [
    {
     "name": "stdout",
     "output_type": "stream",
     "text": [
      "<class 'pandas.core.frame.DataFrame'>\n",
      "RangeIndex: 17 entries, 0 to 16\n",
      "Data columns (total 15 columns):\n",
      " #   Column          Non-Null Count  Dtype  \n",
      "---  ------          --------------  -----  \n",
      " 0   IDX             17 non-null     int64  \n",
      " 1   LOAD_DT         17 non-null     int64  \n",
      " 2   YR              17 non-null     int64  \n",
      " 3   DSL             4 non-null      float64\n",
      " 4   GSL             4 non-null      float64\n",
      " 5   LPG             4 non-null      float64\n",
      " 6   DSL_PRET        13 non-null     float64\n",
      " 7   DSL_PRET_BSPLN  13 non-null     float64\n",
      " 8   DSL_PRET_AKM    13 non-null     float64\n",
      " 9   GSL_PRET        13 non-null     float64\n",
      " 10  GSL_PRET_BSPLN  13 non-null     float64\n",
      " 11  GSL_PRET_AKM    13 non-null     float64\n",
      " 12  LPG_PRET        13 non-null     float64\n",
      " 13  LPG_PRET_BSPLN  13 non-null     float64\n",
      " 14  LPG_PRET_AKM    13 non-null     float64\n",
      "dtypes: float64(12), int64(3)\n",
      "memory usage: 2.1 KB\n"
     ]
    }
   ],
   "source": [
    "STD_BD_CAR_PRET = pd.read_csv(os.path.join(sys_fold, 'STD_BD_CAR_PRET.csv'))\n",
    "STD_BD_CAR_PRET.info()"
   ]
  },
  {
   "cell_type": "code",
   "execution_count": 51,
   "metadata": {},
   "outputs": [],
   "source": [
    "expdf = STD_BD_CAR_PRET\n",
    "table_nm = 'STD_BD_CAR_PRET'.upper()\n",
    "\n",
    "# 테이블 생성\n",
    "sql = 'create or replace table ' + table_nm + '( \\n'\n",
    "\n",
    "for idx,column in enumerate(expdf.columns):\n",
    "    # if 'float' in expdf[column].dtype.name:\n",
    "    #     sql += column + ' float'\n",
    "    # elif 'int' in expdf[column].dtype.name:\n",
    "    #     sql += column + ' number'\n",
    "    # else:\n",
    "    sql += column + ' varchar(255)'\n",
    "\n",
    "    if len(expdf.columns) - 1 != idx:\n",
    "        sql += ','\n",
    "    sql += '\\n'\n",
    "sql += ')'    \n",
    "we.execute(sql)\n",
    "\n",
    "# 데이터 추가\n",
    "# 1s\n",
    "we.import_from_pandas(expdf, table_nm)"
   ]
  },
  {
   "cell_type": "markdown",
   "metadata": {},
   "source": [
    "## STD_BD_HYBRD_CAR_PRET"
   ]
  },
  {
   "cell_type": "code",
   "execution_count": 52,
   "metadata": {},
   "outputs": [
    {
     "name": "stdout",
     "output_type": "stream",
     "text": [
      "<class 'pandas.core.frame.DataFrame'>\n",
      "RangeIndex: 17 entries, 0 to 16\n",
      "Data columns (total 15 columns):\n",
      " #   Column           Non-Null Count  Dtype  \n",
      "---  ------           --------------  -----  \n",
      " 0   IDX              17 non-null     int64  \n",
      " 1   LOAD_DT          17 non-null     int64  \n",
      " 2   YR               17 non-null     int64  \n",
      " 3   GSLH             4 non-null      float64\n",
      " 4   GSLH_PRET        13 non-null     float64\n",
      " 5   GSLH_PRET_BSPLN  13 non-null     float64\n",
      " 6   GSLH_PRET_AKM    13 non-null     float64\n",
      " 7   DSLH             4 non-null      float64\n",
      " 8   DSLH_PRET        13 non-null     float64\n",
      " 9   DSLH_PRET_BSPLN  13 non-null     float64\n",
      " 10  DSLH_PRET_AKM    13 non-null     float64\n",
      " 11  LPGH             4 non-null      float64\n",
      " 12  LPGH_PRET        13 non-null     float64\n",
      " 13  LPGH_PRET_BSPLN  13 non-null     float64\n",
      " 14  LPGH_PRET_AKM    13 non-null     float64\n",
      "dtypes: float64(12), int64(3)\n",
      "memory usage: 2.1 KB\n"
     ]
    }
   ],
   "source": [
    "STD_BD_HYBRD_CAR_PRET = pd.read_csv(os.path.join(sys_fold, 'STD_BD_HYBRD_CAR_PRET.csv'))\n",
    "STD_BD_HYBRD_CAR_PRET.info()"
   ]
  },
  {
   "cell_type": "code",
   "execution_count": 53,
   "metadata": {},
   "outputs": [],
   "source": [
    "expdf = STD_BD_HYBRD_CAR_PRET\n",
    "table_nm = 'STD_BD_HYBRD_CAR_PRET'.upper()\n",
    "\n",
    "# 테이블 생성\n",
    "sql = 'create or replace table ' + table_nm + '( \\n'\n",
    "\n",
    "for idx,column in enumerate(expdf.columns):\n",
    "    # if 'float' in expdf[column].dtype.name:\n",
    "    #     sql += column + ' float'\n",
    "    # elif 'int' in expdf[column].dtype.name:\n",
    "    #     sql += column + ' number'\n",
    "    # else:\n",
    "    sql += column + ' varchar(255)'\n",
    "\n",
    "    if len(expdf.columns) - 1 != idx:\n",
    "        sql += ','\n",
    "    sql += '\\n'\n",
    "sql += ')'    \n",
    "we.execute(sql)\n",
    "\n",
    "# 데이터 추가\n",
    "# 7s\n",
    "we.import_from_pandas(expdf, table_nm)"
   ]
  },
  {
   "cell_type": "markdown",
   "metadata": {},
   "source": [
    "## STD_BD_FUEL_GRD_VHCL_CURSTT_PRET"
   ]
  },
  {
   "cell_type": "code",
   "execution_count": 7,
   "metadata": {},
   "outputs": [
    {
     "name": "stdout",
     "output_type": "stream",
     "text": [
      "<class 'pandas.core.frame.DataFrame'>\n",
      "RangeIndex: 4335 entries, 0 to 4334\n",
      "Data columns (total 7 columns):\n",
      " #   Column            Non-Null Count  Dtype  \n",
      "---  ------            --------------  -----  \n",
      " 0   YR                4335 non-null   int64  \n",
      " 1   CTPV              4335 non-null   object \n",
      " 2   FUEL_CD           4335 non-null   object \n",
      " 3   EXHST_GAS_GRD_CD  4335 non-null   int64  \n",
      " 4   VHCL_MKCNT        1020 non-null   float64\n",
      " 5   VHCL_PRET         3315 non-null   float64\n",
      " 6   LOAD_DT           4335 non-null   int64  \n",
      "dtypes: float64(2), int64(3), object(2)\n",
      "memory usage: 237.2+ KB\n"
     ]
    }
   ],
   "source": [
    "STD_BD_FUEL_GRD_VHCL_CURSTT_PRET = pd.read_csv(os.path.join(sys_fold, 'STD_BD_FUEL_GRD_VHCL_CURSTT_PRET.csv'))\n",
    "STD_BD_FUEL_GRD_VHCL_CURSTT_PRET.info()"
   ]
  },
  {
   "cell_type": "code",
   "execution_count": 8,
   "metadata": {},
   "outputs": [
    {
     "data": {
      "text/plain": [
       "array([1, 2, 3, 4, 5], dtype=int64)"
      ]
     },
     "execution_count": 8,
     "metadata": {},
     "output_type": "execute_result"
    }
   ],
   "source": [
    "STD_BD_FUEL_GRD_VHCL_CURSTT_PRET['EXHST_GAS_GRD_CD'].unique()"
   ]
  },
  {
   "cell_type": "code",
   "execution_count": 53,
   "metadata": {},
   "outputs": [],
   "source": [
    "expdf = STD_BD_FUEL_GRD_VHCL_CURSTT_PRET\n",
    "table_nm = 'STD_BD_FUEL_GRD_VHCL_CURSTT_PRET'.upper()\n",
    "\n",
    "# 테이블 생성\n",
    "sql = 'create or replace table ' + table_nm + '( \\n'\n",
    "\n",
    "for idx,column in enumerate(expdf.columns):\n",
    "    # if 'float' in expdf[column].dtype.name:\n",
    "    #     sql += column + ' float'\n",
    "    # elif 'int' in expdf[column].dtype.name:\n",
    "    #     sql += column + ' number'\n",
    "    # else:\n",
    "    sql += column + ' varchar(255)'\n",
    "\n",
    "    if len(expdf.columns) - 1 != idx:\n",
    "        sql += ','\n",
    "    sql += '\\n'\n",
    "sql += ')'    \n",
    "we.execute(sql)\n",
    "\n",
    "# 데이터 추가\n",
    "# 1s\n",
    "we.import_from_pandas(expdf, table_nm)"
   ]
  },
  {
   "cell_type": "markdown",
   "metadata": {},
   "source": [
    "## STD_BD_ECO_CAR_PRET"
   ]
  },
  {
   "cell_type": "code",
   "execution_count": 16,
   "metadata": {},
   "outputs": [
    {
     "name": "stdout",
     "output_type": "stream",
     "text": [
      "<class 'pandas.core.frame.DataFrame'>\n",
      "RangeIndex: 17 entries, 0 to 16\n",
      "Data columns (total 11 columns):\n",
      " #   Column            Non-Null Count  Dtype  \n",
      "---  ------            --------------  -----  \n",
      " 0   IDX               17 non-null     int64  \n",
      " 1   LOAD_DT           17 non-null     int64  \n",
      " 2   YR                17 non-null     int64  \n",
      " 3   BTYCR             4 non-null      float64\n",
      " 4   BTYCR_PRET        14 non-null     float64\n",
      " 5   BTYCR_PRET_BSPLN  14 non-null     float64\n",
      " 6   BTYCR_PRET_AKM    14 non-null     float64\n",
      " 7   HY                4 non-null      float64\n",
      " 8   HY_PRET           14 non-null     float64\n",
      " 9   HY_PRET_BSPLN     14 non-null     float64\n",
      " 10  HY_PRET_AKM       14 non-null     float64\n",
      "dtypes: float64(8), int64(3)\n",
      "memory usage: 1.6 KB\n"
     ]
    }
   ],
   "source": [
    "STD_BD_ECO_CAR_PRET = pd.read_csv(os.path.join(sys_fold, 'STD_BD_ECO_CAR_PRET.csv'))\n",
    "STD_BD_ECO_CAR_PRET.info()"
   ]
  },
  {
   "cell_type": "code",
   "execution_count": 17,
   "metadata": {},
   "outputs": [],
   "source": [
    "expdf = STD_BD_ECO_CAR_PRET\n",
    "table_nm = 'STD_BD_ECO_CAR_PRET'.upper()\n",
    "\n",
    "# 테이블 생성\n",
    "sql = 'create or replace table ' + table_nm + '( \\n'\n",
    "\n",
    "for idx,column in enumerate(expdf.columns):\n",
    "    # if 'float' in expdf[column].dtype.name:\n",
    "    #     sql += column + ' float'\n",
    "    # elif 'int' in expdf[column].dtype.name:\n",
    "    #     sql += column + ' number'\n",
    "    # else:\n",
    "    sql += column + ' varchar(255)'\n",
    "\n",
    "    if len(expdf.columns) - 1 != idx:\n",
    "        sql += ','\n",
    "    sql += '\\n'\n",
    "sql += ')'    \n",
    "we.execute(sql)\n",
    "\n",
    "# 데이터 추가\n",
    "# 7s\n",
    "we.import_from_pandas(expdf, table_nm)"
   ]
  },
  {
   "cell_type": "markdown",
   "metadata": {},
   "source": [
    "## STD_BD_ERSR_RSLT"
   ]
  },
  {
   "cell_type": "code",
   "execution_count": 18,
   "metadata": {},
   "outputs": [
    {
     "name": "stdout",
     "output_type": "stream",
     "text": [
      "<class 'pandas.core.frame.DataFrame'>\n",
      "RangeIndex: 4792996 entries, 0 to 4792995\n",
      "Data columns (total 9 columns):\n",
      " #   Column            Dtype  \n",
      "---  ------            -----  \n",
      " 0   IDX               int64  \n",
      " 1   LOAD_DT           int64  \n",
      " 2   BSPL_STDG_CD      int64  \n",
      " 3   CTPV              object \n",
      " 4   SGG               object \n",
      " 5   VIN               object \n",
      " 6   CHG_YMD           int64  \n",
      " 7   EXHST_GAS_GRD_CD  float64\n",
      " 8   FUEL_CD           object \n",
      "dtypes: float64(1), int64(4), object(4)\n",
      "memory usage: 329.1+ MB\n"
     ]
    }
   ],
   "source": [
    "STD_BD_ERSR_RSLT = pd.read_csv(os.path.join(sys_fold, 'STD_BD_ERSR_RSLT.csv'))\n",
    "STD_BD_ERSR_RSLT.info()"
   ]
  },
  {
   "cell_type": "code",
   "execution_count": 21,
   "metadata": {},
   "outputs": [
    {
     "data": {
      "text/plain": [
       "array([nan,  3.,  5.,  2.,  1.,  4.])"
      ]
     },
     "execution_count": 21,
     "metadata": {},
     "output_type": "execute_result"
    }
   ],
   "source": [
    "STD_BD_ERSR_RSLT.EXHST_GAS_GRD_CD.unique()"
   ]
  },
  {
   "cell_type": "code",
   "execution_count": 20,
   "metadata": {},
   "outputs": [
    {
     "data": {
      "text/plain": [
       "20185"
      ]
     },
     "execution_count": 20,
     "metadata": {},
     "output_type": "execute_result"
    }
   ],
   "source": [
    "STD_BD_ERSR_RSLT['EXHST_GAS_GRD_CD'].isnull().sum()"
   ]
  },
  {
   "cell_type": "code",
   "execution_count": 22,
   "metadata": {},
   "outputs": [
    {
     "data": {
      "text/plain": [
       "array(['X', 3.0, 5.0, 2.0, 1.0, 4.0], dtype=object)"
      ]
     },
     "execution_count": 22,
     "metadata": {},
     "output_type": "execute_result"
    }
   ],
   "source": [
    "STD_BD_ERSR_RSLT['EXHST_GAS_GRD_CD'] = STD_BD_ERSR_RSLT['EXHST_GAS_GRD_CD'].fillna('X')\n",
    "STD_BD_ERSR_RSLT.EXHST_GAS_GRD_CD.unique()"
   ]
  },
  {
   "cell_type": "code",
   "execution_count": 23,
   "metadata": {},
   "outputs": [],
   "source": [
    "expdf = STD_BD_ERSR_RSLT\n",
    "table_nm = 'STD_BD_ERSR_RSLT'.upper()\n",
    "\n",
    "# 테이블 생성\n",
    "sql = 'create or replace table ' + table_nm + '( \\n'\n",
    "\n",
    "for idx,column in enumerate(expdf.columns):\n",
    "    # if 'float' in expdf[column].dtype.name:\n",
    "    #     sql += column + ' float'\n",
    "    # elif 'int' in expdf[column].dtype.name:\n",
    "    #     sql += column + ' number'\n",
    "    # else:\n",
    "    sql += column + ' varchar(255)'\n",
    "\n",
    "    if len(expdf.columns) - 1 != idx:\n",
    "        sql += ','\n",
    "    sql += '\\n'\n",
    "sql += ')'    \n",
    "we.execute(sql)\n",
    "\n",
    "# 데이터 추가\n",
    "# 12.6s\n",
    "we.import_from_pandas(expdf, table_nm)"
   ]
  },
  {
   "cell_type": "markdown",
   "metadata": {},
   "source": [
    "## STD_BD_DAT_GRD_CURSTT"
   ]
  },
  {
   "cell_type": "code",
   "execution_count": 60,
   "metadata": {},
   "outputs": [
    {
     "name": "stdout",
     "output_type": "stream",
     "text": [
      "<class 'pandas.core.frame.DataFrame'>\n",
      "RangeIndex: 212160 entries, 0 to 212159\n",
      "Data columns (total 13 columns):\n",
      " #   Column            Non-Null Count   Dtype  \n",
      "---  ------            --------------   -----  \n",
      " 0   IDX               212160 non-null  int64  \n",
      " 1   CTPV              212160 non-null  object \n",
      " 2   YR                212160 non-null  int64  \n",
      " 3   MM                212160 non-null  int64  \n",
      " 4   EXHST_GAS_GRD_CD  212160 non-null  int64  \n",
      " 5   FUEL_CD           212160 non-null  object \n",
      " 6   VHCTY_CD          212160 non-null  object \n",
      " 7   VHCTY_TY          212160 non-null  object \n",
      " 8   PURPS_CD2         212160 non-null  object \n",
      " 9   VHCL_MKCNT        212160 non-null  float64\n",
      " 10  ERSR_MKCNT        212160 non-null  float64\n",
      " 11  YR_FUEL_VHCL_RT   212160 non-null  float64\n",
      " 12  LOAD_DT           212160 non-null  int64  \n",
      "dtypes: float64(3), int64(5), object(5)\n",
      "memory usage: 21.0+ MB\n"
     ]
    }
   ],
   "source": [
    "# 1s\n",
    "STD_BD_DAT_GRD_CURSTT = pd.read_csv(os.path.join(sys_fold, 'STD_BD_DAT_GRD_CURSTT.csv'))\n",
    "STD_BD_DAT_GRD_CURSTT.info()"
   ]
  },
  {
   "cell_type": "code",
   "execution_count": 61,
   "metadata": {},
   "outputs": [],
   "source": [
    "expdf = STD_BD_DAT_GRD_CURSTT\n",
    "table_nm = 'STD_BD_DAT_GRD_CURSTT'.upper()\n",
    "\n",
    "# 테이블 생성\n",
    "sql = 'create or replace table ' + table_nm + '( \\n'\n",
    "\n",
    "for idx,column in enumerate(expdf.columns):\n",
    "    # if 'float' in expdf[column].dtype.name:\n",
    "    #     sql += column + ' float'\n",
    "    # elif 'int' in expdf[column].dtype.name:\n",
    "    #     sql += column + ' number'\n",
    "    # else:\n",
    "    sql += column + ' varchar(255)'\n",
    "\n",
    "    if len(expdf.columns) - 1 != idx:\n",
    "        sql += ','\n",
    "    sql += '\\n'\n",
    "sql += ')'    \n",
    "we.execute(sql)\n",
    "\n",
    "# 데이터 추가\n",
    "# 12.6s\n",
    "we.import_from_pandas(expdf, table_nm)"
   ]
  },
  {
   "cell_type": "markdown",
   "metadata": {},
   "source": [
    "## STD_BD_DAT_FUEL_CAR_DEC"
   ]
  },
  {
   "cell_type": "code",
   "execution_count": 62,
   "metadata": {},
   "outputs": [
    {
     "name": "stdout",
     "output_type": "stream",
     "text": [
      "<class 'pandas.core.frame.DataFrame'>\n",
      "RangeIndex: 1224 entries, 0 to 1223\n",
      "Data columns (total 18 columns):\n",
      " #   Column            Non-Null Count  Dtype  \n",
      "---  ------            --------------  -----  \n",
      " 0   IDX               1224 non-null   int64  \n",
      " 1   YR                1224 non-null   int64  \n",
      " 2   QRT               1224 non-null   int64  \n",
      " 3   EXHST_GAS_GRD_CD  1224 non-null   object \n",
      " 4   FUEL_CD           1224 non-null   object \n",
      " 5   LPG_MKCNT         96 non-null     float64\n",
      " 6   LPG_PRET          312 non-null    float64\n",
      " 7   LPG_PRET_BSPLN    312 non-null    float64\n",
      " 8   LPG_PRET_AKM      312 non-null    float64\n",
      " 9   DSL_MKCNT         96 non-null     float64\n",
      " 10  DSL_PRET          312 non-null    float64\n",
      " 11  DSL_PRET_BSPLN    312 non-null    float64\n",
      " 12  DSL_PRET_AKM      312 non-null    float64\n",
      " 13  GSL_MKCNT         96 non-null     float64\n",
      " 14  GSL_PRET          312 non-null    float64\n",
      " 15  GSL_PRET_BSPLN    312 non-null    float64\n",
      " 16  GSL_PRET_AKM      312 non-null    float64\n",
      " 17  LOAD_DT           1224 non-null   int64  \n",
      "dtypes: float64(12), int64(4), object(2)\n",
      "memory usage: 172.2+ KB\n"
     ]
    }
   ],
   "source": [
    "# 0s\n",
    "STD_BD_DAT_FUEL_CAR_DEC = pd.read_csv(os.path.join(sys_fold, 'STD_BD_DAT_FUEL_CAR_DEC.csv'))\n",
    "STD_BD_DAT_FUEL_CAR_DEC.info()"
   ]
  },
  {
   "cell_type": "code",
   "execution_count": 63,
   "metadata": {},
   "outputs": [],
   "source": [
    "expdf = STD_BD_DAT_FUEL_CAR_DEC\n",
    "table_nm = 'STD_BD_DAT_FUEL_CAR_DEC'.upper()\n",
    "\n",
    "# 테이블 생성\n",
    "sql = 'create or replace table ' + table_nm + '( \\n'\n",
    "\n",
    "for idx,column in enumerate(expdf.columns):\n",
    "    # if 'float' in expdf[column].dtype.name:\n",
    "    #     sql += column + ' float'\n",
    "    # elif 'int' in expdf[column].dtype.name:\n",
    "    #     sql += column + ' number'\n",
    "    # else:\n",
    "    sql += column + ' varchar(255)'\n",
    "\n",
    "    if len(expdf.columns) - 1 != idx:\n",
    "        sql += ','\n",
    "    sql += '\\n'\n",
    "sql += ')'    \n",
    "we.execute(sql)\n",
    "\n",
    "# 데이터 추가\n",
    "# 12.6s\n",
    "we.import_from_pandas(expdf, table_nm)"
   ]
  },
  {
   "cell_type": "markdown",
   "metadata": {},
   "source": [
    "## STD_BD_GRD5_ELPDSRC_CURSTT"
   ]
  },
  {
   "cell_type": "code",
   "execution_count": 25,
   "metadata": {},
   "outputs": [
    {
     "name": "stdout",
     "output_type": "stream",
     "text": [
      "<class 'pandas.core.frame.DataFrame'>\n",
      "RangeIndex: 73 entries, 0 to 72\n",
      "Data columns (total 8 columns):\n",
      " #   Column      Non-Null Count  Dtype  \n",
      "---  ------      --------------  -----  \n",
      " 0   IDX         73 non-null     int64  \n",
      " 1   RGN         68 non-null     object \n",
      " 2   YR          68 non-null     float64\n",
      " 3   VHCL_MKCNT  68 non-null     object \n",
      " 4   VHCL_REDE   68 non-null     object \n",
      " 5   ELPDSRC     68 non-null     object \n",
      " 6   NTRL_DCLN   68 non-null     object \n",
      " 7   LOAD_DT     73 non-null     int64  \n",
      "dtypes: float64(1), int64(2), object(5)\n",
      "memory usage: 4.7+ KB\n"
     ]
    }
   ],
   "source": [
    "STD_BD_GRD5_ELPDSRC_CURSTT = pd.read_csv(os.path.join(sys_fold, 'STD_BD_GRD5_ELPDSRC_CURSTT.csv'))\n",
    "STD_BD_GRD5_ELPDSRC_CURSTT.info()"
   ]
  },
  {
   "cell_type": "code",
   "execution_count": 27,
   "metadata": {},
   "outputs": [],
   "source": [
    "STD_BD_GRD5_ELPDSRC_CURSTT = STD_BD_GRD5_ELPDSRC_CURSTT.drop('IDX', axis=1)"
   ]
  },
  {
   "cell_type": "code",
   "execution_count": 29,
   "metadata": {},
   "outputs": [
    {
     "data": {
      "text/html": [
       "<div>\n",
       "<style scoped>\n",
       "    .dataframe tbody tr th:only-of-type {\n",
       "        vertical-align: middle;\n",
       "    }\n",
       "\n",
       "    .dataframe tbody tr th {\n",
       "        vertical-align: top;\n",
       "    }\n",
       "\n",
       "    .dataframe thead th {\n",
       "        text-align: right;\n",
       "    }\n",
       "</style>\n",
       "<table border=\"1\" class=\"dataframe\">\n",
       "  <thead>\n",
       "    <tr style=\"text-align: right;\">\n",
       "      <th></th>\n",
       "      <th>RGN</th>\n",
       "      <th>YR</th>\n",
       "      <th>VHCL_MKCNT</th>\n",
       "      <th>VHCL_REDE</th>\n",
       "      <th>ELPDSRC</th>\n",
       "      <th>NTRL_DCLN</th>\n",
       "      <th>LOAD_DT</th>\n",
       "    </tr>\n",
       "  </thead>\n",
       "  <tbody>\n",
       "    <tr>\n",
       "      <th>63</th>\n",
       "      <td>경남</td>\n",
       "      <td>2022.0</td>\n",
       "      <td>98,885</td>\n",
       "      <td>24,199</td>\n",
       "      <td>14,765</td>\n",
       "      <td>9,434</td>\n",
       "      <td>20230808</td>\n",
       "    </tr>\n",
       "    <tr>\n",
       "      <th>64</th>\n",
       "      <td>제주</td>\n",
       "      <td>2019.0</td>\n",
       "      <td>44,978</td>\n",
       "      <td>9,340</td>\n",
       "      <td>5,424</td>\n",
       "      <td>3,915</td>\n",
       "      <td>20230808</td>\n",
       "    </tr>\n",
       "    <tr>\n",
       "      <th>65</th>\n",
       "      <td>제주</td>\n",
       "      <td>2020.0</td>\n",
       "      <td>37,016</td>\n",
       "      <td>7,962</td>\n",
       "      <td>4,562</td>\n",
       "      <td>3,400</td>\n",
       "      <td>20230808</td>\n",
       "    </tr>\n",
       "    <tr>\n",
       "      <th>66</th>\n",
       "      <td>제주</td>\n",
       "      <td>2021.0</td>\n",
       "      <td>29,057</td>\n",
       "      <td>7,959</td>\n",
       "      <td>4,501</td>\n",
       "      <td>3,458</td>\n",
       "      <td>20230808</td>\n",
       "    </tr>\n",
       "    <tr>\n",
       "      <th>67</th>\n",
       "      <td>제주</td>\n",
       "      <td>2022.0</td>\n",
       "      <td>23,163</td>\n",
       "      <td>5,894</td>\n",
       "      <td>3,238</td>\n",
       "      <td>2,656</td>\n",
       "      <td>20230808</td>\n",
       "    </tr>\n",
       "    <tr>\n",
       "      <th>68</th>\n",
       "      <td>NaN</td>\n",
       "      <td>NaN</td>\n",
       "      <td>NaN</td>\n",
       "      <td>NaN</td>\n",
       "      <td>NaN</td>\n",
       "      <td>NaN</td>\n",
       "      <td>20230808</td>\n",
       "    </tr>\n",
       "    <tr>\n",
       "      <th>69</th>\n",
       "      <td>NaN</td>\n",
       "      <td>NaN</td>\n",
       "      <td>NaN</td>\n",
       "      <td>NaN</td>\n",
       "      <td>NaN</td>\n",
       "      <td>NaN</td>\n",
       "      <td>20230808</td>\n",
       "    </tr>\n",
       "    <tr>\n",
       "      <th>70</th>\n",
       "      <td>NaN</td>\n",
       "      <td>NaN</td>\n",
       "      <td>NaN</td>\n",
       "      <td>NaN</td>\n",
       "      <td>NaN</td>\n",
       "      <td>NaN</td>\n",
       "      <td>20230808</td>\n",
       "    </tr>\n",
       "    <tr>\n",
       "      <th>71</th>\n",
       "      <td>NaN</td>\n",
       "      <td>NaN</td>\n",
       "      <td>NaN</td>\n",
       "      <td>NaN</td>\n",
       "      <td>NaN</td>\n",
       "      <td>NaN</td>\n",
       "      <td>20230808</td>\n",
       "    </tr>\n",
       "    <tr>\n",
       "      <th>72</th>\n",
       "      <td>NaN</td>\n",
       "      <td>NaN</td>\n",
       "      <td>NaN</td>\n",
       "      <td>NaN</td>\n",
       "      <td>NaN</td>\n",
       "      <td>NaN</td>\n",
       "      <td>20230808</td>\n",
       "    </tr>\n",
       "  </tbody>\n",
       "</table>\n",
       "</div>"
      ],
      "text/plain": [
       "    RGN      YR VHCL_MKCNT VHCL_REDE   ELPDSRC NTRL_DCLN   LOAD_DT\n",
       "63   경남  2022.0    98,885    24,199    14,765     9,434   20230808\n",
       "64   제주  2019.0    44,978     9,340     5,424     3,915   20230808\n",
       "65   제주  2020.0    37,016     7,962     4,562     3,400   20230808\n",
       "66   제주  2021.0    29,057     7,959     4,501     3,458   20230808\n",
       "67   제주  2022.0    23,163     5,894     3,238     2,656   20230808\n",
       "68  NaN     NaN        NaN       NaN       NaN       NaN  20230808\n",
       "69  NaN     NaN        NaN       NaN       NaN       NaN  20230808\n",
       "70  NaN     NaN        NaN       NaN       NaN       NaN  20230808\n",
       "71  NaN     NaN        NaN       NaN       NaN       NaN  20230808\n",
       "72  NaN     NaN        NaN       NaN       NaN       NaN  20230808"
      ]
     },
     "execution_count": 29,
     "metadata": {},
     "output_type": "execute_result"
    }
   ],
   "source": [
    "STD_BD_GRD5_ELPDSRC_CURSTT.tail(10)"
   ]
  },
  {
   "cell_type": "code",
   "execution_count": 30,
   "metadata": {},
   "outputs": [
    {
     "data": {
      "text/plain": [
       "(68, 7)"
      ]
     },
     "execution_count": 30,
     "metadata": {},
     "output_type": "execute_result"
    }
   ],
   "source": [
    "STD_BD_GRD5_ELPDSRC_CURSTT = STD_BD_GRD5_ELPDSRC_CURSTT.dropna()\n",
    "STD_BD_GRD5_ELPDSRC_CURSTT.shape"
   ]
  },
  {
   "cell_type": "code",
   "execution_count": 31,
   "metadata": {},
   "outputs": [
    {
     "data": {
      "text/html": [
       "<div>\n",
       "<style scoped>\n",
       "    .dataframe tbody tr th:only-of-type {\n",
       "        vertical-align: middle;\n",
       "    }\n",
       "\n",
       "    .dataframe tbody tr th {\n",
       "        vertical-align: top;\n",
       "    }\n",
       "\n",
       "    .dataframe thead th {\n",
       "        text-align: right;\n",
       "    }\n",
       "</style>\n",
       "<table border=\"1\" class=\"dataframe\">\n",
       "  <thead>\n",
       "    <tr style=\"text-align: right;\">\n",
       "      <th></th>\n",
       "      <th>RGN</th>\n",
       "      <th>YR</th>\n",
       "      <th>VHCL_MKCNT</th>\n",
       "      <th>VHCL_REDE</th>\n",
       "      <th>ELPDSRC</th>\n",
       "      <th>NTRL_DCLN</th>\n",
       "      <th>LOAD_DT</th>\n",
       "    </tr>\n",
       "  </thead>\n",
       "  <tbody>\n",
       "    <tr>\n",
       "      <th>63</th>\n",
       "      <td>경남</td>\n",
       "      <td>2022.0</td>\n",
       "      <td>98,885</td>\n",
       "      <td>24,199</td>\n",
       "      <td>14,765</td>\n",
       "      <td>9,434</td>\n",
       "      <td>20230808</td>\n",
       "    </tr>\n",
       "    <tr>\n",
       "      <th>64</th>\n",
       "      <td>제주</td>\n",
       "      <td>2019.0</td>\n",
       "      <td>44,978</td>\n",
       "      <td>9,340</td>\n",
       "      <td>5,424</td>\n",
       "      <td>3,915</td>\n",
       "      <td>20230808</td>\n",
       "    </tr>\n",
       "    <tr>\n",
       "      <th>65</th>\n",
       "      <td>제주</td>\n",
       "      <td>2020.0</td>\n",
       "      <td>37,016</td>\n",
       "      <td>7,962</td>\n",
       "      <td>4,562</td>\n",
       "      <td>3,400</td>\n",
       "      <td>20230808</td>\n",
       "    </tr>\n",
       "    <tr>\n",
       "      <th>66</th>\n",
       "      <td>제주</td>\n",
       "      <td>2021.0</td>\n",
       "      <td>29,057</td>\n",
       "      <td>7,959</td>\n",
       "      <td>4,501</td>\n",
       "      <td>3,458</td>\n",
       "      <td>20230808</td>\n",
       "    </tr>\n",
       "    <tr>\n",
       "      <th>67</th>\n",
       "      <td>제주</td>\n",
       "      <td>2022.0</td>\n",
       "      <td>23,163</td>\n",
       "      <td>5,894</td>\n",
       "      <td>3,238</td>\n",
       "      <td>2,656</td>\n",
       "      <td>20230808</td>\n",
       "    </tr>\n",
       "  </tbody>\n",
       "</table>\n",
       "</div>"
      ],
      "text/plain": [
       "   RGN      YR VHCL_MKCNT VHCL_REDE   ELPDSRC NTRL_DCLN   LOAD_DT\n",
       "63  경남  2022.0    98,885    24,199    14,765     9,434   20230808\n",
       "64  제주  2019.0    44,978     9,340     5,424     3,915   20230808\n",
       "65  제주  2020.0    37,016     7,962     4,562     3,400   20230808\n",
       "66  제주  2021.0    29,057     7,959     4,501     3,458   20230808\n",
       "67  제주  2022.0    23,163     5,894     3,238     2,656   20230808"
      ]
     },
     "execution_count": 31,
     "metadata": {},
     "output_type": "execute_result"
    }
   ],
   "source": [
    "STD_BD_GRD5_ELPDSRC_CURSTT.tail()"
   ]
  },
  {
   "cell_type": "code",
   "execution_count": 32,
   "metadata": {},
   "outputs": [],
   "source": [
    "STD_BD_GRD5_ELPDSRC_CURSTT['VHCL_MKCNT'] = STD_BD_GRD5_ELPDSRC_CURSTT['VHCL_MKCNT'].str.replace(',', '')\n",
    "STD_BD_GRD5_ELPDSRC_CURSTT['VHCL_REDE'] = STD_BD_GRD5_ELPDSRC_CURSTT['VHCL_REDE'].str.replace(',', '')\n",
    "STD_BD_GRD5_ELPDSRC_CURSTT['ELPDSRC'] = STD_BD_GRD5_ELPDSRC_CURSTT['ELPDSRC'].str.replace(',', '')\n",
    "STD_BD_GRD5_ELPDSRC_CURSTT['NTRL_DCLN'] = STD_BD_GRD5_ELPDSRC_CURSTT['NTRL_DCLN'].str.replace(',', '')"
   ]
  },
  {
   "cell_type": "code",
   "execution_count": 33,
   "metadata": {},
   "outputs": [
    {
     "data": {
      "text/html": [
       "<div>\n",
       "<style scoped>\n",
       "    .dataframe tbody tr th:only-of-type {\n",
       "        vertical-align: middle;\n",
       "    }\n",
       "\n",
       "    .dataframe tbody tr th {\n",
       "        vertical-align: top;\n",
       "    }\n",
       "\n",
       "    .dataframe thead th {\n",
       "        text-align: right;\n",
       "    }\n",
       "</style>\n",
       "<table border=\"1\" class=\"dataframe\">\n",
       "  <thead>\n",
       "    <tr style=\"text-align: right;\">\n",
       "      <th></th>\n",
       "      <th>RGN</th>\n",
       "      <th>YR</th>\n",
       "      <th>VHCL_MKCNT</th>\n",
       "      <th>VHCL_REDE</th>\n",
       "      <th>ELPDSRC</th>\n",
       "      <th>NTRL_DCLN</th>\n",
       "      <th>LOAD_DT</th>\n",
       "    </tr>\n",
       "  </thead>\n",
       "  <tbody>\n",
       "    <tr>\n",
       "      <th>0</th>\n",
       "      <td>서울</td>\n",
       "      <td>2019.0</td>\n",
       "      <td>199898</td>\n",
       "      <td>46950</td>\n",
       "      <td>31792</td>\n",
       "      <td>15158</td>\n",
       "      <td>20230808</td>\n",
       "    </tr>\n",
       "    <tr>\n",
       "      <th>1</th>\n",
       "      <td>서울</td>\n",
       "      <td>2020.0</td>\n",
       "      <td>161864</td>\n",
       "      <td>38034</td>\n",
       "      <td>23045</td>\n",
       "      <td>14989</td>\n",
       "      <td>20230808</td>\n",
       "    </tr>\n",
       "    <tr>\n",
       "      <th>2</th>\n",
       "      <td>서울</td>\n",
       "      <td>2021.0</td>\n",
       "      <td>138381</td>\n",
       "      <td>23483</td>\n",
       "      <td>8148</td>\n",
       "      <td>15335</td>\n",
       "      <td>20230808</td>\n",
       "    </tr>\n",
       "    <tr>\n",
       "      <th>3</th>\n",
       "      <td>서울</td>\n",
       "      <td>2022.0</td>\n",
       "      <td>120996</td>\n",
       "      <td>17385</td>\n",
       "      <td>2476</td>\n",
       "      <td>14909</td>\n",
       "      <td>20230808</td>\n",
       "    </tr>\n",
       "    <tr>\n",
       "      <th>4</th>\n",
       "      <td>인천</td>\n",
       "      <td>2019.0</td>\n",
       "      <td>90619</td>\n",
       "      <td>20597</td>\n",
       "      <td>16422</td>\n",
       "      <td>4175</td>\n",
       "      <td>20230808</td>\n",
       "    </tr>\n",
       "  </tbody>\n",
       "</table>\n",
       "</div>"
      ],
      "text/plain": [
       "  RGN      YR VHCL_MKCNT VHCL_REDE  ELPDSRC NTRL_DCLN   LOAD_DT\n",
       "0  서울  2019.0    199898     46950    31792     15158   20230808\n",
       "1  서울  2020.0    161864     38034    23045     14989   20230808\n",
       "2  서울  2021.0    138381     23483     8148     15335   20230808\n",
       "3  서울  2022.0    120996     17385     2476     14909   20230808\n",
       "4  인천  2019.0     90619     20597    16422      4175   20230808"
      ]
     },
     "execution_count": 33,
     "metadata": {},
     "output_type": "execute_result"
    }
   ],
   "source": [
    "STD_BD_GRD5_ELPDSRC_CURSTT.head()"
   ]
  },
  {
   "cell_type": "code",
   "execution_count": 34,
   "metadata": {},
   "outputs": [],
   "source": [
    "STD_BD_GRD5_ELPDSRC_CURSTT['VHCL_MKCNT'] = pd.to_numeric(STD_BD_GRD5_ELPDSRC_CURSTT['VHCL_MKCNT'], errors='coerce')\n",
    "STD_BD_GRD5_ELPDSRC_CURSTT['VHCL_REDE'] = pd.to_numeric(STD_BD_GRD5_ELPDSRC_CURSTT['VHCL_REDE'], errors='coerce')\n",
    "STD_BD_GRD5_ELPDSRC_CURSTT['ELPDSRC'] = pd.to_numeric(STD_BD_GRD5_ELPDSRC_CURSTT['ELPDSRC'], errors='coerce')\n",
    "STD_BD_GRD5_ELPDSRC_CURSTT['NTRL_DCLN'] = pd.to_numeric(STD_BD_GRD5_ELPDSRC_CURSTT['NTRL_DCLN'], errors='coerce')"
   ]
  },
  {
   "cell_type": "code",
   "execution_count": 35,
   "metadata": {},
   "outputs": [
    {
     "data": {
      "text/html": [
       "<div>\n",
       "<style scoped>\n",
       "    .dataframe tbody tr th:only-of-type {\n",
       "        vertical-align: middle;\n",
       "    }\n",
       "\n",
       "    .dataframe tbody tr th {\n",
       "        vertical-align: top;\n",
       "    }\n",
       "\n",
       "    .dataframe thead th {\n",
       "        text-align: right;\n",
       "    }\n",
       "</style>\n",
       "<table border=\"1\" class=\"dataframe\">\n",
       "  <thead>\n",
       "    <tr style=\"text-align: right;\">\n",
       "      <th></th>\n",
       "      <th>RGN</th>\n",
       "      <th>YR</th>\n",
       "      <th>VHCL_MKCNT</th>\n",
       "      <th>VHCL_REDE</th>\n",
       "      <th>ELPDSRC</th>\n",
       "      <th>NTRL_DCLN</th>\n",
       "      <th>LOAD_DT</th>\n",
       "    </tr>\n",
       "  </thead>\n",
       "  <tbody>\n",
       "    <tr>\n",
       "      <th>0</th>\n",
       "      <td>서울</td>\n",
       "      <td>2019.0</td>\n",
       "      <td>199898</td>\n",
       "      <td>46950</td>\n",
       "      <td>31792</td>\n",
       "      <td>15158</td>\n",
       "      <td>20230808</td>\n",
       "    </tr>\n",
       "    <tr>\n",
       "      <th>1</th>\n",
       "      <td>서울</td>\n",
       "      <td>2020.0</td>\n",
       "      <td>161864</td>\n",
       "      <td>38034</td>\n",
       "      <td>23045</td>\n",
       "      <td>14989</td>\n",
       "      <td>20230808</td>\n",
       "    </tr>\n",
       "    <tr>\n",
       "      <th>2</th>\n",
       "      <td>서울</td>\n",
       "      <td>2021.0</td>\n",
       "      <td>138381</td>\n",
       "      <td>23483</td>\n",
       "      <td>8148</td>\n",
       "      <td>15335</td>\n",
       "      <td>20230808</td>\n",
       "    </tr>\n",
       "    <tr>\n",
       "      <th>3</th>\n",
       "      <td>서울</td>\n",
       "      <td>2022.0</td>\n",
       "      <td>120996</td>\n",
       "      <td>17385</td>\n",
       "      <td>2476</td>\n",
       "      <td>14909</td>\n",
       "      <td>20230808</td>\n",
       "    </tr>\n",
       "    <tr>\n",
       "      <th>4</th>\n",
       "      <td>인천</td>\n",
       "      <td>2019.0</td>\n",
       "      <td>90619</td>\n",
       "      <td>20597</td>\n",
       "      <td>16422</td>\n",
       "      <td>4175</td>\n",
       "      <td>20230808</td>\n",
       "    </tr>\n",
       "  </tbody>\n",
       "</table>\n",
       "</div>"
      ],
      "text/plain": [
       "  RGN      YR  VHCL_MKCNT  VHCL_REDE  ELPDSRC  NTRL_DCLN   LOAD_DT\n",
       "0  서울  2019.0      199898      46950    31792      15158  20230808\n",
       "1  서울  2020.0      161864      38034    23045      14989  20230808\n",
       "2  서울  2021.0      138381      23483     8148      15335  20230808\n",
       "3  서울  2022.0      120996      17385     2476      14909  20230808\n",
       "4  인천  2019.0       90619      20597    16422       4175  20230808"
      ]
     },
     "execution_count": 35,
     "metadata": {},
     "output_type": "execute_result"
    }
   ],
   "source": [
    "STD_BD_GRD5_ELPDSRC_CURSTT.head()"
   ]
  },
  {
   "cell_type": "code",
   "execution_count": 36,
   "metadata": {},
   "outputs": [
    {
     "name": "stdout",
     "output_type": "stream",
     "text": [
      "<class 'pandas.core.frame.DataFrame'>\n",
      "Index: 68 entries, 0 to 67\n",
      "Data columns (total 7 columns):\n",
      " #   Column      Non-Null Count  Dtype  \n",
      "---  ------      --------------  -----  \n",
      " 0   RGN         68 non-null     object \n",
      " 1   YR          68 non-null     float64\n",
      " 2   VHCL_MKCNT  68 non-null     int64  \n",
      " 3   VHCL_REDE   68 non-null     int64  \n",
      " 4   ELPDSRC     68 non-null     int64  \n",
      " 5   NTRL_DCLN   68 non-null     int64  \n",
      " 6   LOAD_DT     68 non-null     int64  \n",
      "dtypes: float64(1), int64(5), object(1)\n",
      "memory usage: 4.2+ KB\n"
     ]
    }
   ],
   "source": [
    "STD_BD_GRD5_ELPDSRC_CURSTT.info()"
   ]
  },
  {
   "cell_type": "code",
   "execution_count": 37,
   "metadata": {},
   "outputs": [],
   "source": [
    "expdf = STD_BD_GRD5_ELPDSRC_CURSTT\n",
    "table_nm = 'STD_BD_GRD5_ELPDSRC_CURSTT'.upper()\n",
    "\n",
    "# 테이블 생성\n",
    "sql = 'create or replace table ' + table_nm + '( \\n'\n",
    "\n",
    "for idx,column in enumerate(expdf.columns):\n",
    "    if 'float' in expdf[column].dtype.name:\n",
    "        sql += column + ' float'\n",
    "    elif 'int' in expdf[column].dtype.name:\n",
    "        sql += column + ' number'\n",
    "    else:\n",
    "        sql += column + ' varchar(255)'\n",
    "\n",
    "    if len(expdf.columns) - 1 != idx:\n",
    "        sql += ','\n",
    "    sql += '\\n'\n",
    "sql += ')'    \n",
    "we.execute(sql)\n",
    "\n",
    "# 데이터 추가\n",
    "# 5s\n",
    "we.import_from_pandas(expdf, table_nm)"
   ]
  },
  {
   "cell_type": "code",
   "execution_count": 67,
   "metadata": {},
   "outputs": [
    {
     "data": {
      "text/plain": [
       "'create or replace table STD_BD_GRD5_ELPDSRC_CURSTT( \\nIDX number,\\nRGN varchar(255),\\nYR float,\\nVHCL_MKCNT number,\\nVHCL_REDE number,\\nELPDSRC number,\\nNTRL_DCLN number,\\nLOAD_DT number\\n)'"
      ]
     },
     "execution_count": 67,
     "metadata": {},
     "output_type": "execute_result"
    }
   ],
   "source": [
    "sql"
   ]
  },
  {
   "cell_type": "markdown",
   "metadata": {},
   "source": [
    "## STD_BD_GRD5_LEM_N_MOD"
   ]
  },
  {
   "cell_type": "code",
   "execution_count": 9,
   "metadata": {},
   "outputs": [
    {
     "name": "stdout",
     "output_type": "stream",
     "text": [
      "<class 'pandas.core.frame.DataFrame'>\n",
      "RangeIndex: 12 entries, 0 to 11\n",
      "Data columns (total 4 columns):\n",
      " #   Column      Non-Null Count  Dtype \n",
      "---  ------      --------------  ----- \n",
      " 0   RGN         12 non-null     object\n",
      " 1   SEASON      12 non-null     object\n",
      " 2   VHCL_MKCNT  12 non-null     int64 \n",
      " 3   LOAD_DT     12 non-null     int64 \n",
      "dtypes: int64(2), object(2)\n",
      "memory usage: 512.0+ bytes\n"
     ]
    }
   ],
   "source": [
    "STD_BD_GRD5_LEM_N_MOD = pd.read_csv(os.path.join(sys_fold, 'STD_BD_GRD5_LEM_N_MOD.csv'))\n",
    "STD_BD_GRD5_LEM_N_MOD.info()"
   ]
  },
  {
   "cell_type": "code",
   "execution_count": 11,
   "metadata": {},
   "outputs": [
    {
     "data": {
      "text/html": [
       "<div>\n",
       "<style scoped>\n",
       "    .dataframe tbody tr th:only-of-type {\n",
       "        vertical-align: middle;\n",
       "    }\n",
       "\n",
       "    .dataframe tbody tr th {\n",
       "        vertical-align: top;\n",
       "    }\n",
       "\n",
       "    .dataframe thead th {\n",
       "        text-align: right;\n",
       "    }\n",
       "</style>\n",
       "<table border=\"1\" class=\"dataframe\">\n",
       "  <thead>\n",
       "    <tr style=\"text-align: right;\">\n",
       "      <th></th>\n",
       "      <th>RGN</th>\n",
       "      <th>SEASON</th>\n",
       "      <th>VHCL_MKCNT</th>\n",
       "      <th>LOAD_DT</th>\n",
       "    </tr>\n",
       "  </thead>\n",
       "  <tbody>\n",
       "    <tr>\n",
       "      <th>7</th>\n",
       "      <td>수도권외</td>\n",
       "      <td>2차계절제_종료</td>\n",
       "      <td>1091526</td>\n",
       "      <td>20230810</td>\n",
       "    </tr>\n",
       "    <tr>\n",
       "      <th>8</th>\n",
       "      <td>수도권외</td>\n",
       "      <td>3차계절제_시작</td>\n",
       "      <td>876652</td>\n",
       "      <td>20230810</td>\n",
       "    </tr>\n",
       "    <tr>\n",
       "      <th>9</th>\n",
       "      <td>수도권외</td>\n",
       "      <td>3차계절제_종료</td>\n",
       "      <td>832753</td>\n",
       "      <td>20230810</td>\n",
       "    </tr>\n",
       "    <tr>\n",
       "      <th>10</th>\n",
       "      <td>수도권외</td>\n",
       "      <td>4차계절제_시작</td>\n",
       "      <td>708947</td>\n",
       "      <td>20230810</td>\n",
       "    </tr>\n",
       "    <tr>\n",
       "      <th>11</th>\n",
       "      <td>수도권외</td>\n",
       "      <td>4차계절제_종료</td>\n",
       "      <td>671728</td>\n",
       "      <td>20230810</td>\n",
       "    </tr>\n",
       "  </tbody>\n",
       "</table>\n",
       "</div>"
      ],
      "text/plain": [
       "     RGN      SEASON  VHCL_MKCNT   LOAD_DT\n",
       "7   수도권외   2차계절제_종료      1091526  20230810\n",
       "8   수도권외   3차계절제_시작       876652  20230810\n",
       "9   수도권외   3차계절제_종료       832753  20230810\n",
       "10  수도권외   4차계절제_시작       708947  20230810\n",
       "11  수도권외   4차계절제_종료       671728  20230810"
      ]
     },
     "execution_count": 11,
     "metadata": {},
     "output_type": "execute_result"
    }
   ],
   "source": [
    "STD_BD_GRD5_LEM_N_MOD.tail()"
   ]
  },
  {
   "cell_type": "code",
   "execution_count": 12,
   "metadata": {},
   "outputs": [],
   "source": [
    "expdf = STD_BD_GRD5_LEM_N_MOD\n",
    "table_nm = 'STD_BD_GRD5_LEM_N_MOD'.upper()\n",
    "\n",
    "# 테이블 생성\n",
    "sql = 'create or replace table ' + table_nm + '( \\n'\n",
    "\n",
    "for idx,column in enumerate(expdf.columns):\n",
    "    if 'float' in expdf[column].dtype.name:\n",
    "        sql += column + ' float'\n",
    "    elif 'int' in expdf[column].dtype.name:\n",
    "        sql += column + ' number'\n",
    "    else:\n",
    "        sql += column + ' varchar(255)'\n",
    "\n",
    "    if len(expdf.columns) - 1 != idx:\n",
    "        sql += ','\n",
    "    sql += '\\n'\n",
    "sql += ')'    \n",
    "we.execute(sql)\n",
    "\n",
    "# 데이터 추가\n",
    "# 5s\n",
    "we.import_from_pandas(expdf, table_nm)"
   ]
  },
  {
   "cell_type": "code",
   "execution_count": 69,
   "metadata": {},
   "outputs": [
    {
     "data": {
      "text/plain": [
       "'create or replace table STD_BD_GRD5_LEM_N_MOD( \\nIDX number,\\nRGN varchar(255),\\nSEASON varchar(255),\\nVHCL_MKCNT varchar(255),\\nLOAD_DT number\\n)'"
      ]
     },
     "execution_count": 69,
     "metadata": {},
     "output_type": "execute_result"
    }
   ],
   "source": [
    "sql"
   ]
  },
  {
   "cell_type": "markdown",
   "metadata": {},
   "source": [
    "## STD_BD_SEASON_CRDN_NOCS_CURSTT"
   ]
  },
  {
   "cell_type": "code",
   "execution_count": 13,
   "metadata": {},
   "outputs": [
    {
     "name": "stdout",
     "output_type": "stream",
     "text": [
      "<class 'pandas.core.frame.DataFrame'>\n",
      "RangeIndex: 973974 entries, 0 to 973973\n",
      "Data columns (total 11 columns):\n",
      " #   Column                 Non-Null Count   Dtype  \n",
      "---  ------                 --------------   -----  \n",
      " 0   LOAD_DT                973974 non-null  int64  \n",
      " 1   VIN                    973974 non-null  object \n",
      " 2   RGN                    973974 non-null  object \n",
      " 3   CTPV                   973974 non-null  object \n",
      " 4   DPF_EXTRNS_YN          973974 non-null  object \n",
      " 5   VHCTY_CD               973962 non-null  object \n",
      " 6   VHCTY_TY               973974 non-null  object \n",
      " 7   SEASON_1ODR_CRDN_NOCS  973974 non-null  float64\n",
      " 8   SEASON_2ODR_CRDN_NOCS  973974 non-null  float64\n",
      " 9   SEASON_3ODR_CRDN_NOCS  973974 non-null  float64\n",
      " 10  SEASON_4ODR_CRDN_NOCS  973974 non-null  float64\n",
      "dtypes: float64(4), int64(1), object(6)\n",
      "memory usage: 81.7+ MB\n"
     ]
    }
   ],
   "source": [
    "STD_BD_SEASON_CRDN_NOCS_CURSTT = pd.read_csv(os.path.join(sys_fold, 'STD_BD_SEASON_CRDN_NOCS_CURSTT.csv'))\n",
    "STD_BD_SEASON_CRDN_NOCS_CURSTT.info()"
   ]
  },
  {
   "cell_type": "code",
   "execution_count": 14,
   "metadata": {},
   "outputs": [],
   "source": [
    "expdf = STD_BD_SEASON_CRDN_NOCS_CURSTT\n",
    "table_nm = 'STD_BD_SEASON_CRDN_NOCS_CURSTT'.upper()\n",
    "\n",
    "# 테이블 생성\n",
    "sql = 'create or replace table ' + table_nm + '( \\n'\n",
    "\n",
    "for idx,column in enumerate(expdf.columns):\n",
    "    # if 'float' in expdf[column].dtype.name:\n",
    "    #     sql += column + ' float'\n",
    "    # elif 'int' in expdf[column].dtype.name:\n",
    "    #     sql += column + ' number'\n",
    "    # else:\n",
    "    sql += column + ' varchar(255)'\n",
    "\n",
    "    if len(expdf.columns) - 1 != idx:\n",
    "        sql += ','\n",
    "    sql += '\\n'\n",
    "sql += ')'    \n",
    "we.execute(sql)\n",
    "\n",
    "# 데이터 추가\n",
    "# 12.6s\n",
    "we.import_from_pandas(expdf, table_nm)"
   ]
  },
  {
   "cell_type": "markdown",
   "metadata": {},
   "source": [
    "## STD_BD_SEASON_DY_AVRG_CRDN_NOCS"
   ]
  },
  {
   "cell_type": "code",
   "execution_count": 15,
   "metadata": {},
   "outputs": [
    {
     "name": "stdout",
     "output_type": "stream",
     "text": [
      "<class 'pandas.core.frame.DataFrame'>\n",
      "RangeIndex: 4 entries, 0 to 3\n",
      "Data columns (total 3 columns):\n",
      " #   Column             Non-Null Count  Dtype  \n",
      "---  ------             --------------  -----  \n",
      " 0   SEASON_ORD         4 non-null      object \n",
      " 1   DY_AVRG_CRDN_NOCS  4 non-null      float64\n",
      " 2   LOAD_DT            4 non-null      int64  \n",
      "dtypes: float64(1), int64(1), object(1)\n",
      "memory usage: 224.0+ bytes\n"
     ]
    }
   ],
   "source": [
    "STD_BD_SEASON_DY_AVRG_CRDN_NOCS = pd.read_csv(os.path.join(sys_fold, 'STD_BD_SEASON_DY_AVRG_CRDN_NOCS.csv'))\n",
    "STD_BD_SEASON_DY_AVRG_CRDN_NOCS.info()"
   ]
  },
  {
   "cell_type": "code",
   "execution_count": 16,
   "metadata": {},
   "outputs": [
    {
     "data": {
      "text/html": [
       "<div>\n",
       "<style scoped>\n",
       "    .dataframe tbody tr th:only-of-type {\n",
       "        vertical-align: middle;\n",
       "    }\n",
       "\n",
       "    .dataframe tbody tr th {\n",
       "        vertical-align: top;\n",
       "    }\n",
       "\n",
       "    .dataframe thead th {\n",
       "        text-align: right;\n",
       "    }\n",
       "</style>\n",
       "<table border=\"1\" class=\"dataframe\">\n",
       "  <thead>\n",
       "    <tr style=\"text-align: right;\">\n",
       "      <th></th>\n",
       "      <th>SEASON_ORD</th>\n",
       "      <th>DY_AVRG_CRDN_NOCS</th>\n",
       "      <th>LOAD_DT</th>\n",
       "    </tr>\n",
       "  </thead>\n",
       "  <tbody>\n",
       "    <tr>\n",
       "      <th>0</th>\n",
       "      <td>1차</td>\n",
       "      <td>0.000000</td>\n",
       "      <td>20230721</td>\n",
       "    </tr>\n",
       "    <tr>\n",
       "      <th>1</th>\n",
       "      <td>2차</td>\n",
       "      <td>811.608333</td>\n",
       "      <td>20230721</td>\n",
       "    </tr>\n",
       "    <tr>\n",
       "      <th>2</th>\n",
       "      <td>3차</td>\n",
       "      <td>706.233333</td>\n",
       "      <td>20230721</td>\n",
       "    </tr>\n",
       "    <tr>\n",
       "      <th>3</th>\n",
       "      <td>4차</td>\n",
       "      <td>291.141667</td>\n",
       "      <td>20230721</td>\n",
       "    </tr>\n",
       "  </tbody>\n",
       "</table>\n",
       "</div>"
      ],
      "text/plain": [
       "  SEASON_ORD  DY_AVRG_CRDN_NOCS   LOAD_DT\n",
       "0         1차           0.000000  20230721\n",
       "1         2차         811.608333  20230721\n",
       "2         3차         706.233333  20230721\n",
       "3         4차         291.141667  20230721"
      ]
     },
     "execution_count": 16,
     "metadata": {},
     "output_type": "execute_result"
    }
   ],
   "source": [
    "STD_BD_SEASON_DY_AVRG_CRDN_NOCS.head()"
   ]
  },
  {
   "cell_type": "code",
   "execution_count": 17,
   "metadata": {},
   "outputs": [],
   "source": [
    "expdf = STD_BD_SEASON_DY_AVRG_CRDN_NOCS\n",
    "table_nm = 'STD_BD_SEASON_DY_AVRG_CRDN_NOCS'.upper()\n",
    "\n",
    "# 테이블 생성\n",
    "sql = 'create or replace table ' + table_nm + '( \\n'\n",
    "\n",
    "for idx,column in enumerate(expdf.columns):\n",
    "    if 'float' in expdf[column].dtype.name:\n",
    "        sql += column + ' float'\n",
    "    elif 'int' in expdf[column].dtype.name:\n",
    "        sql += column + ' number'\n",
    "    else:\n",
    "        sql += column + ' varchar(255)'\n",
    "\n",
    "    if len(expdf.columns) - 1 != idx:\n",
    "        sql += ','\n",
    "    sql += '\\n'\n",
    "sql += ')'    \n",
    "we.execute(sql)\n",
    "\n",
    "# 데이터 추가\n",
    "# 5s\n",
    "we.import_from_pandas(expdf, table_nm)"
   ]
  },
  {
   "cell_type": "code",
   "execution_count": 18,
   "metadata": {},
   "outputs": [
    {
     "data": {
      "text/plain": [
       "'create or replace table STD_BD_SEASON_DY_AVRG_CRDN_NOCS( \\nSEASON_ORD varchar(255),\\nDY_AVRG_CRDN_NOCS float,\\nLOAD_DT number\\n)'"
      ]
     },
     "execution_count": 18,
     "metadata": {},
     "output_type": "execute_result"
    }
   ],
   "source": [
    "sql"
   ]
  },
  {
   "cell_type": "markdown",
   "metadata": {},
   "source": [
    "## STD_BD_SEASON_DSCL_VHCL_CURSTT"
   ]
  },
  {
   "cell_type": "code",
   "execution_count": 6,
   "metadata": {},
   "outputs": [
    {
     "name": "stdout",
     "output_type": "stream",
     "text": [
      "<class 'pandas.core.frame.DataFrame'>\n",
      "RangeIndex: 2 entries, 0 to 1\n",
      "Data columns (total 10 columns):\n",
      " #   Column                         Non-Null Count  Dtype  \n",
      "---  ------                         --------------  -----  \n",
      " 0   DSCL_RGN                       2 non-null      object \n",
      " 1   SEASON_1ODR_CRDN_NOCS          2 non-null      int64  \n",
      " 2   SEASON_2ODR_CRDN_NOCS          2 non-null      int64  \n",
      " 3   SEASON_3ODR_CRDN_NOCS          2 non-null      int64  \n",
      " 4   SEASON_4ODR_CRDN_NOCS          2 non-null      int64  \n",
      " 5   SEASON_1ODR_DY_AVRG_CRDN_NOCS  2 non-null      float64\n",
      " 6   SEASON_2ODR_DY_AVRG_CRDN_NOCS  2 non-null      float64\n",
      " 7   SEASON_3ODR_DY_AVRG_CRDN_NOCS  2 non-null      float64\n",
      " 8   SEASON_4ODR_DY_AVRG_CRDN_NOCS  2 non-null      float64\n",
      " 9   LOAD_DT                        2 non-null      int64  \n",
      "dtypes: float64(4), int64(5), object(1)\n",
      "memory usage: 288.0+ bytes\n"
     ]
    }
   ],
   "source": [
    "STD_BD_SEASON_DSCL_VHCL_CURSTT = pd.read_csv(os.path.join(sys_fold, 'STD_BD_SEASON_DSCL_VHCL_CURSTT.csv'))\n",
    "STD_BD_SEASON_DSCL_VHCL_CURSTT.info()"
   ]
  },
  {
   "cell_type": "code",
   "execution_count": 7,
   "metadata": {},
   "outputs": [],
   "source": [
    "expdf = STD_BD_SEASON_DSCL_VHCL_CURSTT\n",
    "table_nm = 'STD_BD_SEASON_DSCL_VHCL_CURSTT'.upper()\n",
    "\n",
    "# 테이블 생성\n",
    "sql = 'create or replace table ' + table_nm + '( \\n'\n",
    "\n",
    "for idx,column in enumerate(expdf.columns):\n",
    "    # if 'float' in expdf[column].dtype.name:\n",
    "    #     sql += column + ' float'\n",
    "    # elif 'int' in expdf[column].dtype.name:\n",
    "    #     sql += column + ' number'\n",
    "    # else:\n",
    "    sql += column + ' varchar(255)'\n",
    "\n",
    "    if len(expdf.columns) - 1 != idx:\n",
    "        sql += ','\n",
    "    sql += '\\n'\n",
    "sql += ')'    \n",
    "we.execute(sql)\n",
    "\n",
    "# 데이터 추가\n",
    "# 5s\n",
    "we.import_from_pandas(expdf, table_nm)"
   ]
  },
  {
   "cell_type": "markdown",
   "metadata": {},
   "source": [
    "## STD_BD_RUN_LMT_CURSTT"
   ]
  },
  {
   "cell_type": "code",
   "execution_count": 9,
   "metadata": {},
   "outputs": [
    {
     "name": "stdout",
     "output_type": "stream",
     "text": [
      "<class 'pandas.core.frame.DataFrame'>\n",
      "RangeIndex: 781143 entries, 0 to 781142\n",
      "Data columns (total 13 columns):\n",
      " #   Column                 Non-Null Count   Dtype \n",
      "---  ------                 --------------   ----- \n",
      " 0   LOAD_DT                781143 non-null  int64 \n",
      " 1   VIN                    781143 non-null  object\n",
      " 2   VHCTY_CD               507529 non-null  object\n",
      " 3   VHCTY_TY               507529 non-null  object\n",
      " 4   DPF_EXTRNS_YN          370266 non-null  object\n",
      " 5   REG_CTPV               781143 non-null  object\n",
      " 6   DSCL_CTPV              781143 non-null  object\n",
      " 7   SEASON_1ODR_CRDN_NOCS  781143 non-null  int64 \n",
      " 8   SEASON_2ODR_CRDN_NOCS  781143 non-null  int64 \n",
      " 9   SEASON_3ODR_CRDN_NOCS  781143 non-null  int64 \n",
      " 10  SEASON_4ODR_CRDN_NOCS  781143 non-null  int64 \n",
      " 11  EMGN_CRDN_NOCS         781143 non-null  int64 \n",
      " 12  ORDITM_CRDN_NOCS       781143 non-null  int64 \n",
      "dtypes: int64(7), object(6)\n",
      "memory usage: 77.5+ MB\n"
     ]
    }
   ],
   "source": [
    "# STD_BD_RUN_LMT_CURSTT = pd.read_csv(os.path.join(sys_fold, 'STD_BD_RUN_LMT_CURSTT.csv'))\n",
    "STD_BD_RUN_LMT_CURSTT = pd.read_csv(os.path.join('E:/D드라이브/data/big2/sys', 'STD_BD_RUN_LMT_CURSTT.csv'))\n",
    "STD_BD_RUN_LMT_CURSTT.info()"
   ]
  },
  {
   "cell_type": "code",
   "execution_count": 10,
   "metadata": {},
   "outputs": [
    {
     "data": {
      "text/plain": [
       "array([nan, '유'], dtype=object)"
      ]
     },
     "execution_count": 10,
     "metadata": {},
     "output_type": "execute_result"
    }
   ],
   "source": [
    "STD_BD_RUN_LMT_CURSTT['DPF_EXTRNS_YN'].unique()"
   ]
  },
  {
   "cell_type": "code",
   "execution_count": 9,
   "metadata": {},
   "outputs": [],
   "source": [
    "expdf = STD_BD_RUN_LMT_CURSTT\n",
    "table_nm = 'STD_BD_RUN_LMT_CURSTT'.upper()\n",
    "\n",
    "# 테이블 생성\n",
    "sql = 'create or replace table ' + table_nm + '( \\n'\n",
    "\n",
    "for idx,column in enumerate(expdf.columns):\n",
    "    # if 'float' in expdf[column].dtype.name:\n",
    "    #     sql += column + ' float'\n",
    "    # elif 'int' in expdf[column].dtype.name:\n",
    "    #     sql += column + ' number'\n",
    "    # else:\n",
    "    sql += column + ' varchar(255)'\n",
    "\n",
    "    if len(expdf.columns) - 1 != idx:\n",
    "        sql += ','\n",
    "    sql += '\\n'\n",
    "sql += ')'    \n",
    "we.execute(sql)\n",
    "\n",
    "# 데이터 추가\n",
    "# 5s\n",
    "we.import_from_pandas(expdf, table_nm)"
   ]
  },
  {
   "cell_type": "markdown",
   "metadata": {},
   "source": [
    "## STD_BD_ORDITM_DSCL_CURSTT"
   ]
  },
  {
   "cell_type": "code",
   "execution_count": 20,
   "metadata": {},
   "outputs": [
    {
     "name": "stdout",
     "output_type": "stream",
     "text": [
      "<class 'pandas.core.frame.DataFrame'>\n",
      "RangeIndex: 84293 entries, 0 to 84292\n",
      "Data columns (total 6 columns):\n",
      " #   Column     Non-Null Count  Dtype  \n",
      "---  ------     --------------  -----  \n",
      " 0   VIN        84293 non-null  object \n",
      " 1   DSCL_YR    84293 non-null  int64  \n",
      " 2   DSCL_NOCS  84293 non-null  float64\n",
      " 3   RGN        84293 non-null  object \n",
      " 4   CTPV       84293 non-null  object \n",
      " 5   LOAD_DT    84293 non-null  int64  \n",
      "dtypes: float64(1), int64(2), object(3)\n",
      "memory usage: 3.9+ MB\n"
     ]
    }
   ],
   "source": [
    "STD_BD_ORDITM_DSCL_CURSTT = pd.read_csv(os.path.join(sys_fold, 'STD_BD_ORDITM_DSCL_CURSTT.csv'))\n",
    "STD_BD_ORDITM_DSCL_CURSTT.info()"
   ]
  },
  {
   "cell_type": "code",
   "execution_count": 24,
   "metadata": {},
   "outputs": [
    {
     "data": {
      "text/plain": [
       "array(['경상북도', '서울특별시', '부산광역시', '강원특별자치도', '충청북도', '경기도', '대전광역시',\n",
       "       '대구광역시', '경상남도', '전라남도', '인천광역시', '충청남도', '광주광역시', '울산광역시', '전라북도',\n",
       "       '제주특별자치도', '세종특별자치시'], dtype=object)"
      ]
     },
     "execution_count": 24,
     "metadata": {},
     "output_type": "execute_result"
    }
   ],
   "source": [
    "STD_BD_ORDITM_DSCL_CURSTT['CTPV'].unique()"
   ]
  },
  {
   "cell_type": "code",
   "execution_count": 21,
   "metadata": {},
   "outputs": [],
   "source": [
    "expdf = STD_BD_ORDITM_DSCL_CURSTT\n",
    "table_nm = 'STD_BD_ORDITM_DSCL_CURSTT'.upper()\n",
    "\n",
    "# 테이블 생성\n",
    "sql = 'create or replace table ' + table_nm + '( \\n'\n",
    "\n",
    "for idx,column in enumerate(expdf.columns):\n",
    "    # if 'float' in expdf[column].dtype.name:\n",
    "    #     sql += column + ' float'\n",
    "    # elif 'int' in expdf[column].dtype.name:\n",
    "    #     sql += column + ' number'\n",
    "    # else:\n",
    "    sql += column + ' varchar(255)'\n",
    "\n",
    "    if len(expdf.columns) - 1 != idx:\n",
    "        sql += ','\n",
    "    sql += '\\n'\n",
    "sql += ')'    \n",
    "we.execute(sql)\n",
    "\n",
    "# 데이터 추가\n",
    "# 5s\n",
    "we.import_from_pandas(expdf, table_nm)"
   ]
  },
  {
   "cell_type": "markdown",
   "metadata": {},
   "source": [
    "## STD_BD_SEASON_DSCL_RGN_CURSTT"
   ]
  },
  {
   "cell_type": "code",
   "execution_count": 22,
   "metadata": {},
   "outputs": [
    {
     "name": "stdout",
     "output_type": "stream",
     "text": [
      "<class 'pandas.core.frame.DataFrame'>\n",
      "RangeIndex: 753349 entries, 0 to 753348\n",
      "Data columns (total 12 columns):\n",
      " #   Column                 Non-Null Count   Dtype  \n",
      "---  ------                 --------------   -----  \n",
      " 0   DSCL_RGN               753349 non-null  object \n",
      " 1   DSCL_CTPV              753349 non-null  object \n",
      " 2   DSCL_CTPV_CD           753349 non-null  int64  \n",
      " 3   REG_CTPV               753349 non-null  object \n",
      " 4   VIN                    753349 non-null  object \n",
      " 5   SEASON_1ODR_CRDN_NOCS  0 non-null       float64\n",
      " 6   SEASON_2ODR_CRDN_NOCS  89700 non-null   float64\n",
      " 7   SEASON_3ODR_CRDN_NOCS  45747 non-null   float64\n",
      " 8   SEASON_4ODR_CRDN_NOCS  38255 non-null   float64\n",
      " 9   VHCTY_CD               486207 non-null  object \n",
      " 10  VHCTY_TY               486207 non-null  object \n",
      " 11  LOAD_DT                753349 non-null  int64  \n",
      "dtypes: float64(4), int64(2), object(6)\n",
      "memory usage: 69.0+ MB\n"
     ]
    }
   ],
   "source": [
    "STD_BD_SEASON_DSCL_RGN_CURSTT = pd.read_csv(os.path.join(sys_fold, 'STD_BD_SEASON_DSCL_RGN_CURSTT.csv'))\n",
    "STD_BD_SEASON_DSCL_RGN_CURSTT.info()"
   ]
  },
  {
   "cell_type": "code",
   "execution_count": 23,
   "metadata": {},
   "outputs": [],
   "source": [
    "expdf = STD_BD_SEASON_DSCL_RGN_CURSTT\n",
    "table_nm = 'STD_BD_SEASON_DSCL_RGN_CURSTT'.upper()\n",
    "\n",
    "# 테이블 생성\n",
    "sql = 'create or replace table ' + table_nm + '( \\n'\n",
    "\n",
    "for idx,column in enumerate(expdf.columns):\n",
    "    # if 'float' in expdf[column].dtype.name:\n",
    "    #     sql += column + ' float'\n",
    "    # elif 'int' in expdf[column].dtype.name:\n",
    "    #     sql += column + ' number'\n",
    "    # else:\n",
    "    sql += column + ' varchar(255)'\n",
    "\n",
    "    if len(expdf.columns) - 1 != idx:\n",
    "        sql += ','\n",
    "    sql += '\\n'\n",
    "sql += ')'    \n",
    "we.execute(sql)\n",
    "\n",
    "# 데이터 추가\n",
    "# 12.6s\n",
    "we.import_from_pandas(expdf, table_nm)"
   ]
  },
  {
   "cell_type": "markdown",
   "metadata": {},
   "source": [
    "## STD_BD_DAT_GRD5_REDUC_BIZ"
   ]
  },
  {
   "cell_type": "code",
   "execution_count": 79,
   "metadata": {},
   "outputs": [
    {
     "name": "stdout",
     "output_type": "stream",
     "text": [
      "<class 'pandas.core.frame.DataFrame'>\n",
      "RangeIndex: 4 entries, 0 to 3\n",
      "Data columns (total 9 columns):\n",
      " #   Column           Non-Null Count  Dtype  \n",
      "---  ------           --------------  -----  \n",
      " 0   IDX              4 non-null      int64  \n",
      " 1   YR               4 non-null      int64  \n",
      " 2   VHCL_MKCNT       4 non-null      float64\n",
      " 3   NTRL_DCLN        3 non-null      float64\n",
      " 4   ELPDSRC          4 non-null      int64  \n",
      " 5   RDCDVC_1KND      4 non-null      float64\n",
      " 6   RDCDVC_1KND_SCR  4 non-null      float64\n",
      " 7   UNMNTNG          4 non-null      float64\n",
      " 8   LOAD_DT          4 non-null      int64  \n",
      "dtypes: float64(5), int64(4)\n",
      "memory usage: 416.0 bytes\n"
     ]
    }
   ],
   "source": [
    "# 0s\n",
    "STD_BD_DAT_GRD5_REDUC_BIZ = pd.read_csv(os.path.join(sys_fold, 'STD_BD_DAT_GRD5_REDUC_BIZ.csv'))\n",
    "STD_BD_DAT_GRD5_REDUC_BIZ.info()"
   ]
  },
  {
   "cell_type": "code",
   "execution_count": 80,
   "metadata": {},
   "outputs": [],
   "source": [
    "expdf = STD_BD_DAT_GRD5_REDUC_BIZ\n",
    "table_nm = 'STD_BD_DAT_GRD5_REDUC_BIZ'.upper()\n",
    "\n",
    "# 테이블 생성\n",
    "sql = 'create or replace table ' + table_nm + '( \\n'\n",
    "\n",
    "for idx,column in enumerate(expdf.columns):\n",
    "    if 'float' in expdf[column].dtype.name:\n",
    "        sql += column + ' float'\n",
    "    elif 'int' in expdf[column].dtype.name:\n",
    "        sql += column + ' number'\n",
    "    else:\n",
    "        sql += column + ' varchar(255)'\n",
    "\n",
    "    if len(expdf.columns) - 1 != idx:\n",
    "        sql += ','\n",
    "    sql += '\\n'\n",
    "sql += ')'    \n",
    "we.execute(sql)\n",
    "\n",
    "# 데이터 추가\n",
    "# 12.6s\n",
    "we.import_from_pandas(expdf, table_nm)"
   ]
  },
  {
   "cell_type": "code",
   "execution_count": 81,
   "metadata": {},
   "outputs": [
    {
     "data": {
      "text/plain": [
       "'create or replace table STD_BD_DAT_GRD5_REDUC_BIZ( \\nIDX number,\\nYR number,\\nVHCL_MKCNT float,\\nNTRL_DCLN float,\\nELPDSRC number,\\nRDCDVC_1KND float,\\nRDCDVC_1KND_SCR float,\\nUNMNTNG float,\\nLOAD_DT number\\n)'"
      ]
     },
     "execution_count": 81,
     "metadata": {},
     "output_type": "execute_result"
    }
   ],
   "source": [
    "sql"
   ]
  },
  {
   "cell_type": "markdown",
   "metadata": {},
   "source": [
    "## STD_BD_DAT_RUN_LMT_CURSTT"
   ]
  },
  {
   "cell_type": "code",
   "execution_count": 82,
   "metadata": {},
   "outputs": [
    {
     "name": "stdout",
     "output_type": "stream",
     "text": [
      "<class 'pandas.core.frame.DataFrame'>\n",
      "RangeIndex: 502 entries, 0 to 501\n",
      "Data columns (total 10 columns):\n",
      " #   Column           Non-Null Count  Dtype  \n",
      "---  ------           --------------  -----  \n",
      " 0   IDX              502 non-null    int64  \n",
      " 1   SEASON           502 non-null    object \n",
      " 2   RGN              502 non-null    object \n",
      " 3   CTPV             502 non-null    object \n",
      " 4   VHCTY_CD         502 non-null    object \n",
      " 5   VHCTY_TY         502 non-null    object \n",
      " 6   DSCL_VHCL_MKCNT  502 non-null    int64  \n",
      " 7   UNLEM            502 non-null    int64  \n",
      " 8   DUP_DSCL_MKCNT   433 non-null    float64\n",
      " 9   LOAD_DT          502 non-null    int64  \n",
      "dtypes: float64(1), int64(4), object(5)\n",
      "memory usage: 39.3+ KB\n"
     ]
    }
   ],
   "source": [
    "# 0s\n",
    "STD_BD_DAT_RUN_LMT_CURSTT = pd.read_csv(os.path.join(sys_fold, 'STD_BD_DAT_RUN_LMT_CURSTT.csv'))\n",
    "STD_BD_DAT_RUN_LMT_CURSTT.info()"
   ]
  },
  {
   "cell_type": "code",
   "execution_count": 83,
   "metadata": {},
   "outputs": [],
   "source": [
    "expdf = STD_BD_DAT_RUN_LMT_CURSTT\n",
    "table_nm = 'STD_BD_DAT_RUN_LMT_CURSTT'.upper()\n",
    "\n",
    "# 테이블 생성\n",
    "sql = 'create or replace table ' + table_nm + '( \\n'\n",
    "\n",
    "for idx,column in enumerate(expdf.columns):\n",
    "    # if 'float' in expdf[column].dtype.name:\n",
    "    #     sql += column + ' float'\n",
    "    # elif 'int' in expdf[column].dtype.name:\n",
    "    #     sql += column + ' number'\n",
    "    # else:\n",
    "    sql += column + ' varchar(255)'\n",
    "\n",
    "    if len(expdf.columns) - 1 != idx:\n",
    "        sql += ','\n",
    "    sql += '\\n'\n",
    "sql += ')'    \n",
    "we.execute(sql)\n",
    "\n",
    "# 데이터 추가\n",
    "# 12.6s\n",
    "we.import_from_pandas(expdf, table_nm)"
   ]
  },
  {
   "cell_type": "markdown",
   "metadata": {},
   "source": [
    "## STD_BD_GRD4_DS_CRRLTN_CFFCNT"
   ]
  },
  {
   "cell_type": "code",
   "execution_count": 84,
   "metadata": {},
   "outputs": [
    {
     "name": "stdout",
     "output_type": "stream",
     "text": [
      "<class 'pandas.core.frame.DataFrame'>\n",
      "RangeIndex: 4 entries, 0 to 3\n",
      "Data columns (total 8 columns):\n",
      " #   Column               Non-Null Count  Dtype  \n",
      "---  ------               --------------  -----  \n",
      " 0   IDX                  4 non-null      int64  \n",
      " 1   LIST                 4 non-null      object \n",
      " 2   NOLOD_SMO_MEVLU1     4 non-null      float64\n",
      " 3   DY_AVRG_DRVNG_DSTNC  4 non-null      float64\n",
      " 4   RCNT_INSP_ELPSD_WHL  4 non-null      float64\n",
      " 5   RUN_LMT_NOCS         4 non-null      float64\n",
      " 6   TOT_CRRLTN_CFFCNT    4 non-null      float64\n",
      " 7   LOAD_DT              4 non-null      int64  \n",
      "dtypes: float64(5), int64(2), object(1)\n",
      "memory usage: 384.0+ bytes\n"
     ]
    }
   ],
   "source": [
    "STD_BD_GRD4_DS_CRRLTN_CFFCNT = pd.read_csv(os.path.join(sys_fold, 'STD_BD_GRD4_DS_CRRLTN_CFFCNT.csv'))\n",
    "STD_BD_GRD4_DS_CRRLTN_CFFCNT.info()"
   ]
  },
  {
   "cell_type": "code",
   "execution_count": 85,
   "metadata": {},
   "outputs": [],
   "source": [
    "expdf = STD_BD_GRD4_DS_CRRLTN_CFFCNT\n",
    "table_nm = 'STD_BD_GRD4_DS_CRRLTN_CFFCNT'.upper()\n",
    "\n",
    "# 테이블 생성\n",
    "sql = 'create or replace table ' + table_nm + '( \\n'\n",
    "\n",
    "for idx,column in enumerate(expdf.columns):\n",
    "    # if 'float' in expdf[column].dtype.name:\n",
    "    #     sql += column + ' float'\n",
    "    # elif 'int' in expdf[column].dtype.name:\n",
    "    #     sql += column + ' number'\n",
    "    # else:\n",
    "    sql += column + ' varchar(255)'\n",
    "\n",
    "    if len(expdf.columns) - 1 != idx:\n",
    "        sql += ','\n",
    "    sql += '\\n'\n",
    "sql += ')'    \n",
    "we.execute(sql)\n",
    "\n",
    "# 데이터 추가\n",
    "# 5s\n",
    "we.import_from_pandas(expdf, table_nm)"
   ]
  },
  {
   "cell_type": "markdown",
   "metadata": {},
   "source": [
    "## STD_BD_GRD4_LEM_PRIO_ORD_SELCT_CURSTT"
   ]
  },
  {
   "cell_type": "code",
   "execution_count": 86,
   "metadata": {},
   "outputs": [
    {
     "name": "stdout",
     "output_type": "stream",
     "text": [
      "<class 'pandas.core.frame.DataFrame'>\n",
      "RangeIndex: 1052791 entries, 0 to 1052790\n",
      "Data columns (total 17 columns):\n",
      " #   Column               Non-Null Count    Dtype  \n",
      "---  ------               --------------    -----  \n",
      " 0   IDX                  1052791 non-null  int64  \n",
      " 1   LOAD_DT              1052791 non-null  int64  \n",
      " 2   VIN                  1052791 non-null  object \n",
      " 3   VHRNO                1052791 non-null  object \n",
      " 4   STDG_CD              1052791 non-null  int64  \n",
      " 5   CTPV_NM              1052791 non-null  object \n",
      " 6   SGG_NM               1046559 non-null  object \n",
      " 7   YRIDNW               1052791 non-null  int64  \n",
      " 8   PURPS_CD2            1052791 non-null  object \n",
      " 9   VHCTY_CD             1052791 non-null  object \n",
      " 10  VHCTY_TY             1052791 non-null  object \n",
      " 11  PRIO_GRD             1052791 non-null  int64  \n",
      " 12  SELCT_PNT            1024883 non-null  float64\n",
      " 13  NOLOD_SMO_MEVLU1     1047848 non-null  float64\n",
      " 14  DY_AVRG_DRVNG_DSTNC  1052791 non-null  float64\n",
      " 15  RCNT_INSP_ELPSD_WHL  1047969 non-null  float64\n",
      " 16  RUN_LMT_NOCS         1052791 non-null  float64\n",
      "dtypes: float64(5), int64(5), object(7)\n",
      "memory usage: 136.5+ MB\n"
     ]
    }
   ],
   "source": [
    "STD_BD_GRD4_LEM_PRIO_ORD_SELCT_CURSTT = pd.read_csv(os.path.join(sys_fold, 'STD_BD_GRD4_LEM_PRIO_ORD_SELCT_CURSTT.csv'))\n",
    "STD_BD_GRD4_LEM_PRIO_ORD_SELCT_CURSTT.info()"
   ]
  },
  {
   "cell_type": "code",
   "execution_count": 87,
   "metadata": {},
   "outputs": [],
   "source": [
    "expdf = STD_BD_GRD4_LEM_PRIO_ORD_SELCT_CURSTT\n",
    "table_nm = 'STD_BD_GRD4_LEM_PRIO_ORD_SELCT_CURSTT'.upper()\n",
    "\n",
    "# 테이블 생성\n",
    "sql = 'create or replace table ' + table_nm + '( \\n'\n",
    "\n",
    "for idx,column in enumerate(expdf.columns):\n",
    "    # if 'float' in expdf[column].dtype.name:\n",
    "    #     sql += column + ' float'\n",
    "    # elif 'int' in expdf[column].dtype.name:\n",
    "    #     sql += column + ' number'\n",
    "    # else:\n",
    "    sql += column + ' varchar(255)'\n",
    "\n",
    "    if len(expdf.columns) - 1 != idx:\n",
    "        sql += ','\n",
    "    sql += '\\n'\n",
    "sql += ')'    \n",
    "we.execute(sql)\n",
    "\n",
    "# 데이터 추가\n",
    "# 12.6s\n",
    "we.import_from_pandas(expdf, table_nm)"
   ]
  },
  {
   "cell_type": "markdown",
   "metadata": {},
   "source": [
    "## STD_BD_GRD5_DS_CRRLTN_CFFCNT"
   ]
  },
  {
   "cell_type": "code",
   "execution_count": 88,
   "metadata": {},
   "outputs": [
    {
     "name": "stdout",
     "output_type": "stream",
     "text": [
      "<class 'pandas.core.frame.DataFrame'>\n",
      "RangeIndex: 4 entries, 0 to 3\n",
      "Data columns (total 8 columns):\n",
      " #   Column               Non-Null Count  Dtype  \n",
      "---  ------               --------------  -----  \n",
      " 0   IDX                  4 non-null      int64  \n",
      " 1   LIST                 4 non-null      object \n",
      " 2   NOLOD_SMO_MEVLU1     4 non-null      float64\n",
      " 3   DY_AVRG_DRVNG_DSTNC  4 non-null      float64\n",
      " 4   RCNT_INSP_ELPSD_WHL  4 non-null      float64\n",
      " 5   RUN_LMT_NOCS         4 non-null      float64\n",
      " 6   TOT_CRRLTN_CFFCNT    4 non-null      float64\n",
      " 7   LOAD_DT              4 non-null      int64  \n",
      "dtypes: float64(5), int64(2), object(1)\n",
      "memory usage: 384.0+ bytes\n"
     ]
    }
   ],
   "source": [
    "STD_BD_GRD5_DS_CRRLTN_CFFCNT = pd.read_csv(os.path.join(sys_fold, 'STD_BD_GRD5_DS_CRRLTN_CFFCNT.csv'))\n",
    "STD_BD_GRD5_DS_CRRLTN_CFFCNT.info()"
   ]
  },
  {
   "cell_type": "code",
   "execution_count": 89,
   "metadata": {},
   "outputs": [],
   "source": [
    "expdf = STD_BD_GRD5_DS_CRRLTN_CFFCNT\n",
    "table_nm = 'STD_BD_GRD5_DS_CRRLTN_CFFCNT'.upper()\n",
    "\n",
    "# 테이블 생성\n",
    "sql = 'create or replace table ' + table_nm + '( \\n'\n",
    "\n",
    "for idx,column in enumerate(expdf.columns):\n",
    "    # if 'float' in expdf[column].dtype.name:\n",
    "    #     sql += column + ' float'\n",
    "    # elif 'int' in expdf[column].dtype.name:\n",
    "    #     sql += column + ' number'\n",
    "    # else:\n",
    "    sql += column + ' varchar(255)'\n",
    "\n",
    "    if len(expdf.columns) - 1 != idx:\n",
    "        sql += ','\n",
    "    sql += '\\n'\n",
    "sql += ')'    \n",
    "we.execute(sql)\n",
    "\n",
    "# 데이터 추가\n",
    "# 5s\n",
    "we.import_from_pandas(expdf, table_nm)"
   ]
  },
  {
   "cell_type": "markdown",
   "metadata": {},
   "source": [
    "## STD_BD_GRD5_LEM_PRIO_ORD_SELCT_CURSTT"
   ]
  },
  {
   "cell_type": "code",
   "execution_count": 90,
   "metadata": {},
   "outputs": [
    {
     "name": "stdout",
     "output_type": "stream",
     "text": [
      "<class 'pandas.core.frame.DataFrame'>\n",
      "RangeIndex: 943881 entries, 0 to 943880\n",
      "Data columns (total 18 columns):\n",
      " #   Column               Non-Null Count   Dtype  \n",
      "---  ------               --------------   -----  \n",
      " 0   IDX                  943881 non-null  int64  \n",
      " 1   VIN                  943881 non-null  object \n",
      " 2   VHRNO                943881 non-null  object \n",
      " 3   STDG_CD              943881 non-null  int64  \n",
      " 4   CTPV_NM              943881 non-null  object \n",
      " 5   SGG_NM               940392 non-null  object \n",
      " 6   YRIDNW               943881 non-null  int64  \n",
      " 7   PURPS_CD2            943881 non-null  object \n",
      " 8   VHCTY_CD             943871 non-null  object \n",
      " 9   VHCTY_TY             943881 non-null  object \n",
      " 10  RDCDVC               281483 non-null  object \n",
      " 11  PRIO_GRD             943881 non-null  int64  \n",
      " 12  SELCT_PNT            555873 non-null  float64\n",
      " 13  NOLOD_SMO_MEVLU1     704145 non-null  float64\n",
      " 14  DY_AVRG_DRVNG_DSTNC  943881 non-null  float64\n",
      " 15  RCNT_INSP_ELPSD_WHL  706055 non-null  float64\n",
      " 16  RUN_LMT_NOCS         943881 non-null  float64\n",
      " 17  LOAD_DT              943881 non-null  int64  \n",
      "dtypes: float64(5), int64(5), object(8)\n",
      "memory usage: 129.6+ MB\n"
     ]
    }
   ],
   "source": [
    "STD_BD_GRD5_LEM_PRIO_ORD_SELCT_CURSTT = pd.read_csv(os.path.join(sys_fold, 'STD_BD_GRD5_LEM_PRIO_ORD_SELCT_CURSTT.csv'))\n",
    "STD_BD_GRD5_LEM_PRIO_ORD_SELCT_CURSTT.info()"
   ]
  },
  {
   "cell_type": "code",
   "execution_count": 91,
   "metadata": {},
   "outputs": [],
   "source": [
    "expdf = STD_BD_GRD5_LEM_PRIO_ORD_SELCT_CURSTT\n",
    "table_nm = 'STD_BD_GRD5_LEM_PRIO_ORD_SELCT_CURSTT'.upper()\n",
    "\n",
    "# 테이블 생성\n",
    "sql = 'create or replace table ' + table_nm + '( \\n'\n",
    "\n",
    "for idx,column in enumerate(expdf.columns):\n",
    "    # if 'float' in expdf[column].dtype.name:\n",
    "    #     sql += column + ' float'\n",
    "    # elif 'int' in expdf[column].dtype.name:\n",
    "    #     sql += column + ' number'\n",
    "    # else:\n",
    "    sql += column + ' varchar(255)'\n",
    "\n",
    "    if len(expdf.columns) - 1 != idx:\n",
    "        sql += ','\n",
    "    sql += '\\n'\n",
    "sql += ')'    \n",
    "we.execute(sql)\n",
    "\n",
    "# 데이터 추가\n",
    "# 12.6s\n",
    "we.import_from_pandas(expdf, table_nm)"
   ]
  },
  {
   "cell_type": "markdown",
   "metadata": {},
   "source": [
    "## STD_BD_DAT_LEM_SELCT"
   ]
  },
  {
   "cell_type": "code",
   "execution_count": 92,
   "metadata": {},
   "outputs": [
    {
     "name": "stdout",
     "output_type": "stream",
     "text": [
      "<class 'pandas.core.frame.DataFrame'>\n",
      "RangeIndex: 397 entries, 0 to 396\n",
      "Data columns (total 14 columns):\n",
      " #   Column               Non-Null Count  Dtype  \n",
      "---  ------               --------------  -----  \n",
      " 0   IDX                  397 non-null    int64  \n",
      " 1   CTPV                 397 non-null    object \n",
      " 2   EXHST_GAS_GRD_CD     397 non-null    int64  \n",
      " 3   VHCTY_CD             397 non-null    object \n",
      " 4   VHCTY_TY             397 non-null    object \n",
      " 5   SELCT_MKCNT          397 non-null    float64\n",
      " 6   SENO1_MKCNT          397 non-null    float64\n",
      " 7   SENO1_RT             397 non-null    float64\n",
      " 8   SENO2_MKCNT          397 non-null    float64\n",
      " 9   SENO2_RT             397 non-null    float64\n",
      " 10  SENO3_MKCNT          397 non-null    float64\n",
      " 11  SENO3_RT             397 non-null    float64\n",
      " 12  RDCDVC_EXTRNS_MKCNT  397 non-null    int64  \n",
      " 13  LOAD_DT              397 non-null    int64  \n",
      "dtypes: float64(7), int64(4), object(3)\n",
      "memory usage: 43.5+ KB\n"
     ]
    }
   ],
   "source": [
    "# 0s\n",
    "STD_BD_DAT_LEM_SELCT = pd.read_csv(os.path.join(sys_fold, 'STD_BD_DAT_LEM_SELCT.csv'))\n",
    "STD_BD_DAT_LEM_SELCT.info()"
   ]
  },
  {
   "cell_type": "code",
   "execution_count": 93,
   "metadata": {},
   "outputs": [],
   "source": [
    "expdf = STD_BD_DAT_LEM_SELCT\n",
    "table_nm = 'STD_BD_DAT_LEM_SELCT'.upper()\n",
    "\n",
    "# 테이블 생성\n",
    "sql = 'create or replace table ' + table_nm + '( \\n'\n",
    "\n",
    "for idx,column in enumerate(expdf.columns):\n",
    "    # if 'float' in expdf[column].dtype.name:\n",
    "    #     sql += column + ' float'\n",
    "    # elif 'int' in expdf[column].dtype.name:\n",
    "    #     sql += column + ' number'\n",
    "    # else:\n",
    "    sql += column + ' varchar(255)'\n",
    "\n",
    "    if len(expdf.columns) - 1 != idx:\n",
    "        sql += ','\n",
    "    sql += '\\n'\n",
    "sql += ')'    \n",
    "we.execute(sql)\n",
    "\n",
    "# 데이터 추가\n",
    "# 1s\n",
    "we.import_from_pandas(expdf, table_nm)"
   ]
  },
  {
   "cell_type": "markdown",
   "metadata": {},
   "source": [
    "## STD_BD_DAT_SELCT_PNT_CURSTT"
   ]
  },
  {
   "cell_type": "code",
   "execution_count": 94,
   "metadata": {},
   "outputs": [
    {
     "name": "stdout",
     "output_type": "stream",
     "text": [
      "<class 'pandas.core.frame.DataFrame'>\n",
      "RangeIndex: 160 entries, 0 to 159\n",
      "Data columns (total 11 columns):\n",
      " #   Column               Non-Null Count  Dtype  \n",
      "---  ------               --------------  -----  \n",
      " 0   IDX                  160 non-null    int64  \n",
      " 1   EXHST_GAS_GRD_CD     160 non-null    int64  \n",
      " 2   SELCT_PNT_RNG        160 non-null    object \n",
      " 3   VHCTY_CD             160 non-null    object \n",
      " 4   VHCTY_TY             160 non-null    object \n",
      " 5   VHCL_MKCNT           160 non-null    int64  \n",
      " 6   SMO_MSRMT_VAL        160 non-null    float64\n",
      " 7   DY_AVRG_DRVNG_DSTNC  160 non-null    float64\n",
      " 8   RCNT_INSP_ELPSD_WHL  160 non-null    float64\n",
      " 9   RUN_LMT_NOCS         160 non-null    float64\n",
      " 10  LOAD_DT              160 non-null    int64  \n",
      "dtypes: float64(4), int64(4), object(3)\n",
      "memory usage: 13.9+ KB\n"
     ]
    }
   ],
   "source": [
    "# 0s\n",
    "STD_BD_DAT_SELCT_PNT_CURSTT = pd.read_csv(os.path.join(sys_fold, 'STD_BD_DAT_SELCT_PNT_CURSTT.csv'))\n",
    "STD_BD_DAT_SELCT_PNT_CURSTT.info()"
   ]
  },
  {
   "cell_type": "code",
   "execution_count": 95,
   "metadata": {},
   "outputs": [],
   "source": [
    "expdf = STD_BD_DAT_SELCT_PNT_CURSTT\n",
    "table_nm = 'STD_BD_DAT_SELCT_PNT_CURSTT'.upper()\n",
    "\n",
    "# 테이블 생성\n",
    "sql = 'create or replace table ' + table_nm + '( \\n'\n",
    "\n",
    "for idx,column in enumerate(expdf.columns):\n",
    "    # if 'float' in expdf[column].dtype.name:\n",
    "    #     sql += column + ' float'\n",
    "    # elif 'int' in expdf[column].dtype.name:\n",
    "    #     sql += column + ' number'\n",
    "    # else:\n",
    "    sql += column + ' varchar(255)'\n",
    "\n",
    "    if len(expdf.columns) - 1 != idx:\n",
    "        sql += ','\n",
    "    sql += '\\n'\n",
    "sql += ')'    \n",
    "we.execute(sql)\n",
    "\n",
    "# 데이터 추가\n",
    "# 1s\n",
    "we.import_from_pandas(expdf, table_nm)"
   ]
  },
  {
   "cell_type": "markdown",
   "metadata": {},
   "source": [
    "# 동양 요청 파일"
   ]
  },
  {
   "cell_type": "markdown",
   "metadata": {},
   "source": [
    "## STD_BD_CAR_CURSTT_MOD_4RD_INS"
   ]
  },
  {
   "cell_type": "code",
   "execution_count": 96,
   "metadata": {},
   "outputs": [],
   "source": [
    "# # 0s\n",
    "# STD_BD_CAR_CURSTT_MOD_4RD_INS = pd.read_csv(os.path.join(sys_fold, 'STD_BD_CAR_CURSTT_MOD_4RD_INS.csv'))\n",
    "# STD_BD_CAR_CURSTT_MOD_4RD_INS.info()"
   ]
  },
  {
   "cell_type": "code",
   "execution_count": 97,
   "metadata": {},
   "outputs": [],
   "source": [
    "# expdf = STD_BD_CAR_CURSTT_MOD_4RD_INS\n",
    "# table_nm = 'STD_BD_CAR_CURSTT_MOD_4RD_INS'.upper()\n",
    "\n",
    "# # 테이블 생성\n",
    "# sql = 'create or replace table ' + table_nm + '( \\n'\n",
    "\n",
    "# for idx,column in enumerate(expdf.columns):\n",
    "#     if 'float' in expdf[column].dtype.name:\n",
    "#         sql += column + ' float'\n",
    "#     elif 'int' in expdf[column].dtype.name:\n",
    "#         sql += column + ' number'\n",
    "#     else:\n",
    "#         sql += column + ' varchar(255)'\n",
    "\n",
    "#     if len(expdf.columns) - 1 != idx:\n",
    "#         sql += ','\n",
    "#     sql += '\\n'\n",
    "# sql += ')'    \n",
    "# we.execute(sql)\n",
    "\n",
    "# # 데이터 추가\n",
    "# # 1s\n",
    "# we.import_from_pandas(expdf, table_nm)"
   ]
  },
  {
   "cell_type": "code",
   "execution_count": 98,
   "metadata": {},
   "outputs": [],
   "source": [
    "# sql"
   ]
  },
  {
   "cell_type": "markdown",
   "metadata": {},
   "source": [
    "## STD_BD_CAR_CURSTT_MOD2_4RD_INS"
   ]
  },
  {
   "cell_type": "code",
   "execution_count": 99,
   "metadata": {},
   "outputs": [],
   "source": [
    "# # 0s\n",
    "# STD_BD_CAR_CURSTT_MOD2_4RD_INS = pd.read_csv(os.path.join(sys_fold, 'STD_BD_CAR_CURSTT_MOD2_4RD_INS.csv'))\n",
    "# STD_BD_CAR_CURSTT_MOD2_4RD_INS.info()"
   ]
  },
  {
   "cell_type": "code",
   "execution_count": 100,
   "metadata": {},
   "outputs": [],
   "source": [
    "# expdf = STD_BD_CAR_CURSTT_MOD2_4RD_INS\n",
    "# table_nm = 'STD_BD_CAR_CURSTT_MOD2_4RD_INS'.upper()\n",
    "\n",
    "# # 테이블 생성\n",
    "# sql = 'create or replace table ' + table_nm + '( \\n'\n",
    "\n",
    "# for idx,column in enumerate(expdf.columns):\n",
    "#     if 'float' in expdf[column].dtype.name:\n",
    "#         sql += column + ' float'\n",
    "#     elif 'int' in expdf[column].dtype.name:\n",
    "#         sql += column + ' number'\n",
    "#     else:\n",
    "#         sql += column + ' varchar(255)'\n",
    "\n",
    "#     if len(expdf.columns) - 1 != idx:\n",
    "#         sql += ','\n",
    "#     sql += '\\n'\n",
    "# sql += ')'    \n",
    "# we.execute(sql)\n",
    "\n",
    "# # 데이터 추가\n",
    "# # 1s\n",
    "# we.import_from_pandas(expdf, table_nm)"
   ]
  },
  {
   "cell_type": "code",
   "execution_count": 101,
   "metadata": {},
   "outputs": [],
   "source": [
    "# sql"
   ]
  },
  {
   "cell_type": "markdown",
   "metadata": {},
   "source": [
    "# 법정동코드(대기관리권역)"
   ]
  },
  {
   "cell_type": "code",
   "execution_count": 9,
   "metadata": {},
   "outputs": [
    {
     "name": "stdout",
     "output_type": "stream",
     "text": [
      "<class 'pandas.core.frame.DataFrame'>\n",
      "RangeIndex: 46342 entries, 0 to 46341\n",
      "Data columns (total 9 columns):\n",
      " #   Column    Non-Null Count  Dtype  \n",
      "---  ------    --------------  -----  \n",
      " 0   법정동코드     46342 non-null  int64  \n",
      " 1   시도        46342 non-null  object \n",
      " 2   시구군       46319 non-null  object \n",
      " 3   읍면동       45849 non-null  object \n",
      " 4   리         33682 non-null  object \n",
      " 5   지역3       0 non-null      float64\n",
      " 6   폐지여부      46342 non-null  object \n",
      " 7   대기관리권역    46342 non-null  object \n",
      " 8   대기관리권역YN  46337 non-null  object \n",
      "dtypes: float64(1), int64(1), object(7)\n",
      "memory usage: 3.2+ MB\n"
     ]
    }
   ],
   "source": [
    "# 0s\n",
    "STD_BJCD_ATMSP_MNG_DSTR = pd.read_excel(os.path.join(sys_fold, 'STD_BJCD_ATMSP_MNG_DSTR.xlsx'))\n",
    "STD_BJCD_ATMSP_MNG_DSTR.info()"
   ]
  },
  {
   "cell_type": "code",
   "execution_count": 10,
   "metadata": {},
   "outputs": [],
   "source": [
    "expdf = STD_BJCD_ATMSP_MNG_DSTR\n",
    "table_nm = 'STD_BJCD_ATMSP_MNG_DSTR'.upper()\n",
    "\n",
    "# 테이블 생성\n",
    "sql = 'create or replace table ' + table_nm + '( \\n'\n",
    "\n",
    "for idx,column in enumerate(expdf.columns):\n",
    "    # if 'float' in expdf[column].dtype.name:\n",
    "    #     sql += column + ' float'\n",
    "    # elif 'int' in expdf[column].dtype.name:\n",
    "    #     sql += column + ' number'\n",
    "    # else:\n",
    "    sql += column + ' varchar(255)'\n",
    "\n",
    "    if len(expdf.columns) - 1 != idx:\n",
    "        sql += ','\n",
    "    sql += '\\n'\n",
    "sql += ')'    \n",
    "we.execute(sql)\n",
    "\n",
    "# 데이터 추가\n",
    "# 1s\n",
    "we.import_from_pandas(expdf, table_nm)"
   ]
  },
  {
   "cell_type": "markdown",
   "metadata": {},
   "source": [
    "# code end"
   ]
  }
 ],
 "metadata": {
  "interpreter": {
   "hash": "569b4317022eb29baeafb3d0f1f739310808ea28ce83ca127a35db1c01070585"
  },
  "kernelspec": {
   "display_name": "Python 3 (ipykernel)",
   "language": "python",
   "name": "python3"
  },
  "language_info": {
   "codemirror_mode": {
    "name": "ipython",
    "version": 3
   },
   "file_extension": ".py",
   "mimetype": "text/x-python",
   "name": "python",
   "nbconvert_exporter": "python",
   "pygments_lexer": "ipython3",
   "version": "3.11.5"
  },
  "vscode": {
   "interpreter": {
    "hash": "ad2bdc8ecc057115af97d19610ffacc2b4e99fae6737bb82f5d7fb13d2f2c186"
   }
  }
 },
 "nbformat": 4,
 "nbformat_minor": 4
}
