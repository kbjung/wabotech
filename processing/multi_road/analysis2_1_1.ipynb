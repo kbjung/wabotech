{
 "cells": [
  {
   "cell_type": "markdown",
   "metadata": {},
   "source": [
    "# Library"
   ]
  },
  {
   "cell_type": "code",
   "execution_count": 1,
   "metadata": {},
   "outputs": [],
   "source": [
    "import pandas as pd\n",
    "import numpy as np\n",
    "import os\n",
    "from datetime import datetime\n",
    "import datetime as dt\n",
    "import time\n",
    "import math"
   ]
  },
  {
   "cell_type": "code",
   "execution_count": 2,
   "metadata": {},
   "outputs": [],
   "source": [
    "pd.options.display.float_format = '{:.2f}'.format\n",
    "# pd.reset_option('display.float_format')"
   ]
  },
  {
   "cell_type": "code",
   "execution_count": 3,
   "metadata": {},
   "outputs": [],
   "source": [
    "start_time = time.time()"
   ]
  },
  {
   "cell_type": "markdown",
   "metadata": {},
   "source": [
    "# Fold"
   ]
  },
  {
   "cell_type": "code",
   "execution_count": 4,
   "metadata": {},
   "outputs": [],
   "source": [
    "raw_fold = 'D:/data/processing/multi_road/raw'\n",
    "an_fold = 'D:/data/processing/multi_road/analysis'\n",
    "img_fold = 'D:/data/processing/multi_road/img'"
   ]
  },
  {
   "cell_type": "markdown",
   "metadata": {},
   "source": [
    "## xlsx to csv"
   ]
  },
  {
   "cell_type": "code",
   "execution_count": 137,
   "metadata": {},
   "outputs": [],
   "source": [
    "# # 4m 39.4s\n",
    "# name = '매연RSD_도로측정데이터_20221004~20230910'\n",
    "# file_name = f'{name}.xlsx'\n",
    "# rsd = pd.read_excel(os.path.join(raw_fold, file_name))\n",
    "# rsd.info()"
   ]
  },
  {
   "cell_type": "code",
   "execution_count": 138,
   "metadata": {},
   "outputs": [],
   "source": [
    "# # 12.6s\n",
    "# rsd.to_csv(os.path.join(raw_fold, f'{name}.csv'), index=False)"
   ]
  },
  {
   "cell_type": "markdown",
   "metadata": {},
   "source": [
    "# Load"
   ]
  },
  {
   "cell_type": "markdown",
   "metadata": {},
   "source": [
    "## 원격측정정보"
   ]
  },
  {
   "cell_type": "code",
   "execution_count": 5,
   "metadata": {},
   "outputs": [
    {
     "data": {
      "text/plain": [
       "15"
      ]
     },
     "execution_count": 5,
     "metadata": {},
     "output_type": "execute_result"
    }
   ],
   "source": [
    "rsd_cdict = {\n",
    "    'vdfDateTime':'측정날짜',\n",
    "    'vdfTime':'측정시간',\n",
    "    'vdfRecordStatus':'기록상태',\n",
    "    'vdfValid':'유효',\n",
    "    'samSpeed':'속도',\n",
    "    'samAccel':'가속도',\n",
    "    'samFlag':'플래그',\n",
    "    'vdfVSP':'VSP',\n",
    "    'Smoke':'매연',\n",
    "    'V_PLATE':'차량번호',\n",
    "    'LineNo':'차선번호',\n",
    "    'Wind speed':'풍속',\n",
    "    'Humidity':'습도', \n",
    "    'Temp':'온도',\n",
    "    'siteCode':'측정장소코드',\n",
    "    }\n",
    "len(rsd_cdict)"
   ]
  },
  {
   "cell_type": "code",
   "execution_count": 6,
   "metadata": {},
   "outputs": [
    {
     "name": "stderr",
     "output_type": "stream",
     "text": [
      "C:\\Users\\kbjung\\AppData\\Local\\Temp\\ipykernel_15392\\4153831191.py:4: DtypeWarning: Columns (73) have mixed types. Specify dtype option on import or set low_memory=False.\n",
      "  rsd = pd.read_csv(os.path.join(raw_fold, file_name), usecols=rsd_cdict.keys())\n"
     ]
    },
    {
     "name": "stdout",
     "output_type": "stream",
     "text": [
      "<class 'pandas.core.frame.DataFrame'>\n",
      "RangeIndex: 398673 entries, 0 to 398672\n",
      "Data columns (total 15 columns):\n",
      " #   Column           Non-Null Count   Dtype  \n",
      "---  ------           --------------   -----  \n",
      " 0   vdfDateTime      398673 non-null  object \n",
      " 1   vdfTime          398673 non-null  object \n",
      " 2   vdfRecordStatus  398673 non-null  object \n",
      " 3   vdfValid         398673 non-null  object \n",
      " 4   samSpeed         395272 non-null  float64\n",
      " 5   samAccel         395272 non-null  float64\n",
      " 6   samFlag          395272 non-null  object \n",
      " 7   vdfVSP           395272 non-null  float64\n",
      " 8   Smoke            398673 non-null  float64\n",
      " 9   V_PLATE          398673 non-null  object \n",
      " 10  LineNo           117903 non-null  float64\n",
      " 11  Wind speed       26712 non-null   float64\n",
      " 12  Humidity         99951 non-null   float64\n",
      " 13  Temp             398649 non-null  float64\n",
      " 14  siteCode         150 non-null     object \n",
      "dtypes: float64(8), object(7)\n",
      "memory usage: 45.6+ MB\n"
     ]
    }
   ],
   "source": [
    "# 1s\n",
    "name = '매연RSD_도로측정데이터_20221004~20230910'\n",
    "file_name = f'{name}.csv'\n",
    "rsd = pd.read_csv(os.path.join(raw_fold, file_name), usecols=rsd_cdict.keys())\n",
    "rsd.info()"
   ]
  },
  {
   "cell_type": "code",
   "execution_count": 7,
   "metadata": {},
   "outputs": [
    {
     "data": {
      "text/plain": [
       "Index(['vdfDateTime', 'vdfTime', 'vdfRecordStatus', 'vdfValid', 'samSpeed',\n",
       "       'samAccel', 'samFlag', 'vdfVSP', 'Smoke', 'V_PLATE', 'LineNo',\n",
       "       'Wind speed', 'Humidity', 'Temp', 'siteCode'],\n",
       "      dtype='object')"
      ]
     },
     "execution_count": 7,
     "metadata": {},
     "output_type": "execute_result"
    }
   ],
   "source": [
    "rsd.columns"
   ]
  },
  {
   "cell_type": "code",
   "execution_count": 8,
   "metadata": {},
   "outputs": [
    {
     "data": {
      "text/plain": [
       "Index(['측정날짜', '측정시간', '기록상태', '유효', '속도', '가속도', '플래그', 'VSP', '매연', '차량번호',\n",
       "       '차선번호', '풍속', '습도', '온도', '측정장소코드'],\n",
       "      dtype='object')"
      ]
     },
     "execution_count": 8,
     "metadata": {},
     "output_type": "execute_result"
    }
   ],
   "source": [
    "rsdr = rsd.rename(columns=rsd_cdict)\n",
    "rsdr.columns"
   ]
  },
  {
   "cell_type": "code",
   "execution_count": 9,
   "metadata": {},
   "outputs": [
    {
     "data": {
      "text/html": [
       "<div>\n",
       "<style scoped>\n",
       "    .dataframe tbody tr th:only-of-type {\n",
       "        vertical-align: middle;\n",
       "    }\n",
       "\n",
       "    .dataframe tbody tr th {\n",
       "        vertical-align: top;\n",
       "    }\n",
       "\n",
       "    .dataframe thead th {\n",
       "        text-align: right;\n",
       "    }\n",
       "</style>\n",
       "<table border=\"1\" class=\"dataframe\">\n",
       "  <thead>\n",
       "    <tr style=\"text-align: right;\">\n",
       "      <th></th>\n",
       "      <th>측정날짜</th>\n",
       "      <th>측정시간</th>\n",
       "      <th>기록상태</th>\n",
       "      <th>유효</th>\n",
       "      <th>속도</th>\n",
       "      <th>가속도</th>\n",
       "      <th>플래그</th>\n",
       "      <th>VSP</th>\n",
       "      <th>매연</th>\n",
       "      <th>차량번호</th>\n",
       "      <th>차선번호</th>\n",
       "      <th>풍속</th>\n",
       "      <th>습도</th>\n",
       "      <th>온도</th>\n",
       "      <th>측정장소코드</th>\n",
       "    </tr>\n",
       "  </thead>\n",
       "  <tbody>\n",
       "    <tr>\n",
       "      <th>0</th>\n",
       "      <td>10-04-2022</td>\n",
       "      <td>10:31:20</td>\n",
       "      <td>N</td>\n",
       "      <td>V</td>\n",
       "      <td>71.60</td>\n",
       "      <td>0.00</td>\n",
       "      <td>V</td>\n",
       "      <td>17.89</td>\n",
       "      <td>0.60</td>\n",
       "      <td>60저3406</td>\n",
       "      <td>NaN</td>\n",
       "      <td>NaN</td>\n",
       "      <td>NaN</td>\n",
       "      <td>0.00</td>\n",
       "      <td>JAS001</td>\n",
       "    </tr>\n",
       "    <tr>\n",
       "      <th>1</th>\n",
       "      <td>10-04-2022</td>\n",
       "      <td>10:31:46</td>\n",
       "      <td>N</td>\n",
       "      <td>V</td>\n",
       "      <td>60.70</td>\n",
       "      <td>0.00</td>\n",
       "      <td>V</td>\n",
       "      <td>2.65</td>\n",
       "      <td>0.80</td>\n",
       "      <td>41구0483</td>\n",
       "      <td>NaN</td>\n",
       "      <td>NaN</td>\n",
       "      <td>NaN</td>\n",
       "      <td>0.00</td>\n",
       "      <td>NaN</td>\n",
       "    </tr>\n",
       "    <tr>\n",
       "      <th>2</th>\n",
       "      <td>10-04-2022</td>\n",
       "      <td>10:31:58</td>\n",
       "      <td>N</td>\n",
       "      <td>V</td>\n",
       "      <td>50.60</td>\n",
       "      <td>0.40</td>\n",
       "      <td>V</td>\n",
       "      <td>13.42</td>\n",
       "      <td>0.70</td>\n",
       "      <td>80러0579</td>\n",
       "      <td>NaN</td>\n",
       "      <td>NaN</td>\n",
       "      <td>NaN</td>\n",
       "      <td>0.00</td>\n",
       "      <td>NaN</td>\n",
       "    </tr>\n",
       "    <tr>\n",
       "      <th>3</th>\n",
       "      <td>10-04-2022</td>\n",
       "      <td>10:32:47</td>\n",
       "      <td>N</td>\n",
       "      <td>V</td>\n",
       "      <td>53.30</td>\n",
       "      <td>1.40</td>\n",
       "      <td>V</td>\n",
       "      <td>18.71</td>\n",
       "      <td>0.90</td>\n",
       "      <td>94누0128</td>\n",
       "      <td>NaN</td>\n",
       "      <td>NaN</td>\n",
       "      <td>NaN</td>\n",
       "      <td>0.00</td>\n",
       "      <td>NaN</td>\n",
       "    </tr>\n",
       "    <tr>\n",
       "      <th>4</th>\n",
       "      <td>10-04-2022</td>\n",
       "      <td>10:34:03</td>\n",
       "      <td>N</td>\n",
       "      <td>V</td>\n",
       "      <td>36.10</td>\n",
       "      <td>0.50</td>\n",
       "      <td>V</td>\n",
       "      <td>9.51</td>\n",
       "      <td>0.70</td>\n",
       "      <td>60수4386</td>\n",
       "      <td>NaN</td>\n",
       "      <td>NaN</td>\n",
       "      <td>NaN</td>\n",
       "      <td>0.00</td>\n",
       "      <td>NaN</td>\n",
       "    </tr>\n",
       "  </tbody>\n",
       "</table>\n",
       "</div>"
      ],
      "text/plain": [
       "         측정날짜      측정시간 기록상태 유효    속도  가속도 플래그   VSP   매연     차량번호  차선번호  풍속  \\\n",
       "0  10-04-2022  10:31:20    N  V 71.60 0.00   V 17.89 0.60  60저3406   NaN NaN   \n",
       "1  10-04-2022  10:31:46    N  V 60.70 0.00   V  2.65 0.80  41구0483   NaN NaN   \n",
       "2  10-04-2022  10:31:58    N  V 50.60 0.40   V 13.42 0.70  80러0579   NaN NaN   \n",
       "3  10-04-2022  10:32:47    N  V 53.30 1.40   V 18.71 0.90  94누0128   NaN NaN   \n",
       "4  10-04-2022  10:34:03    N  V 36.10 0.50   V  9.51 0.70  60수4386   NaN NaN   \n",
       "\n",
       "   습도   온도  측정장소코드  \n",
       "0 NaN 0.00  JAS001  \n",
       "1 NaN 0.00     NaN  \n",
       "2 NaN 0.00     NaN  \n",
       "3 NaN 0.00     NaN  \n",
       "4 NaN 0.00     NaN  "
      ]
     },
     "execution_count": 9,
     "metadata": {},
     "output_type": "execute_result"
    }
   ],
   "source": [
    "rsdr.head()"
   ]
  },
  {
   "cell_type": "markdown",
   "metadata": {},
   "source": [
    "### [출력] csv"
   ]
  },
  {
   "cell_type": "code",
   "execution_count": 10,
   "metadata": {},
   "outputs": [
    {
     "data": {
      "text/plain": [
       "'매연RSD_도로측정데이터_20221004~20230910'"
      ]
     },
     "execution_count": 10,
     "metadata": {},
     "output_type": "execute_result"
    }
   ],
   "source": [
    "name"
   ]
  },
  {
   "cell_type": "code",
   "execution_count": 11,
   "metadata": {},
   "outputs": [],
   "source": [
    "# # 1s\n",
    "# rsd.to_csv(os.path.join(raw_fold, f'{name}.csv'), index=False)"
   ]
  },
  {
   "cell_type": "markdown",
   "metadata": {},
   "source": [
    "## 등록정보\n",
    "- 2023.07.08 기준"
   ]
  },
  {
   "cell_type": "code",
   "execution_count": 12,
   "metadata": {},
   "outputs": [
    {
     "data": {
      "text/plain": [
       "11"
      ]
     },
     "execution_count": 12,
     "metadata": {},
     "output_type": "execute_result"
    }
   ],
   "source": [
    "car_cdict = {\n",
    "    'EXHST_GAS_CERT_NO':'배출가스인증번호',\n",
    "    'EXHST_GAS_GRD_CD':'배출가스등급', \n",
    "    'FRST_REG_YMD':'최초등록일자',\n",
    "    'MANP_MNG_NO':'제원관리번호', \n",
    "    'MDFCN_DT':'수정일시', \n",
    "    'VHCL_ERSR_YN':'차량말소YN',\n",
    "    'VHCL_FBCTN_YMD':'차량제작일자',\n",
    "    'YRIDNW':'차량연식', \n",
    "    'VHCTY_CD':'차종', \n",
    "    'VIN':'차대번호', \n",
    "    'VHRNO':'차량번호',\n",
    "    # 'BSPL_STDG_CD':'법정동코드', \n",
    "    # 'PURPS_CD2':'용도', \n",
    "    # 'VHCL_MNG_NO':'차량관리번호', \n",
    "    # 'VHCL_OWNR_CL_CD':'소유자구분', \n",
    "}\n",
    "len(car_cdict)"
   ]
  },
  {
   "cell_type": "code",
   "execution_count": 13,
   "metadata": {},
   "outputs": [
    {
     "name": "stderr",
     "output_type": "stream",
     "text": [
      "C:\\Users\\kbjung\\AppData\\Local\\Temp\\ipykernel_15392\\2069508936.py:4: DtypeWarning: Columns (8,18) have mixed types. Specify dtype option on import or set low_memory=False.\n",
      "  car = pd.read_csv(os.path.join(raw_fold, file_name), usecols=car_cdict.keys())\n"
     ]
    },
    {
     "name": "stdout",
     "output_type": "stream",
     "text": [
      "<class 'pandas.core.frame.DataFrame'>\n",
      "RangeIndex: 30625663 entries, 0 to 30625662\n",
      "Data columns (total 11 columns):\n",
      " #   Column             Dtype \n",
      "---  ------             ----- \n",
      " 0   EXHST_GAS_CERT_NO  object\n",
      " 1   EXHST_GAS_GRD_CD   object\n",
      " 2   FRST_REG_YMD       object\n",
      " 3   MANP_MNG_NO        object\n",
      " 4   MDFCN_DT           object\n",
      " 5   VHCL_ERSR_YN       object\n",
      " 6   VHCL_FBCTN_YMD     object\n",
      " 7   YRIDNW             int64 \n",
      " 8   VHCTY_CD           object\n",
      " 9   VIN                object\n",
      " 10  VHRNO              object\n",
      "dtypes: int64(1), object(10)\n",
      "memory usage: 2.5+ GB\n"
     ]
    }
   ],
   "source": [
    "# 2m 30s\n",
    "name = 'STD_CEG_CAR_MIG(20230821)'\n",
    "file_name = f'{name}.csv'\n",
    "car = pd.read_csv(os.path.join(raw_fold, file_name), usecols=car_cdict.keys())\n",
    "car.info()"
   ]
  },
  {
   "cell_type": "code",
   "execution_count": 14,
   "metadata": {},
   "outputs": [
    {
     "data": {
      "text/plain": [
       "Index(['배출가스인증번호', '배출가스등급', '최초등록일자', '제원관리번호', '수정일시', '차량말소YN', '차량제작일자',\n",
       "       '차량연식', '차종', '차대번호', '차량번호'],\n",
       "      dtype='object')"
      ]
     },
     "execution_count": 14,
     "metadata": {},
     "output_type": "execute_result"
    }
   ],
   "source": [
    "# 4s\n",
    "carr = car.rename(columns=car_cdict)\n",
    "carr.columns"
   ]
  },
  {
   "cell_type": "markdown",
   "metadata": {},
   "source": [
    "## 제원정보"
   ]
  },
  {
   "cell_type": "code",
   "execution_count": 15,
   "metadata": {},
   "outputs": [
    {
     "data": {
      "text/plain": [
       "11"
      ]
     },
     "execution_count": 15,
     "metadata": {},
     "output_type": "execute_result"
    }
   ],
   "source": [
    "src_cdict = {\n",
    "    'MANP_MNG_NO':'제원관리번호', \n",
    "    'FUEL_CD':'연료',\n",
    "    # 'VHCTY_CD':'차종', \n",
    "    'VHCTY_TY_CD2':'차종유형', \n",
    "    'MNFCTR_NM':'제작사명', \n",
    "    'VHCNM':'차명', \n",
    "    'VHCL_FRM':'자동차형식', \n",
    "    'EGIN_TY':'엔진형식', \n",
    "    'VHCTY_CL_CD':'차종분류',\n",
    "    'TOTL_WGHT':'총중량',\n",
    "    # 'CRYNG_WGHT':'적재중량',\n",
    "    'DSPLVL':'배기량', \n",
    "    'EGIN_OTPT':'엔진출력', \n",
    "}\n",
    "len(src_cdict)"
   ]
  },
  {
   "cell_type": "code",
   "execution_count": 16,
   "metadata": {},
   "outputs": [
    {
     "name": "stdout",
     "output_type": "stream",
     "text": [
      "<class 'pandas.core.frame.DataFrame'>\n",
      "RangeIndex: 566615 entries, 0 to 566614\n",
      "Data columns (total 11 columns):\n",
      " #   Column        Non-Null Count   Dtype  \n",
      "---  ------        --------------   -----  \n",
      " 0   VHCL_FRM      536460 non-null  object \n",
      " 1   DSPLVL        530949 non-null  float64\n",
      " 2   EGIN_OTPT     491335 non-null  float64\n",
      " 3   EGIN_TY       517013 non-null  object \n",
      " 4   FUEL_CD       545937 non-null  object \n",
      " 5   MNFCTR_NM     559794 non-null  object \n",
      " 6   MANP_MNG_NO   566615 non-null  object \n",
      " 7   TOTL_WGHT     563088 non-null  float64\n",
      " 8   VHCNM         566544 non-null  object \n",
      " 9   VHCTY_CL_CD   551140 non-null  object \n",
      " 10  VHCTY_TY_CD2  553038 non-null  object \n",
      "dtypes: float64(3), object(8)\n",
      "memory usage: 47.6+ MB\n"
     ]
    }
   ],
   "source": [
    "# 2s\n",
    "name = 'STD_CEG_CAR_SRC_MIG(20230821)'\n",
    "file_name = f'{name}.csv'\n",
    "src = pd.read_csv(os.path.join(raw_fold, file_name), usecols=src_cdict.keys())\n",
    "src.info()"
   ]
  },
  {
   "cell_type": "code",
   "execution_count": 17,
   "metadata": {},
   "outputs": [
    {
     "data": {
      "text/plain": [
       "Index(['자동차형식', '배기량', '엔진출력', '엔진형식', '연료', '제작사명', '제원관리번호', '총중량', '차명',\n",
       "       '차종분류', '차종유형'],\n",
       "      dtype='object')"
      ]
     },
     "execution_count": 17,
     "metadata": {},
     "output_type": "execute_result"
    }
   ],
   "source": [
    "srcr = src.rename(columns=src_cdict)\n",
    "srcr.columns"
   ]
  },
  {
   "cell_type": "markdown",
   "metadata": {},
   "source": [
    "## 정밀검사"
   ]
  },
  {
   "cell_type": "code",
   "execution_count": 18,
   "metadata": {},
   "outputs": [
    {
     "data": {
      "text/plain": [
       "12"
      ]
     },
     "execution_count": 18,
     "metadata": {},
     "output_type": "execute_result"
    }
   ],
   "source": [
    "eet_cdict = {\n",
    "    'VIN':'차대번호', \n",
    "    # 'PRCINSP_JGMT':'검사판정', \n",
    "    'PREC_NLOD_SMO_MSTVL1':'무부하매연측정치1', # CO(매연)\n",
    "    'PREC_NLOD_SMO_JT_YN1':'무부하매연판정1', \n",
    "    'PREC_NLOD_SMO_PRMVL1':'무부하매연허용치1', \n",
    "    'PREC_NLOD_SMO_MSTVL2':'무부하매연측정치2', # HC\n",
    "    'PREC_NLOD_SMO_JT_YN2':'무부하매연판정2', \n",
    "    'PREC_NLOD_SMO_PRMVL2':'무부하매연허용치2', \n",
    "    'PREC_NLOD_SMO_MSTVL3':'무부하매연측정치3', # NOx\n",
    "    'PREC_NLOD_SMO_JT_YN3':'무부하매연판정3', \n",
    "    'PREC_NLOD_SMO_PRMVL3':'무부하매연허용치3', \n",
    "    # 'PRCINSP_KND_CD':'검사종류', \n",
    "    'PRCINSP_MSRMT_MTHD_CD':'검사방법', \n",
    "    'PRCINSP_YMD':'검사일자',\n",
    "    # 'PRCINSP_DRVNG_DSTNC':'주행거리', \n",
    "}\n",
    "len(eet_cdict)"
   ]
  },
  {
   "cell_type": "code",
   "execution_count": 20,
   "metadata": {},
   "outputs": [
    {
     "name": "stdout",
     "output_type": "stream",
     "text": [
      "<class 'pandas.core.frame.DataFrame'>\n",
      "RangeIndex: 102191938 entries, 0 to 102191937\n",
      "Data columns (total 12 columns):\n",
      " #   Column                 Dtype  \n",
      "---  ------                 -----  \n",
      " 0   VIN                    object \n",
      " 1   PREC_NLOD_SMO_MSTVL1   float64\n",
      " 2   PREC_NLOD_SMO_JT_YN1   object \n",
      " 3   PREC_NLOD_SMO_PRMVL1   float64\n",
      " 4   PREC_NLOD_SMO_MSTVL2   float64\n",
      " 5   PREC_NLOD_SMO_JT_YN2   object \n",
      " 6   PREC_NLOD_SMO_PRMVL2   float64\n",
      " 7   PREC_NLOD_SMO_MSTVL3   float64\n",
      " 8   PREC_NLOD_SMO_JT_YN3   object \n",
      " 9   PREC_NLOD_SMO_PRMVL3   float64\n",
      " 10  PRCINSP_MSRMT_MTHD_CD  object \n",
      " 11  PRCINSP_YMD            int64  \n",
      "dtypes: float64(6), int64(1), object(5)\n",
      "memory usage: 9.1+ GB\n"
     ]
    }
   ],
   "source": [
    "# 2m 38.7s\n",
    "name = 'STD_TB_EET_HIS_ME(part)(20230918)'\n",
    "file_name = f'{name}.csv'\n",
    "eet = pd.read_csv(os.path.join(raw_fold, file_name), usecols=eet_cdict.keys())\n",
    "eet.info()"
   ]
  },
  {
   "cell_type": "code",
   "execution_count": 21,
   "metadata": {},
   "outputs": [
    {
     "data": {
      "text/plain": [
       "Index(['차대번호', '무부하매연측정치1', '무부하매연판정1', '무부하매연허용치1', '무부하매연측정치2', '무부하매연판정2',\n",
       "       '무부하매연허용치2', '무부하매연측정치3', '무부하매연판정3', '무부하매연허용치3', '검사방법', '검사일자'],\n",
       "      dtype='object')"
      ]
     },
     "execution_count": 21,
     "metadata": {},
     "output_type": "execute_result"
    }
   ],
   "source": [
    "# 12s\n",
    "eetr = eet.rename(columns=eet_cdict)\n",
    "eetr.columns"
   ]
  },
  {
   "cell_type": "code",
   "execution_count": 22,
   "metadata": {},
   "outputs": [
    {
     "data": {
      "text/plain": [
       "count   102191938.00\n",
       "mean     20150152.16\n",
       "std         55240.81\n",
       "min      20020520.00\n",
       "25%      20101023.00\n",
       "50%      20151223.00\n",
       "75%      20200718.00\n",
       "max      20230731.00\n",
       "Name: 검사일자, dtype: float64"
      ]
     },
     "execution_count": 22,
     "metadata": {},
     "output_type": "execute_result"
    }
   ],
   "source": [
    "eetr['검사일자'].describe()"
   ]
  },
  {
   "cell_type": "code",
   "execution_count": 23,
   "metadata": {},
   "outputs": [
    {
     "data": {
      "text/plain": [
       "Index(['차대번호', '무부하매연측정치1', '무부하매연판정1', '무부하매연허용치1', '무부하매연측정치2', '무부하매연판정2',\n",
       "       '무부하매연허용치2', '무부하매연측정치3', '무부하매연판정3', '무부하매연허용치3', '검사방법', '검사일자'],\n",
       "      dtype='object')"
      ]
     },
     "execution_count": 23,
     "metadata": {},
     "output_type": "execute_result"
    }
   ],
   "source": [
    "eetr.columns"
   ]
  },
  {
   "cell_type": "markdown",
   "metadata": {},
   "source": [
    "# Preprocessing"
   ]
  },
  {
   "cell_type": "markdown",
   "metadata": {},
   "source": [
    "## 원격측정정보"
   ]
  },
  {
   "cell_type": "markdown",
   "metadata": {},
   "source": [
    "### 측정날짜, 측정시간 전처리\n",
    "- datetime type으로 변환"
   ]
  },
  {
   "cell_type": "code",
   "execution_count": 24,
   "metadata": {},
   "outputs": [
    {
     "data": {
      "text/html": [
       "<div>\n",
       "<style scoped>\n",
       "    .dataframe tbody tr th:only-of-type {\n",
       "        vertical-align: middle;\n",
       "    }\n",
       "\n",
       "    .dataframe tbody tr th {\n",
       "        vertical-align: top;\n",
       "    }\n",
       "\n",
       "    .dataframe thead th {\n",
       "        text-align: right;\n",
       "    }\n",
       "</style>\n",
       "<table border=\"1\" class=\"dataframe\">\n",
       "  <thead>\n",
       "    <tr style=\"text-align: right;\">\n",
       "      <th></th>\n",
       "      <th>측정날짜</th>\n",
       "      <th>측정시간</th>\n",
       "    </tr>\n",
       "  </thead>\n",
       "  <tbody>\n",
       "    <tr>\n",
       "      <th>0</th>\n",
       "      <td>10-04-2022</td>\n",
       "      <td>10:31:20</td>\n",
       "    </tr>\n",
       "    <tr>\n",
       "      <th>1</th>\n",
       "      <td>10-04-2022</td>\n",
       "      <td>10:31:46</td>\n",
       "    </tr>\n",
       "    <tr>\n",
       "      <th>2</th>\n",
       "      <td>10-04-2022</td>\n",
       "      <td>10:31:58</td>\n",
       "    </tr>\n",
       "    <tr>\n",
       "      <th>3</th>\n",
       "      <td>10-04-2022</td>\n",
       "      <td>10:32:47</td>\n",
       "    </tr>\n",
       "    <tr>\n",
       "      <th>4</th>\n",
       "      <td>10-04-2022</td>\n",
       "      <td>10:34:03</td>\n",
       "    </tr>\n",
       "  </tbody>\n",
       "</table>\n",
       "</div>"
      ],
      "text/plain": [
       "         측정날짜      측정시간\n",
       "0  10-04-2022  10:31:20\n",
       "1  10-04-2022  10:31:46\n",
       "2  10-04-2022  10:31:58\n",
       "3  10-04-2022  10:32:47\n",
       "4  10-04-2022  10:34:03"
      ]
     },
     "execution_count": 24,
     "metadata": {},
     "output_type": "execute_result"
    }
   ],
   "source": [
    "rsdr[['측정날짜', '측정시간']].head()"
   ]
  },
  {
   "cell_type": "code",
   "execution_count": 25,
   "metadata": {},
   "outputs": [
    {
     "data": {
      "text/plain": [
       "측정날짜    0\n",
       "측정시간    0\n",
       "dtype: int64"
      ]
     },
     "execution_count": 25,
     "metadata": {},
     "output_type": "execute_result"
    }
   ],
   "source": [
    "rsdr[['측정날짜', '측정시간']].isnull().sum()"
   ]
  },
  {
   "cell_type": "code",
   "execution_count": 26,
   "metadata": {},
   "outputs": [
    {
     "data": {
      "text/plain": [
       "측정날짜    object\n",
       "측정시간    object\n",
       "dtype: object"
      ]
     },
     "execution_count": 26,
     "metadata": {},
     "output_type": "execute_result"
    }
   ],
   "source": [
    "rsdr[['측정날짜', '측정시간']].dtypes"
   ]
  },
  {
   "cell_type": "markdown",
   "metadata": {},
   "source": [
    "#### [issue] 측정시간 값 오류\n",
    "- 자동차등록번호(V_PLATE) : 서울06도5872, 대전80바9861, 경기86소7588, ********\n",
    "- index : 266253, 266383, 266384, 269478"
   ]
  },
  {
   "cell_type": "code",
   "execution_count": 27,
   "metadata": {},
   "outputs": [
    {
     "data": {
      "text/html": [
       "<div>\n",
       "<style scoped>\n",
       "    .dataframe tbody tr th:only-of-type {\n",
       "        vertical-align: middle;\n",
       "    }\n",
       "\n",
       "    .dataframe tbody tr th {\n",
       "        vertical-align: top;\n",
       "    }\n",
       "\n",
       "    .dataframe thead th {\n",
       "        text-align: right;\n",
       "    }\n",
       "</style>\n",
       "<table border=\"1\" class=\"dataframe\">\n",
       "  <thead>\n",
       "    <tr style=\"text-align: right;\">\n",
       "      <th></th>\n",
       "      <th>측정날짜</th>\n",
       "      <th>측정시간</th>\n",
       "      <th>기록상태</th>\n",
       "      <th>유효</th>\n",
       "      <th>속도</th>\n",
       "      <th>가속도</th>\n",
       "      <th>플래그</th>\n",
       "      <th>VSP</th>\n",
       "      <th>매연</th>\n",
       "      <th>차량번호</th>\n",
       "      <th>차선번호</th>\n",
       "      <th>풍속</th>\n",
       "      <th>습도</th>\n",
       "      <th>온도</th>\n",
       "      <th>측정장소코드</th>\n",
       "    </tr>\n",
       "  </thead>\n",
       "  <tbody>\n",
       "    <tr>\n",
       "      <th>266253</th>\n",
       "      <td>08-08-2023</td>\n",
       "      <td>0.491134259</td>\n",
       "      <td>N</td>\n",
       "      <td>V</td>\n",
       "      <td>72.36</td>\n",
       "      <td>0.00</td>\n",
       "      <td>V</td>\n",
       "      <td>18.13</td>\n",
       "      <td>1.90</td>\n",
       "      <td>서울06도5872</td>\n",
       "      <td>NaN</td>\n",
       "      <td>NaN</td>\n",
       "      <td>NaN</td>\n",
       "      <td>33.10</td>\n",
       "      <td>NaN</td>\n",
       "    </tr>\n",
       "    <tr>\n",
       "      <th>266383</th>\n",
       "      <td>08-08-2023</td>\n",
       "      <td>0.499652778</td>\n",
       "      <td>N</td>\n",
       "      <td>V</td>\n",
       "      <td>50.40</td>\n",
       "      <td>-1.44</td>\n",
       "      <td>V</td>\n",
       "      <td>5.57</td>\n",
       "      <td>1.70</td>\n",
       "      <td>대전80바9861</td>\n",
       "      <td>NaN</td>\n",
       "      <td>NaN</td>\n",
       "      <td>NaN</td>\n",
       "      <td>33.10</td>\n",
       "      <td>NaN</td>\n",
       "    </tr>\n",
       "    <tr>\n",
       "      <th>266384</th>\n",
       "      <td>08-08-2023</td>\n",
       "      <td>0.499768519</td>\n",
       "      <td>N</td>\n",
       "      <td>V</td>\n",
       "      <td>72.72</td>\n",
       "      <td>1.88</td>\n",
       "      <td>V</td>\n",
       "      <td>29.86</td>\n",
       "      <td>0.00</td>\n",
       "      <td>경기86소7588</td>\n",
       "      <td>NaN</td>\n",
       "      <td>NaN</td>\n",
       "      <td>NaN</td>\n",
       "      <td>33.10</td>\n",
       "      <td>NaN</td>\n",
       "    </tr>\n",
       "    <tr>\n",
       "      <th>269478</th>\n",
       "      <td>08-08-2023</td>\n",
       "      <td>0.7753125</td>\n",
       "      <td>N</td>\n",
       "      <td>V</td>\n",
       "      <td>44.28</td>\n",
       "      <td>-0.36</td>\n",
       "      <td>V</td>\n",
       "      <td>8.79</td>\n",
       "      <td>0.00</td>\n",
       "      <td>********</td>\n",
       "      <td>NaN</td>\n",
       "      <td>NaN</td>\n",
       "      <td>NaN</td>\n",
       "      <td>33.40</td>\n",
       "      <td>NaN</td>\n",
       "    </tr>\n",
       "  </tbody>\n",
       "</table>\n",
       "</div>"
      ],
      "text/plain": [
       "              측정날짜         측정시간 기록상태 유효    속도   가속도 플래그   VSP   매연       차량번호  \\\n",
       "266253  08-08-2023  0.491134259    N  V 72.36  0.00   V 18.13 1.90  서울06도5872   \n",
       "266383  08-08-2023  0.499652778    N  V 50.40 -1.44   V  5.57 1.70  대전80바9861   \n",
       "266384  08-08-2023  0.499768519    N  V 72.72  1.88   V 29.86 0.00  경기86소7588   \n",
       "269478  08-08-2023    0.7753125    N  V 44.28 -0.36   V  8.79 0.00   ********   \n",
       "\n",
       "        차선번호  풍속  습도    온도 측정장소코드  \n",
       "266253   NaN NaN NaN 33.10    NaN  \n",
       "266383   NaN NaN NaN 33.10    NaN  \n",
       "266384   NaN NaN NaN 33.10    NaN  \n",
       "269478   NaN NaN NaN 33.40    NaN  "
      ]
     },
     "execution_count": 27,
     "metadata": {},
     "output_type": "execute_result"
    }
   ],
   "source": [
    "rsdr.loc[[266253, 266383, 266384, 269478]]"
   ]
  },
  {
   "cell_type": "code",
   "execution_count": 28,
   "metadata": {},
   "outputs": [
    {
     "data": {
      "text/html": [
       "<div>\n",
       "<style scoped>\n",
       "    .dataframe tbody tr th:only-of-type {\n",
       "        vertical-align: middle;\n",
       "    }\n",
       "\n",
       "    .dataframe tbody tr th {\n",
       "        vertical-align: top;\n",
       "    }\n",
       "\n",
       "    .dataframe thead th {\n",
       "        text-align: right;\n",
       "    }\n",
       "</style>\n",
       "<table border=\"1\" class=\"dataframe\">\n",
       "  <thead>\n",
       "    <tr style=\"text-align: right;\">\n",
       "      <th></th>\n",
       "      <th>측정날짜</th>\n",
       "      <th>측정시간</th>\n",
       "      <th>기록상태</th>\n",
       "      <th>유효</th>\n",
       "      <th>속도</th>\n",
       "      <th>가속도</th>\n",
       "      <th>플래그</th>\n",
       "      <th>VSP</th>\n",
       "      <th>매연</th>\n",
       "      <th>차량번호</th>\n",
       "      <th>차선번호</th>\n",
       "      <th>풍속</th>\n",
       "      <th>습도</th>\n",
       "      <th>온도</th>\n",
       "      <th>측정장소코드</th>\n",
       "    </tr>\n",
       "  </thead>\n",
       "  <tbody>\n",
       "    <tr>\n",
       "      <th>266253</th>\n",
       "      <td>08-08-2023</td>\n",
       "      <td>0.491134259</td>\n",
       "      <td>N</td>\n",
       "      <td>V</td>\n",
       "      <td>72.36</td>\n",
       "      <td>0.00</td>\n",
       "      <td>V</td>\n",
       "      <td>18.13</td>\n",
       "      <td>1.90</td>\n",
       "      <td>서울06도5872</td>\n",
       "      <td>NaN</td>\n",
       "      <td>NaN</td>\n",
       "      <td>NaN</td>\n",
       "      <td>33.10</td>\n",
       "      <td>NaN</td>\n",
       "    </tr>\n",
       "    <tr>\n",
       "      <th>266383</th>\n",
       "      <td>08-08-2023</td>\n",
       "      <td>0.499652778</td>\n",
       "      <td>N</td>\n",
       "      <td>V</td>\n",
       "      <td>50.40</td>\n",
       "      <td>-1.44</td>\n",
       "      <td>V</td>\n",
       "      <td>5.57</td>\n",
       "      <td>1.70</td>\n",
       "      <td>대전80바9861</td>\n",
       "      <td>NaN</td>\n",
       "      <td>NaN</td>\n",
       "      <td>NaN</td>\n",
       "      <td>33.10</td>\n",
       "      <td>NaN</td>\n",
       "    </tr>\n",
       "    <tr>\n",
       "      <th>266384</th>\n",
       "      <td>08-08-2023</td>\n",
       "      <td>0.499768519</td>\n",
       "      <td>N</td>\n",
       "      <td>V</td>\n",
       "      <td>72.72</td>\n",
       "      <td>1.88</td>\n",
       "      <td>V</td>\n",
       "      <td>29.86</td>\n",
       "      <td>0.00</td>\n",
       "      <td>경기86소7588</td>\n",
       "      <td>NaN</td>\n",
       "      <td>NaN</td>\n",
       "      <td>NaN</td>\n",
       "      <td>33.10</td>\n",
       "      <td>NaN</td>\n",
       "    </tr>\n",
       "    <tr>\n",
       "      <th>379009</th>\n",
       "      <td>09-07-2023</td>\n",
       "      <td>11:52:47</td>\n",
       "      <td>N</td>\n",
       "      <td>V</td>\n",
       "      <td>51.48</td>\n",
       "      <td>-0.36</td>\n",
       "      <td>V</td>\n",
       "      <td>10.45</td>\n",
       "      <td>0.50</td>\n",
       "      <td>대전80바9861</td>\n",
       "      <td>3.00</td>\n",
       "      <td>0.40</td>\n",
       "      <td>53.00</td>\n",
       "      <td>27.40</td>\n",
       "      <td>NaN</td>\n",
       "    </tr>\n",
       "  </tbody>\n",
       "</table>\n",
       "</div>"
      ],
      "text/plain": [
       "              측정날짜         측정시간 기록상태 유효    속도   가속도 플래그   VSP   매연       차량번호  \\\n",
       "266253  08-08-2023  0.491134259    N  V 72.36  0.00   V 18.13 1.90  서울06도5872   \n",
       "266383  08-08-2023  0.499652778    N  V 50.40 -1.44   V  5.57 1.70  대전80바9861   \n",
       "266384  08-08-2023  0.499768519    N  V 72.72  1.88   V 29.86 0.00  경기86소7588   \n",
       "379009  09-07-2023     11:52:47    N  V 51.48 -0.36   V 10.45 0.50  대전80바9861   \n",
       "\n",
       "        차선번호   풍속    습도    온도 측정장소코드  \n",
       "266253   NaN  NaN   NaN 33.10    NaN  \n",
       "266383   NaN  NaN   NaN 33.10    NaN  \n",
       "266384   NaN  NaN   NaN 33.10    NaN  \n",
       "379009  3.00 0.40 53.00 27.40    NaN  "
      ]
     },
     "execution_count": 28,
     "metadata": {},
     "output_type": "execute_result"
    }
   ],
   "source": [
    "rsdr[(rsdr['차량번호'] == '서울06도5872') | (rsdr['차량번호'] == '대전80바9861') | (rsdr['차량번호'] == '경기86소7588')]"
   ]
  },
  {
   "cell_type": "code",
   "execution_count": 29,
   "metadata": {},
   "outputs": [
    {
     "data": {
      "text/plain": [
       "0   2022-10-04 10:31:20\n",
       "1   2022-10-04 10:31:46\n",
       "2   2022-10-04 10:31:58\n",
       "3   2022-10-04 10:32:47\n",
       "4   2022-10-04 10:34:03\n",
       "Name: 측정날짜시간, dtype: datetime64[ns]"
      ]
     },
     "execution_count": 29,
     "metadata": {},
     "output_type": "execute_result"
    }
   ],
   "source": [
    "# 41.4s\n",
    "rsdr['측정날짜시간'] = rsdr['측정날짜'] + ' ' + rsdr['측정시간']\n",
    "rsdr['측정날짜시간']= pd.to_datetime(rsdr['측정날짜시간'], errors='coerce')\n",
    "rsdr['측정날짜시간'].head()"
   ]
  },
  {
   "cell_type": "code",
   "execution_count": 30,
   "metadata": {},
   "outputs": [
    {
     "data": {
      "text/plain": [
       "4"
      ]
     },
     "execution_count": 30,
     "metadata": {},
     "output_type": "execute_result"
    }
   ],
   "source": [
    "rsdr['측정날짜시간'].isnull().sum()"
   ]
  },
  {
   "cell_type": "code",
   "execution_count": 31,
   "metadata": {},
   "outputs": [
    {
     "data": {
      "text/plain": [
       "Int64Index([266253, 266383, 266384, 269478], dtype='int64')"
      ]
     },
     "execution_count": 31,
     "metadata": {},
     "output_type": "execute_result"
    }
   ],
   "source": [
    "rsdr.loc[rsdr['측정날짜시간'].isnull() == True].index"
   ]
  },
  {
   "cell_type": "code",
   "execution_count": 32,
   "metadata": {},
   "outputs": [],
   "source": [
    "# rsdr['측정날짜시간_년'] = rsdr['측정날짜시간'].dt.year\n",
    "# rsdr['측정날짜시간_월'] = rsdr['측정날짜시간'].dt.month\n",
    "# rsdr['측정날짜시간_일'] = rsdr['측정날짜시간'].dt.day\n",
    "# rsdr['측정날짜시간_시'] = rsdr['측정날짜시간'].dt.hour\n",
    "# rsdr['측정날짜시간_분'] = rsdr['측정날짜시간'].dt.minute\n",
    "# rsdr['측정날짜시간_초'] = rsdr['측정날짜시간'].dt.second\n",
    "# rsdr['측정날짜시간_요일'] = rsdr['측정날짜시간'].dt.weekday.map({0:'월', 1:'화', 2:'수', 3:'목', 4:'금', 5:'토', 6:'일'})"
   ]
  },
  {
   "cell_type": "code",
   "execution_count": 33,
   "metadata": {},
   "outputs": [],
   "source": [
    "rsdr['측정날짜'] = pd.to_datetime(rsdr['측정날짜'])"
   ]
  },
  {
   "cell_type": "code",
   "execution_count": 34,
   "metadata": {},
   "outputs": [
    {
     "data": {
      "text/html": [
       "<div>\n",
       "<style scoped>\n",
       "    .dataframe tbody tr th:only-of-type {\n",
       "        vertical-align: middle;\n",
       "    }\n",
       "\n",
       "    .dataframe tbody tr th {\n",
       "        vertical-align: top;\n",
       "    }\n",
       "\n",
       "    .dataframe thead th {\n",
       "        text-align: right;\n",
       "    }\n",
       "</style>\n",
       "<table border=\"1\" class=\"dataframe\">\n",
       "  <thead>\n",
       "    <tr style=\"text-align: right;\">\n",
       "      <th></th>\n",
       "      <th>측정날짜</th>\n",
       "      <th>측정시간</th>\n",
       "      <th>기록상태</th>\n",
       "      <th>유효</th>\n",
       "      <th>속도</th>\n",
       "      <th>가속도</th>\n",
       "      <th>플래그</th>\n",
       "      <th>VSP</th>\n",
       "      <th>매연</th>\n",
       "      <th>차량번호</th>\n",
       "      <th>차선번호</th>\n",
       "      <th>풍속</th>\n",
       "      <th>습도</th>\n",
       "      <th>온도</th>\n",
       "      <th>측정장소코드</th>\n",
       "      <th>측정날짜시간</th>\n",
       "    </tr>\n",
       "  </thead>\n",
       "  <tbody>\n",
       "    <tr>\n",
       "      <th>0</th>\n",
       "      <td>2022-10-04</td>\n",
       "      <td>10:31:20</td>\n",
       "      <td>N</td>\n",
       "      <td>V</td>\n",
       "      <td>71.60</td>\n",
       "      <td>0.00</td>\n",
       "      <td>V</td>\n",
       "      <td>17.89</td>\n",
       "      <td>0.60</td>\n",
       "      <td>60저3406</td>\n",
       "      <td>NaN</td>\n",
       "      <td>NaN</td>\n",
       "      <td>NaN</td>\n",
       "      <td>0.00</td>\n",
       "      <td>JAS001</td>\n",
       "      <td>2022-10-04 10:31:20</td>\n",
       "    </tr>\n",
       "    <tr>\n",
       "      <th>1</th>\n",
       "      <td>2022-10-04</td>\n",
       "      <td>10:31:46</td>\n",
       "      <td>N</td>\n",
       "      <td>V</td>\n",
       "      <td>60.70</td>\n",
       "      <td>0.00</td>\n",
       "      <td>V</td>\n",
       "      <td>2.65</td>\n",
       "      <td>0.80</td>\n",
       "      <td>41구0483</td>\n",
       "      <td>NaN</td>\n",
       "      <td>NaN</td>\n",
       "      <td>NaN</td>\n",
       "      <td>0.00</td>\n",
       "      <td>NaN</td>\n",
       "      <td>2022-10-04 10:31:46</td>\n",
       "    </tr>\n",
       "    <tr>\n",
       "      <th>2</th>\n",
       "      <td>2022-10-04</td>\n",
       "      <td>10:31:58</td>\n",
       "      <td>N</td>\n",
       "      <td>V</td>\n",
       "      <td>50.60</td>\n",
       "      <td>0.40</td>\n",
       "      <td>V</td>\n",
       "      <td>13.42</td>\n",
       "      <td>0.70</td>\n",
       "      <td>80러0579</td>\n",
       "      <td>NaN</td>\n",
       "      <td>NaN</td>\n",
       "      <td>NaN</td>\n",
       "      <td>0.00</td>\n",
       "      <td>NaN</td>\n",
       "      <td>2022-10-04 10:31:58</td>\n",
       "    </tr>\n",
       "    <tr>\n",
       "      <th>3</th>\n",
       "      <td>2022-10-04</td>\n",
       "      <td>10:32:47</td>\n",
       "      <td>N</td>\n",
       "      <td>V</td>\n",
       "      <td>53.30</td>\n",
       "      <td>1.40</td>\n",
       "      <td>V</td>\n",
       "      <td>18.71</td>\n",
       "      <td>0.90</td>\n",
       "      <td>94누0128</td>\n",
       "      <td>NaN</td>\n",
       "      <td>NaN</td>\n",
       "      <td>NaN</td>\n",
       "      <td>0.00</td>\n",
       "      <td>NaN</td>\n",
       "      <td>2022-10-04 10:32:47</td>\n",
       "    </tr>\n",
       "    <tr>\n",
       "      <th>4</th>\n",
       "      <td>2022-10-04</td>\n",
       "      <td>10:34:03</td>\n",
       "      <td>N</td>\n",
       "      <td>V</td>\n",
       "      <td>36.10</td>\n",
       "      <td>0.50</td>\n",
       "      <td>V</td>\n",
       "      <td>9.51</td>\n",
       "      <td>0.70</td>\n",
       "      <td>60수4386</td>\n",
       "      <td>NaN</td>\n",
       "      <td>NaN</td>\n",
       "      <td>NaN</td>\n",
       "      <td>0.00</td>\n",
       "      <td>NaN</td>\n",
       "      <td>2022-10-04 10:34:03</td>\n",
       "    </tr>\n",
       "  </tbody>\n",
       "</table>\n",
       "</div>"
      ],
      "text/plain": [
       "        측정날짜      측정시간 기록상태 유효    속도  가속도 플래그   VSP   매연     차량번호  차선번호  풍속  \\\n",
       "0 2022-10-04  10:31:20    N  V 71.60 0.00   V 17.89 0.60  60저3406   NaN NaN   \n",
       "1 2022-10-04  10:31:46    N  V 60.70 0.00   V  2.65 0.80  41구0483   NaN NaN   \n",
       "2 2022-10-04  10:31:58    N  V 50.60 0.40   V 13.42 0.70  80러0579   NaN NaN   \n",
       "3 2022-10-04  10:32:47    N  V 53.30 1.40   V 18.71 0.90  94누0128   NaN NaN   \n",
       "4 2022-10-04  10:34:03    N  V 36.10 0.50   V  9.51 0.70  60수4386   NaN NaN   \n",
       "\n",
       "   습도   온도  측정장소코드              측정날짜시간  \n",
       "0 NaN 0.00  JAS001 2022-10-04 10:31:20  \n",
       "1 NaN 0.00     NaN 2022-10-04 10:31:46  \n",
       "2 NaN 0.00     NaN 2022-10-04 10:31:58  \n",
       "3 NaN 0.00     NaN 2022-10-04 10:32:47  \n",
       "4 NaN 0.00     NaN 2022-10-04 10:34:03  "
      ]
     },
     "execution_count": 34,
     "metadata": {},
     "output_type": "execute_result"
    }
   ],
   "source": [
    "rsdr.head()"
   ]
  },
  {
   "cell_type": "code",
   "execution_count": 35,
   "metadata": {},
   "outputs": [],
   "source": [
    "# rsdr['측정날짜시간_요일'].unique()"
   ]
  },
  {
   "cell_type": "code",
   "execution_count": 36,
   "metadata": {},
   "outputs": [
    {
     "data": {
      "text/plain": [
       "(398673, 145008)"
      ]
     },
     "execution_count": 36,
     "metadata": {},
     "output_type": "execute_result"
    }
   ],
   "source": [
    "rsdr.shape[0], len(rsdr['차량번호'].unique())"
   ]
  },
  {
   "cell_type": "markdown",
   "metadata": {},
   "source": [
    "## 등록정보"
   ]
  },
  {
   "cell_type": "code",
   "execution_count": 37,
   "metadata": {},
   "outputs": [
    {
     "data": {
      "text/plain": [
       "dtype('O')"
      ]
     },
     "execution_count": 37,
     "metadata": {},
     "output_type": "execute_result"
    }
   ],
   "source": [
    "carr['수정일시'].dtype"
   ]
  },
  {
   "cell_type": "code",
   "execution_count": 38,
   "metadata": {},
   "outputs": [
    {
     "data": {
      "text/plain": [
       "0    2021-04-28 04:04:09.000000\n",
       "1    2022-10-13 04:10:15.000000\n",
       "2    2020-01-14 04:01:33.000000\n",
       "3                           NaN\n",
       "4                           NaN\n",
       "Name: 수정일시, dtype: object"
      ]
     },
     "execution_count": 38,
     "metadata": {},
     "output_type": "execute_result"
    }
   ],
   "source": [
    "carr['수정일시'].head()"
   ]
  },
  {
   "cell_type": "code",
   "execution_count": 39,
   "metadata": {},
   "outputs": [
    {
     "data": {
      "text/plain": [
       "count                       25062854\n",
       "unique                         17291\n",
       "top       2023-06-14 05:06:39.000000\n",
       "freq                          872014\n",
       "Name: 수정일시, dtype: object"
      ]
     },
     "execution_count": 39,
     "metadata": {},
     "output_type": "execute_result"
    }
   ],
   "source": [
    "carr['수정일시'].describe()"
   ]
  },
  {
   "cell_type": "code",
   "execution_count": 40,
   "metadata": {},
   "outputs": [
    {
     "data": {
      "text/plain": [
       "N    25795579\n",
       "Y     4830084\n",
       "Name: 차량말소YN, dtype: int64"
      ]
     },
     "execution_count": 40,
     "metadata": {},
     "output_type": "execute_result"
    }
   ],
   "source": [
    "carr['차량말소YN'].value_counts(dropna=False)"
   ]
  },
  {
   "cell_type": "code",
   "execution_count": 41,
   "metadata": {},
   "outputs": [
    {
     "data": {
      "text/plain": [
       "(30625663, 11)"
      ]
     },
     "execution_count": 41,
     "metadata": {},
     "output_type": "execute_result"
    }
   ],
   "source": [
    "carr.shape"
   ]
  },
  {
   "cell_type": "code",
   "execution_count": 42,
   "metadata": {},
   "outputs": [
    {
     "data": {
      "text/plain": [
       "(30460136, 11)"
      ]
     },
     "execution_count": 42,
     "metadata": {},
     "output_type": "execute_result"
    }
   ],
   "source": [
    "# 중복 차량번호 제거(최신 수정일시 남기기)\n",
    "# 2m 18s\n",
    "carr = carr.sort_values('수정일시', ascending=False).drop_duplicates('차량번호').reset_index(drop=True)\n",
    "carr.shape"
   ]
  },
  {
   "cell_type": "code",
   "execution_count": 43,
   "metadata": {},
   "outputs": [
    {
     "data": {
      "text/plain": [
       "(0, 11)"
      ]
     },
     "execution_count": 43,
     "metadata": {},
     "output_type": "execute_result"
    }
   ],
   "source": [
    "carr[carr['차량번호'].duplicated(keep=False)].shape"
   ]
  },
  {
   "cell_type": "code",
   "execution_count": 44,
   "metadata": {},
   "outputs": [
    {
     "data": {
      "text/plain": [
       "N    25788638\n",
       "Y     4671498\n",
       "Name: 차량말소YN, dtype: int64"
      ]
     },
     "execution_count": 44,
     "metadata": {},
     "output_type": "execute_result"
    }
   ],
   "source": [
    "carr['차량말소YN'].value_counts(dropna=False)"
   ]
  },
  {
   "cell_type": "code",
   "execution_count": 45,
   "metadata": {},
   "outputs": [
    {
     "data": {
      "text/plain": [
       "array(['1', '3', '2', nan, '4', '5'], dtype=object)"
      ]
     },
     "execution_count": 45,
     "metadata": {},
     "output_type": "execute_result"
    }
   ],
   "source": [
    "# 21s\n",
    "# 배출가스등급 코드 변환\n",
    "grd_dict = {\n",
    "    'A0501':'1', \n",
    "    'A0502':'2', \n",
    "    'A0503':'3', \n",
    "    'A0504':'4', \n",
    "    'A0505':'5', \n",
    "    'A05T2':'2',\n",
    "    'A05T3':'3', \n",
    "    'A05T4':'4', \n",
    "    'A05T5':'5', \n",
    "    'A05X':'X', \n",
    "}\n",
    "carr['배출가스등급'] = carr['배출가스등급'].replace(grd_dict)\n",
    "carr['배출가스등급'].unique()"
   ]
  },
  {
   "cell_type": "code",
   "execution_count": 46,
   "metadata": {},
   "outputs": [
    {
     "data": {
      "text/plain": [
       "array(['승용', '화물', '특수', '승합'], dtype=object)"
      ]
     },
     "execution_count": 46,
     "metadata": {},
     "output_type": "execute_result"
    }
   ],
   "source": [
    "# 16.1s\n",
    "# 차종 코드 변환\n",
    "cd_dict = {\n",
    "    'A31M':'이륜', \n",
    "    'A31P':'승용', \n",
    "    'A31S':'특수', \n",
    "    'A31T':'화물', \n",
    "    'A31V':'승합'\n",
    "}\n",
    "carr['차종'] = carr['차종'].replace(cd_dict)\n",
    "carr['차종'].unique()"
   ]
  },
  {
   "cell_type": "code",
   "execution_count": 47,
   "metadata": {},
   "outputs": [
    {
     "data": {
      "text/plain": [
       "Index(['배출가스인증번호', '배출가스등급', '최초등록일자', '제원관리번호', '수정일시', '차량말소YN', '차량제작일자',\n",
       "       '차량연식', '차종', '차대번호', '차량번호'],\n",
       "      dtype='object')"
      ]
     },
     "execution_count": 47,
     "metadata": {},
     "output_type": "execute_result"
    }
   ],
   "source": [
    "carr.columns"
   ]
  },
  {
   "cell_type": "markdown",
   "metadata": {},
   "source": [
    "## 제원정보"
   ]
  },
  {
   "cell_type": "code",
   "execution_count": 48,
   "metadata": {},
   "outputs": [
    {
     "data": {
      "text/plain": [
       "array(['휘발유', '경유', '기타연료', 'LPG', nan, '휘발유_하이브리드', 'CNG', '등유', '태양열',\n",
       "       '경유_하이브리드', '전기', '알코올', 'LPG_하이브리드', '수소', 'LNG', 'CNG_하이브리드'],\n",
       "      dtype=object)"
      ]
     },
     "execution_count": 48,
     "metadata": {},
     "output_type": "execute_result"
    }
   ],
   "source": [
    "## 연료 코드 변환\n",
    "fuel_dict = {\n",
    "    'A90GS':'휘발유', \n",
    "    'A91DS':'경유',\n",
    "    'A92LP':'LPG', \n",
    "    'A90GH':'휘발유_하이브리드', \n",
    "    'A93EV':'전기', \n",
    "    'A91DH':'경유_하이브리드', \n",
    "    'A92CN':'CNG', \n",
    "    'A93HD':'수소', \n",
    "    'A92LH':'LPG_하이브리드', \n",
    "    'A94OT':'기타연료', \n",
    "    'A92CH':'CNG_하이브리드',\n",
    "    'A90AC':'알코올', \n",
    "    'A93SH':'태양열', \n",
    "    'A91KS':'등유', \n",
    "    'A92LN':'LNG', \n",
    "    'A90PH':'플러그인_하이브리드', \n",
    "}\n",
    "srcr['연료'] = srcr['연료'].replace(fuel_dict)\n",
    "srcr['연료'].unique()"
   ]
  },
  {
   "cell_type": "code",
   "execution_count": 49,
   "metadata": {},
   "outputs": [
    {
     "data": {
      "text/plain": [
       "array(['대형', '중형', '소형', '경형', nan], dtype=object)"
      ]
     },
     "execution_count": 49,
     "metadata": {},
     "output_type": "execute_result"
    }
   ],
   "source": [
    "## 차종유형 코드 변환\n",
    "ty_dict = {\n",
    "    'A30C':'경형', \n",
    "    'A30L':'대형', \n",
    "    'A30M':'중형', \n",
    "    'A30S':'소형',\n",
    "}\n",
    "srcr['차종유형'] = srcr['차종유형'].replace(ty_dict)\n",
    "srcr['차종유형'].unique()"
   ]
  },
  {
   "cell_type": "markdown",
   "metadata": {},
   "source": [
    "## 정밀검사"
   ]
  },
  {
   "cell_type": "code",
   "execution_count": 50,
   "metadata": {},
   "outputs": [
    {
     "data": {
      "text/plain": [
       "(102191938, 12)"
      ]
     },
     "execution_count": 50,
     "metadata": {},
     "output_type": "execute_result"
    }
   ],
   "source": [
    "eetr.shape"
   ]
  },
  {
   "cell_type": "code",
   "execution_count": 53,
   "metadata": {},
   "outputs": [],
   "source": [
    "# ## 검사종류 코드 변환\n",
    "# # 27.5s\n",
    "# knd_dict = {\n",
    "#     'A21P01':'정밀검사', \n",
    "#     'A1904':'정기검사', \n",
    "#     'A21T06':'종합검사(경과)', \n",
    "#     'A21T05':'종합검사', \n",
    "#     'A21S01':'특정검사', \n",
    "#     'A1902':'재검사(2부재검사)',\n",
    "#     'A21R02':'2부재검사(종합)', \n",
    "#     'A21P02':'정밀검사(경과)', \n",
    "#     'A1903':'정기(경과)검사', \n",
    "#     'A21S04':'특정재검사(배출)', \n",
    "#     'A21E01':'배출재검사', \n",
    "#     'A21R01':'1부재검사(종합)',\n",
    "#     'A21C02':'구조변경검사', \n",
    "#     'A21002':'관능재검사(임시)', \n",
    "#     'A21S03':'특정재검사(관능)', \n",
    "#     'A21S02':'특정검사(경과)', \n",
    "#     'A1901':'재검사(1부재검사)', \n",
    "#     'A21T02':'종합(정밀)',\n",
    "#     'A21E02':'배출재검사(구변)', \n",
    "#     'A21T01':'종합(경과:정밀)', \n",
    "#     'A21T04':'종합(정밀) 2부재검사', \n",
    "#     'A21001':'관능재검사', \n",
    "#     'A21T03':'종합(정밀) 1부재검사', \n",
    "#     'A21TMP':'임시검사', \n",
    "# }\n",
    "# eetr['검사종류'] = eetr['검사종류'].replace(knd_dict)\n",
    "# eetr['검사종류'].unique()"
   ]
  },
  {
   "cell_type": "code",
   "execution_count": 52,
   "metadata": {},
   "outputs": [
    {
     "data": {
      "text/plain": [
       "array(['부하검사(ASM-Idling)', '부하검사(KD-147)', '무부하검사(급가속)', '부하검사(LUG DOWN)',\n",
       "       '무부하검사(TSI)', '무부하검사(정지가동)', '부하검사(ASM2525)', nan], dtype=object)"
      ]
     },
     "execution_count": 52,
     "metadata": {},
     "output_type": "execute_result"
    }
   ],
   "source": [
    "## 검사방법 코드 변환\n",
    "# 14.9s\n",
    "mth_dict = {\n",
    "    'A18A':'무부하검사(TSI)', \n",
    "    'A18B':'무부하검사(급가속)', \n",
    "    'A18C':'무부하검사(정지가동)',\n",
    "    'A2301':'무부하검사(급가속)', \n",
    "    'A2302':'무부하검사(정지가동)',\n",
    "    'A2303':'무부하검사(TSI)', \n",
    "    'A2304':'부하검사(LUG DOWN)', \n",
    "    'A2305':'부하검사(ASM-Idling)', \n",
    "    'A2306':'부하검사(KD-147)', \n",
    "    'A2307':'부하검사(ASM2525)', \n",
    "}\n",
    "eetr['검사방법'] = eetr['검사방법'].replace(mth_dict)\n",
    "eetr['검사방법'].unique()"
   ]
  },
  {
   "cell_type": "code",
   "execution_count": 54,
   "metadata": {},
   "outputs": [
    {
     "data": {
      "text/plain": [
       "Index(['차대번호', '무부하매연측정치1', '무부하매연판정1', '무부하매연허용치1', '무부하매연측정치2', '무부하매연판정2',\n",
       "       '무부하매연허용치2', '무부하매연측정치3', '무부하매연판정3', '무부하매연허용치3', '검사방법', '검사일자'],\n",
       "      dtype='object')"
      ]
     },
     "execution_count": 54,
     "metadata": {},
     "output_type": "execute_result"
    }
   ],
   "source": [
    "eetr.columns"
   ]
  },
  {
   "cell_type": "code",
   "execution_count": 55,
   "metadata": {},
   "outputs": [
    {
     "data": {
      "text/plain": [
       "dtype('int64')"
      ]
     },
     "execution_count": 55,
     "metadata": {},
     "output_type": "execute_result"
    }
   ],
   "source": [
    "eetr['검사일자'].dtype"
   ]
  },
  {
   "cell_type": "code",
   "execution_count": 56,
   "metadata": {},
   "outputs": [
    {
     "data": {
      "text/plain": [
       "0"
      ]
     },
     "execution_count": 56,
     "metadata": {},
     "output_type": "execute_result"
    }
   ],
   "source": [
    "eetr['검사일자'].isnull().sum()"
   ]
  },
  {
   "cell_type": "code",
   "execution_count": 57,
   "metadata": {},
   "outputs": [
    {
     "data": {
      "text/html": [
       "<div>\n",
       "<style scoped>\n",
       "    .dataframe tbody tr th:only-of-type {\n",
       "        vertical-align: middle;\n",
       "    }\n",
       "\n",
       "    .dataframe tbody tr th {\n",
       "        vertical-align: top;\n",
       "    }\n",
       "\n",
       "    .dataframe thead th {\n",
       "        text-align: right;\n",
       "    }\n",
       "</style>\n",
       "<table border=\"1\" class=\"dataframe\">\n",
       "  <thead>\n",
       "    <tr style=\"text-align: right;\">\n",
       "      <th></th>\n",
       "      <th>차대번호</th>\n",
       "      <th>무부하매연측정치1</th>\n",
       "      <th>무부하매연판정1</th>\n",
       "      <th>무부하매연허용치1</th>\n",
       "      <th>무부하매연측정치2</th>\n",
       "      <th>무부하매연판정2</th>\n",
       "      <th>무부하매연허용치2</th>\n",
       "      <th>무부하매연측정치3</th>\n",
       "      <th>무부하매연판정3</th>\n",
       "      <th>무부하매연허용치3</th>\n",
       "      <th>검사방법</th>\n",
       "      <th>검사일자</th>\n",
       "    </tr>\n",
       "  </thead>\n",
       "  <tbody>\n",
       "    <tr>\n",
       "      <th>0</th>\n",
       "      <td>KNMA4C2BM5P195759</td>\n",
       "      <td>0.05</td>\n",
       "      <td>Y</td>\n",
       "      <td>0.46</td>\n",
       "      <td>3.00</td>\n",
       "      <td>Y</td>\n",
       "      <td>90.00</td>\n",
       "      <td>1.00</td>\n",
       "      <td>Y</td>\n",
       "      <td>630.00</td>\n",
       "      <td>부하검사(ASM-Idling)</td>\n",
       "      <td>20230422</td>\n",
       "    </tr>\n",
       "    <tr>\n",
       "      <th>1</th>\n",
       "      <td>KMJHG17HPBC011031</td>\n",
       "      <td>19.00</td>\n",
       "      <td>N</td>\n",
       "      <td>15.00</td>\n",
       "      <td>NaN</td>\n",
       "      <td>NaN</td>\n",
       "      <td>NaN</td>\n",
       "      <td>NaN</td>\n",
       "      <td>NaN</td>\n",
       "      <td>NaN</td>\n",
       "      <td>부하검사(KD-147)</td>\n",
       "      <td>20230422</td>\n",
       "    </tr>\n",
       "    <tr>\n",
       "      <th>2</th>\n",
       "      <td>KNAKU815BBA201282</td>\n",
       "      <td>0.00</td>\n",
       "      <td>Y</td>\n",
       "      <td>15.00</td>\n",
       "      <td>NaN</td>\n",
       "      <td>NaN</td>\n",
       "      <td>NaN</td>\n",
       "      <td>NaN</td>\n",
       "      <td>NaN</td>\n",
       "      <td>NaN</td>\n",
       "      <td>부하검사(KD-147)</td>\n",
       "      <td>20230422</td>\n",
       "    </tr>\n",
       "    <tr>\n",
       "      <th>3</th>\n",
       "      <td>KNALM415BDA122710</td>\n",
       "      <td>0.02</td>\n",
       "      <td>Y</td>\n",
       "      <td>0.46</td>\n",
       "      <td>5.00</td>\n",
       "      <td>Y</td>\n",
       "      <td>37.00</td>\n",
       "      <td>1.00</td>\n",
       "      <td>Y</td>\n",
       "      <td>610.00</td>\n",
       "      <td>부하검사(ASM-Idling)</td>\n",
       "      <td>20230422</td>\n",
       "    </tr>\n",
       "    <tr>\n",
       "      <th>4</th>\n",
       "      <td>KMHFA41CP9A441809</td>\n",
       "      <td>0.20</td>\n",
       "      <td>Y</td>\n",
       "      <td>0.46</td>\n",
       "      <td>0.00</td>\n",
       "      <td>Y</td>\n",
       "      <td>37.00</td>\n",
       "      <td>0.00</td>\n",
       "      <td>Y</td>\n",
       "      <td>610.00</td>\n",
       "      <td>부하검사(ASM-Idling)</td>\n",
       "      <td>20230422</td>\n",
       "    </tr>\n",
       "  </tbody>\n",
       "</table>\n",
       "</div>"
      ],
      "text/plain": [
       "                차대번호  무부하매연측정치1 무부하매연판정1  무부하매연허용치1  무부하매연측정치2 무부하매연판정2  \\\n",
       "0  KNMA4C2BM5P195759       0.05        Y       0.46       3.00        Y   \n",
       "1  KMJHG17HPBC011031      19.00        N      15.00        NaN      NaN   \n",
       "2  KNAKU815BBA201282       0.00        Y      15.00        NaN      NaN   \n",
       "3  KNALM415BDA122710       0.02        Y       0.46       5.00        Y   \n",
       "4  KMHFA41CP9A441809       0.20        Y       0.46       0.00        Y   \n",
       "\n",
       "   무부하매연허용치2  무부하매연측정치3 무부하매연판정3  무부하매연허용치3              검사방법      검사일자  \n",
       "0      90.00       1.00        Y     630.00  부하검사(ASM-Idling)  20230422  \n",
       "1        NaN        NaN      NaN        NaN      부하검사(KD-147)  20230422  \n",
       "2        NaN        NaN      NaN        NaN      부하검사(KD-147)  20230422  \n",
       "3      37.00       1.00        Y     610.00  부하검사(ASM-Idling)  20230422  \n",
       "4      37.00       0.00        Y     610.00  부하검사(ASM-Idling)  20230422  "
      ]
     },
     "execution_count": 57,
     "metadata": {},
     "output_type": "execute_result"
    }
   ],
   "source": [
    "eetr.head()"
   ]
  },
  {
   "cell_type": "code",
   "execution_count": 58,
   "metadata": {},
   "outputs": [],
   "source": [
    "# 2.1s\n",
    "eetr['검사일자'] = pd.to_datetime(eetr['검사일자'], format=\"%Y%m%d\")"
   ]
  },
  {
   "cell_type": "code",
   "execution_count": 59,
   "metadata": {},
   "outputs": [
    {
     "data": {
      "text/plain": [
       "0"
      ]
     },
     "execution_count": 59,
     "metadata": {},
     "output_type": "execute_result"
    }
   ],
   "source": [
    "eetr['검사일자'].isnull().sum()"
   ]
  },
  {
   "cell_type": "code",
   "execution_count": 60,
   "metadata": {},
   "outputs": [
    {
     "data": {
      "text/plain": [
       "0   2023-04-22\n",
       "1   2023-04-22\n",
       "2   2023-04-22\n",
       "3   2023-04-22\n",
       "4   2023-04-22\n",
       "Name: 검사일자, dtype: datetime64[ns]"
      ]
     },
     "execution_count": 60,
     "metadata": {},
     "output_type": "execute_result"
    }
   ],
   "source": [
    "eetr['검사일자'].head()"
   ]
  },
  {
   "cell_type": "markdown",
   "metadata": {},
   "source": [
    "### 최신검사만"
   ]
  },
  {
   "cell_type": "code",
   "execution_count": 61,
   "metadata": {},
   "outputs": [
    {
     "data": {
      "text/plain": [
       "(102191938, 26723911)"
      ]
     },
     "execution_count": 61,
     "metadata": {},
     "output_type": "execute_result"
    }
   ],
   "source": [
    "# 27.6s\n",
    "# 102191938, 26723911\n",
    "eetr.shape[0], len(eetr['차대번호'].unique())"
   ]
  },
  {
   "cell_type": "code",
   "execution_count": 62,
   "metadata": {},
   "outputs": [
    {
     "data": {
      "text/plain": [
       "(26723911, 12)"
      ]
     },
     "execution_count": 62,
     "metadata": {},
     "output_type": "execute_result"
    }
   ],
   "source": [
    "# 1m 43.4s\n",
    "eetr = eetr.sort_values('검사일자', ascending=False).drop_duplicates('차대번호').reset_index(drop=True)\n",
    "eetr.shape"
   ]
  },
  {
   "cell_type": "markdown",
   "metadata": {},
   "source": [
    "### 2022년 1월부터 사용"
   ]
  },
  {
   "cell_type": "code",
   "execution_count": 63,
   "metadata": {},
   "outputs": [
    {
     "data": {
      "text/plain": [
       "0   2023-07-31\n",
       "1   2023-07-31\n",
       "2   2023-07-31\n",
       "3   2023-07-31\n",
       "4   2023-07-31\n",
       "Name: 검사일자, dtype: datetime64[ns]"
      ]
     },
     "execution_count": 63,
     "metadata": {},
     "output_type": "execute_result"
    }
   ],
   "source": [
    "eetr['검사일자'].head()"
   ]
  },
  {
   "cell_type": "code",
   "execution_count": 64,
   "metadata": {},
   "outputs": [
    {
     "data": {
      "text/plain": [
       "(11577336, 12)"
      ]
     },
     "execution_count": 64,
     "metadata": {},
     "output_type": "execute_result"
    }
   ],
   "source": [
    "# 3.0s\n",
    "eetr = eetr[eetr['검사일자'] >= '2022-01-01'].reset_index(drop=True)\n",
    "eetr.shape"
   ]
  },
  {
   "cell_type": "code",
   "execution_count": 65,
   "metadata": {},
   "outputs": [
    {
     "data": {
      "text/plain": [
       "0"
      ]
     },
     "execution_count": 65,
     "metadata": {},
     "output_type": "execute_result"
    }
   ],
   "source": [
    "eetr['차대번호'].isnull().sum()"
   ]
  },
  {
   "cell_type": "markdown",
   "metadata": {},
   "source": [
    "## 원격&등록"
   ]
  },
  {
   "cell_type": "code",
   "execution_count": 66,
   "metadata": {},
   "outputs": [
    {
     "data": {
      "text/plain": [
       "(398673, 16)"
      ]
     },
     "execution_count": 66,
     "metadata": {},
     "output_type": "execute_result"
    }
   ],
   "source": [
    "rsdr.shape"
   ]
  },
  {
   "cell_type": "code",
   "execution_count": 67,
   "metadata": {},
   "outputs": [
    {
     "data": {
      "text/plain": [
       "Index(['측정날짜', '측정시간', '기록상태', '유효', '속도', '가속도', '플래그', 'VSP', '매연', '차량번호',\n",
       "       '차선번호', '풍속', '습도', '온도', '측정장소코드', '측정날짜시간'],\n",
       "      dtype='object')"
      ]
     },
     "execution_count": 67,
     "metadata": {},
     "output_type": "execute_result"
    }
   ],
   "source": [
    "rsdr.columns"
   ]
  },
  {
   "cell_type": "code",
   "execution_count": 68,
   "metadata": {},
   "outputs": [
    {
     "data": {
      "text/plain": [
       "Index(['배출가스인증번호', '배출가스등급', '최초등록일자', '제원관리번호', '수정일시', '차량말소YN', '차량제작일자',\n",
       "       '차량연식', '차종', '차대번호', '차량번호'],\n",
       "      dtype='object')"
      ]
     },
     "execution_count": 68,
     "metadata": {},
     "output_type": "execute_result"
    }
   ],
   "source": [
    "carr.columns"
   ]
  },
  {
   "cell_type": "code",
   "execution_count": 69,
   "metadata": {},
   "outputs": [
    {
     "data": {
      "text/plain": [
       "(398673, 26)"
      ]
     },
     "execution_count": 69,
     "metadata": {},
     "output_type": "execute_result"
    }
   ],
   "source": [
    "# 44s\n",
    "rc = rsdr.merge(carr, on='차량번호', how='left')\n",
    "rc.shape"
   ]
  },
  {
   "cell_type": "code",
   "execution_count": 71,
   "metadata": {},
   "outputs": [
    {
     "data": {
      "text/plain": [
       "차량번호         0\n",
       "차대번호    139426\n",
       "dtype: int64"
      ]
     },
     "execution_count": 71,
     "metadata": {},
     "output_type": "execute_result"
    }
   ],
   "source": [
    "rc[['차량번호', '차대번호']].isnull().sum()"
   ]
  },
  {
   "cell_type": "code",
   "execution_count": 72,
   "metadata": {},
   "outputs": [
    {
     "data": {
      "text/plain": [
       "(398673, 138444)"
      ]
     },
     "execution_count": 72,
     "metadata": {},
     "output_type": "execute_result"
    }
   ],
   "source": [
    "rc.shape[0], len(rc['차대번호'].unique())"
   ]
  },
  {
   "cell_type": "code",
   "execution_count": 76,
   "metadata": {},
   "outputs": [
    {
     "data": {
      "text/plain": [
       "(398673, 17840)"
      ]
     },
     "execution_count": 76,
     "metadata": {},
     "output_type": "execute_result"
    }
   ],
   "source": [
    "rc.shape[0], len(rc['제원관리번호'].unique())"
   ]
  },
  {
   "cell_type": "markdown",
   "metadata": {},
   "source": [
    "## 원격&등록&제원"
   ]
  },
  {
   "cell_type": "code",
   "execution_count": 73,
   "metadata": {},
   "outputs": [
    {
     "data": {
      "text/plain": [
       "(566615, 11)"
      ]
     },
     "execution_count": 73,
     "metadata": {},
     "output_type": "execute_result"
    }
   ],
   "source": [
    "srcr.shape"
   ]
  },
  {
   "cell_type": "code",
   "execution_count": 74,
   "metadata": {},
   "outputs": [
    {
     "data": {
      "text/plain": [
       "Index(['자동차형식', '배기량', '엔진출력', '엔진형식', '연료', '제작사명', '제원관리번호', '총중량', '차명',\n",
       "       '차종분류', '차종유형'],\n",
       "      dtype='object')"
      ]
     },
     "execution_count": 74,
     "metadata": {},
     "output_type": "execute_result"
    }
   ],
   "source": [
    "srcr.columns"
   ]
  },
  {
   "cell_type": "code",
   "execution_count": 75,
   "metadata": {},
   "outputs": [
    {
     "data": {
      "text/plain": [
       "(398673, 26)"
      ]
     },
     "execution_count": 75,
     "metadata": {},
     "output_type": "execute_result"
    }
   ],
   "source": [
    "rc.shape"
   ]
  },
  {
   "cell_type": "code",
   "execution_count": 77,
   "metadata": {},
   "outputs": [
    {
     "data": {
      "text/plain": [
       "(398673, 36)"
      ]
     },
     "execution_count": 77,
     "metadata": {},
     "output_type": "execute_result"
    }
   ],
   "source": [
    "rcs = rc.merge(srcr, on='제원관리번호', how='left')\n",
    "rcs.shape"
   ]
  },
  {
   "cell_type": "code",
   "execution_count": 78,
   "metadata": {},
   "outputs": [
    {
     "data": {
      "text/plain": [
       "차량번호         0\n",
       "차대번호    139426\n",
       "연료      139456\n",
       "dtype: int64"
      ]
     },
     "execution_count": 78,
     "metadata": {},
     "output_type": "execute_result"
    }
   ],
   "source": [
    "rcs[['차량번호', '차대번호', '연료']].isnull().sum()"
   ]
  },
  {
   "cell_type": "markdown",
   "metadata": {},
   "source": [
    "## 원격&등록&제원&정밀"
   ]
  },
  {
   "cell_type": "code",
   "execution_count": 79,
   "metadata": {},
   "outputs": [
    {
     "data": {
      "text/plain": [
       "(398673, 36)"
      ]
     },
     "execution_count": 79,
     "metadata": {},
     "output_type": "execute_result"
    }
   ],
   "source": [
    "rcs.shape"
   ]
  },
  {
   "cell_type": "code",
   "execution_count": 80,
   "metadata": {},
   "outputs": [
    {
     "data": {
      "text/plain": [
       "(11577336, 12)"
      ]
     },
     "execution_count": 80,
     "metadata": {},
     "output_type": "execute_result"
    }
   ],
   "source": [
    "eetr.shape"
   ]
  },
  {
   "cell_type": "code",
   "execution_count": 81,
   "metadata": {},
   "outputs": [
    {
     "data": {
      "text/plain": [
       "0"
      ]
     },
     "execution_count": 81,
     "metadata": {},
     "output_type": "execute_result"
    }
   ],
   "source": [
    "eetr['검사일자'].isnull().sum()"
   ]
  },
  {
   "cell_type": "code",
   "execution_count": 82,
   "metadata": {},
   "outputs": [
    {
     "data": {
      "text/plain": [
       "(398673, 47)"
      ]
     },
     "execution_count": 82,
     "metadata": {},
     "output_type": "execute_result"
    }
   ],
   "source": [
    "# 38.8s\n",
    "rcse = rcs.merge(eetr, on='차대번호', how='left')\n",
    "rcse.shape"
   ]
  },
  {
   "cell_type": "code",
   "execution_count": 83,
   "metadata": {},
   "outputs": [
    {
     "data": {
      "text/plain": [
       "차량번호         0\n",
       "연료      139456\n",
       "검사일자    277297\n",
       "dtype: int64"
      ]
     },
     "execution_count": 83,
     "metadata": {},
     "output_type": "execute_result"
    }
   ],
   "source": [
    "rcse[['차량번호', '연료', '검사일자']].isnull().sum()"
   ]
  },
  {
   "cell_type": "markdown",
   "metadata": {},
   "source": [
    "### [출력] 원격&등록&제원&정밀"
   ]
  },
  {
   "cell_type": "code",
   "execution_count": 84,
   "metadata": {},
   "outputs": [
    {
     "data": {
      "text/plain": [
       "'20231004'"
      ]
     },
     "execution_count": 84,
     "metadata": {},
     "output_type": "execute_result"
    }
   ],
   "source": [
    "today_date = datetime.today().strftime(\"%Y%m%d\")\n",
    "today_date"
   ]
  },
  {
   "cell_type": "code",
   "execution_count": 85,
   "metadata": {},
   "outputs": [
    {
     "data": {
      "text/plain": [
       "Index(['측정날짜', '측정시간', '기록상태', '유효', '속도', '가속도', '플래그', 'VSP', '매연', '차량번호',\n",
       "       '차선번호', '풍속', '습도', '온도', '측정장소코드', '측정날짜시간', '배출가스인증번호', '배출가스등급',\n",
       "       '최초등록일자', '제원관리번호', '수정일시', '차량말소YN', '차량제작일자', '차량연식', '차종', '차대번호',\n",
       "       '자동차형식', '배기량', '엔진출력', '엔진형식', '연료', '제작사명', '총중량', '차명', '차종분류',\n",
       "       '차종유형', '무부하매연측정치1', '무부하매연판정1', '무부하매연허용치1', '무부하매연측정치2', '무부하매연판정2',\n",
       "       '무부하매연허용치2', '무부하매연측정치3', '무부하매연판정3', '무부하매연허용치3', '검사방법', '검사일자'],\n",
       "      dtype='object')"
      ]
     },
     "execution_count": 85,
     "metadata": {},
     "output_type": "execute_result"
    }
   ],
   "source": [
    "rcse.columns"
   ]
  },
  {
   "cell_type": "code",
   "execution_count": 104,
   "metadata": {},
   "outputs": [
    {
     "data": {
      "text/plain": [
       "47"
      ]
     },
     "execution_count": 104,
     "metadata": {},
     "output_type": "execute_result"
    }
   ],
   "source": [
    "rcse_cols = [\n",
    "    # 원격측정정보\n",
    "    '측정날짜',\n",
    "    '측정시간',\n",
    "    '기록상태',\n",
    "    '유효',\n",
    "    '속도',\n",
    "    '가속도',\n",
    "    '플래그',\n",
    "    'VSP',\n",
    "    '매연',\n",
    "    '차량번호',\n",
    "    '차선번호',\n",
    "    '풍속',\n",
    "    '습도',\n",
    "    '온도',\n",
    "    '측정장소코드',\n",
    "    '측정날짜시간',\n",
    "    \n",
    "    # 제원정보\n",
    "    '배출가스인증번호', \n",
    "    '배출가스등급', \n",
    "    '최초등록일자', \n",
    "    '제원관리번호', \n",
    "    '수정일시', \n",
    "    '차량말소YN', \n",
    "    '차량제작일자', \n",
    "    '차량연식', \n",
    "    '차종', \n",
    "    '차대번호', \n",
    "    '자동차형식', \n",
    "    '배기량', \n",
    "    '엔진출력', \n",
    "    '엔진형식', \n",
    "    '연료', \n",
    "    '제작사명', \n",
    "    '총중량', \n",
    "    '차명', \n",
    "    '차종분류', \n",
    "    '차종유형', \n",
    "    \n",
    "    # 정밀검사\n",
    "    '무부하매연측정치1', # CO(매연)\n",
    "    '무부하매연판정1', \n",
    "    '무부하매연허용치1', \n",
    "    '무부하매연측정치2', \n",
    "    '무부하매연판정2', \n",
    "    '무부하매연허용치2', \n",
    "    '무부하매연측정치3', # NOx \n",
    "    '무부하매연판정3', \n",
    "    '무부하매연허용치3', \n",
    "    '검사방법', \n",
    "    '검사일자', \n",
    "    ]\n",
    "len(rcse_cols)"
   ]
  },
  {
   "cell_type": "code",
   "execution_count": 107,
   "metadata": {},
   "outputs": [
    {
     "name": "stdout",
     "output_type": "stream",
     "text": [
      "원격_등록_제원_정밀(20231004).csv 출력 완료.\n"
     ]
    }
   ],
   "source": [
    "# 10.6s\n",
    "file_name = f'원격_등록_제원_정밀({today_date}).csv'\n",
    "rcse[rcse_cols].to_csv(os.path.join(raw_fold, file_name), index=False)\n",
    "print(f'{file_name} 출력 완료.')"
   ]
  },
  {
   "cell_type": "markdown",
   "metadata": {},
   "source": [
    "## 유효데이터만 추출\n",
    "- vdfRecordStatus = N\n",
    "- vdfValid = V\n",
    "- samFlag = V\n",
    "- 자동차등록번호 : nan, 오류 값(********) 제외\n",
    "- 매연 5% 초과 제외"
   ]
  },
  {
   "cell_type": "code",
   "execution_count": 87,
   "metadata": {},
   "outputs": [
    {
     "data": {
      "text/plain": [
       "NaN     280770\n",
       "2.00     47427\n",
       "1.00     38417\n",
       "3.00     32059\n",
       "Name: 차선번호, dtype: int64"
      ]
     },
     "execution_count": 87,
     "metadata": {},
     "output_type": "execute_result"
    }
   ],
   "source": [
    "rcse['차선번호'].value_counts(dropna=False)"
   ]
  },
  {
   "cell_type": "code",
   "execution_count": 88,
   "metadata": {},
   "outputs": [
    {
     "data": {
      "text/plain": [
       "279391   2023-08-14\n",
       "282205   2023-08-14\n",
       "282206   2023-08-14\n",
       "282207   2023-08-14\n",
       "282208   2023-08-14\n",
       "            ...    \n",
       "394859   2023-09-10\n",
       "394858   2023-09-10\n",
       "394857   2023-09-10\n",
       "394865   2023-09-10\n",
       "398663   2023-09-10\n",
       "Name: 측정날짜, Length: 117903, dtype: datetime64[ns]"
      ]
     },
     "execution_count": 88,
     "metadata": {},
     "output_type": "execute_result"
    }
   ],
   "source": [
    "rcse.loc[rcse['차선번호'].isnull() == False, '측정날짜'].sort_values()"
   ]
  },
  {
   "cell_type": "code",
   "execution_count": 89,
   "metadata": {},
   "outputs": [
    {
     "name": "stderr",
     "output_type": "stream",
     "text": [
      "C:\\Users\\kbjung\\AppData\\Local\\Temp\\ipykernel_15392\\3811848111.py:2: SettingWithCopyWarning: \n",
      "A value is trying to be set on a copy of a slice from a DataFrame.\n",
      "Try using .loc[row_indexer,col_indexer] = value instead\n",
      "\n",
      "See the caveats in the documentation: https://pandas.pydata.org/pandas-docs/stable/user_guide/indexing.html#returning-a-view-versus-a-copy\n",
      "  temp['측정날짜'] = pd.to_datetime(temp['측정날짜'], errors='coerce')\n"
     ]
    }
   ],
   "source": [
    "temp = rcse.loc[rcse['차선번호'].isnull() == False]\n",
    "temp['측정날짜'] = pd.to_datetime(temp['측정날짜'], errors='coerce')"
   ]
  },
  {
   "cell_type": "code",
   "execution_count": 90,
   "metadata": {},
   "outputs": [
    {
     "name": "stderr",
     "output_type": "stream",
     "text": [
      "C:\\Users\\kbjung\\AppData\\Local\\Temp\\ipykernel_15392\\2014358724.py:1: FutureWarning: Treating datetime data as categorical rather than numeric in `.describe` is deprecated and will be removed in a future version of pandas. Specify `datetime_is_numeric=True` to silence this warning and adopt the future behavior now.\n",
      "  temp['측정날짜'].describe()\n"
     ]
    },
    {
     "data": {
      "text/plain": [
       "count                  117903\n",
       "unique                     22\n",
       "top       2023-08-31 00:00:00\n",
       "freq                     8673\n",
       "first     2023-08-14 00:00:00\n",
       "last      2023-09-10 00:00:00\n",
       "Name: 측정날짜, dtype: object"
      ]
     },
     "execution_count": 90,
     "metadata": {},
     "output_type": "execute_result"
    }
   ],
   "source": [
    "temp['측정날짜'].describe()"
   ]
  },
  {
   "cell_type": "code",
   "execution_count": 91,
   "metadata": {},
   "outputs": [
    {
     "data": {
      "text/plain": [
       "Index(['측정날짜', '측정시간', '기록상태', '유효', '속도', '가속도', '플래그', 'VSP', '매연', '차량번호',\n",
       "       '차선번호', '풍속', '습도', '온도', '측정장소코드', '측정날짜시간', '배출가스인증번호', '배출가스등급',\n",
       "       '최초등록일자', '제원관리번호', '수정일시', '차량말소YN', '차량제작일자', '차량연식', '차종', '차대번호',\n",
       "       '자동차형식', '배기량', '엔진출력', '엔진형식', '연료', '제작사명', '총중량', '차명', '차종분류',\n",
       "       '차종유형', '무부하매연측정치1', '무부하매연판정1', '무부하매연허용치1', '무부하매연측정치2', '무부하매연판정2',\n",
       "       '무부하매연허용치2', '무부하매연측정치3', '무부하매연판정3', '무부하매연허용치3', '검사방법', '검사일자'],\n",
       "      dtype='object')"
      ]
     },
     "execution_count": 91,
     "metadata": {},
     "output_type": "execute_result"
    }
   ],
   "source": [
    "rcse.columns"
   ]
  },
  {
   "cell_type": "code",
   "execution_count": 92,
   "metadata": {},
   "outputs": [
    {
     "data": {
      "text/plain": [
       "0    60저3406\n",
       "1    41구0483\n",
       "2    80러0579\n",
       "3    94누0128\n",
       "4    60수4386\n",
       "Name: 차량번호, dtype: object"
      ]
     },
     "execution_count": 92,
     "metadata": {},
     "output_type": "execute_result"
    }
   ],
   "source": [
    "rcse['차량번호'].head()"
   ]
  },
  {
   "cell_type": "code",
   "execution_count": 93,
   "metadata": {},
   "outputs": [
    {
     "data": {
      "text/plain": [
       "((398673, 47), 145008)"
      ]
     },
     "execution_count": 93,
     "metadata": {},
     "output_type": "execute_result"
    }
   ],
   "source": [
    "rcse.shape, len(rcse['차량번호'].unique())"
   ]
  },
  {
   "cell_type": "code",
   "execution_count": 94,
   "metadata": {},
   "outputs": [
    {
     "data": {
      "text/plain": [
       "0"
      ]
     },
     "execution_count": 94,
     "metadata": {},
     "output_type": "execute_result"
    }
   ],
   "source": [
    "rcse['차량번호'].isnull().sum()"
   ]
  },
  {
   "cell_type": "code",
   "execution_count": 95,
   "metadata": {},
   "outputs": [
    {
     "data": {
      "text/plain": [
       "(128491, 47)"
      ]
     },
     "execution_count": 95,
     "metadata": {},
     "output_type": "execute_result"
    }
   ],
   "source": [
    "rcse[rcse['차량번호'] == '********'].shape"
   ]
  },
  {
   "cell_type": "code",
   "execution_count": 96,
   "metadata": {},
   "outputs": [
    {
     "data": {
      "text/plain": [
       "N    394679\n",
       "A      2617\n",
       "C      1377\n",
       "Name: 기록상태, dtype: int64"
      ]
     },
     "execution_count": 96,
     "metadata": {},
     "output_type": "execute_result"
    }
   ],
   "source": [
    "# N : 일반데이터, C : 교정 중 측정된자료, A : Audit데이터(표준필터 측정값)\n",
    "rcse['기록상태'].value_counts(dropna=False)"
   ]
  },
  {
   "cell_type": "code",
   "execution_count": 97,
   "metadata": {},
   "outputs": [
    {
     "data": {
      "text/plain": [
       "V    397284\n",
       "x      1389\n",
       "Name: 유효, dtype: int64"
      ]
     },
     "execution_count": 97,
     "metadata": {},
     "output_type": "execute_result"
    }
   ],
   "source": [
    "# V : 일반데이터, x : 교정중\n",
    "rcse['유효'].value_counts(dropna=False)"
   ]
  },
  {
   "cell_type": "code",
   "execution_count": 98,
   "metadata": {},
   "outputs": [
    {
     "data": {
      "text/plain": [
       "V      367634\n",
       "x       27638\n",
       "NaN      3401\n",
       "Name: 플래그, dtype: int64"
      ]
     },
     "execution_count": 98,
     "metadata": {},
     "output_type": "execute_result"
    }
   ],
   "source": [
    "# V : 일반데이터, x : 교정중\n",
    "rcse['플래그'].value_counts(dropna=False)"
   ]
  },
  {
   "cell_type": "code",
   "execution_count": 99,
   "metadata": {},
   "outputs": [
    {
     "data": {
      "text/html": [
       "<div>\n",
       "<style scoped>\n",
       "    .dataframe tbody tr th:only-of-type {\n",
       "        vertical-align: middle;\n",
       "    }\n",
       "\n",
       "    .dataframe tbody tr th {\n",
       "        vertical-align: top;\n",
       "    }\n",
       "\n",
       "    .dataframe thead th {\n",
       "        text-align: right;\n",
       "    }\n",
       "</style>\n",
       "<table border=\"1\" class=\"dataframe\">\n",
       "  <thead>\n",
       "    <tr style=\"text-align: right;\">\n",
       "      <th></th>\n",
       "      <th>속도</th>\n",
       "      <th>가속도</th>\n",
       "      <th>매연</th>\n",
       "    </tr>\n",
       "  </thead>\n",
       "  <tbody>\n",
       "    <tr>\n",
       "      <th>count</th>\n",
       "      <td>395272.00</td>\n",
       "      <td>395272.00</td>\n",
       "      <td>398673.00</td>\n",
       "    </tr>\n",
       "    <tr>\n",
       "      <th>mean</th>\n",
       "      <td>61.70</td>\n",
       "      <td>-0.49</td>\n",
       "      <td>1.22</td>\n",
       "    </tr>\n",
       "    <tr>\n",
       "      <th>std</th>\n",
       "      <td>25.31</td>\n",
       "      <td>3.66</td>\n",
       "      <td>6.34</td>\n",
       "    </tr>\n",
       "    <tr>\n",
       "      <th>min</th>\n",
       "      <td>0.00</td>\n",
       "      <td>-325.50</td>\n",
       "      <td>0.00</td>\n",
       "    </tr>\n",
       "    <tr>\n",
       "      <th>25%</th>\n",
       "      <td>54.36</td>\n",
       "      <td>-1.08</td>\n",
       "      <td>0.00</td>\n",
       "    </tr>\n",
       "    <tr>\n",
       "      <th>50%</th>\n",
       "      <td>64.44</td>\n",
       "      <td>-0.36</td>\n",
       "      <td>0.40</td>\n",
       "    </tr>\n",
       "    <tr>\n",
       "      <th>75%</th>\n",
       "      <td>74.52</td>\n",
       "      <td>0.00</td>\n",
       "      <td>0.90</td>\n",
       "    </tr>\n",
       "    <tr>\n",
       "      <th>max</th>\n",
       "      <td>2964.70</td>\n",
       "      <td>314.10</td>\n",
       "      <td>1024.20</td>\n",
       "    </tr>\n",
       "  </tbody>\n",
       "</table>\n",
       "</div>"
      ],
      "text/plain": [
       "             속도       가속도        매연\n",
       "count 395272.00 395272.00 398673.00\n",
       "mean      61.70     -0.49      1.22\n",
       "std       25.31      3.66      6.34\n",
       "min        0.00   -325.50      0.00\n",
       "25%       54.36     -1.08      0.00\n",
       "50%       64.44     -0.36      0.40\n",
       "75%       74.52      0.00      0.90\n",
       "max     2964.70    314.10   1024.20"
      ]
     },
     "execution_count": 99,
     "metadata": {},
     "output_type": "execute_result"
    }
   ],
   "source": [
    "rcse[['속도', '가속도', '매연']].describe()"
   ]
  },
  {
   "cell_type": "code",
   "execution_count": 100,
   "metadata": {},
   "outputs": [
    {
     "data": {
      "text/plain": [
       "V    394542\n",
       "x       137\n",
       "Name: 유효, dtype: int64"
      ]
     },
     "execution_count": 100,
     "metadata": {},
     "output_type": "execute_result"
    }
   ],
   "source": [
    "rcse.loc[rcse['기록상태'] == 'N', '유효'].value_counts(dropna=False)"
   ]
  },
  {
   "cell_type": "code",
   "execution_count": 101,
   "metadata": {},
   "outputs": [
    {
     "data": {
      "text/plain": [
       "V    367091\n",
       "x     27588\n",
       "Name: 플래그, dtype: int64"
      ]
     },
     "execution_count": 101,
     "metadata": {},
     "output_type": "execute_result"
    }
   ],
   "source": [
    "rcse.loc[rcse['기록상태'] == 'N', '플래그'].value_counts(dropna=False)"
   ]
  },
  {
   "cell_type": "code",
   "execution_count": 102,
   "metadata": {},
   "outputs": [
    {
     "data": {
      "text/plain": [
       "count   398673.00\n",
       "mean         1.22\n",
       "std          6.34\n",
       "min          0.00\n",
       "25%          0.00\n",
       "50%          0.40\n",
       "75%          0.90\n",
       "max       1024.20\n",
       "Name: 매연, dtype: float64"
      ]
     },
     "execution_count": 102,
     "metadata": {},
     "output_type": "execute_result"
    }
   ],
   "source": [
    "rcse['매연'].describe()"
   ]
  },
  {
   "cell_type": "code",
   "execution_count": 103,
   "metadata": {},
   "outputs": [
    {
     "data": {
      "text/plain": [
       "(398673, 47)"
      ]
     },
     "execution_count": 103,
     "metadata": {},
     "output_type": "execute_result"
    }
   ],
   "source": [
    "rcse.shape"
   ]
  },
  {
   "cell_type": "code",
   "execution_count": 105,
   "metadata": {},
   "outputs": [
    {
     "data": {
      "text/plain": [
       "(252257, 47)"
      ]
     },
     "execution_count": 105,
     "metadata": {},
     "output_type": "execute_result"
    }
   ],
   "source": [
    "# vdfRecordStatus = N, vdfValid = V, samFlag = V, 차량번호 : nan, 오류 값(********) 제외, 매연 5% 초과 제외\n",
    "df = rcse[(rcse['기록상태'] == 'N') & (rcse['유효'] == 'V') & (rcse['플래그'] == 'V') & (rcse['차량번호'] != '********') & (rcse['차량번호'].isnull() == False) & (rcse['매연'] <= 5) & (rcse['매연'] >= 0)].reset_index(drop=True)\n",
    "df.shape"
   ]
  },
  {
   "cell_type": "code",
   "execution_count": 106,
   "metadata": {},
   "outputs": [
    {
     "data": {
      "text/html": [
       "<div>\n",
       "<style scoped>\n",
       "    .dataframe tbody tr th:only-of-type {\n",
       "        vertical-align: middle;\n",
       "    }\n",
       "\n",
       "    .dataframe tbody tr th {\n",
       "        vertical-align: top;\n",
       "    }\n",
       "\n",
       "    .dataframe thead th {\n",
       "        text-align: right;\n",
       "    }\n",
       "</style>\n",
       "<table border=\"1\" class=\"dataframe\">\n",
       "  <thead>\n",
       "    <tr style=\"text-align: right;\">\n",
       "      <th></th>\n",
       "      <th>속도</th>\n",
       "      <th>가속도</th>\n",
       "      <th>매연</th>\n",
       "    </tr>\n",
       "  </thead>\n",
       "  <tbody>\n",
       "    <tr>\n",
       "      <th>count</th>\n",
       "      <td>252257.00</td>\n",
       "      <td>252257.00</td>\n",
       "      <td>252257.00</td>\n",
       "    </tr>\n",
       "    <tr>\n",
       "      <th>mean</th>\n",
       "      <td>66.47</td>\n",
       "      <td>-0.51</td>\n",
       "      <td>0.64</td>\n",
       "    </tr>\n",
       "    <tr>\n",
       "      <th>std</th>\n",
       "      <td>14.86</td>\n",
       "      <td>1.05</td>\n",
       "      <td>0.75</td>\n",
       "    </tr>\n",
       "    <tr>\n",
       "      <th>min</th>\n",
       "      <td>1.00</td>\n",
       "      <td>-25.00</td>\n",
       "      <td>0.00</td>\n",
       "    </tr>\n",
       "    <tr>\n",
       "      <th>25%</th>\n",
       "      <td>57.24</td>\n",
       "      <td>-1.08</td>\n",
       "      <td>0.10</td>\n",
       "    </tr>\n",
       "    <tr>\n",
       "      <th>50%</th>\n",
       "      <td>66.24</td>\n",
       "      <td>-0.36</td>\n",
       "      <td>0.40</td>\n",
       "    </tr>\n",
       "    <tr>\n",
       "      <th>75%</th>\n",
       "      <td>75.96</td>\n",
       "      <td>0.00</td>\n",
       "      <td>0.90</td>\n",
       "    </tr>\n",
       "    <tr>\n",
       "      <th>max</th>\n",
       "      <td>119.88</td>\n",
       "      <td>25.00</td>\n",
       "      <td>5.00</td>\n",
       "    </tr>\n",
       "  </tbody>\n",
       "</table>\n",
       "</div>"
      ],
      "text/plain": [
       "             속도       가속도        매연\n",
       "count 252257.00 252257.00 252257.00\n",
       "mean      66.47     -0.51      0.64\n",
       "std       14.86      1.05      0.75\n",
       "min        1.00    -25.00      0.00\n",
       "25%       57.24     -1.08      0.10\n",
       "50%       66.24     -0.36      0.40\n",
       "75%       75.96      0.00      0.90\n",
       "max      119.88     25.00      5.00"
      ]
     },
     "execution_count": 106,
     "metadata": {},
     "output_type": "execute_result"
    }
   ],
   "source": [
    "df[['속도', '가속도', '매연']].describe()"
   ]
  },
  {
   "cell_type": "markdown",
   "metadata": {},
   "source": [
    "### [출력] 유효데이터"
   ]
  },
  {
   "cell_type": "code",
   "execution_count": 108,
   "metadata": {},
   "outputs": [
    {
     "name": "stdout",
     "output_type": "stream",
     "text": [
      "유효데이터(원격_등록_제원_정밀)(20231004).csv 출력 완료.\n"
     ]
    }
   ],
   "source": [
    "# 8.0s\n",
    "file_name = f'유효데이터(원격_등록_제원_정밀)({today_date}).csv'\n",
    "df.to_csv(os.path.join(raw_fold, file_name), index=False)\n",
    "print(f'{file_name} 출력 완료.')"
   ]
  },
  {
   "cell_type": "markdown",
   "metadata": {},
   "source": [
    "# Load csv"
   ]
  },
  {
   "cell_type": "markdown",
   "metadata": {},
   "source": [
    "## [로드] 원격&등록&제원&정밀"
   ]
  },
  {
   "cell_type": "code",
   "execution_count": 5,
   "metadata": {},
   "outputs": [
    {
     "name": "stderr",
     "output_type": "stream",
     "text": [
      "C:\\Users\\kbjung\\AppData\\Local\\Temp\\ipykernel_9784\\2738380534.py:4: DtypeWarning: Columns (14) have mixed types. Specify dtype option on import or set low_memory=False.\n",
      "  rcse = pd.read_csv(os.path.join(raw_fold, file_name))\n"
     ]
    },
    {
     "name": "stdout",
     "output_type": "stream",
     "text": [
      "<class 'pandas.core.frame.DataFrame'>\n",
      "RangeIndex: 398673 entries, 0 to 398672\n",
      "Data columns (total 33 columns):\n",
      " #   Column     Non-Null Count   Dtype  \n",
      "---  ------     --------------   -----  \n",
      " 0   측정날짜       398673 non-null  object \n",
      " 1   측정시간       398673 non-null  object \n",
      " 2   기록상태       398673 non-null  object \n",
      " 3   유효         398673 non-null  object \n",
      " 4   속도         395272 non-null  float64\n",
      " 5   가속도        395272 non-null  float64\n",
      " 6   플래그        395272 non-null  object \n",
      " 7   VSP        395272 non-null  float64\n",
      " 8   매연         398673 non-null  float64\n",
      " 9   자동차등록번호    398673 non-null  object \n",
      " 10  차선번호       117903 non-null  float64\n",
      " 11  풍속         26712 non-null   float64\n",
      " 12  습도         99951 non-null   float64\n",
      " 13  온도         398649 non-null  float64\n",
      " 14  측정장소코드     150 non-null     object \n",
      " 15  배출가스등급     248470 non-null  float64\n",
      " 16  연료         259217 non-null  object \n",
      " 17  차량연식       259247 non-null  float64\n",
      " 18  최초등록일자     259247 non-null  float64\n",
      " 19  배기량        259198 non-null  float64\n",
      " 20  차명         259247 non-null  object \n",
      " 21  차종         259247 non-null  object \n",
      " 22  총중량        259247 non-null  float64\n",
      " 23  엔진형식       259215 non-null  object \n",
      " 24  차대번호       259247 non-null  object \n",
      " 25  차량말소YN     259247 non-null  object \n",
      " 26  검사일자       121376 non-null  object \n",
      " 27  무부하매연판정1   120578 non-null  object \n",
      " 28  무부하매연측정치1  120579 non-null  float64\n",
      " 29  무부하매연허용치1  120579 non-null  float64\n",
      " 30  무부하매연판정3   61765 non-null   object \n",
      " 31  무부하매연측정치3  84984 non-null   float64\n",
      " 32  무부하매연허용치3  84984 non-null   float64\n",
      "dtypes: float64(17), object(16)\n",
      "memory usage: 100.4+ MB\n"
     ]
    }
   ],
   "source": [
    "# # 2.4s\n",
    "# name = '원격_등록_제원_정밀(20231004)'\n",
    "# file_name = f'{name}.csv'\n",
    "# rcse = pd.read_csv(os.path.join(raw_fold, file_name))\n",
    "# rcse.info()"
   ]
  },
  {
   "cell_type": "markdown",
   "metadata": {},
   "source": [
    "## [로드] 유효데이터"
   ]
  },
  {
   "cell_type": "code",
   "execution_count": 6,
   "metadata": {},
   "outputs": [
    {
     "name": "stderr",
     "output_type": "stream",
     "text": [
      "C:\\Users\\kbjung\\AppData\\Local\\Temp\\ipykernel_9784\\2626208933.py:4: DtypeWarning: Columns (14) have mixed types. Specify dtype option on import or set low_memory=False.\n",
      "  df = pd.read_csv(os.path.join(raw_fold, file_name))\n"
     ]
    },
    {
     "name": "stdout",
     "output_type": "stream",
     "text": [
      "<class 'pandas.core.frame.DataFrame'>\n",
      "RangeIndex: 252257 entries, 0 to 252256\n",
      "Data columns (total 54 columns):\n",
      " #   Column     Non-Null Count   Dtype  \n",
      "---  ------     --------------   -----  \n",
      " 0   측정날짜       252257 non-null  object \n",
      " 1   측정시간       252257 non-null  object \n",
      " 2   기록상태       252257 non-null  object \n",
      " 3   유효         252257 non-null  object \n",
      " 4   속도         252257 non-null  float64\n",
      " 5   가속도        252257 non-null  float64\n",
      " 6   플래그        252257 non-null  object \n",
      " 7   VSP        252257 non-null  float64\n",
      " 8   매연         252257 non-null  float64\n",
      " 9   자동차등록번호    252257 non-null  object \n",
      " 10  차선번호       93271 non-null   float64\n",
      " 11  풍속         21849 non-null   float64\n",
      " 12  습도         80013 non-null   float64\n",
      " 13  온도         252257 non-null  float64\n",
      " 14  측정장소코드     53 non-null      object \n",
      " 15  측정날짜시간     252254 non-null  object \n",
      " 16  측정날짜시간_년   252254 non-null  float64\n",
      " 17  측정날짜시간_월   252254 non-null  float64\n",
      " 18  측정날짜시간_일   252254 non-null  float64\n",
      " 19  측정날짜시간_시   252254 non-null  float64\n",
      " 20  측정날짜시간_분   252254 non-null  float64\n",
      " 21  측정날짜시간_초   252254 non-null  float64\n",
      " 22  측정날짜시간_요일  252254 non-null  object \n",
      " 23  배출가스인증번호   219680 non-null  object \n",
      " 24  배출가스등급     232171 non-null  float64\n",
      " 25  최초등록일자     242360 non-null  float64\n",
      " 26  제원관리번호     242360 non-null  object \n",
      " 27  수정일시       203301 non-null  object \n",
      " 28  차량말소YN     242360 non-null  object \n",
      " 29  차량제작일자     242315 non-null  float64\n",
      " 30  차량연식       242360 non-null  float64\n",
      " 31  차종         242360 non-null  object \n",
      " 32  차대번호       242360 non-null  object \n",
      " 33  자동차형식      242356 non-null  object \n",
      " 34  배기량        242328 non-null  float64\n",
      " 35  엔진출력       242321 non-null  float64\n",
      " 36  엔진형식       242334 non-null  object \n",
      " 37  연료         242336 non-null  object \n",
      " 38  제작사명       242358 non-null  object \n",
      " 39  총중량        242360 non-null  float64\n",
      " 40  차명         242360 non-null  object \n",
      " 41  차종분류       242360 non-null  object \n",
      " 42  차종유형       242360 non-null  object \n",
      " 43  무부하매연측정치1  113025 non-null  float64\n",
      " 44  무부하매연판정1   113024 non-null  object \n",
      " 45  무부하매연허용치1  113025 non-null  float64\n",
      " 46  무부하매연측정치2  89209 non-null   float64\n",
      " 47  무부하매연판정2   66156 non-null   object \n",
      " 48  무부하매연허용치2  84770 non-null   float64\n",
      " 49  무부하매연측정치3  79761 non-null   float64\n",
      " 50  무부하매연판정3   58051 non-null   object \n",
      " 51  무부하매연허용치3  79761 non-null   float64\n",
      " 52  검사방법       113783 non-null  object \n",
      " 53  검사일자       113783 non-null  object \n",
      "dtypes: float64(27), object(27)\n",
      "memory usage: 103.9+ MB\n"
     ]
    }
   ],
   "source": [
    "# # 3.0s\n",
    "# name = '유효데이터(원격_등록_제원_정밀)(20231004)'\n",
    "# file_name = f'{name}.csv'\n",
    "# df = pd.read_csv(os.path.join(raw_fold, file_name))\n",
    "# df.info()"
   ]
  },
  {
   "cell_type": "markdown",
   "metadata": {},
   "source": [
    "# Analysis"
   ]
  },
  {
   "cell_type": "markdown",
   "metadata": {},
   "source": [
    "## 1\\. 연료별 매연RSD 측정 평균, 건수"
   ]
  },
  {
   "cell_type": "code",
   "execution_count": 109,
   "metadata": {},
   "outputs": [
    {
     "data": {
      "text/plain": [
       "((252257, 47), 138469)"
      ]
     },
     "execution_count": 109,
     "metadata": {},
     "output_type": "execute_result"
    }
   ],
   "source": [
    "df.shape, len(df['차량번호'].unique())"
   ]
  },
  {
   "cell_type": "code",
   "execution_count": 110,
   "metadata": {},
   "outputs": [
    {
     "data": {
      "text/plain": [
       "9921"
      ]
     },
     "execution_count": 110,
     "metadata": {},
     "output_type": "execute_result"
    }
   ],
   "source": [
    "df['연료'].isnull().sum()"
   ]
  },
  {
   "cell_type": "code",
   "execution_count": 111,
   "metadata": {},
   "outputs": [
    {
     "data": {
      "text/html": [
       "<div>\n",
       "<style scoped>\n",
       "    .dataframe tbody tr th:only-of-type {\n",
       "        vertical-align: middle;\n",
       "    }\n",
       "\n",
       "    .dataframe tbody tr th {\n",
       "        vertical-align: top;\n",
       "    }\n",
       "\n",
       "    .dataframe thead th {\n",
       "        text-align: right;\n",
       "    }\n",
       "</style>\n",
       "<table border=\"1\" class=\"dataframe\">\n",
       "  <thead>\n",
       "    <tr style=\"text-align: right;\">\n",
       "      <th></th>\n",
       "      <th>연료</th>\n",
       "      <th>매연RSD_평균</th>\n",
       "      <th>측정건수</th>\n",
       "    </tr>\n",
       "  </thead>\n",
       "  <tbody>\n",
       "    <tr>\n",
       "      <th>0</th>\n",
       "      <td>CNG</td>\n",
       "      <td>1.70</td>\n",
       "      <td>939</td>\n",
       "    </tr>\n",
       "    <tr>\n",
       "      <th>1</th>\n",
       "      <td>LPG</td>\n",
       "      <td>0.65</td>\n",
       "      <td>19427</td>\n",
       "    </tr>\n",
       "    <tr>\n",
       "      <th>2</th>\n",
       "      <td>LPG_하이브리드</td>\n",
       "      <td>0.68</td>\n",
       "      <td>120</td>\n",
       "    </tr>\n",
       "    <tr>\n",
       "      <th>3</th>\n",
       "      <td>경유</td>\n",
       "      <td>0.65</td>\n",
       "      <td>106845</td>\n",
       "    </tr>\n",
       "    <tr>\n",
       "      <th>4</th>\n",
       "      <td>경유_하이브리드</td>\n",
       "      <td>0.56</td>\n",
       "      <td>553</td>\n",
       "    </tr>\n",
       "    <tr>\n",
       "      <th>5</th>\n",
       "      <td>기타연료</td>\n",
       "      <td>0.46</td>\n",
       "      <td>14</td>\n",
       "    </tr>\n",
       "    <tr>\n",
       "      <th>6</th>\n",
       "      <td>수소</td>\n",
       "      <td>0.50</td>\n",
       "      <td>539</td>\n",
       "    </tr>\n",
       "    <tr>\n",
       "      <th>7</th>\n",
       "      <td>전기</td>\n",
       "      <td>0.51</td>\n",
       "      <td>4649</td>\n",
       "    </tr>\n",
       "    <tr>\n",
       "      <th>8</th>\n",
       "      <td>휘발유</td>\n",
       "      <td>0.63</td>\n",
       "      <td>93422</td>\n",
       "    </tr>\n",
       "    <tr>\n",
       "      <th>9</th>\n",
       "      <td>휘발유_하이브리드</td>\n",
       "      <td>0.57</td>\n",
       "      <td>15828</td>\n",
       "    </tr>\n",
       "    <tr>\n",
       "      <th>10</th>\n",
       "      <td>NaN</td>\n",
       "      <td>0.69</td>\n",
       "      <td>9921</td>\n",
       "    </tr>\n",
       "    <tr>\n",
       "      <th>11</th>\n",
       "      <td>총합</td>\n",
       "      <td>NaN</td>\n",
       "      <td>252257</td>\n",
       "    </tr>\n",
       "  </tbody>\n",
       "</table>\n",
       "</div>"
      ],
      "text/plain": [
       "           연료  매연RSD_평균    측정건수\n",
       "0         CNG      1.70     939\n",
       "1         LPG      0.65   19427\n",
       "2   LPG_하이브리드      0.68     120\n",
       "3          경유      0.65  106845\n",
       "4    경유_하이브리드      0.56     553\n",
       "5        기타연료      0.46      14\n",
       "6          수소      0.50     539\n",
       "7          전기      0.51    4649\n",
       "8         휘발유      0.63   93422\n",
       "9   휘발유_하이브리드      0.57   15828\n",
       "10        NaN      0.69    9921\n",
       "11         총합       NaN  252257"
      ]
     },
     "execution_count": 111,
     "metadata": {},
     "output_type": "execute_result"
    }
   ],
   "source": [
    "grp1 = df.groupby(['연료'], dropna=False).agg({'매연':'mean', '차량번호':'count'}).reset_index()\n",
    "grp1['매연'] = grp1['매연'].round(2)\n",
    "grp1 = grp1.rename(columns={'매연':'매연RSD_평균', '차량번호':'측정건수'})\n",
    "grp1.loc[grp1.shape[0]] = ['총합', np.nan, grp1['측정건수'].sum()]\n",
    "grp1"
   ]
  },
  {
   "cell_type": "markdown",
   "metadata": {},
   "source": [
    "## 경유차만 추출"
   ]
  },
  {
   "cell_type": "code",
   "execution_count": 112,
   "metadata": {},
   "outputs": [
    {
     "data": {
      "text/html": [
       "<div>\n",
       "<style scoped>\n",
       "    .dataframe tbody tr th:only-of-type {\n",
       "        vertical-align: middle;\n",
       "    }\n",
       "\n",
       "    .dataframe tbody tr th {\n",
       "        vertical-align: top;\n",
       "    }\n",
       "\n",
       "    .dataframe thead th {\n",
       "        text-align: right;\n",
       "    }\n",
       "</style>\n",
       "<table border=\"1\" class=\"dataframe\">\n",
       "  <thead>\n",
       "    <tr style=\"text-align: right;\">\n",
       "      <th></th>\n",
       "      <th>index</th>\n",
       "      <th>연료</th>\n",
       "    </tr>\n",
       "  </thead>\n",
       "  <tbody>\n",
       "    <tr>\n",
       "      <th>0</th>\n",
       "      <td>경유</td>\n",
       "      <td>106845</td>\n",
       "    </tr>\n",
       "    <tr>\n",
       "      <th>1</th>\n",
       "      <td>휘발유</td>\n",
       "      <td>93422</td>\n",
       "    </tr>\n",
       "    <tr>\n",
       "      <th>2</th>\n",
       "      <td>LPG</td>\n",
       "      <td>19427</td>\n",
       "    </tr>\n",
       "    <tr>\n",
       "      <th>3</th>\n",
       "      <td>휘발유_하이브리드</td>\n",
       "      <td>15828</td>\n",
       "    </tr>\n",
       "    <tr>\n",
       "      <th>4</th>\n",
       "      <td>NaN</td>\n",
       "      <td>9921</td>\n",
       "    </tr>\n",
       "    <tr>\n",
       "      <th>5</th>\n",
       "      <td>전기</td>\n",
       "      <td>4649</td>\n",
       "    </tr>\n",
       "    <tr>\n",
       "      <th>6</th>\n",
       "      <td>CNG</td>\n",
       "      <td>939</td>\n",
       "    </tr>\n",
       "    <tr>\n",
       "      <th>7</th>\n",
       "      <td>경유_하이브리드</td>\n",
       "      <td>553</td>\n",
       "    </tr>\n",
       "    <tr>\n",
       "      <th>8</th>\n",
       "      <td>수소</td>\n",
       "      <td>539</td>\n",
       "    </tr>\n",
       "    <tr>\n",
       "      <th>9</th>\n",
       "      <td>LPG_하이브리드</td>\n",
       "      <td>120</td>\n",
       "    </tr>\n",
       "    <tr>\n",
       "      <th>10</th>\n",
       "      <td>기타연료</td>\n",
       "      <td>14</td>\n",
       "    </tr>\n",
       "  </tbody>\n",
       "</table>\n",
       "</div>"
      ],
      "text/plain": [
       "        index      연료\n",
       "0          경유  106845\n",
       "1         휘발유   93422\n",
       "2         LPG   19427\n",
       "3   휘발유_하이브리드   15828\n",
       "4         NaN    9921\n",
       "5          전기    4649\n",
       "6         CNG     939\n",
       "7    경유_하이브리드     553\n",
       "8          수소     539\n",
       "9   LPG_하이브리드     120\n",
       "10       기타연료      14"
      ]
     },
     "execution_count": 112,
     "metadata": {},
     "output_type": "execute_result"
    }
   ],
   "source": [
    "df['연료'].value_counts(dropna=False).reset_index()"
   ]
  },
  {
   "cell_type": "code",
   "execution_count": 113,
   "metadata": {},
   "outputs": [
    {
     "data": {
      "text/plain": [
       "(106845, 47)"
      ]
     },
     "execution_count": 113,
     "metadata": {},
     "output_type": "execute_result"
    }
   ],
   "source": [
    "die = df[df['연료'] == '경유'].reset_index(drop=True)\n",
    "die.shape"
   ]
  },
  {
   "cell_type": "markdown",
   "metadata": {},
   "source": [
    "### 2\\. 경유 > 차종별 매연RSD 측정 평균, 건수"
   ]
  },
  {
   "cell_type": "code",
   "execution_count": 114,
   "metadata": {},
   "outputs": [
    {
     "data": {
      "text/html": [
       "<div>\n",
       "<style scoped>\n",
       "    .dataframe tbody tr th:only-of-type {\n",
       "        vertical-align: middle;\n",
       "    }\n",
       "\n",
       "    .dataframe tbody tr th {\n",
       "        vertical-align: top;\n",
       "    }\n",
       "\n",
       "    .dataframe thead th {\n",
       "        text-align: right;\n",
       "    }\n",
       "</style>\n",
       "<table border=\"1\" class=\"dataframe\">\n",
       "  <thead>\n",
       "    <tr style=\"text-align: right;\">\n",
       "      <th></th>\n",
       "      <th>차종</th>\n",
       "      <th>매연RSD_평균</th>\n",
       "      <th>측정건수</th>\n",
       "    </tr>\n",
       "  </thead>\n",
       "  <tbody>\n",
       "    <tr>\n",
       "      <th>0</th>\n",
       "      <td>승용</td>\n",
       "      <td>0.65</td>\n",
       "      <td>57781</td>\n",
       "    </tr>\n",
       "    <tr>\n",
       "      <th>1</th>\n",
       "      <td>승합</td>\n",
       "      <td>0.86</td>\n",
       "      <td>6875</td>\n",
       "    </tr>\n",
       "    <tr>\n",
       "      <th>2</th>\n",
       "      <td>특수</td>\n",
       "      <td>0.57</td>\n",
       "      <td>1285</td>\n",
       "    </tr>\n",
       "    <tr>\n",
       "      <th>3</th>\n",
       "      <td>화물</td>\n",
       "      <td>0.62</td>\n",
       "      <td>40904</td>\n",
       "    </tr>\n",
       "    <tr>\n",
       "      <th>4</th>\n",
       "      <td>총합</td>\n",
       "      <td>NaN</td>\n",
       "      <td>106845</td>\n",
       "    </tr>\n",
       "  </tbody>\n",
       "</table>\n",
       "</div>"
      ],
      "text/plain": [
       "   차종  매연RSD_평균    측정건수\n",
       "0  승용      0.65   57781\n",
       "1  승합      0.86    6875\n",
       "2  특수      0.57    1285\n",
       "3  화물      0.62   40904\n",
       "4  총합       NaN  106845"
      ]
     },
     "execution_count": 114,
     "metadata": {},
     "output_type": "execute_result"
    }
   ],
   "source": [
    "grp2 = die.groupby(['차종'], dropna=False).agg({'매연':'mean', '차량번호':'count'}).reset_index()\n",
    "grp2['매연'] = grp2['매연'].round(2)\n",
    "grp2 = grp2.rename(columns={'매연':'매연RSD_평균', '차량번호':'측정건수'})\n",
    "grp2.loc[grp2.shape[0]] = ['총합', np.nan, grp2['측정건수'].sum()]\n",
    "grp2"
   ]
  },
  {
   "cell_type": "markdown",
   "metadata": {},
   "source": [
    "### 3\\. 경유 > 연식별 매연RSD 측정 평균, 건수"
   ]
  },
  {
   "cell_type": "code",
   "execution_count": 115,
   "metadata": {},
   "outputs": [
    {
     "ename": "KeyError",
     "evalue": "'연식'",
     "output_type": "error",
     "traceback": [
      "\u001b[1;31m---------------------------------------------------------------------------\u001b[0m",
      "\u001b[1;31mKeyError\u001b[0m                                  Traceback (most recent call last)",
      "\u001b[1;32mc:\\Users\\kbjung\\Documents\\GitHub\\wabotech\\processing\\multi_road\\analysis2_1_1.ipynb 셀 147\u001b[0m line \u001b[0;36m1\n\u001b[1;32m----> <a href='vscode-notebook-cell:/c%3A/Users/kbjung/Documents/GitHub/wabotech/processing/multi_road/analysis2_1_1.ipynb#Y265sZmlsZQ%3D%3D?line=0'>1</a>\u001b[0m grp3 \u001b[39m=\u001b[39m die\u001b[39m.\u001b[39mgroupby([\u001b[39m'\u001b[39m\u001b[39m연식\u001b[39m\u001b[39m'\u001b[39m], dropna\u001b[39m=\u001b[39m\u001b[39mFalse\u001b[39;00m)\u001b[39m.\u001b[39magg({\u001b[39m'\u001b[39m\u001b[39m매연\u001b[39m\u001b[39m'\u001b[39m:\u001b[39m'\u001b[39m\u001b[39mmean\u001b[39m\u001b[39m'\u001b[39m, \u001b[39m'\u001b[39m\u001b[39m차량번호\u001b[39m\u001b[39m'\u001b[39m:\u001b[39m'\u001b[39m\u001b[39mcount\u001b[39m\u001b[39m'\u001b[39m})\u001b[39m.\u001b[39mreset_index()\n\u001b[0;32m      <a href='vscode-notebook-cell:/c%3A/Users/kbjung/Documents/GitHub/wabotech/processing/multi_road/analysis2_1_1.ipynb#Y265sZmlsZQ%3D%3D?line=1'>2</a>\u001b[0m grp3[\u001b[39m'\u001b[39m\u001b[39m매연\u001b[39m\u001b[39m'\u001b[39m] \u001b[39m=\u001b[39m grp3[\u001b[39m'\u001b[39m\u001b[39m매연\u001b[39m\u001b[39m'\u001b[39m]\u001b[39m.\u001b[39mround(\u001b[39m2\u001b[39m)\n\u001b[0;32m      <a href='vscode-notebook-cell:/c%3A/Users/kbjung/Documents/GitHub/wabotech/processing/multi_road/analysis2_1_1.ipynb#Y265sZmlsZQ%3D%3D?line=2'>3</a>\u001b[0m grp3 \u001b[39m=\u001b[39m grp3\u001b[39m.\u001b[39mrename(columns\u001b[39m=\u001b[39m{\u001b[39m'\u001b[39m\u001b[39m매연\u001b[39m\u001b[39m'\u001b[39m:\u001b[39m'\u001b[39m\u001b[39m매연RSD_평균\u001b[39m\u001b[39m'\u001b[39m, \u001b[39m'\u001b[39m\u001b[39m차량번호\u001b[39m\u001b[39m'\u001b[39m:\u001b[39m'\u001b[39m\u001b[39m측정건수\u001b[39m\u001b[39m'\u001b[39m})\n",
      "File \u001b[1;32mc:\\Users\\kbjung\\anaconda3\\Lib\\site-packages\\pandas\\core\\frame.py:8402\u001b[0m, in \u001b[0;36mDataFrame.groupby\u001b[1;34m(self, by, axis, level, as_index, sort, group_keys, squeeze, observed, dropna)\u001b[0m\n\u001b[0;32m   8399\u001b[0m     \u001b[39mraise\u001b[39;00m \u001b[39mTypeError\u001b[39;00m(\u001b[39m\"\u001b[39m\u001b[39mYou have to supply one of \u001b[39m\u001b[39m'\u001b[39m\u001b[39mby\u001b[39m\u001b[39m'\u001b[39m\u001b[39m and \u001b[39m\u001b[39m'\u001b[39m\u001b[39mlevel\u001b[39m\u001b[39m'\u001b[39m\u001b[39m\"\u001b[39m)\n\u001b[0;32m   8400\u001b[0m axis \u001b[39m=\u001b[39m \u001b[39mself\u001b[39m\u001b[39m.\u001b[39m_get_axis_number(axis)\n\u001b[1;32m-> 8402\u001b[0m \u001b[39mreturn\u001b[39;00m DataFrameGroupBy(\n\u001b[0;32m   8403\u001b[0m     obj\u001b[39m=\u001b[39m\u001b[39mself\u001b[39m,\n\u001b[0;32m   8404\u001b[0m     keys\u001b[39m=\u001b[39mby,\n\u001b[0;32m   8405\u001b[0m     axis\u001b[39m=\u001b[39maxis,\n\u001b[0;32m   8406\u001b[0m     level\u001b[39m=\u001b[39mlevel,\n\u001b[0;32m   8407\u001b[0m     as_index\u001b[39m=\u001b[39mas_index,\n\u001b[0;32m   8408\u001b[0m     sort\u001b[39m=\u001b[39msort,\n\u001b[0;32m   8409\u001b[0m     group_keys\u001b[39m=\u001b[39mgroup_keys,\n\u001b[0;32m   8410\u001b[0m     squeeze\u001b[39m=\u001b[39msqueeze,\n\u001b[0;32m   8411\u001b[0m     observed\u001b[39m=\u001b[39mobserved,\n\u001b[0;32m   8412\u001b[0m     dropna\u001b[39m=\u001b[39mdropna,\n\u001b[0;32m   8413\u001b[0m )\n",
      "File \u001b[1;32mc:\\Users\\kbjung\\anaconda3\\Lib\\site-packages\\pandas\\core\\groupby\\groupby.py:965\u001b[0m, in \u001b[0;36mGroupBy.__init__\u001b[1;34m(self, obj, keys, axis, level, grouper, exclusions, selection, as_index, sort, group_keys, squeeze, observed, mutated, dropna)\u001b[0m\n\u001b[0;32m    962\u001b[0m \u001b[39mif\u001b[39;00m grouper \u001b[39mis\u001b[39;00m \u001b[39mNone\u001b[39;00m:\n\u001b[0;32m    963\u001b[0m     \u001b[39mfrom\u001b[39;00m \u001b[39mpandas\u001b[39;00m\u001b[39m.\u001b[39;00m\u001b[39mcore\u001b[39;00m\u001b[39m.\u001b[39;00m\u001b[39mgroupby\u001b[39;00m\u001b[39m.\u001b[39;00m\u001b[39mgrouper\u001b[39;00m \u001b[39mimport\u001b[39;00m get_grouper\n\u001b[1;32m--> 965\u001b[0m     grouper, exclusions, obj \u001b[39m=\u001b[39m get_grouper(\n\u001b[0;32m    966\u001b[0m         obj,\n\u001b[0;32m    967\u001b[0m         keys,\n\u001b[0;32m    968\u001b[0m         axis\u001b[39m=\u001b[39maxis,\n\u001b[0;32m    969\u001b[0m         level\u001b[39m=\u001b[39mlevel,\n\u001b[0;32m    970\u001b[0m         sort\u001b[39m=\u001b[39msort,\n\u001b[0;32m    971\u001b[0m         observed\u001b[39m=\u001b[39mobserved,\n\u001b[0;32m    972\u001b[0m         mutated\u001b[39m=\u001b[39m\u001b[39mself\u001b[39m\u001b[39m.\u001b[39mmutated,\n\u001b[0;32m    973\u001b[0m         dropna\u001b[39m=\u001b[39m\u001b[39mself\u001b[39m\u001b[39m.\u001b[39mdropna,\n\u001b[0;32m    974\u001b[0m     )\n\u001b[0;32m    976\u001b[0m \u001b[39mself\u001b[39m\u001b[39m.\u001b[39mobj \u001b[39m=\u001b[39m obj\n\u001b[0;32m    977\u001b[0m \u001b[39mself\u001b[39m\u001b[39m.\u001b[39maxis \u001b[39m=\u001b[39m obj\u001b[39m.\u001b[39m_get_axis_number(axis)\n",
      "File \u001b[1;32mc:\\Users\\kbjung\\anaconda3\\Lib\\site-packages\\pandas\\core\\groupby\\grouper.py:888\u001b[0m, in \u001b[0;36mget_grouper\u001b[1;34m(obj, key, axis, level, sort, observed, mutated, validate, dropna)\u001b[0m\n\u001b[0;32m    886\u001b[0m         in_axis, level, gpr \u001b[39m=\u001b[39m \u001b[39mFalse\u001b[39;00m, gpr, \u001b[39mNone\u001b[39;00m\n\u001b[0;32m    887\u001b[0m     \u001b[39melse\u001b[39;00m:\n\u001b[1;32m--> 888\u001b[0m         \u001b[39mraise\u001b[39;00m \u001b[39mKeyError\u001b[39;00m(gpr)\n\u001b[0;32m    889\u001b[0m \u001b[39melif\u001b[39;00m \u001b[39misinstance\u001b[39m(gpr, Grouper) \u001b[39mand\u001b[39;00m gpr\u001b[39m.\u001b[39mkey \u001b[39mis\u001b[39;00m \u001b[39mnot\u001b[39;00m \u001b[39mNone\u001b[39;00m:\n\u001b[0;32m    890\u001b[0m     \u001b[39m# Add key to exclusions\u001b[39;00m\n\u001b[0;32m    891\u001b[0m     exclusions\u001b[39m.\u001b[39madd(gpr\u001b[39m.\u001b[39mkey)\n",
      "\u001b[1;31mKeyError\u001b[0m: '연식'"
     ]
    }
   ],
   "source": [
    "grp3 = die.groupby(['연식'], dropna=False).agg({'매연':'mean', '차량번호':'count'}).reset_index()\n",
    "grp3['매연'] = grp3['매연'].round(2)\n",
    "grp3 = grp3.rename(columns={'매연':'매연RSD_평균', '차량번호':'측정건수'})\n",
    "grp3.loc[grp3.shape[0]] = ['총합', np.nan, grp3['측정건수'].sum()]\n",
    "grp3"
   ]
  },
  {
   "cell_type": "markdown",
   "metadata": {},
   "source": [
    "### 4\\. 경유 > 차선별 매연RSD 측정 평균, 건수"
   ]
  },
  {
   "cell_type": "code",
   "execution_count": null,
   "metadata": {},
   "outputs": [
    {
     "data": {
      "text/html": [
       "<div>\n",
       "<style scoped>\n",
       "    .dataframe tbody tr th:only-of-type {\n",
       "        vertical-align: middle;\n",
       "    }\n",
       "\n",
       "    .dataframe tbody tr th {\n",
       "        vertical-align: top;\n",
       "    }\n",
       "\n",
       "    .dataframe thead th {\n",
       "        text-align: right;\n",
       "    }\n",
       "</style>\n",
       "<table border=\"1\" class=\"dataframe\">\n",
       "  <thead>\n",
       "    <tr style=\"text-align: right;\">\n",
       "      <th></th>\n",
       "      <th>차선번호</th>\n",
       "      <th>매연RSD_평균</th>\n",
       "      <th>측정건수</th>\n",
       "    </tr>\n",
       "  </thead>\n",
       "  <tbody>\n",
       "    <tr>\n",
       "      <th>0</th>\n",
       "      <td>1.00</td>\n",
       "      <td>0.80</td>\n",
       "      <td>12306</td>\n",
       "    </tr>\n",
       "    <tr>\n",
       "      <th>1</th>\n",
       "      <td>2.00</td>\n",
       "      <td>0.67</td>\n",
       "      <td>16293</td>\n",
       "    </tr>\n",
       "    <tr>\n",
       "      <th>2</th>\n",
       "      <td>3.00</td>\n",
       "      <td>0.60</td>\n",
       "      <td>10571</td>\n",
       "    </tr>\n",
       "    <tr>\n",
       "      <th>3</th>\n",
       "      <td>NaN</td>\n",
       "      <td>0.63</td>\n",
       "      <td>66570</td>\n",
       "    </tr>\n",
       "    <tr>\n",
       "      <th>4</th>\n",
       "      <td>총합</td>\n",
       "      <td>NaN</td>\n",
       "      <td>105740</td>\n",
       "    </tr>\n",
       "  </tbody>\n",
       "</table>\n",
       "</div>"
      ],
      "text/plain": [
       "  차선번호  매연RSD_평균    측정건수\n",
       "0 1.00      0.80   12306\n",
       "1 2.00      0.67   16293\n",
       "2 3.00      0.60   10571\n",
       "3  NaN      0.63   66570\n",
       "4   총합       NaN  105740"
      ]
     },
     "execution_count": 300,
     "metadata": {},
     "output_type": "execute_result"
    }
   ],
   "source": [
    "grp4 = die.groupby(['차선번호'], dropna=False).agg({'매연':'mean', '차량번호':'count'}).reset_index()\n",
    "grp4['매연'] = grp4['매연'].round(2)\n",
    "grp4 = grp4.rename(columns={'매연':'매연RSD_평균', '차량번호':'측정건수'})\n",
    "grp4.loc[grp4.shape[0]] = ['총합', np.nan, grp4['측정건수'].sum()]\n",
    "grp4"
   ]
  },
  {
   "cell_type": "markdown",
   "metadata": {},
   "source": [
    "### 5\\. 경유 > 속도별 매연RSD 측정 평균, 건수"
   ]
  },
  {
   "cell_type": "code",
   "execution_count": null,
   "metadata": {},
   "outputs": [
    {
     "data": {
      "text/plain": [
       "count   105740.00\n",
       "mean        65.89\n",
       "std         14.90\n",
       "min          1.00\n",
       "25%         56.52\n",
       "50%         65.65\n",
       "75%         75.24\n",
       "max        119.88\n",
       "Name: 속도, dtype: float64"
      ]
     },
     "execution_count": 301,
     "metadata": {},
     "output_type": "execute_result"
    }
   ],
   "source": [
    "die['속도'].describe()"
   ]
  },
  {
   "cell_type": "code",
   "execution_count": null,
   "metadata": {},
   "outputs": [
    {
     "data": {
      "text/plain": [
       "0"
      ]
     },
     "execution_count": 302,
     "metadata": {},
     "output_type": "execute_result"
    }
   ],
   "source": [
    "die['속도'].isnull().sum()"
   ]
  },
  {
   "cell_type": "code",
   "execution_count": 116,
   "metadata": {},
   "outputs": [
    {
     "data": {
      "text/plain": [
       "120"
      ]
     },
     "execution_count": 116,
     "metadata": {},
     "output_type": "execute_result"
    }
   ],
   "source": [
    "math.ceil(die['속도'].max())"
   ]
  },
  {
   "cell_type": "code",
   "execution_count": 117,
   "metadata": {},
   "outputs": [
    {
     "name": "stdout",
     "output_type": "stream",
     "text": [
      "1 : 0 ~ 10\n",
      "2 : 10 ~ 20\n",
      "3 : 20 ~ 30\n",
      "4 : 30 ~ 40\n",
      "5 : 40 ~ 50\n",
      "6 : 50 ~ 60\n",
      "7 : 60 ~ 70\n",
      "8 : 70 ~ 80\n",
      "9 : 80 ~ 90\n",
      "10 : 90 ~ 100\n",
      "11 : 100 ~ 110\n",
      "12 : 110 ~ 120\n"
     ]
    }
   ],
   "source": [
    "div = 10\n",
    "n = 1\n",
    "num = math.ceil(die['속도'].max())\n",
    "for i in range(0, num, div):\n",
    "    print(f'{n} : {i} ~ {i + div}')\n",
    "    n += 1"
   ]
  },
  {
   "cell_type": "code",
   "execution_count": 118,
   "metadata": {},
   "outputs": [],
   "source": [
    "# 속도 구간 나누기(10단위)\n",
    "div = 10\n",
    "n = 1\n",
    "num = math.ceil(die['속도'].max())\n",
    "for i in range(0, num, div):\n",
    "    die.loc[(die['속도'] >= i) & (die['속도'] < i + div), '속도구분'] = f'{i}이상 {i + div}미만'\n",
    "    die.loc[(die['속도'] >= i) & (die['속도'] < i + div), '속도구분인덱스'] = n\n",
    "    n += 1"
   ]
  },
  {
   "cell_type": "code",
   "execution_count": 119,
   "metadata": {},
   "outputs": [
    {
     "data": {
      "text/plain": [
       "array(['50이상 60미만', '30이상 40미만', '40이상 50미만', '60이상 70미만', '0이상 10미만',\n",
       "       '10이상 20미만', '90이상 100미만', '70이상 80미만', '20이상 30미만', '80이상 90미만',\n",
       "       '100이상 110미만', '110이상 120미만'], dtype=object)"
      ]
     },
     "execution_count": 119,
     "metadata": {},
     "output_type": "execute_result"
    }
   ],
   "source": [
    "die['속도구분'].unique()"
   ]
  },
  {
   "cell_type": "code",
   "execution_count": 120,
   "metadata": {},
   "outputs": [
    {
     "data": {
      "text/plain": [
       "array([ 6.,  4.,  5.,  7.,  1.,  2., 10.,  8.,  3.,  9., 11., 12.])"
      ]
     },
     "execution_count": 120,
     "metadata": {},
     "output_type": "execute_result"
    }
   ],
   "source": [
    "die['속도구분인덱스'].unique()"
   ]
  },
  {
   "cell_type": "code",
   "execution_count": 121,
   "metadata": {},
   "outputs": [
    {
     "data": {
      "text/html": [
       "<div>\n",
       "<style scoped>\n",
       "    .dataframe tbody tr th:only-of-type {\n",
       "        vertical-align: middle;\n",
       "    }\n",
       "\n",
       "    .dataframe tbody tr th {\n",
       "        vertical-align: top;\n",
       "    }\n",
       "\n",
       "    .dataframe thead th {\n",
       "        text-align: right;\n",
       "    }\n",
       "</style>\n",
       "<table border=\"1\" class=\"dataframe\">\n",
       "  <thead>\n",
       "    <tr style=\"text-align: right;\">\n",
       "      <th></th>\n",
       "      <th>속도(km/h)</th>\n",
       "      <th>매연RSD_평균</th>\n",
       "      <th>측정건수</th>\n",
       "    </tr>\n",
       "  </thead>\n",
       "  <tbody>\n",
       "    <tr>\n",
       "      <th>0</th>\n",
       "      <td>0이상 10미만</td>\n",
       "      <td>1.02</td>\n",
       "      <td>51</td>\n",
       "    </tr>\n",
       "    <tr>\n",
       "      <th>1</th>\n",
       "      <td>10이상 20미만</td>\n",
       "      <td>1.03</td>\n",
       "      <td>204</td>\n",
       "    </tr>\n",
       "    <tr>\n",
       "      <th>2</th>\n",
       "      <td>20이상 30미만</td>\n",
       "      <td>0.96</td>\n",
       "      <td>1213</td>\n",
       "    </tr>\n",
       "    <tr>\n",
       "      <th>3</th>\n",
       "      <td>30이상 40미만</td>\n",
       "      <td>0.81</td>\n",
       "      <td>3167</td>\n",
       "    </tr>\n",
       "    <tr>\n",
       "      <th>4</th>\n",
       "      <td>40이상 50미만</td>\n",
       "      <td>0.72</td>\n",
       "      <td>8792</td>\n",
       "    </tr>\n",
       "    <tr>\n",
       "      <th>5</th>\n",
       "      <td>50이상 60미만</td>\n",
       "      <td>0.66</td>\n",
       "      <td>22402</td>\n",
       "    </tr>\n",
       "    <tr>\n",
       "      <th>6</th>\n",
       "      <td>60이상 70미만</td>\n",
       "      <td>0.62</td>\n",
       "      <td>30465</td>\n",
       "    </tr>\n",
       "    <tr>\n",
       "      <th>7</th>\n",
       "      <td>70이상 80미만</td>\n",
       "      <td>0.64</td>\n",
       "      <td>23220</td>\n",
       "    </tr>\n",
       "    <tr>\n",
       "      <th>8</th>\n",
       "      <td>80이상 90미만</td>\n",
       "      <td>0.62</td>\n",
       "      <td>11642</td>\n",
       "    </tr>\n",
       "    <tr>\n",
       "      <th>9</th>\n",
       "      <td>90이상 100미만</td>\n",
       "      <td>0.61</td>\n",
       "      <td>4079</td>\n",
       "    </tr>\n",
       "    <tr>\n",
       "      <th>10</th>\n",
       "      <td>100이상 110미만</td>\n",
       "      <td>0.65</td>\n",
       "      <td>1312</td>\n",
       "    </tr>\n",
       "    <tr>\n",
       "      <th>11</th>\n",
       "      <td>110이상 120미만</td>\n",
       "      <td>0.67</td>\n",
       "      <td>298</td>\n",
       "    </tr>\n",
       "    <tr>\n",
       "      <th>12</th>\n",
       "      <td>총합</td>\n",
       "      <td>NaN</td>\n",
       "      <td>106845</td>\n",
       "    </tr>\n",
       "  </tbody>\n",
       "</table>\n",
       "</div>"
      ],
      "text/plain": [
       "       속도(km/h)  매연RSD_평균    측정건수\n",
       "0      0이상 10미만      1.02      51\n",
       "1     10이상 20미만      1.03     204\n",
       "2     20이상 30미만      0.96    1213\n",
       "3     30이상 40미만      0.81    3167\n",
       "4     40이상 50미만      0.72    8792\n",
       "5     50이상 60미만      0.66   22402\n",
       "6     60이상 70미만      0.62   30465\n",
       "7     70이상 80미만      0.64   23220\n",
       "8     80이상 90미만      0.62   11642\n",
       "9    90이상 100미만      0.61    4079\n",
       "10  100이상 110미만      0.65    1312\n",
       "11  110이상 120미만      0.67     298\n",
       "12           총합       NaN  106845"
      ]
     },
     "execution_count": 121,
     "metadata": {},
     "output_type": "execute_result"
    }
   ],
   "source": [
    "grp5 = die.groupby(['속도구분인덱스', '속도구분'], dropna=False).agg({'매연':'mean', '차량번호':'count'}).reset_index()\n",
    "grp5['매연'] = grp5['매연'].round(2)\n",
    "grp5 = grp5.rename(columns={'매연':'매연RSD_평균', '차량번호':'측정건수', '속도구분':'속도(km/h)'})\n",
    "grp5.loc[grp5.shape[0]] = [grp5['속도구분인덱스'].max() + 1, '총합', np.nan, grp5['측정건수'].sum()]\n",
    "grp5 = grp5.drop('속도구분인덱스', axis=1)\n",
    "grp5"
   ]
  },
  {
   "cell_type": "markdown",
   "metadata": {},
   "source": [
    "### 6\\. 경유 > 배출가스등급별 매연RSD 측정 평균, 건수"
   ]
  },
  {
   "cell_type": "code",
   "execution_count": 125,
   "metadata": {},
   "outputs": [
    {
     "data": {
      "text/html": [
       "<div>\n",
       "<style scoped>\n",
       "    .dataframe tbody tr th:only-of-type {\n",
       "        vertical-align: middle;\n",
       "    }\n",
       "\n",
       "    .dataframe tbody tr th {\n",
       "        vertical-align: top;\n",
       "    }\n",
       "\n",
       "    .dataframe thead th {\n",
       "        text-align: right;\n",
       "    }\n",
       "</style>\n",
       "<table border=\"1\" class=\"dataframe\">\n",
       "  <thead>\n",
       "    <tr style=\"text-align: right;\">\n",
       "      <th></th>\n",
       "      <th>배출가스등급</th>\n",
       "      <th>매연RSD_평균</th>\n",
       "      <th>측정건수</th>\n",
       "    </tr>\n",
       "  </thead>\n",
       "  <tbody>\n",
       "    <tr>\n",
       "      <th>0</th>\n",
       "      <td>3</td>\n",
       "      <td>0.63</td>\n",
       "      <td>91575</td>\n",
       "    </tr>\n",
       "    <tr>\n",
       "      <th>1</th>\n",
       "      <td>4</td>\n",
       "      <td>0.83</td>\n",
       "      <td>8068</td>\n",
       "    </tr>\n",
       "    <tr>\n",
       "      <th>2</th>\n",
       "      <td>5</td>\n",
       "      <td>0.84</td>\n",
       "      <td>2753</td>\n",
       "    </tr>\n",
       "    <tr>\n",
       "      <th>3</th>\n",
       "      <td>NaN</td>\n",
       "      <td>0.58</td>\n",
       "      <td>4449</td>\n",
       "    </tr>\n",
       "    <tr>\n",
       "      <th>4</th>\n",
       "      <td>총합</td>\n",
       "      <td>NaN</td>\n",
       "      <td>106845</td>\n",
       "    </tr>\n",
       "  </tbody>\n",
       "</table>\n",
       "</div>"
      ],
      "text/plain": [
       "  배출가스등급  매연RSD_평균    측정건수\n",
       "0      3      0.63   91575\n",
       "1      4      0.83    8068\n",
       "2      5      0.84    2753\n",
       "3    NaN      0.58    4449\n",
       "4     총합       NaN  106845"
      ]
     },
     "execution_count": 125,
     "metadata": {},
     "output_type": "execute_result"
    }
   ],
   "source": [
    "grp6 = die.groupby(['배출가스등급'], dropna=False).agg({'매연':'mean', '차량번호':'count'}).reset_index()\n",
    "grp6['매연'] = grp6['매연'].round(2)\n",
    "grp6 = grp6.rename(columns={'매연':'매연RSD_평균', '차량번호':'측정건수'})\n",
    "grp6.loc[grp6.shape[0]] = ['총합', np.nan, grp6['측정건수'].sum()]\n",
    "grp6"
   ]
  },
  {
   "cell_type": "markdown",
   "metadata": {},
   "source": [
    "### 7\\. 경유 > 배기량별 매연RSD 측정 평균, 건수"
   ]
  },
  {
   "cell_type": "code",
   "execution_count": 126,
   "metadata": {},
   "outputs": [
    {
     "data": {
      "text/plain": [
       "0"
      ]
     },
     "execution_count": 126,
     "metadata": {},
     "output_type": "execute_result"
    }
   ],
   "source": [
    "die['배기량'].isnull().sum()"
   ]
  },
  {
   "cell_type": "code",
   "execution_count": 127,
   "metadata": {},
   "outputs": [
    {
     "data": {
      "text/plain": [
       "count   106845.00\n",
       "mean      2684.04\n",
       "std       1675.30\n",
       "min       1396.00\n",
       "25%       1995.00\n",
       "50%       2199.00\n",
       "75%       2497.00\n",
       "max      16991.00\n",
       "Name: 배기량, dtype: float64"
      ]
     },
     "execution_count": 127,
     "metadata": {},
     "output_type": "execute_result"
    }
   ],
   "source": [
    "die['배기량'].describe()"
   ]
  },
  {
   "cell_type": "code",
   "execution_count": 128,
   "metadata": {},
   "outputs": [
    {
     "name": "stdout",
     "output_type": "stream",
     "text": [
      "1 : 1000 ~ 2000\n",
      "2 : 2000 ~ 3000\n",
      "3 : 3000 ~ 4000\n",
      "4 : 4000 ~ 5000\n",
      "5 : 5000 ~ 6000\n",
      "6 : 6000 ~ 7000\n",
      "7 : 7000 ~ 8000\n",
      "8 : 8000 ~ 9000\n",
      "9 : 9000 ~ 10000\n",
      "10 : 10000 ~ 11000\n",
      "11 : 11000 ~ 12000\n",
      "12 : 12000 ~ 13000\n",
      "13 : 13000 ~ 14000\n",
      "14 : 14000 ~ 15000\n",
      "15 : 15000 ~ 16000\n",
      "16 : 16000 ~ 17000\n"
     ]
    }
   ],
   "source": [
    "div = 1000\n",
    "n = 1\n",
    "num = math.ceil(die['배기량'].max() / div)\n",
    "for i in range(1, num):\n",
    "    print(f'{n} : {i*div} ~ {(i + 1) * 1000}')\n",
    "    n += 1"
   ]
  },
  {
   "cell_type": "code",
   "execution_count": 129,
   "metadata": {},
   "outputs": [],
   "source": [
    "div = 1000\n",
    "n = 1\n",
    "num = math.ceil(die['배기량'].max() / div)\n",
    "for i in range(1, num):\n",
    "    die.loc[(die['배기량'] >= i * div) & (die['배기량'] < (i + 1) * div), '배기량구분'] = f'{i}천이상 {i + 1}천미만'\n",
    "    die.loc[(die['배기량'] >= i * div) & (die['배기량'] < (i + 1) * div), '배기량구분인덱스'] = n\n",
    "    n += 1"
   ]
  },
  {
   "cell_type": "code",
   "execution_count": 130,
   "metadata": {},
   "outputs": [
    {
     "data": {
      "text/plain": [
       "array(['2천이상 3천미만', '1천이상 2천미만', '9천이상 10천미만', '12천이상 13천미만', '6천이상 7천미만',\n",
       "       '3천이상 4천미만', '4천이상 5천미만', '5천이상 6천미만', '16천이상 17천미만',\n",
       "       '10천이상 11천미만', '11천이상 12천미만', '8천이상 9천미만', '7천이상 8천미만',\n",
       "       '15천이상 16천미만', '14천이상 15천미만'], dtype=object)"
      ]
     },
     "execution_count": 130,
     "metadata": {},
     "output_type": "execute_result"
    }
   ],
   "source": [
    "die['배기량구분'].unique()"
   ]
  },
  {
   "cell_type": "code",
   "execution_count": 131,
   "metadata": {},
   "outputs": [
    {
     "data": {
      "text/plain": [
       "array([ 2.,  1.,  9., 12.,  6.,  3.,  4.,  5., 16., 10., 11.,  8.,  7.,\n",
       "       15., 14.])"
      ]
     },
     "execution_count": 131,
     "metadata": {},
     "output_type": "execute_result"
    }
   ],
   "source": [
    "die['배기량구분인덱스'].unique()"
   ]
  },
  {
   "cell_type": "code",
   "execution_count": 132,
   "metadata": {},
   "outputs": [
    {
     "data": {
      "text/html": [
       "<div>\n",
       "<style scoped>\n",
       "    .dataframe tbody tr th:only-of-type {\n",
       "        vertical-align: middle;\n",
       "    }\n",
       "\n",
       "    .dataframe tbody tr th {\n",
       "        vertical-align: top;\n",
       "    }\n",
       "\n",
       "    .dataframe thead th {\n",
       "        text-align: right;\n",
       "    }\n",
       "</style>\n",
       "<table border=\"1\" class=\"dataframe\">\n",
       "  <thead>\n",
       "    <tr style=\"text-align: right;\">\n",
       "      <th></th>\n",
       "      <th>배기량(cc)</th>\n",
       "      <th>매연RSD_평균</th>\n",
       "      <th>측정건수</th>\n",
       "    </tr>\n",
       "  </thead>\n",
       "  <tbody>\n",
       "    <tr>\n",
       "      <th>0</th>\n",
       "      <td>1천이상 2천미만</td>\n",
       "      <td>0.65</td>\n",
       "      <td>35240</td>\n",
       "    </tr>\n",
       "    <tr>\n",
       "      <th>1</th>\n",
       "      <td>2천이상 3천미만</td>\n",
       "      <td>0.65</td>\n",
       "      <td>60831</td>\n",
       "    </tr>\n",
       "    <tr>\n",
       "      <th>2</th>\n",
       "      <td>3천이상 4천미만</td>\n",
       "      <td>0.72</td>\n",
       "      <td>4065</td>\n",
       "    </tr>\n",
       "    <tr>\n",
       "      <th>3</th>\n",
       "      <td>4천이상 5천미만</td>\n",
       "      <td>0.58</td>\n",
       "      <td>227</td>\n",
       "    </tr>\n",
       "    <tr>\n",
       "      <th>4</th>\n",
       "      <td>5천이상 6천미만</td>\n",
       "      <td>0.50</td>\n",
       "      <td>1376</td>\n",
       "    </tr>\n",
       "    <tr>\n",
       "      <th>5</th>\n",
       "      <td>6천이상 7천미만</td>\n",
       "      <td>0.56</td>\n",
       "      <td>2297</td>\n",
       "    </tr>\n",
       "    <tr>\n",
       "      <th>6</th>\n",
       "      <td>7천이상 8천미만</td>\n",
       "      <td>0.55</td>\n",
       "      <td>126</td>\n",
       "    </tr>\n",
       "    <tr>\n",
       "      <th>7</th>\n",
       "      <td>8천이상 9천미만</td>\n",
       "      <td>0.72</td>\n",
       "      <td>189</td>\n",
       "    </tr>\n",
       "    <tr>\n",
       "      <th>8</th>\n",
       "      <td>9천이상 10천미만</td>\n",
       "      <td>1.20</td>\n",
       "      <td>745</td>\n",
       "    </tr>\n",
       "    <tr>\n",
       "      <th>9</th>\n",
       "      <td>10천이상 11천미만</td>\n",
       "      <td>0.34</td>\n",
       "      <td>255</td>\n",
       "    </tr>\n",
       "    <tr>\n",
       "      <th>10</th>\n",
       "      <td>11천이상 12천미만</td>\n",
       "      <td>0.44</td>\n",
       "      <td>167</td>\n",
       "    </tr>\n",
       "    <tr>\n",
       "      <th>11</th>\n",
       "      <td>12천이상 13천미만</td>\n",
       "      <td>0.71</td>\n",
       "      <td>1273</td>\n",
       "    </tr>\n",
       "    <tr>\n",
       "      <th>12</th>\n",
       "      <td>14천이상 15천미만</td>\n",
       "      <td>0.62</td>\n",
       "      <td>13</td>\n",
       "    </tr>\n",
       "    <tr>\n",
       "      <th>13</th>\n",
       "      <td>15천이상 16천미만</td>\n",
       "      <td>0.07</td>\n",
       "      <td>15</td>\n",
       "    </tr>\n",
       "    <tr>\n",
       "      <th>14</th>\n",
       "      <td>16천이상 17천미만</td>\n",
       "      <td>0.36</td>\n",
       "      <td>26</td>\n",
       "    </tr>\n",
       "    <tr>\n",
       "      <th>15</th>\n",
       "      <td>총합</td>\n",
       "      <td>NaN</td>\n",
       "      <td>106845</td>\n",
       "    </tr>\n",
       "  </tbody>\n",
       "</table>\n",
       "</div>"
      ],
      "text/plain": [
       "        배기량(cc)  매연RSD_평균    측정건수\n",
       "0     1천이상 2천미만      0.65   35240\n",
       "1     2천이상 3천미만      0.65   60831\n",
       "2     3천이상 4천미만      0.72    4065\n",
       "3     4천이상 5천미만      0.58     227\n",
       "4     5천이상 6천미만      0.50    1376\n",
       "5     6천이상 7천미만      0.56    2297\n",
       "6     7천이상 8천미만      0.55     126\n",
       "7     8천이상 9천미만      0.72     189\n",
       "8    9천이상 10천미만      1.20     745\n",
       "9   10천이상 11천미만      0.34     255\n",
       "10  11천이상 12천미만      0.44     167\n",
       "11  12천이상 13천미만      0.71    1273\n",
       "12  14천이상 15천미만      0.62      13\n",
       "13  15천이상 16천미만      0.07      15\n",
       "14  16천이상 17천미만      0.36      26\n",
       "15           총합       NaN  106845"
      ]
     },
     "execution_count": 132,
     "metadata": {},
     "output_type": "execute_result"
    }
   ],
   "source": [
    "grp7 = die.groupby(['배기량구분인덱스', '배기량구분'], dropna=False).agg({'매연':'mean', '차량번호':'count'}).reset_index()\n",
    "grp7['매연'] = grp7['매연'].round(2)\n",
    "grp7 = grp7.rename(columns={'매연':'매연RSD_평균', '차량번호':'측정건수', '배기량구분':'배기량(cc)'})\n",
    "grp7.loc[grp7.shape[0]] = [grp7['배기량구분인덱스'].max() + 1, '총합', np.nan, grp7['측정건수'].sum()]\n",
    "grp7 = grp7.drop('배기량구분인덱스', axis=1)\n",
    "grp7    "
   ]
  },
  {
   "cell_type": "markdown",
   "metadata": {},
   "source": [
    "### 8\\. 경유 > 차량중량별 매연RSD 측정 평균, 건수"
   ]
  },
  {
   "cell_type": "code",
   "execution_count": 133,
   "metadata": {},
   "outputs": [
    {
     "data": {
      "text/plain": [
       "0"
      ]
     },
     "execution_count": 133,
     "metadata": {},
     "output_type": "execute_result"
    }
   ],
   "source": [
    "die['총중량'].isnull().sum()"
   ]
  },
  {
   "cell_type": "code",
   "execution_count": 134,
   "metadata": {},
   "outputs": [
    {
     "data": {
      "text/plain": [
       "count   106845.00\n",
       "mean      3583.16\n",
       "std       4086.93\n",
       "min       1380.00\n",
       "25%       2135.00\n",
       "50%       2720.00\n",
       "75%       3040.00\n",
       "max      39990.00\n",
       "Name: 총중량, dtype: float64"
      ]
     },
     "execution_count": 134,
     "metadata": {},
     "output_type": "execute_result"
    }
   ],
   "source": [
    "die['총중량'].describe()"
   ]
  },
  {
   "cell_type": "code",
   "execution_count": 135,
   "metadata": {},
   "outputs": [
    {
     "name": "stdout",
     "output_type": "stream",
     "text": [
      "1 : 1000 ~ 2000\n",
      "2 : 2000 ~ 3000\n",
      "3 : 3000 ~ 4000\n",
      "4 : 4000 ~ 5000\n",
      "5 : 5000 ~ 6000\n",
      "6 : 6000 ~ 7000\n",
      "7 : 7000 ~ 8000\n",
      "8 : 8000 ~ 9000\n",
      "9 : 9000 ~ 10000\n",
      "10 : 10000 ~ 11000\n",
      "11 : 11000 ~ 12000\n",
      "12 : 12000 ~ 13000\n",
      "13 : 13000 ~ 14000\n",
      "14 : 14000 ~ 15000\n",
      "15 : 15000 ~ 16000\n",
      "16 : 16000 ~ 17000\n",
      "17 : 17000 ~ 18000\n",
      "18 : 18000 ~ 19000\n",
      "19 : 19000 ~ 20000\n",
      "20 : 20000 ~ 21000\n",
      "21 : 21000 ~ 22000\n",
      "22 : 22000 ~ 23000\n",
      "23 : 23000 ~ 24000\n",
      "24 : 24000 ~ 25000\n",
      "25 : 25000 ~ 26000\n",
      "26 : 26000 ~ 27000\n",
      "27 : 27000 ~ 28000\n",
      "28 : 28000 ~ 29000\n",
      "29 : 29000 ~ 30000\n",
      "30 : 30000 ~ 31000\n",
      "31 : 31000 ~ 32000\n",
      "32 : 32000 ~ 33000\n",
      "33 : 33000 ~ 34000\n",
      "34 : 34000 ~ 35000\n",
      "35 : 35000 ~ 36000\n",
      "36 : 36000 ~ 37000\n",
      "37 : 37000 ~ 38000\n",
      "38 : 38000 ~ 39000\n",
      "39 : 39000 ~ 40000\n"
     ]
    }
   ],
   "source": [
    "div = 1000\n",
    "n = 1\n",
    "num = math.ceil(die['총중량'].max() / div)\n",
    "for i in range(1, num):\n",
    "    print(f'{n} : {i*div} ~ {(i + 1) * div}')\n",
    "    n += 1"
   ]
  },
  {
   "cell_type": "code",
   "execution_count": 136,
   "metadata": {},
   "outputs": [
    {
     "data": {
      "text/plain": [
       "40"
      ]
     },
     "execution_count": 136,
     "metadata": {},
     "output_type": "execute_result"
    }
   ],
   "source": [
    "math.ceil(die['총중량'].max()/1000)"
   ]
  },
  {
   "cell_type": "code",
   "execution_count": 137,
   "metadata": {},
   "outputs": [],
   "source": [
    "div = 1000\n",
    "n = 1\n",
    "num = math.ceil(die['총중량'].max()/div)\n",
    "for i in range(0, num):\n",
    "    die.loc[(die['총중량'] >= i * div) & (die['총중량'] < (i + div) * div), '총중량구분'] = f'{i}천이상 {i + 1}천미만'\n",
    "    die.loc[(die['총중량'] >= i * div) & (die['총중량'] < (i + div) * div), '총중량구분인덱스'] = n\n",
    "    n += 1"
   ]
  },
  {
   "cell_type": "code",
   "execution_count": 138,
   "metadata": {},
   "outputs": [
    {
     "data": {
      "text/plain": [
       "array(['3천이상 4천미만', '2천이상 3천미만', '14천이상 15천미만', '15천이상 16천미만',\n",
       "       '1천이상 2천미만', '13천이상 14천미만', '5천이상 6천미만', '10천이상 11천미만',\n",
       "       '11천이상 12천미만', '6천이상 7천미만', '12천이상 13천미만', '8천이상 9천미만',\n",
       "       '24천이상 25천미만', '16천이상 17천미만', '7천이상 8천미만', '9천이상 10천미만',\n",
       "       '19천이상 20천미만', '39천이상 40천미만', '27천이상 28천미만', '21천이상 22천미만',\n",
       "       '38천이상 39천미만', '26천이상 27천미만', '20천이상 21천미만', '18천이상 19천미만',\n",
       "       '17천이상 18천미만', '25천이상 26천미만', '35천이상 36천미만', '36천이상 37천미만',\n",
       "       '37천이상 38천미만', '22천이상 23천미만', '4천이상 5천미만', '31천이상 32천미만',\n",
       "       '29천이상 30천미만', '33천이상 34천미만', '23천이상 24천미만', '28천이상 29천미만',\n",
       "       '30천이상 31천미만', '34천이상 35천미만', '32천이상 33천미만'], dtype=object)"
      ]
     },
     "execution_count": 138,
     "metadata": {},
     "output_type": "execute_result"
    }
   ],
   "source": [
    "die['총중량구분'].unique()"
   ]
  },
  {
   "cell_type": "code",
   "execution_count": 139,
   "metadata": {},
   "outputs": [
    {
     "data": {
      "text/plain": [
       "array([ 4.,  3., 15., 16.,  2., 14.,  6., 11., 12.,  7., 13.,  9., 25.,\n",
       "       17.,  8., 10., 20., 40., 28., 22., 39., 27., 21., 19., 18., 26.,\n",
       "       36., 37., 38., 23.,  5., 32., 30., 34., 24., 29., 31., 35., 33.])"
      ]
     },
     "execution_count": 139,
     "metadata": {},
     "output_type": "execute_result"
    }
   ],
   "source": [
    "die['총중량구분인덱스'].unique()"
   ]
  },
  {
   "cell_type": "code",
   "execution_count": 140,
   "metadata": {},
   "outputs": [
    {
     "data": {
      "text/html": [
       "<div>\n",
       "<style scoped>\n",
       "    .dataframe tbody tr th:only-of-type {\n",
       "        vertical-align: middle;\n",
       "    }\n",
       "\n",
       "    .dataframe tbody tr th {\n",
       "        vertical-align: top;\n",
       "    }\n",
       "\n",
       "    .dataframe thead th {\n",
       "        text-align: right;\n",
       "    }\n",
       "</style>\n",
       "<table border=\"1\" class=\"dataframe\">\n",
       "  <thead>\n",
       "    <tr style=\"text-align: right;\">\n",
       "      <th></th>\n",
       "      <th>차량중량구분</th>\n",
       "      <th>매연RSD_평균</th>\n",
       "      <th>측정건수</th>\n",
       "    </tr>\n",
       "  </thead>\n",
       "  <tbody>\n",
       "    <tr>\n",
       "      <th>0</th>\n",
       "      <td>1천이상 2천미만</td>\n",
       "      <td>0.64</td>\n",
       "      <td>17521</td>\n",
       "    </tr>\n",
       "    <tr>\n",
       "      <th>1</th>\n",
       "      <td>2천이상 3천미만</td>\n",
       "      <td>0.66</td>\n",
       "      <td>57868</td>\n",
       "    </tr>\n",
       "    <tr>\n",
       "      <th>2</th>\n",
       "      <td>3천이상 4천미만</td>\n",
       "      <td>0.63</td>\n",
       "      <td>20616</td>\n",
       "    </tr>\n",
       "    <tr>\n",
       "      <th>3</th>\n",
       "      <td>4천이상 5천미만</td>\n",
       "      <td>1.12</td>\n",
       "      <td>25</td>\n",
       "    </tr>\n",
       "    <tr>\n",
       "      <th>4</th>\n",
       "      <td>5천이상 6천미만</td>\n",
       "      <td>0.77</td>\n",
       "      <td>1487</td>\n",
       "    </tr>\n",
       "    <tr>\n",
       "      <th>5</th>\n",
       "      <td>6천이상 7천미만</td>\n",
       "      <td>0.83</td>\n",
       "      <td>674</td>\n",
       "    </tr>\n",
       "    <tr>\n",
       "      <th>6</th>\n",
       "      <td>7천이상 8천미만</td>\n",
       "      <td>0.64</td>\n",
       "      <td>1765</td>\n",
       "    </tr>\n",
       "    <tr>\n",
       "      <th>7</th>\n",
       "      <td>8천이상 9천미만</td>\n",
       "      <td>0.66</td>\n",
       "      <td>402</td>\n",
       "    </tr>\n",
       "    <tr>\n",
       "      <th>8</th>\n",
       "      <td>9천이상 10천미만</td>\n",
       "      <td>0.91</td>\n",
       "      <td>316</td>\n",
       "    </tr>\n",
       "    <tr>\n",
       "      <th>9</th>\n",
       "      <td>10천이상 11천미만</td>\n",
       "      <td>0.71</td>\n",
       "      <td>837</td>\n",
       "    </tr>\n",
       "    <tr>\n",
       "      <th>10</th>\n",
       "      <td>11천이상 12천미만</td>\n",
       "      <td>0.49</td>\n",
       "      <td>725</td>\n",
       "    </tr>\n",
       "    <tr>\n",
       "      <th>11</th>\n",
       "      <td>12천이상 13천미만</td>\n",
       "      <td>0.40</td>\n",
       "      <td>516</td>\n",
       "    </tr>\n",
       "    <tr>\n",
       "      <th>12</th>\n",
       "      <td>13천이상 14천미만</td>\n",
       "      <td>0.88</td>\n",
       "      <td>761</td>\n",
       "    </tr>\n",
       "    <tr>\n",
       "      <th>13</th>\n",
       "      <td>14천이상 15천미만</td>\n",
       "      <td>0.87</td>\n",
       "      <td>913</td>\n",
       "    </tr>\n",
       "    <tr>\n",
       "      <th>14</th>\n",
       "      <td>15천이상 16천미만</td>\n",
       "      <td>1.01</td>\n",
       "      <td>818</td>\n",
       "    </tr>\n",
       "    <tr>\n",
       "      <th>15</th>\n",
       "      <td>16천이상 17천미만</td>\n",
       "      <td>0.37</td>\n",
       "      <td>222</td>\n",
       "    </tr>\n",
       "    <tr>\n",
       "      <th>16</th>\n",
       "      <td>17천이상 18천미만</td>\n",
       "      <td>0.34</td>\n",
       "      <td>63</td>\n",
       "    </tr>\n",
       "    <tr>\n",
       "      <th>17</th>\n",
       "      <td>18천이상 19천미만</td>\n",
       "      <td>0.39</td>\n",
       "      <td>44</td>\n",
       "    </tr>\n",
       "    <tr>\n",
       "      <th>18</th>\n",
       "      <td>19천이상 20천미만</td>\n",
       "      <td>0.08</td>\n",
       "      <td>29</td>\n",
       "    </tr>\n",
       "    <tr>\n",
       "      <th>19</th>\n",
       "      <td>20천이상 21천미만</td>\n",
       "      <td>0.17</td>\n",
       "      <td>14</td>\n",
       "    </tr>\n",
       "    <tr>\n",
       "      <th>20</th>\n",
       "      <td>21천이상 22천미만</td>\n",
       "      <td>0.63</td>\n",
       "      <td>26</td>\n",
       "    </tr>\n",
       "    <tr>\n",
       "      <th>21</th>\n",
       "      <td>22천이상 23천미만</td>\n",
       "      <td>0.33</td>\n",
       "      <td>42</td>\n",
       "    </tr>\n",
       "    <tr>\n",
       "      <th>22</th>\n",
       "      <td>23천이상 24천미만</td>\n",
       "      <td>0.11</td>\n",
       "      <td>14</td>\n",
       "    </tr>\n",
       "    <tr>\n",
       "      <th>23</th>\n",
       "      <td>24천이상 25천미만</td>\n",
       "      <td>0.05</td>\n",
       "      <td>31</td>\n",
       "    </tr>\n",
       "    <tr>\n",
       "      <th>24</th>\n",
       "      <td>25천이상 26천미만</td>\n",
       "      <td>0.22</td>\n",
       "      <td>244</td>\n",
       "    </tr>\n",
       "    <tr>\n",
       "      <th>25</th>\n",
       "      <td>26천이상 27천미만</td>\n",
       "      <td>0.16</td>\n",
       "      <td>93</td>\n",
       "    </tr>\n",
       "    <tr>\n",
       "      <th>26</th>\n",
       "      <td>27천이상 28천미만</td>\n",
       "      <td>0.24</td>\n",
       "      <td>24</td>\n",
       "    </tr>\n",
       "    <tr>\n",
       "      <th>27</th>\n",
       "      <td>28천이상 29천미만</td>\n",
       "      <td>0.00</td>\n",
       "      <td>7</td>\n",
       "    </tr>\n",
       "    <tr>\n",
       "      <th>28</th>\n",
       "      <td>29천이상 30천미만</td>\n",
       "      <td>0.21</td>\n",
       "      <td>15</td>\n",
       "    </tr>\n",
       "    <tr>\n",
       "      <th>29</th>\n",
       "      <td>30천이상 31천미만</td>\n",
       "      <td>0.33</td>\n",
       "      <td>13</td>\n",
       "    </tr>\n",
       "    <tr>\n",
       "      <th>30</th>\n",
       "      <td>31천이상 32천미만</td>\n",
       "      <td>0.25</td>\n",
       "      <td>14</td>\n",
       "    </tr>\n",
       "    <tr>\n",
       "      <th>31</th>\n",
       "      <td>32천이상 33천미만</td>\n",
       "      <td>0.00</td>\n",
       "      <td>4</td>\n",
       "    </tr>\n",
       "    <tr>\n",
       "      <th>32</th>\n",
       "      <td>33천이상 34천미만</td>\n",
       "      <td>0.04</td>\n",
       "      <td>10</td>\n",
       "    </tr>\n",
       "    <tr>\n",
       "      <th>33</th>\n",
       "      <td>34천이상 35천미만</td>\n",
       "      <td>0.56</td>\n",
       "      <td>12</td>\n",
       "    </tr>\n",
       "    <tr>\n",
       "      <th>34</th>\n",
       "      <td>35천이상 36천미만</td>\n",
       "      <td>0.34</td>\n",
       "      <td>84</td>\n",
       "    </tr>\n",
       "    <tr>\n",
       "      <th>35</th>\n",
       "      <td>36천이상 37천미만</td>\n",
       "      <td>0.49</td>\n",
       "      <td>26</td>\n",
       "    </tr>\n",
       "    <tr>\n",
       "      <th>36</th>\n",
       "      <td>37천이상 38천미만</td>\n",
       "      <td>0.39</td>\n",
       "      <td>68</td>\n",
       "    </tr>\n",
       "    <tr>\n",
       "      <th>37</th>\n",
       "      <td>38천이상 39천미만</td>\n",
       "      <td>0.16</td>\n",
       "      <td>215</td>\n",
       "    </tr>\n",
       "    <tr>\n",
       "      <th>38</th>\n",
       "      <td>39천이상 40천미만</td>\n",
       "      <td>0.27</td>\n",
       "      <td>287</td>\n",
       "    </tr>\n",
       "    <tr>\n",
       "      <th>39</th>\n",
       "      <td>총합</td>\n",
       "      <td>NaN</td>\n",
       "      <td>106845</td>\n",
       "    </tr>\n",
       "  </tbody>\n",
       "</table>\n",
       "</div>"
      ],
      "text/plain": [
       "         차량중량구분  매연RSD_평균    측정건수\n",
       "0     1천이상 2천미만      0.64   17521\n",
       "1     2천이상 3천미만      0.66   57868\n",
       "2     3천이상 4천미만      0.63   20616\n",
       "3     4천이상 5천미만      1.12      25\n",
       "4     5천이상 6천미만      0.77    1487\n",
       "5     6천이상 7천미만      0.83     674\n",
       "6     7천이상 8천미만      0.64    1765\n",
       "7     8천이상 9천미만      0.66     402\n",
       "8    9천이상 10천미만      0.91     316\n",
       "9   10천이상 11천미만      0.71     837\n",
       "10  11천이상 12천미만      0.49     725\n",
       "11  12천이상 13천미만      0.40     516\n",
       "12  13천이상 14천미만      0.88     761\n",
       "13  14천이상 15천미만      0.87     913\n",
       "14  15천이상 16천미만      1.01     818\n",
       "15  16천이상 17천미만      0.37     222\n",
       "16  17천이상 18천미만      0.34      63\n",
       "17  18천이상 19천미만      0.39      44\n",
       "18  19천이상 20천미만      0.08      29\n",
       "19  20천이상 21천미만      0.17      14\n",
       "20  21천이상 22천미만      0.63      26\n",
       "21  22천이상 23천미만      0.33      42\n",
       "22  23천이상 24천미만      0.11      14\n",
       "23  24천이상 25천미만      0.05      31\n",
       "24  25천이상 26천미만      0.22     244\n",
       "25  26천이상 27천미만      0.16      93\n",
       "26  27천이상 28천미만      0.24      24\n",
       "27  28천이상 29천미만      0.00       7\n",
       "28  29천이상 30천미만      0.21      15\n",
       "29  30천이상 31천미만      0.33      13\n",
       "30  31천이상 32천미만      0.25      14\n",
       "31  32천이상 33천미만      0.00       4\n",
       "32  33천이상 34천미만      0.04      10\n",
       "33  34천이상 35천미만      0.56      12\n",
       "34  35천이상 36천미만      0.34      84\n",
       "35  36천이상 37천미만      0.49      26\n",
       "36  37천이상 38천미만      0.39      68\n",
       "37  38천이상 39천미만      0.16     215\n",
       "38  39천이상 40천미만      0.27     287\n",
       "39           총합       NaN  106845"
      ]
     },
     "execution_count": 140,
     "metadata": {},
     "output_type": "execute_result"
    }
   ],
   "source": [
    "grp8 = die.groupby(['총중량구분인덱스', '총중량구분'], dropna=False).agg({'매연':'mean', '차량번호':'count'}).reset_index()\n",
    "grp8['매연'] = grp8['매연'].round(2)\n",
    "grp8 = grp8.rename(columns={'총중량구분':'차량중량구분', '매연':'매연RSD_평균', '차량번호':'측정건수'})\n",
    "grp8.loc[grp8.shape[0]] = [grp8['총중량구분인덱스'].max() + 1, '총합', np.nan, grp8['측정건수'].sum()]\n",
    "grp8 = grp8.drop('총중량구분인덱스', axis=1)\n",
    "grp8    "
   ]
  },
  {
   "cell_type": "markdown",
   "metadata": {},
   "source": [
    "### 9\\. 경유 > 종합검사 매연허용기준별\n",
    "- 매연허용치 8미만 제외\n",
    "- 4륜 자동차의 경유 검사장비가 없어서 정기검사(무부하)만 가능함으로 정기검사 기준이 기록됨.(2023.09.20, 최이사님)"
   ]
  },
  {
   "cell_type": "code",
   "execution_count": 141,
   "metadata": {},
   "outputs": [
    {
     "data": {
      "text/plain": [
       "Index(['측정날짜', '측정시간', '기록상태', '유효', '속도', '가속도', '플래그', 'VSP', '매연', '차량번호',\n",
       "       '차선번호', '풍속', '습도', '온도', '측정장소코드', '측정날짜시간', '배출가스인증번호', '배출가스등급',\n",
       "       '최초등록일자', '제원관리번호', '수정일시', '차량말소YN', '차량제작일자', '차량연식', '차종', '차대번호',\n",
       "       '자동차형식', '배기량', '엔진출력', '엔진형식', '연료', '제작사명', '총중량', '차명', '차종분류',\n",
       "       '차종유형', '무부하매연측정치1', '무부하매연판정1', '무부하매연허용치1', '무부하매연측정치2', '무부하매연판정2',\n",
       "       '무부하매연허용치2', '무부하매연측정치3', '무부하매연판정3', '무부하매연허용치3', '검사방법', '검사일자',\n",
       "       '속도구분', '속도구분인덱스', '배기량구분', '배기량구분인덱스', '총중량구분', '총중량구분인덱스'],\n",
       "      dtype='object')"
      ]
     },
     "execution_count": 141,
     "metadata": {},
     "output_type": "execute_result"
    }
   ],
   "source": [
    "die.columns"
   ]
  },
  {
   "cell_type": "code",
   "execution_count": 142,
   "metadata": {},
   "outputs": [],
   "source": [
    "# die['차량제작일자'].dtype"
   ]
  },
  {
   "cell_type": "code",
   "execution_count": 143,
   "metadata": {},
   "outputs": [],
   "source": [
    "die['차량제작일자'] = pd.to_datetime(die['차량제작일자'], format=\"%Y%m%d\", errors='coerce')\n",
    "# die['차량제작일자'].isnull().sum()"
   ]
  },
  {
   "cell_type": "code",
   "execution_count": 144,
   "metadata": {},
   "outputs": [],
   "source": [
    "# die['차량제작일자'].head()"
   ]
  },
  {
   "cell_type": "code",
   "execution_count": 145,
   "metadata": {},
   "outputs": [],
   "source": [
    "# die.loc[die['차량제작일자'] == '20170904', '차량제작일자'].head()"
   ]
  },
  {
   "cell_type": "code",
   "execution_count": 146,
   "metadata": {},
   "outputs": [],
   "source": [
    "# die.loc[die['차량제작일자'] == '2017-09-04', '차량제작일자'].head()"
   ]
  },
  {
   "cell_type": "code",
   "execution_count": 147,
   "metadata": {},
   "outputs": [],
   "source": [
    "# die.loc[die['차량제작일자'] > '2017-09-04', '차량제작일자'].head()"
   ]
  },
  {
   "cell_type": "code",
   "execution_count": 149,
   "metadata": {},
   "outputs": [
    {
     "data": {
      "text/plain": [
       "array(['부하검사(KD-147)', '무부하검사(급가속)', nan, '부하검사(LUG DOWN)',\n",
       "       '부하검사(ASM-Idling)'], dtype=object)"
      ]
     },
     "execution_count": 149,
     "metadata": {},
     "output_type": "execute_result"
    }
   ],
   "source": [
    "die['검사방법'].unique()"
   ]
  },
  {
   "cell_type": "code",
   "execution_count": 150,
   "metadata": {},
   "outputs": [
    {
     "data": {
      "text/plain": [
       "부하검사(KD-147)        47754\n",
       "NaN                 45047\n",
       "무부하검사(급가속)           7598\n",
       "부하검사(LUG DOWN)       6423\n",
       "부하검사(ASM-Idling)       23\n",
       "Name: 검사방법, dtype: int64"
      ]
     },
     "execution_count": 150,
     "metadata": {},
     "output_type": "execute_result"
    }
   ],
   "source": [
    "die['검사방법'].value_counts(dropna=False)"
   ]
  },
  {
   "cell_type": "code",
   "execution_count": 151,
   "metadata": {},
   "outputs": [
    {
     "data": {
      "text/html": [
       "<div>\n",
       "<style scoped>\n",
       "    .dataframe tbody tr th:only-of-type {\n",
       "        vertical-align: middle;\n",
       "    }\n",
       "\n",
       "    .dataframe tbody tr th {\n",
       "        vertical-align: top;\n",
       "    }\n",
       "\n",
       "    .dataframe thead th {\n",
       "        text-align: right;\n",
       "    }\n",
       "</style>\n",
       "<table border=\"1\" class=\"dataframe\">\n",
       "  <thead>\n",
       "    <tr style=\"text-align: right;\">\n",
       "      <th></th>\n",
       "      <th>검사방법</th>\n",
       "      <th>무부하매연측정치1</th>\n",
       "      <th>무부하매연허용치1</th>\n",
       "    </tr>\n",
       "  </thead>\n",
       "  <tbody>\n",
       "    <tr>\n",
       "      <th>0</th>\n",
       "      <td>부하검사(KD-147)</td>\n",
       "      <td>0.00</td>\n",
       "      <td>8.00</td>\n",
       "    </tr>\n",
       "    <tr>\n",
       "      <th>1</th>\n",
       "      <td>부하검사(KD-147)</td>\n",
       "      <td>7.00</td>\n",
       "      <td>8.00</td>\n",
       "    </tr>\n",
       "    <tr>\n",
       "      <th>2</th>\n",
       "      <td>부하검사(KD-147)</td>\n",
       "      <td>2.00</td>\n",
       "      <td>15.00</td>\n",
       "    </tr>\n",
       "    <tr>\n",
       "      <th>4</th>\n",
       "      <td>부하검사(KD-147)</td>\n",
       "      <td>0.00</td>\n",
       "      <td>15.00</td>\n",
       "    </tr>\n",
       "    <tr>\n",
       "      <th>8</th>\n",
       "      <td>부하검사(KD-147)</td>\n",
       "      <td>0.00</td>\n",
       "      <td>15.00</td>\n",
       "    </tr>\n",
       "  </tbody>\n",
       "</table>\n",
       "</div>"
      ],
      "text/plain": [
       "           검사방법  무부하매연측정치1  무부하매연허용치1\n",
       "0  부하검사(KD-147)       0.00       8.00\n",
       "1  부하검사(KD-147)       7.00       8.00\n",
       "2  부하검사(KD-147)       2.00      15.00\n",
       "4  부하검사(KD-147)       0.00      15.00\n",
       "8  부하검사(KD-147)       0.00      15.00"
      ]
     },
     "execution_count": 151,
     "metadata": {},
     "output_type": "execute_result"
    }
   ],
   "source": [
    "die.loc[die['검사방법'] == '부하검사(KD-147)', ['검사방법', '무부하매연측정치1', '무부하매연허용치1']].head()"
   ]
  },
  {
   "cell_type": "code",
   "execution_count": 48,
   "metadata": {},
   "outputs": [],
   "source": [
    "# die.loc[die['차량제작일자'] <= '1992-12-31', '정밀검사_매연허용치'] = 45\n",
    "# die.loc[(die['차량제작일자'] >= '1993-01-01') & (die['차량제작일자'] <= '1995-12-31'), '정밀검사_매연허용치'] = 40\n",
    "# die.loc[(die['차량제작일자'] >= '1996-01-01') & (die['차량제작일자'] <= '2000-12-31'), '정밀검사_매연허용치'] = 35\n",
    "# die.loc[(die['차량제작일자'] >= '2001-01-01') & (die['차량제작일자'] <= '2007-12-31'), '정밀검사_매연허용치'] = 25\n",
    "# die.loc[(die['차량제작일자'] >= '2008-01-01') & (die['차량제작일자'] <= '2016-08-31'), '정밀검사_매연허용치'] = 15\n",
    "# die.loc[die['차량제작일자'] <= '2018-01-01', '정밀검사_매연허용치'] = 8"
   ]
  },
  {
   "cell_type": "code",
   "execution_count": 152,
   "metadata": {},
   "outputs": [
    {
     "data": {
      "text/plain": [
       "array([ 8.  , 15.  , 20.  ,   nan, 25.  , 10.  , 40.  ,  0.49, 45.  ,\n",
       "        2.18, 35.  ,  3.26,  0.56, 30.  ,  1.77, 50.  ,  2.13,  2.46])"
      ]
     },
     "execution_count": 152,
     "metadata": {},
     "output_type": "execute_result"
    }
   ],
   "source": [
    "die['무부하매연허용치1'].unique()"
   ]
  },
  {
   "cell_type": "code",
   "execution_count": 153,
   "metadata": {},
   "outputs": [
    {
     "data": {
      "text/plain": [
       "dtype('float64')"
      ]
     },
     "execution_count": 153,
     "metadata": {},
     "output_type": "execute_result"
    }
   ],
   "source": [
    "die['무부하매연허용치1'].dtype"
   ]
  },
  {
   "cell_type": "code",
   "execution_count": 154,
   "metadata": {},
   "outputs": [
    {
     "data": {
      "text/plain": [
       "count   61372.00\n",
       "mean       13.88\n",
       "std         4.79\n",
       "min         0.49\n",
       "25%         8.00\n",
       "50%        15.00\n",
       "75%        15.00\n",
       "max        50.00\n",
       "Name: 무부하매연허용치1, dtype: float64"
      ]
     },
     "execution_count": 154,
     "metadata": {},
     "output_type": "execute_result"
    }
   ],
   "source": [
    "die['무부하매연허용치1'].describe()"
   ]
  },
  {
   "cell_type": "code",
   "execution_count": 155,
   "metadata": {},
   "outputs": [
    {
     "data": {
      "text/plain": [
       "(61349, 53)"
      ]
     },
     "execution_count": 155,
     "metadata": {},
     "output_type": "execute_result"
    }
   ],
   "source": [
    "die[die['무부하매연허용치1'] >= 8].shape"
   ]
  },
  {
   "cell_type": "code",
   "execution_count": 156,
   "metadata": {},
   "outputs": [
    {
     "data": {
      "text/html": [
       "<div>\n",
       "<style scoped>\n",
       "    .dataframe tbody tr th:only-of-type {\n",
       "        vertical-align: middle;\n",
       "    }\n",
       "\n",
       "    .dataframe tbody tr th {\n",
       "        vertical-align: top;\n",
       "    }\n",
       "\n",
       "    .dataframe thead th {\n",
       "        text-align: right;\n",
       "    }\n",
       "</style>\n",
       "<table border=\"1\" class=\"dataframe\">\n",
       "  <thead>\n",
       "    <tr style=\"text-align: right;\">\n",
       "      <th></th>\n",
       "      <th>매연허용기준(%)</th>\n",
       "      <th>매연RSD_평균</th>\n",
       "      <th>측정건수</th>\n",
       "    </tr>\n",
       "  </thead>\n",
       "  <tbody>\n",
       "    <tr>\n",
       "      <th>0</th>\n",
       "      <td>8.00</td>\n",
       "      <td>0.62</td>\n",
       "      <td>17789</td>\n",
       "    </tr>\n",
       "    <tr>\n",
       "      <th>1</th>\n",
       "      <td>10.00</td>\n",
       "      <td>0.61</td>\n",
       "      <td>1319</td>\n",
       "    </tr>\n",
       "    <tr>\n",
       "      <th>2</th>\n",
       "      <td>15.00</td>\n",
       "      <td>0.69</td>\n",
       "      <td>34155</td>\n",
       "    </tr>\n",
       "    <tr>\n",
       "      <th>3</th>\n",
       "      <td>20.00</td>\n",
       "      <td>0.71</td>\n",
       "      <td>3952</td>\n",
       "    </tr>\n",
       "    <tr>\n",
       "      <th>4</th>\n",
       "      <td>25.00</td>\n",
       "      <td>0.74</td>\n",
       "      <td>4026</td>\n",
       "    </tr>\n",
       "    <tr>\n",
       "      <th>5</th>\n",
       "      <td>30.00</td>\n",
       "      <td>0.69</td>\n",
       "      <td>15</td>\n",
       "    </tr>\n",
       "    <tr>\n",
       "      <th>6</th>\n",
       "      <td>35.00</td>\n",
       "      <td>0.40</td>\n",
       "      <td>1</td>\n",
       "    </tr>\n",
       "    <tr>\n",
       "      <th>7</th>\n",
       "      <td>40.00</td>\n",
       "      <td>0.98</td>\n",
       "      <td>47</td>\n",
       "    </tr>\n",
       "    <tr>\n",
       "      <th>8</th>\n",
       "      <td>45.00</td>\n",
       "      <td>0.82</td>\n",
       "      <td>41</td>\n",
       "    </tr>\n",
       "    <tr>\n",
       "      <th>9</th>\n",
       "      <td>50.00</td>\n",
       "      <td>1.90</td>\n",
       "      <td>4</td>\n",
       "    </tr>\n",
       "    <tr>\n",
       "      <th>10</th>\n",
       "      <td>총합</td>\n",
       "      <td>NaN</td>\n",
       "      <td>61349</td>\n",
       "    </tr>\n",
       "  </tbody>\n",
       "</table>\n",
       "</div>"
      ],
      "text/plain": [
       "   매연허용기준(%)  매연RSD_평균   측정건수\n",
       "0       8.00      0.62  17789\n",
       "1      10.00      0.61   1319\n",
       "2      15.00      0.69  34155\n",
       "3      20.00      0.71   3952\n",
       "4      25.00      0.74   4026\n",
       "5      30.00      0.69     15\n",
       "6      35.00      0.40      1\n",
       "7      40.00      0.98     47\n",
       "8      45.00      0.82     41\n",
       "9      50.00      1.90      4\n",
       "10        총합       NaN  61349"
      ]
     },
     "execution_count": 156,
     "metadata": {},
     "output_type": "execute_result"
    }
   ],
   "source": [
    "grp9 = die[die['무부하매연허용치1'] >= 8].groupby(['무부하매연허용치1'], dropna=False).agg({'매연':'mean', '차량번호':'count'}).reset_index()\n",
    "grp9['매연'] = grp9['매연'].round(2)\n",
    "grp9 = grp9.rename(columns={'무부하매연허용치1':'매연허용기준(%)', '매연':'매연RSD_평균', '차량번호':'측정건수'})\n",
    "grp9.loc[grp9.shape[0]] = ['총합', np.nan, grp9['측정건수'].sum()]\n",
    "grp9"
   ]
  },
  {
   "cell_type": "markdown",
   "metadata": {},
   "source": [
    "### 10\\. 경유 > 종합검사 NOx허용기준별"
   ]
  },
  {
   "cell_type": "code",
   "execution_count": 157,
   "metadata": {},
   "outputs": [
    {
     "data": {
      "text/plain": [
       "array([  nan,   15.,    8.,    0.,  580.,   20., 1830.,   25., 2340.,\n",
       "        700.,   30., 1240.,   50., 1200., 2070.])"
      ]
     },
     "execution_count": 157,
     "metadata": {},
     "output_type": "execute_result"
    }
   ],
   "source": [
    "die['무부하매연허용치3'].unique()"
   ]
  },
  {
   "cell_type": "code",
   "execution_count": 158,
   "metadata": {},
   "outputs": [
    {
     "data": {
      "text/plain": [
       "dtype('float64')"
      ]
     },
     "execution_count": 158,
     "metadata": {},
     "output_type": "execute_result"
    }
   ],
   "source": [
    "die['무부하매연허용치3'].dtype"
   ]
  },
  {
   "cell_type": "code",
   "execution_count": 159,
   "metadata": {},
   "outputs": [
    {
     "data": {
      "text/plain": [
       "count   28114.00\n",
       "mean        4.37\n",
       "std        44.17\n",
       "min         0.00\n",
       "25%         0.00\n",
       "50%         0.00\n",
       "75%         0.00\n",
       "max      2340.00\n",
       "Name: 무부하매연허용치3, dtype: float64"
      ]
     },
     "execution_count": 159,
     "metadata": {},
     "output_type": "execute_result"
    }
   ],
   "source": [
    "die['무부하매연허용치3'].describe()"
   ]
  },
  {
   "cell_type": "code",
   "execution_count": 160,
   "metadata": {},
   "outputs": [
    {
     "data": {
      "text/html": [
       "<div>\n",
       "<style scoped>\n",
       "    .dataframe tbody tr th:only-of-type {\n",
       "        vertical-align: middle;\n",
       "    }\n",
       "\n",
       "    .dataframe tbody tr th {\n",
       "        vertical-align: top;\n",
       "    }\n",
       "\n",
       "    .dataframe thead th {\n",
       "        text-align: right;\n",
       "    }\n",
       "</style>\n",
       "<table border=\"1\" class=\"dataframe\">\n",
       "  <thead>\n",
       "    <tr style=\"text-align: right;\">\n",
       "      <th></th>\n",
       "      <th>NOx허용기준(ppm)</th>\n",
       "      <th>매연RSD_평균</th>\n",
       "      <th>측정건수</th>\n",
       "    </tr>\n",
       "  </thead>\n",
       "  <tbody>\n",
       "    <tr>\n",
       "      <th>0</th>\n",
       "      <td>0.00</td>\n",
       "      <td>0.66</td>\n",
       "      <td>21709</td>\n",
       "    </tr>\n",
       "    <tr>\n",
       "      <th>1</th>\n",
       "      <td>8.00</td>\n",
       "      <td>0.75</td>\n",
       "      <td>1393</td>\n",
       "    </tr>\n",
       "    <tr>\n",
       "      <th>2</th>\n",
       "      <td>15.00</td>\n",
       "      <td>0.69</td>\n",
       "      <td>4130</td>\n",
       "    </tr>\n",
       "    <tr>\n",
       "      <th>3</th>\n",
       "      <td>20.00</td>\n",
       "      <td>0.76</td>\n",
       "      <td>769</td>\n",
       "    </tr>\n",
       "    <tr>\n",
       "      <th>4</th>\n",
       "      <td>25.00</td>\n",
       "      <td>1.03</td>\n",
       "      <td>71</td>\n",
       "    </tr>\n",
       "    <tr>\n",
       "      <th>5</th>\n",
       "      <td>30.00</td>\n",
       "      <td>0.69</td>\n",
       "      <td>15</td>\n",
       "    </tr>\n",
       "    <tr>\n",
       "      <th>6</th>\n",
       "      <td>50.00</td>\n",
       "      <td>1.90</td>\n",
       "      <td>4</td>\n",
       "    </tr>\n",
       "    <tr>\n",
       "      <th>7</th>\n",
       "      <td>580.00</td>\n",
       "      <td>0.90</td>\n",
       "      <td>1</td>\n",
       "    </tr>\n",
       "    <tr>\n",
       "      <th>8</th>\n",
       "      <td>700.00</td>\n",
       "      <td>0.55</td>\n",
       "      <td>8</td>\n",
       "    </tr>\n",
       "    <tr>\n",
       "      <th>9</th>\n",
       "      <td>1200.00</td>\n",
       "      <td>0.03</td>\n",
       "      <td>3</td>\n",
       "    </tr>\n",
       "    <tr>\n",
       "      <th>10</th>\n",
       "      <td>1240.00</td>\n",
       "      <td>1.10</td>\n",
       "      <td>1</td>\n",
       "    </tr>\n",
       "    <tr>\n",
       "      <th>11</th>\n",
       "      <td>1830.00</td>\n",
       "      <td>0.68</td>\n",
       "      <td>4</td>\n",
       "    </tr>\n",
       "    <tr>\n",
       "      <th>12</th>\n",
       "      <td>2070.00</td>\n",
       "      <td>0.00</td>\n",
       "      <td>2</td>\n",
       "    </tr>\n",
       "    <tr>\n",
       "      <th>13</th>\n",
       "      <td>2340.00</td>\n",
       "      <td>1.35</td>\n",
       "      <td>4</td>\n",
       "    </tr>\n",
       "    <tr>\n",
       "      <th>14</th>\n",
       "      <td>NaN</td>\n",
       "      <td>0.64</td>\n",
       "      <td>78731</td>\n",
       "    </tr>\n",
       "    <tr>\n",
       "      <th>15</th>\n",
       "      <td>총합</td>\n",
       "      <td>NaN</td>\n",
       "      <td>106845</td>\n",
       "    </tr>\n",
       "  </tbody>\n",
       "</table>\n",
       "</div>"
      ],
      "text/plain": [
       "   NOx허용기준(ppm)  매연RSD_평균    측정건수\n",
       "0          0.00      0.66   21709\n",
       "1          8.00      0.75    1393\n",
       "2         15.00      0.69    4130\n",
       "3         20.00      0.76     769\n",
       "4         25.00      1.03      71\n",
       "5         30.00      0.69      15\n",
       "6         50.00      1.90       4\n",
       "7        580.00      0.90       1\n",
       "8        700.00      0.55       8\n",
       "9       1200.00      0.03       3\n",
       "10      1240.00      1.10       1\n",
       "11      1830.00      0.68       4\n",
       "12      2070.00      0.00       2\n",
       "13      2340.00      1.35       4\n",
       "14          NaN      0.64   78731\n",
       "15           총합       NaN  106845"
      ]
     },
     "execution_count": 160,
     "metadata": {},
     "output_type": "execute_result"
    }
   ],
   "source": [
    "grp10 = die.groupby(['무부하매연허용치3'], dropna=False).agg({'매연':'mean', '차량번호':'count'}).reset_index()\n",
    "grp10['매연'] = grp10['매연'].round(2)\n",
    "grp10 = grp10.rename(columns={'무부하매연허용치3':'NOx허용기준(ppm)', '매연':'매연RSD_평균', '차량번호':'측정건수'})\n",
    "grp10.loc[grp10.shape[0]] = ['총합', np.nan, grp10['측정건수'].sum()]\n",
    "grp10"
   ]
  },
  {
   "cell_type": "markdown",
   "metadata": {},
   "source": [
    "## 매연RSD 매연농도별 측정건수 분포\n",
    "- 농도별(10개)\n",
    "    - 0 이상 0.5미만, …"
   ]
  },
  {
   "cell_type": "code",
   "execution_count": 161,
   "metadata": {},
   "outputs": [
    {
     "data": {
      "text/plain": [
       "count   106845.00\n",
       "mean         0.65\n",
       "std          0.76\n",
       "min          0.00\n",
       "25%          0.10\n",
       "50%          0.50\n",
       "75%          0.90\n",
       "max          5.00\n",
       "Name: 매연, dtype: float64"
      ]
     },
     "execution_count": 161,
     "metadata": {},
     "output_type": "execute_result"
    }
   ],
   "source": [
    "die['매연'].describe()"
   ]
  },
  {
   "cell_type": "code",
   "execution_count": 162,
   "metadata": {},
   "outputs": [
    {
     "name": "stdout",
     "output_type": "stream",
     "text": [
      "1 : 0 ~ 0.5\n",
      "2 : 0.5 ~ 1.0\n",
      "3 : 1.0 ~ 1.5\n",
      "4 : 1.5 ~ 2.0\n",
      "5 : 2.0 ~ 2.5\n",
      "6 : 2.5 ~ 3.0\n",
      "7 : 3.0 ~ 3.5\n",
      "8 : 3.5 ~ 4.0\n",
      "9 : 4.0 ~ 4.5\n"
     ]
    }
   ],
   "source": [
    "div = 0.5\n",
    "n = 0\n",
    "for i in range(9):\n",
    "    print(f'{i + 1} : {n} ~ {n + div}')\n",
    "    n += div"
   ]
  },
  {
   "cell_type": "code",
   "execution_count": 163,
   "metadata": {},
   "outputs": [],
   "source": [
    "div = 0.5\n",
    "n = 0\n",
    "for i in range(9):\n",
    "    die.loc[(die['매연'] >= n) & (die['매연'] < n + div), '매연구분'] = f'{n}이상 {n + div}미만'\n",
    "    die.loc[(die['매연'] >= n) & (die['매연'] < n + div), '매연구분인덱스'] = i + 1\n",
    "    n += div\n",
    "die.loc[die['매연'] >= n, '매연구분'] = f'{n}이상'\n",
    "die.loc[die['매연'] >= n, '매연구분인덱스'] = i + 2"
   ]
  },
  {
   "cell_type": "code",
   "execution_count": 164,
   "metadata": {},
   "outputs": [
    {
     "data": {
      "text/plain": [
       "array(['0.5이상 1.0미만', '1.0이상 1.5미만', '1.5이상 2.0미만', '0이상 0.5미만',\n",
       "       '2.5이상 3.0미만', '3.5이상 4.0미만', '2.0이상 2.5미만', '3.0이상 3.5미만',\n",
       "       '4.0이상 4.5미만', '4.5이상'], dtype=object)"
      ]
     },
     "execution_count": 164,
     "metadata": {},
     "output_type": "execute_result"
    }
   ],
   "source": [
    "die['매연구분'].unique()"
   ]
  },
  {
   "cell_type": "code",
   "execution_count": 165,
   "metadata": {},
   "outputs": [
    {
     "data": {
      "text/plain": [
       "array([ 2.,  3.,  4.,  1.,  6.,  8.,  5.,  7.,  9., 10.])"
      ]
     },
     "execution_count": 165,
     "metadata": {},
     "output_type": "execute_result"
    }
   ],
   "source": [
    "die['매연구분인덱스'].unique()"
   ]
  },
  {
   "cell_type": "markdown",
   "metadata": {},
   "source": [
    "### 11\\. RSD 매연 농도별 데이터 수량"
   ]
  },
  {
   "cell_type": "code",
   "execution_count": 166,
   "metadata": {},
   "outputs": [
    {
     "data": {
      "text/html": [
       "<div>\n",
       "<style scoped>\n",
       "    .dataframe tbody tr th:only-of-type {\n",
       "        vertical-align: middle;\n",
       "    }\n",
       "\n",
       "    .dataframe tbody tr th {\n",
       "        vertical-align: top;\n",
       "    }\n",
       "\n",
       "    .dataframe thead th {\n",
       "        text-align: right;\n",
       "    }\n",
       "</style>\n",
       "<table border=\"1\" class=\"dataframe\">\n",
       "  <thead>\n",
       "    <tr style=\"text-align: right;\">\n",
       "      <th></th>\n",
       "      <th>매연(%)</th>\n",
       "      <th>측정건수</th>\n",
       "    </tr>\n",
       "  </thead>\n",
       "  <tbody>\n",
       "    <tr>\n",
       "      <th>0</th>\n",
       "      <td>0이상 0.5미만</td>\n",
       "      <td>52595</td>\n",
       "    </tr>\n",
       "    <tr>\n",
       "      <th>1</th>\n",
       "      <td>0.5이상 1.0미만</td>\n",
       "      <td>30398</td>\n",
       "    </tr>\n",
       "    <tr>\n",
       "      <th>2</th>\n",
       "      <td>1.0이상 1.5미만</td>\n",
       "      <td>12682</td>\n",
       "    </tr>\n",
       "    <tr>\n",
       "      <th>3</th>\n",
       "      <td>1.5이상 2.0미만</td>\n",
       "      <td>4832</td>\n",
       "    </tr>\n",
       "    <tr>\n",
       "      <th>4</th>\n",
       "      <td>2.0이상 2.5미만</td>\n",
       "      <td>2370</td>\n",
       "    </tr>\n",
       "    <tr>\n",
       "      <th>5</th>\n",
       "      <td>2.5이상 3.0미만</td>\n",
       "      <td>1342</td>\n",
       "    </tr>\n",
       "    <tr>\n",
       "      <th>6</th>\n",
       "      <td>3.0이상 3.5미만</td>\n",
       "      <td>917</td>\n",
       "    </tr>\n",
       "    <tr>\n",
       "      <th>7</th>\n",
       "      <td>3.5이상 4.0미만</td>\n",
       "      <td>679</td>\n",
       "    </tr>\n",
       "    <tr>\n",
       "      <th>8</th>\n",
       "      <td>4.0이상 4.5미만</td>\n",
       "      <td>540</td>\n",
       "    </tr>\n",
       "    <tr>\n",
       "      <th>9</th>\n",
       "      <td>4.5이상</td>\n",
       "      <td>490</td>\n",
       "    </tr>\n",
       "    <tr>\n",
       "      <th>10</th>\n",
       "      <td>총합</td>\n",
       "      <td>106845</td>\n",
       "    </tr>\n",
       "  </tbody>\n",
       "</table>\n",
       "</div>"
      ],
      "text/plain": [
       "          매연(%)    측정건수\n",
       "0     0이상 0.5미만   52595\n",
       "1   0.5이상 1.0미만   30398\n",
       "2   1.0이상 1.5미만   12682\n",
       "3   1.5이상 2.0미만    4832\n",
       "4   2.0이상 2.5미만    2370\n",
       "5   2.5이상 3.0미만    1342\n",
       "6   3.0이상 3.5미만     917\n",
       "7   3.5이상 4.0미만     679\n",
       "8   4.0이상 4.5미만     540\n",
       "9         4.5이상     490\n",
       "10           총합  106845"
      ]
     },
     "execution_count": 166,
     "metadata": {},
     "output_type": "execute_result"
    }
   ],
   "source": [
    "grp11 = die.groupby(['매연구분인덱스', '매연구분'], dropna=False).agg({'차량번호':'count'}).reset_index()\n",
    "grp11 = grp11.rename(columns={'차량번호':'측정건수', '매연구분':'매연(%)'})\n",
    "grp11.loc[grp11.shape[0]] = [grp11['매연구분인덱스'].max() + 1, '총합', grp11['측정건수'].sum()]\n",
    "grp11 = grp11.drop('매연구분인덱스', axis=1)\n",
    "grp11"
   ]
  },
  {
   "cell_type": "markdown",
   "metadata": {},
   "source": [
    "### 12\\. RSD 매연 농도, 차종별 데이터 수량"
   ]
  },
  {
   "cell_type": "code",
   "execution_count": 167,
   "metadata": {},
   "outputs": [
    {
     "data": {
      "text/html": [
       "<div>\n",
       "<style scoped>\n",
       "    .dataframe tbody tr th:only-of-type {\n",
       "        vertical-align: middle;\n",
       "    }\n",
       "\n",
       "    .dataframe tbody tr th {\n",
       "        vertical-align: top;\n",
       "    }\n",
       "\n",
       "    .dataframe thead th {\n",
       "        text-align: right;\n",
       "    }\n",
       "</style>\n",
       "<table border=\"1\" class=\"dataframe\">\n",
       "  <thead>\n",
       "    <tr style=\"text-align: right;\">\n",
       "      <th></th>\n",
       "      <th>매연(%)</th>\n",
       "      <th>차종</th>\n",
       "      <th>측정건수(건)</th>\n",
       "    </tr>\n",
       "  </thead>\n",
       "  <tbody>\n",
       "    <tr>\n",
       "      <th>0</th>\n",
       "      <td>0이상 0.5미만</td>\n",
       "      <td>승용</td>\n",
       "      <td>28310</td>\n",
       "    </tr>\n",
       "    <tr>\n",
       "      <th>1</th>\n",
       "      <td>0이상 0.5미만</td>\n",
       "      <td>승합</td>\n",
       "      <td>2658</td>\n",
       "    </tr>\n",
       "    <tr>\n",
       "      <th>2</th>\n",
       "      <td>0이상 0.5미만</td>\n",
       "      <td>특수</td>\n",
       "      <td>725</td>\n",
       "    </tr>\n",
       "    <tr>\n",
       "      <th>3</th>\n",
       "      <td>0이상 0.5미만</td>\n",
       "      <td>화물</td>\n",
       "      <td>20902</td>\n",
       "    </tr>\n",
       "    <tr>\n",
       "      <th>4</th>\n",
       "      <td>0.5이상 1.0미만</td>\n",
       "      <td>승용</td>\n",
       "      <td>16561</td>\n",
       "    </tr>\n",
       "    <tr>\n",
       "      <th>5</th>\n",
       "      <td>0.5이상 1.0미만</td>\n",
       "      <td>승합</td>\n",
       "      <td>2026</td>\n",
       "    </tr>\n",
       "    <tr>\n",
       "      <th>6</th>\n",
       "      <td>0.5이상 1.0미만</td>\n",
       "      <td>특수</td>\n",
       "      <td>312</td>\n",
       "    </tr>\n",
       "    <tr>\n",
       "      <th>7</th>\n",
       "      <td>0.5이상 1.0미만</td>\n",
       "      <td>화물</td>\n",
       "      <td>11499</td>\n",
       "    </tr>\n",
       "    <tr>\n",
       "      <th>8</th>\n",
       "      <td>1.0이상 1.5미만</td>\n",
       "      <td>승용</td>\n",
       "      <td>6899</td>\n",
       "    </tr>\n",
       "    <tr>\n",
       "      <th>9</th>\n",
       "      <td>1.0이상 1.5미만</td>\n",
       "      <td>승합</td>\n",
       "      <td>982</td>\n",
       "    </tr>\n",
       "    <tr>\n",
       "      <th>10</th>\n",
       "      <td>1.0이상 1.5미만</td>\n",
       "      <td>특수</td>\n",
       "      <td>133</td>\n",
       "    </tr>\n",
       "    <tr>\n",
       "      <th>11</th>\n",
       "      <td>1.0이상 1.5미만</td>\n",
       "      <td>화물</td>\n",
       "      <td>4668</td>\n",
       "    </tr>\n",
       "    <tr>\n",
       "      <th>12</th>\n",
       "      <td>1.5이상 2.0미만</td>\n",
       "      <td>승용</td>\n",
       "      <td>2680</td>\n",
       "    </tr>\n",
       "    <tr>\n",
       "      <th>13</th>\n",
       "      <td>1.5이상 2.0미만</td>\n",
       "      <td>승합</td>\n",
       "      <td>484</td>\n",
       "    </tr>\n",
       "    <tr>\n",
       "      <th>14</th>\n",
       "      <td>1.5이상 2.0미만</td>\n",
       "      <td>특수</td>\n",
       "      <td>41</td>\n",
       "    </tr>\n",
       "    <tr>\n",
       "      <th>15</th>\n",
       "      <td>1.5이상 2.0미만</td>\n",
       "      <td>화물</td>\n",
       "      <td>1627</td>\n",
       "    </tr>\n",
       "    <tr>\n",
       "      <th>16</th>\n",
       "      <td>2.0이상 2.5미만</td>\n",
       "      <td>승용</td>\n",
       "      <td>1287</td>\n",
       "    </tr>\n",
       "    <tr>\n",
       "      <th>17</th>\n",
       "      <td>2.0이상 2.5미만</td>\n",
       "      <td>승합</td>\n",
       "      <td>240</td>\n",
       "    </tr>\n",
       "    <tr>\n",
       "      <th>18</th>\n",
       "      <td>2.0이상 2.5미만</td>\n",
       "      <td>특수</td>\n",
       "      <td>26</td>\n",
       "    </tr>\n",
       "    <tr>\n",
       "      <th>19</th>\n",
       "      <td>2.0이상 2.5미만</td>\n",
       "      <td>화물</td>\n",
       "      <td>817</td>\n",
       "    </tr>\n",
       "    <tr>\n",
       "      <th>20</th>\n",
       "      <td>2.5이상 3.0미만</td>\n",
       "      <td>승용</td>\n",
       "      <td>704</td>\n",
       "    </tr>\n",
       "    <tr>\n",
       "      <th>21</th>\n",
       "      <td>2.5이상 3.0미만</td>\n",
       "      <td>승합</td>\n",
       "      <td>168</td>\n",
       "    </tr>\n",
       "    <tr>\n",
       "      <th>22</th>\n",
       "      <td>2.5이상 3.0미만</td>\n",
       "      <td>특수</td>\n",
       "      <td>10</td>\n",
       "    </tr>\n",
       "    <tr>\n",
       "      <th>23</th>\n",
       "      <td>2.5이상 3.0미만</td>\n",
       "      <td>화물</td>\n",
       "      <td>460</td>\n",
       "    </tr>\n",
       "    <tr>\n",
       "      <th>24</th>\n",
       "      <td>3.0이상 3.5미만</td>\n",
       "      <td>승용</td>\n",
       "      <td>466</td>\n",
       "    </tr>\n",
       "    <tr>\n",
       "      <th>25</th>\n",
       "      <td>3.0이상 3.5미만</td>\n",
       "      <td>승합</td>\n",
       "      <td>103</td>\n",
       "    </tr>\n",
       "    <tr>\n",
       "      <th>26</th>\n",
       "      <td>3.0이상 3.5미만</td>\n",
       "      <td>특수</td>\n",
       "      <td>15</td>\n",
       "    </tr>\n",
       "    <tr>\n",
       "      <th>27</th>\n",
       "      <td>3.0이상 3.5미만</td>\n",
       "      <td>화물</td>\n",
       "      <td>333</td>\n",
       "    </tr>\n",
       "    <tr>\n",
       "      <th>28</th>\n",
       "      <td>3.5이상 4.0미만</td>\n",
       "      <td>승용</td>\n",
       "      <td>359</td>\n",
       "    </tr>\n",
       "    <tr>\n",
       "      <th>29</th>\n",
       "      <td>3.5이상 4.0미만</td>\n",
       "      <td>승합</td>\n",
       "      <td>83</td>\n",
       "    </tr>\n",
       "    <tr>\n",
       "      <th>30</th>\n",
       "      <td>3.5이상 4.0미만</td>\n",
       "      <td>특수</td>\n",
       "      <td>9</td>\n",
       "    </tr>\n",
       "    <tr>\n",
       "      <th>31</th>\n",
       "      <td>3.5이상 4.0미만</td>\n",
       "      <td>화물</td>\n",
       "      <td>228</td>\n",
       "    </tr>\n",
       "    <tr>\n",
       "      <th>32</th>\n",
       "      <td>4.0이상 4.5미만</td>\n",
       "      <td>승용</td>\n",
       "      <td>270</td>\n",
       "    </tr>\n",
       "    <tr>\n",
       "      <th>33</th>\n",
       "      <td>4.0이상 4.5미만</td>\n",
       "      <td>승합</td>\n",
       "      <td>69</td>\n",
       "    </tr>\n",
       "    <tr>\n",
       "      <th>34</th>\n",
       "      <td>4.0이상 4.5미만</td>\n",
       "      <td>특수</td>\n",
       "      <td>5</td>\n",
       "    </tr>\n",
       "    <tr>\n",
       "      <th>35</th>\n",
       "      <td>4.0이상 4.5미만</td>\n",
       "      <td>화물</td>\n",
       "      <td>196</td>\n",
       "    </tr>\n",
       "    <tr>\n",
       "      <th>36</th>\n",
       "      <td>4.5이상</td>\n",
       "      <td>승용</td>\n",
       "      <td>245</td>\n",
       "    </tr>\n",
       "    <tr>\n",
       "      <th>37</th>\n",
       "      <td>4.5이상</td>\n",
       "      <td>승합</td>\n",
       "      <td>62</td>\n",
       "    </tr>\n",
       "    <tr>\n",
       "      <th>38</th>\n",
       "      <td>4.5이상</td>\n",
       "      <td>특수</td>\n",
       "      <td>9</td>\n",
       "    </tr>\n",
       "    <tr>\n",
       "      <th>39</th>\n",
       "      <td>4.5이상</td>\n",
       "      <td>화물</td>\n",
       "      <td>174</td>\n",
       "    </tr>\n",
       "    <tr>\n",
       "      <th>40</th>\n",
       "      <td>총합</td>\n",
       "      <td>NaN</td>\n",
       "      <td>106845</td>\n",
       "    </tr>\n",
       "  </tbody>\n",
       "</table>\n",
       "</div>"
      ],
      "text/plain": [
       "          매연(%)   차종  측정건수(건)\n",
       "0     0이상 0.5미만   승용    28310\n",
       "1     0이상 0.5미만   승합     2658\n",
       "2     0이상 0.5미만   특수      725\n",
       "3     0이상 0.5미만   화물    20902\n",
       "4   0.5이상 1.0미만   승용    16561\n",
       "5   0.5이상 1.0미만   승합     2026\n",
       "6   0.5이상 1.0미만   특수      312\n",
       "7   0.5이상 1.0미만   화물    11499\n",
       "8   1.0이상 1.5미만   승용     6899\n",
       "9   1.0이상 1.5미만   승합      982\n",
       "10  1.0이상 1.5미만   특수      133\n",
       "11  1.0이상 1.5미만   화물     4668\n",
       "12  1.5이상 2.0미만   승용     2680\n",
       "13  1.5이상 2.0미만   승합      484\n",
       "14  1.5이상 2.0미만   특수       41\n",
       "15  1.5이상 2.0미만   화물     1627\n",
       "16  2.0이상 2.5미만   승용     1287\n",
       "17  2.0이상 2.5미만   승합      240\n",
       "18  2.0이상 2.5미만   특수       26\n",
       "19  2.0이상 2.5미만   화물      817\n",
       "20  2.5이상 3.0미만   승용      704\n",
       "21  2.5이상 3.0미만   승합      168\n",
       "22  2.5이상 3.0미만   특수       10\n",
       "23  2.5이상 3.0미만   화물      460\n",
       "24  3.0이상 3.5미만   승용      466\n",
       "25  3.0이상 3.5미만   승합      103\n",
       "26  3.0이상 3.5미만   특수       15\n",
       "27  3.0이상 3.5미만   화물      333\n",
       "28  3.5이상 4.0미만   승용      359\n",
       "29  3.5이상 4.0미만   승합       83\n",
       "30  3.5이상 4.0미만   특수        9\n",
       "31  3.5이상 4.0미만   화물      228\n",
       "32  4.0이상 4.5미만   승용      270\n",
       "33  4.0이상 4.5미만   승합       69\n",
       "34  4.0이상 4.5미만   특수        5\n",
       "35  4.0이상 4.5미만   화물      196\n",
       "36        4.5이상   승용      245\n",
       "37        4.5이상   승합       62\n",
       "38        4.5이상   특수        9\n",
       "39        4.5이상   화물      174\n",
       "40           총합  NaN   106845"
      ]
     },
     "execution_count": 167,
     "metadata": {},
     "output_type": "execute_result"
    }
   ],
   "source": [
    "grp12 = die.groupby(['매연구분인덱스', '매연구분', '차종'], dropna=False).agg({'차량번호':'count'}).reset_index()\n",
    "grp12 = grp12.rename(columns={'차량번호':'측정건수(건)', '매연구분':'매연(%)'})\n",
    "grp12.loc[grp12.shape[0]] = [grp12['매연구분인덱스'].max() + 1, '총합', np.nan, grp12['측정건수(건)'].sum()]\n",
    "grp12 = grp12.drop('매연구분인덱스', axis=1)\n",
    "grp12"
   ]
  },
  {
   "cell_type": "code",
   "execution_count": 168,
   "metadata": {},
   "outputs": [
    {
     "data": {
      "text/html": [
       "<div>\n",
       "<style scoped>\n",
       "    .dataframe tbody tr th:only-of-type {\n",
       "        vertical-align: middle;\n",
       "    }\n",
       "\n",
       "    .dataframe tbody tr th {\n",
       "        vertical-align: top;\n",
       "    }\n",
       "\n",
       "    .dataframe thead tr th {\n",
       "        text-align: left;\n",
       "    }\n",
       "</style>\n",
       "<table border=\"1\" class=\"dataframe\">\n",
       "  <thead>\n",
       "    <tr>\n",
       "      <th></th>\n",
       "      <th>매연(%)</th>\n",
       "      <th colspan=\"4\" halign=\"left\">차종</th>\n",
       "      <th>합계</th>\n",
       "    </tr>\n",
       "    <tr>\n",
       "      <th>차종</th>\n",
       "      <th></th>\n",
       "      <th>승용</th>\n",
       "      <th>승합</th>\n",
       "      <th>특수</th>\n",
       "      <th>화물</th>\n",
       "      <th></th>\n",
       "    </tr>\n",
       "  </thead>\n",
       "  <tbody>\n",
       "    <tr>\n",
       "      <th>0</th>\n",
       "      <td>0이상 0.5미만</td>\n",
       "      <td>28310</td>\n",
       "      <td>2658</td>\n",
       "      <td>725</td>\n",
       "      <td>20902</td>\n",
       "      <td>52595</td>\n",
       "    </tr>\n",
       "    <tr>\n",
       "      <th>1</th>\n",
       "      <td>0.5이상 1.0미만</td>\n",
       "      <td>16561</td>\n",
       "      <td>2026</td>\n",
       "      <td>312</td>\n",
       "      <td>11499</td>\n",
       "      <td>30398</td>\n",
       "    </tr>\n",
       "    <tr>\n",
       "      <th>2</th>\n",
       "      <td>1.0이상 1.5미만</td>\n",
       "      <td>6899</td>\n",
       "      <td>982</td>\n",
       "      <td>133</td>\n",
       "      <td>4668</td>\n",
       "      <td>12682</td>\n",
       "    </tr>\n",
       "    <tr>\n",
       "      <th>3</th>\n",
       "      <td>1.5이상 2.0미만</td>\n",
       "      <td>2680</td>\n",
       "      <td>484</td>\n",
       "      <td>41</td>\n",
       "      <td>1627</td>\n",
       "      <td>4832</td>\n",
       "    </tr>\n",
       "    <tr>\n",
       "      <th>4</th>\n",
       "      <td>2.0이상 2.5미만</td>\n",
       "      <td>1287</td>\n",
       "      <td>240</td>\n",
       "      <td>26</td>\n",
       "      <td>817</td>\n",
       "      <td>2370</td>\n",
       "    </tr>\n",
       "    <tr>\n",
       "      <th>5</th>\n",
       "      <td>2.5이상 3.0미만</td>\n",
       "      <td>704</td>\n",
       "      <td>168</td>\n",
       "      <td>10</td>\n",
       "      <td>460</td>\n",
       "      <td>1342</td>\n",
       "    </tr>\n",
       "    <tr>\n",
       "      <th>6</th>\n",
       "      <td>3.0이상 3.5미만</td>\n",
       "      <td>466</td>\n",
       "      <td>103</td>\n",
       "      <td>15</td>\n",
       "      <td>333</td>\n",
       "      <td>917</td>\n",
       "    </tr>\n",
       "    <tr>\n",
       "      <th>7</th>\n",
       "      <td>3.5이상 4.0미만</td>\n",
       "      <td>359</td>\n",
       "      <td>83</td>\n",
       "      <td>9</td>\n",
       "      <td>228</td>\n",
       "      <td>679</td>\n",
       "    </tr>\n",
       "    <tr>\n",
       "      <th>8</th>\n",
       "      <td>4.0이상 4.5미만</td>\n",
       "      <td>270</td>\n",
       "      <td>69</td>\n",
       "      <td>5</td>\n",
       "      <td>196</td>\n",
       "      <td>540</td>\n",
       "    </tr>\n",
       "    <tr>\n",
       "      <th>9</th>\n",
       "      <td>4.5이상</td>\n",
       "      <td>245</td>\n",
       "      <td>62</td>\n",
       "      <td>9</td>\n",
       "      <td>174</td>\n",
       "      <td>490</td>\n",
       "    </tr>\n",
       "    <tr>\n",
       "      <th>10</th>\n",
       "      <td>총합</td>\n",
       "      <td>57781</td>\n",
       "      <td>6875</td>\n",
       "      <td>1285</td>\n",
       "      <td>40904</td>\n",
       "      <td>106845</td>\n",
       "    </tr>\n",
       "  </tbody>\n",
       "</table>\n",
       "</div>"
      ],
      "text/plain": [
       "          매연(%)     차종                         합계\n",
       "차종                  승용    승합    특수     화물        \n",
       "0     0이상 0.5미만  28310  2658   725  20902   52595\n",
       "1   0.5이상 1.0미만  16561  2026   312  11499   30398\n",
       "2   1.0이상 1.5미만   6899   982   133   4668   12682\n",
       "3   1.5이상 2.0미만   2680   484    41   1627    4832\n",
       "4   2.0이상 2.5미만   1287   240    26    817    2370\n",
       "5   2.5이상 3.0미만    704   168    10    460    1342\n",
       "6   3.0이상 3.5미만    466   103    15    333     917\n",
       "7   3.5이상 4.0미만    359    83     9    228     679\n",
       "8   4.0이상 4.5미만    270    69     5    196     540\n",
       "9         4.5이상    245    62     9    174     490\n",
       "10           총합  57781  6875  1285  40904  106845"
      ]
     },
     "execution_count": 168,
     "metadata": {},
     "output_type": "execute_result"
    }
   ],
   "source": [
    "grp12 = die.groupby(['매연구분인덱스', '매연구분', '차종'], dropna=False).agg({'차량번호':'count'}).unstack('차종').reset_index()\n",
    "grp12 = grp12.rename(columns={'매연구분':'매연(%)', '차량번호':'차종'})\n",
    "grp12['합계'] = grp12.iloc[:, 2:].sum(axis=1)\n",
    "grp12.loc[grp12.shape[0]] = [grp12['매연구분인덱스'].max() + 1, '총합'] + grp12.iloc[:, 2:].sum().to_list()\n",
    "grp12 = grp12.drop('매연구분인덱스', axis=1, level=0)\n",
    "grp12"
   ]
  },
  {
   "cell_type": "markdown",
   "metadata": {},
   "source": [
    "### 13\\. RSD 매연 농도, 연식별 데이터 수량"
   ]
  },
  {
   "cell_type": "code",
   "execution_count": 170,
   "metadata": {},
   "outputs": [
    {
     "data": {
      "text/plain": [
       "count   106845.00\n",
       "mean      2016.56\n",
       "std          4.18\n",
       "min       1983.00\n",
       "25%       2014.00\n",
       "50%       2017.00\n",
       "75%       2020.00\n",
       "max       2024.00\n",
       "Name: 차량연식, dtype: float64"
      ]
     },
     "execution_count": 170,
     "metadata": {},
     "output_type": "execute_result"
    }
   ],
   "source": [
    "die['차량연식'].describe()"
   ]
  },
  {
   "cell_type": "code",
   "execution_count": 171,
   "metadata": {},
   "outputs": [
    {
     "data": {
      "text/html": [
       "<div>\n",
       "<style scoped>\n",
       "    .dataframe tbody tr th:only-of-type {\n",
       "        vertical-align: middle;\n",
       "    }\n",
       "\n",
       "    .dataframe tbody tr th {\n",
       "        vertical-align: top;\n",
       "    }\n",
       "\n",
       "    .dataframe thead th {\n",
       "        text-align: right;\n",
       "    }\n",
       "</style>\n",
       "<table border=\"1\" class=\"dataframe\">\n",
       "  <thead>\n",
       "    <tr style=\"text-align: right;\">\n",
       "      <th></th>\n",
       "      <th>연료</th>\n",
       "      <th>차명</th>\n",
       "      <th>차량연식</th>\n",
       "      <th>차대번호</th>\n",
       "      <th>차량말소YN</th>\n",
       "    </tr>\n",
       "  </thead>\n",
       "  <tbody>\n",
       "    <tr>\n",
       "      <th>8015</th>\n",
       "      <td>경유</td>\n",
       "      <td>마이티</td>\n",
       "      <td>2024.00</td>\n",
       "      <td>KMFHA17GPRC076943</td>\n",
       "      <td>N</td>\n",
       "    </tr>\n",
       "    <tr>\n",
       "      <th>13447</th>\n",
       "      <td>경유</td>\n",
       "      <td>마이티</td>\n",
       "      <td>2024.00</td>\n",
       "      <td>KMFHA17GPRC078773</td>\n",
       "      <td>N</td>\n",
       "    </tr>\n",
       "    <tr>\n",
       "      <th>16037</th>\n",
       "      <td>경유</td>\n",
       "      <td>더쎈</td>\n",
       "      <td>2024.00</td>\n",
       "      <td>KLTEE5AH2RK000687</td>\n",
       "      <td>N</td>\n",
       "    </tr>\n",
       "    <tr>\n",
       "      <th>16157</th>\n",
       "      <td>경유</td>\n",
       "      <td>마이티</td>\n",
       "      <td>2024.00</td>\n",
       "      <td>KMFHA17GPRC077101</td>\n",
       "      <td>N</td>\n",
       "    </tr>\n",
       "    <tr>\n",
       "      <th>16159</th>\n",
       "      <td>경유</td>\n",
       "      <td>더쎈</td>\n",
       "      <td>2024.00</td>\n",
       "      <td>KLTEE5AH2RK000698</td>\n",
       "      <td>N</td>\n",
       "    </tr>\n",
       "    <tr>\n",
       "      <th>...</th>\n",
       "      <td>...</td>\n",
       "      <td>...</td>\n",
       "      <td>...</td>\n",
       "      <td>...</td>\n",
       "      <td>...</td>\n",
       "    </tr>\n",
       "    <tr>\n",
       "      <th>104341</th>\n",
       "      <td>경유</td>\n",
       "      <td>렉스턴스포츠 쿨멘</td>\n",
       "      <td>2024.00</td>\n",
       "      <td>KPADA4AE1RP215951</td>\n",
       "      <td>N</td>\n",
       "    </tr>\n",
       "    <tr>\n",
       "      <th>105232</th>\n",
       "      <td>경유</td>\n",
       "      <td>렉스턴스포츠 쿨멘 칸</td>\n",
       "      <td>2024.00</td>\n",
       "      <td>KPADM4AE1RP216099</td>\n",
       "      <td>N</td>\n",
       "    </tr>\n",
       "    <tr>\n",
       "      <th>106179</th>\n",
       "      <td>경유</td>\n",
       "      <td>더쎈윙바디</td>\n",
       "      <td>2024.00</td>\n",
       "      <td>KLTEE5AHJRK000029</td>\n",
       "      <td>N</td>\n",
       "    </tr>\n",
       "    <tr>\n",
       "      <th>106278</th>\n",
       "      <td>경유</td>\n",
       "      <td>유니버스(UNIVERSE)</td>\n",
       "      <td>2024.00</td>\n",
       "      <td>KMJKG18KPRC002556</td>\n",
       "      <td>N</td>\n",
       "    </tr>\n",
       "    <tr>\n",
       "      <th>106347</th>\n",
       "      <td>경유</td>\n",
       "      <td>더쎈</td>\n",
       "      <td>2024.00</td>\n",
       "      <td>KLTEE6AH2RK000463</td>\n",
       "      <td>N</td>\n",
       "    </tr>\n",
       "  </tbody>\n",
       "</table>\n",
       "<p>137 rows × 5 columns</p>\n",
       "</div>"
      ],
      "text/plain": [
       "        연료              차명    차량연식               차대번호 차량말소YN\n",
       "8015    경유             마이티 2024.00  KMFHA17GPRC076943      N\n",
       "13447   경유             마이티 2024.00  KMFHA17GPRC078773      N\n",
       "16037   경유              더쎈 2024.00  KLTEE5AH2RK000687      N\n",
       "16157   경유             마이티 2024.00  KMFHA17GPRC077101      N\n",
       "16159   경유              더쎈 2024.00  KLTEE5AH2RK000698      N\n",
       "...     ..             ...     ...                ...    ...\n",
       "104341  경유       렉스턴스포츠 쿨멘 2024.00  KPADA4AE1RP215951      N\n",
       "105232  경유     렉스턴스포츠 쿨멘 칸 2024.00  KPADM4AE1RP216099      N\n",
       "106179  경유           더쎈윙바디 2024.00  KLTEE5AHJRK000029      N\n",
       "106278  경유  유니버스(UNIVERSE) 2024.00  KMJKG18KPRC002556      N\n",
       "106347  경유              더쎈 2024.00  KLTEE6AH2RK000463      N\n",
       "\n",
       "[137 rows x 5 columns]"
      ]
     },
     "execution_count": 171,
     "metadata": {},
     "output_type": "execute_result"
    }
   ],
   "source": [
    "die.loc[die['차량연식'] == 2024, ['연료', '차명', '차량연식', '차대번호', '차량말소YN']]"
   ]
  },
  {
   "cell_type": "code",
   "execution_count": 172,
   "metadata": {},
   "outputs": [
    {
     "data": {
      "text/plain": [
       "N    137\n",
       "Name: 차량말소YN, dtype: int64"
      ]
     },
     "execution_count": 172,
     "metadata": {},
     "output_type": "execute_result"
    }
   ],
   "source": [
    "die.loc[die['차량연식'] == 2024, '차량말소YN'].value_counts(dropna=False)"
   ]
  },
  {
   "cell_type": "code",
   "execution_count": 173,
   "metadata": {},
   "outputs": [
    {
     "data": {
      "text/html": [
       "<div>\n",
       "<style scoped>\n",
       "    .dataframe tbody tr th:only-of-type {\n",
       "        vertical-align: middle;\n",
       "    }\n",
       "\n",
       "    .dataframe tbody tr th {\n",
       "        vertical-align: top;\n",
       "    }\n",
       "\n",
       "    .dataframe thead th {\n",
       "        text-align: right;\n",
       "    }\n",
       "</style>\n",
       "<table border=\"1\" class=\"dataframe\">\n",
       "  <thead>\n",
       "    <tr style=\"text-align: right;\">\n",
       "      <th></th>\n",
       "      <th>매연(%)</th>\n",
       "      <th>차량연식</th>\n",
       "      <th>측정건수(건)</th>\n",
       "    </tr>\n",
       "  </thead>\n",
       "  <tbody>\n",
       "    <tr>\n",
       "      <th>0</th>\n",
       "      <td>0이상 0.5미만</td>\n",
       "      <td>1983.00</td>\n",
       "      <td>1</td>\n",
       "    </tr>\n",
       "    <tr>\n",
       "      <th>1</th>\n",
       "      <td>0이상 0.5미만</td>\n",
       "      <td>1990.00</td>\n",
       "      <td>2</td>\n",
       "    </tr>\n",
       "    <tr>\n",
       "      <th>2</th>\n",
       "      <td>0이상 0.5미만</td>\n",
       "      <td>1991.00</td>\n",
       "      <td>1</td>\n",
       "    </tr>\n",
       "    <tr>\n",
       "      <th>3</th>\n",
       "      <td>0이상 0.5미만</td>\n",
       "      <td>1992.00</td>\n",
       "      <td>1</td>\n",
       "    </tr>\n",
       "    <tr>\n",
       "      <th>4</th>\n",
       "      <td>0이상 0.5미만</td>\n",
       "      <td>1994.00</td>\n",
       "      <td>1</td>\n",
       "    </tr>\n",
       "    <tr>\n",
       "      <th>...</th>\n",
       "      <td>...</td>\n",
       "      <td>...</td>\n",
       "      <td>...</td>\n",
       "    </tr>\n",
       "    <tr>\n",
       "      <th>275</th>\n",
       "      <td>4.5이상</td>\n",
       "      <td>2020.00</td>\n",
       "      <td>33</td>\n",
       "    </tr>\n",
       "    <tr>\n",
       "      <th>276</th>\n",
       "      <td>4.5이상</td>\n",
       "      <td>2021.00</td>\n",
       "      <td>27</td>\n",
       "    </tr>\n",
       "    <tr>\n",
       "      <th>277</th>\n",
       "      <td>4.5이상</td>\n",
       "      <td>2022.00</td>\n",
       "      <td>24</td>\n",
       "    </tr>\n",
       "    <tr>\n",
       "      <th>278</th>\n",
       "      <td>4.5이상</td>\n",
       "      <td>2023.00</td>\n",
       "      <td>20</td>\n",
       "    </tr>\n",
       "    <tr>\n",
       "      <th>279</th>\n",
       "      <td>총합</td>\n",
       "      <td>NaN</td>\n",
       "      <td>106845</td>\n",
       "    </tr>\n",
       "  </tbody>\n",
       "</table>\n",
       "<p>280 rows × 3 columns</p>\n",
       "</div>"
      ],
      "text/plain": [
       "         매연(%)    차량연식  측정건수(건)\n",
       "0    0이상 0.5미만 1983.00        1\n",
       "1    0이상 0.5미만 1990.00        2\n",
       "2    0이상 0.5미만 1991.00        1\n",
       "3    0이상 0.5미만 1992.00        1\n",
       "4    0이상 0.5미만 1994.00        1\n",
       "..         ...     ...      ...\n",
       "275      4.5이상 2020.00       33\n",
       "276      4.5이상 2021.00       27\n",
       "277      4.5이상 2022.00       24\n",
       "278      4.5이상 2023.00       20\n",
       "279         총합     NaN   106845\n",
       "\n",
       "[280 rows x 3 columns]"
      ]
     },
     "execution_count": 173,
     "metadata": {},
     "output_type": "execute_result"
    }
   ],
   "source": [
    "grp13 = die.groupby(['매연구분인덱스', '매연구분', '차량연식'], dropna=False).agg({'차량번호':'count'}).reset_index()\n",
    "grp13 = grp13.rename(columns={'차량번호':'측정건수(건)', '매연구분':'매연(%)'})\n",
    "grp13.loc[grp13.shape[0]] = [grp13['매연구분인덱스'].max() + 1, '총합', np.nan, grp13['측정건수(건)'].sum()]\n",
    "grp13 = grp13.drop('매연구분인덱스', axis=1)\n",
    "grp13"
   ]
  },
  {
   "cell_type": "code",
   "execution_count": 174,
   "metadata": {},
   "outputs": [
    {
     "data": {
      "text/html": [
       "<div>\n",
       "<style scoped>\n",
       "    .dataframe tbody tr th:only-of-type {\n",
       "        vertical-align: middle;\n",
       "    }\n",
       "\n",
       "    .dataframe tbody tr th {\n",
       "        vertical-align: top;\n",
       "    }\n",
       "\n",
       "    .dataframe thead tr th {\n",
       "        text-align: left;\n",
       "    }\n",
       "</style>\n",
       "<table border=\"1\" class=\"dataframe\">\n",
       "  <thead>\n",
       "    <tr>\n",
       "      <th></th>\n",
       "      <th>매연(%)</th>\n",
       "      <th colspan=\"19\" halign=\"left\">차량연식(년)</th>\n",
       "      <th>합계</th>\n",
       "    </tr>\n",
       "    <tr>\n",
       "      <th>차량연식(년)</th>\n",
       "      <th></th>\n",
       "      <th>1983.0</th>\n",
       "      <th>1990.0</th>\n",
       "      <th>1991.0</th>\n",
       "      <th>1992.0</th>\n",
       "      <th>1993.0</th>\n",
       "      <th>1994.0</th>\n",
       "      <th>1995.0</th>\n",
       "      <th>1996.0</th>\n",
       "      <th>1997.0</th>\n",
       "      <th>...</th>\n",
       "      <th>2016.0</th>\n",
       "      <th>2017.0</th>\n",
       "      <th>2018.0</th>\n",
       "      <th>2019.0</th>\n",
       "      <th>2020.0</th>\n",
       "      <th>2021.0</th>\n",
       "      <th>2022.0</th>\n",
       "      <th>2023.0</th>\n",
       "      <th>2024.0</th>\n",
       "      <th></th>\n",
       "    </tr>\n",
       "  </thead>\n",
       "  <tbody>\n",
       "    <tr>\n",
       "      <th>0</th>\n",
       "      <td>0이상 0.5미만</td>\n",
       "      <td>1.00</td>\n",
       "      <td>2.00</td>\n",
       "      <td>1.00</td>\n",
       "      <td>1.00</td>\n",
       "      <td>NaN</td>\n",
       "      <td>1.00</td>\n",
       "      <td>13.00</td>\n",
       "      <td>10.00</td>\n",
       "      <td>16.00</td>\n",
       "      <td>...</td>\n",
       "      <td>5192.00</td>\n",
       "      <td>4279.00</td>\n",
       "      <td>5423.00</td>\n",
       "      <td>5852.00</td>\n",
       "      <td>4488.00</td>\n",
       "      <td>3619.00</td>\n",
       "      <td>3769.00</td>\n",
       "      <td>2568.00</td>\n",
       "      <td>82.00</td>\n",
       "      <td>52595.00</td>\n",
       "    </tr>\n",
       "    <tr>\n",
       "      <th>1</th>\n",
       "      <td>0.5이상 1.0미만</td>\n",
       "      <td>NaN</td>\n",
       "      <td>NaN</td>\n",
       "      <td>NaN</td>\n",
       "      <td>NaN</td>\n",
       "      <td>NaN</td>\n",
       "      <td>NaN</td>\n",
       "      <td>1.00</td>\n",
       "      <td>NaN</td>\n",
       "      <td>4.00</td>\n",
       "      <td>...</td>\n",
       "      <td>3147.00</td>\n",
       "      <td>2590.00</td>\n",
       "      <td>3092.00</td>\n",
       "      <td>3327.00</td>\n",
       "      <td>2345.00</td>\n",
       "      <td>1887.00</td>\n",
       "      <td>1932.00</td>\n",
       "      <td>1294.00</td>\n",
       "      <td>28.00</td>\n",
       "      <td>30398.00</td>\n",
       "    </tr>\n",
       "    <tr>\n",
       "      <th>2</th>\n",
       "      <td>1.0이상 1.5미만</td>\n",
       "      <td>NaN</td>\n",
       "      <td>NaN</td>\n",
       "      <td>NaN</td>\n",
       "      <td>NaN</td>\n",
       "      <td>NaN</td>\n",
       "      <td>NaN</td>\n",
       "      <td>1.00</td>\n",
       "      <td>NaN</td>\n",
       "      <td>3.00</td>\n",
       "      <td>...</td>\n",
       "      <td>1234.00</td>\n",
       "      <td>1073.00</td>\n",
       "      <td>1246.00</td>\n",
       "      <td>1251.00</td>\n",
       "      <td>855.00</td>\n",
       "      <td>761.00</td>\n",
       "      <td>751.00</td>\n",
       "      <td>494.00</td>\n",
       "      <td>13.00</td>\n",
       "      <td>12682.00</td>\n",
       "    </tr>\n",
       "    <tr>\n",
       "      <th>3</th>\n",
       "      <td>1.5이상 2.0미만</td>\n",
       "      <td>NaN</td>\n",
       "      <td>NaN</td>\n",
       "      <td>NaN</td>\n",
       "      <td>NaN</td>\n",
       "      <td>NaN</td>\n",
       "      <td>NaN</td>\n",
       "      <td>NaN</td>\n",
       "      <td>3.00</td>\n",
       "      <td>4.00</td>\n",
       "      <td>...</td>\n",
       "      <td>449.00</td>\n",
       "      <td>395.00</td>\n",
       "      <td>460.00</td>\n",
       "      <td>476.00</td>\n",
       "      <td>328.00</td>\n",
       "      <td>300.00</td>\n",
       "      <td>247.00</td>\n",
       "      <td>160.00</td>\n",
       "      <td>9.00</td>\n",
       "      <td>4832.00</td>\n",
       "    </tr>\n",
       "    <tr>\n",
       "      <th>4</th>\n",
       "      <td>2.0이상 2.5미만</td>\n",
       "      <td>NaN</td>\n",
       "      <td>NaN</td>\n",
       "      <td>NaN</td>\n",
       "      <td>NaN</td>\n",
       "      <td>NaN</td>\n",
       "      <td>NaN</td>\n",
       "      <td>NaN</td>\n",
       "      <td>1.00</td>\n",
       "      <td>1.00</td>\n",
       "      <td>...</td>\n",
       "      <td>208.00</td>\n",
       "      <td>211.00</td>\n",
       "      <td>213.00</td>\n",
       "      <td>212.00</td>\n",
       "      <td>137.00</td>\n",
       "      <td>145.00</td>\n",
       "      <td>141.00</td>\n",
       "      <td>74.00</td>\n",
       "      <td>2.00</td>\n",
       "      <td>2370.00</td>\n",
       "    </tr>\n",
       "    <tr>\n",
       "      <th>5</th>\n",
       "      <td>2.5이상 3.0미만</td>\n",
       "      <td>NaN</td>\n",
       "      <td>NaN</td>\n",
       "      <td>NaN</td>\n",
       "      <td>NaN</td>\n",
       "      <td>NaN</td>\n",
       "      <td>NaN</td>\n",
       "      <td>NaN</td>\n",
       "      <td>2.00</td>\n",
       "      <td>1.00</td>\n",
       "      <td>...</td>\n",
       "      <td>115.00</td>\n",
       "      <td>111.00</td>\n",
       "      <td>128.00</td>\n",
       "      <td>109.00</td>\n",
       "      <td>79.00</td>\n",
       "      <td>76.00</td>\n",
       "      <td>71.00</td>\n",
       "      <td>48.00</td>\n",
       "      <td>NaN</td>\n",
       "      <td>1342.00</td>\n",
       "    </tr>\n",
       "    <tr>\n",
       "      <th>6</th>\n",
       "      <td>3.0이상 3.5미만</td>\n",
       "      <td>NaN</td>\n",
       "      <td>NaN</td>\n",
       "      <td>NaN</td>\n",
       "      <td>NaN</td>\n",
       "      <td>NaN</td>\n",
       "      <td>NaN</td>\n",
       "      <td>NaN</td>\n",
       "      <td>NaN</td>\n",
       "      <td>NaN</td>\n",
       "      <td>...</td>\n",
       "      <td>75.00</td>\n",
       "      <td>72.00</td>\n",
       "      <td>83.00</td>\n",
       "      <td>85.00</td>\n",
       "      <td>58.00</td>\n",
       "      <td>54.00</td>\n",
       "      <td>49.00</td>\n",
       "      <td>41.00</td>\n",
       "      <td>NaN</td>\n",
       "      <td>917.00</td>\n",
       "    </tr>\n",
       "    <tr>\n",
       "      <th>7</th>\n",
       "      <td>3.5이상 4.0미만</td>\n",
       "      <td>NaN</td>\n",
       "      <td>NaN</td>\n",
       "      <td>NaN</td>\n",
       "      <td>NaN</td>\n",
       "      <td>NaN</td>\n",
       "      <td>NaN</td>\n",
       "      <td>NaN</td>\n",
       "      <td>NaN</td>\n",
       "      <td>1.00</td>\n",
       "      <td>...</td>\n",
       "      <td>60.00</td>\n",
       "      <td>51.00</td>\n",
       "      <td>56.00</td>\n",
       "      <td>62.00</td>\n",
       "      <td>36.00</td>\n",
       "      <td>50.00</td>\n",
       "      <td>27.00</td>\n",
       "      <td>32.00</td>\n",
       "      <td>1.00</td>\n",
       "      <td>679.00</td>\n",
       "    </tr>\n",
       "    <tr>\n",
       "      <th>8</th>\n",
       "      <td>4.0이상 4.5미만</td>\n",
       "      <td>NaN</td>\n",
       "      <td>NaN</td>\n",
       "      <td>NaN</td>\n",
       "      <td>NaN</td>\n",
       "      <td>1.00</td>\n",
       "      <td>NaN</td>\n",
       "      <td>3.00</td>\n",
       "      <td>1.00</td>\n",
       "      <td>NaN</td>\n",
       "      <td>...</td>\n",
       "      <td>44.00</td>\n",
       "      <td>34.00</td>\n",
       "      <td>38.00</td>\n",
       "      <td>34.00</td>\n",
       "      <td>30.00</td>\n",
       "      <td>33.00</td>\n",
       "      <td>35.00</td>\n",
       "      <td>23.00</td>\n",
       "      <td>2.00</td>\n",
       "      <td>540.00</td>\n",
       "    </tr>\n",
       "    <tr>\n",
       "      <th>9</th>\n",
       "      <td>4.5이상</td>\n",
       "      <td>NaN</td>\n",
       "      <td>NaN</td>\n",
       "      <td>1.00</td>\n",
       "      <td>NaN</td>\n",
       "      <td>NaN</td>\n",
       "      <td>NaN</td>\n",
       "      <td>NaN</td>\n",
       "      <td>NaN</td>\n",
       "      <td>1.00</td>\n",
       "      <td>...</td>\n",
       "      <td>45.00</td>\n",
       "      <td>38.00</td>\n",
       "      <td>39.00</td>\n",
       "      <td>44.00</td>\n",
       "      <td>33.00</td>\n",
       "      <td>27.00</td>\n",
       "      <td>24.00</td>\n",
       "      <td>20.00</td>\n",
       "      <td>NaN</td>\n",
       "      <td>490.00</td>\n",
       "    </tr>\n",
       "    <tr>\n",
       "      <th>10</th>\n",
       "      <td>총합</td>\n",
       "      <td>1.00</td>\n",
       "      <td>2.00</td>\n",
       "      <td>2.00</td>\n",
       "      <td>1.00</td>\n",
       "      <td>1.00</td>\n",
       "      <td>1.00</td>\n",
       "      <td>18.00</td>\n",
       "      <td>17.00</td>\n",
       "      <td>31.00</td>\n",
       "      <td>...</td>\n",
       "      <td>10569.00</td>\n",
       "      <td>8854.00</td>\n",
       "      <td>10778.00</td>\n",
       "      <td>11452.00</td>\n",
       "      <td>8389.00</td>\n",
       "      <td>6952.00</td>\n",
       "      <td>7046.00</td>\n",
       "      <td>4754.00</td>\n",
       "      <td>137.00</td>\n",
       "      <td>106845.00</td>\n",
       "    </tr>\n",
       "  </tbody>\n",
       "</table>\n",
       "<p>11 rows × 38 columns</p>\n",
       "</div>"
      ],
      "text/plain": [
       "               매연(%) 차량연식(년)                                                   \\\n",
       "차량연식(년)               1983.0 1990.0 1991.0 1992.0 1993.0 1994.0 1995.0 1996.0   \n",
       "0          0이상 0.5미만    1.00   2.00   1.00   1.00    NaN   1.00  13.00  10.00   \n",
       "1        0.5이상 1.0미만     NaN    NaN    NaN    NaN    NaN    NaN   1.00    NaN   \n",
       "2        1.0이상 1.5미만     NaN    NaN    NaN    NaN    NaN    NaN   1.00    NaN   \n",
       "3        1.5이상 2.0미만     NaN    NaN    NaN    NaN    NaN    NaN    NaN   3.00   \n",
       "4        2.0이상 2.5미만     NaN    NaN    NaN    NaN    NaN    NaN    NaN   1.00   \n",
       "5        2.5이상 3.0미만     NaN    NaN    NaN    NaN    NaN    NaN    NaN   2.00   \n",
       "6        3.0이상 3.5미만     NaN    NaN    NaN    NaN    NaN    NaN    NaN    NaN   \n",
       "7        3.5이상 4.0미만     NaN    NaN    NaN    NaN    NaN    NaN    NaN    NaN   \n",
       "8        4.0이상 4.5미만     NaN    NaN    NaN    NaN   1.00    NaN   3.00   1.00   \n",
       "9              4.5이상     NaN    NaN   1.00    NaN    NaN    NaN    NaN    NaN   \n",
       "10                총합    1.00   2.00   2.00   1.00   1.00   1.00  18.00  17.00   \n",
       "\n",
       "                ...                                                     \\\n",
       "차량연식(년) 1997.0  ...   2016.0  2017.0   2018.0   2019.0  2020.0  2021.0   \n",
       "0        16.00  ...  5192.00 4279.00  5423.00  5852.00 4488.00 3619.00   \n",
       "1         4.00  ...  3147.00 2590.00  3092.00  3327.00 2345.00 1887.00   \n",
       "2         3.00  ...  1234.00 1073.00  1246.00  1251.00  855.00  761.00   \n",
       "3         4.00  ...   449.00  395.00   460.00   476.00  328.00  300.00   \n",
       "4         1.00  ...   208.00  211.00   213.00   212.00  137.00  145.00   \n",
       "5         1.00  ...   115.00  111.00   128.00   109.00   79.00   76.00   \n",
       "6          NaN  ...    75.00   72.00    83.00    85.00   58.00   54.00   \n",
       "7         1.00  ...    60.00   51.00    56.00    62.00   36.00   50.00   \n",
       "8          NaN  ...    44.00   34.00    38.00    34.00   30.00   33.00   \n",
       "9         1.00  ...    45.00   38.00    39.00    44.00   33.00   27.00   \n",
       "10       31.00  ... 10569.00 8854.00 10778.00 11452.00 8389.00 6952.00   \n",
       "\n",
       "                                      합계  \n",
       "차량연식(년)  2022.0  2023.0 2024.0            \n",
       "0       3769.00 2568.00  82.00  52595.00  \n",
       "1       1932.00 1294.00  28.00  30398.00  \n",
       "2        751.00  494.00  13.00  12682.00  \n",
       "3        247.00  160.00   9.00   4832.00  \n",
       "4        141.00   74.00   2.00   2370.00  \n",
       "5         71.00   48.00    NaN   1342.00  \n",
       "6         49.00   41.00    NaN    917.00  \n",
       "7         27.00   32.00   1.00    679.00  \n",
       "8         35.00   23.00   2.00    540.00  \n",
       "9         24.00   20.00    NaN    490.00  \n",
       "10      7046.00 4754.00 137.00 106845.00  \n",
       "\n",
       "[11 rows x 38 columns]"
      ]
     },
     "execution_count": 174,
     "metadata": {},
     "output_type": "execute_result"
    }
   ],
   "source": [
    "grp13 = die.groupby(['매연구분인덱스', '매연구분', '차량연식'], dropna=False).agg({'차량번호':'count'}).unstack('차량연식').reset_index()\n",
    "grp13 = grp13.rename(columns={'매연구분':'매연(%)', '차량번호':'차량연식(년)'})\n",
    "grp13 = grp13.rename_axis(columns={'차량연식':'차량연식(년)'})\n",
    "grp13['합계'] = grp13.iloc[:, 2:].sum(axis=1)\n",
    "grp13.loc[grp13.shape[0]] = [grp13['매연구분인덱스'].max() + 1, '총합'] + grp13.iloc[:, 2:].sum().to_list()\n",
    "grp13 = grp13.drop('매연구분인덱스', axis=1, level=0)\n",
    "grp13"
   ]
  },
  {
   "cell_type": "markdown",
   "metadata": {},
   "source": [
    "### 14\\. RSD 매연 농도, 측정속도별 데이터 수량"
   ]
  },
  {
   "cell_type": "code",
   "execution_count": 175,
   "metadata": {},
   "outputs": [
    {
     "data": {
      "text/plain": [
       "array(['50이상 60미만', '30이상 40미만', '40이상 50미만', '60이상 70미만', '0이상 10미만',\n",
       "       '10이상 20미만', '90이상 100미만', '70이상 80미만', '20이상 30미만', '80이상 90미만',\n",
       "       '100이상 110미만', '110이상 120미만'], dtype=object)"
      ]
     },
     "execution_count": 175,
     "metadata": {},
     "output_type": "execute_result"
    }
   ],
   "source": [
    "die['속도구분'].unique()"
   ]
  },
  {
   "cell_type": "code",
   "execution_count": 176,
   "metadata": {},
   "outputs": [
    {
     "data": {
      "text/plain": [
       "array([ 6.,  4.,  5.,  7.,  1.,  2., 10.,  8.,  3.,  9., 11., 12.])"
      ]
     },
     "execution_count": 176,
     "metadata": {},
     "output_type": "execute_result"
    }
   ],
   "source": [
    "die['속도구분인덱스'].unique()"
   ]
  },
  {
   "cell_type": "code",
   "execution_count": 177,
   "metadata": {},
   "outputs": [
    {
     "data": {
      "text/html": [
       "<div>\n",
       "<style scoped>\n",
       "    .dataframe tbody tr th:only-of-type {\n",
       "        vertical-align: middle;\n",
       "    }\n",
       "\n",
       "    .dataframe tbody tr th {\n",
       "        vertical-align: top;\n",
       "    }\n",
       "\n",
       "    .dataframe thead th {\n",
       "        text-align: right;\n",
       "    }\n",
       "</style>\n",
       "<table border=\"1\" class=\"dataframe\">\n",
       "  <thead>\n",
       "    <tr style=\"text-align: right;\">\n",
       "      <th></th>\n",
       "      <th>매연(%)</th>\n",
       "      <th>속도(km/h)</th>\n",
       "      <th>측정건수(건)</th>\n",
       "    </tr>\n",
       "  </thead>\n",
       "  <tbody>\n",
       "    <tr>\n",
       "      <th>0</th>\n",
       "      <td>0이상 0.5미만</td>\n",
       "      <td>0이상 10미만</td>\n",
       "      <td>19</td>\n",
       "    </tr>\n",
       "    <tr>\n",
       "      <th>1</th>\n",
       "      <td>0이상 0.5미만</td>\n",
       "      <td>10이상 20미만</td>\n",
       "      <td>77</td>\n",
       "    </tr>\n",
       "    <tr>\n",
       "      <th>2</th>\n",
       "      <td>0이상 0.5미만</td>\n",
       "      <td>20이상 30미만</td>\n",
       "      <td>462</td>\n",
       "    </tr>\n",
       "    <tr>\n",
       "      <th>3</th>\n",
       "      <td>0이상 0.5미만</td>\n",
       "      <td>30이상 40미만</td>\n",
       "      <td>1310</td>\n",
       "    </tr>\n",
       "    <tr>\n",
       "      <th>4</th>\n",
       "      <td>0이상 0.5미만</td>\n",
       "      <td>40이상 50미만</td>\n",
       "      <td>4033</td>\n",
       "    </tr>\n",
       "    <tr>\n",
       "      <th>...</th>\n",
       "      <td>...</td>\n",
       "      <td>...</td>\n",
       "      <td>...</td>\n",
       "    </tr>\n",
       "    <tr>\n",
       "      <th>112</th>\n",
       "      <td>4.5이상</td>\n",
       "      <td>80이상 90미만</td>\n",
       "      <td>44</td>\n",
       "    </tr>\n",
       "    <tr>\n",
       "      <th>113</th>\n",
       "      <td>4.5이상</td>\n",
       "      <td>90이상 100미만</td>\n",
       "      <td>9</td>\n",
       "    </tr>\n",
       "    <tr>\n",
       "      <th>114</th>\n",
       "      <td>4.5이상</td>\n",
       "      <td>100이상 110미만</td>\n",
       "      <td>7</td>\n",
       "    </tr>\n",
       "    <tr>\n",
       "      <th>115</th>\n",
       "      <td>4.5이상</td>\n",
       "      <td>110이상 120미만</td>\n",
       "      <td>1</td>\n",
       "    </tr>\n",
       "    <tr>\n",
       "      <th>116</th>\n",
       "      <td>총합</td>\n",
       "      <td>NaN</td>\n",
       "      <td>106845</td>\n",
       "    </tr>\n",
       "  </tbody>\n",
       "</table>\n",
       "<p>117 rows × 3 columns</p>\n",
       "</div>"
      ],
      "text/plain": [
       "         매연(%)     속도(km/h)  측정건수(건)\n",
       "0    0이상 0.5미만     0이상 10미만       19\n",
       "1    0이상 0.5미만    10이상 20미만       77\n",
       "2    0이상 0.5미만    20이상 30미만      462\n",
       "3    0이상 0.5미만    30이상 40미만     1310\n",
       "4    0이상 0.5미만    40이상 50미만     4033\n",
       "..         ...          ...      ...\n",
       "112      4.5이상    80이상 90미만       44\n",
       "113      4.5이상   90이상 100미만        9\n",
       "114      4.5이상  100이상 110미만        7\n",
       "115      4.5이상  110이상 120미만        1\n",
       "116         총합          NaN   106845\n",
       "\n",
       "[117 rows x 3 columns]"
      ]
     },
     "execution_count": 177,
     "metadata": {},
     "output_type": "execute_result"
    }
   ],
   "source": [
    "grp14 = die.groupby(['매연구분인덱스', '매연구분', '속도구분인덱스', '속도구분'], dropna=False).agg({'차량번호':'count'}).reset_index()\n",
    "grp14 = grp14.rename(columns={'차량번호':'측정건수(건)', '매연구분':'매연(%)', '속도구분':'속도(km/h)'})\n",
    "grp14.loc[grp14.shape[0]] = [grp14['매연구분인덱스'].max() + 1, '총합', np.nan, np.nan, grp14['측정건수(건)'].sum()]\n",
    "grp14 = grp14.drop(['매연구분인덱스', '속도구분인덱스'], axis=1)\n",
    "grp14"
   ]
  },
  {
   "cell_type": "code",
   "execution_count": 178,
   "metadata": {},
   "outputs": [
    {
     "data": {
      "text/html": [
       "<div>\n",
       "<style scoped>\n",
       "    .dataframe tbody tr th:only-of-type {\n",
       "        vertical-align: middle;\n",
       "    }\n",
       "\n",
       "    .dataframe tbody tr th {\n",
       "        vertical-align: top;\n",
       "    }\n",
       "\n",
       "    .dataframe thead tr th {\n",
       "        text-align: left;\n",
       "    }\n",
       "</style>\n",
       "<table border=\"1\" class=\"dataframe\">\n",
       "  <thead>\n",
       "    <tr>\n",
       "      <th></th>\n",
       "      <th>매연(%)</th>\n",
       "      <th colspan=\"12\" halign=\"left\">속도(km/h)</th>\n",
       "      <th>합계</th>\n",
       "    </tr>\n",
       "    <tr>\n",
       "      <th>속도(km/h)</th>\n",
       "      <th></th>\n",
       "      <th>0이상 10미만</th>\n",
       "      <th>10이상 20미만</th>\n",
       "      <th>20이상 30미만</th>\n",
       "      <th>30이상 40미만</th>\n",
       "      <th>40이상 50미만</th>\n",
       "      <th>50이상 60미만</th>\n",
       "      <th>60이상 70미만</th>\n",
       "      <th>70이상 80미만</th>\n",
       "      <th>80이상 90미만</th>\n",
       "      <th>90이상 100미만</th>\n",
       "      <th>100이상 110미만</th>\n",
       "      <th>110이상 120미만</th>\n",
       "      <th></th>\n",
       "    </tr>\n",
       "  </thead>\n",
       "  <tbody>\n",
       "    <tr>\n",
       "      <th>0</th>\n",
       "      <td>0이상 0.5미만</td>\n",
       "      <td>19.00</td>\n",
       "      <td>77.00</td>\n",
       "      <td>462.00</td>\n",
       "      <td>1310.00</td>\n",
       "      <td>4033.00</td>\n",
       "      <td>10987.00</td>\n",
       "      <td>15465.00</td>\n",
       "      <td>11650.00</td>\n",
       "      <td>5819.00</td>\n",
       "      <td>2001.00</td>\n",
       "      <td>648.00</td>\n",
       "      <td>124.00</td>\n",
       "      <td>52595.00</td>\n",
       "    </tr>\n",
       "    <tr>\n",
       "      <th>1</th>\n",
       "      <td>0.5이상 1.0미만</td>\n",
       "      <td>17.00</td>\n",
       "      <td>43.00</td>\n",
       "      <td>300.00</td>\n",
       "      <td>897.00</td>\n",
       "      <td>2719.00</td>\n",
       "      <td>6476.00</td>\n",
       "      <td>8425.00</td>\n",
       "      <td>6493.00</td>\n",
       "      <td>3362.00</td>\n",
       "      <td>1227.00</td>\n",
       "      <td>340.00</td>\n",
       "      <td>99.00</td>\n",
       "      <td>30398.00</td>\n",
       "    </tr>\n",
       "    <tr>\n",
       "      <th>2</th>\n",
       "      <td>1.0이상 1.5미만</td>\n",
       "      <td>4.00</td>\n",
       "      <td>33.00</td>\n",
       "      <td>171.00</td>\n",
       "      <td>444.00</td>\n",
       "      <td>964.00</td>\n",
       "      <td>2564.00</td>\n",
       "      <td>3655.00</td>\n",
       "      <td>2713.00</td>\n",
       "      <td>1397.00</td>\n",
       "      <td>494.00</td>\n",
       "      <td>193.00</td>\n",
       "      <td>50.00</td>\n",
       "      <td>12682.00</td>\n",
       "    </tr>\n",
       "    <tr>\n",
       "      <th>3</th>\n",
       "      <td>1.5이상 2.0미만</td>\n",
       "      <td>4.00</td>\n",
       "      <td>22.00</td>\n",
       "      <td>99.00</td>\n",
       "      <td>222.00</td>\n",
       "      <td>422.00</td>\n",
       "      <td>962.00</td>\n",
       "      <td>1303.00</td>\n",
       "      <td>1053.00</td>\n",
       "      <td>482.00</td>\n",
       "      <td>176.00</td>\n",
       "      <td>71.00</td>\n",
       "      <td>16.00</td>\n",
       "      <td>4832.00</td>\n",
       "    </tr>\n",
       "    <tr>\n",
       "      <th>4</th>\n",
       "      <td>2.0이상 2.5미만</td>\n",
       "      <td>NaN</td>\n",
       "      <td>6.00</td>\n",
       "      <td>70.00</td>\n",
       "      <td>110.00</td>\n",
       "      <td>211.00</td>\n",
       "      <td>510.00</td>\n",
       "      <td>614.00</td>\n",
       "      <td>488.00</td>\n",
       "      <td>245.00</td>\n",
       "      <td>90.00</td>\n",
       "      <td>24.00</td>\n",
       "      <td>2.00</td>\n",
       "      <td>2370.00</td>\n",
       "    </tr>\n",
       "    <tr>\n",
       "      <th>5</th>\n",
       "      <td>2.5이상 3.0미만</td>\n",
       "      <td>2.00</td>\n",
       "      <td>4.00</td>\n",
       "      <td>37.00</td>\n",
       "      <td>72.00</td>\n",
       "      <td>126.00</td>\n",
       "      <td>282.00</td>\n",
       "      <td>345.00</td>\n",
       "      <td>291.00</td>\n",
       "      <td>124.00</td>\n",
       "      <td>39.00</td>\n",
       "      <td>15.00</td>\n",
       "      <td>5.00</td>\n",
       "      <td>1342.00</td>\n",
       "    </tr>\n",
       "    <tr>\n",
       "      <th>6</th>\n",
       "      <td>3.0이상 3.5미만</td>\n",
       "      <td>NaN</td>\n",
       "      <td>9.00</td>\n",
       "      <td>32.00</td>\n",
       "      <td>31.00</td>\n",
       "      <td>127.00</td>\n",
       "      <td>220.00</td>\n",
       "      <td>236.00</td>\n",
       "      <td>169.00</td>\n",
       "      <td>69.00</td>\n",
       "      <td>18.00</td>\n",
       "      <td>5.00</td>\n",
       "      <td>1.00</td>\n",
       "      <td>917.00</td>\n",
       "    </tr>\n",
       "    <tr>\n",
       "      <th>7</th>\n",
       "      <td>3.5이상 4.0미만</td>\n",
       "      <td>2.00</td>\n",
       "      <td>3.00</td>\n",
       "      <td>17.00</td>\n",
       "      <td>32.00</td>\n",
       "      <td>81.00</td>\n",
       "      <td>164.00</td>\n",
       "      <td>168.00</td>\n",
       "      <td>140.00</td>\n",
       "      <td>55.00</td>\n",
       "      <td>13.00</td>\n",
       "      <td>4.00</td>\n",
       "      <td>NaN</td>\n",
       "      <td>679.00</td>\n",
       "    </tr>\n",
       "    <tr>\n",
       "      <th>8</th>\n",
       "      <td>4.0이상 4.5미만</td>\n",
       "      <td>1.00</td>\n",
       "      <td>3.00</td>\n",
       "      <td>11.00</td>\n",
       "      <td>28.00</td>\n",
       "      <td>59.00</td>\n",
       "      <td>115.00</td>\n",
       "      <td>139.00</td>\n",
       "      <td>122.00</td>\n",
       "      <td>45.00</td>\n",
       "      <td>12.00</td>\n",
       "      <td>5.00</td>\n",
       "      <td>NaN</td>\n",
       "      <td>540.00</td>\n",
       "    </tr>\n",
       "    <tr>\n",
       "      <th>9</th>\n",
       "      <td>4.5이상</td>\n",
       "      <td>2.00</td>\n",
       "      <td>4.00</td>\n",
       "      <td>14.00</td>\n",
       "      <td>21.00</td>\n",
       "      <td>50.00</td>\n",
       "      <td>122.00</td>\n",
       "      <td>115.00</td>\n",
       "      <td>101.00</td>\n",
       "      <td>44.00</td>\n",
       "      <td>9.00</td>\n",
       "      <td>7.00</td>\n",
       "      <td>1.00</td>\n",
       "      <td>490.00</td>\n",
       "    </tr>\n",
       "    <tr>\n",
       "      <th>10</th>\n",
       "      <td>총합</td>\n",
       "      <td>51.00</td>\n",
       "      <td>204.00</td>\n",
       "      <td>1213.00</td>\n",
       "      <td>3167.00</td>\n",
       "      <td>8792.00</td>\n",
       "      <td>22402.00</td>\n",
       "      <td>30465.00</td>\n",
       "      <td>23220.00</td>\n",
       "      <td>11642.00</td>\n",
       "      <td>4079.00</td>\n",
       "      <td>1312.00</td>\n",
       "      <td>298.00</td>\n",
       "      <td>106845.00</td>\n",
       "    </tr>\n",
       "  </tbody>\n",
       "</table>\n",
       "</div>"
      ],
      "text/plain": [
       "                매연(%) 속도(km/h)                                          \\\n",
       "속도(km/h)              0이상 10미만 10이상 20미만 20이상 30미만 30이상 40미만 40이상 50미만   \n",
       "0           0이상 0.5미만    19.00     77.00    462.00   1310.00   4033.00   \n",
       "1         0.5이상 1.0미만    17.00     43.00    300.00    897.00   2719.00   \n",
       "2         1.0이상 1.5미만     4.00     33.00    171.00    444.00    964.00   \n",
       "3         1.5이상 2.0미만     4.00     22.00     99.00    222.00    422.00   \n",
       "4         2.0이상 2.5미만      NaN      6.00     70.00    110.00    211.00   \n",
       "5         2.5이상 3.0미만     2.00      4.00     37.00     72.00    126.00   \n",
       "6         3.0이상 3.5미만      NaN      9.00     32.00     31.00    127.00   \n",
       "7         3.5이상 4.0미만     2.00      3.00     17.00     32.00     81.00   \n",
       "8         4.0이상 4.5미만     1.00      3.00     11.00     28.00     59.00   \n",
       "9               4.5이상     2.00      4.00     14.00     21.00     50.00   \n",
       "10                 총합    51.00    204.00   1213.00   3167.00   8792.00   \n",
       "\n",
       "                                                                         \\\n",
       "속도(km/h) 50이상 60미만 60이상 70미만 70이상 80미만 80이상 90미만 90이상 100미만 100이상 110미만   \n",
       "0         10987.00  15465.00  11650.00   5819.00    2001.00      648.00   \n",
       "1          6476.00   8425.00   6493.00   3362.00    1227.00      340.00   \n",
       "2          2564.00   3655.00   2713.00   1397.00     494.00      193.00   \n",
       "3           962.00   1303.00   1053.00    482.00     176.00       71.00   \n",
       "4           510.00    614.00    488.00    245.00      90.00       24.00   \n",
       "5           282.00    345.00    291.00    124.00      39.00       15.00   \n",
       "6           220.00    236.00    169.00     69.00      18.00        5.00   \n",
       "7           164.00    168.00    140.00     55.00      13.00        4.00   \n",
       "8           115.00    139.00    122.00     45.00      12.00        5.00   \n",
       "9           122.00    115.00    101.00     44.00       9.00        7.00   \n",
       "10        22402.00  30465.00  23220.00  11642.00    4079.00     1312.00   \n",
       "\n",
       "                            합계  \n",
       "속도(km/h) 110이상 120미만            \n",
       "0             124.00  52595.00  \n",
       "1              99.00  30398.00  \n",
       "2              50.00  12682.00  \n",
       "3              16.00   4832.00  \n",
       "4               2.00   2370.00  \n",
       "5               5.00   1342.00  \n",
       "6               1.00    917.00  \n",
       "7                NaN    679.00  \n",
       "8                NaN    540.00  \n",
       "9               1.00    490.00  \n",
       "10            298.00 106845.00  "
      ]
     },
     "execution_count": 178,
     "metadata": {},
     "output_type": "execute_result"
    }
   ],
   "source": [
    "grp14 = die.groupby(['매연구분인덱스', '매연구분', '속도구분인덱스', '속도구분'], dropna=False).agg({'차량번호':'count'}).unstack(['속도구분인덱스', '속도구분']).reset_index()\n",
    "grp14 = grp14.rename(columns={'매연구분':'매연(%)', '차량번호':'속도(km/h)'})\n",
    "grp14 = grp14.rename_axis(columns={'속도구분':'속도(km/h)'})\n",
    "grp14['합계'] = grp14.iloc[:, 2:].sum(axis=1)\n",
    "grp14.loc[grp14.shape[0]] = [grp14['매연구분인덱스'].max() + 1, '총합'] + grp14.iloc[:, 2:].sum().to_list()\n",
    "grp14 = grp14.drop('매연구분인덱스', axis=1, level=0)\n",
    "grp14.columns = grp14.columns.droplevel(1)\n",
    "grp14"
   ]
  },
  {
   "cell_type": "markdown",
   "metadata": {},
   "source": [
    "### 15\\. RSD 매연 농도, 배출가스 등급별 데이터 수량"
   ]
  },
  {
   "cell_type": "code",
   "execution_count": 179,
   "metadata": {},
   "outputs": [
    {
     "data": {
      "text/html": [
       "<div>\n",
       "<style scoped>\n",
       "    .dataframe tbody tr th:only-of-type {\n",
       "        vertical-align: middle;\n",
       "    }\n",
       "\n",
       "    .dataframe tbody tr th {\n",
       "        vertical-align: top;\n",
       "    }\n",
       "\n",
       "    .dataframe thead th {\n",
       "        text-align: right;\n",
       "    }\n",
       "</style>\n",
       "<table border=\"1\" class=\"dataframe\">\n",
       "  <thead>\n",
       "    <tr style=\"text-align: right;\">\n",
       "      <th></th>\n",
       "      <th>매연(%)</th>\n",
       "      <th>배출가스등급</th>\n",
       "      <th>측정건수(건)</th>\n",
       "    </tr>\n",
       "  </thead>\n",
       "  <tbody>\n",
       "    <tr>\n",
       "      <th>0</th>\n",
       "      <td>0이상 0.5미만</td>\n",
       "      <td>3</td>\n",
       "      <td>45879</td>\n",
       "    </tr>\n",
       "    <tr>\n",
       "      <th>1</th>\n",
       "      <td>0이상 0.5미만</td>\n",
       "      <td>4</td>\n",
       "      <td>3089</td>\n",
       "    </tr>\n",
       "    <tr>\n",
       "      <th>2</th>\n",
       "      <td>0이상 0.5미만</td>\n",
       "      <td>5</td>\n",
       "      <td>1204</td>\n",
       "    </tr>\n",
       "    <tr>\n",
       "      <th>3</th>\n",
       "      <td>0이상 0.5미만</td>\n",
       "      <td>NaN</td>\n",
       "      <td>2423</td>\n",
       "    </tr>\n",
       "    <tr>\n",
       "      <th>4</th>\n",
       "      <td>0.5이상 1.0미만</td>\n",
       "      <td>3</td>\n",
       "      <td>26130</td>\n",
       "    </tr>\n",
       "    <tr>\n",
       "      <th>5</th>\n",
       "      <td>0.5이상 1.0미만</td>\n",
       "      <td>4</td>\n",
       "      <td>2429</td>\n",
       "    </tr>\n",
       "    <tr>\n",
       "      <th>6</th>\n",
       "      <td>0.5이상 1.0미만</td>\n",
       "      <td>5</td>\n",
       "      <td>645</td>\n",
       "    </tr>\n",
       "    <tr>\n",
       "      <th>7</th>\n",
       "      <td>0.5이상 1.0미만</td>\n",
       "      <td>NaN</td>\n",
       "      <td>1194</td>\n",
       "    </tr>\n",
       "    <tr>\n",
       "      <th>8</th>\n",
       "      <td>1.0이상 1.5미만</td>\n",
       "      <td>3</td>\n",
       "      <td>10565</td>\n",
       "    </tr>\n",
       "    <tr>\n",
       "      <th>9</th>\n",
       "      <td>1.0이상 1.5미만</td>\n",
       "      <td>4</td>\n",
       "      <td>1250</td>\n",
       "    </tr>\n",
       "    <tr>\n",
       "      <th>10</th>\n",
       "      <td>1.0이상 1.5미만</td>\n",
       "      <td>5</td>\n",
       "      <td>407</td>\n",
       "    </tr>\n",
       "    <tr>\n",
       "      <th>11</th>\n",
       "      <td>1.0이상 1.5미만</td>\n",
       "      <td>NaN</td>\n",
       "      <td>460</td>\n",
       "    </tr>\n",
       "    <tr>\n",
       "      <th>12</th>\n",
       "      <td>1.5이상 2.0미만</td>\n",
       "      <td>3</td>\n",
       "      <td>3943</td>\n",
       "    </tr>\n",
       "    <tr>\n",
       "      <th>13</th>\n",
       "      <td>1.5이상 2.0미만</td>\n",
       "      <td>4</td>\n",
       "      <td>547</td>\n",
       "    </tr>\n",
       "    <tr>\n",
       "      <th>14</th>\n",
       "      <td>1.5이상 2.0미만</td>\n",
       "      <td>5</td>\n",
       "      <td>188</td>\n",
       "    </tr>\n",
       "    <tr>\n",
       "      <th>15</th>\n",
       "      <td>1.5이상 2.0미만</td>\n",
       "      <td>NaN</td>\n",
       "      <td>154</td>\n",
       "    </tr>\n",
       "    <tr>\n",
       "      <th>16</th>\n",
       "      <td>2.0이상 2.5미만</td>\n",
       "      <td>3</td>\n",
       "      <td>1894</td>\n",
       "    </tr>\n",
       "    <tr>\n",
       "      <th>17</th>\n",
       "      <td>2.0이상 2.5미만</td>\n",
       "      <td>4</td>\n",
       "      <td>290</td>\n",
       "    </tr>\n",
       "    <tr>\n",
       "      <th>18</th>\n",
       "      <td>2.0이상 2.5미만</td>\n",
       "      <td>5</td>\n",
       "      <td>108</td>\n",
       "    </tr>\n",
       "    <tr>\n",
       "      <th>19</th>\n",
       "      <td>2.0이상 2.5미만</td>\n",
       "      <td>NaN</td>\n",
       "      <td>78</td>\n",
       "    </tr>\n",
       "    <tr>\n",
       "      <th>20</th>\n",
       "      <td>2.5이상 3.0미만</td>\n",
       "      <td>3</td>\n",
       "      <td>1092</td>\n",
       "    </tr>\n",
       "    <tr>\n",
       "      <th>21</th>\n",
       "      <td>2.5이상 3.0미만</td>\n",
       "      <td>4</td>\n",
       "      <td>145</td>\n",
       "    </tr>\n",
       "    <tr>\n",
       "      <th>22</th>\n",
       "      <td>2.5이상 3.0미만</td>\n",
       "      <td>5</td>\n",
       "      <td>64</td>\n",
       "    </tr>\n",
       "    <tr>\n",
       "      <th>23</th>\n",
       "      <td>2.5이상 3.0미만</td>\n",
       "      <td>NaN</td>\n",
       "      <td>41</td>\n",
       "    </tr>\n",
       "    <tr>\n",
       "      <th>24</th>\n",
       "      <td>3.0이상 3.5미만</td>\n",
       "      <td>3</td>\n",
       "      <td>730</td>\n",
       "    </tr>\n",
       "    <tr>\n",
       "      <th>25</th>\n",
       "      <td>3.0이상 3.5미만</td>\n",
       "      <td>4</td>\n",
       "      <td>107</td>\n",
       "    </tr>\n",
       "    <tr>\n",
       "      <th>26</th>\n",
       "      <td>3.0이상 3.5미만</td>\n",
       "      <td>5</td>\n",
       "      <td>43</td>\n",
       "    </tr>\n",
       "    <tr>\n",
       "      <th>27</th>\n",
       "      <td>3.0이상 3.5미만</td>\n",
       "      <td>NaN</td>\n",
       "      <td>37</td>\n",
       "    </tr>\n",
       "    <tr>\n",
       "      <th>28</th>\n",
       "      <td>3.5이상 4.0미만</td>\n",
       "      <td>3</td>\n",
       "      <td>536</td>\n",
       "    </tr>\n",
       "    <tr>\n",
       "      <th>29</th>\n",
       "      <td>3.5이상 4.0미만</td>\n",
       "      <td>4</td>\n",
       "      <td>85</td>\n",
       "    </tr>\n",
       "    <tr>\n",
       "      <th>30</th>\n",
       "      <td>3.5이상 4.0미만</td>\n",
       "      <td>5</td>\n",
       "      <td>35</td>\n",
       "    </tr>\n",
       "    <tr>\n",
       "      <th>31</th>\n",
       "      <td>3.5이상 4.0미만</td>\n",
       "      <td>NaN</td>\n",
       "      <td>23</td>\n",
       "    </tr>\n",
       "    <tr>\n",
       "      <th>32</th>\n",
       "      <td>4.0이상 4.5미만</td>\n",
       "      <td>3</td>\n",
       "      <td>411</td>\n",
       "    </tr>\n",
       "    <tr>\n",
       "      <th>33</th>\n",
       "      <td>4.0이상 4.5미만</td>\n",
       "      <td>4</td>\n",
       "      <td>71</td>\n",
       "    </tr>\n",
       "    <tr>\n",
       "      <th>34</th>\n",
       "      <td>4.0이상 4.5미만</td>\n",
       "      <td>5</td>\n",
       "      <td>36</td>\n",
       "    </tr>\n",
       "    <tr>\n",
       "      <th>35</th>\n",
       "      <td>4.0이상 4.5미만</td>\n",
       "      <td>NaN</td>\n",
       "      <td>22</td>\n",
       "    </tr>\n",
       "    <tr>\n",
       "      <th>36</th>\n",
       "      <td>4.5이상</td>\n",
       "      <td>3</td>\n",
       "      <td>395</td>\n",
       "    </tr>\n",
       "    <tr>\n",
       "      <th>37</th>\n",
       "      <td>4.5이상</td>\n",
       "      <td>4</td>\n",
       "      <td>55</td>\n",
       "    </tr>\n",
       "    <tr>\n",
       "      <th>38</th>\n",
       "      <td>4.5이상</td>\n",
       "      <td>5</td>\n",
       "      <td>23</td>\n",
       "    </tr>\n",
       "    <tr>\n",
       "      <th>39</th>\n",
       "      <td>4.5이상</td>\n",
       "      <td>NaN</td>\n",
       "      <td>17</td>\n",
       "    </tr>\n",
       "    <tr>\n",
       "      <th>40</th>\n",
       "      <td>총합</td>\n",
       "      <td>NaN</td>\n",
       "      <td>106845</td>\n",
       "    </tr>\n",
       "  </tbody>\n",
       "</table>\n",
       "</div>"
      ],
      "text/plain": [
       "          매연(%) 배출가스등급  측정건수(건)\n",
       "0     0이상 0.5미만      3    45879\n",
       "1     0이상 0.5미만      4     3089\n",
       "2     0이상 0.5미만      5     1204\n",
       "3     0이상 0.5미만    NaN     2423\n",
       "4   0.5이상 1.0미만      3    26130\n",
       "5   0.5이상 1.0미만      4     2429\n",
       "6   0.5이상 1.0미만      5      645\n",
       "7   0.5이상 1.0미만    NaN     1194\n",
       "8   1.0이상 1.5미만      3    10565\n",
       "9   1.0이상 1.5미만      4     1250\n",
       "10  1.0이상 1.5미만      5      407\n",
       "11  1.0이상 1.5미만    NaN      460\n",
       "12  1.5이상 2.0미만      3     3943\n",
       "13  1.5이상 2.0미만      4      547\n",
       "14  1.5이상 2.0미만      5      188\n",
       "15  1.5이상 2.0미만    NaN      154\n",
       "16  2.0이상 2.5미만      3     1894\n",
       "17  2.0이상 2.5미만      4      290\n",
       "18  2.0이상 2.5미만      5      108\n",
       "19  2.0이상 2.5미만    NaN       78\n",
       "20  2.5이상 3.0미만      3     1092\n",
       "21  2.5이상 3.0미만      4      145\n",
       "22  2.5이상 3.0미만      5       64\n",
       "23  2.5이상 3.0미만    NaN       41\n",
       "24  3.0이상 3.5미만      3      730\n",
       "25  3.0이상 3.5미만      4      107\n",
       "26  3.0이상 3.5미만      5       43\n",
       "27  3.0이상 3.5미만    NaN       37\n",
       "28  3.5이상 4.0미만      3      536\n",
       "29  3.5이상 4.0미만      4       85\n",
       "30  3.5이상 4.0미만      5       35\n",
       "31  3.5이상 4.0미만    NaN       23\n",
       "32  4.0이상 4.5미만      3      411\n",
       "33  4.0이상 4.5미만      4       71\n",
       "34  4.0이상 4.5미만      5       36\n",
       "35  4.0이상 4.5미만    NaN       22\n",
       "36        4.5이상      3      395\n",
       "37        4.5이상      4       55\n",
       "38        4.5이상      5       23\n",
       "39        4.5이상    NaN       17\n",
       "40           총합    NaN   106845"
      ]
     },
     "execution_count": 179,
     "metadata": {},
     "output_type": "execute_result"
    }
   ],
   "source": [
    "grp15 = die.groupby(['매연구분인덱스', '매연구분', '배출가스등급'], dropna=False).agg({'차량번호':'count'}).reset_index()\n",
    "grp15 = grp15.rename(columns={'차량번호':'측정건수(건)', '매연구분':'매연(%)'})\n",
    "grp15.loc[grp15.shape[0]] = [grp15['매연구분인덱스'].max() + 1, '총합', np.nan, grp15['측정건수(건)'].sum()]\n",
    "grp15 = grp15.drop('매연구분인덱스', axis=1)\n",
    "grp15"
   ]
  },
  {
   "cell_type": "code",
   "execution_count": 181,
   "metadata": {},
   "outputs": [
    {
     "name": "stderr",
     "output_type": "stream",
     "text": [
      "C:\\Users\\kbjung\\AppData\\Local\\Temp\\ipykernel_15392\\1300783737.py:5: PerformanceWarning: dropping on a non-lexsorted multi-index without a level parameter may impact performance.\n",
      "  grp15 = grp15.drop('매연구분인덱스', axis=1)\n"
     ]
    },
    {
     "data": {
      "text/html": [
       "<div>\n",
       "<style scoped>\n",
       "    .dataframe tbody tr th:only-of-type {\n",
       "        vertical-align: middle;\n",
       "    }\n",
       "\n",
       "    .dataframe tbody tr th {\n",
       "        vertical-align: top;\n",
       "    }\n",
       "\n",
       "    .dataframe thead tr th {\n",
       "        text-align: left;\n",
       "    }\n",
       "</style>\n",
       "<table border=\"1\" class=\"dataframe\">\n",
       "  <thead>\n",
       "    <tr>\n",
       "      <th></th>\n",
       "      <th>매연(%)</th>\n",
       "      <th colspan=\"4\" halign=\"left\">배출가스등급</th>\n",
       "      <th>합계</th>\n",
       "    </tr>\n",
       "    <tr>\n",
       "      <th>배출가스등급</th>\n",
       "      <th></th>\n",
       "      <th>3</th>\n",
       "      <th>4</th>\n",
       "      <th>5</th>\n",
       "      <th>NaN</th>\n",
       "      <th></th>\n",
       "    </tr>\n",
       "  </thead>\n",
       "  <tbody>\n",
       "    <tr>\n",
       "      <th>0</th>\n",
       "      <td>0이상 0.5미만</td>\n",
       "      <td>45879</td>\n",
       "      <td>3089</td>\n",
       "      <td>1204</td>\n",
       "      <td>2423</td>\n",
       "      <td>52595</td>\n",
       "    </tr>\n",
       "    <tr>\n",
       "      <th>1</th>\n",
       "      <td>0.5이상 1.0미만</td>\n",
       "      <td>26130</td>\n",
       "      <td>2429</td>\n",
       "      <td>645</td>\n",
       "      <td>1194</td>\n",
       "      <td>30398</td>\n",
       "    </tr>\n",
       "    <tr>\n",
       "      <th>2</th>\n",
       "      <td>1.0이상 1.5미만</td>\n",
       "      <td>10565</td>\n",
       "      <td>1250</td>\n",
       "      <td>407</td>\n",
       "      <td>460</td>\n",
       "      <td>12682</td>\n",
       "    </tr>\n",
       "    <tr>\n",
       "      <th>3</th>\n",
       "      <td>1.5이상 2.0미만</td>\n",
       "      <td>3943</td>\n",
       "      <td>547</td>\n",
       "      <td>188</td>\n",
       "      <td>154</td>\n",
       "      <td>4832</td>\n",
       "    </tr>\n",
       "    <tr>\n",
       "      <th>4</th>\n",
       "      <td>2.0이상 2.5미만</td>\n",
       "      <td>1894</td>\n",
       "      <td>290</td>\n",
       "      <td>108</td>\n",
       "      <td>78</td>\n",
       "      <td>2370</td>\n",
       "    </tr>\n",
       "    <tr>\n",
       "      <th>5</th>\n",
       "      <td>2.5이상 3.0미만</td>\n",
       "      <td>1092</td>\n",
       "      <td>145</td>\n",
       "      <td>64</td>\n",
       "      <td>41</td>\n",
       "      <td>1342</td>\n",
       "    </tr>\n",
       "    <tr>\n",
       "      <th>6</th>\n",
       "      <td>3.0이상 3.5미만</td>\n",
       "      <td>730</td>\n",
       "      <td>107</td>\n",
       "      <td>43</td>\n",
       "      <td>37</td>\n",
       "      <td>917</td>\n",
       "    </tr>\n",
       "    <tr>\n",
       "      <th>7</th>\n",
       "      <td>3.5이상 4.0미만</td>\n",
       "      <td>536</td>\n",
       "      <td>85</td>\n",
       "      <td>35</td>\n",
       "      <td>23</td>\n",
       "      <td>679</td>\n",
       "    </tr>\n",
       "    <tr>\n",
       "      <th>8</th>\n",
       "      <td>4.0이상 4.5미만</td>\n",
       "      <td>411</td>\n",
       "      <td>71</td>\n",
       "      <td>36</td>\n",
       "      <td>22</td>\n",
       "      <td>540</td>\n",
       "    </tr>\n",
       "    <tr>\n",
       "      <th>9</th>\n",
       "      <td>4.5이상</td>\n",
       "      <td>395</td>\n",
       "      <td>55</td>\n",
       "      <td>23</td>\n",
       "      <td>17</td>\n",
       "      <td>490</td>\n",
       "    </tr>\n",
       "    <tr>\n",
       "      <th>10</th>\n",
       "      <td>총합</td>\n",
       "      <td>91575</td>\n",
       "      <td>8068</td>\n",
       "      <td>2753</td>\n",
       "      <td>4449</td>\n",
       "      <td>106845</td>\n",
       "    </tr>\n",
       "  </tbody>\n",
       "</table>\n",
       "</div>"
      ],
      "text/plain": [
       "              매연(%) 배출가스등급                        합계\n",
       "배출가스등급                   3     4     5   NaN        \n",
       "0         0이상 0.5미만  45879  3089  1204  2423   52595\n",
       "1       0.5이상 1.0미만  26130  2429   645  1194   30398\n",
       "2       1.0이상 1.5미만  10565  1250   407   460   12682\n",
       "3       1.5이상 2.0미만   3943   547   188   154    4832\n",
       "4       2.0이상 2.5미만   1894   290   108    78    2370\n",
       "5       2.5이상 3.0미만   1092   145    64    41    1342\n",
       "6       3.0이상 3.5미만    730   107    43    37     917\n",
       "7       3.5이상 4.0미만    536    85    35    23     679\n",
       "8       4.0이상 4.5미만    411    71    36    22     540\n",
       "9             4.5이상    395    55    23    17     490\n",
       "10               총합  91575  8068  2753  4449  106845"
      ]
     },
     "execution_count": 181,
     "metadata": {},
     "output_type": "execute_result"
    }
   ],
   "source": [
    "grp15 = die.groupby(['매연구분인덱스', '매연구분', '배출가스등급'], dropna=False).agg({'차량번호':'count'}).unstack('배출가스등급').reset_index()\n",
    "grp15 = grp15.rename(columns={'매연구분':'매연(%)', '차량번호':'배출가스등급'})\n",
    "grp15['합계'] = grp15.iloc[:, 2:].sum(axis=1)\n",
    "grp15.loc[grp15.shape[0]] = [grp15['매연구분인덱스'].max() + 1, '총합'] + grp15.iloc[:, 2:].sum().to_list()\n",
    "grp15 = grp15.drop('매연구분인덱스', axis=1)\n",
    "grp15"
   ]
  },
  {
   "cell_type": "markdown",
   "metadata": {},
   "source": [
    "### 16\\. RSD 매연 농도, 배기량별 데이터 수량"
   ]
  },
  {
   "cell_type": "code",
   "execution_count": 182,
   "metadata": {},
   "outputs": [
    {
     "data": {
      "text/html": [
       "<div>\n",
       "<style scoped>\n",
       "    .dataframe tbody tr th:only-of-type {\n",
       "        vertical-align: middle;\n",
       "    }\n",
       "\n",
       "    .dataframe tbody tr th {\n",
       "        vertical-align: top;\n",
       "    }\n",
       "\n",
       "    .dataframe thead th {\n",
       "        text-align: right;\n",
       "    }\n",
       "</style>\n",
       "<table border=\"1\" class=\"dataframe\">\n",
       "  <thead>\n",
       "    <tr style=\"text-align: right;\">\n",
       "      <th></th>\n",
       "      <th>매연(%)</th>\n",
       "      <th>배기량(cc)</th>\n",
       "      <th>측정건수(건)</th>\n",
       "    </tr>\n",
       "  </thead>\n",
       "  <tbody>\n",
       "    <tr>\n",
       "      <th>0</th>\n",
       "      <td>0이상 0.5미만</td>\n",
       "      <td>1천이상 2천미만</td>\n",
       "      <td>17220</td>\n",
       "    </tr>\n",
       "    <tr>\n",
       "      <th>1</th>\n",
       "      <td>0이상 0.5미만</td>\n",
       "      <td>2천이상 3천미만</td>\n",
       "      <td>29719</td>\n",
       "    </tr>\n",
       "    <tr>\n",
       "      <th>2</th>\n",
       "      <td>0이상 0.5미만</td>\n",
       "      <td>3천이상 4천미만</td>\n",
       "      <td>1852</td>\n",
       "    </tr>\n",
       "    <tr>\n",
       "      <th>3</th>\n",
       "      <td>0이상 0.5미만</td>\n",
       "      <td>4천이상 5천미만</td>\n",
       "      <td>124</td>\n",
       "    </tr>\n",
       "    <tr>\n",
       "      <th>4</th>\n",
       "      <td>0이상 0.5미만</td>\n",
       "      <td>5천이상 6천미만</td>\n",
       "      <td>855</td>\n",
       "    </tr>\n",
       "    <tr>\n",
       "      <th>...</th>\n",
       "      <td>...</td>\n",
       "      <td>...</td>\n",
       "      <td>...</td>\n",
       "    </tr>\n",
       "    <tr>\n",
       "      <th>122</th>\n",
       "      <td>4.5이상</td>\n",
       "      <td>9천이상 10천미만</td>\n",
       "      <td>20</td>\n",
       "    </tr>\n",
       "    <tr>\n",
       "      <th>123</th>\n",
       "      <td>4.5이상</td>\n",
       "      <td>10천이상 11천미만</td>\n",
       "      <td>3</td>\n",
       "    </tr>\n",
       "    <tr>\n",
       "      <th>124</th>\n",
       "      <td>4.5이상</td>\n",
       "      <td>12천이상 13천미만</td>\n",
       "      <td>7</td>\n",
       "    </tr>\n",
       "    <tr>\n",
       "      <th>125</th>\n",
       "      <td>4.5이상</td>\n",
       "      <td>14천이상 15천미만</td>\n",
       "      <td>1</td>\n",
       "    </tr>\n",
       "    <tr>\n",
       "      <th>126</th>\n",
       "      <td>총합</td>\n",
       "      <td>NaN</td>\n",
       "      <td>106845</td>\n",
       "    </tr>\n",
       "  </tbody>\n",
       "</table>\n",
       "<p>127 rows × 3 columns</p>\n",
       "</div>"
      ],
      "text/plain": [
       "         매연(%)      배기량(cc)  측정건수(건)\n",
       "0    0이상 0.5미만    1천이상 2천미만    17220\n",
       "1    0이상 0.5미만    2천이상 3천미만    29719\n",
       "2    0이상 0.5미만    3천이상 4천미만     1852\n",
       "3    0이상 0.5미만    4천이상 5천미만      124\n",
       "4    0이상 0.5미만    5천이상 6천미만      855\n",
       "..         ...          ...      ...\n",
       "122      4.5이상   9천이상 10천미만       20\n",
       "123      4.5이상  10천이상 11천미만        3\n",
       "124      4.5이상  12천이상 13천미만        7\n",
       "125      4.5이상  14천이상 15천미만        1\n",
       "126         총합          NaN   106845\n",
       "\n",
       "[127 rows x 3 columns]"
      ]
     },
     "execution_count": 182,
     "metadata": {},
     "output_type": "execute_result"
    }
   ],
   "source": [
    "grp16 = die.groupby(['매연구분인덱스', '매연구분', '배기량구분인덱스', '배기량구분'], dropna=False).agg({'차량번호':'count'}).reset_index()\n",
    "grp16 = grp16.rename(columns={'차량번호':'측정건수(건)', '매연구분':'매연(%)', '배기량구분':'배기량(cc)'})\n",
    "grp16.loc[grp16.shape[0]] = [grp16['매연구분인덱스'].max() + 1, '총합', np.nan, np.nan, grp16['측정건수(건)'].sum()]\n",
    "grp16 = grp16.drop(['매연구분인덱스', '배기량구분인덱스'], axis=1)\n",
    "grp16"
   ]
  },
  {
   "cell_type": "code",
   "execution_count": 183,
   "metadata": {},
   "outputs": [
    {
     "name": "stderr",
     "output_type": "stream",
     "text": [
      "C:\\Users\\kbjung\\AppData\\Local\\Temp\\ipykernel_15392\\2848121395.py:7: PerformanceWarning: dropping on a non-lexsorted multi-index without a level parameter may impact performance.\n",
      "  grp16 = grp16.drop('매연구분인덱스', axis=1)\n"
     ]
    },
    {
     "data": {
      "text/html": [
       "<div>\n",
       "<style scoped>\n",
       "    .dataframe tbody tr th:only-of-type {\n",
       "        vertical-align: middle;\n",
       "    }\n",
       "\n",
       "    .dataframe tbody tr th {\n",
       "        vertical-align: top;\n",
       "    }\n",
       "\n",
       "    .dataframe thead th {\n",
       "        text-align: right;\n",
       "    }\n",
       "</style>\n",
       "<table border=\"1\" class=\"dataframe\">\n",
       "  <thead>\n",
       "    <tr style=\"text-align: right;\">\n",
       "      <th></th>\n",
       "      <th></th>\n",
       "      <th>0</th>\n",
       "      <th>1</th>\n",
       "      <th>2</th>\n",
       "      <th>3</th>\n",
       "      <th>4</th>\n",
       "      <th>5</th>\n",
       "      <th>6</th>\n",
       "      <th>7</th>\n",
       "      <th>8</th>\n",
       "      <th>9</th>\n",
       "      <th>10</th>\n",
       "    </tr>\n",
       "    <tr>\n",
       "      <th></th>\n",
       "      <th>배기량(cc)</th>\n",
       "      <th></th>\n",
       "      <th></th>\n",
       "      <th></th>\n",
       "      <th></th>\n",
       "      <th></th>\n",
       "      <th></th>\n",
       "      <th></th>\n",
       "      <th></th>\n",
       "      <th></th>\n",
       "      <th></th>\n",
       "      <th></th>\n",
       "    </tr>\n",
       "  </thead>\n",
       "  <tbody>\n",
       "    <tr>\n",
       "      <th>매연(%)</th>\n",
       "      <th></th>\n",
       "      <td>0이상 0.5미만</td>\n",
       "      <td>0.5이상 1.0미만</td>\n",
       "      <td>1.0이상 1.5미만</td>\n",
       "      <td>1.5이상 2.0미만</td>\n",
       "      <td>2.0이상 2.5미만</td>\n",
       "      <td>2.5이상 3.0미만</td>\n",
       "      <td>3.0이상 3.5미만</td>\n",
       "      <td>3.5이상 4.0미만</td>\n",
       "      <td>4.0이상 4.5미만</td>\n",
       "      <td>4.5이상</td>\n",
       "      <td>총합</td>\n",
       "    </tr>\n",
       "    <tr>\n",
       "      <th rowspan=\"15\" valign=\"top\">배기량(cc)</th>\n",
       "      <th>1천이상 2천미만</th>\n",
       "      <td>17220.00</td>\n",
       "      <td>10160.00</td>\n",
       "      <td>4240.00</td>\n",
       "      <td>1613.00</td>\n",
       "      <td>793.00</td>\n",
       "      <td>450.00</td>\n",
       "      <td>271.00</td>\n",
       "      <td>196.00</td>\n",
       "      <td>156.00</td>\n",
       "      <td>141.00</td>\n",
       "      <td>35240.00</td>\n",
       "    </tr>\n",
       "    <tr>\n",
       "      <th>2천이상 3천미만</th>\n",
       "      <td>29719.00</td>\n",
       "      <td>17838.00</td>\n",
       "      <td>7187.00</td>\n",
       "      <td>2658.00</td>\n",
       "      <td>1263.00</td>\n",
       "      <td>707.00</td>\n",
       "      <td>504.00</td>\n",
       "      <td>385.00</td>\n",
       "      <td>303.00</td>\n",
       "      <td>267.00</td>\n",
       "      <td>60831.00</td>\n",
       "    </tr>\n",
       "    <tr>\n",
       "      <th>3천이상 4천미만</th>\n",
       "      <td>1852.00</td>\n",
       "      <td>1155.00</td>\n",
       "      <td>536.00</td>\n",
       "      <td>220.00</td>\n",
       "      <td>113.00</td>\n",
       "      <td>55.00</td>\n",
       "      <td>46.00</td>\n",
       "      <td>31.00</td>\n",
       "      <td>27.00</td>\n",
       "      <td>30.00</td>\n",
       "      <td>4065.00</td>\n",
       "    </tr>\n",
       "    <tr>\n",
       "      <th>4천이상 5천미만</th>\n",
       "      <td>124.00</td>\n",
       "      <td>56.00</td>\n",
       "      <td>24.00</td>\n",
       "      <td>13.00</td>\n",
       "      <td>5.00</td>\n",
       "      <td>1.00</td>\n",
       "      <td>2.00</td>\n",
       "      <td>NaN</td>\n",
       "      <td>1.00</td>\n",
       "      <td>1.00</td>\n",
       "      <td>227.00</td>\n",
       "    </tr>\n",
       "    <tr>\n",
       "      <th>5천이상 6천미만</th>\n",
       "      <td>855.00</td>\n",
       "      <td>267.00</td>\n",
       "      <td>134.00</td>\n",
       "      <td>39.00</td>\n",
       "      <td>24.00</td>\n",
       "      <td>23.00</td>\n",
       "      <td>17.00</td>\n",
       "      <td>7.00</td>\n",
       "      <td>5.00</td>\n",
       "      <td>5.00</td>\n",
       "      <td>1376.00</td>\n",
       "    </tr>\n",
       "    <tr>\n",
       "      <th>6천이상 7천미만</th>\n",
       "      <td>1361.00</td>\n",
       "      <td>454.00</td>\n",
       "      <td>228.00</td>\n",
       "      <td>102.00</td>\n",
       "      <td>54.00</td>\n",
       "      <td>30.00</td>\n",
       "      <td>24.00</td>\n",
       "      <td>15.00</td>\n",
       "      <td>18.00</td>\n",
       "      <td>11.00</td>\n",
       "      <td>2297.00</td>\n",
       "    </tr>\n",
       "    <tr>\n",
       "      <th>7천이상 8천미만</th>\n",
       "      <td>85.00</td>\n",
       "      <td>18.00</td>\n",
       "      <td>5.00</td>\n",
       "      <td>4.00</td>\n",
       "      <td>6.00</td>\n",
       "      <td>2.00</td>\n",
       "      <td>2.00</td>\n",
       "      <td>1.00</td>\n",
       "      <td>2.00</td>\n",
       "      <td>1.00</td>\n",
       "      <td>126.00</td>\n",
       "    </tr>\n",
       "    <tr>\n",
       "      <th>8천이상 9천미만</th>\n",
       "      <td>103.00</td>\n",
       "      <td>27.00</td>\n",
       "      <td>24.00</td>\n",
       "      <td>18.00</td>\n",
       "      <td>5.00</td>\n",
       "      <td>4.00</td>\n",
       "      <td>3.00</td>\n",
       "      <td>1.00</td>\n",
       "      <td>1.00</td>\n",
       "      <td>3.00</td>\n",
       "      <td>189.00</td>\n",
       "    </tr>\n",
       "    <tr>\n",
       "      <th>9천이상 10천미만</th>\n",
       "      <td>218.00</td>\n",
       "      <td>172.00</td>\n",
       "      <td>134.00</td>\n",
       "      <td>70.00</td>\n",
       "      <td>48.00</td>\n",
       "      <td>30.00</td>\n",
       "      <td>21.00</td>\n",
       "      <td>22.00</td>\n",
       "      <td>10.00</td>\n",
       "      <td>20.00</td>\n",
       "      <td>745.00</td>\n",
       "    </tr>\n",
       "    <tr>\n",
       "      <th>10천이상 11천미만</th>\n",
       "      <td>202.00</td>\n",
       "      <td>19.00</td>\n",
       "      <td>11.00</td>\n",
       "      <td>9.00</td>\n",
       "      <td>5.00</td>\n",
       "      <td>3.00</td>\n",
       "      <td>1.00</td>\n",
       "      <td>1.00</td>\n",
       "      <td>1.00</td>\n",
       "      <td>3.00</td>\n",
       "      <td>255.00</td>\n",
       "    </tr>\n",
       "    <tr>\n",
       "      <th>11천이상 12천미만</th>\n",
       "      <td>123.00</td>\n",
       "      <td>11.00</td>\n",
       "      <td>10.00</td>\n",
       "      <td>10.00</td>\n",
       "      <td>6.00</td>\n",
       "      <td>3.00</td>\n",
       "      <td>2.00</td>\n",
       "      <td>1.00</td>\n",
       "      <td>1.00</td>\n",
       "      <td>NaN</td>\n",
       "      <td>167.00</td>\n",
       "    </tr>\n",
       "    <tr>\n",
       "      <th>12천이상 13천미만</th>\n",
       "      <td>686.00</td>\n",
       "      <td>220.00</td>\n",
       "      <td>148.00</td>\n",
       "      <td>74.00</td>\n",
       "      <td>48.00</td>\n",
       "      <td>34.00</td>\n",
       "      <td>24.00</td>\n",
       "      <td>19.00</td>\n",
       "      <td>13.00</td>\n",
       "      <td>7.00</td>\n",
       "      <td>1273.00</td>\n",
       "    </tr>\n",
       "    <tr>\n",
       "      <th>14천이상 15천미만</th>\n",
       "      <td>10.00</td>\n",
       "      <td>NaN</td>\n",
       "      <td>NaN</td>\n",
       "      <td>2.00</td>\n",
       "      <td>NaN</td>\n",
       "      <td>NaN</td>\n",
       "      <td>NaN</td>\n",
       "      <td>NaN</td>\n",
       "      <td>NaN</td>\n",
       "      <td>1.00</td>\n",
       "      <td>13.00</td>\n",
       "    </tr>\n",
       "    <tr>\n",
       "      <th>15천이상 16천미만</th>\n",
       "      <td>14.00</td>\n",
       "      <td>1.00</td>\n",
       "      <td>NaN</td>\n",
       "      <td>NaN</td>\n",
       "      <td>NaN</td>\n",
       "      <td>NaN</td>\n",
       "      <td>NaN</td>\n",
       "      <td>NaN</td>\n",
       "      <td>NaN</td>\n",
       "      <td>NaN</td>\n",
       "      <td>15.00</td>\n",
       "    </tr>\n",
       "    <tr>\n",
       "      <th>16천이상 17천미만</th>\n",
       "      <td>23.00</td>\n",
       "      <td>NaN</td>\n",
       "      <td>1.00</td>\n",
       "      <td>NaN</td>\n",
       "      <td>NaN</td>\n",
       "      <td>NaN</td>\n",
       "      <td>NaN</td>\n",
       "      <td>NaN</td>\n",
       "      <td>2.00</td>\n",
       "      <td>NaN</td>\n",
       "      <td>26.00</td>\n",
       "    </tr>\n",
       "    <tr>\n",
       "      <th>합계</th>\n",
       "      <th></th>\n",
       "      <td>52595.00</td>\n",
       "      <td>30398.00</td>\n",
       "      <td>12682.00</td>\n",
       "      <td>4832.00</td>\n",
       "      <td>2370.00</td>\n",
       "      <td>1342.00</td>\n",
       "      <td>917.00</td>\n",
       "      <td>679.00</td>\n",
       "      <td>540.00</td>\n",
       "      <td>490.00</td>\n",
       "      <td>106845.00</td>\n",
       "    </tr>\n",
       "  </tbody>\n",
       "</table>\n",
       "</div>"
      ],
      "text/plain": [
       "                            0            1            2            3   \\\n",
       "        배기량(cc)                                                         \n",
       "매연(%)                0이상 0.5미만  0.5이상 1.0미만  1.0이상 1.5미만  1.5이상 2.0미만   \n",
       "배기량(cc) 1천이상 2천미만     17220.00     10160.00      4240.00      1613.00   \n",
       "        2천이상 3천미만     29719.00     17838.00      7187.00      2658.00   \n",
       "        3천이상 4천미만      1852.00      1155.00       536.00       220.00   \n",
       "        4천이상 5천미만       124.00        56.00        24.00        13.00   \n",
       "        5천이상 6천미만       855.00       267.00       134.00        39.00   \n",
       "        6천이상 7천미만      1361.00       454.00       228.00       102.00   \n",
       "        7천이상 8천미만        85.00        18.00         5.00         4.00   \n",
       "        8천이상 9천미만       103.00        27.00        24.00        18.00   \n",
       "        9천이상 10천미만      218.00       172.00       134.00        70.00   \n",
       "        10천이상 11천미만     202.00        19.00        11.00         9.00   \n",
       "        11천이상 12천미만     123.00        11.00        10.00        10.00   \n",
       "        12천이상 13천미만     686.00       220.00       148.00        74.00   \n",
       "        14천이상 15천미만      10.00          NaN          NaN         2.00   \n",
       "        15천이상 16천미만      14.00         1.00          NaN          NaN   \n",
       "        16천이상 17천미만      23.00          NaN         1.00          NaN   \n",
       "합계                    52595.00     30398.00     12682.00      4832.00   \n",
       "\n",
       "                              4            5            6            7   \\\n",
       "        배기량(cc)                                                           \n",
       "매연(%)                2.0이상 2.5미만  2.5이상 3.0미만  3.0이상 3.5미만  3.5이상 4.0미만   \n",
       "배기량(cc) 1천이상 2천미만         793.00       450.00       271.00       196.00   \n",
       "        2천이상 3천미만        1263.00       707.00       504.00       385.00   \n",
       "        3천이상 4천미만         113.00        55.00        46.00        31.00   \n",
       "        4천이상 5천미만           5.00         1.00         2.00          NaN   \n",
       "        5천이상 6천미만          24.00        23.00        17.00         7.00   \n",
       "        6천이상 7천미만          54.00        30.00        24.00        15.00   \n",
       "        7천이상 8천미만           6.00         2.00         2.00         1.00   \n",
       "        8천이상 9천미만           5.00         4.00         3.00         1.00   \n",
       "        9천이상 10천미만         48.00        30.00        21.00        22.00   \n",
       "        10천이상 11천미만         5.00         3.00         1.00         1.00   \n",
       "        11천이상 12천미만         6.00         3.00         2.00         1.00   \n",
       "        12천이상 13천미만        48.00        34.00        24.00        19.00   \n",
       "        14천이상 15천미만          NaN          NaN          NaN          NaN   \n",
       "        15천이상 16천미만          NaN          NaN          NaN          NaN   \n",
       "        16천이상 17천미만          NaN          NaN          NaN          NaN   \n",
       "합계                       2370.00      1342.00       917.00       679.00   \n",
       "\n",
       "                              8      9         10  \n",
       "        배기량(cc)                                    \n",
       "매연(%)                4.0이상 4.5미만  4.5이상        총합  \n",
       "배기량(cc) 1천이상 2천미만         156.00 141.00  35240.00  \n",
       "        2천이상 3천미만         303.00 267.00  60831.00  \n",
       "        3천이상 4천미만          27.00  30.00   4065.00  \n",
       "        4천이상 5천미만           1.00   1.00    227.00  \n",
       "        5천이상 6천미만           5.00   5.00   1376.00  \n",
       "        6천이상 7천미만          18.00  11.00   2297.00  \n",
       "        7천이상 8천미만           2.00   1.00    126.00  \n",
       "        8천이상 9천미만           1.00   3.00    189.00  \n",
       "        9천이상 10천미만         10.00  20.00    745.00  \n",
       "        10천이상 11천미만         1.00   3.00    255.00  \n",
       "        11천이상 12천미만         1.00    NaN    167.00  \n",
       "        12천이상 13천미만        13.00   7.00   1273.00  \n",
       "        14천이상 15천미만          NaN   1.00     13.00  \n",
       "        15천이상 16천미만          NaN    NaN     15.00  \n",
       "        16천이상 17천미만         2.00    NaN     26.00  \n",
       "합계                        540.00 490.00 106845.00  "
      ]
     },
     "execution_count": 183,
     "metadata": {},
     "output_type": "execute_result"
    }
   ],
   "source": [
    "grp16 = die.groupby(['매연구분인덱스', '매연구분', '배기량구분인덱스', '배기량구분'], dropna=False).agg({'차량번호':'count'}).unstack(['배기량구분인덱스', '배기량구분']).reset_index()\n",
    "grp16 = grp16.rename(columns={'매연구분':'매연(%)', '배기량구분':'배기량(cc)', '차량번호':'배기량(cc)'})\n",
    "grp16 = grp16.rename_axis(columns={'배기량구분':'배기량(cc)'})\n",
    "# grp16 = grp16.rename(columns={'차량번호':'배기량(cc)'}, level=0)\n",
    "grp16['합계'] = grp16.iloc[:, 2:].sum(axis=1)\n",
    "grp16.loc[grp16.shape[0]] = [grp16['매연구분인덱스'].max() + 1, '총합'] + grp16.iloc[:, 2:].sum().to_list()\n",
    "grp16 = grp16.drop('매연구분인덱스', axis=1)\n",
    "grp16.columns = grp16.columns.droplevel(1)\n",
    "grp16 = grp16.T\n",
    "grp16"
   ]
  },
  {
   "cell_type": "markdown",
   "metadata": {},
   "source": [
    "### 17\\. RSD 매연 농도, 차량중량별 데이터 수량"
   ]
  },
  {
   "cell_type": "code",
   "execution_count": 184,
   "metadata": {},
   "outputs": [
    {
     "data": {
      "text/html": [
       "<div>\n",
       "<style scoped>\n",
       "    .dataframe tbody tr th:only-of-type {\n",
       "        vertical-align: middle;\n",
       "    }\n",
       "\n",
       "    .dataframe tbody tr th {\n",
       "        vertical-align: top;\n",
       "    }\n",
       "\n",
       "    .dataframe thead th {\n",
       "        text-align: right;\n",
       "    }\n",
       "</style>\n",
       "<table border=\"1\" class=\"dataframe\">\n",
       "  <thead>\n",
       "    <tr style=\"text-align: right;\">\n",
       "      <th></th>\n",
       "      <th>매연(%)</th>\n",
       "      <th>차량중량(kg)</th>\n",
       "      <th>측정건수(건)</th>\n",
       "    </tr>\n",
       "  </thead>\n",
       "  <tbody>\n",
       "    <tr>\n",
       "      <th>0</th>\n",
       "      <td>0이상 0.5미만</td>\n",
       "      <td>1천이상 2천미만</td>\n",
       "      <td>8614</td>\n",
       "    </tr>\n",
       "    <tr>\n",
       "      <th>1</th>\n",
       "      <td>0이상 0.5미만</td>\n",
       "      <td>2천이상 3천미만</td>\n",
       "      <td>28100</td>\n",
       "    </tr>\n",
       "    <tr>\n",
       "      <th>2</th>\n",
       "      <td>0이상 0.5미만</td>\n",
       "      <td>3천이상 4천미만</td>\n",
       "      <td>10188</td>\n",
       "    </tr>\n",
       "    <tr>\n",
       "      <th>3</th>\n",
       "      <td>0이상 0.5미만</td>\n",
       "      <td>4천이상 5천미만</td>\n",
       "      <td>7</td>\n",
       "    </tr>\n",
       "    <tr>\n",
       "      <th>4</th>\n",
       "      <td>0이상 0.5미만</td>\n",
       "      <td>5천이상 6천미만</td>\n",
       "      <td>601</td>\n",
       "    </tr>\n",
       "    <tr>\n",
       "      <th>...</th>\n",
       "      <td>...</td>\n",
       "      <td>...</td>\n",
       "      <td>...</td>\n",
       "    </tr>\n",
       "    <tr>\n",
       "      <th>250</th>\n",
       "      <td>4.5이상</td>\n",
       "      <td>14천이상 15천미만</td>\n",
       "      <td>9</td>\n",
       "    </tr>\n",
       "    <tr>\n",
       "      <th>251</th>\n",
       "      <td>4.5이상</td>\n",
       "      <td>15천이상 16천미만</td>\n",
       "      <td>7</td>\n",
       "    </tr>\n",
       "    <tr>\n",
       "      <th>252</th>\n",
       "      <td>4.5이상</td>\n",
       "      <td>16천이상 17천미만</td>\n",
       "      <td>3</td>\n",
       "    </tr>\n",
       "    <tr>\n",
       "      <th>253</th>\n",
       "      <td>4.5이상</td>\n",
       "      <td>37천이상 38천미만</td>\n",
       "      <td>1</td>\n",
       "    </tr>\n",
       "    <tr>\n",
       "      <th>254</th>\n",
       "      <td>총합</td>\n",
       "      <td>NaN</td>\n",
       "      <td>106845</td>\n",
       "    </tr>\n",
       "  </tbody>\n",
       "</table>\n",
       "<p>255 rows × 3 columns</p>\n",
       "</div>"
      ],
      "text/plain": [
       "         매연(%)     차량중량(kg)  측정건수(건)\n",
       "0    0이상 0.5미만    1천이상 2천미만     8614\n",
       "1    0이상 0.5미만    2천이상 3천미만    28100\n",
       "2    0이상 0.5미만    3천이상 4천미만    10188\n",
       "3    0이상 0.5미만    4천이상 5천미만        7\n",
       "4    0이상 0.5미만    5천이상 6천미만      601\n",
       "..         ...          ...      ...\n",
       "250      4.5이상  14천이상 15천미만        9\n",
       "251      4.5이상  15천이상 16천미만        7\n",
       "252      4.5이상  16천이상 17천미만        3\n",
       "253      4.5이상  37천이상 38천미만        1\n",
       "254         총합          NaN   106845\n",
       "\n",
       "[255 rows x 3 columns]"
      ]
     },
     "execution_count": 184,
     "metadata": {},
     "output_type": "execute_result"
    }
   ],
   "source": [
    "grp17 = die.groupby(['매연구분인덱스', '매연구분', '총중량구분인덱스', '총중량구분'], dropna=False).agg({'차량번호':'count'}).reset_index()\n",
    "grp17 = grp17.rename(columns={'총중량구분':'차량중량(kg)', '차량번호':'측정건수(건)', '매연구분':'매연(%)'})\n",
    "grp17.loc[grp17.shape[0]] = [grp17['매연구분인덱스'].max() + 1, '총합', np.nan, np.nan, grp17['측정건수(건)'].sum()]\n",
    "grp17 = grp17.drop(['매연구분인덱스', '총중량구분인덱스'], axis=1)\n",
    "grp17"
   ]
  },
  {
   "cell_type": "code",
   "execution_count": 185,
   "metadata": {},
   "outputs": [
    {
     "name": "stderr",
     "output_type": "stream",
     "text": [
      "C:\\Users\\kbjung\\AppData\\Local\\Temp\\ipykernel_15392\\2008584361.py:6: PerformanceWarning: dropping on a non-lexsorted multi-index without a level parameter may impact performance.\n",
      "  grp17 = grp17.drop('매연구분인덱스', axis=1)\n"
     ]
    },
    {
     "data": {
      "text/html": [
       "<div>\n",
       "<style scoped>\n",
       "    .dataframe tbody tr th:only-of-type {\n",
       "        vertical-align: middle;\n",
       "    }\n",
       "\n",
       "    .dataframe tbody tr th {\n",
       "        vertical-align: top;\n",
       "    }\n",
       "\n",
       "    .dataframe thead th {\n",
       "        text-align: right;\n",
       "    }\n",
       "</style>\n",
       "<table border=\"1\" class=\"dataframe\">\n",
       "  <thead>\n",
       "    <tr style=\"text-align: right;\">\n",
       "      <th></th>\n",
       "      <th></th>\n",
       "      <th>0</th>\n",
       "      <th>1</th>\n",
       "      <th>2</th>\n",
       "      <th>3</th>\n",
       "      <th>4</th>\n",
       "      <th>5</th>\n",
       "      <th>6</th>\n",
       "      <th>7</th>\n",
       "      <th>8</th>\n",
       "      <th>9</th>\n",
       "      <th>10</th>\n",
       "    </tr>\n",
       "    <tr>\n",
       "      <th></th>\n",
       "      <th>차량중량(kg)</th>\n",
       "      <th></th>\n",
       "      <th></th>\n",
       "      <th></th>\n",
       "      <th></th>\n",
       "      <th></th>\n",
       "      <th></th>\n",
       "      <th></th>\n",
       "      <th></th>\n",
       "      <th></th>\n",
       "      <th></th>\n",
       "      <th></th>\n",
       "    </tr>\n",
       "  </thead>\n",
       "  <tbody>\n",
       "    <tr>\n",
       "      <th>매연(%)</th>\n",
       "      <th></th>\n",
       "      <td>0이상 0.5미만</td>\n",
       "      <td>0.5이상 1.0미만</td>\n",
       "      <td>1.0이상 1.5미만</td>\n",
       "      <td>1.5이상 2.0미만</td>\n",
       "      <td>2.0이상 2.5미만</td>\n",
       "      <td>2.5이상 3.0미만</td>\n",
       "      <td>3.0이상 3.5미만</td>\n",
       "      <td>3.5이상 4.0미만</td>\n",
       "      <td>4.0이상 4.5미만</td>\n",
       "      <td>4.5이상</td>\n",
       "      <td>총합</td>\n",
       "    </tr>\n",
       "    <tr>\n",
       "      <th rowspan=\"39\" valign=\"top\">차량중량(kg)</th>\n",
       "      <th>1천이상 2천미만</th>\n",
       "      <td>8614.00</td>\n",
       "      <td>5095.00</td>\n",
       "      <td>2075.00</td>\n",
       "      <td>830.00</td>\n",
       "      <td>370.00</td>\n",
       "      <td>198.00</td>\n",
       "      <td>128.00</td>\n",
       "      <td>88.00</td>\n",
       "      <td>70.00</td>\n",
       "      <td>53.00</td>\n",
       "      <td>17521.00</td>\n",
       "    </tr>\n",
       "    <tr>\n",
       "      <th>2천이상 3천미만</th>\n",
       "      <td>28100.00</td>\n",
       "      <td>16714.00</td>\n",
       "      <td>6969.00</td>\n",
       "      <td>2610.00</td>\n",
       "      <td>1303.00</td>\n",
       "      <td>727.00</td>\n",
       "      <td>481.00</td>\n",
       "      <td>396.00</td>\n",
       "      <td>293.00</td>\n",
       "      <td>275.00</td>\n",
       "      <td>57868.00</td>\n",
       "    </tr>\n",
       "    <tr>\n",
       "      <th>3천이상 4천미만</th>\n",
       "      <td>10188.00</td>\n",
       "      <td>6171.00</td>\n",
       "      <td>2378.00</td>\n",
       "      <td>827.00</td>\n",
       "      <td>383.00</td>\n",
       "      <td>232.00</td>\n",
       "      <td>166.00</td>\n",
       "      <td>97.00</td>\n",
       "      <td>95.00</td>\n",
       "      <td>79.00</td>\n",
       "      <td>20616.00</td>\n",
       "    </tr>\n",
       "    <tr>\n",
       "      <th>4천이상 5천미만</th>\n",
       "      <td>7.00</td>\n",
       "      <td>6.00</td>\n",
       "      <td>5.00</td>\n",
       "      <td>4.00</td>\n",
       "      <td>1.00</td>\n",
       "      <td>NaN</td>\n",
       "      <td>NaN</td>\n",
       "      <td>NaN</td>\n",
       "      <td>1.00</td>\n",
       "      <td>1.00</td>\n",
       "      <td>25.00</td>\n",
       "    </tr>\n",
       "    <tr>\n",
       "      <th>5천이상 6천미만</th>\n",
       "      <td>601.00</td>\n",
       "      <td>464.00</td>\n",
       "      <td>215.00</td>\n",
       "      <td>94.00</td>\n",
       "      <td>49.00</td>\n",
       "      <td>24.00</td>\n",
       "      <td>18.00</td>\n",
       "      <td>9.00</td>\n",
       "      <td>7.00</td>\n",
       "      <td>6.00</td>\n",
       "      <td>1487.00</td>\n",
       "    </tr>\n",
       "    <tr>\n",
       "      <th>6천이상 7천미만</th>\n",
       "      <td>287.00</td>\n",
       "      <td>178.00</td>\n",
       "      <td>104.00</td>\n",
       "      <td>43.00</td>\n",
       "      <td>21.00</td>\n",
       "      <td>9.00</td>\n",
       "      <td>9.00</td>\n",
       "      <td>7.00</td>\n",
       "      <td>8.00</td>\n",
       "      <td>8.00</td>\n",
       "      <td>674.00</td>\n",
       "    </tr>\n",
       "    <tr>\n",
       "      <th>7천이상 8천미만</th>\n",
       "      <td>905.00</td>\n",
       "      <td>476.00</td>\n",
       "      <td>193.00</td>\n",
       "      <td>80.00</td>\n",
       "      <td>39.00</td>\n",
       "      <td>17.00</td>\n",
       "      <td>19.00</td>\n",
       "      <td>15.00</td>\n",
       "      <td>9.00</td>\n",
       "      <td>12.00</td>\n",
       "      <td>1765.00</td>\n",
       "    </tr>\n",
       "    <tr>\n",
       "      <th>8천이상 9천미만</th>\n",
       "      <td>203.00</td>\n",
       "      <td>110.00</td>\n",
       "      <td>47.00</td>\n",
       "      <td>16.00</td>\n",
       "      <td>8.00</td>\n",
       "      <td>6.00</td>\n",
       "      <td>2.00</td>\n",
       "      <td>1.00</td>\n",
       "      <td>4.00</td>\n",
       "      <td>5.00</td>\n",
       "      <td>402.00</td>\n",
       "    </tr>\n",
       "    <tr>\n",
       "      <th>9천이상 10천미만</th>\n",
       "      <td>147.00</td>\n",
       "      <td>62.00</td>\n",
       "      <td>36.00</td>\n",
       "      <td>23.00</td>\n",
       "      <td>13.00</td>\n",
       "      <td>7.00</td>\n",
       "      <td>9.00</td>\n",
       "      <td>6.00</td>\n",
       "      <td>7.00</td>\n",
       "      <td>6.00</td>\n",
       "      <td>316.00</td>\n",
       "    </tr>\n",
       "    <tr>\n",
       "      <th>10천이상 11천미만</th>\n",
       "      <td>408.00</td>\n",
       "      <td>198.00</td>\n",
       "      <td>115.00</td>\n",
       "      <td>42.00</td>\n",
       "      <td>25.00</td>\n",
       "      <td>22.00</td>\n",
       "      <td>10.00</td>\n",
       "      <td>4.00</td>\n",
       "      <td>9.00</td>\n",
       "      <td>4.00</td>\n",
       "      <td>837.00</td>\n",
       "    </tr>\n",
       "    <tr>\n",
       "      <th>11천이상 12천미만</th>\n",
       "      <td>453.00</td>\n",
       "      <td>142.00</td>\n",
       "      <td>70.00</td>\n",
       "      <td>25.00</td>\n",
       "      <td>9.00</td>\n",
       "      <td>9.00</td>\n",
       "      <td>7.00</td>\n",
       "      <td>5.00</td>\n",
       "      <td>2.00</td>\n",
       "      <td>3.00</td>\n",
       "      <td>725.00</td>\n",
       "    </tr>\n",
       "    <tr>\n",
       "      <th>12천이상 13천미만</th>\n",
       "      <td>368.00</td>\n",
       "      <td>73.00</td>\n",
       "      <td>42.00</td>\n",
       "      <td>7.00</td>\n",
       "      <td>7.00</td>\n",
       "      <td>7.00</td>\n",
       "      <td>5.00</td>\n",
       "      <td>2.00</td>\n",
       "      <td>3.00</td>\n",
       "      <td>2.00</td>\n",
       "      <td>516.00</td>\n",
       "    </tr>\n",
       "    <tr>\n",
       "      <th>13천이상 14천미만</th>\n",
       "      <td>365.00</td>\n",
       "      <td>145.00</td>\n",
       "      <td>90.00</td>\n",
       "      <td>55.00</td>\n",
       "      <td>33.00</td>\n",
       "      <td>22.00</td>\n",
       "      <td>14.00</td>\n",
       "      <td>15.00</td>\n",
       "      <td>6.00</td>\n",
       "      <td>16.00</td>\n",
       "      <td>761.00</td>\n",
       "    </tr>\n",
       "    <tr>\n",
       "      <th>14천이상 15천미만</th>\n",
       "      <td>363.00</td>\n",
       "      <td>232.00</td>\n",
       "      <td>136.00</td>\n",
       "      <td>66.00</td>\n",
       "      <td>44.00</td>\n",
       "      <td>27.00</td>\n",
       "      <td>22.00</td>\n",
       "      <td>7.00</td>\n",
       "      <td>7.00</td>\n",
       "      <td>9.00</td>\n",
       "      <td>913.00</td>\n",
       "    </tr>\n",
       "    <tr>\n",
       "      <th>15천이상 16천미만</th>\n",
       "      <td>290.00</td>\n",
       "      <td>188.00</td>\n",
       "      <td>139.00</td>\n",
       "      <td>70.00</td>\n",
       "      <td>43.00</td>\n",
       "      <td>29.00</td>\n",
       "      <td>19.00</td>\n",
       "      <td>22.00</td>\n",
       "      <td>11.00</td>\n",
       "      <td>7.00</td>\n",
       "      <td>818.00</td>\n",
       "    </tr>\n",
       "    <tr>\n",
       "      <th>16천이상 17천미만</th>\n",
       "      <td>170.00</td>\n",
       "      <td>23.00</td>\n",
       "      <td>7.00</td>\n",
       "      <td>10.00</td>\n",
       "      <td>5.00</td>\n",
       "      <td>2.00</td>\n",
       "      <td>1.00</td>\n",
       "      <td>1.00</td>\n",
       "      <td>NaN</td>\n",
       "      <td>3.00</td>\n",
       "      <td>222.00</td>\n",
       "    </tr>\n",
       "    <tr>\n",
       "      <th>17천이상 18천미만</th>\n",
       "      <td>46.00</td>\n",
       "      <td>9.00</td>\n",
       "      <td>2.00</td>\n",
       "      <td>4.00</td>\n",
       "      <td>2.00</td>\n",
       "      <td>NaN</td>\n",
       "      <td>NaN</td>\n",
       "      <td>NaN</td>\n",
       "      <td>NaN</td>\n",
       "      <td>NaN</td>\n",
       "      <td>63.00</td>\n",
       "    </tr>\n",
       "    <tr>\n",
       "      <th>18천이상 19천미만</th>\n",
       "      <td>32.00</td>\n",
       "      <td>4.00</td>\n",
       "      <td>3.00</td>\n",
       "      <td>3.00</td>\n",
       "      <td>1.00</td>\n",
       "      <td>NaN</td>\n",
       "      <td>1.00</td>\n",
       "      <td>NaN</td>\n",
       "      <td>NaN</td>\n",
       "      <td>NaN</td>\n",
       "      <td>44.00</td>\n",
       "    </tr>\n",
       "    <tr>\n",
       "      <th>19천이상 20천미만</th>\n",
       "      <td>25.00</td>\n",
       "      <td>4.00</td>\n",
       "      <td>NaN</td>\n",
       "      <td>NaN</td>\n",
       "      <td>NaN</td>\n",
       "      <td>NaN</td>\n",
       "      <td>NaN</td>\n",
       "      <td>NaN</td>\n",
       "      <td>NaN</td>\n",
       "      <td>NaN</td>\n",
       "      <td>29.00</td>\n",
       "    </tr>\n",
       "    <tr>\n",
       "      <th>20천이상 21천미만</th>\n",
       "      <td>11.00</td>\n",
       "      <td>2.00</td>\n",
       "      <td>1.00</td>\n",
       "      <td>NaN</td>\n",
       "      <td>NaN</td>\n",
       "      <td>NaN</td>\n",
       "      <td>NaN</td>\n",
       "      <td>NaN</td>\n",
       "      <td>NaN</td>\n",
       "      <td>NaN</td>\n",
       "      <td>14.00</td>\n",
       "    </tr>\n",
       "    <tr>\n",
       "      <th>21천이상 22천미만</th>\n",
       "      <td>16.00</td>\n",
       "      <td>5.00</td>\n",
       "      <td>NaN</td>\n",
       "      <td>3.00</td>\n",
       "      <td>NaN</td>\n",
       "      <td>NaN</td>\n",
       "      <td>NaN</td>\n",
       "      <td>NaN</td>\n",
       "      <td>2.00</td>\n",
       "      <td>NaN</td>\n",
       "      <td>26.00</td>\n",
       "    </tr>\n",
       "    <tr>\n",
       "      <th>22천이상 23천미만</th>\n",
       "      <td>34.00</td>\n",
       "      <td>4.00</td>\n",
       "      <td>1.00</td>\n",
       "      <td>1.00</td>\n",
       "      <td>NaN</td>\n",
       "      <td>NaN</td>\n",
       "      <td>1.00</td>\n",
       "      <td>NaN</td>\n",
       "      <td>1.00</td>\n",
       "      <td>NaN</td>\n",
       "      <td>42.00</td>\n",
       "    </tr>\n",
       "    <tr>\n",
       "      <th>23천이상 24천미만</th>\n",
       "      <td>13.00</td>\n",
       "      <td>NaN</td>\n",
       "      <td>NaN</td>\n",
       "      <td>1.00</td>\n",
       "      <td>NaN</td>\n",
       "      <td>NaN</td>\n",
       "      <td>NaN</td>\n",
       "      <td>NaN</td>\n",
       "      <td>NaN</td>\n",
       "      <td>NaN</td>\n",
       "      <td>14.00</td>\n",
       "    </tr>\n",
       "    <tr>\n",
       "      <th>24천이상 25천미만</th>\n",
       "      <td>29.00</td>\n",
       "      <td>1.00</td>\n",
       "      <td>1.00</td>\n",
       "      <td>NaN</td>\n",
       "      <td>NaN</td>\n",
       "      <td>NaN</td>\n",
       "      <td>NaN</td>\n",
       "      <td>NaN</td>\n",
       "      <td>NaN</td>\n",
       "      <td>NaN</td>\n",
       "      <td>31.00</td>\n",
       "    </tr>\n",
       "    <tr>\n",
       "      <th>25천이상 26천미만</th>\n",
       "      <td>206.00</td>\n",
       "      <td>16.00</td>\n",
       "      <td>13.00</td>\n",
       "      <td>2.00</td>\n",
       "      <td>4.00</td>\n",
       "      <td>NaN</td>\n",
       "      <td>1.00</td>\n",
       "      <td>2.00</td>\n",
       "      <td>NaN</td>\n",
       "      <td>NaN</td>\n",
       "      <td>244.00</td>\n",
       "    </tr>\n",
       "    <tr>\n",
       "      <th>26천이상 27천미만</th>\n",
       "      <td>79.00</td>\n",
       "      <td>7.00</td>\n",
       "      <td>6.00</td>\n",
       "      <td>1.00</td>\n",
       "      <td>NaN</td>\n",
       "      <td>NaN</td>\n",
       "      <td>NaN</td>\n",
       "      <td>NaN</td>\n",
       "      <td>NaN</td>\n",
       "      <td>NaN</td>\n",
       "      <td>93.00</td>\n",
       "    </tr>\n",
       "    <tr>\n",
       "      <th>27천이상 28천미만</th>\n",
       "      <td>18.00</td>\n",
       "      <td>5.00</td>\n",
       "      <td>1.00</td>\n",
       "      <td>NaN</td>\n",
       "      <td>NaN</td>\n",
       "      <td>NaN</td>\n",
       "      <td>NaN</td>\n",
       "      <td>NaN</td>\n",
       "      <td>NaN</td>\n",
       "      <td>NaN</td>\n",
       "      <td>24.00</td>\n",
       "    </tr>\n",
       "    <tr>\n",
       "      <th>28천이상 29천미만</th>\n",
       "      <td>7.00</td>\n",
       "      <td>NaN</td>\n",
       "      <td>NaN</td>\n",
       "      <td>NaN</td>\n",
       "      <td>NaN</td>\n",
       "      <td>NaN</td>\n",
       "      <td>NaN</td>\n",
       "      <td>NaN</td>\n",
       "      <td>NaN</td>\n",
       "      <td>NaN</td>\n",
       "      <td>7.00</td>\n",
       "    </tr>\n",
       "    <tr>\n",
       "      <th>29천이상 30천미만</th>\n",
       "      <td>13.00</td>\n",
       "      <td>NaN</td>\n",
       "      <td>2.00</td>\n",
       "      <td>NaN</td>\n",
       "      <td>NaN</td>\n",
       "      <td>NaN</td>\n",
       "      <td>NaN</td>\n",
       "      <td>NaN</td>\n",
       "      <td>NaN</td>\n",
       "      <td>NaN</td>\n",
       "      <td>15.00</td>\n",
       "    </tr>\n",
       "    <tr>\n",
       "      <th>30천이상 31천미만</th>\n",
       "      <td>9.00</td>\n",
       "      <td>1.00</td>\n",
       "      <td>2.00</td>\n",
       "      <td>1.00</td>\n",
       "      <td>NaN</td>\n",
       "      <td>NaN</td>\n",
       "      <td>NaN</td>\n",
       "      <td>NaN</td>\n",
       "      <td>NaN</td>\n",
       "      <td>NaN</td>\n",
       "      <td>13.00</td>\n",
       "    </tr>\n",
       "    <tr>\n",
       "      <th>31천이상 32천미만</th>\n",
       "      <td>12.00</td>\n",
       "      <td>NaN</td>\n",
       "      <td>1.00</td>\n",
       "      <td>NaN</td>\n",
       "      <td>1.00</td>\n",
       "      <td>NaN</td>\n",
       "      <td>NaN</td>\n",
       "      <td>NaN</td>\n",
       "      <td>NaN</td>\n",
       "      <td>NaN</td>\n",
       "      <td>14.00</td>\n",
       "    </tr>\n",
       "    <tr>\n",
       "      <th>32천이상 33천미만</th>\n",
       "      <td>4.00</td>\n",
       "      <td>NaN</td>\n",
       "      <td>NaN</td>\n",
       "      <td>NaN</td>\n",
       "      <td>NaN</td>\n",
       "      <td>NaN</td>\n",
       "      <td>NaN</td>\n",
       "      <td>NaN</td>\n",
       "      <td>NaN</td>\n",
       "      <td>NaN</td>\n",
       "      <td>4.00</td>\n",
       "    </tr>\n",
       "    <tr>\n",
       "      <th>33천이상 34천미만</th>\n",
       "      <td>10.00</td>\n",
       "      <td>NaN</td>\n",
       "      <td>NaN</td>\n",
       "      <td>NaN</td>\n",
       "      <td>NaN</td>\n",
       "      <td>NaN</td>\n",
       "      <td>NaN</td>\n",
       "      <td>NaN</td>\n",
       "      <td>NaN</td>\n",
       "      <td>NaN</td>\n",
       "      <td>10.00</td>\n",
       "    </tr>\n",
       "    <tr>\n",
       "      <th>34천이상 35천미만</th>\n",
       "      <td>8.00</td>\n",
       "      <td>2.00</td>\n",
       "      <td>NaN</td>\n",
       "      <td>1.00</td>\n",
       "      <td>NaN</td>\n",
       "      <td>NaN</td>\n",
       "      <td>NaN</td>\n",
       "      <td>1.00</td>\n",
       "      <td>NaN</td>\n",
       "      <td>NaN</td>\n",
       "      <td>12.00</td>\n",
       "    </tr>\n",
       "    <tr>\n",
       "      <th>35천이상 36천미만</th>\n",
       "      <td>63.00</td>\n",
       "      <td>8.00</td>\n",
       "      <td>7.00</td>\n",
       "      <td>3.00</td>\n",
       "      <td>1.00</td>\n",
       "      <td>NaN</td>\n",
       "      <td>1.00</td>\n",
       "      <td>NaN</td>\n",
       "      <td>1.00</td>\n",
       "      <td>NaN</td>\n",
       "      <td>84.00</td>\n",
       "    </tr>\n",
       "    <tr>\n",
       "      <th>36천이상 37천미만</th>\n",
       "      <td>19.00</td>\n",
       "      <td>2.00</td>\n",
       "      <td>1.00</td>\n",
       "      <td>1.00</td>\n",
       "      <td>1.00</td>\n",
       "      <td>2.00</td>\n",
       "      <td>NaN</td>\n",
       "      <td>NaN</td>\n",
       "      <td>NaN</td>\n",
       "      <td>NaN</td>\n",
       "      <td>26.00</td>\n",
       "    </tr>\n",
       "    <tr>\n",
       "      <th>37천이상 38천미만</th>\n",
       "      <td>53.00</td>\n",
       "      <td>5.00</td>\n",
       "      <td>4.00</td>\n",
       "      <td>3.00</td>\n",
       "      <td>1.00</td>\n",
       "      <td>NaN</td>\n",
       "      <td>NaN</td>\n",
       "      <td>NaN</td>\n",
       "      <td>1.00</td>\n",
       "      <td>1.00</td>\n",
       "      <td>68.00</td>\n",
       "    </tr>\n",
       "    <tr>\n",
       "      <th>38천이상 39천미만</th>\n",
       "      <td>188.00</td>\n",
       "      <td>16.00</td>\n",
       "      <td>5.00</td>\n",
       "      <td>2.00</td>\n",
       "      <td>1.00</td>\n",
       "      <td>1.00</td>\n",
       "      <td>1.00</td>\n",
       "      <td>NaN</td>\n",
       "      <td>1.00</td>\n",
       "      <td>NaN</td>\n",
       "      <td>215.00</td>\n",
       "    </tr>\n",
       "    <tr>\n",
       "      <th>39천이상 40천미만</th>\n",
       "      <td>231.00</td>\n",
       "      <td>30.00</td>\n",
       "      <td>11.00</td>\n",
       "      <td>4.00</td>\n",
       "      <td>5.00</td>\n",
       "      <td>1.00</td>\n",
       "      <td>2.00</td>\n",
       "      <td>1.00</td>\n",
       "      <td>2.00</td>\n",
       "      <td>NaN</td>\n",
       "      <td>287.00</td>\n",
       "    </tr>\n",
       "    <tr>\n",
       "      <th>합계</th>\n",
       "      <th></th>\n",
       "      <td>52595.00</td>\n",
       "      <td>30398.00</td>\n",
       "      <td>12682.00</td>\n",
       "      <td>4832.00</td>\n",
       "      <td>2370.00</td>\n",
       "      <td>1342.00</td>\n",
       "      <td>917.00</td>\n",
       "      <td>679.00</td>\n",
       "      <td>540.00</td>\n",
       "      <td>490.00</td>\n",
       "      <td>106845.00</td>\n",
       "    </tr>\n",
       "  </tbody>\n",
       "</table>\n",
       "</div>"
      ],
      "text/plain": [
       "                             0            1            2            3   \\\n",
       "         차량중량(kg)                                                        \n",
       "매연(%)                 0이상 0.5미만  0.5이상 1.0미만  1.0이상 1.5미만  1.5이상 2.0미만   \n",
       "차량중량(kg) 1천이상 2천미만      8614.00      5095.00      2075.00       830.00   \n",
       "         2천이상 3천미만     28100.00     16714.00      6969.00      2610.00   \n",
       "         3천이상 4천미만     10188.00      6171.00      2378.00       827.00   \n",
       "         4천이상 5천미만         7.00         6.00         5.00         4.00   \n",
       "         5천이상 6천미만       601.00       464.00       215.00        94.00   \n",
       "         6천이상 7천미만       287.00       178.00       104.00        43.00   \n",
       "         7천이상 8천미만       905.00       476.00       193.00        80.00   \n",
       "         8천이상 9천미만       203.00       110.00        47.00        16.00   \n",
       "         9천이상 10천미만      147.00        62.00        36.00        23.00   \n",
       "         10천이상 11천미만     408.00       198.00       115.00        42.00   \n",
       "         11천이상 12천미만     453.00       142.00        70.00        25.00   \n",
       "         12천이상 13천미만     368.00        73.00        42.00         7.00   \n",
       "         13천이상 14천미만     365.00       145.00        90.00        55.00   \n",
       "         14천이상 15천미만     363.00       232.00       136.00        66.00   \n",
       "         15천이상 16천미만     290.00       188.00       139.00        70.00   \n",
       "         16천이상 17천미만     170.00        23.00         7.00        10.00   \n",
       "         17천이상 18천미만      46.00         9.00         2.00         4.00   \n",
       "         18천이상 19천미만      32.00         4.00         3.00         3.00   \n",
       "         19천이상 20천미만      25.00         4.00          NaN          NaN   \n",
       "         20천이상 21천미만      11.00         2.00         1.00          NaN   \n",
       "         21천이상 22천미만      16.00         5.00          NaN         3.00   \n",
       "         22천이상 23천미만      34.00         4.00         1.00         1.00   \n",
       "         23천이상 24천미만      13.00          NaN          NaN         1.00   \n",
       "         24천이상 25천미만      29.00         1.00         1.00          NaN   \n",
       "         25천이상 26천미만     206.00        16.00        13.00         2.00   \n",
       "         26천이상 27천미만      79.00         7.00         6.00         1.00   \n",
       "         27천이상 28천미만      18.00         5.00         1.00          NaN   \n",
       "         28천이상 29천미만       7.00          NaN          NaN          NaN   \n",
       "         29천이상 30천미만      13.00          NaN         2.00          NaN   \n",
       "         30천이상 31천미만       9.00         1.00         2.00         1.00   \n",
       "         31천이상 32천미만      12.00          NaN         1.00          NaN   \n",
       "         32천이상 33천미만       4.00          NaN          NaN          NaN   \n",
       "         33천이상 34천미만      10.00          NaN          NaN          NaN   \n",
       "         34천이상 35천미만       8.00         2.00          NaN         1.00   \n",
       "         35천이상 36천미만      63.00         8.00         7.00         3.00   \n",
       "         36천이상 37천미만      19.00         2.00         1.00         1.00   \n",
       "         37천이상 38천미만      53.00         5.00         4.00         3.00   \n",
       "         38천이상 39천미만     188.00        16.00         5.00         2.00   \n",
       "         39천이상 40천미만     231.00        30.00        11.00         4.00   \n",
       "합계                     52595.00     30398.00     12682.00      4832.00   \n",
       "\n",
       "                               4            5            6            7   \\\n",
       "         차량중량(kg)                                                          \n",
       "매연(%)                 2.0이상 2.5미만  2.5이상 3.0미만  3.0이상 3.5미만  3.5이상 4.0미만   \n",
       "차량중량(kg) 1천이상 2천미만         370.00       198.00       128.00        88.00   \n",
       "         2천이상 3천미만        1303.00       727.00       481.00       396.00   \n",
       "         3천이상 4천미만         383.00       232.00       166.00        97.00   \n",
       "         4천이상 5천미만           1.00          NaN          NaN          NaN   \n",
       "         5천이상 6천미만          49.00        24.00        18.00         9.00   \n",
       "         6천이상 7천미만          21.00         9.00         9.00         7.00   \n",
       "         7천이상 8천미만          39.00        17.00        19.00        15.00   \n",
       "         8천이상 9천미만           8.00         6.00         2.00         1.00   \n",
       "         9천이상 10천미만         13.00         7.00         9.00         6.00   \n",
       "         10천이상 11천미만        25.00        22.00        10.00         4.00   \n",
       "         11천이상 12천미만         9.00         9.00         7.00         5.00   \n",
       "         12천이상 13천미만         7.00         7.00         5.00         2.00   \n",
       "         13천이상 14천미만        33.00        22.00        14.00        15.00   \n",
       "         14천이상 15천미만        44.00        27.00        22.00         7.00   \n",
       "         15천이상 16천미만        43.00        29.00        19.00        22.00   \n",
       "         16천이상 17천미만         5.00         2.00         1.00         1.00   \n",
       "         17천이상 18천미만         2.00          NaN          NaN          NaN   \n",
       "         18천이상 19천미만         1.00          NaN         1.00          NaN   \n",
       "         19천이상 20천미만          NaN          NaN          NaN          NaN   \n",
       "         20천이상 21천미만          NaN          NaN          NaN          NaN   \n",
       "         21천이상 22천미만          NaN          NaN          NaN          NaN   \n",
       "         22천이상 23천미만          NaN          NaN         1.00          NaN   \n",
       "         23천이상 24천미만          NaN          NaN          NaN          NaN   \n",
       "         24천이상 25천미만          NaN          NaN          NaN          NaN   \n",
       "         25천이상 26천미만         4.00          NaN         1.00         2.00   \n",
       "         26천이상 27천미만          NaN          NaN          NaN          NaN   \n",
       "         27천이상 28천미만          NaN          NaN          NaN          NaN   \n",
       "         28천이상 29천미만          NaN          NaN          NaN          NaN   \n",
       "         29천이상 30천미만          NaN          NaN          NaN          NaN   \n",
       "         30천이상 31천미만          NaN          NaN          NaN          NaN   \n",
       "         31천이상 32천미만         1.00          NaN          NaN          NaN   \n",
       "         32천이상 33천미만          NaN          NaN          NaN          NaN   \n",
       "         33천이상 34천미만          NaN          NaN          NaN          NaN   \n",
       "         34천이상 35천미만          NaN          NaN          NaN         1.00   \n",
       "         35천이상 36천미만         1.00          NaN         1.00          NaN   \n",
       "         36천이상 37천미만         1.00         2.00          NaN          NaN   \n",
       "         37천이상 38천미만         1.00          NaN          NaN          NaN   \n",
       "         38천이상 39천미만         1.00         1.00         1.00          NaN   \n",
       "         39천이상 40천미만         5.00         1.00         2.00         1.00   \n",
       "합계                        2370.00      1342.00       917.00       679.00   \n",
       "\n",
       "                               8      9         10  \n",
       "         차량중량(kg)                                   \n",
       "매연(%)                 4.0이상 4.5미만  4.5이상        총합  \n",
       "차량중량(kg) 1천이상 2천미만          70.00  53.00  17521.00  \n",
       "         2천이상 3천미만         293.00 275.00  57868.00  \n",
       "         3천이상 4천미만          95.00  79.00  20616.00  \n",
       "         4천이상 5천미만           1.00   1.00     25.00  \n",
       "         5천이상 6천미만           7.00   6.00   1487.00  \n",
       "         6천이상 7천미만           8.00   8.00    674.00  \n",
       "         7천이상 8천미만           9.00  12.00   1765.00  \n",
       "         8천이상 9천미만           4.00   5.00    402.00  \n",
       "         9천이상 10천미만          7.00   6.00    316.00  \n",
       "         10천이상 11천미만         9.00   4.00    837.00  \n",
       "         11천이상 12천미만         2.00   3.00    725.00  \n",
       "         12천이상 13천미만         3.00   2.00    516.00  \n",
       "         13천이상 14천미만         6.00  16.00    761.00  \n",
       "         14천이상 15천미만         7.00   9.00    913.00  \n",
       "         15천이상 16천미만        11.00   7.00    818.00  \n",
       "         16천이상 17천미만          NaN   3.00    222.00  \n",
       "         17천이상 18천미만          NaN    NaN     63.00  \n",
       "         18천이상 19천미만          NaN    NaN     44.00  \n",
       "         19천이상 20천미만          NaN    NaN     29.00  \n",
       "         20천이상 21천미만          NaN    NaN     14.00  \n",
       "         21천이상 22천미만         2.00    NaN     26.00  \n",
       "         22천이상 23천미만         1.00    NaN     42.00  \n",
       "         23천이상 24천미만          NaN    NaN     14.00  \n",
       "         24천이상 25천미만          NaN    NaN     31.00  \n",
       "         25천이상 26천미만          NaN    NaN    244.00  \n",
       "         26천이상 27천미만          NaN    NaN     93.00  \n",
       "         27천이상 28천미만          NaN    NaN     24.00  \n",
       "         28천이상 29천미만          NaN    NaN      7.00  \n",
       "         29천이상 30천미만          NaN    NaN     15.00  \n",
       "         30천이상 31천미만          NaN    NaN     13.00  \n",
       "         31천이상 32천미만          NaN    NaN     14.00  \n",
       "         32천이상 33천미만          NaN    NaN      4.00  \n",
       "         33천이상 34천미만          NaN    NaN     10.00  \n",
       "         34천이상 35천미만          NaN    NaN     12.00  \n",
       "         35천이상 36천미만         1.00    NaN     84.00  \n",
       "         36천이상 37천미만          NaN    NaN     26.00  \n",
       "         37천이상 38천미만         1.00   1.00     68.00  \n",
       "         38천이상 39천미만         1.00    NaN    215.00  \n",
       "         39천이상 40천미만         2.00    NaN    287.00  \n",
       "합계                         540.00 490.00 106845.00  "
      ]
     },
     "execution_count": 185,
     "metadata": {},
     "output_type": "execute_result"
    }
   ],
   "source": [
    "grp17 = die.groupby(['매연구분인덱스', '매연구분', '총중량구분인덱스', '총중량구분'], dropna=False).agg({'차량번호':'count'}).unstack(['총중량구분인덱스', '총중량구분']).reset_index()\n",
    "grp17 = grp17.rename(columns={'매연구분':'매연(%)', '차량번호':'차량중량(kg)'})\n",
    "grp17 = grp17.rename_axis(columns={'총중량구분':'차량중량(kg)'})\n",
    "grp17['합계'] = grp17.iloc[:, 2:].sum(axis=1)\n",
    "grp17.loc[grp17.shape[0]] = [grp17['매연구분인덱스'].max() + 1, '총합'] + grp17.iloc[:, 2:].sum().to_list()\n",
    "grp17 = grp17.drop('매연구분인덱스', axis=1)\n",
    "grp17.columns = grp17.columns.droplevel(1)\n",
    "grp17 = grp17.T\n",
    "grp17"
   ]
  },
  {
   "cell_type": "markdown",
   "metadata": {},
   "source": [
    "### 18\\. RSD 매연 농도, 종합검사 매연허용기준별 데이터 수량\n",
    "- 매연허용치 8미만 제외\n",
    "- 4륜 자동차의 경유 검사장비가 없어서 정기검사(무부하)만 가능함으로 정기검사 기준이 기록됨.(2023.09.20, 최이사님)"
   ]
  },
  {
   "cell_type": "code",
   "execution_count": 186,
   "metadata": {},
   "outputs": [
    {
     "data": {
      "text/plain": [
       "(61349, 55)"
      ]
     },
     "execution_count": 186,
     "metadata": {},
     "output_type": "execute_result"
    }
   ],
   "source": [
    "die[die['무부하매연허용치1'] >= 8].shape"
   ]
  },
  {
   "cell_type": "code",
   "execution_count": 187,
   "metadata": {},
   "outputs": [
    {
     "data": {
      "text/html": [
       "<div>\n",
       "<style scoped>\n",
       "    .dataframe tbody tr th:only-of-type {\n",
       "        vertical-align: middle;\n",
       "    }\n",
       "\n",
       "    .dataframe tbody tr th {\n",
       "        vertical-align: top;\n",
       "    }\n",
       "\n",
       "    .dataframe thead th {\n",
       "        text-align: right;\n",
       "    }\n",
       "</style>\n",
       "<table border=\"1\" class=\"dataframe\">\n",
       "  <thead>\n",
       "    <tr style=\"text-align: right;\">\n",
       "      <th></th>\n",
       "      <th>매연(%)</th>\n",
       "      <th>매연허용기준(%)</th>\n",
       "      <th>측정건수(건)</th>\n",
       "    </tr>\n",
       "  </thead>\n",
       "  <tbody>\n",
       "    <tr>\n",
       "      <th>0</th>\n",
       "      <td>0이상 0.5미만</td>\n",
       "      <td>8.00</td>\n",
       "      <td>8809</td>\n",
       "    </tr>\n",
       "    <tr>\n",
       "      <th>1</th>\n",
       "      <td>0이상 0.5미만</td>\n",
       "      <td>10.00</td>\n",
       "      <td>692</td>\n",
       "    </tr>\n",
       "    <tr>\n",
       "      <th>2</th>\n",
       "      <td>0이상 0.5미만</td>\n",
       "      <td>15.00</td>\n",
       "      <td>16005</td>\n",
       "    </tr>\n",
       "    <tr>\n",
       "      <th>3</th>\n",
       "      <td>0이상 0.5미만</td>\n",
       "      <td>20.00</td>\n",
       "      <td>1905</td>\n",
       "    </tr>\n",
       "    <tr>\n",
       "      <th>4</th>\n",
       "      <td>0이상 0.5미만</td>\n",
       "      <td>25.00</td>\n",
       "      <td>1830</td>\n",
       "    </tr>\n",
       "    <tr>\n",
       "      <th>...</th>\n",
       "      <td>...</td>\n",
       "      <td>...</td>\n",
       "      <td>...</td>\n",
       "    </tr>\n",
       "    <tr>\n",
       "      <th>68</th>\n",
       "      <td>4.5이상</td>\n",
       "      <td>15.00</td>\n",
       "      <td>180</td>\n",
       "    </tr>\n",
       "    <tr>\n",
       "      <th>69</th>\n",
       "      <td>4.5이상</td>\n",
       "      <td>20.00</td>\n",
       "      <td>24</td>\n",
       "    </tr>\n",
       "    <tr>\n",
       "      <th>70</th>\n",
       "      <td>4.5이상</td>\n",
       "      <td>25.00</td>\n",
       "      <td>31</td>\n",
       "    </tr>\n",
       "    <tr>\n",
       "      <th>71</th>\n",
       "      <td>4.5이상</td>\n",
       "      <td>50.00</td>\n",
       "      <td>1</td>\n",
       "    </tr>\n",
       "    <tr>\n",
       "      <th>72</th>\n",
       "      <td>총계</td>\n",
       "      <td>NaN</td>\n",
       "      <td>61349</td>\n",
       "    </tr>\n",
       "  </tbody>\n",
       "</table>\n",
       "<p>73 rows × 3 columns</p>\n",
       "</div>"
      ],
      "text/plain": [
       "        매연(%)  매연허용기준(%)  측정건수(건)\n",
       "0   0이상 0.5미만       8.00     8809\n",
       "1   0이상 0.5미만      10.00      692\n",
       "2   0이상 0.5미만      15.00    16005\n",
       "3   0이상 0.5미만      20.00     1905\n",
       "4   0이상 0.5미만      25.00     1830\n",
       "..        ...        ...      ...\n",
       "68      4.5이상      15.00      180\n",
       "69      4.5이상      20.00       24\n",
       "70      4.5이상      25.00       31\n",
       "71      4.5이상      50.00        1\n",
       "72         총계        NaN    61349\n",
       "\n",
       "[73 rows x 3 columns]"
      ]
     },
     "execution_count": 187,
     "metadata": {},
     "output_type": "execute_result"
    }
   ],
   "source": [
    "grp18 = die[die['무부하매연허용치1'] >= 8].groupby(['매연구분인덱스', '매연구분', '무부하매연허용치1'], dropna=False).agg({'차량번호':'count'}).reset_index()\n",
    "grp18 = grp18.rename(columns={'무부하매연허용치1':'매연허용기준(%)', '차량번호':'측정건수(건)', '매연구분':'매연(%)'})\n",
    "grp18.loc[grp18.shape[0]] = [grp18['매연구분인덱스'].max() + 1, '총계', np.nan, grp18['측정건수(건)'].sum()]\n",
    "grp18 = grp18.drop('매연구분인덱스', axis=1)\n",
    "grp18"
   ]
  },
  {
   "cell_type": "code",
   "execution_count": 188,
   "metadata": {},
   "outputs": [
    {
     "name": "stderr",
     "output_type": "stream",
     "text": [
      "C:\\Users\\kbjung\\AppData\\Local\\Temp\\ipykernel_15392\\1981776434.py:6: PerformanceWarning: dropping on a non-lexsorted multi-index without a level parameter may impact performance.\n",
      "  grp18 = grp18.drop('매연구분인덱스', axis=1)\n"
     ]
    },
    {
     "data": {
      "text/html": [
       "<div>\n",
       "<style scoped>\n",
       "    .dataframe tbody tr th:only-of-type {\n",
       "        vertical-align: middle;\n",
       "    }\n",
       "\n",
       "    .dataframe tbody tr th {\n",
       "        vertical-align: top;\n",
       "    }\n",
       "\n",
       "    .dataframe thead tr th {\n",
       "        text-align: left;\n",
       "    }\n",
       "</style>\n",
       "<table border=\"1\" class=\"dataframe\">\n",
       "  <thead>\n",
       "    <tr>\n",
       "      <th></th>\n",
       "      <th>매연(%)</th>\n",
       "      <th colspan=\"10\" halign=\"left\">매연허용기준(%)</th>\n",
       "      <th>합계</th>\n",
       "    </tr>\n",
       "    <tr>\n",
       "      <th>매연허용기준(%)</th>\n",
       "      <th></th>\n",
       "      <th>8.0</th>\n",
       "      <th>10.0</th>\n",
       "      <th>15.0</th>\n",
       "      <th>20.0</th>\n",
       "      <th>25.0</th>\n",
       "      <th>30.0</th>\n",
       "      <th>35.0</th>\n",
       "      <th>40.0</th>\n",
       "      <th>45.0</th>\n",
       "      <th>50.0</th>\n",
       "      <th></th>\n",
       "    </tr>\n",
       "  </thead>\n",
       "  <tbody>\n",
       "    <tr>\n",
       "      <th>0</th>\n",
       "      <td>0이상 0.5미만</td>\n",
       "      <td>8809.00</td>\n",
       "      <td>692.00</td>\n",
       "      <td>16005.00</td>\n",
       "      <td>1905.00</td>\n",
       "      <td>1830.00</td>\n",
       "      <td>7.00</td>\n",
       "      <td>1.00</td>\n",
       "      <td>9.00</td>\n",
       "      <td>16.00</td>\n",
       "      <td>1.00</td>\n",
       "      <td>29275.00</td>\n",
       "    </tr>\n",
       "    <tr>\n",
       "      <th>1</th>\n",
       "      <td>0.5이상 1.0미만</td>\n",
       "      <td>5263.00</td>\n",
       "      <td>358.00</td>\n",
       "      <td>9898.00</td>\n",
       "      <td>1010.00</td>\n",
       "      <td>1123.00</td>\n",
       "      <td>2.00</td>\n",
       "      <td>NaN</td>\n",
       "      <td>19.00</td>\n",
       "      <td>12.00</td>\n",
       "      <td>1.00</td>\n",
       "      <td>17686.00</td>\n",
       "    </tr>\n",
       "    <tr>\n",
       "      <th>2</th>\n",
       "      <td>1.0이상 1.5미만</td>\n",
       "      <td>2061.00</td>\n",
       "      <td>146.00</td>\n",
       "      <td>4331.00</td>\n",
       "      <td>519.00</td>\n",
       "      <td>538.00</td>\n",
       "      <td>3.00</td>\n",
       "      <td>NaN</td>\n",
       "      <td>8.00</td>\n",
       "      <td>7.00</td>\n",
       "      <td>NaN</td>\n",
       "      <td>7613.00</td>\n",
       "    </tr>\n",
       "    <tr>\n",
       "      <th>3</th>\n",
       "      <td>1.5이상 2.0미만</td>\n",
       "      <td>733.00</td>\n",
       "      <td>53.00</td>\n",
       "      <td>1658.00</td>\n",
       "      <td>218.00</td>\n",
       "      <td>228.00</td>\n",
       "      <td>3.00</td>\n",
       "      <td>NaN</td>\n",
       "      <td>7.00</td>\n",
       "      <td>3.00</td>\n",
       "      <td>1.00</td>\n",
       "      <td>2904.00</td>\n",
       "    </tr>\n",
       "    <tr>\n",
       "      <th>4</th>\n",
       "      <td>2.0이상 2.5미만</td>\n",
       "      <td>350.00</td>\n",
       "      <td>31.00</td>\n",
       "      <td>860.00</td>\n",
       "      <td>112.00</td>\n",
       "      <td>104.00</td>\n",
       "      <td>NaN</td>\n",
       "      <td>NaN</td>\n",
       "      <td>2.00</td>\n",
       "      <td>NaN</td>\n",
       "      <td>NaN</td>\n",
       "      <td>1459.00</td>\n",
       "    </tr>\n",
       "    <tr>\n",
       "      <th>5</th>\n",
       "      <td>2.5이상 3.0미만</td>\n",
       "      <td>213.00</td>\n",
       "      <td>10.00</td>\n",
       "      <td>468.00</td>\n",
       "      <td>56.00</td>\n",
       "      <td>57.00</td>\n",
       "      <td>NaN</td>\n",
       "      <td>NaN</td>\n",
       "      <td>2.00</td>\n",
       "      <td>1.00</td>\n",
       "      <td>NaN</td>\n",
       "      <td>807.00</td>\n",
       "    </tr>\n",
       "    <tr>\n",
       "      <th>6</th>\n",
       "      <td>3.0이상 3.5미만</td>\n",
       "      <td>139.00</td>\n",
       "      <td>11.00</td>\n",
       "      <td>316.00</td>\n",
       "      <td>44.00</td>\n",
       "      <td>52.00</td>\n",
       "      <td>NaN</td>\n",
       "      <td>NaN</td>\n",
       "      <td>NaN</td>\n",
       "      <td>1.00</td>\n",
       "      <td>NaN</td>\n",
       "      <td>563.00</td>\n",
       "    </tr>\n",
       "    <tr>\n",
       "      <th>7</th>\n",
       "      <td>3.5이상 4.0미만</td>\n",
       "      <td>93.00</td>\n",
       "      <td>5.00</td>\n",
       "      <td>234.00</td>\n",
       "      <td>33.00</td>\n",
       "      <td>29.00</td>\n",
       "      <td>NaN</td>\n",
       "      <td>NaN</td>\n",
       "      <td>NaN</td>\n",
       "      <td>1.00</td>\n",
       "      <td>NaN</td>\n",
       "      <td>395.00</td>\n",
       "    </tr>\n",
       "    <tr>\n",
       "      <th>8</th>\n",
       "      <td>4.0이상 4.5미만</td>\n",
       "      <td>67.00</td>\n",
       "      <td>4.00</td>\n",
       "      <td>205.00</td>\n",
       "      <td>31.00</td>\n",
       "      <td>34.00</td>\n",
       "      <td>NaN</td>\n",
       "      <td>NaN</td>\n",
       "      <td>NaN</td>\n",
       "      <td>NaN</td>\n",
       "      <td>NaN</td>\n",
       "      <td>341.00</td>\n",
       "    </tr>\n",
       "    <tr>\n",
       "      <th>9</th>\n",
       "      <td>4.5이상</td>\n",
       "      <td>61.00</td>\n",
       "      <td>9.00</td>\n",
       "      <td>180.00</td>\n",
       "      <td>24.00</td>\n",
       "      <td>31.00</td>\n",
       "      <td>NaN</td>\n",
       "      <td>NaN</td>\n",
       "      <td>NaN</td>\n",
       "      <td>NaN</td>\n",
       "      <td>1.00</td>\n",
       "      <td>306.00</td>\n",
       "    </tr>\n",
       "    <tr>\n",
       "      <th>10</th>\n",
       "      <td>총합</td>\n",
       "      <td>17789.00</td>\n",
       "      <td>1319.00</td>\n",
       "      <td>34155.00</td>\n",
       "      <td>3952.00</td>\n",
       "      <td>4026.00</td>\n",
       "      <td>15.00</td>\n",
       "      <td>1.00</td>\n",
       "      <td>47.00</td>\n",
       "      <td>41.00</td>\n",
       "      <td>4.00</td>\n",
       "      <td>61349.00</td>\n",
       "    </tr>\n",
       "  </tbody>\n",
       "</table>\n",
       "</div>"
      ],
      "text/plain": [
       "                 매연(%) 매연허용기준(%)                                              \\\n",
       "매연허용기준(%)                    8.0    10.0     15.0    20.0    25.0  30.0 35.0   \n",
       "0            0이상 0.5미만   8809.00  692.00 16005.00 1905.00 1830.00  7.00 1.00   \n",
       "1          0.5이상 1.0미만   5263.00  358.00  9898.00 1010.00 1123.00  2.00  NaN   \n",
       "2          1.0이상 1.5미만   2061.00  146.00  4331.00  519.00  538.00  3.00  NaN   \n",
       "3          1.5이상 2.0미만    733.00   53.00  1658.00  218.00  228.00  3.00  NaN   \n",
       "4          2.0이상 2.5미만    350.00   31.00   860.00  112.00  104.00   NaN  NaN   \n",
       "5          2.5이상 3.0미만    213.00   10.00   468.00   56.00   57.00   NaN  NaN   \n",
       "6          3.0이상 3.5미만    139.00   11.00   316.00   44.00   52.00   NaN  NaN   \n",
       "7          3.5이상 4.0미만     93.00    5.00   234.00   33.00   29.00   NaN  NaN   \n",
       "8          4.0이상 4.5미만     67.00    4.00   205.00   31.00   34.00   NaN  NaN   \n",
       "9                4.5이상     61.00    9.00   180.00   24.00   31.00   NaN  NaN   \n",
       "10                  총합  17789.00 1319.00 34155.00 3952.00 4026.00 15.00 1.00   \n",
       "\n",
       "                                 합계  \n",
       "매연허용기준(%)  40.0  45.0 50.0           \n",
       "0          9.00 16.00 1.00 29275.00  \n",
       "1         19.00 12.00 1.00 17686.00  \n",
       "2          8.00  7.00  NaN  7613.00  \n",
       "3          7.00  3.00 1.00  2904.00  \n",
       "4          2.00   NaN  NaN  1459.00  \n",
       "5          2.00  1.00  NaN   807.00  \n",
       "6           NaN  1.00  NaN   563.00  \n",
       "7           NaN  1.00  NaN   395.00  \n",
       "8           NaN   NaN  NaN   341.00  \n",
       "9           NaN   NaN 1.00   306.00  \n",
       "10        47.00 41.00 4.00 61349.00  "
      ]
     },
     "execution_count": 188,
     "metadata": {},
     "output_type": "execute_result"
    }
   ],
   "source": [
    "grp18 = die[die['무부하매연허용치1'] >= 8].groupby(['매연구분인덱스', '매연구분', '무부하매연허용치1'], dropna=False).agg({'차량번호':'count'}).unstack('무부하매연허용치1').reset_index()\n",
    "grp18 = grp18.rename(columns={'매연구분':'매연(%)', '차량번호':'매연허용기준(%)'})\n",
    "grp18 = grp18.rename_axis(columns={'무부하매연허용치1':'매연허용기준(%)'})\n",
    "grp18['합계'] = grp18.iloc[:, 2:].sum(axis=1)\n",
    "grp18.loc[grp18.shape[0]] = [grp18['매연구분인덱스'].max() + 1, '총합'] + grp18.iloc[:, 2:].sum().to_list()\n",
    "grp18 = grp18.drop('매연구분인덱스', axis=1)\n",
    "grp18"
   ]
  },
  {
   "cell_type": "markdown",
   "metadata": {},
   "source": [
    "### 19\\. RSD 매연 농도, 종합검사 NOx허용기준별 데이터 수량"
   ]
  },
  {
   "cell_type": "code",
   "execution_count": 189,
   "metadata": {},
   "outputs": [
    {
     "data": {
      "text/html": [
       "<div>\n",
       "<style scoped>\n",
       "    .dataframe tbody tr th:only-of-type {\n",
       "        vertical-align: middle;\n",
       "    }\n",
       "\n",
       "    .dataframe tbody tr th {\n",
       "        vertical-align: top;\n",
       "    }\n",
       "\n",
       "    .dataframe thead th {\n",
       "        text-align: right;\n",
       "    }\n",
       "</style>\n",
       "<table border=\"1\" class=\"dataframe\">\n",
       "  <thead>\n",
       "    <tr style=\"text-align: right;\">\n",
       "      <th></th>\n",
       "      <th>매연(%)</th>\n",
       "      <th>NOx허용기준(ppm)</th>\n",
       "      <th>측정건수(건)</th>\n",
       "    </tr>\n",
       "  </thead>\n",
       "  <tbody>\n",
       "    <tr>\n",
       "      <th>0</th>\n",
       "      <td>0이상 0.5미만</td>\n",
       "      <td>0.00</td>\n",
       "      <td>10336</td>\n",
       "    </tr>\n",
       "    <tr>\n",
       "      <th>1</th>\n",
       "      <td>0이상 0.5미만</td>\n",
       "      <td>8.00</td>\n",
       "      <td>645</td>\n",
       "    </tr>\n",
       "    <tr>\n",
       "      <th>2</th>\n",
       "      <td>0이상 0.5미만</td>\n",
       "      <td>15.00</td>\n",
       "      <td>2184</td>\n",
       "    </tr>\n",
       "    <tr>\n",
       "      <th>3</th>\n",
       "      <td>0이상 0.5미만</td>\n",
       "      <td>20.00</td>\n",
       "      <td>383</td>\n",
       "    </tr>\n",
       "    <tr>\n",
       "      <th>4</th>\n",
       "      <td>0이상 0.5미만</td>\n",
       "      <td>25.00</td>\n",
       "      <td>39</td>\n",
       "    </tr>\n",
       "    <tr>\n",
       "      <th>...</th>\n",
       "      <td>...</td>\n",
       "      <td>...</td>\n",
       "      <td>...</td>\n",
       "    </tr>\n",
       "    <tr>\n",
       "      <th>78</th>\n",
       "      <td>4.5이상</td>\n",
       "      <td>20.00</td>\n",
       "      <td>8</td>\n",
       "    </tr>\n",
       "    <tr>\n",
       "      <th>79</th>\n",
       "      <td>4.5이상</td>\n",
       "      <td>25.00</td>\n",
       "      <td>2</td>\n",
       "    </tr>\n",
       "    <tr>\n",
       "      <th>80</th>\n",
       "      <td>4.5이상</td>\n",
       "      <td>50.00</td>\n",
       "      <td>1</td>\n",
       "    </tr>\n",
       "    <tr>\n",
       "      <th>81</th>\n",
       "      <td>4.5이상</td>\n",
       "      <td>NaN</td>\n",
       "      <td>327</td>\n",
       "    </tr>\n",
       "    <tr>\n",
       "      <th>82</th>\n",
       "      <td>총합</td>\n",
       "      <td>NaN</td>\n",
       "      <td>106845</td>\n",
       "    </tr>\n",
       "  </tbody>\n",
       "</table>\n",
       "<p>83 rows × 3 columns</p>\n",
       "</div>"
      ],
      "text/plain": [
       "        매연(%)  NOx허용기준(ppm)  측정건수(건)\n",
       "0   0이상 0.5미만          0.00    10336\n",
       "1   0이상 0.5미만          8.00      645\n",
       "2   0이상 0.5미만         15.00     2184\n",
       "3   0이상 0.5미만         20.00      383\n",
       "4   0이상 0.5미만         25.00       39\n",
       "..        ...           ...      ...\n",
       "78      4.5이상         20.00        8\n",
       "79      4.5이상         25.00        2\n",
       "80      4.5이상         50.00        1\n",
       "81      4.5이상           NaN      327\n",
       "82         총합           NaN   106845\n",
       "\n",
       "[83 rows x 3 columns]"
      ]
     },
     "execution_count": 189,
     "metadata": {},
     "output_type": "execute_result"
    }
   ],
   "source": [
    "grp19 = die.groupby(['매연구분인덱스', '매연구분', '무부하매연허용치3'], dropna=False).agg({'차량번호':'count'}).reset_index()\n",
    "grp19 = grp19.rename(columns={'무부하매연허용치3':'NOx허용기준(ppm)', '차량번호':'측정건수(건)', '매연구분':'매연(%)'})\n",
    "grp19.loc[grp19.shape[0]] = [grp19['매연구분인덱스'].max() + 1, '총합', np.nan, grp19['측정건수(건)'].sum()]\n",
    "grp19 = grp19.drop('매연구분인덱스', axis=1)\n",
    "grp19"
   ]
  },
  {
   "cell_type": "code",
   "execution_count": 190,
   "metadata": {},
   "outputs": [
    {
     "name": "stderr",
     "output_type": "stream",
     "text": [
      "C:\\Users\\kbjung\\AppData\\Local\\Temp\\ipykernel_15392\\2668315297.py:6: PerformanceWarning: dropping on a non-lexsorted multi-index without a level parameter may impact performance.\n",
      "  grp19 = grp19.drop('매연구분인덱스', axis=1)\n"
     ]
    },
    {
     "data": {
      "text/html": [
       "<div>\n",
       "<style scoped>\n",
       "    .dataframe tbody tr th:only-of-type {\n",
       "        vertical-align: middle;\n",
       "    }\n",
       "\n",
       "    .dataframe tbody tr th {\n",
       "        vertical-align: top;\n",
       "    }\n",
       "\n",
       "    .dataframe thead tr th {\n",
       "        text-align: left;\n",
       "    }\n",
       "</style>\n",
       "<table border=\"1\" class=\"dataframe\">\n",
       "  <thead>\n",
       "    <tr>\n",
       "      <th></th>\n",
       "      <th>매연(%)</th>\n",
       "      <th colspan=\"15\" halign=\"left\">NOx허용기준(ppm)</th>\n",
       "      <th>합계</th>\n",
       "    </tr>\n",
       "    <tr>\n",
       "      <th>NOx허용기준(ppm)</th>\n",
       "      <th></th>\n",
       "      <th>0.0</th>\n",
       "      <th>8.0</th>\n",
       "      <th>15.0</th>\n",
       "      <th>20.0</th>\n",
       "      <th>25.0</th>\n",
       "      <th>30.0</th>\n",
       "      <th>50.0</th>\n",
       "      <th>580.0</th>\n",
       "      <th>700.0</th>\n",
       "      <th>1200.0</th>\n",
       "      <th>1240.0</th>\n",
       "      <th>1830.0</th>\n",
       "      <th>2070.0</th>\n",
       "      <th>2340.0</th>\n",
       "      <th>NaN</th>\n",
       "      <th></th>\n",
       "    </tr>\n",
       "  </thead>\n",
       "  <tbody>\n",
       "    <tr>\n",
       "      <th>0</th>\n",
       "      <td>0이상 0.5미만</td>\n",
       "      <td>10336.00</td>\n",
       "      <td>645.00</td>\n",
       "      <td>2184.00</td>\n",
       "      <td>383.00</td>\n",
       "      <td>39.00</td>\n",
       "      <td>7.00</td>\n",
       "      <td>1.00</td>\n",
       "      <td>NaN</td>\n",
       "      <td>3.00</td>\n",
       "      <td>3.00</td>\n",
       "      <td>NaN</td>\n",
       "      <td>1.00</td>\n",
       "      <td>2.00</td>\n",
       "      <td>NaN</td>\n",
       "      <td>38991.00</td>\n",
       "      <td>52595.00</td>\n",
       "    </tr>\n",
       "    <tr>\n",
       "      <th>1</th>\n",
       "      <td>0.5이상 1.0미만</td>\n",
       "      <td>6487.00</td>\n",
       "      <td>345.00</td>\n",
       "      <td>877.00</td>\n",
       "      <td>156.00</td>\n",
       "      <td>8.00</td>\n",
       "      <td>2.00</td>\n",
       "      <td>1.00</td>\n",
       "      <td>1.00</td>\n",
       "      <td>4.00</td>\n",
       "      <td>NaN</td>\n",
       "      <td>NaN</td>\n",
       "      <td>2.00</td>\n",
       "      <td>NaN</td>\n",
       "      <td>1.00</td>\n",
       "      <td>22514.00</td>\n",
       "      <td>30398.00</td>\n",
       "    </tr>\n",
       "    <tr>\n",
       "      <th>2</th>\n",
       "      <td>1.0이상 1.5미만</td>\n",
       "      <td>2606.00</td>\n",
       "      <td>188.00</td>\n",
       "      <td>481.00</td>\n",
       "      <td>96.00</td>\n",
       "      <td>4.00</td>\n",
       "      <td>3.00</td>\n",
       "      <td>NaN</td>\n",
       "      <td>NaN</td>\n",
       "      <td>1.00</td>\n",
       "      <td>NaN</td>\n",
       "      <td>1.00</td>\n",
       "      <td>1.00</td>\n",
       "      <td>NaN</td>\n",
       "      <td>1.00</td>\n",
       "      <td>9300.00</td>\n",
       "      <td>12682.00</td>\n",
       "    </tr>\n",
       "    <tr>\n",
       "      <th>3</th>\n",
       "      <td>1.5이상 2.0미만</td>\n",
       "      <td>967.00</td>\n",
       "      <td>86.00</td>\n",
       "      <td>200.00</td>\n",
       "      <td>58.00</td>\n",
       "      <td>6.00</td>\n",
       "      <td>3.00</td>\n",
       "      <td>1.00</td>\n",
       "      <td>NaN</td>\n",
       "      <td>NaN</td>\n",
       "      <td>NaN</td>\n",
       "      <td>NaN</td>\n",
       "      <td>NaN</td>\n",
       "      <td>NaN</td>\n",
       "      <td>1.00</td>\n",
       "      <td>3510.00</td>\n",
       "      <td>4832.00</td>\n",
       "    </tr>\n",
       "    <tr>\n",
       "      <th>4</th>\n",
       "      <td>2.0이상 2.5미만</td>\n",
       "      <td>521.00</td>\n",
       "      <td>43.00</td>\n",
       "      <td>135.00</td>\n",
       "      <td>23.00</td>\n",
       "      <td>1.00</td>\n",
       "      <td>NaN</td>\n",
       "      <td>NaN</td>\n",
       "      <td>NaN</td>\n",
       "      <td>NaN</td>\n",
       "      <td>NaN</td>\n",
       "      <td>NaN</td>\n",
       "      <td>NaN</td>\n",
       "      <td>NaN</td>\n",
       "      <td>1.00</td>\n",
       "      <td>1646.00</td>\n",
       "      <td>2370.00</td>\n",
       "    </tr>\n",
       "    <tr>\n",
       "      <th>5</th>\n",
       "      <td>2.5이상 3.0미만</td>\n",
       "      <td>272.00</td>\n",
       "      <td>34.00</td>\n",
       "      <td>73.00</td>\n",
       "      <td>9.00</td>\n",
       "      <td>3.00</td>\n",
       "      <td>NaN</td>\n",
       "      <td>NaN</td>\n",
       "      <td>NaN</td>\n",
       "      <td>NaN</td>\n",
       "      <td>NaN</td>\n",
       "      <td>NaN</td>\n",
       "      <td>NaN</td>\n",
       "      <td>NaN</td>\n",
       "      <td>NaN</td>\n",
       "      <td>951.00</td>\n",
       "      <td>1342.00</td>\n",
       "    </tr>\n",
       "    <tr>\n",
       "      <th>6</th>\n",
       "      <td>3.0이상 3.5미만</td>\n",
       "      <td>194.00</td>\n",
       "      <td>19.00</td>\n",
       "      <td>63.00</td>\n",
       "      <td>16.00</td>\n",
       "      <td>1.00</td>\n",
       "      <td>NaN</td>\n",
       "      <td>NaN</td>\n",
       "      <td>NaN</td>\n",
       "      <td>NaN</td>\n",
       "      <td>NaN</td>\n",
       "      <td>NaN</td>\n",
       "      <td>NaN</td>\n",
       "      <td>NaN</td>\n",
       "      <td>NaN</td>\n",
       "      <td>624.00</td>\n",
       "      <td>917.00</td>\n",
       "    </tr>\n",
       "    <tr>\n",
       "      <th>7</th>\n",
       "      <td>3.5이상 4.0미만</td>\n",
       "      <td>124.00</td>\n",
       "      <td>16.00</td>\n",
       "      <td>37.00</td>\n",
       "      <td>10.00</td>\n",
       "      <td>2.00</td>\n",
       "      <td>NaN</td>\n",
       "      <td>NaN</td>\n",
       "      <td>NaN</td>\n",
       "      <td>NaN</td>\n",
       "      <td>NaN</td>\n",
       "      <td>NaN</td>\n",
       "      <td>NaN</td>\n",
       "      <td>NaN</td>\n",
       "      <td>NaN</td>\n",
       "      <td>490.00</td>\n",
       "      <td>679.00</td>\n",
       "    </tr>\n",
       "    <tr>\n",
       "      <th>8</th>\n",
       "      <td>4.0이상 4.5미만</td>\n",
       "      <td>102.00</td>\n",
       "      <td>9.00</td>\n",
       "      <td>36.00</td>\n",
       "      <td>10.00</td>\n",
       "      <td>5.00</td>\n",
       "      <td>NaN</td>\n",
       "      <td>NaN</td>\n",
       "      <td>NaN</td>\n",
       "      <td>NaN</td>\n",
       "      <td>NaN</td>\n",
       "      <td>NaN</td>\n",
       "      <td>NaN</td>\n",
       "      <td>NaN</td>\n",
       "      <td>NaN</td>\n",
       "      <td>378.00</td>\n",
       "      <td>540.00</td>\n",
       "    </tr>\n",
       "    <tr>\n",
       "      <th>9</th>\n",
       "      <td>4.5이상</td>\n",
       "      <td>100.00</td>\n",
       "      <td>8.00</td>\n",
       "      <td>44.00</td>\n",
       "      <td>8.00</td>\n",
       "      <td>2.00</td>\n",
       "      <td>NaN</td>\n",
       "      <td>1.00</td>\n",
       "      <td>NaN</td>\n",
       "      <td>NaN</td>\n",
       "      <td>NaN</td>\n",
       "      <td>NaN</td>\n",
       "      <td>NaN</td>\n",
       "      <td>NaN</td>\n",
       "      <td>NaN</td>\n",
       "      <td>327.00</td>\n",
       "      <td>490.00</td>\n",
       "    </tr>\n",
       "    <tr>\n",
       "      <th>10</th>\n",
       "      <td>총계</td>\n",
       "      <td>21709.00</td>\n",
       "      <td>1393.00</td>\n",
       "      <td>4130.00</td>\n",
       "      <td>769.00</td>\n",
       "      <td>71.00</td>\n",
       "      <td>15.00</td>\n",
       "      <td>4.00</td>\n",
       "      <td>1.00</td>\n",
       "      <td>8.00</td>\n",
       "      <td>3.00</td>\n",
       "      <td>1.00</td>\n",
       "      <td>4.00</td>\n",
       "      <td>2.00</td>\n",
       "      <td>4.00</td>\n",
       "      <td>78731.00</td>\n",
       "      <td>106845.00</td>\n",
       "    </tr>\n",
       "  </tbody>\n",
       "</table>\n",
       "</div>"
      ],
      "text/plain": [
       "                    매연(%) NOx허용기준(ppm)                                     \\\n",
       "NOx허용기준(ppm)                       0.0     8.0    15.0   20.0  25.0  30.0   \n",
       "0               0이상 0.5미만     10336.00  645.00 2184.00 383.00 39.00  7.00   \n",
       "1             0.5이상 1.0미만      6487.00  345.00  877.00 156.00  8.00  2.00   \n",
       "2             1.0이상 1.5미만      2606.00  188.00  481.00  96.00  4.00  3.00   \n",
       "3             1.5이상 2.0미만       967.00   86.00  200.00  58.00  6.00  3.00   \n",
       "4             2.0이상 2.5미만       521.00   43.00  135.00  23.00  1.00   NaN   \n",
       "5             2.5이상 3.0미만       272.00   34.00   73.00   9.00  3.00   NaN   \n",
       "6             3.0이상 3.5미만       194.00   19.00   63.00  16.00  1.00   NaN   \n",
       "7             3.5이상 4.0미만       124.00   16.00   37.00  10.00  2.00   NaN   \n",
       "8             4.0이상 4.5미만       102.00    9.00   36.00  10.00  5.00   NaN   \n",
       "9                   4.5이상       100.00    8.00   44.00   8.00  2.00   NaN   \n",
       "10                     총계     21709.00 1393.00 4130.00 769.00 71.00 15.00   \n",
       "\n",
       "                                                                           \\\n",
       "NOx허용기준(ppm) 50.0 580.0 700.0 1200.0 1240.0 1830.0 2070.0 2340.0      NaN   \n",
       "0            1.00   NaN  3.00   3.00    NaN   1.00   2.00    NaN 38991.00   \n",
       "1            1.00  1.00  4.00    NaN    NaN   2.00    NaN   1.00 22514.00   \n",
       "2             NaN   NaN  1.00    NaN   1.00   1.00    NaN   1.00  9300.00   \n",
       "3            1.00   NaN   NaN    NaN    NaN    NaN    NaN   1.00  3510.00   \n",
       "4             NaN   NaN   NaN    NaN    NaN    NaN    NaN   1.00  1646.00   \n",
       "5             NaN   NaN   NaN    NaN    NaN    NaN    NaN    NaN   951.00   \n",
       "6             NaN   NaN   NaN    NaN    NaN    NaN    NaN    NaN   624.00   \n",
       "7             NaN   NaN   NaN    NaN    NaN    NaN    NaN    NaN   490.00   \n",
       "8             NaN   NaN   NaN    NaN    NaN    NaN    NaN    NaN   378.00   \n",
       "9            1.00   NaN   NaN    NaN    NaN    NaN    NaN    NaN   327.00   \n",
       "10           4.00  1.00  8.00   3.00   1.00   4.00   2.00   4.00 78731.00   \n",
       "\n",
       "                    합계  \n",
       "NOx허용기준(ppm)            \n",
       "0             52595.00  \n",
       "1             30398.00  \n",
       "2             12682.00  \n",
       "3              4832.00  \n",
       "4              2370.00  \n",
       "5              1342.00  \n",
       "6               917.00  \n",
       "7               679.00  \n",
       "8               540.00  \n",
       "9               490.00  \n",
       "10           106845.00  "
      ]
     },
     "execution_count": 190,
     "metadata": {},
     "output_type": "execute_result"
    }
   ],
   "source": [
    "grp19 = die.groupby(['매연구분인덱스', '매연구분', '무부하매연허용치3'], dropna=False).agg({'차량번호':'count'}).unstack('무부하매연허용치3').reset_index()\n",
    "grp19 = grp19.rename(columns={'매연구분':'매연(%)', '차량번호':'NOx허용기준(ppm)'})\n",
    "grp19 = grp19.rename_axis(columns={'무부하매연허용치3':'NOx허용기준(ppm)'})\n",
    "grp19['합계'] = grp19.iloc[:, 2:].sum(axis=1)\n",
    "grp19.loc[grp19.shape[0]] = [grp19['매연구분인덱스'].max() + 1, '총계'] + grp19.iloc[:, 2:].sum().to_list()\n",
    "grp19 = grp19.drop('매연구분인덱스', axis=1)\n",
    "grp19"
   ]
  },
  {
   "cell_type": "markdown",
   "metadata": {},
   "source": [
    "## 종합검사 매연검사 결과와 매연RSD 매연측정 값 분석\n",
    "- 매연RSD측정 매연농도 상위10%의 종합검사 매연검사 결과(적/부, 농도) 비교"
   ]
  },
  {
   "cell_type": "code",
   "execution_count": 191,
   "metadata": {},
   "outputs": [
    {
     "data": {
      "text/plain": [
       "252257"
      ]
     },
     "execution_count": 191,
     "metadata": {},
     "output_type": "execute_result"
    }
   ],
   "source": [
    "df.shape[0]"
   ]
  },
  {
   "cell_type": "code",
   "execution_count": 192,
   "metadata": {},
   "outputs": [
    {
     "data": {
      "text/plain": [
       "106845"
      ]
     },
     "execution_count": 192,
     "metadata": {},
     "output_type": "execute_result"
    }
   ],
   "source": [
    "die.shape[0]"
   ]
  },
  {
   "cell_type": "code",
   "execution_count": 193,
   "metadata": {},
   "outputs": [
    {
     "data": {
      "text/plain": [
       "10684"
      ]
     },
     "execution_count": 193,
     "metadata": {},
     "output_type": "execute_result"
    }
   ],
   "source": [
    "top10_num = round(die.shape[0] * 0.1)\n",
    "top10_num"
   ]
  },
  {
   "cell_type": "code",
   "execution_count": 194,
   "metadata": {},
   "outputs": [
    {
     "data": {
      "text/plain": [
       "(10684, 55)"
      ]
     },
     "execution_count": 194,
     "metadata": {},
     "output_type": "execute_result"
    }
   ],
   "source": [
    "top10 = die.sort_values('매연', ascending=False).iloc[:top10_num]\n",
    "top10.shape"
   ]
  },
  {
   "cell_type": "markdown",
   "metadata": {},
   "source": [
    "### 20\\. 종합검사의 매연측정결과 적합비율"
   ]
  },
  {
   "cell_type": "code",
   "execution_count": 195,
   "metadata": {},
   "outputs": [
    {
     "data": {
      "text/html": [
       "<div>\n",
       "<style scoped>\n",
       "    .dataframe tbody tr th:only-of-type {\n",
       "        vertical-align: middle;\n",
       "    }\n",
       "\n",
       "    .dataframe tbody tr th {\n",
       "        vertical-align: top;\n",
       "    }\n",
       "\n",
       "    .dataframe thead th {\n",
       "        text-align: right;\n",
       "    }\n",
       "</style>\n",
       "<table border=\"1\" class=\"dataframe\">\n",
       "  <thead>\n",
       "    <tr style=\"text-align: right;\">\n",
       "      <th></th>\n",
       "      <th>매연판정</th>\n",
       "      <th>검사건수(건)</th>\n",
       "      <th>비율</th>\n",
       "    </tr>\n",
       "  </thead>\n",
       "  <tbody>\n",
       "    <tr>\n",
       "      <th>1</th>\n",
       "      <td>Y</td>\n",
       "      <td>6410.00</td>\n",
       "      <td>0.60</td>\n",
       "    </tr>\n",
       "    <tr>\n",
       "      <th>0</th>\n",
       "      <td>N</td>\n",
       "      <td>81.00</td>\n",
       "      <td>0.01</td>\n",
       "    </tr>\n",
       "    <tr>\n",
       "      <th>2</th>\n",
       "      <td>NaN</td>\n",
       "      <td>4193.00</td>\n",
       "      <td>0.39</td>\n",
       "    </tr>\n",
       "    <tr>\n",
       "      <th>3</th>\n",
       "      <td>총합</td>\n",
       "      <td>10684.00</td>\n",
       "      <td>1.00</td>\n",
       "    </tr>\n",
       "  </tbody>\n",
       "</table>\n",
       "</div>"
      ],
      "text/plain": [
       "  매연판정  검사건수(건)   비율\n",
       "1    Y  6410.00 0.60\n",
       "0    N    81.00 0.01\n",
       "2  NaN  4193.00 0.39\n",
       "3   총합 10684.00 1.00"
      ]
     },
     "execution_count": 195,
     "metadata": {},
     "output_type": "execute_result"
    }
   ],
   "source": [
    "grp20 = top10.groupby(['무부하매연판정1'], dropna=False).agg({'차량번호':'count'}).reset_index().sort_values('무부하매연판정1', ascending=False)\n",
    "grp20['합계'] = grp20['차량번호'].sum()\n",
    "grp20['비율'] = grp20['차량번호'] / grp20['합계']\n",
    "grp20['비율'] = grp20['비율'].round(2)\n",
    "grp20 = grp20.drop('합계', axis=1)\n",
    "grp20 = grp20.rename(columns={'무부하매연판정1':'매연판정', '차량번호':'검사건수(건)'})\n",
    "grp20.loc[grp20.shape[0]] = ['총합'] + grp20.iloc[:, 1:].sum().to_list()\n",
    "grp20"
   ]
  },
  {
   "cell_type": "markdown",
   "metadata": {},
   "source": [
    "### [❌] 21\\. 종합검사의 매연측정결과 부적합비율\n",
    "- 20, 21번 한번에 처리"
   ]
  },
  {
   "cell_type": "code",
   "execution_count": null,
   "metadata": {},
   "outputs": [],
   "source": []
  },
  {
   "cell_type": "markdown",
   "metadata": {},
   "source": [
    "### [❌] (차후) 22\\. 종합검사의 매연측정값 vs 매연RSD 매연값\n",
    "- Q. 1대1 비교?"
   ]
  },
  {
   "cell_type": "code",
   "execution_count": null,
   "metadata": {},
   "outputs": [],
   "source": []
  },
  {
   "cell_type": "markdown",
   "metadata": {},
   "source": [
    "### 종합검사 매연 부적합 경유차 vs 매연RSD 매연값 비교"
   ]
  },
  {
   "cell_type": "markdown",
   "metadata": {},
   "source": [
    "### [❌] (차후) 23\\. 종합검사 매연농도 vs 매연RSD 매연농도 1:1비교"
   ]
  },
  {
   "cell_type": "code",
   "execution_count": null,
   "metadata": {},
   "outputs": [],
   "source": []
  },
  {
   "cell_type": "markdown",
   "metadata": {},
   "source": [
    "## 24\\. 시험일 후 최초검사 부적합 - 매연RSD 값\n",
    "- 최초 정밀검사 부적합 차량의 매연RSD 값 확인하여 오류-적합, 오류-부적합 확인\n",
    "- 과정\n",
    "    - 1. 유효데이터(매연제한 없음) 중 경유차 추출\n",
    "    - 2. 운행차 정밀검사 기준으로 매연RSD 판정 부적합 데이터 추출\n",
    "    - 3. 검사일자(정밀검사) - 검사날짜(원격측정) = 검사날짜차이\n",
    "    - 4. '검사날짜차이' > 0 인 샘플 추출\n",
    "    - 5. '검사날짜차이' 오름차순, 자동차등록번호 중복 제거\n",
    "    - 6. 정밀검사 '무부하매연판정1' 비율"
   ]
  },
  {
   "cell_type": "code",
   "execution_count": 196,
   "metadata": {},
   "outputs": [
    {
     "data": {
      "text/plain": [
       "(398673, 47)"
      ]
     },
     "execution_count": 196,
     "metadata": {},
     "output_type": "execute_result"
    }
   ],
   "source": [
    "rcse.shape"
   ]
  },
  {
   "cell_type": "code",
   "execution_count": 197,
   "metadata": {},
   "outputs": [
    {
     "data": {
      "text/plain": [
       "Index(['측정날짜', '측정시간', '기록상태', '유효', '속도', '가속도', '플래그', 'VSP', '매연', '차량번호',\n",
       "       '차선번호', '풍속', '습도', '온도', '측정장소코드', '측정날짜시간', '배출가스인증번호', '배출가스등급',\n",
       "       '최초등록일자', '제원관리번호', '수정일시', '차량말소YN', '차량제작일자', '차량연식', '차종', '차대번호',\n",
       "       '자동차형식', '배기량', '엔진출력', '엔진형식', '연료', '제작사명', '총중량', '차명', '차종분류',\n",
       "       '차종유형', '무부하매연측정치1', '무부하매연판정1', '무부하매연허용치1', '무부하매연측정치2', '무부하매연판정2',\n",
       "       '무부하매연허용치2', '무부하매연측정치3', '무부하매연판정3', '무부하매연허용치3', '검사방법', '검사일자'],\n",
       "      dtype='object')"
      ]
     },
     "execution_count": 197,
     "metadata": {},
     "output_type": "execute_result"
    }
   ],
   "source": [
    "rcse.columns"
   ]
  },
  {
   "cell_type": "code",
   "execution_count": 198,
   "metadata": {},
   "outputs": [
    {
     "data": {
      "text/plain": [
       "(109275, 47)"
      ]
     },
     "execution_count": 198,
     "metadata": {},
     "output_type": "execute_result"
    }
   ],
   "source": [
    "# 1. 경유차(매연제한 없음) 중 유효데이터 추출\n",
    "# vdfRecordStatus = N, vdfValid = V, samFlag = V, 차량번호 : nan, 오류 값(********) 제외, 경유\n",
    "sdie = rcse[(rcse['기록상태'] == 'N') & (rcse['유효'] == 'V') & (rcse['플래그'] == 'V') & (rcse['차량번호'] != '********') & (rcse['차량번호'].isnull() == False) & (rcse['연료'] == '경유')].reset_index(drop=True)\n",
    "sdie.shape"
   ]
  },
  {
   "cell_type": "code",
   "execution_count": 199,
   "metadata": {},
   "outputs": [
    {
     "data": {
      "text/plain": [
       "array(['경유'], dtype=object)"
      ]
     },
     "execution_count": 199,
     "metadata": {},
     "output_type": "execute_result"
    }
   ],
   "source": [
    "sdie['연료'].unique()"
   ]
  },
  {
   "cell_type": "code",
   "execution_count": 200,
   "metadata": {},
   "outputs": [
    {
     "data": {
      "text/plain": [
       "(388, 47)"
      ]
     },
     "execution_count": 200,
     "metadata": {},
     "output_type": "execute_result"
    }
   ],
   "source": [
    "# 2. 운행차 정밀검사 기준으로 매연RSD 판정 부적합 데이터 추출\n",
    "sdf24 = sdie[sdie['매연'] > sdie['무부하매연허용치1']].reset_index(drop=True)\n",
    "sdf24.shape"
   ]
  },
  {
   "cell_type": "markdown",
   "metadata": {},
   "source": [
    "### [출력] RSD 부적합 데이터"
   ]
  },
  {
   "cell_type": "code",
   "execution_count": 201,
   "metadata": {},
   "outputs": [],
   "source": [
    "# sdf24.to_excel(os.path.join(an_fold, 'RSD부적합_경유.xlsx'), index=False)"
   ]
  },
  {
   "cell_type": "code",
   "execution_count": 203,
   "metadata": {},
   "outputs": [
    {
     "data": {
      "text/plain": [
       "검사일자    datetime64[ns]\n",
       "측정날짜    datetime64[ns]\n",
       "dtype: object"
      ]
     },
     "execution_count": 203,
     "metadata": {},
     "output_type": "execute_result"
    }
   ],
   "source": [
    "sdf24[['검사일자', '측정날짜']].dtypes"
   ]
  },
  {
   "cell_type": "code",
   "execution_count": 204,
   "metadata": {},
   "outputs": [
    {
     "data": {
      "text/plain": [
       "검사일자    datetime64[ns]\n",
       "측정날짜    datetime64[ns]\n",
       "dtype: object"
      ]
     },
     "execution_count": 204,
     "metadata": {},
     "output_type": "execute_result"
    }
   ],
   "source": [
    "sdf24['검사일자'] = pd.to_datetime(sdf24['검사일자'])\n",
    "sdf24['측정날짜'] = pd.to_datetime(sdf24['측정날짜'])\n",
    "sdf24[['검사일자', '측정날짜']].dtypes"
   ]
  },
  {
   "cell_type": "code",
   "execution_count": 205,
   "metadata": {},
   "outputs": [],
   "source": [
    "# 3. 검사일자(정밀검사) - 측정날짜(원격측정) = 검사날짜차이\n",
    "sdf24['검사날짜차이'] = sdf24['검사일자'] - sdf24['측정날짜']\n",
    "sdf24['검사날짜차이'] = sdf24['검사날짜차이'].astype('str')\n",
    "sdf24['검사날짜차이'] = sdf24['검사날짜차이'].str.split(' ').str[0]\n",
    "sdf24['검사날짜차이'] = pd.to_numeric(sdf24['검사날짜차이'], errors='coerce')"
   ]
  },
  {
   "cell_type": "code",
   "execution_count": 206,
   "metadata": {},
   "outputs": [
    {
     "data": {
      "text/plain": [
       "(130, 48)"
      ]
     },
     "execution_count": 206,
     "metadata": {},
     "output_type": "execute_result"
    }
   ],
   "source": [
    "# 4. '검사날짜차이' > 0 인 샘플 추출\n",
    "sdf24 = sdf24[sdf24['검사날짜차이'] > 0].reset_index(drop=True)\n",
    "sdf24.shape"
   ]
  },
  {
   "cell_type": "code",
   "execution_count": 207,
   "metadata": {},
   "outputs": [
    {
     "data": {
      "text/plain": [
       "(126, 48)"
      ]
     },
     "execution_count": 207,
     "metadata": {},
     "output_type": "execute_result"
    }
   ],
   "source": [
    "# 5. '검사날짜차이' 오름차순\n",
    "sdf24a = sdf24.sort_values('검사날짜차이').drop_duplicates('차량번호').reset_index(drop=True)\n",
    "sdf24a.shape"
   ]
  },
  {
   "cell_type": "code",
   "execution_count": 209,
   "metadata": {},
   "outputs": [
    {
     "data": {
      "text/html": [
       "<div>\n",
       "<style scoped>\n",
       "    .dataframe tbody tr th:only-of-type {\n",
       "        vertical-align: middle;\n",
       "    }\n",
       "\n",
       "    .dataframe tbody tr th {\n",
       "        vertical-align: top;\n",
       "    }\n",
       "\n",
       "    .dataframe thead th {\n",
       "        text-align: right;\n",
       "    }\n",
       "</style>\n",
       "<table border=\"1\" class=\"dataframe\">\n",
       "  <thead>\n",
       "    <tr style=\"text-align: right;\">\n",
       "      <th></th>\n",
       "      <th>검사일자</th>\n",
       "      <th>측정날짜</th>\n",
       "      <th>검사날짜차이</th>\n",
       "    </tr>\n",
       "  </thead>\n",
       "  <tbody>\n",
       "    <tr>\n",
       "      <th>0</th>\n",
       "      <td>2023-04-06</td>\n",
       "      <td>2023-04-04</td>\n",
       "      <td>2</td>\n",
       "    </tr>\n",
       "    <tr>\n",
       "      <th>1</th>\n",
       "      <td>2023-01-05</td>\n",
       "      <td>2023-01-03</td>\n",
       "      <td>2</td>\n",
       "    </tr>\n",
       "    <tr>\n",
       "      <th>2</th>\n",
       "      <td>2023-07-29</td>\n",
       "      <td>2023-07-26</td>\n",
       "      <td>3</td>\n",
       "    </tr>\n",
       "    <tr>\n",
       "      <th>3</th>\n",
       "      <td>2023-02-11</td>\n",
       "      <td>2023-02-06</td>\n",
       "      <td>5</td>\n",
       "    </tr>\n",
       "    <tr>\n",
       "      <th>4</th>\n",
       "      <td>2023-07-31</td>\n",
       "      <td>2023-07-26</td>\n",
       "      <td>5</td>\n",
       "    </tr>\n",
       "  </tbody>\n",
       "</table>\n",
       "</div>"
      ],
      "text/plain": [
       "        검사일자       측정날짜  검사날짜차이\n",
       "0 2023-04-06 2023-04-04       2\n",
       "1 2023-01-05 2023-01-03       2\n",
       "2 2023-07-29 2023-07-26       3\n",
       "3 2023-02-11 2023-02-06       5\n",
       "4 2023-07-31 2023-07-26       5"
      ]
     },
     "execution_count": 209,
     "metadata": {},
     "output_type": "execute_result"
    }
   ],
   "source": [
    "sdf24a[['검사일자', '측정날짜', '검사날짜차이']].head()"
   ]
  },
  {
   "cell_type": "code",
   "execution_count": 210,
   "metadata": {},
   "outputs": [
    {
     "data": {
      "text/html": [
       "<div>\n",
       "<style scoped>\n",
       "    .dataframe tbody tr th:only-of-type {\n",
       "        vertical-align: middle;\n",
       "    }\n",
       "\n",
       "    .dataframe tbody tr th {\n",
       "        vertical-align: top;\n",
       "    }\n",
       "\n",
       "    .dataframe thead th {\n",
       "        text-align: right;\n",
       "    }\n",
       "</style>\n",
       "<table border=\"1\" class=\"dataframe\">\n",
       "  <thead>\n",
       "    <tr style=\"text-align: right;\">\n",
       "      <th></th>\n",
       "      <th>매연판정</th>\n",
       "      <th>판정비율</th>\n",
       "    </tr>\n",
       "  </thead>\n",
       "  <tbody>\n",
       "    <tr>\n",
       "      <th>0</th>\n",
       "      <td>Y</td>\n",
       "      <td>0.98</td>\n",
       "    </tr>\n",
       "    <tr>\n",
       "      <th>1</th>\n",
       "      <td>N</td>\n",
       "      <td>0.02</td>\n",
       "    </tr>\n",
       "    <tr>\n",
       "      <th>2</th>\n",
       "      <td>총합</td>\n",
       "      <td>1.00</td>\n",
       "    </tr>\n",
       "  </tbody>\n",
       "</table>\n",
       "</div>"
      ],
      "text/plain": [
       "  매연판정  판정비율\n",
       "0    Y  0.98\n",
       "1    N  0.02\n",
       "2   총합  1.00"
      ]
     },
     "execution_count": 210,
     "metadata": {},
     "output_type": "execute_result"
    }
   ],
   "source": [
    "# 6. 정밀검사 '무부하매연판정1' 비율\n",
    "grp24 = sdf24a['무부하매연판정1'].value_counts(dropna=False, normalize=True).reset_index()\n",
    "grp24 = grp24.rename(columns={'index':'매연판정', '무부하매연판정1':'판정비율'})\n",
    "grp24['판정비율'] = grp24['판정비율'].round(2)\n",
    "grp24.loc[grp24.shape[0]] = ['총합', round(grp24['판정비율'].sum(), 2)]\n",
    "grp24"
   ]
  },
  {
   "cell_type": "markdown",
   "metadata": {},
   "source": [
    "## 25\\. 시험일 후 최종검사 부적합 - 매연RSD값\n",
    "- 과정\n",
    "    - 1. 유효데이터(매연제한 없음) 중 경유차 추출\n",
    "    - 2. 운행차 정밀검사 기준으로 매연RSD 판정 부적합 데이터 추출\n",
    "    - 3. 검사일자(정밀검사) - 검사날짜(원격측정) = 검사날짜차이\n",
    "    - 4. '검사날짜차이' > 0 인 샘플 추출\n",
    "    - 5. '검사날짜차이' 내림차순, 자동차등록번호 중복 제거\n",
    "    - 6. 정밀검사 '무부하매연판정1' 비율"
   ]
  },
  {
   "cell_type": "code",
   "execution_count": 211,
   "metadata": {},
   "outputs": [
    {
     "data": {
      "text/plain": [
       "(126, 48)"
      ]
     },
     "execution_count": 211,
     "metadata": {},
     "output_type": "execute_result"
    }
   ],
   "source": [
    "# 1 ~ 4. 동일 과정\n",
    "# 5. '검사날짜차이' 내림차순\n",
    "sdf25 = sdf24.sort_values('검사날짜차이', ascending=False).drop_duplicates('차량번호').reset_index(drop=True)\n",
    "sdf25.shape"
   ]
  },
  {
   "cell_type": "code",
   "execution_count": 212,
   "metadata": {},
   "outputs": [
    {
     "data": {
      "text/html": [
       "<div>\n",
       "<style scoped>\n",
       "    .dataframe tbody tr th:only-of-type {\n",
       "        vertical-align: middle;\n",
       "    }\n",
       "\n",
       "    .dataframe tbody tr th {\n",
       "        vertical-align: top;\n",
       "    }\n",
       "\n",
       "    .dataframe thead th {\n",
       "        text-align: right;\n",
       "    }\n",
       "</style>\n",
       "<table border=\"1\" class=\"dataframe\">\n",
       "  <thead>\n",
       "    <tr style=\"text-align: right;\">\n",
       "      <th></th>\n",
       "      <th>검사일자</th>\n",
       "      <th>측정날짜</th>\n",
       "      <th>검사날짜차이</th>\n",
       "    </tr>\n",
       "  </thead>\n",
       "  <tbody>\n",
       "    <tr>\n",
       "      <th>0</th>\n",
       "      <td>2023-07-06</td>\n",
       "      <td>2022-10-14</td>\n",
       "      <td>265</td>\n",
       "    </tr>\n",
       "    <tr>\n",
       "      <th>1</th>\n",
       "      <td>2023-07-20</td>\n",
       "      <td>2022-11-01</td>\n",
       "      <td>261</td>\n",
       "    </tr>\n",
       "    <tr>\n",
       "      <th>2</th>\n",
       "      <td>2023-07-31</td>\n",
       "      <td>2022-11-17</td>\n",
       "      <td>256</td>\n",
       "    </tr>\n",
       "    <tr>\n",
       "      <th>3</th>\n",
       "      <td>2023-07-25</td>\n",
       "      <td>2022-11-17</td>\n",
       "      <td>250</td>\n",
       "    </tr>\n",
       "    <tr>\n",
       "      <th>4</th>\n",
       "      <td>2023-07-17</td>\n",
       "      <td>2022-11-10</td>\n",
       "      <td>249</td>\n",
       "    </tr>\n",
       "  </tbody>\n",
       "</table>\n",
       "</div>"
      ],
      "text/plain": [
       "        검사일자       측정날짜  검사날짜차이\n",
       "0 2023-07-06 2022-10-14     265\n",
       "1 2023-07-20 2022-11-01     261\n",
       "2 2023-07-31 2022-11-17     256\n",
       "3 2023-07-25 2022-11-17     250\n",
       "4 2023-07-17 2022-11-10     249"
      ]
     },
     "execution_count": 212,
     "metadata": {},
     "output_type": "execute_result"
    }
   ],
   "source": [
    "sdf25[['검사일자', '측정날짜', '검사날짜차이']].head()"
   ]
  },
  {
   "cell_type": "code",
   "execution_count": 213,
   "metadata": {},
   "outputs": [
    {
     "data": {
      "text/html": [
       "<div>\n",
       "<style scoped>\n",
       "    .dataframe tbody tr th:only-of-type {\n",
       "        vertical-align: middle;\n",
       "    }\n",
       "\n",
       "    .dataframe tbody tr th {\n",
       "        vertical-align: top;\n",
       "    }\n",
       "\n",
       "    .dataframe thead th {\n",
       "        text-align: right;\n",
       "    }\n",
       "</style>\n",
       "<table border=\"1\" class=\"dataframe\">\n",
       "  <thead>\n",
       "    <tr style=\"text-align: right;\">\n",
       "      <th></th>\n",
       "      <th>매연판정</th>\n",
       "      <th>판정비율</th>\n",
       "    </tr>\n",
       "  </thead>\n",
       "  <tbody>\n",
       "    <tr>\n",
       "      <th>0</th>\n",
       "      <td>Y</td>\n",
       "      <td>0.98</td>\n",
       "    </tr>\n",
       "    <tr>\n",
       "      <th>1</th>\n",
       "      <td>N</td>\n",
       "      <td>0.02</td>\n",
       "    </tr>\n",
       "    <tr>\n",
       "      <th>2</th>\n",
       "      <td>총합</td>\n",
       "      <td>1.00</td>\n",
       "    </tr>\n",
       "  </tbody>\n",
       "</table>\n",
       "</div>"
      ],
      "text/plain": [
       "  매연판정  판정비율\n",
       "0    Y  0.98\n",
       "1    N  0.02\n",
       "2   총합  1.00"
      ]
     },
     "execution_count": 213,
     "metadata": {},
     "output_type": "execute_result"
    }
   ],
   "source": [
    "# 6. 정밀검사 '무부하매연판정1' 비율\n",
    "grp25 = sdf25['무부하매연판정1'].value_counts(dropna=False, normalize=True).reset_index()\n",
    "grp25 = grp25.rename(columns={'index':'매연판정', '무부하매연판정1':'판정비율'})\n",
    "grp25['판정비율'] = grp25['판정비율'].round(2)\n",
    "grp25.loc[grp25.shape[0]] = ['총합', round(grp25['판정비율'].sum(), 2)]\n",
    "grp25"
   ]
  },
  {
   "cell_type": "markdown",
   "metadata": {},
   "source": [
    "## 종합검사 NOx 부적합 경유차 vs 매연RSD 매연값 비교"
   ]
  },
  {
   "cell_type": "markdown",
   "metadata": {},
   "source": [
    "### [❌] (차후) 26\\. 종합검사 NOx vs 매연RSD 매연농도 1:1비교"
   ]
  },
  {
   "cell_type": "code",
   "execution_count": null,
   "metadata": {},
   "outputs": [],
   "source": []
  },
  {
   "cell_type": "markdown",
   "metadata": {},
   "source": [
    "## 고정식 다차선 매연 원격측정기 유효 측정수량 검토"
   ]
  },
  {
   "cell_type": "markdown",
   "metadata": {},
   "source": [
    "### [❌] (보류) 27\\. 일자별 유효 측정수량\n",
    "- 1. 전체 통과 차량 건수 : UFM 사진파일 수 기록\n",
    "- 2. 다차선 매연RSD측정 건수 : 해당일 매연RSD측정 유효데이터 건수\n",
    "- 3. 유효율 : b번 / a번 *100(%)"
   ]
  },
  {
   "cell_type": "code",
   "execution_count": null,
   "metadata": {},
   "outputs": [],
   "source": []
  },
  {
   "cell_type": "code",
   "execution_count": null,
   "metadata": {},
   "outputs": [],
   "source": []
  },
  {
   "cell_type": "markdown",
   "metadata": {},
   "source": [
    "## 결과 출력"
   ]
  },
  {
   "cell_type": "code",
   "execution_count": 400,
   "metadata": {},
   "outputs": [
    {
     "data": {
      "text/plain": [
       "'20231004'"
      ]
     },
     "execution_count": 400,
     "metadata": {},
     "output_type": "execute_result"
    }
   ],
   "source": [
    "today_date = dt.datetime.today().strftime(\"%Y%m%d\")\n",
    "today_date"
   ]
  },
  {
   "cell_type": "code",
   "execution_count": 401,
   "metadata": {},
   "outputs": [],
   "source": [
    "with pd.ExcelWriter(os.path.join(an_fold, f'매연RSD측정결과_분석({today_date}).xlsx')) as writer:\n",
    "    grp1.to_excel(writer, sheet_name='1_연료별', index=False)\n",
    "    grp2.to_excel(writer, sheet_name='2_경유_차종별', index=False)\n",
    "    grp3.to_excel(writer, sheet_name='3_경유_연식별', index=False)\n",
    "    grp4.to_excel(writer, sheet_name='4_경유_차선별', index=False)\n",
    "    grp5.to_excel(writer, sheet_name='5_경유_속도별', index=False)\n",
    "    grp6.to_excel(writer, sheet_name='6_경유_배출가스등급별', index=False)\n",
    "    grp7.to_excel(writer, sheet_name='7_경유_배기량별', index=False)\n",
    "    grp8.to_excel(writer, sheet_name='8_경유_차량중량별', index=False)\n",
    "    grp9.to_excel(writer, sheet_name='9_경유_매연허용기준별', index=False)\n",
    "    grp10.to_excel(writer, sheet_name='10_경유_NOx허용기준별', index=False)\n",
    "\n",
    "    grp11.to_excel(writer, sheet_name='11_농도별', index=False)\n",
    "    grp12.to_excel(writer, sheet_name='12_농도_차종별', index=True)\n",
    "    grp13.to_excel(writer, sheet_name='13_농도_연식별', index=True)\n",
    "    grp14.to_excel(writer, sheet_name='14_농도_측정속도별', index=True)\n",
    "    grp15.to_excel(writer, sheet_name='15_농도_배출가스등급별', index=True)\n",
    "    grp16.to_excel(writer, sheet_name='16_농도_배기량별', index=True)\n",
    "    grp17.to_excel(writer, sheet_name='17_농도_차량중량별', index=True)\n",
    "    grp18.to_excel(writer, sheet_name='18_농도_매연허용기준별', index=True)\n",
    "    grp19.to_excel(writer, sheet_name='19_농도_NOx허용기준별', index=True)\n",
    "\n",
    "    grp20.to_excel(writer, sheet_name='20_매연_적합_부적합비율', index=False)\n",
    "    # grp21.to_excel(writer, sheet_name='20_매연_적합_부적합비율', index=False) # 20, 21번 한번에 처리\n",
    "    # grp22.to_excel(writer, sheet_name='22_매연측정값과_매연RSD비교', index=False) # 어떤식으로 비교하는지 문의 필요\n",
    "\n",
    "    # grp23.to_excel(writer, sheet_name='23_매연농도와_매연RSD_1대1비교', index=False) # 차후 논의\n",
    "    \n",
    "    grp24.to_excel(writer, sheet_name='24_시험일후_최초검사_부적합', index=False) # 문의 필요\n",
    "    grp25.to_excel(writer, sheet_name='25_시험일후_최종검사_부적합', index=False) # 문의 필요\n",
    "\n",
    "    # grp26.to_excel(writer, sheet_name='26_종합검사NOx와_RSD매연_1대1비교', index=False) # 차후 논의\n",
    "\n",
    "    # grp27.to_excel(writer, sheet_name='27_일자별_유효_측정수량', index=False) # 보류"
   ]
  },
  {
   "cell_type": "code",
   "execution_count": 402,
   "metadata": {},
   "outputs": [
    {
     "name": "stdout",
     "output_type": "stream",
     "text": [
      "3:33:47\n"
     ]
    }
   ],
   "source": [
    "sec = time.time() - start_time\n",
    "print(str(dt.timedelta(seconds=sec)).split('.')[0])"
   ]
  },
  {
   "cell_type": "markdown",
   "metadata": {},
   "source": [
    "# End"
   ]
  }
 ],
 "metadata": {
  "kernelspec": {
   "display_name": "base",
   "language": "python",
   "name": "python3"
  },
  "language_info": {
   "codemirror_mode": {
    "name": "ipython",
    "version": 3
   },
   "file_extension": ".py",
   "mimetype": "text/x-python",
   "name": "python",
   "nbconvert_exporter": "python",
   "pygments_lexer": "ipython3",
   "version": "3.11.4"
  },
  "orig_nbformat": 4
 },
 "nbformat": 4,
 "nbformat_minor": 2
}
