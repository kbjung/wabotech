{
 "cells": [
  {
   "cell_type": "markdown",
   "metadata": {},
   "source": [
    "# Library"
   ]
  },
  {
   "cell_type": "code",
   "execution_count": 1,
   "metadata": {},
   "outputs": [],
   "source": [
    "import pandas as pd\n",
    "import numpy as np\n",
    "import re\n",
    "from tqdm import tqdm"
   ]
  },
  {
   "cell_type": "markdown",
   "metadata": {},
   "source": [
    "## [로드] 말소 데이터"
   ]
  },
  {
   "cell_type": "code",
   "execution_count": 3,
   "metadata": {},
   "outputs": [
    {
     "name": "stdout",
     "output_type": "stream",
     "text": [
      "<class 'pandas.core.frame.DataFrame'>\n",
      "RangeIndex: 42 entries, 0 to 41\n",
      "Data columns (total 1 columns):\n",
      " #   Column  Non-Null Count  Dtype \n",
      "---  ------  --------------  ----- \n",
      " 0   컬럼명     42 non-null     object\n",
      "dtypes: object(1)\n",
      "memory usage: 464.0+ bytes\n"
     ]
    }
   ],
   "source": [
    "ex_col_df = pd.read_excel('data/220819_22.06월기준_말소_컬럼.xlsx')\n",
    "ex_col_df.info()"
   ]
  },
  {
   "cell_type": "code",
   "execution_count": 4,
   "metadata": {},
   "outputs": [
    {
     "data": {
      "text/html": [
       "<div>\n",
       "<style scoped>\n",
       "    .dataframe tbody tr th:only-of-type {\n",
       "        vertical-align: middle;\n",
       "    }\n",
       "\n",
       "    .dataframe tbody tr th {\n",
       "        vertical-align: top;\n",
       "    }\n",
       "\n",
       "    .dataframe thead th {\n",
       "        text-align: right;\n",
       "    }\n",
       "</style>\n",
       "<table border=\"1\" class=\"dataframe\">\n",
       "  <thead>\n",
       "    <tr style=\"text-align: right;\">\n",
       "      <th></th>\n",
       "      <th>컬럼명</th>\n",
       "    </tr>\n",
       "  </thead>\n",
       "  <tbody>\n",
       "    <tr>\n",
       "      <th>0</th>\n",
       "      <td>차량관리번호</td>\n",
       "    </tr>\n",
       "    <tr>\n",
       "      <th>1</th>\n",
       "      <td>차량등록번호</td>\n",
       "    </tr>\n",
       "    <tr>\n",
       "      <th>2</th>\n",
       "      <td>본거지법정동코드</td>\n",
       "    </tr>\n",
       "    <tr>\n",
       "      <th>3</th>\n",
       "      <td>소유자구분</td>\n",
       "    </tr>\n",
       "    <tr>\n",
       "      <th>4</th>\n",
       "      <td>차종_등록정보</td>\n",
       "    </tr>\n",
       "  </tbody>\n",
       "</table>\n",
       "</div>"
      ],
      "text/plain": [
       "        컬럼명\n",
       "0    차량관리번호\n",
       "1    차량등록번호\n",
       "2  본거지법정동코드\n",
       "3     소유자구분\n",
       "4   차종_등록정보"
      ]
     },
     "execution_count": 4,
     "metadata": {},
     "output_type": "execute_result"
    }
   ],
   "source": [
    "ex_col_df.head()"
   ]
  },
  {
   "cell_type": "code",
   "execution_count": 5,
   "metadata": {},
   "outputs": [
    {
     "data": {
      "text/plain": [
       "42"
      ]
     },
     "execution_count": 5,
     "metadata": {},
     "output_type": "execute_result"
    }
   ],
   "source": [
    "ex_col = ex_col_df['컬럼명']\n",
    "len(ex_col)"
   ]
  },
  {
   "cell_type": "code",
   "execution_count": 6,
   "metadata": {},
   "outputs": [
    {
     "data": {
      "text/plain": [
       "0          차량관리번호\n",
       "1          차량등록번호\n",
       "2        본거지법정동코드\n",
       "3           소유자구분\n",
       "4         차종_등록정보\n",
       "5              용도\n",
       "6            차대번호\n",
       "7          최초등록일자\n",
       "8            차량연식\n",
       "9          차량제작일자\n",
       "10          검사유효일\n",
       "11         제원관리번호\n",
       "12       배출가스인증번호\n",
       "13         배출가스등급\n",
       "14        저공해조치종류\n",
       "15    저공해조치구조변경YN\n",
       "16         차량말소YN\n",
       "17           취득일자\n",
       "18           취득금액\n",
       "19             차명\n",
       "20        차종_제원정보\n",
       "21           차종분류\n",
       "22           차종유형\n",
       "23          자동차형식\n",
       "24           제작사명\n",
       "25             연료\n",
       "26           엔진형식\n",
       "27            총중량\n",
       "28           적재중량\n",
       "29           엔진출력\n",
       "30            배기량\n",
       "31           승차인원\n",
       "32           차량길이\n",
       "33           차량너비\n",
       "34           차량높이\n",
       "35           원산지명\n",
       "36           삭제YN\n",
       "37         제원승인일자\n",
       "38           구동형식\n",
       "39          변속기종류\n",
       "40           말소일자\n",
       "41           말소코드\n",
       "Name: 컬럼명, dtype: object"
      ]
     },
     "execution_count": 6,
     "metadata": {},
     "output_type": "execute_result"
    }
   ],
   "source": [
    "ex_col"
   ]
  },
  {
   "cell_type": "code",
   "execution_count": 7,
   "metadata": {},
   "outputs": [
    {
     "data": {
      "text/plain": [
       "Index(['차대번호', '차량말소YN'], dtype='object')"
      ]
     },
     "execution_count": 7,
     "metadata": {},
     "output_type": "execute_result"
    }
   ],
   "source": [
    "# 20.8s\n",
    "ex = pd.read_table('data/220819_22.06월기준_말소.txt', header=42, names=ex_col, usecols=['차대번호', '차량말소YN'], encoding='cp949')\n",
    "ex.columns"
   ]
  },
  {
   "cell_type": "code",
   "execution_count": 8,
   "metadata": {},
   "outputs": [
    {
     "name": "stdout",
     "output_type": "stream",
     "text": [
      "<class 'pandas.core.frame.DataFrame'>\n",
      "RangeIndex: 3653054 entries, 0 to 3653053\n",
      "Data columns (total 2 columns):\n",
      " #   Column  Dtype \n",
      "---  ------  ----- \n",
      " 0   차대번호    object\n",
      " 1   차량말소YN  object\n",
      "dtypes: object(2)\n",
      "memory usage: 55.7+ MB\n"
     ]
    }
   ],
   "source": [
    "ex.info()"
   ]
  },
  {
   "cell_type": "code",
   "execution_count": 9,
   "metadata": {},
   "outputs": [
    {
     "data": {
      "text/plain": [
       "array(['Y'], dtype=object)"
      ]
     },
     "execution_count": 9,
     "metadata": {},
     "output_type": "execute_result"
    }
   ],
   "source": [
    "ex['차량말소YN'].unique()"
   ]
  },
  {
   "cell_type": "markdown",
   "metadata": {},
   "source": [
    "## [로드] 컬럼명 데이터"
   ]
  },
  {
   "cell_type": "code",
   "execution_count": 10,
   "metadata": {},
   "outputs": [],
   "source": [
    "col_df = pd.read_table('data/[제원정보]컬럼명.txt', sep=',')\n",
    "col= col_df.columns"
   ]
  },
  {
   "cell_type": "code",
   "execution_count": 11,
   "metadata": {},
   "outputs": [
    {
     "data": {
      "text/plain": [
       "Index(['차량관리번호', '차량등록번호', '본거지법정동코드', '소유자구분', '차종_등록정보', '용도', '차대번호',\n",
       "       '최초등록일자', '차량연식', '차량제작일자', '검사유효일', '제원관리번호', '배출가스인증번호', '배출가스등급',\n",
       "       '저공해조치종류', '저공해조치구조변경YN', '차량말소YN', '취득일자', '취득금액', '차명', '차종_제원정보',\n",
       "       '차종분류', '차종유형', '자동차형식', '제작사명', '연료', '엔진형식', '총중량', '적재중량', '엔진출력',\n",
       "       '배기량', '승차인원', '차량길이', '차량너비', '차량높이', '원산지명', '삭제YN', '제원승인일자', '구동형식',\n",
       "       '변속기종류'],\n",
       "      dtype='object')"
      ]
     },
     "execution_count": 11,
     "metadata": {},
     "output_type": "execute_result"
    }
   ],
   "source": [
    "col"
   ]
  },
  {
   "cell_type": "markdown",
   "metadata": {},
   "source": [
    "## [로드] 파일"
   ]
  },
  {
   "cell_type": "code",
   "execution_count": 278,
   "metadata": {},
   "outputs": [
    {
     "name": "stderr",
     "output_type": "stream",
     "text": [
      "C:\\Users\\kbjung\\AppData\\Local\\Temp\\ipykernel_19428\\3437007485.py:2: DtypeWarning: Columns (14,17,29,37,38) have mixed types. Specify dtype option on import or set low_memory=False.\n",
      "  df = pd.read_table('data/220819_22.06월기준_4등급.txt', encoding='cp949', header=40, names=col)\n"
     ]
    },
    {
     "name": "stdout",
     "output_type": "stream",
     "text": [
      "<class 'pandas.core.frame.DataFrame'>\n",
      "RangeIndex: 1528586 entries, 0 to 1528585\n",
      "Data columns (total 40 columns):\n",
      " #   Column       Non-Null Count    Dtype  \n",
      "---  ------       --------------    -----  \n",
      " 0   차량관리번호       1528586 non-null  object \n",
      " 1   차량등록번호       1528586 non-null  object \n",
      " 2   본거지법정동코드     1528586 non-null  int64  \n",
      " 3   소유자구분        1528586 non-null  object \n",
      " 4   차종_등록정보      1528584 non-null  object \n",
      " 5   용도           1528586 non-null  object \n",
      " 6   차대번호         1528586 non-null  object \n",
      " 7   최초등록일자       1528586 non-null  int64  \n",
      " 8   차량연식         1528586 non-null  int64  \n",
      " 9   차량제작일자       1358925 non-null  float64\n",
      " 10  검사유효일        1528574 non-null  float64\n",
      " 11  제원관리번호       1528586 non-null  object \n",
      " 12  배출가스인증번호     1405585 non-null  object \n",
      " 13  배출가스등급       1528586 non-null  int64  \n",
      " 14  저공해조치종류      195 non-null      object \n",
      " 15  저공해조치구조변경YN  1528586 non-null  object \n",
      " 16  차량말소YN       1528586 non-null  object \n",
      " 17  취득일자         1435514 non-null  object \n",
      " 18  취득금액         1453613 non-null  float64\n",
      " 19  차명           1528586 non-null  object \n",
      " 20  차종_제원정보      1528586 non-null  object \n",
      " 21  차종분류         1528586 non-null  object \n",
      " 22  차종유형         1528586 non-null  object \n",
      " 23  자동차형식        1528302 non-null  object \n",
      " 24  제작사명         1518694 non-null  object \n",
      " 25  연료           1528586 non-null  object \n",
      " 26  엔진형식         1526740 non-null  object \n",
      " 27  총중량          1528585 non-null  float64\n",
      " 28  적재중량         1528075 non-null  float64\n",
      " 29  엔진출력         1528227 non-null  object \n",
      " 30  배기량          1528582 non-null  float64\n",
      " 31  승차인원         1528586 non-null  int64  \n",
      " 32  차량길이         1528585 non-null  float64\n",
      " 33  차량너비         1528585 non-null  float64\n",
      " 34  차량높이         1528583 non-null  float64\n",
      " 35  원산지명         1509499 non-null  object \n",
      " 36  삭제YN         1528586 non-null  object \n",
      " 37  제원승인일자       1528155 non-null  object \n",
      " 38  구동형식         41 non-null       object \n",
      " 39  변속기종류        1528426 non-null  object \n",
      "dtypes: float64(9), int64(5), object(26)\n",
      "memory usage: 466.5+ MB\n"
     ]
    }
   ],
   "source": [
    "# 22.3s\n",
    "df = pd.read_table('data/220819_22.06월기준_4등급.txt', encoding='cp949', header=40, names=col)\n",
    "df.info()"
   ]
  },
  {
   "cell_type": "code",
   "execution_count": 279,
   "metadata": {},
   "outputs": [
    {
     "data": {
      "text/plain": [
       "Index(['차량관리번호', '차량등록번호', '본거지법정동코드', '소유자구분', '차종_등록정보', '용도', '차대번호',\n",
       "       '최초등록일자', '차량연식', '차량제작일자', '검사유효일', '제원관리번호', '배출가스인증번호', '배출가스등급',\n",
       "       '저공해조치종류', '저공해조치구조변경YN', '차량말소YN', '취득일자', '취득금액', '차명', '차종_제원정보',\n",
       "       '차종분류', '차종유형', '자동차형식', '제작사명', '연료', '엔진형식', '총중량', '적재중량', '엔진출력',\n",
       "       '배기량', '승차인원', '차량길이', '차량너비', '차량높이', '원산지명', '삭제YN', '제원승인일자', '구동형식',\n",
       "       '변속기종류'],\n",
       "      dtype='object')"
      ]
     },
     "execution_count": 279,
     "metadata": {},
     "output_type": "execute_result"
    }
   ],
   "source": [
    "df.columns"
   ]
  },
  {
   "cell_type": "code",
   "execution_count": 280,
   "metadata": {},
   "outputs": [
    {
     "data": {
      "text/plain": [
       "array(['화물', '승용', '승합', '특수', nan], dtype=object)"
      ]
     },
     "execution_count": 280,
     "metadata": {},
     "output_type": "execute_result"
    }
   ],
   "source": [
    "df['차종_등록정보'].unique()"
   ]
  },
  {
   "cell_type": "code",
   "execution_count": 281,
   "metadata": {},
   "outputs": [
    {
     "data": {
      "text/plain": [
       "array(['자가용', '영업용', '관용'], dtype=object)"
      ]
     },
     "execution_count": 281,
     "metadata": {},
     "output_type": "execute_result"
    }
   ],
   "source": [
    "df['용도'].unique()"
   ]
  },
  {
   "cell_type": "code",
   "execution_count": 282,
   "metadata": {},
   "outputs": [
    {
     "data": {
      "text/plain": [
       "array([nan, '2종 저감장치 부착', '1종 저감장치 부착', '엔진개조', '3종 저감장치 부착', '동시저감장치 부착'],\n",
       "      dtype=object)"
      ]
     },
     "execution_count": 282,
     "metadata": {},
     "output_type": "execute_result"
    }
   ],
   "source": [
    "df['저공해조치종류'].unique()"
   ]
  },
  {
   "cell_type": "code",
   "execution_count": 283,
   "metadata": {},
   "outputs": [
    {
     "data": {
      "text/plain": [
       "array(['N', 'Y'], dtype=object)"
      ]
     },
     "execution_count": 283,
     "metadata": {},
     "output_type": "execute_result"
    }
   ],
   "source": [
    "df['저공해조치구조변경YN'].unique()"
   ]
  },
  {
   "cell_type": "code",
   "execution_count": 284,
   "metadata": {},
   "outputs": [
    {
     "data": {
      "text/plain": [
       "array(['화물', '승용', '승합', '특수'], dtype=object)"
      ]
     },
     "execution_count": 284,
     "metadata": {},
     "output_type": "execute_result"
    }
   ],
   "source": [
    "df['차종_제원정보'].unique()"
   ]
  },
  {
   "cell_type": "code",
   "execution_count": 285,
   "metadata": {},
   "outputs": [
    {
     "data": {
      "text/plain": [
       "array(['일반형-카고', '다목적', '일반형-픽업', '일반', '특수용도형-특수용도형', '밴', '기타', '특수',\n",
       "       '구난', '견인', '덤프', '승용겸화물', '특수용도형-탱크로리', '특수작업형', '특수용도형-피견인'],\n",
       "      dtype=object)"
      ]
     },
     "execution_count": 285,
     "metadata": {},
     "output_type": "execute_result"
    }
   ],
   "source": [
    "df['차종분류'].unique()"
   ]
  },
  {
   "cell_type": "code",
   "execution_count": 286,
   "metadata": {},
   "outputs": [
    {
     "data": {
      "text/plain": [
       "array(['소형', '중형', '대형', '경형'], dtype=object)"
      ]
     },
     "execution_count": 286,
     "metadata": {},
     "output_type": "execute_result"
    }
   ],
   "source": [
    "df['차종유형'].unique()"
   ]
  },
  {
   "cell_type": "code",
   "execution_count": 287,
   "metadata": {},
   "outputs": [
    {
     "data": {
      "text/plain": [
       "array(['HREJB-HI-D', 'JM-3VAF7-1', 'Q5D20A2-009', ..., 'SR-3ASW-7',\n",
       "       'N1122/3C', 'HD050-8MT2-LGc-A'], dtype=object)"
      ]
     },
     "execution_count": 287,
     "metadata": {},
     "output_type": "execute_result"
    }
   ],
   "source": [
    "df['자동차형식'].unique()"
   ]
  },
  {
   "attachments": {},
   "cell_type": "markdown",
   "metadata": {},
   "source": [
    "# 분석시 필요한 컬럼"
   ]
  },
  {
   "cell_type": "code",
   "execution_count": 288,
   "metadata": {},
   "outputs": [],
   "source": [
    "# es_col = ['차량관리번호', '차량등록번호', '본거지법정동코드', '소유자구분', '차종_등록정보', '용도', '차대번호', '최초등록일자', '차량연식', '차량제작일자', '검사유효일', '제원관리번호', '배출가스인증번호', '배출가스등급', '차량말소YN', '차명', '차종_제원정보', '차종분류', '차종유형', '제작사명', '연료', '엔진형식', '총중량', '적재중량', '엔진출력', '배기량', '승차인원', '구동형식', '변속기종류']"
   ]
  },
  {
   "attachments": {},
   "cell_type": "markdown",
   "metadata": {},
   "source": [
    "# [로드] 4등급 제원정보(필수)"
   ]
  },
  {
   "cell_type": "code",
   "execution_count": 289,
   "metadata": {},
   "outputs": [],
   "source": [
    "# # 14.3s\n",
    "# df = pd.read_table('data/220819_22.06월기준_4등급.txt', encoding='cp949', header=40, names=col)\n",
    "# df.info()"
   ]
  },
  {
   "attachments": {},
   "cell_type": "markdown",
   "metadata": {},
   "source": [
    "# 전처리"
   ]
  },
  {
   "attachments": {},
   "cell_type": "markdown",
   "metadata": {},
   "source": [
    "## 차량말소 정보 추가"
   ]
  },
  {
   "cell_type": "code",
   "execution_count": 290,
   "metadata": {},
   "outputs": [
    {
     "data": {
      "text/plain": [
       "Index(['차대번호', '차량말소YN'], dtype='object')"
      ]
     },
     "execution_count": 290,
     "metadata": {},
     "output_type": "execute_result"
    }
   ],
   "source": [
    "ex.columns"
   ]
  },
  {
   "cell_type": "code",
   "execution_count": 291,
   "metadata": {},
   "outputs": [
    {
     "data": {
      "text/plain": [
       "array(['Y'], dtype=object)"
      ]
     },
     "execution_count": 291,
     "metadata": {},
     "output_type": "execute_result"
    }
   ],
   "source": [
    "ex['차량말소YN'].unique()"
   ]
  },
  {
   "cell_type": "code",
   "execution_count": 292,
   "metadata": {},
   "outputs": [],
   "source": [
    "# # 9m 53.6s\n",
    "# # 1,420,563 개 있음\n",
    "# # 108,023 개 없음\n",
    "# len(set(df['차대번호']) - set(ex['차대번호']))"
   ]
  },
  {
   "cell_type": "code",
   "execution_count": 293,
   "metadata": {},
   "outputs": [
    {
     "data": {
      "text/plain": [
       "array(['N'], dtype=object)"
      ]
     },
     "execution_count": 293,
     "metadata": {},
     "output_type": "execute_result"
    }
   ],
   "source": [
    "df['차량말소YN'].unique()"
   ]
  },
  {
   "cell_type": "code",
   "execution_count": 294,
   "metadata": {},
   "outputs": [
    {
     "data": {
      "text/plain": [
       "(1528586, 40)"
      ]
     },
     "execution_count": 294,
     "metadata": {},
     "output_type": "execute_result"
    }
   ],
   "source": [
    "df.shape"
   ]
  },
  {
   "cell_type": "code",
   "execution_count": 295,
   "metadata": {},
   "outputs": [
    {
     "data": {
      "text/plain": [
       "array([nan, 'Y'], dtype=object)"
      ]
     },
     "execution_count": 295,
     "metadata": {},
     "output_type": "execute_result"
    }
   ],
   "source": [
    "df2 = df.merge(ex, on='차대번호', how='left')\n",
    "df2['차량말소YN_y'].unique()"
   ]
  },
  {
   "cell_type": "code",
   "execution_count": 296,
   "metadata": {},
   "outputs": [
    {
     "data": {
      "text/plain": [
       "(1528586, 41)"
      ]
     },
     "execution_count": 296,
     "metadata": {},
     "output_type": "execute_result"
    }
   ],
   "source": [
    "df2.shape"
   ]
  },
  {
   "cell_type": "code",
   "execution_count": 297,
   "metadata": {},
   "outputs": [
    {
     "data": {
      "text/plain": [
       "array(['N'], dtype=object)"
      ]
     },
     "execution_count": 297,
     "metadata": {},
     "output_type": "execute_result"
    }
   ],
   "source": [
    "df2['차량말소YN_x'].unique()"
   ]
  },
  {
   "cell_type": "code",
   "execution_count": 298,
   "metadata": {},
   "outputs": [
    {
     "data": {
      "text/plain": [
       "array([nan, 'Y'], dtype=object)"
      ]
     },
     "execution_count": 298,
     "metadata": {},
     "output_type": "execute_result"
    }
   ],
   "source": [
    "df2['차량말소YN_y'].unique()"
   ]
  },
  {
   "cell_type": "code",
   "execution_count": 299,
   "metadata": {},
   "outputs": [
    {
     "data": {
      "text/plain": [
       "(1528579, 41)"
      ]
     },
     "execution_count": 299,
     "metadata": {},
     "output_type": "execute_result"
    }
   ],
   "source": [
    "df3 = df2[df2['차량말소YN_y'].isnull() == True].copy()\n",
    "df3.shape"
   ]
  },
  {
   "cell_type": "code",
   "execution_count": 300,
   "metadata": {},
   "outputs": [
    {
     "data": {
      "text/plain": [
       "Index(['차량관리번호', '차량등록번호', '본거지법정동코드', '소유자구분', '차종_등록정보', '용도', '차대번호',\n",
       "       '최초등록일자', '차량연식', '차량제작일자', '검사유효일', '제원관리번호', '배출가스인증번호', '배출가스등급',\n",
       "       '저공해조치종류', '저공해조치구조변경YN', '차량말소YN_x', '취득일자', '취득금액', '차명', '차종_제원정보',\n",
       "       '차종분류', '차종유형', '자동차형식', '제작사명', '연료', '엔진형식', '총중량', '적재중량', '엔진출력',\n",
       "       '배기량', '승차인원', '차량길이', '차량너비', '차량높이', '원산지명', '삭제YN', '제원승인일자', '구동형식',\n",
       "       '변속기종류', '차량말소YN_y'],\n",
       "      dtype='object')"
      ]
     },
     "execution_count": 300,
     "metadata": {},
     "output_type": "execute_result"
    }
   ],
   "source": [
    "df3.columns"
   ]
  },
  {
   "cell_type": "code",
   "execution_count": 301,
   "metadata": {},
   "outputs": [
    {
     "data": {
      "text/plain": [
       "Index(['차량관리번호', '차량등록번호', '본거지법정동코드', '소유자구분', '차종_등록정보', '용도', '차대번호',\n",
       "       '최초등록일자', '차량연식', '차량제작일자', '검사유효일', '제원관리번호', '배출가스인증번호', '배출가스등급',\n",
       "       '저공해조치종류', '저공해조치구조변경YN', '취득일자', '취득금액', '차명', '차종_제원정보', '차종분류',\n",
       "       '차종유형', '자동차형식', '제작사명', '연료', '엔진형식', '총중량', '적재중량', '엔진출력', '배기량',\n",
       "       '승차인원', '차량길이', '차량너비', '차량높이', '원산지명', '삭제YN', '제원승인일자', '구동형식',\n",
       "       '변속기종류'],\n",
       "      dtype='object')"
      ]
     },
     "execution_count": 301,
     "metadata": {},
     "output_type": "execute_result"
    }
   ],
   "source": [
    "df3 = df3.drop(['차량말소YN_x', '차량말소YN_y'], axis=1)\n",
    "df3.columns"
   ]
  },
  {
   "attachments": {},
   "cell_type": "markdown",
   "metadata": {},
   "source": [
    "## 차대번호 중복"
   ]
  },
  {
   "cell_type": "code",
   "execution_count": 302,
   "metadata": {},
   "outputs": [
    {
     "data": {
      "text/plain": [
       "1528557"
      ]
     },
     "execution_count": 302,
     "metadata": {},
     "output_type": "execute_result"
    }
   ],
   "source": [
    "len(df3['차대번호'].unique())"
   ]
  },
  {
   "cell_type": "code",
   "execution_count": 303,
   "metadata": {},
   "outputs": [
    {
     "data": {
      "text/plain": [
       "(1528579, 39)"
      ]
     },
     "execution_count": 303,
     "metadata": {},
     "output_type": "execute_result"
    }
   ],
   "source": [
    "df3.shape"
   ]
  },
  {
   "cell_type": "code",
   "execution_count": 304,
   "metadata": {},
   "outputs": [
    {
     "data": {
      "text/plain": [
       "(41, 39)"
      ]
     },
     "execution_count": 304,
     "metadata": {},
     "output_type": "execute_result"
    }
   ],
   "source": [
    "df3.loc[df3.duplicated('차대번호', keep=False) == True].sort_values('차대번호').shape"
   ]
  },
  {
   "cell_type": "code",
   "execution_count": 305,
   "metadata": {},
   "outputs": [
    {
     "data": {
      "text/plain": [
       "Index(['차량관리번호', '차량등록번호', '본거지법정동코드', '소유자구분', '차종_등록정보', '용도', '차대번호',\n",
       "       '최초등록일자', '차량연식', '차량제작일자', '검사유효일', '제원관리번호', '배출가스인증번호', '배출가스등급',\n",
       "       '저공해조치종류', '저공해조치구조변경YN', '취득일자', '취득금액', '차명', '차종_제원정보', '차종분류',\n",
       "       '차종유형', '자동차형식', '제작사명', '연료', '엔진형식', '총중량', '적재중량', '엔진출력', '배기량',\n",
       "       '승차인원', '차량길이', '차량너비', '차량높이', '원산지명', '삭제YN', '제원승인일자', '구동형식',\n",
       "       '변속기종류'],\n",
       "      dtype='object')"
      ]
     },
     "execution_count": 305,
     "metadata": {},
     "output_type": "execute_result"
    }
   ],
   "source": [
    "df3.columns"
   ]
  },
  {
   "cell_type": "code",
   "execution_count": 306,
   "metadata": {},
   "outputs": [
    {
     "data": {
      "text/html": [
       "<div>\n",
       "<style scoped>\n",
       "    .dataframe tbody tr th:only-of-type {\n",
       "        vertical-align: middle;\n",
       "    }\n",
       "\n",
       "    .dataframe tbody tr th {\n",
       "        vertical-align: top;\n",
       "    }\n",
       "\n",
       "    .dataframe thead th {\n",
       "        text-align: right;\n",
       "    }\n",
       "</style>\n",
       "<table border=\"1\" class=\"dataframe\">\n",
       "  <thead>\n",
       "    <tr style=\"text-align: right;\">\n",
       "      <th></th>\n",
       "      <th>차량관리번호</th>\n",
       "      <th>차량등록번호</th>\n",
       "      <th>본거지법정동코드</th>\n",
       "      <th>소유자구분</th>\n",
       "      <th>차종_등록정보</th>\n",
       "      <th>용도</th>\n",
       "      <th>차대번호</th>\n",
       "      <th>최초등록일자</th>\n",
       "      <th>차량연식</th>\n",
       "      <th>차량제작일자</th>\n",
       "      <th>...</th>\n",
       "      <th>배기량</th>\n",
       "      <th>승차인원</th>\n",
       "      <th>차량길이</th>\n",
       "      <th>차량너비</th>\n",
       "      <th>차량높이</th>\n",
       "      <th>원산지명</th>\n",
       "      <th>삭제YN</th>\n",
       "      <th>제원승인일자</th>\n",
       "      <th>구동형식</th>\n",
       "      <th>변속기종류</th>\n",
       "    </tr>\n",
       "  </thead>\n",
       "  <tbody>\n",
       "    <tr>\n",
       "      <th>747837</th>\n",
       "      <td>1GBEL19W3XB192382-02</td>\n",
       "      <td>39고6855</td>\n",
       "      <td>1141011800</td>\n",
       "      <td>주민</td>\n",
       "      <td>승용</td>\n",
       "      <td>자가용</td>\n",
       "      <td>1GBEL19W3XB192382</td>\n",
       "      <td>20091013</td>\n",
       "      <td>1999</td>\n",
       "      <td>19991231.0</td>\n",
       "      <td>...</td>\n",
       "      <td>4300.0</td>\n",
       "      <td>6</td>\n",
       "      <td>4805.0</td>\n",
       "      <td>1980.0</td>\n",
       "      <td>1915.0</td>\n",
       "      <td>독일</td>\n",
       "      <td>N</td>\n",
       "      <td>20090805</td>\n",
       "      <td>NaN</td>\n",
       "      <td>자동</td>\n",
       "    </tr>\n",
       "    <tr>\n",
       "      <th>1424917</th>\n",
       "      <td>1GBEL19W3XB192382-01</td>\n",
       "      <td>36거2927</td>\n",
       "      <td>1111017500</td>\n",
       "      <td>주민</td>\n",
       "      <td>승용</td>\n",
       "      <td>자가용</td>\n",
       "      <td>1GBEL19W3XB192382</td>\n",
       "      <td>20090917</td>\n",
       "      <td>1999</td>\n",
       "      <td>20081124.0</td>\n",
       "      <td>...</td>\n",
       "      <td>4300.0</td>\n",
       "      <td>6</td>\n",
       "      <td>4805.0</td>\n",
       "      <td>1980.0</td>\n",
       "      <td>1915.0</td>\n",
       "      <td>독일</td>\n",
       "      <td>N</td>\n",
       "      <td>20090805</td>\n",
       "      <td>NaN</td>\n",
       "      <td>자동</td>\n",
       "    </tr>\n",
       "    <tr>\n",
       "      <th>173765</th>\n",
       "      <td>2799대구2고2891</td>\n",
       "      <td>대구2고2891</td>\n",
       "      <td>2717010200</td>\n",
       "      <td>주민</td>\n",
       "      <td>승용</td>\n",
       "      <td>자가용</td>\n",
       "      <td>KLAEM19W1NB116889</td>\n",
       "      <td>19920127</td>\n",
       "      <td>1992</td>\n",
       "      <td>NaN</td>\n",
       "      <td>...</td>\n",
       "      <td>1998.0</td>\n",
       "      <td>5</td>\n",
       "      <td>4800.0</td>\n",
       "      <td>1720.0</td>\n",
       "      <td>1417.0</td>\n",
       "      <td>대한민국</td>\n",
       "      <td>N</td>\n",
       "      <td>19910531</td>\n",
       "      <td>NaN</td>\n",
       "      <td>수동</td>\n",
       "    </tr>\n",
       "    <tr>\n",
       "      <th>1522531</th>\n",
       "      <td>1199서울2수2138</td>\n",
       "      <td>서울2수2138</td>\n",
       "      <td>2818510600</td>\n",
       "      <td>주민</td>\n",
       "      <td>승용</td>\n",
       "      <td>자가용</td>\n",
       "      <td>KLAEM19W1NB116889</td>\n",
       "      <td>19920127</td>\n",
       "      <td>1992</td>\n",
       "      <td>NaN</td>\n",
       "      <td>...</td>\n",
       "      <td>1998.0</td>\n",
       "      <td>5</td>\n",
       "      <td>4800.0</td>\n",
       "      <td>1720.0</td>\n",
       "      <td>1417.0</td>\n",
       "      <td>대한민국</td>\n",
       "      <td>N</td>\n",
       "      <td>19910531.0</td>\n",
       "      <td>NaN</td>\n",
       "      <td>수동</td>\n",
       "    </tr>\n",
       "    <tr>\n",
       "      <th>639215</th>\n",
       "      <td>KLASM69F1JB054053-02</td>\n",
       "      <td>서울4모4528</td>\n",
       "      <td>1153010800</td>\n",
       "      <td>법인</td>\n",
       "      <td>승용</td>\n",
       "      <td>자가용</td>\n",
       "      <td>KLASM69F1JB054053</td>\n",
       "      <td>19880305</td>\n",
       "      <td>1988</td>\n",
       "      <td>NaN</td>\n",
       "      <td>...</td>\n",
       "      <td>1979.0</td>\n",
       "      <td>5</td>\n",
       "      <td>4934.0</td>\n",
       "      <td>1720.0</td>\n",
       "      <td>1420.0</td>\n",
       "      <td>대한민국</td>\n",
       "      <td>N</td>\n",
       "      <td>19871205.0</td>\n",
       "      <td>NaN</td>\n",
       "      <td>수동</td>\n",
       "    </tr>\n",
       "  </tbody>\n",
       "</table>\n",
       "<p>5 rows × 39 columns</p>\n",
       "</div>"
      ],
      "text/plain": [
       "                       차량관리번호    차량등록번호    본거지법정동코드 소유자구분 차종_등록정보   용도  \\\n",
       "747837   1GBEL19W3XB192382-02   39고6855  1141011800    주민      승용  자가용   \n",
       "1424917  1GBEL19W3XB192382-01   36거2927  1111017500    주민      승용  자가용   \n",
       "173765           2799대구2고2891  대구2고2891  2717010200    주민      승용  자가용   \n",
       "1522531          1199서울2수2138  서울2수2138  2818510600    주민      승용  자가용   \n",
       "639215   KLASM69F1JB054053-02  서울4모4528  1153010800    법인      승용  자가용   \n",
       "\n",
       "                      차대번호    최초등록일자  차량연식      차량제작일자  ...     배기량 승차인원  \\\n",
       "747837   1GBEL19W3XB192382  20091013  1999  19991231.0  ...  4300.0    6   \n",
       "1424917  1GBEL19W3XB192382  20090917  1999  20081124.0  ...  4300.0    6   \n",
       "173765   KLAEM19W1NB116889  19920127  1992         NaN  ...  1998.0    5   \n",
       "1522531  KLAEM19W1NB116889  19920127  1992         NaN  ...  1998.0    5   \n",
       "639215   KLASM69F1JB054053  19880305  1988         NaN  ...  1979.0    5   \n",
       "\n",
       "           차량길이    차량너비    차량높이  원산지명 삭제YN      제원승인일자 구동형식 변속기종류  \n",
       "747837   4805.0  1980.0  1915.0    독일    N    20090805  NaN    자동  \n",
       "1424917  4805.0  1980.0  1915.0    독일    N    20090805  NaN    자동  \n",
       "173765   4800.0  1720.0  1417.0  대한민국    N    19910531  NaN    수동  \n",
       "1522531  4800.0  1720.0  1417.0  대한민국    N  19910531.0  NaN    수동  \n",
       "639215   4934.0  1720.0  1420.0  대한민국    N  19871205.0  NaN    수동  \n",
       "\n",
       "[5 rows x 39 columns]"
      ]
     },
     "execution_count": 306,
     "metadata": {},
     "output_type": "execute_result"
    }
   ],
   "source": [
    "df3.loc[df3.duplicated('차대번호', keep=False) == True].sort_values('차대번호').head()"
   ]
  },
  {
   "cell_type": "code",
   "execution_count": 307,
   "metadata": {},
   "outputs": [],
   "source": [
    "# 차대번호 중복 예시\n",
    "df3.loc[df3.duplicated('차대번호', keep=False) == True].sort_values('차대번호').to_excel('analysis/[G4][차대번호]중복_예시.xlsx')"
   ]
  },
  {
   "cell_type": "code",
   "execution_count": 308,
   "metadata": {},
   "outputs": [
    {
     "data": {
      "text/html": [
       "<div>\n",
       "<style scoped>\n",
       "    .dataframe tbody tr th:only-of-type {\n",
       "        vertical-align: middle;\n",
       "    }\n",
       "\n",
       "    .dataframe tbody tr th {\n",
       "        vertical-align: top;\n",
       "    }\n",
       "\n",
       "    .dataframe thead th {\n",
       "        text-align: right;\n",
       "    }\n",
       "</style>\n",
       "<table border=\"1\" class=\"dataframe\">\n",
       "  <thead>\n",
       "    <tr style=\"text-align: right;\">\n",
       "      <th></th>\n",
       "      <th>차량관리번호</th>\n",
       "      <th>차량등록번호</th>\n",
       "      <th>본거지법정동코드</th>\n",
       "      <th>소유자구분</th>\n",
       "      <th>차종_등록정보</th>\n",
       "      <th>용도</th>\n",
       "      <th>차대번호</th>\n",
       "      <th>최초등록일자</th>\n",
       "      <th>차량연식</th>\n",
       "      <th>차량제작일자</th>\n",
       "      <th>...</th>\n",
       "      <th>배기량</th>\n",
       "      <th>승차인원</th>\n",
       "      <th>차량길이</th>\n",
       "      <th>차량너비</th>\n",
       "      <th>차량높이</th>\n",
       "      <th>원산지명</th>\n",
       "      <th>삭제YN</th>\n",
       "      <th>제원승인일자</th>\n",
       "      <th>구동형식</th>\n",
       "      <th>변속기종류</th>\n",
       "    </tr>\n",
       "  </thead>\n",
       "  <tbody>\n",
       "    <tr>\n",
       "      <th>1528583</th>\n",
       "      <td>KMCLK19KP8C035195-01</td>\n",
       "      <td>96부7399</td>\n",
       "      <td>4824034000</td>\n",
       "      <td>주민</td>\n",
       "      <td>화물</td>\n",
       "      <td>자가용</td>\n",
       "      <td>KMCLK18KP8C035195</td>\n",
       "      <td>20220614</td>\n",
       "      <td>2008</td>\n",
       "      <td>20080924.0</td>\n",
       "      <td>...</td>\n",
       "      <td>5899.0</td>\n",
       "      <td>3</td>\n",
       "      <td>7710.0</td>\n",
       "      <td>2420.0</td>\n",
       "      <td>2960.0</td>\n",
       "      <td>대한민국</td>\n",
       "      <td>N</td>\n",
       "      <td>20080529.0</td>\n",
       "      <td>NaN</td>\n",
       "      <td>자동</td>\n",
       "    </tr>\n",
       "    <tr>\n",
       "      <th>1528561</th>\n",
       "      <td>KMFLA18KP8C031274-01</td>\n",
       "      <td>92도0997</td>\n",
       "      <td>4482533000</td>\n",
       "      <td>법인</td>\n",
       "      <td>화물</td>\n",
       "      <td>자가용</td>\n",
       "      <td>KMFLA18KP8C031274</td>\n",
       "      <td>20220419</td>\n",
       "      <td>2008</td>\n",
       "      <td>20080605.0</td>\n",
       "      <td>...</td>\n",
       "      <td>5899.0</td>\n",
       "      <td>2</td>\n",
       "      <td>6675.0</td>\n",
       "      <td>2255.0</td>\n",
       "      <td>2950.0</td>\n",
       "      <td>대한민국</td>\n",
       "      <td>N</td>\n",
       "      <td>20080518.0</td>\n",
       "      <td>NaN</td>\n",
       "      <td>수동</td>\n",
       "    </tr>\n",
       "    <tr>\n",
       "      <th>1528540</th>\n",
       "      <td>KLACA26RD8B226753-01</td>\n",
       "      <td>153구6446</td>\n",
       "      <td>2826011000</td>\n",
       "      <td>주민</td>\n",
       "      <td>승용</td>\n",
       "      <td>자가용</td>\n",
       "      <td>KLACA26RD8B226753</td>\n",
       "      <td>20210909</td>\n",
       "      <td>2008</td>\n",
       "      <td>20080221.0</td>\n",
       "      <td>...</td>\n",
       "      <td>1991.0</td>\n",
       "      <td>7</td>\n",
       "      <td>4635.0</td>\n",
       "      <td>1850.0</td>\n",
       "      <td>1720.0</td>\n",
       "      <td>대한민국</td>\n",
       "      <td>N</td>\n",
       "      <td>20070703.0</td>\n",
       "      <td>NaN</td>\n",
       "      <td>자동</td>\n",
       "    </tr>\n",
       "    <tr>\n",
       "      <th>1528538</th>\n",
       "      <td>KMCGK17HP8C086937-01</td>\n",
       "      <td>88조4842</td>\n",
       "      <td>4476032000</td>\n",
       "      <td>법인</td>\n",
       "      <td>화물</td>\n",
       "      <td>자가용</td>\n",
       "      <td>KMCGK17HP8C086937</td>\n",
       "      <td>20210830</td>\n",
       "      <td>2008</td>\n",
       "      <td>20080315.0</td>\n",
       "      <td>...</td>\n",
       "      <td>3933.0</td>\n",
       "      <td>3</td>\n",
       "      <td>6180.0</td>\n",
       "      <td>2030.0</td>\n",
       "      <td>2920.0</td>\n",
       "      <td>대한민국</td>\n",
       "      <td>N</td>\n",
       "      <td>20070913.0</td>\n",
       "      <td>NaN</td>\n",
       "      <td>수동</td>\n",
       "    </tr>\n",
       "    <tr>\n",
       "      <th>1528539</th>\n",
       "      <td>KMCYSS7JP7U084697-01</td>\n",
       "      <td>99도4857</td>\n",
       "      <td>4423038028</td>\n",
       "      <td>주민</td>\n",
       "      <td>특수</td>\n",
       "      <td>자가용</td>\n",
       "      <td>KMCYSS7JP7U084697</td>\n",
       "      <td>20210826</td>\n",
       "      <td>2007</td>\n",
       "      <td>20070227.0</td>\n",
       "      <td>...</td>\n",
       "      <td>2497.0</td>\n",
       "      <td>3</td>\n",
       "      <td>5435.0</td>\n",
       "      <td>1820.0</td>\n",
       "      <td>2060.0</td>\n",
       "      <td>대한민국</td>\n",
       "      <td>N</td>\n",
       "      <td>20060714.0</td>\n",
       "      <td>NaN</td>\n",
       "      <td>수동</td>\n",
       "    </tr>\n",
       "  </tbody>\n",
       "</table>\n",
       "<p>5 rows × 39 columns</p>\n",
       "</div>"
      ],
      "text/plain": [
       "                       차량관리번호    차량등록번호    본거지법정동코드 소유자구분 차종_등록정보   용도  \\\n",
       "1528583  KMCLK19KP8C035195-01   96부7399  4824034000    주민      화물  자가용   \n",
       "1528561  KMFLA18KP8C031274-01   92도0997  4482533000    법인      화물  자가용   \n",
       "1528540  KLACA26RD8B226753-01  153구6446  2826011000    주민      승용  자가용   \n",
       "1528538  KMCGK17HP8C086937-01   88조4842  4476032000    법인      화물  자가용   \n",
       "1528539  KMCYSS7JP7U084697-01   99도4857  4423038028    주민      특수  자가용   \n",
       "\n",
       "                      차대번호    최초등록일자  차량연식      차량제작일자  ...     배기량 승차인원  \\\n",
       "1528583  KMCLK18KP8C035195  20220614  2008  20080924.0  ...  5899.0    3   \n",
       "1528561  KMFLA18KP8C031274  20220419  2008  20080605.0  ...  5899.0    2   \n",
       "1528540  KLACA26RD8B226753  20210909  2008  20080221.0  ...  1991.0    7   \n",
       "1528538  KMCGK17HP8C086937  20210830  2008  20080315.0  ...  3933.0    3   \n",
       "1528539  KMCYSS7JP7U084697  20210826  2007  20070227.0  ...  2497.0    3   \n",
       "\n",
       "           차량길이    차량너비    차량높이  원산지명 삭제YN      제원승인일자 구동형식 변속기종류  \n",
       "1528583  7710.0  2420.0  2960.0  대한민국    N  20080529.0  NaN    자동  \n",
       "1528561  6675.0  2255.0  2950.0  대한민국    N  20080518.0  NaN    수동  \n",
       "1528540  4635.0  1850.0  1720.0  대한민국    N  20070703.0  NaN    자동  \n",
       "1528538  6180.0  2030.0  2920.0  대한민국    N  20070913.0  NaN    수동  \n",
       "1528539  5435.0  1820.0  2060.0  대한민국    N  20060714.0  NaN    수동  \n",
       "\n",
       "[5 rows x 39 columns]"
      ]
     },
     "execution_count": 308,
     "metadata": {},
     "output_type": "execute_result"
    }
   ],
   "source": [
    "df3.sort_values(['최초등록일자', '검사유효일', '차대번호'], ascending=False).head()"
   ]
  },
  {
   "cell_type": "code",
   "execution_count": 309,
   "metadata": {},
   "outputs": [
    {
     "data": {
      "text/plain": [
       "(1528579, 39)"
      ]
     },
     "execution_count": 309,
     "metadata": {},
     "output_type": "execute_result"
    }
   ],
   "source": [
    "df3.shape"
   ]
  },
  {
   "attachments": {},
   "cell_type": "markdown",
   "metadata": {},
   "source": [
    "### 차대번호 중복 처리\n",
    "- 최초등록일자, 검사유효일 최신"
   ]
  },
  {
   "cell_type": "code",
   "execution_count": 310,
   "metadata": {},
   "outputs": [],
   "source": [
    "df3_1 = df3.sort_values(['최초등록일자', '검사유효일', '차대번호'], ascending=False).reset_index(drop=True)\n",
    "df3_2 = df3_1.drop_duplicates('차대번호', keep='first').reset_index(drop=True)"
   ]
  },
  {
   "cell_type": "code",
   "execution_count": 311,
   "metadata": {},
   "outputs": [
    {
     "data": {
      "text/plain": [
       "KMCLK18KP8C035195    1\n",
       "KMHJN81VP8U766322    1\n",
       "KNAJE55537K463438    1\n",
       "KNAJE55537K468980    1\n",
       "KNAJE55537K470819    1\n",
       "                    ..\n",
       "KMHNV81WBAU108544    1\n",
       "KMHNV81WDAU113985    1\n",
       "KMHSH81UBAU530489    1\n",
       "KMHSH81UBAU541710    1\n",
       "KMHJF31JPPU555457    1\n",
       "Name: 차대번호, Length: 1528557, dtype: int64"
      ]
     },
     "execution_count": 311,
     "metadata": {},
     "output_type": "execute_result"
    }
   ],
   "source": [
    "df3_2['차대번호'].value_counts()"
   ]
  },
  {
   "cell_type": "code",
   "execution_count": 312,
   "metadata": {},
   "outputs": [
    {
     "data": {
      "text/plain": [
       "1523727    프라이드\n",
       "Name: 차명, dtype: object"
      ]
     },
     "execution_count": 312,
     "metadata": {},
     "output_type": "execute_result"
    }
   ],
   "source": [
    "df3_2[df3_2['차대번호'] == 'KNADA2322JS052345']['차명']"
   ]
  },
  {
   "cell_type": "code",
   "execution_count": 313,
   "metadata": {},
   "outputs": [],
   "source": [
    "df4 = df3_2.copy()"
   ]
  },
  {
   "attachments": {},
   "cell_type": "markdown",
   "metadata": {},
   "source": [
    "## 연료 정보 수정\n",
    "- 엔진형식, 차명으로 확인"
   ]
  },
  {
   "cell_type": "code",
   "execution_count": 314,
   "metadata": {},
   "outputs": [
    {
     "data": {
      "text/html": [
       "<div>\n",
       "<style scoped>\n",
       "    .dataframe tbody tr th:only-of-type {\n",
       "        vertical-align: middle;\n",
       "    }\n",
       "\n",
       "    .dataframe tbody tr th {\n",
       "        vertical-align: top;\n",
       "    }\n",
       "\n",
       "    .dataframe thead th {\n",
       "        text-align: right;\n",
       "    }\n",
       "</style>\n",
       "<table border=\"1\" class=\"dataframe\">\n",
       "  <thead>\n",
       "    <tr style=\"text-align: right;\">\n",
       "      <th></th>\n",
       "      <th>연료</th>\n",
       "      <th>차대번호</th>\n",
       "    </tr>\n",
       "  </thead>\n",
       "  <tbody>\n",
       "    <tr>\n",
       "      <th>2</th>\n",
       "      <td>경유</td>\n",
       "      <td>1167605</td>\n",
       "    </tr>\n",
       "    <tr>\n",
       "      <th>5</th>\n",
       "      <td>휘발유</td>\n",
       "      <td>334494</td>\n",
       "    </tr>\n",
       "    <tr>\n",
       "      <th>1</th>\n",
       "      <td>LPG(액화석유가스)</td>\n",
       "      <td>26418</td>\n",
       "    </tr>\n",
       "    <tr>\n",
       "      <th>3</th>\n",
       "      <td>기타연료</td>\n",
       "      <td>38</td>\n",
       "    </tr>\n",
       "    <tr>\n",
       "      <th>0</th>\n",
       "      <td>CNG(압축천연가스)</td>\n",
       "      <td>1</td>\n",
       "    </tr>\n",
       "    <tr>\n",
       "      <th>4</th>\n",
       "      <td>알코올</td>\n",
       "      <td>1</td>\n",
       "    </tr>\n",
       "  </tbody>\n",
       "</table>\n",
       "</div>"
      ],
      "text/plain": [
       "            연료     차대번호\n",
       "2           경유  1167605\n",
       "5          휘발유   334494\n",
       "1  LPG(액화석유가스)    26418\n",
       "3         기타연료       38\n",
       "0  CNG(압축천연가스)        1\n",
       "4          알코올        1"
      ]
     },
     "execution_count": 314,
     "metadata": {},
     "output_type": "execute_result"
    }
   ],
   "source": [
    "f = df4.groupby('연료', as_index=False)['차대번호'].count().sort_values('차대번호', ascending=False)\n",
    "f"
   ]
  },
  {
   "cell_type": "code",
   "execution_count": 315,
   "metadata": {},
   "outputs": [
    {
     "data": {
      "text/plain": [
       "Int64Index([   3059, 1486836, 1498416, 1499706, 1501418, 1502065, 1502241,\n",
       "            1502591, 1503075, 1504853, 1506843, 1506983, 1507069, 1507214,\n",
       "            1507417, 1507583, 1507880, 1508213, 1508592, 1508820, 1509438,\n",
       "            1510445, 1511196, 1511799, 1513346, 1514189, 1516533, 1518320,\n",
       "            1519203, 1519358, 1519683, 1520041, 1521843, 1522798, 1522963,\n",
       "            1523260, 1524481, 1528151],\n",
       "           dtype='int64')"
      ]
     },
     "execution_count": 315,
     "metadata": {},
     "output_type": "execute_result"
    }
   ],
   "source": [
    "g = df4.groupby('연료', as_index=False)['차대번호'].groups\n",
    "g['기타연료']"
   ]
  },
  {
   "cell_type": "code",
   "execution_count": 316,
   "metadata": {},
   "outputs": [
    {
     "data": {
      "text/plain": [
       "array(['-', 'MSV3', 'B5', 'H20MR', 'G16SF', 'G4AJ', nan, 'G15CF',\n",
       "       '01821300581'], dtype=object)"
      ]
     },
     "execution_count": 316,
     "metadata": {},
     "output_type": "execute_result"
    }
   ],
   "source": [
    "# B5 : 휘발유\n",
    "# G16SF : 휘발유\n",
    "# H20MR : 휘발유\n",
    "# MSV3 : 휘발유\n",
    "# 01821300581 : \n",
    "# G15CF : 휘발유\n",
    "# G4AJ : 휘발유\n",
    "df4.loc[df4['연료'] == '기타연료', '엔진형식'].unique()"
   ]
  },
  {
   "cell_type": "code",
   "execution_count": 317,
   "metadata": {},
   "outputs": [
    {
     "data": {
      "text/html": [
       "<div>\n",
       "<style scoped>\n",
       "    .dataframe tbody tr th:only-of-type {\n",
       "        vertical-align: middle;\n",
       "    }\n",
       "\n",
       "    .dataframe tbody tr th {\n",
       "        vertical-align: top;\n",
       "    }\n",
       "\n",
       "    .dataframe thead th {\n",
       "        text-align: right;\n",
       "    }\n",
       "</style>\n",
       "<table border=\"1\" class=\"dataframe\">\n",
       "  <thead>\n",
       "    <tr style=\"text-align: right;\">\n",
       "      <th></th>\n",
       "      <th>차명</th>\n",
       "      <th>엔진형식</th>\n",
       "    </tr>\n",
       "  </thead>\n",
       "  <tbody>\n",
       "    <tr>\n",
       "      <th>3059</th>\n",
       "      <td>에어스트림탐지견수송트레일러</td>\n",
       "      <td>-</td>\n",
       "    </tr>\n",
       "    <tr>\n",
       "      <th>1516533</th>\n",
       "      <td>스텔라오토매틱</td>\n",
       "      <td>NaN</td>\n",
       "    </tr>\n",
       "    <tr>\n",
       "      <th>1518320</th>\n",
       "      <td>벤즈 230E</td>\n",
       "      <td>NaN</td>\n",
       "    </tr>\n",
       "    <tr>\n",
       "      <th>1524481</th>\n",
       "      <td>벤즈230E</td>\n",
       "      <td>01821300581</td>\n",
       "    </tr>\n",
       "    <tr>\n",
       "      <th>1528151</th>\n",
       "      <td>도요다크라운로얄싸롱</td>\n",
       "      <td>NaN</td>\n",
       "    </tr>\n",
       "  </tbody>\n",
       "</table>\n",
       "</div>"
      ],
      "text/plain": [
       "                     차명         엔진형식\n",
       "3059     에어스트림탐지견수송트레일러            -\n",
       "1516533         스텔라오토매틱          NaN\n",
       "1518320         벤즈 230E          NaN\n",
       "1524481          벤즈230E  01821300581\n",
       "1528151      도요다크라운로얄싸롱          NaN"
      ]
     },
     "execution_count": 317,
     "metadata": {},
     "output_type": "execute_result"
    }
   ],
   "source": [
    "df4.loc[df4['엔진형식'] == 'B5', '연료'] = '휘발유'\n",
    "df4.loc[df4['엔진형식'] == 'G16SF', '연료'] = '휘발유'\n",
    "df4.loc[df4['엔진형식'] == 'H20MR', '연료'] = '휘발유'\n",
    "df4.loc[df4['엔진형식'] == 'MSV3', '연료'] = '휘발유'\n",
    "df4.loc[df4['엔진형식'] == 'G15CF', '연료'] = '휘발유'\n",
    "df4.loc[df4['엔진형식'] == 'G4AJ', '연료'] = '휘발유'\n",
    "df4[df4['연료'] == '기타연료'][['차명', '엔진형식']]"
   ]
  },
  {
   "cell_type": "code",
   "execution_count": 318,
   "metadata": {},
   "outputs": [
    {
     "data": {
      "text/html": [
       "<div>\n",
       "<style scoped>\n",
       "    .dataframe tbody tr th:only-of-type {\n",
       "        vertical-align: middle;\n",
       "    }\n",
       "\n",
       "    .dataframe tbody tr th {\n",
       "        vertical-align: top;\n",
       "    }\n",
       "\n",
       "    .dataframe thead th {\n",
       "        text-align: right;\n",
       "    }\n",
       "</style>\n",
       "<table border=\"1\" class=\"dataframe\">\n",
       "  <thead>\n",
       "    <tr style=\"text-align: right;\">\n",
       "      <th></th>\n",
       "      <th>차명</th>\n",
       "      <th>엔진형식</th>\n",
       "    </tr>\n",
       "  </thead>\n",
       "  <tbody>\n",
       "    <tr>\n",
       "      <th>3059</th>\n",
       "      <td>에어스트림탐지견수송트레일러</td>\n",
       "      <td>-</td>\n",
       "    </tr>\n",
       "  </tbody>\n",
       "</table>\n",
       "</div>"
      ],
      "text/plain": [
       "                  차명 엔진형식\n",
       "3059  에어스트림탐지견수송트레일러    -"
      ]
     },
     "execution_count": 318,
     "metadata": {},
     "output_type": "execute_result"
    }
   ],
   "source": [
    "df4.loc[df4['차명'] == '도요다크라운로얄싸롱', '연료'] = '휘발유'\n",
    "df4.loc[df4['차명'] == '스텔라오토매틱', '연료'] = '휘발유'\n",
    "df4.loc[df4['차명'] == '벤즈 230E', '연료'] = '휘발유'\n",
    "df4.loc[df4['차명'] == '벤즈230E', '연료'] = '휘발유'\n",
    "df4[df4['연료'] == '기타연료'][['차명', '엔진형식']]"
   ]
  },
  {
   "cell_type": "code",
   "execution_count": 319,
   "metadata": {},
   "outputs": [
    {
     "data": {
      "text/html": [
       "<div>\n",
       "<style scoped>\n",
       "    .dataframe tbody tr th:only-of-type {\n",
       "        vertical-align: middle;\n",
       "    }\n",
       "\n",
       "    .dataframe tbody tr th {\n",
       "        vertical-align: top;\n",
       "    }\n",
       "\n",
       "    .dataframe thead th {\n",
       "        text-align: right;\n",
       "    }\n",
       "</style>\n",
       "<table border=\"1\" class=\"dataframe\">\n",
       "  <thead>\n",
       "    <tr style=\"text-align: right;\">\n",
       "      <th></th>\n",
       "      <th>연료</th>\n",
       "      <th>차대번호</th>\n",
       "    </tr>\n",
       "  </thead>\n",
       "  <tbody>\n",
       "    <tr>\n",
       "      <th>2</th>\n",
       "      <td>경유</td>\n",
       "      <td>1167605</td>\n",
       "    </tr>\n",
       "    <tr>\n",
       "      <th>5</th>\n",
       "      <td>휘발유</td>\n",
       "      <td>334531</td>\n",
       "    </tr>\n",
       "    <tr>\n",
       "      <th>1</th>\n",
       "      <td>LPG(액화석유가스)</td>\n",
       "      <td>26418</td>\n",
       "    </tr>\n",
       "    <tr>\n",
       "      <th>0</th>\n",
       "      <td>CNG(압축천연가스)</td>\n",
       "      <td>1</td>\n",
       "    </tr>\n",
       "    <tr>\n",
       "      <th>3</th>\n",
       "      <td>기타연료</td>\n",
       "      <td>1</td>\n",
       "    </tr>\n",
       "    <tr>\n",
       "      <th>4</th>\n",
       "      <td>알코올</td>\n",
       "      <td>1</td>\n",
       "    </tr>\n",
       "  </tbody>\n",
       "</table>\n",
       "</div>"
      ],
      "text/plain": [
       "            연료     차대번호\n",
       "2           경유  1167605\n",
       "5          휘발유   334531\n",
       "1  LPG(액화석유가스)    26418\n",
       "0  CNG(압축천연가스)        1\n",
       "3         기타연료        1\n",
       "4          알코올        1"
      ]
     },
     "execution_count": 319,
     "metadata": {},
     "output_type": "execute_result"
    }
   ],
   "source": [
    "f = df4.groupby('연료', as_index=False)['차대번호'].count().sort_values('차대번호', ascending=False)\n",
    "f"
   ]
  },
  {
   "cell_type": "code",
   "execution_count": 320,
   "metadata": {},
   "outputs": [
    {
     "data": {
      "text/html": [
       "<div>\n",
       "<style scoped>\n",
       "    .dataframe tbody tr th:only-of-type {\n",
       "        vertical-align: middle;\n",
       "    }\n",
       "\n",
       "    .dataframe tbody tr th {\n",
       "        vertical-align: top;\n",
       "    }\n",
       "\n",
       "    .dataframe thead th {\n",
       "        text-align: right;\n",
       "    }\n",
       "</style>\n",
       "<table border=\"1\" class=\"dataframe\">\n",
       "  <thead>\n",
       "    <tr style=\"text-align: right;\">\n",
       "      <th></th>\n",
       "      <th>연료</th>\n",
       "      <th>4등급</th>\n",
       "    </tr>\n",
       "  </thead>\n",
       "  <tbody>\n",
       "    <tr>\n",
       "      <th>2</th>\n",
       "      <td>경유</td>\n",
       "      <td>1167605</td>\n",
       "    </tr>\n",
       "    <tr>\n",
       "      <th>5</th>\n",
       "      <td>휘발유</td>\n",
       "      <td>334531</td>\n",
       "    </tr>\n",
       "    <tr>\n",
       "      <th>1</th>\n",
       "      <td>LPG(액화석유가스)</td>\n",
       "      <td>26418</td>\n",
       "    </tr>\n",
       "    <tr>\n",
       "      <th>0</th>\n",
       "      <td>CNG(압축천연가스)</td>\n",
       "      <td>1</td>\n",
       "    </tr>\n",
       "    <tr>\n",
       "      <th>3</th>\n",
       "      <td>기타연료</td>\n",
       "      <td>1</td>\n",
       "    </tr>\n",
       "    <tr>\n",
       "      <th>4</th>\n",
       "      <td>알코올</td>\n",
       "      <td>1</td>\n",
       "    </tr>\n",
       "  </tbody>\n",
       "</table>\n",
       "</div>"
      ],
      "text/plain": [
       "            연료      4등급\n",
       "2           경유  1167605\n",
       "5          휘발유   334531\n",
       "1  LPG(액화석유가스)    26418\n",
       "0  CNG(압축천연가스)        1\n",
       "3         기타연료        1\n",
       "4          알코올        1"
      ]
     },
     "execution_count": 320,
     "metadata": {},
     "output_type": "execute_result"
    }
   ],
   "source": [
    "f.columns = ['연료', '4등급']\n",
    "f"
   ]
  },
  {
   "cell_type": "markdown",
   "metadata": {},
   "source": [
    "## [excel] 연료별 통계"
   ]
  },
  {
   "cell_type": "code",
   "execution_count": 321,
   "metadata": {},
   "outputs": [],
   "source": [
    "f.to_excel('analysis/[G4]연료별_차대번호_통계.xlsx', index=False, encoding='utf-8')"
   ]
  },
  {
   "attachments": {},
   "cell_type": "markdown",
   "metadata": {},
   "source": [
    "## 지역별 수량 통계"
   ]
  },
  {
   "cell_type": "markdown",
   "metadata": {},
   "source": [
    "## [로드] 법정동코드"
   ]
  },
  {
   "cell_type": "code",
   "execution_count": 322,
   "metadata": {},
   "outputs": [
    {
     "name": "stdout",
     "output_type": "stream",
     "text": [
      "<class 'pandas.core.frame.DataFrame'>\n",
      "RangeIndex: 46340 entries, 0 to 46339\n",
      "Data columns (total 9 columns):\n",
      " #   Column    Non-Null Count  Dtype  \n",
      "---  ------    --------------  -----  \n",
      " 0   법정동코드     46340 non-null  int64  \n",
      " 1   시도        46340 non-null  object \n",
      " 2   시구군       46317 non-null  object \n",
      " 3   읍면동       45847 non-null  object \n",
      " 4   리         33682 non-null  object \n",
      " 5   지역3       0 non-null      float64\n",
      " 6   폐지여부      46340 non-null  object \n",
      " 7   대기관리권역    46340 non-null  object \n",
      " 8   대기관리권역YN  46334 non-null  object \n",
      "dtypes: float64(1), int64(1), object(7)\n",
      "memory usage: 3.2+ MB\n"
     ]
    }
   ],
   "source": [
    "code = pd.read_excel('data/법정동코드_2022.10.14.xlsx')\n",
    "code.info()"
   ]
  },
  {
   "cell_type": "code",
   "execution_count": 323,
   "metadata": {},
   "outputs": [
    {
     "data": {
      "text/html": [
       "<div>\n",
       "<style scoped>\n",
       "    .dataframe tbody tr th:only-of-type {\n",
       "        vertical-align: middle;\n",
       "    }\n",
       "\n",
       "    .dataframe tbody tr th {\n",
       "        vertical-align: top;\n",
       "    }\n",
       "\n",
       "    .dataframe thead th {\n",
       "        text-align: right;\n",
       "    }\n",
       "</style>\n",
       "<table border=\"1\" class=\"dataframe\">\n",
       "  <thead>\n",
       "    <tr style=\"text-align: right;\">\n",
       "      <th></th>\n",
       "      <th>법정동코드</th>\n",
       "      <th>시도</th>\n",
       "      <th>시구군</th>\n",
       "      <th>읍면동</th>\n",
       "      <th>리</th>\n",
       "      <th>지역3</th>\n",
       "      <th>폐지여부</th>\n",
       "      <th>대기관리권역</th>\n",
       "      <th>대기관리권역YN</th>\n",
       "    </tr>\n",
       "  </thead>\n",
       "  <tbody>\n",
       "    <tr>\n",
       "      <th>0</th>\n",
       "      <td>1100000000</td>\n",
       "      <td>서울</td>\n",
       "      <td>NaN</td>\n",
       "      <td>NaN</td>\n",
       "      <td>NaN</td>\n",
       "      <td>NaN</td>\n",
       "      <td>존재</td>\n",
       "      <td>수도권</td>\n",
       "      <td>Y</td>\n",
       "    </tr>\n",
       "    <tr>\n",
       "      <th>1</th>\n",
       "      <td>1111000000</td>\n",
       "      <td>서울</td>\n",
       "      <td>종로구</td>\n",
       "      <td>NaN</td>\n",
       "      <td>NaN</td>\n",
       "      <td>NaN</td>\n",
       "      <td>존재</td>\n",
       "      <td>수도권</td>\n",
       "      <td>Y</td>\n",
       "    </tr>\n",
       "    <tr>\n",
       "      <th>2</th>\n",
       "      <td>1111010100</td>\n",
       "      <td>서울</td>\n",
       "      <td>종로구</td>\n",
       "      <td>청운동</td>\n",
       "      <td>NaN</td>\n",
       "      <td>NaN</td>\n",
       "      <td>존재</td>\n",
       "      <td>수도권</td>\n",
       "      <td>Y</td>\n",
       "    </tr>\n",
       "    <tr>\n",
       "      <th>3</th>\n",
       "      <td>1111010200</td>\n",
       "      <td>서울</td>\n",
       "      <td>종로구</td>\n",
       "      <td>신교동</td>\n",
       "      <td>NaN</td>\n",
       "      <td>NaN</td>\n",
       "      <td>존재</td>\n",
       "      <td>수도권</td>\n",
       "      <td>Y</td>\n",
       "    </tr>\n",
       "    <tr>\n",
       "      <th>4</th>\n",
       "      <td>1111010300</td>\n",
       "      <td>서울</td>\n",
       "      <td>종로구</td>\n",
       "      <td>궁정동</td>\n",
       "      <td>NaN</td>\n",
       "      <td>NaN</td>\n",
       "      <td>존재</td>\n",
       "      <td>수도권</td>\n",
       "      <td>Y</td>\n",
       "    </tr>\n",
       "  </tbody>\n",
       "</table>\n",
       "</div>"
      ],
      "text/plain": [
       "        법정동코드  시도  시구군  읍면동    리  지역3 폐지여부 대기관리권역 대기관리권역YN\n",
       "0  1100000000  서울  NaN  NaN  NaN  NaN   존재    수도권        Y\n",
       "1  1111000000  서울  종로구  NaN  NaN  NaN   존재    수도권        Y\n",
       "2  1111010100  서울  종로구  청운동  NaN  NaN   존재    수도권        Y\n",
       "3  1111010200  서울  종로구  신교동  NaN  NaN   존재    수도권        Y\n",
       "4  1111010300  서울  종로구  궁정동  NaN  NaN   존재    수도권        Y"
      ]
     },
     "execution_count": 323,
     "metadata": {},
     "output_type": "execute_result"
    }
   ],
   "source": [
    "code.head()"
   ]
  },
  {
   "cell_type": "code",
   "execution_count": 324,
   "metadata": {},
   "outputs": [],
   "source": [
    "code['code1'] = code['법정동코드'].astype('str').str[:5]"
   ]
  },
  {
   "cell_type": "code",
   "execution_count": 325,
   "metadata": {},
   "outputs": [
    {
     "data": {
      "text/html": [
       "<div>\n",
       "<style scoped>\n",
       "    .dataframe tbody tr th:only-of-type {\n",
       "        vertical-align: middle;\n",
       "    }\n",
       "\n",
       "    .dataframe tbody tr th {\n",
       "        vertical-align: top;\n",
       "    }\n",
       "\n",
       "    .dataframe thead th {\n",
       "        text-align: right;\n",
       "    }\n",
       "</style>\n",
       "<table border=\"1\" class=\"dataframe\">\n",
       "  <thead>\n",
       "    <tr style=\"text-align: right;\">\n",
       "      <th></th>\n",
       "      <th>법정동코드</th>\n",
       "      <th>시도</th>\n",
       "      <th>시구군</th>\n",
       "      <th>읍면동</th>\n",
       "      <th>리</th>\n",
       "      <th>지역3</th>\n",
       "      <th>폐지여부</th>\n",
       "      <th>대기관리권역</th>\n",
       "      <th>대기관리권역YN</th>\n",
       "      <th>code1</th>\n",
       "    </tr>\n",
       "  </thead>\n",
       "  <tbody>\n",
       "    <tr>\n",
       "      <th>0</th>\n",
       "      <td>1100000000</td>\n",
       "      <td>서울</td>\n",
       "      <td>NaN</td>\n",
       "      <td>NaN</td>\n",
       "      <td>NaN</td>\n",
       "      <td>NaN</td>\n",
       "      <td>존재</td>\n",
       "      <td>수도권</td>\n",
       "      <td>Y</td>\n",
       "      <td>11000</td>\n",
       "    </tr>\n",
       "    <tr>\n",
       "      <th>1</th>\n",
       "      <td>1111000000</td>\n",
       "      <td>서울</td>\n",
       "      <td>종로구</td>\n",
       "      <td>NaN</td>\n",
       "      <td>NaN</td>\n",
       "      <td>NaN</td>\n",
       "      <td>존재</td>\n",
       "      <td>수도권</td>\n",
       "      <td>Y</td>\n",
       "      <td>11110</td>\n",
       "    </tr>\n",
       "    <tr>\n",
       "      <th>2</th>\n",
       "      <td>1111010100</td>\n",
       "      <td>서울</td>\n",
       "      <td>종로구</td>\n",
       "      <td>청운동</td>\n",
       "      <td>NaN</td>\n",
       "      <td>NaN</td>\n",
       "      <td>존재</td>\n",
       "      <td>수도권</td>\n",
       "      <td>Y</td>\n",
       "      <td>11110</td>\n",
       "    </tr>\n",
       "    <tr>\n",
       "      <th>3</th>\n",
       "      <td>1111010200</td>\n",
       "      <td>서울</td>\n",
       "      <td>종로구</td>\n",
       "      <td>신교동</td>\n",
       "      <td>NaN</td>\n",
       "      <td>NaN</td>\n",
       "      <td>존재</td>\n",
       "      <td>수도권</td>\n",
       "      <td>Y</td>\n",
       "      <td>11110</td>\n",
       "    </tr>\n",
       "    <tr>\n",
       "      <th>4</th>\n",
       "      <td>1111010300</td>\n",
       "      <td>서울</td>\n",
       "      <td>종로구</td>\n",
       "      <td>궁정동</td>\n",
       "      <td>NaN</td>\n",
       "      <td>NaN</td>\n",
       "      <td>존재</td>\n",
       "      <td>수도권</td>\n",
       "      <td>Y</td>\n",
       "      <td>11110</td>\n",
       "    </tr>\n",
       "  </tbody>\n",
       "</table>\n",
       "</div>"
      ],
      "text/plain": [
       "        법정동코드  시도  시구군  읍면동    리  지역3 폐지여부 대기관리권역 대기관리권역YN  code1\n",
       "0  1100000000  서울  NaN  NaN  NaN  NaN   존재    수도권        Y  11000\n",
       "1  1111000000  서울  종로구  NaN  NaN  NaN   존재    수도권        Y  11110\n",
       "2  1111010100  서울  종로구  청운동  NaN  NaN   존재    수도권        Y  11110\n",
       "3  1111010200  서울  종로구  신교동  NaN  NaN   존재    수도권        Y  11110\n",
       "4  1111010300  서울  종로구  궁정동  NaN  NaN   존재    수도권        Y  11110"
      ]
     },
     "execution_count": 325,
     "metadata": {},
     "output_type": "execute_result"
    }
   ],
   "source": [
    "code.head()"
   ]
  },
  {
   "cell_type": "code",
   "execution_count": 326,
   "metadata": {},
   "outputs": [
    {
     "data": {
      "text/plain": [
       "(46340, 10)"
      ]
     },
     "execution_count": 326,
     "metadata": {},
     "output_type": "execute_result"
    }
   ],
   "source": [
    "code.shape"
   ]
  },
  {
   "cell_type": "code",
   "execution_count": 327,
   "metadata": {},
   "outputs": [
    {
     "data": {
      "text/plain": [
       "(461, 10)"
      ]
     },
     "execution_count": 327,
     "metadata": {},
     "output_type": "execute_result"
    }
   ],
   "source": [
    "code2 = code.drop_duplicates(['시도', 'code1'], keep='first').reset_index(drop=True)\n",
    "code2.shape"
   ]
  },
  {
   "cell_type": "code",
   "execution_count": 328,
   "metadata": {},
   "outputs": [
    {
     "data": {
      "text/html": [
       "<div>\n",
       "<style scoped>\n",
       "    .dataframe tbody tr th:only-of-type {\n",
       "        vertical-align: middle;\n",
       "    }\n",
       "\n",
       "    .dataframe tbody tr th {\n",
       "        vertical-align: top;\n",
       "    }\n",
       "\n",
       "    .dataframe thead th {\n",
       "        text-align: right;\n",
       "    }\n",
       "</style>\n",
       "<table border=\"1\" class=\"dataframe\">\n",
       "  <thead>\n",
       "    <tr style=\"text-align: right;\">\n",
       "      <th></th>\n",
       "      <th>법정동코드</th>\n",
       "      <th>시도</th>\n",
       "      <th>시구군</th>\n",
       "      <th>읍면동</th>\n",
       "      <th>리</th>\n",
       "      <th>지역3</th>\n",
       "      <th>폐지여부</th>\n",
       "      <th>대기관리권역</th>\n",
       "      <th>대기관리권역YN</th>\n",
       "      <th>code1</th>\n",
       "    </tr>\n",
       "  </thead>\n",
       "  <tbody>\n",
       "    <tr>\n",
       "      <th>0</th>\n",
       "      <td>1100000000</td>\n",
       "      <td>서울</td>\n",
       "      <td>NaN</td>\n",
       "      <td>NaN</td>\n",
       "      <td>NaN</td>\n",
       "      <td>NaN</td>\n",
       "      <td>존재</td>\n",
       "      <td>수도권</td>\n",
       "      <td>Y</td>\n",
       "      <td>11000</td>\n",
       "    </tr>\n",
       "    <tr>\n",
       "      <th>1</th>\n",
       "      <td>1111000000</td>\n",
       "      <td>서울</td>\n",
       "      <td>종로구</td>\n",
       "      <td>NaN</td>\n",
       "      <td>NaN</td>\n",
       "      <td>NaN</td>\n",
       "      <td>존재</td>\n",
       "      <td>수도권</td>\n",
       "      <td>Y</td>\n",
       "      <td>11110</td>\n",
       "    </tr>\n",
       "    <tr>\n",
       "      <th>2</th>\n",
       "      <td>1114000000</td>\n",
       "      <td>서울</td>\n",
       "      <td>중구</td>\n",
       "      <td>NaN</td>\n",
       "      <td>NaN</td>\n",
       "      <td>NaN</td>\n",
       "      <td>존재</td>\n",
       "      <td>수도권</td>\n",
       "      <td>Y</td>\n",
       "      <td>11140</td>\n",
       "    </tr>\n",
       "    <tr>\n",
       "      <th>3</th>\n",
       "      <td>1117000000</td>\n",
       "      <td>서울</td>\n",
       "      <td>용산구</td>\n",
       "      <td>NaN</td>\n",
       "      <td>NaN</td>\n",
       "      <td>NaN</td>\n",
       "      <td>존재</td>\n",
       "      <td>수도권</td>\n",
       "      <td>Y</td>\n",
       "      <td>11170</td>\n",
       "    </tr>\n",
       "    <tr>\n",
       "      <th>4</th>\n",
       "      <td>1120000000</td>\n",
       "      <td>서울</td>\n",
       "      <td>성동구</td>\n",
       "      <td>NaN</td>\n",
       "      <td>NaN</td>\n",
       "      <td>NaN</td>\n",
       "      <td>존재</td>\n",
       "      <td>수도권</td>\n",
       "      <td>Y</td>\n",
       "      <td>11200</td>\n",
       "    </tr>\n",
       "  </tbody>\n",
       "</table>\n",
       "</div>"
      ],
      "text/plain": [
       "        법정동코드  시도  시구군  읍면동    리  지역3 폐지여부 대기관리권역 대기관리권역YN  code1\n",
       "0  1100000000  서울  NaN  NaN  NaN  NaN   존재    수도권        Y  11000\n",
       "1  1111000000  서울  종로구  NaN  NaN  NaN   존재    수도권        Y  11110\n",
       "2  1114000000  서울   중구  NaN  NaN  NaN   존재    수도권        Y  11140\n",
       "3  1117000000  서울  용산구  NaN  NaN  NaN   존재    수도권        Y  11170\n",
       "4  1120000000  서울  성동구  NaN  NaN  NaN   존재    수도권        Y  11200"
      ]
     },
     "execution_count": 328,
     "metadata": {},
     "output_type": "execute_result"
    }
   ],
   "source": [
    "code2.head()"
   ]
  },
  {
   "cell_type": "code",
   "execution_count": 329,
   "metadata": {},
   "outputs": [
    {
     "data": {
      "text/html": [
       "<div>\n",
       "<style scoped>\n",
       "    .dataframe tbody tr th:only-of-type {\n",
       "        vertical-align: middle;\n",
       "    }\n",
       "\n",
       "    .dataframe tbody tr th {\n",
       "        vertical-align: top;\n",
       "    }\n",
       "\n",
       "    .dataframe thead th {\n",
       "        text-align: right;\n",
       "    }\n",
       "</style>\n",
       "<table border=\"1\" class=\"dataframe\">\n",
       "  <thead>\n",
       "    <tr style=\"text-align: right;\">\n",
       "      <th></th>\n",
       "      <th>법정동코드</th>\n",
       "      <th>시도</th>\n",
       "      <th>시구군</th>\n",
       "      <th>읍면동</th>\n",
       "      <th>리</th>\n",
       "      <th>지역3</th>\n",
       "      <th>폐지여부</th>\n",
       "      <th>대기관리권역</th>\n",
       "      <th>대기관리권역YN</th>\n",
       "      <th>code1</th>\n",
       "    </tr>\n",
       "  </thead>\n",
       "  <tbody>\n",
       "    <tr>\n",
       "      <th>122</th>\n",
       "      <td>3611000000</td>\n",
       "      <td>세종</td>\n",
       "      <td>NaN</td>\n",
       "      <td>NaN</td>\n",
       "      <td>NaN</td>\n",
       "      <td>NaN</td>\n",
       "      <td>존재</td>\n",
       "      <td>중부권</td>\n",
       "      <td>Y</td>\n",
       "      <td>36110</td>\n",
       "    </tr>\n",
       "  </tbody>\n",
       "</table>\n",
       "</div>"
      ],
      "text/plain": [
       "          법정동코드  시도  시구군  읍면동    리  지역3 폐지여부 대기관리권역 대기관리권역YN  code1\n",
       "122  3611000000  세종  NaN  NaN  NaN  NaN   존재    중부권        Y  36110"
      ]
     },
     "execution_count": 329,
     "metadata": {},
     "output_type": "execute_result"
    }
   ],
   "source": [
    "code2[code2['시도'] == '세종']"
   ]
  },
  {
   "cell_type": "code",
   "execution_count": 330,
   "metadata": {},
   "outputs": [
    {
     "data": {
      "text/plain": [
       "dtype('O')"
      ]
     },
     "execution_count": 330,
     "metadata": {},
     "output_type": "execute_result"
    }
   ],
   "source": [
    "code2['code1'].dtype"
   ]
  },
  {
   "cell_type": "code",
   "execution_count": 331,
   "metadata": {},
   "outputs": [],
   "source": [
    "code2 = code2[['시도', '시구군', '폐지여부', '대기관리권역', '대기관리권역YN', 'code1']]"
   ]
  },
  {
   "cell_type": "code",
   "execution_count": 332,
   "metadata": {},
   "outputs": [
    {
     "data": {
      "text/html": [
       "<div>\n",
       "<style scoped>\n",
       "    .dataframe tbody tr th:only-of-type {\n",
       "        vertical-align: middle;\n",
       "    }\n",
       "\n",
       "    .dataframe tbody tr th {\n",
       "        vertical-align: top;\n",
       "    }\n",
       "\n",
       "    .dataframe thead th {\n",
       "        text-align: right;\n",
       "    }\n",
       "</style>\n",
       "<table border=\"1\" class=\"dataframe\">\n",
       "  <thead>\n",
       "    <tr style=\"text-align: right;\">\n",
       "      <th></th>\n",
       "      <th>시도</th>\n",
       "      <th>시구군</th>\n",
       "      <th>폐지여부</th>\n",
       "      <th>대기관리권역</th>\n",
       "      <th>대기관리권역YN</th>\n",
       "      <th>code1</th>\n",
       "    </tr>\n",
       "  </thead>\n",
       "  <tbody>\n",
       "    <tr>\n",
       "      <th>0</th>\n",
       "      <td>서울</td>\n",
       "      <td>NaN</td>\n",
       "      <td>존재</td>\n",
       "      <td>수도권</td>\n",
       "      <td>Y</td>\n",
       "      <td>11000</td>\n",
       "    </tr>\n",
       "    <tr>\n",
       "      <th>1</th>\n",
       "      <td>서울</td>\n",
       "      <td>종로구</td>\n",
       "      <td>존재</td>\n",
       "      <td>수도권</td>\n",
       "      <td>Y</td>\n",
       "      <td>11110</td>\n",
       "    </tr>\n",
       "    <tr>\n",
       "      <th>2</th>\n",
       "      <td>서울</td>\n",
       "      <td>중구</td>\n",
       "      <td>존재</td>\n",
       "      <td>수도권</td>\n",
       "      <td>Y</td>\n",
       "      <td>11140</td>\n",
       "    </tr>\n",
       "    <tr>\n",
       "      <th>3</th>\n",
       "      <td>서울</td>\n",
       "      <td>용산구</td>\n",
       "      <td>존재</td>\n",
       "      <td>수도권</td>\n",
       "      <td>Y</td>\n",
       "      <td>11170</td>\n",
       "    </tr>\n",
       "    <tr>\n",
       "      <th>4</th>\n",
       "      <td>서울</td>\n",
       "      <td>성동구</td>\n",
       "      <td>존재</td>\n",
       "      <td>수도권</td>\n",
       "      <td>Y</td>\n",
       "      <td>11200</td>\n",
       "    </tr>\n",
       "  </tbody>\n",
       "</table>\n",
       "</div>"
      ],
      "text/plain": [
       "   시도  시구군 폐지여부 대기관리권역 대기관리권역YN  code1\n",
       "0  서울  NaN   존재    수도권        Y  11000\n",
       "1  서울  종로구   존재    수도권        Y  11110\n",
       "2  서울   중구   존재    수도권        Y  11140\n",
       "3  서울  용산구   존재    수도권        Y  11170\n",
       "4  서울  성동구   존재    수도권        Y  11200"
      ]
     },
     "execution_count": 332,
     "metadata": {},
     "output_type": "execute_result"
    }
   ],
   "source": [
    "code2.head()"
   ]
  },
  {
   "attachments": {},
   "cell_type": "markdown",
   "metadata": {},
   "source": [
    "### 법정동 코드 추가"
   ]
  },
  {
   "cell_type": "code",
   "execution_count": 333,
   "metadata": {},
   "outputs": [
    {
     "data": {
      "text/plain": [
       "0    4824034000\n",
       "1    4482533000\n",
       "2    2826011000\n",
       "3    4476032000\n",
       "4    4423038028\n",
       "Name: 본거지법정동코드, dtype: int64"
      ]
     },
     "execution_count": 333,
     "metadata": {},
     "output_type": "execute_result"
    }
   ],
   "source": [
    "df4['본거지법정동코드'].head()"
   ]
  },
  {
   "cell_type": "code",
   "execution_count": 334,
   "metadata": {},
   "outputs": [
    {
     "data": {
      "text/plain": [
       "0"
      ]
     },
     "execution_count": 334,
     "metadata": {},
     "output_type": "execute_result"
    }
   ],
   "source": [
    "df4['본거지법정동코드'].isnull().sum()"
   ]
  },
  {
   "cell_type": "code",
   "execution_count": 335,
   "metadata": {},
   "outputs": [
    {
     "data": {
      "text/plain": [
       "0    48240\n",
       "1    44825\n",
       "2    28260\n",
       "3    44760\n",
       "4    44230\n",
       "Name: code1, dtype: object"
      ]
     },
     "execution_count": 335,
     "metadata": {},
     "output_type": "execute_result"
    }
   ],
   "source": [
    "df4['code1'] = df4['본거지법정동코드'].astype('str').str[:5]\n",
    "df4['code1'].head()"
   ]
  },
  {
   "cell_type": "code",
   "execution_count": 336,
   "metadata": {},
   "outputs": [
    {
     "data": {
      "text/html": [
       "<div>\n",
       "<style scoped>\n",
       "    .dataframe tbody tr th:only-of-type {\n",
       "        vertical-align: middle;\n",
       "    }\n",
       "\n",
       "    .dataframe tbody tr th {\n",
       "        vertical-align: top;\n",
       "    }\n",
       "\n",
       "    .dataframe thead th {\n",
       "        text-align: right;\n",
       "    }\n",
       "</style>\n",
       "<table border=\"1\" class=\"dataframe\">\n",
       "  <thead>\n",
       "    <tr style=\"text-align: right;\">\n",
       "      <th></th>\n",
       "      <th>code1</th>\n",
       "      <th>시도</th>\n",
       "      <th>시구군</th>\n",
       "      <th>폐지여부</th>\n",
       "      <th>대기관리권역</th>\n",
       "      <th>대기관리권역YN</th>\n",
       "    </tr>\n",
       "  </thead>\n",
       "  <tbody>\n",
       "    <tr>\n",
       "      <th>0</th>\n",
       "      <td>48240</td>\n",
       "      <td>경남</td>\n",
       "      <td>사천시</td>\n",
       "      <td>존재</td>\n",
       "      <td>동남권</td>\n",
       "      <td>N</td>\n",
       "    </tr>\n",
       "    <tr>\n",
       "      <th>1</th>\n",
       "      <td>44825</td>\n",
       "      <td>충남</td>\n",
       "      <td>태안군</td>\n",
       "      <td>존재</td>\n",
       "      <td>중부권</td>\n",
       "      <td>Y</td>\n",
       "    </tr>\n",
       "    <tr>\n",
       "      <th>2</th>\n",
       "      <td>28260</td>\n",
       "      <td>인천</td>\n",
       "      <td>서구</td>\n",
       "      <td>존재</td>\n",
       "      <td>수도권</td>\n",
       "      <td>Y</td>\n",
       "    </tr>\n",
       "    <tr>\n",
       "      <th>3</th>\n",
       "      <td>44760</td>\n",
       "      <td>충남</td>\n",
       "      <td>부여군</td>\n",
       "      <td>존재</td>\n",
       "      <td>중부권</td>\n",
       "      <td>Y</td>\n",
       "    </tr>\n",
       "    <tr>\n",
       "      <th>4</th>\n",
       "      <td>44230</td>\n",
       "      <td>충남</td>\n",
       "      <td>논산시</td>\n",
       "      <td>존재</td>\n",
       "      <td>중부권</td>\n",
       "      <td>Y</td>\n",
       "    </tr>\n",
       "  </tbody>\n",
       "</table>\n",
       "</div>"
      ],
      "text/plain": [
       "   code1  시도  시구군 폐지여부 대기관리권역 대기관리권역YN\n",
       "0  48240  경남  사천시   존재    동남권        N\n",
       "1  44825  충남  태안군   존재    중부권        Y\n",
       "2  28260  인천   서구   존재    수도권        Y\n",
       "3  44760  충남  부여군   존재    중부권        Y\n",
       "4  44230  충남  논산시   존재    중부권        Y"
      ]
     },
     "execution_count": 336,
     "metadata": {},
     "output_type": "execute_result"
    }
   ],
   "source": [
    "df5 = df4.merge(code2, on='code1', how='left')\n",
    "df5[['code1', '시도', '시구군', '폐지여부', '대기관리권역', '대기관리권역YN']].head()"
   ]
  },
  {
   "cell_type": "code",
   "execution_count": 337,
   "metadata": {},
   "outputs": [
    {
     "data": {
      "text/plain": [
       "(1528557, 45)"
      ]
     },
     "execution_count": 337,
     "metadata": {},
     "output_type": "execute_result"
    }
   ],
   "source": [
    "df5.shape"
   ]
  },
  {
   "cell_type": "code",
   "execution_count": 338,
   "metadata": {},
   "outputs": [
    {
     "data": {
      "text/plain": [
       "0"
      ]
     },
     "execution_count": 338,
     "metadata": {},
     "output_type": "execute_result"
    }
   ],
   "source": [
    "df5['시도'].isnull().sum()"
   ]
  },
  {
   "cell_type": "code",
   "execution_count": 339,
   "metadata": {},
   "outputs": [
    {
     "data": {
      "text/plain": [
       "array(['경남', '충남', '인천', '전북', '울산', '경북', '대전', '부산', '광주', '강원', '경기',\n",
       "       '전남', '충북', '대구', '서울', '제주', '세종'], dtype=object)"
      ]
     },
     "execution_count": 339,
     "metadata": {},
     "output_type": "execute_result"
    }
   ],
   "source": [
    "df5['시도'].unique()"
   ]
  },
  {
   "cell_type": "code",
   "execution_count": 340,
   "metadata": {},
   "outputs": [
    {
     "data": {
      "text/plain": [
       "8193"
      ]
     },
     "execution_count": 340,
     "metadata": {},
     "output_type": "execute_result"
    }
   ],
   "source": [
    "df5['시구군'].isnull().sum()"
   ]
  },
  {
   "cell_type": "code",
   "execution_count": 341,
   "metadata": {},
   "outputs": [
    {
     "data": {
      "text/plain": [
       "array(['사천시', '태안군', '서구', '부여군', '논산시', '김제시', '완주군', '울주군', '구미시',\n",
       "       '고성군', '거제시', '울진군', '대덕구', '중구', '원주시', '성남시 중원구', '목포시', '완도군',\n",
       "       '남양주시', '청주시 흥덕구', '춘천시', '단양군', '동구', '김천시', '전주시 덕진구', '함안군',\n",
       "       '영주시', '안성시', '남구', '칠곡군', '사하구', '김포시', '서산시', '달서구', '군산시',\n",
       "       '종로구', '성남시 수정구', '청주시 상당구', '인제군', '장성군', '광산구', '청도군', '경산시',\n",
       "       '여수시', '천안시 서북구', '고양시 일산동구', '아산시', '동대문구', '창원시 의창구', '부천시',\n",
       "       '홍성군', '구리시', '포천시', '철원군', '음성군', '창원시 진해구', '부평구', '양산시', '북구',\n",
       "       '보은군', '여주시', '용인시 기흥구', '평택시', '광양시', '서천군', '서초구', '당진시', '은평구',\n",
       "       '천안시 동남구', '고흥군', '달성군', '충주시', '양주시', '수원시 장안구', '파주시', '예산군',\n",
       "       '강릉시', '강화군', '성동구', '노원구', '안산시 상록구', '성북구', '영등포구', '구로구', '고령군',\n",
       "       '영동군', '제천시', '강남구', '강동구', '미추홀구', '광진구', '시흥시', '영암군', '연제구',\n",
       "       '창녕군', '해운대구', '광주시', '영천시', '진주시', '제주시', '공주시', '마포구', '사상구',\n",
       "       '용인시 처인구', '서대문구', '경주시', '화순군', '횡성군', '포항시 남구', '유성구', '나주시',\n",
       "       '금정구', '청주시 청원구', '연수구', '수성구', '산청군', '광명시', '용산구', '밀양시', '양양군',\n",
       "       '순천시', '보령시', '성주군', '강서구', '부산진구', '연천군', '창원시 성산구', '고양시 덕양구',\n",
       "       nan, '의왕시', '양천구', '의성군', '안양시 만안구', '문경시', '의령군', '거창군', '수영구',\n",
       "       '군포시', '수원시 권선구', '영도구', '함평군', '부안군', '오산시', '전주시 완산구', '담양군',\n",
       "       '화성시', '수원시 팔달구', '안동시', '하동군', '상주시', '창원시 마산회원구', '남동구',\n",
       "       '성남시 분당구', '익산시', '안산시 단원구', '함양군', '곡성군', '강북구', '이천시', '계양구',\n",
       "       '포항시 북구', '구례군', '김해시', '송파구', '중랑구', '청양군', '안양시 동안구', '수원시 영통구',\n",
       "       '동작구', '강진군', '과천시', '옥천군', '영월군', '창원시 마산합포구', '장수군', '의정부시',\n",
       "       '기장군', '동해시', '증평군', '용인시 수지구', '청주시 서원구', '동래구', '관악구', '정읍시',\n",
       "       '군위군', '무주군', '신안군', '보성군', '무안군', '괴산군', '장흥군', '하남시', '합천군',\n",
       "       '도봉구', '영광군', '동두천시', '양평군', '서귀포시', '통영시', '정선군', '진천군', '홍천군',\n",
       "       '가평군', '고양시 일산서구', '예천군', '금천구', '남해군', '해남군', '순창군', '남원시', '임실군',\n",
       "       '울릉군', '삼척시', '청송군', '평창군', '속초시', '영덕군', '옹진군', '양구군', '고창군',\n",
       "       '계룡시', '진도군', '영양군', '봉화군', '금산군', '태백시', '진안군', '화천군', '여주군',\n",
       "       '부천시 오정구', '청원군', '부천시 원미구', '부천시 소사구'], dtype=object)"
      ]
     },
     "execution_count": 341,
     "metadata": {},
     "output_type": "execute_result"
    }
   ],
   "source": [
    "df5['시구군'].unique()"
   ]
  },
  {
   "cell_type": "code",
   "execution_count": 342,
   "metadata": {},
   "outputs": [
    {
     "data": {
      "text/plain": [
       "Index(['차량관리번호', '차량등록번호', '본거지법정동코드', '소유자구분', '차종_등록정보', '용도', '차대번호',\n",
       "       '최초등록일자', '차량연식', '차량제작일자', '검사유효일', '제원관리번호', '배출가스인증번호', '배출가스등급',\n",
       "       '저공해조치종류', '저공해조치구조변경YN', '취득일자', '취득금액', '차명', '차종_제원정보', '차종분류',\n",
       "       '차종유형', '자동차형식', '제작사명', '연료', '엔진형식', '총중량', '적재중량', '엔진출력', '배기량',\n",
       "       '승차인원', '차량길이', '차량너비', '차량높이', '원산지명', '삭제YN', '제원승인일자', '구동형식',\n",
       "       '변속기종류', 'code1', '시도', '시구군', '폐지여부', '대기관리권역', '대기관리권역YN'],\n",
       "      dtype='object')"
      ]
     },
     "execution_count": 342,
     "metadata": {},
     "output_type": "execute_result"
    }
   ],
   "source": [
    "df5.columns"
   ]
  },
  {
   "cell_type": "code",
   "execution_count": 349,
   "metadata": {},
   "outputs": [
    {
     "data": {
      "text/html": [
       "<div>\n",
       "<style scoped>\n",
       "    .dataframe tbody tr th:only-of-type {\n",
       "        vertical-align: middle;\n",
       "    }\n",
       "\n",
       "    .dataframe tbody tr th {\n",
       "        vertical-align: top;\n",
       "    }\n",
       "\n",
       "    .dataframe thead th {\n",
       "        text-align: right;\n",
       "    }\n",
       "</style>\n",
       "<table border=\"1\" class=\"dataframe\">\n",
       "  <thead>\n",
       "    <tr style=\"text-align: right;\">\n",
       "      <th></th>\n",
       "      <th>연료</th>\n",
       "      <th>CNG(압축천연가스)</th>\n",
       "      <th>LPG(액화석유가스)</th>\n",
       "      <th>경유</th>\n",
       "      <th>기타연료</th>\n",
       "      <th>알코올</th>\n",
       "      <th>휘발유</th>\n",
       "    </tr>\n",
       "    <tr>\n",
       "      <th>대기관리권역</th>\n",
       "      <th>대기관리권역YN</th>\n",
       "      <th></th>\n",
       "      <th></th>\n",
       "      <th></th>\n",
       "      <th></th>\n",
       "      <th></th>\n",
       "      <th></th>\n",
       "    </tr>\n",
       "  </thead>\n",
       "  <tbody>\n",
       "    <tr>\n",
       "      <th>그 외</th>\n",
       "      <th>N</th>\n",
       "      <td>NaN</td>\n",
       "      <td>1185.0</td>\n",
       "      <td>69612.0</td>\n",
       "      <td>NaN</td>\n",
       "      <td>NaN</td>\n",
       "      <td>13047.0</td>\n",
       "    </tr>\n",
       "    <tr>\n",
       "      <th rowspan=\"2\" valign=\"top\">남부권</th>\n",
       "      <th>N</th>\n",
       "      <td>1.0</td>\n",
       "      <td>749.0</td>\n",
       "      <td>37746.0</td>\n",
       "      <td>NaN</td>\n",
       "      <td>NaN</td>\n",
       "      <td>5880.0</td>\n",
       "    </tr>\n",
       "    <tr>\n",
       "      <th>Y</th>\n",
       "      <td>NaN</td>\n",
       "      <td>1253.0</td>\n",
       "      <td>65696.0</td>\n",
       "      <td>NaN</td>\n",
       "      <td>NaN</td>\n",
       "      <td>15180.0</td>\n",
       "    </tr>\n",
       "    <tr>\n",
       "      <th rowspan=\"2\" valign=\"top\">동남권</th>\n",
       "      <th>N</th>\n",
       "      <td>NaN</td>\n",
       "      <td>776.0</td>\n",
       "      <td>81976.0</td>\n",
       "      <td>1.0</td>\n",
       "      <td>NaN</td>\n",
       "      <td>12579.0</td>\n",
       "    </tr>\n",
       "    <tr>\n",
       "      <th>Y</th>\n",
       "      <td>NaN</td>\n",
       "      <td>5204.0</td>\n",
       "      <td>248857.0</td>\n",
       "      <td>NaN</td>\n",
       "      <td>NaN</td>\n",
       "      <td>66572.0</td>\n",
       "    </tr>\n",
       "    <tr>\n",
       "      <th rowspan=\"2\" valign=\"top\">수도권</th>\n",
       "      <th>N</th>\n",
       "      <td>NaN</td>\n",
       "      <td>133.0</td>\n",
       "      <td>9465.0</td>\n",
       "      <td>NaN</td>\n",
       "      <td>NaN</td>\n",
       "      <td>2236.0</td>\n",
       "    </tr>\n",
       "    <tr>\n",
       "      <th>Y</th>\n",
       "      <td>NaN</td>\n",
       "      <td>12596.0</td>\n",
       "      <td>436118.0</td>\n",
       "      <td>NaN</td>\n",
       "      <td>1.0</td>\n",
       "      <td>169583.0</td>\n",
       "    </tr>\n",
       "    <tr>\n",
       "      <th rowspan=\"2\" valign=\"top\">중부권</th>\n",
       "      <th>N</th>\n",
       "      <td>NaN</td>\n",
       "      <td>590.0</td>\n",
       "      <td>40787.0</td>\n",
       "      <td>NaN</td>\n",
       "      <td>NaN</td>\n",
       "      <td>6323.0</td>\n",
       "    </tr>\n",
       "    <tr>\n",
       "      <th>Y</th>\n",
       "      <td>NaN</td>\n",
       "      <td>3932.0</td>\n",
       "      <td>177348.0</td>\n",
       "      <td>NaN</td>\n",
       "      <td>NaN</td>\n",
       "      <td>43131.0</td>\n",
       "    </tr>\n",
       "  </tbody>\n",
       "</table>\n",
       "</div>"
      ],
      "text/plain": [
       "연료               CNG(압축천연가스)  LPG(액화석유가스)        경유  기타연료  알코올       휘발유\n",
       "대기관리권역 대기관리권역YN                                                         \n",
       "그 외    N                 NaN       1185.0   69612.0   NaN  NaN   13047.0\n",
       "남부권    N                 1.0        749.0   37746.0   NaN  NaN    5880.0\n",
       "       Y                 NaN       1253.0   65696.0   NaN  NaN   15180.0\n",
       "동남권    N                 NaN        776.0   81976.0   1.0  NaN   12579.0\n",
       "       Y                 NaN       5204.0  248857.0   NaN  NaN   66572.0\n",
       "수도권    N                 NaN        133.0    9465.0   NaN  NaN    2236.0\n",
       "       Y                 NaN      12596.0  436118.0   NaN  1.0  169583.0\n",
       "중부권    N                 NaN        590.0   40787.0   NaN  NaN    6323.0\n",
       "       Y                 NaN       3932.0  177348.0   NaN  NaN   43131.0"
      ]
     },
     "execution_count": 349,
     "metadata": {},
     "output_type": "execute_result"
    }
   ],
   "source": [
    "l1 = df5.groupby(['대기관리권역', '대기관리권역YN', '연료'])['차대번호'].count().unstack()\n",
    "l1"
   ]
  },
  {
   "cell_type": "code",
   "execution_count": 350,
   "metadata": {},
   "outputs": [
    {
     "data": {
      "text/html": [
       "<div>\n",
       "<style scoped>\n",
       "    .dataframe tbody tr th:only-of-type {\n",
       "        vertical-align: middle;\n",
       "    }\n",
       "\n",
       "    .dataframe tbody tr th {\n",
       "        vertical-align: top;\n",
       "    }\n",
       "\n",
       "    .dataframe thead th {\n",
       "        text-align: right;\n",
       "    }\n",
       "</style>\n",
       "<table border=\"1\" class=\"dataframe\">\n",
       "  <thead>\n",
       "    <tr style=\"text-align: right;\">\n",
       "      <th></th>\n",
       "      <th>연료</th>\n",
       "      <th>CNG(압축천연가스)</th>\n",
       "      <th>LPG(액화석유가스)</th>\n",
       "      <th>경유</th>\n",
       "      <th>기타연료</th>\n",
       "      <th>알코올</th>\n",
       "      <th>휘발유</th>\n",
       "    </tr>\n",
       "    <tr>\n",
       "      <th>시도</th>\n",
       "      <th>대기관리권역YN</th>\n",
       "      <th></th>\n",
       "      <th></th>\n",
       "      <th></th>\n",
       "      <th></th>\n",
       "      <th></th>\n",
       "      <th></th>\n",
       "    </tr>\n",
       "  </thead>\n",
       "  <tbody>\n",
       "    <tr>\n",
       "      <th>강원</th>\n",
       "      <th>N</th>\n",
       "      <td>NaN</td>\n",
       "      <td>806.0</td>\n",
       "      <td>47557.0</td>\n",
       "      <td>NaN</td>\n",
       "      <td>NaN</td>\n",
       "      <td>8645.0</td>\n",
       "    </tr>\n",
       "    <tr>\n",
       "      <th rowspan=\"2\" valign=\"top\">경기</th>\n",
       "      <th>N</th>\n",
       "      <td>NaN</td>\n",
       "      <td>119.0</td>\n",
       "      <td>8029.0</td>\n",
       "      <td>NaN</td>\n",
       "      <td>NaN</td>\n",
       "      <td>2018.0</td>\n",
       "    </tr>\n",
       "    <tr>\n",
       "      <th>Y</th>\n",
       "      <td>NaN</td>\n",
       "      <td>6852.0</td>\n",
       "      <td>263413.0</td>\n",
       "      <td>NaN</td>\n",
       "      <td>NaN</td>\n",
       "      <td>87318.0</td>\n",
       "    </tr>\n",
       "    <tr>\n",
       "      <th rowspan=\"2\" valign=\"top\">경남</th>\n",
       "      <th>N</th>\n",
       "      <td>NaN</td>\n",
       "      <td>319.0</td>\n",
       "      <td>35671.0</td>\n",
       "      <td>1.0</td>\n",
       "      <td>NaN</td>\n",
       "      <td>5813.0</td>\n",
       "    </tr>\n",
       "    <tr>\n",
       "      <th>Y</th>\n",
       "      <td>NaN</td>\n",
       "      <td>725.0</td>\n",
       "      <td>62151.0</td>\n",
       "      <td>NaN</td>\n",
       "      <td>NaN</td>\n",
       "      <td>13147.0</td>\n",
       "    </tr>\n",
       "    <tr>\n",
       "      <th rowspan=\"2\" valign=\"top\">경북</th>\n",
       "      <th>N</th>\n",
       "      <td>NaN</td>\n",
       "      <td>457.0</td>\n",
       "      <td>46305.0</td>\n",
       "      <td>NaN</td>\n",
       "      <td>NaN</td>\n",
       "      <td>6766.0</td>\n",
       "    </tr>\n",
       "    <tr>\n",
       "      <th>Y</th>\n",
       "      <td>NaN</td>\n",
       "      <td>1014.0</td>\n",
       "      <td>50059.0</td>\n",
       "      <td>NaN</td>\n",
       "      <td>NaN</td>\n",
       "      <td>13076.0</td>\n",
       "    </tr>\n",
       "    <tr>\n",
       "      <th>광주</th>\n",
       "      <th>Y</th>\n",
       "      <td>NaN</td>\n",
       "      <td>721.0</td>\n",
       "      <td>30708.0</td>\n",
       "      <td>NaN</td>\n",
       "      <td>NaN</td>\n",
       "      <td>8419.0</td>\n",
       "    </tr>\n",
       "    <tr>\n",
       "      <th>대구</th>\n",
       "      <th>Y</th>\n",
       "      <td>NaN</td>\n",
       "      <td>1675.0</td>\n",
       "      <td>51173.0</td>\n",
       "      <td>NaN</td>\n",
       "      <td>NaN</td>\n",
       "      <td>16943.0</td>\n",
       "    </tr>\n",
       "    <tr>\n",
       "      <th>대전</th>\n",
       "      <th>Y</th>\n",
       "      <td>NaN</td>\n",
       "      <td>1248.0</td>\n",
       "      <td>30365.0</td>\n",
       "      <td>NaN</td>\n",
       "      <td>NaN</td>\n",
       "      <td>10577.0</td>\n",
       "    </tr>\n",
       "    <tr>\n",
       "      <th>부산</th>\n",
       "      <th>Y</th>\n",
       "      <td>NaN</td>\n",
       "      <td>1517.0</td>\n",
       "      <td>58875.0</td>\n",
       "      <td>NaN</td>\n",
       "      <td>NaN</td>\n",
       "      <td>17442.0</td>\n",
       "    </tr>\n",
       "    <tr>\n",
       "      <th>서울</th>\n",
       "      <th>Y</th>\n",
       "      <td>NaN</td>\n",
       "      <td>4439.0</td>\n",
       "      <td>112475.0</td>\n",
       "      <td>NaN</td>\n",
       "      <td>NaN</td>\n",
       "      <td>63609.0</td>\n",
       "    </tr>\n",
       "    <tr>\n",
       "      <th>세종</th>\n",
       "      <th>Y</th>\n",
       "      <td>NaN</td>\n",
       "      <td>66.0</td>\n",
       "      <td>6790.0</td>\n",
       "      <td>NaN</td>\n",
       "      <td>NaN</td>\n",
       "      <td>1337.0</td>\n",
       "    </tr>\n",
       "    <tr>\n",
       "      <th>울산</th>\n",
       "      <th>Y</th>\n",
       "      <td>NaN</td>\n",
       "      <td>273.0</td>\n",
       "      <td>26599.0</td>\n",
       "      <td>NaN</td>\n",
       "      <td>NaN</td>\n",
       "      <td>5964.0</td>\n",
       "    </tr>\n",
       "    <tr>\n",
       "      <th rowspan=\"2\" valign=\"top\">인천</th>\n",
       "      <th>N</th>\n",
       "      <td>NaN</td>\n",
       "      <td>14.0</td>\n",
       "      <td>1436.0</td>\n",
       "      <td>NaN</td>\n",
       "      <td>NaN</td>\n",
       "      <td>218.0</td>\n",
       "    </tr>\n",
       "    <tr>\n",
       "      <th>Y</th>\n",
       "      <td>NaN</td>\n",
       "      <td>1305.0</td>\n",
       "      <td>60230.0</td>\n",
       "      <td>NaN</td>\n",
       "      <td>1.0</td>\n",
       "      <td>18656.0</td>\n",
       "    </tr>\n",
       "    <tr>\n",
       "      <th rowspan=\"2\" valign=\"top\">전남</th>\n",
       "      <th>N</th>\n",
       "      <td>1.0</td>\n",
       "      <td>749.0</td>\n",
       "      <td>37746.0</td>\n",
       "      <td>NaN</td>\n",
       "      <td>NaN</td>\n",
       "      <td>5880.0</td>\n",
       "    </tr>\n",
       "    <tr>\n",
       "      <th>Y</th>\n",
       "      <td>NaN</td>\n",
       "      <td>532.0</td>\n",
       "      <td>34988.0</td>\n",
       "      <td>NaN</td>\n",
       "      <td>NaN</td>\n",
       "      <td>6761.0</td>\n",
       "    </tr>\n",
       "    <tr>\n",
       "      <th rowspan=\"2\" valign=\"top\">전북</th>\n",
       "      <th>N</th>\n",
       "      <td>NaN</td>\n",
       "      <td>399.0</td>\n",
       "      <td>29035.0</td>\n",
       "      <td>NaN</td>\n",
       "      <td>NaN</td>\n",
       "      <td>4261.0</td>\n",
       "    </tr>\n",
       "    <tr>\n",
       "      <th>Y</th>\n",
       "      <td>NaN</td>\n",
       "      <td>590.0</td>\n",
       "      <td>32030.0</td>\n",
       "      <td>NaN</td>\n",
       "      <td>NaN</td>\n",
       "      <td>7142.0</td>\n",
       "    </tr>\n",
       "    <tr>\n",
       "      <th>제주</th>\n",
       "      <th>N</th>\n",
       "      <td>NaN</td>\n",
       "      <td>379.0</td>\n",
       "      <td>22055.0</td>\n",
       "      <td>NaN</td>\n",
       "      <td>NaN</td>\n",
       "      <td>4402.0</td>\n",
       "    </tr>\n",
       "    <tr>\n",
       "      <th rowspan=\"2\" valign=\"top\">충남</th>\n",
       "      <th>N</th>\n",
       "      <td>NaN</td>\n",
       "      <td>33.0</td>\n",
       "      <td>2372.0</td>\n",
       "      <td>NaN</td>\n",
       "      <td>NaN</td>\n",
       "      <td>459.0</td>\n",
       "    </tr>\n",
       "    <tr>\n",
       "      <th>Y</th>\n",
       "      <td>NaN</td>\n",
       "      <td>957.0</td>\n",
       "      <td>68208.0</td>\n",
       "      <td>NaN</td>\n",
       "      <td>NaN</td>\n",
       "      <td>14436.0</td>\n",
       "    </tr>\n",
       "    <tr>\n",
       "      <th rowspan=\"2\" valign=\"top\">충북</th>\n",
       "      <th>N</th>\n",
       "      <td>NaN</td>\n",
       "      <td>158.0</td>\n",
       "      <td>9380.0</td>\n",
       "      <td>NaN</td>\n",
       "      <td>NaN</td>\n",
       "      <td>1603.0</td>\n",
       "    </tr>\n",
       "    <tr>\n",
       "      <th>Y</th>\n",
       "      <td>NaN</td>\n",
       "      <td>1071.0</td>\n",
       "      <td>39955.0</td>\n",
       "      <td>NaN</td>\n",
       "      <td>NaN</td>\n",
       "      <td>9639.0</td>\n",
       "    </tr>\n",
       "  </tbody>\n",
       "</table>\n",
       "</div>"
      ],
      "text/plain": [
       "연료           CNG(압축천연가스)  LPG(액화석유가스)        경유  기타연료  알코올      휘발유\n",
       "시도 대기관리권역YN                                                        \n",
       "강원 N                 NaN        806.0   47557.0   NaN  NaN   8645.0\n",
       "경기 N                 NaN        119.0    8029.0   NaN  NaN   2018.0\n",
       "   Y                 NaN       6852.0  263413.0   NaN  NaN  87318.0\n",
       "경남 N                 NaN        319.0   35671.0   1.0  NaN   5813.0\n",
       "   Y                 NaN        725.0   62151.0   NaN  NaN  13147.0\n",
       "경북 N                 NaN        457.0   46305.0   NaN  NaN   6766.0\n",
       "   Y                 NaN       1014.0   50059.0   NaN  NaN  13076.0\n",
       "광주 Y                 NaN        721.0   30708.0   NaN  NaN   8419.0\n",
       "대구 Y                 NaN       1675.0   51173.0   NaN  NaN  16943.0\n",
       "대전 Y                 NaN       1248.0   30365.0   NaN  NaN  10577.0\n",
       "부산 Y                 NaN       1517.0   58875.0   NaN  NaN  17442.0\n",
       "서울 Y                 NaN       4439.0  112475.0   NaN  NaN  63609.0\n",
       "세종 Y                 NaN         66.0    6790.0   NaN  NaN   1337.0\n",
       "울산 Y                 NaN        273.0   26599.0   NaN  NaN   5964.0\n",
       "인천 N                 NaN         14.0    1436.0   NaN  NaN    218.0\n",
       "   Y                 NaN       1305.0   60230.0   NaN  1.0  18656.0\n",
       "전남 N                 1.0        749.0   37746.0   NaN  NaN   5880.0\n",
       "   Y                 NaN        532.0   34988.0   NaN  NaN   6761.0\n",
       "전북 N                 NaN        399.0   29035.0   NaN  NaN   4261.0\n",
       "   Y                 NaN        590.0   32030.0   NaN  NaN   7142.0\n",
       "제주 N                 NaN        379.0   22055.0   NaN  NaN   4402.0\n",
       "충남 N                 NaN         33.0    2372.0   NaN  NaN    459.0\n",
       "   Y                 NaN        957.0   68208.0   NaN  NaN  14436.0\n",
       "충북 N                 NaN        158.0    9380.0   NaN  NaN   1603.0\n",
       "   Y                 NaN       1071.0   39955.0   NaN  NaN   9639.0"
      ]
     },
     "execution_count": 350,
     "metadata": {},
     "output_type": "execute_result"
    }
   ],
   "source": [
    "l2 = df5.groupby(['시도', '대기관리권역YN', '연료'])['차대번호'].count().unstack()\n",
    "l2"
   ]
  },
  {
   "cell_type": "markdown",
   "metadata": {},
   "source": [
    "### [excel] 지역별 수량 통계"
   ]
  },
  {
   "cell_type": "code",
   "execution_count": 353,
   "metadata": {},
   "outputs": [],
   "source": [
    "local = pd.ExcelWriter('analysis/[G4][차대번호]지역별_통계.xlsx', engine='openpyxl')\n",
    "l1.to_excel(local, sheet_name='권역')\n",
    "l2.to_excel(local, sheet_name='지역')\n",
    "local.save()"
   ]
  },
  {
   "attachments": {},
   "cell_type": "markdown",
   "metadata": {},
   "source": [
    "# [출력] 4등급 제원정보(csv)\n",
    "- 차량말소 적용, 차대번호 중복제거, 연료정보 수정, 지역명 추가"
   ]
  },
  {
   "cell_type": "code",
   "execution_count": 354,
   "metadata": {},
   "outputs": [],
   "source": [
    "# 4등급 제원정보 수정(차량말소 적용, 차대번호 중복제거, 연료정보 수정, 지역명 추가)\n",
    "# 30.2s\n",
    "df5.to_csv('data/220819_22.06월기준_4등급2.csv', encoding='cp949')"
   ]
  },
  {
   "attachments": {},
   "cell_type": "markdown",
   "metadata": {},
   "source": [
    "# [로드] 4등급 제원정보(csv)"
   ]
  },
  {
   "cell_type": "code",
   "execution_count": 274,
   "metadata": {},
   "outputs": [
    {
     "name": "stderr",
     "output_type": "stream",
     "text": [
      "C:\\Users\\kbjung\\AppData\\Local\\Temp\\ipykernel_456\\441361917.py:2: DtypeWarning: Columns (12,15,17,29,37,38) have mixed types. Specify dtype option on import or set low_memory=False.\n",
      "  df5 = pd.read_csv('data/220819_22.06월기준_4등급2.csv', encoding='cp949', index_col=0)\n"
     ]
    },
    {
     "name": "stdout",
     "output_type": "stream",
     "text": [
      "<class 'pandas.core.frame.DataFrame'>\n",
      "Int64Index: 1528557 entries, 0 to 1528556\n",
      "Data columns (total 45 columns):\n",
      " #   Column       Non-Null Count    Dtype  \n",
      "---  ------       --------------    -----  \n",
      " 0   차량관리번호       1528557 non-null  object \n",
      " 1   차량등록번호       1528557 non-null  object \n",
      " 2   본거지법정동코드     1528557 non-null  int64  \n",
      " 3   소유자구분        1528557 non-null  object \n",
      " 4   차종_등록정보      1528555 non-null  object \n",
      " 5   용도           1528557 non-null  object \n",
      " 6   차대번호         1528557 non-null  object \n",
      " 7   최초등록일자       1528557 non-null  int64  \n",
      " 8   차량연식         1528557 non-null  int64  \n",
      " 9   차량제작일자       1358915 non-null  float64\n",
      " 10  검사유효일        1528545 non-null  float64\n",
      " 11  제원관리번호       1528557 non-null  object \n",
      " 12  배출가스인증번호     1405566 non-null  object \n",
      " 13  배출가스등급       1528557 non-null  int64  \n",
      " 14  저공해조치종류      195 non-null      object \n",
      " 15  저공해조치구조변경YN  1528557 non-null  object \n",
      " 16  취득일자         1435498 non-null  object \n",
      " 17  취득금액         1453590 non-null  float64\n",
      " 18  차명           1528557 non-null  object \n",
      " 19  차종_제원정보      1528557 non-null  object \n",
      " 20  차종분류         1528557 non-null  object \n",
      " 21  차종유형         1528557 non-null  object \n",
      " 22  자동차형식        1528273 non-null  object \n",
      " 23  제작사명         1518665 non-null  object \n",
      " 24  연료           1528557 non-null  object \n",
      " 25  엔진형식         1526711 non-null  object \n",
      " 26  총중량          1528556 non-null  float64\n",
      " 27  적재중량         1528046 non-null  float64\n",
      " 28  엔진출력         1528198 non-null  object \n",
      " 29  배기량          1528553 non-null  float64\n",
      " 30  승차인원         1528557 non-null  int64  \n",
      " 31  차량길이         1528556 non-null  float64\n",
      " 32  차량너비         1528556 non-null  float64\n",
      " 33  차량높이         1528554 non-null  float64\n",
      " 34  원산지명         1509474 non-null  object \n",
      " 35  삭제YN         1528557 non-null  object \n",
      " 36  제원승인일자       1528126 non-null  object \n",
      " 37  구동형식         41 non-null       object \n",
      " 38  변속기종류        1528397 non-null  object \n",
      " 39  code1        1528557 non-null  int64  \n",
      " 40  시도           1528557 non-null  object \n",
      " 41  시구군          1520364 non-null  object \n",
      " 42  폐지여부         1528557 non-null  object \n",
      " 43  대기관리권역       1528557 non-null  object \n",
      " 44  대기관리권역YN     1528557 non-null  object \n",
      "dtypes: float64(9), int64(6), object(30)\n",
      "memory usage: 536.5+ MB\n"
     ]
    }
   ],
   "source": [
    "# 약 24s\n",
    "df5 = pd.read_csv('data/220819_22.06월기준_4등급2.csv', encoding='cp949', index_col=0)\n",
    "df5.info()"
   ]
  },
  {
   "attachments": {},
   "cell_type": "markdown",
   "metadata": {},
   "source": [
    "## 지역별 연료별 통계"
   ]
  },
  {
   "cell_type": "code",
   "execution_count": 275,
   "metadata": {},
   "outputs": [
    {
     "data": {
      "text/plain": [
       "Index(['차량관리번호', '차량등록번호', '본거지법정동코드', '소유자구분', '차종_등록정보', '용도', '차대번호',\n",
       "       '최초등록일자', '차량연식', '차량제작일자', '검사유효일', '제원관리번호', '배출가스인증번호', '배출가스등급',\n",
       "       '저공해조치종류', '저공해조치구조변경YN', '취득일자', '취득금액', '차명', '차종_제원정보', '차종분류',\n",
       "       '차종유형', '자동차형식', '제작사명', '연료', '엔진형식', '총중량', '적재중량', '엔진출력', '배기량',\n",
       "       '승차인원', '차량길이', '차량너비', '차량높이', '원산지명', '삭제YN', '제원승인일자', '구동형식',\n",
       "       '변속기종류', 'code1', '시도', '시구군', '폐지여부', '대기관리권역', '대기관리권역YN'],\n",
       "      dtype='object')"
      ]
     },
     "execution_count": 275,
     "metadata": {},
     "output_type": "execute_result"
    }
   ],
   "source": [
    "df5.columns"
   ]
  },
  {
   "cell_type": "code",
   "execution_count": 276,
   "metadata": {},
   "outputs": [
    {
     "data": {
      "text/plain": [
       "시도  연료         \n",
       "강원  LPG(액화석유가스)       806\n",
       "    경유              47557\n",
       "    휘발유              8645\n",
       "경기  LPG(액화석유가스)      6971\n",
       "    경유             271442\n",
       "    휘발유             89336\n",
       "경남  LPG(액화석유가스)      1044\n",
       "    경유              97822\n",
       "    기타연료                1\n",
       "    휘발유             18960\n",
       "경북  LPG(액화석유가스)      1471\n",
       "    경유              96364\n",
       "    휘발유             19842\n",
       "광주  LPG(액화석유가스)       721\n",
       "    경유              30708\n",
       "    휘발유              8419\n",
       "대구  LPG(액화석유가스)      1675\n",
       "    경유              51173\n",
       "    휘발유             16943\n",
       "대전  LPG(액화석유가스)      1248\n",
       "    경유              30365\n",
       "    휘발유             10577\n",
       "부산  LPG(액화석유가스)      1517\n",
       "    경유              58875\n",
       "    휘발유             17442\n",
       "서울  LPG(액화석유가스)      4439\n",
       "    경유             112475\n",
       "    휘발유             63609\n",
       "세종  LPG(액화석유가스)        66\n",
       "    경유               6790\n",
       "    휘발유              1337\n",
       "울산  LPG(액화석유가스)       273\n",
       "    경유              26599\n",
       "    휘발유              5964\n",
       "인천  LPG(액화석유가스)      1319\n",
       "    경유              61666\n",
       "    알코올                 1\n",
       "    휘발유             18874\n",
       "전남  CNG(압축천연가스)         1\n",
       "    LPG(액화석유가스)      1281\n",
       "    경유              72734\n",
       "    휘발유             12641\n",
       "전북  LPG(액화석유가스)       989\n",
       "    경유              61065\n",
       "    휘발유             11403\n",
       "제주  LPG(액화석유가스)       379\n",
       "    경유              22055\n",
       "    휘발유              4402\n",
       "충남  LPG(액화석유가스)       990\n",
       "    경유              70580\n",
       "    휘발유             14895\n",
       "충북  LPG(액화석유가스)      1229\n",
       "    경유              49335\n",
       "    휘발유             11242\n",
       "Name: 차대번호, dtype: int64"
      ]
     },
     "execution_count": 276,
     "metadata": {},
     "output_type": "execute_result"
    }
   ],
   "source": [
    "statics_by_local_fuel = df5.groupby(['시도', '연료'])['차대번호'].count()\n",
    "statics_by_local_fuel"
   ]
  },
  {
   "cell_type": "code",
   "execution_count": 357,
   "metadata": {},
   "outputs": [
    {
     "data": {
      "text/html": [
       "<div>\n",
       "<style scoped>\n",
       "    .dataframe tbody tr th:only-of-type {\n",
       "        vertical-align: middle;\n",
       "    }\n",
       "\n",
       "    .dataframe tbody tr th {\n",
       "        vertical-align: top;\n",
       "    }\n",
       "\n",
       "    .dataframe thead th {\n",
       "        text-align: right;\n",
       "    }\n",
       "</style>\n",
       "<table border=\"1\" class=\"dataframe\">\n",
       "  <thead>\n",
       "    <tr style=\"text-align: right;\">\n",
       "      <th>연료</th>\n",
       "      <th>CNG(압축천연가스)</th>\n",
       "      <th>LPG(액화석유가스)</th>\n",
       "      <th>경유</th>\n",
       "      <th>기타연료</th>\n",
       "      <th>알코올</th>\n",
       "      <th>휘발유</th>\n",
       "    </tr>\n",
       "    <tr>\n",
       "      <th>시도</th>\n",
       "      <th></th>\n",
       "      <th></th>\n",
       "      <th></th>\n",
       "      <th></th>\n",
       "      <th></th>\n",
       "      <th></th>\n",
       "    </tr>\n",
       "  </thead>\n",
       "  <tbody>\n",
       "    <tr>\n",
       "      <th>강원</th>\n",
       "      <td>NaN</td>\n",
       "      <td>806.0</td>\n",
       "      <td>47557.0</td>\n",
       "      <td>NaN</td>\n",
       "      <td>NaN</td>\n",
       "      <td>8645.0</td>\n",
       "    </tr>\n",
       "    <tr>\n",
       "      <th>경기</th>\n",
       "      <td>NaN</td>\n",
       "      <td>6971.0</td>\n",
       "      <td>271442.0</td>\n",
       "      <td>NaN</td>\n",
       "      <td>NaN</td>\n",
       "      <td>89336.0</td>\n",
       "    </tr>\n",
       "    <tr>\n",
       "      <th>경남</th>\n",
       "      <td>NaN</td>\n",
       "      <td>1044.0</td>\n",
       "      <td>97822.0</td>\n",
       "      <td>1.0</td>\n",
       "      <td>NaN</td>\n",
       "      <td>18960.0</td>\n",
       "    </tr>\n",
       "    <tr>\n",
       "      <th>경북</th>\n",
       "      <td>NaN</td>\n",
       "      <td>1471.0</td>\n",
       "      <td>96364.0</td>\n",
       "      <td>NaN</td>\n",
       "      <td>NaN</td>\n",
       "      <td>19842.0</td>\n",
       "    </tr>\n",
       "    <tr>\n",
       "      <th>광주</th>\n",
       "      <td>NaN</td>\n",
       "      <td>721.0</td>\n",
       "      <td>30708.0</td>\n",
       "      <td>NaN</td>\n",
       "      <td>NaN</td>\n",
       "      <td>8419.0</td>\n",
       "    </tr>\n",
       "    <tr>\n",
       "      <th>대구</th>\n",
       "      <td>NaN</td>\n",
       "      <td>1675.0</td>\n",
       "      <td>51173.0</td>\n",
       "      <td>NaN</td>\n",
       "      <td>NaN</td>\n",
       "      <td>16943.0</td>\n",
       "    </tr>\n",
       "    <tr>\n",
       "      <th>대전</th>\n",
       "      <td>NaN</td>\n",
       "      <td>1248.0</td>\n",
       "      <td>30365.0</td>\n",
       "      <td>NaN</td>\n",
       "      <td>NaN</td>\n",
       "      <td>10577.0</td>\n",
       "    </tr>\n",
       "    <tr>\n",
       "      <th>부산</th>\n",
       "      <td>NaN</td>\n",
       "      <td>1517.0</td>\n",
       "      <td>58875.0</td>\n",
       "      <td>NaN</td>\n",
       "      <td>NaN</td>\n",
       "      <td>17442.0</td>\n",
       "    </tr>\n",
       "    <tr>\n",
       "      <th>서울</th>\n",
       "      <td>NaN</td>\n",
       "      <td>4439.0</td>\n",
       "      <td>112475.0</td>\n",
       "      <td>NaN</td>\n",
       "      <td>NaN</td>\n",
       "      <td>63609.0</td>\n",
       "    </tr>\n",
       "    <tr>\n",
       "      <th>세종</th>\n",
       "      <td>NaN</td>\n",
       "      <td>66.0</td>\n",
       "      <td>6790.0</td>\n",
       "      <td>NaN</td>\n",
       "      <td>NaN</td>\n",
       "      <td>1337.0</td>\n",
       "    </tr>\n",
       "    <tr>\n",
       "      <th>울산</th>\n",
       "      <td>NaN</td>\n",
       "      <td>273.0</td>\n",
       "      <td>26599.0</td>\n",
       "      <td>NaN</td>\n",
       "      <td>NaN</td>\n",
       "      <td>5964.0</td>\n",
       "    </tr>\n",
       "    <tr>\n",
       "      <th>인천</th>\n",
       "      <td>NaN</td>\n",
       "      <td>1319.0</td>\n",
       "      <td>61666.0</td>\n",
       "      <td>NaN</td>\n",
       "      <td>1.0</td>\n",
       "      <td>18874.0</td>\n",
       "    </tr>\n",
       "    <tr>\n",
       "      <th>전남</th>\n",
       "      <td>1.0</td>\n",
       "      <td>1281.0</td>\n",
       "      <td>72734.0</td>\n",
       "      <td>NaN</td>\n",
       "      <td>NaN</td>\n",
       "      <td>12641.0</td>\n",
       "    </tr>\n",
       "    <tr>\n",
       "      <th>전북</th>\n",
       "      <td>NaN</td>\n",
       "      <td>989.0</td>\n",
       "      <td>61065.0</td>\n",
       "      <td>NaN</td>\n",
       "      <td>NaN</td>\n",
       "      <td>11403.0</td>\n",
       "    </tr>\n",
       "    <tr>\n",
       "      <th>제주</th>\n",
       "      <td>NaN</td>\n",
       "      <td>379.0</td>\n",
       "      <td>22055.0</td>\n",
       "      <td>NaN</td>\n",
       "      <td>NaN</td>\n",
       "      <td>4402.0</td>\n",
       "    </tr>\n",
       "    <tr>\n",
       "      <th>충남</th>\n",
       "      <td>NaN</td>\n",
       "      <td>990.0</td>\n",
       "      <td>70580.0</td>\n",
       "      <td>NaN</td>\n",
       "      <td>NaN</td>\n",
       "      <td>14895.0</td>\n",
       "    </tr>\n",
       "    <tr>\n",
       "      <th>충북</th>\n",
       "      <td>NaN</td>\n",
       "      <td>1229.0</td>\n",
       "      <td>49335.0</td>\n",
       "      <td>NaN</td>\n",
       "      <td>NaN</td>\n",
       "      <td>11242.0</td>\n",
       "    </tr>\n",
       "  </tbody>\n",
       "</table>\n",
       "</div>"
      ],
      "text/plain": [
       "연료  CNG(압축천연가스)  LPG(액화석유가스)        경유  기타연료  알코올      휘발유\n",
       "시도                                                        \n",
       "강원          NaN        806.0   47557.0   NaN  NaN   8645.0\n",
       "경기          NaN       6971.0  271442.0   NaN  NaN  89336.0\n",
       "경남          NaN       1044.0   97822.0   1.0  NaN  18960.0\n",
       "경북          NaN       1471.0   96364.0   NaN  NaN  19842.0\n",
       "광주          NaN        721.0   30708.0   NaN  NaN   8419.0\n",
       "대구          NaN       1675.0   51173.0   NaN  NaN  16943.0\n",
       "대전          NaN       1248.0   30365.0   NaN  NaN  10577.0\n",
       "부산          NaN       1517.0   58875.0   NaN  NaN  17442.0\n",
       "서울          NaN       4439.0  112475.0   NaN  NaN  63609.0\n",
       "세종          NaN         66.0    6790.0   NaN  NaN   1337.0\n",
       "울산          NaN        273.0   26599.0   NaN  NaN   5964.0\n",
       "인천          NaN       1319.0   61666.0   NaN  1.0  18874.0\n",
       "전남          1.0       1281.0   72734.0   NaN  NaN  12641.0\n",
       "전북          NaN        989.0   61065.0   NaN  NaN  11403.0\n",
       "제주          NaN        379.0   22055.0   NaN  NaN   4402.0\n",
       "충남          NaN        990.0   70580.0   NaN  NaN  14895.0\n",
       "충북          NaN       1229.0   49335.0   NaN  NaN  11242.0"
      ]
     },
     "execution_count": 357,
     "metadata": {},
     "output_type": "execute_result"
    }
   ],
   "source": [
    "statics_by_local_fuel2 = statics_by_local_fuel.unstack(['연료'])\n",
    "statics_by_local_fuel2"
   ]
  },
  {
   "cell_type": "code",
   "execution_count": 358,
   "metadata": {},
   "outputs": [],
   "source": [
    "statics_by_local_fuel2.to_excel('analysis/[G4][법정동코드]지역_연료별_통계.xlsx', encoding='utf-8')"
   ]
  },
  {
   "attachments": {},
   "cell_type": "markdown",
   "metadata": {},
   "source": [
    "# 분석"
   ]
  },
  {
   "attachments": {},
   "cell_type": "markdown",
   "metadata": {},
   "source": [
    "## 배출가스인증번호"
   ]
  },
  {
   "attachments": {},
   "cell_type": "markdown",
   "metadata": {},
   "source": [
    "### 배출가스인증번호 내역 확인"
   ]
  },
  {
   "cell_type": "code",
   "execution_count": 359,
   "metadata": {},
   "outputs": [
    {
     "name": "stdout",
     "output_type": "stream",
     "text": [
      "<class 'pandas.core.series.Series'>\n",
      "Int64Index: 1528557 entries, 0 to 1528556\n",
      "Series name: 배출가스인증번호\n",
      "Non-Null Count    Dtype \n",
      "--------------    ----- \n",
      "1405566 non-null  object\n",
      "dtypes: object(1)\n",
      "memory usage: 23.3+ MB\n"
     ]
    }
   ],
   "source": [
    "df5['배출가스인증번호'].info()"
   ]
  },
  {
   "cell_type": "code",
   "execution_count": 360,
   "metadata": {},
   "outputs": [
    {
     "data": {
      "text/plain": [
       "122991"
      ]
     },
     "execution_count": 360,
     "metadata": {},
     "output_type": "execute_result"
    }
   ],
   "source": [
    "df5['배출가스인증번호'].isnull().sum()"
   ]
  },
  {
   "cell_type": "code",
   "execution_count": 361,
   "metadata": {},
   "outputs": [
    {
     "data": {
      "text/plain": [
       "7MY-HD-14-68     268972\n",
       "8MY-KM-13-19      93969\n",
       "6MY-KM-14-61      76370\n",
       "9MY-KM-14-41      67493\n",
       "7MY-HD-14-46      60364\n",
       "                  ...  \n",
       "5MY-DC-23-06          1\n",
       "8MY-DH-0M-24          1\n",
       " 7MY-DC-24-72         1\n",
       "8MY-WI-0M-24          1\n",
       "7MY-MM-0M-24          1\n",
       "Name: 배출가스인증번호, Length: 304, dtype: int64"
      ]
     },
     "execution_count": 361,
     "metadata": {},
     "output_type": "execute_result"
    }
   ],
   "source": [
    "df5['배출가스인증번호'].value_counts()"
   ]
  },
  {
   "cell_type": "code",
   "execution_count": 362,
   "metadata": {},
   "outputs": [
    {
     "data": {
      "text/html": [
       "<div>\n",
       "<style scoped>\n",
       "    .dataframe tbody tr th:only-of-type {\n",
       "        vertical-align: middle;\n",
       "    }\n",
       "\n",
       "    .dataframe tbody tr th {\n",
       "        vertical-align: top;\n",
       "    }\n",
       "\n",
       "    .dataframe thead th {\n",
       "        text-align: right;\n",
       "    }\n",
       "</style>\n",
       "<table border=\"1\" class=\"dataframe\">\n",
       "  <thead>\n",
       "    <tr style=\"text-align: right;\">\n",
       "      <th></th>\n",
       "      <th>index</th>\n",
       "      <th>배출가스인증번호</th>\n",
       "    </tr>\n",
       "  </thead>\n",
       "  <tbody>\n",
       "    <tr>\n",
       "      <th>0</th>\n",
       "      <td>7MY-HD-14-68</td>\n",
       "      <td>268972</td>\n",
       "    </tr>\n",
       "    <tr>\n",
       "      <th>1</th>\n",
       "      <td>8MY-KM-13-19</td>\n",
       "      <td>93969</td>\n",
       "    </tr>\n",
       "    <tr>\n",
       "      <th>2</th>\n",
       "      <td>6MY-KM-14-61</td>\n",
       "      <td>76370</td>\n",
       "    </tr>\n",
       "    <tr>\n",
       "      <th>3</th>\n",
       "      <td>9MY-KM-14-41</td>\n",
       "      <td>67493</td>\n",
       "    </tr>\n",
       "    <tr>\n",
       "      <th>4</th>\n",
       "      <td>7MY-HD-14-46</td>\n",
       "      <td>60364</td>\n",
       "    </tr>\n",
       "    <tr>\n",
       "      <th>...</th>\n",
       "      <td>...</td>\n",
       "      <td>...</td>\n",
       "    </tr>\n",
       "    <tr>\n",
       "      <th>299</th>\n",
       "      <td>5MY-DC-23-06</td>\n",
       "      <td>1</td>\n",
       "    </tr>\n",
       "    <tr>\n",
       "      <th>300</th>\n",
       "      <td>8MY-DH-0M-24</td>\n",
       "      <td>1</td>\n",
       "    </tr>\n",
       "    <tr>\n",
       "      <th>301</th>\n",
       "      <td>7MY-DC-24-72</td>\n",
       "      <td>1</td>\n",
       "    </tr>\n",
       "    <tr>\n",
       "      <th>302</th>\n",
       "      <td>8MY-WI-0M-24</td>\n",
       "      <td>1</td>\n",
       "    </tr>\n",
       "    <tr>\n",
       "      <th>303</th>\n",
       "      <td>7MY-MM-0M-24</td>\n",
       "      <td>1</td>\n",
       "    </tr>\n",
       "  </tbody>\n",
       "</table>\n",
       "<p>304 rows × 2 columns</p>\n",
       "</div>"
      ],
      "text/plain": [
       "             index  배출가스인증번호\n",
       "0     7MY-HD-14-68    268972\n",
       "1     8MY-KM-13-19     93969\n",
       "2     6MY-KM-14-61     76370\n",
       "3     9MY-KM-14-41     67493\n",
       "4     7MY-HD-14-46     60364\n",
       "..             ...       ...\n",
       "299   5MY-DC-23-06         1\n",
       "300   8MY-DH-0M-24         1\n",
       "301   7MY-DC-24-72         1\n",
       "302   8MY-WI-0M-24         1\n",
       "303   7MY-MM-0M-24         1\n",
       "\n",
       "[304 rows x 2 columns]"
      ]
     },
     "execution_count": 362,
     "metadata": {},
     "output_type": "execute_result"
    }
   ],
   "source": [
    "temp = df5['배출가스인증번호'].value_counts().reset_index()\n",
    "temp"
   ]
  },
  {
   "cell_type": "code",
   "execution_count": 363,
   "metadata": {},
   "outputs": [],
   "source": [
    "# 제원정보 배출가스인증번호 현황\n",
    "temp.to_csv('analysis/[G4][배출가스인증번호]유니크값_통계.csv', encoding='cp949')"
   ]
  },
  {
   "cell_type": "code",
   "execution_count": 364,
   "metadata": {},
   "outputs": [
    {
     "data": {
      "text/plain": [
       "(1528557, 45)"
      ]
     },
     "execution_count": 364,
     "metadata": {},
     "output_type": "execute_result"
    }
   ],
   "source": [
    "df5.shape"
   ]
  },
  {
   "attachments": {},
   "cell_type": "markdown",
   "metadata": {},
   "source": [
    "#### 12\\. [e]배출가스인증번호"
   ]
  },
  {
   "cell_type": "code",
   "execution_count": 365,
   "metadata": {},
   "outputs": [],
   "source": [
    "# - 정보\n",
    "#     - 총 : 1528557\n",
    "#     - null : 123003\n",
    "#     - 정상\n",
    "#         - 2005.01.04 이후 표기 방식([숫자문자]{3}-[문자]{2}-[숫자]{2}-[숫자]{2}, 12자리) : 1152678\n",
    "#         - 2005.01.04 이전 표기 방식([숫자문자]{3}-[문자]{2}-[숫자]{2}, 9자리) : 230866\n",
    "#     - 오류(null 값 제외) : 22024\n",
    "#       - 예시\n",
    "#           - 163      TY87-배K-02\n",
    "#           - 173    7MY-KJ-0M-24\n",
    "#           - 216      TY87-배K-03\n",
    "#           - 236      TY87-배K-10\n",
    "#           - 293      TY87-배K-03"
   ]
  },
  {
   "cell_type": "code",
   "execution_count": 366,
   "metadata": {},
   "outputs": [],
   "source": [
    "# 2005년 이후 표기 방식 중 길이가 12자리가 아닌 값 : 3018\n",
    "#     - [max] 차량연식 : 2011\n",
    "# 2005년 이전 표기 방식 중 길이가 9자리가 아닌 값 : 1"
   ]
  },
  {
   "attachments": {},
   "cell_type": "markdown",
   "metadata": {},
   "source": [
    "##### 빈칸 처리"
   ]
  },
  {
   "cell_type": "code",
   "execution_count": 277,
   "metadata": {},
   "outputs": [
    {
     "data": {
      "text/html": [
       "<div>\n",
       "<style scoped>\n",
       "    .dataframe tbody tr th:only-of-type {\n",
       "        vertical-align: middle;\n",
       "    }\n",
       "\n",
       "    .dataframe tbody tr th {\n",
       "        vertical-align: top;\n",
       "    }\n",
       "\n",
       "    .dataframe thead th {\n",
       "        text-align: right;\n",
       "    }\n",
       "</style>\n",
       "<table border=\"1\" class=\"dataframe\">\n",
       "  <thead>\n",
       "    <tr style=\"text-align: right;\">\n",
       "      <th></th>\n",
       "      <th>차량관리번호</th>\n",
       "      <th>차량등록번호</th>\n",
       "      <th>본거지법정동코드</th>\n",
       "      <th>소유자구분</th>\n",
       "      <th>차종_등록정보</th>\n",
       "      <th>용도</th>\n",
       "      <th>차대번호</th>\n",
       "      <th>최초등록일자</th>\n",
       "      <th>차량연식</th>\n",
       "      <th>차량제작일자</th>\n",
       "      <th>...</th>\n",
       "      <th>삭제YN</th>\n",
       "      <th>제원승인일자</th>\n",
       "      <th>구동형식</th>\n",
       "      <th>변속기종류</th>\n",
       "      <th>code1</th>\n",
       "      <th>시도</th>\n",
       "      <th>시구군</th>\n",
       "      <th>폐지여부</th>\n",
       "      <th>대기관리권역</th>\n",
       "      <th>대기관리권역YN</th>\n",
       "    </tr>\n",
       "  </thead>\n",
       "  <tbody>\n",
       "    <tr>\n",
       "      <th>0</th>\n",
       "      <td>KMCLK19KP8C035195-01</td>\n",
       "      <td>96부7399</td>\n",
       "      <td>4824034000</td>\n",
       "      <td>주민</td>\n",
       "      <td>화물</td>\n",
       "      <td>자가용</td>\n",
       "      <td>KMCLK18KP8C035195</td>\n",
       "      <td>20220614</td>\n",
       "      <td>2008</td>\n",
       "      <td>20080924.0</td>\n",
       "      <td>...</td>\n",
       "      <td>N</td>\n",
       "      <td>20080529.0</td>\n",
       "      <td>NaN</td>\n",
       "      <td>자동</td>\n",
       "      <td>48240</td>\n",
       "      <td>경남</td>\n",
       "      <td>사천시</td>\n",
       "      <td>존재</td>\n",
       "      <td>동남권</td>\n",
       "      <td>N</td>\n",
       "    </tr>\n",
       "    <tr>\n",
       "      <th>1</th>\n",
       "      <td>KMFLA18KP8C031274-01</td>\n",
       "      <td>92도0997</td>\n",
       "      <td>4482533000</td>\n",
       "      <td>법인</td>\n",
       "      <td>화물</td>\n",
       "      <td>자가용</td>\n",
       "      <td>KMFLA18KP8C031274</td>\n",
       "      <td>20220419</td>\n",
       "      <td>2008</td>\n",
       "      <td>20080605.0</td>\n",
       "      <td>...</td>\n",
       "      <td>N</td>\n",
       "      <td>20080518.0</td>\n",
       "      <td>NaN</td>\n",
       "      <td>수동</td>\n",
       "      <td>44825</td>\n",
       "      <td>충남</td>\n",
       "      <td>태안군</td>\n",
       "      <td>존재</td>\n",
       "      <td>중부권</td>\n",
       "      <td>Y</td>\n",
       "    </tr>\n",
       "    <tr>\n",
       "      <th>2</th>\n",
       "      <td>KLACA26RD8B226753-01</td>\n",
       "      <td>153구6446</td>\n",
       "      <td>2826011000</td>\n",
       "      <td>주민</td>\n",
       "      <td>승용</td>\n",
       "      <td>자가용</td>\n",
       "      <td>KLACA26RD8B226753</td>\n",
       "      <td>20210909</td>\n",
       "      <td>2008</td>\n",
       "      <td>20080221.0</td>\n",
       "      <td>...</td>\n",
       "      <td>N</td>\n",
       "      <td>20070703.0</td>\n",
       "      <td>NaN</td>\n",
       "      <td>자동</td>\n",
       "      <td>28260</td>\n",
       "      <td>인천</td>\n",
       "      <td>서구</td>\n",
       "      <td>존재</td>\n",
       "      <td>수도권</td>\n",
       "      <td>Y</td>\n",
       "    </tr>\n",
       "    <tr>\n",
       "      <th>3</th>\n",
       "      <td>KMCGK17HP8C086937-01</td>\n",
       "      <td>88조4842</td>\n",
       "      <td>4476032000</td>\n",
       "      <td>법인</td>\n",
       "      <td>화물</td>\n",
       "      <td>자가용</td>\n",
       "      <td>KMCGK17HP8C086937</td>\n",
       "      <td>20210830</td>\n",
       "      <td>2008</td>\n",
       "      <td>20080315.0</td>\n",
       "      <td>...</td>\n",
       "      <td>N</td>\n",
       "      <td>20070913.0</td>\n",
       "      <td>NaN</td>\n",
       "      <td>수동</td>\n",
       "      <td>44760</td>\n",
       "      <td>충남</td>\n",
       "      <td>부여군</td>\n",
       "      <td>존재</td>\n",
       "      <td>중부권</td>\n",
       "      <td>Y</td>\n",
       "    </tr>\n",
       "    <tr>\n",
       "      <th>4</th>\n",
       "      <td>KMCYSS7JP7U084697-01</td>\n",
       "      <td>99도4857</td>\n",
       "      <td>4423038028</td>\n",
       "      <td>주민</td>\n",
       "      <td>특수</td>\n",
       "      <td>자가용</td>\n",
       "      <td>KMCYSS7JP7U084697</td>\n",
       "      <td>20210826</td>\n",
       "      <td>2007</td>\n",
       "      <td>20070227.0</td>\n",
       "      <td>...</td>\n",
       "      <td>N</td>\n",
       "      <td>20060714.0</td>\n",
       "      <td>NaN</td>\n",
       "      <td>수동</td>\n",
       "      <td>44230</td>\n",
       "      <td>충남</td>\n",
       "      <td>논산시</td>\n",
       "      <td>존재</td>\n",
       "      <td>중부권</td>\n",
       "      <td>Y</td>\n",
       "    </tr>\n",
       "  </tbody>\n",
       "</table>\n",
       "<p>5 rows × 45 columns</p>\n",
       "</div>"
      ],
      "text/plain": [
       "                 차량관리번호    차량등록번호    본거지법정동코드 소유자구분 차종_등록정보   용도  \\\n",
       "0  KMCLK19KP8C035195-01   96부7399  4824034000    주민      화물  자가용   \n",
       "1  KMFLA18KP8C031274-01   92도0997  4482533000    법인      화물  자가용   \n",
       "2  KLACA26RD8B226753-01  153구6446  2826011000    주민      승용  자가용   \n",
       "3  KMCGK17HP8C086937-01   88조4842  4476032000    법인      화물  자가용   \n",
       "4  KMCYSS7JP7U084697-01   99도4857  4423038028    주민      특수  자가용   \n",
       "\n",
       "                차대번호    최초등록일자  차량연식      차량제작일자  ...  삭제YN      제원승인일자 구동형식  \\\n",
       "0  KMCLK18KP8C035195  20220614  2008  20080924.0  ...     N  20080529.0  NaN   \n",
       "1  KMFLA18KP8C031274  20220419  2008  20080605.0  ...     N  20080518.0  NaN   \n",
       "2  KLACA26RD8B226753  20210909  2008  20080221.0  ...     N  20070703.0  NaN   \n",
       "3  KMCGK17HP8C086937  20210830  2008  20080315.0  ...     N  20070913.0  NaN   \n",
       "4  KMCYSS7JP7U084697  20210826  2007  20070227.0  ...     N  20060714.0  NaN   \n",
       "\n",
       "   변속기종류  code1  시도  시구군  폐지여부 대기관리권역 대기관리권역YN  \n",
       "0     자동  48240  경남  사천시    존재    동남권        N  \n",
       "1     수동  44825  충남  태안군    존재    중부권        Y  \n",
       "2     자동  28260  인천   서구    존재    수도권        Y  \n",
       "3     수동  44760  충남  부여군    존재    중부권        Y  \n",
       "4     수동  44230  충남  논산시    존재    중부권        Y  \n",
       "\n",
       "[5 rows x 45 columns]"
      ]
     },
     "execution_count": 277,
     "metadata": {},
     "output_type": "execute_result"
    }
   ],
   "source": [
    "gas_df = df5.copy()\n",
    "gas_df.head()"
   ]
  },
  {
   "cell_type": "code",
   "execution_count": 278,
   "metadata": {},
   "outputs": [
    {
     "data": {
      "text/plain": [
       "8808        \n",
       "12687       \n",
       "1194061     \n",
       "1236423     \n",
       "1336420     \n",
       "1399623     \n",
       "1477301     \n",
       "1492213     \n",
       "1507852     \n",
       "1514578     \n",
       "1518320     \n",
       "1528151     \n",
       "Name: 배출가스인증번호, dtype: object"
      ]
     },
     "execution_count": 278,
     "metadata": {},
     "output_type": "execute_result"
    }
   ],
   "source": [
    "gas_df[gas_df['배출가스인증번호'] == ' ']['배출가스인증번호']"
   ]
  },
  {
   "cell_type": "code",
   "execution_count": 279,
   "metadata": {},
   "outputs": [
    {
     "data": {
      "text/plain": [
       "(12,)"
      ]
     },
     "execution_count": 279,
     "metadata": {},
     "output_type": "execute_result"
    }
   ],
   "source": [
    "gas_df[gas_df['배출가스인증번호'] == ' ']['배출가스인증번호'].shape"
   ]
  },
  {
   "cell_type": "code",
   "execution_count": 280,
   "metadata": {},
   "outputs": [
    {
     "data": {
      "text/plain": [
       "Int64Index([   8808,   12687, 1194061, 1236423, 1336420, 1399623, 1477301,\n",
       "            1492213, 1507852, 1514578, 1518320, 1528151],\n",
       "           dtype='int64')"
      ]
     },
     "execution_count": 280,
     "metadata": {},
     "output_type": "execute_result"
    }
   ],
   "source": [
    "blank_index = gas_df[gas_df['배출가스인증번호'] == ' ']['배출가스인증번호'].index\n",
    "blank_index"
   ]
  },
  {
   "cell_type": "code",
   "execution_count": 281,
   "metadata": {},
   "outputs": [
    {
     "data": {
      "text/plain": [
       "배출가스인증번호\n",
       "                   12\n",
       " 7MY-DC-24-72       1\n",
       " 7MY-HD-24-30       8\n",
       " 8MY-DC-24-12       1\n",
       "3MY-FK-08        1067\n",
       "                 ... \n",
       "XMY-HD-47         924\n",
       "XMY-HD-48         364\n",
       "XMY-HD-55        2532\n",
       "XMY-KM-47        3217\n",
       "YKM-KM-12          70\n",
       "Name: 차대번호, Length: 304, dtype: int64"
      ]
     },
     "execution_count": 281,
     "metadata": {},
     "output_type": "execute_result"
    }
   ],
   "source": [
    "gas_df.groupby(['배출가스인증번호'])['차대번호'].count()"
   ]
  },
  {
   "cell_type": "code",
   "execution_count": 282,
   "metadata": {},
   "outputs": [
    {
     "data": {
      "text/plain": [
       "Int64Index([810574], dtype='int64')"
      ]
     },
     "execution_count": 282,
     "metadata": {},
     "output_type": "execute_result"
    }
   ],
   "source": [
    "gas_df[gas_df['배출가스인증번호'] == ' 7MY-DC-24-72'].index"
   ]
  },
  {
   "cell_type": "code",
   "execution_count": 283,
   "metadata": {},
   "outputs": [
    {
     "data": {
      "text/plain": [
       "' 7MY-DC-24-72'"
      ]
     },
     "execution_count": 283,
     "metadata": {},
     "output_type": "execute_result"
    }
   ],
   "source": [
    "# 빈칸을 포함한 예시\n",
    "gas_df.loc[810574, '배출가스인증번호']"
   ]
  },
  {
   "cell_type": "code",
   "execution_count": 284,
   "metadata": {},
   "outputs": [],
   "source": [
    "gas_df.loc[blank_index, '배출가스인증번호'] = np.nan\n"
   ]
  },
  {
   "cell_type": "code",
   "execution_count": 285,
   "metadata": {},
   "outputs": [
    {
     "data": {
      "text/plain": [
       "'7MY-DC-24-72'"
      ]
     },
     "execution_count": 285,
     "metadata": {},
     "output_type": "execute_result"
    }
   ],
   "source": [
    "gas_df['배출가스인증번호'] = gas_df['배출가스인증번호'].str.replace(' ', '')\n",
    "gas_df.loc[810574, '배출가스인증번호']"
   ]
  },
  {
   "cell_type": "code",
   "execution_count": 286,
   "metadata": {},
   "outputs": [
    {
     "data": {
      "text/plain": [
       "123003"
      ]
     },
     "execution_count": 286,
     "metadata": {},
     "output_type": "execute_result"
    }
   ],
   "source": [
    "gas_df['배출가스인증번호'].isnull().sum()"
   ]
  },
  {
   "cell_type": "code",
   "execution_count": 287,
   "metadata": {},
   "outputs": [
    {
     "data": {
      "text/plain": [
       "7MY-HD-14-68     268972\n",
       "8MY-KM-13-19      93969\n",
       "6MY-KM-14-61      76370\n",
       "9MY-KM-14-41      67493\n",
       "7MY-HD-14-46      60364\n",
       "                  ...  \n",
       "5MY-DC-23-06          1\n",
       "8MY-DH-0M-24          1\n",
       " 7MY-DC-24-72         1\n",
       "8MY-WI-0M-24          1\n",
       "7MY-MM-0M-24          1\n",
       "Name: 배출가스인증번호, Length: 304, dtype: int64"
      ]
     },
     "execution_count": 287,
     "metadata": {},
     "output_type": "execute_result"
    }
   ],
   "source": [
    "df5.loc[:, '배출가스인증번호'].value_counts()"
   ]
  },
  {
   "cell_type": "code",
   "execution_count": 288,
   "metadata": {},
   "outputs": [
    {
     "data": {
      "text/plain": [
       "122991"
      ]
     },
     "execution_count": 288,
     "metadata": {},
     "output_type": "execute_result"
    }
   ],
   "source": [
    "df5.loc[:, '배출가스인증번호'].isnull().sum()"
   ]
  },
  {
   "cell_type": "code",
   "execution_count": 289,
   "metadata": {},
   "outputs": [
    {
     "name": "stderr",
     "output_type": "stream",
     "text": [
      "1528557it [00:01, 807920.99it/s]\n"
     ]
    },
    {
     "data": {
      "text/plain": [
       "1152678"
      ]
     },
     "execution_count": 289,
     "metadata": {},
     "output_type": "execute_result"
    }
   ],
   "source": [
    "# 2005.01.04 이후 표기 방식 : 1152678\n",
    "count = 0\n",
    "p121 = re.compile('[a-zA-Z0-9]{3}[-][a-zA-Z]{2}[-][0-9]{2}[-][0-9]{2}')\n",
    "idx121 = []\n",
    "for i, one in tqdm(enumerate(gas_df.loc[:, '배출가스인증번호'].to_numpy())):\n",
    "    if p121.search(str(one)):\n",
    "        idx121.append(i)\n",
    "        count += 1\n",
    "count"
   ]
  },
  {
   "cell_type": "code",
   "execution_count": 290,
   "metadata": {},
   "outputs": [
    {
     "name": "stderr",
     "output_type": "stream",
     "text": [
      "1528557it [00:01, 946646.11it/s]\n"
     ]
    },
    {
     "data": {
      "text/plain": [
       "375879"
      ]
     },
     "execution_count": 290,
     "metadata": {},
     "output_type": "execute_result"
    }
   ],
   "source": [
    "# 2005.01.04 이후 표기 방식이 아닌 값 : 375879\n",
    "count = 0\n",
    "idx122 = []\n",
    "for i, one in tqdm(enumerate(gas_df.loc[:, '배출가스인증번호'].to_numpy())):\n",
    "    if not p121.search(str(one)):\n",
    "        idx122.append(i)\n",
    "        count += 1\n",
    "count"
   ]
  },
  {
   "cell_type": "code",
   "execution_count": 291,
   "metadata": {},
   "outputs": [
    {
     "data": {
      "text/plain": [
       "0    NaN\n",
       "1    NaN\n",
       "2    NaN\n",
       "3    NaN\n",
       "4    NaN\n",
       "Name: 배출가스인증번호, dtype: object"
      ]
     },
     "execution_count": 291,
     "metadata": {},
     "output_type": "execute_result"
    }
   ],
   "source": [
    "gas_df.loc[:, '배출가스인증번호'].reindex(idx122)[:5]"
   ]
  },
  {
   "cell_type": "code",
   "execution_count": 292,
   "metadata": {},
   "outputs": [
    {
     "name": "stderr",
     "output_type": "stream",
     "text": [
      "375879it [00:00, 795655.10it/s]\n"
     ]
    },
    {
     "data": {
      "text/plain": [
       "230852"
      ]
     },
     "execution_count": 292,
     "metadata": {},
     "output_type": "execute_result"
    }
   ],
   "source": [
    "# 2005.01.04 이전 배출가스 표기 방식 : 230852\n",
    "count = 0\n",
    "p123 = re.compile('[a-zA-Z0-9]{3}[-][a-zA-Z]{2}[-][0-9]{2}')\n",
    "idx123 = []\n",
    "for i, one in tqdm(enumerate(gas_df.loc[idx122, '배출가스인증번호'].to_numpy())):\n",
    "    if p123.search(str(one)):\n",
    "        idx123.append(idx122[i])\n",
    "        count += 1\n",
    "count"
   ]
  },
  {
   "cell_type": "code",
   "execution_count": 293,
   "metadata": {},
   "outputs": [
    {
     "data": {
      "text/html": [
       "<div>\n",
       "<style scoped>\n",
       "    .dataframe tbody tr th:only-of-type {\n",
       "        vertical-align: middle;\n",
       "    }\n",
       "\n",
       "    .dataframe tbody tr th {\n",
       "        vertical-align: top;\n",
       "    }\n",
       "\n",
       "    .dataframe thead th {\n",
       "        text-align: right;\n",
       "    }\n",
       "</style>\n",
       "<table border=\"1\" class=\"dataframe\">\n",
       "  <thead>\n",
       "    <tr style=\"text-align: right;\">\n",
       "      <th></th>\n",
       "      <th>최초등록일자</th>\n",
       "      <th>차량연식</th>\n",
       "      <th>차량제작일자</th>\n",
       "      <th>차종유형</th>\n",
       "      <th>배출가스인증번호</th>\n",
       "    </tr>\n",
       "  </thead>\n",
       "  <tbody>\n",
       "    <tr>\n",
       "      <th>936</th>\n",
       "      <td>20171018</td>\n",
       "      <td>1997</td>\n",
       "      <td>19971231.0</td>\n",
       "      <td>소형</td>\n",
       "      <td>RMY-HD-20</td>\n",
       "    </tr>\n",
       "    <tr>\n",
       "      <th>970</th>\n",
       "      <td>20170918</td>\n",
       "      <td>1998</td>\n",
       "      <td>19981231.0</td>\n",
       "      <td>경형</td>\n",
       "      <td>VMY-HD-30</td>\n",
       "    </tr>\n",
       "    <tr>\n",
       "      <th>1061</th>\n",
       "      <td>20170721</td>\n",
       "      <td>1999</td>\n",
       "      <td>19991231.0</td>\n",
       "      <td>중형</td>\n",
       "      <td>WMY-HD-32</td>\n",
       "    </tr>\n",
       "    <tr>\n",
       "      <th>1066</th>\n",
       "      <td>20170720</td>\n",
       "      <td>2002</td>\n",
       "      <td>20021231.0</td>\n",
       "      <td>중형</td>\n",
       "      <td>WMY-HD-32</td>\n",
       "    </tr>\n",
       "    <tr>\n",
       "      <th>2307</th>\n",
       "      <td>20150825</td>\n",
       "      <td>1999</td>\n",
       "      <td>19991231.0</td>\n",
       "      <td>경형</td>\n",
       "      <td>VMY-HD-30</td>\n",
       "    </tr>\n",
       "  </tbody>\n",
       "</table>\n",
       "</div>"
      ],
      "text/plain": [
       "        최초등록일자  차량연식      차량제작일자 차종유형   배출가스인증번호\n",
       "936   20171018  1997  19971231.0   소형  RMY-HD-20\n",
       "970   20170918  1998  19981231.0   경형  VMY-HD-30\n",
       "1061  20170721  1999  19991231.0   중형  WMY-HD-32\n",
       "1066  20170720  2002  20021231.0   중형  WMY-HD-32\n",
       "2307  20150825  1999  19991231.0   경형  VMY-HD-30"
      ]
     },
     "execution_count": 293,
     "metadata": {},
     "output_type": "execute_result"
    }
   ],
   "source": [
    "gas_df.loc[idx123, ['최초등록일자', '차량연식', '차량제작일자', '차종유형', '배출가스인증번호']][:5]"
   ]
  },
  {
   "cell_type": "code",
   "execution_count": 294,
   "metadata": {},
   "outputs": [
    {
     "data": {
      "text/plain": [
       "123003"
      ]
     },
     "execution_count": 294,
     "metadata": {},
     "output_type": "execute_result"
    }
   ],
   "source": [
    "# null 값 : 123003\n",
    "idx124 = gas_df[gas_df['배출가스인증번호'].isnull() == True]['배출가스인증번호'].index\n",
    "len(idx124)"
   ]
  },
  {
   "cell_type": "code",
   "execution_count": 295,
   "metadata": {},
   "outputs": [
    {
     "data": {
      "text/plain": [
       "0    NaN\n",
       "1    NaN\n",
       "2    NaN\n",
       "3    NaN\n",
       "4    NaN\n",
       "Name: 배출가스인증번호, dtype: object"
      ]
     },
     "execution_count": 295,
     "metadata": {},
     "output_type": "execute_result"
    }
   ],
   "source": [
    "gas_df.loc[:, '배출가스인증번호'].reindex(idx124)[:5]"
   ]
  },
  {
   "cell_type": "code",
   "execution_count": 296,
   "metadata": {},
   "outputs": [
    {
     "data": {
      "text/plain": [
       "22024"
      ]
     },
     "execution_count": 296,
     "metadata": {},
     "output_type": "execute_result"
    }
   ],
   "source": [
    "# 2005.01.04 이후 표기 방식이 아닌 값 중 null 값 제외한 오류 값 : 22024\n",
    "idx125 = sorted(set(idx122) - set(idx124) - set(idx123))\n",
    "len(idx125)"
   ]
  },
  {
   "cell_type": "code",
   "execution_count": 297,
   "metadata": {},
   "outputs": [
    {
     "data": {
      "text/plain": [
       "30     6MY-SS-0M-24\n",
       "104    FMY-VTK-14-1\n",
       "131    FMY-VTK-14-1\n",
       "133    6MY-SS-0M-24\n",
       "134    FMY-VTK-14-1\n",
       "Name: 배출가스인증번호, dtype: object"
      ]
     },
     "execution_count": 297,
     "metadata": {},
     "output_type": "execute_result"
    }
   ],
   "source": [
    "gas_df.loc[:, '배출가스인증번호'].reindex(idx125)[:5]"
   ]
  },
  {
   "cell_type": "code",
   "execution_count": 298,
   "metadata": {},
   "outputs": [
    {
     "data": {
      "text/html": [
       "<div>\n",
       "<style scoped>\n",
       "    .dataframe tbody tr th:only-of-type {\n",
       "        vertical-align: middle;\n",
       "    }\n",
       "\n",
       "    .dataframe tbody tr th {\n",
       "        vertical-align: top;\n",
       "    }\n",
       "\n",
       "    .dataframe thead th {\n",
       "        text-align: right;\n",
       "    }\n",
       "</style>\n",
       "<table border=\"1\" class=\"dataframe\">\n",
       "  <thead>\n",
       "    <tr style=\"text-align: right;\">\n",
       "      <th></th>\n",
       "      <th>최초등록일자</th>\n",
       "      <th>차량연식</th>\n",
       "      <th>차량제작일자</th>\n",
       "      <th>차종유형</th>\n",
       "      <th>배출가스인증번호</th>\n",
       "    </tr>\n",
       "  </thead>\n",
       "  <tbody>\n",
       "    <tr>\n",
       "      <th>8096</th>\n",
       "      <td>20120409</td>\n",
       "      <td>2011</td>\n",
       "      <td>20111219.0</td>\n",
       "      <td>대형</td>\n",
       "      <td>8MY-PA-14-3</td>\n",
       "    </tr>\n",
       "    <tr>\n",
       "      <th>14866</th>\n",
       "      <td>20120111</td>\n",
       "      <td>2011</td>\n",
       "      <td>20111219.0</td>\n",
       "      <td>대형</td>\n",
       "      <td>8MY-PA-14-3</td>\n",
       "    </tr>\n",
       "    <tr>\n",
       "      <th>15195</th>\n",
       "      <td>20120109</td>\n",
       "      <td>2011</td>\n",
       "      <td>20110517.0</td>\n",
       "      <td>대형</td>\n",
       "      <td>8MY-PA-14-3</td>\n",
       "    </tr>\n",
       "    <tr>\n",
       "      <th>15745</th>\n",
       "      <td>20120106</td>\n",
       "      <td>2011</td>\n",
       "      <td>20110216.0</td>\n",
       "      <td>대형</td>\n",
       "      <td>8MY-PA-14-3</td>\n",
       "    </tr>\n",
       "    <tr>\n",
       "      <th>19226</th>\n",
       "      <td>20120102</td>\n",
       "      <td>2011</td>\n",
       "      <td>20110516.0</td>\n",
       "      <td>대형</td>\n",
       "      <td>8MY-PA-14-3</td>\n",
       "    </tr>\n",
       "  </tbody>\n",
       "</table>\n",
       "</div>"
      ],
      "text/plain": [
       "         최초등록일자  차량연식      차량제작일자 차종유형     배출가스인증번호\n",
       "8096   20120409  2011  20111219.0   대형  8MY-PA-14-3\n",
       "14866  20120111  2011  20111219.0   대형  8MY-PA-14-3\n",
       "15195  20120109  2011  20110517.0   대형  8MY-PA-14-3\n",
       "15745  20120106  2011  20110216.0   대형  8MY-PA-14-3\n",
       "19226  20120102  2011  20110516.0   대형  8MY-PA-14-3"
      ]
     },
     "execution_count": 298,
     "metadata": {},
     "output_type": "execute_result"
    }
   ],
   "source": [
    "# 2005년 이상 배출가스인증번호 데이터\n",
    "gas_temp = gas_df.loc[idx123, ['최초등록일자', '차량연식', '차량제작일자', '차종유형', '배출가스인증번호']]\n",
    "gas_temp[gas_temp['차량연식'] >= 2005].head()"
   ]
  },
  {
   "cell_type": "code",
   "execution_count": 299,
   "metadata": {},
   "outputs": [
    {
     "data": {
      "text/html": [
       "<div>\n",
       "<style scoped>\n",
       "    .dataframe tbody tr th:only-of-type {\n",
       "        vertical-align: middle;\n",
       "    }\n",
       "\n",
       "    .dataframe tbody tr th {\n",
       "        vertical-align: top;\n",
       "    }\n",
       "\n",
       "    .dataframe thead th {\n",
       "        text-align: right;\n",
       "    }\n",
       "</style>\n",
       "<table border=\"1\" class=\"dataframe\">\n",
       "  <thead>\n",
       "    <tr style=\"text-align: right;\">\n",
       "      <th></th>\n",
       "      <th>최초등록일자</th>\n",
       "      <th>차량연식</th>\n",
       "      <th>차량제작일자</th>\n",
       "      <th>차종유형</th>\n",
       "      <th>배출가스인증번호</th>\n",
       "    </tr>\n",
       "  </thead>\n",
       "  <tbody>\n",
       "    <tr>\n",
       "      <th>8096</th>\n",
       "      <td>20120409</td>\n",
       "      <td>2011</td>\n",
       "      <td>20111219.0</td>\n",
       "      <td>대형</td>\n",
       "      <td>8MY-PA-14-3</td>\n",
       "    </tr>\n",
       "    <tr>\n",
       "      <th>14866</th>\n",
       "      <td>20120111</td>\n",
       "      <td>2011</td>\n",
       "      <td>20111219.0</td>\n",
       "      <td>대형</td>\n",
       "      <td>8MY-PA-14-3</td>\n",
       "    </tr>\n",
       "    <tr>\n",
       "      <th>15195</th>\n",
       "      <td>20120109</td>\n",
       "      <td>2011</td>\n",
       "      <td>20110517.0</td>\n",
       "      <td>대형</td>\n",
       "      <td>8MY-PA-14-3</td>\n",
       "    </tr>\n",
       "    <tr>\n",
       "      <th>15745</th>\n",
       "      <td>20120106</td>\n",
       "      <td>2011</td>\n",
       "      <td>20110216.0</td>\n",
       "      <td>대형</td>\n",
       "      <td>8MY-PA-14-3</td>\n",
       "    </tr>\n",
       "    <tr>\n",
       "      <th>19226</th>\n",
       "      <td>20120102</td>\n",
       "      <td>2011</td>\n",
       "      <td>20110516.0</td>\n",
       "      <td>대형</td>\n",
       "      <td>8MY-PA-14-3</td>\n",
       "    </tr>\n",
       "    <tr>\n",
       "      <th>...</th>\n",
       "      <td>...</td>\n",
       "      <td>...</td>\n",
       "      <td>...</td>\n",
       "      <td>...</td>\n",
       "      <td>...</td>\n",
       "    </tr>\n",
       "    <tr>\n",
       "      <th>1168976</th>\n",
       "      <td>20051104</td>\n",
       "      <td>2005</td>\n",
       "      <td>20050905.0</td>\n",
       "      <td>중형</td>\n",
       "      <td>4MY-PA-06</td>\n",
       "    </tr>\n",
       "    <tr>\n",
       "      <th>1168984</th>\n",
       "      <td>20051103</td>\n",
       "      <td>2005</td>\n",
       "      <td>20051024.0</td>\n",
       "      <td>중형</td>\n",
       "      <td>4MY-PA-06</td>\n",
       "    </tr>\n",
       "    <tr>\n",
       "      <th>1169185</th>\n",
       "      <td>20051014</td>\n",
       "      <td>2005</td>\n",
       "      <td>20050903.0</td>\n",
       "      <td>중형</td>\n",
       "      <td>4MY-PA-06</td>\n",
       "    </tr>\n",
       "    <tr>\n",
       "      <th>1169636</th>\n",
       "      <td>20050823</td>\n",
       "      <td>2005</td>\n",
       "      <td>20050421.0</td>\n",
       "      <td>대형</td>\n",
       "      <td>4MY-AD-20</td>\n",
       "    </tr>\n",
       "    <tr>\n",
       "      <th>1169945</th>\n",
       "      <td>20050720</td>\n",
       "      <td>2005</td>\n",
       "      <td>20050421.0</td>\n",
       "      <td>대형</td>\n",
       "      <td>4MY-AD-20</td>\n",
       "    </tr>\n",
       "  </tbody>\n",
       "</table>\n",
       "<p>3018 rows × 5 columns</p>\n",
       "</div>"
      ],
      "text/plain": [
       "           최초등록일자  차량연식      차량제작일자 차종유형     배출가스인증번호\n",
       "8096     20120409  2011  20111219.0   대형  8MY-PA-14-3\n",
       "14866    20120111  2011  20111219.0   대형  8MY-PA-14-3\n",
       "15195    20120109  2011  20110517.0   대형  8MY-PA-14-3\n",
       "15745    20120106  2011  20110216.0   대형  8MY-PA-14-3\n",
       "19226    20120102  2011  20110516.0   대형  8MY-PA-14-3\n",
       "...           ...   ...         ...  ...          ...\n",
       "1168976  20051104  2005  20050905.0   중형    4MY-PA-06\n",
       "1168984  20051103  2005  20051024.0   중형    4MY-PA-06\n",
       "1169185  20051014  2005  20050903.0   중형    4MY-PA-06\n",
       "1169636  20050823  2005  20050421.0   대형    4MY-AD-20\n",
       "1169945  20050720  2005  20050421.0   대형    4MY-AD-20\n",
       "\n",
       "[3018 rows x 5 columns]"
      ]
     },
     "execution_count": 299,
     "metadata": {},
     "output_type": "execute_result"
    }
   ],
   "source": [
    "# 2005년 이상년도에서 맞지않는 배출가스인증번호 샘플 : 3018\n",
    "gas_temp.loc[(gas_temp['차량연식'] >= 2005) & (gas_temp['배출가스인증번호'].str.len() != 12)]"
   ]
  },
  {
   "cell_type": "code",
   "execution_count": 300,
   "metadata": {},
   "outputs": [
    {
     "data": {
      "text/plain": [
       "(3018, 5)"
      ]
     },
     "execution_count": 300,
     "metadata": {},
     "output_type": "execute_result"
    }
   ],
   "source": [
    "gas_temp.loc[(gas_temp['차량연식'] >= 2005) & (gas_temp['배출가스인증번호'].str.len() != 12 )].shape"
   ]
  },
  {
   "cell_type": "code",
   "execution_count": 301,
   "metadata": {},
   "outputs": [
    {
     "data": {
      "text/plain": [
       "2011"
      ]
     },
     "execution_count": 301,
     "metadata": {},
     "output_type": "execute_result"
    }
   ],
   "source": [
    "gas_temp.loc[(gas_temp['차량연식'] >= 2005) & (gas_temp['배출가스인증번호'].str.len() != 12 ), '차량연식'].max()"
   ]
  },
  {
   "cell_type": "code",
   "execution_count": 302,
   "metadata": {},
   "outputs": [
    {
     "data": {
      "text/html": [
       "<div>\n",
       "<style scoped>\n",
       "    .dataframe tbody tr th:only-of-type {\n",
       "        vertical-align: middle;\n",
       "    }\n",
       "\n",
       "    .dataframe tbody tr th {\n",
       "        vertical-align: top;\n",
       "    }\n",
       "\n",
       "    .dataframe thead th {\n",
       "        text-align: right;\n",
       "    }\n",
       "</style>\n",
       "<table border=\"1\" class=\"dataframe\">\n",
       "  <thead>\n",
       "    <tr style=\"text-align: right;\">\n",
       "      <th></th>\n",
       "      <th>최초등록일자</th>\n",
       "      <th>차량연식</th>\n",
       "      <th>차량제작일자</th>\n",
       "      <th>차종유형</th>\n",
       "      <th>배출가스인증번호</th>\n",
       "    </tr>\n",
       "  </thead>\n",
       "  <tbody>\n",
       "    <tr>\n",
       "      <th>534831</th>\n",
       "      <td>20091013</td>\n",
       "      <td>1999</td>\n",
       "      <td>19991231.0</td>\n",
       "      <td>대형</td>\n",
       "      <td>9MY-PP-14-W38</td>\n",
       "    </tr>\n",
       "  </tbody>\n",
       "</table>\n",
       "</div>"
      ],
      "text/plain": [
       "          최초등록일자  차량연식      차량제작일자 차종유형       배출가스인증번호\n",
       "534831  20091013  1999  19991231.0   대형  9MY-PP-14-W38"
      ]
     },
     "execution_count": 302,
     "metadata": {},
     "output_type": "execute_result"
    }
   ],
   "source": [
    "# 2005년 미만 년도에서 맞지않는 배출가스인증번호 샘플 : 1\n",
    "gas_temp.loc[(gas_temp['차량연식'] < 2005) & (gas_temp['배출가스인증번호'].str.len() != 9 )]"
   ]
  },
  {
   "cell_type": "code",
   "execution_count": 303,
   "metadata": {},
   "outputs": [
    {
     "data": {
      "text/html": [
       "<div>\n",
       "<style scoped>\n",
       "    .dataframe tbody tr th:only-of-type {\n",
       "        vertical-align: middle;\n",
       "    }\n",
       "\n",
       "    .dataframe tbody tr th {\n",
       "        vertical-align: top;\n",
       "    }\n",
       "\n",
       "    .dataframe thead th {\n",
       "        text-align: right;\n",
       "    }\n",
       "</style>\n",
       "<table border=\"1\" class=\"dataframe\">\n",
       "  <thead>\n",
       "    <tr style=\"text-align: right;\">\n",
       "      <th></th>\n",
       "      <th>배출가스인증번호</th>\n",
       "      <th>차대번호</th>\n",
       "    </tr>\n",
       "  </thead>\n",
       "  <tbody>\n",
       "    <tr>\n",
       "      <th>0</th>\n",
       "      <td>3MY-FK-08</td>\n",
       "      <td>1067</td>\n",
       "    </tr>\n",
       "    <tr>\n",
       "      <th>1</th>\n",
       "      <td>4MY-AD-20</td>\n",
       "      <td>38</td>\n",
       "    </tr>\n",
       "    <tr>\n",
       "      <th>2</th>\n",
       "      <td>4MY-DC-33</td>\n",
       "      <td>7</td>\n",
       "    </tr>\n",
       "    <tr>\n",
       "      <th>3</th>\n",
       "      <td>4MY-PA-06</td>\n",
       "      <td>13</td>\n",
       "    </tr>\n",
       "    <tr>\n",
       "      <th>4</th>\n",
       "      <td>5MY-AD-13-06</td>\n",
       "      <td>392</td>\n",
       "    </tr>\n",
       "    <tr>\n",
       "      <th>...</th>\n",
       "      <td>...</td>\n",
       "      <td>...</td>\n",
       "    </tr>\n",
       "    <tr>\n",
       "      <th>295</th>\n",
       "      <td>XMY-HD-47</td>\n",
       "      <td>924</td>\n",
       "    </tr>\n",
       "    <tr>\n",
       "      <th>296</th>\n",
       "      <td>XMY-HD-48</td>\n",
       "      <td>364</td>\n",
       "    </tr>\n",
       "    <tr>\n",
       "      <th>297</th>\n",
       "      <td>XMY-HD-55</td>\n",
       "      <td>2532</td>\n",
       "    </tr>\n",
       "    <tr>\n",
       "      <th>298</th>\n",
       "      <td>XMY-KM-47</td>\n",
       "      <td>3217</td>\n",
       "    </tr>\n",
       "    <tr>\n",
       "      <th>299</th>\n",
       "      <td>YKM-KM-12</td>\n",
       "      <td>70</td>\n",
       "    </tr>\n",
       "  </tbody>\n",
       "</table>\n",
       "<p>300 rows × 2 columns</p>\n",
       "</div>"
      ],
      "text/plain": [
       "         배출가스인증번호  차대번호\n",
       "0       3MY-FK-08  1067\n",
       "1       4MY-AD-20    38\n",
       "2       4MY-DC-33     7\n",
       "3       4MY-PA-06    13\n",
       "4    5MY-AD-13-06   392\n",
       "..            ...   ...\n",
       "295     XMY-HD-47   924\n",
       "296     XMY-HD-48   364\n",
       "297     XMY-HD-55  2532\n",
       "298     XMY-KM-47  3217\n",
       "299     YKM-KM-12    70\n",
       "\n",
       "[300 rows x 2 columns]"
      ]
     },
     "execution_count": 303,
     "metadata": {},
     "output_type": "execute_result"
    }
   ],
   "source": [
    "num_by_gas_num = gas_df.groupby('배출가스인증번호')['차대번호'].count().reset_index()\n",
    "num_by_gas_num"
   ]
  },
  {
   "cell_type": "code",
   "execution_count": 304,
   "metadata": {},
   "outputs": [],
   "source": [
    "num_by_gas_num.to_excel('analysis/[G4][배출가스인증번호]유니크값_통계.xlsx', encoding='utf-8')"
   ]
  },
  {
   "cell_type": "code",
   "execution_count": 305,
   "metadata": {},
   "outputs": [
    {
     "data": {
      "text/plain": [
       "123003"
      ]
     },
     "execution_count": 305,
     "metadata": {},
     "output_type": "execute_result"
    }
   ],
   "source": [
    "gas_df['배출가스인증번호'].isnull().sum()"
   ]
  },
  {
   "attachments": {},
   "cell_type": "markdown",
   "metadata": {},
   "source": [
    "##### 오류 배출가스인증번호 유형 통계"
   ]
  },
  {
   "cell_type": "code",
   "execution_count": 306,
   "metadata": {},
   "outputs": [],
   "source": [
    "# - 총 오류 샘플 수 : 22024\n",
    "#     - 1번째 부분 3자리가 아닌 경우 : 17840\n",
    "#         - 빈 값(' ')인 경우 : 0\n",
    "#         - 바('-') 기호가 없는 경우 : 6\n",
    "#         - 1번째 부분 1자리인 경우(n-XXX-XX-XX) : 0\n",
    "#         - 1번째 부분 2자리인 경우(nn-XXX-XX-XX) : 0\n",
    "#         - 1번째 부분 4자리인 경우(nnnn-XXX-XX-XX) : 17834(17840)\n",
    "#\n",
    "#     - 2번째 부분 2자리가 아닌 경우 : 2827\n",
    "#         - 2번째 부분 1자리인 경우(XXX-n-XX-XX) : 0\n",
    "#         - 2번째 부분 3자리인 경우(XXX-nnn-XX-XX) : 2827\n",
    "#\n",
    "#     - 2번째 부분 2자리이면서 숫자만 있는 경우 : 0\n",
    "#\n",
    "#     - 3번째 부분 2자리가 아닌 경우 : 1\n",
    "#         - 3번째 부분 1자리인 경우(XXX-XX-n-XX) : 1\n",
    "#\n",
    "#     - 3번째 부분 2자리이면서 문자가 있는 경우 : 1356(19191)\n",
    "#\n",
    "#     - 4번째 부분 2자리가 아닌 경우 : 0(1999)\n",
    "#         - 중복 오류 : 1999\n",
    "#     - 4번째 부분 2자리이면서 문자가 있는 경우 : 0(19191)\n",
    "#         - 중복 오류 : 19191"
   ]
  },
  {
   "cell_type": "code",
   "execution_count": 307,
   "metadata": {},
   "outputs": [
    {
     "data": {
      "text/plain": [
       "30     6MY-SS-0M-24\n",
       "104    FMY-VTK-14-1\n",
       "131    FMY-VTK-14-1\n",
       "133    6MY-SS-0M-24\n",
       "134    FMY-VTK-14-1\n",
       "Name: 배출가스인증번호, dtype: object"
      ]
     },
     "execution_count": 307,
     "metadata": {},
     "output_type": "execute_result"
    }
   ],
   "source": [
    "gas_df.loc[idx125[:5], '배출가스인증번호']"
   ]
  },
  {
   "cell_type": "code",
   "execution_count": 308,
   "metadata": {},
   "outputs": [
    {
     "data": {
      "text/plain": [
       "30     6MY-SS-0M-24\n",
       "104    FMY-VTK-14-1\n",
       "131    FMY-VTK-14-1\n",
       "133    6MY-SS-0M-24\n",
       "134    FMY-VTK-14-1\n",
       "Name: 배출가스인증번호, dtype: object"
      ]
     },
     "execution_count": 308,
     "metadata": {},
     "output_type": "execute_result"
    }
   ],
   "source": [
    "gas_temp2 = gas_df.loc[idx125, '배출가스인증번호']\n",
    "gas_temp2.head()"
   ]
  },
  {
   "attachments": {},
   "cell_type": "markdown",
   "metadata": {},
   "source": [
    "###### 1번째 자리 오류 유형"
   ]
  },
  {
   "cell_type": "code",
   "execution_count": 309,
   "metadata": {},
   "outputs": [],
   "source": [
    "# 1번째 부분 3자리가 아닌 경우 : 17840\n",
    "#     - 빈 값(' ')인 경우 : 0\n",
    "#     - 바('-') 기호가 없는 경우 : 6\n",
    "#     - 1자리인 경우 : 0\n",
    "#     - 2자리인 경우 : 0\n",
    "#     - 4자리인 경우 : 17836"
   ]
  },
  {
   "cell_type": "code",
   "execution_count": 310,
   "metadata": {},
   "outputs": [
    {
     "name": "stderr",
     "output_type": "stream",
     "text": [
      "22024it [00:00, 468513.25it/s]\n"
     ]
    },
    {
     "data": {
      "text/plain": [
       "17840"
      ]
     },
     "execution_count": 310,
     "metadata": {},
     "output_type": "execute_result"
    }
   ],
   "source": [
    "# 1번째 부분 3자리가 아닌 경우 : 17840\n",
    "idx126 = []\n",
    "count = 0\n",
    "for i, one in tqdm(enumerate(gas_temp2.to_numpy())):\n",
    "    try:\n",
    "        if len(str(one).split('-')[0]) != 3:\n",
    "            idx126.append(gas_temp2.index[i])\n",
    "            count += 1\n",
    "    except:\n",
    "        pass\n",
    "count"
   ]
  },
  {
   "cell_type": "code",
   "execution_count": 311,
   "metadata": {},
   "outputs": [
    {
     "data": {
      "text/plain": [
       "877898           C135\n",
       "891638           C135\n",
       "898807           C135\n",
       "915591           C135\n",
       "960831           C135\n",
       "              ...    \n",
       "1528547    TY87-배K-03\n",
       "1528548    TY87-배K-03\n",
       "1528549    TY87-배K-03\n",
       "1528551    TY87-배K-03\n",
       "1528552    TY87-배K-03\n",
       "Name: 배출가스인증번호, Length: 17840, dtype: object"
      ]
     },
     "execution_count": 311,
     "metadata": {},
     "output_type": "execute_result"
    }
   ],
   "source": [
    "gas_df.loc[idx126, '배출가스인증번호']"
   ]
  },
  {
   "cell_type": "code",
   "execution_count": 312,
   "metadata": {},
   "outputs": [
    {
     "data": {
      "text/plain": [
       "'C135'"
      ]
     },
     "execution_count": 312,
     "metadata": {},
     "output_type": "execute_result"
    }
   ],
   "source": [
    "gas_df.loc[idx126[0], '배출가스인증번호']"
   ]
  },
  {
   "cell_type": "code",
   "execution_count": 313,
   "metadata": {},
   "outputs": [
    {
     "data": {
      "text/plain": [
       "0"
      ]
     },
     "execution_count": 313,
     "metadata": {},
     "output_type": "execute_result"
    }
   ],
   "source": [
    "# 빈 값(' ')인 경우 : 0\n",
    "count = 0\n",
    "idx126_1 = []\n",
    "for i, one in enumerate(gas_df.loc[idx126, '배출가스인증번호']):\n",
    "    if one == ' ':\n",
    "        idx126_1.append(gas_df.loc[idx126, '배출가스인증번호'].index[i])\n",
    "        count += 1\n",
    "count"
   ]
  },
  {
   "cell_type": "code",
   "execution_count": 314,
   "metadata": {},
   "outputs": [
    {
     "data": {
      "text/plain": [
       "Series([], Name: 배출가스인증번호, dtype: object)"
      ]
     },
     "execution_count": 314,
     "metadata": {},
     "output_type": "execute_result"
    }
   ],
   "source": [
    "gas_df.loc[idx126_1, '배출가스인증번호']"
   ]
  },
  {
   "cell_type": "code",
   "execution_count": 315,
   "metadata": {},
   "outputs": [
    {
     "data": {
      "text/plain": [
       "6"
      ]
     },
     "execution_count": 315,
     "metadata": {},
     "output_type": "execute_result"
    }
   ],
   "source": [
    "# 바('-') 기호가 없는 경우 : 6\n",
    "count = 0\n",
    "idx126_2 = []\n",
    "for i, one in enumerate(gas_df.loc[idx126, '배출가스인증번호']):\n",
    "    if '-' not in one:\n",
    "        idx126_2.append(gas_df.loc[idx126, '배출가스인증번호'].index[i])\n",
    "        count += 1\n",
    "count"
   ]
  },
  {
   "cell_type": "code",
   "execution_count": 316,
   "metadata": {},
   "outputs": [
    {
     "data": {
      "text/plain": [
       "973286    C135\n",
       "915591    C135\n",
       "891638    C135\n",
       "877898    C135\n",
       "898807    C135\n",
       "960831    C135\n",
       "Name: 배출가스인증번호, dtype: object"
      ]
     },
     "execution_count": 316,
     "metadata": {},
     "output_type": "execute_result"
    }
   ],
   "source": [
    "gas_df.loc[list(set(idx126_2) - set(idx126_1)), '배출가스인증번호']"
   ]
  },
  {
   "cell_type": "code",
   "execution_count": 317,
   "metadata": {},
   "outputs": [
    {
     "data": {
      "text/plain": [
       "6"
      ]
     },
     "execution_count": 317,
     "metadata": {},
     "output_type": "execute_result"
    }
   ],
   "source": [
    "len(list(set(idx126_2) - set(idx126_1)))"
   ]
  },
  {
   "cell_type": "code",
   "execution_count": 318,
   "metadata": {},
   "outputs": [
    {
     "name": "stderr",
     "output_type": "stream",
     "text": [
      "22024it [00:00, 957376.58it/s]\n"
     ]
    },
    {
     "data": {
      "text/plain": [
       "0"
      ]
     },
     "execution_count": 318,
     "metadata": {},
     "output_type": "execute_result"
    }
   ],
   "source": [
    "# 1번째 부분 1자리인 경우(n-XXX-XX-XX) : 0\n",
    "idx126_3 = []\n",
    "count = 0\n",
    "for i, one in tqdm(enumerate(gas_temp2.to_numpy())):\n",
    "    try:\n",
    "        if len(str(one).split('-')[0]) == 1:\n",
    "            idx126_3.append(gas_temp2.index[i])\n",
    "            count += 1\n",
    "    except:\n",
    "        pass\n",
    "count"
   ]
  },
  {
   "cell_type": "code",
   "execution_count": 319,
   "metadata": {},
   "outputs": [
    {
     "data": {
      "text/plain": [
       "Series([], Name: 배출가스인증번호, dtype: object)"
      ]
     },
     "execution_count": 319,
     "metadata": {},
     "output_type": "execute_result"
    }
   ],
   "source": [
    "gas_df.loc[idx126_3[:5], '배출가스인증번호']"
   ]
  },
  {
   "cell_type": "code",
   "execution_count": 320,
   "metadata": {},
   "outputs": [
    {
     "data": {
      "text/plain": [
       "True"
      ]
     },
     "execution_count": 320,
     "metadata": {},
     "output_type": "execute_result"
    }
   ],
   "source": [
    "set(idx126_1) == set(idx126_3)"
   ]
  },
  {
   "cell_type": "code",
   "execution_count": 321,
   "metadata": {},
   "outputs": [
    {
     "name": "stderr",
     "output_type": "stream",
     "text": [
      "22024it [00:00, 917104.51it/s]\n"
     ]
    },
    {
     "data": {
      "text/plain": [
       "0"
      ]
     },
     "execution_count": 321,
     "metadata": {},
     "output_type": "execute_result"
    }
   ],
   "source": [
    "# 1번째 부분 2자리인 경우(nn-XXX-XX-XX) : 0\n",
    "idx126_4 = []\n",
    "count = 0\n",
    "for i, one in tqdm(enumerate(gas_temp2.to_numpy())):\n",
    "    try:\n",
    "        if len(str(one).split('-')[0]) == 2:\n",
    "            idx126_4.append(gas_temp2.index[i])\n",
    "            count += 1\n",
    "    except:\n",
    "        pass\n",
    "count"
   ]
  },
  {
   "cell_type": "code",
   "execution_count": 322,
   "metadata": {},
   "outputs": [
    {
     "name": "stderr",
     "output_type": "stream",
     "text": [
      "22024it [00:00, 478653.56it/s]\n"
     ]
    },
    {
     "data": {
      "text/plain": [
       "17840"
      ]
     },
     "execution_count": 322,
     "metadata": {},
     "output_type": "execute_result"
    }
   ],
   "source": [
    "# 1번째 부분 4자리인 경우(nnnn-XXX-XX-XX) : 17834(17840)\n",
    "idx126_5 = []\n",
    "count = 0\n",
    "for i, one in tqdm(enumerate(gas_temp2.to_numpy())):\n",
    "    try:\n",
    "        if len(str(one).split('-')[0]) == 4:\n",
    "            idx126_5.append(gas_temp2.index[i])\n",
    "            count += 1\n",
    "    except:\n",
    "        pass\n",
    "count"
   ]
  },
  {
   "cell_type": "code",
   "execution_count": 323,
   "metadata": {},
   "outputs": [
    {
     "data": {
      "text/plain": [
       "17834"
      ]
     },
     "execution_count": 323,
     "metadata": {},
     "output_type": "execute_result"
    }
   ],
   "source": [
    "# 4자리인 경우(앞에서 중복된 샘플 제거) : 17834\n",
    "len(set(idx126_5) - set(idx126_1) - set(idx126_2))"
   ]
  },
  {
   "attachments": {},
   "cell_type": "markdown",
   "metadata": {},
   "source": [
    "###### 2번째 자리 오류 유형"
   ]
  },
  {
   "cell_type": "code",
   "execution_count": 324,
   "metadata": {},
   "outputs": [],
   "source": [
    "# 2번째 부분 2자리가 아닌 경우 : 2827\n",
    "#   - 2번째 부분 1자리인 경우(XXX-n-XX-XX) : 0\n",
    "#   - 2번째 부분 3자리인 경우(XXX-nnn-XX-XX) : 2827\n",
    "# 2번째 부분 2자리이면서 숫자만 있는 경우 : 0"
   ]
  },
  {
   "cell_type": "code",
   "execution_count": 325,
   "metadata": {},
   "outputs": [
    {
     "name": "stderr",
     "output_type": "stream",
     "text": [
      "22024it [00:00, 759278.59it/s]\n"
     ]
    },
    {
     "data": {
      "text/plain": [
       "2827"
      ]
     },
     "execution_count": 325,
     "metadata": {},
     "output_type": "execute_result"
    }
   ],
   "source": [
    "# 2번째 부분 2자리가 아닌 경우 : 2827\n",
    "idx127 = []\n",
    "count = 0\n",
    "for i, one in tqdm(enumerate(gas_temp2.to_numpy())):\n",
    "    try:\n",
    "        if len(str(one).split('-')[1]) != 2:\n",
    "            idx127.append(gas_temp2.index[i])\n",
    "            count += 1\n",
    "    except:\n",
    "        pass\n",
    "count"
   ]
  },
  {
   "cell_type": "code",
   "execution_count": 326,
   "metadata": {},
   "outputs": [
    {
     "data": {
      "text/plain": [
       "2827"
      ]
     },
     "execution_count": 326,
     "metadata": {},
     "output_type": "execute_result"
    }
   ],
   "source": [
    "len(set(idx127) - set(idx126))"
   ]
  },
  {
   "cell_type": "code",
   "execution_count": 327,
   "metadata": {},
   "outputs": [
    {
     "data": {
      "text/plain": [
       "104    FMY-VTK-14-1\n",
       "131    FMY-VTK-14-1\n",
       "134    FMY-VTK-14-1\n",
       "135    FMY-VTK-14-1\n",
       "137    FMY-VTK-14-1\n",
       "Name: 배출가스인증번호, dtype: object"
      ]
     },
     "execution_count": 327,
     "metadata": {},
     "output_type": "execute_result"
    }
   ],
   "source": [
    "gas_df.loc[idx127[:5], '배출가스인증번호']"
   ]
  },
  {
   "cell_type": "code",
   "execution_count": 328,
   "metadata": {},
   "outputs": [
    {
     "name": "stderr",
     "output_type": "stream",
     "text": [
      "22024it [00:00, 733696.72it/s]\n"
     ]
    },
    {
     "data": {
      "text/plain": [
       "0"
      ]
     },
     "execution_count": 328,
     "metadata": {},
     "output_type": "execute_result"
    }
   ],
   "source": [
    "# 2번째 부분 1자리인 경우(XXX-n-XX-XX) : 0\n",
    "idx127_1 = []\n",
    "count = 0\n",
    "for i, one in tqdm(enumerate(gas_temp2.to_numpy())):\n",
    "    try:\n",
    "        if len(str(one).split('-')[1]) == 1:\n",
    "            idx127_1.append(gas_temp2.index[i])\n",
    "            count += 1\n",
    "    except:\n",
    "        pass\n",
    "count"
   ]
  },
  {
   "cell_type": "code",
   "execution_count": 329,
   "metadata": {},
   "outputs": [
    {
     "data": {
      "text/plain": [
       "Series([], Name: 배출가스인증번호, dtype: object)"
      ]
     },
     "execution_count": 329,
     "metadata": {},
     "output_type": "execute_result"
    }
   ],
   "source": [
    "gas_df.iloc[idx127_1[:5], 12]"
   ]
  },
  {
   "cell_type": "code",
   "execution_count": 330,
   "metadata": {},
   "outputs": [
    {
     "name": "stderr",
     "output_type": "stream",
     "text": [
      "22024it [00:00, 786079.54it/s]\n"
     ]
    },
    {
     "data": {
      "text/plain": [
       "2827"
      ]
     },
     "execution_count": 330,
     "metadata": {},
     "output_type": "execute_result"
    }
   ],
   "source": [
    "# 2번째 부분 3자리인 경우(XXX-nnn-XX-XX) : 2827\n",
    "idx127_3 = []\n",
    "count = 0\n",
    "for i, one in tqdm(enumerate(gas_temp2.to_numpy())):\n",
    "    try:\n",
    "        if len(str(one).split('-')[1]) == 3:\n",
    "            idx127_3.append(gas_temp2.index[i])\n",
    "            count += 1\n",
    "    except:\n",
    "        pass\n",
    "count"
   ]
  },
  {
   "cell_type": "code",
   "execution_count": 331,
   "metadata": {},
   "outputs": [
    {
     "data": {
      "text/plain": [
       "104    FMY-VTK-14-1\n",
       "131    FMY-VTK-14-1\n",
       "134    FMY-VTK-14-1\n",
       "135    FMY-VTK-14-1\n",
       "137    FMY-VTK-14-1\n",
       "Name: 배출가스인증번호, dtype: object"
      ]
     },
     "execution_count": 331,
     "metadata": {},
     "output_type": "execute_result"
    }
   ],
   "source": [
    "gas_df.loc[idx127_3[:5], '배출가스인증번호']"
   ]
  },
  {
   "cell_type": "code",
   "execution_count": 332,
   "metadata": {},
   "outputs": [
    {
     "name": "stderr",
     "output_type": "stream",
     "text": [
      "22024it [00:00, 880763.45it/s]\n"
     ]
    },
    {
     "data": {
      "text/plain": [
       "0"
      ]
     },
     "execution_count": 332,
     "metadata": {},
     "output_type": "execute_result"
    }
   ],
   "source": [
    "# 2번째 부분 4자리인 경우(XXX-nnnn-XX-XX) : 0\n",
    "idx127_4 = []\n",
    "count = 0\n",
    "for i, one in tqdm(enumerate(gas_temp2.to_numpy())):\n",
    "    try:\n",
    "        if len(str(one).split('-')[1]) == 4:\n",
    "            idx127_4.append(gas_temp2.index[i])\n",
    "            count += 1\n",
    "    except:\n",
    "        pass\n",
    "count"
   ]
  },
  {
   "cell_type": "code",
   "execution_count": 333,
   "metadata": {},
   "outputs": [
    {
     "name": "stderr",
     "output_type": "stream",
     "text": [
      "22024it [00:00, 564544.89it/s]\n"
     ]
    },
    {
     "data": {
      "text/plain": [
       "0"
      ]
     },
     "execution_count": 333,
     "metadata": {},
     "output_type": "execute_result"
    }
   ],
   "source": [
    "# 2번째 부분 2자리이면서 숫자만 있는 경우 : 0\n",
    "idx127_5 = []\n",
    "p127_5 = re.compile('[0-9]+')\n",
    "count = 0\n",
    "for i, one in tqdm(enumerate(gas_temp2.to_numpy())):\n",
    "    try:\n",
    "        if (len(str(one).split('-')[1]) == 2) and p127_5.search(str(one).split('-')[1]):\n",
    "            idx127_5.append(gas_temp2.index[i])\n",
    "            count += 1\n",
    "    except:\n",
    "        pass\n",
    "count"
   ]
  },
  {
   "attachments": {},
   "cell_type": "markdown",
   "metadata": {},
   "source": [
    "###### 3번째 자리 오류 유형"
   ]
  },
  {
   "cell_type": "code",
   "execution_count": 334,
   "metadata": {},
   "outputs": [],
   "source": [
    "# 3번째 부분 2자리가 아닌 경우 : 1\n",
    "#   - 3번째 부분 1자리인 경우(XXX-XX-n-XX) : 1\n",
    "# 3번째 부분 2자리이면서 문자가 있는 경우 : 1356"
   ]
  },
  {
   "cell_type": "code",
   "execution_count": 335,
   "metadata": {},
   "outputs": [
    {
     "name": "stderr",
     "output_type": "stream",
     "text": [
      "22024it [00:00, 815186.92it/s]\n"
     ]
    },
    {
     "data": {
      "text/plain": [
       "1"
      ]
     },
     "execution_count": 335,
     "metadata": {},
     "output_type": "execute_result"
    }
   ],
   "source": [
    "# 3번째 부분 2자리가 아닌 경우 : 1\n",
    "idx128 = []\n",
    "count = 0\n",
    "for i, one in tqdm(enumerate(gas_temp2.to_numpy())):\n",
    "    try:\n",
    "        if len(str(one).split('-')[2]) != 2:\n",
    "            idx128.append(gas_temp2.index[i])\n",
    "            count += 1\n",
    "    except:\n",
    "        pass\n",
    "count"
   ]
  },
  {
   "cell_type": "code",
   "execution_count": 336,
   "metadata": {},
   "outputs": [
    {
     "data": {
      "text/plain": [
       "1187545    NMY-JK-S-107\n",
       "Name: 배출가스인증번호, dtype: object"
      ]
     },
     "execution_count": 336,
     "metadata": {},
     "output_type": "execute_result"
    }
   ],
   "source": [
    "gas_df.loc[idx128, '배출가스인증번호']"
   ]
  },
  {
   "cell_type": "code",
   "execution_count": 337,
   "metadata": {},
   "outputs": [
    {
     "data": {
      "text/plain": [
       "1"
      ]
     },
     "execution_count": 337,
     "metadata": {},
     "output_type": "execute_result"
    }
   ],
   "source": [
    "len(set(idx128) - set(idx126) - set(idx127))"
   ]
  },
  {
   "cell_type": "code",
   "execution_count": 338,
   "metadata": {},
   "outputs": [
    {
     "name": "stderr",
     "output_type": "stream",
     "text": [
      "22024it [00:00, 289732.31it/s]\n"
     ]
    },
    {
     "data": {
      "text/plain": [
       "22017"
      ]
     },
     "execution_count": 338,
     "metadata": {},
     "output_type": "execute_result"
    }
   ],
   "source": [
    "# 3번째 부분 2자리이면서 문자가 있는 경우 : 1356(19191)\n",
    "idx128_1 = []\n",
    "p128_1 = re.compile('[a-zA-Z가-힣]+')\n",
    "count = 0\n",
    "for i, one in tqdm(enumerate(gas_temp2.to_numpy())):\n",
    "    try:\n",
    "        if (len(str(one).split('-')[2]) == 2) and p128_1.search(str(one).split('-')[1]):\n",
    "            idx128_1.append(gas_temp2.index[i])\n",
    "            count += 1\n",
    "    except:\n",
    "        pass\n",
    "count"
   ]
  },
  {
   "cell_type": "code",
   "execution_count": 339,
   "metadata": {},
   "outputs": [
    {
     "data": {
      "text/plain": [
       "1356"
      ]
     },
     "execution_count": 339,
     "metadata": {},
     "output_type": "execute_result"
    }
   ],
   "source": [
    "# 3번째 부분 2자리이면서 문자가 있는 경우(앞에서 중복된 샘플 제거) : 1356\n",
    "len(set(idx128_1) - set(idx126) - set(idx127) - set(idx128))"
   ]
  },
  {
   "cell_type": "code",
   "execution_count": 340,
   "metadata": {},
   "outputs": [
    {
     "data": {
      "text/plain": [
       "958464    7MY-HC-0M-24\n",
       "933891    8MY-HS-0M-24\n",
       "901127    7MY-CH-0M-24\n",
       "958472    6MY-SS-0M-24\n",
       "958477    8MY-HT-0M-24\n",
       "Name: 배출가스인증번호, dtype: object"
      ]
     },
     "execution_count": 340,
     "metadata": {},
     "output_type": "execute_result"
    }
   ],
   "source": [
    "gas_df.loc[list(set(idx128_1) - set(idx126) - set(idx127) - set(idx128))[:5], '배출가스인증번호']"
   ]
  },
  {
   "attachments": {},
   "cell_type": "markdown",
   "metadata": {},
   "source": [
    "###### 4번째 자리 오류 유형"
   ]
  },
  {
   "cell_type": "code",
   "execution_count": 341,
   "metadata": {},
   "outputs": [],
   "source": [
    "# 4번째 부분 2자리가 아닌 경우 : 0(1999)\n",
    "#   - 중복 오류 : 1999\n",
    "# 4번째 부분 2자리이면서 문자가 있는 경우 : 0(19191)"
   ]
  },
  {
   "cell_type": "code",
   "execution_count": 342,
   "metadata": {},
   "outputs": [
    {
     "name": "stderr",
     "output_type": "stream",
     "text": [
      "22024it [00:00, 786420.84it/s]\n"
     ]
    },
    {
     "data": {
      "text/plain": [
       "1999"
      ]
     },
     "execution_count": 342,
     "metadata": {},
     "output_type": "execute_result"
    }
   ],
   "source": [
    "# 4번째 부분 2자리가 아닌 경우 : 0(1999)\n",
    "idx129 = []\n",
    "count = 0\n",
    "for i, one in tqdm(enumerate(gas_temp2.to_numpy())):\n",
    "    try:\n",
    "        if len(str(one).split('-')[3]) != 2:\n",
    "            idx129.append(gas_temp2.index[i])\n",
    "            count += 1\n",
    "    except:\n",
    "        pass\n",
    "count"
   ]
  },
  {
   "cell_type": "code",
   "execution_count": 343,
   "metadata": {},
   "outputs": [
    {
     "data": {
      "text/plain": [
       "104    FMY-VTK-14-1\n",
       "131    FMY-VTK-14-1\n",
       "134    FMY-VTK-14-1\n",
       "135    FMY-VTK-14-1\n",
       "137    FMY-VTK-14-1\n",
       "Name: 배출가스인증번호, dtype: object"
      ]
     },
     "execution_count": 343,
     "metadata": {},
     "output_type": "execute_result"
    }
   ],
   "source": [
    "gas_df.loc[idx129[:5], '배출가스인증번호']"
   ]
  },
  {
   "cell_type": "code",
   "execution_count": 344,
   "metadata": {},
   "outputs": [
    {
     "data": {
      "text/plain": [
       "0"
      ]
     },
     "execution_count": 344,
     "metadata": {},
     "output_type": "execute_result"
    }
   ],
   "source": [
    "# 중복 추출된 샘플 제거\n",
    "len(set(idx129) - set(idx126) - set(idx127) - set(idx128))"
   ]
  },
  {
   "cell_type": "code",
   "execution_count": 345,
   "metadata": {},
   "outputs": [
    {
     "name": "stderr",
     "output_type": "stream",
     "text": [
      "22024it [00:00, 314502.47it/s]\n"
     ]
    },
    {
     "data": {
      "text/plain": [
       "19191"
      ]
     },
     "execution_count": 345,
     "metadata": {},
     "output_type": "execute_result"
    }
   ],
   "source": [
    "# 4번째 부분 2자리이면서 문자가 있는 경우 : 0(19191)\n",
    "idx129_1 = []\n",
    "p129_1 = re.compile('[a-zA-Z가-힣]+')\n",
    "count = 0\n",
    "for i, one in tqdm(enumerate(gas_temp2.to_numpy())):\n",
    "    try:\n",
    "        if (len(str(one).split('-')[1]) == 2) and p129_1.search(str(one).split('-')[1]):\n",
    "            idx129_1.append(gas_temp2.index[i])\n",
    "            count += 1\n",
    "    except:\n",
    "        pass\n",
    "count"
   ]
  },
  {
   "cell_type": "code",
   "execution_count": 346,
   "metadata": {},
   "outputs": [
    {
     "data": {
      "text/plain": [
       "1"
      ]
     },
     "execution_count": 346,
     "metadata": {},
     "output_type": "execute_result"
    }
   ],
   "source": [
    "len(set(idx129_1) - set(idx126) - set(idx127) - set(idx128_1))"
   ]
  },
  {
   "attachments": {},
   "cell_type": "markdown",
   "metadata": {},
   "source": [
    "###### 한글이 포함된 경우"
   ]
  },
  {
   "cell_type": "code",
   "execution_count": 347,
   "metadata": {},
   "outputs": [
    {
     "name": "stderr",
     "output_type": "stream",
     "text": [
      "22024it [00:00, 431662.54it/s]\n"
     ]
    },
    {
     "data": {
      "text/plain": [
       "17834"
      ]
     },
     "execution_count": 347,
     "metadata": {},
     "output_type": "execute_result"
    }
   ],
   "source": [
    "idx1210 = []\n",
    "p1210 = re.compile('[가-힣]')\n",
    "count = 0\n",
    "for i, one in tqdm(enumerate(gas_temp2.to_numpy())):\n",
    "    try:\n",
    "        if p1210.search(one):\n",
    "            idx1210.append(gas_temp2.index[i])\n",
    "            count += 1\n",
    "    except:\n",
    "        pass\n",
    "count"
   ]
  },
  {
   "cell_type": "code",
   "execution_count": 348,
   "metadata": {},
   "outputs": [
    {
     "data": {
      "text/plain": [
       "0"
      ]
     },
     "execution_count": 348,
     "metadata": {},
     "output_type": "execute_result"
    }
   ],
   "source": [
    "len(set(idx1210) - set(idx129) - set(idx126) - set(idx127) - set(idx128))"
   ]
  },
  {
   "attachments": {},
   "cell_type": "markdown",
   "metadata": {},
   "source": [
    "#### 배출가스인증번호 미부여 현황\n",
    "- 필요한 컬럼 : 배출가스인증번호, 차량연식, 차량제작일자, 차명, 차종_제원정보, 차종분류, 차종유형, 자동차형식, 제작사명, 연료"
   ]
  },
  {
   "cell_type": "code",
   "execution_count": 349,
   "metadata": {},
   "outputs": [
    {
     "data": {
      "text/plain": [
       "Index(['차량관리번호', '차량등록번호', '본거지법정동코드', '소유자구분', '차종_등록정보', '용도', '차대번호',\n",
       "       '최초등록일자', '차량연식', '차량제작일자', '검사유효일', '제원관리번호', '배출가스인증번호', '배출가스등급',\n",
       "       '저공해조치종류', '저공해조치구조변경YN', '취득일자', '취득금액', '차명', '차종_제원정보', '차종분류',\n",
       "       '차종유형', '자동차형식', '제작사명', '연료', '엔진형식', '총중량', '적재중량', '엔진출력', '배기량',\n",
       "       '승차인원', '차량길이', '차량너비', '차량높이', '원산지명', '삭제YN', '제원승인일자', '구동형식',\n",
       "       '변속기종류', 'code1', '시도', '시구군', '폐지여부', '대기관리권역', '대기관리권역YN'],\n",
       "      dtype='object')"
      ]
     },
     "execution_count": 349,
     "metadata": {},
     "output_type": "execute_result"
    }
   ],
   "source": [
    "gas_df.columns"
   ]
  },
  {
   "cell_type": "code",
   "execution_count": 350,
   "metadata": {},
   "outputs": [
    {
     "data": {
      "text/html": [
       "<div>\n",
       "<style scoped>\n",
       "    .dataframe tbody tr th:only-of-type {\n",
       "        vertical-align: middle;\n",
       "    }\n",
       "\n",
       "    .dataframe tbody tr th {\n",
       "        vertical-align: top;\n",
       "    }\n",
       "\n",
       "    .dataframe thead th {\n",
       "        text-align: right;\n",
       "    }\n",
       "</style>\n",
       "<table border=\"1\" class=\"dataframe\">\n",
       "  <thead>\n",
       "    <tr style=\"text-align: right;\">\n",
       "      <th></th>\n",
       "      <th>배출가스인증번호</th>\n",
       "      <th>차량연식</th>\n",
       "      <th>차량제작일자</th>\n",
       "      <th>차명</th>\n",
       "      <th>차종_제원정보</th>\n",
       "      <th>차종분류</th>\n",
       "      <th>차종유형</th>\n",
       "      <th>제작사명</th>\n",
       "      <th>연료</th>\n",
       "    </tr>\n",
       "  </thead>\n",
       "  <tbody>\n",
       "    <tr>\n",
       "      <th>0</th>\n",
       "      <td>NaN</td>\n",
       "      <td>2008</td>\n",
       "      <td>20080924.0</td>\n",
       "      <td>메가트럭군물자수송</td>\n",
       "      <td>화물</td>\n",
       "      <td>특수용도형-특수용도형</td>\n",
       "      <td>대형</td>\n",
       "      <td>현대자동차(주)</td>\n",
       "      <td>경유</td>\n",
       "    </tr>\n",
       "    <tr>\n",
       "      <th>1</th>\n",
       "      <td>NaN</td>\n",
       "      <td>2008</td>\n",
       "      <td>20080605.0</td>\n",
       "      <td>신정4㎥급진공노면총소차</td>\n",
       "      <td>화물</td>\n",
       "      <td>특수용도형-특수용도형</td>\n",
       "      <td>대형</td>\n",
       "      <td>신정개발특장차 주식회사</td>\n",
       "      <td>경유</td>\n",
       "    </tr>\n",
       "    <tr>\n",
       "      <th>2</th>\n",
       "      <td>NaN</td>\n",
       "      <td>2008</td>\n",
       "      <td>20080221.0</td>\n",
       "      <td>윈스톰2.0S디젤</td>\n",
       "      <td>승용</td>\n",
       "      <td>다목적</td>\n",
       "      <td>중형</td>\n",
       "      <td>한국지엠주식회사</td>\n",
       "      <td>경유</td>\n",
       "    </tr>\n",
       "    <tr>\n",
       "      <th>3</th>\n",
       "      <td>NaN</td>\n",
       "      <td>2008</td>\n",
       "      <td>20080315.0</td>\n",
       "      <td>마이티냉동차</td>\n",
       "      <td>화물</td>\n",
       "      <td>특수용도형-특수용도형</td>\n",
       "      <td>중형</td>\n",
       "      <td>현대자동차(주)</td>\n",
       "      <td>경유</td>\n",
       "    </tr>\n",
       "    <tr>\n",
       "      <th>4</th>\n",
       "      <td>NaN</td>\n",
       "      <td>2007</td>\n",
       "      <td>20070227.0</td>\n",
       "      <td>리베로슈퍼렉커(LIBERO)</td>\n",
       "      <td>특수</td>\n",
       "      <td>구난</td>\n",
       "      <td>중형</td>\n",
       "      <td>현대자동차(주)</td>\n",
       "      <td>경유</td>\n",
       "    </tr>\n",
       "  </tbody>\n",
       "</table>\n",
       "</div>"
      ],
      "text/plain": [
       "  배출가스인증번호  차량연식      차량제작일자               차명 차종_제원정보         차종분류 차종유형  \\\n",
       "0      NaN  2008  20080924.0        메가트럭군물자수송      화물  특수용도형-특수용도형   대형   \n",
       "1      NaN  2008  20080605.0     신정4㎥급진공노면총소차      화물  특수용도형-특수용도형   대형   \n",
       "2      NaN  2008  20080221.0        윈스톰2.0S디젤      승용          다목적   중형   \n",
       "3      NaN  2008  20080315.0           마이티냉동차      화물  특수용도형-특수용도형   중형   \n",
       "4      NaN  2007  20070227.0  리베로슈퍼렉커(LIBERO)      특수           구난   중형   \n",
       "\n",
       "           제작사명  연료  \n",
       "0      현대자동차(주)  경유  \n",
       "1  신정개발특장차 주식회사  경유  \n",
       "2      한국지엠주식회사  경유  \n",
       "3      현대자동차(주)  경유  \n",
       "4      현대자동차(주)  경유  "
      ]
     },
     "execution_count": 350,
     "metadata": {},
     "output_type": "execute_result"
    }
   ],
   "source": [
    "gas_df.loc[gas_df['배출가스인증번호'].isnull() == True, ['배출가스인증번호', '차량연식', '차량제작일자', '차명', '차종_제원정보', '차종분류', '차종유형', '제작사명', '연료']].head()"
   ]
  },
  {
   "cell_type": "code",
   "execution_count": 351,
   "metadata": {},
   "outputs": [
    {
     "data": {
      "text/plain": [
       "Index(['차량관리번호', '차량등록번호', '본거지법정동코드', '소유자구분', '차종_등록정보', '용도', '차대번호',\n",
       "       '최초등록일자', '차량연식', '차량제작일자', '검사유효일', '제원관리번호', '배출가스인증번호', '배출가스등급',\n",
       "       '저공해조치종류', '저공해조치구조변경YN', '취득일자', '취득금액', '차명', '차종_제원정보', '차종분류',\n",
       "       '차종유형', '자동차형식', '제작사명', '연료', '엔진형식', '총중량', '적재중량', '엔진출력', '배기량',\n",
       "       '승차인원', '차량길이', '차량너비', '차량높이', '원산지명', '삭제YN', '제원승인일자', '구동형식',\n",
       "       '변속기종류', 'code1', '시도', '시구군', '폐지여부', '대기관리권역', '대기관리권역YN'],\n",
       "      dtype='object')"
      ]
     },
     "execution_count": 351,
     "metadata": {},
     "output_type": "execute_result"
    }
   ],
   "source": [
    "gas_df.columns"
   ]
  },
  {
   "cell_type": "code",
   "execution_count": 352,
   "metadata": {},
   "outputs": [
    {
     "data": {
      "text/plain": [
       "(123003, 45)"
      ]
     },
     "execution_count": 352,
     "metadata": {},
     "output_type": "execute_result"
    }
   ],
   "source": [
    "gas_df.loc[gas_df['배출가스인증번호'].isnull() == True].shape"
   ]
  },
  {
   "cell_type": "code",
   "execution_count": 354,
   "metadata": {},
   "outputs": [],
   "source": [
    "null_num_df = gas_df.loc[gas_df['배출가스인증번호'].isnull() == True]"
   ]
  },
  {
   "cell_type": "code",
   "execution_count": 356,
   "metadata": {},
   "outputs": [
    {
     "data": {
      "text/plain": [
       "(123003, 45)"
      ]
     },
     "execution_count": 356,
     "metadata": {},
     "output_type": "execute_result"
    }
   ],
   "source": [
    "null_num_df.shape"
   ]
  },
  {
   "attachments": {},
   "cell_type": "markdown",
   "metadata": {},
   "source": [
    "##### [출력] 배인번호 미부여 샘플"
   ]
  },
  {
   "cell_type": "code",
   "execution_count": 445,
   "metadata": {},
   "outputs": [],
   "source": [
    "# [출력]4등급 차량 배출가스인증번호 미부여 샘플\n",
    "null_num_df.to_csv('analysis/[G4][배출가스인증번호]미부여_샘플.csv', encoding='cp949')"
   ]
  },
  {
   "cell_type": "code",
   "execution_count": 363,
   "metadata": {},
   "outputs": [
    {
     "data": {
      "text/html": [
       "<div>\n",
       "<style scoped>\n",
       "    .dataframe tbody tr th:only-of-type {\n",
       "        vertical-align: middle;\n",
       "    }\n",
       "\n",
       "    .dataframe tbody tr th {\n",
       "        vertical-align: top;\n",
       "    }\n",
       "\n",
       "    .dataframe thead th {\n",
       "        text-align: right;\n",
       "    }\n",
       "</style>\n",
       "<table border=\"1\" class=\"dataframe\">\n",
       "  <thead>\n",
       "    <tr style=\"text-align: right;\">\n",
       "      <th></th>\n",
       "      <th>엔진형식</th>\n",
       "      <th>차명</th>\n",
       "      <th>차량연식</th>\n",
       "      <th>차대번호</th>\n",
       "    </tr>\n",
       "  </thead>\n",
       "  <tbody>\n",
       "    <tr>\n",
       "      <th>0</th>\n",
       "      <td>D6GA</td>\n",
       "      <td>메가트럭군물자수송</td>\n",
       "      <td>2008</td>\n",
       "      <td>KMCLK18KP8C035195</td>\n",
       "    </tr>\n",
       "    <tr>\n",
       "      <th>1</th>\n",
       "      <td>D6GA</td>\n",
       "      <td>신정4㎥급진공노면총소차</td>\n",
       "      <td>2008</td>\n",
       "      <td>KMFLA18KP8C031274</td>\n",
       "    </tr>\n",
       "    <tr>\n",
       "      <th>2</th>\n",
       "      <td>Z20S</td>\n",
       "      <td>윈스톰2.0S디젤</td>\n",
       "      <td>2008</td>\n",
       "      <td>KLACA26RD8B226753</td>\n",
       "    </tr>\n",
       "    <tr>\n",
       "      <th>3</th>\n",
       "      <td>D4GA</td>\n",
       "      <td>마이티냉동차</td>\n",
       "      <td>2008</td>\n",
       "      <td>KMCGK17HP8C086937</td>\n",
       "    </tr>\n",
       "    <tr>\n",
       "      <th>4</th>\n",
       "      <td>D4CB</td>\n",
       "      <td>리베로슈퍼렉커(LIBERO)</td>\n",
       "      <td>2007</td>\n",
       "      <td>KMCYSS7JP7U084697</td>\n",
       "    </tr>\n",
       "  </tbody>\n",
       "</table>\n",
       "</div>"
      ],
      "text/plain": [
       "   엔진형식               차명  차량연식               차대번호\n",
       "0  D6GA        메가트럭군물자수송  2008  KMCLK18KP8C035195\n",
       "1  D6GA     신정4㎥급진공노면총소차  2008  KMFLA18KP8C031274\n",
       "2  Z20S        윈스톰2.0S디젤  2008  KLACA26RD8B226753\n",
       "3  D4GA           마이티냉동차  2008  KMCGK17HP8C086937\n",
       "4  D4CB  리베로슈퍼렉커(LIBERO)  2007  KMCYSS7JP7U084697"
      ]
     },
     "execution_count": 363,
     "metadata": {},
     "output_type": "execute_result"
    }
   ],
   "source": [
    "null_num_df[['엔진형식', '차명', '차량연식','차대번호']].head()"
   ]
  },
  {
   "cell_type": "code",
   "execution_count": 364,
   "metadata": {},
   "outputs": [
    {
     "data": {
      "text/plain": [
       "엔진형식          차명                   \n",
       "B3            프라이드                     9885\n",
       "F8C           티코(TICO)                 9435\n",
       "A15MF         에스페로1.5MT                4941\n",
       "C18LE         프린스1.8AT                 4591\n",
       "              프린스1.8MT                 4277\n",
       "                                       ... \n",
       "62M           PORSCHE 911 CARRERA 2       1\n",
       "              PORSCHE 911카레라2             1\n",
       "              포르쉐911카레라                   1\n",
       "              포르쉐911카레라카브리올레              1\n",
       "vg30-858076a  닛산세드릭                       1\n",
       "Name: 차대번호, Length: 3103, dtype: int64"
      ]
     },
     "execution_count": 364,
     "metadata": {},
     "output_type": "execute_result"
    }
   ],
   "source": [
    "null_num_df.groupby(['엔진형식', '차명'])['차대번호'].count().sort_values(ascending=False)"
   ]
  },
  {
   "cell_type": "code",
   "execution_count": 448,
   "metadata": {},
   "outputs": [],
   "source": [
    "null_num_df.groupby(['엔진형식', '차명'])['차대번호'].count().sort_values(ascending=False).to_excel('analysis/[G4][배출가스인증번호]미부여샘플_통계.xlsx')"
   ]
  },
  {
   "attachments": {},
   "cell_type": "markdown",
   "metadata": {},
   "source": [
    "##### 배출가스인증번호 미부여 데이터 확인"
   ]
  },
  {
   "cell_type": "code",
   "execution_count": 365,
   "metadata": {},
   "outputs": [],
   "source": [
    "# 배출가스인증번호 미부여 데이터 중\n",
    "# - 동일 엔진형식 중 1천대 이상의 샘플만 배출가스인증번호 유무 확인"
   ]
  },
  {
   "cell_type": "code",
   "execution_count": 366,
   "metadata": {},
   "outputs": [
    {
     "data": {
      "text/html": [
       "<div>\n",
       "<style scoped>\n",
       "    .dataframe tbody tr th:only-of-type {\n",
       "        vertical-align: middle;\n",
       "    }\n",
       "\n",
       "    .dataframe tbody tr th {\n",
       "        vertical-align: top;\n",
       "    }\n",
       "\n",
       "    .dataframe thead th {\n",
       "        text-align: right;\n",
       "    }\n",
       "</style>\n",
       "<table border=\"1\" class=\"dataframe\">\n",
       "  <thead>\n",
       "    <tr style=\"text-align: right;\">\n",
       "      <th></th>\n",
       "      <th>엔진형식</th>\n",
       "      <th>차명</th>\n",
       "      <th>차대번호</th>\n",
       "    </tr>\n",
       "  </thead>\n",
       "  <tbody>\n",
       "    <tr>\n",
       "      <th>0</th>\n",
       "      <td>B3</td>\n",
       "      <td>프라이드</td>\n",
       "      <td>9885</td>\n",
       "    </tr>\n",
       "    <tr>\n",
       "      <th>1</th>\n",
       "      <td>F8C</td>\n",
       "      <td>티코(TICO)</td>\n",
       "      <td>9435</td>\n",
       "    </tr>\n",
       "    <tr>\n",
       "      <th>2</th>\n",
       "      <td>A15MF</td>\n",
       "      <td>에스페로1.5MT</td>\n",
       "      <td>4941</td>\n",
       "    </tr>\n",
       "    <tr>\n",
       "      <th>3</th>\n",
       "      <td>C18LE</td>\n",
       "      <td>프린스1.8AT</td>\n",
       "      <td>4591</td>\n",
       "    </tr>\n",
       "    <tr>\n",
       "      <th>4</th>\n",
       "      <td>C18LE</td>\n",
       "      <td>프린스1.8MT</td>\n",
       "      <td>4277</td>\n",
       "    </tr>\n",
       "    <tr>\n",
       "      <th>...</th>\n",
       "      <td>...</td>\n",
       "      <td>...</td>\n",
       "      <td>...</td>\n",
       "    </tr>\n",
       "    <tr>\n",
       "      <th>3098</th>\n",
       "      <td>62M</td>\n",
       "      <td>PORSCHE 911 CARRERA 2</td>\n",
       "      <td>1</td>\n",
       "    </tr>\n",
       "    <tr>\n",
       "      <th>3099</th>\n",
       "      <td>62M</td>\n",
       "      <td>PORSCHE 911카레라2</td>\n",
       "      <td>1</td>\n",
       "    </tr>\n",
       "    <tr>\n",
       "      <th>3100</th>\n",
       "      <td>62M</td>\n",
       "      <td>포르쉐911카레라</td>\n",
       "      <td>1</td>\n",
       "    </tr>\n",
       "    <tr>\n",
       "      <th>3101</th>\n",
       "      <td>62M</td>\n",
       "      <td>포르쉐911카레라카브리올레</td>\n",
       "      <td>1</td>\n",
       "    </tr>\n",
       "    <tr>\n",
       "      <th>3102</th>\n",
       "      <td>vg30-858076a</td>\n",
       "      <td>닛산세드릭</td>\n",
       "      <td>1</td>\n",
       "    </tr>\n",
       "  </tbody>\n",
       "</table>\n",
       "<p>3103 rows × 3 columns</p>\n",
       "</div>"
      ],
      "text/plain": [
       "              엔진형식                     차명  차대번호\n",
       "0               B3                   프라이드  9885\n",
       "1              F8C               티코(TICO)  9435\n",
       "2            A15MF              에스페로1.5MT  4941\n",
       "3            C18LE               프린스1.8AT  4591\n",
       "4            C18LE               프린스1.8MT  4277\n",
       "...            ...                    ...   ...\n",
       "3098           62M  PORSCHE 911 CARRERA 2     1\n",
       "3099           62M        PORSCHE 911카레라2     1\n",
       "3100           62M              포르쉐911카레라     1\n",
       "3101           62M         포르쉐911카레라카브리올레     1\n",
       "3102  vg30-858076a                  닛산세드릭     1\n",
       "\n",
       "[3103 rows x 3 columns]"
      ]
     },
     "execution_count": 366,
     "metadata": {},
     "output_type": "execute_result"
    }
   ],
   "source": [
    "miss_gas_num_df = null_num_df.groupby(['엔진형식', '차명'])['차대번호'].count().sort_values(ascending=False).reset_index()\n",
    "miss_gas_num_df"
   ]
  },
  {
   "cell_type": "code",
   "execution_count": 367,
   "metadata": {},
   "outputs": [
    {
     "data": {
      "text/html": [
       "<div>\n",
       "<style scoped>\n",
       "    .dataframe tbody tr th:only-of-type {\n",
       "        vertical-align: middle;\n",
       "    }\n",
       "\n",
       "    .dataframe tbody tr th {\n",
       "        vertical-align: top;\n",
       "    }\n",
       "\n",
       "    .dataframe thead th {\n",
       "        text-align: right;\n",
       "    }\n",
       "</style>\n",
       "<table border=\"1\" class=\"dataframe\">\n",
       "  <thead>\n",
       "    <tr style=\"text-align: right;\">\n",
       "      <th></th>\n",
       "      <th>엔진형식</th>\n",
       "      <th>차명</th>\n",
       "      <th>차대번호</th>\n",
       "    </tr>\n",
       "  </thead>\n",
       "  <tbody>\n",
       "    <tr>\n",
       "      <th>0</th>\n",
       "      <td>B3</td>\n",
       "      <td>프라이드</td>\n",
       "      <td>9885</td>\n",
       "    </tr>\n",
       "    <tr>\n",
       "      <th>1</th>\n",
       "      <td>F8C</td>\n",
       "      <td>티코(TICO)</td>\n",
       "      <td>9435</td>\n",
       "    </tr>\n",
       "    <tr>\n",
       "      <th>2</th>\n",
       "      <td>A15MF</td>\n",
       "      <td>에스페로1.5MT</td>\n",
       "      <td>4941</td>\n",
       "    </tr>\n",
       "    <tr>\n",
       "      <th>3</th>\n",
       "      <td>C18LE</td>\n",
       "      <td>프린스1.8AT</td>\n",
       "      <td>4591</td>\n",
       "    </tr>\n",
       "    <tr>\n",
       "      <th>4</th>\n",
       "      <td>C18LE</td>\n",
       "      <td>프린스1.8MT</td>\n",
       "      <td>4277</td>\n",
       "    </tr>\n",
       "    <tr>\n",
       "      <th>5</th>\n",
       "      <td>F8C</td>\n",
       "      <td>티코(TICO)오토</td>\n",
       "      <td>2710</td>\n",
       "    </tr>\n",
       "    <tr>\n",
       "      <th>6</th>\n",
       "      <td>G15SF</td>\n",
       "      <td>르망</td>\n",
       "      <td>2571</td>\n",
       "    </tr>\n",
       "    <tr>\n",
       "      <th>7</th>\n",
       "      <td>C20LE</td>\n",
       "      <td>수퍼살롱2.0AT</td>\n",
       "      <td>2299</td>\n",
       "    </tr>\n",
       "    <tr>\n",
       "      <th>8</th>\n",
       "      <td>A15DMS</td>\n",
       "      <td>누비라1.5</td>\n",
       "      <td>2122</td>\n",
       "    </tr>\n",
       "    <tr>\n",
       "      <th>9</th>\n",
       "      <td>G4AJ</td>\n",
       "      <td>프레스토</td>\n",
       "      <td>2074</td>\n",
       "    </tr>\n",
       "    <tr>\n",
       "      <th>10</th>\n",
       "      <td>C20LE</td>\n",
       "      <td>프린스2.0AT</td>\n",
       "      <td>2009</td>\n",
       "    </tr>\n",
       "    <tr>\n",
       "      <th>11</th>\n",
       "      <td>A15MF</td>\n",
       "      <td>에스페로1.5AT</td>\n",
       "      <td>1948</td>\n",
       "    </tr>\n",
       "    <tr>\n",
       "      <th>12</th>\n",
       "      <td>F8CV</td>\n",
       "      <td>마티즈(MATIZ)</td>\n",
       "      <td>1903</td>\n",
       "    </tr>\n",
       "    <tr>\n",
       "      <th>13</th>\n",
       "      <td>G15MF</td>\n",
       "      <td>르망</td>\n",
       "      <td>1776</td>\n",
       "    </tr>\n",
       "    <tr>\n",
       "      <th>14</th>\n",
       "      <td>F8CV</td>\n",
       "      <td>마티즈</td>\n",
       "      <td>1687</td>\n",
       "    </tr>\n",
       "    <tr>\n",
       "      <th>15</th>\n",
       "      <td>G4CS</td>\n",
       "      <td>그랜저2.4</td>\n",
       "      <td>1635</td>\n",
       "    </tr>\n",
       "    <tr>\n",
       "      <th>16</th>\n",
       "      <td>B3</td>\n",
       "      <td>아벨라</td>\n",
       "      <td>1544</td>\n",
       "    </tr>\n",
       "    <tr>\n",
       "      <th>17</th>\n",
       "      <td>B3</td>\n",
       "      <td>프라이드오토</td>\n",
       "      <td>1483</td>\n",
       "    </tr>\n",
       "    <tr>\n",
       "      <th>18</th>\n",
       "      <td>CD800</td>\n",
       "      <td>타우너</td>\n",
       "      <td>1432</td>\n",
       "    </tr>\n",
       "    <tr>\n",
       "      <th>19</th>\n",
       "      <td>C32A2</td>\n",
       "      <td>아카디아(ARCADIA)</td>\n",
       "      <td>1426</td>\n",
       "    </tr>\n",
       "    <tr>\n",
       "      <th>20</th>\n",
       "      <td>A15SMS</td>\n",
       "      <td>라노스1.5</td>\n",
       "      <td>1398</td>\n",
       "    </tr>\n",
       "    <tr>\n",
       "      <th>21</th>\n",
       "      <td>642982</td>\n",
       "      <td>300C</td>\n",
       "      <td>1104</td>\n",
       "    </tr>\n",
       "    <tr>\n",
       "      <th>22</th>\n",
       "      <td>D5244T</td>\n",
       "      <td>볼보 S80D5</td>\n",
       "      <td>1020</td>\n",
       "    </tr>\n",
       "  </tbody>\n",
       "</table>\n",
       "</div>"
      ],
      "text/plain": [
       "      엔진형식             차명  차대번호\n",
       "0       B3           프라이드  9885\n",
       "1      F8C       티코(TICO)  9435\n",
       "2    A15MF      에스페로1.5MT  4941\n",
       "3    C18LE       프린스1.8AT  4591\n",
       "4    C18LE       프린스1.8MT  4277\n",
       "5      F8C     티코(TICO)오토  2710\n",
       "6    G15SF             르망  2571\n",
       "7    C20LE      수퍼살롱2.0AT  2299\n",
       "8   A15DMS         누비라1.5  2122\n",
       "9     G4AJ           프레스토  2074\n",
       "10   C20LE       프린스2.0AT  2009\n",
       "11   A15MF      에스페로1.5AT  1948\n",
       "12    F8CV     마티즈(MATIZ)  1903\n",
       "13   G15MF             르망  1776\n",
       "14    F8CV            마티즈  1687\n",
       "15    G4CS         그랜저2.4  1635\n",
       "16      B3            아벨라  1544\n",
       "17      B3         프라이드오토  1483\n",
       "18   CD800            타우너  1432\n",
       "19   C32A2  아카디아(ARCADIA)  1426\n",
       "20  A15SMS         라노스1.5  1398\n",
       "21  642982           300C  1104\n",
       "22  D5244T       볼보 S80D5  1020"
      ]
     },
     "execution_count": 367,
     "metadata": {},
     "output_type": "execute_result"
    }
   ],
   "source": [
    "temp = miss_gas_num_df[miss_gas_num_df['차대번호'] >= 1000]\n",
    "temp"
   ]
  },
  {
   "cell_type": "code",
   "execution_count": 368,
   "metadata": {},
   "outputs": [
    {
     "name": "stdout",
     "output_type": "stream",
     "text": [
      "B3\n",
      "        엔진형식    배출가스인증번호    차명\n",
      "1480586   B3  TY87-배K-03  프라이드\n",
      "\n",
      "G15SF\n",
      "          엔진형식    배출가스인증번호  차명\n",
      "1349480  G15SF  TY87-배K-02  르망\n",
      "\n",
      "G4CS\n",
      "         엔진형식   배출가스인증번호      차명\n",
      "1223970  G4CS  LMY-HD-08  그랜저2.4\n",
      "\n",
      "B3\n",
      "        엔진형식   배출가스인증번호   차명\n",
      "1225014   B3  PMY-KM-20  아벨라\n",
      "\n",
      "CD800\n",
      "          엔진형식   배출가스인증번호   차명\n",
      "1264214  CD800  SMY-KM-04  타우너\n",
      "\n",
      "D5244T\n",
      "          엔진형식     배출가스인증번호        차명\n",
      "268522  D5244T  6MY-PA-14-4  볼보 S80D5\n",
      "\n"
     ]
    }
   ],
   "source": [
    "# 제원정보에서 해당 엔진형식을 통해 배출가스인증번호 확인 여부 확인\n",
    "count = 0\n",
    "for one, two in zip(temp['엔진형식'], temp['차명']):\n",
    "    if gas_df.loc[ (gas_df['엔진형식'] == one) & (gas_df['차명'] == two), ['엔진형식' ,'배출가스인증번호', '차명'] ].drop_duplicates(['배출가스인증번호', '차명'], keep='first').dropna(subset=['배출가스인증번호']).shape[0] != 0:\n",
    "        print(one)\n",
    "        print( gas_df.loc[ (gas_df['엔진형식'] == one) & (gas_df['차명'] == two), ['엔진형식' ,'배출가스인증번호', '차명'] ].drop_duplicates(['배출가스인증번호', '차명'], keep='first').dropna(subset=['배출가스인증번호']))\n",
    "        print()\n",
    "        count += 1 "
   ]
  },
  {
   "cell_type": "code",
   "execution_count": 369,
   "metadata": {},
   "outputs": [
    {
     "data": {
      "text/plain": [
       "6"
      ]
     },
     "execution_count": 369,
     "metadata": {},
     "output_type": "execute_result"
    }
   ],
   "source": [
    "count"
   ]
  },
  {
   "cell_type": "code",
   "execution_count": 370,
   "metadata": {},
   "outputs": [
    {
     "data": {
      "text/html": [
       "<div>\n",
       "<style scoped>\n",
       "    .dataframe tbody tr th:only-of-type {\n",
       "        vertical-align: middle;\n",
       "    }\n",
       "\n",
       "    .dataframe tbody tr th {\n",
       "        vertical-align: top;\n",
       "    }\n",
       "\n",
       "    .dataframe thead th {\n",
       "        text-align: right;\n",
       "    }\n",
       "</style>\n",
       "<table border=\"1\" class=\"dataframe\">\n",
       "  <thead>\n",
       "    <tr style=\"text-align: right;\">\n",
       "      <th></th>\n",
       "      <th>엔진형식</th>\n",
       "      <th>배출가스인증번호</th>\n",
       "      <th>차명</th>\n",
       "    </tr>\n",
       "  </thead>\n",
       "  <tbody>\n",
       "    <tr>\n",
       "      <th>211236</th>\n",
       "      <td>B3</td>\n",
       "      <td>PMY-KM-20</td>\n",
       "      <td>KIA AVELLA</td>\n",
       "    </tr>\n",
       "    <tr>\n",
       "      <th>1170976</th>\n",
       "      <td>B3</td>\n",
       "      <td>NaN</td>\n",
       "      <td>프라이드베타</td>\n",
       "    </tr>\n",
       "    <tr>\n",
       "      <th>1171409</th>\n",
       "      <td>B3</td>\n",
       "      <td>NaN</td>\n",
       "      <td>아벨라</td>\n",
       "    </tr>\n",
       "    <tr>\n",
       "      <th>1173517</th>\n",
       "      <td>B3</td>\n",
       "      <td>NaN</td>\n",
       "      <td>프라이드</td>\n",
       "    </tr>\n",
       "    <tr>\n",
       "      <th>1183908</th>\n",
       "      <td>B3</td>\n",
       "      <td>NaN</td>\n",
       "      <td>프라이드웨곤</td>\n",
       "    </tr>\n",
       "    <tr>\n",
       "      <th>1189503</th>\n",
       "      <td>B3</td>\n",
       "      <td>NaN</td>\n",
       "      <td>프라이드오토</td>\n",
       "    </tr>\n",
       "    <tr>\n",
       "      <th>1200996</th>\n",
       "      <td>B3</td>\n",
       "      <td>NaN</td>\n",
       "      <td>프라이드프렌드</td>\n",
       "    </tr>\n",
       "    <tr>\n",
       "      <th>1201892</th>\n",
       "      <td>B3</td>\n",
       "      <td>PMY-KM-20</td>\n",
       "      <td>델타</td>\n",
       "    </tr>\n",
       "    <tr>\n",
       "      <th>1205133</th>\n",
       "      <td>B3</td>\n",
       "      <td>NaN</td>\n",
       "      <td>프라이드밴</td>\n",
       "    </tr>\n",
       "    <tr>\n",
       "      <th>1212358</th>\n",
       "      <td>B3</td>\n",
       "      <td>NaN</td>\n",
       "      <td>프라이드장애자차</td>\n",
       "    </tr>\n",
       "    <tr>\n",
       "      <th>1217545</th>\n",
       "      <td>B3</td>\n",
       "      <td>NaN</td>\n",
       "      <td>프라이드웨곤방문보건용차</td>\n",
       "    </tr>\n",
       "    <tr>\n",
       "      <th>1219774</th>\n",
       "      <td>B3</td>\n",
       "      <td>NaN</td>\n",
       "      <td>프라이드베타오토</td>\n",
       "    </tr>\n",
       "    <tr>\n",
       "      <th>1225014</th>\n",
       "      <td>B3</td>\n",
       "      <td>PMY-KM-20</td>\n",
       "      <td>아벨라</td>\n",
       "    </tr>\n",
       "    <tr>\n",
       "      <th>1227811</th>\n",
       "      <td>B3</td>\n",
       "      <td>PMY-KM-20</td>\n",
       "      <td>아벨라운전교습차</td>\n",
       "    </tr>\n",
       "    <tr>\n",
       "      <th>1228534</th>\n",
       "      <td>B3</td>\n",
       "      <td>PMY-KM-20</td>\n",
       "      <td>아벨라델타운전교습차</td>\n",
       "    </tr>\n",
       "    <tr>\n",
       "      <th>1231660</th>\n",
       "      <td>B3</td>\n",
       "      <td>NaN</td>\n",
       "      <td>아벨라델타운전교습차</td>\n",
       "    </tr>\n",
       "    <tr>\n",
       "      <th>1238165</th>\n",
       "      <td>B3</td>\n",
       "      <td>NaN</td>\n",
       "      <td>프라이드베타장애자차</td>\n",
       "    </tr>\n",
       "    <tr>\n",
       "      <th>1261060</th>\n",
       "      <td>B3</td>\n",
       "      <td>NaN</td>\n",
       "      <td>아벨라운전교습차</td>\n",
       "    </tr>\n",
       "    <tr>\n",
       "      <th>1273347</th>\n",
       "      <td>B3</td>\n",
       "      <td>NaN</td>\n",
       "      <td>BT-57</td>\n",
       "    </tr>\n",
       "    <tr>\n",
       "      <th>1305234</th>\n",
       "      <td>B3</td>\n",
       "      <td>TY87-배K-03</td>\n",
       "      <td>프라이드베타오토</td>\n",
       "    </tr>\n",
       "    <tr>\n",
       "      <th>1373305</th>\n",
       "      <td>B3</td>\n",
       "      <td>RMY-KM-25</td>\n",
       "      <td>프라이드베타</td>\n",
       "    </tr>\n",
       "    <tr>\n",
       "      <th>1374552</th>\n",
       "      <td>B3</td>\n",
       "      <td>NaN</td>\n",
       "      <td>프라이드 오토</td>\n",
       "    </tr>\n",
       "    <tr>\n",
       "      <th>1376211</th>\n",
       "      <td>B3</td>\n",
       "      <td>TY87-배K-03</td>\n",
       "      <td>프라이드베타</td>\n",
       "    </tr>\n",
       "    <tr>\n",
       "      <th>1480586</th>\n",
       "      <td>B3</td>\n",
       "      <td>TY87-배K-03</td>\n",
       "      <td>프라이드</td>\n",
       "    </tr>\n",
       "  </tbody>\n",
       "</table>\n",
       "</div>"
      ],
      "text/plain": [
       "        엔진형식    배출가스인증번호            차명\n",
       "211236    B3   PMY-KM-20    KIA AVELLA\n",
       "1170976   B3         NaN        프라이드베타\n",
       "1171409   B3         NaN           아벨라\n",
       "1173517   B3         NaN          프라이드\n",
       "1183908   B3         NaN        프라이드웨곤\n",
       "1189503   B3         NaN        프라이드오토\n",
       "1200996   B3         NaN       프라이드프렌드\n",
       "1201892   B3   PMY-KM-20            델타\n",
       "1205133   B3         NaN         프라이드밴\n",
       "1212358   B3         NaN      프라이드장애자차\n",
       "1217545   B3         NaN  프라이드웨곤방문보건용차\n",
       "1219774   B3         NaN      프라이드베타오토\n",
       "1225014   B3   PMY-KM-20           아벨라\n",
       "1227811   B3   PMY-KM-20      아벨라운전교습차\n",
       "1228534   B3   PMY-KM-20    아벨라델타운전교습차\n",
       "1231660   B3         NaN    아벨라델타운전교습차\n",
       "1238165   B3         NaN    프라이드베타장애자차\n",
       "1261060   B3         NaN      아벨라운전교습차\n",
       "1273347   B3         NaN         BT-57\n",
       "1305234   B3  TY87-배K-03      프라이드베타오토\n",
       "1373305   B3   RMY-KM-25        프라이드베타\n",
       "1374552   B3         NaN       프라이드 오토\n",
       "1376211   B3  TY87-배K-03        프라이드베타\n",
       "1480586   B3  TY87-배K-03          프라이드"
      ]
     },
     "execution_count": 370,
     "metadata": {},
     "output_type": "execute_result"
    }
   ],
   "source": [
    "gas_df.loc[gas_df['엔진형식'] == 'B3', ['엔진형식' ,'배출가스인증번호', '차명']].drop_duplicates(['배출가스인증번호', '차명'])"
   ]
  },
  {
   "cell_type": "code",
   "execution_count": 371,
   "metadata": {},
   "outputs": [
    {
     "data": {
      "text/html": [
       "<div>\n",
       "<style scoped>\n",
       "    .dataframe tbody tr th:only-of-type {\n",
       "        vertical-align: middle;\n",
       "    }\n",
       "\n",
       "    .dataframe tbody tr th {\n",
       "        vertical-align: top;\n",
       "    }\n",
       "\n",
       "    .dataframe thead th {\n",
       "        text-align: right;\n",
       "    }\n",
       "</style>\n",
       "<table border=\"1\" class=\"dataframe\">\n",
       "  <thead>\n",
       "    <tr style=\"text-align: right;\">\n",
       "      <th></th>\n",
       "      <th>엔진형식</th>\n",
       "      <th>배출가스인증번호</th>\n",
       "      <th>차명</th>\n",
       "    </tr>\n",
       "  </thead>\n",
       "  <tbody>\n",
       "    <tr>\n",
       "      <th>211236</th>\n",
       "      <td>B3</td>\n",
       "      <td>PMY-KM-20</td>\n",
       "      <td>KIA AVELLA</td>\n",
       "    </tr>\n",
       "    <tr>\n",
       "      <th>1201892</th>\n",
       "      <td>B3</td>\n",
       "      <td>PMY-KM-20</td>\n",
       "      <td>델타</td>\n",
       "    </tr>\n",
       "    <tr>\n",
       "      <th>1225014</th>\n",
       "      <td>B3</td>\n",
       "      <td>PMY-KM-20</td>\n",
       "      <td>아벨라</td>\n",
       "    </tr>\n",
       "    <tr>\n",
       "      <th>1227811</th>\n",
       "      <td>B3</td>\n",
       "      <td>PMY-KM-20</td>\n",
       "      <td>아벨라운전교습차</td>\n",
       "    </tr>\n",
       "    <tr>\n",
       "      <th>1228534</th>\n",
       "      <td>B3</td>\n",
       "      <td>PMY-KM-20</td>\n",
       "      <td>아벨라델타운전교습차</td>\n",
       "    </tr>\n",
       "    <tr>\n",
       "      <th>1305234</th>\n",
       "      <td>B3</td>\n",
       "      <td>TY87-배K-03</td>\n",
       "      <td>프라이드베타오토</td>\n",
       "    </tr>\n",
       "    <tr>\n",
       "      <th>1373305</th>\n",
       "      <td>B3</td>\n",
       "      <td>RMY-KM-25</td>\n",
       "      <td>프라이드베타</td>\n",
       "    </tr>\n",
       "    <tr>\n",
       "      <th>1376211</th>\n",
       "      <td>B3</td>\n",
       "      <td>TY87-배K-03</td>\n",
       "      <td>프라이드베타</td>\n",
       "    </tr>\n",
       "    <tr>\n",
       "      <th>1480586</th>\n",
       "      <td>B3</td>\n",
       "      <td>TY87-배K-03</td>\n",
       "      <td>프라이드</td>\n",
       "    </tr>\n",
       "  </tbody>\n",
       "</table>\n",
       "</div>"
      ],
      "text/plain": [
       "        엔진형식    배출가스인증번호          차명\n",
       "211236    B3   PMY-KM-20  KIA AVELLA\n",
       "1201892   B3   PMY-KM-20          델타\n",
       "1225014   B3   PMY-KM-20         아벨라\n",
       "1227811   B3   PMY-KM-20    아벨라운전교습차\n",
       "1228534   B3   PMY-KM-20  아벨라델타운전교습차\n",
       "1305234   B3  TY87-배K-03    프라이드베타오토\n",
       "1373305   B3   RMY-KM-25      프라이드베타\n",
       "1376211   B3  TY87-배K-03      프라이드베타\n",
       "1480586   B3  TY87-배K-03        프라이드"
      ]
     },
     "execution_count": 371,
     "metadata": {},
     "output_type": "execute_result"
    }
   ],
   "source": [
    "gas_df.loc[gas_df['엔진형식'] == 'B3', ['엔진형식' ,'배출가스인증번호', '차명']].drop_duplicates(['배출가스인증번호', '차명']).dropna(subset=['배출가스인증번호'])"
   ]
  },
  {
   "cell_type": "code",
   "execution_count": 372,
   "metadata": {},
   "outputs": [],
   "source": [
    "# 제원정보에서 해당 엔진형식을 통해 배출가스인증번호 확인 여부 확인\n",
    "t_temp = pd.DataFrame()\n",
    "for one in temp['엔진형식']:\n",
    "    temp = gas_df.loc[gas_df['엔진형식'] == one, ['엔진형식' ,'배출가스인증번호', '차명']].drop_duplicates(['배출가스인증번호', '차명']).dropna(subset=['배출가스인증번호'])\n",
    "    if temp.shape[0] != 0:\n",
    "        t_temp = pd.concat([t_temp, temp], ignore_index=True)"
   ]
  },
  {
   "cell_type": "code",
   "execution_count": 373,
   "metadata": {},
   "outputs": [
    {
     "data": {
      "text/html": [
       "<div>\n",
       "<style scoped>\n",
       "    .dataframe tbody tr th:only-of-type {\n",
       "        vertical-align: middle;\n",
       "    }\n",
       "\n",
       "    .dataframe tbody tr th {\n",
       "        vertical-align: top;\n",
       "    }\n",
       "\n",
       "    .dataframe thead th {\n",
       "        text-align: right;\n",
       "    }\n",
       "</style>\n",
       "<table border=\"1\" class=\"dataframe\">\n",
       "  <thead>\n",
       "    <tr style=\"text-align: right;\">\n",
       "      <th></th>\n",
       "      <th>엔진형식</th>\n",
       "      <th>배출가스인증번호</th>\n",
       "      <th>차명</th>\n",
       "    </tr>\n",
       "  </thead>\n",
       "  <tbody>\n",
       "    <tr>\n",
       "      <th>0</th>\n",
       "      <td>B3</td>\n",
       "      <td>PMY-KM-20</td>\n",
       "      <td>KIA AVELLA</td>\n",
       "    </tr>\n",
       "    <tr>\n",
       "      <th>1</th>\n",
       "      <td>B3</td>\n",
       "      <td>PMY-KM-20</td>\n",
       "      <td>델타</td>\n",
       "    </tr>\n",
       "    <tr>\n",
       "      <th>2</th>\n",
       "      <td>B3</td>\n",
       "      <td>PMY-KM-20</td>\n",
       "      <td>아벨라</td>\n",
       "    </tr>\n",
       "    <tr>\n",
       "      <th>3</th>\n",
       "      <td>B3</td>\n",
       "      <td>PMY-KM-20</td>\n",
       "      <td>아벨라운전교습차</td>\n",
       "    </tr>\n",
       "    <tr>\n",
       "      <th>4</th>\n",
       "      <td>B3</td>\n",
       "      <td>PMY-KM-20</td>\n",
       "      <td>아벨라델타운전교습차</td>\n",
       "    </tr>\n",
       "    <tr>\n",
       "      <th>5</th>\n",
       "      <td>B3</td>\n",
       "      <td>TY87-배K-03</td>\n",
       "      <td>프라이드베타오토</td>\n",
       "    </tr>\n",
       "    <tr>\n",
       "      <th>6</th>\n",
       "      <td>B3</td>\n",
       "      <td>RMY-KM-25</td>\n",
       "      <td>프라이드베타</td>\n",
       "    </tr>\n",
       "    <tr>\n",
       "      <th>7</th>\n",
       "      <td>B3</td>\n",
       "      <td>TY87-배K-03</td>\n",
       "      <td>프라이드베타</td>\n",
       "    </tr>\n",
       "    <tr>\n",
       "      <th>8</th>\n",
       "      <td>B3</td>\n",
       "      <td>TY87-배K-03</td>\n",
       "      <td>프라이드</td>\n",
       "    </tr>\n",
       "    <tr>\n",
       "      <th>9</th>\n",
       "      <td>G15SF</td>\n",
       "      <td>TY87-배K-02</td>\n",
       "      <td>르망</td>\n",
       "    </tr>\n",
       "    <tr>\n",
       "      <th>10</th>\n",
       "      <td>G15SF</td>\n",
       "      <td>TY87-배K-02</td>\n",
       "      <td>르망 오토</td>\n",
       "    </tr>\n",
       "    <tr>\n",
       "      <th>11</th>\n",
       "      <td>G15SF</td>\n",
       "      <td>TY87-배K-02</td>\n",
       "      <td>르망오토</td>\n",
       "    </tr>\n",
       "    <tr>\n",
       "      <th>12</th>\n",
       "      <td>G15SF</td>\n",
       "      <td>TY87-배K-02</td>\n",
       "      <td>르망 레이서</td>\n",
       "    </tr>\n",
       "    <tr>\n",
       "      <th>13</th>\n",
       "      <td>G15SF</td>\n",
       "      <td>TY87-배K-02</td>\n",
       "      <td>르망살롱</td>\n",
       "    </tr>\n",
       "    <tr>\n",
       "      <th>14</th>\n",
       "      <td>G4AJ</td>\n",
       "      <td>KMY-HD-04</td>\n",
       "      <td>엑셀오토메틱</td>\n",
       "    </tr>\n",
       "    <tr>\n",
       "      <th>15</th>\n",
       "      <td>G4AJ</td>\n",
       "      <td>KMY-HD-02</td>\n",
       "      <td>엑셀</td>\n",
       "    </tr>\n",
       "    <tr>\n",
       "      <th>16</th>\n",
       "      <td>G4AJ</td>\n",
       "      <td>KMY-HD-01</td>\n",
       "      <td>엑셀</td>\n",
       "    </tr>\n",
       "    <tr>\n",
       "      <th>17</th>\n",
       "      <td>G4CS</td>\n",
       "      <td>TMY-HD-26</td>\n",
       "      <td>스타렉스9인승오토매틱</td>\n",
       "    </tr>\n",
       "    <tr>\n",
       "      <th>18</th>\n",
       "      <td>G4CS</td>\n",
       "      <td>TMY-HD-26</td>\n",
       "      <td>스타렉스7인승</td>\n",
       "    </tr>\n",
       "    <tr>\n",
       "      <th>19</th>\n",
       "      <td>G4CS</td>\n",
       "      <td>LMY-HD-08</td>\n",
       "      <td>그랜저2.4</td>\n",
       "    </tr>\n",
       "    <tr>\n",
       "      <th>20</th>\n",
       "      <td>G4CS</td>\n",
       "      <td>TMY-HD-26</td>\n",
       "      <td>스타렉스7인승오토매틱</td>\n",
       "    </tr>\n",
       "    <tr>\n",
       "      <th>21</th>\n",
       "      <td>G4CS</td>\n",
       "      <td>TMY-HD-26</td>\n",
       "      <td>스타렉스7인승오토메틱</td>\n",
       "    </tr>\n",
       "    <tr>\n",
       "      <th>22</th>\n",
       "      <td>G4CS</td>\n",
       "      <td>TMY-HD-26</td>\n",
       "      <td>스타렉스9인승오토메틱</td>\n",
       "    </tr>\n",
       "    <tr>\n",
       "      <th>23</th>\n",
       "      <td>G4CS</td>\n",
       "      <td>TMY-HD-26</td>\n",
       "      <td>스타렉스9인승</td>\n",
       "    </tr>\n",
       "    <tr>\n",
       "      <th>24</th>\n",
       "      <td>G4CS</td>\n",
       "      <td>LMY-HD-08</td>\n",
       "      <td>그랜져</td>\n",
       "    </tr>\n",
       "    <tr>\n",
       "      <th>25</th>\n",
       "      <td>G4CS</td>\n",
       "      <td>KMY-HD-03</td>\n",
       "      <td>쏘나타 오토매틱</td>\n",
       "    </tr>\n",
       "    <tr>\n",
       "      <th>26</th>\n",
       "      <td>G4CS</td>\n",
       "      <td>KMY-HD-03</td>\n",
       "      <td>쏘나타</td>\n",
       "    </tr>\n",
       "    <tr>\n",
       "      <th>27</th>\n",
       "      <td>B3</td>\n",
       "      <td>PMY-KM-20</td>\n",
       "      <td>KIA AVELLA</td>\n",
       "    </tr>\n",
       "    <tr>\n",
       "      <th>28</th>\n",
       "      <td>B3</td>\n",
       "      <td>PMY-KM-20</td>\n",
       "      <td>델타</td>\n",
       "    </tr>\n",
       "    <tr>\n",
       "      <th>29</th>\n",
       "      <td>B3</td>\n",
       "      <td>PMY-KM-20</td>\n",
       "      <td>아벨라</td>\n",
       "    </tr>\n",
       "    <tr>\n",
       "      <th>30</th>\n",
       "      <td>B3</td>\n",
       "      <td>PMY-KM-20</td>\n",
       "      <td>아벨라운전교습차</td>\n",
       "    </tr>\n",
       "    <tr>\n",
       "      <th>31</th>\n",
       "      <td>B3</td>\n",
       "      <td>PMY-KM-20</td>\n",
       "      <td>아벨라델타운전교습차</td>\n",
       "    </tr>\n",
       "    <tr>\n",
       "      <th>32</th>\n",
       "      <td>B3</td>\n",
       "      <td>TY87-배K-03</td>\n",
       "      <td>프라이드베타오토</td>\n",
       "    </tr>\n",
       "    <tr>\n",
       "      <th>33</th>\n",
       "      <td>B3</td>\n",
       "      <td>RMY-KM-25</td>\n",
       "      <td>프라이드베타</td>\n",
       "    </tr>\n",
       "    <tr>\n",
       "      <th>34</th>\n",
       "      <td>B3</td>\n",
       "      <td>TY87-배K-03</td>\n",
       "      <td>프라이드베타</td>\n",
       "    </tr>\n",
       "    <tr>\n",
       "      <th>35</th>\n",
       "      <td>B3</td>\n",
       "      <td>TY87-배K-03</td>\n",
       "      <td>프라이드</td>\n",
       "    </tr>\n",
       "    <tr>\n",
       "      <th>36</th>\n",
       "      <td>B3</td>\n",
       "      <td>PMY-KM-20</td>\n",
       "      <td>KIA AVELLA</td>\n",
       "    </tr>\n",
       "    <tr>\n",
       "      <th>37</th>\n",
       "      <td>B3</td>\n",
       "      <td>PMY-KM-20</td>\n",
       "      <td>델타</td>\n",
       "    </tr>\n",
       "    <tr>\n",
       "      <th>38</th>\n",
       "      <td>B3</td>\n",
       "      <td>PMY-KM-20</td>\n",
       "      <td>아벨라</td>\n",
       "    </tr>\n",
       "    <tr>\n",
       "      <th>39</th>\n",
       "      <td>B3</td>\n",
       "      <td>PMY-KM-20</td>\n",
       "      <td>아벨라운전교습차</td>\n",
       "    </tr>\n",
       "    <tr>\n",
       "      <th>40</th>\n",
       "      <td>B3</td>\n",
       "      <td>PMY-KM-20</td>\n",
       "      <td>아벨라델타운전교습차</td>\n",
       "    </tr>\n",
       "    <tr>\n",
       "      <th>41</th>\n",
       "      <td>B3</td>\n",
       "      <td>TY87-배K-03</td>\n",
       "      <td>프라이드베타오토</td>\n",
       "    </tr>\n",
       "    <tr>\n",
       "      <th>42</th>\n",
       "      <td>B3</td>\n",
       "      <td>RMY-KM-25</td>\n",
       "      <td>프라이드베타</td>\n",
       "    </tr>\n",
       "    <tr>\n",
       "      <th>43</th>\n",
       "      <td>B3</td>\n",
       "      <td>TY87-배K-03</td>\n",
       "      <td>프라이드베타</td>\n",
       "    </tr>\n",
       "    <tr>\n",
       "      <th>44</th>\n",
       "      <td>B3</td>\n",
       "      <td>TY87-배K-03</td>\n",
       "      <td>프라이드</td>\n",
       "    </tr>\n",
       "    <tr>\n",
       "      <th>45</th>\n",
       "      <td>CD800</td>\n",
       "      <td>SMY-KM-04</td>\n",
       "      <td>타우너</td>\n",
       "    </tr>\n",
       "    <tr>\n",
       "      <th>46</th>\n",
       "      <td>D5244T</td>\n",
       "      <td>8MY-PA-14-3</td>\n",
       "      <td>볼보 XC70D5</td>\n",
       "    </tr>\n",
       "    <tr>\n",
       "      <th>47</th>\n",
       "      <td>D5244T</td>\n",
       "      <td>6MY-PA-14-4</td>\n",
       "      <td>볼보 S80D5</td>\n",
       "    </tr>\n",
       "    <tr>\n",
       "      <th>48</th>\n",
       "      <td>D5244T</td>\n",
       "      <td>9MY-PA-13-1</td>\n",
       "      <td>볼보 XC60D5</td>\n",
       "    </tr>\n",
       "    <tr>\n",
       "      <th>49</th>\n",
       "      <td>D5244T</td>\n",
       "      <td>5MY-PA-13-20</td>\n",
       "      <td>볼보 XC90D5</td>\n",
       "    </tr>\n",
       "    <tr>\n",
       "      <th>50</th>\n",
       "      <td>D5244T</td>\n",
       "      <td>5MY-PA-14-20</td>\n",
       "      <td>볼보 XC90D5</td>\n",
       "    </tr>\n",
       "    <tr>\n",
       "      <th>51</th>\n",
       "      <td>D5244T</td>\n",
       "      <td>5MY-PA-14-19</td>\n",
       "      <td>볼보 XC70D5</td>\n",
       "    </tr>\n",
       "    <tr>\n",
       "      <th>52</th>\n",
       "      <td>D5244T</td>\n",
       "      <td>5MY-PA-14-17</td>\n",
       "      <td>볼보 S60D5</td>\n",
       "    </tr>\n",
       "    <tr>\n",
       "      <th>53</th>\n",
       "      <td>D5244T</td>\n",
       "      <td>5MY-PA-14-18</td>\n",
       "      <td>볼보 S60 2.4D</td>\n",
       "    </tr>\n",
       "  </tbody>\n",
       "</table>\n",
       "</div>"
      ],
      "text/plain": [
       "      엔진형식      배출가스인증번호           차명\n",
       "0       B3     PMY-KM-20   KIA AVELLA\n",
       "1       B3     PMY-KM-20           델타\n",
       "2       B3     PMY-KM-20          아벨라\n",
       "3       B3     PMY-KM-20     아벨라운전교습차\n",
       "4       B3     PMY-KM-20   아벨라델타운전교습차\n",
       "5       B3    TY87-배K-03     프라이드베타오토\n",
       "6       B3     RMY-KM-25       프라이드베타\n",
       "7       B3    TY87-배K-03       프라이드베타\n",
       "8       B3    TY87-배K-03         프라이드\n",
       "9    G15SF    TY87-배K-02           르망\n",
       "10   G15SF    TY87-배K-02        르망 오토\n",
       "11   G15SF    TY87-배K-02         르망오토\n",
       "12   G15SF    TY87-배K-02       르망 레이서\n",
       "13   G15SF    TY87-배K-02         르망살롱\n",
       "14    G4AJ     KMY-HD-04       엑셀오토메틱\n",
       "15    G4AJ     KMY-HD-02           엑셀\n",
       "16    G4AJ     KMY-HD-01           엑셀\n",
       "17    G4CS     TMY-HD-26  스타렉스9인승오토매틱\n",
       "18    G4CS     TMY-HD-26      스타렉스7인승\n",
       "19    G4CS     LMY-HD-08       그랜저2.4\n",
       "20    G4CS     TMY-HD-26  스타렉스7인승오토매틱\n",
       "21    G4CS     TMY-HD-26  스타렉스7인승오토메틱\n",
       "22    G4CS     TMY-HD-26  스타렉스9인승오토메틱\n",
       "23    G4CS     TMY-HD-26      스타렉스9인승\n",
       "24    G4CS     LMY-HD-08          그랜져\n",
       "25    G4CS     KMY-HD-03     쏘나타 오토매틱\n",
       "26    G4CS     KMY-HD-03          쏘나타\n",
       "27      B3     PMY-KM-20   KIA AVELLA\n",
       "28      B3     PMY-KM-20           델타\n",
       "29      B3     PMY-KM-20          아벨라\n",
       "30      B3     PMY-KM-20     아벨라운전교습차\n",
       "31      B3     PMY-KM-20   아벨라델타운전교습차\n",
       "32      B3    TY87-배K-03     프라이드베타오토\n",
       "33      B3     RMY-KM-25       프라이드베타\n",
       "34      B3    TY87-배K-03       프라이드베타\n",
       "35      B3    TY87-배K-03         프라이드\n",
       "36      B3     PMY-KM-20   KIA AVELLA\n",
       "37      B3     PMY-KM-20           델타\n",
       "38      B3     PMY-KM-20          아벨라\n",
       "39      B3     PMY-KM-20     아벨라운전교습차\n",
       "40      B3     PMY-KM-20   아벨라델타운전교습차\n",
       "41      B3    TY87-배K-03     프라이드베타오토\n",
       "42      B3     RMY-KM-25       프라이드베타\n",
       "43      B3    TY87-배K-03       프라이드베타\n",
       "44      B3    TY87-배K-03         프라이드\n",
       "45   CD800     SMY-KM-04          타우너\n",
       "46  D5244T   8MY-PA-14-3    볼보 XC70D5\n",
       "47  D5244T   6MY-PA-14-4     볼보 S80D5\n",
       "48  D5244T   9MY-PA-13-1    볼보 XC60D5\n",
       "49  D5244T  5MY-PA-13-20    볼보 XC90D5\n",
       "50  D5244T  5MY-PA-14-20    볼보 XC90D5\n",
       "51  D5244T  5MY-PA-14-19    볼보 XC70D5\n",
       "52  D5244T  5MY-PA-14-17     볼보 S60D5\n",
       "53  D5244T  5MY-PA-14-18  볼보 S60 2.4D"
      ]
     },
     "execution_count": 373,
     "metadata": {},
     "output_type": "execute_result"
    }
   ],
   "source": [
    "t_temp"
   ]
  },
  {
   "cell_type": "code",
   "execution_count": 374,
   "metadata": {},
   "outputs": [
    {
     "data": {
      "text/plain": [
       "(36, 3)"
      ]
     },
     "execution_count": 374,
     "metadata": {},
     "output_type": "execute_result"
    }
   ],
   "source": [
    "t_temp.drop_duplicates(['엔진형식', '배출가스인증번호', '차명']).shape"
   ]
  },
  {
   "cell_type": "code",
   "execution_count": 375,
   "metadata": {},
   "outputs": [
    {
     "data": {
      "text/html": [
       "<div>\n",
       "<style scoped>\n",
       "    .dataframe tbody tr th:only-of-type {\n",
       "        vertical-align: middle;\n",
       "    }\n",
       "\n",
       "    .dataframe tbody tr th {\n",
       "        vertical-align: top;\n",
       "    }\n",
       "\n",
       "    .dataframe thead th {\n",
       "        text-align: right;\n",
       "    }\n",
       "</style>\n",
       "<table border=\"1\" class=\"dataframe\">\n",
       "  <thead>\n",
       "    <tr style=\"text-align: right;\">\n",
       "      <th></th>\n",
       "      <th>엔진형식</th>\n",
       "      <th>배출가스인증번호</th>\n",
       "      <th>차명</th>\n",
       "    </tr>\n",
       "  </thead>\n",
       "  <tbody>\n",
       "    <tr>\n",
       "      <th>0</th>\n",
       "      <td>B3</td>\n",
       "      <td>PMY-KM-20</td>\n",
       "      <td>KIA AVELLA</td>\n",
       "    </tr>\n",
       "    <tr>\n",
       "      <th>1</th>\n",
       "      <td>B3</td>\n",
       "      <td>PMY-KM-20</td>\n",
       "      <td>델타</td>\n",
       "    </tr>\n",
       "    <tr>\n",
       "      <th>2</th>\n",
       "      <td>B3</td>\n",
       "      <td>PMY-KM-20</td>\n",
       "      <td>아벨라</td>\n",
       "    </tr>\n",
       "    <tr>\n",
       "      <th>3</th>\n",
       "      <td>B3</td>\n",
       "      <td>PMY-KM-20</td>\n",
       "      <td>아벨라운전교습차</td>\n",
       "    </tr>\n",
       "    <tr>\n",
       "      <th>4</th>\n",
       "      <td>B3</td>\n",
       "      <td>PMY-KM-20</td>\n",
       "      <td>아벨라델타운전교습차</td>\n",
       "    </tr>\n",
       "    <tr>\n",
       "      <th>5</th>\n",
       "      <td>B3</td>\n",
       "      <td>TY87-배K-03</td>\n",
       "      <td>프라이드베타오토</td>\n",
       "    </tr>\n",
       "    <tr>\n",
       "      <th>6</th>\n",
       "      <td>B3</td>\n",
       "      <td>RMY-KM-25</td>\n",
       "      <td>프라이드베타</td>\n",
       "    </tr>\n",
       "    <tr>\n",
       "      <th>7</th>\n",
       "      <td>B3</td>\n",
       "      <td>TY87-배K-03</td>\n",
       "      <td>프라이드베타</td>\n",
       "    </tr>\n",
       "    <tr>\n",
       "      <th>8</th>\n",
       "      <td>B3</td>\n",
       "      <td>TY87-배K-03</td>\n",
       "      <td>프라이드</td>\n",
       "    </tr>\n",
       "    <tr>\n",
       "      <th>9</th>\n",
       "      <td>G15SF</td>\n",
       "      <td>TY87-배K-02</td>\n",
       "      <td>르망</td>\n",
       "    </tr>\n",
       "    <tr>\n",
       "      <th>10</th>\n",
       "      <td>G15SF</td>\n",
       "      <td>TY87-배K-02</td>\n",
       "      <td>르망 오토</td>\n",
       "    </tr>\n",
       "    <tr>\n",
       "      <th>11</th>\n",
       "      <td>G15SF</td>\n",
       "      <td>TY87-배K-02</td>\n",
       "      <td>르망오토</td>\n",
       "    </tr>\n",
       "    <tr>\n",
       "      <th>12</th>\n",
       "      <td>G15SF</td>\n",
       "      <td>TY87-배K-02</td>\n",
       "      <td>르망 레이서</td>\n",
       "    </tr>\n",
       "    <tr>\n",
       "      <th>13</th>\n",
       "      <td>G15SF</td>\n",
       "      <td>TY87-배K-02</td>\n",
       "      <td>르망살롱</td>\n",
       "    </tr>\n",
       "    <tr>\n",
       "      <th>14</th>\n",
       "      <td>G4AJ</td>\n",
       "      <td>KMY-HD-04</td>\n",
       "      <td>엑셀오토메틱</td>\n",
       "    </tr>\n",
       "    <tr>\n",
       "      <th>15</th>\n",
       "      <td>G4AJ</td>\n",
       "      <td>KMY-HD-02</td>\n",
       "      <td>엑셀</td>\n",
       "    </tr>\n",
       "    <tr>\n",
       "      <th>16</th>\n",
       "      <td>G4AJ</td>\n",
       "      <td>KMY-HD-01</td>\n",
       "      <td>엑셀</td>\n",
       "    </tr>\n",
       "    <tr>\n",
       "      <th>17</th>\n",
       "      <td>G4CS</td>\n",
       "      <td>TMY-HD-26</td>\n",
       "      <td>스타렉스9인승오토매틱</td>\n",
       "    </tr>\n",
       "    <tr>\n",
       "      <th>18</th>\n",
       "      <td>G4CS</td>\n",
       "      <td>TMY-HD-26</td>\n",
       "      <td>스타렉스7인승</td>\n",
       "    </tr>\n",
       "    <tr>\n",
       "      <th>19</th>\n",
       "      <td>G4CS</td>\n",
       "      <td>LMY-HD-08</td>\n",
       "      <td>그랜저2.4</td>\n",
       "    </tr>\n",
       "    <tr>\n",
       "      <th>20</th>\n",
       "      <td>G4CS</td>\n",
       "      <td>TMY-HD-26</td>\n",
       "      <td>스타렉스7인승오토매틱</td>\n",
       "    </tr>\n",
       "    <tr>\n",
       "      <th>21</th>\n",
       "      <td>G4CS</td>\n",
       "      <td>TMY-HD-26</td>\n",
       "      <td>스타렉스7인승오토메틱</td>\n",
       "    </tr>\n",
       "    <tr>\n",
       "      <th>22</th>\n",
       "      <td>G4CS</td>\n",
       "      <td>TMY-HD-26</td>\n",
       "      <td>스타렉스9인승오토메틱</td>\n",
       "    </tr>\n",
       "    <tr>\n",
       "      <th>23</th>\n",
       "      <td>G4CS</td>\n",
       "      <td>TMY-HD-26</td>\n",
       "      <td>스타렉스9인승</td>\n",
       "    </tr>\n",
       "    <tr>\n",
       "      <th>24</th>\n",
       "      <td>G4CS</td>\n",
       "      <td>LMY-HD-08</td>\n",
       "      <td>그랜져</td>\n",
       "    </tr>\n",
       "    <tr>\n",
       "      <th>25</th>\n",
       "      <td>G4CS</td>\n",
       "      <td>KMY-HD-03</td>\n",
       "      <td>쏘나타 오토매틱</td>\n",
       "    </tr>\n",
       "    <tr>\n",
       "      <th>26</th>\n",
       "      <td>G4CS</td>\n",
       "      <td>KMY-HD-03</td>\n",
       "      <td>쏘나타</td>\n",
       "    </tr>\n",
       "    <tr>\n",
       "      <th>45</th>\n",
       "      <td>CD800</td>\n",
       "      <td>SMY-KM-04</td>\n",
       "      <td>타우너</td>\n",
       "    </tr>\n",
       "    <tr>\n",
       "      <th>46</th>\n",
       "      <td>D5244T</td>\n",
       "      <td>8MY-PA-14-3</td>\n",
       "      <td>볼보 XC70D5</td>\n",
       "    </tr>\n",
       "    <tr>\n",
       "      <th>47</th>\n",
       "      <td>D5244T</td>\n",
       "      <td>6MY-PA-14-4</td>\n",
       "      <td>볼보 S80D5</td>\n",
       "    </tr>\n",
       "    <tr>\n",
       "      <th>48</th>\n",
       "      <td>D5244T</td>\n",
       "      <td>9MY-PA-13-1</td>\n",
       "      <td>볼보 XC60D5</td>\n",
       "    </tr>\n",
       "    <tr>\n",
       "      <th>49</th>\n",
       "      <td>D5244T</td>\n",
       "      <td>5MY-PA-13-20</td>\n",
       "      <td>볼보 XC90D5</td>\n",
       "    </tr>\n",
       "    <tr>\n",
       "      <th>50</th>\n",
       "      <td>D5244T</td>\n",
       "      <td>5MY-PA-14-20</td>\n",
       "      <td>볼보 XC90D5</td>\n",
       "    </tr>\n",
       "    <tr>\n",
       "      <th>51</th>\n",
       "      <td>D5244T</td>\n",
       "      <td>5MY-PA-14-19</td>\n",
       "      <td>볼보 XC70D5</td>\n",
       "    </tr>\n",
       "    <tr>\n",
       "      <th>52</th>\n",
       "      <td>D5244T</td>\n",
       "      <td>5MY-PA-14-17</td>\n",
       "      <td>볼보 S60D5</td>\n",
       "    </tr>\n",
       "    <tr>\n",
       "      <th>53</th>\n",
       "      <td>D5244T</td>\n",
       "      <td>5MY-PA-14-18</td>\n",
       "      <td>볼보 S60 2.4D</td>\n",
       "    </tr>\n",
       "  </tbody>\n",
       "</table>\n",
       "</div>"
      ],
      "text/plain": [
       "      엔진형식      배출가스인증번호           차명\n",
       "0       B3     PMY-KM-20   KIA AVELLA\n",
       "1       B3     PMY-KM-20           델타\n",
       "2       B3     PMY-KM-20          아벨라\n",
       "3       B3     PMY-KM-20     아벨라운전교습차\n",
       "4       B3     PMY-KM-20   아벨라델타운전교습차\n",
       "5       B3    TY87-배K-03     프라이드베타오토\n",
       "6       B3     RMY-KM-25       프라이드베타\n",
       "7       B3    TY87-배K-03       프라이드베타\n",
       "8       B3    TY87-배K-03         프라이드\n",
       "9    G15SF    TY87-배K-02           르망\n",
       "10   G15SF    TY87-배K-02        르망 오토\n",
       "11   G15SF    TY87-배K-02         르망오토\n",
       "12   G15SF    TY87-배K-02       르망 레이서\n",
       "13   G15SF    TY87-배K-02         르망살롱\n",
       "14    G4AJ     KMY-HD-04       엑셀오토메틱\n",
       "15    G4AJ     KMY-HD-02           엑셀\n",
       "16    G4AJ     KMY-HD-01           엑셀\n",
       "17    G4CS     TMY-HD-26  스타렉스9인승오토매틱\n",
       "18    G4CS     TMY-HD-26      스타렉스7인승\n",
       "19    G4CS     LMY-HD-08       그랜저2.4\n",
       "20    G4CS     TMY-HD-26  스타렉스7인승오토매틱\n",
       "21    G4CS     TMY-HD-26  스타렉스7인승오토메틱\n",
       "22    G4CS     TMY-HD-26  스타렉스9인승오토메틱\n",
       "23    G4CS     TMY-HD-26      스타렉스9인승\n",
       "24    G4CS     LMY-HD-08          그랜져\n",
       "25    G4CS     KMY-HD-03     쏘나타 오토매틱\n",
       "26    G4CS     KMY-HD-03          쏘나타\n",
       "45   CD800     SMY-KM-04          타우너\n",
       "46  D5244T   8MY-PA-14-3    볼보 XC70D5\n",
       "47  D5244T   6MY-PA-14-4     볼보 S80D5\n",
       "48  D5244T   9MY-PA-13-1    볼보 XC60D5\n",
       "49  D5244T  5MY-PA-13-20    볼보 XC90D5\n",
       "50  D5244T  5MY-PA-14-20    볼보 XC90D5\n",
       "51  D5244T  5MY-PA-14-19    볼보 XC70D5\n",
       "52  D5244T  5MY-PA-14-17     볼보 S60D5\n",
       "53  D5244T  5MY-PA-14-18  볼보 S60 2.4D"
      ]
     },
     "execution_count": 375,
     "metadata": {},
     "output_type": "execute_result"
    }
   ],
   "source": [
    "t_temp = t_temp.drop_duplicates(['엔진형식', '배출가스인증번호', '차명'])\n",
    "t_temp"
   ]
  },
  {
   "attachments": {},
   "cell_type": "markdown",
   "metadata": {},
   "source": [
    "###### [출력] 배인번호 미부여 데이터 중 처리가능 샘플"
   ]
  },
  {
   "cell_type": "code",
   "execution_count": 460,
   "metadata": {},
   "outputs": [],
   "source": [
    "# 미부여 데이터 처리 가능 샘플 추출\n",
    "t_temp.to_excel('analysis/[G4][배출가스인증번호]미부여_처리용_샘플.xlsx', index=False)"
   ]
  },
  {
   "attachments": {},
   "cell_type": "markdown",
   "metadata": {},
   "source": [
    "##### 배인번호별, 제원관리번호별 통계"
   ]
  },
  {
   "cell_type": "code",
   "execution_count": 358,
   "metadata": {},
   "outputs": [
    {
     "data": {
      "text/plain": [
       "Index(['차량관리번호', '차량등록번호', '본거지법정동코드', '소유자구분', '차종_등록정보', '용도', '차대번호',\n",
       "       '최초등록일자', '차량연식', '차량제작일자', '검사유효일', '제원관리번호', '배출가스인증번호', '배출가스등급',\n",
       "       '저공해조치종류', '저공해조치구조변경YN', '취득일자', '취득금액', '차명', '차종_제원정보', '차종분류',\n",
       "       '차종유형', '자동차형식', '제작사명', '연료', '엔진형식', '총중량', '적재중량', '엔진출력', '배기량',\n",
       "       '승차인원', '차량길이', '차량너비', '차량높이', '원산지명', '삭제YN', '제원승인일자', '구동형식',\n",
       "       '변속기종류', 'code1', '시도', '시구군', '폐지여부', '대기관리권역', '대기관리권역YN'],\n",
       "      dtype='object')"
      ]
     },
     "execution_count": 358,
     "metadata": {},
     "output_type": "execute_result"
    }
   ],
   "source": [
    "null_num_df.columns"
   ]
  },
  {
   "cell_type": "code",
   "execution_count": 376,
   "metadata": {},
   "outputs": [
    {
     "data": {
      "text/html": [
       "<div>\n",
       "<style scoped>\n",
       "    .dataframe tbody tr th:only-of-type {\n",
       "        vertical-align: middle;\n",
       "    }\n",
       "\n",
       "    .dataframe tbody tr th {\n",
       "        vertical-align: top;\n",
       "    }\n",
       "\n",
       "    .dataframe thead th {\n",
       "        text-align: right;\n",
       "    }\n",
       "</style>\n",
       "<table border=\"1\" class=\"dataframe\">\n",
       "  <thead>\n",
       "    <tr style=\"text-align: right;\">\n",
       "      <th></th>\n",
       "      <th>엔진형식</th>\n",
       "      <th>배출가스인증번호</th>\n",
       "      <th>차명</th>\n",
       "    </tr>\n",
       "  </thead>\n",
       "  <tbody>\n",
       "    <tr>\n",
       "      <th>0</th>\n",
       "      <td>B3</td>\n",
       "      <td>PMY-KM-20</td>\n",
       "      <td>KIA AVELLA</td>\n",
       "    </tr>\n",
       "    <tr>\n",
       "      <th>1</th>\n",
       "      <td>B3</td>\n",
       "      <td>TY87-배K-03</td>\n",
       "      <td>프라이드베타오토</td>\n",
       "    </tr>\n",
       "    <tr>\n",
       "      <th>2</th>\n",
       "      <td>B3</td>\n",
       "      <td>RMY-KM-25</td>\n",
       "      <td>프라이드베타</td>\n",
       "    </tr>\n",
       "    <tr>\n",
       "      <th>3</th>\n",
       "      <td>G15SF</td>\n",
       "      <td>TY87-배K-02</td>\n",
       "      <td>르망</td>\n",
       "    </tr>\n",
       "    <tr>\n",
       "      <th>4</th>\n",
       "      <td>G4AJ</td>\n",
       "      <td>KMY-HD-04</td>\n",
       "      <td>엑셀오토메틱</td>\n",
       "    </tr>\n",
       "    <tr>\n",
       "      <th>5</th>\n",
       "      <td>G4AJ</td>\n",
       "      <td>KMY-HD-02</td>\n",
       "      <td>엑셀</td>\n",
       "    </tr>\n",
       "    <tr>\n",
       "      <th>6</th>\n",
       "      <td>G4AJ</td>\n",
       "      <td>KMY-HD-01</td>\n",
       "      <td>엑셀</td>\n",
       "    </tr>\n",
       "    <tr>\n",
       "      <th>7</th>\n",
       "      <td>G4CS</td>\n",
       "      <td>TMY-HD-26</td>\n",
       "      <td>스타렉스9인승오토매틱</td>\n",
       "    </tr>\n",
       "    <tr>\n",
       "      <th>8</th>\n",
       "      <td>G4CS</td>\n",
       "      <td>LMY-HD-08</td>\n",
       "      <td>그랜저2.4</td>\n",
       "    </tr>\n",
       "    <tr>\n",
       "      <th>9</th>\n",
       "      <td>G4CS</td>\n",
       "      <td>KMY-HD-03</td>\n",
       "      <td>쏘나타 오토매틱</td>\n",
       "    </tr>\n",
       "    <tr>\n",
       "      <th>10</th>\n",
       "      <td>CD800</td>\n",
       "      <td>SMY-KM-04</td>\n",
       "      <td>타우너</td>\n",
       "    </tr>\n",
       "    <tr>\n",
       "      <th>11</th>\n",
       "      <td>D5244T</td>\n",
       "      <td>8MY-PA-14-3</td>\n",
       "      <td>볼보 XC70D5</td>\n",
       "    </tr>\n",
       "    <tr>\n",
       "      <th>12</th>\n",
       "      <td>D5244T</td>\n",
       "      <td>6MY-PA-14-4</td>\n",
       "      <td>볼보 S80D5</td>\n",
       "    </tr>\n",
       "    <tr>\n",
       "      <th>13</th>\n",
       "      <td>D5244T</td>\n",
       "      <td>9MY-PA-13-1</td>\n",
       "      <td>볼보 XC60D5</td>\n",
       "    </tr>\n",
       "    <tr>\n",
       "      <th>14</th>\n",
       "      <td>D5244T</td>\n",
       "      <td>5MY-PA-13-20</td>\n",
       "      <td>볼보 XC90D5</td>\n",
       "    </tr>\n",
       "    <tr>\n",
       "      <th>15</th>\n",
       "      <td>D5244T</td>\n",
       "      <td>5MY-PA-14-20</td>\n",
       "      <td>볼보 XC90D5</td>\n",
       "    </tr>\n",
       "    <tr>\n",
       "      <th>16</th>\n",
       "      <td>D5244T</td>\n",
       "      <td>5MY-PA-14-19</td>\n",
       "      <td>볼보 XC70D5</td>\n",
       "    </tr>\n",
       "    <tr>\n",
       "      <th>17</th>\n",
       "      <td>D5244T</td>\n",
       "      <td>5MY-PA-14-17</td>\n",
       "      <td>볼보 S60D5</td>\n",
       "    </tr>\n",
       "    <tr>\n",
       "      <th>18</th>\n",
       "      <td>D5244T</td>\n",
       "      <td>5MY-PA-14-18</td>\n",
       "      <td>볼보 S60 2.4D</td>\n",
       "    </tr>\n",
       "  </tbody>\n",
       "</table>\n",
       "</div>"
      ],
      "text/plain": [
       "      엔진형식      배출가스인증번호           차명\n",
       "0       B3     PMY-KM-20   KIA AVELLA\n",
       "1       B3    TY87-배K-03     프라이드베타오토\n",
       "2       B3     RMY-KM-25       프라이드베타\n",
       "3    G15SF    TY87-배K-02           르망\n",
       "4     G4AJ     KMY-HD-04       엑셀오토메틱\n",
       "5     G4AJ     KMY-HD-02           엑셀\n",
       "6     G4AJ     KMY-HD-01           엑셀\n",
       "7     G4CS     TMY-HD-26  스타렉스9인승오토매틱\n",
       "8     G4CS     LMY-HD-08       그랜저2.4\n",
       "9     G4CS     KMY-HD-03     쏘나타 오토매틱\n",
       "10   CD800     SMY-KM-04          타우너\n",
       "11  D5244T   8MY-PA-14-3    볼보 XC70D5\n",
       "12  D5244T   6MY-PA-14-4     볼보 S80D5\n",
       "13  D5244T   9MY-PA-13-1    볼보 XC60D5\n",
       "14  D5244T  5MY-PA-13-20    볼보 XC90D5\n",
       "15  D5244T  5MY-PA-14-20    볼보 XC90D5\n",
       "16  D5244T  5MY-PA-14-19    볼보 XC70D5\n",
       "17  D5244T  5MY-PA-14-17     볼보 S60D5\n",
       "18  D5244T  5MY-PA-14-18  볼보 S60 2.4D"
      ]
     },
     "execution_count": 376,
     "metadata": {},
     "output_type": "execute_result"
    }
   ],
   "source": [
    "t_temp2 = t_temp.drop_duplicates(['엔진형식', '배출가스인증번호'], keep='first').reset_index(drop=True)\n",
    "t_temp2"
   ]
  },
  {
   "cell_type": "code",
   "execution_count": 379,
   "metadata": {},
   "outputs": [
    {
     "data": {
      "text/plain": [
       "(123003, 45)"
      ]
     },
     "execution_count": 379,
     "metadata": {},
     "output_type": "execute_result"
    }
   ],
   "source": [
    "null_num_df.shape"
   ]
  },
  {
   "cell_type": "code",
   "execution_count": 380,
   "metadata": {},
   "outputs": [
    {
     "data": {
      "text/plain": [
       "(123003, 46)"
      ]
     },
     "execution_count": 380,
     "metadata": {},
     "output_type": "execute_result"
    }
   ],
   "source": [
    "null_num_df2 = null_num_df.merge(t_temp2, on=['배출가스인증번호', '엔진형식'], how='left')\n",
    "null_num_df2.shape"
   ]
  },
  {
   "cell_type": "code",
   "execution_count": 381,
   "metadata": {},
   "outputs": [
    {
     "data": {
      "text/html": [
       "<div>\n",
       "<style scoped>\n",
       "    .dataframe tbody tr th:only-of-type {\n",
       "        vertical-align: middle;\n",
       "    }\n",
       "\n",
       "    .dataframe tbody tr th {\n",
       "        vertical-align: top;\n",
       "    }\n",
       "\n",
       "    .dataframe thead th {\n",
       "        text-align: right;\n",
       "    }\n",
       "</style>\n",
       "<table border=\"1\" class=\"dataframe\">\n",
       "  <thead>\n",
       "    <tr style=\"text-align: right;\">\n",
       "      <th></th>\n",
       "      <th></th>\n",
       "      <th>차량관리번호</th>\n",
       "      <th>차량등록번호</th>\n",
       "      <th>본거지법정동코드</th>\n",
       "      <th>소유자구분</th>\n",
       "      <th>차종_등록정보</th>\n",
       "      <th>용도</th>\n",
       "      <th>차대번호</th>\n",
       "      <th>최초등록일자</th>\n",
       "      <th>차량연식</th>\n",
       "      <th>차량제작일자</th>\n",
       "      <th>...</th>\n",
       "      <th>제원승인일자</th>\n",
       "      <th>구동형식</th>\n",
       "      <th>변속기종류</th>\n",
       "      <th>code1</th>\n",
       "      <th>시도</th>\n",
       "      <th>시구군</th>\n",
       "      <th>폐지여부</th>\n",
       "      <th>대기관리권역</th>\n",
       "      <th>대기관리권역YN</th>\n",
       "      <th>차명_y</th>\n",
       "    </tr>\n",
       "    <tr>\n",
       "      <th>배출가스인증번호</th>\n",
       "      <th>제원관리번호</th>\n",
       "      <th></th>\n",
       "      <th></th>\n",
       "      <th></th>\n",
       "      <th></th>\n",
       "      <th></th>\n",
       "      <th></th>\n",
       "      <th></th>\n",
       "      <th></th>\n",
       "      <th></th>\n",
       "      <th></th>\n",
       "      <th></th>\n",
       "      <th></th>\n",
       "      <th></th>\n",
       "      <th></th>\n",
       "      <th></th>\n",
       "      <th></th>\n",
       "      <th></th>\n",
       "      <th></th>\n",
       "      <th></th>\n",
       "      <th></th>\n",
       "      <th></th>\n",
       "    </tr>\n",
       "  </thead>\n",
       "  <tbody>\n",
       "  </tbody>\n",
       "</table>\n",
       "<p>0 rows × 44 columns</p>\n",
       "</div>"
      ],
      "text/plain": [
       "Empty DataFrame\n",
       "Columns: [차량관리번호, 차량등록번호, 본거지법정동코드, 소유자구분, 차종_등록정보, 용도, 차대번호, 최초등록일자, 차량연식, 차량제작일자, 검사유효일, 배출가스등급, 저공해조치종류, 저공해조치구조변경YN, 취득일자, 취득금액, 차명_x, 차종_제원정보, 차종분류, 차종유형, 자동차형식, 제작사명, 연료, 엔진형식, 총중량, 적재중량, 엔진출력, 배기량, 승차인원, 차량길이, 차량너비, 차량높이, 원산지명, 삭제YN, 제원승인일자, 구동형식, 변속기종류, code1, 시도, 시구군, 폐지여부, 대기관리권역, 대기관리권역YN, 차명_y]\n",
       "Index: []\n",
       "\n",
       "[0 rows x 44 columns]"
      ]
     },
     "execution_count": 381,
     "metadata": {},
     "output_type": "execute_result"
    }
   ],
   "source": [
    "null_num_df2.groupby(['배출가스인증번호', '제원관리번호']).count()"
   ]
  },
  {
   "cell_type": "code",
   "execution_count": null,
   "metadata": {},
   "outputs": [],
   "source": []
  },
  {
   "cell_type": "code",
   "execution_count": null,
   "metadata": {},
   "outputs": [],
   "source": []
  },
  {
   "attachments": {},
   "cell_type": "markdown",
   "metadata": {},
   "source": [
    "##### 제원관리번호 이용 미부여 배인 번호 부여"
   ]
  },
  {
   "cell_type": "code",
   "execution_count": 604,
   "metadata": {},
   "outputs": [
    {
     "data": {
      "text/plain": [
       "0"
      ]
     },
     "execution_count": 604,
     "metadata": {},
     "output_type": "execute_result"
    }
   ],
   "source": [
    "gas_df['제원관리번호'].isnull().sum()"
   ]
  },
  {
   "cell_type": "code",
   "execution_count": 605,
   "metadata": {},
   "outputs": [
    {
     "data": {
      "text/plain": [
       "15312"
      ]
     },
     "execution_count": 605,
     "metadata": {},
     "output_type": "execute_result"
    }
   ],
   "source": [
    "len(gas_df['제원관리번호'].unique())"
   ]
  },
  {
   "cell_type": "code",
   "execution_count": 609,
   "metadata": {},
   "outputs": [
    {
     "data": {
      "text/html": [
       "<div>\n",
       "<style scoped>\n",
       "    .dataframe tbody tr th:only-of-type {\n",
       "        vertical-align: middle;\n",
       "    }\n",
       "\n",
       "    .dataframe tbody tr th {\n",
       "        vertical-align: top;\n",
       "    }\n",
       "\n",
       "    .dataframe thead th {\n",
       "        text-align: right;\n",
       "    }\n",
       "</style>\n",
       "<table border=\"1\" class=\"dataframe\">\n",
       "  <thead>\n",
       "    <tr style=\"text-align: right;\">\n",
       "      <th></th>\n",
       "      <th>차대번호</th>\n",
       "      <th>제원관리번호</th>\n",
       "      <th>배출가스인증번호</th>\n",
       "      <th>엔진형식</th>\n",
       "      <th>차명</th>\n",
       "    </tr>\n",
       "  </thead>\n",
       "  <tbody>\n",
       "    <tr>\n",
       "      <th>1171546</th>\n",
       "      <td>KL90E3ACGXSZ00001</td>\n",
       "      <td>00030110800000304</td>\n",
       "      <td>NaN</td>\n",
       "      <td>5S</td>\n",
       "      <td>도요다 해리어</td>\n",
       "    </tr>\n",
       "    <tr>\n",
       "      <th>1171777</th>\n",
       "      <td>KMHWF35V41A387514</td>\n",
       "      <td>00030112400001628</td>\n",
       "      <td>NaN</td>\n",
       "      <td>G6BV</td>\n",
       "      <td>쏘나타2.5GOLD</td>\n",
       "    </tr>\n",
       "    <tr>\n",
       "      <th>2039</th>\n",
       "      <td>KL90B2M9GWSZ00001</td>\n",
       "      <td>00031105000011116</td>\n",
       "      <td>NaN</td>\n",
       "      <td>12A</td>\n",
       "      <td>ROVER MINI</td>\n",
       "    </tr>\n",
       "    <tr>\n",
       "      <th>1171864</th>\n",
       "      <td>KL90A3AAGVSZ00002</td>\n",
       "      <td>00031105000011203</td>\n",
       "      <td>NaN</td>\n",
       "      <td>111921</td>\n",
       "      <td>벤츠C180</td>\n",
       "    </tr>\n",
       "    <tr>\n",
       "      <th>2840</th>\n",
       "      <td>KNAMC76439S281271</td>\n",
       "      <td>00031105000011314</td>\n",
       "      <td>7MY-KM-14-64</td>\n",
       "      <td>J3</td>\n",
       "      <td>카니발</td>\n",
       "    </tr>\n",
       "    <tr>\n",
       "      <th>...</th>\n",
       "      <td>...</td>\n",
       "      <td>...</td>\n",
       "      <td>...</td>\n",
       "      <td>...</td>\n",
       "      <td>...</td>\n",
       "    </tr>\n",
       "    <tr>\n",
       "      <th>150</th>\n",
       "      <td>YV2XT40K5JA834376</td>\n",
       "      <td>BRX20004600013317</td>\n",
       "      <td>FMY-VTK-14-1</td>\n",
       "      <td>D13</td>\n",
       "      <td>FM 카고</td>\n",
       "    </tr>\n",
       "    <tr>\n",
       "      <th>739</th>\n",
       "      <td>YV2V001D2HZ114313</td>\n",
       "      <td>BRX20004700003317</td>\n",
       "      <td>FMY-VTK-14-3</td>\n",
       "      <td>D8</td>\n",
       "      <td>FE 카고</td>\n",
       "    </tr>\n",
       "    <tr>\n",
       "      <th>736</th>\n",
       "      <td>YV2V001D3HZ114286</td>\n",
       "      <td>BRX20004800003317</td>\n",
       "      <td>FMY-VTK-14-3</td>\n",
       "      <td>D8</td>\n",
       "      <td>FE 윙바디</td>\n",
       "    </tr>\n",
       "    <tr>\n",
       "      <th>464</th>\n",
       "      <td>YV2XT40K9JA819380</td>\n",
       "      <td>BZB20003100003318</td>\n",
       "      <td>FMY-VTK-14-1</td>\n",
       "      <td>D13</td>\n",
       "      <td>삼부26톤볼보트럭</td>\n",
       "    </tr>\n",
       "    <tr>\n",
       "      <th>401</th>\n",
       "      <td>KMFHA17GPJC028901</td>\n",
       "      <td>CN210001000003218</td>\n",
       "      <td>5MY-HD-24-59</td>\n",
       "      <td>D4GB</td>\n",
       "      <td>팔도2톤윙바디</td>\n",
       "    </tr>\n",
       "  </tbody>\n",
       "</table>\n",
       "<p>15541 rows × 5 columns</p>\n",
       "</div>"
      ],
      "text/plain": [
       "                      차대번호             제원관리번호      배출가스인증번호    엔진형식  \\\n",
       "1171546  KL90E3ACGXSZ00001  00030110800000304           NaN      5S   \n",
       "1171777  KMHWF35V41A387514  00030112400001628           NaN    G6BV   \n",
       "2039     KL90B2M9GWSZ00001  00031105000011116           NaN     12A   \n",
       "1171864  KL90A3AAGVSZ00002  00031105000011203           NaN  111921   \n",
       "2840     KNAMC76439S281271  00031105000011314  7MY-KM-14-64      J3   \n",
       "...                    ...                ...           ...     ...   \n",
       "150      YV2XT40K5JA834376  BRX20004600013317  FMY-VTK-14-1     D13   \n",
       "739      YV2V001D2HZ114313  BRX20004700003317  FMY-VTK-14-3      D8   \n",
       "736      YV2V001D3HZ114286  BRX20004800003317  FMY-VTK-14-3      D8   \n",
       "464      YV2XT40K9JA819380  BZB20003100003318  FMY-VTK-14-1     D13   \n",
       "401      KMFHA17GPJC028901  CN210001000003218  5MY-HD-24-59    D4GB   \n",
       "\n",
       "                 차명  \n",
       "1171546     도요다 해리어  \n",
       "1171777  쏘나타2.5GOLD  \n",
       "2039     ROVER MINI  \n",
       "1171864      벤츠C180  \n",
       "2840            카니발  \n",
       "...             ...  \n",
       "150           FM 카고  \n",
       "739           FE 카고  \n",
       "736          FE 윙바디  \n",
       "464       삼부26톤볼보트럭  \n",
       "401         팔도2톤윙바디  \n",
       "\n",
       "[15541 rows x 5 columns]"
      ]
     },
     "execution_count": 609,
     "metadata": {},
     "output_type": "execute_result"
    }
   ],
   "source": [
    "temp = gas_df[['차대번호', '제원관리번호', '배출가스인증번호', '엔진형식', '차명']].drop_duplicates(['제원관리번호', '배출가스인증번호', '엔진형식', '차명'], keep='first').sort_values(['제원관리번호', '배출가스인증번호', '엔진형식', '차명'])\n",
    "temp"
   ]
  },
  {
   "attachments": {},
   "cell_type": "markdown",
   "metadata": {},
   "source": [
    "###### [출력] 동일 제원관리번호 차량 샘플"
   ]
  },
  {
   "cell_type": "code",
   "execution_count": 608,
   "metadata": {},
   "outputs": [],
   "source": [
    "temp.to_excel('analysis/[G4][제원관리번호]동일차량확인.xlsx')"
   ]
  },
  {
   "cell_type": "code",
   "execution_count": 610,
   "metadata": {},
   "outputs": [
    {
     "data": {
      "text/html": [
       "<div>\n",
       "<style scoped>\n",
       "    .dataframe tbody tr th:only-of-type {\n",
       "        vertical-align: middle;\n",
       "    }\n",
       "\n",
       "    .dataframe tbody tr th {\n",
       "        vertical-align: top;\n",
       "    }\n",
       "\n",
       "    .dataframe thead th {\n",
       "        text-align: right;\n",
       "    }\n",
       "</style>\n",
       "<table border=\"1\" class=\"dataframe\">\n",
       "  <thead>\n",
       "    <tr style=\"text-align: right;\">\n",
       "      <th></th>\n",
       "      <th>index</th>\n",
       "      <th>차대번호</th>\n",
       "      <th>제원관리번호</th>\n",
       "      <th>배출가스인증번호</th>\n",
       "      <th>엔진형식</th>\n",
       "      <th>차명</th>\n",
       "    </tr>\n",
       "  </thead>\n",
       "  <tbody>\n",
       "    <tr>\n",
       "      <th>0</th>\n",
       "      <td>1171546</td>\n",
       "      <td>KL90E3ACGXSZ00001</td>\n",
       "      <td>00030110800000304</td>\n",
       "      <td>NaN</td>\n",
       "      <td>5S</td>\n",
       "      <td>도요다 해리어</td>\n",
       "    </tr>\n",
       "    <tr>\n",
       "      <th>1</th>\n",
       "      <td>1171777</td>\n",
       "      <td>KMHWF35V41A387514</td>\n",
       "      <td>00030112400001628</td>\n",
       "      <td>NaN</td>\n",
       "      <td>G6BV</td>\n",
       "      <td>쏘나타2.5GOLD</td>\n",
       "    </tr>\n",
       "    <tr>\n",
       "      <th>2</th>\n",
       "      <td>2039</td>\n",
       "      <td>KL90B2M9GWSZ00001</td>\n",
       "      <td>00031105000011116</td>\n",
       "      <td>NaN</td>\n",
       "      <td>12A</td>\n",
       "      <td>ROVER MINI</td>\n",
       "    </tr>\n",
       "    <tr>\n",
       "      <th>3</th>\n",
       "      <td>1171864</td>\n",
       "      <td>KL90A3AAGVSZ00002</td>\n",
       "      <td>00031105000011203</td>\n",
       "      <td>NaN</td>\n",
       "      <td>111921</td>\n",
       "      <td>벤츠C180</td>\n",
       "    </tr>\n",
       "    <tr>\n",
       "      <th>4</th>\n",
       "      <td>2840</td>\n",
       "      <td>KNAMC76439S281271</td>\n",
       "      <td>00031105000011314</td>\n",
       "      <td>7MY-KM-14-64</td>\n",
       "      <td>J3</td>\n",
       "      <td>카니발</td>\n",
       "    </tr>\n",
       "    <tr>\n",
       "      <th>...</th>\n",
       "      <td>...</td>\n",
       "      <td>...</td>\n",
       "      <td>...</td>\n",
       "      <td>...</td>\n",
       "      <td>...</td>\n",
       "      <td>...</td>\n",
       "    </tr>\n",
       "    <tr>\n",
       "      <th>15536</th>\n",
       "      <td>150</td>\n",
       "      <td>YV2XT40K5JA834376</td>\n",
       "      <td>BRX20004600013317</td>\n",
       "      <td>FMY-VTK-14-1</td>\n",
       "      <td>D13</td>\n",
       "      <td>FM 카고</td>\n",
       "    </tr>\n",
       "    <tr>\n",
       "      <th>15537</th>\n",
       "      <td>739</td>\n",
       "      <td>YV2V001D2HZ114313</td>\n",
       "      <td>BRX20004700003317</td>\n",
       "      <td>FMY-VTK-14-3</td>\n",
       "      <td>D8</td>\n",
       "      <td>FE 카고</td>\n",
       "    </tr>\n",
       "    <tr>\n",
       "      <th>15538</th>\n",
       "      <td>736</td>\n",
       "      <td>YV2V001D3HZ114286</td>\n",
       "      <td>BRX20004800003317</td>\n",
       "      <td>FMY-VTK-14-3</td>\n",
       "      <td>D8</td>\n",
       "      <td>FE 윙바디</td>\n",
       "    </tr>\n",
       "    <tr>\n",
       "      <th>15539</th>\n",
       "      <td>464</td>\n",
       "      <td>YV2XT40K9JA819380</td>\n",
       "      <td>BZB20003100003318</td>\n",
       "      <td>FMY-VTK-14-1</td>\n",
       "      <td>D13</td>\n",
       "      <td>삼부26톤볼보트럭</td>\n",
       "    </tr>\n",
       "    <tr>\n",
       "      <th>15540</th>\n",
       "      <td>401</td>\n",
       "      <td>KMFHA17GPJC028901</td>\n",
       "      <td>CN210001000003218</td>\n",
       "      <td>5MY-HD-24-59</td>\n",
       "      <td>D4GB</td>\n",
       "      <td>팔도2톤윙바디</td>\n",
       "    </tr>\n",
       "  </tbody>\n",
       "</table>\n",
       "<p>15541 rows × 6 columns</p>\n",
       "</div>"
      ],
      "text/plain": [
       "         index               차대번호             제원관리번호      배출가스인증번호    엔진형식  \\\n",
       "0      1171546  KL90E3ACGXSZ00001  00030110800000304           NaN      5S   \n",
       "1      1171777  KMHWF35V41A387514  00030112400001628           NaN    G6BV   \n",
       "2         2039  KL90B2M9GWSZ00001  00031105000011116           NaN     12A   \n",
       "3      1171864  KL90A3AAGVSZ00002  00031105000011203           NaN  111921   \n",
       "4         2840  KNAMC76439S281271  00031105000011314  7MY-KM-14-64      J3   \n",
       "...        ...                ...                ...           ...     ...   \n",
       "15536      150  YV2XT40K5JA834376  BRX20004600013317  FMY-VTK-14-1     D13   \n",
       "15537      739  YV2V001D2HZ114313  BRX20004700003317  FMY-VTK-14-3      D8   \n",
       "15538      736  YV2V001D3HZ114286  BRX20004800003317  FMY-VTK-14-3      D8   \n",
       "15539      464  YV2XT40K9JA819380  BZB20003100003318  FMY-VTK-14-1     D13   \n",
       "15540      401  KMFHA17GPJC028901  CN210001000003218  5MY-HD-24-59    D4GB   \n",
       "\n",
       "               차명  \n",
       "0         도요다 해리어  \n",
       "1      쏘나타2.5GOLD  \n",
       "2      ROVER MINI  \n",
       "3          벤츠C180  \n",
       "4             카니발  \n",
       "...           ...  \n",
       "15536       FM 카고  \n",
       "15537       FE 카고  \n",
       "15538      FE 윙바디  \n",
       "15539   삼부26톤볼보트럭  \n",
       "15540     팔도2톤윙바디  \n",
       "\n",
       "[15541 rows x 6 columns]"
      ]
     },
     "execution_count": 610,
     "metadata": {},
     "output_type": "execute_result"
    }
   ],
   "source": [
    "temp = temp.reset_index()\n",
    "temp"
   ]
  },
  {
   "cell_type": "code",
   "execution_count": 611,
   "metadata": {},
   "outputs": [
    {
     "name": "stderr",
     "output_type": "stream",
     "text": [
      "100%|██████████| 15541/15541 [00:04<00:00, 3395.22it/s]\n"
     ]
    }
   ],
   "source": [
    "no_list = []\n",
    "m_no = temp['제원관리번호'].to_list()\n",
    "for one in tqdm(temp['제원관리번호']):\n",
    "    n = m_no.count(one)\n",
    "    no_list.append(n)"
   ]
  },
  {
   "cell_type": "code",
   "execution_count": 618,
   "metadata": {},
   "outputs": [
    {
     "data": {
      "text/plain": [
       "['00030110800000304',\n",
       " '00030112400001628',\n",
       " '00031105000011116',\n",
       " '00031105000011203',\n",
       " '00031105000011314',\n",
       " '00031105000011412',\n",
       " '00031105000021116',\n",
       " '00031105000031116',\n",
       " '00031105000051211',\n",
       " '00031105000061214']"
      ]
     },
     "execution_count": 618,
     "metadata": {},
     "output_type": "execute_result"
    }
   ],
   "source": [
    "m_no[:10]"
   ]
  },
  {
   "cell_type": "code",
   "execution_count": 619,
   "metadata": {},
   "outputs": [
    {
     "data": {
      "text/plain": [
       "1"
      ]
     },
     "execution_count": 619,
     "metadata": {},
     "output_type": "execute_result"
    }
   ],
   "source": [
    "m_no.count('00031105000021116')"
   ]
  },
  {
   "cell_type": "code",
   "execution_count": 622,
   "metadata": {},
   "outputs": [
    {
     "data": {
      "text/plain": [
       "1514"
      ]
     },
     "execution_count": 622,
     "metadata": {},
     "output_type": "execute_result"
    }
   ],
   "source": [
    "no_list.index(2)"
   ]
  },
  {
   "cell_type": "code",
   "execution_count": 647,
   "metadata": {},
   "outputs": [
    {
     "data": {
      "text/plain": [
       "3379"
      ]
     },
     "execution_count": 647,
     "metadata": {},
     "output_type": "execute_result"
    }
   ],
   "source": [
    "no_list.index(3)"
   ]
  },
  {
   "cell_type": "code",
   "execution_count": 649,
   "metadata": {},
   "outputs": [
    {
     "data": {
      "text/plain": [
       "'10021000040002'"
      ]
     },
     "execution_count": 649,
     "metadata": {},
     "output_type": "execute_result"
    }
   ],
   "source": [
    "m_no[3379]"
   ]
  },
  {
   "cell_type": "code",
   "execution_count": 639,
   "metadata": {},
   "outputs": [
    {
     "data": {
      "text/plain": [
       "14587"
      ]
     },
     "execution_count": 639,
     "metadata": {},
     "output_type": "execute_result"
    }
   ],
   "source": [
    "no_list.index(4)"
   ]
  },
  {
   "cell_type": "code",
   "execution_count": 650,
   "metadata": {},
   "outputs": [
    {
     "data": {
      "text/plain": [
       "'B3C10016600003307'"
      ]
     },
     "execution_count": 650,
     "metadata": {},
     "output_type": "execute_result"
    }
   ],
   "source": [
    "m_no[14587]"
   ]
  },
  {
   "cell_type": "code",
   "execution_count": 637,
   "metadata": {},
   "outputs": [
    {
     "data": {
      "text/plain": [
       "3629"
      ]
     },
     "execution_count": 637,
     "metadata": {},
     "output_type": "execute_result"
    }
   ],
   "source": [
    "no_list.index(5)"
   ]
  },
  {
   "cell_type": "code",
   "execution_count": 625,
   "metadata": {},
   "outputs": [],
   "source": [
    "temp['동일제원관리번호_개수'] = no_list"
   ]
  },
  {
   "cell_type": "code",
   "execution_count": 651,
   "metadata": {},
   "outputs": [
    {
     "data": {
      "text/plain": [
       "동일제원관리번호_개수\n",
       "1    15096\n",
       "2      412\n",
       "3       24\n",
       "4        4\n",
       "5        5\n",
       "Name: 제원관리번호, dtype: int64"
      ]
     },
     "execution_count": 651,
     "metadata": {},
     "output_type": "execute_result"
    }
   ],
   "source": [
    "temp.groupby(['동일제원관리번호_개수'])['제원관리번호'].count()"
   ]
  },
  {
   "cell_type": "code",
   "execution_count": 654,
   "metadata": {},
   "outputs": [
    {
     "data": {
      "text/plain": [
       "1514    00120002200031307\n",
       "1515    00120002200031307\n",
       "2484       10014700070001\n",
       "2485       10014700070001\n",
       "2918       10016000000000\n",
       "Name: 제원관리번호, dtype: object"
      ]
     },
     "execution_count": 654,
     "metadata": {},
     "output_type": "execute_result"
    }
   ],
   "source": [
    "temp.loc[temp['동일제원관리번호_개수'] == 2, '제원관리번호'].head()"
   ]
  },
  {
   "cell_type": "code",
   "execution_count": 632,
   "metadata": {},
   "outputs": [
    {
     "data": {
      "text/plain": [
       "Series([], Name: 차대번호, dtype: object)"
      ]
     },
     "execution_count": 632,
     "metadata": {},
     "output_type": "execute_result"
    }
   ],
   "source": [
    "gas_df.loc[(gas_df['제원관리번호'] == '00120002200031307') & (gas_df['배출가스인증번호'].isnull() == True), '차대번호']"
   ]
  },
  {
   "cell_type": "code",
   "execution_count": 633,
   "metadata": {},
   "outputs": [
    {
     "data": {
      "text/plain": [
       "0"
      ]
     },
     "execution_count": 633,
     "metadata": {},
     "output_type": "execute_result"
    }
   ],
   "source": [
    "len(gas_df.loc[(gas_df['제원관리번호'] == '00120002200031307') & (gas_df['배출가스인증번호'].isnull() == True), '차대번호'])"
   ]
  },
  {
   "cell_type": "code",
   "execution_count": 656,
   "metadata": {},
   "outputs": [
    {
     "name": "stderr",
     "output_type": "stream",
     "text": [
      "100%|██████████| 206/206 [00:34<00:00,  5.93it/s]\n"
     ]
    }
   ],
   "source": [
    "count2 = 0\n",
    "tes = temp.loc[temp['동일제원관리번호_개수'] == 2, '제원관리번호'].unique()\n",
    "for one in tqdm(tes):\n",
    "    count2 += len(gas_df.loc[(gas_df['제원관리번호'] == one) & (gas_df['배출가스인증번호'].isnull() == True), '차대번호'])"
   ]
  },
  {
   "cell_type": "code",
   "execution_count": 657,
   "metadata": {},
   "outputs": [
    {
     "data": {
      "text/plain": [
       "3"
      ]
     },
     "execution_count": 657,
     "metadata": {},
     "output_type": "execute_result"
    }
   ],
   "source": [
    "count2"
   ]
  },
  {
   "cell_type": "code",
   "execution_count": 658,
   "metadata": {},
   "outputs": [
    {
     "name": "stderr",
     "output_type": "stream",
     "text": [
      "100%|██████████| 8/8 [00:01<00:00,  5.84it/s]\n"
     ]
    }
   ],
   "source": [
    "count3 = 0\n",
    "tes = temp.loc[temp['동일제원관리번호_개수'] == 3, '제원관리번호'].unique()\n",
    "for one in tqdm(tes):\n",
    "    count3 += len(gas_df.loc[(gas_df['제원관리번호'] == one) & (gas_df['배출가스인증번호'].isnull() == True), '차대번호'])"
   ]
  },
  {
   "cell_type": "code",
   "execution_count": 659,
   "metadata": {},
   "outputs": [
    {
     "data": {
      "text/plain": [
       "0"
      ]
     },
     "execution_count": 659,
     "metadata": {},
     "output_type": "execute_result"
    }
   ],
   "source": [
    "count3"
   ]
  },
  {
   "cell_type": "code",
   "execution_count": 660,
   "metadata": {},
   "outputs": [
    {
     "name": "stderr",
     "output_type": "stream",
     "text": [
      "100%|██████████| 1/1 [00:00<00:00,  5.92it/s]\n"
     ]
    }
   ],
   "source": [
    "count4 = 0\n",
    "tes = temp.loc[temp['동일제원관리번호_개수'] == 4, '제원관리번호'].unique()\n",
    "for one in tqdm(tes):\n",
    "    count4 += len(gas_df.loc[(gas_df['제원관리번호'] == one) & (gas_df['배출가스인증번호'].isnull() == True), '차대번호'])"
   ]
  },
  {
   "cell_type": "code",
   "execution_count": 661,
   "metadata": {},
   "outputs": [
    {
     "data": {
      "text/plain": [
       "1"
      ]
     },
     "execution_count": 661,
     "metadata": {},
     "output_type": "execute_result"
    }
   ],
   "source": [
    "count4"
   ]
  },
  {
   "cell_type": "code",
   "execution_count": 662,
   "metadata": {},
   "outputs": [
    {
     "name": "stderr",
     "output_type": "stream",
     "text": [
      "100%|██████████| 1/1 [00:00<00:00,  6.10it/s]\n"
     ]
    }
   ],
   "source": [
    "count5 = 0\n",
    "tes = temp.loc[temp['동일제원관리번호_개수'] == 5, '제원관리번호'].unique()\n",
    "for one in tqdm(tes):\n",
    "    count5 += len(gas_df.loc[(gas_df['제원관리번호'] == one) & (gas_df['배출가스인증번호'].isnull() == True), '차대번호'])"
   ]
  },
  {
   "cell_type": "code",
   "execution_count": 663,
   "metadata": {},
   "outputs": [
    {
     "data": {
      "text/plain": [
       "0"
      ]
     },
     "execution_count": 663,
     "metadata": {},
     "output_type": "execute_result"
    }
   ],
   "source": [
    "count5"
   ]
  },
  {
   "attachments": {},
   "cell_type": "markdown",
   "metadata": {},
   "source": [
    "###### 동일 제원관리번호로 기입 할 수 있는 샘플"
   ]
  },
  {
   "cell_type": "code",
   "execution_count": 664,
   "metadata": {},
   "outputs": [
    {
     "data": {
      "text/plain": [
       "4"
      ]
     },
     "execution_count": 664,
     "metadata": {},
     "output_type": "execute_result"
    }
   ],
   "source": [
    "# 동일 제원관리번호로 기입 할 수 있는 샘플 수 : 4\n",
    "count2 + count3 + count4 + count5"
   ]
  },
  {
   "attachments": {},
   "cell_type": "markdown",
   "metadata": {},
   "source": [
    "### 배출가스인증번호별 통계"
   ]
  },
  {
   "cell_type": "code",
   "execution_count": 183,
   "metadata": {},
   "outputs": [
    {
     "data": {
      "text/plain": [
       "Index(['차량관리번호', '차량등록번호', '본거지법정동코드', '소유자구분', '차종_등록정보', '용도', '차대번호',\n",
       "       '최초등록일자', '차량연식', '차량제작일자', '검사유효일', '제원관리번호', '배출가스인증번호', '배출가스등급',\n",
       "       '저공해조치종류', '저공해조치구조변경YN', '취득일자', '취득금액', '차명', '차종_제원정보', '차종분류',\n",
       "       '차종유형', '자동차형식', '제작사명', '연료', '엔진형식', '총중량', '적재중량', '엔진출력', '배기량',\n",
       "       '승차인원', '차량길이', '차량너비', '차량높이', '원산지명', '삭제YN', '제원승인일자', '구동형식',\n",
       "       '변속기종류', 'code1', '시도', '시구군', '폐지여부', '대기관리권역', '대기관리권역YN'],\n",
       "      dtype='object')"
      ]
     },
     "execution_count": 183,
     "metadata": {},
     "output_type": "execute_result"
    }
   ],
   "source": [
    "gas_df.columns"
   ]
  },
  {
   "cell_type": "code",
   "execution_count": 184,
   "metadata": {},
   "outputs": [
    {
     "data": {
      "text/plain": [
       "(1528557, 45)"
      ]
     },
     "execution_count": 184,
     "metadata": {},
     "output_type": "execute_result"
    }
   ],
   "source": [
    "gas_df.shape"
   ]
  },
  {
   "cell_type": "code",
   "execution_count": 185,
   "metadata": {},
   "outputs": [
    {
     "data": {
      "text/plain": [
       "1528557"
      ]
     },
     "execution_count": 185,
     "metadata": {},
     "output_type": "execute_result"
    }
   ],
   "source": [
    "len(gas_df['차대번호'].unique())"
   ]
  },
  {
   "cell_type": "code",
   "execution_count": 186,
   "metadata": {},
   "outputs": [
    {
     "data": {
      "text/html": [
       "<div>\n",
       "<style scoped>\n",
       "    .dataframe tbody tr th:only-of-type {\n",
       "        vertical-align: middle;\n",
       "    }\n",
       "\n",
       "    .dataframe tbody tr th {\n",
       "        vertical-align: top;\n",
       "    }\n",
       "\n",
       "    .dataframe thead th {\n",
       "        text-align: right;\n",
       "    }\n",
       "</style>\n",
       "<table border=\"1\" class=\"dataframe\">\n",
       "  <thead>\n",
       "    <tr style=\"text-align: right;\">\n",
       "      <th></th>\n",
       "      <th>차량관리번호</th>\n",
       "      <th>차량등록번호</th>\n",
       "      <th>차대번호</th>\n",
       "      <th>배출가스인증번호</th>\n",
       "    </tr>\n",
       "  </thead>\n",
       "  <tbody>\n",
       "  </tbody>\n",
       "</table>\n",
       "</div>"
      ],
      "text/plain": [
       "Empty DataFrame\n",
       "Columns: [차량관리번호, 차량등록번호, 차대번호, 배출가스인증번호]\n",
       "Index: []"
      ]
     },
     "execution_count": 186,
     "metadata": {},
     "output_type": "execute_result"
    }
   ],
   "source": [
    "gas_df.loc[gas_df.duplicated('차대번호', keep=False) == True, ['차량관리번호', '차량등록번호', '차대번호', '배출가스인증번호']].sort_values('차대번호')"
   ]
  },
  {
   "cell_type": "code",
   "execution_count": 187,
   "metadata": {},
   "outputs": [
    {
     "data": {
      "text/plain": [
       "배출가스인증번호\n",
       "3MY-FK-08       1067\n",
       "4MY-AD-20         38\n",
       "4MY-DC-33          7\n",
       "4MY-PA-06         13\n",
       "5MY-AD-13-06     392\n",
       "                ... \n",
       "XMY-HD-47        924\n",
       "XMY-HD-48        364\n",
       "XMY-HD-55       2532\n",
       "XMY-KM-47       3217\n",
       "YKM-KM-12         70\n",
       "Name: 차대번호, Length: 300, dtype: int64"
      ]
     },
     "execution_count": 187,
     "metadata": {},
     "output_type": "execute_result"
    }
   ],
   "source": [
    "gas_df.groupby('배출가스인증번호')['차대번호'].count()"
   ]
  },
  {
   "cell_type": "code",
   "execution_count": 188,
   "metadata": {},
   "outputs": [
    {
     "data": {
      "text/plain": [
       "123003"
      ]
     },
     "execution_count": 188,
     "metadata": {},
     "output_type": "execute_result"
    }
   ],
   "source": [
    "gas_df['배출가스인증번호'].isnull().sum()"
   ]
  },
  {
   "attachments": {},
   "cell_type": "markdown",
   "metadata": {},
   "source": [
    "#### [출력] 배인번호별 통계"
   ]
  },
  {
   "cell_type": "code",
   "execution_count": 467,
   "metadata": {},
   "outputs": [],
   "source": [
    "gas_df.groupby('배출가스인증번호')['차대번호'].count().to_excel('analysis/[G4][배출가스인증번호]번호별_통계.xlsx')"
   ]
  },
  {
   "attachments": {},
   "cell_type": "markdown",
   "metadata": {},
   "source": [
    "### 총중량으로 분류 현황"
   ]
  },
  {
   "cell_type": "code",
   "execution_count": 189,
   "metadata": {},
   "outputs": [
    {
     "data": {
      "text/plain": [
       "(1528557, 45)"
      ]
     },
     "execution_count": 189,
     "metadata": {},
     "output_type": "execute_result"
    }
   ],
   "source": [
    "gas_df.shape"
   ]
  },
  {
   "cell_type": "code",
   "execution_count": 190,
   "metadata": {},
   "outputs": [
    {
     "data": {
      "text/plain": [
       "array([10825., 11075.,  2215., ...,  1512.,  1197.,  1436.])"
      ]
     },
     "execution_count": 190,
     "metadata": {},
     "output_type": "execute_result"
    }
   ],
   "source": [
    "gas_df['총중량'].unique()"
   ]
  },
  {
   "cell_type": "code",
   "execution_count": 191,
   "metadata": {},
   "outputs": [
    {
     "data": {
      "text/plain": [
       "numpy.float64"
      ]
     },
     "execution_count": 191,
     "metadata": {},
     "output_type": "execute_result"
    }
   ],
   "source": [
    "type(gas_df['총중량'][0])"
   ]
  },
  {
   "cell_type": "code",
   "execution_count": 192,
   "metadata": {},
   "outputs": [
    {
     "data": {
      "text/plain": [
       "1"
      ]
     },
     "execution_count": 192,
     "metadata": {},
     "output_type": "execute_result"
    }
   ],
   "source": [
    "gas_df['총중량'].isnull().sum()"
   ]
  },
  {
   "cell_type": "code",
   "execution_count": 193,
   "metadata": {},
   "outputs": [],
   "source": [
    "gas_df['총중량'] = gas_df['총중량'].fillna(-1)"
   ]
  },
  {
   "cell_type": "code",
   "execution_count": 194,
   "metadata": {},
   "outputs": [
    {
     "data": {
      "text/plain": [
       "0"
      ]
     },
     "execution_count": 194,
     "metadata": {},
     "output_type": "execute_result"
    }
   ],
   "source": [
    "gas_df['총중량'].isnull().sum()"
   ]
  },
  {
   "cell_type": "code",
   "execution_count": 195,
   "metadata": {},
   "outputs": [
    {
     "name": "stderr",
     "output_type": "stream",
     "text": [
      "1528557it [00:01, 1040310.49it/s]\n"
     ]
    }
   ],
   "source": [
    "weight_list = []\n",
    "for i, one in tqdm(enumerate(gas_df['총중량'])):\n",
    "    if one == -1:\n",
    "        weight_list.append('미기입')\n",
    "    elif one < 1500:\n",
    "        weight_list.append('1.5ton 미만')\n",
    "    elif one >= 1500 and one < 2000:\n",
    "        weight_list.append('1.5ton 이상 2.0ton 미만')\n",
    "    elif one >= 2000 and one < 2500:\n",
    "        weight_list.append('2.0ton 이상 2.5ton 미만')\n",
    "    elif one >= 2500 and one < 3000:\n",
    "        weight_list.append('2.5ton 이상 3.0ton 미만')\n",
    "    elif one >= 3000 and one < 3500:\n",
    "        weight_list.append('3.0ton 이상 3.5ton 미만')\n",
    "    elif one >= 3500 and one < 4000:\n",
    "        weight_list.append('3.5ton 이상 4.0ton 미만')\n",
    "    elif one >= 4000 and one < 4500:\n",
    "        weight_list.append('4.0ton 이상 4.5ton 미만')\n",
    "    elif one >= 4500 and one < 5000:\n",
    "        weight_list.append('4.5ton 이상 5.0ton 미만')\n",
    "    elif one >= 5000 and one < 5500:\n",
    "        weight_list.append('5.0ton 이상 5.5ton 미만')\n",
    "    elif one >= 5500 and one < 6000:\n",
    "        weight_list.append('5.5ton 이상 6.0ton 미만')\n",
    "    elif one >= 6000 and one < 8000:\n",
    "        weight_list.append('6.0ton 이상 8.0ton 미만')\n",
    "    elif one >= 8000 and one < 10000:\n",
    "        weight_list.append('8.0ton 이상 10.0ton 미만')\n",
    "    elif one >= 10000:\n",
    "        weight_list.append('10.0ton 이상')"
   ]
  },
  {
   "cell_type": "code",
   "execution_count": 196,
   "metadata": {},
   "outputs": [
    {
     "data": {
      "text/plain": [
       "1528557"
      ]
     },
     "execution_count": 196,
     "metadata": {},
     "output_type": "execute_result"
    }
   ],
   "source": [
    "len(weight_list)"
   ]
  },
  {
   "cell_type": "code",
   "execution_count": 197,
   "metadata": {},
   "outputs": [],
   "source": [
    "gas_df['총중량_분류'] = weight_list"
   ]
  },
  {
   "cell_type": "code",
   "execution_count": 198,
   "metadata": {},
   "outputs": [
    {
     "data": {
      "text/html": [
       "<div>\n",
       "<style scoped>\n",
       "    .dataframe tbody tr th:only-of-type {\n",
       "        vertical-align: middle;\n",
       "    }\n",
       "\n",
       "    .dataframe tbody tr th {\n",
       "        vertical-align: top;\n",
       "    }\n",
       "\n",
       "    .dataframe thead th {\n",
       "        text-align: right;\n",
       "    }\n",
       "</style>\n",
       "<table border=\"1\" class=\"dataframe\">\n",
       "  <thead>\n",
       "    <tr style=\"text-align: right;\">\n",
       "      <th></th>\n",
       "      <th>총중량_분류</th>\n",
       "      <th>차대번호</th>\n",
       "    </tr>\n",
       "  </thead>\n",
       "  <tbody>\n",
       "    <tr>\n",
       "      <th>0</th>\n",
       "      <td>1.5ton 미만</td>\n",
       "      <td>198424</td>\n",
       "    </tr>\n",
       "    <tr>\n",
       "      <th>1</th>\n",
       "      <td>1.5ton 이상 2.0ton 미만</td>\n",
       "      <td>330997</td>\n",
       "    </tr>\n",
       "    <tr>\n",
       "      <th>2</th>\n",
       "      <td>10.0ton 이상</td>\n",
       "      <td>30469</td>\n",
       "    </tr>\n",
       "    <tr>\n",
       "      <th>3</th>\n",
       "      <td>2.0ton 이상 2.5ton 미만</td>\n",
       "      <td>240259</td>\n",
       "    </tr>\n",
       "    <tr>\n",
       "      <th>4</th>\n",
       "      <td>2.5ton 이상 3.0ton 미만</td>\n",
       "      <td>436562</td>\n",
       "    </tr>\n",
       "    <tr>\n",
       "      <th>5</th>\n",
       "      <td>3.0ton 이상 3.5ton 미만</td>\n",
       "      <td>262435</td>\n",
       "    </tr>\n",
       "    <tr>\n",
       "      <th>6</th>\n",
       "      <td>3.5ton 이상 4.0ton 미만</td>\n",
       "      <td>135</td>\n",
       "    </tr>\n",
       "    <tr>\n",
       "      <th>7</th>\n",
       "      <td>4.0ton 이상 4.5ton 미만</td>\n",
       "      <td>192</td>\n",
       "    </tr>\n",
       "    <tr>\n",
       "      <th>8</th>\n",
       "      <td>4.5ton 이상 5.0ton 미만</td>\n",
       "      <td>23</td>\n",
       "    </tr>\n",
       "    <tr>\n",
       "      <th>9</th>\n",
       "      <td>5.0ton 이상 5.5ton 미만</td>\n",
       "      <td>891</td>\n",
       "    </tr>\n",
       "    <tr>\n",
       "      <th>10</th>\n",
       "      <td>5.5ton 이상 6.0ton 미만</td>\n",
       "      <td>13805</td>\n",
       "    </tr>\n",
       "    <tr>\n",
       "      <th>11</th>\n",
       "      <td>6.0ton 이상 8.0ton 미만</td>\n",
       "      <td>10960</td>\n",
       "    </tr>\n",
       "    <tr>\n",
       "      <th>12</th>\n",
       "      <td>8.0ton 이상 10.0ton 미만</td>\n",
       "      <td>3404</td>\n",
       "    </tr>\n",
       "    <tr>\n",
       "      <th>13</th>\n",
       "      <td>미기입</td>\n",
       "      <td>1</td>\n",
       "    </tr>\n",
       "  </tbody>\n",
       "</table>\n",
       "</div>"
      ],
      "text/plain": [
       "                  총중량_분류    차대번호\n",
       "0              1.5ton 미만  198424\n",
       "1    1.5ton 이상 2.0ton 미만  330997\n",
       "2             10.0ton 이상   30469\n",
       "3    2.0ton 이상 2.5ton 미만  240259\n",
       "4    2.5ton 이상 3.0ton 미만  436562\n",
       "5    3.0ton 이상 3.5ton 미만  262435\n",
       "6    3.5ton 이상 4.0ton 미만     135\n",
       "7    4.0ton 이상 4.5ton 미만     192\n",
       "8    4.5ton 이상 5.0ton 미만      23\n",
       "9    5.0ton 이상 5.5ton 미만     891\n",
       "10   5.5ton 이상 6.0ton 미만   13805\n",
       "11   6.0ton 이상 8.0ton 미만   10960\n",
       "12  8.0ton 이상 10.0ton 미만    3404\n",
       "13                   미기입       1"
      ]
     },
     "execution_count": 198,
     "metadata": {},
     "output_type": "execute_result"
    }
   ],
   "source": [
    "total_weight_df = gas_df.groupby('총중량_분류')['차대번호'].count().reset_index()\n",
    "total_weight_df"
   ]
  },
  {
   "attachments": {},
   "cell_type": "markdown",
   "metadata": {},
   "source": [
    "#### [출력] [총중량] 분류"
   ]
  },
  {
   "cell_type": "code",
   "execution_count": 478,
   "metadata": {},
   "outputs": [],
   "source": [
    "total_weight_df.to_excel('analysis/[G4][총중량]분류_통계.xlsx', encoding='utf-8')"
   ]
  },
  {
   "attachments": {},
   "cell_type": "markdown",
   "metadata": {},
   "source": [
    "#### 총중량 code 화"
   ]
  },
  {
   "cell_type": "code",
   "execution_count": 199,
   "metadata": {},
   "outputs": [
    {
     "name": "stderr",
     "output_type": "stream",
     "text": [
      "1528557it [00:02, 512430.18it/s]\n"
     ]
    }
   ],
   "source": [
    "weight_code_list = []\n",
    "for i, one in tqdm(enumerate(gas_df['총중량'])):\n",
    "    if one < 250:\n",
    "        weight_code_list.append('0025')\n",
    "    elif one >= 250 and one < 500:\n",
    "        weight_code_list.append('0050')\n",
    "    elif one >= 500 and one < 750:\n",
    "        weight_code_list.append('0075')\n",
    "    elif one >= 750 and one < 1000:\n",
    "        weight_code_list.append('0100')\n",
    "    elif one >= 1000 and one < 1250:\n",
    "        weight_code_list.append('0125')\n",
    "    elif one >= 1250 and one < 1500:\n",
    "        weight_code_list.append('0150')\n",
    "    elif one >= 1500 and one < 1750:\n",
    "        weight_code_list.append('0175')\n",
    "    elif one >= 1750 and one < 2000:\n",
    "        weight_code_list.append('0200')\n",
    "    elif one >= 2000 and one < 2250:\n",
    "        weight_code_list.append('0225')\n",
    "    elif one >= 2250 and one < 2500:\n",
    "        weight_code_list.append('0250')\n",
    "    elif one >= 2500 and one < 2750:\n",
    "        weight_code_list.append('0275')\n",
    "    elif one >= 2750 and one < 3000:\n",
    "        weight_code_list.append('0300')\n",
    "    elif one >= 3000 and one < 3250:\n",
    "        weight_code_list.append('0325')\n",
    "    elif one >= 3250 and one < 3500:\n",
    "        weight_code_list.append('0350')\n",
    "    elif one >= 3500 and one < 3750:\n",
    "        weight_code_list.append('0375')\n",
    "    elif one >= 3750 and one < 4000:\n",
    "        weight_code_list.append('0400')\n",
    "    elif one >= 4000 and one < 4250:\n",
    "        weight_code_list.append('0425')\n",
    "    elif one >= 4250 and one < 4500:\n",
    "        weight_code_list.append('0450')\n",
    "    elif one >= 4500 and one < 4750:\n",
    "        weight_code_list.append('0475')\n",
    "    elif one >= 4750 and one < 5000:\n",
    "        weight_code_list.append('0500')\n",
    "    elif one >= 5000 and one < 5250:\n",
    "        weight_code_list.append('0525')\n",
    "    elif one >= 5250 and one < 5500:\n",
    "        weight_code_list.append('0550')\n",
    "    elif one >= 5500 and one < 5750:\n",
    "        weight_code_list.append('0575')\n",
    "    elif one >= 5750 and one < 6000:\n",
    "        weight_code_list.append('0600')\n",
    "    elif one >= 6000 and one < 6250:\n",
    "        weight_code_list.append('0625')\n",
    "    elif one >= 6250 and one < 6500:\n",
    "        weight_code_list.append('0650')\n",
    "    elif one >= 6500 and one < 6750:\n",
    "        weight_code_list.append('0675')\n",
    "    elif one >= 6750 and one < 7000:\n",
    "        weight_code_list.append('0700')\n",
    "    elif one >= 7000 and one < 7250:\n",
    "        weight_code_list.append('0725')\n",
    "    elif one >= 7250 and one < 7500:\n",
    "        weight_code_list.append('0750')\n",
    "    elif one >= 7500 and one < 7750:\n",
    "        weight_code_list.append('0775')\n",
    "    elif one >= 7750 and one < 8000:\n",
    "        weight_code_list.append('0800')\n",
    "    elif one >= 8000 and one < 8250:\n",
    "        weight_code_list.append('0825')\n",
    "    elif one >= 8250 and one < 8500:\n",
    "        weight_code_list.append('0850')\n",
    "    elif one >= 8500 and one < 8750:\n",
    "        weight_code_list.append('0875')\n",
    "    elif one >= 8750 and one < 9000:\n",
    "        weight_code_list.append('0900')\n",
    "    elif one >= 9000 and one < 9250:\n",
    "        weight_code_list.append('0925')\n",
    "    elif one >= 9250 and one < 9500:\n",
    "        weight_code_list.append('0950')\n",
    "    elif one >= 9500 and one < 9750:\n",
    "        weight_code_list.append('0975')\n",
    "    elif one >= 9750 and one < 10000:\n",
    "        weight_code_list.append('1000')\n",
    "    elif one >= 10000 and one < 10250:\n",
    "        weight_code_list.append('1025')\n",
    "    elif one >= 10250 and one < 10500:\n",
    "        weight_code_list.append('1050')\n",
    "    elif one >= 10500 and one < 10750:\n",
    "        weight_code_list.append('1075')\n",
    "    elif one >= 10750 and one < 11000:\n",
    "        weight_code_list.append('1100')\n",
    "    elif one >= 11000 and one < 11250:\n",
    "        weight_code_list.append('1125')\n",
    "    elif one >= 11250 and one < 11500:\n",
    "        weight_code_list.append('1150')\n",
    "    elif one >= 11500 and one < 11750:\n",
    "        weight_code_list.append('1175')\n",
    "    elif one >= 11750 and one < 12000:\n",
    "        weight_code_list.append('1200')\n",
    "    elif one >= 12000 and one < 12250:\n",
    "        weight_code_list.append('1225')\n",
    "    elif one >= 12250 and one < 12500:\n",
    "        weight_code_list.append('1250')\n",
    "    elif one >= 12500 and one < 12750:\n",
    "        weight_code_list.append('1275')\n",
    "    elif one >= 12750 and one < 13000:\n",
    "        weight_code_list.append('1300')\n",
    "    elif one >= 13000 and one < 13250:\n",
    "        weight_code_list.append('1325')\n",
    "    elif one >= 13250 and one < 13500:\n",
    "        weight_code_list.append('1350')\n",
    "    elif one >= 13500 and one < 13750:\n",
    "        weight_code_list.append('1375')\n",
    "    elif one >= 13750 and one < 14000:\n",
    "        weight_code_list.append('1400')\n",
    "    elif one >= 14000 and one < 14250:\n",
    "        weight_code_list.append('1425')\n",
    "    elif one >= 14250 and one < 14500:\n",
    "        weight_code_list.append('1450')\n",
    "    elif one >= 14500 and one < 14750:\n",
    "        weight_code_list.append('1475')\n",
    "    elif one >= 14750 and one < 15000:\n",
    "        weight_code_list.append('1500')\n",
    "    elif one >= 15000 and one < 15250:\n",
    "        weight_code_list.append('1525')\n",
    "    elif one >= 15250 and one < 15500:\n",
    "        weight_code_list.append('1550')\n",
    "    elif one >= 15500 and one < 15750:\n",
    "        weight_code_list.append('1575')\n",
    "    elif one >= 15750 and one < 16000:\n",
    "        weight_code_list.append('1600')\n",
    "    elif one >= 16000 and one < 16250:\n",
    "        weight_code_list.append('1625')\n",
    "    elif one >= 16250 and one < 16500:\n",
    "        weight_code_list.append('1650')\n",
    "    elif one >= 16500 and one < 16750:\n",
    "        weight_code_list.append('1675')\n",
    "    elif one >= 16750 and one < 17000:\n",
    "        weight_code_list.append('1700')\n",
    "    elif one >= 17000 and one < 17250:\n",
    "        weight_code_list.append('1725')\n",
    "    elif one >= 17250 and one < 17500:\n",
    "        weight_code_list.append('1750')\n",
    "    elif one >= 17500 and one < 17750:\n",
    "        weight_code_list.append('1775')\n",
    "    elif one >= 17750 and one < 18000:\n",
    "        weight_code_list.append('1800')\n",
    "    elif one >= 18000 and one < 18250:\n",
    "        weight_code_list.append('1825')\n",
    "    elif one >= 18250 and one < 18500:\n",
    "        weight_code_list.append('1850')\n",
    "    elif one >= 18500 and one < 18750:\n",
    "        weight_code_list.append('1875')\n",
    "    elif one >= 18750 and one < 19000:\n",
    "        weight_code_list.append('1900')\n",
    "    elif one >= 19000 and one < 19250:\n",
    "        weight_code_list.append('1925')\n",
    "    elif one >= 19250 and one < 19500:\n",
    "        weight_code_list.append('1950')\n",
    "    elif one >= 19500 and one < 19750:\n",
    "        weight_code_list.append('1975')\n",
    "    elif one >= 19750 and one < 20000:\n",
    "        weight_code_list.append('2000')\n",
    "    elif one >= 20000 and one < 20250:\n",
    "        weight_code_list.append('2025')\n",
    "    elif one >= 20250 and one < 20500:\n",
    "        weight_code_list.append('2050')\n",
    "    elif one >= 20500 and one < 20750:\n",
    "        weight_code_list.append('2075')\n",
    "    elif one >= 20750 and one < 21000:\n",
    "        weight_code_list.append('2100')\n",
    "    elif one >= 21000 and one < 21250:\n",
    "        weight_code_list.append('2125')\n",
    "    elif one >= 21250 and one < 21500:\n",
    "        weight_code_list.append('2150')\n",
    "    elif one >= 21500 and one < 21750:\n",
    "        weight_code_list.append('2175')\n",
    "    elif one >= 21750 and one < 22000:\n",
    "        weight_code_list.append('2200')\n",
    "    elif one >= 22000 and one < 22250:\n",
    "        weight_code_list.append('2225')\n",
    "    elif one >= 22250 and one < 22500:\n",
    "        weight_code_list.append('2250')\n",
    "    elif one >= 22500 and one < 22750:\n",
    "        weight_code_list.append('2275')\n",
    "    elif one >= 22750 and one < 23000:\n",
    "        weight_code_list.append('2300')\n",
    "    elif one >= 23000 and one < 23250:\n",
    "        weight_code_list.append('2325')\n",
    "    elif one >= 23250 and one < 23500:\n",
    "        weight_code_list.append('2350')\n",
    "    elif one >= 23500 and one < 23750:\n",
    "        weight_code_list.append('2375')\n",
    "    elif one >= 23750 and one < 24000:\n",
    "        weight_code_list.append('2400')\n",
    "    elif one >= 24000 and one < 24250:\n",
    "        weight_code_list.append('2425')\n",
    "    elif one >= 24250 and one < 24500:\n",
    "        weight_code_list.append('2450')\n",
    "    elif one >= 24500 and one < 24750:\n",
    "        weight_code_list.append('2475')\n",
    "    elif one >= 24750 and one < 25000:\n",
    "        weight_code_list.append('2500')\n",
    "    elif one >= 25000 and one < 25250:\n",
    "        weight_code_list.append('2525')\n",
    "    elif one >= 25250 and one < 25500:\n",
    "        weight_code_list.append('2550')\n",
    "    elif one >= 25500 and one < 25750:\n",
    "        weight_code_list.append('2575')\n",
    "    elif one >= 25750 and one < 26000:\n",
    "        weight_code_list.append('2600')\n",
    "    elif one >= 26000 and one < 26250:\n",
    "        weight_code_list.append('2625')\n",
    "    elif one >= 26250 and one < 26500:\n",
    "        weight_code_list.append('2650')\n",
    "    elif one >= 26500 and one < 26750:\n",
    "        weight_code_list.append('2675')\n",
    "    elif one >= 26750 and one < 27000:\n",
    "        weight_code_list.append('2700')\n",
    "    elif one >= 27000 and one < 27250:\n",
    "        weight_code_list.append('2725')\n",
    "    elif one >= 27250 and one < 27500:\n",
    "        weight_code_list.append('2750')\n",
    "    elif one >= 27500 and one < 27750:\n",
    "        weight_code_list.append('2775')\n",
    "    elif one >= 27750 and one < 28000:\n",
    "        weight_code_list.append('2800')\n",
    "    elif one >= 28000 and one < 28250:\n",
    "        weight_code_list.append('2825')\n",
    "    elif one >= 28250 and one < 28500:\n",
    "        weight_code_list.append('2850')\n",
    "    elif one >= 28500 and one < 28750:\n",
    "        weight_code_list.append('2875')\n",
    "    elif one >= 28750 and one < 29000:\n",
    "        weight_code_list.append('2900')\n",
    "    elif one >= 29000 and one < 29250:\n",
    "        weight_code_list.append('2925')\n",
    "    elif one >= 29250 and one < 29500:\n",
    "        weight_code_list.append('2950')\n",
    "    elif one >= 29500 and one < 29750:\n",
    "        weight_code_list.append('2975')\n",
    "    elif one >= 29750 and one < 30000:\n",
    "        weight_code_list.append('3000')\n",
    "    elif one >= 30000 and one < 30250:\n",
    "        weight_code_list.append('3025')\n",
    "    elif one >= 30250 and one < 30500:\n",
    "        weight_code_list.append('3050')\n",
    "    elif one >= 30500 and one < 30750:\n",
    "        weight_code_list.append('3075')\n",
    "    elif one >= 30750 and one < 31000:\n",
    "        weight_code_list.append('3100')\n",
    "    elif one >= 31000 and one < 31250:\n",
    "        weight_code_list.append('3125')\n",
    "    elif one >= 31250 and one < 31500:\n",
    "        weight_code_list.append('3150')\n",
    "    elif one >= 31500 and one < 31750:\n",
    "        weight_code_list.append('3175')\n",
    "    elif one >= 31750 and one < 32000:\n",
    "        weight_code_list.append('3200')\n",
    "    elif one >= 32000 and one < 32250:\n",
    "        weight_code_list.append('3225')\n",
    "    elif one >= 32250 and one < 32500:\n",
    "        weight_code_list.append('3250')\n",
    "    elif one >= 32500 and one < 32750:\n",
    "        weight_code_list.append('3275')\n",
    "    elif one >= 32750 and one < 33000:\n",
    "        weight_code_list.append('3300')\n",
    "    elif one >= 33000 and one < 33250:\n",
    "        weight_code_list.append('3325')\n",
    "    elif one >= 33250 and one < 33500:\n",
    "        weight_code_list.append('3350')\n",
    "    elif one >= 33500 and one < 33750:\n",
    "        weight_code_list.append('3375')\n",
    "    elif one >= 33750 and one < 34000:\n",
    "        weight_code_list.append('3400')\n",
    "    elif one >= 34000 and one < 34250:\n",
    "        weight_code_list.append('3425')\n",
    "    elif one >= 34250 and one < 34500:\n",
    "        weight_code_list.append('3450')\n",
    "    elif one >= 34500 and one < 34750:\n",
    "        weight_code_list.append('3475')\n",
    "    elif one >= 34750 and one < 35000:\n",
    "        weight_code_list.append('3500')\n",
    "    elif one >= 35000 and one < 35250:\n",
    "        weight_code_list.append('3525')\n",
    "    elif one >= 35250 and one < 35500:\n",
    "        weight_code_list.append('3550')\n",
    "    elif one >= 35500 and one < 35750:\n",
    "        weight_code_list.append('3575')\n",
    "    elif one >= 35750 and one < 36000:\n",
    "        weight_code_list.append('3600')\n",
    "    elif one >= 36000 and one < 36250:\n",
    "        weight_code_list.append('3625')\n",
    "    elif one >= 36250 and one < 36500:\n",
    "        weight_code_list.append('3650')\n",
    "    elif one >= 36500 and one < 36750:\n",
    "        weight_code_list.append('3675')\n",
    "    elif one >= 36750 and one < 37000:\n",
    "        weight_code_list.append('3700')\n",
    "    elif one >= 37000 and one < 37250:\n",
    "        weight_code_list.append('3725')\n",
    "    elif one >= 37250 and one < 37500:\n",
    "        weight_code_list.append('3750')\n",
    "    elif one >= 37500 and one < 37750:\n",
    "        weight_code_list.append('3775')\n",
    "    elif one >= 37750 and one < 38000:\n",
    "        weight_code_list.append('3800')\n",
    "    elif one >= 38000 and one < 38250:\n",
    "        weight_code_list.append('3825')\n",
    "    elif one >= 38250 and one < 38500:\n",
    "        weight_code_list.append('3850')\n",
    "    elif one >= 38500 and one < 38750:\n",
    "        weight_code_list.append('3875')\n",
    "    elif one >= 38750 and one < 39000:\n",
    "        weight_code_list.append('3900')\n",
    "    elif one >= 39000 and one < 39250:\n",
    "        weight_code_list.append('3925')\n",
    "    elif one >= 39250 and one < 39500:\n",
    "        weight_code_list.append('3950')\n",
    "    elif one >= 39500 and one < 39750:\n",
    "        weight_code_list.append('3975')\n",
    "    elif one >= 39750 and one < 40000:\n",
    "        weight_code_list.append('4000')\n",
    "    elif one >= 40000 and one < 40250:\n",
    "        weight_code_list.append('4025')\n",
    "    elif one >= 40250 and one < 40500:\n",
    "        weight_code_list.append('4050')\n",
    "    elif one >= 40500 and one < 40750:\n",
    "        weight_code_list.append('4075')\n",
    "    elif one >= 40750 and one < 41000:\n",
    "        weight_code_list.append('4100')\n",
    "    elif one >= 41000 and one < 41250:\n",
    "        weight_code_list.append('4125')\n",
    "    elif one >= 41250 and one < 41500:\n",
    "        weight_code_list.append('4050')\n",
    "    elif one >= 41500 and one < 41750:\n",
    "        weight_code_list.append('4175')\n",
    "    elif one >= 41750 and one < 42000:\n",
    "        weight_code_list.append('4200')\n",
    "    elif one >= 42000 and one < 42250:\n",
    "        weight_code_list.append('4225')\n",
    "    elif one >= 42250 and one < 42500:\n",
    "        weight_code_list.append('4250')\n",
    "    elif one >= 42500 and one < 42750:\n",
    "        weight_code_list.append('4275')\n",
    "    elif one >= 42750 and one < 43000:\n",
    "        weight_code_list.append('4300')\n",
    "    elif one >= 43000 and one < 43250:\n",
    "        weight_code_list.append('4325')\n",
    "    elif one >= 43250 and one < 43500:\n",
    "        weight_code_list.append('4350')\n",
    "    elif one >= 43500 and one < 43750:\n",
    "        weight_code_list.append('4375')\n",
    "    elif one >= 43750 and one < 44000:\n",
    "        weight_code_list.append('4400')\n",
    "    elif one >= 44000 and one < 44250:\n",
    "        weight_code_list.append('4425')\n",
    "    elif one >= 44250 and one < 44500:\n",
    "        weight_code_list.append('4450')\n",
    "    elif one >= 44500 and one < 44750:\n",
    "        weight_code_list.append('4475')\n",
    "    elif one >= 44750 and one < 45000:\n",
    "        weight_code_list.append('4500')\n",
    "    elif one >= 45000 and one < 45250:\n",
    "        weight_code_list.append('4525')\n",
    "    elif one >= 45250 and one < 45500:\n",
    "        weight_code_list.append('4550')\n",
    "    elif one >= 45500 and one < 45750:\n",
    "        weight_code_list.append('4575')\n",
    "    elif one >= 45750 and one < 46000:\n",
    "        weight_code_list.append('4600')\n",
    "    elif one >= 46000 and one < 46250:\n",
    "        weight_code_list.append('4625')\n",
    "    elif one >= 46250 and one < 46500:\n",
    "        weight_code_list.append('4650')\n",
    "    elif one >= 46500 and one < 46750:\n",
    "        weight_code_list.append('4675')\n",
    "    elif one >= 46750 and one < 47000:\n",
    "        weight_code_list.append('4700')\n",
    "    elif one >= 47000 and one < 47250:\n",
    "        weight_code_list.append('4725')\n",
    "    elif one >= 47250 and one < 47500:\n",
    "        weight_code_list.append('4750')\n",
    "    elif one >= 47500 and one < 47750:\n",
    "        weight_code_list.append('4775')\n",
    "    elif one >= 47750 and one < 48000:\n",
    "        weight_code_list.append('4800')\n",
    "    elif one >= 48000 and one < 48250:\n",
    "        weight_code_list.append('4825')\n",
    "    elif one >= 48250 and one < 48500:\n",
    "        weight_code_list.append('4850')\n",
    "    elif one >= 48500 and one < 48750:\n",
    "        weight_code_list.append('4875')\n",
    "    elif one >= 48750 and one < 49000:\n",
    "        weight_code_list.append('4900')\n",
    "    elif one >= 49000 and one < 49250:\n",
    "        weight_code_list.append('4925')\n",
    "    elif one >= 49250 and one < 49500:\n",
    "        weight_code_list.append('4950')\n",
    "    elif one >= 49500 and one < 49750:\n",
    "        weight_code_list.append('4975')\n",
    "    elif one >= 49750 and one < 50000:\n",
    "        weight_code_list.append('5000')\n",
    "    elif one >= 50000:\n",
    "        weight_code_list.append('9999')"
   ]
  },
  {
   "cell_type": "code",
   "execution_count": 200,
   "metadata": {},
   "outputs": [
    {
     "data": {
      "text/plain": [
       "1528557"
      ]
     },
     "execution_count": 200,
     "metadata": {},
     "output_type": "execute_result"
    }
   ],
   "source": [
    "len(weight_code_list)"
   ]
  },
  {
   "cell_type": "code",
   "execution_count": 201,
   "metadata": {},
   "outputs": [
    {
     "data": {
      "text/plain": [
       "(1528557, 46)"
      ]
     },
     "execution_count": 201,
     "metadata": {},
     "output_type": "execute_result"
    }
   ],
   "source": [
    "gas_df.shape"
   ]
  },
  {
   "cell_type": "code",
   "execution_count": 202,
   "metadata": {},
   "outputs": [],
   "source": [
    "gas_df['총중량_코드'] = weight_code_list"
   ]
  },
  {
   "cell_type": "code",
   "execution_count": 203,
   "metadata": {},
   "outputs": [
    {
     "data": {
      "text/plain": [
       "'0250'"
      ]
     },
     "execution_count": 203,
     "metadata": {},
     "output_type": "execute_result"
    }
   ],
   "source": [
    "n = 250\n",
    "f'{n:0>4}'"
   ]
  },
  {
   "cell_type": "code",
   "execution_count": 204,
   "metadata": {},
   "outputs": [],
   "source": [
    "# 오류 : 9000개만 처리됨\n",
    "# weight_code_list = []\n",
    "# n1 = 250\n",
    "# for i, one in tqdm(enumerate(df5['총중량'])):\n",
    "#     for i in range(200):\n",
    "#         n1 += 250 * i\n",
    "#         n2 = n1 + 250\n",
    "#         s = f'{n2:0>4}'\n",
    "#         if one < 250:\n",
    "#             weight_code_list.append('0025')\n",
    "#         elif n1 <= one < n2:\n",
    "#             weight_code_list.append(s)\n",
    "#         elif one >= 50000:\n",
    "#             weight_code_list.append('9999')\n",
    "# len(weight_code_list)"
   ]
  },
  {
   "cell_type": "code",
   "execution_count": null,
   "metadata": {},
   "outputs": [],
   "source": []
  },
  {
   "attachments": {},
   "cell_type": "markdown",
   "metadata": {},
   "source": [
    "### 배기량으로 분류 현황"
   ]
  },
  {
   "cell_type": "code",
   "execution_count": 205,
   "metadata": {},
   "outputs": [
    {
     "data": {
      "text/plain": [
       "2497.0    412725\n",
       "1991.0    245077\n",
       "2902.0    139727\n",
       "2959.0     75052\n",
       "1995.0     68704\n",
       "           ...  \n",
       "2687.0         1\n",
       "5407.0         1\n",
       "2605.0         1\n",
       "1747.0         1\n",
       "2286.0         1\n",
       "Name: 배기량, Length: 627, dtype: int64"
      ]
     },
     "execution_count": 205,
     "metadata": {},
     "output_type": "execute_result"
    }
   ],
   "source": [
    "gas_df['배기량'].value_counts()"
   ]
  },
  {
   "cell_type": "code",
   "execution_count": 206,
   "metadata": {},
   "outputs": [
    {
     "data": {
      "text/plain": [
       "4"
      ]
     },
     "execution_count": 206,
     "metadata": {},
     "output_type": "execute_result"
    }
   ],
   "source": [
    "gas_df['배기량'].isnull().sum()"
   ]
  },
  {
   "cell_type": "code",
   "execution_count": 207,
   "metadata": {},
   "outputs": [],
   "source": [
    "gas_df['배기량'] = gas_df['배기량'].fillna(-1)"
   ]
  },
  {
   "cell_type": "code",
   "execution_count": 208,
   "metadata": {},
   "outputs": [
    {
     "name": "stderr",
     "output_type": "stream",
     "text": [
      "1528557it [00:01, 953040.31it/s] \n"
     ]
    }
   ],
   "source": [
    "gas_volume_list = []\n",
    "for i, one in tqdm(enumerate(gas_df['배기량'])):\n",
    "    if one == -1:\n",
    "        gas_volume_list.append('미기입')\n",
    "    elif one < 800:\n",
    "        gas_volume_list.append('0.8L 미만')\n",
    "    elif one >= 800 and one < 1000:\n",
    "        gas_volume_list.append('0.8L 이상 1.0L 미만')\n",
    "    elif one >= 1000 and one < 1600:\n",
    "        gas_volume_list.append('1.0L 이상 1.6L 미만')\n",
    "    elif one >= 1600 and one < 2000:\n",
    "        gas_volume_list.append('1.6L 이상 2.0L 미만')\n",
    "    elif one >= 2000 and one < 3000:\n",
    "        gas_volume_list.append('2.0L 이상 3.0L 미만')\n",
    "    elif one >= 3000 and one < 4000:\n",
    "        gas_volume_list.append('3.0L 이상 4.0L 미만')\n",
    "    elif one >= 4000 and one < 5000:\n",
    "        gas_volume_list.append('4.0L 이상 5.0L 미만')\n",
    "    elif one >= 5000 and one < 6000:\n",
    "        gas_volume_list.append('5.0L 이상 6.0L 미만')\n",
    "    elif one >= 6000 and one < 8000:\n",
    "        gas_volume_list.append('6.0L 이상 8.0L 미만')\n",
    "    elif one >= 8000 and one < 10000:\n",
    "        gas_volume_list.append('8.0L 이상 10.0L 미만')\n",
    "    elif one >= 10000:\n",
    "        gas_volume_list.append('10.0L 이상')"
   ]
  },
  {
   "cell_type": "code",
   "execution_count": 209,
   "metadata": {},
   "outputs": [
    {
     "data": {
      "text/plain": [
       "1528557"
      ]
     },
     "execution_count": 209,
     "metadata": {},
     "output_type": "execute_result"
    }
   ],
   "source": [
    "len(gas_volume_list)"
   ]
  },
  {
   "cell_type": "code",
   "execution_count": 210,
   "metadata": {},
   "outputs": [],
   "source": [
    "gas_df['배기량_분류'] = gas_volume_list"
   ]
  },
  {
   "cell_type": "code",
   "execution_count": 211,
   "metadata": {},
   "outputs": [
    {
     "data": {
      "text/html": [
       "<div>\n",
       "<style scoped>\n",
       "    .dataframe tbody tr th:only-of-type {\n",
       "        vertical-align: middle;\n",
       "    }\n",
       "\n",
       "    .dataframe tbody tr th {\n",
       "        vertical-align: top;\n",
       "    }\n",
       "\n",
       "    .dataframe thead th {\n",
       "        text-align: right;\n",
       "    }\n",
       "</style>\n",
       "<table border=\"1\" class=\"dataframe\">\n",
       "  <thead>\n",
       "    <tr style=\"text-align: right;\">\n",
       "      <th></th>\n",
       "      <th>배기량_분류</th>\n",
       "      <th>차대번호</th>\n",
       "    </tr>\n",
       "  </thead>\n",
       "  <tbody>\n",
       "    <tr>\n",
       "      <th>0</th>\n",
       "      <td>0.8L 미만</td>\n",
       "      <td>28673</td>\n",
       "    </tr>\n",
       "    <tr>\n",
       "      <th>1</th>\n",
       "      <td>0.8L 이상 1.0L 미만</td>\n",
       "      <td>171</td>\n",
       "    </tr>\n",
       "    <tr>\n",
       "      <th>2</th>\n",
       "      <td>1.0L 이상 1.6L 미만</td>\n",
       "      <td>165909</td>\n",
       "    </tr>\n",
       "    <tr>\n",
       "      <th>3</th>\n",
       "      <td>1.6L 이상 2.0L 미만</td>\n",
       "      <td>510876</td>\n",
       "    </tr>\n",
       "    <tr>\n",
       "      <th>4</th>\n",
       "      <td>10.0L 이상</td>\n",
       "      <td>16847</td>\n",
       "    </tr>\n",
       "    <tr>\n",
       "      <th>5</th>\n",
       "      <td>2.0L 이상 3.0L 미만</td>\n",
       "      <td>755436</td>\n",
       "    </tr>\n",
       "    <tr>\n",
       "      <th>6</th>\n",
       "      <td>3.0L 이상 4.0L 미만</td>\n",
       "      <td>31434</td>\n",
       "    </tr>\n",
       "    <tr>\n",
       "      <th>7</th>\n",
       "      <td>4.0L 이상 5.0L 미만</td>\n",
       "      <td>1340</td>\n",
       "    </tr>\n",
       "    <tr>\n",
       "      <th>8</th>\n",
       "      <td>5.0L 이상 6.0L 미만</td>\n",
       "      <td>15493</td>\n",
       "    </tr>\n",
       "    <tr>\n",
       "      <th>9</th>\n",
       "      <td>6.0L 이상 8.0L 미만</td>\n",
       "      <td>711</td>\n",
       "    </tr>\n",
       "    <tr>\n",
       "      <th>10</th>\n",
       "      <td>8.0L 이상 10.0L 미만</td>\n",
       "      <td>1663</td>\n",
       "    </tr>\n",
       "    <tr>\n",
       "      <th>11</th>\n",
       "      <td>미기입</td>\n",
       "      <td>4</td>\n",
       "    </tr>\n",
       "  </tbody>\n",
       "</table>\n",
       "</div>"
      ],
      "text/plain": [
       "              배기량_분류    차대번호\n",
       "0            0.8L 미만   28673\n",
       "1    0.8L 이상 1.0L 미만     171\n",
       "2    1.0L 이상 1.6L 미만  165909\n",
       "3    1.6L 이상 2.0L 미만  510876\n",
       "4           10.0L 이상   16847\n",
       "5    2.0L 이상 3.0L 미만  755436\n",
       "6    3.0L 이상 4.0L 미만   31434\n",
       "7    4.0L 이상 5.0L 미만    1340\n",
       "8    5.0L 이상 6.0L 미만   15493\n",
       "9    6.0L 이상 8.0L 미만     711\n",
       "10  8.0L 이상 10.0L 미만    1663\n",
       "11               미기입       4"
      ]
     },
     "execution_count": 211,
     "metadata": {},
     "output_type": "execute_result"
    }
   ],
   "source": [
    "total_gas_volume_df = gas_df.groupby(['배기량_분류'])['차대번호'].count().reset_index()\n",
    "total_gas_volume_df"
   ]
  },
  {
   "attachments": {},
   "cell_type": "markdown",
   "metadata": {},
   "source": [
    "#### [출력] [배기량]분류"
   ]
  },
  {
   "cell_type": "code",
   "execution_count": 492,
   "metadata": {},
   "outputs": [],
   "source": [
    "total_gas_volume_df.to_excel('analysis/[G4][배기량]분류_통계.xlsx', encoding='utf-8')"
   ]
  },
  {
   "attachments": {},
   "cell_type": "markdown",
   "metadata": {},
   "source": [
    "#### 배기량 code화"
   ]
  },
  {
   "cell_type": "code",
   "execution_count": 212,
   "metadata": {},
   "outputs": [
    {
     "name": "stderr",
     "output_type": "stream",
     "text": [
      "1528557it [00:01, 948612.65it/s] \n"
     ]
    }
   ],
   "source": [
    "gas_volume_code_list = []\n",
    "for i, one in tqdm(enumerate(gas_df['배기량'])):\n",
    "    if one < 800:\n",
    "        gas_volume_code_list.append('008')\n",
    "    elif one >= 800 and one < 1000:\n",
    "        gas_volume_code_list.append('010')\n",
    "    elif one >= 1000 and one < 1600:\n",
    "        gas_volume_code_list.append('016')\n",
    "    elif one >= 1600 and one < 2000:\n",
    "        gas_volume_code_list.append('020')\n",
    "    elif one >= 2000 and one < 2500:\n",
    "        gas_volume_code_list.append('025')\n",
    "    elif one >= 2500 and one < 3000:\n",
    "        gas_volume_code_list.append('030')\n",
    "    elif one >= 3000 and one < 3500:\n",
    "        gas_volume_code_list.append('035')\n",
    "    elif one >= 3500 and one < 4000:\n",
    "        gas_volume_code_list.append('040')\n",
    "    elif one >= 4000 and one < 4500:\n",
    "        gas_volume_code_list.append('045')\n",
    "    elif one >= 4500 and one < 5000:\n",
    "        gas_volume_code_list.append('050')\n",
    "    elif one >= 5000 and one < 5500:\n",
    "        gas_volume_code_list.append('055')\n",
    "    elif one >= 5500 and one < 6000:\n",
    "        gas_volume_code_list.append('060')\n",
    "    elif one >= 6000 and one < 6500:\n",
    "        gas_volume_code_list.append('065')\n",
    "    elif one >= 6500 and one < 7000:\n",
    "        gas_volume_code_list.append('070')\n",
    "    elif one >= 7000 and one < 7500:\n",
    "        gas_volume_code_list.append('075')\n",
    "    elif one >= 7500 and one < 8000:\n",
    "        gas_volume_code_list.append('080')\n",
    "    elif one >= 8000 and one < 8500:\n",
    "        gas_volume_code_list.append('085')\n",
    "    elif one >= 8500 and one < 9000:\n",
    "        gas_volume_code_list.append('090')\n",
    "    elif one >= 9000 and one < 9500:\n",
    "        gas_volume_code_list.append('095')\n",
    "    elif one >= 9500 and one < 10000:\n",
    "        gas_volume_code_list.append('100')\n",
    "    elif one >= 10000 and one < 10500:\n",
    "        gas_volume_code_list.append('105')\n",
    "    elif one >= 10500 and one < 11000:\n",
    "        gas_volume_code_list.append('110')\n",
    "    elif one >= 11000 and one < 11500:\n",
    "        gas_volume_code_list.append('115')\n",
    "    elif one >= 11500 and one < 12000:\n",
    "        gas_volume_code_list.append('120')\n",
    "    elif one >= 12000 and one < 12500:\n",
    "        gas_volume_code_list.append('125')\n",
    "    elif one >= 12500 and one < 13000:\n",
    "        gas_volume_code_list.append('130')\n",
    "    elif one >= 13000 and one < 13500:\n",
    "        gas_volume_code_list.append('135')\n",
    "    elif one >= 13500 and one < 14000:\n",
    "        gas_volume_code_list.append('140')\n",
    "    elif one >= 14000 and one < 14500:\n",
    "        gas_volume_code_list.append('145')\n",
    "    elif one >= 14500 and one < 15000:\n",
    "        gas_volume_code_list.append('150')\n",
    "    elif one >= 15000 and one < 15500:\n",
    "        gas_volume_code_list.append('155')\n",
    "    elif one >= 15500 and one < 16000:\n",
    "        gas_volume_code_list.append('160')\n",
    "    elif one >= 16000 and one < 16500:\n",
    "        gas_volume_code_list.append('165')\n",
    "    elif one >= 16500 and one < 17000:\n",
    "        gas_volume_code_list.append('170')\n",
    "    elif one >= 17000 and one < 18000:\n",
    "        gas_volume_code_list.append('180')\n",
    "    elif one >= 18000 and one < 18500:\n",
    "        gas_volume_code_list.append('185')\n",
    "    elif one >= 18500 and one < 19000:\n",
    "        gas_volume_code_list.append('190')\n",
    "    elif one >= 19000 and one < 19500:\n",
    "        gas_volume_code_list.append('195')\n",
    "    elif one >= 19500 and one < 20000:\n",
    "        gas_volume_code_list.append('200')\n",
    "    elif one >= 20000 and one < 20500:\n",
    "        gas_volume_code_list.append('205')\n",
    "    elif one >= 20500 and one < 21000:\n",
    "        gas_volume_code_list.append('210')\n",
    "    elif one >= 21000 and one < 21500:\n",
    "        gas_volume_code_list.append('215')\n",
    "    elif one >= 21500 and one < 22000:\n",
    "        gas_volume_code_list.append('220')\n",
    "    elif one >= 22000 and one < 22500:\n",
    "        gas_volume_code_list.append('225')\n",
    "    elif one >= 22500 and one < 23000:\n",
    "        gas_volume_code_list.append('230')\n",
    "    elif one >= 23000 and one < 23500:\n",
    "        gas_volume_code_list.append('235')\n",
    "    elif one >= 23500 and one < 24000:\n",
    "        gas_volume_code_list.append('240')\n",
    "    elif one >= 24000 and one < 24500:\n",
    "        gas_volume_code_list.append('245')\n",
    "    elif one >= 24500 and one < 25000:\n",
    "        gas_volume_code_list.append('250')\n",
    "    elif one >= 25000 and one < 25500:\n",
    "        gas_volume_code_list.append('255')\n",
    "    elif one >= 25500 and one < 26000:\n",
    "        gas_volume_code_list.append('260')\n",
    "    elif one >= 26000 and one < 26500:\n",
    "        gas_volume_code_list.append('265')\n",
    "    elif one >= 26500 and one < 27000:\n",
    "        gas_volume_code_list.append('270')\n",
    "    elif one >= 27000 and one < 27500:\n",
    "        gas_volume_code_list.append('275')\n",
    "    elif one >= 27500 and one < 28000:\n",
    "        gas_volume_code_list.append('280')\n",
    "    elif one >= 28000 and one < 28500:\n",
    "        gas_volume_code_list.append('285')\n",
    "    elif one >= 28500 and one < 29000:\n",
    "        gas_volume_code_list.append('290')\n",
    "    elif one >= 29000 and one < 29500:\n",
    "        gas_volume_code_list.append('295')\n",
    "    elif one >= 29500 and one < 30000:\n",
    "        gas_volume_code_list.append('300')"
   ]
  },
  {
   "cell_type": "code",
   "execution_count": 213,
   "metadata": {},
   "outputs": [
    {
     "data": {
      "text/plain": [
       "1528557"
      ]
     },
     "execution_count": 213,
     "metadata": {},
     "output_type": "execute_result"
    }
   ],
   "source": [
    "len(gas_volume_code_list)"
   ]
  },
  {
   "cell_type": "code",
   "execution_count": 214,
   "metadata": {},
   "outputs": [],
   "source": [
    "gas_df['배기량_코드'] = gas_volume_code_list"
   ]
  },
  {
   "cell_type": "code",
   "execution_count": 215,
   "metadata": {},
   "outputs": [],
   "source": [
    "gas_df['배출가스인증번호'] = gas_df['배출가스인증번호'].str.replace(' ', '')"
   ]
  },
  {
   "attachments": {},
   "cell_type": "markdown",
   "metadata": {},
   "source": [
    "### 배인 코드화"
   ]
  },
  {
   "cell_type": "code",
   "execution_count": 216,
   "metadata": {},
   "outputs": [
    {
     "data": {
      "text/plain": [
       "array([nan, '7MY-HD-14-68', '7MY-HD-24-31', '7MY-HD-24-09',\n",
       "       '7MY-HD-24-28', '7MY-KM-14-65', '6MY-SS-0M-24', '7MY-HD-13-58',\n",
       "       '7MY-KM-14-63', '7MY-HD-14-47', '7MY-HD-14-46', '7MY-DB-24-42',\n",
       "       '8MY-KM-13-19', '7MY-HD-14-57', '7MY-KM-14-64', '9MY-KM-14-41',\n",
       "       '7MY-HD-24-30', 'FMY-VTK-14-1', '5MY-HD-24-59', '6MY-HD-23-55',\n",
       "       '6MY-KM-14-61', '7MY-DW-13-07', '7MY-HD-24-29', '5MY-AD-14-18',\n",
       "       'FMY-VTK-14-4', '6MY-HD-24-12', '7MY-SY-14-48', '6MY-HD-24-100',\n",
       "       '7MY-HD-14-45', 'FMY-VTK-14-2', 'FMY-VTK-14-3', 'RMY-HD-20',\n",
       "       'VMY-HD-30', 'WMY-HD-32', '5MY-AD-14-12', '9MY-HD-14-21',\n",
       "       '5MY-AD-14-08', '7MY-SY-14-60', '7MY-SM-14-36', '6MY-HD-14-97',\n",
       "       '7MY-HD-24-08', '6MY-KM-24-81', 'CMY-VTK-14-01', 'CMY-VTK-14-02',\n",
       "       'KMY-HD-03', '6MY-HD-14-64', 'MMY-HD-11', '5MY-SY-23-58',\n",
       "       '6MY-HD-14-63', 'SMY-KM-32', '6MY-KM-24-06', '7MY-KM-14-52',\n",
       "       '8MY-HT-0M-24', '6MY-HD-24-44', '7MY-SY-14-34', '5MY-HB-24-02',\n",
       "       'BMY-PPE-14-29', '6MY-DW-14-18', '7MY-AD-14-04', '8MY-PA-14-3',\n",
       "       '7MY-SY-14-24', '6MY-KM-14-57', '5MY-KM-24-57', '8MY-DC-24-12',\n",
       "       '7MY-DC-24-69', 'XMY-HD-47', '7MY-KM-24-32', 'AMY-PPE-14-1051',\n",
       "       '9MY-AD-14-04', '6MY-AD-13-11', '7MY-SK-24-02', 'AMY-PPE-14-654',\n",
       "       '8MY-DC-24-15', '7MY-DC-24-72', '7MY-DC-23-70', '7MY-DC-23-69',\n",
       "       '7MY-DC-24-70', '7MY-MT-24-01', '8MY-DC-23-27', 'XMY-HD-44',\n",
       "       '8MY-SY-13-14', 'AMY-JL-13-9', '8MY-KM-14-29', 'AMY-PPE-14-888',\n",
       "       '5MY-HD-24-56', '6MY-HD-14-96', 'PMY-KM-20', '7MY-KM-24-33',\n",
       "       'AMY-PPE-24-320', 'AMY-PPS-14-180', 'AMY-PPE-14-800',\n",
       "       '7MY-MT-24-02', 'AMY-PPE-14-924', '7MY-VTK-24-01', '8MY-KM-14-21',\n",
       "       '7MY-VTK-24-02', '8MY-DC-24-27', '6MY-PA-14-4', '9MY-PA-13-1',\n",
       "       'AMY-PPE-14-779', 'AMY-PPE-14-691', '9MY-JL-14-4',\n",
       "       'AMY-PPE-14-631', 'AMY-PPE-14-297', 'AMY-PPE-14-225',\n",
       "       'AMY-PPE-24-01', '5MY-AD-13-06', '9MY-PPE-14-602', '9MY-PP-14-409',\n",
       "       '9MY-PPE-14-543', 'PMY-KM-19', '7MY-MK-14-04', '7MY-HK-0M-24',\n",
       "       '8MY-AD-14-03', '9MY-PP-14-W38', '5MY-PA-13-20', '8MY-AD-14-09',\n",
       "       '7MY-PA-14-1', '9MY-PP-14-333', '6MY-AD-14-10', '7MY-MK-14-07',\n",
       "       '6MY-MK-14-13', '7MY-PA-14-07', '7MY-DB-24-43', '5MY-AD-14-19',\n",
       "       '7MY-SY-14-49', '7MY-DC-24-71', '6MY-GK-14-01', '7MY-PA-14-2',\n",
       "       '5MY-AD-13-13', '7MY-AD-13-05', '7MY-AD-13-01', '7MY-HC-0M-24',\n",
       "       '8MY-HS-0M-24', '6MY-BK-13-08', '7MY-TK-0M-24', '8MY-DB-24-08',\n",
       "       '9MY-PP-24-56', '8MY-KL-0M-24', '8MY-DK-0M-24', '7MY-PA-13-11',\n",
       "       '5MY-SK-23-01', '7MY-SY-14-61', '7MY-DB-24-40', '8MY-KO-0M-24',\n",
       "       '7MY-DB-23-43', '6MY-KM-14-58', '7MY-DS-0M-24', '8MY-HK-0M-24',\n",
       "       '7MY-AD-13-06', '6MY-KM-14-59', '7MY-JJ-0M-24', '8MY-WS-0M-24',\n",
       "       '8MY-SJ-0M-24', 'TMY-KM-35', '6MY-PA-14-03', '7MY-DB-24-44',\n",
       "       '8MY-MM-0M-24', '7MY-HT-0M-24', '7MY-DK-24-04', '7MY-HS-0M-24',\n",
       "       '8MY-NK-0M-24', '7MY-SS-0M-24', '7MY-CH-0M-24', '8MY-BK-0M-24',\n",
       "       '7MY-SJ-0M-24', '8MY-FI-0M-24', '7MY-NS-0M-24', '8MY-JJ-0M-24',\n",
       "       '7MY-KJ-0M-24', 'LMY-HD-09', '8MY-HR-0M-24', '7MY-HD-23-01',\n",
       "       '8MY-DY-0M-24', '7MY-HH-0M-24', 'C135', '8MY-PP-14-1364',\n",
       "       '7MY-FI-0M-24', '6MY-MK-14-02', '7MY-PK-0M-24', '8MY-HB-0M-24',\n",
       "       '7MY-HR-0M-24', '8MY-SE-0M-24', '8MY-KM-0M-24', '7MY-BT-0M-24',\n",
       "       '7MY-SK-24-03', '7MY-JI-0M-24', '8MY-TK-0M-24', '8MY-DI-0M-24',\n",
       "       '5MY-VTK-24-01', '8MY-WY-0M-24', '8MY-SH-0M-24', '8MY-WI-0M-24',\n",
       "       '8MY-HC-0M-24', '8MY-KN-0M-24', '8MY-OT-0M-24', '8MY-BD-0M-24',\n",
       "       '8MY-JB-0M-24', '8MY-BT-0M-24', '6MY-DB-23-45', '8MY-AM-0M-24',\n",
       "       '8MY-EC-0M-24', '7MY-JW-0M-24', '7MY-SH-0M-24', '8MY-CR-0M-24',\n",
       "       '8MY-ET-0M-24', '8MY-DH-0M-24', '7MY-DR-0M-24', '8MY-BS-0M-24',\n",
       "       '7MY-KM-0M-24', '8MY-SN-0M-24', '5MY-BK-14-07', '7MY-ET-0M-24',\n",
       "       '8MY-SS-0M-24', '7MY-DB-23-40', '7MY-KL-0M-24', '7MY-HB-0M-24',\n",
       "       '8MY-FM-0M-24', '7MY-SW-0M-24', '6MY-DB-24-24', '7MY-WD-0M-24',\n",
       "       '7MY-MM-0M-24', '5MY-AD-13-07', '5MY-KM-24-64', '5MY-PA-14-20',\n",
       "       '5MY-HD-24-35', 'KMY-HD-04', 'MMY-HD-10', '5MY-PA-14-19',\n",
       "       '5MY-KM-24-17', '5MY-SY-24-48', '4MY-AD-20', '5MY-PA-14-17',\n",
       "       '4MY-DC-33', 'MMY-HD-14', '5MY-PA-14-18', '5MY-HB-24-03',\n",
       "       '4MY-PA-06', 'LMY-KM-07', 'WMY-HD-37', 'PMY-HD-17', '5MY-DC-23-06',\n",
       "       'LMY-HD-08', 'SMY-KM-30', 'KMY-HD-02', 'SMY-HD-21', 'JMY-HD-15',\n",
       "       'XMY-HD-55', 'WMY-HD-33', 'TMY-HD-23', 'SMY-KM-04', 'YKM-KM-12',\n",
       "       'XMY-HD-48', 'RMY-HD-19', 'KMY-HD-01', 'RMY-KM-25', 'RMY-KM-24',\n",
       "       'TY87-배K-02', 'VMY-HD-31', 'VMY-HD-29', 'VMY-HD-27', 'WMY-HD-34',\n",
       "       'MMY-HD-12', 'XMY-KM-47', 'NMY-JK-S-107', 'SMY-KM-27', 'WMY-KM-44',\n",
       "       'VMY-KM-42', 'WMY-HD-35', 'TMY-KM-37', 'VMY-KM-38', 'VMY-KM-40',\n",
       "       'TMY-KM-36', 'VMY-KM-39', 'SMY-KM-33', 'SMY-KM-29', 'PMY-KM-21',\n",
       "       'SMY-HD-22', 'VMY-HD-28', 'TMY-HD-26', 'PMY-KM-17', 'PMY-KM-18',\n",
       "       'TMY-KM-34', 'TY87-배K-10', '3MY-FK-08', 'KMY-HD-06', 'SMY-KM-31',\n",
       "       'TY87-배K-03', 'TMY-HD-24', 'NMY-KM-13', 'NMY-KM-12', 'PMY-HD-18',\n",
       "       'LMY-KM-11', 'PMY-KM-23', 'PMY-KM-16', 'KMY-KM-04', 'KMY-KM-05',\n",
       "       'KMY-KM-02', 'KMY-HD-05', 'MMY-KM-10', 'TY88-배K-09'], dtype=object)"
      ]
     },
     "execution_count": 216,
     "metadata": {},
     "output_type": "execute_result"
    }
   ],
   "source": [
    "gas_df['배출가스인증번호'].unique()"
   ]
  },
  {
   "cell_type": "code",
   "execution_count": 217,
   "metadata": {},
   "outputs": [
    {
     "data": {
      "text/plain": [
       "0         3MY-FK-08\n",
       "1         4MY-AD-20\n",
       "2         4MY-DC-33\n",
       "3         4MY-PA-06\n",
       "4      5MY-AD-13-06\n",
       "           ...     \n",
       "295       XMY-HD-47\n",
       "296       XMY-HD-48\n",
       "297       XMY-HD-55\n",
       "298       XMY-KM-47\n",
       "299       YKM-KM-12\n",
       "Name: index, Length: 300, dtype: object"
      ]
     },
     "execution_count": 217,
     "metadata": {},
     "output_type": "execute_result"
    }
   ],
   "source": [
    "temp = gas_df['배출가스인증번호'].value_counts().reset_index().sort_values('index')['index'].reset_index(drop=True)\n",
    "temp"
   ]
  },
  {
   "cell_type": "code",
   "execution_count": 218,
   "metadata": {},
   "outputs": [
    {
     "data": {
      "text/html": [
       "<div>\n",
       "<style scoped>\n",
       "    .dataframe tbody tr th:only-of-type {\n",
       "        vertical-align: middle;\n",
       "    }\n",
       "\n",
       "    .dataframe tbody tr th {\n",
       "        vertical-align: top;\n",
       "    }\n",
       "\n",
       "    .dataframe thead th {\n",
       "        text-align: right;\n",
       "    }\n",
       "</style>\n",
       "<table border=\"1\" class=\"dataframe\">\n",
       "  <thead>\n",
       "    <tr style=\"text-align: right;\">\n",
       "      <th></th>\n",
       "      <th>index</th>\n",
       "    </tr>\n",
       "  </thead>\n",
       "  <tbody>\n",
       "    <tr>\n",
       "      <th>0</th>\n",
       "      <td>3MY-FK-08</td>\n",
       "    </tr>\n",
       "    <tr>\n",
       "      <th>1</th>\n",
       "      <td>4MY-AD-20</td>\n",
       "    </tr>\n",
       "    <tr>\n",
       "      <th>2</th>\n",
       "      <td>4MY-DC-33</td>\n",
       "    </tr>\n",
       "    <tr>\n",
       "      <th>3</th>\n",
       "      <td>4MY-PA-06</td>\n",
       "    </tr>\n",
       "    <tr>\n",
       "      <th>4</th>\n",
       "      <td>5MY-AD-13-06</td>\n",
       "    </tr>\n",
       "    <tr>\n",
       "      <th>...</th>\n",
       "      <td>...</td>\n",
       "    </tr>\n",
       "    <tr>\n",
       "      <th>295</th>\n",
       "      <td>XMY-HD-47</td>\n",
       "    </tr>\n",
       "    <tr>\n",
       "      <th>296</th>\n",
       "      <td>XMY-HD-48</td>\n",
       "    </tr>\n",
       "    <tr>\n",
       "      <th>297</th>\n",
       "      <td>XMY-HD-55</td>\n",
       "    </tr>\n",
       "    <tr>\n",
       "      <th>298</th>\n",
       "      <td>XMY-KM-47</td>\n",
       "    </tr>\n",
       "    <tr>\n",
       "      <th>299</th>\n",
       "      <td>YKM-KM-12</td>\n",
       "    </tr>\n",
       "  </tbody>\n",
       "</table>\n",
       "<p>300 rows × 1 columns</p>\n",
       "</div>"
      ],
      "text/plain": [
       "            index\n",
       "0       3MY-FK-08\n",
       "1       4MY-AD-20\n",
       "2       4MY-DC-33\n",
       "3       4MY-PA-06\n",
       "4    5MY-AD-13-06\n",
       "..            ...\n",
       "295     XMY-HD-47\n",
       "296     XMY-HD-48\n",
       "297     XMY-HD-55\n",
       "298     XMY-KM-47\n",
       "299     YKM-KM-12\n",
       "\n",
       "[300 rows x 1 columns]"
      ]
     },
     "execution_count": 218,
     "metadata": {},
     "output_type": "execute_result"
    }
   ],
   "source": [
    "temp.to_frame()"
   ]
  },
  {
   "cell_type": "code",
   "execution_count": 219,
   "metadata": {},
   "outputs": [
    {
     "data": {
      "text/plain": [
       "300"
      ]
     },
     "execution_count": 219,
     "metadata": {},
     "output_type": "execute_result"
    }
   ],
   "source": [
    "gas_idx = []\n",
    "for i in range(1, 301):\n",
    "    s = f'EN{i:0>3}'\n",
    "    gas_idx.append(s)\n",
    "len(gas_idx)"
   ]
  },
  {
   "cell_type": "code",
   "execution_count": 220,
   "metadata": {},
   "outputs": [
    {
     "data": {
      "text/html": [
       "<div>\n",
       "<style scoped>\n",
       "    .dataframe tbody tr th:only-of-type {\n",
       "        vertical-align: middle;\n",
       "    }\n",
       "\n",
       "    .dataframe tbody tr th {\n",
       "        vertical-align: top;\n",
       "    }\n",
       "\n",
       "    .dataframe thead th {\n",
       "        text-align: right;\n",
       "    }\n",
       "</style>\n",
       "<table border=\"1\" class=\"dataframe\">\n",
       "  <thead>\n",
       "    <tr style=\"text-align: right;\">\n",
       "      <th></th>\n",
       "      <th>배출가스인증번호_코드</th>\n",
       "    </tr>\n",
       "  </thead>\n",
       "  <tbody>\n",
       "    <tr>\n",
       "      <th>0</th>\n",
       "      <td>EN001</td>\n",
       "    </tr>\n",
       "    <tr>\n",
       "      <th>1</th>\n",
       "      <td>EN002</td>\n",
       "    </tr>\n",
       "    <tr>\n",
       "      <th>2</th>\n",
       "      <td>EN003</td>\n",
       "    </tr>\n",
       "    <tr>\n",
       "      <th>3</th>\n",
       "      <td>EN004</td>\n",
       "    </tr>\n",
       "    <tr>\n",
       "      <th>4</th>\n",
       "      <td>EN005</td>\n",
       "    </tr>\n",
       "    <tr>\n",
       "      <th>...</th>\n",
       "      <td>...</td>\n",
       "    </tr>\n",
       "    <tr>\n",
       "      <th>295</th>\n",
       "      <td>EN296</td>\n",
       "    </tr>\n",
       "    <tr>\n",
       "      <th>296</th>\n",
       "      <td>EN297</td>\n",
       "    </tr>\n",
       "    <tr>\n",
       "      <th>297</th>\n",
       "      <td>EN298</td>\n",
       "    </tr>\n",
       "    <tr>\n",
       "      <th>298</th>\n",
       "      <td>EN299</td>\n",
       "    </tr>\n",
       "    <tr>\n",
       "      <th>299</th>\n",
       "      <td>EN300</td>\n",
       "    </tr>\n",
       "  </tbody>\n",
       "</table>\n",
       "<p>300 rows × 1 columns</p>\n",
       "</div>"
      ],
      "text/plain": [
       "    배출가스인증번호_코드\n",
       "0         EN001\n",
       "1         EN002\n",
       "2         EN003\n",
       "3         EN004\n",
       "4         EN005\n",
       "..          ...\n",
       "295       EN296\n",
       "296       EN297\n",
       "297       EN298\n",
       "298       EN299\n",
       "299       EN300\n",
       "\n",
       "[300 rows x 1 columns]"
      ]
     },
     "execution_count": 220,
     "metadata": {},
     "output_type": "execute_result"
    }
   ],
   "source": [
    "gas_idx_df = pd.DataFrame({'배출가스인증번호_코드':gas_idx})\n",
    "gas_idx_df"
   ]
  },
  {
   "cell_type": "code",
   "execution_count": 221,
   "metadata": {},
   "outputs": [
    {
     "data": {
      "text/html": [
       "<div>\n",
       "<style scoped>\n",
       "    .dataframe tbody tr th:only-of-type {\n",
       "        vertical-align: middle;\n",
       "    }\n",
       "\n",
       "    .dataframe tbody tr th {\n",
       "        vertical-align: top;\n",
       "    }\n",
       "\n",
       "    .dataframe thead th {\n",
       "        text-align: right;\n",
       "    }\n",
       "</style>\n",
       "<table border=\"1\" class=\"dataframe\">\n",
       "  <thead>\n",
       "    <tr style=\"text-align: right;\">\n",
       "      <th></th>\n",
       "      <th>0</th>\n",
       "      <th>1</th>\n",
       "    </tr>\n",
       "  </thead>\n",
       "  <tbody>\n",
       "    <tr>\n",
       "      <th>0</th>\n",
       "      <td>3MY-FK-08</td>\n",
       "      <td>EN001</td>\n",
       "    </tr>\n",
       "    <tr>\n",
       "      <th>1</th>\n",
       "      <td>4MY-AD-20</td>\n",
       "      <td>EN002</td>\n",
       "    </tr>\n",
       "    <tr>\n",
       "      <th>2</th>\n",
       "      <td>4MY-DC-33</td>\n",
       "      <td>EN003</td>\n",
       "    </tr>\n",
       "    <tr>\n",
       "      <th>3</th>\n",
       "      <td>4MY-PA-06</td>\n",
       "      <td>EN004</td>\n",
       "    </tr>\n",
       "    <tr>\n",
       "      <th>4</th>\n",
       "      <td>5MY-AD-13-06</td>\n",
       "      <td>EN005</td>\n",
       "    </tr>\n",
       "    <tr>\n",
       "      <th>...</th>\n",
       "      <td>...</td>\n",
       "      <td>...</td>\n",
       "    </tr>\n",
       "    <tr>\n",
       "      <th>295</th>\n",
       "      <td>XMY-HD-47</td>\n",
       "      <td>EN296</td>\n",
       "    </tr>\n",
       "    <tr>\n",
       "      <th>296</th>\n",
       "      <td>XMY-HD-48</td>\n",
       "      <td>EN297</td>\n",
       "    </tr>\n",
       "    <tr>\n",
       "      <th>297</th>\n",
       "      <td>XMY-HD-55</td>\n",
       "      <td>EN298</td>\n",
       "    </tr>\n",
       "    <tr>\n",
       "      <th>298</th>\n",
       "      <td>XMY-KM-47</td>\n",
       "      <td>EN299</td>\n",
       "    </tr>\n",
       "    <tr>\n",
       "      <th>299</th>\n",
       "      <td>YKM-KM-12</td>\n",
       "      <td>EN300</td>\n",
       "    </tr>\n",
       "  </tbody>\n",
       "</table>\n",
       "<p>300 rows × 2 columns</p>\n",
       "</div>"
      ],
      "text/plain": [
       "                0      1\n",
       "0       3MY-FK-08  EN001\n",
       "1       4MY-AD-20  EN002\n",
       "2       4MY-DC-33  EN003\n",
       "3       4MY-PA-06  EN004\n",
       "4    5MY-AD-13-06  EN005\n",
       "..            ...    ...\n",
       "295     XMY-HD-47  EN296\n",
       "296     XMY-HD-48  EN297\n",
       "297     XMY-HD-55  EN298\n",
       "298     XMY-KM-47  EN299\n",
       "299     YKM-KM-12  EN300\n",
       "\n",
       "[300 rows x 2 columns]"
      ]
     },
     "execution_count": 221,
     "metadata": {},
     "output_type": "execute_result"
    }
   ],
   "source": [
    "temp2 = pd.concat([temp, gas_idx_df], axis=1, ignore_index=True)\n",
    "temp2"
   ]
  },
  {
   "cell_type": "code",
   "execution_count": 222,
   "metadata": {},
   "outputs": [
    {
     "data": {
      "text/html": [
       "<div>\n",
       "<style scoped>\n",
       "    .dataframe tbody tr th:only-of-type {\n",
       "        vertical-align: middle;\n",
       "    }\n",
       "\n",
       "    .dataframe tbody tr th {\n",
       "        vertical-align: top;\n",
       "    }\n",
       "\n",
       "    .dataframe thead th {\n",
       "        text-align: right;\n",
       "    }\n",
       "</style>\n",
       "<table border=\"1\" class=\"dataframe\">\n",
       "  <thead>\n",
       "    <tr style=\"text-align: right;\">\n",
       "      <th></th>\n",
       "      <th>배출가스인증번호</th>\n",
       "      <th>배출가스인증번호_코드</th>\n",
       "    </tr>\n",
       "  </thead>\n",
       "  <tbody>\n",
       "    <tr>\n",
       "      <th>0</th>\n",
       "      <td>3MY-FK-08</td>\n",
       "      <td>EN001</td>\n",
       "    </tr>\n",
       "    <tr>\n",
       "      <th>1</th>\n",
       "      <td>4MY-AD-20</td>\n",
       "      <td>EN002</td>\n",
       "    </tr>\n",
       "    <tr>\n",
       "      <th>2</th>\n",
       "      <td>4MY-DC-33</td>\n",
       "      <td>EN003</td>\n",
       "    </tr>\n",
       "    <tr>\n",
       "      <th>3</th>\n",
       "      <td>4MY-PA-06</td>\n",
       "      <td>EN004</td>\n",
       "    </tr>\n",
       "    <tr>\n",
       "      <th>4</th>\n",
       "      <td>5MY-AD-13-06</td>\n",
       "      <td>EN005</td>\n",
       "    </tr>\n",
       "    <tr>\n",
       "      <th>...</th>\n",
       "      <td>...</td>\n",
       "      <td>...</td>\n",
       "    </tr>\n",
       "    <tr>\n",
       "      <th>295</th>\n",
       "      <td>XMY-HD-47</td>\n",
       "      <td>EN296</td>\n",
       "    </tr>\n",
       "    <tr>\n",
       "      <th>296</th>\n",
       "      <td>XMY-HD-48</td>\n",
       "      <td>EN297</td>\n",
       "    </tr>\n",
       "    <tr>\n",
       "      <th>297</th>\n",
       "      <td>XMY-HD-55</td>\n",
       "      <td>EN298</td>\n",
       "    </tr>\n",
       "    <tr>\n",
       "      <th>298</th>\n",
       "      <td>XMY-KM-47</td>\n",
       "      <td>EN299</td>\n",
       "    </tr>\n",
       "    <tr>\n",
       "      <th>299</th>\n",
       "      <td>YKM-KM-12</td>\n",
       "      <td>EN300</td>\n",
       "    </tr>\n",
       "  </tbody>\n",
       "</table>\n",
       "<p>300 rows × 2 columns</p>\n",
       "</div>"
      ],
      "text/plain": [
       "         배출가스인증번호 배출가스인증번호_코드\n",
       "0       3MY-FK-08       EN001\n",
       "1       4MY-AD-20       EN002\n",
       "2       4MY-DC-33       EN003\n",
       "3       4MY-PA-06       EN004\n",
       "4    5MY-AD-13-06       EN005\n",
       "..            ...         ...\n",
       "295     XMY-HD-47       EN296\n",
       "296     XMY-HD-48       EN297\n",
       "297     XMY-HD-55       EN298\n",
       "298     XMY-KM-47       EN299\n",
       "299     YKM-KM-12       EN300\n",
       "\n",
       "[300 rows x 2 columns]"
      ]
     },
     "execution_count": 222,
     "metadata": {},
     "output_type": "execute_result"
    }
   ],
   "source": [
    "temp2.columns = ['배출가스인증번호', '배출가스인증번호_코드']\n",
    "temp2"
   ]
  },
  {
   "cell_type": "code",
   "execution_count": 223,
   "metadata": {},
   "outputs": [
    {
     "name": "stdout",
     "output_type": "stream",
     "text": [
      "<class 'pandas.core.frame.DataFrame'>\n",
      "RangeIndex: 300 entries, 0 to 299\n",
      "Data columns (total 2 columns):\n",
      " #   Column       Non-Null Count  Dtype \n",
      "---  ------       --------------  ----- \n",
      " 0   배출가스인증번호     300 non-null    object\n",
      " 1   배출가스인증번호_코드  300 non-null    object\n",
      "dtypes: object(2)\n",
      "memory usage: 4.8+ KB\n"
     ]
    }
   ],
   "source": [
    "temp2.info()"
   ]
  },
  {
   "attachments": {},
   "cell_type": "markdown",
   "metadata": {},
   "source": [
    "#### [출력] 배인번호 코드화 리스트"
   ]
  },
  {
   "cell_type": "code",
   "execution_count": 666,
   "metadata": {},
   "outputs": [],
   "source": [
    "temp2[['배출가스인증번호_코드', '배출가스인증번호']].to_excel('analysis/[G4][배출가스인증번호]코드_리스트.xlsx')"
   ]
  },
  {
   "cell_type": "code",
   "execution_count": 224,
   "metadata": {},
   "outputs": [
    {
     "data": {
      "text/plain": [
       "(1528557, 49)"
      ]
     },
     "execution_count": 224,
     "metadata": {},
     "output_type": "execute_result"
    }
   ],
   "source": [
    "gas_df.shape"
   ]
  },
  {
   "cell_type": "code",
   "execution_count": 225,
   "metadata": {},
   "outputs": [
    {
     "data": {
      "text/plain": [
       "Index(['차량관리번호', '차량등록번호', '본거지법정동코드', '소유자구분', '차종_등록정보', '용도', '차대번호',\n",
       "       '최초등록일자', '차량연식', '차량제작일자', '검사유효일', '제원관리번호', '배출가스인증번호', '배출가스등급',\n",
       "       '저공해조치종류', '저공해조치구조변경YN', '취득일자', '취득금액', '차명', '차종_제원정보', '차종분류',\n",
       "       '차종유형', '자동차형식', '제작사명', '연료', '엔진형식', '총중량', '적재중량', '엔진출력', '배기량',\n",
       "       '승차인원', '차량길이', '차량너비', '차량높이', '원산지명', '삭제YN', '제원승인일자', '구동형식',\n",
       "       '변속기종류', 'code1', '시도', '시구군', '폐지여부', '대기관리권역', '대기관리권역YN', '총중량_분류',\n",
       "       '총중량_코드', '배기량_분류', '배기량_코드'],\n",
       "      dtype='object')"
      ]
     },
     "execution_count": 225,
     "metadata": {},
     "output_type": "execute_result"
    }
   ],
   "source": [
    "gas_df.columns"
   ]
  },
  {
   "cell_type": "code",
   "execution_count": 226,
   "metadata": {},
   "outputs": [
    {
     "data": {
      "text/plain": [
       "(1528557, 50)"
      ]
     },
     "execution_count": 226,
     "metadata": {},
     "output_type": "execute_result"
    }
   ],
   "source": [
    "gas_df = gas_df.merge(temp2, on='배출가스인증번호', how='left')\n",
    "gas_df.shape"
   ]
  },
  {
   "cell_type": "code",
   "execution_count": 227,
   "metadata": {},
   "outputs": [
    {
     "data": {
      "text/plain": [
       "Index(['차량관리번호', '차량등록번호', '본거지법정동코드', '소유자구분', '차종_등록정보', '용도', '차대번호',\n",
       "       '최초등록일자', '차량연식', '차량제작일자', '검사유효일', '제원관리번호', '배출가스인증번호', '배출가스등급',\n",
       "       '저공해조치종류', '저공해조치구조변경YN', '취득일자', '취득금액', '차명', '차종_제원정보', '차종분류',\n",
       "       '차종유형', '자동차형식', '제작사명', '연료', '엔진형식', '총중량', '적재중량', '엔진출력', '배기량',\n",
       "       '승차인원', '차량길이', '차량너비', '차량높이', '원산지명', '삭제YN', '제원승인일자', '구동형식',\n",
       "       '변속기종류', 'code1', '시도', '시구군', '폐지여부', '대기관리권역', '대기관리권역YN', '총중량_분류',\n",
       "       '총중량_코드', '배기량_분류', '배기량_코드', '배출가스인증번호_코드'],\n",
       "      dtype='object')"
      ]
     },
     "execution_count": 227,
     "metadata": {},
     "output_type": "execute_result"
    }
   ],
   "source": [
    "gas_df.columns"
   ]
  },
  {
   "attachments": {},
   "cell_type": "markdown",
   "metadata": {},
   "source": [
    "## 차대번호로 분류"
   ]
  },
  {
   "attachments": {},
   "cell_type": "markdown",
   "metadata": {},
   "source": [
    "### wmi 코드로 분류"
   ]
  },
  {
   "cell_type": "code",
   "execution_count": 228,
   "metadata": {},
   "outputs": [
    {
     "name": "stdout",
     "output_type": "stream",
     "text": [
      "<class 'pandas.core.frame.DataFrame'>\n",
      "RangeIndex: 690 entries, 0 to 689\n",
      "Data columns (total 8 columns):\n",
      " #   Column         Non-Null Count  Dtype  \n",
      "---  ------         --------------  -----  \n",
      " 0   WMI            690 non-null    object \n",
      " 1   MF CODE        690 non-null    object \n",
      " 2   Identifier     690 non-null    object \n",
      " 3   Manufacturer   690 non-null    object \n",
      " 4   Country        688 non-null    object \n",
      " 5   Vehicle Types  249 non-null    object \n",
      " 6   Description    54 non-null     object \n",
      " 7   참고             0 non-null      float64\n",
      "dtypes: float64(1), object(7)\n",
      "memory usage: 43.2+ KB\n"
     ]
    }
   ],
   "source": [
    "wmi = pd.read_excel('data/20190730_WMI CODE.xlsx', sheet_name='WMI CODE')\n",
    "wmi.info()"
   ]
  },
  {
   "cell_type": "code",
   "execution_count": 229,
   "metadata": {},
   "outputs": [],
   "source": [
    "df6 = gas_df.copy()"
   ]
  },
  {
   "cell_type": "code",
   "execution_count": 230,
   "metadata": {},
   "outputs": [
    {
     "data": {
      "text/plain": [
       "0    KMCLK18KP8C035195\n",
       "1    KMFLA18KP8C031274\n",
       "2    KLACA26RD8B226753\n",
       "3    KMCGK17HP8C086937\n",
       "4    KMCYSS7JP7U084697\n",
       "Name: 차대번호, dtype: object"
      ]
     },
     "execution_count": 230,
     "metadata": {},
     "output_type": "execute_result"
    }
   ],
   "source": [
    "df6['차대번호'].head()"
   ]
  },
  {
   "cell_type": "code",
   "execution_count": 231,
   "metadata": {},
   "outputs": [],
   "source": [
    "df6['wmi'] = df6['차대번호'].str[:3]"
   ]
  },
  {
   "cell_type": "code",
   "execution_count": 232,
   "metadata": {},
   "outputs": [
    {
     "data": {
      "text/plain": [
       "0    KMC\n",
       "1    KMF\n",
       "2    KLA\n",
       "3    KMC\n",
       "4    KMC\n",
       "Name: wmi, dtype: object"
      ]
     },
     "execution_count": 232,
     "metadata": {},
     "output_type": "execute_result"
    }
   ],
   "source": [
    "df6['wmi'].head()"
   ]
  },
  {
   "cell_type": "code",
   "execution_count": 233,
   "metadata": {},
   "outputs": [
    {
     "data": {
      "text/html": [
       "<div>\n",
       "<style scoped>\n",
       "    .dataframe tbody tr th:only-of-type {\n",
       "        vertical-align: middle;\n",
       "    }\n",
       "\n",
       "    .dataframe tbody tr th {\n",
       "        vertical-align: top;\n",
       "    }\n",
       "\n",
       "    .dataframe thead th {\n",
       "        text-align: right;\n",
       "    }\n",
       "</style>\n",
       "<table border=\"1\" class=\"dataframe\">\n",
       "  <thead>\n",
       "    <tr style=\"text-align: right;\">\n",
       "      <th></th>\n",
       "      <th>차대번호</th>\n",
       "      <th>wmi</th>\n",
       "      <th>WMI</th>\n",
       "    </tr>\n",
       "  </thead>\n",
       "  <tbody>\n",
       "    <tr>\n",
       "      <th>0</th>\n",
       "      <td>KMCLK18KP8C035195</td>\n",
       "      <td>KMC</td>\n",
       "      <td>NaN</td>\n",
       "    </tr>\n",
       "    <tr>\n",
       "      <th>1</th>\n",
       "      <td>KMFLA18KP8C031274</td>\n",
       "      <td>KMF</td>\n",
       "      <td>KMF</td>\n",
       "    </tr>\n",
       "    <tr>\n",
       "      <th>2</th>\n",
       "      <td>KLACA26RD8B226753</td>\n",
       "      <td>KLA</td>\n",
       "      <td>KLA</td>\n",
       "    </tr>\n",
       "    <tr>\n",
       "      <th>3</th>\n",
       "      <td>KMCGK17HP8C086937</td>\n",
       "      <td>KMC</td>\n",
       "      <td>NaN</td>\n",
       "    </tr>\n",
       "    <tr>\n",
       "      <th>4</th>\n",
       "      <td>KMCYSS7JP7U084697</td>\n",
       "      <td>KMC</td>\n",
       "      <td>NaN</td>\n",
       "    </tr>\n",
       "  </tbody>\n",
       "</table>\n",
       "</div>"
      ],
      "text/plain": [
       "                차대번호  wmi  WMI\n",
       "0  KMCLK18KP8C035195  KMC  NaN\n",
       "1  KMFLA18KP8C031274  KMF  KMF\n",
       "2  KLACA26RD8B226753  KLA  KLA\n",
       "3  KMCGK17HP8C086937  KMC  NaN\n",
       "4  KMCYSS7JP7U084697  KMC  NaN"
      ]
     },
     "execution_count": 233,
     "metadata": {},
     "output_type": "execute_result"
    }
   ],
   "source": [
    "df6 = df6.merge(wmi, left_on='wmi', right_on='WMI', how='left')\n",
    "df6[['차대번호', 'wmi', 'WMI']].head()"
   ]
  },
  {
   "cell_type": "code",
   "execution_count": 234,
   "metadata": {},
   "outputs": [
    {
     "data": {
      "text/plain": [
       "(1528557, 59)"
      ]
     },
     "execution_count": 234,
     "metadata": {},
     "output_type": "execute_result"
    }
   ],
   "source": [
    "df6.shape"
   ]
  },
  {
   "cell_type": "code",
   "execution_count": 235,
   "metadata": {},
   "outputs": [
    {
     "data": {
      "text/plain": [
       "75232"
      ]
     },
     "execution_count": 235,
     "metadata": {},
     "output_type": "execute_result"
    }
   ],
   "source": [
    "df6['WMI'].isnull().sum()"
   ]
  },
  {
   "cell_type": "code",
   "execution_count": 236,
   "metadata": {},
   "outputs": [
    {
     "data": {
      "text/plain": [
       "75232"
      ]
     },
     "execution_count": 236,
     "metadata": {},
     "output_type": "execute_result"
    }
   ],
   "source": [
    "df6['Manufacturer'].isnull().sum()"
   ]
  },
  {
   "cell_type": "code",
   "execution_count": 237,
   "metadata": {},
   "outputs": [
    {
     "data": {
      "text/plain": [
       "Index(['WMI', 'MF CODE', 'Identifier', 'Manufacturer', 'Country',\n",
       "       'Vehicle Types', 'Description', '참고'],\n",
       "      dtype='object')"
      ]
     },
     "execution_count": 237,
     "metadata": {},
     "output_type": "execute_result"
    }
   ],
   "source": [
    "wmi.columns"
   ]
  },
  {
   "cell_type": "code",
   "execution_count": 238,
   "metadata": {},
   "outputs": [
    {
     "data": {
      "text/html": [
       "<div>\n",
       "<style scoped>\n",
       "    .dataframe tbody tr th:only-of-type {\n",
       "        vertical-align: middle;\n",
       "    }\n",
       "\n",
       "    .dataframe tbody tr th {\n",
       "        vertical-align: top;\n",
       "    }\n",
       "\n",
       "    .dataframe thead th {\n",
       "        text-align: right;\n",
       "    }\n",
       "</style>\n",
       "<table border=\"1\" class=\"dataframe\">\n",
       "  <thead>\n",
       "    <tr style=\"text-align: right;\">\n",
       "      <th></th>\n",
       "      <th>WMI</th>\n",
       "      <th>MF CODE</th>\n",
       "      <th>Identifier</th>\n",
       "      <th>Manufacturer</th>\n",
       "      <th>Country</th>\n",
       "      <th>Vehicle Types</th>\n",
       "      <th>Description</th>\n",
       "      <th>참고</th>\n",
       "    </tr>\n",
       "  </thead>\n",
       "  <tbody>\n",
       "    <tr>\n",
       "      <th>0</th>\n",
       "      <td>NaN</td>\n",
       "      <td>NaN</td>\n",
       "      <td>NaN</td>\n",
       "      <td>NaN</td>\n",
       "      <td>NaN</td>\n",
       "      <td>NaN</td>\n",
       "      <td>NaN</td>\n",
       "      <td>NaN</td>\n",
       "    </tr>\n",
       "    <tr>\n",
       "      <th>1</th>\n",
       "      <td>KMF</td>\n",
       "      <td>HYUN</td>\n",
       "      <td>Hyundai</td>\n",
       "      <td>Hyundai</td>\n",
       "      <td>Korea</td>\n",
       "      <td>Commercail vehicle</td>\n",
       "      <td>NaN</td>\n",
       "      <td>NaN</td>\n",
       "    </tr>\n",
       "    <tr>\n",
       "      <th>2</th>\n",
       "      <td>KLA</td>\n",
       "      <td>GM D</td>\n",
       "      <td>GM Daewoo</td>\n",
       "      <td>Daewoo General Motors South Korea</td>\n",
       "      <td>Korea</td>\n",
       "      <td>NaN</td>\n",
       "      <td>NaN</td>\n",
       "      <td>NaN</td>\n",
       "    </tr>\n",
       "    <tr>\n",
       "      <th>3</th>\n",
       "      <td>NaN</td>\n",
       "      <td>NaN</td>\n",
       "      <td>NaN</td>\n",
       "      <td>NaN</td>\n",
       "      <td>NaN</td>\n",
       "      <td>NaN</td>\n",
       "      <td>NaN</td>\n",
       "      <td>NaN</td>\n",
       "    </tr>\n",
       "    <tr>\n",
       "      <th>4</th>\n",
       "      <td>NaN</td>\n",
       "      <td>NaN</td>\n",
       "      <td>NaN</td>\n",
       "      <td>NaN</td>\n",
       "      <td>NaN</td>\n",
       "      <td>NaN</td>\n",
       "      <td>NaN</td>\n",
       "      <td>NaN</td>\n",
       "    </tr>\n",
       "  </tbody>\n",
       "</table>\n",
       "</div>"
      ],
      "text/plain": [
       "   WMI MF CODE Identifier                       Manufacturer Country  \\\n",
       "0  NaN     NaN        NaN                                NaN     NaN   \n",
       "1  KMF    HYUN    Hyundai                            Hyundai   Korea   \n",
       "2  KLA    GM D  GM Daewoo  Daewoo General Motors South Korea   Korea   \n",
       "3  NaN     NaN        NaN                                NaN     NaN   \n",
       "4  NaN     NaN        NaN                                NaN     NaN   \n",
       "\n",
       "        Vehicle Types Description  참고  \n",
       "0                 NaN         NaN NaN  \n",
       "1  Commercail vehicle         NaN NaN  \n",
       "2                 NaN         NaN NaN  \n",
       "3                 NaN         NaN NaN  \n",
       "4                 NaN         NaN NaN  "
      ]
     },
     "execution_count": 238,
     "metadata": {},
     "output_type": "execute_result"
    }
   ],
   "source": [
    "df6[['WMI', 'MF CODE', 'Identifier', 'Manufacturer', 'Country', 'Vehicle Types', 'Description', '참고']].head()"
   ]
  },
  {
   "cell_type": "code",
   "execution_count": 239,
   "metadata": {},
   "outputs": [
    {
     "data": {
      "text/plain": [
       "75232"
      ]
     },
     "execution_count": 239,
     "metadata": {},
     "output_type": "execute_result"
    }
   ],
   "source": [
    "df6['Identifier'].isnull().sum()"
   ]
  },
  {
   "cell_type": "code",
   "execution_count": 240,
   "metadata": {},
   "outputs": [],
   "source": [
    "df6['Manufacturer'] = df6['Manufacturer'].fillna(-1)\n",
    "df6['Identifier'] = df6['Identifier'].fillna(-1)"
   ]
  },
  {
   "cell_type": "code",
   "execution_count": 241,
   "metadata": {},
   "outputs": [
    {
     "data": {
      "text/html": [
       "<div>\n",
       "<style scoped>\n",
       "    .dataframe tbody tr th:only-of-type {\n",
       "        vertical-align: middle;\n",
       "    }\n",
       "\n",
       "    .dataframe tbody tr th {\n",
       "        vertical-align: top;\n",
       "    }\n",
       "\n",
       "    .dataframe thead th {\n",
       "        text-align: right;\n",
       "    }\n",
       "</style>\n",
       "<table border=\"1\" class=\"dataframe\">\n",
       "  <thead>\n",
       "    <tr style=\"text-align: right;\">\n",
       "      <th></th>\n",
       "      <th>Identifier</th>\n",
       "      <th>차대번호</th>\n",
       "    </tr>\n",
       "  </thead>\n",
       "  <tbody>\n",
       "    <tr>\n",
       "      <th>0</th>\n",
       "      <td>-1</td>\n",
       "      <td>75232</td>\n",
       "    </tr>\n",
       "    <tr>\n",
       "      <th>1</th>\n",
       "      <td>Alfa Romeo</td>\n",
       "      <td>1</td>\n",
       "    </tr>\n",
       "    <tr>\n",
       "      <th>2</th>\n",
       "      <td>Audi</td>\n",
       "      <td>2107</td>\n",
       "    </tr>\n",
       "    <tr>\n",
       "      <th>3</th>\n",
       "      <td>Austin-Rover</td>\n",
       "      <td>83</td>\n",
       "    </tr>\n",
       "    <tr>\n",
       "      <th>4</th>\n",
       "      <td>BMW</td>\n",
       "      <td>2209</td>\n",
       "    </tr>\n",
       "    <tr>\n",
       "      <th>...</th>\n",
       "      <td>...</td>\n",
       "      <td>...</td>\n",
       "    </tr>\n",
       "    <tr>\n",
       "      <th>71</th>\n",
       "      <td>Toyota</td>\n",
       "      <td>140</td>\n",
       "    </tr>\n",
       "    <tr>\n",
       "      <th>72</th>\n",
       "      <td>Toyota</td>\n",
       "      <td>35</td>\n",
       "    </tr>\n",
       "    <tr>\n",
       "      <th>73</th>\n",
       "      <td>Volkswagen</td>\n",
       "      <td>5924</td>\n",
       "    </tr>\n",
       "    <tr>\n",
       "      <th>74</th>\n",
       "      <td>Volvo</td>\n",
       "      <td>6667</td>\n",
       "    </tr>\n",
       "    <tr>\n",
       "      <th>75</th>\n",
       "      <td>smart</td>\n",
       "      <td>3</td>\n",
       "    </tr>\n",
       "  </tbody>\n",
       "</table>\n",
       "<p>76 rows × 2 columns</p>\n",
       "</div>"
      ],
      "text/plain": [
       "      Identifier   차대번호\n",
       "0             -1  75232\n",
       "1     Alfa Romeo      1\n",
       "2           Audi   2107\n",
       "3   Austin-Rover     83\n",
       "4            BMW   2209\n",
       "..           ...    ...\n",
       "71        Toyota    140\n",
       "72       Toyota      35\n",
       "73    Volkswagen   5924\n",
       "74         Volvo   6667\n",
       "75         smart      3\n",
       "\n",
       "[76 rows x 2 columns]"
      ]
     },
     "execution_count": 241,
     "metadata": {},
     "output_type": "execute_result"
    }
   ],
   "source": [
    "manu_df = df6.groupby('Identifier')['차대번호'].count().reset_index()\n",
    "manu_df"
   ]
  },
  {
   "cell_type": "code",
   "execution_count": 242,
   "metadata": {},
   "outputs": [
    {
     "data": {
      "text/html": [
       "<div>\n",
       "<style scoped>\n",
       "    .dataframe tbody tr th:only-of-type {\n",
       "        vertical-align: middle;\n",
       "    }\n",
       "\n",
       "    .dataframe tbody tr th {\n",
       "        vertical-align: top;\n",
       "    }\n",
       "\n",
       "    .dataframe thead th {\n",
       "        text-align: right;\n",
       "    }\n",
       "</style>\n",
       "<table border=\"1\" class=\"dataframe\">\n",
       "  <thead>\n",
       "    <tr style=\"text-align: right;\">\n",
       "      <th></th>\n",
       "      <th>Identifier</th>\n",
       "      <th>차대번호</th>\n",
       "    </tr>\n",
       "  </thead>\n",
       "  <tbody>\n",
       "    <tr>\n",
       "      <th>0</th>\n",
       "      <td>Hyundai</td>\n",
       "      <td>887146</td>\n",
       "    </tr>\n",
       "    <tr>\n",
       "      <th>1</th>\n",
       "      <td>Kia</td>\n",
       "      <td>358326</td>\n",
       "    </tr>\n",
       "    <tr>\n",
       "      <th>2</th>\n",
       "      <td>GM Daewoo</td>\n",
       "      <td>116233</td>\n",
       "    </tr>\n",
       "    <tr>\n",
       "      <th>3</th>\n",
       "      <td>-1</td>\n",
       "      <td>75232</td>\n",
       "    </tr>\n",
       "    <tr>\n",
       "      <th>4</th>\n",
       "      <td>SsangYong</td>\n",
       "      <td>31200</td>\n",
       "    </tr>\n",
       "    <tr>\n",
       "      <th>...</th>\n",
       "      <td>...</td>\n",
       "      <td>...</td>\n",
       "    </tr>\n",
       "    <tr>\n",
       "      <th>71</th>\n",
       "      <td>Neoplan</td>\n",
       "      <td>1</td>\n",
       "    </tr>\n",
       "    <tr>\n",
       "      <th>72</th>\n",
       "      <td>Matra</td>\n",
       "      <td>1</td>\n",
       "    </tr>\n",
       "    <tr>\n",
       "      <th>73</th>\n",
       "      <td>Daimler</td>\n",
       "      <td>1</td>\n",
       "    </tr>\n",
       "    <tr>\n",
       "      <th>74</th>\n",
       "      <td>Kenworth</td>\n",
       "      <td>1</td>\n",
       "    </tr>\n",
       "    <tr>\n",
       "      <th>75</th>\n",
       "      <td>Alfa Romeo</td>\n",
       "      <td>1</td>\n",
       "    </tr>\n",
       "  </tbody>\n",
       "</table>\n",
       "<p>76 rows × 2 columns</p>\n",
       "</div>"
      ],
      "text/plain": [
       "    Identifier    차대번호\n",
       "0      Hyundai  887146\n",
       "1          Kia  358326\n",
       "2    GM Daewoo  116233\n",
       "3           -1   75232\n",
       "4    SsangYong   31200\n",
       "..         ...     ...\n",
       "71     Neoplan       1\n",
       "72       Matra       1\n",
       "73     Daimler       1\n",
       "74    Kenworth       1\n",
       "75  Alfa Romeo       1\n",
       "\n",
       "[76 rows x 2 columns]"
      ]
     },
     "execution_count": 242,
     "metadata": {},
     "output_type": "execute_result"
    }
   ],
   "source": [
    "manu_df = manu_df.sort_values('차대번호', ascending=False).reset_index(drop=True)\n",
    "manu_df"
   ]
  },
  {
   "attachments": {},
   "cell_type": "markdown",
   "metadata": {},
   "source": [
    "#### [출력] Identifier별 차대번호 통계"
   ]
  },
  {
   "cell_type": "code",
   "execution_count": 524,
   "metadata": {},
   "outputs": [],
   "source": [
    "# 제작사(Manufacturer)별 차대번호 통계\n",
    "manu_df.to_excel('analysis/[G4][차대번호]제작사별_통계.xlsx', encoding='utf-8')"
   ]
  },
  {
   "attachments": {},
   "cell_type": "markdown",
   "metadata": {},
   "source": [
    "## 차대번호"
   ]
  },
  {
   "cell_type": "code",
   "execution_count": 243,
   "metadata": {},
   "outputs": [],
   "source": [
    "# - 오류\n",
    "#     - 1\\. null 값 : 0\n",
    "#     - 2\\. 정상(17자리, 영문 포함) : 1525955\n",
    "#     - 3\\. 17자리, 영문X : 1\n",
    "#     - 4\\. 17자리X, 영문 : 57\n",
    "#     - 5\\. 17자리X, 영문X : 2573"
   ]
  },
  {
   "cell_type": "code",
   "execution_count": 244,
   "metadata": {},
   "outputs": [
    {
     "name": "stdout",
     "output_type": "stream",
     "text": [
      "<class 'pandas.core.frame.DataFrame'>\n",
      "Int64Index: 1528557 entries, 0 to 1528556\n",
      "Data columns (total 59 columns):\n",
      " #   Column         Non-Null Count    Dtype  \n",
      "---  ------         --------------    -----  \n",
      " 0   차량관리번호         1528557 non-null  object \n",
      " 1   차량등록번호         1528557 non-null  object \n",
      " 2   본거지법정동코드       1528557 non-null  int64  \n",
      " 3   소유자구분          1528557 non-null  object \n",
      " 4   차종_등록정보        1528555 non-null  object \n",
      " 5   용도             1528557 non-null  object \n",
      " 6   차대번호           1528557 non-null  object \n",
      " 7   최초등록일자         1528557 non-null  int64  \n",
      " 8   차량연식           1528557 non-null  int64  \n",
      " 9   차량제작일자         1358915 non-null  float64\n",
      " 10  검사유효일          1528545 non-null  float64\n",
      " 11  제원관리번호         1528557 non-null  object \n",
      " 12  배출가스인증번호       1405554 non-null  object \n",
      " 13  배출가스등급         1528557 non-null  int64  \n",
      " 14  저공해조치종류        195 non-null      object \n",
      " 15  저공해조치구조변경YN    1528557 non-null  object \n",
      " 16  취득일자           1435498 non-null  object \n",
      " 17  취득금액           1453590 non-null  float64\n",
      " 18  차명             1528557 non-null  object \n",
      " 19  차종_제원정보        1528557 non-null  object \n",
      " 20  차종분류           1528557 non-null  object \n",
      " 21  차종유형           1528557 non-null  object \n",
      " 22  자동차형식          1528273 non-null  object \n",
      " 23  제작사명           1518665 non-null  object \n",
      " 24  연료             1528557 non-null  object \n",
      " 25  엔진형식           1526711 non-null  object \n",
      " 26  총중량            1528557 non-null  float64\n",
      " 27  적재중량           1528046 non-null  float64\n",
      " 28  엔진출력           1528198 non-null  object \n",
      " 29  배기량            1528557 non-null  float64\n",
      " 30  승차인원           1528557 non-null  int64  \n",
      " 31  차량길이           1528556 non-null  float64\n",
      " 32  차량너비           1528556 non-null  float64\n",
      " 33  차량높이           1528554 non-null  float64\n",
      " 34  원산지명           1509474 non-null  object \n",
      " 35  삭제YN           1528557 non-null  object \n",
      " 36  제원승인일자         1528126 non-null  object \n",
      " 37  구동형식           41 non-null       object \n",
      " 38  변속기종류          1528397 non-null  object \n",
      " 39  code1          1528557 non-null  int64  \n",
      " 40  시도             1528557 non-null  object \n",
      " 41  시구군            1520364 non-null  object \n",
      " 42  폐지여부           1528557 non-null  object \n",
      " 43  대기관리권역         1528557 non-null  object \n",
      " 44  대기관리권역YN       1528557 non-null  object \n",
      " 45  총중량_분류         1528557 non-null  object \n",
      " 46  총중량_코드         1528557 non-null  object \n",
      " 47  배기량_분류         1528557 non-null  object \n",
      " 48  배기량_코드         1528557 non-null  object \n",
      " 49  배출가스인증번호_코드    1405554 non-null  object \n",
      " 50  wmi            1528557 non-null  object \n",
      " 51  WMI            1453325 non-null  object \n",
      " 52  MF CODE        1453325 non-null  object \n",
      " 53  Identifier     1528557 non-null  object \n",
      " 54  Manufacturer   1528557 non-null  object \n",
      " 55  Country        1422125 non-null  object \n",
      " 56  Vehicle Types  1258283 non-null  object \n",
      " 57  Description    1221 non-null     object \n",
      " 58  참고             0 non-null        float64\n",
      "dtypes: float64(10), int64(6), object(43)\n",
      "memory usage: 699.7+ MB\n"
     ]
    }
   ],
   "source": [
    "df6.info()"
   ]
  },
  {
   "cell_type": "code",
   "execution_count": 245,
   "metadata": {},
   "outputs": [
    {
     "data": {
      "text/plain": [
       "0"
      ]
     },
     "execution_count": 245,
     "metadata": {},
     "output_type": "execute_result"
    }
   ],
   "source": [
    "df6['차대번호'].isnull().sum()"
   ]
  },
  {
   "cell_type": "code",
   "execution_count": 246,
   "metadata": {},
   "outputs": [
    {
     "data": {
      "text/plain": [
       "17"
      ]
     },
     "execution_count": 246,
     "metadata": {},
     "output_type": "execute_result"
    }
   ],
   "source": [
    "len('KMFZCY7JBCU784032')"
   ]
  },
  {
   "attachments": {},
   "cell_type": "markdown",
   "metadata": {},
   "source": [
    "### 차대번호 정상 확인"
   ]
  },
  {
   "cell_type": "code",
   "execution_count": 247,
   "metadata": {},
   "outputs": [
    {
     "name": "stderr",
     "output_type": "stream",
     "text": [
      "1528557it [00:02, 659461.85it/s]\n"
     ]
    },
    {
     "data": {
      "text/plain": [
       "1525926"
      ]
     },
     "execution_count": 247,
     "metadata": {},
     "output_type": "execute_result"
    }
   ],
   "source": [
    "# 17자리, 영문 -> 정상 : 1525955\n",
    "count = 0\n",
    "p61 = re.compile('[a-zA-Z]+')\n",
    "idx61 = []\n",
    "for i, one in tqdm(enumerate(df6.loc[:, '차대번호'].to_numpy())):\n",
    "    if len(str(one)) == 17 and p61.search(str(one)):\n",
    "        idx61.append(i)\n",
    "        count += 1\n",
    "count"
   ]
  },
  {
   "cell_type": "code",
   "execution_count": 248,
   "metadata": {},
   "outputs": [
    {
     "name": "stderr",
     "output_type": "stream",
     "text": [
      "1525926it [00:00, 2102910.48it/s]\n"
     ]
    },
    {
     "data": {
      "text/plain": [
       "1018"
      ]
     },
     "execution_count": 248,
     "metadata": {},
     "output_type": "execute_result"
    }
   ],
   "source": [
    "# 정상에서 \"I, O, Q\" 포함한 값 : 1018\n",
    "temp61 = df6.loc[idx61, '차대번호'].to_numpy()\n",
    "idx61_1 = []\n",
    "for i, one in tqdm(enumerate(temp61)):\n",
    "    if ('I' in one) or ('O' in one) or ('Q' in one):\n",
    "        idx61_1.append(idx61[i])\n",
    "len(idx61_1)"
   ]
  },
  {
   "cell_type": "code",
   "execution_count": 249,
   "metadata": {},
   "outputs": [
    {
     "data": {
      "text/plain": [
       "1142      WPOZZZ96ZLS402952\n",
       "117803    WPOZZZ96ZKS400603\n",
       "330303    YV2ABSOC4AA695671\n",
       "346135    YV2ABSOC1AA694168\n",
       "346256    YV2ABSOC2AA693157\n",
       "Name: 차대번호, dtype: object"
      ]
     },
     "execution_count": 249,
     "metadata": {},
     "output_type": "execute_result"
    }
   ],
   "source": [
    "df6.iloc[idx61_1, 6][:5]"
   ]
  },
  {
   "cell_type": "code",
   "execution_count": 250,
   "metadata": {},
   "outputs": [
    {
     "name": "stderr",
     "output_type": "stream",
     "text": [
      "1528557it [00:13, 114383.65it/s]\n"
     ]
    },
    {
     "data": {
      "text/plain": [
       "1"
      ]
     },
     "execution_count": 250,
     "metadata": {},
     "output_type": "execute_result"
    }
   ],
   "source": [
    "# 17자리, 영문X  => 숫자만 : 1\n",
    "count = 0\n",
    "p62 = re.compile('[a-zA-Z]+')\n",
    "idx62 = []\n",
    "for i, one in tqdm(enumerate(df6.loc[:, '차대번호'].to_numpy())):\n",
    "    n = 0\n",
    "    for j in str(one):\n",
    "        if p62.search(j):\n",
    "            n += 1\n",
    "    if len(str(one)) == 17 and n == 0:\n",
    "        idx62.append(i)\n",
    "        count += 1\n",
    "count"
   ]
  },
  {
   "cell_type": "code",
   "execution_count": 251,
   "metadata": {},
   "outputs": [
    {
     "data": {
      "text/plain": [
       "1471703    01901321371111111\n",
       "Name: 차대번호, dtype: object"
      ]
     },
     "execution_count": 251,
     "metadata": {},
     "output_type": "execute_result"
    }
   ],
   "source": [
    "df6.loc[:, '차대번호'].reindex(idx62)"
   ]
  },
  {
   "cell_type": "code",
   "execution_count": 252,
   "metadata": {},
   "outputs": [
    {
     "name": "stderr",
     "output_type": "stream",
     "text": [
      "1528557it [00:00, 1713221.91it/s]\n"
     ]
    },
    {
     "data": {
      "text/plain": [
       "57"
      ]
     },
     "execution_count": 252,
     "metadata": {},
     "output_type": "execute_result"
    }
   ],
   "source": [
    "# 17자리 X, 영문 : 57\n",
    "count = 0\n",
    "p63 = re.compile('[a-zA-Z]+')\n",
    "idx63 = []\n",
    "for i, one in tqdm(enumerate(df6.loc[:, '차대번호'].to_numpy())):\n",
    "    if len(str(one)) != 17 and p63.search(one):\n",
    "        idx63.append(i)\n",
    "        count += 1\n",
    "count"
   ]
  },
  {
   "cell_type": "code",
   "execution_count": 253,
   "metadata": {},
   "outputs": [
    {
     "data": {
      "text/plain": [
       "352051    KMFWBX7ABU267970\n",
       "362014    KMFZCZ7JAB640917\n",
       "461606    KNCSJX4AAK452185\n",
       "641800    KMFZC7JP9U519465\n",
       "731532    KMFZC7JP9U481571\n",
       "Name: 차대번호, dtype: object"
      ]
     },
     "execution_count": 253,
     "metadata": {},
     "output_type": "execute_result"
    }
   ],
   "source": [
    "df6.loc[:, '차대번호'].reindex(idx63)[:5]"
   ]
  },
  {
   "cell_type": "code",
   "execution_count": 254,
   "metadata": {},
   "outputs": [
    {
     "name": "stderr",
     "output_type": "stream",
     "text": [
      "1528557it [00:13, 115942.31it/s]\n"
     ]
    },
    {
     "data": {
      "text/plain": [
       "2573"
      ]
     },
     "execution_count": 254,
     "metadata": {},
     "output_type": "execute_result"
    }
   ],
   "source": [
    "# 17자리 X, 영문X : 2573\n",
    "count = 0\n",
    "p64 = re.compile('[a-zA-Z]+')\n",
    "idx64 = []\n",
    "for i, one in tqdm(enumerate(df6.loc[:, '차대번호'].to_numpy())):\n",
    "    n = 0\n",
    "    for j in one:\n",
    "        if p64.search(j):\n",
    "            n += 1\n",
    "    if len(str(one)) != 17 and n == 0:\n",
    "        idx64.append(i)\n",
    "        count += 1\n",
    "count"
   ]
  },
  {
   "cell_type": "code",
   "execution_count": 255,
   "metadata": {},
   "outputs": [
    {
     "data": {
      "text/plain": [
       "1144821    289711309283\n",
       "1161719    119811229792\n",
       "1170369    119811328945\n",
       "1170707    119411329496\n",
       "1170967    119311230058\n",
       "Name: 차대번호, dtype: object"
      ]
     },
     "execution_count": 255,
     "metadata": {},
     "output_type": "execute_result"
    }
   ],
   "source": [
    "df6.loc[:, '차대번호'].reindex(idx64)[:5]"
   ]
  },
  {
   "attachments": {},
   "cell_type": "markdown",
   "metadata": {},
   "source": [
    "#### 차대번호 길이, IOQ포함 여부 통계"
   ]
  },
  {
   "cell_type": "code",
   "execution_count": 256,
   "metadata": {},
   "outputs": [
    {
     "name": "stderr",
     "output_type": "stream",
     "text": [
      "1528557it [00:01, 1474395.69it/s]\n"
     ]
    },
    {
     "data": {
      "text/plain": [
       "{10, 11, 12, 13, 14, 15, 16, 17}"
      ]
     },
     "execution_count": 256,
     "metadata": {},
     "output_type": "execute_result"
    }
   ],
   "source": [
    "# 차대번호 길이 종류 확인\n",
    "len_vin = []\n",
    "for i, one in tqdm(enumerate(df6.loc[:, '차대번호'].to_numpy())):\n",
    "    len_vin.append(len(str(one)))\n",
    "set(len_vin)"
   ]
  },
  {
   "cell_type": "code",
   "execution_count": 257,
   "metadata": {},
   "outputs": [],
   "source": [
    "df6['VIN_length'] = [ len(one) for one in df6['차대번호'] ]"
   ]
  },
  {
   "cell_type": "code",
   "execution_count": 258,
   "metadata": {},
   "outputs": [
    {
     "data": {
      "text/plain": [
       "array([17, 16, 12, 15, 11, 13, 14, 10], dtype=int64)"
      ]
     },
     "execution_count": 258,
     "metadata": {},
     "output_type": "execute_result"
    }
   ],
   "source": [
    "df6['VIN_length'].unique()"
   ]
  },
  {
   "cell_type": "code",
   "execution_count": 259,
   "metadata": {},
   "outputs": [],
   "source": [
    "# IOQ 포함 여부\n",
    "IOQ = []\n",
    "for one in df6['차대번호']:\n",
    "    if ('I' in one) or ('O' in one) or ('Q' in one):\n",
    "        IOQ.append('Y')\n",
    "    else:\n",
    "        IOQ.append('N')\n",
    "df6['IOQ'] = IOQ"
   ]
  },
  {
   "cell_type": "code",
   "execution_count": 260,
   "metadata": {},
   "outputs": [
    {
     "data": {
      "text/plain": [
       "array(['N', 'Y'], dtype=object)"
      ]
     },
     "execution_count": 260,
     "metadata": {},
     "output_type": "execute_result"
    }
   ],
   "source": [
    "df6['IOQ'].unique()"
   ]
  },
  {
   "cell_type": "code",
   "execution_count": 261,
   "metadata": {},
   "outputs": [
    {
     "name": "stderr",
     "output_type": "stream",
     "text": [
      "1528557it [00:13, 117571.75it/s]\n"
     ]
    },
    {
     "data": {
      "text/plain": [
       "2574"
      ]
     },
     "execution_count": 261,
     "metadata": {},
     "output_type": "execute_result"
    }
   ],
   "source": [
    "# 알파벳 포함\n",
    "included_alpha = []\n",
    "count = 0\n",
    "p65 = re.compile('[a-zA-Z]+')\n",
    "for i, one in tqdm(enumerate(df6.loc[:, '차대번호'].to_numpy())):\n",
    "    n = 0\n",
    "    for j in one:\n",
    "        if p65.search(j):\n",
    "            n += 1\n",
    "    if n == 0:\n",
    "        included_alpha.append('N')\n",
    "        count += 1\n",
    "    else:\n",
    "        included_alpha.append('Y')\n",
    "count"
   ]
  },
  {
   "cell_type": "code",
   "execution_count": 262,
   "metadata": {},
   "outputs": [],
   "source": [
    "df6['alpha'] = included_alpha"
   ]
  },
  {
   "cell_type": "code",
   "execution_count": 263,
   "metadata": {},
   "outputs": [
    {
     "data": {
      "text/plain": [
       "VIN_length  alpha  IOQ\n",
       "10          N      N            1\n",
       "            Y      N            3\n",
       "11          N      N          209\n",
       "            Y      N            7\n",
       "12          N      N         2132\n",
       "            Y      N            2\n",
       "13          N      N          154\n",
       "            Y      N            3\n",
       "14          N      N           22\n",
       "15          N      N           38\n",
       "            Y      N            2\n",
       "                   Y            1\n",
       "16          N      N           17\n",
       "            Y      N           39\n",
       "17          N      N            1\n",
       "            Y      N      1524908\n",
       "                   Y         1018\n",
       "Name: 차대번호, dtype: int64"
      ]
     },
     "execution_count": 263,
     "metadata": {},
     "output_type": "execute_result"
    }
   ],
   "source": [
    "df6.groupby(['VIN_length', 'alpha', 'IOQ'])['차대번호'].count()"
   ]
  },
  {
   "cell_type": "code",
   "execution_count": 264,
   "metadata": {},
   "outputs": [
    {
     "data": {
      "text/plain": [
       "VIN_length  IOQ\n",
       "10          N            4\n",
       "11          N          216\n",
       "12          N         2134\n",
       "13          N          157\n",
       "14          N           22\n",
       "15          N           40\n",
       "            Y            1\n",
       "16          N           56\n",
       "17          N      1524909\n",
       "            Y         1018\n",
       "Name: 차대번호, dtype: int64"
      ]
     },
     "execution_count": 264,
     "metadata": {},
     "output_type": "execute_result"
    }
   ],
   "source": [
    "df6.groupby(['VIN_length', 'IOQ'])['차대번호'].count()"
   ]
  },
  {
   "cell_type": "code",
   "execution_count": 265,
   "metadata": {},
   "outputs": [],
   "source": [
    "V_I_dict = df6.groupby(['VIN_length', 'IOQ'])['차대번호'].groups"
   ]
  },
  {
   "cell_type": "code",
   "execution_count": 266,
   "metadata": {},
   "outputs": [
    {
     "data": {
      "text/plain": [
       "dict_keys([(10, 'N'), (11, 'N'), (12, 'N'), (13, 'N'), (14, 'N'), (15, 'N'), (15, 'Y'), (16, 'N'), (17, 'N'), (17, 'Y')])"
      ]
     },
     "execution_count": 266,
     "metadata": {},
     "output_type": "execute_result"
    }
   ],
   "source": [
    "V_I_dict.keys()"
   ]
  },
  {
   "cell_type": "code",
   "execution_count": 267,
   "metadata": {},
   "outputs": [
    {
     "data": {
      "text/html": [
       "<div>\n",
       "<style scoped>\n",
       "    .dataframe tbody tr th:only-of-type {\n",
       "        vertical-align: middle;\n",
       "    }\n",
       "\n",
       "    .dataframe tbody tr th {\n",
       "        vertical-align: top;\n",
       "    }\n",
       "\n",
       "    .dataframe thead th {\n",
       "        text-align: right;\n",
       "    }\n",
       "</style>\n",
       "<table border=\"1\" class=\"dataframe\">\n",
       "  <thead>\n",
       "    <tr style=\"text-align: right;\">\n",
       "      <th></th>\n",
       "      <th>VIN_length</th>\n",
       "      <th>IOQ</th>\n",
       "      <th>차대번호</th>\n",
       "    </tr>\n",
       "  </thead>\n",
       "  <tbody>\n",
       "    <tr>\n",
       "      <th>0</th>\n",
       "      <td>10</td>\n",
       "      <td>N</td>\n",
       "      <td>4</td>\n",
       "    </tr>\n",
       "    <tr>\n",
       "      <th>1</th>\n",
       "      <td>11</td>\n",
       "      <td>N</td>\n",
       "      <td>216</td>\n",
       "    </tr>\n",
       "    <tr>\n",
       "      <th>2</th>\n",
       "      <td>12</td>\n",
       "      <td>N</td>\n",
       "      <td>2134</td>\n",
       "    </tr>\n",
       "    <tr>\n",
       "      <th>3</th>\n",
       "      <td>13</td>\n",
       "      <td>N</td>\n",
       "      <td>157</td>\n",
       "    </tr>\n",
       "    <tr>\n",
       "      <th>4</th>\n",
       "      <td>14</td>\n",
       "      <td>N</td>\n",
       "      <td>22</td>\n",
       "    </tr>\n",
       "    <tr>\n",
       "      <th>5</th>\n",
       "      <td>15</td>\n",
       "      <td>N</td>\n",
       "      <td>40</td>\n",
       "    </tr>\n",
       "    <tr>\n",
       "      <th>6</th>\n",
       "      <td>15</td>\n",
       "      <td>Y</td>\n",
       "      <td>1</td>\n",
       "    </tr>\n",
       "    <tr>\n",
       "      <th>7</th>\n",
       "      <td>16</td>\n",
       "      <td>N</td>\n",
       "      <td>56</td>\n",
       "    </tr>\n",
       "    <tr>\n",
       "      <th>8</th>\n",
       "      <td>17</td>\n",
       "      <td>N</td>\n",
       "      <td>1524909</td>\n",
       "    </tr>\n",
       "    <tr>\n",
       "      <th>9</th>\n",
       "      <td>17</td>\n",
       "      <td>Y</td>\n",
       "      <td>1018</td>\n",
       "    </tr>\n",
       "  </tbody>\n",
       "</table>\n",
       "</div>"
      ],
      "text/plain": [
       "   VIN_length IOQ     차대번호\n",
       "0          10   N        4\n",
       "1          11   N      216\n",
       "2          12   N     2134\n",
       "3          13   N      157\n",
       "4          14   N       22\n",
       "5          15   N       40\n",
       "6          15   Y        1\n",
       "7          16   N       56\n",
       "8          17   N  1524909\n",
       "9          17   Y     1018"
      ]
     },
     "execution_count": 267,
     "metadata": {},
     "output_type": "execute_result"
    }
   ],
   "source": [
    "g = df6.groupby(['VIN_length', 'IOQ'], as_index=False)['차대번호'].count()\n",
    "g"
   ]
  },
  {
   "cell_type": "code",
   "execution_count": 268,
   "metadata": {},
   "outputs": [
    {
     "data": {
      "text/html": [
       "<div>\n",
       "<style scoped>\n",
       "    .dataframe tbody tr th:only-of-type {\n",
       "        vertical-align: middle;\n",
       "    }\n",
       "\n",
       "    .dataframe tbody tr th {\n",
       "        vertical-align: top;\n",
       "    }\n",
       "\n",
       "    .dataframe thead th {\n",
       "        text-align: right;\n",
       "    }\n",
       "</style>\n",
       "<table border=\"1\" class=\"dataframe\">\n",
       "  <thead>\n",
       "    <tr style=\"text-align: right;\">\n",
       "      <th></th>\n",
       "      <th>VIN_length</th>\n",
       "      <th>IOQ</th>\n",
       "      <th>차대번호</th>\n",
       "    </tr>\n",
       "  </thead>\n",
       "  <tbody>\n",
       "    <tr>\n",
       "      <th>0</th>\n",
       "      <td>10</td>\n",
       "      <td>N</td>\n",
       "      <td>4</td>\n",
       "    </tr>\n",
       "    <tr>\n",
       "      <th>1</th>\n",
       "      <td>11</td>\n",
       "      <td>N</td>\n",
       "      <td>216</td>\n",
       "    </tr>\n",
       "    <tr>\n",
       "      <th>2</th>\n",
       "      <td>12</td>\n",
       "      <td>N</td>\n",
       "      <td>2134</td>\n",
       "    </tr>\n",
       "    <tr>\n",
       "      <th>3</th>\n",
       "      <td>13</td>\n",
       "      <td>N</td>\n",
       "      <td>157</td>\n",
       "    </tr>\n",
       "    <tr>\n",
       "      <th>4</th>\n",
       "      <td>14</td>\n",
       "      <td>N</td>\n",
       "      <td>22</td>\n",
       "    </tr>\n",
       "    <tr>\n",
       "      <th>5</th>\n",
       "      <td>15</td>\n",
       "      <td>N</td>\n",
       "      <td>40</td>\n",
       "    </tr>\n",
       "    <tr>\n",
       "      <th>6</th>\n",
       "      <td>15</td>\n",
       "      <td>Y</td>\n",
       "      <td>1</td>\n",
       "    </tr>\n",
       "    <tr>\n",
       "      <th>7</th>\n",
       "      <td>16</td>\n",
       "      <td>N</td>\n",
       "      <td>56</td>\n",
       "    </tr>\n",
       "    <tr>\n",
       "      <th>8</th>\n",
       "      <td>17</td>\n",
       "      <td>N</td>\n",
       "      <td>1524909</td>\n",
       "    </tr>\n",
       "    <tr>\n",
       "      <th>9</th>\n",
       "      <td>17</td>\n",
       "      <td>Y</td>\n",
       "      <td>1018</td>\n",
       "    </tr>\n",
       "  </tbody>\n",
       "</table>\n",
       "</div>"
      ],
      "text/plain": [
       "   VIN_length IOQ     차대번호\n",
       "0          10   N        4\n",
       "1          11   N      216\n",
       "2          12   N     2134\n",
       "3          13   N      157\n",
       "4          14   N       22\n",
       "5          15   N       40\n",
       "6          15   Y        1\n",
       "7          16   N       56\n",
       "8          17   N  1524909\n",
       "9          17   Y     1018"
      ]
     },
     "execution_count": 268,
     "metadata": {},
     "output_type": "execute_result"
    }
   ],
   "source": [
    "V_I_df = g.sort_values(['VIN_length', 'IOQ'], ascending=[True, True])\n",
    "V_I_df"
   ]
  },
  {
   "attachments": {},
   "cell_type": "markdown",
   "metadata": {},
   "source": [
    "##### 차대번호 길이, IOQ포함 여부 별 예시"
   ]
  },
  {
   "cell_type": "code",
   "execution_count": 269,
   "metadata": {},
   "outputs": [
    {
     "name": "stdout",
     "output_type": "stream",
     "text": [
      "[VIN_length : 10, \"IOQ\"포함 : N]\n",
      "예시)\n",
      "1184741    FD3S112983\n",
      "1191288    FD3S303919\n",
      "1197803    EU13315046\n",
      "Name: 차대번호, dtype: object\n",
      "\n",
      "[VIN_length : 11, \"IOQ\"포함 : N]\n",
      "예시)\n",
      "1171917    H36A0602064\n",
      "1179716    RPS13330414\n",
      "1186002    DE2A0100210\n",
      "Name: 차대번호, dtype: object\n",
      "\n",
      "[VIN_length : 12, \"IOQ\"포함 : N]\n",
      "예시)\n",
      "1144821    289711309283\n",
      "1161719    119811229792\n",
      "1170369    119811328945\n",
      "Name: 차대번호, dtype: object\n",
      "\n",
      "[VIN_length : 13, \"IOQ\"포함 : N]\n",
      "예시)\n",
      "1176816    4197111236649\n",
      "1179156    289711308190하\n",
      "1180037    2893113157323\n",
      "Name: 차대번호, dtype: object\n",
      "\n",
      "[VIN_length : 14, \"IOQ\"포함 : N]\n",
      "예시)\n",
      "1182843    27911130156505\n",
      "1183740    27931130152305\n",
      "1349628    21891130315401\n",
      "Name: 차대번호, dtype: object\n",
      "\n",
      "[VIN_length : 15, \"IOQ\"포함 : N]\n",
      "예시)\n",
      "1171406    11-97-113-29992\n",
      "1171678    11-97-113-28686\n",
      "1171805    41-96-113-35598\n",
      "Name: 차대번호, dtype: object\n",
      "\n",
      "[VIN_length : 15, \"IOQ\"포함 : Y]\n",
      "예시)\n",
      "1528151    12851300018EORN\n",
      "Name: 차대번호, dtype: object\n",
      "\n",
      "[VIN_length : 16, \"IOQ\"포함 : N]\n",
      "예시)\n",
      "352051    KMFWBX7ABU267970\n",
      "362014    KMFZCZ7JAB640917\n",
      "461606    KNCSJX4AAK452185\n",
      "Name: 차대번호, dtype: object\n",
      "\n",
      "[VIN_length : 17, \"IOQ\"포함 : N]\n",
      "예시)\n",
      "0    KMCLK18KP8C035195\n",
      "1    KMFLA18KP8C031274\n",
      "2    KLACA26RD8B226753\n",
      "Name: 차대번호, dtype: object\n",
      "\n",
      "[VIN_length : 17, \"IOQ\"포함 : Y]\n",
      "예시)\n",
      "1142      WPOZZZ96ZLS402952\n",
      "117803    WPOZZZ96ZKS400603\n",
      "330303    YV2ABSOC4AA695671\n",
      "Name: 차대번호, dtype: object\n",
      "\n"
     ]
    }
   ],
   "source": [
    "for v in range(10, 18):\n",
    "    for i in ['N', 'Y']:\n",
    "        try:\n",
    "            idx = V_I_dict[(v, i)]\n",
    "            print(f'[VIN_length : {v}, \"IOQ\"포함 : {i}]')\n",
    "            print('예시)')\n",
    "            print(df6.loc[idx[:3], '차대번호'])\n",
    "            print()\n",
    "        except:\n",
    "            pass"
   ]
  },
  {
   "cell_type": "code",
   "execution_count": 270,
   "metadata": {},
   "outputs": [
    {
     "data": {
      "text/html": [
       "<div>\n",
       "<style scoped>\n",
       "    .dataframe tbody tr th:only-of-type {\n",
       "        vertical-align: middle;\n",
       "    }\n",
       "\n",
       "    .dataframe tbody tr th {\n",
       "        vertical-align: top;\n",
       "    }\n",
       "\n",
       "    .dataframe thead th {\n",
       "        text-align: right;\n",
       "    }\n",
       "</style>\n",
       "<table border=\"1\" class=\"dataframe\">\n",
       "  <thead>\n",
       "    <tr style=\"text-align: right;\">\n",
       "      <th>VIN_length</th>\n",
       "      <th>10</th>\n",
       "      <th>11</th>\n",
       "      <th>12</th>\n",
       "      <th>13</th>\n",
       "      <th>14</th>\n",
       "      <th>15</th>\n",
       "      <th>16</th>\n",
       "      <th>17</th>\n",
       "    </tr>\n",
       "    <tr>\n",
       "      <th>연료</th>\n",
       "      <th></th>\n",
       "      <th></th>\n",
       "      <th></th>\n",
       "      <th></th>\n",
       "      <th></th>\n",
       "      <th></th>\n",
       "      <th></th>\n",
       "      <th></th>\n",
       "    </tr>\n",
       "  </thead>\n",
       "  <tbody>\n",
       "    <tr>\n",
       "      <th>CNG(압축천연가스)</th>\n",
       "      <td>NaN</td>\n",
       "      <td>NaN</td>\n",
       "      <td>NaN</td>\n",
       "      <td>NaN</td>\n",
       "      <td>NaN</td>\n",
       "      <td>NaN</td>\n",
       "      <td>NaN</td>\n",
       "      <td>1.0</td>\n",
       "    </tr>\n",
       "    <tr>\n",
       "      <th>LPG(액화석유가스)</th>\n",
       "      <td>NaN</td>\n",
       "      <td>NaN</td>\n",
       "      <td>15.0</td>\n",
       "      <td>NaN</td>\n",
       "      <td>NaN</td>\n",
       "      <td>NaN</td>\n",
       "      <td>2.0</td>\n",
       "      <td>26401.0</td>\n",
       "    </tr>\n",
       "    <tr>\n",
       "      <th>경유</th>\n",
       "      <td>NaN</td>\n",
       "      <td>NaN</td>\n",
       "      <td>NaN</td>\n",
       "      <td>NaN</td>\n",
       "      <td>NaN</td>\n",
       "      <td>NaN</td>\n",
       "      <td>10.0</td>\n",
       "      <td>1167595.0</td>\n",
       "    </tr>\n",
       "    <tr>\n",
       "      <th>기타연료</th>\n",
       "      <td>NaN</td>\n",
       "      <td>NaN</td>\n",
       "      <td>NaN</td>\n",
       "      <td>NaN</td>\n",
       "      <td>NaN</td>\n",
       "      <td>NaN</td>\n",
       "      <td>NaN</td>\n",
       "      <td>1.0</td>\n",
       "    </tr>\n",
       "    <tr>\n",
       "      <th>알코올</th>\n",
       "      <td>NaN</td>\n",
       "      <td>NaN</td>\n",
       "      <td>NaN</td>\n",
       "      <td>NaN</td>\n",
       "      <td>NaN</td>\n",
       "      <td>NaN</td>\n",
       "      <td>NaN</td>\n",
       "      <td>1.0</td>\n",
       "    </tr>\n",
       "    <tr>\n",
       "      <th>휘발유</th>\n",
       "      <td>4.0</td>\n",
       "      <td>216.0</td>\n",
       "      <td>2119.0</td>\n",
       "      <td>157.0</td>\n",
       "      <td>22.0</td>\n",
       "      <td>41.0</td>\n",
       "      <td>44.0</td>\n",
       "      <td>331928.0</td>\n",
       "    </tr>\n",
       "  </tbody>\n",
       "</table>\n",
       "</div>"
      ],
      "text/plain": [
       "VIN_length    10     11      12     13    14    15    16         17\n",
       "연료                                                                 \n",
       "CNG(압축천연가스)  NaN    NaN     NaN    NaN   NaN   NaN   NaN        1.0\n",
       "LPG(액화석유가스)  NaN    NaN    15.0    NaN   NaN   NaN   2.0    26401.0\n",
       "경유           NaN    NaN     NaN    NaN   NaN   NaN  10.0  1167595.0\n",
       "기타연료         NaN    NaN     NaN    NaN   NaN   NaN   NaN        1.0\n",
       "알코올          NaN    NaN     NaN    NaN   NaN   NaN   NaN        1.0\n",
       "휘발유          4.0  216.0  2119.0  157.0  22.0  41.0  44.0   331928.0"
      ]
     },
     "execution_count": 270,
     "metadata": {},
     "output_type": "execute_result"
    }
   ],
   "source": [
    "df6.groupby(['VIN_length', '연료'])['차대번호'].count().unstack().T"
   ]
  },
  {
   "attachments": {},
   "cell_type": "markdown",
   "metadata": {},
   "source": [
    "##### [출력] vin 길이별, 연료별 차대번호 통계"
   ]
  },
  {
   "cell_type": "code",
   "execution_count": 561,
   "metadata": {},
   "outputs": [],
   "source": [
    "# vin 길이별, 연료별 차대번호 개수 통계\n",
    "df6.groupby(['VIN_length', '연료'])['차대번호'].count().unstack().T.to_excel('analysis/[G4][차대번호]길이_통계.xlsx')"
   ]
  },
  {
   "attachments": {},
   "cell_type": "markdown",
   "metadata": {},
   "source": [
    "##### [출력] vin IOQ 포함 여부별, 연료별 차대번호 통계"
   ]
  },
  {
   "cell_type": "code",
   "execution_count": 562,
   "metadata": {},
   "outputs": [
    {
     "data": {
      "text/html": [
       "<div>\n",
       "<style scoped>\n",
       "    .dataframe tbody tr th:only-of-type {\n",
       "        vertical-align: middle;\n",
       "    }\n",
       "\n",
       "    .dataframe tbody tr th {\n",
       "        vertical-align: top;\n",
       "    }\n",
       "\n",
       "    .dataframe thead th {\n",
       "        text-align: right;\n",
       "    }\n",
       "</style>\n",
       "<table border=\"1\" class=\"dataframe\">\n",
       "  <thead>\n",
       "    <tr style=\"text-align: right;\">\n",
       "      <th>IOQ</th>\n",
       "      <th>N</th>\n",
       "      <th>Y</th>\n",
       "    </tr>\n",
       "    <tr>\n",
       "      <th>연료</th>\n",
       "      <th></th>\n",
       "      <th></th>\n",
       "    </tr>\n",
       "  </thead>\n",
       "  <tbody>\n",
       "    <tr>\n",
       "      <th>CNG(압축천연가스)</th>\n",
       "      <td>1.0</td>\n",
       "      <td>NaN</td>\n",
       "    </tr>\n",
       "    <tr>\n",
       "      <th>LPG(액화석유가스)</th>\n",
       "      <td>26414.0</td>\n",
       "      <td>4.0</td>\n",
       "    </tr>\n",
       "    <tr>\n",
       "      <th>경유</th>\n",
       "      <td>1167405.0</td>\n",
       "      <td>200.0</td>\n",
       "    </tr>\n",
       "    <tr>\n",
       "      <th>기타연료</th>\n",
       "      <td>1.0</td>\n",
       "      <td>NaN</td>\n",
       "    </tr>\n",
       "    <tr>\n",
       "      <th>알코올</th>\n",
       "      <td>1.0</td>\n",
       "      <td>NaN</td>\n",
       "    </tr>\n",
       "    <tr>\n",
       "      <th>휘발유</th>\n",
       "      <td>333716.0</td>\n",
       "      <td>815.0</td>\n",
       "    </tr>\n",
       "  </tbody>\n",
       "</table>\n",
       "</div>"
      ],
      "text/plain": [
       "IOQ                  N      Y\n",
       "연료                           \n",
       "CNG(압축천연가스)        1.0    NaN\n",
       "LPG(액화석유가스)    26414.0    4.0\n",
       "경유           1167405.0  200.0\n",
       "기타연료               1.0    NaN\n",
       "알코올                1.0    NaN\n",
       "휘발유           333716.0  815.0"
      ]
     },
     "execution_count": 562,
     "metadata": {},
     "output_type": "execute_result"
    }
   ],
   "source": [
    "df6.groupby(['IOQ', '연료'])['차대번호'].count().unstack().T"
   ]
  },
  {
   "cell_type": "code",
   "execution_count": 563,
   "metadata": {},
   "outputs": [],
   "source": [
    "# vin IOQ 포함별, 연료별 차대번호 개수 통계\n",
    "df6.groupby(['IOQ', '연료'])['차대번호'].count().unstack().T.to_excel('analysis/[G4][차대번호]IOQ포함여부_통계.xlsx')"
   ]
  },
  {
   "attachments": {},
   "cell_type": "markdown",
   "metadata": {},
   "source": [
    "#### 차대번호 10번째 자리 문자로 연식 확인"
   ]
  },
  {
   "cell_type": "code",
   "execution_count": 564,
   "metadata": {},
   "outputs": [
    {
     "data": {
      "text/plain": [
       "array([2008, 2007, 2006, 2012, 2011, 2009, 2001, 2010, 2019, 2020, 1992,\n",
       "       1994, 1996, 2018, 1991, 1993, 1989, 1990, 1995, 1997, 2013, 1998,\n",
       "       1999, 1988, 2017, 2005, 2016, 2002, 2004, 2003, 2015, 1987, 2014,\n",
       "       1986, 2000, 1981, 1978, 1973, 1984, 1901, 1985, 1980, 1979, 1983,\n",
       "       1968], dtype=int64)"
      ]
     },
     "execution_count": 564,
     "metadata": {},
     "output_type": "execute_result"
    }
   ],
   "source": [
    "df6['차량연식'].unique()"
   ]
  },
  {
   "cell_type": "code",
   "execution_count": 565,
   "metadata": {},
   "outputs": [
    {
     "data": {
      "text/html": [
       "<div>\n",
       "<style scoped>\n",
       "    .dataframe tbody tr th:only-of-type {\n",
       "        vertical-align: middle;\n",
       "    }\n",
       "\n",
       "    .dataframe tbody tr th {\n",
       "        vertical-align: top;\n",
       "    }\n",
       "\n",
       "    .dataframe thead th {\n",
       "        text-align: right;\n",
       "    }\n",
       "</style>\n",
       "<table border=\"1\" class=\"dataframe\">\n",
       "  <thead>\n",
       "    <tr style=\"text-align: right;\">\n",
       "      <th>연료</th>\n",
       "      <th>CNG(압축천연가스)</th>\n",
       "      <th>LPG(액화석유가스)</th>\n",
       "      <th>경유</th>\n",
       "      <th>기타연료</th>\n",
       "      <th>알코올</th>\n",
       "      <th>휘발유</th>\n",
       "    </tr>\n",
       "    <tr>\n",
       "      <th>차량연식</th>\n",
       "      <th></th>\n",
       "      <th></th>\n",
       "      <th></th>\n",
       "      <th></th>\n",
       "      <th></th>\n",
       "      <th></th>\n",
       "    </tr>\n",
       "  </thead>\n",
       "  <tbody>\n",
       "    <tr>\n",
       "      <th>1901</th>\n",
       "      <td>NaN</td>\n",
       "      <td>NaN</td>\n",
       "      <td>NaN</td>\n",
       "      <td>NaN</td>\n",
       "      <td>NaN</td>\n",
       "      <td>1.0</td>\n",
       "    </tr>\n",
       "    <tr>\n",
       "      <th>1968</th>\n",
       "      <td>NaN</td>\n",
       "      <td>NaN</td>\n",
       "      <td>NaN</td>\n",
       "      <td>NaN</td>\n",
       "      <td>NaN</td>\n",
       "      <td>1.0</td>\n",
       "    </tr>\n",
       "    <tr>\n",
       "      <th>1973</th>\n",
       "      <td>NaN</td>\n",
       "      <td>NaN</td>\n",
       "      <td>NaN</td>\n",
       "      <td>NaN</td>\n",
       "      <td>NaN</td>\n",
       "      <td>1.0</td>\n",
       "    </tr>\n",
       "    <tr>\n",
       "      <th>1978</th>\n",
       "      <td>NaN</td>\n",
       "      <td>NaN</td>\n",
       "      <td>NaN</td>\n",
       "      <td>NaN</td>\n",
       "      <td>NaN</td>\n",
       "      <td>1.0</td>\n",
       "    </tr>\n",
       "    <tr>\n",
       "      <th>1979</th>\n",
       "      <td>NaN</td>\n",
       "      <td>NaN</td>\n",
       "      <td>NaN</td>\n",
       "      <td>NaN</td>\n",
       "      <td>NaN</td>\n",
       "      <td>3.0</td>\n",
       "    </tr>\n",
       "    <tr>\n",
       "      <th>1980</th>\n",
       "      <td>NaN</td>\n",
       "      <td>NaN</td>\n",
       "      <td>NaN</td>\n",
       "      <td>NaN</td>\n",
       "      <td>NaN</td>\n",
       "      <td>1.0</td>\n",
       "    </tr>\n",
       "    <tr>\n",
       "      <th>1981</th>\n",
       "      <td>NaN</td>\n",
       "      <td>NaN</td>\n",
       "      <td>NaN</td>\n",
       "      <td>NaN</td>\n",
       "      <td>NaN</td>\n",
       "      <td>1.0</td>\n",
       "    </tr>\n",
       "    <tr>\n",
       "      <th>1983</th>\n",
       "      <td>NaN</td>\n",
       "      <td>NaN</td>\n",
       "      <td>NaN</td>\n",
       "      <td>NaN</td>\n",
       "      <td>NaN</td>\n",
       "      <td>3.0</td>\n",
       "    </tr>\n",
       "    <tr>\n",
       "      <th>1984</th>\n",
       "      <td>NaN</td>\n",
       "      <td>NaN</td>\n",
       "      <td>NaN</td>\n",
       "      <td>NaN</td>\n",
       "      <td>NaN</td>\n",
       "      <td>3.0</td>\n",
       "    </tr>\n",
       "    <tr>\n",
       "      <th>1985</th>\n",
       "      <td>NaN</td>\n",
       "      <td>NaN</td>\n",
       "      <td>NaN</td>\n",
       "      <td>NaN</td>\n",
       "      <td>NaN</td>\n",
       "      <td>4.0</td>\n",
       "    </tr>\n",
       "    <tr>\n",
       "      <th>1986</th>\n",
       "      <td>NaN</td>\n",
       "      <td>NaN</td>\n",
       "      <td>NaN</td>\n",
       "      <td>NaN</td>\n",
       "      <td>NaN</td>\n",
       "      <td>12.0</td>\n",
       "    </tr>\n",
       "    <tr>\n",
       "      <th>1987</th>\n",
       "      <td>NaN</td>\n",
       "      <td>NaN</td>\n",
       "      <td>NaN</td>\n",
       "      <td>NaN</td>\n",
       "      <td>NaN</td>\n",
       "      <td>1278.0</td>\n",
       "    </tr>\n",
       "    <tr>\n",
       "      <th>1988</th>\n",
       "      <td>NaN</td>\n",
       "      <td>91.0</td>\n",
       "      <td>NaN</td>\n",
       "      <td>NaN</td>\n",
       "      <td>1.0</td>\n",
       "      <td>11758.0</td>\n",
       "    </tr>\n",
       "    <tr>\n",
       "      <th>1989</th>\n",
       "      <td>NaN</td>\n",
       "      <td>52.0</td>\n",
       "      <td>1.0</td>\n",
       "      <td>NaN</td>\n",
       "      <td>NaN</td>\n",
       "      <td>20633.0</td>\n",
       "    </tr>\n",
       "    <tr>\n",
       "      <th>1990</th>\n",
       "      <td>NaN</td>\n",
       "      <td>74.0</td>\n",
       "      <td>NaN</td>\n",
       "      <td>NaN</td>\n",
       "      <td>NaN</td>\n",
       "      <td>26627.0</td>\n",
       "    </tr>\n",
       "    <tr>\n",
       "      <th>1991</th>\n",
       "      <td>NaN</td>\n",
       "      <td>82.0</td>\n",
       "      <td>NaN</td>\n",
       "      <td>NaN</td>\n",
       "      <td>NaN</td>\n",
       "      <td>30246.0</td>\n",
       "    </tr>\n",
       "    <tr>\n",
       "      <th>1992</th>\n",
       "      <td>NaN</td>\n",
       "      <td>471.0</td>\n",
       "      <td>NaN</td>\n",
       "      <td>NaN</td>\n",
       "      <td>NaN</td>\n",
       "      <td>33452.0</td>\n",
       "    </tr>\n",
       "    <tr>\n",
       "      <th>1993</th>\n",
       "      <td>NaN</td>\n",
       "      <td>1468.0</td>\n",
       "      <td>NaN</td>\n",
       "      <td>NaN</td>\n",
       "      <td>NaN</td>\n",
       "      <td>32811.0</td>\n",
       "    </tr>\n",
       "    <tr>\n",
       "      <th>1994</th>\n",
       "      <td>NaN</td>\n",
       "      <td>2290.0</td>\n",
       "      <td>NaN</td>\n",
       "      <td>NaN</td>\n",
       "      <td>NaN</td>\n",
       "      <td>35492.0</td>\n",
       "    </tr>\n",
       "    <tr>\n",
       "      <th>1995</th>\n",
       "      <td>NaN</td>\n",
       "      <td>2122.0</td>\n",
       "      <td>NaN</td>\n",
       "      <td>NaN</td>\n",
       "      <td>NaN</td>\n",
       "      <td>33268.0</td>\n",
       "    </tr>\n",
       "    <tr>\n",
       "      <th>1996</th>\n",
       "      <td>NaN</td>\n",
       "      <td>2605.0</td>\n",
       "      <td>1.0</td>\n",
       "      <td>NaN</td>\n",
       "      <td>NaN</td>\n",
       "      <td>33660.0</td>\n",
       "    </tr>\n",
       "    <tr>\n",
       "      <th>1997</th>\n",
       "      <td>NaN</td>\n",
       "      <td>2785.0</td>\n",
       "      <td>1.0</td>\n",
       "      <td>NaN</td>\n",
       "      <td>NaN</td>\n",
       "      <td>27202.0</td>\n",
       "    </tr>\n",
       "    <tr>\n",
       "      <th>1998</th>\n",
       "      <td>NaN</td>\n",
       "      <td>1660.0</td>\n",
       "      <td>NaN</td>\n",
       "      <td>NaN</td>\n",
       "      <td>NaN</td>\n",
       "      <td>8576.0</td>\n",
       "    </tr>\n",
       "    <tr>\n",
       "      <th>1999</th>\n",
       "      <td>NaN</td>\n",
       "      <td>5579.0</td>\n",
       "      <td>NaN</td>\n",
       "      <td>NaN</td>\n",
       "      <td>NaN</td>\n",
       "      <td>14449.0</td>\n",
       "    </tr>\n",
       "    <tr>\n",
       "      <th>2000</th>\n",
       "      <td>NaN</td>\n",
       "      <td>5110.0</td>\n",
       "      <td>NaN</td>\n",
       "      <td>NaN</td>\n",
       "      <td>NaN</td>\n",
       "      <td>8216.0</td>\n",
       "    </tr>\n",
       "    <tr>\n",
       "      <th>2001</th>\n",
       "      <td>NaN</td>\n",
       "      <td>1043.0</td>\n",
       "      <td>NaN</td>\n",
       "      <td>NaN</td>\n",
       "      <td>NaN</td>\n",
       "      <td>6793.0</td>\n",
       "    </tr>\n",
       "    <tr>\n",
       "      <th>2002</th>\n",
       "      <td>NaN</td>\n",
       "      <td>839.0</td>\n",
       "      <td>2.0</td>\n",
       "      <td>NaN</td>\n",
       "      <td>NaN</td>\n",
       "      <td>8130.0</td>\n",
       "    </tr>\n",
       "    <tr>\n",
       "      <th>2003</th>\n",
       "      <td>NaN</td>\n",
       "      <td>147.0</td>\n",
       "      <td>1.0</td>\n",
       "      <td>NaN</td>\n",
       "      <td>NaN</td>\n",
       "      <td>21.0</td>\n",
       "    </tr>\n",
       "    <tr>\n",
       "      <th>2004</th>\n",
       "      <td>NaN</td>\n",
       "      <td>NaN</td>\n",
       "      <td>1.0</td>\n",
       "      <td>NaN</td>\n",
       "      <td>NaN</td>\n",
       "      <td>213.0</td>\n",
       "    </tr>\n",
       "    <tr>\n",
       "      <th>2005</th>\n",
       "      <td>1.0</td>\n",
       "      <td>NaN</td>\n",
       "      <td>978.0</td>\n",
       "      <td>NaN</td>\n",
       "      <td>NaN</td>\n",
       "      <td>89.0</td>\n",
       "    </tr>\n",
       "    <tr>\n",
       "      <th>2006</th>\n",
       "      <td>NaN</td>\n",
       "      <td>NaN</td>\n",
       "      <td>33825.0</td>\n",
       "      <td>NaN</td>\n",
       "      <td>NaN</td>\n",
       "      <td>185.0</td>\n",
       "    </tr>\n",
       "    <tr>\n",
       "      <th>2007</th>\n",
       "      <td>NaN</td>\n",
       "      <td>NaN</td>\n",
       "      <td>106552.0</td>\n",
       "      <td>1.0</td>\n",
       "      <td>NaN</td>\n",
       "      <td>475.0</td>\n",
       "    </tr>\n",
       "    <tr>\n",
       "      <th>2008</th>\n",
       "      <td>NaN</td>\n",
       "      <td>NaN</td>\n",
       "      <td>226162.0</td>\n",
       "      <td>NaN</td>\n",
       "      <td>NaN</td>\n",
       "      <td>705.0</td>\n",
       "    </tr>\n",
       "    <tr>\n",
       "      <th>2009</th>\n",
       "      <td>NaN</td>\n",
       "      <td>NaN</td>\n",
       "      <td>213446.0</td>\n",
       "      <td>NaN</td>\n",
       "      <td>NaN</td>\n",
       "      <td>97.0</td>\n",
       "    </tr>\n",
       "    <tr>\n",
       "      <th>2010</th>\n",
       "      <td>NaN</td>\n",
       "      <td>NaN</td>\n",
       "      <td>252709.0</td>\n",
       "      <td>NaN</td>\n",
       "      <td>NaN</td>\n",
       "      <td>1.0</td>\n",
       "    </tr>\n",
       "    <tr>\n",
       "      <th>2011</th>\n",
       "      <td>NaN</td>\n",
       "      <td>NaN</td>\n",
       "      <td>237574.0</td>\n",
       "      <td>NaN</td>\n",
       "      <td>NaN</td>\n",
       "      <td>1.0</td>\n",
       "    </tr>\n",
       "    <tr>\n",
       "      <th>2012</th>\n",
       "      <td>NaN</td>\n",
       "      <td>NaN</td>\n",
       "      <td>94135.0</td>\n",
       "      <td>NaN</td>\n",
       "      <td>NaN</td>\n",
       "      <td>52.0</td>\n",
       "    </tr>\n",
       "    <tr>\n",
       "      <th>2013</th>\n",
       "      <td>NaN</td>\n",
       "      <td>NaN</td>\n",
       "      <td>28.0</td>\n",
       "      <td>NaN</td>\n",
       "      <td>NaN</td>\n",
       "      <td>70.0</td>\n",
       "    </tr>\n",
       "    <tr>\n",
       "      <th>2014</th>\n",
       "      <td>NaN</td>\n",
       "      <td>NaN</td>\n",
       "      <td>13.0</td>\n",
       "      <td>NaN</td>\n",
       "      <td>NaN</td>\n",
       "      <td>NaN</td>\n",
       "    </tr>\n",
       "    <tr>\n",
       "      <th>2015</th>\n",
       "      <td>NaN</td>\n",
       "      <td>NaN</td>\n",
       "      <td>463.0</td>\n",
       "      <td>NaN</td>\n",
       "      <td>NaN</td>\n",
       "      <td>NaN</td>\n",
       "    </tr>\n",
       "    <tr>\n",
       "      <th>2016</th>\n",
       "      <td>NaN</td>\n",
       "      <td>NaN</td>\n",
       "      <td>482.0</td>\n",
       "      <td>NaN</td>\n",
       "      <td>NaN</td>\n",
       "      <td>NaN</td>\n",
       "    </tr>\n",
       "    <tr>\n",
       "      <th>2017</th>\n",
       "      <td>NaN</td>\n",
       "      <td>NaN</td>\n",
       "      <td>732.0</td>\n",
       "      <td>NaN</td>\n",
       "      <td>NaN</td>\n",
       "      <td>NaN</td>\n",
       "    </tr>\n",
       "    <tr>\n",
       "      <th>2018</th>\n",
       "      <td>NaN</td>\n",
       "      <td>NaN</td>\n",
       "      <td>483.0</td>\n",
       "      <td>NaN</td>\n",
       "      <td>NaN</td>\n",
       "      <td>NaN</td>\n",
       "    </tr>\n",
       "    <tr>\n",
       "      <th>2019</th>\n",
       "      <td>NaN</td>\n",
       "      <td>NaN</td>\n",
       "      <td>13.0</td>\n",
       "      <td>NaN</td>\n",
       "      <td>NaN</td>\n",
       "      <td>NaN</td>\n",
       "    </tr>\n",
       "    <tr>\n",
       "      <th>2020</th>\n",
       "      <td>NaN</td>\n",
       "      <td>NaN</td>\n",
       "      <td>3.0</td>\n",
       "      <td>NaN</td>\n",
       "      <td>NaN</td>\n",
       "      <td>NaN</td>\n",
       "    </tr>\n",
       "  </tbody>\n",
       "</table>\n",
       "</div>"
      ],
      "text/plain": [
       "연료    CNG(압축천연가스)  LPG(액화석유가스)        경유  기타연료  알코올      휘발유\n",
       "차량연식                                                        \n",
       "1901          NaN          NaN       NaN   NaN  NaN      1.0\n",
       "1968          NaN          NaN       NaN   NaN  NaN      1.0\n",
       "1973          NaN          NaN       NaN   NaN  NaN      1.0\n",
       "1978          NaN          NaN       NaN   NaN  NaN      1.0\n",
       "1979          NaN          NaN       NaN   NaN  NaN      3.0\n",
       "1980          NaN          NaN       NaN   NaN  NaN      1.0\n",
       "1981          NaN          NaN       NaN   NaN  NaN      1.0\n",
       "1983          NaN          NaN       NaN   NaN  NaN      3.0\n",
       "1984          NaN          NaN       NaN   NaN  NaN      3.0\n",
       "1985          NaN          NaN       NaN   NaN  NaN      4.0\n",
       "1986          NaN          NaN       NaN   NaN  NaN     12.0\n",
       "1987          NaN          NaN       NaN   NaN  NaN   1278.0\n",
       "1988          NaN         91.0       NaN   NaN  1.0  11758.0\n",
       "1989          NaN         52.0       1.0   NaN  NaN  20633.0\n",
       "1990          NaN         74.0       NaN   NaN  NaN  26627.0\n",
       "1991          NaN         82.0       NaN   NaN  NaN  30246.0\n",
       "1992          NaN        471.0       NaN   NaN  NaN  33452.0\n",
       "1993          NaN       1468.0       NaN   NaN  NaN  32811.0\n",
       "1994          NaN       2290.0       NaN   NaN  NaN  35492.0\n",
       "1995          NaN       2122.0       NaN   NaN  NaN  33268.0\n",
       "1996          NaN       2605.0       1.0   NaN  NaN  33660.0\n",
       "1997          NaN       2785.0       1.0   NaN  NaN  27202.0\n",
       "1998          NaN       1660.0       NaN   NaN  NaN   8576.0\n",
       "1999          NaN       5579.0       NaN   NaN  NaN  14449.0\n",
       "2000          NaN       5110.0       NaN   NaN  NaN   8216.0\n",
       "2001          NaN       1043.0       NaN   NaN  NaN   6793.0\n",
       "2002          NaN        839.0       2.0   NaN  NaN   8130.0\n",
       "2003          NaN        147.0       1.0   NaN  NaN     21.0\n",
       "2004          NaN          NaN       1.0   NaN  NaN    213.0\n",
       "2005          1.0          NaN     978.0   NaN  NaN     89.0\n",
       "2006          NaN          NaN   33825.0   NaN  NaN    185.0\n",
       "2007          NaN          NaN  106552.0   1.0  NaN    475.0\n",
       "2008          NaN          NaN  226162.0   NaN  NaN    705.0\n",
       "2009          NaN          NaN  213446.0   NaN  NaN     97.0\n",
       "2010          NaN          NaN  252709.0   NaN  NaN      1.0\n",
       "2011          NaN          NaN  237574.0   NaN  NaN      1.0\n",
       "2012          NaN          NaN   94135.0   NaN  NaN     52.0\n",
       "2013          NaN          NaN      28.0   NaN  NaN     70.0\n",
       "2014          NaN          NaN      13.0   NaN  NaN      NaN\n",
       "2015          NaN          NaN     463.0   NaN  NaN      NaN\n",
       "2016          NaN          NaN     482.0   NaN  NaN      NaN\n",
       "2017          NaN          NaN     732.0   NaN  NaN      NaN\n",
       "2018          NaN          NaN     483.0   NaN  NaN      NaN\n",
       "2019          NaN          NaN      13.0   NaN  NaN      NaN\n",
       "2020          NaN          NaN       3.0   NaN  NaN      NaN"
      ]
     },
     "execution_count": 565,
     "metadata": {},
     "output_type": "execute_result"
    }
   ],
   "source": [
    "df6.groupby(['차량연식', '연료'])['차대번호'].count().unstack()"
   ]
  },
  {
   "attachments": {},
   "cell_type": "markdown",
   "metadata": {},
   "source": [
    "##### [출력] 차량연식별, 연료별 차대번호 통계"
   ]
  },
  {
   "cell_type": "code",
   "execution_count": 566,
   "metadata": {},
   "outputs": [],
   "source": [
    "# 차량연식별, 연료별 차대번호 개수 통계\n",
    "df6.groupby(['차량연식', '연료'])['차대번호'].count().unstack().to_excel('analysis/[G4][차량연식]통계.xlsx')"
   ]
  },
  {
   "cell_type": "code",
   "execution_count": 567,
   "metadata": {},
   "outputs": [
    {
     "data": {
      "text/plain": [
       "array(['8', '7', '6', 'C', 'B', '9', '1', 'A', 'K', 'L', 'N', 'R', 'T',\n",
       "       'J', 'M', 'P', 'S', 'V', 'D', 'W', 'X', 'H', '5', 'G', '2', '4',\n",
       "       '3', 'F', 'E', 'Y', 'U', '0', 'O', '-'], dtype=object)"
      ]
     },
     "execution_count": 567,
     "metadata": {},
     "output_type": "execute_result"
    }
   ],
   "source": [
    "df6['차대번호_10자리'] = df6['차대번호'].str[9]\n",
    "df6['차대번호_10자리'].unique()"
   ]
  },
  {
   "cell_type": "code",
   "execution_count": 568,
   "metadata": {},
   "outputs": [],
   "source": [
    "vin_10_dict = {'A':1980, 'B':1981, 'C':1982, 'D':1983, 'E':1984, 'F':1985, 'G':1986, 'H':1987, 'J':1988, 'K':1989, 'L':1990, 'M':1991, 'N':1992, 'P':1993, 'R':1994, 'S':1995, 'T':1996, 'V':1997, 'W':1998, 'X':1999, 'Y':2000, '1':2001, '2':2002, '3':2003, '4':2004, '5':2005, '6':2006, '7':2007, '8':2008, '9':2009}"
   ]
  },
  {
   "cell_type": "code",
   "execution_count": 569,
   "metadata": {},
   "outputs": [],
   "source": [
    "df6['차대번호_10자리_기준연식'] = df6['차대번호_10자리'].replace(vin_10_dict)"
   ]
  },
  {
   "cell_type": "code",
   "execution_count": 570,
   "metadata": {},
   "outputs": [
    {
     "data": {
      "text/plain": [
       "array([2008, 2007, 2006, 1982, 1981, 2009, 2001, 1980, 1989, 1990, 1992,\n",
       "       1994, 1996, 1988, 1991, 1993, 1995, 1997, 1983, 1998, 1999, 1987,\n",
       "       2005, 1986, 2002, 2004, 2003, 1985, 1984, 2000, 'U', '0', 'O', '-'],\n",
       "      dtype=object)"
      ]
     },
     "execution_count": 570,
     "metadata": {},
     "output_type": "execute_result"
    }
   ],
   "source": [
    "df6['차대번호_10자리_기준연식'].unique()"
   ]
  },
  {
   "cell_type": "code",
   "execution_count": 571,
   "metadata": {},
   "outputs": [
    {
     "data": {
      "text/html": [
       "<div>\n",
       "<style scoped>\n",
       "    .dataframe tbody tr th:only-of-type {\n",
       "        vertical-align: middle;\n",
       "    }\n",
       "\n",
       "    .dataframe tbody tr th {\n",
       "        vertical-align: top;\n",
       "    }\n",
       "\n",
       "    .dataframe thead th {\n",
       "        text-align: right;\n",
       "    }\n",
       "</style>\n",
       "<table border=\"1\" class=\"dataframe\">\n",
       "  <thead>\n",
       "    <tr style=\"text-align: right;\">\n",
       "      <th>연료</th>\n",
       "      <th>CNG(압축천연가스)</th>\n",
       "      <th>LPG(액화석유가스)</th>\n",
       "      <th>경유</th>\n",
       "      <th>기타연료</th>\n",
       "      <th>알코올</th>\n",
       "      <th>휘발유</th>\n",
       "    </tr>\n",
       "    <tr>\n",
       "      <th>차대번호_10자리_기준연식</th>\n",
       "      <th></th>\n",
       "      <th></th>\n",
       "      <th></th>\n",
       "      <th></th>\n",
       "      <th></th>\n",
       "      <th></th>\n",
       "    </tr>\n",
       "  </thead>\n",
       "  <tbody>\n",
       "    <tr>\n",
       "      <th>1980</th>\n",
       "      <td>NaN</td>\n",
       "      <td>NaN</td>\n",
       "      <td>252705.0</td>\n",
       "      <td>NaN</td>\n",
       "      <td>NaN</td>\n",
       "      <td>2.0</td>\n",
       "    </tr>\n",
       "    <tr>\n",
       "      <th>1981</th>\n",
       "      <td>NaN</td>\n",
       "      <td>NaN</td>\n",
       "      <td>237573.0</td>\n",
       "      <td>NaN</td>\n",
       "      <td>NaN</td>\n",
       "      <td>5.0</td>\n",
       "    </tr>\n",
       "    <tr>\n",
       "      <th>1982</th>\n",
       "      <td>NaN</td>\n",
       "      <td>NaN</td>\n",
       "      <td>94135.0</td>\n",
       "      <td>NaN</td>\n",
       "      <td>NaN</td>\n",
       "      <td>54.0</td>\n",
       "    </tr>\n",
       "    <tr>\n",
       "      <th>1983</th>\n",
       "      <td>NaN</td>\n",
       "      <td>NaN</td>\n",
       "      <td>29.0</td>\n",
       "      <td>NaN</td>\n",
       "      <td>NaN</td>\n",
       "      <td>70.0</td>\n",
       "    </tr>\n",
       "    <tr>\n",
       "      <th>1984</th>\n",
       "      <td>NaN</td>\n",
       "      <td>NaN</td>\n",
       "      <td>13.0</td>\n",
       "      <td>NaN</td>\n",
       "      <td>NaN</td>\n",
       "      <td>1.0</td>\n",
       "    </tr>\n",
       "    <tr>\n",
       "      <th>1985</th>\n",
       "      <td>NaN</td>\n",
       "      <td>NaN</td>\n",
       "      <td>463.0</td>\n",
       "      <td>NaN</td>\n",
       "      <td>NaN</td>\n",
       "      <td>6.0</td>\n",
       "    </tr>\n",
       "    <tr>\n",
       "      <th>1986</th>\n",
       "      <td>NaN</td>\n",
       "      <td>NaN</td>\n",
       "      <td>482.0</td>\n",
       "      <td>NaN</td>\n",
       "      <td>NaN</td>\n",
       "      <td>12.0</td>\n",
       "    </tr>\n",
       "    <tr>\n",
       "      <th>1987</th>\n",
       "      <td>NaN</td>\n",
       "      <td>NaN</td>\n",
       "      <td>732.0</td>\n",
       "      <td>NaN</td>\n",
       "      <td>NaN</td>\n",
       "      <td>1299.0</td>\n",
       "    </tr>\n",
       "    <tr>\n",
       "      <th>1988</th>\n",
       "      <td>NaN</td>\n",
       "      <td>91.0</td>\n",
       "      <td>483.0</td>\n",
       "      <td>NaN</td>\n",
       "      <td>1.0</td>\n",
       "      <td>11652.0</td>\n",
       "    </tr>\n",
       "    <tr>\n",
       "      <th>1989</th>\n",
       "      <td>NaN</td>\n",
       "      <td>52.0</td>\n",
       "      <td>14.0</td>\n",
       "      <td>NaN</td>\n",
       "      <td>NaN</td>\n",
       "      <td>20475.0</td>\n",
       "    </tr>\n",
       "    <tr>\n",
       "      <th>1990</th>\n",
       "      <td>NaN</td>\n",
       "      <td>74.0</td>\n",
       "      <td>3.0</td>\n",
       "      <td>NaN</td>\n",
       "      <td>NaN</td>\n",
       "      <td>26361.0</td>\n",
       "    </tr>\n",
       "    <tr>\n",
       "      <th>1991</th>\n",
       "      <td>NaN</td>\n",
       "      <td>82.0</td>\n",
       "      <td>NaN</td>\n",
       "      <td>NaN</td>\n",
       "      <td>NaN</td>\n",
       "      <td>30013.0</td>\n",
       "    </tr>\n",
       "    <tr>\n",
       "      <th>1992</th>\n",
       "      <td>NaN</td>\n",
       "      <td>471.0</td>\n",
       "      <td>1.0</td>\n",
       "      <td>NaN</td>\n",
       "      <td>NaN</td>\n",
       "      <td>33051.0</td>\n",
       "    </tr>\n",
       "    <tr>\n",
       "      <th>1993</th>\n",
       "      <td>NaN</td>\n",
       "      <td>1468.0</td>\n",
       "      <td>1.0</td>\n",
       "      <td>NaN</td>\n",
       "      <td>NaN</td>\n",
       "      <td>32629.0</td>\n",
       "    </tr>\n",
       "    <tr>\n",
       "      <th>1994</th>\n",
       "      <td>NaN</td>\n",
       "      <td>2290.0</td>\n",
       "      <td>1.0</td>\n",
       "      <td>NaN</td>\n",
       "      <td>NaN</td>\n",
       "      <td>35269.0</td>\n",
       "    </tr>\n",
       "    <tr>\n",
       "      <th>1995</th>\n",
       "      <td>NaN</td>\n",
       "      <td>2121.0</td>\n",
       "      <td>NaN</td>\n",
       "      <td>NaN</td>\n",
       "      <td>NaN</td>\n",
       "      <td>32818.0</td>\n",
       "    </tr>\n",
       "    <tr>\n",
       "      <th>1996</th>\n",
       "      <td>NaN</td>\n",
       "      <td>2605.0</td>\n",
       "      <td>1.0</td>\n",
       "      <td>NaN</td>\n",
       "      <td>NaN</td>\n",
       "      <td>33407.0</td>\n",
       "    </tr>\n",
       "    <tr>\n",
       "      <th>1997</th>\n",
       "      <td>NaN</td>\n",
       "      <td>2785.0</td>\n",
       "      <td>NaN</td>\n",
       "      <td>NaN</td>\n",
       "      <td>NaN</td>\n",
       "      <td>26985.0</td>\n",
       "    </tr>\n",
       "    <tr>\n",
       "      <th>1998</th>\n",
       "      <td>NaN</td>\n",
       "      <td>1660.0</td>\n",
       "      <td>NaN</td>\n",
       "      <td>NaN</td>\n",
       "      <td>NaN</td>\n",
       "      <td>8372.0</td>\n",
       "    </tr>\n",
       "    <tr>\n",
       "      <th>1999</th>\n",
       "      <td>NaN</td>\n",
       "      <td>5575.0</td>\n",
       "      <td>NaN</td>\n",
       "      <td>NaN</td>\n",
       "      <td>NaN</td>\n",
       "      <td>14314.0</td>\n",
       "    </tr>\n",
       "    <tr>\n",
       "      <th>2000</th>\n",
       "      <td>NaN</td>\n",
       "      <td>5113.0</td>\n",
       "      <td>NaN</td>\n",
       "      <td>NaN</td>\n",
       "      <td>NaN</td>\n",
       "      <td>8216.0</td>\n",
       "    </tr>\n",
       "    <tr>\n",
       "      <th>2001</th>\n",
       "      <td>NaN</td>\n",
       "      <td>1036.0</td>\n",
       "      <td>2.0</td>\n",
       "      <td>NaN</td>\n",
       "      <td>NaN</td>\n",
       "      <td>7191.0</td>\n",
       "    </tr>\n",
       "    <tr>\n",
       "      <th>2002</th>\n",
       "      <td>NaN</td>\n",
       "      <td>832.0</td>\n",
       "      <td>2.0</td>\n",
       "      <td>NaN</td>\n",
       "      <td>NaN</td>\n",
       "      <td>8367.0</td>\n",
       "    </tr>\n",
       "    <tr>\n",
       "      <th>2003</th>\n",
       "      <td>NaN</td>\n",
       "      <td>147.0</td>\n",
       "      <td>1.0</td>\n",
       "      <td>NaN</td>\n",
       "      <td>NaN</td>\n",
       "      <td>235.0</td>\n",
       "    </tr>\n",
       "    <tr>\n",
       "      <th>2004</th>\n",
       "      <td>NaN</td>\n",
       "      <td>NaN</td>\n",
       "      <td>1.0</td>\n",
       "      <td>NaN</td>\n",
       "      <td>NaN</td>\n",
       "      <td>457.0</td>\n",
       "    </tr>\n",
       "    <tr>\n",
       "      <th>2005</th>\n",
       "      <td>1.0</td>\n",
       "      <td>NaN</td>\n",
       "      <td>978.0</td>\n",
       "      <td>NaN</td>\n",
       "      <td>NaN</td>\n",
       "      <td>295.0</td>\n",
       "    </tr>\n",
       "    <tr>\n",
       "      <th>2006</th>\n",
       "      <td>NaN</td>\n",
       "      <td>1.0</td>\n",
       "      <td>33822.0</td>\n",
       "      <td>NaN</td>\n",
       "      <td>NaN</td>\n",
       "      <td>420.0</td>\n",
       "    </tr>\n",
       "    <tr>\n",
       "      <th>2007</th>\n",
       "      <td>NaN</td>\n",
       "      <td>2.0</td>\n",
       "      <td>106544.0</td>\n",
       "      <td>1.0</td>\n",
       "      <td>NaN</td>\n",
       "      <td>745.0</td>\n",
       "    </tr>\n",
       "    <tr>\n",
       "      <th>2008</th>\n",
       "      <td>NaN</td>\n",
       "      <td>4.0</td>\n",
       "      <td>226176.0</td>\n",
       "      <td>NaN</td>\n",
       "      <td>NaN</td>\n",
       "      <td>957.0</td>\n",
       "    </tr>\n",
       "    <tr>\n",
       "      <th>2009</th>\n",
       "      <td>NaN</td>\n",
       "      <td>6.0</td>\n",
       "      <td>213440.0</td>\n",
       "      <td>NaN</td>\n",
       "      <td>NaN</td>\n",
       "      <td>362.0</td>\n",
       "    </tr>\n",
       "    <tr>\n",
       "      <th>-</th>\n",
       "      <td>NaN</td>\n",
       "      <td>NaN</td>\n",
       "      <td>NaN</td>\n",
       "      <td>NaN</td>\n",
       "      <td>NaN</td>\n",
       "      <td>55.0</td>\n",
       "    </tr>\n",
       "    <tr>\n",
       "      <th>0</th>\n",
       "      <td>NaN</td>\n",
       "      <td>3.0</td>\n",
       "      <td>NaN</td>\n",
       "      <td>NaN</td>\n",
       "      <td>NaN</td>\n",
       "      <td>430.0</td>\n",
       "    </tr>\n",
       "    <tr>\n",
       "      <th>O</th>\n",
       "      <td>NaN</td>\n",
       "      <td>NaN</td>\n",
       "      <td>NaN</td>\n",
       "      <td>NaN</td>\n",
       "      <td>NaN</td>\n",
       "      <td>3.0</td>\n",
       "    </tr>\n",
       "    <tr>\n",
       "      <th>U</th>\n",
       "      <td>NaN</td>\n",
       "      <td>NaN</td>\n",
       "      <td>3.0</td>\n",
       "      <td>NaN</td>\n",
       "      <td>NaN</td>\n",
       "      <td>3.0</td>\n",
       "    </tr>\n",
       "  </tbody>\n",
       "</table>\n",
       "</div>"
      ],
      "text/plain": [
       "연료              CNG(압축천연가스)  LPG(액화석유가스)        경유  기타연료  알코올      휘발유\n",
       "차대번호_10자리_기준연식                                                        \n",
       "1980                    NaN          NaN  252705.0   NaN  NaN      2.0\n",
       "1981                    NaN          NaN  237573.0   NaN  NaN      5.0\n",
       "1982                    NaN          NaN   94135.0   NaN  NaN     54.0\n",
       "1983                    NaN          NaN      29.0   NaN  NaN     70.0\n",
       "1984                    NaN          NaN      13.0   NaN  NaN      1.0\n",
       "1985                    NaN          NaN     463.0   NaN  NaN      6.0\n",
       "1986                    NaN          NaN     482.0   NaN  NaN     12.0\n",
       "1987                    NaN          NaN     732.0   NaN  NaN   1299.0\n",
       "1988                    NaN         91.0     483.0   NaN  1.0  11652.0\n",
       "1989                    NaN         52.0      14.0   NaN  NaN  20475.0\n",
       "1990                    NaN         74.0       3.0   NaN  NaN  26361.0\n",
       "1991                    NaN         82.0       NaN   NaN  NaN  30013.0\n",
       "1992                    NaN        471.0       1.0   NaN  NaN  33051.0\n",
       "1993                    NaN       1468.0       1.0   NaN  NaN  32629.0\n",
       "1994                    NaN       2290.0       1.0   NaN  NaN  35269.0\n",
       "1995                    NaN       2121.0       NaN   NaN  NaN  32818.0\n",
       "1996                    NaN       2605.0       1.0   NaN  NaN  33407.0\n",
       "1997                    NaN       2785.0       NaN   NaN  NaN  26985.0\n",
       "1998                    NaN       1660.0       NaN   NaN  NaN   8372.0\n",
       "1999                    NaN       5575.0       NaN   NaN  NaN  14314.0\n",
       "2000                    NaN       5113.0       NaN   NaN  NaN   8216.0\n",
       "2001                    NaN       1036.0       2.0   NaN  NaN   7191.0\n",
       "2002                    NaN        832.0       2.0   NaN  NaN   8367.0\n",
       "2003                    NaN        147.0       1.0   NaN  NaN    235.0\n",
       "2004                    NaN          NaN       1.0   NaN  NaN    457.0\n",
       "2005                    1.0          NaN     978.0   NaN  NaN    295.0\n",
       "2006                    NaN          1.0   33822.0   NaN  NaN    420.0\n",
       "2007                    NaN          2.0  106544.0   1.0  NaN    745.0\n",
       "2008                    NaN          4.0  226176.0   NaN  NaN    957.0\n",
       "2009                    NaN          6.0  213440.0   NaN  NaN    362.0\n",
       "-                       NaN          NaN       NaN   NaN  NaN     55.0\n",
       "0                       NaN          3.0       NaN   NaN  NaN    430.0\n",
       "O                       NaN          NaN       NaN   NaN  NaN      3.0\n",
       "U                       NaN          NaN       3.0   NaN  NaN      3.0"
      ]
     },
     "execution_count": 571,
     "metadata": {},
     "output_type": "execute_result"
    }
   ],
   "source": [
    "df6.groupby(['차대번호_10자리_기준연식', '연료'])['차대번호'].count().unstack()"
   ]
  },
  {
   "attachments": {},
   "cell_type": "markdown",
   "metadata": {},
   "source": [
    "##### [출력] vin 10자리문자기준별, 연료별 차대번호 통계"
   ]
  },
  {
   "cell_type": "code",
   "execution_count": 572,
   "metadata": {},
   "outputs": [],
   "source": [
    "# vin 10자리 문자기준별, 연료별 차대번호 통계\n",
    "df6.groupby(['차대번호_10자리_기준연식', '연료'])['차대번호'].count().unstack().to_excel('analysis/[G4][차량연식]차대번호10번째자리문자기준_통계.xlsx')"
   ]
  },
  {
   "cell_type": "code",
   "execution_count": 575,
   "metadata": {},
   "outputs": [
    {
     "data": {
      "text/plain": [
       "(1528557, 64)"
      ]
     },
     "execution_count": 575,
     "metadata": {},
     "output_type": "execute_result"
    }
   ],
   "source": [
    "df6.shape"
   ]
  },
  {
   "cell_type": "code",
   "execution_count": 582,
   "metadata": {},
   "outputs": [
    {
     "data": {
      "text/plain": [
       "Index(['차량관리번호', '차량등록번호', '본거지법정동코드', '소유자구분', '차종_등록정보', '용도', '차대번호',\n",
       "       '최초등록일자', '차량연식', '차량제작일자', '검사유효일', '제원관리번호', '배출가스인증번호', '배출가스등급',\n",
       "       '저공해조치종류', '저공해조치구조변경YN', '취득일자', '취득금액', '차명', '차종_제원정보', '차종분류',\n",
       "       '차종유형', '자동차형식', '제작사명', '연료', '엔진형식', '총중량', '적재중량', '엔진출력', '배기량',\n",
       "       '승차인원', '차량길이', '차량너비', '차량높이', '원산지명', '삭제YN', '제원승인일자', '구동형식',\n",
       "       '변속기종류', 'code1', '시도', '시구군', '폐지여부', '대기관리권역', '대기관리권역YN', '총중량_분류',\n",
       "       '총중량_코드', '배기량_분류', '배기량_코드', '배출가스인증번호_코드', 'wmi', 'WMI', 'MF CODE',\n",
       "       'Identifier', 'Manufacturer', 'Country', 'Vehicle Types', 'Description',\n",
       "       '참고', 'VIN_length', 'IOQ', 'alpha', '차대번호_10자리', '차대번호_10자리_기준연식'],\n",
       "      dtype='object')"
      ]
     },
     "execution_count": 582,
     "metadata": {},
     "output_type": "execute_result"
    }
   ],
   "source": [
    "df6.columns"
   ]
  },
  {
   "attachments": {},
   "cell_type": "markdown",
   "metadata": {},
   "source": [
    "# [출력] '총중량_분류', '총중량_코드', '배기량_분류', '배기량_코드', '배출가스인증번호_코드', 'wmi', 'WMI', 'MF CODE', 'Identifier', 'Manufacturer', 'Country', 'Vehicle Types', 'Description', '참고', 'VIN_length', 'IOQ', 'alpha', '차대번호_10자리', '차대번호_10자리_기준연식'"
   ]
  },
  {
   "cell_type": "code",
   "execution_count": null,
   "metadata": {},
   "outputs": [],
   "source": [
    "# 약 42 s\n",
    "df6.to_csv('data/[G4]220819_22.06월기준_4등급.csv')"
   ]
  },
  {
   "attachments": {},
   "cell_type": "markdown",
   "metadata": {},
   "source": [
    "## [로드]정기/정밀 검사 데이터 로드"
   ]
  },
  {
   "cell_type": "code",
   "execution_count": 3,
   "metadata": {},
   "outputs": [
    {
     "name": "stderr",
     "output_type": "stream",
     "text": [
      "C:\\Users\\kbjung\\AppData\\Local\\Temp\\ipykernel_6508\\4283608937.py:2: DtypeWarning: Columns (36,39,42,45,48,63) have mixed types. Specify dtype option on import or set low_memory=False.\n",
      "  per_ins = pd.read_csv('data/[정기검사]20190701_20220630.csv', index_col=0)\n"
     ]
    }
   ],
   "source": [
    "# 약 4m\n",
    "per_ins = pd.read_csv('data/[정기검사]20190701_20220630.csv', index_col=0)"
   ]
  },
  {
   "cell_type": "code",
   "execution_count": 4,
   "metadata": {},
   "outputs": [
    {
     "data": {
      "text/plain": [
       "(16535477, 63)"
      ]
     },
     "execution_count": 4,
     "metadata": {},
     "output_type": "execute_result"
    }
   ],
   "source": [
    "per_ins.shape"
   ]
  },
  {
   "cell_type": "code",
   "execution_count": 5,
   "metadata": {},
   "outputs": [
    {
     "name": "stderr",
     "output_type": "stream",
     "text": [
      "C:\\Users\\kbjung\\AppData\\Local\\Temp\\ipykernel_6508\\1915627214.py:2: DtypeWarning: Columns (13,44,45,46,49,53,54,55,59,60,61,65,66,73,74) have mixed types. Specify dtype option on import or set low_memory=False.\n",
      "  per_d_ins = pd.read_csv('data/[정밀검사]20190701_20220630.csv', index_col=0)\n"
     ]
    }
   ],
   "source": [
    "# 약 11m\n",
    "per_d_ins = pd.read_csv('data/[정밀검사]20190701_20220630.csv', index_col=0)"
   ]
  },
  {
   "cell_type": "code",
   "execution_count": 6,
   "metadata": {},
   "outputs": [
    {
     "data": {
      "text/plain": [
       "(22397343, 75)"
      ]
     },
     "execution_count": 6,
     "metadata": {},
     "output_type": "execute_result"
    }
   ],
   "source": [
    "per_d_ins.shape"
   ]
  },
  {
   "cell_type": "code",
   "execution_count": 7,
   "metadata": {},
   "outputs": [
    {
     "data": {
      "text/plain": [
       "Index(['검사소명', '정기검사일자', '검사종류', '검사접수번호', '통합접수번호', '차량번호', '차대번호', '차량형식번호',\n",
       "       '차명', '차종', '차량용도', '차량연식', '차량연료', '주행거리', '차량길이', '차량너비', '차량높이',\n",
       "       '엔진형식', '배기량', '엔진출력', '차량중량', '총중량', '정원', '비고', '최초등록일자', '제작일자',\n",
       "       '검사전 유효기간 만료일', '관능검사판정', '관능부적합항목', '검사방법', '무부하매연측정치1', '무부하매연허용치1',\n",
       "       '무부하매연판정1', '무부하매연측정치2', '무부하매연허용치2', '무부하매연판정2', '무부하매연측정치3',\n",
       "       '무부하매연허용치3', '무부하매연판정3', '무부하매연측정치4', '무부하매연허용치4', '무부하매연판정4',\n",
       "       '무부하매연측정치5', '무부하매연허용치5', '무부하매연판정5', '무부하매연측정치6', '무부하매연허용치6',\n",
       "       '무부하매연판정6', '이산화탄소값', '최대출력허용치', '최대출력측정값', '산소값', '공기온도', '공기압력',\n",
       "       '검사판정', '재검사기간', '검사후 갱신유효기간', '관능검사원', '배출가스검사원', '책임검사원', '검사 판정시간',\n",
       "       '자료구분코드', '파일명'],\n",
       "      dtype='object')"
      ]
     },
     "execution_count": 7,
     "metadata": {},
     "output_type": "execute_result"
    }
   ],
   "source": [
    "per_ins.columns"
   ]
  },
  {
   "cell_type": "code",
   "execution_count": 675,
   "metadata": {},
   "outputs": [
    {
     "data": {
      "text/plain": [
       "array([nan])"
      ]
     },
     "execution_count": 675,
     "metadata": {},
     "output_type": "execute_result"
    }
   ],
   "source": [
    "per_ins['공기온도'].unique()"
   ]
  },
  {
   "cell_type": "code",
   "execution_count": 8,
   "metadata": {},
   "outputs": [
    {
     "data": {
      "text/plain": [
       "Index(['정밀검사소명', '정밀검사일자', '정밀검사종류', '정밀검사접수번호', '차량번호', '차대번호', '차량형식번호',\n",
       "       '차명', '차종', '차량용도', '차량연식', '차량연료', '주행거리', '차량길이', '차량너비', '차량높이',\n",
       "       '엔진형식', '원동기배기량', '엔진출력', '차량중량', '총중량', '정원', '비고', '최초등록일',\n",
       "       '정밀검사유효기간', '관능검사판정', '관능검사부적합내용', '정밀검사측정방법', '무부하매연측정치1', '무부하매연허용치1',\n",
       "       '무부하매연판정1', '무부하매연측정치2', '무부하매연허용치2', '무부하매연판정2', '무부하매연측정치3',\n",
       "       '무부하매연허용치3', '무부하매연판정3', '무부하매연측정치4', '무부하매연허용치4', '무부하매연판정4',\n",
       "       '무부하매연측정치5', '무부하매연허용치5', '무부하매연판정5', '무부하매연측정치6', '무부하매연허용치6',\n",
       "       '무부하매연판정6', '이산화탄소값', '최대출력허용치', '최대출력측정값', '산소값', '공기온도', '공기압력',\n",
       "       '정밀검사판정', '재검사기간', '정밀검사유효기간2', '관능검사등록자', '정밀검사등록자', '정밀검사소대표명',\n",
       "       '기타내용1', '기타내용2', '기타내용3', '기타내용4', '기타내용5', '원본대장테이블', '정밀검사시간정보',\n",
       "       '통합접수번호', '데이터생성일자', '수신파일명', '제작등록일자', '데이터구분', '삭제구분', '삭제사유1',\n",
       "       '삭제사유2', '삭제사유3', '삭제사유4'],\n",
       "      dtype='object')"
      ]
     },
     "execution_count": 8,
     "metadata": {},
     "output_type": "execute_result"
    }
   ],
   "source": [
    "per_d_ins.columns"
   ]
  },
  {
   "cell_type": "code",
   "execution_count": 679,
   "metadata": {},
   "outputs": [
    {
     "data": {
      "text/plain": [
       "array([  0.  ,   3.7 ,    nan, ...,  19.17, 159.6 ,  30.9 ])"
      ]
     },
     "execution_count": 679,
     "metadata": {},
     "output_type": "execute_result"
    }
   ],
   "source": [
    "per_d_ins['산소값'].unique()"
   ]
  },
  {
   "cell_type": "code",
   "execution_count": 680,
   "metadata": {},
   "outputs": [
    {
     "data": {
      "text/plain": [
       "0.00     13318535\n",
       "0.10       706340\n",
       "0.20       275318\n",
       "14.80      228366\n",
       "14.70      222326\n",
       "           ...   \n",
       "8.89            1\n",
       "19.73           1\n",
       "10.01           1\n",
       "31.40           1\n",
       "30.90           1\n",
       "Name: 산소값, Length: 2268, dtype: int64"
      ]
     },
     "execution_count": 680,
     "metadata": {},
     "output_type": "execute_result"
    }
   ],
   "source": [
    "per_d_ins['산소값'].value_counts()"
   ]
  },
  {
   "cell_type": "code",
   "execution_count": 678,
   "metadata": {},
   "outputs": [
    {
     "data": {
      "text/plain": [
       "array([  0. ,   nan,  30.8, ..., 102. , 167. , 113. ])"
      ]
     },
     "execution_count": 678,
     "metadata": {},
     "output_type": "execute_result"
    }
   ],
   "source": [
    "per_d_ins['공기온도'].unique()"
   ]
  },
  {
   "cell_type": "code",
   "execution_count": 677,
   "metadata": {},
   "outputs": [
    {
     "data": {
      "text/plain": [
       "array([ 0.000e+00,        nan,  1.019e+02, ..., -2.000e-01,  9.998e+02,\n",
       "        6.000e+00])"
      ]
     },
     "execution_count": 677,
     "metadata": {},
     "output_type": "execute_result"
    }
   ],
   "source": [
    "per_d_ins['공기압력'].unique()"
   ]
  },
  {
   "cell_type": "code",
   "execution_count": 681,
   "metadata": {},
   "outputs": [
    {
     "data": {
      "text/plain": [
       "6552.0"
      ]
     },
     "execution_count": 681,
     "metadata": {},
     "output_type": "execute_result"
    }
   ],
   "source": [
    "per_d_ins['공기압력'].max()"
   ]
  },
  {
   "cell_type": "code",
   "execution_count": 682,
   "metadata": {},
   "outputs": [
    {
     "data": {
      "text/plain": [
       "-1499.7"
      ]
     },
     "execution_count": 682,
     "metadata": {},
     "output_type": "execute_result"
    }
   ],
   "source": [
    "per_d_ins['공기압력'].min()"
   ]
  },
  {
   "cell_type": "code",
   "execution_count": 9,
   "metadata": {},
   "outputs": [
    {
     "data": {
      "text/plain": [
       "array(['무부하검사(급가속)', '무부하검사(TSI)', '무부하검사(정지가동)'], dtype=object)"
      ]
     },
     "execution_count": 9,
     "metadata": {},
     "output_type": "execute_result"
    }
   ],
   "source": [
    "per_ins['검사방법'].unique()"
   ]
  },
  {
   "cell_type": "code",
   "execution_count": 683,
   "metadata": {},
   "outputs": [
    {
     "data": {
      "text/plain": [
       "3.0"
      ]
     },
     "execution_count": 683,
     "metadata": {},
     "output_type": "execute_result"
    }
   ],
   "source": [
    "per_ins['무부하매연측정치6'].max()"
   ]
  },
  {
   "cell_type": "code",
   "execution_count": 684,
   "metadata": {},
   "outputs": [
    {
     "data": {
      "text/plain": [
       "0.0"
      ]
     },
     "execution_count": 684,
     "metadata": {},
     "output_type": "execute_result"
    }
   ],
   "source": [
    "per_ins['무부하매연측정치6'].min()"
   ]
  },
  {
   "cell_type": "code",
   "execution_count": 685,
   "metadata": {},
   "outputs": [
    {
     "data": {
      "text/plain": [
       "1.00    1584200\n",
       "1.01     968540\n",
       "0.99     696920\n",
       "1.02     356388\n",
       "1.03     197479\n",
       "         ...   \n",
       "2.09          1\n",
       "2.47          1\n",
       "0.36          1\n",
       "2.82          1\n",
       "2.53          1\n",
       "Name: 무부하매연측정치6, Length: 241, dtype: int64"
      ]
     },
     "execution_count": 685,
     "metadata": {},
     "output_type": "execute_result"
    }
   ],
   "source": [
    "per_ins['무부하매연측정치6'].value_counts()"
   ]
  },
  {
   "cell_type": "code",
   "execution_count": 690,
   "metadata": {},
   "outputs": [
    {
     "data": {
      "text/plain": [
       "(16535477, 63)"
      ]
     },
     "execution_count": 690,
     "metadata": {},
     "output_type": "execute_result"
    }
   ],
   "source": [
    "per_ins.shape"
   ]
  },
  {
   "cell_type": "code",
   "execution_count": 689,
   "metadata": {},
   "outputs": [
    {
     "data": {
      "text/plain": [
       "(5639, 63)"
      ]
     },
     "execution_count": 689,
     "metadata": {},
     "output_type": "execute_result"
    }
   ],
   "source": [
    "per_ins[(per_ins['무부하매연측정치6'] > 1.2) | (per_ins['무부하매연측정치6'] < 0.8)].shape"
   ]
  },
  {
   "cell_type": "code",
   "execution_count": 10,
   "metadata": {},
   "outputs": [
    {
     "data": {
      "text/plain": [
       "array(['부하검사(ASM-Idling)', '부하검사(KD-147)', '무부하검사(TSI)', '무부하검사(급가속)',\n",
       "       '부하검사(LUG DOWN)', '무부하검사(정지가동)', '부하검사(ASM2525)'], dtype=object)"
      ]
     },
     "execution_count": 10,
     "metadata": {},
     "output_type": "execute_result"
    }
   ],
   "source": [
    "per_d_ins['정밀검사측정방법'].unique()"
   ]
  },
  {
   "cell_type": "code",
   "execution_count": 11,
   "metadata": {},
   "outputs": [
    {
     "data": {
      "text/plain": [
       "0    20190702 14:51:40\n",
       "1    20190702 14:52:45\n",
       "2    20190702 14:49:28\n",
       "3    20190702 15:58:57\n",
       "4    20190702 14:52:04\n",
       "Name: 검사 판정시간, dtype: object"
      ]
     },
     "execution_count": 11,
     "metadata": {},
     "output_type": "execute_result"
    }
   ],
   "source": [
    "per_ins['검사 판정시간'].head()"
   ]
  },
  {
   "cell_type": "code",
   "execution_count": 13,
   "metadata": {},
   "outputs": [
    {
     "data": {
      "text/plain": [
       "0    20190701 17:13:00\n",
       "1    20190701 17:45:15\n",
       "2                  NaN\n",
       "3    20190701 17:17:41\n",
       "4    20190701 17:23:59\n",
       "Name: 정밀검사시간정보, dtype: object"
      ]
     },
     "execution_count": 13,
     "metadata": {},
     "output_type": "execute_result"
    }
   ],
   "source": [
    "per_d_ins['정밀검사시간정보'].head()"
   ]
  },
  {
   "cell_type": "code",
   "execution_count": 14,
   "metadata": {},
   "outputs": [
    {
     "data": {
      "text/plain": [
       "'20190702 14:51:40'"
      ]
     },
     "execution_count": 14,
     "metadata": {},
     "output_type": "execute_result"
    }
   ],
   "source": [
    "per_ins['검사 판정시간'][0]"
   ]
  },
  {
   "cell_type": "code",
   "execution_count": 15,
   "metadata": {},
   "outputs": [
    {
     "data": {
      "text/plain": [
       "'20190701 17:13:00'"
      ]
     },
     "execution_count": 15,
     "metadata": {},
     "output_type": "execute_result"
    }
   ],
   "source": [
    "per_d_ins['정밀검사시간정보'][0]"
   ]
  },
  {
   "cell_type": "code",
   "execution_count": 16,
   "metadata": {},
   "outputs": [
    {
     "data": {
      "text/plain": [
       "True"
      ]
     },
     "execution_count": 16,
     "metadata": {},
     "output_type": "execute_result"
    }
   ],
   "source": [
    "per_ins['검사 판정시간'][0] > per_d_ins['정밀검사시간정보'][0]"
   ]
  },
  {
   "cell_type": "code",
   "execution_count": 17,
   "metadata": {},
   "outputs": [
    {
     "data": {
      "text/plain": [
       "False"
      ]
     },
     "execution_count": 17,
     "metadata": {},
     "output_type": "execute_result"
    }
   ],
   "source": [
    "per_ins['검사 판정시간'][0] < per_d_ins['정밀검사시간정보'][0]"
   ]
  },
  {
   "attachments": {},
   "cell_type": "markdown",
   "metadata": {},
   "source": [
    "### 정기 검사 데이터 확인"
   ]
  },
  {
   "cell_type": "code",
   "execution_count": 38,
   "metadata": {},
   "outputs": [
    {
     "data": {
      "text/plain": [
       "무부하매연측정치1     1148260\n",
       "무부하매연허용치1     1148260\n",
       "무부하매연판정1      1148260\n",
       "무부하매연측정치2    10820017\n",
       "무부하매연허용치2    10820017\n",
       "무부하매연판정2     10820017\n",
       "무부하매연측정치3    10820017\n",
       "무부하매연허용치3    10820052\n",
       "무부하매연판정3     10820052\n",
       "무부하매연측정치4    12029796\n",
       "무부하매연허용치4    12029796\n",
       "무부하매연판정4     12029796\n",
       "무부하매연측정치5    12029796\n",
       "무부하매연허용치5    12029796\n",
       "무부하매연판정5     12029796\n",
       "무부하매연측정치6    12029796\n",
       "무부하매연허용치6    12029806\n",
       "무부하매연판정6     12029806\n",
       "dtype: int64"
      ]
     },
     "execution_count": 38,
     "metadata": {},
     "output_type": "execute_result"
    }
   ],
   "source": [
    "per_ins[['무부하매연측정치1', '무부하매연허용치1',\n",
    "       '무부하매연판정1', '무부하매연측정치2', '무부하매연허용치2', '무부하매연판정2', '무부하매연측정치3',\n",
    "       '무부하매연허용치3', '무부하매연판정3', '무부하매연측정치4', '무부하매연허용치4', '무부하매연판정4',\n",
    "       '무부하매연측정치5', '무부하매연허용치5', '무부하매연판정5', '무부하매연측정치6', '무부하매연허용치6',\n",
    "       '무부하매연판정6']].isnull().sum()"
   ]
  },
  {
   "cell_type": "code",
   "execution_count": 24,
   "metadata": {},
   "outputs": [
    {
     "data": {
      "text/plain": [
       "Int64Index([    1056,     1057,     1058,     1059,     1060,     1063,\n",
       "                1064,     1067,     1068,     1070,\n",
       "            ...\n",
       "            16533202, 16533713, 16533714, 16533716, 16533722, 16533760,\n",
       "            16533761, 16533766, 16533767, 16533769],\n",
       "           dtype='int64', length=4505681)"
      ]
     },
     "execution_count": 24,
     "metadata": {},
     "output_type": "execute_result"
    }
   ],
   "source": [
    "per_ins[per_ins['무부하매연측정치6'].isnull() == False].index"
   ]
  },
  {
   "cell_type": "code",
   "execution_count": 26,
   "metadata": {},
   "outputs": [
    {
     "data": {
      "text/plain": [
       "Int64Index([], dtype='int64')"
      ]
     },
     "execution_count": 26,
     "metadata": {},
     "output_type": "execute_result"
    }
   ],
   "source": [
    "# 6번 측정치 존재하면서 나머지 없는 경우 : 0\n",
    "per_ins[(per_ins['무부하매연측정치6'].isnull() == False) & ((per_ins['무부하매연측정치1'].isnull() == True) | (per_ins['무부하매연측정치2'].isnull() == True) | (per_ins['무부하매연측정치3'].isnull() == True) | (per_ins['무부하매연측정치4'].isnull() == True) | (per_ins['무부하매연측정치5'].isnull() == True))].index"
   ]
  },
  {
   "cell_type": "code",
   "execution_count": 27,
   "metadata": {},
   "outputs": [
    {
     "data": {
      "text/plain": [
       "Int64Index([], dtype='int64')"
      ]
     },
     "execution_count": 27,
     "metadata": {},
     "output_type": "execute_result"
    }
   ],
   "source": [
    "# 5번 측정치 존재하면서 나머지 없는 경우 : 0\n",
    "per_ins[(per_ins['무부하매연측정치5'].isnull() == False) & ((per_ins['무부하매연측정치1'].isnull() == True) | (per_ins['무부하매연측정치2'].isnull() == True) | (per_ins['무부하매연측정치3'].isnull() == True) | (per_ins['무부하매연측정치4'].isnull() == True))].index"
   ]
  },
  {
   "cell_type": "code",
   "execution_count": 28,
   "metadata": {},
   "outputs": [
    {
     "data": {
      "text/plain": [
       "Int64Index([], dtype='int64')"
      ]
     },
     "execution_count": 28,
     "metadata": {},
     "output_type": "execute_result"
    }
   ],
   "source": [
    "# 4번 측정치 존재하면서 나머지 없는 경우 : 0\n",
    "per_ins[(per_ins['무부하매연측정치4'].isnull() == False) & ((per_ins['무부하매연측정치1'].isnull() == True) | (per_ins['무부하매연측정치2'].isnull() == True) | (per_ins['무부하매연측정치3'].isnull() == True))].index"
   ]
  },
  {
   "cell_type": "code",
   "execution_count": 29,
   "metadata": {},
   "outputs": [
    {
     "data": {
      "text/plain": [
       "Int64Index([], dtype='int64')"
      ]
     },
     "execution_count": 29,
     "metadata": {},
     "output_type": "execute_result"
    }
   ],
   "source": [
    "# 3번 측정치 존재하면서 나머지 없는 경우 : 0\n",
    "per_ins[(per_ins['무부하매연측정치3'].isnull() == False) & ((per_ins['무부하매연측정치1'].isnull() == True) | (per_ins['무부하매연측정치2'].isnull() == True))].index"
   ]
  },
  {
   "cell_type": "code",
   "execution_count": 30,
   "metadata": {},
   "outputs": [
    {
     "data": {
      "text/plain": [
       "Int64Index([], dtype='int64')"
      ]
     },
     "execution_count": 30,
     "metadata": {},
     "output_type": "execute_result"
    }
   ],
   "source": [
    "# 2번 측정치 존재하면서 나머지 없는 경우 : 0\n",
    "per_ins[(per_ins['무부하매연측정치3'].isnull() == False) & ((per_ins['무부하매연측정치1'].isnull() == True))].index"
   ]
  },
  {
   "cell_type": "code",
   "execution_count": 31,
   "metadata": {},
   "outputs": [
    {
     "data": {
      "text/plain": [
       "[0.0,\n",
       " 1.0,\n",
       " 'Y',\n",
       " 15.0,\n",
       " 120.0,\n",
       " 'Y',\n",
       " 1.01,\n",
       " 0.1,\n",
       " 'Y',\n",
       " 0.1,\n",
       " 1.0,\n",
       " 'Y',\n",
       " 31.0,\n",
       " 120.0,\n",
       " 'Y',\n",
       " 1.0,\n",
       " 0.1,\n",
       " 'Y',\n",
       " '20190701 13:44:39']"
      ]
     },
     "execution_count": 31,
     "metadata": {},
     "output_type": "execute_result"
    }
   ],
   "source": [
    "per_ins.loc[1056, ['무부하매연측정치1', '무부하매연허용치1',\n",
    "       '무부하매연판정1', '무부하매연측정치2', '무부하매연허용치2', '무부하매연판정2', '무부하매연측정치3',\n",
    "       '무부하매연허용치3', '무부하매연판정3', '무부하매연측정치4', '무부하매연허용치4', '무부하매연판정4',\n",
    "       '무부하매연측정치5', '무부하매연허용치5', '무부하매연판정5', '무부하매연측정치6', '무부하매연허용치6',\n",
    "       '무부하매연판정6', '검사 판정시간']].to_list()"
   ]
  },
  {
   "cell_type": "code",
   "execution_count": 43,
   "metadata": {},
   "outputs": [
    {
     "data": {
      "text/plain": [
       "무부하매연측정치1                  2.0\n",
       "무부하매연허용치1                 25.0\n",
       "무부하매연판정1                     Y\n",
       "무부하매연측정치2                  NaN\n",
       "무부하매연허용치2                  NaN\n",
       "무부하매연판정2                   NaN\n",
       "무부하매연측정치3                  NaN\n",
       "무부하매연허용치3                  NaN\n",
       "무부하매연판정3                   NaN\n",
       "무부하매연측정치4                  NaN\n",
       "무부하매연허용치4                  NaN\n",
       "무부하매연판정4                   NaN\n",
       "무부하매연측정치5                  NaN\n",
       "무부하매연허용치5                  NaN\n",
       "무부하매연판정5                   NaN\n",
       "무부하매연측정치6                  NaN\n",
       "무부하매연허용치6                  NaN\n",
       "무부하매연판정6                   NaN\n",
       "검사 판정시간      20190702 14:51:40\n",
       "Name: 0, dtype: object"
      ]
     },
     "execution_count": 43,
     "metadata": {},
     "output_type": "execute_result"
    }
   ],
   "source": [
    "temp = per_ins.loc[0, ['무부하매연측정치1', '무부하매연허용치1',\n",
    "       '무부하매연판정1', '무부하매연측정치2', '무부하매연허용치2', '무부하매연판정2', '무부하매연측정치3',\n",
    "       '무부하매연허용치3', '무부하매연판정3', '무부하매연측정치4', '무부하매연허용치4', '무부하매연판정4',\n",
    "       '무부하매연측정치5', '무부하매연허용치5', '무부하매연판정5', '무부하매연측정치6', '무부하매연허용치6',\n",
    "       '무부하매연판정6', '검사 판정시간']]\n",
    "temp"
   ]
  },
  {
   "cell_type": "code",
   "execution_count": 44,
   "metadata": {},
   "outputs": [
    {
     "data": {
      "text/plain": [
       "2.0"
      ]
     },
     "execution_count": 44,
     "metadata": {},
     "output_type": "execute_result"
    }
   ],
   "source": [
    "temp['무부하매연측정치1']"
   ]
  },
  {
   "cell_type": "code",
   "execution_count": 76,
   "metadata": {},
   "outputs": [
    {
     "data": {
      "text/plain": [
       "True"
      ]
     },
     "execution_count": 76,
     "metadata": {},
     "output_type": "execute_result"
    }
   ],
   "source": [
    "np.isnan(temp['무부하매연측정치2'])"
   ]
  },
  {
   "attachments": {},
   "cell_type": "markdown",
   "metadata": {},
   "source": [
    "### 정기검사 Grade 점수 계산 테스트"
   ]
  },
  {
   "cell_type": "code",
   "execution_count": 47,
   "metadata": {},
   "outputs": [
    {
     "data": {
      "text/plain": [
       "0.0"
      ]
     },
     "execution_count": 47,
     "metadata": {},
     "output_type": "execute_result"
    }
   ],
   "source": [
    "float('0.0')"
   ]
  },
  {
   "cell_type": "code",
   "execution_count": 53,
   "metadata": {},
   "outputs": [
    {
     "data": {
      "text/plain": [
       "nan"
      ]
     },
     "execution_count": 53,
     "metadata": {},
     "output_type": "execute_result"
    }
   ],
   "source": [
    "float(np.nan)"
   ]
  },
  {
   "cell_type": "code",
   "execution_count": 62,
   "metadata": {},
   "outputs": [
    {
     "data": {
      "text/plain": [
       "<re.Match object; span=(0, 3), match='0.0'>"
      ]
     },
     "execution_count": 62,
     "metadata": {},
     "output_type": "execute_result"
    }
   ],
   "source": [
    "gas_mea_value_p = re.compile('\\d[.]\\d')\n",
    "gas_mea_value_p.search('0.0')"
   ]
  },
  {
   "cell_type": "code",
   "execution_count": 69,
   "metadata": {},
   "outputs": [],
   "source": [
    "gas_mea_value_p.search('20190701 13:44:39')"
   ]
  },
  {
   "cell_type": "code",
   "execution_count": 64,
   "metadata": {},
   "outputs": [],
   "source": [
    "gas_mea_value_p.search('H5262021070100191')"
   ]
  },
  {
   "cell_type": "code",
   "execution_count": 65,
   "metadata": {},
   "outputs": [],
   "source": [
    "gas_mea_value_p.search('20210702')"
   ]
  },
  {
   "cell_type": "code",
   "execution_count": 92,
   "metadata": {},
   "outputs": [
    {
     "data": {
      "text/plain": [
       "2.0"
      ]
     },
     "execution_count": 92,
     "metadata": {},
     "output_type": "execute_result"
    }
   ],
   "source": [
    "temp['무부하매연측정치1']"
   ]
  },
  {
   "cell_type": "code",
   "execution_count": 81,
   "metadata": {},
   "outputs": [
    {
     "data": {
      "text/plain": [
       "False"
      ]
     },
     "execution_count": 81,
     "metadata": {},
     "output_type": "execute_result"
    }
   ],
   "source": [
    "np.isnan(temp['무부하매연측정치1'])"
   ]
  },
  {
   "cell_type": "code",
   "execution_count": 84,
   "metadata": {},
   "outputs": [
    {
     "data": {
      "text/plain": [
       "무부하매연측정치1                  2.0\n",
       "무부하매연허용치1                 25.0\n",
       "무부하매연판정1                     Y\n",
       "무부하매연측정치2                  NaN\n",
       "무부하매연허용치2                  NaN\n",
       "무부하매연판정2                   NaN\n",
       "무부하매연측정치3                  NaN\n",
       "무부하매연허용치3                  NaN\n",
       "무부하매연판정3                   NaN\n",
       "무부하매연측정치4                  NaN\n",
       "무부하매연허용치4                  NaN\n",
       "무부하매연판정4                   NaN\n",
       "무부하매연측정치5                  NaN\n",
       "무부하매연허용치5                  NaN\n",
       "무부하매연판정5                   NaN\n",
       "무부하매연측정치6                  NaN\n",
       "무부하매연허용치6                  NaN\n",
       "무부하매연판정6                   NaN\n",
       "검사 판정시간      20190702 14:51:40\n",
       "Name: 0, dtype: object"
      ]
     },
     "execution_count": 84,
     "metadata": {},
     "output_type": "execute_result"
    }
   ],
   "source": [
    "temp"
   ]
  },
  {
   "cell_type": "code",
   "execution_count": 86,
   "metadata": {},
   "outputs": [
    {
     "data": {
      "text/plain": [
       "<re.Match object; span=(0, 3), match='2.0'>"
      ]
     },
     "execution_count": 86,
     "metadata": {},
     "output_type": "execute_result"
    }
   ],
   "source": [
    "gas_mea_value_p.search(str(temp['무부하매연측정치1']))"
   ]
  },
  {
   "cell_type": "code",
   "execution_count": 91,
   "metadata": {},
   "outputs": [
    {
     "data": {
      "text/plain": [
       "'Y'"
      ]
     },
     "execution_count": 91,
     "metadata": {},
     "output_type": "execute_result"
    }
   ],
   "source": [
    "temp['무부하매연판정1']"
   ]
  },
  {
   "cell_type": "code",
   "execution_count": 94,
   "metadata": {},
   "outputs": [
    {
     "data": {
      "text/plain": [
       "nan"
      ]
     },
     "execution_count": 94,
     "metadata": {},
     "output_type": "execute_result"
    }
   ],
   "source": [
    "temp['무부하매연판정6']"
   ]
  },
  {
   "cell_type": "code",
   "execution_count": 93,
   "metadata": {},
   "outputs": [
    {
     "data": {
      "text/plain": [
       "True"
      ]
     },
     "execution_count": 93,
     "metadata": {},
     "output_type": "execute_result"
    }
   ],
   "source": [
    "np.isnan(temp['무부하매연판정6'])"
   ]
  },
  {
   "cell_type": "code",
   "execution_count": 96,
   "metadata": {},
   "outputs": [
    {
     "data": {
      "text/plain": [
       "False"
      ]
     },
     "execution_count": 96,
     "metadata": {},
     "output_type": "execute_result"
    }
   ],
   "source": [
    "temp['무부하매연판정1'] not in ['Y', 'N']"
   ]
  },
  {
   "cell_type": "code",
   "execution_count": 97,
   "metadata": {},
   "outputs": [
    {
     "name": "stdout",
     "output_type": "stream",
     "text": [
      "6번째 값 부재\n",
      "5번째 값 부재\n",
      "4번째 값 부재\n",
      "3번째 값 부재\n"
     ]
    }
   ],
   "source": [
    "# 1개의 배출가스 인증번호에 대한 처리 테스트\n",
    "gas_mea_value_p = re.compile('\\d[.]\\d')\n",
    "g_mea_list = []\n",
    "p_f_list = []\n",
    "\n",
    "# 변수 생성(측정치, 문자열)\n",
    "sv1 = str(temp['무부하매연측정치1'])\n",
    "\n",
    "sv3 = str(temp['무부하매연측정치3'])\n",
    "sv4 = str(temp['무부하매연측정치4'])\n",
    "sv5 = str(temp['무부하매연측정치5'])\n",
    "sv6 = str(temp['무부하매연측정치6'])\n",
    "\n",
    "# 변수 생성(측정치, 문자열)\n",
    "v1 = temp['무부하매연측정치1']\n",
    "\n",
    "v3 = temp['무부하매연측정치3']\n",
    "v4 = temp['무부하매연측정치4']\n",
    "v5 = temp['무부하매연측정치5']\n",
    "v6 = temp['무부하매연측정치6']\n",
    "\n",
    "# 변수 생성(판정)\n",
    "f1 = temp['무부하매연판정1']\n",
    "f3 = temp['무부하매연판정3']\n",
    "f4 = temp['무부하매연판정4']\n",
    "f5 = temp['무부하매연판정5']\n",
    "f6 = temp['무부하매연판정6']\n",
    "\n",
    "# 값 확인\n",
    "if np.isnan(v6) or not gas_mea_value_p.search(sv6) or f6 not in ['Y', 'N']: # 6번째 값 부재\n",
    "    print('6번째 값 부재')\n",
    "    if np.isnan(v5) or not gas_mea_value_p.search(sv5) or f5 not in ['Y', 'N']: # 5번째 값 부재\n",
    "        print('5번째 값 부재')\n",
    "        if np.isnan(v4) or not gas_mea_value_p.search(sv4) or f4 not in ['Y', 'N']: # 4번째 값 부재\n",
    "            print('4번째 값 부재')\n",
    "            if np.isnan(v3) or not gas_mea_value_p.search(sv3) or f3 not in ['Y', 'N']: # 3번째 값 부재\n",
    "                print('3번째 값 부재')\n",
    "                if np.isnan(v1) or not gas_mea_value_p.search(sv1) or f1 not in ['Y', 'N']: # 1번째 값 부재\n",
    "                    print('1번째 값 부재')\n",
    "                    g = np.nan\n",
    "                    f = np.nan\n",
    "                else: # 1번째 값 존재\n",
    "                    g = v1\n",
    "                    f = f1\n",
    "            else: # 3번째 값 존재\n",
    "                g = temp['무부하매연측정치1', '무부하매연측정치2', '무부하매연측정치3'].mean()\n",
    "                f = f3 \n",
    "        else: # 4번째 값 존재\n",
    "            g = temp['무부하매연측정치2', '무부하매연측정치3', '무부하매연측정치4'].mean()\n",
    "            f = f4\n",
    "    else: # 5번째 값 존재\n",
    "        g = temp['무부하매연측정치3', '무부하매연측정치4', '무부하매연측정치5'].mean()\n",
    "        f = f5\n",
    "else: # 6번째 값 존재\n",
    "    g = temp['무부하매연측정치4', '무부하매연측정치5', '무부하매연측정치6'].mean()\n",
    "    f = f6\n",
    "g_mea_list.append(g)\n",
    "p_f_list.append(f)"
   ]
  },
  {
   "cell_type": "code",
   "execution_count": 98,
   "metadata": {},
   "outputs": [
    {
     "data": {
      "text/plain": [
       "([2.0], ['Y'])"
      ]
     },
     "execution_count": 98,
     "metadata": {},
     "output_type": "execute_result"
    }
   ],
   "source": [
    "g_mea_list, p_f_list"
   ]
  },
  {
   "attachments": {},
   "cell_type": "markdown",
   "metadata": {},
   "source": [
    "### 정밀 검사 데이터 확인"
   ]
  },
  {
   "cell_type": "code",
   "execution_count": 32,
   "metadata": {},
   "outputs": [
    {
     "data": {
      "text/plain": [
       "Int64Index([       0,        1,        3,        4,        6,        7,\n",
       "                   9,       11,       12,       13,\n",
       "            ...\n",
       "            22397333, 22397334, 22397335, 22397336, 22397337, 22397338,\n",
       "            22397339, 22397340, 22397341, 22397342],\n",
       "           dtype='int64', length=17552908)"
      ]
     },
     "execution_count": 32,
     "metadata": {},
     "output_type": "execute_result"
    }
   ],
   "source": [
    "per_d_ins[per_d_ins['무부하매연측정치6'].isnull() == False].index"
   ]
  },
  {
   "cell_type": "code",
   "execution_count": 33,
   "metadata": {},
   "outputs": [
    {
     "data": {
      "text/plain": [
       "[0.03,\n",
       " 0.46,\n",
       " 'Y',\n",
       " 3.0,\n",
       " 37.0,\n",
       " 'Y',\n",
       " 3.0,\n",
       " 610.0,\n",
       " 'Y',\n",
       " 0.0,\n",
       " 1.0,\n",
       " 'Y',\n",
       " 2.0,\n",
       " 120.0,\n",
       " 'Y',\n",
       " 1.02,\n",
       " 0.1,\n",
       " 'Y',\n",
       " '20190701 17:13:00']"
      ]
     },
     "execution_count": 33,
     "metadata": {},
     "output_type": "execute_result"
    }
   ],
   "source": [
    "per_d_ins.loc[0, ['무부하매연측정치1', '무부하매연허용치1',\n",
    "       '무부하매연판정1', '무부하매연측정치2', '무부하매연허용치2', '무부하매연판정2', '무부하매연측정치3',\n",
    "       '무부하매연허용치3', '무부하매연판정3', '무부하매연측정치4', '무부하매연허용치4', '무부하매연판정4',\n",
    "       '무부하매연측정치5', '무부하매연허용치5', '무부하매연판정5', '무부하매연측정치6', '무부하매연허용치6',\n",
    "       '무부하매연판정6', '정밀검사시간정보']].to_list()"
   ]
  },
  {
   "cell_type": "code",
   "execution_count": 34,
   "metadata": {},
   "outputs": [
    {
     "data": {
      "text/plain": [
       "Int64Index([13915437, 13915439, 13915442, 13915443, 13915455, 13915456,\n",
       "            13915460, 13915461, 13915464, 13915465,\n",
       "            ...\n",
       "            22397306, 22397307, 22397309, 22397311, 22397316, 22397317,\n",
       "            22397320, 22397324, 22397331, 22397335],\n",
       "           dtype='int64', length=2314645)"
      ]
     },
     "execution_count": 34,
     "metadata": {},
     "output_type": "execute_result"
    }
   ],
   "source": [
    "# 6번 측정치 존재하면서 나머지 없는 경우 : 0\n",
    "per_d_ins[(per_d_ins['무부하매연측정치6'].isnull() == False) & ((per_d_ins['무부하매연측정치1'].isnull() == True) | (per_d_ins['무부하매연측정치2'].isnull() == True) | (per_d_ins['무부하매연측정치3'].isnull() == True) | (per_d_ins['무부하매연측정치4'].isnull() == True) | (per_d_ins['무부하매연측정치5'].isnull() == True))].index"
   ]
  },
  {
   "cell_type": "code",
   "execution_count": 35,
   "metadata": {},
   "outputs": [
    {
     "data": {
      "text/plain": [
       "[0.0,\n",
       " 15.0,\n",
       " 'Y',\n",
       " nan,\n",
       " nan,\n",
       " nan,\n",
       " nan,\n",
       " nan,\n",
       " nan,\n",
       " nan,\n",
       " nan,\n",
       " nan,\n",
       " nan,\n",
       " nan,\n",
       " nan,\n",
       " '20210701 15:50:27',\n",
       " 'H5262021070100191',\n",
       " '20210702',\n",
       " nan]"
      ]
     },
     "execution_count": 35,
     "metadata": {},
     "output_type": "execute_result"
    }
   ],
   "source": [
    "per_d_ins.loc[13915437, ['무부하매연측정치1', '무부하매연허용치1',\n",
    "       '무부하매연판정1', '무부하매연측정치2', '무부하매연허용치2', '무부하매연판정2', '무부하매연측정치3',\n",
    "       '무부하매연허용치3', '무부하매연판정3', '무부하매연측정치4', '무부하매연허용치4', '무부하매연판정4',\n",
    "       '무부하매연측정치5', '무부하매연허용치5', '무부하매연판정5', '무부하매연측정치6', '무부하매연허용치6',\n",
    "       '무부하매연판정6', '정밀검사시간정보']].to_list()"
   ]
  },
  {
   "cell_type": "code",
   "execution_count": 36,
   "metadata": {},
   "outputs": [
    {
     "data": {
      "text/plain": [
       "[2.0,\n",
       " 20.0,\n",
       " 'Y',\n",
       " nan,\n",
       " nan,\n",
       " nan,\n",
       " nan,\n",
       " nan,\n",
       " nan,\n",
       " nan,\n",
       " nan,\n",
       " nan,\n",
       " nan,\n",
       " nan,\n",
       " nan,\n",
       " '20210701 16:41:21',\n",
       " 'L0102021070100311',\n",
       " '20210702',\n",
       " nan]"
      ]
     },
     "execution_count": 36,
     "metadata": {},
     "output_type": "execute_result"
    }
   ],
   "source": [
    "per_d_ins.loc[13915439, ['무부하매연측정치1', '무부하매연허용치1',\n",
    "       '무부하매연판정1', '무부하매연측정치2', '무부하매연허용치2', '무부하매연판정2', '무부하매연측정치3',\n",
    "       '무부하매연허용치3', '무부하매연판정3', '무부하매연측정치4', '무부하매연허용치4', '무부하매연판정4',\n",
    "       '무부하매연측정치5', '무부하매연허용치5', '무부하매연판정5', '무부하매연측정치6', '무부하매연허용치6',\n",
    "       '무부하매연판정6', '정밀검사시간정보']].to_list()"
   ]
  },
  {
   "cell_type": "code",
   "execution_count": 99,
   "metadata": {},
   "outputs": [
    {
     "data": {
      "text/plain": [
       "Int64Index([], dtype='int64')"
      ]
     },
     "execution_count": 99,
     "metadata": {},
     "output_type": "execute_result"
    }
   ],
   "source": [
    "# 5번 측정치 존재하면서 나머지 없는 경우 : 0\n",
    "per_d_ins[(per_d_ins['무부하매연측정치5'].isnull() == False) & ((per_d_ins['무부하매연측정치1'].isnull() == True) | (per_d_ins['무부하매연측정치2'].isnull() == True) | (per_d_ins['무부하매연측정치3'].isnull() == True) | (per_d_ins['무부하매연측정치4'].isnull() == True))].index"
   ]
  },
  {
   "cell_type": "code",
   "execution_count": 100,
   "metadata": {},
   "outputs": [
    {
     "data": {
      "text/plain": [
       "Int64Index([], dtype='int64')"
      ]
     },
     "execution_count": 100,
     "metadata": {},
     "output_type": "execute_result"
    }
   ],
   "source": [
    "# 4번 측정치 존재하면서 나머지 없는 경우 : 0\n",
    "per_d_ins[(per_d_ins['무부하매연측정치4'].isnull() == False) & ((per_d_ins['무부하매연측정치1'].isnull() == True) | (per_d_ins['무부하매연측정치2'].isnull() == True) | (per_d_ins['무부하매연측정치3'].isnull() == True))].index"
   ]
  },
  {
   "cell_type": "code",
   "execution_count": 101,
   "metadata": {},
   "outputs": [
    {
     "data": {
      "text/plain": [
       "Int64Index([], dtype='int64')"
      ]
     },
     "execution_count": 101,
     "metadata": {},
     "output_type": "execute_result"
    }
   ],
   "source": [
    "# 3번 측정치 존재하면서 나머지 없는 경우 : 0\n",
    "per_d_ins[(per_d_ins['무부하매연측정치3'].isnull() == False) & ((per_d_ins['무부하매연측정치1'].isnull() == True) | (per_d_ins['무부하매연측정치2'].isnull() == True))].index"
   ]
  },
  {
   "cell_type": "code",
   "execution_count": 102,
   "metadata": {},
   "outputs": [
    {
     "data": {
      "text/plain": [
       "Int64Index([], dtype='int64')"
      ]
     },
     "execution_count": 102,
     "metadata": {},
     "output_type": "execute_result"
    }
   ],
   "source": [
    "# 2번 측정치 존재하면서 나머지 없는 경우 : 0\n",
    "per_d_ins[(per_d_ins['무부하매연측정치3'].isnull() == False) & ((per_d_ins['무부하매연측정치1'].isnull() == True))].index"
   ]
  },
  {
   "cell_type": "code",
   "execution_count": null,
   "metadata": {},
   "outputs": [],
   "source": []
  },
  {
   "attachments": {},
   "cell_type": "markdown",
   "metadata": {},
   "source": [
    "### 제원정보와 정기/정밀 매칭 안되는 샘플"
   ]
  },
  {
   "cell_type": "code",
   "execution_count": 583,
   "metadata": {},
   "outputs": [
    {
     "data": {
      "text/plain": [
       "0"
      ]
     },
     "execution_count": 583,
     "metadata": {},
     "output_type": "execute_result"
    }
   ],
   "source": [
    "df4['차대번호'].isnull().sum()"
   ]
  },
  {
   "cell_type": "code",
   "execution_count": 584,
   "metadata": {},
   "outputs": [
    {
     "data": {
      "text/plain": [
       "1528557"
      ]
     },
     "execution_count": 584,
     "metadata": {},
     "output_type": "execute_result"
    }
   ],
   "source": [
    "len(df4['차대번호'].unique())"
   ]
  },
  {
   "cell_type": "code",
   "execution_count": 585,
   "metadata": {},
   "outputs": [
    {
     "data": {
      "text/plain": [
       "10328354"
      ]
     },
     "execution_count": 585,
     "metadata": {},
     "output_type": "execute_result"
    }
   ],
   "source": [
    "len(per_ins['차대번호'].unique())"
   ]
  },
  {
   "cell_type": "code",
   "execution_count": 586,
   "metadata": {},
   "outputs": [
    {
     "data": {
      "text/plain": [
       "14203268"
      ]
     },
     "execution_count": 586,
     "metadata": {},
     "output_type": "execute_result"
    }
   ],
   "source": [
    "len(per_d_ins['차대번호'].unique())"
   ]
  },
  {
   "cell_type": "code",
   "execution_count": 587,
   "metadata": {},
   "outputs": [
    {
     "data": {
      "text/plain": [
       "1528557"
      ]
     },
     "execution_count": 587,
     "metadata": {},
     "output_type": "execute_result"
    }
   ],
   "source": [
    "len(set(df4['차대번호']))"
   ]
  },
  {
   "cell_type": "code",
   "execution_count": 588,
   "metadata": {},
   "outputs": [
    {
     "data": {
      "text/plain": [
       "1047521"
      ]
     },
     "execution_count": 588,
     "metadata": {},
     "output_type": "execute_result"
    }
   ],
   "source": [
    "len(set(df4['차대번호']) - set(per_ins['차대번호']))"
   ]
  },
  {
   "cell_type": "code",
   "execution_count": 589,
   "metadata": {},
   "outputs": [
    {
     "data": {
      "text/plain": [
       "540567"
      ]
     },
     "execution_count": 589,
     "metadata": {},
     "output_type": "execute_result"
    }
   ],
   "source": [
    "len(set(df4['차대번호']) - set(per_d_ins['차대번호']))"
   ]
  },
  {
   "cell_type": "code",
   "execution_count": 590,
   "metadata": {},
   "outputs": [
    {
     "data": {
      "text/plain": [
       "323516"
      ]
     },
     "execution_count": 590,
     "metadata": {},
     "output_type": "execute_result"
    }
   ],
   "source": [
    "len( set(df4['차대번호']) - set(per_ins['차대번호']) - set(per_d_ins['차대번호']) )"
   ]
  },
  {
   "attachments": {},
   "cell_type": "markdown",
   "metadata": {},
   "source": [
    "## 제원정보, 정기 검사, 정밀 검사 병합(차대번호 기준)"
   ]
  },
  {
   "cell_type": "code",
   "execution_count": 273,
   "metadata": {},
   "outputs": [
    {
     "data": {
      "text/plain": [
       "(1528557, 62)"
      ]
     },
     "execution_count": 273,
     "metadata": {},
     "output_type": "execute_result"
    }
   ],
   "source": [
    "df6.shape"
   ]
  },
  {
   "cell_type": "code",
   "execution_count": 275,
   "metadata": {},
   "outputs": [],
   "source": [
    "gas_col1 = ['차대번호', '검사방법', \n",
    "            '무부하매연측정치1', '무부하매연허용치1', '무부하매연판정1', \n",
    "            '무부하매연측정치2', '무부하매연허용치2', '무부하매연판정2', \n",
    "            '무부하매연측정치3', '무부하매연허용치3', '무부하매연판정3', \n",
    "            '무부하매연측정치4', '무부하매연허용치4', '무부하매연판정4',\n",
    "            '무부하매연측정치5', '무부하매연허용치5', '무부하매연판정5',\n",
    "            '무부하매연측정치6', '무부하매연허용치6', '무부하매연판정6', \n",
    "            '검사 판정시간',]\n",
    "gas_col2 = ['차대번호', '정밀검사측정방법', \n",
    "            '무부하매연측정치1', '무부하매연허용치1', '무부하매연판정1', \n",
    "            '무부하매연측정치2', '무부하매연허용치2', '무부하매연판정2', \n",
    "            '무부하매연측정치3', '무부하매연허용치3', '무부하매연판정3', \n",
    "            '무부하매연측정치4', '무부하매연허용치4', '무부하매연판정4', \n",
    "            '무부하매연측정치5', '무부하매연허용치5', '무부하매연판정5', \n",
    "            '무부하매연측정치6', '무부하매연허용치6', '무부하매연판정6',\n",
    "            '정밀검사시간정보']"
   ]
  },
  {
   "cell_type": "code",
   "execution_count": 276,
   "metadata": {},
   "outputs": [
    {
     "data": {
      "text/plain": [
       "(2232455, 82)"
      ]
     },
     "execution_count": 276,
     "metadata": {},
     "output_type": "execute_result"
    }
   ],
   "source": [
    "# 약 50s\n",
    "tdf1 = df6.merge(per_ins[gas_col1], on='차대번호', how='left')\n",
    "tdf1.shape"
   ]
  },
  {
   "cell_type": "code",
   "execution_count": 277,
   "metadata": {},
   "outputs": [
    {
     "data": {
      "text/plain": [
       "(2873363, 82)"
      ]
     },
     "execution_count": 277,
     "metadata": {},
     "output_type": "execute_result"
    }
   ],
   "source": [
    "# 약 1m\n",
    "tdf2 = df6.merge(per_d_ins[gas_col2], on='차대번호', how='left')\n",
    "tdf2.shape"
   ]
  },
  {
   "cell_type": "code",
   "execution_count": 278,
   "metadata": {},
   "outputs": [],
   "source": [
    "# 약 2m 40s\n",
    "tdf1.to_csv('data/[G4][통합]제원정보_정기_20190701_20220630.csv')\n",
    "tdf2.to_csv('data/[G4][통합]제원정보_정밀_20190701_20220630.csv')"
   ]
  },
  {
   "attachments": {},
   "cell_type": "markdown",
   "metadata": {},
   "source": [
    "# [로드] 제원+정기, 제원+정밀\n",
    "- [G4][통합]제원정보_정기_20190701_20220630.csv\n",
    "- [G4][통합]제원정보_정밀_20190701_20220630.csv"
   ]
  },
  {
   "cell_type": "code",
   "execution_count": 8,
   "metadata": {},
   "outputs": [
    {
     "name": "stderr",
     "output_type": "stream",
     "text": [
      "C:\\Users\\kbjung\\AppData\\Local\\Temp\\ipykernel_456\\802190608.py:2: DtypeWarning: Columns (12,15,17,29,37,38,58,69,72,75,78,81) have mixed types. Specify dtype option on import or set low_memory=False.\n",
      "  tdf1 = pd.read_csv('data/[G4][통합]제원정보_정기_20190701_20220630.csv', index_col=0)\n",
      "C:\\Users\\kbjung\\AppData\\Local\\Temp\\ipykernel_456\\802190608.py:3: DtypeWarning: Columns (12,15,17,29,37,38,58,81) have mixed types. Specify dtype option on import or set low_memory=False.\n",
      "  tdf2 = pd.read_csv('data/[G4][통합]제원정보_정밀_20190701_20220630.csv', index_col=0)\n"
     ]
    }
   ],
   "source": [
    "# 약 1m\n",
    "tdf1 = pd.read_csv('data/[G4][통합]제원정보_정기_20190701_20220630.csv', index_col=0)\n",
    "tdf2 = pd.read_csv('data/[G4][통합]제원정보_정밀_20190701_20220630.csv', index_col=0)"
   ]
  },
  {
   "cell_type": "code",
   "execution_count": 9,
   "metadata": {},
   "outputs": [
    {
     "data": {
      "text/plain": [
       "(2232455, 82)"
      ]
     },
     "execution_count": 9,
     "metadata": {},
     "output_type": "execute_result"
    }
   ],
   "source": [
    "tdf1.shape"
   ]
  },
  {
   "cell_type": "code",
   "execution_count": 10,
   "metadata": {},
   "outputs": [
    {
     "data": {
      "text/plain": [
       "(2873363, 82)"
      ]
     },
     "execution_count": 10,
     "metadata": {},
     "output_type": "execute_result"
    }
   ],
   "source": [
    "tdf2.shape"
   ]
  },
  {
   "cell_type": "code",
   "execution_count": 11,
   "metadata": {},
   "outputs": [
    {
     "data": {
      "text/plain": [
       "Index(['차량관리번호', '차량등록번호', '본거지법정동코드', '소유자구분', '차종_등록정보', '용도', '차대번호',\n",
       "       '최초등록일자', '차량연식', '차량제작일자', '검사유효일', '제원관리번호', '배출가스인증번호', '배출가스등급',\n",
       "       '저공해조치종류', '저공해조치구조변경YN', '취득일자', '취득금액', '차명', '차종_제원정보', '차종분류',\n",
       "       '차종유형', '자동차형식', '제작사명', '연료', '엔진형식', '총중량', '적재중량', '엔진출력', '배기량',\n",
       "       '승차인원', '차량길이', '차량너비', '차량높이', '원산지명', '삭제YN', '제원승인일자', '구동형식',\n",
       "       '변속기종류', 'code1', '시도', '시구군', '폐지여부', '대기관리권역', '대기관리권역YN', '총중량_분류',\n",
       "       '총중량_코드', '배기량_분류', '배기량_코드', '배출가스인증번호_코드', 'wmi', 'WMI', 'MF CODE',\n",
       "       'Identifier', 'Manufacturer', 'Country', 'Vehicle Types', 'Description',\n",
       "       '참고', 'VIN_length', 'IOQ', 'alpha', '검사방법', '무부하매연측정치1', '무부하매연허용치1',\n",
       "       '무부하매연판정1', '무부하매연측정치2', '무부하매연허용치2', '무부하매연판정2', '무부하매연측정치3',\n",
       "       '무부하매연허용치3', '무부하매연판정3', '무부하매연측정치4', '무부하매연허용치4', '무부하매연판정4',\n",
       "       '무부하매연측정치5', '무부하매연허용치5', '무부하매연판정5', '무부하매연측정치6', '무부하매연허용치6',\n",
       "       '무부하매연판정6', '검사 판정시간'],\n",
       "      dtype='object')"
      ]
     },
     "execution_count": 11,
     "metadata": {},
     "output_type": "execute_result"
    }
   ],
   "source": [
    "tdf1.columns"
   ]
  },
  {
   "cell_type": "code",
   "execution_count": 12,
   "metadata": {},
   "outputs": [
    {
     "data": {
      "text/plain": [
       "Index(['차량관리번호', '차량등록번호', '본거지법정동코드', '소유자구분', '차종_등록정보', '용도', '차대번호',\n",
       "       '최초등록일자', '차량연식', '차량제작일자', '검사유효일', '제원관리번호', '배출가스인증번호', '배출가스등급',\n",
       "       '저공해조치종류', '저공해조치구조변경YN', '취득일자', '취득금액', '차명', '차종_제원정보', '차종분류',\n",
       "       '차종유형', '자동차형식', '제작사명', '연료', '엔진형식', '총중량', '적재중량', '엔진출력', '배기량',\n",
       "       '승차인원', '차량길이', '차량너비', '차량높이', '원산지명', '삭제YN', '제원승인일자', '구동형식',\n",
       "       '변속기종류', 'code1', '시도', '시구군', '폐지여부', '대기관리권역', '대기관리권역YN', '총중량_분류',\n",
       "       '총중량_코드', '배기량_분류', '배기량_코드', '배출가스인증번호_코드', 'wmi', 'WMI', 'MF CODE',\n",
       "       'Identifier', 'Manufacturer', 'Country', 'Vehicle Types', 'Description',\n",
       "       '참고', 'VIN_length', 'IOQ', 'alpha', '정밀검사측정방법', '무부하매연측정치1',\n",
       "       '무부하매연허용치1', '무부하매연판정1', '무부하매연측정치2', '무부하매연허용치2', '무부하매연판정2',\n",
       "       '무부하매연측정치3', '무부하매연허용치3', '무부하매연판정3', '무부하매연측정치4', '무부하매연허용치4',\n",
       "       '무부하매연판정4', '무부하매연측정치5', '무부하매연허용치5', '무부하매연판정5', '무부하매연측정치6',\n",
       "       '무부하매연허용치6', '무부하매연판정6', '정밀검사시간정보'],\n",
       "      dtype='object')"
      ]
     },
     "execution_count": 12,
     "metadata": {},
     "output_type": "execute_result"
    }
   ],
   "source": [
    "tdf2.columns"
   ]
  },
  {
   "cell_type": "code",
   "execution_count": 13,
   "metadata": {},
   "outputs": [
    {
     "data": {
      "text/plain": [
       "array(['대형', '중형', '소형', '경형'], dtype=object)"
      ]
     },
     "execution_count": 13,
     "metadata": {},
     "output_type": "execute_result"
    }
   ],
   "source": [
    "tdf1['차종유형'].unique()"
   ]
  },
  {
   "cell_type": "code",
   "execution_count": 14,
   "metadata": {},
   "outputs": [
    {
     "data": {
      "text/plain": [
       "array(['화물', '승용', '특수', '승합', nan], dtype=object)"
      ]
     },
     "execution_count": 14,
     "metadata": {},
     "output_type": "execute_result"
    }
   ],
   "source": [
    "tdf1['차종_등록정보'].unique()"
   ]
  },
  {
   "cell_type": "code",
   "execution_count": 15,
   "metadata": {},
   "outputs": [
    {
     "data": {
      "text/plain": [
       "array(['경유', '휘발유', '기타연료', 'LPG(액화석유가스)', 'CNG(압축천연가스)', '알코올'],\n",
       "      dtype=object)"
      ]
     },
     "execution_count": 15,
     "metadata": {},
     "output_type": "execute_result"
    }
   ],
   "source": [
    "tdf1['연료'].unique()"
   ]
  },
  {
   "cell_type": "code",
   "execution_count": 16,
   "metadata": {},
   "outputs": [
    {
     "data": {
      "text/plain": [
       "array(['특수용도형-특수용도형', '다목적', '구난', '일반형-카고', '일반', '밴', '기타', '견인', '덤프',\n",
       "       '특수작업형', '일반형-픽업', '특수용도형-피견인', '특수용도형-탱크로리', '특수', '승용겸화물'],\n",
       "      dtype=object)"
      ]
     },
     "execution_count": 16,
     "metadata": {},
     "output_type": "execute_result"
    }
   ],
   "source": [
    "tdf1['차종분류'].unique()"
   ]
  },
  {
   "cell_type": "code",
   "execution_count": 17,
   "metadata": {},
   "outputs": [
    {
     "data": {
      "text/plain": [
       "array(['대형', '중형', '소형', '경형'], dtype=object)"
      ]
     },
     "execution_count": 17,
     "metadata": {},
     "output_type": "execute_result"
    }
   ],
   "source": [
    "tdf2['차종유형'].unique()"
   ]
  },
  {
   "cell_type": "code",
   "execution_count": 18,
   "metadata": {},
   "outputs": [
    {
     "data": {
      "text/plain": [
       "array(['화물', '승용', '특수', '승합', nan], dtype=object)"
      ]
     },
     "execution_count": 18,
     "metadata": {},
     "output_type": "execute_result"
    }
   ],
   "source": [
    "tdf2['차종_등록정보'].unique()"
   ]
  },
  {
   "cell_type": "code",
   "execution_count": 19,
   "metadata": {},
   "outputs": [
    {
     "data": {
      "text/plain": [
       "array(['경유', '휘발유', '기타연료', 'LPG(액화석유가스)', 'CNG(압축천연가스)', '알코올'],\n",
       "      dtype=object)"
      ]
     },
     "execution_count": 19,
     "metadata": {},
     "output_type": "execute_result"
    }
   ],
   "source": [
    "tdf2['연료'].unique()"
   ]
  },
  {
   "attachments": {},
   "cell_type": "markdown",
   "metadata": {},
   "source": [
    "### 제원_정기 파일 전처리"
   ]
  },
  {
   "cell_type": "code",
   "execution_count": 20,
   "metadata": {},
   "outputs": [
    {
     "data": {
      "text/plain": [
       "array([nan, '무부하검사(급가속)', '무부하검사(TSI)', '무부하검사(정지가동)'], dtype=object)"
      ]
     },
     "execution_count": 20,
     "metadata": {},
     "output_type": "execute_result"
    }
   ],
   "source": [
    "tdf1['검사방법'].unique()"
   ]
  },
  {
   "cell_type": "code",
   "execution_count": 21,
   "metadata": {},
   "outputs": [],
   "source": [
    "# 제원_정기 파일 정렬\n",
    "# 차대번호, 검사방법, 검사 판정시간\n",
    "    # 최신순으로\n",
    "# 차대번호 기준 중복 제거"
   ]
  },
  {
   "cell_type": "code",
   "execution_count": 22,
   "metadata": {},
   "outputs": [
    {
     "data": {
      "text/plain": [
       "(2232455, 27)"
      ]
     },
     "execution_count": 22,
     "metadata": {},
     "output_type": "execute_result"
    }
   ],
   "source": [
    "gas_col1 = ['차대번호', '차량제작일자', '배출가스인증번호', '총중량', '검사방법', '차종유형', '차종_등록정보', '연료',\n",
    "           '무부하매연측정치1', '무부하매연허용치1', '무부하매연판정1',\n",
    "           '무부하매연측정치2', '무부하매연허용치2', '무부하매연판정2',\n",
    "           '무부하매연측정치3', '무부하매연허용치3', '무부하매연판정3', \n",
    "           '무부하매연측정치4', '무부하매연허용치4', '무부하매연판정4', \n",
    "           '무부하매연측정치5', '무부하매연허용치5', '무부하매연판정5',\n",
    "           '무부하매연측정치6', '무부하매연허용치6', '무부하매연판정6', \n",
    "           '검사 판정시간']\n",
    "gas_per_ins = tdf1[gas_col1].copy()\n",
    "gas_per_ins.shape"
   ]
  },
  {
   "cell_type": "code",
   "execution_count": 23,
   "metadata": {},
   "outputs": [
    {
     "data": {
      "text/html": [
       "<div>\n",
       "<style scoped>\n",
       "    .dataframe tbody tr th:only-of-type {\n",
       "        vertical-align: middle;\n",
       "    }\n",
       "\n",
       "    .dataframe tbody tr th {\n",
       "        vertical-align: top;\n",
       "    }\n",
       "\n",
       "    .dataframe thead th {\n",
       "        text-align: right;\n",
       "    }\n",
       "</style>\n",
       "<table border=\"1\" class=\"dataframe\">\n",
       "  <thead>\n",
       "    <tr style=\"text-align: right;\">\n",
       "      <th></th>\n",
       "      <th>차대번호</th>\n",
       "      <th>차량제작일자</th>\n",
       "      <th>배출가스인증번호</th>\n",
       "      <th>총중량</th>\n",
       "      <th>검사방법</th>\n",
       "      <th>차종유형</th>\n",
       "      <th>차종_등록정보</th>\n",
       "      <th>연료</th>\n",
       "      <th>무부하매연측정치1</th>\n",
       "      <th>무부하매연허용치1</th>\n",
       "      <th>...</th>\n",
       "      <th>무부하매연측정치4</th>\n",
       "      <th>무부하매연허용치4</th>\n",
       "      <th>무부하매연판정4</th>\n",
       "      <th>무부하매연측정치5</th>\n",
       "      <th>무부하매연허용치5</th>\n",
       "      <th>무부하매연판정5</th>\n",
       "      <th>무부하매연측정치6</th>\n",
       "      <th>무부하매연허용치6</th>\n",
       "      <th>무부하매연판정6</th>\n",
       "      <th>검사 판정시간</th>\n",
       "    </tr>\n",
       "  </thead>\n",
       "  <tbody>\n",
       "    <tr>\n",
       "      <th>0</th>\n",
       "      <td>KMCLK18KP8C035195</td>\n",
       "      <td>20080924.0</td>\n",
       "      <td>NaN</td>\n",
       "      <td>10825.0</td>\n",
       "      <td>NaN</td>\n",
       "      <td>대형</td>\n",
       "      <td>화물</td>\n",
       "      <td>경유</td>\n",
       "      <td>NaN</td>\n",
       "      <td>NaN</td>\n",
       "      <td>...</td>\n",
       "      <td>NaN</td>\n",
       "      <td>NaN</td>\n",
       "      <td>NaN</td>\n",
       "      <td>NaN</td>\n",
       "      <td>NaN</td>\n",
       "      <td>NaN</td>\n",
       "      <td>NaN</td>\n",
       "      <td>NaN</td>\n",
       "      <td>NaN</td>\n",
       "      <td>NaN</td>\n",
       "    </tr>\n",
       "    <tr>\n",
       "      <th>1</th>\n",
       "      <td>KMFLA18KP8C031274</td>\n",
       "      <td>20080605.0</td>\n",
       "      <td>NaN</td>\n",
       "      <td>11075.0</td>\n",
       "      <td>NaN</td>\n",
       "      <td>대형</td>\n",
       "      <td>화물</td>\n",
       "      <td>경유</td>\n",
       "      <td>NaN</td>\n",
       "      <td>NaN</td>\n",
       "      <td>...</td>\n",
       "      <td>NaN</td>\n",
       "      <td>NaN</td>\n",
       "      <td>NaN</td>\n",
       "      <td>NaN</td>\n",
       "      <td>NaN</td>\n",
       "      <td>NaN</td>\n",
       "      <td>NaN</td>\n",
       "      <td>NaN</td>\n",
       "      <td>NaN</td>\n",
       "      <td>NaN</td>\n",
       "    </tr>\n",
       "    <tr>\n",
       "      <th>2</th>\n",
       "      <td>KLACA26RD8B226753</td>\n",
       "      <td>20080221.0</td>\n",
       "      <td>NaN</td>\n",
       "      <td>2215.0</td>\n",
       "      <td>NaN</td>\n",
       "      <td>중형</td>\n",
       "      <td>승용</td>\n",
       "      <td>경유</td>\n",
       "      <td>NaN</td>\n",
       "      <td>NaN</td>\n",
       "      <td>...</td>\n",
       "      <td>NaN</td>\n",
       "      <td>NaN</td>\n",
       "      <td>NaN</td>\n",
       "      <td>NaN</td>\n",
       "      <td>NaN</td>\n",
       "      <td>NaN</td>\n",
       "      <td>NaN</td>\n",
       "      <td>NaN</td>\n",
       "      <td>NaN</td>\n",
       "      <td>NaN</td>\n",
       "    </tr>\n",
       "    <tr>\n",
       "      <th>3</th>\n",
       "      <td>KMCGK17HP8C086937</td>\n",
       "      <td>20080315.0</td>\n",
       "      <td>NaN</td>\n",
       "      <td>6150.0</td>\n",
       "      <td>NaN</td>\n",
       "      <td>중형</td>\n",
       "      <td>화물</td>\n",
       "      <td>경유</td>\n",
       "      <td>NaN</td>\n",
       "      <td>NaN</td>\n",
       "      <td>...</td>\n",
       "      <td>NaN</td>\n",
       "      <td>NaN</td>\n",
       "      <td>NaN</td>\n",
       "      <td>NaN</td>\n",
       "      <td>NaN</td>\n",
       "      <td>NaN</td>\n",
       "      <td>NaN</td>\n",
       "      <td>NaN</td>\n",
       "      <td>NaN</td>\n",
       "      <td>NaN</td>\n",
       "    </tr>\n",
       "    <tr>\n",
       "      <th>4</th>\n",
       "      <td>KMCYSS7JP7U084697</td>\n",
       "      <td>20070227.0</td>\n",
       "      <td>NaN</td>\n",
       "      <td>3155.0</td>\n",
       "      <td>NaN</td>\n",
       "      <td>중형</td>\n",
       "      <td>특수</td>\n",
       "      <td>경유</td>\n",
       "      <td>NaN</td>\n",
       "      <td>NaN</td>\n",
       "      <td>...</td>\n",
       "      <td>NaN</td>\n",
       "      <td>NaN</td>\n",
       "      <td>NaN</td>\n",
       "      <td>NaN</td>\n",
       "      <td>NaN</td>\n",
       "      <td>NaN</td>\n",
       "      <td>NaN</td>\n",
       "      <td>NaN</td>\n",
       "      <td>NaN</td>\n",
       "      <td>NaN</td>\n",
       "    </tr>\n",
       "  </tbody>\n",
       "</table>\n",
       "<p>5 rows × 27 columns</p>\n",
       "</div>"
      ],
      "text/plain": [
       "                차대번호      차량제작일자 배출가스인증번호      총중량 검사방법 차종유형 차종_등록정보  연료  \\\n",
       "0  KMCLK18KP8C035195  20080924.0      NaN  10825.0  NaN   대형      화물  경유   \n",
       "1  KMFLA18KP8C031274  20080605.0      NaN  11075.0  NaN   대형      화물  경유   \n",
       "2  KLACA26RD8B226753  20080221.0      NaN   2215.0  NaN   중형      승용  경유   \n",
       "3  KMCGK17HP8C086937  20080315.0      NaN   6150.0  NaN   중형      화물  경유   \n",
       "4  KMCYSS7JP7U084697  20070227.0      NaN   3155.0  NaN   중형      특수  경유   \n",
       "\n",
       "   무부하매연측정치1  무부하매연허용치1  ... 무부하매연측정치4  무부하매연허용치4  무부하매연판정4 무부하매연측정치5  \\\n",
       "0        NaN        NaN  ...       NaN        NaN       NaN       NaN   \n",
       "1        NaN        NaN  ...       NaN        NaN       NaN       NaN   \n",
       "2        NaN        NaN  ...       NaN        NaN       NaN       NaN   \n",
       "3        NaN        NaN  ...       NaN        NaN       NaN       NaN   \n",
       "4        NaN        NaN  ...       NaN        NaN       NaN       NaN   \n",
       "\n",
       "   무부하매연허용치5  무부하매연판정5 무부하매연측정치6  무부하매연허용치6  무부하매연판정6 검사 판정시간  \n",
       "0        NaN       NaN       NaN        NaN       NaN     NaN  \n",
       "1        NaN       NaN       NaN        NaN       NaN     NaN  \n",
       "2        NaN       NaN       NaN        NaN       NaN     NaN  \n",
       "3        NaN       NaN       NaN        NaN       NaN     NaN  \n",
       "4        NaN       NaN       NaN        NaN       NaN     NaN  \n",
       "\n",
       "[5 rows x 27 columns]"
      ]
     },
     "execution_count": 23,
     "metadata": {},
     "output_type": "execute_result"
    }
   ],
   "source": [
    "gas_per_ins.head()"
   ]
  },
  {
   "cell_type": "code",
   "execution_count": 25,
   "metadata": {},
   "outputs": [
    {
     "data": {
      "text/html": [
       "<div>\n",
       "<style scoped>\n",
       "    .dataframe tbody tr th:only-of-type {\n",
       "        vertical-align: middle;\n",
       "    }\n",
       "\n",
       "    .dataframe tbody tr th {\n",
       "        vertical-align: top;\n",
       "    }\n",
       "\n",
       "    .dataframe thead th {\n",
       "        text-align: right;\n",
       "    }\n",
       "</style>\n",
       "<table border=\"1\" class=\"dataframe\">\n",
       "  <thead>\n",
       "    <tr style=\"text-align: right;\">\n",
       "      <th></th>\n",
       "      <th>차대번호</th>\n",
       "      <th>차량제작일자</th>\n",
       "      <th>배출가스인증번호</th>\n",
       "      <th>총중량</th>\n",
       "      <th>검사방법</th>\n",
       "      <th>차종유형</th>\n",
       "      <th>차종_등록정보</th>\n",
       "      <th>연료</th>\n",
       "      <th>무부하매연측정치1</th>\n",
       "      <th>무부하매연허용치1</th>\n",
       "      <th>...</th>\n",
       "      <th>무부하매연측정치4</th>\n",
       "      <th>무부하매연허용치4</th>\n",
       "      <th>무부하매연판정4</th>\n",
       "      <th>무부하매연측정치5</th>\n",
       "      <th>무부하매연허용치5</th>\n",
       "      <th>무부하매연판정5</th>\n",
       "      <th>무부하매연측정치6</th>\n",
       "      <th>무부하매연허용치6</th>\n",
       "      <th>무부하매연판정6</th>\n",
       "      <th>검사 판정시간</th>\n",
       "    </tr>\n",
       "  </thead>\n",
       "  <tbody>\n",
       "    <tr>\n",
       "      <th>2198852</th>\n",
       "      <td>018013212A7</td>\n",
       "      <td>NaN</td>\n",
       "      <td>3MY-FK-08</td>\n",
       "      <td>1785.0</td>\n",
       "      <td>NaN</td>\n",
       "      <td>대형</td>\n",
       "      <td>승용</td>\n",
       "      <td>휘발유</td>\n",
       "      <td>NaN</td>\n",
       "      <td>NaN</td>\n",
       "      <td>...</td>\n",
       "      <td>NaN</td>\n",
       "      <td>NaN</td>\n",
       "      <td>NaN</td>\n",
       "      <td>NaN</td>\n",
       "      <td>NaN</td>\n",
       "      <td>NaN</td>\n",
       "      <td>NaN</td>\n",
       "      <td>NaN</td>\n",
       "      <td>NaN</td>\n",
       "      <td>NaN</td>\n",
       "    </tr>\n",
       "    <tr>\n",
       "      <th>2225371</th>\n",
       "      <td>01831300012</td>\n",
       "      <td>19880823.0</td>\n",
       "      <td>NaN</td>\n",
       "      <td>2145.0</td>\n",
       "      <td>NaN</td>\n",
       "      <td>중형</td>\n",
       "      <td>승용</td>\n",
       "      <td>휘발유</td>\n",
       "      <td>NaN</td>\n",
       "      <td>NaN</td>\n",
       "      <td>...</td>\n",
       "      <td>NaN</td>\n",
       "      <td>NaN</td>\n",
       "      <td>NaN</td>\n",
       "      <td>NaN</td>\n",
       "      <td>NaN</td>\n",
       "      <td>NaN</td>\n",
       "      <td>NaN</td>\n",
       "      <td>NaN</td>\n",
       "      <td>NaN</td>\n",
       "      <td>NaN</td>\n",
       "    </tr>\n",
       "    <tr>\n",
       "      <th>2215936</th>\n",
       "      <td>01841300699</td>\n",
       "      <td>19890328.0</td>\n",
       "      <td>NaN</td>\n",
       "      <td>1595.0</td>\n",
       "      <td>NaN</td>\n",
       "      <td>중형</td>\n",
       "      <td>승용</td>\n",
       "      <td>휘발유</td>\n",
       "      <td>NaN</td>\n",
       "      <td>NaN</td>\n",
       "      <td>...</td>\n",
       "      <td>NaN</td>\n",
       "      <td>NaN</td>\n",
       "      <td>NaN</td>\n",
       "      <td>NaN</td>\n",
       "      <td>NaN</td>\n",
       "      <td>NaN</td>\n",
       "      <td>NaN</td>\n",
       "      <td>NaN</td>\n",
       "      <td>NaN</td>\n",
       "      <td>NaN</td>\n",
       "    </tr>\n",
       "    <tr>\n",
       "      <th>2221443</th>\n",
       "      <td>01871300044</td>\n",
       "      <td>NaN</td>\n",
       "      <td>NaN</td>\n",
       "      <td>1540.0</td>\n",
       "      <td>NaN</td>\n",
       "      <td>대형</td>\n",
       "      <td>승용</td>\n",
       "      <td>휘발유</td>\n",
       "      <td>NaN</td>\n",
       "      <td>NaN</td>\n",
       "      <td>...</td>\n",
       "      <td>NaN</td>\n",
       "      <td>NaN</td>\n",
       "      <td>NaN</td>\n",
       "      <td>NaN</td>\n",
       "      <td>NaN</td>\n",
       "      <td>NaN</td>\n",
       "      <td>NaN</td>\n",
       "      <td>NaN</td>\n",
       "      <td>NaN</td>\n",
       "      <td>NaN</td>\n",
       "    </tr>\n",
       "    <tr>\n",
       "      <th>2218846</th>\n",
       "      <td>01881100314</td>\n",
       "      <td>19890125.0</td>\n",
       "      <td>NaN</td>\n",
       "      <td>2620.0</td>\n",
       "      <td>NaN</td>\n",
       "      <td>중형</td>\n",
       "      <td>승합</td>\n",
       "      <td>휘발유</td>\n",
       "      <td>NaN</td>\n",
       "      <td>NaN</td>\n",
       "      <td>...</td>\n",
       "      <td>NaN</td>\n",
       "      <td>NaN</td>\n",
       "      <td>NaN</td>\n",
       "      <td>NaN</td>\n",
       "      <td>NaN</td>\n",
       "      <td>NaN</td>\n",
       "      <td>NaN</td>\n",
       "      <td>NaN</td>\n",
       "      <td>NaN</td>\n",
       "      <td>NaN</td>\n",
       "    </tr>\n",
       "  </tbody>\n",
       "</table>\n",
       "<p>5 rows × 27 columns</p>\n",
       "</div>"
      ],
      "text/plain": [
       "                차대번호      차량제작일자   배출가스인증번호     총중량 검사방법 차종유형 차종_등록정보   연료  \\\n",
       "2198852  018013212A7         NaN  3MY-FK-08  1785.0  NaN   대형      승용  휘발유   \n",
       "2225371  01831300012  19880823.0        NaN  2145.0  NaN   중형      승용  휘발유   \n",
       "2215936  01841300699  19890328.0        NaN  1595.0  NaN   중형      승용  휘발유   \n",
       "2221443  01871300044         NaN        NaN  1540.0  NaN   대형      승용  휘발유   \n",
       "2218846  01881100314  19890125.0        NaN  2620.0  NaN   중형      승합  휘발유   \n",
       "\n",
       "         무부하매연측정치1  무부하매연허용치1  ... 무부하매연측정치4  무부하매연허용치4  무부하매연판정4 무부하매연측정치5  \\\n",
       "2198852        NaN        NaN  ...       NaN        NaN       NaN       NaN   \n",
       "2225371        NaN        NaN  ...       NaN        NaN       NaN       NaN   \n",
       "2215936        NaN        NaN  ...       NaN        NaN       NaN       NaN   \n",
       "2221443        NaN        NaN  ...       NaN        NaN       NaN       NaN   \n",
       "2218846        NaN        NaN  ...       NaN        NaN       NaN       NaN   \n",
       "\n",
       "         무부하매연허용치5  무부하매연판정5 무부하매연측정치6  무부하매연허용치6  무부하매연판정6 검사 판정시간  \n",
       "2198852        NaN       NaN       NaN        NaN       NaN     NaN  \n",
       "2225371        NaN       NaN       NaN        NaN       NaN     NaN  \n",
       "2215936        NaN       NaN       NaN        NaN       NaN     NaN  \n",
       "2221443        NaN       NaN       NaN        NaN       NaN     NaN  \n",
       "2218846        NaN       NaN       NaN        NaN       NaN     NaN  \n",
       "\n",
       "[5 rows x 27 columns]"
      ]
     },
     "execution_count": 25,
     "metadata": {},
     "output_type": "execute_result"
    }
   ],
   "source": [
    "gas_per_ins.sort_values(['차대번호', '검사방법', '검사 판정시간']).head()"
   ]
  },
  {
   "cell_type": "code",
   "execution_count": 26,
   "metadata": {},
   "outputs": [
    {
     "data": {
      "text/plain": [
       "(1528557, 27)"
      ]
     },
     "execution_count": 26,
     "metadata": {},
     "output_type": "execute_result"
    }
   ],
   "source": [
    "gas_per_ins = gas_per_ins.sort_values(['차대번호', '검사방법', '검사 판정시간']).drop_duplicates('차대번호', keep='first').reset_index(drop=True)\n",
    "gas_per_ins.shape"
   ]
  },
  {
   "cell_type": "code",
   "execution_count": 27,
   "metadata": {},
   "outputs": [
    {
     "data": {
      "text/html": [
       "<div>\n",
       "<style scoped>\n",
       "    .dataframe tbody tr th:only-of-type {\n",
       "        vertical-align: middle;\n",
       "    }\n",
       "\n",
       "    .dataframe tbody tr th {\n",
       "        vertical-align: top;\n",
       "    }\n",
       "\n",
       "    .dataframe thead th {\n",
       "        text-align: right;\n",
       "    }\n",
       "</style>\n",
       "<table border=\"1\" class=\"dataframe\">\n",
       "  <thead>\n",
       "    <tr style=\"text-align: right;\">\n",
       "      <th></th>\n",
       "      <th>차대번호</th>\n",
       "      <th>차량제작일자</th>\n",
       "      <th>배출가스인증번호</th>\n",
       "      <th>총중량</th>\n",
       "      <th>검사방법</th>\n",
       "      <th>차종유형</th>\n",
       "      <th>차종_등록정보</th>\n",
       "      <th>연료</th>\n",
       "      <th>무부하매연측정치1</th>\n",
       "      <th>무부하매연허용치1</th>\n",
       "      <th>...</th>\n",
       "      <th>무부하매연측정치4</th>\n",
       "      <th>무부하매연허용치4</th>\n",
       "      <th>무부하매연판정4</th>\n",
       "      <th>무부하매연측정치5</th>\n",
       "      <th>무부하매연허용치5</th>\n",
       "      <th>무부하매연판정5</th>\n",
       "      <th>무부하매연측정치6</th>\n",
       "      <th>무부하매연허용치6</th>\n",
       "      <th>무부하매연판정6</th>\n",
       "      <th>검사 판정시간</th>\n",
       "    </tr>\n",
       "  </thead>\n",
       "  <tbody>\n",
       "    <tr>\n",
       "      <th>0</th>\n",
       "      <td>018013212A7</td>\n",
       "      <td>NaN</td>\n",
       "      <td>3MY-FK-08</td>\n",
       "      <td>1785.0</td>\n",
       "      <td>NaN</td>\n",
       "      <td>대형</td>\n",
       "      <td>승용</td>\n",
       "      <td>휘발유</td>\n",
       "      <td>NaN</td>\n",
       "      <td>NaN</td>\n",
       "      <td>...</td>\n",
       "      <td>NaN</td>\n",
       "      <td>NaN</td>\n",
       "      <td>NaN</td>\n",
       "      <td>NaN</td>\n",
       "      <td>NaN</td>\n",
       "      <td>NaN</td>\n",
       "      <td>NaN</td>\n",
       "      <td>NaN</td>\n",
       "      <td>NaN</td>\n",
       "      <td>NaN</td>\n",
       "    </tr>\n",
       "    <tr>\n",
       "      <th>1</th>\n",
       "      <td>01831300012</td>\n",
       "      <td>19880823.0</td>\n",
       "      <td>NaN</td>\n",
       "      <td>2145.0</td>\n",
       "      <td>NaN</td>\n",
       "      <td>중형</td>\n",
       "      <td>승용</td>\n",
       "      <td>휘발유</td>\n",
       "      <td>NaN</td>\n",
       "      <td>NaN</td>\n",
       "      <td>...</td>\n",
       "      <td>NaN</td>\n",
       "      <td>NaN</td>\n",
       "      <td>NaN</td>\n",
       "      <td>NaN</td>\n",
       "      <td>NaN</td>\n",
       "      <td>NaN</td>\n",
       "      <td>NaN</td>\n",
       "      <td>NaN</td>\n",
       "      <td>NaN</td>\n",
       "      <td>NaN</td>\n",
       "    </tr>\n",
       "    <tr>\n",
       "      <th>2</th>\n",
       "      <td>01841300699</td>\n",
       "      <td>19890328.0</td>\n",
       "      <td>NaN</td>\n",
       "      <td>1595.0</td>\n",
       "      <td>NaN</td>\n",
       "      <td>중형</td>\n",
       "      <td>승용</td>\n",
       "      <td>휘발유</td>\n",
       "      <td>NaN</td>\n",
       "      <td>NaN</td>\n",
       "      <td>...</td>\n",
       "      <td>NaN</td>\n",
       "      <td>NaN</td>\n",
       "      <td>NaN</td>\n",
       "      <td>NaN</td>\n",
       "      <td>NaN</td>\n",
       "      <td>NaN</td>\n",
       "      <td>NaN</td>\n",
       "      <td>NaN</td>\n",
       "      <td>NaN</td>\n",
       "      <td>NaN</td>\n",
       "    </tr>\n",
       "    <tr>\n",
       "      <th>3</th>\n",
       "      <td>01871300044</td>\n",
       "      <td>NaN</td>\n",
       "      <td>NaN</td>\n",
       "      <td>1540.0</td>\n",
       "      <td>NaN</td>\n",
       "      <td>대형</td>\n",
       "      <td>승용</td>\n",
       "      <td>휘발유</td>\n",
       "      <td>NaN</td>\n",
       "      <td>NaN</td>\n",
       "      <td>...</td>\n",
       "      <td>NaN</td>\n",
       "      <td>NaN</td>\n",
       "      <td>NaN</td>\n",
       "      <td>NaN</td>\n",
       "      <td>NaN</td>\n",
       "      <td>NaN</td>\n",
       "      <td>NaN</td>\n",
       "      <td>NaN</td>\n",
       "      <td>NaN</td>\n",
       "      <td>NaN</td>\n",
       "    </tr>\n",
       "    <tr>\n",
       "      <th>4</th>\n",
       "      <td>01881100314</td>\n",
       "      <td>19890125.0</td>\n",
       "      <td>NaN</td>\n",
       "      <td>2620.0</td>\n",
       "      <td>NaN</td>\n",
       "      <td>중형</td>\n",
       "      <td>승합</td>\n",
       "      <td>휘발유</td>\n",
       "      <td>NaN</td>\n",
       "      <td>NaN</td>\n",
       "      <td>...</td>\n",
       "      <td>NaN</td>\n",
       "      <td>NaN</td>\n",
       "      <td>NaN</td>\n",
       "      <td>NaN</td>\n",
       "      <td>NaN</td>\n",
       "      <td>NaN</td>\n",
       "      <td>NaN</td>\n",
       "      <td>NaN</td>\n",
       "      <td>NaN</td>\n",
       "      <td>NaN</td>\n",
       "    </tr>\n",
       "  </tbody>\n",
       "</table>\n",
       "<p>5 rows × 27 columns</p>\n",
       "</div>"
      ],
      "text/plain": [
       "          차대번호      차량제작일자   배출가스인증번호     총중량 검사방법 차종유형 차종_등록정보   연료  \\\n",
       "0  018013212A7         NaN  3MY-FK-08  1785.0  NaN   대형      승용  휘발유   \n",
       "1  01831300012  19880823.0        NaN  2145.0  NaN   중형      승용  휘발유   \n",
       "2  01841300699  19890328.0        NaN  1595.0  NaN   중형      승용  휘발유   \n",
       "3  01871300044         NaN        NaN  1540.0  NaN   대형      승용  휘발유   \n",
       "4  01881100314  19890125.0        NaN  2620.0  NaN   중형      승합  휘발유   \n",
       "\n",
       "   무부하매연측정치1  무부하매연허용치1  ... 무부하매연측정치4  무부하매연허용치4  무부하매연판정4 무부하매연측정치5  \\\n",
       "0        NaN        NaN  ...       NaN        NaN       NaN       NaN   \n",
       "1        NaN        NaN  ...       NaN        NaN       NaN       NaN   \n",
       "2        NaN        NaN  ...       NaN        NaN       NaN       NaN   \n",
       "3        NaN        NaN  ...       NaN        NaN       NaN       NaN   \n",
       "4        NaN        NaN  ...       NaN        NaN       NaN       NaN   \n",
       "\n",
       "   무부하매연허용치5  무부하매연판정5 무부하매연측정치6  무부하매연허용치6  무부하매연판정6 검사 판정시간  \n",
       "0        NaN       NaN       NaN        NaN       NaN     NaN  \n",
       "1        NaN       NaN       NaN        NaN       NaN     NaN  \n",
       "2        NaN       NaN       NaN        NaN       NaN     NaN  \n",
       "3        NaN       NaN       NaN        NaN       NaN     NaN  \n",
       "4        NaN       NaN       NaN        NaN       NaN     NaN  \n",
       "\n",
       "[5 rows x 27 columns]"
      ]
     },
     "execution_count": 27,
     "metadata": {},
     "output_type": "execute_result"
    }
   ],
   "source": [
    "gas_per_ins.head()"
   ]
  },
  {
   "cell_type": "code",
   "execution_count": 28,
   "metadata": {},
   "outputs": [
    {
     "data": {
      "text/plain": [
       "123003"
      ]
     },
     "execution_count": 28,
     "metadata": {},
     "output_type": "execute_result"
    }
   ],
   "source": [
    "gas_per_ins['배출가스인증번호'].isnull().sum()"
   ]
  },
  {
   "cell_type": "code",
   "execution_count": 29,
   "metadata": {},
   "outputs": [
    {
     "data": {
      "text/plain": [
       "1047521"
      ]
     },
     "execution_count": 29,
     "metadata": {},
     "output_type": "execute_result"
    }
   ],
   "source": [
    "gas_per_ins['검사방법'].isnull().sum()"
   ]
  },
  {
   "cell_type": "code",
   "execution_count": 30,
   "metadata": {},
   "outputs": [
    {
     "data": {
      "text/plain": [
       "1047552"
      ]
     },
     "execution_count": 30,
     "metadata": {},
     "output_type": "execute_result"
    }
   ],
   "source": [
    "gas_per_ins['무부하매연측정치1'].isnull().sum()"
   ]
  },
  {
   "attachments": {},
   "cell_type": "markdown",
   "metadata": {},
   "source": [
    "## 제원_정밀 파일 전처리"
   ]
  },
  {
   "cell_type": "code",
   "execution_count": 31,
   "metadata": {},
   "outputs": [
    {
     "data": {
      "text/plain": [
       "array([nan, '부하검사(LUG DOWN)', '부하검사(KD-147)', '부하검사(ASM-Idling)',\n",
       "       '무부하검사(급가속)', '무부하검사(TSI)', '무부하검사(정지가동)'], dtype=object)"
      ]
     },
     "execution_count": 31,
     "metadata": {},
     "output_type": "execute_result"
    }
   ],
   "source": [
    "tdf2['정밀검사측정방법'].unique()"
   ]
  },
  {
   "cell_type": "code",
   "execution_count": 32,
   "metadata": {},
   "outputs": [],
   "source": [
    "# 제원_정밀 파일 정렬\n",
    "# 차대번호, 정밀검사측정방법, 정밀검사시간정보\n",
    "    # 최신순으로\n",
    "# 차대번호 기준 중복 제거"
   ]
  },
  {
   "cell_type": "code",
   "execution_count": 33,
   "metadata": {},
   "outputs": [
    {
     "data": {
      "text/plain": [
       "(2873363, 27)"
      ]
     },
     "execution_count": 33,
     "metadata": {},
     "output_type": "execute_result"
    }
   ],
   "source": [
    "gas_col2 = ['차대번호', '차량제작일자','배출가스인증번호', '총중량', '정밀검사측정방법', '차종유형', '차종_등록정보', '연료',\n",
    "           '무부하매연측정치1', '무부하매연허용치1', '무부하매연판정1',\n",
    "           '무부하매연측정치2', '무부하매연허용치2', '무부하매연판정2',\n",
    "           '무부하매연측정치3', '무부하매연허용치3', '무부하매연판정3', \n",
    "           '무부하매연측정치4', '무부하매연허용치4', '무부하매연판정4', \n",
    "           '무부하매연측정치5', '무부하매연허용치5', '무부하매연판정5',\n",
    "           '무부하매연측정치6', '무부하매연허용치6', '무부하매연판정6', \n",
    "           '정밀검사시간정보']\n",
    "gas_per_d_ins = tdf2[gas_col2].copy()\n",
    "gas_per_d_ins.shape"
   ]
  },
  {
   "cell_type": "code",
   "execution_count": 34,
   "metadata": {},
   "outputs": [
    {
     "data": {
      "text/html": [
       "<div>\n",
       "<style scoped>\n",
       "    .dataframe tbody tr th:only-of-type {\n",
       "        vertical-align: middle;\n",
       "    }\n",
       "\n",
       "    .dataframe tbody tr th {\n",
       "        vertical-align: top;\n",
       "    }\n",
       "\n",
       "    .dataframe thead th {\n",
       "        text-align: right;\n",
       "    }\n",
       "</style>\n",
       "<table border=\"1\" class=\"dataframe\">\n",
       "  <thead>\n",
       "    <tr style=\"text-align: right;\">\n",
       "      <th></th>\n",
       "      <th>차대번호</th>\n",
       "      <th>차량제작일자</th>\n",
       "      <th>배출가스인증번호</th>\n",
       "      <th>총중량</th>\n",
       "      <th>정밀검사측정방법</th>\n",
       "      <th>차종유형</th>\n",
       "      <th>차종_등록정보</th>\n",
       "      <th>연료</th>\n",
       "      <th>무부하매연측정치1</th>\n",
       "      <th>무부하매연허용치1</th>\n",
       "      <th>...</th>\n",
       "      <th>무부하매연측정치4</th>\n",
       "      <th>무부하매연허용치4</th>\n",
       "      <th>무부하매연판정4</th>\n",
       "      <th>무부하매연측정치5</th>\n",
       "      <th>무부하매연허용치5</th>\n",
       "      <th>무부하매연판정5</th>\n",
       "      <th>무부하매연측정치6</th>\n",
       "      <th>무부하매연허용치6</th>\n",
       "      <th>무부하매연판정6</th>\n",
       "      <th>정밀검사시간정보</th>\n",
       "    </tr>\n",
       "  </thead>\n",
       "  <tbody>\n",
       "    <tr>\n",
       "      <th>0</th>\n",
       "      <td>KMCLK18KP8C035195</td>\n",
       "      <td>20080924.0</td>\n",
       "      <td>NaN</td>\n",
       "      <td>10825.0</td>\n",
       "      <td>NaN</td>\n",
       "      <td>대형</td>\n",
       "      <td>화물</td>\n",
       "      <td>경유</td>\n",
       "      <td>NaN</td>\n",
       "      <td>NaN</td>\n",
       "      <td>...</td>\n",
       "      <td>NaN</td>\n",
       "      <td>NaN</td>\n",
       "      <td>NaN</td>\n",
       "      <td>NaN</td>\n",
       "      <td>NaN</td>\n",
       "      <td>NaN</td>\n",
       "      <td>NaN</td>\n",
       "      <td>NaN</td>\n",
       "      <td>NaN</td>\n",
       "      <td>NaN</td>\n",
       "    </tr>\n",
       "    <tr>\n",
       "      <th>1</th>\n",
       "      <td>KMFLA18KP8C031274</td>\n",
       "      <td>20080605.0</td>\n",
       "      <td>NaN</td>\n",
       "      <td>11075.0</td>\n",
       "      <td>NaN</td>\n",
       "      <td>대형</td>\n",
       "      <td>화물</td>\n",
       "      <td>경유</td>\n",
       "      <td>NaN</td>\n",
       "      <td>NaN</td>\n",
       "      <td>...</td>\n",
       "      <td>NaN</td>\n",
       "      <td>NaN</td>\n",
       "      <td>NaN</td>\n",
       "      <td>NaN</td>\n",
       "      <td>NaN</td>\n",
       "      <td>NaN</td>\n",
       "      <td>NaN</td>\n",
       "      <td>NaN</td>\n",
       "      <td>NaN</td>\n",
       "      <td>NaN</td>\n",
       "    </tr>\n",
       "    <tr>\n",
       "      <th>2</th>\n",
       "      <td>KLACA26RD8B226753</td>\n",
       "      <td>20080221.0</td>\n",
       "      <td>NaN</td>\n",
       "      <td>2215.0</td>\n",
       "      <td>NaN</td>\n",
       "      <td>중형</td>\n",
       "      <td>승용</td>\n",
       "      <td>경유</td>\n",
       "      <td>NaN</td>\n",
       "      <td>NaN</td>\n",
       "      <td>...</td>\n",
       "      <td>NaN</td>\n",
       "      <td>NaN</td>\n",
       "      <td>NaN</td>\n",
       "      <td>NaN</td>\n",
       "      <td>NaN</td>\n",
       "      <td>NaN</td>\n",
       "      <td>NaN</td>\n",
       "      <td>NaN</td>\n",
       "      <td>NaN</td>\n",
       "      <td>NaN</td>\n",
       "    </tr>\n",
       "    <tr>\n",
       "      <th>3</th>\n",
       "      <td>KMCGK17HP8C086937</td>\n",
       "      <td>20080315.0</td>\n",
       "      <td>NaN</td>\n",
       "      <td>6150.0</td>\n",
       "      <td>NaN</td>\n",
       "      <td>중형</td>\n",
       "      <td>화물</td>\n",
       "      <td>경유</td>\n",
       "      <td>NaN</td>\n",
       "      <td>NaN</td>\n",
       "      <td>...</td>\n",
       "      <td>NaN</td>\n",
       "      <td>NaN</td>\n",
       "      <td>NaN</td>\n",
       "      <td>NaN</td>\n",
       "      <td>NaN</td>\n",
       "      <td>NaN</td>\n",
       "      <td>NaN</td>\n",
       "      <td>NaN</td>\n",
       "      <td>NaN</td>\n",
       "      <td>NaN</td>\n",
       "    </tr>\n",
       "    <tr>\n",
       "      <th>4</th>\n",
       "      <td>KMCYSS7JP7U084697</td>\n",
       "      <td>20070227.0</td>\n",
       "      <td>NaN</td>\n",
       "      <td>3155.0</td>\n",
       "      <td>NaN</td>\n",
       "      <td>중형</td>\n",
       "      <td>특수</td>\n",
       "      <td>경유</td>\n",
       "      <td>NaN</td>\n",
       "      <td>NaN</td>\n",
       "      <td>...</td>\n",
       "      <td>NaN</td>\n",
       "      <td>NaN</td>\n",
       "      <td>NaN</td>\n",
       "      <td>NaN</td>\n",
       "      <td>NaN</td>\n",
       "      <td>NaN</td>\n",
       "      <td>NaN</td>\n",
       "      <td>NaN</td>\n",
       "      <td>NaN</td>\n",
       "      <td>NaN</td>\n",
       "    </tr>\n",
       "  </tbody>\n",
       "</table>\n",
       "<p>5 rows × 27 columns</p>\n",
       "</div>"
      ],
      "text/plain": [
       "                차대번호      차량제작일자 배출가스인증번호      총중량 정밀검사측정방법 차종유형 차종_등록정보  연료  \\\n",
       "0  KMCLK18KP8C035195  20080924.0      NaN  10825.0      NaN   대형      화물  경유   \n",
       "1  KMFLA18KP8C031274  20080605.0      NaN  11075.0      NaN   대형      화물  경유   \n",
       "2  KLACA26RD8B226753  20080221.0      NaN   2215.0      NaN   중형      승용  경유   \n",
       "3  KMCGK17HP8C086937  20080315.0      NaN   6150.0      NaN   중형      화물  경유   \n",
       "4  KMCYSS7JP7U084697  20070227.0      NaN   3155.0      NaN   중형      특수  경유   \n",
       "\n",
       "   무부하매연측정치1  무부하매연허용치1  ... 무부하매연측정치4  무부하매연허용치4  무부하매연판정4 무부하매연측정치5  \\\n",
       "0        NaN        NaN  ...       NaN        NaN       NaN       NaN   \n",
       "1        NaN        NaN  ...       NaN        NaN       NaN       NaN   \n",
       "2        NaN        NaN  ...       NaN        NaN       NaN       NaN   \n",
       "3        NaN        NaN  ...       NaN        NaN       NaN       NaN   \n",
       "4        NaN        NaN  ...       NaN        NaN       NaN       NaN   \n",
       "\n",
       "   무부하매연허용치5  무부하매연판정5 무부하매연측정치6  무부하매연허용치6  무부하매연판정6 정밀검사시간정보  \n",
       "0        NaN       NaN       NaN        NaN       NaN      NaN  \n",
       "1        NaN       NaN       NaN        NaN       NaN      NaN  \n",
       "2        NaN       NaN       NaN        NaN       NaN      NaN  \n",
       "3        NaN       NaN       NaN        NaN       NaN      NaN  \n",
       "4        NaN       NaN       NaN        NaN       NaN      NaN  \n",
       "\n",
       "[5 rows x 27 columns]"
      ]
     },
     "execution_count": 34,
     "metadata": {},
     "output_type": "execute_result"
    }
   ],
   "source": [
    "gas_per_d_ins.head()"
   ]
  },
  {
   "cell_type": "code",
   "execution_count": 35,
   "metadata": {},
   "outputs": [
    {
     "data": {
      "text/html": [
       "<div>\n",
       "<style scoped>\n",
       "    .dataframe tbody tr th:only-of-type {\n",
       "        vertical-align: middle;\n",
       "    }\n",
       "\n",
       "    .dataframe tbody tr th {\n",
       "        vertical-align: top;\n",
       "    }\n",
       "\n",
       "    .dataframe thead th {\n",
       "        text-align: right;\n",
       "    }\n",
       "</style>\n",
       "<table border=\"1\" class=\"dataframe\">\n",
       "  <thead>\n",
       "    <tr style=\"text-align: right;\">\n",
       "      <th></th>\n",
       "      <th>차대번호</th>\n",
       "      <th>차량제작일자</th>\n",
       "      <th>배출가스인증번호</th>\n",
       "      <th>총중량</th>\n",
       "      <th>정밀검사측정방법</th>\n",
       "      <th>차종유형</th>\n",
       "      <th>차종_등록정보</th>\n",
       "      <th>연료</th>\n",
       "      <th>무부하매연측정치1</th>\n",
       "      <th>무부하매연허용치1</th>\n",
       "      <th>...</th>\n",
       "      <th>무부하매연측정치4</th>\n",
       "      <th>무부하매연허용치4</th>\n",
       "      <th>무부하매연판정4</th>\n",
       "      <th>무부하매연측정치5</th>\n",
       "      <th>무부하매연허용치5</th>\n",
       "      <th>무부하매연판정5</th>\n",
       "      <th>무부하매연측정치6</th>\n",
       "      <th>무부하매연허용치6</th>\n",
       "      <th>무부하매연판정6</th>\n",
       "      <th>정밀검사시간정보</th>\n",
       "    </tr>\n",
       "  </thead>\n",
       "  <tbody>\n",
       "    <tr>\n",
       "      <th>2839486</th>\n",
       "      <td>018013212A7</td>\n",
       "      <td>NaN</td>\n",
       "      <td>3MY-FK-08</td>\n",
       "      <td>1785.0</td>\n",
       "      <td>NaN</td>\n",
       "      <td>대형</td>\n",
       "      <td>승용</td>\n",
       "      <td>휘발유</td>\n",
       "      <td>NaN</td>\n",
       "      <td>NaN</td>\n",
       "      <td>...</td>\n",
       "      <td>NaN</td>\n",
       "      <td>NaN</td>\n",
       "      <td>NaN</td>\n",
       "      <td>NaN</td>\n",
       "      <td>NaN</td>\n",
       "      <td>NaN</td>\n",
       "      <td>NaN</td>\n",
       "      <td>NaN</td>\n",
       "      <td>NaN</td>\n",
       "      <td>NaN</td>\n",
       "    </tr>\n",
       "    <tr>\n",
       "      <th>2866198</th>\n",
       "      <td>01831300012</td>\n",
       "      <td>19880823.0</td>\n",
       "      <td>NaN</td>\n",
       "      <td>2145.0</td>\n",
       "      <td>NaN</td>\n",
       "      <td>중형</td>\n",
       "      <td>승용</td>\n",
       "      <td>휘발유</td>\n",
       "      <td>NaN</td>\n",
       "      <td>NaN</td>\n",
       "      <td>...</td>\n",
       "      <td>NaN</td>\n",
       "      <td>NaN</td>\n",
       "      <td>NaN</td>\n",
       "      <td>NaN</td>\n",
       "      <td>NaN</td>\n",
       "      <td>NaN</td>\n",
       "      <td>NaN</td>\n",
       "      <td>NaN</td>\n",
       "      <td>NaN</td>\n",
       "      <td>NaN</td>\n",
       "    </tr>\n",
       "    <tr>\n",
       "      <th>2856680</th>\n",
       "      <td>01841300699</td>\n",
       "      <td>19890328.0</td>\n",
       "      <td>NaN</td>\n",
       "      <td>1595.0</td>\n",
       "      <td>NaN</td>\n",
       "      <td>중형</td>\n",
       "      <td>승용</td>\n",
       "      <td>휘발유</td>\n",
       "      <td>NaN</td>\n",
       "      <td>NaN</td>\n",
       "      <td>...</td>\n",
       "      <td>NaN</td>\n",
       "      <td>NaN</td>\n",
       "      <td>NaN</td>\n",
       "      <td>NaN</td>\n",
       "      <td>NaN</td>\n",
       "      <td>NaN</td>\n",
       "      <td>NaN</td>\n",
       "      <td>NaN</td>\n",
       "      <td>NaN</td>\n",
       "      <td>NaN</td>\n",
       "    </tr>\n",
       "    <tr>\n",
       "      <th>2862220</th>\n",
       "      <td>01871300044</td>\n",
       "      <td>NaN</td>\n",
       "      <td>NaN</td>\n",
       "      <td>1540.0</td>\n",
       "      <td>NaN</td>\n",
       "      <td>대형</td>\n",
       "      <td>승용</td>\n",
       "      <td>휘발유</td>\n",
       "      <td>NaN</td>\n",
       "      <td>NaN</td>\n",
       "      <td>...</td>\n",
       "      <td>NaN</td>\n",
       "      <td>NaN</td>\n",
       "      <td>NaN</td>\n",
       "      <td>NaN</td>\n",
       "      <td>NaN</td>\n",
       "      <td>NaN</td>\n",
       "      <td>NaN</td>\n",
       "      <td>NaN</td>\n",
       "      <td>NaN</td>\n",
       "      <td>NaN</td>\n",
       "    </tr>\n",
       "    <tr>\n",
       "      <th>2859618</th>\n",
       "      <td>01881100314</td>\n",
       "      <td>19890125.0</td>\n",
       "      <td>NaN</td>\n",
       "      <td>2620.0</td>\n",
       "      <td>NaN</td>\n",
       "      <td>중형</td>\n",
       "      <td>승합</td>\n",
       "      <td>휘발유</td>\n",
       "      <td>NaN</td>\n",
       "      <td>NaN</td>\n",
       "      <td>...</td>\n",
       "      <td>NaN</td>\n",
       "      <td>NaN</td>\n",
       "      <td>NaN</td>\n",
       "      <td>NaN</td>\n",
       "      <td>NaN</td>\n",
       "      <td>NaN</td>\n",
       "      <td>NaN</td>\n",
       "      <td>NaN</td>\n",
       "      <td>NaN</td>\n",
       "      <td>NaN</td>\n",
       "    </tr>\n",
       "  </tbody>\n",
       "</table>\n",
       "<p>5 rows × 27 columns</p>\n",
       "</div>"
      ],
      "text/plain": [
       "                차대번호      차량제작일자   배출가스인증번호     총중량 정밀검사측정방법 차종유형 차종_등록정보  \\\n",
       "2839486  018013212A7         NaN  3MY-FK-08  1785.0      NaN   대형      승용   \n",
       "2866198  01831300012  19880823.0        NaN  2145.0      NaN   중형      승용   \n",
       "2856680  01841300699  19890328.0        NaN  1595.0      NaN   중형      승용   \n",
       "2862220  01871300044         NaN        NaN  1540.0      NaN   대형      승용   \n",
       "2859618  01881100314  19890125.0        NaN  2620.0      NaN   중형      승합   \n",
       "\n",
       "          연료  무부하매연측정치1  무부하매연허용치1  ... 무부하매연측정치4  무부하매연허용치4  무부하매연판정4  \\\n",
       "2839486  휘발유        NaN        NaN  ...       NaN        NaN       NaN   \n",
       "2866198  휘발유        NaN        NaN  ...       NaN        NaN       NaN   \n",
       "2856680  휘발유        NaN        NaN  ...       NaN        NaN       NaN   \n",
       "2862220  휘발유        NaN        NaN  ...       NaN        NaN       NaN   \n",
       "2859618  휘발유        NaN        NaN  ...       NaN        NaN       NaN   \n",
       "\n",
       "        무부하매연측정치5  무부하매연허용치5  무부하매연판정5 무부하매연측정치6  무부하매연허용치6  무부하매연판정6 정밀검사시간정보  \n",
       "2839486       NaN        NaN       NaN       NaN        NaN       NaN      NaN  \n",
       "2866198       NaN        NaN       NaN       NaN        NaN       NaN      NaN  \n",
       "2856680       NaN        NaN       NaN       NaN        NaN       NaN      NaN  \n",
       "2862220       NaN        NaN       NaN       NaN        NaN       NaN      NaN  \n",
       "2859618       NaN        NaN       NaN       NaN        NaN       NaN      NaN  \n",
       "\n",
       "[5 rows x 27 columns]"
      ]
     },
     "execution_count": 35,
     "metadata": {},
     "output_type": "execute_result"
    }
   ],
   "source": [
    "gas_per_d_ins.sort_values(['차대번호', '정밀검사측정방법', '정밀검사시간정보']).head()"
   ]
  },
  {
   "cell_type": "code",
   "execution_count": 36,
   "metadata": {},
   "outputs": [
    {
     "data": {
      "text/plain": [
       "(1528557, 27)"
      ]
     },
     "execution_count": 36,
     "metadata": {},
     "output_type": "execute_result"
    }
   ],
   "source": [
    "gas_per_d_ins = gas_per_d_ins.sort_values(['차대번호', '정밀검사측정방법', '정밀검사시간정보']).drop_duplicates('차대번호', keep='first').reset_index(drop=True)\n",
    "gas_per_d_ins.shape"
   ]
  },
  {
   "cell_type": "code",
   "execution_count": 37,
   "metadata": {},
   "outputs": [
    {
     "data": {
      "text/html": [
       "<div>\n",
       "<style scoped>\n",
       "    .dataframe tbody tr th:only-of-type {\n",
       "        vertical-align: middle;\n",
       "    }\n",
       "\n",
       "    .dataframe tbody tr th {\n",
       "        vertical-align: top;\n",
       "    }\n",
       "\n",
       "    .dataframe thead th {\n",
       "        text-align: right;\n",
       "    }\n",
       "</style>\n",
       "<table border=\"1\" class=\"dataframe\">\n",
       "  <thead>\n",
       "    <tr style=\"text-align: right;\">\n",
       "      <th></th>\n",
       "      <th>차대번호</th>\n",
       "      <th>차량제작일자</th>\n",
       "      <th>배출가스인증번호</th>\n",
       "      <th>총중량</th>\n",
       "      <th>정밀검사측정방법</th>\n",
       "      <th>차종유형</th>\n",
       "      <th>차종_등록정보</th>\n",
       "      <th>연료</th>\n",
       "      <th>무부하매연측정치1</th>\n",
       "      <th>무부하매연허용치1</th>\n",
       "      <th>...</th>\n",
       "      <th>무부하매연측정치4</th>\n",
       "      <th>무부하매연허용치4</th>\n",
       "      <th>무부하매연판정4</th>\n",
       "      <th>무부하매연측정치5</th>\n",
       "      <th>무부하매연허용치5</th>\n",
       "      <th>무부하매연판정5</th>\n",
       "      <th>무부하매연측정치6</th>\n",
       "      <th>무부하매연허용치6</th>\n",
       "      <th>무부하매연판정6</th>\n",
       "      <th>정밀검사시간정보</th>\n",
       "    </tr>\n",
       "  </thead>\n",
       "  <tbody>\n",
       "    <tr>\n",
       "      <th>0</th>\n",
       "      <td>018013212A7</td>\n",
       "      <td>NaN</td>\n",
       "      <td>3MY-FK-08</td>\n",
       "      <td>1785.0</td>\n",
       "      <td>NaN</td>\n",
       "      <td>대형</td>\n",
       "      <td>승용</td>\n",
       "      <td>휘발유</td>\n",
       "      <td>NaN</td>\n",
       "      <td>NaN</td>\n",
       "      <td>...</td>\n",
       "      <td>NaN</td>\n",
       "      <td>NaN</td>\n",
       "      <td>NaN</td>\n",
       "      <td>NaN</td>\n",
       "      <td>NaN</td>\n",
       "      <td>NaN</td>\n",
       "      <td>NaN</td>\n",
       "      <td>NaN</td>\n",
       "      <td>NaN</td>\n",
       "      <td>NaN</td>\n",
       "    </tr>\n",
       "    <tr>\n",
       "      <th>1</th>\n",
       "      <td>01831300012</td>\n",
       "      <td>19880823.0</td>\n",
       "      <td>NaN</td>\n",
       "      <td>2145.0</td>\n",
       "      <td>NaN</td>\n",
       "      <td>중형</td>\n",
       "      <td>승용</td>\n",
       "      <td>휘발유</td>\n",
       "      <td>NaN</td>\n",
       "      <td>NaN</td>\n",
       "      <td>...</td>\n",
       "      <td>NaN</td>\n",
       "      <td>NaN</td>\n",
       "      <td>NaN</td>\n",
       "      <td>NaN</td>\n",
       "      <td>NaN</td>\n",
       "      <td>NaN</td>\n",
       "      <td>NaN</td>\n",
       "      <td>NaN</td>\n",
       "      <td>NaN</td>\n",
       "      <td>NaN</td>\n",
       "    </tr>\n",
       "    <tr>\n",
       "      <th>2</th>\n",
       "      <td>01841300699</td>\n",
       "      <td>19890328.0</td>\n",
       "      <td>NaN</td>\n",
       "      <td>1595.0</td>\n",
       "      <td>NaN</td>\n",
       "      <td>중형</td>\n",
       "      <td>승용</td>\n",
       "      <td>휘발유</td>\n",
       "      <td>NaN</td>\n",
       "      <td>NaN</td>\n",
       "      <td>...</td>\n",
       "      <td>NaN</td>\n",
       "      <td>NaN</td>\n",
       "      <td>NaN</td>\n",
       "      <td>NaN</td>\n",
       "      <td>NaN</td>\n",
       "      <td>NaN</td>\n",
       "      <td>NaN</td>\n",
       "      <td>NaN</td>\n",
       "      <td>NaN</td>\n",
       "      <td>NaN</td>\n",
       "    </tr>\n",
       "    <tr>\n",
       "      <th>3</th>\n",
       "      <td>01871300044</td>\n",
       "      <td>NaN</td>\n",
       "      <td>NaN</td>\n",
       "      <td>1540.0</td>\n",
       "      <td>NaN</td>\n",
       "      <td>대형</td>\n",
       "      <td>승용</td>\n",
       "      <td>휘발유</td>\n",
       "      <td>NaN</td>\n",
       "      <td>NaN</td>\n",
       "      <td>...</td>\n",
       "      <td>NaN</td>\n",
       "      <td>NaN</td>\n",
       "      <td>NaN</td>\n",
       "      <td>NaN</td>\n",
       "      <td>NaN</td>\n",
       "      <td>NaN</td>\n",
       "      <td>NaN</td>\n",
       "      <td>NaN</td>\n",
       "      <td>NaN</td>\n",
       "      <td>NaN</td>\n",
       "    </tr>\n",
       "    <tr>\n",
       "      <th>4</th>\n",
       "      <td>01881100314</td>\n",
       "      <td>19890125.0</td>\n",
       "      <td>NaN</td>\n",
       "      <td>2620.0</td>\n",
       "      <td>NaN</td>\n",
       "      <td>중형</td>\n",
       "      <td>승합</td>\n",
       "      <td>휘발유</td>\n",
       "      <td>NaN</td>\n",
       "      <td>NaN</td>\n",
       "      <td>...</td>\n",
       "      <td>NaN</td>\n",
       "      <td>NaN</td>\n",
       "      <td>NaN</td>\n",
       "      <td>NaN</td>\n",
       "      <td>NaN</td>\n",
       "      <td>NaN</td>\n",
       "      <td>NaN</td>\n",
       "      <td>NaN</td>\n",
       "      <td>NaN</td>\n",
       "      <td>NaN</td>\n",
       "    </tr>\n",
       "  </tbody>\n",
       "</table>\n",
       "<p>5 rows × 27 columns</p>\n",
       "</div>"
      ],
      "text/plain": [
       "          차대번호      차량제작일자   배출가스인증번호     총중량 정밀검사측정방법 차종유형 차종_등록정보   연료  \\\n",
       "0  018013212A7         NaN  3MY-FK-08  1785.0      NaN   대형      승용  휘발유   \n",
       "1  01831300012  19880823.0        NaN  2145.0      NaN   중형      승용  휘발유   \n",
       "2  01841300699  19890328.0        NaN  1595.0      NaN   중형      승용  휘발유   \n",
       "3  01871300044         NaN        NaN  1540.0      NaN   대형      승용  휘발유   \n",
       "4  01881100314  19890125.0        NaN  2620.0      NaN   중형      승합  휘발유   \n",
       "\n",
       "   무부하매연측정치1  무부하매연허용치1  ... 무부하매연측정치4  무부하매연허용치4  무부하매연판정4 무부하매연측정치5  \\\n",
       "0        NaN        NaN  ...       NaN        NaN       NaN       NaN   \n",
       "1        NaN        NaN  ...       NaN        NaN       NaN       NaN   \n",
       "2        NaN        NaN  ...       NaN        NaN       NaN       NaN   \n",
       "3        NaN        NaN  ...       NaN        NaN       NaN       NaN   \n",
       "4        NaN        NaN  ...       NaN        NaN       NaN       NaN   \n",
       "\n",
       "   무부하매연허용치5  무부하매연판정5 무부하매연측정치6  무부하매연허용치6  무부하매연판정6 정밀검사시간정보  \n",
       "0        NaN       NaN       NaN        NaN       NaN      NaN  \n",
       "1        NaN       NaN       NaN        NaN       NaN      NaN  \n",
       "2        NaN       NaN       NaN        NaN       NaN      NaN  \n",
       "3        NaN       NaN       NaN        NaN       NaN      NaN  \n",
       "4        NaN       NaN       NaN        NaN       NaN      NaN  \n",
       "\n",
       "[5 rows x 27 columns]"
      ]
     },
     "execution_count": 37,
     "metadata": {},
     "output_type": "execute_result"
    }
   ],
   "source": [
    "gas_per_d_ins.head()"
   ]
  },
  {
   "cell_type": "code",
   "execution_count": 38,
   "metadata": {},
   "outputs": [
    {
     "data": {
      "text/plain": [
       "123003"
      ]
     },
     "execution_count": 38,
     "metadata": {},
     "output_type": "execute_result"
    }
   ],
   "source": [
    "gas_per_d_ins['배출가스인증번호'].isnull().sum()"
   ]
  },
  {
   "cell_type": "code",
   "execution_count": 39,
   "metadata": {},
   "outputs": [
    {
     "data": {
      "text/plain": [
       "540567"
      ]
     },
     "execution_count": 39,
     "metadata": {},
     "output_type": "execute_result"
    }
   ],
   "source": [
    "gas_per_d_ins['정밀검사측정방법'].isnull().sum()"
   ]
  },
  {
   "cell_type": "code",
   "execution_count": 40,
   "metadata": {},
   "outputs": [
    {
     "data": {
      "text/plain": [
       "545132"
      ]
     },
     "execution_count": 40,
     "metadata": {},
     "output_type": "execute_result"
    }
   ],
   "source": [
    "gas_per_d_ins['무부하매연측정치1'].isnull().sum()"
   ]
  },
  {
   "attachments": {},
   "cell_type": "markdown",
   "metadata": {},
   "source": [
    "## 두 파일 concat(제원+정기, 제원+정밀)"
   ]
  },
  {
   "cell_type": "code",
   "execution_count": 41,
   "metadata": {},
   "outputs": [],
   "source": [
    "gas_per_ins['정기정밀'] = '정기'"
   ]
  },
  {
   "cell_type": "code",
   "execution_count": 42,
   "metadata": {},
   "outputs": [
    {
     "data": {
      "text/plain": [
       "Index(['차대번호', '차량제작일자', '배출가스인증번호', '총중량', '검사방법', '차종유형', '차종_등록정보', '연료',\n",
       "       '무부하매연측정치1', '무부하매연허용치1', '무부하매연판정1', '무부하매연측정치2', '무부하매연허용치2',\n",
       "       '무부하매연판정2', '무부하매연측정치3', '무부하매연허용치3', '무부하매연판정3', '무부하매연측정치4',\n",
       "       '무부하매연허용치4', '무부하매연판정4', '무부하매연측정치5', '무부하매연허용치5', '무부하매연판정5',\n",
       "       '무부하매연측정치6', '무부하매연허용치6', '무부하매연판정6', '검사 판정시간', '정기정밀'],\n",
       "      dtype='object')"
      ]
     },
     "execution_count": 42,
     "metadata": {},
     "output_type": "execute_result"
    }
   ],
   "source": [
    "gas_per_ins.columns"
   ]
  },
  {
   "cell_type": "code",
   "execution_count": 43,
   "metadata": {},
   "outputs": [],
   "source": [
    "gas_per_ins.columns = ['차대번호', '차량제작일자', '배출가스인증번호', '총중량', '검사방법', '차종유형', '차종등록정보', '연료',\n",
    "                     '무부하매연측정치1', '무부하매연허용치1', '무부하매연판정1',\n",
    "                     '무부하매연측정치2', '무부하매연허용치2', '무부하매연판정2', \n",
    "                     '무부하매연측정치3', '무부하매연허용치3', '무부하매연판정3', \n",
    "                     '무부하매연측정치4', '무부하매연허용치4', '무부하매연판정4',\n",
    "                     '무부하매연측정치5', '무부하매연허용치5', '무부하매연판정5', \n",
    "                     '무부하매연측정치6', '무부하매연허용치6', '무부하매연판정6',\n",
    "                     '검사판정시간', '정기정밀']"
   ]
  },
  {
   "cell_type": "code",
   "execution_count": 44,
   "metadata": {},
   "outputs": [
    {
     "data": {
      "text/plain": [
       "Index(['차대번호', '차량제작일자', '배출가스인증번호', '총중량', '검사방법', '차종유형', '차종등록정보', '연료',\n",
       "       '무부하매연측정치1', '무부하매연허용치1', '무부하매연판정1', '무부하매연측정치2', '무부하매연허용치2',\n",
       "       '무부하매연판정2', '무부하매연측정치3', '무부하매연허용치3', '무부하매연판정3', '무부하매연측정치4',\n",
       "       '무부하매연허용치4', '무부하매연판정4', '무부하매연측정치5', '무부하매연허용치5', '무부하매연판정5',\n",
       "       '무부하매연측정치6', '무부하매연허용치6', '무부하매연판정6', '검사판정시간', '정기정밀'],\n",
       "      dtype='object')"
      ]
     },
     "execution_count": 44,
     "metadata": {},
     "output_type": "execute_result"
    }
   ],
   "source": [
    "gas_per_ins.columns"
   ]
  },
  {
   "cell_type": "code",
   "execution_count": 45,
   "metadata": {},
   "outputs": [],
   "source": [
    "gas_per_d_ins['정기정밀'] = '정밀'"
   ]
  },
  {
   "cell_type": "code",
   "execution_count": 46,
   "metadata": {},
   "outputs": [
    {
     "data": {
      "text/plain": [
       "Index(['차대번호', '차량제작일자', '배출가스인증번호', '총중량', '정밀검사측정방법', '차종유형', '차종_등록정보',\n",
       "       '연료', '무부하매연측정치1', '무부하매연허용치1', '무부하매연판정1', '무부하매연측정치2', '무부하매연허용치2',\n",
       "       '무부하매연판정2', '무부하매연측정치3', '무부하매연허용치3', '무부하매연판정3', '무부하매연측정치4',\n",
       "       '무부하매연허용치4', '무부하매연판정4', '무부하매연측정치5', '무부하매연허용치5', '무부하매연판정5',\n",
       "       '무부하매연측정치6', '무부하매연허용치6', '무부하매연판정6', '정밀검사시간정보', '정기정밀'],\n",
       "      dtype='object')"
      ]
     },
     "execution_count": 46,
     "metadata": {},
     "output_type": "execute_result"
    }
   ],
   "source": [
    "gas_per_d_ins.columns"
   ]
  },
  {
   "cell_type": "code",
   "execution_count": 47,
   "metadata": {},
   "outputs": [],
   "source": [
    "gas_per_d_ins.columns = ['차대번호', '차량제작일자', '배출가스인증번호', '총중량', '검사방법', '차종유형', '차종등록정보', '연료',\n",
    "                     '무부하매연측정치1', '무부하매연허용치1', '무부하매연판정1',\n",
    "                     '무부하매연측정치2', '무부하매연허용치2', '무부하매연판정2', \n",
    "                     '무부하매연측정치3', '무부하매연허용치3', '무부하매연판정3', \n",
    "                     '무부하매연측정치4', '무부하매연허용치4', '무부하매연판정4', \n",
    "                     '무부하매연측정치5', '무부하매연허용치5', '무부하매연판정5', \n",
    "                     '무부하매연측정치6', '무부하매연허용치6', '무부하매연판정6',\n",
    "                     '검사판정시간', '정기정밀']"
   ]
  },
  {
   "cell_type": "code",
   "execution_count": 48,
   "metadata": {},
   "outputs": [
    {
     "data": {
      "text/plain": [
       "Index(['차대번호', '차량제작일자', '배출가스인증번호', '총중량', '검사방법', '차종유형', '차종등록정보', '연료',\n",
       "       '무부하매연측정치1', '무부하매연허용치1', '무부하매연판정1', '무부하매연측정치2', '무부하매연허용치2',\n",
       "       '무부하매연판정2', '무부하매연측정치3', '무부하매연허용치3', '무부하매연판정3', '무부하매연측정치4',\n",
       "       '무부하매연허용치4', '무부하매연판정4', '무부하매연측정치5', '무부하매연허용치5', '무부하매연판정5',\n",
       "       '무부하매연측정치6', '무부하매연허용치6', '무부하매연판정6', '검사판정시간', '정기정밀'],\n",
       "      dtype='object')"
      ]
     },
     "execution_count": 48,
     "metadata": {},
     "output_type": "execute_result"
    }
   ],
   "source": [
    "gas_per_d_ins.columns"
   ]
  },
  {
   "cell_type": "code",
   "execution_count": 49,
   "metadata": {},
   "outputs": [
    {
     "data": {
      "text/plain": [
       "((1528557, 28), (1528557, 28))"
      ]
     },
     "execution_count": 49,
     "metadata": {},
     "output_type": "execute_result"
    }
   ],
   "source": [
    "gas_per_ins.shape, gas_per_d_ins.shape"
   ]
  },
  {
   "cell_type": "code",
   "execution_count": 50,
   "metadata": {},
   "outputs": [
    {
     "data": {
      "text/plain": [
       "(3057114, 28)"
      ]
     },
     "execution_count": 50,
     "metadata": {},
     "output_type": "execute_result"
    }
   ],
   "source": [
    "total = pd.concat([gas_per_ins, gas_per_d_ins], ignore_index=True)\n",
    "total.shape"
   ]
  },
  {
   "cell_type": "code",
   "execution_count": 51,
   "metadata": {},
   "outputs": [
    {
     "data": {
      "text/plain": [
       "True"
      ]
     },
     "execution_count": 51,
     "metadata": {},
     "output_type": "execute_result"
    }
   ],
   "source": [
    "total.shape[0] == gas_per_ins.shape[0] + gas_per_d_ins.shape[0]"
   ]
  },
  {
   "attachments": {},
   "cell_type": "markdown",
   "metadata": {},
   "source": [
    "### [출력] 통합 제원, 정기 concat 정밀"
   ]
  },
  {
   "cell_type": "code",
   "execution_count": 541,
   "metadata": {},
   "outputs": [],
   "source": [
    "# 약 28s\n",
    "total.to_csv('data/[G4][통합]제원정보_정기_concat_정밀_20190701_20220630.csv')"
   ]
  },
  {
   "attachments": {},
   "cell_type": "markdown",
   "metadata": {},
   "source": [
    "## [로드] 제원, 정기 concat 정밀"
   ]
  },
  {
   "cell_type": "code",
   "execution_count": 52,
   "metadata": {},
   "outputs": [],
   "source": [
    "# # 약 \n",
    "# total = pd.read_csv('data/[G4][통합]제원정보_정기_concat_정밀_20190701_20220630.csv', index_col=0)"
   ]
  },
  {
   "attachments": {},
   "cell_type": "markdown",
   "metadata": {},
   "source": [
    "## 검사판정시간으로 정렬"
   ]
  },
  {
   "cell_type": "code",
   "execution_count": 53,
   "metadata": {},
   "outputs": [
    {
     "data": {
      "text/html": [
       "<div>\n",
       "<style scoped>\n",
       "    .dataframe tbody tr th:only-of-type {\n",
       "        vertical-align: middle;\n",
       "    }\n",
       "\n",
       "    .dataframe tbody tr th {\n",
       "        vertical-align: top;\n",
       "    }\n",
       "\n",
       "    .dataframe thead th {\n",
       "        text-align: right;\n",
       "    }\n",
       "</style>\n",
       "<table border=\"1\" class=\"dataframe\">\n",
       "  <thead>\n",
       "    <tr style=\"text-align: right;\">\n",
       "      <th></th>\n",
       "      <th>차대번호</th>\n",
       "      <th>차량제작일자</th>\n",
       "      <th>배출가스인증번호</th>\n",
       "      <th>총중량</th>\n",
       "      <th>검사방법</th>\n",
       "      <th>차종유형</th>\n",
       "      <th>차종등록정보</th>\n",
       "      <th>연료</th>\n",
       "      <th>무부하매연측정치1</th>\n",
       "      <th>무부하매연허용치1</th>\n",
       "      <th>...</th>\n",
       "      <th>무부하매연허용치4</th>\n",
       "      <th>무부하매연판정4</th>\n",
       "      <th>무부하매연측정치5</th>\n",
       "      <th>무부하매연허용치5</th>\n",
       "      <th>무부하매연판정5</th>\n",
       "      <th>무부하매연측정치6</th>\n",
       "      <th>무부하매연허용치6</th>\n",
       "      <th>무부하매연판정6</th>\n",
       "      <th>검사판정시간</th>\n",
       "      <th>정기정밀</th>\n",
       "    </tr>\n",
       "  </thead>\n",
       "  <tbody>\n",
       "    <tr>\n",
       "      <th>0</th>\n",
       "      <td>018013212A7</td>\n",
       "      <td>NaN</td>\n",
       "      <td>3MY-FK-08</td>\n",
       "      <td>1785.0</td>\n",
       "      <td>NaN</td>\n",
       "      <td>대형</td>\n",
       "      <td>승용</td>\n",
       "      <td>휘발유</td>\n",
       "      <td>NaN</td>\n",
       "      <td>NaN</td>\n",
       "      <td>...</td>\n",
       "      <td>NaN</td>\n",
       "      <td>NaN</td>\n",
       "      <td>NaN</td>\n",
       "      <td>NaN</td>\n",
       "      <td>NaN</td>\n",
       "      <td>NaN</td>\n",
       "      <td>NaN</td>\n",
       "      <td>NaN</td>\n",
       "      <td>NaN</td>\n",
       "      <td>정기</td>\n",
       "    </tr>\n",
       "    <tr>\n",
       "      <th>1528557</th>\n",
       "      <td>018013212A7</td>\n",
       "      <td>NaN</td>\n",
       "      <td>3MY-FK-08</td>\n",
       "      <td>1785.0</td>\n",
       "      <td>NaN</td>\n",
       "      <td>대형</td>\n",
       "      <td>승용</td>\n",
       "      <td>휘발유</td>\n",
       "      <td>NaN</td>\n",
       "      <td>NaN</td>\n",
       "      <td>...</td>\n",
       "      <td>NaN</td>\n",
       "      <td>NaN</td>\n",
       "      <td>NaN</td>\n",
       "      <td>NaN</td>\n",
       "      <td>NaN</td>\n",
       "      <td>NaN</td>\n",
       "      <td>NaN</td>\n",
       "      <td>NaN</td>\n",
       "      <td>NaN</td>\n",
       "      <td>정밀</td>\n",
       "    </tr>\n",
       "    <tr>\n",
       "      <th>1</th>\n",
       "      <td>01831300012</td>\n",
       "      <td>19880823.0</td>\n",
       "      <td>NaN</td>\n",
       "      <td>2145.0</td>\n",
       "      <td>NaN</td>\n",
       "      <td>중형</td>\n",
       "      <td>승용</td>\n",
       "      <td>휘발유</td>\n",
       "      <td>NaN</td>\n",
       "      <td>NaN</td>\n",
       "      <td>...</td>\n",
       "      <td>NaN</td>\n",
       "      <td>NaN</td>\n",
       "      <td>NaN</td>\n",
       "      <td>NaN</td>\n",
       "      <td>NaN</td>\n",
       "      <td>NaN</td>\n",
       "      <td>NaN</td>\n",
       "      <td>NaN</td>\n",
       "      <td>NaN</td>\n",
       "      <td>정기</td>\n",
       "    </tr>\n",
       "    <tr>\n",
       "      <th>1528558</th>\n",
       "      <td>01831300012</td>\n",
       "      <td>19880823.0</td>\n",
       "      <td>NaN</td>\n",
       "      <td>2145.0</td>\n",
       "      <td>NaN</td>\n",
       "      <td>중형</td>\n",
       "      <td>승용</td>\n",
       "      <td>휘발유</td>\n",
       "      <td>NaN</td>\n",
       "      <td>NaN</td>\n",
       "      <td>...</td>\n",
       "      <td>NaN</td>\n",
       "      <td>NaN</td>\n",
       "      <td>NaN</td>\n",
       "      <td>NaN</td>\n",
       "      <td>NaN</td>\n",
       "      <td>NaN</td>\n",
       "      <td>NaN</td>\n",
       "      <td>NaN</td>\n",
       "      <td>NaN</td>\n",
       "      <td>정밀</td>\n",
       "    </tr>\n",
       "    <tr>\n",
       "      <th>2</th>\n",
       "      <td>01841300699</td>\n",
       "      <td>19890328.0</td>\n",
       "      <td>NaN</td>\n",
       "      <td>1595.0</td>\n",
       "      <td>NaN</td>\n",
       "      <td>중형</td>\n",
       "      <td>승용</td>\n",
       "      <td>휘발유</td>\n",
       "      <td>NaN</td>\n",
       "      <td>NaN</td>\n",
       "      <td>...</td>\n",
       "      <td>NaN</td>\n",
       "      <td>NaN</td>\n",
       "      <td>NaN</td>\n",
       "      <td>NaN</td>\n",
       "      <td>NaN</td>\n",
       "      <td>NaN</td>\n",
       "      <td>NaN</td>\n",
       "      <td>NaN</td>\n",
       "      <td>NaN</td>\n",
       "      <td>정기</td>\n",
       "    </tr>\n",
       "  </tbody>\n",
       "</table>\n",
       "<p>5 rows × 28 columns</p>\n",
       "</div>"
      ],
      "text/plain": [
       "                차대번호      차량제작일자   배출가스인증번호     총중량 검사방법 차종유형 차종등록정보   연료  \\\n",
       "0        018013212A7         NaN  3MY-FK-08  1785.0  NaN   대형     승용  휘발유   \n",
       "1528557  018013212A7         NaN  3MY-FK-08  1785.0  NaN   대형     승용  휘발유   \n",
       "1        01831300012  19880823.0        NaN  2145.0  NaN   중형     승용  휘발유   \n",
       "1528558  01831300012  19880823.0        NaN  2145.0  NaN   중형     승용  휘발유   \n",
       "2        01841300699  19890328.0        NaN  1595.0  NaN   중형     승용  휘발유   \n",
       "\n",
       "         무부하매연측정치1  무부하매연허용치1  ... 무부하매연허용치4  무부하매연판정4  무부하매연측정치5 무부하매연허용치5  \\\n",
       "0              NaN        NaN  ...       NaN       NaN        NaN       NaN   \n",
       "1528557        NaN        NaN  ...       NaN       NaN        NaN       NaN   \n",
       "1              NaN        NaN  ...       NaN       NaN        NaN       NaN   \n",
       "1528558        NaN        NaN  ...       NaN       NaN        NaN       NaN   \n",
       "2              NaN        NaN  ...       NaN       NaN        NaN       NaN   \n",
       "\n",
       "         무부하매연판정5  무부하매연측정치6 무부하매연허용치6  무부하매연판정6  검사판정시간 정기정밀  \n",
       "0             NaN        NaN       NaN       NaN     NaN   정기  \n",
       "1528557       NaN        NaN       NaN       NaN     NaN   정밀  \n",
       "1             NaN        NaN       NaN       NaN     NaN   정기  \n",
       "1528558       NaN        NaN       NaN       NaN     NaN   정밀  \n",
       "2             NaN        NaN       NaN       NaN     NaN   정기  \n",
       "\n",
       "[5 rows x 28 columns]"
      ]
     },
     "execution_count": 53,
     "metadata": {},
     "output_type": "execute_result"
    }
   ],
   "source": [
    "# 6개 index : 6, 1528566\n",
    "total.sort_values(['차대번호', '검사방법', '검사판정시간']).head()"
   ]
  },
  {
   "cell_type": "code",
   "execution_count": 54,
   "metadata": {},
   "outputs": [
    {
     "data": {
      "text/plain": [
       "19880823.0"
      ]
     },
     "execution_count": 54,
     "metadata": {},
     "output_type": "execute_result"
    }
   ],
   "source": [
    "total.loc[1, '차량제작일자']"
   ]
  },
  {
   "cell_type": "code",
   "execution_count": 55,
   "metadata": {},
   "outputs": [
    {
     "data": {
      "text/plain": [
       "numpy.float64"
      ]
     },
     "execution_count": 55,
     "metadata": {},
     "output_type": "execute_result"
    }
   ],
   "source": [
    "type(total.loc[1, '차량제작일자'])"
   ]
  },
  {
   "cell_type": "code",
   "execution_count": 56,
   "metadata": {},
   "outputs": [
    {
     "data": {
      "text/plain": [
       "'20210706 15:59:05'"
      ]
     },
     "execution_count": 56,
     "metadata": {},
     "output_type": "execute_result"
    }
   ],
   "source": [
    "total.loc[13, '검사판정시간']"
   ]
  },
  {
   "cell_type": "code",
   "execution_count": 57,
   "metadata": {},
   "outputs": [
    {
     "data": {
      "text/plain": [
       "True"
      ]
     },
     "execution_count": 57,
     "metadata": {},
     "output_type": "execute_result"
    }
   ],
   "source": [
    "total.loc[13, '검사판정시간'] < '20221212'"
   ]
  },
  {
   "cell_type": "code",
   "execution_count": 58,
   "metadata": {},
   "outputs": [
    {
     "data": {
      "text/plain": [
       "2765.0"
      ]
     },
     "execution_count": 58,
     "metadata": {},
     "output_type": "execute_result"
    }
   ],
   "source": [
    "total.loc[13, '총중량']"
   ]
  },
  {
   "cell_type": "code",
   "execution_count": 59,
   "metadata": {},
   "outputs": [
    {
     "data": {
      "text/plain": [
       "numpy.float64"
      ]
     },
     "execution_count": 59,
     "metadata": {},
     "output_type": "execute_result"
    }
   ],
   "source": [
    "type(total.loc[13, '총중량'])"
   ]
  },
  {
   "cell_type": "code",
   "execution_count": 60,
   "metadata": {},
   "outputs": [
    {
     "data": {
      "text/plain": [
       "nan"
      ]
     },
     "execution_count": 60,
     "metadata": {},
     "output_type": "execute_result"
    }
   ],
   "source": [
    "total.loc[0, '차량제작일자']"
   ]
  },
  {
   "cell_type": "code",
   "execution_count": 61,
   "metadata": {},
   "outputs": [
    {
     "data": {
      "text/plain": [
       "nan"
      ]
     },
     "execution_count": 61,
     "metadata": {},
     "output_type": "execute_result"
    }
   ],
   "source": [
    "total.loc[0, '차량제작일자']"
   ]
  },
  {
   "cell_type": "code",
   "execution_count": null,
   "metadata": {},
   "outputs": [],
   "source": []
  },
  {
   "cell_type": "code",
   "execution_count": 62,
   "metadata": {},
   "outputs": [
    {
     "data": {
      "text/plain": [
       "(3057114, 28)"
      ]
     },
     "execution_count": 62,
     "metadata": {},
     "output_type": "execute_result"
    }
   ],
   "source": [
    "total.shape"
   ]
  },
  {
   "attachments": {},
   "cell_type": "markdown",
   "metadata": {},
   "source": [
    "### 차대번호, 검사방법, 검사판정시간 정렬 차대번호 기준 중복 제거"
   ]
  },
  {
   "cell_type": "code",
   "execution_count": 63,
   "metadata": {},
   "outputs": [
    {
     "data": {
      "text/plain": [
       "(1528557, 28)"
      ]
     },
     "execution_count": 63,
     "metadata": {},
     "output_type": "execute_result"
    }
   ],
   "source": [
    "d_total = total.sort_values(['차대번호', '검사방법', '검사판정시간']).drop_duplicates('차대번호', keep='first').reset_index(drop=True)\n",
    "d_total.shape"
   ]
  },
  {
   "cell_type": "code",
   "execution_count": 64,
   "metadata": {},
   "outputs": [
    {
     "data": {
      "text/plain": [
       "123003"
      ]
     },
     "execution_count": 64,
     "metadata": {},
     "output_type": "execute_result"
    }
   ],
   "source": [
    "d_total['배출가스인증번호'].isnull().sum()"
   ]
  },
  {
   "cell_type": "code",
   "execution_count": 65,
   "metadata": {},
   "outputs": [
    {
     "data": {
      "text/plain": [
       "301"
      ]
     },
     "execution_count": 65,
     "metadata": {},
     "output_type": "execute_result"
    }
   ],
   "source": [
    "uni = d_total['배출가스인증번호'].unique()\n",
    "len(uni)"
   ]
  },
  {
   "cell_type": "code",
   "execution_count": 66,
   "metadata": {},
   "outputs": [
    {
     "data": {
      "text/plain": [
       "array([nan, '무부하검사(TSI)', '부하검사(ASM-Idling)', '부하검사(KD-147)',\n",
       "       '무부하검사(정지가동)', '무부하검사(급가속)', '부하검사(LUG DOWN)'], dtype=object)"
      ]
     },
     "execution_count": 66,
     "metadata": {},
     "output_type": "execute_result"
    }
   ],
   "source": [
    "d_total['검사방법'].unique()"
   ]
  },
  {
   "cell_type": "code",
   "execution_count": 67,
   "metadata": {},
   "outputs": [
    {
     "data": {
      "text/plain": [
       "323516"
      ]
     },
     "execution_count": 67,
     "metadata": {},
     "output_type": "execute_result"
    }
   ],
   "source": [
    "d_total['검사방법'].isnull().sum()"
   ]
  },
  {
   "cell_type": "code",
   "execution_count": 68,
   "metadata": {},
   "outputs": [
    {
     "data": {
      "text/plain": [
       "array(['휘발유', 'LPG(액화석유가스)', '경유', '알코올', '기타연료', 'CNG(압축천연가스)'],\n",
       "      dtype=object)"
      ]
     },
     "execution_count": 68,
     "metadata": {},
     "output_type": "execute_result"
    }
   ],
   "source": [
    "d_total['연료'].unique()"
   ]
  },
  {
   "cell_type": "code",
   "execution_count": 69,
   "metadata": {},
   "outputs": [
    {
     "data": {
      "text/plain": [
       "'nan'"
      ]
     },
     "execution_count": 69,
     "metadata": {},
     "output_type": "execute_result"
    }
   ],
   "source": [
    "str(np.nan)"
   ]
  },
  {
   "cell_type": "code",
   "execution_count": 70,
   "metadata": {},
   "outputs": [
    {
     "data": {
      "text/plain": [
       "True"
      ]
     },
     "execution_count": 70,
     "metadata": {},
     "output_type": "execute_result"
    }
   ],
   "source": [
    "str(np.nan) == 'nan'"
   ]
  },
  {
   "cell_type": "code",
   "execution_count": 72,
   "metadata": {},
   "outputs": [
    {
     "data": {
      "text/plain": [
       "(1528557, 28)"
      ]
     },
     "execution_count": 72,
     "metadata": {},
     "output_type": "execute_result"
    }
   ],
   "source": [
    "d_total.shape"
   ]
  },
  {
   "attachments": {},
   "cell_type": "markdown",
   "metadata": {},
   "source": [
    "### 측정치, 허용치 float 형태로 타입 변환"
   ]
  },
  {
   "cell_type": "code",
   "execution_count": 105,
   "metadata": {},
   "outputs": [
    {
     "name": "stdout",
     "output_type": "stream",
     "text": [
      "<class 'pandas.core.frame.DataFrame'>\n",
      "RangeIndex: 1528557 entries, 0 to 1528556\n",
      "Data columns (total 6 columns):\n",
      " #   Column     Non-Null Count    Dtype  \n",
      "---  ------     --------------    -----  \n",
      " 0   무부하매연측정치1  1203560 non-null  float64\n",
      " 1   무부하매연측정치2  347567 non-null   float64\n",
      " 2   무부하매연측정치3  317220 non-null   float64\n",
      " 3   무부하매연측정치4  315988 non-null   float64\n",
      " 4   무부하매연측정치5  315988 non-null   float64\n",
      " 5   무부하매연측정치6  296808 non-null   float64\n",
      "dtypes: float64(6)\n",
      "memory usage: 70.0 MB\n"
     ]
    }
   ],
   "source": [
    "d_total['무부하매연측정치1'] = pd.to_numeric(d_total['무부하매연측정치1'], errors='coerce')\n",
    "d_total['무부하매연측정치2'] = pd.to_numeric(d_total['무부하매연측정치2'], errors='coerce')\n",
    "d_total['무부하매연측정치3'] = pd.to_numeric(d_total['무부하매연측정치3'], errors='coerce')\n",
    "d_total['무부하매연측정치4'] = pd.to_numeric(d_total['무부하매연측정치4'], errors='coerce')\n",
    "d_total['무부하매연측정치5'] = pd.to_numeric(d_total['무부하매연측정치5'], errors='coerce')\n",
    "d_total['무부하매연측정치6'] = pd.to_numeric(d_total['무부하매연측정치6'], errors='coerce')\n",
    "\n",
    "d_total[['무부하매연측정치1', '무부하매연측정치2', '무부하매연측정치3', '무부하매연측정치4', '무부하매연측정치5', '무부하매연측정치6']].info()"
   ]
  },
  {
   "attachments": {},
   "cell_type": "markdown",
   "metadata": {},
   "source": [
    "## [EG] 경유(d_total2)"
   ]
  },
  {
   "cell_type": "code",
   "execution_count": 199,
   "metadata": {},
   "outputs": [
    {
     "data": {
      "text/plain": [
       "(1132386, 28)"
      ]
     },
     "execution_count": 199,
     "metadata": {},
     "output_type": "execute_result"
    }
   ],
   "source": [
    "d_total2 = d_total[d_total['연료'] == '경유'].reset_index(drop=True).dropna(subset=['검사방법', '배출가스인증번호'])\n",
    "d_total2.shape"
   ]
  },
  {
   "cell_type": "code",
   "execution_count": 200,
   "metadata": {},
   "outputs": [
    {
     "data": {
      "text/plain": [
       "204"
      ]
     },
     "execution_count": 200,
     "metadata": {},
     "output_type": "execute_result"
    }
   ],
   "source": [
    "uni2 = d_total2['배출가스인증번호'].unique()\n",
    "len(uni2)"
   ]
  },
  {
   "cell_type": "code",
   "execution_count": 201,
   "metadata": {},
   "outputs": [
    {
     "data": {
      "text/plain": [
       "'7MY-HD-14-46'"
      ]
     },
     "execution_count": 201,
     "metadata": {},
     "output_type": "execute_result"
    }
   ],
   "source": [
    "d_total2['배출가스인증번호'].unique()[3]"
   ]
  },
  {
   "cell_type": "code",
   "execution_count": 202,
   "metadata": {},
   "outputs": [
    {
     "data": {
      "text/plain": [
       "7MY-HD-14-68     261128\n",
       "8MY-KM-13-19      90562\n",
       "6MY-KM-14-61      75495\n",
       "9MY-KM-14-41      66558\n",
       "7MY-HD-14-46      59127\n",
       "                  ...  \n",
       "9MY-PP-14-409         1\n",
       "8MY-SN-0M-24          1\n",
       "8MY-FM-0M-24          1\n",
       "8MY-ET-0M-24          1\n",
       "7MY-KL-0M-24          1\n",
       "Name: 배출가스인증번호, Length: 204, dtype: int64"
      ]
     },
     "execution_count": 202,
     "metadata": {},
     "output_type": "execute_result"
    }
   ],
   "source": [
    "d_total2['배출가스인증번호'].value_counts()"
   ]
  },
  {
   "cell_type": "code",
   "execution_count": 203,
   "metadata": {},
   "outputs": [
    {
     "data": {
      "text/plain": [
       "array(['부하검사(KD-147)', '무부하검사(급가속)', '부하검사(LUG DOWN)', '무부하검사(TSI)',\n",
       "       '무부하검사(정지가동)', '부하검사(ASM-Idling)'], dtype=object)"
      ]
     },
     "execution_count": 203,
     "metadata": {},
     "output_type": "execute_result"
    }
   ],
   "source": [
    "d_total2['검사방법'].unique()"
   ]
  },
  {
   "cell_type": "code",
   "execution_count": 204,
   "metadata": {},
   "outputs": [
    {
     "data": {
      "text/html": [
       "<div>\n",
       "<style scoped>\n",
       "    .dataframe tbody tr th:only-of-type {\n",
       "        vertical-align: middle;\n",
       "    }\n",
       "\n",
       "    .dataframe tbody tr th {\n",
       "        vertical-align: top;\n",
       "    }\n",
       "\n",
       "    .dataframe thead th {\n",
       "        text-align: right;\n",
       "    }\n",
       "</style>\n",
       "<table border=\"1\" class=\"dataframe\">\n",
       "  <thead>\n",
       "    <tr style=\"text-align: right;\">\n",
       "      <th></th>\n",
       "      <th>차대번호</th>\n",
       "      <th>차량제작일자</th>\n",
       "      <th>배출가스인증번호</th>\n",
       "      <th>총중량</th>\n",
       "      <th>검사방법</th>\n",
       "      <th>차종유형</th>\n",
       "      <th>차종등록정보</th>\n",
       "      <th>연료</th>\n",
       "      <th>무부하매연측정치1</th>\n",
       "      <th>무부하매연허용치1</th>\n",
       "      <th>...</th>\n",
       "      <th>무부하매연허용치4</th>\n",
       "      <th>무부하매연판정4</th>\n",
       "      <th>무부하매연측정치5</th>\n",
       "      <th>무부하매연허용치5</th>\n",
       "      <th>무부하매연판정5</th>\n",
       "      <th>무부하매연측정치6</th>\n",
       "      <th>무부하매연허용치6</th>\n",
       "      <th>무부하매연판정6</th>\n",
       "      <th>검사판정시간</th>\n",
       "      <th>정기정밀</th>\n",
       "    </tr>\n",
       "  </thead>\n",
       "  <tbody>\n",
       "    <tr>\n",
       "      <th>0</th>\n",
       "      <td>KM99H4ACD8CZ00001</td>\n",
       "      <td>20080705.0</td>\n",
       "      <td>7MY-HD-14-68</td>\n",
       "      <td>2905.0</td>\n",
       "      <td>부하검사(KD-147)</td>\n",
       "      <td>중형</td>\n",
       "      <td>승합</td>\n",
       "      <td>경유</td>\n",
       "      <td>0.0</td>\n",
       "      <td>15.0</td>\n",
       "      <td>...</td>\n",
       "      <td>0.0</td>\n",
       "      <td>NaN</td>\n",
       "      <td>0.0</td>\n",
       "      <td>0.0</td>\n",
       "      <td>NaN</td>\n",
       "      <td>0.0</td>\n",
       "      <td>0.0</td>\n",
       "      <td>NaN</td>\n",
       "      <td>20200304 11:08:28</td>\n",
       "      <td>정밀</td>\n",
       "    </tr>\n",
       "    <tr>\n",
       "      <th>1</th>\n",
       "      <td>KMF2CY7JABU693781</td>\n",
       "      <td>20101118.0</td>\n",
       "      <td>7MY-HD-14-68</td>\n",
       "      <td>3250.0</td>\n",
       "      <td>무부하검사(급가속)</td>\n",
       "      <td>소형</td>\n",
       "      <td>화물</td>\n",
       "      <td>경유</td>\n",
       "      <td>19.0</td>\n",
       "      <td>25.0</td>\n",
       "      <td>...</td>\n",
       "      <td>NaN</td>\n",
       "      <td>NaN</td>\n",
       "      <td>NaN</td>\n",
       "      <td>NaN</td>\n",
       "      <td>NaN</td>\n",
       "      <td>NaN</td>\n",
       "      <td>NaN</td>\n",
       "      <td>NaN</td>\n",
       "      <td>20191216 11:09:20</td>\n",
       "      <td>정기</td>\n",
       "    </tr>\n",
       "    <tr>\n",
       "      <th>2</th>\n",
       "      <td>KMFACS7JP9U482553</td>\n",
       "      <td>20081215.0</td>\n",
       "      <td>7MY-HD-14-68</td>\n",
       "      <td>2955.0</td>\n",
       "      <td>부하검사(KD-147)</td>\n",
       "      <td>소형</td>\n",
       "      <td>화물</td>\n",
       "      <td>경유</td>\n",
       "      <td>13.0</td>\n",
       "      <td>15.0</td>\n",
       "      <td>...</td>\n",
       "      <td>NaN</td>\n",
       "      <td>NaN</td>\n",
       "      <td>NaN</td>\n",
       "      <td>NaN</td>\n",
       "      <td>NaN</td>\n",
       "      <td>NaN</td>\n",
       "      <td>NaN</td>\n",
       "      <td>NaN</td>\n",
       "      <td>20200104 12:10:22</td>\n",
       "      <td>정밀</td>\n",
       "    </tr>\n",
       "    <tr>\n",
       "      <th>3</th>\n",
       "      <td>KMFACY7JABU652019</td>\n",
       "      <td>20100706.0</td>\n",
       "      <td>7MY-HD-14-68</td>\n",
       "      <td>3270.0</td>\n",
       "      <td>무부하검사(급가속)</td>\n",
       "      <td>소형</td>\n",
       "      <td>화물</td>\n",
       "      <td>경유</td>\n",
       "      <td>5.0</td>\n",
       "      <td>25.0</td>\n",
       "      <td>...</td>\n",
       "      <td>NaN</td>\n",
       "      <td>NaN</td>\n",
       "      <td>NaN</td>\n",
       "      <td>NaN</td>\n",
       "      <td>NaN</td>\n",
       "      <td>NaN</td>\n",
       "      <td>NaN</td>\n",
       "      <td>NaN</td>\n",
       "      <td>20210723 10:02:36</td>\n",
       "      <td>정기</td>\n",
       "    </tr>\n",
       "    <tr>\n",
       "      <th>4</th>\n",
       "      <td>KMFACZ7JABU750953</td>\n",
       "      <td>20110429.0</td>\n",
       "      <td>7MY-HD-14-68</td>\n",
       "      <td>2950.0</td>\n",
       "      <td>무부하검사(급가속)</td>\n",
       "      <td>소형</td>\n",
       "      <td>화물</td>\n",
       "      <td>경유</td>\n",
       "      <td>21.0</td>\n",
       "      <td>25.0</td>\n",
       "      <td>...</td>\n",
       "      <td>NaN</td>\n",
       "      <td>NaN</td>\n",
       "      <td>NaN</td>\n",
       "      <td>NaN</td>\n",
       "      <td>NaN</td>\n",
       "      <td>NaN</td>\n",
       "      <td>NaN</td>\n",
       "      <td>NaN</td>\n",
       "      <td>20190821 10:04:40</td>\n",
       "      <td>정기</td>\n",
       "    </tr>\n",
       "    <tr>\n",
       "      <th>...</th>\n",
       "      <td>...</td>\n",
       "      <td>...</td>\n",
       "      <td>...</td>\n",
       "      <td>...</td>\n",
       "      <td>...</td>\n",
       "      <td>...</td>\n",
       "      <td>...</td>\n",
       "      <td>...</td>\n",
       "      <td>...</td>\n",
       "      <td>...</td>\n",
       "      <td>...</td>\n",
       "      <td>...</td>\n",
       "      <td>...</td>\n",
       "      <td>...</td>\n",
       "      <td>...</td>\n",
       "      <td>...</td>\n",
       "      <td>...</td>\n",
       "      <td>...</td>\n",
       "      <td>...</td>\n",
       "      <td>...</td>\n",
       "      <td>...</td>\n",
       "    </tr>\n",
       "    <tr>\n",
       "      <th>261123</th>\n",
       "      <td>KNFZCD7JP9U509805</td>\n",
       "      <td>20090415.0</td>\n",
       "      <td>7MY-HD-14-68</td>\n",
       "      <td>3280.0</td>\n",
       "      <td>무부하검사(급가속)</td>\n",
       "      <td>소형</td>\n",
       "      <td>화물</td>\n",
       "      <td>경유</td>\n",
       "      <td>7.0</td>\n",
       "      <td>25.0</td>\n",
       "      <td>...</td>\n",
       "      <td>NaN</td>\n",
       "      <td>NaN</td>\n",
       "      <td>NaN</td>\n",
       "      <td>NaN</td>\n",
       "      <td>NaN</td>\n",
       "      <td>NaN</td>\n",
       "      <td>NaN</td>\n",
       "      <td>NaN</td>\n",
       "      <td>20200414 15:22:19</td>\n",
       "      <td>정기</td>\n",
       "    </tr>\n",
       "    <tr>\n",
       "      <th>261124</th>\n",
       "      <td>KNFZCD7JP9U523649</td>\n",
       "      <td>20090530.0</td>\n",
       "      <td>7MY-HD-14-68</td>\n",
       "      <td>3250.0</td>\n",
       "      <td>부하검사(KD-147)</td>\n",
       "      <td>소형</td>\n",
       "      <td>화물</td>\n",
       "      <td>경유</td>\n",
       "      <td>9.0</td>\n",
       "      <td>15.0</td>\n",
       "      <td>...</td>\n",
       "      <td>NaN</td>\n",
       "      <td>NaN</td>\n",
       "      <td>NaN</td>\n",
       "      <td>NaN</td>\n",
       "      <td>NaN</td>\n",
       "      <td>NaN</td>\n",
       "      <td>NaN</td>\n",
       "      <td>NaN</td>\n",
       "      <td>20200511 14:56:01</td>\n",
       "      <td>정밀</td>\n",
       "    </tr>\n",
       "    <tr>\n",
       "      <th>261125</th>\n",
       "      <td>KNFZCZ7JAAU607457</td>\n",
       "      <td>20100130.0</td>\n",
       "      <td>7MY-HD-14-68</td>\n",
       "      <td>2925.0</td>\n",
       "      <td>무부하검사(급가속)</td>\n",
       "      <td>소형</td>\n",
       "      <td>화물</td>\n",
       "      <td>경유</td>\n",
       "      <td>0.0</td>\n",
       "      <td>25.0</td>\n",
       "      <td>...</td>\n",
       "      <td>NaN</td>\n",
       "      <td>NaN</td>\n",
       "      <td>NaN</td>\n",
       "      <td>NaN</td>\n",
       "      <td>NaN</td>\n",
       "      <td>NaN</td>\n",
       "      <td>NaN</td>\n",
       "      <td>NaN</td>\n",
       "      <td>20220318 10:35:50</td>\n",
       "      <td>정기</td>\n",
       "    </tr>\n",
       "    <tr>\n",
       "      <th>261126</th>\n",
       "      <td>KNFZCZ7JBAU579855</td>\n",
       "      <td>20091110.0</td>\n",
       "      <td>7MY-HD-14-68</td>\n",
       "      <td>2960.0</td>\n",
       "      <td>무부하검사(급가속)</td>\n",
       "      <td>소형</td>\n",
       "      <td>화물</td>\n",
       "      <td>경유</td>\n",
       "      <td>3.0</td>\n",
       "      <td>25.0</td>\n",
       "      <td>...</td>\n",
       "      <td>NaN</td>\n",
       "      <td>NaN</td>\n",
       "      <td>NaN</td>\n",
       "      <td>NaN</td>\n",
       "      <td>NaN</td>\n",
       "      <td>NaN</td>\n",
       "      <td>NaN</td>\n",
       "      <td>NaN</td>\n",
       "      <td>20191129 15:26:53</td>\n",
       "      <td>정기</td>\n",
       "    </tr>\n",
       "    <tr>\n",
       "      <th>261127</th>\n",
       "      <td>MKFZSZ7JABU735903</td>\n",
       "      <td>20110325.0</td>\n",
       "      <td>7MY-HD-14-68</td>\n",
       "      <td>3160.0</td>\n",
       "      <td>무부하검사(급가속)</td>\n",
       "      <td>소형</td>\n",
       "      <td>화물</td>\n",
       "      <td>경유</td>\n",
       "      <td>15.0</td>\n",
       "      <td>25.0</td>\n",
       "      <td>...</td>\n",
       "      <td>NaN</td>\n",
       "      <td>NaN</td>\n",
       "      <td>NaN</td>\n",
       "      <td>NaN</td>\n",
       "      <td>NaN</td>\n",
       "      <td>NaN</td>\n",
       "      <td>NaN</td>\n",
       "      <td>NaN</td>\n",
       "      <td>20200304 16:52:02</td>\n",
       "      <td>정기</td>\n",
       "    </tr>\n",
       "  </tbody>\n",
       "</table>\n",
       "<p>261128 rows × 28 columns</p>\n",
       "</div>"
      ],
      "text/plain": [
       "                     차대번호      차량제작일자      배출가스인증번호     총중량          검사방법  \\\n",
       "0       KM99H4ACD8CZ00001  20080705.0  7MY-HD-14-68  2905.0  부하검사(KD-147)   \n",
       "1       KMF2CY7JABU693781  20101118.0  7MY-HD-14-68  3250.0    무부하검사(급가속)   \n",
       "2       KMFACS7JP9U482553  20081215.0  7MY-HD-14-68  2955.0  부하검사(KD-147)   \n",
       "3       KMFACY7JABU652019  20100706.0  7MY-HD-14-68  3270.0    무부하검사(급가속)   \n",
       "4       KMFACZ7JABU750953  20110429.0  7MY-HD-14-68  2950.0    무부하검사(급가속)   \n",
       "...                   ...         ...           ...     ...           ...   \n",
       "261123  KNFZCD7JP9U509805  20090415.0  7MY-HD-14-68  3280.0    무부하검사(급가속)   \n",
       "261124  KNFZCD7JP9U523649  20090530.0  7MY-HD-14-68  3250.0  부하검사(KD-147)   \n",
       "261125  KNFZCZ7JAAU607457  20100130.0  7MY-HD-14-68  2925.0    무부하검사(급가속)   \n",
       "261126  KNFZCZ7JBAU579855  20091110.0  7MY-HD-14-68  2960.0    무부하검사(급가속)   \n",
       "261127  MKFZSZ7JABU735903  20110325.0  7MY-HD-14-68  3160.0    무부하검사(급가속)   \n",
       "\n",
       "       차종유형 차종등록정보  연료  무부하매연측정치1  무부하매연허용치1  ... 무부하매연허용치4  무부하매연판정4  \\\n",
       "0        중형     승합  경유        0.0       15.0  ...       0.0       NaN   \n",
       "1        소형     화물  경유       19.0       25.0  ...       NaN       NaN   \n",
       "2        소형     화물  경유       13.0       15.0  ...       NaN       NaN   \n",
       "3        소형     화물  경유        5.0       25.0  ...       NaN       NaN   \n",
       "4        소형     화물  경유       21.0       25.0  ...       NaN       NaN   \n",
       "...     ...    ...  ..        ...        ...  ...       ...       ...   \n",
       "261123   소형     화물  경유        7.0       25.0  ...       NaN       NaN   \n",
       "261124   소형     화물  경유        9.0       15.0  ...       NaN       NaN   \n",
       "261125   소형     화물  경유        0.0       25.0  ...       NaN       NaN   \n",
       "261126   소형     화물  경유        3.0       25.0  ...       NaN       NaN   \n",
       "261127   소형     화물  경유       15.0       25.0  ...       NaN       NaN   \n",
       "\n",
       "        무부하매연측정치5 무부하매연허용치5  무부하매연판정5  무부하매연측정치6 무부하매연허용치6  무부하매연판정6  \\\n",
       "0             0.0       0.0       NaN        0.0       0.0       NaN   \n",
       "1             NaN       NaN       NaN        NaN       NaN       NaN   \n",
       "2             NaN       NaN       NaN        NaN       NaN       NaN   \n",
       "3             NaN       NaN       NaN        NaN       NaN       NaN   \n",
       "4             NaN       NaN       NaN        NaN       NaN       NaN   \n",
       "...           ...       ...       ...        ...       ...       ...   \n",
       "261123        NaN       NaN       NaN        NaN       NaN       NaN   \n",
       "261124        NaN       NaN       NaN        NaN       NaN       NaN   \n",
       "261125        NaN       NaN       NaN        NaN       NaN       NaN   \n",
       "261126        NaN       NaN       NaN        NaN       NaN       NaN   \n",
       "261127        NaN       NaN       NaN        NaN       NaN       NaN   \n",
       "\n",
       "                   검사판정시간 정기정밀  \n",
       "0       20200304 11:08:28   정밀  \n",
       "1       20191216 11:09:20   정기  \n",
       "2       20200104 12:10:22   정밀  \n",
       "3       20210723 10:02:36   정기  \n",
       "4       20190821 10:04:40   정기  \n",
       "...                   ...  ...  \n",
       "261123  20200414 15:22:19   정기  \n",
       "261124  20200511 14:56:01   정밀  \n",
       "261125  20220318 10:35:50   정기  \n",
       "261126  20191129 15:26:53   정기  \n",
       "261127  20200304 16:52:02   정기  \n",
       "\n",
       "[261128 rows x 28 columns]"
      ]
     },
     "execution_count": 204,
     "metadata": {},
     "output_type": "execute_result"
    }
   ],
   "source": [
    "temp = d_total2[d_total2['배출가스인증번호'] == '7MY-HD-14-68'].reset_index(drop=True)\n",
    "temp"
   ]
  },
  {
   "cell_type": "code",
   "execution_count": 205,
   "metadata": {},
   "outputs": [
    {
     "data": {
      "text/plain": [
       "(261128, 28)"
      ]
     },
     "execution_count": 205,
     "metadata": {},
     "output_type": "execute_result"
    }
   ],
   "source": [
    "temp.shape"
   ]
  },
  {
   "cell_type": "code",
   "execution_count": 206,
   "metadata": {},
   "outputs": [
    {
     "data": {
      "text/plain": [
       "차대번호         KM99H4ACD8CZ00001\n",
       "차량제작일자              20080705.0\n",
       "배출가스인증번호          7MY-HD-14-68\n",
       "총중량                     2905.0\n",
       "검사방법              부하검사(KD-147)\n",
       "차종유형                        중형\n",
       "차종등록정보                      승합\n",
       "연료                          경유\n",
       "무부하매연측정치1                  0.0\n",
       "무부하매연허용치1                 15.0\n",
       "무부하매연판정1                     Y\n",
       "무부하매연측정치2                  0.0\n",
       "무부하매연허용치2                  0.0\n",
       "무부하매연판정2                   NaN\n",
       "무부하매연측정치3                  0.0\n",
       "무부하매연허용치3                  0.0\n",
       "무부하매연판정3                   NaN\n",
       "무부하매연측정치4                  0.0\n",
       "무부하매연허용치4                  0.0\n",
       "무부하매연판정4                   NaN\n",
       "무부하매연측정치5                  0.0\n",
       "무부하매연허용치5                  0.0\n",
       "무부하매연판정5                   NaN\n",
       "무부하매연측정치6                  0.0\n",
       "무부하매연허용치6                  0.0\n",
       "무부하매연판정6                   NaN\n",
       "검사판정시간       20200304 11:08:28\n",
       "정기정밀                        정밀\n",
       "Name: 0, dtype: object"
      ]
     },
     "execution_count": 206,
     "metadata": {},
     "output_type": "execute_result"
    }
   ],
   "source": [
    "temp.loc[0]"
   ]
  },
  {
   "cell_type": "code",
   "execution_count": 207,
   "metadata": {},
   "outputs": [
    {
     "data": {
      "text/plain": [
       "'부하검사(KD-147)'"
      ]
     },
     "execution_count": 207,
     "metadata": {},
     "output_type": "execute_result"
    }
   ],
   "source": [
    "temp.loc[0]['검사방법']"
   ]
  },
  {
   "cell_type": "code",
   "execution_count": 208,
   "metadata": {},
   "outputs": [
    {
     "data": {
      "text/plain": [
       "'부하검사(KD-147)'"
      ]
     },
     "execution_count": 208,
     "metadata": {},
     "output_type": "execute_result"
    }
   ],
   "source": [
    "temp['검사방법'][0]"
   ]
  },
  {
   "cell_type": "code",
   "execution_count": 209,
   "metadata": {},
   "outputs": [
    {
     "data": {
      "text/plain": [
       "0.0"
      ]
     },
     "execution_count": 209,
     "metadata": {},
     "output_type": "execute_result"
    }
   ],
   "source": [
    "temp['무부하매연측정치1'][0]"
   ]
  },
  {
   "cell_type": "code",
   "execution_count": 210,
   "metadata": {},
   "outputs": [
    {
     "data": {
      "text/plain": [
       "0    1\n",
       "1    2\n",
       "dtype: int64"
      ]
     },
     "execution_count": 210,
     "metadata": {},
     "output_type": "execute_result"
    }
   ],
   "source": [
    "pd.Series([1, 2])"
   ]
  },
  {
   "cell_type": "code",
   "execution_count": 211,
   "metadata": {},
   "outputs": [
    {
     "data": {
      "text/plain": [
       "(2,)"
      ]
     },
     "execution_count": 211,
     "metadata": {},
     "output_type": "execute_result"
    }
   ],
   "source": [
    "pd.Series([1, 2]).shape"
   ]
  },
  {
   "cell_type": "code",
   "execution_count": 212,
   "metadata": {},
   "outputs": [
    {
     "data": {
      "text/plain": [
       "1132386"
      ]
     },
     "execution_count": 212,
     "metadata": {},
     "output_type": "execute_result"
    }
   ],
   "source": [
    "car_num = d_total2['차대번호'].unique()\n",
    "len(car_num)"
   ]
  },
  {
   "cell_type": "code",
   "execution_count": 213,
   "metadata": {},
   "outputs": [
    {
     "data": {
      "text/plain": [
       "(1390, 28)"
      ]
     },
     "execution_count": 213,
     "metadata": {},
     "output_type": "execute_result"
    }
   ],
   "source": [
    "d_total2[(d_total2['무부하매연측정치1'].isnull() == True) & (d_total2['무부하매연측정치1'].isnull() == True) & (d_total2['무부하매연측정치2'].isnull() == True) & (d_total2['무부하매연측정치3'].isnull() == True) & (d_total2['무부하매연측정치4'].isnull() == True) & (d_total2['무부하매연측정치5'].isnull() == True) & (d_total2['무부하매연측정치6'].isnull() == True)].shape"
   ]
  },
  {
   "cell_type": "code",
   "execution_count": 214,
   "metadata": {},
   "outputs": [
    {
     "data": {
      "text/plain": [
       "(1390, 28)"
      ]
     },
     "execution_count": 214,
     "metadata": {},
     "output_type": "execute_result"
    }
   ],
   "source": [
    "d_total2[d_total2['무부하매연측정치1'].isnull() == True].shape"
   ]
  },
  {
   "cell_type": "code",
   "execution_count": 215,
   "metadata": {},
   "outputs": [
    {
     "data": {
      "text/plain": [
       "0"
      ]
     },
     "execution_count": 215,
     "metadata": {},
     "output_type": "execute_result"
    }
   ],
   "source": [
    "d_total2['배출가스인증번호'].isnull().sum()"
   ]
  },
  {
   "attachments": {},
   "cell_type": "markdown",
   "metadata": {},
   "source": [
    "### [백업]코드"
   ]
  },
  {
   "cell_type": "code",
   "execution_count": 216,
   "metadata": {},
   "outputs": [],
   "source": [
    "# if tm == '부하검사(LUG DOWN)': # 1번째 측정치, 판정치 사용\n",
    "#             if np.isnan(v1) or not gas_mea_value_p.search(sv1) or f1 not in ['Y', 'N']: # 1번째 값 부재\n",
    "#                 # print('1번째 값 부재')\n",
    "#                 g = np.nan\n",
    "#                 f = np.nan\n",
    "#                 std = 0 \n",
    "#             else: # 1번째 값 존재\n",
    "#                 g = v1\n",
    "#                 f = f1\n",
    "#                 # 매연 허용치\n",
    "#                 if np.isnan(tw):\n",
    "#                     std = 0\n",
    "#                 elif tw <= 5500:\n",
    "#                     if np.isnan(pt):\n",
    "#                         std = 0\n",
    "#                     elif pt <= 19951231:\n",
    "#                         std = 70\n",
    "#                     elif 19960101 <= pt <= 20001231:\n",
    "#                         std = 60\n",
    "#                     elif 20010101 <= pt <= 20071231:\n",
    "#                         std = 50\n",
    "#                     elif 20080101 <= pt:\n",
    "#                         std = 20\n",
    "#                 else:\n",
    "#                     if np.isnan(pt):\n",
    "#                         std = 0\n",
    "#                     elif pt <= 19951231:\n",
    "#                         std = 50\n",
    "#                     elif 19960101 <= pt <= 20001231:\n",
    "#                         std = 45\n",
    "#                     elif 20010101 <= pt <= 20071231:\n",
    "#                         std = 30\n",
    "#                     elif 20080101 <= pt:\n",
    "#                         std = 15\n",
    "\n",
    "#         elif tm == '부하검사(KD-147)': # 1번째 측정치, 판정치 사용\n",
    "#             if np.isnan(v1) or not gas_mea_value_p.search(sv1) or f1 not in ['Y', 'N']: # 1번째 값 부재\n",
    "#                 # print('1번째 값 부재')\n",
    "#                 g = np.nan\n",
    "#                 f = np.nan\n",
    "#                 std = 0\n",
    "#             else: # 1번째 값 존재\n",
    "#                 g = v1\n",
    "#                 f = f1\n",
    "#                 # 매연 허용치\n",
    "#                 if np.isnan(pt):\n",
    "#                     std = 0\n",
    "#                 elif pt < 19921231:\n",
    "#                     if str(td) == 'nan':\n",
    "#                         std = 0\n",
    "#                     elif td <= '20111231':\n",
    "#                         std = 50\n",
    "#                     else:\n",
    "#                         std = 45\n",
    "#                 elif 19930101 <= pt <= 19951231:\n",
    "#                     if str(td) == 'nan':\n",
    "#                         std = 0\n",
    "#                     elif td <= '20111231':\n",
    "#                         std = 45\n",
    "#                     else:\n",
    "#                         std = 40\n",
    "#                 elif 19960101 <= pt <= 20001231:\n",
    "#                     if str(td) == 'nan':\n",
    "#                         std = 0\n",
    "#                     elif td <= '20111231':\n",
    "#                         std = 40\n",
    "#                     else:\n",
    "#                         std = 35\n",
    "#                 elif 20010101 <= pt <= 20071231:\n",
    "#                     if str(td) == 'nan':\n",
    "#                         std = 0\n",
    "#                     elif td <= '20111231':\n",
    "#                         std = 30\n",
    "#                     else:\n",
    "#                         std = 25\n",
    "#                 elif 20080101 <= pt <= 20160831:\n",
    "#                     if str(td) == 'nan':\n",
    "#                         std = 0\n",
    "#                     elif td <= '20111231':\n",
    "#                         std = 20\n",
    "#                     else:\n",
    "#                         std = 15\n",
    "#                 elif 20160901 <= pt <= 20171231:\n",
    "#                     if str(td) == 'nan':\n",
    "#                         std = 0\n",
    "#                     elif td <= '20111231':\n",
    "#                         std = 0\n",
    "#                     else:\n",
    "#                         std = 8\n",
    "#                 elif 20180101 <= pt:\n",
    "#                     if str(td) == 'nan':\n",
    "#                         std = 0\n",
    "#                     elif td <= '20111231':\n",
    "#                         std = 0\n",
    "#                     else:\n",
    "#                         std = 8\n",
    "\n",
    "#         else: # 무부하 검사\n",
    "#             if np.isnan(v6) or not gas_mea_value_p.search(sv6) or f6 not in ['Y', 'N']: # 6번째 값 부재\n",
    "#                 # print('6번째 값 부재')\n",
    "#                 if np.isnan(v5) or not gas_mea_value_p.search(sv5) or f5 not in ['Y', 'N']: # 5번째 값 부재\n",
    "#                     # print('5번째 값 부재')\n",
    "#                     if np.isnan(v4) or not gas_mea_value_p.search(sv4) or f4 not in ['Y', 'N']: # 4번째 값 부재\n",
    "#                         # print('4번째 값 부재')\n",
    "#                         if np.isnan(v3) or not gas_mea_value_p.search(sv3) or f3 not in ['Y', 'N']: # 3번째 값 부재\n",
    "#                             # print('3번째 값 부재')\n",
    "#                             if np.isnan(v1) or not gas_mea_value_p.search(sv1) or f1 not in ['Y', 'N']: # 1번째 값 부재\n",
    "#                                 # print('1번째 값 부재')\n",
    "#                                 g = np.nan\n",
    "#                                 f = np.nan\n",
    "#                                 std = 0\n",
    "#                             else: # 1번째 값 존재\n",
    "#                                 g = v1\n",
    "#                                 f = f1\n",
    "#                                 # 매연 허용치\n",
    "#                                 if str(ci) == 'nan' or str(ci2) == 'nan':\n",
    "#                                     std = 0\n",
    "#                                 elif ci == '경형' or ci2 == '승용':\n",
    "#                                     if np.isnan(pt):\n",
    "#                                         std = 0\n",
    "#                                     elif pt < 19951231:\n",
    "#                                         std = 60\n",
    "#                                     elif 19960101 <= pt <= 20001231:\n",
    "#                                         std = 55\n",
    "#                                     elif 20010101 <= pt <= 20031231:\n",
    "#                                         std = 45\n",
    "#                                     elif 20040101 <= pt <= 20071231:\n",
    "#                                         std = 40\n",
    "#                                     elif 20080101 <= pt <= 20160831:\n",
    "#                                         std = 20\n",
    "#                                     elif 20160901 <= pt:\n",
    "#                                         std = 10\n",
    "#                                 else:\n",
    "#                                     if ci2 == '소형':\n",
    "#                                         if np.isnan(pt):\n",
    "#                                             std = 0\n",
    "#                                         elif pt < 19951231:\n",
    "#                                             std = 60\n",
    "#                                         elif 19960101 <= pt <= 20001231:\n",
    "#                                             std = 55\n",
    "#                                         elif 20010101 <= pt <= 20031231:\n",
    "#                                             std = 45\n",
    "#                                         elif 20040101 <= pt <= 20071231:\n",
    "#                                             std = 40\n",
    "#                                         elif 20080101 <= pt <= 20160831:\n",
    "#                                             std = 20\n",
    "#                                         elif 20160901 <= pt:\n",
    "#                                             std = 10\n",
    "#                                     elif ci2 == '중형':\n",
    "#                                         if np.isnan(pt):\n",
    "#                                             std = 0\n",
    "#                                         elif pt < 19921231:\n",
    "#                                             std = 60\n",
    "#                                         elif 19930101 <= pt <= 19951231:\n",
    "#                                             std = 55\n",
    "#                                         elif 19960101 <= pt <= 19971231:\n",
    "#                                             std = 45\n",
    "#                                         elif 19980101 <= pt <= 20001231: # 시내버스(40), 그 외(45) 조건 필요\n",
    "#                                             std = 45\n",
    "#                                         elif 20010101 <= pt <= 20040930:\n",
    "#                                             std = 45\n",
    "#                                         elif 20041001 <= pt <= 20071231:\n",
    "#                                             std = 40\n",
    "#                                         elif 20080101 <= pt <= 20160831:\n",
    "#                                             std = 20\n",
    "#                                         elif 20160901 <= pt:\n",
    "#                                             std = 10\n",
    "#                                     elif ci2 == '대형':\n",
    "#                                         if np.isnan(pt):\n",
    "#                                             std = 0\n",
    "#                                         elif pt < 19921231:\n",
    "#                                             std = 60\n",
    "#                                         elif 19930101 <= pt <= 19951231:\n",
    "#                                             std = 55\n",
    "#                                         elif 19960101 <= pt <= 19971231:\n",
    "#                                             std = 45\n",
    "#                                         elif 19980101 <= pt <= 20001231: # 시내버스(40), 그 외(45) 조건 필요\n",
    "#                                             std = 45\n",
    "#                                         elif 20010101 <= pt <= 20040930:\n",
    "#                                             std = 45\n",
    "#                                         elif 20041001 <= pt <= 20071231:\n",
    "#                                             std = 40\n",
    "#                                         elif 20080101 <= pt:\n",
    "#                                             std = 20\n",
    "                                    \n",
    "#                         else: # 3번째 값 존재\n",
    "#                             g = temp['무부하매연측정치1', '무부하매연측정치2', '무부하매연측정치3'].mean()\n",
    "#                             f = f3\n",
    "#                             # 매연 허용치\n",
    "#                             if str(ci) == 'nan' or str(ci2) == 'nan':\n",
    "#                                 std = 0\n",
    "#                             elif ci == '경형' or ci2 == '승용':\n",
    "#                                 if np.isnan(pt):\n",
    "#                                     std = 0\n",
    "#                                 elif pt < 19951231:\n",
    "#                                     std = 60\n",
    "#                                 elif 19960101 <= pt <= 20001231:\n",
    "#                                     std = 55\n",
    "#                                 elif 20010101 <= pt <= 20031231:\n",
    "#                                     std = 45\n",
    "#                                 elif 20040101 <= pt <= 20071231:\n",
    "#                                     std = 40\n",
    "#                                 elif 20080101 <= pt <= 20160831:\n",
    "#                                     std = 20\n",
    "#                                 elif 20160901 <= pt:\n",
    "#                                     std = 10\n",
    "#                             else:\n",
    "#                                 if ci2 == '소형':\n",
    "#                                     if np.isnan(pt):\n",
    "#                                         std = 0\n",
    "#                                     elif pt < 19951231:\n",
    "#                                         std = 60\n",
    "#                                     elif 19960101 <= pt <= 20001231:\n",
    "#                                         std = 55\n",
    "#                                     elif 20010101 <= pt <= 20031231:\n",
    "#                                         std = 45\n",
    "#                                     elif 20040101 <= pt <= 20071231:\n",
    "#                                         std = 40\n",
    "#                                     elif 20080101 <= pt <= 20160831:\n",
    "#                                         std = 20\n",
    "#                                     elif 20160901 <= pt:\n",
    "#                                         std = 10\n",
    "#                                 elif ci2 == '중형':\n",
    "#                                     if np.isnan(pt):\n",
    "#                                         std = 0\n",
    "#                                     elif pt < 19921231:\n",
    "#                                         std = 60\n",
    "#                                     elif 19930101 <= pt <= 19951231:\n",
    "#                                         std = 55\n",
    "#                                     elif 19960101 <= pt <= 19971231:\n",
    "#                                         std = 45\n",
    "#                                     elif 19980101 <= pt <= 20001231: # 시내버스(40), 그 외(45) 조건 필요\n",
    "#                                         std = 45\n",
    "#                                     elif 20010101 <= pt <= 20040930:\n",
    "#                                         std = 45\n",
    "#                                     elif 20041001 <= pt <= 20071231:\n",
    "#                                         std = 40\n",
    "#                                     elif 20080101 <= pt <= 20160831:\n",
    "#                                         std = 20\n",
    "#                                     elif 20160901 <= pt:\n",
    "#                                         std = 10\n",
    "#                                 elif ci2 == '대형':\n",
    "#                                     if np.isnan(pt):\n",
    "#                                         std = 0\n",
    "#                                     elif pt < 19921231:\n",
    "#                                         std = 60\n",
    "#                                     elif 19930101 <= pt <= 19951231:\n",
    "#                                         std = 55\n",
    "#                                     elif 19960101 <= pt <= 19971231:\n",
    "#                                         std = 45\n",
    "#                                     elif 19980101 <= pt <= 20001231: # 시내버스(40), 그 외(45) 조건 필요\n",
    "#                                         std = 45\n",
    "#                                     elif 20010101 <= pt <= 20040930:\n",
    "#                                         std = 45\n",
    "#                                     elif 20041001 <= pt <= 20071231:\n",
    "#                                         std = 40\n",
    "#                                     elif 20080101 <= pt:\n",
    "#                                         std = 20\n",
    "#                     else: # 4번째 값 존재\n",
    "#                         g = temp['무부하매연측정치2', '무부하매연측정치3', '무부하매연측정치4'].mean()\n",
    "#                         f = f4\n",
    "#                         # 매연 허용치\n",
    "#                         if str(ci) == 'nan' or str(ci2) == 'nan':\n",
    "#                             std = 0\n",
    "#                         elif ci == '경형' or ci2 == '승용':\n",
    "#                             if np.isnan(pt):\n",
    "#                                 std = 0\n",
    "#                             elif pt < 19951231:\n",
    "#                                 std = 60\n",
    "#                             elif 19960101 <= pt <= 20001231:\n",
    "#                                 std = 55\n",
    "#                             elif 20010101 <= pt <= 20031231:\n",
    "#                                 std = 45\n",
    "#                             elif 20040101 <= pt <= 20071231:\n",
    "#                                 std = 40\n",
    "#                             elif 20080101 <= pt <= 20160831:\n",
    "#                                 std = 20\n",
    "#                             elif 20160901 <= pt:\n",
    "#                                 std = 10\n",
    "#                         else:\n",
    "#                             if ci2 == '소형':\n",
    "#                                 if np.isnan(pt):\n",
    "#                                     std = 0\n",
    "#                                 elif pt < 19951231:\n",
    "#                                     std = 60\n",
    "#                                 elif 19960101 <= pt <= 20001231:\n",
    "#                                     std = 55\n",
    "#                                 elif 20010101 <= pt <= 20031231:\n",
    "#                                     std = 45\n",
    "#                                 elif 20040101 <= pt <= 20071231:\n",
    "#                                     std = 40\n",
    "#                                 elif 20080101 <= pt <= 20160831:\n",
    "#                                     std = 20\n",
    "#                                 elif 20160901 <= pt:\n",
    "#                                     std = 10\n",
    "#                             elif ci2 == '중형':\n",
    "#                                 if np.isnan(pt):\n",
    "#                                     std = 0\n",
    "#                                 elif pt < 19921231:\n",
    "#                                     std = 60\n",
    "#                                 elif 19930101 <= pt <= 19951231:\n",
    "#                                     std = 55\n",
    "#                                 elif 19960101 <= pt <= 19971231:\n",
    "#                                     std = 45\n",
    "#                                 elif 19980101 <= pt <= 20001231: # 시내버스(40), 그 외(45) 조건 필요\n",
    "#                                     std = 45\n",
    "#                                 elif 20010101 <= pt <= 20040930:\n",
    "#                                     std = 45\n",
    "#                                 elif 20041001 <= pt <= 20071231:\n",
    "#                                     std = 40\n",
    "#                                 elif 20080101 <= pt <= 20160831:\n",
    "#                                     std = 20\n",
    "#                                 elif 20160901 <= pt:\n",
    "#                                     std = 10\n",
    "#                             elif ci2 == '대형':\n",
    "#                                 if np.isnan(pt):\n",
    "#                                     std = 0\n",
    "#                                 elif pt < 19921231:\n",
    "#                                     std = 60\n",
    "#                                 elif 19930101 <= pt <= 19951231:\n",
    "#                                     std = 55\n",
    "#                                 elif 19960101 <= pt <= 19971231:\n",
    "#                                     std = 45\n",
    "#                                 elif 19980101 <= pt <= 20001231: # 시내버스(40), 그 외(45) 조건 필요\n",
    "#                                     std = 45\n",
    "#                                 elif 20010101 <= pt <= 20040930:\n",
    "#                                     std = 45\n",
    "#                                 elif 20041001 <= pt <= 20071231:\n",
    "#                                     std = 40\n",
    "#                                 elif 20080101 <= pt:\n",
    "#                                     std = 20\n",
    "#                 else: # 5번째 값 존재\n",
    "#                     g = temp['무부하매연측정치3', '무부하매연측정치4', '무부하매연측정치5'].mean()\n",
    "#                     f = f5\n",
    "#                     # 매연 허용치\n",
    "#                     if str(ci) == 'nan' or str(ci2) == 'nan':\n",
    "#                         std = 0\n",
    "#                     elif ci == '경형' or ci2 == '승용':\n",
    "#                         if np.isnan(pt):\n",
    "#                             std = 0\n",
    "#                         elif pt < 19951231:\n",
    "#                             std = 60\n",
    "#                         elif 19960101 <= pt <= 20001231:\n",
    "#                             std = 55\n",
    "#                         elif 20010101 <= pt <= 20031231:\n",
    "#                             std = 45\n",
    "#                         elif 20040101 <= pt <= 20071231:\n",
    "#                             std = 40\n",
    "#                         elif 20080101 <= pt <= 20160831:\n",
    "#                             std = 20\n",
    "#                         elif 20160901 <= pt:\n",
    "#                             std = 10\n",
    "#                     else:\n",
    "#                         if ci2 == '소형':\n",
    "#                             if np.isnan(pt):\n",
    "#                                 std = 0\n",
    "#                             elif pt < 19951231:\n",
    "#                                 std = 60\n",
    "#                             elif 19960101 <= pt <= 20001231:\n",
    "#                                 std = 55\n",
    "#                             elif 20010101 <= pt <= 20031231:\n",
    "#                                 std = 45\n",
    "#                             elif 20040101 <= pt <= 20071231:\n",
    "#                                 std = 40\n",
    "#                             elif 20080101 <= pt <= 20160831:\n",
    "#                                 std = 20\n",
    "#                             elif 20160901 <= pt:\n",
    "#                                 std = 10\n",
    "#                         elif ci2 == '중형':\n",
    "#                             if np.isnan(pt):\n",
    "#                                 std = 0\n",
    "#                             elif pt < 19921231:\n",
    "#                                 std = 60\n",
    "#                             elif 19930101 <= pt <= 19951231:\n",
    "#                                 std = 55\n",
    "#                             elif 19960101 <= pt <= 19971231:\n",
    "#                                 std = 45\n",
    "#                             elif 19980101 <= pt <= 20001231: # 시내버스(40), 그 외(45) 조건 필요\n",
    "#                                 std = 45\n",
    "#                             elif 20010101 <= pt <= 20040930:\n",
    "#                                 std = 45\n",
    "#                             elif 20041001 <= pt <= 20071231:\n",
    "#                                 std = 40\n",
    "#                             elif 20080101 <= pt <= 20160831:\n",
    "#                                 std = 20\n",
    "#                             elif 20160901 <= pt:\n",
    "#                                 std = 10\n",
    "#                         elif ci2 == '대형':\n",
    "#                             if np.isnan(pt):\n",
    "#                                 std = 0\n",
    "#                             elif pt < 19921231:\n",
    "#                                 std = 60\n",
    "#                             elif 19930101 <= pt <= 19951231:\n",
    "#                                 std = 55\n",
    "#                             elif 19960101 <= pt <= 19971231:\n",
    "#                                 std = 45\n",
    "#                             elif 19980101 <= pt <= 20001231: # 시내버스(40), 그 외(45) 조건 필요\n",
    "#                                 std = 45\n",
    "#                             elif 20010101 <= pt <= 20040930:\n",
    "#                                 std = 45\n",
    "#                             elif 20041001 <= pt <= 20071231:\n",
    "#                                 std = 40\n",
    "#                             elif 20080101 <= pt:\n",
    "#                                 std = 20\n",
    "#             else: # 6번째 값 존재\n",
    "#                 g = temp['무부하매연측정치4', '무부하매연측정치5', '무부하매연측정치6'].mean()\n",
    "#                 f = f6\n",
    "#                 # 매연 허용치\n",
    "#                 if str(ci) == 'nan' or str(ci2) == 'nan':\n",
    "#                     std = 0\n",
    "#                 elif ci == '경형' or ci2 == '승용':\n",
    "#                     if np.isnan(pt):\n",
    "#                         std = 0\n",
    "#                     elif pt < 19951231:\n",
    "#                         std = 60\n",
    "#                     elif 19960101 <= pt <= 20001231:\n",
    "#                         std = 55\n",
    "#                     elif 20010101 <= pt <= 20031231:\n",
    "#                         std = 45\n",
    "#                     elif 20040101 <= pt <= 20071231:\n",
    "#                         std = 40\n",
    "#                     elif 20080101 <= pt <= 20160831:\n",
    "#                         std = 20\n",
    "#                     elif 20160901 <= pt:\n",
    "#                         std = 10\n",
    "#                 else:\n",
    "#                     if ci2 == '소형':\n",
    "#                         if np.isnan(pt):\n",
    "#                             std = 0\n",
    "#                         elif pt < 19951231:\n",
    "#                             std = 60\n",
    "#                         elif 19960101 <= pt <= 20001231:\n",
    "#                             std = 55\n",
    "#                         elif 20010101 <= pt <= 20031231:\n",
    "#                             std = 45\n",
    "#                         elif 20040101 <= pt <= 20071231:\n",
    "#                             std = 40\n",
    "#                         elif 20080101 <= pt <= 20160831:\n",
    "#                             std = 20\n",
    "#                         elif 20160901 <= pt:\n",
    "#                             std = 10\n",
    "#                     elif ci2 == '중형':\n",
    "#                         if np.isnan(pt):\n",
    "#                             std = 0\n",
    "#                         elif pt < 19921231:\n",
    "#                             std = 60\n",
    "#                         elif 19930101 <= pt <= 19951231:\n",
    "#                             std = 55\n",
    "#                         elif 19960101 <= pt <= 19971231:\n",
    "#                             std = 45\n",
    "#                         elif 19980101 <= pt <= 20001231: # 시내버스(40), 그 외(45) 조건 필요\n",
    "#                             std = 45\n",
    "#                         elif 20010101 <= pt <= 20040930:\n",
    "#                             std = 45\n",
    "#                         elif 20041001 <= pt <= 20071231:\n",
    "#                             std = 40\n",
    "#                         elif 20080101 <= pt <= 20160831:\n",
    "#                             std = 20\n",
    "#                         elif 20160901 <= pt:\n",
    "#                             std = 10\n",
    "#                     elif ci2 == '대형':\n",
    "#                         if np.isnan(pt):\n",
    "#                             std = 0\n",
    "#                         elif pt < 19921231:\n",
    "#                             std = 60\n",
    "#                         elif 19930101 <= pt <= 19951231:\n",
    "#                             std = 55\n",
    "#                         elif 19960101 <= pt <= 19971231:\n",
    "#                             std = 45\n",
    "#                         elif 19980101 <= pt <= 20001231: # 시내버스(40), 그 외(45) 조건 필요\n",
    "#                             std = 45\n",
    "#                         elif 20010101 <= pt <= 20040930:\n",
    "#                             std = 45\n",
    "#                         elif 20041001 <= pt <= 20071231:\n",
    "#                             std = 40\n",
    "#                         elif 20080101 <= pt:\n",
    "#                             std = 20\n",
    "\n",
    "#         g_mea_list.append(g)\n",
    "#         p_f_list.append(f)"
   ]
  },
  {
   "cell_type": "code",
   "execution_count": 217,
   "metadata": {},
   "outputs": [
    {
     "data": {
      "text/html": [
       "<div>\n",
       "<style scoped>\n",
       "    .dataframe tbody tr th:only-of-type {\n",
       "        vertical-align: middle;\n",
       "    }\n",
       "\n",
       "    .dataframe tbody tr th {\n",
       "        vertical-align: top;\n",
       "    }\n",
       "\n",
       "    .dataframe thead th {\n",
       "        text-align: right;\n",
       "    }\n",
       "</style>\n",
       "<table border=\"1\" class=\"dataframe\">\n",
       "  <thead>\n",
       "    <tr style=\"text-align: right;\">\n",
       "      <th></th>\n",
       "      <th>차대번호</th>\n",
       "      <th>차량제작일자</th>\n",
       "      <th>배출가스인증번호</th>\n",
       "      <th>총중량</th>\n",
       "      <th>검사방법</th>\n",
       "      <th>차종유형</th>\n",
       "      <th>차종등록정보</th>\n",
       "      <th>연료</th>\n",
       "      <th>무부하매연측정치1</th>\n",
       "      <th>무부하매연허용치1</th>\n",
       "      <th>...</th>\n",
       "      <th>무부하매연허용치4</th>\n",
       "      <th>무부하매연판정4</th>\n",
       "      <th>무부하매연측정치5</th>\n",
       "      <th>무부하매연허용치5</th>\n",
       "      <th>무부하매연판정5</th>\n",
       "      <th>무부하매연측정치6</th>\n",
       "      <th>무부하매연허용치6</th>\n",
       "      <th>무부하매연판정6</th>\n",
       "      <th>검사판정시간</th>\n",
       "      <th>정기정밀</th>\n",
       "    </tr>\n",
       "  </thead>\n",
       "  <tbody>\n",
       "    <tr>\n",
       "      <th>0</th>\n",
       "      <td>KM99H4ACD8CZ00001</td>\n",
       "      <td>20080705.0</td>\n",
       "      <td>7MY-HD-14-68</td>\n",
       "      <td>2905.0</td>\n",
       "      <td>부하검사(KD-147)</td>\n",
       "      <td>중형</td>\n",
       "      <td>승합</td>\n",
       "      <td>경유</td>\n",
       "      <td>0.0</td>\n",
       "      <td>15.0</td>\n",
       "      <td>...</td>\n",
       "      <td>0.0</td>\n",
       "      <td>NaN</td>\n",
       "      <td>0.0</td>\n",
       "      <td>0.0</td>\n",
       "      <td>NaN</td>\n",
       "      <td>0.0</td>\n",
       "      <td>0.0</td>\n",
       "      <td>NaN</td>\n",
       "      <td>20200304 11:08:28</td>\n",
       "      <td>정밀</td>\n",
       "    </tr>\n",
       "    <tr>\n",
       "      <th>1</th>\n",
       "      <td>KMF2CY7JABU693781</td>\n",
       "      <td>20101118.0</td>\n",
       "      <td>7MY-HD-14-68</td>\n",
       "      <td>3250.0</td>\n",
       "      <td>무부하검사(급가속)</td>\n",
       "      <td>소형</td>\n",
       "      <td>화물</td>\n",
       "      <td>경유</td>\n",
       "      <td>19.0</td>\n",
       "      <td>25.0</td>\n",
       "      <td>...</td>\n",
       "      <td>NaN</td>\n",
       "      <td>NaN</td>\n",
       "      <td>NaN</td>\n",
       "      <td>NaN</td>\n",
       "      <td>NaN</td>\n",
       "      <td>NaN</td>\n",
       "      <td>NaN</td>\n",
       "      <td>NaN</td>\n",
       "      <td>20191216 11:09:20</td>\n",
       "      <td>정기</td>\n",
       "    </tr>\n",
       "    <tr>\n",
       "      <th>2</th>\n",
       "      <td>KMFACS7JP9U482553</td>\n",
       "      <td>20081215.0</td>\n",
       "      <td>7MY-HD-14-68</td>\n",
       "      <td>2955.0</td>\n",
       "      <td>부하검사(KD-147)</td>\n",
       "      <td>소형</td>\n",
       "      <td>화물</td>\n",
       "      <td>경유</td>\n",
       "      <td>13.0</td>\n",
       "      <td>15.0</td>\n",
       "      <td>...</td>\n",
       "      <td>NaN</td>\n",
       "      <td>NaN</td>\n",
       "      <td>NaN</td>\n",
       "      <td>NaN</td>\n",
       "      <td>NaN</td>\n",
       "      <td>NaN</td>\n",
       "      <td>NaN</td>\n",
       "      <td>NaN</td>\n",
       "      <td>20200104 12:10:22</td>\n",
       "      <td>정밀</td>\n",
       "    </tr>\n",
       "    <tr>\n",
       "      <th>3</th>\n",
       "      <td>KMFACY7JABU652019</td>\n",
       "      <td>20100706.0</td>\n",
       "      <td>7MY-HD-14-68</td>\n",
       "      <td>3270.0</td>\n",
       "      <td>무부하검사(급가속)</td>\n",
       "      <td>소형</td>\n",
       "      <td>화물</td>\n",
       "      <td>경유</td>\n",
       "      <td>5.0</td>\n",
       "      <td>25.0</td>\n",
       "      <td>...</td>\n",
       "      <td>NaN</td>\n",
       "      <td>NaN</td>\n",
       "      <td>NaN</td>\n",
       "      <td>NaN</td>\n",
       "      <td>NaN</td>\n",
       "      <td>NaN</td>\n",
       "      <td>NaN</td>\n",
       "      <td>NaN</td>\n",
       "      <td>20210723 10:02:36</td>\n",
       "      <td>정기</td>\n",
       "    </tr>\n",
       "    <tr>\n",
       "      <th>4</th>\n",
       "      <td>KMFACZ7JABU750953</td>\n",
       "      <td>20110429.0</td>\n",
       "      <td>7MY-HD-14-68</td>\n",
       "      <td>2950.0</td>\n",
       "      <td>무부하검사(급가속)</td>\n",
       "      <td>소형</td>\n",
       "      <td>화물</td>\n",
       "      <td>경유</td>\n",
       "      <td>21.0</td>\n",
       "      <td>25.0</td>\n",
       "      <td>...</td>\n",
       "      <td>NaN</td>\n",
       "      <td>NaN</td>\n",
       "      <td>NaN</td>\n",
       "      <td>NaN</td>\n",
       "      <td>NaN</td>\n",
       "      <td>NaN</td>\n",
       "      <td>NaN</td>\n",
       "      <td>NaN</td>\n",
       "      <td>20190821 10:04:40</td>\n",
       "      <td>정기</td>\n",
       "    </tr>\n",
       "    <tr>\n",
       "      <th>...</th>\n",
       "      <td>...</td>\n",
       "      <td>...</td>\n",
       "      <td>...</td>\n",
       "      <td>...</td>\n",
       "      <td>...</td>\n",
       "      <td>...</td>\n",
       "      <td>...</td>\n",
       "      <td>...</td>\n",
       "      <td>...</td>\n",
       "      <td>...</td>\n",
       "      <td>...</td>\n",
       "      <td>...</td>\n",
       "      <td>...</td>\n",
       "      <td>...</td>\n",
       "      <td>...</td>\n",
       "      <td>...</td>\n",
       "      <td>...</td>\n",
       "      <td>...</td>\n",
       "      <td>...</td>\n",
       "      <td>...</td>\n",
       "      <td>...</td>\n",
       "    </tr>\n",
       "    <tr>\n",
       "      <th>261123</th>\n",
       "      <td>KNFZCD7JP9U509805</td>\n",
       "      <td>20090415.0</td>\n",
       "      <td>7MY-HD-14-68</td>\n",
       "      <td>3280.0</td>\n",
       "      <td>무부하검사(급가속)</td>\n",
       "      <td>소형</td>\n",
       "      <td>화물</td>\n",
       "      <td>경유</td>\n",
       "      <td>7.0</td>\n",
       "      <td>25.0</td>\n",
       "      <td>...</td>\n",
       "      <td>NaN</td>\n",
       "      <td>NaN</td>\n",
       "      <td>NaN</td>\n",
       "      <td>NaN</td>\n",
       "      <td>NaN</td>\n",
       "      <td>NaN</td>\n",
       "      <td>NaN</td>\n",
       "      <td>NaN</td>\n",
       "      <td>20200414 15:22:19</td>\n",
       "      <td>정기</td>\n",
       "    </tr>\n",
       "    <tr>\n",
       "      <th>261124</th>\n",
       "      <td>KNFZCD7JP9U523649</td>\n",
       "      <td>20090530.0</td>\n",
       "      <td>7MY-HD-14-68</td>\n",
       "      <td>3250.0</td>\n",
       "      <td>부하검사(KD-147)</td>\n",
       "      <td>소형</td>\n",
       "      <td>화물</td>\n",
       "      <td>경유</td>\n",
       "      <td>9.0</td>\n",
       "      <td>15.0</td>\n",
       "      <td>...</td>\n",
       "      <td>NaN</td>\n",
       "      <td>NaN</td>\n",
       "      <td>NaN</td>\n",
       "      <td>NaN</td>\n",
       "      <td>NaN</td>\n",
       "      <td>NaN</td>\n",
       "      <td>NaN</td>\n",
       "      <td>NaN</td>\n",
       "      <td>20200511 14:56:01</td>\n",
       "      <td>정밀</td>\n",
       "    </tr>\n",
       "    <tr>\n",
       "      <th>261125</th>\n",
       "      <td>KNFZCZ7JAAU607457</td>\n",
       "      <td>20100130.0</td>\n",
       "      <td>7MY-HD-14-68</td>\n",
       "      <td>2925.0</td>\n",
       "      <td>무부하검사(급가속)</td>\n",
       "      <td>소형</td>\n",
       "      <td>화물</td>\n",
       "      <td>경유</td>\n",
       "      <td>0.0</td>\n",
       "      <td>25.0</td>\n",
       "      <td>...</td>\n",
       "      <td>NaN</td>\n",
       "      <td>NaN</td>\n",
       "      <td>NaN</td>\n",
       "      <td>NaN</td>\n",
       "      <td>NaN</td>\n",
       "      <td>NaN</td>\n",
       "      <td>NaN</td>\n",
       "      <td>NaN</td>\n",
       "      <td>20220318 10:35:50</td>\n",
       "      <td>정기</td>\n",
       "    </tr>\n",
       "    <tr>\n",
       "      <th>261126</th>\n",
       "      <td>KNFZCZ7JBAU579855</td>\n",
       "      <td>20091110.0</td>\n",
       "      <td>7MY-HD-14-68</td>\n",
       "      <td>2960.0</td>\n",
       "      <td>무부하검사(급가속)</td>\n",
       "      <td>소형</td>\n",
       "      <td>화물</td>\n",
       "      <td>경유</td>\n",
       "      <td>3.0</td>\n",
       "      <td>25.0</td>\n",
       "      <td>...</td>\n",
       "      <td>NaN</td>\n",
       "      <td>NaN</td>\n",
       "      <td>NaN</td>\n",
       "      <td>NaN</td>\n",
       "      <td>NaN</td>\n",
       "      <td>NaN</td>\n",
       "      <td>NaN</td>\n",
       "      <td>NaN</td>\n",
       "      <td>20191129 15:26:53</td>\n",
       "      <td>정기</td>\n",
       "    </tr>\n",
       "    <tr>\n",
       "      <th>261127</th>\n",
       "      <td>MKFZSZ7JABU735903</td>\n",
       "      <td>20110325.0</td>\n",
       "      <td>7MY-HD-14-68</td>\n",
       "      <td>3160.0</td>\n",
       "      <td>무부하검사(급가속)</td>\n",
       "      <td>소형</td>\n",
       "      <td>화물</td>\n",
       "      <td>경유</td>\n",
       "      <td>15.0</td>\n",
       "      <td>25.0</td>\n",
       "      <td>...</td>\n",
       "      <td>NaN</td>\n",
       "      <td>NaN</td>\n",
       "      <td>NaN</td>\n",
       "      <td>NaN</td>\n",
       "      <td>NaN</td>\n",
       "      <td>NaN</td>\n",
       "      <td>NaN</td>\n",
       "      <td>NaN</td>\n",
       "      <td>20200304 16:52:02</td>\n",
       "      <td>정기</td>\n",
       "    </tr>\n",
       "  </tbody>\n",
       "</table>\n",
       "<p>261128 rows × 28 columns</p>\n",
       "</div>"
      ],
      "text/plain": [
       "                     차대번호      차량제작일자      배출가스인증번호     총중량          검사방법  \\\n",
       "0       KM99H4ACD8CZ00001  20080705.0  7MY-HD-14-68  2905.0  부하검사(KD-147)   \n",
       "1       KMF2CY7JABU693781  20101118.0  7MY-HD-14-68  3250.0    무부하검사(급가속)   \n",
       "2       KMFACS7JP9U482553  20081215.0  7MY-HD-14-68  2955.0  부하검사(KD-147)   \n",
       "3       KMFACY7JABU652019  20100706.0  7MY-HD-14-68  3270.0    무부하검사(급가속)   \n",
       "4       KMFACZ7JABU750953  20110429.0  7MY-HD-14-68  2950.0    무부하검사(급가속)   \n",
       "...                   ...         ...           ...     ...           ...   \n",
       "261123  KNFZCD7JP9U509805  20090415.0  7MY-HD-14-68  3280.0    무부하검사(급가속)   \n",
       "261124  KNFZCD7JP9U523649  20090530.0  7MY-HD-14-68  3250.0  부하검사(KD-147)   \n",
       "261125  KNFZCZ7JAAU607457  20100130.0  7MY-HD-14-68  2925.0    무부하검사(급가속)   \n",
       "261126  KNFZCZ7JBAU579855  20091110.0  7MY-HD-14-68  2960.0    무부하검사(급가속)   \n",
       "261127  MKFZSZ7JABU735903  20110325.0  7MY-HD-14-68  3160.0    무부하검사(급가속)   \n",
       "\n",
       "       차종유형 차종등록정보  연료  무부하매연측정치1  무부하매연허용치1  ... 무부하매연허용치4  무부하매연판정4  \\\n",
       "0        중형     승합  경유        0.0       15.0  ...       0.0       NaN   \n",
       "1        소형     화물  경유       19.0       25.0  ...       NaN       NaN   \n",
       "2        소형     화물  경유       13.0       15.0  ...       NaN       NaN   \n",
       "3        소형     화물  경유        5.0       25.0  ...       NaN       NaN   \n",
       "4        소형     화물  경유       21.0       25.0  ...       NaN       NaN   \n",
       "...     ...    ...  ..        ...        ...  ...       ...       ...   \n",
       "261123   소형     화물  경유        7.0       25.0  ...       NaN       NaN   \n",
       "261124   소형     화물  경유        9.0       15.0  ...       NaN       NaN   \n",
       "261125   소형     화물  경유        0.0       25.0  ...       NaN       NaN   \n",
       "261126   소형     화물  경유        3.0       25.0  ...       NaN       NaN   \n",
       "261127   소형     화물  경유       15.0       25.0  ...       NaN       NaN   \n",
       "\n",
       "        무부하매연측정치5 무부하매연허용치5  무부하매연판정5  무부하매연측정치6 무부하매연허용치6  무부하매연판정6  \\\n",
       "0             0.0       0.0       NaN        0.0       0.0       NaN   \n",
       "1             NaN       NaN       NaN        NaN       NaN       NaN   \n",
       "2             NaN       NaN       NaN        NaN       NaN       NaN   \n",
       "3             NaN       NaN       NaN        NaN       NaN       NaN   \n",
       "4             NaN       NaN       NaN        NaN       NaN       NaN   \n",
       "...           ...       ...       ...        ...       ...       ...   \n",
       "261123        NaN       NaN       NaN        NaN       NaN       NaN   \n",
       "261124        NaN       NaN       NaN        NaN       NaN       NaN   \n",
       "261125        NaN       NaN       NaN        NaN       NaN       NaN   \n",
       "261126        NaN       NaN       NaN        NaN       NaN       NaN   \n",
       "261127        NaN       NaN       NaN        NaN       NaN       NaN   \n",
       "\n",
       "                   검사판정시간 정기정밀  \n",
       "0       20200304 11:08:28   정밀  \n",
       "1       20191216 11:09:20   정기  \n",
       "2       20200104 12:10:22   정밀  \n",
       "3       20210723 10:02:36   정기  \n",
       "4       20190821 10:04:40   정기  \n",
       "...                   ...  ...  \n",
       "261123  20200414 15:22:19   정기  \n",
       "261124  20200511 14:56:01   정밀  \n",
       "261125  20220318 10:35:50   정기  \n",
       "261126  20191129 15:26:53   정기  \n",
       "261127  20200304 16:52:02   정기  \n",
       "\n",
       "[261128 rows x 28 columns]"
      ]
     },
     "execution_count": 217,
     "metadata": {},
     "output_type": "execute_result"
    }
   ],
   "source": [
    "temp"
   ]
  },
  {
   "cell_type": "code",
   "execution_count": 218,
   "metadata": {},
   "outputs": [
    {
     "data": {
      "text/plain": [
       "0         0.0\n",
       "1         NaN\n",
       "2         NaN\n",
       "3         NaN\n",
       "4         NaN\n",
       "         ... \n",
       "261123    NaN\n",
       "261124    NaN\n",
       "261125    NaN\n",
       "261126    NaN\n",
       "261127    NaN\n",
       "Name: 무부하매연측정치6, Length: 261128, dtype: float64"
      ]
     },
     "execution_count": 218,
     "metadata": {},
     "output_type": "execute_result"
    }
   ],
   "source": [
    "temp['무부하매연측정치6']"
   ]
  },
  {
   "cell_type": "code",
   "execution_count": 219,
   "metadata": {},
   "outputs": [
    {
     "data": {
      "text/html": [
       "<div>\n",
       "<style scoped>\n",
       "    .dataframe tbody tr th:only-of-type {\n",
       "        vertical-align: middle;\n",
       "    }\n",
       "\n",
       "    .dataframe tbody tr th {\n",
       "        vertical-align: top;\n",
       "    }\n",
       "\n",
       "    .dataframe thead th {\n",
       "        text-align: right;\n",
       "    }\n",
       "</style>\n",
       "<table border=\"1\" class=\"dataframe\">\n",
       "  <thead>\n",
       "    <tr style=\"text-align: right;\">\n",
       "      <th></th>\n",
       "      <th>1</th>\n",
       "      <th>2</th>\n",
       "      <th>3</th>\n",
       "    </tr>\n",
       "  </thead>\n",
       "  <tbody>\n",
       "    <tr>\n",
       "      <th>0</th>\n",
       "      <td>1</td>\n",
       "      <td>1.0</td>\n",
       "      <td>1</td>\n",
       "    </tr>\n",
       "    <tr>\n",
       "      <th>1</th>\n",
       "      <td>2</td>\n",
       "      <td>NaN</td>\n",
       "      <td>2</td>\n",
       "    </tr>\n",
       "    <tr>\n",
       "      <th>2</th>\n",
       "      <td>3</td>\n",
       "      <td>3.0</td>\n",
       "      <td>s</td>\n",
       "    </tr>\n",
       "  </tbody>\n",
       "</table>\n",
       "</div>"
      ],
      "text/plain": [
       "   1    2  3\n",
       "0  1  1.0  1\n",
       "1  2  NaN  2\n",
       "2  3  3.0  s"
      ]
     },
     "execution_count": 219,
     "metadata": {},
     "output_type": "execute_result"
    }
   ],
   "source": [
    "test = pd.DataFrame({1:[1,2,3], 2:[1, np.nan, 3], 3:[1, 2, 's']})\n",
    "test"
   ]
  },
  {
   "cell_type": "code",
   "execution_count": 220,
   "metadata": {},
   "outputs": [
    {
     "data": {
      "text/plain": [
       "1      2\n",
       "2    NaN\n",
       "3      2\n",
       "Name: 1, dtype: object"
      ]
     },
     "execution_count": 220,
     "metadata": {},
     "output_type": "execute_result"
    }
   ],
   "source": [
    "test.loc[1]"
   ]
  },
  {
   "cell_type": "code",
   "execution_count": 221,
   "metadata": {},
   "outputs": [
    {
     "data": {
      "text/plain": [
       "2.0"
      ]
     },
     "execution_count": 221,
     "metadata": {},
     "output_type": "execute_result"
    }
   ],
   "source": [
    "test.loc[1].mean()"
   ]
  },
  {
   "cell_type": "code",
   "execution_count": 222,
   "metadata": {},
   "outputs": [],
   "source": [
    "one = '7MY-KM-14-63'"
   ]
  },
  {
   "cell_type": "code",
   "execution_count": 223,
   "metadata": {},
   "outputs": [],
   "source": [
    "btemp = d_total2[d_total2['배출가스인증번호'] == one].reset_index(drop=True)\n",
    "# 1개의 배출가스 인증번호에 대한 처리 테스트\n",
    "g_mea_list = [] # 샘플 1개에 대한 측정치 저장 리스트\n",
    "p_f_list = [] # 샘플 1개에 대한 판정 저장 리스트\n",
    "for i in range(btemp.shape[0]):\n",
    "    temp = btemp.loc[i]\n",
    "\n",
    "    test_method = temp['검사방법'] # 변수 생성(검사방법)\n",
    "\n",
    "    product_date = temp['차량제작일자']# 변수 생성(차량제작일자)\n",
    "\n",
    "    test_date = temp['검사판정시간'] # 변수 생성(검사판정시간)\n",
    "\n",
    "    total_weight = temp['총중량'] # 변수 생성(총중량)\n",
    "\n",
    "    ci = temp['차종등록정보'] # 승용, 승합, 화물, 특수\n",
    "    ci2 = temp['차종유형'] # 경형, 소형, 중형, 대형\n",
    "\n",
    "    # 변수 생성(측정치, 문자열)\n",
    "    sv1 = str(temp['무부하매연측정치1'])\n",
    "    sv2 = str(temp['무부하매연측정치2'])\n",
    "    sv3 = str(temp['무부하매연측정치3'])\n",
    "    sv4 = str(temp['무부하매연측정치4'])\n",
    "    sv5 = str(temp['무부하매연측정치5'])\n",
    "    sv6 = str(temp['무부하매연측정치6'])\n",
    "\n",
    "    # 변수 생성(측정치, 문자열)\n",
    "    v1 = temp['무부하매연측정치1']\n",
    "    v2 = temp['무부하매연측정치2']\n",
    "    v3 = temp['무부하매연측정치3']\n",
    "    v4 = temp['무부하매연측정치4']\n",
    "    v5 = temp['무부하매연측정치5']\n",
    "    v6 = temp['무부하매연측정치6']\n",
    "\n",
    "    # 변수 생성(판정)\n",
    "    f1 = temp['무부하매연판정1']\n",
    "    f2 = temp['무부하매연판정2']\n",
    "    f3 = temp['무부하매연판정3']\n",
    "    f4 = temp['무부하매연판정4']\n",
    "    f5 = temp['무부하매연판정5']\n",
    "    f6 = temp['무부하매연판정6']\n",
    "    \n",
    "    # 검사판정시간\n",
    "    date = temp['검사판정시간']\n",
    "\n",
    "    # 평균 매연, 불합격률 계산\n",
    "    if test_method == '부하검사(LUG DOWN)': # 1번째 측정치, 판정치 사용\n",
    "        if sv1 == 'nan' or not gas_mea_value_p.search(sv1) or f1 not in ['Y', 'N']: # 1번째 값 부재\n",
    "            # print('1번째 값 부재')\n",
    "            g = np.nan\n",
    "            f = np.nan\n",
    "        else: # 1번째 값 존재\n",
    "            g = v1\n",
    "            f = f1\n",
    "\n",
    "    elif test_method == '부하검사(KD-147)': # 1번째 측정치, 판정치 사용\n",
    "        if sv1 == 'nan' or not gas_mea_value_p.search(sv1) or f1 not in ['Y', 'N']: # 1번째 값 부재\n",
    "            # print('1번째 값 부재')\n",
    "            g = np.nan\n",
    "            f = np.nan\n",
    "        else: # 1번째 값 존재\n",
    "            g = v1\n",
    "            f = f1\n",
    "    else: # 무부하 검사\n",
    "        if sv6 == 'nan' or not gas_mea_value_p.search(sv6) or f6 not in ['Y', 'N']: # 6번째 값 부재\n",
    "            # print('6번째 값 부재')\n",
    "            if sv5 == 'nan' or not gas_mea_value_p.search(sv5) or f5 not in ['Y', 'N']: # 5번째 값 부재\n",
    "                # print('5번째 값 부재')\n",
    "                if sv4 == 'nan' or not gas_mea_value_p.search(sv4) or f4 not in ['Y', 'N']: # 4번째 값 부재\n",
    "                    # print('4번째 값 부재')\n",
    "                    if sv3 == 'nan' or not gas_mea_value_p.search(sv3) or f3 not in ['Y', 'N']: # 3번째 값 부재\n",
    "                        # print('3번째 값 부재')\n",
    "                        if sv1 == 'nan' or not gas_mea_value_p.search(sv1) or f1 not in ['Y', 'N']: # 1번째 값 부재\n",
    "                            # print('1번째 값 부재')\n",
    "                            g = np.nan\n",
    "                            f = np.nan\n",
    "                        else: # 1번째 값 존재\n",
    "                            g = v1\n",
    "                            f = f1                                \n",
    "                    else: # 3번째 값 존재\n",
    "                        g = temp[['무부하매연측정치1', '무부하매연측정치2', '무부하매연측정치3']].mean()\n",
    "                        f = f3\n",
    "                else: # 4번째 값 존재\n",
    "                    g = temp[['무부하매연측정치2', '무부하매연측정치3', '무부하매연측정치4']].mean()\n",
    "                    f = f4\n",
    "            else: # 5번째 값 존재\n",
    "                g = temp[['무부하매연측정치3', '무부하매연측정치4', '무부하매연측정치5']].mean()\n",
    "                f = f5\n",
    "        else: # 6번째 값 존재\n",
    "            g = temp[['무부하매연측정치4', '무부하매연측정치5', '무부하매연측정치6']].mean()\n",
    "            f = f6\n",
    "\n",
    "    g_mea_list.append(g)\n",
    "    p_f_list.append(f)\n",
    "\n",
    "# df 생성\n",
    "one_sample = pd.DataFrame({'측정치':g_mea_list, '판정':p_f_list})\n",
    "    \n",
    "# Grade 계산\n",
    "m = one_sample['측정치'].mean()\n",
    "p_f_rate_df = one_sample['판정'].value_counts(normalize=True).reset_index()\n",
    "if p_f_rate_df.shape[0] == 1:\n",
    "    p_f_rate = 0\n",
    "else:\n",
    "    p_f_rate = p_f_rate_df.loc[p_f_rate_df['index'] == 'N', '판정'].values[0]"
   ]
  },
  {
   "cell_type": "code",
   "execution_count": 224,
   "metadata": {},
   "outputs": [
    {
     "data": {
      "text/html": [
       "<div>\n",
       "<style scoped>\n",
       "    .dataframe tbody tr th:only-of-type {\n",
       "        vertical-align: middle;\n",
       "    }\n",
       "\n",
       "    .dataframe tbody tr th {\n",
       "        vertical-align: top;\n",
       "    }\n",
       "\n",
       "    .dataframe thead th {\n",
       "        text-align: right;\n",
       "    }\n",
       "</style>\n",
       "<table border=\"1\" class=\"dataframe\">\n",
       "  <thead>\n",
       "    <tr style=\"text-align: right;\">\n",
       "      <th></th>\n",
       "      <th>차대번호</th>\n",
       "      <th>차량제작일자</th>\n",
       "      <th>배출가스인증번호</th>\n",
       "      <th>총중량</th>\n",
       "      <th>검사방법</th>\n",
       "      <th>차종유형</th>\n",
       "      <th>차종등록정보</th>\n",
       "      <th>연료</th>\n",
       "      <th>무부하매연측정치1</th>\n",
       "      <th>무부하매연허용치1</th>\n",
       "      <th>...</th>\n",
       "      <th>무부하매연허용치4</th>\n",
       "      <th>무부하매연판정4</th>\n",
       "      <th>무부하매연측정치5</th>\n",
       "      <th>무부하매연허용치5</th>\n",
       "      <th>무부하매연판정5</th>\n",
       "      <th>무부하매연측정치6</th>\n",
       "      <th>무부하매연허용치6</th>\n",
       "      <th>무부하매연판정6</th>\n",
       "      <th>검사판정시간</th>\n",
       "      <th>정기정밀</th>\n",
       "    </tr>\n",
       "  </thead>\n",
       "  <tbody>\n",
       "    <tr>\n",
       "      <th>0</th>\n",
       "      <td>1J4GAE4509L702033</td>\n",
       "      <td>20081127.0</td>\n",
       "      <td>7MY-KM-14-63</td>\n",
       "      <td>2245.0</td>\n",
       "      <td>부하검사(KD-147)</td>\n",
       "      <td>대형</td>\n",
       "      <td>승용</td>\n",
       "      <td>경유</td>\n",
       "      <td>0.0</td>\n",
       "      <td>15.0</td>\n",
       "      <td>...</td>\n",
       "      <td>NaN</td>\n",
       "      <td>NaN</td>\n",
       "      <td>NaN</td>\n",
       "      <td>NaN</td>\n",
       "      <td>NaN</td>\n",
       "      <td>NaN</td>\n",
       "      <td>NaN</td>\n",
       "      <td>NaN</td>\n",
       "      <td>20201116 14:27:44</td>\n",
       "      <td>정밀</td>\n",
       "    </tr>\n",
       "    <tr>\n",
       "      <th>1</th>\n",
       "      <td>1J4GAE4509L732357</td>\n",
       "      <td>20090326.0</td>\n",
       "      <td>7MY-KM-14-63</td>\n",
       "      <td>2245.0</td>\n",
       "      <td>무부하검사(급가속)</td>\n",
       "      <td>대형</td>\n",
       "      <td>승용</td>\n",
       "      <td>경유</td>\n",
       "      <td>0.0</td>\n",
       "      <td>25.0</td>\n",
       "      <td>...</td>\n",
       "      <td>0.0</td>\n",
       "      <td>NaN</td>\n",
       "      <td>0.0</td>\n",
       "      <td>0.0</td>\n",
       "      <td>NaN</td>\n",
       "      <td>0.0</td>\n",
       "      <td>0.0</td>\n",
       "      <td>NaN</td>\n",
       "      <td>20210428 10:30:49</td>\n",
       "      <td>정밀</td>\n",
       "    </tr>\n",
       "    <tr>\n",
       "      <th>2</th>\n",
       "      <td>1J4GAE4509L732360</td>\n",
       "      <td>20090114.0</td>\n",
       "      <td>7MY-KM-14-63</td>\n",
       "      <td>2245.0</td>\n",
       "      <td>부하검사(KD-147)</td>\n",
       "      <td>대형</td>\n",
       "      <td>승용</td>\n",
       "      <td>경유</td>\n",
       "      <td>0.0</td>\n",
       "      <td>15.0</td>\n",
       "      <td>...</td>\n",
       "      <td>NaN</td>\n",
       "      <td>NaN</td>\n",
       "      <td>NaN</td>\n",
       "      <td>NaN</td>\n",
       "      <td>NaN</td>\n",
       "      <td>NaN</td>\n",
       "      <td>NaN</td>\n",
       "      <td>NaN</td>\n",
       "      <td>20210209 11:04:05</td>\n",
       "      <td>정밀</td>\n",
       "    </tr>\n",
       "    <tr>\n",
       "      <th>3</th>\n",
       "      <td>1J4GAE4509L739096</td>\n",
       "      <td>20090720.0</td>\n",
       "      <td>7MY-KM-14-63</td>\n",
       "      <td>2245.0</td>\n",
       "      <td>부하검사(KD-147)</td>\n",
       "      <td>대형</td>\n",
       "      <td>승용</td>\n",
       "      <td>경유</td>\n",
       "      <td>0.0</td>\n",
       "      <td>15.0</td>\n",
       "      <td>...</td>\n",
       "      <td>0.0</td>\n",
       "      <td>NaN</td>\n",
       "      <td>0.0</td>\n",
       "      <td>0.0</td>\n",
       "      <td>NaN</td>\n",
       "      <td>0.0</td>\n",
       "      <td>0.0</td>\n",
       "      <td>NaN</td>\n",
       "      <td>20210624 13:43:48</td>\n",
       "      <td>정밀</td>\n",
       "    </tr>\n",
       "    <tr>\n",
       "      <th>4</th>\n",
       "      <td>1J4GAE4509L739101</td>\n",
       "      <td>20090128.0</td>\n",
       "      <td>7MY-KM-14-63</td>\n",
       "      <td>2245.0</td>\n",
       "      <td>부하검사(KD-147)</td>\n",
       "      <td>대형</td>\n",
       "      <td>승용</td>\n",
       "      <td>경유</td>\n",
       "      <td>0.0</td>\n",
       "      <td>15.0</td>\n",
       "      <td>...</td>\n",
       "      <td>NaN</td>\n",
       "      <td>NaN</td>\n",
       "      <td>NaN</td>\n",
       "      <td>NaN</td>\n",
       "      <td>NaN</td>\n",
       "      <td>NaN</td>\n",
       "      <td>NaN</td>\n",
       "      <td>NaN</td>\n",
       "      <td>20190705 17:19:03</td>\n",
       "      <td>정밀</td>\n",
       "    </tr>\n",
       "  </tbody>\n",
       "</table>\n",
       "<p>5 rows × 28 columns</p>\n",
       "</div>"
      ],
      "text/plain": [
       "                차대번호      차량제작일자      배출가스인증번호     총중량          검사방법 차종유형  \\\n",
       "0  1J4GAE4509L702033  20081127.0  7MY-KM-14-63  2245.0  부하검사(KD-147)   대형   \n",
       "1  1J4GAE4509L732357  20090326.0  7MY-KM-14-63  2245.0    무부하검사(급가속)   대형   \n",
       "2  1J4GAE4509L732360  20090114.0  7MY-KM-14-63  2245.0  부하검사(KD-147)   대형   \n",
       "3  1J4GAE4509L739096  20090720.0  7MY-KM-14-63  2245.0  부하검사(KD-147)   대형   \n",
       "4  1J4GAE4509L739101  20090128.0  7MY-KM-14-63  2245.0  부하검사(KD-147)   대형   \n",
       "\n",
       "  차종등록정보  연료  무부하매연측정치1  무부하매연허용치1  ... 무부하매연허용치4  무부하매연판정4  무부하매연측정치5  \\\n",
       "0     승용  경유        0.0       15.0  ...       NaN       NaN        NaN   \n",
       "1     승용  경유        0.0       25.0  ...       0.0       NaN        0.0   \n",
       "2     승용  경유        0.0       15.0  ...       NaN       NaN        NaN   \n",
       "3     승용  경유        0.0       15.0  ...       0.0       NaN        0.0   \n",
       "4     승용  경유        0.0       15.0  ...       NaN       NaN        NaN   \n",
       "\n",
       "  무부하매연허용치5  무부하매연판정5  무부하매연측정치6 무부하매연허용치6  무부하매연판정6             검사판정시간 정기정밀  \n",
       "0       NaN       NaN        NaN       NaN       NaN  20201116 14:27:44   정밀  \n",
       "1       0.0       NaN        0.0       0.0       NaN  20210428 10:30:49   정밀  \n",
       "2       NaN       NaN        NaN       NaN       NaN  20210209 11:04:05   정밀  \n",
       "3       0.0       NaN        0.0       0.0       NaN  20210624 13:43:48   정밀  \n",
       "4       NaN       NaN        NaN       NaN       NaN  20190705 17:19:03   정밀  \n",
       "\n",
       "[5 rows x 28 columns]"
      ]
     },
     "execution_count": 224,
     "metadata": {},
     "output_type": "execute_result"
    }
   ],
   "source": [
    "btemp.head()"
   ]
  },
  {
   "cell_type": "code",
   "execution_count": 225,
   "metadata": {},
   "outputs": [
    {
     "data": {
      "text/html": [
       "<div>\n",
       "<style scoped>\n",
       "    .dataframe tbody tr th:only-of-type {\n",
       "        vertical-align: middle;\n",
       "    }\n",
       "\n",
       "    .dataframe tbody tr th {\n",
       "        vertical-align: top;\n",
       "    }\n",
       "\n",
       "    .dataframe thead th {\n",
       "        text-align: right;\n",
       "    }\n",
       "</style>\n",
       "<table border=\"1\" class=\"dataframe\">\n",
       "  <thead>\n",
       "    <tr style=\"text-align: right;\">\n",
       "      <th></th>\n",
       "      <th>측정치</th>\n",
       "      <th>판정</th>\n",
       "    </tr>\n",
       "  </thead>\n",
       "  <tbody>\n",
       "    <tr>\n",
       "      <th>0</th>\n",
       "      <td>0.0</td>\n",
       "      <td>Y</td>\n",
       "    </tr>\n",
       "    <tr>\n",
       "      <th>1</th>\n",
       "      <td>0.0</td>\n",
       "      <td>Y</td>\n",
       "    </tr>\n",
       "    <tr>\n",
       "      <th>2</th>\n",
       "      <td>0.0</td>\n",
       "      <td>Y</td>\n",
       "    </tr>\n",
       "    <tr>\n",
       "      <th>3</th>\n",
       "      <td>0.0</td>\n",
       "      <td>Y</td>\n",
       "    </tr>\n",
       "    <tr>\n",
       "      <th>4</th>\n",
       "      <td>0.0</td>\n",
       "      <td>Y</td>\n",
       "    </tr>\n",
       "    <tr>\n",
       "      <th>...</th>\n",
       "      <td>...</td>\n",
       "      <td>...</td>\n",
       "    </tr>\n",
       "    <tr>\n",
       "      <th>21679</th>\n",
       "      <td>11.0</td>\n",
       "      <td>Y</td>\n",
       "    </tr>\n",
       "    <tr>\n",
       "      <th>21680</th>\n",
       "      <td>4.0</td>\n",
       "      <td>Y</td>\n",
       "    </tr>\n",
       "    <tr>\n",
       "      <th>21681</th>\n",
       "      <td>0.0</td>\n",
       "      <td>Y</td>\n",
       "    </tr>\n",
       "    <tr>\n",
       "      <th>21682</th>\n",
       "      <td>12.0</td>\n",
       "      <td>Y</td>\n",
       "    </tr>\n",
       "    <tr>\n",
       "      <th>21683</th>\n",
       "      <td>15.0</td>\n",
       "      <td>Y</td>\n",
       "    </tr>\n",
       "  </tbody>\n",
       "</table>\n",
       "<p>21684 rows × 2 columns</p>\n",
       "</div>"
      ],
      "text/plain": [
       "        측정치 판정\n",
       "0       0.0  Y\n",
       "1       0.0  Y\n",
       "2       0.0  Y\n",
       "3       0.0  Y\n",
       "4       0.0  Y\n",
       "...     ... ..\n",
       "21679  11.0  Y\n",
       "21680   4.0  Y\n",
       "21681   0.0  Y\n",
       "21682  12.0  Y\n",
       "21683  15.0  Y\n",
       "\n",
       "[21684 rows x 2 columns]"
      ]
     },
     "execution_count": 225,
     "metadata": {},
     "output_type": "execute_result"
    }
   ],
   "source": [
    "one_sample"
   ]
  },
  {
   "cell_type": "code",
   "execution_count": 226,
   "metadata": {},
   "outputs": [
    {
     "data": {
      "text/html": [
       "<div>\n",
       "<style scoped>\n",
       "    .dataframe tbody tr th:only-of-type {\n",
       "        vertical-align: middle;\n",
       "    }\n",
       "\n",
       "    .dataframe tbody tr th {\n",
       "        vertical-align: top;\n",
       "    }\n",
       "\n",
       "    .dataframe thead th {\n",
       "        text-align: right;\n",
       "    }\n",
       "</style>\n",
       "<table border=\"1\" class=\"dataframe\">\n",
       "  <thead>\n",
       "    <tr style=\"text-align: right;\">\n",
       "      <th></th>\n",
       "      <th>측정치</th>\n",
       "      <th>판정</th>\n",
       "    </tr>\n",
       "  </thead>\n",
       "  <tbody>\n",
       "    <tr>\n",
       "      <th>0</th>\n",
       "      <td>0.0</td>\n",
       "      <td>Y</td>\n",
       "    </tr>\n",
       "    <tr>\n",
       "      <th>1</th>\n",
       "      <td>0.0</td>\n",
       "      <td>Y</td>\n",
       "    </tr>\n",
       "    <tr>\n",
       "      <th>2</th>\n",
       "      <td>0.0</td>\n",
       "      <td>Y</td>\n",
       "    </tr>\n",
       "    <tr>\n",
       "      <th>3</th>\n",
       "      <td>0.0</td>\n",
       "      <td>Y</td>\n",
       "    </tr>\n",
       "    <tr>\n",
       "      <th>4</th>\n",
       "      <td>0.0</td>\n",
       "      <td>Y</td>\n",
       "    </tr>\n",
       "    <tr>\n",
       "      <th>...</th>\n",
       "      <td>...</td>\n",
       "      <td>...</td>\n",
       "    </tr>\n",
       "    <tr>\n",
       "      <th>21679</th>\n",
       "      <td>11.0</td>\n",
       "      <td>Y</td>\n",
       "    </tr>\n",
       "    <tr>\n",
       "      <th>21680</th>\n",
       "      <td>4.0</td>\n",
       "      <td>Y</td>\n",
       "    </tr>\n",
       "    <tr>\n",
       "      <th>21681</th>\n",
       "      <td>0.0</td>\n",
       "      <td>Y</td>\n",
       "    </tr>\n",
       "    <tr>\n",
       "      <th>21682</th>\n",
       "      <td>12.0</td>\n",
       "      <td>Y</td>\n",
       "    </tr>\n",
       "    <tr>\n",
       "      <th>21683</th>\n",
       "      <td>15.0</td>\n",
       "      <td>Y</td>\n",
       "    </tr>\n",
       "  </tbody>\n",
       "</table>\n",
       "<p>19441 rows × 2 columns</p>\n",
       "</div>"
      ],
      "text/plain": [
       "        측정치 판정\n",
       "0       0.0  Y\n",
       "1       0.0  Y\n",
       "2       0.0  Y\n",
       "3       0.0  Y\n",
       "4       0.0  Y\n",
       "...     ... ..\n",
       "21679  11.0  Y\n",
       "21680   4.0  Y\n",
       "21681   0.0  Y\n",
       "21682  12.0  Y\n",
       "21683  15.0  Y\n",
       "\n",
       "[19441 rows x 2 columns]"
      ]
     },
     "execution_count": 226,
     "metadata": {},
     "output_type": "execute_result"
    }
   ],
   "source": [
    "one_sample2 = one_sample[one_sample['판정'] == 'Y']\n",
    "one_sample2"
   ]
  },
  {
   "cell_type": "code",
   "execution_count": 227,
   "metadata": {},
   "outputs": [
    {
     "data": {
      "text/plain": [
       "11.314162436548223"
      ]
     },
     "execution_count": 227,
     "metadata": {},
     "output_type": "execute_result"
    }
   ],
   "source": [
    "m"
   ]
  },
  {
   "cell_type": "code",
   "execution_count": 228,
   "metadata": {},
   "outputs": [
    {
     "data": {
      "text/html": [
       "<div>\n",
       "<style scoped>\n",
       "    .dataframe tbody tr th:only-of-type {\n",
       "        vertical-align: middle;\n",
       "    }\n",
       "\n",
       "    .dataframe tbody tr th {\n",
       "        vertical-align: top;\n",
       "    }\n",
       "\n",
       "    .dataframe thead th {\n",
       "        text-align: right;\n",
       "    }\n",
       "</style>\n",
       "<table border=\"1\" class=\"dataframe\">\n",
       "  <thead>\n",
       "    <tr style=\"text-align: right;\">\n",
       "      <th></th>\n",
       "      <th>index</th>\n",
       "      <th>판정</th>\n",
       "    </tr>\n",
       "  </thead>\n",
       "  <tbody>\n",
       "    <tr>\n",
       "      <th>0</th>\n",
       "      <td>Y</td>\n",
       "      <td>0.897139</td>\n",
       "    </tr>\n",
       "    <tr>\n",
       "      <th>1</th>\n",
       "      <td>N</td>\n",
       "      <td>0.102861</td>\n",
       "    </tr>\n",
       "  </tbody>\n",
       "</table>\n",
       "</div>"
      ],
      "text/plain": [
       "  index        판정\n",
       "0     Y  0.897139\n",
       "1     N  0.102861"
      ]
     },
     "execution_count": 228,
     "metadata": {},
     "output_type": "execute_result"
    }
   ],
   "source": [
    "p_f_rate_df"
   ]
  },
  {
   "cell_type": "code",
   "execution_count": 229,
   "metadata": {},
   "outputs": [
    {
     "data": {
      "text/plain": [
       "2"
      ]
     },
     "execution_count": 229,
     "metadata": {},
     "output_type": "execute_result"
    }
   ],
   "source": [
    "p_f_rate_df.shape[0]"
   ]
  },
  {
   "cell_type": "code",
   "execution_count": 230,
   "metadata": {},
   "outputs": [
    {
     "data": {
      "text/plain": [
       "1    0.102861\n",
       "Name: 판정, dtype: float64"
      ]
     },
     "execution_count": 230,
     "metadata": {},
     "output_type": "execute_result"
    }
   ],
   "source": [
    "p_f_rate_df.loc[p_f_rate_df['index'] == 'N', '판정']"
   ]
  },
  {
   "cell_type": "code",
   "execution_count": 231,
   "metadata": {},
   "outputs": [
    {
     "data": {
      "text/plain": [
       "0.10286109829257037"
      ]
     },
     "execution_count": 231,
     "metadata": {},
     "output_type": "execute_result"
    }
   ],
   "source": [
    "p_f_rate_df.loc[p_f_rate_df['index'] == 'N', '판정'].values[0]"
   ]
  },
  {
   "cell_type": "code",
   "execution_count": 232,
   "metadata": {},
   "outputs": [
    {
     "data": {
      "text/plain": [
       "0.10286109829257037"
      ]
     },
     "execution_count": 232,
     "metadata": {},
     "output_type": "execute_result"
    }
   ],
   "source": [
    "p_f_rate"
   ]
  },
  {
   "cell_type": "code",
   "execution_count": 233,
   "metadata": {},
   "outputs": [
    {
     "data": {
      "text/plain": [
       "Y    1.0\n",
       "Name: 판정, dtype: float64"
      ]
     },
     "execution_count": 233,
     "metadata": {},
     "output_type": "execute_result"
    }
   ],
   "source": [
    "one_sample2['판정'].value_counts(normalize=True)"
   ]
  },
  {
   "cell_type": "code",
   "execution_count": 234,
   "metadata": {},
   "outputs": [],
   "source": [
    "if one_sample2['판정'].value_counts(normalize=True).shape[0] == 1:\n",
    "    p_f_rate = 0\n",
    "else:\n",
    "    p_f_rate = one_sample2['판정'].value_counts(normalize=True).loc[one_sample2['판정'].value_counts(normalize=True)['index'] == 'N', '판정'].values[0]"
   ]
  },
  {
   "cell_type": "code",
   "execution_count": 235,
   "metadata": {},
   "outputs": [
    {
     "data": {
      "text/plain": [
       "0"
      ]
     },
     "execution_count": 235,
     "metadata": {},
     "output_type": "execute_result"
    }
   ],
   "source": [
    "p_f_rate"
   ]
  },
  {
   "attachments": {},
   "cell_type": "markdown",
   "metadata": {},
   "source": [
    "### total 계산"
   ]
  },
  {
   "cell_type": "code",
   "execution_count": 410,
   "metadata": {},
   "outputs": [
    {
     "data": {
      "text/plain": [
       "204"
      ]
     },
     "execution_count": 410,
     "metadata": {},
     "output_type": "execute_result"
    }
   ],
   "source": [
    "uni2 = d_total2['배출가스인증번호'].unique()\n",
    "len(uni2)"
   ]
  },
  {
   "cell_type": "code",
   "execution_count": 411,
   "metadata": {},
   "outputs": [
    {
     "name": "stderr",
     "output_type": "stream",
     "text": [
      "100%|██████████| 204/204 [07:49<00:00,  2.30s/it]\n"
     ]
    }
   ],
   "source": [
    "emno_list = [] # 배출가스인증번호 저장 리스트\n",
    "car_num_list = []\n",
    "total_point_list = [] # total 점수 저장 리스트\n",
    "gas_mea_value_p = re.compile('\\d[.]\\d') # 값이 소수형인지 확인\n",
    "\n",
    "for one in tqdm(uni2):\n",
    "    btemp = d_total2[d_total2['배출가스인증번호'] == one].reset_index(drop=True)\n",
    "    # 1개의 배출가스 인증번호에 대한 처리 테스트\n",
    "    g_mea_list = [] # 샘플 1개에 대한 측정치 저장 리스트\n",
    "    p_f_list = [] # 샘플 1개에 대한 판정 저장 리스트\n",
    "    for i in range(btemp.shape[0]):\n",
    "        temp = btemp.loc[i]\n",
    "\n",
    "        test_method = temp['검사방법'] # 변수 생성(검사방법)\n",
    "\n",
    "        product_date = temp['차량제작일자']# 변수 생성(차량제작일자)\n",
    "\n",
    "        test_date = temp['검사판정시간'] # 변수 생성(검사판정시간)\n",
    "\n",
    "        total_weight = temp['총중량'] # 변수 생성(총중량)\n",
    "\n",
    "        ci = temp['차종등록정보'] # 승용, 승합, 화물, 특수\n",
    "        ci2 = temp['차종유형'] # 경형, 소형, 중형, 대형\n",
    "\n",
    "        # 변수 생성(측정치, 문자열)\n",
    "        sv1 = str(temp['무부하매연측정치1'])\n",
    "        sv2 = str(temp['무부하매연측정치2'])\n",
    "        sv3 = str(temp['무부하매연측정치3'])\n",
    "        sv4 = str(temp['무부하매연측정치4'])\n",
    "        sv5 = str(temp['무부하매연측정치5'])\n",
    "        sv6 = str(temp['무부하매연측정치6'])\n",
    "\n",
    "        # 변수 생성(측정치, 문자열)\n",
    "        v1 = temp['무부하매연측정치1']\n",
    "        v2 = temp['무부하매연측정치2']\n",
    "        v3 = temp['무부하매연측정치3']\n",
    "        v4 = temp['무부하매연측정치4']\n",
    "        v5 = temp['무부하매연측정치5']\n",
    "        v6 = temp['무부하매연측정치6']\n",
    "\n",
    "        # 변수 생성(판정)\n",
    "        f1 = temp['무부하매연판정1']\n",
    "        f2 = temp['무부하매연판정2']\n",
    "        f3 = temp['무부하매연판정3']\n",
    "        f4 = temp['무부하매연판정4']\n",
    "        f5 = temp['무부하매연판정5']\n",
    "        f6 = temp['무부하매연판정6']\n",
    "        \n",
    "        # 검사판정시간\n",
    "        date = temp['검사판정시간']\n",
    "\n",
    "        # 평균 매연, 불합격률 계산\n",
    "        if test_method == '부하검사(LUG DOWN)': # 1번째 측정치, 판정치 사용\n",
    "            if sv1 == 'nan' or not gas_mea_value_p.search(sv1) or f1 not in ['Y', 'N']: # 1번째 값 부재\n",
    "                # print('1번째 값 부재')\n",
    "                g = np.nan\n",
    "                f = np.nan\n",
    "            else: # 1번째 값 존재\n",
    "                g = v1\n",
    "                f = f1\n",
    "\n",
    "        elif test_method == '부하검사(KD-147)': # 1번째 측정치, 판정치 사용\n",
    "            if sv1 == 'nan' or not gas_mea_value_p.search(sv1) or f1 not in ['Y', 'N']: # 1번째 값 부재\n",
    "                # print('1번째 값 부재')\n",
    "                g = np.nan\n",
    "                f = np.nan\n",
    "            else: # 1번째 값 존재\n",
    "                g = v1\n",
    "                f = f1\n",
    "        else: # 무부하 검사\n",
    "            if sv6 == 'nan' or not gas_mea_value_p.search(sv6) or f6 not in ['Y', 'N']: # 6번째 값 부재\n",
    "                # print('6번째 값 부재')\n",
    "                if sv5 == 'nan' or not gas_mea_value_p.search(sv5) or f5 not in ['Y', 'N']: # 5번째 값 부재\n",
    "                    # print('5번째 값 부재')\n",
    "                    if sv4 == 'nan' or not gas_mea_value_p.search(sv4) or f4 not in ['Y', 'N']: # 4번째 값 부재\n",
    "                        # print('4번째 값 부재')\n",
    "                        if sv3 == 'nan' or not gas_mea_value_p.search(sv3) or f3 not in ['Y', 'N']: # 3번째 값 부재\n",
    "                            # print('3번째 값 부재')\n",
    "                            if sv1 == 'nan' or not gas_mea_value_p.search(sv1) or f1 not in ['Y', 'N']: # 1번째 값 부재\n",
    "                                # print('1번째 값 부재')\n",
    "                                g = np.nan\n",
    "                                f = np.nan\n",
    "                            else: # 1번째 값 존재\n",
    "                                g = v1\n",
    "                                f = f1                                \n",
    "                        else: # 3번째 값 존재\n",
    "                            g = temp[['무부하매연측정치1', '무부하매연측정치2', '무부하매연측정치3']].mean()\n",
    "                            f = f3\n",
    "                    else: # 4번째 값 존재\n",
    "                        g = temp[['무부하매연측정치2', '무부하매연측정치3', '무부하매연측정치4']].mean()\n",
    "                        f = f4\n",
    "                else: # 5번째 값 존재\n",
    "                    g = temp[['무부하매연측정치3', '무부하매연측정치4', '무부하매연측정치5']].mean()\n",
    "                    f = f5\n",
    "            else: # 6번째 값 존재\n",
    "                g = temp[['무부하매연측정치4', '무부하매연측정치5', '무부하매연측정치6']].mean()\n",
    "                f = f6\n",
    "\n",
    "        g_mea_list.append(g)\n",
    "        p_f_list.append(f)\n",
    "\n",
    "    # df 생성\n",
    "    one_sample = pd.DataFrame({'측정치':g_mea_list, '판정':p_f_list})\n",
    "        \n",
    "    # Grade 계산\n",
    "    m = one_sample['측정치'].mean()\n",
    "    p_f_rate_df = one_sample['판정'].value_counts(normalize=True).reset_index()\n",
    "    if p_f_rate_df.shape[0] == 1:\n",
    "        p_f_rate = 0\n",
    "    else:\n",
    "        p_f_rate = p_f_rate_df.loc[p_f_rate_df['index'] == 'N', '판정'].values[0]\n",
    "\n",
    "    for i in range(btemp.shape[0]): # 배인번호 1의 df의 한줄씩 처리\n",
    "        car_num = btemp.loc[i, '차대번호'] # 샘플의 차대번호\n",
    "        temp = btemp.loc[i]\n",
    "\n",
    "        test_method = temp['검사방법'] # 변수 생성(검사방법)\n",
    "\n",
    "        product_date = temp['차량제작일자']# 변수 생성(차량제작일자)\n",
    "\n",
    "        test_date = temp['검사판정시간'] # 변수 생성(검사판정시간)\n",
    "\n",
    "        total_weight = temp['총중량'] # 변수 생성(총중량)\n",
    "\n",
    "        ci = temp['차종등록정보'] # 승용, 승합, 화물, 특수\n",
    "        ci2 = temp['차종유형'] # 경형, 소형, 중형, 대형\n",
    "\n",
    "        # 변수 생성(측정치, 문자열)\n",
    "        sv1 = str(temp['무부하매연측정치1'])\n",
    "\n",
    "        sv3 = str(temp['무부하매연측정치3'])\n",
    "        sv4 = str(temp['무부하매연측정치4'])\n",
    "        sv5 = str(temp['무부하매연측정치5'])\n",
    "        sv6 = str(temp['무부하매연측정치6'])\n",
    "\n",
    "        # 변수 생성(판정)\n",
    "        f1 = temp['무부하매연판정1']\n",
    "\n",
    "        f3 = temp['무부하매연판정3']\n",
    "        f4 = temp['무부하매연판정4']\n",
    "        f5 = temp['무부하매연판정5']\n",
    "        f6 = temp['무부하매연판정6']\n",
    "        \n",
    "        # 검사판정시간\n",
    "        date = temp['검사판정시간']\n",
    "\n",
    "        if test_method == '부하검사(LUG DOWN)': # 1번째 측정치, 판정치 사용\n",
    "            if sv1 == 'nan' or not gas_mea_value_p.search(sv1) or f1 not in ['Y', 'N']: # 1번째 값 부재\n",
    "                # print('1번째 값 부재')\n",
    "                std = 0 \n",
    "            else: # 1번째 값 존재\n",
    "                # 매연 허용치\n",
    "                if np.isnan(total_weight):\n",
    "                    std = 0\n",
    "                elif total_weight <= 5500:\n",
    "                    if np.isnan(product_date):\n",
    "                        std = 0\n",
    "                    elif product_date <= 19951231:\n",
    "                        std = 70\n",
    "                    elif 19960101 <= product_date <= 20001231:\n",
    "                        std = 60\n",
    "                    elif 20010101 <= product_date <= 20071231:\n",
    "                        std = 50\n",
    "                    elif 20080101 <= product_date:\n",
    "                        std = 20\n",
    "                else:\n",
    "                    if np.isnan(product_date):\n",
    "                        std = 0\n",
    "                    elif product_date <= 19951231:\n",
    "                        std = 50\n",
    "                    elif 19960101 <= product_date <= 20001231:\n",
    "                        std = 45\n",
    "                    elif 20010101 <= product_date <= 20071231:\n",
    "                        std = 30\n",
    "                    elif 20080101 <= product_date:\n",
    "                        std = 15\n",
    "\n",
    "        elif test_method == '부하검사(KD-147)': # 1번째 측정치, 판정치 사용\n",
    "            if sv1 == 'nan' or not gas_mea_value_p.search(sv1) or f1 not in ['Y', 'N']: # 1번째 값 부재\n",
    "                # print('1번째 값 부재')\n",
    "                std = 0\n",
    "            else: # 1번째 값 존재\n",
    "                # 매연 허용치\n",
    "                if np.isnan(product_date):\n",
    "                    std = 0\n",
    "                elif product_date < 19921231:\n",
    "                    if str(test_date) == 'nan':\n",
    "                        std = 0\n",
    "                    elif test_date <= '20111231':\n",
    "                        std = 50\n",
    "                    else:\n",
    "                        std = 45\n",
    "                elif 19930101 <= product_date <= 19951231:\n",
    "                    if str(test_date) == 'nan':\n",
    "                        std = 0\n",
    "                    elif test_date <= '20111231':\n",
    "                        std = 45\n",
    "                    else:\n",
    "                        std = 40\n",
    "                elif 19960101 <= product_date <= 20001231:\n",
    "                    if str(test_date) == 'nan':\n",
    "                        std = 0\n",
    "                    elif test_date <= '20111231':\n",
    "                        std = 40\n",
    "                    else:\n",
    "                        std = 35\n",
    "                elif 20010101 <= product_date <= 20071231:\n",
    "                    if str(test_date) == 'nan':\n",
    "                        std = 0\n",
    "                    elif test_date <= '20111231':\n",
    "                        std = 30\n",
    "                    else:\n",
    "                        std = 25\n",
    "                elif 20080101 <= product_date <= 20160831:\n",
    "                    if str(test_date) == 'nan':\n",
    "                        std = 0\n",
    "                    elif test_date <= '20111231':\n",
    "                        std = 20\n",
    "                    else:\n",
    "                        std = 15\n",
    "                elif 20160901 <= product_date <= 20171231:\n",
    "                    if str(test_date) == 'nan':\n",
    "                        std = 0\n",
    "                    elif test_date <= '20111231':\n",
    "                        std = 0\n",
    "                    else:\n",
    "                        std = 8\n",
    "                elif 20180101 <= product_date:\n",
    "                    if str(test_date) == 'nan':\n",
    "                        std = 0\n",
    "                    elif test_date <= '20111231':\n",
    "                        std = 0\n",
    "                    else:\n",
    "                        std = 8\n",
    "\n",
    "        else: # 무부하 검사\n",
    "            if sv6 == 'nan' or not gas_mea_value_p.search(sv6) or f6 not in ['Y', 'N']: # 6번째 값 부재\n",
    "                # print('6번째 값 부재')\n",
    "                if sv5 == 'nan' or not gas_mea_value_p.search(sv5) or f5 not in ['Y', 'N']: # 5번째 값 부재\n",
    "                    # print('5번째 값 부재')\n",
    "                    if sv4 == 'nan' or not gas_mea_value_p.search(sv4) or f4 not in ['Y', 'N']: # 4번째 값 부재\n",
    "                        # print('4번째 값 부재')\n",
    "                        if sv3 == 'nan' or not gas_mea_value_p.search(sv3) or f3 not in ['Y', 'N']: # 3번째 값 부재\n",
    "                            # print('3번째 값 부재')\n",
    "                            if sv1 == 'nan' or not gas_mea_value_p.search(sv1) or f1 not in ['Y', 'N']: # 1번째 값 부재\n",
    "                                # print('1번째 값 부재')\n",
    "                                std = 0\n",
    "                            else: # 1번째 값 존재\n",
    "                                # 매연 허용치\n",
    "                                if str(ci) == 'nan' or str(ci2) == 'nan':\n",
    "                                    std = 0\n",
    "                                elif ci == '경형' or ci2 == '승용':\n",
    "                                    if np.isnan(product_date):\n",
    "                                        std = 0\n",
    "                                    elif product_date < 19951231:\n",
    "                                        std = 60\n",
    "                                    elif 19960101 <= product_date <= 20001231:\n",
    "                                        std = 55\n",
    "                                    elif 20010101 <= product_date <= 20031231:\n",
    "                                        std = 45\n",
    "                                    elif 20040101 <= product_date <= 20071231:\n",
    "                                        std = 40\n",
    "                                    elif 20080101 <= product_date <= 20160831:\n",
    "                                        std = 20\n",
    "                                    elif 20160901 <= product_date:\n",
    "                                        std = 10\n",
    "                                else:\n",
    "                                    if ci2 == '소형':\n",
    "                                        if np.isnan(product_date):\n",
    "                                            std = 0\n",
    "                                        elif product_date < 19951231:\n",
    "                                            std = 60\n",
    "                                        elif 19960101 <= product_date <= 20001231:\n",
    "                                            std = 55\n",
    "                                        elif 20010101 <= product_date <= 20031231:\n",
    "                                            std = 45\n",
    "                                        elif 20040101 <= product_date <= 20071231:\n",
    "                                            std = 40\n",
    "                                        elif 20080101 <= product_date <= 20160831:\n",
    "                                            std = 20\n",
    "                                        elif 20160901 <= product_date:\n",
    "                                            std = 10\n",
    "                                    elif ci2 == '중형':\n",
    "                                        if np.isnan(product_date):\n",
    "                                            std = 0\n",
    "                                        elif product_date < 19921231:\n",
    "                                            std = 60\n",
    "                                        elif 19930101 <= product_date <= 19951231:\n",
    "                                            std = 55\n",
    "                                        elif 19960101 <= product_date <= 19971231:\n",
    "                                            std = 45\n",
    "                                        elif 19980101 <= product_date <= 20001231: # 시내버스(40), 그 외(45) 조건 필요\n",
    "                                            std = 45\n",
    "                                        elif 20010101 <= product_date <= 20040930:\n",
    "                                            std = 45\n",
    "                                        elif 20041001 <= product_date <= 20071231:\n",
    "                                            std = 40\n",
    "                                        elif 20080101 <= product_date <= 20160831:\n",
    "                                            std = 20\n",
    "                                        elif 20160901 <= product_date:\n",
    "                                            std = 10\n",
    "                                    elif ci2 == '대형':\n",
    "                                        if np.isnan(product_date):\n",
    "                                            std = 0\n",
    "                                        elif product_date < 19921231:\n",
    "                                            std = 60\n",
    "                                        elif 19930101 <= product_date <= 19951231:\n",
    "                                            std = 55\n",
    "                                        elif 19960101 <= product_date <= 19971231:\n",
    "                                            std = 45\n",
    "                                        elif 19980101 <= product_date <= 20001231: # 시내버스(40), 그 외(45) 조건 필요\n",
    "                                            std = 45\n",
    "                                        elif 20010101 <= product_date <= 20040930:\n",
    "                                            std = 45\n",
    "                                        elif 20041001 <= product_date <= 20071231:\n",
    "                                            std = 40\n",
    "                                        elif 20080101 <= product_date:\n",
    "                                            std = 20\n",
    "                                    \n",
    "                        else: # 3번째 값 존재\n",
    "                            # 매연 허용치\n",
    "                            if str(ci) == 'nan' or str(ci2) == 'nan':\n",
    "                                std = 0\n",
    "                            elif ci == '경형' or ci2 == '승용':\n",
    "                                if np.isnan(product_date):\n",
    "                                    std = 0\n",
    "                                elif product_date < 19951231:\n",
    "                                    std = 60\n",
    "                                elif 19960101 <= product_date <= 20001231:\n",
    "                                    std = 55\n",
    "                                elif 20010101 <= product_date <= 20031231:\n",
    "                                    std = 45\n",
    "                                elif 20040101 <= product_date <= 20071231:\n",
    "                                    std = 40\n",
    "                                elif 20080101 <= product_date <= 20160831:\n",
    "                                    std = 20\n",
    "                                elif 20160901 <= product_date:\n",
    "                                    std = 10\n",
    "                            else:\n",
    "                                if ci2 == '소형':\n",
    "                                    if np.isnan(product_date):\n",
    "                                        std = 0\n",
    "                                    elif product_date < 19951231:\n",
    "                                        std = 60\n",
    "                                    elif 19960101 <= product_date <= 20001231:\n",
    "                                        std = 55\n",
    "                                    elif 20010101 <= product_date <= 20031231:\n",
    "                                        std = 45\n",
    "                                    elif 20040101 <= product_date <= 20071231:\n",
    "                                        std = 40\n",
    "                                    elif 20080101 <= product_date <= 20160831:\n",
    "                                        std = 20\n",
    "                                    elif 20160901 <= product_date:\n",
    "                                        std = 10\n",
    "                                elif ci2 == '중형':\n",
    "                                    if np.isnan(product_date):\n",
    "                                        std = 0\n",
    "                                    elif product_date < 19921231:\n",
    "                                        std = 60\n",
    "                                    elif 19930101 <= product_date <= 19951231:\n",
    "                                        std = 55\n",
    "                                    elif 19960101 <= product_date <= 19971231:\n",
    "                                        std = 45\n",
    "                                    elif 19980101 <= product_date <= 20001231: # 시내버스(40), 그 외(45) 조건 필요\n",
    "                                        std = 45\n",
    "                                    elif 20010101 <= product_date <= 20040930:\n",
    "                                        std = 45\n",
    "                                    elif 20041001 <= product_date <= 20071231:\n",
    "                                        std = 40\n",
    "                                    elif 20080101 <= product_date <= 20160831:\n",
    "                                        std = 20\n",
    "                                    elif 20160901 <= product_date:\n",
    "                                        std = 10\n",
    "                                elif ci2 == '대형':\n",
    "                                    if np.isnan(product_date):\n",
    "                                        std = 0\n",
    "                                    elif product_date < 19921231:\n",
    "                                        std = 60\n",
    "                                    elif 19930101 <= product_date <= 19951231:\n",
    "                                        std = 55\n",
    "                                    elif 19960101 <= product_date <= 19971231:\n",
    "                                        std = 45\n",
    "                                    elif 19980101 <= product_date <= 20001231: # 시내버스(40), 그 외(45) 조건 필요\n",
    "                                        std = 45\n",
    "                                    elif 20010101 <= product_date <= 20040930:\n",
    "                                        std = 45\n",
    "                                    elif 20041001 <= product_date <= 20071231:\n",
    "                                        std = 40\n",
    "                                    elif 20080101 <= product_date:\n",
    "                                        std = 20\n",
    "                    else: # 4번째 값 존재\n",
    "                        # 매연 허용치\n",
    "                        if str(ci) == 'nan' or str(ci2) == 'nan':\n",
    "                            std = 0\n",
    "                        elif ci == '경형' or ci2 == '승용':\n",
    "                            if np.isnan(product_date):\n",
    "                                std = 0\n",
    "                            elif product_date < 19951231:\n",
    "                                std = 60\n",
    "                            elif 19960101 <= product_date <= 20001231:\n",
    "                                std = 55\n",
    "                            elif 20010101 <= product_date <= 20031231:\n",
    "                                std = 45\n",
    "                            elif 20040101 <= product_date <= 20071231:\n",
    "                                std = 40\n",
    "                            elif 20080101 <= product_date <= 20160831:\n",
    "                                std = 20\n",
    "                            elif 20160901 <= product_date:\n",
    "                                std = 10\n",
    "                        else:\n",
    "                            if ci2 == '소형':\n",
    "                                if np.isnan(product_date):\n",
    "                                    std = 0\n",
    "                                elif product_date < 19951231:\n",
    "                                    std = 60\n",
    "                                elif 19960101 <= product_date <= 20001231:\n",
    "                                    std = 55\n",
    "                                elif 20010101 <= product_date <= 20031231:\n",
    "                                    std = 45\n",
    "                                elif 20040101 <= product_date <= 20071231:\n",
    "                                    std = 40\n",
    "                                elif 20080101 <= product_date <= 20160831:\n",
    "                                    std = 20\n",
    "                                elif 20160901 <= product_date:\n",
    "                                    std = 10\n",
    "                            elif ci2 == '중형':\n",
    "                                if np.isnan(product_date):\n",
    "                                    std = 0\n",
    "                                elif product_date < 19921231:\n",
    "                                    std = 60\n",
    "                                elif 19930101 <= product_date <= 19951231:\n",
    "                                    std = 55\n",
    "                                elif 19960101 <= product_date <= 19971231:\n",
    "                                    std = 45\n",
    "                                elif 19980101 <= product_date <= 20001231: # 시내버스(40), 그 외(45) 조건 필요\n",
    "                                    std = 45\n",
    "                                elif 20010101 <= product_date <= 20040930:\n",
    "                                    std = 45\n",
    "                                elif 20041001 <= product_date <= 20071231:\n",
    "                                    std = 40\n",
    "                                elif 20080101 <= product_date <= 20160831:\n",
    "                                    std = 20\n",
    "                                elif 20160901 <= product_date:\n",
    "                                    std = 10\n",
    "                            elif ci2 == '대형':\n",
    "                                if np.isnan(product_date):\n",
    "                                    std = 0\n",
    "                                elif product_date < 19921231:\n",
    "                                    std = 60\n",
    "                                elif 19930101 <= product_date <= 19951231:\n",
    "                                    std = 55\n",
    "                                elif 19960101 <= product_date <= 19971231:\n",
    "                                    std = 45\n",
    "                                elif 19980101 <= product_date <= 20001231: # 시내버스(40), 그 외(45) 조건 필요\n",
    "                                    std = 45\n",
    "                                elif 20010101 <= product_date <= 20040930:\n",
    "                                    std = 45\n",
    "                                elif 20041001 <= product_date <= 20071231:\n",
    "                                    std = 40\n",
    "                                elif 20080101 <= product_date:\n",
    "                                    std = 20\n",
    "                else: # 5번째 값 존재\n",
    "                    # 매연 허용치\n",
    "                    if str(ci) == 'nan' or str(ci2) == 'nan':\n",
    "                        std = 0\n",
    "                    elif ci == '경형' or ci2 == '승용':\n",
    "                        if np.isnan(product_date):\n",
    "                            std = 0\n",
    "                        elif product_date < 19951231:\n",
    "                            std = 60\n",
    "                        elif 19960101 <= product_date <= 20001231:\n",
    "                            std = 55\n",
    "                        elif 20010101 <= product_date <= 20031231:\n",
    "                            std = 45\n",
    "                        elif 20040101 <= product_date <= 20071231:\n",
    "                            std = 40\n",
    "                        elif 20080101 <= product_date <= 20160831:\n",
    "                            std = 20\n",
    "                        elif 20160901 <= product_date:\n",
    "                            std = 10\n",
    "                    else:\n",
    "                        if ci2 == '소형':\n",
    "                            if np.isnan(product_date):\n",
    "                                std = 0\n",
    "                            elif product_date < 19951231:\n",
    "                                std = 60\n",
    "                            elif 19960101 <= product_date <= 20001231:\n",
    "                                std = 55\n",
    "                            elif 20010101 <= product_date <= 20031231:\n",
    "                                std = 45\n",
    "                            elif 20040101 <= product_date <= 20071231:\n",
    "                                std = 40\n",
    "                            elif 20080101 <= product_date <= 20160831:\n",
    "                                std = 20\n",
    "                            elif 20160901 <= product_date:\n",
    "                                std = 10\n",
    "                        elif ci2 == '중형':\n",
    "                            if np.isnan(product_date):\n",
    "                                std = 0\n",
    "                            elif product_date < 19921231:\n",
    "                                std = 60\n",
    "                            elif 19930101 <= product_date <= 19951231:\n",
    "                                std = 55\n",
    "                            elif 19960101 <= product_date <= 19971231:\n",
    "                                std = 45\n",
    "                            elif 19980101 <= product_date <= 20001231: # 시내버스(40), 그 외(45) 조건 필요\n",
    "                                std = 45\n",
    "                            elif 20010101 <= product_date <= 20040930:\n",
    "                                std = 45\n",
    "                            elif 20041001 <= product_date <= 20071231:\n",
    "                                std = 40\n",
    "                            elif 20080101 <= product_date <= 20160831:\n",
    "                                std = 20\n",
    "                            elif 20160901 <= product_date:\n",
    "                                std = 10\n",
    "                        elif ci2 == '대형':\n",
    "                            if np.isnan(product_date):\n",
    "                                std = 0\n",
    "                            elif product_date < 19921231:\n",
    "                                std = 60\n",
    "                            elif 19930101 <= product_date <= 19951231:\n",
    "                                std = 55\n",
    "                            elif 19960101 <= product_date <= 19971231:\n",
    "                                std = 45\n",
    "                            elif 19980101 <= product_date <= 20001231: # 시내버스(40), 그 외(45) 조건 필요\n",
    "                                std = 45\n",
    "                            elif 20010101 <= product_date <= 20040930:\n",
    "                                std = 45\n",
    "                            elif 20041001 <= product_date <= 20071231:\n",
    "                                std = 40\n",
    "                            elif 20080101 <= product_date:\n",
    "                                std = 20\n",
    "            else: # 6번째 값 존재\n",
    "                # 매연 허용치\n",
    "                if str(ci) == 'nan' or str(ci2) == 'nan':\n",
    "                    std = 0\n",
    "                elif ci == '경형' or ci2 == '승용':\n",
    "                    if np.isnan(product_date):\n",
    "                        std = 0\n",
    "                    elif product_date < 19951231:\n",
    "                        std = 60\n",
    "                    elif 19960101 <= product_date <= 20001231:\n",
    "                        std = 55\n",
    "                    elif 20010101 <= product_date <= 20031231:\n",
    "                        std = 45\n",
    "                    elif 20040101 <= product_date <= 20071231:\n",
    "                        std = 40\n",
    "                    elif 20080101 <= product_date <= 20160831:\n",
    "                        std = 20\n",
    "                    elif 20160901 <= product_date:\n",
    "                        std = 10\n",
    "                else:\n",
    "                    if ci2 == '소형':\n",
    "                        if np.isnan(product_date):\n",
    "                            std = 0\n",
    "                        elif product_date < 19951231:\n",
    "                            std = 60\n",
    "                        elif 19960101 <= product_date <= 20001231:\n",
    "                            std = 55\n",
    "                        elif 20010101 <= product_date <= 20031231:\n",
    "                            std = 45\n",
    "                        elif 20040101 <= product_date <= 20071231:\n",
    "                            std = 40\n",
    "                        elif 20080101 <= product_date <= 20160831:\n",
    "                            std = 20\n",
    "                        elif 20160901 <= product_date:\n",
    "                            std = 10\n",
    "                    elif ci2 == '중형':\n",
    "                        if np.isnan(product_date):\n",
    "                            std = 0\n",
    "                        elif product_date < 19921231:\n",
    "                            std = 60\n",
    "                        elif 19930101 <= product_date <= 19951231:\n",
    "                            std = 55\n",
    "                        elif 19960101 <= product_date <= 19971231:\n",
    "                            std = 45\n",
    "                        elif 19980101 <= product_date <= 20001231: # 시내버스(40), 그 외(45) 조건 필요\n",
    "                            std = 45\n",
    "                        elif 20010101 <= product_date <= 20040930:\n",
    "                            std = 45\n",
    "                        elif 20041001 <= product_date <= 20071231:\n",
    "                            std = 40\n",
    "                        elif 20080101 <= product_date <= 20160831:\n",
    "                            std = 20\n",
    "                        elif 20160901 <= product_date:\n",
    "                            std = 10\n",
    "                    elif ci2 == '대형':\n",
    "                        if np.isnan(product_date):\n",
    "                            std = 0\n",
    "                        elif product_date < 19921231:\n",
    "                            std = 60\n",
    "                        elif 19930101 <= product_date <= 19951231:\n",
    "                            std = 55\n",
    "                        elif 19960101 <= product_date <= 19971231:\n",
    "                            std = 45\n",
    "                        elif 19980101 <= product_date <= 20001231: # 시내버스(40), 그 외(45) 조건 필요\n",
    "                            std = 45\n",
    "                        elif 20010101 <= product_date <= 20040930:\n",
    "                            std = 45\n",
    "                        elif 20041001 <= product_date <= 20071231:\n",
    "                            std = 40\n",
    "                        elif 20080101 <= product_date:\n",
    "                            std = 20\n",
    "\n",
    "        # Total 값 계산\n",
    "        if std == 0:\n",
    "            gas_point = 100 - m*100\n",
    "        else:\n",
    "            gas_point = 100 - m*100/std\n",
    "\n",
    "        fail_point = 100 - p_f_rate * 100\n",
    "        t = gas_point*0.9 + fail_point*0.1\n",
    "\n",
    "        emno_list.append(one)\n",
    "        car_num_list.append(car_num)\n",
    "        total_point_list.append(t)"
   ]
  },
  {
   "cell_type": "code",
   "execution_count": 412,
   "metadata": {},
   "outputs": [],
   "source": [
    "emno_total_df = pd.DataFrame({'차대번호':car_num_list, '배출가스인증번호':emno_list, 'total':total_point_list})"
   ]
  },
  {
   "cell_type": "code",
   "execution_count": 413,
   "metadata": {},
   "outputs": [
    {
     "data": {
      "text/plain": [
       "(1132386, 28)"
      ]
     },
     "execution_count": 413,
     "metadata": {},
     "output_type": "execute_result"
    }
   ],
   "source": [
    "d_total2.shape"
   ]
  },
  {
   "cell_type": "code",
   "execution_count": 414,
   "metadata": {},
   "outputs": [
    {
     "data": {
      "text/plain": [
       "0"
      ]
     },
     "execution_count": 414,
     "metadata": {},
     "output_type": "execute_result"
    }
   ],
   "source": [
    "d_total2['배출가스인증번호'].isnull().sum()"
   ]
  },
  {
   "cell_type": "code",
   "execution_count": 415,
   "metadata": {},
   "outputs": [
    {
     "data": {
      "text/html": [
       "<div>\n",
       "<style scoped>\n",
       "    .dataframe tbody tr th:only-of-type {\n",
       "        vertical-align: middle;\n",
       "    }\n",
       "\n",
       "    .dataframe tbody tr th {\n",
       "        vertical-align: top;\n",
       "    }\n",
       "\n",
       "    .dataframe thead th {\n",
       "        text-align: right;\n",
       "    }\n",
       "</style>\n",
       "<table border=\"1\" class=\"dataframe\">\n",
       "  <thead>\n",
       "    <tr style=\"text-align: right;\">\n",
       "      <th></th>\n",
       "      <th>차대번호</th>\n",
       "      <th>차량제작일자</th>\n",
       "      <th>배출가스인증번호</th>\n",
       "      <th>총중량</th>\n",
       "      <th>검사방법</th>\n",
       "      <th>차종유형</th>\n",
       "      <th>차종등록정보</th>\n",
       "      <th>연료</th>\n",
       "      <th>무부하매연측정치1</th>\n",
       "      <th>무부하매연허용치1</th>\n",
       "      <th>...</th>\n",
       "      <th>무부하매연허용치4</th>\n",
       "      <th>무부하매연판정4</th>\n",
       "      <th>무부하매연측정치5</th>\n",
       "      <th>무부하매연허용치5</th>\n",
       "      <th>무부하매연판정5</th>\n",
       "      <th>무부하매연측정치6</th>\n",
       "      <th>무부하매연허용치6</th>\n",
       "      <th>무부하매연판정6</th>\n",
       "      <th>검사판정시간</th>\n",
       "      <th>정기정밀</th>\n",
       "    </tr>\n",
       "  </thead>\n",
       "  <tbody>\n",
       "    <tr>\n",
       "      <th>1312</th>\n",
       "      <td>1J4GAE4509L702033</td>\n",
       "      <td>20081127.0</td>\n",
       "      <td>7MY-KM-14-63</td>\n",
       "      <td>2245.0</td>\n",
       "      <td>부하검사(KD-147)</td>\n",
       "      <td>대형</td>\n",
       "      <td>승용</td>\n",
       "      <td>경유</td>\n",
       "      <td>0.0</td>\n",
       "      <td>15.0</td>\n",
       "      <td>...</td>\n",
       "      <td>NaN</td>\n",
       "      <td>NaN</td>\n",
       "      <td>NaN</td>\n",
       "      <td>NaN</td>\n",
       "      <td>NaN</td>\n",
       "      <td>NaN</td>\n",
       "      <td>NaN</td>\n",
       "      <td>NaN</td>\n",
       "      <td>20201116 14:27:44</td>\n",
       "      <td>정밀</td>\n",
       "    </tr>\n",
       "  </tbody>\n",
       "</table>\n",
       "<p>1 rows × 28 columns</p>\n",
       "</div>"
      ],
      "text/plain": [
       "                   차대번호      차량제작일자      배출가스인증번호     총중량          검사방법 차종유형  \\\n",
       "1312  1J4GAE4509L702033  20081127.0  7MY-KM-14-63  2245.0  부하검사(KD-147)   대형   \n",
       "\n",
       "     차종등록정보  연료  무부하매연측정치1  무부하매연허용치1  ... 무부하매연허용치4  무부하매연판정4  무부하매연측정치5  \\\n",
       "1312     승용  경유        0.0       15.0  ...       NaN       NaN        NaN   \n",
       "\n",
       "     무부하매연허용치5  무부하매연판정5  무부하매연측정치6 무부하매연허용치6  무부하매연판정6             검사판정시간  \\\n",
       "1312       NaN       NaN        NaN       NaN       NaN  20201116 14:27:44   \n",
       "\n",
       "     정기정밀  \n",
       "1312   정밀  \n",
       "\n",
       "[1 rows x 28 columns]"
      ]
     },
     "execution_count": 415,
     "metadata": {},
     "output_type": "execute_result"
    }
   ],
   "source": [
    "d_total2[d_total2['차대번호'] == '1J4GAE4509L702033']"
   ]
  },
  {
   "cell_type": "code",
   "execution_count": 416,
   "metadata": {},
   "outputs": [
    {
     "data": {
      "text/html": [
       "<div>\n",
       "<style scoped>\n",
       "    .dataframe tbody tr th:only-of-type {\n",
       "        vertical-align: middle;\n",
       "    }\n",
       "\n",
       "    .dataframe tbody tr th {\n",
       "        vertical-align: top;\n",
       "    }\n",
       "\n",
       "    .dataframe thead th {\n",
       "        text-align: right;\n",
       "    }\n",
       "</style>\n",
       "<table border=\"1\" class=\"dataframe\">\n",
       "  <thead>\n",
       "    <tr style=\"text-align: right;\">\n",
       "      <th></th>\n",
       "      <th>차대번호</th>\n",
       "      <th>배출가스인증번호</th>\n",
       "      <th>total</th>\n",
       "    </tr>\n",
       "  </thead>\n",
       "  <tbody>\n",
       "    <tr>\n",
       "      <th>0</th>\n",
       "      <td>1J4GAE4509L702033</td>\n",
       "      <td>7MY-KM-14-63</td>\n",
       "      <td>31.086414</td>\n",
       "    </tr>\n",
       "    <tr>\n",
       "      <th>1</th>\n",
       "      <td>1J4GAE4509L732357</td>\n",
       "      <td>7MY-KM-14-63</td>\n",
       "      <td>48.057658</td>\n",
       "    </tr>\n",
       "    <tr>\n",
       "      <th>2</th>\n",
       "      <td>1J4GAE4509L732360</td>\n",
       "      <td>7MY-KM-14-63</td>\n",
       "      <td>31.086414</td>\n",
       "    </tr>\n",
       "    <tr>\n",
       "      <th>3</th>\n",
       "      <td>1J4GAE4509L739096</td>\n",
       "      <td>7MY-KM-14-63</td>\n",
       "      <td>31.086414</td>\n",
       "    </tr>\n",
       "    <tr>\n",
       "      <th>4</th>\n",
       "      <td>1J4GAE4509L739101</td>\n",
       "      <td>7MY-KM-14-63</td>\n",
       "      <td>31.086414</td>\n",
       "    </tr>\n",
       "    <tr>\n",
       "      <th>...</th>\n",
       "      <td>...</td>\n",
       "      <td>...</td>\n",
       "      <td>...</td>\n",
       "    </tr>\n",
       "    <tr>\n",
       "      <th>1132381</th>\n",
       "      <td>YV2XZX0G1GA786606</td>\n",
       "      <td>FMY-VTK-14-2</td>\n",
       "      <td>96.142857</td>\n",
       "    </tr>\n",
       "    <tr>\n",
       "      <th>1132382</th>\n",
       "      <td>YV2XZX0G3GA787708</td>\n",
       "      <td>FMY-VTK-14-2</td>\n",
       "      <td>97.107143</td>\n",
       "    </tr>\n",
       "    <tr>\n",
       "      <th>1132383</th>\n",
       "      <td>YV2XZX0G4GA783070</td>\n",
       "      <td>FMY-VTK-14-2</td>\n",
       "      <td>97.107143</td>\n",
       "    </tr>\n",
       "    <tr>\n",
       "      <th>1132384</th>\n",
       "      <td>YV2XZX0G5GA787905</td>\n",
       "      <td>FMY-VTK-14-2</td>\n",
       "      <td>96.142857</td>\n",
       "    </tr>\n",
       "    <tr>\n",
       "      <th>1132385</th>\n",
       "      <td>YV2XZX0G9GA784554</td>\n",
       "      <td>FMY-VTK-14-2</td>\n",
       "      <td>96.142857</td>\n",
       "    </tr>\n",
       "  </tbody>\n",
       "</table>\n",
       "<p>1132386 rows × 3 columns</p>\n",
       "</div>"
      ],
      "text/plain": [
       "                      차대번호      배출가스인증번호      total\n",
       "0        1J4GAE4509L702033  7MY-KM-14-63  31.086414\n",
       "1        1J4GAE4509L732357  7MY-KM-14-63  48.057658\n",
       "2        1J4GAE4509L732360  7MY-KM-14-63  31.086414\n",
       "3        1J4GAE4509L739096  7MY-KM-14-63  31.086414\n",
       "4        1J4GAE4509L739101  7MY-KM-14-63  31.086414\n",
       "...                    ...           ...        ...\n",
       "1132381  YV2XZX0G1GA786606  FMY-VTK-14-2  96.142857\n",
       "1132382  YV2XZX0G3GA787708  FMY-VTK-14-2  97.107143\n",
       "1132383  YV2XZX0G4GA783070  FMY-VTK-14-2  97.107143\n",
       "1132384  YV2XZX0G5GA787905  FMY-VTK-14-2  96.142857\n",
       "1132385  YV2XZX0G9GA784554  FMY-VTK-14-2  96.142857\n",
       "\n",
       "[1132386 rows x 3 columns]"
      ]
     },
     "execution_count": 416,
     "metadata": {},
     "output_type": "execute_result"
    }
   ],
   "source": [
    "# 검사방법이 있는 데이터에서 배출가스인증번호 없는 데이터 제외\n",
    "# 1132386\n",
    "emno_total_df"
   ]
  },
  {
   "cell_type": "code",
   "execution_count": 417,
   "metadata": {},
   "outputs": [
    {
     "data": {
      "text/plain": [
       "차대번호        0\n",
       "배출가스인증번호    0\n",
       "total       0\n",
       "dtype: int64"
      ]
     },
     "execution_count": 417,
     "metadata": {},
     "output_type": "execute_result"
    }
   ],
   "source": [
    "emno_total_df.isnull().sum()"
   ]
  },
  {
   "cell_type": "code",
   "execution_count": 418,
   "metadata": {},
   "outputs": [
    {
     "data": {
      "text/plain": [
       "(1132386, 29)"
      ]
     },
     "execution_count": 418,
     "metadata": {},
     "output_type": "execute_result"
    }
   ],
   "source": [
    "d_total2_1 = d_total2.merge(emno_total_df, on=['차대번호', '배출가스인증번호'], how='left')\n",
    "d_total2_1.shape"
   ]
  },
  {
   "cell_type": "code",
   "execution_count": 419,
   "metadata": {},
   "outputs": [
    {
     "data": {
      "text/plain": [
       "Index(['차대번호', '차량제작일자', '배출가스인증번호', '총중량', '검사방법', '차종유형', '차종등록정보', '연료',\n",
       "       '무부하매연측정치1', '무부하매연허용치1', '무부하매연판정1', '무부하매연측정치2', '무부하매연허용치2',\n",
       "       '무부하매연판정2', '무부하매연측정치3', '무부하매연허용치3', '무부하매연판정3', '무부하매연측정치4',\n",
       "       '무부하매연허용치4', '무부하매연판정4', '무부하매연측정치5', '무부하매연허용치5', '무부하매연판정5',\n",
       "       '무부하매연측정치6', '무부하매연허용치6', '무부하매연판정6', '검사판정시간', '정기정밀', 'total'],\n",
       "      dtype='object')"
      ]
     },
     "execution_count": 419,
     "metadata": {},
     "output_type": "execute_result"
    }
   ],
   "source": [
    "d_total2_1.columns"
   ]
  },
  {
   "cell_type": "code",
   "execution_count": 420,
   "metadata": {},
   "outputs": [
    {
     "data": {
      "text/plain": [
       "dtype('float64')"
      ]
     },
     "execution_count": 420,
     "metadata": {},
     "output_type": "execute_result"
    }
   ],
   "source": [
    "d_total2_1['total'].dtype"
   ]
  },
  {
   "cell_type": "code",
   "execution_count": 421,
   "metadata": {},
   "outputs": [
    {
     "name": "stderr",
     "output_type": "stream",
     "text": [
      "100%|██████████| 1132386/1132386 [00:00<00:00, 1384868.44it/s]\n"
     ]
    }
   ],
   "source": [
    "grade_list = []\n",
    "for one in tqdm(d_total2_1['total']):\n",
    "    if 100 >= one > 75:\n",
    "        grade_list.append('A')\n",
    "    elif 75 >= one > 50:\n",
    "        grade_list.append('B')\n",
    "    elif 50 >= one > 25:\n",
    "        grade_list.append('C')\n",
    "    elif 25 >= one >= 0:\n",
    "        grade_list.append('D')\n",
    "    else:\n",
    "        grade_list.append('D')"
   ]
  },
  {
   "cell_type": "code",
   "execution_count": 422,
   "metadata": {},
   "outputs": [],
   "source": [
    "d_total2_1['Grade'] = grade_list"
   ]
  },
  {
   "cell_type": "code",
   "execution_count": 423,
   "metadata": {},
   "outputs": [
    {
     "data": {
      "text/html": [
       "<div>\n",
       "<style scoped>\n",
       "    .dataframe tbody tr th:only-of-type {\n",
       "        vertical-align: middle;\n",
       "    }\n",
       "\n",
       "    .dataframe tbody tr th {\n",
       "        vertical-align: top;\n",
       "    }\n",
       "\n",
       "    .dataframe thead th {\n",
       "        text-align: right;\n",
       "    }\n",
       "</style>\n",
       "<table border=\"1\" class=\"dataframe\">\n",
       "  <thead>\n",
       "    <tr style=\"text-align: right;\">\n",
       "      <th></th>\n",
       "      <th>index</th>\n",
       "      <th>Grade</th>\n",
       "    </tr>\n",
       "  </thead>\n",
       "  <tbody>\n",
       "    <tr>\n",
       "      <th>2</th>\n",
       "      <td>A</td>\n",
       "      <td>0.191689</td>\n",
       "    </tr>\n",
       "    <tr>\n",
       "      <th>1</th>\n",
       "      <td>B</td>\n",
       "      <td>0.297966</td>\n",
       "    </tr>\n",
       "    <tr>\n",
       "      <th>0</th>\n",
       "      <td>C</td>\n",
       "      <td>0.397056</td>\n",
       "    </tr>\n",
       "    <tr>\n",
       "      <th>3</th>\n",
       "      <td>D</td>\n",
       "      <td>0.113289</td>\n",
       "    </tr>\n",
       "  </tbody>\n",
       "</table>\n",
       "</div>"
      ],
      "text/plain": [
       "  index     Grade\n",
       "2     A  0.191689\n",
       "1     B  0.297966\n",
       "0     C  0.397056\n",
       "3     D  0.113289"
      ]
     },
     "execution_count": 423,
     "metadata": {},
     "output_type": "execute_result"
    }
   ],
   "source": [
    "d_total2_1['Grade'].value_counts(normalize=True).reset_index().sort_values(['index'])"
   ]
  },
  {
   "cell_type": "code",
   "execution_count": 424,
   "metadata": {},
   "outputs": [
    {
     "data": {
      "text/plain": [
       "C    449621\n",
       "B    337412\n",
       "A    217066\n",
       "D    128287\n",
       "Name: Grade, dtype: int64"
      ]
     },
     "execution_count": 424,
     "metadata": {},
     "output_type": "execute_result"
    }
   ],
   "source": [
    "d_total2_1['Grade'].value_counts()"
   ]
  },
  {
   "cell_type": "code",
   "execution_count": 425,
   "metadata": {},
   "outputs": [],
   "source": [
    "d_total2_1['Grade'].value_counts(normalize=True).reset_index().sort_values(['index']).to_excel('analysis/[G4]Grade(mod_rate).xlsx')"
   ]
  },
  {
   "attachments": {},
   "cell_type": "markdown",
   "metadata": {},
   "source": [
    "#### 4분위수로 등급 조정"
   ]
  },
  {
   "cell_type": "code",
   "execution_count": 404,
   "metadata": {},
   "outputs": [
    {
     "data": {
      "text/plain": [
       "46.67689571560259"
      ]
     },
     "execution_count": 404,
     "metadata": {},
     "output_type": "execute_result"
    }
   ],
   "source": [
    "d_total2_1['total'].quantile(q=0.25)"
   ]
  },
  {
   "cell_type": "code",
   "execution_count": 405,
   "metadata": {},
   "outputs": [
    {
     "data": {
      "text/plain": [
       "57.31459852330411"
      ]
     },
     "execution_count": 405,
     "metadata": {},
     "output_type": "execute_result"
    }
   ],
   "source": [
    "d_total2_1['total'].quantile(q=0.5)"
   ]
  },
  {
   "cell_type": "code",
   "execution_count": 406,
   "metadata": {},
   "outputs": [
    {
     "data": {
      "text/plain": [
       "67.17643556496427"
      ]
     },
     "execution_count": 406,
     "metadata": {},
     "output_type": "execute_result"
    }
   ],
   "source": [
    "d_total2_1['total'].quantile(q=0.75)"
   ]
  },
  {
   "cell_type": "code",
   "execution_count": 407,
   "metadata": {},
   "outputs": [
    {
     "name": "stderr",
     "output_type": "stream",
     "text": [
      "100%|██████████| 1132386/1132386 [00:00<00:00, 1361727.62it/s]\n"
     ]
    }
   ],
   "source": [
    "grade_list = []\n",
    "for one in tqdm(d_total2_1['total']):\n",
    "    if 100 >= one > 67:\n",
    "        grade_list.append('A')\n",
    "    elif 67 >= one > 57:\n",
    "        grade_list.append('B')\n",
    "    elif 57 >= one > 47:\n",
    "        grade_list.append('C')\n",
    "    elif 47 >= one >= 0:\n",
    "        grade_list.append('D')\n",
    "    else:\n",
    "        grade_list.append('D')"
   ]
  },
  {
   "cell_type": "code",
   "execution_count": 408,
   "metadata": {},
   "outputs": [
    {
     "data": {
      "text/html": [
       "<div>\n",
       "<style scoped>\n",
       "    .dataframe tbody tr th:only-of-type {\n",
       "        vertical-align: middle;\n",
       "    }\n",
       "\n",
       "    .dataframe tbody tr th {\n",
       "        vertical-align: top;\n",
       "    }\n",
       "\n",
       "    .dataframe thead th {\n",
       "        text-align: right;\n",
       "    }\n",
       "</style>\n",
       "<table border=\"1\" class=\"dataframe\">\n",
       "  <thead>\n",
       "    <tr style=\"text-align: right;\">\n",
       "      <th></th>\n",
       "      <th>index</th>\n",
       "      <th>Grade</th>\n",
       "    </tr>\n",
       "  </thead>\n",
       "  <tbody>\n",
       "    <tr>\n",
       "      <th>2</th>\n",
       "      <td>A</td>\n",
       "      <td>0.250327</td>\n",
       "    </tr>\n",
       "    <tr>\n",
       "      <th>1</th>\n",
       "      <td>B</td>\n",
       "      <td>0.252572</td>\n",
       "    </tr>\n",
       "    <tr>\n",
       "      <th>3</th>\n",
       "      <td>C</td>\n",
       "      <td>0.232611</td>\n",
       "    </tr>\n",
       "    <tr>\n",
       "      <th>0</th>\n",
       "      <td>D</td>\n",
       "      <td>0.264490</td>\n",
       "    </tr>\n",
       "  </tbody>\n",
       "</table>\n",
       "</div>"
      ],
      "text/plain": [
       "  index     Grade\n",
       "2     A  0.250327\n",
       "1     B  0.252572\n",
       "3     C  0.232611\n",
       "0     D  0.264490"
      ]
     },
     "execution_count": 408,
     "metadata": {},
     "output_type": "execute_result"
    }
   ],
   "source": [
    "d_total2_1['Grade'] = grade_list\n",
    "d_total2_1['Grade'].value_counts(normalize=True).reset_index().sort_values(['index'])"
   ]
  },
  {
   "cell_type": "code",
   "execution_count": 409,
   "metadata": {},
   "outputs": [
    {
     "data": {
      "text/plain": [
       "D    299505\n",
       "B    286009\n",
       "A    283467\n",
       "C    263405\n",
       "Name: Grade, dtype: int64"
      ]
     },
     "execution_count": 409,
     "metadata": {},
     "output_type": "execute_result"
    }
   ],
   "source": [
    "d_total2_1['Grade'].value_counts()"
   ]
  },
  {
   "cell_type": "code",
   "execution_count": 398,
   "metadata": {},
   "outputs": [],
   "source": [
    "d_total2_1['Grade'].value_counts(normalize=True).reset_index().sort_values(['index']).to_excel('analysis/[G4]Grade(quantile).xlsx')"
   ]
  },
  {
   "attachments": {},
   "cell_type": "markdown",
   "metadata": {},
   "source": [
    "#### 3/4/2/1 조절"
   ]
  },
  {
   "cell_type": "code",
   "execution_count": 268,
   "metadata": {},
   "outputs": [
    {
     "name": "stderr",
     "output_type": "stream",
     "text": [
      "100%|██████████| 1132386/1132386 [00:00<00:00, 1486537.21it/s]\n"
     ]
    }
   ],
   "source": [
    "grade_list = []\n",
    "for one in tqdm(d_total2_1['total']):\n",
    "    if 100 >= one > 70:\n",
    "        grade_list.append('A')\n",
    "    elif 70 >= one > 30:\n",
    "        grade_list.append('B')\n",
    "    elif 30 >= one > 10:\n",
    "        grade_list.append('C')\n",
    "    elif 10 >= one >= 0:\n",
    "        grade_list.append('D')\n",
    "    else:\n",
    "        grade_list.append('miss')"
   ]
  },
  {
   "cell_type": "code",
   "execution_count": 269,
   "metadata": {},
   "outputs": [
    {
     "data": {
      "text/html": [
       "<div>\n",
       "<style scoped>\n",
       "    .dataframe tbody tr th:only-of-type {\n",
       "        vertical-align: middle;\n",
       "    }\n",
       "\n",
       "    .dataframe tbody tr th {\n",
       "        vertical-align: top;\n",
       "    }\n",
       "\n",
       "    .dataframe thead th {\n",
       "        text-align: right;\n",
       "    }\n",
       "</style>\n",
       "<table border=\"1\" class=\"dataframe\">\n",
       "  <thead>\n",
       "    <tr style=\"text-align: right;\">\n",
       "      <th></th>\n",
       "      <th>index</th>\n",
       "      <th>Grade</th>\n",
       "    </tr>\n",
       "  </thead>\n",
       "  <tbody>\n",
       "    <tr>\n",
       "      <th>1</th>\n",
       "      <td>A</td>\n",
       "      <td>0.246755</td>\n",
       "    </tr>\n",
       "    <tr>\n",
       "      <th>0</th>\n",
       "      <td>B</td>\n",
       "      <td>0.684610</td>\n",
       "    </tr>\n",
       "    <tr>\n",
       "      <th>2</th>\n",
       "      <td>C</td>\n",
       "      <td>0.055619</td>\n",
       "    </tr>\n",
       "    <tr>\n",
       "      <th>4</th>\n",
       "      <td>D</td>\n",
       "      <td>0.000091</td>\n",
       "    </tr>\n",
       "    <tr>\n",
       "      <th>3</th>\n",
       "      <td>miss</td>\n",
       "      <td>0.012925</td>\n",
       "    </tr>\n",
       "  </tbody>\n",
       "</table>\n",
       "</div>"
      ],
      "text/plain": [
       "  index     Grade\n",
       "1     A  0.246755\n",
       "0     B  0.684610\n",
       "2     C  0.055619\n",
       "4     D  0.000091\n",
       "3  miss  0.012925"
      ]
     },
     "execution_count": 269,
     "metadata": {},
     "output_type": "execute_result"
    }
   ],
   "source": [
    "d_total2_1['Grade'] = grade_list\n",
    "d_total2_1['Grade'].value_counts(normalize=True).reset_index().sort_values(['index'])"
   ]
  },
  {
   "cell_type": "code",
   "execution_count": 270,
   "metadata": {},
   "outputs": [],
   "source": [
    "d_total2_1['Grade'].value_counts(normalize=True).reset_index().sort_values(['index']).to_excel('analysis/[G4]Grade(3421).xlsx')"
   ]
  },
  {
   "attachments": {},
   "cell_type": "markdown",
   "metadata": {},
   "source": [
    "#### 3/3/3/1 조절"
   ]
  },
  {
   "cell_type": "code",
   "execution_count": 271,
   "metadata": {},
   "outputs": [
    {
     "name": "stderr",
     "output_type": "stream",
     "text": [
      "100%|██████████| 1132386/1132386 [00:00<00:00, 1471711.65it/s]\n"
     ]
    }
   ],
   "source": [
    "grade_list = []\n",
    "for one in tqdm(d_total2_1['total']):\n",
    "    if 100 >= one > 70:\n",
    "        grade_list.append('A')\n",
    "    elif 70 >= one > 40:\n",
    "        grade_list.append('B')\n",
    "    elif 40 >= one > 10:\n",
    "        grade_list.append('C')\n",
    "    elif 10 >= one >= 0:\n",
    "        grade_list.append('D')\n",
    "    else:\n",
    "        grade_list.append('miss')"
   ]
  },
  {
   "cell_type": "code",
   "execution_count": 272,
   "metadata": {},
   "outputs": [
    {
     "data": {
      "text/html": [
       "<div>\n",
       "<style scoped>\n",
       "    .dataframe tbody tr th:only-of-type {\n",
       "        vertical-align: middle;\n",
       "    }\n",
       "\n",
       "    .dataframe tbody tr th {\n",
       "        vertical-align: top;\n",
       "    }\n",
       "\n",
       "    .dataframe thead th {\n",
       "        text-align: right;\n",
       "    }\n",
       "</style>\n",
       "<table border=\"1\" class=\"dataframe\">\n",
       "  <thead>\n",
       "    <tr style=\"text-align: right;\">\n",
       "      <th></th>\n",
       "      <th>index</th>\n",
       "      <th>Grade</th>\n",
       "    </tr>\n",
       "  </thead>\n",
       "  <tbody>\n",
       "    <tr>\n",
       "      <th>1</th>\n",
       "      <td>A</td>\n",
       "      <td>0.246755</td>\n",
       "    </tr>\n",
       "    <tr>\n",
       "      <th>0</th>\n",
       "      <td>B</td>\n",
       "      <td>0.621327</td>\n",
       "    </tr>\n",
       "    <tr>\n",
       "      <th>2</th>\n",
       "      <td>C</td>\n",
       "      <td>0.118902</td>\n",
       "    </tr>\n",
       "    <tr>\n",
       "      <th>4</th>\n",
       "      <td>D</td>\n",
       "      <td>0.000091</td>\n",
       "    </tr>\n",
       "    <tr>\n",
       "      <th>3</th>\n",
       "      <td>miss</td>\n",
       "      <td>0.012925</td>\n",
       "    </tr>\n",
       "  </tbody>\n",
       "</table>\n",
       "</div>"
      ],
      "text/plain": [
       "  index     Grade\n",
       "1     A  0.246755\n",
       "0     B  0.621327\n",
       "2     C  0.118902\n",
       "4     D  0.000091\n",
       "3  miss  0.012925"
      ]
     },
     "execution_count": 272,
     "metadata": {},
     "output_type": "execute_result"
    }
   ],
   "source": [
    "d_total2_1['Grade'] = grade_list\n",
    "d_total2_1['Grade'].value_counts(normalize=True).reset_index().sort_values(['index'])"
   ]
  },
  {
   "cell_type": "code",
   "execution_count": 273,
   "metadata": {},
   "outputs": [],
   "source": [
    "d_total2_1['Grade'].value_counts(normalize=True).reset_index().sort_values(['index']).to_excel('analysis/[G4]Grade(3331).xlsx')"
   ]
  },
  {
   "attachments": {},
   "cell_type": "markdown",
   "metadata": {},
   "source": [
    "### 연료 종류 코드화"
   ]
  },
  {
   "cell_type": "code",
   "execution_count": 704,
   "metadata": {},
   "outputs": [],
   "source": [
    "d_total2_1['배출가스등급'] = 4\n",
    "d_total2_1['연료종류'] = 'D'"
   ]
  },
  {
   "attachments": {},
   "cell_type": "markdown",
   "metadata": {},
   "source": [
    "#### [로드] 저감장치 부착 상세내역"
   ]
  },
  {
   "cell_type": "code",
   "execution_count": 708,
   "metadata": {},
   "outputs": [
    {
     "name": "stdout",
     "output_type": "stream",
     "text": [
      "<class 'pandas.core.frame.DataFrame'>\n",
      "RangeIndex: 993097 entries, 0 to 993096\n",
      "Data columns (total 55 columns):\n",
      " #   Column     Non-Null Count   Dtype  \n",
      "---  ------     --------------   -----  \n",
      " 0   저감등록번호     993097 non-null  int64  \n",
      " 1   저감등록상태     993096 non-null  object \n",
      " 2   시도         993097 non-null  object \n",
      " 3   시군구        992311 non-null  object \n",
      " 4   차량등록번호     993097 non-null  object \n",
      " 5   현재차량등록번호   76290 non-null   object \n",
      " 6   차대번호       993097 non-null  object \n",
      " 7   차종         993097 non-null  object \n",
      " 8   차량용도       993094 non-null  object \n",
      " 9   차량연식       993095 non-null  float64\n",
      " 10  최초등록일자     957898 non-null  float64\n",
      " 11  소유자명       990870 non-null  object \n",
      " 12  사용자전화번호    974774 non-null  object \n",
      " 13  부착업체명      983955 non-null  object \n",
      " 14  현재시군구      574316 non-null  object \n",
      " 15  부착일자       993095 non-null  object \n",
      " 16  저감장치구분     993097 non-null  object \n",
      " 17  저감장치종류     769194 non-null  object \n",
      " 18  인증모델번호     993094 non-null  object \n",
      " 19  장치일련번호     865034 non-null  object \n",
      " 20  검사소명       852703 non-null  object \n",
      " 21  구조변경일자     993097 non-null  int64  \n",
      " 22  주행거리       979171 non-null  object \n",
      " 23  제작사코드      993097 non-null  object \n",
      " 24  차명         993093 non-null  object \n",
      " 25  입력일자       993068 non-null  float64\n",
      " 26  입력자명       746624 non-null  object \n",
      " 27  접수지자체코드    993097 non-null  object \n",
      " 28  보조금대상YN    672632 non-null  object \n",
      " 29  보조금대상제외사유  1458 non-null    object \n",
      " 30  협회확인반려사유   279 non-null     object \n",
      " 31  협회확인승인일자   362854 non-null  float64\n",
      " 32  협회확인자명     362829 non-null  object \n",
      " 33  협회확인기관코드   362815 non-null  object \n",
      " 34  보조금신청YN    993073 non-null  object \n",
      " 35  보조금신청일자    676850 non-null  float64\n",
      " 36  보조금신청자명    658928 non-null  object \n",
      " 37  보조금지급승인일자  672493 non-null  float64\n",
      " 38  보조금지급승인자명  658627 non-null  object \n",
      " 39  보조금지급확정일자  965775 non-null  object \n",
      " 40  보조금지급확정자명  659423 non-null  object \n",
      " 41  보조금지급일자    967003 non-null  float64\n",
      " 42  보조금액       991122 non-null  float64\n",
      " 43  보조금자부담액    951321 non-null  object \n",
      " 44  보조금사업년도    966800 non-null  float64\n",
      " 45  총중량        990824 non-null  object \n",
      " 46  차량배기량      825147 non-null  object \n",
      " 47  엔진형식       825489 non-null  object \n",
      " 48  배기온도       54584 non-null   object \n",
      " 49  최대배기압력     53874 non-null   float64\n",
      " 50  평균배기압력     53866 non-null   float64\n",
      " 51  엔진출력       196330 non-null  object \n",
      " 52  차량정원       25902 non-null   float64\n",
      " 53  차량법인구분     350378 non-null  object \n",
      " 54  차량연료       196096 non-null  object \n",
      "dtypes: float64(12), int64(2), object(41)\n",
      "memory usage: 416.7+ MB\n"
     ]
    }
   ],
   "source": [
    "# \n",
    "dpf = pd.read_excel('data/01. 저감장치 부착 상세 내역_Total.xlsx')\n",
    "dpf.info()"
   ]
  },
  {
   "cell_type": "code",
   "execution_count": null,
   "metadata": {},
   "outputs": [],
   "source": [
    "dpf.columns"
   ]
  },
  {
   "cell_type": "code",
   "execution_count": null,
   "metadata": {},
   "outputs": [],
   "source": []
  },
  {
   "cell_type": "code",
   "execution_count": null,
   "metadata": {},
   "outputs": [],
   "source": []
  },
  {
   "cell_type": "code",
   "execution_count": null,
   "metadata": {},
   "outputs": [],
   "source": []
  },
  {
   "cell_type": "code",
   "execution_count": null,
   "metadata": {},
   "outputs": [],
   "source": []
  },
  {
   "cell_type": "code",
   "execution_count": null,
   "metadata": {},
   "outputs": [],
   "source": []
  },
  {
   "cell_type": "code",
   "execution_count": null,
   "metadata": {},
   "outputs": [],
   "source": []
  },
  {
   "cell_type": "code",
   "execution_count": null,
   "metadata": {},
   "outputs": [],
   "source": []
  },
  {
   "cell_type": "code",
   "execution_count": null,
   "metadata": {},
   "outputs": [],
   "source": []
  },
  {
   "cell_type": "code",
   "execution_count": null,
   "metadata": {},
   "outputs": [],
   "source": []
  },
  {
   "attachments": {},
   "cell_type": "markdown",
   "metadata": {},
   "source": [
    "## 연료에 따른 세분류\n",
    "- '경유':'D', '휘발유':'G', 'LPG(액화석유가스)':'L', 'CNG(압축천연가스)':'C', '알코올':'A' "
   ]
  },
  {
   "cell_type": "code",
   "execution_count": null,
   "metadata": {},
   "outputs": [],
   "source": [
    "fuel_div_dict = {'경유':'D', '휘발유':'G', 'LPG(액화석유가스)':'L', 'CNG(압축천연가스)':'C', '알코올':'A'}"
   ]
  },
  {
   "cell_type": "code",
   "execution_count": 646,
   "metadata": {},
   "outputs": [
    {
     "data": {
      "text/plain": [
       "array(['경유'], dtype=object)"
      ]
     },
     "execution_count": 646,
     "metadata": {},
     "output_type": "execute_result"
    }
   ],
   "source": [
    "d_total2['연료'].unique()"
   ]
  },
  {
   "attachments": {},
   "cell_type": "markdown",
   "metadata": {},
   "source": [
    "## [EG] 휘발유/가스(d_total3)"
   ]
  },
  {
   "cell_type": "code",
   "execution_count": 649,
   "metadata": {},
   "outputs": [
    {
     "data": {
      "text/plain": [
       "array(['휘발유', 'LPG(액화석유가스)', '경유', '알코올', '기타연료', 'CNG(압축천연가스)'],\n",
       "      dtype=object)"
      ]
     },
     "execution_count": 649,
     "metadata": {},
     "output_type": "execute_result"
    }
   ],
   "source": [
    "d_total['연료'].unique()"
   ]
  },
  {
   "cell_type": "code",
   "execution_count": 651,
   "metadata": {},
   "outputs": [
    {
     "data": {
      "text/plain": [
       "(360951, 28)"
      ]
     },
     "execution_count": 651,
     "metadata": {},
     "output_type": "execute_result"
    }
   ],
   "source": [
    "d_total3 = d_total[(d_total['연료'] == '휘발유') | (d_total['연료'] == '알코올') | (d_total['연료'] == 'LPG(액화석유가스)') | (d_total['연료'] == 'CNG(압축천연가스)')]\n",
    "d_total3.shape"
   ]
  },
  {
   "cell_type": "code",
   "execution_count": 660,
   "metadata": {},
   "outputs": [
    {
     "data": {
      "text/plain": [
       "Index(['차대번호', '차량제작일자', '배출가스인증번호', '총중량', '검사방법', '차종유형', '차종등록정보', '연료',\n",
       "       '무부하매연측정치1', '무부하매연허용치1', '무부하매연판정1', '무부하매연측정치2', '무부하매연허용치2',\n",
       "       '무부하매연판정2', '무부하매연측정치3', '무부하매연허용치3', '무부하매연판정3', '무부하매연측정치4',\n",
       "       '무부하매연허용치4', '무부하매연판정4', '무부하매연측정치5', '무부하매연허용치5', '무부하매연판정5',\n",
       "       '무부하매연측정치6', '무부하매연허용치6', '무부하매연판정6', '검사판정시간', '정기정밀'],\n",
       "      dtype='object')"
      ]
     },
     "execution_count": 660,
     "metadata": {},
     "output_type": "execute_result"
    }
   ],
   "source": [
    "d_total3.columns"
   ]
  },
  {
   "cell_type": "code",
   "execution_count": null,
   "metadata": {},
   "outputs": [],
   "source": [
    "d_total3['검사방법'].unique()"
   ]
  },
  {
   "attachments": {},
   "cell_type": "markdown",
   "metadata": {},
   "source": [
    "### 휘발유"
   ]
  },
  {
   "cell_type": "code",
   "execution_count": 696,
   "metadata": {},
   "outputs": [
    {
     "data": {
      "text/plain": [
       "(8, 28)"
      ]
     },
     "execution_count": 696,
     "metadata": {},
     "output_type": "execute_result"
    }
   ],
   "source": [
    "gasoline_df = d_total3.reset_index(drop=True).dropna(subset=['검사방법', '배출가스인증번호'])\n",
    "gasoline_df.shape"
   ]
  },
  {
   "cell_type": "code",
   "execution_count": null,
   "metadata": {},
   "outputs": [],
   "source": [
    "gasoline_df['검사방법']"
   ]
  },
  {
   "cell_type": "code",
   "execution_count": 697,
   "metadata": {},
   "outputs": [
    {
     "data": {
      "text/plain": [
       "array(['정밀'], dtype=object)"
      ]
     },
     "execution_count": 697,
     "metadata": {},
     "output_type": "execute_result"
    }
   ],
   "source": [
    "gasoline_df['정기정밀'].unique()"
   ]
  },
  {
   "cell_type": "code",
   "execution_count": 701,
   "metadata": {},
   "outputs": [
    {
     "data": {
      "text/plain": [
       "차대번호         0\n",
       "차량제작일자       1\n",
       "배출가스인증번호     8\n",
       "총중량          0\n",
       "검사방법         0\n",
       "차종유형         0\n",
       "차종등록정보       0\n",
       "연료           0\n",
       "무부하매연측정치1    0\n",
       "무부하매연허용치1    0\n",
       "무부하매연판정1     0\n",
       "무부하매연측정치2    5\n",
       "무부하매연허용치2    5\n",
       "무부하매연판정2     8\n",
       "무부하매연측정치3    5\n",
       "무부하매연허용치3    5\n",
       "무부하매연판정3     8\n",
       "무부하매연측정치4    5\n",
       "무부하매연허용치4    5\n",
       "무부하매연판정4     8\n",
       "무부하매연측정치5    5\n",
       "무부하매연허용치5    5\n",
       "무부하매연판정5     8\n",
       "무부하매연측정치6    3\n",
       "무부하매연허용치6    3\n",
       "무부하매연판정6     6\n",
       "검사판정시간       2\n",
       "정기정밀         0\n",
       "dtype: int64"
      ]
     },
     "execution_count": 701,
     "metadata": {},
     "output_type": "execute_result"
    }
   ],
   "source": [
    "gasoline_df.isnull().sum()"
   ]
  },
  {
   "attachments": {},
   "cell_type": "markdown",
   "metadata": {},
   "source": [
    "### total 계산"
   ]
  },
  {
   "cell_type": "code",
   "execution_count": 699,
   "metadata": {},
   "outputs": [
    {
     "data": {
      "text/plain": [
       "1"
      ]
     },
     "execution_count": 699,
     "metadata": {},
     "output_type": "execute_result"
    }
   ],
   "source": [
    "uni_gasoline = gasoline_df['배출가스인증번호'].unique()\n",
    "len(uni_gasoline)"
   ]
  },
  {
   "cell_type": "code",
   "execution_count": null,
   "metadata": {},
   "outputs": [],
   "source": [
    "emno_list = [] # 배출가스인증번호 저장 리스트\n",
    "car_num_list = []\n",
    "total_point_list = [] # total 점수 저장 리스트\n",
    "gas_mea_value_p = re.compile('\\d[.]\\d') # 값이 소수형인지 확인\n",
    "\n",
    "for one in tqdm(uni_gasoline):\n",
    "    btemp = gasoline_df[gasoline_df['배출가스인증번호'] == one].reset_index(drop=True)\n",
    "    # 1개의 배출가스 인증번호에 대한 처리 테스트\n",
    "    g_mea_list = [] # 샘플 1개에 대한 측정치 저장 리스트\n",
    "    p_f_list = [] # 샘플 1개에 대한 판정 저장 리스트\n",
    "    for i in range(btemp.shape[0]):\n",
    "        temp = btemp.loc[i]\n",
    "\n",
    "        test_method = temp['검사방법'] # 변수 생성(검사방법)\n",
    "\n",
    "        product_date = temp['차량제작일자']# 변수 생성(차량제작일자)\n",
    "\n",
    "        test_date = temp['검사판정시간'] # 변수 생성(검사판정시간)\n",
    "\n",
    "        total_weight = temp['총중량'] # 변수 생성(총중량)\n",
    "\n",
    "        ci = temp['차종등록정보'] # 승용, 승합, 화물, 특수\n",
    "        ci2 = temp['차종유형'] # 경형, 소형, 중형, 대형\n",
    "\n",
    "        # 변수 생성(측정치, 문자열)\n",
    "        sv1 = str(temp['무부하매연측정치1'])\n",
    "        sv2 = str(temp['무부하매연측정치2'])\n",
    "        sv3 = str(temp['무부하매연측정치3'])\n",
    "        sv4 = str(temp['무부하매연측정치4'])\n",
    "        sv5 = str(temp['무부하매연측정치5'])\n",
    "        sv6 = str(temp['무부하매연측정치6'])\n",
    "\n",
    "        # 변수 생성(측정치, 문자열)\n",
    "        v1 = temp['무부하매연측정치1']\n",
    "        v2 = temp['무부하매연측정치2']\n",
    "        v3 = temp['무부하매연측정치3']\n",
    "        v4 = temp['무부하매연측정치4']\n",
    "        v5 = temp['무부하매연측정치5']\n",
    "        v6 = temp['무부하매연측정치6']\n",
    "\n",
    "        # 변수 생성(판정)\n",
    "        f1 = temp['무부하매연판정1']\n",
    "        f2 = temp['무부하매연판정2']\n",
    "        f3 = temp['무부하매연판정3']\n",
    "        f4 = temp['무부하매연판정4']\n",
    "        f5 = temp['무부하매연판정5']\n",
    "        f6 = temp['무부하매연판정6']\n",
    "        \n",
    "        # 검사판정시간\n",
    "        date = temp['검사판정시간']\n",
    "\n",
    "        # 평균 매연, 불합격률 계산\n",
    "        if test_method == '부하검사(LUG DOWN)': # 1번째 측정치, 판정치 사용\n",
    "            if sv1 == 'nan' or not gas_mea_value_p.search(sv1) or f1 not in ['Y', 'N']: # 1번째 값 부재\n",
    "                # print('1번째 값 부재')\n",
    "                g = np.nan\n",
    "                f = np.nan\n",
    "            else: # 1번째 값 존재\n",
    "                g = v1\n",
    "                f = f1\n",
    "\n",
    "        elif test_method == '부하검사(KD-147)': # 1번째 측정치, 판정치 사용\n",
    "            if sv1 == 'nan' or not gas_mea_value_p.search(sv1) or f1 not in ['Y', 'N']: # 1번째 값 부재\n",
    "                # print('1번째 값 부재')\n",
    "                g = np.nan\n",
    "                f = np.nan\n",
    "            else: # 1번째 값 존재\n",
    "                g = v1\n",
    "                f = f1\n",
    "        else: # 무부하 검사\n",
    "            if sv6 == 'nan' or not gas_mea_value_p.search(sv6) or f6 not in ['Y', 'N']: # 6번째 값 부재\n",
    "                # print('6번째 값 부재')\n",
    "                if sv5 == 'nan' or not gas_mea_value_p.search(sv5) or f5 not in ['Y', 'N']: # 5번째 값 부재\n",
    "                    # print('5번째 값 부재')\n",
    "                    if sv4 == 'nan' or not gas_mea_value_p.search(sv4) or f4 not in ['Y', 'N']: # 4번째 값 부재\n",
    "                        # print('4번째 값 부재')\n",
    "                        if sv3 == 'nan' or not gas_mea_value_p.search(sv3) or f3 not in ['Y', 'N']: # 3번째 값 부재\n",
    "                            # print('3번째 값 부재')\n",
    "                            if sv1 == 'nan' or not gas_mea_value_p.search(sv1) or f1 not in ['Y', 'N']: # 1번째 값 부재\n",
    "                                # print('1번째 값 부재')\n",
    "                                g = np.nan\n",
    "                                f = np.nan\n",
    "                            else: # 1번째 값 존재\n",
    "                                g = v1\n",
    "                                f = f1                                \n",
    "                        else: # 3번째 값 존재\n",
    "                            g = temp[['무부하매연측정치1', '무부하매연측정치2', '무부하매연측정치3']].mean()\n",
    "                            f = f3\n",
    "                    else: # 4번째 값 존재\n",
    "                        g = temp[['무부하매연측정치2', '무부하매연측정치3', '무부하매연측정치4']].mean()\n",
    "                        f = f4\n",
    "                else: # 5번째 값 존재\n",
    "                    g = temp[['무부하매연측정치3', '무부하매연측정치4', '무부하매연측정치5']].mean()\n",
    "                    f = f5\n",
    "            else: # 6번째 값 존재\n",
    "                g = temp[['무부하매연측정치4', '무부하매연측정치5', '무부하매연측정치6']].mean()\n",
    "                f = f6\n",
    "\n",
    "        g_mea_list.append(g)\n",
    "        p_f_list.append(f)\n",
    "\n",
    "    # df 생성\n",
    "    one_sample = pd.DataFrame({'측정치':g_mea_list, '판정':p_f_list})\n",
    "        \n",
    "    # Grade 계산\n",
    "    m = one_sample['측정치'].mean()\n",
    "    p_f_rate_df = one_sample['판정'].value_counts(normalize=True).reset_index()\n",
    "    if p_f_rate_df.shape[0] == 1:\n",
    "        p_f_rate = 0\n",
    "    else:\n",
    "        p_f_rate = p_f_rate_df.loc[p_f_rate_df['index'] == 'N', '판정'].values[0]\n",
    "\n",
    "    for i in range(btemp.shape[0]): # 배인번호 1의 df의 한줄씩 처리\n",
    "        car_num = btemp.loc[i, '차대번호'] # 샘플의 차대번호\n",
    "        temp = btemp.loc[i]\n",
    "\n",
    "        test_method = temp['검사방법'] # 변수 생성(검사방법)\n",
    "\n",
    "        product_date = temp['차량제작일자']# 변수 생성(차량제작일자)\n",
    "\n",
    "        test_date = temp['검사판정시간'] # 변수 생성(검사판정시간)\n",
    "\n",
    "        total_weight = temp['총중량'] # 변수 생성(총중량)\n",
    "\n",
    "        ci = temp['차종등록정보'] # 승용, 승합, 화물, 특수\n",
    "        ci2 = temp['차종유형'] # 경형, 소형, 중형, 대형\n",
    "\n",
    "        # 변수 생성(측정치, 문자열)\n",
    "        sv1 = str(temp['무부하매연측정치1'])\n",
    "\n",
    "        sv3 = str(temp['무부하매연측정치3'])\n",
    "        sv4 = str(temp['무부하매연측정치4'])\n",
    "        sv5 = str(temp['무부하매연측정치5'])\n",
    "        sv6 = str(temp['무부하매연측정치6'])\n",
    "\n",
    "        # 변수 생성(판정)\n",
    "        f1 = temp['무부하매연판정1']\n",
    "\n",
    "        f3 = temp['무부하매연판정3']\n",
    "        f4 = temp['무부하매연판정4']\n",
    "        f5 = temp['무부하매연판정5']\n",
    "        f6 = temp['무부하매연판정6']\n",
    "        \n",
    "        # 검사판정시간\n",
    "        date = temp['검사판정시간']\n",
    "\n",
    "        if test_method == '부하검사(LUG DOWN)': # 1번째 측정치, 판정치 사용\n",
    "            if sv1 == 'nan' or not gas_mea_value_p.search(sv1) or f1 not in ['Y', 'N']: # 1번째 값 부재\n",
    "                # print('1번째 값 부재')\n",
    "                std = 0 \n",
    "            else: # 1번째 값 존재\n",
    "                # 매연 허용치\n",
    "                if np.isnan(total_weight):\n",
    "                    std = 0\n",
    "                elif total_weight <= 5500:\n",
    "                    if np.isnan(product_date):\n",
    "                        std = 0\n",
    "                    elif product_date <= 19951231:\n",
    "                        std = 70\n",
    "                    elif 19960101 <= product_date <= 20001231:\n",
    "                        std = 60\n",
    "                    elif 20010101 <= product_date <= 20071231:\n",
    "                        std = 50\n",
    "                    elif 20080101 <= product_date:\n",
    "                        std = 20\n",
    "                else:\n",
    "                    if np.isnan(product_date):\n",
    "                        std = 0\n",
    "                    elif product_date <= 19951231:\n",
    "                        std = 50\n",
    "                    elif 19960101 <= product_date <= 20001231:\n",
    "                        std = 45\n",
    "                    elif 20010101 <= product_date <= 20071231:\n",
    "                        std = 30\n",
    "                    elif 20080101 <= product_date:\n",
    "                        std = 15\n",
    "\n",
    "        elif test_method == '부하검사(KD-147)': # 1번째 측정치, 판정치 사용\n",
    "            if sv1 == 'nan' or not gas_mea_value_p.search(sv1) or f1 not in ['Y', 'N']: # 1번째 값 부재\n",
    "                # print('1번째 값 부재')\n",
    "                std = 0\n",
    "            else: # 1번째 값 존재\n",
    "                # 매연 허용치\n",
    "                if np.isnan(product_date):\n",
    "                    std = 0\n",
    "                elif product_date < 19921231:\n",
    "                    if str(test_date) == 'nan':\n",
    "                        std = 0\n",
    "                    elif test_date <= '20111231':\n",
    "                        std = 50\n",
    "                    else:\n",
    "                        std = 45\n",
    "                elif 19930101 <= product_date <= 19951231:\n",
    "                    if str(test_date) == 'nan':\n",
    "                        std = 0\n",
    "                    elif test_date <= '20111231':\n",
    "                        std = 45\n",
    "                    else:\n",
    "                        std = 40\n",
    "                elif 19960101 <= product_date <= 20001231:\n",
    "                    if str(test_date) == 'nan':\n",
    "                        std = 0\n",
    "                    elif test_date <= '20111231':\n",
    "                        std = 40\n",
    "                    else:\n",
    "                        std = 35\n",
    "                elif 20010101 <= product_date <= 20071231:\n",
    "                    if str(test_date) == 'nan':\n",
    "                        std = 0\n",
    "                    elif test_date <= '20111231':\n",
    "                        std = 30\n",
    "                    else:\n",
    "                        std = 25\n",
    "                elif 20080101 <= product_date <= 20160831:\n",
    "                    if str(test_date) == 'nan':\n",
    "                        std = 0\n",
    "                    elif test_date <= '20111231':\n",
    "                        std = 20\n",
    "                    else:\n",
    "                        std = 15\n",
    "                elif 20160901 <= product_date <= 20171231:\n",
    "                    if str(test_date) == 'nan':\n",
    "                        std = 0\n",
    "                    elif test_date <= '20111231':\n",
    "                        std = 0\n",
    "                    else:\n",
    "                        std = 8\n",
    "                elif 20180101 <= product_date:\n",
    "                    if str(test_date) == 'nan':\n",
    "                        std = 0\n",
    "                    elif test_date <= '20111231':\n",
    "                        std = 0\n",
    "                    else:\n",
    "                        std = 8\n",
    "\n",
    "        else: # 무부하 검사\n",
    "            if sv6 == 'nan' or not gas_mea_value_p.search(sv6) or f6 not in ['Y', 'N']: # 6번째 값 부재\n",
    "                # print('6번째 값 부재')\n",
    "                if sv5 == 'nan' or not gas_mea_value_p.search(sv5) or f5 not in ['Y', 'N']: # 5번째 값 부재\n",
    "                    # print('5번째 값 부재')\n",
    "                    if sv4 == 'nan' or not gas_mea_value_p.search(sv4) or f4 not in ['Y', 'N']: # 4번째 값 부재\n",
    "                        # print('4번째 값 부재')\n",
    "                        if sv3 == 'nan' or not gas_mea_value_p.search(sv3) or f3 not in ['Y', 'N']: # 3번째 값 부재\n",
    "                            # print('3번째 값 부재')\n",
    "                            if sv1 == 'nan' or not gas_mea_value_p.search(sv1) or f1 not in ['Y', 'N']: # 1번째 값 부재\n",
    "                                # print('1번째 값 부재')\n",
    "                                std = 0\n",
    "                            else: # 1번째 값 존재\n",
    "                                # 매연 허용치\n",
    "                                if str(ci) == 'nan' or str(ci2) == 'nan':\n",
    "                                    std = 0\n",
    "                                elif ci == '경형' or ci2 == '승용':\n",
    "                                    if np.isnan(product_date):\n",
    "                                        std = 0\n",
    "                                    elif product_date < 19951231:\n",
    "                                        std = 60\n",
    "                                    elif 19960101 <= product_date <= 20001231:\n",
    "                                        std = 55\n",
    "                                    elif 20010101 <= product_date <= 20031231:\n",
    "                                        std = 45\n",
    "                                    elif 20040101 <= product_date <= 20071231:\n",
    "                                        std = 40\n",
    "                                    elif 20080101 <= product_date <= 20160831:\n",
    "                                        std = 20\n",
    "                                    elif 20160901 <= product_date:\n",
    "                                        std = 10\n",
    "                                else:\n",
    "                                    if ci2 == '소형':\n",
    "                                        if np.isnan(product_date):\n",
    "                                            std = 0\n",
    "                                        elif product_date < 19951231:\n",
    "                                            std = 60\n",
    "                                        elif 19960101 <= product_date <= 20001231:\n",
    "                                            std = 55\n",
    "                                        elif 20010101 <= product_date <= 20031231:\n",
    "                                            std = 45\n",
    "                                        elif 20040101 <= product_date <= 20071231:\n",
    "                                            std = 40\n",
    "                                        elif 20080101 <= product_date <= 20160831:\n",
    "                                            std = 20\n",
    "                                        elif 20160901 <= product_date:\n",
    "                                            std = 10\n",
    "                                    elif ci2 == '중형':\n",
    "                                        if np.isnan(product_date):\n",
    "                                            std = 0\n",
    "                                        elif product_date < 19921231:\n",
    "                                            std = 60\n",
    "                                        elif 19930101 <= product_date <= 19951231:\n",
    "                                            std = 55\n",
    "                                        elif 19960101 <= product_date <= 19971231:\n",
    "                                            std = 45\n",
    "                                        elif 19980101 <= product_date <= 20001231: # 시내버스(40), 그 외(45) 조건 필요\n",
    "                                            std = 45\n",
    "                                        elif 20010101 <= product_date <= 20040930:\n",
    "                                            std = 45\n",
    "                                        elif 20041001 <= product_date <= 20071231:\n",
    "                                            std = 40\n",
    "                                        elif 20080101 <= product_date <= 20160831:\n",
    "                                            std = 20\n",
    "                                        elif 20160901 <= product_date:\n",
    "                                            std = 10\n",
    "                                    elif ci2 == '대형':\n",
    "                                        if np.isnan(product_date):\n",
    "                                            std = 0\n",
    "                                        elif product_date < 19921231:\n",
    "                                            std = 60\n",
    "                                        elif 19930101 <= product_date <= 19951231:\n",
    "                                            std = 55\n",
    "                                        elif 19960101 <= product_date <= 19971231:\n",
    "                                            std = 45\n",
    "                                        elif 19980101 <= product_date <= 20001231: # 시내버스(40), 그 외(45) 조건 필요\n",
    "                                            std = 45\n",
    "                                        elif 20010101 <= product_date <= 20040930:\n",
    "                                            std = 45\n",
    "                                        elif 20041001 <= product_date <= 20071231:\n",
    "                                            std = 40\n",
    "                                        elif 20080101 <= product_date:\n",
    "                                            std = 20\n",
    "                                    \n",
    "                        else: # 3번째 값 존재\n",
    "                            # 매연 허용치\n",
    "                            if str(ci) == 'nan' or str(ci2) == 'nan':\n",
    "                                std = 0\n",
    "                            elif ci == '경형' or ci2 == '승용':\n",
    "                                if np.isnan(product_date):\n",
    "                                    std = 0\n",
    "                                elif product_date < 19951231:\n",
    "                                    std = 60\n",
    "                                elif 19960101 <= product_date <= 20001231:\n",
    "                                    std = 55\n",
    "                                elif 20010101 <= product_date <= 20031231:\n",
    "                                    std = 45\n",
    "                                elif 20040101 <= product_date <= 20071231:\n",
    "                                    std = 40\n",
    "                                elif 20080101 <= product_date <= 20160831:\n",
    "                                    std = 20\n",
    "                                elif 20160901 <= product_date:\n",
    "                                    std = 10\n",
    "                            else:\n",
    "                                if ci2 == '소형':\n",
    "                                    if np.isnan(product_date):\n",
    "                                        std = 0\n",
    "                                    elif product_date < 19951231:\n",
    "                                        std = 60\n",
    "                                    elif 19960101 <= product_date <= 20001231:\n",
    "                                        std = 55\n",
    "                                    elif 20010101 <= product_date <= 20031231:\n",
    "                                        std = 45\n",
    "                                    elif 20040101 <= product_date <= 20071231:\n",
    "                                        std = 40\n",
    "                                    elif 20080101 <= product_date <= 20160831:\n",
    "                                        std = 20\n",
    "                                    elif 20160901 <= product_date:\n",
    "                                        std = 10\n",
    "                                elif ci2 == '중형':\n",
    "                                    if np.isnan(product_date):\n",
    "                                        std = 0\n",
    "                                    elif product_date < 19921231:\n",
    "                                        std = 60\n",
    "                                    elif 19930101 <= product_date <= 19951231:\n",
    "                                        std = 55\n",
    "                                    elif 19960101 <= product_date <= 19971231:\n",
    "                                        std = 45\n",
    "                                    elif 19980101 <= product_date <= 20001231: # 시내버스(40), 그 외(45) 조건 필요\n",
    "                                        std = 45\n",
    "                                    elif 20010101 <= product_date <= 20040930:\n",
    "                                        std = 45\n",
    "                                    elif 20041001 <= product_date <= 20071231:\n",
    "                                        std = 40\n",
    "                                    elif 20080101 <= product_date <= 20160831:\n",
    "                                        std = 20\n",
    "                                    elif 20160901 <= product_date:\n",
    "                                        std = 10\n",
    "                                elif ci2 == '대형':\n",
    "                                    if np.isnan(product_date):\n",
    "                                        std = 0\n",
    "                                    elif product_date < 19921231:\n",
    "                                        std = 60\n",
    "                                    elif 19930101 <= product_date <= 19951231:\n",
    "                                        std = 55\n",
    "                                    elif 19960101 <= product_date <= 19971231:\n",
    "                                        std = 45\n",
    "                                    elif 19980101 <= product_date <= 20001231: # 시내버스(40), 그 외(45) 조건 필요\n",
    "                                        std = 45\n",
    "                                    elif 20010101 <= product_date <= 20040930:\n",
    "                                        std = 45\n",
    "                                    elif 20041001 <= product_date <= 20071231:\n",
    "                                        std = 40\n",
    "                                    elif 20080101 <= product_date:\n",
    "                                        std = 20\n",
    "                    else: # 4번째 값 존재\n",
    "                        # 매연 허용치\n",
    "                        if str(ci) == 'nan' or str(ci2) == 'nan':\n",
    "                            std = 0\n",
    "                        elif ci == '경형' or ci2 == '승용':\n",
    "                            if np.isnan(product_date):\n",
    "                                std = 0\n",
    "                            elif product_date < 19951231:\n",
    "                                std = 60\n",
    "                            elif 19960101 <= product_date <= 20001231:\n",
    "                                std = 55\n",
    "                            elif 20010101 <= product_date <= 20031231:\n",
    "                                std = 45\n",
    "                            elif 20040101 <= product_date <= 20071231:\n",
    "                                std = 40\n",
    "                            elif 20080101 <= product_date <= 20160831:\n",
    "                                std = 20\n",
    "                            elif 20160901 <= product_date:\n",
    "                                std = 10\n",
    "                        else:\n",
    "                            if ci2 == '소형':\n",
    "                                if np.isnan(product_date):\n",
    "                                    std = 0\n",
    "                                elif product_date < 19951231:\n",
    "                                    std = 60\n",
    "                                elif 19960101 <= product_date <= 20001231:\n",
    "                                    std = 55\n",
    "                                elif 20010101 <= product_date <= 20031231:\n",
    "                                    std = 45\n",
    "                                elif 20040101 <= product_date <= 20071231:\n",
    "                                    std = 40\n",
    "                                elif 20080101 <= product_date <= 20160831:\n",
    "                                    std = 20\n",
    "                                elif 20160901 <= product_date:\n",
    "                                    std = 10\n",
    "                            elif ci2 == '중형':\n",
    "                                if np.isnan(product_date):\n",
    "                                    std = 0\n",
    "                                elif product_date < 19921231:\n",
    "                                    std = 60\n",
    "                                elif 19930101 <= product_date <= 19951231:\n",
    "                                    std = 55\n",
    "                                elif 19960101 <= product_date <= 19971231:\n",
    "                                    std = 45\n",
    "                                elif 19980101 <= product_date <= 20001231: # 시내버스(40), 그 외(45) 조건 필요\n",
    "                                    std = 45\n",
    "                                elif 20010101 <= product_date <= 20040930:\n",
    "                                    std = 45\n",
    "                                elif 20041001 <= product_date <= 20071231:\n",
    "                                    std = 40\n",
    "                                elif 20080101 <= product_date <= 20160831:\n",
    "                                    std = 20\n",
    "                                elif 20160901 <= product_date:\n",
    "                                    std = 10\n",
    "                            elif ci2 == '대형':\n",
    "                                if np.isnan(product_date):\n",
    "                                    std = 0\n",
    "                                elif product_date < 19921231:\n",
    "                                    std = 60\n",
    "                                elif 19930101 <= product_date <= 19951231:\n",
    "                                    std = 55\n",
    "                                elif 19960101 <= product_date <= 19971231:\n",
    "                                    std = 45\n",
    "                                elif 19980101 <= product_date <= 20001231: # 시내버스(40), 그 외(45) 조건 필요\n",
    "                                    std = 45\n",
    "                                elif 20010101 <= product_date <= 20040930:\n",
    "                                    std = 45\n",
    "                                elif 20041001 <= product_date <= 20071231:\n",
    "                                    std = 40\n",
    "                                elif 20080101 <= product_date:\n",
    "                                    std = 20\n",
    "                else: # 5번째 값 존재\n",
    "                    # 매연 허용치\n",
    "                    if str(ci) == 'nan' or str(ci2) == 'nan':\n",
    "                        std = 0\n",
    "                    elif ci == '경형' or ci2 == '승용':\n",
    "                        if np.isnan(product_date):\n",
    "                            std = 0\n",
    "                        elif product_date < 19951231:\n",
    "                            std = 60\n",
    "                        elif 19960101 <= product_date <= 20001231:\n",
    "                            std = 55\n",
    "                        elif 20010101 <= product_date <= 20031231:\n",
    "                            std = 45\n",
    "                        elif 20040101 <= product_date <= 20071231:\n",
    "                            std = 40\n",
    "                        elif 20080101 <= product_date <= 20160831:\n",
    "                            std = 20\n",
    "                        elif 20160901 <= product_date:\n",
    "                            std = 10\n",
    "                    else:\n",
    "                        if ci2 == '소형':\n",
    "                            if np.isnan(product_date):\n",
    "                                std = 0\n",
    "                            elif product_date < 19951231:\n",
    "                                std = 60\n",
    "                            elif 19960101 <= product_date <= 20001231:\n",
    "                                std = 55\n",
    "                            elif 20010101 <= product_date <= 20031231:\n",
    "                                std = 45\n",
    "                            elif 20040101 <= product_date <= 20071231:\n",
    "                                std = 40\n",
    "                            elif 20080101 <= product_date <= 20160831:\n",
    "                                std = 20\n",
    "                            elif 20160901 <= product_date:\n",
    "                                std = 10\n",
    "                        elif ci2 == '중형':\n",
    "                            if np.isnan(product_date):\n",
    "                                std = 0\n",
    "                            elif product_date < 19921231:\n",
    "                                std = 60\n",
    "                            elif 19930101 <= product_date <= 19951231:\n",
    "                                std = 55\n",
    "                            elif 19960101 <= product_date <= 19971231:\n",
    "                                std = 45\n",
    "                            elif 19980101 <= product_date <= 20001231: # 시내버스(40), 그 외(45) 조건 필요\n",
    "                                std = 45\n",
    "                            elif 20010101 <= product_date <= 20040930:\n",
    "                                std = 45\n",
    "                            elif 20041001 <= product_date <= 20071231:\n",
    "                                std = 40\n",
    "                            elif 20080101 <= product_date <= 20160831:\n",
    "                                std = 20\n",
    "                            elif 20160901 <= product_date:\n",
    "                                std = 10\n",
    "                        elif ci2 == '대형':\n",
    "                            if np.isnan(product_date):\n",
    "                                std = 0\n",
    "                            elif product_date < 19921231:\n",
    "                                std = 60\n",
    "                            elif 19930101 <= product_date <= 19951231:\n",
    "                                std = 55\n",
    "                            elif 19960101 <= product_date <= 19971231:\n",
    "                                std = 45\n",
    "                            elif 19980101 <= product_date <= 20001231: # 시내버스(40), 그 외(45) 조건 필요\n",
    "                                std = 45\n",
    "                            elif 20010101 <= product_date <= 20040930:\n",
    "                                std = 45\n",
    "                            elif 20041001 <= product_date <= 20071231:\n",
    "                                std = 40\n",
    "                            elif 20080101 <= product_date:\n",
    "                                std = 20\n",
    "            else: # 6번째 값 존재\n",
    "                # 매연 허용치\n",
    "                if str(ci) == 'nan' or str(ci2) == 'nan':\n",
    "                    std = 0\n",
    "                elif ci == '경형' or ci2 == '승용':\n",
    "                    if np.isnan(product_date):\n",
    "                        std = 0\n",
    "                    elif product_date < 19951231:\n",
    "                        std = 60\n",
    "                    elif 19960101 <= product_date <= 20001231:\n",
    "                        std = 55\n",
    "                    elif 20010101 <= product_date <= 20031231:\n",
    "                        std = 45\n",
    "                    elif 20040101 <= product_date <= 20071231:\n",
    "                        std = 40\n",
    "                    elif 20080101 <= product_date <= 20160831:\n",
    "                        std = 20\n",
    "                    elif 20160901 <= product_date:\n",
    "                        std = 10\n",
    "                else:\n",
    "                    if ci2 == '소형':\n",
    "                        if np.isnan(product_date):\n",
    "                            std = 0\n",
    "                        elif product_date < 19951231:\n",
    "                            std = 60\n",
    "                        elif 19960101 <= product_date <= 20001231:\n",
    "                            std = 55\n",
    "                        elif 20010101 <= product_date <= 20031231:\n",
    "                            std = 45\n",
    "                        elif 20040101 <= product_date <= 20071231:\n",
    "                            std = 40\n",
    "                        elif 20080101 <= product_date <= 20160831:\n",
    "                            std = 20\n",
    "                        elif 20160901 <= product_date:\n",
    "                            std = 10\n",
    "                    elif ci2 == '중형':\n",
    "                        if np.isnan(product_date):\n",
    "                            std = 0\n",
    "                        elif product_date < 19921231:\n",
    "                            std = 60\n",
    "                        elif 19930101 <= product_date <= 19951231:\n",
    "                            std = 55\n",
    "                        elif 19960101 <= product_date <= 19971231:\n",
    "                            std = 45\n",
    "                        elif 19980101 <= product_date <= 20001231: # 시내버스(40), 그 외(45) 조건 필요\n",
    "                            std = 45\n",
    "                        elif 20010101 <= product_date <= 20040930:\n",
    "                            std = 45\n",
    "                        elif 20041001 <= product_date <= 20071231:\n",
    "                            std = 40\n",
    "                        elif 20080101 <= product_date <= 20160831:\n",
    "                            std = 20\n",
    "                        elif 20160901 <= product_date:\n",
    "                            std = 10\n",
    "                    elif ci2 == '대형':\n",
    "                        if np.isnan(product_date):\n",
    "                            std = 0\n",
    "                        elif product_date < 19921231:\n",
    "                            std = 60\n",
    "                        elif 19930101 <= product_date <= 19951231:\n",
    "                            std = 55\n",
    "                        elif 19960101 <= product_date <= 19971231:\n",
    "                            std = 45\n",
    "                        elif 19980101 <= product_date <= 20001231: # 시내버스(40), 그 외(45) 조건 필요\n",
    "                            std = 45\n",
    "                        elif 20010101 <= product_date <= 20040930:\n",
    "                            std = 45\n",
    "                        elif 20041001 <= product_date <= 20071231:\n",
    "                            std = 40\n",
    "                        elif 20080101 <= product_date:\n",
    "                            std = 20\n",
    "\n",
    "        # Total 값 계산\n",
    "        if std == 0:\n",
    "            gas_point = 100 - m*100\n",
    "        else:\n",
    "            gas_point = 100 - m*100/std\n",
    "\n",
    "        fail_point = 100 - p_f_rate * 100\n",
    "        t = gas_point*0.7 + fail_point*0.3\n",
    "\n",
    "        emno_list.append(one)\n",
    "        car_num_list.append(car_num)\n",
    "        total_point_list.append(t)"
   ]
  },
  {
   "cell_type": "code",
   "execution_count": null,
   "metadata": {},
   "outputs": [],
   "source": []
  },
  {
   "attachments": {},
   "cell_type": "markdown",
   "metadata": {},
   "source": [
    "# 코드 마지막"
   ]
  }
 ],
 "metadata": {
  "kernelspec": {
   "display_name": "Python 3.9.13 ('base')",
   "language": "python",
   "name": "python3"
  },
  "language_info": {
   "codemirror_mode": {
    "name": "ipython",
    "version": 3
   },
   "file_extension": ".py",
   "mimetype": "text/x-python",
   "name": "python",
   "nbconvert_exporter": "python",
   "pygments_lexer": "ipython3",
   "version": "3.9.13"
  },
  "orig_nbformat": 4,
  "vscode": {
   "interpreter": {
    "hash": "ad2bdc8ecc057115af97d19610ffacc2b4e99fae6737bb82f5d7fb13d2f2c186"
   }
  }
 },
 "nbformat": 4,
 "nbformat_minor": 2
}
