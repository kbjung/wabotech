{
 "cells": [
  {
   "cell_type": "markdown",
   "metadata": {},
   "source": [
    "# \"저공해차 보급촉진을 위한 제도운영 지원 및 개선방안 마련\" 데이터 분석"
   ]
  },
  {
   "cell_type": "markdown",
   "metadata": {},
   "source": [
    "## library"
   ]
  },
  {
   "cell_type": "code",
   "execution_count": 1,
   "metadata": {},
   "outputs": [],
   "source": [
    "import pandas as pd\n",
    "import numpy as np\n",
    "import matplotlib.pyplot as plt\n",
    "import re\n",
    "from tqdm import tqdm"
   ]
  },
  {
   "cell_type": "code",
   "execution_count": 2,
   "metadata": {},
   "outputs": [],
   "source": [
    "# 소수점 자리 표기 옵션\n",
    "pd.options.display.float_format = '{:.5f}'.format\n",
    "# pd.reset_option('display.float_format')"
   ]
  },
  {
   "cell_type": "markdown",
   "metadata": {},
   "source": [
    "### data load"
   ]
  },
  {
   "cell_type": "code",
   "execution_count": 3,
   "metadata": {},
   "outputs": [],
   "source": [
    "# - 2020년\n",
    "#     - 1월 : 229958\n",
    "#     - 2월 : 180605\n",
    "#     - 3월 : 173919\n",
    "#     - 4월 : 178250\n",
    "#     - 5월 : 193126\n",
    "#     - 6월 : 204171\n",
    "#     - 7월 : 224591\n",
    "#     - 8월 : 259094\n",
    "#     - 9월 : 231712\n",
    "#     - 10월 : 295100\n",
    "#     - 11월 : 303539\n",
    "#     - 12월 : 322549\n",
    "# - 2021년\n",
    "#     - 1월 : 304612\n",
    "#     - 2월 : 276148\n",
    "#     - 3월 : 295915\n",
    "#     - 4월 : 284649\n",
    "#     - 5월 : 288367\n",
    "#     - 6월 : 290878\n",
    "#     - 7월 : 349382\n",
    "#     - 8월 : 358950\n",
    "#     - 9월 : 357788\n",
    "#     - 10월 : 422421\n",
    "#     - 11월 : 479016\n",
    "#     - 12월 : 551719\n",
    "# - 2022년\n",
    "#     - 1월 : 544858\n",
    "#     - 2월 : 465335\n",
    "#     - 3월 : 512731\n",
    "#     - 4월 : 544984\n",
    "#     - 5월 : 593030\n",
    "#     - 6월 : 597657\n",
    "#     - 7월 : 675689\n",
    "#     - 8월 : 675079"
   ]
  },
  {
   "cell_type": "code",
   "execution_count": 5,
   "metadata": {},
   "outputs": [
    {
     "name": "stdout",
     "output_type": "stream",
     "text": [
      "2020년 01월 샘플 : 229958\n",
      "2020년 02월 샘플 : 180605\n",
      "2020년 03월 샘플 : 173919\n",
      "2020년 04월 샘플 : 178250\n",
      "2020년 05월 샘플 : 193126\n",
      "2020년 06월 샘플 : 204171\n",
      "2020년 07월 샘플 : 224591\n",
      "2020년 08월 샘플 : 259094\n",
      "2020년 09월 샘플 : 231712\n",
      "2020년 10월 샘플 : 295100\n",
      "2020년 11월 샘플 : 303539\n",
      "2020년 12월 샘플 : 322549\n",
      "2021년 01월 샘플 : 304612\n",
      "2021년 02월 샘플 : 276148\n",
      "2021년 03월 샘플 : 295915\n",
      "2021년 04월 샘플 : 284649\n",
      "2021년 05월 샘플 : 288367\n",
      "2021년 06월 샘플 : 290878\n",
      "2021년 07월 샘플 : 349382\n",
      "2021년 08월 샘플 : 358950\n",
      "2021년 09월 샘플 : 357788\n",
      "2021년 10월 샘플 : 422421\n",
      "2021년 11월 샘플 : 479016\n",
      "2021년 12월 샘플 : 551719\n",
      "2022년 01월 샘플 : 544858\n",
      "2022년 02월 샘플 : 465335\n",
      "2022년 03월 샘플 : 512731\n",
      "2022년 04월 샘플 : 544984\n",
      "2022년 05월 샘플 : 593030\n",
      "2022년 06월 샘플 : 597657\n",
      "2022년 07월 샘플 : 675689\n",
      "2022년 08월 샘플 : 675079\n"
     ]
    }
   ],
   "source": [
    "total_data = pd.DataFrame()\n",
    "# 2020년 \n",
    "count = 0\n",
    "for m in range(1, 13):\n",
    "    y = 20\n",
    "    s = f'raw/{y}년/20{y}년{m:0>2}월.xlsx'\n",
    "    m_data = pd.read_excel(s)\n",
    "    print(f'20{y}년 {m:0>2}월 샘플 :', m_data.shape[0])\n",
    "    count += m_data.shape[0]\n",
    "    total_data = pd.concat([total_data, m_data], ignore_index=True)\n",
    "# 2021년\n",
    "for m in range(1, 13):\n",
    "    y = 21\n",
    "    s = f'raw/{y}년/{y}년{m:0>2}월.xlsx'\n",
    "    m_data = pd.read_excel(s)\n",
    "    print(f'20{y}년 {m:0>2}월 샘플 :', m_data.shape[0])\n",
    "    count += m_data.shape[0]\n",
    "    total_data = pd.concat([total_data, m_data], ignore_index=True)\n",
    "# 2022년\n",
    "for m in range(1, 9):\n",
    "    y = 22\n",
    "    s = f'raw/{y}년/{y}년{m:0>2}월.xlsx'\n",
    "    m_data = pd.read_excel(s)\n",
    "    print(f'20{y}년 {m:0>2}월 샘플 :', m_data.shape[0])\n",
    "    count += m_data.shape[0]\n",
    "    total_data = pd.concat([total_data, m_data], ignore_index=True)"
   ]
  },
  {
   "cell_type": "code",
   "execution_count": 6,
   "metadata": {},
   "outputs": [
    {
     "name": "stdout",
     "output_type": "stream",
     "text": [
      "개별 데이터 개수 합산 : 11665822\n",
      "총 데이터 개수 : 11665822\n"
     ]
    }
   ],
   "source": [
    "print(f'개별 데이터 개수 합산 : {count}')\n",
    "print(f'총 데이터 개수 : {total_data.shape[0]}')"
   ]
  },
  {
   "cell_type": "code",
   "execution_count": 7,
   "metadata": {},
   "outputs": [
    {
     "name": "stdout",
     "output_type": "stream",
     "text": [
      "<class 'pandas.core.frame.DataFrame'>\n",
      "RangeIndex: 11665822 entries, 0 to 11665821\n",
      "Data columns (total 12 columns):\n",
      " #   Column     Dtype  \n",
      "---  ------     -----  \n",
      " 0   충전소명       object \n",
      " 1   충전기ID      int64  \n",
      " 2   지역         object \n",
      " 3   시군구        object \n",
      " 4   주소         object \n",
      " 5   충전기용량(kW)  float64\n",
      " 6   충전기타입      object \n",
      " 7   충전시작일시     int64  \n",
      " 8   충전종료일시     int64  \n",
      " 9   충전시간       object \n",
      " 10  충전량        float64\n",
      " 11  충전용량       object \n",
      "dtypes: float64(2), int64(3), object(7)\n",
      "memory usage: 1.0+ GB\n"
     ]
    }
   ],
   "source": [
    "total_data.info()"
   ]
  },
  {
   "cell_type": "markdown",
   "metadata": {},
   "source": [
    "#### 데이터 절약"
   ]
  },
  {
   "cell_type": "code",
   "execution_count": 8,
   "metadata": {},
   "outputs": [
    {
     "name": "stdout",
     "output_type": "stream",
     "text": [
      "<class 'pandas.core.frame.DataFrame'>\n",
      "RangeIndex: 11665822 entries, 0 to 11665821\n",
      "Data columns (total 12 columns):\n",
      " #   Column     Dtype  \n",
      "---  ------     -----  \n",
      " 0   충전소명       object \n",
      " 1   충전기ID      int16  \n",
      " 2   지역         object \n",
      " 3   시군구        object \n",
      " 4   주소         object \n",
      " 5   충전기용량(kW)  float64\n",
      " 6   충전기타입      object \n",
      " 7   충전시작일시     int64  \n",
      " 8   충전종료일시     int64  \n",
      " 9   충전시간       object \n",
      " 10  충전량        float64\n",
      " 11  충전용량       object \n",
      "dtypes: float64(2), int16(1), int64(2), object(7)\n",
      "memory usage: 1001.3+ MB\n"
     ]
    }
   ],
   "source": [
    "total_data['충전기ID'] = total_data['충전기ID'].astype('int16')\n",
    "total_data.info()"
   ]
  },
  {
   "cell_type": "markdown",
   "metadata": {},
   "source": [
    "##### 20-22년 병합 데이터 출력"
   ]
  },
  {
   "cell_type": "code",
   "execution_count": 80,
   "metadata": {},
   "outputs": [],
   "source": [
    "total_data.to_csv('2020-22년_급속충전.csv', encoding='utf-8')"
   ]
  },
  {
   "cell_type": "markdown",
   "metadata": {},
   "source": [
    "##### 20-22년 병합 데이터 로드(다시 시작)"
   ]
  },
  {
   "cell_type": "code",
   "execution_count": 638,
   "metadata": {},
   "outputs": [
    {
     "name": "stderr",
     "output_type": "stream",
     "text": [
      "C:\\Users\\kbj\\AppData\\Local\\Temp\\ipykernel_17248\\1573190630.py:1: DtypeWarning: Columns (12) have mixed types. Specify dtype option on import or set low_memory=False.\n",
      "  total_data = pd.read_csv('2020-22년_급속충전.csv')\n"
     ]
    }
   ],
   "source": [
    "# total_data = pd.read_csv('2020-22년_급속충전.csv', index_col=0)\n",
    "# total_data.info()"
   ]
  },
  {
   "cell_type": "code",
   "execution_count": 9,
   "metadata": {},
   "outputs": [
    {
     "name": "stdout",
     "output_type": "stream",
     "text": [
      "<class 'pandas.core.frame.DataFrame'>\n",
      "RangeIndex: 11665822 entries, 0 to 11665821\n",
      "Data columns (total 12 columns):\n",
      " #   Column     Dtype  \n",
      "---  ------     -----  \n",
      " 0   충전소명       object \n",
      " 1   충전기ID      int16  \n",
      " 2   지역         object \n",
      " 3   시군구        object \n",
      " 4   주소         object \n",
      " 5   충전기용량(kW)  float64\n",
      " 6   충전기타입      object \n",
      " 7   충전시작일시     int64  \n",
      " 8   충전종료일시     int64  \n",
      " 9   충전시간       object \n",
      " 10  충전량        float64\n",
      " 11  충전용량       object \n",
      "dtypes: float64(2), int16(1), int64(2), object(7)\n",
      "memory usage: 1001.3+ MB\n"
     ]
    }
   ],
   "source": [
    "df = total_data.copy()\n",
    "df.info()"
   ]
  },
  {
   "cell_type": "markdown",
   "metadata": {},
   "source": [
    "## 전처리\n",
    "- 충전소명 : O\n",
    "- 충전기ID : int64\n",
    "- 지역 : O\n",
    "- 시군구 : O\n",
    "- 주소 : O\n",
    "- 충전기용량(kW) : float64\n",
    "- 충전기타입 : object \n",
    "- 충전시작일시 : int64  \n",
    "- 충전종료일시 : int64  \n",
    "- 충전시간 : object \n",
    "- 충전량 : float64\n",
    "- 충전용량 : object "
   ]
  },
  {
   "cell_type": "markdown",
   "metadata": {},
   "source": [
    "### 특이사항\n",
    "- 2020년 12월까지 충전기용량(kW)가 2021년 1월부터 충전용량으로 변경\n",
    "    - 2020년 12월까지 데이터의 충전기용량(kW) 값을 충전용량으로 이동\n",
    "- 충전용량 표기방법 변경\n",
    "    - 2022년 3월까지 충전용량이 \"100\"으로 , 4월부터 \"급속(100kW멀티)\"으로 입력"
   ]
  },
  {
   "cell_type": "code",
   "execution_count": 10,
   "metadata": {},
   "outputs": [
    {
     "data": {
      "text/html": [
       "<div>\n",
       "<style scoped>\n",
       "    .dataframe tbody tr th:only-of-type {\n",
       "        vertical-align: middle;\n",
       "    }\n",
       "\n",
       "    .dataframe tbody tr th {\n",
       "        vertical-align: top;\n",
       "    }\n",
       "\n",
       "    .dataframe thead th {\n",
       "        text-align: right;\n",
       "    }\n",
       "</style>\n",
       "<table border=\"1\" class=\"dataframe\">\n",
       "  <thead>\n",
       "    <tr style=\"text-align: right;\">\n",
       "      <th></th>\n",
       "      <th>충전소명</th>\n",
       "      <th>충전기ID</th>\n",
       "      <th>지역</th>\n",
       "      <th>시군구</th>\n",
       "      <th>주소</th>\n",
       "      <th>충전기용량(kW)</th>\n",
       "      <th>충전기타입</th>\n",
       "      <th>충전시작일시</th>\n",
       "      <th>충전종료일시</th>\n",
       "      <th>충전시간</th>\n",
       "      <th>충전량</th>\n",
       "      <th>충전용량</th>\n",
       "    </tr>\n",
       "  </thead>\n",
       "  <tbody>\n",
       "    <tr>\n",
       "      <th>0</th>\n",
       "      <td>내린천휴게소 양양방향</td>\n",
       "      <td>1</td>\n",
       "      <td>강원도</td>\n",
       "      <td>인제군</td>\n",
       "      <td>강원도 인제군 상남면 하남리 339-7(양양방향)</td>\n",
       "      <td>50.00000</td>\n",
       "      <td>DC차데모+AC3상+DC콤보</td>\n",
       "      <td>20200117193331</td>\n",
       "      <td>20200117201417</td>\n",
       "      <td>00:40:00</td>\n",
       "      <td>25.47000</td>\n",
       "      <td>NaN</td>\n",
       "    </tr>\n",
       "    <tr>\n",
       "      <th>1</th>\n",
       "      <td>내린천휴게소 양양방향</td>\n",
       "      <td>1</td>\n",
       "      <td>강원도</td>\n",
       "      <td>인제군</td>\n",
       "      <td>강원도 인제군 상남면 하남리 339-7(양양방향)</td>\n",
       "      <td>50.00000</td>\n",
       "      <td>DC차데모+AC3상+DC콤보</td>\n",
       "      <td>20200130143545</td>\n",
       "      <td>20200130150645</td>\n",
       "      <td>00:30:31</td>\n",
       "      <td>17.57000</td>\n",
       "      <td>NaN</td>\n",
       "    </tr>\n",
       "    <tr>\n",
       "      <th>2</th>\n",
       "      <td>내린천휴게소 양양방향</td>\n",
       "      <td>1</td>\n",
       "      <td>강원도</td>\n",
       "      <td>인제군</td>\n",
       "      <td>강원도 인제군 상남면 하남리 339-7(양양방향)</td>\n",
       "      <td>50.00000</td>\n",
       "      <td>DC차데모+AC3상+DC콤보</td>\n",
       "      <td>20200105005728</td>\n",
       "      <td>20200105011329</td>\n",
       "      <td>00:15:35</td>\n",
       "      <td>6.98000</td>\n",
       "      <td>NaN</td>\n",
       "    </tr>\n",
       "    <tr>\n",
       "      <th>3</th>\n",
       "      <td>내린천휴게소 양양방향</td>\n",
       "      <td>3</td>\n",
       "      <td>강원도</td>\n",
       "      <td>인제군</td>\n",
       "      <td>강원도 인제군 상남면 하남리 339-7(양양방향)</td>\n",
       "      <td>100.00000</td>\n",
       "      <td>DC콤보</td>\n",
       "      <td>20200120120215</td>\n",
       "      <td>20200120124708</td>\n",
       "      <td>00:41:00</td>\n",
       "      <td>15.30000</td>\n",
       "      <td>NaN</td>\n",
       "    </tr>\n",
       "    <tr>\n",
       "      <th>4</th>\n",
       "      <td>한국광기술원</td>\n",
       "      <td>1</td>\n",
       "      <td>광주광역시</td>\n",
       "      <td>북구</td>\n",
       "      <td>광주광역시 북구 첨단 벤처로 108번길 9</td>\n",
       "      <td>50.00000</td>\n",
       "      <td>DC차데모+AC3상+DC콤보</td>\n",
       "      <td>20200123085417</td>\n",
       "      <td>20200123092554</td>\n",
       "      <td>00:31:14</td>\n",
       "      <td>21.92000</td>\n",
       "      <td>NaN</td>\n",
       "    </tr>\n",
       "  </tbody>\n",
       "</table>\n",
       "</div>"
      ],
      "text/plain": [
       "          충전소명  충전기ID     지역  시군구                           주소  충전기용량(kW)  \\\n",
       "0  내린천휴게소 양양방향      1    강원도  인제군  강원도 인제군 상남면 하남리 339-7(양양방향)   50.00000   \n",
       "1  내린천휴게소 양양방향      1    강원도  인제군  강원도 인제군 상남면 하남리 339-7(양양방향)   50.00000   \n",
       "2  내린천휴게소 양양방향      1    강원도  인제군  강원도 인제군 상남면 하남리 339-7(양양방향)   50.00000   \n",
       "3  내린천휴게소 양양방향      3    강원도  인제군  강원도 인제군 상남면 하남리 339-7(양양방향)  100.00000   \n",
       "4       한국광기술원      1  광주광역시   북구      광주광역시 북구 첨단 벤처로 108번길 9   50.00000   \n",
       "\n",
       "             충전기타입          충전시작일시          충전종료일시      충전시간      충전량 충전용량  \n",
       "0  DC차데모+AC3상+DC콤보  20200117193331  20200117201417  00:40:00 25.47000  NaN  \n",
       "1  DC차데모+AC3상+DC콤보  20200130143545  20200130150645  00:30:31 17.57000  NaN  \n",
       "2  DC차데모+AC3상+DC콤보  20200105005728  20200105011329  00:15:35  6.98000  NaN  \n",
       "3             DC콤보  20200120120215  20200120124708  00:41:00 15.30000  NaN  \n",
       "4  DC차데모+AC3상+DC콤보  20200123085417  20200123092554  00:31:14 21.92000  NaN  "
      ]
     },
     "execution_count": 10,
     "metadata": {},
     "output_type": "execute_result"
    }
   ],
   "source": [
    "df.head()"
   ]
  },
  {
   "cell_type": "code",
   "execution_count": 11,
   "metadata": {},
   "outputs": [
    {
     "data": {
      "text/html": [
       "<div>\n",
       "<style scoped>\n",
       "    .dataframe tbody tr th:only-of-type {\n",
       "        vertical-align: middle;\n",
       "    }\n",
       "\n",
       "    .dataframe tbody tr th {\n",
       "        vertical-align: top;\n",
       "    }\n",
       "\n",
       "    .dataframe thead th {\n",
       "        text-align: right;\n",
       "    }\n",
       "</style>\n",
       "<table border=\"1\" class=\"dataframe\">\n",
       "  <thead>\n",
       "    <tr style=\"text-align: right;\">\n",
       "      <th></th>\n",
       "      <th>충전소명</th>\n",
       "      <th>충전기ID</th>\n",
       "      <th>지역</th>\n",
       "      <th>시군구</th>\n",
       "      <th>주소</th>\n",
       "      <th>충전기용량(kW)</th>\n",
       "      <th>충전기타입</th>\n",
       "      <th>충전시작일시</th>\n",
       "      <th>충전종료일시</th>\n",
       "      <th>충전시간</th>\n",
       "      <th>충전량</th>\n",
       "      <th>충전용량</th>\n",
       "    </tr>\n",
       "  </thead>\n",
       "  <tbody>\n",
       "    <tr>\n",
       "      <th>2796614</th>\n",
       "      <td>군위휴게소(부산방향)</td>\n",
       "      <td>1</td>\n",
       "      <td>경상북도</td>\n",
       "      <td>군위군</td>\n",
       "      <td>경상북도 군위군 군위읍 경북대로 4084 (오곡리)</td>\n",
       "      <td>NaN</td>\n",
       "      <td>DC차데모+AC3상+DC콤보</td>\n",
       "      <td>20210101092250</td>\n",
       "      <td>20210101095816</td>\n",
       "      <td>00:29:24</td>\n",
       "      <td>11.95000</td>\n",
       "      <td>50.00000</td>\n",
       "    </tr>\n",
       "    <tr>\n",
       "      <th>2796615</th>\n",
       "      <td>충주휴게소(마산방향)</td>\n",
       "      <td>1</td>\n",
       "      <td>충청북도</td>\n",
       "      <td>충주시</td>\n",
       "      <td>충청북도 충주시 중앙탑면 중부내륙고속도로 231 (용전리)</td>\n",
       "      <td>NaN</td>\n",
       "      <td>DC차데모+AC3상+DC콤보</td>\n",
       "      <td>20210101095126</td>\n",
       "      <td>20210101095818</td>\n",
       "      <td>00:06:48</td>\n",
       "      <td>4.86000</td>\n",
       "      <td>50.00000</td>\n",
       "    </tr>\n",
       "    <tr>\n",
       "      <th>2796616</th>\n",
       "      <td>내서읍스포츠센터</td>\n",
       "      <td>1</td>\n",
       "      <td>경상남도</td>\n",
       "      <td>창원시</td>\n",
       "      <td>경상남도 창원시 마산회원구 내서읍 중리 391-3</td>\n",
       "      <td>NaN</td>\n",
       "      <td>DC콤보</td>\n",
       "      <td>20210101094752</td>\n",
       "      <td>20210101095819</td>\n",
       "      <td>00:10:27</td>\n",
       "      <td>3.29000</td>\n",
       "      <td>100.00000</td>\n",
       "    </tr>\n",
       "    <tr>\n",
       "      <th>2796617</th>\n",
       "      <td>삼성혈 인근 공영주차장</td>\n",
       "      <td>1</td>\n",
       "      <td>제주특별자치도</td>\n",
       "      <td>제주시</td>\n",
       "      <td>제주특별자치도 제주시 이도1동 1293-1</td>\n",
       "      <td>NaN</td>\n",
       "      <td>DC차데모+AC3상+DC콤보</td>\n",
       "      <td>20210101091323</td>\n",
       "      <td>20210101095819</td>\n",
       "      <td>00:40:00</td>\n",
       "      <td>7.52000</td>\n",
       "      <td>50.00000</td>\n",
       "    </tr>\n",
       "    <tr>\n",
       "      <th>2796618</th>\n",
       "      <td>본오1동행정복지센터</td>\n",
       "      <td>1</td>\n",
       "      <td>경기도</td>\n",
       "      <td>안산시</td>\n",
       "      <td>경기도 안산시 상록구 샘골로 16</td>\n",
       "      <td>NaN</td>\n",
       "      <td>DC콤보</td>\n",
       "      <td>20210101091559</td>\n",
       "      <td>20210101095835</td>\n",
       "      <td>00:40:00</td>\n",
       "      <td>21.66000</td>\n",
       "      <td>100.00000</td>\n",
       "    </tr>\n",
       "  </tbody>\n",
       "</table>\n",
       "</div>"
      ],
      "text/plain": [
       "                 충전소명  충전기ID       지역  시군구                                주소  \\\n",
       "2796614   군위휴게소(부산방향)      1     경상북도  군위군      경상북도 군위군 군위읍 경북대로 4084 (오곡리)   \n",
       "2796615   충주휴게소(마산방향)      1     충청북도  충주시  충청북도 충주시 중앙탑면 중부내륙고속도로 231 (용전리)   \n",
       "2796616      내서읍스포츠센터      1     경상남도  창원시       경상남도 창원시 마산회원구 내서읍 중리 391-3   \n",
       "2796617  삼성혈 인근 공영주차장      1  제주특별자치도  제주시           제주특별자치도 제주시 이도1동 1293-1   \n",
       "2796618    본오1동행정복지센터      1      경기도  안산시                경기도 안산시 상록구 샘골로 16   \n",
       "\n",
       "         충전기용량(kW)            충전기타입          충전시작일시          충전종료일시      충전시간  \\\n",
       "2796614        NaN  DC차데모+AC3상+DC콤보  20210101092250  20210101095816  00:29:24   \n",
       "2796615        NaN  DC차데모+AC3상+DC콤보  20210101095126  20210101095818  00:06:48   \n",
       "2796616        NaN             DC콤보  20210101094752  20210101095819  00:10:27   \n",
       "2796617        NaN  DC차데모+AC3상+DC콤보  20210101091323  20210101095819  00:40:00   \n",
       "2796618        NaN             DC콤보  20210101091559  20210101095835  00:40:00   \n",
       "\n",
       "             충전량      충전용량  \n",
       "2796614 11.95000  50.00000  \n",
       "2796615  4.86000  50.00000  \n",
       "2796616  3.29000 100.00000  \n",
       "2796617  7.52000  50.00000  \n",
       "2796618 21.66000 100.00000  "
      ]
     },
     "execution_count": 11,
     "metadata": {},
     "output_type": "execute_result"
    }
   ],
   "source": [
    "df[df['충전용량'].notnull() == True].head()"
   ]
  },
  {
   "cell_type": "markdown",
   "metadata": {},
   "source": [
    "### 충전시작시간 정리"
   ]
  },
  {
   "cell_type": "code",
   "execution_count": 12,
   "metadata": {},
   "outputs": [
    {
     "name": "stdout",
     "output_type": "stream",
     "text": [
      "0\n"
     ]
    }
   ],
   "source": [
    "# 충전시작일시의 데이터는 년~초 까지 모두 존재\n",
    "temp = df['충전시작일시'].to_list()\n",
    "temp2 = [str(i) for i in temp]\n",
    "count = 0\n",
    "for one in temp2:\n",
    "    if len(one) == 8:\n",
    "        count += 1\n",
    "print(count)"
   ]
  },
  {
   "cell_type": "code",
   "execution_count": 13,
   "metadata": {},
   "outputs": [
    {
     "data": {
      "text/html": [
       "<div>\n",
       "<style scoped>\n",
       "    .dataframe tbody tr th:only-of-type {\n",
       "        vertical-align: middle;\n",
       "    }\n",
       "\n",
       "    .dataframe tbody tr th {\n",
       "        vertical-align: top;\n",
       "    }\n",
       "\n",
       "    .dataframe thead th {\n",
       "        text-align: right;\n",
       "    }\n",
       "</style>\n",
       "<table border=\"1\" class=\"dataframe\">\n",
       "  <thead>\n",
       "    <tr style=\"text-align: right;\">\n",
       "      <th></th>\n",
       "      <th>충전소명</th>\n",
       "      <th>충전기ID</th>\n",
       "      <th>지역</th>\n",
       "      <th>시군구</th>\n",
       "      <th>주소</th>\n",
       "      <th>충전기용량(kW)</th>\n",
       "      <th>충전기타입</th>\n",
       "      <th>충전시작일시</th>\n",
       "      <th>충전종료일시</th>\n",
       "      <th>충전시간</th>\n",
       "      <th>충전량</th>\n",
       "      <th>충전용량</th>\n",
       "      <th>충전시작_년도</th>\n",
       "      <th>충전시작_월</th>\n",
       "      <th>충전시작_일</th>\n",
       "      <th>충전시작_시</th>\n",
       "      <th>충전시작_분</th>\n",
       "      <th>충전시작_초</th>\n",
       "    </tr>\n",
       "  </thead>\n",
       "  <tbody>\n",
       "    <tr>\n",
       "      <th>0</th>\n",
       "      <td>내린천휴게소 양양방향</td>\n",
       "      <td>1</td>\n",
       "      <td>강원도</td>\n",
       "      <td>인제군</td>\n",
       "      <td>강원도 인제군 상남면 하남리 339-7(양양방향)</td>\n",
       "      <td>50.00000</td>\n",
       "      <td>DC차데모+AC3상+DC콤보</td>\n",
       "      <td>20200117193331</td>\n",
       "      <td>20200117201417</td>\n",
       "      <td>00:40:00</td>\n",
       "      <td>25.47000</td>\n",
       "      <td>NaN</td>\n",
       "      <td>2020</td>\n",
       "      <td>1</td>\n",
       "      <td>17</td>\n",
       "      <td>19</td>\n",
       "      <td>33</td>\n",
       "      <td>31</td>\n",
       "    </tr>\n",
       "    <tr>\n",
       "      <th>1</th>\n",
       "      <td>내린천휴게소 양양방향</td>\n",
       "      <td>1</td>\n",
       "      <td>강원도</td>\n",
       "      <td>인제군</td>\n",
       "      <td>강원도 인제군 상남면 하남리 339-7(양양방향)</td>\n",
       "      <td>50.00000</td>\n",
       "      <td>DC차데모+AC3상+DC콤보</td>\n",
       "      <td>20200130143545</td>\n",
       "      <td>20200130150645</td>\n",
       "      <td>00:30:31</td>\n",
       "      <td>17.57000</td>\n",
       "      <td>NaN</td>\n",
       "      <td>2020</td>\n",
       "      <td>1</td>\n",
       "      <td>30</td>\n",
       "      <td>14</td>\n",
       "      <td>35</td>\n",
       "      <td>45</td>\n",
       "    </tr>\n",
       "    <tr>\n",
       "      <th>2</th>\n",
       "      <td>내린천휴게소 양양방향</td>\n",
       "      <td>1</td>\n",
       "      <td>강원도</td>\n",
       "      <td>인제군</td>\n",
       "      <td>강원도 인제군 상남면 하남리 339-7(양양방향)</td>\n",
       "      <td>50.00000</td>\n",
       "      <td>DC차데모+AC3상+DC콤보</td>\n",
       "      <td>20200105005728</td>\n",
       "      <td>20200105011329</td>\n",
       "      <td>00:15:35</td>\n",
       "      <td>6.98000</td>\n",
       "      <td>NaN</td>\n",
       "      <td>2020</td>\n",
       "      <td>1</td>\n",
       "      <td>5</td>\n",
       "      <td>0</td>\n",
       "      <td>57</td>\n",
       "      <td>28</td>\n",
       "    </tr>\n",
       "    <tr>\n",
       "      <th>3</th>\n",
       "      <td>내린천휴게소 양양방향</td>\n",
       "      <td>3</td>\n",
       "      <td>강원도</td>\n",
       "      <td>인제군</td>\n",
       "      <td>강원도 인제군 상남면 하남리 339-7(양양방향)</td>\n",
       "      <td>100.00000</td>\n",
       "      <td>DC콤보</td>\n",
       "      <td>20200120120215</td>\n",
       "      <td>20200120124708</td>\n",
       "      <td>00:41:00</td>\n",
       "      <td>15.30000</td>\n",
       "      <td>NaN</td>\n",
       "      <td>2020</td>\n",
       "      <td>1</td>\n",
       "      <td>20</td>\n",
       "      <td>12</td>\n",
       "      <td>2</td>\n",
       "      <td>15</td>\n",
       "    </tr>\n",
       "    <tr>\n",
       "      <th>4</th>\n",
       "      <td>한국광기술원</td>\n",
       "      <td>1</td>\n",
       "      <td>광주광역시</td>\n",
       "      <td>북구</td>\n",
       "      <td>광주광역시 북구 첨단 벤처로 108번길 9</td>\n",
       "      <td>50.00000</td>\n",
       "      <td>DC차데모+AC3상+DC콤보</td>\n",
       "      <td>20200123085417</td>\n",
       "      <td>20200123092554</td>\n",
       "      <td>00:31:14</td>\n",
       "      <td>21.92000</td>\n",
       "      <td>NaN</td>\n",
       "      <td>2020</td>\n",
       "      <td>1</td>\n",
       "      <td>23</td>\n",
       "      <td>8</td>\n",
       "      <td>54</td>\n",
       "      <td>17</td>\n",
       "    </tr>\n",
       "  </tbody>\n",
       "</table>\n",
       "</div>"
      ],
      "text/plain": [
       "          충전소명  충전기ID     지역  시군구                           주소  충전기용량(kW)  \\\n",
       "0  내린천휴게소 양양방향      1    강원도  인제군  강원도 인제군 상남면 하남리 339-7(양양방향)   50.00000   \n",
       "1  내린천휴게소 양양방향      1    강원도  인제군  강원도 인제군 상남면 하남리 339-7(양양방향)   50.00000   \n",
       "2  내린천휴게소 양양방향      1    강원도  인제군  강원도 인제군 상남면 하남리 339-7(양양방향)   50.00000   \n",
       "3  내린천휴게소 양양방향      3    강원도  인제군  강원도 인제군 상남면 하남리 339-7(양양방향)  100.00000   \n",
       "4       한국광기술원      1  광주광역시   북구      광주광역시 북구 첨단 벤처로 108번길 9   50.00000   \n",
       "\n",
       "             충전기타입          충전시작일시          충전종료일시      충전시간      충전량 충전용량  \\\n",
       "0  DC차데모+AC3상+DC콤보  20200117193331  20200117201417  00:40:00 25.47000  NaN   \n",
       "1  DC차데모+AC3상+DC콤보  20200130143545  20200130150645  00:30:31 17.57000  NaN   \n",
       "2  DC차데모+AC3상+DC콤보  20200105005728  20200105011329  00:15:35  6.98000  NaN   \n",
       "3             DC콤보  20200120120215  20200120124708  00:41:00 15.30000  NaN   \n",
       "4  DC차데모+AC3상+DC콤보  20200123085417  20200123092554  00:31:14 21.92000  NaN   \n",
       "\n",
       "   충전시작_년도  충전시작_월  충전시작_일  충전시작_시  충전시작_분  충전시작_초  \n",
       "0     2020       1      17      19      33      31  \n",
       "1     2020       1      30      14      35      45  \n",
       "2     2020       1       5       0      57      28  \n",
       "3     2020       1      20      12       2      15  \n",
       "4     2020       1      23       8      54      17  "
      ]
     },
     "execution_count": 13,
     "metadata": {},
     "output_type": "execute_result"
    }
   ],
   "source": [
    "ch_start = df['충전시작일시'].copy()\n",
    "df['충전시작_년도'] = ch_start.astype(str).str[:4].astype(int)\n",
    "df['충전시작_월'] = df['충전시작일시'].astype(str).str[4:6].astype(int)\n",
    "df['충전시작_일'] = df['충전시작일시'].astype(str).str[6:8].astype(int)\n",
    "df['충전시작_시'] = df['충전시작일시'].astype(str).str[8:10].astype(int)\n",
    "df['충전시작_분'] = df['충전시작일시'].astype(str).str[10:12].astype(int)\n",
    "df['충전시작_초'] = df['충전시작일시'].astype(str).str[12:14].astype(int)\n",
    "df.head()"
   ]
  },
  {
   "cell_type": "code",
   "execution_count": 14,
   "metadata": {},
   "outputs": [
    {
     "data": {
      "text/html": [
       "<div>\n",
       "<style scoped>\n",
       "    .dataframe tbody tr th:only-of-type {\n",
       "        vertical-align: middle;\n",
       "    }\n",
       "\n",
       "    .dataframe tbody tr th {\n",
       "        vertical-align: top;\n",
       "    }\n",
       "\n",
       "    .dataframe thead th {\n",
       "        text-align: right;\n",
       "    }\n",
       "</style>\n",
       "<table border=\"1\" class=\"dataframe\">\n",
       "  <thead>\n",
       "    <tr style=\"text-align: right;\">\n",
       "      <th></th>\n",
       "      <th>충전소명</th>\n",
       "      <th>충전기ID</th>\n",
       "      <th>지역</th>\n",
       "      <th>시군구</th>\n",
       "      <th>주소</th>\n",
       "      <th>충전기용량(kW)</th>\n",
       "      <th>충전기타입</th>\n",
       "      <th>충전시작일시</th>\n",
       "      <th>충전종료일시</th>\n",
       "      <th>충전시간</th>\n",
       "      <th>충전량</th>\n",
       "      <th>충전용량</th>\n",
       "      <th>충전시작_년도</th>\n",
       "      <th>충전시작_월</th>\n",
       "      <th>충전시작_일</th>\n",
       "      <th>충전시작_시</th>\n",
       "      <th>충전시작_분</th>\n",
       "      <th>충전시작_초</th>\n",
       "      <th>충전시작일시(변환)</th>\n",
       "    </tr>\n",
       "  </thead>\n",
       "  <tbody>\n",
       "    <tr>\n",
       "      <th>0</th>\n",
       "      <td>내린천휴게소 양양방향</td>\n",
       "      <td>1</td>\n",
       "      <td>강원도</td>\n",
       "      <td>인제군</td>\n",
       "      <td>강원도 인제군 상남면 하남리 339-7(양양방향)</td>\n",
       "      <td>50.00000</td>\n",
       "      <td>DC차데모+AC3상+DC콤보</td>\n",
       "      <td>20200117193331</td>\n",
       "      <td>20200117201417</td>\n",
       "      <td>00:40:00</td>\n",
       "      <td>25.47000</td>\n",
       "      <td>NaN</td>\n",
       "      <td>2020</td>\n",
       "      <td>1</td>\n",
       "      <td>17</td>\n",
       "      <td>19</td>\n",
       "      <td>33</td>\n",
       "      <td>31</td>\n",
       "      <td>2020-1-17 19:33:31</td>\n",
       "    </tr>\n",
       "    <tr>\n",
       "      <th>1</th>\n",
       "      <td>내린천휴게소 양양방향</td>\n",
       "      <td>1</td>\n",
       "      <td>강원도</td>\n",
       "      <td>인제군</td>\n",
       "      <td>강원도 인제군 상남면 하남리 339-7(양양방향)</td>\n",
       "      <td>50.00000</td>\n",
       "      <td>DC차데모+AC3상+DC콤보</td>\n",
       "      <td>20200130143545</td>\n",
       "      <td>20200130150645</td>\n",
       "      <td>00:30:31</td>\n",
       "      <td>17.57000</td>\n",
       "      <td>NaN</td>\n",
       "      <td>2020</td>\n",
       "      <td>1</td>\n",
       "      <td>30</td>\n",
       "      <td>14</td>\n",
       "      <td>35</td>\n",
       "      <td>45</td>\n",
       "      <td>2020-1-30 14:35:45</td>\n",
       "    </tr>\n",
       "    <tr>\n",
       "      <th>2</th>\n",
       "      <td>내린천휴게소 양양방향</td>\n",
       "      <td>1</td>\n",
       "      <td>강원도</td>\n",
       "      <td>인제군</td>\n",
       "      <td>강원도 인제군 상남면 하남리 339-7(양양방향)</td>\n",
       "      <td>50.00000</td>\n",
       "      <td>DC차데모+AC3상+DC콤보</td>\n",
       "      <td>20200105005728</td>\n",
       "      <td>20200105011329</td>\n",
       "      <td>00:15:35</td>\n",
       "      <td>6.98000</td>\n",
       "      <td>NaN</td>\n",
       "      <td>2020</td>\n",
       "      <td>1</td>\n",
       "      <td>5</td>\n",
       "      <td>0</td>\n",
       "      <td>57</td>\n",
       "      <td>28</td>\n",
       "      <td>2020-1-5 0:57:28</td>\n",
       "    </tr>\n",
       "    <tr>\n",
       "      <th>3</th>\n",
       "      <td>내린천휴게소 양양방향</td>\n",
       "      <td>3</td>\n",
       "      <td>강원도</td>\n",
       "      <td>인제군</td>\n",
       "      <td>강원도 인제군 상남면 하남리 339-7(양양방향)</td>\n",
       "      <td>100.00000</td>\n",
       "      <td>DC콤보</td>\n",
       "      <td>20200120120215</td>\n",
       "      <td>20200120124708</td>\n",
       "      <td>00:41:00</td>\n",
       "      <td>15.30000</td>\n",
       "      <td>NaN</td>\n",
       "      <td>2020</td>\n",
       "      <td>1</td>\n",
       "      <td>20</td>\n",
       "      <td>12</td>\n",
       "      <td>2</td>\n",
       "      <td>15</td>\n",
       "      <td>2020-1-20 12:2:15</td>\n",
       "    </tr>\n",
       "    <tr>\n",
       "      <th>4</th>\n",
       "      <td>한국광기술원</td>\n",
       "      <td>1</td>\n",
       "      <td>광주광역시</td>\n",
       "      <td>북구</td>\n",
       "      <td>광주광역시 북구 첨단 벤처로 108번길 9</td>\n",
       "      <td>50.00000</td>\n",
       "      <td>DC차데모+AC3상+DC콤보</td>\n",
       "      <td>20200123085417</td>\n",
       "      <td>20200123092554</td>\n",
       "      <td>00:31:14</td>\n",
       "      <td>21.92000</td>\n",
       "      <td>NaN</td>\n",
       "      <td>2020</td>\n",
       "      <td>1</td>\n",
       "      <td>23</td>\n",
       "      <td>8</td>\n",
       "      <td>54</td>\n",
       "      <td>17</td>\n",
       "      <td>2020-1-23 8:54:17</td>\n",
       "    </tr>\n",
       "  </tbody>\n",
       "</table>\n",
       "</div>"
      ],
      "text/plain": [
       "          충전소명  충전기ID     지역  시군구                           주소  충전기용량(kW)  \\\n",
       "0  내린천휴게소 양양방향      1    강원도  인제군  강원도 인제군 상남면 하남리 339-7(양양방향)   50.00000   \n",
       "1  내린천휴게소 양양방향      1    강원도  인제군  강원도 인제군 상남면 하남리 339-7(양양방향)   50.00000   \n",
       "2  내린천휴게소 양양방향      1    강원도  인제군  강원도 인제군 상남면 하남리 339-7(양양방향)   50.00000   \n",
       "3  내린천휴게소 양양방향      3    강원도  인제군  강원도 인제군 상남면 하남리 339-7(양양방향)  100.00000   \n",
       "4       한국광기술원      1  광주광역시   북구      광주광역시 북구 첨단 벤처로 108번길 9   50.00000   \n",
       "\n",
       "             충전기타입          충전시작일시          충전종료일시      충전시간      충전량 충전용량  \\\n",
       "0  DC차데모+AC3상+DC콤보  20200117193331  20200117201417  00:40:00 25.47000  NaN   \n",
       "1  DC차데모+AC3상+DC콤보  20200130143545  20200130150645  00:30:31 17.57000  NaN   \n",
       "2  DC차데모+AC3상+DC콤보  20200105005728  20200105011329  00:15:35  6.98000  NaN   \n",
       "3             DC콤보  20200120120215  20200120124708  00:41:00 15.30000  NaN   \n",
       "4  DC차데모+AC3상+DC콤보  20200123085417  20200123092554  00:31:14 21.92000  NaN   \n",
       "\n",
       "   충전시작_년도  충전시작_월  충전시작_일  충전시작_시  충전시작_분  충전시작_초          충전시작일시(변환)  \n",
       "0     2020       1      17      19      33      31  2020-1-17 19:33:31  \n",
       "1     2020       1      30      14      35      45  2020-1-30 14:35:45  \n",
       "2     2020       1       5       0      57      28    2020-1-5 0:57:28  \n",
       "3     2020       1      20      12       2      15   2020-1-20 12:2:15  \n",
       "4     2020       1      23       8      54      17   2020-1-23 8:54:17  "
      ]
     },
     "execution_count": 14,
     "metadata": {},
     "output_type": "execute_result"
    }
   ],
   "source": [
    "df['충전시작일시(변환)'] = df['충전시작_년도'].astype(str) + '-' + df['충전시작_월'].astype(str) + '-' + df['충전시작_일'].astype(str) + ' ' + df['충전시작_시'].astype(str) + ':' + df['충전시작_분'].astype(str) + ':' + df['충전시작_초'].astype(str)\n",
    "df.head()"
   ]
  },
  {
   "cell_type": "code",
   "execution_count": 15,
   "metadata": {},
   "outputs": [
    {
     "data": {
      "text/html": [
       "<div>\n",
       "<style scoped>\n",
       "    .dataframe tbody tr th:only-of-type {\n",
       "        vertical-align: middle;\n",
       "    }\n",
       "\n",
       "    .dataframe tbody tr th {\n",
       "        vertical-align: top;\n",
       "    }\n",
       "\n",
       "    .dataframe thead th {\n",
       "        text-align: right;\n",
       "    }\n",
       "</style>\n",
       "<table border=\"1\" class=\"dataframe\">\n",
       "  <thead>\n",
       "    <tr style=\"text-align: right;\">\n",
       "      <th></th>\n",
       "      <th>충전소명</th>\n",
       "      <th>충전기ID</th>\n",
       "      <th>지역</th>\n",
       "      <th>시군구</th>\n",
       "      <th>주소</th>\n",
       "      <th>충전기용량(kW)</th>\n",
       "      <th>충전기타입</th>\n",
       "      <th>충전시작일시</th>\n",
       "      <th>충전종료일시</th>\n",
       "      <th>충전시간</th>\n",
       "      <th>충전량</th>\n",
       "      <th>충전용량</th>\n",
       "      <th>충전시작_년도</th>\n",
       "      <th>충전시작_월</th>\n",
       "      <th>충전시작_일</th>\n",
       "      <th>충전시작_시</th>\n",
       "      <th>충전시작_분</th>\n",
       "      <th>충전시작_초</th>\n",
       "      <th>충전시작일시(변환)</th>\n",
       "    </tr>\n",
       "  </thead>\n",
       "  <tbody>\n",
       "    <tr>\n",
       "      <th>0</th>\n",
       "      <td>내린천휴게소 양양방향</td>\n",
       "      <td>1</td>\n",
       "      <td>강원도</td>\n",
       "      <td>인제군</td>\n",
       "      <td>강원도 인제군 상남면 하남리 339-7(양양방향)</td>\n",
       "      <td>50.00000</td>\n",
       "      <td>DC차데모+AC3상+DC콤보</td>\n",
       "      <td>20200117193331</td>\n",
       "      <td>20200117201417</td>\n",
       "      <td>00:40:00</td>\n",
       "      <td>25.47000</td>\n",
       "      <td>NaN</td>\n",
       "      <td>2020</td>\n",
       "      <td>1</td>\n",
       "      <td>17</td>\n",
       "      <td>19</td>\n",
       "      <td>33</td>\n",
       "      <td>31</td>\n",
       "      <td>2020-01-17 19:33:31</td>\n",
       "    </tr>\n",
       "    <tr>\n",
       "      <th>1</th>\n",
       "      <td>내린천휴게소 양양방향</td>\n",
       "      <td>1</td>\n",
       "      <td>강원도</td>\n",
       "      <td>인제군</td>\n",
       "      <td>강원도 인제군 상남면 하남리 339-7(양양방향)</td>\n",
       "      <td>50.00000</td>\n",
       "      <td>DC차데모+AC3상+DC콤보</td>\n",
       "      <td>20200130143545</td>\n",
       "      <td>20200130150645</td>\n",
       "      <td>00:30:31</td>\n",
       "      <td>17.57000</td>\n",
       "      <td>NaN</td>\n",
       "      <td>2020</td>\n",
       "      <td>1</td>\n",
       "      <td>30</td>\n",
       "      <td>14</td>\n",
       "      <td>35</td>\n",
       "      <td>45</td>\n",
       "      <td>2020-01-30 14:35:45</td>\n",
       "    </tr>\n",
       "    <tr>\n",
       "      <th>2</th>\n",
       "      <td>내린천휴게소 양양방향</td>\n",
       "      <td>1</td>\n",
       "      <td>강원도</td>\n",
       "      <td>인제군</td>\n",
       "      <td>강원도 인제군 상남면 하남리 339-7(양양방향)</td>\n",
       "      <td>50.00000</td>\n",
       "      <td>DC차데모+AC3상+DC콤보</td>\n",
       "      <td>20200105005728</td>\n",
       "      <td>20200105011329</td>\n",
       "      <td>00:15:35</td>\n",
       "      <td>6.98000</td>\n",
       "      <td>NaN</td>\n",
       "      <td>2020</td>\n",
       "      <td>1</td>\n",
       "      <td>5</td>\n",
       "      <td>0</td>\n",
       "      <td>57</td>\n",
       "      <td>28</td>\n",
       "      <td>2020-01-05 00:57:28</td>\n",
       "    </tr>\n",
       "    <tr>\n",
       "      <th>3</th>\n",
       "      <td>내린천휴게소 양양방향</td>\n",
       "      <td>3</td>\n",
       "      <td>강원도</td>\n",
       "      <td>인제군</td>\n",
       "      <td>강원도 인제군 상남면 하남리 339-7(양양방향)</td>\n",
       "      <td>100.00000</td>\n",
       "      <td>DC콤보</td>\n",
       "      <td>20200120120215</td>\n",
       "      <td>20200120124708</td>\n",
       "      <td>00:41:00</td>\n",
       "      <td>15.30000</td>\n",
       "      <td>NaN</td>\n",
       "      <td>2020</td>\n",
       "      <td>1</td>\n",
       "      <td>20</td>\n",
       "      <td>12</td>\n",
       "      <td>2</td>\n",
       "      <td>15</td>\n",
       "      <td>2020-01-20 12:02:15</td>\n",
       "    </tr>\n",
       "    <tr>\n",
       "      <th>4</th>\n",
       "      <td>한국광기술원</td>\n",
       "      <td>1</td>\n",
       "      <td>광주광역시</td>\n",
       "      <td>북구</td>\n",
       "      <td>광주광역시 북구 첨단 벤처로 108번길 9</td>\n",
       "      <td>50.00000</td>\n",
       "      <td>DC차데모+AC3상+DC콤보</td>\n",
       "      <td>20200123085417</td>\n",
       "      <td>20200123092554</td>\n",
       "      <td>00:31:14</td>\n",
       "      <td>21.92000</td>\n",
       "      <td>NaN</td>\n",
       "      <td>2020</td>\n",
       "      <td>1</td>\n",
       "      <td>23</td>\n",
       "      <td>8</td>\n",
       "      <td>54</td>\n",
       "      <td>17</td>\n",
       "      <td>2020-01-23 08:54:17</td>\n",
       "    </tr>\n",
       "  </tbody>\n",
       "</table>\n",
       "</div>"
      ],
      "text/plain": [
       "          충전소명  충전기ID     지역  시군구                           주소  충전기용량(kW)  \\\n",
       "0  내린천휴게소 양양방향      1    강원도  인제군  강원도 인제군 상남면 하남리 339-7(양양방향)   50.00000   \n",
       "1  내린천휴게소 양양방향      1    강원도  인제군  강원도 인제군 상남면 하남리 339-7(양양방향)   50.00000   \n",
       "2  내린천휴게소 양양방향      1    강원도  인제군  강원도 인제군 상남면 하남리 339-7(양양방향)   50.00000   \n",
       "3  내린천휴게소 양양방향      3    강원도  인제군  강원도 인제군 상남면 하남리 339-7(양양방향)  100.00000   \n",
       "4       한국광기술원      1  광주광역시   북구      광주광역시 북구 첨단 벤처로 108번길 9   50.00000   \n",
       "\n",
       "             충전기타입          충전시작일시          충전종료일시      충전시간      충전량 충전용량  \\\n",
       "0  DC차데모+AC3상+DC콤보  20200117193331  20200117201417  00:40:00 25.47000  NaN   \n",
       "1  DC차데모+AC3상+DC콤보  20200130143545  20200130150645  00:30:31 17.57000  NaN   \n",
       "2  DC차데모+AC3상+DC콤보  20200105005728  20200105011329  00:15:35  6.98000  NaN   \n",
       "3             DC콤보  20200120120215  20200120124708  00:41:00 15.30000  NaN   \n",
       "4  DC차데모+AC3상+DC콤보  20200123085417  20200123092554  00:31:14 21.92000  NaN   \n",
       "\n",
       "   충전시작_년도  충전시작_월  충전시작_일  충전시작_시  충전시작_분  충전시작_초          충전시작일시(변환)  \n",
       "0     2020       1      17      19      33      31 2020-01-17 19:33:31  \n",
       "1     2020       1      30      14      35      45 2020-01-30 14:35:45  \n",
       "2     2020       1       5       0      57      28 2020-01-05 00:57:28  \n",
       "3     2020       1      20      12       2      15 2020-01-20 12:02:15  \n",
       "4     2020       1      23       8      54      17 2020-01-23 08:54:17  "
      ]
     },
     "execution_count": 15,
     "metadata": {},
     "output_type": "execute_result"
    }
   ],
   "source": [
    "df['충전시작일시(변환)'] = pd.to_datetime(df['충전시작일시(변환)'])\n",
    "df.head()"
   ]
  },
  {
   "cell_type": "markdown",
   "metadata": {},
   "source": [
    "### 충전종료시간 정리"
   ]
  },
  {
   "cell_type": "code",
   "execution_count": 16,
   "metadata": {},
   "outputs": [
    {
     "data": {
      "text/html": [
       "<div>\n",
       "<style scoped>\n",
       "    .dataframe tbody tr th:only-of-type {\n",
       "        vertical-align: middle;\n",
       "    }\n",
       "\n",
       "    .dataframe tbody tr th {\n",
       "        vertical-align: top;\n",
       "    }\n",
       "\n",
       "    .dataframe thead th {\n",
       "        text-align: right;\n",
       "    }\n",
       "</style>\n",
       "<table border=\"1\" class=\"dataframe\">\n",
       "  <thead>\n",
       "    <tr style=\"text-align: right;\">\n",
       "      <th></th>\n",
       "      <th>충전소명</th>\n",
       "      <th>충전기ID</th>\n",
       "      <th>지역</th>\n",
       "      <th>시군구</th>\n",
       "      <th>주소</th>\n",
       "      <th>충전기용량(kW)</th>\n",
       "      <th>충전기타입</th>\n",
       "      <th>충전시작일시</th>\n",
       "      <th>충전종료일시</th>\n",
       "      <th>충전시간</th>\n",
       "      <th>충전량</th>\n",
       "      <th>충전용량</th>\n",
       "      <th>충전시작_년도</th>\n",
       "      <th>충전시작_월</th>\n",
       "      <th>충전시작_일</th>\n",
       "      <th>충전시작_시</th>\n",
       "      <th>충전시작_분</th>\n",
       "      <th>충전시작_초</th>\n",
       "      <th>충전시작일시(변환)</th>\n",
       "    </tr>\n",
       "  </thead>\n",
       "  <tbody>\n",
       "  </tbody>\n",
       "</table>\n",
       "</div>"
      ],
      "text/plain": [
       "Empty DataFrame\n",
       "Columns: [충전소명, 충전기ID, 지역, 시군구, 주소, 충전기용량(kW), 충전기타입, 충전시작일시, 충전종료일시, 충전시간, 충전량, 충전용량, 충전시작_년도, 충전시작_월, 충전시작_일, 충전시작_시, 충전시작_분, 충전시작_초, 충전시작일시(변환)]\n",
       "Index: []"
      ]
     },
     "execution_count": 16,
     "metadata": {},
     "output_type": "execute_result"
    }
   ],
   "source": [
    "df[df['충전종료일시'] == ' ']"
   ]
  },
  {
   "cell_type": "code",
   "execution_count": 17,
   "metadata": {},
   "outputs": [
    {
     "name": "stdout",
     "output_type": "stream",
     "text": [
      "71311\n"
     ]
    }
   ],
   "source": [
    "# 충전종료일시의 데이터는 년~일까지만 있는 데이터가 71311개 존재\n",
    "    # 해당 데이터 뒤에 시분초를 '000000'으로 추가하는 작업 필요함.\n",
    "temp = df['충전종료일시'].to_list()\n",
    "temp2 = [str(i) for i in temp]\n",
    "count = 0\n",
    "for one in temp2:\n",
    "    if len(one) == 8:\n",
    "        count += 1\n",
    "print(count)"
   ]
  },
  {
   "cell_type": "code",
   "execution_count": 18,
   "metadata": {},
   "outputs": [
    {
     "data": {
      "text/html": [
       "<div>\n",
       "<style scoped>\n",
       "    .dataframe tbody tr th:only-of-type {\n",
       "        vertical-align: middle;\n",
       "    }\n",
       "\n",
       "    .dataframe tbody tr th {\n",
       "        vertical-align: top;\n",
       "    }\n",
       "\n",
       "    .dataframe thead th {\n",
       "        text-align: right;\n",
       "    }\n",
       "</style>\n",
       "<table border=\"1\" class=\"dataframe\">\n",
       "  <thead>\n",
       "    <tr style=\"text-align: right;\">\n",
       "      <th></th>\n",
       "      <th>충전소명</th>\n",
       "      <th>충전기ID</th>\n",
       "      <th>지역</th>\n",
       "      <th>시군구</th>\n",
       "      <th>주소</th>\n",
       "      <th>충전기용량(kW)</th>\n",
       "      <th>충전기타입</th>\n",
       "      <th>충전시작일시</th>\n",
       "      <th>충전종료일시</th>\n",
       "      <th>충전시간</th>\n",
       "      <th>충전량</th>\n",
       "      <th>충전용량</th>\n",
       "      <th>충전시작_년도</th>\n",
       "      <th>충전시작_월</th>\n",
       "      <th>충전시작_일</th>\n",
       "      <th>충전시작_시</th>\n",
       "      <th>충전시작_분</th>\n",
       "      <th>충전시작_초</th>\n",
       "      <th>충전시작일시(변환)</th>\n",
       "    </tr>\n",
       "  </thead>\n",
       "  <tbody>\n",
       "    <tr>\n",
       "      <th>11665817</th>\n",
       "      <td>죽전휴게소(서울방향)</td>\n",
       "      <td>1</td>\n",
       "      <td>경기도</td>\n",
       "      <td>용인시</td>\n",
       "      <td>경기도 용인시 수지구 경부고속도로 400 (죽전동)</td>\n",
       "      <td>NaN</td>\n",
       "      <td>DC차데모+AC3상+DC콤보</td>\n",
       "      <td>20220831235918</td>\n",
       "      <td>20220901004034</td>\n",
       "      <td>00:40:00</td>\n",
       "      <td>31.09000</td>\n",
       "      <td>급속(50kW)</td>\n",
       "      <td>2022</td>\n",
       "      <td>8</td>\n",
       "      <td>31</td>\n",
       "      <td>23</td>\n",
       "      <td>59</td>\n",
       "      <td>18</td>\n",
       "      <td>2022-08-31 23:59:18</td>\n",
       "    </tr>\n",
       "    <tr>\n",
       "      <th>11665818</th>\n",
       "      <td>원주모범운전자회</td>\n",
       "      <td>21</td>\n",
       "      <td>강원도</td>\n",
       "      <td>원주시</td>\n",
       "      <td>강원도 원주시 단구로 150</td>\n",
       "      <td>NaN</td>\n",
       "      <td>DC콤보</td>\n",
       "      <td>20220831235920</td>\n",
       "      <td>20220901001904</td>\n",
       "      <td>00:19:43</td>\n",
       "      <td>46.51000</td>\n",
       "      <td>급속(200kW동시)</td>\n",
       "      <td>2022</td>\n",
       "      <td>8</td>\n",
       "      <td>31</td>\n",
       "      <td>23</td>\n",
       "      <td>59</td>\n",
       "      <td>20</td>\n",
       "      <td>2022-08-31 23:59:20</td>\n",
       "    </tr>\n",
       "    <tr>\n",
       "      <th>11665819</th>\n",
       "      <td>검단2공영주차장</td>\n",
       "      <td>1</td>\n",
       "      <td>인천광역시</td>\n",
       "      <td>서구</td>\n",
       "      <td>인천광역시 서구 당하동 1097-5  검단4동 주민센터 옆</td>\n",
       "      <td>NaN</td>\n",
       "      <td>DC차데모+AC3상+DC콤보</td>\n",
       "      <td>20220831235931</td>\n",
       "      <td>20220901004251</td>\n",
       "      <td>00:40:00</td>\n",
       "      <td>21.97000</td>\n",
       "      <td>급속(50kW)</td>\n",
       "      <td>2022</td>\n",
       "      <td>8</td>\n",
       "      <td>31</td>\n",
       "      <td>23</td>\n",
       "      <td>59</td>\n",
       "      <td>31</td>\n",
       "      <td>2022-08-31 23:59:31</td>\n",
       "    </tr>\n",
       "    <tr>\n",
       "      <th>11665820</th>\n",
       "      <td>강당골 공영주차장</td>\n",
       "      <td>1</td>\n",
       "      <td>대구광역시</td>\n",
       "      <td>남구</td>\n",
       "      <td>대구광역시 남구 봉덕동 1272-18</td>\n",
       "      <td>NaN</td>\n",
       "      <td>DC차데모+AC3상+DC콤보</td>\n",
       "      <td>20220831235934</td>\n",
       "      <td>20220901004057</td>\n",
       "      <td>00:40:00</td>\n",
       "      <td>27.60000</td>\n",
       "      <td>급속(50kW)</td>\n",
       "      <td>2022</td>\n",
       "      <td>8</td>\n",
       "      <td>31</td>\n",
       "      <td>23</td>\n",
       "      <td>59</td>\n",
       "      <td>34</td>\n",
       "      <td>2022-08-31 23:59:34</td>\n",
       "    </tr>\n",
       "    <tr>\n",
       "      <th>11665821</th>\n",
       "      <td>마천동2공영주차장</td>\n",
       "      <td>1</td>\n",
       "      <td>서울특별시</td>\n",
       "      <td>송파구</td>\n",
       "      <td>서울특별시 송파구 성내천로299-7</td>\n",
       "      <td>NaN</td>\n",
       "      <td>DC차데모+AC3상+DC콤보</td>\n",
       "      <td>20220831235946</td>\n",
       "      <td>20220901003700</td>\n",
       "      <td>00:34:09</td>\n",
       "      <td>9.77000</td>\n",
       "      <td>급속(100kW멀티)</td>\n",
       "      <td>2022</td>\n",
       "      <td>8</td>\n",
       "      <td>31</td>\n",
       "      <td>23</td>\n",
       "      <td>59</td>\n",
       "      <td>46</td>\n",
       "      <td>2022-08-31 23:59:46</td>\n",
       "    </tr>\n",
       "  </tbody>\n",
       "</table>\n",
       "</div>"
      ],
      "text/plain": [
       "                 충전소명  충전기ID     지역  시군구                                주소  \\\n",
       "11665817  죽전휴게소(서울방향)      1    경기도  용인시      경기도 용인시 수지구 경부고속도로 400 (죽전동)   \n",
       "11665818     원주모범운전자회     21    강원도  원주시                   강원도 원주시 단구로 150   \n",
       "11665819     검단2공영주차장      1  인천광역시   서구  인천광역시 서구 당하동 1097-5  검단4동 주민센터 옆   \n",
       "11665820    강당골 공영주차장      1  대구광역시   남구              대구광역시 남구 봉덕동 1272-18   \n",
       "11665821    마천동2공영주차장      1  서울특별시  송파구               서울특별시 송파구 성내천로299-7   \n",
       "\n",
       "          충전기용량(kW)            충전기타입          충전시작일시          충전종료일시  \\\n",
       "11665817        NaN  DC차데모+AC3상+DC콤보  20220831235918  20220901004034   \n",
       "11665818        NaN             DC콤보  20220831235920  20220901001904   \n",
       "11665819        NaN  DC차데모+AC3상+DC콤보  20220831235931  20220901004251   \n",
       "11665820        NaN  DC차데모+AC3상+DC콤보  20220831235934  20220901004057   \n",
       "11665821        NaN  DC차데모+AC3상+DC콤보  20220831235946  20220901003700   \n",
       "\n",
       "              충전시간      충전량         충전용량  충전시작_년도  충전시작_월  충전시작_일  충전시작_시  \\\n",
       "11665817  00:40:00 31.09000     급속(50kW)     2022       8      31      23   \n",
       "11665818  00:19:43 46.51000  급속(200kW동시)     2022       8      31      23   \n",
       "11665819  00:40:00 21.97000     급속(50kW)     2022       8      31      23   \n",
       "11665820  00:40:00 27.60000     급속(50kW)     2022       8      31      23   \n",
       "11665821  00:34:09  9.77000  급속(100kW멀티)     2022       8      31      23   \n",
       "\n",
       "          충전시작_분  충전시작_초          충전시작일시(변환)  \n",
       "11665817      59      18 2022-08-31 23:59:18  \n",
       "11665818      59      20 2022-08-31 23:59:20  \n",
       "11665819      59      31 2022-08-31 23:59:31  \n",
       "11665820      59      34 2022-08-31 23:59:34  \n",
       "11665821      59      46 2022-08-31 23:59:46  "
      ]
     },
     "execution_count": 18,
     "metadata": {},
     "output_type": "execute_result"
    }
   ],
   "source": [
    "df.tail()"
   ]
  },
  {
   "cell_type": "code",
   "execution_count": 19,
   "metadata": {},
   "outputs": [
    {
     "name": "stdout",
     "output_type": "stream",
     "text": [
      "<class 'pandas.core.series.Series'>\n",
      "RangeIndex: 11665822 entries, 0 to 11665821\n",
      "Series name: 충전종료일시\n",
      "Non-Null Count     Dtype\n",
      "--------------     -----\n",
      "11665822 non-null  int64\n",
      "dtypes: int64(1)\n",
      "memory usage: 89.0 MB\n"
     ]
    }
   ],
   "source": [
    "df['충전종료일시'].info()"
   ]
  },
  {
   "cell_type": "code",
   "execution_count": 20,
   "metadata": {},
   "outputs": [],
   "source": [
    "temp = df['충전종료일시'].to_list()"
   ]
  },
  {
   "cell_type": "code",
   "execution_count": 21,
   "metadata": {},
   "outputs": [
    {
     "name": "stdout",
     "output_type": "stream",
     "text": [
      "1578\n"
     ]
    }
   ],
   "source": [
    "for i, one in enumerate(temp):\n",
    "    if len(str(one)) == 8:\n",
    "        print(i)\n",
    "        break"
   ]
  },
  {
   "cell_type": "code",
   "execution_count": 22,
   "metadata": {},
   "outputs": [
    {
     "data": {
      "text/plain": [
       "20200118"
      ]
     },
     "execution_count": 22,
     "metadata": {},
     "output_type": "execute_result"
    }
   ],
   "source": [
    "temp[1578]"
   ]
  },
  {
   "cell_type": "code",
   "execution_count": 23,
   "metadata": {},
   "outputs": [
    {
     "data": {
      "text/plain": [
       "20200118"
      ]
     },
     "execution_count": 23,
     "metadata": {},
     "output_type": "execute_result"
    }
   ],
   "source": [
    "df['충전종료일시'][1578]"
   ]
  },
  {
   "cell_type": "code",
   "execution_count": 24,
   "metadata": {},
   "outputs": [
    {
     "data": {
      "text/plain": [
       "'20200118'"
      ]
     },
     "execution_count": 24,
     "metadata": {},
     "output_type": "execute_result"
    }
   ],
   "source": [
    "temp2 = [str(i) for i in temp]\n",
    "temp2[1578]"
   ]
  },
  {
   "cell_type": "code",
   "execution_count": 25,
   "metadata": {},
   "outputs": [
    {
     "data": {
      "text/plain": [
       "11665822"
      ]
     },
     "execution_count": 25,
     "metadata": {},
     "output_type": "execute_result"
    }
   ],
   "source": [
    "for i, one in enumerate(temp2):\n",
    "    if len(one) == 8:\n",
    "        temp2[i] = one + '000000'\n",
    "len(temp2)"
   ]
  },
  {
   "cell_type": "code",
   "execution_count": 26,
   "metadata": {},
   "outputs": [
    {
     "data": {
      "text/plain": [
       "'20200118000000'"
      ]
     },
     "execution_count": 26,
     "metadata": {},
     "output_type": "execute_result"
    }
   ],
   "source": [
    "temp2[1578]"
   ]
  },
  {
   "cell_type": "code",
   "execution_count": 27,
   "metadata": {},
   "outputs": [
    {
     "data": {
      "text/html": [
       "<div>\n",
       "<style scoped>\n",
       "    .dataframe tbody tr th:only-of-type {\n",
       "        vertical-align: middle;\n",
       "    }\n",
       "\n",
       "    .dataframe tbody tr th {\n",
       "        vertical-align: top;\n",
       "    }\n",
       "\n",
       "    .dataframe thead th {\n",
       "        text-align: right;\n",
       "    }\n",
       "</style>\n",
       "<table border=\"1\" class=\"dataframe\">\n",
       "  <thead>\n",
       "    <tr style=\"text-align: right;\">\n",
       "      <th></th>\n",
       "      <th>충전소명</th>\n",
       "      <th>충전기ID</th>\n",
       "      <th>지역</th>\n",
       "      <th>시군구</th>\n",
       "      <th>주소</th>\n",
       "      <th>충전기용량(kW)</th>\n",
       "      <th>충전기타입</th>\n",
       "      <th>충전시작일시</th>\n",
       "      <th>충전종료일시</th>\n",
       "      <th>충전시간</th>\n",
       "      <th>충전량</th>\n",
       "      <th>충전용량</th>\n",
       "      <th>충전시작_년도</th>\n",
       "      <th>충전시작_월</th>\n",
       "      <th>충전시작_일</th>\n",
       "      <th>충전시작_시</th>\n",
       "      <th>충전시작_분</th>\n",
       "      <th>충전시작_초</th>\n",
       "      <th>충전시작일시(변환)</th>\n",
       "    </tr>\n",
       "  </thead>\n",
       "  <tbody>\n",
       "    <tr>\n",
       "      <th>0</th>\n",
       "      <td>내린천휴게소 양양방향</td>\n",
       "      <td>1</td>\n",
       "      <td>강원도</td>\n",
       "      <td>인제군</td>\n",
       "      <td>강원도 인제군 상남면 하남리 339-7(양양방향)</td>\n",
       "      <td>50.00000</td>\n",
       "      <td>DC차데모+AC3상+DC콤보</td>\n",
       "      <td>20200117193331</td>\n",
       "      <td>20200117201417</td>\n",
       "      <td>00:40:00</td>\n",
       "      <td>25.47000</td>\n",
       "      <td>NaN</td>\n",
       "      <td>2020</td>\n",
       "      <td>1</td>\n",
       "      <td>17</td>\n",
       "      <td>19</td>\n",
       "      <td>33</td>\n",
       "      <td>31</td>\n",
       "      <td>2020-01-17 19:33:31</td>\n",
       "    </tr>\n",
       "    <tr>\n",
       "      <th>1</th>\n",
       "      <td>내린천휴게소 양양방향</td>\n",
       "      <td>1</td>\n",
       "      <td>강원도</td>\n",
       "      <td>인제군</td>\n",
       "      <td>강원도 인제군 상남면 하남리 339-7(양양방향)</td>\n",
       "      <td>50.00000</td>\n",
       "      <td>DC차데모+AC3상+DC콤보</td>\n",
       "      <td>20200130143545</td>\n",
       "      <td>20200130150645</td>\n",
       "      <td>00:30:31</td>\n",
       "      <td>17.57000</td>\n",
       "      <td>NaN</td>\n",
       "      <td>2020</td>\n",
       "      <td>1</td>\n",
       "      <td>30</td>\n",
       "      <td>14</td>\n",
       "      <td>35</td>\n",
       "      <td>45</td>\n",
       "      <td>2020-01-30 14:35:45</td>\n",
       "    </tr>\n",
       "    <tr>\n",
       "      <th>2</th>\n",
       "      <td>내린천휴게소 양양방향</td>\n",
       "      <td>1</td>\n",
       "      <td>강원도</td>\n",
       "      <td>인제군</td>\n",
       "      <td>강원도 인제군 상남면 하남리 339-7(양양방향)</td>\n",
       "      <td>50.00000</td>\n",
       "      <td>DC차데모+AC3상+DC콤보</td>\n",
       "      <td>20200105005728</td>\n",
       "      <td>20200105011329</td>\n",
       "      <td>00:15:35</td>\n",
       "      <td>6.98000</td>\n",
       "      <td>NaN</td>\n",
       "      <td>2020</td>\n",
       "      <td>1</td>\n",
       "      <td>5</td>\n",
       "      <td>0</td>\n",
       "      <td>57</td>\n",
       "      <td>28</td>\n",
       "      <td>2020-01-05 00:57:28</td>\n",
       "    </tr>\n",
       "    <tr>\n",
       "      <th>3</th>\n",
       "      <td>내린천휴게소 양양방향</td>\n",
       "      <td>3</td>\n",
       "      <td>강원도</td>\n",
       "      <td>인제군</td>\n",
       "      <td>강원도 인제군 상남면 하남리 339-7(양양방향)</td>\n",
       "      <td>100.00000</td>\n",
       "      <td>DC콤보</td>\n",
       "      <td>20200120120215</td>\n",
       "      <td>20200120124708</td>\n",
       "      <td>00:41:00</td>\n",
       "      <td>15.30000</td>\n",
       "      <td>NaN</td>\n",
       "      <td>2020</td>\n",
       "      <td>1</td>\n",
       "      <td>20</td>\n",
       "      <td>12</td>\n",
       "      <td>2</td>\n",
       "      <td>15</td>\n",
       "      <td>2020-01-20 12:02:15</td>\n",
       "    </tr>\n",
       "    <tr>\n",
       "      <th>4</th>\n",
       "      <td>한국광기술원</td>\n",
       "      <td>1</td>\n",
       "      <td>광주광역시</td>\n",
       "      <td>북구</td>\n",
       "      <td>광주광역시 북구 첨단 벤처로 108번길 9</td>\n",
       "      <td>50.00000</td>\n",
       "      <td>DC차데모+AC3상+DC콤보</td>\n",
       "      <td>20200123085417</td>\n",
       "      <td>20200123092554</td>\n",
       "      <td>00:31:14</td>\n",
       "      <td>21.92000</td>\n",
       "      <td>NaN</td>\n",
       "      <td>2020</td>\n",
       "      <td>1</td>\n",
       "      <td>23</td>\n",
       "      <td>8</td>\n",
       "      <td>54</td>\n",
       "      <td>17</td>\n",
       "      <td>2020-01-23 08:54:17</td>\n",
       "    </tr>\n",
       "  </tbody>\n",
       "</table>\n",
       "</div>"
      ],
      "text/plain": [
       "          충전소명  충전기ID     지역  시군구                           주소  충전기용량(kW)  \\\n",
       "0  내린천휴게소 양양방향      1    강원도  인제군  강원도 인제군 상남면 하남리 339-7(양양방향)   50.00000   \n",
       "1  내린천휴게소 양양방향      1    강원도  인제군  강원도 인제군 상남면 하남리 339-7(양양방향)   50.00000   \n",
       "2  내린천휴게소 양양방향      1    강원도  인제군  강원도 인제군 상남면 하남리 339-7(양양방향)   50.00000   \n",
       "3  내린천휴게소 양양방향      3    강원도  인제군  강원도 인제군 상남면 하남리 339-7(양양방향)  100.00000   \n",
       "4       한국광기술원      1  광주광역시   북구      광주광역시 북구 첨단 벤처로 108번길 9   50.00000   \n",
       "\n",
       "             충전기타입          충전시작일시          충전종료일시      충전시간      충전량 충전용량  \\\n",
       "0  DC차데모+AC3상+DC콤보  20200117193331  20200117201417  00:40:00 25.47000  NaN   \n",
       "1  DC차데모+AC3상+DC콤보  20200130143545  20200130150645  00:30:31 17.57000  NaN   \n",
       "2  DC차데모+AC3상+DC콤보  20200105005728  20200105011329  00:15:35  6.98000  NaN   \n",
       "3             DC콤보  20200120120215  20200120124708  00:41:00 15.30000  NaN   \n",
       "4  DC차데모+AC3상+DC콤보  20200123085417  20200123092554  00:31:14 21.92000  NaN   \n",
       "\n",
       "   충전시작_년도  충전시작_월  충전시작_일  충전시작_시  충전시작_분  충전시작_초          충전시작일시(변환)  \n",
       "0     2020       1      17      19      33      31 2020-01-17 19:33:31  \n",
       "1     2020       1      30      14      35      45 2020-01-30 14:35:45  \n",
       "2     2020       1       5       0      57      28 2020-01-05 00:57:28  \n",
       "3     2020       1      20      12       2      15 2020-01-20 12:02:15  \n",
       "4     2020       1      23       8      54      17 2020-01-23 08:54:17  "
      ]
     },
     "execution_count": 27,
     "metadata": {},
     "output_type": "execute_result"
    }
   ],
   "source": [
    "df['충전종료일시'] = temp2\n",
    "df.head()"
   ]
  },
  {
   "cell_type": "code",
   "execution_count": 30,
   "metadata": {},
   "outputs": [
    {
     "data": {
      "text/plain": [
       "'20200118000000'"
      ]
     },
     "execution_count": 30,
     "metadata": {},
     "output_type": "execute_result"
    }
   ],
   "source": [
    "df['충전종료일시'][1578]"
   ]
  },
  {
   "cell_type": "code",
   "execution_count": 29,
   "metadata": {},
   "outputs": [
    {
     "data": {
      "text/plain": [
       "충전소명                동해웰빙레포츠타운 주차장\n",
       "충전기ID                          21\n",
       "지역                            강원도\n",
       "시군구                           동해시\n",
       "주소                 강원도 동해시 덕골길 10\n",
       "충전기용량(kW)               200.00000\n",
       "충전기타입                        DC콤보\n",
       "충전시작일시             20200118162253\n",
       "충전종료일시             20200118000000\n",
       "충전시간                     00:06:49\n",
       "충전량                       1.91000\n",
       "충전용량                          NaN\n",
       "충전시작_년도                      2020\n",
       "충전시작_월                          1\n",
       "충전시작_일                         18\n",
       "충전시작_시                         16\n",
       "충전시작_분                         22\n",
       "충전시작_초                         53\n",
       "충전시작일시(변환)    2020-01-18 16:22:53\n",
       "Name: 1578, dtype: object"
      ]
     },
     "execution_count": 29,
     "metadata": {},
     "output_type": "execute_result"
    }
   ],
   "source": [
    "df.iloc[1578, :]"
   ]
  },
  {
   "cell_type": "code",
   "execution_count": 31,
   "metadata": {},
   "outputs": [
    {
     "data": {
      "text/html": [
       "<div>\n",
       "<style scoped>\n",
       "    .dataframe tbody tr th:only-of-type {\n",
       "        vertical-align: middle;\n",
       "    }\n",
       "\n",
       "    .dataframe tbody tr th {\n",
       "        vertical-align: top;\n",
       "    }\n",
       "\n",
       "    .dataframe thead th {\n",
       "        text-align: right;\n",
       "    }\n",
       "</style>\n",
       "<table border=\"1\" class=\"dataframe\">\n",
       "  <thead>\n",
       "    <tr style=\"text-align: right;\">\n",
       "      <th></th>\n",
       "      <th>충전소명</th>\n",
       "      <th>충전기ID</th>\n",
       "      <th>지역</th>\n",
       "      <th>시군구</th>\n",
       "      <th>주소</th>\n",
       "      <th>충전기용량(kW)</th>\n",
       "      <th>충전기타입</th>\n",
       "      <th>충전시작일시</th>\n",
       "      <th>충전종료일시</th>\n",
       "      <th>충전시간</th>\n",
       "      <th>...</th>\n",
       "      <th>충전시작_시</th>\n",
       "      <th>충전시작_분</th>\n",
       "      <th>충전시작_초</th>\n",
       "      <th>충전시작일시(변환)</th>\n",
       "      <th>충전종료_년도</th>\n",
       "      <th>충전종료_월</th>\n",
       "      <th>충전종료_일</th>\n",
       "      <th>충전종료_시</th>\n",
       "      <th>충전종료_분</th>\n",
       "      <th>충전종료_초</th>\n",
       "    </tr>\n",
       "  </thead>\n",
       "  <tbody>\n",
       "    <tr>\n",
       "      <th>0</th>\n",
       "      <td>내린천휴게소 양양방향</td>\n",
       "      <td>1</td>\n",
       "      <td>강원도</td>\n",
       "      <td>인제군</td>\n",
       "      <td>강원도 인제군 상남면 하남리 339-7(양양방향)</td>\n",
       "      <td>50.00000</td>\n",
       "      <td>DC차데모+AC3상+DC콤보</td>\n",
       "      <td>20200117193331</td>\n",
       "      <td>20200117201417</td>\n",
       "      <td>00:40:00</td>\n",
       "      <td>...</td>\n",
       "      <td>19</td>\n",
       "      <td>33</td>\n",
       "      <td>31</td>\n",
       "      <td>2020-01-17 19:33:31</td>\n",
       "      <td>2020</td>\n",
       "      <td>1</td>\n",
       "      <td>17</td>\n",
       "      <td>20</td>\n",
       "      <td>14</td>\n",
       "      <td>17</td>\n",
       "    </tr>\n",
       "    <tr>\n",
       "      <th>1</th>\n",
       "      <td>내린천휴게소 양양방향</td>\n",
       "      <td>1</td>\n",
       "      <td>강원도</td>\n",
       "      <td>인제군</td>\n",
       "      <td>강원도 인제군 상남면 하남리 339-7(양양방향)</td>\n",
       "      <td>50.00000</td>\n",
       "      <td>DC차데모+AC3상+DC콤보</td>\n",
       "      <td>20200130143545</td>\n",
       "      <td>20200130150645</td>\n",
       "      <td>00:30:31</td>\n",
       "      <td>...</td>\n",
       "      <td>14</td>\n",
       "      <td>35</td>\n",
       "      <td>45</td>\n",
       "      <td>2020-01-30 14:35:45</td>\n",
       "      <td>2020</td>\n",
       "      <td>1</td>\n",
       "      <td>30</td>\n",
       "      <td>15</td>\n",
       "      <td>6</td>\n",
       "      <td>45</td>\n",
       "    </tr>\n",
       "    <tr>\n",
       "      <th>2</th>\n",
       "      <td>내린천휴게소 양양방향</td>\n",
       "      <td>1</td>\n",
       "      <td>강원도</td>\n",
       "      <td>인제군</td>\n",
       "      <td>강원도 인제군 상남면 하남리 339-7(양양방향)</td>\n",
       "      <td>50.00000</td>\n",
       "      <td>DC차데모+AC3상+DC콤보</td>\n",
       "      <td>20200105005728</td>\n",
       "      <td>20200105011329</td>\n",
       "      <td>00:15:35</td>\n",
       "      <td>...</td>\n",
       "      <td>0</td>\n",
       "      <td>57</td>\n",
       "      <td>28</td>\n",
       "      <td>2020-01-05 00:57:28</td>\n",
       "      <td>2020</td>\n",
       "      <td>1</td>\n",
       "      <td>5</td>\n",
       "      <td>1</td>\n",
       "      <td>13</td>\n",
       "      <td>29</td>\n",
       "    </tr>\n",
       "    <tr>\n",
       "      <th>3</th>\n",
       "      <td>내린천휴게소 양양방향</td>\n",
       "      <td>3</td>\n",
       "      <td>강원도</td>\n",
       "      <td>인제군</td>\n",
       "      <td>강원도 인제군 상남면 하남리 339-7(양양방향)</td>\n",
       "      <td>100.00000</td>\n",
       "      <td>DC콤보</td>\n",
       "      <td>20200120120215</td>\n",
       "      <td>20200120124708</td>\n",
       "      <td>00:41:00</td>\n",
       "      <td>...</td>\n",
       "      <td>12</td>\n",
       "      <td>2</td>\n",
       "      <td>15</td>\n",
       "      <td>2020-01-20 12:02:15</td>\n",
       "      <td>2020</td>\n",
       "      <td>1</td>\n",
       "      <td>20</td>\n",
       "      <td>12</td>\n",
       "      <td>47</td>\n",
       "      <td>8</td>\n",
       "    </tr>\n",
       "    <tr>\n",
       "      <th>4</th>\n",
       "      <td>한국광기술원</td>\n",
       "      <td>1</td>\n",
       "      <td>광주광역시</td>\n",
       "      <td>북구</td>\n",
       "      <td>광주광역시 북구 첨단 벤처로 108번길 9</td>\n",
       "      <td>50.00000</td>\n",
       "      <td>DC차데모+AC3상+DC콤보</td>\n",
       "      <td>20200123085417</td>\n",
       "      <td>20200123092554</td>\n",
       "      <td>00:31:14</td>\n",
       "      <td>...</td>\n",
       "      <td>8</td>\n",
       "      <td>54</td>\n",
       "      <td>17</td>\n",
       "      <td>2020-01-23 08:54:17</td>\n",
       "      <td>2020</td>\n",
       "      <td>1</td>\n",
       "      <td>23</td>\n",
       "      <td>9</td>\n",
       "      <td>25</td>\n",
       "      <td>54</td>\n",
       "    </tr>\n",
       "  </tbody>\n",
       "</table>\n",
       "<p>5 rows × 25 columns</p>\n",
       "</div>"
      ],
      "text/plain": [
       "          충전소명  충전기ID     지역  시군구                           주소  충전기용량(kW)  \\\n",
       "0  내린천휴게소 양양방향      1    강원도  인제군  강원도 인제군 상남면 하남리 339-7(양양방향)   50.00000   \n",
       "1  내린천휴게소 양양방향      1    강원도  인제군  강원도 인제군 상남면 하남리 339-7(양양방향)   50.00000   \n",
       "2  내린천휴게소 양양방향      1    강원도  인제군  강원도 인제군 상남면 하남리 339-7(양양방향)   50.00000   \n",
       "3  내린천휴게소 양양방향      3    강원도  인제군  강원도 인제군 상남면 하남리 339-7(양양방향)  100.00000   \n",
       "4       한국광기술원      1  광주광역시   북구      광주광역시 북구 첨단 벤처로 108번길 9   50.00000   \n",
       "\n",
       "             충전기타입          충전시작일시          충전종료일시      충전시간  ...  충전시작_시  \\\n",
       "0  DC차데모+AC3상+DC콤보  20200117193331  20200117201417  00:40:00  ...      19   \n",
       "1  DC차데모+AC3상+DC콤보  20200130143545  20200130150645  00:30:31  ...      14   \n",
       "2  DC차데모+AC3상+DC콤보  20200105005728  20200105011329  00:15:35  ...       0   \n",
       "3             DC콤보  20200120120215  20200120124708  00:41:00  ...      12   \n",
       "4  DC차데모+AC3상+DC콤보  20200123085417  20200123092554  00:31:14  ...       8   \n",
       "\n",
       "  충전시작_분  충전시작_초          충전시작일시(변환)  충전종료_년도  충전종료_월  충전종료_일  충전종료_시 충전종료_분  \\\n",
       "0     33      31 2020-01-17 19:33:31     2020       1      17      20     14   \n",
       "1     35      45 2020-01-30 14:35:45     2020       1      30      15      6   \n",
       "2     57      28 2020-01-05 00:57:28     2020       1       5       1     13   \n",
       "3      2      15 2020-01-20 12:02:15     2020       1      20      12     47   \n",
       "4     54      17 2020-01-23 08:54:17     2020       1      23       9     25   \n",
       "\n",
       "   충전종료_초  \n",
       "0      17  \n",
       "1      45  \n",
       "2      29  \n",
       "3       8  \n",
       "4      54  \n",
       "\n",
       "[5 rows x 25 columns]"
      ]
     },
     "execution_count": 31,
     "metadata": {},
     "output_type": "execute_result"
    }
   ],
   "source": [
    "ch_time = df['충전종료일시'].copy()\n",
    "df['충전종료_년도'] = ch_time.astype(str).str[:4].astype(int)\n",
    "df['충전종료_월'] = ch_time.astype(str).str[4:6].astype(int)\n",
    "df['충전종료_일'] = ch_time.astype(str).str[6:8].astype(int)\n",
    "df['충전종료_시'] = ch_time.astype(str).str[8:10].astype(int)\n",
    "df['충전종료_분'] = ch_time.astype(str).str[10:12].astype(int)\n",
    "df['충전종료_초'] = ch_time.astype(str).str[12:14].astype(int)\n",
    "df.head()"
   ]
  },
  {
   "cell_type": "code",
   "execution_count": 32,
   "metadata": {},
   "outputs": [
    {
     "data": {
      "text/html": [
       "<div>\n",
       "<style scoped>\n",
       "    .dataframe tbody tr th:only-of-type {\n",
       "        vertical-align: middle;\n",
       "    }\n",
       "\n",
       "    .dataframe tbody tr th {\n",
       "        vertical-align: top;\n",
       "    }\n",
       "\n",
       "    .dataframe thead th {\n",
       "        text-align: right;\n",
       "    }\n",
       "</style>\n",
       "<table border=\"1\" class=\"dataframe\">\n",
       "  <thead>\n",
       "    <tr style=\"text-align: right;\">\n",
       "      <th></th>\n",
       "      <th>충전소명</th>\n",
       "      <th>충전기ID</th>\n",
       "      <th>지역</th>\n",
       "      <th>시군구</th>\n",
       "      <th>주소</th>\n",
       "      <th>충전기용량(kW)</th>\n",
       "      <th>충전기타입</th>\n",
       "      <th>충전시작일시</th>\n",
       "      <th>충전종료일시</th>\n",
       "      <th>충전시간</th>\n",
       "      <th>...</th>\n",
       "      <th>충전시작_시</th>\n",
       "      <th>충전시작_분</th>\n",
       "      <th>충전시작_초</th>\n",
       "      <th>충전시작일시(변환)</th>\n",
       "      <th>충전종료_년도</th>\n",
       "      <th>충전종료_월</th>\n",
       "      <th>충전종료_일</th>\n",
       "      <th>충전종료_시</th>\n",
       "      <th>충전종료_분</th>\n",
       "      <th>충전종료_초</th>\n",
       "    </tr>\n",
       "  </thead>\n",
       "  <tbody>\n",
       "    <tr>\n",
       "      <th>11665817</th>\n",
       "      <td>죽전휴게소(서울방향)</td>\n",
       "      <td>1</td>\n",
       "      <td>경기도</td>\n",
       "      <td>용인시</td>\n",
       "      <td>경기도 용인시 수지구 경부고속도로 400 (죽전동)</td>\n",
       "      <td>NaN</td>\n",
       "      <td>DC차데모+AC3상+DC콤보</td>\n",
       "      <td>20220831235918</td>\n",
       "      <td>20220901004034</td>\n",
       "      <td>00:40:00</td>\n",
       "      <td>...</td>\n",
       "      <td>23</td>\n",
       "      <td>59</td>\n",
       "      <td>18</td>\n",
       "      <td>2022-08-31 23:59:18</td>\n",
       "      <td>2022</td>\n",
       "      <td>9</td>\n",
       "      <td>1</td>\n",
       "      <td>0</td>\n",
       "      <td>40</td>\n",
       "      <td>34</td>\n",
       "    </tr>\n",
       "    <tr>\n",
       "      <th>11665818</th>\n",
       "      <td>원주모범운전자회</td>\n",
       "      <td>21</td>\n",
       "      <td>강원도</td>\n",
       "      <td>원주시</td>\n",
       "      <td>강원도 원주시 단구로 150</td>\n",
       "      <td>NaN</td>\n",
       "      <td>DC콤보</td>\n",
       "      <td>20220831235920</td>\n",
       "      <td>20220901001904</td>\n",
       "      <td>00:19:43</td>\n",
       "      <td>...</td>\n",
       "      <td>23</td>\n",
       "      <td>59</td>\n",
       "      <td>20</td>\n",
       "      <td>2022-08-31 23:59:20</td>\n",
       "      <td>2022</td>\n",
       "      <td>9</td>\n",
       "      <td>1</td>\n",
       "      <td>0</td>\n",
       "      <td>19</td>\n",
       "      <td>4</td>\n",
       "    </tr>\n",
       "    <tr>\n",
       "      <th>11665819</th>\n",
       "      <td>검단2공영주차장</td>\n",
       "      <td>1</td>\n",
       "      <td>인천광역시</td>\n",
       "      <td>서구</td>\n",
       "      <td>인천광역시 서구 당하동 1097-5  검단4동 주민센터 옆</td>\n",
       "      <td>NaN</td>\n",
       "      <td>DC차데모+AC3상+DC콤보</td>\n",
       "      <td>20220831235931</td>\n",
       "      <td>20220901004251</td>\n",
       "      <td>00:40:00</td>\n",
       "      <td>...</td>\n",
       "      <td>23</td>\n",
       "      <td>59</td>\n",
       "      <td>31</td>\n",
       "      <td>2022-08-31 23:59:31</td>\n",
       "      <td>2022</td>\n",
       "      <td>9</td>\n",
       "      <td>1</td>\n",
       "      <td>0</td>\n",
       "      <td>42</td>\n",
       "      <td>51</td>\n",
       "    </tr>\n",
       "    <tr>\n",
       "      <th>11665820</th>\n",
       "      <td>강당골 공영주차장</td>\n",
       "      <td>1</td>\n",
       "      <td>대구광역시</td>\n",
       "      <td>남구</td>\n",
       "      <td>대구광역시 남구 봉덕동 1272-18</td>\n",
       "      <td>NaN</td>\n",
       "      <td>DC차데모+AC3상+DC콤보</td>\n",
       "      <td>20220831235934</td>\n",
       "      <td>20220901004057</td>\n",
       "      <td>00:40:00</td>\n",
       "      <td>...</td>\n",
       "      <td>23</td>\n",
       "      <td>59</td>\n",
       "      <td>34</td>\n",
       "      <td>2022-08-31 23:59:34</td>\n",
       "      <td>2022</td>\n",
       "      <td>9</td>\n",
       "      <td>1</td>\n",
       "      <td>0</td>\n",
       "      <td>40</td>\n",
       "      <td>57</td>\n",
       "    </tr>\n",
       "    <tr>\n",
       "      <th>11665821</th>\n",
       "      <td>마천동2공영주차장</td>\n",
       "      <td>1</td>\n",
       "      <td>서울특별시</td>\n",
       "      <td>송파구</td>\n",
       "      <td>서울특별시 송파구 성내천로299-7</td>\n",
       "      <td>NaN</td>\n",
       "      <td>DC차데모+AC3상+DC콤보</td>\n",
       "      <td>20220831235946</td>\n",
       "      <td>20220901003700</td>\n",
       "      <td>00:34:09</td>\n",
       "      <td>...</td>\n",
       "      <td>23</td>\n",
       "      <td>59</td>\n",
       "      <td>46</td>\n",
       "      <td>2022-08-31 23:59:46</td>\n",
       "      <td>2022</td>\n",
       "      <td>9</td>\n",
       "      <td>1</td>\n",
       "      <td>0</td>\n",
       "      <td>37</td>\n",
       "      <td>0</td>\n",
       "    </tr>\n",
       "  </tbody>\n",
       "</table>\n",
       "<p>5 rows × 25 columns</p>\n",
       "</div>"
      ],
      "text/plain": [
       "                 충전소명  충전기ID     지역  시군구                                주소  \\\n",
       "11665817  죽전휴게소(서울방향)      1    경기도  용인시      경기도 용인시 수지구 경부고속도로 400 (죽전동)   \n",
       "11665818     원주모범운전자회     21    강원도  원주시                   강원도 원주시 단구로 150   \n",
       "11665819     검단2공영주차장      1  인천광역시   서구  인천광역시 서구 당하동 1097-5  검단4동 주민센터 옆   \n",
       "11665820    강당골 공영주차장      1  대구광역시   남구              대구광역시 남구 봉덕동 1272-18   \n",
       "11665821    마천동2공영주차장      1  서울특별시  송파구               서울특별시 송파구 성내천로299-7   \n",
       "\n",
       "          충전기용량(kW)            충전기타입          충전시작일시          충전종료일시  \\\n",
       "11665817        NaN  DC차데모+AC3상+DC콤보  20220831235918  20220901004034   \n",
       "11665818        NaN             DC콤보  20220831235920  20220901001904   \n",
       "11665819        NaN  DC차데모+AC3상+DC콤보  20220831235931  20220901004251   \n",
       "11665820        NaN  DC차데모+AC3상+DC콤보  20220831235934  20220901004057   \n",
       "11665821        NaN  DC차데모+AC3상+DC콤보  20220831235946  20220901003700   \n",
       "\n",
       "              충전시간  ...  충전시작_시 충전시작_분  충전시작_초          충전시작일시(변환)  충전종료_년도  \\\n",
       "11665817  00:40:00  ...      23     59      18 2022-08-31 23:59:18     2022   \n",
       "11665818  00:19:43  ...      23     59      20 2022-08-31 23:59:20     2022   \n",
       "11665819  00:40:00  ...      23     59      31 2022-08-31 23:59:31     2022   \n",
       "11665820  00:40:00  ...      23     59      34 2022-08-31 23:59:34     2022   \n",
       "11665821  00:34:09  ...      23     59      46 2022-08-31 23:59:46     2022   \n",
       "\n",
       "          충전종료_월  충전종료_일  충전종료_시 충전종료_분  충전종료_초  \n",
       "11665817       9       1       0     40      34  \n",
       "11665818       9       1       0     19       4  \n",
       "11665819       9       1       0     42      51  \n",
       "11665820       9       1       0     40      57  \n",
       "11665821       9       1       0     37       0  \n",
       "\n",
       "[5 rows x 25 columns]"
      ]
     },
     "execution_count": 32,
     "metadata": {},
     "output_type": "execute_result"
    }
   ],
   "source": [
    "df.tail()"
   ]
  },
  {
   "cell_type": "markdown",
   "metadata": {},
   "source": [
    "#### 충전종료일시-초 오류 데이터\n",
    "- 1495개"
   ]
  },
  {
   "cell_type": "code",
   "execution_count": 33,
   "metadata": {},
   "outputs": [
    {
     "data": {
      "text/plain": [
       "(1495, 25)"
      ]
     },
     "execution_count": 33,
     "metadata": {},
     "output_type": "execute_result"
    }
   ],
   "source": [
    "df[df['충전종료_초'] >= 60].shape"
   ]
  },
  {
   "cell_type": "code",
   "execution_count": 34,
   "metadata": {},
   "outputs": [
    {
     "data": {
      "text/plain": [
       "1495"
      ]
     },
     "execution_count": 34,
     "metadata": {},
     "output_type": "execute_result"
    }
   ],
   "source": [
    "over_s_idx = df[df['충전종료_초'] >= 60].index\n",
    "len(over_s_idx)"
   ]
  },
  {
   "cell_type": "code",
   "execution_count": 35,
   "metadata": {},
   "outputs": [
    {
     "data": {
      "text/plain": [
       "Int64Index([1960560, 1964993, 1966556, 1976775, 2043371], dtype='int64')"
      ]
     },
     "execution_count": 35,
     "metadata": {},
     "output_type": "execute_result"
    }
   ],
   "source": [
    "over_s_idx[:5]"
   ]
  },
  {
   "cell_type": "code",
   "execution_count": 38,
   "metadata": {},
   "outputs": [
    {
     "data": {
      "text/plain": [
       "충전종료_분    30\n",
       "충전종료_초    99\n",
       "Name: 1960560, dtype: int32"
      ]
     },
     "execution_count": 38,
     "metadata": {},
     "output_type": "execute_result"
    }
   ],
   "source": [
    "df[['충전종료_분', '충전종료_초']].iloc[1960560]"
   ]
  },
  {
   "cell_type": "code",
   "execution_count": 39,
   "metadata": {},
   "outputs": [
    {
     "data": {
      "text/plain": [
       "99"
      ]
     },
     "execution_count": 39,
     "metadata": {},
     "output_type": "execute_result"
    }
   ],
   "source": [
    "df.loc[1960560, '충전종료_초']"
   ]
  },
  {
   "cell_type": "code",
   "execution_count": 40,
   "metadata": {},
   "outputs": [],
   "source": [
    "for i in over_s_idx:\n",
    "    df.loc[i, '충전종료_분'] += 1\n",
    "    df.loc[i, '충전종료_초'] -= 60"
   ]
  },
  {
   "cell_type": "code",
   "execution_count": 42,
   "metadata": {},
   "outputs": [
    {
     "data": {
      "text/plain": [
       "충전종료_분    31\n",
       "충전종료_초    39\n",
       "Name: 1960560, dtype: int32"
      ]
     },
     "execution_count": 42,
     "metadata": {},
     "output_type": "execute_result"
    }
   ],
   "source": [
    "df[['충전종료_분', '충전종료_초']].iloc[1960560]"
   ]
  },
  {
   "cell_type": "markdown",
   "metadata": {},
   "source": [
    "#### 충전종료일시-분 오류 데이터\n",
    "- 3270개"
   ]
  },
  {
   "cell_type": "code",
   "execution_count": 43,
   "metadata": {},
   "outputs": [
    {
     "data": {
      "text/plain": [
       "(3270, 25)"
      ]
     },
     "execution_count": 43,
     "metadata": {},
     "output_type": "execute_result"
    }
   ],
   "source": [
    "df[df['충전종료_분'] >= 60].shape"
   ]
  },
  {
   "cell_type": "code",
   "execution_count": 44,
   "metadata": {},
   "outputs": [
    {
     "data": {
      "text/plain": [
       "3270"
      ]
     },
     "execution_count": 44,
     "metadata": {},
     "output_type": "execute_result"
    }
   ],
   "source": [
    "over_m_idx = df[df['충전종료_분'] >= 60].index\n",
    "len(over_m_idx)"
   ]
  },
  {
   "cell_type": "code",
   "execution_count": 45,
   "metadata": {},
   "outputs": [
    {
     "data": {
      "text/plain": [
       "Int64Index([1964993, 1966556, 1968601, 1968849, 1970888], dtype='int64')"
      ]
     },
     "execution_count": 45,
     "metadata": {},
     "output_type": "execute_result"
    }
   ],
   "source": [
    "over_m_idx[:5]"
   ]
  },
  {
   "cell_type": "code",
   "execution_count": 46,
   "metadata": {},
   "outputs": [
    {
     "data": {
      "text/plain": [
       "충전종료_시    17\n",
       "충전종료_분    65\n",
       "Name: 1964993, dtype: int32"
      ]
     },
     "execution_count": 46,
     "metadata": {},
     "output_type": "execute_result"
    }
   ],
   "source": [
    "df[['충전종료_시', '충전종료_분']].iloc[1964993]"
   ]
  },
  {
   "cell_type": "code",
   "execution_count": 48,
   "metadata": {},
   "outputs": [
    {
     "data": {
      "text/plain": [
       "65"
      ]
     },
     "execution_count": 48,
     "metadata": {},
     "output_type": "execute_result"
    }
   ],
   "source": [
    "df.loc[1964993, '충전종료_분']"
   ]
  },
  {
   "cell_type": "code",
   "execution_count": 49,
   "metadata": {},
   "outputs": [],
   "source": [
    "for i in over_m_idx:\n",
    "    df.loc[i, '충전종료_시'] += 1\n",
    "    df.loc[i, '충전종료_분'] -= 60"
   ]
  },
  {
   "cell_type": "code",
   "execution_count": 50,
   "metadata": {},
   "outputs": [
    {
     "data": {
      "text/plain": [
       "5"
      ]
     },
     "execution_count": 50,
     "metadata": {},
     "output_type": "execute_result"
    }
   ],
   "source": [
    "df.loc[1964993, '충전종료_분']"
   ]
  },
  {
   "cell_type": "code",
   "execution_count": 51,
   "metadata": {},
   "outputs": [
    {
     "data": {
      "text/plain": [
       "충전종료_시    18\n",
       "충전종료_분     5\n",
       "Name: 1964993, dtype: int32"
      ]
     },
     "execution_count": 51,
     "metadata": {},
     "output_type": "execute_result"
    }
   ],
   "source": [
    "df[['충전종료_시', '충전종료_분']].iloc[1964993]"
   ]
  },
  {
   "cell_type": "markdown",
   "metadata": {},
   "source": [
    "#### 충전종료일시-시 오류 데이터\n",
    "- 71개"
   ]
  },
  {
   "cell_type": "code",
   "execution_count": 52,
   "metadata": {},
   "outputs": [
    {
     "data": {
      "text/plain": [
       "(71, 25)"
      ]
     },
     "execution_count": 52,
     "metadata": {},
     "output_type": "execute_result"
    }
   ],
   "source": [
    "df[df['충전종료_시'] >= 24].shape"
   ]
  },
  {
   "cell_type": "code",
   "execution_count": 53,
   "metadata": {},
   "outputs": [
    {
     "data": {
      "text/plain": [
       "71"
      ]
     },
     "execution_count": 53,
     "metadata": {},
     "output_type": "execute_result"
    }
   ],
   "source": [
    "over_h_idx = df[df['충전종료_시'] >= 24].index\n",
    "len(over_h_idx)"
   ]
  },
  {
   "cell_type": "code",
   "execution_count": 54,
   "metadata": {},
   "outputs": [
    {
     "data": {
      "text/plain": [
       "Int64Index([2168170, 2171801, 2189569, 2189571, 2192634], dtype='int64')"
      ]
     },
     "execution_count": 54,
     "metadata": {},
     "output_type": "execute_result"
    }
   ],
   "source": [
    "over_h_idx[:5]"
   ]
  },
  {
   "cell_type": "code",
   "execution_count": 56,
   "metadata": {},
   "outputs": [
    {
     "data": {
      "text/plain": [
       "충전종료_일    30\n",
       "충전종료_시    24\n",
       "Name: 2168170, dtype: int32"
      ]
     },
     "execution_count": 56,
     "metadata": {},
     "output_type": "execute_result"
    }
   ],
   "source": [
    "df[['충전종료_일', '충전종료_시']].iloc[2168170]"
   ]
  },
  {
   "cell_type": "code",
   "execution_count": 57,
   "metadata": {},
   "outputs": [],
   "source": [
    "for i in over_h_idx:\n",
    "    df.loc[i, '충전종료_일'] += 1\n",
    "    df.loc[i, '충전종료_시'] -= 24"
   ]
  },
  {
   "cell_type": "code",
   "execution_count": 58,
   "metadata": {},
   "outputs": [
    {
     "data": {
      "text/plain": [
       "충전종료_일    31\n",
       "충전종료_시     0\n",
       "Name: 2168170, dtype: int32"
      ]
     },
     "execution_count": 58,
     "metadata": {},
     "output_type": "execute_result"
    }
   ],
   "source": [
    "df[['충전종료_일', '충전종료_시']].iloc[2168170]"
   ]
  },
  {
   "cell_type": "markdown",
   "metadata": {},
   "source": [
    "#### 충전종료일시-일 오류 데이터\n",
    "- 3개(index) : 3232880, 2440150, 2775050"
   ]
  },
  {
   "cell_type": "code",
   "execution_count": 59,
   "metadata": {},
   "outputs": [
    {
     "data": {
      "text/plain": [
       "Int64Index([], dtype='int64')"
      ]
     },
     "execution_count": 59,
     "metadata": {},
     "output_type": "execute_result"
    }
   ],
   "source": [
    "df[(df['충전종료_월'] == 1) & (df['충전종료_일'] > 31)].index"
   ]
  },
  {
   "cell_type": "code",
   "execution_count": 60,
   "metadata": {},
   "outputs": [
    {
     "data": {
      "text/plain": [
       "Int64Index([3232880], dtype='int64')"
      ]
     },
     "execution_count": 60,
     "metadata": {},
     "output_type": "execute_result"
    }
   ],
   "source": [
    "df[(df['충전종료_년도'] == 2021) & (df['충전종료_월'] == 2) & (df['충전종료_일'] > 28)].index"
   ]
  },
  {
   "cell_type": "code",
   "execution_count": 61,
   "metadata": {},
   "outputs": [
    {
     "data": {
      "text/plain": [
       "Int64Index([], dtype='int64')"
      ]
     },
     "execution_count": 61,
     "metadata": {},
     "output_type": "execute_result"
    }
   ],
   "source": [
    "df[(df['충전종료_년도'] == 2022) & (df['충전종료_월'] == 2) & (df['충전종료_일'] > 28)].index"
   ]
  },
  {
   "cell_type": "code",
   "execution_count": 62,
   "metadata": {},
   "outputs": [
    {
     "data": {
      "text/plain": [
       "Int64Index([], dtype='int64')"
      ]
     },
     "execution_count": 62,
     "metadata": {},
     "output_type": "execute_result"
    }
   ],
   "source": [
    "# 2020년은 윤년\n",
    "df[(df['충전종료_년도'] == 2020) & (df['충전종료_월'] == 2) & (df['충전종료_일'] > 29)].index"
   ]
  },
  {
   "cell_type": "code",
   "execution_count": 63,
   "metadata": {},
   "outputs": [
    {
     "data": {
      "text/plain": [
       "Int64Index([], dtype='int64')"
      ]
     },
     "execution_count": 63,
     "metadata": {},
     "output_type": "execute_result"
    }
   ],
   "source": [
    "df[(df['충전종료_월'] == 3) & (df['충전종료_일'] > 31)].index"
   ]
  },
  {
   "cell_type": "code",
   "execution_count": 64,
   "metadata": {},
   "outputs": [
    {
     "data": {
      "text/plain": [
       "Int64Index([], dtype='int64')"
      ]
     },
     "execution_count": 64,
     "metadata": {},
     "output_type": "execute_result"
    }
   ],
   "source": [
    "df[(df['충전종료_월'] == 4) & (df['충전종료_일'] > 30)].index"
   ]
  },
  {
   "cell_type": "code",
   "execution_count": 65,
   "metadata": {},
   "outputs": [
    {
     "data": {
      "text/plain": [
       "Int64Index([], dtype='int64')"
      ]
     },
     "execution_count": 65,
     "metadata": {},
     "output_type": "execute_result"
    }
   ],
   "source": [
    "df[(df['충전종료_월'] == 5) & (df['충전종료_일'] > 31)].index"
   ]
  },
  {
   "cell_type": "code",
   "execution_count": 66,
   "metadata": {},
   "outputs": [
    {
     "data": {
      "text/plain": [
       "Int64Index([], dtype='int64')"
      ]
     },
     "execution_count": 66,
     "metadata": {},
     "output_type": "execute_result"
    }
   ],
   "source": [
    "df[(df['충전종료_월'] == 6) & (df['충전종료_일'] > 31)].index"
   ]
  },
  {
   "cell_type": "code",
   "execution_count": 67,
   "metadata": {},
   "outputs": [
    {
     "data": {
      "text/plain": [
       "Int64Index([], dtype='int64')"
      ]
     },
     "execution_count": 67,
     "metadata": {},
     "output_type": "execute_result"
    }
   ],
   "source": [
    "df[(df['충전종료_월'] == 7) & (df['충전종료_일'] > 31)].index"
   ]
  },
  {
   "cell_type": "code",
   "execution_count": 68,
   "metadata": {},
   "outputs": [
    {
     "data": {
      "text/plain": [
       "Int64Index([], dtype='int64')"
      ]
     },
     "execution_count": 68,
     "metadata": {},
     "output_type": "execute_result"
    }
   ],
   "source": [
    "df[(df['충전종료_월'] == 8) & (df['충전종료_일'] > 31)].index"
   ]
  },
  {
   "cell_type": "code",
   "execution_count": 69,
   "metadata": {},
   "outputs": [
    {
     "data": {
      "text/plain": [
       "Int64Index([], dtype='int64')"
      ]
     },
     "execution_count": 69,
     "metadata": {},
     "output_type": "execute_result"
    }
   ],
   "source": [
    "df[(df['충전종료_월'] == 9) & (df['충전종료_일'] > 30)].index"
   ]
  },
  {
   "cell_type": "code",
   "execution_count": 70,
   "metadata": {},
   "outputs": [
    {
     "data": {
      "text/plain": [
       "Int64Index([], dtype='int64')"
      ]
     },
     "execution_count": 70,
     "metadata": {},
     "output_type": "execute_result"
    }
   ],
   "source": [
    "df[(df['충전종료_월'] == 10) & (df['충전종료_일'] > 31)].index"
   ]
  },
  {
   "cell_type": "code",
   "execution_count": 71,
   "metadata": {},
   "outputs": [
    {
     "data": {
      "text/plain": [
       "Int64Index([2440150], dtype='int64')"
      ]
     },
     "execution_count": 71,
     "metadata": {},
     "output_type": "execute_result"
    }
   ],
   "source": [
    "df[(df['충전종료_월'] == 11) & (df['충전종료_일'] > 30)].index"
   ]
  },
  {
   "cell_type": "code",
   "execution_count": 72,
   "metadata": {},
   "outputs": [
    {
     "data": {
      "text/plain": [
       "Int64Index([2775050], dtype='int64')"
      ]
     },
     "execution_count": 72,
     "metadata": {},
     "output_type": "execute_result"
    }
   ],
   "source": [
    "df[(df['충전종료_월'] == 12) & (df['충전종료_일'] > 31)].index"
   ]
  },
  {
   "cell_type": "code",
   "execution_count": 73,
   "metadata": {},
   "outputs": [
    {
     "data": {
      "text/plain": [
       "충전종료_년도    2021\n",
       "충전종료_월        2\n",
       "충전종료_일       29\n",
       "Name: 3232880, dtype: object"
      ]
     },
     "execution_count": 73,
     "metadata": {},
     "output_type": "execute_result"
    }
   ],
   "source": [
    "check_col = ['충전종료_년도', '충전종료_월', '충전종료_일']\n",
    "df.loc[3232880, check_col]"
   ]
  },
  {
   "cell_type": "code",
   "execution_count": 74,
   "metadata": {},
   "outputs": [
    {
     "data": {
      "text/plain": [
       "충전종료_년도    2021\n",
       "충전종료_월        3\n",
       "충전종료_일        1\n",
       "Name: 3232880, dtype: object"
      ]
     },
     "execution_count": 74,
     "metadata": {},
     "output_type": "execute_result"
    }
   ],
   "source": [
    "df.loc[3232880, '충전종료_월'] = 3\n",
    "df.loc[3232880, '충전종료_일'] = 1\n",
    "df.loc[3232880, check_col]"
   ]
  },
  {
   "cell_type": "code",
   "execution_count": 75,
   "metadata": {},
   "outputs": [
    {
     "data": {
      "text/plain": [
       "충전종료_년도    2020\n",
       "충전종료_월       11\n",
       "충전종료_일       31\n",
       "Name: 2440150, dtype: object"
      ]
     },
     "execution_count": 75,
     "metadata": {},
     "output_type": "execute_result"
    }
   ],
   "source": [
    "df.loc[2440150, check_col]"
   ]
  },
  {
   "cell_type": "code",
   "execution_count": 76,
   "metadata": {},
   "outputs": [
    {
     "data": {
      "text/plain": [
       "충전종료_년도    2020\n",
       "충전종료_월       12\n",
       "충전종료_일        1\n",
       "Name: 2440150, dtype: object"
      ]
     },
     "execution_count": 76,
     "metadata": {},
     "output_type": "execute_result"
    }
   ],
   "source": [
    "df.loc[2440150, '충전종료_월'] = 12\n",
    "df.loc[2440150, '충전종료_일'] = 1\n",
    "df.loc[2440150, check_col]"
   ]
  },
  {
   "cell_type": "code",
   "execution_count": 77,
   "metadata": {},
   "outputs": [
    {
     "data": {
      "text/plain": [
       "충전종료_년도    2020\n",
       "충전종료_월       12\n",
       "충전종료_일       32\n",
       "Name: 2775050, dtype: object"
      ]
     },
     "execution_count": 77,
     "metadata": {},
     "output_type": "execute_result"
    }
   ],
   "source": [
    "df.loc[2775050, check_col]"
   ]
  },
  {
   "cell_type": "code",
   "execution_count": 78,
   "metadata": {},
   "outputs": [
    {
     "data": {
      "text/plain": [
       "충전종료_년도    2021\n",
       "충전종료_월        1\n",
       "충전종료_일        1\n",
       "Name: 2775050, dtype: object"
      ]
     },
     "execution_count": 78,
     "metadata": {},
     "output_type": "execute_result"
    }
   ],
   "source": [
    "df.loc[2775050, '충전종료_년도'] = 2021\n",
    "df.loc[2775050, '충전종료_월'] = 1\n",
    "df.loc[2775050, '충전종료_일'] = 1\n",
    "df.loc[2775050, check_col]"
   ]
  },
  {
   "cell_type": "markdown",
   "metadata": {},
   "source": [
    "#### 충전종료시간(변환)"
   ]
  },
  {
   "cell_type": "code",
   "execution_count": 80,
   "metadata": {},
   "outputs": [
    {
     "data": {
      "text/html": [
       "<div>\n",
       "<style scoped>\n",
       "    .dataframe tbody tr th:only-of-type {\n",
       "        vertical-align: middle;\n",
       "    }\n",
       "\n",
       "    .dataframe tbody tr th {\n",
       "        vertical-align: top;\n",
       "    }\n",
       "\n",
       "    .dataframe thead th {\n",
       "        text-align: right;\n",
       "    }\n",
       "</style>\n",
       "<table border=\"1\" class=\"dataframe\">\n",
       "  <thead>\n",
       "    <tr style=\"text-align: right;\">\n",
       "      <th></th>\n",
       "      <th>충전종료일시</th>\n",
       "      <th>충전시간</th>\n",
       "      <th>충전량</th>\n",
       "      <th>충전용량</th>\n",
       "      <th>충전시작_년도</th>\n",
       "      <th>충전시작_월</th>\n",
       "      <th>충전시작_일</th>\n",
       "      <th>충전시작_시</th>\n",
       "      <th>충전시작_분</th>\n",
       "      <th>충전시작_초</th>\n",
       "      <th>충전시작일시(변환)</th>\n",
       "      <th>충전종료_년도</th>\n",
       "      <th>충전종료_월</th>\n",
       "      <th>충전종료_일</th>\n",
       "      <th>충전종료_시</th>\n",
       "      <th>충전종료_분</th>\n",
       "      <th>충전종료_초</th>\n",
       "      <th>충전종료일시(변환)</th>\n",
       "    </tr>\n",
       "  </thead>\n",
       "  <tbody>\n",
       "    <tr>\n",
       "      <th>0</th>\n",
       "      <td>20200117201417</td>\n",
       "      <td>00:40:00</td>\n",
       "      <td>25.47000</td>\n",
       "      <td>NaN</td>\n",
       "      <td>2020</td>\n",
       "      <td>1</td>\n",
       "      <td>17</td>\n",
       "      <td>19</td>\n",
       "      <td>33</td>\n",
       "      <td>31</td>\n",
       "      <td>2020-01-17 19:33:31</td>\n",
       "      <td>2020</td>\n",
       "      <td>1</td>\n",
       "      <td>17</td>\n",
       "      <td>20</td>\n",
       "      <td>14</td>\n",
       "      <td>17</td>\n",
       "      <td>2020-1-17 20:14:17</td>\n",
       "    </tr>\n",
       "    <tr>\n",
       "      <th>1</th>\n",
       "      <td>20200130150645</td>\n",
       "      <td>00:30:31</td>\n",
       "      <td>17.57000</td>\n",
       "      <td>NaN</td>\n",
       "      <td>2020</td>\n",
       "      <td>1</td>\n",
       "      <td>30</td>\n",
       "      <td>14</td>\n",
       "      <td>35</td>\n",
       "      <td>45</td>\n",
       "      <td>2020-01-30 14:35:45</td>\n",
       "      <td>2020</td>\n",
       "      <td>1</td>\n",
       "      <td>30</td>\n",
       "      <td>15</td>\n",
       "      <td>6</td>\n",
       "      <td>45</td>\n",
       "      <td>2020-1-30 15:6:45</td>\n",
       "    </tr>\n",
       "    <tr>\n",
       "      <th>2</th>\n",
       "      <td>20200105011329</td>\n",
       "      <td>00:15:35</td>\n",
       "      <td>6.98000</td>\n",
       "      <td>NaN</td>\n",
       "      <td>2020</td>\n",
       "      <td>1</td>\n",
       "      <td>5</td>\n",
       "      <td>0</td>\n",
       "      <td>57</td>\n",
       "      <td>28</td>\n",
       "      <td>2020-01-05 00:57:28</td>\n",
       "      <td>2020</td>\n",
       "      <td>1</td>\n",
       "      <td>5</td>\n",
       "      <td>1</td>\n",
       "      <td>13</td>\n",
       "      <td>29</td>\n",
       "      <td>2020-1-5 1:13:29</td>\n",
       "    </tr>\n",
       "    <tr>\n",
       "      <th>3</th>\n",
       "      <td>20200120124708</td>\n",
       "      <td>00:41:00</td>\n",
       "      <td>15.30000</td>\n",
       "      <td>NaN</td>\n",
       "      <td>2020</td>\n",
       "      <td>1</td>\n",
       "      <td>20</td>\n",
       "      <td>12</td>\n",
       "      <td>2</td>\n",
       "      <td>15</td>\n",
       "      <td>2020-01-20 12:02:15</td>\n",
       "      <td>2020</td>\n",
       "      <td>1</td>\n",
       "      <td>20</td>\n",
       "      <td>12</td>\n",
       "      <td>47</td>\n",
       "      <td>8</td>\n",
       "      <td>2020-1-20 12:47:8</td>\n",
       "    </tr>\n",
       "    <tr>\n",
       "      <th>4</th>\n",
       "      <td>20200123092554</td>\n",
       "      <td>00:31:14</td>\n",
       "      <td>21.92000</td>\n",
       "      <td>NaN</td>\n",
       "      <td>2020</td>\n",
       "      <td>1</td>\n",
       "      <td>23</td>\n",
       "      <td>8</td>\n",
       "      <td>54</td>\n",
       "      <td>17</td>\n",
       "      <td>2020-01-23 08:54:17</td>\n",
       "      <td>2020</td>\n",
       "      <td>1</td>\n",
       "      <td>23</td>\n",
       "      <td>9</td>\n",
       "      <td>25</td>\n",
       "      <td>54</td>\n",
       "      <td>2020-1-23 9:25:54</td>\n",
       "    </tr>\n",
       "  </tbody>\n",
       "</table>\n",
       "</div>"
      ],
      "text/plain": [
       "           충전종료일시      충전시간      충전량 충전용량  충전시작_년도  충전시작_월  충전시작_일  충전시작_시  \\\n",
       "0  20200117201417  00:40:00 25.47000  NaN     2020       1      17      19   \n",
       "1  20200130150645  00:30:31 17.57000  NaN     2020       1      30      14   \n",
       "2  20200105011329  00:15:35  6.98000  NaN     2020       1       5       0   \n",
       "3  20200120124708  00:41:00 15.30000  NaN     2020       1      20      12   \n",
       "4  20200123092554  00:31:14 21.92000  NaN     2020       1      23       8   \n",
       "\n",
       "   충전시작_분  충전시작_초          충전시작일시(변환)  충전종료_년도  충전종료_월  충전종료_일  충전종료_시  \\\n",
       "0      33      31 2020-01-17 19:33:31     2020       1      17      20   \n",
       "1      35      45 2020-01-30 14:35:45     2020       1      30      15   \n",
       "2      57      28 2020-01-05 00:57:28     2020       1       5       1   \n",
       "3       2      15 2020-01-20 12:02:15     2020       1      20      12   \n",
       "4      54      17 2020-01-23 08:54:17     2020       1      23       9   \n",
       "\n",
       "   충전종료_분  충전종료_초          충전종료일시(변환)  \n",
       "0      14      17  2020-1-17 20:14:17  \n",
       "1       6      45   2020-1-30 15:6:45  \n",
       "2      13      29    2020-1-5 1:13:29  \n",
       "3      47       8   2020-1-20 12:47:8  \n",
       "4      25      54   2020-1-23 9:25:54  "
      ]
     },
     "execution_count": 80,
     "metadata": {},
     "output_type": "execute_result"
    }
   ],
   "source": [
    "df['충전종료일시(변환)'] = df['충전종료_년도'].astype(str) + '-' +  df['충전종료_월'].astype(str) + '-' + df['충전종료_일'].astype(str) + ' ' + df['충전종료_시'].astype(str) + ':' + df['충전종료_분'].astype(str) + ':' + df['충전종료_초'].astype(str)\n",
    "df.iloc[:5,8:]"
   ]
  },
  {
   "cell_type": "code",
   "execution_count": 81,
   "metadata": {},
   "outputs": [],
   "source": [
    "df['충전종료일시(변환)'] = pd.to_datetime(df['충전종료일시(변환)'])"
   ]
  },
  {
   "cell_type": "code",
   "execution_count": 82,
   "metadata": {},
   "outputs": [
    {
     "data": {
      "text/html": [
       "<div>\n",
       "<style scoped>\n",
       "    .dataframe tbody tr th:only-of-type {\n",
       "        vertical-align: middle;\n",
       "    }\n",
       "\n",
       "    .dataframe tbody tr th {\n",
       "        vertical-align: top;\n",
       "    }\n",
       "\n",
       "    .dataframe thead th {\n",
       "        text-align: right;\n",
       "    }\n",
       "</style>\n",
       "<table border=\"1\" class=\"dataframe\">\n",
       "  <thead>\n",
       "    <tr style=\"text-align: right;\">\n",
       "      <th></th>\n",
       "      <th>충전소명</th>\n",
       "      <th>충전기ID</th>\n",
       "      <th>지역</th>\n",
       "      <th>시군구</th>\n",
       "      <th>주소</th>\n",
       "      <th>충전기용량(kW)</th>\n",
       "      <th>충전기타입</th>\n",
       "      <th>충전시작일시</th>\n",
       "      <th>충전종료일시</th>\n",
       "      <th>충전시간</th>\n",
       "      <th>...</th>\n",
       "      <th>충전시작_초</th>\n",
       "      <th>충전시작일시(변환)</th>\n",
       "      <th>충전종료_년도</th>\n",
       "      <th>충전종료_월</th>\n",
       "      <th>충전종료_일</th>\n",
       "      <th>충전종료_시</th>\n",
       "      <th>충전종료_분</th>\n",
       "      <th>충전종료_초</th>\n",
       "      <th>충전종료일시(변환)</th>\n",
       "      <th>충전시간(계산)</th>\n",
       "    </tr>\n",
       "  </thead>\n",
       "  <tbody>\n",
       "    <tr>\n",
       "      <th>0</th>\n",
       "      <td>내린천휴게소 양양방향</td>\n",
       "      <td>1</td>\n",
       "      <td>강원도</td>\n",
       "      <td>인제군</td>\n",
       "      <td>강원도 인제군 상남면 하남리 339-7(양양방향)</td>\n",
       "      <td>50.00000</td>\n",
       "      <td>DC차데모+AC3상+DC콤보</td>\n",
       "      <td>20200117193331</td>\n",
       "      <td>20200117201417</td>\n",
       "      <td>00:40:00</td>\n",
       "      <td>...</td>\n",
       "      <td>31</td>\n",
       "      <td>2020-01-17 19:33:31</td>\n",
       "      <td>2020</td>\n",
       "      <td>1</td>\n",
       "      <td>17</td>\n",
       "      <td>20</td>\n",
       "      <td>14</td>\n",
       "      <td>17</td>\n",
       "      <td>2020-01-17 20:14:17</td>\n",
       "      <td>0 days 00:40:46</td>\n",
       "    </tr>\n",
       "    <tr>\n",
       "      <th>1</th>\n",
       "      <td>내린천휴게소 양양방향</td>\n",
       "      <td>1</td>\n",
       "      <td>강원도</td>\n",
       "      <td>인제군</td>\n",
       "      <td>강원도 인제군 상남면 하남리 339-7(양양방향)</td>\n",
       "      <td>50.00000</td>\n",
       "      <td>DC차데모+AC3상+DC콤보</td>\n",
       "      <td>20200130143545</td>\n",
       "      <td>20200130150645</td>\n",
       "      <td>00:30:31</td>\n",
       "      <td>...</td>\n",
       "      <td>45</td>\n",
       "      <td>2020-01-30 14:35:45</td>\n",
       "      <td>2020</td>\n",
       "      <td>1</td>\n",
       "      <td>30</td>\n",
       "      <td>15</td>\n",
       "      <td>6</td>\n",
       "      <td>45</td>\n",
       "      <td>2020-01-30 15:06:45</td>\n",
       "      <td>0 days 00:31:00</td>\n",
       "    </tr>\n",
       "    <tr>\n",
       "      <th>2</th>\n",
       "      <td>내린천휴게소 양양방향</td>\n",
       "      <td>1</td>\n",
       "      <td>강원도</td>\n",
       "      <td>인제군</td>\n",
       "      <td>강원도 인제군 상남면 하남리 339-7(양양방향)</td>\n",
       "      <td>50.00000</td>\n",
       "      <td>DC차데모+AC3상+DC콤보</td>\n",
       "      <td>20200105005728</td>\n",
       "      <td>20200105011329</td>\n",
       "      <td>00:15:35</td>\n",
       "      <td>...</td>\n",
       "      <td>28</td>\n",
       "      <td>2020-01-05 00:57:28</td>\n",
       "      <td>2020</td>\n",
       "      <td>1</td>\n",
       "      <td>5</td>\n",
       "      <td>1</td>\n",
       "      <td>13</td>\n",
       "      <td>29</td>\n",
       "      <td>2020-01-05 01:13:29</td>\n",
       "      <td>0 days 00:16:01</td>\n",
       "    </tr>\n",
       "    <tr>\n",
       "      <th>3</th>\n",
       "      <td>내린천휴게소 양양방향</td>\n",
       "      <td>3</td>\n",
       "      <td>강원도</td>\n",
       "      <td>인제군</td>\n",
       "      <td>강원도 인제군 상남면 하남리 339-7(양양방향)</td>\n",
       "      <td>100.00000</td>\n",
       "      <td>DC콤보</td>\n",
       "      <td>20200120120215</td>\n",
       "      <td>20200120124708</td>\n",
       "      <td>00:41:00</td>\n",
       "      <td>...</td>\n",
       "      <td>15</td>\n",
       "      <td>2020-01-20 12:02:15</td>\n",
       "      <td>2020</td>\n",
       "      <td>1</td>\n",
       "      <td>20</td>\n",
       "      <td>12</td>\n",
       "      <td>47</td>\n",
       "      <td>8</td>\n",
       "      <td>2020-01-20 12:47:08</td>\n",
       "      <td>0 days 00:44:53</td>\n",
       "    </tr>\n",
       "    <tr>\n",
       "      <th>4</th>\n",
       "      <td>한국광기술원</td>\n",
       "      <td>1</td>\n",
       "      <td>광주광역시</td>\n",
       "      <td>북구</td>\n",
       "      <td>광주광역시 북구 첨단 벤처로 108번길 9</td>\n",
       "      <td>50.00000</td>\n",
       "      <td>DC차데모+AC3상+DC콤보</td>\n",
       "      <td>20200123085417</td>\n",
       "      <td>20200123092554</td>\n",
       "      <td>00:31:14</td>\n",
       "      <td>...</td>\n",
       "      <td>17</td>\n",
       "      <td>2020-01-23 08:54:17</td>\n",
       "      <td>2020</td>\n",
       "      <td>1</td>\n",
       "      <td>23</td>\n",
       "      <td>9</td>\n",
       "      <td>25</td>\n",
       "      <td>54</td>\n",
       "      <td>2020-01-23 09:25:54</td>\n",
       "      <td>0 days 00:31:37</td>\n",
       "    </tr>\n",
       "  </tbody>\n",
       "</table>\n",
       "<p>5 rows × 27 columns</p>\n",
       "</div>"
      ],
      "text/plain": [
       "          충전소명  충전기ID     지역  시군구                           주소  충전기용량(kW)  \\\n",
       "0  내린천휴게소 양양방향      1    강원도  인제군  강원도 인제군 상남면 하남리 339-7(양양방향)   50.00000   \n",
       "1  내린천휴게소 양양방향      1    강원도  인제군  강원도 인제군 상남면 하남리 339-7(양양방향)   50.00000   \n",
       "2  내린천휴게소 양양방향      1    강원도  인제군  강원도 인제군 상남면 하남리 339-7(양양방향)   50.00000   \n",
       "3  내린천휴게소 양양방향      3    강원도  인제군  강원도 인제군 상남면 하남리 339-7(양양방향)  100.00000   \n",
       "4       한국광기술원      1  광주광역시   북구      광주광역시 북구 첨단 벤처로 108번길 9   50.00000   \n",
       "\n",
       "             충전기타입          충전시작일시          충전종료일시      충전시간  ...  충전시작_초  \\\n",
       "0  DC차데모+AC3상+DC콤보  20200117193331  20200117201417  00:40:00  ...      31   \n",
       "1  DC차데모+AC3상+DC콤보  20200130143545  20200130150645  00:30:31  ...      45   \n",
       "2  DC차데모+AC3상+DC콤보  20200105005728  20200105011329  00:15:35  ...      28   \n",
       "3             DC콤보  20200120120215  20200120124708  00:41:00  ...      15   \n",
       "4  DC차데모+AC3상+DC콤보  20200123085417  20200123092554  00:31:14  ...      17   \n",
       "\n",
       "           충전시작일시(변환)  충전종료_년도  충전종료_월  충전종료_일  충전종료_시  충전종료_분  충전종료_초  \\\n",
       "0 2020-01-17 19:33:31     2020       1      17      20      14      17   \n",
       "1 2020-01-30 14:35:45     2020       1      30      15       6      45   \n",
       "2 2020-01-05 00:57:28     2020       1       5       1      13      29   \n",
       "3 2020-01-20 12:02:15     2020       1      20      12      47       8   \n",
       "4 2020-01-23 08:54:17     2020       1      23       9      25      54   \n",
       "\n",
       "           충전종료일시(변환)        충전시간(계산)  \n",
       "0 2020-01-17 20:14:17 0 days 00:40:46  \n",
       "1 2020-01-30 15:06:45 0 days 00:31:00  \n",
       "2 2020-01-05 01:13:29 0 days 00:16:01  \n",
       "3 2020-01-20 12:47:08 0 days 00:44:53  \n",
       "4 2020-01-23 09:25:54 0 days 00:31:37  \n",
       "\n",
       "[5 rows x 27 columns]"
      ]
     },
     "execution_count": 82,
     "metadata": {},
     "output_type": "execute_result"
    }
   ],
   "source": [
    "df['충전시간(계산)'] = df['충전종료일시(변환)'] - df['충전시작일시(변환)']\n",
    "df.head()"
   ]
  },
  {
   "cell_type": "markdown",
   "metadata": {},
   "source": [
    "### 충전기용량과 충전용량 합치기"
   ]
  },
  {
   "cell_type": "code",
   "execution_count": 95,
   "metadata": {},
   "outputs": [
    {
     "name": "stdout",
     "output_type": "stream",
     "text": [
      "<class 'pandas.core.frame.DataFrame'>\n",
      "RangeIndex: 11665822 entries, 0 to 11665821\n",
      "Data columns (total 27 columns):\n",
      " #   Column      Dtype          \n",
      "---  ------      -----          \n",
      " 0   충전소명        object         \n",
      " 1   충전기ID       int16          \n",
      " 2   지역          object         \n",
      " 3   시군구         object         \n",
      " 4   주소          object         \n",
      " 5   충전기용량(kW)   float64        \n",
      " 6   충전기타입       object         \n",
      " 7   충전시작일시      int64          \n",
      " 8   충전종료일시      object         \n",
      " 9   충전시간        object         \n",
      " 10  충전량         float64        \n",
      " 11  충전용량        object         \n",
      " 12  충전시작_년도     int32          \n",
      " 13  충전시작_월      int32          \n",
      " 14  충전시작_일      int32          \n",
      " 15  충전시작_시      int32          \n",
      " 16  충전시작_분      int32          \n",
      " 17  충전시작_초      int32          \n",
      " 18  충전시작일시(변환)  datetime64[ns] \n",
      " 19  충전종료_년도     int32          \n",
      " 20  충전종료_월      int32          \n",
      " 21  충전종료_일      int32          \n",
      " 22  충전종료_시      int32          \n",
      " 23  충전종료_분      int32          \n",
      " 24  충전종료_초      int32          \n",
      " 25  충전종료일시(변환)  datetime64[ns] \n",
      " 26  충전시간(계산)    timedelta64[ns]\n",
      "dtypes: datetime64[ns](2), float64(2), int16(1), int32(12), int64(1), object(8), timedelta64[ns](1)\n",
      "memory usage: 1.8+ GB\n"
     ]
    }
   ],
   "source": [
    "df = df.sort_values(by=['충전시작_년도', '충전시작_월', '충전시작_일', '충전시작_시', '충전시작_분', '충전시작_초']).reset_index(drop=True)\n",
    "df.info()"
   ]
  },
  {
   "cell_type": "code",
   "execution_count": 96,
   "metadata": {},
   "outputs": [
    {
     "data": {
      "text/html": [
       "<div>\n",
       "<style scoped>\n",
       "    .dataframe tbody tr th:only-of-type {\n",
       "        vertical-align: middle;\n",
       "    }\n",
       "\n",
       "    .dataframe tbody tr th {\n",
       "        vertical-align: top;\n",
       "    }\n",
       "\n",
       "    .dataframe thead th {\n",
       "        text-align: right;\n",
       "    }\n",
       "</style>\n",
       "<table border=\"1\" class=\"dataframe\">\n",
       "  <thead>\n",
       "    <tr style=\"text-align: right;\">\n",
       "      <th></th>\n",
       "      <th>충전소명</th>\n",
       "      <th>충전기ID</th>\n",
       "      <th>지역</th>\n",
       "      <th>시군구</th>\n",
       "      <th>주소</th>\n",
       "      <th>충전기용량(kW)</th>\n",
       "      <th>충전기타입</th>\n",
       "      <th>충전시작일시</th>\n",
       "      <th>충전종료일시</th>\n",
       "      <th>충전시간</th>\n",
       "      <th>...</th>\n",
       "      <th>충전시작_초</th>\n",
       "      <th>충전시작일시(변환)</th>\n",
       "      <th>충전종료_년도</th>\n",
       "      <th>충전종료_월</th>\n",
       "      <th>충전종료_일</th>\n",
       "      <th>충전종료_시</th>\n",
       "      <th>충전종료_분</th>\n",
       "      <th>충전종료_초</th>\n",
       "      <th>충전종료일시(변환)</th>\n",
       "      <th>충전시간(계산)</th>\n",
       "    </tr>\n",
       "  </thead>\n",
       "  <tbody>\n",
       "    <tr>\n",
       "      <th>2796609</th>\n",
       "      <td>시흥제4동공영주차장</td>\n",
       "      <td>1</td>\n",
       "      <td>서울특별시</td>\n",
       "      <td>금천구</td>\n",
       "      <td>서울특별시 금천구 독산로 36나길 21, B1 18</td>\n",
       "      <td>50.00000</td>\n",
       "      <td>DC차데모+AC3상+DC콤보</td>\n",
       "      <td>20201231235808</td>\n",
       "      <td>20210101002023</td>\n",
       "      <td>00:21:51</td>\n",
       "      <td>...</td>\n",
       "      <td>8</td>\n",
       "      <td>2020-12-31 23:58:08</td>\n",
       "      <td>2021</td>\n",
       "      <td>1</td>\n",
       "      <td>1</td>\n",
       "      <td>0</td>\n",
       "      <td>20</td>\n",
       "      <td>23</td>\n",
       "      <td>2021-01-01 00:20:23</td>\n",
       "      <td>0 days 00:22:15</td>\n",
       "    </tr>\n",
       "    <tr>\n",
       "      <th>2796610</th>\n",
       "      <td>건천휴게소(부산방향)</td>\n",
       "      <td>1</td>\n",
       "      <td>경상북도</td>\n",
       "      <td>경주시</td>\n",
       "      <td>경상북도 경주시 건천읍 경부고속도로 77 (방내리)</td>\n",
       "      <td>50.00000</td>\n",
       "      <td>DC차데모+AC3상+DC콤보</td>\n",
       "      <td>20201231235811</td>\n",
       "      <td>20210101003023</td>\n",
       "      <td>00:31:50</td>\n",
       "      <td>...</td>\n",
       "      <td>11</td>\n",
       "      <td>2020-12-31 23:58:11</td>\n",
       "      <td>2021</td>\n",
       "      <td>1</td>\n",
       "      <td>1</td>\n",
       "      <td>0</td>\n",
       "      <td>30</td>\n",
       "      <td>23</td>\n",
       "      <td>2021-01-01 00:30:23</td>\n",
       "      <td>0 days 00:32:12</td>\n",
       "    </tr>\n",
       "    <tr>\n",
       "      <th>2796611</th>\n",
       "      <td>중부지방고용노동청 별관 앞</td>\n",
       "      <td>1</td>\n",
       "      <td>인천광역시</td>\n",
       "      <td>남동구</td>\n",
       "      <td>인천광역시 남동구 구월3동 1111-6  중부지방고용노동청 별관 앞</td>\n",
       "      <td>50.00000</td>\n",
       "      <td>DC차데모+AC3상+DC콤보</td>\n",
       "      <td>20201231235836</td>\n",
       "      <td>20210101001905</td>\n",
       "      <td>00:20:02</td>\n",
       "      <td>...</td>\n",
       "      <td>36</td>\n",
       "      <td>2020-12-31 23:58:36</td>\n",
       "      <td>2021</td>\n",
       "      <td>1</td>\n",
       "      <td>1</td>\n",
       "      <td>0</td>\n",
       "      <td>19</td>\n",
       "      <td>5</td>\n",
       "      <td>2021-01-01 00:19:05</td>\n",
       "      <td>0 days 00:20:29</td>\n",
       "    </tr>\n",
       "    <tr>\n",
       "      <th>2796612</th>\n",
       "      <td>세종중앙공원주차장2</td>\n",
       "      <td>2</td>\n",
       "      <td>세종특별자치시</td>\n",
       "      <td>연기면</td>\n",
       "      <td>세종특별자치시 연기면 수목원로 136</td>\n",
       "      <td>100.00000</td>\n",
       "      <td>DC콤보</td>\n",
       "      <td>20201231235931</td>\n",
       "      <td>20210101003714</td>\n",
       "      <td>00:37:43</td>\n",
       "      <td>...</td>\n",
       "      <td>31</td>\n",
       "      <td>2020-12-31 23:59:31</td>\n",
       "      <td>2021</td>\n",
       "      <td>1</td>\n",
       "      <td>1</td>\n",
       "      <td>0</td>\n",
       "      <td>37</td>\n",
       "      <td>14</td>\n",
       "      <td>2021-01-01 00:37:14</td>\n",
       "      <td>0 days 00:37:43</td>\n",
       "    </tr>\n",
       "    <tr>\n",
       "      <th>2796613</th>\n",
       "      <td>부석면주민자치센터</td>\n",
       "      <td>1</td>\n",
       "      <td>충청남도</td>\n",
       "      <td>서산시</td>\n",
       "      <td>충청남도 서산시 부석면 취평리 364-2</td>\n",
       "      <td>100.00000</td>\n",
       "      <td>DC차데모+AC3상+DC콤보</td>\n",
       "      <td>20201231235955</td>\n",
       "      <td>20210101001316</td>\n",
       "      <td>00:12:21</td>\n",
       "      <td>...</td>\n",
       "      <td>55</td>\n",
       "      <td>2020-12-31 23:59:55</td>\n",
       "      <td>2021</td>\n",
       "      <td>1</td>\n",
       "      <td>1</td>\n",
       "      <td>0</td>\n",
       "      <td>13</td>\n",
       "      <td>16</td>\n",
       "      <td>2021-01-01 00:13:16</td>\n",
       "      <td>0 days 00:13:21</td>\n",
       "    </tr>\n",
       "  </tbody>\n",
       "</table>\n",
       "<p>5 rows × 27 columns</p>\n",
       "</div>"
      ],
      "text/plain": [
       "                   충전소명  충전기ID       지역  시군구  \\\n",
       "2796609      시흥제4동공영주차장      1    서울특별시  금천구   \n",
       "2796610     건천휴게소(부산방향)      1     경상북도  경주시   \n",
       "2796611  중부지방고용노동청 별관 앞      1    인천광역시  남동구   \n",
       "2796612      세종중앙공원주차장2      2  세종특별자치시  연기면   \n",
       "2796613       부석면주민자치센터      1     충청남도  서산시   \n",
       "\n",
       "                                            주소  충전기용량(kW)            충전기타입  \\\n",
       "2796609           서울특별시 금천구 독산로 36나길 21, B1 18   50.00000  DC차데모+AC3상+DC콤보   \n",
       "2796610           경상북도 경주시 건천읍 경부고속도로 77 (방내리)   50.00000  DC차데모+AC3상+DC콤보   \n",
       "2796611  인천광역시 남동구 구월3동 1111-6  중부지방고용노동청 별관 앞   50.00000  DC차데모+AC3상+DC콤보   \n",
       "2796612                   세종특별자치시 연기면 수목원로 136  100.00000             DC콤보   \n",
       "2796613                 충청남도 서산시 부석면 취평리 364-2  100.00000  DC차데모+AC3상+DC콤보   \n",
       "\n",
       "                 충전시작일시          충전종료일시      충전시간  ...  충전시작_초  \\\n",
       "2796609  20201231235808  20210101002023  00:21:51  ...       8   \n",
       "2796610  20201231235811  20210101003023  00:31:50  ...      11   \n",
       "2796611  20201231235836  20210101001905  00:20:02  ...      36   \n",
       "2796612  20201231235931  20210101003714  00:37:43  ...      31   \n",
       "2796613  20201231235955  20210101001316  00:12:21  ...      55   \n",
       "\n",
       "                 충전시작일시(변환)  충전종료_년도  충전종료_월  충전종료_일  충전종료_시  충전종료_분  충전종료_초  \\\n",
       "2796609 2020-12-31 23:58:08     2021       1       1       0      20      23   \n",
       "2796610 2020-12-31 23:58:11     2021       1       1       0      30      23   \n",
       "2796611 2020-12-31 23:58:36     2021       1       1       0      19       5   \n",
       "2796612 2020-12-31 23:59:31     2021       1       1       0      37      14   \n",
       "2796613 2020-12-31 23:59:55     2021       1       1       0      13      16   \n",
       "\n",
       "                 충전종료일시(변환)        충전시간(계산)  \n",
       "2796609 2021-01-01 00:20:23 0 days 00:22:15  \n",
       "2796610 2021-01-01 00:30:23 0 days 00:32:12  \n",
       "2796611 2021-01-01 00:19:05 0 days 00:20:29  \n",
       "2796612 2021-01-01 00:37:14 0 days 00:37:43  \n",
       "2796613 2021-01-01 00:13:16 0 days 00:13:21  \n",
       "\n",
       "[5 rows x 27 columns]"
      ]
     },
     "execution_count": 96,
     "metadata": {},
     "output_type": "execute_result"
    }
   ],
   "source": [
    "df[df['충전시작_년도'] == 2020].tail()"
   ]
  },
  {
   "cell_type": "code",
   "execution_count": 97,
   "metadata": {},
   "outputs": [
    {
     "data": {
      "text/html": [
       "<div>\n",
       "<style scoped>\n",
       "    .dataframe tbody tr th:only-of-type {\n",
       "        vertical-align: middle;\n",
       "    }\n",
       "\n",
       "    .dataframe tbody tr th {\n",
       "        vertical-align: top;\n",
       "    }\n",
       "\n",
       "    .dataframe thead th {\n",
       "        text-align: right;\n",
       "    }\n",
       "</style>\n",
       "<table border=\"1\" class=\"dataframe\">\n",
       "  <thead>\n",
       "    <tr style=\"text-align: right;\">\n",
       "      <th></th>\n",
       "      <th>충전소명</th>\n",
       "      <th>충전기ID</th>\n",
       "      <th>지역</th>\n",
       "      <th>시군구</th>\n",
       "      <th>주소</th>\n",
       "      <th>충전기용량(kW)</th>\n",
       "      <th>충전기타입</th>\n",
       "      <th>충전시작일시</th>\n",
       "      <th>충전종료일시</th>\n",
       "      <th>충전시간</th>\n",
       "      <th>...</th>\n",
       "      <th>충전시작_초</th>\n",
       "      <th>충전시작일시(변환)</th>\n",
       "      <th>충전종료_년도</th>\n",
       "      <th>충전종료_월</th>\n",
       "      <th>충전종료_일</th>\n",
       "      <th>충전종료_시</th>\n",
       "      <th>충전종료_분</th>\n",
       "      <th>충전종료_초</th>\n",
       "      <th>충전종료일시(변환)</th>\n",
       "      <th>충전시간(계산)</th>\n",
       "    </tr>\n",
       "  </thead>\n",
       "  <tbody>\n",
       "    <tr>\n",
       "      <th>2796614</th>\n",
       "      <td>칠곡3지구 공영주차장</td>\n",
       "      <td>42</td>\n",
       "      <td>대구광역시</td>\n",
       "      <td>북구</td>\n",
       "      <td>대구광역시 북구 구암동 771-2</td>\n",
       "      <td>NaN</td>\n",
       "      <td>DC콤보</td>\n",
       "      <td>20210101000032</td>\n",
       "      <td>20210101002547</td>\n",
       "      <td>00:25:16</td>\n",
       "      <td>...</td>\n",
       "      <td>32</td>\n",
       "      <td>2021-01-01 00:00:32</td>\n",
       "      <td>2021</td>\n",
       "      <td>1</td>\n",
       "      <td>1</td>\n",
       "      <td>0</td>\n",
       "      <td>25</td>\n",
       "      <td>47</td>\n",
       "      <td>2021-01-01 00:25:47</td>\n",
       "      <td>0 days 00:25:15</td>\n",
       "    </tr>\n",
       "    <tr>\n",
       "      <th>2796615</th>\n",
       "      <td>망향휴게소(부산방향)</td>\n",
       "      <td>1</td>\n",
       "      <td>충청남도</td>\n",
       "      <td>천안시</td>\n",
       "      <td>충청남도 천안시 서북구 성거읍 돌다리길 23-37</td>\n",
       "      <td>NaN</td>\n",
       "      <td>DC차데모+AC3상+DC콤보</td>\n",
       "      <td>20210101000034</td>\n",
       "      <td>20210101001118</td>\n",
       "      <td>00:09:51</td>\n",
       "      <td>...</td>\n",
       "      <td>34</td>\n",
       "      <td>2021-01-01 00:00:34</td>\n",
       "      <td>2021</td>\n",
       "      <td>1</td>\n",
       "      <td>1</td>\n",
       "      <td>0</td>\n",
       "      <td>11</td>\n",
       "      <td>18</td>\n",
       "      <td>2021-01-01 00:11:18</td>\n",
       "      <td>0 days 00:10:44</td>\n",
       "    </tr>\n",
       "    <tr>\n",
       "      <th>2796616</th>\n",
       "      <td>관악역 3환승 공영주차장</td>\n",
       "      <td>1</td>\n",
       "      <td>경기도</td>\n",
       "      <td>안양시</td>\n",
       "      <td>경기도 안양시 만안구 석수1동 110-26  입구 맨끝 왼쪽</td>\n",
       "      <td>NaN</td>\n",
       "      <td>DC차데모+AC3상+DC콤보</td>\n",
       "      <td>20210101000043</td>\n",
       "      <td>20210101002454</td>\n",
       "      <td>00:23:47</td>\n",
       "      <td>...</td>\n",
       "      <td>43</td>\n",
       "      <td>2021-01-01 00:00:43</td>\n",
       "      <td>2021</td>\n",
       "      <td>1</td>\n",
       "      <td>1</td>\n",
       "      <td>0</td>\n",
       "      <td>24</td>\n",
       "      <td>54</td>\n",
       "      <td>2021-01-01 00:24:54</td>\n",
       "      <td>0 days 00:24:11</td>\n",
       "    </tr>\n",
       "    <tr>\n",
       "      <th>2796617</th>\n",
       "      <td>평창휴게소(강릉방향)</td>\n",
       "      <td>1</td>\n",
       "      <td>강원도</td>\n",
       "      <td>평창군</td>\n",
       "      <td>강원도 평창군 용평면 경강로 2159-58</td>\n",
       "      <td>NaN</td>\n",
       "      <td>DC차데모+AC3상+DC콤보</td>\n",
       "      <td>20210101000049</td>\n",
       "      <td>20210101004354</td>\n",
       "      <td>00:40:00</td>\n",
       "      <td>...</td>\n",
       "      <td>49</td>\n",
       "      <td>2021-01-01 00:00:49</td>\n",
       "      <td>2021</td>\n",
       "      <td>1</td>\n",
       "      <td>1</td>\n",
       "      <td>0</td>\n",
       "      <td>43</td>\n",
       "      <td>54</td>\n",
       "      <td>2021-01-01 00:43:54</td>\n",
       "      <td>0 days 00:43:05</td>\n",
       "    </tr>\n",
       "    <tr>\n",
       "      <th>2796618</th>\n",
       "      <td>강동구청</td>\n",
       "      <td>12</td>\n",
       "      <td>서울특별시</td>\n",
       "      <td>강동구</td>\n",
       "      <td>서울특별시 강동구 성내로 25</td>\n",
       "      <td>NaN</td>\n",
       "      <td>DC콤보</td>\n",
       "      <td>20210101000052</td>\n",
       "      <td>20210101003015</td>\n",
       "      <td>00:29:03</td>\n",
       "      <td>...</td>\n",
       "      <td>52</td>\n",
       "      <td>2021-01-01 00:00:52</td>\n",
       "      <td>2021</td>\n",
       "      <td>1</td>\n",
       "      <td>1</td>\n",
       "      <td>0</td>\n",
       "      <td>30</td>\n",
       "      <td>15</td>\n",
       "      <td>2021-01-01 00:30:15</td>\n",
       "      <td>0 days 00:29:23</td>\n",
       "    </tr>\n",
       "  </tbody>\n",
       "</table>\n",
       "<p>5 rows × 27 columns</p>\n",
       "</div>"
      ],
      "text/plain": [
       "                  충전소명  충전기ID     지역  시군구                                 주소  \\\n",
       "2796614    칠곡3지구 공영주차장     42  대구광역시   북구                 대구광역시 북구 구암동 771-2   \n",
       "2796615    망향휴게소(부산방향)      1   충청남도  천안시        충청남도 천안시 서북구 성거읍 돌다리길 23-37   \n",
       "2796616  관악역 3환승 공영주차장      1    경기도  안양시  경기도 안양시 만안구 석수1동 110-26  입구 맨끝 왼쪽   \n",
       "2796617    평창휴게소(강릉방향)      1    강원도  평창군            강원도 평창군 용평면 경강로 2159-58   \n",
       "2796618           강동구청     12  서울특별시  강동구                   서울특별시 강동구 성내로 25   \n",
       "\n",
       "         충전기용량(kW)            충전기타입          충전시작일시          충전종료일시      충전시간  \\\n",
       "2796614        NaN             DC콤보  20210101000032  20210101002547  00:25:16   \n",
       "2796615        NaN  DC차데모+AC3상+DC콤보  20210101000034  20210101001118  00:09:51   \n",
       "2796616        NaN  DC차데모+AC3상+DC콤보  20210101000043  20210101002454  00:23:47   \n",
       "2796617        NaN  DC차데모+AC3상+DC콤보  20210101000049  20210101004354  00:40:00   \n",
       "2796618        NaN             DC콤보  20210101000052  20210101003015  00:29:03   \n",
       "\n",
       "         ...  충전시작_초          충전시작일시(변환)  충전종료_년도  충전종료_월  충전종료_일  충전종료_시  \\\n",
       "2796614  ...      32 2021-01-01 00:00:32     2021       1       1       0   \n",
       "2796615  ...      34 2021-01-01 00:00:34     2021       1       1       0   \n",
       "2796616  ...      43 2021-01-01 00:00:43     2021       1       1       0   \n",
       "2796617  ...      49 2021-01-01 00:00:49     2021       1       1       0   \n",
       "2796618  ...      52 2021-01-01 00:00:52     2021       1       1       0   \n",
       "\n",
       "         충전종료_분  충전종료_초          충전종료일시(변환)        충전시간(계산)  \n",
       "2796614      25      47 2021-01-01 00:25:47 0 days 00:25:15  \n",
       "2796615      11      18 2021-01-01 00:11:18 0 days 00:10:44  \n",
       "2796616      24      54 2021-01-01 00:24:54 0 days 00:24:11  \n",
       "2796617      43      54 2021-01-01 00:43:54 0 days 00:43:05  \n",
       "2796618      30      15 2021-01-01 00:30:15 0 days 00:29:23  \n",
       "\n",
       "[5 rows x 27 columns]"
      ]
     },
     "execution_count": 97,
     "metadata": {},
     "output_type": "execute_result"
    }
   ],
   "source": [
    "df[df['충전시작_년도'] == 2021].head()"
   ]
  },
  {
   "cell_type": "code",
   "execution_count": 98,
   "metadata": {},
   "outputs": [
    {
     "data": {
      "text/plain": [
       "(2796614,)"
      ]
     },
     "execution_count": 98,
     "metadata": {},
     "output_type": "execute_result"
    }
   ],
   "source": [
    "df.loc[df['충전시작_년도'] == 2020, '충전기용량(kW)'].shape"
   ]
  },
  {
   "cell_type": "code",
   "execution_count": 99,
   "metadata": {},
   "outputs": [
    {
     "data": {
      "text/plain": [
       "0   50.00000\n",
       "1   50.00000\n",
       "2   50.00000\n",
       "3   50.00000\n",
       "4   50.00000\n",
       "Name: 충전기용량(kW), dtype: float64"
      ]
     },
     "execution_count": 99,
     "metadata": {},
     "output_type": "execute_result"
    }
   ],
   "source": [
    "df.loc[df['충전시작_년도'] == 2020, '충전기용량(kW)'].head()"
   ]
  },
  {
   "cell_type": "code",
   "execution_count": 100,
   "metadata": {},
   "outputs": [
    {
     "data": {
      "text/plain": [
       "2796609    50.00000\n",
       "2796610    50.00000\n",
       "2796611    50.00000\n",
       "2796612   100.00000\n",
       "2796613   100.00000\n",
       "Name: 충전기용량(kW), dtype: float64"
      ]
     },
     "execution_count": 100,
     "metadata": {},
     "output_type": "execute_result"
    }
   ],
   "source": [
    "df.loc[df['충전시작_년도'] == 2020, '충전기용량(kW)'].tail()"
   ]
  },
  {
   "cell_type": "code",
   "execution_count": 101,
   "metadata": {},
   "outputs": [
    {
     "data": {
      "text/plain": [
       "[50.0, 50.0, 50.0, 50.0, 50.0]"
      ]
     },
     "execution_count": 101,
     "metadata": {},
     "output_type": "execute_result"
    }
   ],
   "source": [
    "temp = df.loc[df['충전시작_년도'] == 2020, '충전기용량(kW)'].to_list()\n",
    "temp[:5]"
   ]
  },
  {
   "cell_type": "code",
   "execution_count": 102,
   "metadata": {},
   "outputs": [
    {
     "data": {
      "text/plain": [
       "[50.0, 50.0, 50.0, 100.0, 100.0]"
      ]
     },
     "execution_count": 102,
     "metadata": {},
     "output_type": "execute_result"
    }
   ],
   "source": [
    "temp[-5:]"
   ]
  },
  {
   "cell_type": "code",
   "execution_count": 103,
   "metadata": {},
   "outputs": [
    {
     "data": {
      "text/plain": [
       "2796614"
      ]
     },
     "execution_count": 103,
     "metadata": {},
     "output_type": "execute_result"
    }
   ],
   "source": [
    "len(temp)"
   ]
  },
  {
   "cell_type": "code",
   "execution_count": 114,
   "metadata": {},
   "outputs": [
    {
     "data": {
      "text/plain": [
       "(4259845,)"
      ]
     },
     "execution_count": 114,
     "metadata": {},
     "output_type": "execute_result"
    }
   ],
   "source": [
    "df.loc[df['충전시작_년도'] == 2021, '충전용량'].shape"
   ]
  },
  {
   "cell_type": "code",
   "execution_count": 109,
   "metadata": {},
   "outputs": [
    {
     "data": {
      "text/plain": [
       "2796614   100.00000\n",
       "2796615    50.00000\n",
       "2796616    50.00000\n",
       "2796617   100.00000\n",
       "2796618   200.00000\n",
       "Name: 충전용량, dtype: object"
      ]
     },
     "execution_count": 109,
     "metadata": {},
     "output_type": "execute_result"
    }
   ],
   "source": [
    "df.loc[df['충전시작_년도'] == 2021, '충전용량'].head()"
   ]
  },
  {
   "cell_type": "code",
   "execution_count": 110,
   "metadata": {},
   "outputs": [
    {
     "data": {
      "text/plain": [
       "7056454   100.00000\n",
       "7056455    50.00000\n",
       "7056456   200.00000\n",
       "7056457   100.00000\n",
       "7056458    50.00000\n",
       "Name: 충전용량, dtype: object"
      ]
     },
     "execution_count": 110,
     "metadata": {},
     "output_type": "execute_result"
    }
   ],
   "source": [
    "df.loc[df['충전시작_년도'] == 2021, '충전용량'].tail()"
   ]
  },
  {
   "cell_type": "code",
   "execution_count": 111,
   "metadata": {},
   "outputs": [
    {
     "data": {
      "text/plain": [
       "[100.0, 50.0, 50.0, 100.0, 200.0]"
      ]
     },
     "execution_count": 111,
     "metadata": {},
     "output_type": "execute_result"
    }
   ],
   "source": [
    "temp2 = df.loc[df['충전시작_년도'] == 2021, '충전용량'].to_list()\n",
    "temp2[:5]"
   ]
  },
  {
   "cell_type": "code",
   "execution_count": 112,
   "metadata": {},
   "outputs": [
    {
     "data": {
      "text/plain": [
       "[100.0, 50.0, 200.0, 100.0, 50.0]"
      ]
     },
     "execution_count": 112,
     "metadata": {},
     "output_type": "execute_result"
    }
   ],
   "source": [
    "temp2[-5:]"
   ]
  },
  {
   "cell_type": "code",
   "execution_count": 113,
   "metadata": {},
   "outputs": [
    {
     "data": {
      "text/plain": [
       "4259845"
      ]
     },
     "execution_count": 113,
     "metadata": {},
     "output_type": "execute_result"
    }
   ],
   "source": [
    "len(temp2)"
   ]
  },
  {
   "cell_type": "code",
   "execution_count": 115,
   "metadata": {},
   "outputs": [
    {
     "data": {
      "text/plain": [
       "(4609363,)"
      ]
     },
     "execution_count": 115,
     "metadata": {},
     "output_type": "execute_result"
    }
   ],
   "source": [
    "df.loc[df['충전시작_년도'] == 2022, '충전용량'].shape"
   ]
  },
  {
   "cell_type": "code",
   "execution_count": 116,
   "metadata": {},
   "outputs": [
    {
     "data": {
      "text/plain": [
       "7056459    50.00000\n",
       "7056460    50.00000\n",
       "7056461    50.00000\n",
       "7056462   200.00000\n",
       "7056463    50.00000\n",
       "Name: 충전용량, dtype: object"
      ]
     },
     "execution_count": 116,
     "metadata": {},
     "output_type": "execute_result"
    }
   ],
   "source": [
    "df.loc[df['충전시작_년도'] == 2022, '충전용량'].head()"
   ]
  },
  {
   "cell_type": "code",
   "execution_count": 120,
   "metadata": {},
   "outputs": [
    {
     "data": {
      "text/plain": [
       "11665817       급속(50kW)\n",
       "11665818    급속(200kW동시)\n",
       "11665819       급속(50kW)\n",
       "11665820       급속(50kW)\n",
       "11665821    급속(100kW멀티)\n",
       "Name: 충전용량, dtype: object"
      ]
     },
     "execution_count": 120,
     "metadata": {},
     "output_type": "execute_result"
    }
   ],
   "source": [
    "df.loc[df['충전시작_년도'] == 2022, '충전용량'].tail()"
   ]
  },
  {
   "cell_type": "code",
   "execution_count": 118,
   "metadata": {},
   "outputs": [
    {
     "data": {
      "text/plain": [
       "[50.0, 50.0, 50.0, 200.0, 50.0]"
      ]
     },
     "execution_count": 118,
     "metadata": {},
     "output_type": "execute_result"
    }
   ],
   "source": [
    "temp3 = df.loc[df['충전시작_년도'] == 2022, '충전용량'].to_list()\n",
    "temp3[:5]"
   ]
  },
  {
   "cell_type": "code",
   "execution_count": 119,
   "metadata": {},
   "outputs": [
    {
     "data": {
      "text/plain": [
       "['급속(50kW)', '급속(200kW동시)', '급속(50kW)', '급속(50kW)', '급속(100kW멀티)']"
      ]
     },
     "execution_count": 119,
     "metadata": {},
     "output_type": "execute_result"
    }
   ],
   "source": [
    "temp3[-5:]"
   ]
  },
  {
   "cell_type": "code",
   "execution_count": 122,
   "metadata": {},
   "outputs": [
    {
     "data": {
      "text/plain": [
       "4609363"
      ]
     },
     "execution_count": 122,
     "metadata": {},
     "output_type": "execute_result"
    }
   ],
   "source": [
    "len(temp3)"
   ]
  },
  {
   "cell_type": "code",
   "execution_count": 121,
   "metadata": {},
   "outputs": [
    {
     "data": {
      "text/plain": [
       "(11665822, 27)"
      ]
     },
     "execution_count": 121,
     "metadata": {},
     "output_type": "execute_result"
    }
   ],
   "source": [
    "df.shape"
   ]
  },
  {
   "cell_type": "code",
   "execution_count": 123,
   "metadata": {},
   "outputs": [
    {
     "data": {
      "text/plain": [
       "11665822"
      ]
     },
     "execution_count": 123,
     "metadata": {},
     "output_type": "execute_result"
    }
   ],
   "source": [
    "len(temp + temp2 + temp3)"
   ]
  },
  {
   "cell_type": "code",
   "execution_count": null,
   "metadata": {},
   "outputs": [],
   "source": [
    "df['충전용량'].head()"
   ]
  },
  {
   "cell_type": "code",
   "execution_count": 124,
   "metadata": {},
   "outputs": [],
   "source": [
    "df['충전용량'] = temp + temp2 + temp3"
   ]
  },
  {
   "cell_type": "code",
   "execution_count": 127,
   "metadata": {},
   "outputs": [
    {
     "data": {
      "text/plain": [
       "0   50.00000\n",
       "1   50.00000\n",
       "2   50.00000\n",
       "3   50.00000\n",
       "4   50.00000\n",
       "Name: 충전용량, dtype: object"
      ]
     },
     "execution_count": 127,
     "metadata": {},
     "output_type": "execute_result"
    }
   ],
   "source": [
    "df['충전용량'].head()"
   ]
  },
  {
   "cell_type": "code",
   "execution_count": 125,
   "metadata": {},
   "outputs": [
    {
     "data": {
      "text/plain": [
       "11665817   NaN\n",
       "11665818   NaN\n",
       "11665819   NaN\n",
       "11665820   NaN\n",
       "11665821   NaN\n",
       "Name: 충전기용량(kW), dtype: float64"
      ]
     },
     "execution_count": 125,
     "metadata": {},
     "output_type": "execute_result"
    }
   ],
   "source": [
    "df['충전기용량(kW)'].tail()"
   ]
  },
  {
   "cell_type": "code",
   "execution_count": 128,
   "metadata": {},
   "outputs": [
    {
     "data": {
      "text/html": [
       "<div>\n",
       "<style scoped>\n",
       "    .dataframe tbody tr th:only-of-type {\n",
       "        vertical-align: middle;\n",
       "    }\n",
       "\n",
       "    .dataframe tbody tr th {\n",
       "        vertical-align: top;\n",
       "    }\n",
       "\n",
       "    .dataframe thead th {\n",
       "        text-align: right;\n",
       "    }\n",
       "</style>\n",
       "<table border=\"1\" class=\"dataframe\">\n",
       "  <thead>\n",
       "    <tr style=\"text-align: right;\">\n",
       "      <th></th>\n",
       "      <th>충전소명</th>\n",
       "      <th>충전기ID</th>\n",
       "      <th>지역</th>\n",
       "      <th>시군구</th>\n",
       "      <th>주소</th>\n",
       "      <th>충전기용량(kW)</th>\n",
       "      <th>충전기타입</th>\n",
       "      <th>충전시작일시</th>\n",
       "      <th>충전종료일시</th>\n",
       "      <th>충전시간</th>\n",
       "      <th>충전량</th>\n",
       "      <th>충전용량</th>\n",
       "    </tr>\n",
       "  </thead>\n",
       "  <tbody>\n",
       "    <tr>\n",
       "      <th>0</th>\n",
       "      <td>진영휴게소(부산방향)</td>\n",
       "      <td>1</td>\n",
       "      <td>경상남도</td>\n",
       "      <td>김해시</td>\n",
       "      <td>경상남도 김해시 진영읍 하계로96번길 94-4 , 주유소 옆 주차장</td>\n",
       "      <td>50.00000</td>\n",
       "      <td>DC차데모+AC3상+DC콤보</td>\n",
       "      <td>20200101000244</td>\n",
       "      <td>20200101004215</td>\n",
       "      <td>00:39:25</td>\n",
       "      <td>20.22000</td>\n",
       "      <td>50.00000</td>\n",
       "    </tr>\n",
       "    <tr>\n",
       "      <th>1</th>\n",
       "      <td>천왕역 환승주차장</td>\n",
       "      <td>1</td>\n",
       "      <td>서울특별시</td>\n",
       "      <td>구로구</td>\n",
       "      <td>서울특별시 구로구 오류동 174-10 , 천왕역 환승주차장 1층</td>\n",
       "      <td>50.00000</td>\n",
       "      <td>DC차데모+AC3상</td>\n",
       "      <td>20200101000457</td>\n",
       "      <td>20200101004534</td>\n",
       "      <td>00:40:37</td>\n",
       "      <td>18.87000</td>\n",
       "      <td>50.00000</td>\n",
       "    </tr>\n",
       "    <tr>\n",
       "      <th>2</th>\n",
       "      <td>민속자연사박물관</td>\n",
       "      <td>1</td>\n",
       "      <td>제주특별자치도</td>\n",
       "      <td>제주시</td>\n",
       "      <td>제주특별자치도 제주시 삼성로 40 민속자연사박물관</td>\n",
       "      <td>50.00000</td>\n",
       "      <td>DC차데모+AC3상+DC콤보</td>\n",
       "      <td>20200101000745</td>\n",
       "      <td>20200101003703</td>\n",
       "      <td>00:29:13</td>\n",
       "      <td>16.04000</td>\n",
       "      <td>50.00000</td>\n",
       "    </tr>\n",
       "    <tr>\n",
       "      <th>3</th>\n",
       "      <td>노형동주민센터</td>\n",
       "      <td>1</td>\n",
       "      <td>제주특별자치도</td>\n",
       "      <td>제주시</td>\n",
       "      <td>제주특별자치도 제주시 노형9길 9-4,  주차장</td>\n",
       "      <td>50.00000</td>\n",
       "      <td>DC차데모+AC3상+DC콤보</td>\n",
       "      <td>20200101000748</td>\n",
       "      <td>20200101001659</td>\n",
       "      <td>00:09:07</td>\n",
       "      <td>5.80000</td>\n",
       "      <td>50.00000</td>\n",
       "    </tr>\n",
       "    <tr>\n",
       "      <th>4</th>\n",
       "      <td>영일대1주차장</td>\n",
       "      <td>1</td>\n",
       "      <td>경상북도</td>\n",
       "      <td>포항시</td>\n",
       "      <td>경상북도 포항시 북구 해안로82</td>\n",
       "      <td>50.00000</td>\n",
       "      <td>DC차데모+AC3상+DC콤보</td>\n",
       "      <td>20200101000851</td>\n",
       "      <td>20200101004220</td>\n",
       "      <td>00:33:29</td>\n",
       "      <td>13.32000</td>\n",
       "      <td>50.00000</td>\n",
       "    </tr>\n",
       "  </tbody>\n",
       "</table>\n",
       "</div>"
      ],
      "text/plain": [
       "          충전소명  충전기ID       지역  시군구                                     주소  \\\n",
       "0  진영휴게소(부산방향)      1     경상남도  김해시  경상남도 김해시 진영읍 하계로96번길 94-4 , 주유소 옆 주차장   \n",
       "1    천왕역 환승주차장      1    서울특별시  구로구    서울특별시 구로구 오류동 174-10 , 천왕역 환승주차장 1층   \n",
       "2     민속자연사박물관      1  제주특별자치도  제주시            제주특별자치도 제주시 삼성로 40 민속자연사박물관   \n",
       "3      노형동주민센터      1  제주특별자치도  제주시             제주특별자치도 제주시 노형9길 9-4,  주차장   \n",
       "4      영일대1주차장      1     경상북도  포항시                      경상북도 포항시 북구 해안로82   \n",
       "\n",
       "   충전기용량(kW)            충전기타입          충전시작일시          충전종료일시      충전시간  \\\n",
       "0   50.00000  DC차데모+AC3상+DC콤보  20200101000244  20200101004215  00:39:25   \n",
       "1   50.00000       DC차데모+AC3상  20200101000457  20200101004534  00:40:37   \n",
       "2   50.00000  DC차데모+AC3상+DC콤보  20200101000745  20200101003703  00:29:13   \n",
       "3   50.00000  DC차데모+AC3상+DC콤보  20200101000748  20200101001659  00:09:07   \n",
       "4   50.00000  DC차데모+AC3상+DC콤보  20200101000851  20200101004220  00:33:29   \n",
       "\n",
       "       충전량     충전용량  \n",
       "0 20.22000 50.00000  \n",
       "1 18.87000 50.00000  \n",
       "2 16.04000 50.00000  \n",
       "3  5.80000 50.00000  \n",
       "4 13.32000 50.00000  "
      ]
     },
     "execution_count": 128,
     "metadata": {},
     "output_type": "execute_result"
    }
   ],
   "source": [
    "df.iloc[:5, :12]"
   ]
  },
  {
   "cell_type": "code",
   "execution_count": 129,
   "metadata": {},
   "outputs": [
    {
     "data": {
      "text/html": [
       "<div>\n",
       "<style scoped>\n",
       "    .dataframe tbody tr th:only-of-type {\n",
       "        vertical-align: middle;\n",
       "    }\n",
       "\n",
       "    .dataframe tbody tr th {\n",
       "        vertical-align: top;\n",
       "    }\n",
       "\n",
       "    .dataframe thead th {\n",
       "        text-align: right;\n",
       "    }\n",
       "</style>\n",
       "<table border=\"1\" class=\"dataframe\">\n",
       "  <thead>\n",
       "    <tr style=\"text-align: right;\">\n",
       "      <th></th>\n",
       "      <th>충전소명</th>\n",
       "      <th>충전기ID</th>\n",
       "      <th>지역</th>\n",
       "      <th>시군구</th>\n",
       "      <th>주소</th>\n",
       "      <th>충전기타입</th>\n",
       "      <th>충전시작일시</th>\n",
       "      <th>충전종료일시</th>\n",
       "      <th>충전시간</th>\n",
       "      <th>충전량</th>\n",
       "      <th>충전용량</th>\n",
       "      <th>충전시작_년도</th>\n",
       "    </tr>\n",
       "  </thead>\n",
       "  <tbody>\n",
       "    <tr>\n",
       "      <th>0</th>\n",
       "      <td>진영휴게소(부산방향)</td>\n",
       "      <td>1</td>\n",
       "      <td>경상남도</td>\n",
       "      <td>김해시</td>\n",
       "      <td>경상남도 김해시 진영읍 하계로96번길 94-4 , 주유소 옆 주차장</td>\n",
       "      <td>DC차데모+AC3상+DC콤보</td>\n",
       "      <td>20200101000244</td>\n",
       "      <td>20200101004215</td>\n",
       "      <td>00:39:25</td>\n",
       "      <td>20.22000</td>\n",
       "      <td>50.00000</td>\n",
       "      <td>2020</td>\n",
       "    </tr>\n",
       "    <tr>\n",
       "      <th>1</th>\n",
       "      <td>천왕역 환승주차장</td>\n",
       "      <td>1</td>\n",
       "      <td>서울특별시</td>\n",
       "      <td>구로구</td>\n",
       "      <td>서울특별시 구로구 오류동 174-10 , 천왕역 환승주차장 1층</td>\n",
       "      <td>DC차데모+AC3상</td>\n",
       "      <td>20200101000457</td>\n",
       "      <td>20200101004534</td>\n",
       "      <td>00:40:37</td>\n",
       "      <td>18.87000</td>\n",
       "      <td>50.00000</td>\n",
       "      <td>2020</td>\n",
       "    </tr>\n",
       "    <tr>\n",
       "      <th>2</th>\n",
       "      <td>민속자연사박물관</td>\n",
       "      <td>1</td>\n",
       "      <td>제주특별자치도</td>\n",
       "      <td>제주시</td>\n",
       "      <td>제주특별자치도 제주시 삼성로 40 민속자연사박물관</td>\n",
       "      <td>DC차데모+AC3상+DC콤보</td>\n",
       "      <td>20200101000745</td>\n",
       "      <td>20200101003703</td>\n",
       "      <td>00:29:13</td>\n",
       "      <td>16.04000</td>\n",
       "      <td>50.00000</td>\n",
       "      <td>2020</td>\n",
       "    </tr>\n",
       "    <tr>\n",
       "      <th>3</th>\n",
       "      <td>노형동주민센터</td>\n",
       "      <td>1</td>\n",
       "      <td>제주특별자치도</td>\n",
       "      <td>제주시</td>\n",
       "      <td>제주특별자치도 제주시 노형9길 9-4,  주차장</td>\n",
       "      <td>DC차데모+AC3상+DC콤보</td>\n",
       "      <td>20200101000748</td>\n",
       "      <td>20200101001659</td>\n",
       "      <td>00:09:07</td>\n",
       "      <td>5.80000</td>\n",
       "      <td>50.00000</td>\n",
       "      <td>2020</td>\n",
       "    </tr>\n",
       "    <tr>\n",
       "      <th>4</th>\n",
       "      <td>영일대1주차장</td>\n",
       "      <td>1</td>\n",
       "      <td>경상북도</td>\n",
       "      <td>포항시</td>\n",
       "      <td>경상북도 포항시 북구 해안로82</td>\n",
       "      <td>DC차데모+AC3상+DC콤보</td>\n",
       "      <td>20200101000851</td>\n",
       "      <td>20200101004220</td>\n",
       "      <td>00:33:29</td>\n",
       "      <td>13.32000</td>\n",
       "      <td>50.00000</td>\n",
       "      <td>2020</td>\n",
       "    </tr>\n",
       "  </tbody>\n",
       "</table>\n",
       "</div>"
      ],
      "text/plain": [
       "          충전소명  충전기ID       지역  시군구                                     주소  \\\n",
       "0  진영휴게소(부산방향)      1     경상남도  김해시  경상남도 김해시 진영읍 하계로96번길 94-4 , 주유소 옆 주차장   \n",
       "1    천왕역 환승주차장      1    서울특별시  구로구    서울특별시 구로구 오류동 174-10 , 천왕역 환승주차장 1층   \n",
       "2     민속자연사박물관      1  제주특별자치도  제주시            제주특별자치도 제주시 삼성로 40 민속자연사박물관   \n",
       "3      노형동주민센터      1  제주특별자치도  제주시             제주특별자치도 제주시 노형9길 9-4,  주차장   \n",
       "4      영일대1주차장      1     경상북도  포항시                      경상북도 포항시 북구 해안로82   \n",
       "\n",
       "             충전기타입          충전시작일시          충전종료일시      충전시간      충전량  \\\n",
       "0  DC차데모+AC3상+DC콤보  20200101000244  20200101004215  00:39:25 20.22000   \n",
       "1       DC차데모+AC3상  20200101000457  20200101004534  00:40:37 18.87000   \n",
       "2  DC차데모+AC3상+DC콤보  20200101000745  20200101003703  00:29:13 16.04000   \n",
       "3  DC차데모+AC3상+DC콤보  20200101000748  20200101001659  00:09:07  5.80000   \n",
       "4  DC차데모+AC3상+DC콤보  20200101000851  20200101004220  00:33:29 13.32000   \n",
       "\n",
       "      충전용량  충전시작_년도  \n",
       "0 50.00000     2020  \n",
       "1 50.00000     2020  \n",
       "2 50.00000     2020  \n",
       "3 50.00000     2020  \n",
       "4 50.00000     2020  "
      ]
     },
     "execution_count": 129,
     "metadata": {},
     "output_type": "execute_result"
    }
   ],
   "source": [
    "df = df.drop(['충전기용량(kW)'], axis=1)\n",
    "df.iloc[:5, :12]"
   ]
  },
  {
   "cell_type": "markdown",
   "metadata": {},
   "source": [
    "##### 일시 분리 데이터 출력"
   ]
  },
  {
   "cell_type": "code",
   "execution_count": 130,
   "metadata": {},
   "outputs": [],
   "source": [
    "df.to_csv('2020-22년_급속충전_일시분리.csv', encoding='utf-8')"
   ]
  },
  {
   "cell_type": "markdown",
   "metadata": {},
   "source": [
    "## 일시 분리 데이터 로드(다시 시작)"
   ]
  },
  {
   "cell_type": "code",
   "execution_count": 5,
   "metadata": {},
   "outputs": [
    {
     "name": "stderr",
     "output_type": "stream",
     "text": [
      "C:\\Users\\kbj\\AppData\\Local\\Temp\\ipykernel_7780\\927583139.py:1: DtypeWarning: Columns (12) have mixed types. Specify dtype option on import or set low_memory=False.\n",
      "  df = pd.read_csv('2020-22년_급속충전_일시분리.csv')\n"
     ]
    }
   ],
   "source": [
    "# df = pd.read_csv('2020-22년_급속충전_일시분리.csv', index_col=0)\n",
    "# df.info()"
   ]
  },
  {
   "cell_type": "code",
   "execution_count": 131,
   "metadata": {},
   "outputs": [
    {
     "name": "stdout",
     "output_type": "stream",
     "text": [
      "<class 'pandas.core.frame.DataFrame'>\n",
      "RangeIndex: 11665822 entries, 0 to 11665821\n",
      "Data columns (total 26 columns):\n",
      " #   Column      Dtype          \n",
      "---  ------      -----          \n",
      " 0   충전소명        object         \n",
      " 1   충전기ID       int16          \n",
      " 2   지역          object         \n",
      " 3   시군구         object         \n",
      " 4   주소          object         \n",
      " 5   충전기타입       object         \n",
      " 6   충전시작일시      int64          \n",
      " 7   충전종료일시      object         \n",
      " 8   충전시간        object         \n",
      " 9   충전량         float64        \n",
      " 10  충전용량        object         \n",
      " 11  충전시작_년도     int32          \n",
      " 12  충전시작_월      int32          \n",
      " 13  충전시작_일      int32          \n",
      " 14  충전시작_시      int32          \n",
      " 15  충전시작_분      int32          \n",
      " 16  충전시작_초      int32          \n",
      " 17  충전시작일시(변환)  datetime64[ns] \n",
      " 18  충전종료_년도     int32          \n",
      " 19  충전종료_월      int32          \n",
      " 20  충전종료_일      int32          \n",
      " 21  충전종료_시      int32          \n",
      " 22  충전종료_분      int32          \n",
      " 23  충전종료_초      int32          \n",
      " 24  충전종료일시(변환)  datetime64[ns] \n",
      " 25  충전시간(계산)    timedelta64[ns]\n",
      "dtypes: datetime64[ns](2), float64(1), int16(1), int32(12), int64(1), object(8), timedelta64[ns](1)\n",
      "memory usage: 1.7+ GB\n"
     ]
    }
   ],
   "source": [
    "df.info()"
   ]
  },
  {
   "cell_type": "markdown",
   "metadata": {},
   "source": [
    "### raw 충전시간과 계산값 비교"
   ]
  },
  {
   "cell_type": "code",
   "execution_count": 132,
   "metadata": {},
   "outputs": [
    {
     "data": {
      "text/plain": [
       "0    00:39:25\n",
       "1    00:40:37\n",
       "2    00:29:13\n",
       "3    00:09:07\n",
       "4    00:33:29\n",
       "Name: 충전시간, dtype: object"
      ]
     },
     "execution_count": 132,
     "metadata": {},
     "output_type": "execute_result"
    }
   ],
   "source": [
    "df['충전시간'].head()"
   ]
  },
  {
   "cell_type": "code",
   "execution_count": 133,
   "metadata": {},
   "outputs": [
    {
     "data": {
      "text/plain": [
       "dtype('O')"
      ]
     },
     "execution_count": 133,
     "metadata": {},
     "output_type": "execute_result"
    }
   ],
   "source": [
    "df['충전시간'].dtype"
   ]
  },
  {
   "cell_type": "markdown",
   "metadata": {},
   "source": [
    "#### 충전시간 오류 값 처리\n",
    "- 7개 제거"
   ]
  },
  {
   "cell_type": "code",
   "execution_count": 139,
   "metadata": {},
   "outputs": [
    {
     "data": {
      "text/plain": [
       "1165409     -6:-2:-5\n",
       "1191927     00:-4:-1\n",
       "1196581     00:-1:-4\n",
       "1196582     00:-1:-2\n",
       "7030914     00:-4:-2\n",
       "7305076     00:-1:-3\n",
       "11392158    -1:-4:-4\n",
       "Name: 충전시간, dtype: object"
      ]
     },
     "execution_count": 139,
     "metadata": {},
     "output_type": "execute_result"
    }
   ],
   "source": [
    "df.loc[[1165409, 1191927, 1196581, 1196582, 7030914, 7305076, 11392158], '충전시간']"
   ]
  },
  {
   "cell_type": "code",
   "execution_count": 135,
   "metadata": {},
   "outputs": [],
   "source": [
    "# temp = pd.to_timedelta(df['충전시간']) # only leading negative signs are allowed 에러 발생\n",
    "temp = pd.to_timedelta(df['충전시간'], errors='coerce')"
   ]
  },
  {
   "cell_type": "code",
   "execution_count": 136,
   "metadata": {},
   "outputs": [
    {
     "data": {
      "text/plain": [
       "7"
      ]
     },
     "execution_count": 136,
     "metadata": {},
     "output_type": "execute_result"
    }
   ],
   "source": [
    "temp.isnull().sum()"
   ]
  },
  {
   "cell_type": "code",
   "execution_count": 137,
   "metadata": {},
   "outputs": [],
   "source": [
    "temp = temp.to_frame()"
   ]
  },
  {
   "cell_type": "code",
   "execution_count": 138,
   "metadata": {},
   "outputs": [
    {
     "data": {
      "text/html": [
       "<div>\n",
       "<style scoped>\n",
       "    .dataframe tbody tr th:only-of-type {\n",
       "        vertical-align: middle;\n",
       "    }\n",
       "\n",
       "    .dataframe tbody tr th {\n",
       "        vertical-align: top;\n",
       "    }\n",
       "\n",
       "    .dataframe thead th {\n",
       "        text-align: right;\n",
       "    }\n",
       "</style>\n",
       "<table border=\"1\" class=\"dataframe\">\n",
       "  <thead>\n",
       "    <tr style=\"text-align: right;\">\n",
       "      <th></th>\n",
       "      <th>충전시간</th>\n",
       "    </tr>\n",
       "  </thead>\n",
       "  <tbody>\n",
       "    <tr>\n",
       "      <th>1165409</th>\n",
       "      <td>NaT</td>\n",
       "    </tr>\n",
       "    <tr>\n",
       "      <th>1191927</th>\n",
       "      <td>NaT</td>\n",
       "    </tr>\n",
       "    <tr>\n",
       "      <th>1196581</th>\n",
       "      <td>NaT</td>\n",
       "    </tr>\n",
       "    <tr>\n",
       "      <th>1196582</th>\n",
       "      <td>NaT</td>\n",
       "    </tr>\n",
       "    <tr>\n",
       "      <th>7030914</th>\n",
       "      <td>NaT</td>\n",
       "    </tr>\n",
       "    <tr>\n",
       "      <th>7305076</th>\n",
       "      <td>NaT</td>\n",
       "    </tr>\n",
       "    <tr>\n",
       "      <th>11392158</th>\n",
       "      <td>NaT</td>\n",
       "    </tr>\n",
       "  </tbody>\n",
       "</table>\n",
       "</div>"
      ],
      "text/plain": [
       "         충전시간\n",
       "1165409   NaT\n",
       "1191927   NaT\n",
       "1196581   NaT\n",
       "1196582   NaT\n",
       "7030914   NaT\n",
       "7305076   NaT\n",
       "11392158  NaT"
      ]
     },
     "execution_count": 138,
     "metadata": {},
     "output_type": "execute_result"
    }
   ],
   "source": [
    "temp[temp['충전시간'].isnull() == True]"
   ]
  },
  {
   "cell_type": "code",
   "execution_count": 140,
   "metadata": {},
   "outputs": [
    {
     "name": "stdout",
     "output_type": "stream",
     "text": [
      "-6:-2:-5 2020-07-01 19:35:59\n",
      "00:-4:-1 2020-07-05 15:39:18\n",
      "00:-1:-4 2020-07-06 09:05:47\n",
      "00:-1:-2 2020-07-06 09:05:47\n",
      "00:-4:-2 2021-12-30 17:18:27\n",
      "00:-1:-3 2022-01-14 17:53:48\n",
      "-1:-4:-4 2022-08-19 03:00:11\n"
     ]
    }
   ],
   "source": [
    "null_idx = temp[temp['충전시간'].isnull() == True].index\n",
    "for i in null_idx:\n",
    "    print(df.loc[i, '충전시간'], df.loc[i, '충전시작일시(변환)'])"
   ]
  },
  {
   "cell_type": "code",
   "execution_count": 141,
   "metadata": {},
   "outputs": [
    {
     "data": {
      "text/plain": [
       "(11665822, 26)"
      ]
     },
     "execution_count": 141,
     "metadata": {},
     "output_type": "execute_result"
    }
   ],
   "source": [
    "df.shape"
   ]
  },
  {
   "cell_type": "code",
   "execution_count": 142,
   "metadata": {},
   "outputs": [
    {
     "data": {
      "text/plain": [
       "(11665815, 26)"
      ]
     },
     "execution_count": 142,
     "metadata": {},
     "output_type": "execute_result"
    }
   ],
   "source": [
    "df2 = df.drop(null_idx).reset_index(drop=True)\n",
    "df2.shape"
   ]
  },
  {
   "cell_type": "code",
   "execution_count": 143,
   "metadata": {},
   "outputs": [
    {
     "name": "stdout",
     "output_type": "stream",
     "text": [
      "<class 'pandas.core.frame.DataFrame'>\n",
      "RangeIndex: 11665815 entries, 0 to 11665814\n",
      "Data columns (total 26 columns):\n",
      " #   Column      Dtype          \n",
      "---  ------      -----          \n",
      " 0   충전소명        object         \n",
      " 1   충전기ID       int16          \n",
      " 2   지역          object         \n",
      " 3   시군구         object         \n",
      " 4   주소          object         \n",
      " 5   충전기타입       object         \n",
      " 6   충전시작일시      int64          \n",
      " 7   충전종료일시      object         \n",
      " 8   충전시간        object         \n",
      " 9   충전량         float64        \n",
      " 10  충전용량        object         \n",
      " 11  충전시작_년도     int32          \n",
      " 12  충전시작_월      int32          \n",
      " 13  충전시작_일      int32          \n",
      " 14  충전시작_시      int32          \n",
      " 15  충전시작_분      int32          \n",
      " 16  충전시작_초      int32          \n",
      " 17  충전시작일시(변환)  datetime64[ns] \n",
      " 18  충전종료_년도     int32          \n",
      " 19  충전종료_월      int32          \n",
      " 20  충전종료_일      int32          \n",
      " 21  충전종료_시      int32          \n",
      " 22  충전종료_분      int32          \n",
      " 23  충전종료_초      int32          \n",
      " 24  충전종료일시(변환)  datetime64[ns] \n",
      " 25  충전시간(계산)    timedelta64[ns]\n",
      "dtypes: datetime64[ns](2), float64(1), int16(1), int32(12), int64(1), object(8), timedelta64[ns](1)\n",
      "memory usage: 1.7+ GB\n"
     ]
    }
   ],
   "source": [
    "df2.info()"
   ]
  },
  {
   "cell_type": "code",
   "execution_count": 144,
   "metadata": {},
   "outputs": [
    {
     "name": "stdout",
     "output_type": "stream",
     "text": [
      "<class 'pandas.core.frame.DataFrame'>\n",
      "RangeIndex: 11665815 entries, 0 to 11665814\n",
      "Data columns (total 26 columns):\n",
      " #   Column      Dtype          \n",
      "---  ------      -----          \n",
      " 0   충전소명        object         \n",
      " 1   충전기ID       int16          \n",
      " 2   지역          object         \n",
      " 3   시군구         object         \n",
      " 4   주소          object         \n",
      " 5   충전기타입       object         \n",
      " 6   충전시작일시      int64          \n",
      " 7   충전종료일시      object         \n",
      " 8   충전시간        timedelta64[ns]\n",
      " 9   충전량         float64        \n",
      " 10  충전용량        object         \n",
      " 11  충전시작_년도     int32          \n",
      " 12  충전시작_월      int32          \n",
      " 13  충전시작_일      int32          \n",
      " 14  충전시작_시      int32          \n",
      " 15  충전시작_분      int32          \n",
      " 16  충전시작_초      int32          \n",
      " 17  충전시작일시(변환)  datetime64[ns] \n",
      " 18  충전종료_년도     int32          \n",
      " 19  충전종료_월      int32          \n",
      " 20  충전종료_일      int32          \n",
      " 21  충전종료_시      int32          \n",
      " 22  충전종료_분      int32          \n",
      " 23  충전종료_초      int32          \n",
      " 24  충전종료일시(변환)  datetime64[ns] \n",
      " 25  충전시간(계산)    timedelta64[ns]\n",
      "dtypes: datetime64[ns](2), float64(1), int16(1), int32(12), int64(1), object(7), timedelta64[ns](2)\n",
      "memory usage: 1.7+ GB\n"
     ]
    }
   ],
   "source": [
    "df2['충전시간'] = pd.to_timedelta(df2['충전시간'])\n",
    "df2.info()"
   ]
  },
  {
   "cell_type": "code",
   "execution_count": 145,
   "metadata": {},
   "outputs": [
    {
     "data": {
      "text/plain": [
       "count                     11665815\n",
       "mean     0 days 00:34:21.381945453\n",
       "std      0 days 01:20:05.913477577\n",
       "min                0 days 00:00:00\n",
       "25%                0 days 00:20:55\n",
       "50%                0 days 00:34:07\n",
       "75%                0 days 00:40:00\n",
       "max                4 days 03:56:55\n",
       "Name: 충전시간, dtype: object"
      ]
     },
     "execution_count": 145,
     "metadata": {},
     "output_type": "execute_result"
    }
   ],
   "source": [
    "df2['충전시간'].describe()"
   ]
  },
  {
   "cell_type": "code",
   "execution_count": 146,
   "metadata": {},
   "outputs": [
    {
     "data": {
      "text/plain": [
       "count                     11665815\n",
       "mean     0 days 00:29:18.506520633\n",
       "std      4 days 08:44:42.009406092\n",
       "min          -14905 days +09:10:08\n",
       "25%                0 days 00:21:28\n",
       "50%                0 days 00:34:49\n",
       "75%                0 days 00:40:24\n",
       "max               14 days 08:40:25\n",
       "Name: 충전시간(계산), dtype: object"
      ]
     },
     "execution_count": 146,
     "metadata": {},
     "output_type": "execute_result"
    }
   ],
   "source": [
    "df2['충전시간(계산)'].describe()"
   ]
  },
  {
   "cell_type": "code",
   "execution_count": 147,
   "metadata": {},
   "outputs": [
    {
     "data": {
      "text/html": [
       "<div>\n",
       "<style scoped>\n",
       "    .dataframe tbody tr th:only-of-type {\n",
       "        vertical-align: middle;\n",
       "    }\n",
       "\n",
       "    .dataframe tbody tr th {\n",
       "        vertical-align: top;\n",
       "    }\n",
       "\n",
       "    .dataframe thead th {\n",
       "        text-align: right;\n",
       "    }\n",
       "</style>\n",
       "<table border=\"1\" class=\"dataframe\">\n",
       "  <thead>\n",
       "    <tr style=\"text-align: right;\">\n",
       "      <th></th>\n",
       "      <th>충전소명</th>\n",
       "      <th>충전기ID</th>\n",
       "      <th>지역</th>\n",
       "      <th>시군구</th>\n",
       "      <th>주소</th>\n",
       "      <th>충전기타입</th>\n",
       "      <th>충전시작일시</th>\n",
       "      <th>충전종료일시</th>\n",
       "      <th>충전시간</th>\n",
       "      <th>충전량</th>\n",
       "      <th>...</th>\n",
       "      <th>충전시작_초</th>\n",
       "      <th>충전시작일시(변환)</th>\n",
       "      <th>충전종료_년도</th>\n",
       "      <th>충전종료_월</th>\n",
       "      <th>충전종료_일</th>\n",
       "      <th>충전종료_시</th>\n",
       "      <th>충전종료_분</th>\n",
       "      <th>충전종료_초</th>\n",
       "      <th>충전종료일시(변환)</th>\n",
       "      <th>충전시간(계산)</th>\n",
       "    </tr>\n",
       "  </thead>\n",
       "  <tbody>\n",
       "    <tr>\n",
       "      <th>2154135</th>\n",
       "      <td>단양관광안내소(단양팔경)</td>\n",
       "      <td>1</td>\n",
       "      <td>충청북도</td>\n",
       "      <td>단양군</td>\n",
       "      <td>충청북도 단양군 단양읍 고수리 149-1</td>\n",
       "      <td>DC차데모+AC3상+DC콤보</td>\n",
       "      <td>20201030144953</td>\n",
       "      <td>19800110000001</td>\n",
       "      <td>3 days 10:47:44</td>\n",
       "      <td>14.20000</td>\n",
       "      <td>...</td>\n",
       "      <td>53</td>\n",
       "      <td>2020-10-30 14:49:53</td>\n",
       "      <td>1980</td>\n",
       "      <td>1</td>\n",
       "      <td>10</td>\n",
       "      <td>0</td>\n",
       "      <td>0</td>\n",
       "      <td>1</td>\n",
       "      <td>1980-01-10 00:00:01</td>\n",
       "      <td>-14905 days +09:10:08</td>\n",
       "    </tr>\n",
       "  </tbody>\n",
       "</table>\n",
       "<p>1 rows × 26 columns</p>\n",
       "</div>"
      ],
      "text/plain": [
       "                  충전소명  충전기ID    지역  시군구                      주소  \\\n",
       "2154135  단양관광안내소(단양팔경)      1  충청북도  단양군  충청북도 단양군 단양읍 고수리 149-1   \n",
       "\n",
       "                   충전기타입          충전시작일시          충전종료일시            충전시간  \\\n",
       "2154135  DC차데모+AC3상+DC콤보  20201030144953  19800110000001 3 days 10:47:44   \n",
       "\n",
       "             충전량  ... 충전시작_초          충전시작일시(변환)  충전종료_년도  충전종료_월  충전종료_일  \\\n",
       "2154135 14.20000  ...     53 2020-10-30 14:49:53     1980       1      10   \n",
       "\n",
       "         충전종료_시  충전종료_분 충전종료_초          충전종료일시(변환)              충전시간(계산)  \n",
       "2154135       0       0      1 1980-01-10 00:00:01 -14905 days +09:10:08  \n",
       "\n",
       "[1 rows x 26 columns]"
      ]
     },
     "execution_count": 147,
     "metadata": {},
     "output_type": "execute_result"
    }
   ],
   "source": [
    "df2[df2['충전시간(계산)'] == '-14905 days +09:10:08']"
   ]
  },
  {
   "cell_type": "markdown",
   "metadata": {},
   "source": [
    "##### 충전시간 오류 제거 데이터 출력"
   ]
  },
  {
   "cell_type": "code",
   "execution_count": 156,
   "metadata": {},
   "outputs": [],
   "source": [
    "df2.to_csv('2020-22년_급속충전_충전시간_오류제거.csv', encoding='utf-8')"
   ]
  },
  {
   "cell_type": "markdown",
   "metadata": {},
   "source": [
    "## 데이터 로드"
   ]
  },
  {
   "cell_type": "code",
   "execution_count": 14,
   "metadata": {},
   "outputs": [
    {
     "name": "stderr",
     "output_type": "stream",
     "text": [
      "C:\\Users\\kbj\\AppData\\Local\\Temp\\ipykernel_13392\\2104362447.py:1: DtypeWarning: Columns (11) have mixed types. Specify dtype option on import or set low_memory=False.\n",
      "  df2 = pd.read_csv('2020-22년_급속충전_충전시간_오류제거.csv', index_col=0, dtype={'충전시작_년도':np.int16, '충전종료_년도':np.int16, '충전시작_월':np.int8,  '충전시작_일':np.int8, '충전시작_시':np.int8, '충전시작_분':np.int8, '충전시작_초':np.int8, '충전종료_월':np.int8, '충전종료_일':np.int8, '충전종료_시':np.int8, '충전종료_분':np.int8, '충전종료_초':np.int8, '충전기ID':np.int8})\n"
     ]
    },
    {
     "name": "stdout",
     "output_type": "stream",
     "text": [
      "<class 'pandas.core.frame.DataFrame'>\n",
      "RangeIndex: 11665815 entries, 0 to 11665814\n",
      "Data columns (total 26 columns):\n",
      " #   Column      Dtype          \n",
      "---  ------      -----          \n",
      " 0   충전소명        object         \n",
      " 1   충전기ID       int8           \n",
      " 2   지역          object         \n",
      " 3   시군구         object         \n",
      " 4   주소          object         \n",
      " 5   충전기타입       object         \n",
      " 6   충전시작일시      int64          \n",
      " 7   충전종료일시      int64          \n",
      " 8   충전시간        timedelta64[ns]\n",
      " 9   충전량         float64        \n",
      " 10  충전용량        object         \n",
      " 11  충전시작_년도     int16          \n",
      " 12  충전시작_월      int8           \n",
      " 13  충전시작_일      int8           \n",
      " 14  충전시작_시      int8           \n",
      " 15  충전시작_분      int8           \n",
      " 16  충전시작_초      int8           \n",
      " 17  충전시작일시(변환)  object         \n",
      " 18  충전종료_년도     int16          \n",
      " 19  충전종료_월      int8           \n",
      " 20  충전종료_일      int8           \n",
      " 21  충전종료_시      int8           \n",
      " 22  충전종료_분      int8           \n",
      " 23  충전종료_초      int8           \n",
      " 24  충전종료일시(변환)  object         \n",
      " 25  충전시간(계산)    timedelta64[ns]\n",
      "dtypes: float64(1), int16(2), int64(2), int8(11), object(8), timedelta64[ns](2)\n",
      "memory usage: 1.3+ GB\n"
     ]
    }
   ],
   "source": [
    "df2 = pd.read_csv('2020-22년_급속충전_충전시간_오류제거.csv', index_col=0, dtype={'충전시작_년도':np.int16, '충전종료_년도':np.int16, '충전시작_월':np.int8,  '충전시작_일':np.int8, '충전시작_시':np.int8, '충전시작_분':np.int8, '충전시작_초':np.int8, '충전종료_월':np.int8, '충전종료_일':np.int8, '충전종료_시':np.int8, '충전종료_분':np.int8, '충전종료_초':np.int8, '충전기ID':np.int8})\n",
    "df2['충전시간'] = pd.to_timedelta(df2['충전시간'])\n",
    "df2['충전시간(계산)'] = pd.to_timedelta(df2['충전시간(계산)'])\n",
    "df2 = df2.reset_index(drop=True)\n",
    "df2.info()"
   ]
  },
  {
   "cell_type": "code",
   "execution_count": 15,
   "metadata": {},
   "outputs": [
    {
     "name": "stdout",
     "output_type": "stream",
     "text": [
      "0\n"
     ]
    }
   ],
   "source": [
    "count = 0\n",
    "for one in df2['충전소명']:\n",
    "    if '\"' in one:\n",
    "        count += 1\n",
    "print(count)"
   ]
  },
  {
   "cell_type": "markdown",
   "metadata": {},
   "source": [
    "### 연도/지역별 충전기ID 개수\n",
    "- 충전시간(계산) 음수 값 유지"
   ]
  },
  {
   "cell_type": "code",
   "execution_count": 57,
   "metadata": {},
   "outputs": [
    {
     "data": {
      "text/plain": [
       "(17585, 26)"
      ]
     },
     "execution_count": 57,
     "metadata": {},
     "output_type": "execute_result"
    }
   ],
   "source": [
    "numch_col = ['충전시작_년도', '충전소명', '충전기ID']\n",
    "numch = df2.drop_duplicates(numch_col, keep='first').reset_index(drop=True)\n",
    "numch.shape"
   ]
  },
  {
   "cell_type": "code",
   "execution_count": 80,
   "metadata": {},
   "outputs": [
    {
     "data": {
      "text/plain": [
       "충전시작_년도  지역    시군구  충전기ID\n",
       "2020     강원도   강릉시  1        15\n",
       "                    2        11\n",
       "                    3         5\n",
       "                    4         1\n",
       "                    21        1\n",
       "                             ..\n",
       "2022     충청북도  충주시  44        2\n",
       "                    45        1\n",
       "                    81        1\n",
       "                    82        1\n",
       "                    91        1\n",
       "Name: 충전기ID 수, Length: 5040, dtype: int64"
      ]
     },
     "execution_count": 80,
     "metadata": {},
     "output_type": "execute_result"
    }
   ],
   "source": [
    "numch_group_chargerID = numch.groupby(['충전시작_년도', '지역', '시군구', '충전기ID'])['충전소명'].count().rename('시군구별 충전기ID별 개수')\n",
    "numch_group_chargerID"
   ]
  },
  {
   "cell_type": "code",
   "execution_count": 81,
   "metadata": {},
   "outputs": [
    {
     "data": {
      "text/plain": [
       "지역    시군구  충전기ID  충전시작_년도\n",
       "강원도   강릉시  1      2020       15\n",
       "                  2021       17\n",
       "                  2022       20\n",
       "           2      2020       11\n",
       "                  2021       11\n",
       "                             ..\n",
       "충청북도  충주시  81     2022        1\n",
       "           82     2022        1\n",
       "           91     2020        1\n",
       "                  2021        1\n",
       "                  2022        1\n",
       "Name: 충전기ID 수, Length: 5040, dtype: int64"
      ]
     },
     "execution_count": 81,
     "metadata": {},
     "output_type": "execute_result"
    }
   ],
   "source": [
    "numch_group_chargerID_y = numch.groupby(['지역', '시군구', '충전기ID', '충전시작_년도'])['충전소명'].count().rename('충전기ID별 개수')\n",
    "numch_group_chargerID_y"
   ]
  },
  {
   "cell_type": "code",
   "execution_count": 82,
   "metadata": {},
   "outputs": [
    {
     "data": {
      "text/plain": [
       "지역    시군구  충전시작_년도\n",
       "강원도   강릉시  2020                [4, 1, 3, 2, 52, 42, 41, 43, 44, 21, 22]\n",
       "           2021            [42, 3, 1, 52, 2, 43, 41, 22, 4, 21, 44, 45]\n",
       "           2022               [1, 2, 22, 3, 21, 42, 45, 43, 41, 52, 44]\n",
       "      고성군  2020                                          [12, 11, 1, 2]\n",
       "           2021                                          [12, 2, 1, 11]\n",
       "                                            ...                        \n",
       "충청북도  청주시  2021          [1, 43, 2, 12, 11, 42, 52, 41, 21, 22, 45, 44]\n",
       "           2022       [1, 12, 41, 11, 2, 21, 22, 52, 44, 42, 45, 43,...\n",
       "      충주시  2020          [1, 11, 12, 2, 21, 22, 91, 41, 42, 45, 44, 43]\n",
       "           2021       [1, 12, 21, 22, 42, 41, 2, 43, 11, 44, 45, 91,...\n",
       "           2022       [1, 12, 21, 22, 91, 2, 11, 44, 42, 45, 24, 43,...\n",
       "Name: 충전기ID 값, Length: 744, dtype: object"
      ]
     },
     "execution_count": 82,
     "metadata": {},
     "output_type": "execute_result"
    }
   ],
   "source": [
    "numch_group_chargerID_y_u = numch.groupby(['지역', '시군구', '충전시작_년도'])['충전기ID'].unique().rename('충전기ID unique값')\n",
    "numch_group_chargerID_y_u"
   ]
  },
  {
   "cell_type": "code",
   "execution_count": 83,
   "metadata": {},
   "outputs": [
    {
     "data": {
      "text/plain": [
       "(744,)"
      ]
     },
     "execution_count": 83,
     "metadata": {},
     "output_type": "execute_result"
    }
   ],
   "source": [
    "numch_group_chargerID_y_u.shape"
   ]
  },
  {
   "cell_type": "code",
   "execution_count": 84,
   "metadata": {},
   "outputs": [
    {
     "data": {
      "text/plain": [
       "array([ 4,  1,  3,  2, 52, 42, 41, 43, 44, 21, 22], dtype=int8)"
      ]
     },
     "execution_count": 84,
     "metadata": {},
     "output_type": "execute_result"
    }
   ],
   "source": [
    "numch_group_chargerID_y_u.iloc[0]"
   ]
  },
  {
   "cell_type": "code",
   "execution_count": 85,
   "metadata": {},
   "outputs": [],
   "source": [
    "for i, one in enumerate(numch_group_chargerID_y_u):\n",
    "    numch_group_chargerID_y_u.iloc[i] = sorted(one)"
   ]
  },
  {
   "cell_type": "code",
   "execution_count": 86,
   "metadata": {},
   "outputs": [
    {
     "data": {
      "text/plain": [
       "지역    시군구  충전시작_년도\n",
       "강원도   강릉시  2020                [1, 2, 3, 4, 21, 22, 41, 42, 43, 44, 52]\n",
       "           2021            [1, 2, 3, 4, 21, 22, 41, 42, 43, 44, 45, 52]\n",
       "           2022               [1, 2, 3, 21, 22, 41, 42, 43, 44, 45, 52]\n",
       "      고성군  2020                                          [1, 2, 11, 12]\n",
       "           2021                                          [1, 2, 11, 12]\n",
       "                                            ...                        \n",
       "충청북도  청주시  2021          [1, 2, 11, 12, 21, 22, 41, 42, 43, 44, 45, 52]\n",
       "           2022       [1, 2, 3, 11, 12, 21, 22, 23, 24, 41, 42, 43, ...\n",
       "      충주시  2020          [1, 2, 11, 12, 21, 22, 41, 42, 43, 44, 45, 91]\n",
       "           2021       [1, 2, 11, 12, 21, 22, 23, 24, 41, 42, 43, 44,...\n",
       "           2022       [1, 2, 3, 4, 11, 12, 21, 22, 23, 24, 41, 42, 4...\n",
       "Name: 충전기ID 값, Length: 744, dtype: object"
      ]
     },
     "execution_count": 86,
     "metadata": {},
     "output_type": "execute_result"
    }
   ],
   "source": [
    "numch_group_chargerID_y_u"
   ]
  },
  {
   "cell_type": "code",
   "execution_count": 87,
   "metadata": {},
   "outputs": [
    {
     "data": {
      "text/plain": [
       "지역    시군구  충전시작_년도\n",
       "강원도   강릉시  2020       11\n",
       "           2021       12\n",
       "           2022       11\n",
       "      고성군  2020        4\n",
       "           2021        4\n",
       "                      ..\n",
       "충청북도  청주시  2021       12\n",
       "           2022       15\n",
       "      충주시  2020       12\n",
       "           2021       14\n",
       "           2022       18\n",
       "Name: 충전기ID 개수, Length: 744, dtype: int64"
      ]
     },
     "execution_count": 87,
     "metadata": {},
     "output_type": "execute_result"
    }
   ],
   "source": [
    "numch_group_chargerID_y_nu = numch.groupby(['지역', '시군구', '충전시작_년도'])['충전기ID'].nunique().rename('충전기ID nunique')\n",
    "numch_group_chargerID_y_nu"
   ]
  },
  {
   "cell_type": "code",
   "execution_count": 77,
   "metadata": {},
   "outputs": [
    {
     "data": {
      "text/plain": [
       "충전시작_년도  지역    충전기ID\n",
       "2020     강원도   1        158\n",
       "               2         56\n",
       "               3         10\n",
       "               4          2\n",
       "               11        39\n",
       "                       ... \n",
       "2022     충청북도  45         2\n",
       "               52         8\n",
       "               81         2\n",
       "               82         2\n",
       "               91         5\n",
       "Name: 충전소명, Length: 1015, dtype: int64"
      ]
     },
     "execution_count": 77,
     "metadata": {},
     "output_type": "execute_result"
    }
   ],
   "source": [
    "numch_group_chargerID_sum = numch.groupby(['충전시작_년도', '지역', '충전기ID'])['충전소명'].count().rename('지역별 ID별 충전기 개수')\n",
    "numch_group_chargerID_sum"
   ]
  },
  {
   "cell_type": "code",
   "execution_count": 88,
   "metadata": {},
   "outputs": [],
   "source": [
    "numch_group_chargerID_file = pd.ExcelWriter('분석/2020-22년_년도_지역별_충전기ID_수2.xlsx')\n",
    "numch_group_chargerID.to_excel(numch_group_chargerID_file, sheet_name='시군구별 충전기ID별 개수')\n",
    "numch_group_chargerID_y.to_excel(numch_group_chargerID_file, sheet_name='충전기ID별 개수')\n",
    "numch_group_chargerID_y_u.to_excel(numch_group_chargerID_file, sheet_name='충전기ID unique값')\n",
    "numch_group_chargerID_y_nu.to_excel(numch_group_chargerID_file, sheet_name='충전기ID nunique')\n",
    "numch_group_chargerID_sum.to_excel(numch_group_chargerID_file, sheet_name='지역별 ID별 충전기 개수')\n",
    "numch_group_chargerID_file.save()"
   ]
  },
  {
   "cell_type": "markdown",
   "metadata": {},
   "source": [
    "#### 충전시간 데이터 확인"
   ]
  },
  {
   "cell_type": "code",
   "execution_count": 148,
   "metadata": {},
   "outputs": [
    {
     "data": {
      "text/html": [
       "<div>\n",
       "<style scoped>\n",
       "    .dataframe tbody tr th:only-of-type {\n",
       "        vertical-align: middle;\n",
       "    }\n",
       "\n",
       "    .dataframe tbody tr th {\n",
       "        vertical-align: top;\n",
       "    }\n",
       "\n",
       "    .dataframe thead th {\n",
       "        text-align: right;\n",
       "    }\n",
       "</style>\n",
       "<table border=\"1\" class=\"dataframe\">\n",
       "  <thead>\n",
       "    <tr style=\"text-align: right;\">\n",
       "      <th></th>\n",
       "      <th>충전소명</th>\n",
       "      <th>충전기ID</th>\n",
       "      <th>지역</th>\n",
       "      <th>시군구</th>\n",
       "      <th>주소</th>\n",
       "      <th>충전기타입</th>\n",
       "      <th>충전시작일시</th>\n",
       "      <th>충전종료일시</th>\n",
       "      <th>충전시간</th>\n",
       "      <th>충전량</th>\n",
       "      <th>...</th>\n",
       "      <th>충전시작_초</th>\n",
       "      <th>충전시작일시(변환)</th>\n",
       "      <th>충전종료_년도</th>\n",
       "      <th>충전종료_월</th>\n",
       "      <th>충전종료_일</th>\n",
       "      <th>충전종료_시</th>\n",
       "      <th>충전종료_분</th>\n",
       "      <th>충전종료_초</th>\n",
       "      <th>충전종료일시(변환)</th>\n",
       "      <th>충전시간(계산)</th>\n",
       "    </tr>\n",
       "  </thead>\n",
       "  <tbody>\n",
       "    <tr>\n",
       "      <th>40755</th>\n",
       "      <td>스포츠파크 주차장</td>\n",
       "      <td>11</td>\n",
       "      <td>경상남도</td>\n",
       "      <td>거창군</td>\n",
       "      <td>경상남도 거창군 거창읍 심소정길39-36</td>\n",
       "      <td>DC콤보</td>\n",
       "      <td>20200106124403</td>\n",
       "      <td>20200106124403</td>\n",
       "      <td>0 days</td>\n",
       "      <td>1.02000</td>\n",
       "      <td>...</td>\n",
       "      <td>3</td>\n",
       "      <td>2020-01-06 12:44:03</td>\n",
       "      <td>2020</td>\n",
       "      <td>1</td>\n",
       "      <td>6</td>\n",
       "      <td>12</td>\n",
       "      <td>44</td>\n",
       "      <td>3</td>\n",
       "      <td>2020-01-06 12:44:03</td>\n",
       "      <td>0 days 00:00:00</td>\n",
       "    </tr>\n",
       "    <tr>\n",
       "      <th>48908</th>\n",
       "      <td>이마트 파주운정점</td>\n",
       "      <td>11</td>\n",
       "      <td>경기도</td>\n",
       "      <td>파주시</td>\n",
       "      <td>경기도 파주시 한울로 123</td>\n",
       "      <td>DC콤보</td>\n",
       "      <td>20200107165228</td>\n",
       "      <td>20200107165255</td>\n",
       "      <td>0 days</td>\n",
       "      <td>22.51000</td>\n",
       "      <td>...</td>\n",
       "      <td>28</td>\n",
       "      <td>2020-01-07 16:52:28</td>\n",
       "      <td>2020</td>\n",
       "      <td>1</td>\n",
       "      <td>7</td>\n",
       "      <td>16</td>\n",
       "      <td>52</td>\n",
       "      <td>55</td>\n",
       "      <td>2020-01-07 16:52:55</td>\n",
       "      <td>0 days 00:00:27</td>\n",
       "    </tr>\n",
       "    <tr>\n",
       "      <th>61941</th>\n",
       "      <td>(재)문화엑스포</td>\n",
       "      <td>11</td>\n",
       "      <td>경상북도</td>\n",
       "      <td>경주시</td>\n",
       "      <td>경상북도 경주시 경감로 614</td>\n",
       "      <td>DC콤보</td>\n",
       "      <td>20200109145420</td>\n",
       "      <td>20200109145420</td>\n",
       "      <td>0 days</td>\n",
       "      <td>1.18000</td>\n",
       "      <td>...</td>\n",
       "      <td>20</td>\n",
       "      <td>2020-01-09 14:54:20</td>\n",
       "      <td>2020</td>\n",
       "      <td>1</td>\n",
       "      <td>9</td>\n",
       "      <td>14</td>\n",
       "      <td>54</td>\n",
       "      <td>20</td>\n",
       "      <td>2020-01-09 14:54:20</td>\n",
       "      <td>0 days 00:00:00</td>\n",
       "    </tr>\n",
       "    <tr>\n",
       "      <th>103629</th>\n",
       "      <td>종합사회복지관</td>\n",
       "      <td>12</td>\n",
       "      <td>충청남도</td>\n",
       "      <td>공주시</td>\n",
       "      <td>충청남도 공주시 의당면 의당로 257</td>\n",
       "      <td>DC콤보</td>\n",
       "      <td>20200114192124</td>\n",
       "      <td>20200114192132</td>\n",
       "      <td>0 days</td>\n",
       "      <td>14.58000</td>\n",
       "      <td>...</td>\n",
       "      <td>24</td>\n",
       "      <td>2020-01-14 19:21:24</td>\n",
       "      <td>2020</td>\n",
       "      <td>1</td>\n",
       "      <td>14</td>\n",
       "      <td>19</td>\n",
       "      <td>21</td>\n",
       "      <td>32</td>\n",
       "      <td>2020-01-14 19:21:32</td>\n",
       "      <td>0 days 00:00:08</td>\n",
       "    </tr>\n",
       "    <tr>\n",
       "      <th>156226</th>\n",
       "      <td>부안국민체육센터</td>\n",
       "      <td>11</td>\n",
       "      <td>전라북도</td>\n",
       "      <td>부안군</td>\n",
       "      <td>전라북도 부안군 부안읍 석정로 162</td>\n",
       "      <td>DC콤보</td>\n",
       "      <td>20200121162513</td>\n",
       "      <td>20200121162513</td>\n",
       "      <td>0 days</td>\n",
       "      <td>1.48000</td>\n",
       "      <td>...</td>\n",
       "      <td>13</td>\n",
       "      <td>2020-01-21 16:25:13</td>\n",
       "      <td>2020</td>\n",
       "      <td>1</td>\n",
       "      <td>21</td>\n",
       "      <td>16</td>\n",
       "      <td>25</td>\n",
       "      <td>13</td>\n",
       "      <td>2020-01-21 16:25:13</td>\n",
       "      <td>0 days 00:00:00</td>\n",
       "    </tr>\n",
       "  </tbody>\n",
       "</table>\n",
       "<p>5 rows × 26 columns</p>\n",
       "</div>"
      ],
      "text/plain": [
       "             충전소명  충전기ID    지역  시군구                      주소 충전기타입  \\\n",
       "40755   스포츠파크 주차장     11  경상남도  거창군  경상남도 거창군 거창읍 심소정길39-36  DC콤보   \n",
       "48908   이마트 파주운정점     11   경기도  파주시         경기도 파주시 한울로 123  DC콤보   \n",
       "61941    (재)문화엑스포     11  경상북도  경주시        경상북도 경주시 경감로 614  DC콤보   \n",
       "103629    종합사회복지관     12  충청남도  공주시    충청남도 공주시 의당면 의당로 257  DC콤보   \n",
       "156226   부안국민체육센터     11  전라북도  부안군    전라북도 부안군 부안읍 석정로 162  DC콤보   \n",
       "\n",
       "                충전시작일시          충전종료일시   충전시간      충전량  ... 충전시작_초  \\\n",
       "40755   20200106124403  20200106124403 0 days  1.02000  ...      3   \n",
       "48908   20200107165228  20200107165255 0 days 22.51000  ...     28   \n",
       "61941   20200109145420  20200109145420 0 days  1.18000  ...     20   \n",
       "103629  20200114192124  20200114192132 0 days 14.58000  ...     24   \n",
       "156226  20200121162513  20200121162513 0 days  1.48000  ...     13   \n",
       "\n",
       "                충전시작일시(변환)  충전종료_년도  충전종료_월  충전종료_일  충전종료_시  충전종료_분 충전종료_초  \\\n",
       "40755  2020-01-06 12:44:03     2020       1       6      12      44      3   \n",
       "48908  2020-01-07 16:52:28     2020       1       7      16      52     55   \n",
       "61941  2020-01-09 14:54:20     2020       1       9      14      54     20   \n",
       "103629 2020-01-14 19:21:24     2020       1      14      19      21     32   \n",
       "156226 2020-01-21 16:25:13     2020       1      21      16      25     13   \n",
       "\n",
       "                충전종료일시(변환)        충전시간(계산)  \n",
       "40755  2020-01-06 12:44:03 0 days 00:00:00  \n",
       "48908  2020-01-07 16:52:55 0 days 00:00:27  \n",
       "61941  2020-01-09 14:54:20 0 days 00:00:00  \n",
       "103629 2020-01-14 19:21:32 0 days 00:00:08  \n",
       "156226 2020-01-21 16:25:13 0 days 00:00:00  \n",
       "\n",
       "[5 rows x 26 columns]"
      ]
     },
     "execution_count": 148,
     "metadata": {},
     "output_type": "execute_result"
    }
   ],
   "source": [
    "df2[df2['충전시간'] == '0 days 00:00:00'].head()"
   ]
  },
  {
   "cell_type": "code",
   "execution_count": 149,
   "metadata": {},
   "outputs": [
    {
     "data": {
      "text/plain": [
       "(5702, 26)"
      ]
     },
     "execution_count": 149,
     "metadata": {},
     "output_type": "execute_result"
    }
   ],
   "source": [
    "df2[df2['충전시간'] == '0 days 00:00:00'].shape"
   ]
  },
  {
   "cell_type": "code",
   "execution_count": 150,
   "metadata": {},
   "outputs": [
    {
     "data": {
      "text/plain": [
       "dtype('float64')"
      ]
     },
     "execution_count": 150,
     "metadata": {},
     "output_type": "execute_result"
    }
   ],
   "source": [
    "df2['충전량'].dtype"
   ]
  },
  {
   "cell_type": "code",
   "execution_count": 151,
   "metadata": {},
   "outputs": [
    {
     "data": {
      "text/plain": [
       "0   20.22000\n",
       "1   18.87000\n",
       "2   16.04000\n",
       "3    5.80000\n",
       "4   13.32000\n",
       "Name: 충전량, dtype: float64"
      ]
     },
     "execution_count": 151,
     "metadata": {},
     "output_type": "execute_result"
    }
   ],
   "source": [
    "df2['충전량'].head()"
   ]
  },
  {
   "cell_type": "code",
   "execution_count": 152,
   "metadata": {},
   "outputs": [
    {
     "data": {
      "text/html": [
       "<div>\n",
       "<style scoped>\n",
       "    .dataframe tbody tr th:only-of-type {\n",
       "        vertical-align: middle;\n",
       "    }\n",
       "\n",
       "    .dataframe tbody tr th {\n",
       "        vertical-align: top;\n",
       "    }\n",
       "\n",
       "    .dataframe thead th {\n",
       "        text-align: right;\n",
       "    }\n",
       "</style>\n",
       "<table border=\"1\" class=\"dataframe\">\n",
       "  <thead>\n",
       "    <tr style=\"text-align: right;\">\n",
       "      <th></th>\n",
       "      <th>충전시간</th>\n",
       "      <th>충전량</th>\n",
       "    </tr>\n",
       "  </thead>\n",
       "  <tbody>\n",
       "    <tr>\n",
       "      <th>40755</th>\n",
       "      <td>0 days</td>\n",
       "      <td>1.02000</td>\n",
       "    </tr>\n",
       "    <tr>\n",
       "      <th>48908</th>\n",
       "      <td>0 days</td>\n",
       "      <td>22.51000</td>\n",
       "    </tr>\n",
       "    <tr>\n",
       "      <th>61941</th>\n",
       "      <td>0 days</td>\n",
       "      <td>1.18000</td>\n",
       "    </tr>\n",
       "    <tr>\n",
       "      <th>103629</th>\n",
       "      <td>0 days</td>\n",
       "      <td>14.58000</td>\n",
       "    </tr>\n",
       "    <tr>\n",
       "      <th>156226</th>\n",
       "      <td>0 days</td>\n",
       "      <td>1.48000</td>\n",
       "    </tr>\n",
       "    <tr>\n",
       "      <th>...</th>\n",
       "      <td>...</td>\n",
       "      <td>...</td>\n",
       "    </tr>\n",
       "    <tr>\n",
       "      <th>11571981</th>\n",
       "      <td>0 days</td>\n",
       "      <td>18.70000</td>\n",
       "    </tr>\n",
       "    <tr>\n",
       "      <th>11572687</th>\n",
       "      <td>0 days</td>\n",
       "      <td>23.41000</td>\n",
       "    </tr>\n",
       "    <tr>\n",
       "      <th>11607861</th>\n",
       "      <td>0 days</td>\n",
       "      <td>7.44000</td>\n",
       "    </tr>\n",
       "    <tr>\n",
       "      <th>11618040</th>\n",
       "      <td>0 days</td>\n",
       "      <td>4.50000</td>\n",
       "    </tr>\n",
       "    <tr>\n",
       "      <th>11619415</th>\n",
       "      <td>0 days</td>\n",
       "      <td>13.48000</td>\n",
       "    </tr>\n",
       "  </tbody>\n",
       "</table>\n",
       "<p>5702 rows × 2 columns</p>\n",
       "</div>"
      ],
      "text/plain": [
       "           충전시간      충전량\n",
       "40755    0 days  1.02000\n",
       "48908    0 days 22.51000\n",
       "61941    0 days  1.18000\n",
       "103629   0 days 14.58000\n",
       "156226   0 days  1.48000\n",
       "...         ...      ...\n",
       "11571981 0 days 18.70000\n",
       "11572687 0 days 23.41000\n",
       "11607861 0 days  7.44000\n",
       "11618040 0 days  4.50000\n",
       "11619415 0 days 13.48000\n",
       "\n",
       "[5702 rows x 2 columns]"
      ]
     },
     "execution_count": 152,
     "metadata": {},
     "output_type": "execute_result"
    }
   ],
   "source": [
    "df2[ (df2['충전시간'] == '0 days 00:00:00') & (df2['충전량'] != 0) ][['충전시간', '충전량']]"
   ]
  },
  {
   "cell_type": "code",
   "execution_count": 153,
   "metadata": {},
   "outputs": [
    {
     "data": {
      "text/html": [
       "<div>\n",
       "<style scoped>\n",
       "    .dataframe tbody tr th:only-of-type {\n",
       "        vertical-align: middle;\n",
       "    }\n",
       "\n",
       "    .dataframe tbody tr th {\n",
       "        vertical-align: top;\n",
       "    }\n",
       "\n",
       "    .dataframe thead th {\n",
       "        text-align: right;\n",
       "    }\n",
       "</style>\n",
       "<table border=\"1\" class=\"dataframe\">\n",
       "  <thead>\n",
       "    <tr style=\"text-align: right;\">\n",
       "      <th></th>\n",
       "      <th>충전시간</th>\n",
       "      <th>충전량</th>\n",
       "    </tr>\n",
       "  </thead>\n",
       "  <tbody>\n",
       "    <tr>\n",
       "      <th>40755</th>\n",
       "      <td>0 days</td>\n",
       "      <td>1.02000</td>\n",
       "    </tr>\n",
       "    <tr>\n",
       "      <th>48908</th>\n",
       "      <td>0 days</td>\n",
       "      <td>22.51000</td>\n",
       "    </tr>\n",
       "    <tr>\n",
       "      <th>61941</th>\n",
       "      <td>0 days</td>\n",
       "      <td>1.18000</td>\n",
       "    </tr>\n",
       "    <tr>\n",
       "      <th>103629</th>\n",
       "      <td>0 days</td>\n",
       "      <td>14.58000</td>\n",
       "    </tr>\n",
       "    <tr>\n",
       "      <th>156226</th>\n",
       "      <td>0 days</td>\n",
       "      <td>1.48000</td>\n",
       "    </tr>\n",
       "    <tr>\n",
       "      <th>...</th>\n",
       "      <td>...</td>\n",
       "      <td>...</td>\n",
       "    </tr>\n",
       "    <tr>\n",
       "      <th>11571981</th>\n",
       "      <td>0 days</td>\n",
       "      <td>18.70000</td>\n",
       "    </tr>\n",
       "    <tr>\n",
       "      <th>11572687</th>\n",
       "      <td>0 days</td>\n",
       "      <td>23.41000</td>\n",
       "    </tr>\n",
       "    <tr>\n",
       "      <th>11607861</th>\n",
       "      <td>0 days</td>\n",
       "      <td>7.44000</td>\n",
       "    </tr>\n",
       "    <tr>\n",
       "      <th>11618040</th>\n",
       "      <td>0 days</td>\n",
       "      <td>4.50000</td>\n",
       "    </tr>\n",
       "    <tr>\n",
       "      <th>11619415</th>\n",
       "      <td>0 days</td>\n",
       "      <td>13.48000</td>\n",
       "    </tr>\n",
       "  </tbody>\n",
       "</table>\n",
       "<p>5702 rows × 2 columns</p>\n",
       "</div>"
      ],
      "text/plain": [
       "           충전시간      충전량\n",
       "40755    0 days  1.02000\n",
       "48908    0 days 22.51000\n",
       "61941    0 days  1.18000\n",
       "103629   0 days 14.58000\n",
       "156226   0 days  1.48000\n",
       "...         ...      ...\n",
       "11571981 0 days 18.70000\n",
       "11572687 0 days 23.41000\n",
       "11607861 0 days  7.44000\n",
       "11618040 0 days  4.50000\n",
       "11619415 0 days 13.48000\n",
       "\n",
       "[5702 rows x 2 columns]"
      ]
     },
     "execution_count": 153,
     "metadata": {},
     "output_type": "execute_result"
    }
   ],
   "source": [
    "df2.loc[ (df2['충전시간'] == '0 days 00:00:00') & (df2['충전량'] != 0), ['충전시간', '충전량'] ]"
   ]
  },
  {
   "cell_type": "code",
   "execution_count": 154,
   "metadata": {},
   "outputs": [
    {
     "data": {
      "text/plain": [
       "(5702, 26)"
      ]
     },
     "execution_count": 154,
     "metadata": {},
     "output_type": "execute_result"
    }
   ],
   "source": [
    "df2[ (df2['충전시간'] == '0 days 00:00:00') & (df2['충전량'] != 0) ].shape"
   ]
  },
  {
   "cell_type": "markdown",
   "metadata": {},
   "source": [
    "#### 충전시간(계산) 음수 값 제거\n",
    "- 52366개"
   ]
  },
  {
   "cell_type": "code",
   "execution_count": 155,
   "metadata": {},
   "outputs": [
    {
     "data": {
      "text/plain": [
       "52366"
      ]
     },
     "execution_count": 155,
     "metadata": {},
     "output_type": "execute_result"
    }
   ],
   "source": [
    "n_ch_time_idx = df2[df2['충전시간(계산)'] < '0'].index\n",
    "len(n_ch_time_idx)"
   ]
  },
  {
   "cell_type": "code",
   "execution_count": 158,
   "metadata": {},
   "outputs": [
    {
     "data": {
      "text/plain": [
       "16367   -1 days +14:47:54\n",
       "16370   -1 days +14:47:04\n",
       "16373   -1 days +14:46:20\n",
       "16935   -1 days +13:26:06\n",
       "16941   -1 days +13:25:25\n",
       "Name: 충전시간(계산), dtype: timedelta64[ns]"
      ]
     },
     "execution_count": 158,
     "metadata": {},
     "output_type": "execute_result"
    }
   ],
   "source": [
    "df2[df2['충전시간(계산)'] < '0']['충전시간(계산)'].head()"
   ]
  },
  {
   "cell_type": "code",
   "execution_count": 159,
   "metadata": {},
   "outputs": [
    {
     "data": {
      "text/plain": [
       "3255838    -1 days +23:54:45\n",
       "7653730    -1 days +23:55:24\n",
       "8325194    -1 days +22:25:53\n",
       "9172214    -1 days +23:38:16\n",
       "11279091   -1 days +21:45:24\n",
       "Name: 충전시간(계산), dtype: timedelta64[ns]"
      ]
     },
     "execution_count": 159,
     "metadata": {},
     "output_type": "execute_result"
    }
   ],
   "source": [
    "df2[df2['충전시간(계산)'] < '0']['충전시간(계산)'].tail()"
   ]
  },
  {
   "cell_type": "code",
   "execution_count": 157,
   "metadata": {},
   "outputs": [
    {
     "data": {
      "text/plain": [
       "(11665815, 26)"
      ]
     },
     "execution_count": 157,
     "metadata": {},
     "output_type": "execute_result"
    }
   ],
   "source": [
    "df2.shape"
   ]
  },
  {
   "cell_type": "code",
   "execution_count": 160,
   "metadata": {},
   "outputs": [],
   "source": [
    "df2 = df2.drop(n_ch_time_idx).reset_index(drop=True)"
   ]
  },
  {
   "cell_type": "code",
   "execution_count": 161,
   "metadata": {},
   "outputs": [
    {
     "data": {
      "text/plain": [
       "(11613449, 26)"
      ]
     },
     "execution_count": 161,
     "metadata": {},
     "output_type": "execute_result"
    }
   ],
   "source": [
    "df2.shape"
   ]
  },
  {
   "cell_type": "code",
   "execution_count": 162,
   "metadata": {},
   "outputs": [
    {
     "data": {
      "text/plain": [
       "count                     11613449\n",
       "mean     0 days 00:33:51.200344617\n",
       "std      0 days 01:19:04.781739278\n",
       "min                0 days 00:00:00\n",
       "25%                0 days 00:20:53\n",
       "50%                0 days 00:34:02\n",
       "75%                0 days 00:40:00\n",
       "max                4 days 03:56:55\n",
       "Name: 충전시간, dtype: object"
      ]
     },
     "execution_count": 162,
     "metadata": {},
     "output_type": "execute_result"
    }
   ],
   "source": [
    "df2['충전시간'].describe()"
   ]
  },
  {
   "cell_type": "code",
   "execution_count": 163,
   "metadata": {},
   "outputs": [
    {
     "data": {
      "text/plain": [
       "count                     11613449\n",
       "mean     0 days 00:34:58.600275335\n",
       "std      0 days 01:23:19.668917229\n",
       "min                0 days 00:00:00\n",
       "25%                0 days 00:21:39\n",
       "50%                0 days 00:34:56\n",
       "75%                0 days 00:40:25\n",
       "max               14 days 08:40:25\n",
       "Name: 충전시간(계산), dtype: object"
      ]
     },
     "execution_count": 163,
     "metadata": {},
     "output_type": "execute_result"
    }
   ],
   "source": [
    "df2['충전시간(계산)'].describe()"
   ]
  },
  {
   "cell_type": "markdown",
   "metadata": {},
   "source": [
    "#### 원본 충전시간과 계산 충전시간 차이 통계"
   ]
  },
  {
   "cell_type": "code",
   "execution_count": 164,
   "metadata": {},
   "outputs": [
    {
     "data": {
      "text/plain": [
       "count                     11613449\n",
       "mean     0 days 00:01:07.399930718\n",
       "std      0 days 01:01:06.908441070\n",
       "min              -1 days +00:00:23\n",
       "25%                0 days 00:00:00\n",
       "50%                0 days 00:00:13\n",
       "75%                0 days 00:01:42\n",
       "max               14 days 08:32:12\n",
       "dtype: object"
      ]
     },
     "execution_count": 164,
     "metadata": {},
     "output_type": "execute_result"
    }
   ],
   "source": [
    "temp = df2['충전시간(계산)'] - df2['충전시간']\n",
    "temp.describe()"
   ]
  },
  {
   "cell_type": "code",
   "execution_count": 165,
   "metadata": {},
   "outputs": [
    {
     "data": {
      "text/plain": [
       "(817340,)"
      ]
     },
     "execution_count": 165,
     "metadata": {},
     "output_type": "execute_result"
    }
   ],
   "source": [
    "temp[temp < '0'].shape"
   ]
  },
  {
   "cell_type": "code",
   "execution_count": 166,
   "metadata": {},
   "outputs": [],
   "source": [
    "df2['raw값과_계산값_차이'] = df2['충전시간(계산)'] - df2['충전시간']"
   ]
  },
  {
   "cell_type": "code",
   "execution_count": 167,
   "metadata": {},
   "outputs": [
    {
     "data": {
      "text/html": [
       "<div>\n",
       "<style scoped>\n",
       "    .dataframe tbody tr th:only-of-type {\n",
       "        vertical-align: middle;\n",
       "    }\n",
       "\n",
       "    .dataframe tbody tr th {\n",
       "        vertical-align: top;\n",
       "    }\n",
       "\n",
       "    .dataframe thead th {\n",
       "        text-align: right;\n",
       "    }\n",
       "</style>\n",
       "<table border=\"1\" class=\"dataframe\">\n",
       "  <thead>\n",
       "    <tr style=\"text-align: right;\">\n",
       "      <th></th>\n",
       "      <th>충전소명</th>\n",
       "      <th>충전기ID</th>\n",
       "      <th>지역</th>\n",
       "      <th>시군구</th>\n",
       "      <th>주소</th>\n",
       "      <th>충전기타입</th>\n",
       "      <th>충전시작일시</th>\n",
       "      <th>충전종료일시</th>\n",
       "      <th>충전시간</th>\n",
       "      <th>충전량</th>\n",
       "      <th>...</th>\n",
       "      <th>충전시작일시(변환)</th>\n",
       "      <th>충전종료_년도</th>\n",
       "      <th>충전종료_월</th>\n",
       "      <th>충전종료_일</th>\n",
       "      <th>충전종료_시</th>\n",
       "      <th>충전종료_분</th>\n",
       "      <th>충전종료_초</th>\n",
       "      <th>충전종료일시(변환)</th>\n",
       "      <th>충전시간(계산)</th>\n",
       "      <th>raw값과_계산값_차이</th>\n",
       "    </tr>\n",
       "  </thead>\n",
       "  <tbody>\n",
       "    <tr>\n",
       "      <th>8083907</th>\n",
       "      <td>포항실내사격장</td>\n",
       "      <td>11</td>\n",
       "      <td>경상북도</td>\n",
       "      <td>포항시</td>\n",
       "      <td>경상북도 포항시 북구 용흥동 4-9</td>\n",
       "      <td>DC콤보</td>\n",
       "      <td>20220305094551</td>\n",
       "      <td>20220319182616</td>\n",
       "      <td>0 days 00:08:13</td>\n",
       "      <td>3.24000</td>\n",
       "      <td>...</td>\n",
       "      <td>2022-03-05 09:45:51</td>\n",
       "      <td>2022</td>\n",
       "      <td>3</td>\n",
       "      <td>19</td>\n",
       "      <td>18</td>\n",
       "      <td>26</td>\n",
       "      <td>16</td>\n",
       "      <td>2022-03-19 18:26:16</td>\n",
       "      <td>14 days 08:40:25</td>\n",
       "      <td>14 days 08:32:12</td>\n",
       "    </tr>\n",
       "  </tbody>\n",
       "</table>\n",
       "<p>1 rows × 27 columns</p>\n",
       "</div>"
      ],
      "text/plain": [
       "            충전소명  충전기ID    지역  시군구                   주소 충전기타입          충전시작일시  \\\n",
       "8083907  포항실내사격장     11  경상북도  포항시  경상북도 포항시 북구 용흥동 4-9  DC콤보  20220305094551   \n",
       "\n",
       "                 충전종료일시            충전시간     충전량  ...          충전시작일시(변환)  \\\n",
       "8083907  20220319182616 0 days 00:08:13 3.24000  ... 2022-03-05 09:45:51   \n",
       "\n",
       "         충전종료_년도  충전종료_월  충전종료_일  충전종료_시  충전종료_분  충전종료_초          충전종료일시(변환)  \\\n",
       "8083907     2022       3      19      18      26      16 2022-03-19 18:26:16   \n",
       "\n",
       "                충전시간(계산)     raw값과_계산값_차이  \n",
       "8083907 14 days 08:40:25 14 days 08:32:12  \n",
       "\n",
       "[1 rows x 27 columns]"
      ]
     },
     "execution_count": 167,
     "metadata": {},
     "output_type": "execute_result"
    }
   ],
   "source": [
    "df2[df2['raw값과_계산값_차이'] > '14 days']"
   ]
  },
  {
   "cell_type": "code",
   "execution_count": 168,
   "metadata": {},
   "outputs": [],
   "source": [
    "# df2 = df2.drop(['raw값과_계산값_차이'], axis=1)"
   ]
  },
  {
   "cell_type": "code",
   "execution_count": 169,
   "metadata": {},
   "outputs": [
    {
     "name": "stdout",
     "output_type": "stream",
     "text": [
      "<class 'pandas.core.frame.DataFrame'>\n",
      "RangeIndex: 11613449 entries, 0 to 11613448\n",
      "Data columns (total 27 columns):\n",
      " #   Column        Dtype          \n",
      "---  ------        -----          \n",
      " 0   충전소명          object         \n",
      " 1   충전기ID         int16          \n",
      " 2   지역            object         \n",
      " 3   시군구           object         \n",
      " 4   주소            object         \n",
      " 5   충전기타입         object         \n",
      " 6   충전시작일시        int64          \n",
      " 7   충전종료일시        object         \n",
      " 8   충전시간          timedelta64[ns]\n",
      " 9   충전량           float64        \n",
      " 10  충전용량          object         \n",
      " 11  충전시작_년도       int32          \n",
      " 12  충전시작_월        int32          \n",
      " 13  충전시작_일        int32          \n",
      " 14  충전시작_시        int32          \n",
      " 15  충전시작_분        int32          \n",
      " 16  충전시작_초        int32          \n",
      " 17  충전시작일시(변환)    datetime64[ns] \n",
      " 18  충전종료_년도       int32          \n",
      " 19  충전종료_월        int32          \n",
      " 20  충전종료_일        int32          \n",
      " 21  충전종료_시        int32          \n",
      " 22  충전종료_분        int32          \n",
      " 23  충전종료_초        int32          \n",
      " 24  충전종료일시(변환)    datetime64[ns] \n",
      " 25  충전시간(계산)      timedelta64[ns]\n",
      " 26  raw값과_계산값_차이  timedelta64[ns]\n",
      "dtypes: datetime64[ns](2), float64(1), int16(1), int32(12), int64(1), object(7), timedelta64[ns](3)\n",
      "memory usage: 1.8+ GB\n"
     ]
    }
   ],
   "source": [
    "df2.info()"
   ]
  },
  {
   "cell_type": "code",
   "execution_count": 170,
   "metadata": {},
   "outputs": [
    {
     "name": "stdout",
     "output_type": "stream",
     "text": [
      "<class 'pandas.core.frame.DataFrame'>\n",
      "RangeIndex: 11613449 entries, 0 to 11613448\n",
      "Data columns (total 14 columns):\n",
      " #   Column   Dtype          \n",
      "---  ------   -----          \n",
      " 0   충전소명     object         \n",
      " 1   충전기ID    int16          \n",
      " 2   지역       object         \n",
      " 3   시군구      object         \n",
      " 4   주소       object         \n",
      " 5   충전기타입    object         \n",
      " 6   충전시작일시   int64          \n",
      " 7   충전종료일시   object         \n",
      " 8   충전시간     timedelta64[ns]\n",
      " 9   충전량      float64        \n",
      " 10  충전용량     object         \n",
      " 11  충전시작_년도  int32          \n",
      " 12  충전시작_월   int32          \n",
      " 13  충전시작_일   int32          \n",
      "dtypes: float64(1), int16(1), int32(3), int64(1), object(7), timedelta64[ns](1)\n",
      "memory usage: 1.0+ GB\n"
     ]
    }
   ],
   "source": [
    "df2.iloc[:, :14].info()"
   ]
  },
  {
   "cell_type": "code",
   "execution_count": 171,
   "metadata": {},
   "outputs": [
    {
     "name": "stdout",
     "output_type": "stream",
     "text": [
      "<class 'pandas.core.frame.DataFrame'>\n",
      "RangeIndex: 11613449 entries, 0 to 11613448\n",
      "Data columns (total 13 columns):\n",
      " #   Column        Dtype          \n",
      "---  ------        -----          \n",
      " 0   충전시작_시        int32          \n",
      " 1   충전시작_분        int32          \n",
      " 2   충전시작_초        int32          \n",
      " 3   충전시작일시(변환)    datetime64[ns] \n",
      " 4   충전종료_년도       int32          \n",
      " 5   충전종료_월        int32          \n",
      " 6   충전종료_일        int32          \n",
      " 7   충전종료_시        int32          \n",
      " 8   충전종료_분        int32          \n",
      " 9   충전종료_초        int32          \n",
      " 10  충전종료일시(변환)    datetime64[ns] \n",
      " 11  충전시간(계산)      timedelta64[ns]\n",
      " 12  raw값과_계산값_차이  timedelta64[ns]\n",
      "dtypes: datetime64[ns](2), int32(9), timedelta64[ns](2)\n",
      "memory usage: 753.1 MB\n"
     ]
    }
   ],
   "source": [
    "df2.iloc[:, 14:].info()"
   ]
  },
  {
   "cell_type": "markdown",
   "metadata": {},
   "source": [
    "### 데이터 절약"
   ]
  },
  {
   "cell_type": "code",
   "execution_count": 172,
   "metadata": {},
   "outputs": [
    {
     "data": {
      "text/html": [
       "<div>\n",
       "<style scoped>\n",
       "    .dataframe tbody tr th:only-of-type {\n",
       "        vertical-align: middle;\n",
       "    }\n",
       "\n",
       "    .dataframe tbody tr th {\n",
       "        vertical-align: top;\n",
       "    }\n",
       "\n",
       "    .dataframe thead th {\n",
       "        text-align: right;\n",
       "    }\n",
       "</style>\n",
       "<table border=\"1\" class=\"dataframe\">\n",
       "  <thead>\n",
       "    <tr style=\"text-align: right;\">\n",
       "      <th></th>\n",
       "      <th>충전시작_년도</th>\n",
       "      <th>충전시작_월</th>\n",
       "      <th>충전시작_일</th>\n",
       "      <th>충전시작_시</th>\n",
       "      <th>충전시작_분</th>\n",
       "      <th>충전시작_초</th>\n",
       "      <th>충전종료_년도</th>\n",
       "      <th>충전종료_월</th>\n",
       "      <th>충전종료_일</th>\n",
       "      <th>충전종료_시</th>\n",
       "      <th>충전종료_분</th>\n",
       "      <th>충전종료_초</th>\n",
       "    </tr>\n",
       "  </thead>\n",
       "  <tbody>\n",
       "    <tr>\n",
       "      <th>count</th>\n",
       "      <td>11613449.00000</td>\n",
       "      <td>11613449.00000</td>\n",
       "      <td>11613449.00000</td>\n",
       "      <td>11613449.00000</td>\n",
       "      <td>11613449.00000</td>\n",
       "      <td>11613449.00000</td>\n",
       "      <td>11613449.00000</td>\n",
       "      <td>11613449.00000</td>\n",
       "      <td>11613449.00000</td>\n",
       "      <td>11613449.00000</td>\n",
       "      <td>11613449.00000</td>\n",
       "      <td>11613449.00000</td>\n",
       "    </tr>\n",
       "    <tr>\n",
       "      <th>mean</th>\n",
       "      <td>2021.16059</td>\n",
       "      <td>6.20425</td>\n",
       "      <td>15.80842</td>\n",
       "      <td>13.72640</td>\n",
       "      <td>29.47740</td>\n",
       "      <td>29.49963</td>\n",
       "      <td>2021.16062</td>\n",
       "      <td>6.20430</td>\n",
       "      <td>15.80841</td>\n",
       "      <td>14.01221</td>\n",
       "      <td>29.54277</td>\n",
       "      <td>29.45744</td>\n",
       "    </tr>\n",
       "    <tr>\n",
       "      <th>std</th>\n",
       "      <td>0.77937</td>\n",
       "      <td>3.33015</td>\n",
       "      <td>8.80106</td>\n",
       "      <td>4.95829</td>\n",
       "      <td>17.33414</td>\n",
       "      <td>17.31996</td>\n",
       "      <td>0.77937</td>\n",
       "      <td>3.33017</td>\n",
       "      <td>8.80110</td>\n",
       "      <td>5.07576</td>\n",
       "      <td>17.34527</td>\n",
       "      <td>17.33907</td>\n",
       "    </tr>\n",
       "    <tr>\n",
       "      <th>min</th>\n",
       "      <td>2020.00000</td>\n",
       "      <td>1.00000</td>\n",
       "      <td>1.00000</td>\n",
       "      <td>0.00000</td>\n",
       "      <td>0.00000</td>\n",
       "      <td>0.00000</td>\n",
       "      <td>2020.00000</td>\n",
       "      <td>1.00000</td>\n",
       "      <td>1.00000</td>\n",
       "      <td>0.00000</td>\n",
       "      <td>0.00000</td>\n",
       "      <td>0.00000</td>\n",
       "    </tr>\n",
       "    <tr>\n",
       "      <th>25%</th>\n",
       "      <td>2021.00000</td>\n",
       "      <td>3.00000</td>\n",
       "      <td>8.00000</td>\n",
       "      <td>10.00000</td>\n",
       "      <td>14.00000</td>\n",
       "      <td>14.00000</td>\n",
       "      <td>2021.00000</td>\n",
       "      <td>3.00000</td>\n",
       "      <td>8.00000</td>\n",
       "      <td>11.00000</td>\n",
       "      <td>15.00000</td>\n",
       "      <td>14.00000</td>\n",
       "    </tr>\n",
       "    <tr>\n",
       "      <th>50%</th>\n",
       "      <td>2021.00000</td>\n",
       "      <td>6.00000</td>\n",
       "      <td>16.00000</td>\n",
       "      <td>14.00000</td>\n",
       "      <td>29.00000</td>\n",
       "      <td>29.00000</td>\n",
       "      <td>2021.00000</td>\n",
       "      <td>6.00000</td>\n",
       "      <td>16.00000</td>\n",
       "      <td>14.00000</td>\n",
       "      <td>30.00000</td>\n",
       "      <td>29.00000</td>\n",
       "    </tr>\n",
       "    <tr>\n",
       "      <th>75%</th>\n",
       "      <td>2022.00000</td>\n",
       "      <td>9.00000</td>\n",
       "      <td>23.00000</td>\n",
       "      <td>17.00000</td>\n",
       "      <td>45.00000</td>\n",
       "      <td>45.00000</td>\n",
       "      <td>2022.00000</td>\n",
       "      <td>9.00000</td>\n",
       "      <td>23.00000</td>\n",
       "      <td>18.00000</td>\n",
       "      <td>45.00000</td>\n",
       "      <td>44.00000</td>\n",
       "    </tr>\n",
       "    <tr>\n",
       "      <th>max</th>\n",
       "      <td>2022.00000</td>\n",
       "      <td>12.00000</td>\n",
       "      <td>31.00000</td>\n",
       "      <td>23.00000</td>\n",
       "      <td>59.00000</td>\n",
       "      <td>59.00000</td>\n",
       "      <td>2022.00000</td>\n",
       "      <td>12.00000</td>\n",
       "      <td>31.00000</td>\n",
       "      <td>23.00000</td>\n",
       "      <td>59.00000</td>\n",
       "      <td>59.00000</td>\n",
       "    </tr>\n",
       "  </tbody>\n",
       "</table>\n",
       "</div>"
      ],
      "text/plain": [
       "             충전시작_년도         충전시작_월         충전시작_일         충전시작_시  \\\n",
       "count 11613449.00000 11613449.00000 11613449.00000 11613449.00000   \n",
       "mean      2021.16059        6.20425       15.80842       13.72640   \n",
       "std          0.77937        3.33015        8.80106        4.95829   \n",
       "min       2020.00000        1.00000        1.00000        0.00000   \n",
       "25%       2021.00000        3.00000        8.00000       10.00000   \n",
       "50%       2021.00000        6.00000       16.00000       14.00000   \n",
       "75%       2022.00000        9.00000       23.00000       17.00000   \n",
       "max       2022.00000       12.00000       31.00000       23.00000   \n",
       "\n",
       "              충전시작_분         충전시작_초        충전종료_년도         충전종료_월  \\\n",
       "count 11613449.00000 11613449.00000 11613449.00000 11613449.00000   \n",
       "mean        29.47740       29.49963     2021.16062        6.20430   \n",
       "std         17.33414       17.31996        0.77937        3.33017   \n",
       "min          0.00000        0.00000     2020.00000        1.00000   \n",
       "25%         14.00000       14.00000     2021.00000        3.00000   \n",
       "50%         29.00000       29.00000     2021.00000        6.00000   \n",
       "75%         45.00000       45.00000     2022.00000        9.00000   \n",
       "max         59.00000       59.00000     2022.00000       12.00000   \n",
       "\n",
       "              충전종료_일         충전종료_시         충전종료_분         충전종료_초  \n",
       "count 11613449.00000 11613449.00000 11613449.00000 11613449.00000  \n",
       "mean        15.80841       14.01221       29.54277       29.45744  \n",
       "std          8.80110        5.07576       17.34527       17.33907  \n",
       "min          1.00000        0.00000        0.00000        0.00000  \n",
       "25%          8.00000       11.00000       15.00000       14.00000  \n",
       "50%         16.00000       14.00000       30.00000       29.00000  \n",
       "75%         23.00000       18.00000       45.00000       44.00000  \n",
       "max         31.00000       23.00000       59.00000       59.00000  "
      ]
     },
     "execution_count": 172,
     "metadata": {},
     "output_type": "execute_result"
    }
   ],
   "source": [
    "time_cols = ['충전시작_년도', '충전시작_월',  '충전시작_일', '충전시작_시', '충전시작_분', '충전시작_초', '충전종료_년도', '충전종료_월', '충전종료_일', '충전종료_시', '충전종료_분', '충전종료_초']\n",
    "df2[time_cols].describe()"
   ]
  },
  {
   "cell_type": "code",
   "execution_count": 173,
   "metadata": {},
   "outputs": [
    {
     "name": "stdout",
     "output_type": "stream",
     "text": [
      "<class 'pandas.core.frame.DataFrame'>\n",
      "RangeIndex: 11613449 entries, 0 to 11613448\n",
      "Data columns (total 2 columns):\n",
      " #   Column   Dtype\n",
      "---  ------   -----\n",
      " 0   충전시작_년도  int32\n",
      " 1   충전종료_년도  int32\n",
      "dtypes: int32(2)\n",
      "memory usage: 88.6 MB\n"
     ]
    }
   ],
   "source": [
    "df2[['충전시작_년도', '충전종료_년도']].info()"
   ]
  },
  {
   "cell_type": "code",
   "execution_count": 174,
   "metadata": {},
   "outputs": [],
   "source": [
    "df2[['충전시작_년도', '충전종료_년도']] = df2[['충전시작_년도', '충전종료_년도']].astype('int16')"
   ]
  },
  {
   "cell_type": "code",
   "execution_count": 175,
   "metadata": {},
   "outputs": [
    {
     "name": "stdout",
     "output_type": "stream",
     "text": [
      "<class 'pandas.core.frame.DataFrame'>\n",
      "RangeIndex: 11613449 entries, 0 to 11613448\n",
      "Data columns (total 2 columns):\n",
      " #   Column   Dtype\n",
      "---  ------   -----\n",
      " 0   충전시작_년도  int16\n",
      " 1   충전종료_년도  int16\n",
      "dtypes: int16(2)\n",
      "memory usage: 44.3 MB\n"
     ]
    }
   ],
   "source": [
    "df2[['충전시작_년도', '충전종료_년도']].info()"
   ]
  },
  {
   "cell_type": "code",
   "execution_count": 55,
   "metadata": {},
   "outputs": [
    {
     "name": "stdout",
     "output_type": "stream",
     "text": [
      "<class 'pandas.core.frame.DataFrame'>\n",
      "Int64Index: 11613449 entries, 0 to 11665821\n",
      "Data columns (total 10 columns):\n",
      " #   Column  Dtype\n",
      "---  ------  -----\n",
      " 0   충전시작_월  int64\n",
      " 1   충전시작_일  int64\n",
      " 2   충전시작_시  int64\n",
      " 3   충전시작_분  int64\n",
      " 4   충전시작_초  int64\n",
      " 5   충전종료_월  int64\n",
      " 6   충전종료_일  int64\n",
      " 7   충전종료_시  int64\n",
      " 8   충전종료_분  int64\n",
      " 9   충전종료_초  int64\n",
      "dtypes: int64(10)\n",
      "memory usage: 974.6 MB\n"
     ]
    }
   ],
   "source": [
    "charge_cols = ['충전시작_월',  '충전시작_일', '충전시작_시', '충전시작_분', '충전시작_초', '충전종료_월', '충전종료_일', '충전종료_시', '충전종료_분', '충전종료_초']\n",
    "df2[charge_cols].info()"
   ]
  },
  {
   "cell_type": "code",
   "execution_count": 176,
   "metadata": {},
   "outputs": [
    {
     "name": "stdout",
     "output_type": "stream",
     "text": [
      "<class 'pandas.core.frame.DataFrame'>\n",
      "RangeIndex: 11613449 entries, 0 to 11613448\n",
      "Data columns (total 10 columns):\n",
      " #   Column  Dtype\n",
      "---  ------  -----\n",
      " 0   충전시작_월  int8 \n",
      " 1   충전시작_일  int8 \n",
      " 2   충전시작_시  int8 \n",
      " 3   충전시작_분  int8 \n",
      " 4   충전시작_초  int8 \n",
      " 5   충전종료_월  int8 \n",
      " 6   충전종료_일  int8 \n",
      " 7   충전종료_시  int8 \n",
      " 8   충전종료_분  int8 \n",
      " 9   충전종료_초  int8 \n",
      "dtypes: int8(10)\n",
      "memory usage: 110.8 MB\n"
     ]
    }
   ],
   "source": [
    "df2[charge_cols] = df2[charge_cols].astype('int8')\n",
    "df2[charge_cols].info()"
   ]
  },
  {
   "cell_type": "code",
   "execution_count": 177,
   "metadata": {},
   "outputs": [
    {
     "name": "stdout",
     "output_type": "stream",
     "text": [
      "<class 'pandas.core.frame.DataFrame'>\n",
      "RangeIndex: 11613449 entries, 0 to 11613448\n",
      "Data columns (total 27 columns):\n",
      " #   Column        Dtype          \n",
      "---  ------        -----          \n",
      " 0   충전소명          object         \n",
      " 1   충전기ID         int16          \n",
      " 2   지역            object         \n",
      " 3   시군구           object         \n",
      " 4   주소            object         \n",
      " 5   충전기타입         object         \n",
      " 6   충전시작일시        int64          \n",
      " 7   충전종료일시        object         \n",
      " 8   충전시간          timedelta64[ns]\n",
      " 9   충전량           float64        \n",
      " 10  충전용량          object         \n",
      " 11  충전시작_년도       int16          \n",
      " 12  충전시작_월        int8           \n",
      " 13  충전시작_일        int8           \n",
      " 14  충전시작_시        int8           \n",
      " 15  충전시작_분        int8           \n",
      " 16  충전시작_초        int8           \n",
      " 17  충전시작일시(변환)    datetime64[ns] \n",
      " 18  충전종료_년도       int16          \n",
      " 19  충전종료_월        int8           \n",
      " 20  충전종료_일        int8           \n",
      " 21  충전종료_시        int8           \n",
      " 22  충전종료_분        int8           \n",
      " 23  충전종료_초        int8           \n",
      " 24  충전종료일시(변환)    datetime64[ns] \n",
      " 25  충전시간(계산)      timedelta64[ns]\n",
      " 26  raw값과_계산값_차이  timedelta64[ns]\n",
      "dtypes: datetime64[ns](2), float64(1), int16(3), int64(1), int8(10), object(7), timedelta64[ns](3)\n",
      "memory usage: 1.4+ GB\n"
     ]
    }
   ],
   "source": [
    "df2.info()"
   ]
  },
  {
   "cell_type": "code",
   "execution_count": 178,
   "metadata": {},
   "outputs": [
    {
     "data": {
      "text/plain": [
       "count   11613449.00000\n",
       "mean           8.59347\n",
       "std           15.08407\n",
       "min            1.00000\n",
       "25%            1.00000\n",
       "50%            1.00000\n",
       "75%           12.00000\n",
       "max           98.00000\n",
       "Name: 충전기ID, dtype: float64"
      ]
     },
     "execution_count": 178,
     "metadata": {},
     "output_type": "execute_result"
    }
   ],
   "source": [
    "df2['충전기ID'].describe()"
   ]
  },
  {
   "cell_type": "code",
   "execution_count": 179,
   "metadata": {},
   "outputs": [
    {
     "name": "stdout",
     "output_type": "stream",
     "text": [
      "<class 'pandas.core.series.Series'>\n",
      "RangeIndex: 11613449 entries, 0 to 11613448\n",
      "Series name: 충전기ID\n",
      "Non-Null Count     Dtype\n",
      "--------------     -----\n",
      "11613449 non-null  int16\n",
      "dtypes: int16(1)\n",
      "memory usage: 22.2 MB\n"
     ]
    }
   ],
   "source": [
    "df2['충전기ID'].info()"
   ]
  },
  {
   "cell_type": "code",
   "execution_count": 64,
   "metadata": {},
   "outputs": [
    {
     "data": {
      "text/plain": [
       "count                     11613449\n",
       "mean     0 days 00:33:51.200344617\n",
       "std      0 days 01:19:04.781739278\n",
       "min                0 days 00:00:00\n",
       "25%                0 days 00:20:53\n",
       "50%                0 days 00:34:02\n",
       "75%                0 days 00:40:00\n",
       "max                4 days 03:56:55\n",
       "Name: 충전시간, dtype: object"
      ]
     },
     "execution_count": 64,
     "metadata": {},
     "output_type": "execute_result"
    }
   ],
   "source": [
    "df2['충전시간'].describe()"
   ]
  },
  {
   "cell_type": "markdown",
   "metadata": {},
   "source": [
    "## 충전시간 정리 파일로 출력"
   ]
  },
  {
   "cell_type": "code",
   "execution_count": 181,
   "metadata": {},
   "outputs": [],
   "source": [
    "df2.to_csv('2020-22년_급속충전-충전시간정리.csv', encoding='utf-8')"
   ]
  },
  {
   "cell_type": "code",
   "execution_count": 182,
   "metadata": {},
   "outputs": [],
   "source": [
    "# df2.to_excel('2020-22년_급속충전-충전시간정리.xlsx', encoding='utf-8') # error : 파일 너무 커서 저장 실패"
   ]
  },
  {
   "cell_type": "markdown",
   "metadata": {},
   "source": [
    "## 충전시간 정리 파일 로드(다시 시작)"
   ]
  },
  {
   "cell_type": "code",
   "execution_count": 4,
   "metadata": {},
   "outputs": [
    {
     "name": "stderr",
     "output_type": "stream",
     "text": [
      "C:\\Users\\kbj\\AppData\\Local\\Temp\\ipykernel_7108\\3489641763.py:1: DtypeWarning: Columns (11) have mixed types. Specify dtype option on import or set low_memory=False.\n",
      "  df2 = pd.read_csv('2020-22년_급속충전-충전시간정리.csv', index_col=0, dtype={'충전시작_년도':np.int16, '충전종료_년도':np.int16, '충전시작_월':np.int8,  '충전시작_일':np.int8, '충전시작_시':np.int8, '충전시작_분':np.int8, '충전시작_초':np.int8, '충전종료_월':np.int8, '충전종료_일':np.int8, '충전종료_시':np.int8, '충전종료_분':np.int8, '충전종료_초':np.int8, '충전기ID':np.int8})\n"
     ]
    },
    {
     "name": "stdout",
     "output_type": "stream",
     "text": [
      "<class 'pandas.core.frame.DataFrame'>\n",
      "Int64Index: 11613449 entries, 0 to 11613448\n",
      "Data columns (total 27 columns):\n",
      " #   Column        Dtype          \n",
      "---  ------        -----          \n",
      " 0   충전소명          object         \n",
      " 1   충전기ID         int8           \n",
      " 2   지역            object         \n",
      " 3   시군구           object         \n",
      " 4   주소            object         \n",
      " 5   충전기타입         object         \n",
      " 6   충전시작일시        int64          \n",
      " 7   충전종료일시        int64          \n",
      " 8   충전시간          timedelta64[ns]\n",
      " 9   충전량           float64        \n",
      " 10  충전용량          object         \n",
      " 11  충전시작_년도       int16          \n",
      " 12  충전시작_월        int8           \n",
      " 13  충전시작_일        int8           \n",
      " 14  충전시작_시        int8           \n",
      " 15  충전시작_분        int8           \n",
      " 16  충전시작_초        int8           \n",
      " 17  충전시작일시(변환)    object         \n",
      " 18  충전종료_년도       int16          \n",
      " 19  충전종료_월        int8           \n",
      " 20  충전종료_일        int8           \n",
      " 21  충전종료_시        int8           \n",
      " 22  충전종료_분        int8           \n",
      " 23  충전종료_초        int8           \n",
      " 24  충전종료일시(변환)    object         \n",
      " 25  충전시간(계산)      timedelta64[ns]\n",
      " 26  raw값과_계산값_차이  object         \n",
      "dtypes: float64(1), int16(2), int64(2), int8(11), object(9), timedelta64[ns](2)\n",
      "memory usage: 1.5+ GB\n"
     ]
    }
   ],
   "source": [
    "# df2 = pd.read_csv('2020-22년_급속충전-충전시간정리.csv', index_col=0, dtype={'충전시작_년도':np.int16, '충전종료_년도':np.int16, '충전시작_월':np.int8,  '충전시작_일':np.int8, '충전시작_시':np.int8, '충전시작_분':np.int8, '충전시작_초':np.int8, '충전종료_월':np.int8, '충전종료_일':np.int8, '충전종료_시':np.int8, '충전종료_분':np.int8, '충전종료_초':np.int8, '충전기ID':np.int8})\n",
    "# df2['충전시간'] = pd.to_timedelta(df2['충전시간'])\n",
    "# df2['충전시간(계산)'] = pd.to_timedelta(df2['충전시간(계산)'])\n",
    "# df2 = df2.reset_index(drop=True)\n",
    "# df2.info()"
   ]
  },
  {
   "cell_type": "markdown",
   "metadata": {},
   "source": [
    "#### 데이터 절약"
   ]
  },
  {
   "cell_type": "code",
   "execution_count": 5,
   "metadata": {},
   "outputs": [],
   "source": [
    "# df2[['충전시작_년도', '충전종료_년도']] = df2[['충전시작_년도', '충전종료_년도']].astype('int16')\n",
    "# charge_cols = ['충전시작_월',  '충전시작_일', '충전시작_시', '충전시작_분', '충전시작_초', '충전종료_월', '충전종료_일', '충전종료_시', '충전종료_분', '충전종료_초']\n",
    "# df2[charge_cols] = df2[charge_cols].astype('int8')\n",
    "# df2['충전기ID'] = df2['충전기ID'].astype('int8')\n",
    "# df2[charge_cols].info()"
   ]
  },
  {
   "cell_type": "markdown",
   "metadata": {},
   "source": [
    "## 분석"
   ]
  },
  {
   "cell_type": "markdown",
   "metadata": {},
   "source": [
    "### 년도/지역별 충전시간, 충전량 통계\n",
    "- 총 충전시간, 총 충전량"
   ]
  },
  {
   "cell_type": "markdown",
   "metadata": {},
   "source": [
    "#### 연도, 지역별 총 충전시간"
   ]
  },
  {
   "cell_type": "code",
   "execution_count": 9,
   "metadata": {},
   "outputs": [
    {
     "data": {
      "text/plain": [
       "지역    시군구\n",
       "강원도   강릉시   2000 days 10:06:29\n",
       "      고성군    342 days 10:02:43\n",
       "      동해시   1281 days 14:11:21\n",
       "      삼척시    801 days 16:11:31\n",
       "      속초시    894 days 04:56:14\n",
       "                   ...        \n",
       "충청북도  제천시   1138 days 18:12:40\n",
       "      증평군    154 days 17:00:42\n",
       "      진천군   1108 days 10:33:16\n",
       "      청주시   5926 days 17:03:39\n",
       "      충주시   3080 days 13:36:25\n",
       "Name: 충전시간, Length: 252, dtype: timedelta64[ns]"
      ]
     },
     "execution_count": 9,
     "metadata": {},
     "output_type": "execute_result"
    }
   ],
   "source": [
    "total_charge_time_l = df2.groupby(['지역', '시군구'])['충전시간'].sum()\n",
    "total_charge_time_l"
   ]
  },
  {
   "cell_type": "code",
   "execution_count": 6,
   "metadata": {},
   "outputs": [
    {
     "data": {
      "text/plain": [
       "충전시작_년도\n",
       "2020             89296 days 01:56:46\n",
       "2021             88766 days 15:01:20\n",
       "2022   94960 days 22:08:44.999999488\n",
       "Name: 충전시간, dtype: timedelta64[ns]"
      ]
     },
     "execution_count": 6,
     "metadata": {},
     "output_type": "execute_result"
    }
   ],
   "source": [
    "total_charge_time_y = df2.groupby(['충전시작_년도'])['충전시간'].sum()\n",
    "total_charge_time_y"
   ]
  },
  {
   "cell_type": "code",
   "execution_count": 7,
   "metadata": {},
   "outputs": [
    {
     "data": {
      "text/plain": [
       "충전시작_년도  지역     \n",
       "2020     강원도        6148 days 10:01:35\n",
       "         경기도       13840 days 18:55:17\n",
       "         경상남도       4730 days 02:41:21\n",
       "         경상북도      11275 days 13:47:49\n",
       "         광주광역시      1824 days 08:01:38\n",
       "         대구광역시      3112 days 19:53:59\n",
       "         대전광역시      2662 days 07:41:09\n",
       "         부산광역시      2020 days 11:30:21\n",
       "         서울특별시      6382 days 09:09:38\n",
       "         세종특별자치시     568 days 20:38:10\n",
       "         울산광역시      1634 days 16:25:51\n",
       "         인천광역시      3482 days 21:46:27\n",
       "         전라남도       5581 days 05:29:41\n",
       "         전라북도       5187 days 09:00:55\n",
       "         제주특별자치도    8284 days 00:42:42\n",
       "         충청남도       6550 days 05:43:33\n",
       "         충청북도       6009 days 12:26:40\n",
       "2021     강원도        6241 days 13:48:26\n",
       "         경기도       14241 days 04:13:44\n",
       "         경상남도       7025 days 11:04:01\n",
       "         경상북도      10720 days 02:23:57\n",
       "         광주광역시      1537 days 21:59:15\n",
       "         대구광역시      3023 days 14:48:01\n",
       "         대전광역시      2665 days 16:03:49\n",
       "         부산광역시      2225 days 08:29:06\n",
       "         서울특별시      6981 days 21:42:07\n",
       "         세종특별자치시     571 days 14:02:22\n",
       "         울산광역시      1377 days 03:29:27\n",
       "         인천광역시      3400 days 22:41:13\n",
       "         전라남도       4808 days 23:36:01\n",
       "         전라북도       5284 days 09:17:53\n",
       "         제주특별자치도    5053 days 02:05:17\n",
       "         충청남도       7420 days 18:38:10\n",
       "         충청북도       6186 days 22:38:31\n",
       "2022     강원도        7004 days 08:25:44\n",
       "         경기도       16861 days 23:09:49\n",
       "         경상남도       7638 days 04:01:35\n",
       "         경상북도      10627 days 02:55:34\n",
       "         광주광역시      1663 days 18:52:01\n",
       "         대구광역시      2723 days 01:22:57\n",
       "         대전광역시      2606 days 13:53:42\n",
       "         부산광역시      2395 days 10:57:23\n",
       "         서울특별시      7322 days 02:25:28\n",
       "         세종특별자치시     406 days 23:52:05\n",
       "         울산광역시      2037 days 16:22:05\n",
       "         인천광역시      4315 days 17:20:41\n",
       "         전라남도       5139 days 16:14:04\n",
       "         전라북도       6138 days 23:44:48\n",
       "         제주특별자치도    3648 days 22:41:38\n",
       "         충청남도       7630 days 11:38:16\n",
       "         충청북도       6799 days 20:10:55\n",
       "Name: 충전시간, dtype: timedelta64[ns]"
      ]
     },
     "execution_count": 7,
     "metadata": {},
     "output_type": "execute_result"
    }
   ],
   "source": [
    "total_charge_time_yl = df2.groupby(['충전시작_년도', '지역'])['충전시간'].sum()\n",
    "total_charge_time_yl"
   ]
  },
  {
   "cell_type": "code",
   "execution_count": 8,
   "metadata": {},
   "outputs": [
    {
     "data": {
      "text/plain": [
       "충전시작_년도  지역    시군구\n",
       "2020     강원도   강릉시    410 days 15:28:29\n",
       "               고성군     62 days 20:02:16\n",
       "               동해시    708 days 22:49:15\n",
       "               삼척시    210 days 20:42:17\n",
       "               속초시    194 days 05:11:37\n",
       "                            ...        \n",
       "2022     충청북도  제천시    393 days 12:09:25\n",
       "               증평군     62 days 12:48:55\n",
       "               진천군    271 days 04:46:10\n",
       "               청주시   2235 days 01:32:44\n",
       "               충주시   1141 days 00:21:33\n",
       "Name: 충전시간, Length: 744, dtype: timedelta64[ns]"
      ]
     },
     "execution_count": 8,
     "metadata": {},
     "output_type": "execute_result"
    }
   ],
   "source": [
    "total_charge_time_yl2 = df2.groupby(['충전시작_년도', '지역', '시군구'])['충전시간'].sum()\n",
    "total_charge_time_yl2"
   ]
  },
  {
   "cell_type": "markdown",
   "metadata": {},
   "source": [
    "##### 연도/지역별 총 충전시간 파일 출력"
   ]
  },
  {
   "cell_type": "code",
   "execution_count": 10,
   "metadata": {},
   "outputs": [],
   "source": [
    "total_charge_time_group = pd.ExcelWriter('분석/2020-22년_연도_지역별_충전시간.xlsx')\n",
    "total_charge_time_l.to_excel(total_charge_time_group, sheet_name='시군구별')\n",
    "total_charge_time_y.to_excel(total_charge_time_group, sheet_name='년도별')\n",
    "total_charge_time_yl.to_excel(total_charge_time_group, sheet_name='년도지역별')\n",
    "total_charge_time_yl2.to_excel(total_charge_time_group, sheet_name='년도시군구별')\n",
    "total_charge_time_group.save()"
   ]
  },
  {
   "cell_type": "markdown",
   "metadata": {},
   "source": [
    "#### 지역/연도별 총 충전량 합계"
   ]
  },
  {
   "cell_type": "code",
   "execution_count": 11,
   "metadata": {},
   "outputs": [
    {
     "data": {
      "text/plain": [
       "지역    시군구\n",
       "강원도   강릉시   1857604.33000\n",
       "      고성군    369691.09000\n",
       "      동해시    701535.12000\n",
       "      삼척시    716323.83000\n",
       "      속초시    860865.62000\n",
       "                 ...     \n",
       "충청북도  제천시    999654.99000\n",
       "      증평군    155696.15000\n",
       "      진천군    591631.10000\n",
       "      청주시   5178912.01000\n",
       "      충주시   2493316.51000\n",
       "Name: 충전량, Length: 252, dtype: float64"
      ]
     },
     "execution_count": 11,
     "metadata": {},
     "output_type": "execute_result"
    }
   ],
   "source": [
    "total_charge_vol_l = df2.groupby(['지역', '시군구'])['충전량'].sum()\n",
    "total_charge_vol_l"
   ]
  },
  {
   "cell_type": "code",
   "execution_count": 12,
   "metadata": {},
   "outputs": [
    {
     "data": {
      "text/plain": [
       "충전시작_년도\n",
       "2020   46811133.65000\n",
       "2021   80999447.99000\n",
       "2022   97428562.80000\n",
       "Name: 충전량, dtype: float64"
      ]
     },
     "execution_count": 12,
     "metadata": {},
     "output_type": "execute_result"
    }
   ],
   "source": [
    "total_charge_vol_y = df2.groupby(['충전시작_년도'])['충전량'].sum()\n",
    "total_charge_vol_y"
   ]
  },
  {
   "cell_type": "code",
   "execution_count": 13,
   "metadata": {},
   "outputs": [
    {
     "data": {
      "text/plain": [
       "충전시작_년도  지역     \n",
       "2020     강원도        2989184.45000\n",
       "         경기도        7010474.66000\n",
       "         경상남도       3167694.35000\n",
       "         경상북도       5910919.27000\n",
       "         광주광역시       754169.55000\n",
       "         대구광역시      2146057.41000\n",
       "         대전광역시      1293125.47000\n",
       "         부산광역시      1062800.58000\n",
       "         서울특별시      3316642.81000\n",
       "         세종특별자치시     317304.54000\n",
       "         울산광역시       780398.72000\n",
       "         인천광역시      1348635.13000\n",
       "         전라남도       2539533.61000\n",
       "         전라북도       2497671.17000\n",
       "         제주특별자치도    4802271.95000\n",
       "         충청남도       3916231.72000\n",
       "         충청북도       2958018.26000\n",
       "2021     강원도        5871167.90000\n",
       "         경기도       13035269.15000\n",
       "         경상남도       6517862.71000\n",
       "         경상북도      10042405.83000\n",
       "         광주광역시      1445372.51000\n",
       "         대구광역시      2783647.75000\n",
       "         대전광역시      2351933.04000\n",
       "         부산광역시      1921385.39000\n",
       "         서울특별시      5851317.95000\n",
       "         세종특별자치시     525703.96000\n",
       "         울산광역시      1304336.52000\n",
       "         인천광역시      3110031.03000\n",
       "         전라남도       4500415.62000\n",
       "         전라북도       5038784.96000\n",
       "         제주특별자치도    4046350.29000\n",
       "         충청남도       6958596.18000\n",
       "         충청북도       5694867.20000\n",
       "2022     강원도        7372220.13000\n",
       "         경기도       16997906.70000\n",
       "         경상남도       8091867.96000\n",
       "         경상북도      11235626.40000\n",
       "         광주광역시      1735726.28000\n",
       "         대구광역시      2912572.29000\n",
       "         대전광역시      2531314.28000\n",
       "         부산광역시      2421477.37000\n",
       "         서울특별시      6878092.09000\n",
       "         세종특별자치시     455896.14000\n",
       "         울산광역시      2244564.88000\n",
       "         인천광역시      4362413.48000\n",
       "         전라남도       5561356.99000\n",
       "         전라북도       6467173.96000\n",
       "         제주특별자치도    3359101.56000\n",
       "         충청남도       7933890.17000\n",
       "         충청북도       6867362.12000\n",
       "Name: 충전량, dtype: float64"
      ]
     },
     "execution_count": 13,
     "metadata": {},
     "output_type": "execute_result"
    }
   ],
   "source": [
    "total_charge_vol_yl = df2.groupby(['충전시작_년도', '지역'])['충전량'].sum()\n",
    "total_charge_vol_yl"
   ]
  },
  {
   "cell_type": "code",
   "execution_count": 14,
   "metadata": {},
   "outputs": [
    {
     "data": {
      "text/plain": [
       "충전시작_년도  지역    시군구\n",
       "2020     강원도   강릉시    298971.29000\n",
       "               고성군     47163.01000\n",
       "               동해시     91053.80000\n",
       "               삼척시    130089.39000\n",
       "               속초시    142168.72000\n",
       "                          ...     \n",
       "2022     충청북도  제천시    416637.20000\n",
       "               증평군     63544.97000\n",
       "               진천군    277948.46000\n",
       "               청주시   2263350.46000\n",
       "               충주시   1161811.42000\n",
       "Name: 충전량, Length: 744, dtype: float64"
      ]
     },
     "execution_count": 14,
     "metadata": {},
     "output_type": "execute_result"
    }
   ],
   "source": [
    "total_charge_vol_yl2 = df2.groupby(['충전시작_년도', '지역', '시군구'])['충전량'].sum()\n",
    "total_charge_vol_yl2"
   ]
  },
  {
   "cell_type": "markdown",
   "metadata": {},
   "source": [
    "##### 년도/지역별 총 충전량 출력"
   ]
  },
  {
   "cell_type": "code",
   "execution_count": 15,
   "metadata": {},
   "outputs": [],
   "source": [
    "total_charge_vol_group = pd.ExcelWriter('분석/2020-22년_연도_지역별_충전량.xlsx')\n",
    "total_charge_vol_l.to_excel(total_charge_vol_group, sheet_name='시군구별')\n",
    "total_charge_vol_y.to_excel(total_charge_vol_group, sheet_name='년도별')\n",
    "total_charge_vol_yl.to_excel(total_charge_vol_group, sheet_name='년도지역별')\n",
    "total_charge_vol_yl2.to_excel(total_charge_vol_group, sheet_name='년도시군구별')\n",
    "total_charge_vol_group.save()"
   ]
  },
  {
   "cell_type": "markdown",
   "metadata": {},
   "source": [
    "### 년도, 월별 충전시간, 충전량 통계\n",
    "- 총 충전시간, 총 충전량"
   ]
  },
  {
   "cell_type": "markdown",
   "metadata": {},
   "source": [
    "#### 년도/월별 총 충전시간"
   ]
  },
  {
   "cell_type": "code",
   "execution_count": 17,
   "metadata": {},
   "outputs": [
    {
     "data": {
      "text/plain": [
       "충전시작_년도\n",
       "2020             89296 days 01:56:46\n",
       "2021             88766 days 15:01:20\n",
       "2022   94960 days 22:08:44.999999488\n",
       "Name: 충전시간, dtype: timedelta64[ns]"
      ]
     },
     "execution_count": 17,
     "metadata": {},
     "output_type": "execute_result"
    }
   ],
   "source": [
    "charge_time_y = df2.groupby(['충전시작_년도'])['충전시간'].sum()\n",
    "charge_time_y"
   ]
  },
  {
   "cell_type": "code",
   "execution_count": 16,
   "metadata": {},
   "outputs": [
    {
     "data": {
      "text/plain": [
       "충전시작_년도  충전시작_월\n",
       "2020     1         4844 days 06:04:49\n",
       "         2         3807 days 14:53:40\n",
       "         3         4220 days 18:42:13\n",
       "         4         5200 days 19:02:23\n",
       "         5         6698 days 16:05:39\n",
       "         6         8425 days 07:42:45\n",
       "         7         9948 days 17:47:42\n",
       "         8         9994 days 13:12:00\n",
       "         9         7887 days 09:02:08\n",
       "         10        9809 days 02:56:50\n",
       "         11        9686 days 05:46:34\n",
       "         12        8772 days 14:40:03\n",
       "2021     1         6700 days 00:31:35\n",
       "         2         5972 days 01:10:01\n",
       "         3         6318 days 03:25:10\n",
       "         4         5981 days 18:18:29\n",
       "         5         5934 days 01:30:44\n",
       "         6         5927 days 10:26:42\n",
       "         7         6999 days 08:35:22\n",
       "         8         7217 days 06:09:09\n",
       "         9         7222 days 08:48:45\n",
       "         10        8611 days 17:43:58\n",
       "         11       10017 days 21:16:40\n",
       "         12       11864 days 13:04:45\n",
       "2022     1        11766 days 19:03:00\n",
       "         2         9909 days 20:56:47\n",
       "         3        10833 days 12:08:33\n",
       "         4        11210 days 01:08:59\n",
       "         5        12025 days 11:31:03\n",
       "         6        12032 days 13:22:44\n",
       "         7        13605 days 05:53:35\n",
       "         8        13577 days 10:04:04\n",
       "Name: 충전시간, dtype: timedelta64[ns]"
      ]
     },
     "execution_count": 16,
     "metadata": {},
     "output_type": "execute_result"
    }
   ],
   "source": [
    "charge_time_ym = df2.groupby(['충전시작_년도', '충전시작_월'])['충전시간'].sum()\n",
    "charge_time_ym"
   ]
  },
  {
   "cell_type": "code",
   "execution_count": 20,
   "metadata": {},
   "outputs": [],
   "source": [
    "total_charge_time_group_ym = pd.ExcelWriter('분석/2020-22년_급속충전_년월별_총_충전시간.xlsx')\n",
    "charge_time_y.to_excel(total_charge_time_group_ym, sheet_name='연도별')\n",
    "charge_time_ym.to_excel(total_charge_time_group_ym, sheet_name='연도월별')\n",
    "total_charge_time_group_ym.save()"
   ]
  },
  {
   "cell_type": "markdown",
   "metadata": {},
   "source": [
    "#### 년도/월별 총 충전시간(계산)"
   ]
  },
  {
   "cell_type": "code",
   "execution_count": 21,
   "metadata": {},
   "outputs": [
    {
     "data": {
      "text/plain": [
       "충전시작_년도\n",
       "2020    84050 days 00:29:12.999999488\n",
       "2021    95417 days 01:17:47.000000512\n",
       "2022   102616 days 02:40:48.999999488\n",
       "Name: 충전시간(계산), dtype: timedelta64[ns]"
      ]
     },
     "execution_count": 21,
     "metadata": {},
     "output_type": "execute_result"
    }
   ],
   "source": [
    "cal_charge_time_y = df2.groupby(['충전시작_년도'])['충전시간(계산)'].sum()\n",
    "cal_charge_time_y"
   ]
  },
  {
   "cell_type": "code",
   "execution_count": 22,
   "metadata": {},
   "outputs": [
    {
     "data": {
      "text/plain": [
       "충전시작_년도  충전시작_월\n",
       "2020     1         5111 days 07:36:54\n",
       "         2         4030 days 10:04:17\n",
       "         3         4128 days 11:36:27\n",
       "         4         4900 days 20:11:06\n",
       "         5         6183 days 22:26:24\n",
       "         6         7541 days 18:02:20\n",
       "         7         8763 days 12:15:12\n",
       "         8         8909 days 04:45:22\n",
       "         9         7116 days 07:09:15\n",
       "         10        9042 days 04:42:48\n",
       "         11        9503 days 08:37:36\n",
       "         12        8818 days 17:01:32\n",
       "2021     1         6970 days 17:06:06\n",
       "         2         6278 days 23:23:36\n",
       "         3         6597 days 16:40:25\n",
       "         4         6267 days 11:25:41\n",
       "         5         6229 days 08:51:42\n",
       "         6         6233 days 16:48:38\n",
       "         7         7350 days 13:25:41\n",
       "         8         7941 days 11:25:24\n",
       "         9         8056 days 00:14:44\n",
       "         10        9592 days 22:42:28\n",
       "         11       10994 days 09:48:00\n",
       "         12       12903 days 17:25:22\n",
       "2022     1        12766 days 06:53:00\n",
       "         2        10760 days 18:15:50\n",
       "         3        11820 days 02:18:10\n",
       "         4        12187 days 02:13:02\n",
       "         5        13126 days 15:54:21\n",
       "         6        13076 days 21:10:27\n",
       "         7        14502 days 02:56:44\n",
       "         8        14376 days 04:59:15\n",
       "Name: 충전시간(계산), dtype: timedelta64[ns]"
      ]
     },
     "execution_count": 22,
     "metadata": {},
     "output_type": "execute_result"
    }
   ],
   "source": [
    "cal_charge_time_ym = df2.groupby(['충전시작_년도', '충전시작_월'])['충전시간(계산)'].sum()\n",
    "cal_charge_time_ym"
   ]
  },
  {
   "cell_type": "code",
   "execution_count": 23,
   "metadata": {},
   "outputs": [],
   "source": [
    "total_cal_charge_time_group_ym = pd.ExcelWriter('분석/2020-22년_급속충전_년월별_총_충전시간(계산).xlsx')\n",
    "cal_charge_time_y.to_excel(total_cal_charge_time_group_ym, sheet_name='연도별')\n",
    "cal_charge_time_ym.to_excel(total_cal_charge_time_group_ym, sheet_name='연도월별')\n",
    "total_cal_charge_time_group_ym.save()"
   ]
  },
  {
   "cell_type": "markdown",
   "metadata": {},
   "source": [
    "#### 년도/월별 총 충전량"
   ]
  },
  {
   "cell_type": "code",
   "execution_count": 24,
   "metadata": {},
   "outputs": [
    {
     "data": {
      "text/plain": [
       "충전시작_년도\n",
       "2020   46811133.65000\n",
       "2021   80999447.99000\n",
       "2022   97428562.80000\n",
       "Name: 충전량, dtype: float64"
      ]
     },
     "execution_count": 24,
     "metadata": {},
     "output_type": "execute_result"
    }
   ],
   "source": [
    "cal_charge_vol_y = df2.groupby(['충전시작_년도'])['충전량'].sum()\n",
    "cal_charge_vol_y"
   ]
  },
  {
   "cell_type": "code",
   "execution_count": 25,
   "metadata": {},
   "outputs": [
    {
     "data": {
      "text/plain": [
       "충전시작_년도  충전시작_월\n",
       "2020     1         3728407.76000\n",
       "         2         2923554.69000\n",
       "         3         2868303.28000\n",
       "         4         3029906.70000\n",
       "         5         3364357.94000\n",
       "         6         3562807.86000\n",
       "         7         3794918.35000\n",
       "         8         4398191.42000\n",
       "         9         3893530.88000\n",
       "         10        4855642.05000\n",
       "         11        5046230.77000\n",
       "         12        5345281.95000\n",
       "2021     1         4985581.43000\n",
       "         2         4688077.46000\n",
       "         3         5284216.30000\n",
       "         4         5254442.52000\n",
       "         5         5396621.91000\n",
       "         6         5646845.23000\n",
       "         7         6912348.98000\n",
       "         8         7154868.40000\n",
       "         9         7228810.76000\n",
       "         10        8412678.23000\n",
       "         11        9455615.51000\n",
       "         12       10579341.26000\n",
       "2022     1        10302203.67000\n",
       "         2         8714278.79000\n",
       "         3        10292070.61000\n",
       "         4        11457488.60000\n",
       "         5        12850982.38000\n",
       "         6        13187238.69000\n",
       "         7        15196951.74000\n",
       "         8        15427348.32000\n",
       "Name: 충전량, dtype: float64"
      ]
     },
     "execution_count": 25,
     "metadata": {},
     "output_type": "execute_result"
    }
   ],
   "source": [
    "cal_charge_vol_ym = df2.groupby(['충전시작_년도', '충전시작_월'])['충전량'].sum()\n",
    "cal_charge_vol_ym"
   ]
  },
  {
   "cell_type": "code",
   "execution_count": 26,
   "metadata": {},
   "outputs": [],
   "source": [
    "total_charge_vol_group_ym = pd.ExcelWriter('분석/2020-22년_급속충전_년월별_총_충전량.xlsx')\n",
    "cal_charge_vol_y.to_excel(total_charge_vol_group_ym, sheet_name='년도별')\n",
    "cal_charge_vol_ym.to_excel(total_charge_vol_group_ym, sheet_name='년도월별')\n",
    "total_charge_vol_group_ym.save()"
   ]
  },
  {
   "cell_type": "markdown",
   "metadata": {},
   "source": [
    "## 데이터 로드(다시 시작)"
   ]
  },
  {
   "cell_type": "code",
   "execution_count": 16,
   "metadata": {},
   "outputs": [
    {
     "name": "stderr",
     "output_type": "stream",
     "text": [
      "C:\\Users\\kbj\\AppData\\Local\\Temp\\ipykernel_13392\\3053455079.py:1: DtypeWarning: Columns (11) have mixed types. Specify dtype option on import or set low_memory=False.\n",
      "  df2 = pd.read_csv('2020-22년_급속충전-충전시간정리.csv', index_col=0, dtype={'충전시작_년도':np.int16, '충전종료_년도':np.int16, '충전시작_월':np.int8,  '충전시작_일':np.int8, '충전시작_시':np.int8, '충전시작_분':np.int8, '충전시작_초':np.int8, '충전종료_월':np.int8, '충전종료_일':np.int8, '충전종료_시':np.int8, '충전종료_분':np.int8, '충전종료_초':np.int8, '충전기ID':np.int8})\n"
     ]
    },
    {
     "name": "stdout",
     "output_type": "stream",
     "text": [
      "<class 'pandas.core.frame.DataFrame'>\n",
      "RangeIndex: 11613449 entries, 0 to 11613448\n",
      "Data columns (total 27 columns):\n",
      " #   Column        Dtype          \n",
      "---  ------        -----          \n",
      " 0   충전소명          object         \n",
      " 1   충전기ID         int8           \n",
      " 2   지역            object         \n",
      " 3   시군구           object         \n",
      " 4   주소            object         \n",
      " 5   충전기타입         object         \n",
      " 6   충전시작일시        int64          \n",
      " 7   충전종료일시        int64          \n",
      " 8   충전시간          timedelta64[ns]\n",
      " 9   충전량           float64        \n",
      " 10  충전용량          object         \n",
      " 11  충전시작_년도       int16          \n",
      " 12  충전시작_월        int8           \n",
      " 13  충전시작_일        int8           \n",
      " 14  충전시작_시        int8           \n",
      " 15  충전시작_분        int8           \n",
      " 16  충전시작_초        int8           \n",
      " 17  충전시작일시(변환)    object         \n",
      " 18  충전종료_년도       int16          \n",
      " 19  충전종료_월        int8           \n",
      " 20  충전종료_일        int8           \n",
      " 21  충전종료_시        int8           \n",
      " 22  충전종료_분        int8           \n",
      " 23  충전종료_초        int8           \n",
      " 24  충전종료일시(변환)    object         \n",
      " 25  충전시간(계산)      timedelta64[ns]\n",
      " 26  raw값과_계산값_차이  object         \n",
      "dtypes: float64(1), int16(2), int64(2), int8(11), object(9), timedelta64[ns](2)\n",
      "memory usage: 1.4+ GB\n"
     ]
    }
   ],
   "source": [
    "df2 = pd.read_csv('2020-22년_급속충전-충전시간정리.csv', index_col=0, dtype={'충전시작_년도':np.int16, '충전종료_년도':np.int16, '충전시작_월':np.int8,  '충전시작_일':np.int8, '충전시작_시':np.int8, '충전시작_분':np.int8, '충전시작_초':np.int8, '충전종료_월':np.int8, '충전종료_일':np.int8, '충전종료_시':np.int8, '충전종료_분':np.int8, '충전종료_초':np.int8, '충전기ID':np.int8})\n",
    "df2['충전시간'] = pd.to_timedelta(df2['충전시간'])\n",
    "df2['충전시간(계산)'] = pd.to_timedelta(df2['충전시간(계산)'])\n",
    "df2 = df2.reset_index(drop=True)\n",
    "df2.info()"
   ]
  },
  {
   "cell_type": "markdown",
   "metadata": {},
   "source": [
    "## 주소 분리\n",
    "- 샘플수\n",
    "    - 신주소 : 7,755,902 개\n",
    "    - 구주소 : 3,857,547 개\n",
    "- 한 주소에 2개 다른 주소가 입력\n",
    "    - 동일 지역\n",
    "        - 신주소 : 20,837개\n",
    "        - 구주소 : 99,756개\n",
    "    - 다른 지역\n",
    "        - 신주소 : 0개\n",
    "        - 구주소 : 5,427개\n",
    "    - raw데이터의 입력값 지역이 있는 주소로 병합\n",
    "        - 예시) 전라남도 무안군 청계면 영산로 1854-16 전라남도 무안군 청계면 영산로 1854-16 -> 전라남도 무안군 청계면 영산로 1854-16\n",
    "        - 예시) 충청남도 청양군 청양읍 군량리 533 충청남도 태안군 소원면 신덕리 272 -> 충청남도 청양군 청양읍 군량리 533\n",
    "        - 예시) 전라북도 순창군 풍산면 반월리 12-4 충청남도 공주시 탄천면 삼각리 523-2 -> 전라북도 순창군 풍산면 반월리 12-4\n",
    "- 도로명 수정\n",
    "    - \"도로명주소 안내\" 참고하여 지역 코드와 맞추기위해\n",
    "        - 예시) 첨단 벤처로 108번길 -> 첨단벤처로108번길"
   ]
  },
  {
   "cell_type": "markdown",
   "metadata": {},
   "source": [
    "### 특이주소 처리\n",
    "- '경상북도 경주시 천원2길 9 경북 경주시 교동 153-5'\n",
    "    - 6463 개\n",
    "- ~~지역과 주소가 다른 경우~~\n",
    "    - ~~지역 : 제주특별자치도 제주시~~\n",
    "    - ~~주소 : 강남구 양재대로31길~~\n",
    "    \n",
    "    => for문안에 정규표현식 적용시 변수명 잘못 지정하여 발생한 문제\n",
    "- '충청북도 단양군 영춘면 온달평강3로 9 온달평강3로 9-1'"
   ]
  },
  {
   "cell_type": "code",
   "execution_count": 17,
   "metadata": {},
   "outputs": [
    {
     "data": {
      "text/html": [
       "<div>\n",
       "<style scoped>\n",
       "    .dataframe tbody tr th:only-of-type {\n",
       "        vertical-align: middle;\n",
       "    }\n",
       "\n",
       "    .dataframe tbody tr th {\n",
       "        vertical-align: top;\n",
       "    }\n",
       "\n",
       "    .dataframe thead th {\n",
       "        text-align: right;\n",
       "    }\n",
       "</style>\n",
       "<table border=\"1\" class=\"dataframe\">\n",
       "  <thead>\n",
       "    <tr style=\"text-align: right;\">\n",
       "      <th></th>\n",
       "      <th>충전소명</th>\n",
       "      <th>충전기ID</th>\n",
       "      <th>지역</th>\n",
       "      <th>시군구</th>\n",
       "      <th>주소</th>\n",
       "      <th>충전기타입</th>\n",
       "      <th>충전시작일시</th>\n",
       "      <th>충전종료일시</th>\n",
       "      <th>충전시간</th>\n",
       "      <th>충전량</th>\n",
       "      <th>...</th>\n",
       "      <th>충전시작일시(변환)</th>\n",
       "      <th>충전종료_년도</th>\n",
       "      <th>충전종료_월</th>\n",
       "      <th>충전종료_일</th>\n",
       "      <th>충전종료_시</th>\n",
       "      <th>충전종료_분</th>\n",
       "      <th>충전종료_초</th>\n",
       "      <th>충전종료일시(변환)</th>\n",
       "      <th>충전시간(계산)</th>\n",
       "      <th>raw값과_계산값_차이</th>\n",
       "    </tr>\n",
       "  </thead>\n",
       "  <tbody>\n",
       "  </tbody>\n",
       "</table>\n",
       "<p>0 rows × 27 columns</p>\n",
       "</div>"
      ],
      "text/plain": [
       "Empty DataFrame\n",
       "Columns: [충전소명, 충전기ID, 지역, 시군구, 주소, 충전기타입, 충전시작일시, 충전종료일시, 충전시간, 충전량, 충전용량, 충전시작_년도, 충전시작_월, 충전시작_일, 충전시작_시, 충전시작_분, 충전시작_초, 충전시작일시(변환), 충전종료_년도, 충전종료_월, 충전종료_일, 충전종료_시, 충전종료_분, 충전종료_초, 충전종료일시(변환), 충전시간(계산), raw값과_계산값_차이]\n",
       "Index: []\n",
       "\n",
       "[0 rows x 27 columns]"
      ]
     },
     "execution_count": 17,
     "metadata": {},
     "output_type": "execute_result"
    }
   ],
   "source": [
    "df2[(df2['지역'] != '서울특별시') & (df2['주소'] == '강남구 양재대로31길')]"
   ]
  },
  {
   "cell_type": "code",
   "execution_count": 26,
   "metadata": {},
   "outputs": [
    {
     "data": {
      "text/plain": [
       "0"
      ]
     },
     "execution_count": 26,
     "metadata": {},
     "output_type": "execute_result"
    }
   ],
   "source": [
    "sp_text = '경상북도 경주시 천원2길 9 경북 경주시 교동 153-5'\n",
    "sp_idx = df2[df2['주소'] == sp_text].index\n",
    "len(sp_idx)"
   ]
  },
  {
   "cell_type": "code",
   "execution_count": 19,
   "metadata": {},
   "outputs": [
    {
     "data": {
      "text/plain": [
       "Int64Index([5929, 6279, 6615, 7493, 9248], dtype='int64')"
      ]
     },
     "execution_count": 19,
     "metadata": {},
     "output_type": "execute_result"
    }
   ],
   "source": [
    "sp_idx[:5]"
   ]
  },
  {
   "cell_type": "code",
   "execution_count": 20,
   "metadata": {},
   "outputs": [
    {
     "data": {
      "text/plain": [
       "5929    경상북도 경주시 천원2길 9 경북 경주시 교동 153-5\n",
       "6279    경상북도 경주시 천원2길 9 경북 경주시 교동 153-5\n",
       "Name: 주소, dtype: object"
      ]
     },
     "execution_count": 20,
     "metadata": {},
     "output_type": "execute_result"
    }
   ],
   "source": [
    "df2.loc[[5929, 6279]]['주소']"
   ]
  },
  {
   "cell_type": "code",
   "execution_count": 21,
   "metadata": {},
   "outputs": [
    {
     "data": {
      "text/plain": [
       "충전시작_년도  충전시작_월\n",
       "2020     1         117\n",
       "         2          93\n",
       "         3          82\n",
       "         4          73\n",
       "         5          97\n",
       "         6          94\n",
       "         7         117\n",
       "         8         175\n",
       "         9          86\n",
       "         10        112\n",
       "         11        112\n",
       "         12        133\n",
       "2021     1         143\n",
       "         2         142\n",
       "         3         137\n",
       "         4         138\n",
       "         5         180\n",
       "         6         196\n",
       "         7         234\n",
       "         8         252\n",
       "         9         264\n",
       "         10        275\n",
       "         11        346\n",
       "         12        262\n",
       "2022     1         214\n",
       "         2         262\n",
       "         3         205\n",
       "         4         388\n",
       "         5         348\n",
       "         6         303\n",
       "         7         385\n",
       "         8         498\n",
       "Name: 주소, dtype: int64"
      ]
     },
     "execution_count": 21,
     "metadata": {},
     "output_type": "execute_result"
    }
   ],
   "source": [
    "sp_temp = df2.loc[sp_idx]\n",
    "sp_temp.groupby(['충전시작_년도', '충전시작_월'])['주소'].count()"
   ]
  },
  {
   "cell_type": "code",
   "execution_count": 22,
   "metadata": {},
   "outputs": [
    {
     "name": "stderr",
     "output_type": "stream",
     "text": [
      "100%|██████████| 6463/6463 [00:00<00:00, 10606.17it/s]\n"
     ]
    }
   ],
   "source": [
    "for i in tqdm(sp_idx):\n",
    "    if df2.loc[i, '주소'] == sp_text:\n",
    "        df2.loc[i, '주소'] = '경상북도 경주시 천원2길 9'"
   ]
  },
  {
   "cell_type": "code",
   "execution_count": 23,
   "metadata": {},
   "outputs": [
    {
     "data": {
      "text/plain": [
       "5929    경상북도 경주시 천원2길 9\n",
       "6279    경상북도 경주시 천원2길 9\n",
       "6615    경상북도 경주시 천원2길 9\n",
       "7493    경상북도 경주시 천원2길 9\n",
       "9248    경상북도 경주시 천원2길 9\n",
       "Name: 주소, dtype: object"
      ]
     },
     "execution_count": 23,
     "metadata": {},
     "output_type": "execute_result"
    }
   ],
   "source": [
    "df2.loc[sp_idx]['주소'].head()"
   ]
  },
  {
   "cell_type": "code",
   "execution_count": 24,
   "metadata": {},
   "outputs": [
    {
     "data": {
      "text/plain": [
       "0"
      ]
     },
     "execution_count": 24,
     "metadata": {},
     "output_type": "execute_result"
    }
   ],
   "source": [
    "check_sp_idx = df2[df2['주소'] == sp_text].index\n",
    "len(check_sp_idx)"
   ]
  },
  {
   "cell_type": "code",
   "execution_count": 27,
   "metadata": {},
   "outputs": [
    {
     "data": {
      "text/plain": [
       "808"
      ]
     },
     "execution_count": 27,
     "metadata": {},
     "output_type": "execute_result"
    }
   ],
   "source": [
    "sp_text2 = '충청북도 단양군 영춘면 온달평강3로 9 온달평강3로 9-1'\n",
    "sp_idx2 = df2[df2['주소'] == sp_text2].index\n",
    "len(sp_idx2)"
   ]
  },
  {
   "cell_type": "code",
   "execution_count": 28,
   "metadata": {},
   "outputs": [
    {
     "data": {
      "text/plain": [
       "Int64Index([917059, 917123, 922961, 929169, 939062], dtype='int64')"
      ]
     },
     "execution_count": 28,
     "metadata": {},
     "output_type": "execute_result"
    }
   ],
   "source": [
    "sp_idx2[:5]"
   ]
  },
  {
   "cell_type": "code",
   "execution_count": 29,
   "metadata": {},
   "outputs": [
    {
     "data": {
      "text/plain": [
       "917059    충청북도 단양군 영춘면 온달평강3로 9 온달평강3로 9-1\n",
       "917123    충청북도 단양군 영춘면 온달평강3로 9 온달평강3로 9-1\n",
       "Name: 주소, dtype: object"
      ]
     },
     "execution_count": 29,
     "metadata": {},
     "output_type": "execute_result"
    }
   ],
   "source": [
    "df2.loc[[917059, 917123]]['주소']"
   ]
  },
  {
   "cell_type": "code",
   "execution_count": 30,
   "metadata": {},
   "outputs": [
    {
     "data": {
      "text/plain": [
       "충전시작_년도  충전시작_월\n",
       "2020     5          5\n",
       "         6         12\n",
       "         7         12\n",
       "         8         30\n",
       "         9         25\n",
       "         10        33\n",
       "         11        27\n",
       "         12        33\n",
       "2021     1         50\n",
       "         2         22\n",
       "         3         26\n",
       "         4         27\n",
       "         5         26\n",
       "         6         33\n",
       "         7         53\n",
       "         8         42\n",
       "         9         31\n",
       "         10        32\n",
       "         11        27\n",
       "         12        25\n",
       "2022     1         18\n",
       "         2         12\n",
       "         3         10\n",
       "         4         33\n",
       "         5         49\n",
       "         6         39\n",
       "         7         38\n",
       "         8         38\n",
       "Name: 주소, dtype: int64"
      ]
     },
     "execution_count": 30,
     "metadata": {},
     "output_type": "execute_result"
    }
   ],
   "source": [
    "sp_temp2 = df2.loc[sp_idx2]\n",
    "sp_temp2.groupby(['충전시작_년도', '충전시작_월'])['주소'].count()"
   ]
  },
  {
   "cell_type": "code",
   "execution_count": 31,
   "metadata": {},
   "outputs": [
    {
     "name": "stderr",
     "output_type": "stream",
     "text": [
      "100%|██████████| 808/808 [00:00<00:00, 8770.36it/s]\n"
     ]
    }
   ],
   "source": [
    "for i in tqdm(sp_idx2):\n",
    "    if df2.loc[i, '주소'] == sp_text2:\n",
    "        df2.loc[i, '주소'] = '충청북도 단양군 영춘면 온달평강3로 9'"
   ]
  },
  {
   "cell_type": "code",
   "execution_count": 32,
   "metadata": {},
   "outputs": [
    {
     "data": {
      "text/plain": [
       "917059    충청북도 단양군 영춘면 온달평강3로 9\n",
       "917123    충청북도 단양군 영춘면 온달평강3로 9\n",
       "922961    충청북도 단양군 영춘면 온달평강3로 9\n",
       "929169    충청북도 단양군 영춘면 온달평강3로 9\n",
       "939062    충청북도 단양군 영춘면 온달평강3로 9\n",
       "Name: 주소, dtype: object"
      ]
     },
     "execution_count": 32,
     "metadata": {},
     "output_type": "execute_result"
    }
   ],
   "source": [
    "df2.loc[sp_idx2]['주소'].head()"
   ]
  },
  {
   "cell_type": "code",
   "execution_count": 33,
   "metadata": {},
   "outputs": [
    {
     "data": {
      "text/plain": [
       "0"
      ]
     },
     "execution_count": 33,
     "metadata": {},
     "output_type": "execute_result"
    }
   ],
   "source": [
    "check_sp_idx = df2[df2['주소'] == sp_text2].index\n",
    "len(check_sp_idx)"
   ]
  },
  {
   "cell_type": "markdown",
   "metadata": {},
   "source": [
    "##### 이상 주소 처리 파일 출력"
   ]
  },
  {
   "cell_type": "code",
   "execution_count": 34,
   "metadata": {},
   "outputs": [],
   "source": [
    "df2.to_csv('2020-22년_급속충전-충전시간정리2.csv', encoding='utf-8')"
   ]
  },
  {
   "cell_type": "markdown",
   "metadata": {},
   "source": [
    "## 데이터 로드(이상 주소 처리)"
   ]
  },
  {
   "cell_type": "code",
   "execution_count": 35,
   "metadata": {},
   "outputs": [],
   "source": [
    "# df2 = pd.read_csv('2020-22년_급속충전-충전시간정리2.csv', index_col=0, dtype={'충전시작_년도':np.int16, '충전종료_년도':np.int16, '충전시작_월':np.int8,  '충전시작_일':np.int8, '충전시작_시':np.int8, '충전시작_분':np.int8, '충전시작_초':np.int8, '충전종료_월':np.int8, '충전종료_일':np.int8, '충전종료_시':np.int8, '충전종료_분':np.int8, '충전종료_초':np.int8, '충전기ID':np.int8})\n",
    "# df2['충전시간'] = pd.to_timedelta(df2['충전시간'])\n",
    "# df2['충전시간(계산)'] = pd.to_timedelta(df2['충전시간(계산)'])\n",
    "# df2 = df2.reset_index(drop=True)\n",
    "# df2.info()"
   ]
  },
  {
   "cell_type": "markdown",
   "metadata": {},
   "source": [
    "### 신/구주소 분리"
   ]
  },
  {
   "cell_type": "code",
   "execution_count": 36,
   "metadata": {},
   "outputs": [
    {
     "name": "stdout",
     "output_type": "stream",
     "text": [
      "<class 'pandas.core.frame.DataFrame'>\n",
      "RangeIndex: 11613449 entries, 0 to 11613448\n",
      "Data columns (total 27 columns):\n",
      " #   Column        Dtype          \n",
      "---  ------        -----          \n",
      " 0   충전소명          object         \n",
      " 1   충전기ID         int8           \n",
      " 2   지역            object         \n",
      " 3   시군구           object         \n",
      " 4   주소            object         \n",
      " 5   충전기타입         object         \n",
      " 6   충전시작일시        int64          \n",
      " 7   충전종료일시        int64          \n",
      " 8   충전시간          timedelta64[ns]\n",
      " 9   충전량           float64        \n",
      " 10  충전용량          object         \n",
      " 11  충전시작_년도       int16          \n",
      " 12  충전시작_월        int8           \n",
      " 13  충전시작_일        int8           \n",
      " 14  충전시작_시        int8           \n",
      " 15  충전시작_분        int8           \n",
      " 16  충전시작_초        int8           \n",
      " 17  충전시작일시(변환)    object         \n",
      " 18  충전종료_년도       int16          \n",
      " 19  충전종료_월        int8           \n",
      " 20  충전종료_일        int8           \n",
      " 21  충전종료_시        int8           \n",
      " 22  충전종료_분        int8           \n",
      " 23  충전종료_초        int8           \n",
      " 24  충전종료일시(변환)    object         \n",
      " 25  충전시간(계산)      timedelta64[ns]\n",
      " 26  raw값과_계산값_차이  object         \n",
      "dtypes: float64(1), int16(2), int64(2), int8(11), object(9), timedelta64[ns](2)\n",
      "memory usage: 1.4+ GB\n"
     ]
    }
   ],
   "source": [
    "df2.info()"
   ]
  },
  {
   "cell_type": "code",
   "execution_count": 37,
   "metadata": {},
   "outputs": [
    {
     "data": {
      "text/plain": [
       "2312340112912"
      ]
     },
     "execution_count": 37,
     "metadata": {},
     "output_type": "execute_result"
    }
   ],
   "source": [
    "id(df2['주소'])"
   ]
  },
  {
   "cell_type": "code",
   "execution_count": 38,
   "metadata": {},
   "outputs": [],
   "source": [
    "ad = df2['주소'].copy()"
   ]
  },
  {
   "cell_type": "code",
   "execution_count": 39,
   "metadata": {},
   "outputs": [
    {
     "data": {
      "text/plain": [
       "(2307466824624, 2300710790864, 2312340112912)"
      ]
     },
     "execution_count": 39,
     "metadata": {},
     "output_type": "execute_result"
    }
   ],
   "source": [
    "id(ad), id(df2), id(df2['주소'])"
   ]
  },
  {
   "cell_type": "code",
   "execution_count": 40,
   "metadata": {},
   "outputs": [
    {
     "data": {
      "text/plain": [
       "11613449"
      ]
     },
     "execution_count": 40,
     "metadata": {},
     "output_type": "execute_result"
    }
   ],
   "source": [
    "temp = ad.to_numpy()\n",
    "len(temp)"
   ]
  },
  {
   "cell_type": "code",
   "execution_count": 41,
   "metadata": {},
   "outputs": [
    {
     "name": "stdout",
     "output_type": "stream",
     "text": [
      "<re.Match object; span=(12, 17), match='외도1동 '>\n"
     ]
    }
   ],
   "source": [
    "old_p = re.compile('[가-힣0-9]+동 |[가-힣0-9]+동^[가-힣]|[가-힣0-9]+동[0-9]+|[가-힣0-9]+동$|[가-힣0-9]+리 |[가-힣0-9]+리[0-9]+|[가-힣0-9]+리^[가-힣]|[가-힣0-9]+리$')\n",
    "s = '제주특별자치도 제주시 외도1동 482-1'\n",
    "print(old_p.search(s))"
   ]
  },
  {
   "cell_type": "code",
   "execution_count": 42,
   "metadata": {},
   "outputs": [
    {
     "name": "stdout",
     "output_type": "stream",
     "text": [
      "<re.Match object; span=(8, 11), match='조남동'>\n"
     ]
    }
   ],
   "source": [
    "s = '경기도 시흥시 조남동'\n",
    "print(old_p.search(s))"
   ]
  },
  {
   "cell_type": "code",
   "execution_count": 43,
   "metadata": {},
   "outputs": [
    {
     "name": "stdout",
     "output_type": "stream",
     "text": [
      "<re.Match object; span=(12, 19), match='외도1동482'>\n"
     ]
    }
   ],
   "source": [
    "s = '제주특별자치도 제주시 외도1동482-1'\n",
    "print(old_p.search(s))"
   ]
  },
  {
   "cell_type": "code",
   "execution_count": 44,
   "metadata": {},
   "outputs": [
    {
     "name": "stdout",
     "output_type": "stream",
     "text": [
      "None\n"
     ]
    }
   ],
   "source": [
    "s = '강원도 평창군 용평면 탑거리길 63 , 내고장 으뜸상품 판매장 앞'\n",
    "print(old_p.search(s))"
   ]
  },
  {
   "cell_type": "code",
   "execution_count": 45,
   "metadata": {},
   "outputs": [
    {
     "name": "stdout",
     "output_type": "stream",
     "text": [
      "<re.Match object; span=(13, 17), match='덕동리 '>\n"
     ]
    }
   ],
   "source": [
    "s = '전라북도 남원시 산내면 덕동리 406'\n",
    "print(old_p.search(s))"
   ]
  },
  {
   "cell_type": "code",
   "execution_count": 46,
   "metadata": {},
   "outputs": [
    {
     "name": "stdout",
     "output_type": "stream",
     "text": [
      "<re.Match object; span=(13, 19), match='덕동리406'>\n"
     ]
    }
   ],
   "source": [
    "s = '전라북도 남원시 산내면 덕동리406'\n",
    "print(old_p.search(s))"
   ]
  },
  {
   "cell_type": "code",
   "execution_count": 47,
   "metadata": {},
   "outputs": [
    {
     "name": "stdout",
     "output_type": "stream",
     "text": [
      "<re.Match object; span=(13, 16), match='적암리'>\n"
     ]
    }
   ],
   "source": [
    "s = '충청북도 보은군 마로면 적암리'\n",
    "print(old_p.search(s))"
   ]
  },
  {
   "cell_type": "code",
   "execution_count": 48,
   "metadata": {},
   "outputs": [
    {
     "name": "stderr",
     "output_type": "stream",
     "text": [
      "11613449it [01:20, 144374.47it/s]"
     ]
    },
    {
     "name": "stdout",
     "output_type": "stream",
     "text": [
      "7755902\n",
      "3857547\n",
      "11613449\n",
      "True\n"
     ]
    },
    {
     "name": "stderr",
     "output_type": "stream",
     "text": [
      "\n"
     ]
    }
   ],
   "source": [
    "# 오류 주소\n",
    "    # 신 : 충청북도 단양군 적성면 기동리\n",
    "    # 신 : 제주특별자치도 제주시 외도1동 482-1\n",
    "    # 구 : 강원도 평창군 용평면 탑거리길 63 , 내고장 으뜸상품 판매장 앞\n",
    "    # 신 : 경기도 시흥시 조남동\n",
    "    # 신 : 7755902\n",
    "old_adr = []\n",
    "old_idx = []\n",
    "new_adr = []\n",
    "new_idx = []\n",
    "# new_p = re.compile('[가-힣]+로{1}|[가-힣]+로[0-9]+|[가-힣]+길|[가-힣0-9]+번길')\n",
    "old_p = re.compile('[가-힣0-9]+동 |[가-힣0-9]+동^[가-힣]|[가-힣0-9]+동[0-9]+|[가-힣0-9]+동$|[가-힣0-9]+리 |[가-힣0-9]+리[0-9]+|[가-힣0-9]+리^[가-힣]|[가-힣0-9]+리$')\n",
    "for i, s in tqdm(enumerate(temp)):\n",
    "    # if new_p.search(s):\n",
    "    if old_p.search(s):\n",
    "        old_adr.append(s)\n",
    "        old_idx.append(i)\n",
    "    else:\n",
    "        new_adr.append(s)\n",
    "        new_idx.append(i)\n",
    "\n",
    "print(len(new_idx))\n",
    "print(len(old_idx))\n",
    "print(len(temp))\n",
    "print(len(new_idx) + len(old_idx) == len(temp))"
   ]
  },
  {
   "cell_type": "code",
   "execution_count": 49,
   "metadata": {},
   "outputs": [
    {
     "data": {
      "text/plain": [
       "['경상남도 김해시 진영읍 하계로96번길 94-4 , 주유소 옆 주차장',\n",
       " '제주특별자치도 제주시 삼성로 40 민속자연사박물관',\n",
       " '제주특별자치도 제주시 노형9길 9-4,  주차장',\n",
       " '경상북도 포항시 북구 해안로82',\n",
       " '강원도 양양군 현북면 동해대로 1242',\n",
       " '제주특별자치도 제주시 산천단동길 26 인재개발원',\n",
       " '경상남도 양산시 양산대로 849 , 운동장 앞 도로쪽 주차장',\n",
       " '경상북도 칠곡군 동명면 중앙고속도로 123',\n",
       " '강원도 강릉시 강릉대로 33  P3 주차장',\n",
       " '제주특별자치도 제주시 우평로 318 부영아파트']"
      ]
     },
     "execution_count": 49,
     "metadata": {},
     "output_type": "execute_result"
    }
   ],
   "source": [
    "start_idx = 10*0\n",
    "new_adr[start_idx:start_idx+10]"
   ]
  },
  {
   "cell_type": "code",
   "execution_count": 50,
   "metadata": {},
   "outputs": [
    {
     "name": "stdout",
     "output_type": "stream",
     "text": [
      "서울특별시 구로구 경인로 661  지하2층 L\n"
     ]
    }
   ],
   "source": [
    "for i in new_adr:\n",
    "    if '구로구' in i:\n",
    "        print(i)\n",
    "        break"
   ]
  },
  {
   "cell_type": "markdown",
   "metadata": {},
   "source": [
    "#### 빈칸 2개 -> 1개로 수정"
   ]
  },
  {
   "cell_type": "code",
   "execution_count": 51,
   "metadata": {},
   "outputs": [],
   "source": [
    "# 빈칸 2개 있는것 1개로 변환\n",
    "for i, s in enumerate(new_adr):\n",
    "    if '  ' in s:\n",
    "        new_adr[i] = s.replace('  ', ' ')"
   ]
  },
  {
   "cell_type": "code",
   "execution_count": 52,
   "metadata": {},
   "outputs": [
    {
     "name": "stdout",
     "output_type": "stream",
     "text": [
      "서울특별시 구로구 경인로 661 지하2층 L\n"
     ]
    }
   ],
   "source": [
    "for i in new_adr:\n",
    "    if '구로구' in i:\n",
    "        print(i)\n",
    "        break"
   ]
  },
  {
   "cell_type": "code",
   "execution_count": 53,
   "metadata": {},
   "outputs": [],
   "source": [
    "for i in new_adr:\n",
    "    if '구로구 개봉동' in i:\n",
    "        print(i)\n",
    "        break"
   ]
  },
  {
   "cell_type": "code",
   "execution_count": 54,
   "metadata": {},
   "outputs": [
    {
     "data": {
      "text/plain": [
       "['경기도 고양시 덕양구 고양시청로 10 , 주차장 입구 전 우측',\n",
       " '경상북도 상주시 화서면 터골길 51-25',\n",
       " '강원도 횡성군 안흥면 영동고속도로 154 , 휴게소와 LPG충전소 사이',\n",
       " '경상북도 청도군 청도읍 하지길 59-49 , 휴게소와 주유소 사이',\n",
       " '강원도 강릉시 강릉대로 33 P3 주차장',\n",
       " '강원도 횡성군 안흥면 영동고속도로 153 , 농축산물판매장 옆',\n",
       " '경기도 연천군 연천읍 연천로 220',\n",
       " '경상북도 영덕군 강구면 동해대로 4526',\n",
       " '경상북도 경산시 진량읍 대학로 1089 고분군 입구 우측 옥외 주차장',\n",
       " '충청북도 괴산군 장연면 중부내륙고속도로 205']"
      ]
     },
     "execution_count": 54,
     "metadata": {},
     "output_type": "execute_result"
    }
   ],
   "source": [
    "start_idx = 100\n",
    "new_adr[start_idx:start_idx + 10]"
   ]
  },
  {
   "cell_type": "code",
   "execution_count": 55,
   "metadata": {},
   "outputs": [
    {
     "data": {
      "text/plain": [
       "['인천광역시 옹진군 영흥면 내리 8-165  공중화장실 옆',\n",
       " '제주특별자치도 서귀포시 성산읍 고성리 327-1',\n",
       " '제주특별자치도 서귀포시 안덕면 사계리 163-1 , 산방산 주차장 장애인 주차구역 앞',\n",
       " '경기도 안양시 동안구 관앙동 1590',\n",
       " '경상북도 군위군 산성면 백학리',\n",
       " '전라남도 여수시 소호동 505-2, 입구 우측',\n",
       " '제주특별자치도 서귀포시 서홍동 666-1',\n",
       " '강원도 양양군 현북면 하광정리 80-2',\n",
       " '세종특별자치시 나성남로 7-7 BRT환승센터 B주차장 B1 (나성동 531)',\n",
       " '강원도 양양군 현북면 하광정리 80-2']"
      ]
     },
     "execution_count": 55,
     "metadata": {},
     "output_type": "execute_result"
    }
   ],
   "source": [
    "start_idx = 100\n",
    "old_adr[start_idx:start_idx + 10]"
   ]
  },
  {
   "cell_type": "markdown",
   "metadata": {},
   "source": [
    "#### 신주소, 구주소 데이터 프레임 분리"
   ]
  },
  {
   "cell_type": "code",
   "execution_count": 56,
   "metadata": {},
   "outputs": [],
   "source": [
    "new_adr_df = df2.loc[new_idx].reset_index(drop=True)\n",
    "old_adr_df = df2.loc[old_idx].reset_index(drop=True)"
   ]
  },
  {
   "cell_type": "code",
   "execution_count": 57,
   "metadata": {},
   "outputs": [
    {
     "data": {
      "text/html": [
       "<div>\n",
       "<style scoped>\n",
       "    .dataframe tbody tr th:only-of-type {\n",
       "        vertical-align: middle;\n",
       "    }\n",
       "\n",
       "    .dataframe tbody tr th {\n",
       "        vertical-align: top;\n",
       "    }\n",
       "\n",
       "    .dataframe thead th {\n",
       "        text-align: right;\n",
       "    }\n",
       "</style>\n",
       "<table border=\"1\" class=\"dataframe\">\n",
       "  <thead>\n",
       "    <tr style=\"text-align: right;\">\n",
       "      <th></th>\n",
       "      <th>충전소명</th>\n",
       "      <th>충전기ID</th>\n",
       "      <th>지역</th>\n",
       "      <th>시군구</th>\n",
       "      <th>주소</th>\n",
       "      <th>충전기타입</th>\n",
       "      <th>충전시작일시</th>\n",
       "      <th>충전종료일시</th>\n",
       "      <th>충전시간</th>\n",
       "      <th>충전량</th>\n",
       "      <th>...</th>\n",
       "      <th>충전시작일시(변환)</th>\n",
       "      <th>충전종료_년도</th>\n",
       "      <th>충전종료_월</th>\n",
       "      <th>충전종료_일</th>\n",
       "      <th>충전종료_시</th>\n",
       "      <th>충전종료_분</th>\n",
       "      <th>충전종료_초</th>\n",
       "      <th>충전종료일시(변환)</th>\n",
       "      <th>충전시간(계산)</th>\n",
       "      <th>raw값과_계산값_차이</th>\n",
       "    </tr>\n",
       "  </thead>\n",
       "  <tbody>\n",
       "  </tbody>\n",
       "</table>\n",
       "<p>0 rows × 27 columns</p>\n",
       "</div>"
      ],
      "text/plain": [
       "Empty DataFrame\n",
       "Columns: [충전소명, 충전기ID, 지역, 시군구, 주소, 충전기타입, 충전시작일시, 충전종료일시, 충전시간, 충전량, 충전용량, 충전시작_년도, 충전시작_월, 충전시작_일, 충전시작_시, 충전시작_분, 충전시작_초, 충전시작일시(변환), 충전종료_년도, 충전종료_월, 충전종료_일, 충전종료_시, 충전종료_분, 충전종료_초, 충전종료일시(변환), 충전시간(계산), raw값과_계산값_차이]\n",
       "Index: []\n",
       "\n",
       "[0 rows x 27 columns]"
      ]
     },
     "execution_count": 57,
     "metadata": {},
     "output_type": "execute_result"
    }
   ],
   "source": [
    "new_adr_df[(new_adr_df['지역'] != '서울특별시') & (new_adr_df['주소'] == '강남구 양재대로31길')]"
   ]
  },
  {
   "cell_type": "code",
   "execution_count": 58,
   "metadata": {},
   "outputs": [
    {
     "data": {
      "text/plain": [
       "(2300710790864, 2312404389072, 2302950987040)"
      ]
     },
     "execution_count": 58,
     "metadata": {},
     "output_type": "execute_result"
    }
   ],
   "source": [
    "id(df2), id(new_adr_df), id(old_adr_df)"
   ]
  },
  {
   "cell_type": "code",
   "execution_count": 59,
   "metadata": {},
   "outputs": [
    {
     "name": "stdout",
     "output_type": "stream",
     "text": [
      "<class 'pandas.core.frame.DataFrame'>\n",
      "RangeIndex: 7755902 entries, 0 to 7755901\n",
      "Data columns (total 27 columns):\n",
      " #   Column        Dtype          \n",
      "---  ------        -----          \n",
      " 0   충전소명          object         \n",
      " 1   충전기ID         int8           \n",
      " 2   지역            object         \n",
      " 3   시군구           object         \n",
      " 4   주소            object         \n",
      " 5   충전기타입         object         \n",
      " 6   충전시작일시        int64          \n",
      " 7   충전종료일시        int64          \n",
      " 8   충전시간          timedelta64[ns]\n",
      " 9   충전량           float64        \n",
      " 10  충전용량          object         \n",
      " 11  충전시작_년도       int16          \n",
      " 12  충전시작_월        int8           \n",
      " 13  충전시작_일        int8           \n",
      " 14  충전시작_시        int8           \n",
      " 15  충전시작_분        int8           \n",
      " 16  충전시작_초        int8           \n",
      " 17  충전시작일시(변환)    object         \n",
      " 18  충전종료_년도       int16          \n",
      " 19  충전종료_월        int8           \n",
      " 20  충전종료_일        int8           \n",
      " 21  충전종료_시        int8           \n",
      " 22  충전종료_분        int8           \n",
      " 23  충전종료_초        int8           \n",
      " 24  충전종료일시(변환)    object         \n",
      " 25  충전시간(계산)      timedelta64[ns]\n",
      " 26  raw값과_계산값_차이  object         \n",
      "dtypes: float64(1), int16(2), int64(2), int8(11), object(9), timedelta64[ns](2)\n",
      "memory usage: 939.4+ MB\n"
     ]
    }
   ],
   "source": [
    "new_adr_df.info()"
   ]
  },
  {
   "cell_type": "code",
   "execution_count": 60,
   "metadata": {},
   "outputs": [
    {
     "name": "stdout",
     "output_type": "stream",
     "text": [
      "<class 'pandas.core.frame.DataFrame'>\n",
      "RangeIndex: 3857547 entries, 0 to 3857546\n",
      "Data columns (total 27 columns):\n",
      " #   Column        Dtype          \n",
      "---  ------        -----          \n",
      " 0   충전소명          object         \n",
      " 1   충전기ID         int8           \n",
      " 2   지역            object         \n",
      " 3   시군구           object         \n",
      " 4   주소            object         \n",
      " 5   충전기타입         object         \n",
      " 6   충전시작일시        int64          \n",
      " 7   충전종료일시        int64          \n",
      " 8   충전시간          timedelta64[ns]\n",
      " 9   충전량           float64        \n",
      " 10  충전용량          object         \n",
      " 11  충전시작_년도       int16          \n",
      " 12  충전시작_월        int8           \n",
      " 13  충전시작_일        int8           \n",
      " 14  충전시작_시        int8           \n",
      " 15  충전시작_분        int8           \n",
      " 16  충전시작_초        int8           \n",
      " 17  충전시작일시(변환)    object         \n",
      " 18  충전종료_년도       int16          \n",
      " 19  충전종료_월        int8           \n",
      " 20  충전종료_일        int8           \n",
      " 21  충전종료_시        int8           \n",
      " 22  충전종료_분        int8           \n",
      " 23  충전종료_초        int8           \n",
      " 24  충전종료일시(변환)    object         \n",
      " 25  충전시간(계산)      timedelta64[ns]\n",
      " 26  raw값과_계산값_차이  object         \n",
      "dtypes: float64(1), int16(2), int64(2), int8(11), object(9), timedelta64[ns](2)\n",
      "memory usage: 467.2+ MB\n"
     ]
    }
   ],
   "source": [
    "old_adr_df.info()"
   ]
  },
  {
   "cell_type": "markdown",
   "metadata": {},
   "source": [
    "### 신주소 정리\n",
    "- 7755902 개"
   ]
  },
  {
   "cell_type": "code",
   "execution_count": 61,
   "metadata": {},
   "outputs": [
    {
     "data": {
      "text/plain": [
       "array(['경상남도 김해시 진영읍 하계로96번길 94-4 , 주유소 옆 주차장',\n",
       "       '제주특별자치도 제주시 삼성로 40 민속자연사박물관', '제주특별자치도 제주시 노형9길 9-4,  주차장',\n",
       "       '경상북도 포항시 북구 해안로82', '강원도 양양군 현북면 동해대로 1242',\n",
       "       '제주특별자치도 제주시 산천단동길 26 인재개발원', '경상남도 양산시 양산대로 849 , 운동장 앞 도로쪽 주차장',\n",
       "       '경상북도 칠곡군 동명면 중앙고속도로 123', '강원도 강릉시 강릉대로 33  P3 주차장',\n",
       "       '제주특별자치도 제주시 우평로 318 부영아파트'], dtype=object)"
      ]
     },
     "execution_count": 61,
     "metadata": {},
     "output_type": "execute_result"
    }
   ],
   "source": [
    "temp = new_adr_df['주소'].to_numpy()\n",
    "temp[:10]"
   ]
  },
  {
   "cell_type": "code",
   "execution_count": 62,
   "metadata": {},
   "outputs": [
    {
     "data": {
      "text/plain": [
       "(2301796696400, 2303271233376, 2312404389072)"
      ]
     },
     "execution_count": 62,
     "metadata": {},
     "output_type": "execute_result"
    }
   ],
   "source": [
    "id(temp), id(new_adr_df['주소']), id(new_adr_df)"
   ]
  },
  {
   "cell_type": "markdown",
   "metadata": {},
   "source": [
    "#### 주소 표기 수정\n",
    "- \"전국 도로명 부여사유 조회(2022.08.31기준)\" 파일 참고"
   ]
  },
  {
   "cell_type": "markdown",
   "metadata": {},
   "source": [
    "##### 컴마(,) 제거"
   ]
  },
  {
   "cell_type": "code",
   "execution_count": 63,
   "metadata": {},
   "outputs": [
    {
     "name": "stdout",
     "output_type": "stream",
     "text": [
      "경상남도 김해시 진영읍 하계로96번길 94-4 , 주유소 옆 주차장\n"
     ]
    }
   ],
   "source": [
    "for i, s in enumerate(temp):\n",
    "    if ',' in s:\n",
    "        print(s)\n",
    "        break"
   ]
  },
  {
   "cell_type": "code",
   "execution_count": 64,
   "metadata": {},
   "outputs": [],
   "source": [
    "for i, s in enumerate(temp):\n",
    "    if ',' in s:\n",
    "        temp[i] = s.replace(',', '')"
   ]
  },
  {
   "cell_type": "code",
   "execution_count": 65,
   "metadata": {},
   "outputs": [],
   "source": [
    "for i, s in enumerate(temp):\n",
    "    if ',' in s:\n",
    "        print(s)\n",
    "        break"
   ]
  },
  {
   "cell_type": "markdown",
   "metadata": {},
   "source": [
    "##### 도로명 형식에 맞게 수정"
   ]
  },
  {
   "cell_type": "code",
   "execution_count": 67,
   "metadata": {},
   "outputs": [
    {
     "name": "stdout",
     "output_type": "stream",
     "text": [
      "880\n"
     ]
    }
   ],
   "source": [
    "for i, one in enumerate(temp):\n",
    "    if one == '광주광역시 북구 첨단 벤처로 108번길 9':\n",
    "        print(i)\n",
    "        break"
   ]
  },
  {
   "cell_type": "code",
   "execution_count": 68,
   "metadata": {},
   "outputs": [
    {
     "data": {
      "text/plain": [
       "'광주광역시 북구 첨단 벤처로 108번길 9'"
      ]
     },
     "execution_count": 68,
     "metadata": {},
     "output_type": "execute_result"
    }
   ],
   "source": [
    "temp[880]"
   ]
  },
  {
   "cell_type": "code",
   "execution_count": 69,
   "metadata": {},
   "outputs": [
    {
     "data": {
      "text/plain": [
       "'광주광역시 북구 첨단벤처로 108번길 9'"
      ]
     },
     "execution_count": 69,
     "metadata": {},
     "output_type": "execute_result"
    }
   ],
   "source": [
    "'광주광역시 북구 첨단 벤처로 108번길 9'.replace('첨단 벤처로', '첨단벤처로')"
   ]
  },
  {
   "cell_type": "code",
   "execution_count": 70,
   "metadata": {},
   "outputs": [],
   "source": [
    "for i, one in enumerate(temp):\n",
    "    if '첨단 벤처로' in one:\n",
    "        temp[i] = one.replace('첨단 벤처로', '첨단벤처로')"
   ]
  },
  {
   "cell_type": "code",
   "execution_count": 71,
   "metadata": {},
   "outputs": [
    {
     "data": {
      "text/plain": [
       "'광주광역시 북구 첨단벤처로 108번길 9'"
      ]
     },
     "execution_count": 71,
     "metadata": {},
     "output_type": "execute_result"
    }
   ],
   "source": [
    "temp[880]"
   ]
  },
  {
   "cell_type": "markdown",
   "metadata": {},
   "source": [
    "##### -길과 숫자 띄어쓰기"
   ]
  },
  {
   "cell_type": "code",
   "execution_count": 72,
   "metadata": {},
   "outputs": [
    {
     "name": "stdout",
     "output_type": "stream",
     "text": [
      "1525\n"
     ]
    }
   ],
   "source": [
    "s = '전라북도 전주시 완산구 신촌3길24번지'\n",
    "for i, one in enumerate(temp):\n",
    "    if one == s:\n",
    "        print(i)\n",
    "        break"
   ]
  },
  {
   "cell_type": "code",
   "execution_count": 73,
   "metadata": {},
   "outputs": [
    {
     "data": {
      "text/plain": [
       "'전라북도 전주시 완산구 신촌3길24번지'"
      ]
     },
     "execution_count": 73,
     "metadata": {},
     "output_type": "execute_result"
    }
   ],
   "source": [
    "temp[1525]"
   ]
  },
  {
   "cell_type": "code",
   "execution_count": 77,
   "metadata": {},
   "outputs": [
    {
     "name": "stdout",
     "output_type": "stream",
     "text": [
      "전라북도 전주시 완산구 신촌3길 24번지\n"
     ]
    }
   ],
   "source": [
    "n_p = re.compile('([가-힣0-9]+길)([0-9]+)')\n",
    "print(n_p.sub('\\g<1> \\g<2>', s))"
   ]
  },
  {
   "cell_type": "code",
   "execution_count": 74,
   "metadata": {},
   "outputs": [
    {
     "name": "stdout",
     "output_type": "stream",
     "text": [
      "1145\n"
     ]
    }
   ],
   "source": [
    "s = '전라남도 무안군 삼향읍 오룡1길 (E주차장-전라남도관광안내소)'\n",
    "for i, one in enumerate(temp):\n",
    "    if one == s:\n",
    "        print(i)\n",
    "        break"
   ]
  },
  {
   "cell_type": "code",
   "execution_count": 78,
   "metadata": {},
   "outputs": [
    {
     "data": {
      "text/plain": [
       "'전라남도 무안군 삼향읍 오룡1길 (E주차장-전라남도관광안내소)'"
      ]
     },
     "execution_count": 78,
     "metadata": {},
     "output_type": "execute_result"
    }
   ],
   "source": [
    "temp[1145]"
   ]
  },
  {
   "cell_type": "code",
   "execution_count": 79,
   "metadata": {},
   "outputs": [
    {
     "name": "stdout",
     "output_type": "stream",
     "text": [
      "전라남도 무안군 삼향읍 오룡1길 (E주차장-전라남도관광안내소)\n"
     ]
    }
   ],
   "source": [
    "print(n_p.sub('\\g<1> \\g<2>', s))"
   ]
  },
  {
   "cell_type": "code",
   "execution_count": 80,
   "metadata": {},
   "outputs": [],
   "source": [
    "# -길과 숫자 띄어쓰기\n",
    "n_p = re.compile('([가-힣0-9]+길)([0-9]+)')\n",
    "\n",
    "for i, one in enumerate(temp):\n",
    "    if n_p.search(one):\n",
    "        temp[i] = n_p.sub('\\g<1> \\g<2>', one)"
   ]
  },
  {
   "cell_type": "code",
   "execution_count": 81,
   "metadata": {},
   "outputs": [
    {
     "data": {
      "text/plain": [
       "'전라북도 전주시 완산구 신촌3길 24번지'"
      ]
     },
     "execution_count": 81,
     "metadata": {},
     "output_type": "execute_result"
    }
   ],
   "source": [
    "temp[1525]"
   ]
  },
  {
   "cell_type": "code",
   "execution_count": 82,
   "metadata": {},
   "outputs": [
    {
     "data": {
      "text/plain": [
       "'전라남도 무안군 삼향읍 오룡1길 (E주차장-전라남도관광안내소)'"
      ]
     },
     "execution_count": 82,
     "metadata": {},
     "output_type": "execute_result"
    }
   ],
   "source": [
    "temp[1145]"
   ]
  },
  {
   "cell_type": "markdown",
   "metadata": {},
   "source": [
    "##### -로와 숫자 띄어쓰기"
   ]
  },
  {
   "cell_type": "code",
   "execution_count": 83,
   "metadata": {},
   "outputs": [
    {
     "name": "stdout",
     "output_type": "stream",
     "text": [
      "2195\n"
     ]
    }
   ],
   "source": [
    "s = '경기도 이천시 마장면 중부고속도로82'\n",
    "for i, one in enumerate(temp):\n",
    "    if one == s:\n",
    "        print(i)\n",
    "        break"
   ]
  },
  {
   "cell_type": "code",
   "execution_count": 84,
   "metadata": {},
   "outputs": [
    {
     "data": {
      "text/plain": [
       "'경기도 이천시 마장면 중부고속도로82'"
      ]
     },
     "execution_count": 84,
     "metadata": {},
     "output_type": "execute_result"
    }
   ],
   "source": [
    "temp[2195]"
   ]
  },
  {
   "cell_type": "code",
   "execution_count": 85,
   "metadata": {},
   "outputs": [
    {
     "name": "stdout",
     "output_type": "stream",
     "text": [
      "경기도 이천시 마장면 중부고속도로 82\n"
     ]
    }
   ],
   "source": [
    "n_p = re.compile('([가-힣0-9]+로)([0-9]+)')\n",
    "print(n_p.sub('\\g<1> \\g<2>', s))"
   ]
  },
  {
   "cell_type": "code",
   "execution_count": 86,
   "metadata": {},
   "outputs": [
    {
     "name": "stdout",
     "output_type": "stream",
     "text": [
      "816\n"
     ]
    }
   ],
   "source": [
    "s = '강원도 강릉시 성산면 영동고속도로 232 (보광리)'\n",
    "for i, one in enumerate(temp):\n",
    "    if one == s:\n",
    "        print(i)\n",
    "        break"
   ]
  },
  {
   "cell_type": "code",
   "execution_count": 87,
   "metadata": {},
   "outputs": [
    {
     "data": {
      "text/plain": [
       "'강원도 강릉시 성산면 영동고속도로 232 (보광리)'"
      ]
     },
     "execution_count": 87,
     "metadata": {},
     "output_type": "execute_result"
    }
   ],
   "source": [
    "temp[816]"
   ]
  },
  {
   "cell_type": "code",
   "execution_count": 88,
   "metadata": {},
   "outputs": [
    {
     "name": "stdout",
     "output_type": "stream",
     "text": [
      "강원도 강릉시 성산면 영동고속도로 232 (보광리)\n"
     ]
    }
   ],
   "source": [
    "print(n_p.sub('\\g<1> \\g<2>', s))"
   ]
  },
  {
   "cell_type": "code",
   "execution_count": 89,
   "metadata": {},
   "outputs": [],
   "source": [
    "# -로와 숫자 띄어쓰기\n",
    "n_p = re.compile('([가-힣0-9]+로)([0-9]+)')\n",
    "\n",
    "for i, one in enumerate(temp):\n",
    "    if n_p.search(one):\n",
    "        temp[i] = n_p.sub('\\g<1> \\g<2>', one)"
   ]
  },
  {
   "cell_type": "code",
   "execution_count": 90,
   "metadata": {},
   "outputs": [
    {
     "data": {
      "text/plain": [
       "'경기도 이천시 마장면 중부고속도로 82'"
      ]
     },
     "execution_count": 90,
     "metadata": {},
     "output_type": "execute_result"
    }
   ],
   "source": [
    "temp[2195]"
   ]
  },
  {
   "cell_type": "code",
   "execution_count": 91,
   "metadata": {},
   "outputs": [
    {
     "data": {
      "text/plain": [
       "'강원도 강릉시 성산면 영동고속도로 232 (보광리)'"
      ]
     },
     "execution_count": 91,
     "metadata": {},
     "output_type": "execute_result"
    }
   ],
   "source": [
    "temp[816]"
   ]
  },
  {
   "cell_type": "markdown",
   "metadata": {},
   "source": [
    "##### -로-번-길 붙이기"
   ]
  },
  {
   "cell_type": "code",
   "execution_count": 92,
   "metadata": {},
   "outputs": [
    {
     "name": "stdout",
     "output_type": "stream",
     "text": [
      "880\n"
     ]
    }
   ],
   "source": [
    "s = '광주광역시 북구 첨단벤처로 108번길 9'\n",
    "for i, one in enumerate(temp):\n",
    "    if one == s:\n",
    "        print(i)\n",
    "        break"
   ]
  },
  {
   "cell_type": "code",
   "execution_count": 93,
   "metadata": {},
   "outputs": [
    {
     "data": {
      "text/plain": [
       "'광주광역시 북구 첨단벤처로 108번길 9'"
      ]
     },
     "execution_count": 93,
     "metadata": {},
     "output_type": "execute_result"
    }
   ],
   "source": [
    "temp[880]"
   ]
  },
  {
   "cell_type": "code",
   "execution_count": 94,
   "metadata": {},
   "outputs": [
    {
     "name": "stdout",
     "output_type": "stream",
     "text": [
      "<re.Match object; span=(9, 20), match='첨단벤처로 108번길'>\n",
      "광주광역시 북구 첨단벤처로108번길 9\n"
     ]
    }
   ],
   "source": [
    "n_p = re.compile('([가-힣0-9]+로) ([0-9]+번[가-힣]*길)')\n",
    "print(n_p.search(s))\n",
    "print(n_p.sub('\\g<1>\\g<2>', s))"
   ]
  },
  {
   "cell_type": "code",
   "execution_count": 95,
   "metadata": {},
   "outputs": [],
   "source": [
    "# -로-번-길 붙이기\n",
    "n_p = re.compile('([가-힣0-9]+로) ([0-9]+번[가-힣]*길)')\n",
    "\n",
    "for i, one in enumerate(temp):\n",
    "    if n_p.search(one):\n",
    "        temp[i] = n_p.sub('\\g<1>\\g<2>', one)"
   ]
  },
  {
   "cell_type": "code",
   "execution_count": 96,
   "metadata": {},
   "outputs": [
    {
     "data": {
      "text/plain": [
       "'광주광역시 북구 첨단벤처로108번길 9'"
      ]
     },
     "execution_count": 96,
     "metadata": {},
     "output_type": "execute_result"
    }
   ],
   "source": [
    "temp[880]"
   ]
  },
  {
   "cell_type": "markdown",
   "metadata": {},
   "source": [
    "##### -로-길 붙이기"
   ]
  },
  {
   "cell_type": "code",
   "execution_count": 98,
   "metadata": {},
   "outputs": [
    {
     "name": "stdout",
     "output_type": "stream",
     "text": [
      "40\n"
     ]
    }
   ],
   "source": [
    "n_p = re.compile('([가-힣0-9]+로) ([0-9]+[가-힣]*길)')\n",
    "for i, one in enumerate(temp):\n",
    "    if n_p.search(one):\n",
    "        print(i)\n",
    "        break"
   ]
  },
  {
   "cell_type": "code",
   "execution_count": 100,
   "metadata": {},
   "outputs": [
    {
     "data": {
      "text/plain": [
       "'대구광역시 동구 효동로 2길 93'"
      ]
     },
     "execution_count": 100,
     "metadata": {},
     "output_type": "execute_result"
    }
   ],
   "source": [
    "temp[40]"
   ]
  },
  {
   "cell_type": "code",
   "execution_count": 101,
   "metadata": {},
   "outputs": [
    {
     "name": "stdout",
     "output_type": "stream",
     "text": [
      "<re.Match object; span=(9, 15), match='효동로 2길'>\n",
      "대구광역시 동구 효동로2길 93\n"
     ]
    }
   ],
   "source": [
    "s = '대구광역시 동구 효동로 2길 93'\n",
    "print(n_p.search(s))\n",
    "print(n_p.sub('\\g<1>\\g<2>', s))"
   ]
  },
  {
   "cell_type": "code",
   "execution_count": 103,
   "metadata": {},
   "outputs": [],
   "source": [
    "# -로-길 붙이기\n",
    "n_p = re.compile('([가-힣0-9]+로) ([0-9]+[가-힣]*길)')\n",
    "\n",
    "for i, one in enumerate(temp):\n",
    "    if n_p.search(one):\n",
    "        temp[i] = n_p.sub('\\g<1>\\g<2>', one)"
   ]
  },
  {
   "cell_type": "code",
   "execution_count": 104,
   "metadata": {},
   "outputs": [
    {
     "data": {
      "text/plain": [
       "'대구광역시 동구 효동로2길 93'"
      ]
     },
     "execution_count": 104,
     "metadata": {},
     "output_type": "execute_result"
    }
   ],
   "source": [
    "temp[40]"
   ]
  },
  {
   "cell_type": "markdown",
   "metadata": {},
   "source": [
    "##### -앙-길 붙이기"
   ]
  },
  {
   "cell_type": "code",
   "execution_count": 106,
   "metadata": {},
   "outputs": [],
   "source": [
    "n_p = re.compile('([가-힣0-9]+앙) ([0-9]+[가-힣]*길)')\n",
    "for i, one in enumerate(temp):\n",
    "    if n_p.search(one):\n",
    "        print(i)\n",
    "        break"
   ]
  },
  {
   "cell_type": "code",
   "execution_count": 108,
   "metadata": {},
   "outputs": [],
   "source": [
    "# # -앙-길 붙이기\n",
    "# n_p = re.compile('([가-힣0-9]+앙) ([0-9]+[가-힣]*길)')\n",
    "\n",
    "# for i, one in enumerate(temp):\n",
    "#     if n_p.search(one):\n",
    "#         temp[i] = n_p.sub('\\g<1>\\g<2>', one)"
   ]
  },
  {
   "cell_type": "markdown",
   "metadata": {},
   "source": [
    "##### -장-길 붙이기"
   ]
  },
  {
   "cell_type": "code",
   "execution_count": 107,
   "metadata": {},
   "outputs": [],
   "source": [
    "n_p = re.compile('([가-힣0-9]+장) ([0-9]+[가-힣]*길)')\n",
    "for i, one in enumerate(temp):\n",
    "    if n_p.search(one):\n",
    "        print(i)\n",
    "        break"
   ]
  },
  {
   "cell_type": "code",
   "execution_count": 109,
   "metadata": {},
   "outputs": [],
   "source": [
    "# # -장-길 붙이기\n",
    "# n_p = re.compile('([가-힣0-9]+장) ([0-9]+[가-힣]*길)')\n",
    "\n",
    "# for i, one in enumerate(temp):\n",
    "#     if n_p.search(one):\n",
    "#         temp[i] = n_p.sub('\\g<1>\\g<2>', one)"
   ]
  },
  {
   "cell_type": "markdown",
   "metadata": {},
   "source": [
    "##### -솜-로 붙이기"
   ]
  },
  {
   "cell_type": "code",
   "execution_count": 110,
   "metadata": {},
   "outputs": [
    {
     "name": "stdout",
     "output_type": "stream",
     "text": [
      "1671\n"
     ]
    }
   ],
   "source": [
    "n_p = re.compile('([가-힣0-9]+솜) ([0-9]+[가-힣]*로)')\n",
    "for i, one in enumerate(temp):\n",
    "    if n_p.search(one):\n",
    "        print(i)\n",
    "        break"
   ]
  },
  {
   "cell_type": "code",
   "execution_count": 111,
   "metadata": {},
   "outputs": [
    {
     "data": {
      "text/plain": [
       "'세종특별자치시 다솜 3로 66'"
      ]
     },
     "execution_count": 111,
     "metadata": {},
     "output_type": "execute_result"
    }
   ],
   "source": [
    "temp[1671]"
   ]
  },
  {
   "cell_type": "code",
   "execution_count": 112,
   "metadata": {},
   "outputs": [
    {
     "name": "stdout",
     "output_type": "stream",
     "text": [
      "<re.Match object; span=(8, 13), match='다솜 3로'>\n",
      "세종특별자치시 다솜3로\n"
     ]
    }
   ],
   "source": [
    "n_p = re.compile('([가-힣0-9]+솜) ([0-9]+[가-힣]*로)')\n",
    "s = '세종특별자치시 다솜 3로'\n",
    "print(n_p.search(s))\n",
    "print(n_p.sub('\\g<1>\\g<2>', s))"
   ]
  },
  {
   "cell_type": "code",
   "execution_count": 113,
   "metadata": {},
   "outputs": [
    {
     "name": "stdout",
     "output_type": "stream",
     "text": [
      "None\n",
      "세종특별자치시 다솜3로\n"
     ]
    }
   ],
   "source": [
    "n_p = re.compile('([가-힣0-9]+솜) ([0-9]+[가-힣]*로)')\n",
    "s = '세종특별자치시 다솜3로'\n",
    "print(n_p.search(s))\n",
    "print(n_p.sub('\\g<1>\\g<2>', s))"
   ]
  },
  {
   "cell_type": "code",
   "execution_count": 114,
   "metadata": {},
   "outputs": [],
   "source": [
    "# -솜-로 붙이기\n",
    "n_p = re.compile('([가-힣0-9]+솜) ([0-9]+[가-힣]*로)')\n",
    "\n",
    "for i, one in enumerate(temp):\n",
    "    if n_p.search(one):\n",
    "        temp[i] = n_p.sub('\\g<1>\\g<2>', one)"
   ]
  },
  {
   "cell_type": "code",
   "execution_count": 115,
   "metadata": {},
   "outputs": [
    {
     "data": {
      "text/plain": [
       "'세종특별자치시 다솜3로 66'"
      ]
     },
     "execution_count": 115,
     "metadata": {},
     "output_type": "execute_result"
    }
   ],
   "source": [
    "temp[1671]"
   ]
  },
  {
   "cell_type": "markdown",
   "metadata": {},
   "source": [
    "#### 복수 주소 오류\n",
    "- 한 주소에 2개 주소 들어있는 것 처리\n",
    "- 동일지역 : 22,888개\n",
    "- 다른지역 : 0개"
   ]
  },
  {
   "cell_type": "markdown",
   "metadata": {},
   "source": [
    "##### 동일지역\n",
    "- 22,888 개\n",
    "- ex index(new_adr_df, temp) : 933745"
   ]
  },
  {
   "cell_type": "code",
   "execution_count": 122,
   "metadata": {},
   "outputs": [
    {
     "data": {
      "text/plain": [
       "array([ 933745,  975149, 1384836, 1484838, 1535708], dtype=int64)"
      ]
     },
     "execution_count": 122,
     "metadata": {},
     "output_type": "execute_result"
    }
   ],
   "source": [
    "same_local_idx = np.where(temp == '전라남도 무안군 망운면 운해로 1436-10 전라남도 함평군 신광면 학동로 1398-9')\n",
    "same_local_idx[0][:5]"
   ]
  },
  {
   "cell_type": "code",
   "execution_count": 123,
   "metadata": {},
   "outputs": [
    {
     "data": {
      "text/plain": [
       "'전라남도 무안군 망운면 운해로 1436-10 전라남도 함평군 신광면 학동로 1398-9'"
      ]
     },
     "execution_count": 123,
     "metadata": {},
     "output_type": "execute_result"
    }
   ],
   "source": [
    "new_adr_df.loc[933745, '주소']"
   ]
  },
  {
   "cell_type": "code",
   "execution_count": 124,
   "metadata": {},
   "outputs": [
    {
     "data": {
      "text/plain": [
       "'전라남도 무안군 망운면 운해로 1436-10 전라남도 함평군 신광면 학동로 1398-9'"
      ]
     },
     "execution_count": 124,
     "metadata": {},
     "output_type": "execute_result"
    }
   ],
   "source": [
    "temp[933745]"
   ]
  },
  {
   "cell_type": "code",
   "execution_count": 125,
   "metadata": {},
   "outputs": [
    {
     "data": {
      "text/plain": [
       "['전라남도 무안군 망운면 운해로 1436-10', '전라남도 함평군 신광면 학동로 1398-9']"
      ]
     },
     "execution_count": 125,
     "metadata": {},
     "output_type": "execute_result"
    }
   ],
   "source": [
    "'전라남도 무안군 망운면 운해로 1436-10 전라남도 함평군 신광면 학동로 1398-9'.replace(' 전라남도', '$전라남도').split('$')"
   ]
  },
  {
   "cell_type": "code",
   "execution_count": 126,
   "metadata": {},
   "outputs": [
    {
     "data": {
      "text/plain": [
       "['전라남도 무안군 망운면 운해로 1436-10']"
      ]
     },
     "execution_count": 126,
     "metadata": {},
     "output_type": "execute_result"
    }
   ],
   "source": [
    "'전라남도 무안군 망운면 운해로 1436-10'.replace(' 전라남도', '$전라남도').split('$')"
   ]
  },
  {
   "cell_type": "code",
   "execution_count": 127,
   "metadata": {},
   "outputs": [
    {
     "data": {
      "text/plain": [
       "array(['김해시', '제주시', '제주시', '포항시', '양양군'], dtype=object)"
      ]
     },
     "execution_count": 127,
     "metadata": {},
     "output_type": "execute_result"
    }
   ],
   "source": [
    "temp_si = new_adr_df['시군구'].to_numpy()\n",
    "temp_si[:5]"
   ]
  },
  {
   "cell_type": "code",
   "execution_count": 128,
   "metadata": {},
   "outputs": [
    {
     "name": "stderr",
     "output_type": "stream",
     "text": [
      "7755902it [00:22, 351278.86it/s]\n"
     ]
    }
   ],
   "source": [
    "count = 0\n",
    "for i, one in tqdm(enumerate(temp)):\n",
    "    si = list(one.split())[0]\n",
    "    \n",
    "    one = one.replace(' ' + si, '$' + si)\n",
    "    multi_adr = list(one.split('$'))\n",
    "    if len(multi_adr) == 2:\n",
    "        count += 1\n",
    "    for j, two in enumerate(multi_adr):\n",
    "        if temp_si[i] in two:\n",
    "            temp[i] = multi_adr[j]"
   ]
  },
  {
   "cell_type": "code",
   "execution_count": 129,
   "metadata": {},
   "outputs": [
    {
     "data": {
      "text/plain": [
       "'전라남도 무안군 망운면 운해로 1436-10'"
      ]
     },
     "execution_count": 129,
     "metadata": {},
     "output_type": "execute_result"
    }
   ],
   "source": [
    "temp[933745]"
   ]
  },
  {
   "cell_type": "code",
   "execution_count": 130,
   "metadata": {},
   "outputs": [
    {
     "data": {
      "text/plain": [
       "22888"
      ]
     },
     "execution_count": 130,
     "metadata": {},
     "output_type": "execute_result"
    }
   ],
   "source": [
    "count"
   ]
  },
  {
   "cell_type": "markdown",
   "metadata": {},
   "source": [
    "##### 다른지역\n",
    "- 0개"
   ]
  },
  {
   "cell_type": "code",
   "execution_count": 131,
   "metadata": {},
   "outputs": [
    {
     "data": {
      "text/plain": [
       "array(['경상남도', '제주특별자치도', '경상북도', '강원도', '대전광역시', '충청남도', '충청북도', '부산광역시',\n",
       "       '경기도', '전라남도', '대구광역시', '광주광역시', '서울특별시', '울산광역시', '전라북도', '인천광역시',\n",
       "       '세종특별자치시'], dtype=object)"
      ]
     },
     "execution_count": 131,
     "metadata": {},
     "output_type": "execute_result"
    }
   ],
   "source": [
    "new_adr_df['지역'].unique()"
   ]
  },
  {
   "cell_type": "code",
   "execution_count": 132,
   "metadata": {},
   "outputs": [],
   "source": [
    "sep = ' 광주광역시| 전라남도| 전라북도| 제주특별자치도| 세종특별자치시| 서울특별시| 대전광역시| 경기도| 인천광역시| 경상남도| 강원도| 충청북도| 경상북도| 충청남도| 울산광역시| 대구광역시| 부산광역시'"
   ]
  },
  {
   "cell_type": "code",
   "execution_count": 133,
   "metadata": {},
   "outputs": [
    {
     "data": {
      "text/plain": [
       "['광주광역시 북구']"
      ]
     },
     "execution_count": 133,
     "metadata": {},
     "output_type": "execute_result"
    }
   ],
   "source": [
    "re.split(sep, '광주광역시 북구')"
   ]
  },
  {
   "cell_type": "code",
   "execution_count": 134,
   "metadata": {},
   "outputs": [
    {
     "data": {
      "text/plain": [
       "1"
      ]
     },
     "execution_count": 134,
     "metadata": {},
     "output_type": "execute_result"
    }
   ],
   "source": [
    "len(re.split(sep, '광주광역시 북구'))"
   ]
  },
  {
   "cell_type": "code",
   "execution_count": 135,
   "metadata": {},
   "outputs": [
    {
     "data": {
      "text/plain": [
       "['광주광역시', '']"
      ]
     },
     "execution_count": 135,
     "metadata": {},
     "output_type": "execute_result"
    }
   ],
   "source": [
    "re.split(sep, '광주광역시 충청북도')"
   ]
  },
  {
   "cell_type": "code",
   "execution_count": 136,
   "metadata": {},
   "outputs": [
    {
     "data": {
      "text/plain": [
       "2"
      ]
     },
     "execution_count": 136,
     "metadata": {},
     "output_type": "execute_result"
    }
   ],
   "source": [
    "len(re.split(sep, '광주광역시 충청북도'))"
   ]
  },
  {
   "cell_type": "code",
   "execution_count": 137,
   "metadata": {},
   "outputs": [
    {
     "name": "stderr",
     "output_type": "stream",
     "text": [
      "7755902it [00:17, 432789.01it/s]\n"
     ]
    }
   ],
   "source": [
    "count = 0\n",
    "for i, one in tqdm(enumerate(temp)):\n",
    "    multi_local = list(re.split(sep, one))\n",
    "    if len(multi_local) == 2:\n",
    "        count += 1"
   ]
  },
  {
   "cell_type": "code",
   "execution_count": 138,
   "metadata": {},
   "outputs": [
    {
     "data": {
      "text/plain": [
       "0"
      ]
     },
     "execution_count": 138,
     "metadata": {},
     "output_type": "execute_result"
    }
   ],
   "source": [
    "count"
   ]
  },
  {
   "cell_type": "markdown",
   "metadata": {},
   "source": [
    "#### 신주소 정리 파일 기존 df(new_adr_df)로 복사"
   ]
  },
  {
   "cell_type": "code",
   "execution_count": 139,
   "metadata": {},
   "outputs": [],
   "source": [
    "new_adr_df['주소'] = temp"
   ]
  },
  {
   "cell_type": "code",
   "execution_count": 140,
   "metadata": {},
   "outputs": [
    {
     "data": {
      "text/plain": [
       "(2300710918464, 2301796696400)"
      ]
     },
     "execution_count": 140,
     "metadata": {},
     "output_type": "execute_result"
    }
   ],
   "source": [
    "id(new_adr_df['주소']), id(temp)"
   ]
  },
  {
   "cell_type": "code",
   "execution_count": 141,
   "metadata": {},
   "outputs": [
    {
     "data": {
      "text/plain": [
       "0    경상남도 김해시 진영읍 하계로96번길 94-4  주유소 옆 주차장\n",
       "1             제주특별자치도 제주시 삼성로 40 민속자연사박물관\n",
       "2               제주특별자치도 제주시 노형9길 9-4  주차장\n",
       "3                      경상북도 포항시 북구 해안로 82\n",
       "4                   강원도 양양군 현북면 동해대로 1242\n",
       "Name: 주소, dtype: object"
      ]
     },
     "execution_count": 141,
     "metadata": {},
     "output_type": "execute_result"
    }
   ],
   "source": [
    "new_adr_df['주소'].head()"
   ]
  },
  {
   "cell_type": "code",
   "execution_count": 142,
   "metadata": {},
   "outputs": [
    {
     "name": "stdout",
     "output_type": "stream",
     "text": [
      "<class 'pandas.core.series.Series'>\n",
      "RangeIndex: 7755902 entries, 0 to 7755901\n",
      "Series name: 주소\n",
      "Non-Null Count    Dtype \n",
      "--------------    ----- \n",
      "7755902 non-null  object\n",
      "dtypes: object(1)\n",
      "memory usage: 59.2+ MB\n"
     ]
    }
   ],
   "source": [
    "# data : 7,755,902 개\n",
    "new_adr_df['주소'].info()"
   ]
  },
  {
   "cell_type": "code",
   "execution_count": 143,
   "metadata": {},
   "outputs": [
    {
     "data": {
      "text/html": [
       "<div>\n",
       "<style scoped>\n",
       "    .dataframe tbody tr th:only-of-type {\n",
       "        vertical-align: middle;\n",
       "    }\n",
       "\n",
       "    .dataframe tbody tr th {\n",
       "        vertical-align: top;\n",
       "    }\n",
       "\n",
       "    .dataframe thead th {\n",
       "        text-align: right;\n",
       "    }\n",
       "</style>\n",
       "<table border=\"1\" class=\"dataframe\">\n",
       "  <thead>\n",
       "    <tr style=\"text-align: right;\">\n",
       "      <th></th>\n",
       "      <th>충전소명</th>\n",
       "      <th>충전기ID</th>\n",
       "      <th>지역</th>\n",
       "      <th>시군구</th>\n",
       "      <th>주소</th>\n",
       "      <th>충전기타입</th>\n",
       "      <th>충전시작일시</th>\n",
       "      <th>충전종료일시</th>\n",
       "      <th>충전시간</th>\n",
       "      <th>충전량</th>\n",
       "      <th>...</th>\n",
       "      <th>충전시작일시(변환)</th>\n",
       "      <th>충전종료_년도</th>\n",
       "      <th>충전종료_월</th>\n",
       "      <th>충전종료_일</th>\n",
       "      <th>충전종료_시</th>\n",
       "      <th>충전종료_분</th>\n",
       "      <th>충전종료_초</th>\n",
       "      <th>충전종료일시(변환)</th>\n",
       "      <th>충전시간(계산)</th>\n",
       "      <th>raw값과_계산값_차이</th>\n",
       "    </tr>\n",
       "  </thead>\n",
       "  <tbody>\n",
       "  </tbody>\n",
       "</table>\n",
       "<p>0 rows × 27 columns</p>\n",
       "</div>"
      ],
      "text/plain": [
       "Empty DataFrame\n",
       "Columns: [충전소명, 충전기ID, 지역, 시군구, 주소, 충전기타입, 충전시작일시, 충전종료일시, 충전시간, 충전량, 충전용량, 충전시작_년도, 충전시작_월, 충전시작_일, 충전시작_시, 충전시작_분, 충전시작_초, 충전시작일시(변환), 충전종료_년도, 충전종료_월, 충전종료_일, 충전종료_시, 충전종료_분, 충전종료_초, 충전종료일시(변환), 충전시간(계산), raw값과_계산값_차이]\n",
       "Index: []\n",
       "\n",
       "[0 rows x 27 columns]"
      ]
     },
     "execution_count": 143,
     "metadata": {},
     "output_type": "execute_result"
    }
   ],
   "source": [
    "new_adr_df[(new_adr_df['지역'] != '서울특별시') & (new_adr_df['주소'] == '강남구 양재대로31길')]"
   ]
  },
  {
   "cell_type": "markdown",
   "metadata": {},
   "source": [
    "### 구주소 정리\n",
    "- 3,857,547 개"
   ]
  },
  {
   "cell_type": "code",
   "execution_count": 145,
   "metadata": {},
   "outputs": [
    {
     "data": {
      "text/plain": [
       "array(['서울특별시 구로구 오류동 174-10 , 천왕역 환승주차장 1층', '경상남도 통영시 광도면 죽림리 292-33',\n",
       "       '전라북도 완주군 봉동읍 둔산리 881', '충청남도 공주시 정안면 석송리', '충청북도 단양군 적성면 기동리',\n",
       "       '경상북도 영천시 임고면 금대리', '충청남도 예산군 예산읍 석양리 213-2',\n",
       "       '경상남도 통영시 광도면 죽림리 292-33', '강원도 철원군 동송읍 장흥리 20-15',\n",
       "       '경상북도 영천시 임고면 금대리'], dtype=object)"
      ]
     },
     "execution_count": 145,
     "metadata": {},
     "output_type": "execute_result"
    }
   ],
   "source": [
    "temp = old_adr_df['주소'].to_numpy()\n",
    "temp[:10]"
   ]
  },
  {
   "cell_type": "markdown",
   "metadata": {},
   "source": [
    "##### 컴마(,) 제거"
   ]
  },
  {
   "cell_type": "code",
   "execution_count": 146,
   "metadata": {},
   "outputs": [
    {
     "name": "stdout",
     "output_type": "stream",
     "text": [
      "서울특별시 구로구 오류동 174-10 , 천왕역 환승주차장 1층\n"
     ]
    }
   ],
   "source": [
    "for i, s in enumerate(temp):\n",
    "    if ',' in s:\n",
    "        print(s)\n",
    "        break"
   ]
  },
  {
   "cell_type": "code",
   "execution_count": 147,
   "metadata": {},
   "outputs": [],
   "source": [
    "for i, s in enumerate(temp):\n",
    "    if ',' in s:\n",
    "        temp[i] = s.replace(',', '')"
   ]
  },
  {
   "cell_type": "code",
   "execution_count": 148,
   "metadata": {},
   "outputs": [
    {
     "data": {
      "text/plain": [
       "array(['서울특별시 구로구 오류동 174-10  천왕역 환승주차장 1층', '경상남도 통영시 광도면 죽림리 292-33',\n",
       "       '전라북도 완주군 봉동읍 둔산리 881', '충청남도 공주시 정안면 석송리', '충청북도 단양군 적성면 기동리',\n",
       "       '경상북도 영천시 임고면 금대리', '충청남도 예산군 예산읍 석양리 213-2',\n",
       "       '경상남도 통영시 광도면 죽림리 292-33', '강원도 철원군 동송읍 장흥리 20-15',\n",
       "       '경상북도 영천시 임고면 금대리'], dtype=object)"
      ]
     },
     "execution_count": 148,
     "metadata": {},
     "output_type": "execute_result"
    }
   ],
   "source": [
    "temp[:10]"
   ]
  },
  {
   "cell_type": "markdown",
   "metadata": {},
   "source": [
    "##### -동과 숫자 띄어쓰기"
   ]
  },
  {
   "cell_type": "code",
   "execution_count": 152,
   "metadata": {},
   "outputs": [
    {
     "name": "stdout",
     "output_type": "stream",
     "text": [
      "988\n"
     ]
    }
   ],
   "source": [
    "s = '제주특별자치도 제주시 연동2334-4'\n",
    "for i, one in enumerate(temp):\n",
    "    if one == s:\n",
    "        print(i)\n",
    "        break"
   ]
  },
  {
   "cell_type": "code",
   "execution_count": 150,
   "metadata": {},
   "outputs": [
    {
     "data": {
      "text/plain": [
       "'제주특별자치도 제주시 연동2334-4'"
      ]
     },
     "execution_count": 150,
     "metadata": {},
     "output_type": "execute_result"
    }
   ],
   "source": [
    "temp[988]"
   ]
  },
  {
   "cell_type": "code",
   "execution_count": 151,
   "metadata": {},
   "outputs": [
    {
     "name": "stdout",
     "output_type": "stream",
     "text": [
      "제주특별자치도 제주시 연동 2334-4\n"
     ]
    }
   ],
   "source": [
    "n_p = re.compile('([가-힣0-9]+동)([0-9]+)')\n",
    "print(n_p.sub('\\g<1> \\g<2>', s))"
   ]
  },
  {
   "cell_type": "code",
   "execution_count": 153,
   "metadata": {},
   "outputs": [
    {
     "name": "stdout",
     "output_type": "stream",
     "text": [
      "447\n"
     ]
    }
   ],
   "source": [
    "s = '전라북도 정읍시 내장동 52'\n",
    "for i, one in enumerate(temp):\n",
    "    if one == s:\n",
    "        print(i)\n",
    "        break"
   ]
  },
  {
   "cell_type": "code",
   "execution_count": 154,
   "metadata": {},
   "outputs": [
    {
     "data": {
      "text/plain": [
       "'전라북도 정읍시 내장동 52'"
      ]
     },
     "execution_count": 154,
     "metadata": {},
     "output_type": "execute_result"
    }
   ],
   "source": [
    "temp[447]"
   ]
  },
  {
   "cell_type": "code",
   "execution_count": 155,
   "metadata": {},
   "outputs": [
    {
     "name": "stdout",
     "output_type": "stream",
     "text": [
      "전라북도 정읍시 내장동 52\n"
     ]
    }
   ],
   "source": [
    "print(n_p.sub('\\g<1> \\g<2>', s))"
   ]
  },
  {
   "cell_type": "code",
   "execution_count": 156,
   "metadata": {},
   "outputs": [],
   "source": [
    "# -동과 숫자 띄어쓰기\n",
    "n_p = re.compile('([가-힣0-9]+동)([0-9]+)')\n",
    "\n",
    "for i, one in enumerate(temp):\n",
    "    if n_p.search(one):\n",
    "        temp[i] = n_p.sub('\\g<1> \\g<2>', one)"
   ]
  },
  {
   "cell_type": "code",
   "execution_count": 157,
   "metadata": {},
   "outputs": [
    {
     "data": {
      "text/plain": [
       "'제주특별자치도 제주시 연동 2334-4'"
      ]
     },
     "execution_count": 157,
     "metadata": {},
     "output_type": "execute_result"
    }
   ],
   "source": [
    "temp[988]"
   ]
  },
  {
   "cell_type": "code",
   "execution_count": 158,
   "metadata": {},
   "outputs": [
    {
     "data": {
      "text/plain": [
       "'전라북도 정읍시 내장동 52'"
      ]
     },
     "execution_count": 158,
     "metadata": {},
     "output_type": "execute_result"
    }
   ],
   "source": [
    "temp[447]"
   ]
  },
  {
   "cell_type": "markdown",
   "metadata": {},
   "source": [
    "##### -리과 숫자 띄어쓰기"
   ]
  },
  {
   "cell_type": "code",
   "execution_count": 160,
   "metadata": {},
   "outputs": [
    {
     "name": "stdout",
     "output_type": "stream",
     "text": [
      "190\n"
     ]
    }
   ],
   "source": [
    "n_p = re.compile('([가-힣0-9]+리)([0-9]+)')\n",
    "for i, one in enumerate(temp):\n",
    "    if n_p.search(one):\n",
    "        print(i)\n",
    "        break"
   ]
  },
  {
   "cell_type": "code",
   "execution_count": 161,
   "metadata": {},
   "outputs": [
    {
     "data": {
      "text/plain": [
       "'전라북도 익산시 함열읍 와리164'"
      ]
     },
     "execution_count": 161,
     "metadata": {},
     "output_type": "execute_result"
    }
   ],
   "source": [
    "temp[190]"
   ]
  },
  {
   "cell_type": "code",
   "execution_count": 162,
   "metadata": {},
   "outputs": [
    {
     "name": "stdout",
     "output_type": "stream",
     "text": [
      "전라북도 익산시 함열읍 와리 164\n"
     ]
    }
   ],
   "source": [
    "s = '전라북도 익산시 함열읍 와리164'\n",
    "n_p = re.compile('([가-힣0-9]+리)([0-9]+)')\n",
    "print(n_p.sub('\\g<1> \\g<2>', s))"
   ]
  },
  {
   "cell_type": "code",
   "execution_count": 163,
   "metadata": {},
   "outputs": [
    {
     "name": "stdout",
     "output_type": "stream",
     "text": [
      "4\n"
     ]
    }
   ],
   "source": [
    "s = '충청북도 단양군 적성면 기동리'\n",
    "for i, one in enumerate(temp):\n",
    "    if one == s:\n",
    "        print(i)\n",
    "        break"
   ]
  },
  {
   "cell_type": "code",
   "execution_count": 164,
   "metadata": {},
   "outputs": [
    {
     "data": {
      "text/plain": [
       "'충청북도 단양군 적성면 기동리'"
      ]
     },
     "execution_count": 164,
     "metadata": {},
     "output_type": "execute_result"
    }
   ],
   "source": [
    "temp[4]"
   ]
  },
  {
   "cell_type": "code",
   "execution_count": 165,
   "metadata": {},
   "outputs": [
    {
     "name": "stdout",
     "output_type": "stream",
     "text": [
      "충청북도 단양군 적성면 기동리\n"
     ]
    }
   ],
   "source": [
    "print(n_p.sub('\\g<1> \\g<2>', s))"
   ]
  },
  {
   "cell_type": "code",
   "execution_count": 166,
   "metadata": {},
   "outputs": [
    {
     "name": "stdout",
     "output_type": "stream",
     "text": [
      "204\n"
     ]
    }
   ],
   "source": [
    "s = '충청북도 괴산군 괴산읍 서부리 654'\n",
    "for i, one in enumerate(temp):\n",
    "    if one == s:\n",
    "        print(i)\n",
    "        break"
   ]
  },
  {
   "cell_type": "code",
   "execution_count": 167,
   "metadata": {},
   "outputs": [
    {
     "data": {
      "text/plain": [
       "'충청북도 괴산군 괴산읍 서부리 654'"
      ]
     },
     "execution_count": 167,
     "metadata": {},
     "output_type": "execute_result"
    }
   ],
   "source": [
    "temp[204]"
   ]
  },
  {
   "cell_type": "code",
   "execution_count": 168,
   "metadata": {},
   "outputs": [
    {
     "name": "stdout",
     "output_type": "stream",
     "text": [
      "충청북도 괴산군 괴산읍 서부리 654\n"
     ]
    }
   ],
   "source": [
    "print(n_p.sub('\\g<1> \\g<2>', s))"
   ]
  },
  {
   "cell_type": "code",
   "execution_count": 169,
   "metadata": {},
   "outputs": [],
   "source": [
    "# -리과 숫자 띄어쓰기\n",
    "n_p = re.compile('([가-힣0-9]+리)([0-9]+)')\n",
    "\n",
    "for i, one in enumerate(temp):\n",
    "    if n_p.search(one):\n",
    "        temp[i] = n_p.sub('\\g<1> \\g<2>', one)"
   ]
  },
  {
   "cell_type": "code",
   "execution_count": 170,
   "metadata": {},
   "outputs": [
    {
     "data": {
      "text/plain": [
       "'전라북도 익산시 함열읍 와리 164'"
      ]
     },
     "execution_count": 170,
     "metadata": {},
     "output_type": "execute_result"
    }
   ],
   "source": [
    "temp[190]"
   ]
  },
  {
   "cell_type": "code",
   "execution_count": 171,
   "metadata": {},
   "outputs": [
    {
     "data": {
      "text/plain": [
       "'충청북도 단양군 적성면 기동리'"
      ]
     },
     "execution_count": 171,
     "metadata": {},
     "output_type": "execute_result"
    }
   ],
   "source": [
    "temp[4]"
   ]
  },
  {
   "cell_type": "code",
   "execution_count": 172,
   "metadata": {},
   "outputs": [
    {
     "data": {
      "text/plain": [
       "'충청북도 괴산군 괴산읍 서부리 654'"
      ]
     },
     "execution_count": 172,
     "metadata": {},
     "output_type": "execute_result"
    }
   ],
   "source": [
    "temp[204]"
   ]
  },
  {
   "cell_type": "markdown",
   "metadata": {},
   "source": [
    "#### 복수 주소 정리\n",
    "- 한 주소에 2개 들어있는 것 처리"
   ]
  },
  {
   "cell_type": "markdown",
   "metadata": {},
   "source": [
    "##### 동일 지역\n",
    "- 99,756개"
   ]
  },
  {
   "cell_type": "code",
   "execution_count": 173,
   "metadata": {},
   "outputs": [
    {
     "name": "stdout",
     "output_type": "stream",
     "text": [
      "<class 'pandas.core.series.Series'>\n",
      "RangeIndex: 3857547 entries, 0 to 3857546\n",
      "Series name: 주소\n",
      "Non-Null Count    Dtype \n",
      "--------------    ----- \n",
      "3857547 non-null  object\n",
      "dtypes: object(1)\n",
      "memory usage: 29.4+ MB\n"
     ]
    }
   ],
   "source": [
    "old_adr_df['주소'].info()"
   ]
  },
  {
   "cell_type": "code",
   "execution_count": 174,
   "metadata": {},
   "outputs": [
    {
     "name": "stdout",
     "output_type": "stream",
     "text": [
      "400516\n"
     ]
    }
   ],
   "source": [
    "for i, s in enumerate(old_adr_df['주소']):\n",
    "    if ('청양군' in s) and ('태안군' in s):\n",
    "        print(i)\n",
    "        break"
   ]
  },
  {
   "cell_type": "code",
   "execution_count": 175,
   "metadata": {},
   "outputs": [
    {
     "data": {
      "text/plain": [
       "'충청남도 청양군 청양읍 군량리 533 충청남도 태안군 소원면 신덕리 272'"
      ]
     },
     "execution_count": 175,
     "metadata": {},
     "output_type": "execute_result"
    }
   ],
   "source": [
    "old_adr_df['주소'].to_numpy()[400516]"
   ]
  },
  {
   "cell_type": "code",
   "execution_count": 176,
   "metadata": {},
   "outputs": [
    {
     "data": {
      "text/plain": [
       "array([400516, 402168, 532375, 755429, 781579], dtype=int64)"
      ]
     },
     "execution_count": 176,
     "metadata": {},
     "output_type": "execute_result"
    }
   ],
   "source": [
    "np.where(temp == '충청남도 청양군 청양읍 군량리 533 충청남도 태안군 소원면 신덕리 272')[0][:5]"
   ]
  },
  {
   "cell_type": "code",
   "execution_count": 177,
   "metadata": {},
   "outputs": [
    {
     "data": {
      "text/plain": [
       "'충청남도 청양군 청양읍 군량리 533 충청남도 태안군 소원면 신덕리 272'"
      ]
     },
     "execution_count": 177,
     "metadata": {},
     "output_type": "execute_result"
    }
   ],
   "source": [
    "temp[400516]"
   ]
  },
  {
   "cell_type": "code",
   "execution_count": 178,
   "metadata": {},
   "outputs": [
    {
     "data": {
      "text/plain": [
       "array(['구로구', '통영시', '완주군', '공주시', '단양군'], dtype=object)"
      ]
     },
     "execution_count": 178,
     "metadata": {},
     "output_type": "execute_result"
    }
   ],
   "source": [
    "temp_si = old_adr_df['시군구'].to_numpy()\n",
    "temp_si[:5]"
   ]
  },
  {
   "cell_type": "code",
   "execution_count": 179,
   "metadata": {},
   "outputs": [
    {
     "name": "stderr",
     "output_type": "stream",
     "text": [
      "3857547it [00:11, 335577.14it/s]\n"
     ]
    }
   ],
   "source": [
    "count = 0\n",
    "for i, one in tqdm(enumerate(temp)):\n",
    "    si = list(one.split())[0]\n",
    "    one = one.replace(' ' + si, '$' + si)\n",
    "    multi_adr = list(one.split('$'))\n",
    "    if len(multi_adr) == 2:\n",
    "        count += 1\n",
    "    for j, two in enumerate(multi_adr):\n",
    "        if temp_si[i] in two:\n",
    "            temp[i] = multi_adr[j]"
   ]
  },
  {
   "cell_type": "code",
   "execution_count": 180,
   "metadata": {},
   "outputs": [
    {
     "data": {
      "text/plain": [
       "'충청남도 청양군 청양읍 군량리 533'"
      ]
     },
     "execution_count": 180,
     "metadata": {},
     "output_type": "execute_result"
    }
   ],
   "source": [
    "temp[400516]"
   ]
  },
  {
   "cell_type": "code",
   "execution_count": 181,
   "metadata": {},
   "outputs": [
    {
     "data": {
      "text/plain": [
       "99756"
      ]
     },
     "execution_count": 181,
     "metadata": {},
     "output_type": "execute_result"
    }
   ],
   "source": [
    "count"
   ]
  },
  {
   "cell_type": "markdown",
   "metadata": {},
   "source": [
    "##### 다른 지역"
   ]
  },
  {
   "cell_type": "code",
   "execution_count": 182,
   "metadata": {},
   "outputs": [],
   "source": [
    "rep_dict = {\" 광주광역시\":\"$광주광역시\" ,\" 전라남도\":\"$전라남도\",\" 전라북도\":\"$전라북도\",\" 제주특별자치도\":\"$제주특별자치도\",\" 세종특별자치시\":\"$세종특별자치시\",\" 서울특별시\":\"$서울특별시\",\" 대전광역시\":\"$대전광역시\",\" 경기도\":\"$경기도\",\" 인천광역시\":\"$인천광역시\",\" 경상남도\":\"$경상남도\",\" 강원도\":\"$강원도\",\" 충청북도\":\"$충청북도\",\" 경상북도\":\"$경상북도\",\" 충청남도\":\"$충청남도\",\" 울산광역시\":\"$울산광역시\",\" 대구광역시\":\"$대구광역시\",\" 부산광역시\":\"$부산광역시\"}"
   ]
  },
  {
   "cell_type": "code",
   "execution_count": 183,
   "metadata": {},
   "outputs": [
    {
     "name": "stdout",
     "output_type": "stream",
     "text": [
      " 광주광역시 $광주광역시\n",
      " 전라남도 $전라남도\n",
      " 전라북도 $전라북도\n",
      " 제주특별자치도 $제주특별자치도\n",
      " 세종특별자치시 $세종특별자치시\n",
      " 서울특별시 $서울특별시\n",
      " 대전광역시 $대전광역시\n",
      " 경기도 $경기도\n",
      " 인천광역시 $인천광역시\n",
      " 경상남도 $경상남도\n",
      " 강원도 $강원도\n",
      " 충청북도 $충청북도\n",
      " 경상북도 $경상북도\n",
      " 충청남도 $충청남도\n",
      " 울산광역시 $울산광역시\n",
      " 대구광역시 $대구광역시\n",
      " 부산광역시 $부산광역시\n"
     ]
    }
   ],
   "source": [
    "for k, v in rep_dict.items():\n",
    "    print(k, v)"
   ]
  },
  {
   "cell_type": "code",
   "execution_count": 184,
   "metadata": {},
   "outputs": [
    {
     "data": {
      "text/plain": [
       "'전라북도 순창군 풍산면 반월리 12-4$충청남도 공주시 탄천면 삼각리 523-2'"
      ]
     },
     "execution_count": 184,
     "metadata": {},
     "output_type": "execute_result"
    }
   ],
   "source": [
    "s = '전라북도 순창군 풍산면 반월리 12-4 충청남도 공주시 탄천면 삼각리 523-2'\n",
    "for k, v in rep_dict.items():\n",
    "    s = s.replace(k, v)\n",
    "s"
   ]
  },
  {
   "cell_type": "code",
   "execution_count": 186,
   "metadata": {},
   "outputs": [
    {
     "name": "stdout",
     "output_type": "stream",
     "text": [
      "335492\n"
     ]
    }
   ],
   "source": [
    "s = '전라북도 순창군 풍산면 반월리 12-4 충청남도 공주시 탄천면 삼각리 523-2'\n",
    "for i, one in enumerate(temp):\n",
    "    if one == s:\n",
    "        print(i)\n",
    "        break"
   ]
  },
  {
   "cell_type": "code",
   "execution_count": 187,
   "metadata": {},
   "outputs": [
    {
     "data": {
      "text/plain": [
       "'전라북도 순창군 풍산면 반월리 12-4 충청남도 공주시 탄천면 삼각리 523-2'"
      ]
     },
     "execution_count": 187,
     "metadata": {},
     "output_type": "execute_result"
    }
   ],
   "source": [
    "temp[335492]"
   ]
  },
  {
   "cell_type": "code",
   "execution_count": 188,
   "metadata": {},
   "outputs": [
    {
     "data": {
      "text/plain": [
       "'전라북도 순창군 풍산면 반월리 12-4 충청남도 공주시 탄천면 삼각리 523-2'"
      ]
     },
     "execution_count": 188,
     "metadata": {},
     "output_type": "execute_result"
    }
   ],
   "source": [
    "temp[335552]"
   ]
  },
  {
   "cell_type": "code",
   "execution_count": 161,
   "metadata": {},
   "outputs": [],
   "source": [
    "sep = ' 광주광역시| 전라남도| 전라북도| 제주특별자치도| 세종특별자치시| 서울특별시| 대전광역시| 경기도| 인천광역시| 경상남도| 강원도| 충청북도| 경상북도| 충청남도| 울산광역시| 대구광역시| 부산광역시'"
   ]
  },
  {
   "cell_type": "code",
   "execution_count": 189,
   "metadata": {},
   "outputs": [],
   "source": [
    "count = 0\n",
    "multi_adr_old_indx = []\n",
    "for i, one in enumerate(temp):\n",
    "    multi_local = list(re.split(sep, one))\n",
    "    if len(multi_local) == 2:\n",
    "        multi_adr_old_indx.append(i)\n",
    "        count += 1"
   ]
  },
  {
   "cell_type": "code",
   "execution_count": 190,
   "metadata": {},
   "outputs": [
    {
     "data": {
      "text/plain": [
       "5427"
      ]
     },
     "execution_count": 190,
     "metadata": {},
     "output_type": "execute_result"
    }
   ],
   "source": [
    "count"
   ]
  },
  {
   "cell_type": "code",
   "execution_count": 191,
   "metadata": {},
   "outputs": [
    {
     "data": {
      "text/plain": [
       "[335492, 335552, 531411, 607542, 611395]"
      ]
     },
     "execution_count": 191,
     "metadata": {},
     "output_type": "execute_result"
    }
   ],
   "source": [
    "multi_adr_old_indx[:5]"
   ]
  },
  {
   "cell_type": "code",
   "execution_count": 195,
   "metadata": {},
   "outputs": [
    {
     "data": {
      "text/plain": [
       "[3779709, 3804507, 3819507, 3840754, 3852186]"
      ]
     },
     "execution_count": 195,
     "metadata": {},
     "output_type": "execute_result"
    }
   ],
   "source": [
    "multi_adr_old_indx[-5:]"
   ]
  },
  {
   "cell_type": "code",
   "execution_count": 192,
   "metadata": {},
   "outputs": [
    {
     "data": {
      "text/plain": [
       "'전라북도 순창군 풍산면 반월리 12-4 충청남도 공주시 탄천면 삼각리 523-2'"
      ]
     },
     "execution_count": 192,
     "metadata": {},
     "output_type": "execute_result"
    }
   ],
   "source": [
    "temp[335492]"
   ]
  },
  {
   "cell_type": "code",
   "execution_count": 197,
   "metadata": {},
   "outputs": [
    {
     "data": {
      "text/plain": [
       "'전라북도 순창군 풍산면 반월리 12-4 충청남도 공주시 탄천면 삼각리 523-2'"
      ]
     },
     "execution_count": 197,
     "metadata": {},
     "output_type": "execute_result"
    }
   ],
   "source": [
    "temp[3852186]"
   ]
  },
  {
   "cell_type": "code",
   "execution_count": 198,
   "metadata": {},
   "outputs": [
    {
     "name": "stderr",
     "output_type": "stream",
     "text": [
      "3857547it [00:25, 148919.89it/s]\n"
     ]
    }
   ],
   "source": [
    "count = 0\n",
    "for i, one in tqdm(enumerate(temp)):\n",
    "    for k, v in rep_dict.items():\n",
    "        one = one.replace(k, v)\n",
    "    multi_adr = list(one.split('$'))\n",
    "    if len(multi_adr) == 2:\n",
    "        count += 1\n",
    "    for j, two in enumerate(multi_adr):\n",
    "        if temp_si[i] in two:\n",
    "            temp[i] = multi_adr[j]"
   ]
  },
  {
   "cell_type": "code",
   "execution_count": 199,
   "metadata": {},
   "outputs": [
    {
     "data": {
      "text/plain": [
       "5427"
      ]
     },
     "execution_count": 199,
     "metadata": {},
     "output_type": "execute_result"
    }
   ],
   "source": [
    "count"
   ]
  },
  {
   "cell_type": "code",
   "execution_count": 200,
   "metadata": {},
   "outputs": [
    {
     "data": {
      "text/plain": [
       "'전라북도 순창군 풍산면 반월리 12-4'"
      ]
     },
     "execution_count": 200,
     "metadata": {},
     "output_type": "execute_result"
    }
   ],
   "source": [
    "temp[335492]"
   ]
  },
  {
   "cell_type": "code",
   "execution_count": 201,
   "metadata": {},
   "outputs": [
    {
     "data": {
      "text/plain": [
       "'전라북도 순창군 풍산면 반월리 12-4'"
      ]
     },
     "execution_count": 201,
     "metadata": {},
     "output_type": "execute_result"
    }
   ],
   "source": [
    "temp[3852186]"
   ]
  },
  {
   "cell_type": "markdown",
   "metadata": {},
   "source": [
    "#### 구주소 정리 파일 기존 df(old_adr_df)로 복사"
   ]
  },
  {
   "cell_type": "code",
   "execution_count": 202,
   "metadata": {},
   "outputs": [],
   "source": [
    "old_adr_df['주소'] = temp"
   ]
  },
  {
   "cell_type": "code",
   "execution_count": 203,
   "metadata": {},
   "outputs": [
    {
     "data": {
      "text/plain": [
       "0    서울특별시 구로구 오류동 174-10  천왕역 환승주차장 1층\n",
       "1               경상남도 통영시 광도면 죽림리 292-33\n",
       "2                  전라북도 완주군 봉동읍 둔산리 881\n",
       "3                      충청남도 공주시 정안면 석송리\n",
       "4                      충청북도 단양군 적성면 기동리\n",
       "Name: 주소, dtype: object"
      ]
     },
     "execution_count": 203,
     "metadata": {},
     "output_type": "execute_result"
    }
   ],
   "source": [
    "old_adr_df['주소'].head()"
   ]
  },
  {
   "cell_type": "code",
   "execution_count": 204,
   "metadata": {},
   "outputs": [
    {
     "name": "stdout",
     "output_type": "stream",
     "text": [
      "<class 'pandas.core.series.Series'>\n",
      "RangeIndex: 3857547 entries, 0 to 3857546\n",
      "Series name: 주소\n",
      "Non-Null Count    Dtype \n",
      "--------------    ----- \n",
      "3857547 non-null  object\n",
      "dtypes: object(1)\n",
      "memory usage: 29.4+ MB\n"
     ]
    }
   ],
   "source": [
    "# data : 3857547 개\n",
    "old_adr_df['주소'].info()"
   ]
  },
  {
   "cell_type": "code",
   "execution_count": 205,
   "metadata": {},
   "outputs": [
    {
     "data": {
      "text/html": [
       "<div>\n",
       "<style scoped>\n",
       "    .dataframe tbody tr th:only-of-type {\n",
       "        vertical-align: middle;\n",
       "    }\n",
       "\n",
       "    .dataframe tbody tr th {\n",
       "        vertical-align: top;\n",
       "    }\n",
       "\n",
       "    .dataframe thead th {\n",
       "        text-align: right;\n",
       "    }\n",
       "</style>\n",
       "<table border=\"1\" class=\"dataframe\">\n",
       "  <thead>\n",
       "    <tr style=\"text-align: right;\">\n",
       "      <th></th>\n",
       "      <th>충전소명</th>\n",
       "      <th>충전기ID</th>\n",
       "      <th>지역</th>\n",
       "      <th>시군구</th>\n",
       "      <th>주소</th>\n",
       "      <th>충전기타입</th>\n",
       "      <th>충전시작일시</th>\n",
       "      <th>충전종료일시</th>\n",
       "      <th>충전시간</th>\n",
       "      <th>충전량</th>\n",
       "      <th>...</th>\n",
       "      <th>충전시작일시(변환)</th>\n",
       "      <th>충전종료_년도</th>\n",
       "      <th>충전종료_월</th>\n",
       "      <th>충전종료_일</th>\n",
       "      <th>충전종료_시</th>\n",
       "      <th>충전종료_분</th>\n",
       "      <th>충전종료_초</th>\n",
       "      <th>충전종료일시(변환)</th>\n",
       "      <th>충전시간(계산)</th>\n",
       "      <th>raw값과_계산값_차이</th>\n",
       "    </tr>\n",
       "  </thead>\n",
       "  <tbody>\n",
       "  </tbody>\n",
       "</table>\n",
       "<p>0 rows × 27 columns</p>\n",
       "</div>"
      ],
      "text/plain": [
       "Empty DataFrame\n",
       "Columns: [충전소명, 충전기ID, 지역, 시군구, 주소, 충전기타입, 충전시작일시, 충전종료일시, 충전시간, 충전량, 충전용량, 충전시작_년도, 충전시작_월, 충전시작_일, 충전시작_시, 충전시작_분, 충전시작_초, 충전시작일시(변환), 충전종료_년도, 충전종료_월, 충전종료_일, 충전종료_시, 충전종료_분, 충전종료_초, 충전종료일시(변환), 충전시간(계산), raw값과_계산값_차이]\n",
       "Index: []\n",
       "\n",
       "[0 rows x 27 columns]"
      ]
     },
     "execution_count": 205,
     "metadata": {},
     "output_type": "execute_result"
    }
   ],
   "source": [
    "new_adr_df[(new_adr_df['지역'] != '서울특별시') & (new_adr_df['주소'] == '서울특별시 강남구 양재대로31길')]"
   ]
  },
  {
   "cell_type": "markdown",
   "metadata": {},
   "source": [
    "##### 신주소, 구주소 분리 파일 출력"
   ]
  },
  {
   "cell_type": "code",
   "execution_count": 206,
   "metadata": {},
   "outputs": [],
   "source": [
    "new_adr_df.to_csv('2020-22년_급속충전_신주소.csv', encoding='utf-8')"
   ]
  },
  {
   "cell_type": "code",
   "execution_count": 207,
   "metadata": {},
   "outputs": [],
   "source": [
    "old_adr_df.to_csv('2020-22년_급속충전_구주소.csv', encoding='utf-8')"
   ]
  },
  {
   "cell_type": "markdown",
   "metadata": {},
   "source": [
    "## 파일 로드(다시 시작)"
   ]
  },
  {
   "cell_type": "code",
   "execution_count": 4,
   "metadata": {},
   "outputs": [
    {
     "name": "stderr",
     "output_type": "stream",
     "text": [
      "C:\\Users\\kbj\\AppData\\Local\\Temp\\ipykernel_13392\\3769772588.py:1: DtypeWarning: Columns (11) have mixed types. Specify dtype option on import or set low_memory=False.\n",
      "  new_adr_df = pd.read_csv('2020-22년_급속충전_신주소.csv', index_col=0, dtype={'충전시작_년도':np.int16, '충전종료_년도':np.int16, '충전시작_월':np.int8,  '충전시작_일':np.int8, '충전시작_시':np.int8, '충전시작_분':np.int8, '충전시작_초':np.int8, '충전종료_월':np.int8, '충전종료_일':np.int8, '충전종료_시':np.int8, '충전종료_분':np.int8, '충전종료_초':np.int8, '충전기ID':np.int8})\n"
     ]
    },
    {
     "name": "stdout",
     "output_type": "stream",
     "text": [
      "<class 'pandas.core.frame.DataFrame'>\n",
      "RangeIndex: 7755902 entries, 0 to 7755901\n",
      "Data columns (total 27 columns):\n",
      " #   Column        Dtype          \n",
      "---  ------        -----          \n",
      " 0   충전소명          object         \n",
      " 1   충전기ID         int8           \n",
      " 2   지역            object         \n",
      " 3   시군구           object         \n",
      " 4   주소            object         \n",
      " 5   충전기타입         object         \n",
      " 6   충전시작일시        int64          \n",
      " 7   충전종료일시        int64          \n",
      " 8   충전시간          timedelta64[ns]\n",
      " 9   충전량           float64        \n",
      " 10  충전용량          object         \n",
      " 11  충전시작_년도       int16          \n",
      " 12  충전시작_월        int8           \n",
      " 13  충전시작_일        int8           \n",
      " 14  충전시작_시        int8           \n",
      " 15  충전시작_분        int8           \n",
      " 16  충전시작_초        int8           \n",
      " 17  충전시작일시(변환)    object         \n",
      " 18  충전종료_년도       int16          \n",
      " 19  충전종료_월        int8           \n",
      " 20  충전종료_일        int8           \n",
      " 21  충전종료_시        int8           \n",
      " 22  충전종료_분        int8           \n",
      " 23  충전종료_초        int8           \n",
      " 24  충전종료일시(변환)    object         \n",
      " 25  충전시간(계산)      timedelta64[ns]\n",
      " 26  raw값과_계산값_차이  object         \n",
      "dtypes: float64(1), int16(2), int64(2), int8(11), object(9), timedelta64[ns](2)\n",
      "memory usage: 939.4+ MB\n"
     ]
    }
   ],
   "source": [
    "# new_adr_df = pd.read_csv('2020-22년_급속충전_신주소.csv', index_col=0, dtype={'충전시작_년도':np.int16, '충전종료_년도':np.int16, '충전시작_월':np.int8,  '충전시작_일':np.int8, '충전시작_시':np.int8, '충전시작_분':np.int8, '충전시작_초':np.int8, '충전종료_월':np.int8, '충전종료_일':np.int8, '충전종료_시':np.int8, '충전종료_분':np.int8, '충전종료_초':np.int8, '충전기ID':np.int8})\n",
    "# new_adr_df['충전시간'] = pd.to_timedelta(new_adr_df['충전시간'])\n",
    "# new_adr_df['충전시간(계산)'] = pd.to_timedelta(new_adr_df['충전시간(계산)'])\n",
    "# new_adr_df = new_adr_df.reset_index(drop=True)\n",
    "# new_adr_df.info()"
   ]
  },
  {
   "cell_type": "code",
   "execution_count": 5,
   "metadata": {},
   "outputs": [
    {
     "name": "stderr",
     "output_type": "stream",
     "text": [
      "C:\\Users\\kbj\\AppData\\Local\\Temp\\ipykernel_13392\\4119370516.py:1: DtypeWarning: Columns (11) have mixed types. Specify dtype option on import or set low_memory=False.\n",
      "  old_adr_df = pd.read_csv('2020-22년_급속충전_구주소.csv', index_col=0, dtype={'충전시작_년도':np.int16, '충전종료_년도':np.int16, '충전시작_월':np.int8,  '충전시작_일':np.int8, '충전시작_시':np.int8, '충전시작_분':np.int8, '충전시작_초':np.int8, '충전종료_월':np.int8, '충전종료_일':np.int8, '충전종료_시':np.int8, '충전종료_분':np.int8, '충전종료_초':np.int8, '충전기ID':np.int8})\n"
     ]
    },
    {
     "name": "stdout",
     "output_type": "stream",
     "text": [
      "<class 'pandas.core.frame.DataFrame'>\n",
      "RangeIndex: 3857547 entries, 0 to 3857546\n",
      "Data columns (total 27 columns):\n",
      " #   Column        Dtype          \n",
      "---  ------        -----          \n",
      " 0   충전소명          object         \n",
      " 1   충전기ID         int8           \n",
      " 2   지역            object         \n",
      " 3   시군구           object         \n",
      " 4   주소            object         \n",
      " 5   충전기타입         object         \n",
      " 6   충전시작일시        int64          \n",
      " 7   충전종료일시        int64          \n",
      " 8   충전시간          timedelta64[ns]\n",
      " 9   충전량           float64        \n",
      " 10  충전용량          object         \n",
      " 11  충전시작_년도       int16          \n",
      " 12  충전시작_월        int8           \n",
      " 13  충전시작_일        int8           \n",
      " 14  충전시작_시        int8           \n",
      " 15  충전시작_분        int8           \n",
      " 16  충전시작_초        int8           \n",
      " 17  충전시작일시(변환)    object         \n",
      " 18  충전종료_년도       int16          \n",
      " 19  충전종료_월        int8           \n",
      " 20  충전종료_일        int8           \n",
      " 21  충전종료_시        int8           \n",
      " 22  충전종료_분        int8           \n",
      " 23  충전종료_초        int8           \n",
      " 24  충전종료일시(변환)    object         \n",
      " 25  충전시간(계산)      timedelta64[ns]\n",
      " 26  raw값과_계산값_차이  object         \n",
      "dtypes: float64(1), int16(2), int64(2), int8(11), object(9), timedelta64[ns](2)\n",
      "memory usage: 467.2+ MB\n"
     ]
    }
   ],
   "source": [
    "# old_adr_df = pd.read_csv('2020-22년_급속충전_구주소.csv', index_col=0, dtype={'충전시작_년도':np.int16, '충전종료_년도':np.int16, '충전시작_월':np.int8,  '충전시작_일':np.int8, '충전시작_시':np.int8, '충전시작_분':np.int8, '충전시작_초':np.int8, '충전종료_월':np.int8, '충전종료_일':np.int8, '충전종료_시':np.int8, '충전종료_분':np.int8, '충전종료_초':np.int8, '충전기ID':np.int8})\n",
    "# old_adr_df['충전시간'] = pd.to_timedelta(old_adr_df['충전시간'])\n",
    "# old_adr_df['충전시간(계산)'] = pd.to_timedelta(old_adr_df['충전시간(계산)'])\n",
    "# old_adr_df = old_adr_df.reset_index(drop=True)\n",
    "# old_adr_df.info()"
   ]
  },
  {
   "cell_type": "code",
   "execution_count": 6,
   "metadata": {},
   "outputs": [
    {
     "name": "stdout",
     "output_type": "stream",
     "text": [
      "<class 'pandas.core.frame.DataFrame'>\n",
      "RangeIndex: 11613449 entries, 0 to 11613448\n",
      "Data columns (total 27 columns):\n",
      " #   Column        Dtype          \n",
      "---  ------        -----          \n",
      " 0   충전소명          object         \n",
      " 1   충전기ID         int8           \n",
      " 2   지역            object         \n",
      " 3   시군구           object         \n",
      " 4   주소            object         \n",
      " 5   충전기타입         object         \n",
      " 6   충전시작일시        int64          \n",
      " 7   충전종료일시        int64          \n",
      " 8   충전시간          timedelta64[ns]\n",
      " 9   충전량           float64        \n",
      " 10  충전용량          object         \n",
      " 11  충전시작_년도       int16          \n",
      " 12  충전시작_월        int8           \n",
      " 13  충전시작_일        int8           \n",
      " 14  충전시작_시        int8           \n",
      " 15  충전시작_분        int8           \n",
      " 16  충전시작_초        int8           \n",
      " 17  충전시작일시(변환)    object         \n",
      " 18  충전종료_년도       int16          \n",
      " 19  충전종료_월        int8           \n",
      " 20  충전종료_일        int8           \n",
      " 21  충전종료_시        int8           \n",
      " 22  충전종료_분        int8           \n",
      " 23  충전종료_초        int8           \n",
      " 24  충전종료일시(변환)    object         \n",
      " 25  충전시간(계산)      timedelta64[ns]\n",
      " 26  raw값과_계산값_차이  object         \n",
      "dtypes: float64(1), int16(2), int64(2), int8(11), object(9), timedelta64[ns](2)\n",
      "memory usage: 1.4+ GB\n"
     ]
    }
   ],
   "source": [
    "# # [주의!]신/구주소 파일 불러올시 실행\n",
    "# df = pd.concat([new_adr_df, old_adr_df], ignore_index=True)\n",
    "# df.info()"
   ]
  },
  {
   "cell_type": "markdown",
   "metadata": {},
   "source": [
    "### 신주소 상세 분리"
   ]
  },
  {
   "cell_type": "markdown",
   "metadata": {},
   "source": [
    "#### 상세 분리"
   ]
  },
  {
   "cell_type": "code",
   "execution_count": 7,
   "metadata": {},
   "outputs": [
    {
     "name": "stdout",
     "output_type": "stream",
     "text": [
      "<class 'pandas.core.frame.DataFrame'>\n",
      "RangeIndex: 7755902 entries, 0 to 7755901\n",
      "Data columns (total 27 columns):\n",
      " #   Column        Dtype          \n",
      "---  ------        -----          \n",
      " 0   충전소명          object         \n",
      " 1   충전기ID         int8           \n",
      " 2   지역            object         \n",
      " 3   시군구           object         \n",
      " 4   주소            object         \n",
      " 5   충전기타입         object         \n",
      " 6   충전시작일시        int64          \n",
      " 7   충전종료일시        int64          \n",
      " 8   충전시간          timedelta64[ns]\n",
      " 9   충전량           float64        \n",
      " 10  충전용량          object         \n",
      " 11  충전시작_년도       int16          \n",
      " 12  충전시작_월        int8           \n",
      " 13  충전시작_일        int8           \n",
      " 14  충전시작_시        int8           \n",
      " 15  충전시작_분        int8           \n",
      " 16  충전시작_초        int8           \n",
      " 17  충전시작일시(변환)    object         \n",
      " 18  충전종료_년도       int16          \n",
      " 19  충전종료_월        int8           \n",
      " 20  충전종료_일        int8           \n",
      " 21  충전종료_시        int8           \n",
      " 22  충전종료_분        int8           \n",
      " 23  충전종료_초        int8           \n",
      " 24  충전종료일시(변환)    object         \n",
      " 25  충전시간(계산)      timedelta64[ns]\n",
      " 26  raw값과_계산값_차이  object         \n",
      "dtypes: float64(1), int16(2), int64(2), int8(11), object(9), timedelta64[ns](2)\n",
      "memory usage: 939.4+ MB\n"
     ]
    }
   ],
   "source": [
    "new_adr_df.info()"
   ]
  },
  {
   "cell_type": "code",
   "execution_count": 8,
   "metadata": {},
   "outputs": [
    {
     "data": {
      "text/html": [
       "<div>\n",
       "<style scoped>\n",
       "    .dataframe tbody tr th:only-of-type {\n",
       "        vertical-align: middle;\n",
       "    }\n",
       "\n",
       "    .dataframe tbody tr th {\n",
       "        vertical-align: top;\n",
       "    }\n",
       "\n",
       "    .dataframe thead th {\n",
       "        text-align: right;\n",
       "    }\n",
       "</style>\n",
       "<table border=\"1\" class=\"dataframe\">\n",
       "  <thead>\n",
       "    <tr style=\"text-align: right;\">\n",
       "      <th></th>\n",
       "      <th>충전소명</th>\n",
       "      <th>충전기ID</th>\n",
       "      <th>지역</th>\n",
       "      <th>시군구</th>\n",
       "      <th>주소</th>\n",
       "      <th>충전기타입</th>\n",
       "      <th>충전시작일시</th>\n",
       "      <th>충전종료일시</th>\n",
       "      <th>충전시간</th>\n",
       "      <th>충전량</th>\n",
       "      <th>...</th>\n",
       "      <th>충전시작일시(변환)</th>\n",
       "      <th>충전종료_년도</th>\n",
       "      <th>충전종료_월</th>\n",
       "      <th>충전종료_일</th>\n",
       "      <th>충전종료_시</th>\n",
       "      <th>충전종료_분</th>\n",
       "      <th>충전종료_초</th>\n",
       "      <th>충전종료일시(변환)</th>\n",
       "      <th>충전시간(계산)</th>\n",
       "      <th>raw값과_계산값_차이</th>\n",
       "    </tr>\n",
       "  </thead>\n",
       "  <tbody>\n",
       "    <tr>\n",
       "      <th>0</th>\n",
       "      <td>진영휴게소(부산방향)</td>\n",
       "      <td>1</td>\n",
       "      <td>경상남도</td>\n",
       "      <td>김해시</td>\n",
       "      <td>경상남도 김해시 진영읍 하계로96번길 94-4  주유소 옆 주차장</td>\n",
       "      <td>DC차데모+AC3상+DC콤보</td>\n",
       "      <td>20200101000244</td>\n",
       "      <td>20200101004215</td>\n",
       "      <td>0 days 00:39:25</td>\n",
       "      <td>20.22000</td>\n",
       "      <td>...</td>\n",
       "      <td>2020-01-01 00:02:44</td>\n",
       "      <td>2020</td>\n",
       "      <td>1</td>\n",
       "      <td>1</td>\n",
       "      <td>0</td>\n",
       "      <td>42</td>\n",
       "      <td>15</td>\n",
       "      <td>2020-01-01 00:42:15</td>\n",
       "      <td>0 days 00:39:31</td>\n",
       "      <td>0 days 00:00:06</td>\n",
       "    </tr>\n",
       "    <tr>\n",
       "      <th>1</th>\n",
       "      <td>민속자연사박물관</td>\n",
       "      <td>1</td>\n",
       "      <td>제주특별자치도</td>\n",
       "      <td>제주시</td>\n",
       "      <td>제주특별자치도 제주시 삼성로 40 민속자연사박물관</td>\n",
       "      <td>DC차데모+AC3상+DC콤보</td>\n",
       "      <td>20200101000745</td>\n",
       "      <td>20200101003703</td>\n",
       "      <td>0 days 00:29:13</td>\n",
       "      <td>16.04000</td>\n",
       "      <td>...</td>\n",
       "      <td>2020-01-01 00:07:45</td>\n",
       "      <td>2020</td>\n",
       "      <td>1</td>\n",
       "      <td>1</td>\n",
       "      <td>0</td>\n",
       "      <td>37</td>\n",
       "      <td>3</td>\n",
       "      <td>2020-01-01 00:37:03</td>\n",
       "      <td>0 days 00:29:18</td>\n",
       "      <td>0 days 00:00:05</td>\n",
       "    </tr>\n",
       "    <tr>\n",
       "      <th>2</th>\n",
       "      <td>노형동주민센터</td>\n",
       "      <td>1</td>\n",
       "      <td>제주특별자치도</td>\n",
       "      <td>제주시</td>\n",
       "      <td>제주특별자치도 제주시 노형9길 9-4  주차장</td>\n",
       "      <td>DC차데모+AC3상+DC콤보</td>\n",
       "      <td>20200101000748</td>\n",
       "      <td>20200101001659</td>\n",
       "      <td>0 days 00:09:07</td>\n",
       "      <td>5.80000</td>\n",
       "      <td>...</td>\n",
       "      <td>2020-01-01 00:07:48</td>\n",
       "      <td>2020</td>\n",
       "      <td>1</td>\n",
       "      <td>1</td>\n",
       "      <td>0</td>\n",
       "      <td>16</td>\n",
       "      <td>59</td>\n",
       "      <td>2020-01-01 00:16:59</td>\n",
       "      <td>0 days 00:09:11</td>\n",
       "      <td>0 days 00:00:04</td>\n",
       "    </tr>\n",
       "    <tr>\n",
       "      <th>3</th>\n",
       "      <td>영일대1주차장</td>\n",
       "      <td>1</td>\n",
       "      <td>경상북도</td>\n",
       "      <td>포항시</td>\n",
       "      <td>경상북도 포항시 북구 해안로 82</td>\n",
       "      <td>DC차데모+AC3상+DC콤보</td>\n",
       "      <td>20200101000851</td>\n",
       "      <td>20200101004220</td>\n",
       "      <td>0 days 00:33:29</td>\n",
       "      <td>13.32000</td>\n",
       "      <td>...</td>\n",
       "      <td>2020-01-01 00:08:51</td>\n",
       "      <td>2020</td>\n",
       "      <td>1</td>\n",
       "      <td>1</td>\n",
       "      <td>0</td>\n",
       "      <td>42</td>\n",
       "      <td>20</td>\n",
       "      <td>2020-01-01 00:42:20</td>\n",
       "      <td>0 days 00:33:29</td>\n",
       "      <td>0 days 00:00:00</td>\n",
       "    </tr>\n",
       "    <tr>\n",
       "      <th>4</th>\n",
       "      <td>38선 휴게소</td>\n",
       "      <td>1</td>\n",
       "      <td>강원도</td>\n",
       "      <td>양양군</td>\n",
       "      <td>강원도 양양군 현북면 동해대로 1242</td>\n",
       "      <td>DC차데모+AC3상+DC콤보</td>\n",
       "      <td>20200101001042</td>\n",
       "      <td>20200101005123</td>\n",
       "      <td>0 days 00:40:41</td>\n",
       "      <td>29.23000</td>\n",
       "      <td>...</td>\n",
       "      <td>2020-01-01 00:10:42</td>\n",
       "      <td>2020</td>\n",
       "      <td>1</td>\n",
       "      <td>1</td>\n",
       "      <td>0</td>\n",
       "      <td>51</td>\n",
       "      <td>23</td>\n",
       "      <td>2020-01-01 00:51:23</td>\n",
       "      <td>0 days 00:40:41</td>\n",
       "      <td>0 days 00:00:00</td>\n",
       "    </tr>\n",
       "  </tbody>\n",
       "</table>\n",
       "<p>5 rows × 27 columns</p>\n",
       "</div>"
      ],
      "text/plain": [
       "          충전소명  충전기ID       지역  시군구                                    주소  \\\n",
       "0  진영휴게소(부산방향)      1     경상남도  김해시  경상남도 김해시 진영읍 하계로96번길 94-4  주유소 옆 주차장   \n",
       "1     민속자연사박물관      1  제주특별자치도  제주시           제주특별자치도 제주시 삼성로 40 민속자연사박물관   \n",
       "2      노형동주민센터      1  제주특별자치도  제주시             제주특별자치도 제주시 노형9길 9-4  주차장   \n",
       "3      영일대1주차장      1     경상북도  포항시                    경상북도 포항시 북구 해안로 82   \n",
       "4      38선 휴게소      1      강원도  양양군                 강원도 양양군 현북면 동해대로 1242   \n",
       "\n",
       "             충전기타입          충전시작일시          충전종료일시            충전시간      충전량  \\\n",
       "0  DC차데모+AC3상+DC콤보  20200101000244  20200101004215 0 days 00:39:25 20.22000   \n",
       "1  DC차데모+AC3상+DC콤보  20200101000745  20200101003703 0 days 00:29:13 16.04000   \n",
       "2  DC차데모+AC3상+DC콤보  20200101000748  20200101001659 0 days 00:09:07  5.80000   \n",
       "3  DC차데모+AC3상+DC콤보  20200101000851  20200101004220 0 days 00:33:29 13.32000   \n",
       "4  DC차데모+AC3상+DC콤보  20200101001042  20200101005123 0 days 00:40:41 29.23000   \n",
       "\n",
       "   ...           충전시작일시(변환)  충전종료_년도  충전종료_월  충전종료_일  충전종료_시  충전종료_분  충전종료_초  \\\n",
       "0  ...  2020-01-01 00:02:44     2020       1       1       0      42      15   \n",
       "1  ...  2020-01-01 00:07:45     2020       1       1       0      37       3   \n",
       "2  ...  2020-01-01 00:07:48     2020       1       1       0      16      59   \n",
       "3  ...  2020-01-01 00:08:51     2020       1       1       0      42      20   \n",
       "4  ...  2020-01-01 00:10:42     2020       1       1       0      51      23   \n",
       "\n",
       "            충전종료일시(변환)        충전시간(계산)     raw값과_계산값_차이  \n",
       "0  2020-01-01 00:42:15 0 days 00:39:31  0 days 00:00:06  \n",
       "1  2020-01-01 00:37:03 0 days 00:29:18  0 days 00:00:05  \n",
       "2  2020-01-01 00:16:59 0 days 00:09:11  0 days 00:00:04  \n",
       "3  2020-01-01 00:42:20 0 days 00:33:29  0 days 00:00:00  \n",
       "4  2020-01-01 00:51:23 0 days 00:40:41  0 days 00:00:00  \n",
       "\n",
       "[5 rows x 27 columns]"
      ]
     },
     "execution_count": 8,
     "metadata": {},
     "output_type": "execute_result"
    }
   ],
   "source": [
    "new_adr_df.head()"
   ]
  },
  {
   "cell_type": "code",
   "execution_count": 9,
   "metadata": {},
   "outputs": [
    {
     "data": {
      "text/html": [
       "<div>\n",
       "<style scoped>\n",
       "    .dataframe tbody tr th:only-of-type {\n",
       "        vertical-align: middle;\n",
       "    }\n",
       "\n",
       "    .dataframe tbody tr th {\n",
       "        vertical-align: top;\n",
       "    }\n",
       "\n",
       "    .dataframe thead th {\n",
       "        text-align: right;\n",
       "    }\n",
       "</style>\n",
       "<table border=\"1\" class=\"dataframe\">\n",
       "  <thead>\n",
       "    <tr style=\"text-align: right;\">\n",
       "      <th></th>\n",
       "      <th>0</th>\n",
       "      <th>1</th>\n",
       "      <th>2</th>\n",
       "      <th>3</th>\n",
       "      <th>4</th>\n",
       "      <th>5</th>\n",
       "      <th>6</th>\n",
       "      <th>7</th>\n",
       "      <th>8</th>\n",
       "      <th>9</th>\n",
       "      <th>10</th>\n",
       "      <th>11</th>\n",
       "      <th>12</th>\n",
       "    </tr>\n",
       "  </thead>\n",
       "  <tbody>\n",
       "    <tr>\n",
       "      <th>0</th>\n",
       "      <td>경상남도</td>\n",
       "      <td>김해시</td>\n",
       "      <td>진영읍</td>\n",
       "      <td>하계로96번길</td>\n",
       "      <td>94-4</td>\n",
       "      <td>주유소</td>\n",
       "      <td>옆</td>\n",
       "      <td>주차장</td>\n",
       "      <td>None</td>\n",
       "      <td>None</td>\n",
       "      <td>None</td>\n",
       "      <td>None</td>\n",
       "      <td>None</td>\n",
       "    </tr>\n",
       "    <tr>\n",
       "      <th>1</th>\n",
       "      <td>제주특별자치도</td>\n",
       "      <td>제주시</td>\n",
       "      <td>삼성로</td>\n",
       "      <td>40</td>\n",
       "      <td>민속자연사박물관</td>\n",
       "      <td>None</td>\n",
       "      <td>None</td>\n",
       "      <td>None</td>\n",
       "      <td>None</td>\n",
       "      <td>None</td>\n",
       "      <td>None</td>\n",
       "      <td>None</td>\n",
       "      <td>None</td>\n",
       "    </tr>\n",
       "    <tr>\n",
       "      <th>2</th>\n",
       "      <td>제주특별자치도</td>\n",
       "      <td>제주시</td>\n",
       "      <td>노형9길</td>\n",
       "      <td>9-4</td>\n",
       "      <td>주차장</td>\n",
       "      <td>None</td>\n",
       "      <td>None</td>\n",
       "      <td>None</td>\n",
       "      <td>None</td>\n",
       "      <td>None</td>\n",
       "      <td>None</td>\n",
       "      <td>None</td>\n",
       "      <td>None</td>\n",
       "    </tr>\n",
       "    <tr>\n",
       "      <th>3</th>\n",
       "      <td>경상북도</td>\n",
       "      <td>포항시</td>\n",
       "      <td>북구</td>\n",
       "      <td>해안로</td>\n",
       "      <td>82</td>\n",
       "      <td>None</td>\n",
       "      <td>None</td>\n",
       "      <td>None</td>\n",
       "      <td>None</td>\n",
       "      <td>None</td>\n",
       "      <td>None</td>\n",
       "      <td>None</td>\n",
       "      <td>None</td>\n",
       "    </tr>\n",
       "    <tr>\n",
       "      <th>4</th>\n",
       "      <td>강원도</td>\n",
       "      <td>양양군</td>\n",
       "      <td>현북면</td>\n",
       "      <td>동해대로</td>\n",
       "      <td>1242</td>\n",
       "      <td>None</td>\n",
       "      <td>None</td>\n",
       "      <td>None</td>\n",
       "      <td>None</td>\n",
       "      <td>None</td>\n",
       "      <td>None</td>\n",
       "      <td>None</td>\n",
       "      <td>None</td>\n",
       "    </tr>\n",
       "  </tbody>\n",
       "</table>\n",
       "</div>"
      ],
      "text/plain": [
       "        0    1     2        3         4     5     6     7     8     9     10  \\\n",
       "0     경상남도  김해시   진영읍  하계로96번길      94-4   주유소     옆   주차장  None  None  None   \n",
       "1  제주특별자치도  제주시   삼성로       40  민속자연사박물관  None  None  None  None  None  None   \n",
       "2  제주특별자치도  제주시  노형9길      9-4       주차장  None  None  None  None  None  None   \n",
       "3     경상북도  포항시    북구      해안로        82  None  None  None  None  None  None   \n",
       "4      강원도  양양군   현북면     동해대로      1242  None  None  None  None  None  None   \n",
       "\n",
       "     11    12  \n",
       "0  None  None  \n",
       "1  None  None  \n",
       "2  None  None  \n",
       "3  None  None  \n",
       "4  None  None  "
      ]
     },
     "execution_count": 9,
     "metadata": {},
     "output_type": "execute_result"
    }
   ],
   "source": [
    "temp = new_adr_df['주소'].str.split(expand=True)\n",
    "temp.head()"
   ]
  },
  {
   "cell_type": "code",
   "execution_count": 10,
   "metadata": {},
   "outputs": [
    {
     "data": {
      "text/plain": [
       "(7755902, 13)"
      ]
     },
     "execution_count": 10,
     "metadata": {},
     "output_type": "execute_result"
    }
   ],
   "source": [
    "temp.shape"
   ]
  },
  {
   "cell_type": "code",
   "execution_count": 11,
   "metadata": {},
   "outputs": [
    {
     "name": "stdout",
     "output_type": "stream",
     "text": [
      "5 : Yes\n",
      "6 : No\n",
      "7 : No\n",
      "8 : No\n",
      "9 : No\n",
      "10 : No\n",
      "11 : No\n",
      "12 : No\n"
     ]
    }
   ],
   "source": [
    "# 5번컬럼까지 -길, -로, -번길 존재\n",
    "# 6번부터 없음\n",
    "check_p = re.compile('로$|길$|번길$')\n",
    "for one in range(5, 13):\n",
    "    print(f'{one}', end=' : ')\n",
    "    uni = temp[temp[one].notnull() == True][one].unique()\n",
    "    # print(uni)\n",
    "    count = 0\n",
    "    for two in uni:\n",
    "        if check_p.search(two):\n",
    "            count += 1\n",
    "            break\n",
    "    if count != 0:\n",
    "        print('Yes')\n",
    "    else:\n",
    "        print('No')"
   ]
  },
  {
   "cell_type": "code",
   "execution_count": 12,
   "metadata": {},
   "outputs": [
    {
     "data": {
      "text/plain": [
       "array(['주유소', None, '앞', '주차장', '행담도휴게소(목포방향)', '휴게소', '289', '동부소방서',\n",
       "       '휴게소와', '본관', '농축산물판매장', '대형주차장', '1층', '제2청사)', '건물', '출연자',\n",
       "       '성남시청', '4층', '행담도휴게소(서울방향)', '서생면사무소', '(보광리)', '공중화장실', '(방목리)',\n",
       "       'D15', '309', '(오가리)', '성판악휴게소', '(농협)', '(제비리)', '(방내리)', '13',\n",
       "       '고분군', '(성산리)', '알뜰휴게소', '보성군청', '(용전리)', '793-40', '출구', '(강학리)',\n",
       "       '(옥산리)', '애월읍도서관', '(죽전동)', '농산물매장', '1511', '(성하리)', '(양곡리)',\n",
       "       '(송계리)', '주차', '(보산리)', '민원봉사실', '136', '가평휴게소', '왼쪽', '407', '우측',\n",
       "       '(도리)', '(율암리)', '율동자연공원', '알펜시아', '(신양리)', '옆', '1F)', '좌측',\n",
       "       '마리나요트클럽', '23-37', '47', '(공세동)', '후문', '(순지리)', '매표소', '추자면사무소',\n",
       "       '2번', '(외부리)', '소형주차장', '자치경찰대', '후포문화복지센터', '75', '뒤편', '영암군청',\n",
       "       '(망상동)', '지상주차장', '(두대동)', '경비실', '제주농업기술센터', '내고장', '(회포리)', '05',\n",
       "       '표선생활체육관', '환경성질환예방관리센터', '옥외주차장', '(삼룡동)173-1', '입구', '장흥군청',\n",
       "       '576', '20', '(고림동)', '(우천리)', '236-1', '출구방향', '2층', '(가천리)',\n",
       "       '수원도시공사', '화장실', '(쌍용2동)', '끝', '(주수리)', '구좌체육관', '(유현리)', '(묵곡리)',\n",
       "       '26', '(금창리)', '01', '주차빌딩', '(신제리)', '2987', '(계내리)', '(신월리)',\n",
       "       '(서현동)', '안내소', '여성전용구역', '(송선동)', '오른쪽', '수영장', '(조령리)', '장애인주차장',\n",
       "       '(비월리)', '(화양리)', '(서계양리)', '서문주차장', '(본두리)', '계단쪽', '쉼터', '2616',\n",
       "       '(공진리)', '133', '(청룡리)', '(주교리)', '(목리)', '(오곡리)', '성읍민속마을',\n",
       "       '지하주차장', '(하방리)', '(석계리)', '화성시청사', '프리미엄', '(신촌리)', '만장굴', '88',\n",
       "       '(단양리)', '교래자연휴양림', '매표소앞', '(월산리)', '290', '(적암리)', '황소주차장',\n",
       "       '파고라', '(양덕리)', '(수남리)', '(용계리)', '정면', '북주차장(우측)', '(아곡리)',\n",
       "       '서귀포농업기술센터', '체육관', '옥상주차장', '15', '플랜카드', '14', '(양악리)', '(삼송리)',\n",
       "       '(영덕리)', '318', '제2소형주차장', '시계탑', '지하2층', '(남산리)', '끝편', 'C8',\n",
       "       '(가정리)', 'H01', '정문', '206', '(금국리)', '(벽송리)', '(본오동)', '지하',\n",
       "       '(모현리)', '임실군청', '36', '후면', '(은교리)', '차량정비소', '뒷편', '곶자왈', '5층',\n",
       "       '복지센터', '영광', '60', '북쪽주차장', '1182', '18', '라면공방', '28', '(소매곡리)',\n",
       "       '사랑나눔복지회관', '(신전리)', '24', 'L', '왼편', '8', '(백산리)', '554', '36번길',\n",
       "       '충전소', '(지곡동)', '4-11', '옥상', '매장', '3610', '3층', '(덕소리)', '(죽암리)',\n",
       "       '게이트볼장', '(매류리)', '불갑저수지', '진입후', '466', '차량경정비', '공영주차장', '(천천동)',\n",
       "       '지하1층', '(양덕동)', '좌측편', '(박산리)', '외부화장실', '1137-1', '(수진동)',\n",
       "       '(장교리)', '(매화리)', '옥상층', 'D1', '출구앞', '맞은편', '980', '(이의동)',\n",
       "       '후문주차장', '258', '화장시설', 'M50', '소형차', '지원사무소', '지하3층', '(명포리)',\n",
       "       '모구리야영장', '101', '도로쪽', 'B01', '4646', '포항시립', '어상천면사무소', '(고암리)',\n",
       "       '민원인', '복지회관', '2472', '(삼양리)', '주차타워', '46', '진해해양공원', '927',\n",
       "       '로즈홀', '포항시청', '법성면사무소', '상관면주민자치센터', '제2청사', 'LPG', '(용면리)',\n",
       "       '울릉군', '49', '97', '177-74', '율포해수녹차탕주차장', '온달평강3로', '171-3', '10',\n",
       "       '33', '317', '99', '대강면사무소', '증평군청', '제일오투마트', '57', '아우라지',\n",
       "       '1143', '7', '572', '153', '117번길', '501', '187', '242', '21',\n",
       "       '34', '71', '1872', '1600', '200', '1', '30', '161'], dtype=object)"
      ]
     },
     "execution_count": 12,
     "metadata": {},
     "output_type": "execute_result"
    }
   ],
   "source": [
    "temp[5].unique()"
   ]
  },
  {
   "cell_type": "code",
   "execution_count": 13,
   "metadata": {},
   "outputs": [
    {
     "data": {
      "text/html": [
       "<div>\n",
       "<style scoped>\n",
       "    .dataframe tbody tr th:only-of-type {\n",
       "        vertical-align: middle;\n",
       "    }\n",
       "\n",
       "    .dataframe tbody tr th {\n",
       "        vertical-align: top;\n",
       "    }\n",
       "\n",
       "    .dataframe thead th {\n",
       "        text-align: right;\n",
       "    }\n",
       "</style>\n",
       "<table border=\"1\" class=\"dataframe\">\n",
       "  <thead>\n",
       "    <tr style=\"text-align: right;\">\n",
       "      <th></th>\n",
       "      <th>0</th>\n",
       "      <th>1</th>\n",
       "      <th>2</th>\n",
       "      <th>3</th>\n",
       "      <th>4</th>\n",
       "      <th>5</th>\n",
       "      <th>6</th>\n",
       "      <th>7</th>\n",
       "      <th>8</th>\n",
       "      <th>9</th>\n",
       "      <th>10</th>\n",
       "      <th>11</th>\n",
       "      <th>12</th>\n",
       "    </tr>\n",
       "  </thead>\n",
       "  <tbody>\n",
       "    <tr>\n",
       "      <th>637957</th>\n",
       "      <td>충청북도</td>\n",
       "      <td>단양군</td>\n",
       "      <td>영춘면</td>\n",
       "      <td>온달평강3로</td>\n",
       "      <td>9</td>\n",
       "      <td>온달평강3로</td>\n",
       "      <td>9-1</td>\n",
       "      <td>None</td>\n",
       "      <td>None</td>\n",
       "      <td>None</td>\n",
       "      <td>None</td>\n",
       "      <td>None</td>\n",
       "      <td>None</td>\n",
       "    </tr>\n",
       "    <tr>\n",
       "      <th>637997</th>\n",
       "      <td>충청북도</td>\n",
       "      <td>단양군</td>\n",
       "      <td>영춘면</td>\n",
       "      <td>온달평강3로</td>\n",
       "      <td>9</td>\n",
       "      <td>온달평강3로</td>\n",
       "      <td>9-1</td>\n",
       "      <td>None</td>\n",
       "      <td>None</td>\n",
       "      <td>None</td>\n",
       "      <td>None</td>\n",
       "      <td>None</td>\n",
       "      <td>None</td>\n",
       "    </tr>\n",
       "    <tr>\n",
       "      <th>641965</th>\n",
       "      <td>충청북도</td>\n",
       "      <td>단양군</td>\n",
       "      <td>영춘면</td>\n",
       "      <td>온달평강3로</td>\n",
       "      <td>9</td>\n",
       "      <td>온달평강3로</td>\n",
       "      <td>9-1</td>\n",
       "      <td>None</td>\n",
       "      <td>None</td>\n",
       "      <td>None</td>\n",
       "      <td>None</td>\n",
       "      <td>None</td>\n",
       "      <td>None</td>\n",
       "    </tr>\n",
       "    <tr>\n",
       "      <th>646183</th>\n",
       "      <td>충청북도</td>\n",
       "      <td>단양군</td>\n",
       "      <td>영춘면</td>\n",
       "      <td>온달평강3로</td>\n",
       "      <td>9</td>\n",
       "      <td>온달평강3로</td>\n",
       "      <td>9-1</td>\n",
       "      <td>None</td>\n",
       "      <td>None</td>\n",
       "      <td>None</td>\n",
       "      <td>None</td>\n",
       "      <td>None</td>\n",
       "      <td>None</td>\n",
       "    </tr>\n",
       "    <tr>\n",
       "      <th>652948</th>\n",
       "      <td>충청북도</td>\n",
       "      <td>단양군</td>\n",
       "      <td>영춘면</td>\n",
       "      <td>온달평강3로</td>\n",
       "      <td>9</td>\n",
       "      <td>온달평강3로</td>\n",
       "      <td>9-1</td>\n",
       "      <td>None</td>\n",
       "      <td>None</td>\n",
       "      <td>None</td>\n",
       "      <td>None</td>\n",
       "      <td>None</td>\n",
       "      <td>None</td>\n",
       "    </tr>\n",
       "  </tbody>\n",
       "</table>\n",
       "</div>"
      ],
      "text/plain": [
       "          0    1    2       3  4       5    6     7     8     9     10    11  \\\n",
       "637957  충청북도  단양군  영춘면  온달평강3로  9  온달평강3로  9-1  None  None  None  None  None   \n",
       "637997  충청북도  단양군  영춘면  온달평강3로  9  온달평강3로  9-1  None  None  None  None  None   \n",
       "641965  충청북도  단양군  영춘면  온달평강3로  9  온달평강3로  9-1  None  None  None  None  None   \n",
       "646183  충청북도  단양군  영춘면  온달평강3로  9  온달평강3로  9-1  None  None  None  None  None   \n",
       "652948  충청북도  단양군  영춘면  온달평강3로  9  온달평강3로  9-1  None  None  None  None  None   \n",
       "\n",
       "          12  \n",
       "637957  None  \n",
       "637997  None  \n",
       "641965  None  \n",
       "646183  None  \n",
       "652948  None  "
      ]
     },
     "execution_count": 13,
     "metadata": {},
     "output_type": "execute_result"
    }
   ],
   "source": [
    "temp[temp[5] == '온달평강3로'].head()"
   ]
  },
  {
   "cell_type": "code",
   "execution_count": 185,
   "metadata": {},
   "outputs": [
    {
     "data": {
      "text/plain": [
       "(808, 13)"
      ]
     },
     "execution_count": 185,
     "metadata": {},
     "output_type": "execute_result"
    }
   ],
   "source": [
    "temp[temp[5] == '온달평강3로'].shape"
   ]
  },
  {
   "cell_type": "code",
   "execution_count": 186,
   "metadata": {},
   "outputs": [
    {
     "data": {
      "text/plain": [
       "array(['94-4', '민속자연사박물관', '주차장', ..., '21-8', '941', '247'], dtype=object)"
      ]
     },
     "execution_count": 186,
     "metadata": {},
     "output_type": "execute_result"
    }
   ],
   "source": [
    "temp[4].unique()"
   ]
  },
  {
   "cell_type": "code",
   "execution_count": 187,
   "metadata": {},
   "outputs": [],
   "source": [
    "temp = temp.fillna(np.nan)"
   ]
  },
  {
   "cell_type": "code",
   "execution_count": 188,
   "metadata": {},
   "outputs": [
    {
     "data": {
      "text/html": [
       "<div>\n",
       "<style scoped>\n",
       "    .dataframe tbody tr th:only-of-type {\n",
       "        vertical-align: middle;\n",
       "    }\n",
       "\n",
       "    .dataframe tbody tr th {\n",
       "        vertical-align: top;\n",
       "    }\n",
       "\n",
       "    .dataframe thead th {\n",
       "        text-align: right;\n",
       "    }\n",
       "</style>\n",
       "<table border=\"1\" class=\"dataframe\">\n",
       "  <thead>\n",
       "    <tr style=\"text-align: right;\">\n",
       "      <th></th>\n",
       "      <th>0</th>\n",
       "      <th>1</th>\n",
       "      <th>2</th>\n",
       "      <th>3</th>\n",
       "      <th>4</th>\n",
       "      <th>5</th>\n",
       "      <th>6</th>\n",
       "      <th>7</th>\n",
       "      <th>8</th>\n",
       "      <th>9</th>\n",
       "      <th>10</th>\n",
       "      <th>11</th>\n",
       "      <th>12</th>\n",
       "    </tr>\n",
       "  </thead>\n",
       "  <tbody>\n",
       "    <tr>\n",
       "      <th>0</th>\n",
       "      <td>경상남도</td>\n",
       "      <td>김해시</td>\n",
       "      <td>진영읍</td>\n",
       "      <td>하계로96번길</td>\n",
       "      <td>94-4</td>\n",
       "      <td>주유소</td>\n",
       "      <td>옆</td>\n",
       "      <td>주차장</td>\n",
       "      <td>NaN</td>\n",
       "      <td>NaN</td>\n",
       "      <td>NaN</td>\n",
       "      <td>NaN</td>\n",
       "      <td>NaN</td>\n",
       "    </tr>\n",
       "    <tr>\n",
       "      <th>1</th>\n",
       "      <td>제주특별자치도</td>\n",
       "      <td>제주시</td>\n",
       "      <td>삼성로</td>\n",
       "      <td>40</td>\n",
       "      <td>민속자연사박물관</td>\n",
       "      <td>NaN</td>\n",
       "      <td>NaN</td>\n",
       "      <td>NaN</td>\n",
       "      <td>NaN</td>\n",
       "      <td>NaN</td>\n",
       "      <td>NaN</td>\n",
       "      <td>NaN</td>\n",
       "      <td>NaN</td>\n",
       "    </tr>\n",
       "    <tr>\n",
       "      <th>2</th>\n",
       "      <td>제주특별자치도</td>\n",
       "      <td>제주시</td>\n",
       "      <td>노형9길</td>\n",
       "      <td>9-4</td>\n",
       "      <td>주차장</td>\n",
       "      <td>NaN</td>\n",
       "      <td>NaN</td>\n",
       "      <td>NaN</td>\n",
       "      <td>NaN</td>\n",
       "      <td>NaN</td>\n",
       "      <td>NaN</td>\n",
       "      <td>NaN</td>\n",
       "      <td>NaN</td>\n",
       "    </tr>\n",
       "    <tr>\n",
       "      <th>3</th>\n",
       "      <td>경상북도</td>\n",
       "      <td>포항시</td>\n",
       "      <td>북구</td>\n",
       "      <td>해안로</td>\n",
       "      <td>82</td>\n",
       "      <td>NaN</td>\n",
       "      <td>NaN</td>\n",
       "      <td>NaN</td>\n",
       "      <td>NaN</td>\n",
       "      <td>NaN</td>\n",
       "      <td>NaN</td>\n",
       "      <td>NaN</td>\n",
       "      <td>NaN</td>\n",
       "    </tr>\n",
       "    <tr>\n",
       "      <th>4</th>\n",
       "      <td>강원도</td>\n",
       "      <td>양양군</td>\n",
       "      <td>현북면</td>\n",
       "      <td>동해대로</td>\n",
       "      <td>1242</td>\n",
       "      <td>NaN</td>\n",
       "      <td>NaN</td>\n",
       "      <td>NaN</td>\n",
       "      <td>NaN</td>\n",
       "      <td>NaN</td>\n",
       "      <td>NaN</td>\n",
       "      <td>NaN</td>\n",
       "      <td>NaN</td>\n",
       "    </tr>\n",
       "  </tbody>\n",
       "</table>\n",
       "</div>"
      ],
      "text/plain": [
       "        0    1     2        3         4    5    6    7    8    9    10   11  \\\n",
       "0     경상남도  김해시   진영읍  하계로96번길      94-4  주유소    옆  주차장  NaN  NaN  NaN  NaN   \n",
       "1  제주특별자치도  제주시   삼성로       40  민속자연사박물관  NaN  NaN  NaN  NaN  NaN  NaN  NaN   \n",
       "2  제주특별자치도  제주시  노형9길      9-4       주차장  NaN  NaN  NaN  NaN  NaN  NaN  NaN   \n",
       "3     경상북도  포항시    북구      해안로        82  NaN  NaN  NaN  NaN  NaN  NaN  NaN   \n",
       "4      강원도  양양군   현북면     동해대로      1242  NaN  NaN  NaN  NaN  NaN  NaN  NaN   \n",
       "\n",
       "    12  \n",
       "0  NaN  \n",
       "1  NaN  \n",
       "2  NaN  \n",
       "3  NaN  \n",
       "4  NaN  "
      ]
     },
     "execution_count": 188,
     "metadata": {},
     "output_type": "execute_result"
    }
   ],
   "source": [
    "temp.head()"
   ]
  },
  {
   "cell_type": "code",
   "execution_count": 189,
   "metadata": {},
   "outputs": [
    {
     "data": {
      "text/plain": [
       "(7755902, 13)"
      ]
     },
     "execution_count": 189,
     "metadata": {},
     "output_type": "execute_result"
    }
   ],
   "source": [
    "temp.shape"
   ]
  },
  {
   "cell_type": "code",
   "execution_count": 190,
   "metadata": {},
   "outputs": [
    {
     "data": {
      "text/html": [
       "<div>\n",
       "<style scoped>\n",
       "    .dataframe tbody tr th:only-of-type {\n",
       "        vertical-align: middle;\n",
       "    }\n",
       "\n",
       "    .dataframe tbody tr th {\n",
       "        vertical-align: top;\n",
       "    }\n",
       "\n",
       "    .dataframe thead th {\n",
       "        text-align: right;\n",
       "    }\n",
       "</style>\n",
       "<table border=\"1\" class=\"dataframe\">\n",
       "  <thead>\n",
       "    <tr style=\"text-align: right;\">\n",
       "      <th></th>\n",
       "      <th>충전소명</th>\n",
       "      <th>충전기ID</th>\n",
       "      <th>지역</th>\n",
       "      <th>시군구</th>\n",
       "      <th>주소</th>\n",
       "      <th>충전기타입</th>\n",
       "      <th>충전시작일시</th>\n",
       "      <th>충전종료일시</th>\n",
       "      <th>충전시간</th>\n",
       "      <th>충전량</th>\n",
       "      <th>...</th>\n",
       "      <th>3</th>\n",
       "      <th>4</th>\n",
       "      <th>5</th>\n",
       "      <th>6</th>\n",
       "      <th>7</th>\n",
       "      <th>8</th>\n",
       "      <th>9</th>\n",
       "      <th>10</th>\n",
       "      <th>11</th>\n",
       "      <th>12</th>\n",
       "    </tr>\n",
       "  </thead>\n",
       "  <tbody>\n",
       "    <tr>\n",
       "      <th>0</th>\n",
       "      <td>진영휴게소(부산방향)</td>\n",
       "      <td>1</td>\n",
       "      <td>경상남도</td>\n",
       "      <td>김해시</td>\n",
       "      <td>경상남도 김해시 진영읍 하계로96번길 94-4  주유소 옆 주차장</td>\n",
       "      <td>DC차데모+AC3상+DC콤보</td>\n",
       "      <td>20200101000244</td>\n",
       "      <td>20200101004215</td>\n",
       "      <td>0 days 00:39:25</td>\n",
       "      <td>20.22</td>\n",
       "      <td>...</td>\n",
       "      <td>하계로96번길</td>\n",
       "      <td>94-4</td>\n",
       "      <td>주유소</td>\n",
       "      <td>옆</td>\n",
       "      <td>주차장</td>\n",
       "      <td>NaN</td>\n",
       "      <td>NaN</td>\n",
       "      <td>NaN</td>\n",
       "      <td>NaN</td>\n",
       "      <td>NaN</td>\n",
       "    </tr>\n",
       "    <tr>\n",
       "      <th>1</th>\n",
       "      <td>민속자연사박물관</td>\n",
       "      <td>1</td>\n",
       "      <td>제주특별자치도</td>\n",
       "      <td>제주시</td>\n",
       "      <td>제주특별자치도 제주시 삼성로 40 민속자연사박물관</td>\n",
       "      <td>DC차데모+AC3상+DC콤보</td>\n",
       "      <td>20200101000745</td>\n",
       "      <td>20200101003703</td>\n",
       "      <td>0 days 00:29:13</td>\n",
       "      <td>16.04</td>\n",
       "      <td>...</td>\n",
       "      <td>40</td>\n",
       "      <td>민속자연사박물관</td>\n",
       "      <td>NaN</td>\n",
       "      <td>NaN</td>\n",
       "      <td>NaN</td>\n",
       "      <td>NaN</td>\n",
       "      <td>NaN</td>\n",
       "      <td>NaN</td>\n",
       "      <td>NaN</td>\n",
       "      <td>NaN</td>\n",
       "    </tr>\n",
       "    <tr>\n",
       "      <th>2</th>\n",
       "      <td>노형동주민센터</td>\n",
       "      <td>1</td>\n",
       "      <td>제주특별자치도</td>\n",
       "      <td>제주시</td>\n",
       "      <td>제주특별자치도 제주시 노형9길 9-4  주차장</td>\n",
       "      <td>DC차데모+AC3상+DC콤보</td>\n",
       "      <td>20200101000748</td>\n",
       "      <td>20200101001659</td>\n",
       "      <td>0 days 00:09:07</td>\n",
       "      <td>5.80</td>\n",
       "      <td>...</td>\n",
       "      <td>9-4</td>\n",
       "      <td>주차장</td>\n",
       "      <td>NaN</td>\n",
       "      <td>NaN</td>\n",
       "      <td>NaN</td>\n",
       "      <td>NaN</td>\n",
       "      <td>NaN</td>\n",
       "      <td>NaN</td>\n",
       "      <td>NaN</td>\n",
       "      <td>NaN</td>\n",
       "    </tr>\n",
       "    <tr>\n",
       "      <th>3</th>\n",
       "      <td>영일대1주차장</td>\n",
       "      <td>1</td>\n",
       "      <td>경상북도</td>\n",
       "      <td>포항시</td>\n",
       "      <td>경상북도 포항시 북구 해안로 82</td>\n",
       "      <td>DC차데모+AC3상+DC콤보</td>\n",
       "      <td>20200101000851</td>\n",
       "      <td>20200101004220</td>\n",
       "      <td>0 days 00:33:29</td>\n",
       "      <td>13.32</td>\n",
       "      <td>...</td>\n",
       "      <td>해안로</td>\n",
       "      <td>82</td>\n",
       "      <td>NaN</td>\n",
       "      <td>NaN</td>\n",
       "      <td>NaN</td>\n",
       "      <td>NaN</td>\n",
       "      <td>NaN</td>\n",
       "      <td>NaN</td>\n",
       "      <td>NaN</td>\n",
       "      <td>NaN</td>\n",
       "    </tr>\n",
       "    <tr>\n",
       "      <th>4</th>\n",
       "      <td>38선 휴게소</td>\n",
       "      <td>1</td>\n",
       "      <td>강원도</td>\n",
       "      <td>양양군</td>\n",
       "      <td>강원도 양양군 현북면 동해대로 1242</td>\n",
       "      <td>DC차데모+AC3상+DC콤보</td>\n",
       "      <td>20200101001042</td>\n",
       "      <td>20200101005123</td>\n",
       "      <td>0 days 00:40:41</td>\n",
       "      <td>29.23</td>\n",
       "      <td>...</td>\n",
       "      <td>동해대로</td>\n",
       "      <td>1242</td>\n",
       "      <td>NaN</td>\n",
       "      <td>NaN</td>\n",
       "      <td>NaN</td>\n",
       "      <td>NaN</td>\n",
       "      <td>NaN</td>\n",
       "      <td>NaN</td>\n",
       "      <td>NaN</td>\n",
       "      <td>NaN</td>\n",
       "    </tr>\n",
       "  </tbody>\n",
       "</table>\n",
       "<p>5 rows × 40 columns</p>\n",
       "</div>"
      ],
      "text/plain": [
       "          충전소명  충전기ID       지역  시군구                                    주소  \\\n",
       "0  진영휴게소(부산방향)      1     경상남도  김해시  경상남도 김해시 진영읍 하계로96번길 94-4  주유소 옆 주차장   \n",
       "1     민속자연사박물관      1  제주특별자치도  제주시           제주특별자치도 제주시 삼성로 40 민속자연사박물관   \n",
       "2      노형동주민센터      1  제주특별자치도  제주시             제주특별자치도 제주시 노형9길 9-4  주차장   \n",
       "3      영일대1주차장      1     경상북도  포항시                    경상북도 포항시 북구 해안로 82   \n",
       "4      38선 휴게소      1      강원도  양양군                 강원도 양양군 현북면 동해대로 1242   \n",
       "\n",
       "             충전기타입          충전시작일시          충전종료일시            충전시간    충전량  \\\n",
       "0  DC차데모+AC3상+DC콤보  20200101000244  20200101004215 0 days 00:39:25  20.22   \n",
       "1  DC차데모+AC3상+DC콤보  20200101000745  20200101003703 0 days 00:29:13  16.04   \n",
       "2  DC차데모+AC3상+DC콤보  20200101000748  20200101001659 0 days 00:09:07   5.80   \n",
       "3  DC차데모+AC3상+DC콤보  20200101000851  20200101004220 0 days 00:33:29  13.32   \n",
       "4  DC차데모+AC3상+DC콤보  20200101001042  20200101005123 0 days 00:40:41  29.23   \n",
       "\n",
       "   ...        3         4    5    6    7    8    9   10   11   12  \n",
       "0  ...  하계로96번길      94-4  주유소    옆  주차장  NaN  NaN  NaN  NaN  NaN  \n",
       "1  ...       40  민속자연사박물관  NaN  NaN  NaN  NaN  NaN  NaN  NaN  NaN  \n",
       "2  ...      9-4       주차장  NaN  NaN  NaN  NaN  NaN  NaN  NaN  NaN  \n",
       "3  ...      해안로        82  NaN  NaN  NaN  NaN  NaN  NaN  NaN  NaN  \n",
       "4  ...     동해대로      1242  NaN  NaN  NaN  NaN  NaN  NaN  NaN  NaN  \n",
       "\n",
       "[5 rows x 40 columns]"
      ]
     },
     "execution_count": 190,
     "metadata": {},
     "output_type": "execute_result"
    }
   ],
   "source": [
    "new_adr_df2 = pd.concat([new_adr_df, temp], axis=1)\n",
    "new_adr_df2.head()"
   ]
  },
  {
   "cell_type": "code",
   "execution_count": 191,
   "metadata": {},
   "outputs": [
    {
     "data": {
      "text/html": [
       "<div>\n",
       "<style scoped>\n",
       "    .dataframe tbody tr th:only-of-type {\n",
       "        vertical-align: middle;\n",
       "    }\n",
       "\n",
       "    .dataframe tbody tr th {\n",
       "        vertical-align: top;\n",
       "    }\n",
       "\n",
       "    .dataframe thead th {\n",
       "        text-align: right;\n",
       "    }\n",
       "</style>\n",
       "<table border=\"1\" class=\"dataframe\">\n",
       "  <thead>\n",
       "    <tr style=\"text-align: right;\">\n",
       "      <th></th>\n",
       "      <th>충전소명</th>\n",
       "      <th>충전기ID</th>\n",
       "      <th>지역</th>\n",
       "      <th>시군구</th>\n",
       "      <th>주소</th>\n",
       "      <th>충전기타입</th>\n",
       "      <th>충전시작일시</th>\n",
       "      <th>충전종료일시</th>\n",
       "      <th>충전시간</th>\n",
       "      <th>충전량</th>\n",
       "      <th>...</th>\n",
       "      <th>3</th>\n",
       "      <th>4</th>\n",
       "      <th>5</th>\n",
       "      <th>6</th>\n",
       "      <th>7</th>\n",
       "      <th>8</th>\n",
       "      <th>9</th>\n",
       "      <th>10</th>\n",
       "      <th>11</th>\n",
       "      <th>12</th>\n",
       "    </tr>\n",
       "  </thead>\n",
       "  <tbody>\n",
       "  </tbody>\n",
       "</table>\n",
       "<p>0 rows × 40 columns</p>\n",
       "</div>"
      ],
      "text/plain": [
       "Empty DataFrame\n",
       "Columns: [충전소명, 충전기ID, 지역, 시군구, 주소, 충전기타입, 충전시작일시, 충전종료일시, 충전시간, 충전량, 충전용량, 충전시작_년도, 충전시작_월, 충전시작_일, 충전시작_시, 충전시작_분, 충전시작_초, 충전시작일시(변환), 충전종료_년도, 충전종료_월, 충전종료_일, 충전종료_시, 충전종료_분, 충전종료_초, 충전종료일시(변환), 충전시간(계산), raw값과_계산값_차이, 0, 1, 2, 3, 4, 5, 6, 7, 8, 9, 10, 11, 12]\n",
       "Index: []\n",
       "\n",
       "[0 rows x 40 columns]"
      ]
     },
     "execution_count": 191,
     "metadata": {},
     "output_type": "execute_result"
    }
   ],
   "source": [
    "new_adr_df2[(new_adr_df2['지역'] != '서울특별시') & (new_adr_df2['주소'] == '강남구 양재대로31길')]"
   ]
  },
  {
   "cell_type": "code",
   "execution_count": 192,
   "metadata": {},
   "outputs": [
    {
     "data": {
      "text/plain": [
       "(7755902, 40)"
      ]
     },
     "execution_count": 192,
     "metadata": {},
     "output_type": "execute_result"
    }
   ],
   "source": [
    "new_adr_df2.shape"
   ]
  },
  {
   "cell_type": "code",
   "execution_count": 328,
   "metadata": {},
   "outputs": [],
   "source": [
    "# new_adr_df2 = pd.concat([new_adr_df, temp], axis=1, ignore_index=True)\n",
    "# new_adr_df2.head()"
   ]
  },
  {
   "cell_type": "markdown",
   "metadata": {},
   "source": [
    "##### 신주소 상세 분리 확인"
   ]
  },
  {
   "cell_type": "code",
   "execution_count": 193,
   "metadata": {},
   "outputs": [
    {
     "data": {
      "text/html": [
       "<div>\n",
       "<style scoped>\n",
       "    .dataframe tbody tr th:only-of-type {\n",
       "        vertical-align: middle;\n",
       "    }\n",
       "\n",
       "    .dataframe tbody tr th {\n",
       "        vertical-align: top;\n",
       "    }\n",
       "\n",
       "    .dataframe thead th {\n",
       "        text-align: right;\n",
       "    }\n",
       "</style>\n",
       "<table border=\"1\" class=\"dataframe\">\n",
       "  <thead>\n",
       "    <tr style=\"text-align: right;\">\n",
       "      <th></th>\n",
       "      <th>주소</th>\n",
       "      <th>0</th>\n",
       "      <th>1</th>\n",
       "      <th>2</th>\n",
       "      <th>3</th>\n",
       "      <th>4</th>\n",
       "    </tr>\n",
       "  </thead>\n",
       "  <tbody>\n",
       "    <tr>\n",
       "      <th>7755897</th>\n",
       "      <td>경기도 구리시 체육관로 74</td>\n",
       "      <td>경기도</td>\n",
       "      <td>구리시</td>\n",
       "      <td>체육관로</td>\n",
       "      <td>74</td>\n",
       "      <td>NaN</td>\n",
       "    </tr>\n",
       "    <tr>\n",
       "      <th>7755898</th>\n",
       "      <td>서울특별시 성동구 둘레길 47-5</td>\n",
       "      <td>서울특별시</td>\n",
       "      <td>성동구</td>\n",
       "      <td>둘레길</td>\n",
       "      <td>47-5</td>\n",
       "      <td>NaN</td>\n",
       "    </tr>\n",
       "    <tr>\n",
       "      <th>7755899</th>\n",
       "      <td>경기도 용인시 수지구 경부고속도로 400 (죽전동)</td>\n",
       "      <td>경기도</td>\n",
       "      <td>용인시</td>\n",
       "      <td>수지구</td>\n",
       "      <td>경부고속도로</td>\n",
       "      <td>400</td>\n",
       "    </tr>\n",
       "    <tr>\n",
       "      <th>7755900</th>\n",
       "      <td>강원도 원주시 단구로 150</td>\n",
       "      <td>강원도</td>\n",
       "      <td>원주시</td>\n",
       "      <td>단구로</td>\n",
       "      <td>150</td>\n",
       "      <td>NaN</td>\n",
       "    </tr>\n",
       "    <tr>\n",
       "      <th>7755901</th>\n",
       "      <td>서울특별시 송파구 성내천로 299-7</td>\n",
       "      <td>서울특별시</td>\n",
       "      <td>송파구</td>\n",
       "      <td>성내천로</td>\n",
       "      <td>299-7</td>\n",
       "      <td>NaN</td>\n",
       "    </tr>\n",
       "  </tbody>\n",
       "</table>\n",
       "</div>"
      ],
      "text/plain": [
       "                                   주소      0    1     2       3    4\n",
       "7755897               경기도 구리시 체육관로 74    경기도  구리시  체육관로      74  NaN\n",
       "7755898            서울특별시 성동구 둘레길 47-5  서울특별시  성동구   둘레길    47-5  NaN\n",
       "7755899  경기도 용인시 수지구 경부고속도로 400 (죽전동)    경기도  용인시   수지구  경부고속도로  400\n",
       "7755900               강원도 원주시 단구로 150    강원도  원주시   단구로     150  NaN\n",
       "7755901          서울특별시 송파구 성내천로 299-7  서울특별시  송파구  성내천로   299-7  NaN"
      ]
     },
     "execution_count": 193,
     "metadata": {},
     "output_type": "execute_result"
    }
   ],
   "source": [
    "new_adr_df2[['주소', 0, 1, 2, 3, 4]].tail()"
   ]
  },
  {
   "cell_type": "code",
   "execution_count": 194,
   "metadata": {},
   "outputs": [
    {
     "data": {
      "text/html": [
       "<div>\n",
       "<style scoped>\n",
       "    .dataframe tbody tr th:only-of-type {\n",
       "        vertical-align: middle;\n",
       "    }\n",
       "\n",
       "    .dataframe tbody tr th {\n",
       "        vertical-align: top;\n",
       "    }\n",
       "\n",
       "    .dataframe thead th {\n",
       "        text-align: right;\n",
       "    }\n",
       "</style>\n",
       "<table border=\"1\" class=\"dataframe\">\n",
       "  <thead>\n",
       "    <tr style=\"text-align: right;\">\n",
       "      <th></th>\n",
       "      <th>주소</th>\n",
       "      <th>0</th>\n",
       "      <th>1</th>\n",
       "      <th>2</th>\n",
       "      <th>3</th>\n",
       "      <th>4</th>\n",
       "    </tr>\n",
       "  </thead>\n",
       "  <tbody>\n",
       "    <tr>\n",
       "      <th>0</th>\n",
       "      <td>경상남도 김해시 진영읍 하계로96번길 94-4  주유소 옆 주차장</td>\n",
       "      <td>경상남도</td>\n",
       "      <td>김해시</td>\n",
       "      <td>진영읍</td>\n",
       "      <td>하계로96번길</td>\n",
       "      <td>94-4</td>\n",
       "    </tr>\n",
       "    <tr>\n",
       "      <th>1</th>\n",
       "      <td>제주특별자치도 제주시 삼성로 40 민속자연사박물관</td>\n",
       "      <td>제주특별자치도</td>\n",
       "      <td>제주시</td>\n",
       "      <td>삼성로</td>\n",
       "      <td>40</td>\n",
       "      <td>민속자연사박물관</td>\n",
       "    </tr>\n",
       "    <tr>\n",
       "      <th>2</th>\n",
       "      <td>제주특별자치도 제주시 노형9길 9-4  주차장</td>\n",
       "      <td>제주특별자치도</td>\n",
       "      <td>제주시</td>\n",
       "      <td>노형9길</td>\n",
       "      <td>9-4</td>\n",
       "      <td>주차장</td>\n",
       "    </tr>\n",
       "    <tr>\n",
       "      <th>3</th>\n",
       "      <td>경상북도 포항시 북구 해안로 82</td>\n",
       "      <td>경상북도</td>\n",
       "      <td>포항시</td>\n",
       "      <td>북구</td>\n",
       "      <td>해안로</td>\n",
       "      <td>82</td>\n",
       "    </tr>\n",
       "    <tr>\n",
       "      <th>4</th>\n",
       "      <td>강원도 양양군 현북면 동해대로 1242</td>\n",
       "      <td>강원도</td>\n",
       "      <td>양양군</td>\n",
       "      <td>현북면</td>\n",
       "      <td>동해대로</td>\n",
       "      <td>1242</td>\n",
       "    </tr>\n",
       "  </tbody>\n",
       "</table>\n",
       "</div>"
      ],
      "text/plain": [
       "                                     주소        0    1     2        3         4\n",
       "0  경상남도 김해시 진영읍 하계로96번길 94-4  주유소 옆 주차장     경상남도  김해시   진영읍  하계로96번길      94-4\n",
       "1           제주특별자치도 제주시 삼성로 40 민속자연사박물관  제주특별자치도  제주시   삼성로       40  민속자연사박물관\n",
       "2             제주특별자치도 제주시 노형9길 9-4  주차장  제주특별자치도  제주시  노형9길      9-4       주차장\n",
       "3                    경상북도 포항시 북구 해안로 82     경상북도  포항시    북구      해안로        82\n",
       "4                 강원도 양양군 현북면 동해대로 1242      강원도  양양군   현북면     동해대로      1242"
      ]
     },
     "execution_count": 194,
     "metadata": {},
     "output_type": "execute_result"
    }
   ],
   "source": [
    "new_adr_df2[['주소', 0, 1, 2, 3, 4]].head()"
   ]
  },
  {
   "cell_type": "markdown",
   "metadata": {},
   "source": [
    "##### 신주소 상세 분리 파일 출력"
   ]
  },
  {
   "cell_type": "code",
   "execution_count": 195,
   "metadata": {},
   "outputs": [],
   "source": [
    "new_adr_df2.to_csv('2020-22년_급속충전_신주소_상세분리.csv', encoding='utf-8')"
   ]
  },
  {
   "cell_type": "markdown",
   "metadata": {},
   "source": [
    "### 구주소 상세분리"
   ]
  },
  {
   "cell_type": "markdown",
   "metadata": {},
   "source": [
    "#### 상세분리"
   ]
  },
  {
   "cell_type": "code",
   "execution_count": 196,
   "metadata": {},
   "outputs": [
    {
     "data": {
      "text/html": [
       "<div>\n",
       "<style scoped>\n",
       "    .dataframe tbody tr th:only-of-type {\n",
       "        vertical-align: middle;\n",
       "    }\n",
       "\n",
       "    .dataframe tbody tr th {\n",
       "        vertical-align: top;\n",
       "    }\n",
       "\n",
       "    .dataframe thead th {\n",
       "        text-align: right;\n",
       "    }\n",
       "</style>\n",
       "<table border=\"1\" class=\"dataframe\">\n",
       "  <thead>\n",
       "    <tr style=\"text-align: right;\">\n",
       "      <th></th>\n",
       "      <th>0</th>\n",
       "      <th>1</th>\n",
       "      <th>2</th>\n",
       "      <th>3</th>\n",
       "      <th>4</th>\n",
       "      <th>5</th>\n",
       "      <th>6</th>\n",
       "      <th>7</th>\n",
       "      <th>8</th>\n",
       "      <th>9</th>\n",
       "      <th>10</th>\n",
       "      <th>11</th>\n",
       "    </tr>\n",
       "  </thead>\n",
       "  <tbody>\n",
       "    <tr>\n",
       "      <th>0</th>\n",
       "      <td>서울특별시</td>\n",
       "      <td>구로구</td>\n",
       "      <td>오류동</td>\n",
       "      <td>174-10</td>\n",
       "      <td>천왕역</td>\n",
       "      <td>환승주차장</td>\n",
       "      <td>1층</td>\n",
       "      <td>None</td>\n",
       "      <td>None</td>\n",
       "      <td>None</td>\n",
       "      <td>None</td>\n",
       "      <td>None</td>\n",
       "    </tr>\n",
       "    <tr>\n",
       "      <th>1</th>\n",
       "      <td>경상남도</td>\n",
       "      <td>통영시</td>\n",
       "      <td>광도면</td>\n",
       "      <td>죽림리</td>\n",
       "      <td>292-33</td>\n",
       "      <td>None</td>\n",
       "      <td>None</td>\n",
       "      <td>None</td>\n",
       "      <td>None</td>\n",
       "      <td>None</td>\n",
       "      <td>None</td>\n",
       "      <td>None</td>\n",
       "    </tr>\n",
       "    <tr>\n",
       "      <th>2</th>\n",
       "      <td>전라북도</td>\n",
       "      <td>완주군</td>\n",
       "      <td>봉동읍</td>\n",
       "      <td>둔산리</td>\n",
       "      <td>881</td>\n",
       "      <td>None</td>\n",
       "      <td>None</td>\n",
       "      <td>None</td>\n",
       "      <td>None</td>\n",
       "      <td>None</td>\n",
       "      <td>None</td>\n",
       "      <td>None</td>\n",
       "    </tr>\n",
       "    <tr>\n",
       "      <th>3</th>\n",
       "      <td>충청남도</td>\n",
       "      <td>공주시</td>\n",
       "      <td>정안면</td>\n",
       "      <td>석송리</td>\n",
       "      <td>None</td>\n",
       "      <td>None</td>\n",
       "      <td>None</td>\n",
       "      <td>None</td>\n",
       "      <td>None</td>\n",
       "      <td>None</td>\n",
       "      <td>None</td>\n",
       "      <td>None</td>\n",
       "    </tr>\n",
       "    <tr>\n",
       "      <th>4</th>\n",
       "      <td>충청북도</td>\n",
       "      <td>단양군</td>\n",
       "      <td>적성면</td>\n",
       "      <td>기동리</td>\n",
       "      <td>None</td>\n",
       "      <td>None</td>\n",
       "      <td>None</td>\n",
       "      <td>None</td>\n",
       "      <td>None</td>\n",
       "      <td>None</td>\n",
       "      <td>None</td>\n",
       "      <td>None</td>\n",
       "    </tr>\n",
       "  </tbody>\n",
       "</table>\n",
       "</div>"
      ],
      "text/plain": [
       "      0    1    2       3       4      5     6     7     8     9     10    11\n",
       "0  서울특별시  구로구  오류동  174-10     천왕역  환승주차장    1층  None  None  None  None  None\n",
       "1   경상남도  통영시  광도면     죽림리  292-33   None  None  None  None  None  None  None\n",
       "2   전라북도  완주군  봉동읍     둔산리     881   None  None  None  None  None  None  None\n",
       "3   충청남도  공주시  정안면     석송리    None   None  None  None  None  None  None  None\n",
       "4   충청북도  단양군  적성면     기동리    None   None  None  None  None  None  None  None"
      ]
     },
     "execution_count": 196,
     "metadata": {},
     "output_type": "execute_result"
    }
   ],
   "source": [
    "temp = old_adr_df['주소'].str.split(expand=True)\n",
    "temp.head()"
   ]
  },
  {
   "cell_type": "code",
   "execution_count": 197,
   "metadata": {},
   "outputs": [
    {
     "name": "stdout",
     "output_type": "stream",
     "text": [
      "4 : Yes\n",
      "5 : Yes\n",
      "6 : Yes\n",
      "7 : Yes\n",
      "8 : No\n",
      "9 : Yes\n",
      "10 : No\n",
      "11 : No\n"
     ]
    }
   ],
   "source": [
    "# 5번컬럼까지 -동, -리 존재\n",
    "# 6번부터 없음\n",
    "check_p = re.compile('동$|리$')\n",
    "for one in range(4, 12):\n",
    "    print(f'{one}', end=' : ')\n",
    "    uni = temp[temp[one].notnull() == True][one].unique()\n",
    "    # print(uni)\n",
    "    count = 0\n",
    "    for two in uni:\n",
    "        if check_p.search(two):\n",
    "            count += 1\n",
    "            break\n",
    "    if count != 0:\n",
    "        print('Yes')\n",
    "    else:\n",
    "        print('No')"
   ]
  },
  {
   "cell_type": "code",
   "execution_count": 198,
   "metadata": {},
   "outputs": [
    {
     "data": {
      "text/plain": [
       "array([None, '옆', '입구', '장애인', '531)', '사이', '18', '주차장', 'E01번', '공영주차장',\n",
       "       '정면', '주민센터', '앞', '좌측', '우측', '근처', '왼쪽', '대형주차장', '(묵현리', '내',\n",
       "       '기둥옆', '오송역', '제2공구', '오른쪽', '제2주차장'], dtype=object)"
      ]
     },
     "execution_count": 198,
     "metadata": {},
     "output_type": "execute_result"
    }
   ],
   "source": [
    "temp[7].unique()"
   ]
  },
  {
   "cell_type": "code",
   "execution_count": 199,
   "metadata": {},
   "outputs": [
    {
     "data": {
      "text/plain": [
       "array(['1층', None, '오른쪽', '앞', '끝', '버스주차장', '사무실', '우측', '옆', '주차장',\n",
       "       '(나성동', '뒤', '관리사무소', 'LPG충전소', '지하4층', '근처', '증설주차장', '입구', '2층',\n",
       "       '맨끝쪽', '맞은편', '정면', '좌측', '2동', '건물입구', '건물', '후면', '지하주차장', '3가)',\n",
       "       '흡연실', '1282-16)', '맨끝', '384-27)', '왼쪽', '20구역', '287기둥옆',\n",
       "       '(기동리)', '430기둥', '820-10)', '사업단', '공영주차장', '밑', '5층', '안쪽', '9',\n",
       "       '산업단지', '매표소앞', '가03', '주차구역', 'KTX', '마금산온천', '옥상', '501)', '1가)',\n",
       "       '2', '232-9'], dtype=object)"
      ]
     },
     "execution_count": 199,
     "metadata": {},
     "output_type": "execute_result"
    }
   ],
   "source": [
    "temp[6].unique()"
   ]
  },
  {
   "cell_type": "code",
   "execution_count": 200,
   "metadata": {},
   "outputs": [
    {
     "data": {
      "text/plain": [
       "array(['환승주차장', None, '입구', '주차장', '좌측', '주차타워', '제2공영주차장', '안쪽', '우측',\n",
       "       '북구청', '지상', '뒤편', '주민센터', '공중화장실', '산방산', 'B1', '485', '온정종합터미널',\n",
       "       '정문', '휴게소와', '무릉문화의집', '179-6', '15', '검품장', '북측', '끝', '제주현대미술관',\n",
       "       '지하', '새마을금고', '필지', '2층주차장', '28', '44', '재릉종합관광안내센터', '웅동',\n",
       "       '20-48', '구청', '고엽제전우회', '753', '499-1)', '군청', '4층매장입구옆', '번지',\n",
       "       '옆', '후생동', '14', '정면', '604-3', '(창포동', '본관', '(백운리', '별관',\n",
       "       '630-5', '마트입구', '1712-10', '(여양3로', '1층', '지상2층', '807-6', '건너편',\n",
       "       '32-37', '그린빌딩', '230-1', '2-15', '건물', '(신관리', '스포츠', '97-1)',\n",
       "       '사랑방', '천마산군립공원', '보조경기장', '골프장', '지상주차장', '24-3', '(향교동)', '일원',\n",
       "       '1234-3', '입구앞', '1길', '대마전기차', '182-131', '영암국제카트장', '지하1층', '대형',\n",
       "       '앞', '소형주차장', '26', '370-1', '북주차장(우측)', '403-3', '386-2', '407-1',\n",
       "       '인근', '16-1', '공영주차장', '3층', '천의삼거리', '307', '312', '57-26',\n",
       "       '954-4', '292-5', '30-2', '679', '1316', '1257', '7-10', '664-5',\n",
       "       '민원봉사실', '42', '11', '391-3', '30-1', '353', '376-1', '52',\n",
       "       '765-161', '577-2', '23-1', '(덕곡리', '35-4', '1127-28', '(송천동',\n",
       "       '140-1', '6', '7-6', '164-3', '271-22', '343-4', '49-10', '-',\n",
       "       '4-7', '1430', '940', '123', '69-2', '45-49', '103-5(상)', '5',\n",
       "       '산8-12', '5-1', '산44-13', '2길', '285-4', '5-2', '68', '2023'],\n",
       "      dtype=object)"
      ]
     },
     "execution_count": 200,
     "metadata": {},
     "output_type": "execute_result"
    }
   ],
   "source": [
    "temp[5].unique()"
   ]
  },
  {
   "cell_type": "code",
   "execution_count": 201,
   "metadata": {},
   "outputs": [],
   "source": [
    "temp = temp.fillna(np.nan)"
   ]
  },
  {
   "cell_type": "code",
   "execution_count": 202,
   "metadata": {},
   "outputs": [
    {
     "data": {
      "text/html": [
       "<div>\n",
       "<style scoped>\n",
       "    .dataframe tbody tr th:only-of-type {\n",
       "        vertical-align: middle;\n",
       "    }\n",
       "\n",
       "    .dataframe tbody tr th {\n",
       "        vertical-align: top;\n",
       "    }\n",
       "\n",
       "    .dataframe thead th {\n",
       "        text-align: right;\n",
       "    }\n",
       "</style>\n",
       "<table border=\"1\" class=\"dataframe\">\n",
       "  <thead>\n",
       "    <tr style=\"text-align: right;\">\n",
       "      <th></th>\n",
       "      <th>0</th>\n",
       "      <th>1</th>\n",
       "      <th>2</th>\n",
       "      <th>3</th>\n",
       "      <th>4</th>\n",
       "      <th>5</th>\n",
       "      <th>6</th>\n",
       "      <th>7</th>\n",
       "      <th>8</th>\n",
       "      <th>9</th>\n",
       "      <th>10</th>\n",
       "      <th>11</th>\n",
       "    </tr>\n",
       "  </thead>\n",
       "  <tbody>\n",
       "    <tr>\n",
       "      <th>0</th>\n",
       "      <td>서울특별시</td>\n",
       "      <td>구로구</td>\n",
       "      <td>오류동</td>\n",
       "      <td>174-10</td>\n",
       "      <td>천왕역</td>\n",
       "      <td>환승주차장</td>\n",
       "      <td>1층</td>\n",
       "      <td>NaN</td>\n",
       "      <td>NaN</td>\n",
       "      <td>NaN</td>\n",
       "      <td>NaN</td>\n",
       "      <td>NaN</td>\n",
       "    </tr>\n",
       "    <tr>\n",
       "      <th>1</th>\n",
       "      <td>경상남도</td>\n",
       "      <td>통영시</td>\n",
       "      <td>광도면</td>\n",
       "      <td>죽림리</td>\n",
       "      <td>292-33</td>\n",
       "      <td>NaN</td>\n",
       "      <td>NaN</td>\n",
       "      <td>NaN</td>\n",
       "      <td>NaN</td>\n",
       "      <td>NaN</td>\n",
       "      <td>NaN</td>\n",
       "      <td>NaN</td>\n",
       "    </tr>\n",
       "    <tr>\n",
       "      <th>2</th>\n",
       "      <td>전라북도</td>\n",
       "      <td>완주군</td>\n",
       "      <td>봉동읍</td>\n",
       "      <td>둔산리</td>\n",
       "      <td>881</td>\n",
       "      <td>NaN</td>\n",
       "      <td>NaN</td>\n",
       "      <td>NaN</td>\n",
       "      <td>NaN</td>\n",
       "      <td>NaN</td>\n",
       "      <td>NaN</td>\n",
       "      <td>NaN</td>\n",
       "    </tr>\n",
       "    <tr>\n",
       "      <th>3</th>\n",
       "      <td>충청남도</td>\n",
       "      <td>공주시</td>\n",
       "      <td>정안면</td>\n",
       "      <td>석송리</td>\n",
       "      <td>NaN</td>\n",
       "      <td>NaN</td>\n",
       "      <td>NaN</td>\n",
       "      <td>NaN</td>\n",
       "      <td>NaN</td>\n",
       "      <td>NaN</td>\n",
       "      <td>NaN</td>\n",
       "      <td>NaN</td>\n",
       "    </tr>\n",
       "    <tr>\n",
       "      <th>4</th>\n",
       "      <td>충청북도</td>\n",
       "      <td>단양군</td>\n",
       "      <td>적성면</td>\n",
       "      <td>기동리</td>\n",
       "      <td>NaN</td>\n",
       "      <td>NaN</td>\n",
       "      <td>NaN</td>\n",
       "      <td>NaN</td>\n",
       "      <td>NaN</td>\n",
       "      <td>NaN</td>\n",
       "      <td>NaN</td>\n",
       "      <td>NaN</td>\n",
       "    </tr>\n",
       "  </tbody>\n",
       "</table>\n",
       "</div>"
      ],
      "text/plain": [
       "      0    1    2       3       4      5    6    7    8    9    10   11\n",
       "0  서울특별시  구로구  오류동  174-10     천왕역  환승주차장   1층  NaN  NaN  NaN  NaN  NaN\n",
       "1   경상남도  통영시  광도면     죽림리  292-33    NaN  NaN  NaN  NaN  NaN  NaN  NaN\n",
       "2   전라북도  완주군  봉동읍     둔산리     881    NaN  NaN  NaN  NaN  NaN  NaN  NaN\n",
       "3   충청남도  공주시  정안면     석송리     NaN    NaN  NaN  NaN  NaN  NaN  NaN  NaN\n",
       "4   충청북도  단양군  적성면     기동리     NaN    NaN  NaN  NaN  NaN  NaN  NaN  NaN"
      ]
     },
     "execution_count": 202,
     "metadata": {},
     "output_type": "execute_result"
    }
   ],
   "source": [
    "temp.head()"
   ]
  },
  {
   "cell_type": "code",
   "execution_count": 203,
   "metadata": {},
   "outputs": [
    {
     "data": {
      "text/html": [
       "<div>\n",
       "<style scoped>\n",
       "    .dataframe tbody tr th:only-of-type {\n",
       "        vertical-align: middle;\n",
       "    }\n",
       "\n",
       "    .dataframe tbody tr th {\n",
       "        vertical-align: top;\n",
       "    }\n",
       "\n",
       "    .dataframe thead th {\n",
       "        text-align: right;\n",
       "    }\n",
       "</style>\n",
       "<table border=\"1\" class=\"dataframe\">\n",
       "  <thead>\n",
       "    <tr style=\"text-align: right;\">\n",
       "      <th></th>\n",
       "      <th>충전소명</th>\n",
       "      <th>충전기ID</th>\n",
       "      <th>지역</th>\n",
       "      <th>시군구</th>\n",
       "      <th>주소</th>\n",
       "      <th>충전기타입</th>\n",
       "      <th>충전시작일시</th>\n",
       "      <th>충전종료일시</th>\n",
       "      <th>충전시간</th>\n",
       "      <th>충전량</th>\n",
       "      <th>...</th>\n",
       "      <th>2</th>\n",
       "      <th>3</th>\n",
       "      <th>4</th>\n",
       "      <th>5</th>\n",
       "      <th>6</th>\n",
       "      <th>7</th>\n",
       "      <th>8</th>\n",
       "      <th>9</th>\n",
       "      <th>10</th>\n",
       "      <th>11</th>\n",
       "    </tr>\n",
       "  </thead>\n",
       "  <tbody>\n",
       "    <tr>\n",
       "      <th>0</th>\n",
       "      <td>천왕역 환승주차장</td>\n",
       "      <td>1</td>\n",
       "      <td>서울특별시</td>\n",
       "      <td>구로구</td>\n",
       "      <td>서울특별시 구로구 오류동 174-10  천왕역 환승주차장 1층</td>\n",
       "      <td>DC차데모+AC3상</td>\n",
       "      <td>20200101000457</td>\n",
       "      <td>20200101004534</td>\n",
       "      <td>0 days 00:40:37</td>\n",
       "      <td>18.87</td>\n",
       "      <td>...</td>\n",
       "      <td>오류동</td>\n",
       "      <td>174-10</td>\n",
       "      <td>천왕역</td>\n",
       "      <td>환승주차장</td>\n",
       "      <td>1층</td>\n",
       "      <td>NaN</td>\n",
       "      <td>NaN</td>\n",
       "      <td>NaN</td>\n",
       "      <td>NaN</td>\n",
       "      <td>NaN</td>\n",
       "    </tr>\n",
       "    <tr>\n",
       "      <th>1</th>\n",
       "      <td>신세계종합정비</td>\n",
       "      <td>1</td>\n",
       "      <td>경상남도</td>\n",
       "      <td>통영시</td>\n",
       "      <td>경상남도 통영시 광도면 죽림리 292-33</td>\n",
       "      <td>DC차데모+AC3상+DC콤보</td>\n",
       "      <td>20200101000906</td>\n",
       "      <td>20200101004945</td>\n",
       "      <td>0 days 00:40:39</td>\n",
       "      <td>27.96</td>\n",
       "      <td>...</td>\n",
       "      <td>광도면</td>\n",
       "      <td>죽림리</td>\n",
       "      <td>292-33</td>\n",
       "      <td>NaN</td>\n",
       "      <td>NaN</td>\n",
       "      <td>NaN</td>\n",
       "      <td>NaN</td>\n",
       "      <td>NaN</td>\n",
       "      <td>NaN</td>\n",
       "      <td>NaN</td>\n",
       "    </tr>\n",
       "    <tr>\n",
       "      <th>2</th>\n",
       "      <td>근로자종합복지관</td>\n",
       "      <td>1</td>\n",
       "      <td>전라북도</td>\n",
       "      <td>완주군</td>\n",
       "      <td>전라북도 완주군 봉동읍 둔산리 881</td>\n",
       "      <td>DC차데모+AC3상+DC콤보</td>\n",
       "      <td>20200101001519</td>\n",
       "      <td>20200101005604</td>\n",
       "      <td>0 days 00:40:45</td>\n",
       "      <td>25.64</td>\n",
       "      <td>...</td>\n",
       "      <td>봉동읍</td>\n",
       "      <td>둔산리</td>\n",
       "      <td>881</td>\n",
       "      <td>NaN</td>\n",
       "      <td>NaN</td>\n",
       "      <td>NaN</td>\n",
       "      <td>NaN</td>\n",
       "      <td>NaN</td>\n",
       "      <td>NaN</td>\n",
       "      <td>NaN</td>\n",
       "    </tr>\n",
       "    <tr>\n",
       "      <th>3</th>\n",
       "      <td>정안휴게소(순천방향)</td>\n",
       "      <td>1</td>\n",
       "      <td>충청남도</td>\n",
       "      <td>공주시</td>\n",
       "      <td>충청남도 공주시 정안면 석송리</td>\n",
       "      <td>DC차데모+AC3상+DC콤보</td>\n",
       "      <td>20200101002014</td>\n",
       "      <td>20200101002652</td>\n",
       "      <td>0 days 00:06:38</td>\n",
       "      <td>1.17</td>\n",
       "      <td>...</td>\n",
       "      <td>정안면</td>\n",
       "      <td>석송리</td>\n",
       "      <td>NaN</td>\n",
       "      <td>NaN</td>\n",
       "      <td>NaN</td>\n",
       "      <td>NaN</td>\n",
       "      <td>NaN</td>\n",
       "      <td>NaN</td>\n",
       "      <td>NaN</td>\n",
       "      <td>NaN</td>\n",
       "    </tr>\n",
       "    <tr>\n",
       "      <th>4</th>\n",
       "      <td>단양휴게소(부산방향)</td>\n",
       "      <td>1</td>\n",
       "      <td>충청북도</td>\n",
       "      <td>단양군</td>\n",
       "      <td>충청북도 단양군 적성면 기동리</td>\n",
       "      <td>DC차데모+AC3상+DC콤보</td>\n",
       "      <td>20200101003527</td>\n",
       "      <td>20200101004937</td>\n",
       "      <td>0 days 00:14:06</td>\n",
       "      <td>8.64</td>\n",
       "      <td>...</td>\n",
       "      <td>적성면</td>\n",
       "      <td>기동리</td>\n",
       "      <td>NaN</td>\n",
       "      <td>NaN</td>\n",
       "      <td>NaN</td>\n",
       "      <td>NaN</td>\n",
       "      <td>NaN</td>\n",
       "      <td>NaN</td>\n",
       "      <td>NaN</td>\n",
       "      <td>NaN</td>\n",
       "    </tr>\n",
       "  </tbody>\n",
       "</table>\n",
       "<p>5 rows × 39 columns</p>\n",
       "</div>"
      ],
      "text/plain": [
       "          충전소명  충전기ID     지역  시군구                                  주소  \\\n",
       "0    천왕역 환승주차장      1  서울특별시  구로구  서울특별시 구로구 오류동 174-10  천왕역 환승주차장 1층   \n",
       "1      신세계종합정비      1   경상남도  통영시             경상남도 통영시 광도면 죽림리 292-33   \n",
       "2     근로자종합복지관      1   전라북도  완주군                전라북도 완주군 봉동읍 둔산리 881   \n",
       "3  정안휴게소(순천방향)      1   충청남도  공주시                    충청남도 공주시 정안면 석송리   \n",
       "4  단양휴게소(부산방향)      1   충청북도  단양군                    충청북도 단양군 적성면 기동리   \n",
       "\n",
       "             충전기타입          충전시작일시          충전종료일시            충전시간    충전량  \\\n",
       "0       DC차데모+AC3상  20200101000457  20200101004534 0 days 00:40:37  18.87   \n",
       "1  DC차데모+AC3상+DC콤보  20200101000906  20200101004945 0 days 00:40:39  27.96   \n",
       "2  DC차데모+AC3상+DC콤보  20200101001519  20200101005604 0 days 00:40:45  25.64   \n",
       "3  DC차데모+AC3상+DC콤보  20200101002014  20200101002652 0 days 00:06:38   1.17   \n",
       "4  DC차데모+AC3상+DC콤보  20200101003527  20200101004937 0 days 00:14:06   8.64   \n",
       "\n",
       "   ...    2       3       4      5    6    7    8    9   10   11  \n",
       "0  ...  오류동  174-10     천왕역  환승주차장   1층  NaN  NaN  NaN  NaN  NaN  \n",
       "1  ...  광도면     죽림리  292-33    NaN  NaN  NaN  NaN  NaN  NaN  NaN  \n",
       "2  ...  봉동읍     둔산리     881    NaN  NaN  NaN  NaN  NaN  NaN  NaN  \n",
       "3  ...  정안면     석송리     NaN    NaN  NaN  NaN  NaN  NaN  NaN  NaN  \n",
       "4  ...  적성면     기동리     NaN    NaN  NaN  NaN  NaN  NaN  NaN  NaN  \n",
       "\n",
       "[5 rows x 39 columns]"
      ]
     },
     "execution_count": 203,
     "metadata": {},
     "output_type": "execute_result"
    }
   ],
   "source": [
    "old_adr_df2 = pd.concat([old_adr_df, temp], axis=1)\n",
    "old_adr_df2.head()"
   ]
  },
  {
   "cell_type": "markdown",
   "metadata": {},
   "source": [
    "##### 주소 상세 분리 확인"
   ]
  },
  {
   "cell_type": "code",
   "execution_count": 204,
   "metadata": {},
   "outputs": [
    {
     "data": {
      "text/html": [
       "<div>\n",
       "<style scoped>\n",
       "    .dataframe tbody tr th:only-of-type {\n",
       "        vertical-align: middle;\n",
       "    }\n",
       "\n",
       "    .dataframe tbody tr th {\n",
       "        vertical-align: top;\n",
       "    }\n",
       "\n",
       "    .dataframe thead th {\n",
       "        text-align: right;\n",
       "    }\n",
       "</style>\n",
       "<table border=\"1\" class=\"dataframe\">\n",
       "  <thead>\n",
       "    <tr style=\"text-align: right;\">\n",
       "      <th></th>\n",
       "      <th>주소</th>\n",
       "      <th>0</th>\n",
       "      <th>1</th>\n",
       "      <th>2</th>\n",
       "      <th>3</th>\n",
       "      <th>4</th>\n",
       "    </tr>\n",
       "  </thead>\n",
       "  <tbody>\n",
       "    <tr>\n",
       "      <th>3857542</th>\n",
       "      <td>경기도 안산시 상록구 사동 1271-11</td>\n",
       "      <td>경기도</td>\n",
       "      <td>안산시</td>\n",
       "      <td>상록구</td>\n",
       "      <td>사동</td>\n",
       "      <td>1271-11</td>\n",
       "    </tr>\n",
       "    <tr>\n",
       "      <th>3857543</th>\n",
       "      <td>경기도 의정부시 호원동 229-160</td>\n",
       "      <td>경기도</td>\n",
       "      <td>의정부시</td>\n",
       "      <td>호원동</td>\n",
       "      <td>229-160</td>\n",
       "      <td>NaN</td>\n",
       "    </tr>\n",
       "    <tr>\n",
       "      <th>3857544</th>\n",
       "      <td>서울특별시 서초구 반포동 49-8</td>\n",
       "      <td>서울특별시</td>\n",
       "      <td>서초구</td>\n",
       "      <td>반포동</td>\n",
       "      <td>49-8</td>\n",
       "      <td>NaN</td>\n",
       "    </tr>\n",
       "    <tr>\n",
       "      <th>3857545</th>\n",
       "      <td>인천광역시 서구 당하동 1097-5  검단4동 주민센터 옆</td>\n",
       "      <td>인천광역시</td>\n",
       "      <td>서구</td>\n",
       "      <td>당하동</td>\n",
       "      <td>1097-5</td>\n",
       "      <td>검단4동</td>\n",
       "    </tr>\n",
       "    <tr>\n",
       "      <th>3857546</th>\n",
       "      <td>대구광역시 남구 봉덕동 1272-18</td>\n",
       "      <td>대구광역시</td>\n",
       "      <td>남구</td>\n",
       "      <td>봉덕동</td>\n",
       "      <td>1272-18</td>\n",
       "      <td>NaN</td>\n",
       "    </tr>\n",
       "  </tbody>\n",
       "</table>\n",
       "</div>"
      ],
      "text/plain": [
       "                                       주소      0     1    2        3        4\n",
       "3857542            경기도 안산시 상록구 사동 1271-11    경기도   안산시  상록구       사동  1271-11\n",
       "3857543              경기도 의정부시 호원동 229-160    경기도  의정부시  호원동  229-160      NaN\n",
       "3857544                서울특별시 서초구 반포동 49-8  서울특별시   서초구  반포동     49-8      NaN\n",
       "3857545  인천광역시 서구 당하동 1097-5  검단4동 주민센터 옆  인천광역시    서구  당하동   1097-5     검단4동\n",
       "3857546              대구광역시 남구 봉덕동 1272-18  대구광역시    남구  봉덕동  1272-18      NaN"
      ]
     },
     "execution_count": 204,
     "metadata": {},
     "output_type": "execute_result"
    }
   ],
   "source": [
    "old_adr_df2[['주소', 0, 1, 2, 3, 4]].tail()"
   ]
  },
  {
   "cell_type": "code",
   "execution_count": 205,
   "metadata": {},
   "outputs": [
    {
     "data": {
      "text/html": [
       "<div>\n",
       "<style scoped>\n",
       "    .dataframe tbody tr th:only-of-type {\n",
       "        vertical-align: middle;\n",
       "    }\n",
       "\n",
       "    .dataframe tbody tr th {\n",
       "        vertical-align: top;\n",
       "    }\n",
       "\n",
       "    .dataframe thead th {\n",
       "        text-align: right;\n",
       "    }\n",
       "</style>\n",
       "<table border=\"1\" class=\"dataframe\">\n",
       "  <thead>\n",
       "    <tr style=\"text-align: right;\">\n",
       "      <th></th>\n",
       "      <th>주소</th>\n",
       "      <th>0</th>\n",
       "      <th>1</th>\n",
       "      <th>2</th>\n",
       "      <th>3</th>\n",
       "      <th>4</th>\n",
       "    </tr>\n",
       "  </thead>\n",
       "  <tbody>\n",
       "    <tr>\n",
       "      <th>0</th>\n",
       "      <td>서울특별시 구로구 오류동 174-10  천왕역 환승주차장 1층</td>\n",
       "      <td>서울특별시</td>\n",
       "      <td>구로구</td>\n",
       "      <td>오류동</td>\n",
       "      <td>174-10</td>\n",
       "      <td>천왕역</td>\n",
       "    </tr>\n",
       "    <tr>\n",
       "      <th>1</th>\n",
       "      <td>경상남도 통영시 광도면 죽림리 292-33</td>\n",
       "      <td>경상남도</td>\n",
       "      <td>통영시</td>\n",
       "      <td>광도면</td>\n",
       "      <td>죽림리</td>\n",
       "      <td>292-33</td>\n",
       "    </tr>\n",
       "    <tr>\n",
       "      <th>2</th>\n",
       "      <td>전라북도 완주군 봉동읍 둔산리 881</td>\n",
       "      <td>전라북도</td>\n",
       "      <td>완주군</td>\n",
       "      <td>봉동읍</td>\n",
       "      <td>둔산리</td>\n",
       "      <td>881</td>\n",
       "    </tr>\n",
       "    <tr>\n",
       "      <th>3</th>\n",
       "      <td>충청남도 공주시 정안면 석송리</td>\n",
       "      <td>충청남도</td>\n",
       "      <td>공주시</td>\n",
       "      <td>정안면</td>\n",
       "      <td>석송리</td>\n",
       "      <td>NaN</td>\n",
       "    </tr>\n",
       "    <tr>\n",
       "      <th>4</th>\n",
       "      <td>충청북도 단양군 적성면 기동리</td>\n",
       "      <td>충청북도</td>\n",
       "      <td>단양군</td>\n",
       "      <td>적성면</td>\n",
       "      <td>기동리</td>\n",
       "      <td>NaN</td>\n",
       "    </tr>\n",
       "  </tbody>\n",
       "</table>\n",
       "</div>"
      ],
      "text/plain": [
       "                                   주소      0    1    2       3       4\n",
       "0  서울특별시 구로구 오류동 174-10  천왕역 환승주차장 1층  서울특별시  구로구  오류동  174-10     천왕역\n",
       "1             경상남도 통영시 광도면 죽림리 292-33   경상남도  통영시  광도면     죽림리  292-33\n",
       "2                전라북도 완주군 봉동읍 둔산리 881   전라북도  완주군  봉동읍     둔산리     881\n",
       "3                    충청남도 공주시 정안면 석송리   충청남도  공주시  정안면     석송리     NaN\n",
       "4                    충청북도 단양군 적성면 기동리   충청북도  단양군  적성면     기동리     NaN"
      ]
     },
     "execution_count": 205,
     "metadata": {},
     "output_type": "execute_result"
    }
   ],
   "source": [
    "old_adr_df2[['주소', 0, 1, 2, 3, 4]].head()"
   ]
  },
  {
   "cell_type": "markdown",
   "metadata": {},
   "source": [
    "##### 구주소 상세 분리 파일 출력"
   ]
  },
  {
   "cell_type": "code",
   "execution_count": 206,
   "metadata": {},
   "outputs": [],
   "source": [
    "old_adr_df2.to_csv('2020-22년_급속충전_구주소_상세분리.csv', encoding='utf-8')"
   ]
  },
  {
   "cell_type": "code",
   "execution_count": 207,
   "metadata": {},
   "outputs": [
    {
     "name": "stdout",
     "output_type": "stream",
     "text": [
      "제주특별자치도 서귀포시 성산읍 성산리 347-9 주차타워 앞\n"
     ]
    }
   ],
   "source": [
    "for one in old_adr_df2['주소'].to_list():\n",
    "    if ('제주' in one):\n",
    "        print(one)\n",
    "        break"
   ]
  },
  {
   "cell_type": "markdown",
   "metadata": {},
   "source": [
    "## 파일 로드(다시 시작)"
   ]
  },
  {
   "cell_type": "code",
   "execution_count": 208,
   "metadata": {},
   "outputs": [],
   "source": [
    "# new_adr_df2 = pd.read_csv('2020-22년_급속충전_신주소_상세분리.csv', index_col=0, dtype={'충전시작_년도':np.int16, '충전종료_년도':np.int16, '충전시작_월':np.int8,  '충전시작_일':np.int8, '충전시작_시':np.int8, '충전시작_분':np.int8, '충전시작_초':np.int8, '충전종료_월':np.int8, '충전종료_일':np.int8, '충전종료_시':np.int8, '충전종료_분':np.int8, '충전종료_초':np.int8, '충전기ID':np.int8})\n",
    "# new_adr_df2['충전시간'] = pd.to_timedelta(new_adr_df2['충전시간'])\n",
    "# new_adr_df2['충전시간(계산)'] = pd.to_timedelta(new_adr_df2['충전시간(계산)'])\n",
    "# new_adr_df2 = new_adr_df2.reset_index(drop=True)\n",
    "# new_adr_df2.info()"
   ]
  },
  {
   "cell_type": "code",
   "execution_count": 209,
   "metadata": {},
   "outputs": [],
   "source": [
    "# old_adr_df2 = pd.read_csv('2020-22년_급속충전_구주소_상세분리.csv', index_col=0, dtype={'충전시작_년도':np.int16, '충전종료_년도':np.int16, '충전시작_월':np.int8,  '충전시작_일':np.int8, '충전시작_시':np.int8, '충전시작_분':np.int8, '충전시작_초':np.int8, '충전종료_월':np.int8, '충전종료_일':np.int8, '충전종료_시':np.int8, '충전종료_분':np.int8, '충전종료_초':np.int8, '충전기ID':np.int8})\n",
    "# old_adr_df2['충전시간'] = pd.to_timedelta(old_adr_df2['충전시간'])\n",
    "# old_adr_df2['충전시간(계산)'] = pd.to_timedelta(old_adr_df2['충전시간(계산)'])\n",
    "# old_adr_df2 = old_adr_df2.reset_index(drop=True)\n",
    "# old_adr_df2.info()"
   ]
  },
  {
   "cell_type": "code",
   "execution_count": 210,
   "metadata": {},
   "outputs": [],
   "source": [
    "# # [주의!]신/구주소 파일 불러올시 실행\n",
    "# df2 = pd.concat([new_adr_df2, old_adr_df2], ignore_index=True)\n",
    "# df2.info()"
   ]
  },
  {
   "cell_type": "markdown",
   "metadata": {},
   "source": [
    "## 분석2"
   ]
  },
  {
   "cell_type": "code",
   "execution_count": 211,
   "metadata": {},
   "outputs": [
    {
     "name": "stdout",
     "output_type": "stream",
     "text": [
      "<class 'pandas.core.frame.DataFrame'>\n",
      "RangeIndex: 7755902 entries, 0 to 7755901\n",
      "Data columns (total 40 columns):\n",
      " #   Column        Dtype          \n",
      "---  ------        -----          \n",
      " 0   충전소명          object         \n",
      " 1   충전기ID         int8           \n",
      " 2   지역            object         \n",
      " 3   시군구           object         \n",
      " 4   주소            object         \n",
      " 5   충전기타입         object         \n",
      " 6   충전시작일시        int64          \n",
      " 7   충전종료일시        int64          \n",
      " 8   충전시간          timedelta64[ns]\n",
      " 9   충전량           float64        \n",
      " 10  충전용량          object         \n",
      " 11  충전시작_년도       int16          \n",
      " 12  충전시작_월        int8           \n",
      " 13  충전시작_일        int8           \n",
      " 14  충전시작_시        int8           \n",
      " 15  충전시작_분        int8           \n",
      " 16  충전시작_초        int8           \n",
      " 17  충전시작일시(변환)    object         \n",
      " 18  충전종료_년도       int16          \n",
      " 19  충전종료_월        int8           \n",
      " 20  충전종료_일        int8           \n",
      " 21  충전종료_시        int8           \n",
      " 22  충전종료_분        int8           \n",
      " 23  충전종료_초        int8           \n",
      " 24  충전종료일시(변환)    object         \n",
      " 25  충전시간(계산)      timedelta64[ns]\n",
      " 26  raw값과_계산값_차이  object         \n",
      " 27  0             object         \n",
      " 28  1             object         \n",
      " 29  2             object         \n",
      " 30  3             object         \n",
      " 31  4             object         \n",
      " 32  5             object         \n",
      " 33  6             object         \n",
      " 34  7             object         \n",
      " 35  8             object         \n",
      " 36  9             object         \n",
      " 37  10            object         \n",
      " 38  11            object         \n",
      " 39  12            object         \n",
      "dtypes: float64(1), int16(2), int64(2), int8(11), object(22), timedelta64[ns](2)\n",
      "memory usage: 1.7+ GB\n"
     ]
    }
   ],
   "source": [
    "new_adr_df2.info()"
   ]
  },
  {
   "cell_type": "code",
   "execution_count": 212,
   "metadata": {},
   "outputs": [
    {
     "name": "stdout",
     "output_type": "stream",
     "text": [
      "<class 'pandas.core.frame.DataFrame'>\n",
      "RangeIndex: 3857547 entries, 0 to 3857546\n",
      "Data columns (total 39 columns):\n",
      " #   Column        Dtype          \n",
      "---  ------        -----          \n",
      " 0   충전소명          object         \n",
      " 1   충전기ID         int8           \n",
      " 2   지역            object         \n",
      " 3   시군구           object         \n",
      " 4   주소            object         \n",
      " 5   충전기타입         object         \n",
      " 6   충전시작일시        int64          \n",
      " 7   충전종료일시        int64          \n",
      " 8   충전시간          timedelta64[ns]\n",
      " 9   충전량           float64        \n",
      " 10  충전용량          object         \n",
      " 11  충전시작_년도       int16          \n",
      " 12  충전시작_월        int8           \n",
      " 13  충전시작_일        int8           \n",
      " 14  충전시작_시        int8           \n",
      " 15  충전시작_분        int8           \n",
      " 16  충전시작_초        int8           \n",
      " 17  충전시작일시(변환)    object         \n",
      " 18  충전종료_년도       int16          \n",
      " 19  충전종료_월        int8           \n",
      " 20  충전종료_일        int8           \n",
      " 21  충전종료_시        int8           \n",
      " 22  충전종료_분        int8           \n",
      " 23  충전종료_초        int8           \n",
      " 24  충전종료일시(변환)    object         \n",
      " 25  충전시간(계산)      timedelta64[ns]\n",
      " 26  raw값과_계산값_차이  object         \n",
      " 27  0             object         \n",
      " 28  1             object         \n",
      " 29  2             object         \n",
      " 30  3             object         \n",
      " 31  4             object         \n",
      " 32  5             object         \n",
      " 33  6             object         \n",
      " 34  7             object         \n",
      " 35  8             object         \n",
      " 36  9             object         \n",
      " 37  10            object         \n",
      " 38  11            object         \n",
      "dtypes: float64(1), int16(2), int64(2), int8(11), object(21), timedelta64[ns](2)\n",
      "memory usage: 820.4+ MB\n"
     ]
    }
   ],
   "source": [
    "old_adr_df2.info()"
   ]
  },
  {
   "cell_type": "markdown",
   "metadata": {},
   "source": [
    "#### 분석 이슈\n",
    "- 1번 지역(시군구) : 세종특별자치시 주소는 시군구가 없이 바로 도로명 주소나 2번 지역명(읍면동)이 있는 경우가 있음\n",
    "- 2번 지역(읍면동) : 3번 지역명(리)의 주소가 있는 샘플 존재.\n",
    "    - 샘플 주소 : 강원도 화천군 하리\n",
    "    - 실제 주소 : 강원도 화천군 화천읍 하리"
   ]
  },
  {
   "cell_type": "markdown",
   "metadata": {},
   "source": [
    "#### 이슈 해결 방안\n",
    "- 1\\. 신주소, 구주소 나누어 분석\n",
    "- 2\\. 주소에서 빠진 지역구분명은 검색을 통해 주소 값 입력\n",
    "- 3\\. 해당 주소 다시 지역구분으로 분리"
   ]
  },
  {
   "cell_type": "markdown",
   "metadata": {},
   "source": [
    "### 지역별 유니크 값 확인\n",
    "- 지역 분류에 맞는 주소 들어갔는지 확인"
   ]
  },
  {
   "cell_type": "code",
   "execution_count": 13,
   "metadata": {},
   "outputs": [
    {
     "name": "stdout",
     "output_type": "stream",
     "text": [
      "진영읍, 삼성로, 노형9길, 북구, 현북면, 산천단동길, 양산대로, 동명면, 강릉대로, 우평로\n",
      "월드컵대로, 용평면, 신평면, 애월읍, 문막읍, 서원구, 강구면, 성산읍, 안흥면, 장안읍\n",
      "송산면, 문내면, 안면읍, 선원로, 봉개북1길, 문연로, 효동로2길, 일산서구, 남문로, 청도읍\n",
      "화서면, 남구, 지양로, 봉수로, 기자길, 광양읍, 오전로, 서광로2길, 단원구, 팔달로\n",
      "중원구, 동호로, 세종대로, 서생면, 지석13길, 설악면, 성산면, 단성면, 북한강변길, 흥덕구\n",
      "장연면, 조천읍, 칠서면, 구정면, 건천읍, 마산합포구, 덕양구, 연천읍, 진량읍, 안성면\n",
      "비인면, 내산면, 청석로3길, 팔탄면, 낙성대로4가길, 농소면, 보성읍, 선소로, 중앙탑면, 옥천읍\n",
      "동남구, 중문관광로, 부발읍, 하신중앙로, 와촌면, 능주면, 선덕로8길, 호저면, 망운면, 수지구\n",
      "죽변면, 옥성면, 현풍면, 문산읍, 안계면, 송지면, 분당구, 청송읍, 대가면, 죽왕면\n",
      "수목원길, 계룡로, 임고면, 돈내코로, 신림면, 지곡면, 구지면, 내토로, 동홍로, 왜관읍\n",
      "율촌면, 이월면, 현충로, 의사당대로, 장안로, 연희로, 서북구, 동진5길, 중앙로, 중부내륙고속도로\n",
      "표선면, 진월면, 한림읍, 가조면, 북성로, 관아문길, 양남면, 함평읍, 삼동길, 군위읍\n",
      "대관령면, 벌곡면, 무학로, 추암길, 영중로, 소보리당로164번길, 장충단로, 평원로, 큰발개, 해안마을서2길\n",
      "남승룡로, 미시령로, 기흥구, 해미면, 원효로35길, 화양읍, 하북면, 남성중로, 추자면, 봉오대로\n",
      "중부고속도로, 돌산읍, 해운대로, 군북면, 석문면, 보목로64번길, 서면, 강현면, 석봉로38번길, 부두로\n",
      "용현면, 후포면, 무왕로, 정안면, 새천년도로, 합천읍, 병곡면, 퇴계로, 성주읍, 부곡로\n",
      "근덕면, 산척면, 영암읍, 봉은사로, 오남로, 으뜸로, 중앙대로, 대강면, 한경면, 동해대로\n",
      "화도읍, 첨단로, 동문대로, 가정북로, 의창구, 고창읍, 매송면, 가정로, 혁신6로, 문화회관4길\n",
      "이동면, 남매로, 계북면, 영동읍, 황간면, 망우로, 구이면, 구좌읍, 시민공원로, 홍북읍\n",
      "소홀읍, 군동면, 곤지암읍, 오운로, 무주읍, 내방로, 별내3로, 장흥읍, 가야대로, 경안로\n",
      "거창읍, 옥서면, 청원구, 처인구, 홍천읍, 천수로, 영광읍, 청통면, 첨단과기로208번길, 산업단지로\n",
      "남부순환로340길, 은하면, 516로, 목동서로, 꽃대나리로, 명지오션시티13로, 순창읍, 청평면, 염전로, 대가야읍\n",
      "선사로, 시청1로, 부흥로, 권선구, 1100로, 쇠소깍로, 옥계면, 곤양면, 삼양로, 진황도로29길\n",
      "삼향읍, 낙동대로, 장항읍, 천호대로, 화곡로, 간동면, 신포로27번길, 태안로, 시청로, 한울로\n",
      "영산면, 이서면, 동진로, 영중로3길, 의당면, 도안북로, 영월읍, 동이면, 양평읍, 금강송면\n",
      "엄다면, 금화로, 신양면, 화순읍, 가남읍, 토정로, 시종면, 단계동길, 과역면, 명림로\n",
      "공항진입로, 연북로, 수송로, 장곡로, 정각로, 첨단벤처로108번길, 약령중앙로, 주교면, 마장면, 국채보상로\n",
      "남강로, 나포면, 평화로, 북면, 외동읍, 이태원로, 남양읍, 회동길, 송정대로, 대정읍\n",
      "하늘길, 좌동순환로, 청라, 진안읍, 완도읍, 내동길, 신흥2길, 서울대학로278번길, 내남면, 강동면\n",
      "오수면, 마들로, 남해고속도로, 태성탑연로, 평택5로, 흥업면, 원곡면, 중앙로25길, 마로면, 양북면\n",
      "풍산읍, 흰바위로, 주암면, 일운면, 은척면, 삼호1길, 부계면, 일주동로, 삼성면, 당하길\n",
      "을숙도대로, 겸백면, 금왕읍, 당진영덕고속도로, 덕진구, 장유로116번길, 현경면, 가평읍, 덕풍서로, 계대동문로\n",
      "조성면, 예술로, 국포1로, 과천대로, 남원읍, 효돈로152번길, 정관읍, 청학로, 염포로, 대청로116번길\n",
      "인중로, 금성로, 양양읍, 청계면, 장명로, 서울외곽순환고속도로, 거제대로, 충의로, 홍성읍, 봉화로\n",
      "삼봉로, 남부순환로, 김포한강7로, 하서로, 찬샘1길, 연산면, 진관1로, 달구벌대로637길, 김포한강2로, 서운면\n",
      "창의문로, 동강면, 수로부인길, 세실로, 논산대로, 일산동구, 가야테마길, 삼산로, 영중면, 신녕면\n",
      "구미대로22길, 방림면, 대학로, 능허대로, 원인재로, 용두대로11길, 탄천면, 양산로, 수동면, 봉선로\n",
      "중대로, 경감로, 겸면, 천북남로, 반석로12번길, 무전대로, 풍천면, 연무로166번길, 오송읍, 화곡로4길\n",
      "신내로, 옥산면, 공도읍, 남면, 의성읍, 오일장서길, 청능대로, 삽교읍, 완산구, 동서로\n",
      "다사읍, 지평면, 402, 사천읍, 고성읍, 원당대로, 봉곡로15길, 상록구, 정안로, 운암면\n",
      "봉천로21길, 북이면, 임실읍, 산단로76번길, 양재대로12길, 횡성읍, 로봇랜드로, 경산시, 연수로, 구암로\n",
      "예산읍, 테헤란로, 3로, 환선로, 도산면, 충정로, 방송길, 성내천로33가길, 평동로, 태평로\n",
      "한밭대로, 성산구, 의림대로42길, 양림길, 을지로, 마음밭길, 광장로, 노작로, 백수읍, 중앙로62번길\n",
      "연암로, 테크노, 양구읍, 산천단, 평화로2910번길, 무선로, 독산로36나길, 용마산로, 탕정면, 기장읍\n",
      "양천로61길, 죽산면, 동내면, 용방면, 도계읍, 소양로, 아양로37길, 청양읍, 단월면, 군내면\n",
      "원형서로, 소하로, 백호로, 북방면, 칠원읍, 성지곡로, 산록남로1241번길, 율하2로, 둔산중로, 계원대학로\n",
      "금산로, 종로, 동홍중앙로7번길, 동서대로, 탄현면, 안덕면, 통진읍, 서원대로, 사천대로, 우장산로\n",
      "선돌목동길, 고경면, 경인로, 성주산로, 아트센터대로, 경인옛로, 개군면, 칠십리로, 소공로, 낙동대로1518번길\n",
      "영남대로, 호저로, 장신로, 아영면, 봉계1길, 신탄진로, 달서구, 첨단강변로99번길, 경열로17번길, 칠보면\n",
      "마포대로1길, 연곡면, 지정면, 장흥면, 소성로, 온산읍, 양지길, 유가면, 산록북로, 청운면\n",
      "상당구, 오현로21길, 번화1로56번길, 은평로, 옥과면, 북부순환도로, 두서면, 와석순환로, 늘을2로, 대화면\n",
      "가창면, 노원로, 강서로5길, 함창로, 번영로, 우천면, 경기대로, 와부읍, 가로공원로, 국채보상로131길\n",
      "의령읍, 창녕읍, 두류공원로, 사암로, 능서면, 삭주로, 산동면, 안남면, 공원순환로, 종합운동장길\n",
      "불갑면, 지석로, 축동면, 청수로31길, 유성대로, 의재로109번길, 관천로, 봉수대로, 매헌로, 운봉읍\n",
      "시청길, 수성1로, 다산중앙로, 광산로68번길, 우석로, 연동로, 금산읍, 백포서길, 탄현1로, 장안구\n",
      "빛가람로, 11, 북문대로, 동안구, 양천로, 규암면, 백강로, 마산회원구, 유덕로, 천문로\n",
      "물금읍, 덕연로, 도봉로61길, 효창목길, 철마면, 토평로, 연일로, 이인면, 홍제내길, 창경궁로\n",
      "연풍면, 시민로, 담양읍, 입춘로, 목장길, 북안면, 수정구, 미사강변, 진장유통로, 원덕읍\n",
      "채운면, 부안읍, 선산대로, 개포로, 틀모시로, 북원로, 매월2로, 한방로, 정산면, 서간도길\n",
      "남성중로153번길, 사등면, 가회면, 익산대로, 여흥로160번길, 고한읍, 태종로, 무안면, 불정면, 새문안로\n",
      "달서대로, 당산로, 영신로, 원미구, 동일로204가길, 민락수변로, 복현로8길, 앞산순환로, 청일면, 화랑로\n",
      "신길로40길, 평산로, 정림서로, 삼양로107길, 내오산로, 화남면, 광나루로4가길, 임계면, 미탄면, 울진읍\n",
      "덕릉로, 경명로, 김해대로, 꽃바위로, 상화로, 오금로68길, 방화대로, 진천읍, 증평읍, 천원2길\n",
      "봉양면, 해남읍, 동탄면, 난곡로, 양정로, 단장골길, 가곡면, 영통구, 생극면, 철원읍\n",
      "손불면, 능동로, 두산로, 미음산단로295번길, 평화로2169번길, 아포읍, 신천대로, 충효로, 남부순환로88길, 흑석로\n",
      "성내로, 전포대로91번길, 문화로, 청량읍, 대산면, 선유로, 가락대로, 고덕로28길, 센트럴로, 황전면\n",
      "시흥대로, 송악읍, 임항로, 영북로, 줄포면, 흥덕면, 웅촌면, 여의대방로53길, 고산자로26길, 팔달구\n",
      "공영로, 정우남로, 영덕읍, 정안세종로, 산업로, 논공읍, 해양로, 면천로, 운동장길, 갈말읍\n",
      "봉래면, 신평강변8길, 좌수영로, 광양9길, 호명면, 가야읍, 내장산로, 청안면, 종가로, 강림면\n",
      "화명대로, 백석읍, 동대로, 회나무로, 광산로29번길, 시민로19번길, 진성8길, 무룡로, 공항로, 쌍백면\n",
      "유통단지로, 장수로, 하남대로, 쌍림면, 속리산면, 청성면, 합덕읍, 함양읍, 선남면, 조례신대길\n",
      "혁신8로, 주덕읍, 동계천로, 원창로, 화천읍, 영흥면, 운문면, 마산면, 소양면, 대전면\n",
      "양동면, 삼랑진읍, 삼성1로, 장수읍, 천년로, 까치산로4길, 원삭로, 다도면, 영남제일로, 토성면\n",
      "요천로, 오송생명2로, 알파시티1로, 수영로, 청라면, 일로읍, 다산면, 신안면, 은현면, 월드컵로\n",
      "현리길, 지범로, 고봉로, 동서대로1322번길, 화지로, 신기면, 매봉산로, 진도읍, 설악산로, 공항로424번길\n",
      "어상천면, 호계2길, 성동새싹길, 천천면, 곡성읍, 안강읍, 관산읍, 구룡달전로, 관문로, 승주읍\n",
      "화양면, 소촌로152번길, 강원남부로, 동문대로456번길, 장대로, 눌재로, 신풍면, 송암로, 금호읍, 용산면\n",
      "수색로, 온양읍, 유림로5번길, 해룡면, 화북면, 가정로151번길, 성북로, 체육관로, 방산면, 축산면\n",
      "영산로, 희망공원로, 공항동로296번길, 개포로25길, 수륜면, 다시면, 중산간서로, 주천면, 살미면, 군포로609번안길\n",
      "무안로, 동일로, 평창읍, 운남면, 월아산로, 학산면, 예천읍, 주포면, 청천면, 석성면\n",
      "엄궁로191번길, 한수면, 가야면, 우성면, 역전광장1길, 도봉로69길, 대송로, 서곶로, 종합운동장로, 첨단과기로\n",
      "과학로, 위천면, 반남면, 시초면, 금이진말길, 벚꽃로, 탁옥로51번길, 올림픽로, 대치면, 밀양대로\n",
      "경원대로, 청사로, 진해구, 상북면, 대교로14번길, 진광로, 화정면, 이섭대천로, 도농로, 성내천로\n",
      "하동읍, 동면, 동송읍, 청리면, 회암사길, 풍기읍, 백곡면, 풍무로, 두왕로, 오곡면\n",
      "난곡로34나길, 광천읍, 수산면, 적성면, 법성면, 테크노10로, 노곡면, 어곡터널로, 서화면, 상관면\n",
      "성산로, 방어진순환도로, 이문로, 산서면, 서수면, 내동면, 환경로, 천변좌로222번길, 삼천포대교로, 필문대로205번길\n",
      "송광면, 배방읍, 내촌면, 동탄공원로2길, 복흥면, 안의면, 하장면, 칠성면, 고덕로, 고암면\n",
      "영남, 화곡로65길, 군서면, 신둔면, 초평면, 왕산로, 금지면, 서부면, 238-1, 조리읍\n",
      "중앙로32길, 무주로, 단구로, 소성면, 대청호수로545번길, 용봉로138번길, 무안읍, 화정로, 오포읍, 진남로\n",
      "포승읍, 문화로234번길, 부용로41번길, 영산포로, 상보안윗길, 동산면, 우두상리길, 진부면, 예향로, 재신길\n",
      "유치면, 용당로, 압해읍, 강원대학길, 서하남로, 수암로, 상무대로1223번길, 신답로, 풍영로, 이백면\n",
      "사매면, 김화읍, 학교면, 신북면, 해보면, 태안읍, 통일로, 동복면, 신지면, 만안구\n",
      "봉선중앙로123번길, 호법면, 용면, 혁신로, 덕골길, 태장로795번길, 대곶면, 사우중로, 장릉로, 장안웃길\n",
      "화산면, 압구정로, 성덕정길, 독서당로63길, 무학봉15길, 옥길로, 앵고개로, 성산길, 목동중앙로, 산본로\n",
      "김치로, 목동동로, 오리로, 염전로333번길, 강남대로120길, 영신로10길, 진접읍, 중앙로29길, 곰달래로10길, 다산지금로\n",
      "선릉로108길, 진흥길, 근남면, 서석면, 청계천로, 반달로, 암태면, 무네미로, 조례2길, 삼화로\n",
      "16, 파천면, 계산새로, 석정로, 삼육사로2186번길, 회천면, 서독로104번길, 백제고분로, 광적면, 성암로\n",
      "동광로, 용남3길, 강화읍, 중봉대로, 산성길, 말질로, 영종해안북로, 칠십리로72번길, 구례읍, 13(나성동)\n",
      "20, 평천로, 부일로, 상무대로, 중앙로101번길, 토평공단로, 탑동로, 영춘면, 마령면, 영종해안북로1204번길\n",
      "청량로, 477, 부산면, 화원면, 북평면, 군외면, 약사고개길, 화목원길, 상암3길, 몽탄면\n",
      "한강대로62다길, 현내면, 칠전동길, 춘천로17번길, 광평로, 갓바위, 둘레길, 조례1길, 오산면, 수송동로\n",
      "자은면, 무진대로, 안골로, 노성로, 부량면, 별내면, 거제중앙로, 골든루트로, 산내면, 대청로176번길\n",
      "남산초교길, 전하로176번길, 고서면, 맹동면, 삼계면, 다인면, 효령면, 황산면, 비안면, 범서읍\n",
      "벌말로, 벌교읍, 언양읍, 수목원로, 장생포로, 각남면, 청량면, 대학길, 세계로, 신광면\n",
      "송악면, 강진읍, 수도권제2순환고속도로, 가례면, 고아읍, 3공단1로, 하나로, 옥도면, 안견로, 고대면\n",
      "김포한강11로, 미로면, 매화면, 인제읍, 공지로, 운동장로, 장기면, 유니버시아드로, 금산면, 칠산로\n",
      "사직산21길, 숭의로, 시청1길, 마유로238번길, 진장, 팔마로, 가마산로, 엑스포로, 변산면, 진성면\n",
      "망경남길, 설죽로436번길, 쌍봉로, 공항진입로42번길, 소래로, 안천면, 왕산면, 탄천로, 인산로, 정동로42번길\n",
      "용두암길, 신서귀로51번길, 국가정원1호길, 용성면, 경춘로, 동교로1길, 상사면, 95(어진동), 94(어진동), 408(어진동)\n",
      "8-14(나성동), 양산역6길, 명지국제6로, 광도면, 신암남로, 이곡동로, 이계북로, 오천면, 센텀동로, 388(어진동)\n",
      "갑천면, 공원2길, 용성로, 수지면, 송동면, 붕맛1길, 한누리로, 첨단2로, 향남읍, 시묘길\n",
      "동안로, 삼선산수목원길, 김포대로, 김포한강8로, 대성길, 선화로, 함열중앙로, 성주면, 대천항1길, 의재로\n",
      "중앙2길, 태장로, 동곡로, 김포한강1로, 신덕면, 대천로, 온천대로, 고남면, 강상면, 상서면\n",
      "이원면, 민락로, 전곡읍, 보안면, 장남면, 음봉로681번길, 대산읍, 장계면, 서원면, 김삿갓면\n",
      "설천면, 굴거랑길, 무석1로, 무령로, 보드미길, 청산면, 261, 신평로, 삼일로265번길, 법전면\n",
      "인월면, 덕산면, 신례원로, 함라면, 장호원읍, 의림대로, 구억말길, 덕풍로, 괴산읍, 부남면\n",
      "웅천읍, 관촉로, 구시1길, 내평봉성길, 발산로, 송암로143번길, 의병대로34길, 양재대로, 앙성면, 동탄중앙로\n",
      "강하면, 옥구읍, 남한강로, 남산1길, 소수면, 사리면, 봉동읍, 관창공단길, 무극로244번길, 번영로224번길\n",
      "신두해변길, 대청로, 통물길, 강당로, 연못1길, 하성면, 컨벤시아대로, 낙서면, 통영해안로, 하우3길\n",
      "남동서로, 구룡16, 부림면, 길곡면, 중면, 관광단지로, 산양읍, 회기로, 첨단로8길, 대양면\n",
      "용주면, 형곡로, 장수면, 묘산면, 경부고속도로, 초계면, 엄사면, 신성로, 노은동로87번길, 송림로19번길\n",
      "진보면, 산양1길, 세도면, 천북면, 주왕산면, 적중면, 삼안로112번길, 삼동면, 도개면, 왕버들로322번길\n",
      "매곡면, 삼계로, 신원면, 유곡면, 영서로, 선산읍, 봉성면, 유어면, 박정희로, 삼호읍\n",
      "충화면, 양화면, 내면, 방배로23길, 사평대로28길, 공단2대로, 가학로, 영양읍, 상운면, 미력면\n",
      "용문길, 비봉면, 신서면, 은산면, 파주읍, 고북면, 외암로, 병영면, 신북읍, 고산면\n",
      "원롱면, 동림로, 와석순환로172번길, 유등면, 입암면, 468-65, 만경읍, 세남로, 대림로, 신길로60길\n",
      "초월읍, 오현로, 겸재로23길, 계수로, 대월면, 양사면, 안남로, 양도면, 문헌공로, 춘양면\n",
      "양일로, 용화면, 남동대로916번길, 소래역로, 입면, 아암대로253번길, 현서면, 석곡면, 사평면, 내토로16안길\n",
      "세명로, 백산면, 익산대로52길, 상무자유로, 이백로, 원주시, 광평길, 금성면, 변산해변로, 두촌면\n",
      "송선로, 해룡로, 신동읍, 서울대학로264번길, 사북읍, 태백로, 서초대로54길, 공단9로, 조촌5길, 사북면\n",
      "계화면, 일출로, 미장8길, 동산로, 광탄면, 여량면, 녹송4길, 장자대로, 가좌길29번길, 설림길\n",
      "산단남북로, 해마루공원로, 영주로, 온정면, 창길, 효자면, 강변로74번길, 대흥신림로, 새만금북로, 미원로\n",
      "설림안4길, 금성산길, 화부산로40번길, 늦은맛재길, 내장호반로, 사곡면, 안사면, 중앙로63번길, 가음면, 시흥대로268번길\n",
      "동일로197길, 아리랑로, 교동면, 월롱면, 남악로162번길, 법원읍, 덕진면, 청호로, 고수면, 함박안로\n",
      "상하면, 영북면, 교룡로, 성황단길, 외서면, 동일면, 함열읍, 이양면, 도암면, 웅포면\n",
      "팔금면, 보석로, 왕궁면, 동화면, 제2바이오밸리로3길, 정선읍, 신니면, 산외면, 장성읍, 북하면\n",
      "임회면, 신월로, 수석1길, 장천면, 해평면, 부귀면, 상전면, 약산면, 구미대로, 성수면\n",
      "백운면, 단일면, 소라면, 대덕대로989번길, 백아면, 석적읍, 자유무역길, 가르뱅이로, 당산로41길, 대덕대로\n",
      "송현로8안길, 충장로, 갈마중로30번길, 운천로31번길, 가수원로, 천변우하로, 하양읍, 서변남로, 양호길, 가천면\n",
      "목사동면, 상산로, 연삼로, 복지로, 송이길, 청운로, 월정서로, 도순남로29번길, 하귀동남1길, 금곡면\n",
      "이반성면, 오봉산로, 서신면, 오이도로, 삼남면, 부석로, 학가산온천길, 마도면, 진동면, 신어산길\n",
      "소흘읍, 대신면, 고금면, 화암면, 추암로, 모종북로76번길, 곡교천로27번길, 삼장면, 실옥로, 입장면\n",
      "화원읍, 덕천면, 혁신대로, 사내면, 봉방2길, 금마면, 충효천길, 북문로, 횡천면, 시천면\n",
      "신등면, 가은읍, 밀양대공원로, 진해대로, 남해읍, 기성면, 명지오션시티, 분포로, 장생포고래로, 상월면\n",
      "산청읍, 친환경로, 회화면, 구만면, 삼산면, 상리면, 하일면, 하이면, 공근면, 불은면\n",
      "개천면, 성서공단로, 우정읍, 안심1길, 주촌면, 동량면, 첨복로, 장대로43번길, 이방면, 현풍읍\n",
      "옥대로, 부여읍, 마서면, 천곡남로, 갈밭로, 삼산로35번길, 학감대로, 청덕면, 황강체육공원로, 원효로\n",
      "은행나무길, 서천읍, 단양읍, 장동면, 내상로, 월곡중앙로, 큰샘길, 여산면, 고촌읍, 통영로\n",
      "아랫배랭이로, 춘천로, 천곡로, 하평2길, 노암등길, 신태인읍, 낭산면, 옥산로10번길, 배곧4로, 호현로49번길\n",
      "남파로, 오봉로, 안중읍, 통복시장로22번길, 지산2로, 송탄로, 테헤란로114길, 초록마을로, 뚝섬로52길, 금하로\n",
      "장한로, 여의대방로10길, 사직로8길, 진흥로, 마포대로, 동암로, 청라대로, 열우물로, 굴포로, 탁옥로\n",
      "부영로, 보개면, 은계중앙로, 사가정로, 봉오재1로, 학정로, 해제면, 정촌면, 진주대로, 삼산중로\n",
      "백제문화로, 남후면, 목행산단7로, 덕산읍, 평내로, 금오로23번길, 음성읍, 왕버들로, 금가면, 용아로\n",
      "남부로, 달구벌대로, 소호로, 사들로, 함안면, 수통골로, 낙동남로, 연수원길, 삽량로, 수출대로\n",
      "계족로, 해안로127번길, 수강로12번길, 자유로20번길, 성전면, 둔산로, 하멜로, 덕치면, 강진면, 하서면\n",
      "고운로, 산인면, 집현면, 미산면, 봉산면, 충무로, 보문로, 매봉로, 운산면, 보현로\n",
      "호수공원6로, 하평로, 성연면, 동구릉로136번길, 미사강변한강로, 풍물시장2길, 한섬로, 사천면, 경열로, 서하로\n",
      "공산면, 이창1길, 서하로183번길, 만대공원길, 매소홀로290번길, 경동로, 경춘로2192번길, 율곡로3139번길, 정장로, 상패로\n",
      "장성로, 간성읍, 쇠재로, 백서로189번길, 하남산단4번로, 아산면, 창수면, 조치원6길, 죽성로, 정자말길\n",
      "산림박물관길, 증신로, 감물면, 포돌이로, 산본로324번길, 송도과학로51번길, 의료원로, 도작로, 향단로, 일주서로\n",
      "신중로, 이어도로, 범안로12가길, 정상로, 마유산로, 오시게로, 장유면, 첨단과기로176번길, 정서진1로, 오류동\n",
      "마장동, 일원동, 신천3동, 대동면, 화촌면, 기린면, 단밀면, 서변동, 장위2동, 왕지동\n",
      "하계동, 서창동, 감포읍, 비전동, 화북1동, 모전동, 사정동, 대라리, 창3동, 연암동\n",
      "용암면, 경서동, 반석동, 서홍동, 상주면, 남정면, 만덕로, 산성면, 소호동, 7-7\n",
      "안림동, 봉화군, 길상면, 신장동, 법환동, 조남동, 진서면, 웅진동, 송정동, 조양동\n",
      "금곡동, 창평동, 봉황동, 고현면, 학동, 상암동, 관평동, 도마동, 용답동, 색달동\n",
      "황지동, 잠실동, 아라동, 도양읍, 서귀동, 내동, 춘의동, 상남면, 도남동, 장군동\n",
      "일도2동, 소도동, 하귀1리, 노고산동, 양촌읍, 부평동, 신흑동, 유가읍, 중앙동, 둔포면\n",
      "이도1동, 동부면, 상동, 봉개동, 봉덕동, 논현동, 망월동, 장천동, 둔내면, 삼문동\n",
      "등암리, 오식도동, 내장동, 율암동, 도원동, 성남동, 신길동, 목동, 수청동, 동홍동\n",
      "운주면, 일산동, 옥정동, 인동, 충효동, 주안동, 오정동, 무수동, 신음동, 지곶동\n",
      "삼산동, 교동, 신림동, 장대동, 주월동, 야음동, 갈마동, 관저동, 초전면, 석사동\n",
      "대청동, 서운동, 세종리, 문경읍, 회수동, 계산동, 덕천동, 복수동, 정릉동, 옥동\n",
      "신대동, 정림동, 월평동, 두마면, 감곡면, 모종동, 반곡동, 외도1동, 노학동, 금학동\n",
      "가양동, 장지동, 진월동, 덕진동, 침산동, 서호동, 거진읍, 봉방동, 연향동, 신길1동\n",
      "가흥동, 교문동, 당하동, 노은동, 매암동, 배미동, 상효로39, 용계동, 구월3동, 중동\n",
      "621, 중리동, 호산동, 현곡면, 금암동, 달동, 장당동, 사농동, 계림동, 가좌동\n",
      "송월동, 장기동, 압구정동, 영순면, 진관동, 궁촌동, 연동, 만덕동, 수산동, 시전동\n",
      "거제동, 남부동, 영주동, 연희동, 대항면, 갈산동, 탄방동, 청천동, 평산동, 석교동\n",
      "송도동, 십정동, 학암동, 하기동, 수석동, 진천동, 풍산동, 용수동, 개봉동, 빛가람동\n",
      "대방동, 덕계동, 한산면, 341-72, 용산동, 보은읍, 대사동, 수북면, 신정동, 매곡동\n",
      "노원동, 동양동, 내가면, 혈동, 오태동, 인사동, 양서면, 향교동, 일광면, 남지읍\n",
      "평리, 부동면, 황성동, 부곡동, 덕암동, 상계2동, 망미동, 만년동, 용탄동, 용운동\n",
      "대소원면, 성안동, 방촌동, 쌍문3동, 용화동, 검산동, 갈현동, 대곡동, 용문면, 향촌동\n",
      "호원동, 용담2동, 개포동, 부석면, 쌍문2동, 홍도동, 근흥면, 운남동, 소초면, 한남동\n",
      "624-1, 봉화읍, 중앙대로2, 가산동, 대마면, 판교면, 정곡면, 상평동, 234-10, 상아동\n",
      "북산면, 퇴계동, 인주면, 당저동, 서동, 구로동, 금동, 단장면, 조례동, 비아동\n",
      "도봉동, 해안면, 남부순환도로, 주생면, 미조면, 동부동, 화봉동, 순흥면, 효문동, 태장동\n",
      "청풍면, 남산면, 원북면, 화정동, 장전1동, 북성동, 상면, 보문면, 수서동, 심천면\n",
      "염산면, 점암면, 장곡동, 부원동, 웅양면, 봉담읍, 부전1동, 진교면, 화개면, 단산면\n",
      "판부면, 송림동, 무정면, 의흥면, 지곡동, 안영동, 정미면, 고흥읍, 목상동, 창2동\n",
      "지산동, 선기동, 미장동, 용문동, 구암동, 노암동, 흑석동, 변동, 삼례읍, 서석동\n",
      "묵호진동, 홍농읍, 남교동, 대천동, 장동, 연무읍, 측후동, 신도안면, 교촌동, 용당동\n",
      "도곡면, 망상동, 취암동, 두왕동, 명장동, 암남동, 하남읍, 부곡면, 대지면, 무전동\n",
      "불암동, 외동, 오가면, 거의동, 남정동, 신창면, 남평읍, 잠홍동, 차황면, 칠곡면\n",
      "동현동, 연초면, 다방동, 광혜원면, 현동면, 동대동, 주산면, 왕곡면, 유구읍, 역동\n",
      "무거동, 월야면, 문외동, 소보면, 명호면, 영해면, 삼도동, 봉곡동, 벽진면, 금수면\n",
      "평화동, 구성면, 운수면, 충무공동, 생초면, 양재동, 반포동, 신정6동, 961, 성북동\n",
      "금릉동, 용암리, 일직면, 금호동, 화장동, 토평동, 교량동, 월피동, 성곡동, 오림동\n",
      "삼양1동, 임천면, 도고면, 남한산성면, 대저2동, 복내면, 고도면, 원동면, 감천면, 수한면\n",
      "남선면, 외도일동, 봉현면, 하청면, 온천동, 학성동, 석현동, 주상면, 회남면, 을왕동\n",
      "관교동, 대술면, 녹전면, 염치읍, 방축동, 광시면, 임동면, 남상면, 청도면, 지도읍\n",
      "선암동, 삼방동, 관촌면, 고로면, 궁류면, 번암면, 홍산면, 우곡면, 반구동, 범어동\n",
      "포남동, 정상동, 점곡면, 남양동, 풍산면, 상촌면, 고덕면, 둔덕면, 동해면, 남가좌2동\n",
      "한림면, 창선면, 청소면, 남부면, 능포동, 가능동, 장암동, 남성동, 관동동, 옥계동\n",
      "계성면, 하리, 월항면, 명천동, 지례면, 대합면, 삼가면, 옥종면, 석보면, 봉강면\n",
      "문덕면, 중평리, 용남면, 금남면, 적량면, 남산동, 소원면, 득량면, 양산면, 외산면\n",
      "양강면, 옥룡면, 제원면, 월출동, 본현면, 용궁면, 약목면, 쌍책면, 영주시, 광평동\n",
      "쌍치면, 동문동, 안현동, 마성면, 둔산동, 효목동, 속사리, 용호동, 봉무동, 송암동\n",
      "황룡동, 갈매동, 천곡동, 남항진동, 유천면, 노형동, 홍제동, 운북동, 군남면, 정왕동\n",
      "선원면, 마량면, 대구면, 대포동, 포월리, 손양면, 남중동, 여의도동, 수송동, 원지동\n",
      "중화동, 치평동, 창동, 천현동, 통복동, 영천동, 내남동, 옥천면, 산이면, 상동읍\n",
      "중계리, 나운동, 행안면, 옥산동, 신태인리, 금정면, 해리면, 연수동, 신전면, 동두천동\n",
      "용정동, 광치동, 봉평면, 용동면, 황등면, 한천면, 안좌면, 인화동, 팔봉동, 지현동\n",
      "정우면, 가곡동, 현산면, 북일면, 무풍면, 계곡면, 용담면, 임자면, 웅천동, 삼동\n",
      "응암리, 내판리, 마동, 두류동, 임암동, 송촌동, 팔덕면, 웅치면, 임당동, 계양동\n",
      "계남면, 두동면, 부항면, 풍양면, 율어면, 양정동, 수곡면, 증도면, 야로면, 신평동\n",
      "달산면, 석포면, 우정동, 송동, 옥대리, 도곡동, 동림동, 양보면, 금서면, 마천면\n",
      "안정면, 신안동, 평거동, 덕포동, 좌동, 신관동, 문수면, 평해읍, 대저1동, 생림면\n",
      "영현면, 면천면, 관인면, 다산동, 석우동, 토지면, 삼천동, 호탄동, 북군동, 동천동\n",
      "읍내동, 거제면, 송선동, 연일읍, 구포동, 성동동, 거류면, 야흥동, 미암면, 삼각동\n",
      "석정동, 우이동, 쌍문1동, 염리동, 함창읍, 교현동, 마암면, 덕명동, 신성동, 송강동\n",
      "옥암동, 삼서면, 현남면, 실안동, 예천동, 음암면, 관문동, 운암동, 청학동, 평내동\n",
      "대흥면, 황룡면, 백사면, 신효동, 무릉도원면, "
     ]
    }
   ],
   "source": [
    "n = 1\n",
    "for one in list(df2['2'].unique()):\n",
    "    if n % 10 == 0:\n",
    "        print(one)\n",
    "    else:\n",
    "        print(one, end=', ')\n",
    "    n += 1"
   ]
  },
  {
   "cell_type": "markdown",
   "metadata": {},
   "source": [
    "### 신주소 분석"
   ]
  },
  {
   "cell_type": "code",
   "execution_count": 214,
   "metadata": {},
   "outputs": [
    {
     "data": {
      "text/plain": [
       "array(['경상남도', '제주특별자치도', '경상북도', '강원도', '대전광역시', '충청남도', '충청북도', '부산광역시',\n",
       "       '경기도', '전라남도', '대구광역시', '광주광역시', '서울특별시', '울산광역시', '전라북도', '인천광역시',\n",
       "       '세종특별자치시'], dtype=object)"
      ]
     },
     "execution_count": 214,
     "metadata": {},
     "output_type": "execute_result"
    }
   ],
   "source": [
    "new_adr_df2[0].unique()"
   ]
  },
  {
   "cell_type": "code",
   "execution_count": 215,
   "metadata": {},
   "outputs": [
    {
     "data": {
      "text/plain": [
       "array(['김해시', '제주시', '포항시', '양양군', '양산시', '칠곡군', '강릉시', '유성구', '평창군',\n",
       "       '당진시', '원주시', '청주시', '영덕군', '서귀포시', '횡성군', '기장군', '화성시', '해남군',\n",
       "       '태안군', '달서구', '동구', '고양시', '청도군', '상주시', '양천구', '광양시', '의왕시',\n",
       "       '안산시', '북구', '성남시', '중구', '종로구', '울주군', '가평군', '산청군', '춘천시', '괴산군',\n",
       "       '함안군', '경주시', '창원시', '연천군', '경산시', '무주군', '서천군', '부여군', '삼척시',\n",
       "       '관악구', '김천시', '보성군', '여수시', '충주시', '옥천군', '천안시', '이천시', '사하구',\n",
       "       '화순군', '무안군', '용인시', '울진군', '구미시', '달성군', '진주시', '의성군', '청송군',\n",
       "       '고성군', '거제시', '영천시', '함양군', '제천시', '진천군', '동작구', '영등포구', '계룡시',\n",
       "       '서대문구', '문경시', '거창군', '서산시', '함평군', '군위군', '논산시', '수성구', '동해시',\n",
       "       '통영시', '순천시', '속초시', '용산구', '계양구', '하남시', '해운대구', '금산군', '대덕구',\n",
       "       '사천시', '익산시', '공주시', '합천군', '안동시', '성주군', '영암군', '강남구', '동래구',\n",
       "       '단양군', '남양주시', '고창군', '남해군', '군산시', '장수군', '영동군', '중랑구', '완주군',\n",
       "       '부산진구', '홍성군', '포천시', '강진군', '광주시', '광산구', '서구', '장흥군', '사상구',\n",
       "       '홍천군', '영광군', '서초구', '남구', '강서구', '순창군', '고령군', '강동구', '부평구',\n",
       "       '수원시', '강북구', '동대문구', '화천군', '파주시', '창녕군', '영월군', '양평군', '예산군',\n",
       "       '여주시', '마포구', '고흥군', '의정부시', '남동구', '보령시', '양주시', '정읍시', '연제구',\n",
       "       '진안군', '완도군', '나주시', '시흥시', '임실군', '도봉구', '평택시', '안성시', '보은군',\n",
       "       '음성군', '전주시', '하동군', '김포시', '은평구', '연수구', '송파구', '곡성군', '인제군',\n",
       "       '한누리대로', '장성군', '김제시', '다솜3로', '철원군', '남원시', '양구군', '동두천시', '금천구',\n",
       "       '아산시', '구례군', '청양군', '목포시', '광명시', '구로구', '부천시', '미추홀구', '노원구',\n",
       "       '군포시', '의령군', '오산시', '도움6로', '안양시', '담양군', '부안군', '정선군', '영도구',\n",
       "       '밀양시', '수영구', '성북구', '성동구', '증평군', '구리시', '광진구', '금정구', '과천시',\n",
       "       '연기면', '예천군', '영주시', '옹진군', '진도군', '태백시', '다솜2로', '가름로', '울릉군',\n",
       "       '신안군', '보듬6로', '강화군', '정부2청사로', '도움5로', '갈매로', '국세청로', '다솜로',\n",
       "       '봉화군', '영양군', '조치원읍', '장군면', '금남면'], dtype=object)"
      ]
     },
     "execution_count": 215,
     "metadata": {},
     "output_type": "execute_result"
    }
   ],
   "source": [
    "new_adr_df2[1].unique()"
   ]
  },
  {
   "cell_type": "code",
   "execution_count": 217,
   "metadata": {},
   "outputs": [
    {
     "name": "stdout",
     "output_type": "stream",
     "text": [
      "한누리대로\n",
      "다솜3로\n",
      "도움6로\n",
      "연기면\n",
      "다솜2로\n",
      "가름로\n",
      "보듬6로\n",
      "정부2청사로\n",
      "도움5로\n",
      "갈매로\n",
      "국세청로\n",
      "다솜로\n",
      "조치원읍\n",
      "장군면\n",
      "금남면\n"
     ]
    }
   ],
   "source": [
    "sort_ad2 = re.compile('[가-힣]+시$|[가-힣]+군$|[가-힣]+구$')\n",
    "strange_ad2s = []\n",
    "for one in new_adr_df2[1].unique():\n",
    "    if sort_ad2.search(one) == None:\n",
    "        strange_ad2s.append(one)\n",
    "        print(one)"
   ]
  },
  {
   "cell_type": "code",
   "execution_count": 218,
   "metadata": {},
   "outputs": [
    {
     "name": "stdout",
     "output_type": "stream",
     "text": [
      "지역2 : 한누리대로\n",
      "['세종특별자치시']\n",
      "['한누리대로']\n",
      "['402']\n",
      "\n",
      "지역2 : 다솜3로\n",
      "['세종특별자치시']\n",
      "['다솜3로']\n",
      "['66' '95(어진동)']\n",
      "\n",
      "지역2 : 도움6로\n",
      "['세종특별자치시']\n",
      "['도움6로']\n",
      "['11']\n",
      "\n",
      "지역2 : 연기면\n",
      "['세종특별자치시']\n",
      "['연기면']\n",
      "['정안세종로' '수목원로']\n",
      "\n",
      "지역2 : 다솜2로\n",
      "['세종특별자치시']\n",
      "['다솜2로']\n",
      "['11' '94(어진동)']\n",
      "\n",
      "지역2 : 가름로\n",
      "['세종특별자치시']\n",
      "['가름로']\n",
      "['238-1']\n",
      "\n",
      "지역2 : 보듬6로\n",
      "['세종특별자치시']\n",
      "['보듬6로']\n",
      "['16']\n",
      "\n",
      "지역2 : 정부2청사로\n",
      "['세종특별자치시']\n",
      "['정부2청사로']\n",
      "['13(나성동)']\n",
      "\n",
      "지역2 : 도움5로\n",
      "['세종특별자치시']\n",
      "['도움5로']\n",
      "['20']\n",
      "\n",
      "지역2 : 갈매로\n",
      "['세종특별자치시']\n",
      "['갈매로']\n",
      "['477' '408(어진동)' '388(어진동)']\n",
      "\n",
      "지역2 : 국세청로\n",
      "['세종특별자치시']\n",
      "['국세청로']\n",
      "['8-14(나성동)']\n",
      "\n",
      "지역2 : 다솜로\n",
      "['세종특별자치시']\n",
      "['다솜로']\n",
      "['261']\n",
      "\n",
      "지역2 : 조치원읍\n",
      "['세종특별자치시']\n",
      "['조치원읍']\n",
      "['조치원6길']\n",
      "\n",
      "지역2 : 장군면\n",
      "['세종특별자치시']\n",
      "['장군면']\n",
      "['정자말길']\n",
      "\n",
      "지역2 : 금남면\n",
      "['세종특별자치시']\n",
      "['금남면']\n",
      "['산림박물관길']\n",
      "\n"
     ]
    }
   ],
   "source": [
    "for one in strange_ad2s:\n",
    "    print(f'지역2 : {one}')\n",
    "    print(new_adr_df2[new_adr_df2[1] == one][0].unique())\n",
    "    print(new_adr_df2[new_adr_df2[1] == one][1].unique())\n",
    "    print(new_adr_df2[new_adr_df2[1] == one][2].unique())\n",
    "    print()"
   ]
  },
  {
   "cell_type": "code",
   "execution_count": 18,
   "metadata": {},
   "outputs": [
    {
     "data": {
      "text/html": [
       "<div>\n",
       "<style scoped>\n",
       "    .dataframe tbody tr th:only-of-type {\n",
       "        vertical-align: middle;\n",
       "    }\n",
       "\n",
       "    .dataframe tbody tr th {\n",
       "        vertical-align: top;\n",
       "    }\n",
       "\n",
       "    .dataframe thead th {\n",
       "        text-align: right;\n",
       "    }\n",
       "</style>\n",
       "<table border=\"1\" class=\"dataframe\">\n",
       "  <thead>\n",
       "    <tr style=\"text-align: right;\">\n",
       "      <th></th>\n",
       "      <th>충전소명</th>\n",
       "      <th>충전기ID</th>\n",
       "      <th>지역</th>\n",
       "      <th>시군구</th>\n",
       "      <th>주소</th>\n",
       "      <th>충전기타입</th>\n",
       "      <th>충전시작일시</th>\n",
       "      <th>충전종료일시</th>\n",
       "      <th>충전시간</th>\n",
       "      <th>충전량</th>\n",
       "      <th>...</th>\n",
       "      <th>3</th>\n",
       "      <th>4</th>\n",
       "      <th>5</th>\n",
       "      <th>6</th>\n",
       "      <th>7</th>\n",
       "      <th>8</th>\n",
       "      <th>9</th>\n",
       "      <th>10</th>\n",
       "      <th>11</th>\n",
       "      <th>12</th>\n",
       "    </tr>\n",
       "  </thead>\n",
       "  <tbody>\n",
       "    <tr>\n",
       "      <th>0</th>\n",
       "      <td>진영휴게소(부산방향)</td>\n",
       "      <td>1</td>\n",
       "      <td>경상남도</td>\n",
       "      <td>김해시</td>\n",
       "      <td>경상남도 김해시 진영읍 하계로96번길 94-4  주유소 옆 주차장</td>\n",
       "      <td>DC차데모+AC3상+DC콤보</td>\n",
       "      <td>20200101000244</td>\n",
       "      <td>20200101004215</td>\n",
       "      <td>0 days 00:39:25</td>\n",
       "      <td>20.22</td>\n",
       "      <td>...</td>\n",
       "      <td>하계로96번길</td>\n",
       "      <td>94-4</td>\n",
       "      <td>주유소</td>\n",
       "      <td>옆</td>\n",
       "      <td>주차장</td>\n",
       "      <td>NaN</td>\n",
       "      <td>NaN</td>\n",
       "      <td>NaN</td>\n",
       "      <td>NaN</td>\n",
       "      <td>NaN</td>\n",
       "    </tr>\n",
       "    <tr>\n",
       "      <th>126</th>\n",
       "      <td>진영휴게소(부산방향)</td>\n",
       "      <td>1</td>\n",
       "      <td>경상남도</td>\n",
       "      <td>김해시</td>\n",
       "      <td>경상남도 김해시 진영읍 하계로96번길 94-4  주유소 옆 주차장</td>\n",
       "      <td>DC차데모+AC3상+DC콤보</td>\n",
       "      <td>20200101035452</td>\n",
       "      <td>20200101043311</td>\n",
       "      <td>0 days 00:38:14</td>\n",
       "      <td>20.43</td>\n",
       "      <td>...</td>\n",
       "      <td>하계로96번길</td>\n",
       "      <td>94-4</td>\n",
       "      <td>주유소</td>\n",
       "      <td>옆</td>\n",
       "      <td>주차장</td>\n",
       "      <td>NaN</td>\n",
       "      <td>NaN</td>\n",
       "      <td>NaN</td>\n",
       "      <td>NaN</td>\n",
       "      <td>NaN</td>\n",
       "    </tr>\n",
       "    <tr>\n",
       "      <th>172</th>\n",
       "      <td>진영휴게소(부산방향)</td>\n",
       "      <td>1</td>\n",
       "      <td>경상남도</td>\n",
       "      <td>김해시</td>\n",
       "      <td>경상남도 김해시 진영읍 하계로96번길 94-4  주유소 옆 주차장</td>\n",
       "      <td>DC차데모+AC3상+DC콤보</td>\n",
       "      <td>20200101044506</td>\n",
       "      <td>20200101045533</td>\n",
       "      <td>0 days 00:10:23</td>\n",
       "      <td>6.01</td>\n",
       "      <td>...</td>\n",
       "      <td>하계로96번길</td>\n",
       "      <td>94-4</td>\n",
       "      <td>주유소</td>\n",
       "      <td>옆</td>\n",
       "      <td>주차장</td>\n",
       "      <td>NaN</td>\n",
       "      <td>NaN</td>\n",
       "      <td>NaN</td>\n",
       "      <td>NaN</td>\n",
       "      <td>NaN</td>\n",
       "    </tr>\n",
       "    <tr>\n",
       "      <th>189</th>\n",
       "      <td>진영휴게소(부산방향)</td>\n",
       "      <td>1</td>\n",
       "      <td>경상남도</td>\n",
       "      <td>김해시</td>\n",
       "      <td>경상남도 김해시 진영읍 하계로96번길 94-4  주유소 옆 주차장</td>\n",
       "      <td>DC차데모+AC3상+DC콤보</td>\n",
       "      <td>20200101045932</td>\n",
       "      <td>20200101053939</td>\n",
       "      <td>0 days 00:40:00</td>\n",
       "      <td>23.40</td>\n",
       "      <td>...</td>\n",
       "      <td>하계로96번길</td>\n",
       "      <td>94-4</td>\n",
       "      <td>주유소</td>\n",
       "      <td>옆</td>\n",
       "      <td>주차장</td>\n",
       "      <td>NaN</td>\n",
       "      <td>NaN</td>\n",
       "      <td>NaN</td>\n",
       "      <td>NaN</td>\n",
       "      <td>NaN</td>\n",
       "    </tr>\n",
       "    <tr>\n",
       "      <th>226</th>\n",
       "      <td>진영휴게소(부산방향)</td>\n",
       "      <td>1</td>\n",
       "      <td>경상남도</td>\n",
       "      <td>김해시</td>\n",
       "      <td>경상남도 김해시 진영읍 하계로96번길 94-4  주유소 옆 주차장</td>\n",
       "      <td>DC차데모+AC3상+DC콤보</td>\n",
       "      <td>20200101054056</td>\n",
       "      <td>20200101060749</td>\n",
       "      <td>0 days 00:26:47</td>\n",
       "      <td>15.97</td>\n",
       "      <td>...</td>\n",
       "      <td>하계로96번길</td>\n",
       "      <td>94-4</td>\n",
       "      <td>주유소</td>\n",
       "      <td>옆</td>\n",
       "      <td>주차장</td>\n",
       "      <td>NaN</td>\n",
       "      <td>NaN</td>\n",
       "      <td>NaN</td>\n",
       "      <td>NaN</td>\n",
       "      <td>NaN</td>\n",
       "    </tr>\n",
       "  </tbody>\n",
       "</table>\n",
       "<p>5 rows × 40 columns</p>\n",
       "</div>"
      ],
      "text/plain": [
       "            충전소명  충전기ID    지역  시군구                                    주소  \\\n",
       "0    진영휴게소(부산방향)      1  경상남도  김해시  경상남도 김해시 진영읍 하계로96번길 94-4  주유소 옆 주차장   \n",
       "126  진영휴게소(부산방향)      1  경상남도  김해시  경상남도 김해시 진영읍 하계로96번길 94-4  주유소 옆 주차장   \n",
       "172  진영휴게소(부산방향)      1  경상남도  김해시  경상남도 김해시 진영읍 하계로96번길 94-4  주유소 옆 주차장   \n",
       "189  진영휴게소(부산방향)      1  경상남도  김해시  경상남도 김해시 진영읍 하계로96번길 94-4  주유소 옆 주차장   \n",
       "226  진영휴게소(부산방향)      1  경상남도  김해시  경상남도 김해시 진영읍 하계로96번길 94-4  주유소 옆 주차장   \n",
       "\n",
       "               충전기타입          충전시작일시          충전종료일시            충전시간    충전량  \\\n",
       "0    DC차데모+AC3상+DC콤보  20200101000244  20200101004215 0 days 00:39:25  20.22   \n",
       "126  DC차데모+AC3상+DC콤보  20200101035452  20200101043311 0 days 00:38:14  20.43   \n",
       "172  DC차데모+AC3상+DC콤보  20200101044506  20200101045533 0 days 00:10:23   6.01   \n",
       "189  DC차데모+AC3상+DC콤보  20200101045932  20200101053939 0 days 00:40:00  23.40   \n",
       "226  DC차데모+AC3상+DC콤보  20200101054056  20200101060749 0 days 00:26:47  15.97   \n",
       "\n",
       "     ...        3     4    5  6    7    8    9   10   11   12  \n",
       "0    ...  하계로96번길  94-4  주유소  옆  주차장  NaN  NaN  NaN  NaN  NaN  \n",
       "126  ...  하계로96번길  94-4  주유소  옆  주차장  NaN  NaN  NaN  NaN  NaN  \n",
       "172  ...  하계로96번길  94-4  주유소  옆  주차장  NaN  NaN  NaN  NaN  NaN  \n",
       "189  ...  하계로96번길  94-4  주유소  옆  주차장  NaN  NaN  NaN  NaN  NaN  \n",
       "226  ...  하계로96번길  94-4  주유소  옆  주차장  NaN  NaN  NaN  NaN  NaN  \n",
       "\n",
       "[5 rows x 40 columns]"
      ]
     },
     "execution_count": 18,
     "metadata": {},
     "output_type": "execute_result"
    }
   ],
   "source": [
    "new_adr_df2[new_adr_df2['2'] == '진영읍'].head()"
   ]
  },
  {
   "cell_type": "code",
   "execution_count": 19,
   "metadata": {},
   "outputs": [
    {
     "data": {
      "text/plain": [
       "(33856, 40)"
      ]
     },
     "execution_count": 19,
     "metadata": {},
     "output_type": "execute_result"
    }
   ],
   "source": [
    "new_adr_df2[new_adr_df2['2'] == '진영읍'].shape"
   ]
  },
  {
   "cell_type": "code",
   "execution_count": 24,
   "metadata": {},
   "outputs": [
    {
     "data": {
      "text/html": [
       "<div>\n",
       "<style scoped>\n",
       "    .dataframe tbody tr th:only-of-type {\n",
       "        vertical-align: middle;\n",
       "    }\n",
       "\n",
       "    .dataframe tbody tr th {\n",
       "        vertical-align: top;\n",
       "    }\n",
       "\n",
       "    .dataframe thead th {\n",
       "        text-align: right;\n",
       "    }\n",
       "</style>\n",
       "<table border=\"1\" class=\"dataframe\">\n",
       "  <thead>\n",
       "    <tr style=\"text-align: right;\">\n",
       "      <th></th>\n",
       "      <th>충전소명</th>\n",
       "      <th>충전기ID</th>\n",
       "      <th>지역</th>\n",
       "      <th>시군구</th>\n",
       "      <th>주소</th>\n",
       "      <th>충전기타입</th>\n",
       "      <th>충전시작일시</th>\n",
       "      <th>충전종료일시</th>\n",
       "      <th>충전시간</th>\n",
       "      <th>충전량</th>\n",
       "      <th>...</th>\n",
       "      <th>3</th>\n",
       "      <th>4</th>\n",
       "      <th>5</th>\n",
       "      <th>6</th>\n",
       "      <th>7</th>\n",
       "      <th>8</th>\n",
       "      <th>9</th>\n",
       "      <th>10</th>\n",
       "      <th>11</th>\n",
       "      <th>12</th>\n",
       "    </tr>\n",
       "  </thead>\n",
       "  <tbody>\n",
       "  </tbody>\n",
       "</table>\n",
       "<p>0 rows × 40 columns</p>\n",
       "</div>"
      ],
      "text/plain": [
       "Empty DataFrame\n",
       "Columns: [충전소명, 충전기ID, 지역, 시군구, 주소, 충전기타입, 충전시작일시, 충전종료일시, 충전시간, 충전량, 충전용량, 충전시작_년도, 충전시작_월, 충전시작_일, 충전시작_시, 충전시작_분, 충전시작_초, 충전시작일시(변환), 충전종료_년도, 충전종료_월, 충전종료_일, 충전종료_시, 충전종료_분, 충전종료_초, 충전종료일시(변환), 충전시간(계산), raw값과_계산값_차이, 0, 1, 2, 3, 4, 5, 6, 7, 8, 9, 10, 11, 12]\n",
       "Index: []\n",
       "\n",
       "[0 rows x 40 columns]"
      ]
     },
     "execution_count": 24,
     "metadata": {},
     "output_type": "execute_result"
    }
   ],
   "source": [
    "new_adr_df2[(new_adr_df2['충전시간'] != '0') & (new_adr_df2['충전량'] == 0)]"
   ]
  },
  {
   "cell_type": "code",
   "execution_count": 26,
   "metadata": {},
   "outputs": [
    {
     "data": {
      "text/plain": [
       "(3192, 40)"
      ]
     },
     "execution_count": 26,
     "metadata": {},
     "output_type": "execute_result"
    }
   ],
   "source": [
    "new_adr_df2[(new_adr_df2['충전시간'] == '0') & (new_adr_df2['충전량'] != 0)].shape"
   ]
  },
  {
   "cell_type": "code",
   "execution_count": 27,
   "metadata": {},
   "outputs": [
    {
     "data": {
      "text/html": [
       "<div>\n",
       "<style scoped>\n",
       "    .dataframe tbody tr th:only-of-type {\n",
       "        vertical-align: middle;\n",
       "    }\n",
       "\n",
       "    .dataframe tbody tr th {\n",
       "        vertical-align: top;\n",
       "    }\n",
       "\n",
       "    .dataframe thead th {\n",
       "        text-align: right;\n",
       "    }\n",
       "</style>\n",
       "<table border=\"1\" class=\"dataframe\">\n",
       "  <thead>\n",
       "    <tr style=\"text-align: right;\">\n",
       "      <th></th>\n",
       "      <th>충전소명</th>\n",
       "      <th>충전기ID</th>\n",
       "      <th>지역</th>\n",
       "      <th>시군구</th>\n",
       "      <th>주소</th>\n",
       "      <th>충전기타입</th>\n",
       "      <th>충전시작일시</th>\n",
       "      <th>충전종료일시</th>\n",
       "      <th>충전시간</th>\n",
       "      <th>충전량</th>\n",
       "      <th>...</th>\n",
       "      <th>3</th>\n",
       "      <th>4</th>\n",
       "      <th>5</th>\n",
       "      <th>6</th>\n",
       "      <th>7</th>\n",
       "      <th>8</th>\n",
       "      <th>9</th>\n",
       "      <th>10</th>\n",
       "      <th>11</th>\n",
       "      <th>12</th>\n",
       "    </tr>\n",
       "  </thead>\n",
       "  <tbody>\n",
       "    <tr>\n",
       "      <th>0</th>\n",
       "      <td>진영휴게소(부산방향)</td>\n",
       "      <td>1</td>\n",
       "      <td>경상남도</td>\n",
       "      <td>김해시</td>\n",
       "      <td>경상남도 김해시 진영읍 하계로96번길 94-4  주유소 옆 주차장</td>\n",
       "      <td>DC차데모+AC3상+DC콤보</td>\n",
       "      <td>20200101000244</td>\n",
       "      <td>20200101004215</td>\n",
       "      <td>0 days 00:39:25</td>\n",
       "      <td>20.22</td>\n",
       "      <td>...</td>\n",
       "      <td>하계로96번길</td>\n",
       "      <td>94-4</td>\n",
       "      <td>주유소</td>\n",
       "      <td>옆</td>\n",
       "      <td>주차장</td>\n",
       "      <td>NaN</td>\n",
       "      <td>NaN</td>\n",
       "      <td>NaN</td>\n",
       "      <td>NaN</td>\n",
       "      <td>NaN</td>\n",
       "    </tr>\n",
       "    <tr>\n",
       "      <th>1</th>\n",
       "      <td>민속자연사박물관</td>\n",
       "      <td>1</td>\n",
       "      <td>제주특별자치도</td>\n",
       "      <td>제주시</td>\n",
       "      <td>제주특별자치도 제주시 삼성로 40 민속자연사박물관</td>\n",
       "      <td>DC차데모+AC3상+DC콤보</td>\n",
       "      <td>20200101000745</td>\n",
       "      <td>20200101003703</td>\n",
       "      <td>0 days 00:29:13</td>\n",
       "      <td>16.04</td>\n",
       "      <td>...</td>\n",
       "      <td>40</td>\n",
       "      <td>민속자연사박물관</td>\n",
       "      <td>NaN</td>\n",
       "      <td>NaN</td>\n",
       "      <td>NaN</td>\n",
       "      <td>NaN</td>\n",
       "      <td>NaN</td>\n",
       "      <td>NaN</td>\n",
       "      <td>NaN</td>\n",
       "      <td>NaN</td>\n",
       "    </tr>\n",
       "    <tr>\n",
       "      <th>2</th>\n",
       "      <td>노형동주민센터</td>\n",
       "      <td>1</td>\n",
       "      <td>제주특별자치도</td>\n",
       "      <td>제주시</td>\n",
       "      <td>제주특별자치도 제주시 노형9길 9-4  주차장</td>\n",
       "      <td>DC차데모+AC3상+DC콤보</td>\n",
       "      <td>20200101000748</td>\n",
       "      <td>20200101001659</td>\n",
       "      <td>0 days 00:09:07</td>\n",
       "      <td>5.80</td>\n",
       "      <td>...</td>\n",
       "      <td>9-4</td>\n",
       "      <td>주차장</td>\n",
       "      <td>NaN</td>\n",
       "      <td>NaN</td>\n",
       "      <td>NaN</td>\n",
       "      <td>NaN</td>\n",
       "      <td>NaN</td>\n",
       "      <td>NaN</td>\n",
       "      <td>NaN</td>\n",
       "      <td>NaN</td>\n",
       "    </tr>\n",
       "    <tr>\n",
       "      <th>3</th>\n",
       "      <td>영일대1주차장</td>\n",
       "      <td>1</td>\n",
       "      <td>경상북도</td>\n",
       "      <td>포항시</td>\n",
       "      <td>경상북도 포항시 북구 해안로 82</td>\n",
       "      <td>DC차데모+AC3상+DC콤보</td>\n",
       "      <td>20200101000851</td>\n",
       "      <td>20200101004220</td>\n",
       "      <td>0 days 00:33:29</td>\n",
       "      <td>13.32</td>\n",
       "      <td>...</td>\n",
       "      <td>해안로</td>\n",
       "      <td>82</td>\n",
       "      <td>NaN</td>\n",
       "      <td>NaN</td>\n",
       "      <td>NaN</td>\n",
       "      <td>NaN</td>\n",
       "      <td>NaN</td>\n",
       "      <td>NaN</td>\n",
       "      <td>NaN</td>\n",
       "      <td>NaN</td>\n",
       "    </tr>\n",
       "    <tr>\n",
       "      <th>4</th>\n",
       "      <td>38선 휴게소</td>\n",
       "      <td>1</td>\n",
       "      <td>강원도</td>\n",
       "      <td>양양군</td>\n",
       "      <td>강원도 양양군 현북면 동해대로 1242</td>\n",
       "      <td>DC차데모+AC3상+DC콤보</td>\n",
       "      <td>20200101001042</td>\n",
       "      <td>20200101005123</td>\n",
       "      <td>0 days 00:40:41</td>\n",
       "      <td>29.23</td>\n",
       "      <td>...</td>\n",
       "      <td>동해대로</td>\n",
       "      <td>1242</td>\n",
       "      <td>NaN</td>\n",
       "      <td>NaN</td>\n",
       "      <td>NaN</td>\n",
       "      <td>NaN</td>\n",
       "      <td>NaN</td>\n",
       "      <td>NaN</td>\n",
       "      <td>NaN</td>\n",
       "      <td>NaN</td>\n",
       "    </tr>\n",
       "  </tbody>\n",
       "</table>\n",
       "<p>5 rows × 40 columns</p>\n",
       "</div>"
      ],
      "text/plain": [
       "          충전소명  충전기ID       지역  시군구                                    주소  \\\n",
       "0  진영휴게소(부산방향)      1     경상남도  김해시  경상남도 김해시 진영읍 하계로96번길 94-4  주유소 옆 주차장   \n",
       "1     민속자연사박물관      1  제주특별자치도  제주시           제주특별자치도 제주시 삼성로 40 민속자연사박물관   \n",
       "2      노형동주민센터      1  제주특별자치도  제주시             제주특별자치도 제주시 노형9길 9-4  주차장   \n",
       "3      영일대1주차장      1     경상북도  포항시                    경상북도 포항시 북구 해안로 82   \n",
       "4      38선 휴게소      1      강원도  양양군                 강원도 양양군 현북면 동해대로 1242   \n",
       "\n",
       "             충전기타입          충전시작일시          충전종료일시            충전시간    충전량  \\\n",
       "0  DC차데모+AC3상+DC콤보  20200101000244  20200101004215 0 days 00:39:25  20.22   \n",
       "1  DC차데모+AC3상+DC콤보  20200101000745  20200101003703 0 days 00:29:13  16.04   \n",
       "2  DC차데모+AC3상+DC콤보  20200101000748  20200101001659 0 days 00:09:07   5.80   \n",
       "3  DC차데모+AC3상+DC콤보  20200101000851  20200101004220 0 days 00:33:29  13.32   \n",
       "4  DC차데모+AC3상+DC콤보  20200101001042  20200101005123 0 days 00:40:41  29.23   \n",
       "\n",
       "   ...        3         4    5    6    7    8    9   10   11   12  \n",
       "0  ...  하계로96번길      94-4  주유소    옆  주차장  NaN  NaN  NaN  NaN  NaN  \n",
       "1  ...       40  민속자연사박물관  NaN  NaN  NaN  NaN  NaN  NaN  NaN  NaN  \n",
       "2  ...      9-4       주차장  NaN  NaN  NaN  NaN  NaN  NaN  NaN  NaN  \n",
       "3  ...      해안로        82  NaN  NaN  NaN  NaN  NaN  NaN  NaN  NaN  \n",
       "4  ...     동해대로      1242  NaN  NaN  NaN  NaN  NaN  NaN  NaN  NaN  \n",
       "\n",
       "[5 rows x 40 columns]"
      ]
     },
     "execution_count": 27,
     "metadata": {},
     "output_type": "execute_result"
    }
   ],
   "source": [
    "new_adr_df2.head()"
   ]
  },
  {
   "cell_type": "code",
   "execution_count": 28,
   "metadata": {},
   "outputs": [
    {
     "data": {
      "text/plain": [
       "array([['진영휴게소(부산방향)', 1, '경상남도', '김해시',\n",
       "        '경상남도 김해시 진영읍 하계로96번길 94-4  주유소 옆 주차장', 'DC차데모+AC3상+DC콤보',\n",
       "        20200101000244, 20200101004215, Timedelta('0 days 00:39:25'),\n",
       "        20.22, 50.0, 2020, 1, 1, 0, 2, 44, '2020-01-01 00:02:44', 2020,\n",
       "        1, 1, 0, 42, 15, '2020-01-01 00:42:15',\n",
       "        Timedelta('0 days 00:39:31'), '0 days 00:00:06', '경상남도', '김해시',\n",
       "        '진영읍', '하계로96번길', '94-4', '주유소', '옆', '주차장', nan, nan, nan, nan,\n",
       "        nan],\n",
       "       ['민속자연사박물관', 1, '제주특별자치도', '제주시', '제주특별자치도 제주시 삼성로 40 민속자연사박물관',\n",
       "        'DC차데모+AC3상+DC콤보', 20200101000745, 20200101003703,\n",
       "        Timedelta('0 days 00:29:13'), 16.04, 50.0, 2020, 1, 1, 0, 7, 45,\n",
       "        '2020-01-01 00:07:45', 2020, 1, 1, 0, 37, 3,\n",
       "        '2020-01-01 00:37:03', Timedelta('0 days 00:29:18'),\n",
       "        '0 days 00:00:05', '제주특별자치도', '제주시', '삼성로', '40', '민속자연사박물관',\n",
       "        nan, nan, nan, nan, nan, nan, nan, nan],\n",
       "       ['노형동주민센터', 1, '제주특별자치도', '제주시', '제주특별자치도 제주시 노형9길 9-4  주차장',\n",
       "        'DC차데모+AC3상+DC콤보', 20200101000748, 20200101001659,\n",
       "        Timedelta('0 days 00:09:07'), 5.8, 50.0, 2020, 1, 1, 0, 7, 48,\n",
       "        '2020-01-01 00:07:48', 2020, 1, 1, 0, 16, 59,\n",
       "        '2020-01-01 00:16:59', Timedelta('0 days 00:09:11'),\n",
       "        '0 days 00:00:04', '제주특별자치도', '제주시', '노형9길', '9-4', '주차장', nan,\n",
       "        nan, nan, nan, nan, nan, nan, nan],\n",
       "       ['영일대1주차장', 1, '경상북도', '포항시', '경상북도 포항시 북구 해안로 82',\n",
       "        'DC차데모+AC3상+DC콤보', 20200101000851, 20200101004220,\n",
       "        Timedelta('0 days 00:33:29'), 13.32, 50.0, 2020, 1, 1, 0, 8, 51,\n",
       "        '2020-01-01 00:08:51', 2020, 1, 1, 0, 42, 20,\n",
       "        '2020-01-01 00:42:20', Timedelta('0 days 00:33:29'),\n",
       "        '0 days 00:00:00', '경상북도', '포항시', '북구', '해안로', '82', nan, nan,\n",
       "        nan, nan, nan, nan, nan, nan],\n",
       "       ['38선 휴게소', 1, '강원도', '양양군', '강원도 양양군 현북면 동해대로 1242',\n",
       "        'DC차데모+AC3상+DC콤보', 20200101001042, 20200101005123,\n",
       "        Timedelta('0 days 00:40:41'), 29.23, 50.0, 2020, 1, 1, 0, 10, 42,\n",
       "        '2020-01-01 00:10:42', 2020, 1, 1, 0, 51, 23,\n",
       "        '2020-01-01 00:51:23', Timedelta('0 days 00:40:41'),\n",
       "        '0 days 00:00:00', '강원도', '양양군', '현북면', '동해대로', '1242', nan, nan,\n",
       "        nan, nan, nan, nan, nan, nan]], dtype=object)"
      ]
     },
     "execution_count": 28,
     "metadata": {},
     "output_type": "execute_result"
    }
   ],
   "source": [
    "new_adr_df2.to_numpy()[:5]"
   ]
  },
  {
   "cell_type": "code",
   "execution_count": 29,
   "metadata": {},
   "outputs": [
    {
     "data": {
      "text/html": [
       "<div>\n",
       "<style scoped>\n",
       "    .dataframe tbody tr th:only-of-type {\n",
       "        vertical-align: middle;\n",
       "    }\n",
       "\n",
       "    .dataframe tbody tr th {\n",
       "        vertical-align: top;\n",
       "    }\n",
       "\n",
       "    .dataframe thead th {\n",
       "        text-align: right;\n",
       "    }\n",
       "</style>\n",
       "<table border=\"1\" class=\"dataframe\">\n",
       "  <thead>\n",
       "    <tr style=\"text-align: right;\">\n",
       "      <th></th>\n",
       "      <th>충전소명</th>\n",
       "      <th>충전기ID</th>\n",
       "      <th>지역</th>\n",
       "      <th>시군구</th>\n",
       "      <th>주소</th>\n",
       "      <th>충전기타입</th>\n",
       "      <th>충전시작일시</th>\n",
       "      <th>충전종료일시</th>\n",
       "      <th>충전시간</th>\n",
       "      <th>충전량</th>\n",
       "      <th>...</th>\n",
       "      <th>3</th>\n",
       "      <th>4</th>\n",
       "      <th>5</th>\n",
       "      <th>6</th>\n",
       "      <th>7</th>\n",
       "      <th>8</th>\n",
       "      <th>9</th>\n",
       "      <th>10</th>\n",
       "      <th>11</th>\n",
       "      <th>12</th>\n",
       "    </tr>\n",
       "  </thead>\n",
       "  <tbody>\n",
       "    <tr>\n",
       "      <th>2</th>\n",
       "      <td>노형동주민센터</td>\n",
       "      <td>1</td>\n",
       "      <td>제주특별자치도</td>\n",
       "      <td>제주시</td>\n",
       "      <td>제주특별자치도 제주시 노형9길 9-4  주차장</td>\n",
       "      <td>DC차데모+AC3상+DC콤보</td>\n",
       "      <td>20200101000748</td>\n",
       "      <td>20200101001659</td>\n",
       "      <td>0 days 00:09:07</td>\n",
       "      <td>5.80</td>\n",
       "      <td>...</td>\n",
       "      <td>9-4</td>\n",
       "      <td>주차장</td>\n",
       "      <td>NaN</td>\n",
       "      <td>NaN</td>\n",
       "      <td>NaN</td>\n",
       "      <td>NaN</td>\n",
       "      <td>NaN</td>\n",
       "      <td>NaN</td>\n",
       "      <td>NaN</td>\n",
       "      <td>NaN</td>\n",
       "    </tr>\n",
       "    <tr>\n",
       "      <th>54</th>\n",
       "      <td>노형동주민센터</td>\n",
       "      <td>1</td>\n",
       "      <td>제주특별자치도</td>\n",
       "      <td>제주시</td>\n",
       "      <td>제주특별자치도 제주시 노형9길 9-4  주차장</td>\n",
       "      <td>DC차데모+AC3상+DC콤보</td>\n",
       "      <td>20200101020012</td>\n",
       "      <td>20200101021303</td>\n",
       "      <td>0 days 00:12:46</td>\n",
       "      <td>8.47</td>\n",
       "      <td>...</td>\n",
       "      <td>9-4</td>\n",
       "      <td>주차장</td>\n",
       "      <td>NaN</td>\n",
       "      <td>NaN</td>\n",
       "      <td>NaN</td>\n",
       "      <td>NaN</td>\n",
       "      <td>NaN</td>\n",
       "      <td>NaN</td>\n",
       "      <td>NaN</td>\n",
       "      <td>NaN</td>\n",
       "    </tr>\n",
       "    <tr>\n",
       "      <th>139</th>\n",
       "      <td>노형동주민센터</td>\n",
       "      <td>1</td>\n",
       "      <td>제주특별자치도</td>\n",
       "      <td>제주시</td>\n",
       "      <td>제주특별자치도 제주시 노형9길 9-4  주차장</td>\n",
       "      <td>DC차데모+AC3상+DC콤보</td>\n",
       "      <td>20200101040618</td>\n",
       "      <td>20200101043457</td>\n",
       "      <td>0 days 00:28:33</td>\n",
       "      <td>16.21</td>\n",
       "      <td>...</td>\n",
       "      <td>9-4</td>\n",
       "      <td>주차장</td>\n",
       "      <td>NaN</td>\n",
       "      <td>NaN</td>\n",
       "      <td>NaN</td>\n",
       "      <td>NaN</td>\n",
       "      <td>NaN</td>\n",
       "      <td>NaN</td>\n",
       "      <td>NaN</td>\n",
       "      <td>NaN</td>\n",
       "    </tr>\n",
       "    <tr>\n",
       "      <th>273</th>\n",
       "      <td>노형동주민센터</td>\n",
       "      <td>1</td>\n",
       "      <td>제주특별자치도</td>\n",
       "      <td>제주시</td>\n",
       "      <td>제주특별자치도 제주시 노형9길 9-4  주차장</td>\n",
       "      <td>DC차데모+AC3상+DC콤보</td>\n",
       "      <td>20200101063025</td>\n",
       "      <td>20200101070141</td>\n",
       "      <td>0 days 00:31:10</td>\n",
       "      <td>17.77</td>\n",
       "      <td>...</td>\n",
       "      <td>9-4</td>\n",
       "      <td>주차장</td>\n",
       "      <td>NaN</td>\n",
       "      <td>NaN</td>\n",
       "      <td>NaN</td>\n",
       "      <td>NaN</td>\n",
       "      <td>NaN</td>\n",
       "      <td>NaN</td>\n",
       "      <td>NaN</td>\n",
       "      <td>NaN</td>\n",
       "    </tr>\n",
       "    <tr>\n",
       "      <th>393</th>\n",
       "      <td>노형동주민센터</td>\n",
       "      <td>3</td>\n",
       "      <td>제주특별자치도</td>\n",
       "      <td>제주시</td>\n",
       "      <td>제주특별자치도 제주시 노형9길 9-4  주차장</td>\n",
       "      <td>DC차데모+AC3상+DC콤보</td>\n",
       "      <td>20200101081007</td>\n",
       "      <td>20200101084309</td>\n",
       "      <td>0 days 00:33:02</td>\n",
       "      <td>23.14</td>\n",
       "      <td>...</td>\n",
       "      <td>9-4</td>\n",
       "      <td>주차장</td>\n",
       "      <td>NaN</td>\n",
       "      <td>NaN</td>\n",
       "      <td>NaN</td>\n",
       "      <td>NaN</td>\n",
       "      <td>NaN</td>\n",
       "      <td>NaN</td>\n",
       "      <td>NaN</td>\n",
       "      <td>NaN</td>\n",
       "    </tr>\n",
       "    <tr>\n",
       "      <th>...</th>\n",
       "      <td>...</td>\n",
       "      <td>...</td>\n",
       "      <td>...</td>\n",
       "      <td>...</td>\n",
       "      <td>...</td>\n",
       "      <td>...</td>\n",
       "      <td>...</td>\n",
       "      <td>...</td>\n",
       "      <td>...</td>\n",
       "      <td>...</td>\n",
       "      <td>...</td>\n",
       "      <td>...</td>\n",
       "      <td>...</td>\n",
       "      <td>...</td>\n",
       "      <td>...</td>\n",
       "      <td>...</td>\n",
       "      <td>...</td>\n",
       "      <td>...</td>\n",
       "      <td>...</td>\n",
       "      <td>...</td>\n",
       "      <td>...</td>\n",
       "    </tr>\n",
       "    <tr>\n",
       "      <th>3777078</th>\n",
       "      <td>노형동주민센터</td>\n",
       "      <td>3</td>\n",
       "      <td>제주특별자치도</td>\n",
       "      <td>제주시</td>\n",
       "      <td>제주특별자치도 제주시 노형9길 9-4  주차장</td>\n",
       "      <td>DC차데모+AC3상+DC콤보</td>\n",
       "      <td>20211011152225</td>\n",
       "      <td>20211011153712</td>\n",
       "      <td>0 days 00:14:47</td>\n",
       "      <td>6.85</td>\n",
       "      <td>...</td>\n",
       "      <td>9-4</td>\n",
       "      <td>주차장</td>\n",
       "      <td>NaN</td>\n",
       "      <td>NaN</td>\n",
       "      <td>NaN</td>\n",
       "      <td>NaN</td>\n",
       "      <td>NaN</td>\n",
       "      <td>NaN</td>\n",
       "      <td>NaN</td>\n",
       "      <td>NaN</td>\n",
       "    </tr>\n",
       "    <tr>\n",
       "      <th>3779180</th>\n",
       "      <td>노형동주민센터</td>\n",
       "      <td>3</td>\n",
       "      <td>제주특별자치도</td>\n",
       "      <td>제주시</td>\n",
       "      <td>제주특별자치도 제주시 노형9길 9-4  주차장</td>\n",
       "      <td>DC차데모+AC3상+DC콤보</td>\n",
       "      <td>20211011185309</td>\n",
       "      <td>20211011190921</td>\n",
       "      <td>0 days 00:16:12</td>\n",
       "      <td>7.53</td>\n",
       "      <td>...</td>\n",
       "      <td>9-4</td>\n",
       "      <td>주차장</td>\n",
       "      <td>NaN</td>\n",
       "      <td>NaN</td>\n",
       "      <td>NaN</td>\n",
       "      <td>NaN</td>\n",
       "      <td>NaN</td>\n",
       "      <td>NaN</td>\n",
       "      <td>NaN</td>\n",
       "      <td>NaN</td>\n",
       "    </tr>\n",
       "    <tr>\n",
       "      <th>3781894</th>\n",
       "      <td>노형동주민센터</td>\n",
       "      <td>3</td>\n",
       "      <td>제주특별자치도</td>\n",
       "      <td>제주시</td>\n",
       "      <td>제주특별자치도 제주시 노형9길 9-4  주차장</td>\n",
       "      <td>DC차데모+AC3상+DC콤보</td>\n",
       "      <td>20211012085626</td>\n",
       "      <td>20211012092624</td>\n",
       "      <td>0 days 00:29:58</td>\n",
       "      <td>8.72</td>\n",
       "      <td>...</td>\n",
       "      <td>9-4</td>\n",
       "      <td>주차장</td>\n",
       "      <td>NaN</td>\n",
       "      <td>NaN</td>\n",
       "      <td>NaN</td>\n",
       "      <td>NaN</td>\n",
       "      <td>NaN</td>\n",
       "      <td>NaN</td>\n",
       "      <td>NaN</td>\n",
       "      <td>NaN</td>\n",
       "    </tr>\n",
       "    <tr>\n",
       "      <th>3782574</th>\n",
       "      <td>노형동주민센터</td>\n",
       "      <td>3</td>\n",
       "      <td>제주특별자치도</td>\n",
       "      <td>제주시</td>\n",
       "      <td>제주특별자치도 제주시 노형9길 9-4  주차장</td>\n",
       "      <td>DC차데모+AC3상+DC콤보</td>\n",
       "      <td>20211012102941</td>\n",
       "      <td>20211012104212</td>\n",
       "      <td>0 days 00:12:31</td>\n",
       "      <td>7.82</td>\n",
       "      <td>...</td>\n",
       "      <td>9-4</td>\n",
       "      <td>주차장</td>\n",
       "      <td>NaN</td>\n",
       "      <td>NaN</td>\n",
       "      <td>NaN</td>\n",
       "      <td>NaN</td>\n",
       "      <td>NaN</td>\n",
       "      <td>NaN</td>\n",
       "      <td>NaN</td>\n",
       "      <td>NaN</td>\n",
       "    </tr>\n",
       "    <tr>\n",
       "      <th>3784964</th>\n",
       "      <td>노형동주민센터</td>\n",
       "      <td>3</td>\n",
       "      <td>제주특별자치도</td>\n",
       "      <td>제주시</td>\n",
       "      <td>제주특별자치도 제주시 노형9길 9-4  주차장</td>\n",
       "      <td>DC차데모+AC3상+DC콤보</td>\n",
       "      <td>20211012142457</td>\n",
       "      <td>20211012150531</td>\n",
       "      <td>0 days 00:40:34</td>\n",
       "      <td>8.37</td>\n",
       "      <td>...</td>\n",
       "      <td>9-4</td>\n",
       "      <td>주차장</td>\n",
       "      <td>NaN</td>\n",
       "      <td>NaN</td>\n",
       "      <td>NaN</td>\n",
       "      <td>NaN</td>\n",
       "      <td>NaN</td>\n",
       "      <td>NaN</td>\n",
       "      <td>NaN</td>\n",
       "      <td>NaN</td>\n",
       "    </tr>\n",
       "  </tbody>\n",
       "</table>\n",
       "<p>11817 rows × 40 columns</p>\n",
       "</div>"
      ],
      "text/plain": [
       "            충전소명  충전기ID       지역  시군구                         주소  \\\n",
       "2        노형동주민센터      1  제주특별자치도  제주시  제주특별자치도 제주시 노형9길 9-4  주차장   \n",
       "54       노형동주민센터      1  제주특별자치도  제주시  제주특별자치도 제주시 노형9길 9-4  주차장   \n",
       "139      노형동주민센터      1  제주특별자치도  제주시  제주특별자치도 제주시 노형9길 9-4  주차장   \n",
       "273      노형동주민센터      1  제주특별자치도  제주시  제주특별자치도 제주시 노형9길 9-4  주차장   \n",
       "393      노형동주민센터      3  제주특별자치도  제주시  제주특별자치도 제주시 노형9길 9-4  주차장   \n",
       "...          ...    ...      ...  ...                        ...   \n",
       "3777078  노형동주민센터      3  제주특별자치도  제주시  제주특별자치도 제주시 노형9길 9-4  주차장   \n",
       "3779180  노형동주민센터      3  제주특별자치도  제주시  제주특별자치도 제주시 노형9길 9-4  주차장   \n",
       "3781894  노형동주민센터      3  제주특별자치도  제주시  제주특별자치도 제주시 노형9길 9-4  주차장   \n",
       "3782574  노형동주민센터      3  제주특별자치도  제주시  제주특별자치도 제주시 노형9길 9-4  주차장   \n",
       "3784964  노형동주민센터      3  제주특별자치도  제주시  제주특별자치도 제주시 노형9길 9-4  주차장   \n",
       "\n",
       "                   충전기타입          충전시작일시          충전종료일시            충전시간  \\\n",
       "2        DC차데모+AC3상+DC콤보  20200101000748  20200101001659 0 days 00:09:07   \n",
       "54       DC차데모+AC3상+DC콤보  20200101020012  20200101021303 0 days 00:12:46   \n",
       "139      DC차데모+AC3상+DC콤보  20200101040618  20200101043457 0 days 00:28:33   \n",
       "273      DC차데모+AC3상+DC콤보  20200101063025  20200101070141 0 days 00:31:10   \n",
       "393      DC차데모+AC3상+DC콤보  20200101081007  20200101084309 0 days 00:33:02   \n",
       "...                  ...             ...             ...             ...   \n",
       "3777078  DC차데모+AC3상+DC콤보  20211011152225  20211011153712 0 days 00:14:47   \n",
       "3779180  DC차데모+AC3상+DC콤보  20211011185309  20211011190921 0 days 00:16:12   \n",
       "3781894  DC차데모+AC3상+DC콤보  20211012085626  20211012092624 0 days 00:29:58   \n",
       "3782574  DC차데모+AC3상+DC콤보  20211012102941  20211012104212 0 days 00:12:31   \n",
       "3784964  DC차데모+AC3상+DC콤보  20211012142457  20211012150531 0 days 00:40:34   \n",
       "\n",
       "           충전량  ...    3    4    5    6    7    8    9   10   11   12  \n",
       "2         5.80  ...  9-4  주차장  NaN  NaN  NaN  NaN  NaN  NaN  NaN  NaN  \n",
       "54        8.47  ...  9-4  주차장  NaN  NaN  NaN  NaN  NaN  NaN  NaN  NaN  \n",
       "139      16.21  ...  9-4  주차장  NaN  NaN  NaN  NaN  NaN  NaN  NaN  NaN  \n",
       "273      17.77  ...  9-4  주차장  NaN  NaN  NaN  NaN  NaN  NaN  NaN  NaN  \n",
       "393      23.14  ...  9-4  주차장  NaN  NaN  NaN  NaN  NaN  NaN  NaN  NaN  \n",
       "...        ...  ...  ...  ...  ...  ...  ...  ...  ...  ...  ...  ...  \n",
       "3777078   6.85  ...  9-4  주차장  NaN  NaN  NaN  NaN  NaN  NaN  NaN  NaN  \n",
       "3779180   7.53  ...  9-4  주차장  NaN  NaN  NaN  NaN  NaN  NaN  NaN  NaN  \n",
       "3781894   8.72  ...  9-4  주차장  NaN  NaN  NaN  NaN  NaN  NaN  NaN  NaN  \n",
       "3782574   7.82  ...  9-4  주차장  NaN  NaN  NaN  NaN  NaN  NaN  NaN  NaN  \n",
       "3784964   8.37  ...  9-4  주차장  NaN  NaN  NaN  NaN  NaN  NaN  NaN  NaN  \n",
       "\n",
       "[11817 rows x 40 columns]"
      ]
     },
     "execution_count": 29,
     "metadata": {},
     "output_type": "execute_result"
    }
   ],
   "source": [
    "new_adr_df2[new_adr_df2['2'] == '노형9길']"
   ]
  },
  {
   "cell_type": "code",
   "execution_count": 36,
   "metadata": {},
   "outputs": [
    {
     "data": {
      "text/plain": [
       "array(['제주특별자치도'], dtype=object)"
      ]
     },
     "execution_count": 36,
     "metadata": {},
     "output_type": "execute_result"
    }
   ],
   "source": [
    "new_adr_df2[new_adr_df2['2'] == '노형9길']['0'].unique()"
   ]
  },
  {
   "cell_type": "code",
   "execution_count": null,
   "metadata": {},
   "outputs": [],
   "source": []
  },
  {
   "cell_type": "code",
   "execution_count": null,
   "metadata": {},
   "outputs": [],
   "source": []
  },
  {
   "cell_type": "code",
   "execution_count": null,
   "metadata": {},
   "outputs": [],
   "source": []
  },
  {
   "cell_type": "code",
   "execution_count": 32,
   "metadata": {},
   "outputs": [
    {
     "data": {
      "text/plain": [
       "array(['경기도', '경상북도'], dtype=object)"
      ]
     },
     "execution_count": 32,
     "metadata": {},
     "output_type": "execute_result"
    }
   ],
   "source": [
    "new_adr_df2[new_adr_df2['12'].notnull() == True]['0'].unique()"
   ]
  },
  {
   "cell_type": "code",
   "execution_count": 33,
   "metadata": {},
   "outputs": [
    {
     "data": {
      "text/plain": [
       "array(['이천시', '경산시'], dtype=object)"
      ]
     },
     "execution_count": 33,
     "metadata": {},
     "output_type": "execute_result"
    }
   ],
   "source": [
    "new_adr_df2[new_adr_df2['12'].notnull() == True]['1'].unique()"
   ]
  },
  {
   "cell_type": "code",
   "execution_count": 34,
   "metadata": {},
   "outputs": [
    {
     "data": {
      "text/plain": [
       "array(['덕이로154번길', '경부고속도로'], dtype=object)"
      ]
     },
     "execution_count": 34,
     "metadata": {},
     "output_type": "execute_result"
    }
   ],
   "source": [
    "new_adr_df2[new_adr_df2['12'].notnull() == True]['3'].unique()"
   ]
  },
  {
   "cell_type": "code",
   "execution_count": 35,
   "metadata": {},
   "outputs": [
    {
     "data": {
      "text/plain": [
       "array(['287-76', '105'], dtype=object)"
      ]
     },
     "execution_count": 35,
     "metadata": {},
     "output_type": "execute_result"
    }
   ],
   "source": [
    "new_adr_df2[new_adr_df2['12'].notnull() == True]['4'].unique()"
   ]
  },
  {
   "cell_type": "code",
   "execution_count": 31,
   "metadata": {},
   "outputs": [
    {
     "data": {
      "text/plain": [
       "array([nan, '앞)', '주차장'], dtype=object)"
      ]
     },
     "execution_count": 31,
     "metadata": {},
     "output_type": "execute_result"
    }
   ],
   "source": [
    "new_adr_df2['12'].unique()"
   ]
  },
  {
   "cell_type": "code",
   "execution_count": null,
   "metadata": {},
   "outputs": [],
   "source": []
  },
  {
   "cell_type": "code",
   "execution_count": null,
   "metadata": {},
   "outputs": [],
   "source": []
  },
  {
   "cell_type": "code",
   "execution_count": null,
   "metadata": {},
   "outputs": [],
   "source": []
  },
  {
   "cell_type": "code",
   "execution_count": null,
   "metadata": {},
   "outputs": [],
   "source": []
  },
  {
   "cell_type": "code",
   "execution_count": null,
   "metadata": {},
   "outputs": [],
   "source": []
  },
  {
   "cell_type": "code",
   "execution_count": null,
   "metadata": {},
   "outputs": [],
   "source": []
  },
  {
   "cell_type": "markdown",
   "metadata": {},
   "source": [
    "### 교체 충전기 수 예측\n",
    "- 충전기 별 충전량/충전시간 데이터 활용\n",
    "- 같은 지역내에 동일한 \"충전기ID\" 존재"
   ]
  },
  {
   "cell_type": "code",
   "execution_count": 5,
   "metadata": {},
   "outputs": [
    {
     "data": {
      "text/plain": [
       "Index(['충전소명', '충전기ID', '지역', '시군구', '주소', '충전기타입', '충전시작일시', '충전종료일시', '충전시간',\n",
       "       '충전량', '충전용량', '충전시작_년도', '충전시작_월', '충전시작_일', '충전시작_시', '충전시작_분',\n",
       "       '충전시작_초', '충전시작일시(변환)', '충전종료_년도', '충전종료_월', '충전종료_일', '충전종료_시',\n",
       "       '충전종료_분', '충전종료_초', '충전종료일시(변환)', '충전시간(계산)', 'raw값과_계산값_차이', '0', '1',\n",
       "       '2', '3', '4', '5', '6', '7', '8', '9', '10', '11', '12'],\n",
       "      dtype='object')"
      ]
     },
     "execution_count": 5,
     "metadata": {},
     "output_type": "execute_result"
    }
   ],
   "source": [
    "new_adr_df2.columns"
   ]
  },
  {
   "cell_type": "code",
   "execution_count": 6,
   "metadata": {},
   "outputs": [
    {
     "data": {
      "text/html": [
       "<div>\n",
       "<style scoped>\n",
       "    .dataframe tbody tr th:only-of-type {\n",
       "        vertical-align: middle;\n",
       "    }\n",
       "\n",
       "    .dataframe tbody tr th {\n",
       "        vertical-align: top;\n",
       "    }\n",
       "\n",
       "    .dataframe thead th {\n",
       "        text-align: right;\n",
       "    }\n",
       "</style>\n",
       "<table border=\"1\" class=\"dataframe\">\n",
       "  <thead>\n",
       "    <tr style=\"text-align: right;\">\n",
       "      <th></th>\n",
       "      <th>충전기ID</th>\n",
       "      <th>지역</th>\n",
       "      <th>시군구</th>\n",
       "      <th>충전기타입</th>\n",
       "      <th>충전시간</th>\n",
       "      <th>충전량</th>\n",
       "    </tr>\n",
       "  </thead>\n",
       "  <tbody>\n",
       "    <tr>\n",
       "      <th>0</th>\n",
       "      <td>1</td>\n",
       "      <td>경상남도</td>\n",
       "      <td>김해시</td>\n",
       "      <td>DC차데모+AC3상+DC콤보</td>\n",
       "      <td>0 days 00:39:25</td>\n",
       "      <td>20.22000</td>\n",
       "    </tr>\n",
       "    <tr>\n",
       "      <th>1</th>\n",
       "      <td>1</td>\n",
       "      <td>제주특별자치도</td>\n",
       "      <td>제주시</td>\n",
       "      <td>DC차데모+AC3상+DC콤보</td>\n",
       "      <td>0 days 00:29:13</td>\n",
       "      <td>16.04000</td>\n",
       "    </tr>\n",
       "    <tr>\n",
       "      <th>2</th>\n",
       "      <td>1</td>\n",
       "      <td>제주특별자치도</td>\n",
       "      <td>제주시</td>\n",
       "      <td>DC차데모+AC3상+DC콤보</td>\n",
       "      <td>0 days 00:09:07</td>\n",
       "      <td>5.80000</td>\n",
       "    </tr>\n",
       "    <tr>\n",
       "      <th>3</th>\n",
       "      <td>1</td>\n",
       "      <td>경상북도</td>\n",
       "      <td>포항시</td>\n",
       "      <td>DC차데모+AC3상+DC콤보</td>\n",
       "      <td>0 days 00:33:29</td>\n",
       "      <td>13.32000</td>\n",
       "    </tr>\n",
       "    <tr>\n",
       "      <th>4</th>\n",
       "      <td>1</td>\n",
       "      <td>강원도</td>\n",
       "      <td>양양군</td>\n",
       "      <td>DC차데모+AC3상+DC콤보</td>\n",
       "      <td>0 days 00:40:41</td>\n",
       "      <td>29.23000</td>\n",
       "    </tr>\n",
       "  </tbody>\n",
       "</table>\n",
       "</div>"
      ],
      "text/plain": [
       "   충전기ID       지역  시군구            충전기타입            충전시간      충전량\n",
       "0      1     경상남도  김해시  DC차데모+AC3상+DC콤보 0 days 00:39:25 20.22000\n",
       "1      1  제주특별자치도  제주시  DC차데모+AC3상+DC콤보 0 days 00:29:13 16.04000\n",
       "2      1  제주특별자치도  제주시  DC차데모+AC3상+DC콤보 0 days 00:09:07  5.80000\n",
       "3      1     경상북도  포항시  DC차데모+AC3상+DC콤보 0 days 00:33:29 13.32000\n",
       "4      1      강원도  양양군  DC차데모+AC3상+DC콤보 0 days 00:40:41 29.23000"
      ]
     },
     "execution_count": 6,
     "metadata": {},
     "output_type": "execute_result"
    }
   ],
   "source": [
    "temp = new_adr_df2[['충전기ID', '지역', '시군구', '충전기타입', '충전시간', '충전량']]\n",
    "temp.head()"
   ]
  },
  {
   "cell_type": "code",
   "execution_count": 7,
   "metadata": {},
   "outputs": [
    {
     "data": {
      "text/plain": [
       "array(['경상남도', '제주특별자치도', '경상북도', '강원도', '대전광역시', '충청남도', '충청북도', '부산광역시',\n",
       "       '경기도', '전라남도', '대구광역시', '광주광역시', '서울특별시', '울산광역시', '전라북도', '인천광역시',\n",
       "       '세종특별자치시'], dtype=object)"
      ]
     },
     "execution_count": 7,
     "metadata": {},
     "output_type": "execute_result"
    }
   ],
   "source": [
    "temp['지역'].unique()"
   ]
  },
  {
   "cell_type": "code",
   "execution_count": 8,
   "metadata": {},
   "outputs": [
    {
     "data": {
      "text/plain": [
       "array([ 1,  4,  2,  5, 52, 12,  3, 11,  6, 14, 13, 10, 51,  8, 15, 18, 17,\n",
       "       42, 41, 44, 43, 22, 21, 24, 23, 16,  7, 91, 80, 89, 83, 88, 84, 86,\n",
       "       85, 82, 87, 45, 46, 47, 81, 25, 26, 92, 28, 27, 93, 94, 97, 95, 98,\n",
       "       96], dtype=int8)"
      ]
     },
     "execution_count": 8,
     "metadata": {},
     "output_type": "execute_result"
    }
   ],
   "source": [
    "temp['충전기ID'].unique()"
   ]
  },
  {
   "cell_type": "code",
   "execution_count": 9,
   "metadata": {},
   "outputs": [
    {
     "data": {
      "text/plain": [
       "array([ 1,  2, 11, 52,  6, 12,  3,  4,  5, 13, 14, 22, 21,  8,  7, 45, 41,\n",
       "       43, 44, 42, 24, 25, 23, 26], dtype=int8)"
      ]
     },
     "execution_count": 9,
     "metadata": {},
     "output_type": "execute_result"
    }
   ],
   "source": [
    "temp[temp['지역'] == '서울특별시']['충전기ID'].unique()"
   ]
  },
  {
   "cell_type": "code",
   "execution_count": 10,
   "metadata": {},
   "outputs": [
    {
     "data": {
      "text/plain": [
       "1     404482\n",
       "2      52729\n",
       "22     42123\n",
       "21     37271\n",
       "12     28079\n",
       "11     26816\n",
       "41     11340\n",
       "45      8639\n",
       "44      8049\n",
       "3       7917\n",
       "4       7459\n",
       "42      6339\n",
       "43      6216\n",
       "23      5414\n",
       "52      5070\n",
       "24      5002\n",
       "5       3903\n",
       "26      3707\n",
       "6       3336\n",
       "8       3249\n",
       "25      2697\n",
       "7       2221\n",
       "13       961\n",
       "14       214\n",
       "Name: 충전기ID, dtype: int64"
      ]
     },
     "execution_count": 10,
     "metadata": {},
     "output_type": "execute_result"
    }
   ],
   "source": [
    "temp[temp['지역'] == '서울특별시']['충전기ID'].value_counts()"
   ]
  },
  {
   "cell_type": "code",
   "execution_count": 11,
   "metadata": {},
   "outputs": [
    {
     "data": {
      "text/plain": [
       "array([ 1,  5, 12, 11,  2, 52, 51,  3, 14, 13, 21, 22,  8,  4,  7,  6, 23,\n",
       "       24, 43, 41, 42, 44, 80, 89, 83, 88, 84, 86, 85, 82, 87, 81, 45, 46,\n",
       "       91, 26, 25, 28, 27, 92, 94, 97, 95, 93, 98, 96], dtype=int8)"
      ]
     },
     "execution_count": 11,
     "metadata": {},
     "output_type": "execute_result"
    }
   ],
   "source": [
    "temp[temp['지역'] == '경기도']['충전기ID'].unique()"
   ]
  },
  {
   "cell_type": "code",
   "execution_count": 12,
   "metadata": {},
   "outputs": [
    {
     "data": {
      "text/html": [
       "<div>\n",
       "<style scoped>\n",
       "    .dataframe tbody tr th:only-of-type {\n",
       "        vertical-align: middle;\n",
       "    }\n",
       "\n",
       "    .dataframe tbody tr th {\n",
       "        vertical-align: top;\n",
       "    }\n",
       "\n",
       "    .dataframe thead th {\n",
       "        text-align: right;\n",
       "    }\n",
       "</style>\n",
       "<table border=\"1\" class=\"dataframe\">\n",
       "  <thead>\n",
       "    <tr style=\"text-align: right;\">\n",
       "      <th></th>\n",
       "      <th>충전기ID</th>\n",
       "      <th>지역</th>\n",
       "      <th>시군구</th>\n",
       "      <th>충전기타입</th>\n",
       "      <th>충전시간</th>\n",
       "      <th>충전량</th>\n",
       "    </tr>\n",
       "  </thead>\n",
       "  <tbody>\n",
       "    <tr>\n",
       "      <th>55</th>\n",
       "      <td>1</td>\n",
       "      <td>서울특별시</td>\n",
       "      <td>양천구</td>\n",
       "      <td>DC차데모+AC3상+DC콤보</td>\n",
       "      <td>0 days 00:35:51</td>\n",
       "      <td>17.36000</td>\n",
       "    </tr>\n",
       "    <tr>\n",
       "      <th>72</th>\n",
       "      <td>1</td>\n",
       "      <td>서울특별시</td>\n",
       "      <td>중구</td>\n",
       "      <td>DC차데모+AC3상+DC콤보</td>\n",
       "      <td>0 days 00:11:38</td>\n",
       "      <td>6.16000</td>\n",
       "    </tr>\n",
       "    <tr>\n",
       "      <th>74</th>\n",
       "      <td>1</td>\n",
       "      <td>서울특별시</td>\n",
       "      <td>종로구</td>\n",
       "      <td>DC차데모+AC3상+DC콤보</td>\n",
       "      <td>0 days 00:25:34</td>\n",
       "      <td>15.18000</td>\n",
       "    </tr>\n",
       "    <tr>\n",
       "      <th>121</th>\n",
       "      <td>1</td>\n",
       "      <td>서울특별시</td>\n",
       "      <td>관악구</td>\n",
       "      <td>DC차데모+AC3상+DC콤보</td>\n",
       "      <td>0 days 00:14:38</td>\n",
       "      <td>6.63000</td>\n",
       "    </tr>\n",
       "    <tr>\n",
       "      <th>150</th>\n",
       "      <td>1</td>\n",
       "      <td>서울특별시</td>\n",
       "      <td>관악구</td>\n",
       "      <td>DC차데모+AC3상+DC콤보</td>\n",
       "      <td>0 days 00:05:47</td>\n",
       "      <td>1.88000</td>\n",
       "    </tr>\n",
       "  </tbody>\n",
       "</table>\n",
       "</div>"
      ],
      "text/plain": [
       "     충전기ID     지역  시군구            충전기타입            충전시간      충전량\n",
       "55       1  서울특별시  양천구  DC차데모+AC3상+DC콤보 0 days 00:35:51 17.36000\n",
       "72       1  서울특별시   중구  DC차데모+AC3상+DC콤보 0 days 00:11:38  6.16000\n",
       "74       1  서울특별시  종로구  DC차데모+AC3상+DC콤보 0 days 00:25:34 15.18000\n",
       "121      1  서울특별시  관악구  DC차데모+AC3상+DC콤보 0 days 00:14:38  6.63000\n",
       "150      1  서울특별시  관악구  DC차데모+AC3상+DC콤보 0 days 00:05:47  1.88000"
      ]
     },
     "execution_count": 12,
     "metadata": {},
     "output_type": "execute_result"
    }
   ],
   "source": [
    "seoul = temp[temp['지역'] == '서울특별시']\n",
    "seoul.head()"
   ]
  },
  {
   "cell_type": "code",
   "execution_count": 13,
   "metadata": {},
   "outputs": [
    {
     "data": {
      "text/plain": [
       "array(['양천구', '중구', '종로구', '관악구', '동작구', '영등포구', '서대문구', '용산구', '강남구',\n",
       "       '중랑구', '서초구', '강동구', '강북구', '동대문구', '강서구', '마포구', '도봉구', '은평구',\n",
       "       '송파구', '금천구', '구로구', '노원구', '성북구', '성동구', '광진구'], dtype=object)"
      ]
     },
     "execution_count": 13,
     "metadata": {},
     "output_type": "execute_result"
    }
   ],
   "source": [
    "seoul['시군구'].unique()"
   ]
  },
  {
   "cell_type": "code",
   "execution_count": 14,
   "metadata": {},
   "outputs": [
    {
     "data": {
      "text/plain": [
       "array([ 1,  2, 52,  6,  4,  5,  3], dtype=int8)"
      ]
     },
     "execution_count": 14,
     "metadata": {},
     "output_type": "execute_result"
    }
   ],
   "source": [
    "seoul[seoul['시군구'] == '영등포구']['충전기ID'].unique()"
   ]
  },
  {
   "cell_type": "code",
   "execution_count": 15,
   "metadata": {},
   "outputs": [
    {
     "data": {
      "text/plain": [
       "1     48225\n",
       "2     11116\n",
       "52     5070\n",
       "5      1853\n",
       "4      1849\n",
       "6      1391\n",
       "3      1379\n",
       "Name: 충전기ID, dtype: int64"
      ]
     },
     "execution_count": 15,
     "metadata": {},
     "output_type": "execute_result"
    }
   ],
   "source": [
    "seoul[seoul['시군구'] == '영등포구']['충전기ID'].value_counts()"
   ]
  },
  {
   "cell_type": "code",
   "execution_count": 16,
   "metadata": {},
   "outputs": [
    {
     "data": {
      "text/plain": [
       "array([ 1,  2, 44, 41, 43, 42, 45, 21, 23, 25, 26, 24, 22], dtype=int8)"
      ]
     },
     "execution_count": 16,
     "metadata": {},
     "output_type": "execute_result"
    }
   ],
   "source": [
    "seoul[seoul['시군구'] == '송파구']['충전기ID'].unique()"
   ]
  },
  {
   "cell_type": "markdown",
   "metadata": {},
   "source": [
    "##### 특정 지역 충전기 확인\n",
    "- '강원도 강릉시 성산면 영동고속도로 231 (보광리)'"
   ]
  },
  {
   "cell_type": "code",
   "execution_count": 17,
   "metadata": {},
   "outputs": [
    {
     "data": {
      "text/plain": [
       "236          서울특별시 영등포구 의사당대로 1 국회도서관 앞\n",
       "780     서울특별시 영등포구 영중로3길 7  지하1층 여성전용구역\n",
       "805     서울특별시 영등포구 영중로 125 지상주차장(외부 1F)\n",
       "1243    서울특별시 영등포구 영중로 125 지상주차장(외부 1F)\n",
       "1414      서울특별시 영등포구 양산로 111  왼쪽 끝편 주차장\n",
       "Name: 주소, dtype: object"
      ]
     },
     "execution_count": 17,
     "metadata": {},
     "output_type": "execute_result"
    }
   ],
   "source": [
    "new_adr_df2[(new_adr_df2['시군구'] == '영등포구') & (new_adr_df2['충전기ID'] == 1)]['주소'].head()"
   ]
  },
  {
   "cell_type": "code",
   "execution_count": 18,
   "metadata": {},
   "outputs": [
    {
     "data": {
      "text/plain": [
       "85     강원도 강릉시 성산면 영동고속도로 231 (보광리)\n",
       "133    강원도 강릉시 성산면 영동고속도로 231 (보광리)\n",
       "174    강원도 강릉시 성산면 영동고속도로 231 (보광리)\n",
       "215    강원도 강릉시 성산면 영동고속도로 231 (보광리)\n",
       "254    강원도 강릉시 성산면 영동고속도로 231 (보광리)\n",
       "Name: 주소, dtype: object"
      ]
     },
     "execution_count": 18,
     "metadata": {},
     "output_type": "execute_result"
    }
   ],
   "source": [
    "new_adr_df2[(new_adr_df2['시군구'] == '강릉시') & (new_adr_df2['충전기ID'] == 1)]['주소'].head()"
   ]
  },
  {
   "cell_type": "code",
   "execution_count": 19,
   "metadata": {},
   "outputs": [
    {
     "data": {
      "text/html": [
       "<div>\n",
       "<style scoped>\n",
       "    .dataframe tbody tr th:only-of-type {\n",
       "        vertical-align: middle;\n",
       "    }\n",
       "\n",
       "    .dataframe tbody tr th {\n",
       "        vertical-align: top;\n",
       "    }\n",
       "\n",
       "    .dataframe thead tr th {\n",
       "        text-align: left;\n",
       "    }\n",
       "\n",
       "    .dataframe thead tr:last-of-type th {\n",
       "        text-align: right;\n",
       "    }\n",
       "</style>\n",
       "<table border=\"1\" class=\"dataframe\">\n",
       "  <thead>\n",
       "    <tr>\n",
       "      <th></th>\n",
       "      <th colspan=\"2\" halign=\"left\">충전시간</th>\n",
       "      <th colspan=\"2\" halign=\"left\">충전량</th>\n",
       "    </tr>\n",
       "    <tr>\n",
       "      <th></th>\n",
       "      <th>sum</th>\n",
       "      <th>mean</th>\n",
       "      <th>sum</th>\n",
       "      <th>mean</th>\n",
       "    </tr>\n",
       "    <tr>\n",
       "      <th>충전기ID</th>\n",
       "      <th></th>\n",
       "      <th></th>\n",
       "      <th></th>\n",
       "      <th></th>\n",
       "    </tr>\n",
       "  </thead>\n",
       "  <tbody>\n",
       "    <tr>\n",
       "      <th>1</th>\n",
       "      <td>106 days 01:21:20</td>\n",
       "      <td>0 days 00:27:53.047288661</td>\n",
       "      <td>95304.53000</td>\n",
       "      <td>17.40086</td>\n",
       "    </tr>\n",
       "    <tr>\n",
       "      <th>2</th>\n",
       "      <td>66 days 13:39:36</td>\n",
       "      <td>0 days 00:26:23.583700440</td>\n",
       "      <td>62449.30000</td>\n",
       "      <td>17.19419</td>\n",
       "    </tr>\n",
       "    <tr>\n",
       "      <th>3</th>\n",
       "      <td>89 days 05:15:44</td>\n",
       "      <td>0 days 00:26:49.299373695</td>\n",
       "      <td>83053.01000</td>\n",
       "      <td>17.33883</td>\n",
       "    </tr>\n",
       "  </tbody>\n",
       "</table>\n",
       "</div>"
      ],
      "text/plain": [
       "                   충전시간                                   충전량         \n",
       "                    sum                      mean         sum     mean\n",
       "충전기ID                                                                 \n",
       "1     106 days 01:21:20 0 days 00:27:53.047288661 95304.53000 17.40086\n",
       "2      66 days 13:39:36 0 days 00:26:23.583700440 62449.30000 17.19419\n",
       "3      89 days 05:15:44 0 days 00:26:49.299373695 83053.01000 17.33883"
      ]
     },
     "execution_count": 19,
     "metadata": {},
     "output_type": "execute_result"
    }
   ],
   "source": [
    "new_adr_df2[(new_adr_df2['시군구'] == '강릉시') & (new_adr_df2['주소'] == '강원도 강릉시 성산면 영동고속도로 231 (보광리)')].groupby(['충전기ID'])[['충전시간', '충전량']].agg(['sum', 'mean'])"
   ]
  },
  {
   "cell_type": "code",
   "execution_count": 20,
   "metadata": {},
   "outputs": [
    {
     "data": {
      "text/html": [
       "<div>\n",
       "<style scoped>\n",
       "    .dataframe tbody tr th:only-of-type {\n",
       "        vertical-align: middle;\n",
       "    }\n",
       "\n",
       "    .dataframe tbody tr th {\n",
       "        vertical-align: top;\n",
       "    }\n",
       "\n",
       "    .dataframe thead th {\n",
       "        text-align: right;\n",
       "    }\n",
       "</style>\n",
       "<table border=\"1\" class=\"dataframe\">\n",
       "  <thead>\n",
       "    <tr style=\"text-align: right;\">\n",
       "      <th></th>\n",
       "      <th>충전시간</th>\n",
       "      <th>충전량</th>\n",
       "    </tr>\n",
       "  </thead>\n",
       "  <tbody>\n",
       "    <tr>\n",
       "      <th>sum</th>\n",
       "      <td>261 days 20:16:40</td>\n",
       "      <td>240806.84000</td>\n",
       "    </tr>\n",
       "    <tr>\n",
       "      <th>mean</th>\n",
       "      <td>0 days 00:27:07.699834520</td>\n",
       "      <td>17.32548</td>\n",
       "    </tr>\n",
       "  </tbody>\n",
       "</table>\n",
       "</div>"
      ],
      "text/plain": [
       "                          충전시간          충전량\n",
       "sum          261 days 20:16:40 240806.84000\n",
       "mean 0 days 00:27:07.699834520     17.32548"
      ]
     },
     "execution_count": 20,
     "metadata": {},
     "output_type": "execute_result"
    }
   ],
   "source": [
    "new_adr_df2[(new_adr_df2['시군구'] == '강릉시') & (new_adr_df2['주소'] == '강원도 강릉시 성산면 영동고속도로 231 (보광리)')][['충전시간', '충전량']].agg(['sum', 'mean'])"
   ]
  },
  {
   "cell_type": "markdown",
   "metadata": {},
   "source": [
    "#### 지역, 시군구, 충전기ID 별 통계"
   ]
  },
  {
   "cell_type": "code",
   "execution_count": 21,
   "metadata": {},
   "outputs": [],
   "source": [
    "# statis = temp.groupby(['지역', '시군구', '충전기ID'])[['충전시간', '충전량']].agg(['sum', 'mean'])\n",
    "# statis"
   ]
  },
  {
   "cell_type": "code",
   "execution_count": 22,
   "metadata": {},
   "outputs": [],
   "source": [
    "# statis.to_excel('분석/2020-22년_신주소_지역_시군구_충전기ID_충전시간_충전량_통계.xlsx', encoding='utf-8')"
   ]
  },
  {
   "cell_type": "markdown",
   "metadata": {},
   "source": [
    "### 특정 지역/기간별 충전량"
   ]
  },
  {
   "cell_type": "code",
   "execution_count": 23,
   "metadata": {},
   "outputs": [
    {
     "data": {
      "text/plain": [
       "Index(['충전소명', '충전기ID', '지역', '시군구', '주소', '충전기타입', '충전시작일시', '충전종료일시', '충전시간',\n",
       "       '충전량', '충전용량', '충전시작_년도', '충전시작_월', '충전시작_일', '충전시작_시', '충전시작_분',\n",
       "       '충전시작_초', '충전시작일시(변환)', '충전종료_년도', '충전종료_월', '충전종료_일', '충전종료_시',\n",
       "       '충전종료_분', '충전종료_초', '충전종료일시(변환)', '충전시간(계산)', 'raw값과_계산값_차이', '0', '1',\n",
       "       '2', '3', '4', '5', '6', '7', '8', '9', '10', '11', '12'],\n",
       "      dtype='object')"
      ]
     },
     "execution_count": 23,
     "metadata": {},
     "output_type": "execute_result"
    }
   ],
   "source": [
    "new_adr_df2.columns"
   ]
  },
  {
   "cell_type": "code",
   "execution_count": 24,
   "metadata": {},
   "outputs": [
    {
     "name": "stdout",
     "output_type": "stream",
     "text": [
      "<class 'pandas.core.frame.DataFrame'>\n",
      "RangeIndex: 7755902 entries, 0 to 7755901\n",
      "Data columns (total 5 columns):\n",
      " #   Column   Dtype  \n",
      "---  ------   -----  \n",
      " 0   지역       object \n",
      " 1   시군구      object \n",
      " 2   충전시작_년도  int16  \n",
      " 3   충전시작_월   int8   \n",
      " 4   충전량      float64\n",
      "dtypes: float64(1), int16(1), int8(1), object(2)\n",
      "memory usage: 199.7+ MB\n"
     ]
    }
   ],
   "source": [
    "temp = new_adr_df2[['지역', '시군구', '충전시작_년도', '충전시작_월', '충전량']]\n",
    "temp.info()"
   ]
  },
  {
   "cell_type": "code",
   "execution_count": 25,
   "metadata": {},
   "outputs": [
    {
     "data": {
      "text/html": [
       "<div>\n",
       "<style scoped>\n",
       "    .dataframe tbody tr th:only-of-type {\n",
       "        vertical-align: middle;\n",
       "    }\n",
       "\n",
       "    .dataframe tbody tr th {\n",
       "        vertical-align: top;\n",
       "    }\n",
       "\n",
       "    .dataframe thead tr th {\n",
       "        text-align: left;\n",
       "    }\n",
       "\n",
       "    .dataframe thead tr:last-of-type th {\n",
       "        text-align: right;\n",
       "    }\n",
       "</style>\n",
       "<table border=\"1\" class=\"dataframe\">\n",
       "  <thead>\n",
       "    <tr>\n",
       "      <th></th>\n",
       "      <th></th>\n",
       "      <th></th>\n",
       "      <th></th>\n",
       "      <th colspan=\"2\" halign=\"left\">충전량</th>\n",
       "    </tr>\n",
       "    <tr>\n",
       "      <th></th>\n",
       "      <th></th>\n",
       "      <th></th>\n",
       "      <th></th>\n",
       "      <th>sum</th>\n",
       "      <th>mean</th>\n",
       "    </tr>\n",
       "    <tr>\n",
       "      <th>지역</th>\n",
       "      <th>시군구</th>\n",
       "      <th>충전시작_년도</th>\n",
       "      <th>충전시작_월</th>\n",
       "      <th></th>\n",
       "      <th></th>\n",
       "    </tr>\n",
       "  </thead>\n",
       "  <tbody>\n",
       "    <tr>\n",
       "      <th rowspan=\"5\" valign=\"top\">강원도</th>\n",
       "      <th rowspan=\"5\" valign=\"top\">강릉시</th>\n",
       "      <th rowspan=\"5\" valign=\"top\">2020</th>\n",
       "      <th>1</th>\n",
       "      <td>24097.21000</td>\n",
       "      <td>15.61712</td>\n",
       "    </tr>\n",
       "    <tr>\n",
       "      <th>2</th>\n",
       "      <td>19731.80000</td>\n",
       "      <td>15.63534</td>\n",
       "    </tr>\n",
       "    <tr>\n",
       "      <th>3</th>\n",
       "      <td>19599.25000</td>\n",
       "      <td>16.17100</td>\n",
       "    </tr>\n",
       "    <tr>\n",
       "      <th>4</th>\n",
       "      <td>20738.49000</td>\n",
       "      <td>17.02667</td>\n",
       "    </tr>\n",
       "    <tr>\n",
       "      <th>5</th>\n",
       "      <td>23248.08000</td>\n",
       "      <td>16.48800</td>\n",
       "    </tr>\n",
       "    <tr>\n",
       "      <th>...</th>\n",
       "      <th>...</th>\n",
       "      <th>...</th>\n",
       "      <th>...</th>\n",
       "      <td>...</td>\n",
       "      <td>...</td>\n",
       "    </tr>\n",
       "    <tr>\n",
       "      <th rowspan=\"5\" valign=\"top\">충청북도</th>\n",
       "      <th rowspan=\"5\" valign=\"top\">충주시</th>\n",
       "      <th rowspan=\"5\" valign=\"top\">2022</th>\n",
       "      <th>4</th>\n",
       "      <td>108623.48000</td>\n",
       "      <td>19.98592</td>\n",
       "    </tr>\n",
       "    <tr>\n",
       "      <th>5</th>\n",
       "      <td>115388.01000</td>\n",
       "      <td>19.89105</td>\n",
       "    </tr>\n",
       "    <tr>\n",
       "      <th>6</th>\n",
       "      <td>106327.68000</td>\n",
       "      <td>20.13019</td>\n",
       "    </tr>\n",
       "    <tr>\n",
       "      <th>7</th>\n",
       "      <td>139095.34000</td>\n",
       "      <td>21.49518</td>\n",
       "    </tr>\n",
       "    <tr>\n",
       "      <th>8</th>\n",
       "      <td>199168.47000</td>\n",
       "      <td>23.55908</td>\n",
       "    </tr>\n",
       "  </tbody>\n",
       "</table>\n",
       "<p>7513 rows × 2 columns</p>\n",
       "</div>"
      ],
      "text/plain": [
       "                                 충전량         \n",
       "                                 sum     mean\n",
       "지역   시군구 충전시작_년도 충전시작_월                      \n",
       "강원도  강릉시 2020    1       24097.21000 15.61712\n",
       "                 2       19731.80000 15.63534\n",
       "                 3       19599.25000 16.17100\n",
       "                 4       20738.49000 17.02667\n",
       "                 5       23248.08000 16.48800\n",
       "...                              ...      ...\n",
       "충청북도 충주시 2022    4      108623.48000 19.98592\n",
       "                 5      115388.01000 19.89105\n",
       "                 6      106327.68000 20.13019\n",
       "                 7      139095.34000 21.49518\n",
       "                 8      199168.47000 23.55908\n",
       "\n",
       "[7513 rows x 2 columns]"
      ]
     },
     "execution_count": 25,
     "metadata": {},
     "output_type": "execute_result"
    }
   ],
   "source": [
    "statis = temp.groupby(['지역', '시군구', '충전시작_년도', '충전시작_월'])[['충전량']].agg(['sum', 'mean'])\n",
    "statis"
   ]
  },
  {
   "cell_type": "code",
   "execution_count": 27,
   "metadata": {},
   "outputs": [],
   "source": [
    "statis.to_excel('분석/2020-22년_신주소_지역_시군구_년도_월_충전량_통계.xlsx', encoding='utf-8')"
   ]
  },
  {
   "cell_type": "markdown",
   "metadata": {},
   "source": [
    "### 연도/분기/시간대별 충전기 대수\n",
    "- 예시) 2020년/1분기(1-3월)/00-01시 충전기 대수"
   ]
  },
  {
   "cell_type": "code",
   "execution_count": 9,
   "metadata": {},
   "outputs": [
    {
     "name": "stdout",
     "output_type": "stream",
     "text": [
      "<class 'pandas.core.frame.DataFrame'>\n",
      "RangeIndex: 11613449 entries, 0 to 11613448\n",
      "Data columns (total 40 columns):\n",
      " #   Column        Dtype          \n",
      "---  ------        -----          \n",
      " 0   충전소명          object         \n",
      " 1   충전기ID         int8           \n",
      " 2   지역            object         \n",
      " 3   시군구           object         \n",
      " 4   주소            object         \n",
      " 5   충전기타입         object         \n",
      " 6   충전시작일시        int64          \n",
      " 7   충전종료일시        int64          \n",
      " 8   충전시간          timedelta64[ns]\n",
      " 9   충전량           float64        \n",
      " 10  충전용량          object         \n",
      " 11  충전시작_년도       int16          \n",
      " 12  충전시작_월        int8           \n",
      " 13  충전시작_일        int8           \n",
      " 14  충전시작_시        int8           \n",
      " 15  충전시작_분        int8           \n",
      " 16  충전시작_초        int8           \n",
      " 17  충전시작일시(변환)    object         \n",
      " 18  충전종료_년도       int16          \n",
      " 19  충전종료_월        int8           \n",
      " 20  충전종료_일        int8           \n",
      " 21  충전종료_시        int8           \n",
      " 22  충전종료_분        int8           \n",
      " 23  충전종료_초        int8           \n",
      " 24  충전종료일시(변환)    object         \n",
      " 25  충전시간(계산)      timedelta64[ns]\n",
      " 26  raw값과_계산값_차이  object         \n",
      " 27  0             object         \n",
      " 28  1             object         \n",
      " 29  2             object         \n",
      " 30  3             object         \n",
      " 31  4             object         \n",
      " 32  5             object         \n",
      " 33  6             object         \n",
      " 34  7             object         \n",
      " 35  8             object         \n",
      " 36  9             object         \n",
      " 37  10            object         \n",
      " 38  11            object         \n",
      " 39  12            object         \n",
      "dtypes: float64(1), int16(2), int64(2), int8(11), object(22), timedelta64[ns](2)\n",
      "memory usage: 2.5+ GB\n"
     ]
    }
   ],
   "source": [
    "df2.info()"
   ]
  },
  {
   "cell_type": "code",
   "execution_count": 10,
   "metadata": {},
   "outputs": [
    {
     "data": {
      "text/html": [
       "<div>\n",
       "<style scoped>\n",
       "    .dataframe tbody tr th:only-of-type {\n",
       "        vertical-align: middle;\n",
       "    }\n",
       "\n",
       "    .dataframe tbody tr th {\n",
       "        vertical-align: top;\n",
       "    }\n",
       "\n",
       "    .dataframe thead th {\n",
       "        text-align: right;\n",
       "    }\n",
       "</style>\n",
       "<table border=\"1\" class=\"dataframe\">\n",
       "  <thead>\n",
       "    <tr style=\"text-align: right;\">\n",
       "      <th></th>\n",
       "      <th>충전소명</th>\n",
       "      <th>충전기ID</th>\n",
       "      <th>지역</th>\n",
       "      <th>시군구</th>\n",
       "      <th>주소</th>\n",
       "      <th>충전기타입</th>\n",
       "      <th>충전시작일시</th>\n",
       "    </tr>\n",
       "  </thead>\n",
       "  <tbody>\n",
       "    <tr>\n",
       "      <th>7765000</th>\n",
       "      <td>내린천휴게소 양양방향</td>\n",
       "      <td>1</td>\n",
       "      <td>강원도</td>\n",
       "      <td>인제군</td>\n",
       "      <td>강원도 인제군 상남면 하남리 339-7(양양방향)</td>\n",
       "      <td>DC차데모+AC3상+DC콤보</td>\n",
       "      <td>20200105005728</td>\n",
       "    </tr>\n",
       "    <tr>\n",
       "      <th>7883070</th>\n",
       "      <td>내린천휴게소 양양방향</td>\n",
       "      <td>1</td>\n",
       "      <td>강원도</td>\n",
       "      <td>인제군</td>\n",
       "      <td>강원도 인제군 상남면 하남리 339-7(양양방향)</td>\n",
       "      <td>DC차데모+AC3상+DC콤보</td>\n",
       "      <td>20200305000732</td>\n",
       "    </tr>\n",
       "  </tbody>\n",
       "</table>\n",
       "</div>"
      ],
      "text/plain": [
       "                충전소명  충전기ID   지역  시군구                           주소  \\\n",
       "7765000  내린천휴게소 양양방향      1  강원도  인제군  강원도 인제군 상남면 하남리 339-7(양양방향)   \n",
       "7883070  내린천휴게소 양양방향      1  강원도  인제군  강원도 인제군 상남면 하남리 339-7(양양방향)   \n",
       "\n",
       "                   충전기타입          충전시작일시  \n",
       "7765000  DC차데모+AC3상+DC콤보  20200105005728  \n",
       "7883070  DC차데모+AC3상+DC콤보  20200305000732  "
      ]
     },
     "execution_count": 10,
     "metadata": {},
     "output_type": "execute_result"
    }
   ],
   "source": [
    "df2[(df2['충전시작_년도'] == 2020) & \n",
    "    (df2['충전시작_월'] >= 1) & (df2['충전시작_월'] <= 3) & (df2['충전시작_일'] == 5) &\n",
    "    (df2['충전시작_시'] >= 0) & (df2['충전시작_시'] < 1) & (df2['충전소명'] == '내린천휴게소 양양방향')].iloc[:10, :7]"
   ]
  },
  {
   "cell_type": "code",
   "execution_count": 11,
   "metadata": {},
   "outputs": [
    {
     "data": {
      "text/plain": [
       "array([1], dtype=int8)"
      ]
     },
     "execution_count": 11,
     "metadata": {},
     "output_type": "execute_result"
    }
   ],
   "source": [
    "df2[(df2['충전시작_년도'] == 2020) & \n",
    "    (df2['충전시작_월'] >= 1) & (df2['충전시작_월'] <= 3) & (df2['충전시작_일'] == 5) &\n",
    "    (df2['충전시작_시'] >= 0) & (df2['충전시작_시'] < 1) & (df2['충전소명'] == '내린천휴게소 양양방향')]['충전기ID'].unique()"
   ]
  },
  {
   "cell_type": "code",
   "execution_count": 12,
   "metadata": {},
   "outputs": [],
   "source": [
    "# 시간 오래걸림\n",
    "    # 53분동안 2020년도 처리 안됨\n",
    "# num_charger_by_hours = pd.DataFrame(columns=['년도', '월', '일', '시간', '충전기대수'])\n",
    "# for y in tqdm(range(2020, 2023)):\n",
    "#     temp_y = df2[df2['충전시작_년도'] == y].reset_index(drop=True)\n",
    "#     for m in range(1, 11, 3):\n",
    "#         temp_m = temp_y[(temp_y['충전시작_월'] >= m) & (temp_y['충전시작_월'] <= m+2)].reset_index(drop=True)\n",
    "#         for d in temp_m['충전시작_일'].unique():\n",
    "#             temp_d = temp_m[temp_m['충전시작_일'] == d].reset_index(drop=True)\n",
    "#             for h in range(24):\n",
    "#                 temp_h = temp_m[(temp_m['충전시작_시'] >= h) & (temp_m['충전시작_시'] < h+1)].reset_index(drop=True)\n",
    "#                 count = 0\n",
    "#                 for one in temp_h['충전소명'].unique():\n",
    "#                     num_charger = len(temp_h[temp_h['충전소명'] == one]['충전기ID'].unique())\n",
    "#                     count += num_charger\n",
    "#                 num_charger_by_hours.loc[len(num_charger_by_hours)] = [y, m, d, h, count]"
   ]
  },
  {
   "cell_type": "code",
   "execution_count": 32,
   "metadata": {},
   "outputs": [
    {
     "name": "stdout",
     "output_type": "stream",
     "text": [
      "<class 'pandas.core.frame.DataFrame'>\n",
      "RangeIndex: 10192033 entries, 0 to 10192032\n",
      "Data columns (total 40 columns):\n",
      " #   Column        Dtype          \n",
      "---  ------        -----          \n",
      " 0   충전소명          object         \n",
      " 1   충전기ID         int8           \n",
      " 2   지역            object         \n",
      " 3   시군구           object         \n",
      " 4   주소            object         \n",
      " 5   충전기타입         object         \n",
      " 6   충전시작일시        int64          \n",
      " 7   충전종료일시        int64          \n",
      " 8   충전시간          timedelta64[ns]\n",
      " 9   충전량           float64        \n",
      " 10  충전용량          object         \n",
      " 11  충전시작_년도       int16          \n",
      " 12  충전시작_월        int8           \n",
      " 13  충전시작_일        int8           \n",
      " 14  충전시작_시        int8           \n",
      " 15  충전시작_분        int8           \n",
      " 16  충전시작_초        int8           \n",
      " 17  충전시작일시(변환)    object         \n",
      " 18  충전종료_년도       int16          \n",
      " 19  충전종료_월        int8           \n",
      " 20  충전종료_일        int8           \n",
      " 21  충전종료_시        int8           \n",
      " 22  충전종료_분        int8           \n",
      " 23  충전종료_초        int8           \n",
      " 24  충전종료일시(변환)    object         \n",
      " 25  충전시간(계산)      timedelta64[ns]\n",
      " 26  raw값과_계산값_차이  object         \n",
      " 27  0             object         \n",
      " 28  1             object         \n",
      " 29  2             object         \n",
      " 30  3             object         \n",
      " 31  4             object         \n",
      " 32  5             object         \n",
      " 33  6             object         \n",
      " 34  7             object         \n",
      " 35  8             object         \n",
      " 36  9             object         \n",
      " 37  10            object         \n",
      " 38  11            object         \n",
      " 39  12            object         \n",
      "dtypes: float64(1), int16(2), int64(2), int8(11), object(22), timedelta64[ns](2)\n",
      "memory usage: 2.2+ GB\n"
     ]
    }
   ],
   "source": [
    "ymdh_col = ['충전시작_년도', '충전시작_월', '충전시작_일', '충전시작_시', '충전소명', '충전기ID']\n",
    "ymdh = df2.drop_duplicates(ymdh_col, keep='first').reset_index(drop=True)\n",
    "ymdh.info()"
   ]
  },
  {
   "cell_type": "markdown",
   "metadata": {},
   "source": [
    "#### 분기 컬럼 생성"
   ]
  },
  {
   "cell_type": "code",
   "execution_count": 33,
   "metadata": {},
   "outputs": [
    {
     "name": "stderr",
     "output_type": "stream",
     "text": [
      "100%|██████████| 10192033/10192033 [00:04<00:00, 2060263.56it/s]\n"
     ]
    },
    {
     "data": {
      "text/plain": [
       "True"
      ]
     },
     "execution_count": 33,
     "metadata": {},
     "output_type": "execute_result"
    }
   ],
   "source": [
    "div_month = []\n",
    "for i in tqdm(ymdh['충전시작_월'].to_list()):\n",
    "    if (i >= 1) and (i <= 3):\n",
    "        div_month.append(1)\n",
    "    elif (i >= 4) and (i <= 6):\n",
    "        div_month.append(2)\n",
    "    elif (i >= 7) and (i <= 9):\n",
    "        div_month.append(3)\n",
    "    else:\n",
    "        div_month.append(4)\n",
    "len(div_month) == 10192033"
   ]
  },
  {
   "cell_type": "code",
   "execution_count": 34,
   "metadata": {},
   "outputs": [
    {
     "data": {
      "text/html": [
       "<div>\n",
       "<style scoped>\n",
       "    .dataframe tbody tr th:only-of-type {\n",
       "        vertical-align: middle;\n",
       "    }\n",
       "\n",
       "    .dataframe tbody tr th {\n",
       "        vertical-align: top;\n",
       "    }\n",
       "\n",
       "    .dataframe thead th {\n",
       "        text-align: right;\n",
       "    }\n",
       "</style>\n",
       "<table border=\"1\" class=\"dataframe\">\n",
       "  <thead>\n",
       "    <tr style=\"text-align: right;\">\n",
       "      <th></th>\n",
       "      <th>충전시작일시</th>\n",
       "      <th>충전종료일시</th>\n",
       "      <th>충전시간</th>\n",
       "      <th>충전량</th>\n",
       "      <th>충전용량</th>\n",
       "      <th>충전시작_년도</th>\n",
       "      <th>충전시작_월</th>\n",
       "      <th>충전시작_일</th>\n",
       "      <th>충전시작_시</th>\n",
       "      <th>충전시작_분</th>\n",
       "      <th>...</th>\n",
       "      <th>4</th>\n",
       "      <th>5</th>\n",
       "      <th>6</th>\n",
       "      <th>7</th>\n",
       "      <th>8</th>\n",
       "      <th>9</th>\n",
       "      <th>10</th>\n",
       "      <th>11</th>\n",
       "      <th>12</th>\n",
       "      <th>충전시작_분기</th>\n",
       "    </tr>\n",
       "  </thead>\n",
       "  <tbody>\n",
       "    <tr>\n",
       "      <th>0</th>\n",
       "      <td>20200101000244</td>\n",
       "      <td>20200101004215</td>\n",
       "      <td>0 days 00:39:25</td>\n",
       "      <td>20.22000</td>\n",
       "      <td>50.00000</td>\n",
       "      <td>2020</td>\n",
       "      <td>1</td>\n",
       "      <td>1</td>\n",
       "      <td>0</td>\n",
       "      <td>2</td>\n",
       "      <td>...</td>\n",
       "      <td>94-4</td>\n",
       "      <td>주유소</td>\n",
       "      <td>옆</td>\n",
       "      <td>주차장</td>\n",
       "      <td>NaN</td>\n",
       "      <td>NaN</td>\n",
       "      <td>NaN</td>\n",
       "      <td>NaN</td>\n",
       "      <td>NaN</td>\n",
       "      <td>1</td>\n",
       "    </tr>\n",
       "    <tr>\n",
       "      <th>1</th>\n",
       "      <td>20200101000745</td>\n",
       "      <td>20200101003703</td>\n",
       "      <td>0 days 00:29:13</td>\n",
       "      <td>16.04000</td>\n",
       "      <td>50.00000</td>\n",
       "      <td>2020</td>\n",
       "      <td>1</td>\n",
       "      <td>1</td>\n",
       "      <td>0</td>\n",
       "      <td>7</td>\n",
       "      <td>...</td>\n",
       "      <td>민속자연사박물관</td>\n",
       "      <td>NaN</td>\n",
       "      <td>NaN</td>\n",
       "      <td>NaN</td>\n",
       "      <td>NaN</td>\n",
       "      <td>NaN</td>\n",
       "      <td>NaN</td>\n",
       "      <td>NaN</td>\n",
       "      <td>NaN</td>\n",
       "      <td>1</td>\n",
       "    </tr>\n",
       "    <tr>\n",
       "      <th>2</th>\n",
       "      <td>20200101000748</td>\n",
       "      <td>20200101001659</td>\n",
       "      <td>0 days 00:09:07</td>\n",
       "      <td>5.80000</td>\n",
       "      <td>50.00000</td>\n",
       "      <td>2020</td>\n",
       "      <td>1</td>\n",
       "      <td>1</td>\n",
       "      <td>0</td>\n",
       "      <td>7</td>\n",
       "      <td>...</td>\n",
       "      <td>주차장</td>\n",
       "      <td>NaN</td>\n",
       "      <td>NaN</td>\n",
       "      <td>NaN</td>\n",
       "      <td>NaN</td>\n",
       "      <td>NaN</td>\n",
       "      <td>NaN</td>\n",
       "      <td>NaN</td>\n",
       "      <td>NaN</td>\n",
       "      <td>1</td>\n",
       "    </tr>\n",
       "  </tbody>\n",
       "</table>\n",
       "<p>3 rows × 35 columns</p>\n",
       "</div>"
      ],
      "text/plain": [
       "           충전시작일시          충전종료일시            충전시간      충전량     충전용량  충전시작_년도  \\\n",
       "0  20200101000244  20200101004215 0 days 00:39:25 20.22000 50.00000     2020   \n",
       "1  20200101000745  20200101003703 0 days 00:29:13 16.04000 50.00000     2020   \n",
       "2  20200101000748  20200101001659 0 days 00:09:07  5.80000 50.00000     2020   \n",
       "\n",
       "   충전시작_월  충전시작_일  충전시작_시  충전시작_분  ...         4    5    6    7    8    9  \\\n",
       "0       1       1       0       2  ...      94-4  주유소    옆  주차장  NaN  NaN   \n",
       "1       1       1       0       7  ...  민속자연사박물관  NaN  NaN  NaN  NaN  NaN   \n",
       "2       1       1       0       7  ...       주차장  NaN  NaN  NaN  NaN  NaN   \n",
       "\n",
       "    10   11   12 충전시작_분기  \n",
       "0  NaN  NaN  NaN       1  \n",
       "1  NaN  NaN  NaN       1  \n",
       "2  NaN  NaN  NaN       1  \n",
       "\n",
       "[3 rows x 35 columns]"
      ]
     },
     "execution_count": 34,
     "metadata": {},
     "output_type": "execute_result"
    }
   ],
   "source": [
    "ymdh['충전시작_분기'] = div_month\n",
    "ymdh.iloc[:3, 6:]"
   ]
  },
  {
   "cell_type": "code",
   "execution_count": 35,
   "metadata": {},
   "outputs": [
    {
     "data": {
      "text/html": [
       "<div>\n",
       "<style scoped>\n",
       "    .dataframe tbody tr th:only-of-type {\n",
       "        vertical-align: middle;\n",
       "    }\n",
       "\n",
       "    .dataframe tbody tr th {\n",
       "        vertical-align: top;\n",
       "    }\n",
       "\n",
       "    .dataframe thead th {\n",
       "        text-align: right;\n",
       "    }\n",
       "</style>\n",
       "<table border=\"1\" class=\"dataframe\">\n",
       "  <thead>\n",
       "    <tr style=\"text-align: right;\">\n",
       "      <th></th>\n",
       "      <th>충전시작일시</th>\n",
       "      <th>충전종료일시</th>\n",
       "      <th>충전시간</th>\n",
       "      <th>충전량</th>\n",
       "      <th>충전용량</th>\n",
       "      <th>충전시작_년도</th>\n",
       "      <th>충전시작_월</th>\n",
       "      <th>충전시작_일</th>\n",
       "      <th>충전시작_시</th>\n",
       "      <th>충전시작_분</th>\n",
       "      <th>...</th>\n",
       "      <th>4</th>\n",
       "      <th>5</th>\n",
       "      <th>6</th>\n",
       "      <th>7</th>\n",
       "      <th>8</th>\n",
       "      <th>9</th>\n",
       "      <th>10</th>\n",
       "      <th>11</th>\n",
       "      <th>12</th>\n",
       "      <th>충전시작_분기</th>\n",
       "    </tr>\n",
       "  </thead>\n",
       "  <tbody>\n",
       "    <tr>\n",
       "      <th>10192028</th>\n",
       "      <td>20220831235823</td>\n",
       "      <td>20220901001839</td>\n",
       "      <td>0 days 00:20:01</td>\n",
       "      <td>19.22000</td>\n",
       "      <td>급속(200kW동시)</td>\n",
       "      <td>2022</td>\n",
       "      <td>8</td>\n",
       "      <td>31</td>\n",
       "      <td>23</td>\n",
       "      <td>58</td>\n",
       "      <td>...</td>\n",
       "      <td>1271-11</td>\n",
       "      <td>NaN</td>\n",
       "      <td>NaN</td>\n",
       "      <td>NaN</td>\n",
       "      <td>NaN</td>\n",
       "      <td>NaN</td>\n",
       "      <td>NaN</td>\n",
       "      <td>NaN</td>\n",
       "      <td>NaN</td>\n",
       "      <td>3</td>\n",
       "    </tr>\n",
       "    <tr>\n",
       "      <th>10192029</th>\n",
       "      <td>20220831235909</td>\n",
       "      <td>20220901000721</td>\n",
       "      <td>0 days 00:04:53</td>\n",
       "      <td>3.35000</td>\n",
       "      <td>급속(50kW)</td>\n",
       "      <td>2022</td>\n",
       "      <td>8</td>\n",
       "      <td>31</td>\n",
       "      <td>23</td>\n",
       "      <td>59</td>\n",
       "      <td>...</td>\n",
       "      <td>NaN</td>\n",
       "      <td>NaN</td>\n",
       "      <td>NaN</td>\n",
       "      <td>NaN</td>\n",
       "      <td>NaN</td>\n",
       "      <td>NaN</td>\n",
       "      <td>NaN</td>\n",
       "      <td>NaN</td>\n",
       "      <td>NaN</td>\n",
       "      <td>3</td>\n",
       "    </tr>\n",
       "    <tr>\n",
       "      <th>10192030</th>\n",
       "      <td>20220831235914</td>\n",
       "      <td>20220901002120</td>\n",
       "      <td>0 days 00:22:06</td>\n",
       "      <td>30.14000</td>\n",
       "      <td>급속(100kW멀티)</td>\n",
       "      <td>2022</td>\n",
       "      <td>8</td>\n",
       "      <td>31</td>\n",
       "      <td>23</td>\n",
       "      <td>59</td>\n",
       "      <td>...</td>\n",
       "      <td>NaN</td>\n",
       "      <td>NaN</td>\n",
       "      <td>NaN</td>\n",
       "      <td>NaN</td>\n",
       "      <td>NaN</td>\n",
       "      <td>NaN</td>\n",
       "      <td>NaN</td>\n",
       "      <td>NaN</td>\n",
       "      <td>NaN</td>\n",
       "      <td>3</td>\n",
       "    </tr>\n",
       "    <tr>\n",
       "      <th>10192031</th>\n",
       "      <td>20220831235931</td>\n",
       "      <td>20220901004251</td>\n",
       "      <td>0 days 00:40:00</td>\n",
       "      <td>21.97000</td>\n",
       "      <td>급속(50kW)</td>\n",
       "      <td>2022</td>\n",
       "      <td>8</td>\n",
       "      <td>31</td>\n",
       "      <td>23</td>\n",
       "      <td>59</td>\n",
       "      <td>...</td>\n",
       "      <td>검단4동</td>\n",
       "      <td>주민센터</td>\n",
       "      <td>옆</td>\n",
       "      <td>NaN</td>\n",
       "      <td>NaN</td>\n",
       "      <td>NaN</td>\n",
       "      <td>NaN</td>\n",
       "      <td>NaN</td>\n",
       "      <td>NaN</td>\n",
       "      <td>3</td>\n",
       "    </tr>\n",
       "    <tr>\n",
       "      <th>10192032</th>\n",
       "      <td>20220831235934</td>\n",
       "      <td>20220901004057</td>\n",
       "      <td>0 days 00:40:00</td>\n",
       "      <td>27.60000</td>\n",
       "      <td>급속(50kW)</td>\n",
       "      <td>2022</td>\n",
       "      <td>8</td>\n",
       "      <td>31</td>\n",
       "      <td>23</td>\n",
       "      <td>59</td>\n",
       "      <td>...</td>\n",
       "      <td>NaN</td>\n",
       "      <td>NaN</td>\n",
       "      <td>NaN</td>\n",
       "      <td>NaN</td>\n",
       "      <td>NaN</td>\n",
       "      <td>NaN</td>\n",
       "      <td>NaN</td>\n",
       "      <td>NaN</td>\n",
       "      <td>NaN</td>\n",
       "      <td>3</td>\n",
       "    </tr>\n",
       "  </tbody>\n",
       "</table>\n",
       "<p>5 rows × 35 columns</p>\n",
       "</div>"
      ],
      "text/plain": [
       "                  충전시작일시          충전종료일시            충전시간      충전량  \\\n",
       "10192028  20220831235823  20220901001839 0 days 00:20:01 19.22000   \n",
       "10192029  20220831235909  20220901000721 0 days 00:04:53  3.35000   \n",
       "10192030  20220831235914  20220901002120 0 days 00:22:06 30.14000   \n",
       "10192031  20220831235931  20220901004251 0 days 00:40:00 21.97000   \n",
       "10192032  20220831235934  20220901004057 0 days 00:40:00 27.60000   \n",
       "\n",
       "                 충전용량  충전시작_년도  충전시작_월  충전시작_일  충전시작_시  충전시작_분  ...        4  \\\n",
       "10192028  급속(200kW동시)     2022       8      31      23      58  ...  1271-11   \n",
       "10192029     급속(50kW)     2022       8      31      23      59  ...      NaN   \n",
       "10192030  급속(100kW멀티)     2022       8      31      23      59  ...      NaN   \n",
       "10192031     급속(50kW)     2022       8      31      23      59  ...     검단4동   \n",
       "10192032     급속(50kW)     2022       8      31      23      59  ...      NaN   \n",
       "\n",
       "             5    6    7    8    9   10   11   12 충전시작_분기  \n",
       "10192028   NaN  NaN  NaN  NaN  NaN  NaN  NaN  NaN       3  \n",
       "10192029   NaN  NaN  NaN  NaN  NaN  NaN  NaN  NaN       3  \n",
       "10192030   NaN  NaN  NaN  NaN  NaN  NaN  NaN  NaN       3  \n",
       "10192031  주민센터    옆  NaN  NaN  NaN  NaN  NaN  NaN       3  \n",
       "10192032   NaN  NaN  NaN  NaN  NaN  NaN  NaN  NaN       3  \n",
       "\n",
       "[5 rows x 35 columns]"
      ]
     },
     "execution_count": 35,
     "metadata": {},
     "output_type": "execute_result"
    }
   ],
   "source": [
    "ymdh.iloc[-5:, 6:]"
   ]
  },
  {
   "cell_type": "code",
   "execution_count": 36,
   "metadata": {},
   "outputs": [
    {
     "data": {
      "text/plain": [
       "충전시작_년도  충전시작_월  충전시작_일  충전시작_시\n",
       "2020     1       1       0           29\n",
       "                         1           27\n",
       "                         2           29\n",
       "                         3           58\n",
       "                         4           57\n",
       "                                   ... \n",
       "2022     8       31      19        1062\n",
       "                         20         931\n",
       "                         21         731\n",
       "                         22         516\n",
       "                         23         387\n",
       "Name: 충전기_수(대), Length: 23376, dtype: int64"
      ]
     },
     "execution_count": 36,
     "metadata": {},
     "output_type": "execute_result"
    }
   ],
   "source": [
    "group_ymdh = ymdh.groupby(['충전시작_년도', '충전시작_월', '충전시작_일', '충전시작_시'])['충전기ID'].count().rename('충전기_수(대)')\n",
    "group_ymdh"
   ]
  },
  {
   "cell_type": "code",
   "execution_count": 37,
   "metadata": {},
   "outputs": [
    {
     "data": {
      "text/plain": [
       "충전시작_년도  충전시작_분기  충전시작_시\n",
       "2020     1        0          6395\n",
       "                  1          4578\n",
       "                  2          3370\n",
       "                  3          2813\n",
       "                  4          2871\n",
       "                            ...  \n",
       "2022     3        19        63619\n",
       "                  20        52697\n",
       "                  21        42154\n",
       "                  22        30622\n",
       "                  23        21767\n",
       "Name: 충전기_수(대), Length: 264, dtype: int64"
      ]
     },
     "execution_count": 37,
     "metadata": {},
     "output_type": "execute_result"
    }
   ],
   "source": [
    "group_div = ymdh.groupby(['충전시작_년도', '충전시작_분기', '충전시작_시'])['충전기ID'].count().rename('충전기_수(대)')\n",
    "group_div"
   ]
  },
  {
   "cell_type": "code",
   "execution_count": 38,
   "metadata": {},
   "outputs": [
    {
     "data": {
      "text/plain": [
       "충전시작_월  충전시작_시\n",
       "1       0         11834\n",
       "        1          8327\n",
       "        2          6264\n",
       "        3          5245\n",
       "        4          5920\n",
       "                  ...  \n",
       "12      19        38803\n",
       "        20        32514\n",
       "        21        26057\n",
       "        22        19559\n",
       "        23        13514\n",
       "Name: 충전기_수(대), Length: 288, dtype: int64"
      ]
     },
     "execution_count": 38,
     "metadata": {},
     "output_type": "execute_result"
    }
   ],
   "source": [
    "group_m = ymdh.groupby(['충전시작_월', '충전시작_시'])['충전기ID'].count().rename('충전기_수(대)')\n",
    "group_m"
   ]
  },
  {
   "cell_type": "code",
   "execution_count": 39,
   "metadata": {},
   "outputs": [
    {
     "data": {
      "text/plain": [
       "충전시작_시\n",
       "0     130386\n",
       "1      97321\n",
       "2      74491\n",
       "3      64911\n",
       "4      77421\n",
       "5     127063\n",
       "6     214952\n",
       "7     305332\n",
       "8     424905\n",
       "9     512267\n",
       "10    591077\n",
       "11    664360\n",
       "12    738851\n",
       "13    721442\n",
       "14    738600\n",
       "15    759144\n",
       "16    760384\n",
       "17    715055\n",
       "18    641412\n",
       "19    549712\n",
       "20    459797\n",
       "21    367166\n",
       "22    269420\n",
       "23    186564\n",
       "Name: 충전기_수(대), dtype: int64"
      ]
     },
     "execution_count": 39,
     "metadata": {},
     "output_type": "execute_result"
    }
   ],
   "source": [
    "group_h = ymdh.groupby(['충전시작_시'])['충전기ID'].count().rename('충전기_수(대)')\n",
    "group_h"
   ]
  },
  {
   "cell_type": "code",
   "execution_count": 40,
   "metadata": {},
   "outputs": [],
   "source": [
    "ymdh_file = pd.ExcelWriter('분석/2020-22년_년월일시간별_충전시간.xlsx')\n",
    "group_h.to_excel(ymdh_file, sheet_name='시간')\n",
    "group_m.to_excel(ymdh_file, sheet_name='월')\n",
    "group_div.to_excel(ymdh_file, sheet_name='분기')\n",
    "group_ymdh.to_excel(ymdh_file, sheet_name='년월일시간')\n",
    "ymdh_file.save()"
   ]
  },
  {
   "cell_type": "markdown",
   "metadata": {},
   "source": [
    "### 년도/지역별 충전기 수 통계"
   ]
  },
  {
   "cell_type": "code",
   "execution_count": 13,
   "metadata": {},
   "outputs": [
    {
     "name": "stdout",
     "output_type": "stream",
     "text": [
      "<class 'pandas.core.frame.DataFrame'>\n",
      "RangeIndex: 5 entries, 0 to 4\n",
      "Data columns (total 13 columns):\n",
      " #   Column  Non-Null Count  Dtype \n",
      "---  ------  --------------  ----- \n",
      " 0   0       5 non-null      object\n",
      " 1   1       5 non-null      object\n",
      " 2   2       5 non-null      object\n",
      " 3   3       5 non-null      object\n",
      " 4   4       5 non-null      object\n",
      " 5   5       1 non-null      object\n",
      " 6   6       1 non-null      object\n",
      " 7   7       1 non-null      object\n",
      " 8   8       0 non-null      object\n",
      " 9   9       0 non-null      object\n",
      " 10  10      0 non-null      object\n",
      " 11  11      0 non-null      object\n",
      " 12  12      0 non-null      object\n",
      "dtypes: object(13)\n",
      "memory usage: 648.0+ bytes\n"
     ]
    }
   ],
   "source": [
    "df2.iloc[:5, 27:].info()"
   ]
  },
  {
   "cell_type": "code",
   "execution_count": 14,
   "metadata": {},
   "outputs": [
    {
     "data": {
      "text/plain": [
       "array(['경상남도', '제주특별자치도', '경상북도', '강원도', '대전광역시', '충청남도', '충청북도', '부산광역시',\n",
       "       '경기도', '전라남도', '대구광역시', '광주광역시', '서울특별시', '울산광역시', '전라북도', '인천광역시',\n",
       "       '세종특별자치시'], dtype=object)"
      ]
     },
     "execution_count": 14,
     "metadata": {},
     "output_type": "execute_result"
    }
   ],
   "source": [
    "df2['0'].unique()"
   ]
  },
  {
   "cell_type": "code",
   "execution_count": 15,
   "metadata": {},
   "outputs": [
    {
     "data": {
      "text/plain": [
       "(17585, 40)"
      ]
     },
     "execution_count": 15,
     "metadata": {},
     "output_type": "execute_result"
    }
   ],
   "source": [
    "# 3.8s\n",
    "numch_col = ['충전시작_년도', '충전소명', '충전기ID']\n",
    "numch = df2.drop_duplicates(numch_col, keep='first').reset_index(drop=True)\n",
    "numch.shape"
   ]
  },
  {
   "cell_type": "code",
   "execution_count": 16,
   "metadata": {},
   "outputs": [
    {
     "data": {
      "text/plain": [
       "충전시작_년도  0      \n",
       "2020     강원도        428\n",
       "         경기도        552\n",
       "         경상남도       407\n",
       "         경상북도       571\n",
       "         광주광역시       84\n",
       "         대구광역시      147\n",
       "         대전광역시       97\n",
       "         부산광역시       96\n",
       "         서울특별시      258\n",
       "         세종특별자치시     46\n",
       "         울산광역시      133\n",
       "         인천광역시      128\n",
       "         전라남도       419\n",
       "         전라북도       304\n",
       "         제주특별자치도    250\n",
       "         충청남도       382\n",
       "         충청북도       270\n",
       "2021     강원도        542\n",
       "         경기도        763\n",
       "         경상남도       604\n",
       "         경상북도       803\n",
       "         광주광역시      112\n",
       "         대구광역시      176\n",
       "         대전광역시      115\n",
       "         부산광역시       96\n",
       "         서울특별시      300\n",
       "         세종특별자치시     49\n",
       "         울산광역시      158\n",
       "         인천광역시      163\n",
       "         전라남도       608\n",
       "         전라북도       499\n",
       "         제주특별자치도    249\n",
       "         충청남도       501\n",
       "         충청북도       353\n",
       "2022     강원도        596\n",
       "         경기도        880\n",
       "         경상남도       687\n",
       "         경상북도       903\n",
       "         광주광역시      133\n",
       "         대구광역시      187\n",
       "         대전광역시      134\n",
       "         부산광역시      108\n",
       "         서울특별시      316\n",
       "         세종특별자치시     57\n",
       "         울산광역시      173\n",
       "         인천광역시      184\n",
       "         전라남도       680\n",
       "         전라북도       583\n",
       "         제주특별자치도    261\n",
       "         충청남도       601\n",
       "         충청북도       439\n",
       "Name: 충전기 수, dtype: int64"
      ]
     },
     "execution_count": 16,
     "metadata": {},
     "output_type": "execute_result"
    }
   ],
   "source": [
    "numch_group_ad1 = numch.groupby(['충전시작_년도', '0'])['충전기ID'].count().rename('충전기 수')\n",
    "numch_group_ad1"
   ]
  },
  {
   "cell_type": "code",
   "execution_count": 17,
   "metadata": {},
   "outputs": [
    {
     "data": {
      "text/plain": [
       "충전시작_년도  0     1  \n",
       "2020     강원도   강릉시     40\n",
       "               고성군     14\n",
       "               동해시     15\n",
       "               삼척시     43\n",
       "               속초시     16\n",
       "                     ... \n",
       "2022     충청북도  제천시     33\n",
       "               증평군      6\n",
       "               진천군     27\n",
       "               청주시    107\n",
       "               충주시     73\n",
       "Name: 충전기 수, Length: 744, dtype: int64"
      ]
     },
     "execution_count": 17,
     "metadata": {},
     "output_type": "execute_result"
    }
   ],
   "source": [
    "numch_group_ad2 = numch.groupby(['충전시작_년도', '0', '1'])['충전기ID'].count().rename('충전기 수')\n",
    "numch_group_ad2"
   ]
  },
  {
   "cell_type": "code",
   "execution_count": 18,
   "metadata": {},
   "outputs": [
    {
     "data": {
      "text/plain": [
       "충전시작_년도  0     1    2    \n",
       "2020     강원도   강릉시  강동면       4\n",
       "                    강릉대로      1\n",
       "                    구정면       6\n",
       "                    남산초교길     2\n",
       "                    남항진동      2\n",
       "                             ..\n",
       "2022     충청북도  충주시  용탄동       1\n",
       "                    으뜸로       1\n",
       "                    주덕읍       1\n",
       "                    중앙탑면     12\n",
       "                    지현동       1\n",
       "Name: 충전기 수, Length: 6310, dtype: int64"
      ]
     },
     "execution_count": 18,
     "metadata": {},
     "output_type": "execute_result"
    }
   ],
   "source": [
    "numch_group_ad3 = numch.groupby(['충전시작_년도', '0', '1', '2'])['충전기ID'].count().rename('충전기 수')\n",
    "numch_group_ad3"
   ]
  },
  {
   "cell_type": "code",
   "execution_count": 19,
   "metadata": {},
   "outputs": [
    {
     "data": {
      "text/plain": [
       "충전시작_년도  0     1    2     3       \n",
       "2020     강원도   강릉시  강동면   와천로          3\n",
       "                          정동역길         1\n",
       "                    강릉대로  33           1\n",
       "                    구정면   동해고속도로       3\n",
       "                          회산로          3\n",
       "                                      ..\n",
       "2022     충청북도  충주시  으뜸로   21           1\n",
       "                    주덕읍   신덕로          1\n",
       "                    중앙탑면  중부내륙고속도로    11\n",
       "                          탑평리          1\n",
       "                    지현동   696          1\n",
       "Name: 충전기 수, Length: 9496, dtype: int64"
      ]
     },
     "execution_count": 19,
     "metadata": {},
     "output_type": "execute_result"
    }
   ],
   "source": [
    "numch_group_ad4 = numch.groupby(['충전시작_년도', '0', '1', '2', '3'])['충전기ID'].count().rename('충전기 수')\n",
    "numch_group_ad4"
   ]
  },
  {
   "cell_type": "code",
   "execution_count": 55,
   "metadata": {},
   "outputs": [],
   "source": [
    "numch_group_file = pd.ExcelWriter('분석/2020-22년_년도_지역별_충전기_수.xlsx')\n",
    "numch_group_ad1.to_excel(numch_group_file, sheet_name='지역')\n",
    "numch_group_ad2.to_excel(numch_group_file, sheet_name='시군구')\n",
    "numch_group_ad3.to_excel(numch_group_file, sheet_name='읍면동')\n",
    "numch_group_ad4.to_excel(numch_group_file, sheet_name='리')\n",
    "numch_group_file.save()"
   ]
  },
  {
   "cell_type": "markdown",
   "metadata": {},
   "source": [
    "### 연도/지역별 충전기ID 개수"
   ]
  },
  {
   "cell_type": "code",
   "execution_count": 24,
   "metadata": {},
   "outputs": [
    {
     "data": {
      "text/plain": [
       "충전시작_년도  지역    시군구  충전기ID\n",
       "2020     강원도   강릉시  1        15\n",
       "                    2        11\n",
       "                    3         5\n",
       "                    4         1\n",
       "                    21        1\n",
       "                             ..\n",
       "2022     충청북도  충주시  44        2\n",
       "                    45        1\n",
       "                    81        1\n",
       "                    82        1\n",
       "                    91        1\n",
       "Name: 충전기ID 수, Length: 5040, dtype: int64"
      ]
     },
     "execution_count": 24,
     "metadata": {},
     "output_type": "execute_result"
    }
   ],
   "source": [
    "numch_group_chargerID = numch.groupby(['충전시작_년도', '지역', '시군구', '충전기ID'])['주소'].count().rename('충전기ID 수')\n",
    "numch_group_chargerID"
   ]
  },
  {
   "cell_type": "code",
   "execution_count": 28,
   "metadata": {},
   "outputs": [
    {
     "data": {
      "text/plain": [
       "지역    시군구  충전기ID  충전시작_년도\n",
       "강원도   강릉시  1      2020       15\n",
       "                  2021       17\n",
       "                  2022       20\n",
       "           2      2020       11\n",
       "                  2021       11\n",
       "                             ..\n",
       "충청북도  충주시  81     2022        1\n",
       "           82     2022        1\n",
       "           91     2020        1\n",
       "                  2021        1\n",
       "                  2022        1\n",
       "Name: 충전기ID 수, Length: 5040, dtype: int64"
      ]
     },
     "execution_count": 28,
     "metadata": {},
     "output_type": "execute_result"
    }
   ],
   "source": [
    "numch_group_chargerID_y = numch.groupby(['지역', '시군구', '충전기ID', '충전시작_년도'])['주소'].count().rename('충전기ID 수')\n",
    "numch_group_chargerID_y"
   ]
  },
  {
   "cell_type": "code",
   "execution_count": 49,
   "metadata": {},
   "outputs": [
    {
     "data": {
      "text/plain": [
       "지역    시군구  충전시작_년도\n",
       "강원도   강릉시  2020                [4, 1, 3, 2, 52, 42, 41, 43, 44, 21, 22]\n",
       "           2021            [3, 1, 52, 2, 4, 42, 43, 41, 22, 21, 44, 45]\n",
       "           2022               [1, 2, 3, 52, 22, 21, 42, 45, 43, 41, 44]\n",
       "      고성군  2020                                          [12, 11, 1, 2]\n",
       "           2021                                          [12, 2, 1, 11]\n",
       "                                            ...                        \n",
       "충청북도  청주시  2021          [1, 43, 2, 12, 11, 42, 52, 41, 45, 22, 21, 44]\n",
       "           2022       [1, 12, 41, 11, 2, 21, 22, 52, 44, 42, 45, 43,...\n",
       "      충주시  2020          [1, 11, 12, 2, 91, 41, 42, 45, 44, 43, 21, 22]\n",
       "           2021       [1, 12, 42, 41, 2, 43, 11, 44, 45, 91, 22, 21,...\n",
       "           2022       [1, 12, 21, 22, 91, 2, 44, 42, 45, 24, 43, 11,...\n",
       "Name: 충전기ID 값, Length: 744, dtype: object"
      ]
     },
     "execution_count": 49,
     "metadata": {},
     "output_type": "execute_result"
    }
   ],
   "source": [
    "numch_group_chargerID_y_u = numch.groupby(['지역', '시군구', '충전시작_년도'])['충전기ID'].unique().rename('충전기ID 값')\n",
    "numch_group_chargerID_y_u"
   ]
  },
  {
   "cell_type": "code",
   "execution_count": 50,
   "metadata": {},
   "outputs": [
    {
     "data": {
      "text/plain": [
       "(744,)"
      ]
     },
     "execution_count": 50,
     "metadata": {},
     "output_type": "execute_result"
    }
   ],
   "source": [
    "numch_group_chargerID_y_u.shape"
   ]
  },
  {
   "cell_type": "code",
   "execution_count": 51,
   "metadata": {},
   "outputs": [
    {
     "data": {
      "text/plain": [
       "array([ 4,  1,  3,  2, 52, 42, 41, 43, 44, 21, 22], dtype=int8)"
      ]
     },
     "execution_count": 51,
     "metadata": {},
     "output_type": "execute_result"
    }
   ],
   "source": [
    "numch_group_chargerID_y_u.iloc[0]"
   ]
  },
  {
   "cell_type": "code",
   "execution_count": 52,
   "metadata": {},
   "outputs": [],
   "source": [
    "for i, one in enumerate(numch_group_chargerID_y_u):\n",
    "    numch_group_chargerID_y_u.iloc[i] = sorted(one)"
   ]
  },
  {
   "cell_type": "code",
   "execution_count": 53,
   "metadata": {},
   "outputs": [
    {
     "data": {
      "text/plain": [
       "지역    시군구  충전시작_년도\n",
       "강원도   강릉시  2020                [1, 2, 3, 4, 21, 22, 41, 42, 43, 44, 52]\n",
       "           2021            [1, 2, 3, 4, 21, 22, 41, 42, 43, 44, 45, 52]\n",
       "           2022               [1, 2, 3, 21, 22, 41, 42, 43, 44, 45, 52]\n",
       "      고성군  2020                                          [1, 2, 11, 12]\n",
       "           2021                                          [1, 2, 11, 12]\n",
       "                                            ...                        \n",
       "충청북도  청주시  2021          [1, 2, 11, 12, 21, 22, 41, 42, 43, 44, 45, 52]\n",
       "           2022       [1, 2, 3, 11, 12, 21, 22, 23, 24, 41, 42, 43, ...\n",
       "      충주시  2020          [1, 2, 11, 12, 21, 22, 41, 42, 43, 44, 45, 91]\n",
       "           2021       [1, 2, 11, 12, 21, 22, 23, 24, 41, 42, 43, 44,...\n",
       "           2022       [1, 2, 3, 4, 11, 12, 21, 22, 23, 24, 41, 42, 4...\n",
       "Name: 충전기ID 값, Length: 744, dtype: object"
      ]
     },
     "execution_count": 53,
     "metadata": {},
     "output_type": "execute_result"
    }
   ],
   "source": [
    "numch_group_chargerID_y_u"
   ]
  },
  {
   "cell_type": "code",
   "execution_count": 54,
   "metadata": {},
   "outputs": [
    {
     "data": {
      "text/plain": [
       "지역    시군구  충전시작_년도\n",
       "강원도   강릉시  2020       11\n",
       "           2021       12\n",
       "           2022       11\n",
       "      고성군  2020        4\n",
       "           2021        4\n",
       "                      ..\n",
       "충청북도  청주시  2021       12\n",
       "           2022       15\n",
       "      충주시  2020       12\n",
       "           2021       14\n",
       "           2022       18\n",
       "Name: 충전기ID 개수, Length: 744, dtype: int64"
      ]
     },
     "execution_count": 54,
     "metadata": {},
     "output_type": "execute_result"
    }
   ],
   "source": [
    "numch_group_chargerID_y_nu = numch.groupby(['지역', '시군구', '충전시작_년도'])['충전기ID'].nunique().rename('충전기ID 개수')\n",
    "numch_group_chargerID_y_nu"
   ]
  },
  {
   "cell_type": "code",
   "execution_count": 55,
   "metadata": {},
   "outputs": [],
   "source": [
    "numch_group_chargerID_file = pd.ExcelWriter('분석/2020-22년_년도_지역별_충전기ID_수.xlsx')\n",
    "numch_group_chargerID.to_excel(numch_group_chargerID_file, sheet_name='sheet1')\n",
    "numch_group_chargerID_y.to_excel(numch_group_chargerID_file, sheet_name='sheet2')\n",
    "numch_group_chargerID_y_u.to_excel(numch_group_chargerID_file, sheet_name='sheet3')\n",
    "numch_group_chargerID_y_nu.to_excel(numch_group_chargerID_file, sheet_name='sheet4')\n",
    "numch_group_chargerID_file.save()"
   ]
  },
  {
   "cell_type": "markdown",
   "metadata": {},
   "source": [
    "# 코드 마지막"
   ]
  }
 ],
 "metadata": {
  "kernelspec": {
   "display_name": "Python 3.9.13 ('base')",
   "language": "python",
   "name": "python3"
  },
  "language_info": {
   "codemirror_mode": {
    "name": "ipython",
    "version": 3
   },
   "file_extension": ".py",
   "mimetype": "text/x-python",
   "name": "python",
   "nbconvert_exporter": "python",
   "pygments_lexer": "ipython3",
   "version": "3.9.13"
  },
  "orig_nbformat": 4,
  "vscode": {
   "interpreter": {
    "hash": "ad2bdc8ecc057115af97d19610ffacc2b4e99fae6737bb82f5d7fb13d2f2c186"
   }
  }
 },
 "nbformat": 4,
 "nbformat_minor": 2
}
