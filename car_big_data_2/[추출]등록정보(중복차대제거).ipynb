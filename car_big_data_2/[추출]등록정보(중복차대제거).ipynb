{
 "cells": [
  {
   "attachments": {},
   "cell_type": "markdown",
   "metadata": {},
   "source": [
    "# Library"
   ]
  },
  {
   "cell_type": "code",
   "execution_count": 1,
   "metadata": {},
   "outputs": [],
   "source": [
    "# import modin.pandas as pd # 경로가 길어지거나 못 읽는 듯\n",
    "import pandas as pd\n",
    "import numpy as np\n",
    "import os"
   ]
  },
  {
   "attachments": {},
   "cell_type": "markdown",
   "metadata": {},
   "source": [
    "# [ODS]자동차 등록정보(CEG_CAR_MIG)"
   ]
  },
  {
   "attachments": {},
   "cell_type": "markdown",
   "metadata": {},
   "source": [
    "## columns명 한글로 변환 준비"
   ]
  },
  {
   "cell_type": "code",
   "execution_count": 2,
   "metadata": {},
   "outputs": [],
   "source": [
    "name = 'CEG_CAR_MIG'\n",
    "ex = pd.read_excel(f'analysis/ODSvsSTD/[정제]{name}.xlsx', sheet_name='ODS_col')"
   ]
  },
  {
   "cell_type": "code",
   "execution_count": 3,
   "metadata": {},
   "outputs": [
    {
     "data": {
      "text/html": [
       "<div>\n",
       "<style scoped>\n",
       "    .dataframe tbody tr th:only-of-type {\n",
       "        vertical-align: middle;\n",
       "    }\n",
       "\n",
       "    .dataframe tbody tr th {\n",
       "        vertical-align: top;\n",
       "    }\n",
       "\n",
       "    .dataframe thead th {\n",
       "        text-align: right;\n",
       "    }\n",
       "</style>\n",
       "<table border=\"1\" class=\"dataframe\">\n",
       "  <thead>\n",
       "    <tr style=\"text-align: right;\">\n",
       "      <th></th>\n",
       "      <th>컬럼</th>\n",
       "      <th>내용</th>\n",
       "    </tr>\n",
       "  </thead>\n",
       "  <tbody>\n",
       "    <tr>\n",
       "      <th>0</th>\n",
       "      <td>UPDT_DT</td>\n",
       "      <td>수정 일시</td>\n",
       "    </tr>\n",
       "    <tr>\n",
       "      <th>1</th>\n",
       "      <td>OWNR_SE</td>\n",
       "      <td>소유자 구분</td>\n",
       "    </tr>\n",
       "    <tr>\n",
       "      <th>2</th>\n",
       "      <td>VHRNO</td>\n",
       "      <td>차량등록번호</td>\n",
       "    </tr>\n",
       "    <tr>\n",
       "      <th>3</th>\n",
       "      <td>BSPL_LEDO_CD</td>\n",
       "      <td>본거지 법정동 코드</td>\n",
       "    </tr>\n",
       "    <tr>\n",
       "      <th>4</th>\n",
       "      <td>CRTN_DT</td>\n",
       "      <td>생성 일시</td>\n",
       "    </tr>\n",
       "    <tr>\n",
       "      <th>5</th>\n",
       "      <td>PURPS</td>\n",
       "      <td>용도</td>\n",
       "    </tr>\n",
       "    <tr>\n",
       "      <th>6</th>\n",
       "      <td>EMIS_INSP_EFCT_DE</td>\n",
       "      <td>배출가스검사유효일자</td>\n",
       "    </tr>\n",
       "    <tr>\n",
       "      <th>7</th>\n",
       "      <td>EMIS_CRTCNO</td>\n",
       "      <td>배출가스 인증번호</td>\n",
       "    </tr>\n",
       "    <tr>\n",
       "      <th>8</th>\n",
       "      <td>NOW_MBERNO</td>\n",
       "      <td>현재 회원번호</td>\n",
       "    </tr>\n",
       "    <tr>\n",
       "      <th>9</th>\n",
       "      <td>ACQS_DE</td>\n",
       "      <td>취득 일자</td>\n",
       "    </tr>\n",
       "    <tr>\n",
       "      <th>10</th>\n",
       "      <td>ACQS_AMT</td>\n",
       "      <td>취득 금액</td>\n",
       "    </tr>\n",
       "    <tr>\n",
       "      <th>11</th>\n",
       "      <td>FST_MBERNO</td>\n",
       "      <td>최초 회원번호</td>\n",
       "    </tr>\n",
       "    <tr>\n",
       "      <th>12</th>\n",
       "      <td>FST_REG_DE</td>\n",
       "      <td>최초 등록 일자</td>\n",
       "    </tr>\n",
       "    <tr>\n",
       "      <th>13</th>\n",
       "      <td>VHCTY</td>\n",
       "      <td>차종</td>\n",
       "    </tr>\n",
       "    <tr>\n",
       "      <th>14</th>\n",
       "      <td>VHRNO_NUM_INFO</td>\n",
       "      <td>차량등록번호 숫자 정보</td>\n",
       "    </tr>\n",
       "    <tr>\n",
       "      <th>15</th>\n",
       "      <td>VHMNO</td>\n",
       "      <td>차량관리번호</td>\n",
       "    </tr>\n",
       "    <tr>\n",
       "      <th>16</th>\n",
       "      <td>VHCL_MNFCT_DE</td>\n",
       "      <td>차량 제작 일자</td>\n",
       "    </tr>\n",
       "    <tr>\n",
       "      <th>17</th>\n",
       "      <td>VHCL_YRIDNW</td>\n",
       "      <td>차량 연식</td>\n",
       "    </tr>\n",
       "    <tr>\n",
       "      <th>18</th>\n",
       "      <td>VHCL_ERSR_YN</td>\n",
       "      <td>차량 말소 YN</td>\n",
       "    </tr>\n",
       "    <tr>\n",
       "      <th>19</th>\n",
       "      <td>VIN</td>\n",
       "      <td>차대번호</td>\n",
       "    </tr>\n",
       "    <tr>\n",
       "      <th>20</th>\n",
       "      <td>SRCMNNO</td>\n",
       "      <td>제원관리번호</td>\n",
       "    </tr>\n",
       "    <tr>\n",
       "      <th>21</th>\n",
       "      <td>EMIS_GRD</td>\n",
       "      <td>배출가스 등급</td>\n",
       "    </tr>\n",
       "    <tr>\n",
       "      <th>22</th>\n",
       "      <td>LEM_KND</td>\n",
       "      <td>저공해조치 종류</td>\n",
       "    </tr>\n",
       "    <tr>\n",
       "      <th>23</th>\n",
       "      <td>LEM_STRCHG_YN</td>\n",
       "      <td>저공해조치 구조변경 YN</td>\n",
       "    </tr>\n",
       "    <tr>\n",
       "      <th>24</th>\n",
       "      <td>LEM_YN</td>\n",
       "      <td>저공해조치 YN(미사용)</td>\n",
       "    </tr>\n",
       "    <tr>\n",
       "      <th>25</th>\n",
       "      <td>NOW_OWNR_NM</td>\n",
       "      <td>미정</td>\n",
       "    </tr>\n",
       "    <tr>\n",
       "      <th>26</th>\n",
       "      <td>BSPL_ADRS</td>\n",
       "      <td>미정</td>\n",
       "    </tr>\n",
       "    <tr>\n",
       "      <th>27</th>\n",
       "      <td>OWNR_ADRS</td>\n",
       "      <td>미정</td>\n",
       "    </tr>\n",
       "    <tr>\n",
       "      <th>28</th>\n",
       "      <td>BSPL_ZIP</td>\n",
       "      <td>미정</td>\n",
       "    </tr>\n",
       "    <tr>\n",
       "      <th>29</th>\n",
       "      <td>FST_OWNR_NM</td>\n",
       "      <td>미정</td>\n",
       "    </tr>\n",
       "    <tr>\n",
       "      <th>30</th>\n",
       "      <td>RMK</td>\n",
       "      <td>미정</td>\n",
       "    </tr>\n",
       "    <tr>\n",
       "      <th>31</th>\n",
       "      <td>USER_ID</td>\n",
       "      <td>미정</td>\n",
       "    </tr>\n",
       "  </tbody>\n",
       "</table>\n",
       "</div>"
      ],
      "text/plain": [
       "                   컬럼             내용\n",
       "0             UPDT_DT          수정 일시\n",
       "1             OWNR_SE         소유자 구분\n",
       "2               VHRNO         차량등록번호\n",
       "3        BSPL_LEDO_CD     본거지 법정동 코드\n",
       "4             CRTN_DT          생성 일시\n",
       "5               PURPS             용도\n",
       "6   EMIS_INSP_EFCT_DE     배출가스검사유효일자\n",
       "7         EMIS_CRTCNO      배출가스 인증번호\n",
       "8          NOW_MBERNO        현재 회원번호\n",
       "9             ACQS_DE          취득 일자\n",
       "10           ACQS_AMT          취득 금액\n",
       "11         FST_MBERNO        최초 회원번호\n",
       "12         FST_REG_DE       최초 등록 일자\n",
       "13              VHCTY             차종\n",
       "14     VHRNO_NUM_INFO   차량등록번호 숫자 정보\n",
       "15              VHMNO         차량관리번호\n",
       "16      VHCL_MNFCT_DE       차량 제작 일자\n",
       "17        VHCL_YRIDNW          차량 연식\n",
       "18       VHCL_ERSR_YN       차량 말소 YN\n",
       "19                VIN           차대번호\n",
       "20            SRCMNNO         제원관리번호\n",
       "21           EMIS_GRD        배출가스 등급\n",
       "22            LEM_KND       저공해조치 종류\n",
       "23      LEM_STRCHG_YN  저공해조치 구조변경 YN\n",
       "24             LEM_YN  저공해조치 YN(미사용)\n",
       "25        NOW_OWNR_NM             미정\n",
       "26          BSPL_ADRS             미정\n",
       "27          OWNR_ADRS             미정\n",
       "28           BSPL_ZIP             미정\n",
       "29        FST_OWNR_NM             미정\n",
       "30                RMK             미정\n",
       "31            USER_ID             미정"
      ]
     },
     "execution_count": 3,
     "metadata": {},
     "output_type": "execute_result"
    }
   ],
   "source": [
    "ex"
   ]
  },
  {
   "cell_type": "code",
   "execution_count": 4,
   "metadata": {},
   "outputs": [
    {
     "data": {
      "text/plain": [
       "{'UPDT_DT': '수정 일시',\n",
       " 'OWNR_SE': '소유자 구분',\n",
       " 'VHRNO': '차량등록번호',\n",
       " 'BSPL_LEDO_CD': '본거지 법정동 코드',\n",
       " 'CRTN_DT': '생성 일시',\n",
       " 'PURPS': '용도',\n",
       " 'EMIS_INSP_EFCT_DE': '배출가스검사유효일자',\n",
       " 'EMIS_CRTCNO': '배출가스 인증번호',\n",
       " 'NOW_MBERNO': '현재 회원번호',\n",
       " 'ACQS_DE': '취득 일자',\n",
       " 'ACQS_AMT': '취득 금액',\n",
       " 'FST_MBERNO': '최초 회원번호',\n",
       " 'FST_REG_DE': '최초 등록 일자',\n",
       " 'VHCTY': '차종',\n",
       " 'VHRNO_NUM_INFO': '차량등록번호 숫자 정보',\n",
       " 'VHMNO': '차량관리번호',\n",
       " 'VHCL_MNFCT_DE': '차량 제작 일자',\n",
       " 'VHCL_YRIDNW': '차량 연식',\n",
       " 'VHCL_ERSR_YN': '차량 말소 YN',\n",
       " 'VIN': '차대번호',\n",
       " 'SRCMNNO': '제원관리번호',\n",
       " 'EMIS_GRD': '배출가스 등급',\n",
       " 'LEM_KND': '저공해조치 종류',\n",
       " 'LEM_STRCHG_YN': '저공해조치 구조변경 YN',\n",
       " 'LEM_YN': '저공해조치 YN(미사용)',\n",
       " 'NOW_OWNR_NM': '미정',\n",
       " 'BSPL_ADRS': '미정',\n",
       " 'OWNR_ADRS': '미정',\n",
       " 'BSPL_ZIP': '미정',\n",
       " 'FST_OWNR_NM': '미정',\n",
       " 'RMK': '미정',\n",
       " 'USER_ID': '미정'}"
      ]
     },
     "execution_count": 4,
     "metadata": {},
     "output_type": "execute_result"
    }
   ],
   "source": [
    "col_dict = {a:b for a, b in zip(ex['컬럼'].to_list(), ex['내용'].to_list())}\n",
    "col_dict"
   ]
  },
  {
   "attachments": {},
   "cell_type": "markdown",
   "metadata": {},
   "source": [
    "## [로드]"
   ]
  },
  {
   "cell_type": "code",
   "execution_count": 5,
   "metadata": {},
   "outputs": [],
   "source": [
    "ods_fold = 'D:/data/big2/ODS'\n",
    "ods_path = os.path.join(ods_fold, f'ODS_{name}.csv')"
   ]
  },
  {
   "cell_type": "code",
   "execution_count": 6,
   "metadata": {},
   "outputs": [],
   "source": [
    "# pandas : about 10m\n",
    "# modin : error 파일 경로 긴 문제?\n",
    "df = pd.read_csv(ods_path, low_memory=False, index_col=0)"
   ]
  },
  {
   "cell_type": "code",
   "execution_count": 7,
   "metadata": {},
   "outputs": [
    {
     "name": "stdout",
     "output_type": "stream",
     "text": [
      "<class 'pandas.core.frame.DataFrame'>\n",
      "Int64Index: 29534047 entries, 0 to 29534046\n",
      "Data columns (total 32 columns):\n",
      " #   Column             Dtype  \n",
      "---  ------             -----  \n",
      " 0   VHMNO              object \n",
      " 1   VHRNO              object \n",
      " 2   BSPL_LEDO_CD       int64  \n",
      " 3   OWNR_SE            object \n",
      " 4   VHCTY              object \n",
      " 5   PURPS              object \n",
      " 6   NOW_OWNR_NM        object \n",
      " 7   NOW_MBERNO         object \n",
      " 8   BSPL_ADRS          object \n",
      " 9   OWNR_ADRS          object \n",
      " 10  VIN                object \n",
      " 11  FST_REG_DE         int64  \n",
      " 12  VHCL_YRIDNW        int64  \n",
      " 13  VHCL_MNFCT_DE      object \n",
      " 14  EMIS_INSP_EFCT_DE  float64\n",
      " 15  SRCMNNO            object \n",
      " 16  EMIS_CRTCNO        object \n",
      " 17  EMIS_GRD           object \n",
      " 18  LEM_YN             object \n",
      " 19  LEM_KND            float64\n",
      " 20  LEM_STRCHG_YN      object \n",
      " 21  BSPL_ZIP           float64\n",
      " 22  VHRNO_NUM_INFO     int64  \n",
      " 23  VHCL_ERSR_YN       object \n",
      " 24  FST_OWNR_NM        object \n",
      " 25  FST_MBERNO         object \n",
      " 26  ACQS_DE            object \n",
      " 27  ACQS_AMT           float64\n",
      " 28  RMK                object \n",
      " 29  CRTN_DT            object \n",
      " 30  UPDT_DT            object \n",
      " 31  USER_ID            object \n",
      "dtypes: float64(4), int64(4), object(24)\n",
      "memory usage: 7.3+ GB\n"
     ]
    }
   ],
   "source": [
    "df.info()"
   ]
  },
  {
   "cell_type": "code",
   "execution_count": 8,
   "metadata": {},
   "outputs": [
    {
     "data": {
      "text/html": [
       "<div>\n",
       "<style scoped>\n",
       "    .dataframe tbody tr th:only-of-type {\n",
       "        vertical-align: middle;\n",
       "    }\n",
       "\n",
       "    .dataframe tbody tr th {\n",
       "        vertical-align: top;\n",
       "    }\n",
       "\n",
       "    .dataframe thead th {\n",
       "        text-align: right;\n",
       "    }\n",
       "</style>\n",
       "<table border=\"1\" class=\"dataframe\">\n",
       "  <thead>\n",
       "    <tr style=\"text-align: right;\">\n",
       "      <th></th>\n",
       "      <th>VHMNO</th>\n",
       "      <th>VHRNO</th>\n",
       "      <th>BSPL_LEDO_CD</th>\n",
       "      <th>OWNR_SE</th>\n",
       "      <th>VHCTY</th>\n",
       "      <th>PURPS</th>\n",
       "      <th>NOW_OWNR_NM</th>\n",
       "      <th>NOW_MBERNO</th>\n",
       "      <th>BSPL_ADRS</th>\n",
       "      <th>OWNR_ADRS</th>\n",
       "      <th>...</th>\n",
       "      <th>VHRNO_NUM_INFO</th>\n",
       "      <th>VHCL_ERSR_YN</th>\n",
       "      <th>FST_OWNR_NM</th>\n",
       "      <th>FST_MBERNO</th>\n",
       "      <th>ACQS_DE</th>\n",
       "      <th>ACQS_AMT</th>\n",
       "      <th>RMK</th>\n",
       "      <th>CRTN_DT</th>\n",
       "      <th>UPDT_DT</th>\n",
       "      <th>USER_ID</th>\n",
       "    </tr>\n",
       "  </thead>\n",
       "  <tbody>\n",
       "    <tr>\n",
       "      <th>0</th>\n",
       "      <td>10762211742-01</td>\n",
       "      <td>서울1나4019</td>\n",
       "      <td>1165010700</td>\n",
       "      <td>O</td>\n",
       "      <td>P</td>\n",
       "      <td>P</td>\n",
       "      <td>3C89752E624558D6234883FF31231256</td>\n",
       "      <td>FFFB77E175610478415F654BFE77B2E7</td>\n",
       "      <td>94CF4601CD36E37259A508CDB9CF1BF2E583F1FA06E4C9...</td>\n",
       "      <td>94CF4601CD36E37259A508CDB9CF1BF2E583F1FA06E4C9...</td>\n",
       "      <td>...</td>\n",
       "      <td>14019</td>\n",
       "      <td>N</td>\n",
       "      <td>3C89752E624558D6234883FF31231256</td>\n",
       "      <td>7C71D518B5666D98E792700DA807B211</td>\n",
       "      <td>NaN</td>\n",
       "      <td>0.0</td>\n",
       "      <td>NaN</td>\n",
       "      <td>19/06/22</td>\n",
       "      <td>NaN</td>\n",
       "      <td>SYSTEM</td>\n",
       "    </tr>\n",
       "    <tr>\n",
       "      <th>1</th>\n",
       "      <td>KG68T122688*-01</td>\n",
       "      <td>대구1다1476</td>\n",
       "      <td>2711010500</td>\n",
       "      <td>O</td>\n",
       "      <td>P</td>\n",
       "      <td>P</td>\n",
       "      <td>A716E948EFD514847BD5C77D9B054F8A</td>\n",
       "      <td>NaN</td>\n",
       "      <td>FB1685B2F216C8F517B246583C52ECA58997FF03014780...</td>\n",
       "      <td>FB1685B2F216C8F517B246583C52ECA58997FF03014780...</td>\n",
       "      <td>...</td>\n",
       "      <td>11476</td>\n",
       "      <td>N</td>\n",
       "      <td>A716E948EFD514847BD5C77D9B054F8A</td>\n",
       "      <td>NaN</td>\n",
       "      <td>NaN</td>\n",
       "      <td>NaN</td>\n",
       "      <td>NaN</td>\n",
       "      <td>19/06/22</td>\n",
       "      <td>NaN</td>\n",
       "      <td>SYSTEM</td>\n",
       "    </tr>\n",
       "    <tr>\n",
       "      <th>2</th>\n",
       "      <td>10762211783-01</td>\n",
       "      <td>인천1마8052</td>\n",
       "      <td>2820010300</td>\n",
       "      <td>O</td>\n",
       "      <td>P</td>\n",
       "      <td>P</td>\n",
       "      <td>0F243BB4751963E628E19A5BCD6CFFCB</td>\n",
       "      <td>NaN</td>\n",
       "      <td>6A0C78943819F407C87E00116981877E301F7677D1A003...</td>\n",
       "      <td>6A0C78943819F407C87E00116981877E301F7677D1A003...</td>\n",
       "      <td>...</td>\n",
       "      <td>18052</td>\n",
       "      <td>N</td>\n",
       "      <td>FAABC328957C8639B00F98FDA7073664</td>\n",
       "      <td>NaN</td>\n",
       "      <td>NaN</td>\n",
       "      <td>NaN</td>\n",
       "      <td>NaN</td>\n",
       "      <td>19/06/22</td>\n",
       "      <td>NaN</td>\n",
       "      <td>SYSTEM</td>\n",
       "    </tr>\n",
       "    <tr>\n",
       "      <th>3</th>\n",
       "      <td>PN71C018511000000-01</td>\n",
       "      <td>87로9835</td>\n",
       "      <td>4213011200</td>\n",
       "      <td>R</td>\n",
       "      <td>T</td>\n",
       "      <td>P</td>\n",
       "      <td>73CFB46180AD3302B1A9F45E550EF6E5</td>\n",
       "      <td>DBFCB87570199614FFBB9FA11DCD4675</td>\n",
       "      <td>26F22501FA02CE68011BC524C18450B9F42F7479B268F8...</td>\n",
       "      <td>26F22501FA02CE68011BC524C18450B9F42F7479B268F8...</td>\n",
       "      <td>...</td>\n",
       "      <td>879835</td>\n",
       "      <td>N</td>\n",
       "      <td>0C20DFD151DBF872DF3867ABE606A587</td>\n",
       "      <td>CCF2FFB275E6DC4551E1E717CEC86A32</td>\n",
       "      <td>20160222</td>\n",
       "      <td>100000.0</td>\n",
       "      <td>NaN</td>\n",
       "      <td>19/06/22</td>\n",
       "      <td>NaN</td>\n",
       "      <td>SYSTEM</td>\n",
       "    </tr>\n",
       "    <tr>\n",
       "      <th>4</th>\n",
       "      <td>KMHLA11FPGU060639-01</td>\n",
       "      <td>경남1러3590</td>\n",
       "      <td>4812110500</td>\n",
       "      <td>R</td>\n",
       "      <td>P</td>\n",
       "      <td>P</td>\n",
       "      <td>0132B746078DFA5BA833D6906AD06A13</td>\n",
       "      <td>6194C458F73E4656322A364FEA4E9441</td>\n",
       "      <td>D6E42385110B0C268E42FCB99F442B91B9FB08B6708219...</td>\n",
       "      <td>D6E42385110B0C268E42FCB99F442B91B9FB08B6708219...</td>\n",
       "      <td>...</td>\n",
       "      <td>13590</td>\n",
       "      <td>N</td>\n",
       "      <td>D5845F55A1C2E8D7B93CC9E6A38B3319</td>\n",
       "      <td>NaN</td>\n",
       "      <td>NaN</td>\n",
       "      <td>NaN</td>\n",
       "      <td>NaN</td>\n",
       "      <td>19/06/22</td>\n",
       "      <td>NaN</td>\n",
       "      <td>SYSTEM</td>\n",
       "    </tr>\n",
       "  </tbody>\n",
       "</table>\n",
       "<p>5 rows × 32 columns</p>\n",
       "</div>"
      ],
      "text/plain": [
       "                  VHMNO     VHRNO  BSPL_LEDO_CD OWNR_SE VHCTY PURPS  \\\n",
       "0        10762211742-01  서울1나4019    1165010700       O     P     P   \n",
       "1       KG68T122688*-01  대구1다1476    2711010500       O     P     P   \n",
       "2        10762211783-01  인천1마8052    2820010300       O     P     P   \n",
       "3  PN71C018511000000-01   87로9835    4213011200       R     T     P   \n",
       "4  KMHLA11FPGU060639-01  경남1러3590    4812110500       R     P     P   \n",
       "\n",
       "                        NOW_OWNR_NM                        NOW_MBERNO  \\\n",
       "0  3C89752E624558D6234883FF31231256  FFFB77E175610478415F654BFE77B2E7   \n",
       "1  A716E948EFD514847BD5C77D9B054F8A                               NaN   \n",
       "2  0F243BB4751963E628E19A5BCD6CFFCB                               NaN   \n",
       "3  73CFB46180AD3302B1A9F45E550EF6E5  DBFCB87570199614FFBB9FA11DCD4675   \n",
       "4  0132B746078DFA5BA833D6906AD06A13  6194C458F73E4656322A364FEA4E9441   \n",
       "\n",
       "                                           BSPL_ADRS  \\\n",
       "0  94CF4601CD36E37259A508CDB9CF1BF2E583F1FA06E4C9...   \n",
       "1  FB1685B2F216C8F517B246583C52ECA58997FF03014780...   \n",
       "2  6A0C78943819F407C87E00116981877E301F7677D1A003...   \n",
       "3  26F22501FA02CE68011BC524C18450B9F42F7479B268F8...   \n",
       "4  D6E42385110B0C268E42FCB99F442B91B9FB08B6708219...   \n",
       "\n",
       "                                           OWNR_ADRS  ... VHRNO_NUM_INFO  \\\n",
       "0  94CF4601CD36E37259A508CDB9CF1BF2E583F1FA06E4C9...  ...          14019   \n",
       "1  FB1685B2F216C8F517B246583C52ECA58997FF03014780...  ...          11476   \n",
       "2  6A0C78943819F407C87E00116981877E301F7677D1A003...  ...          18052   \n",
       "3  26F22501FA02CE68011BC524C18450B9F42F7479B268F8...  ...         879835   \n",
       "4  D6E42385110B0C268E42FCB99F442B91B9FB08B6708219...  ...          13590   \n",
       "\n",
       "   VHCL_ERSR_YN                       FST_OWNR_NM  \\\n",
       "0             N  3C89752E624558D6234883FF31231256   \n",
       "1             N  A716E948EFD514847BD5C77D9B054F8A   \n",
       "2             N  FAABC328957C8639B00F98FDA7073664   \n",
       "3             N  0C20DFD151DBF872DF3867ABE606A587   \n",
       "4             N  D5845F55A1C2E8D7B93CC9E6A38B3319   \n",
       "\n",
       "                         FST_MBERNO   ACQS_DE  ACQS_AMT  RMK   CRTN_DT  \\\n",
       "0  7C71D518B5666D98E792700DA807B211       NaN       0.0  NaN  19/06/22   \n",
       "1                               NaN       NaN       NaN  NaN  19/06/22   \n",
       "2                               NaN       NaN       NaN  NaN  19/06/22   \n",
       "3  CCF2FFB275E6DC4551E1E717CEC86A32  20160222  100000.0  NaN  19/06/22   \n",
       "4                               NaN       NaN       NaN  NaN  19/06/22   \n",
       "\n",
       "  UPDT_DT  USER_ID  \n",
       "0     NaN   SYSTEM  \n",
       "1     NaN   SYSTEM  \n",
       "2     NaN   SYSTEM  \n",
       "3     NaN   SYSTEM  \n",
       "4     NaN   SYSTEM  \n",
       "\n",
       "[5 rows x 32 columns]"
      ]
     },
     "execution_count": 8,
     "metadata": {},
     "output_type": "execute_result"
    }
   ],
   "source": [
    "df.head()"
   ]
  },
  {
   "cell_type": "code",
   "execution_count": 9,
   "metadata": {},
   "outputs": [
    {
     "data": {
      "text/plain": [
       "['차량관리번호',\n",
       " '차량등록번호',\n",
       " '본거지 법정동 코드',\n",
       " '소유자 구분',\n",
       " '차종',\n",
       " '용도',\n",
       " '미정',\n",
       " '현재 회원번호',\n",
       " '미정',\n",
       " '미정',\n",
       " '차대번호',\n",
       " '최초 등록 일자',\n",
       " '차량 연식',\n",
       " '차량 제작 일자',\n",
       " '배출가스검사유효일자',\n",
       " '제원관리번호',\n",
       " '배출가스 인증번호',\n",
       " '배출가스 등급',\n",
       " '저공해조치 YN(미사용)',\n",
       " '저공해조치 종류',\n",
       " '저공해조치 구조변경 YN',\n",
       " '미정',\n",
       " '차량등록번호 숫자 정보',\n",
       " '차량 말소 YN',\n",
       " '미정',\n",
       " '최초 회원번호',\n",
       " '취득 일자',\n",
       " '취득 금액',\n",
       " '미정',\n",
       " '생성 일시',\n",
       " '수정 일시',\n",
       " '미정']"
      ]
     },
     "execution_count": 9,
     "metadata": {},
     "output_type": "execute_result"
    }
   ],
   "source": [
    "col = [col_dict[x] for x in df.columns]\n",
    "col"
   ]
  },
  {
   "cell_type": "code",
   "execution_count": 10,
   "metadata": {},
   "outputs": [
    {
     "data": {
      "text/html": [
       "<div>\n",
       "<style scoped>\n",
       "    .dataframe tbody tr th:only-of-type {\n",
       "        vertical-align: middle;\n",
       "    }\n",
       "\n",
       "    .dataframe tbody tr th {\n",
       "        vertical-align: top;\n",
       "    }\n",
       "\n",
       "    .dataframe thead th {\n",
       "        text-align: right;\n",
       "    }\n",
       "</style>\n",
       "<table border=\"1\" class=\"dataframe\">\n",
       "  <thead>\n",
       "    <tr style=\"text-align: right;\">\n",
       "      <th></th>\n",
       "      <th>차량관리번호</th>\n",
       "      <th>차량등록번호</th>\n",
       "      <th>본거지 법정동 코드</th>\n",
       "      <th>소유자 구분</th>\n",
       "      <th>차종</th>\n",
       "      <th>용도</th>\n",
       "      <th>미정</th>\n",
       "      <th>현재 회원번호</th>\n",
       "      <th>미정</th>\n",
       "      <th>미정</th>\n",
       "      <th>...</th>\n",
       "      <th>차량등록번호 숫자 정보</th>\n",
       "      <th>차량 말소 YN</th>\n",
       "      <th>미정</th>\n",
       "      <th>최초 회원번호</th>\n",
       "      <th>취득 일자</th>\n",
       "      <th>취득 금액</th>\n",
       "      <th>미정</th>\n",
       "      <th>생성 일시</th>\n",
       "      <th>수정 일시</th>\n",
       "      <th>미정</th>\n",
       "    </tr>\n",
       "  </thead>\n",
       "  <tbody>\n",
       "    <tr>\n",
       "      <th>0</th>\n",
       "      <td>10762211742-01</td>\n",
       "      <td>서울1나4019</td>\n",
       "      <td>1165010700</td>\n",
       "      <td>O</td>\n",
       "      <td>P</td>\n",
       "      <td>P</td>\n",
       "      <td>3C89752E624558D6234883FF31231256</td>\n",
       "      <td>FFFB77E175610478415F654BFE77B2E7</td>\n",
       "      <td>94CF4601CD36E37259A508CDB9CF1BF2E583F1FA06E4C9...</td>\n",
       "      <td>94CF4601CD36E37259A508CDB9CF1BF2E583F1FA06E4C9...</td>\n",
       "      <td>...</td>\n",
       "      <td>14019</td>\n",
       "      <td>N</td>\n",
       "      <td>3C89752E624558D6234883FF31231256</td>\n",
       "      <td>7C71D518B5666D98E792700DA807B211</td>\n",
       "      <td>NaN</td>\n",
       "      <td>0.0</td>\n",
       "      <td>NaN</td>\n",
       "      <td>19/06/22</td>\n",
       "      <td>NaN</td>\n",
       "      <td>SYSTEM</td>\n",
       "    </tr>\n",
       "    <tr>\n",
       "      <th>1</th>\n",
       "      <td>KG68T122688*-01</td>\n",
       "      <td>대구1다1476</td>\n",
       "      <td>2711010500</td>\n",
       "      <td>O</td>\n",
       "      <td>P</td>\n",
       "      <td>P</td>\n",
       "      <td>A716E948EFD514847BD5C77D9B054F8A</td>\n",
       "      <td>NaN</td>\n",
       "      <td>FB1685B2F216C8F517B246583C52ECA58997FF03014780...</td>\n",
       "      <td>FB1685B2F216C8F517B246583C52ECA58997FF03014780...</td>\n",
       "      <td>...</td>\n",
       "      <td>11476</td>\n",
       "      <td>N</td>\n",
       "      <td>A716E948EFD514847BD5C77D9B054F8A</td>\n",
       "      <td>NaN</td>\n",
       "      <td>NaN</td>\n",
       "      <td>NaN</td>\n",
       "      <td>NaN</td>\n",
       "      <td>19/06/22</td>\n",
       "      <td>NaN</td>\n",
       "      <td>SYSTEM</td>\n",
       "    </tr>\n",
       "    <tr>\n",
       "      <th>2</th>\n",
       "      <td>10762211783-01</td>\n",
       "      <td>인천1마8052</td>\n",
       "      <td>2820010300</td>\n",
       "      <td>O</td>\n",
       "      <td>P</td>\n",
       "      <td>P</td>\n",
       "      <td>0F243BB4751963E628E19A5BCD6CFFCB</td>\n",
       "      <td>NaN</td>\n",
       "      <td>6A0C78943819F407C87E00116981877E301F7677D1A003...</td>\n",
       "      <td>6A0C78943819F407C87E00116981877E301F7677D1A003...</td>\n",
       "      <td>...</td>\n",
       "      <td>18052</td>\n",
       "      <td>N</td>\n",
       "      <td>FAABC328957C8639B00F98FDA7073664</td>\n",
       "      <td>NaN</td>\n",
       "      <td>NaN</td>\n",
       "      <td>NaN</td>\n",
       "      <td>NaN</td>\n",
       "      <td>19/06/22</td>\n",
       "      <td>NaN</td>\n",
       "      <td>SYSTEM</td>\n",
       "    </tr>\n",
       "    <tr>\n",
       "      <th>3</th>\n",
       "      <td>PN71C018511000000-01</td>\n",
       "      <td>87로9835</td>\n",
       "      <td>4213011200</td>\n",
       "      <td>R</td>\n",
       "      <td>T</td>\n",
       "      <td>P</td>\n",
       "      <td>73CFB46180AD3302B1A9F45E550EF6E5</td>\n",
       "      <td>DBFCB87570199614FFBB9FA11DCD4675</td>\n",
       "      <td>26F22501FA02CE68011BC524C18450B9F42F7479B268F8...</td>\n",
       "      <td>26F22501FA02CE68011BC524C18450B9F42F7479B268F8...</td>\n",
       "      <td>...</td>\n",
       "      <td>879835</td>\n",
       "      <td>N</td>\n",
       "      <td>0C20DFD151DBF872DF3867ABE606A587</td>\n",
       "      <td>CCF2FFB275E6DC4551E1E717CEC86A32</td>\n",
       "      <td>20160222</td>\n",
       "      <td>100000.0</td>\n",
       "      <td>NaN</td>\n",
       "      <td>19/06/22</td>\n",
       "      <td>NaN</td>\n",
       "      <td>SYSTEM</td>\n",
       "    </tr>\n",
       "    <tr>\n",
       "      <th>4</th>\n",
       "      <td>KMHLA11FPGU060639-01</td>\n",
       "      <td>경남1러3590</td>\n",
       "      <td>4812110500</td>\n",
       "      <td>R</td>\n",
       "      <td>P</td>\n",
       "      <td>P</td>\n",
       "      <td>0132B746078DFA5BA833D6906AD06A13</td>\n",
       "      <td>6194C458F73E4656322A364FEA4E9441</td>\n",
       "      <td>D6E42385110B0C268E42FCB99F442B91B9FB08B6708219...</td>\n",
       "      <td>D6E42385110B0C268E42FCB99F442B91B9FB08B6708219...</td>\n",
       "      <td>...</td>\n",
       "      <td>13590</td>\n",
       "      <td>N</td>\n",
       "      <td>D5845F55A1C2E8D7B93CC9E6A38B3319</td>\n",
       "      <td>NaN</td>\n",
       "      <td>NaN</td>\n",
       "      <td>NaN</td>\n",
       "      <td>NaN</td>\n",
       "      <td>19/06/22</td>\n",
       "      <td>NaN</td>\n",
       "      <td>SYSTEM</td>\n",
       "    </tr>\n",
       "  </tbody>\n",
       "</table>\n",
       "<p>5 rows × 32 columns</p>\n",
       "</div>"
      ],
      "text/plain": [
       "                 차량관리번호    차량등록번호  본거지 법정동 코드 소유자 구분 차종 용도  \\\n",
       "0        10762211742-01  서울1나4019  1165010700      O  P  P   \n",
       "1       KG68T122688*-01  대구1다1476  2711010500      O  P  P   \n",
       "2        10762211783-01  인천1마8052  2820010300      O  P  P   \n",
       "3  PN71C018511000000-01   87로9835  4213011200      R  T  P   \n",
       "4  KMHLA11FPGU060639-01  경남1러3590  4812110500      R  P  P   \n",
       "\n",
       "                                 미정                           현재 회원번호  \\\n",
       "0  3C89752E624558D6234883FF31231256  FFFB77E175610478415F654BFE77B2E7   \n",
       "1  A716E948EFD514847BD5C77D9B054F8A                               NaN   \n",
       "2  0F243BB4751963E628E19A5BCD6CFFCB                               NaN   \n",
       "3  73CFB46180AD3302B1A9F45E550EF6E5  DBFCB87570199614FFBB9FA11DCD4675   \n",
       "4  0132B746078DFA5BA833D6906AD06A13  6194C458F73E4656322A364FEA4E9441   \n",
       "\n",
       "                                                  미정  \\\n",
       "0  94CF4601CD36E37259A508CDB9CF1BF2E583F1FA06E4C9...   \n",
       "1  FB1685B2F216C8F517B246583C52ECA58997FF03014780...   \n",
       "2  6A0C78943819F407C87E00116981877E301F7677D1A003...   \n",
       "3  26F22501FA02CE68011BC524C18450B9F42F7479B268F8...   \n",
       "4  D6E42385110B0C268E42FCB99F442B91B9FB08B6708219...   \n",
       "\n",
       "                                                  미정  ... 차량등록번호 숫자 정보  \\\n",
       "0  94CF4601CD36E37259A508CDB9CF1BF2E583F1FA06E4C9...  ...        14019   \n",
       "1  FB1685B2F216C8F517B246583C52ECA58997FF03014780...  ...        11476   \n",
       "2  6A0C78943819F407C87E00116981877E301F7677D1A003...  ...        18052   \n",
       "3  26F22501FA02CE68011BC524C18450B9F42F7479B268F8...  ...       879835   \n",
       "4  D6E42385110B0C268E42FCB99F442B91B9FB08B6708219...  ...        13590   \n",
       "\n",
       "   차량 말소 YN                                미정  \\\n",
       "0         N  3C89752E624558D6234883FF31231256   \n",
       "1         N  A716E948EFD514847BD5C77D9B054F8A   \n",
       "2         N  FAABC328957C8639B00F98FDA7073664   \n",
       "3         N  0C20DFD151DBF872DF3867ABE606A587   \n",
       "4         N  D5845F55A1C2E8D7B93CC9E6A38B3319   \n",
       "\n",
       "                            최초 회원번호     취득 일자     취득 금액   미정     생성 일시 수정 일시  \\\n",
       "0  7C71D518B5666D98E792700DA807B211       NaN       0.0  NaN  19/06/22   NaN   \n",
       "1                               NaN       NaN       NaN  NaN  19/06/22   NaN   \n",
       "2                               NaN       NaN       NaN  NaN  19/06/22   NaN   \n",
       "3  CCF2FFB275E6DC4551E1E717CEC86A32  20160222  100000.0  NaN  19/06/22   NaN   \n",
       "4                               NaN       NaN       NaN  NaN  19/06/22   NaN   \n",
       "\n",
       "       미정  \n",
       "0  SYSTEM  \n",
       "1  SYSTEM  \n",
       "2  SYSTEM  \n",
       "3  SYSTEM  \n",
       "4  SYSTEM  \n",
       "\n",
       "[5 rows x 32 columns]"
      ]
     },
     "execution_count": 10,
     "metadata": {},
     "output_type": "execute_result"
    }
   ],
   "source": [
    "df.columns = col\n",
    "df.head()"
   ]
  },
  {
   "attachments": {},
   "cell_type": "markdown",
   "metadata": {},
   "source": [
    "## 코드화 정보 해석"
   ]
  },
  {
   "cell_type": "code",
   "execution_count": 11,
   "metadata": {},
   "outputs": [
    {
     "data": {
      "text/plain": [
       "array(['O', 'R', 'B', 'L', 'F'], dtype=object)"
      ]
     },
     "execution_count": 11,
     "metadata": {},
     "output_type": "execute_result"
    }
   ],
   "source": [
    "df['소유자 구분'].unique()"
   ]
  },
  {
   "cell_type": "code",
   "execution_count": 12,
   "metadata": {},
   "outputs": [
    {
     "data": {
      "text/html": [
       "<div>\n",
       "<style scoped>\n",
       "    .dataframe tbody tr th:only-of-type {\n",
       "        vertical-align: middle;\n",
       "    }\n",
       "\n",
       "    .dataframe tbody tr th {\n",
       "        vertical-align: top;\n",
       "    }\n",
       "\n",
       "    .dataframe thead th {\n",
       "        text-align: right;\n",
       "    }\n",
       "</style>\n",
       "<table border=\"1\" class=\"dataframe\">\n",
       "  <thead>\n",
       "    <tr style=\"text-align: right;\">\n",
       "      <th></th>\n",
       "      <th>차량관리번호</th>\n",
       "      <th>차량등록번호</th>\n",
       "      <th>본거지 법정동 코드</th>\n",
       "      <th>소유자 구분</th>\n",
       "      <th>차종</th>\n",
       "      <th>용도</th>\n",
       "      <th>미정</th>\n",
       "      <th>현재 회원번호</th>\n",
       "      <th>미정</th>\n",
       "      <th>미정</th>\n",
       "      <th>...</th>\n",
       "      <th>차량등록번호 숫자 정보</th>\n",
       "      <th>차량 말소 YN</th>\n",
       "      <th>미정</th>\n",
       "      <th>최초 회원번호</th>\n",
       "      <th>취득 일자</th>\n",
       "      <th>취득 금액</th>\n",
       "      <th>미정</th>\n",
       "      <th>생성 일시</th>\n",
       "      <th>수정 일시</th>\n",
       "      <th>미정</th>\n",
       "    </tr>\n",
       "  </thead>\n",
       "  <tbody>\n",
       "    <tr>\n",
       "      <th>0</th>\n",
       "      <td>10762211742-01</td>\n",
       "      <td>서울1나4019</td>\n",
       "      <td>1165010700</td>\n",
       "      <td>기타</td>\n",
       "      <td>P</td>\n",
       "      <td>P</td>\n",
       "      <td>3C89752E624558D6234883FF31231256</td>\n",
       "      <td>FFFB77E175610478415F654BFE77B2E7</td>\n",
       "      <td>94CF4601CD36E37259A508CDB9CF1BF2E583F1FA06E4C9...</td>\n",
       "      <td>94CF4601CD36E37259A508CDB9CF1BF2E583F1FA06E4C9...</td>\n",
       "      <td>...</td>\n",
       "      <td>14019</td>\n",
       "      <td>N</td>\n",
       "      <td>3C89752E624558D6234883FF31231256</td>\n",
       "      <td>7C71D518B5666D98E792700DA807B211</td>\n",
       "      <td>NaN</td>\n",
       "      <td>0.0</td>\n",
       "      <td>NaN</td>\n",
       "      <td>19/06/22</td>\n",
       "      <td>NaN</td>\n",
       "      <td>SYSTEM</td>\n",
       "    </tr>\n",
       "    <tr>\n",
       "      <th>1</th>\n",
       "      <td>KG68T122688*-01</td>\n",
       "      <td>대구1다1476</td>\n",
       "      <td>2711010500</td>\n",
       "      <td>기타</td>\n",
       "      <td>P</td>\n",
       "      <td>P</td>\n",
       "      <td>A716E948EFD514847BD5C77D9B054F8A</td>\n",
       "      <td>NaN</td>\n",
       "      <td>FB1685B2F216C8F517B246583C52ECA58997FF03014780...</td>\n",
       "      <td>FB1685B2F216C8F517B246583C52ECA58997FF03014780...</td>\n",
       "      <td>...</td>\n",
       "      <td>11476</td>\n",
       "      <td>N</td>\n",
       "      <td>A716E948EFD514847BD5C77D9B054F8A</td>\n",
       "      <td>NaN</td>\n",
       "      <td>NaN</td>\n",
       "      <td>NaN</td>\n",
       "      <td>NaN</td>\n",
       "      <td>19/06/22</td>\n",
       "      <td>NaN</td>\n",
       "      <td>SYSTEM</td>\n",
       "    </tr>\n",
       "    <tr>\n",
       "      <th>2</th>\n",
       "      <td>10762211783-01</td>\n",
       "      <td>인천1마8052</td>\n",
       "      <td>2820010300</td>\n",
       "      <td>기타</td>\n",
       "      <td>P</td>\n",
       "      <td>P</td>\n",
       "      <td>0F243BB4751963E628E19A5BCD6CFFCB</td>\n",
       "      <td>NaN</td>\n",
       "      <td>6A0C78943819F407C87E00116981877E301F7677D1A003...</td>\n",
       "      <td>6A0C78943819F407C87E00116981877E301F7677D1A003...</td>\n",
       "      <td>...</td>\n",
       "      <td>18052</td>\n",
       "      <td>N</td>\n",
       "      <td>FAABC328957C8639B00F98FDA7073664</td>\n",
       "      <td>NaN</td>\n",
       "      <td>NaN</td>\n",
       "      <td>NaN</td>\n",
       "      <td>NaN</td>\n",
       "      <td>19/06/22</td>\n",
       "      <td>NaN</td>\n",
       "      <td>SYSTEM</td>\n",
       "    </tr>\n",
       "    <tr>\n",
       "      <th>3</th>\n",
       "      <td>PN71C018511000000-01</td>\n",
       "      <td>87로9835</td>\n",
       "      <td>4213011200</td>\n",
       "      <td>주민</td>\n",
       "      <td>T</td>\n",
       "      <td>P</td>\n",
       "      <td>73CFB46180AD3302B1A9F45E550EF6E5</td>\n",
       "      <td>DBFCB87570199614FFBB9FA11DCD4675</td>\n",
       "      <td>26F22501FA02CE68011BC524C18450B9F42F7479B268F8...</td>\n",
       "      <td>26F22501FA02CE68011BC524C18450B9F42F7479B268F8...</td>\n",
       "      <td>...</td>\n",
       "      <td>879835</td>\n",
       "      <td>N</td>\n",
       "      <td>0C20DFD151DBF872DF3867ABE606A587</td>\n",
       "      <td>CCF2FFB275E6DC4551E1E717CEC86A32</td>\n",
       "      <td>20160222</td>\n",
       "      <td>100000.0</td>\n",
       "      <td>NaN</td>\n",
       "      <td>19/06/22</td>\n",
       "      <td>NaN</td>\n",
       "      <td>SYSTEM</td>\n",
       "    </tr>\n",
       "    <tr>\n",
       "      <th>4</th>\n",
       "      <td>KMHLA11FPGU060639-01</td>\n",
       "      <td>경남1러3590</td>\n",
       "      <td>4812110500</td>\n",
       "      <td>주민</td>\n",
       "      <td>P</td>\n",
       "      <td>P</td>\n",
       "      <td>0132B746078DFA5BA833D6906AD06A13</td>\n",
       "      <td>6194C458F73E4656322A364FEA4E9441</td>\n",
       "      <td>D6E42385110B0C268E42FCB99F442B91B9FB08B6708219...</td>\n",
       "      <td>D6E42385110B0C268E42FCB99F442B91B9FB08B6708219...</td>\n",
       "      <td>...</td>\n",
       "      <td>13590</td>\n",
       "      <td>N</td>\n",
       "      <td>D5845F55A1C2E8D7B93CC9E6A38B3319</td>\n",
       "      <td>NaN</td>\n",
       "      <td>NaN</td>\n",
       "      <td>NaN</td>\n",
       "      <td>NaN</td>\n",
       "      <td>19/06/22</td>\n",
       "      <td>NaN</td>\n",
       "      <td>SYSTEM</td>\n",
       "    </tr>\n",
       "  </tbody>\n",
       "</table>\n",
       "<p>5 rows × 32 columns</p>\n",
       "</div>"
      ],
      "text/plain": [
       "                 차량관리번호    차량등록번호  본거지 법정동 코드 소유자 구분 차종 용도  \\\n",
       "0        10762211742-01  서울1나4019  1165010700     기타  P  P   \n",
       "1       KG68T122688*-01  대구1다1476  2711010500     기타  P  P   \n",
       "2        10762211783-01  인천1마8052  2820010300     기타  P  P   \n",
       "3  PN71C018511000000-01   87로9835  4213011200     주민  T  P   \n",
       "4  KMHLA11FPGU060639-01  경남1러3590  4812110500     주민  P  P   \n",
       "\n",
       "                                 미정                           현재 회원번호  \\\n",
       "0  3C89752E624558D6234883FF31231256  FFFB77E175610478415F654BFE77B2E7   \n",
       "1  A716E948EFD514847BD5C77D9B054F8A                               NaN   \n",
       "2  0F243BB4751963E628E19A5BCD6CFFCB                               NaN   \n",
       "3  73CFB46180AD3302B1A9F45E550EF6E5  DBFCB87570199614FFBB9FA11DCD4675   \n",
       "4  0132B746078DFA5BA833D6906AD06A13  6194C458F73E4656322A364FEA4E9441   \n",
       "\n",
       "                                                  미정  \\\n",
       "0  94CF4601CD36E37259A508CDB9CF1BF2E583F1FA06E4C9...   \n",
       "1  FB1685B2F216C8F517B246583C52ECA58997FF03014780...   \n",
       "2  6A0C78943819F407C87E00116981877E301F7677D1A003...   \n",
       "3  26F22501FA02CE68011BC524C18450B9F42F7479B268F8...   \n",
       "4  D6E42385110B0C268E42FCB99F442B91B9FB08B6708219...   \n",
       "\n",
       "                                                  미정  ... 차량등록번호 숫자 정보  \\\n",
       "0  94CF4601CD36E37259A508CDB9CF1BF2E583F1FA06E4C9...  ...        14019   \n",
       "1  FB1685B2F216C8F517B246583C52ECA58997FF03014780...  ...        11476   \n",
       "2  6A0C78943819F407C87E00116981877E301F7677D1A003...  ...        18052   \n",
       "3  26F22501FA02CE68011BC524C18450B9F42F7479B268F8...  ...       879835   \n",
       "4  D6E42385110B0C268E42FCB99F442B91B9FB08B6708219...  ...        13590   \n",
       "\n",
       "   차량 말소 YN                                미정  \\\n",
       "0         N  3C89752E624558D6234883FF31231256   \n",
       "1         N  A716E948EFD514847BD5C77D9B054F8A   \n",
       "2         N  FAABC328957C8639B00F98FDA7073664   \n",
       "3         N  0C20DFD151DBF872DF3867ABE606A587   \n",
       "4         N  D5845F55A1C2E8D7B93CC9E6A38B3319   \n",
       "\n",
       "                            최초 회원번호     취득 일자     취득 금액   미정     생성 일시 수정 일시  \\\n",
       "0  7C71D518B5666D98E792700DA807B211       NaN       0.0  NaN  19/06/22   NaN   \n",
       "1                               NaN       NaN       NaN  NaN  19/06/22   NaN   \n",
       "2                               NaN       NaN       NaN  NaN  19/06/22   NaN   \n",
       "3  CCF2FFB275E6DC4551E1E717CEC86A32  20160222  100000.0  NaN  19/06/22   NaN   \n",
       "4                               NaN       NaN       NaN  NaN  19/06/22   NaN   \n",
       "\n",
       "       미정  \n",
       "0  SYSTEM  \n",
       "1  SYSTEM  \n",
       "2  SYSTEM  \n",
       "3  SYSTEM  \n",
       "4  SYSTEM  \n",
       "\n",
       "[5 rows x 32 columns]"
      ]
     },
     "execution_count": 12,
     "metadata": {},
     "output_type": "execute_result"
    }
   ],
   "source": [
    "# 소유자 구분\n",
    "own_dict = {'B':'사업자', 'F':'외국인', 'L':'법인', 'O':'기타', 'R':'주민'}\n",
    "df['소유자 구분'] = df['소유자 구분'].map(own_dict)\n",
    "df.head()"
   ]
  },
  {
   "cell_type": "code",
   "execution_count": 13,
   "metadata": {},
   "outputs": [
    {
     "data": {
      "text/plain": [
       "array(['기타', '주민', '사업자', '법인', '외국인'], dtype=object)"
      ]
     },
     "execution_count": 13,
     "metadata": {},
     "output_type": "execute_result"
    }
   ],
   "source": [
    "df['소유자 구분'].unique()"
   ]
  },
  {
   "cell_type": "code",
   "execution_count": 14,
   "metadata": {},
   "outputs": [
    {
     "data": {
      "text/plain": [
       "array(['P', 'T', 'V', 'S', nan], dtype=object)"
      ]
     },
     "execution_count": 14,
     "metadata": {},
     "output_type": "execute_result"
    }
   ],
   "source": [
    "df['차종'].unique()"
   ]
  },
  {
   "cell_type": "code",
   "execution_count": 15,
   "metadata": {},
   "outputs": [
    {
     "data": {
      "text/plain": [
       "array(['승용', '화물', '승합', '특수', nan], dtype=object)"
      ]
     },
     "execution_count": 15,
     "metadata": {},
     "output_type": "execute_result"
    }
   ],
   "source": [
    "# 차종\n",
    "car_cate_dict = {'M':'이륜', 'P':'승용', 'S':'특수', 'T':'화물', 'V':'승합'}\n",
    "df['차종'] = df['차종'].map(car_cate_dict)\n",
    "df['차종'].unique()"
   ]
  },
  {
   "cell_type": "code",
   "execution_count": 16,
   "metadata": {},
   "outputs": [
    {
     "data": {
      "text/plain": [
       "array(['P', 'B', 'O'], dtype=object)"
      ]
     },
     "execution_count": 16,
     "metadata": {},
     "output_type": "execute_result"
    }
   ],
   "source": [
    "df['용도'].unique()"
   ]
  },
  {
   "cell_type": "code",
   "execution_count": 17,
   "metadata": {},
   "outputs": [
    {
     "data": {
      "text/plain": [
       "array(['자가용', '영업용', '관용'], dtype=object)"
      ]
     },
     "execution_count": 17,
     "metadata": {},
     "output_type": "execute_result"
    }
   ],
   "source": [
    "# 용도\n",
    "use_dict = {'B':'영업용', 'O':'관용', 'P':'자가용', 'T':'개인택시'}\n",
    "df['용도'] = df['용도'].map(use_dict)\n",
    "df['용도'].unique()"
   ]
  },
  {
   "cell_type": "code",
   "execution_count": 18,
   "metadata": {},
   "outputs": [
    {
     "data": {
      "text/html": [
       "<div>\n",
       "<style scoped>\n",
       "    .dataframe tbody tr th:only-of-type {\n",
       "        vertical-align: middle;\n",
       "    }\n",
       "\n",
       "    .dataframe tbody tr th {\n",
       "        vertical-align: top;\n",
       "    }\n",
       "\n",
       "    .dataframe thead th {\n",
       "        text-align: right;\n",
       "    }\n",
       "</style>\n",
       "<table border=\"1\" class=\"dataframe\">\n",
       "  <thead>\n",
       "    <tr style=\"text-align: right;\">\n",
       "      <th></th>\n",
       "      <th>차량관리번호</th>\n",
       "      <th>차량등록번호</th>\n",
       "      <th>본거지 법정동 코드</th>\n",
       "      <th>소유자 구분</th>\n",
       "      <th>차종</th>\n",
       "      <th>용도</th>\n",
       "      <th>미정</th>\n",
       "      <th>현재 회원번호</th>\n",
       "      <th>미정</th>\n",
       "      <th>미정</th>\n",
       "      <th>...</th>\n",
       "      <th>차량등록번호 숫자 정보</th>\n",
       "      <th>차량 말소 YN</th>\n",
       "      <th>미정</th>\n",
       "      <th>최초 회원번호</th>\n",
       "      <th>취득 일자</th>\n",
       "      <th>취득 금액</th>\n",
       "      <th>미정</th>\n",
       "      <th>생성 일시</th>\n",
       "      <th>수정 일시</th>\n",
       "      <th>미정</th>\n",
       "    </tr>\n",
       "  </thead>\n",
       "  <tbody>\n",
       "    <tr>\n",
       "      <th>0</th>\n",
       "      <td>10762211742-01</td>\n",
       "      <td>서울1나4019</td>\n",
       "      <td>1165010700</td>\n",
       "      <td>기타</td>\n",
       "      <td>승용</td>\n",
       "      <td>자가용</td>\n",
       "      <td>3C89752E624558D6234883FF31231256</td>\n",
       "      <td>FFFB77E175610478415F654BFE77B2E7</td>\n",
       "      <td>94CF4601CD36E37259A508CDB9CF1BF2E583F1FA06E4C9...</td>\n",
       "      <td>94CF4601CD36E37259A508CDB9CF1BF2E583F1FA06E4C9...</td>\n",
       "      <td>...</td>\n",
       "      <td>14019</td>\n",
       "      <td>N</td>\n",
       "      <td>3C89752E624558D6234883FF31231256</td>\n",
       "      <td>7C71D518B5666D98E792700DA807B211</td>\n",
       "      <td>NaN</td>\n",
       "      <td>0.0</td>\n",
       "      <td>NaN</td>\n",
       "      <td>19/06/22</td>\n",
       "      <td>NaN</td>\n",
       "      <td>SYSTEM</td>\n",
       "    </tr>\n",
       "    <tr>\n",
       "      <th>1</th>\n",
       "      <td>KG68T122688*-01</td>\n",
       "      <td>대구1다1476</td>\n",
       "      <td>2711010500</td>\n",
       "      <td>기타</td>\n",
       "      <td>승용</td>\n",
       "      <td>자가용</td>\n",
       "      <td>A716E948EFD514847BD5C77D9B054F8A</td>\n",
       "      <td>NaN</td>\n",
       "      <td>FB1685B2F216C8F517B246583C52ECA58997FF03014780...</td>\n",
       "      <td>FB1685B2F216C8F517B246583C52ECA58997FF03014780...</td>\n",
       "      <td>...</td>\n",
       "      <td>11476</td>\n",
       "      <td>N</td>\n",
       "      <td>A716E948EFD514847BD5C77D9B054F8A</td>\n",
       "      <td>NaN</td>\n",
       "      <td>NaN</td>\n",
       "      <td>NaN</td>\n",
       "      <td>NaN</td>\n",
       "      <td>19/06/22</td>\n",
       "      <td>NaN</td>\n",
       "      <td>SYSTEM</td>\n",
       "    </tr>\n",
       "    <tr>\n",
       "      <th>2</th>\n",
       "      <td>10762211783-01</td>\n",
       "      <td>인천1마8052</td>\n",
       "      <td>2820010300</td>\n",
       "      <td>기타</td>\n",
       "      <td>승용</td>\n",
       "      <td>자가용</td>\n",
       "      <td>0F243BB4751963E628E19A5BCD6CFFCB</td>\n",
       "      <td>NaN</td>\n",
       "      <td>6A0C78943819F407C87E00116981877E301F7677D1A003...</td>\n",
       "      <td>6A0C78943819F407C87E00116981877E301F7677D1A003...</td>\n",
       "      <td>...</td>\n",
       "      <td>18052</td>\n",
       "      <td>N</td>\n",
       "      <td>FAABC328957C8639B00F98FDA7073664</td>\n",
       "      <td>NaN</td>\n",
       "      <td>NaN</td>\n",
       "      <td>NaN</td>\n",
       "      <td>NaN</td>\n",
       "      <td>19/06/22</td>\n",
       "      <td>NaN</td>\n",
       "      <td>SYSTEM</td>\n",
       "    </tr>\n",
       "    <tr>\n",
       "      <th>3</th>\n",
       "      <td>PN71C018511000000-01</td>\n",
       "      <td>87로9835</td>\n",
       "      <td>4213011200</td>\n",
       "      <td>주민</td>\n",
       "      <td>화물</td>\n",
       "      <td>자가용</td>\n",
       "      <td>73CFB46180AD3302B1A9F45E550EF6E5</td>\n",
       "      <td>DBFCB87570199614FFBB9FA11DCD4675</td>\n",
       "      <td>26F22501FA02CE68011BC524C18450B9F42F7479B268F8...</td>\n",
       "      <td>26F22501FA02CE68011BC524C18450B9F42F7479B268F8...</td>\n",
       "      <td>...</td>\n",
       "      <td>879835</td>\n",
       "      <td>N</td>\n",
       "      <td>0C20DFD151DBF872DF3867ABE606A587</td>\n",
       "      <td>CCF2FFB275E6DC4551E1E717CEC86A32</td>\n",
       "      <td>20160222</td>\n",
       "      <td>100000.0</td>\n",
       "      <td>NaN</td>\n",
       "      <td>19/06/22</td>\n",
       "      <td>NaN</td>\n",
       "      <td>SYSTEM</td>\n",
       "    </tr>\n",
       "    <tr>\n",
       "      <th>4</th>\n",
       "      <td>KMHLA11FPGU060639-01</td>\n",
       "      <td>경남1러3590</td>\n",
       "      <td>4812110500</td>\n",
       "      <td>주민</td>\n",
       "      <td>승용</td>\n",
       "      <td>자가용</td>\n",
       "      <td>0132B746078DFA5BA833D6906AD06A13</td>\n",
       "      <td>6194C458F73E4656322A364FEA4E9441</td>\n",
       "      <td>D6E42385110B0C268E42FCB99F442B91B9FB08B6708219...</td>\n",
       "      <td>D6E42385110B0C268E42FCB99F442B91B9FB08B6708219...</td>\n",
       "      <td>...</td>\n",
       "      <td>13590</td>\n",
       "      <td>N</td>\n",
       "      <td>D5845F55A1C2E8D7B93CC9E6A38B3319</td>\n",
       "      <td>NaN</td>\n",
       "      <td>NaN</td>\n",
       "      <td>NaN</td>\n",
       "      <td>NaN</td>\n",
       "      <td>19/06/22</td>\n",
       "      <td>NaN</td>\n",
       "      <td>SYSTEM</td>\n",
       "    </tr>\n",
       "  </tbody>\n",
       "</table>\n",
       "<p>5 rows × 32 columns</p>\n",
       "</div>"
      ],
      "text/plain": [
       "                 차량관리번호    차량등록번호  본거지 법정동 코드 소유자 구분  차종   용도  \\\n",
       "0        10762211742-01  서울1나4019  1165010700     기타  승용  자가용   \n",
       "1       KG68T122688*-01  대구1다1476  2711010500     기타  승용  자가용   \n",
       "2        10762211783-01  인천1마8052  2820010300     기타  승용  자가용   \n",
       "3  PN71C018511000000-01   87로9835  4213011200     주민  화물  자가용   \n",
       "4  KMHLA11FPGU060639-01  경남1러3590  4812110500     주민  승용  자가용   \n",
       "\n",
       "                                 미정                           현재 회원번호  \\\n",
       "0  3C89752E624558D6234883FF31231256  FFFB77E175610478415F654BFE77B2E7   \n",
       "1  A716E948EFD514847BD5C77D9B054F8A                               NaN   \n",
       "2  0F243BB4751963E628E19A5BCD6CFFCB                               NaN   \n",
       "3  73CFB46180AD3302B1A9F45E550EF6E5  DBFCB87570199614FFBB9FA11DCD4675   \n",
       "4  0132B746078DFA5BA833D6906AD06A13  6194C458F73E4656322A364FEA4E9441   \n",
       "\n",
       "                                                  미정  \\\n",
       "0  94CF4601CD36E37259A508CDB9CF1BF2E583F1FA06E4C9...   \n",
       "1  FB1685B2F216C8F517B246583C52ECA58997FF03014780...   \n",
       "2  6A0C78943819F407C87E00116981877E301F7677D1A003...   \n",
       "3  26F22501FA02CE68011BC524C18450B9F42F7479B268F8...   \n",
       "4  D6E42385110B0C268E42FCB99F442B91B9FB08B6708219...   \n",
       "\n",
       "                                                  미정  ... 차량등록번호 숫자 정보  \\\n",
       "0  94CF4601CD36E37259A508CDB9CF1BF2E583F1FA06E4C9...  ...        14019   \n",
       "1  FB1685B2F216C8F517B246583C52ECA58997FF03014780...  ...        11476   \n",
       "2  6A0C78943819F407C87E00116981877E301F7677D1A003...  ...        18052   \n",
       "3  26F22501FA02CE68011BC524C18450B9F42F7479B268F8...  ...       879835   \n",
       "4  D6E42385110B0C268E42FCB99F442B91B9FB08B6708219...  ...        13590   \n",
       "\n",
       "   차량 말소 YN                                미정  \\\n",
       "0         N  3C89752E624558D6234883FF31231256   \n",
       "1         N  A716E948EFD514847BD5C77D9B054F8A   \n",
       "2         N  FAABC328957C8639B00F98FDA7073664   \n",
       "3         N  0C20DFD151DBF872DF3867ABE606A587   \n",
       "4         N  D5845F55A1C2E8D7B93CC9E6A38B3319   \n",
       "\n",
       "                            최초 회원번호     취득 일자     취득 금액   미정     생성 일시 수정 일시  \\\n",
       "0  7C71D518B5666D98E792700DA807B211       NaN       0.0  NaN  19/06/22   NaN   \n",
       "1                               NaN       NaN       NaN  NaN  19/06/22   NaN   \n",
       "2                               NaN       NaN       NaN  NaN  19/06/22   NaN   \n",
       "3  CCF2FFB275E6DC4551E1E717CEC86A32  20160222  100000.0  NaN  19/06/22   NaN   \n",
       "4                               NaN       NaN       NaN  NaN  19/06/22   NaN   \n",
       "\n",
       "       미정  \n",
       "0  SYSTEM  \n",
       "1  SYSTEM  \n",
       "2  SYSTEM  \n",
       "3  SYSTEM  \n",
       "4  SYSTEM  \n",
       "\n",
       "[5 rows x 32 columns]"
      ]
     },
     "execution_count": 18,
     "metadata": {},
     "output_type": "execute_result"
    }
   ],
   "source": [
    "df.head()"
   ]
  },
  {
   "attachments": {},
   "cell_type": "markdown",
   "metadata": {},
   "source": [
    "## [전처리]\n",
    "- 오류\n",
    "    - '차량 제작 일자'\n",
    "        - '1996 308' -> 19960308\n",
    "    - '배출가스 인증번호'\n",
    "        - ' ' -> np.nan : (빈칸) 존재\n",
    "        - ' 7MY-HD-24-30' -> '7MY-HD-24-30': 번호 앞에 빈칸 존재"
   ]
  },
  {
   "attachments": {},
   "cell_type": "markdown",
   "metadata": {},
   "source": [
    "### 차량 제작 일자 수정"
   ]
  },
  {
   "cell_type": "code",
   "execution_count": 19,
   "metadata": {},
   "outputs": [
    {
     "data": {
      "text/html": [
       "<div>\n",
       "<style scoped>\n",
       "    .dataframe tbody tr th:only-of-type {\n",
       "        vertical-align: middle;\n",
       "    }\n",
       "\n",
       "    .dataframe tbody tr th {\n",
       "        vertical-align: top;\n",
       "    }\n",
       "\n",
       "    .dataframe thead th {\n",
       "        text-align: right;\n",
       "    }\n",
       "</style>\n",
       "<table border=\"1\" class=\"dataframe\">\n",
       "  <thead>\n",
       "    <tr style=\"text-align: right;\">\n",
       "      <th></th>\n",
       "      <th>차량관리번호</th>\n",
       "      <th>차량등록번호</th>\n",
       "      <th>본거지 법정동 코드</th>\n",
       "      <th>소유자 구분</th>\n",
       "      <th>차종</th>\n",
       "      <th>용도</th>\n",
       "      <th>미정</th>\n",
       "      <th>현재 회원번호</th>\n",
       "      <th>미정</th>\n",
       "      <th>미정</th>\n",
       "      <th>...</th>\n",
       "      <th>차량등록번호 숫자 정보</th>\n",
       "      <th>차량 말소 YN</th>\n",
       "      <th>미정</th>\n",
       "      <th>최초 회원번호</th>\n",
       "      <th>취득 일자</th>\n",
       "      <th>취득 금액</th>\n",
       "      <th>미정</th>\n",
       "      <th>생성 일시</th>\n",
       "      <th>수정 일시</th>\n",
       "      <th>미정</th>\n",
       "    </tr>\n",
       "  </thead>\n",
       "  <tbody>\n",
       "    <tr>\n",
       "      <th>530017</th>\n",
       "      <td>KNAJA5265TA751541-01</td>\n",
       "      <td>인천32나6035</td>\n",
       "      <td>2811015100</td>\n",
       "      <td>법인</td>\n",
       "      <td>승용</td>\n",
       "      <td>자가용</td>\n",
       "      <td>293C30222FD9EE522F64DB84371B58D0EBE3A35ABEAB17...</td>\n",
       "      <td>2123F8C8CD86D35EF5B1DB64C97B201D</td>\n",
       "      <td>BF4253B217B6EB44668EBED123EE31713ED8D6E4BDFBA4...</td>\n",
       "      <td>BF4253B217B6EB44668EBED123EE31713ED8D6E4BDFBA4...</td>\n",
       "      <td>...</td>\n",
       "      <td>326035</td>\n",
       "      <td>N</td>\n",
       "      <td>5264975F8FAE3B2D40D8731911D6CF1A</td>\n",
       "      <td>E266408948954F8EF71B8A51F9D40875</td>\n",
       "      <td>20020525</td>\n",
       "      <td>800000.0</td>\n",
       "      <td>NaN</td>\n",
       "      <td>19/06/22</td>\n",
       "      <td>NaN</td>\n",
       "      <td>SYSTEM</td>\n",
       "    </tr>\n",
       "  </tbody>\n",
       "</table>\n",
       "<p>1 rows × 32 columns</p>\n",
       "</div>"
      ],
      "text/plain": [
       "                      차량관리번호     차량등록번호  본거지 법정동 코드 소유자 구분  차종   용도  \\\n",
       "530017  KNAJA5265TA751541-01  인천32나6035  2811015100     법인  승용  자가용   \n",
       "\n",
       "                                                       미정  \\\n",
       "530017  293C30222FD9EE522F64DB84371B58D0EBE3A35ABEAB17...   \n",
       "\n",
       "                                 현재 회원번호  \\\n",
       "530017  2123F8C8CD86D35EF5B1DB64C97B201D   \n",
       "\n",
       "                                                       미정  \\\n",
       "530017  BF4253B217B6EB44668EBED123EE31713ED8D6E4BDFBA4...   \n",
       "\n",
       "                                                       미정  ... 차량등록번호 숫자 정보  \\\n",
       "530017  BF4253B217B6EB44668EBED123EE31713ED8D6E4BDFBA4...  ...       326035   \n",
       "\n",
       "        차량 말소 YN                                미정  \\\n",
       "530017         N  5264975F8FAE3B2D40D8731911D6CF1A   \n",
       "\n",
       "                                 최초 회원번호     취득 일자     취득 금액   미정     생성 일시  \\\n",
       "530017  E266408948954F8EF71B8A51F9D40875  20020525  800000.0  NaN  19/06/22   \n",
       "\n",
       "       수정 일시      미정  \n",
       "530017   NaN  SYSTEM  \n",
       "\n",
       "[1 rows x 32 columns]"
      ]
     },
     "execution_count": 19,
     "metadata": {},
     "output_type": "execute_result"
    }
   ],
   "source": [
    "df[df['차량 제작 일자'] == '1996 308']"
   ]
  },
  {
   "cell_type": "code",
   "execution_count": 20,
   "metadata": {},
   "outputs": [
    {
     "data": {
      "text/plain": [
       "'1996 308'"
      ]
     },
     "execution_count": 20,
     "metadata": {},
     "output_type": "execute_result"
    }
   ],
   "source": [
    "df.loc[530017, '차량 제작 일자']"
   ]
  },
  {
   "cell_type": "code",
   "execution_count": 21,
   "metadata": {},
   "outputs": [
    {
     "data": {
      "text/plain": [
       "19960308"
      ]
     },
     "execution_count": 21,
     "metadata": {},
     "output_type": "execute_result"
    }
   ],
   "source": [
    "df.loc[530017, '차량 제작 일자'] = 19960308\n",
    "df.loc[530017, '차량 제작 일자']"
   ]
  },
  {
   "cell_type": "code",
   "execution_count": 22,
   "metadata": {},
   "outputs": [
    {
     "data": {
      "text/plain": [
       "dtype('float64')"
      ]
     },
     "execution_count": 22,
     "metadata": {},
     "output_type": "execute_result"
    }
   ],
   "source": [
    "df['차량 제작 일자'] = df['차량 제작 일자'].astype('float')\n",
    "df['차량 제작 일자'].dtype"
   ]
  },
  {
   "cell_type": "code",
   "execution_count": 23,
   "metadata": {},
   "outputs": [
    {
     "data": {
      "text/plain": [
       "0   NaN\n",
       "1   NaN\n",
       "2   NaN\n",
       "3   NaN\n",
       "4   NaN\n",
       "Name: 차량 제작 일자, dtype: float64"
      ]
     },
     "execution_count": 23,
     "metadata": {},
     "output_type": "execute_result"
    }
   ],
   "source": [
    "df['차량 제작 일자'].head()"
   ]
  },
  {
   "attachments": {},
   "cell_type": "markdown",
   "metadata": {},
   "source": [
    "### 배출가스 인증번호 수정"
   ]
  },
  {
   "cell_type": "code",
   "execution_count": 24,
   "metadata": {},
   "outputs": [
    {
     "data": {
      "text/plain": [
       "(66, 32)"
      ]
     },
     "execution_count": 24,
     "metadata": {},
     "output_type": "execute_result"
    }
   ],
   "source": [
    "df[df['배출가스 인증번호'] == ' '].shape"
   ]
  },
  {
   "cell_type": "code",
   "execution_count": 25,
   "metadata": {},
   "outputs": [
    {
     "data": {
      "text/plain": [
       "(0, 32)"
      ]
     },
     "execution_count": 25,
     "metadata": {},
     "output_type": "execute_result"
    }
   ],
   "source": [
    "df[df['배출가스 인증번호'] == '  '].shape"
   ]
  },
  {
   "cell_type": "code",
   "execution_count": 26,
   "metadata": {},
   "outputs": [
    {
     "data": {
      "text/plain": [
       "(0, 32)"
      ]
     },
     "execution_count": 26,
     "metadata": {},
     "output_type": "execute_result"
    }
   ],
   "source": [
    "df[df['배출가스 인증번호'] == '   '].shape"
   ]
  },
  {
   "cell_type": "code",
   "execution_count": 27,
   "metadata": {},
   "outputs": [
    {
     "name": "stdout",
     "output_type": "stream",
     "text": [
      "5784  \n",
      "6334  \n",
      "18347  \n",
      "40565  \n",
      "60155  \n",
      "75462  \n",
      "82826  \n",
      "89178  \n",
      "119499  \n",
      "120458  \n",
      "168532  \n",
      "230425  \n",
      "295892  \n",
      "298173  \n",
      "300749  \n",
      "316770  \n",
      "445483  \n",
      "709692  \n",
      "794713  \n",
      "841134  \n",
      "1051398  \n",
      "1239103  \n",
      "1263864  \n",
      "1275304  \n",
      "1493884  \n",
      "3538973  \n",
      "3770746  3MY-HD-16\n",
      "3795871 5MY-KM-22-46 \n",
      "3796078 5MY-KM-22-46 \n",
      "3799078 5MY-KM-22-46 \n",
      "3800442 5MY-KM-22-46 \n",
      "3802783 5MY-KM-22-46 \n",
      "3804238 5MY-KM-22-46 \n",
      "3804342 5MY-KM-22-46 \n",
      "3806660 5MY-KM-22-46 \n",
      "3813517 5MY-KM-22-46 \n",
      "3814040 5MY-KM-22-46 \n",
      "3816071 5MY-KM-22-46 \n",
      "3821142 5MY-KM-22-46 \n",
      "3826249 5MY-KM-22-46 \n",
      "3828484 5MY-KM-22-46 \n",
      "3828486 5MY-KM-22-46 \n",
      "3828534 5MY-KM-22-46 \n",
      "3830332 5MY-KM-22-46 \n",
      "3831497 5MY-KM-22-46 \n",
      "3836044 5MY-KM-22-46 \n",
      "3836343 5MY-KM-22-46 \n",
      "3838984 5MY-KM-22-46 \n",
      "3850949 5MY-KM-22-46 \n",
      "3855855 5MY-KM-22-46 \n",
      "3878433 5MY-KM-22-46 \n",
      "3879107 5MY-KM-22-46 \n",
      "3890160 5MY-KM-22-46 \n",
      "3896160 5MY-KM-22-46 \n",
      "4109814 5MY-KM-22-46 \n",
      "4111126 5MY-KM-22-46 \n",
      "4118036 5MY-KM-22-46 \n",
      "4379504 5MY-KM-22-46 \n",
      "4452097  \n",
      "4461611 5MY-KM-22-46 \n",
      "4537633 5MY-KM-22-46 \n",
      "4570919 5MY-KM-22-46 \n",
      "4609318 5MY-KM-22-46 \n",
      "4610908 5MY-KM-22-46 \n",
      "4616501 5MY-KM-22-46 \n",
      "4736426 5MY-KM-22-46 \n",
      "4961194  \n",
      "4966881  4MY-DB-03\n",
      "5639132  7MY-HD-24-30\n",
      "5660258  7MY-HD-24-30\n",
      "5668411  7MY-HD-24-30\n",
      "5671286  7MY-HD-24-30\n",
      "5702905  7MY-HD-24-30\n",
      "5707164  7MY-HD-24-30\n",
      "5725258  7MY-HD-24-30\n",
      "5727815  7MY-HD-24-30\n",
      "5734495  7MY-SY-13-41\n",
      "6137019  \n",
      "6450639  7MY-DC-24-72\n",
      "8851906  7MY-HD-14-68\n",
      "9019281  8MY-DC-24-12\n",
      "9325515  7MY-DC-24-70\n",
      "10979939  \n",
      "11120664  \n",
      "11183706  \n",
      "11854308  AMY-DC-14-55\n",
      "14642068  4MY-KM-03\n",
      "15819269  4MY-SY-01\n",
      "15824474  4MY-SY-01\n",
      "17385515  \n",
      "18124533  \n",
      "19423784  \n",
      "19572989  \n",
      "19808897  \n",
      "20322599  \n",
      "20383336  GMY-HD-14-36\n",
      "21561068  NMY-KM-13\n",
      "21717816  \n",
      "22629053  \n",
      "23138104  \n",
      "23180889  \n",
      "23188446  \n",
      "23197052  \n",
      "23224432  \n",
      "23246512  \n",
      "23251365  \n",
      "23257541  \n",
      "23275976  \n",
      "23278378  JEG-UC-IM-14-0-79\n",
      "23327708  \n",
      "23334361  \n",
      "23403307  \n",
      "23526813  \n",
      "23528880  \n",
      "23538489  \n",
      "23561978  \n",
      "23615426  \n",
      "23615428  \n",
      "23639612  \n",
      "23661792  4MY-DB-03\n",
      "23824189  4MY-KM-07\n",
      "24131956  FMY-HT-14-1\n",
      "24239422  \n",
      "24530012  3MY-HD-09\n",
      "24716575  4MY-KM-07\n",
      "25049954  4MY-KM-07\n",
      "25053669  5MY-BK-14-08\n",
      "25284222  1MY-SY-27\n",
      "25762132  DMY-HD-14-09\n",
      "25834511  \n",
      "26252979 5MY-HD-24-37 \n",
      "26270302  \n",
      "26439867  4MY-HD-56\n",
      "26667108  \n",
      "26822744  \n",
      "27296823  \n",
      "27458618  \n"
     ]
    }
   ],
   "source": [
    "count = 0\n",
    "for i, one in enumerate(df['배출가스 인증번호']):\n",
    "    try:\n",
    "        if ' ' in one:\n",
    "            print(i, one)\n",
    "            count += 1\n",
    "    except:\n",
    "        pass"
   ]
  },
  {
   "cell_type": "code",
   "execution_count": 28,
   "metadata": {},
   "outputs": [
    {
     "data": {
      "text/plain": [
       "137"
      ]
     },
     "execution_count": 28,
     "metadata": {},
     "output_type": "execute_result"
    }
   ],
   "source": [
    "count"
   ]
  },
  {
   "cell_type": "code",
   "execution_count": 29,
   "metadata": {},
   "outputs": [],
   "source": [
    "df['배출가스 인증번호'] = df['배출가스 인증번호'].replace(' ', np.nan)\n",
    "df['배출가스 인증번호'] = df['배출가스 인증번호'].str.strip()"
   ]
  },
  {
   "cell_type": "code",
   "execution_count": 30,
   "metadata": {},
   "outputs": [],
   "source": [
    "count = 0\n",
    "for i, one in enumerate(df['배출가스 인증번호']):\n",
    "    try:\n",
    "        if ' ' in one:\n",
    "            print(i, one)\n",
    "            count += 1\n",
    "    except:\n",
    "        pass"
   ]
  },
  {
   "cell_type": "code",
   "execution_count": 31,
   "metadata": {},
   "outputs": [
    {
     "data": {
      "text/plain": [
       "0"
      ]
     },
     "execution_count": 31,
     "metadata": {},
     "output_type": "execute_result"
    }
   ],
   "source": [
    "count"
   ]
  },
  {
   "attachments": {},
   "cell_type": "markdown",
   "metadata": {},
   "source": [
    "### 중복 차대번호 제거\n",
    "- '최초등록일자', '배출가스검사유효일자’, 내림차순 정렬(ascending=False)"
   ]
  },
  {
   "cell_type": "code",
   "execution_count": 32,
   "metadata": {},
   "outputs": [
    {
     "data": {
      "text/plain": [
       "(29534047, 32)"
      ]
     },
     "execution_count": 32,
     "metadata": {},
     "output_type": "execute_result"
    }
   ],
   "source": [
    "df.shape"
   ]
  },
  {
   "cell_type": "code",
   "execution_count": 33,
   "metadata": {},
   "outputs": [
    {
     "data": {
      "text/plain": [
       "29521505"
      ]
     },
     "execution_count": 33,
     "metadata": {},
     "output_type": "execute_result"
    }
   ],
   "source": [
    "len(df['차대번호'].unique())"
   ]
  },
  {
   "cell_type": "code",
   "execution_count": 34,
   "metadata": {},
   "outputs": [
    {
     "data": {
      "text/plain": [
       "12542"
      ]
     },
     "execution_count": 34,
     "metadata": {},
     "output_type": "execute_result"
    }
   ],
   "source": [
    "df.shape[0] - len(df['차대번호'].unique())"
   ]
  },
  {
   "cell_type": "code",
   "execution_count": 35,
   "metadata": {},
   "outputs": [],
   "source": [
    "# about 35s\n",
    "temp = df.copy()"
   ]
  },
  {
   "cell_type": "code",
   "execution_count": 36,
   "metadata": {},
   "outputs": [
    {
     "data": {
      "text/plain": [
       "(12542, 33)"
      ]
     },
     "execution_count": 36,
     "metadata": {},
     "output_type": "execute_result"
    }
   ],
   "source": [
    "# about 30s\n",
    "temp['dupl'] = temp.duplicated('차대번호').to_list()\n",
    "temp[temp['dupl'] == True].shape"
   ]
  },
  {
   "cell_type": "code",
   "execution_count": 37,
   "metadata": {},
   "outputs": [
    {
     "data": {
      "text/html": [
       "<div>\n",
       "<style scoped>\n",
       "    .dataframe tbody tr th:only-of-type {\n",
       "        vertical-align: middle;\n",
       "    }\n",
       "\n",
       "    .dataframe tbody tr th {\n",
       "        vertical-align: top;\n",
       "    }\n",
       "\n",
       "    .dataframe thead th {\n",
       "        text-align: right;\n",
       "    }\n",
       "</style>\n",
       "<table border=\"1\" class=\"dataframe\">\n",
       "  <thead>\n",
       "    <tr style=\"text-align: right;\">\n",
       "      <th></th>\n",
       "      <th>차량관리번호</th>\n",
       "      <th>차량등록번호</th>\n",
       "      <th>본거지 법정동 코드</th>\n",
       "      <th>소유자 구분</th>\n",
       "      <th>차종</th>\n",
       "      <th>용도</th>\n",
       "      <th>미정</th>\n",
       "      <th>현재 회원번호</th>\n",
       "      <th>미정</th>\n",
       "      <th>미정</th>\n",
       "      <th>...</th>\n",
       "      <th>차량 말소 YN</th>\n",
       "      <th>미정</th>\n",
       "      <th>최초 회원번호</th>\n",
       "      <th>취득 일자</th>\n",
       "      <th>취득 금액</th>\n",
       "      <th>미정</th>\n",
       "      <th>생성 일시</th>\n",
       "      <th>수정 일시</th>\n",
       "      <th>미정</th>\n",
       "      <th>dupl</th>\n",
       "    </tr>\n",
       "  </thead>\n",
       "  <tbody>\n",
       "    <tr>\n",
       "      <th>12920</th>\n",
       "      <td>02714202543-02</td>\n",
       "      <td>전남88바4100</td>\n",
       "      <td>4684025623</td>\n",
       "      <td>법인</td>\n",
       "      <td>화물</td>\n",
       "      <td>영업용</td>\n",
       "      <td>F7753D45C13AA16062A88245758B7D2E</td>\n",
       "      <td>F5D61439CB9238E48AECECF5032448DC</td>\n",
       "      <td>C970157167EDAF82F98541BEBFD58BB1BCA7E0FDDAFCD3...</td>\n",
       "      <td>C970157167EDAF82F98541BEBFD58BB1BCA7E0FDDAFCD3...</td>\n",
       "      <td>...</td>\n",
       "      <td>N</td>\n",
       "      <td>4279B803FE44CB9B7340B093634069D2</td>\n",
       "      <td>A0AD12FEF546F16B2B3E9F3553EBA78A</td>\n",
       "      <td>20071025</td>\n",
       "      <td>0.0</td>\n",
       "      <td>NaN</td>\n",
       "      <td>19/06/22</td>\n",
       "      <td>NaN</td>\n",
       "      <td>SYSTEM</td>\n",
       "      <td>True</td>\n",
       "    </tr>\n",
       "    <tr>\n",
       "      <th>8932</th>\n",
       "      <td>4799경북5가8961</td>\n",
       "      <td>경북5가8961</td>\n",
       "      <td>4729036031</td>\n",
       "      <td>기타</td>\n",
       "      <td>승합</td>\n",
       "      <td>자가용</td>\n",
       "      <td>CCC5704BAFCC29F2958D0D32CED1FE4A</td>\n",
       "      <td>NaN</td>\n",
       "      <td>62CAB3B5761F9CBED520290FC5561E82494FC746EDD2F6...</td>\n",
       "      <td>62CAB3B5761F9CBED520290FC5561E82494FC746EDD2F6...</td>\n",
       "      <td>...</td>\n",
       "      <td>N</td>\n",
       "      <td>CCC5704BAFCC29F2958D0D32CED1FE4A</td>\n",
       "      <td>NaN</td>\n",
       "      <td>NaN</td>\n",
       "      <td>NaN</td>\n",
       "      <td>NaN</td>\n",
       "      <td>19/06/22</td>\n",
       "      <td>NaN</td>\n",
       "      <td>SYSTEM</td>\n",
       "      <td>True</td>\n",
       "    </tr>\n",
       "    <tr>\n",
       "      <th>8803</th>\n",
       "      <td>03812100678-02</td>\n",
       "      <td>대구7라6343</td>\n",
       "      <td>2723010700</td>\n",
       "      <td>기타</td>\n",
       "      <td>화물</td>\n",
       "      <td>자가용</td>\n",
       "      <td>1A626438A254ADAAEC2A54F67B12F3B6</td>\n",
       "      <td>NaN</td>\n",
       "      <td>293EEEDBAA9D90630322974F68FF44D7756D1EA17960DC...</td>\n",
       "      <td>293EEEDBAA9D90630322974F68FF44D7756D1EA17960DC...</td>\n",
       "      <td>...</td>\n",
       "      <td>N</td>\n",
       "      <td>B1D569B53076A435DF6F64E35C69C249</td>\n",
       "      <td>NaN</td>\n",
       "      <td>NaN</td>\n",
       "      <td>0.0</td>\n",
       "      <td>NaN</td>\n",
       "      <td>19/06/22</td>\n",
       "      <td>NaN</td>\n",
       "      <td>SYSTEM</td>\n",
       "      <td>True</td>\n",
       "    </tr>\n",
       "    <tr>\n",
       "      <th>16805</th>\n",
       "      <td>4199경기5더1681</td>\n",
       "      <td>경기5더1681</td>\n",
       "      <td>4111512900</td>\n",
       "      <td>기타</td>\n",
       "      <td>승합</td>\n",
       "      <td>자가용</td>\n",
       "      <td>41E717A4E43EF065F16C2CA4E0B4FE62</td>\n",
       "      <td>NaN</td>\n",
       "      <td>4D6C456F5EA00A1D710B1FA9EB407D26304452416EF808...</td>\n",
       "      <td>4D6C456F5EA00A1D710B1FA9EB407D26304452416EF808...</td>\n",
       "      <td>...</td>\n",
       "      <td>N</td>\n",
       "      <td>0F68F37522D7AC9A6312C3FDB3032D20</td>\n",
       "      <td>NaN</td>\n",
       "      <td>NaN</td>\n",
       "      <td>NaN</td>\n",
       "      <td>NaN</td>\n",
       "      <td>19/06/22</td>\n",
       "      <td>NaN</td>\n",
       "      <td>SYSTEM</td>\n",
       "      <td>True</td>\n",
       "    </tr>\n",
       "    <tr>\n",
       "      <th>1435</th>\n",
       "      <td>10782112705-02</td>\n",
       "      <td>대구7다4854</td>\n",
       "      <td>2717010500</td>\n",
       "      <td>기타</td>\n",
       "      <td>화물</td>\n",
       "      <td>자가용</td>\n",
       "      <td>96AB517FE535425FE80031865F13FFB9</td>\n",
       "      <td>NaN</td>\n",
       "      <td>5DAEC5ED1C2610777083FD2CBDE30146AC321B6AFF3045...</td>\n",
       "      <td>5DAEC5ED1C2610777083FD2CBDE30146AC321B6AFF3045...</td>\n",
       "      <td>...</td>\n",
       "      <td>N</td>\n",
       "      <td>4AF8584F9F305593B4E377C14FDD56F3</td>\n",
       "      <td>NaN</td>\n",
       "      <td>NaN</td>\n",
       "      <td>0.0</td>\n",
       "      <td>NaN</td>\n",
       "      <td>19/06/22</td>\n",
       "      <td>NaN</td>\n",
       "      <td>SYSTEM</td>\n",
       "      <td>True</td>\n",
       "    </tr>\n",
       "  </tbody>\n",
       "</table>\n",
       "<p>5 rows × 33 columns</p>\n",
       "</div>"
      ],
      "text/plain": [
       "               차량관리번호     차량등록번호  본거지 법정동 코드 소유자 구분  차종   용도  \\\n",
       "12920  02714202543-02  전남88바4100  4684025623     법인  화물  영업용   \n",
       "8932     4799경북5가8961   경북5가8961  4729036031     기타  승합  자가용   \n",
       "8803   03812100678-02   대구7라6343  2723010700     기타  화물  자가용   \n",
       "16805    4199경기5더1681   경기5더1681  4111512900     기타  승합  자가용   \n",
       "1435   10782112705-02   대구7다4854  2717010500     기타  화물  자가용   \n",
       "\n",
       "                                     미정                           현재 회원번호  \\\n",
       "12920  F7753D45C13AA16062A88245758B7D2E  F5D61439CB9238E48AECECF5032448DC   \n",
       "8932   CCC5704BAFCC29F2958D0D32CED1FE4A                               NaN   \n",
       "8803   1A626438A254ADAAEC2A54F67B12F3B6                               NaN   \n",
       "16805  41E717A4E43EF065F16C2CA4E0B4FE62                               NaN   \n",
       "1435   96AB517FE535425FE80031865F13FFB9                               NaN   \n",
       "\n",
       "                                                      미정  \\\n",
       "12920  C970157167EDAF82F98541BEBFD58BB1BCA7E0FDDAFCD3...   \n",
       "8932   62CAB3B5761F9CBED520290FC5561E82494FC746EDD2F6...   \n",
       "8803   293EEEDBAA9D90630322974F68FF44D7756D1EA17960DC...   \n",
       "16805  4D6C456F5EA00A1D710B1FA9EB407D26304452416EF808...   \n",
       "1435   5DAEC5ED1C2610777083FD2CBDE30146AC321B6AFF3045...   \n",
       "\n",
       "                                                      미정  ... 차량 말소 YN  \\\n",
       "12920  C970157167EDAF82F98541BEBFD58BB1BCA7E0FDDAFCD3...  ...        N   \n",
       "8932   62CAB3B5761F9CBED520290FC5561E82494FC746EDD2F6...  ...        N   \n",
       "8803   293EEEDBAA9D90630322974F68FF44D7756D1EA17960DC...  ...        N   \n",
       "16805  4D6C456F5EA00A1D710B1FA9EB407D26304452416EF808...  ...        N   \n",
       "1435   5DAEC5ED1C2610777083FD2CBDE30146AC321B6AFF3045...  ...        N   \n",
       "\n",
       "                                     미정                           최초 회원번호  \\\n",
       "12920  4279B803FE44CB9B7340B093634069D2  A0AD12FEF546F16B2B3E9F3553EBA78A   \n",
       "8932   CCC5704BAFCC29F2958D0D32CED1FE4A                               NaN   \n",
       "8803   B1D569B53076A435DF6F64E35C69C249                               NaN   \n",
       "16805  0F68F37522D7AC9A6312C3FDB3032D20                               NaN   \n",
       "1435   4AF8584F9F305593B4E377C14FDD56F3                               NaN   \n",
       "\n",
       "          취득 일자  취득 금액   미정     생성 일시 수정 일시      미정  dupl  \n",
       "12920  20071025    0.0  NaN  19/06/22   NaN  SYSTEM  True  \n",
       "8932        NaN    NaN  NaN  19/06/22   NaN  SYSTEM  True  \n",
       "8803        NaN    0.0  NaN  19/06/22   NaN  SYSTEM  True  \n",
       "16805       NaN    NaN  NaN  19/06/22   NaN  SYSTEM  True  \n",
       "1435        NaN    0.0  NaN  19/06/22   NaN  SYSTEM  True  \n",
       "\n",
       "[5 rows x 33 columns]"
      ]
     },
     "execution_count": 37,
     "metadata": {},
     "output_type": "execute_result"
    }
   ],
   "source": [
    "temp[temp['dupl'] == True].sort_values('차대번호').head()"
   ]
  },
  {
   "attachments": {},
   "cell_type": "markdown",
   "metadata": {},
   "source": [
    "#### [출력] 중복차대번호 샘플"
   ]
  },
  {
   "cell_type": "code",
   "execution_count": 38,
   "metadata": {},
   "outputs": [],
   "source": [
    "temp[temp['dupl'] == True].sort_values('차대번호').to_csv('analysis2/[ODS][샘플]중복차대번호.csv', index=False, encoding='cp949')"
   ]
  },
  {
   "attachments": {},
   "cell_type": "markdown",
   "metadata": {},
   "source": [
    "#### 중복 차대번호 제거"
   ]
  },
  {
   "cell_type": "code",
   "execution_count": 39,
   "metadata": {},
   "outputs": [
    {
     "data": {
      "text/plain": [
       "(29534047, 32)"
      ]
     },
     "execution_count": 39,
     "metadata": {},
     "output_type": "execute_result"
    }
   ],
   "source": [
    "df.shape"
   ]
  },
  {
   "cell_type": "code",
   "execution_count": 40,
   "metadata": {},
   "outputs": [
    {
     "data": {
      "text/plain": [
       "(29521505, 32)"
      ]
     },
     "execution_count": 40,
     "metadata": {},
     "output_type": "execute_result"
    }
   ],
   "source": [
    "# about 1m 40s\n",
    "df1 = df.sort_values(['최초 등록 일자', '배출가스검사유효일자'], ascending=[False, False]).drop_duplicates('차대번호').reset_index(drop=True)\n",
    "df1.shape"
   ]
  },
  {
   "attachments": {},
   "cell_type": "markdown",
   "metadata": {},
   "source": [
    "## [출력] [ODS]자동차_등록정보(CEG_CAR_MIG)(중복 차대번호 제거)"
   ]
  },
  {
   "cell_type": "code",
   "execution_count": 41,
   "metadata": {},
   "outputs": [],
   "source": [
    "# about 12m\n",
    "df1.to_csv(os.path.join(ods_fold, '[ODS]자동차_등록정보(중복차대제거)(2022.12.29).csv'), index=False)"
   ]
  },
  {
   "cell_type": "code",
   "execution_count": 42,
   "metadata": {},
   "outputs": [
    {
     "data": {
      "text/plain": [
       "array(['1', '2', 'X', '3', 'T2', 'T3', 'T4', '5', '4', 'T5', nan],\n",
       "      dtype=object)"
      ]
     },
     "execution_count": 42,
     "metadata": {},
     "output_type": "execute_result"
    }
   ],
   "source": [
    "df1['배출가스 등급'].unique()"
   ]
  },
  {
   "cell_type": "code",
   "execution_count": 43,
   "metadata": {},
   "outputs": [
    {
     "data": {
      "text/plain": [
       "31"
      ]
     },
     "execution_count": 43,
     "metadata": {},
     "output_type": "execute_result"
    }
   ],
   "source": [
    "df1['배출가스 등급'].isnull().sum()"
   ]
  },
  {
   "cell_type": "code",
   "execution_count": 44,
   "metadata": {},
   "outputs": [
    {
     "data": {
      "text/plain": [
       "2     11798398\n",
       "3      9886814\n",
       "1      2869999\n",
       "5      2377881\n",
       "4      1897535\n",
       "X       303662\n",
       "T2      250264\n",
       "T3      136832\n",
       "T5          47\n",
       "T4          42\n",
       "Name: 배출가스 등급, dtype: int64"
      ]
     },
     "execution_count": 44,
     "metadata": {},
     "output_type": "execute_result"
    }
   ],
   "source": [
    "df1['배출가스 등급'].value_counts()"
   ]
  },
  {
   "cell_type": "code",
   "execution_count": 45,
   "metadata": {},
   "outputs": [
    {
     "data": {
      "text/plain": [
       "(2869999, 32)"
      ]
     },
     "execution_count": 45,
     "metadata": {},
     "output_type": "execute_result"
    }
   ],
   "source": [
    "g1 = df1[(df1['배출가스 등급'] == '1')]\n",
    "g1.shape"
   ]
  },
  {
   "cell_type": "code",
   "execution_count": 46,
   "metadata": {},
   "outputs": [
    {
     "data": {
      "text/plain": [
       "(12048662, 32)"
      ]
     },
     "execution_count": 46,
     "metadata": {},
     "output_type": "execute_result"
    }
   ],
   "source": [
    "g2 = df1[(df1['배출가스 등급'] == '2') | (df1['배출가스 등급'] == 'T2')]\n",
    "g2.shape"
   ]
  },
  {
   "cell_type": "code",
   "execution_count": 47,
   "metadata": {},
   "outputs": [
    {
     "data": {
      "text/plain": [
       "(10023646, 32)"
      ]
     },
     "execution_count": 47,
     "metadata": {},
     "output_type": "execute_result"
    }
   ],
   "source": [
    "g3 = df1[(df1['배출가스 등급'] == '3') | (df1['배출가스 등급'] == 'T3')]\n",
    "g3.shape"
   ]
  },
  {
   "cell_type": "code",
   "execution_count": 48,
   "metadata": {},
   "outputs": [
    {
     "data": {
      "text/plain": [
       "(1897577, 32)"
      ]
     },
     "execution_count": 48,
     "metadata": {},
     "output_type": "execute_result"
    }
   ],
   "source": [
    "g4 = df1[(df1['배출가스 등급'] == '4') | (df1['배출가스 등급'] == 'T4')]\n",
    "g4.shape"
   ]
  },
  {
   "cell_type": "code",
   "execution_count": 49,
   "metadata": {},
   "outputs": [
    {
     "data": {
      "text/plain": [
       "(2377928, 32)"
      ]
     },
     "execution_count": 49,
     "metadata": {},
     "output_type": "execute_result"
    }
   ],
   "source": [
    "g5 = df1[(df1['배출가스 등급'] == '5') | (df1['배출가스 등급'] == 'T5')]\n",
    "g5.shape"
   ]
  },
  {
   "attachments": {},
   "cell_type": "markdown",
   "metadata": {},
   "source": [
    "## [출력] [ODS]등급별 등록정보(중복차대제거)"
   ]
  },
  {
   "cell_type": "code",
   "execution_count": 50,
   "metadata": {},
   "outputs": [],
   "source": [
    "# about 1m\n",
    "g1.to_csv(os.path.join(ods_fold, '[ODS][G1]자동차_등록정보(중복차대제거)(2022.12.29).csv'), index=False, encoding='cp949')\n",
    "# about 5m\n",
    "g2.to_csv(os.path.join(ods_fold, '[ODS][G2]자동차_등록정보(중복차대제거)(2022.12.29).csv'), index=False, encoding='cp949')\n",
    "# about 3m 40s\n",
    "g3.to_csv(os.path.join(ods_fold, '[ODS][G3]자동차_등록정보(중복차대제거)(2022.12.29).csv'), index=False, encoding='cp949')\n",
    "# about 40s\n",
    "g4.to_csv(os.path.join(ods_fold, '[ODS][G4]자동차_등록정보(중복차대제거)(2022.12.29).csv'), index=False, encoding='cp949')\n",
    "# about 30s\n",
    "g5.to_csv(os.path.join(ods_fold, '[ODS][G5]자동차_등록정보(중복차대제거)(2022.12.29).csv'), index=False, encoding='cp949')"
   ]
  },
  {
   "attachments": {},
   "cell_type": "markdown",
   "metadata": {},
   "source": [
    "## 말소 차량 제거"
   ]
  },
  {
   "cell_type": "code",
   "execution_count": 51,
   "metadata": {},
   "outputs": [
    {
     "data": {
      "text/plain": [
       "N    25692466\n",
       "Y     3829039\n",
       "Name: 차량 말소 YN, dtype: int64"
      ]
     },
     "execution_count": 51,
     "metadata": {},
     "output_type": "execute_result"
    }
   ],
   "source": [
    "df1['차량 말소 YN'].value_counts()"
   ]
  },
  {
   "cell_type": "code",
   "execution_count": 52,
   "metadata": {},
   "outputs": [
    {
     "data": {
      "text/plain": [
       "(25692466, 32)"
      ]
     },
     "execution_count": 52,
     "metadata": {},
     "output_type": "execute_result"
    }
   ],
   "source": [
    "g_n = df1[df1['차량 말소 YN'] == 'N']\n",
    "g_n.shape"
   ]
  },
  {
   "cell_type": "code",
   "execution_count": 53,
   "metadata": {},
   "outputs": [
    {
     "data": {
      "text/plain": [
       "(2771361, 32)"
      ]
     },
     "execution_count": 53,
     "metadata": {},
     "output_type": "execute_result"
    }
   ],
   "source": [
    "g1_n = g1[g1['차량 말소 YN'] == 'N'].reset_index(drop=True)\n",
    "g1_n.shape"
   ]
  },
  {
   "cell_type": "code",
   "execution_count": 54,
   "metadata": {},
   "outputs": [
    {
     "data": {
      "text/plain": [
       "(11207276, 32)"
      ]
     },
     "execution_count": 54,
     "metadata": {},
     "output_type": "execute_result"
    }
   ],
   "source": [
    "g2_n = g2[g2['차량 말소 YN'] == 'N'].reset_index(drop=True)\n",
    "g2_n.shape"
   ]
  },
  {
   "cell_type": "code",
   "execution_count": 55,
   "metadata": {},
   "outputs": [
    {
     "data": {
      "text/plain": [
       "(8759209, 32)"
      ]
     },
     "execution_count": 55,
     "metadata": {},
     "output_type": "execute_result"
    }
   ],
   "source": [
    "g3_n = g3[g3['차량 말소 YN'] == 'N'].reset_index(drop=True)\n",
    "g3_n.shape"
   ]
  },
  {
   "cell_type": "code",
   "execution_count": 56,
   "metadata": {},
   "outputs": [
    {
     "data": {
      "text/plain": [
       "(1511139, 32)"
      ]
     },
     "execution_count": 56,
     "metadata": {},
     "output_type": "execute_result"
    }
   ],
   "source": [
    "g4_n = g4[g4['차량 말소 YN'] == 'N'].reset_index(drop=True)\n",
    "g4_n.shape"
   ]
  },
  {
   "cell_type": "code",
   "execution_count": 57,
   "metadata": {},
   "outputs": [
    {
     "data": {
      "text/plain": [
       "(1154696, 32)"
      ]
     },
     "execution_count": 57,
     "metadata": {},
     "output_type": "execute_result"
    }
   ],
   "source": [
    "g5_n = g5[g5['차량 말소 YN'] == 'N'].reset_index(drop=True)\n",
    "g5_n.shape"
   ]
  },
  {
   "attachments": {},
   "cell_type": "markdown",
   "metadata": {},
   "source": [
    "### [출력] [ODS]등록정보(말소제거)"
   ]
  },
  {
   "cell_type": "code",
   "execution_count": 58,
   "metadata": {},
   "outputs": [],
   "source": [
    "# about 11m\n",
    "g_n.to_csv(os.path.join(ods_fold, '[ODS]자동차_등록정보(말소제거)(중복차대제거)(2022.12.29).csv'), index=False, encoding='cp949')"
   ]
  },
  {
   "attachments": {},
   "cell_type": "markdown",
   "metadata": {},
   "source": [
    "### [출력] [ODS]등급별 등록정보(말소제거)"
   ]
  },
  {
   "cell_type": "code",
   "execution_count": 59,
   "metadata": {},
   "outputs": [],
   "source": [
    "# about 1m\n",
    "g1_n.to_csv(os.path.join(ods_fold, '[ODS][G1]자동차_등록정보(말소제거)(중복차대제거)(2022.12.29).csv'), index=False, encoding='cp949')\n",
    "# about 5m\n",
    "g2_n.to_csv(os.path.join(ods_fold, '[ODS][G2]자동차_등록정보(말소제거)(중복차대제거)(2022.12.29).csv'), index=False, encoding='cp949')\n",
    "# about 3m 40s\n",
    "g3_n.to_csv(os.path.join(ods_fold, '[ODS][G3]자동차_등록정보(말소제거)(중복차대제거)(2022.12.29).csv'), index=False, encoding='cp949')\n",
    "# about 40s\n",
    "g4_n.to_csv(os.path.join(ods_fold, '[ODS][G4]자동차_등록정보(말소제거)(중복차대제거)(2022.12.29).csv'), index=False, encoding='cp949')\n",
    "# about 30s\n",
    "g5_n.to_csv(os.path.join(ods_fold, '[ODS][G5]자동차_등록정보(말소제거)(중복차대제거)(2022.12.29).csv'), index=False, encoding='cp949')"
   ]
  },
  {
   "attachments": {},
   "cell_type": "markdown",
   "metadata": {},
   "source": [
    "# 코드 마지막"
   ]
  }
 ],
 "metadata": {
  "kernelspec": {
   "display_name": "base",
   "language": "python",
   "name": "python3"
  },
  "language_info": {
   "codemirror_mode": {
    "name": "ipython",
    "version": 3
   },
   "file_extension": ".py",
   "mimetype": "text/x-python",
   "name": "python",
   "nbconvert_exporter": "python",
   "pygments_lexer": "ipython3",
   "version": "3.9.13"
  },
  "orig_nbformat": 4,
  "vscode": {
   "interpreter": {
    "hash": "ad2bdc8ecc057115af97d19610ffacc2b4e99fae6737bb82f5d7fb13d2f2c186"
   }
  }
 },
 "nbformat": 4,
 "nbformat_minor": 2
}
