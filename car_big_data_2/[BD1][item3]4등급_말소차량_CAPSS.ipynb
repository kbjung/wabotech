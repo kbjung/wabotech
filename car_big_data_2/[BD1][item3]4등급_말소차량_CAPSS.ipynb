{
 "cells": [
  {
   "attachments": {},
   "cell_type": "markdown",
   "metadata": {},
   "source": [
    "# Library"
   ]
  },
  {
   "cell_type": "code",
   "execution_count": 1,
   "metadata": {},
   "outputs": [],
   "source": [
    "import pandas as pd\n",
    "import numpy as np\n",
    "import os\n",
    "from tqdm import tqdm\n",
    "from datetime import datetime\n",
    "import math"
   ]
  },
  {
   "cell_type": "code",
   "execution_count": 2,
   "metadata": {},
   "outputs": [],
   "source": [
    "# 소수점 옵션\n",
    "pd.options.display.float_format = '{:.2f}'.format\n",
    "# pd.reset_option('display.float_format')"
   ]
  },
  {
   "attachments": {},
   "cell_type": "markdown",
   "metadata": {},
   "source": [
    "# fold path"
   ]
  },
  {
   "cell_type": "code",
   "execution_count": 3,
   "metadata": {},
   "outputs": [],
   "source": [
    "drive = 'D'\n",
    "raw_fold = f'{drive}:/data/big2/BD1/raw'\n",
    "ods_fold = f'{drive}:/data/big2/ODS'\n",
    "sample_fold = f'{drive}:/data/big2/BD1/sample'\n",
    "analysis_fold = f'{drive}:/data/big2/BD1/an'\n",
    "df_fold = f'{drive}:/data/big2/BD1/df'"
   ]
  },
  {
   "attachments": {},
   "cell_type": "markdown",
   "metadata": {},
   "source": [
    "# Load\n",
    "- 등록&제원 -> result 4등급(연료 : 경유, 휘발유, LPG)\n",
    "- 정기/정밀검사 -> 연간 주행거리(1일평균주행거리)"
   ]
  },
  {
   "attachments": {},
   "cell_type": "markdown",
   "metadata": {},
   "source": [
    "## 말소현황"
   ]
  },
  {
   "cell_type": "code",
   "execution_count": 4,
   "metadata": {},
   "outputs": [
    {
     "name": "stdout",
     "output_type": "stream",
     "text": [
      "<class 'pandas.core.frame.DataFrame'>\n",
      "RangeIndex: 3642216 entries, 0 to 3642215\n",
      "Data columns (total 32 columns):\n",
      " #   Column       Dtype  \n",
      "---  ------       -----  \n",
      " 0   차량관리번호       object \n",
      " 1   본거지법정동코드     int64  \n",
      " 2   차종_등록정보      object \n",
      " 3   차대번호         object \n",
      " 4   최초등록일자       int64  \n",
      " 5   차량연식         int64  \n",
      " 6   제원관리번호       object \n",
      " 7   배출가스인증번호     object \n",
      " 8   배출가스등급       object \n",
      " 9   차량말소YN_등록정보  object \n",
      " 10  차명           object \n",
      " 11  차종유형(소분류)    object \n",
      " 12  제작사명         object \n",
      " 13  연료           object \n",
      " 14  등급           object \n",
      " 15  차량말소YN_변경이력  object \n",
      " 16  변경일자         int64  \n",
      " 17  변경구분코드       float64\n",
      " 18  법정동코드        int64  \n",
      " 19  시도           object \n",
      " 20  시구군          object \n",
      " 21  읍면동          object \n",
      " 22  리            object \n",
      " 23  지역3          float64\n",
      " 24  폐지여부         object \n",
      " 25  대기관리권역       object \n",
      " 26  대기관리권역YN     object \n",
      " 27  저감장치         object \n",
      " 28  변경일자_년       int64  \n",
      " 29  변경일자_월       int64  \n",
      " 30  변경일자_일       int64  \n",
      " 31  변경일자_년_월     float64\n",
      "dtypes: float64(3), int64(8), object(21)\n",
      "memory usage: 889.2+ MB\n"
     ]
    }
   ],
   "source": [
    "# about 19.3s\n",
    "name = '말소정보_전처리완료'\n",
    "file_name = f'{name}.csv'\n",
    "df = pd.read_csv(os.path.join(ods_fold, file_name), low_memory=False)\n",
    "df.info()"
   ]
  },
  {
   "attachments": {},
   "cell_type": "markdown",
   "metadata": {},
   "source": [
    "## 정기, 정밀 검사(최근 3년)"
   ]
  },
  {
   "cell_type": "code",
   "execution_count": 5,
   "metadata": {},
   "outputs": [],
   "source": [
    "# # about 5m 5.3s\n",
    "# ins = pd.read_csv(os.path.join(ods_fold, '[ODS]정기&정밀검사(최근3년)(2022.12.28).csv'), encoding='cp949')\n",
    "# ins.info()"
   ]
  },
  {
   "attachments": {},
   "cell_type": "markdown",
   "metadata": {},
   "source": [
    "# 전처리"
   ]
  },
  {
   "cell_type": "code",
   "execution_count": 6,
   "metadata": {},
   "outputs": [
    {
     "data": {
      "text/plain": [
       "Index(['차량관리번호', '본거지법정동코드', '차종_등록정보', '차대번호', '최초등록일자', '차량연식', '제원관리번호',\n",
       "       '배출가스인증번호', '배출가스등급', '차량말소YN_등록정보', '차명', '차종유형(소분류)', '제작사명', '연료',\n",
       "       '등급', '차량말소YN_변경이력', '변경일자', '변경구분코드', '법정동코드', '시도', '시구군', '읍면동', '리',\n",
       "       '지역3', '폐지여부', '대기관리권역', '대기관리권역YN', '저감장치', '변경일자_년', '변경일자_월',\n",
       "       '변경일자_일', '변경일자_년_월'],\n",
       "      dtype='object')"
      ]
     },
     "execution_count": 6,
     "metadata": {},
     "output_type": "execute_result"
    }
   ],
   "source": [
    "df.columns"
   ]
  },
  {
   "cell_type": "code",
   "execution_count": 7,
   "metadata": {},
   "outputs": [
    {
     "data": {
      "text/plain": [
       "Index(['차량관리번호', '본거지법정동코드', '차종', '차대번호', '최초등록일자', '차량연식', '제원관리번호',\n",
       "       '배출가스인증번호', '배출가스등급', '차량말소YN_등록정보', '차명', '차종유형', '제작사명', '연료', '등급',\n",
       "       '차량말소YN_변경이력', '변경일자', '변경구분코드', '법정동코드', '시도', '시구군', '읍면동', '리',\n",
       "       '지역3', '폐지여부', '대기관리권역', '대기관리권역YN', '저감장치', '변경일자_년', '변경일자_월',\n",
       "       '변경일자_일', '변경일자_년_월'],\n",
       "      dtype='object')"
      ]
     },
     "execution_count": 7,
     "metadata": {},
     "output_type": "execute_result"
    }
   ],
   "source": [
    "df = df.rename(columns={'차종_등록정보':'차종', '차종유형(소분류)':'차종유형'})\n",
    "df.columns"
   ]
  },
  {
   "cell_type": "code",
   "execution_count": 8,
   "metadata": {},
   "outputs": [
    {
     "data": {
      "text/plain": [
       "연료\n",
       "경유             1660076\n",
       "휘발유            1528227\n",
       "LPG(액화석유가스)     412084\n",
       "휘발유 하이브리드        14497\n",
       "CNG(압축천연가스)       9204\n",
       "전기                8018\n",
       "NaN               7164\n",
       "LPG 하이브리드         2662\n",
       "기타연료               118\n",
       "수소                  99\n",
       "경유 하이브리드            43\n",
       "CNG 하이브리드           22\n",
       "알코올                  1\n",
       "태양열                  1\n",
       "Name: count, dtype: int64"
      ]
     },
     "execution_count": 8,
     "metadata": {},
     "output_type": "execute_result"
    }
   ],
   "source": [
    "df['연료'].value_counts(dropna=False)"
   ]
  },
  {
   "cell_type": "code",
   "execution_count": 9,
   "metadata": {},
   "outputs": [
    {
     "data": {
      "text/plain": [
       "등급\n",
       "3.0    1198403\n",
       "5.0    1189945\n",
       "2.0     783791\n",
       "4.0     366939\n",
       "1.0      88793\n",
       "X        14313\n",
       "NaN         32\n",
       "Name: count, dtype: int64"
      ]
     },
     "execution_count": 9,
     "metadata": {},
     "output_type": "execute_result"
    }
   ],
   "source": [
    "df['등급'].value_counts(dropna=False)"
   ]
  },
  {
   "attachments": {},
   "cell_type": "markdown",
   "metadata": {},
   "source": [
    "## 4등급 차량(휘발유, 경유, LPG) 추출"
   ]
  },
  {
   "cell_type": "code",
   "execution_count": 10,
   "metadata": {},
   "outputs": [
    {
     "data": {
      "text/plain": [
       "(366939, 32)"
      ]
     },
     "execution_count": 10,
     "metadata": {},
     "output_type": "execute_result"
    }
   ],
   "source": [
    "df1 = df[df['등급'] == '4.0'].reset_index(drop=True)\n",
    "df1.shape"
   ]
  },
  {
   "cell_type": "code",
   "execution_count": 11,
   "metadata": {},
   "outputs": [
    {
     "data": {
      "text/plain": [
       "연료\n",
       "경유             229930\n",
       "휘발유            124839\n",
       "LPG(액화석유가스)     12142\n",
       "NaN                17\n",
       "CNG(압축천연가스)        10\n",
       "기타연료                1\n",
       "Name: count, dtype: int64"
      ]
     },
     "execution_count": 11,
     "metadata": {},
     "output_type": "execute_result"
    }
   ],
   "source": [
    "df1['연료'].value_counts(dropna=False)"
   ]
  },
  {
   "cell_type": "code",
   "execution_count": 12,
   "metadata": {},
   "outputs": [
    {
     "data": {
      "text/plain": [
       "(28, 32)"
      ]
     },
     "execution_count": 12,
     "metadata": {},
     "output_type": "execute_result"
    }
   ],
   "source": [
    "etc = df1[(df1['연료'] == '알코올') | (df1['연료'] == 'CNG(압축천연가스)') | (df1['연료'] == '기타연료') | (df1['연료'].isnull() == True)].reset_index(drop=True)\n",
    "etc.shape"
   ]
  },
  {
   "cell_type": "code",
   "execution_count": 13,
   "metadata": {},
   "outputs": [
    {
     "data": {
      "text/plain": [
       "(366911, 32)"
      ]
     },
     "execution_count": 13,
     "metadata": {},
     "output_type": "execute_result"
    }
   ],
   "source": [
    "df1[(df1['연료'] == '휘발유') | (df1['연료'] == '경유') | (df1['연료'] == 'LPG(액화석유가스)')].shape"
   ]
  },
  {
   "cell_type": "code",
   "execution_count": 14,
   "metadata": {},
   "outputs": [
    {
     "data": {
      "text/plain": [
       "(366911, 32)"
      ]
     },
     "execution_count": 14,
     "metadata": {},
     "output_type": "execute_result"
    }
   ],
   "source": [
    "df2 = df1[(df1['연료'] == '휘발유') | (df1['연료'] == '경유') | (df1['연료'] == 'LPG(액화석유가스)')].reset_index(drop=True)\n",
    "df2.shape"
   ]
  },
  {
   "cell_type": "code",
   "execution_count": 15,
   "metadata": {},
   "outputs": [
    {
     "data": {
      "text/plain": [
       "Index(['차량관리번호', '본거지법정동코드', '차종', '차대번호', '최초등록일자', '차량연식', '제원관리번호',\n",
       "       '배출가스인증번호', '배출가스등급', '차량말소YN_등록정보', '차명', '차종유형', '제작사명', '연료', '등급',\n",
       "       '차량말소YN_변경이력', '변경일자', '변경구분코드', '법정동코드', '시도', '시구군', '읍면동', '리',\n",
       "       '지역3', '폐지여부', '대기관리권역', '대기관리권역YN', '저감장치', '변경일자_년', '변경일자_월',\n",
       "       '변경일자_일', '변경일자_년_월'],\n",
       "      dtype='object')"
      ]
     },
     "execution_count": 15,
     "metadata": {},
     "output_type": "execute_result"
    }
   ],
   "source": [
    "df2.columns"
   ]
  },
  {
   "cell_type": "code",
   "execution_count": 16,
   "metadata": {},
   "outputs": [
    {
     "data": {
      "text/plain": [
       "연료\n",
       "경유             229930\n",
       "휘발유            124839\n",
       "LPG(액화석유가스)     12142\n",
       "Name: count, dtype: int64"
      ]
     },
     "execution_count": 16,
     "metadata": {},
     "output_type": "execute_result"
    }
   ],
   "source": [
    "df2['연료'].value_counts(dropna=False)"
   ]
  },
  {
   "attachments": {},
   "cell_type": "markdown",
   "metadata": {},
   "source": [
    "## 중복 차대번호 확인\n",
    "- 최종등록일자, 배출가스검사유효일자 최신 데이터 사용"
   ]
  },
  {
   "cell_type": "code",
   "execution_count": 17,
   "metadata": {},
   "outputs": [
    {
     "data": {
      "text/plain": [
       "(366911, 366911)"
      ]
     },
     "execution_count": 17,
     "metadata": {},
     "output_type": "execute_result"
    }
   ],
   "source": [
    "df2.shape[0], len(df2['차대번호'].unique())"
   ]
  },
  {
   "cell_type": "code",
   "execution_count": 18,
   "metadata": {},
   "outputs": [
    {
     "data": {
      "text/plain": [
       "차종\n",
       "승용    261481\n",
       "화물     72295\n",
       "승합     32407\n",
       "특수       728\n",
       "Name: count, dtype: int64"
      ]
     },
     "execution_count": 18,
     "metadata": {},
     "output_type": "execute_result"
    }
   ],
   "source": [
    "df2['차종'].value_counts(dropna=False)"
   ]
  },
  {
   "cell_type": "code",
   "execution_count": 19,
   "metadata": {},
   "outputs": [
    {
     "data": {
      "text/plain": [
       "차종유형\n",
       "중형    215434\n",
       "소형    108708\n",
       "대형     32888\n",
       "경형      9881\n",
       "Name: count, dtype: int64"
      ]
     },
     "execution_count": 19,
     "metadata": {},
     "output_type": "execute_result"
    }
   ],
   "source": [
    "df2['차종유형'].value_counts()"
   ]
  },
  {
   "cell_type": "code",
   "execution_count": 20,
   "metadata": {},
   "outputs": [
    {
     "data": {
      "text/plain": [
       "count   366911.00\n",
       "mean      2004.69\n",
       "std          5.40\n",
       "min       1987.00\n",
       "25%       2000.00\n",
       "50%       2007.00\n",
       "75%       2009.00\n",
       "max       2018.00\n",
       "Name: 차량연식, dtype: float64"
      ]
     },
     "execution_count": 20,
     "metadata": {},
     "output_type": "execute_result"
    }
   ],
   "source": [
    "df2['차량연식'].describe()"
   ]
  },
  {
   "attachments": {},
   "cell_type": "markdown",
   "metadata": {},
   "source": [
    "## 연료별 차종별 차종유형 확인"
   ]
  },
  {
   "cell_type": "code",
   "execution_count": 21,
   "metadata": {},
   "outputs": [],
   "source": [
    "# df1.groupby(['연료', '차종', '차종유형'])['차대번호'].count()"
   ]
  },
  {
   "cell_type": "code",
   "execution_count": 22,
   "metadata": {},
   "outputs": [
    {
     "name": "stdout",
     "output_type": "stream",
     "text": [
      "경유 - 승용의 차종유형 : ['소형', '중형', '대형']\n",
      "경유 - 화물의 차종유형 : ['소형', '중형', '대형']\n",
      "경유 - 승합의 차종유형 : ['중형', '대형']\n",
      "경유 - 특수의 차종유형 : ['중형', '대형', '소형']\n",
      "휘발유 - 승용의 차종유형 : ['중형', '소형', '경형', '대형']\n",
      "휘발유 - 승합의 차종유형 : ['중형', '경형', '소형', '대형']\n",
      "휘발유 - 화물의 차종유형 : ['경형', '소형', '중형', '대형']\n",
      "휘발유 - 특수의 차종유형 : ['중형']\n",
      "LPG(액화석유가스) - 화물의 차종유형 : ['경형', '소형', '중형']\n",
      "LPG(액화석유가스) - 승용의 차종유형 : ['중형', '대형', '경형', '소형']\n",
      "LPG(액화석유가스) - 승합의 차종유형 : ['중형', '경형', '소형']\n"
     ]
    }
   ],
   "source": [
    "for fuel in ['경유', '휘발유', 'LPG(액화석유가스)']:\n",
    "    temp1 = df2[df2['연료'] == fuel].reset_index(drop=True)\n",
    "    for car_type in temp1['차종'].unique():\n",
    "        temp2 = temp1[temp1['차종'] == car_type].reset_index(drop=True)\n",
    "        car_size = list(temp2['차종유형'].unique())\n",
    "        print(f'{fuel} - {car_type}의 차종유형 : {car_size}')"
   ]
  },
  {
   "attachments": {},
   "cell_type": "markdown",
   "metadata": {},
   "source": [
    "### 차령 정보 계산 및 데이터 추가"
   ]
  },
  {
   "cell_type": "code",
   "execution_count": 23,
   "metadata": {},
   "outputs": [
    {
     "data": {
      "text/plain": [
       "2023"
      ]
     },
     "execution_count": 23,
     "metadata": {},
     "output_type": "execute_result"
    }
   ],
   "source": [
    "current_yr = int(datetime.today().strftime(\"%Y\"))\n",
    "current_yr"
   ]
  },
  {
   "cell_type": "code",
   "execution_count": 24,
   "metadata": {},
   "outputs": [
    {
     "data": {
      "text/plain": [
       "Index(['차량관리번호', '본거지법정동코드', '차종', '차대번호', '최초등록일자', '차량연식', '제원관리번호',\n",
       "       '배출가스인증번호', '배출가스등급', '차량말소YN_등록정보', '차명', '차종유형', '제작사명', '연료', '등급',\n",
       "       '차량말소YN_변경이력', '변경일자', '변경구분코드', '법정동코드', '시도', '시구군', '읍면동', '리',\n",
       "       '지역3', '폐지여부', '대기관리권역', '대기관리권역YN', '저감장치', '변경일자_년', '변경일자_월',\n",
       "       '변경일자_일', '변경일자_년_월'],\n",
       "      dtype='object')"
      ]
     },
     "execution_count": 24,
     "metadata": {},
     "output_type": "execute_result"
    }
   ],
   "source": [
    "df2.columns"
   ]
  },
  {
   "cell_type": "code",
   "execution_count": 25,
   "metadata": {},
   "outputs": [
    {
     "data": {
      "text/plain": [
       "count   366911.00\n",
       "mean        18.31\n",
       "std          5.40\n",
       "min          5.00\n",
       "25%         14.00\n",
       "50%         16.00\n",
       "75%         23.00\n",
       "max         36.00\n",
       "Name: 차령, dtype: float64"
      ]
     },
     "execution_count": 25,
     "metadata": {},
     "output_type": "execute_result"
    }
   ],
   "source": [
    "df2['차령'] = current_yr - df2['차량연식']\n",
    "df2['차령'].describe()"
   ]
  },
  {
   "attachments": {},
   "cell_type": "markdown",
   "metadata": {},
   "source": [
    "## 시도명, 시군구명 수정\n",
    "- 시군구명 앞지역명만 추출\n",
    "- 세종특별자치시 -> 세종시\n",
    "- 여주군 -> 여주시\n",
    "- 청원군 -> 청원시\n",
    "- 인천광역시 남구 -> 미추홀구"
   ]
  },
  {
   "cell_type": "code",
   "execution_count": 26,
   "metadata": {},
   "outputs": [
    {
     "data": {
      "text/plain": [
       "시도     0\n",
       "시구군    0\n",
       "차종     0\n",
       "dtype: int64"
      ]
     },
     "execution_count": 26,
     "metadata": {},
     "output_type": "execute_result"
    }
   ],
   "source": [
    "df2[['시도', '시구군', '차종']].isnull().sum()"
   ]
  },
  {
   "cell_type": "code",
   "execution_count": 27,
   "metadata": {},
   "outputs": [
    {
     "data": {
      "text/plain": [
       "array(['경기도', '인천광역시', '제주특별자치도', '서울특별시', '부산광역시', '충청북도', '대전광역시',\n",
       "       '울산광역시', '경상남도', '전라남도', '대구광역시', '세종특별자치시', '광주광역시', '충청남도',\n",
       "       '전라북도', '경상북도', '강원도'], dtype=object)"
      ]
     },
     "execution_count": 27,
     "metadata": {},
     "output_type": "execute_result"
    }
   ],
   "source": [
    "df2['시도'].unique()"
   ]
  },
  {
   "cell_type": "code",
   "execution_count": 28,
   "metadata": {},
   "outputs": [
    {
     "data": {
      "text/html": [
       "<div>\n",
       "<style scoped>\n",
       "    .dataframe tbody tr th:only-of-type {\n",
       "        vertical-align: middle;\n",
       "    }\n",
       "\n",
       "    .dataframe tbody tr th {\n",
       "        vertical-align: top;\n",
       "    }\n",
       "\n",
       "    .dataframe thead th {\n",
       "        text-align: right;\n",
       "    }\n",
       "</style>\n",
       "<table border=\"1\" class=\"dataframe\">\n",
       "  <thead>\n",
       "    <tr style=\"text-align: right;\">\n",
       "      <th></th>\n",
       "      <th>시도</th>\n",
       "      <th>시구군</th>\n",
       "    </tr>\n",
       "  </thead>\n",
       "  <tbody>\n",
       "    <tr>\n",
       "      <th>10</th>\n",
       "      <td>대전광역시</td>\n",
       "      <td>동구</td>\n",
       "    </tr>\n",
       "    <tr>\n",
       "      <th>11</th>\n",
       "      <td>서울특별시</td>\n",
       "      <td>서대문구</td>\n",
       "    </tr>\n",
       "    <tr>\n",
       "      <th>12</th>\n",
       "      <td>경기도</td>\n",
       "      <td>고양시 일산서구</td>\n",
       "    </tr>\n",
       "    <tr>\n",
       "      <th>13</th>\n",
       "      <td>울산광역시</td>\n",
       "      <td>남구</td>\n",
       "    </tr>\n",
       "    <tr>\n",
       "      <th>14</th>\n",
       "      <td>경상남도</td>\n",
       "      <td>창원시 마산회원구</td>\n",
       "    </tr>\n",
       "    <tr>\n",
       "      <th>15</th>\n",
       "      <td>경기도</td>\n",
       "      <td>화성시</td>\n",
       "    </tr>\n",
       "    <tr>\n",
       "      <th>16</th>\n",
       "      <td>경기도</td>\n",
       "      <td>양평군</td>\n",
       "    </tr>\n",
       "    <tr>\n",
       "      <th>17</th>\n",
       "      <td>서울특별시</td>\n",
       "      <td>강남구</td>\n",
       "    </tr>\n",
       "    <tr>\n",
       "      <th>18</th>\n",
       "      <td>서울특별시</td>\n",
       "      <td>구로구</td>\n",
       "    </tr>\n",
       "    <tr>\n",
       "      <th>19</th>\n",
       "      <td>서울특별시</td>\n",
       "      <td>강서구</td>\n",
       "    </tr>\n",
       "  </tbody>\n",
       "</table>\n",
       "</div>"
      ],
      "text/plain": [
       "       시도        시구군\n",
       "10  대전광역시         동구\n",
       "11  서울특별시       서대문구\n",
       "12    경기도   고양시 일산서구\n",
       "13  울산광역시         남구\n",
       "14   경상남도  창원시 마산회원구\n",
       "15    경기도        화성시\n",
       "16    경기도        양평군\n",
       "17  서울특별시        강남구\n",
       "18  서울특별시        구로구\n",
       "19  서울특별시        강서구"
      ]
     },
     "execution_count": 28,
     "metadata": {},
     "output_type": "execute_result"
    }
   ],
   "source": [
    "df2[['시도', '시구군']].iloc[10:20]"
   ]
  },
  {
   "cell_type": "code",
   "execution_count": 29,
   "metadata": {},
   "outputs": [],
   "source": [
    "df2['시구군_수정'] = df2['시구군'].str.split(' ').str[0]"
   ]
  },
  {
   "cell_type": "code",
   "execution_count": 30,
   "metadata": {},
   "outputs": [
    {
     "data": {
      "text/html": [
       "<div>\n",
       "<style scoped>\n",
       "    .dataframe tbody tr th:only-of-type {\n",
       "        vertical-align: middle;\n",
       "    }\n",
       "\n",
       "    .dataframe tbody tr th {\n",
       "        vertical-align: top;\n",
       "    }\n",
       "\n",
       "    .dataframe thead th {\n",
       "        text-align: right;\n",
       "    }\n",
       "</style>\n",
       "<table border=\"1\" class=\"dataframe\">\n",
       "  <thead>\n",
       "    <tr style=\"text-align: right;\">\n",
       "      <th></th>\n",
       "      <th>시도</th>\n",
       "      <th>시구군</th>\n",
       "      <th>시구군_수정</th>\n",
       "    </tr>\n",
       "  </thead>\n",
       "  <tbody>\n",
       "    <tr>\n",
       "      <th>10</th>\n",
       "      <td>대전광역시</td>\n",
       "      <td>동구</td>\n",
       "      <td>동구</td>\n",
       "    </tr>\n",
       "    <tr>\n",
       "      <th>11</th>\n",
       "      <td>서울특별시</td>\n",
       "      <td>서대문구</td>\n",
       "      <td>서대문구</td>\n",
       "    </tr>\n",
       "    <tr>\n",
       "      <th>12</th>\n",
       "      <td>경기도</td>\n",
       "      <td>고양시 일산서구</td>\n",
       "      <td>고양시</td>\n",
       "    </tr>\n",
       "    <tr>\n",
       "      <th>13</th>\n",
       "      <td>울산광역시</td>\n",
       "      <td>남구</td>\n",
       "      <td>남구</td>\n",
       "    </tr>\n",
       "    <tr>\n",
       "      <th>14</th>\n",
       "      <td>경상남도</td>\n",
       "      <td>창원시 마산회원구</td>\n",
       "      <td>창원시</td>\n",
       "    </tr>\n",
       "    <tr>\n",
       "      <th>15</th>\n",
       "      <td>경기도</td>\n",
       "      <td>화성시</td>\n",
       "      <td>화성시</td>\n",
       "    </tr>\n",
       "    <tr>\n",
       "      <th>16</th>\n",
       "      <td>경기도</td>\n",
       "      <td>양평군</td>\n",
       "      <td>양평군</td>\n",
       "    </tr>\n",
       "    <tr>\n",
       "      <th>17</th>\n",
       "      <td>서울특별시</td>\n",
       "      <td>강남구</td>\n",
       "      <td>강남구</td>\n",
       "    </tr>\n",
       "    <tr>\n",
       "      <th>18</th>\n",
       "      <td>서울특별시</td>\n",
       "      <td>구로구</td>\n",
       "      <td>구로구</td>\n",
       "    </tr>\n",
       "    <tr>\n",
       "      <th>19</th>\n",
       "      <td>서울특별시</td>\n",
       "      <td>강서구</td>\n",
       "      <td>강서구</td>\n",
       "    </tr>\n",
       "  </tbody>\n",
       "</table>\n",
       "</div>"
      ],
      "text/plain": [
       "       시도        시구군 시구군_수정\n",
       "10  대전광역시         동구     동구\n",
       "11  서울특별시       서대문구   서대문구\n",
       "12    경기도   고양시 일산서구    고양시\n",
       "13  울산광역시         남구     남구\n",
       "14   경상남도  창원시 마산회원구    창원시\n",
       "15    경기도        화성시    화성시\n",
       "16    경기도        양평군    양평군\n",
       "17  서울특별시        강남구    강남구\n",
       "18  서울특별시        구로구    구로구\n",
       "19  서울특별시        강서구    강서구"
      ]
     },
     "execution_count": 30,
     "metadata": {},
     "output_type": "execute_result"
    }
   ],
   "source": [
    "df2[['시도', '시구군', '시구군_수정']].iloc[10:20]"
   ]
  },
  {
   "cell_type": "code",
   "execution_count": 31,
   "metadata": {},
   "outputs": [
    {
     "data": {
      "text/plain": [
       "(0,)"
      ]
     },
     "execution_count": 31,
     "metadata": {},
     "output_type": "execute_result"
    }
   ],
   "source": [
    "df2.loc[df2['시구군_수정'] == '세종특별자치시', '시구군_수정'].shape"
   ]
  },
  {
   "cell_type": "code",
   "execution_count": 32,
   "metadata": {},
   "outputs": [],
   "source": [
    "# df2.loc[df2['시구군_수정'] == '세종특별자치시', '시구군_수정'] = '세종시'"
   ]
  },
  {
   "cell_type": "code",
   "execution_count": 33,
   "metadata": {},
   "outputs": [],
   "source": [
    "# df2.loc[df2['시구군_수정'] == '세종특별자치시', '시구군_수정'].shape"
   ]
  },
  {
   "cell_type": "code",
   "execution_count": 34,
   "metadata": {},
   "outputs": [
    {
     "data": {
      "text/plain": [
       "(0,)"
      ]
     },
     "execution_count": 34,
     "metadata": {},
     "output_type": "execute_result"
    }
   ],
   "source": [
    "df2.loc[df2['시구군_수정'] == '여주군', '시구군_수정'].shape"
   ]
  },
  {
   "cell_type": "code",
   "execution_count": 35,
   "metadata": {},
   "outputs": [],
   "source": [
    "# df2.loc[df2['시구군_수정'] == '여주군', '시구군_수정'] = '여주시'"
   ]
  },
  {
   "cell_type": "code",
   "execution_count": 36,
   "metadata": {},
   "outputs": [],
   "source": [
    "# df2.loc[df2['시구군_수정'] == '여주군', '시구군_수정'].shape"
   ]
  },
  {
   "cell_type": "code",
   "execution_count": 37,
   "metadata": {},
   "outputs": [
    {
     "data": {
      "text/plain": [
       "(0,)"
      ]
     },
     "execution_count": 37,
     "metadata": {},
     "output_type": "execute_result"
    }
   ],
   "source": [
    "df2.loc[df2['시구군_수정'] == '청원군', '시구군_수정'].shape"
   ]
  },
  {
   "cell_type": "code",
   "execution_count": 38,
   "metadata": {},
   "outputs": [],
   "source": [
    "# df2.loc[df2['시구군_수정'] == '청원군', '시구군_수정'] = '청주시'"
   ]
  },
  {
   "cell_type": "code",
   "execution_count": 39,
   "metadata": {},
   "outputs": [],
   "source": [
    "# df2.loc[df2['시구군_수정'] == '청원군', '시구군_수정'].shape"
   ]
  },
  {
   "cell_type": "code",
   "execution_count": 40,
   "metadata": {},
   "outputs": [
    {
     "data": {
      "text/plain": [
       "(0,)"
      ]
     },
     "execution_count": 40,
     "metadata": {},
     "output_type": "execute_result"
    }
   ],
   "source": [
    "df2.loc[(df2['시도'] == '인천광역시') & (df2['시구군_수정'] == '남구'), '시구군_수정'].shape"
   ]
  },
  {
   "cell_type": "code",
   "execution_count": 41,
   "metadata": {},
   "outputs": [],
   "source": [
    "# df2.loc[(df2['시도'] == '인천광역시') & (df2['시구군_수정'] == '남구'), '시구군_수정'] = '미추홀구'"
   ]
  },
  {
   "cell_type": "code",
   "execution_count": 42,
   "metadata": {},
   "outputs": [],
   "source": [
    "# df2.loc[(df2['시도'] == '인천광역시') & (df2['시구군_수정'] == '남구'), '시구군_수정'].shape"
   ]
  },
  {
   "attachments": {},
   "cell_type": "markdown",
   "metadata": {},
   "source": [
    "### [로드] 1일평균주행거리(2021)"
   ]
  },
  {
   "cell_type": "code",
   "execution_count": 43,
   "metadata": {},
   "outputs": [
    {
     "name": "stdout",
     "output_type": "stream",
     "text": [
      "<class 'pandas.core.frame.DataFrame'>\n",
      "RangeIndex: 1230 entries, 0 to 1229\n",
      "Data columns (total 4 columns):\n",
      " #   Column  Non-Null Count  Dtype  \n",
      "---  ------  --------------  -----  \n",
      " 0   시도명     1230 non-null   object \n",
      " 1   시군구명    1230 non-null   object \n",
      " 2   차종      1230 non-null   object \n",
      " 3   전체      1230 non-null   float64\n",
      "dtypes: float64(1), object(3)\n",
      "memory usage: 38.6+ KB\n"
     ]
    }
   ],
   "source": [
    "# 1일 평균 주행거리 자료 로드\n",
    "run = pd.read_excel(os.path.join(raw_fold, '용도별_차종별_시군구별_자동차1일평균주행거리(2021).xlsx'))\n",
    "run.info()"
   ]
  },
  {
   "attachments": {},
   "cell_type": "markdown",
   "metadata": {},
   "source": [
    "### [병합] 1일평균주행거리 데이터 추가(df1)"
   ]
  },
  {
   "cell_type": "code",
   "execution_count": 44,
   "metadata": {},
   "outputs": [
    {
     "data": {
      "text/plain": [
       "(366911, 37)"
      ]
     },
     "execution_count": 44,
     "metadata": {},
     "output_type": "execute_result"
    }
   ],
   "source": [
    "df3 = df2.merge(run, left_on=['시도', '시구군_수정', '차종'], right_on=['시도명', '시군구명', '차종'], how='left')\n",
    "df3.shape"
   ]
  },
  {
   "cell_type": "code",
   "execution_count": 45,
   "metadata": {},
   "outputs": [
    {
     "data": {
      "text/plain": [
       "Index(['차량관리번호', '본거지법정동코드', '차종', '차대번호', '최초등록일자', '차량연식', '제원관리번호',\n",
       "       '배출가스인증번호', '배출가스등급', '차량말소YN_등록정보', '차명', '차종유형', '제작사명', '연료', '등급',\n",
       "       '차량말소YN_변경이력', '변경일자', '변경구분코드', '법정동코드', '시도', '시구군', '읍면동', '리',\n",
       "       '지역3', '폐지여부', '대기관리권역', '대기관리권역YN', '저감장치', '변경일자_년', '변경일자_월',\n",
       "       '변경일자_일', '변경일자_년_월', '차령', '시구군_수정', '시도명', '시군구명', '전체'],\n",
       "      dtype='object')"
      ]
     },
     "execution_count": 45,
     "metadata": {},
     "output_type": "execute_result"
    }
   ],
   "source": [
    "df3.columns"
   ]
  },
  {
   "cell_type": "code",
   "execution_count": 46,
   "metadata": {},
   "outputs": [
    {
     "data": {
      "text/plain": [
       "3555"
      ]
     },
     "execution_count": 46,
     "metadata": {},
     "output_type": "execute_result"
    }
   ],
   "source": [
    "df3['전체'].isnull().sum()"
   ]
  },
  {
   "cell_type": "code",
   "execution_count": 47,
   "metadata": {},
   "outputs": [
    {
     "data": {
      "text/plain": [
       "0"
      ]
     },
     "execution_count": 47,
     "metadata": {},
     "output_type": "execute_result"
    }
   ],
   "source": [
    "df3['차종'].isnull().sum()"
   ]
  },
  {
   "cell_type": "code",
   "execution_count": 48,
   "metadata": {},
   "outputs": [
    {
     "data": {
      "text/html": [
       "<div>\n",
       "<style scoped>\n",
       "    .dataframe tbody tr th:only-of-type {\n",
       "        vertical-align: middle;\n",
       "    }\n",
       "\n",
       "    .dataframe tbody tr th {\n",
       "        vertical-align: top;\n",
       "    }\n",
       "\n",
       "    .dataframe thead th {\n",
       "        text-align: right;\n",
       "    }\n",
       "</style>\n",
       "<table border=\"1\" class=\"dataframe\">\n",
       "  <thead>\n",
       "    <tr style=\"text-align: right;\">\n",
       "      <th></th>\n",
       "      <th>시도</th>\n",
       "      <th>시구군_수정</th>\n",
       "      <th>차종</th>\n",
       "      <th>시도명</th>\n",
       "      <th>시군구명</th>\n",
       "    </tr>\n",
       "  </thead>\n",
       "  <tbody>\n",
       "    <tr>\n",
       "      <th>27</th>\n",
       "      <td>세종특별자치시</td>\n",
       "      <td>대평동</td>\n",
       "      <td>승용</td>\n",
       "      <td>NaN</td>\n",
       "      <td>NaN</td>\n",
       "    </tr>\n",
       "    <tr>\n",
       "      <th>60</th>\n",
       "      <td>세종특별자치시</td>\n",
       "      <td>연기면</td>\n",
       "      <td>화물</td>\n",
       "      <td>NaN</td>\n",
       "      <td>NaN</td>\n",
       "    </tr>\n",
       "    <tr>\n",
       "      <th>76</th>\n",
       "      <td>부산광역시</td>\n",
       "      <td>진구</td>\n",
       "      <td>화물</td>\n",
       "      <td>NaN</td>\n",
       "      <td>NaN</td>\n",
       "    </tr>\n",
       "    <tr>\n",
       "      <th>135</th>\n",
       "      <td>세종특별자치시</td>\n",
       "      <td>보람동</td>\n",
       "      <td>화물</td>\n",
       "      <td>NaN</td>\n",
       "      <td>NaN</td>\n",
       "    </tr>\n",
       "    <tr>\n",
       "      <th>212</th>\n",
       "      <td>세종특별자치시</td>\n",
       "      <td>전의면</td>\n",
       "      <td>승용</td>\n",
       "      <td>NaN</td>\n",
       "      <td>NaN</td>\n",
       "    </tr>\n",
       "  </tbody>\n",
       "</table>\n",
       "</div>"
      ],
      "text/plain": [
       "          시도 시구군_수정  차종  시도명 시군구명\n",
       "27   세종특별자치시    대평동  승용  NaN  NaN\n",
       "60   세종특별자치시    연기면  화물  NaN  NaN\n",
       "76     부산광역시     진구  화물  NaN  NaN\n",
       "135  세종특별자치시    보람동  화물  NaN  NaN\n",
       "212  세종특별자치시    전의면  승용  NaN  NaN"
      ]
     },
     "execution_count": 48,
     "metadata": {},
     "output_type": "execute_result"
    }
   ],
   "source": [
    "df3.loc[df3['전체'].isnull() == True, ['시도', '시구군_수정', '차종', '시도명', '시군구명']].head()"
   ]
  },
  {
   "cell_type": "code",
   "execution_count": 49,
   "metadata": {},
   "outputs": [
    {
     "data": {
      "text/plain": [
       "((363356, 37), (3555, 37))"
      ]
     },
     "execution_count": 49,
     "metadata": {},
     "output_type": "execute_result"
    }
   ],
   "source": [
    "dis_y = df3.loc[df3['전체'].isnull() == False].reset_index(drop=True)\n",
    "dis_n = df3.loc[df3['전체'].isnull() == True].reset_index(drop=True)\n",
    "dis_y.shape, dis_n.shape"
   ]
  },
  {
   "cell_type": "code",
   "execution_count": 50,
   "metadata": {},
   "outputs": [
    {
     "data": {
      "text/plain": [
       "Index(['차량관리번호', '본거지법정동코드', '차종', '차대번호', '최초등록일자', '차량연식', '제원관리번호',\n",
       "       '배출가스인증번호', '배출가스등급', '차량말소YN_등록정보', '차명', '차종유형', '제작사명', '연료', '등급',\n",
       "       '차량말소YN_변경이력', '변경일자', '변경구분코드', '법정동코드', '시도', '시구군', '읍면동', '리',\n",
       "       '지역3', '폐지여부', '대기관리권역', '대기관리권역YN', '저감장치', '변경일자_년', '변경일자_월',\n",
       "       '변경일자_일', '변경일자_년_월', '차령', '시구군_수정', '시도명', '시군구명', '전체'],\n",
       "      dtype='object')"
      ]
     },
     "execution_count": 50,
     "metadata": {},
     "output_type": "execute_result"
    }
   ],
   "source": [
    "dis_n.columns"
   ]
  },
  {
   "cell_type": "code",
   "execution_count": 51,
   "metadata": {},
   "outputs": [
    {
     "data": {
      "text/plain": [
       "Index(['차량관리번호', '본거지법정동코드', '차종', '차대번호', '최초등록일자', '차량연식', '제원관리번호',\n",
       "       '배출가스인증번호', '배출가스등급', '차량말소YN_등록정보', '차명', '차종유형', '제작사명', '연료', '등급',\n",
       "       '차량말소YN_변경이력', '변경일자', '변경구분코드', '법정동코드', '시도', '시구군', '읍면동', '리',\n",
       "       '지역3', '폐지여부', '대기관리권역', '대기관리권역YN', '저감장치', '변경일자_년', '변경일자_월',\n",
       "       '변경일자_일', '변경일자_년_월', '차령', '시구군_수정'],\n",
       "      dtype='object')"
      ]
     },
     "execution_count": 51,
     "metadata": {},
     "output_type": "execute_result"
    }
   ],
   "source": [
    "dis_n = dis_n.drop(['시도명', '시군구명', '전체'], axis=1)\n",
    "dis_n.columns"
   ]
  },
  {
   "cell_type": "code",
   "execution_count": 52,
   "metadata": {},
   "outputs": [
    {
     "data": {
      "text/plain": [
       "(1230, 4)"
      ]
     },
     "execution_count": 52,
     "metadata": {},
     "output_type": "execute_result"
    }
   ],
   "source": [
    "run.shape"
   ]
  },
  {
   "cell_type": "code",
   "execution_count": 53,
   "metadata": {},
   "outputs": [
    {
     "data": {
      "text/plain": [
       "(85, 4)"
      ]
     },
     "execution_count": 53,
     "metadata": {},
     "output_type": "execute_result"
    }
   ],
   "source": [
    "run_sort = run.drop_duplicates(['시도명', '차종']).reset_index(drop=True)\n",
    "run_sort.shape"
   ]
  },
  {
   "cell_type": "code",
   "execution_count": 54,
   "metadata": {},
   "outputs": [
    {
     "data": {
      "text/plain": [
       "(3555, 34)"
      ]
     },
     "execution_count": 54,
     "metadata": {},
     "output_type": "execute_result"
    }
   ],
   "source": [
    "dis_n.shape"
   ]
  },
  {
   "cell_type": "code",
   "execution_count": 55,
   "metadata": {},
   "outputs": [
    {
     "data": {
      "text/plain": [
       "(3555, 37)"
      ]
     },
     "execution_count": 55,
     "metadata": {},
     "output_type": "execute_result"
    }
   ],
   "source": [
    "dis_n = dis_n.merge(run_sort, left_on=['시도', '차종'], right_on=['시도명', '차종'], how='left')\n",
    "dis_n.shape"
   ]
  },
  {
   "cell_type": "code",
   "execution_count": 56,
   "metadata": {},
   "outputs": [
    {
     "data": {
      "text/plain": [
       "Index(['차량관리번호', '본거지법정동코드', '차종', '차대번호', '최초등록일자', '차량연식', '제원관리번호',\n",
       "       '배출가스인증번호', '배출가스등급', '차량말소YN_등록정보', '차명', '차종유형', '제작사명', '연료', '등급',\n",
       "       '차량말소YN_변경이력', '변경일자', '변경구분코드', '법정동코드', '시도', '시구군', '읍면동', '리',\n",
       "       '지역3', '폐지여부', '대기관리권역', '대기관리권역YN', '저감장치', '변경일자_년', '변경일자_월',\n",
       "       '변경일자_일', '변경일자_년_월', '차령', '시구군_수정', '시도명', '시군구명', '전체'],\n",
       "      dtype='object')"
      ]
     },
     "execution_count": 56,
     "metadata": {},
     "output_type": "execute_result"
    }
   ],
   "source": [
    "dis_n.columns"
   ]
  },
  {
   "cell_type": "code",
   "execution_count": 57,
   "metadata": {},
   "outputs": [
    {
     "data": {
      "text/plain": [
       "0"
      ]
     },
     "execution_count": 57,
     "metadata": {},
     "output_type": "execute_result"
    }
   ],
   "source": [
    "dis_n['전체'].isnull().sum()"
   ]
  },
  {
   "cell_type": "code",
   "execution_count": 58,
   "metadata": {},
   "outputs": [
    {
     "data": {
      "text/plain": [
       "(366911, 37)"
      ]
     },
     "execution_count": 58,
     "metadata": {},
     "output_type": "execute_result"
    }
   ],
   "source": [
    "df3.shape"
   ]
  },
  {
   "cell_type": "code",
   "execution_count": 59,
   "metadata": {},
   "outputs": [
    {
     "data": {
      "text/plain": [
       "(366911, 37)"
      ]
     },
     "execution_count": 59,
     "metadata": {},
     "output_type": "execute_result"
    }
   ],
   "source": [
    "df3 = pd.concat([dis_y, dis_n], ignore_index=True)\n",
    "df3.shape"
   ]
  },
  {
   "cell_type": "code",
   "execution_count": 60,
   "metadata": {},
   "outputs": [
    {
     "data": {
      "text/plain": [
       "Index(['차량관리번호', '본거지법정동코드', '차종', '차대번호', '최초등록일자', '차량연식', '제원관리번호',\n",
       "       '배출가스인증번호', '배출가스등급', '차량말소YN_등록정보', '차명', '차종유형', '제작사명', '연료', '등급',\n",
       "       '차량말소YN_변경이력', '변경일자', '변경구분코드', '법정동코드', '시도', '시구군', '읍면동', '리',\n",
       "       '지역3', '폐지여부', '대기관리권역', '대기관리권역YN', '저감장치', '변경일자_년', '변경일자_월',\n",
       "       '변경일자_일', '변경일자_년_월', '차령', '시구군_수정', '시도명', '시군구명', '전체'],\n",
       "      dtype='object')"
      ]
     },
     "execution_count": 60,
     "metadata": {},
     "output_type": "execute_result"
    }
   ],
   "source": [
    "df3.columns"
   ]
  },
  {
   "cell_type": "code",
   "execution_count": 61,
   "metadata": {},
   "outputs": [
    {
     "data": {
      "text/plain": [
       "Index(['차량관리번호', '본거지법정동코드', '차종', '차대번호', '최초등록일자', '차량연식', '제원관리번호',\n",
       "       '배출가스인증번호', '배출가스등급', '차량말소YN_등록정보', '차명', '차종유형', '제작사명', '연료', '등급',\n",
       "       '차량말소YN_변경이력', '변경일자', '변경구분코드', '법정동코드', '시도', '시구군', '읍면동', '리',\n",
       "       '지역3', '폐지여부', '대기관리권역', '대기관리권역YN', '저감장치', '변경일자_년', '변경일자_월',\n",
       "       '변경일자_일', '변경일자_년_월', '차령', '시구군_수정', '시도명', '시군구명', '1일평균주행거리'],\n",
       "      dtype='object')"
      ]
     },
     "execution_count": 61,
     "metadata": {},
     "output_type": "execute_result"
    }
   ],
   "source": [
    "df3 = df3.rename(columns={'전체':'1일평균주행거리'})\n",
    "df3.columns"
   ]
  },
  {
   "cell_type": "code",
   "execution_count": 62,
   "metadata": {},
   "outputs": [
    {
     "data": {
      "text/plain": [
       "0"
      ]
     },
     "execution_count": 62,
     "metadata": {},
     "output_type": "execute_result"
    }
   ],
   "source": [
    "df3['1일평균주행거리'].isnull().sum()"
   ]
  },
  {
   "cell_type": "code",
   "execution_count": 63,
   "metadata": {},
   "outputs": [
    {
     "data": {
      "text/plain": [
       "저감장치\n",
       "NaN    366895\n",
       "DPF        16\n",
       "Name: count, dtype: int64"
      ]
     },
     "execution_count": 63,
     "metadata": {},
     "output_type": "execute_result"
    }
   ],
   "source": [
    "df3['저감장치'].value_counts(dropna=False)"
   ]
  },
  {
   "attachments": {},
   "cell_type": "markdown",
   "metadata": {},
   "source": [
    "# 자동차-엔진 가열(Hot-start) 배출"
   ]
  },
  {
   "attachments": {},
   "cell_type": "markdown",
   "metadata": {},
   "source": [
    "## 배출량 식\n",
    "$$E_{i, j} = VKT \\times {EF_i \\over {1000}} \\times DF \\times (1 - {R \\over {100}})$$\n",
    "\n",
    "$E_{i, j}$ : 자동차 $j$의 도로주행시 발생한 오염물질 $i$의 배출량($kg/yr$)\n",
    "\n",
    "$VKT$ : 주행거리($km/yr$)\n",
    "\n",
    "$EF_i$ : 차종별, 연료별, 연식별, 차속별 배출계수($g/km$)\n",
    "\n",
    "$DF$ : 열화계수\n",
    "\n",
    "$R$ : 저감장치 부착 효율(%)"
   ]
  },
  {
   "attachments": {},
   "cell_type": "markdown",
   "metadata": {},
   "source": [
    "## 주행거리(VKT)\n",
    "- [현재 설정] \"용도별_차종별_시군구별_자동차주행거리\" 자료(KOSIS)(2021)의 1일 평균주행거리 * 365 = 주행거리(km/yr)"
   ]
  },
  {
   "cell_type": "code",
   "execution_count": 65,
   "metadata": {},
   "outputs": [],
   "source": [
    "df3['VKT'] = df3['1일평균주행거리'] * 365"
   ]
  },
  {
   "cell_type": "code",
   "execution_count": 66,
   "metadata": {},
   "outputs": [
    {
     "data": {
      "text/plain": [
       "Index(['차량관리번호', '본거지법정동코드', '차종', '차대번호', '최초등록일자', '차량연식', '제원관리번호',\n",
       "       '배출가스인증번호', '배출가스등급', '차량말소YN_등록정보', '차명', '차종유형', '제작사명', '연료', '등급',\n",
       "       '차량말소YN_변경이력', '변경일자', '변경구분코드', '법정동코드', '시도', '시구군', '읍면동', '리',\n",
       "       '지역3', '폐지여부', '대기관리권역', '대기관리권역YN', '저감장치', '변경일자_년', '변경일자_월',\n",
       "       '변경일자_일', '변경일자_년_월', '차령', '시구군_수정', '시도명', '시군구명', '1일평균주행거리', 'VKT'],\n",
       "      dtype='object')"
      ]
     },
     "execution_count": 66,
     "metadata": {},
     "output_type": "execute_result"
    }
   ],
   "source": [
    "df3.columns"
   ]
  },
  {
   "cell_type": "code",
   "execution_count": 67,
   "metadata": {},
   "outputs": [
    {
     "data": {
      "text/html": [
       "<div>\n",
       "<style scoped>\n",
       "    .dataframe tbody tr th:only-of-type {\n",
       "        vertical-align: middle;\n",
       "    }\n",
       "\n",
       "    .dataframe tbody tr th {\n",
       "        vertical-align: top;\n",
       "    }\n",
       "\n",
       "    .dataframe thead th {\n",
       "        text-align: right;\n",
       "    }\n",
       "</style>\n",
       "<table border=\"1\" class=\"dataframe\">\n",
       "  <thead>\n",
       "    <tr style=\"text-align: right;\">\n",
       "      <th></th>\n",
       "      <th>시도</th>\n",
       "      <th>시군구명</th>\n",
       "      <th>차종</th>\n",
       "      <th>VKT</th>\n",
       "    </tr>\n",
       "  </thead>\n",
       "  <tbody>\n",
       "    <tr>\n",
       "      <th>0</th>\n",
       "      <td>경기도</td>\n",
       "      <td>성남시</td>\n",
       "      <td>승용</td>\n",
       "      <td>12702.00</td>\n",
       "    </tr>\n",
       "    <tr>\n",
       "      <th>1</th>\n",
       "      <td>인천광역시</td>\n",
       "      <td>미추홀구</td>\n",
       "      <td>화물</td>\n",
       "      <td>17447.00</td>\n",
       "    </tr>\n",
       "    <tr>\n",
       "      <th>2</th>\n",
       "      <td>경기도</td>\n",
       "      <td>용인시</td>\n",
       "      <td>승용</td>\n",
       "      <td>13249.50</td>\n",
       "    </tr>\n",
       "    <tr>\n",
       "      <th>3</th>\n",
       "      <td>경기도</td>\n",
       "      <td>평택시</td>\n",
       "      <td>화물</td>\n",
       "      <td>20002.00</td>\n",
       "    </tr>\n",
       "    <tr>\n",
       "      <th>4</th>\n",
       "      <td>제주특별자치도</td>\n",
       "      <td>제주시</td>\n",
       "      <td>화물</td>\n",
       "      <td>14162.00</td>\n",
       "    </tr>\n",
       "  </tbody>\n",
       "</table>\n",
       "</div>"
      ],
      "text/plain": [
       "        시도  시군구명  차종      VKT\n",
       "0      경기도   성남시  승용 12702.00\n",
       "1    인천광역시  미추홀구  화물 17447.00\n",
       "2      경기도   용인시  승용 13249.50\n",
       "3      경기도   평택시  화물 20002.00\n",
       "4  제주특별자치도   제주시  화물 14162.00"
      ]
     },
     "execution_count": 67,
     "metadata": {},
     "output_type": "execute_result"
    }
   ],
   "source": [
    "df3[['시도', '시군구명', '차종', 'VKT']].head()"
   ]
  },
  {
   "cell_type": "code",
   "execution_count": 68,
   "metadata": {},
   "outputs": [
    {
     "data": {
      "text/plain": [
       "0"
      ]
     },
     "execution_count": 68,
     "metadata": {},
     "output_type": "execute_result"
    }
   ],
   "source": [
    "df3['VKT'].isnull().sum()"
   ]
  },
  {
   "attachments": {},
   "cell_type": "markdown",
   "metadata": {},
   "source": [
    "## DF(열화계수)\n",
    "- 필요한 정보 : 연료, 차종, 차종유형, 연식, 차령\n",
    "- 조건 수정(2023.04.20, 최)\n",
    "    - 특수 소형 = 승용 소형\n",
    "    - 승합 대형 = 화물 대형"
   ]
  },
  {
   "cell_type": "code",
   "execution_count": 69,
   "metadata": {},
   "outputs": [
    {
     "data": {
      "text/plain": [
       "array(['경유', '휘발유', 'LPG(액화석유가스)'], dtype=object)"
      ]
     },
     "execution_count": 69,
     "metadata": {},
     "output_type": "execute_result"
    }
   ],
   "source": [
    "df3['연료'].unique()"
   ]
  },
  {
   "cell_type": "code",
   "execution_count": 70,
   "metadata": {},
   "outputs": [],
   "source": [
    "DF_col = ['연료', '차종', '차종유형', '차량연식', '차령']"
   ]
  },
  {
   "cell_type": "code",
   "execution_count": 71,
   "metadata": {},
   "outputs": [
    {
     "data": {
      "text/html": [
       "<div>\n",
       "<style scoped>\n",
       "    .dataframe tbody tr th:only-of-type {\n",
       "        vertical-align: middle;\n",
       "    }\n",
       "\n",
       "    .dataframe tbody tr th {\n",
       "        vertical-align: top;\n",
       "    }\n",
       "\n",
       "    .dataframe thead th {\n",
       "        text-align: right;\n",
       "    }\n",
       "</style>\n",
       "<table border=\"1\" class=\"dataframe\">\n",
       "  <thead>\n",
       "    <tr style=\"text-align: right;\">\n",
       "      <th></th>\n",
       "      <th>연료</th>\n",
       "      <th>차종</th>\n",
       "      <th>차종유형</th>\n",
       "      <th>차량연식</th>\n",
       "      <th>차령</th>\n",
       "    </tr>\n",
       "  </thead>\n",
       "  <tbody>\n",
       "    <tr>\n",
       "      <th>0</th>\n",
       "      <td>경유</td>\n",
       "      <td>승용</td>\n",
       "      <td>소형</td>\n",
       "      <td>2007</td>\n",
       "      <td>16</td>\n",
       "    </tr>\n",
       "    <tr>\n",
       "      <th>1</th>\n",
       "      <td>경유</td>\n",
       "      <td>화물</td>\n",
       "      <td>소형</td>\n",
       "      <td>2011</td>\n",
       "      <td>12</td>\n",
       "    </tr>\n",
       "    <tr>\n",
       "      <th>2</th>\n",
       "      <td>경유</td>\n",
       "      <td>승용</td>\n",
       "      <td>중형</td>\n",
       "      <td>2008</td>\n",
       "      <td>15</td>\n",
       "    </tr>\n",
       "    <tr>\n",
       "      <th>3</th>\n",
       "      <td>경유</td>\n",
       "      <td>화물</td>\n",
       "      <td>소형</td>\n",
       "      <td>2009</td>\n",
       "      <td>14</td>\n",
       "    </tr>\n",
       "    <tr>\n",
       "      <th>4</th>\n",
       "      <td>경유</td>\n",
       "      <td>화물</td>\n",
       "      <td>소형</td>\n",
       "      <td>2008</td>\n",
       "      <td>15</td>\n",
       "    </tr>\n",
       "  </tbody>\n",
       "</table>\n",
       "</div>"
      ],
      "text/plain": [
       "   연료  차종 차종유형  차량연식  차령\n",
       "0  경유  승용   소형  2007  16\n",
       "1  경유  화물   소형  2011  12\n",
       "2  경유  승용   중형  2008  15\n",
       "3  경유  화물   소형  2009  14\n",
       "4  경유  화물   소형  2008  15"
      ]
     },
     "execution_count": 71,
     "metadata": {},
     "output_type": "execute_result"
    }
   ],
   "source": [
    "df3[DF_col].head()"
   ]
  },
  {
   "cell_type": "code",
   "execution_count": 72,
   "metadata": {},
   "outputs": [
    {
     "data": {
      "text/plain": [
       "array(['경유', '승용', '소형', 2007, 16], dtype=object)"
      ]
     },
     "execution_count": 72,
     "metadata": {},
     "output_type": "execute_result"
    }
   ],
   "source": [
    "df3[DF_col].values[0]"
   ]
  },
  {
   "attachments": {},
   "cell_type": "markdown",
   "metadata": {},
   "source": [
    "### ❗ DF(열화계수) 코드\n",
    "- 연료, 차종, 차종유형 설정에 해당되지 않는 차량의 열화계수 값 설정\n",
    "    - 현재 설정값 : np.nan\n",
    "    - 고려 설정값 : 1"
   ]
  },
  {
   "cell_type": "code",
   "execution_count": 73,
   "metadata": {},
   "outputs": [
    {
     "name": "stderr",
     "output_type": "stream",
     "text": [
      "100%|██████████| 366911/366911 [00:01<00:00, 283067.85it/s]\n"
     ]
    }
   ],
   "source": [
    "# about 5.0s\n",
    "DF_CO_list = []\n",
    "DF_HC_list = []\n",
    "DF_PM_list = []\n",
    "DF_NOx_list = []\n",
    "# '연료', '차종', '차종유형', '차량연식', '차령'\n",
    "for fuel, car_type, car_size, car_birth, car_age in tqdm(df3[DF_col].values):    \n",
    "    if fuel == '경유':\n",
    "        if (car_type == '승용') or ( (car_type == '특수') and (car_size == '소형') ): # 최 확인(2023.04.20) : \"특수 소형\" -> \"승용 소형\" 조건으로 계산\n",
    "            warranty = 5\n",
    "            if car_age <= warranty:\n",
    "                DF_CO = 1\n",
    "                DF_HC = 1\n",
    "                DF_PM = 1\n",
    "                DF_NOx = 1\n",
    "            else:\n",
    "                DF_CO = 1 + (car_age - warranty)*0.05\n",
    "                DF_HC = 1 + (car_age - warranty)*0.05\n",
    "                DF_PM = 1 + (car_age - warranty)*0.05\n",
    "                DF_NOx = 1 + (car_age - warranty)*0.02\n",
    "                if DF_CO > 1.5:\n",
    "                    DF_CO = 1.5\n",
    "                if DF_HC > 1.5:\n",
    "                    DF_HC = 1.5\n",
    "                if DF_PM > 1.5:\n",
    "                    DF_PM = 1.5\n",
    "                if DF_NOx > 1.2:\n",
    "                    DF_NOx = 1.2\n",
    "        elif car_type == '승합':\n",
    "            if car_size == '소형' or car_size == '중형':\n",
    "                warranty = 5\n",
    "                if car_age <= warranty:\n",
    "                    DF_CO = 1\n",
    "                    DF_HC = 1\n",
    "                    DF_PM = 1\n",
    "                    DF_NOx = 1\n",
    "                else:\n",
    "                    DF_CO = 1 + (car_age - warranty)*0.05\n",
    "                    DF_HC = 1 + (car_age - warranty)*0.05\n",
    "                    DF_PM = 1 + (car_age - warranty)*0.05\n",
    "                    DF_NOx = 1 + (car_age - warranty)*0.02\n",
    "                    if DF_CO > 1.5:\n",
    "                        DF_CO = 1.5\n",
    "                    if DF_HC > 1.5:\n",
    "                        DF_HC = 1.5\n",
    "                    if DF_PM > 1.5:\n",
    "                        DF_PM = 1.5\n",
    "                    if DF_NOx > 1.2:\n",
    "                        DF_NOx = 1.2\n",
    "            elif car_size == '대형':\n",
    "                warranty = 3\n",
    "                if car_age <= warranty:\n",
    "                    DF_CO = 1\n",
    "                    DF_HC = 1\n",
    "                    DF_PM = 1\n",
    "                    DF_NOx = 1\n",
    "                else:\n",
    "                    DF_CO = 1 + (car_age - warranty)*0.05\n",
    "                    DF_HC = 1 + (car_age - warranty)*0.05\n",
    "                    DF_PM = 1 + (car_age - warranty)*0.05\n",
    "                    DF_NOx = 1 + (car_age - warranty)*0.02\n",
    "                    if DF_CO > 1.5:\n",
    "                        DF_CO = 1.5\n",
    "                    if DF_HC > 1.5:\n",
    "                        DF_HC = 1.5\n",
    "                    if DF_PM > 1.5:\n",
    "                        DF_PM = 1.5\n",
    "                    if DF_NOx > 1.2:\n",
    "                        DF_NOx = 1.2\n",
    "        elif car_type == '화물':\n",
    "            # car_size : 경, 소, 중, 대\n",
    "            warranty = 5\n",
    "            if car_age <= warranty:\n",
    "                DF_CO = 1\n",
    "                DF_HC = 1\n",
    "                DF_PM = 1\n",
    "                DF_NOx = 1\n",
    "            else:\n",
    "                DF_CO = 1 + (car_age - warranty)*0.05\n",
    "                DF_HC = 1 + (car_age - warranty)*0.05\n",
    "                DF_PM = 1 + (car_age - warranty)*0.05\n",
    "                DF_NOx = 1 + (car_age - warranty)*0.02\n",
    "                if DF_CO > 1.5:\n",
    "                    DF_CO = 1.5\n",
    "                if DF_HC > 1.5:\n",
    "                    DF_HC = 1.5\n",
    "                if DF_PM > 1.5:\n",
    "                    DF_PM = 1.5\n",
    "                if DF_NOx > 1.2:\n",
    "                    DF_NOx = 1.2\n",
    "        elif car_type == '특수':\n",
    "            # car_size : 중, 대\n",
    "            warranty = 5\n",
    "            if car_age <= warranty:\n",
    "                DF_CO = 1\n",
    "                DF_HC = 1\n",
    "                DF_PM = 1\n",
    "                DF_NOx = 1\n",
    "            else:\n",
    "                DF_CO = 1 + (car_age - warranty)*0.05\n",
    "                DF_HC = 1 + (car_age - warranty)*0.05\n",
    "                DF_PM = 1 + (car_age - warranty)*0.05\n",
    "                DF_NOx = 1 + (car_age - warranty)*0.02\n",
    "                if DF_CO > 1.5:\n",
    "                    DF_CO = 1.5\n",
    "                if DF_HC > 1.5:\n",
    "                    DF_HC = 1.5\n",
    "                if DF_PM > 1.5:\n",
    "                    DF_PM = 1.5\n",
    "                if DF_NOx > 1.2:\n",
    "                    DF_NOx = 1.2\n",
    "    elif (fuel == '휘발유') or (fuel == 'LPG(액화석유가스)'):\n",
    "        if car_type == '승용':\n",
    "            # 경, 소, 중, 대\n",
    "            if car_birth <= 2000:\n",
    "                warranty = 5\n",
    "                if car_age <= warranty:\n",
    "                    DF_CO = 1\n",
    "                    DF_HC = 1\n",
    "                    DF_PM = 1\n",
    "                    DF_NOx = 1\n",
    "                else:\n",
    "                    DF_CO = 1 + (car_age - warranty)*0.1\n",
    "                    DF_HC = 1 + (car_age - warranty)*0.1\n",
    "                    DF_PM = 1 + (car_age - warranty)*0.1\n",
    "                    DF_NOx = 1 + (car_age - warranty)*0.1\n",
    "                    if DF_CO > 2.0:\n",
    "                        DF_CO = 2.0\n",
    "                    if DF_HC > 2.0:\n",
    "                        DF_HC = 2.0\n",
    "                    if DF_PM > 2.0:\n",
    "                        DF_PM = 2.0\n",
    "                    if DF_NOx > 2.0:\n",
    "                        DF_NOx = 2.0\n",
    "            elif car_birth >= 2001:\n",
    "                warranty = 10\n",
    "                if car_age <= warranty:\n",
    "                    DF_CO = 1\n",
    "                    DF_HC = 1\n",
    "                    DF_PM = 1\n",
    "                    DF_NOx = 1\n",
    "                else:\n",
    "                    DF_CO = 1 + (car_age - warranty)*0.1\n",
    "                    DF_HC = 1 + (car_age - warranty)*0.1\n",
    "                    DF_PM = 1 + (car_age - warranty)*0.1\n",
    "                    DF_NOx = 1 + (car_age - warranty)*0.1\n",
    "                    if DF_CO > 2.0:\n",
    "                        DF_CO = 2.0\n",
    "                    if DF_HC > 2.0:\n",
    "                        DF_HC = 2.0\n",
    "                    if DF_PM > 2.0:\n",
    "                        DF_PM = 2.0\n",
    "                    if DF_NOx > 2.0:\n",
    "                        DF_NOx = 2.0\n",
    "        elif car_type == '승합':\n",
    "            if car_size == '경형':\n",
    "                warranty = 5\n",
    "                if car_age <= warranty:\n",
    "                    DF_CO = 1\n",
    "                    DF_HC = 1\n",
    "                    DF_PM = 1\n",
    "                    DF_NOx = 1\n",
    "                else:\n",
    "                    DF_CO = 1 + (car_age - warranty)*0.1\n",
    "                    DF_HC = 1 + (car_age - warranty)*0.1\n",
    "                    DF_PM = 1 + (car_age - warranty)*0.1\n",
    "                    DF_NOx = 1 + (car_age - warranty)*0.1\n",
    "                    if DF_CO > 2.0:\n",
    "                        DF_CO = 2.0\n",
    "                    if DF_HC > 2.0:\n",
    "                        DF_HC = 2.0\n",
    "                    if DF_PM > 2.0:\n",
    "                        DF_PM = 2.0\n",
    "                    if DF_NOx > 2.0:\n",
    "                        DF_NOx = 2.0\n",
    "            elif (car_size == '소형') or (car_size == '중형'):\n",
    "                if car_birth <= 2005:\n",
    "                    warranty = 5\n",
    "                    if car_age <= warranty:\n",
    "                        DF_CO = 1\n",
    "                        DF_HC = 1\n",
    "                        DF_PM = 1\n",
    "                        DF_NOx = 1\n",
    "                    else:\n",
    "                        DF_CO = 1 + (car_age - warranty)*0.1\n",
    "                        DF_HC = 1 + (car_age - warranty)*0.1\n",
    "                        DF_PM = 1 + (car_age - warranty)*0.1\n",
    "                        DF_NOx = 1 + (car_age - warranty)*0.1\n",
    "                        if DF_CO > 2.0:\n",
    "                            DF_CO = 2.0\n",
    "                        if DF_HC > 2.0:\n",
    "                            DF_HC = 2.0\n",
    "                        if DF_PM > 2.0:\n",
    "                            DF_PM = 2.0\n",
    "                        if DF_NOx > 2.0:\n",
    "                            DF_NOx = 2.0\n",
    "                elif car_birth >= 2006:\n",
    "                    warranty = 10\n",
    "                    if car_age <= warranty:\n",
    "                        DF_CO = 1\n",
    "                        DF_HC = 1\n",
    "                        DF_PM = 1\n",
    "                        DF_NOx = 1\n",
    "                    else:\n",
    "                        DF_CO = 1 + (car_age - warranty)*0.1\n",
    "                        DF_HC = 1 + (car_age - warranty)*0.1\n",
    "                        DF_PM = 1 + (car_age - warranty)*0.1\n",
    "                        DF_NOx = 1 + (car_age - warranty)*0.1\n",
    "                        if DF_CO > 2.0:\n",
    "                            DF_CO = 2.0\n",
    "                        if DF_HC > 2.0:\n",
    "                            DF_HC = 2.0\n",
    "                        if DF_PM > 2.0:\n",
    "                            DF_PM = 2.0\n",
    "                        if DF_NOx > 2.0:\n",
    "                            DF_NOx = 2.0\n",
    "        elif (car_type == '화물') or ( (car_type == '승합') and (car_size == '대형')): # 최 확인(2023.04.20) : 습합 대형 -> 화물 대형 조건으로 계산\n",
    "            # 경, 소, 중, 대\n",
    "            warranty = 5\n",
    "            if car_age <= warranty:\n",
    "                DF_CO = 1\n",
    "                DF_HC = 1\n",
    "                DF_PM = 1\n",
    "                DF_NOx = 1\n",
    "            else:\n",
    "                DF_CO = 1 + (car_age - warranty)*0.1\n",
    "                DF_HC = 1 + (car_age - warranty)*0.1\n",
    "                DF_PM = 1 + (car_age - warranty)*0.1\n",
    "                DF_NOx = 1 + (car_age - warranty)*0.1\n",
    "                if DF_CO > 2.0:\n",
    "                    DF_CO = 2.0\n",
    "                if DF_HC > 2.0:\n",
    "                    DF_HC = 2.0\n",
    "                if DF_PM > 2.0:\n",
    "                    DF_PM = 2.0\n",
    "                if DF_NOx > 2.0:\n",
    "                    DF_NOx = 2.0\n",
    "        elif car_type == '특수':\n",
    "            # 중, 대\n",
    "            warranty = 5\n",
    "            if car_age <= warranty:\n",
    "                DF_CO = 1\n",
    "                DF_HC = 1\n",
    "                DF_PM = 1\n",
    "                DF_NOx = 1\n",
    "            else:\n",
    "                DF_CO = 1 + (car_age - warranty)*0.1\n",
    "                DF_HC = 1 + (car_age - warranty)*0.1\n",
    "                DF_PM = 1 + (car_age - warranty)*0.1\n",
    "                DF_NOx = 1 + (car_age - warranty)*0.1\n",
    "                if DF_CO > 2.0:\n",
    "                    DF_CO = 2.0\n",
    "                if DF_HC > 2.0:\n",
    "                    DF_HC = 2.0\n",
    "                if DF_PM > 2.0:\n",
    "                    DF_PM = 2.0\n",
    "                if DF_NOx > 2.0:\n",
    "                    DF_NOx = 2.0\n",
    "    else:\n",
    "        # 설정 고민\n",
    "            # 고려 : 1\n",
    "        # DF_CO, DF_HC, DF_PM, DF_NOx = np.nan, np.nan, np.nan, np.nan\n",
    "        DF_CO, DF_HC, DF_PM, DF_NOx = 1, 1, 1, 1\n",
    "\n",
    "    # 열화계수(DF) 리스트에 저장\n",
    "    DF_CO_list.append(DF_CO)\n",
    "    DF_HC_list.append(DF_HC)\n",
    "    DF_PM_list.append(DF_PM)\n",
    "    DF_NOx_list.append(DF_NOx)"
   ]
  },
  {
   "cell_type": "code",
   "execution_count": 74,
   "metadata": {},
   "outputs": [
    {
     "data": {
      "text/plain": [
       "366911"
      ]
     },
     "execution_count": 74,
     "metadata": {},
     "output_type": "execute_result"
    }
   ],
   "source": [
    "df3.shape[0]"
   ]
  },
  {
   "cell_type": "code",
   "execution_count": 75,
   "metadata": {},
   "outputs": [
    {
     "data": {
      "text/plain": [
       "(366911, 366911, 366911, 366911)"
      ]
     },
     "execution_count": 75,
     "metadata": {},
     "output_type": "execute_result"
    }
   ],
   "source": [
    "len(DF_CO_list), len(DF_HC_list), len(DF_PM_list), len(DF_NOx_list)"
   ]
  },
  {
   "cell_type": "code",
   "execution_count": 76,
   "metadata": {},
   "outputs": [],
   "source": [
    "df3['DF_CO'] = DF_CO_list\n",
    "df3['DF_HC'] = DF_HC_list\n",
    "df3['DF_PM'] = DF_PM_list\n",
    "df3['DF_NOx'] = DF_NOx_list"
   ]
  },
  {
   "cell_type": "code",
   "execution_count": 77,
   "metadata": {},
   "outputs": [
    {
     "data": {
      "text/html": [
       "<div>\n",
       "<style scoped>\n",
       "    .dataframe tbody tr th:only-of-type {\n",
       "        vertical-align: middle;\n",
       "    }\n",
       "\n",
       "    .dataframe tbody tr th {\n",
       "        vertical-align: top;\n",
       "    }\n",
       "\n",
       "    .dataframe thead th {\n",
       "        text-align: right;\n",
       "    }\n",
       "</style>\n",
       "<table border=\"1\" class=\"dataframe\">\n",
       "  <thead>\n",
       "    <tr style=\"text-align: right;\">\n",
       "      <th></th>\n",
       "      <th>연료</th>\n",
       "      <th>차종</th>\n",
       "      <th>차종유형</th>\n",
       "      <th>차량연식</th>\n",
       "      <th>차령</th>\n",
       "      <th>DF_CO</th>\n",
       "      <th>DF_HC</th>\n",
       "      <th>DF_PM</th>\n",
       "      <th>DF_NOx</th>\n",
       "    </tr>\n",
       "  </thead>\n",
       "  <tbody>\n",
       "    <tr>\n",
       "      <th>1001</th>\n",
       "      <td>경유</td>\n",
       "      <td>승용</td>\n",
       "      <td>대형</td>\n",
       "      <td>2015</td>\n",
       "      <td>8</td>\n",
       "      <td>1.15</td>\n",
       "      <td>1.15</td>\n",
       "      <td>1.15</td>\n",
       "      <td>1.06</td>\n",
       "    </tr>\n",
       "    <tr>\n",
       "      <th>24556</th>\n",
       "      <td>경유</td>\n",
       "      <td>특수</td>\n",
       "      <td>대형</td>\n",
       "      <td>2018</td>\n",
       "      <td>5</td>\n",
       "      <td>1.00</td>\n",
       "      <td>1.00</td>\n",
       "      <td>1.00</td>\n",
       "      <td>1.00</td>\n",
       "    </tr>\n",
       "    <tr>\n",
       "      <th>55794</th>\n",
       "      <td>경유</td>\n",
       "      <td>화물</td>\n",
       "      <td>대형</td>\n",
       "      <td>2014</td>\n",
       "      <td>9</td>\n",
       "      <td>1.20</td>\n",
       "      <td>1.20</td>\n",
       "      <td>1.20</td>\n",
       "      <td>1.08</td>\n",
       "    </tr>\n",
       "    <tr>\n",
       "      <th>66590</th>\n",
       "      <td>경유</td>\n",
       "      <td>특수</td>\n",
       "      <td>대형</td>\n",
       "      <td>2017</td>\n",
       "      <td>6</td>\n",
       "      <td>1.05</td>\n",
       "      <td>1.05</td>\n",
       "      <td>1.05</td>\n",
       "      <td>1.02</td>\n",
       "    </tr>\n",
       "    <tr>\n",
       "      <th>69840</th>\n",
       "      <td>경유</td>\n",
       "      <td>특수</td>\n",
       "      <td>대형</td>\n",
       "      <td>2017</td>\n",
       "      <td>6</td>\n",
       "      <td>1.05</td>\n",
       "      <td>1.05</td>\n",
       "      <td>1.05</td>\n",
       "      <td>1.02</td>\n",
       "    </tr>\n",
       "  </tbody>\n",
       "</table>\n",
       "</div>"
      ],
      "text/plain": [
       "       연료  차종 차종유형  차량연식  차령  DF_CO  DF_HC  DF_PM  DF_NOx\n",
       "1001   경유  승용   대형  2015   8   1.15   1.15   1.15    1.06\n",
       "24556  경유  특수   대형  2018   5   1.00   1.00   1.00    1.00\n",
       "55794  경유  화물   대형  2014   9   1.20   1.20   1.20    1.08\n",
       "66590  경유  특수   대형  2017   6   1.05   1.05   1.05    1.02\n",
       "69840  경유  특수   대형  2017   6   1.05   1.05   1.05    1.02"
      ]
     },
     "execution_count": 77,
     "metadata": {},
     "output_type": "execute_result"
    }
   ],
   "source": [
    "check_DF_col = ['DF_CO', 'DF_HC', 'DF_PM', 'DF_NOx']\n",
    "df3.loc[df3['차령'] < 10, DF_col + check_DF_col].head()"
   ]
  },
  {
   "attachments": {},
   "cell_type": "markdown",
   "metadata": {},
   "source": [
    "## 저감장치 부착 효율(R) 계산\n",
    "- DPF유무_수정 : 유 -> DPF로 가정하고 진행\n",
    "- 휘발성 유기 화합물(Volatile Organic Compounds:VOC) : 생활주변에서 흔히 사용하는 탄화수소류가 거의 해당됨.\n",
    "- 저감장치별 물질 제거 효율(%)\n",
    "\n",
    "    장치종류|CO|VOC|PM\n",
    "    :-:|:-:|:-:|:-:\n",
    "    DPF|99.5|90|83.6\n",
    "    pDPF|94.6|89.3|56\n",
    "    DOC|85.4|72|35"
   ]
  },
  {
   "attachments": {},
   "cell_type": "markdown",
   "metadata": {},
   "source": [
    "### 현대자동차 상용차 중 pDPF 달린 차량\n",
    "- 6MY-HD-23-55\n",
    "- 7MY-HD-24-28\n",
    "- 7MY-HD-24-30"
   ]
  },
  {
   "cell_type": "code",
   "execution_count": 78,
   "metadata": {},
   "outputs": [
    {
     "data": {
      "text/plain": [
       "저감장치\n",
       "NaN    366895\n",
       "DPF        16\n",
       "Name: count, dtype: int64"
      ]
     },
     "execution_count": 78,
     "metadata": {},
     "output_type": "execute_result"
    }
   ],
   "source": [
    "df3['저감장치'].value_counts(dropna=False)"
   ]
  },
  {
   "cell_type": "code",
   "execution_count": 79,
   "metadata": {},
   "outputs": [],
   "source": [
    "df3.loc[df3['저감장치'].isnull() == False, 'DPF유무_수정'] = '유'"
   ]
  },
  {
   "cell_type": "code",
   "execution_count": 80,
   "metadata": {},
   "outputs": [
    {
     "data": {
      "text/plain": [
       "DPF유무_수정\n",
       "NaN    366895\n",
       "유          16\n",
       "Name: count, dtype: int64"
      ]
     },
     "execution_count": 80,
     "metadata": {},
     "output_type": "execute_result"
    }
   ],
   "source": [
    "df3['DPF유무_수정'].value_counts(dropna=False)"
   ]
  },
  {
   "cell_type": "code",
   "execution_count": 81,
   "metadata": {},
   "outputs": [
    {
     "data": {
      "text/plain": [
       "Index(['차량관리번호', '본거지법정동코드', '차종', '차대번호', '최초등록일자', '차량연식', '제원관리번호',\n",
       "       '배출가스인증번호', '배출가스등급', '차량말소YN_등록정보', '차명', '차종유형', '제작사명', '연료', '등급',\n",
       "       '차량말소YN_변경이력', '변경일자', '변경구분코드', '법정동코드', '시도', '시구군', '읍면동', '리',\n",
       "       '지역3', '폐지여부', '대기관리권역', '대기관리권역YN', '저감장치', '변경일자_년', '변경일자_월',\n",
       "       '변경일자_일', '변경일자_년_월', '차령', '시구군_수정', '시도명', '시군구명', '1일평균주행거리', 'VKT',\n",
       "       'DF_CO', 'DF_HC', 'DF_PM', 'DF_NOx', 'DPF유무_수정'],\n",
       "      dtype='object')"
      ]
     },
     "execution_count": 81,
     "metadata": {},
     "output_type": "execute_result"
    }
   ],
   "source": [
    "df3.columns"
   ]
  },
  {
   "cell_type": "code",
   "execution_count": 82,
   "metadata": {},
   "outputs": [
    {
     "data": {
      "text/plain": [
       "(0, 43)"
      ]
     },
     "execution_count": 82,
     "metadata": {},
     "output_type": "execute_result"
    }
   ],
   "source": [
    "df3.loc[(df3['배출가스인증번호'] == '6MY-HD-23-55') & (df3['제작사명'] == '현대자동차(주)')].shape"
   ]
  },
  {
   "cell_type": "code",
   "execution_count": 83,
   "metadata": {},
   "outputs": [
    {
     "data": {
      "text/plain": [
       "(2238, 43)"
      ]
     },
     "execution_count": 83,
     "metadata": {},
     "output_type": "execute_result"
    }
   ],
   "source": [
    "df3.loc[(df3['배출가스인증번호'] == '7MY-HD-24-28') & (df3['제작사명'] == '현대자동차(주)')].shape"
   ]
  },
  {
   "cell_type": "code",
   "execution_count": 84,
   "metadata": {},
   "outputs": [
    {
     "data": {
      "text/plain": [
       "(533, 43)"
      ]
     },
     "execution_count": 84,
     "metadata": {},
     "output_type": "execute_result"
    }
   ],
   "source": [
    "df3.loc[(df3['배출가스인증번호'] == '7MY-HD-24-30') & (df3['제작사명'] == '현대자동차(주)')].shape"
   ]
  },
  {
   "cell_type": "code",
   "execution_count": 85,
   "metadata": {},
   "outputs": [],
   "source": [
    "df3.loc[df3['DPF유무_수정'] == '유', ['R_CO', 'R_HC', 'R_PM']] = 99.5, 90, 83.6\n",
    "df3.loc[(df3['DPF유무_수정'] == '유') & (df3['배출가스인증번호'] == '6MY-HD-23-55') & (df3['제작사명'] == '현대자동차(주)'), ['R_CO', 'R_HC', 'R_PM']] = 94.6, 89.3, 56\n",
    "df3.loc[(df3['DPF유무_수정'] == '유') & (df3['배출가스인증번호'] == '7MY-HD-24-28') & (df3['제작사명'] == '현대자동차(주)'), ['R_CO', 'R_HC', 'R_PM']] = 94.6, 89.3, 56\n",
    "df3.loc[(df3['DPF유무_수정'] == '유') & (df3['배출가스인증번호'] == '7MY-HD-24-30') & (df3['제작사명'] == '현대자동차(주)'), ['R_CO', 'R_HC', 'R_PM']] = 94.6, 89.3, 56"
   ]
  },
  {
   "cell_type": "code",
   "execution_count": 86,
   "metadata": {},
   "outputs": [
    {
     "data": {
      "text/plain": [
       "Series([], Name: R_PM, dtype: float64)"
      ]
     },
     "execution_count": 86,
     "metadata": {},
     "output_type": "execute_result"
    }
   ],
   "source": [
    "df3.loc[(df3['DPF유무_수정'] == '유') & (df3['배출가스인증번호'] == '6MY-HD-23-55') & (df3['제작사명'] == '현대자동차(주)'), 'R_PM'].head()"
   ]
  },
  {
   "cell_type": "code",
   "execution_count": 87,
   "metadata": {},
   "outputs": [
    {
     "data": {
      "text/plain": [
       "97987   56.00\n",
       "Name: R_PM, dtype: float64"
      ]
     },
     "execution_count": 87,
     "metadata": {},
     "output_type": "execute_result"
    }
   ],
   "source": [
    "df3.loc[(df3['DPF유무_수정'] == '유') & (df3['배출가스인증번호'] == '7MY-HD-24-28') & (df3['제작사명'] == '현대자동차(주)'), 'R_PM'].head()"
   ]
  },
  {
   "cell_type": "code",
   "execution_count": 88,
   "metadata": {},
   "outputs": [
    {
     "data": {
      "text/plain": [
       "Series([], Name: R_PM, dtype: float64)"
      ]
     },
     "execution_count": 88,
     "metadata": {},
     "output_type": "execute_result"
    }
   ],
   "source": [
    "df3.loc[(df3['DPF유무_수정'] == '유') & (df3['배출가스인증번호'] == '7MY-HD-24-30') & (df3['제작사명'] == '현대자동차(주)'), 'R_PM'].head()"
   ]
  },
  {
   "cell_type": "code",
   "execution_count": 89,
   "metadata": {},
   "outputs": [
    {
     "data": {
      "text/plain": [
       "366911"
      ]
     },
     "execution_count": 89,
     "metadata": {},
     "output_type": "execute_result"
    }
   ],
   "source": [
    "df3.shape[0]"
   ]
  },
  {
   "cell_type": "code",
   "execution_count": 90,
   "metadata": {},
   "outputs": [],
   "source": [
    "check_R_col = ['R_CO', 'R_HC', 'R_PM']"
   ]
  },
  {
   "cell_type": "code",
   "execution_count": 91,
   "metadata": {},
   "outputs": [
    {
     "data": {
      "text/plain": [
       "R_CO    16\n",
       "R_HC    16\n",
       "R_PM    16\n",
       "dtype: int64"
      ]
     },
     "execution_count": 91,
     "metadata": {},
     "output_type": "execute_result"
    }
   ],
   "source": [
    "df3[check_R_col].notnull().sum()"
   ]
  },
  {
   "cell_type": "code",
   "execution_count": 92,
   "metadata": {},
   "outputs": [
    {
     "data": {
      "text/html": [
       "<div>\n",
       "<style scoped>\n",
       "    .dataframe tbody tr th:only-of-type {\n",
       "        vertical-align: middle;\n",
       "    }\n",
       "\n",
       "    .dataframe tbody tr th {\n",
       "        vertical-align: top;\n",
       "    }\n",
       "\n",
       "    .dataframe thead th {\n",
       "        text-align: right;\n",
       "    }\n",
       "</style>\n",
       "<table border=\"1\" class=\"dataframe\">\n",
       "  <thead>\n",
       "    <tr style=\"text-align: right;\">\n",
       "      <th></th>\n",
       "      <th>연료</th>\n",
       "      <th>차종</th>\n",
       "      <th>차종유형</th>\n",
       "      <th>차량연식</th>\n",
       "      <th>차령</th>\n",
       "      <th>DF_CO</th>\n",
       "      <th>DF_HC</th>\n",
       "      <th>DF_PM</th>\n",
       "      <th>DF_NOx</th>\n",
       "      <th>R_CO</th>\n",
       "      <th>R_HC</th>\n",
       "      <th>R_PM</th>\n",
       "    </tr>\n",
       "  </thead>\n",
       "  <tbody>\n",
       "    <tr>\n",
       "      <th>3926</th>\n",
       "      <td>경유</td>\n",
       "      <td>승용</td>\n",
       "      <td>대형</td>\n",
       "      <td>2007</td>\n",
       "      <td>16</td>\n",
       "      <td>1.50</td>\n",
       "      <td>1.50</td>\n",
       "      <td>1.50</td>\n",
       "      <td>1.20</td>\n",
       "      <td>99.50</td>\n",
       "      <td>90.00</td>\n",
       "      <td>83.60</td>\n",
       "    </tr>\n",
       "    <tr>\n",
       "      <th>48854</th>\n",
       "      <td>경유</td>\n",
       "      <td>화물</td>\n",
       "      <td>소형</td>\n",
       "      <td>2008</td>\n",
       "      <td>15</td>\n",
       "      <td>1.50</td>\n",
       "      <td>1.50</td>\n",
       "      <td>1.50</td>\n",
       "      <td>1.20</td>\n",
       "      <td>99.50</td>\n",
       "      <td>90.00</td>\n",
       "      <td>83.60</td>\n",
       "    </tr>\n",
       "    <tr>\n",
       "      <th>52298</th>\n",
       "      <td>경유</td>\n",
       "      <td>승합</td>\n",
       "      <td>대형</td>\n",
       "      <td>2007</td>\n",
       "      <td>16</td>\n",
       "      <td>1.50</td>\n",
       "      <td>1.50</td>\n",
       "      <td>1.50</td>\n",
       "      <td>1.20</td>\n",
       "      <td>99.50</td>\n",
       "      <td>90.00</td>\n",
       "      <td>83.60</td>\n",
       "    </tr>\n",
       "    <tr>\n",
       "      <th>72285</th>\n",
       "      <td>경유</td>\n",
       "      <td>승합</td>\n",
       "      <td>대형</td>\n",
       "      <td>2007</td>\n",
       "      <td>16</td>\n",
       "      <td>1.50</td>\n",
       "      <td>1.50</td>\n",
       "      <td>1.50</td>\n",
       "      <td>1.20</td>\n",
       "      <td>99.50</td>\n",
       "      <td>90.00</td>\n",
       "      <td>83.60</td>\n",
       "    </tr>\n",
       "    <tr>\n",
       "      <th>97987</th>\n",
       "      <td>경유</td>\n",
       "      <td>화물</td>\n",
       "      <td>중형</td>\n",
       "      <td>2008</td>\n",
       "      <td>15</td>\n",
       "      <td>1.50</td>\n",
       "      <td>1.50</td>\n",
       "      <td>1.50</td>\n",
       "      <td>1.20</td>\n",
       "      <td>94.60</td>\n",
       "      <td>89.30</td>\n",
       "      <td>56.00</td>\n",
       "    </tr>\n",
       "  </tbody>\n",
       "</table>\n",
       "</div>"
      ],
      "text/plain": [
       "       연료  차종 차종유형  차량연식  차령  DF_CO  DF_HC  DF_PM  DF_NOx  R_CO  R_HC  R_PM\n",
       "3926   경유  승용   대형  2007  16   1.50   1.50   1.50    1.20 99.50 90.00 83.60\n",
       "48854  경유  화물   소형  2008  15   1.50   1.50   1.50    1.20 99.50 90.00 83.60\n",
       "52298  경유  승합   대형  2007  16   1.50   1.50   1.50    1.20 99.50 90.00 83.60\n",
       "72285  경유  승합   대형  2007  16   1.50   1.50   1.50    1.20 99.50 90.00 83.60\n",
       "97987  경유  화물   중형  2008  15   1.50   1.50   1.50    1.20 94.60 89.30 56.00"
      ]
     },
     "execution_count": 92,
     "metadata": {},
     "output_type": "execute_result"
    }
   ],
   "source": [
    "df3.loc[df3['DPF유무_수정'] == '유', DF_col + check_DF_col + check_R_col].head()"
   ]
  },
  {
   "cell_type": "code",
   "execution_count": 93,
   "metadata": {},
   "outputs": [
    {
     "data": {
      "text/html": [
       "<div>\n",
       "<style scoped>\n",
       "    .dataframe tbody tr th:only-of-type {\n",
       "        vertical-align: middle;\n",
       "    }\n",
       "\n",
       "    .dataframe tbody tr th {\n",
       "        vertical-align: top;\n",
       "    }\n",
       "\n",
       "    .dataframe thead th {\n",
       "        text-align: right;\n",
       "    }\n",
       "</style>\n",
       "<table border=\"1\" class=\"dataframe\">\n",
       "  <thead>\n",
       "    <tr style=\"text-align: right;\">\n",
       "      <th></th>\n",
       "      <th>연료</th>\n",
       "      <th>차종</th>\n",
       "      <th>차종유형</th>\n",
       "      <th>차량연식</th>\n",
       "      <th>차령</th>\n",
       "      <th>DF_CO</th>\n",
       "      <th>DF_HC</th>\n",
       "      <th>DF_PM</th>\n",
       "      <th>DF_NOx</th>\n",
       "      <th>R_CO</th>\n",
       "      <th>R_HC</th>\n",
       "      <th>R_PM</th>\n",
       "    </tr>\n",
       "  </thead>\n",
       "  <tbody>\n",
       "    <tr>\n",
       "      <th>0</th>\n",
       "      <td>경유</td>\n",
       "      <td>승용</td>\n",
       "      <td>소형</td>\n",
       "      <td>2007</td>\n",
       "      <td>16</td>\n",
       "      <td>1.50</td>\n",
       "      <td>1.50</td>\n",
       "      <td>1.50</td>\n",
       "      <td>1.20</td>\n",
       "      <td>NaN</td>\n",
       "      <td>NaN</td>\n",
       "      <td>NaN</td>\n",
       "    </tr>\n",
       "    <tr>\n",
       "      <th>1</th>\n",
       "      <td>경유</td>\n",
       "      <td>화물</td>\n",
       "      <td>소형</td>\n",
       "      <td>2011</td>\n",
       "      <td>12</td>\n",
       "      <td>1.35</td>\n",
       "      <td>1.35</td>\n",
       "      <td>1.35</td>\n",
       "      <td>1.14</td>\n",
       "      <td>NaN</td>\n",
       "      <td>NaN</td>\n",
       "      <td>NaN</td>\n",
       "    </tr>\n",
       "    <tr>\n",
       "      <th>2</th>\n",
       "      <td>경유</td>\n",
       "      <td>승용</td>\n",
       "      <td>중형</td>\n",
       "      <td>2008</td>\n",
       "      <td>15</td>\n",
       "      <td>1.50</td>\n",
       "      <td>1.50</td>\n",
       "      <td>1.50</td>\n",
       "      <td>1.20</td>\n",
       "      <td>NaN</td>\n",
       "      <td>NaN</td>\n",
       "      <td>NaN</td>\n",
       "    </tr>\n",
       "    <tr>\n",
       "      <th>3</th>\n",
       "      <td>경유</td>\n",
       "      <td>화물</td>\n",
       "      <td>소형</td>\n",
       "      <td>2009</td>\n",
       "      <td>14</td>\n",
       "      <td>1.45</td>\n",
       "      <td>1.45</td>\n",
       "      <td>1.45</td>\n",
       "      <td>1.18</td>\n",
       "      <td>NaN</td>\n",
       "      <td>NaN</td>\n",
       "      <td>NaN</td>\n",
       "    </tr>\n",
       "    <tr>\n",
       "      <th>4</th>\n",
       "      <td>경유</td>\n",
       "      <td>화물</td>\n",
       "      <td>소형</td>\n",
       "      <td>2008</td>\n",
       "      <td>15</td>\n",
       "      <td>1.50</td>\n",
       "      <td>1.50</td>\n",
       "      <td>1.50</td>\n",
       "      <td>1.20</td>\n",
       "      <td>NaN</td>\n",
       "      <td>NaN</td>\n",
       "      <td>NaN</td>\n",
       "    </tr>\n",
       "  </tbody>\n",
       "</table>\n",
       "</div>"
      ],
      "text/plain": [
       "   연료  차종 차종유형  차량연식  차령  DF_CO  DF_HC  DF_PM  DF_NOx  R_CO  R_HC  R_PM\n",
       "0  경유  승용   소형  2007  16   1.50   1.50   1.50    1.20   NaN   NaN   NaN\n",
       "1  경유  화물   소형  2011  12   1.35   1.35   1.35    1.14   NaN   NaN   NaN\n",
       "2  경유  승용   중형  2008  15   1.50   1.50   1.50    1.20   NaN   NaN   NaN\n",
       "3  경유  화물   소형  2009  14   1.45   1.45   1.45    1.18   NaN   NaN   NaN\n",
       "4  경유  화물   소형  2008  15   1.50   1.50   1.50    1.20   NaN   NaN   NaN"
      ]
     },
     "execution_count": 93,
     "metadata": {},
     "output_type": "execute_result"
    }
   ],
   "source": [
    "df3.loc[df3['DPF유무_수정'].isnull() == True, DF_col + check_DF_col + check_R_col].head()"
   ]
  },
  {
   "attachments": {},
   "cell_type": "markdown",
   "metadata": {},
   "source": [
    "### DPF 무, 확인불가, nan의 R값 수정\n",
    "- 0"
   ]
  },
  {
   "cell_type": "code",
   "execution_count": 94,
   "metadata": {},
   "outputs": [],
   "source": [
    "df3[check_R_col] = df3[check_R_col].fillna(0)"
   ]
  },
  {
   "cell_type": "code",
   "execution_count": 95,
   "metadata": {},
   "outputs": [
    {
     "data": {
      "text/plain": [
       "R_CO    0\n",
       "R_HC    0\n",
       "R_PM    0\n",
       "dtype: int64"
      ]
     },
     "execution_count": 95,
     "metadata": {},
     "output_type": "execute_result"
    }
   ],
   "source": [
    "df3[check_R_col].isnull().sum()"
   ]
  },
  {
   "cell_type": "code",
   "execution_count": 96,
   "metadata": {},
   "outputs": [
    {
     "data": {
      "text/html": [
       "<div>\n",
       "<style scoped>\n",
       "    .dataframe tbody tr th:only-of-type {\n",
       "        vertical-align: middle;\n",
       "    }\n",
       "\n",
       "    .dataframe tbody tr th {\n",
       "        vertical-align: top;\n",
       "    }\n",
       "\n",
       "    .dataframe thead th {\n",
       "        text-align: right;\n",
       "    }\n",
       "</style>\n",
       "<table border=\"1\" class=\"dataframe\">\n",
       "  <thead>\n",
       "    <tr style=\"text-align: right;\">\n",
       "      <th></th>\n",
       "      <th>연료</th>\n",
       "      <th>차종</th>\n",
       "      <th>차종유형</th>\n",
       "      <th>차량연식</th>\n",
       "      <th>차령</th>\n",
       "      <th>DF_CO</th>\n",
       "      <th>DF_HC</th>\n",
       "      <th>DF_PM</th>\n",
       "      <th>DF_NOx</th>\n",
       "      <th>R_CO</th>\n",
       "      <th>R_HC</th>\n",
       "      <th>R_PM</th>\n",
       "    </tr>\n",
       "  </thead>\n",
       "  <tbody>\n",
       "    <tr>\n",
       "      <th>0</th>\n",
       "      <td>경유</td>\n",
       "      <td>승용</td>\n",
       "      <td>소형</td>\n",
       "      <td>2007</td>\n",
       "      <td>16</td>\n",
       "      <td>1.50</td>\n",
       "      <td>1.50</td>\n",
       "      <td>1.50</td>\n",
       "      <td>1.20</td>\n",
       "      <td>0.00</td>\n",
       "      <td>0.00</td>\n",
       "      <td>0.00</td>\n",
       "    </tr>\n",
       "    <tr>\n",
       "      <th>1</th>\n",
       "      <td>경유</td>\n",
       "      <td>화물</td>\n",
       "      <td>소형</td>\n",
       "      <td>2011</td>\n",
       "      <td>12</td>\n",
       "      <td>1.35</td>\n",
       "      <td>1.35</td>\n",
       "      <td>1.35</td>\n",
       "      <td>1.14</td>\n",
       "      <td>0.00</td>\n",
       "      <td>0.00</td>\n",
       "      <td>0.00</td>\n",
       "    </tr>\n",
       "    <tr>\n",
       "      <th>2</th>\n",
       "      <td>경유</td>\n",
       "      <td>승용</td>\n",
       "      <td>중형</td>\n",
       "      <td>2008</td>\n",
       "      <td>15</td>\n",
       "      <td>1.50</td>\n",
       "      <td>1.50</td>\n",
       "      <td>1.50</td>\n",
       "      <td>1.20</td>\n",
       "      <td>0.00</td>\n",
       "      <td>0.00</td>\n",
       "      <td>0.00</td>\n",
       "    </tr>\n",
       "    <tr>\n",
       "      <th>3</th>\n",
       "      <td>경유</td>\n",
       "      <td>화물</td>\n",
       "      <td>소형</td>\n",
       "      <td>2009</td>\n",
       "      <td>14</td>\n",
       "      <td>1.45</td>\n",
       "      <td>1.45</td>\n",
       "      <td>1.45</td>\n",
       "      <td>1.18</td>\n",
       "      <td>0.00</td>\n",
       "      <td>0.00</td>\n",
       "      <td>0.00</td>\n",
       "    </tr>\n",
       "    <tr>\n",
       "      <th>4</th>\n",
       "      <td>경유</td>\n",
       "      <td>화물</td>\n",
       "      <td>소형</td>\n",
       "      <td>2008</td>\n",
       "      <td>15</td>\n",
       "      <td>1.50</td>\n",
       "      <td>1.50</td>\n",
       "      <td>1.50</td>\n",
       "      <td>1.20</td>\n",
       "      <td>0.00</td>\n",
       "      <td>0.00</td>\n",
       "      <td>0.00</td>\n",
       "    </tr>\n",
       "  </tbody>\n",
       "</table>\n",
       "</div>"
      ],
      "text/plain": [
       "   연료  차종 차종유형  차량연식  차령  DF_CO  DF_HC  DF_PM  DF_NOx  R_CO  R_HC  R_PM\n",
       "0  경유  승용   소형  2007  16   1.50   1.50   1.50    1.20  0.00  0.00  0.00\n",
       "1  경유  화물   소형  2011  12   1.35   1.35   1.35    1.14  0.00  0.00  0.00\n",
       "2  경유  승용   중형  2008  15   1.50   1.50   1.50    1.20  0.00  0.00  0.00\n",
       "3  경유  화물   소형  2009  14   1.45   1.45   1.45    1.18  0.00  0.00  0.00\n",
       "4  경유  화물   소형  2008  15   1.50   1.50   1.50    1.20  0.00  0.00  0.00"
      ]
     },
     "execution_count": 96,
     "metadata": {},
     "output_type": "execute_result"
    }
   ],
   "source": [
    "df3.loc[df3['DPF유무_수정'].isnull() == True, DF_col + check_DF_col + check_R_col].head()"
   ]
  },
  {
   "attachments": {},
   "cell_type": "markdown",
   "metadata": {},
   "source": [
    "## ❗ 배출계수(EFi)\n",
    "- 연료, 차종, 차종유형 설정에 해당되지 않는 차량의 배출계수 값 설정\n",
    "    - 현재 설정값 : np.nan\n",
    "    - 고려 설정값 : 1\n",
    "- 조건 수정(2023.04.20, 최)\n",
    "    - 특수 중형 = 승합 중형\n",
    "    - 화물 중형 = 승합 중형\n",
    "    - 화물 대형 = 승합 대형\n",
    "    - 특수 중형 = 승용 중형"
   ]
  },
  {
   "cell_type": "code",
   "execution_count": 97,
   "metadata": {},
   "outputs": [],
   "source": [
    "EFi_col = ['차종', '차종유형', '연료', '차량연식']\n",
    "# 참고 : KOSIS 차량속도(2017) 일반국도 평균 (https://kosis.kr/statHtml/statHtml.do?orgId=210&tblId=DT_21002_J008)\n",
    "V = 54.1\n",
    "# 국가 대기오염물질 배출량 산정방법 편람(V)(2022) 부록 참고(for PM-2.5)\n",
    "k = 0.92"
   ]
  },
  {
   "cell_type": "code",
   "execution_count": 98,
   "metadata": {},
   "outputs": [
    {
     "data": {
      "text/plain": [
       "array(['승용', '소형', '경유', 2007], dtype=object)"
      ]
     },
     "execution_count": 98,
     "metadata": {},
     "output_type": "execute_result"
    }
   ],
   "source": [
    "df3[EFi_col].values[0]"
   ]
  },
  {
   "cell_type": "code",
   "execution_count": 99,
   "metadata": {},
   "outputs": [
    {
     "data": {
      "text/plain": [
       "array(['소형', '중형', '대형', '경형'], dtype=object)"
      ]
     },
     "execution_count": 99,
     "metadata": {},
     "output_type": "execute_result"
    }
   ],
   "source": [
    "df3['차종유형'].unique()"
   ]
  },
  {
   "cell_type": "code",
   "execution_count": 100,
   "metadata": {},
   "outputs": [
    {
     "name": "stderr",
     "output_type": "stream",
     "text": [
      "100%|██████████| 366911/366911 [00:01<00:00, 241704.17it/s]\n"
     ]
    }
   ],
   "source": [
    "# about 7.9s\n",
    "EFi_CO_list = []\n",
    "EFi_HC_list = []\n",
    "EFi_NOx_list = []\n",
    "EFi_PM10_list = []\n",
    "EFi_PM2_5_list = []\n",
    "\n",
    "for car_type, car_size, fuel, car_birth in tqdm(df3[EFi_col].values):\n",
    "    if fuel == '휘발유':\n",
    "        if (car_type == '승용') and (car_size == '경형'):\n",
    "            if car_birth <= 1996:\n",
    "                if V <= 65:\n",
    "                    EFi_CO = 59.783 * (V**-1.0007)\n",
    "                else:\n",
    "                    EFi_CO = 0.0874 * V - 3.5618\n",
    "                EFi_HC = 7.6244 * (V**-0.8364)\n",
    "                EFi_NOx = 2.6754 * (V**-0.3236)\n",
    "                if V < 85:\n",
    "                    EFi_PM10 = 0.00030\n",
    "                    EFi_PM2_5 = k * 0.00030\n",
    "                else:\n",
    "                    EFi_PM10 = 0.00075\n",
    "                    EFi_PM2_5 = k * 0.00075\n",
    "            elif 1997 <= car_birth <= 1999:\n",
    "                if V <= 65:\n",
    "                    EFi_CO = 59.783 * (V**-1.0007)\n",
    "                else:\n",
    "                    EFi_CO = 0.0874 * V - 3.5618\n",
    "                EFi_HC = 8.6275 * (V**-1.0722)\n",
    "                EFi_NOx = 3.2294 * (V**-0.5763)\n",
    "                if V < 85:\n",
    "                    EFi_PM10 = 0.00030\n",
    "                    EFi_PM2_5 = k * 0.00030\n",
    "                else:\n",
    "                    EFi_PM10 = 0.00075\n",
    "                    EFi_PM2_5 = k * 0.00075\n",
    "            elif 2000 <= car_birth <= 2002:\n",
    "                if V <= 65:\n",
    "                    EFi_CO = 60.556 * (V**-1.2501)\n",
    "                else:\n",
    "                    EFi_CO = -0.0006 * V + 0.5753\n",
    "                EFi_HC = 5.1835 * (V**-1.1889)\n",
    "                EFi_NOx = 1.7525 * (V**-0.6481)\n",
    "                if V < 85:\n",
    "                    EFi_PM10 = 0.00030\n",
    "                    EFi_PM2_5 = k * 0.00030\n",
    "                else:\n",
    "                    EFi_PM10 = 0.00075\n",
    "                    EFi_PM2_5 = k * 0.00075\n",
    "            elif 2003 <= car_birth <= 2005:\n",
    "                if V <= 65:\n",
    "                    EFi_CO = 60.556 * (V**-1.2501)\n",
    "                else:\n",
    "                    EFi_CO = -0.0006 * V + 0.5753\n",
    "                EFi_HC = 0.7446 * (V**-0.9392)\n",
    "                EFi_NOx = 0.3403 * (V**-0.5455)\n",
    "                if V < 85:\n",
    "                    EFi_PM10 = 0.00030\n",
    "                    EFi_PM2_5 = k * 0.00030\n",
    "                else:\n",
    "                    EFi_PM10 = 0.00075\n",
    "                    EFi_PM2_5 = k * 0.00075\n",
    "            elif 2006 <= car_birth <= 2008:\n",
    "                if V <= 45:\n",
    "                    EFi_CO = 4.9952 * (V**-0.8461)\n",
    "                else:\n",
    "                    EFi_CO = -0.0001 * V**2 + 0.0229 * V - 0.5701\n",
    "                EFi_HC = 0.2958 * (V**-0.7830)\n",
    "                EFi_NOx = 0.4819 * (V**-0.9198)\n",
    "                if V < 85:\n",
    "                    EFi_PM10 = 0.00030\n",
    "                    EFi_PM2_5 = k * 0.00030\n",
    "                else:\n",
    "                    EFi_PM10 = 0.00075\n",
    "                    EFi_PM2_5 = k * 0.00075\n",
    "            elif 2009 <= car_birth <= 2011:\n",
    "                if V <= 45:\n",
    "                    EFi_CO = 4.5956 * (V**-0.8461)\n",
    "                else:\n",
    "                    EFi_CO = -9.2000*(10**-5) * (V**2) + 2.1068*(10**-2) * V - 5.2449*(10**-1)\n",
    "                EFi_HC = 0.2662 * (V**-0.7830)\n",
    "                EFi_NOx = 0.4476 * (V**-0.9198)\n",
    "                if V < 85:\n",
    "                    EFi_PM10 = 0.00030\n",
    "                    EFi_PM2_5 = k * 0.00030\n",
    "                else:\n",
    "                    EFi_PM10 = 0.00075\n",
    "                    EFi_PM2_5 = k * 0.00075\n",
    "            elif 2012 <= car_birth <= 2013:\n",
    "                if V <= 45:\n",
    "                    EFi_CO = 4.4517 * (V**-0.8461)\n",
    "                else:\n",
    "                    EFi_CO = -8.9120*(10**-5) * (V**2) + 2.0408*(10**-2)*V - 5.0807*(10**-1)\n",
    "                EFi_HC = 0.2556 * (V**-0.7830)\n",
    "                EFi_NOx = 0.4353 * (V**-0.9198)\n",
    "                if V < 85:\n",
    "                    EFi_PM10 = 0.00030\n",
    "                    EFi_PM2_5 = k * 0.00030\n",
    "                else:\n",
    "                    EFi_PM10 = 0.00075\n",
    "                    EFi_PM2_5 = k * 0.00075\n",
    "            elif car_birth == 2014:\n",
    "                if V <= 45:\n",
    "                    EFi_CO = 4.3079 * (V**-0.8461)\n",
    "                else:\n",
    "                    EFi_CO = -8.6240*(10**-5) * (V**2) + 1.9749*(10**-2)*V - 4.9165*(10**-1)\n",
    "                EFi_HC = 0.2449 * (V**-0.7830)\n",
    "                EFi_NOx = 0.4230 * (V**-0.9198)\n",
    "                if V < 85:\n",
    "                    EFi_PM10 = 0.00030\n",
    "                    EFi_PM2_5 = k * 0.00030\n",
    "                else:\n",
    "                    EFi_PM10 = 0.00075\n",
    "                    EFi_PM2_5 = k * 0.00075\n",
    "            elif 2015 <= car_birth:\n",
    "                if V <= 45:\n",
    "                    EFi_CO = 4.164 * (V**-0.8461)\n",
    "                else:\n",
    "                    EFi_CO = -8.3360*(10**-5) * (V**2) + 1.9089*(10**-2)*V - 4.7524*(10**-1)\n",
    "                EFi_HC = 0.2343 * (V**-0.7830)\n",
    "                EFi_NOx = 0.4106 * (V**-0.9198)\n",
    "                if V < 85:\n",
    "                    EFi_PM10 = 0.00030\n",
    "                    EFi_PM2_5 = k * 0.00030\n",
    "                else:\n",
    "                    EFi_PM10 = 0.00075\n",
    "                    EFi_PM2_5 = k * 0.00075\n",
    "        elif (car_type == '승용') and (car_size == '소형'):\n",
    "            if car_birth <= 1986:\n",
    "                EFi_CO = 247.00 * (V**-0.6651)\n",
    "                EFi_HC = 15.953 * (V**-0.5059)\n",
    "                EFi_NOx = 3.1140 * (V**-0.2278)\n",
    "                if V < 85:\n",
    "                    EFi_PM10 = 0.00030\n",
    "                    EFi_PM2_5 = k * 0.00030\n",
    "                else:\n",
    "                    EFi_PM10 = 0.00075\n",
    "                    EFi_PM2_5 = k * 0.00075\n",
    "            elif 1987 <= car_birth <= 1990:\n",
    "                EFi_CO = 36.169 * (V**-0.7587)\n",
    "                EFi_HC = 15.607 * (V**-1.0423)\n",
    "                EFi_NOx = 6.2007 * (V**-0.6781)\n",
    "                if V < 85:\n",
    "                    EFi_PM10 = 0.00030\n",
    "                    EFi_PM2_5 = k * 0.00030\n",
    "                else:\n",
    "                    EFi_PM10 = 0.00075\n",
    "                    EFi_PM2_5 = k * 0.00075\n",
    "            elif 1991 <= car_birth <= 1999:\n",
    "                EFi_CO = 111.67 * (V**-1.1566)\n",
    "                EFi_HC = 32.017 * (V**-1.4171)\n",
    "                EFi_NOx = 7.5244 * (V**-0.7634)\n",
    "                if V < 85:\n",
    "                    EFi_PM10 = 0.00030\n",
    "                    EFi_PM2_5 = k * 0.00030\n",
    "                else:\n",
    "                    EFi_PM10 = 0.00075\n",
    "                    EFi_PM2_5 = k * 0.00075\n",
    "            elif 2000 <= car_birth <= 2002:\n",
    "                EFi_CO = 22.356 * (V**-0.9068)\n",
    "                EFi_HC = 0.8428 * (V**-0.8829)\n",
    "                EFi_NOx = 1.2613 * (V**-0.3873)\n",
    "                if V < 85:\n",
    "                    EFi_PM10 = 0.00030\n",
    "                    EFi_PM2_5 = k * 0.00030\n",
    "                else:\n",
    "                    EFi_PM10 = 0.00075\n",
    "                    EFi_PM2_5 = k * 0.00075\n",
    "            elif 2003 <= car_birth <= 2005:\n",
    "                EFi_CO = 1.4898 * (V**-0.3837)\n",
    "                EFi_HC = 0.1738 * (V**-0.7268)\n",
    "                EFi_NOx = 0.1563 * (V**-0.2671)\n",
    "                if V < 85:\n",
    "                    EFi_PM10 = 0.00030\n",
    "                    EFi_PM2_5 = k * 0.00030\n",
    "                else:\n",
    "                    EFi_PM10 = 0.00075\n",
    "                    EFi_PM2_5 = k * 0.00075\n",
    "            elif 2006 <= car_birth <= 2008:\n",
    "                EFi_CO = 1.0000*(10**-4)*(V**2) - 7.1000*(10**-3)*V + 2.2450*(10**-1)\n",
    "                if V <= 65.4:\n",
    "                    EFi_HC = 0.0633 * (V**-1.0484)\n",
    "                else:\n",
    "                    EFi_HC = 1.3200*(10**-6)*(V**2) - 1.8800*(10**-4)*V + 7.7000*(10**-3)\n",
    "                EFi_NOx = -3.5000*(10**-6)*(V**2) + 3.3000*(10**-4)*V + 1.1200*(10**-2)\n",
    "                if V < 85:\n",
    "                    EFi_PM10 = 0.00030\n",
    "                    EFi_PM2_5 = k * 0.00030\n",
    "                else:\n",
    "                    EFi_PM10 = 0.00075\n",
    "                    EFi_PM2_5 = k * 0.00075\n",
    "            elif 2009 <= car_birth <= 2011:\n",
    "                EFi_CO = 9.2000*(10**-5)*(V**2) - 6.5320*(10**-3)*V + 2.0654*(10**-1)\n",
    "                if V <= 65.4:\n",
    "                    EFi_HC = 0.0570 * (V**-1.0484)\n",
    "                else:\n",
    "                    EFi_HC = 1.1880*(10**-6)*(V**2) - 1.6920*(10**-4)*V + 6.9300*(10**-3)\n",
    "                EFi_NOx = -3.2511*(10**-6)*(V**2) + 3.0653*(10**-4)*V + 1.0404*(10**-2)\n",
    "                if V < 85:\n",
    "                    EFi_PM10 = 0.00030\n",
    "                    EFi_PM2_5 = k * 0.00030\n",
    "                else:\n",
    "                    EFi_PM10 = 0.00075\n",
    "                    EFi_PM2_5 = k * 0.00075\n",
    "            elif 2012 <= car_birth <= 2013:\n",
    "                EFi_CO = 8.9120*(10**-5)*(V**2) - 6.3275*(10**-3)*V + 2.0007*(10**-1)\n",
    "                if V <= 65.4:\n",
    "                    EFi_HC = 0.0547 * (V**-1.0484)\n",
    "                else:\n",
    "                    EFi_HC = 1.1405*(10**-6)*(V**2) - 1.6243*(10**-4)*V + 6.6528*(10**-3)\n",
    "                EFi_NOx = -3.1615*(10**-6)*(V**2) + 2.9809*(10**-4)*V + 1.0117*(10**-2)\n",
    "                if V < 85:\n",
    "                    EFi_PM10 = 0.00030\n",
    "                    EFi_PM2_5 = k * 0.00030\n",
    "                else:\n",
    "                    EFi_PM10 = 0.00075\n",
    "                    EFi_PM2_5 = k * 0.00075\n",
    "            elif car_birth == 2014:\n",
    "                EFi_CO = 8.6240*(10**-5)*(V**2) - 6.1230*(10**-3)*V + 1.9361*(10**-1)\n",
    "                if V <= 65.4:\n",
    "                    EFi_HC = 0.0524 * (V**-1.0484)\n",
    "                else:\n",
    "                    EFi_HC = 1.0930*(10**-6)*(V**2) - 1.5566*(10**-4)*V + 6.3756*(10**-3)\n",
    "                EFi_NOx = -3.0719*(10**-6)*(V**2) + 2.8964*(10**-4)*V + 9.8301*(10**-3)\n",
    "                if V < 85:\n",
    "                    EFi_PM10 = 0.00030\n",
    "                    EFi_PM2_5 = k * 0.00030\n",
    "                else:\n",
    "                    EFi_PM10 = 0.00075\n",
    "                    EFi_PM2_5 = k * 0.00075\n",
    "            elif 2015 <= car_birth:\n",
    "                EFi_CO = 8.3360*(10**-5)*(V**2) - 5.9186*(10**-3)*V + 1.8714*(10**-1)\n",
    "                if V <= 65.4:\n",
    "                    EFi_HC = 0.0501 * (V**-1.0484)\n",
    "                else:\n",
    "                    EFi_HC = 1.0500*(10**-6)*(V**2) - 1.4890*(10**-4)*V + 6.09840*(10**-3)\n",
    "                EFi_NOx = -2.9823*(10**-6)*(V**2) + 2.8119*(10**-4)*V + 9.5434*(10**-3)\n",
    "                if V < 85:\n",
    "                    EFi_PM10 = 0.00030\n",
    "                    EFi_PM2_5 = k * 0.00030\n",
    "                else:\n",
    "                    EFi_PM10 = 0.00075\n",
    "                    EFi_PM2_5 = k * 0.00075\n",
    "        elif ( (car_type == '승용') and (car_size == '중형') ) or ( (car_type == '특수') and (car_size == '중형') ): # 최 확인(2023.04.20) : 특수 중형 -> 승용 중형 조건으로 계산\n",
    "            if car_birth <= 1986:\n",
    "                EFi_CO = 247.00 * (V**-0.6651)\n",
    "                EFi_HC = 15.953 * (V**-0.5059)\n",
    "                EFi_NOx = 3.1140 * (V**-0.2278)\n",
    "                if V < 85:\n",
    "                    EFi_PM10 = 0.00030\n",
    "                    EFi_PM2_5 = k * 0.00030\n",
    "                else:\n",
    "                    EFi_PM10 = 0.00075\n",
    "                    EFi_PM2_5 = k * 0.00075\n",
    "            elif 1987 <= car_birth <= 1990:\n",
    "                EFi_CO = 36.169 * (V**-0.7587)\n",
    "                EFi_HC = 15.607 * (V**-1.0423)\n",
    "                EFi_NOx = 6.2007 * (V**-0.6781)\n",
    "                if V < 85:\n",
    "                    EFi_PM10 = 0.00030\n",
    "                    EFi_PM2_5 = k * 0.00030\n",
    "                else:\n",
    "                    EFi_PM10 = 0.00075\n",
    "                    EFi_PM2_5 = k * 0.00075\n",
    "            elif 1991 <= car_birth <= 1999:\n",
    "                EFi_CO = 51.555 * (V**-0.9531)\n",
    "                EFi_HC = 31.816 * (V**-1.4804)\n",
    "                EFi_NOx = 7.5244 * (V**-0.7634)\n",
    "                if V < 85:\n",
    "                    EFi_PM10 = 0.00030\n",
    "                    EFi_PM2_5 = k * 0.00030\n",
    "                else:\n",
    "                    EFi_PM10 = 0.00075\n",
    "                    EFi_PM2_5 = k * 0.00075\n",
    "            elif 2000 <= car_birth <= 2002:\n",
    "                EFi_CO = 29.921 * (V**-0.8868)\n",
    "                EFi_HC = 7.9374 * (V**-1.3041)\n",
    "                EFi_NOx = 1.8525 * (V**-0.4192)\n",
    "                if V < 85:\n",
    "                    EFi_PM10 = 0.00030\n",
    "                    EFi_PM2_5 = k * 0.00030\n",
    "                else:\n",
    "                    EFi_PM10 = 0.00075\n",
    "                    EFi_PM2_5 = k * 0.00075\n",
    "            elif 2003 <= car_birth <= 2005:\n",
    "                EFi_CO = 2.4938 * (V**-0.6106)\n",
    "                EFi_HC = 0.4262 * (V**-1.0122)\n",
    "                EFi_NOx = 0.1818 * (V**-0.4316)\n",
    "                if V < 85:\n",
    "                    EFi_PM10 = 0.00030\n",
    "                    EFi_PM2_5 = k * 0.00030\n",
    "                else:\n",
    "                    EFi_PM10 = 0.00075\n",
    "                    EFi_PM2_5 = k * 0.00075\n",
    "            elif 2006 <= car_birth <= 2008:\n",
    "                EFi_CO = 2.2900*(10**-5)*(V**2) - 1.6300*(10**-3)*V + 5.8300*(10**-2)\n",
    "                if V <= 65.4:\n",
    "                    EFi_HC = 0.0633 * (V**-1.0484)\n",
    "                else:\n",
    "                    EFi_HC = 1.3200*(10**-6)*(V**2) - 1.8800*(10**-4)*V + 7.7000*(10**-3)\n",
    "                EFi_NOx = -3.5000*(10**-6)*(V**2) + 3.3000*(10**-4)*V + 1.1200*(10**-2)\n",
    "                if V < 85:\n",
    "                    EFi_PM10 = 0.00030\n",
    "                    EFi_PM2_5 = k * 0.00030\n",
    "                else:\n",
    "                    EFi_PM10 = 0.00075\n",
    "                    EFi_PM2_5 = k * 0.00075\n",
    "            elif 2009 <= car_birth <= 2011:\n",
    "                EFi_CO = 2.1068*(10**-5)*(V**2) - 1.4996*(10**-3)*V + 5.3636*(10**-2)\n",
    "                if V <= 65.4:\n",
    "                    EFi_HC = 0.0570 * (V**-1.0484)\n",
    "                else:\n",
    "                    EFi_HC = 1.1880*(10**-6)*(V**2) - 1.6920*(10**-4)*V + 6.9300*(10**-3)\n",
    "                EFi_NOx = -3.2511*(10**-6)*(V**2) + 3.0653*(10**-4)*V + 1.0404*(10**-2)\n",
    "                if V < 85:\n",
    "                    EFi_PM10 = 0.00030\n",
    "                    EFi_PM2_5 = k * 0.00030\n",
    "                else:\n",
    "                    EFi_PM10 = 0.00075\n",
    "                    EFi_PM2_5 = k * 0.00075\n",
    "            elif 2012 <= car_birth <= 2013:\n",
    "                EFi_CO = 2.0408*(10**-5)*(V**2) - 1.4527*(10**-3)*V + 5.1957*(10**-2)\n",
    "                if V <= 65.4:\n",
    "                    EFi_HC = 0.0547 * (V**-1.0484)\n",
    "                else:\n",
    "                    EFi_HC = 1.1405*(10**-6)*(V**2) - 1.6243*(10**-4)*V + 6.6528*(10**-3)\n",
    "                EFi_NOx = -3.1615*(10**-6)*(V**2) + 2.9809*(10**-4)*V + 1.0117*(10**-2)\n",
    "                if V < 85:\n",
    "                    EFi_PM10 = 0.00030\n",
    "                    EFi_PM2_5 = k * 0.00030\n",
    "                else:\n",
    "                    EFi_PM10 = 0.00075\n",
    "                    EFi_PM2_5 = k * 0.00075\n",
    "            elif car_birth == 2014:\n",
    "                EFi_CO = 1.9749*(10**-5)*(V**2) - 1.4057*(10**-3)*V + 5.0278*(10**-2)\n",
    "                if V <= 65.4:\n",
    "                    EFi_HC = 0.0524 * (V**-1.0484)\n",
    "                else:\n",
    "                    EFi_HC = 1.0930*(10**-6)*(V**2) - 1.5566*(10**-4)*V + 6.3756*(10**-3)\n",
    "                EFi_NOx = -3.0719*(10**-6)*(V**2) + 2.8964*(10**-4)*V + 9.8301*(10**-3)\n",
    "                if V < 85:\n",
    "                    EFi_PM10 = 0.00030\n",
    "                    EFi_PM2_5 = k * 0.00030\n",
    "                else:\n",
    "                    EFi_PM10 = 0.00075\n",
    "                    EFi_PM2_5 = k * 0.00075\n",
    "            elif 2015 <= car_birth:\n",
    "                EFi_CO = 1.9089*(10**-5)*(V**2) - 1.3588*(10**-3)*V + 4.8599*(10**-2)\n",
    "                if V <= 65.4:\n",
    "                    EFi_HC = 0.0501 * (V**-1.0484)\n",
    "                else:\n",
    "                    EFi_HC = 1.0500*(10**-6)*(V**2) - 1.4890*(10**-4)*V + 6.0984*(10**-3)\n",
    "                EFi_NOx = -2.9823*(10**-6)*(V**2) + 2.8119*(10**-4)*V + 9.5434*(10**-3)\n",
    "                if V < 85:\n",
    "                    EFi_PM10 = 0.00030\n",
    "                    EFi_PM2_5 = k * 0.00030\n",
    "                else:\n",
    "                    EFi_PM10 = 0.00075\n",
    "                    EFi_PM2_5 = k * 0.00075\n",
    "        elif (car_type == '승용') and (car_size == '대형'):\n",
    "            if car_birth <= 1986:\n",
    "                EFi_CO = 247.00 * (V**-0.6651)\n",
    "                EFi_HC = 15.953 * (V**-0.5059)\n",
    "                EFi_NOx = 3.1140 * (V**-0.2278)\n",
    "                if V < 85:\n",
    "                    EFi_PM10 = 0.00030\n",
    "                    EFi_PM2_5 = k * 0.00030\n",
    "                else:\n",
    "                    EFi_PM10 = 0.00075\n",
    "                    EFi_PM2_5 = k * 0.00075\n",
    "            elif 1987 <= car_birth <= 1990:\n",
    "                EFi_CO = 36.169 * (V**-0.7587)\n",
    "                EFi_HC = 15.607 * (V**-1.0423)\n",
    "                EFi_NOx = 6.2007 * (V**-0.6781)\n",
    "                if V < 85:\n",
    "                    EFi_PM10 = 0.00030\n",
    "                    EFi_PM2_5 = k * 0.00030\n",
    "                else:\n",
    "                    EFi_PM10 = 0.00075\n",
    "                    EFi_PM2_5 = k * 0.00075\n",
    "            elif 1991 <= car_birth <= 1999:\n",
    "                EFi_CO = 51.555 * (V**-0.9531)\n",
    "                EFi_HC = 31.816 * (V**-1.4804)\n",
    "                EFi_NOx = 7.5244 * (V**-0.7634)\n",
    "                if V < 85:\n",
    "                    EFi_PM10 = 0.00030\n",
    "                    EFi_PM2_5 = k * 0.00030\n",
    "                else:\n",
    "                    EFi_PM10 = 0.00075\n",
    "                    EFi_PM2_5 = k * 0.00075\n",
    "            elif 2000 <= car_birth <= 2002:\n",
    "                EFi_CO = 29.921 * (V**-0.8868)\n",
    "                EFi_HC = 7.9374 * (V**-1.3041)\n",
    "                EFi_NOx = 1.8525 * (V**-0.4192)\n",
    "                if V < 85:\n",
    "                    EFi_PM10 = 0.00030\n",
    "                    EFi_PM2_5 = k * 0.00030\n",
    "                else:\n",
    "                    EFi_PM10 = 0.00075\n",
    "                    EFi_PM2_5 = k * 0.00075\n",
    "            elif 2003 <= car_birth <= 2005:\n",
    "                EFi_CO = 2.4938 * (V**-0.6106)\n",
    "                EFi_HC = 0.4262 * (V**-1.0122)\n",
    "                EFi_NOx = 0.1818 * (V**-0.4316)\n",
    "                if V < 85:\n",
    "                    EFi_PM10 = 0.00030\n",
    "                    EFi_PM2_5 = k * 0.00030\n",
    "                else:\n",
    "                    EFi_PM10 = 0.00075\n",
    "                    EFi_PM2_5 = k * 0.00075\n",
    "            elif 2006 <= car_birth <= 2008:\n",
    "                if V <= 65.4:\n",
    "                    EFi_CO = 1.4082 * (V**-0.7728)\n",
    "                else:\n",
    "                    EFi_CO = 8.0000*(10**-5)*(V**2) - 1.2700*(10**-2)*V + 5.7510*(10**-1)\n",
    "                if V <= 65.4:\n",
    "                    EFi_HC = 0.0633 * (V**-1.0484)\n",
    "                else:\n",
    "                    EFi_HC = 1.3200*(10**-6)*(V**2) - 1.8800*(10**-4)*V + 7.7000*(10**-3)\n",
    "                EFi_NOx = -3.5000*(10**-6)*(V**2) + 3.3000*(10**-4)*V + 1.1200*(10**-2)\n",
    "                if V < 85:\n",
    "                    EFi_PM10 = 0.00030\n",
    "                    EFi_PM2_5 = k * 0.00030\n",
    "                else:\n",
    "                    EFi_PM10 = 0.00075\n",
    "                    EFi_PM2_5 = k * 0.00075\n",
    "            elif 2009 <= car_birth <= 2011:\n",
    "                if V <= 65.4:\n",
    "                    EFi_CO = 1.2955 * (V**-0.7728)\n",
    "                else:\n",
    "                    EFi_CO = 7.3600*(10**-5)*(V**2) - 1.1684*(10**-2)*V + 5.2909*(10**-1)\n",
    "                if V <= 65.4:\n",
    "                    EFi_HC = 0.0570 * (V**-1.0484)\n",
    "                else:\n",
    "                    EFi_HC = 1.1880*(10**-6)*(V**2) - 1.6920*(10**-4)*V + 6.9300*(10**-3)\n",
    "                EFi_NOx = -3.2511*(10**-6)*(V**2) + 3.0653*(10**-4)*V + 1.0404*(10**-2)\n",
    "                if V < 85:\n",
    "                    EFi_PM10 = 0.00030\n",
    "                    EFi_PM2_5 = k * 0.00030\n",
    "                else:\n",
    "                    EFi_PM10 = 0.00075\n",
    "                    EFi_PM2_5 = k * 0.00075\n",
    "            elif 2012 <= car_birth <= 2013:\n",
    "                if V <= 65.4:\n",
    "                    EFi_CO = 1.2550 * (V**-0.7728)\n",
    "                else:\n",
    "                    EFi_CO = 7.1296*(10**-5)*(V**2) - 1.1318*(10**-2)*V + 5.1253*(10**-1)\n",
    "                if V <= 65.4:\n",
    "                    EFi_HC = 0.0547 * (V**-1.0484)\n",
    "                else:\n",
    "                    EFi_HC = 1.1405*(10**-6)*(V**2) - 1.6243*(10**-4)*V + 6.6528*(10**-3)\n",
    "                EFi_NOx = -3.1615*(10**-6)*(V**2) + 2.9809*(10**-4)*V + 1.0117*(10**-2)\n",
    "                if V < 85:\n",
    "                    EFi_PM10 = 0.00030\n",
    "                    EFi_PM2_5 = k * 0.00030\n",
    "                else:\n",
    "                    EFi_PM10 = 0.00075\n",
    "                    EFi_PM2_5 = k * 0.00075\n",
    "            elif car_birth == 2014:\n",
    "                if V <= 65.4:\n",
    "                    EFi_CO = 1.2144 * (V**-0.7728)\n",
    "                else:\n",
    "                    EFi_CO = 6.8992*(10**-5)*(V**2) - 1.0952*(10**-2)*V + 4.9597*(10**-1)\n",
    "                if V <= 65.4:\n",
    "                    EFi_HC = 0.0524 * (V**-1.0484)\n",
    "                else:\n",
    "                    EFi_HC = 1.0930*(10**-6)*(V**2) - 1.5566*(10**-4)*V + 6.3756*(10**-3)\n",
    "                EFi_NOx = -3.0719*(10**-6)*(V**2) + 2.8964*(10**-4)*V + 9.8301*(10**-3)\n",
    "                if V < 85:\n",
    "                    EFi_PM10 = 0.00030\n",
    "                    EFi_PM2_5 = k * 0.00030\n",
    "                else:\n",
    "                    EFi_PM10 = 0.00075\n",
    "                    EFi_PM2_5 = k * 0.00075\n",
    "            elif 2015 <= car_birth:\n",
    "                if V <= 65.4:\n",
    "                    EFi_CO = 1.1739 * (V**-0.7728)\n",
    "                else:\n",
    "                    EFi_CO = 6.6688*(10**-5)*(V**2) - 1.0587*(10**-2)*V + 4.7940*(10**-1)\n",
    "                if V <= 65.4:\n",
    "                    EFi_HC = 0.0501 * (V**-1.0484)\n",
    "                else:\n",
    "                    EFi_HC = 1.0500*(10**-6)*(V**2) - 1.4890*(10**-4)*V + 6.0984*(10**-3)\n",
    "                EFi_NOx = -2.9823*(10**-6)*(V**2) + 2.8119*(10**-4)*V + 9.5434*(10**-3)\n",
    "                if V < 85:\n",
    "                    EFi_PM10 = 0.00030\n",
    "                    EFi_PM2_5 = k * 0.00030\n",
    "                else:\n",
    "                    EFi_PM10 = 0.00075\n",
    "                    EFi_PM2_5 = k * 0.00075\n",
    "        elif ( (car_type == '승합') and (car_size == '경형') ) or ( (car_type == '화물') and (car_size == '경형') ):\n",
    "            if car_birth <= 1996:\n",
    "                if V <= 45:\n",
    "                    EFi_CO = 11.249 * (V**-0.6579)\n",
    "                else:\n",
    "                    EFi_CO = 0.0003 * (V**2) + 0.0002 * V + 0.4136\n",
    "                EFi_HC = 7.6244 * (V**-0.8364)\n",
    "                EFi_NOx = 2.6754 * (V**-0.3236)\n",
    "                if V < 85:\n",
    "                    EFi_PM10 = 0.00030\n",
    "                    EFi_PM2_5 = k * 0.00030\n",
    "                else:\n",
    "                    EFi_PM10 = 0.00075\n",
    "                    EFi_PM2_5 = k * 0.00075\n",
    "            elif 1997 <= car_birth <= 1999:\n",
    "                if V <= 45:\n",
    "                    EFi_CO = 16.965 * (V**-0.8461)\n",
    "                else:\n",
    "                    EFi_CO = -0.0003 * (V**2) + 0.0777 * V - 1.9363\n",
    "                EFi_HC = 3.0285 * (V**-0.7830)\n",
    "                EFi_NOx = 1.9923 * (V**-0.3889)\n",
    "                if V < 85:\n",
    "                    EFi_PM10 = 0.00030\n",
    "                    EFi_PM2_5 = k * 0.00030\n",
    "                else:\n",
    "                    EFi_PM10 = 0.00075\n",
    "                    EFi_PM2_5 = k * 0.00075\n",
    "            elif 2000 <= car_birth <= 2002:\n",
    "                if V <= 45:\n",
    "                    EFi_CO = 9.9433 * (V**-0.8461)\n",
    "                else:\n",
    "                    EFi_CO = -0.0002 * (V**2) + 0.0455 * V - 1.1349\n",
    "                EFi_HC = 1.8928 * (V**-0.7830)\n",
    "                EFi_NOx = 1.2352 * (V**-0.3889)\n",
    "                if V < 85:\n",
    "                    EFi_PM10 = 0.00030\n",
    "                    EFi_PM2_5 = k * 0.00030\n",
    "                else:\n",
    "                    EFi_PM10 = 0.00075\n",
    "                    EFi_PM2_5 = k * 0.00075\n",
    "            elif 2003 <= car_birth <= 2005:\n",
    "                if V <= 45:\n",
    "                    EFi_CO = 9.9433 * (V**-0.8461)\n",
    "                else:\n",
    "                    EFi_CO = -0.0002 * (V**2) + 0.0455 * V - 1.1349\n",
    "                EFi_HC = 0.9227 * (V**-0.7830)\n",
    "                EFi_NOx = 3.8859 * (V**-0.9198)\n",
    "                if V < 85:\n",
    "                    EFi_PM10 = 0.00030\n",
    "                    EFi_PM2_5 = k * 0.00030\n",
    "                else:\n",
    "                    EFi_PM10 = 0.00075\n",
    "                    EFi_PM2_5 = k * 0.00075\n",
    "            elif 2006 <= car_birth:\n",
    "                if V <= 45:\n",
    "                    EFi_CO = 4.4952 * (V**-0.8461)\n",
    "                else:\n",
    "                    EFi_CO = -0.0001 * (V**2) + 0.0229 * V - 0.5701\n",
    "                EFi_HC = 0.2958 * (V**-0.7830)\n",
    "                EFi_NOx = 0.4819 * (V**-0.9198)\n",
    "                if V < 85:\n",
    "                    EFi_PM10 = 0.00030\n",
    "                    EFi_PM2_5 = k * 0.00030\n",
    "                else:\n",
    "                    EFi_PM10 = 0.00075\n",
    "                    EFi_PM2_5 = k * 0.00075\n",
    "        elif (car_type == '승합') and (car_size == '소형'):\n",
    "            if car_birth <= 1990:\n",
    "                EFi_CO = 36.169 * (V**-0.7587)\n",
    "                EFi_HC = 15.607 * (V**-1.0423)\n",
    "                EFi_NOx = 6.2007 * (V**-0.6781)\n",
    "                if V < 85:\n",
    "                    EFi_PM10 = 0.00030\n",
    "                    EFi_PM2_5 = k * 0.00030\n",
    "                else:\n",
    "                    EFi_PM10 = 0.00075\n",
    "                    EFi_PM2_5 = k * 0.00075\n",
    "            elif 1991 <= car_birth <= 1996:\n",
    "                EFi_CO = 39.402 * (V**-0.8879)\n",
    "                EFi_HC = 23.400 * (V**-1.4041)\n",
    "                EFi_NOx = 7.5244 * (V**-0.7634)\n",
    "                if V < 85:\n",
    "                    EFi_PM10 = 0.00030\n",
    "                    EFi_PM2_5 = k * 0.00030\n",
    "                else:\n",
    "                    EFi_PM10 = 0.00075\n",
    "                    EFi_PM2_5 = k * 0.00075\n",
    "            elif 1997 <= car_birth <= 1999:\n",
    "                EFi_CO = 77.088 * (V**-1.2078)\n",
    "                EFi_HC = 18.731 * (V**-1.5356)\n",
    "                EFi_NOx = 4.4260 * (V**-0.7978)\n",
    "                if V < 85:\n",
    "                    EFi_PM10 = 0.00030\n",
    "                    EFi_PM2_5 = k * 0.00030\n",
    "                else:\n",
    "                    EFi_PM10 = 0.00075\n",
    "                    EFi_PM2_5 = k * 0.00075\n",
    "            elif car_birth == 2000:\n",
    "                EFi_CO = 41.669 * (V**-1.2078)\n",
    "                EFi_HC = 14.190 * (V**-1.5356)\n",
    "                EFi_NOx = 3.4578 * (V**-0.7978)\n",
    "                if V < 85:\n",
    "                    EFi_PM10 = 0.00030\n",
    "                    EFi_PM2_5 = k * 0.00030\n",
    "                else:\n",
    "                    EFi_PM10 = 0.00075\n",
    "                    EFi_PM2_5 = k * 0.00075\n",
    "            elif 2001 <= car_birth <= 2002:\n",
    "                EFi_CO = 41.669 * (V**-1.2078)\n",
    "                EFi_HC = 11.920 * (V**-1.5356)\n",
    "                EFi_NOx = 3.0649 * (V**-0.7978)\n",
    "                if V < 85:\n",
    "                    EFi_PM10 = 0.00030\n",
    "                    EFi_PM2_5 = k * 0.00030\n",
    "                else:\n",
    "                    EFi_PM10 = 0.00075\n",
    "                    EFi_PM2_5 = k * 0.00075\n",
    "            elif 2003 <= car_birth <= 2005:\n",
    "                EFi_CO = 37.573 * (V**-1.2078)\n",
    "                EFi_HC = 3.1786 * (V**-1.5356)\n",
    "                EFi_NOx = 1.4931 * (V**-0.7978)\n",
    "                if V < 85:\n",
    "                    EFi_PM10 = 0.00030\n",
    "                    EFi_PM2_5 = k * 0.00030\n",
    "                else:\n",
    "                    EFi_PM10 = 0.00075\n",
    "                    EFi_PM2_5 = k * 0.00075\n",
    "            elif 2006 <= car_birth:\n",
    "                EFi_CO = 32.899 * (V**-1.2078)\n",
    "                EFi_HC = 2.7387 * (V**-1.5356)\n",
    "                EFi_NOx = 1.1808 * (V**-0.7978)\n",
    "                if V < 85:\n",
    "                    EFi_PM10 = 0.00030\n",
    "                    EFi_PM2_5 = k * 0.00030\n",
    "                else:\n",
    "                    EFi_PM10 = 0.00075\n",
    "                    EFi_PM2_5 = k * 0.00075\n",
    "        elif ( (car_type == '승합') and ((car_size == '중형') or (car_size == '대형')) ) or ( (car_type == '화물') and (car_size == '소형') ):\n",
    "            if car_birth <= 1990:\n",
    "                EFi_CO = 36.169 * (V**-0.7587)\n",
    "                EFi_HC = 15.607 * (V**-1.0423)\n",
    "                EFi_NOx = 6.2007 * (V**-0.6781)\n",
    "                if V < 85:\n",
    "                    EFi_PM10 = 0.00030\n",
    "                    EFi_PM2_5 = k * 0.00030\n",
    "                else:\n",
    "                    EFi_PM10 = 0.00075\n",
    "                    EFi_PM2_5 = k * 0.00075\n",
    "            elif 1991 <= car_birth <= 1996:\n",
    "                EFi_CO = 39.402 * (V**-0.8879)\n",
    "                EFi_HC = 23.400 * (V**-1.4041)\n",
    "                EFi_NOx = 7.5244 * (V**-0.7634)\n",
    "                if V < 85:\n",
    "                    EFi_PM10 = 0.00030\n",
    "                    EFi_PM2_5 = k * 0.00030\n",
    "                else:\n",
    "                    EFi_PM10 = 0.00075\n",
    "                    EFi_PM2_5 = k * 0.00075\n",
    "            elif 1997 <= car_birth <= 1999:\n",
    "                EFi_CO = 77.088 * (V**-1.2078)\n",
    "                EFi_HC = 18.731 * (V**-1.5356)\n",
    "                EFi_NOx = 4.4260 * (V**-0.7978)\n",
    "                if V < 85:\n",
    "                    EFi_PM10 = 0.00030\n",
    "                    EFi_PM2_5 = k * 0.00030\n",
    "                else:\n",
    "                    EFi_PM10 = 0.00075\n",
    "                    EFi_PM2_5 = k * 0.00075\n",
    "            elif 2000 <= car_birth <= 2002:\n",
    "                EFi_CO = 41.669 * (V**-1.2078)\n",
    "                EFi_HC = 14.190 * (V**-1.5356)\n",
    "                EFi_NOx = 3.4578 * (V**-0.7978)\n",
    "                if V < 85:\n",
    "                    EFi_PM10 = 0.00030\n",
    "                    EFi_PM2_5 = k * 0.00030\n",
    "                else:\n",
    "                    EFi_PM10 = 0.00075\n",
    "                    EFi_PM2_5 = k * 0.00075\n",
    "            elif 2003 <= car_birth <= 2005:\n",
    "                EFi_CO = 36.578 * (V**-1.2078)\n",
    "                EFi_HC = 3.0337 * (V**-1.5356)\n",
    "                EFi_NOx = 2.0104 * (V**-0.7978)\n",
    "                if V < 85:\n",
    "                    EFi_PM10 = 0.00030\n",
    "                    EFi_PM2_5 = k * 0.00030\n",
    "                else:\n",
    "                    EFi_PM10 = 0.00075\n",
    "                    EFi_PM2_5 = k * 0.00075\n",
    "            elif 2006 <= car_birth:\n",
    "                EFi_CO = 14.202 * (V**-1.2078)\n",
    "                EFi_HC = 1.2233 * (V**-1.5356)\n",
    "                EFi_NOx = 0.2493 * (V**-0.7978)\n",
    "                if V < 85:\n",
    "                    EFi_PM10 = 0.00030\n",
    "                    EFi_PM2_5 = k * 0.00030\n",
    "                else:\n",
    "                    EFi_PM10 = 0.00075\n",
    "                    EFi_PM2_5 = k * 0.00075\n",
    "        elif (car_type == '화물') and ( (car_size == '중형') or (car_size == '대형') ):\n",
    "            if 1993 <= car_birth:\n",
    "                if V <= 65:\n",
    "                    EFi_CO = 70\n",
    "                    EFi_HC = 7\n",
    "                    EFi_NOx = 4.5\n",
    "                else:\n",
    "                    EFi_CO = 55\n",
    "                    EFi_HC = 3.5\n",
    "                    EFi_NOx = 7.5\n",
    "                if V < 85:\n",
    "                    EFi_PM10 = 0.00030\n",
    "                    EFi_PM2_5 = k * 0.00030\n",
    "                else:\n",
    "                    EFi_PM10 = 0.00075\n",
    "                    EFi_PM2_5 = k * 0.00075\n",
    "    elif fuel == '경유':\n",
    "        if (car_type == '승용') and (car_size == '경형'):\n",
    "            if car_birth <= 2005:\n",
    "                EFi_CO = 0.7392 * (V**-0.7524)\n",
    "                EFi_HC = 0.0989 * (V**-0.6848)\n",
    "                EFi_NOx = 24.3491 * (V**-0.7277)\n",
    "                EFi_PM10 = 0.0839 * (V**-0.3420)\n",
    "                EFi_PM2_5 = k * 0.0839 * (V**-0.3420)\n",
    "            elif 2006 <= car_birth <= 2010:\n",
    "                EFi_CO = 0.5775 * (V**-0.7524)\n",
    "                EFi_HC = 0.0825 * (V**-0.6848)\n",
    "                EFi_NOx = 24.3491 * (V**-0.7277)\n",
    "                EFi_PM10 = 0.0420 * (V**-0.3420)\n",
    "                EFi_PM2_5 = k * 0.0420 * (V**-0.3420)\n",
    "            elif 2011 <= car_birth <= 2015:\n",
    "                EFi_CO = 0.5141 * (V**-0.6792)\n",
    "                EFi_HC = 0.3713 * (V**-0.7513)\n",
    "                EFi_NOx = 0.0003 * (V**2) - 0.0324 * V + 1.4773\n",
    "                if V <= 65.4:\n",
    "                    EFi_PM10 = 0.0225 * (V**-0.7264)\n",
    "                    EFi_PM2_5 = k * 0.0225 * (V**-0.7264)\n",
    "                else:\n",
    "                    EFi_PM10 = 0.0009 * (V**-0.0416)\n",
    "                    EFi_PM2_5 = k * 0.0009 * (V**-0.0416)\n",
    "            elif 2016 <= car_birth:\n",
    "                EFi_CO = 0.4574 * (V**-0.5215)\n",
    "                EFi_HC = 0.1300 * (V**-0.7265)\n",
    "                EFi_NOx = 2.7702 * (V**-0.3869)\n",
    "                if V <= 65.4:\n",
    "                    EFi_PM10 = 0.0225 * (V**-0.7264)\n",
    "                    EFi_PM2_5 = k * 0.0225 * (V**-0.7264)\n",
    "                else:\n",
    "                    EFi_PM10 = 0.0009 * (V**-0.0416)\n",
    "                    EFi_PM2_5 = k * 0.0009 * (V**-0.0416)\n",
    "        elif (car_type == '승용') and (car_size == '소형'):\n",
    "            if car_birth <= 2004:\n",
    "                EFi_CO = 5.9672 * (V**-0.9534)\n",
    "                EFi_HC = 0.6523 * (V**-1.0167)\n",
    "                EFi_NOx = 24.3491 * (V**-0.7277)\n",
    "                if V <= 65:\n",
    "                    EFi_PM10 = 0.3861 * (V**-0.5093)\n",
    "                    EFi_PM2_5 = k * 0.3861 * (V**-0.5093)\n",
    "                else:\n",
    "                    EFi_PM10 = -0.00001 * (V**2) + 0.0026 * V - 0.0618\n",
    "                    EFi_PM2_5 = k * -0.00001 * (V**2) + 0.0026 * V - 0.0618\n",
    "            elif car_birth == 2005:\n",
    "                EFi_CO = 0.7392 * (V**-0.7524)\n",
    "                EFi_HC = 0.0989 * (V**-0.6848)\n",
    "                EFi_NOx = 24.3491 * (V**-0.7277)\n",
    "                EFi_PM10 = 0.0839 * (V**-0.3420)\n",
    "                EFi_PM2_5 = k * 0.0839 * (V**-0.3420)\n",
    "            elif 2006 <= car_birth <= 2010:\n",
    "                EFi_CO = 0.5775 * (V**-0.7524)\n",
    "                EFi_HC = 0.0825 * (V**-0.6848)\n",
    "                EFi_NOx = 24.3491 * (V**-0.7277)\n",
    "                EFi_PM10 = 0.0420 * (V**-0.3420)\n",
    "                EFi_PM2_5 = k * 0.0420 * (V**-0.3420)\n",
    "            elif 2011 <= car_birth <= 2015:\n",
    "                EFi_CO = 0.5141 * (V**-0.6792)\n",
    "                EFi_HC = 0.3713 * (V**-0.7513)\n",
    "                EFi_NOx = 0.0003 * (V**2) - 0.0324 * V + 1.4773\n",
    "                if V <= 65.4:\n",
    "                    EFi_PM10 = 0.0225 * (V**-0.7264)\n",
    "                    EFi_PM2_5 = k * 0.0225 * (V**-0.7264)\n",
    "                else:\n",
    "                    EFi_PM10 = 0.0009 * (V**-0.0416)\n",
    "                    EFi_PM2_5 = k * 0.0009 * (V**-0.0416)\n",
    "            elif 2016 <= car_birth:\n",
    "                EFi_CO = 0.4574 * (V**-0.5215)\n",
    "                EFi_HC = 0.1300 * (V**-0.7265)\n",
    "                EFi_NOx = 2.7702 * (V**-0.3869)\n",
    "                if V <= 65.4:\n",
    "                    EFi_PM10 = 0.0225 * (V**-0.7264)\n",
    "                    EFi_PM2_5 = k * 0.0225 * (V**-0.7264)\n",
    "                else:\n",
    "                    EFi_PM10 = 0.0009 * (V**-0.0416)\n",
    "                    EFi_PM2_5 = k * 0.0009 * (V**-0.0416)\n",
    "        elif (car_type == '승용') and (car_size == '중형'):\n",
    "            if car_birth <= 2004:\n",
    "                EFi_CO = 5.9672 * (V**-0.9534)\n",
    "                EFi_HC = 0.6523 * (V**-1.0167)\n",
    "                EFi_NOx = 24.3491 * (V**-0.7277)\n",
    "                if V <= 65:\n",
    "                    EFi_PM10 = 0.3861 * (V**-0.5093)\n",
    "                    EFi_PM2_5 = k * 0.3861 * (V**-0.5093)\n",
    "                else:\n",
    "                    EFi_PM10 = -0.00001 * (V**2) + 0.0026 * V - 0.0618\n",
    "                    EFi_PM2_5 = k * -0.00001 * (V**2) + 0.0026 * V - 0.0618\n",
    "            elif car_birth == 2005:\n",
    "                EFi_CO = 0.6930 * (V**-0.7524)\n",
    "                EFi_HC = 0.1865 * (V**-0.6848)\n",
    "                EFi_NOx = 24.3491 * (V**-0.7277)\n",
    "                EFi_PM10 = 0.0723 * (V**-0.3420)\n",
    "                EFi_PM2_5 = k * 0.0723 * (V**-0.3420)\n",
    "            elif 2006 <= car_birth <= 2010:\n",
    "                EFi_CO = 0.5414 * (V**-0.7524)\n",
    "                EFi_HC = 0.0927 * (V**-0.6848)\n",
    "                EFi_NOx = 24.3491 * (V**-0.7277)\n",
    "                EFi_PM10 = 0.0396 * (V**-0.3420)\n",
    "                EFi_PM2_5 = k * 0.0396 * (V**-0.3420)\n",
    "            elif 2011 <= car_birth <= 2015:\n",
    "                EFi_CO = 0.5141 * (V**-0.6792)\n",
    "                EFi_HC = 0.3713 * (V**-0.7513)\n",
    "                EFi_NOx = 0.0003 * (V**2) - 0.0324 * V + 1.4773\n",
    "                if V <= 65.4:\n",
    "                    EFi_PM10 = 0.0225 * (V**-0.7264)\n",
    "                    EFi_PM2_5 = k * 0.0225 * (V**-0.7264)\n",
    "                else:\n",
    "                    EFi_PM10 = 0.0009 * (V**-0.0416)\n",
    "                    EFi_PM2_5 = k * 0.0009 * (V**-0.0416)\n",
    "            elif 2016 <= car_birth:\n",
    "                EFi_CO = 0.4574 * (V**-0.5215)\n",
    "                EFi_HC = 0.1300 * (V**-0.7265)\n",
    "                EFi_NOx = 2.7702 * (V**-0.3869)\n",
    "                if V <= 65.4:\n",
    "                    EFi_PM10 = 0.0225 * (V**-0.7264)\n",
    "                    EFi_PM2_5 = k * 0.0225 * (V**-0.7264)\n",
    "                else:\n",
    "                    EFi_PM10 = 0.0009 * (V**-0.0416)\n",
    "                    EFi_PM2_5 = k * 0.0009 * (V**-0.0416)\n",
    "        elif (car_type == '승용') and (car_size == '대형'):\n",
    "            if car_birth <= 2004:\n",
    "                EFi_CO = 5.9672 * (V**-0.9534)\n",
    "                EFi_HC = 0.6523 * (V**-1.0167)\n",
    "                EFi_NOx = 24.3491 * (V**-0.7277)\n",
    "                if V <= 65:\n",
    "                    EFi_PM10 = 0.3861 * (V**-0.5093)\n",
    "                    EFi_PM2_5 = k * 0.3861 * (V**-0.5093)\n",
    "                else:\n",
    "                    EFi_PM10 = -0.00001 * (V**2) + 0.0026 * V - 0.0618\n",
    "                    EFi_PM2_5 = k * -0.00001 * (V**2) + 0.0026 * V - 0.0618\n",
    "            elif car_birth == 2005:\n",
    "                EFi_CO = 0.9609 * (V**-0.7524)\n",
    "                EFi_HC = 0.1865 * (V**-0.6848)\n",
    "                EFi_NOx = 24.3491 * (V**-0.7277)\n",
    "                EFi_PM10 = 0.0723 * (V**-0.3420)\n",
    "                EFi_PM2_5 = k * 0.0723 * (V**-0.3420)\n",
    "            elif 2006 <= car_birth <= 2010:\n",
    "                EFi_CO = 0.7507 * (V**-0.7524)\n",
    "                EFi_HC = 0.1554 * (V**-0.6848)\n",
    "                EFi_NOx = 24.3491 * (V**-0.7277)\n",
    "                EFi_PM10 = 0.0361 * (V**-0.3420)\n",
    "                EFi_PM2_5 = k * 0.0361 * (V**-0.3420)\n",
    "            elif 2011 <= car_birth <= 2015:\n",
    "                EFi_CO = 0.5141 * (V**-0.6792)\n",
    "                EFi_HC = 0.3713 * (V**-0.7513)\n",
    "                EFi_NOx = 0.0003 * (V**2) - 0.0324 * V + 1.4773\n",
    "                if V <= 65.4:\n",
    "                    EFi_PM10 = 0.0225 * (V**-0.7264)\n",
    "                    EFi_PM2_5 = k * 0.0225 * (V**-0.7264)\n",
    "                else:\n",
    "                    EFi_PM10 = 0.0009 * (V**-0.0416)\n",
    "                    EFi_PM2_5 = k * 0.0009 * (V**-0.0416)\n",
    "            elif 2016 <= car_birth:\n",
    "                EFi_CO = 0.4574 * (V**-0.5215)\n",
    "                EFi_HC = 0.1300 * (V**-0.7265)\n",
    "                EFi_NOx = 2.7702 * (V**-0.3869)\n",
    "                if V <= 65.4:\n",
    "                    EFi_PM10 = 0.0225 * (V**-0.7264)\n",
    "                    EFi_PM2_5 = k * 0.0225 * (V**-0.7264)\n",
    "                else:\n",
    "                    EFi_PM10 = 0.0009 * (V**-0.0416)\n",
    "                    EFi_PM2_5 = k * 0.0009 * (V**-0.0416)\n",
    "        elif (car_type == '승합') and (car_size == '소형'):\n",
    "            if car_birth <= 1990:\n",
    "                if V <= 65.4:\n",
    "                    EFi_CO = 3.4539 * (V**-0.4266)\n",
    "                else:\n",
    "                    EFi_CO = 0.0051 * V + 0.2212\n",
    "                EFi_HC = 0.9835 * (V**-0.5096)\n",
    "                EFi_NOx = 24.3491 * (V**-0.7277)\n",
    "                EFi_PM10 = 1.1412 * (V**-0.4324)\n",
    "                EFi_PM2_5 = k * 1.1412 * (V**-0.4324)\n",
    "            elif 1991 <= car_birth <= 1995:\n",
    "                if V <= 65.4:\n",
    "                    EFi_CO = 3.4539 * (V**-0.4266)\n",
    "                else:\n",
    "                    EFi_CO = 0.0051 * V + 0.2212\n",
    "                EFi_HC = 1.6313 * (V**-0.7298)\n",
    "                EFi_NOx = 24.3491 * (V**-0.7277)\n",
    "                EFi_PM10 = 0.5999 * (V**-0.3294)\n",
    "                EFi_PM2_5 = k * 0.5999 * (V**-0.3294)\n",
    "            elif 1996 <= car_birth <= 1997:\n",
    "                if V <= 65.4:\n",
    "                    EFi_CO = 3.4539 * (V**-0.4266)\n",
    "                else:\n",
    "                    EFi_CO = 0.0051 * V + 0.2212\n",
    "                EFi_HC = 1.1293 * (V**-0.6588)\n",
    "                EFi_NOx = 24.3491 * (V**-0.7277)\n",
    "                EFi_PM10 = 0.6408 * (V**-0.3596)\n",
    "                EFi_PM2_5 = k * 0.6408 * (V**-0.3596)\n",
    "            elif 1998 <= car_birth <= 1999:\n",
    "                EFi_CO = 3.7564 * (V**-0.5175)\n",
    "                EFi_HC = 1.1293 * (V**-0.6588)\n",
    "                EFi_NOx = 24.3491 * (V**-0.7277)\n",
    "                EFi_PM10 = 0.5168 * (V**-0.3596)\n",
    "                EFi_PM2_5 = k * 0.5168 * (V**-0.3596)\n",
    "            elif 2000 <= car_birth <= 2003:\n",
    "                EFi_CO = 3.7564 * (V**-0.5175)\n",
    "                EFi_HC = 1.1293 * (V**-0.6588)\n",
    "                EFi_NOx = 24.3491 * (V**-0.7277)\n",
    "                EFi_PM10 = 0.2894 * (V**-0.3596)\n",
    "                EFi_PM2_5 = k * 0.2894 * (V**-0.3596)\n",
    "            elif 2004 <= car_birth <= 2007:\n",
    "                EFi_CO = 3.2797 * (V**-0.8887)\n",
    "                EFi_HC = 0.1807 * (V**-0.6588)\n",
    "                EFi_NOx = 24.3491 * (V**-0.7277)\n",
    "                EFi_PM10 = 0.2067 * (V**-0.3596)\n",
    "                EFi_PM2_5 = k * 0.2067 * (V**-0.3596)\n",
    "            elif 2008 <= car_birth <= 2011:\n",
    "                if V <= 65.4:\n",
    "                    EFi_CO = 4.222 * (V**-1.4035)\n",
    "                else:\n",
    "                    EFi_CO = 0.011666 * (V**0.09222)\n",
    "                if V <= 97.3:\n",
    "                    EFi_HC = 0.829 * (V**-1.0961)\n",
    "                EFi_NOx = 24.3491 * (V**-0.7277)\n",
    "                EFi_PM10 = 0.3111 * (V**-0.5125)\n",
    "                EFi_PM2_5 = k * 0.3111 * (V**-0.5125)\n",
    "            elif 2012 <= car_birth:\n",
    "                if V <= 65.4:\n",
    "                    EFi_CO = 4.222 * (V**-1.4035)\n",
    "                else:\n",
    "                    EFi_CO = 0.011666 * (V**0.09222)\n",
    "                if V <= 97.3:\n",
    "                    EFi_HC = 0.829 * (V**-1.0961)\n",
    "                if V <= 65.4:\n",
    "                    EFi_NOx = 2.0217 * (V**-0.2645)\n",
    "                else:\n",
    "                    EFi_NOx = 0.0271 * (V**0.7596)\n",
    "                EFi_PM10 = 0.1119 * (V**-0.5125)\n",
    "                EFi_PM2_5 = k * 0.1119 * (V**-0.5125)\n",
    "        elif (car_type == '승합') and (car_size == '중형'):\n",
    "            if car_birth <= 1995:\n",
    "                EFi_CO = 32.550 * (V**-0.4944)\n",
    "                EFi_HC = 15.753 * (V**-0.5912)\n",
    "                if V < 80:\n",
    "                    EFi_NOx = 40.692 * (V**-0.5590)\n",
    "                else:\n",
    "                    EFi_NOx = -0.0023 * (V**2) + 0.5381 * V - 23.590\n",
    "                EFi_PM10 = 5.4886 * (V**-0.5911)\n",
    "                EFi_PM2_5 = k * 5.4886 * (V**-0.5911)\n",
    "            elif 1996 <= car_birth <= 1997:\n",
    "                EFi_CO = 16.410 * (V**-0.3790)\n",
    "                EFi_HC = 4.2324 * (V**-0.3926)\n",
    "                if V < 80:\n",
    "                    EFi_NOx = 22.804 * (V**-0.4660)\n",
    "                else:\n",
    "                    EFi_NOx = -0.0021 * (V**2) + 0.4430 * V - 18.730\n",
    "                EFi_PM10 = 1.6593 * (V**-0.3935)\n",
    "                EFi_PM2_5 = k * 1.6593 * (V**-0.3935)\n",
    "            elif 1998 <= car_birth <= 2000:\n",
    "                EFi_CO = 16.410 * (V**-0.3790)\n",
    "                EFi_HC = 4.2324 * (V**-0.3926)\n",
    "                if V < 80:\n",
    "                    EFi_NOx = 25.708 * (V**-0.4772)\n",
    "                else:\n",
    "                    EFi_NOx = 0.0019 * (V**2) - 0.2628 * V + 12.145\n",
    "                EFi_PM10 = 1.6593 * (V**-0.3935)\n",
    "                EFi_PM2_5 = k * 1.6593 * (V**-0.3935)\n",
    "            elif 2001 <= car_birth <= 2004:\n",
    "                EFi_CO = 16.378 * (V**-0.5340)\n",
    "                EFi_HC = 5.8477 * (V**-0.5466)\n",
    "                if V < 80:\n",
    "                    EFi_NOx = 25.436 * (V**-0.4656)\n",
    "                else:\n",
    "                    EFi_NOx = 0.0008 * (V**2) - 0.0482 * V + 1.8424\n",
    "                EFi_PM10 = 1.2848 * (V**-0.4715)\n",
    "                EFi_PM2_5 = k * 1.2848 * (V**-0.4715)\n",
    "            elif 2005 <= car_birth <= 2007:\n",
    "                EFi_CO = 15.256 * (V**-0.7448)\n",
    "                EFi_HC = 2.0502 * (V**-0.6504)\n",
    "                EFi_NOx = 15.001 * (V**-0.4528)\n",
    "                EFi_PM10 = 0.2979 * (V**-0.4008)\n",
    "                EFi_PM2_5 = k * 1.0457 * (V**-0.4527)\n",
    "            elif 2008 <= car_birth <= 2010:\n",
    "                EFi_CO = 8.1771 * (V**-0.7725)\n",
    "                EFi_HC = 1.2991 * (V**-0.6538)\n",
    "                if V <= 64.7:\n",
    "                    EFi_NOx = 17.3032 * (V**-0.3660)\n",
    "                    EFi_PM10 = 0.0539 * (V**-0.5182)\n",
    "                    EFi_PM2_5 = k * 0.0539 * (V**-0.5182)\n",
    "                else:\n",
    "                    EFi_NOx = 0.3259 * (V**0.5773)\n",
    "                    EFi_PM10 = 2.0000*(10**-4) * V - 7.5600*(10**-3)\n",
    "                    EFi_PM2_5 = k * 2.0000*(10**-4) * V - 7.5600*(10**-3)\n",
    "            elif 2011 <= car_birth <= 2014:\n",
    "                EFi_CO = 4.5201 * (V**-0.7279)\n",
    "                EFi_HC = 1.6826 * (V**-0.8045)\n",
    "                if V <= 64.7:\n",
    "                    EFi_NOx = 17.2485 * (V**-0.4040)\n",
    "                    EFi_PM10 = 0.0469 * (V**-0.4674)\n",
    "                    EFi_PM2_5 = k * 0.0469 * (V**-0.4674)\n",
    "                else:\n",
    "                    EFi_NOx = 1.1797 * (V**0.2308)\n",
    "                    EFi_PM10 = 1.6800*(10**-4) * V - 5.1600*(10**-3)\n",
    "                    EFi_PM2_5 = k * 1.6800*(10**-4) * V - 5.1600*(10**-3)\n",
    "            elif 2015 <= car_birth:\n",
    "                EFi_CO = 7.4065 * (V**-0.5995)\n",
    "                EFi_HC = 2.4562 * (V**-1.3145)\n",
    "                EFi_NOx = 42.7393 * (V**-1.2949)\n",
    "                if V <= 64.7:\n",
    "                    EFi_PM10 = 0.0081 * (V**-0.5182)\n",
    "                    EFi_PM2_5 = k * 0.0081 * (V**-0.5182)\n",
    "                else:\n",
    "                    EFi_PM10 = 3.0000*(10**-5) * V - 0.0011\n",
    "                    EFi_PM2_5 = k * 3.0000*(10**-5) * V - 0.0011\n",
    "        elif (car_type == '승합') and (car_size == '대형'):\n",
    "            if car_birth <= 1995:\n",
    "                EFi_CO = 28.205 * (V**-0.5337)\n",
    "                EFi_HC = 6.1146 * (V**-0.4979)\n",
    "                EFi_NOx = 41.346 * (V**-0.3645)\n",
    "                EFi_PM10 = 5.2158 * (V**-0.5048)\n",
    "                EFi_PM2_5 = k * 5.2158 * (V**-0.5048)\n",
    "            elif 1996 <= car_birth <= 1997:\n",
    "                EFi_CO = 23.205 * (V**-0.5425)\n",
    "                EFi_HC = 6.5657 * (V**-0.5431)\n",
    "                EFi_NOx = 42.1379 * (V**-0.3786)\n",
    "                EFi_PM10 = 2.4911 * (V**-0.4149)\n",
    "                EFi_PM2_5 = k * 2.4911 * (V**-0.4149)\n",
    "            elif 1998 <= car_birth <= 2000:\n",
    "                EFi_CO = 23.205 * (V**-0.5425)\n",
    "                EFi_HC = 6.5657 * (V**-0.5431)\n",
    "                EFi_NOx = 42.1379 * (V**-0.3786)\n",
    "                EFi_PM10 = 1.4432 * (V**-0.3870)\n",
    "                EFi_PM2_5 = k * 1.4432 * (V**-0.3870)\n",
    "            elif car_birth == 2001:\n",
    "                EFi_CO = 21.348 * (V**-0.5806)\n",
    "                EFi_HC = 6.6390 * (V**-0.5760)\n",
    "                EFi_NOx = 36.7191 * (V**-0.3548)\n",
    "                EFi_PM10 = 0.9375 * (V**-0.3910)\n",
    "                EFi_PM2_5 = k * 0.9375 * (V**-0.3910)\n",
    "            elif 2002 <= car_birth <= 2004:\n",
    "                EFi_CO = 21.348 * (V**-0.5806)\n",
    "                EFi_HC = 6.6390 * (V**-0.5760)\n",
    "                EFi_NOx = 36.7191 * (V**-0.3548)\n",
    "                EFi_PM10 = 1.1507 * (V**-0.4804)\n",
    "                EFi_PM2_5 = k * 1.1507 * (V**-0.4804)\n",
    "            elif 2005 <= car_birth <= 2007:\n",
    "                EFi_CO = 9.6452 * (V**-0.5291)\n",
    "                EFi_HC = 3.2339 * (V**-0.7436)\n",
    "                EFi_NOx = 30.5870 * (V**-0.3548)\n",
    "                if V <= 80:\n",
    "                    EFi_PM10 = 0.4657 * (V**-0.5634)\n",
    "                    EFi_PM2_5 = k * 0.4657 * (V**-0.5634)\n",
    "                else:\n",
    "                    EFi_PM10 = 0.0014 * (V**0.7970)\n",
    "                    EFi_PM2_5 = k * 0.0014 * (V**0.7970)\n",
    "            elif 2008 <= car_birth <= 2010:\n",
    "                EFi_CO = 6.8493 * (V**-0.6506)\n",
    "                EFi_HC = 1.7177 * (V**-0.6781)\n",
    "                EFi_NOx = 40.7564 * (V**-0.4757)\n",
    "                EFi_PM10 = 0.2418 * (V**-0.4727)\n",
    "                EFi_PM2_5 = k * 0.2418 * (V**-0.4727)\n",
    "            elif 2011 <= car_birth <= 2014:\n",
    "                EFi_CO = 5.4607 * (V**-0.2990)\n",
    "                EFi_HC = 0.8863 * (V**-0.6933)\n",
    "                EFi_NOx = 40.3729 * (V**-0.5386)\n",
    "                EFi_PM10 = 0.2125 * (V**-0.4650)\n",
    "                EFi_PM2_5 = k * 0.2125 * (V**-0.4650)\n",
    "            elif 2015 <= car_birth:\n",
    "                EFi_CO = 11.4415 * (V**-0.8036)\n",
    "                EFi_HC = 0.6774 * (V**-0.8321)\n",
    "                EFi_NOx = 112.1229 * (V**-1.6393)\n",
    "                EFi_PM10 = 0.0363 * (V**-0.4727)\n",
    "                EFi_PM2_5 = k * 0.0363 * (V**-0.4727)\n",
    "        elif (car_type == '화물') and (car_size == '소형'):\n",
    "            if car_birth <= 1990:\n",
    "                EFi_CO = 4.5854 * (V**-0.3613)\n",
    "                EFi_HC = 0.4840 * (V**-0.2756)\n",
    "                EFi_NOx = 24.3491 * (V**-0.7277)\n",
    "                EFi_PM10 = 0.8117 * (V**-0.4071)\n",
    "                EFi_PM2_5 = k * 0.8117 * (V**-0.4071)\n",
    "            elif 1991 <= car_birth <= 1995:\n",
    "                EFi_CO = 3.4774 * (V**-0.3483)\n",
    "                EFi_HC = 0.4844 * (V**-0.3288)\n",
    "                EFi_NOx = 24.3491 * (V**-0.7277)\n",
    "                EFi_PM10 = 0.6188 * (V**-0.4540)\n",
    "                EFi_PM2_5 = k * 0.6188 * (V**-0.4540)\n",
    "            elif 1996 <= car_birth <= 1997:\n",
    "                EFi_CO = 3.3934 * (V**-0.3837)\n",
    "                EFi_HC = 0.4955 * (V**-0.3393)\n",
    "                EFi_NOx = 24.3491 * (V**-0.7277)\n",
    "                EFi_PM10 = 0.7037 * (V**-0.5357)\n",
    "                EFi_PM2_5 = k * 0.7037 * (V**-0.5357)\n",
    "            elif 1998 <= car_birth <= 1999:\n",
    "                EFi_CO = 4.0896 * (V**-0.6083)\n",
    "                EFi_HC = 0.6122 * (V**-0.5684)\n",
    "                EFi_NOx = 24.3491 * (V**-0.7277)\n",
    "                EFi_PM10 = 0.6157 * (V**-0.5357)\n",
    "                EFi_PM2_5 = k * 0.6157 * (V**-0.5357)\n",
    "            elif 2000 <= car_birth <= 2003:\n",
    "                EFi_CO = 4.0896 * (V**-0.6083)\n",
    "                EFi_HC = 0.6122 * (V**-0.5684)\n",
    "                EFi_NOx = 24.3491 * (V**-0.7277)\n",
    "                EFi_PM10 = 0.4838 * (V**-0.5357)\n",
    "                EFi_PM2_5 = k * 0.4838 * (V**-0.5357)\n",
    "            elif 2004 <= car_birth <= 2007:\n",
    "                EFi_CO = 3.2797 * (V**-0.8887)\n",
    "                EFi_HC = 0.1807 * (V**-0.6588)\n",
    "                EFi_NOx = 24.3491 * (V**-0.7277)\n",
    "                EFi_PM10 = 0.2067 * (V**-0.3596)\n",
    "                EFi_PM2_5 = k * 0.2067 * (V**-0.3596)\n",
    "            elif 2008 <= car_birth <= 2011:\n",
    "                if V <= 65.4:\n",
    "                    EFi_CO = 4.222 * (V**-1.4035)\n",
    "                else:\n",
    "                    EFi_CO = 0.01166 * (V**0.09222)\n",
    "                if V <= 97.3:\n",
    "                    EFi_HC = 0.829 * (V**-1.0961)\n",
    "                EFi_NOx = 24.3491 * (V**-0.7277)\n",
    "                EFi_PM10 = 0.3111 * (V**-0.5125)\n",
    "                EFi_PM2_5 = k * 0.3111 * (V**-0.5125)\n",
    "            elif 2012 <= car_birth <= 2016:\n",
    "                if V <= 65.4:\n",
    "                    EFi_CO = 4.222 * (V**-1.4035)\n",
    "                    EFi_NOx = 2.0217 * (V**-0.2645)\n",
    "                else:\n",
    "                    EFi_CO = 0.01166 * (V**0.09222)\n",
    "                    EFi_NOx = 0.0271 * (V**0.7596)\n",
    "                if V <= 97.3:\n",
    "                    EFi_HC = 0.829 * (V**-1.0961)\n",
    "                EFi_PM10 = 0.1119 * (V**-0.5125)\n",
    "                EFi_PM2_5 = k * 0.1119 * (V**-0.5125)\n",
    "        elif ( (car_type == '화물') and (car_size == '중형') ) | (car_type == '특수'):\n",
    "            if car_birth <= 1995:\n",
    "                EFi_CO = 16.769 * (V**-0.3772)\n",
    "                EFi_HC = 6.7755 * (V**-0.5003)\n",
    "                EFi_NOx = 24.915 * (V**-0.3942)\n",
    "                EFi_PM10 = 3.6772 * (V**-0.5514)\n",
    "                EFi_PM2_5 = k * 3.6772 * (V**-0.5514)\n",
    "            elif 1996 <= car_birth <= 2000:\n",
    "                EFi_CO = 21.057 * (V**-0.4958)\n",
    "                EFi_HC = 6.7532 * (V**-0.5711)\n",
    "                EFi_NOx = 25.022 * (V**-0.4240)\n",
    "                EFi_PM10 = 3.5285 * (V**-0.5962)\n",
    "                EFi_PM2_5 = k * 3.5285 * (V**-0.5962)\n",
    "            elif car_birth == 2001:\n",
    "                EFi_CO = 25.501 * (V**-0.6100)\n",
    "                EFi_HC = 6.8738 * (V**-0.5913)\n",
    "                if V <= 64.7:\n",
    "                    EFi_NOx = 17.3032 * (V**-0.3660)\n",
    "                else:\n",
    "                    EFi_NOx = 0.3259 * (V**0.5773)\n",
    "                EFi_PM10 = 1.4444 * (V**-0.4824)\n",
    "                EFi_PM2_5 = k * 1.4444 * (V**-0.4824)\n",
    "            elif 2002 <= car_birth <= 2004:\n",
    "                EFi_CO = 25.501 * (V**-0.6100)\n",
    "                EFi_HC = 6.8738 * (V**-0.5913)\n",
    "                if V <= 64.7:\n",
    "                    EFi_NOx = 17.3032 * (V**-0.3660)\n",
    "                else:\n",
    "                    EFi_NOx = 0.3259 * (V**0.5773)\n",
    "                EFi_PM10 = 1.0432 * (V**-0.4992)\n",
    "                EFi_PM2_5 = k * 1.0432 * (V**-0.4992)\n",
    "            elif 2005 <= car_birth <= 2007:\n",
    "                EFi_CO = 15.256 * (V**-0.7448)\n",
    "                EFi_HC = 2.0502 * (V**-0.6504)\n",
    "                if V <= 64.7:\n",
    "                    EFi_NOx = 17.3032 * (V**-0.3660)\n",
    "                else:\n",
    "                    EFi_NOx = 0.3259 * (V**0.5773)\n",
    "                EFi_PM10 = 0.2979 * (V**-0.4008)\n",
    "                EFi_PM2_5 = k * 0.2979 * (V**-0.4008)\n",
    "            elif 2008 <= car_birth <= 2010:\n",
    "                EFi_CO = 8.1771 * (V**-0.7725)\n",
    "                EFi_HC = 1.2991 * (V**-0.6538)\n",
    "                if V <= 64.7:\n",
    "                    EFi_NOx = 17.3032 * (V**-0.3660)\n",
    "                    EFi_PM10 = 0.0539 * (V**-0.5182)\n",
    "                    EFi_PM2_5 = k * 0.0539 * (V**-0.5182)\n",
    "                else:\n",
    "                    EFi_NOx = 0.3259 * (V**0.5773)\n",
    "                    EFi_PM10 = 0.0002 * V - 0.00756\n",
    "                    EFi_PM2_5 = k * 0.0002 * V - 0.00756\n",
    "            elif 2011 <= car_birth <= 2014:\n",
    "                EFi_CO = 4.5201 * (V**-0.7279)\n",
    "                EFi_HC = 1.6826 * (V**-0.8045)\n",
    "                if V <= 64.7:\n",
    "                    EFi_NOx = 17.2485 * (V**-0.4040)\n",
    "                    EFi_PM10 = 0.0469 * (V**-0.4674)\n",
    "                    EFi_PM2_5 = k * 0.0469 * (V**-0.4674)\n",
    "                else:\n",
    "                    EFi_NOx = 1.1797 * (V**0.2308)\n",
    "                    EFi_PM10 = 0.000168 * V - 0.00516\n",
    "                    EFi_PM2_5 = k * 0.000168 * V - 0.00516\n",
    "            elif 2015 <= car_birth:\n",
    "                EFi_CO = 7.4065 * (V**-0.5995)\n",
    "                EFi_HC = 2.4562 * (V**-1.3145)\n",
    "                EFi_NOx = 42.7393 * (V**-1.2949)\n",
    "                if V <= 64.7:\n",
    "                    EFi_PM10 = 0.0081 * (V**-0.5182)\n",
    "                    EFi_PM2_5 = k * 0.0081 * (V**-0.5182)\n",
    "                else:\n",
    "                    EFi_PM10 = 3.0000 * (10**-5) * V - 0.0011\n",
    "                    EFi_PM2_5 = k * 3.0000 * (10**-5) * V - 0.0011\n",
    "        elif (car_type == '화물') and (car_size == '대형'):\n",
    "            if car_birth <= 1995:\n",
    "                EFi_CO = 30.402 * (V**-0.4685)\n",
    "                EFi_HC = 15.75 * (V**-0.582)\n",
    "                EFi_NOx = 117.49 * (V**-0.365)\n",
    "                EFi_PM10 = 7.6212 * (V**-0.4183)\n",
    "                EFi_PM2_5 = k * 7.6212 * (V**-0.4183)\n",
    "            elif 1996 <= car_birth <= 1997:\n",
    "                EFi_CO = 18.101 * (V**-0.3454)\n",
    "                EFi_HC = 10.301 * (V**-0.5856)\n",
    "                EFi_NOx = 94.319 * (V**-0.4061)\n",
    "                EFi_PM10 = 6.0264 * (V**-0.4627)\n",
    "                EFi_PM2_5 = k * 6.0264 * (V**-0.4627)\n",
    "            elif 1998 <= car_birth <= 2000:\n",
    "                EFi_CO = 18.101 * (V**-0.3454)\n",
    "                EFi_HC = 10.301 * (V**-0.5856)\n",
    "                EFi_NOx = 94.319 * (V**-0.4061)\n",
    "                EFi_PM10 = 4.873 * (V**-0.4382)\n",
    "                EFi_PM2_5 = k * 4.873 * (V**-0.4382)\n",
    "            elif 2001 <= car_birth <= 2004:\n",
    "                EFi_CO = 28.399 * (V**-0.5999)\n",
    "                EFi_HC = 10.031 * (V**-0.5828)\n",
    "                EFi_NOx = 85.301 * (V**-0.4023)\n",
    "                EFi_PM10 = 3.7541 * (V**-0.4055)\n",
    "                EFi_PM2_5 = k * 3.7541 * (V**-0.4055)\n",
    "            elif 2005 <= car_birth <= 2007:\n",
    "                EFi_CO = 52.136 * (V**-0.8618)\n",
    "                EFi_HC = 3.7878 * (V**-0.5425)\n",
    "                EFi_NOx = 107.5 * (V**-0.5679)\n",
    "                EFi_PM10 = 2.6847 * (V**-0.6112)\n",
    "                EFi_PM2_5 = k * 2.6847 * (V**-0.6112)\n",
    "            elif 2008 <= car_birth <= 2010:\n",
    "                EFi_CO = 6.8493 * (V**-0.6506)\n",
    "                EFi_HC = 1.7177 * (V**-0.6781)\n",
    "                EFi_NOx = 40.7564 * (V**-0.4757)\n",
    "                EFi_PM10 = 0.2418 * (V**-0.4727)\n",
    "                EFi_PM2_5 = k * 0.2418 * (V**-0.4727)\n",
    "            elif 2011 <= car_birth <= 2014:\n",
    "                EFi_CO = 5.4607 * (V**-0.2990)\n",
    "                EFi_HC = 0.8863 * (V**-0.6933)\n",
    "                EFi_NOx = 40.3729 * (V**-0.5386)\n",
    "                EFi_PM10 = 0.2125 * (V**-0.4650)\n",
    "                EFi_PM2_5 = k * 0.2125 * (V**-0.4650)\n",
    "            elif 2015 <= car_birth:\n",
    "                EFi_CO = 4.3762 * (V**-0.4550)\n",
    "                EFi_HC = 0.3627 * (V**-0.7071)\n",
    "                EFi_NOx = 18.0405 * (V**-1.0986)\n",
    "                EFi_PM10 = 0.0363 * (V**-0.4727)\n",
    "                EFi_PM2_5 = k * 0.0363 * (V**-0.4727)\n",
    "    elif fuel == 'LPG(액화석유가스)':\n",
    "        if (car_type == '승용') and (car_size == '경형'):\n",
    "            if car_birth <= 1996:\n",
    "                if V <= 45:\n",
    "                    EFi_CO = 22.498 * (V**-0.6579)\n",
    "                else:\n",
    "                    EFi_CO = 0.0006 * (V**2) + 0.0004 * V + 0.8272\n",
    "                EFi_HC = 12.961 * (V**-0.8364)\n",
    "                EFi_NOx = 4.0131 * (V**-0.3236)\n",
    "                if V < 85:\n",
    "                    EFi_PM10 = 0.0002\n",
    "                    EFi_PM2_5 = k * 0.0002\n",
    "                else:\n",
    "                    EFi_PM10 = 0.0005\n",
    "                    EFi_PM2_5 = k * 0.0005\n",
    "            elif 1997 <= car_birth <= 1999:\n",
    "                if V <= 45:\n",
    "                    EFi_CO = 19.887 * (V**-0.8461)\n",
    "                else:\n",
    "                    EFi_CO = -0.0004 * (V**2) + 0.0911 * V - 2.2698\n",
    "                EFi_HC = 2.2714 * (V**-0.7830)\n",
    "                EFi_NOx = 1.8528 * (V**-0.3889)\n",
    "                if V < 85:\n",
    "                    EFi_PM10 = 0.0002\n",
    "                    EFi_PM2_5 = k * 0.0002\n",
    "                else:\n",
    "                    EFi_PM10 = 0.0005\n",
    "                    EFi_PM2_5 = k * 0.0005\n",
    "            elif 2000 <= car_birth <= 2002:\n",
    "                if V <= 45:\n",
    "                    EFi_CO = 19.887 * (V**-0.8461)\n",
    "                else:\n",
    "                    EFi_CO = -0.0004 * (V**2) + 0.0911 * V - 2.2698\n",
    "                EFi_HC = 2.2714 * (V**-0.7830)\n",
    "                EFi_NOx = 5.8289 * (V**-0.9198)\n",
    "                if V < 85:\n",
    "                    EFi_PM10 = 0.0002\n",
    "                    EFi_PM2_5 = k * 0.0002\n",
    "                else:\n",
    "                    EFi_PM10 = 0.0005\n",
    "                    EFi_PM2_5 = k * 0.0005\n",
    "            elif 2003 <= car_birth <= 2005:\n",
    "                if V <= 45:\n",
    "                    EFi_CO = 19.887 * (V**-0.8461)\n",
    "                else:\n",
    "                    EFi_CO = -0.0004 * (V**2) + 0.0911 * V - 2.2698\n",
    "                EFi_HC = 1.1073 * (V**-0.7830)\n",
    "                EFi_NOx = 5.8289 * (V**-0.9198)\n",
    "                if V < 85:\n",
    "                    EFi_PM10 = 0.0002\n",
    "                    EFi_PM2_5 = k * 0.0002\n",
    "                else:\n",
    "                    EFi_PM10 = 0.0005\n",
    "                    EFi_PM2_5 = k * 0.0005\n",
    "            elif 2006 <= car_birth <= 2007:\n",
    "                if V <= 45:\n",
    "                    EFi_CO = 8.9904 * (V**-0.8461)\n",
    "                else:\n",
    "                    EFi_CO = -0.0002 * (V**2) + 0.0457 * V - 1.1403\n",
    "                EFi_HC = 0.3549 * (V**-0.7830)\n",
    "                EFi_NOx = 0.7228 * (V**-0.9198)\n",
    "                if V < 85:\n",
    "                    EFi_PM10 = 0.0002\n",
    "                    EFi_PM2_5 = k * 0.0002\n",
    "                else:\n",
    "                    EFi_PM10 = 0.0005\n",
    "                    EFi_PM2_5 = k * 0.0005\n",
    "            elif car_birth == 2008:\n",
    "                if V <= 79.6:\n",
    "                    EFi_CO = 0.7693 * (V**-0.7666)\n",
    "                    EFi_HC = 0.1063 * (V**-1.0745)\n",
    "                else:\n",
    "                    EFi_CO = 5.0000 * (10**-16) * (V**7.2766)\n",
    "                    EFi_HC = 1.0000 * (10**-15) * (V**6.2696)\n",
    "                EFi_NOx = -4.0000 * (10**-6) * (V**2) + 6.0000 * (10**-4) * V + 5.5000 * (10**-3)\n",
    "                if V < 85:\n",
    "                    EFi_PM10 = 0.0002\n",
    "                    EFi_PM2_5 = k * 0.0002\n",
    "                else:\n",
    "                    EFi_PM10 = 0.0005\n",
    "                    EFi_PM2_5 = k * 0.0005\n",
    "            elif 2009 <= car_birth <= 2011:\n",
    "                if V <= 79.6:\n",
    "                    EFi_CO = 0.7059 * (V**-0.7666)\n",
    "                    EFi_HC = 0.0974 * (V**-1.0745)\n",
    "                else:\n",
    "                    EFi_CO = 4.5878 * (10**-16) * (V**7.2766)\n",
    "                    EFi_HC = 9.1667 * (10**-16) * (V**6.2696)\n",
    "                EFi_NOx = -3.7333 * (10**-6) * (V**2) + 5.6000 * (10**-4) * V + 5.1333 * (10**-3)\n",
    "                if V < 85:\n",
    "                    EFi_PM10 = 0.0002\n",
    "                    EFi_PM2_5 = k * 0.0002\n",
    "                else:\n",
    "                    EFi_PM10 = 0.0005\n",
    "                    EFi_PM2_5 = k * 0.0005\n",
    "            elif 2012 <= car_birth <= 2013:\n",
    "                if V <= 79.6:\n",
    "                    EFi_CO = 0.6830 * (V**-0.7666)\n",
    "                    EFi_HC = 0.0943 * (V**-1.0745)\n",
    "                else:\n",
    "                    EFi_CO = 4.4393 * (10**-16) * (V**7.2766)\n",
    "                    EFi_HC = 8.8667 * (10**-16) * (V**6.2696)\n",
    "                EFi_NOx = -3.6373 * (10**-6) * (V**2) + 5.4560 * (10**-4) * V + 5.0013 * (10**-3)\n",
    "                if V < 85:\n",
    "                    EFi_PM10 = 0.0002\n",
    "                    EFi_PM2_5 = k * 0.0002\n",
    "                else:\n",
    "                    EFi_PM10 = 0.0005\n",
    "                    EFi_PM2_5 = k * 0.0005\n",
    "            elif car_birth == 2014:\n",
    "                if V <= 79.6:\n",
    "                    EFi_CO = 0.6602 * (V**-0.7666)\n",
    "                    EFi_HC = 0.0911 * (V**-1.0745)\n",
    "                else:\n",
    "                    EFi_CO = 4.2909 * (10**-16) * (V**7.2766)\n",
    "                    EFi_HC = 8.5667 * (10**-16) * (V**6.2696)\n",
    "                EFi_NOx = -3.5413 * (10**-6) * (V**2) + 5.3120 * (10**-4) * V + 4.8693 * (10**-3)\n",
    "                if V < 85:\n",
    "                    EFi_PM10 = 0.0002\n",
    "                    EFi_PM2_5 = k * 0.0002\n",
    "                else:\n",
    "                    EFi_PM10 = 0.0005\n",
    "                    EFi_PM2_5 = k * 0.0005\n",
    "            elif 2015 <= car_birth:\n",
    "                if V <= 79.6:\n",
    "                    EFi_CO = 0.6374 * (V**-0.7666)\n",
    "                    EFi_HC = 0.0879 * (V**-1.0745)\n",
    "                else:\n",
    "                    EFi_CO = 4.1425 * (10**-16) * (V**7.2766)\n",
    "                    EFi_HC = 8.2667 * (10**-16) * (V**6.2696)\n",
    "                EFi_NOx = -3.4453 * (10**-6) * (V**2) + 5.1680 * (10**-4) * V + 4.7373 * (10**-3)\n",
    "                if V < 85:\n",
    "                    EFi_PM10 = 0.0002\n",
    "                    EFi_PM2_5 = k * 0.0002\n",
    "                else:\n",
    "                    EFi_PM10 = 0.0005\n",
    "                    EFi_PM2_5 = k * 0.0005\n",
    "        elif (car_type == '승용') and (car_size == '소형'):\n",
    "            if car_birth <= 1990:\n",
    "                EFi_CO = 72.338 * (V**-0.7587)\n",
    "                EFi_HC = 26.532 * (V**-1.0423)\n",
    "                EFi_NOx = 9.3011 * (V**-0.6781)\n",
    "                if V < 85:\n",
    "                    EFi_PM10 = 0.0002\n",
    "                    EFi_PM2_5 = k * 0.0002\n",
    "                else:\n",
    "                    EFi_PM10 = 0.0005\n",
    "                    EFi_PM2_5 = k * 0.0005\n",
    "            elif 1991 <= car_birth == 1996:\n",
    "                EFi_CO = 72.338 * (V**-0.7587)\n",
    "                EFi_HC = 101.79 * (V**-1.6823)\n",
    "                EFi_NOx = 11.287 * (V**-0.7634)\n",
    "                if V < 85:\n",
    "                    EFi_PM10 = 0.0002\n",
    "                    EFi_PM2_5 = k * 0.0002\n",
    "                else:\n",
    "                    EFi_PM10 = 0.0005\n",
    "                    EFi_PM2_5 = k * 0.0005\n",
    "            elif 1997 <= car_birth <= 1999:\n",
    "                EFi_CO = 44.956 * (V**-1.0085)\n",
    "                EFi_HC = 11.173 * (V**-1.3927)\n",
    "                EFi_NOx = 7.5371 * (V**-0.7864)\n",
    "                if V < 85:\n",
    "                    EFi_PM10 = 0.0002\n",
    "                    EFi_PM2_5 = k * 0.0002\n",
    "                else:\n",
    "                    EFi_PM10 = 0.0005\n",
    "                    EFi_PM2_5 = k * 0.0005\n",
    "            elif 2000 <= car_birth <= 2002:\n",
    "                EFi_CO = 44.956 * (V**-1.0085)\n",
    "                EFi_HC = 11.173 * (V**-1.3927)\n",
    "                EFi_NOx = 4.7108 * (V**-0.7864)\n",
    "                if V < 85:\n",
    "                    EFi_PM10 = 0.0002\n",
    "                    EFi_PM2_5 = k * 0.0002\n",
    "                else:\n",
    "                    EFi_PM10 = 0.0005\n",
    "                    EFi_PM2_5 = k * 0.0005\n",
    "            elif 2003 <= car_birth <= 2005:\n",
    "                EFi_CO = 44.956 * (V**-1.0085)\n",
    "                EFi_HC = 3.2821 * (V**-1.3927)\n",
    "                EFi_NOx = 4.7108 * (V**-0.7864)\n",
    "                if V < 85:\n",
    "                    EFi_PM10 = 0.0002\n",
    "                    EFi_PM2_5 = k * 0.0002\n",
    "                else:\n",
    "                    EFi_PM10 = 0.0005\n",
    "                    EFi_PM2_5 = k * 0.0005\n",
    "            elif 2006 <= car_birth <= 2007:\n",
    "                EFi_CO = 39.362 * (V**-1.0085)\n",
    "                EFi_HC = 2.8981 * (V**-1.3927)\n",
    "                EFi_NOx = 1.8419 * (V**-0.7864)\n",
    "                if V < 85:\n",
    "                    EFi_PM10 = 0.0002\n",
    "                    EFi_PM2_5 = k * 0.0002\n",
    "                else:\n",
    "                    EFi_PM10 = 0.0005\n",
    "                    EFi_PM2_5 = k * 0.0005\n",
    "            elif car_birth == 2008:\n",
    "                if V <= 79.6:\n",
    "                    EFi_CO = 0.7693 * (V**-0.7666)\n",
    "                    EFi_HC = 0.1063 * (V**-1.0745)\n",
    "                else:\n",
    "                    EFi_CO = 5.0000 * (10**-16) * (V**7.2766)\n",
    "                    EFi_HC = 1.0000 * (10**-15) * (V**6.2696)\n",
    "                EFi_NOx = -4.0000 * (10**-6) * (V**2) + 6.0000 * (10**-4) * V + 5.5000 * (10**-3)\n",
    "                if V < 85:\n",
    "                    EFi_PM10 = 0.0002\n",
    "                    EFi_PM2_5 = k * 0.0002\n",
    "                else:\n",
    "                    EFi_PM10 = 0.0005\n",
    "                    EFi_PM2_5 = k * 0.0005\n",
    "            elif 2009 <= car_birth <= 2011:\n",
    "                if V <= 79.6:\n",
    "                    EFi_CO = 0.7059 * (V**-0.7666)\n",
    "                    EFi_HC = 0.0974 * (V**-1.0745)\n",
    "                else:\n",
    "                    EFi_CO = 4.5878 * (10**-16) * (V**7.2766)\n",
    "                    EFi_HC = 9.1667 * (10**-16) * (V**6.2696)\n",
    "                EFi_NOx = -3.7333 * (10**-6) * (V**2) + 5.6000 * (10**-4) * V + 5.1333 * (10**-3)\n",
    "                if V < 85:\n",
    "                    EFi_PM10 = 0.0002\n",
    "                    EFi_PM2_5 = k * 0.0002\n",
    "                else:\n",
    "                    EFi_PM10 = 0.0005\n",
    "                    EFi_PM2_5 = k * 0.0005\n",
    "            elif 2012 <= car_birth <= 2013:\n",
    "                if V <= 79.6:\n",
    "                    EFi_CO = 0.6830 * (V**-0.7666)\n",
    "                    EFi_HC = 0.0943 * (V**-1.0745)\n",
    "                else:\n",
    "                    EFi_CO = 4.4393 * (10**-16) * (V**7.2766)\n",
    "                    EFi_HC = 8.8667 * (10**-16) * (V**6.2696)\n",
    "                EFi_NOx = -3.6373 * (10**-6) * (V**2) + 5.4560 * (10**-4) * V + 5.0013 * (10**-3)\n",
    "                if V < 85:\n",
    "                    EFi_PM10 = 0.0002\n",
    "                    EFi_PM2_5 = k * 0.0002\n",
    "                else:\n",
    "                    EFi_PM10 = 0.0005\n",
    "                    EFi_PM2_5 = k * 0.0005\n",
    "            elif car_birth == 2014:\n",
    "                if V <= 79.6:\n",
    "                    EFi_CO = 0.6602 * (V**-0.7666)\n",
    "                    EFi_HC = 0.0911 * (V**-1.0745)\n",
    "                else:\n",
    "                    EFi_CO = 4.2909 * (10**-16) * (V**7.2766)\n",
    "                    EFi_HC = 8.5667 * (10**-16) * (V**6.2696)\n",
    "                EFi_NOx = -3.5413 * (10**-6) * (V**2) + 5.3120 * (10**-4) * V + 4.8693 * (10**-3)\n",
    "                if V < 85:\n",
    "                    EFi_PM10 = 0.0002\n",
    "                    EFi_PM2_5 = k * 0.0002\n",
    "                else:\n",
    "                    EFi_PM10 = 0.0005\n",
    "                    EFi_PM2_5 = k * 0.0005\n",
    "            elif 2015 <= car_birth:\n",
    "                if V <= 79.6:\n",
    "                    EFi_CO = 0.6374 * (V**-0.7666)\n",
    "                    EFi_HC = 0.0879 * (V**-1.0745)\n",
    "                else:\n",
    "                    EFi_CO = 4.1425 * (10**-16) * (V**7.2766)\n",
    "                    EFi_HC = 8.2667 * (10**-16) * (V**6.2696)\n",
    "                EFi_NOx = -3.4453 * (10**-6) * (V**2) + 5.1680 * (10**-4) * V + 4.7373 * (10**-3)\n",
    "                if V < 85:\n",
    "                    EFi_PM10 = 0.0002\n",
    "                    EFi_PM2_5 = k * 0.0002\n",
    "                else:\n",
    "                    EFi_PM10 = 0.0005\n",
    "                    EFi_PM2_5 = k * 0.0005\n",
    "        elif ( (car_type == '승용') and ( (car_size == '중형') or (car_size == '대형') ) or ( (car_type == '특수') and (car_size == '중형') ) ): # 최 확인(2023.04.20) : 특수 중형 -> 승용 중형 조건으로 계산\n",
    "            if car_birth <= 1990:\n",
    "                EFi_CO = 72.338 * (V**-0.7587)\n",
    "                EFi_HC = 26.532 * (V**-1.0423)\n",
    "                EFi_NOx = 9.3011 * (V**-0.6781)\n",
    "                if V < 85:\n",
    "                    EFi_PM10 = 0.0002\n",
    "                    EFi_PM2_5 = k * 0.0002\n",
    "                else:\n",
    "                    EFi_PM10 = 0.0005\n",
    "                    EFi_PM2_5 = k * 0.0005\n",
    "            elif 1991 <= car_birth == 1996:\n",
    "                EFi_CO = 29.825 * (V**-0.6771)\n",
    "                EFi_HC = 26.520 * (V**-1.4041)\n",
    "                EFi_NOx = 11.287 * (V**-0.7634)\n",
    "                if V < 85:\n",
    "                    EFi_PM10 = 0.0002\n",
    "                    EFi_PM2_5 = k * 0.0002\n",
    "                else:\n",
    "                    EFi_PM10 = 0.0005\n",
    "                    EFi_PM2_5 = k * 0.0005\n",
    "            elif 1997 <= car_birth <= 1999:\n",
    "                EFi_CO = 29.825 * (V**-0.6771)\n",
    "                EFi_HC = 4.7595 * (V**-0.9512)\n",
    "                EFi_NOx = 12.562 * (V**-0.8606)\n",
    "                if V < 85:\n",
    "                    EFi_PM10 = 0.0002\n",
    "                    EFi_PM2_5 = k * 0.0002\n",
    "                else:\n",
    "                    EFi_PM10 = 0.0005\n",
    "                    EFi_PM2_5 = k * 0.0005\n",
    "            elif 2000 <= car_birth <= 2005:\n",
    "                EFi_CO = 17.829 * (V**-0.6778)\n",
    "                EFi_HC = 6.3668 * (V**-1.2849)\n",
    "                EFi_NOx = 8.8952 * (V**-0.8119)\n",
    "                if V < 85:\n",
    "                    EFi_PM10 = 0.0002\n",
    "                    EFi_PM2_5 = k * 0.0002\n",
    "                else:\n",
    "                    EFi_PM10 = 0.0005\n",
    "                    EFi_PM2_5 = k * 0.0005\n",
    "            elif 2006 <= car_birth <= 2007:\n",
    "                EFi_CO = 73.022 * (V**-1.2078)\n",
    "                EFi_HC = 4.4166 * (V**-1.5356)\n",
    "                EFi_NOx = 2.0280 * (V**-0.7978)\n",
    "                if V < 85:\n",
    "                    EFi_PM10 = 0.0002\n",
    "                    EFi_PM2_5 = k * 0.0002\n",
    "                else:\n",
    "                    EFi_PM10 = 0.0005\n",
    "                    EFi_PM2_5 = k * 0.0005\n",
    "            elif car_birth == 2008:\n",
    "                if V <= 79.6:\n",
    "                    EFi_CO = 0.7693 * (V**-0.7666)\n",
    "                    EFi_HC = 0.1063 * (V**-1.0745)\n",
    "                else:\n",
    "                    EFi_CO = 5.0000 * (10**-16) * (V**7.2766)\n",
    "                    EFi_HC = 1.0000 * (10**-15) * (V**6.2696)\n",
    "                EFi_NOx = -4.0000 * (10**-6) * (V**2) + 6.0000 * (10**-4) * V + 5.5000 * (10**-3)\n",
    "                if V < 85:\n",
    "                    EFi_PM10 = 0.0002\n",
    "                    EFi_PM2_5 = k * 0.0002\n",
    "                else:\n",
    "                    EFi_PM10 = 0.0005\n",
    "                    EFi_PM2_5 = k * 0.0005\n",
    "            elif 2009 <= car_birth <= 2011:\n",
    "                if V <= 79.6:\n",
    "                    EFi_CO = 0.7059 * (V**-0.7666)\n",
    "                    EFi_HC = 0.0974 * (V**-1.0745)\n",
    "                else:\n",
    "                    EFi_CO = 4.5878 * (10**-16) * (V**7.2766)\n",
    "                    EFi_HC = 9.1667 * (10**-16) * (V**6.2696)\n",
    "                EFi_NOx = -3.7333 * (10**-6) * (V**2) + 5.6000 * (10**-4) * V + 5.1333 * (10**-3)\n",
    "                if V < 85:\n",
    "                    EFi_PM10 = 0.0002\n",
    "                    EFi_PM2_5 = k * 0.0002\n",
    "                else:\n",
    "                    EFi_PM10 = 0.0005\n",
    "                    EFi_PM2_5 = k * 0.0005\n",
    "            elif 2012 <= car_birth <= 2013:\n",
    "                if V <= 79.6:\n",
    "                    EFi_CO = 0.6830 * (V**-0.7666)\n",
    "                    EFi_HC = 0.0943 * (V**-1.0745)\n",
    "                else:\n",
    "                    EFi_CO = 4.4393 * (10**-16) * (V**7.2766)\n",
    "                    EFi_HC = 8.8667 * (10**-16) * (V**6.2696)\n",
    "                EFi_NOx = -3.6373 * (10**-6) * (V**2) + 5.4560 * (10**-4) * V + 5.0013 * (10**-3)\n",
    "                if V < 85:\n",
    "                    EFi_PM10 = 0.0002\n",
    "                    EFi_PM2_5 = k * 0.0002\n",
    "                else:\n",
    "                    EFi_PM10 = 0.0005\n",
    "                    EFi_PM2_5 = k * 0.0005\n",
    "            elif car_birth == 2014:\n",
    "                if V <= 79.6:\n",
    "                    EFi_CO = 0.6602 * (V**-0.7666)\n",
    "                    EFi_HC = 0.0911 * (V**-1.0745)\n",
    "                else:\n",
    "                    EFi_CO = 4.2909 * (10**-16) * (V**7.2766)\n",
    "                    EFi_HC = 8.5667 * (10**-16) * (V**6.2696)\n",
    "                EFi_NOx = -3.5413 * (10**-6) * (V**2) + 5.3120 * (10**-4) * V + 4.8693 * (10**-3)\n",
    "                if V < 85:\n",
    "                    EFi_PM10 = 0.0002\n",
    "                    EFi_PM2_5 = k * 0.0002\n",
    "                else:\n",
    "                    EFi_PM10 = 0.0005\n",
    "                    EFi_PM2_5 = k * 0.0005\n",
    "            elif 2015 <= car_birth:\n",
    "                if V <= 79.6:\n",
    "                    EFi_CO = 0.6374 * (V**-0.7666)\n",
    "                    EFi_HC = 0.0879 * (V**-1.0745)\n",
    "                else:\n",
    "                    EFi_CO = 4.1425 * (10**-16) * (V**7.2766)\n",
    "                    EFi_HC = 8.2667 * (10**-16) * (V**6.2696)\n",
    "                EFi_NOx = -3.4453 * (10**-6) * (V**2) + 5.1680 * (10**-4) * V + 4.7373 * (10**-3)\n",
    "                if V < 85:\n",
    "                    EFi_PM10 = 0.0002\n",
    "                    EFi_PM2_5 = k * 0.0002\n",
    "                else:\n",
    "                    EFi_PM10 = 0.0005\n",
    "                    EFi_PM2_5 = k * 0.0005\n",
    "        elif ( (car_type == '승합') and (car_size == '경형') ) or ( (car_type == '화물') and (car_size == '경형') ):\n",
    "            if car_birth <= 1996:\n",
    "                if V <= 45:\n",
    "                    EFi_CO = 22.498 * (V**-0.6579)\n",
    "                else:\n",
    "                    EFi_CO = 0.0006 * (V**2) + 0.0004 * V + 0.8272\n",
    "                EFi_HC = 12.961 * (V**-0.8364)\n",
    "                EFi_NOx = 4.0131 * (V**-0.3236)\n",
    "                if V < 85:\n",
    "                    EFi_PM10 = 0.0002\n",
    "                    EFi_PM2_5 = k * 0.0002\n",
    "                else:\n",
    "                    EFi_PM10 = 0.0005\n",
    "                    EFi_PM2_5 = k * 0.0005\n",
    "            elif 1997 <= car_birth == 1999:\n",
    "                if V <= 45:\n",
    "                    EFi_CO = 19.887 * (V**-0.8461)\n",
    "                else:\n",
    "                    EFi_CO = -0.0004 * (V**2) + 0.0911 * V - 2.2698\n",
    "                EFi_HC = 2.2714 * (V**-0.7830)\n",
    "                EFi_NOx = 1.8528 * (V**-0.3889)\n",
    "                if V < 85:\n",
    "                    EFi_PM10 = 0.0002\n",
    "                    EFi_PM2_5 = k * 0.0002\n",
    "                else:\n",
    "                    EFi_PM10 = 0.0005\n",
    "                    EFi_PM2_5 = k * 0.0005\n",
    "            elif 2000 <= car_birth <= 2002:\n",
    "                if V <= 45:\n",
    "                    EFi_CO = 19.887 * (V**-0.8461)\n",
    "                else:\n",
    "                    EFi_CO = -0.0004 * (V**2) + 0.0911 * V - 2.2698\n",
    "                EFi_HC = 2.2714 * (V**-0.7830)\n",
    "                EFi_NOx = 5.8289 * (V**-0.9198)\n",
    "                if V < 85:\n",
    "                    EFi_PM10 = 0.0002\n",
    "                    EFi_PM2_5 = k * 0.0002\n",
    "                else:\n",
    "                    EFi_PM10 = 0.0005\n",
    "                    EFi_PM2_5 = k * 0.0005\n",
    "            elif 2003 <= car_birth <= 2005:\n",
    "                if V <= 45:\n",
    "                    EFi_CO = 19.887 * (V**-0.8461)\n",
    "                else:\n",
    "                    EFi_CO = -0.0004 * (V**2) + 0.0911 * V - 2.2698\n",
    "                EFi_HC = 1.1073 * (V**-0.7830)\n",
    "                EFi_NOx = 5.8289 * (V**-0.9198)\n",
    "                if V < 85:\n",
    "                    EFi_PM10 = 0.0002\n",
    "                    EFi_PM2_5 = k * 0.0002\n",
    "                else:\n",
    "                    EFi_PM10 = 0.0005\n",
    "                    EFi_PM2_5 = k * 0.0005\n",
    "            elif 2006 <= car_birth:\n",
    "                if V <= 45:\n",
    "                    EFi_CO = 8.9904 * (V**-0.8461)\n",
    "                else:\n",
    "                    EFi_CO = -0.0002 * (V**2) + 0.0457 * V - 1.1403\n",
    "                EFi_HC = 0.3549 * (V**-0.7830)\n",
    "                EFi_NOx = 0.7228 * (V**-0.9198)\n",
    "                if V < 85:\n",
    "                    EFi_PM10 = 0.0002\n",
    "                    EFi_PM2_5 = k * 0.0002\n",
    "                else:\n",
    "                    EFi_PM10 = 0.0005\n",
    "                    EFi_PM2_5 = k * 0.0005\n",
    "        elif (car_type == '승합') and (car_size == '소형'):\n",
    "            if car_birth <= 1990:\n",
    "                EFi_CO = 72.338 * (V**-0.7587)\n",
    "                EFi_HC = 26.532 * (V**-1.0423)\n",
    "                EFi_NOx = 9.3011 * (V**-0.6781)\n",
    "                if V < 85:\n",
    "                    EFi_PM10 = 0.0002\n",
    "                    EFi_PM2_5 = k * 0.0002\n",
    "                else:\n",
    "                    EFi_PM10 = 0.0005\n",
    "                    EFi_PM2_5 = k * 0.0005\n",
    "            elif 1991 <= car_birth == 1996:\n",
    "                EFi_CO = 29.825 * (V**-0.6771)\n",
    "                EFi_HC = 26.520 * (V**-1.4041)\n",
    "                EFi_NOx = 11.287 * (V**-0.7634)\n",
    "                if V < 85:\n",
    "                    EFi_PM10 = 0.0002\n",
    "                    EFi_PM2_5 = k * 0.0002\n",
    "                else:\n",
    "                    EFi_PM10 = 0.0005\n",
    "                    EFi_PM2_5 = k * 0.0005\n",
    "            elif 1997 <= car_birth <= 1999:\n",
    "                EFi_CO = 29.825 * (V**-0.6771)\n",
    "                EFi_HC = 4.7595 * (V**-0.9512)\n",
    "                EFi_NOx = 12.562 * (V**-0.8606)\n",
    "                if V < 85:\n",
    "                    EFi_PM10 = 0.0002\n",
    "                    EFi_PM2_5 = k * 0.0002\n",
    "                else:\n",
    "                    EFi_PM10 = 0.0005\n",
    "                    EFi_PM2_5 = k * 0.0005\n",
    "            elif 2000 <= car_birth <= 2005:\n",
    "                EFi_CO = 17.829 * (V**-0.6778)\n",
    "                EFi_HC = 6.3668 * (V**-1.2849)\n",
    "                EFi_NOx = 8.8952 * (V**-0.8119)\n",
    "                if V < 85:\n",
    "                    EFi_PM10 = 0.0002\n",
    "                    EFi_PM2_5 = k * 0.0002\n",
    "                else:\n",
    "                    EFi_PM10 = 0.0005\n",
    "                    EFi_PM2_5 = k * 0.0005\n",
    "            elif 2006 <= car_birth:\n",
    "                if V <= 65.4:\n",
    "                    EFi_CO = 6.1701 * (V**-1.0719)\n",
    "                    EFi_HC = 2.3782 * (V**-1.9979)\n",
    "                else:\n",
    "                    EFi_CO = 3.0000 * (10**-10) * (V**4.5809)\n",
    "                    EFi_HC = 5.0000 * (10**-10) * (V**3.4895)\n",
    "                if V <= 97.3:\n",
    "                    EFi_NOx = 0.4758 * (V**-1.0665)\n",
    "                if V < 85:\n",
    "                    EFi_PM10 = 0.0002\n",
    "                    EFi_PM2_5 = k * 0.0002\n",
    "                else:\n",
    "                    EFi_PM10 = 0.0005\n",
    "                    EFi_PM2_5 = k * 0.0005\n",
    "        # 최 확인(2023.04.20) : 화물 중형 -> 승합 중형 조건, 화물 대형 -> 승합 대형 조건으로 계산\n",
    "        elif ( (car_type == '승합') and ( (car_size == '중형') or (car_size == '대형') ) ) or ( (car_type == '화물') and ((car_size == '소형') or (car_size == '중형') or (car_size == '대형')) ):\n",
    "            if car_birth <= 1990:\n",
    "                EFi_CO = 72.338 * (V**-0.7587)\n",
    "                EFi_HC = 26.532 * (V**-1.0423)\n",
    "                EFi_NOx = 9.3011 * (V**-0.6781)\n",
    "                if V < 85:\n",
    "                    EFi_PM10 = 0.0002\n",
    "                    EFi_PM2_5 = k * 0.0002\n",
    "                else:\n",
    "                    EFi_PM10 = 0.0005\n",
    "                    EFi_PM2_5 = k * 0.0005\n",
    "            elif 1991 <= car_birth == 1996:\n",
    "                EFi_CO = 29.825 * (V**-0.6771)\n",
    "                EFi_HC = 26.520 * (V**-1.4041)\n",
    "                EFi_NOx = 11.287 * (V**-0.7634)\n",
    "                if V < 85:\n",
    "                    EFi_PM10 = 0.0002\n",
    "                    EFi_PM2_5 = k * 0.0002\n",
    "                else:\n",
    "                    EFi_PM10 = 0.0005\n",
    "                    EFi_PM2_5 = k * 0.0005\n",
    "            elif 1997 <= car_birth <= 1999:\n",
    "                EFi_CO = 29.825 * (V**-0.6771)\n",
    "                EFi_HC = 4.7595 * (V**-0.9512)\n",
    "                EFi_NOx = 12.562 * (V**-0.8606)\n",
    "                if V < 85:\n",
    "                    EFi_PM10 = 0.0002\n",
    "                    EFi_PM2_5 = k * 0.0002\n",
    "                else:\n",
    "                    EFi_PM10 = 0.0005\n",
    "                    EFi_PM2_5 = k * 0.0005\n",
    "            elif 2000 <= car_birth <= 2005:\n",
    "                EFi_CO = 17.829 * (V**-0.6778)\n",
    "                EFi_HC = 6.3668 * (V**-1.2849)\n",
    "                EFi_NOx = 8.8952 * (V**-0.8119)\n",
    "                if V < 85:\n",
    "                    EFi_PM10 = 0.0002\n",
    "                    EFi_PM2_5 = k * 0.0002\n",
    "                else:\n",
    "                    EFi_PM10 = 0.0005\n",
    "                    EFi_PM2_5 = k * 0.0005\n",
    "            elif 2006 <= car_birth:\n",
    "                if V <= 65.4:\n",
    "                    EFi_CO = 16.491 * (V**-1.4713)\n",
    "                    EFi_HC = 1.9218 * (V**-1.8418)\n",
    "                else:\n",
    "                    EFi_CO = 3.0000 * (10**-13) * (V**6.0619)\n",
    "                    EFi_HC = 3.0000 * (10**-9) * (V**3.0639)\n",
    "                if V <= 97.3:\n",
    "                    EFi_NOx = 0.1246 * (V**-0.441)\n",
    "                if V < 85:\n",
    "                    EFi_PM10 = 0.0002\n",
    "                    EFi_PM2_5 = k * 0.0002\n",
    "                else:\n",
    "                    EFi_PM10 = 0.0005\n",
    "                    EFi_PM2_5 = k * 0.0005\n",
    "    else:\n",
    "        # 값 고민 : 1\n",
    "        # EFi_CO, EFi_HC, EFi_NOx, EFi_PM10, EFi_PM2_5 = np.nan, np.nan, np.nan, np.nan, np.nan\n",
    "        EFi_CO, EFi_HC, EFi_NOx, EFi_PM10, EFi_PM2_5 = 1, 1, 1, 1, 1\n",
    "\n",
    "    # 배출계수(EFi) 리스트에 저장\n",
    "    EFi_CO_list.append(EFi_CO)\n",
    "    EFi_HC_list.append(EFi_HC)\n",
    "    EFi_NOx_list.append(EFi_NOx)\n",
    "    EFi_PM10_list.append(EFi_PM10)\n",
    "    EFi_PM2_5_list.append(EFi_PM2_5)"
   ]
  },
  {
   "cell_type": "code",
   "execution_count": 101,
   "metadata": {},
   "outputs": [
    {
     "data": {
      "text/plain": [
       "366911"
      ]
     },
     "execution_count": 101,
     "metadata": {},
     "output_type": "execute_result"
    }
   ],
   "source": [
    "df3.shape[0]"
   ]
  },
  {
   "cell_type": "code",
   "execution_count": 102,
   "metadata": {},
   "outputs": [
    {
     "data": {
      "text/plain": [
       "(366911, 366911, 366911, 366911, 366911)"
      ]
     },
     "execution_count": 102,
     "metadata": {},
     "output_type": "execute_result"
    }
   ],
   "source": [
    "len(EFi_CO_list), len(EFi_HC_list), len(EFi_NOx_list), len(EFi_PM10_list), len(EFi_PM2_5_list)"
   ]
  },
  {
   "cell_type": "code",
   "execution_count": 103,
   "metadata": {},
   "outputs": [],
   "source": [
    "df3['EFi_CO'] = EFi_CO_list\n",
    "df3['EFi_HC'] = EFi_HC_list\n",
    "df3['EFi_NOx'] = EFi_NOx_list\n",
    "df3['EFi_PM10'] = EFi_PM10_list\n",
    "df3['EFi_PM2_5'] = EFi_PM2_5_list"
   ]
  },
  {
   "cell_type": "code",
   "execution_count": 104,
   "metadata": {},
   "outputs": [],
   "source": [
    "check_EFi_col = ['EFi_CO', 'EFi_HC', 'EFi_NOx', 'EFi_PM10', 'EFi_PM2_5']"
   ]
  },
  {
   "attachments": {},
   "cell_type": "markdown",
   "metadata": {},
   "source": [
    "## 배출량 계산"
   ]
  },
  {
   "cell_type": "code",
   "execution_count": 105,
   "metadata": {},
   "outputs": [
    {
     "data": {
      "text/plain": [
       "['연료',\n",
       " '차종',\n",
       " '차종유형',\n",
       " '차량연식',\n",
       " '차령',\n",
       " 'DF_CO',\n",
       " 'DF_HC',\n",
       " 'DF_PM',\n",
       " 'DF_NOx',\n",
       " 'R_CO',\n",
       " 'R_HC',\n",
       " 'R_PM']"
      ]
     },
     "execution_count": 105,
     "metadata": {},
     "output_type": "execute_result"
    }
   ],
   "source": [
    "DF_col + check_DF_col + check_R_col"
   ]
  },
  {
   "cell_type": "code",
   "execution_count": 106,
   "metadata": {},
   "outputs": [
    {
     "data": {
      "text/html": [
       "<div>\n",
       "<style scoped>\n",
       "    .dataframe tbody tr th:only-of-type {\n",
       "        vertical-align: middle;\n",
       "    }\n",
       "\n",
       "    .dataframe tbody tr th {\n",
       "        vertical-align: top;\n",
       "    }\n",
       "\n",
       "    .dataframe thead th {\n",
       "        text-align: right;\n",
       "    }\n",
       "</style>\n",
       "<table border=\"1\" class=\"dataframe\">\n",
       "  <thead>\n",
       "    <tr style=\"text-align: right;\">\n",
       "      <th></th>\n",
       "      <th>연료</th>\n",
       "      <th>차종</th>\n",
       "      <th>차종유형</th>\n",
       "      <th>차량연식</th>\n",
       "      <th>차령</th>\n",
       "      <th>DF_CO</th>\n",
       "      <th>DF_HC</th>\n",
       "      <th>DF_PM</th>\n",
       "      <th>DF_NOx</th>\n",
       "      <th>R_CO</th>\n",
       "      <th>R_HC</th>\n",
       "      <th>R_PM</th>\n",
       "      <th>EFi_CO</th>\n",
       "      <th>EFi_HC</th>\n",
       "      <th>EFi_NOx</th>\n",
       "      <th>EFi_PM10</th>\n",
       "      <th>EFi_PM2_5</th>\n",
       "    </tr>\n",
       "  </thead>\n",
       "  <tbody>\n",
       "    <tr>\n",
       "      <th>0</th>\n",
       "      <td>경유</td>\n",
       "      <td>승용</td>\n",
       "      <td>소형</td>\n",
       "      <td>2007</td>\n",
       "      <td>16</td>\n",
       "      <td>1.50</td>\n",
       "      <td>1.50</td>\n",
       "      <td>1.50</td>\n",
       "      <td>1.20</td>\n",
       "      <td>0.00</td>\n",
       "      <td>0.00</td>\n",
       "      <td>0.00</td>\n",
       "      <td>0.03</td>\n",
       "      <td>0.01</td>\n",
       "      <td>1.33</td>\n",
       "      <td>0.01</td>\n",
       "      <td>0.01</td>\n",
       "    </tr>\n",
       "    <tr>\n",
       "      <th>1</th>\n",
       "      <td>경유</td>\n",
       "      <td>화물</td>\n",
       "      <td>소형</td>\n",
       "      <td>2011</td>\n",
       "      <td>12</td>\n",
       "      <td>1.35</td>\n",
       "      <td>1.35</td>\n",
       "      <td>1.35</td>\n",
       "      <td>1.14</td>\n",
       "      <td>0.00</td>\n",
       "      <td>0.00</td>\n",
       "      <td>0.00</td>\n",
       "      <td>0.02</td>\n",
       "      <td>0.01</td>\n",
       "      <td>1.33</td>\n",
       "      <td>0.04</td>\n",
       "      <td>0.04</td>\n",
       "    </tr>\n",
       "    <tr>\n",
       "      <th>2</th>\n",
       "      <td>경유</td>\n",
       "      <td>승용</td>\n",
       "      <td>중형</td>\n",
       "      <td>2008</td>\n",
       "      <td>15</td>\n",
       "      <td>1.50</td>\n",
       "      <td>1.50</td>\n",
       "      <td>1.50</td>\n",
       "      <td>1.20</td>\n",
       "      <td>0.00</td>\n",
       "      <td>0.00</td>\n",
       "      <td>0.00</td>\n",
       "      <td>0.03</td>\n",
       "      <td>0.01</td>\n",
       "      <td>1.33</td>\n",
       "      <td>0.01</td>\n",
       "      <td>0.01</td>\n",
       "    </tr>\n",
       "    <tr>\n",
       "      <th>3</th>\n",
       "      <td>경유</td>\n",
       "      <td>화물</td>\n",
       "      <td>소형</td>\n",
       "      <td>2009</td>\n",
       "      <td>14</td>\n",
       "      <td>1.45</td>\n",
       "      <td>1.45</td>\n",
       "      <td>1.45</td>\n",
       "      <td>1.18</td>\n",
       "      <td>0.00</td>\n",
       "      <td>0.00</td>\n",
       "      <td>0.00</td>\n",
       "      <td>0.02</td>\n",
       "      <td>0.01</td>\n",
       "      <td>1.33</td>\n",
       "      <td>0.04</td>\n",
       "      <td>0.04</td>\n",
       "    </tr>\n",
       "    <tr>\n",
       "      <th>4</th>\n",
       "      <td>경유</td>\n",
       "      <td>화물</td>\n",
       "      <td>소형</td>\n",
       "      <td>2008</td>\n",
       "      <td>15</td>\n",
       "      <td>1.50</td>\n",
       "      <td>1.50</td>\n",
       "      <td>1.50</td>\n",
       "      <td>1.20</td>\n",
       "      <td>0.00</td>\n",
       "      <td>0.00</td>\n",
       "      <td>0.00</td>\n",
       "      <td>0.02</td>\n",
       "      <td>0.01</td>\n",
       "      <td>1.33</td>\n",
       "      <td>0.04</td>\n",
       "      <td>0.04</td>\n",
       "    </tr>\n",
       "  </tbody>\n",
       "</table>\n",
       "</div>"
      ],
      "text/plain": [
       "   연료  차종 차종유형  차량연식  차령  DF_CO  DF_HC  DF_PM  DF_NOx  R_CO  R_HC  R_PM   \n",
       "0  경유  승용   소형  2007  16   1.50   1.50   1.50    1.20  0.00  0.00  0.00  \\\n",
       "1  경유  화물   소형  2011  12   1.35   1.35   1.35    1.14  0.00  0.00  0.00   \n",
       "2  경유  승용   중형  2008  15   1.50   1.50   1.50    1.20  0.00  0.00  0.00   \n",
       "3  경유  화물   소형  2009  14   1.45   1.45   1.45    1.18  0.00  0.00  0.00   \n",
       "4  경유  화물   소형  2008  15   1.50   1.50   1.50    1.20  0.00  0.00  0.00   \n",
       "\n",
       "   EFi_CO  EFi_HC  EFi_NOx  EFi_PM10  EFi_PM2_5  \n",
       "0    0.03    0.01     1.33      0.01       0.01  \n",
       "1    0.02    0.01     1.33      0.04       0.04  \n",
       "2    0.03    0.01     1.33      0.01       0.01  \n",
       "3    0.02    0.01     1.33      0.04       0.04  \n",
       "4    0.02    0.01     1.33      0.04       0.04  "
      ]
     },
     "execution_count": 106,
     "metadata": {},
     "output_type": "execute_result"
    }
   ],
   "source": [
    "df3[DF_col + check_DF_col + check_R_col + check_EFi_col].head()"
   ]
  },
  {
   "cell_type": "code",
   "execution_count": 107,
   "metadata": {},
   "outputs": [],
   "source": [
    "# E = VKT * (EFi / 1000) * DF * (1 - R / 100)\n",
    "df3['E_HOT_CO'] = df3['VKT'] * (df3['EFi_CO'] / 1000) * df3['DF_CO'] * (1 - df3['R_CO'] / 100)\n",
    "df3['E_HOT_HC'] = df3['VKT'] * (df3['EFi_HC'] / 1000) * df3['DF_HC'] * (1 - df3['R_HC'] / 100)\n",
    "df3['E_HOT_NOx'] = df3['VKT'] * (df3['EFi_NOx'] / 1000) * df3['DF_NOx'] * (1 - 0 / 100)\n",
    "df3['E_HOT_PM10'] = df3['VKT'] * (df3['EFi_PM10'] / 1000) * df3['DF_PM'] * (1 - df3['R_PM'] / 100)\n",
    "df3['E_HOT_PM2_5'] = df3['VKT'] * (df3['EFi_PM2_5'] / 1000) * df3['DF_PM'] * (1 - df3['R_PM'] / 100)"
   ]
  },
  {
   "cell_type": "code",
   "execution_count": 108,
   "metadata": {},
   "outputs": [],
   "source": [
    "check_E_HOT_col = ['E_HOT_CO', 'E_HOT_HC', 'E_HOT_NOx', 'E_HOT_PM10', 'E_HOT_PM2_5']"
   ]
  },
  {
   "cell_type": "code",
   "execution_count": 109,
   "metadata": {},
   "outputs": [
    {
     "data": {
      "text/html": [
       "<div>\n",
       "<style scoped>\n",
       "    .dataframe tbody tr th:only-of-type {\n",
       "        vertical-align: middle;\n",
       "    }\n",
       "\n",
       "    .dataframe tbody tr th {\n",
       "        vertical-align: top;\n",
       "    }\n",
       "\n",
       "    .dataframe thead th {\n",
       "        text-align: right;\n",
       "    }\n",
       "</style>\n",
       "<table border=\"1\" class=\"dataframe\">\n",
       "  <thead>\n",
       "    <tr style=\"text-align: right;\">\n",
       "      <th></th>\n",
       "      <th>연료</th>\n",
       "      <th>차종</th>\n",
       "      <th>차종유형</th>\n",
       "      <th>차량연식</th>\n",
       "      <th>차령</th>\n",
       "      <th>DF_CO</th>\n",
       "      <th>DF_HC</th>\n",
       "      <th>DF_PM</th>\n",
       "      <th>DF_NOx</th>\n",
       "      <th>R_CO</th>\n",
       "      <th>...</th>\n",
       "      <th>EFi_CO</th>\n",
       "      <th>EFi_HC</th>\n",
       "      <th>EFi_NOx</th>\n",
       "      <th>EFi_PM10</th>\n",
       "      <th>EFi_PM2_5</th>\n",
       "      <th>E_HOT_CO</th>\n",
       "      <th>E_HOT_HC</th>\n",
       "      <th>E_HOT_NOx</th>\n",
       "      <th>E_HOT_PM10</th>\n",
       "      <th>E_HOT_PM2_5</th>\n",
       "    </tr>\n",
       "  </thead>\n",
       "  <tbody>\n",
       "    <tr>\n",
       "      <th>0</th>\n",
       "      <td>경유</td>\n",
       "      <td>승용</td>\n",
       "      <td>소형</td>\n",
       "      <td>2007</td>\n",
       "      <td>16</td>\n",
       "      <td>1.50</td>\n",
       "      <td>1.50</td>\n",
       "      <td>1.50</td>\n",
       "      <td>1.20</td>\n",
       "      <td>0.00</td>\n",
       "      <td>...</td>\n",
       "      <td>0.03</td>\n",
       "      <td>0.01</td>\n",
       "      <td>1.33</td>\n",
       "      <td>0.01</td>\n",
       "      <td>0.01</td>\n",
       "      <td>0.55</td>\n",
       "      <td>0.10</td>\n",
       "      <td>20.34</td>\n",
       "      <td>0.20</td>\n",
       "      <td>0.19</td>\n",
       "    </tr>\n",
       "    <tr>\n",
       "      <th>1</th>\n",
       "      <td>경유</td>\n",
       "      <td>화물</td>\n",
       "      <td>소형</td>\n",
       "      <td>2011</td>\n",
       "      <td>12</td>\n",
       "      <td>1.35</td>\n",
       "      <td>1.35</td>\n",
       "      <td>1.35</td>\n",
       "      <td>1.14</td>\n",
       "      <td>0.00</td>\n",
       "      <td>...</td>\n",
       "      <td>0.02</td>\n",
       "      <td>0.01</td>\n",
       "      <td>1.33</td>\n",
       "      <td>0.04</td>\n",
       "      <td>0.04</td>\n",
       "      <td>0.37</td>\n",
       "      <td>0.25</td>\n",
       "      <td>26.54</td>\n",
       "      <td>0.95</td>\n",
       "      <td>0.87</td>\n",
       "    </tr>\n",
       "    <tr>\n",
       "      <th>2</th>\n",
       "      <td>경유</td>\n",
       "      <td>승용</td>\n",
       "      <td>중형</td>\n",
       "      <td>2008</td>\n",
       "      <td>15</td>\n",
       "      <td>1.50</td>\n",
       "      <td>1.50</td>\n",
       "      <td>1.50</td>\n",
       "      <td>1.20</td>\n",
       "      <td>0.00</td>\n",
       "      <td>...</td>\n",
       "      <td>0.03</td>\n",
       "      <td>0.01</td>\n",
       "      <td>1.33</td>\n",
       "      <td>0.01</td>\n",
       "      <td>0.01</td>\n",
       "      <td>0.53</td>\n",
       "      <td>0.12</td>\n",
       "      <td>21.21</td>\n",
       "      <td>0.20</td>\n",
       "      <td>0.18</td>\n",
       "    </tr>\n",
       "    <tr>\n",
       "      <th>3</th>\n",
       "      <td>경유</td>\n",
       "      <td>화물</td>\n",
       "      <td>소형</td>\n",
       "      <td>2009</td>\n",
       "      <td>14</td>\n",
       "      <td>1.45</td>\n",
       "      <td>1.45</td>\n",
       "      <td>1.45</td>\n",
       "      <td>1.18</td>\n",
       "      <td>0.00</td>\n",
       "      <td>...</td>\n",
       "      <td>0.02</td>\n",
       "      <td>0.01</td>\n",
       "      <td>1.33</td>\n",
       "      <td>0.04</td>\n",
       "      <td>0.04</td>\n",
       "      <td>0.45</td>\n",
       "      <td>0.30</td>\n",
       "      <td>31.49</td>\n",
       "      <td>1.17</td>\n",
       "      <td>1.07</td>\n",
       "    </tr>\n",
       "    <tr>\n",
       "      <th>4</th>\n",
       "      <td>경유</td>\n",
       "      <td>화물</td>\n",
       "      <td>소형</td>\n",
       "      <td>2008</td>\n",
       "      <td>15</td>\n",
       "      <td>1.50</td>\n",
       "      <td>1.50</td>\n",
       "      <td>1.50</td>\n",
       "      <td>1.20</td>\n",
       "      <td>0.00</td>\n",
       "      <td>...</td>\n",
       "      <td>0.02</td>\n",
       "      <td>0.01</td>\n",
       "      <td>1.33</td>\n",
       "      <td>0.04</td>\n",
       "      <td>0.04</td>\n",
       "      <td>0.33</td>\n",
       "      <td>0.22</td>\n",
       "      <td>22.67</td>\n",
       "      <td>0.85</td>\n",
       "      <td>0.79</td>\n",
       "    </tr>\n",
       "  </tbody>\n",
       "</table>\n",
       "<p>5 rows × 22 columns</p>\n",
       "</div>"
      ],
      "text/plain": [
       "   연료  차종 차종유형  차량연식  차령  DF_CO  DF_HC  DF_PM  DF_NOx  R_CO  ...  EFi_CO   \n",
       "0  경유  승용   소형  2007  16   1.50   1.50   1.50    1.20  0.00  ...    0.03  \\\n",
       "1  경유  화물   소형  2011  12   1.35   1.35   1.35    1.14  0.00  ...    0.02   \n",
       "2  경유  승용   중형  2008  15   1.50   1.50   1.50    1.20  0.00  ...    0.03   \n",
       "3  경유  화물   소형  2009  14   1.45   1.45   1.45    1.18  0.00  ...    0.02   \n",
       "4  경유  화물   소형  2008  15   1.50   1.50   1.50    1.20  0.00  ...    0.02   \n",
       "\n",
       "   EFi_HC  EFi_NOx  EFi_PM10  EFi_PM2_5  E_HOT_CO  E_HOT_HC  E_HOT_NOx   \n",
       "0    0.01     1.33      0.01       0.01      0.55      0.10      20.34  \\\n",
       "1    0.01     1.33      0.04       0.04      0.37      0.25      26.54   \n",
       "2    0.01     1.33      0.01       0.01      0.53      0.12      21.21   \n",
       "3    0.01     1.33      0.04       0.04      0.45      0.30      31.49   \n",
       "4    0.01     1.33      0.04       0.04      0.33      0.22      22.67   \n",
       "\n",
       "   E_HOT_PM10  E_HOT_PM2_5  \n",
       "0        0.20         0.19  \n",
       "1        0.95         0.87  \n",
       "2        0.20         0.18  \n",
       "3        1.17         1.07  \n",
       "4        0.85         0.79  \n",
       "\n",
       "[5 rows x 22 columns]"
      ]
     },
     "execution_count": 109,
     "metadata": {},
     "output_type": "execute_result"
    }
   ],
   "source": [
    "df3[DF_col + check_DF_col + check_R_col + check_EFi_col + check_E_HOT_col].head()"
   ]
  },
  {
   "cell_type": "code",
   "execution_count": 110,
   "metadata": {},
   "outputs": [
    {
     "data": {
      "text/plain": [
       "(366911, 56)"
      ]
     },
     "execution_count": 110,
     "metadata": {},
     "output_type": "execute_result"
    }
   ],
   "source": [
    "df3.shape"
   ]
  },
  {
   "attachments": {},
   "cell_type": "markdown",
   "metadata": {},
   "source": [
    "# 자동차-엔진 미가열(Cold-start) 배출"
   ]
  },
  {
   "attachments": {},
   "cell_type": "markdown",
   "metadata": {},
   "source": [
    "## 배출량 식\n",
    "$$E_{COLD :i, j} = \\beta_{i, j} \\times N_j \\times M_j \\times e^{HOT}_j \\times (e^{COLD} / e^{HOT} \\vert_{i, j} - 1)$$\n",
    "\n",
    "- $E_{COLD :i, j}$ : 차종 $j$에서 배출되는 오염물질 $i$의 엔진미가열 배출량\n",
    "- $\\beta_{i, j}$ : 차종 $j$의 엔진미가열 상태의 주행거리 분율\n",
    "- $N_j$ : 차종 $j$의 수\n",
    "- $M_j$ : 차종 $j$의 주행거리\n",
    "- $e^{HOT}_j$ : 차종 $j$의 엔진가열 상태에서의 배출계수\n",
    "- $e^{COLD} / e^{HOT} \\vert_{i, j}$ : 차종 $j$의 엔진가열상태 대비 엔진미가열 상태에서의 배출 비율"
   ]
  },
  {
   "attachments": {},
   "cell_type": "markdown",
   "metadata": {},
   "source": [
    "## 베타($\\beta$)\n",
    "- 1회 평균주행거리(1 trip length)와 대기온도, 자동차 이용 패턴을 고려\n",
    "    - 1회 평균주행거리 정보는 모든 차종에 대하여 각각 적용하는 방안은 수집자료의 한계로 국내 연구결과를 바탕으로 수도권 지역 승용차의 1회 평균 주행거리 12.35km를 적용\n",
    "    - 이때 과대산정 가능성을 염두하여, 도시지역의 택시를 제외한 승용차(경형, 소형, 중형, 대형), 승합차(경형, 소형), RV(소형, 중형)에 적용\n",
    "\n",
    "    - 1회 주행거리 : 12.35 km (2002년 기준)\n",
    "    - 미가열 배출 적용 차종 : 승용차(경형, 소형, 중형, 대형) / 승합차(경형, 소형) / RV(소형, 중형)\n",
    "    - 미가열 배출 적용 지역 : 도시지역(고속도로 구간 제외)\n",
    "\n",
    "- 산정식\n",
    "\n",
    "-|Factor $\\beta$의 산정식\n",
    "-|-\n",
    "$Estimated$ $l_{trip}$|$0.647-0.025 \\times l_{trip} - (0.00974 - 0.000385 \\times l_{trip}) \\times T_a$\n",
    "$Measured$ $l_{trip}$|$0.698-0.051 \\times l_{trip} - (0.01051 - 0.000770 \\times l_{trip}) \\times T_a$\n",
    "\n",
    "- $T_a$ : 대기온도\n",
    "- $Estimated$ $l_{trip}$ : 유럽평균(1985) 약 11.8km / 유럽평균(1998) 약 12.4km(Andre et al., 1998)"
   ]
  },
  {
   "cell_type": "code",
   "execution_count": 111,
   "metadata": {},
   "outputs": [],
   "source": [
    "l_trip = 12.35 # 국립환경과학원(2007), 도로 이동오염원 대기오염 배출량 산정방법 개선 및 장래 배출량 예측방법 연구\n",
    "Ta = 12.4 # e-나라지표 (https://www.index.go.kr/unity/potal/main/EachDtlPageDetail.do?idx_cd=1400) 2002년 년 평균 기온"
   ]
  },
  {
   "cell_type": "code",
   "execution_count": 112,
   "metadata": {},
   "outputs": [],
   "source": [
    "df3['Beta(Estimated)'] = 0.647 - 0.025 * l_trip - (0.00974 - 0.000385 * l_trip) * Ta\n",
    "# df3['Beta(Measured)'] = 0.698 - 0.051 * l_trip - (0.01051 - 0.000770 * l_trip) * Ta"
   ]
  },
  {
   "cell_type": "code",
   "execution_count": 113,
   "metadata": {},
   "outputs": [
    {
     "data": {
      "text/plain": [
       "0   0.28\n",
       "1   0.28\n",
       "2   0.28\n",
       "3   0.28\n",
       "4   0.28\n",
       "Name: Beta(Estimated), dtype: float64"
      ]
     },
     "execution_count": 113,
     "metadata": {},
     "output_type": "execute_result"
    }
   ],
   "source": [
    "df3['Beta(Estimated)'].head()"
   ]
  },
  {
   "cell_type": "code",
   "execution_count": 114,
   "metadata": {},
   "outputs": [
    {
     "data": {
      "text/plain": [
       "0"
      ]
     },
     "execution_count": 114,
     "metadata": {},
     "output_type": "execute_result"
    }
   ],
   "source": [
    "df3['Beta(Estimated)'].isnull().sum()"
   ]
  },
  {
   "attachments": {},
   "cell_type": "markdown",
   "metadata": {},
   "source": [
    "## $e^{COLD} / e^{HOT}$"
   ]
  },
  {
   "cell_type": "code",
   "execution_count": 115,
   "metadata": {},
   "outputs": [
    {
     "data": {
      "text/plain": [
       "array(['경유', '휘발유', 'LPG(액화석유가스)'], dtype=object)"
      ]
     },
     "execution_count": 115,
     "metadata": {},
     "output_type": "execute_result"
    }
   ],
   "source": [
    "df3['연료'].unique()"
   ]
  },
  {
   "cell_type": "code",
   "execution_count": 116,
   "metadata": {},
   "outputs": [
    {
     "data": {
      "text/plain": [
       "count   366911.00\n",
       "mean      2004.69\n",
       "std          5.40\n",
       "min       1987.00\n",
       "25%       2000.00\n",
       "50%       2007.00\n",
       "75%       2009.00\n",
       "max       2018.00\n",
       "Name: 차량연식, dtype: float64"
      ]
     },
     "execution_count": 116,
     "metadata": {},
     "output_type": "execute_result"
    }
   ],
   "source": [
    "df3['차량연식'].describe()"
   ]
  },
  {
   "cell_type": "code",
   "execution_count": 117,
   "metadata": {},
   "outputs": [],
   "source": [
    "# 휘발유(자동 제어)\n",
    "df3.loc[(df3['연료'] == '휘발유') & (df3['차량연식'] < 1991) & ( (df3['차종'] == '승용') | ( (df3['차종'] == '승합') & ((df3['차종유형'] == '경형') | (df3['차종유형'] == '소형')) ) ), 'eCOLD/eHOT_CO'] = 3.7 - 0.09 * Ta\n",
    "df3.loc[(df3['연료'] == '휘발유') & (df3['차량연식'] >= 1991) & ( (df3['차종'] == '승용') | ( (df3['차종'] == '승합') & ((df3['차종유형'] == '경형') | (df3['차종유형'] == '소형')) ) ), 'eCOLD/eHOT_CO'] = 9.04 - 0.09 * Ta\n",
    "df3.loc[(df3['연료'] == '휘발유') & (df3['차량연식'] < 1991) & ( (df3['차종'] == '승용') | ( (df3['차종'] == '승합') & ((df3['차종유형'] == '경형') | (df3['차종유형'] == '소형')) ) ), 'eCOLD/eHOT_NOx'] = 1.14 - 0.006 * Ta\n",
    "df3.loc[(df3['연료'] == '휘발유') & (df3['차량연식'] >= 1991) & ( (df3['차종'] == '승용') | ( (df3['차종'] == '승합') & ((df3['차종유형'] == '경형') | (df3['차종유형'] == '소형')) ) ), 'eCOLD/eHOT_NOx'] = 3.66 - 0.006 * Ta\n",
    "df3.loc[(df3['연료'] == '휘발유') & (df3['차량연식'] < 1991) & ( (df3['차종'] == '승용') | ( (df3['차종'] == '승합') & ((df3['차종유형'] == '경형') | (df3['차종유형'] == '소형')) ) ), 'eCOLD/eHOT_HC'] = 2.8 - 0.06 * Ta\n",
    "df3.loc[(df3['연료'] == '휘발유') & (df3['차량연식'] >= 1991) & ( (df3['차종'] == '승용') | ( (df3['차종'] == '승합') & ((df3['차종유형'] == '경형') | (df3['차종유형'] == '소형')) ) ), 'eCOLD/eHOT_HC'] = 12.59 - 0.06 * Ta\n",
    "df3.loc[df3['연료'] == '휘발유', 'eCOLD/eHOT_PM'] = 1\n",
    "# 경유\n",
    "df3.loc[(df3['연료'] == '경유') & ( (df3['차종'] == '승용') | ( (df3['차종'] == '승합') & ((df3['차종유형'] == '경형') | (df3['차종유형'] == '소형')) ) ),'eCOLD/eHOT_CO'] = 1.9 - 0.03 * Ta\n",
    "df3.loc[(df3['연료'] == '경유') & ( (df3['차종'] == '승용') | ( (df3['차종'] == '승합') & ((df3['차종유형'] == '경형') | (df3['차종유형'] == '소형')) ) ),'eCOLD/eHOT_NOx'] = 1.3 - 0.013 * Ta\n",
    "df3.loc[(df3['연료'] == '경유') & ( (df3['차종'] == '승용') | ( (df3['차종'] == '승합') & ((df3['차종유형'] == '경형') | (df3['차종유형'] == '소형')) ) ),'eCOLD/eHOT_HC'] = 3.1 - 0.09 * Ta\n",
    "df3.loc[(df3['연료'] == '경유') & ( (df3['차종'] == '승용') | ( (df3['차종'] == '승합') & ((df3['차종유형'] == '경형') | (df3['차종유형'] == '소형')) ) ),'eCOLD/eHOT_PM'] = 3.1 - 0.1 * Ta\n",
    "# LPG(액화석유가스)\n",
    "df3.loc[(df3['연료'] == 'LPG(액화석유가스)') & ( (df3['차종'] == '승용') | ( (df3['차종'] == '승합') & ((df3['차종유형'] == '경형') | (df3['차종유형'] == '소형')) ) ),'eCOLD/eHOT_CO'] = 3.66 - 0.09 * Ta\n",
    "df3.loc[(df3['연료'] == 'LPG(액화석유가스)') & ( (df3['차종'] == '승용') | ( (df3['차종'] == '승합') & ((df3['차종유형'] == '경형') | (df3['차종유형'] == '소형')) ) ),'eCOLD/eHOT_NOx'] = 0.98 - 0.006 * Ta\n",
    "df3.loc[(df3['연료'] == 'LPG(액화석유가스)') & ( (df3['차종'] == '승용') | ( (df3['차종'] == '승합') & ((df3['차종유형'] == '경형') | (df3['차종유형'] == '소형')) ) ),'eCOLD/eHOT_HC'] = 2.24 - 0.06 * Ta\n",
    "df3.loc[(df3['연료'] == 'LPG(액화석유가스)') & ( (df3['차종'] == '승용') | ( (df3['차종'] == '승합') & ((df3['차종유형'] == '경형') | (df3['차종유형'] == '소형')) ) ),'eCOLD/eHOT_PM'] = 1"
   ]
  },
  {
   "cell_type": "code",
   "execution_count": 118,
   "metadata": {},
   "outputs": [
    {
     "data": {
      "text/plain": [
       "eCOLD/eHOT_CO     104981\n",
       "eCOLD/eHOT_NOx    104981\n",
       "eCOLD/eHOT_HC     104981\n",
       "eCOLD/eHOT_PM     104339\n",
       "dtype: int64"
      ]
     },
     "execution_count": 118,
     "metadata": {},
     "output_type": "execute_result"
    }
   ],
   "source": [
    "check_ecoldhot_col = ['eCOLD/eHOT_CO', 'eCOLD/eHOT_NOx', 'eCOLD/eHOT_HC', 'eCOLD/eHOT_PM']\n",
    "df3[check_ecoldhot_col].isnull().sum()"
   ]
  },
  {
   "cell_type": "code",
   "execution_count": 119,
   "metadata": {},
   "outputs": [
    {
     "data": {
      "text/plain": [
       "eCOLD/eHOT_CO     0\n",
       "eCOLD/eHOT_NOx    0\n",
       "eCOLD/eHOT_HC     0\n",
       "eCOLD/eHOT_PM     0\n",
       "dtype: int64"
      ]
     },
     "execution_count": 119,
     "metadata": {},
     "output_type": "execute_result"
    }
   ],
   "source": [
    "df3[check_ecoldhot_col] = df3[check_ecoldhot_col].fillna(1)\n",
    "df3[check_ecoldhot_col].isnull().sum()"
   ]
  },
  {
   "cell_type": "code",
   "execution_count": 120,
   "metadata": {},
   "outputs": [
    {
     "data": {
      "text/plain": [
       "(0,)"
      ]
     },
     "execution_count": 120,
     "metadata": {},
     "output_type": "execute_result"
    }
   ],
   "source": [
    "df3.loc[df3['eCOLD/eHOT_CO'] < 0, 'eCOLD/eHOT_CO'].shape"
   ]
  },
  {
   "cell_type": "code",
   "execution_count": 121,
   "metadata": {},
   "outputs": [
    {
     "data": {
      "text/plain": [
       "(0,)"
      ]
     },
     "execution_count": 121,
     "metadata": {},
     "output_type": "execute_result"
    }
   ],
   "source": [
    "df3.loc[df3['eCOLD/eHOT_NOx'] < 0, 'eCOLD/eHOT_NOx'].shape"
   ]
  },
  {
   "cell_type": "code",
   "execution_count": 122,
   "metadata": {},
   "outputs": [
    {
     "data": {
      "text/plain": [
       "(0,)"
      ]
     },
     "execution_count": 122,
     "metadata": {},
     "output_type": "execute_result"
    }
   ],
   "source": [
    "df3.loc[df3['eCOLD/eHOT_HC'] < 0, 'eCOLD/eHOT_HC'].shape"
   ]
  },
  {
   "cell_type": "code",
   "execution_count": 123,
   "metadata": {},
   "outputs": [
    {
     "data": {
      "text/plain": [
       "(0,)"
      ]
     },
     "execution_count": 123,
     "metadata": {},
     "output_type": "execute_result"
    }
   ],
   "source": [
    "df3.loc[df3['eCOLD/eHOT_PM'] < 0, 'eCOLD/eHOT_PM'].shape"
   ]
  },
  {
   "attachments": {},
   "cell_type": "markdown",
   "metadata": {},
   "source": [
    "## 배출량 계산"
   ]
  },
  {
   "cell_type": "code",
   "execution_count": 124,
   "metadata": {},
   "outputs": [
    {
     "data": {
      "text/plain": [
       "Index(['차량관리번호', '본거지법정동코드', '차종', '차대번호', '최초등록일자', '차량연식', '제원관리번호',\n",
       "       '배출가스인증번호', '배출가스등급', '차량말소YN_등록정보', '차명', '차종유형', '제작사명', '연료', '등급',\n",
       "       '차량말소YN_변경이력', '변경일자', '변경구분코드', '법정동코드', '시도', '시구군', '읍면동', '리',\n",
       "       '지역3', '폐지여부', '대기관리권역', '대기관리권역YN', '저감장치', '변경일자_년', '변경일자_월',\n",
       "       '변경일자_일', '변경일자_년_월', '차령', '시구군_수정', '시도명', '시군구명', '1일평균주행거리', 'VKT',\n",
       "       'DF_CO', 'DF_HC', 'DF_PM', 'DF_NOx', 'DPF유무_수정', 'R_CO', 'R_HC', 'R_PM',\n",
       "       'EFi_CO', 'EFi_HC', 'EFi_NOx', 'EFi_PM10', 'EFi_PM2_5', 'E_HOT_CO',\n",
       "       'E_HOT_HC', 'E_HOT_NOx', 'E_HOT_PM10', 'E_HOT_PM2_5', 'Beta(Estimated)',\n",
       "       'eCOLD/eHOT_CO', 'eCOLD/eHOT_NOx', 'eCOLD/eHOT_HC', 'eCOLD/eHOT_PM'],\n",
       "      dtype='object')"
      ]
     },
     "execution_count": 124,
     "metadata": {},
     "output_type": "execute_result"
    }
   ],
   "source": [
    "df3.columns"
   ]
  },
  {
   "attachments": {},
   "cell_type": "markdown",
   "metadata": {},
   "source": [
    "### 🔺 계산식 고민\n",
    "$$E_{COLD :i, j} = \\beta_{i, j} \\times N_j \\times M_j \\times e^{HOT}_j \\times (e^{COLD} / e^{HOT} \\vert_{i, j} - 1)$$\n",
    "- $M_j$ : 차종 $j$의 주행거리\n",
    "    - 1년 주행거리로 계산? \n",
    "        - VKT\n",
    "    - 1회 주행거리로 계산?\n",
    "        - l_trip"
   ]
  },
  {
   "cell_type": "code",
   "execution_count": 125,
   "metadata": {},
   "outputs": [],
   "source": [
    "#         E      =             B          *     M      *    e(HOT)     * ( e(COLD)/e(HOT)      - 1 )\n",
    "df3['E_COLD_CO'] = df3['Beta(Estimated)'] * df3['VKT'] * df3['EFi_CO'] * (df3['eCOLD/eHOT_CO'] - 1)\n",
    "df3['E_COLD_NOx'] = df3['Beta(Estimated)'] * df3['VKT'] * df3['EFi_NOx'] * (df3['eCOLD/eHOT_NOx'] - 1)\n",
    "df3['E_COLD_HC'] = df3['Beta(Estimated)'] * df3['VKT'] * df3['EFi_HC'] * (df3['eCOLD/eHOT_HC'] - 1)\n",
    "df3['E_COLD_PM10'] = df3['Beta(Estimated)'] * df3['VKT'] * df3['EFi_PM10'] * (df3['eCOLD/eHOT_PM'] - 1)\n",
    "df3['E_COLD_PM2_5'] = df3['Beta(Estimated)'] * df3['VKT'] * df3['EFi_PM2_5'] * (df3['eCOLD/eHOT_PM'] - 1)"
   ]
  },
  {
   "cell_type": "code",
   "execution_count": 126,
   "metadata": {},
   "outputs": [
    {
     "data": {
      "text/plain": [
       "(5589, 6)"
      ]
     },
     "execution_count": 126,
     "metadata": {},
     "output_type": "execute_result"
    }
   ],
   "source": [
    "df3.loc[df3['E_COLD_NOx'] < 0, ['연료', 'Beta(Estimated)', 'VKT', 'EFi_NOx', 'eCOLD/eHOT_NOx', 'E_COLD_NOx']].shape"
   ]
  },
  {
   "cell_type": "code",
   "execution_count": 127,
   "metadata": {},
   "outputs": [
    {
     "data": {
      "text/html": [
       "<div>\n",
       "<style scoped>\n",
       "    .dataframe tbody tr th:only-of-type {\n",
       "        vertical-align: middle;\n",
       "    }\n",
       "\n",
       "    .dataframe tbody tr th {\n",
       "        vertical-align: top;\n",
       "    }\n",
       "\n",
       "    .dataframe thead th {\n",
       "        text-align: right;\n",
       "    }\n",
       "</style>\n",
       "<table border=\"1\" class=\"dataframe\">\n",
       "  <thead>\n",
       "    <tr style=\"text-align: right;\">\n",
       "      <th></th>\n",
       "      <th>연료</th>\n",
       "      <th>Beta(Estimated)</th>\n",
       "      <th>VKT</th>\n",
       "      <th>EFi_NOx</th>\n",
       "      <th>eCOLD/eHOT_NOx</th>\n",
       "      <th>E_COLD_NOx</th>\n",
       "    </tr>\n",
       "  </thead>\n",
       "  <tbody>\n",
       "    <tr>\n",
       "      <th>145</th>\n",
       "      <td>LPG(액화석유가스)</td>\n",
       "      <td>0.28</td>\n",
       "      <td>12994.00</td>\n",
       "      <td>0.41</td>\n",
       "      <td>0.91</td>\n",
       "      <td>-137.33</td>\n",
       "    </tr>\n",
       "    <tr>\n",
       "      <th>285</th>\n",
       "      <td>LPG(액화석유가스)</td>\n",
       "      <td>0.28</td>\n",
       "      <td>12957.50</td>\n",
       "      <td>0.35</td>\n",
       "      <td>0.91</td>\n",
       "      <td>-117.78</td>\n",
       "    </tr>\n",
       "    <tr>\n",
       "      <th>342</th>\n",
       "      <td>LPG(액화석유가스)</td>\n",
       "      <td>0.28</td>\n",
       "      <td>14125.50</td>\n",
       "      <td>0.35</td>\n",
       "      <td>0.91</td>\n",
       "      <td>-128.39</td>\n",
       "    </tr>\n",
       "    <tr>\n",
       "      <th>549</th>\n",
       "      <td>LPG(액화석유가스)</td>\n",
       "      <td>0.28</td>\n",
       "      <td>13286.00</td>\n",
       "      <td>0.41</td>\n",
       "      <td>0.91</td>\n",
       "      <td>-140.42</td>\n",
       "    </tr>\n",
       "    <tr>\n",
       "      <th>668</th>\n",
       "      <td>LPG(액화석유가스)</td>\n",
       "      <td>0.28</td>\n",
       "      <td>12884.50</td>\n",
       "      <td>0.41</td>\n",
       "      <td>0.91</td>\n",
       "      <td>-136.18</td>\n",
       "    </tr>\n",
       "  </tbody>\n",
       "</table>\n",
       "</div>"
      ],
      "text/plain": [
       "              연료  Beta(Estimated)      VKT  EFi_NOx  eCOLD/eHOT_NOx   \n",
       "145  LPG(액화석유가스)             0.28 12994.00     0.41            0.91  \\\n",
       "285  LPG(액화석유가스)             0.28 12957.50     0.35            0.91   \n",
       "342  LPG(액화석유가스)             0.28 14125.50     0.35            0.91   \n",
       "549  LPG(액화석유가스)             0.28 13286.00     0.41            0.91   \n",
       "668  LPG(액화석유가스)             0.28 12884.50     0.41            0.91   \n",
       "\n",
       "     E_COLD_NOx  \n",
       "145     -137.33  \n",
       "285     -117.78  \n",
       "342     -128.39  \n",
       "549     -140.42  \n",
       "668     -136.18  "
      ]
     },
     "execution_count": 127,
     "metadata": {},
     "output_type": "execute_result"
    }
   ],
   "source": [
    "df3.loc[df3['E_COLD_NOx'] < 0, ['연료', 'Beta(Estimated)', 'VKT', 'EFi_NOx', 'eCOLD/eHOT_NOx', 'E_COLD_NOx']].head()"
   ]
  },
  {
   "cell_type": "code",
   "execution_count": 128,
   "metadata": {},
   "outputs": [
    {
     "data": {
      "text/html": [
       "<div>\n",
       "<style scoped>\n",
       "    .dataframe tbody tr th:only-of-type {\n",
       "        vertical-align: middle;\n",
       "    }\n",
       "\n",
       "    .dataframe tbody tr th {\n",
       "        vertical-align: top;\n",
       "    }\n",
       "\n",
       "    .dataframe thead th {\n",
       "        text-align: right;\n",
       "    }\n",
       "</style>\n",
       "<table border=\"1\" class=\"dataframe\">\n",
       "  <thead>\n",
       "    <tr style=\"text-align: right;\">\n",
       "      <th></th>\n",
       "      <th>E_HOT_CO</th>\n",
       "      <th>E_HOT_HC</th>\n",
       "      <th>E_HOT_NOx</th>\n",
       "      <th>E_HOT_PM10</th>\n",
       "      <th>E_HOT_PM2_5</th>\n",
       "      <th>E_COLD_CO</th>\n",
       "      <th>E_COLD_NOx</th>\n",
       "      <th>E_COLD_HC</th>\n",
       "      <th>E_COLD_PM10</th>\n",
       "      <th>E_COLD_PM2_5</th>\n",
       "    </tr>\n",
       "  </thead>\n",
       "  <tbody>\n",
       "    <tr>\n",
       "      <th>0</th>\n",
       "      <td>0.55</td>\n",
       "      <td>0.10</td>\n",
       "      <td>20.34</td>\n",
       "      <td>0.20</td>\n",
       "      <td>0.19</td>\n",
       "      <td>53.16</td>\n",
       "      <td>650.26</td>\n",
       "      <td>18.54</td>\n",
       "      <td>32.39</td>\n",
       "      <td>29.80</td>\n",
       "    </tr>\n",
       "    <tr>\n",
       "      <th>1</th>\n",
       "      <td>0.37</td>\n",
       "      <td>0.25</td>\n",
       "      <td>26.54</td>\n",
       "      <td>0.95</td>\n",
       "      <td>0.87</td>\n",
       "      <td>0.00</td>\n",
       "      <td>0.00</td>\n",
       "      <td>0.00</td>\n",
       "      <td>0.00</td>\n",
       "      <td>0.00</td>\n",
       "    </tr>\n",
       "    <tr>\n",
       "      <th>2</th>\n",
       "      <td>0.53</td>\n",
       "      <td>0.12</td>\n",
       "      <td>21.21</td>\n",
       "      <td>0.20</td>\n",
       "      <td>0.18</td>\n",
       "      <td>51.99</td>\n",
       "      <td>678.29</td>\n",
       "      <td>21.73</td>\n",
       "      <td>31.86</td>\n",
       "      <td>29.31</td>\n",
       "    </tr>\n",
       "    <tr>\n",
       "      <th>3</th>\n",
       "      <td>0.45</td>\n",
       "      <td>0.30</td>\n",
       "      <td>31.49</td>\n",
       "      <td>1.17</td>\n",
       "      <td>1.07</td>\n",
       "      <td>0.00</td>\n",
       "      <td>0.00</td>\n",
       "      <td>0.00</td>\n",
       "      <td>0.00</td>\n",
       "      <td>0.00</td>\n",
       "    </tr>\n",
       "    <tr>\n",
       "      <th>4</th>\n",
       "      <td>0.33</td>\n",
       "      <td>0.22</td>\n",
       "      <td>22.67</td>\n",
       "      <td>0.85</td>\n",
       "      <td>0.79</td>\n",
       "      <td>0.00</td>\n",
       "      <td>0.00</td>\n",
       "      <td>0.00</td>\n",
       "      <td>0.00</td>\n",
       "      <td>0.00</td>\n",
       "    </tr>\n",
       "  </tbody>\n",
       "</table>\n",
       "</div>"
      ],
      "text/plain": [
       "   E_HOT_CO  E_HOT_HC  E_HOT_NOx  E_HOT_PM10  E_HOT_PM2_5  E_COLD_CO   \n",
       "0      0.55      0.10      20.34        0.20         0.19      53.16  \\\n",
       "1      0.37      0.25      26.54        0.95         0.87       0.00   \n",
       "2      0.53      0.12      21.21        0.20         0.18      51.99   \n",
       "3      0.45      0.30      31.49        1.17         1.07       0.00   \n",
       "4      0.33      0.22      22.67        0.85         0.79       0.00   \n",
       "\n",
       "   E_COLD_NOx  E_COLD_HC  E_COLD_PM10  E_COLD_PM2_5  \n",
       "0      650.26      18.54        32.39         29.80  \n",
       "1        0.00       0.00         0.00          0.00  \n",
       "2      678.29      21.73        31.86         29.31  \n",
       "3        0.00       0.00         0.00          0.00  \n",
       "4        0.00       0.00         0.00          0.00  "
      ]
     },
     "execution_count": 128,
     "metadata": {},
     "output_type": "execute_result"
    }
   ],
   "source": [
    "check_E_cold_col = ['E_COLD_CO', 'E_COLD_NOx', 'E_COLD_HC', 'E_COLD_PM10', 'E_COLD_PM2_5']\n",
    "df3[check_E_HOT_col + check_E_cold_col].head()"
   ]
  },
  {
   "cell_type": "code",
   "execution_count": 129,
   "metadata": {},
   "outputs": [
    {
     "data": {
      "text/html": [
       "<div>\n",
       "<style scoped>\n",
       "    .dataframe tbody tr th:only-of-type {\n",
       "        vertical-align: middle;\n",
       "    }\n",
       "\n",
       "    .dataframe tbody tr th {\n",
       "        vertical-align: top;\n",
       "    }\n",
       "\n",
       "    .dataframe thead th {\n",
       "        text-align: right;\n",
       "    }\n",
       "</style>\n",
       "<table border=\"1\" class=\"dataframe\">\n",
       "  <thead>\n",
       "    <tr style=\"text-align: right;\">\n",
       "      <th></th>\n",
       "      <th>E_HOT_CO</th>\n",
       "      <th>E_HOT_HC</th>\n",
       "      <th>E_HOT_NOx</th>\n",
       "      <th>E_HOT_PM10</th>\n",
       "      <th>E_HOT_PM2_5</th>\n",
       "      <th>E_COLD_CO</th>\n",
       "      <th>E_COLD_NOx</th>\n",
       "      <th>E_COLD_HC</th>\n",
       "      <th>E_COLD_PM10</th>\n",
       "      <th>E_COLD_PM2_5</th>\n",
       "    </tr>\n",
       "  </thead>\n",
       "  <tbody>\n",
       "    <tr>\n",
       "      <th>366906</th>\n",
       "      <td>30.70</td>\n",
       "      <td>2.31</td>\n",
       "      <td>9.55</td>\n",
       "      <td>0.01</td>\n",
       "      <td>0.01</td>\n",
       "      <td>29381.99</td>\n",
       "      <td>3414.08</td>\n",
       "      <td>3463.01</td>\n",
       "      <td>0.00</td>\n",
       "      <td>0.00</td>\n",
       "    </tr>\n",
       "    <tr>\n",
       "      <th>366907</th>\n",
       "      <td>0.42</td>\n",
       "      <td>0.28</td>\n",
       "      <td>30.11</td>\n",
       "      <td>1.10</td>\n",
       "      <td>1.01</td>\n",
       "      <td>0.00</td>\n",
       "      <td>0.00</td>\n",
       "      <td>0.00</td>\n",
       "      <td>0.00</td>\n",
       "      <td>0.00</td>\n",
       "    </tr>\n",
       "    <tr>\n",
       "      <th>366908</th>\n",
       "      <td>30.70</td>\n",
       "      <td>2.31</td>\n",
       "      <td>9.55</td>\n",
       "      <td>0.01</td>\n",
       "      <td>0.01</td>\n",
       "      <td>29381.99</td>\n",
       "      <td>3414.08</td>\n",
       "      <td>3463.01</td>\n",
       "      <td>0.00</td>\n",
       "      <td>0.00</td>\n",
       "    </tr>\n",
       "    <tr>\n",
       "      <th>366909</th>\n",
       "      <td>0.57</td>\n",
       "      <td>0.13</td>\n",
       "      <td>22.73</td>\n",
       "      <td>0.22</td>\n",
       "      <td>0.20</td>\n",
       "      <td>55.71</td>\n",
       "      <td>726.87</td>\n",
       "      <td>23.28</td>\n",
       "      <td>34.14</td>\n",
       "      <td>31.41</td>\n",
       "    </tr>\n",
       "    <tr>\n",
       "      <th>366910</th>\n",
       "      <td>10.39</td>\n",
       "      <td>2.65</td>\n",
       "      <td>90.63</td>\n",
       "      <td>0.19</td>\n",
       "      <td>0.17</td>\n",
       "      <td>0.00</td>\n",
       "      <td>0.00</td>\n",
       "      <td>0.00</td>\n",
       "      <td>0.00</td>\n",
       "      <td>0.00</td>\n",
       "    </tr>\n",
       "  </tbody>\n",
       "</table>\n",
       "</div>"
      ],
      "text/plain": [
       "        E_HOT_CO  E_HOT_HC  E_HOT_NOx  E_HOT_PM10  E_HOT_PM2_5  E_COLD_CO   \n",
       "366906     30.70      2.31       9.55        0.01         0.01   29381.99  \\\n",
       "366907      0.42      0.28      30.11        1.10         1.01       0.00   \n",
       "366908     30.70      2.31       9.55        0.01         0.01   29381.99   \n",
       "366909      0.57      0.13      22.73        0.22         0.20      55.71   \n",
       "366910     10.39      2.65      90.63        0.19         0.17       0.00   \n",
       "\n",
       "        E_COLD_NOx  E_COLD_HC  E_COLD_PM10  E_COLD_PM2_5  \n",
       "366906     3414.08    3463.01         0.00          0.00  \n",
       "366907        0.00       0.00         0.00          0.00  \n",
       "366908     3414.08    3463.01         0.00          0.00  \n",
       "366909      726.87      23.28        34.14         31.41  \n",
       "366910        0.00       0.00         0.00          0.00  "
      ]
     },
     "execution_count": 129,
     "metadata": {},
     "output_type": "execute_result"
    }
   ],
   "source": [
    "df3[check_E_HOT_col + check_E_cold_col].tail()"
   ]
  },
  {
   "cell_type": "code",
   "execution_count": 130,
   "metadata": {},
   "outputs": [
    {
     "data": {
      "text/plain": [
       "E_COLD_CO       0\n",
       "E_COLD_NOx      0\n",
       "E_COLD_HC       0\n",
       "E_COLD_PM10     0\n",
       "E_COLD_PM2_5    0\n",
       "dtype: int64"
      ]
     },
     "execution_count": 130,
     "metadata": {},
     "output_type": "execute_result"
    }
   ],
   "source": [
    "df3[check_E_cold_col].isnull().sum()"
   ]
  },
  {
   "attachments": {},
   "cell_type": "markdown",
   "metadata": {},
   "source": [
    "# 자동차-휘발유 증발 배출"
   ]
  },
  {
   "attachments": {},
   "cell_type": "markdown",
   "metadata": {},
   "source": [
    "## 배출량 식\n",
    "- 3가지\n",
    "    - 주간증발손실(Diurnal loss)\n",
    "    - 고온증발손실(Hot and warm soak)\n",
    "    - 주행손실(Running loss)\n",
    "- 현재('19 배출량 기준) 휘발유 증발 배출원\n",
    "    - 주간증발손실, 주행손실 고려\n",
    "    - 우리나라 휘발유 차량 대부분이 방지설비로 카본 캐니스터를 장착하고 있으므로 $e^{S,HOT}$, $e^{S,WARM}$, 고온증발손실(hot and warm soak) 배출은 없는 것으로 가정\n",
    "\n",
    "---\n",
    "\n",
    "$$E_{EVA, VOC:j} = 365 \\times N_j \\times (e^d + S^c + S^{fi}) + R$$\n",
    "$S^c = (1-q)(p \\times x \\times e^{S, HOT} + w \\times x \\times e^{S,WARM})$\n",
    "\n",
    "$S^{fi} = q \\times e^{fi} \\times x$\n",
    "$$R = m_j(p \\times e^{R,HOT} + w \\times e^{R,WARM})$$\n",
    "\n",
    "- $E_{EVA, VOC:j}$ : 차종 j의 증발손실에 의한 VOC 배출량(g/yr)\n",
    "- $N_j$ : 차종 j의 휘발유 사용 차량 등록대수(대)\n",
    "- $e^d$ : 금속탱크를 가지고 있는 휘발유 차량의 일중 VOC 배출량(g/day-대)\n",
    "- $S^c$ : Carburetor 휘발유 차량의 일중 hot and warm soak 배출량(g/day-대)\n",
    "- $S^{fi}$ : Fuel injection 휘발유 차량의 일중 hot and warm soak 배출량(g/day-대)\n",
    "- $R$ : Running loss에 의한 휘발유 차량의 연중 배출량(g/yr)\n",
    "- $q$ : Fuel injection 휘발유 차량의 비율\n",
    "- $p$ : 가열 엔진 상태로 끝나는 trip의 비율\n",
    "- $x$ : 일평균 통행횟수 $= V_j / 365 \\times l_{trip}$\n",
    "- $w$ : 미가열 엔진 상태료 끝나는 trip의 비율\n",
    "- $e^{S,HOT}$ : Hot soak emission의 평균 배출계수\n",
    "- $e^{S,WARM}$ : Cold and warm soak emission의 평균 배출계수\n",
    "- $e^{fi}$ : Fuel injection 휘발유 차량의 평균 hot and warm soak 배출계수\n",
    "- $e^{R,HOT}$ : 휘발유 차량의 평균 hot running loss 배출계수\n",
    "- $e^{R,WARM}$ : 휘발유 차량의 평균 warm running loss 배출계수\n",
    "- $m_j$ : 차종 j의 연간 총 주행거리\n",
    "- $V_j$ : 차종 j의 1대당 평균 연간 주행거리"
   ]
  },
  {
   "attachments": {},
   "cell_type": "markdown",
   "metadata": {},
   "source": [
    "## 배출계수"
   ]
  },
  {
   "attachments": {},
   "cell_type": "markdown",
   "metadata": {},
   "source": [
    "### 🔺 수정 중"
   ]
  },
  {
   "attachments": {},
   "cell_type": "markdown",
   "metadata": {},
   "source": [
    "### $e^d$ Diurnal(g/day)\n",
    "- $e^d$ : 금속탱크를 가지고 있는 휘발유 차량의 일중 VOC 배출량(g/day-대)"
   ]
  },
  {
   "attachments": {},
   "cell_type": "markdown",
   "metadata": {},
   "source": [
    "#### 🔺 RVP(증기압)\n",
    "- 참고 COPERT 3(p.80) Table 6.10: Gasoline fuel specifications\n",
    "    - summer : 60\n",
    "    - winter : 70\n",
    "    - 평균 : 65\n",
    "- 수정 사항(2023.04.20, 최)\n",
    "    - 국내 과학기술원, 환경부 자료 찾아서 사용 추천"
   ]
  },
  {
   "cell_type": "code",
   "execution_count": 131,
   "metadata": {},
   "outputs": [],
   "source": [
    "RVP = 65"
   ]
  },
  {
   "attachments": {},
   "cell_type": "markdown",
   "metadata": {},
   "source": [
    "#### ❗ t_a(기온)\n",
    "- t_a, t_min, t_rise\n",
    "    - 참고 COPERT 3(p.72) Table 5.32: Summary of emission factors for estimating evaporative emissions of gasoline vehicles(all RVp in kPa, all temperatures in °C)\n",
    "        - t_a = (t_max + t_min) / 2\n",
    "        - t_rise = t_max - t_min\n",
    "    - 기상자료개방포털(2002년) 연평균 기온\n",
    "        - https://data.kma.go.kr/stcs/grnd/grndTaList.do?pgmNo=70\n",
    "        - 7.5°C(최저), 12.4°C(평균), 17.9°C(최고)"
   ]
  },
  {
   "cell_type": "code",
   "execution_count": 132,
   "metadata": {},
   "outputs": [],
   "source": [
    "t_min = 7.5 # 평균 최저 온도\n",
    "t_max = 17.9\n",
    "t_a = (t_min + t_max) / 2\n",
    "t_rise = 12.4 # 평균 상승 온도"
   ]
  },
  {
   "cell_type": "code",
   "execution_count": 133,
   "metadata": {},
   "outputs": [],
   "source": [
    "df3.loc[df3['차량연식'] < 1991, 'e_d'] = 9.1 * np.exp( 0.0158 * (RVP - 61.2) + 0.0574 * (t_min - 22.5) + 0.0614 * (t_rise - 11.7) )\n",
    "df3.loc[df3['차량연식'] >= 1991, 'e_d'] = 0.2 * (9.1 * np.exp( 0.0158 * (RVP - 61.2) + 0.0574 * (t_min - 22.5) + 0.0614 * (t_rise - 11.7) ))"
   ]
  },
  {
   "cell_type": "code",
   "execution_count": 134,
   "metadata": {},
   "outputs": [
    {
     "data": {
      "text/plain": [
       "0"
      ]
     },
     "execution_count": 134,
     "metadata": {},
     "output_type": "execute_result"
    }
   ],
   "source": [
    "df3['e_d'].isnull().sum()"
   ]
  },
  {
   "attachments": {},
   "cell_type": "markdown",
   "metadata": {},
   "source": [
    "### $e^{R,HOT}$ Hot running loss(g/km)\n",
    "- $e^{R,HOT}$ : 휘발유 차량의 평균 hot running loss 배출계수"
   ]
  },
  {
   "cell_type": "code",
   "execution_count": 135,
   "metadata": {},
   "outputs": [],
   "source": [
    "df3.loc[df3['차량연식'] < 1991, 'e_RHOT'] = 0.136 * np.exp( - 5.967 + 0.04259 * RVP + 0.1773 * t_a)\n",
    "df3.loc[df3['차량연식'] >= 1991, 'e_RHOT'] = 0.1 * (0.136 * np.exp( - 5.967 + 0.04259 * RVP + 0.1773 * t_a))"
   ]
  },
  {
   "cell_type": "code",
   "execution_count": 136,
   "metadata": {},
   "outputs": [
    {
     "data": {
      "text/plain": [
       "0"
      ]
     },
     "execution_count": 136,
     "metadata": {},
     "output_type": "execute_result"
    }
   ],
   "source": [
    "df3['e_RHOT'].isnull().sum()"
   ]
  },
  {
   "attachments": {},
   "cell_type": "markdown",
   "metadata": {},
   "source": [
    "### $e^{S,HOT}$ Hot soak(g/procedure)\n",
    "- $e^{S,HOT}$ : Hot soak emission의 평균 배출계수"
   ]
  },
  {
   "cell_type": "code",
   "execution_count": 137,
   "metadata": {},
   "outputs": [],
   "source": [
    "df3.loc[df3['차량연식'] < 1991, 'e_SHOT'] = 3.0042 * np.exp(0.02 * RVP)\n",
    "df3.loc[df3['차량연식'] >= 1991, 'e_SHOT'] = 0.3 * np.exp(-2.14 + 0.02302 * RVP + 0.09408 * t_a)"
   ]
  },
  {
   "attachments": {},
   "cell_type": "markdown",
   "metadata": {},
   "source": [
    "### $e^{S,WARM}$ Waram soak(g/procedure)\n",
    "- $e^{S,WARM}$ : Cold and warm soak emission의 평균 배출계수"
   ]
  },
  {
   "cell_type": "code",
   "execution_count": 138,
   "metadata": {},
   "outputs": [],
   "source": [
    "df3.loc[df3['차량연식'] < 1991, 'e_SWARM'] = np.exp(-1.644 + 0.01993 * RVP + 0.07521 * t_a)\n",
    "df3.loc[df3['차량연식'] >= 1991, 'e_SWARM'] = 0.2 * np.exp(-2.41 + 0.02302 * RVP + 0.09408 * t_a)"
   ]
  },
  {
   "attachments": {},
   "cell_type": "markdown",
   "metadata": {},
   "source": [
    "### $e^{fi}$ Warm and hot soak for Fuel injected vehicle(g/procedure)\n",
    "- $e^{fi}$ : Fuel injection 휘발유 차량의 평균 hot and warm soak 배출계수"
   ]
  },
  {
   "cell_type": "code",
   "execution_count": 139,
   "metadata": {},
   "outputs": [],
   "source": [
    "df3.loc[df3['차량연식'] < 1991, 'e_fi'] = 0.7\n",
    "df3.loc[df3['차량연식'] >= 1991, 'e_fi'] = 0"
   ]
  },
  {
   "attachments": {},
   "cell_type": "markdown",
   "metadata": {},
   "source": [
    "### $e^{R,WARM}$ Warm running loss(g/km)\n",
    "- $e^{R,HOT}$ : 휘발유 차량의 평균 hot running loss 배출계수"
   ]
  },
  {
   "cell_type": "code",
   "execution_count": 140,
   "metadata": {},
   "outputs": [],
   "source": [
    "df3.loc[df3['차량연식'] < 1991, 'e_RWARM'] = 0.1 * np.exp(-5.967 + 0.04259 * RVP + 0.1773 * t_a)\n",
    "df3.loc[df3['차량연식'] >= 1991, 'e_RWARM'] = 0.1 * (0.1 * np.exp(-5.967 + 0.04259 * RVP + 0.1773 * t_a))"
   ]
  },
  {
   "cell_type": "code",
   "execution_count": 141,
   "metadata": {},
   "outputs": [
    {
     "data": {
      "text/plain": [
       "0"
      ]
     },
     "execution_count": 141,
     "metadata": {},
     "output_type": "execute_result"
    }
   ],
   "source": [
    "df3['e_RWARM'].isnull().sum()"
   ]
  },
  {
   "attachments": {},
   "cell_type": "markdown",
   "metadata": {},
   "source": [
    "## $R$\n",
    "$R = m_j(p \\times e^{R,HOT} + w \\times e^{R,WARM})$\n",
    "- Running loss에 의한 휘발유 차량의 연중 배출량(g/yr)\n",
    "- $m_j$ : 차종 j의 연간 총 주행거리\n",
    "- $p$ : 가열 엔진 상태로 끝나는 trip의 비율\n",
    "- $e^{R,HOT}$ : 휘발유 차량의 평균 hot running loss 배출계수\n",
    "- $w$ : 미가열 엔진 상태로 끝나는 trip의 비율\n",
    "- $e^{R,WARM}$ : 휘발유 차량의 평균 warm running loss 배출계수"
   ]
  },
  {
   "attachments": {},
   "cell_type": "markdown",
   "metadata": {},
   "source": [
    "### ❓ 확인 중\n",
    "- 수정 사항(2023.04.20, 최)\n",
    "    - 찾는 중"
   ]
  },
  {
   "cell_type": "code",
   "execution_count": 142,
   "metadata": {},
   "outputs": [],
   "source": [
    "p = 0.5 # 가열 엔진 상태로 끝나는 trip의 비율\n",
    "w = 0.5 # 미가열 엔진 상태로 끝나는 trip의 비율"
   ]
  },
  {
   "cell_type": "code",
   "execution_count": 143,
   "metadata": {},
   "outputs": [],
   "source": [
    "df3['R'] = df3['VKT'] * (p * df3['e_RHOT'] + w * df3['e_RWARM'])"
   ]
  },
  {
   "cell_type": "code",
   "execution_count": 144,
   "metadata": {},
   "outputs": [
    {
     "data": {
      "text/plain": [
       "0"
      ]
     },
     "execution_count": 144,
     "metadata": {},
     "output_type": "execute_result"
    }
   ],
   "source": [
    "df3['R'].isnull().sum()"
   ]
  },
  {
   "attachments": {},
   "cell_type": "markdown",
   "metadata": {},
   "source": [
    "## $S^{fi}$\n",
    "$S^{fi} = q \\times e^{fi} \\times x$\n",
    "- Fuel injection 휘발유 차량의 일중 hot and warm soak 배출량(g/day-대)\n",
    "- $q$ : Fuel injection 휘발유 차량의 비율\n",
    "- $e^{fi}$ : Fuel injection 휘발유 차량의 평균 hot and warm soak 배출계수\n",
    "- $x$ : 일평균 통행횟수 $= V_j / 365 \\times l_{trip}$\n",
    "- $V_j$ : 차종 j의 1대당 평균 연간 주행거리"
   ]
  },
  {
   "cell_type": "code",
   "execution_count": 145,
   "metadata": {},
   "outputs": [
    {
     "data": {
      "text/plain": [
       "0.986326388388244"
      ]
     },
     "execution_count": 145,
     "metadata": {},
     "output_type": "execute_result"
    }
   ],
   "source": [
    "not_injection = df3[(df3['연료'] == '휘발유') & (df3['차량연식'] < 1991)].shape[0]\n",
    "injection = df3[(df3['연료'] == '휘발유') & (df3['차량연식'] >= 1991)].shape[0]\n",
    "# Fuel injection 휘발유 차량의 비율\n",
    "q = injection / (injection + not_injection)\n",
    "q"
   ]
  },
  {
   "cell_type": "code",
   "execution_count": 146,
   "metadata": {},
   "outputs": [],
   "source": [
    "# x = df3['VKT'] / (365 * l_trip)\n",
    "df3['S_fi'] = q * df3['e_fi'] * ( df3['VKT'] / (365 * l_trip) )"
   ]
  },
  {
   "attachments": {},
   "cell_type": "markdown",
   "metadata": {},
   "source": [
    "## $S^c$\n",
    "$S^c = (1-q)(p \\times x \\times e^{S, HOT} + w \\times x \\times e^{S,WARM})$\n",
    "- Carburetor 휘발유 차량의 일중 hot and warm soak 배출량(g/day-대)\n",
    "- $q$ : Fuel injection 휘발유 차량의 비율\n",
    "- $p$ : 가열 엔진 상태로 끝나는 trip의 비율\n",
    "- $x$ : 일평균 통행횟수 $= V_j / 365 \\times l_{trip}$\n",
    "- $e^{S,HOT}$ : Hot soak emission의 평균 배출계수\n",
    "- $w$ : 미가열 엔진 상태료 끝나는 trip의 비율\n",
    "- $x$ : 일평균 통행횟수 $= V_j / 365 \\times l_{trip}$\n",
    "- $V_j$ : 차종 j의 1대당 평균 연간 주행거리\n",
    "- $e^{S,WARM}$ : Cold and warm soak emission의 평균 배출계수"
   ]
  },
  {
   "cell_type": "code",
   "execution_count": 147,
   "metadata": {},
   "outputs": [],
   "source": [
    "# x = df3['VKT'] / (365 * l_trip)\n",
    "df3['S_c'] = (1-q) * (p * (df3['VKT'] / (365 * l_trip)) * df3['e_SHOT'] + w * (df3['VKT'] / (365 * l_trip)) * df3['e_SWARM'])"
   ]
  },
  {
   "attachments": {},
   "cell_type": "markdown",
   "metadata": {},
   "source": [
    "## $E_{EVA,VOC}$\n",
    "$E_{EVA, VOC:j} = 365 \\times N_j \\times (e^d + S^c + S^{fi}) + R$\n",
    "- $N_j$ : 차종 j의 휘발유 사용 차량 등록대수(대)\n",
    "- $e^d$ : 금속탱크를 가지고 있는 휘발유 차량의 일중 VOC 배출량(g/day-대)\n",
    "- $S^c$ : Carburetor 휘발유 차량의 일중 hot and warm soak 배출량(g/day-대)\n",
    "- $S^{fi}$ : Fuel injection 휘발유 차량의 일중 hot and warm soak 배출량(g/day-대)\n",
    "- $R$ : Running loss에 의한 휘발유 차량의 연중 배출량(g/yr)"
   ]
  },
  {
   "cell_type": "code",
   "execution_count": 148,
   "metadata": {},
   "outputs": [],
   "source": [
    "df3['E_EVA_VOC'] = 365 * df3['e_d'] + df3['S_c'] + df3['S_fi'] + df3['R']"
   ]
  },
  {
   "cell_type": "code",
   "execution_count": 149,
   "metadata": {},
   "outputs": [
    {
     "data": {
      "text/plain": [
       "0"
      ]
     },
     "execution_count": 149,
     "metadata": {},
     "output_type": "execute_result"
    }
   ],
   "source": [
    "df3['E_EVA_VOC'].isnull().sum()"
   ]
  },
  {
   "attachments": {},
   "cell_type": "markdown",
   "metadata": {},
   "source": [
    "# 배출량 합계\n",
    "$E_{total}(kg) = E_{HOT}(kg) + E_{COLD}(g) + E_{EVAP}(g)$"
   ]
  },
  {
   "cell_type": "code",
   "execution_count": 150,
   "metadata": {},
   "outputs": [
    {
     "data": {
      "text/plain": [
       "(5589, 76)"
      ]
     },
     "execution_count": 150,
     "metadata": {},
     "output_type": "execute_result"
    }
   ],
   "source": [
    "df3[df3['E_COLD_NOx'] < 0].shape"
   ]
  },
  {
   "cell_type": "code",
   "execution_count": 151,
   "metadata": {},
   "outputs": [],
   "source": [
    "# E_COLD_NOx 음수 -> 0으로 처리(2023.04.24 from 최이사님)\n",
    "df3.loc[df3['E_COLD_NOx'] < 0, 'E_COLD_NOx'] = 0"
   ]
  },
  {
   "cell_type": "code",
   "execution_count": 152,
   "metadata": {},
   "outputs": [
    {
     "data": {
      "text/plain": [
       "(0, 76)"
      ]
     },
     "execution_count": 152,
     "metadata": {},
     "output_type": "execute_result"
    }
   ],
   "source": [
    "df3[df3['E_COLD_NOx'] < 0].shape"
   ]
  },
  {
   "cell_type": "code",
   "execution_count": 153,
   "metadata": {},
   "outputs": [
    {
     "data": {
      "text/plain": [
       "(['E_HOT_CO', 'E_HOT_HC', 'E_HOT_NOx', 'E_HOT_PM10', 'E_HOT_PM2_5'],\n",
       " ['E_COLD_CO', 'E_COLD_NOx', 'E_COLD_HC', 'E_COLD_PM10', 'E_COLD_PM2_5'])"
      ]
     },
     "execution_count": 153,
     "metadata": {},
     "output_type": "execute_result"
    }
   ],
   "source": [
    "check_E_HOT_col, check_E_cold_col"
   ]
  },
  {
   "cell_type": "code",
   "execution_count": 154,
   "metadata": {},
   "outputs": [
    {
     "data": {
      "text/plain": [
       "(0, 76)"
      ]
     },
     "execution_count": 154,
     "metadata": {},
     "output_type": "execute_result"
    }
   ],
   "source": [
    "df3.loc[(df3['연료'] == '휘발유') & (df3['E_COLD_PM10'] != 0)].shape"
   ]
  },
  {
   "cell_type": "code",
   "execution_count": 155,
   "metadata": {},
   "outputs": [
    {
     "data": {
      "text/plain": [
       "array(['경유', '휘발유', 'LPG(액화석유가스)'], dtype=object)"
      ]
     },
     "execution_count": 155,
     "metadata": {},
     "output_type": "execute_result"
    }
   ],
   "source": [
    "df3['연료'].unique()"
   ]
  },
  {
   "cell_type": "code",
   "execution_count": 156,
   "metadata": {},
   "outputs": [],
   "source": [
    "fuel = '휘발유'\n",
    "df3.loc[df3['연료'] == fuel, 'E_CO_total'] = df3.loc[df3['연료'] == fuel , 'E_HOT_CO'] + df3.loc[df3['연료'] == fuel , 'E_COLD_CO']/1000\n",
    "df3.loc[df3['연료'] == fuel, 'E_HC_total'] = df3.loc[df3['연료'] == fuel , 'E_HOT_HC'] + df3.loc[df3['연료'] == fuel , 'E_COLD_HC']/1000 + df3.loc[df3['연료'] == fuel , 'E_EVA_VOC']/1000\n",
    "df3.loc[df3['연료'] == fuel, 'E_NOx_total'] = df3.loc[df3['연료'] == fuel , 'E_HOT_NOx'] + df3.loc[df3['연료'] == fuel , 'E_COLD_NOx']/1000\n",
    "df3.loc[df3['연료'] == fuel, 'E_PM10_total'] = df3.loc[df3['연료'] == fuel , 'E_HOT_PM10'] + df3.loc[df3['연료'] == fuel , 'E_COLD_PM10']/1000\n",
    "df3.loc[df3['연료'] == fuel, 'E_PM2_5_total'] = df3.loc[df3['연료'] == fuel , 'E_HOT_PM2_5'] + df3.loc[df3['연료'] == fuel , 'E_COLD_PM2_5']/1000"
   ]
  },
  {
   "cell_type": "code",
   "execution_count": 157,
   "metadata": {},
   "outputs": [],
   "source": [
    "fuel = '경유'\n",
    "df3.loc[df3['연료'] == fuel, 'E_CO_total'] = df3.loc[df3['연료'] == fuel , 'E_HOT_CO'] + df3.loc[df3['연료'] == fuel , 'E_COLD_CO']/1000\n",
    "df3.loc[df3['연료'] == fuel, 'E_HC_total'] = df3.loc[df3['연료'] == fuel , 'E_HOT_HC'] + df3.loc[df3['연료'] == fuel , 'E_COLD_HC']/1000\n",
    "df3.loc[df3['연료'] == fuel, 'E_NOx_total'] = df3.loc[df3['연료'] == fuel , 'E_HOT_NOx'] + df3.loc[df3['연료'] == fuel , 'E_COLD_NOx']/1000\n",
    "df3.loc[df3['연료'] == fuel, 'E_PM10_total'] = df3.loc[df3['연료'] == fuel , 'E_HOT_PM10'] + df3.loc[df3['연료'] == fuel , 'E_COLD_PM10']/1000\n",
    "df3.loc[df3['연료'] == fuel, 'E_PM2_5_total'] = df3.loc[df3['연료'] == fuel , 'E_HOT_PM2_5'] + df3.loc[df3['연료'] == fuel , 'E_COLD_PM2_5']/1000"
   ]
  },
  {
   "cell_type": "code",
   "execution_count": 158,
   "metadata": {},
   "outputs": [],
   "source": [
    "fuel = 'LPG(액화석유가스)'\n",
    "df3.loc[df3['연료'] == fuel, 'E_CO_total'] = df3.loc[df3['연료'] == fuel , 'E_HOT_CO'] + df3.loc[df3['연료'] == fuel , 'E_COLD_CO']/1000\n",
    "df3.loc[df3['연료'] == fuel, 'E_HC_total'] = df3.loc[df3['연료'] == fuel , 'E_HOT_HC'] + df3.loc[df3['연료'] == fuel , 'E_COLD_HC']/1000\n",
    "df3.loc[df3['연료'] == fuel, 'E_NOx_total'] = df3.loc[df3['연료'] == fuel , 'E_HOT_NOx'] + df3.loc[df3['연료'] == fuel , 'E_COLD_NOx']/1000\n",
    "df3.loc[df3['연료'] == fuel, 'E_PM10_total'] = df3.loc[df3['연료'] == fuel , 'E_HOT_PM10'] + df3.loc[df3['연료'] == fuel , 'E_COLD_PM10']/1000\n",
    "df3.loc[df3['연료'] == fuel, 'E_PM2_5_total'] = df3.loc[df3['연료'] == fuel , 'E_HOT_PM2_5'] + df3.loc[df3['연료'] == fuel , 'E_COLD_PM2_5']/1000"
   ]
  },
  {
   "cell_type": "code",
   "execution_count": 159,
   "metadata": {},
   "outputs": [
    {
     "data": {
      "text/html": [
       "<div>\n",
       "<style scoped>\n",
       "    .dataframe tbody tr th:only-of-type {\n",
       "        vertical-align: middle;\n",
       "    }\n",
       "\n",
       "    .dataframe tbody tr th {\n",
       "        vertical-align: top;\n",
       "    }\n",
       "\n",
       "    .dataframe thead th {\n",
       "        text-align: right;\n",
       "    }\n",
       "</style>\n",
       "<table border=\"1\" class=\"dataframe\">\n",
       "  <thead>\n",
       "    <tr style=\"text-align: right;\">\n",
       "      <th></th>\n",
       "      <th>E_CO_total</th>\n",
       "      <th>E_HC_total</th>\n",
       "      <th>E_NOx_total</th>\n",
       "      <th>E_PM10_total</th>\n",
       "      <th>E_PM2_5_total</th>\n",
       "    </tr>\n",
       "  </thead>\n",
       "  <tbody>\n",
       "    <tr>\n",
       "      <th>0</th>\n",
       "      <td>0.60</td>\n",
       "      <td>0.12</td>\n",
       "      <td>20.99</td>\n",
       "      <td>0.24</td>\n",
       "      <td>0.22</td>\n",
       "    </tr>\n",
       "    <tr>\n",
       "      <th>1</th>\n",
       "      <td>0.37</td>\n",
       "      <td>0.25</td>\n",
       "      <td>26.54</td>\n",
       "      <td>0.95</td>\n",
       "      <td>0.87</td>\n",
       "    </tr>\n",
       "    <tr>\n",
       "      <th>2</th>\n",
       "      <td>0.59</td>\n",
       "      <td>0.14</td>\n",
       "      <td>21.89</td>\n",
       "      <td>0.23</td>\n",
       "      <td>0.21</td>\n",
       "    </tr>\n",
       "    <tr>\n",
       "      <th>3</th>\n",
       "      <td>0.45</td>\n",
       "      <td>0.30</td>\n",
       "      <td>31.49</td>\n",
       "      <td>1.17</td>\n",
       "      <td>1.07</td>\n",
       "    </tr>\n",
       "    <tr>\n",
       "      <th>4</th>\n",
       "      <td>0.33</td>\n",
       "      <td>0.22</td>\n",
       "      <td>22.67</td>\n",
       "      <td>0.85</td>\n",
       "      <td>0.79</td>\n",
       "    </tr>\n",
       "  </tbody>\n",
       "</table>\n",
       "</div>"
      ],
      "text/plain": [
       "   E_CO_total  E_HC_total  E_NOx_total  E_PM10_total  E_PM2_5_total\n",
       "0        0.60        0.12        20.99          0.24           0.22\n",
       "1        0.37        0.25        26.54          0.95           0.87\n",
       "2        0.59        0.14        21.89          0.23           0.21\n",
       "3        0.45        0.30        31.49          1.17           1.07\n",
       "4        0.33        0.22        22.67          0.85           0.79"
      ]
     },
     "execution_count": 159,
     "metadata": {},
     "output_type": "execute_result"
    }
   ],
   "source": [
    "check_E_col = ['E_CO_total', 'E_HC_total', 'E_NOx_total', 'E_PM10_total', 'E_PM2_5_total']\n",
    "df3[check_E_col].head()"
   ]
  },
  {
   "cell_type": "code",
   "execution_count": 160,
   "metadata": {},
   "outputs": [
    {
     "data": {
      "text/html": [
       "<div>\n",
       "<style scoped>\n",
       "    .dataframe tbody tr th:only-of-type {\n",
       "        vertical-align: middle;\n",
       "    }\n",
       "\n",
       "    .dataframe tbody tr th {\n",
       "        vertical-align: top;\n",
       "    }\n",
       "\n",
       "    .dataframe thead th {\n",
       "        text-align: right;\n",
       "    }\n",
       "</style>\n",
       "<table border=\"1\" class=\"dataframe\">\n",
       "  <thead>\n",
       "    <tr style=\"text-align: right;\">\n",
       "      <th></th>\n",
       "      <th>E_CO_total</th>\n",
       "      <th>E_HC_total</th>\n",
       "      <th>E_NOx_total</th>\n",
       "      <th>E_PM10_total</th>\n",
       "      <th>E_PM2_5_total</th>\n",
       "      <th>E_EVA_VOC</th>\n",
       "    </tr>\n",
       "  </thead>\n",
       "  <tbody>\n",
       "    <tr>\n",
       "      <th>7</th>\n",
       "      <td>58.13</td>\n",
       "      <td>9.79</td>\n",
       "      <td>11.38</td>\n",
       "      <td>0.01</td>\n",
       "      <td>0.01</td>\n",
       "      <td>2182.05</td>\n",
       "    </tr>\n",
       "    <tr>\n",
       "      <th>8</th>\n",
       "      <td>57.95</td>\n",
       "      <td>5.94</td>\n",
       "      <td>12.51</td>\n",
       "      <td>0.01</td>\n",
       "      <td>0.01</td>\n",
       "      <td>370.29</td>\n",
       "    </tr>\n",
       "    <tr>\n",
       "      <th>17</th>\n",
       "      <td>53.83</td>\n",
       "      <td>7.34</td>\n",
       "      <td>12.08</td>\n",
       "      <td>0.01</td>\n",
       "      <td>0.01</td>\n",
       "      <td>368.29</td>\n",
       "    </tr>\n",
       "    <tr>\n",
       "      <th>18</th>\n",
       "      <td>58.28</td>\n",
       "      <td>5.97</td>\n",
       "      <td>12.58</td>\n",
       "      <td>0.01</td>\n",
       "      <td>0.01</td>\n",
       "      <td>370.63</td>\n",
       "    </tr>\n",
       "    <tr>\n",
       "      <th>29</th>\n",
       "      <td>60.14</td>\n",
       "      <td>8.16</td>\n",
       "      <td>13.50</td>\n",
       "      <td>0.01</td>\n",
       "      <td>0.01</td>\n",
       "      <td>374.97</td>\n",
       "    </tr>\n",
       "  </tbody>\n",
       "</table>\n",
       "</div>"
      ],
      "text/plain": [
       "    E_CO_total  E_HC_total  E_NOx_total  E_PM10_total  E_PM2_5_total   \n",
       "7        58.13        9.79        11.38          0.01           0.01  \\\n",
       "8        57.95        5.94        12.51          0.01           0.01   \n",
       "17       53.83        7.34        12.08          0.01           0.01   \n",
       "18       58.28        5.97        12.58          0.01           0.01   \n",
       "29       60.14        8.16        13.50          0.01           0.01   \n",
       "\n",
       "    E_EVA_VOC  \n",
       "7     2182.05  \n",
       "8      370.29  \n",
       "17     368.29  \n",
       "18     370.63  \n",
       "29     374.97  "
      ]
     },
     "execution_count": 160,
     "metadata": {},
     "output_type": "execute_result"
    }
   ],
   "source": [
    "df3.loc[df3['연료'] == '휘발유', check_E_col + ['E_EVA_VOC']].head()"
   ]
  },
  {
   "cell_type": "code",
   "execution_count": 161,
   "metadata": {},
   "outputs": [
    {
     "data": {
      "text/html": [
       "<div>\n",
       "<style scoped>\n",
       "    .dataframe tbody tr th:only-of-type {\n",
       "        vertical-align: middle;\n",
       "    }\n",
       "\n",
       "    .dataframe tbody tr th {\n",
       "        vertical-align: top;\n",
       "    }\n",
       "\n",
       "    .dataframe thead th {\n",
       "        text-align: right;\n",
       "    }\n",
       "</style>\n",
       "<table border=\"1\" class=\"dataframe\">\n",
       "  <thead>\n",
       "    <tr style=\"text-align: right;\">\n",
       "      <th></th>\n",
       "      <th>E_CO_total</th>\n",
       "      <th>E_HC_total</th>\n",
       "      <th>E_NOx_total</th>\n",
       "      <th>E_PM10_total</th>\n",
       "      <th>E_PM2_5_total</th>\n",
       "    </tr>\n",
       "  </thead>\n",
       "  <tbody>\n",
       "    <tr>\n",
       "      <th>0</th>\n",
       "      <td>0.60</td>\n",
       "      <td>0.12</td>\n",
       "      <td>20.99</td>\n",
       "      <td>0.24</td>\n",
       "      <td>0.22</td>\n",
       "    </tr>\n",
       "    <tr>\n",
       "      <th>1</th>\n",
       "      <td>0.37</td>\n",
       "      <td>0.25</td>\n",
       "      <td>26.54</td>\n",
       "      <td>0.95</td>\n",
       "      <td>0.87</td>\n",
       "    </tr>\n",
       "    <tr>\n",
       "      <th>2</th>\n",
       "      <td>0.59</td>\n",
       "      <td>0.14</td>\n",
       "      <td>21.89</td>\n",
       "      <td>0.23</td>\n",
       "      <td>0.21</td>\n",
       "    </tr>\n",
       "    <tr>\n",
       "      <th>3</th>\n",
       "      <td>0.45</td>\n",
       "      <td>0.30</td>\n",
       "      <td>31.49</td>\n",
       "      <td>1.17</td>\n",
       "      <td>1.07</td>\n",
       "    </tr>\n",
       "    <tr>\n",
       "      <th>4</th>\n",
       "      <td>0.33</td>\n",
       "      <td>0.22</td>\n",
       "      <td>22.67</td>\n",
       "      <td>0.85</td>\n",
       "      <td>0.79</td>\n",
       "    </tr>\n",
       "  </tbody>\n",
       "</table>\n",
       "</div>"
      ],
      "text/plain": [
       "   E_CO_total  E_HC_total  E_NOx_total  E_PM10_total  E_PM2_5_total\n",
       "0        0.60        0.12        20.99          0.24           0.22\n",
       "1        0.37        0.25        26.54          0.95           0.87\n",
       "2        0.59        0.14        21.89          0.23           0.21\n",
       "3        0.45        0.30        31.49          1.17           1.07\n",
       "4        0.33        0.22        22.67          0.85           0.79"
      ]
     },
     "execution_count": 161,
     "metadata": {},
     "output_type": "execute_result"
    }
   ],
   "source": [
    "df3.loc[df3['연료'] == '경유', check_E_col].head()"
   ]
  },
  {
   "cell_type": "code",
   "execution_count": 162,
   "metadata": {},
   "outputs": [
    {
     "data": {
      "text/html": [
       "<div>\n",
       "<style scoped>\n",
       "    .dataframe tbody tr th:only-of-type {\n",
       "        vertical-align: middle;\n",
       "    }\n",
       "\n",
       "    .dataframe tbody tr th {\n",
       "        vertical-align: top;\n",
       "    }\n",
       "\n",
       "    .dataframe thead th {\n",
       "        text-align: right;\n",
       "    }\n",
       "</style>\n",
       "<table border=\"1\" class=\"dataframe\">\n",
       "  <thead>\n",
       "    <tr style=\"text-align: right;\">\n",
       "      <th></th>\n",
       "      <th>E_CO_total</th>\n",
       "      <th>E_HC_total</th>\n",
       "      <th>E_NOx_total</th>\n",
       "      <th>E_PM10_total</th>\n",
       "      <th>E_PM2_5_total</th>\n",
       "    </tr>\n",
       "  </thead>\n",
       "  <tbody>\n",
       "    <tr>\n",
       "      <th>71</th>\n",
       "      <td>47.69</td>\n",
       "      <td>3.20</td>\n",
       "      <td>4.76</td>\n",
       "      <td>0.01</td>\n",
       "      <td>0.01</td>\n",
       "    </tr>\n",
       "    <tr>\n",
       "      <th>73</th>\n",
       "      <td>45.34</td>\n",
       "      <td>1.44</td>\n",
       "      <td>13.25</td>\n",
       "      <td>0.01</td>\n",
       "      <td>0.01</td>\n",
       "    </tr>\n",
       "    <tr>\n",
       "      <th>131</th>\n",
       "      <td>57.79</td>\n",
       "      <td>3.88</td>\n",
       "      <td>5.76</td>\n",
       "      <td>0.01</td>\n",
       "      <td>0.01</td>\n",
       "    </tr>\n",
       "    <tr>\n",
       "      <th>138</th>\n",
       "      <td>51.27</td>\n",
       "      <td>3.44</td>\n",
       "      <td>5.11</td>\n",
       "      <td>0.01</td>\n",
       "      <td>0.01</td>\n",
       "    </tr>\n",
       "    <tr>\n",
       "      <th>145</th>\n",
       "      <td>63.07</td>\n",
       "      <td>2.97</td>\n",
       "      <td>10.53</td>\n",
       "      <td>0.01</td>\n",
       "      <td>0.00</td>\n",
       "    </tr>\n",
       "  </tbody>\n",
       "</table>\n",
       "</div>"
      ],
      "text/plain": [
       "     E_CO_total  E_HC_total  E_NOx_total  E_PM10_total  E_PM2_5_total\n",
       "71        47.69        3.20         4.76          0.01           0.01\n",
       "73        45.34        1.44        13.25          0.01           0.01\n",
       "131       57.79        3.88         5.76          0.01           0.01\n",
       "138       51.27        3.44         5.11          0.01           0.01\n",
       "145       63.07        2.97        10.53          0.01           0.00"
      ]
     },
     "execution_count": 162,
     "metadata": {},
     "output_type": "execute_result"
    }
   ],
   "source": [
    "df3.loc[df3['연료'] == 'LPG(액화석유가스)', check_E_col].head()"
   ]
  },
  {
   "cell_type": "code",
   "execution_count": 163,
   "metadata": {},
   "outputs": [
    {
     "data": {
      "text/html": [
       "<div>\n",
       "<style scoped>\n",
       "    .dataframe tbody tr th:only-of-type {\n",
       "        vertical-align: middle;\n",
       "    }\n",
       "\n",
       "    .dataframe tbody tr th {\n",
       "        vertical-align: top;\n",
       "    }\n",
       "\n",
       "    .dataframe thead th {\n",
       "        text-align: right;\n",
       "    }\n",
       "</style>\n",
       "<table border=\"1\" class=\"dataframe\">\n",
       "  <thead>\n",
       "    <tr style=\"text-align: right;\">\n",
       "      <th></th>\n",
       "      <th>연료</th>\n",
       "      <th>차종</th>\n",
       "      <th>차종유형</th>\n",
       "      <th>차량연식</th>\n",
       "      <th>차령</th>\n",
       "      <th>E_CO_total</th>\n",
       "      <th>E_HC_total</th>\n",
       "      <th>E_NOx_total</th>\n",
       "      <th>E_PM10_total</th>\n",
       "      <th>E_PM2_5_total</th>\n",
       "    </tr>\n",
       "  </thead>\n",
       "  <tbody>\n",
       "    <tr>\n",
       "      <th>0</th>\n",
       "      <td>경유</td>\n",
       "      <td>승용</td>\n",
       "      <td>소형</td>\n",
       "      <td>2007</td>\n",
       "      <td>16</td>\n",
       "      <td>0.60</td>\n",
       "      <td>0.12</td>\n",
       "      <td>20.99</td>\n",
       "      <td>0.24</td>\n",
       "      <td>0.22</td>\n",
       "    </tr>\n",
       "    <tr>\n",
       "      <th>2</th>\n",
       "      <td>경유</td>\n",
       "      <td>승용</td>\n",
       "      <td>중형</td>\n",
       "      <td>2008</td>\n",
       "      <td>15</td>\n",
       "      <td>0.59</td>\n",
       "      <td>0.14</td>\n",
       "      <td>21.89</td>\n",
       "      <td>0.23</td>\n",
       "      <td>0.21</td>\n",
       "    </tr>\n",
       "    <tr>\n",
       "      <th>5</th>\n",
       "      <td>경유</td>\n",
       "      <td>승용</td>\n",
       "      <td>중형</td>\n",
       "      <td>2007</td>\n",
       "      <td>16</td>\n",
       "      <td>0.58</td>\n",
       "      <td>0.14</td>\n",
       "      <td>21.77</td>\n",
       "      <td>0.23</td>\n",
       "      <td>0.21</td>\n",
       "    </tr>\n",
       "    <tr>\n",
       "      <th>9</th>\n",
       "      <td>경유</td>\n",
       "      <td>승용</td>\n",
       "      <td>소형</td>\n",
       "      <td>2007</td>\n",
       "      <td>16</td>\n",
       "      <td>0.64</td>\n",
       "      <td>0.13</td>\n",
       "      <td>22.25</td>\n",
       "      <td>0.25</td>\n",
       "      <td>0.23</td>\n",
       "    </tr>\n",
       "    <tr>\n",
       "      <th>10</th>\n",
       "      <td>경유</td>\n",
       "      <td>승용</td>\n",
       "      <td>중형</td>\n",
       "      <td>2008</td>\n",
       "      <td>15</td>\n",
       "      <td>0.60</td>\n",
       "      <td>0.14</td>\n",
       "      <td>22.31</td>\n",
       "      <td>0.24</td>\n",
       "      <td>0.22</td>\n",
       "    </tr>\n",
       "  </tbody>\n",
       "</table>\n",
       "</div>"
      ],
      "text/plain": [
       "    연료  차종 차종유형  차량연식  차령  E_CO_total  E_HC_total  E_NOx_total  E_PM10_total   \n",
       "0   경유  승용   소형  2007  16        0.60        0.12        20.99          0.24  \\\n",
       "2   경유  승용   중형  2008  15        0.59        0.14        21.89          0.23   \n",
       "5   경유  승용   중형  2007  16        0.58        0.14        21.77          0.23   \n",
       "9   경유  승용   소형  2007  16        0.64        0.13        22.25          0.25   \n",
       "10  경유  승용   중형  2008  15        0.60        0.14        22.31          0.24   \n",
       "\n",
       "    E_PM2_5_total  \n",
       "0            0.22  \n",
       "2            0.21  \n",
       "5            0.21  \n",
       "9            0.23  \n",
       "10           0.22  "
      ]
     },
     "execution_count": 163,
     "metadata": {},
     "output_type": "execute_result"
    }
   ],
   "source": [
    "df3.loc[(df3['연료'] == '경유') & (df3['차종'] == '승용'), DF_col + check_E_col].head()"
   ]
  },
  {
   "cell_type": "code",
   "execution_count": 164,
   "metadata": {},
   "outputs": [
    {
     "data": {
      "text/html": [
       "<div>\n",
       "<style scoped>\n",
       "    .dataframe tbody tr th:only-of-type {\n",
       "        vertical-align: middle;\n",
       "    }\n",
       "\n",
       "    .dataframe tbody tr th {\n",
       "        vertical-align: top;\n",
       "    }\n",
       "\n",
       "    .dataframe thead th {\n",
       "        text-align: right;\n",
       "    }\n",
       "</style>\n",
       "<table border=\"1\" class=\"dataframe\">\n",
       "  <thead>\n",
       "    <tr style=\"text-align: right;\">\n",
       "      <th></th>\n",
       "      <th>연료</th>\n",
       "      <th>차종</th>\n",
       "      <th>차종유형</th>\n",
       "      <th>차량연식</th>\n",
       "      <th>차령</th>\n",
       "      <th>E_CO_total</th>\n",
       "      <th>E_HC_total</th>\n",
       "      <th>E_NOx_total</th>\n",
       "      <th>E_PM10_total</th>\n",
       "      <th>E_PM2_5_total</th>\n",
       "    </tr>\n",
       "  </thead>\n",
       "  <tbody>\n",
       "    <tr>\n",
       "      <th>1</th>\n",
       "      <td>경유</td>\n",
       "      <td>화물</td>\n",
       "      <td>소형</td>\n",
       "      <td>2011</td>\n",
       "      <td>12</td>\n",
       "      <td>0.37</td>\n",
       "      <td>0.25</td>\n",
       "      <td>26.54</td>\n",
       "      <td>0.95</td>\n",
       "      <td>0.87</td>\n",
       "    </tr>\n",
       "    <tr>\n",
       "      <th>3</th>\n",
       "      <td>경유</td>\n",
       "      <td>화물</td>\n",
       "      <td>소형</td>\n",
       "      <td>2009</td>\n",
       "      <td>14</td>\n",
       "      <td>0.45</td>\n",
       "      <td>0.30</td>\n",
       "      <td>31.49</td>\n",
       "      <td>1.17</td>\n",
       "      <td>1.07</td>\n",
       "    </tr>\n",
       "    <tr>\n",
       "      <th>4</th>\n",
       "      <td>경유</td>\n",
       "      <td>화물</td>\n",
       "      <td>소형</td>\n",
       "      <td>2008</td>\n",
       "      <td>15</td>\n",
       "      <td>0.33</td>\n",
       "      <td>0.22</td>\n",
       "      <td>22.67</td>\n",
       "      <td>0.85</td>\n",
       "      <td>0.79</td>\n",
       "    </tr>\n",
       "    <tr>\n",
       "      <th>13</th>\n",
       "      <td>경유</td>\n",
       "      <td>화물</td>\n",
       "      <td>소형</td>\n",
       "      <td>2010</td>\n",
       "      <td>13</td>\n",
       "      <td>0.38</td>\n",
       "      <td>0.26</td>\n",
       "      <td>27.29</td>\n",
       "      <td>0.99</td>\n",
       "      <td>0.91</td>\n",
       "    </tr>\n",
       "    <tr>\n",
       "      <th>14</th>\n",
       "      <td>경유</td>\n",
       "      <td>화물</td>\n",
       "      <td>소형</td>\n",
       "      <td>2011</td>\n",
       "      <td>12</td>\n",
       "      <td>0.36</td>\n",
       "      <td>0.24</td>\n",
       "      <td>26.20</td>\n",
       "      <td>0.94</td>\n",
       "      <td>0.86</td>\n",
       "    </tr>\n",
       "  </tbody>\n",
       "</table>\n",
       "</div>"
      ],
      "text/plain": [
       "    연료  차종 차종유형  차량연식  차령  E_CO_total  E_HC_total  E_NOx_total  E_PM10_total   \n",
       "1   경유  화물   소형  2011  12        0.37        0.25        26.54          0.95  \\\n",
       "3   경유  화물   소형  2009  14        0.45        0.30        31.49          1.17   \n",
       "4   경유  화물   소형  2008  15        0.33        0.22        22.67          0.85   \n",
       "13  경유  화물   소형  2010  13        0.38        0.26        27.29          0.99   \n",
       "14  경유  화물   소형  2011  12        0.36        0.24        26.20          0.94   \n",
       "\n",
       "    E_PM2_5_total  \n",
       "1            0.87  \n",
       "3            1.07  \n",
       "4            0.79  \n",
       "13           0.91  \n",
       "14           0.86  "
      ]
     },
     "execution_count": 164,
     "metadata": {},
     "output_type": "execute_result"
    }
   ],
   "source": [
    "df3.loc[(df3['연료'] == '경유') & (df3['차종'] == '화물'), DF_col + check_E_col].head()"
   ]
  },
  {
   "cell_type": "code",
   "execution_count": 165,
   "metadata": {},
   "outputs": [
    {
     "data": {
      "text/html": [
       "<div>\n",
       "<style scoped>\n",
       "    .dataframe tbody tr th:only-of-type {\n",
       "        vertical-align: middle;\n",
       "    }\n",
       "\n",
       "    .dataframe tbody tr th {\n",
       "        vertical-align: top;\n",
       "    }\n",
       "\n",
       "    .dataframe thead th {\n",
       "        text-align: right;\n",
       "    }\n",
       "</style>\n",
       "<table border=\"1\" class=\"dataframe\">\n",
       "  <thead>\n",
       "    <tr style=\"text-align: right;\">\n",
       "      <th></th>\n",
       "      <th>연료</th>\n",
       "      <th>차종</th>\n",
       "      <th>차종유형</th>\n",
       "      <th>차량연식</th>\n",
       "      <th>차령</th>\n",
       "      <th>E_CO_total</th>\n",
       "      <th>E_HC_total</th>\n",
       "      <th>E_NOx_total</th>\n",
       "      <th>E_PM10_total</th>\n",
       "      <th>E_PM2_5_total</th>\n",
       "    </tr>\n",
       "  </thead>\n",
       "  <tbody>\n",
       "    <tr>\n",
       "      <th>7</th>\n",
       "      <td>휘발유</td>\n",
       "      <td>승용</td>\n",
       "      <td>중형</td>\n",
       "      <td>1989</td>\n",
       "      <td>34</td>\n",
       "      <td>58.13</td>\n",
       "      <td>9.79</td>\n",
       "      <td>11.38</td>\n",
       "      <td>0.01</td>\n",
       "      <td>0.01</td>\n",
       "    </tr>\n",
       "    <tr>\n",
       "      <th>8</th>\n",
       "      <td>휘발유</td>\n",
       "      <td>승용</td>\n",
       "      <td>중형</td>\n",
       "      <td>1999</td>\n",
       "      <td>24</td>\n",
       "      <td>57.95</td>\n",
       "      <td>5.94</td>\n",
       "      <td>12.51</td>\n",
       "      <td>0.01</td>\n",
       "      <td>0.01</td>\n",
       "    </tr>\n",
       "    <tr>\n",
       "      <th>17</th>\n",
       "      <td>휘발유</td>\n",
       "      <td>승용</td>\n",
       "      <td>소형</td>\n",
       "      <td>1996</td>\n",
       "      <td>27</td>\n",
       "      <td>53.83</td>\n",
       "      <td>7.34</td>\n",
       "      <td>12.08</td>\n",
       "      <td>0.01</td>\n",
       "      <td>0.01</td>\n",
       "    </tr>\n",
       "    <tr>\n",
       "      <th>18</th>\n",
       "      <td>휘발유</td>\n",
       "      <td>승용</td>\n",
       "      <td>중형</td>\n",
       "      <td>1998</td>\n",
       "      <td>25</td>\n",
       "      <td>58.28</td>\n",
       "      <td>5.97</td>\n",
       "      <td>12.58</td>\n",
       "      <td>0.01</td>\n",
       "      <td>0.01</td>\n",
       "    </tr>\n",
       "    <tr>\n",
       "      <th>29</th>\n",
       "      <td>휘발유</td>\n",
       "      <td>승용</td>\n",
       "      <td>소형</td>\n",
       "      <td>1996</td>\n",
       "      <td>27</td>\n",
       "      <td>60.14</td>\n",
       "      <td>8.16</td>\n",
       "      <td>13.50</td>\n",
       "      <td>0.01</td>\n",
       "      <td>0.01</td>\n",
       "    </tr>\n",
       "  </tbody>\n",
       "</table>\n",
       "</div>"
      ],
      "text/plain": [
       "     연료  차종 차종유형  차량연식  차령  E_CO_total  E_HC_total  E_NOx_total  E_PM10_total   \n",
       "7   휘발유  승용   중형  1989  34       58.13        9.79        11.38          0.01  \\\n",
       "8   휘발유  승용   중형  1999  24       57.95        5.94        12.51          0.01   \n",
       "17  휘발유  승용   소형  1996  27       53.83        7.34        12.08          0.01   \n",
       "18  휘발유  승용   중형  1998  25       58.28        5.97        12.58          0.01   \n",
       "29  휘발유  승용   소형  1996  27       60.14        8.16        13.50          0.01   \n",
       "\n",
       "    E_PM2_5_total  \n",
       "7            0.01  \n",
       "8            0.01  \n",
       "17           0.01  \n",
       "18           0.01  \n",
       "29           0.01  "
      ]
     },
     "execution_count": 165,
     "metadata": {},
     "output_type": "execute_result"
    }
   ],
   "source": [
    "df3.loc[(df3['연료'] == '휘발유') & (df3['차종'] == '승용'), DF_col + check_E_col].head()"
   ]
  },
  {
   "cell_type": "code",
   "execution_count": 166,
   "metadata": {},
   "outputs": [
    {
     "data": {
      "text/html": [
       "<div>\n",
       "<style scoped>\n",
       "    .dataframe tbody tr th:only-of-type {\n",
       "        vertical-align: middle;\n",
       "    }\n",
       "\n",
       "    .dataframe tbody tr th {\n",
       "        vertical-align: top;\n",
       "    }\n",
       "\n",
       "    .dataframe thead th {\n",
       "        text-align: right;\n",
       "    }\n",
       "</style>\n",
       "<table border=\"1\" class=\"dataframe\">\n",
       "  <thead>\n",
       "    <tr style=\"text-align: right;\">\n",
       "      <th></th>\n",
       "      <th>연료</th>\n",
       "      <th>차종</th>\n",
       "      <th>차종유형</th>\n",
       "      <th>차량연식</th>\n",
       "      <th>차령</th>\n",
       "      <th>E_CO_total</th>\n",
       "      <th>E_HC_total</th>\n",
       "      <th>E_NOx_total</th>\n",
       "      <th>E_PM10_total</th>\n",
       "      <th>E_PM2_5_total</th>\n",
       "    </tr>\n",
       "  </thead>\n",
       "  <tbody>\n",
       "    <tr>\n",
       "      <th>799</th>\n",
       "      <td>휘발유</td>\n",
       "      <td>화물</td>\n",
       "      <td>경형</td>\n",
       "      <td>1996</td>\n",
       "      <td>27</td>\n",
       "      <td>30.43</td>\n",
       "      <td>6.69</td>\n",
       "      <td>17.18</td>\n",
       "      <td>0.01</td>\n",
       "      <td>0.01</td>\n",
       "    </tr>\n",
       "    <tr>\n",
       "      <th>3155</th>\n",
       "      <td>휘발유</td>\n",
       "      <td>화물</td>\n",
       "      <td>소형</td>\n",
       "      <td>1994</td>\n",
       "      <td>29</td>\n",
       "      <td>42.91</td>\n",
       "      <td>3.65</td>\n",
       "      <td>13.47</td>\n",
       "      <td>0.01</td>\n",
       "      <td>0.01</td>\n",
       "    </tr>\n",
       "    <tr>\n",
       "      <th>3197</th>\n",
       "      <td>휘발유</td>\n",
       "      <td>화물</td>\n",
       "      <td>소형</td>\n",
       "      <td>1992</td>\n",
       "      <td>31</td>\n",
       "      <td>41.17</td>\n",
       "      <td>3.51</td>\n",
       "      <td>12.92</td>\n",
       "      <td>0.01</td>\n",
       "      <td>0.01</td>\n",
       "    </tr>\n",
       "    <tr>\n",
       "      <th>4490</th>\n",
       "      <td>휘발유</td>\n",
       "      <td>화물</td>\n",
       "      <td>소형</td>\n",
       "      <td>1991</td>\n",
       "      <td>32</td>\n",
       "      <td>25.70</td>\n",
       "      <td>2.31</td>\n",
       "      <td>8.07</td>\n",
       "      <td>0.01</td>\n",
       "      <td>0.01</td>\n",
       "    </tr>\n",
       "    <tr>\n",
       "      <th>4521</th>\n",
       "      <td>휘발유</td>\n",
       "      <td>화물</td>\n",
       "      <td>경형</td>\n",
       "      <td>1997</td>\n",
       "      <td>26</td>\n",
       "      <td>53.34</td>\n",
       "      <td>5.51</td>\n",
       "      <td>16.20</td>\n",
       "      <td>0.01</td>\n",
       "      <td>0.01</td>\n",
       "    </tr>\n",
       "  </tbody>\n",
       "</table>\n",
       "</div>"
      ],
      "text/plain": [
       "       연료  차종 차종유형  차량연식  차령  E_CO_total  E_HC_total  E_NOx_total   \n",
       "799   휘발유  화물   경형  1996  27       30.43        6.69        17.18  \\\n",
       "3155  휘발유  화물   소형  1994  29       42.91        3.65        13.47   \n",
       "3197  휘발유  화물   소형  1992  31       41.17        3.51        12.92   \n",
       "4490  휘발유  화물   소형  1991  32       25.70        2.31         8.07   \n",
       "4521  휘발유  화물   경형  1997  26       53.34        5.51        16.20   \n",
       "\n",
       "      E_PM10_total  E_PM2_5_total  \n",
       "799           0.01           0.01  \n",
       "3155          0.01           0.01  \n",
       "3197          0.01           0.01  \n",
       "4490          0.01           0.01  \n",
       "4521          0.01           0.01  "
      ]
     },
     "execution_count": 166,
     "metadata": {},
     "output_type": "execute_result"
    }
   ],
   "source": [
    "df3.loc[(df3['연료'] == '휘발유') & (df3['차종'] == '화물'), DF_col + check_E_col].head()"
   ]
  },
  {
   "attachments": {},
   "cell_type": "markdown",
   "metadata": {},
   "source": [
    "## issue\n",
    "- LPG : E_COLD_NOx 값 음수 -> 0으로 처리"
   ]
  },
  {
   "cell_type": "code",
   "execution_count": 167,
   "metadata": {},
   "outputs": [
    {
     "data": {
      "text/html": [
       "<div>\n",
       "<style scoped>\n",
       "    .dataframe tbody tr th:only-of-type {\n",
       "        vertical-align: middle;\n",
       "    }\n",
       "\n",
       "    .dataframe tbody tr th {\n",
       "        vertical-align: top;\n",
       "    }\n",
       "\n",
       "    .dataframe thead th {\n",
       "        text-align: right;\n",
       "    }\n",
       "</style>\n",
       "<table border=\"1\" class=\"dataframe\">\n",
       "  <thead>\n",
       "    <tr style=\"text-align: right;\">\n",
       "      <th></th>\n",
       "      <th>연료</th>\n",
       "      <th>차종</th>\n",
       "      <th>차종유형</th>\n",
       "      <th>차량연식</th>\n",
       "      <th>차령</th>\n",
       "      <th>E_HOT_CO</th>\n",
       "      <th>E_HOT_HC</th>\n",
       "      <th>E_HOT_NOx</th>\n",
       "      <th>E_HOT_PM10</th>\n",
       "      <th>E_HOT_PM2_5</th>\n",
       "      <th>E_COLD_CO</th>\n",
       "      <th>E_COLD_NOx</th>\n",
       "      <th>E_COLD_HC</th>\n",
       "      <th>E_COLD_PM10</th>\n",
       "      <th>E_COLD_PM2_5</th>\n",
       "      <th>E_CO_total</th>\n",
       "      <th>E_HC_total</th>\n",
       "      <th>E_NOx_total</th>\n",
       "      <th>E_PM10_total</th>\n",
       "      <th>E_PM2_5_total</th>\n",
       "    </tr>\n",
       "  </thead>\n",
       "  <tbody>\n",
       "    <tr>\n",
       "      <th>71</th>\n",
       "      <td>LPG(액화석유가스)</td>\n",
       "      <td>화물</td>\n",
       "      <td>경형</td>\n",
       "      <td>2002</td>\n",
       "      <td>21</td>\n",
       "      <td>47.69</td>\n",
       "      <td>3.20</td>\n",
       "      <td>4.76</td>\n",
       "      <td>0.01</td>\n",
       "      <td>0.01</td>\n",
       "      <td>0.00</td>\n",
       "      <td>0.00</td>\n",
       "      <td>0.00</td>\n",
       "      <td>0.00</td>\n",
       "      <td>0.00</td>\n",
       "      <td>47.69</td>\n",
       "      <td>3.20</td>\n",
       "      <td>4.76</td>\n",
       "      <td>0.01</td>\n",
       "      <td>0.01</td>\n",
       "    </tr>\n",
       "    <tr>\n",
       "      <th>73</th>\n",
       "      <td>LPG(액화석유가스)</td>\n",
       "      <td>화물</td>\n",
       "      <td>소형</td>\n",
       "      <td>2002</td>\n",
       "      <td>21</td>\n",
       "      <td>45.34</td>\n",
       "      <td>1.44</td>\n",
       "      <td>13.25</td>\n",
       "      <td>0.01</td>\n",
       "      <td>0.01</td>\n",
       "      <td>0.00</td>\n",
       "      <td>0.00</td>\n",
       "      <td>0.00</td>\n",
       "      <td>0.00</td>\n",
       "      <td>0.00</td>\n",
       "      <td>45.34</td>\n",
       "      <td>1.44</td>\n",
       "      <td>13.25</td>\n",
       "      <td>0.01</td>\n",
       "      <td>0.01</td>\n",
       "    </tr>\n",
       "    <tr>\n",
       "      <th>131</th>\n",
       "      <td>LPG(액화석유가스)</td>\n",
       "      <td>화물</td>\n",
       "      <td>경형</td>\n",
       "      <td>2002</td>\n",
       "      <td>21</td>\n",
       "      <td>57.79</td>\n",
       "      <td>3.88</td>\n",
       "      <td>5.76</td>\n",
       "      <td>0.01</td>\n",
       "      <td>0.01</td>\n",
       "      <td>0.00</td>\n",
       "      <td>0.00</td>\n",
       "      <td>0.00</td>\n",
       "      <td>0.00</td>\n",
       "      <td>0.00</td>\n",
       "      <td>57.79</td>\n",
       "      <td>3.88</td>\n",
       "      <td>5.76</td>\n",
       "      <td>0.01</td>\n",
       "      <td>0.01</td>\n",
       "    </tr>\n",
       "    <tr>\n",
       "      <th>138</th>\n",
       "      <td>LPG(액화석유가스)</td>\n",
       "      <td>화물</td>\n",
       "      <td>경형</td>\n",
       "      <td>2000</td>\n",
       "      <td>23</td>\n",
       "      <td>51.27</td>\n",
       "      <td>3.44</td>\n",
       "      <td>5.11</td>\n",
       "      <td>0.01</td>\n",
       "      <td>0.01</td>\n",
       "      <td>0.00</td>\n",
       "      <td>0.00</td>\n",
       "      <td>0.00</td>\n",
       "      <td>0.00</td>\n",
       "      <td>0.00</td>\n",
       "      <td>51.27</td>\n",
       "      <td>3.44</td>\n",
       "      <td>5.11</td>\n",
       "      <td>0.01</td>\n",
       "      <td>0.01</td>\n",
       "    </tr>\n",
       "    <tr>\n",
       "      <th>145</th>\n",
       "      <td>LPG(액화석유가스)</td>\n",
       "      <td>승용</td>\n",
       "      <td>중형</td>\n",
       "      <td>1999</td>\n",
       "      <td>24</td>\n",
       "      <td>51.98</td>\n",
       "      <td>2.78</td>\n",
       "      <td>10.53</td>\n",
       "      <td>0.01</td>\n",
       "      <td>0.00</td>\n",
       "      <td>11092.07</td>\n",
       "      <td>0.00</td>\n",
       "      <td>190.44</td>\n",
       "      <td>0.00</td>\n",
       "      <td>0.00</td>\n",
       "      <td>63.07</td>\n",
       "      <td>2.97</td>\n",
       "      <td>10.53</td>\n",
       "      <td>0.01</td>\n",
       "      <td>0.00</td>\n",
       "    </tr>\n",
       "  </tbody>\n",
       "</table>\n",
       "</div>"
      ],
      "text/plain": [
       "              연료  차종 차종유형  차량연식  차령  E_HOT_CO  E_HOT_HC  E_HOT_NOx   \n",
       "71   LPG(액화석유가스)  화물   경형  2002  21     47.69      3.20       4.76  \\\n",
       "73   LPG(액화석유가스)  화물   소형  2002  21     45.34      1.44      13.25   \n",
       "131  LPG(액화석유가스)  화물   경형  2002  21     57.79      3.88       5.76   \n",
       "138  LPG(액화석유가스)  화물   경형  2000  23     51.27      3.44       5.11   \n",
       "145  LPG(액화석유가스)  승용   중형  1999  24     51.98      2.78      10.53   \n",
       "\n",
       "     E_HOT_PM10  E_HOT_PM2_5  E_COLD_CO  E_COLD_NOx  E_COLD_HC  E_COLD_PM10   \n",
       "71         0.01         0.01       0.00        0.00       0.00         0.00  \\\n",
       "73         0.01         0.01       0.00        0.00       0.00         0.00   \n",
       "131        0.01         0.01       0.00        0.00       0.00         0.00   \n",
       "138        0.01         0.01       0.00        0.00       0.00         0.00   \n",
       "145        0.01         0.00   11092.07        0.00     190.44         0.00   \n",
       "\n",
       "     E_COLD_PM2_5  E_CO_total  E_HC_total  E_NOx_total  E_PM10_total   \n",
       "71           0.00       47.69        3.20         4.76          0.01  \\\n",
       "73           0.00       45.34        1.44        13.25          0.01   \n",
       "131          0.00       57.79        3.88         5.76          0.01   \n",
       "138          0.00       51.27        3.44         5.11          0.01   \n",
       "145          0.00       63.07        2.97        10.53          0.01   \n",
       "\n",
       "     E_PM2_5_total  \n",
       "71            0.01  \n",
       "73            0.01  \n",
       "131           0.01  \n",
       "138           0.01  \n",
       "145           0.00  "
      ]
     },
     "execution_count": 167,
     "metadata": {},
     "output_type": "execute_result"
    }
   ],
   "source": [
    "df3.loc[df3['연료'] == 'LPG(액화석유가스)', DF_col + check_E_HOT_col + check_E_cold_col + check_E_col].head()"
   ]
  },
  {
   "cell_type": "code",
   "execution_count": 168,
   "metadata": {},
   "outputs": [
    {
     "data": {
      "text/html": [
       "<div>\n",
       "<style scoped>\n",
       "    .dataframe tbody tr th:only-of-type {\n",
       "        vertical-align: middle;\n",
       "    }\n",
       "\n",
       "    .dataframe tbody tr th {\n",
       "        vertical-align: top;\n",
       "    }\n",
       "\n",
       "    .dataframe thead th {\n",
       "        text-align: right;\n",
       "    }\n",
       "</style>\n",
       "<table border=\"1\" class=\"dataframe\">\n",
       "  <thead>\n",
       "    <tr style=\"text-align: right;\">\n",
       "      <th></th>\n",
       "      <th>연료</th>\n",
       "      <th>차종</th>\n",
       "      <th>차종유형</th>\n",
       "      <th>차량연식</th>\n",
       "      <th>차령</th>\n",
       "      <th>E_COLD_CO</th>\n",
       "      <th>E_COLD_NOx</th>\n",
       "      <th>E_COLD_HC</th>\n",
       "      <th>E_COLD_PM10</th>\n",
       "      <th>E_COLD_PM2_5</th>\n",
       "      <th>E_CO_total</th>\n",
       "      <th>E_HC_total</th>\n",
       "      <th>E_NOx_total</th>\n",
       "      <th>E_PM10_total</th>\n",
       "      <th>E_PM2_5_total</th>\n",
       "    </tr>\n",
       "  </thead>\n",
       "  <tbody>\n",
       "    <tr>\n",
       "      <th>71</th>\n",
       "      <td>LPG(액화석유가스)</td>\n",
       "      <td>화물</td>\n",
       "      <td>경형</td>\n",
       "      <td>2002</td>\n",
       "      <td>21</td>\n",
       "      <td>0.00</td>\n",
       "      <td>0.00</td>\n",
       "      <td>0.00</td>\n",
       "      <td>0.00</td>\n",
       "      <td>0.00</td>\n",
       "      <td>47.69</td>\n",
       "      <td>3.20</td>\n",
       "      <td>4.76</td>\n",
       "      <td>0.01</td>\n",
       "      <td>0.01</td>\n",
       "    </tr>\n",
       "    <tr>\n",
       "      <th>73</th>\n",
       "      <td>LPG(액화석유가스)</td>\n",
       "      <td>화물</td>\n",
       "      <td>소형</td>\n",
       "      <td>2002</td>\n",
       "      <td>21</td>\n",
       "      <td>0.00</td>\n",
       "      <td>0.00</td>\n",
       "      <td>0.00</td>\n",
       "      <td>0.00</td>\n",
       "      <td>0.00</td>\n",
       "      <td>45.34</td>\n",
       "      <td>1.44</td>\n",
       "      <td>13.25</td>\n",
       "      <td>0.01</td>\n",
       "      <td>0.01</td>\n",
       "    </tr>\n",
       "    <tr>\n",
       "      <th>131</th>\n",
       "      <td>LPG(액화석유가스)</td>\n",
       "      <td>화물</td>\n",
       "      <td>경형</td>\n",
       "      <td>2002</td>\n",
       "      <td>21</td>\n",
       "      <td>0.00</td>\n",
       "      <td>0.00</td>\n",
       "      <td>0.00</td>\n",
       "      <td>0.00</td>\n",
       "      <td>0.00</td>\n",
       "      <td>57.79</td>\n",
       "      <td>3.88</td>\n",
       "      <td>5.76</td>\n",
       "      <td>0.01</td>\n",
       "      <td>0.01</td>\n",
       "    </tr>\n",
       "    <tr>\n",
       "      <th>138</th>\n",
       "      <td>LPG(액화석유가스)</td>\n",
       "      <td>화물</td>\n",
       "      <td>경형</td>\n",
       "      <td>2000</td>\n",
       "      <td>23</td>\n",
       "      <td>0.00</td>\n",
       "      <td>0.00</td>\n",
       "      <td>0.00</td>\n",
       "      <td>0.00</td>\n",
       "      <td>0.00</td>\n",
       "      <td>51.27</td>\n",
       "      <td>3.44</td>\n",
       "      <td>5.11</td>\n",
       "      <td>0.01</td>\n",
       "      <td>0.01</td>\n",
       "    </tr>\n",
       "    <tr>\n",
       "      <th>145</th>\n",
       "      <td>LPG(액화석유가스)</td>\n",
       "      <td>승용</td>\n",
       "      <td>중형</td>\n",
       "      <td>1999</td>\n",
       "      <td>24</td>\n",
       "      <td>11092.07</td>\n",
       "      <td>0.00</td>\n",
       "      <td>190.44</td>\n",
       "      <td>0.00</td>\n",
       "      <td>0.00</td>\n",
       "      <td>63.07</td>\n",
       "      <td>2.97</td>\n",
       "      <td>10.53</td>\n",
       "      <td>0.01</td>\n",
       "      <td>0.00</td>\n",
       "    </tr>\n",
       "  </tbody>\n",
       "</table>\n",
       "</div>"
      ],
      "text/plain": [
       "              연료  차종 차종유형  차량연식  차령  E_COLD_CO  E_COLD_NOx  E_COLD_HC   \n",
       "71   LPG(액화석유가스)  화물   경형  2002  21       0.00        0.00       0.00  \\\n",
       "73   LPG(액화석유가스)  화물   소형  2002  21       0.00        0.00       0.00   \n",
       "131  LPG(액화석유가스)  화물   경형  2002  21       0.00        0.00       0.00   \n",
       "138  LPG(액화석유가스)  화물   경형  2000  23       0.00        0.00       0.00   \n",
       "145  LPG(액화석유가스)  승용   중형  1999  24   11092.07        0.00     190.44   \n",
       "\n",
       "     E_COLD_PM10  E_COLD_PM2_5  E_CO_total  E_HC_total  E_NOx_total   \n",
       "71          0.00          0.00       47.69        3.20         4.76  \\\n",
       "73          0.00          0.00       45.34        1.44        13.25   \n",
       "131         0.00          0.00       57.79        3.88         5.76   \n",
       "138         0.00          0.00       51.27        3.44         5.11   \n",
       "145         0.00          0.00       63.07        2.97        10.53   \n",
       "\n",
       "     E_PM10_total  E_PM2_5_total  \n",
       "71           0.01           0.01  \n",
       "73           0.01           0.01  \n",
       "131          0.01           0.01  \n",
       "138          0.01           0.01  \n",
       "145          0.01           0.00  "
      ]
     },
     "execution_count": 168,
     "metadata": {},
     "output_type": "execute_result"
    }
   ],
   "source": [
    "df3.loc[df3['연료'] == 'LPG(액화석유가스)', DF_col + check_E_cold_col + check_E_col].head()"
   ]
  },
  {
   "cell_type": "code",
   "execution_count": 169,
   "metadata": {},
   "outputs": [
    {
     "data": {
      "text/plain": [
       "Index(['차량관리번호', '본거지법정동코드', '차종', '차대번호', '최초등록일자', '차량연식', '제원관리번호',\n",
       "       '배출가스인증번호', '배출가스등급', '차량말소YN_등록정보', '차명', '차종유형', '제작사명', '연료', '등급',\n",
       "       '차량말소YN_변경이력', '변경일자', '변경구분코드', '법정동코드', '시도', '시구군', '읍면동', '리',\n",
       "       '지역3', '폐지여부', '대기관리권역', '대기관리권역YN', '저감장치', '변경일자_년', '변경일자_월',\n",
       "       '변경일자_일', '변경일자_년_월', '차령', '시구군_수정', '시도명', '시군구명', '1일평균주행거리', 'VKT',\n",
       "       'DF_CO', 'DF_HC', 'DF_PM', 'DF_NOx', 'DPF유무_수정', 'R_CO', 'R_HC', 'R_PM',\n",
       "       'EFi_CO', 'EFi_HC', 'EFi_NOx', 'EFi_PM10', 'EFi_PM2_5', 'E_HOT_CO',\n",
       "       'E_HOT_HC', 'E_HOT_NOx', 'E_HOT_PM10', 'E_HOT_PM2_5', 'Beta(Estimated)',\n",
       "       'eCOLD/eHOT_CO', 'eCOLD/eHOT_NOx', 'eCOLD/eHOT_HC', 'eCOLD/eHOT_PM',\n",
       "       'E_COLD_CO', 'E_COLD_NOx', 'E_COLD_HC', 'E_COLD_PM10', 'E_COLD_PM2_5',\n",
       "       'e_d', 'e_RHOT', 'e_SHOT', 'e_SWARM', 'e_fi', 'e_RWARM', 'R', 'S_fi',\n",
       "       'S_c', 'E_EVA_VOC', 'E_CO_total', 'E_HC_total', 'E_NOx_total',\n",
       "       'E_PM10_total', 'E_PM2_5_total'],\n",
       "      dtype='object')"
      ]
     },
     "execution_count": 169,
     "metadata": {},
     "output_type": "execute_result"
    }
   ],
   "source": [
    "df3.columns"
   ]
  },
  {
   "cell_type": "code",
   "execution_count": 170,
   "metadata": {},
   "outputs": [
    {
     "data": {
      "text/plain": [
       "dtype('float64')"
      ]
     },
     "execution_count": 170,
     "metadata": {},
     "output_type": "execute_result"
    }
   ],
   "source": [
    "df3['E_COLD_CO'].dtype"
   ]
  },
  {
   "cell_type": "code",
   "execution_count": 171,
   "metadata": {},
   "outputs": [
    {
     "data": {
      "text/plain": [
       "(0, 81)"
      ]
     },
     "execution_count": 171,
     "metadata": {},
     "output_type": "execute_result"
    }
   ],
   "source": [
    "df3.loc[df3['E_CO_total'] < 0].shape"
   ]
  },
  {
   "cell_type": "code",
   "execution_count": 172,
   "metadata": {},
   "outputs": [
    {
     "data": {
      "text/plain": [
       "(0, 81)"
      ]
     },
     "execution_count": 172,
     "metadata": {},
     "output_type": "execute_result"
    }
   ],
   "source": [
    "df3.loc[df3['E_HC_total'] < 0].shape"
   ]
  },
  {
   "cell_type": "code",
   "execution_count": 173,
   "metadata": {},
   "outputs": [
    {
     "data": {
      "text/plain": [
       "(0, 81)"
      ]
     },
     "execution_count": 173,
     "metadata": {},
     "output_type": "execute_result"
    }
   ],
   "source": [
    "df3.loc[df3['E_PM10_total'] < 0].shape"
   ]
  },
  {
   "cell_type": "code",
   "execution_count": 174,
   "metadata": {},
   "outputs": [
    {
     "data": {
      "text/plain": [
       "(0, 81)"
      ]
     },
     "execution_count": 174,
     "metadata": {},
     "output_type": "execute_result"
    }
   ],
   "source": [
    "df3.loc[df3['E_PM2_5_total'] < 0].shape"
   ]
  },
  {
   "cell_type": "code",
   "execution_count": 175,
   "metadata": {},
   "outputs": [
    {
     "data": {
      "text/plain": [
       "(0, 2)"
      ]
     },
     "execution_count": 175,
     "metadata": {},
     "output_type": "execute_result"
    }
   ],
   "source": [
    "df3.loc[df3['E_NOx_total'] < 0, ['E_NOx_total', 'E_COLD_NOx']].shape"
   ]
  },
  {
   "attachments": {},
   "cell_type": "markdown",
   "metadata": {},
   "source": [
    "## [출력] 배출량\n",
    "- 연료 : 휘발유, 경유, LPG(액화석유가스)\n",
    "- 물질 : CO, HC, NOx, PM10, PM2.5"
   ]
  },
  {
   "cell_type": "code",
   "execution_count": 176,
   "metadata": {},
   "outputs": [
    {
     "data": {
      "text/plain": [
       "Index(['차량관리번호', '본거지법정동코드', '차종', '차대번호', '최초등록일자', '차량연식', '제원관리번호',\n",
       "       '배출가스인증번호', '배출가스등급', '차량말소YN_등록정보', '차명', '차종유형', '제작사명', '연료', '등급',\n",
       "       '차량말소YN_변경이력', '변경일자', '변경구분코드', '법정동코드', '시도', '시구군', '읍면동', '리',\n",
       "       '지역3', '폐지여부', '대기관리권역', '대기관리권역YN', '저감장치', '변경일자_년', '변경일자_월',\n",
       "       '변경일자_일', '변경일자_년_월', '차령', '시구군_수정', '시도명', '시군구명', '1일평균주행거리', 'VKT',\n",
       "       'DF_CO', 'DF_HC', 'DF_PM', 'DF_NOx', 'DPF유무_수정', 'R_CO', 'R_HC', 'R_PM',\n",
       "       'EFi_CO', 'EFi_HC', 'EFi_NOx', 'EFi_PM10', 'EFi_PM2_5', 'E_HOT_CO',\n",
       "       'E_HOT_HC', 'E_HOT_NOx', 'E_HOT_PM10', 'E_HOT_PM2_5', 'Beta(Estimated)',\n",
       "       'eCOLD/eHOT_CO', 'eCOLD/eHOT_NOx', 'eCOLD/eHOT_HC', 'eCOLD/eHOT_PM',\n",
       "       'E_COLD_CO', 'E_COLD_NOx', 'E_COLD_HC', 'E_COLD_PM10', 'E_COLD_PM2_5',\n",
       "       'e_d', 'e_RHOT', 'e_SHOT', 'e_SWARM', 'e_fi', 'e_RWARM', 'R', 'S_fi',\n",
       "       'S_c', 'E_EVA_VOC', 'E_CO_total', 'E_HC_total', 'E_NOx_total',\n",
       "       'E_PM10_total', 'E_PM2_5_total'],\n",
       "      dtype='object')"
      ]
     },
     "execution_count": 176,
     "metadata": {},
     "output_type": "execute_result"
    }
   ],
   "source": [
    "df3.columns"
   ]
  },
  {
   "cell_type": "code",
   "execution_count": 177,
   "metadata": {},
   "outputs": [
    {
     "data": {
      "text/plain": [
       "(54713, 81)"
      ]
     },
     "execution_count": 177,
     "metadata": {},
     "output_type": "execute_result"
    }
   ],
   "source": [
    "df3.loc[df3['변경일자_년'] == 2022].shape"
   ]
  },
  {
   "cell_type": "code",
   "execution_count": 178,
   "metadata": {},
   "outputs": [
    {
     "data": {
      "text/plain": [
       "(366911, 81)"
      ]
     },
     "execution_count": 178,
     "metadata": {},
     "output_type": "execute_result"
    }
   ],
   "source": [
    "df3.shape"
   ]
  },
  {
   "cell_type": "code",
   "execution_count": 179,
   "metadata": {},
   "outputs": [
    {
     "data": {
      "text/plain": [
       "Series([], Name: 시구군_수정, dtype: object)"
      ]
     },
     "execution_count": 179,
     "metadata": {},
     "output_type": "execute_result"
    }
   ],
   "source": [
    "df3.loc[df3['시구군_수정'].str.split(' ').str.len() != 1, '시구군_수정'].head()"
   ]
  },
  {
   "attachments": {},
   "cell_type": "markdown",
   "metadata": {},
   "source": [
    "# 연료/시도 별 배출량 합계"
   ]
  },
  {
   "cell_type": "code",
   "execution_count": 181,
   "metadata": {},
   "outputs": [
    {
     "data": {
      "text/html": [
       "<div>\n",
       "<style scoped>\n",
       "    .dataframe tbody tr th:only-of-type {\n",
       "        vertical-align: middle;\n",
       "    }\n",
       "\n",
       "    .dataframe tbody tr th {\n",
       "        vertical-align: top;\n",
       "    }\n",
       "\n",
       "    .dataframe thead th {\n",
       "        text-align: right;\n",
       "    }\n",
       "</style>\n",
       "<table border=\"1\" class=\"dataframe\">\n",
       "  <thead>\n",
       "    <tr style=\"text-align: right;\">\n",
       "      <th></th>\n",
       "      <th>시도명</th>\n",
       "      <th>시구군_수정</th>\n",
       "      <th>E_CO_total</th>\n",
       "      <th>E_HC_total</th>\n",
       "      <th>E_NOx_total</th>\n",
       "      <th>E_PM10_total</th>\n",
       "      <th>E_PM2_5_total</th>\n",
       "    </tr>\n",
       "  </thead>\n",
       "  <tbody>\n",
       "    <tr>\n",
       "      <th>0</th>\n",
       "      <td>강원도</td>\n",
       "      <td>강릉시</td>\n",
       "      <td>3778.51</td>\n",
       "      <td>496.55</td>\n",
       "      <td>7421.41</td>\n",
       "      <td>86.38</td>\n",
       "      <td>79.47</td>\n",
       "    </tr>\n",
       "    <tr>\n",
       "      <th>1</th>\n",
       "      <td>강원도</td>\n",
       "      <td>고성군</td>\n",
       "      <td>437.55</td>\n",
       "      <td>71.07</td>\n",
       "      <td>1257.71</td>\n",
       "      <td>15.83</td>\n",
       "      <td>14.57</td>\n",
       "    </tr>\n",
       "    <tr>\n",
       "      <th>2</th>\n",
       "      <td>강원도</td>\n",
       "      <td>동해시</td>\n",
       "      <td>1406.44</td>\n",
       "      <td>215.86</td>\n",
       "      <td>2445.46</td>\n",
       "      <td>25.94</td>\n",
       "      <td>23.87</td>\n",
       "    </tr>\n",
       "    <tr>\n",
       "      <th>3</th>\n",
       "      <td>강원도</td>\n",
       "      <td>삼척시</td>\n",
       "      <td>1180.81</td>\n",
       "      <td>147.17</td>\n",
       "      <td>2291.10</td>\n",
       "      <td>21.99</td>\n",
       "      <td>20.23</td>\n",
       "    </tr>\n",
       "    <tr>\n",
       "      <th>4</th>\n",
       "      <td>강원도</td>\n",
       "      <td>속초시</td>\n",
       "      <td>2279.82</td>\n",
       "      <td>289.90</td>\n",
       "      <td>2690.70</td>\n",
       "      <td>26.95</td>\n",
       "      <td>24.80</td>\n",
       "    </tr>\n",
       "    <tr>\n",
       "      <th>...</th>\n",
       "      <td>...</td>\n",
       "      <td>...</td>\n",
       "      <td>...</td>\n",
       "      <td>...</td>\n",
       "      <td>...</td>\n",
       "      <td>...</td>\n",
       "      <td>...</td>\n",
       "    </tr>\n",
       "    <tr>\n",
       "      <th>248</th>\n",
       "      <td>충청북도</td>\n",
       "      <td>제천시</td>\n",
       "      <td>1791.66</td>\n",
       "      <td>254.25</td>\n",
       "      <td>5450.80</td>\n",
       "      <td>73.99</td>\n",
       "      <td>68.07</td>\n",
       "    </tr>\n",
       "    <tr>\n",
       "      <th>249</th>\n",
       "      <td>충청북도</td>\n",
       "      <td>증평군</td>\n",
       "      <td>312.84</td>\n",
       "      <td>37.86</td>\n",
       "      <td>1234.00</td>\n",
       "      <td>15.17</td>\n",
       "      <td>13.96</td>\n",
       "    </tr>\n",
       "    <tr>\n",
       "      <th>250</th>\n",
       "      <td>충청북도</td>\n",
       "      <td>진천군</td>\n",
       "      <td>962.14</td>\n",
       "      <td>129.12</td>\n",
       "      <td>3756.23</td>\n",
       "      <td>48.42</td>\n",
       "      <td>44.55</td>\n",
       "    </tr>\n",
       "    <tr>\n",
       "      <th>251</th>\n",
       "      <td>충청북도</td>\n",
       "      <td>청주시</td>\n",
       "      <td>12245.25</td>\n",
       "      <td>1599.39</td>\n",
       "      <td>31098.21</td>\n",
       "      <td>357.13</td>\n",
       "      <td>328.56</td>\n",
       "    </tr>\n",
       "    <tr>\n",
       "      <th>252</th>\n",
       "      <td>충청북도</td>\n",
       "      <td>충주시</td>\n",
       "      <td>2840.61</td>\n",
       "      <td>387.13</td>\n",
       "      <td>8764.13</td>\n",
       "      <td>118.17</td>\n",
       "      <td>108.71</td>\n",
       "    </tr>\n",
       "  </tbody>\n",
       "</table>\n",
       "<p>253 rows × 7 columns</p>\n",
       "</div>"
      ],
      "text/plain": [
       "      시도명 시구군_수정  E_CO_total  E_HC_total  E_NOx_total  E_PM10_total   \n",
       "0     강원도    강릉시     3778.51      496.55      7421.41         86.38  \\\n",
       "1     강원도    고성군      437.55       71.07      1257.71         15.83   \n",
       "2     강원도    동해시     1406.44      215.86      2445.46         25.94   \n",
       "3     강원도    삼척시     1180.81      147.17      2291.10         21.99   \n",
       "4     강원도    속초시     2279.82      289.90      2690.70         26.95   \n",
       "..    ...    ...         ...         ...          ...           ...   \n",
       "248  충청북도    제천시     1791.66      254.25      5450.80         73.99   \n",
       "249  충청북도    증평군      312.84       37.86      1234.00         15.17   \n",
       "250  충청북도    진천군      962.14      129.12      3756.23         48.42   \n",
       "251  충청북도    청주시    12245.25     1599.39     31098.21        357.13   \n",
       "252  충청북도    충주시     2840.61      387.13      8764.13        118.17   \n",
       "\n",
       "     E_PM2_5_total  \n",
       "0            79.47  \n",
       "1            14.57  \n",
       "2            23.87  \n",
       "3            20.23  \n",
       "4            24.80  \n",
       "..             ...  \n",
       "248          68.07  \n",
       "249          13.96  \n",
       "250          44.55  \n",
       "251         328.56  \n",
       "252         108.71  \n",
       "\n",
       "[253 rows x 7 columns]"
      ]
     },
     "execution_count": 181,
     "metadata": {},
     "output_type": "execute_result"
    }
   ],
   "source": [
    "grp = df3.loc[df3['변경일자_년'] == 2022].groupby(['시도명', '시구군_수정']).agg({'E_CO_total':'sum', 'E_HC_total':'sum', 'E_NOx_total':'sum', 'E_PM10_total':'sum', 'E_PM2_5_total':'sum'}).reset_index()\n",
    "grp"
   ]
  },
  {
   "cell_type": "code",
   "execution_count": 182,
   "metadata": {},
   "outputs": [
    {
     "data": {
      "text/plain": [
       "'2023.06.05_PM.11.31.44'"
      ]
     },
     "execution_count": 182,
     "metadata": {},
     "output_type": "execute_result"
    }
   ],
   "source": [
    "today_date = datetime.today().strftime(\"%Y.%m.%d_%p.%I.%M.%S\")\n",
    "today_date"
   ]
  },
  {
   "cell_type": "code",
   "execution_count": 184,
   "metadata": {},
   "outputs": [],
   "source": [
    "grp.to_excel(os.path.join(analysis_fold, f'BD1-3_통계_4등급_2022년말소차량_시도별_CAPSS매연량합계.xlsx'), sheet_name='시도', index=False)"
   ]
  },
  {
   "attachments": {},
   "cell_type": "markdown",
   "metadata": {},
   "source": [
    "# 코드 마지막"
   ]
  }
 ],
 "metadata": {
  "kernelspec": {
   "display_name": "base",
   "language": "python",
   "name": "python3"
  },
  "language_info": {
   "codemirror_mode": {
    "name": "ipython",
    "version": 3
   },
   "file_extension": ".py",
   "mimetype": "text/x-python",
   "name": "python",
   "nbconvert_exporter": "python",
   "pygments_lexer": "ipython3",
   "version": "3.9.13"
  },
  "orig_nbformat": 4,
  "vscode": {
   "interpreter": {
    "hash": "ad2bdc8ecc057115af97d19610ffacc2b4e99fae6737bb82f5d7fb13d2f2c186"
   }
  }
 },
 "nbformat": 4,
 "nbformat_minor": 2
}
