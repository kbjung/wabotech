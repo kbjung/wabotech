{
 "cells": [
  {
   "cell_type": "code",
   "execution_count": 1,
   "metadata": {},
   "outputs": [],
   "source": [
    "import pandas as pd\n",
    "import os"
   ]
  },
  {
   "cell_type": "code",
   "execution_count": 2,
   "metadata": {},
   "outputs": [],
   "source": [
    "drive = 'D'"
   ]
  },
  {
   "cell_type": "code",
   "execution_count": 3,
   "metadata": {},
   "outputs": [],
   "source": [
    "df1_fold = f'{drive}:/data/big2/BD1/df'\n",
    "df3_fold = f'{drive}:/data/big2/BD3/df'"
   ]
  },
  {
   "cell_type": "code",
   "execution_count": 9,
   "metadata": {},
   "outputs": [
    {
     "name": "stdout",
     "output_type": "stream",
     "text": [
      "<class 'pandas.core.frame.DataFrame'>\n",
      "RangeIndex: 7 entries, 0 to 6\n",
      "Data columns (total 9 columns):\n",
      " #   Column               Non-Null Count  Dtype  \n",
      "---  ------               --------------  -----  \n",
      " 0   LIST                 7 non-null      object \n",
      " 1   NOLOD_SMO_MEVLU1     7 non-null      float64\n",
      " 2   DY_AVRG_DRVNG_DSTNC  7 non-null      float64\n",
      " 3   RCNT_INSP_ELPSD_WHL  7 non-null      float64\n",
      " 4   RUN_LMT_CRDN_INFO    7 non-null      float64\n",
      " 5   SPRT_CST_ELPDSRC     7 non-null      float64\n",
      " 6   DSPLVL               7 non-null      float64\n",
      " 7   TOTL_WGHT            7 non-null      float64\n",
      " 8   TOT_CRRLTN_CFFCNT    7 non-null      float64\n",
      "dtypes: float64(8), object(1)\n",
      "memory usage: 632.0+ bytes\n"
     ]
    }
   ],
   "source": [
    "# about \n",
    "name = 'STD_BD_GRD5_DS_ELPDSRC_CRRLTN_CFFCNT'\n",
    "file_name = f'{name}.xlsx'\n",
    "df = pd.read_excel(os.path.join(df3_fold, file_name))\n",
    "df.info()"
   ]
  },
  {
   "cell_type": "code",
   "execution_count": 15,
   "metadata": {},
   "outputs": [
    {
     "name": "stdout",
     "output_type": "stream",
     "text": [
      "<class 'pandas.core.frame.DataFrame'>\n",
      "RangeIndex: 7 entries, 0 to 6\n",
      "Data columns (total 9 columns):\n",
      " #   Column               Non-Null Count  Dtype  \n",
      "---  ------               --------------  -----  \n",
      " 0   LIST                 7 non-null      object \n",
      " 1   NOLOD_SMO_MEVLU1     7 non-null      float64\n",
      " 2   DY_AVRG_DRVNG_DSTNC  7 non-null      float64\n",
      " 3   RCNT_INSP_ELPSD_WHL  7 non-null      float64\n",
      " 4   RUN_LMT_CRDN_INFO    7 non-null      float64\n",
      " 5   SPRT_CST_ELPDSRC     7 non-null      float64\n",
      " 6   DSPLVL               7 non-null      float64\n",
      " 7   TOTL_WGHT            7 non-null      float64\n",
      " 8   TOT_CRRLTN_CFFCNT    4 non-null      float64\n",
      "dtypes: float64(8), object(1)\n",
      "memory usage: 632.0+ bytes\n"
     ]
    }
   ],
   "source": [
    "# about \n",
    "name = 'STD_BD_GRD5_DS_ELPDSRC_CRRLTN_CFFCNT'\n",
    "file_name = f'{name}.csv'\n",
    "df = pd.read_csv(os.path.join(df3_fold, file_name), encoding='cp949')\n",
    "df.info()"
   ]
  },
  {
   "cell_type": "code",
   "execution_count": 16,
   "metadata": {},
   "outputs": [],
   "source": [
    "df.to_csv(os.path.join(df3_fold, f'{name}.csv'), index=False)"
   ]
  },
  {
   "cell_type": "code",
   "execution_count": null,
   "metadata": {},
   "outputs": [],
   "source": []
  }
 ],
 "metadata": {
  "kernelspec": {
   "display_name": "base",
   "language": "python",
   "name": "python3"
  },
  "language_info": {
   "codemirror_mode": {
    "name": "ipython",
    "version": 3
   },
   "file_extension": ".py",
   "mimetype": "text/x-python",
   "name": "python",
   "nbconvert_exporter": "python",
   "pygments_lexer": "ipython3",
   "version": "3.9.13"
  },
  "orig_nbformat": 4
 },
 "nbformat": 4,
 "nbformat_minor": 2
}
