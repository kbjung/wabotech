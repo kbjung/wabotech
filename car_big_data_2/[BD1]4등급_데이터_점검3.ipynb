{
 "cells": [
  {
   "attachments": {},
   "cell_type": "markdown",
   "metadata": {},
   "source": [
    "# Library"
   ]
  },
  {
   "cell_type": "code",
   "execution_count": 1,
   "metadata": {},
   "outputs": [],
   "source": [
    "import pandas as pd\n",
    "import os\n",
    "import numpy as np\n",
    "from tqdm import tqdm"
   ]
  },
  {
   "attachments": {},
   "cell_type": "markdown",
   "metadata": {},
   "source": [
    "# [로드]"
   ]
  },
  {
   "cell_type": "code",
   "execution_count": 2,
   "metadata": {},
   "outputs": [],
   "source": [
    "ods_fold = 'D:\\과업\\[한국환경공단]자동차_환경_빅데이터_구축_2차\\data\\ODS'"
   ]
  },
  {
   "attachments": {},
   "cell_type": "markdown",
   "metadata": {},
   "source": [
    "## [로드] 검증요청 파일\n",
    "- [❌] ODS_CEG_EMIS_CERTI_VEH_MIG(배출가스 인증 자동차정보)\n",
    "- [⭕] ODS_CEG_EMIS_CERTI_TEST_MIG(배출가스 인증시험)"
   ]
  },
  {
   "cell_type": "code",
   "execution_count": 20,
   "metadata": {},
   "outputs": [
    {
     "name": "stdout",
     "output_type": "stream",
     "text": [
      "<class 'pandas.core.frame.DataFrame'>\n",
      "RangeIndex: 86406 entries, 0 to 86405\n",
      "Data columns (total 23 columns):\n",
      " #   Column                  Non-Null Count  Dtype  \n",
      "---  ------                  --------------  -----  \n",
      " 0   EMIS_CRTCNO             86406 non-null  object \n",
      " 1   EMIS_CRTC_SNO           86406 non-null  int64  \n",
      " 2   EMIS_TEST_MOD_VAL       85442 non-null  object \n",
      " 3   CO_PERM_STDR_VAL        16761 non-null  float64\n",
      " 4   CO_TEST_RSLT            17868 non-null  float64\n",
      " 5   NMOG_PERM_STDR_VAL      43 non-null     float64\n",
      " 6   NMOG_TEST_RSLT          3116 non-null   float64\n",
      " 7   NMHC_PERM_STDR_VAL      20 non-null     float64\n",
      " 8   NMHC_TEST_RSLT          268 non-null    float64\n",
      " 9   HC_PERM_STDR_VAL        12176 non-null  float64\n",
      " 10  HC_TEST_RSLT            12236 non-null  float64\n",
      " 11  NOX_PERM_STDR_VAL       13893 non-null  float64\n",
      " 12  NOX_TEST_RSLT           16856 non-null  float64\n",
      " 13  NMOG_NOX_PERM_STDR_VAL  4229 non-null   float64\n",
      " 14  NMOG_NOX_TEST_RSLT      4783 non-null   float64\n",
      " 15  HC_NOX_PERM_STDR_VAL    8513 non-null   float64\n",
      " 16  HC_NOX_TEST_RSLT        8548 non-null   float64\n",
      " 17  PM_PERM_STDR_VAL        2770 non-null   float64\n",
      " 18  PM_TEST_RSLT            6460 non-null   float64\n",
      " 19  PN_PERM_STDR_VAL        1978 non-null   float64\n",
      " 20  PN_TEST_RSLT            0 non-null      float64\n",
      " 21  RECP_FILE_NM            86406 non-null  object \n",
      " 22  STRE_DE                 86406 non-null  object \n",
      "dtypes: float64(18), int64(1), object(4)\n",
      "memory usage: 15.2+ MB\n"
     ]
    }
   ],
   "source": [
    "file_name = 'ODS_CEG_EMIS_CERTI_TEST_MIG.csv'\n",
    "path = os.path.join(ods_fold, file_name)\n",
    "df = pd.read_csv(path, low_memory=False)\n",
    "df.info()"
   ]
  },
  {
   "attachments": {},
   "cell_type": "markdown",
   "metadata": {},
   "source": [
    "## 컬럼명"
   ]
  },
  {
   "cell_type": "code",
   "execution_count": 22,
   "metadata": {},
   "outputs": [
    {
     "name": "stdout",
     "output_type": "stream",
     "text": [
      "<class 'pandas.core.frame.DataFrame'>\n",
      "RangeIndex: 23 entries, 0 to 22\n",
      "Data columns (total 2 columns):\n",
      " #   Column  Non-Null Count  Dtype \n",
      "---  ------  --------------  ----- \n",
      " 0   컬럼      23 non-null     object\n",
      " 1   내용      23 non-null     object\n",
      "dtypes: object(2)\n",
      "memory usage: 496.0+ bytes\n"
     ]
    }
   ],
   "source": [
    "fold = 'C:/Users/kbjung/Documents/GitHub/wabotech/car_big_data_2/analysis/ODSvsSTD'\n",
    "file_name = '[정제]CEG_EMIS_CERTI_TEST_MIG.xlsx'\n",
    "path = os.path.join(fold, file_name)\n",
    "col = pd.read_excel(path, sheet_name='ODS_col')\n",
    "col.info()"
   ]
  },
  {
   "cell_type": "code",
   "execution_count": 23,
   "metadata": {},
   "outputs": [
    {
     "data": {
      "text/plain": [
       "{'PN_PERM_STDR_VAL': '입자개수 허용 기준 값',\n",
       " 'NOX_PERM_STDR_VAL': '질소산화물 허용 기준 값',\n",
       " 'PM_PERM_STDR_VAL': '입자상물질 허용 기준 값',\n",
       " 'NOX_TEST_RSLT': '질소산화물 시험 결과',\n",
       " 'PN_TEST_RSLT': '입자개수 시험 결과',\n",
       " 'CO_PERM_STDR_VAL': '일산화탄소 허용 기준 값',\n",
       " 'CO_TEST_RSLT': '일산화탄소 시험 결과',\n",
       " 'EMIS_CRTCNO': '배출가스 인증번호',\n",
       " 'EMIS_CRTC_SNO': '배출가스 인증 일련번호',\n",
       " 'EMIS_TEST_MOD_VAL': '배출가스 시험 모드 값',\n",
       " 'HC_PERM_STDR_VAL': '탄화수소3 허용 기준 값',\n",
       " 'HC_NOX_PERM_STDR_VAL': '탄화수소3 질소산화물 허용 기준 값',\n",
       " 'HC_NOX_TEST_RSLT': '탄화수소3 질소산화물 시험 결과',\n",
       " 'HC_TEST_RSLT': '탄화수소3 시험 결과',\n",
       " 'NMHC_PERM_STDR_VAL': '탄화수소2 허용 기준 값',\n",
       " 'NMHC_TEST_RSLT': '탄화수소2 시험 결과',\n",
       " 'NMOG_PERM_STDR_VAL': '탄화수소1 허용 기준 값',\n",
       " 'NMOG_NOX_PERM_STDR_VAL': '탄화수소1 질소산화물 허용 기준 값',\n",
       " 'NMOG_NOX_TEST_RSLT': '탄화수소1 질소산화물 시험 결과',\n",
       " 'NMOG_TEST_RSLT': '탄화수소1 시험 결과',\n",
       " 'PM_TEST_RSLT': '입자상물질 시험 결과',\n",
       " 'RECP_FILE_NM': '미정',\n",
       " 'STRE_DE': '미정'}"
      ]
     },
     "execution_count": 23,
     "metadata": {},
     "output_type": "execute_result"
    }
   ],
   "source": [
    "col_dict = {a:b for a, b in zip(col['컬럼'], col['내용'])}\n",
    "col_dict"
   ]
  },
  {
   "cell_type": "code",
   "execution_count": 24,
   "metadata": {},
   "outputs": [
    {
     "data": {
      "text/plain": [
       "Index(['배출가스 인증번호', '배출가스 인증 일련번호', '배출가스 시험 모드 값', '일산화탄소 허용 기준 값',\n",
       "       '일산화탄소 시험 결과', '탄화수소1 허용 기준 값', '탄화수소1 시험 결과', '탄화수소2 허용 기준 값',\n",
       "       '탄화수소2 시험 결과', '탄화수소3 허용 기준 값', '탄화수소3 시험 결과', '질소산화물 허용 기준 값',\n",
       "       '질소산화물 시험 결과', '탄화수소1 질소산화물 허용 기준 값', '탄화수소1 질소산화물 시험 결과',\n",
       "       '탄화수소3 질소산화물 허용 기준 값', '탄화수소3 질소산화물 시험 결과', '입자상물질 허용 기준 값',\n",
       "       '입자상물질 시험 결과', '입자개수 허용 기준 값', '입자개수 시험 결과', '미정', '미정'],\n",
       "      dtype='object')"
      ]
     },
     "execution_count": 24,
     "metadata": {},
     "output_type": "execute_result"
    }
   ],
   "source": [
    "df.columns = [col_dict[x] for x in df.columns]\n",
    "df.columns"
   ]
  },
  {
   "cell_type": "code",
   "execution_count": 25,
   "metadata": {},
   "outputs": [
    {
     "data": {
      "text/plain": [
       "571"
      ]
     },
     "execution_count": 25,
     "metadata": {},
     "output_type": "execute_result"
    }
   ],
   "source": [
    "idx = []\n",
    "for i, one in enumerate(df['배출가스 인증번호']):\n",
    "    if ('8MY' in one) or ('9MY' in one) or ('AMY' in one):\n",
    "        idx.append(i)\n",
    "len(idx)"
   ]
  },
  {
   "cell_type": "code",
   "execution_count": 26,
   "metadata": {},
   "outputs": [
    {
     "data": {
      "text/plain": [
       "(571, 23)"
      ]
     },
     "execution_count": 26,
     "metadata": {},
     "output_type": "execute_result"
    }
   ],
   "source": [
    "sort_df = df.loc[idx]\n",
    "sort_df.shape"
   ]
  },
  {
   "cell_type": "code",
   "execution_count": 27,
   "metadata": {},
   "outputs": [
    {
     "data": {
      "text/html": [
       "<div>\n",
       "<style scoped>\n",
       "    .dataframe tbody tr th:only-of-type {\n",
       "        vertical-align: middle;\n",
       "    }\n",
       "\n",
       "    .dataframe tbody tr th {\n",
       "        vertical-align: top;\n",
       "    }\n",
       "\n",
       "    .dataframe thead th {\n",
       "        text-align: right;\n",
       "    }\n",
       "</style>\n",
       "<table border=\"1\" class=\"dataframe\">\n",
       "  <thead>\n",
       "    <tr style=\"text-align: right;\">\n",
       "      <th></th>\n",
       "      <th>배출가스 인증번호</th>\n",
       "      <th>배출가스 인증 일련번호</th>\n",
       "      <th>배출가스 시험 모드 값</th>\n",
       "      <th>일산화탄소 허용 기준 값</th>\n",
       "      <th>일산화탄소 시험 결과</th>\n",
       "      <th>탄화수소1 허용 기준 값</th>\n",
       "      <th>탄화수소1 시험 결과</th>\n",
       "      <th>탄화수소2 허용 기준 값</th>\n",
       "      <th>탄화수소2 시험 결과</th>\n",
       "      <th>탄화수소3 허용 기준 값</th>\n",
       "      <th>...</th>\n",
       "      <th>탄화수소1 질소산화물 허용 기준 값</th>\n",
       "      <th>탄화수소1 질소산화물 시험 결과</th>\n",
       "      <th>탄화수소3 질소산화물 허용 기준 값</th>\n",
       "      <th>탄화수소3 질소산화물 시험 결과</th>\n",
       "      <th>입자상물질 허용 기준 값</th>\n",
       "      <th>입자상물질 시험 결과</th>\n",
       "      <th>입자개수 허용 기준 값</th>\n",
       "      <th>입자개수 시험 결과</th>\n",
       "      <th>미정</th>\n",
       "      <th>미정</th>\n",
       "    </tr>\n",
       "  </thead>\n",
       "  <tbody>\n",
       "    <tr>\n",
       "      <th>157</th>\n",
       "      <td>8MY-AD-13-1</td>\n",
       "      <td>0</td>\n",
       "      <td>-</td>\n",
       "      <td>NaN</td>\n",
       "      <td>NaN</td>\n",
       "      <td>NaN</td>\n",
       "      <td>NaN</td>\n",
       "      <td>NaN</td>\n",
       "      <td>NaN</td>\n",
       "      <td>NaN</td>\n",
       "      <td>...</td>\n",
       "      <td>NaN</td>\n",
       "      <td>NaN</td>\n",
       "      <td>NaN</td>\n",
       "      <td>NaN</td>\n",
       "      <td>NaN</td>\n",
       "      <td>NaN</td>\n",
       "      <td>NaN</td>\n",
       "      <td>NaN</td>\n",
       "      <td>초기데이터</td>\n",
       "      <td>19/06/28</td>\n",
       "    </tr>\n",
       "    <tr>\n",
       "      <th>158</th>\n",
       "      <td>8MY-AD-13-1</td>\n",
       "      <td>1</td>\n",
       "      <td>-</td>\n",
       "      <td>NaN</td>\n",
       "      <td>NaN</td>\n",
       "      <td>NaN</td>\n",
       "      <td>NaN</td>\n",
       "      <td>NaN</td>\n",
       "      <td>NaN</td>\n",
       "      <td>NaN</td>\n",
       "      <td>...</td>\n",
       "      <td>NaN</td>\n",
       "      <td>NaN</td>\n",
       "      <td>NaN</td>\n",
       "      <td>NaN</td>\n",
       "      <td>NaN</td>\n",
       "      <td>NaN</td>\n",
       "      <td>NaN</td>\n",
       "      <td>NaN</td>\n",
       "      <td>초기데이터</td>\n",
       "      <td>19/06/28</td>\n",
       "    </tr>\n",
       "    <tr>\n",
       "      <th>159</th>\n",
       "      <td>8MY-AD-14-3</td>\n",
       "      <td>0</td>\n",
       "      <td>-</td>\n",
       "      <td>NaN</td>\n",
       "      <td>NaN</td>\n",
       "      <td>NaN</td>\n",
       "      <td>NaN</td>\n",
       "      <td>NaN</td>\n",
       "      <td>NaN</td>\n",
       "      <td>NaN</td>\n",
       "      <td>...</td>\n",
       "      <td>NaN</td>\n",
       "      <td>NaN</td>\n",
       "      <td>NaN</td>\n",
       "      <td>NaN</td>\n",
       "      <td>NaN</td>\n",
       "      <td>NaN</td>\n",
       "      <td>NaN</td>\n",
       "      <td>NaN</td>\n",
       "      <td>초기데이터</td>\n",
       "      <td>19/06/28</td>\n",
       "    </tr>\n",
       "    <tr>\n",
       "      <th>160</th>\n",
       "      <td>8MY-AD-14-4</td>\n",
       "      <td>0</td>\n",
       "      <td>-</td>\n",
       "      <td>NaN</td>\n",
       "      <td>NaN</td>\n",
       "      <td>NaN</td>\n",
       "      <td>NaN</td>\n",
       "      <td>NaN</td>\n",
       "      <td>NaN</td>\n",
       "      <td>NaN</td>\n",
       "      <td>...</td>\n",
       "      <td>NaN</td>\n",
       "      <td>NaN</td>\n",
       "      <td>NaN</td>\n",
       "      <td>NaN</td>\n",
       "      <td>NaN</td>\n",
       "      <td>NaN</td>\n",
       "      <td>NaN</td>\n",
       "      <td>NaN</td>\n",
       "      <td>초기데이터</td>\n",
       "      <td>19/06/28</td>\n",
       "    </tr>\n",
       "    <tr>\n",
       "      <th>161</th>\n",
       "      <td>8MY-AD-14-4</td>\n",
       "      <td>1</td>\n",
       "      <td>-</td>\n",
       "      <td>NaN</td>\n",
       "      <td>NaN</td>\n",
       "      <td>NaN</td>\n",
       "      <td>NaN</td>\n",
       "      <td>NaN</td>\n",
       "      <td>NaN</td>\n",
       "      <td>NaN</td>\n",
       "      <td>...</td>\n",
       "      <td>NaN</td>\n",
       "      <td>NaN</td>\n",
       "      <td>NaN</td>\n",
       "      <td>NaN</td>\n",
       "      <td>NaN</td>\n",
       "      <td>NaN</td>\n",
       "      <td>NaN</td>\n",
       "      <td>NaN</td>\n",
       "      <td>초기데이터</td>\n",
       "      <td>19/06/28</td>\n",
       "    </tr>\n",
       "  </tbody>\n",
       "</table>\n",
       "<p>5 rows × 23 columns</p>\n",
       "</div>"
      ],
      "text/plain": [
       "       배출가스 인증번호  배출가스 인증 일련번호 배출가스 시험 모드 값  일산화탄소 허용 기준 값  일산화탄소 시험 결과  \\\n",
       "157  8MY-AD-13-1             0            -            NaN          NaN   \n",
       "158  8MY-AD-13-1             1            -            NaN          NaN   \n",
       "159  8MY-AD-14-3             0            -            NaN          NaN   \n",
       "160  8MY-AD-14-4             0            -            NaN          NaN   \n",
       "161  8MY-AD-14-4             1            -            NaN          NaN   \n",
       "\n",
       "     탄화수소1 허용 기준 값  탄화수소1 시험 결과  탄화수소2 허용 기준 값  탄화수소2 시험 결과  탄화수소3 허용 기준 값  \\\n",
       "157            NaN          NaN            NaN          NaN            NaN   \n",
       "158            NaN          NaN            NaN          NaN            NaN   \n",
       "159            NaN          NaN            NaN          NaN            NaN   \n",
       "160            NaN          NaN            NaN          NaN            NaN   \n",
       "161            NaN          NaN            NaN          NaN            NaN   \n",
       "\n",
       "     ...  탄화수소1 질소산화물 허용 기준 값  탄화수소1 질소산화물 시험 결과  탄화수소3 질소산화물 허용 기준 값  \\\n",
       "157  ...                  NaN                NaN                  NaN   \n",
       "158  ...                  NaN                NaN                  NaN   \n",
       "159  ...                  NaN                NaN                  NaN   \n",
       "160  ...                  NaN                NaN                  NaN   \n",
       "161  ...                  NaN                NaN                  NaN   \n",
       "\n",
       "     탄화수소3 질소산화물 시험 결과  입자상물질 허용 기준 값  입자상물질 시험 결과  입자개수 허용 기준 값  입자개수 시험 결과  \\\n",
       "157                NaN            NaN          NaN           NaN         NaN   \n",
       "158                NaN            NaN          NaN           NaN         NaN   \n",
       "159                NaN            NaN          NaN           NaN         NaN   \n",
       "160                NaN            NaN          NaN           NaN         NaN   \n",
       "161                NaN            NaN          NaN           NaN         NaN   \n",
       "\n",
       "        미정        미정  \n",
       "157  초기데이터  19/06/28  \n",
       "158  초기데이터  19/06/28  \n",
       "159  초기데이터  19/06/28  \n",
       "160  초기데이터  19/06/28  \n",
       "161  초기데이터  19/06/28  \n",
       "\n",
       "[5 rows x 23 columns]"
      ]
     },
     "execution_count": 27,
     "metadata": {},
     "output_type": "execute_result"
    }
   ],
   "source": [
    "sort_df.head()"
   ]
  },
  {
   "cell_type": "code",
   "execution_count": 28,
   "metadata": {},
   "outputs": [
    {
     "data": {
      "text/html": [
       "<div>\n",
       "<style scoped>\n",
       "    .dataframe tbody tr th:only-of-type {\n",
       "        vertical-align: middle;\n",
       "    }\n",
       "\n",
       "    .dataframe tbody tr th {\n",
       "        vertical-align: top;\n",
       "    }\n",
       "\n",
       "    .dataframe thead th {\n",
       "        text-align: right;\n",
       "    }\n",
       "</style>\n",
       "<table border=\"1\" class=\"dataframe\">\n",
       "  <thead>\n",
       "    <tr style=\"text-align: right;\">\n",
       "      <th></th>\n",
       "      <th>배출가스 인증번호</th>\n",
       "      <th>배출가스 인증 일련번호</th>\n",
       "      <th>배출가스 시험 모드 값</th>\n",
       "      <th>일산화탄소 허용 기준 값</th>\n",
       "      <th>일산화탄소 시험 결과</th>\n",
       "      <th>탄화수소1 허용 기준 값</th>\n",
       "      <th>탄화수소1 시험 결과</th>\n",
       "      <th>탄화수소2 허용 기준 값</th>\n",
       "      <th>탄화수소2 시험 결과</th>\n",
       "      <th>탄화수소3 허용 기준 값</th>\n",
       "      <th>...</th>\n",
       "      <th>탄화수소1 질소산화물 허용 기준 값</th>\n",
       "      <th>탄화수소1 질소산화물 시험 결과</th>\n",
       "      <th>탄화수소3 질소산화물 허용 기준 값</th>\n",
       "      <th>탄화수소3 질소산화물 시험 결과</th>\n",
       "      <th>입자상물질 허용 기준 값</th>\n",
       "      <th>입자상물질 시험 결과</th>\n",
       "      <th>입자개수 허용 기준 값</th>\n",
       "      <th>입자개수 시험 결과</th>\n",
       "      <th>미정</th>\n",
       "      <th>미정</th>\n",
       "    </tr>\n",
       "  </thead>\n",
       "  <tbody>\n",
       "    <tr>\n",
       "      <th>48675</th>\n",
       "      <td>8MY-FK-14-5</td>\n",
       "      <td>7</td>\n",
       "      <td>CVS-75</td>\n",
       "      <td>NaN</td>\n",
       "      <td>NaN</td>\n",
       "      <td>NaN</td>\n",
       "      <td>NaN</td>\n",
       "      <td>NaN</td>\n",
       "      <td>NaN</td>\n",
       "      <td>NaN</td>\n",
       "      <td>...</td>\n",
       "      <td>NaN</td>\n",
       "      <td>NaN</td>\n",
       "      <td>NaN</td>\n",
       "      <td>NaN</td>\n",
       "      <td>NaN</td>\n",
       "      <td>NaN</td>\n",
       "      <td>NaN</td>\n",
       "      <td>NaN</td>\n",
       "      <td>EmisCertiTest_20190919.txt</td>\n",
       "      <td>20190919</td>\n",
       "    </tr>\n",
       "    <tr>\n",
       "      <th>48676</th>\n",
       "      <td>8MY-FK-14-5</td>\n",
       "      <td>7</td>\n",
       "      <td>HighWay</td>\n",
       "      <td>NaN</td>\n",
       "      <td>NaN</td>\n",
       "      <td>NaN</td>\n",
       "      <td>NaN</td>\n",
       "      <td>NaN</td>\n",
       "      <td>NaN</td>\n",
       "      <td>NaN</td>\n",
       "      <td>...</td>\n",
       "      <td>NaN</td>\n",
       "      <td>NaN</td>\n",
       "      <td>NaN</td>\n",
       "      <td>NaN</td>\n",
       "      <td>NaN</td>\n",
       "      <td>NaN</td>\n",
       "      <td>NaN</td>\n",
       "      <td>NaN</td>\n",
       "      <td>EmisCertiTest_20190919.txt</td>\n",
       "      <td>20190919</td>\n",
       "    </tr>\n",
       "    <tr>\n",
       "      <th>52709</th>\n",
       "      <td>8MY-FK-14-5</td>\n",
       "      <td>7</td>\n",
       "      <td>SC03</td>\n",
       "      <td>NaN</td>\n",
       "      <td>NaN</td>\n",
       "      <td>NaN</td>\n",
       "      <td>NaN</td>\n",
       "      <td>NaN</td>\n",
       "      <td>NaN</td>\n",
       "      <td>NaN</td>\n",
       "      <td>...</td>\n",
       "      <td>NaN</td>\n",
       "      <td>NaN</td>\n",
       "      <td>NaN</td>\n",
       "      <td>NaN</td>\n",
       "      <td>NaN</td>\n",
       "      <td>NaN</td>\n",
       "      <td>NaN</td>\n",
       "      <td>NaN</td>\n",
       "      <td>EmisCertiTest_20190919.txt</td>\n",
       "      <td>20190919</td>\n",
       "    </tr>\n",
       "    <tr>\n",
       "      <th>52710</th>\n",
       "      <td>8MY-FK-14-5</td>\n",
       "      <td>7</td>\n",
       "      <td>US06</td>\n",
       "      <td>NaN</td>\n",
       "      <td>NaN</td>\n",
       "      <td>NaN</td>\n",
       "      <td>NaN</td>\n",
       "      <td>NaN</td>\n",
       "      <td>NaN</td>\n",
       "      <td>NaN</td>\n",
       "      <td>...</td>\n",
       "      <td>NaN</td>\n",
       "      <td>NaN</td>\n",
       "      <td>NaN</td>\n",
       "      <td>NaN</td>\n",
       "      <td>NaN</td>\n",
       "      <td>NaN</td>\n",
       "      <td>NaN</td>\n",
       "      <td>NaN</td>\n",
       "      <td>EmisCertiTest_20190919.txt</td>\n",
       "      <td>20190919</td>\n",
       "    </tr>\n",
       "    <tr>\n",
       "      <th>52711</th>\n",
       "      <td>8MY-FK-14-5</td>\n",
       "      <td>7</td>\n",
       "      <td>WLTP</td>\n",
       "      <td>NaN</td>\n",
       "      <td>NaN</td>\n",
       "      <td>NaN</td>\n",
       "      <td>NaN</td>\n",
       "      <td>NaN</td>\n",
       "      <td>NaN</td>\n",
       "      <td>NaN</td>\n",
       "      <td>...</td>\n",
       "      <td>NaN</td>\n",
       "      <td>NaN</td>\n",
       "      <td>NaN</td>\n",
       "      <td>NaN</td>\n",
       "      <td>NaN</td>\n",
       "      <td>NaN</td>\n",
       "      <td>NaN</td>\n",
       "      <td>NaN</td>\n",
       "      <td>EmisCertiTest_20190919.txt</td>\n",
       "      <td>20190919</td>\n",
       "    </tr>\n",
       "  </tbody>\n",
       "</table>\n",
       "<p>5 rows × 23 columns</p>\n",
       "</div>"
      ],
      "text/plain": [
       "         배출가스 인증번호  배출가스 인증 일련번호 배출가스 시험 모드 값  일산화탄소 허용 기준 값  일산화탄소 시험 결과  \\\n",
       "48675  8MY-FK-14-5             7       CVS-75            NaN          NaN   \n",
       "48676  8MY-FK-14-5             7      HighWay            NaN          NaN   \n",
       "52709  8MY-FK-14-5             7         SC03            NaN          NaN   \n",
       "52710  8MY-FK-14-5             7         US06            NaN          NaN   \n",
       "52711  8MY-FK-14-5             7         WLTP            NaN          NaN   \n",
       "\n",
       "       탄화수소1 허용 기준 값  탄화수소1 시험 결과  탄화수소2 허용 기준 값  탄화수소2 시험 결과  탄화수소3 허용 기준 값  \\\n",
       "48675            NaN          NaN            NaN          NaN            NaN   \n",
       "48676            NaN          NaN            NaN          NaN            NaN   \n",
       "52709            NaN          NaN            NaN          NaN            NaN   \n",
       "52710            NaN          NaN            NaN          NaN            NaN   \n",
       "52711            NaN          NaN            NaN          NaN            NaN   \n",
       "\n",
       "       ...  탄화수소1 질소산화물 허용 기준 값  탄화수소1 질소산화물 시험 결과  탄화수소3 질소산화물 허용 기준 값  \\\n",
       "48675  ...                  NaN                NaN                  NaN   \n",
       "48676  ...                  NaN                NaN                  NaN   \n",
       "52709  ...                  NaN                NaN                  NaN   \n",
       "52710  ...                  NaN                NaN                  NaN   \n",
       "52711  ...                  NaN                NaN                  NaN   \n",
       "\n",
       "       탄화수소3 질소산화물 시험 결과  입자상물질 허용 기준 값  입자상물질 시험 결과  입자개수 허용 기준 값  \\\n",
       "48675                NaN            NaN          NaN           NaN   \n",
       "48676                NaN            NaN          NaN           NaN   \n",
       "52709                NaN            NaN          NaN           NaN   \n",
       "52710                NaN            NaN          NaN           NaN   \n",
       "52711                NaN            NaN          NaN           NaN   \n",
       "\n",
       "       입자개수 시험 결과                          미정        미정  \n",
       "48675         NaN  EmisCertiTest_20190919.txt  20190919  \n",
       "48676         NaN  EmisCertiTest_20190919.txt  20190919  \n",
       "52709         NaN  EmisCertiTest_20190919.txt  20190919  \n",
       "52710         NaN  EmisCertiTest_20190919.txt  20190919  \n",
       "52711         NaN  EmisCertiTest_20190919.txt  20190919  \n",
       "\n",
       "[5 rows x 23 columns]"
      ]
     },
     "execution_count": 28,
     "metadata": {},
     "output_type": "execute_result"
    }
   ],
   "source": [
    "sort_df.tail()"
   ]
  },
  {
   "cell_type": "code",
   "execution_count": 29,
   "metadata": {},
   "outputs": [
    {
     "data": {
      "text/plain": [
       "Index(['배출가스 인증번호', '배출가스 인증 일련번호', '배출가스 시험 모드 값', '일산화탄소 허용 기준 값',\n",
       "       '일산화탄소 시험 결과', '탄화수소1 허용 기준 값', '탄화수소1 시험 결과', '탄화수소2 허용 기준 값',\n",
       "       '탄화수소2 시험 결과', '탄화수소3 허용 기준 값', '탄화수소3 시험 결과', '질소산화물 허용 기준 값',\n",
       "       '질소산화물 시험 결과', '탄화수소1 질소산화물 허용 기준 값', '탄화수소1 질소산화물 시험 결과',\n",
       "       '탄화수소3 질소산화물 허용 기준 값', '탄화수소3 질소산화물 시험 결과', '입자상물질 허용 기준 값',\n",
       "       '입자상물질 시험 결과', '입자개수 허용 기준 값', '입자개수 시험 결과', '미정', '미정'],\n",
       "      dtype='object')"
      ]
     },
     "execution_count": 29,
     "metadata": {},
     "output_type": "execute_result"
    }
   ],
   "source": [
    "sort_df.columns"
   ]
  },
  {
   "cell_type": "code",
   "execution_count": 30,
   "metadata": {},
   "outputs": [],
   "source": [
    "sort_df = sort_df.sort_values('배출가스 인증번호')"
   ]
  },
  {
   "cell_type": "code",
   "execution_count": 32,
   "metadata": {},
   "outputs": [
    {
     "data": {
      "text/plain": [
       "(571, 23)"
      ]
     },
     "execution_count": 32,
     "metadata": {},
     "output_type": "execute_result"
    }
   ],
   "source": [
    "sort_df.shape"
   ]
  },
  {
   "cell_type": "code",
   "execution_count": 31,
   "metadata": {},
   "outputs": [],
   "source": [
    "sort_df.to_csv('analysis2/[BD1][샘플]8-AMY.csv', index=False, encoding='cp949')"
   ]
  },
  {
   "cell_type": "code",
   "execution_count": null,
   "metadata": {},
   "outputs": [],
   "source": []
  }
 ],
 "metadata": {
  "kernelspec": {
   "display_name": "base",
   "language": "python",
   "name": "python3"
  },
  "language_info": {
   "codemirror_mode": {
    "name": "ipython",
    "version": 3
   },
   "file_extension": ".py",
   "mimetype": "text/x-python",
   "name": "python",
   "nbconvert_exporter": "python",
   "pygments_lexer": "ipython3",
   "version": "3.9.13"
  },
  "orig_nbformat": 4,
  "vscode": {
   "interpreter": {
    "hash": "ad2bdc8ecc057115af97d19610ffacc2b4e99fae6737bb82f5d7fb13d2f2c186"
   }
  }
 },
 "nbformat": 4,
 "nbformat_minor": 2
}
