{
 "cells": [
  {
   "cell_type": "code",
   "execution_count": 1,
   "metadata": {},
   "outputs": [
    {
     "name": "stdout",
     "output_type": "stream",
     "text": [
      "Collecting pyexasol\n",
      "  Downloading pyexasol-0.25.2-py3-none-any.whl (47 kB)\n",
      "     -------------------------------------- 47.4/47.4 kB 807.7 kB/s eta 0:00:00\n",
      "Collecting websocket-client>=1.0.1\n",
      "  Downloading websocket_client-1.5.2-py3-none-any.whl (56 kB)\n",
      "     -------------------------------------- 56.6/56.6 kB 985.5 kB/s eta 0:00:00\n",
      "Requirement already satisfied: rsa in c:\\users\\kbjoo\\anaconda3\\lib\\site-packages (from pyexasol) (4.7.2)\n",
      "Requirement already satisfied: pyopenssl in c:\\users\\kbjoo\\anaconda3\\lib\\site-packages (from pyexasol) (21.0.0)\n",
      "Requirement already satisfied: packaging in c:\\users\\kbjoo\\anaconda3\\lib\\site-packages (from pyexasol) (21.3)\n",
      "Requirement already satisfied: pyparsing!=3.0.5,>=2.0.2 in c:\\users\\kbjoo\\anaconda3\\lib\\site-packages (from packaging->pyexasol) (3.0.4)\n",
      "Requirement already satisfied: cryptography>=3.3 in c:\\users\\kbjoo\\anaconda3\\lib\\site-packages (from pyopenssl->pyexasol) (3.4.8)\n",
      "Requirement already satisfied: six>=1.5.2 in c:\\users\\kbjoo\\anaconda3\\lib\\site-packages (from pyopenssl->pyexasol) (1.16.0)\n",
      "Requirement already satisfied: pyasn1>=0.1.3 in c:\\users\\kbjoo\\anaconda3\\lib\\site-packages (from rsa->pyexasol) (0.4.8)\n",
      "Requirement already satisfied: cffi>=1.12 in c:\\users\\kbjoo\\anaconda3\\lib\\site-packages (from cryptography>=3.3->pyopenssl->pyexasol) (1.15.0)\n",
      "Requirement already satisfied: pycparser in c:\\users\\kbjoo\\anaconda3\\lib\\site-packages (from cffi>=1.12->cryptography>=3.3->pyopenssl->pyexasol) (2.21)\n",
      "Installing collected packages: websocket-client, pyexasol\n",
      "  Attempting uninstall: websocket-client\n",
      "    Found existing installation: websocket-client 0.58.0\n",
      "    Uninstalling websocket-client-0.58.0:\n",
      "      Successfully uninstalled websocket-client-0.58.0\n",
      "Successfully installed pyexasol-0.25.2 websocket-client-1.5.2\n"
     ]
    },
    {
     "name": "stderr",
     "output_type": "stream",
     "text": [
      "ERROR: pip's dependency resolver does not currently take into account all the packages that are installed. This behaviour is the source of the following dependency conflicts.\n",
      "jupyter-server 1.13.5 requires pywinpty<2; os_name == \"nt\", but you have pywinpty 2.0.2 which is incompatible.\n",
      "\n",
      "[notice] A new release of pip available: 22.2.2 -> 23.1.2\n",
      "[notice] To update, run: python.exe -m pip install --upgrade pip\n"
     ]
    }
   ],
   "source": [
    "!pip install pyexasol"
   ]
  },
  {
   "cell_type": "code",
   "execution_count": 2,
   "metadata": {},
   "outputs": [],
   "source": [
    "import pyexasol"
   ]
  },
  {
   "cell_type": "code",
   "execution_count": 24,
   "metadata": {},
   "outputs": [],
   "source": [
    "# DB 로딩\n",
    "# pyexasol.connect(dsn='dev.openankus.org:8563', user='sys', password='djslzja', compression=True)\n",
    "# schema 지정 로딩\n",
    "wb = pyexasol.connect(dsn='dev.openankus.org:8563', user='sys', password='djslzja', compression=True, schema='wabotech')"
   ]
  },
  {
   "cell_type": "code",
   "execution_count": 20,
   "metadata": {},
   "outputs": [],
   "source": [
    "def create_table(data, table_nm):\n",
    "    dbUtil2 = pyexasol.connect(dsn='dev.openankus.org:8563', user='sys', password='djslzja', compression=True, schema='wabotech')\n",
    "\n",
    "    sql = 'create table ' + table_nm + '( \\n'\n",
    "\n",
    "    for idx, column in enumerate(data.columns):\n",
    "        if 'float' in data[column].dtype.name:\n",
    "            sql += column + ' DOUBLE PRECISION'\n",
    "        elif 'int' in data[column].dtypes.name:\n",
    "            sql += column + ' DOUBLE PRECISION'\n",
    "        else:\n",
    "            sql += column + ' varchar(255)'\n",
    "\n",
    "        if len(data.columns) -1 != idx:\n",
    "            sql += ','\n",
    "        sql += '\\n'\n",
    "    sql += ');'\n",
    "    print(sql)\n",
    "    dbUtil2.execute(sql) # 쿼리 실행\n",
    "    \n",
    "    dbUtil2.import_from_pandas(data, table_nm) # 테이블 로드 # 테이블이 존재하는 경우에는 이것만 실행"
   ]
  },
  {
   "cell_type": "code",
   "execution_count": 5,
   "metadata": {},
   "outputs": [],
   "source": [
    "import pandas as pd\n",
    "import numpy as np"
   ]
  },
  {
   "cell_type": "code",
   "execution_count": 22,
   "metadata": {},
   "outputs": [
    {
     "data": {
      "text/html": [
       "<div>\n",
       "<style scoped>\n",
       "    .dataframe tbody tr th:only-of-type {\n",
       "        vertical-align: middle;\n",
       "    }\n",
       "\n",
       "    .dataframe tbody tr th {\n",
       "        vertical-align: top;\n",
       "    }\n",
       "\n",
       "    .dataframe thead th {\n",
       "        text-align: right;\n",
       "    }\n",
       "</style>\n",
       "<table border=\"1\" class=\"dataframe\">\n",
       "  <thead>\n",
       "    <tr style=\"text-align: right;\">\n",
       "      <th></th>\n",
       "      <th>a1</th>\n",
       "      <th>a2</th>\n",
       "      <th>a3</th>\n",
       "      <th>a4</th>\n",
       "    </tr>\n",
       "  </thead>\n",
       "  <tbody>\n",
       "    <tr>\n",
       "      <th>0</th>\n",
       "      <td>1</td>\n",
       "      <td>2</td>\n",
       "      <td>a</td>\n",
       "      <td>1</td>\n",
       "    </tr>\n",
       "    <tr>\n",
       "      <th>1</th>\n",
       "      <td>2</td>\n",
       "      <td>4</td>\n",
       "      <td>b</td>\n",
       "      <td>abc</td>\n",
       "    </tr>\n",
       "    <tr>\n",
       "      <th>2</th>\n",
       "      <td>3</td>\n",
       "      <td>6</td>\n",
       "      <td>c</td>\n",
       "      <td>NaN</td>\n",
       "    </tr>\n",
       "  </tbody>\n",
       "</table>\n",
       "</div>"
      ],
      "text/plain": [
       "   a1  a2 a3   a4\n",
       "0   1   2  a    1\n",
       "1   2   4  b  abc\n",
       "2   3   6  c  NaN"
      ]
     },
     "execution_count": 22,
     "metadata": {},
     "output_type": "execute_result"
    }
   ],
   "source": [
    "df = pd.DataFrame({'a1':[1,2,3], 'a2':[2,4,6,], 'a3':['a', 'b', 'c'], 'a4':[1, 'abc', np.nan]})\n",
    "df"
   ]
  },
  {
   "cell_type": "code",
   "execution_count": 23,
   "metadata": {},
   "outputs": [
    {
     "name": "stdout",
     "output_type": "stream",
     "text": [
      "create table test_df( \n",
      "a1 DOUBLE PRECISION,\n",
      "a2 DOUBLE PRECISION,\n",
      "a3 varchar(255),\n",
      "a4 varchar(255)\n",
      ");\n"
     ]
    }
   ],
   "source": [
    "create_table(df, 'test_df')"
   ]
  },
  {
   "cell_type": "code",
   "execution_count": 33,
   "metadata": {},
   "outputs": [],
   "source": [
    "GRD4 = wb.export_to_pandas('SELECT * from \"wabotech\".STD_BD_GRD4_ERSR_RSLT')"
   ]
  },
  {
   "cell_type": "code",
   "execution_count": 29,
   "metadata": {},
   "outputs": [
    {
     "data": {
      "text/html": [
       "<div>\n",
       "<style scoped>\n",
       "    .dataframe tbody tr th:only-of-type {\n",
       "        vertical-align: middle;\n",
       "    }\n",
       "\n",
       "    .dataframe tbody tr th {\n",
       "        vertical-align: top;\n",
       "    }\n",
       "\n",
       "    .dataframe thead th {\n",
       "        text-align: right;\n",
       "    }\n",
       "</style>\n",
       "<table border=\"1\" class=\"dataframe\">\n",
       "  <thead>\n",
       "    <tr style=\"text-align: right;\">\n",
       "      <th></th>\n",
       "      <th>VIN</th>\n",
       "      <th>STDG_CD</th>\n",
       "      <th>YRIDNW</th>\n",
       "      <th>VHCTY_TY</th>\n",
       "      <th>FUEL_CD</th>\n",
       "      <th>GRD4_MLSFC</th>\n",
       "    </tr>\n",
       "  </thead>\n",
       "  <tbody>\n",
       "    <tr>\n",
       "      <th>0</th>\n",
       "      <td>KMHJP81VP6U401147</td>\n",
       "      <td>4131010500</td>\n",
       "      <td>2006</td>\n",
       "      <td>중형</td>\n",
       "      <td>경유</td>\n",
       "      <td>B\\r</td>\n",
       "    </tr>\n",
       "  </tbody>\n",
       "</table>\n",
       "</div>"
      ],
      "text/plain": [
       "                 VIN     STDG_CD  YRIDNW VHCTY_TY FUEL_CD GRD4_MLSFC\n",
       "0  KMHJP81VP6U401147  4131010500    2006       중형      경유        B\\r"
      ]
     },
     "execution_count": 29,
     "metadata": {},
     "output_type": "execute_result"
    }
   ],
   "source": [
    "GRD4"
   ]
  }
 ],
 "metadata": {
  "interpreter": {
   "hash": "569b4317022eb29baeafb3d0f1f739310808ea28ce83ca127a35db1c01070585"
  },
  "kernelspec": {
   "display_name": "Python 3.9.12 ('base')",
   "language": "python",
   "name": "python3"
  },
  "language_info": {
   "codemirror_mode": {
    "name": "ipython",
    "version": 3
   },
   "file_extension": ".py",
   "mimetype": "text/x-python",
   "name": "python",
   "nbconvert_exporter": "python",
   "pygments_lexer": "ipython3",
   "version": "3.9.12"
  },
  "orig_nbformat": 4
 },
 "nbformat": 4,
 "nbformat_minor": 2
}
