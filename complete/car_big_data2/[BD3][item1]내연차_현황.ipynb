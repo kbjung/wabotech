{
 "cells": [
  {
   "attachments": {},
   "cell_type": "markdown",
   "metadata": {},
   "source": [
    "# Library\n"
   ]
  },
  {
   "cell_type": "code",
   "execution_count": 1,
   "metadata": {},
   "outputs": [],
   "source": [
    "import pandas as pd\n",
    "import numpy as np\n",
    "import os\n",
    "from tqdm import tqdm\n",
    "from datetime import datetime"
   ]
  },
  {
   "cell_type": "code",
   "execution_count": 2,
   "metadata": {},
   "outputs": [],
   "source": [
    "# 소수점 옵션\n",
    "pd.options.display.float_format = '{:.2f}'.format\n",
    "# pd.reset_option('display.float_format')"
   ]
  },
  {
   "attachments": {},
   "cell_type": "markdown",
   "metadata": {},
   "source": [
    "# fold path"
   ]
  },
  {
   "cell_type": "code",
   "execution_count": 3,
   "metadata": {},
   "outputs": [],
   "source": [
    "drive = 'D'"
   ]
  },
  {
   "cell_type": "code",
   "execution_count": 4,
   "metadata": {},
   "outputs": [],
   "source": [
    "ods_fold = f'{drive}:/data/big2/ODS'\n",
    "big2_fold = f'{drive}:/data/big2'\n",
    "raw_fold = f'{drive}:/data/big2/BD3/raw'\n",
    "analysis_fold = f'{drive}:/data/big2/BD3/an'\n",
    "df_fold = f'{drive}:/data/big2/BD3/df'"
   ]
  },
  {
   "attachments": {},
   "cell_type": "markdown",
   "metadata": {},
   "source": [
    "# Load"
   ]
  },
  {
   "attachments": {},
   "cell_type": "markdown",
   "metadata": {},
   "source": [
    "## 등록&제원정보"
   ]
  },
  {
   "cell_type": "code",
   "execution_count": 5,
   "metadata": {},
   "outputs": [
    {
     "name": "stdout",
     "output_type": "stream",
     "text": [
      "<class 'pandas.core.frame.DataFrame'>\n",
      "RangeIndex: 10000 entries, 0 to 9999\n",
      "Data columns (total 49 columns):\n",
      " #   Column        Non-Null Count  Dtype  \n",
      "---  ------        --------------  -----  \n",
      " 0   차량관리번호        10000 non-null  object \n",
      " 1   차량등록번호        10000 non-null  object \n",
      " 2   본거지법정동코드      10000 non-null  int64  \n",
      " 3   소유자구분         10000 non-null  object \n",
      " 4   차종_등록정보       9998 non-null   object \n",
      " 5   용도            10000 non-null  object \n",
      " 6   현재회원번호        6793 non-null   object \n",
      " 7   차대번호          10000 non-null  object \n",
      " 8   최초등록일자        10000 non-null  int64  \n",
      " 9   차량연식          10000 non-null  int64  \n",
      " 10  차량제작일자        564 non-null    float64\n",
      " 11  배출가스검사유효일자    9640 non-null   float64\n",
      " 12  제원관리번호        10000 non-null  object \n",
      " 13  배출가스인증번호      1 non-null      object \n",
      " 14  배출가스등급        10000 non-null  object \n",
      " 15  저공해조치YN(미사용)  10000 non-null  object \n",
      " 16  저공해조치종류       1 non-null      float64\n",
      " 17  저공해조치구조변경YN   10000 non-null  object \n",
      " 18  차량등록번호숫자정보    10000 non-null  int64  \n",
      " 19  차량말소YN        10000 non-null  object \n",
      " 20  최초회원번호        4236 non-null   object \n",
      " 21  취득일자          736 non-null    float64\n",
      " 22  취득금액          5266 non-null   float64\n",
      " 23  생성일시_등록정보     10000 non-null  object \n",
      " 24  수정일시_등록정보     1711 non-null   object \n",
      " 25  차명            9999 non-null   object \n",
      " 26  차종_제원정보       10000 non-null  object \n",
      " 27  차종분류          10000 non-null  object \n",
      " 28  차종유형(소분류)     9997 non-null   object \n",
      " 29  자동차형식         9542 non-null   object \n",
      " 30  제작사명          9033 non-null   object \n",
      " 31  연료            9408 non-null   object \n",
      " 32  엔진형식          8533 non-null   object \n",
      " 33  공차중량          0 non-null      float64\n",
      " 34  총중량           9998 non-null   float64\n",
      " 35  적재중량          9997 non-null   float64\n",
      " 36  엔진출력          9118 non-null   float64\n",
      " 37  배기량           9994 non-null   float64\n",
      " 38  승차인원          9997 non-null   float64\n",
      " 39  차량길이          9999 non-null   float64\n",
      " 40  차량너비          9999 non-null   float64\n",
      " 41  차량높이          9999 non-null   float64\n",
      " 42  원산지명          4797 non-null   object \n",
      " 43  삭제YN          10000 non-null  object \n",
      " 44  승인일자          9255 non-null   float64\n",
      " 45  구동형식          1 non-null      float64\n",
      " 46  변속기종류         10000 non-null  object \n",
      " 47  생성일시_제원정보     10000 non-null  object \n",
      " 48  수정일시_제원정보     6 non-null      object \n",
      "dtypes: float64(16), int64(4), object(29)\n",
      "memory usage: 3.7+ MB\n"
     ]
    }
   ],
   "source": [
    "# about 8m 53.6s\n",
    "name = '[ODS]등록정보&제원정보(2022.12.28)'\n",
    "file_name = f'{name}.csv'\n",
    "car = pd.read_csv(os.path.join(ods_fold, file_name), low_memory=False, encoding='cp949', nrows=100**2)\n",
    "car.info()"
   ]
  },
  {
   "attachments": {},
   "cell_type": "markdown",
   "metadata": {},
   "source": [
    "## 등록&제원정보(5등급)"
   ]
  },
  {
   "cell_type": "code",
   "execution_count": 6,
   "metadata": {},
   "outputs": [
    {
     "name": "stdout",
     "output_type": "stream",
     "text": [
      "<class 'pandas.core.frame.DataFrame'>\n",
      "RangeIndex: 10000 entries, 0 to 9999\n",
      "Data columns (total 49 columns):\n",
      " #   Column        Non-Null Count  Dtype  \n",
      "---  ------        --------------  -----  \n",
      " 0   차량관리번호        10000 non-null  object \n",
      " 1   차량등록번호        10000 non-null  object \n",
      " 2   본거지법정동코드      10000 non-null  int64  \n",
      " 3   소유자구분         10000 non-null  object \n",
      " 4   차종_등록정보       9998 non-null   object \n",
      " 5   용도            10000 non-null  object \n",
      " 6   현재회원번호        6647 non-null   object \n",
      " 7   차대번호          10000 non-null  object \n",
      " 8   최초등록일자        10000 non-null  int64  \n",
      " 9   차량연식          10000 non-null  int64  \n",
      " 10  차량제작일자        265 non-null    float64\n",
      " 11  배출가스검사유효일자    9635 non-null   float64\n",
      " 12  제원관리번호        10000 non-null  object \n",
      " 13  배출가스인증번호      0 non-null      float64\n",
      " 14  배출가스등급        10000 non-null  object \n",
      " 15  저공해조치YN(미사용)  10000 non-null  object \n",
      " 16  저공해조치종류       1 non-null      float64\n",
      " 17  저공해조치구조변경YN   10000 non-null  object \n",
      " 18  차량등록번호숫자정보    10000 non-null  int64  \n",
      " 19  차량말소YN        10000 non-null  object \n",
      " 20  최초회원번호        4381 non-null   object \n",
      " 21  취득일자          350 non-null    float64\n",
      " 22  취득금액          5202 non-null   float64\n",
      " 23  생성일시_등록정보     10000 non-null  object \n",
      " 24  수정일시_등록정보     1559 non-null   object \n",
      " 25  차명            10000 non-null  object \n",
      " 26  차종_제원정보       10000 non-null  object \n",
      " 27  차종분류          10000 non-null  object \n",
      " 28  차종유형(소분류)     10000 non-null  object \n",
      " 29  자동차형식         9751 non-null   object \n",
      " 30  제작사명          9301 non-null   object \n",
      " 31  연료            9987 non-null   object \n",
      " 32  엔진형식          9299 non-null   object \n",
      " 33  공차중량          0 non-null      float64\n",
      " 34  총중량           9999 non-null   float64\n",
      " 35  적재중량          9998 non-null   float64\n",
      " 36  엔진출력          9908 non-null   float64\n",
      " 37  배기량           9997 non-null   float64\n",
      " 38  승차인원          10000 non-null  float64\n",
      " 39  차량길이          9999 non-null   float64\n",
      " 40  차량너비          9999 non-null   float64\n",
      " 41  차량높이          9999 non-null   float64\n",
      " 42  원산지명          4664 non-null   object \n",
      " 43  삭제YN          10000 non-null  object \n",
      " 44  승인일자          9517 non-null   float64\n",
      " 45  구동형식          1 non-null      float64\n",
      " 46  변속기종류         10000 non-null  object \n",
      " 47  생성일시_제원정보     10000 non-null  object \n",
      " 48  수정일시_제원정보     5 non-null      object \n",
      "dtypes: float64(17), int64(4), object(28)\n",
      "memory usage: 3.7+ MB\n"
     ]
    }
   ],
   "source": [
    "# about 37.6s\n",
    "name = '[ODS][G5]등록정보&제원정보(2022.12.28)'\n",
    "file_name = f'{name}.csv'\n",
    "g5 = pd.read_csv(os.path.join(ods_fold, file_name), low_memory=False, encoding='cp949', nrows=100**2)\n",
    "g5.info()"
   ]
  },
  {
   "attachments": {},
   "cell_type": "markdown",
   "metadata": {},
   "source": [
    "## 노후차 조기폐차 관리정보 수도권"
   ]
  },
  {
   "cell_type": "code",
   "execution_count": 8,
   "metadata": {},
   "outputs": [
    {
     "name": "stdout",
     "output_type": "stream",
     "text": [
      "<class 'pandas.core.frame.DataFrame'>\n",
      "RangeIndex: 770311 entries, 0 to 770310\n",
      "Data columns (total 4 columns):\n",
      " #   Column      Non-Null Count   Dtype  \n",
      "---  ------      --------------   -----  \n",
      " 0   조기폐차상태코드    770311 non-null  object \n",
      " 1   차대번호        770311 non-null  object \n",
      " 2   말소일자        684061 non-null  float64\n",
      " 3   조기폐차최종승인YN  680625 non-null  object \n",
      "dtypes: float64(1), object(3)\n",
      "memory usage: 23.5+ MB\n"
     ]
    }
   ],
   "source": [
    "# about 42.0s\n",
    "name = '[ODS]노후차_조기폐차_관리정보_수도권(2022.12.28)'\n",
    "file_name = f'{name}.csv'\n",
    "aea = pd.read_csv(os.path.join(ods_fold, file_name), low_memory=False, encoding='cp949', usecols=['차대번호', '말소일자', '조기폐차최종승인YN', '조기폐차상태코드'])\n",
    "aea.info()"
   ]
  },
  {
   "attachments": {},
   "cell_type": "markdown",
   "metadata": {},
   "source": [
    "## 노후차 조기폐차 관리정보 수도권 외"
   ]
  },
  {
   "cell_type": "code",
   "execution_count": 9,
   "metadata": {},
   "outputs": [
    {
     "name": "stdout",
     "output_type": "stream",
     "text": [
      "<class 'pandas.core.frame.DataFrame'>\n",
      "RangeIndex: 291353 entries, 0 to 291352\n",
      "Data columns (total 4 columns):\n",
      " #   Column      Non-Null Count   Dtype  \n",
      "---  ------      --------------   -----  \n",
      " 0   조기폐차상태코드    291353 non-null  object \n",
      " 1   차대번호        291353 non-null  object \n",
      " 2   말소일자        134151 non-null  float64\n",
      " 3   조기폐차최종승인YN  128589 non-null  object \n",
      "dtypes: float64(1), object(3)\n",
      "memory usage: 8.9+ MB\n"
     ]
    }
   ],
   "source": [
    "# about 11.6s\n",
    "name = '[ODS]노후차_조기폐차_관리정보_수도권외(2022.12.28)'\n",
    "file_name = f'{name}.csv'\n",
    "lgv = pd.read_csv(os.path.join(ods_fold, file_name), low_memory=False, encoding='cp949', usecols=['차대번호', '말소일자', '조기폐차최종승인YN', '조기폐차상태코드'])\n",
    "lgv.info()"
   ]
  },
  {
   "attachments": {},
   "cell_type": "markdown",
   "metadata": {},
   "source": [
    "## 저감장치 부착이력"
   ]
  },
  {
   "cell_type": "code",
   "execution_count": 10,
   "metadata": {},
   "outputs": [
    {
     "name": "stdout",
     "output_type": "stream",
     "text": [
      "<class 'pandas.core.frame.DataFrame'>\n",
      "RangeIndex: 810777 entries, 0 to 810776\n",
      "Data columns (total 16 columns):\n",
      " #   Column      Non-Null Count   Dtype  \n",
      "---  ------      --------------   -----  \n",
      " 0   저감장치종류      586898 non-null  object \n",
      " 1   PM최종저감효율    84460 non-null   float64\n",
      " 2   TDMS부착여부    204951 non-null  object \n",
      " 3   구조변경일자      810777 non-null  int64  \n",
      " 4   부착업체명       801632 non-null  object \n",
      " 5   부착일자        810775 non-null  float64\n",
      " 6   탈거승인일       178 non-null     float64\n",
      " 7   차량번호        810777 non-null  object \n",
      " 8   차대번호        810777 non-null  object \n",
      " 9   주행거리        796828 non-null  float64\n",
      " 10  저감장치반납여부    326030 non-null  object \n",
      " 11  저감장치구분      810777 non-null  object \n",
      " 12  저감등록번호      810777 non-null  int64  \n",
      " 13  재장착확인일자     441 non-null     float64\n",
      " 14  장치일련번호      682711 non-null  object \n",
      " 15  삼원촉매장치반납여부  13694 non-null   object \n",
      "dtypes: float64(5), int64(2), object(9)\n",
      "memory usage: 99.0+ MB\n"
     ]
    }
   ],
   "source": [
    "# about 4.4s\n",
    "name = '[ODS]저감장치부착이력(2022.12.28)'\n",
    "file_name = f'{name}.csv'\n",
    "att = pd.read_csv(os.path.join(ods_fold, file_name), low_memory=False, encoding='cp949')\n",
    "att.info()"
   ]
  },
  {
   "attachments": {},
   "cell_type": "markdown",
   "metadata": {},
   "source": [
    "## 법정동 코드"
   ]
  },
  {
   "cell_type": "code",
   "execution_count": 11,
   "metadata": {},
   "outputs": [
    {
     "name": "stdout",
     "output_type": "stream",
     "text": [
      "<class 'pandas.core.frame.DataFrame'>\n",
      "RangeIndex: 46342 entries, 0 to 46341\n",
      "Data columns (total 9 columns):\n",
      " #   Column    Non-Null Count  Dtype  \n",
      "---  ------    --------------  -----  \n",
      " 0   법정동코드     46342 non-null  int64  \n",
      " 1   시도        46342 non-null  object \n",
      " 2   시구군       46319 non-null  object \n",
      " 3   읍면동       45849 non-null  object \n",
      " 4   리         33682 non-null  object \n",
      " 5   지역3       0 non-null      float64\n",
      " 6   폐지여부      46342 non-null  object \n",
      " 7   대기관리권역    46342 non-null  object \n",
      " 8   대기관리권역YN  46337 non-null  object \n",
      "dtypes: float64(1), int64(1), object(7)\n",
      "memory usage: 3.2+ MB\n"
     ]
    }
   ],
   "source": [
    "# about 5.6s\n",
    "name = '법정동코드_2022.10.14(수정2023.05.04)'\n",
    "file_name = f'{name}.xlsx'\n",
    "code = pd.read_excel(os.path.join(big2_fold, file_name))\n",
    "code.info()"
   ]
  },
  {
   "cell_type": "code",
   "execution_count": 12,
   "metadata": {},
   "outputs": [
    {
     "data": {
      "text/html": [
       "<div>\n",
       "<style scoped>\n",
       "    .dataframe tbody tr th:only-of-type {\n",
       "        vertical-align: middle;\n",
       "    }\n",
       "\n",
       "    .dataframe tbody tr th {\n",
       "        vertical-align: top;\n",
       "    }\n",
       "\n",
       "    .dataframe thead th {\n",
       "        text-align: right;\n",
       "    }\n",
       "</style>\n",
       "<table border=\"1\" class=\"dataframe\">\n",
       "  <thead>\n",
       "    <tr style=\"text-align: right;\">\n",
       "      <th></th>\n",
       "      <th>법정동코드</th>\n",
       "      <th>시도</th>\n",
       "      <th>시구군</th>\n",
       "      <th>읍면동</th>\n",
       "      <th>리</th>\n",
       "      <th>지역3</th>\n",
       "      <th>폐지여부</th>\n",
       "      <th>대기관리권역</th>\n",
       "      <th>대기관리권역YN</th>\n",
       "    </tr>\n",
       "  </thead>\n",
       "  <tbody>\n",
       "    <tr>\n",
       "      <th>0</th>\n",
       "      <td>1100000000</td>\n",
       "      <td>서울특별시</td>\n",
       "      <td>NaN</td>\n",
       "      <td>NaN</td>\n",
       "      <td>NaN</td>\n",
       "      <td>NaN</td>\n",
       "      <td>존재</td>\n",
       "      <td>수도권</td>\n",
       "      <td>Y</td>\n",
       "    </tr>\n",
       "    <tr>\n",
       "      <th>1</th>\n",
       "      <td>1111000000</td>\n",
       "      <td>서울특별시</td>\n",
       "      <td>종로구</td>\n",
       "      <td>NaN</td>\n",
       "      <td>NaN</td>\n",
       "      <td>NaN</td>\n",
       "      <td>존재</td>\n",
       "      <td>수도권</td>\n",
       "      <td>Y</td>\n",
       "    </tr>\n",
       "    <tr>\n",
       "      <th>2</th>\n",
       "      <td>1111010100</td>\n",
       "      <td>서울특별시</td>\n",
       "      <td>종로구</td>\n",
       "      <td>청운동</td>\n",
       "      <td>NaN</td>\n",
       "      <td>NaN</td>\n",
       "      <td>존재</td>\n",
       "      <td>수도권</td>\n",
       "      <td>Y</td>\n",
       "    </tr>\n",
       "    <tr>\n",
       "      <th>3</th>\n",
       "      <td>1111010200</td>\n",
       "      <td>서울특별시</td>\n",
       "      <td>종로구</td>\n",
       "      <td>신교동</td>\n",
       "      <td>NaN</td>\n",
       "      <td>NaN</td>\n",
       "      <td>존재</td>\n",
       "      <td>수도권</td>\n",
       "      <td>Y</td>\n",
       "    </tr>\n",
       "    <tr>\n",
       "      <th>4</th>\n",
       "      <td>1111010300</td>\n",
       "      <td>서울특별시</td>\n",
       "      <td>종로구</td>\n",
       "      <td>궁정동</td>\n",
       "      <td>NaN</td>\n",
       "      <td>NaN</td>\n",
       "      <td>존재</td>\n",
       "      <td>수도권</td>\n",
       "      <td>Y</td>\n",
       "    </tr>\n",
       "  </tbody>\n",
       "</table>\n",
       "</div>"
      ],
      "text/plain": [
       "        법정동코드     시도  시구군  읍면동    리  지역3 폐지여부 대기관리권역 대기관리권역YN\n",
       "0  1100000000  서울특별시  NaN  NaN  NaN  NaN   존재    수도권        Y\n",
       "1  1111000000  서울특별시  종로구  NaN  NaN  NaN   존재    수도권        Y\n",
       "2  1111010100  서울특별시  종로구  청운동  NaN  NaN   존재    수도권        Y\n",
       "3  1111010200  서울특별시  종로구  신교동  NaN  NaN   존재    수도권        Y\n",
       "4  1111010300  서울특별시  종로구  궁정동  NaN  NaN   존재    수도권        Y"
      ]
     },
     "execution_count": 12,
     "metadata": {},
     "output_type": "execute_result"
    }
   ],
   "source": [
    "code.head()"
   ]
  },
  {
   "cell_type": "code",
   "execution_count": 13,
   "metadata": {},
   "outputs": [
    {
     "data": {
      "text/html": [
       "<div>\n",
       "<style scoped>\n",
       "    .dataframe tbody tr th:only-of-type {\n",
       "        vertical-align: middle;\n",
       "    }\n",
       "\n",
       "    .dataframe tbody tr th {\n",
       "        vertical-align: top;\n",
       "    }\n",
       "\n",
       "    .dataframe thead th {\n",
       "        text-align: right;\n",
       "    }\n",
       "</style>\n",
       "<table border=\"1\" class=\"dataframe\">\n",
       "  <thead>\n",
       "    <tr style=\"text-align: right;\">\n",
       "      <th></th>\n",
       "      <th>본거지법정동코드</th>\n",
       "      <th>시도</th>\n",
       "      <th>시구군</th>\n",
       "      <th>읍면동</th>\n",
       "      <th>리</th>\n",
       "      <th>지역3</th>\n",
       "      <th>폐지여부</th>\n",
       "      <th>대기관리권역</th>\n",
       "      <th>대기관리권역YN</th>\n",
       "    </tr>\n",
       "  </thead>\n",
       "  <tbody>\n",
       "    <tr>\n",
       "      <th>0</th>\n",
       "      <td>1100000000</td>\n",
       "      <td>서울특별시</td>\n",
       "      <td>NaN</td>\n",
       "      <td>NaN</td>\n",
       "      <td>NaN</td>\n",
       "      <td>NaN</td>\n",
       "      <td>존재</td>\n",
       "      <td>수도권</td>\n",
       "      <td>Y</td>\n",
       "    </tr>\n",
       "    <tr>\n",
       "      <th>1</th>\n",
       "      <td>1111000000</td>\n",
       "      <td>서울특별시</td>\n",
       "      <td>종로구</td>\n",
       "      <td>NaN</td>\n",
       "      <td>NaN</td>\n",
       "      <td>NaN</td>\n",
       "      <td>존재</td>\n",
       "      <td>수도권</td>\n",
       "      <td>Y</td>\n",
       "    </tr>\n",
       "    <tr>\n",
       "      <th>2</th>\n",
       "      <td>1111010100</td>\n",
       "      <td>서울특별시</td>\n",
       "      <td>종로구</td>\n",
       "      <td>청운동</td>\n",
       "      <td>NaN</td>\n",
       "      <td>NaN</td>\n",
       "      <td>존재</td>\n",
       "      <td>수도권</td>\n",
       "      <td>Y</td>\n",
       "    </tr>\n",
       "    <tr>\n",
       "      <th>3</th>\n",
       "      <td>1111010200</td>\n",
       "      <td>서울특별시</td>\n",
       "      <td>종로구</td>\n",
       "      <td>신교동</td>\n",
       "      <td>NaN</td>\n",
       "      <td>NaN</td>\n",
       "      <td>존재</td>\n",
       "      <td>수도권</td>\n",
       "      <td>Y</td>\n",
       "    </tr>\n",
       "    <tr>\n",
       "      <th>4</th>\n",
       "      <td>1111010300</td>\n",
       "      <td>서울특별시</td>\n",
       "      <td>종로구</td>\n",
       "      <td>궁정동</td>\n",
       "      <td>NaN</td>\n",
       "      <td>NaN</td>\n",
       "      <td>존재</td>\n",
       "      <td>수도권</td>\n",
       "      <td>Y</td>\n",
       "    </tr>\n",
       "  </tbody>\n",
       "</table>\n",
       "</div>"
      ],
      "text/plain": [
       "     본거지법정동코드     시도  시구군  읍면동    리  지역3 폐지여부 대기관리권역 대기관리권역YN\n",
       "0  1100000000  서울특별시  NaN  NaN  NaN  NaN   존재    수도권        Y\n",
       "1  1111000000  서울특별시  종로구  NaN  NaN  NaN   존재    수도권        Y\n",
       "2  1111010100  서울특별시  종로구  청운동  NaN  NaN   존재    수도권        Y\n",
       "3  1111010200  서울특별시  종로구  신교동  NaN  NaN   존재    수도권        Y\n",
       "4  1111010300  서울특별시  종로구  궁정동  NaN  NaN   존재    수도권        Y"
      ]
     },
     "execution_count": 13,
     "metadata": {},
     "output_type": "execute_result"
    }
   ],
   "source": [
    "code = code.rename(columns={'법정동코드':'본거지법정동코드'})\n",
    "code.head()"
   ]
  },
  {
   "attachments": {},
   "cell_type": "markdown",
   "metadata": {},
   "source": [
    "## 차명_연료_매칭"
   ]
  },
  {
   "cell_type": "code",
   "execution_count": 14,
   "metadata": {},
   "outputs": [
    {
     "name": "stdout",
     "output_type": "stream",
     "text": [
      "<class 'pandas.core.frame.DataFrame'>\n",
      "RangeIndex: 216 entries, 0 to 215\n",
      "Data columns (total 2 columns):\n",
      " #   Column  Non-Null Count  Dtype \n",
      "---  ------  --------------  ----- \n",
      " 0   차명      216 non-null    object\n",
      " 1   연료      216 non-null    object\n",
      "dtypes: object(2)\n",
      "memory usage: 3.5+ KB\n"
     ]
    }
   ],
   "source": [
    "# about 0.1s\n",
    "name = '차명_연료_매칭_2023.03.03_AM.11.12.03'\n",
    "file_name = f'{name}.xlsx'\n",
    "fuel = pd.read_excel(os.path.join(big2_fold, file_name))\n",
    "fuel.info()"
   ]
  },
  {
   "cell_type": "code",
   "execution_count": 15,
   "metadata": {},
   "outputs": [
    {
     "data": {
      "text/html": [
       "<div>\n",
       "<style scoped>\n",
       "    .dataframe tbody tr th:only-of-type {\n",
       "        vertical-align: middle;\n",
       "    }\n",
       "\n",
       "    .dataframe tbody tr th {\n",
       "        vertical-align: top;\n",
       "    }\n",
       "\n",
       "    .dataframe thead th {\n",
       "        text-align: right;\n",
       "    }\n",
       "</style>\n",
       "<table border=\"1\" class=\"dataframe\">\n",
       "  <thead>\n",
       "    <tr style=\"text-align: right;\">\n",
       "      <th></th>\n",
       "      <th>차명</th>\n",
       "      <th>연료</th>\n",
       "    </tr>\n",
       "  </thead>\n",
       "  <tbody>\n",
       "    <tr>\n",
       "      <th>0</th>\n",
       "      <td>BENZ S500</td>\n",
       "      <td>휘발유</td>\n",
       "    </tr>\n",
       "    <tr>\n",
       "      <th>1</th>\n",
       "      <td>BMW</td>\n",
       "      <td>휘발유</td>\n",
       "    </tr>\n",
       "    <tr>\n",
       "      <th>2</th>\n",
       "      <td>BMW 3-SERIES</td>\n",
       "      <td>휘발유</td>\n",
       "    </tr>\n",
       "    <tr>\n",
       "      <th>3</th>\n",
       "      <td>BMW 318I</td>\n",
       "      <td>휘발유</td>\n",
       "    </tr>\n",
       "    <tr>\n",
       "      <th>4</th>\n",
       "      <td>BMW 325CI</td>\n",
       "      <td>휘발유</td>\n",
       "    </tr>\n",
       "  </tbody>\n",
       "</table>\n",
       "</div>"
      ],
      "text/plain": [
       "             차명   연료\n",
       "0     BENZ S500  휘발유\n",
       "1           BMW  휘발유\n",
       "2  BMW 3-SERIES  휘발유\n",
       "3      BMW 318I  휘발유\n",
       "4     BMW 325CI  휘발유"
      ]
     },
     "execution_count": 15,
     "metadata": {},
     "output_type": "execute_result"
    }
   ],
   "source": [
    "fuel.head()"
   ]
  },
  {
   "attachments": {},
   "cell_type": "markdown",
   "metadata": {},
   "source": [
    "## 운행제한 단속 정보"
   ]
  },
  {
   "cell_type": "code",
   "execution_count": 16,
   "metadata": {},
   "outputs": [
    {
     "name": "stdout",
     "output_type": "stream",
     "text": [
      "<class 'pandas.core.frame.DataFrame'>\n",
      "RangeIndex: 1225025 entries, 0 to 1225024\n",
      "Data columns (total 5 columns):\n",
      " #   Column         Non-Null Count    Dtype  \n",
      "---  ------         --------------    -----  \n",
      " 0   차대번호           1225025 non-null  object \n",
      " 1   비상시및계절제단속발령건수  1204906 non-null  float64\n",
      " 2   비상시및계절제단속발령YN  1204906 non-null  object \n",
      " 3   운행제한단속정보건수     85594 non-null    float64\n",
      " 4   운행제한단속정보YN     85594 non-null    object \n",
      "dtypes: float64(2), object(3)\n",
      "memory usage: 46.7+ MB\n"
     ]
    }
   ],
   "source": [
    "# about \n",
    "name = '운행제한 테이블 비교'\n",
    "file_name = f'{name}.csv'\n",
    "limit = pd.read_csv(os.path.join(raw_fold, file_name), encoding='cp949')\n",
    "limit.info()"
   ]
  },
  {
   "cell_type": "code",
   "execution_count": 17,
   "metadata": {},
   "outputs": [
    {
     "data": {
      "text/html": [
       "<div>\n",
       "<style scoped>\n",
       "    .dataframe tbody tr th:only-of-type {\n",
       "        vertical-align: middle;\n",
       "    }\n",
       "\n",
       "    .dataframe tbody tr th {\n",
       "        vertical-align: top;\n",
       "    }\n",
       "\n",
       "    .dataframe thead th {\n",
       "        text-align: right;\n",
       "    }\n",
       "</style>\n",
       "<table border=\"1\" class=\"dataframe\">\n",
       "  <thead>\n",
       "    <tr style=\"text-align: right;\">\n",
       "      <th></th>\n",
       "      <th>차대번호</th>\n",
       "      <th>비상시및계절제단속발령건수</th>\n",
       "      <th>비상시및계절제단속발령YN</th>\n",
       "      <th>운행제한단속정보건수</th>\n",
       "      <th>운행제한단속정보YN</th>\n",
       "    </tr>\n",
       "  </thead>\n",
       "  <tbody>\n",
       "    <tr>\n",
       "      <th>81</th>\n",
       "      <td>KMFDA18TP5C003672</td>\n",
       "      <td>450.00</td>\n",
       "      <td>Y</td>\n",
       "      <td>1.00</td>\n",
       "      <td>Y</td>\n",
       "    </tr>\n",
       "    <tr>\n",
       "      <th>109</th>\n",
       "      <td>YV2JS02CX6A619834</td>\n",
       "      <td>62.00</td>\n",
       "      <td>Y</td>\n",
       "      <td>81.00</td>\n",
       "      <td>Y</td>\n",
       "    </tr>\n",
       "    <tr>\n",
       "      <th>134</th>\n",
       "      <td>KMHSJ81WP6U077230</td>\n",
       "      <td>16.00</td>\n",
       "      <td>Y</td>\n",
       "      <td>1.00</td>\n",
       "      <td>Y</td>\n",
       "    </tr>\n",
       "    <tr>\n",
       "      <th>181</th>\n",
       "      <td>KMFLA18EP7C020349</td>\n",
       "      <td>1858.00</td>\n",
       "      <td>Y</td>\n",
       "      <td>183.00</td>\n",
       "      <td>Y</td>\n",
       "    </tr>\n",
       "    <tr>\n",
       "      <th>186</th>\n",
       "      <td>KMFGA17PP7C057641</td>\n",
       "      <td>223.00</td>\n",
       "      <td>Y</td>\n",
       "      <td>8.00</td>\n",
       "      <td>Y</td>\n",
       "    </tr>\n",
       "  </tbody>\n",
       "</table>\n",
       "</div>"
      ],
      "text/plain": [
       "                  차대번호  비상시및계절제단속발령건수 비상시및계절제단속발령YN  운행제한단속정보건수 운행제한단속정보YN\n",
       "81   KMFDA18TP5C003672         450.00             Y        1.00          Y\n",
       "109  YV2JS02CX6A619834          62.00             Y       81.00          Y\n",
       "134  KMHSJ81WP6U077230          16.00             Y        1.00          Y\n",
       "181  KMFLA18EP7C020349        1858.00             Y      183.00          Y\n",
       "186  KMFGA17PP7C057641         223.00             Y        8.00          Y"
      ]
     },
     "execution_count": 17,
     "metadata": {},
     "output_type": "execute_result"
    }
   ],
   "source": [
    "limit.loc[limit['운행제한단속정보건수'].isnull() == False].head()"
   ]
  },
  {
   "attachments": {},
   "cell_type": "markdown",
   "metadata": {},
   "source": [
    "### 5등급 차량 데이터에 운행제한 적발건수 정보 추가\n",
    "- 차대번호, 차종_등록정보, 차종유형, 운행제한단속정보건수"
   ]
  },
  {
   "cell_type": "code",
   "execution_count": 18,
   "metadata": {},
   "outputs": [
    {
     "data": {
      "text/plain": [
       "(10000, 49)"
      ]
     },
     "execution_count": 18,
     "metadata": {},
     "output_type": "execute_result"
    }
   ],
   "source": [
    "car.shape"
   ]
  },
  {
   "cell_type": "code",
   "execution_count": 19,
   "metadata": {},
   "outputs": [
    {
     "data": {
      "text/plain": [
       "Index(['차량관리번호', '차량등록번호', '본거지법정동코드', '소유자구분', '차종_등록정보', '용도', '현재회원번호',\n",
       "       '차대번호', '최초등록일자', '차량연식', '차량제작일자', '배출가스검사유효일자', '제원관리번호', '배출가스인증번호',\n",
       "       '배출가스등급', '저공해조치YN(미사용)', '저공해조치종류', '저공해조치구조변경YN', '차량등록번호숫자정보',\n",
       "       '차량말소YN', '최초회원번호', '취득일자', '취득금액', '생성일시_등록정보', '수정일시_등록정보', '차명',\n",
       "       '차종_제원정보', '차종분류', '차종유형(소분류)', '자동차형식', '제작사명', '연료', '엔진형식', '공차중량',\n",
       "       '총중량', '적재중량', '엔진출력', '배기량', '승차인원', '차량길이', '차량너비', '차량높이', '원산지명',\n",
       "       '삭제YN', '승인일자', '구동형식', '변속기종류', '생성일시_제원정보', '수정일시_제원정보'],\n",
       "      dtype='object')"
      ]
     },
     "execution_count": 19,
     "metadata": {},
     "output_type": "execute_result"
    }
   ],
   "source": [
    "car.columns"
   ]
  },
  {
   "cell_type": "code",
   "execution_count": 20,
   "metadata": {},
   "outputs": [
    {
     "data": {
      "text/plain": [
       "차량말소YN\n",
       "N    9687\n",
       "Y     313\n",
       "Name: count, dtype: int64"
      ]
     },
     "execution_count": 20,
     "metadata": {},
     "output_type": "execute_result"
    }
   ],
   "source": [
    "car['차량말소YN'].value_counts(dropna=False)"
   ]
  },
  {
   "cell_type": "code",
   "execution_count": 21,
   "metadata": {},
   "outputs": [
    {
     "data": {
      "text/plain": [
       "(9687, 5)"
      ]
     },
     "execution_count": 21,
     "metadata": {},
     "output_type": "execute_result"
    }
   ],
   "source": [
    "# about 56.3s\n",
    "car_limit = car.loc[car['차량말소YN'] == 'N', ['차대번호', '본거지법정동코드', '차종_등록정보', '차종유형(소분류)']].merge(limit[['차대번호', '운행제한단속정보건수']], on='차대번호', how='left')\n",
    "car_limit.shape"
   ]
  },
  {
   "cell_type": "code",
   "execution_count": 22,
   "metadata": {},
   "outputs": [
    {
     "data": {
      "text/plain": [
       "9599"
      ]
     },
     "execution_count": 22,
     "metadata": {},
     "output_type": "execute_result"
    }
   ],
   "source": [
    "car_limit['운행제한단속정보건수'].isnull().sum()"
   ]
  },
  {
   "cell_type": "code",
   "execution_count": 23,
   "metadata": {},
   "outputs": [],
   "source": [
    "chc_dict = {\n",
    "    '본거지법정동코드':'BSPL_STDG_CD', \n",
    "    '차대번호':'VIN', \n",
    "    '차종_등록정보':'VHCTY_CD',\n",
    "    '차종유형(소분류)':'VHCTY_TY', \n",
    "    '연료':'FUEL_CD',\n",
    "    '차량말소YN':'VHCL_ERSR_YN', \n",
    "    '조기폐차최종승인YN':'ELPDSRC_LAST_APRV_YN', \n",
    "    '운행제한단속정보건수':'RUN_LMT_CRDN_INFO_NOCS',\n",
    "}"
   ]
  },
  {
   "cell_type": "code",
   "execution_count": 24,
   "metadata": {},
   "outputs": [
    {
     "data": {
      "text/plain": [
       "Index(['VIN', 'BSPL_STDG_CD', 'VHCTY_CD', 'VHCTY_TY',\n",
       "       'RUN_LMT_CRDN_INFO_NOCS'],\n",
       "      dtype='object')"
      ]
     },
     "execution_count": 24,
     "metadata": {},
     "output_type": "execute_result"
    }
   ],
   "source": [
    "car_limit = car_limit.rename(columns=chc_dict)\n",
    "car_limit.columns"
   ]
  },
  {
   "cell_type": "code",
   "execution_count": null,
   "metadata": {},
   "outputs": [],
   "source": [
    "# # about \n",
    "# car_limit.to_csv(os.path.join(df_fold, '운행제한단속건수.csv'), index=False)"
   ]
  },
  {
   "cell_type": "code",
   "execution_count": 25,
   "metadata": {},
   "outputs": [
    {
     "data": {
      "text/plain": [
       "1225025"
      ]
     },
     "execution_count": 25,
     "metadata": {},
     "output_type": "execute_result"
    }
   ],
   "source": [
    "len(limit['차대번호'].unique())"
   ]
  },
  {
   "cell_type": "code",
   "execution_count": 26,
   "metadata": {},
   "outputs": [
    {
     "data": {
      "text/plain": [
       "(1225025, 2)"
      ]
     },
     "execution_count": 26,
     "metadata": {},
     "output_type": "execute_result"
    }
   ],
   "source": [
    "limit = limit[['차대번호', '운행제한단속정보YN']]\n",
    "limit.shape"
   ]
  },
  {
   "cell_type": "code",
   "execution_count": 27,
   "metadata": {},
   "outputs": [
    {
     "data": {
      "text/plain": [
       "Index(['차대번호', '운행제한단속YN'], dtype='object')"
      ]
     },
     "execution_count": 27,
     "metadata": {},
     "output_type": "execute_result"
    }
   ],
   "source": [
    "limit = limit.rename(columns={'운행제한단속정보YN':'운행제한단속YN'})\n",
    "limit.columns"
   ]
  },
  {
   "attachments": {},
   "cell_type": "markdown",
   "metadata": {},
   "source": [
    "## 비상시 및 계절제 단속 정보"
   ]
  },
  {
   "cell_type": "code",
   "execution_count": 28,
   "metadata": {},
   "outputs": [
    {
     "name": "stdout",
     "output_type": "stream",
     "text": [
      "<class 'pandas.core.frame.DataFrame'>\n",
      "RangeIndex: 1204906 entries, 0 to 1204905\n",
      "Data columns (total 5 columns):\n",
      " #   Column     Non-Null Count    Dtype \n",
      "---  ------     --------------    ----- \n",
      " 0   차대번호       1204906 non-null  object\n",
      " 1   계절제1차단속YN  148281 non-null   object\n",
      " 2   계절제2차단속YN  672107 non-null   object\n",
      " 3   계절제3차단속YN  589160 non-null   object\n",
      " 4   비상시단속YN    397477 non-null   object\n",
      "dtypes: object(5)\n",
      "memory usage: 46.0+ MB\n"
     ]
    }
   ],
   "source": [
    "# about 2.4s\n",
    "name = '비상시 및 계절제 단속발령 적발YN(2023.05.26)'\n",
    "file_name = f'{name}.csv'\n",
    "slimit = pd.read_csv(os.path.join(raw_fold, file_name))\n",
    "slimit.info()"
   ]
  },
  {
   "cell_type": "code",
   "execution_count": 29,
   "metadata": {},
   "outputs": [],
   "source": [
    "slimitm = slimit.copy()"
   ]
  },
  {
   "attachments": {},
   "cell_type": "markdown",
   "metadata": {},
   "source": [
    "# 전처리"
   ]
  },
  {
   "attachments": {},
   "cell_type": "markdown",
   "metadata": {},
   "source": [
    "## 말소 차량 제거(❌)"
   ]
  },
  {
   "cell_type": "code",
   "execution_count": 30,
   "metadata": {},
   "outputs": [
    {
     "data": {
      "text/plain": [
       "차량말소YN\n",
       "N    9687\n",
       "Y     313\n",
       "Name: count, dtype: int64"
      ]
     },
     "execution_count": 30,
     "metadata": {},
     "output_type": "execute_result"
    }
   ],
   "source": [
    "car['차량말소YN'].value_counts(dropna=False)"
   ]
  },
  {
   "cell_type": "code",
   "execution_count": 31,
   "metadata": {},
   "outputs": [
    {
     "data": {
      "text/plain": [
       "(10000, 49)"
      ]
     },
     "execution_count": 31,
     "metadata": {},
     "output_type": "execute_result"
    }
   ],
   "source": [
    "# about 37.2s\n",
    "# carm = car.loc[car['차량말소YN'] == 'N'].reset_index(drop=True)\n",
    "carm = car.reset_index(drop=True)\n",
    "carm.shape"
   ]
  },
  {
   "cell_type": "code",
   "execution_count": 32,
   "metadata": {},
   "outputs": [
    {
     "data": {
      "text/plain": [
       "Index(['차량관리번호', '차량등록번호', '본거지법정동코드', '소유자구분', '차종_등록정보', '용도', '현재회원번호',\n",
       "       '차대번호', '최초등록일자', '차량연식', '차량제작일자', '배출가스검사유효일자', '제원관리번호', '배출가스인증번호',\n",
       "       '배출가스등급', '저공해조치YN(미사용)', '저공해조치종류', '저공해조치구조변경YN', '차량등록번호숫자정보',\n",
       "       '차량말소YN', '최초회원번호', '취득일자', '취득금액', '생성일시_등록정보', '수정일시_등록정보', '차명',\n",
       "       '차종_제원정보', '차종분류', '차종유형(소분류)', '자동차형식', '제작사명', '연료', '엔진형식', '공차중량',\n",
       "       '총중량', '적재중량', '엔진출력', '배기량', '승차인원', '차량길이', '차량너비', '차량높이', '원산지명',\n",
       "       '삭제YN', '승인일자', '구동형식', '변속기종류', '생성일시_제원정보', '수정일시_제원정보'],\n",
       "      dtype='object')"
      ]
     },
     "execution_count": 32,
     "metadata": {},
     "output_type": "execute_result"
    }
   ],
   "source": [
    "carm.columns"
   ]
  },
  {
   "cell_type": "code",
   "execution_count": 33,
   "metadata": {},
   "outputs": [
    {
     "data": {
      "text/plain": [
       "차량말소YN\n",
       "N    9808\n",
       "Y     192\n",
       "Name: count, dtype: int64"
      ]
     },
     "execution_count": 33,
     "metadata": {},
     "output_type": "execute_result"
    }
   ],
   "source": [
    "g5['차량말소YN'].value_counts(dropna=False)"
   ]
  },
  {
   "cell_type": "code",
   "execution_count": 34,
   "metadata": {},
   "outputs": [
    {
     "data": {
      "text/plain": [
       "(10000, 49)"
      ]
     },
     "execution_count": 34,
     "metadata": {},
     "output_type": "execute_result"
    }
   ],
   "source": [
    "# gm5 = g5.loc[g5['차량말소YN'] == 'N'].reset_index(drop=True)\n",
    "gm5 = g5.reset_index(drop=True)\n",
    "gm5.shape"
   ]
  },
  {
   "cell_type": "code",
   "execution_count": 35,
   "metadata": {},
   "outputs": [
    {
     "data": {
      "text/plain": [
       "Index(['차량관리번호', '차량등록번호', '본거지법정동코드', '소유자구분', '차종_등록정보', '용도', '현재회원번호',\n",
       "       '차대번호', '최초등록일자', '차량연식', '차량제작일자', '배출가스검사유효일자', '제원관리번호', '배출가스인증번호',\n",
       "       '배출가스등급', '저공해조치YN(미사용)', '저공해조치종류', '저공해조치구조변경YN', '차량등록번호숫자정보',\n",
       "       '차량말소YN', '최초회원번호', '취득일자', '취득금액', '생성일시_등록정보', '수정일시_등록정보', '차명',\n",
       "       '차종_제원정보', '차종분류', '차종유형(소분류)', '자동차형식', '제작사명', '연료', '엔진형식', '공차중량',\n",
       "       '총중량', '적재중량', '엔진출력', '배기량', '승차인원', '차량길이', '차량너비', '차량높이', '원산지명',\n",
       "       '삭제YN', '승인일자', '구동형식', '변속기종류', '생성일시_제원정보', '수정일시_제원정보'],\n",
       "      dtype='object')"
      ]
     },
     "execution_count": 35,
     "metadata": {},
     "output_type": "execute_result"
    }
   ],
   "source": [
    "gm5.columns"
   ]
  },
  {
   "attachments": {},
   "cell_type": "markdown",
   "metadata": {},
   "source": [
    "## 등급 수정"
   ]
  },
  {
   "cell_type": "code",
   "execution_count": 36,
   "metadata": {},
   "outputs": [
    {
     "data": {
      "text/plain": [
       "배출가스등급\n",
       "5     9140\n",
       "X      855\n",
       "T5       3\n",
       "4        2\n",
       "Name: count, dtype: int64"
      ]
     },
     "execution_count": 36,
     "metadata": {},
     "output_type": "execute_result"
    }
   ],
   "source": [
    "carm['배출가스등급'].value_counts(dropna=False)"
   ]
  },
  {
   "cell_type": "code",
   "execution_count": 37,
   "metadata": {},
   "outputs": [],
   "source": [
    "carm.loc[(carm['배출가스등급'] == 1) | (carm['배출가스등급'] == '1'), '등급'] = 1\n",
    "carm.loc[(carm['배출가스등급'] == 2) | (carm['배출가스등급'] == '2') | (carm['배출가스등급'] == 'T2'), '등급'] = 2\n",
    "carm.loc[(carm['배출가스등급'] == 3) | (carm['배출가스등급'] == '3') | (carm['배출가스등급'] == 'T3'), '등급'] = 3\n",
    "carm.loc[(carm['배출가스등급'] == 4) | (carm['배출가스등급'] == '4') | (carm['배출가스등급'] == 'T4'), '등급'] = 4\n",
    "carm.loc[(carm['배출가스등급'] == 5) | (carm['배출가스등급'] == '5') | (carm['배출가스등급'] == 'T5'), '등급'] = 5\n",
    "carm.loc[carm['배출가스등급'] == 'X', '등급'] = 'X'\n",
    "carm.loc[carm['배출가스등급'].isnull() == True, '등급'] = np.nan"
   ]
  },
  {
   "cell_type": "code",
   "execution_count": 38,
   "metadata": {},
   "outputs": [
    {
     "data": {
      "text/plain": [
       "등급\n",
       "5.0    9143\n",
       "X       855\n",
       "4.0       2\n",
       "Name: count, dtype: int64"
      ]
     },
     "execution_count": 38,
     "metadata": {},
     "output_type": "execute_result"
    }
   ],
   "source": [
    "carm['등급'].value_counts(dropna=False)"
   ]
  },
  {
   "attachments": {},
   "cell_type": "markdown",
   "metadata": {},
   "source": [
    "## 시도, 시구군 정보 부착"
   ]
  },
  {
   "cell_type": "code",
   "execution_count": 39,
   "metadata": {},
   "outputs": [
    {
     "data": {
      "text/plain": [
       "Index(['본거지법정동코드', '시도', '시구군', '읍면동', '리', '지역3', '폐지여부', '대기관리권역',\n",
       "       '대기관리권역YN'],\n",
       "      dtype='object')"
      ]
     },
     "execution_count": 39,
     "metadata": {},
     "output_type": "execute_result"
    }
   ],
   "source": [
    "code.columns"
   ]
  },
  {
   "cell_type": "code",
   "execution_count": 40,
   "metadata": {},
   "outputs": [
    {
     "data": {
      "text/plain": [
       "Index(['차량관리번호', '차량등록번호', '본거지법정동코드', '소유자구분', '차종_등록정보', '용도', '현재회원번호',\n",
       "       '차대번호', '최초등록일자', '차량연식', '차량제작일자', '배출가스검사유효일자', '제원관리번호', '배출가스인증번호',\n",
       "       '배출가스등급', '저공해조치YN(미사용)', '저공해조치종류', '저공해조치구조변경YN', '차량등록번호숫자정보',\n",
       "       '차량말소YN', '최초회원번호', '취득일자', '취득금액', '생성일시_등록정보', '수정일시_등록정보', '차명',\n",
       "       '차종_제원정보', '차종분류', '차종유형(소분류)', '자동차형식', '제작사명', '연료', '엔진형식', '공차중량',\n",
       "       '총중량', '적재중량', '엔진출력', '배기량', '승차인원', '차량길이', '차량너비', '차량높이', '원산지명',\n",
       "       '삭제YN', '승인일자', '구동형식', '변속기종류', '생성일시_제원정보', '수정일시_제원정보', '등급'],\n",
       "      dtype='object')"
      ]
     },
     "execution_count": 40,
     "metadata": {},
     "output_type": "execute_result"
    }
   ],
   "source": [
    "carm.columns"
   ]
  },
  {
   "cell_type": "code",
   "execution_count": 41,
   "metadata": {},
   "outputs": [
    {
     "data": {
      "text/plain": [
       "(10000, 13)"
      ]
     },
     "execution_count": 41,
     "metadata": {},
     "output_type": "execute_result"
    }
   ],
   "source": [
    "# about 20.5s\n",
    "df = carm[['차량등록번호', '본거지법정동코드', '차대번호', '제원관리번호', '배출가스인증번호', '차명', '차종_등록정보', '차종유형(소분류)', '연료', '차량말소YN', '등급']].merge(code[['본거지법정동코드', '시도', '시구군']], on='본거지법정동코드', how='left')\n",
    "df.shape"
   ]
  },
  {
   "cell_type": "code",
   "execution_count": 42,
   "metadata": {},
   "outputs": [
    {
     "data": {
      "text/plain": [
       "시도     0\n",
       "시구군    3\n",
       "dtype: int64"
      ]
     },
     "execution_count": 42,
     "metadata": {},
     "output_type": "execute_result"
    }
   ],
   "source": [
    "df[['시도', '시구군']].isnull().sum()"
   ]
  },
  {
   "cell_type": "code",
   "execution_count": 43,
   "metadata": {},
   "outputs": [
    {
     "data": {
      "text/html": [
       "<div>\n",
       "<style scoped>\n",
       "    .dataframe tbody tr th:only-of-type {\n",
       "        vertical-align: middle;\n",
       "    }\n",
       "\n",
       "    .dataframe tbody tr th {\n",
       "        vertical-align: top;\n",
       "    }\n",
       "\n",
       "    .dataframe thead th {\n",
       "        text-align: right;\n",
       "    }\n",
       "</style>\n",
       "<table border=\"1\" class=\"dataframe\">\n",
       "  <thead>\n",
       "    <tr style=\"text-align: right;\">\n",
       "      <th></th>\n",
       "      <th>본거지법정동코드</th>\n",
       "      <th>시도</th>\n",
       "      <th>시구군</th>\n",
       "    </tr>\n",
       "  </thead>\n",
       "  <tbody>\n",
       "  </tbody>\n",
       "</table>\n",
       "</div>"
      ],
      "text/plain": [
       "Empty DataFrame\n",
       "Columns: [본거지법정동코드, 시도, 시구군]\n",
       "Index: []"
      ]
     },
     "execution_count": 43,
     "metadata": {},
     "output_type": "execute_result"
    }
   ],
   "source": [
    "df.loc[df['시도'].isnull() == True, ['본거지법정동코드', '시도', '시구군']]"
   ]
  },
  {
   "cell_type": "code",
   "execution_count": 44,
   "metadata": {},
   "outputs": [
    {
     "data": {
      "text/html": [
       "<div>\n",
       "<style scoped>\n",
       "    .dataframe tbody tr th:only-of-type {\n",
       "        vertical-align: middle;\n",
       "    }\n",
       "\n",
       "    .dataframe tbody tr th {\n",
       "        vertical-align: top;\n",
       "    }\n",
       "\n",
       "    .dataframe thead th {\n",
       "        text-align: right;\n",
       "    }\n",
       "</style>\n",
       "<table border=\"1\" class=\"dataframe\">\n",
       "  <thead>\n",
       "    <tr style=\"text-align: right;\">\n",
       "      <th></th>\n",
       "      <th>본거지법정동코드</th>\n",
       "      <th>시도</th>\n",
       "      <th>시구군</th>\n",
       "    </tr>\n",
       "  </thead>\n",
       "  <tbody>\n",
       "    <tr>\n",
       "      <th>6410</th>\n",
       "      <td>4100000000</td>\n",
       "      <td>경기도</td>\n",
       "      <td>NaN</td>\n",
       "    </tr>\n",
       "    <tr>\n",
       "      <th>7767</th>\n",
       "      <td>3611000000</td>\n",
       "      <td>세종특별자치시</td>\n",
       "      <td>NaN</td>\n",
       "    </tr>\n",
       "    <tr>\n",
       "      <th>7864</th>\n",
       "      <td>3611000000</td>\n",
       "      <td>세종특별자치시</td>\n",
       "      <td>NaN</td>\n",
       "    </tr>\n",
       "  </tbody>\n",
       "</table>\n",
       "</div>"
      ],
      "text/plain": [
       "        본거지법정동코드       시도  시구군\n",
       "6410  4100000000      경기도  NaN\n",
       "7767  3611000000  세종특별자치시  NaN\n",
       "7864  3611000000  세종특별자치시  NaN"
      ]
     },
     "execution_count": 44,
     "metadata": {},
     "output_type": "execute_result"
    }
   ],
   "source": [
    "df.loc[df['시구군'].isnull() == True, ['본거지법정동코드', '시도', '시구군']]"
   ]
  },
  {
   "cell_type": "code",
   "execution_count": 45,
   "metadata": {},
   "outputs": [
    {
     "data": {
      "text/plain": [
       "Index(['차량관리번호', '차량등록번호', '본거지법정동코드', '소유자구분', '차종_등록정보', '용도', '현재회원번호',\n",
       "       '차대번호', '최초등록일자', '차량연식', '차량제작일자', '배출가스검사유효일자', '제원관리번호', '배출가스인증번호',\n",
       "       '배출가스등급', '저공해조치YN(미사용)', '저공해조치종류', '저공해조치구조변경YN', '차량등록번호숫자정보',\n",
       "       '차량말소YN', '최초회원번호', '취득일자', '취득금액', '생성일시_등록정보', '수정일시_등록정보', '차명',\n",
       "       '차종_제원정보', '차종분류', '차종유형(소분류)', '자동차형식', '제작사명', '연료', '엔진형식', '공차중량',\n",
       "       '총중량', '적재중량', '엔진출력', '배기량', '승차인원', '차량길이', '차량너비', '차량높이', '원산지명',\n",
       "       '삭제YN', '승인일자', '구동형식', '변속기종류', '생성일시_제원정보', '수정일시_제원정보'],\n",
       "      dtype='object')"
      ]
     },
     "execution_count": 45,
     "metadata": {},
     "output_type": "execute_result"
    }
   ],
   "source": [
    "gm5.columns"
   ]
  },
  {
   "cell_type": "code",
   "execution_count": 46,
   "metadata": {},
   "outputs": [
    {
     "data": {
      "text/plain": [
       "(10000, 20)"
      ]
     },
     "execution_count": 46,
     "metadata": {},
     "output_type": "execute_result"
    }
   ],
   "source": [
    "# about 0.8s\n",
    "dfg5 = gm5[['차량등록번호', '차종_등록정보', '차종유형(소분류)', '용도', '본거지법정동코드', '차대번호', '제원관리번호', '배출가스인증번호', '배출가스등급', '차명', '연료', '차량말소YN']].merge(code, on='본거지법정동코드', how='left')\n",
    "dfg5.shape"
   ]
  },
  {
   "cell_type": "code",
   "execution_count": 47,
   "metadata": {},
   "outputs": [
    {
     "data": {
      "text/plain": [
       "시도          0\n",
       "시구군         4\n",
       "대기관리권역      0\n",
       "대기관리권역YN    0\n",
       "dtype: int64"
      ]
     },
     "execution_count": 47,
     "metadata": {},
     "output_type": "execute_result"
    }
   ],
   "source": [
    "dfg5[['시도', '시구군', '대기관리권역', '대기관리권역YN']].isnull().sum()"
   ]
  },
  {
   "cell_type": "code",
   "execution_count": 48,
   "metadata": {},
   "outputs": [
    {
     "data": {
      "text/html": [
       "<div>\n",
       "<style scoped>\n",
       "    .dataframe tbody tr th:only-of-type {\n",
       "        vertical-align: middle;\n",
       "    }\n",
       "\n",
       "    .dataframe tbody tr th {\n",
       "        vertical-align: top;\n",
       "    }\n",
       "\n",
       "    .dataframe thead th {\n",
       "        text-align: right;\n",
       "    }\n",
       "</style>\n",
       "<table border=\"1\" class=\"dataframe\">\n",
       "  <thead>\n",
       "    <tr style=\"text-align: right;\">\n",
       "      <th></th>\n",
       "      <th>본거지법정동코드</th>\n",
       "      <th>시도</th>\n",
       "      <th>시구군</th>\n",
       "      <th>대기관리권역</th>\n",
       "      <th>대기관리권역YN</th>\n",
       "    </tr>\n",
       "  </thead>\n",
       "  <tbody>\n",
       "    <tr>\n",
       "      <th>5750</th>\n",
       "      <td>4100000000</td>\n",
       "      <td>경기도</td>\n",
       "      <td>NaN</td>\n",
       "      <td>수도권</td>\n",
       "      <td>Y</td>\n",
       "    </tr>\n",
       "    <tr>\n",
       "      <th>7004</th>\n",
       "      <td>3611000000</td>\n",
       "      <td>세종특별자치시</td>\n",
       "      <td>NaN</td>\n",
       "      <td>중부권</td>\n",
       "      <td>Y</td>\n",
       "    </tr>\n",
       "    <tr>\n",
       "      <th>7100</th>\n",
       "      <td>3611000000</td>\n",
       "      <td>세종특별자치시</td>\n",
       "      <td>NaN</td>\n",
       "      <td>중부권</td>\n",
       "      <td>Y</td>\n",
       "    </tr>\n",
       "    <tr>\n",
       "      <th>9449</th>\n",
       "      <td>3611000000</td>\n",
       "      <td>세종특별자치시</td>\n",
       "      <td>NaN</td>\n",
       "      <td>중부권</td>\n",
       "      <td>Y</td>\n",
       "    </tr>\n",
       "  </tbody>\n",
       "</table>\n",
       "</div>"
      ],
      "text/plain": [
       "        본거지법정동코드       시도  시구군 대기관리권역 대기관리권역YN\n",
       "5750  4100000000      경기도  NaN    수도권        Y\n",
       "7004  3611000000  세종특별자치시  NaN    중부권        Y\n",
       "7100  3611000000  세종특별자치시  NaN    중부권        Y\n",
       "9449  3611000000  세종특별자치시  NaN    중부권        Y"
      ]
     },
     "execution_count": 48,
     "metadata": {},
     "output_type": "execute_result"
    }
   ],
   "source": [
    "dfg5.loc[dfg5['시구군'].isnull() == True, ['본거지법정동코드', '시도', '시구군', '대기관리권역', '대기관리권역YN']]"
   ]
  },
  {
   "attachments": {},
   "cell_type": "markdown",
   "metadata": {},
   "source": [
    "## 연료 결측, 기타연료 확인"
   ]
  },
  {
   "cell_type": "code",
   "execution_count": 49,
   "metadata": {},
   "outputs": [
    {
     "data": {
      "text/plain": [
       "연료\n",
       "휘발유            5704\n",
       "경유             3586\n",
       "NaN             592\n",
       "기타연료            115\n",
       "등유                1\n",
       "알코올               1\n",
       "LPG(액화석유가스)       1\n",
       "Name: count, dtype: int64"
      ]
     },
     "execution_count": 49,
     "metadata": {},
     "output_type": "execute_result"
    }
   ],
   "source": [
    "df['연료'].value_counts(dropna=False)"
   ]
  },
  {
   "cell_type": "code",
   "execution_count": 50,
   "metadata": {},
   "outputs": [],
   "source": [
    "# fuel_dict = {a:b for a, b in fuel.values}\n",
    "# fuel_dict"
   ]
  },
  {
   "cell_type": "code",
   "execution_count": 51,
   "metadata": {},
   "outputs": [],
   "source": [
    "# df.loc[((df['연료'].isnull() == True) | (df['연료'] == '기타연료')), '차명'].unique()"
   ]
  },
  {
   "cell_type": "code",
   "execution_count": 52,
   "metadata": {},
   "outputs": [],
   "source": [
    "# for one in df.loc[((df['연료'].isnull() == True) | (df['연료'] == '기타연료')), '차명'].unique():\n",
    "#     df.loc[((df['연료'].isnull() == True) | (df['연료'] == '기타연료')) & (df['차명'] == one), '연료'] = fuel_dict[one]"
   ]
  },
  {
   "cell_type": "code",
   "execution_count": 53,
   "metadata": {},
   "outputs": [
    {
     "data": {
      "text/plain": [
       "연료\n",
       "휘발유            5704\n",
       "경유             3586\n",
       "NaN             592\n",
       "기타연료            115\n",
       "등유                1\n",
       "알코올               1\n",
       "LPG(액화석유가스)       1\n",
       "Name: count, dtype: int64"
      ]
     },
     "execution_count": 53,
     "metadata": {},
     "output_type": "execute_result"
    }
   ],
   "source": [
    "df['연료'].value_counts(dropna=False)"
   ]
  },
  {
   "cell_type": "code",
   "execution_count": 54,
   "metadata": {},
   "outputs": [],
   "source": [
    "# df['연료'].value_counts(dropna=False).reset_index().to_excel(os.path.join(analysis_fold, '연료별_수.xlsx'), index=False)"
   ]
  },
  {
   "cell_type": "code",
   "execution_count": 55,
   "metadata": {},
   "outputs": [
    {
     "data": {
      "text/plain": [
       "등급\n",
       "5.0    9143\n",
       "X       855\n",
       "4.0       2\n",
       "Name: count, dtype: int64"
      ]
     },
     "execution_count": 55,
     "metadata": {},
     "output_type": "execute_result"
    }
   ],
   "source": [
    "df['등급'].value_counts(dropna=False)"
   ]
  },
  {
   "cell_type": "code",
   "execution_count": 56,
   "metadata": {},
   "outputs": [
    {
     "data": {
      "text/plain": [
       "연료\n",
       "휘발유            6122\n",
       "경유             3854\n",
       "NaN              13\n",
       "기타연료              9\n",
       "알코올               1\n",
       "LPG(액화석유가스)       1\n",
       "Name: count, dtype: int64"
      ]
     },
     "execution_count": 56,
     "metadata": {},
     "output_type": "execute_result"
    }
   ],
   "source": [
    "dfg5['연료'].value_counts(dropna=False)"
   ]
  },
  {
   "cell_type": "code",
   "execution_count": 57,
   "metadata": {},
   "outputs": [
    {
     "data": {
      "text/plain": [
       "{'BENZ S500': '휘발유',\n",
       " 'BMW': '휘발유',\n",
       " 'BMW 3-SERIES': '휘발유',\n",
       " 'BMW 318I': '휘발유',\n",
       " 'BMW 325CI': '휘발유',\n",
       " 'BMW 325I': '휘발유',\n",
       " 'BMW 325i': '휘발유',\n",
       " 'BMW 328I': '휘발유',\n",
       " 'BMW 525I': '휘발유',\n",
       " 'BMW 528I': '휘발유',\n",
       " 'BMW 530I': '휘발유',\n",
       " 'BMW 5SERIES': '휘발유',\n",
       " 'BMW 750Li': '휘발유',\n",
       " 'BMW X3': '휘발유',\n",
       " 'BMW X5': '휘발유',\n",
       " 'BMW Z3': '휘발유',\n",
       " 'BMW530I': '휘발유',\n",
       " 'BUICK CENTURY': '휘발유',\n",
       " 'BUICK LESABRE': '휘발유',\n",
       " 'BUICK TERRAZA': '휘발유',\n",
       " 'CADILLAC CTS': '휘발유',\n",
       " 'CHEVROLET IMPALA': '휘발유',\n",
       " 'CHEVROLET PRIZM': '휘발유',\n",
       " 'CHRYSLER': '휘발유',\n",
       " 'CHRYSLER 300 LTD': '휘발유',\n",
       " 'CHRYSLER 300C': '경유',\n",
       " 'CHRYSLER HEMI AWD': '휘발유',\n",
       " 'CHRYSLER PT CRUISER': '휘발유',\n",
       " 'CHRYSLER TOWN & COUNTRY(7)': '휘발유',\n",
       " 'CIELO': '휘발유',\n",
       " 'CORSICA': '휘발유',\n",
       " 'COUGAR': '휘발유',\n",
       " 'DODGE CALIBER': '휘발유',\n",
       " 'DODGE CARAVAN': '휘발유',\n",
       " 'DODGE CHARGER': '휘발유',\n",
       " 'DODGE DAKOTA': '휘발유',\n",
       " 'DODGE DURANGO': '휘발유',\n",
       " 'DODGE GRAND CARAVAN': '휘발유',\n",
       " 'DODGE NEON SXT': '휘발유',\n",
       " 'EF소나타': '휘발유',\n",
       " 'ESCORT': '휘발유',\n",
       " 'FIREBIRD': '휘발유',\n",
       " 'FORD ESCAPE': '휘발유',\n",
       " 'FORD EXPEDITION': '휘발유',\n",
       " 'FORD EXPEDITION(8)': '휘발유',\n",
       " 'FORD EXPLORER': '휘발유',\n",
       " 'FORD FOCUS': '휘발유',\n",
       " 'FORD FREESTYLE(7)': '휘발유',\n",
       " 'FORD FUSION': '휘발유',\n",
       " 'FORD MUSTANG': '휘발유',\n",
       " 'FORD RANGER XLT': '경유',\n",
       " 'FORD WINDSTAR': '휘발유',\n",
       " 'G.M.C': '휘발유',\n",
       " 'G20': '휘발유',\n",
       " 'GMC': '휘발유',\n",
       " 'GMC JIMMY': '휘발유',\n",
       " 'GMC SIERRA': '휘발유',\n",
       " 'HONDA ACCORD': '휘발유',\n",
       " 'HONDA CR-V': '휘발유',\n",
       " 'HONDA CR-V EX': '휘발유',\n",
       " 'HONDA PILOT': '휘발유',\n",
       " 'HYUNDAI PRESTO': '휘발유',\n",
       " 'HYUNDAI SONATA': '휘발유',\n",
       " 'HYUNDAI/SONATA': '휘발유',\n",
       " 'INFINITI G37S': '휘발유',\n",
       " 'JAGUAR X-TYPE': '휘발유',\n",
       " 'JEEP GRAND CHEROKEE': '휘발유',\n",
       " 'JEEP LIBERTY': '휘발유',\n",
       " 'JEEP PATRIOT': '경유',\n",
       " 'KIA OPTIMA': '휘발유',\n",
       " 'KIA SEDONA': '휘발유',\n",
       " 'LEXUS ES330': '휘발유',\n",
       " 'LEXUS ES350': '휘발유',\n",
       " 'LEXUS LS430': '휘발유',\n",
       " 'LEXUS RS330': '휘발유',\n",
       " 'LEXUS RX330': '휘발유',\n",
       " 'LINCOLN MKX': '휘발유',\n",
       " 'MAZDA MAZDA6': '휘발유',\n",
       " 'MAZDA SENTA': '휘발유',\n",
       " 'MERCEDES BENZ': '휘발유',\n",
       " 'MERCEDES-BENZ': '휘발유',\n",
       " 'MERCEDES-BENZ CLS 550': '경유',\n",
       " 'MERCEDES-BENZ E-350': '휘발유',\n",
       " 'MERCEDES-BENZ E-CLASS': '휘발유',\n",
       " 'MERCEDES-BENZ R-CLASS 3500': '경유',\n",
       " 'MERCEDES-BENZ S 500': '휘발유',\n",
       " 'MERCEDES-BENZ S65': '경유',\n",
       " 'MERCURY MILAN': '휘발유',\n",
       " 'NEW 그랜저XG': '휘발유',\n",
       " 'NISSAN MURANO': '휘발유',\n",
       " 'NISSAN ROGUE 3.5': '휘발유',\n",
       " 'NISSAN XTERRA': '휘발유',\n",
       " 'OLDSMOBILE BRAVADA': '휘발유',\n",
       " 'OLDSMOBILESILHOUET': '휘발유',\n",
       " 'PLYMOUTH': '휘발유',\n",
       " 'PONTIAC SUNBIRD': '휘발유',\n",
       " 'PONTIAC VIBE': '휘발유',\n",
       " 'PONTIAC VIBE BASE': '휘발유',\n",
       " 'PORSCHE': '휘발유',\n",
       " 'ROYALE': '휘발유',\n",
       " 'ROYALSALON': '휘발유',\n",
       " 'RX7': '휘발유',\n",
       " 'SANTAFE': '휘발유',\n",
       " 'SEPHIA': '휘발유',\n",
       " 'SILHOUET': '휘발유',\n",
       " 'SPORTAGE': '휘발유',\n",
       " 'STAREX': '휘발유',\n",
       " 'SUNDANCE': '휘발유',\n",
       " 'TAURUS': '휘발유',\n",
       " 'TOYOTA 4-RUNNER': '경유',\n",
       " 'TOYOTA AVALON': '휘발유',\n",
       " 'TOYOTA CAMRY하이브리드': '휘발유 하이브리드',\n",
       " 'TOYOTA COROLLA': '휘발유',\n",
       " 'TOYOTA ESTIIM': '휘발유',\n",
       " 'TOYOTA MATRIX': '휘발유',\n",
       " 'TOYOTA SIENNA': '휘발유',\n",
       " 'TOYOTA SR-5': '휘발유',\n",
       " 'VISION': '휘발유',\n",
       " 'VOLKSWAGEN JETTA': '휘발유',\n",
       " 'VOLVO 7G1': '휘발유',\n",
       " 'VOLVO 960': '휘발유',\n",
       " 'VOLVO S60': '휘발유',\n",
       " 'VOLVO S80': '휘발유',\n",
       " 'VOLVO T5': '휘발유',\n",
       " 'VOLVO XC60': '휘발유',\n",
       " 'VOLVO XC90': '휘발유',\n",
       " '구급차(도요다)': '경유',\n",
       " '그랜저2.0': '휘발유',\n",
       " '그랜저XG300L': '휘발유',\n",
       " '기아마스타': '경유',\n",
       " '뉴복사담프': '경유',\n",
       " '뉴비틀2.0': '휘발유',\n",
       " '닛산실비아2.0': '휘발유',\n",
       " '닛산씨마그로리아': '휘발유',\n",
       " '다임24KL에틸렌글리콜트레일러': '무동력',\n",
       " '다찌람밴': '휘발유',\n",
       " '대우11톤카고': '경유',\n",
       " '대우11톤카고트럭': '경유',\n",
       " '대우8톤카고': '경유',\n",
       " '대흥저상트레일러': '무동력',\n",
       " '도오다': '휘발유',\n",
       " '도요다MR2': '휘발유',\n",
       " '도요다세라': '휘발유',\n",
       " '도요다슈프라': '휘발유',\n",
       " '도요다웨곤엠브란스': '경유',\n",
       " '도요다코로나': '휘발유',\n",
       " '도요다크라운': '휘발유',\n",
       " '도요다크라운로얄싸롱': '휘발유',\n",
       " '도요타 프리우스(하이브리드)': '휘발유 하이브리드',\n",
       " '라비타(LAVITA)': '휘발유',\n",
       " '로얄살롱': '휘발유',\n",
       " '로얄살롱2.0AT': '휘발유',\n",
       " '르망': '휘발유',\n",
       " '르망펜타-5': '휘발유',\n",
       " '링컨MARK7': '경유',\n",
       " '맥스디젤삼방': '경유',\n",
       " '머큐리 세이블': '경유',\n",
       " '벤즈 230E': '휘발유',\n",
       " '벤즈230E': '휘발유',\n",
       " '벤츠 C300': '휘발유',\n",
       " '벤츠190E': '휘발유',\n",
       " '벤츠C280': '휘발유',\n",
       " '벤츠E230': '휘발유',\n",
       " '벤츠S320': '휘발유',\n",
       " '복사14': '휘발유',\n",
       " '브리샤2': '휘발유',\n",
       " '블루버드': '휘발유',\n",
       " '사파리': '휘발유',\n",
       " '새턴': '휘발유',\n",
       " '새한2.5톤카고': '경유',\n",
       " '새한버스': '경유',\n",
       " '셀리카-GT': '휘발유',\n",
       " '소나타': '휘발유',\n",
       " '소나타1800오토매틱': '휘발유',\n",
       " '수프라': '휘발유',\n",
       " '스텔라': '휘발유',\n",
       " '스텔라1.6CXL': '휘발유',\n",
       " '스텔라오토매틱': '휘발유',\n",
       " '시보레': '휘발유',\n",
       " '시보레카베리아': '휘발유',\n",
       " '쏘나타': '휘발유',\n",
       " '아시아AM707중형버스': '경유',\n",
       " '아큐라': '휘발유',\n",
       " '에스페로': '휘발유',\n",
       " '에어스트림탐지견수송트레일러': '무동력',\n",
       " '엑셀': '휘발유',\n",
       " '엑셀운전교습용차량': '휘발유',\n",
       " '원흥식 트럭': '경유',\n",
       " '인타담프': '경유',\n",
       " '일산 육륜': '경유',\n",
       " '제설차': '경유',\n",
       " '지프': '경유',\n",
       " '체로키': '휘발유',\n",
       " '캐피탈': '휘발유',\n",
       " '캠리': '휘발유',\n",
       " '코르시카': '휘발유',\n",
       " '코우거': '휘발유',\n",
       " '코티나디럭스': '휘발유',\n",
       " '코티나마크IV': '휘발유',\n",
       " '크로마터보i.e': '휘발유',\n",
       " '티코(TICO)': '휘발유',\n",
       " '포니': '휘발유',\n",
       " '포니2': '휘발유',\n",
       " '포니2-L.P.G': 'LPG(액화석유가스)',\n",
       " '포니2-LPG': 'LPG(액화석유가스)',\n",
       " '포르쉐': '휘발유',\n",
       " '프레스토오토매틱': '휘발유',\n",
       " '프레스토오토메틱': '휘발유',\n",
       " '프리무스': '휘발유 하이브리드',\n",
       " '한원40A콤비콘테이너트레일러': '무동력',\n",
       " '한원40피트구즈넥트레일러': '무동력',\n",
       " '현대3톤트럭': '경유',\n",
       " '현대리어엔진버스': '경유',\n",
       " '현대포터': '경유',\n",
       " '혼다 CR-V': '경유',\n",
       " '홍성캠핑트레일러': '무동력'}"
      ]
     },
     "execution_count": 57,
     "metadata": {},
     "output_type": "execute_result"
    }
   ],
   "source": [
    "fuel_dict = {a:b for a, b in fuel.values}\n",
    "fuel_dict"
   ]
  },
  {
   "cell_type": "code",
   "execution_count": 58,
   "metadata": {},
   "outputs": [],
   "source": [
    "# about 14.7\n",
    "for one in dfg5.loc[((dfg5['연료'].isnull() == True) | (dfg5['연료'] == '기타연료')), '차명'].unique():\n",
    "    try:\n",
    "        dfg5.loc[((dfg5['연료'].isnull() == True) | (dfg5['연료'] == '기타연료')) & (dfg5['차명'] == one), '연료'] = fuel_dict[one]\n",
    "    except:\n",
    "        dfg5.loc[((dfg5['연료'].isnull() == True) | (dfg5['연료'] == '기타연료')) & (dfg5['차명'] == one), '연료'] = '기타연료'"
   ]
  },
  {
   "cell_type": "code",
   "execution_count": 59,
   "metadata": {},
   "outputs": [
    {
     "data": {
      "text/plain": [
       "연료\n",
       "휘발유            6130\n",
       "경유             3867\n",
       "기타연료              1\n",
       "알코올               1\n",
       "LPG(액화석유가스)       1\n",
       "Name: count, dtype: int64"
      ]
     },
     "execution_count": 59,
     "metadata": {},
     "output_type": "execute_result"
    }
   ],
   "source": [
    "dfg5['연료'].value_counts(dropna=False)"
   ]
  },
  {
   "attachments": {},
   "cell_type": "markdown",
   "metadata": {},
   "source": [
    "## 노후차 조기폐차 관리정보 수도권 필수 컬럼만 추출"
   ]
  },
  {
   "cell_type": "code",
   "execution_count": 60,
   "metadata": {},
   "outputs": [
    {
     "data": {
      "text/plain": [
       "array(['Y', nan, 'N'], dtype=object)"
      ]
     },
     "execution_count": 60,
     "metadata": {},
     "output_type": "execute_result"
    }
   ],
   "source": [
    "aea['조기폐차최종승인YN'].unique()"
   ]
  },
  {
   "cell_type": "code",
   "execution_count": 61,
   "metadata": {},
   "outputs": [
    {
     "data": {
      "text/plain": [
       "조기폐차최종승인YN\n",
       "Y      680570\n",
       "NaN     89686\n",
       "N          55\n",
       "Name: count, dtype: int64"
      ]
     },
     "execution_count": 61,
     "metadata": {},
     "output_type": "execute_result"
    }
   ],
   "source": [
    "aea['조기폐차최종승인YN'].value_counts(dropna=False)"
   ]
  },
  {
   "cell_type": "code",
   "execution_count": 62,
   "metadata": {},
   "outputs": [
    {
     "data": {
      "text/plain": [
       "array(['Y', 'B', 'D', 'M', 'X', 'C', 'A', 'N', 'G', 'P', 'I'],\n",
       "      dtype=object)"
      ]
     },
     "execution_count": 62,
     "metadata": {},
     "output_type": "execute_result"
    }
   ],
   "source": [
    "aea['조기폐차상태코드'].unique()"
   ]
  },
  {
   "cell_type": "code",
   "execution_count": 63,
   "metadata": {},
   "outputs": [],
   "source": [
    "# aeam = aea[[\n",
    "#     '차대번호',\n",
    "#     '조기폐차최종승인YN',\n",
    "#     ]]"
   ]
  },
  {
   "cell_type": "code",
   "execution_count": 64,
   "metadata": {},
   "outputs": [
    {
     "data": {
      "text/plain": [
       "(680570, 4)"
      ]
     },
     "execution_count": 64,
     "metadata": {},
     "output_type": "execute_result"
    }
   ],
   "source": [
    "aeam = aea.loc[aea['조기폐차최종승인YN'] == 'Y'].reset_index(drop=True)\n",
    "aeam.shape"
   ]
  },
  {
   "attachments": {},
   "cell_type": "markdown",
   "metadata": {},
   "source": [
    "## 노후차 조기폐차 관리정보 수도권외 필수 컬럼만 추출"
   ]
  },
  {
   "cell_type": "code",
   "execution_count": 65,
   "metadata": {},
   "outputs": [
    {
     "data": {
      "text/plain": [
       "array(['Y', nan, 'N'], dtype=object)"
      ]
     },
     "execution_count": 65,
     "metadata": {},
     "output_type": "execute_result"
    }
   ],
   "source": [
    "lgv['조기폐차최종승인YN'].unique()"
   ]
  },
  {
   "cell_type": "code",
   "execution_count": 66,
   "metadata": {},
   "outputs": [
    {
     "data": {
      "text/plain": [
       "조기폐차최종승인YN\n",
       "NaN    162764\n",
       "Y      128585\n",
       "N           4\n",
       "Name: count, dtype: int64"
      ]
     },
     "execution_count": 66,
     "metadata": {},
     "output_type": "execute_result"
    }
   ],
   "source": [
    "lgv['조기폐차최종승인YN'].value_counts(dropna=False)"
   ]
  },
  {
   "cell_type": "code",
   "execution_count": 67,
   "metadata": {},
   "outputs": [
    {
     "data": {
      "text/plain": [
       "array(['Y', 'M', 'X', 'B', 'G', 'I', 'C', 'P', 'D', 'N'], dtype=object)"
      ]
     },
     "execution_count": 67,
     "metadata": {},
     "output_type": "execute_result"
    }
   ],
   "source": [
    "lgv['조기폐차상태코드'].unique()"
   ]
  },
  {
   "cell_type": "code",
   "execution_count": 68,
   "metadata": {},
   "outputs": [],
   "source": [
    "# lgvm = lgv[[\n",
    "#     '차대번호',\n",
    "#     '조기폐차최종승인YN',\n",
    "#     ]]"
   ]
  },
  {
   "cell_type": "code",
   "execution_count": 69,
   "metadata": {},
   "outputs": [
    {
     "data": {
      "text/plain": [
       "(128585, 4)"
      ]
     },
     "execution_count": 69,
     "metadata": {},
     "output_type": "execute_result"
    }
   ],
   "source": [
    "lgvm = lgv.loc[lgv['조기폐차최종승인YN'] == 'Y'].reset_index(drop=True)\n",
    "lgvm.shape"
   ]
  },
  {
   "attachments": {},
   "cell_type": "markdown",
   "metadata": {},
   "source": [
    "## 노후차 조기폐차 정보 병합"
   ]
  },
  {
   "cell_type": "code",
   "execution_count": 70,
   "metadata": {},
   "outputs": [
    {
     "data": {
      "text/plain": [
       "(809155, 4)"
      ]
     },
     "execution_count": 70,
     "metadata": {},
     "output_type": "execute_result"
    }
   ],
   "source": [
    "early = pd.concat([aeam, lgvm], ignore_index=True)\n",
    "early.shape"
   ]
  },
  {
   "cell_type": "code",
   "execution_count": 71,
   "metadata": {},
   "outputs": [
    {
     "data": {
      "text/plain": [
       "((809155, 4), 809130)"
      ]
     },
     "execution_count": 71,
     "metadata": {},
     "output_type": "execute_result"
    }
   ],
   "source": [
    "early.shape, len(early['차대번호'].unique())"
   ]
  },
  {
   "cell_type": "code",
   "execution_count": 72,
   "metadata": {},
   "outputs": [
    {
     "data": {
      "text/plain": [
       "(809130, 4)"
      ]
     },
     "execution_count": 72,
     "metadata": {},
     "output_type": "execute_result"
    }
   ],
   "source": [
    "earlym = early.sort_values('말소일자', ascending=False).drop_duplicates(['차대번호']).reset_index(drop=True)\n",
    "earlym.shape"
   ]
  },
  {
   "cell_type": "code",
   "execution_count": 73,
   "metadata": {},
   "outputs": [
    {
     "data": {
      "text/plain": [
       "Index(['조기폐차상태코드', '차대번호', '말소일자', '조기폐차최종승인YN'], dtype='object')"
      ]
     },
     "execution_count": 73,
     "metadata": {},
     "output_type": "execute_result"
    }
   ],
   "source": [
    "earlym.columns"
   ]
  },
  {
   "cell_type": "code",
   "execution_count": 74,
   "metadata": {},
   "outputs": [
    {
     "data": {
      "text/plain": [
       "Index(['차량등록번호', '본거지법정동코드', '차대번호', '제원관리번호', '배출가스인증번호', '차명', '차종_등록정보',\n",
       "       '차종유형(소분류)', '연료', '차량말소YN', '등급', '시도', '시구군'],\n",
       "      dtype='object')"
      ]
     },
     "execution_count": 74,
     "metadata": {},
     "output_type": "execute_result"
    }
   ],
   "source": [
    "df.columns"
   ]
  },
  {
   "cell_type": "code",
   "execution_count": 75,
   "metadata": {},
   "outputs": [
    {
     "data": {
      "text/plain": [
       "(10000, 13)"
      ]
     },
     "execution_count": 75,
     "metadata": {},
     "output_type": "execute_result"
    }
   ],
   "source": [
    "df.shape"
   ]
  },
  {
   "cell_type": "code",
   "execution_count": 76,
   "metadata": {},
   "outputs": [
    {
     "data": {
      "text/plain": [
       "(10000, 14)"
      ]
     },
     "execution_count": 76,
     "metadata": {},
     "output_type": "execute_result"
    }
   ],
   "source": [
    "# about 48.6s\n",
    "df1 = df.merge(earlym[['차대번호', '조기폐차최종승인YN']], on='차대번호', how='left')\n",
    "df1.shape"
   ]
  },
  {
   "cell_type": "code",
   "execution_count": 77,
   "metadata": {},
   "outputs": [
    {
     "data": {
      "text/plain": [
       "Index(['차량등록번호', '본거지법정동코드', '차대번호', '제원관리번호', '배출가스인증번호', '차명', '차종_등록정보',\n",
       "       '차종유형(소분류)', '연료', '차량말소YN', '등급', '시도', '시구군', '조기폐차최종승인YN'],\n",
       "      dtype='object')"
      ]
     },
     "execution_count": 77,
     "metadata": {},
     "output_type": "execute_result"
    }
   ],
   "source": [
    "df1.columns"
   ]
  },
  {
   "attachments": {},
   "cell_type": "markdown",
   "metadata": {},
   "source": [
    "## 저감장치 부착이력 데이터 확인"
   ]
  },
  {
   "cell_type": "code",
   "execution_count": 78,
   "metadata": {},
   "outputs": [
    {
     "data": {
      "text/plain": [
       "Index(['저감장치종류', 'PM최종저감효율', 'TDMS부착여부', '구조변경일자', '부착업체명', '부착일자', '탈거승인일',\n",
       "       '차량번호', '차대번호', '주행거리', '저감장치반납여부', '저감장치구분', '저감등록번호', '재장착확인일자',\n",
       "       '장치일련번호', '삼원촉매장치반납여부'],\n",
       "      dtype='object')"
      ]
     },
     "execution_count": 78,
     "metadata": {},
     "output_type": "execute_result"
    }
   ],
   "source": [
    "att.columns"
   ]
  },
  {
   "cell_type": "code",
   "execution_count": 79,
   "metadata": {},
   "outputs": [
    {
     "data": {
      "text/plain": [
       "저감장치구분\n",
       "1종        294602\n",
       "엔진개조      198590\n",
       "2종        156370\n",
       "3종        148308\n",
       "엔진교체        8528\n",
       "1종+SCR      2304\n",
       "삼원촉매        2075\n",
       "Name: count, dtype: int64"
      ]
     },
     "execution_count": 79,
     "metadata": {},
     "output_type": "execute_result"
    }
   ],
   "source": [
    "att['저감장치구분'].value_counts(dropna=False)"
   ]
  },
  {
   "cell_type": "code",
   "execution_count": 80,
   "metadata": {},
   "outputs": [
    {
     "data": {
      "text/plain": [
       "저감장치종류\n",
       "NaN         223879\n",
       "복합소형        162046\n",
       "DOC         137166\n",
       "소형          105138\n",
       "자연대형         47920\n",
       "복합중형         44915\n",
       "자연중형         30715\n",
       "pDPF         30586\n",
       "중형           15529\n",
       "복합대형          9006\n",
       "자연대형+SCR      2304\n",
       "대형            1573\n",
       "Name: count, dtype: int64"
      ]
     },
     "execution_count": 80,
     "metadata": {},
     "output_type": "execute_result"
    }
   ],
   "source": [
    "att['저감장치종류'].value_counts(dropna=False)"
   ]
  },
  {
   "cell_type": "code",
   "execution_count": 81,
   "metadata": {},
   "outputs": [
    {
     "data": {
      "text/plain": [
       "저감장치구분  저감장치종류  \n",
       "1종      복합대형          9006\n",
       "        복합소형        162046\n",
       "        복합중형         44915\n",
       "        자연대형         47920\n",
       "        자연중형         30715\n",
       "1종+SCR  자연대형+SCR      2304\n",
       "2종      pDPF         30586\n",
       "        소형           99769\n",
       "        중형           13943\n",
       "3종      DOC         137166\n",
       "엔진교체    대형            1573\n",
       "        소형            5369\n",
       "        중형            1586\n",
       "Name: 차대번호, dtype: int64"
      ]
     },
     "execution_count": 81,
     "metadata": {},
     "output_type": "execute_result"
    }
   ],
   "source": [
    "att.groupby(['저감장치구분', '저감장치종류'])['차대번호'].count()"
   ]
  },
  {
   "cell_type": "code",
   "execution_count": 82,
   "metadata": {},
   "outputs": [],
   "source": [
    "# att.groupby(['저감장치구분', '저감장치종류'])['차대번호'].count().reset_index().to_excel(os.path.join(analysis_fold, '저감장치종류.xlsx'), index=False)"
   ]
  },
  {
   "attachments": {},
   "cell_type": "markdown",
   "metadata": {},
   "source": [
    "### 1종, 1종+SCR 만 추출\n",
    "- 1종 : DPF\n",
    "- 1종+SCR : PM-NOx 저감장치"
   ]
  },
  {
   "cell_type": "code",
   "execution_count": 83,
   "metadata": {},
   "outputs": [
    {
     "data": {
      "text/plain": [
       "(296906, 3)"
      ]
     },
     "execution_count": 83,
     "metadata": {},
     "output_type": "execute_result"
    }
   ],
   "source": [
    "attm = att.loc[(att['저감장치구분'] == '1종') | (att['저감장치구분'] == '1종+SCR'), ['차대번호', '저감장치구분', '저감장치종류']].reset_index(drop=True)\n",
    "attm.shape"
   ]
  },
  {
   "cell_type": "code",
   "execution_count": 84,
   "metadata": {},
   "outputs": [
    {
     "data": {
      "text/plain": [
       "(296906, 4)"
      ]
     },
     "execution_count": 84,
     "metadata": {},
     "output_type": "execute_result"
    }
   ],
   "source": [
    "attm.loc[attm['저감장치구분'] == '1종', '저감장치'] = 'DPF'\n",
    "attm.loc[attm['저감장치구분'] == '1종+SCR', '저감장치'] = 'PM-NOx저감장치'\n",
    "attm.shape"
   ]
  },
  {
   "cell_type": "code",
   "execution_count": 85,
   "metadata": {},
   "outputs": [
    {
     "data": {
      "text/plain": [
       "array(['자연대형', '자연중형', '복합중형', '복합대형', '복합소형', '자연대형+SCR'], dtype=object)"
      ]
     },
     "execution_count": 85,
     "metadata": {},
     "output_type": "execute_result"
    }
   ],
   "source": [
    "attm['저감장치종류'].unique()"
   ]
  },
  {
   "cell_type": "code",
   "execution_count": 86,
   "metadata": {},
   "outputs": [
    {
     "data": {
      "text/plain": [
       "저감장치\n",
       "DPF           294602\n",
       "PM-NOx저감장치      2304\n",
       "Name: count, dtype: int64"
      ]
     },
     "execution_count": 86,
     "metadata": {},
     "output_type": "execute_result"
    }
   ],
   "source": [
    "attm['저감장치'].value_counts(dropna=False)"
   ]
  },
  {
   "cell_type": "code",
   "execution_count": 87,
   "metadata": {},
   "outputs": [
    {
     "data": {
      "text/plain": [
       "Index(['차대번호', '저감장치구분', '저감장치종류', '저감장치'], dtype='object')"
      ]
     },
     "execution_count": 87,
     "metadata": {},
     "output_type": "execute_result"
    }
   ],
   "source": [
    "attm.columns"
   ]
  },
  {
   "cell_type": "code",
   "execution_count": 88,
   "metadata": {},
   "outputs": [
    {
     "data": {
      "text/plain": [
       "((296906, 4), 296605)"
      ]
     },
     "execution_count": 88,
     "metadata": {},
     "output_type": "execute_result"
    }
   ],
   "source": [
    "attm.shape, len(attm['차대번호'].unique())"
   ]
  },
  {
   "cell_type": "code",
   "execution_count": 89,
   "metadata": {},
   "outputs": [
    {
     "data": {
      "text/plain": [
       "0"
      ]
     },
     "execution_count": 89,
     "metadata": {},
     "output_type": "execute_result"
    }
   ],
   "source": [
    "attm['저감장치'].isnull().sum()"
   ]
  },
  {
   "cell_type": "code",
   "execution_count": 90,
   "metadata": {},
   "outputs": [
    {
     "data": {
      "text/html": [
       "<div>\n",
       "<style scoped>\n",
       "    .dataframe tbody tr th:only-of-type {\n",
       "        vertical-align: middle;\n",
       "    }\n",
       "\n",
       "    .dataframe tbody tr th {\n",
       "        vertical-align: top;\n",
       "    }\n",
       "\n",
       "    .dataframe thead th {\n",
       "        text-align: right;\n",
       "    }\n",
       "</style>\n",
       "<table border=\"1\" class=\"dataframe\">\n",
       "  <thead>\n",
       "    <tr style=\"text-align: right;\">\n",
       "      <th></th>\n",
       "      <th>차대번호</th>\n",
       "      <th>저감장치구분</th>\n",
       "      <th>저감장치종류</th>\n",
       "      <th>저감장치</th>\n",
       "    </tr>\n",
       "  </thead>\n",
       "  <tbody>\n",
       "    <tr>\n",
       "      <th>203125</th>\n",
       "      <td>충남-06로5020</td>\n",
       "      <td>1종</td>\n",
       "      <td>복합대형</td>\n",
       "      <td>DPF</td>\n",
       "    </tr>\n",
       "    <tr>\n",
       "      <th>233331</th>\n",
       "      <td>충남-06노5975</td>\n",
       "      <td>1종</td>\n",
       "      <td>복합대형</td>\n",
       "      <td>DPF</td>\n",
       "    </tr>\n",
       "    <tr>\n",
       "      <th>279669</th>\n",
       "      <td>인천06마6927</td>\n",
       "      <td>1종</td>\n",
       "      <td>복합대형</td>\n",
       "      <td>DPF</td>\n",
       "    </tr>\n",
       "    <tr>\n",
       "      <th>202440</th>\n",
       "      <td>인천-14마5426</td>\n",
       "      <td>1종</td>\n",
       "      <td>복합대형</td>\n",
       "      <td>DPF</td>\n",
       "    </tr>\n",
       "    <tr>\n",
       "      <th>201636</th>\n",
       "      <td>인천-14마5003</td>\n",
       "      <td>1종</td>\n",
       "      <td>복합대형</td>\n",
       "      <td>DPF</td>\n",
       "    </tr>\n",
       "  </tbody>\n",
       "</table>\n",
       "</div>"
      ],
      "text/plain": [
       "              차대번호 저감장치구분 저감장치종류 저감장치\n",
       "203125  충남-06로5020     1종   복합대형  DPF\n",
       "233331  충남-06노5975     1종   복합대형  DPF\n",
       "279669   인천06마6927     1종   복합대형  DPF\n",
       "202440  인천-14마5426     1종   복합대형  DPF\n",
       "201636  인천-14마5003     1종   복합대형  DPF"
      ]
     },
     "execution_count": 90,
     "metadata": {},
     "output_type": "execute_result"
    }
   ],
   "source": [
    "attm = attm.sort_values(['차대번호', '저감장치'], ascending=False)\n",
    "attm.head()"
   ]
  },
  {
   "cell_type": "code",
   "execution_count": 91,
   "metadata": {},
   "outputs": [
    {
     "data": {
      "text/html": [
       "<div>\n",
       "<style scoped>\n",
       "    .dataframe tbody tr th:only-of-type {\n",
       "        vertical-align: middle;\n",
       "    }\n",
       "\n",
       "    .dataframe tbody tr th {\n",
       "        vertical-align: top;\n",
       "    }\n",
       "\n",
       "    .dataframe thead th {\n",
       "        text-align: right;\n",
       "    }\n",
       "</style>\n",
       "<table border=\"1\" class=\"dataframe\">\n",
       "  <thead>\n",
       "    <tr style=\"text-align: right;\">\n",
       "      <th></th>\n",
       "      <th>차대번호</th>\n",
       "      <th>저감장치구분</th>\n",
       "      <th>저감장치종류</th>\n",
       "      <th>저감장치</th>\n",
       "    </tr>\n",
       "  </thead>\n",
       "  <tbody>\n",
       "    <tr>\n",
       "      <th>190522</th>\n",
       "      <td>000391</td>\n",
       "      <td>1종</td>\n",
       "      <td>복합대형</td>\n",
       "      <td>DPF</td>\n",
       "    </tr>\n",
       "    <tr>\n",
       "      <th>182833</th>\n",
       "      <td>000380</td>\n",
       "      <td>1종</td>\n",
       "      <td>복합대형</td>\n",
       "      <td>DPF</td>\n",
       "    </tr>\n",
       "    <tr>\n",
       "      <th>180428</th>\n",
       "      <td>000223</td>\n",
       "      <td>1종</td>\n",
       "      <td>복합대형</td>\n",
       "      <td>DPF</td>\n",
       "    </tr>\n",
       "    <tr>\n",
       "      <th>197822</th>\n",
       "      <td>000128</td>\n",
       "      <td>1종</td>\n",
       "      <td>복합대형</td>\n",
       "      <td>DPF</td>\n",
       "    </tr>\n",
       "    <tr>\n",
       "      <th>198067</th>\n",
       "      <td>000039</td>\n",
       "      <td>1종</td>\n",
       "      <td>복합대형</td>\n",
       "      <td>DPF</td>\n",
       "    </tr>\n",
       "  </tbody>\n",
       "</table>\n",
       "</div>"
      ],
      "text/plain": [
       "          차대번호 저감장치구분 저감장치종류 저감장치\n",
       "190522  000391     1종   복합대형  DPF\n",
       "182833  000380     1종   복합대형  DPF\n",
       "180428  000223     1종   복합대형  DPF\n",
       "197822  000128     1종   복합대형  DPF\n",
       "198067  000039     1종   복합대형  DPF"
      ]
     },
     "execution_count": 91,
     "metadata": {},
     "output_type": "execute_result"
    }
   ],
   "source": [
    "attm.tail()"
   ]
  },
  {
   "cell_type": "code",
   "execution_count": 92,
   "metadata": {},
   "outputs": [
    {
     "data": {
      "text/plain": [
       "(296605, 4)"
      ]
     },
     "execution_count": 92,
     "metadata": {},
     "output_type": "execute_result"
    }
   ],
   "source": [
    "attm = attm.drop_duplicates(['차대번호'])\n",
    "attm.shape"
   ]
  },
  {
   "cell_type": "code",
   "execution_count": 93,
   "metadata": {},
   "outputs": [
    {
     "data": {
      "text/plain": [
       "(10000, 14)"
      ]
     },
     "execution_count": 93,
     "metadata": {},
     "output_type": "execute_result"
    }
   ],
   "source": [
    "df1.shape"
   ]
  },
  {
   "cell_type": "code",
   "execution_count": 94,
   "metadata": {},
   "outputs": [
    {
     "data": {
      "text/plain": [
       "(10000, 15)"
      ]
     },
     "execution_count": 94,
     "metadata": {},
     "output_type": "execute_result"
    }
   ],
   "source": [
    "# about 47.1s\n",
    "df2 = df1.merge(attm[['차대번호', '저감장치']], on='차대번호', how='left')\n",
    "df2.shape"
   ]
  },
  {
   "cell_type": "code",
   "execution_count": 95,
   "metadata": {},
   "outputs": [
    {
     "data": {
      "text/plain": [
       "Index(['차량등록번호', '본거지법정동코드', '차대번호', '제원관리번호', '배출가스인증번호', '차명', '차종_등록정보',\n",
       "       '차종유형(소분류)', '연료', '차량말소YN', '등급', '시도', '시구군', '조기폐차최종승인YN', '저감장치'],\n",
       "      dtype='object')"
      ]
     },
     "execution_count": 95,
     "metadata": {},
     "output_type": "execute_result"
    }
   ],
   "source": [
    "df2.columns"
   ]
  },
  {
   "attachments": {},
   "cell_type": "markdown",
   "metadata": {},
   "source": [
    "## 운행제한 단속 정보 추가"
   ]
  },
  {
   "cell_type": "code",
   "execution_count": 96,
   "metadata": {},
   "outputs": [
    {
     "data": {
      "text/plain": [
       "Index(['차대번호', '운행제한단속YN'], dtype='object')"
      ]
     },
     "execution_count": 96,
     "metadata": {},
     "output_type": "execute_result"
    }
   ],
   "source": [
    "limit.columns"
   ]
  },
  {
   "cell_type": "code",
   "execution_count": 97,
   "metadata": {},
   "outputs": [
    {
     "data": {
      "text/plain": [
       "(10000, 15)"
      ]
     },
     "execution_count": 97,
     "metadata": {},
     "output_type": "execute_result"
    }
   ],
   "source": [
    "df2.shape"
   ]
  },
  {
   "cell_type": "code",
   "execution_count": 98,
   "metadata": {},
   "outputs": [
    {
     "data": {
      "text/plain": [
       "(10000, 16)"
      ]
     },
     "execution_count": 98,
     "metadata": {},
     "output_type": "execute_result"
    }
   ],
   "source": [
    "# about 45.4s\n",
    "df3 = df2.merge(limit, on='차대번호', how='left')\n",
    "df3.shape"
   ]
  },
  {
   "attachments": {},
   "cell_type": "markdown",
   "metadata": {},
   "source": [
    "## 비상시 및 계절제 단속 정보 추가"
   ]
  },
  {
   "cell_type": "code",
   "execution_count": 99,
   "metadata": {},
   "outputs": [
    {
     "data": {
      "text/plain": [
       "Index(['차대번호', '계절제1차단속YN', '계절제2차단속YN', '계절제3차단속YN', '비상시단속YN'], dtype='object')"
      ]
     },
     "execution_count": 99,
     "metadata": {},
     "output_type": "execute_result"
    }
   ],
   "source": [
    "slimitm.columns"
   ]
  },
  {
   "cell_type": "code",
   "execution_count": 100,
   "metadata": {},
   "outputs": [
    {
     "data": {
      "text/plain": [
       "(1204906, 5)"
      ]
     },
     "execution_count": 100,
     "metadata": {},
     "output_type": "execute_result"
    }
   ],
   "source": [
    "slimitm.shape"
   ]
  },
  {
   "cell_type": "code",
   "execution_count": 101,
   "metadata": {},
   "outputs": [
    {
     "data": {
      "text/plain": [
       "차대번호               0\n",
       "계절제1차단속YN    1056625\n",
       "계절제2차단속YN     532799\n",
       "계절제3차단속YN     615746\n",
       "비상시단속YN       807429\n",
       "dtype: int64"
      ]
     },
     "execution_count": 101,
     "metadata": {},
     "output_type": "execute_result"
    }
   ],
   "source": [
    "slimitm.isnull().sum()"
   ]
  },
  {
   "cell_type": "code",
   "execution_count": 102,
   "metadata": {},
   "outputs": [
    {
     "data": {
      "text/plain": [
       "(10000, 16)"
      ]
     },
     "execution_count": 102,
     "metadata": {},
     "output_type": "execute_result"
    }
   ],
   "source": [
    "df3.shape"
   ]
  },
  {
   "cell_type": "code",
   "execution_count": 103,
   "metadata": {},
   "outputs": [
    {
     "data": {
      "text/plain": [
       "Index(['차량등록번호', '본거지법정동코드', '차대번호', '제원관리번호', '배출가스인증번호', '차명', '차종_등록정보',\n",
       "       '차종유형(소분류)', '연료', '차량말소YN', '등급', '시도', '시구군', '조기폐차최종승인YN', '저감장치',\n",
       "       '운행제한단속YN'],\n",
       "      dtype='object')"
      ]
     },
     "execution_count": 103,
     "metadata": {},
     "output_type": "execute_result"
    }
   ],
   "source": [
    "df3.columns"
   ]
  },
  {
   "cell_type": "code",
   "execution_count": 104,
   "metadata": {},
   "outputs": [
    {
     "data": {
      "text/plain": [
       "(10000, 20)"
      ]
     },
     "execution_count": 104,
     "metadata": {},
     "output_type": "execute_result"
    }
   ],
   "source": [
    "# about 56.6s\n",
    "df4 = df3.merge(slimitm, on='차대번호', how='left')\n",
    "df4.shape"
   ]
  },
  {
   "cell_type": "code",
   "execution_count": 105,
   "metadata": {},
   "outputs": [
    {
     "data": {
      "text/plain": [
       "Index(['차량등록번호', '본거지법정동코드', '차대번호', '제원관리번호', '배출가스인증번호', '차명', '차종_등록정보',\n",
       "       '차종유형(소분류)', '연료', '차량말소YN', '등급', '시도', '시구군', '조기폐차최종승인YN', '저감장치',\n",
       "       '운행제한단속YN', '계절제1차단속YN', '계절제2차단속YN', '계절제3차단속YN', '비상시단속YN'],\n",
       "      dtype='object')"
      ]
     },
     "execution_count": 105,
     "metadata": {},
     "output_type": "execute_result"
    }
   ],
   "source": [
    "df4.columns"
   ]
  },
  {
   "attachments": {},
   "cell_type": "markdown",
   "metadata": {},
   "source": [
    "## [출력] BD3-1,2 df"
   ]
  },
  {
   "cell_type": "code",
   "execution_count": 106,
   "metadata": {},
   "outputs": [
    {
     "data": {
      "text/plain": [
       "Index(['본거지법정동코드', '차대번호', '연료', '차종_등록정보', '차종유형(소분류)', '조기폐차최종승인YN',\n",
       "       '운행제한단속YN', '계절제1차단속YN', '계절제2차단속YN', '계절제3차단속YN', '비상시단속YN'],\n",
       "      dtype='object')"
      ]
     },
     "execution_count": 106,
     "metadata": {},
     "output_type": "execute_result"
    }
   ],
   "source": [
    "# about 6.6s\n",
    "df5 = df4[[\n",
    "    '본거지법정동코드',\n",
    "    '차대번호',\n",
    "    '연료',\n",
    "    '차종_등록정보',\n",
    "    '차종유형(소분류)',\n",
    "    '조기폐차최종승인YN',\n",
    "    '운행제한단속YN',\n",
    "    '계절제1차단속YN', \n",
    "    '계절제2차단속YN', \n",
    "    '계절제3차단속YN', \n",
    "    '비상시단속YN',\n",
    "    ]]\n",
    "df5.columns"
   ]
  },
  {
   "cell_type": "code",
   "execution_count": 107,
   "metadata": {},
   "outputs": [],
   "source": [
    "# chc_dict = {\n",
    "#     '본거지법정동코드':'BSPL_STDG_CD', \n",
    "#     '차대번호':'VIN', \n",
    "#     '제원관리번호':'MANP_MNG_NO', \n",
    "#     '배출가스인증번호':'EXHST_GAS_CERT_NO', \n",
    "#     '연료':'FUEL_CD',\n",
    "#     '차종_등록정보':'VHCTY_CD',\n",
    "#     '차종유형(소분류)':'VHCTY_TY',\n",
    "#     '차량말소YN':'VHCL_ERSR_YN', \n",
    "#     '등급':'EXHST_GAS_GRD_CD', \n",
    "#     '시도':'CTPV', \n",
    "#     '시구군':'SGG', \n",
    "#     '조기폐차최종승인YN':'ELPDSRC_LAST_APRV_YN', \n",
    "#     '저감장치':'RDCDVC', \n",
    "#     '운행제한단속YN':'RUN_LMT_CRDN_YN',\n",
    "#     '계절제1차단속YN':'SEASON1_CRDN_YN', \n",
    "#     '계절제2차단속YN':'SEASON2_CRDN_YN', \n",
    "#     '계절제3차단속YN':'SEASON3_CRDN_YN', \n",
    "#     '비상시단속YN':'EMGN_CRDN_YN',\n",
    "# }"
   ]
  },
  {
   "cell_type": "code",
   "execution_count": 108,
   "metadata": {},
   "outputs": [],
   "source": [
    "chc_dict = {\n",
    "    '본거지법정동코드':'BSPL_STDG_CD', \n",
    "    '차대번호':'VIN', \n",
    "    '연료':'FUEL_CD',\n",
    "    '차종_등록정보':'VHCTY_CD',\n",
    "    '차종유형(소분류)':'VHCTY_TY',\n",
    "    '조기폐차최종승인YN':'ELPDSRC_LAST_APRV_YN', \n",
    "    '운행제한단속YN':'RUN_LMT_CRDN_YN',\n",
    "    '계절제1차단속YN':'SEASON1_CRDN_YN', \n",
    "    '계절제2차단속YN':'SEASON2_CRDN_YN', \n",
    "    '계절제3차단속YN':'SEASON3_CRDN_YN', \n",
    "    '비상시단속YN':'EMGN_CRDN_YN',\n",
    "}"
   ]
  },
  {
   "cell_type": "code",
   "execution_count": 103,
   "metadata": {},
   "outputs": [
    {
     "data": {
      "text/plain": [
       "Index(['BSPL_STDG_CD', 'VIN', 'FUEL_CD', 'VHCTY_CD', 'VHCTY_TY',\n",
       "       'ELPDSRC_LAST_APRV_YN', 'RUN_LMT_CRDN_YN', 'SEASON1_CRDN_YN',\n",
       "       'SEASON2_CRDN_YN', 'SEASON3_CRDN_YN', 'EMGN_CRDN_YN'],\n",
       "      dtype='object')"
      ]
     },
     "execution_count": 103,
     "metadata": {},
     "output_type": "execute_result"
    }
   ],
   "source": [
    "# about \n",
    "df5 = df5.rename(columns=chc_dict)\n",
    "df5.columns"
   ]
  },
  {
   "cell_type": "code",
   "execution_count": 104,
   "metadata": {},
   "outputs": [
    {
     "data": {
      "text/plain": [
       "'2023.06.05_PM.04.29.57'"
      ]
     },
     "execution_count": 104,
     "metadata": {},
     "output_type": "execute_result"
    }
   ],
   "source": [
    "today_date = datetime.today().strftime(\"%Y.%m.%d_%p.%I.%M.%S\")\n",
    "today_date"
   ]
  },
  {
   "cell_type": "code",
   "execution_count": 105,
   "metadata": {},
   "outputs": [],
   "source": [
    "# # about 1m 22.5s\n",
    "# df5.to_csv(os.path.join(df_fold, f'BD3_STD_BD_LEM_ND_RUN_LMT_CURSTT({today_date}).csv'), index=False)"
   ]
  },
  {
   "attachments": {},
   "cell_type": "markdown",
   "metadata": {},
   "source": [
    "## [출력] 전체 차량 현황"
   ]
  },
  {
   "cell_type": "code",
   "execution_count": 109,
   "metadata": {},
   "outputs": [
    {
     "data": {
      "text/plain": [
       "Index(['차량등록번호', '본거지법정동코드', '차대번호', '제원관리번호', '배출가스인증번호', '차명', '차종_등록정보',\n",
       "       '차종유형(소분류)', '연료', '차량말소YN', '등급', '시도', '시구군', '조기폐차최종승인YN', '저감장치',\n",
       "       '운행제한단속YN', '계절제1차단속YN', '계절제2차단속YN', '계절제3차단속YN', '비상시단속YN'],\n",
       "      dtype='object')"
      ]
     },
     "execution_count": 109,
     "metadata": {},
     "output_type": "execute_result"
    }
   ],
   "source": [
    "df4.columns"
   ]
  },
  {
   "cell_type": "code",
   "execution_count": 110,
   "metadata": {},
   "outputs": [
    {
     "data": {
      "text/plain": [
       "차량말소YN\n",
       "N    9687\n",
       "Y     313\n",
       "Name: count, dtype: int64"
      ]
     },
     "execution_count": 110,
     "metadata": {},
     "output_type": "execute_result"
    }
   ],
   "source": [
    "df4['차량말소YN'].value_counts(dropna=False)"
   ]
  },
  {
   "cell_type": "code",
   "execution_count": 111,
   "metadata": {},
   "outputs": [
    {
     "data": {
      "text/plain": [
       "(9687, 2)"
      ]
     },
     "execution_count": 111,
     "metadata": {},
     "output_type": "execute_result"
    }
   ],
   "source": [
    "df5_1 = df4.loc[df4['차량말소YN'] == 'N', ['차대번호', '연료']].reset_index(drop=True)\n",
    "df5_1.shape"
   ]
  },
  {
   "cell_type": "code",
   "execution_count": 112,
   "metadata": {},
   "outputs": [
    {
     "data": {
      "text/plain": [
       "Index(['VIN', 'FUEL_CD'], dtype='object')"
      ]
     },
     "execution_count": 112,
     "metadata": {},
     "output_type": "execute_result"
    }
   ],
   "source": [
    "# about \n",
    "df5_1 = df5_1.rename(columns=chc_dict)\n",
    "df5_1.columns"
   ]
  },
  {
   "cell_type": "code",
   "execution_count": 113,
   "metadata": {},
   "outputs": [
    {
     "data": {
      "text/plain": [
       "'2023.06.25_AM.12.09.51'"
      ]
     },
     "execution_count": 113,
     "metadata": {},
     "output_type": "execute_result"
    }
   ],
   "source": [
    "today_date = datetime.today().strftime(\"%Y.%m.%d_%p.%I.%M.%S\")\n",
    "today_date"
   ]
  },
  {
   "cell_type": "code",
   "execution_count": 137,
   "metadata": {},
   "outputs": [],
   "source": [
    "# # about 37.8s\n",
    "# # 저공해조치 및 운행제한\n",
    "# df5_1.to_csv(os.path.join(df_fold, f'BD3_STD_BD_LEM_ND_RUN_LMT_CURSTT({today_date}).csv'), index=False)"
   ]
  },
  {
   "attachments": {},
   "cell_type": "markdown",
   "metadata": {},
   "source": [
    "# 분석"
   ]
  },
  {
   "attachments": {},
   "cell_type": "markdown",
   "metadata": {},
   "source": [
    "## 전체"
   ]
  },
  {
   "attachments": {},
   "cell_type": "markdown",
   "metadata": {},
   "source": [
    "### 내연기관차"
   ]
  },
  {
   "cell_type": "code",
   "execution_count": 114,
   "metadata": {},
   "outputs": [
    {
     "data": {
      "text/plain": [
       "연료\n",
       "휘발유            5704\n",
       "경유             3586\n",
       "기타연료            115\n",
       "등유                1\n",
       "알코올               1\n",
       "LPG(액화석유가스)       1\n",
       "Name: count, dtype: int64"
      ]
     },
     "execution_count": 114,
     "metadata": {},
     "output_type": "execute_result"
    }
   ],
   "source": [
    "# about 11.8s\n",
    "gas_car = df.loc[(df['연료'].isnull() == False) & (df['연료'] != '전기') & (df['연료'] != '수소') & (df['연료'] != '태양열')]\n",
    "gas_car['연료'].value_counts(dropna=False)"
   ]
  },
  {
   "cell_type": "code",
   "execution_count": 115,
   "metadata": {},
   "outputs": [
    {
     "data": {
      "text/plain": [
       "Index(['차량등록번호', '본거지법정동코드', '차대번호', '제원관리번호', '배출가스인증번호', '차명', '차종_등록정보',\n",
       "       '차종유형(소분류)', '연료', '차량말소YN', '등급', '시도', '시구군'],\n",
       "      dtype='object')"
      ]
     },
     "execution_count": 115,
     "metadata": {},
     "output_type": "execute_result"
    }
   ],
   "source": [
    "gas_car.columns"
   ]
  },
  {
   "cell_type": "code",
   "execution_count": 116,
   "metadata": {},
   "outputs": [
    {
     "data": {
      "text/html": [
       "<div>\n",
       "<style scoped>\n",
       "    .dataframe tbody tr th:only-of-type {\n",
       "        vertical-align: middle;\n",
       "    }\n",
       "\n",
       "    .dataframe tbody tr th {\n",
       "        vertical-align: top;\n",
       "    }\n",
       "\n",
       "    .dataframe thead th {\n",
       "        text-align: right;\n",
       "    }\n",
       "</style>\n",
       "<table border=\"1\" class=\"dataframe\">\n",
       "  <thead>\n",
       "    <tr style=\"text-align: right;\">\n",
       "      <th>등급</th>\n",
       "      <th>시도</th>\n",
       "      <th>4.0</th>\n",
       "      <th>5.0</th>\n",
       "      <th>X</th>\n",
       "    </tr>\n",
       "  </thead>\n",
       "  <tbody>\n",
       "    <tr>\n",
       "      <th>0</th>\n",
       "      <td>강원도</td>\n",
       "      <td>NaN</td>\n",
       "      <td>162.00</td>\n",
       "      <td>3.00</td>\n",
       "    </tr>\n",
       "    <tr>\n",
       "      <th>1</th>\n",
       "      <td>경기도</td>\n",
       "      <td>NaN</td>\n",
       "      <td>1354.00</td>\n",
       "      <td>128.00</td>\n",
       "    </tr>\n",
       "    <tr>\n",
       "      <th>2</th>\n",
       "      <td>경상남도</td>\n",
       "      <td>NaN</td>\n",
       "      <td>420.00</td>\n",
       "      <td>15.00</td>\n",
       "    </tr>\n",
       "    <tr>\n",
       "      <th>3</th>\n",
       "      <td>경상북도</td>\n",
       "      <td>NaN</td>\n",
       "      <td>456.00</td>\n",
       "      <td>10.00</td>\n",
       "    </tr>\n",
       "    <tr>\n",
       "      <th>4</th>\n",
       "      <td>광주광역시</td>\n",
       "      <td>NaN</td>\n",
       "      <td>115.00</td>\n",
       "      <td>3.00</td>\n",
       "    </tr>\n",
       "    <tr>\n",
       "      <th>5</th>\n",
       "      <td>대구광역시</td>\n",
       "      <td>NaN</td>\n",
       "      <td>175.00</td>\n",
       "      <td>1.00</td>\n",
       "    </tr>\n",
       "    <tr>\n",
       "      <th>6</th>\n",
       "      <td>대전광역시</td>\n",
       "      <td>NaN</td>\n",
       "      <td>176.00</td>\n",
       "      <td>5.00</td>\n",
       "    </tr>\n",
       "    <tr>\n",
       "      <th>7</th>\n",
       "      <td>부산광역시</td>\n",
       "      <td>NaN</td>\n",
       "      <td>299.00</td>\n",
       "      <td>38.00</td>\n",
       "    </tr>\n",
       "    <tr>\n",
       "      <th>8</th>\n",
       "      <td>서울특별시</td>\n",
       "      <td>2.00</td>\n",
       "      <td>4195.00</td>\n",
       "      <td>5.00</td>\n",
       "    </tr>\n",
       "    <tr>\n",
       "      <th>9</th>\n",
       "      <td>세종특별자치시</td>\n",
       "      <td>NaN</td>\n",
       "      <td>12.00</td>\n",
       "      <td>NaN</td>\n",
       "    </tr>\n",
       "    <tr>\n",
       "      <th>10</th>\n",
       "      <td>울산광역시</td>\n",
       "      <td>NaN</td>\n",
       "      <td>118.00</td>\n",
       "      <td>19.00</td>\n",
       "    </tr>\n",
       "    <tr>\n",
       "      <th>11</th>\n",
       "      <td>인천광역시</td>\n",
       "      <td>NaN</td>\n",
       "      <td>300.00</td>\n",
       "      <td>28.00</td>\n",
       "    </tr>\n",
       "    <tr>\n",
       "      <th>12</th>\n",
       "      <td>전라남도</td>\n",
       "      <td>NaN</td>\n",
       "      <td>211.00</td>\n",
       "      <td>6.00</td>\n",
       "    </tr>\n",
       "    <tr>\n",
       "      <th>13</th>\n",
       "      <td>전라북도</td>\n",
       "      <td>NaN</td>\n",
       "      <td>715.00</td>\n",
       "      <td>3.00</td>\n",
       "    </tr>\n",
       "    <tr>\n",
       "      <th>14</th>\n",
       "      <td>제주특별자치도</td>\n",
       "      <td>NaN</td>\n",
       "      <td>48.00</td>\n",
       "      <td>3.00</td>\n",
       "    </tr>\n",
       "    <tr>\n",
       "      <th>15</th>\n",
       "      <td>충청남도</td>\n",
       "      <td>NaN</td>\n",
       "      <td>196.00</td>\n",
       "      <td>5.00</td>\n",
       "    </tr>\n",
       "    <tr>\n",
       "      <th>16</th>\n",
       "      <td>충청북도</td>\n",
       "      <td>NaN</td>\n",
       "      <td>178.00</td>\n",
       "      <td>4.00</td>\n",
       "    </tr>\n",
       "  </tbody>\n",
       "</table>\n",
       "</div>"
      ],
      "text/plain": [
       "등급       시도  4.0     5.0      X\n",
       "0       강원도  NaN  162.00   3.00\n",
       "1       경기도  NaN 1354.00 128.00\n",
       "2      경상남도  NaN  420.00  15.00\n",
       "3      경상북도  NaN  456.00  10.00\n",
       "4     광주광역시  NaN  115.00   3.00\n",
       "5     대구광역시  NaN  175.00   1.00\n",
       "6     대전광역시  NaN  176.00   5.00\n",
       "7     부산광역시  NaN  299.00  38.00\n",
       "8     서울특별시 2.00 4195.00   5.00\n",
       "9   세종특별자치시  NaN   12.00    NaN\n",
       "10    울산광역시  NaN  118.00  19.00\n",
       "11    인천광역시  NaN  300.00  28.00\n",
       "12     전라남도  NaN  211.00   6.00\n",
       "13     전라북도  NaN  715.00   3.00\n",
       "14  제주특별자치도  NaN   48.00   3.00\n",
       "15     충청남도  NaN  196.00   5.00\n",
       "16     충청북도  NaN  178.00   4.00"
      ]
     },
     "execution_count": 116,
     "metadata": {},
     "output_type": "execute_result"
    }
   ],
   "source": [
    "# 내연기관차\n",
    "stat_gas1 = gas_car.groupby(['시도', '등급'], dropna=False)['차대번호'].count().unstack().reset_index()\n",
    "stat_gas1 = stat_gas1.rename(columns={'차대번호':'차량수'})\n",
    "stat_gas1"
   ]
  },
  {
   "cell_type": "code",
   "execution_count": 106,
   "metadata": {},
   "outputs": [],
   "source": [
    "# stat_gas1.to_excel(os.path.join(analysis_fold, '통계_전체_시도_등급별_차량현황.xlsx'), index=False)"
   ]
  },
  {
   "cell_type": "code",
   "execution_count": 118,
   "metadata": {},
   "outputs": [],
   "source": [
    "# # 내연기관차\n",
    "# stat_gas2 = gas_car.groupby(['대기관리권역', '시도', '배출가스등급', '대기관리권역YN'])['차대번호'].count().unstack()\n",
    "# stat_gas2"
   ]
  },
  {
   "cell_type": "code",
   "execution_count": 119,
   "metadata": {},
   "outputs": [],
   "source": [
    "# # 내연기관차\n",
    "# stat_gas3 = gas_car.groupby(['대기관리권역', '시도', '연료', '대기관리권역YN'])['차대번호'].count().unstack()\n",
    "# stat_gas3"
   ]
  },
  {
   "cell_type": "code",
   "execution_count": 120,
   "metadata": {},
   "outputs": [],
   "source": [
    "# # 내연기관차\n",
    "# stat_gas4 = gas_car.groupby(['대기관리권역', '시도', '배출가스등급', '연료', '대기관리권역YN'])['차대번호'].count().unstack()\n",
    "# stat_gas4"
   ]
  },
  {
   "attachments": {},
   "cell_type": "markdown",
   "metadata": {},
   "source": [
    "#### [출력] 내연기관차 대기관리권역별 등급별(말소 제거) 차량 현황"
   ]
  },
  {
   "cell_type": "code",
   "execution_count": 121,
   "metadata": {},
   "outputs": [],
   "source": [
    "# today_date = datetime.today().strftime(\"%Y.%m.%d_%p.%I.%M.%S\")\n",
    "# today_date"
   ]
  },
  {
   "cell_type": "code",
   "execution_count": 122,
   "metadata": {},
   "outputs": [],
   "source": [
    "# with pd.ExcelWriter(os.path.join(analysis_fold, f'통계_내연기관차_대기관리권역_등급_연료별({today_date}).xlsx')) as writer:\n",
    "#     stat_gas1.to_excel(writer, sheet_name='대기관리권역')\n",
    "#     stat_gas2.to_excel(writer, sheet_name='대기관리권역_등급')\n",
    "#     stat_gas3.to_excel(writer, sheet_name='대기관리권역_연료')\n",
    "#     stat_gas4.to_excel(writer, sheet_name='대기관리권역_등급_연료')"
   ]
  },
  {
   "attachments": {},
   "cell_type": "markdown",
   "metadata": {},
   "source": [
    "### 무공해차(전기, 수소, 태양열)"
   ]
  },
  {
   "cell_type": "code",
   "execution_count": 123,
   "metadata": {},
   "outputs": [
    {
     "data": {
      "text/plain": [
       "Series([], Name: count, dtype: int64)"
      ]
     },
     "execution_count": 123,
     "metadata": {},
     "output_type": "execute_result"
    }
   ],
   "source": [
    "# about 12.1s\n",
    "no_car = df.loc[(df['연료'].isnull() == False) & ((df['연료'] == '전기') | (df['연료'] == '수소') | (df['연료'] == '태양열'))]\n",
    "no_car['연료'].value_counts(dropna=False)"
   ]
  },
  {
   "cell_type": "code",
   "execution_count": 124,
   "metadata": {},
   "outputs": [],
   "source": [
    "# # 내연기관차\n",
    "# stat_no1 = no_car.groupby(['대기관리권역', '시도', '대기관리권역YN'])['차대번호'].count().unstack()\n",
    "# stat_no1"
   ]
  },
  {
   "cell_type": "code",
   "execution_count": 125,
   "metadata": {},
   "outputs": [],
   "source": [
    "# # 내연기관차\n",
    "# stat_no2 = no_car.groupby(['대기관리권역', '시도', '배출가스등급', '대기관리권역YN'])['차대번호'].count().unstack()\n",
    "# stat_no2"
   ]
  },
  {
   "cell_type": "code",
   "execution_count": 126,
   "metadata": {},
   "outputs": [],
   "source": [
    "# # 내연기관차\n",
    "# stat_no3 = no_car.groupby(['대기관리권역', '시도', '연료', '대기관리권역YN'])['차대번호'].count().unstack()\n",
    "# stat_no3"
   ]
  },
  {
   "cell_type": "code",
   "execution_count": 127,
   "metadata": {},
   "outputs": [],
   "source": [
    "# # 내연기관차\n",
    "# stat_no4 = no_car.groupby(['대기관리권역', '시도', '배출가스등급', '연료', '대기관리권역YN'])['차대번호'].count().unstack()\n",
    "# stat_no4"
   ]
  },
  {
   "attachments": {},
   "cell_type": "markdown",
   "metadata": {},
   "source": [
    "#### [출력] 무공해차 대기관리권역별 등급별(말소 제거) 차량 현황"
   ]
  },
  {
   "cell_type": "code",
   "execution_count": 128,
   "metadata": {},
   "outputs": [],
   "source": [
    "# today_date = datetime.today().strftime(\"%Y.%m.%d_%p.%I.%M.%S\")\n",
    "# today_date"
   ]
  },
  {
   "cell_type": "code",
   "execution_count": 129,
   "metadata": {},
   "outputs": [],
   "source": [
    "# with pd.ExcelWriter(os.path.join(analysis_fold, f'통계_무공해차_대기관리권역_등급_연료별({today_date}).xlsx')) as writer:\n",
    "#     stat_no1.to_excel(writer, sheet_name='대기관리권역')\n",
    "#     stat_no2.to_excel(writer, sheet_name='대기관리권역_등급')\n",
    "#     stat_no3.to_excel(writer, sheet_name='대기관리권역_연료')\n",
    "#     stat_no4.to_excel(writer, sheet_name='대기관리권역_등급_연료')"
   ]
  },
  {
   "attachments": {},
   "cell_type": "markdown",
   "metadata": {},
   "source": [
    "## 5등급"
   ]
  },
  {
   "attachments": {},
   "cell_type": "markdown",
   "metadata": {},
   "source": [
    "### 내연기관차"
   ]
  },
  {
   "cell_type": "code",
   "execution_count": 130,
   "metadata": {},
   "outputs": [
    {
     "data": {
      "text/plain": [
       "연료\n",
       "휘발유            6130\n",
       "경유             3867\n",
       "기타연료              1\n",
       "알코올               1\n",
       "LPG(액화석유가스)       1\n",
       "Name: count, dtype: int64"
      ]
     },
     "execution_count": 130,
     "metadata": {},
     "output_type": "execute_result"
    }
   ],
   "source": [
    "dfg5['연료'].value_counts(dropna=False)"
   ]
  },
  {
   "cell_type": "code",
   "execution_count": 131,
   "metadata": {},
   "outputs": [
    {
     "data": {
      "text/plain": [
       "(9999, 20)"
      ]
     },
     "execution_count": 131,
     "metadata": {},
     "output_type": "execute_result"
    }
   ],
   "source": [
    "dfg5.loc[(dfg5['연료'] != '무동력') & (dfg5['연료'] != '기타연료')].shape"
   ]
  },
  {
   "cell_type": "code",
   "execution_count": 132,
   "metadata": {},
   "outputs": [
    {
     "data": {
      "text/plain": [
       "(10000, 20)"
      ]
     },
     "execution_count": 132,
     "metadata": {},
     "output_type": "execute_result"
    }
   ],
   "source": [
    "dfg5.shape"
   ]
  },
  {
   "cell_type": "code",
   "execution_count": 133,
   "metadata": {},
   "outputs": [
    {
     "data": {
      "text/plain": [
       "연료\n",
       "휘발유            6130\n",
       "경유             3867\n",
       "기타연료              1\n",
       "알코올               1\n",
       "LPG(액화석유가스)       1\n",
       "Name: count, dtype: int64"
      ]
     },
     "execution_count": 133,
     "metadata": {},
     "output_type": "execute_result"
    }
   ],
   "source": [
    "# about 11.8s\n",
    "# gas_car = dfg5.loc[(dfg5['연료'] != '무동력') & (dfg5['연료'] != '기타연료')]\n",
    "g5_gas_car = dfg5.copy()\n",
    "g5_gas_car['연료'].value_counts(dropna=False)"
   ]
  },
  {
   "cell_type": "code",
   "execution_count": 134,
   "metadata": {},
   "outputs": [
    {
     "data": {
      "text/plain": [
       "차량말소YN\n",
       "N    9808\n",
       "Y     192\n",
       "Name: count, dtype: int64"
      ]
     },
     "execution_count": 134,
     "metadata": {},
     "output_type": "execute_result"
    }
   ],
   "source": [
    "# 말소 차량 제거\n",
    "g5_gas_car['차량말소YN'].value_counts(dropna=False)"
   ]
  },
  {
   "cell_type": "code",
   "execution_count": 135,
   "metadata": {},
   "outputs": [
    {
     "data": {
      "text/plain": [
       "시도\n",
       "강원도         179\n",
       "경기도        1513\n",
       "경상남도        468\n",
       "경상북도        498\n",
       "광주광역시       137\n",
       "대구광역시       195\n",
       "대전광역시       190\n",
       "부산광역시       349\n",
       "서울특별시      4478\n",
       "세종특별자치시      13\n",
       "울산광역시       128\n",
       "인천광역시       336\n",
       "전라남도        256\n",
       "전라북도        789\n",
       "제주특별자치도      54\n",
       "충청남도        220\n",
       "충청북도        197\n",
       "Name: 차대번호, dtype: int64"
      ]
     },
     "execution_count": 135,
     "metadata": {},
     "output_type": "execute_result"
    }
   ],
   "source": [
    "# 내연기관차\n",
    "stat_gas1 = g5_gas_car.groupby('시도', dropna=False)['차대번호'].count()\n",
    "stat_gas1"
   ]
  },
  {
   "cell_type": "code",
   "execution_count": 136,
   "metadata": {},
   "outputs": [],
   "source": [
    "# # 내연기관차\n",
    "# stat_gas2 = g5_gas_car.groupby(['대기관리권역', '시도', '배출가스등급', '대기관리권역YN'], dropna=False)['차대번호'].count().unstack()\n",
    "# stat_gas2"
   ]
  },
  {
   "cell_type": "code",
   "execution_count": 137,
   "metadata": {},
   "outputs": [],
   "source": [
    "# # 내연기관차\n",
    "# stat_gas3 = g5_gas_car.groupby(['대기관리권역', '시도', '연료', '대기관리권역YN'], dropna=False)['차대번호'].count().unstack()\n",
    "# stat_gas3"
   ]
  },
  {
   "cell_type": "code",
   "execution_count": 138,
   "metadata": {},
   "outputs": [],
   "source": [
    "# # 내연기관차\n",
    "# stat_gas4 = g5_gas_car.groupby(['대기관리권역', '시도', '배출가스등급', '연료', '대기관리권역YN'], dropna=False)['차대번호'].count().unstack()\n",
    "# stat_gas4"
   ]
  },
  {
   "attachments": {},
   "cell_type": "markdown",
   "metadata": {},
   "source": [
    "#### [출력] 내연기관차 대기관리권역별 등급별(말소 제거) 차량 현황"
   ]
  },
  {
   "cell_type": "code",
   "execution_count": 139,
   "metadata": {},
   "outputs": [],
   "source": [
    "# today_date = datetime.today().strftime(\"%Y.%m.%d_%p.%I.%M.%S\")\n",
    "# today_date"
   ]
  },
  {
   "cell_type": "code",
   "execution_count": 140,
   "metadata": {},
   "outputs": [],
   "source": [
    "# with pd.ExcelWriter(os.path.join(analysis_fold, f'통계_5등급_내연기관차_시도별(말소유지))({today_date}).xlsx')) as writer:\n",
    "#     stat_gas1.to_excel(writer, sheet_name='시도별')\n",
    "#     # stat_gas2.to_excel(writer, sheet_name='대기관리권역_등급')\n",
    "#     # stat_gas3.to_excel(writer, sheet_name='대기관리권역_연료')\n",
    "#     # stat_gas4.to_excel(writer, sheet_name='대기관리권역_등급_연료')"
   ]
  },
  {
   "attachments": {},
   "cell_type": "markdown",
   "metadata": {},
   "source": [
    "## 조기폐차 차량현황"
   ]
  },
  {
   "cell_type": "code",
   "execution_count": 141,
   "metadata": {},
   "outputs": [
    {
     "data": {
      "text/plain": [
       "(10000, 20)"
      ]
     },
     "execution_count": 141,
     "metadata": {},
     "output_type": "execute_result"
    }
   ],
   "source": [
    "g5_gas_car.shape"
   ]
  },
  {
   "cell_type": "code",
   "execution_count": 142,
   "metadata": {},
   "outputs": [
    {
     "data": {
      "text/plain": [
       "Index(['차량등록번호', '차종_등록정보', '차종유형(소분류)', '용도', '본거지법정동코드', '차대번호', '제원관리번호',\n",
       "       '배출가스인증번호', '배출가스등급', '차명', '연료', '차량말소YN', '시도', '시구군', '읍면동', '리',\n",
       "       '지역3', '폐지여부', '대기관리권역', '대기관리권역YN'],\n",
       "      dtype='object')"
      ]
     },
     "execution_count": 142,
     "metadata": {},
     "output_type": "execute_result"
    }
   ],
   "source": [
    "g5_gas_car.columns"
   ]
  },
  {
   "cell_type": "code",
   "execution_count": 143,
   "metadata": {},
   "outputs": [
    {
     "data": {
      "text/plain": [
       "Index(['조기폐차상태코드', '차대번호', '말소일자', '조기폐차최종승인YN'], dtype='object')"
      ]
     },
     "execution_count": 143,
     "metadata": {},
     "output_type": "execute_result"
    }
   ],
   "source": [
    "earlym.columns"
   ]
  },
  {
   "cell_type": "code",
   "execution_count": 144,
   "metadata": {},
   "outputs": [
    {
     "data": {
      "text/plain": [
       "(809130, 4)"
      ]
     },
     "execution_count": 144,
     "metadata": {},
     "output_type": "execute_result"
    }
   ],
   "source": [
    "earlym.shape"
   ]
  },
  {
   "cell_type": "code",
   "execution_count": 145,
   "metadata": {},
   "outputs": [
    {
     "data": {
      "text/plain": [
       "(10000, 23)"
      ]
     },
     "execution_count": 145,
     "metadata": {},
     "output_type": "execute_result"
    }
   ],
   "source": [
    "g5_gas_car = g5_gas_car.merge(earlym, on='차대번호', how='left')\n",
    "g5_gas_car.shape"
   ]
  },
  {
   "cell_type": "code",
   "execution_count": 146,
   "metadata": {},
   "outputs": [
    {
     "data": {
      "text/plain": [
       "Index(['차량등록번호', '차종_등록정보', '차종유형(소분류)', '용도', '본거지법정동코드', '차대번호', '제원관리번호',\n",
       "       '배출가스인증번호', '배출가스등급', '차명', '연료', '차량말소YN', '시도', '시구군', '읍면동', '리',\n",
       "       '지역3', '폐지여부', '대기관리권역', '대기관리권역YN', '조기폐차상태코드', '말소일자', '조기폐차최종승인YN'],\n",
       "      dtype='object')"
      ]
     },
     "execution_count": 146,
     "metadata": {},
     "output_type": "execute_result"
    }
   ],
   "source": [
    "g5_gas_car.columns"
   ]
  },
  {
   "cell_type": "code",
   "execution_count": 147,
   "metadata": {},
   "outputs": [
    {
     "data": {
      "text/plain": [
       "시도     0\n",
       "시구군    4\n",
       "dtype: int64"
      ]
     },
     "execution_count": 147,
     "metadata": {},
     "output_type": "execute_result"
    }
   ],
   "source": [
    "g5_gas_car[['시도', '시구군']].isnull().sum()"
   ]
  },
  {
   "attachments": {},
   "cell_type": "markdown",
   "metadata": {},
   "source": [
    "### [출력] 조기폐차현황"
   ]
  },
  {
   "cell_type": "code",
   "execution_count": 148,
   "metadata": {},
   "outputs": [
    {
     "data": {
      "text/plain": [
       "(10000, 10)"
      ]
     },
     "execution_count": 148,
     "metadata": {},
     "output_type": "execute_result"
    }
   ],
   "source": [
    "g5_gas_car1 = g5_gas_car[[\n",
    "    '차대번호', \n",
    "    '제원관리번호',\n",
    "    '시도',\n",
    "    '시구군',\n",
    "    '차종_등록정보', \n",
    "    '차종유형(소분류)', \n",
    "    '용도',\n",
    "    '연료', \n",
    "    '조기폐차상태코드',\n",
    "    '조기폐차최종승인YN'\n",
    "    ]]\n",
    "g5_gas_car1.shape"
   ]
  },
  {
   "cell_type": "code",
   "execution_count": 153,
   "metadata": {},
   "outputs": [],
   "source": [
    "g5_gas_car1['기준연월'] = '202212'"
   ]
  },
  {
   "cell_type": "code",
   "execution_count": 154,
   "metadata": {},
   "outputs": [
    {
     "data": {
      "text/plain": [
       "Index(['기준연월', '차대번호', '제원관리번호', '시도', '시구군', '차종_등록정보', '차종유형(소분류)', '용도',\n",
       "       '연료', '조기폐차상태코드', '조기폐차최종승인YN'],\n",
       "      dtype='object')"
      ]
     },
     "execution_count": 154,
     "metadata": {},
     "output_type": "execute_result"
    }
   ],
   "source": [
    "g5_gas_car1.columns"
   ]
  },
  {
   "cell_type": "code",
   "execution_count": 155,
   "metadata": {},
   "outputs": [],
   "source": [
    "g5_gas_car1 = g5_gas_car1[['기준연월', '차대번호', '제원관리번호', '시도', '시구군', '차종_등록정보', '차종유형(소분류)', '용도', '연료', '조기폐차상태코드', '조기폐차최종승인YN' ]]"
   ]
  },
  {
   "cell_type": "code",
   "execution_count": 156,
   "metadata": {},
   "outputs": [
    {
     "data": {
      "text/html": [
       "<div>\n",
       "<style scoped>\n",
       "    .dataframe tbody tr th:only-of-type {\n",
       "        vertical-align: middle;\n",
       "    }\n",
       "\n",
       "    .dataframe tbody tr th {\n",
       "        vertical-align: top;\n",
       "    }\n",
       "\n",
       "    .dataframe thead th {\n",
       "        text-align: right;\n",
       "    }\n",
       "</style>\n",
       "<table border=\"1\" class=\"dataframe\">\n",
       "  <thead>\n",
       "    <tr style=\"text-align: right;\">\n",
       "      <th></th>\n",
       "      <th>기준연월</th>\n",
       "      <th>차대번호</th>\n",
       "      <th>제원관리번호</th>\n",
       "      <th>시도</th>\n",
       "      <th>시구군</th>\n",
       "      <th>차종_등록정보</th>\n",
       "      <th>차종유형(소분류)</th>\n",
       "      <th>용도</th>\n",
       "      <th>연료</th>\n",
       "      <th>조기폐차상태코드</th>\n",
       "      <th>조기폐차최종승인YN</th>\n",
       "    </tr>\n",
       "  </thead>\n",
       "  <tbody>\n",
       "    <tr>\n",
       "      <th>0</th>\n",
       "      <td>202212</td>\n",
       "      <td>10762211742</td>\n",
       "      <td>10004800000000</td>\n",
       "      <td>서울특별시</td>\n",
       "      <td>서초구</td>\n",
       "      <td>승용</td>\n",
       "      <td>소형</td>\n",
       "      <td>자가용</td>\n",
       "      <td>휘발유</td>\n",
       "      <td>NaN</td>\n",
       "      <td>NaN</td>\n",
       "    </tr>\n",
       "    <tr>\n",
       "      <th>1</th>\n",
       "      <td>202212</td>\n",
       "      <td>KG68T122688*</td>\n",
       "      <td>30220100010946</td>\n",
       "      <td>대구광역시</td>\n",
       "      <td>중구</td>\n",
       "      <td>승용</td>\n",
       "      <td>경형</td>\n",
       "      <td>자가용</td>\n",
       "      <td>휘발유</td>\n",
       "      <td>NaN</td>\n",
       "      <td>NaN</td>\n",
       "    </tr>\n",
       "    <tr>\n",
       "      <th>2</th>\n",
       "      <td>202212</td>\n",
       "      <td>10762211783</td>\n",
       "      <td>10004800000000</td>\n",
       "      <td>인천광역시</td>\n",
       "      <td>남동구</td>\n",
       "      <td>승용</td>\n",
       "      <td>소형</td>\n",
       "      <td>자가용</td>\n",
       "      <td>휘발유</td>\n",
       "      <td>NaN</td>\n",
       "      <td>NaN</td>\n",
       "    </tr>\n",
       "    <tr>\n",
       "      <th>3</th>\n",
       "      <td>202212</td>\n",
       "      <td>PN71C018511000000</td>\n",
       "      <td>30321400001063</td>\n",
       "      <td>강원도</td>\n",
       "      <td>원주시</td>\n",
       "      <td>화물</td>\n",
       "      <td>중형</td>\n",
       "      <td>자가용</td>\n",
       "      <td>경유</td>\n",
       "      <td>NaN</td>\n",
       "      <td>NaN</td>\n",
       "    </tr>\n",
       "    <tr>\n",
       "      <th>4</th>\n",
       "      <td>202212</td>\n",
       "      <td>KMHLA11FPGU060639</td>\n",
       "      <td>30381300100968</td>\n",
       "      <td>경상남도</td>\n",
       "      <td>창원시 의창구</td>\n",
       "      <td>승용</td>\n",
       "      <td>소형</td>\n",
       "      <td>자가용</td>\n",
       "      <td>휘발유</td>\n",
       "      <td>NaN</td>\n",
       "      <td>NaN</td>\n",
       "    </tr>\n",
       "  </tbody>\n",
       "</table>\n",
       "</div>"
      ],
      "text/plain": [
       "     기준연월               차대번호          제원관리번호     시도      시구군 차종_등록정보   \n",
       "0  202212        10762211742  10004800000000  서울특별시      서초구      승용  \\\n",
       "1  202212       KG68T122688*  30220100010946  대구광역시       중구      승용   \n",
       "2  202212        10762211783  10004800000000  인천광역시      남동구      승용   \n",
       "3  202212  PN71C018511000000  30321400001063    강원도      원주시      화물   \n",
       "4  202212  KMHLA11FPGU060639  30381300100968   경상남도  창원시 의창구      승용   \n",
       "\n",
       "  차종유형(소분류)   용도   연료 조기폐차상태코드 조기폐차최종승인YN  \n",
       "0        소형  자가용  휘발유      NaN        NaN  \n",
       "1        경형  자가용  휘발유      NaN        NaN  \n",
       "2        소형  자가용  휘발유      NaN        NaN  \n",
       "3        중형  자가용   경유      NaN        NaN  \n",
       "4        소형  자가용  휘발유      NaN        NaN  "
      ]
     },
     "execution_count": 156,
     "metadata": {},
     "output_type": "execute_result"
    }
   ],
   "source": [
    "g5_gas_car1.head()"
   ]
  },
  {
   "cell_type": "code",
   "execution_count": 85,
   "metadata": {},
   "outputs": [],
   "source": [
    "chc_col = {\n",
    "    '기준연월':'CRTR_YM', \n",
    "    '차대번호':'VIN', \n",
    "    '제원관리번호':'MANG_MNG_NO',\n",
    "    '시도':'CTPV', \n",
    "    '시구군':'SGG',\n",
    "    '차종_등록정보':'VHCTY_CD', \n",
    "    '차종유형(소분류)':'VHCTY_TY', \n",
    "    '용도':'PURPS_CD2',\n",
    "    '연료':'FUEL_CD', \n",
    "    '조기폐차상태코드':'ELPDSRC_STTS_CD',\n",
    "    '조기폐차최종승인YN':'ELPDSRC_LAST_APRV_YN',\n",
    "}"
   ]
  },
  {
   "cell_type": "code",
   "execution_count": 86,
   "metadata": {},
   "outputs": [
    {
     "data": {
      "text/plain": [
       "Index(['CRTR_YM', 'VIN', 'MANG_MNG_NO', 'CTPV', 'SGG', 'VHCTY_CD', 'VHCTY_TY',\n",
       "       'PURPS_CD2', 'FUEL_CD', 'ELPDSRC_STTS_CD', 'ELPDSRC_LAST_APRV_YN'],\n",
       "      dtype='object')"
      ]
     },
     "execution_count": 86,
     "metadata": {},
     "output_type": "execute_result"
    }
   ],
   "source": [
    "g5_gas_car1 = g5_gas_car1.rename(columns=chc_col)\n",
    "g5_gas_car1.columns"
   ]
  },
  {
   "cell_type": "code",
   "execution_count": 83,
   "metadata": {},
   "outputs": [],
   "source": [
    "# about 14.3s\n",
    "g5_gas_car1.to_csv(os.path.join(df_fold, 'BD1_4등급_조기폐차현황.csv'), index=False)"
   ]
  },
  {
   "cell_type": "code",
   "execution_count": null,
   "metadata": {},
   "outputs": [],
   "source": []
  },
  {
   "cell_type": "code",
   "execution_count": 157,
   "metadata": {},
   "outputs": [
    {
     "data": {
      "text/plain": [
       "조기폐차최종승인YN\n",
       "NaN    9994\n",
       "Y         6\n",
       "Name: count, dtype: int64"
      ]
     },
     "execution_count": 157,
     "metadata": {},
     "output_type": "execute_result"
    }
   ],
   "source": [
    "g5_gas_car['조기폐차최종승인YN'].value_counts(dropna=False)"
   ]
  },
  {
   "cell_type": "code",
   "execution_count": 158,
   "metadata": {},
   "outputs": [
    {
     "data": {
      "text/html": [
       "<div>\n",
       "<style scoped>\n",
       "    .dataframe tbody tr th:only-of-type {\n",
       "        vertical-align: middle;\n",
       "    }\n",
       "\n",
       "    .dataframe tbody tr th {\n",
       "        vertical-align: top;\n",
       "    }\n",
       "\n",
       "    .dataframe thead th {\n",
       "        text-align: right;\n",
       "    }\n",
       "</style>\n",
       "<table border=\"1\" class=\"dataframe\">\n",
       "  <thead>\n",
       "    <tr style=\"text-align: right;\">\n",
       "      <th>조기폐차최종승인YN</th>\n",
       "      <th>Y</th>\n",
       "      <th>NaN</th>\n",
       "    </tr>\n",
       "    <tr>\n",
       "      <th>시도</th>\n",
       "      <th></th>\n",
       "      <th></th>\n",
       "    </tr>\n",
       "  </thead>\n",
       "  <tbody>\n",
       "    <tr>\n",
       "      <th>강원도</th>\n",
       "      <td>NaN</td>\n",
       "      <td>179.00</td>\n",
       "    </tr>\n",
       "    <tr>\n",
       "      <th>경기도</th>\n",
       "      <td>3.00</td>\n",
       "      <td>1510.00</td>\n",
       "    </tr>\n",
       "    <tr>\n",
       "      <th>경상남도</th>\n",
       "      <td>NaN</td>\n",
       "      <td>468.00</td>\n",
       "    </tr>\n",
       "    <tr>\n",
       "      <th>경상북도</th>\n",
       "      <td>NaN</td>\n",
       "      <td>498.00</td>\n",
       "    </tr>\n",
       "    <tr>\n",
       "      <th>광주광역시</th>\n",
       "      <td>NaN</td>\n",
       "      <td>137.00</td>\n",
       "    </tr>\n",
       "    <tr>\n",
       "      <th>대구광역시</th>\n",
       "      <td>NaN</td>\n",
       "      <td>195.00</td>\n",
       "    </tr>\n",
       "    <tr>\n",
       "      <th>대전광역시</th>\n",
       "      <td>NaN</td>\n",
       "      <td>190.00</td>\n",
       "    </tr>\n",
       "    <tr>\n",
       "      <th>부산광역시</th>\n",
       "      <td>NaN</td>\n",
       "      <td>349.00</td>\n",
       "    </tr>\n",
       "    <tr>\n",
       "      <th>서울특별시</th>\n",
       "      <td>1.00</td>\n",
       "      <td>4477.00</td>\n",
       "    </tr>\n",
       "    <tr>\n",
       "      <th>세종특별자치시</th>\n",
       "      <td>NaN</td>\n",
       "      <td>13.00</td>\n",
       "    </tr>\n",
       "    <tr>\n",
       "      <th>울산광역시</th>\n",
       "      <td>NaN</td>\n",
       "      <td>128.00</td>\n",
       "    </tr>\n",
       "    <tr>\n",
       "      <th>인천광역시</th>\n",
       "      <td>1.00</td>\n",
       "      <td>335.00</td>\n",
       "    </tr>\n",
       "    <tr>\n",
       "      <th>전라남도</th>\n",
       "      <td>NaN</td>\n",
       "      <td>256.00</td>\n",
       "    </tr>\n",
       "    <tr>\n",
       "      <th>전라북도</th>\n",
       "      <td>1.00</td>\n",
       "      <td>788.00</td>\n",
       "    </tr>\n",
       "    <tr>\n",
       "      <th>제주특별자치도</th>\n",
       "      <td>NaN</td>\n",
       "      <td>54.00</td>\n",
       "    </tr>\n",
       "    <tr>\n",
       "      <th>충청남도</th>\n",
       "      <td>NaN</td>\n",
       "      <td>220.00</td>\n",
       "    </tr>\n",
       "    <tr>\n",
       "      <th>충청북도</th>\n",
       "      <td>NaN</td>\n",
       "      <td>197.00</td>\n",
       "    </tr>\n",
       "  </tbody>\n",
       "</table>\n",
       "</div>"
      ],
      "text/plain": [
       "조기폐차최종승인YN    Y     NaN\n",
       "시도                     \n",
       "강원도         NaN  179.00\n",
       "경기도        3.00 1510.00\n",
       "경상남도        NaN  468.00\n",
       "경상북도        NaN  498.00\n",
       "광주광역시       NaN  137.00\n",
       "대구광역시       NaN  195.00\n",
       "대전광역시       NaN  190.00\n",
       "부산광역시       NaN  349.00\n",
       "서울특별시      1.00 4477.00\n",
       "세종특별자치시     NaN   13.00\n",
       "울산광역시       NaN  128.00\n",
       "인천광역시      1.00  335.00\n",
       "전라남도        NaN  256.00\n",
       "전라북도       1.00  788.00\n",
       "제주특별자치도     NaN   54.00\n",
       "충청남도        NaN  220.00\n",
       "충청북도        NaN  197.00"
      ]
     },
     "execution_count": 158,
     "metadata": {},
     "output_type": "execute_result"
    }
   ],
   "source": [
    "# 내연기관차\n",
    "stat_gas5 = g5_gas_car.groupby(['시도', '조기폐차최종승인YN'], dropna=False)['차대번호'].count().unstack('조기폐차최종승인YN')\n",
    "stat_gas5"
   ]
  },
  {
   "cell_type": "code",
   "execution_count": 159,
   "metadata": {},
   "outputs": [
    {
     "data": {
      "text/plain": [
       "dtype('float64')"
      ]
     },
     "execution_count": 159,
     "metadata": {},
     "output_type": "execute_result"
    }
   ],
   "source": [
    "g5_gas_car['말소일자'].dtype"
   ]
  },
  {
   "cell_type": "code",
   "execution_count": 160,
   "metadata": {},
   "outputs": [
    {
     "data": {
      "text/plain": [
       "count          6.00\n",
       "mean    20210871.33\n",
       "std         6174.07\n",
       "min     20201015.00\n",
       "25%     20210573.50\n",
       "50%     20211073.50\n",
       "75%     20211122.75\n",
       "max     20220520.00\n",
       "Name: 말소일자, dtype: float64"
      ]
     },
     "execution_count": 160,
     "metadata": {},
     "output_type": "execute_result"
    }
   ],
   "source": [
    "g5_gas_car['말소일자'].describe()"
   ]
  },
  {
   "cell_type": "code",
   "execution_count": 161,
   "metadata": {},
   "outputs": [],
   "source": [
    "g5_gas_car.loc[g5_gas_car['말소일자'] < 20190101, '말소일자_년도'] = 2018\n",
    "g5_gas_car.loc[(g5_gas_car['말소일자'] >= 20190101) & (g5_gas_car['말소일자'] < 20200101), '말소일자_년도'] = 2019\n",
    "g5_gas_car.loc[(g5_gas_car['말소일자'] >= 20200101) & (g5_gas_car['말소일자'] < 20210101), '말소일자_년도'] = 2020\n",
    "g5_gas_car.loc[(g5_gas_car['말소일자'] >= 20210101) & (g5_gas_car['말소일자'] < 20220101), '말소일자_년도'] = 2021\n",
    "g5_gas_car.loc[(g5_gas_car['말소일자'] >= 20220101) & (g5_gas_car['말소일자'] < 20230101), '말소일자_년도'] = 2022\n",
    "g5_gas_car.loc[g5_gas_car['말소일자'] >= 20230101, '말소일자_년도'] = 2023"
   ]
  },
  {
   "cell_type": "code",
   "execution_count": 162,
   "metadata": {},
   "outputs": [
    {
     "data": {
      "text/plain": [
       "말소일자_년도\n",
       "2020.00    1\n",
       "2021.00    4\n",
       "2022.00    1\n",
       "Name: 차대번호, dtype: int64"
      ]
     },
     "execution_count": 162,
     "metadata": {},
     "output_type": "execute_result"
    }
   ],
   "source": [
    "stat_gas5_1 = g5_gas_car.loc[g5_gas_car['조기폐차최종승인YN'] == 'Y'].groupby(['말소일자_년도'])['차대번호'].count()\n",
    "stat_gas5_1"
   ]
  },
  {
   "cell_type": "code",
   "execution_count": 163,
   "metadata": {},
   "outputs": [
    {
     "data": {
      "text/html": [
       "<div>\n",
       "<style scoped>\n",
       "    .dataframe tbody tr th:only-of-type {\n",
       "        vertical-align: middle;\n",
       "    }\n",
       "\n",
       "    .dataframe tbody tr th {\n",
       "        vertical-align: top;\n",
       "    }\n",
       "\n",
       "    .dataframe thead th {\n",
       "        text-align: right;\n",
       "    }\n",
       "</style>\n",
       "<table border=\"1\" class=\"dataframe\">\n",
       "  <thead>\n",
       "    <tr style=\"text-align: right;\">\n",
       "      <th>말소일자_년도</th>\n",
       "      <th>2020.00</th>\n",
       "      <th>2021.00</th>\n",
       "      <th>2022.00</th>\n",
       "    </tr>\n",
       "    <tr>\n",
       "      <th>시도</th>\n",
       "      <th></th>\n",
       "      <th></th>\n",
       "      <th></th>\n",
       "    </tr>\n",
       "  </thead>\n",
       "  <tbody>\n",
       "    <tr>\n",
       "      <th>경기도</th>\n",
       "      <td>1.00</td>\n",
       "      <td>1.00</td>\n",
       "      <td>1.00</td>\n",
       "    </tr>\n",
       "    <tr>\n",
       "      <th>서울특별시</th>\n",
       "      <td>NaN</td>\n",
       "      <td>1.00</td>\n",
       "      <td>NaN</td>\n",
       "    </tr>\n",
       "    <tr>\n",
       "      <th>인천광역시</th>\n",
       "      <td>NaN</td>\n",
       "      <td>1.00</td>\n",
       "      <td>NaN</td>\n",
       "    </tr>\n",
       "    <tr>\n",
       "      <th>전라북도</th>\n",
       "      <td>NaN</td>\n",
       "      <td>1.00</td>\n",
       "      <td>NaN</td>\n",
       "    </tr>\n",
       "  </tbody>\n",
       "</table>\n",
       "</div>"
      ],
      "text/plain": [
       "말소일자_년도  2020.00  2021.00  2022.00\n",
       "시도                                \n",
       "경기도         1.00     1.00     1.00\n",
       "서울특별시        NaN     1.00      NaN\n",
       "인천광역시        NaN     1.00      NaN\n",
       "전라북도         NaN     1.00      NaN"
      ]
     },
     "execution_count": 163,
     "metadata": {},
     "output_type": "execute_result"
    }
   ],
   "source": [
    "stat_gas5_2 = g5_gas_car.loc[g5_gas_car['조기폐차최종승인YN'] == 'Y'].groupby(['시도', '말소일자_년도'])['차대번호'].count().unstack()\n",
    "stat_gas5_2"
   ]
  },
  {
   "attachments": {},
   "cell_type": "markdown",
   "metadata": {},
   "source": [
    "#### [출력] 내연기관차 대기관리권역별 조기폐차(말소 제거) 차량 현황"
   ]
  },
  {
   "cell_type": "code",
   "execution_count": 164,
   "metadata": {},
   "outputs": [
    {
     "data": {
      "text/plain": [
       "'2023.06.25_AM.12.14.42'"
      ]
     },
     "execution_count": 164,
     "metadata": {},
     "output_type": "execute_result"
    }
   ],
   "source": [
    "today_date = datetime.today().strftime(\"%Y.%m.%d_%p.%I.%M.%S\")\n",
    "today_date"
   ]
  },
  {
   "cell_type": "code",
   "execution_count": 293,
   "metadata": {},
   "outputs": [],
   "source": [
    "# with pd.ExcelWriter(os.path.join(analysis_fold, f'통계_5등급_내연기관차_조기폐차({today_date}).xlsx')) as writer:\n",
    "#     stat_gas5.to_excel(writer, sheet_name='대기관리권역_조기폐차')\n",
    "#     stat_gas5_1.to_excel(writer, sheet_name='연도별_조기폐차')\n",
    "#     stat_gas5_2.to_excel(writer, sheet_name='시도별_연도별_조기폐차')"
   ]
  },
  {
   "attachments": {},
   "cell_type": "markdown",
   "metadata": {},
   "source": [
    "## 5등급 저감장치 부착 차량 현황(말소 제거)"
   ]
  },
  {
   "cell_type": "code",
   "execution_count": 165,
   "metadata": {},
   "outputs": [
    {
     "data": {
      "text/plain": [
       "(10000, 24)"
      ]
     },
     "execution_count": 165,
     "metadata": {},
     "output_type": "execute_result"
    }
   ],
   "source": [
    "g5_gas_car.shape"
   ]
  },
  {
   "cell_type": "code",
   "execution_count": 166,
   "metadata": {},
   "outputs": [
    {
     "data": {
      "text/html": [
       "<div>\n",
       "<style scoped>\n",
       "    .dataframe tbody tr th:only-of-type {\n",
       "        vertical-align: middle;\n",
       "    }\n",
       "\n",
       "    .dataframe tbody tr th {\n",
       "        vertical-align: top;\n",
       "    }\n",
       "\n",
       "    .dataframe thead th {\n",
       "        text-align: right;\n",
       "    }\n",
       "</style>\n",
       "<table border=\"1\" class=\"dataframe\">\n",
       "  <thead>\n",
       "    <tr style=\"text-align: right;\">\n",
       "      <th></th>\n",
       "      <th>차량등록번호</th>\n",
       "      <th>차종_등록정보</th>\n",
       "      <th>차종유형(소분류)</th>\n",
       "      <th>용도</th>\n",
       "      <th>본거지법정동코드</th>\n",
       "      <th>차대번호</th>\n",
       "      <th>제원관리번호</th>\n",
       "      <th>배출가스인증번호</th>\n",
       "      <th>배출가스등급</th>\n",
       "      <th>차명</th>\n",
       "      <th>...</th>\n",
       "      <th>읍면동</th>\n",
       "      <th>리</th>\n",
       "      <th>지역3</th>\n",
       "      <th>폐지여부</th>\n",
       "      <th>대기관리권역</th>\n",
       "      <th>대기관리권역YN</th>\n",
       "      <th>조기폐차상태코드</th>\n",
       "      <th>말소일자</th>\n",
       "      <th>조기폐차최종승인YN</th>\n",
       "      <th>말소일자_년도</th>\n",
       "    </tr>\n",
       "  </thead>\n",
       "  <tbody>\n",
       "    <tr>\n",
       "      <th>0</th>\n",
       "      <td>서울1나4019</td>\n",
       "      <td>승용</td>\n",
       "      <td>소형</td>\n",
       "      <td>자가용</td>\n",
       "      <td>1165010700</td>\n",
       "      <td>10762211742</td>\n",
       "      <td>10004800000000</td>\n",
       "      <td>NaN</td>\n",
       "      <td>5</td>\n",
       "      <td>포니</td>\n",
       "      <td>...</td>\n",
       "      <td>반포동</td>\n",
       "      <td>NaN</td>\n",
       "      <td>NaN</td>\n",
       "      <td>존재</td>\n",
       "      <td>수도권</td>\n",
       "      <td>Y</td>\n",
       "      <td>NaN</td>\n",
       "      <td>NaN</td>\n",
       "      <td>NaN</td>\n",
       "      <td>NaN</td>\n",
       "    </tr>\n",
       "    <tr>\n",
       "      <th>1</th>\n",
       "      <td>대구1다1476</td>\n",
       "      <td>승용</td>\n",
       "      <td>경형</td>\n",
       "      <td>자가용</td>\n",
       "      <td>2711010500</td>\n",
       "      <td>KG68T122688*</td>\n",
       "      <td>30220100010946</td>\n",
       "      <td>NaN</td>\n",
       "      <td>5</td>\n",
       "      <td>퍼브리카</td>\n",
       "      <td>...</td>\n",
       "      <td>삼덕동1가</td>\n",
       "      <td>NaN</td>\n",
       "      <td>NaN</td>\n",
       "      <td>존재</td>\n",
       "      <td>동남권</td>\n",
       "      <td>Y</td>\n",
       "      <td>NaN</td>\n",
       "      <td>NaN</td>\n",
       "      <td>NaN</td>\n",
       "      <td>NaN</td>\n",
       "    </tr>\n",
       "    <tr>\n",
       "      <th>2</th>\n",
       "      <td>인천1마8052</td>\n",
       "      <td>승용</td>\n",
       "      <td>소형</td>\n",
       "      <td>자가용</td>\n",
       "      <td>2820010300</td>\n",
       "      <td>10762211783</td>\n",
       "      <td>10004800000000</td>\n",
       "      <td>NaN</td>\n",
       "      <td>5</td>\n",
       "      <td>포니</td>\n",
       "      <td>...</td>\n",
       "      <td>만수동</td>\n",
       "      <td>NaN</td>\n",
       "      <td>NaN</td>\n",
       "      <td>존재</td>\n",
       "      <td>수도권</td>\n",
       "      <td>Y</td>\n",
       "      <td>NaN</td>\n",
       "      <td>NaN</td>\n",
       "      <td>NaN</td>\n",
       "      <td>NaN</td>\n",
       "    </tr>\n",
       "    <tr>\n",
       "      <th>3</th>\n",
       "      <td>87로9835</td>\n",
       "      <td>화물</td>\n",
       "      <td>중형</td>\n",
       "      <td>자가용</td>\n",
       "      <td>4213011200</td>\n",
       "      <td>PN71C018511000000</td>\n",
       "      <td>30321400001063</td>\n",
       "      <td>NaN</td>\n",
       "      <td>5</td>\n",
       "      <td>JAM담프</td>\n",
       "      <td>...</td>\n",
       "      <td>태장동</td>\n",
       "      <td>NaN</td>\n",
       "      <td>NaN</td>\n",
       "      <td>존재</td>\n",
       "      <td>그 외</td>\n",
       "      <td>N</td>\n",
       "      <td>NaN</td>\n",
       "      <td>NaN</td>\n",
       "      <td>NaN</td>\n",
       "      <td>NaN</td>\n",
       "    </tr>\n",
       "    <tr>\n",
       "      <th>4</th>\n",
       "      <td>경남1러3590</td>\n",
       "      <td>승용</td>\n",
       "      <td>소형</td>\n",
       "      <td>자가용</td>\n",
       "      <td>4812110500</td>\n",
       "      <td>KMHLA11FPGU060639</td>\n",
       "      <td>30381300100968</td>\n",
       "      <td>NaN</td>\n",
       "      <td>5</td>\n",
       "      <td>포니엑셀</td>\n",
       "      <td>...</td>\n",
       "      <td>도계동</td>\n",
       "      <td>NaN</td>\n",
       "      <td>NaN</td>\n",
       "      <td>존재</td>\n",
       "      <td>동남권</td>\n",
       "      <td>Y</td>\n",
       "      <td>NaN</td>\n",
       "      <td>NaN</td>\n",
       "      <td>NaN</td>\n",
       "      <td>NaN</td>\n",
       "    </tr>\n",
       "  </tbody>\n",
       "</table>\n",
       "<p>5 rows × 24 columns</p>\n",
       "</div>"
      ],
      "text/plain": [
       "     차량등록번호 차종_등록정보 차종유형(소분류)   용도    본거지법정동코드               차대번호   \n",
       "0  서울1나4019      승용        소형  자가용  1165010700        10762211742  \\\n",
       "1  대구1다1476      승용        경형  자가용  2711010500       KG68T122688*   \n",
       "2  인천1마8052      승용        소형  자가용  2820010300        10762211783   \n",
       "3   87로9835      화물        중형  자가용  4213011200  PN71C018511000000   \n",
       "4  경남1러3590      승용        소형  자가용  4812110500  KMHLA11FPGU060639   \n",
       "\n",
       "           제원관리번호  배출가스인증번호 배출가스등급     차명  ...    읍면동    리 지역3 폐지여부 대기관리권역   \n",
       "0  10004800000000       NaN      5     포니  ...    반포동  NaN NaN   존재    수도권  \\\n",
       "1  30220100010946       NaN      5   퍼브리카  ...  삼덕동1가  NaN NaN   존재    동남권   \n",
       "2  10004800000000       NaN      5     포니  ...    만수동  NaN NaN   존재    수도권   \n",
       "3  30321400001063       NaN      5  JAM담프  ...    태장동  NaN NaN   존재    그 외   \n",
       "4  30381300100968       NaN      5   포니엑셀  ...    도계동  NaN NaN   존재    동남권   \n",
       "\n",
       "  대기관리권역YN  조기폐차상태코드 말소일자 조기폐차최종승인YN 말소일자_년도  \n",
       "0        Y       NaN  NaN        NaN     NaN  \n",
       "1        Y       NaN  NaN        NaN     NaN  \n",
       "2        Y       NaN  NaN        NaN     NaN  \n",
       "3        N       NaN  NaN        NaN     NaN  \n",
       "4        Y       NaN  NaN        NaN     NaN  \n",
       "\n",
       "[5 rows x 24 columns]"
      ]
     },
     "execution_count": 166,
     "metadata": {},
     "output_type": "execute_result"
    }
   ],
   "source": [
    "g5_gas_car.head()"
   ]
  },
  {
   "cell_type": "code",
   "execution_count": 167,
   "metadata": {},
   "outputs": [
    {
     "data": {
      "text/plain": [
       "(10000, 25)"
      ]
     },
     "execution_count": 167,
     "metadata": {},
     "output_type": "execute_result"
    }
   ],
   "source": [
    "g5_gas_car = g5_gas_car.merge(attm[['차대번호', '저감장치']], on='차대번호', how='left')\n",
    "g5_gas_car.shape"
   ]
  },
  {
   "cell_type": "code",
   "execution_count": 168,
   "metadata": {},
   "outputs": [
    {
     "data": {
      "text/plain": [
       "차량말소YN\n",
       "N    9808\n",
       "Y     192\n",
       "Name: count, dtype: int64"
      ]
     },
     "execution_count": 168,
     "metadata": {},
     "output_type": "execute_result"
    }
   ],
   "source": [
    "g5_gas_car['차량말소YN'].value_counts(dropna=False)"
   ]
  },
  {
   "cell_type": "code",
   "execution_count": 169,
   "metadata": {},
   "outputs": [
    {
     "data": {
      "text/plain": [
       "(9808, 25)"
      ]
     },
     "execution_count": 169,
     "metadata": {},
     "output_type": "execute_result"
    }
   ],
   "source": [
    "g5_gas_car_n = g5_gas_car.loc[g5_gas_car['차량말소YN'] == 'N'].reset_index(drop=True)\n",
    "g5_gas_car_n.shape"
   ]
  },
  {
   "cell_type": "code",
   "execution_count": 170,
   "metadata": {},
   "outputs": [
    {
     "data": {
      "text/plain": [
       "Index(['차량등록번호', '차종_등록정보', '차종유형(소분류)', '용도', '본거지법정동코드', '차대번호', '제원관리번호',\n",
       "       '배출가스인증번호', '배출가스등급', '차명', '연료', '차량말소YN', '시도', '시구군', '읍면동', '리',\n",
       "       '지역3', '폐지여부', '대기관리권역', '대기관리권역YN', '조기폐차상태코드', '말소일자', '조기폐차최종승인YN',\n",
       "       '말소일자_년도', '저감장치'],\n",
       "      dtype='object')"
      ]
     },
     "execution_count": 170,
     "metadata": {},
     "output_type": "execute_result"
    }
   ],
   "source": [
    "g5_gas_car_n.columns"
   ]
  },
  {
   "cell_type": "code",
   "execution_count": 171,
   "metadata": {},
   "outputs": [
    {
     "data": {
      "text/plain": [
       "Series([], Name: count, dtype: int64)"
      ]
     },
     "execution_count": 171,
     "metadata": {},
     "output_type": "execute_result"
    }
   ],
   "source": [
    "g5_gas_car_n['저감장치'].value_counts()"
   ]
  },
  {
   "cell_type": "code",
   "execution_count": 172,
   "metadata": {},
   "outputs": [
    {
     "data": {
      "text/html": [
       "<div>\n",
       "<style scoped>\n",
       "    .dataframe tbody tr th:only-of-type {\n",
       "        vertical-align: middle;\n",
       "    }\n",
       "\n",
       "    .dataframe tbody tr th {\n",
       "        vertical-align: top;\n",
       "    }\n",
       "\n",
       "    .dataframe thead th {\n",
       "        text-align: right;\n",
       "    }\n",
       "</style>\n",
       "<table border=\"1\" class=\"dataframe\">\n",
       "  <thead>\n",
       "    <tr style=\"text-align: right;\">\n",
       "      <th></th>\n",
       "      <th>차량등록번호</th>\n",
       "      <th>차종_등록정보</th>\n",
       "      <th>차종유형(소분류)</th>\n",
       "      <th>용도</th>\n",
       "      <th>본거지법정동코드</th>\n",
       "      <th>차대번호</th>\n",
       "      <th>제원관리번호</th>\n",
       "      <th>배출가스인증번호</th>\n",
       "      <th>배출가스등급</th>\n",
       "      <th>차명</th>\n",
       "      <th>...</th>\n",
       "      <th>리</th>\n",
       "      <th>지역3</th>\n",
       "      <th>폐지여부</th>\n",
       "      <th>대기관리권역</th>\n",
       "      <th>대기관리권역YN</th>\n",
       "      <th>조기폐차상태코드</th>\n",
       "      <th>말소일자</th>\n",
       "      <th>조기폐차최종승인YN</th>\n",
       "      <th>말소일자_년도</th>\n",
       "      <th>저감장치</th>\n",
       "    </tr>\n",
       "  </thead>\n",
       "  <tbody>\n",
       "    <tr>\n",
       "      <th>0</th>\n",
       "      <td>서울1나4019</td>\n",
       "      <td>승용</td>\n",
       "      <td>소형</td>\n",
       "      <td>자가용</td>\n",
       "      <td>1165010700</td>\n",
       "      <td>10762211742</td>\n",
       "      <td>10004800000000</td>\n",
       "      <td>NaN</td>\n",
       "      <td>5</td>\n",
       "      <td>포니</td>\n",
       "      <td>...</td>\n",
       "      <td>NaN</td>\n",
       "      <td>NaN</td>\n",
       "      <td>존재</td>\n",
       "      <td>수도권</td>\n",
       "      <td>Y</td>\n",
       "      <td>NaN</td>\n",
       "      <td>NaN</td>\n",
       "      <td>NaN</td>\n",
       "      <td>NaN</td>\n",
       "      <td>NaN</td>\n",
       "    </tr>\n",
       "    <tr>\n",
       "      <th>1</th>\n",
       "      <td>대구1다1476</td>\n",
       "      <td>승용</td>\n",
       "      <td>경형</td>\n",
       "      <td>자가용</td>\n",
       "      <td>2711010500</td>\n",
       "      <td>KG68T122688*</td>\n",
       "      <td>30220100010946</td>\n",
       "      <td>NaN</td>\n",
       "      <td>5</td>\n",
       "      <td>퍼브리카</td>\n",
       "      <td>...</td>\n",
       "      <td>NaN</td>\n",
       "      <td>NaN</td>\n",
       "      <td>존재</td>\n",
       "      <td>동남권</td>\n",
       "      <td>Y</td>\n",
       "      <td>NaN</td>\n",
       "      <td>NaN</td>\n",
       "      <td>NaN</td>\n",
       "      <td>NaN</td>\n",
       "      <td>NaN</td>\n",
       "    </tr>\n",
       "    <tr>\n",
       "      <th>2</th>\n",
       "      <td>인천1마8052</td>\n",
       "      <td>승용</td>\n",
       "      <td>소형</td>\n",
       "      <td>자가용</td>\n",
       "      <td>2820010300</td>\n",
       "      <td>10762211783</td>\n",
       "      <td>10004800000000</td>\n",
       "      <td>NaN</td>\n",
       "      <td>5</td>\n",
       "      <td>포니</td>\n",
       "      <td>...</td>\n",
       "      <td>NaN</td>\n",
       "      <td>NaN</td>\n",
       "      <td>존재</td>\n",
       "      <td>수도권</td>\n",
       "      <td>Y</td>\n",
       "      <td>NaN</td>\n",
       "      <td>NaN</td>\n",
       "      <td>NaN</td>\n",
       "      <td>NaN</td>\n",
       "      <td>NaN</td>\n",
       "    </tr>\n",
       "    <tr>\n",
       "      <th>3</th>\n",
       "      <td>87로9835</td>\n",
       "      <td>화물</td>\n",
       "      <td>중형</td>\n",
       "      <td>자가용</td>\n",
       "      <td>4213011200</td>\n",
       "      <td>PN71C018511000000</td>\n",
       "      <td>30321400001063</td>\n",
       "      <td>NaN</td>\n",
       "      <td>5</td>\n",
       "      <td>JAM담프</td>\n",
       "      <td>...</td>\n",
       "      <td>NaN</td>\n",
       "      <td>NaN</td>\n",
       "      <td>존재</td>\n",
       "      <td>그 외</td>\n",
       "      <td>N</td>\n",
       "      <td>NaN</td>\n",
       "      <td>NaN</td>\n",
       "      <td>NaN</td>\n",
       "      <td>NaN</td>\n",
       "      <td>NaN</td>\n",
       "    </tr>\n",
       "    <tr>\n",
       "      <th>4</th>\n",
       "      <td>경남1러3590</td>\n",
       "      <td>승용</td>\n",
       "      <td>소형</td>\n",
       "      <td>자가용</td>\n",
       "      <td>4812110500</td>\n",
       "      <td>KMHLA11FPGU060639</td>\n",
       "      <td>30381300100968</td>\n",
       "      <td>NaN</td>\n",
       "      <td>5</td>\n",
       "      <td>포니엑셀</td>\n",
       "      <td>...</td>\n",
       "      <td>NaN</td>\n",
       "      <td>NaN</td>\n",
       "      <td>존재</td>\n",
       "      <td>동남권</td>\n",
       "      <td>Y</td>\n",
       "      <td>NaN</td>\n",
       "      <td>NaN</td>\n",
       "      <td>NaN</td>\n",
       "      <td>NaN</td>\n",
       "      <td>NaN</td>\n",
       "    </tr>\n",
       "  </tbody>\n",
       "</table>\n",
       "<p>5 rows × 25 columns</p>\n",
       "</div>"
      ],
      "text/plain": [
       "     차량등록번호 차종_등록정보 차종유형(소분류)   용도    본거지법정동코드               차대번호   \n",
       "0  서울1나4019      승용        소형  자가용  1165010700        10762211742  \\\n",
       "1  대구1다1476      승용        경형  자가용  2711010500       KG68T122688*   \n",
       "2  인천1마8052      승용        소형  자가용  2820010300        10762211783   \n",
       "3   87로9835      화물        중형  자가용  4213011200  PN71C018511000000   \n",
       "4  경남1러3590      승용        소형  자가용  4812110500  KMHLA11FPGU060639   \n",
       "\n",
       "           제원관리번호  배출가스인증번호 배출가스등급     차명  ...    리 지역3 폐지여부 대기관리권역 대기관리권역YN   \n",
       "0  10004800000000       NaN      5     포니  ...  NaN NaN   존재    수도권        Y  \\\n",
       "1  30220100010946       NaN      5   퍼브리카  ...  NaN NaN   존재    동남권        Y   \n",
       "2  10004800000000       NaN      5     포니  ...  NaN NaN   존재    수도권        Y   \n",
       "3  30321400001063       NaN      5  JAM담프  ...  NaN NaN   존재    그 외        N   \n",
       "4  30381300100968       NaN      5   포니엑셀  ...  NaN NaN   존재    동남권        Y   \n",
       "\n",
       "  조기폐차상태코드  말소일자 조기폐차최종승인YN 말소일자_년도 저감장치  \n",
       "0      NaN   NaN        NaN     NaN  NaN  \n",
       "1      NaN   NaN        NaN     NaN  NaN  \n",
       "2      NaN   NaN        NaN     NaN  NaN  \n",
       "3      NaN   NaN        NaN     NaN  NaN  \n",
       "4      NaN   NaN        NaN     NaN  NaN  \n",
       "\n",
       "[5 rows x 25 columns]"
      ]
     },
     "execution_count": 172,
     "metadata": {},
     "output_type": "execute_result"
    }
   ],
   "source": [
    "g5_gas_car_n.head()"
   ]
  },
  {
   "cell_type": "code",
   "execution_count": 173,
   "metadata": {},
   "outputs": [
    {
     "data": {
      "text/html": [
       "<div>\n",
       "<style scoped>\n",
       "    .dataframe tbody tr th:only-of-type {\n",
       "        vertical-align: middle;\n",
       "    }\n",
       "\n",
       "    .dataframe tbody tr th {\n",
       "        vertical-align: top;\n",
       "    }\n",
       "\n",
       "    .dataframe thead th {\n",
       "        text-align: right;\n",
       "    }\n",
       "</style>\n",
       "<table border=\"1\" class=\"dataframe\">\n",
       "  <thead>\n",
       "    <tr style=\"text-align: right;\">\n",
       "      <th></th>\n",
       "      <th>시도</th>\n",
       "      <th>차대번호</th>\n",
       "    </tr>\n",
       "  </thead>\n",
       "  <tbody>\n",
       "    <tr>\n",
       "      <th>0</th>\n",
       "      <td>강원도</td>\n",
       "      <td>173</td>\n",
       "    </tr>\n",
       "    <tr>\n",
       "      <th>1</th>\n",
       "      <td>경기도</td>\n",
       "      <td>1470</td>\n",
       "    </tr>\n",
       "    <tr>\n",
       "      <th>2</th>\n",
       "      <td>경상남도</td>\n",
       "      <td>460</td>\n",
       "    </tr>\n",
       "    <tr>\n",
       "      <th>3</th>\n",
       "      <td>경상북도</td>\n",
       "      <td>486</td>\n",
       "    </tr>\n",
       "    <tr>\n",
       "      <th>4</th>\n",
       "      <td>광주광역시</td>\n",
       "      <td>134</td>\n",
       "    </tr>\n",
       "    <tr>\n",
       "      <th>5</th>\n",
       "      <td>대구광역시</td>\n",
       "      <td>189</td>\n",
       "    </tr>\n",
       "    <tr>\n",
       "      <th>6</th>\n",
       "      <td>대전광역시</td>\n",
       "      <td>184</td>\n",
       "    </tr>\n",
       "    <tr>\n",
       "      <th>7</th>\n",
       "      <td>부산광역시</td>\n",
       "      <td>335</td>\n",
       "    </tr>\n",
       "    <tr>\n",
       "      <th>8</th>\n",
       "      <td>서울특별시</td>\n",
       "      <td>4452</td>\n",
       "    </tr>\n",
       "    <tr>\n",
       "      <th>9</th>\n",
       "      <td>세종특별자치시</td>\n",
       "      <td>13</td>\n",
       "    </tr>\n",
       "    <tr>\n",
       "      <th>10</th>\n",
       "      <td>울산광역시</td>\n",
       "      <td>124</td>\n",
       "    </tr>\n",
       "    <tr>\n",
       "      <th>11</th>\n",
       "      <td>인천광역시</td>\n",
       "      <td>326</td>\n",
       "    </tr>\n",
       "    <tr>\n",
       "      <th>12</th>\n",
       "      <td>전라남도</td>\n",
       "      <td>248</td>\n",
       "    </tr>\n",
       "    <tr>\n",
       "      <th>13</th>\n",
       "      <td>전라북도</td>\n",
       "      <td>769</td>\n",
       "    </tr>\n",
       "    <tr>\n",
       "      <th>14</th>\n",
       "      <td>제주특별자치도</td>\n",
       "      <td>50</td>\n",
       "    </tr>\n",
       "    <tr>\n",
       "      <th>15</th>\n",
       "      <td>충청남도</td>\n",
       "      <td>209</td>\n",
       "    </tr>\n",
       "    <tr>\n",
       "      <th>16</th>\n",
       "      <td>충청북도</td>\n",
       "      <td>186</td>\n",
       "    </tr>\n",
       "  </tbody>\n",
       "</table>\n",
       "</div>"
      ],
      "text/plain": [
       "         시도  차대번호\n",
       "0       강원도   173\n",
       "1       경기도  1470\n",
       "2      경상남도   460\n",
       "3      경상북도   486\n",
       "4     광주광역시   134\n",
       "5     대구광역시   189\n",
       "6     대전광역시   184\n",
       "7     부산광역시   335\n",
       "8     서울특별시  4452\n",
       "9   세종특별자치시    13\n",
       "10    울산광역시   124\n",
       "11    인천광역시   326\n",
       "12     전라남도   248\n",
       "13     전라북도   769\n",
       "14  제주특별자치도    50\n",
       "15     충청남도   209\n",
       "16     충청북도   186"
      ]
     },
     "execution_count": 173,
     "metadata": {},
     "output_type": "execute_result"
    }
   ],
   "source": [
    "# 내연기관차\n",
    "stat_gas6 = g5_gas_car_n.groupby('시도', dropna=False)['차대번호'].count().reset_index()\n",
    "stat_gas6"
   ]
  },
  {
   "cell_type": "code",
   "execution_count": 174,
   "metadata": {},
   "outputs": [
    {
     "data": {
      "text/plain": [
       "Series([], Name: 차대번호, dtype: int64)"
      ]
     },
     "execution_count": 174,
     "metadata": {},
     "output_type": "execute_result"
    }
   ],
   "source": [
    "# 내연기관차 > 저감장치 : DPF\n",
    "stat_gas7 = g5_gas_car_n.loc[g5_gas_car_n['저감장치'] == 'DPF'].groupby('시도')['차대번호'].count()\n",
    "stat_gas7"
   ]
  },
  {
   "cell_type": "code",
   "execution_count": 175,
   "metadata": {},
   "outputs": [
    {
     "data": {
      "text/plain": [
       "Series([], Name: 차대번호, dtype: int64)"
      ]
     },
     "execution_count": 175,
     "metadata": {},
     "output_type": "execute_result"
    }
   ],
   "source": [
    "# 내연기관차 > 저감장치 : PM-NOx저감장치\n",
    "stat_gas8 = g5_gas_car_n.loc[g5_gas_car_n['저감장치'] == 'PM-NOx저감장치'].groupby('시도')['차대번호'].count()\n",
    "stat_gas8"
   ]
  },
  {
   "attachments": {},
   "cell_type": "markdown",
   "metadata": {},
   "source": [
    "#### [출력] 내연기관차 대기관리권역별 저감장치 부착이력별(말소 제거) 차량 현황"
   ]
  },
  {
   "cell_type": "code",
   "execution_count": 143,
   "metadata": {},
   "outputs": [
    {
     "data": {
      "text/plain": [
       "'2023.05.18_PM.04.16.07'"
      ]
     },
     "execution_count": 143,
     "metadata": {},
     "output_type": "execute_result"
    }
   ],
   "source": [
    "# today_date = datetime.today().strftime(\"%Y.%m.%d_%p.%I.%M.%S\")\n",
    "# today_date"
   ]
  },
  {
   "cell_type": "code",
   "execution_count": 144,
   "metadata": {},
   "outputs": [],
   "source": [
    "# with pd.ExcelWriter(os.path.join(analysis_fold, f'통계_5등급_내연기관차_시도별_저감장치별(말소제거)({today_date}).xlsx')) as writer:\n",
    "#     stat_gas6.to_excel(writer, sheet_name='시도별')\n",
    "#     stat_gas7.to_excel(writer, sheet_name='대기관리권역_DPF')\n",
    "#     stat_gas8.to_excel(writer, sheet_name='대기관리권역_PM-NOx저감장치')"
   ]
  },
  {
   "attachments": {},
   "cell_type": "markdown",
   "metadata": {},
   "source": [
    "### [출력] 5등급 저감장치 부착 데이터"
   ]
  },
  {
   "cell_type": "code",
   "execution_count": 176,
   "metadata": {},
   "outputs": [
    {
     "data": {
      "text/plain": [
       "(9808, 25)"
      ]
     },
     "execution_count": 176,
     "metadata": {},
     "output_type": "execute_result"
    }
   ],
   "source": [
    "g5_gas_car_n.shape"
   ]
  },
  {
   "cell_type": "code",
   "execution_count": 177,
   "metadata": {},
   "outputs": [
    {
     "data": {
      "text/plain": [
       "차량말소YN\n",
       "N    9808\n",
       "Name: count, dtype: int64"
      ]
     },
     "execution_count": 177,
     "metadata": {},
     "output_type": "execute_result"
    }
   ],
   "source": [
    "g5_gas_car_n['차량말소YN'].value_counts(dropna=False)"
   ]
  },
  {
   "cell_type": "code",
   "execution_count": 178,
   "metadata": {},
   "outputs": [
    {
     "data": {
      "text/plain": [
       "Index(['차량등록번호', '차종_등록정보', '차종유형(소분류)', '용도', '본거지법정동코드', '차대번호', '제원관리번호',\n",
       "       '배출가스인증번호', '배출가스등급', '차명', '연료', '차량말소YN', '시도', '시구군', '읍면동', '리',\n",
       "       '지역3', '폐지여부', '대기관리권역', '대기관리권역YN', '조기폐차상태코드', '말소일자', '조기폐차최종승인YN',\n",
       "       '말소일자_년도', '저감장치'],\n",
       "      dtype='object')"
      ]
     },
     "execution_count": 178,
     "metadata": {},
     "output_type": "execute_result"
    }
   ],
   "source": [
    "g5_gas_car_n.columns"
   ]
  },
  {
   "cell_type": "code",
   "execution_count": 179,
   "metadata": {},
   "outputs": [
    {
     "data": {
      "text/plain": [
       "'2023.06.25_AM.12.15.57'"
      ]
     },
     "execution_count": 179,
     "metadata": {},
     "output_type": "execute_result"
    }
   ],
   "source": [
    "today_date = datetime.today().strftime(\"%Y.%m.%d_%p.%I.%M.%S\")\n",
    "today_date"
   ]
  },
  {
   "cell_type": "code",
   "execution_count": 151,
   "metadata": {},
   "outputs": [],
   "source": [
    "# # about 6m 11.3s\n",
    "# n = 500000\n",
    "# g5_gas_car_n.iloc[:n].to_excel(os.path.join(raw_fold, f'BD3-1_5등급차_저감장치현황({today_date})01.xlsx'), index=False)\n",
    "# g5_gas_car_n.iloc[n:].to_excel(os.path.join(raw_fold, f'BD3-1_5등급차_저감장치현황({today_date})02.xlsx'), index=False)"
   ]
  },
  {
   "attachments": {},
   "cell_type": "markdown",
   "metadata": {},
   "source": [
    "# code end"
   ]
  }
 ],
 "metadata": {
  "kernelspec": {
   "display_name": "base",
   "language": "python",
   "name": "python3"
  },
  "language_info": {
   "codemirror_mode": {
    "name": "ipython",
    "version": 3
   },
   "file_extension": ".py",
   "mimetype": "text/x-python",
   "name": "python",
   "nbconvert_exporter": "python",
   "pygments_lexer": "ipython3",
   "version": "3.9.13"
  },
  "orig_nbformat": 4,
  "vscode": {
   "interpreter": {
    "hash": "ad2bdc8ecc057115af97d19610ffacc2b4e99fae6737bb82f5d7fb13d2f2c186"
   }
  }
 },
 "nbformat": 4,
 "nbformat_minor": 2
}
