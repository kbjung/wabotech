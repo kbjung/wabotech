{
 "cells": [
  {
   "attachments": {},
   "cell_type": "markdown",
   "metadata": {},
   "source": [
    "# Library"
   ]
  },
  {
   "cell_type": "code",
   "execution_count": 1,
   "metadata": {},
   "outputs": [],
   "source": [
    "import pandas as pd\n",
    "import numpy as np\n",
    "import os\n",
    "from datetime import datetime"
   ]
  },
  {
   "attachments": {},
   "cell_type": "markdown",
   "metadata": {},
   "source": [
    "# fold path"
   ]
  },
  {
   "cell_type": "code",
   "execution_count": 2,
   "metadata": {},
   "outputs": [],
   "source": [
    "raw_fold = 'D:/data/big2/BD1/raw'\n",
    "an_fold = 'D:/data/big2/BD1/an'"
   ]
  },
  {
   "cell_type": "code",
   "execution_count": 3,
   "metadata": {},
   "outputs": [],
   "source": [
    "# 소수점 옵션\n",
    "pd.options.display.float_format = '{:.2f}'.format\n",
    "# pd.reset_option('display.float_format')"
   ]
  },
  {
   "attachments": {},
   "cell_type": "markdown",
   "metadata": {},
   "source": [
    "## result"
   ]
  },
  {
   "cell_type": "code",
   "execution_count": 4,
   "metadata": {},
   "outputs": [
    {
     "name": "stdout",
     "output_type": "stream",
     "text": [
      "<class 'pandas.core.frame.DataFrame'>\n",
      "RangeIndex: 1502235 entries, 0 to 1502234\n",
      "Data columns (total 33 columns):\n",
      " #   Column    Non-Null Count    Dtype  \n",
      "---  ------    --------------    -----  \n",
      " 0   차대번호      1502235 non-null  object \n",
      " 1   차량번호      1502235 non-null  object \n",
      " 2   제원관리번호    1502235 non-null  object \n",
      " 3   차종        1502235 non-null  object \n",
      " 4   용도        1502235 non-null  object \n",
      " 5   최초등록일     1502235 non-null  int64  \n",
      " 6   연식        1502235 non-null  int64  \n",
      " 7   제작일자      1335178 non-null  float64\n",
      " 8   검사유효일     1502223 non-null  float64\n",
      " 9   배출가스인증번호  1382222 non-null  object \n",
      " 10  등급        1502235 non-null  int64  \n",
      " 11  차명        1502235 non-null  object \n",
      " 12  차종분류      1502235 non-null  object \n",
      " 13  차종유형      1502235 non-null  object \n",
      " 14  자동차형식     1501958 non-null  object \n",
      " 15  제작사명      1492590 non-null  object \n",
      " 16  연료        1502235 non-null  object \n",
      " 17  엔진형식      1500400 non-null  object \n",
      " 18  총중량       1502234 non-null  float64\n",
      " 19  적재중량      1501728 non-null  float64\n",
      " 20  엔진출력      1501882 non-null  object \n",
      " 21  배기량       1502231 non-null  float64\n",
      " 22  법정동코드     1502235 non-null  int64  \n",
      " 23  시도명       1502235 non-null  object \n",
      " 24  시군구명      1502235 non-null  object \n",
      " 25  소유자구분     1502235 non-null  object \n",
      " 26  말소여부      1502235 non-null  object \n",
      " 27  일치유무      1153813 non-null  object \n",
      " 28  배인번호_수정   1153813 non-null  object \n",
      " 29  등급_수정     1153813 non-null  float64\n",
      " 30  DPF유무_수정  1153813 non-null  object \n",
      " 31  fuel      1497673 non-null  object \n",
      " 32  Grade     1497673 non-null  object \n",
      "dtypes: float64(6), int64(4), object(23)\n",
      "memory usage: 378.2+ MB\n"
     ]
    }
   ],
   "source": [
    "# about 16.6s\n",
    "name = '4등급 차량 리스트 양식(전체) result 최종 Grade 추가(2023.04.13_PM.01.23.26)'\n",
    "file_name = f'{name}.csv'\n",
    "df = pd.read_csv(os.path.join(raw_fold, file_name), encoding='cp949', low_memory=False)\n",
    "df.info()"
   ]
  },
  {
   "cell_type": "code",
   "execution_count": 5,
   "metadata": {},
   "outputs": [
    {
     "data": {
      "text/plain": [
       "Index(['차대번호', '차량번호', '제원관리번호', '차종', '용도', '최초등록일', '연식', '제작일자', '검사유효일',\n",
       "       '배출가스인증번호', '등급', '차명', '차종분류', '차종유형', '자동차형식', '제작사명', '연료', '엔진형식',\n",
       "       '총중량', '적재중량', '엔진출력', '배기량', '법정동코드', '시도명', '시군구명', '소유자구분', '말소여부',\n",
       "       '일치유무', '배인번호_수정', '등급_수정', 'DPF유무_수정', 'fuel', 'Grade'],\n",
       "      dtype='object')"
      ]
     },
     "execution_count": 5,
     "metadata": {},
     "output_type": "execute_result"
    }
   ],
   "source": [
    "df.columns"
   ]
  },
  {
   "cell_type": "code",
   "execution_count": 6,
   "metadata": {},
   "outputs": [
    {
     "data": {
      "text/plain": [
       "경유             1153813\n",
       "휘발유             322983\n",
       "LPG(액화석유가스)      25400\n",
       "기타연료                37\n",
       "알코올                  1\n",
       "CNG(압축천연가스)          1\n",
       "Name: 연료, dtype: int64"
      ]
     },
     "execution_count": 6,
     "metadata": {},
     "output_type": "execute_result"
    }
   ],
   "source": [
    "df['연료'].value_counts(dropna=False)"
   ]
  },
  {
   "cell_type": "code",
   "execution_count": 7,
   "metadata": {},
   "outputs": [
    {
     "data": {
      "text/plain": [
       "4.00    1149290\n",
       "3.00       4396\n",
       "5.00        127\n",
       "Name: 등급_수정, dtype: int64"
      ]
     },
     "execution_count": 7,
     "metadata": {},
     "output_type": "execute_result"
    }
   ],
   "source": [
    "df['등급_수정'].value_counts(dropna=True)"
   ]
  },
  {
   "cell_type": "code",
   "execution_count": 8,
   "metadata": {},
   "outputs": [
    {
     "data": {
      "text/plain": [
       "(118, 33)"
      ]
     },
     "execution_count": 8,
     "metadata": {},
     "output_type": "execute_result"
    }
   ],
   "source": [
    "df.loc[df['배출가스인증번호'] == '5MY-AD-13-07'].shape"
   ]
  },
  {
   "cell_type": "code",
   "execution_count": 9,
   "metadata": {},
   "outputs": [
    {
     "data": {
      "text/plain": [
       "(4396, 33)"
      ]
     },
     "execution_count": 9,
     "metadata": {},
     "output_type": "execute_result"
    }
   ],
   "source": [
    "df3 = df.loc[df['등급_수정'] == 3].reset_index(drop=True)\n",
    "df3.shape"
   ]
  },
  {
   "cell_type": "code",
   "execution_count": 10,
   "metadata": {},
   "outputs": [
    {
     "data": {
      "text/plain": [
       "등급_수정  배출가스인증번호     \n",
       "3.00   5MY-AD-13-07      118\n",
       "       5MY-AD-13-13       51\n",
       "       5MY-HD-24-59      164\n",
       "       6MY-AD-13-11      493\n",
       "       7MY-AD-13-01      565\n",
       "       7MY-AD-13-05       26\n",
       "       7MY-AD-13-06      207\n",
       "       7MY-DB-24-42       13\n",
       "       7MY-DK-24-04      148\n",
       "       7MY-HD-24-31        3\n",
       "       8MY-SY-13-14      313\n",
       "       9MY-JL-14-4       273\n",
       "       CMY-VTK-14-01       2\n",
       "       CMY-VTK-14-02      24\n",
       "       FMY-VTK-14-1     1768\n",
       "       FMY-VTK-14-2       86\n",
       "       FMY-VTK-14-3       76\n",
       "       FMY-VTK-14-4       49\n",
       "Name: 차대번호, dtype: int64"
      ]
     },
     "execution_count": 10,
     "metadata": {},
     "output_type": "execute_result"
    }
   ],
   "source": [
    "df3.groupby(['등급_수정', '배출가스인증번호'])['차대번호'].count()"
   ]
  },
  {
   "cell_type": "code",
   "execution_count": 11,
   "metadata": {},
   "outputs": [
    {
     "data": {
      "text/plain": [
       "등급_수정  배인번호_수정      \n",
       "3.00   5MY-AD-13-07      118\n",
       "       5MY-AD-13-13       51\n",
       "       6MY-AD-13-11      493\n",
       "       7MY-AD-13-01      565\n",
       "       7MY-AD-13-05       26\n",
       "       7MY-AD-13-06      207\n",
       "       7MY-DK-24-04      148\n",
       "       8MY-SY-13-14      313\n",
       "       9MY-JL-14-4       273\n",
       "       BMY-HD-14-54        3\n",
       "       BMY-KM-14-32        1\n",
       "       CMY-HD-14-11      164\n",
       "       CMY-VTK-14-01       2\n",
       "       CMY-VTK-14-02      24\n",
       "       FMY-DB-14-54       13\n",
       "       FMY-VTK-14-1     1780\n",
       "       FMY-VTK-14-2       87\n",
       "       FMY-VTK-14-3       76\n",
       "       FMY-VTK-14-4       49\n",
       "       확인불가                3\n",
       "Name: 차대번호, dtype: int64"
      ]
     },
     "execution_count": 11,
     "metadata": {},
     "output_type": "execute_result"
    }
   ],
   "source": [
    "df3.groupby(['등급_수정', '배인번호_수정'])['차대번호'].count()"
   ]
  },
  {
   "cell_type": "code",
   "execution_count": 12,
   "metadata": {},
   "outputs": [
    {
     "data": {
      "text/html": [
       "<div>\n",
       "<style scoped>\n",
       "    .dataframe tbody tr th:only-of-type {\n",
       "        vertical-align: middle;\n",
       "    }\n",
       "\n",
       "    .dataframe tbody tr th {\n",
       "        vertical-align: top;\n",
       "    }\n",
       "\n",
       "    .dataframe thead th {\n",
       "        text-align: right;\n",
       "    }\n",
       "</style>\n",
       "<table border=\"1\" class=\"dataframe\">\n",
       "  <thead>\n",
       "    <tr style=\"text-align: right;\">\n",
       "      <th></th>\n",
       "      <th>배출가스인증번호</th>\n",
       "      <th>제작사명</th>\n",
       "      <th>차명</th>\n",
       "    </tr>\n",
       "  </thead>\n",
       "  <tbody>\n",
       "    <tr>\n",
       "      <th>4393</th>\n",
       "      <td>7MY-HD-24-31</td>\n",
       "      <td>현대자동차(주)</td>\n",
       "      <td>뉴파워트럭</td>\n",
       "    </tr>\n",
       "    <tr>\n",
       "      <th>4394</th>\n",
       "      <td>7MY-HD-24-31</td>\n",
       "      <td>현대자동차(주)</td>\n",
       "      <td>뉴파워트럭</td>\n",
       "    </tr>\n",
       "    <tr>\n",
       "      <th>4395</th>\n",
       "      <td>7MY-HD-24-31</td>\n",
       "      <td>현대자동차(주)</td>\n",
       "      <td>뉴파워트럭</td>\n",
       "    </tr>\n",
       "  </tbody>\n",
       "</table>\n",
       "</div>"
      ],
      "text/plain": [
       "          배출가스인증번호      제작사명     차명\n",
       "4393  7MY-HD-24-31  현대자동차(주)  뉴파워트럭\n",
       "4394  7MY-HD-24-31  현대자동차(주)  뉴파워트럭\n",
       "4395  7MY-HD-24-31  현대자동차(주)  뉴파워트럭"
      ]
     },
     "execution_count": 12,
     "metadata": {},
     "output_type": "execute_result"
    }
   ],
   "source": [
    "df3.loc[df3['배인번호_수정'] == '확인불가', ['배출가스인증번호', '제작사명', '차명']]"
   ]
  },
  {
   "cell_type": "code",
   "execution_count": 13,
   "metadata": {},
   "outputs": [
    {
     "data": {
      "text/html": [
       "<div>\n",
       "<style scoped>\n",
       "    .dataframe tbody tr th:only-of-type {\n",
       "        vertical-align: middle;\n",
       "    }\n",
       "\n",
       "    .dataframe tbody tr th {\n",
       "        vertical-align: top;\n",
       "    }\n",
       "\n",
       "    .dataframe thead th {\n",
       "        text-align: right;\n",
       "    }\n",
       "</style>\n",
       "<table border=\"1\" class=\"dataframe\">\n",
       "  <thead>\n",
       "    <tr style=\"text-align: right;\">\n",
       "      <th></th>\n",
       "      <th>배출가스인증번호</th>\n",
       "      <th>배인번호_수정</th>\n",
       "      <th>등급_수정</th>\n",
       "      <th>제작사명</th>\n",
       "      <th>차명</th>\n",
       "    </tr>\n",
       "  </thead>\n",
       "  <tbody>\n",
       "  </tbody>\n",
       "</table>\n",
       "</div>"
      ],
      "text/plain": [
       "Empty DataFrame\n",
       "Columns: [배출가스인증번호, 배인번호_수정, 등급_수정, 제작사명, 차명]\n",
       "Index: []"
      ]
     },
     "execution_count": 13,
     "metadata": {},
     "output_type": "execute_result"
    }
   ],
   "source": [
    "df.loc[df['배출가스인증번호'] == 'EMY-HD-14-48', ['배출가스인증번호', '배인번호_수정', '등급_수정', '제작사명', '차명']]"
   ]
  },
  {
   "cell_type": "code",
   "execution_count": 14,
   "metadata": {},
   "outputs": [
    {
     "data": {
      "text/html": [
       "<div>\n",
       "<style scoped>\n",
       "    .dataframe tbody tr th:only-of-type {\n",
       "        vertical-align: middle;\n",
       "    }\n",
       "\n",
       "    .dataframe tbody tr th {\n",
       "        vertical-align: top;\n",
       "    }\n",
       "\n",
       "    .dataframe thead th {\n",
       "        text-align: right;\n",
       "    }\n",
       "</style>\n",
       "<table border=\"1\" class=\"dataframe\">\n",
       "  <thead>\n",
       "    <tr style=\"text-align: right;\">\n",
       "      <th></th>\n",
       "      <th>배출가스인증번호</th>\n",
       "      <th>배인번호_수정</th>\n",
       "      <th>등급_수정</th>\n",
       "      <th>제작사명</th>\n",
       "      <th>차명</th>\n",
       "    </tr>\n",
       "  </thead>\n",
       "  <tbody>\n",
       "  </tbody>\n",
       "</table>\n",
       "</div>"
      ],
      "text/plain": [
       "Empty DataFrame\n",
       "Columns: [배출가스인증번호, 배인번호_수정, 등급_수정, 제작사명, 차명]\n",
       "Index: []"
      ]
     },
     "execution_count": 14,
     "metadata": {},
     "output_type": "execute_result"
    }
   ],
   "source": [
    "df.loc[df['배인번호_수정'] == 'EMY-HD-14-48', ['배출가스인증번호', '배인번호_수정', '등급_수정', '제작사명', '차명']]"
   ]
  },
  {
   "cell_type": "code",
   "execution_count": 15,
   "metadata": {},
   "outputs": [
    {
     "data": {
      "text/plain": [
       "(127, 33)"
      ]
     },
     "execution_count": 15,
     "metadata": {},
     "output_type": "execute_result"
    }
   ],
   "source": [
    "df5 = df.loc[df['등급_수정'] == 5].reset_index(drop=True)\n",
    "df5.shape"
   ]
  },
  {
   "cell_type": "code",
   "execution_count": 16,
   "metadata": {},
   "outputs": [
    {
     "data": {
      "text/plain": [
       "등급_수정  배출가스인증번호    \n",
       "5.00   4MY-DC-33        7\n",
       "       5MY-SY-24-48     2\n",
       "       6MY-HD-23-55     3\n",
       "       7MY-DK-24-04     8\n",
       "       7MY-HD-14-68     1\n",
       "       8MY-KM-13-19    83\n",
       "       9MY-KM-14-41     2\n",
       "Name: 차대번호, dtype: int64"
      ]
     },
     "execution_count": 16,
     "metadata": {},
     "output_type": "execute_result"
    }
   ],
   "source": [
    "df5.groupby(['등급_수정', '배출가스인증번호'])['차대번호'].count()"
   ]
  },
  {
   "cell_type": "code",
   "execution_count": 17,
   "metadata": {},
   "outputs": [
    {
     "data": {
      "text/plain": [
       "등급_수정  배인번호_수정     \n",
       "5.00   3MY-HD-14        8\n",
       "       3MY-HD-15        1\n",
       "       4MY-DK-04        8\n",
       "       4MY-KM-03        1\n",
       "       4MY-KM-06       84\n",
       "       4MY-KM-07        4\n",
       "       5MY-KM-24-32     6\n",
       "       5MY-SY-24-48     2\n",
       "       6MY-DC-23-17     7\n",
       "       6MY-HD-23-55     3\n",
       "       확인불가             3\n",
       "Name: 차대번호, dtype: int64"
      ]
     },
     "execution_count": 17,
     "metadata": {},
     "output_type": "execute_result"
    }
   ],
   "source": [
    "df5.groupby(['등급_수정', '배인번호_수정'])['차대번호'].count()"
   ]
  },
  {
   "cell_type": "code",
   "execution_count": 18,
   "metadata": {},
   "outputs": [
    {
     "data": {
      "text/plain": [
       "Index(['차대번호', '차량번호', '제원관리번호', '차종', '용도', '최초등록일', '연식', '제작일자', '검사유효일',\n",
       "       '배출가스인증번호', '등급', '차명', '차종분류', '차종유형', '자동차형식', '제작사명', '연료', '엔진형식',\n",
       "       '총중량', '적재중량', '엔진출력', '배기량', '법정동코드', '시도명', '시군구명', '소유자구분', '말소여부',\n",
       "       '일치유무', '배인번호_수정', '등급_수정', 'DPF유무_수정', 'fuel', 'Grade'],\n",
       "      dtype='object')"
      ]
     },
     "execution_count": 18,
     "metadata": {},
     "output_type": "execute_result"
    }
   ],
   "source": [
    "df.columns"
   ]
  },
  {
   "cell_type": "code",
   "execution_count": 19,
   "metadata": {},
   "outputs": [],
   "source": [
    "df.drop('fuel', axis=1, inplace=True)"
   ]
  },
  {
   "cell_type": "code",
   "execution_count": 20,
   "metadata": {},
   "outputs": [
    {
     "data": {
      "text/plain": [
       "Index(['차대번호', '차량번호', '제원관리번호', '차종', '용도', '최초등록일', '연식', '제작일자', '검사유효일',\n",
       "       '배출가스인증번호', '등급', '차명', '차종분류', '차종유형', '자동차형식', '제작사명', '연료', '엔진형식',\n",
       "       '총중량', '적재중량', '엔진출력', '배기량', '법정동코드', '시도명', '시군구명', '소유자구분', '말소여부',\n",
       "       '일치유무', '배인번호_수정', '등급_수정', 'DPF유무_수정', 'Grade'],\n",
       "      dtype='object')"
      ]
     },
     "execution_count": 20,
     "metadata": {},
     "output_type": "execute_result"
    }
   ],
   "source": [
    "df.columns"
   ]
  },
  {
   "attachments": {},
   "cell_type": "markdown",
   "metadata": {},
   "source": [
    "# 공단 수정 파일"
   ]
  },
  {
   "cell_type": "code",
   "execution_count": 22,
   "metadata": {},
   "outputs": [],
   "source": [
    "raw_result_fold = 'D:/data/big2/BD1/raw/result수정/raw'"
   ]
  },
  {
   "cell_type": "code",
   "execution_count": 23,
   "metadata": {},
   "outputs": [],
   "source": [
    "# about \n",
    "name = '4등급 차량 리스트 양식 result 최종_수정-작업'\n",
    "file_name = f'{name}.csv'\n",
    "md = pd.read_csv(os.path.join(raw_result_fold, file_name), encoding='cp949', low_memory=False)"
   ]
  },
  {
   "cell_type": "code",
   "execution_count": 24,
   "metadata": {},
   "outputs": [
    {
     "name": "stdout",
     "output_type": "stream",
     "text": [
      "<class 'pandas.core.frame.DataFrame'>\n",
      "RangeIndex: 1153813 entries, 0 to 1153812\n",
      "Data columns (total 36 columns):\n",
      " #   Column      Non-Null Count    Dtype  \n",
      "---  ------      --------------    -----  \n",
      " 0   차대번호        1153813 non-null  object \n",
      " 1   차량번호        1153813 non-null  object \n",
      " 2   제원관리번호      1153813 non-null  object \n",
      " 3   차종_원본       1153813 non-null  object \n",
      " 4   용도          1153813 non-null  object \n",
      " 5   최초등록일       1153813 non-null  int64  \n",
      " 6   연식          1153813 non-null  int64  \n",
      " 7   제작일자        1153809 non-null  float64\n",
      " 8   검사유효일       1153810 non-null  float64\n",
      " 9   배출가스인증번호    1146663 non-null  object \n",
      " 10  등급          1153813 non-null  int64  \n",
      " 11  차명          1153813 non-null  object \n",
      " 12  차종분류        1153813 non-null  object \n",
      " 13  차종유형        1153813 non-null  object \n",
      " 14  자동차형식       1153812 non-null  object \n",
      " 15  제작사명        1153795 non-null  object \n",
      " 16  연료          1153813 non-null  object \n",
      " 17  엔진형식        1153813 non-null  object \n",
      " 18  총중량         1153813 non-null  int64  \n",
      " 19  적재중량        1153589 non-null  float64\n",
      " 20  엔진출력        1153811 non-null  float64\n",
      " 21  배기량         1153813 non-null  int64  \n",
      " 22  법정동코드       1153813 non-null  int64  \n",
      " 23  시도명         1153813 non-null  object \n",
      " 24  시군구명        1153813 non-null  object \n",
      " 25  소유자구분       1153813 non-null  object \n",
      " 26  말소여부        1153813 non-null  object \n",
      " 27  일치유무        1153813 non-null  object \n",
      " 28  인증번호 수정 유무  1153813 non-null  object \n",
      " 29  배인번호_수정     1153813 non-null  object \n",
      " 30  등급_수정       1153813 non-null  int64  \n",
      " 31  DPF유무_수정    1153813 non-null  object \n",
      " 32  배출가스        1153813 non-null  object \n",
      " 33  등급2         1153813 non-null  object \n",
      " 34  DPF         1146987 non-null  object \n",
      " 35  비고          46458 non-null    object \n",
      "dtypes: float64(4), int64(7), object(25)\n",
      "memory usage: 316.9+ MB\n"
     ]
    }
   ],
   "source": [
    "md.info()"
   ]
  },
  {
   "cell_type": "code",
   "execution_count": 25,
   "metadata": {},
   "outputs": [
    {
     "data": {
      "text/plain": [
       "Index(['차대번호', '차량번호', '제원관리번호', '차종_원본', '용도', '최초등록일', '연식', '제작일자', '검사유효일',\n",
       "       '배출가스인증번호', '등급', '차명', '차종분류', '차종유형', '자동차형식', '제작사명', '연료', '엔진형식',\n",
       "       '총중량', '적재중량', '엔진출력', '배기량', '법정동코드', '시도명', '시군구명', '소유자구분', '말소여부',\n",
       "       '일치유무', '인증번호 수정 유무', '배인번호_수정', '등급_수정', 'DPF유무_수정', '배출가스', '등급2',\n",
       "       'DPF', '비고'],\n",
       "      dtype='object')"
      ]
     },
     "execution_count": 25,
     "metadata": {},
     "output_type": "execute_result"
    }
   ],
   "source": [
    "md.columns"
   ]
  },
  {
   "cell_type": "code",
   "execution_count": 27,
   "metadata": {},
   "outputs": [
    {
     "data": {
      "text/plain": [
       "4    1149291\n",
       "3       4396\n",
       "5        126\n",
       "Name: 등급_수정, dtype: int64"
      ]
     },
     "execution_count": 27,
     "metadata": {},
     "output_type": "execute_result"
    }
   ],
   "source": [
    "md['등급_수정'].value_counts(dropna=False)"
   ]
  },
  {
   "cell_type": "code",
   "execution_count": 30,
   "metadata": {},
   "outputs": [
    {
     "data": {
      "text/plain": [
       "(4396, 36)"
      ]
     },
     "execution_count": 30,
     "metadata": {},
     "output_type": "execute_result"
    }
   ],
   "source": [
    "md3 = md.loc[md['등급_수정'] == 3].reset_index(drop=True)\n",
    "md3.shape"
   ]
  },
  {
   "cell_type": "code",
   "execution_count": 31,
   "metadata": {},
   "outputs": [
    {
     "data": {
      "text/plain": [
       "배출가스인증번호       등급_수정\n",
       "5MY-AD-13-07   3         118\n",
       "5MY-AD-13-13   3          51\n",
       "5MY-HD-24-59   3         164\n",
       "6MY-AD-13-11   3         493\n",
       "7MY-AD-13-01   3         565\n",
       "7MY-AD-13-05   3          26\n",
       "7MY-AD-13-06   3         207\n",
       "7MY-DB-24-42   3          13\n",
       "7MY-DK-24-04   3         148\n",
       "7MY-HD-24-31   3           3\n",
       "8MY-SY-13-14   3         313\n",
       "9MY-JL-14-4    3         273\n",
       "CMY-VTK-14-01  3           2\n",
       "CMY-VTK-14-02  3          24\n",
       "FMY-VTK-14-1   3        1768\n",
       "FMY-VTK-14-2   3          86\n",
       "FMY-VTK-14-3   3          76\n",
       "FMY-VTK-14-4   3          49\n",
       "Name: 차대번호, dtype: int64"
      ]
     },
     "execution_count": 31,
     "metadata": {},
     "output_type": "execute_result"
    }
   ],
   "source": [
    "md3.groupby(['배출가스인증번호', '등급_수정'])['차대번호'].count()"
   ]
  },
  {
   "cell_type": "code",
   "execution_count": 32,
   "metadata": {},
   "outputs": [
    {
     "data": {
      "text/plain": [
       "배인번호_수정        등급_수정\n",
       "5MY-AD-13-07   3         118\n",
       "5MY-AD-13-13   3          51\n",
       "6MY-AD-13-11   3         493\n",
       "7MY-AD-13-01   3         565\n",
       "7MY-AD-13-05   3          26\n",
       "7MY-AD-13-06   3         207\n",
       "7MY-DK-24-04   3         148\n",
       "8MY-SY-13-14   3         313\n",
       "9MY-JL-14-4    3         273\n",
       "BMY-HD-14-54   3           3\n",
       "BMY-KM-14-32   3           1\n",
       "CMY-HD-14-11   3         164\n",
       "CMY-VTK-14-01  3           2\n",
       "CMY-VTK-14-02  3          24\n",
       "FMY-DB-14-54   3          13\n",
       "FMY-VTK-14-1   3        1780\n",
       "FMY-VTK-14-2   3          87\n",
       "FMY-VTK-14-3   3          76\n",
       "FMY-VTK-14-4   3          49\n",
       "확인불가           3           3\n",
       "Name: 차대번호, dtype: int64"
      ]
     },
     "execution_count": 32,
     "metadata": {},
     "output_type": "execute_result"
    }
   ],
   "source": [
    "md3.groupby(['배인번호_수정', '등급_수정'])['차대번호'].count()"
   ]
  },
  {
   "cell_type": "code",
   "execution_count": 33,
   "metadata": {},
   "outputs": [
    {
     "data": {
      "text/plain": [
       "(126, 36)"
      ]
     },
     "execution_count": 33,
     "metadata": {},
     "output_type": "execute_result"
    }
   ],
   "source": [
    "md5 = md.loc[md['등급_수정'] == 5].reset_index(drop=True)\n",
    "md5.shape"
   ]
  },
  {
   "cell_type": "code",
   "execution_count": 34,
   "metadata": {},
   "outputs": [
    {
     "data": {
      "text/plain": [
       "배출가스인증번호      등급_수정\n",
       "4MY-DC-33     5         7\n",
       "5MY-SY-24-48  5         2\n",
       "6MY-HD-23-55  5         3\n",
       "7MY-DK-24-04  5         8\n",
       "7MY-HD-14-68  5         1\n",
       "8MY-KM-13-19  5        83\n",
       "9MY-KM-14-41  5         2\n",
       "Name: 차대번호, dtype: int64"
      ]
     },
     "execution_count": 34,
     "metadata": {},
     "output_type": "execute_result"
    }
   ],
   "source": [
    "md5.groupby(['배출가스인증번호', '등급_수정'])['차대번호'].count()"
   ]
  },
  {
   "cell_type": "code",
   "execution_count": 35,
   "metadata": {},
   "outputs": [
    {
     "data": {
      "text/plain": [
       "배인번호_수정       등급_수정\n",
       "3MY-HD-14     5         8\n",
       "3MY-HD-15     5         1\n",
       "4MY-DK-04     5         8\n",
       "4MY-KM-03     5         1\n",
       "4MY-KM-06     5        84\n",
       "4MY-KM-07     5         4\n",
       "5MY-KM-24-32  5         6\n",
       "5MY-SY-24-48  5         2\n",
       "6MY-DC-23-17  5         7\n",
       "6MY-HD-23-55  5         3\n",
       "확인불가          5         2\n",
       "Name: 차대번호, dtype: int64"
      ]
     },
     "execution_count": 35,
     "metadata": {},
     "output_type": "execute_result"
    }
   ],
   "source": [
    "md5.groupby(['배인번호_수정', '등급_수정'])['차대번호'].count()"
   ]
  },
  {
   "cell_type": "code",
   "execution_count": 36,
   "metadata": {},
   "outputs": [
    {
     "data": {
      "text/html": [
       "<div>\n",
       "<style scoped>\n",
       "    .dataframe tbody tr th:only-of-type {\n",
       "        vertical-align: middle;\n",
       "    }\n",
       "\n",
       "    .dataframe tbody tr th {\n",
       "        vertical-align: top;\n",
       "    }\n",
       "\n",
       "    .dataframe thead th {\n",
       "        text-align: right;\n",
       "    }\n",
       "</style>\n",
       "<table border=\"1\" class=\"dataframe\">\n",
       "  <thead>\n",
       "    <tr style=\"text-align: right;\">\n",
       "      <th></th>\n",
       "      <th>배출가스인증번호</th>\n",
       "      <th>제작사명</th>\n",
       "      <th>차명</th>\n",
       "    </tr>\n",
       "  </thead>\n",
       "  <tbody>\n",
       "    <tr>\n",
       "      <th>124</th>\n",
       "      <td>NaN</td>\n",
       "      <td>쌍용자동차(주)</td>\n",
       "      <td>코란도KJ</td>\n",
       "    </tr>\n",
       "    <tr>\n",
       "      <th>125</th>\n",
       "      <td>NaN</td>\n",
       "      <td>기아자동차(주)</td>\n",
       "      <td>기아뉴복사17</td>\n",
       "    </tr>\n",
       "  </tbody>\n",
       "</table>\n",
       "</div>"
      ],
      "text/plain": [
       "    배출가스인증번호      제작사명       차명\n",
       "124      NaN  쌍용자동차(주)    코란도KJ\n",
       "125      NaN  기아자동차(주)  기아뉴복사17"
      ]
     },
     "execution_count": 36,
     "metadata": {},
     "output_type": "execute_result"
    }
   ],
   "source": [
    "md5.loc[md5['배인번호_수정'] == '확인불가' , ['배출가스인증번호', '제작사명', '차명']]"
   ]
  },
  {
   "attachments": {},
   "cell_type": "markdown",
   "metadata": {},
   "source": [
    "# 공단 수정 파일 제번 수정"
   ]
  },
  {
   "cell_type": "code",
   "execution_count": 27,
   "metadata": {},
   "outputs": [
    {
     "data": {
      "text/plain": [
       "((1502235, 32), 1502213)"
      ]
     },
     "execution_count": 27,
     "metadata": {},
     "output_type": "execute_result"
    }
   ],
   "source": [
    "df.shape, len(df['차대번호'].unique())"
   ]
  },
  {
   "cell_type": "code",
   "execution_count": 32,
   "metadata": {},
   "outputs": [],
   "source": [
    "df_diesel = df[df['연료'] == '경유'].reset_index(drop=True)"
   ]
  },
  {
   "cell_type": "code",
   "execution_count": 33,
   "metadata": {},
   "outputs": [
    {
     "data": {
      "text/plain": [
       "((1153813, 32), 1153813)"
      ]
     },
     "execution_count": 33,
     "metadata": {},
     "output_type": "execute_result"
    }
   ],
   "source": [
    "df_diesel.shape, len(df_diesel['차대번호'].unique())"
   ]
  },
  {
   "cell_type": "code",
   "execution_count": 34,
   "metadata": {},
   "outputs": [],
   "source": [
    "df_rest = df[df['연료'] != '경유'].reset_index(drop=True)"
   ]
  },
  {
   "cell_type": "code",
   "execution_count": 35,
   "metadata": {},
   "outputs": [
    {
     "data": {
      "text/plain": [
       "((348422, 32), 348401)"
      ]
     },
     "execution_count": 35,
     "metadata": {},
     "output_type": "execute_result"
    }
   ],
   "source": [
    "df_rest.shape, len(df_rest['차대번호'].unique())"
   ]
  },
  {
   "cell_type": "code",
   "execution_count": 26,
   "metadata": {},
   "outputs": [
    {
     "data": {
      "text/plain": [
       "((1153813, 36), 1153813)"
      ]
     },
     "execution_count": 26,
     "metadata": {},
     "output_type": "execute_result"
    }
   ],
   "source": [
    "md.shape, len(md['차대번호'].unique())"
   ]
  },
  {
   "cell_type": "code",
   "execution_count": 43,
   "metadata": {},
   "outputs": [],
   "source": [
    "mmd = md.merge(df_diesel[['차대번호', '제원관리번호']], on='차대번호', how='left')"
   ]
  },
  {
   "cell_type": "code",
   "execution_count": 44,
   "metadata": {},
   "outputs": [
    {
     "data": {
      "text/plain": [
       "Index(['차대번호', '차량번호', '제원관리번호_x', '차종_원본', '용도', '최초등록일', '연식', '제작일자',\n",
       "       '검사유효일', '배출가스인증번호', '등급', '차명', '차종분류', '차종유형', '자동차형식', '제작사명', '연료',\n",
       "       '엔진형식', '총중량', '적재중량', '엔진출력', '배기량', '법정동코드', '시도명', '시군구명', '소유자구분',\n",
       "       '말소여부', '일치유무', '인증번호 수정 유무', '배인번호_수정', '등급_수정', 'DPF유무_수정', '배출가스',\n",
       "       '등급2', 'DPF', '비고', '제원관리번호_y'],\n",
       "      dtype='object')"
      ]
     },
     "execution_count": 44,
     "metadata": {},
     "output_type": "execute_result"
    }
   ],
   "source": [
    "mmd.columns"
   ]
  },
  {
   "cell_type": "code",
   "execution_count": 45,
   "metadata": {},
   "outputs": [
    {
     "data": {
      "text/html": [
       "<div>\n",
       "<style scoped>\n",
       "    .dataframe tbody tr th:only-of-type {\n",
       "        vertical-align: middle;\n",
       "    }\n",
       "\n",
       "    .dataframe tbody tr th {\n",
       "        vertical-align: top;\n",
       "    }\n",
       "\n",
       "    .dataframe thead th {\n",
       "        text-align: right;\n",
       "    }\n",
       "</style>\n",
       "<table border=\"1\" class=\"dataframe\">\n",
       "  <thead>\n",
       "    <tr style=\"text-align: right;\">\n",
       "      <th></th>\n",
       "      <th>차대번호</th>\n",
       "      <th>제원관리번호_x</th>\n",
       "      <th>제원관리번호_y</th>\n",
       "    </tr>\n",
       "  </thead>\n",
       "  <tbody>\n",
       "    <tr>\n",
       "      <th>0</th>\n",
       "      <td>WAUZZZ4F16N115327</td>\n",
       "      <td>2420000000000000</td>\n",
       "      <td>02420000100031305</td>\n",
       "    </tr>\n",
       "    <tr>\n",
       "      <th>1</th>\n",
       "      <td>WAUZZZ4F16N113691</td>\n",
       "      <td>2420000000000000</td>\n",
       "      <td>02420000100031305</td>\n",
       "    </tr>\n",
       "    <tr>\n",
       "      <th>2</th>\n",
       "      <td>WAUZZZ4F86N088157</td>\n",
       "      <td>2420000000000000</td>\n",
       "      <td>02420000100031305</td>\n",
       "    </tr>\n",
       "    <tr>\n",
       "      <th>3</th>\n",
       "      <td>WAUZZZ4F36N090463</td>\n",
       "      <td>2420000000000000</td>\n",
       "      <td>02420000100031305</td>\n",
       "    </tr>\n",
       "    <tr>\n",
       "      <th>4</th>\n",
       "      <td>WAUZZZ4F26N152385</td>\n",
       "      <td>2420000000000000</td>\n",
       "      <td>02420000100031305</td>\n",
       "    </tr>\n",
       "  </tbody>\n",
       "</table>\n",
       "</div>"
      ],
      "text/plain": [
       "                차대번호           제원관리번호_x           제원관리번호_y\n",
       "0  WAUZZZ4F16N115327  2420000000000000   02420000100031305\n",
       "1  WAUZZZ4F16N113691  2420000000000000   02420000100031305\n",
       "2  WAUZZZ4F86N088157  2420000000000000   02420000100031305\n",
       "3  WAUZZZ4F36N090463  2420000000000000   02420000100031305\n",
       "4  WAUZZZ4F26N152385  2420000000000000   02420000100031305"
      ]
     },
     "execution_count": 45,
     "metadata": {},
     "output_type": "execute_result"
    }
   ],
   "source": [
    "mmd[['차대번호', '제원관리번호_x', '제원관리번호_y']].head()"
   ]
  },
  {
   "cell_type": "code",
   "execution_count": 46,
   "metadata": {},
   "outputs": [
    {
     "name": "stdout",
     "output_type": "stream",
     "text": [
      "<class 'pandas.core.frame.DataFrame'>\n",
      "Int64Index: 1153813 entries, 0 to 1153812\n",
      "Data columns (total 3 columns):\n",
      " #   Column    Non-Null Count    Dtype \n",
      "---  ------    --------------    ----- \n",
      " 0   차대번호      1153813 non-null  object\n",
      " 1   제원관리번호_x  1153813 non-null  object\n",
      " 2   제원관리번호_y  1153813 non-null  object\n",
      "dtypes: object(3)\n",
      "memory usage: 35.2+ MB\n"
     ]
    }
   ],
   "source": [
    "mmd[['차대번호', '제원관리번호_x', '제원관리번호_y']].info()"
   ]
  },
  {
   "cell_type": "code",
   "execution_count": 47,
   "metadata": {},
   "outputs": [
    {
     "data": {
      "text/plain": [
       "차대번호        0\n",
       "제원관리번호_x    0\n",
       "제원관리번호_y    0\n",
       "dtype: int64"
      ]
     },
     "execution_count": 47,
     "metadata": {},
     "output_type": "execute_result"
    }
   ],
   "source": [
    "mmd[['차대번호', '제원관리번호_x', '제원관리번호_y']].isnull().sum()"
   ]
  },
  {
   "cell_type": "code",
   "execution_count": 48,
   "metadata": {},
   "outputs": [
    {
     "data": {
      "text/plain": [
       "Index(['차대번호', '차량번호', '차종_원본', '용도', '최초등록일', '연식', '제작일자', '검사유효일',\n",
       "       '배출가스인증번호', '등급', '차명', '차종분류', '차종유형', '자동차형식', '제작사명', '연료', '엔진형식',\n",
       "       '총중량', '적재중량', '엔진출력', '배기량', '법정동코드', '시도명', '시군구명', '소유자구분', '말소여부',\n",
       "       '일치유무', '인증번호 수정 유무', '배인번호_수정', '등급_수정', 'DPF유무_수정', '배출가스', '등급2',\n",
       "       'DPF', '비고', '제원관리번호'],\n",
       "      dtype='object')"
      ]
     },
     "execution_count": 48,
     "metadata": {},
     "output_type": "execute_result"
    }
   ],
   "source": [
    "mmd.drop('제원관리번호_x', axis=1, inplace=True)\n",
    "mmd.rename(columns={'제원관리번호_y':'제원관리번호'}, inplace=True)\n",
    "mmd.columns"
   ]
  },
  {
   "cell_type": "code",
   "execution_count": 49,
   "metadata": {},
   "outputs": [
    {
     "data": {
      "text/plain": [
       "Index(['차대번호', '차량번호', '제원관리번호', '차종_원본', '용도', '최초등록일', '연식', '제작일자', '검사유효일',\n",
       "       '배출가스인증번호', '등급', '차명', '차종분류', '차종유형', '자동차형식', '제작사명', '연료', '엔진형식',\n",
       "       '총중량', '적재중량', '엔진출력', '배기량', '법정동코드', '시도명', '시군구명', '소유자구분', '말소여부',\n",
       "       '일치유무', '인증번호 수정 유무', '배인번호_수정', '등급_수정', 'DPF유무_수정', '배출가스', '등급2',\n",
       "       'DPF', '비고'],\n",
       "      dtype='object')"
      ]
     },
     "execution_count": 49,
     "metadata": {},
     "output_type": "execute_result"
    }
   ],
   "source": [
    "mmd = mmd[['차대번호', '차량번호', '제원관리번호', '차종_원본', '용도', '최초등록일', '연식', '제작일자', '검사유효일',\n",
    "       '배출가스인증번호', '등급', '차명', '차종분류', '차종유형', '자동차형식', '제작사명', '연료', '엔진형식',\n",
    "       '총중량', '적재중량', '엔진출력', '배기량', '법정동코드', '시도명', '시군구명', '소유자구분', '말소여부',\n",
    "       '일치유무', '인증번호 수정 유무', '배인번호_수정', '등급_수정', 'DPF유무_수정', '배출가스', '등급2',\n",
    "       'DPF', '비고']]\n",
    "mmd.columns"
   ]
  },
  {
   "cell_type": "code",
   "execution_count": 50,
   "metadata": {},
   "outputs": [
    {
     "data": {
      "text/html": [
       "<div>\n",
       "<style scoped>\n",
       "    .dataframe tbody tr th:only-of-type {\n",
       "        vertical-align: middle;\n",
       "    }\n",
       "\n",
       "    .dataframe tbody tr th {\n",
       "        vertical-align: top;\n",
       "    }\n",
       "\n",
       "    .dataframe thead th {\n",
       "        text-align: right;\n",
       "    }\n",
       "</style>\n",
       "<table border=\"1\" class=\"dataframe\">\n",
       "  <thead>\n",
       "    <tr style=\"text-align: right;\">\n",
       "      <th></th>\n",
       "      <th>차대번호</th>\n",
       "      <th>차량번호</th>\n",
       "      <th>제원관리번호</th>\n",
       "      <th>차종_원본</th>\n",
       "      <th>용도</th>\n",
       "      <th>최초등록일</th>\n",
       "      <th>연식</th>\n",
       "      <th>제작일자</th>\n",
       "      <th>검사유효일</th>\n",
       "      <th>배출가스인증번호</th>\n",
       "      <th>...</th>\n",
       "      <th>말소여부</th>\n",
       "      <th>일치유무</th>\n",
       "      <th>인증번호 수정 유무</th>\n",
       "      <th>배인번호_수정</th>\n",
       "      <th>등급_수정</th>\n",
       "      <th>DPF유무_수정</th>\n",
       "      <th>배출가스</th>\n",
       "      <th>등급2</th>\n",
       "      <th>DPF</th>\n",
       "      <th>비고</th>\n",
       "    </tr>\n",
       "  </thead>\n",
       "  <tbody>\n",
       "    <tr>\n",
       "      <th>0</th>\n",
       "      <td>WAUZZZ4F16N115327</td>\n",
       "      <td>21로7811</td>\n",
       "      <td>02420000100031305</td>\n",
       "      <td>승용</td>\n",
       "      <td>자가용</td>\n",
       "      <td>20060208</td>\n",
       "      <td>2006</td>\n",
       "      <td>20060119.00</td>\n",
       "      <td>20200207.00</td>\n",
       "      <td>4MY-AD-20</td>\n",
       "      <td>...</td>\n",
       "      <td>N</td>\n",
       "      <td>Y</td>\n",
       "      <td>무</td>\n",
       "      <td>4MY-AD-20</td>\n",
       "      <td>4</td>\n",
       "      <td>무</td>\n",
       "      <td>유지</td>\n",
       "      <td>유지</td>\n",
       "      <td>유지(무)</td>\n",
       "      <td>NaN</td>\n",
       "    </tr>\n",
       "    <tr>\n",
       "      <th>1</th>\n",
       "      <td>WAUZZZ4F16N113691</td>\n",
       "      <td>23거2347</td>\n",
       "      <td>02420000100031305</td>\n",
       "      <td>승용</td>\n",
       "      <td>자가용</td>\n",
       "      <td>20060228</td>\n",
       "      <td>2006</td>\n",
       "      <td>20060116.00</td>\n",
       "      <td>20220227.00</td>\n",
       "      <td>4MY-AD-20</td>\n",
       "      <td>...</td>\n",
       "      <td>N</td>\n",
       "      <td>Y</td>\n",
       "      <td>무</td>\n",
       "      <td>4MY-AD-20</td>\n",
       "      <td>4</td>\n",
       "      <td>무</td>\n",
       "      <td>유지</td>\n",
       "      <td>유지</td>\n",
       "      <td>유지(무)</td>\n",
       "      <td>NaN</td>\n",
       "    </tr>\n",
       "    <tr>\n",
       "      <th>2</th>\n",
       "      <td>WAUZZZ4F86N088157</td>\n",
       "      <td>04어9316</td>\n",
       "      <td>02420000100031305</td>\n",
       "      <td>승용</td>\n",
       "      <td>자가용</td>\n",
       "      <td>20060105</td>\n",
       "      <td>2006</td>\n",
       "      <td>20051212.00</td>\n",
       "      <td>20200104.00</td>\n",
       "      <td>4MY-AD-20</td>\n",
       "      <td>...</td>\n",
       "      <td>N</td>\n",
       "      <td>Y</td>\n",
       "      <td>무</td>\n",
       "      <td>4MY-AD-20</td>\n",
       "      <td>4</td>\n",
       "      <td>무</td>\n",
       "      <td>유지</td>\n",
       "      <td>유지</td>\n",
       "      <td>유지(무)</td>\n",
       "      <td>NaN</td>\n",
       "    </tr>\n",
       "    <tr>\n",
       "      <th>3</th>\n",
       "      <td>WAUZZZ4F36N090463</td>\n",
       "      <td>14우2622</td>\n",
       "      <td>02420000100031305</td>\n",
       "      <td>승용</td>\n",
       "      <td>자가용</td>\n",
       "      <td>20060105</td>\n",
       "      <td>2006</td>\n",
       "      <td>20051206.00</td>\n",
       "      <td>20100104.00</td>\n",
       "      <td>4MY-AD-20</td>\n",
       "      <td>...</td>\n",
       "      <td>N</td>\n",
       "      <td>N</td>\n",
       "      <td>무</td>\n",
       "      <td>4MY-AD-20</td>\n",
       "      <td>4</td>\n",
       "      <td>무</td>\n",
       "      <td>유지</td>\n",
       "      <td>유지</td>\n",
       "      <td>유지(무)</td>\n",
       "      <td>NaN</td>\n",
       "    </tr>\n",
       "    <tr>\n",
       "      <th>4</th>\n",
       "      <td>WAUZZZ4F26N152385</td>\n",
       "      <td>07머3269</td>\n",
       "      <td>02420000100031305</td>\n",
       "      <td>승용</td>\n",
       "      <td>자가용</td>\n",
       "      <td>20060630</td>\n",
       "      <td>2006</td>\n",
       "      <td>20060612.00</td>\n",
       "      <td>20220629.00</td>\n",
       "      <td>4MY-AD-20</td>\n",
       "      <td>...</td>\n",
       "      <td>N</td>\n",
       "      <td>Y</td>\n",
       "      <td>무</td>\n",
       "      <td>4MY-AD-20</td>\n",
       "      <td>4</td>\n",
       "      <td>무</td>\n",
       "      <td>유지</td>\n",
       "      <td>유지</td>\n",
       "      <td>유지(무)</td>\n",
       "      <td>NaN</td>\n",
       "    </tr>\n",
       "  </tbody>\n",
       "</table>\n",
       "<p>5 rows × 36 columns</p>\n",
       "</div>"
      ],
      "text/plain": [
       "                차대번호     차량번호             제원관리번호 차종_원본   용도     최초등록일    연식  \\\n",
       "0  WAUZZZ4F16N115327  21로7811  02420000100031305    승용  자가용  20060208  2006   \n",
       "1  WAUZZZ4F16N113691  23거2347  02420000100031305    승용  자가용  20060228  2006   \n",
       "2  WAUZZZ4F86N088157  04어9316  02420000100031305    승용  자가용  20060105  2006   \n",
       "3  WAUZZZ4F36N090463  14우2622  02420000100031305    승용  자가용  20060105  2006   \n",
       "4  WAUZZZ4F26N152385  07머3269  02420000100031305    승용  자가용  20060630  2006   \n",
       "\n",
       "         제작일자       검사유효일   배출가스인증번호  ...  말소여부 일치유무 인증번호 수정 유무    배인번호_수정  \\\n",
       "0 20060119.00 20200207.00  4MY-AD-20  ...     N    Y          무  4MY-AD-20   \n",
       "1 20060116.00 20220227.00  4MY-AD-20  ...     N    Y          무  4MY-AD-20   \n",
       "2 20051212.00 20200104.00  4MY-AD-20  ...     N    Y          무  4MY-AD-20   \n",
       "3 20051206.00 20100104.00  4MY-AD-20  ...     N    N          무  4MY-AD-20   \n",
       "4 20060612.00 20220629.00  4MY-AD-20  ...     N    Y          무  4MY-AD-20   \n",
       "\n",
       "  등급_수정 DPF유무_수정 배출가스 등급2    DPF   비고  \n",
       "0     4        무   유지  유지  유지(무)  NaN  \n",
       "1     4        무   유지  유지  유지(무)  NaN  \n",
       "2     4        무   유지  유지  유지(무)  NaN  \n",
       "3     4        무   유지  유지  유지(무)  NaN  \n",
       "4     4        무   유지  유지  유지(무)  NaN  \n",
       "\n",
       "[5 rows x 36 columns]"
      ]
     },
     "execution_count": 50,
     "metadata": {},
     "output_type": "execute_result"
    }
   ],
   "source": [
    "mmd.head()"
   ]
  },
  {
   "cell_type": "code",
   "execution_count": 51,
   "metadata": {},
   "outputs": [
    {
     "data": {
      "text/plain": [
       "(1153813, 36)"
      ]
     },
     "execution_count": 51,
     "metadata": {},
     "output_type": "execute_result"
    }
   ],
   "source": [
    "mmd.shape"
   ]
  },
  {
   "attachments": {},
   "cell_type": "markdown",
   "metadata": {},
   "source": [
    "# 공단 수정 파일과 원본(경유 제외) 파일 병합"
   ]
  },
  {
   "cell_type": "code",
   "execution_count": 52,
   "metadata": {},
   "outputs": [
    {
     "data": {
      "text/plain": [
       "(1502235, 38)"
      ]
     },
     "execution_count": 52,
     "metadata": {},
     "output_type": "execute_result"
    }
   ],
   "source": [
    "total = pd.concat([mmd, df_rest], ignore_index=True)\n",
    "total.shape"
   ]
  },
  {
   "cell_type": "code",
   "execution_count": 53,
   "metadata": {},
   "outputs": [
    {
     "data": {
      "text/html": [
       "<div>\n",
       "<style scoped>\n",
       "    .dataframe tbody tr th:only-of-type {\n",
       "        vertical-align: middle;\n",
       "    }\n",
       "\n",
       "    .dataframe tbody tr th {\n",
       "        vertical-align: top;\n",
       "    }\n",
       "\n",
       "    .dataframe thead th {\n",
       "        text-align: right;\n",
       "    }\n",
       "</style>\n",
       "<table border=\"1\" class=\"dataframe\">\n",
       "  <thead>\n",
       "    <tr style=\"text-align: right;\">\n",
       "      <th></th>\n",
       "      <th>차대번호</th>\n",
       "      <th>차량번호</th>\n",
       "      <th>제원관리번호</th>\n",
       "      <th>차종_원본</th>\n",
       "      <th>용도</th>\n",
       "      <th>최초등록일</th>\n",
       "      <th>연식</th>\n",
       "      <th>제작일자</th>\n",
       "      <th>검사유효일</th>\n",
       "      <th>배출가스인증번호</th>\n",
       "      <th>...</th>\n",
       "      <th>인증번호 수정 유무</th>\n",
       "      <th>배인번호_수정</th>\n",
       "      <th>등급_수정</th>\n",
       "      <th>DPF유무_수정</th>\n",
       "      <th>배출가스</th>\n",
       "      <th>등급2</th>\n",
       "      <th>DPF</th>\n",
       "      <th>비고</th>\n",
       "      <th>차종</th>\n",
       "      <th>Grade</th>\n",
       "    </tr>\n",
       "  </thead>\n",
       "  <tbody>\n",
       "    <tr>\n",
       "      <th>1502230</th>\n",
       "      <td>KNAGB2212KS206405</td>\n",
       "      <td>대구1머3419</td>\n",
       "      <td>30220100000489</td>\n",
       "      <td>NaN</td>\n",
       "      <td>자가용</td>\n",
       "      <td>19890719</td>\n",
       "      <td>1989</td>\n",
       "      <td>NaN</td>\n",
       "      <td>19970718.00</td>\n",
       "      <td>LMY-KM-07</td>\n",
       "      <td>...</td>\n",
       "      <td>NaN</td>\n",
       "      <td>NaN</td>\n",
       "      <td>NaN</td>\n",
       "      <td>NaN</td>\n",
       "      <td>NaN</td>\n",
       "      <td>NaN</td>\n",
       "      <td>NaN</td>\n",
       "      <td>NaN</td>\n",
       "      <td>승용</td>\n",
       "      <td>NaN</td>\n",
       "    </tr>\n",
       "    <tr>\n",
       "      <th>1502231</th>\n",
       "      <td>KMHLF31JPJU526685</td>\n",
       "      <td>대구1더5824</td>\n",
       "      <td>30220100000284</td>\n",
       "      <td>NaN</td>\n",
       "      <td>자가용</td>\n",
       "      <td>19881020</td>\n",
       "      <td>1988</td>\n",
       "      <td>NaN</td>\n",
       "      <td>19941019.00</td>\n",
       "      <td>NaN</td>\n",
       "      <td>...</td>\n",
       "      <td>NaN</td>\n",
       "      <td>NaN</td>\n",
       "      <td>NaN</td>\n",
       "      <td>NaN</td>\n",
       "      <td>NaN</td>\n",
       "      <td>NaN</td>\n",
       "      <td>NaN</td>\n",
       "      <td>NaN</td>\n",
       "      <td>승용</td>\n",
       "      <td>NaN</td>\n",
       "    </tr>\n",
       "    <tr>\n",
       "      <th>1502232</th>\n",
       "      <td>KNAGB2212KS210157</td>\n",
       "      <td>대구1머7551</td>\n",
       "      <td>30220100000489</td>\n",
       "      <td>NaN</td>\n",
       "      <td>자가용</td>\n",
       "      <td>19890823</td>\n",
       "      <td>1989</td>\n",
       "      <td>NaN</td>\n",
       "      <td>20020914.00</td>\n",
       "      <td>LMY-KM-07</td>\n",
       "      <td>...</td>\n",
       "      <td>NaN</td>\n",
       "      <td>NaN</td>\n",
       "      <td>NaN</td>\n",
       "      <td>NaN</td>\n",
       "      <td>NaN</td>\n",
       "      <td>NaN</td>\n",
       "      <td>NaN</td>\n",
       "      <td>NaN</td>\n",
       "      <td>승용</td>\n",
       "      <td>NaN</td>\n",
       "    </tr>\n",
       "    <tr>\n",
       "      <th>1502233</th>\n",
       "      <td>KNAGB2212KS218654</td>\n",
       "      <td>대구1고9239</td>\n",
       "      <td>30220100000489</td>\n",
       "      <td>NaN</td>\n",
       "      <td>자가용</td>\n",
       "      <td>19891130</td>\n",
       "      <td>1989</td>\n",
       "      <td>NaN</td>\n",
       "      <td>19931129.00</td>\n",
       "      <td>LMY-KM-07</td>\n",
       "      <td>...</td>\n",
       "      <td>NaN</td>\n",
       "      <td>NaN</td>\n",
       "      <td>NaN</td>\n",
       "      <td>NaN</td>\n",
       "      <td>NaN</td>\n",
       "      <td>NaN</td>\n",
       "      <td>NaN</td>\n",
       "      <td>NaN</td>\n",
       "      <td>승용</td>\n",
       "      <td>NaN</td>\n",
       "    </tr>\n",
       "    <tr>\n",
       "      <th>1502234</th>\n",
       "      <td>KNAGB2212KS214542</td>\n",
       "      <td>대구1고4110</td>\n",
       "      <td>30220100000489</td>\n",
       "      <td>NaN</td>\n",
       "      <td>자가용</td>\n",
       "      <td>19891017</td>\n",
       "      <td>1989</td>\n",
       "      <td>NaN</td>\n",
       "      <td>19991016.00</td>\n",
       "      <td>LMY-KM-07</td>\n",
       "      <td>...</td>\n",
       "      <td>NaN</td>\n",
       "      <td>NaN</td>\n",
       "      <td>NaN</td>\n",
       "      <td>NaN</td>\n",
       "      <td>NaN</td>\n",
       "      <td>NaN</td>\n",
       "      <td>NaN</td>\n",
       "      <td>NaN</td>\n",
       "      <td>승용</td>\n",
       "      <td>NaN</td>\n",
       "    </tr>\n",
       "  </tbody>\n",
       "</table>\n",
       "<p>5 rows × 38 columns</p>\n",
       "</div>"
      ],
      "text/plain": [
       "                      차대번호      차량번호          제원관리번호 차종_원본   용도     최초등록일  \\\n",
       "1502230  KNAGB2212KS206405  대구1머3419  30220100000489   NaN  자가용  19890719   \n",
       "1502231  KMHLF31JPJU526685  대구1더5824  30220100000284   NaN  자가용  19881020   \n",
       "1502232  KNAGB2212KS210157  대구1머7551  30220100000489   NaN  자가용  19890823   \n",
       "1502233  KNAGB2212KS218654  대구1고9239  30220100000489   NaN  자가용  19891130   \n",
       "1502234  KNAGB2212KS214542  대구1고4110  30220100000489   NaN  자가용  19891017   \n",
       "\n",
       "           연식  제작일자       검사유효일   배출가스인증번호  ...  인증번호 수정 유무 배인번호_수정 등급_수정  \\\n",
       "1502230  1989   NaN 19970718.00  LMY-KM-07  ...         NaN     NaN   NaN   \n",
       "1502231  1988   NaN 19941019.00        NaN  ...         NaN     NaN   NaN   \n",
       "1502232  1989   NaN 20020914.00  LMY-KM-07  ...         NaN     NaN   NaN   \n",
       "1502233  1989   NaN 19931129.00  LMY-KM-07  ...         NaN     NaN   NaN   \n",
       "1502234  1989   NaN 19991016.00  LMY-KM-07  ...         NaN     NaN   NaN   \n",
       "\n",
       "        DPF유무_수정 배출가스  등급2  DPF   비고  차종  Grade  \n",
       "1502230      NaN  NaN  NaN  NaN  NaN  승용    NaN  \n",
       "1502231      NaN  NaN  NaN  NaN  NaN  승용    NaN  \n",
       "1502232      NaN  NaN  NaN  NaN  NaN  승용    NaN  \n",
       "1502233      NaN  NaN  NaN  NaN  NaN  승용    NaN  \n",
       "1502234      NaN  NaN  NaN  NaN  NaN  승용    NaN  \n",
       "\n",
       "[5 rows x 38 columns]"
      ]
     },
     "execution_count": 53,
     "metadata": {},
     "output_type": "execute_result"
    }
   ],
   "source": [
    "total.tail()"
   ]
  },
  {
   "cell_type": "code",
   "execution_count": 59,
   "metadata": {},
   "outputs": [
    {
     "data": {
      "text/plain": [
       "Index(['차대번호', '차량번호', '제원관리번호', '차종_원본', '용도', '최초등록일', '연식', '제작일자', '검사유효일',\n",
       "       '배출가스인증번호', '등급', '차명', '차종분류', '차종유형', '자동차형식', '제작사명', '연료', '엔진형식',\n",
       "       '총중량', '적재중량', '엔진출력', '배기량', '법정동코드', '시도명', '시군구명', '소유자구분', '말소여부',\n",
       "       '일치유무', '인증번호 수정 유무', '배인번호_수정', '등급_수정', 'DPF유무_수정', '배출가스', '등급2',\n",
       "       'DPF', '비고', '차종', 'Grade'],\n",
       "      dtype='object')"
      ]
     },
     "execution_count": 59,
     "metadata": {},
     "output_type": "execute_result"
    }
   ],
   "source": [
    "total.columns"
   ]
  },
  {
   "cell_type": "code",
   "execution_count": 60,
   "metadata": {},
   "outputs": [
    {
     "data": {
      "text/plain": [
       "경유             1153813\n",
       "휘발유             322983\n",
       "LPG(액화석유가스)      25400\n",
       "기타연료                37\n",
       "알코올                  1\n",
       "CNG(압축천연가스)          1\n",
       "Name: 연료, dtype: int64"
      ]
     },
     "execution_count": 60,
     "metadata": {},
     "output_type": "execute_result"
    }
   ],
   "source": [
    "total['연료'].value_counts(dropna=False)"
   ]
  },
  {
   "attachments": {},
   "cell_type": "markdown",
   "metadata": {},
   "source": [
    "## [출력] 공단 수정 + 원본(경유 제외)"
   ]
  },
  {
   "cell_type": "code",
   "execution_count": 55,
   "metadata": {},
   "outputs": [
    {
     "data": {
      "text/plain": [
       "'2023.04.13_PM.02.38.43'"
      ]
     },
     "execution_count": 55,
     "metadata": {},
     "output_type": "execute_result"
    }
   ],
   "source": [
    "today_date = datetime.today().strftime(\"%Y.%m.%d_%p.%I.%M.%S\")\n",
    "today_date"
   ]
  },
  {
   "cell_type": "code",
   "execution_count": 56,
   "metadata": {},
   "outputs": [],
   "source": [
    "# about 22.3s\n",
    "total.to_csv(os.path.join(raw_fold, f'종합_4등급 차량 리스트 양식 result 최종_수정-작업({today_date}).csv'), index=False)"
   ]
  },
  {
   "cell_type": "code",
   "execution_count": 57,
   "metadata": {},
   "outputs": [],
   "source": [
    "# about 14m 20.5s\n",
    "total.iloc[:700000].to_excel(os.path.join(raw_fold, f'종합_4등급 차량 리스트 양식 result 최종_수정-작업01({today_date}).xlsx'), index=False)\n",
    "total.iloc[700000:].to_excel(os.path.join(raw_fold, f'종합_4등급 차량 리스트 양식 result 최종_수정-작업02({today_date}).xlsx'), index=False)"
   ]
  },
  {
   "attachments": {},
   "cell_type": "markdown",
   "metadata": {},
   "source": [
    "# 코드 마지막"
   ]
  }
 ],
 "metadata": {
  "kernelspec": {
   "display_name": "base",
   "language": "python",
   "name": "python3"
  },
  "language_info": {
   "codemirror_mode": {
    "name": "ipython",
    "version": 3
   },
   "file_extension": ".py",
   "mimetype": "text/x-python",
   "name": "python",
   "nbconvert_exporter": "python",
   "pygments_lexer": "ipython3",
   "version": "3.9.13"
  },
  "orig_nbformat": 4,
  "vscode": {
   "interpreter": {
    "hash": "ad2bdc8ecc057115af97d19610ffacc2b4e99fae6737bb82f5d7fb13d2f2c186"
   }
  }
 },
 "nbformat": 4,
 "nbformat_minor": 2
}
