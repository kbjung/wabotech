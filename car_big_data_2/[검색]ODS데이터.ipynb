{
 "cells": [
  {
   "attachments": {},
   "cell_type": "markdown",
   "metadata": {},
   "source": [
    "# Library"
   ]
  },
  {
   "cell_type": "code",
   "execution_count": 1,
   "metadata": {},
   "outputs": [],
   "source": [
    "import pandas as pd\n",
    "import numpy as np\n",
    "import os\n",
    "from datetime import datetime"
   ]
  },
  {
   "attachments": {},
   "cell_type": "markdown",
   "metadata": {},
   "source": [
    "# fold path"
   ]
  },
  {
   "cell_type": "code",
   "execution_count": 2,
   "metadata": {},
   "outputs": [],
   "source": [
    "ods_fold = 'D:/data/big2/ODS'\n",
    "fold = 'D:/data/big2/BD1_4등급_데이터_점검1'"
   ]
  },
  {
   "cell_type": "code",
   "execution_count": 3,
   "metadata": {},
   "outputs": [],
   "source": [
    "# 소수점 옵션\n",
    "pd.options.display.float_format = '{:.2f}'.format\n",
    "# pd.reset_option('display.float_format')"
   ]
  },
  {
   "attachments": {},
   "cell_type": "markdown",
   "metadata": {},
   "source": [
    "# 9MY-KM-14-22 차량 확인"
   ]
  },
  {
   "attachments": {},
   "cell_type": "markdown",
   "metadata": {},
   "source": [
    "## 등록&제원정보(말소제거)"
   ]
  },
  {
   "cell_type": "code",
   "execution_count": 4,
   "metadata": {},
   "outputs": [],
   "source": [
    "# about 6m 48s\n",
    "file_name = '[ODS]등록정보&제원정보(말소제거)(2022.12.28).csv'\n",
    "car_info = pd.read_csv(os.path.join(ods_fold, file_name), encoding='cp949', low_memory=False)\n",
    "car_info.info()"
   ]
  },
  {
   "cell_type": "code",
   "execution_count": null,
   "metadata": {},
   "outputs": [
    {
     "data": {
      "text/plain": [
       "Index(['차량관리번호', '차량등록번호', '본거지법정동코드', '소유자구분', '차종_등록정보', '용도', '현재회원번호',\n",
       "       '차대번호', '최초등록일자', '차량연식', '차량제작일자', '배출가스검사유효일자', '제원관리번호', '배출가스인증번호',\n",
       "       '배출가스등급', '저공해조치YN(미사용)', '저공해조치종류', '저공해조치구조변경YN', '차량등록번호숫자정보',\n",
       "       '차량말소YN', '최초회원번호', '취득일자', '취득금액', '생성일시_등록정보', '수정일시_등록정보', '차명',\n",
       "       '차종_제원정보', '차종분류', '차종유형(소분류)', '자동차형식', '제작사명', '연료', '엔진형식', '공차중량',\n",
       "       '총중량', '적재중량', '엔진출력', '배기량', '승차인원', '차량길이', '차량너비', '차량높이', '원산지명',\n",
       "       '삭제YN', '승인일자', '구동형식', '변속기종류', '생성일시_제원정보', '수정일시_제원정보'],\n",
       "      dtype='object')"
      ]
     },
     "execution_count": 5,
     "metadata": {},
     "output_type": "execute_result"
    }
   ],
   "source": [
    "car_info.columns"
   ]
  },
  {
   "cell_type": "code",
   "execution_count": 6,
   "metadata": {},
   "outputs": [
    {
     "data": {
      "text/plain": [
       "(94868, 49)"
      ]
     },
     "execution_count": 6,
     "metadata": {},
     "output_type": "execute_result"
    }
   ],
   "source": [
    "car_info[car_info['배출가스인증번호'] == '9MY-KM-14-22'].shape"
   ]
  },
  {
   "cell_type": "code",
   "execution_count": 14,
   "metadata": {},
   "outputs": [
    {
     "data": {
      "text/plain": [
       "3    94868\n",
       "Name: 배출가스등급, dtype: int64"
      ]
     },
     "execution_count": 14,
     "metadata": {},
     "output_type": "execute_result"
    }
   ],
   "source": [
    "car_info.loc[car_info['배출가스인증번호'] == '9MY-KM-14-22', '배출가스등급'].value_counts(dropna=False)"
   ]
  },
  {
   "cell_type": "code",
   "execution_count": 21,
   "metadata": {},
   "outputs": [
    {
     "data": {
      "text/plain": [
       "N    87217\n",
       "Y     7651\n",
       "Name: 차량말소YN, dtype: int64"
      ]
     },
     "execution_count": 21,
     "metadata": {},
     "output_type": "execute_result"
    }
   ],
   "source": [
    "car_info.loc[car_info['배출가스인증번호'] == '9MY-KM-14-22', '차량말소YN'].value_counts(dropna=False)"
   ]
  },
  {
   "attachments": {},
   "cell_type": "markdown",
   "metadata": {},
   "source": [
    "## 4등급_차량_리스트_양식_result"
   ]
  },
  {
   "cell_type": "code",
   "execution_count": 17,
   "metadata": {},
   "outputs": [
    {
     "name": "stdout",
     "output_type": "stream",
     "text": [
      "<class 'pandas.core.frame.DataFrame'>\n",
      "RangeIndex: 1153813 entries, 0 to 1153812\n",
      "Data columns (total 64 columns):\n",
      " #   Column     Non-Null Count    Dtype  \n",
      "---  ------     --------------    -----  \n",
      " 0   차대번호       1153813 non-null  object \n",
      " 1   차량번호_x     1153813 non-null  object \n",
      " 2   제원관리번호     1153813 non-null  object \n",
      " 3   차종_원본      1153813 non-null  object \n",
      " 4   용도         1153813 non-null  object \n",
      " 5   최초등록일      1153813 non-null  int64  \n",
      " 6   연식         1153813 non-null  int64  \n",
      " 7   제작일자       1153809 non-null  float64\n",
      " 8   검사유효일      1153810 non-null  float64\n",
      " 9   배출가스인증번호   1146663 non-null  object \n",
      " 10  등급         1153813 non-null  int64  \n",
      " 11  차명_x       1153813 non-null  object \n",
      " 12  차종분류       1153813 non-null  object \n",
      " 13  차종유형       1153813 non-null  object \n",
      " 14  자동차형식      1153812 non-null  object \n",
      " 15  제작사명       1153795 non-null  object \n",
      " 16  연료         1153813 non-null  object \n",
      " 17  엔진형식_x     1153813 non-null  object \n",
      " 18  총중량        1153813 non-null  float64\n",
      " 19  적재중량       1153589 non-null  float64\n",
      " 20  엔진출력       1153811 non-null  float64\n",
      " 21  배기량        1153813 non-null  float64\n",
      " 22  법정동코드      1153813 non-null  int64  \n",
      " 23  시도명        1153813 non-null  object \n",
      " 24  시군구명       1153813 non-null  object \n",
      " 25  소유자구분      1153813 non-null  object \n",
      " 26  말소여부       1153813 non-null  object \n",
      " 27  일치유무       1153813 non-null  object \n",
      " 28  사용연료       1131176 non-null  object \n",
      " 29  주행거리       1131063 non-null  float64\n",
      " 30  차명_y       1131176 non-null  object \n",
      " 31  차량번호_y     1131176 non-null  object \n",
      " 32  차종         1131176 non-null  object \n",
      " 33  차량연식       1131176 non-null  float64\n",
      " 34  엔진형식_y     1131165 non-null  object \n",
      " 35  검사방법       1131176 non-null  object \n",
      " 36  검사일자       1131176 non-null  float64\n",
      " 37  검사종류       1131176 non-null  object \n",
      " 38  검사판정시각     1122501 non-null  object \n",
      " 39  검사판정       1131176 non-null  object \n",
      " 40  산소값        817299 non-null   float64\n",
      " 41  이산화탄소값     817299 non-null   float64\n",
      " 42  무부하매연판정1   1122497 non-null  object \n",
      " 43  무부하매연판정2   44435 non-null    object \n",
      " 44  무부하매연판정3   43534 non-null    object \n",
      " 45  무부하매연판정4   43532 non-null    object \n",
      " 46  무부하매연판정5   43532 non-null    object \n",
      " 47  무부하매연판정6   46 non-null       object \n",
      " 48  무부하매연허용치1  1122497 non-null  float64\n",
      " 49  무부하매연허용치2  333612 non-null   float64\n",
      " 50  무부하매연허용치3  333611 non-null   float64\n",
      " 51  무부하매연허용치4  333609 non-null   float64\n",
      " 52  무부하매연허용치5  333609 non-null   float64\n",
      " 53  무부하매연허용치6  301714 non-null   float64\n",
      " 54  무부하매연측정치1  1122501 non-null  float64\n",
      " 55  무부하매연측정치2  367673 non-null   float64\n",
      " 56  무부하매연측정치3  333613 non-null   float64\n",
      " 57  무부하매연측정치4  333611 non-null   float64\n",
      " 58  무부하매연측정치5  333611 non-null   float64\n",
      " 59  무부하매연측정치6  301714 non-null   float64\n",
      " 60  정기정밀       1131176 non-null  object \n",
      " 61  vin10      1153813 non-null  object \n",
      " 62  vin_year   1153810 non-null  float64\n",
      " 63  DPF유무      1153813 non-null  object \n",
      "dtypes: float64(24), int64(4), object(36)\n",
      "memory usage: 563.4+ MB\n"
     ]
    }
   ],
   "source": [
    "# about 27s\n",
    "file_name = '[병합]4등급_차량_리스트_양식_result.csv'\n",
    "result = pd.read_csv(os.path.join(fold, file_name), encoding='cp949', low_memory=False)\n",
    "result.info()"
   ]
  },
  {
   "cell_type": "code",
   "execution_count": 18,
   "metadata": {},
   "outputs": [
    {
     "data": {
      "text/plain": [
       "Index(['차대번호', '차량번호_x', '제원관리번호', '차종_원본', '용도', '최초등록일', '연식', '제작일자',\n",
       "       '검사유효일', '배출가스인증번호', '등급', '차명_x', '차종분류', '차종유형', '자동차형식', '제작사명',\n",
       "       '연료', '엔진형식_x', '총중량', '적재중량', '엔진출력', '배기량', '법정동코드', '시도명', '시군구명',\n",
       "       '소유자구분', '말소여부', '일치유무', '사용연료', '주행거리', '차명_y', '차량번호_y', '차종', '차량연식',\n",
       "       '엔진형식_y', '검사방법', '검사일자', '검사종류', '검사판정시각', '검사판정', '산소값', '이산화탄소값',\n",
       "       '무부하매연판정1', '무부하매연판정2', '무부하매연판정3', '무부하매연판정4', '무부하매연판정5', '무부하매연판정6',\n",
       "       '무부하매연허용치1', '무부하매연허용치2', '무부하매연허용치3', '무부하매연허용치4', '무부하매연허용치5',\n",
       "       '무부하매연허용치6', '무부하매연측정치1', '무부하매연측정치2', '무부하매연측정치3', '무부하매연측정치4',\n",
       "       '무부하매연측정치5', '무부하매연측정치6', '정기정밀', 'vin10', 'vin_year', 'DPF유무'],\n",
       "      dtype='object')"
      ]
     },
     "execution_count": 18,
     "metadata": {},
     "output_type": "execute_result"
    }
   ],
   "source": [
    "result.columns"
   ]
  },
  {
   "cell_type": "code",
   "execution_count": 19,
   "metadata": {},
   "outputs": [
    {
     "data": {
      "text/plain": [
       "4    1153813\n",
       "Name: 등급, dtype: int64"
      ]
     },
     "execution_count": 19,
     "metadata": {},
     "output_type": "execute_result"
    }
   ],
   "source": [
    "result['등급'].value_counts(dropna=True)"
   ]
  },
  {
   "cell_type": "code",
   "execution_count": 20,
   "metadata": {},
   "outputs": [
    {
     "data": {
      "text/plain": [
       "(39626, 64)"
      ]
     },
     "execution_count": 20,
     "metadata": {},
     "output_type": "execute_result"
    }
   ],
   "source": [
    "result[result['배출가스인증번호'] == '9MY-KM-14-22'].shape"
   ]
  },
  {
   "attachments": {},
   "cell_type": "markdown",
   "metadata": {},
   "source": [
    "# 4,5 등급 검사 기록 확인"
   ]
  },
  {
   "cell_type": "code",
   "execution_count": 5,
   "metadata": {},
   "outputs": [
    {
     "name": "stdout",
     "output_type": "stream",
     "text": [
      "<class 'pandas.core.frame.DataFrame'>\n",
      "RangeIndex: 1511211 entries, 0 to 1511210\n",
      "Data columns (total 59 columns):\n",
      " #   Column        Non-Null Count    Dtype  \n",
      "---  ------        --------------    -----  \n",
      " 0   차량관리번호        1511211 non-null  object \n",
      " 1   차량등록번호        1511211 non-null  object \n",
      " 2   본거지법정동코드      1511211 non-null  int64  \n",
      " 3   소유자구분         1511211 non-null  object \n",
      " 4   차종_등록정보       1511209 non-null  object \n",
      " 5   용도            1511211 non-null  object \n",
      " 6   현재회원번호        1510372 non-null  object \n",
      " 7   차대번호          1511211 non-null  object \n",
      " 8   최초등록일자        1511211 non-null  int64  \n",
      " 9   차량연식          1511211 non-null  int64  \n",
      " 10  차량제작일자        1342438 non-null  float64\n",
      " 11  배출가스검사유효일자    1511199 non-null  float64\n",
      " 12  제원관리번호        1511211 non-null  object \n",
      " 13  배출가스인증번호      1387511 non-null  object \n",
      " 14  배출가스등급        1511211 non-null  object \n",
      " 15  저공해조치YN(미사용)  1511056 non-null  object \n",
      " 16  저공해조치종류       189 non-null      float64\n",
      " 17  저공해조치구조변경YN   1511211 non-null  object \n",
      " 18  차량등록번호숫자정보    1511211 non-null  int64  \n",
      " 19  차량말소YN        1511211 non-null  object \n",
      " 20  최초회원번호        1506556 non-null  object \n",
      " 21  취득일자          1417997 non-null  object \n",
      " 22  취득금액          1436810 non-null  float64\n",
      " 23  생성일시_등록정보     1511211 non-null  object \n",
      " 24  수정일시_등록정보     915024 non-null   object \n",
      " 25  차명            1511211 non-null  object \n",
      " 26  차종_제원정보       1511211 non-null  object \n",
      " 27  차종분류          1511211 non-null  object \n",
      " 28  차종유형(소분류)     1511211 non-null  object \n",
      " 29  자동차형식         1510683 non-null  object \n",
      " 30  제작사명          1501184 non-null  object \n",
      " 31  연료            1511211 non-null  object \n",
      " 32  엔진형식          1509210 non-null  object \n",
      " 33  공차중량          0 non-null        float64\n",
      " 34  총중량           1511186 non-null  float64\n",
      " 35  적재중량          1510674 non-null  float64\n",
      " 36  엔진출력          1510583 non-null  float64\n",
      " 37  배기량           1511200 non-null  float64\n",
      " 38  승차인원          1511211 non-null  float64\n",
      " 39  차량길이          1511136 non-null  float64\n",
      " 40  차량너비          1511136 non-null  float64\n",
      " 41  차량높이          1511134 non-null  float64\n",
      " 42  원산지명          1492086 non-null  object \n",
      " 43  삭제YN          1511211 non-null  object \n",
      " 44  승인일자          1510664 non-null  object \n",
      " 45  구동형식          47 non-null       float64\n",
      " 46  변속기종류         1511051 non-null  object \n",
      " 47  생성일시_제원정보     1511211 non-null  object \n",
      " 48  수정일시_제원정보     497 non-null      object \n",
      " 49  법정동코드         1511210 non-null  float64\n",
      " 50  시도            1511211 non-null  object \n",
      " 51  시구군           1511206 non-null  object \n",
      " 52  읍면동           1505988 non-null  object \n",
      " 53  리             426575 non-null   object \n",
      " 54  지역3           0 non-null        float64\n",
      " 55  폐지여부          1511210 non-null  object \n",
      " 56  대기관리권역        1511211 non-null  object \n",
      " 57  대기관리권역YN      1511211 non-null  object \n",
      " 58  등급            1511211 non-null  int64  \n",
      "dtypes: float64(16), int64(5), object(38)\n",
      "memory usage: 680.2+ MB\n"
     ]
    }
   ],
   "source": [
    "# about 33s\n",
    "grade = 4\n",
    "file_name = f'[ODS][G{grade}]등록정보&제원정보(연료수정)(등급컬럼추가)(2022.12.28).csv'\n",
    "g4 =  pd.read_csv(os.path.join(ods_fold, file_name), low_memory=False)\n",
    "g4.info()"
   ]
  },
  {
   "cell_type": "code",
   "execution_count": 6,
   "metadata": {},
   "outputs": [
    {
     "name": "stdout",
     "output_type": "stream",
     "text": [
      "<class 'pandas.core.frame.DataFrame'>\n",
      "RangeIndex: 1154724 entries, 0 to 1154723\n",
      "Data columns (total 59 columns):\n",
      " #   Column        Non-Null Count    Dtype  \n",
      "---  ------        --------------    -----  \n",
      " 0   차량관리번호        1154724 non-null  object \n",
      " 1   차량등록번호        1154724 non-null  object \n",
      " 2   본거지법정동코드      1154724 non-null  int64  \n",
      " 3   소유자구분         1154724 non-null  object \n",
      " 4   차종_등록정보       1154712 non-null  object \n",
      " 5   용도            1154724 non-null  object \n",
      " 6   현재회원번호        1146055 non-null  object \n",
      " 7   차대번호          1154724 non-null  object \n",
      " 8   최초등록일자        1154724 non-null  int64  \n",
      " 9   차량연식          1154724 non-null  int64  \n",
      " 10  차량제작일자        959049 non-null   float64\n",
      " 11  배출가스검사유효일자    1154212 non-null  float64\n",
      " 12  제원관리번호        1154724 non-null  object \n",
      " 13  배출가스인증번호      542935 non-null   object \n",
      " 14  배출가스등급        1154724 non-null  object \n",
      " 15  저공해조치YN(미사용)  1154650 non-null  object \n",
      " 16  저공해조치종류       361633 non-null   float64\n",
      " 17  저공해조치구조변경YN   1154724 non-null  object \n",
      " 18  차량등록번호숫자정보    1154724 non-null  int64  \n",
      " 19  차량말소YN        1154724 non-null  object \n",
      " 20  최초회원번호        1129449 non-null  object \n",
      " 21  취득일자          1014503 non-null  float64\n",
      " 22  취득금액          1040432 non-null  float64\n",
      " 23  생성일시_등록정보     1154724 non-null  object \n",
      " 24  수정일시_등록정보     556088 non-null   object \n",
      " 25  차명            1154723 non-null  object \n",
      " 26  차종_제원정보       1154724 non-null  object \n",
      " 27  차종분류          1154724 non-null  object \n",
      " 28  차종유형(소분류)     1154724 non-null  object \n",
      " 29  자동차형식         1154202 non-null  object \n",
      " 30  제작사명          1151506 non-null  object \n",
      " 31  연료            1154724 non-null  object \n",
      " 32  엔진형식          1151218 non-null  object \n",
      " 33  공차중량          0 non-null        float64\n",
      " 34  총중량           1154723 non-null  float64\n",
      " 35  적재중량          1154713 non-null  float64\n",
      " 36  엔진출력          1154412 non-null  float64\n",
      " 37  배기량           1154722 non-null  float64\n",
      " 38  승차인원          1154723 non-null  float64\n",
      " 39  차량길이          1154723 non-null  float64\n",
      " 40  차량너비          1154723 non-null  float64\n",
      " 41  차량높이          1154723 non-null  float64\n",
      " 42  원산지명          1113101 non-null  object \n",
      " 43  삭제YN          1154724 non-null  object \n",
      " 44  승인일자          1153531 non-null  object \n",
      " 45  구동형식          7 non-null        float64\n",
      " 46  변속기종류         1154722 non-null  object \n",
      " 47  생성일시_제원정보     1154724 non-null  object \n",
      " 48  수정일시_제원정보     218 non-null      object \n",
      " 49  법정동코드         1154723 non-null  float64\n",
      " 50  시도            1154724 non-null  object \n",
      " 51  시구군           1154703 non-null  object \n",
      " 52  읍면동           1152132 non-null  object \n",
      " 53  리             386373 non-null   object \n",
      " 54  지역3           0 non-null        float64\n",
      " 55  폐지여부          1154723 non-null  object \n",
      " 56  대기관리권역        1154724 non-null  object \n",
      " 57  대기관리권역YN      1154724 non-null  object \n",
      " 58  등급            1154724 non-null  int64  \n",
      "dtypes: float64(17), int64(5), object(37)\n",
      "memory usage: 519.8+ MB\n"
     ]
    }
   ],
   "source": [
    "# about 25s\n",
    "grade = 5\n",
    "file_name = f'[ODS][G{grade}]등록정보&제원정보(연료수정)(등급컬럼추가)(2022.12.28).csv'\n",
    "g5 =  pd.read_csv(os.path.join(ods_fold, file_name), low_memory=False)\n",
    "g5.info()"
   ]
  },
  {
   "cell_type": "code",
   "execution_count": 7,
   "metadata": {},
   "outputs": [
    {
     "name": "stdout",
     "output_type": "stream",
     "text": [
      "<class 'pandas.core.frame.DataFrame'>\n",
      "RangeIndex: 22044208 entries, 0 to 22044207\n",
      "Data columns (total 42 columns):\n",
      " #   Column     Dtype  \n",
      "---  ------     -----  \n",
      " 0   사용연료       object \n",
      " 1   주행거리       object \n",
      " 2   차명         object \n",
      " 3   차량번호       object \n",
      " 4   차대번호       object \n",
      " 5   차종         object \n",
      " 6   차량연식       int64  \n",
      " 7   엔진형식       object \n",
      " 8   검사방법       object \n",
      " 9   검사일자       int64  \n",
      " 10  검사종류       object \n",
      " 11  검사판정시각     object \n",
      " 12  검사판정       object \n",
      " 13  산소값        float64\n",
      " 14  이산화탄소값     float64\n",
      " 15  무부하매연판정1   object \n",
      " 16  무부하매연판정2   object \n",
      " 17  무부하매연판정3   object \n",
      " 18  무부하매연판정4   object \n",
      " 19  무부하매연판정5   object \n",
      " 20  무부하매연판정6   object \n",
      " 21  무부하매연허용치1  float64\n",
      " 22  무부하매연허용치2  float64\n",
      " 23  무부하매연허용치3  float64\n",
      " 24  무부하매연허용치4  float64\n",
      " 25  무부하매연허용치5  float64\n",
      " 26  무부하매연허용치6  float64\n",
      " 27  무부하매연측정치1  float64\n",
      " 28  무부하매연측정치2  float64\n",
      " 29  무부하매연측정치3  float64\n",
      " 30  무부하매연측정치4  float64\n",
      " 31  무부하매연측정치5  float64\n",
      " 32  무부하매연측정치6  float64\n",
      " 33  차량용도       object \n",
      " 34  최대출력허용치    float64\n",
      " 35  최대출력측정값    float64\n",
      " 36  검사접수번호     object \n",
      " 37  검사소명       object \n",
      " 38  재검사기간      object \n",
      " 39  정기정밀       object \n",
      " 40  검사 검사소코드   object \n",
      " 41  검사유효기간     float64\n",
      "dtypes: float64(17), int64(2), object(23)\n",
      "memory usage: 6.9+ GB\n"
     ]
    }
   ],
   "source": [
    "# about 4m 25s\n",
    "file_name = '[ODS]정기&정밀검사(최신검사만)(2022.12.28).csv'\n",
    "tin = pd.read_csv(os.path.join(ods_fold, file_name), low_memory=False)\n",
    "tin.info()"
   ]
  },
  {
   "cell_type": "code",
   "execution_count": 8,
   "metadata": {},
   "outputs": [
    {
     "data": {
      "text/plain": [
       "Index(['사용연료', '주행거리', '차명', '차량번호', '차대번호', '차종', '차량연식', '엔진형식', '검사방법',\n",
       "       '검사일자', '검사종류', '검사판정시각', '검사판정', '산소값', '이산화탄소값', '무부하매연판정1',\n",
       "       '무부하매연판정2', '무부하매연판정3', '무부하매연판정4', '무부하매연판정5', '무부하매연판정6', '무부하매연허용치1',\n",
       "       '무부하매연허용치2', '무부하매연허용치3', '무부하매연허용치4', '무부하매연허용치5', '무부하매연허용치6',\n",
       "       '무부하매연측정치1', '무부하매연측정치2', '무부하매연측정치3', '무부하매연측정치4', '무부하매연측정치5',\n",
       "       '무부하매연측정치6', '차량용도', '최대출력허용치', '최대출력측정값', '검사접수번호', '검사소명', '재검사기간',\n",
       "       '정기정밀', '검사 검사소코드', '검사유효기간'],\n",
       "      dtype='object')"
      ]
     },
     "execution_count": 8,
     "metadata": {},
     "output_type": "execute_result"
    }
   ],
   "source": [
    "tin.columns"
   ]
  },
  {
   "attachments": {},
   "cell_type": "markdown",
   "metadata": {},
   "source": [
    "## 최근 3년 검사 데이터 추출"
   ]
  },
  {
   "cell_type": "code",
   "execution_count": 9,
   "metadata": {},
   "outputs": [
    {
     "data": {
      "text/plain": [
       "count   22044208.00\n",
       "mean    20213557.70\n",
       "std         8679.78\n",
       "min     20190102.00\n",
       "25%     20210427.00\n",
       "50%     20211222.00\n",
       "75%     20220614.00\n",
       "max     20230107.00\n",
       "Name: 검사일자, dtype: float64"
      ]
     },
     "execution_count": 9,
     "metadata": {},
     "output_type": "execute_result"
    }
   ],
   "source": [
    "tin['검사일자'].describe()"
   ]
  },
  {
   "cell_type": "code",
   "execution_count": 10,
   "metadata": {},
   "outputs": [
    {
     "data": {
      "text/plain": [
       "(20547872, 42)"
      ]
     },
     "execution_count": 10,
     "metadata": {},
     "output_type": "execute_result"
    }
   ],
   "source": [
    "tin1 = tin[(tin['검사일자'] >= 20200101) & (tin['검사일자'] <= 20221231)]\n",
    "tin1.shape"
   ]
  },
  {
   "cell_type": "code",
   "execution_count": 11,
   "metadata": {},
   "outputs": [
    {
     "data": {
      "text/plain": [
       "count   20547872.00\n",
       "mean    20214858.24\n",
       "std         6580.17\n",
       "min     20200102.00\n",
       "25%     20210611.00\n",
       "50%     20220113.00\n",
       "75%     20220620.00\n",
       "max     20221231.00\n",
       "Name: 검사일자, dtype: float64"
      ]
     },
     "execution_count": 11,
     "metadata": {},
     "output_type": "execute_result"
    }
   ],
   "source": [
    "tin1['검사일자'].describe()"
   ]
  },
  {
   "cell_type": "code",
   "execution_count": 12,
   "metadata": {},
   "outputs": [
    {
     "data": {
      "text/plain": [
       "경유             1152694\n",
       "휘발유             333822\n",
       "LPG(액화석유가스)      24692\n",
       "무동력                  1\n",
       "CNG(압축천연가스)          1\n",
       "알코올                  1\n",
       "Name: 연료, dtype: int64"
      ]
     },
     "execution_count": 12,
     "metadata": {},
     "output_type": "execute_result"
    }
   ],
   "source": [
    "g4['연료'].value_counts(dropna=False)"
   ]
  },
  {
   "cell_type": "code",
   "execution_count": 13,
   "metadata": {},
   "outputs": [
    {
     "data": {
      "text/plain": [
       "경유             1124189\n",
       "휘발유              30093\n",
       "LPG(액화석유가스)        431\n",
       "CNG(압축천연가스)          5\n",
       "무동력                  5\n",
       "알코올                  1\n",
       "Name: 연료, dtype: int64"
      ]
     },
     "execution_count": 13,
     "metadata": {},
     "output_type": "execute_result"
    }
   ],
   "source": [
    "g5['연료'].value_counts(dropna=False)"
   ]
  },
  {
   "cell_type": "code",
   "execution_count": 14,
   "metadata": {},
   "outputs": [
    {
     "data": {
      "text/plain": [
       "(1511211, 59)"
      ]
     },
     "execution_count": 14,
     "metadata": {},
     "output_type": "execute_result"
    }
   ],
   "source": [
    "g4.shape"
   ]
  },
  {
   "cell_type": "code",
   "execution_count": 15,
   "metadata": {},
   "outputs": [
    {
     "data": {
      "text/plain": [
       "(1511211, 59)"
      ]
     },
     "execution_count": 15,
     "metadata": {},
     "output_type": "execute_result"
    }
   ],
   "source": [
    "g4 = g4.sort_values(['최초등록일자', '배출가스검사유효일자'], ascending=[False, False]).drop_duplicates('차대번호').reset_index(drop=True)\n",
    "g4.shape"
   ]
  },
  {
   "cell_type": "code",
   "execution_count": 16,
   "metadata": {},
   "outputs": [
    {
     "data": {
      "text/plain": [
       "(1154724, 59)"
      ]
     },
     "execution_count": 16,
     "metadata": {},
     "output_type": "execute_result"
    }
   ],
   "source": [
    "g5.shape"
   ]
  },
  {
   "cell_type": "code",
   "execution_count": 17,
   "metadata": {},
   "outputs": [
    {
     "data": {
      "text/plain": [
       "(1154724, 59)"
      ]
     },
     "execution_count": 17,
     "metadata": {},
     "output_type": "execute_result"
    }
   ],
   "source": [
    "g5 = g5.sort_values(['최초등록일자', '배출가스검사유효일자'], ascending=[False, False]).drop_duplicates('차대번호').reset_index(drop=True)\n",
    "g5.shape"
   ]
  },
  {
   "cell_type": "code",
   "execution_count": 18,
   "metadata": {},
   "outputs": [
    {
     "data": {
      "text/plain": [
       "(1511211, 100)"
      ]
     },
     "execution_count": 18,
     "metadata": {},
     "output_type": "execute_result"
    }
   ],
   "source": [
    "# about 47s\n",
    "g4_tin = g4.merge(tin1, on='차대번호', how='left')\n",
    "g4_tin.shape"
   ]
  },
  {
   "cell_type": "code",
   "execution_count": 19,
   "metadata": {},
   "outputs": [
    {
     "data": {
      "text/plain": [
       "(1154724, 100)"
      ]
     },
     "execution_count": 19,
     "metadata": {},
     "output_type": "execute_result"
    }
   ],
   "source": [
    "# about 43s\n",
    "g5_tin = g5.merge(tin1, on='차대번호', how='left')\n",
    "g5_tin.shape"
   ]
  },
  {
   "cell_type": "code",
   "execution_count": 20,
   "metadata": {},
   "outputs": [
    {
     "data": {
      "text/plain": [
       "array([nan, '부하검사(KD-147)', '부하검사(LUG DOWN)', '무부하검사(급가속)',\n",
       "       '부하검사(ASM-Idling)', '무부하검사(TSI)', '무부하검사(정지가동)'], dtype=object)"
      ]
     },
     "execution_count": 20,
     "metadata": {},
     "output_type": "execute_result"
    }
   ],
   "source": [
    "g4_tin['검사방법'].unique()"
   ]
  },
  {
   "cell_type": "code",
   "execution_count": 21,
   "metadata": {},
   "outputs": [
    {
     "data": {
      "text/plain": [
       "array([nan, '2부재검사(종합)', '종합검사(경과)', '종합검사', '정기검사', '정기(경과)검사',\n",
       "       '재검사(2부재검사)', '재검사(1부재검사)', '1부재검사(종합)'], dtype=object)"
      ]
     },
     "execution_count": 21,
     "metadata": {},
     "output_type": "execute_result"
    }
   ],
   "source": [
    "g4_tin['검사종류'].unique()"
   ]
  },
  {
   "cell_type": "code",
   "execution_count": 22,
   "metadata": {},
   "outputs": [
    {
     "data": {
      "text/plain": [
       "array([nan, '부하검사(KD-147)', '무부하검사(급가속)', '부하검사(LUG DOWN)', '무부하검사(TSI)',\n",
       "       '부하검사(ASM-Idling)', '무부하검사(정지가동)'], dtype=object)"
      ]
     },
     "execution_count": 22,
     "metadata": {},
     "output_type": "execute_result"
    }
   ],
   "source": [
    "g5_tin['검사방법'].unique()"
   ]
  },
  {
   "cell_type": "code",
   "execution_count": 23,
   "metadata": {},
   "outputs": [
    {
     "data": {
      "text/plain": [
       "array([nan, '종합검사', '2부재검사(종합)', '정기검사', '종합검사(경과)', '재검사(2부재검사)',\n",
       "       '재검사(1부재검사)', '정기(경과)검사', '1부재검사(종합)'], dtype=object)"
      ]
     },
     "execution_count": 23,
     "metadata": {},
     "output_type": "execute_result"
    }
   ],
   "source": [
    "g5_tin['검사종류'].unique()"
   ]
  },
  {
   "cell_type": "code",
   "execution_count": 24,
   "metadata": {},
   "outputs": [],
   "source": [
    "view_cols = ['검사방법', '검사일자', '검사종류', '검사판정시각', '검사판정', \n",
    "'무부하매연판정1', '무부하매연측정치1',\n",
    "'무부하매연판정2', '무부하매연측정치2',\n",
    "'무부하매연판정3', '무부하매연측정치3',\n",
    "'무부하매연판정4', '무부하매연측정치4',\n",
    "'무부하매연판정5', '무부하매연측정치5',\n",
    "'무부하매연판정6', '무부하매연측정치6',]"
   ]
  },
  {
   "cell_type": "code",
   "execution_count": 25,
   "metadata": {},
   "outputs": [
    {
     "data": {
      "text/html": [
       "<div>\n",
       "<style scoped>\n",
       "    .dataframe tbody tr th:only-of-type {\n",
       "        vertical-align: middle;\n",
       "    }\n",
       "\n",
       "    .dataframe tbody tr th {\n",
       "        vertical-align: top;\n",
       "    }\n",
       "\n",
       "    .dataframe thead th {\n",
       "        text-align: right;\n",
       "    }\n",
       "</style>\n",
       "<table border=\"1\" class=\"dataframe\">\n",
       "  <thead>\n",
       "    <tr style=\"text-align: right;\">\n",
       "      <th></th>\n",
       "      <th>index</th>\n",
       "      <th>0</th>\n",
       "    </tr>\n",
       "  </thead>\n",
       "  <tbody>\n",
       "    <tr>\n",
       "      <th>0</th>\n",
       "      <td>검사방법</td>\n",
       "      <td>0</td>\n",
       "    </tr>\n",
       "    <tr>\n",
       "      <th>1</th>\n",
       "      <td>검사일자</td>\n",
       "      <td>0</td>\n",
       "    </tr>\n",
       "    <tr>\n",
       "      <th>2</th>\n",
       "      <td>검사종류</td>\n",
       "      <td>0</td>\n",
       "    </tr>\n",
       "    <tr>\n",
       "      <th>3</th>\n",
       "      <td>검사판정시각</td>\n",
       "      <td>0</td>\n",
       "    </tr>\n",
       "    <tr>\n",
       "      <th>4</th>\n",
       "      <td>검사판정</td>\n",
       "      <td>0</td>\n",
       "    </tr>\n",
       "    <tr>\n",
       "      <th>5</th>\n",
       "      <td>무부하매연판정1</td>\n",
       "      <td>0</td>\n",
       "    </tr>\n",
       "    <tr>\n",
       "      <th>6</th>\n",
       "      <td>무부하매연측정치1</td>\n",
       "      <td>0</td>\n",
       "    </tr>\n",
       "    <tr>\n",
       "      <th>7</th>\n",
       "      <td>무부하매연판정2</td>\n",
       "      <td>0</td>\n",
       "    </tr>\n",
       "    <tr>\n",
       "      <th>8</th>\n",
       "      <td>무부하매연측정치2</td>\n",
       "      <td>0</td>\n",
       "    </tr>\n",
       "    <tr>\n",
       "      <th>9</th>\n",
       "      <td>무부하매연판정3</td>\n",
       "      <td>0</td>\n",
       "    </tr>\n",
       "    <tr>\n",
       "      <th>10</th>\n",
       "      <td>무부하매연측정치3</td>\n",
       "      <td>0</td>\n",
       "    </tr>\n",
       "    <tr>\n",
       "      <th>11</th>\n",
       "      <td>무부하매연판정4</td>\n",
       "      <td>0</td>\n",
       "    </tr>\n",
       "    <tr>\n",
       "      <th>12</th>\n",
       "      <td>무부하매연측정치4</td>\n",
       "      <td>0</td>\n",
       "    </tr>\n",
       "    <tr>\n",
       "      <th>13</th>\n",
       "      <td>무부하매연판정5</td>\n",
       "      <td>0</td>\n",
       "    </tr>\n",
       "    <tr>\n",
       "      <th>14</th>\n",
       "      <td>무부하매연측정치5</td>\n",
       "      <td>0</td>\n",
       "    </tr>\n",
       "    <tr>\n",
       "      <th>15</th>\n",
       "      <td>무부하매연판정6</td>\n",
       "      <td>0</td>\n",
       "    </tr>\n",
       "    <tr>\n",
       "      <th>16</th>\n",
       "      <td>무부하매연측정치6</td>\n",
       "      <td>0</td>\n",
       "    </tr>\n",
       "  </tbody>\n",
       "</table>\n",
       "</div>"
      ],
      "text/plain": [
       "        index  0\n",
       "0        검사방법  0\n",
       "1        검사일자  0\n",
       "2        검사종류  0\n",
       "3      검사판정시각  0\n",
       "4        검사판정  0\n",
       "5    무부하매연판정1  0\n",
       "6   무부하매연측정치1  0\n",
       "7    무부하매연판정2  0\n",
       "8   무부하매연측정치2  0\n",
       "9    무부하매연판정3  0\n",
       "10  무부하매연측정치3  0\n",
       "11   무부하매연판정4  0\n",
       "12  무부하매연측정치4  0\n",
       "13   무부하매연판정5  0\n",
       "14  무부하매연측정치5  0\n",
       "15   무부하매연판정6  0\n",
       "16  무부하매연측정치6  0"
      ]
     },
     "execution_count": 25,
     "metadata": {},
     "output_type": "execute_result"
    }
   ],
   "source": [
    "g4_tin[g4_tin['연료'] == '알코올'].reset_index(drop=True)[view_cols].isnull().sum().reset_index()"
   ]
  },
  {
   "cell_type": "code",
   "execution_count": 26,
   "metadata": {},
   "outputs": [],
   "source": [
    "g4_miss = pd.DataFrame({'컬럼명':view_cols})\n",
    "for one in g4_tin['연료'].unique():\n",
    "    temp = g4_tin[g4_tin['연료'] == one].reset_index(drop=True)[view_cols].isnull().sum().reset_index()\n",
    "    temp.columns = ['컬럼명', f'4등급_{one}']\n",
    "    g4_miss = g4_miss.merge(temp, on='컬럼명', how='left')"
   ]
  },
  {
   "cell_type": "code",
   "execution_count": 27,
   "metadata": {},
   "outputs": [
    {
     "data": {
      "text/html": [
       "<div>\n",
       "<style scoped>\n",
       "    .dataframe tbody tr th:only-of-type {\n",
       "        vertical-align: middle;\n",
       "    }\n",
       "\n",
       "    .dataframe tbody tr th {\n",
       "        vertical-align: top;\n",
       "    }\n",
       "\n",
       "    .dataframe thead th {\n",
       "        text-align: right;\n",
       "    }\n",
       "</style>\n",
       "<table border=\"1\" class=\"dataframe\">\n",
       "  <thead>\n",
       "    <tr style=\"text-align: right;\">\n",
       "      <th></th>\n",
       "      <th>컬럼명</th>\n",
       "      <th>4등급_경유</th>\n",
       "      <th>4등급_휘발유</th>\n",
       "      <th>4등급_무동력</th>\n",
       "      <th>4등급_LPG(액화석유가스)</th>\n",
       "      <th>4등급_CNG(압축천연가스)</th>\n",
       "      <th>4등급_알코올</th>\n",
       "    </tr>\n",
       "  </thead>\n",
       "  <tbody>\n",
       "    <tr>\n",
       "      <th>0</th>\n",
       "      <td>검사방법</td>\n",
       "      <td>44049</td>\n",
       "      <td>276732</td>\n",
       "      <td>0</td>\n",
       "      <td>20380</td>\n",
       "      <td>0</td>\n",
       "      <td>0</td>\n",
       "    </tr>\n",
       "    <tr>\n",
       "      <th>1</th>\n",
       "      <td>검사일자</td>\n",
       "      <td>44049</td>\n",
       "      <td>276732</td>\n",
       "      <td>0</td>\n",
       "      <td>20380</td>\n",
       "      <td>0</td>\n",
       "      <td>0</td>\n",
       "    </tr>\n",
       "    <tr>\n",
       "      <th>2</th>\n",
       "      <td>검사종류</td>\n",
       "      <td>44049</td>\n",
       "      <td>276732</td>\n",
       "      <td>0</td>\n",
       "      <td>20380</td>\n",
       "      <td>0</td>\n",
       "      <td>0</td>\n",
       "    </tr>\n",
       "    <tr>\n",
       "      <th>3</th>\n",
       "      <td>검사판정시각</td>\n",
       "      <td>52626</td>\n",
       "      <td>277303</td>\n",
       "      <td>0</td>\n",
       "      <td>20425</td>\n",
       "      <td>0</td>\n",
       "      <td>0</td>\n",
       "    </tr>\n",
       "    <tr>\n",
       "      <th>4</th>\n",
       "      <td>검사판정</td>\n",
       "      <td>44049</td>\n",
       "      <td>276732</td>\n",
       "      <td>0</td>\n",
       "      <td>20380</td>\n",
       "      <td>0</td>\n",
       "      <td>0</td>\n",
       "    </tr>\n",
       "    <tr>\n",
       "      <th>5</th>\n",
       "      <td>무부하매연판정1</td>\n",
       "      <td>52631</td>\n",
       "      <td>277835</td>\n",
       "      <td>1</td>\n",
       "      <td>20478</td>\n",
       "      <td>0</td>\n",
       "      <td>0</td>\n",
       "    </tr>\n",
       "    <tr>\n",
       "      <th>6</th>\n",
       "      <td>무부하매연측정치1</td>\n",
       "      <td>52626</td>\n",
       "      <td>277835</td>\n",
       "      <td>1</td>\n",
       "      <td>20478</td>\n",
       "      <td>0</td>\n",
       "      <td>0</td>\n",
       "    </tr>\n",
       "    <tr>\n",
       "      <th>7</th>\n",
       "      <td>무부하매연판정2</td>\n",
       "      <td>1108844</td>\n",
       "      <td>277856</td>\n",
       "      <td>1</td>\n",
       "      <td>20478</td>\n",
       "      <td>1</td>\n",
       "      <td>0</td>\n",
       "    </tr>\n",
       "    <tr>\n",
       "      <th>8</th>\n",
       "      <td>무부하매연측정치2</td>\n",
       "      <td>794728</td>\n",
       "      <td>277846</td>\n",
       "      <td>1</td>\n",
       "      <td>20478</td>\n",
       "      <td>1</td>\n",
       "      <td>0</td>\n",
       "    </tr>\n",
       "    <tr>\n",
       "      <th>9</th>\n",
       "      <td>무부하매연판정3</td>\n",
       "      <td>1109724</td>\n",
       "      <td>277856</td>\n",
       "      <td>1</td>\n",
       "      <td>20478</td>\n",
       "      <td>1</td>\n",
       "      <td>0</td>\n",
       "    </tr>\n",
       "    <tr>\n",
       "      <th>10</th>\n",
       "      <td>무부하매연측정치3</td>\n",
       "      <td>829071</td>\n",
       "      <td>277848</td>\n",
       "      <td>1</td>\n",
       "      <td>20478</td>\n",
       "      <td>1</td>\n",
       "      <td>0</td>\n",
       "    </tr>\n",
       "    <tr>\n",
       "      <th>11</th>\n",
       "      <td>무부하매연판정4</td>\n",
       "      <td>1109726</td>\n",
       "      <td>278331</td>\n",
       "      <td>1</td>\n",
       "      <td>20658</td>\n",
       "      <td>1</td>\n",
       "      <td>0</td>\n",
       "    </tr>\n",
       "    <tr>\n",
       "      <th>12</th>\n",
       "      <td>무부하매연측정치4</td>\n",
       "      <td>829073</td>\n",
       "      <td>278321</td>\n",
       "      <td>1</td>\n",
       "      <td>20658</td>\n",
       "      <td>1</td>\n",
       "      <td>0</td>\n",
       "    </tr>\n",
       "    <tr>\n",
       "      <th>13</th>\n",
       "      <td>무부하매연판정5</td>\n",
       "      <td>1109726</td>\n",
       "      <td>278331</td>\n",
       "      <td>1</td>\n",
       "      <td>20658</td>\n",
       "      <td>1</td>\n",
       "      <td>0</td>\n",
       "    </tr>\n",
       "    <tr>\n",
       "      <th>14</th>\n",
       "      <td>무부하매연측정치5</td>\n",
       "      <td>829073</td>\n",
       "      <td>278321</td>\n",
       "      <td>1</td>\n",
       "      <td>20658</td>\n",
       "      <td>1</td>\n",
       "      <td>0</td>\n",
       "    </tr>\n",
       "    <tr>\n",
       "      <th>15</th>\n",
       "      <td>무부하매연판정6</td>\n",
       "      <td>1152689</td>\n",
       "      <td>278331</td>\n",
       "      <td>1</td>\n",
       "      <td>20658</td>\n",
       "      <td>1</td>\n",
       "      <td>0</td>\n",
       "    </tr>\n",
       "    <tr>\n",
       "      <th>16</th>\n",
       "      <td>무부하매연측정치6</td>\n",
       "      <td>860557</td>\n",
       "      <td>278321</td>\n",
       "      <td>1</td>\n",
       "      <td>20658</td>\n",
       "      <td>1</td>\n",
       "      <td>0</td>\n",
       "    </tr>\n",
       "  </tbody>\n",
       "</table>\n",
       "</div>"
      ],
      "text/plain": [
       "          컬럼명   4등급_경유  4등급_휘발유  4등급_무동력  4등급_LPG(액화석유가스)  4등급_CNG(압축천연가스)  \\\n",
       "0        검사방법    44049   276732        0            20380                0   \n",
       "1        검사일자    44049   276732        0            20380                0   \n",
       "2        검사종류    44049   276732        0            20380                0   \n",
       "3      검사판정시각    52626   277303        0            20425                0   \n",
       "4        검사판정    44049   276732        0            20380                0   \n",
       "5    무부하매연판정1    52631   277835        1            20478                0   \n",
       "6   무부하매연측정치1    52626   277835        1            20478                0   \n",
       "7    무부하매연판정2  1108844   277856        1            20478                1   \n",
       "8   무부하매연측정치2   794728   277846        1            20478                1   \n",
       "9    무부하매연판정3  1109724   277856        1            20478                1   \n",
       "10  무부하매연측정치3   829071   277848        1            20478                1   \n",
       "11   무부하매연판정4  1109726   278331        1            20658                1   \n",
       "12  무부하매연측정치4   829073   278321        1            20658                1   \n",
       "13   무부하매연판정5  1109726   278331        1            20658                1   \n",
       "14  무부하매연측정치5   829073   278321        1            20658                1   \n",
       "15   무부하매연판정6  1152689   278331        1            20658                1   \n",
       "16  무부하매연측정치6   860557   278321        1            20658                1   \n",
       "\n",
       "    4등급_알코올  \n",
       "0         0  \n",
       "1         0  \n",
       "2         0  \n",
       "3         0  \n",
       "4         0  \n",
       "5         0  \n",
       "6         0  \n",
       "7         0  \n",
       "8         0  \n",
       "9         0  \n",
       "10        0  \n",
       "11        0  \n",
       "12        0  \n",
       "13        0  \n",
       "14        0  \n",
       "15        0  \n",
       "16        0  "
      ]
     },
     "execution_count": 27,
     "metadata": {},
     "output_type": "execute_result"
    }
   ],
   "source": [
    "g4_miss"
   ]
  },
  {
   "cell_type": "code",
   "execution_count": 28,
   "metadata": {},
   "outputs": [],
   "source": [
    "g5_miss = pd.DataFrame({'컬럼명':view_cols})\n",
    "for one in g5_tin['연료'].unique():\n",
    "    temp = g5_tin[g5_tin['연료'] == one].reset_index(drop=True)[view_cols].isnull().sum().reset_index()\n",
    "    temp.columns = ['컬럼명', f'5등급_{one}']\n",
    "    g5_miss = g5_miss.merge(temp, on='컬럼명', how='left')"
   ]
  },
  {
   "cell_type": "code",
   "execution_count": 29,
   "metadata": {},
   "outputs": [
    {
     "data": {
      "text/html": [
       "<div>\n",
       "<style scoped>\n",
       "    .dataframe tbody tr th:only-of-type {\n",
       "        vertical-align: middle;\n",
       "    }\n",
       "\n",
       "    .dataframe tbody tr th {\n",
       "        vertical-align: top;\n",
       "    }\n",
       "\n",
       "    .dataframe thead th {\n",
       "        text-align: right;\n",
       "    }\n",
       "</style>\n",
       "<table border=\"1\" class=\"dataframe\">\n",
       "  <thead>\n",
       "    <tr style=\"text-align: right;\">\n",
       "      <th></th>\n",
       "      <th>컬럼명</th>\n",
       "      <th>5등급_경유</th>\n",
       "      <th>5등급_휘발유</th>\n",
       "      <th>5등급_CNG(압축천연가스)</th>\n",
       "      <th>5등급_LPG(액화석유가스)</th>\n",
       "      <th>5등급_무동력</th>\n",
       "      <th>5등급_알코올</th>\n",
       "    </tr>\n",
       "  </thead>\n",
       "  <tbody>\n",
       "    <tr>\n",
       "      <th>0</th>\n",
       "      <td>검사방법</td>\n",
       "      <td>417784</td>\n",
       "      <td>29714</td>\n",
       "      <td>3</td>\n",
       "      <td>428</td>\n",
       "      <td>1</td>\n",
       "      <td>1</td>\n",
       "    </tr>\n",
       "    <tr>\n",
       "      <th>1</th>\n",
       "      <td>검사일자</td>\n",
       "      <td>417784</td>\n",
       "      <td>29714</td>\n",
       "      <td>3</td>\n",
       "      <td>428</td>\n",
       "      <td>1</td>\n",
       "      <td>1</td>\n",
       "    </tr>\n",
       "    <tr>\n",
       "      <th>2</th>\n",
       "      <td>검사종류</td>\n",
       "      <td>417784</td>\n",
       "      <td>29714</td>\n",
       "      <td>3</td>\n",
       "      <td>428</td>\n",
       "      <td>1</td>\n",
       "      <td>1</td>\n",
       "    </tr>\n",
       "    <tr>\n",
       "      <th>3</th>\n",
       "      <td>검사판정시각</td>\n",
       "      <td>423735</td>\n",
       "      <td>29718</td>\n",
       "      <td>3</td>\n",
       "      <td>428</td>\n",
       "      <td>1</td>\n",
       "      <td>1</td>\n",
       "    </tr>\n",
       "    <tr>\n",
       "      <th>4</th>\n",
       "      <td>검사판정</td>\n",
       "      <td>417784</td>\n",
       "      <td>29714</td>\n",
       "      <td>3</td>\n",
       "      <td>428</td>\n",
       "      <td>1</td>\n",
       "      <td>1</td>\n",
       "    </tr>\n",
       "    <tr>\n",
       "      <th>5</th>\n",
       "      <td>무부하매연판정1</td>\n",
       "      <td>423944</td>\n",
       "      <td>29725</td>\n",
       "      <td>3</td>\n",
       "      <td>428</td>\n",
       "      <td>3</td>\n",
       "      <td>1</td>\n",
       "    </tr>\n",
       "    <tr>\n",
       "      <th>6</th>\n",
       "      <td>무부하매연측정치1</td>\n",
       "      <td>423935</td>\n",
       "      <td>29725</td>\n",
       "      <td>3</td>\n",
       "      <td>428</td>\n",
       "      <td>3</td>\n",
       "      <td>1</td>\n",
       "    </tr>\n",
       "    <tr>\n",
       "      <th>7</th>\n",
       "      <td>무부하매연판정2</td>\n",
       "      <td>1017451</td>\n",
       "      <td>29736</td>\n",
       "      <td>3</td>\n",
       "      <td>428</td>\n",
       "      <td>4</td>\n",
       "      <td>1</td>\n",
       "    </tr>\n",
       "    <tr>\n",
       "      <th>8</th>\n",
       "      <td>무부하매연측정치2</td>\n",
       "      <td>890190</td>\n",
       "      <td>29731</td>\n",
       "      <td>3</td>\n",
       "      <td>428</td>\n",
       "      <td>4</td>\n",
       "      <td>1</td>\n",
       "    </tr>\n",
       "    <tr>\n",
       "      <th>9</th>\n",
       "      <td>무부하매연판정3</td>\n",
       "      <td>1017777</td>\n",
       "      <td>29736</td>\n",
       "      <td>3</td>\n",
       "      <td>428</td>\n",
       "      <td>4</td>\n",
       "      <td>1</td>\n",
       "    </tr>\n",
       "    <tr>\n",
       "      <th>10</th>\n",
       "      <td>무부하매연측정치3</td>\n",
       "      <td>909623</td>\n",
       "      <td>29733</td>\n",
       "      <td>3</td>\n",
       "      <td>428</td>\n",
       "      <td>4</td>\n",
       "      <td>1</td>\n",
       "    </tr>\n",
       "    <tr>\n",
       "      <th>11</th>\n",
       "      <td>무부하매연판정4</td>\n",
       "      <td>1018120</td>\n",
       "      <td>29745</td>\n",
       "      <td>3</td>\n",
       "      <td>430</td>\n",
       "      <td>4</td>\n",
       "      <td>1</td>\n",
       "    </tr>\n",
       "    <tr>\n",
       "      <th>12</th>\n",
       "      <td>무부하매연측정치4</td>\n",
       "      <td>909965</td>\n",
       "      <td>29737</td>\n",
       "      <td>3</td>\n",
       "      <td>430</td>\n",
       "      <td>4</td>\n",
       "      <td>1</td>\n",
       "    </tr>\n",
       "    <tr>\n",
       "      <th>13</th>\n",
       "      <td>무부하매연판정5</td>\n",
       "      <td>1018120</td>\n",
       "      <td>29745</td>\n",
       "      <td>3</td>\n",
       "      <td>430</td>\n",
       "      <td>4</td>\n",
       "      <td>1</td>\n",
       "    </tr>\n",
       "    <tr>\n",
       "      <th>14</th>\n",
       "      <td>무부하매연측정치5</td>\n",
       "      <td>909965</td>\n",
       "      <td>29737</td>\n",
       "      <td>3</td>\n",
       "      <td>430</td>\n",
       "      <td>4</td>\n",
       "      <td>1</td>\n",
       "    </tr>\n",
       "    <tr>\n",
       "      <th>15</th>\n",
       "      <td>무부하매연판정6</td>\n",
       "      <td>1115337</td>\n",
       "      <td>29745</td>\n",
       "      <td>5</td>\n",
       "      <td>430</td>\n",
       "      <td>5</td>\n",
       "      <td>1</td>\n",
       "    </tr>\n",
       "    <tr>\n",
       "      <th>16</th>\n",
       "      <td>무부하매연측정치6</td>\n",
       "      <td>982786</td>\n",
       "      <td>29737</td>\n",
       "      <td>4</td>\n",
       "      <td>430</td>\n",
       "      <td>5</td>\n",
       "      <td>1</td>\n",
       "    </tr>\n",
       "  </tbody>\n",
       "</table>\n",
       "</div>"
      ],
      "text/plain": [
       "          컬럼명   5등급_경유  5등급_휘발유  5등급_CNG(압축천연가스)  5등급_LPG(액화석유가스)  5등급_무동력  \\\n",
       "0        검사방법   417784    29714                3              428        1   \n",
       "1        검사일자   417784    29714                3              428        1   \n",
       "2        검사종류   417784    29714                3              428        1   \n",
       "3      검사판정시각   423735    29718                3              428        1   \n",
       "4        검사판정   417784    29714                3              428        1   \n",
       "5    무부하매연판정1   423944    29725                3              428        3   \n",
       "6   무부하매연측정치1   423935    29725                3              428        3   \n",
       "7    무부하매연판정2  1017451    29736                3              428        4   \n",
       "8   무부하매연측정치2   890190    29731                3              428        4   \n",
       "9    무부하매연판정3  1017777    29736                3              428        4   \n",
       "10  무부하매연측정치3   909623    29733                3              428        4   \n",
       "11   무부하매연판정4  1018120    29745                3              430        4   \n",
       "12  무부하매연측정치4   909965    29737                3              430        4   \n",
       "13   무부하매연판정5  1018120    29745                3              430        4   \n",
       "14  무부하매연측정치5   909965    29737                3              430        4   \n",
       "15   무부하매연판정6  1115337    29745                5              430        5   \n",
       "16  무부하매연측정치6   982786    29737                4              430        5   \n",
       "\n",
       "    5등급_알코올  \n",
       "0         1  \n",
       "1         1  \n",
       "2         1  \n",
       "3         1  \n",
       "4         1  \n",
       "5         1  \n",
       "6         1  \n",
       "7         1  \n",
       "8         1  \n",
       "9         1  \n",
       "10        1  \n",
       "11        1  \n",
       "12        1  \n",
       "13        1  \n",
       "14        1  \n",
       "15        1  \n",
       "16        1  "
      ]
     },
     "execution_count": 29,
     "metadata": {},
     "output_type": "execute_result"
    }
   ],
   "source": [
    "g5_miss"
   ]
  },
  {
   "cell_type": "code",
   "execution_count": 30,
   "metadata": {},
   "outputs": [
    {
     "data": {
      "text/html": [
       "<div>\n",
       "<style scoped>\n",
       "    .dataframe tbody tr th:only-of-type {\n",
       "        vertical-align: middle;\n",
       "    }\n",
       "\n",
       "    .dataframe tbody tr th {\n",
       "        vertical-align: top;\n",
       "    }\n",
       "\n",
       "    .dataframe thead th {\n",
       "        text-align: right;\n",
       "    }\n",
       "</style>\n",
       "<table border=\"1\" class=\"dataframe\">\n",
       "  <thead>\n",
       "    <tr style=\"text-align: right;\">\n",
       "      <th></th>\n",
       "      <th>컬럼명</th>\n",
       "      <th>4등급_경유</th>\n",
       "      <th>4등급_휘발유</th>\n",
       "      <th>4등급_무동력</th>\n",
       "      <th>4등급_LPG(액화석유가스)</th>\n",
       "      <th>4등급_CNG(압축천연가스)</th>\n",
       "      <th>4등급_알코올</th>\n",
       "      <th>5등급_경유</th>\n",
       "      <th>5등급_휘발유</th>\n",
       "      <th>5등급_CNG(압축천연가스)</th>\n",
       "      <th>5등급_LPG(액화석유가스)</th>\n",
       "      <th>5등급_무동력</th>\n",
       "      <th>5등급_알코올</th>\n",
       "    </tr>\n",
       "  </thead>\n",
       "  <tbody>\n",
       "    <tr>\n",
       "      <th>0</th>\n",
       "      <td>검사방법</td>\n",
       "      <td>44049</td>\n",
       "      <td>276732</td>\n",
       "      <td>0</td>\n",
       "      <td>20380</td>\n",
       "      <td>0</td>\n",
       "      <td>0</td>\n",
       "      <td>417784</td>\n",
       "      <td>29714</td>\n",
       "      <td>3</td>\n",
       "      <td>428</td>\n",
       "      <td>1</td>\n",
       "      <td>1</td>\n",
       "    </tr>\n",
       "    <tr>\n",
       "      <th>1</th>\n",
       "      <td>검사일자</td>\n",
       "      <td>44049</td>\n",
       "      <td>276732</td>\n",
       "      <td>0</td>\n",
       "      <td>20380</td>\n",
       "      <td>0</td>\n",
       "      <td>0</td>\n",
       "      <td>417784</td>\n",
       "      <td>29714</td>\n",
       "      <td>3</td>\n",
       "      <td>428</td>\n",
       "      <td>1</td>\n",
       "      <td>1</td>\n",
       "    </tr>\n",
       "    <tr>\n",
       "      <th>2</th>\n",
       "      <td>검사종류</td>\n",
       "      <td>44049</td>\n",
       "      <td>276732</td>\n",
       "      <td>0</td>\n",
       "      <td>20380</td>\n",
       "      <td>0</td>\n",
       "      <td>0</td>\n",
       "      <td>417784</td>\n",
       "      <td>29714</td>\n",
       "      <td>3</td>\n",
       "      <td>428</td>\n",
       "      <td>1</td>\n",
       "      <td>1</td>\n",
       "    </tr>\n",
       "    <tr>\n",
       "      <th>3</th>\n",
       "      <td>검사판정시각</td>\n",
       "      <td>52626</td>\n",
       "      <td>277303</td>\n",
       "      <td>0</td>\n",
       "      <td>20425</td>\n",
       "      <td>0</td>\n",
       "      <td>0</td>\n",
       "      <td>423735</td>\n",
       "      <td>29718</td>\n",
       "      <td>3</td>\n",
       "      <td>428</td>\n",
       "      <td>1</td>\n",
       "      <td>1</td>\n",
       "    </tr>\n",
       "    <tr>\n",
       "      <th>4</th>\n",
       "      <td>검사판정</td>\n",
       "      <td>44049</td>\n",
       "      <td>276732</td>\n",
       "      <td>0</td>\n",
       "      <td>20380</td>\n",
       "      <td>0</td>\n",
       "      <td>0</td>\n",
       "      <td>417784</td>\n",
       "      <td>29714</td>\n",
       "      <td>3</td>\n",
       "      <td>428</td>\n",
       "      <td>1</td>\n",
       "      <td>1</td>\n",
       "    </tr>\n",
       "    <tr>\n",
       "      <th>5</th>\n",
       "      <td>무부하매연판정1</td>\n",
       "      <td>52631</td>\n",
       "      <td>277835</td>\n",
       "      <td>1</td>\n",
       "      <td>20478</td>\n",
       "      <td>0</td>\n",
       "      <td>0</td>\n",
       "      <td>423944</td>\n",
       "      <td>29725</td>\n",
       "      <td>3</td>\n",
       "      <td>428</td>\n",
       "      <td>3</td>\n",
       "      <td>1</td>\n",
       "    </tr>\n",
       "    <tr>\n",
       "      <th>6</th>\n",
       "      <td>무부하매연측정치1</td>\n",
       "      <td>52626</td>\n",
       "      <td>277835</td>\n",
       "      <td>1</td>\n",
       "      <td>20478</td>\n",
       "      <td>0</td>\n",
       "      <td>0</td>\n",
       "      <td>423935</td>\n",
       "      <td>29725</td>\n",
       "      <td>3</td>\n",
       "      <td>428</td>\n",
       "      <td>3</td>\n",
       "      <td>1</td>\n",
       "    </tr>\n",
       "    <tr>\n",
       "      <th>7</th>\n",
       "      <td>무부하매연판정2</td>\n",
       "      <td>1108844</td>\n",
       "      <td>277856</td>\n",
       "      <td>1</td>\n",
       "      <td>20478</td>\n",
       "      <td>1</td>\n",
       "      <td>0</td>\n",
       "      <td>1017451</td>\n",
       "      <td>29736</td>\n",
       "      <td>3</td>\n",
       "      <td>428</td>\n",
       "      <td>4</td>\n",
       "      <td>1</td>\n",
       "    </tr>\n",
       "    <tr>\n",
       "      <th>8</th>\n",
       "      <td>무부하매연측정치2</td>\n",
       "      <td>794728</td>\n",
       "      <td>277846</td>\n",
       "      <td>1</td>\n",
       "      <td>20478</td>\n",
       "      <td>1</td>\n",
       "      <td>0</td>\n",
       "      <td>890190</td>\n",
       "      <td>29731</td>\n",
       "      <td>3</td>\n",
       "      <td>428</td>\n",
       "      <td>4</td>\n",
       "      <td>1</td>\n",
       "    </tr>\n",
       "    <tr>\n",
       "      <th>9</th>\n",
       "      <td>무부하매연판정3</td>\n",
       "      <td>1109724</td>\n",
       "      <td>277856</td>\n",
       "      <td>1</td>\n",
       "      <td>20478</td>\n",
       "      <td>1</td>\n",
       "      <td>0</td>\n",
       "      <td>1017777</td>\n",
       "      <td>29736</td>\n",
       "      <td>3</td>\n",
       "      <td>428</td>\n",
       "      <td>4</td>\n",
       "      <td>1</td>\n",
       "    </tr>\n",
       "    <tr>\n",
       "      <th>10</th>\n",
       "      <td>무부하매연측정치3</td>\n",
       "      <td>829071</td>\n",
       "      <td>277848</td>\n",
       "      <td>1</td>\n",
       "      <td>20478</td>\n",
       "      <td>1</td>\n",
       "      <td>0</td>\n",
       "      <td>909623</td>\n",
       "      <td>29733</td>\n",
       "      <td>3</td>\n",
       "      <td>428</td>\n",
       "      <td>4</td>\n",
       "      <td>1</td>\n",
       "    </tr>\n",
       "    <tr>\n",
       "      <th>11</th>\n",
       "      <td>무부하매연판정4</td>\n",
       "      <td>1109726</td>\n",
       "      <td>278331</td>\n",
       "      <td>1</td>\n",
       "      <td>20658</td>\n",
       "      <td>1</td>\n",
       "      <td>0</td>\n",
       "      <td>1018120</td>\n",
       "      <td>29745</td>\n",
       "      <td>3</td>\n",
       "      <td>430</td>\n",
       "      <td>4</td>\n",
       "      <td>1</td>\n",
       "    </tr>\n",
       "    <tr>\n",
       "      <th>12</th>\n",
       "      <td>무부하매연측정치4</td>\n",
       "      <td>829073</td>\n",
       "      <td>278321</td>\n",
       "      <td>1</td>\n",
       "      <td>20658</td>\n",
       "      <td>1</td>\n",
       "      <td>0</td>\n",
       "      <td>909965</td>\n",
       "      <td>29737</td>\n",
       "      <td>3</td>\n",
       "      <td>430</td>\n",
       "      <td>4</td>\n",
       "      <td>1</td>\n",
       "    </tr>\n",
       "    <tr>\n",
       "      <th>13</th>\n",
       "      <td>무부하매연판정5</td>\n",
       "      <td>1109726</td>\n",
       "      <td>278331</td>\n",
       "      <td>1</td>\n",
       "      <td>20658</td>\n",
       "      <td>1</td>\n",
       "      <td>0</td>\n",
       "      <td>1018120</td>\n",
       "      <td>29745</td>\n",
       "      <td>3</td>\n",
       "      <td>430</td>\n",
       "      <td>4</td>\n",
       "      <td>1</td>\n",
       "    </tr>\n",
       "    <tr>\n",
       "      <th>14</th>\n",
       "      <td>무부하매연측정치5</td>\n",
       "      <td>829073</td>\n",
       "      <td>278321</td>\n",
       "      <td>1</td>\n",
       "      <td>20658</td>\n",
       "      <td>1</td>\n",
       "      <td>0</td>\n",
       "      <td>909965</td>\n",
       "      <td>29737</td>\n",
       "      <td>3</td>\n",
       "      <td>430</td>\n",
       "      <td>4</td>\n",
       "      <td>1</td>\n",
       "    </tr>\n",
       "    <tr>\n",
       "      <th>15</th>\n",
       "      <td>무부하매연판정6</td>\n",
       "      <td>1152689</td>\n",
       "      <td>278331</td>\n",
       "      <td>1</td>\n",
       "      <td>20658</td>\n",
       "      <td>1</td>\n",
       "      <td>0</td>\n",
       "      <td>1115337</td>\n",
       "      <td>29745</td>\n",
       "      <td>5</td>\n",
       "      <td>430</td>\n",
       "      <td>5</td>\n",
       "      <td>1</td>\n",
       "    </tr>\n",
       "    <tr>\n",
       "      <th>16</th>\n",
       "      <td>무부하매연측정치6</td>\n",
       "      <td>860557</td>\n",
       "      <td>278321</td>\n",
       "      <td>1</td>\n",
       "      <td>20658</td>\n",
       "      <td>1</td>\n",
       "      <td>0</td>\n",
       "      <td>982786</td>\n",
       "      <td>29737</td>\n",
       "      <td>4</td>\n",
       "      <td>430</td>\n",
       "      <td>5</td>\n",
       "      <td>1</td>\n",
       "    </tr>\n",
       "  </tbody>\n",
       "</table>\n",
       "</div>"
      ],
      "text/plain": [
       "          컬럼명   4등급_경유  4등급_휘발유  4등급_무동력  4등급_LPG(액화석유가스)  4등급_CNG(압축천연가스)  \\\n",
       "0        검사방법    44049   276732        0            20380                0   \n",
       "1        검사일자    44049   276732        0            20380                0   \n",
       "2        검사종류    44049   276732        0            20380                0   \n",
       "3      검사판정시각    52626   277303        0            20425                0   \n",
       "4        검사판정    44049   276732        0            20380                0   \n",
       "5    무부하매연판정1    52631   277835        1            20478                0   \n",
       "6   무부하매연측정치1    52626   277835        1            20478                0   \n",
       "7    무부하매연판정2  1108844   277856        1            20478                1   \n",
       "8   무부하매연측정치2   794728   277846        1            20478                1   \n",
       "9    무부하매연판정3  1109724   277856        1            20478                1   \n",
       "10  무부하매연측정치3   829071   277848        1            20478                1   \n",
       "11   무부하매연판정4  1109726   278331        1            20658                1   \n",
       "12  무부하매연측정치4   829073   278321        1            20658                1   \n",
       "13   무부하매연판정5  1109726   278331        1            20658                1   \n",
       "14  무부하매연측정치5   829073   278321        1            20658                1   \n",
       "15   무부하매연판정6  1152689   278331        1            20658                1   \n",
       "16  무부하매연측정치6   860557   278321        1            20658                1   \n",
       "\n",
       "    4등급_알코올   5등급_경유  5등급_휘발유  5등급_CNG(압축천연가스)  5등급_LPG(액화석유가스)  5등급_무동력  \\\n",
       "0         0   417784    29714                3              428        1   \n",
       "1         0   417784    29714                3              428        1   \n",
       "2         0   417784    29714                3              428        1   \n",
       "3         0   423735    29718                3              428        1   \n",
       "4         0   417784    29714                3              428        1   \n",
       "5         0   423944    29725                3              428        3   \n",
       "6         0   423935    29725                3              428        3   \n",
       "7         0  1017451    29736                3              428        4   \n",
       "8         0   890190    29731                3              428        4   \n",
       "9         0  1017777    29736                3              428        4   \n",
       "10        0   909623    29733                3              428        4   \n",
       "11        0  1018120    29745                3              430        4   \n",
       "12        0   909965    29737                3              430        4   \n",
       "13        0  1018120    29745                3              430        4   \n",
       "14        0   909965    29737                3              430        4   \n",
       "15        0  1115337    29745                5              430        5   \n",
       "16        0   982786    29737                4              430        5   \n",
       "\n",
       "    5등급_알코올  \n",
       "0         1  \n",
       "1         1  \n",
       "2         1  \n",
       "3         1  \n",
       "4         1  \n",
       "5         1  \n",
       "6         1  \n",
       "7         1  \n",
       "8         1  \n",
       "9         1  \n",
       "10        1  \n",
       "11        1  \n",
       "12        1  \n",
       "13        1  \n",
       "14        1  \n",
       "15        1  \n",
       "16        1  "
      ]
     },
     "execution_count": 30,
     "metadata": {},
     "output_type": "execute_result"
    }
   ],
   "source": [
    "g45_miss = g4_miss.merge(g5_miss, on='컬럼명', how='left')\n",
    "g45_miss"
   ]
  },
  {
   "cell_type": "code",
   "execution_count": 31,
   "metadata": {},
   "outputs": [
    {
     "data": {
      "text/plain": [
       "'2023.02.22_PM.21.22.39'"
      ]
     },
     "execution_count": 31,
     "metadata": {},
     "output_type": "execute_result"
    }
   ],
   "source": [
    "today_date = datetime.today().strftime(\"%Y.%m.%d_%p.%H.%M.%S\")\n",
    "today_date"
   ]
  },
  {
   "cell_type": "code",
   "execution_count": 32,
   "metadata": {},
   "outputs": [],
   "source": [
    "g45_miss.to_excel(f'analysis2/4_5등급_검사_결측치_{today_date}.xlsx', index=False)"
   ]
  },
  {
   "attachments": {},
   "cell_type": "markdown",
   "metadata": {},
   "source": [
    "# 코드 마지막"
   ]
  }
 ],
 "metadata": {
  "kernelspec": {
   "display_name": "base",
   "language": "python",
   "name": "python3"
  },
  "language_info": {
   "codemirror_mode": {
    "name": "ipython",
    "version": 3
   },
   "file_extension": ".py",
   "mimetype": "text/x-python",
   "name": "python",
   "nbconvert_exporter": "python",
   "pygments_lexer": "ipython3",
   "version": "3.9.13"
  },
  "orig_nbformat": 4,
  "vscode": {
   "interpreter": {
    "hash": "ad2bdc8ecc057115af97d19610ffacc2b4e99fae6737bb82f5d7fb13d2f2c186"
   }
  }
 },
 "nbformat": 4,
 "nbformat_minor": 2
}
