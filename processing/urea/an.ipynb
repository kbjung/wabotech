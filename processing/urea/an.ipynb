{
 "cells": [
  {
   "cell_type": "code",
   "execution_count": 2,
   "metadata": {},
   "outputs": [],
   "source": [
    "import pandas as pd\n",
    "import numpy as np\n",
    "import os\n",
    "from datetime import datetime\n",
    "import pyexasol"
   ]
  },
  {
   "cell_type": "markdown",
   "metadata": {},
   "source": [
    "# fold"
   ]
  },
  {
   "cell_type": "code",
   "execution_count": 3,
   "metadata": {},
   "outputs": [
    {
     "data": {
      "text/plain": [
       "{'raw_fold': 'D:/data/processing/urea/raw',\n",
       " 'df_fold': 'D:/data/processing/urea/df',\n",
       " 'an_fold': 'D:/data/processing/urea/an'}"
      ]
     },
     "execution_count": 3,
     "metadata": {},
     "output_type": "execute_result"
    }
   ],
   "source": [
    "raw_fold = 'D:/data/processing/urea/raw'\n",
    "df_fold = 'D:/data/processing/urea/df'\n",
    "an_fold = 'D:/data/processing/urea/an'\n",
    "folds = {\n",
    "    'raw_fold':raw_fold, \n",
    "    'df_fold':df_fold, \n",
    "    'an_fold':an_fold, \n",
    "}\n",
    "folds"
   ]
  },
  {
   "cell_type": "markdown",
   "metadata": {},
   "source": [
    "# server"
   ]
  },
  {
   "cell_type": "code",
   "execution_count": 24,
   "metadata": {},
   "outputs": [],
   "source": [
    "wd = pyexasol.connect(dsn='dev.openankus.org:8563', user='sys', password='djslzja', compression=True, schema='VSYSD')"
   ]
  },
  {
   "cell_type": "markdown",
   "metadata": {},
   "source": [
    "# load"
   ]
  },
  {
   "cell_type": "markdown",
   "metadata": {},
   "source": [
    "## 등록제원 경유, 경유하이브리드"
   ]
  },
  {
   "cell_type": "code",
   "execution_count": 11,
   "metadata": {},
   "outputs": [
    {
     "name": "stdout",
     "output_type": "stream",
     "text": [
      "<class 'pandas.core.frame.DataFrame'>\n",
      "RangeIndex: 11905778 entries, 0 to 11905777\n",
      "Data columns (total 12 columns):\n",
      " #   Column    Dtype  \n",
      "---  ------    -----  \n",
      " 0   배출가스인증번호  object \n",
      " 1   배출가스등급    object \n",
      " 2   최초등록일자    object \n",
      " 3   차량말소유무    object \n",
      " 4   연식        int64  \n",
      " 5   차종        object \n",
      " 6   차대번호      object \n",
      " 7   엔진형식      object \n",
      " 8   연료        object \n",
      " 9   제작사명      object \n",
      " 10  총중량       float64\n",
      " 11  차명        object \n",
      "dtypes: float64(1), int64(1), object(10)\n",
      "memory usage: 1.1+ GB\n"
     ]
    }
   ],
   "source": [
    "# 1m 21.8s\n",
    "name = '경유_경유하이브리드_20231206'\n",
    "file_name = f'{name}.csv'\n",
    "ch_col = {\n",
    "    'VIN':'차대번호', \n",
    "    'EXHST_GAS_CERT_NO':'배출가스인증번호',\n",
    "    'YRIDNW':'연식', \n",
    "    'VHCTY_CD_x':'차종', \n",
    "    'FUEL_CD':'연료',\n",
    "    'VHCL_ERSR_YN':'차량말소유무',\n",
    "    'FRST_REG_YMD':'최초등록일자',\n",
    "    'EXHST_GAS_GRD_CD':'배출가스등급', \n",
    "    'MNFCTR_NM':'제작사명', \n",
    "    'EGIN_TY':'엔진형식', \n",
    "    'TOTL_WGHT':'총중량', \n",
    "    'VHCNM':'차명', \n",
    "    \n",
    "    # 'BSPL_STDG_CD':'법정동코드', \n",
    "    # 'MANP_MNG_NO':'제원관리번호', \n",
    "    # 'PURPS_CD2':'용도', \n",
    "    # 'VHCL_FBCTN_YMD':'제작일자', \n",
    "    # 'VHCL_MNG_NO':'차량관리번호', a\n",
    "    # 'VHRNO':'자동차등록번호',\n",
    "    # 'EXTGAS_INSP_VLD_YMD':'검사유효일',\n",
    "    # 'VHCL_OWNR_CL_CD':'소유자구분',  \n",
    "}\n",
    "cs = pd.read_csv(os.path.join(raw_fold, file_name), low_memory=False, usecols=ch_col.keys())\n",
    "# cs = pd.read_csv(os.path.join(raw_fold, file_name), low_memory=False, nrows=10)\n",
    "csr = cs.rename(columns=ch_col)\n",
    "csr.info()"
   ]
  },
  {
   "cell_type": "code",
   "execution_count": 12,
   "metadata": {},
   "outputs": [
    {
     "data": {
      "text/plain": [
       "0"
      ]
     },
     "execution_count": 12,
     "metadata": {},
     "output_type": "execute_result"
    }
   ],
   "source": [
    "csr['차명'].isnull().sum()"
   ]
  },
  {
   "cell_type": "markdown",
   "metadata": {},
   "source": [
    "## 등록정보"
   ]
  },
  {
   "cell_type": "code",
   "execution_count": null,
   "metadata": {},
   "outputs": [],
   "source": [
    "# # 1m 21.8s\n",
    "# name = 'ods_ceg_car_mid'\n",
    "# file_name = f'{name}.csv'\n",
    "# # STD\n",
    "# ch_col = {\n",
    "#     'VIN':'차대번호', \n",
    "#     'EXHST_GAS_GRD_CD':'배출가스등급', \n",
    "#     'EXHST_GAS_CERT_NO':'배출가스인증번호',\n",
    "#     'VHCL_ERSR_YN':'차량말소유무',\n",
    "#     'MANP_MNG_NO':'제원관리번호', \n",
    "#     'YRIDNW':'연식', \n",
    "#     'VHCTY_CD':'차종', \n",
    "#     'PURPS_CD2':'용도', \n",
    "#     'FRST_REG_YMD':'최초등록일자',\n",
    "\n",
    "#     # 'BSPL_STDG_CD':'법정동코드', \n",
    "#     # 'VHRNO':'자동차등록번호',\n",
    "#     # 'VHCL_FBCTN_YMD':'제작일자', \n",
    "#     # 'VHCL_MNG_NO':'차량관리번호', \n",
    "#     # 'EXTGAS_INSP_VLD_YMD':'검사유효일',\n",
    "#     # 'VHCL_OWNR_CL_CD':'소유자구분', \n",
    "# }\n",
    "\n",
    "# # ODS\n",
    "# ch_col = {\n",
    "#     'VIN':'차대번호', \n",
    "#     'EMIS_GRD':'배출가스등급', \n",
    "#     'EMIS_CRTCNO':'배출가스인증번호',\n",
    "#     'VHCL_ERSR_YN':'차량말소유무',\n",
    "#     'SRCMNNO':'제원관리번호', \n",
    "#     'VHCL_YRIDNW':'연식', \n",
    "#     'VHCTY':'차종', \n",
    "#     'PURPS':'용도', \n",
    "#     'FST_REG_DE':'최초등록일자',\n",
    "\n",
    "#     # 'BSPL_LEDO_CD':'법정동코드', \n",
    "#     # 'VHRNO':'자동차등록번호',\n",
    "#     # 'VHCL_MNFCT_DE':'제작일자', \n",
    "#     # 'VHMNO':'차량관리번호', \n",
    "#     # 'EMIS_INSP_EFCT_DE':'검사유효일',\n",
    "#     # 'OWNR_SE':'소유자구분', \n",
    "# }\n",
    "# car = pd.read_csv(os.path.join(raw_fold, file_name), low_memory=False, usecols=ch_col.keys())\n",
    "# carr = car.rename(columns=ch_col)\n",
    "# carr.info()"
   ]
  },
  {
   "cell_type": "code",
   "execution_count": 149,
   "metadata": {},
   "outputs": [
    {
     "data": {
      "text/plain": [
       "Index(['배출가스인증번호', '배출가스등급', '최초등록일자', '차량말소유무', '연식', '차종', '차대번호', '엔진형식',\n",
       "       '연료', '제작사명', '총중량'],\n",
       "      dtype='object')"
      ]
     },
     "execution_count": 149,
     "metadata": {},
     "output_type": "execute_result"
    }
   ],
   "source": [
    "# carr.columns"
   ]
  },
  {
   "cell_type": "code",
   "execution_count": 13,
   "metadata": {},
   "outputs": [
    {
     "data": {
      "text/plain": [
       "array(['A0505', 'A0503', 'A0504', nan], dtype=object)"
      ]
     },
     "execution_count": 13,
     "metadata": {},
     "output_type": "execute_result"
    }
   ],
   "source": [
    "csr['배출가스등급'].unique()"
   ]
  },
  {
   "cell_type": "code",
   "execution_count": 14,
   "metadata": {},
   "outputs": [
    {
     "data": {
      "text/plain": [
       "array(['5', '3', '4', nan], dtype=object)"
      ]
     },
     "execution_count": 14,
     "metadata": {},
     "output_type": "execute_result"
    }
   ],
   "source": [
    "## 배출가스등급 코드 변환\n",
    "grd_dict = {\n",
    "    'A0501':'1', \n",
    "    'A0502':'2', \n",
    "    'A0503':'3', \n",
    "    'A0504':'4', \n",
    "    'A0505':'5', \n",
    "    'A05T2':'2',\n",
    "    'A05T3':'3', \n",
    "    'A05T4':'4', \n",
    "    'A05T5':'5', \n",
    "    'A05X':'X', \n",
    "}\n",
    "csr['배출가스등급'] = csr['배출가스등급'].replace(grd_dict)\n",
    "csr['배출가스등급'].unique()"
   ]
  },
  {
   "cell_type": "code",
   "execution_count": 15,
   "metadata": {},
   "outputs": [
    {
     "data": {
      "text/plain": [
       "array(['화물', '승용', '승합', '특수'], dtype=object)"
      ]
     },
     "execution_count": 15,
     "metadata": {},
     "output_type": "execute_result"
    }
   ],
   "source": [
    "# 4.0s\n",
    "## 차종 코드 변환\n",
    "cd_dict = {\n",
    "    'A31M':'이륜', \n",
    "    'A31P':'승용', \n",
    "    'A31S':'특수', \n",
    "    'A31T':'화물', \n",
    "    'A31V':'승합'\n",
    "}\n",
    "csr['차종'] = csr['차종'].replace(cd_dict)\n",
    "csr['차종'].unique()"
   ]
  },
  {
   "cell_type": "code",
   "execution_count": null,
   "metadata": {},
   "outputs": [],
   "source": [
    "# ## 용도 코드 변환\n",
    "# purps_dict = {\n",
    "#     'A08P':'개인용', \n",
    "#     'A08B':'영업용', \n",
    "#     'A08O':'관용',\n",
    "# }\n",
    "# csr['용도'] = csr['용도'].replace(purps_dict)\n",
    "# csr['용도'].unique()"
   ]
  },
  {
   "cell_type": "code",
   "execution_count": 17,
   "metadata": {},
   "outputs": [
    {
     "data": {
      "text/plain": [
       "(11905778, 12)"
      ]
     },
     "execution_count": 17,
     "metadata": {},
     "output_type": "execute_result"
    }
   ],
   "source": [
    "csr.shape"
   ]
  },
  {
   "cell_type": "code",
   "execution_count": 16,
   "metadata": {},
   "outputs": [
    {
     "data": {
      "text/plain": [
       "(11902152, 12)"
      ]
     },
     "execution_count": 16,
     "metadata": {},
     "output_type": "execute_result"
    }
   ],
   "source": [
    "# 차대번호 중복 제거\n",
    "csr['최초등록일자'] = pd.to_numeric(csr['최초등록일자'], errors='coerce')\n",
    "csr['최초등록일자'].dtype\n",
    "# 19.4s\n",
    "csrm = csr.sort_values('최초등록일자', ascending=False).drop_duplicates('차대번호').reset_index(drop=True)\n",
    "csrm.shape"
   ]
  },
  {
   "cell_type": "markdown",
   "metadata": {},
   "source": [
    "## 제원정보"
   ]
  },
  {
   "cell_type": "code",
   "execution_count": null,
   "metadata": {},
   "outputs": [],
   "source": [
    "# # 1m 21.8s\n",
    "# name = 'ods_ceg_car_src_mig'\n",
    "# file_name = f'{name}.csv'\n",
    "# # STD\n",
    "# ch_col = {\n",
    "#     'MANP_MNG_NO':'제원관리번호', \n",
    "#     'FUEL_CD':'연료',\n",
    "#     'VHCTY_TY_CD2':'차종유형', \n",
    "#     'MNFCTR_NM':'제작사명', \n",
    "#     'VHCNM':'차명', \n",
    "#     'VHCL_FRM':'자동차형식', \n",
    "#     'EGIN_TY':'엔진형식', \n",
    "#     'TOTL_WGHT':'총중량',\n",
    "\n",
    "#     # 'VHCTY_CL_CD':'차종분류',\n",
    "#     # 'CRYNG_WGHT':'적재중량',\n",
    "#     # 'DSPLVL':'배기량', \n",
    "#     # 'EGIN_OTPT':'엔진출력', \n",
    "# }\n",
    "\n",
    "# # ODS\n",
    "# ch_col = {\n",
    "#     'SRCMNNO':'제원관리번호', \n",
    "#     'FUEL':'연료',\n",
    "#     'VHCTY_TY':'차종유형', \n",
    "#     'MKR_NM':'제작사명', \n",
    "#     'VHCNM':'차명', \n",
    "#     'CAR_FRM':'자동차형식', \n",
    "#     'EGINTY':'엔진형식', \n",
    "#     'TOT_WGHT':'총중량',\n",
    "\n",
    "#     # 'VHCTY_CL':'차종분류',\n",
    "#     # 'CRYNG_WGHT':'적재중량',\n",
    "#     # 'DSPLVL':'배기량', \n",
    "#     # 'EGINPWR':'엔진출력', \n",
    "# }\n",
    "# src = pd.read_csv(os.path.join(raw_fold, file_name), low_memory=False, usecols=ch_col.keys())\n",
    "# srcr = src.rename(columns=ch_col)\n",
    "# srcr.info()"
   ]
  },
  {
   "cell_type": "code",
   "execution_count": 18,
   "metadata": {},
   "outputs": [
    {
     "data": {
      "text/plain": [
       "array(['경유', '경유 하이브리드'], dtype=object)"
      ]
     },
     "execution_count": 18,
     "metadata": {},
     "output_type": "execute_result"
    }
   ],
   "source": [
    "# 7.9s\n",
    "## 연료 코드 변환\n",
    "fuel_dict = {\n",
    "    'A90GS':'휘발유', \n",
    "    'A91DS':'경유',\n",
    "    'A92LP':'LPG(액화석유가스)', \n",
    "    'A90GH':'휘발유 하이브리드', \n",
    "    'A93EV':'전기', \n",
    "    'A91DH':'경유 하이브리드', \n",
    "    'A92CN':'CNG(압축천연가스)', \n",
    "    'A93HD':'수소', \n",
    "    'A92LH':'LPG 하이브리드', \n",
    "    'A94OT':'기타연료', \n",
    "    'A92CH':'CNG 하이브리드',\n",
    "    'A90AC':'알코올', \n",
    "    'A93SH':'태양열', \n",
    "    'A91KS':'등유', \n",
    "    'A92LN':'LNG(액화천연가스)', \n",
    "    'A90PH':'플러그인 하이브리드', \n",
    "}\n",
    "csrm['연료'] = csrm['연료'].replace(fuel_dict)\n",
    "csrm['연료'].unique()"
   ]
  },
  {
   "cell_type": "code",
   "execution_count": null,
   "metadata": {},
   "outputs": [],
   "source": [
    "# ## 차종유형 코드 변환\n",
    "# ty_dict = {\n",
    "#     'A30C':'경형', \n",
    "#     'A30L':'대형', \n",
    "#     'A30M':'중형', \n",
    "#     'A30S':'소형',\n",
    "# }\n",
    "# csrm['차종유형'] = csrm['차종유형'].replace(ty_dict)"
   ]
  },
  {
   "cell_type": "markdown",
   "metadata": {},
   "source": [
    "## 등록&제원 병합"
   ]
  },
  {
   "cell_type": "code",
   "execution_count": null,
   "metadata": {},
   "outputs": [],
   "source": [
    "# srcr.shape, len(srcr['제원관리번호'].unique())"
   ]
  },
  {
   "cell_type": "code",
   "execution_count": null,
   "metadata": {},
   "outputs": [],
   "source": [
    "# carm.shape, len(carm['차대번호'].unique())"
   ]
  },
  {
   "cell_type": "code",
   "execution_count": null,
   "metadata": {},
   "outputs": [],
   "source": [
    "# cs = carm.merge(srcr, on='제원관리번호', how='left')\n",
    "# cs.shape"
   ]
  },
  {
   "cell_type": "markdown",
   "metadata": {},
   "source": [
    "## 경유차량, 말소제거, 중복차대 제거"
   ]
  },
  {
   "cell_type": "code",
   "execution_count": 20,
   "metadata": {},
   "outputs": [
    {
     "data": {
      "text/plain": [
       "(11902152, 12)"
      ]
     },
     "execution_count": 20,
     "metadata": {},
     "output_type": "execute_result"
    }
   ],
   "source": [
    "csrm.shape"
   ]
  },
  {
   "cell_type": "code",
   "execution_count": 21,
   "metadata": {},
   "outputs": [
    {
     "data": {
      "text/plain": [
       "(11902152, 12)"
      ]
     },
     "execution_count": 21,
     "metadata": {},
     "output_type": "execute_result"
    }
   ],
   "source": [
    "# 차대번호 중복 제거\n",
    "csrm['최초등록일자'] = pd.to_numeric(csrm['최초등록일자'], errors='coerce')\n",
    "csrm['최초등록일자'].dtype\n",
    "# 19.4s\n",
    "csrm = csrm.sort_values('최초등록일자', ascending=False).drop_duplicates('차대번호').reset_index(drop=True)\n",
    "csrm.shape"
   ]
  },
  {
   "cell_type": "code",
   "execution_count": 22,
   "metadata": {},
   "outputs": [
    {
     "data": {
      "text/plain": [
       "(9533735, 12)"
      ]
     },
     "execution_count": 22,
     "metadata": {},
     "output_type": "execute_result"
    }
   ],
   "source": [
    "# 5.0s\n",
    "csm = csrm[(csrm['연료'] == '경유') & (csrm['차량말소유무'] == 'N')].reset_index(drop=True)\n",
    "csm.shape"
   ]
  },
  {
   "cell_type": "markdown",
   "metadata": {},
   "source": [
    "## 저감장치 부착이력"
   ]
  },
  {
   "cell_type": "code",
   "execution_count": 27,
   "metadata": {},
   "outputs": [
    {
     "name": "stdout",
     "output_type": "stream",
     "text": [
      "Index(['차대번호', '저감장치구분'], dtype='object')\n",
      "data load : STD_DLM_TB_ERP_ATT_HIS\n"
     ]
    }
   ],
   "source": [
    "# 3.0s\n",
    "att = wd.export_to_pandas(\"SELECT VIN, RDCDVC_SE_CD FROM STD_DLM_TB_ERP_ATT_HIS;\")\n",
    "# STD\n",
    "att_ch_col = {\n",
    "    'VIN':'차대번호', \n",
    "    'RDCDVC_SE_CD':'저감장치구분',\n",
    "    # 'RDCDVC_KND_CD':'저감장치종류',\n",
    "}\n",
    "\n",
    "# # ODS\n",
    "# att_ch_col = {\n",
    "#     'VIN':'차대번호', \n",
    "#     'RDCDVC_SE':'저감장치구분',\n",
    "#     # 'RDCDVC_KND':'저감장치종류',\n",
    "# }\n",
    "attr = att.rename(columns=att_ch_col)\n",
    "print(attr.columns)\n",
    "print('data load : STD_DLM_TB_ERP_ATT_HIS')"
   ]
  },
  {
   "cell_type": "code",
   "execution_count": 28,
   "metadata": {},
   "outputs": [
    {
     "data": {
      "text/plain": [
       "array(['1종', '3종', '엔진개조', '2종', '엔진교체', '삼원촉매', '1종+SCR'], dtype=object)"
      ]
     },
     "execution_count": 28,
     "metadata": {},
     "output_type": "execute_result"
    }
   ],
   "source": [
    "rdcdvc_dict = {\n",
    "    'A1001':'1종', \n",
    "    'A1002':'2종', \n",
    "    'A1003':'3종', \n",
    "    'A1004':'1종+SCR', \n",
    "    'A1005':'엔진개조', \n",
    "    'A1006':'엔진교체',\n",
    "    'A1007':'삼원촉매',\n",
    "}\n",
    "attr['저감장치구분'] = attr['저감장치구분'].replace(rdcdvc_dict)\n",
    "attr['저감장치구분'].unique()"
   ]
  },
  {
   "cell_type": "code",
   "execution_count": 29,
   "metadata": {},
   "outputs": [
    {
     "data": {
      "text/plain": [
       "((1015941, 2), 1014369)"
      ]
     },
     "execution_count": 29,
     "metadata": {},
     "output_type": "execute_result"
    }
   ],
   "source": [
    "attr.shape, len(attr['차대번호'].unique())"
   ]
  },
  {
   "cell_type": "code",
   "execution_count": 30,
   "metadata": {},
   "outputs": [
    {
     "data": {
      "text/plain": [
       "['1종', '1종+SCR', '2종', '3종', '삼원촉매', '엔진개조', '엔진교체']"
      ]
     },
     "execution_count": 30,
     "metadata": {},
     "output_type": "execute_result"
    }
   ],
   "source": [
    "sorted(['1종', '3종', '엔진개조', '2종', '엔진교체', '삼원촉매', '1종+SCR'])"
   ]
  },
  {
   "cell_type": "code",
   "execution_count": 31,
   "metadata": {},
   "outputs": [
    {
     "data": {
      "text/html": [
       "<div>\n",
       "<style scoped>\n",
       "    .dataframe tbody tr th:only-of-type {\n",
       "        vertical-align: middle;\n",
       "    }\n",
       "\n",
       "    .dataframe tbody tr th {\n",
       "        vertical-align: top;\n",
       "    }\n",
       "\n",
       "    .dataframe thead th {\n",
       "        text-align: right;\n",
       "    }\n",
       "</style>\n",
       "<table border=\"1\" class=\"dataframe\">\n",
       "  <thead>\n",
       "    <tr style=\"text-align: right;\">\n",
       "      <th></th>\n",
       "      <th>차대번호</th>\n",
       "      <th>저감장치구분</th>\n",
       "    </tr>\n",
       "  </thead>\n",
       "  <tbody>\n",
       "    <tr>\n",
       "      <th>0</th>\n",
       "      <td>KL2UR52FDXP016197</td>\n",
       "      <td>1종</td>\n",
       "    </tr>\n",
       "    <tr>\n",
       "      <th>719750</th>\n",
       "      <td>KMFWVH7HP6U730861</td>\n",
       "      <td>1종</td>\n",
       "    </tr>\n",
       "    <tr>\n",
       "      <th>719751</th>\n",
       "      <td>KMFLA18EP7C019574</td>\n",
       "      <td>1종</td>\n",
       "    </tr>\n",
       "    <tr>\n",
       "      <th>719752</th>\n",
       "      <td>KMFLA18EP7C026572</td>\n",
       "      <td>1종</td>\n",
       "    </tr>\n",
       "    <tr>\n",
       "      <th>719754</th>\n",
       "      <td>KMFWVH7JP5U647739</td>\n",
       "      <td>1종</td>\n",
       "    </tr>\n",
       "  </tbody>\n",
       "</table>\n",
       "</div>"
      ],
      "text/plain": [
       "                     차대번호 저감장치구분\n",
       "0       KL2UR52FDXP016197     1종\n",
       "719750  KMFWVH7HP6U730861     1종\n",
       "719751  KMFLA18EP7C019574     1종\n",
       "719752  KMFLA18EP7C026572     1종\n",
       "719754  KMFWVH7JP5U647739     1종"
      ]
     },
     "execution_count": 31,
     "metadata": {},
     "output_type": "execute_result"
    }
   ],
   "source": [
    "attr.sort_values('저감장치구분').head()"
   ]
  },
  {
   "cell_type": "code",
   "execution_count": 32,
   "metadata": {},
   "outputs": [
    {
     "data": {
      "text/plain": [
       "(1014369, 2)"
      ]
     },
     "execution_count": 32,
     "metadata": {},
     "output_type": "execute_result"
    }
   ],
   "source": [
    "# 차대번호 중복 제거\n",
    "attm = attr.sort_values('저감장치구분').drop_duplicates('차대번호').reset_index(drop=True)\n",
    "attm.shape"
   ]
  },
  {
   "cell_type": "markdown",
   "metadata": {},
   "source": [
    "## 인증대장"
   ]
  },
  {
   "cell_type": "code",
   "execution_count": 33,
   "metadata": {},
   "outputs": [
    {
     "name": "stdout",
     "output_type": "stream",
     "text": [
      "<class 'pandas.core.frame.DataFrame'>\n",
      "RangeIndex: 43 entries, 0 to 42\n",
      "Data columns (total 15 columns):\n",
      " #   Column      Non-Null Count  Dtype  \n",
      "---  ------      --------------  -----  \n",
      " 0   제작사         42 non-null     object \n",
      " 1   차명          42 non-null     object \n",
      " 2   자동차형식       42 non-null     object \n",
      " 3   엔진형식        42 non-null     object \n",
      " 4   배기량         42 non-null     float64\n",
      " 5   최대출력        43 non-null     object \n",
      " 6   Unnamed: 6  43 non-null     object \n",
      " 7   변속기         42 non-null     object \n",
      " 8   총중량         42 non-null     object \n",
      " 9   공차중량        42 non-null     object \n",
      " 10  제작사.1       42 non-null     object \n",
      " 11  제작국         42 non-null     object \n",
      " 12  인증번호        43 non-null     object \n",
      " 13  인증일자        43 non-null     object \n",
      " 14  비고          42 non-null     object \n",
      "dtypes: float64(1), object(14)\n",
      "memory usage: 5.2+ KB\n"
     ]
    }
   ],
   "source": [
    "name = '인증대장(대형)_SCR_적용차종(EURO 4, 5)'\n",
    "file_name = f'{name}.xlsx'\n",
    "l45 = pd.read_excel(os.path.join(raw_fold, file_name))\n",
    "l45.info()"
   ]
  },
  {
   "cell_type": "code",
   "execution_count": 34,
   "metadata": {},
   "outputs": [
    {
     "data": {
      "text/plain": [
       "Index(['제작사1', '차명', '자동차형식', '엔진형식', '배기량', '최대출력_PS', '최대출력_RPM', '변속기',\n",
       "       '총중량', '공차중량', '제작사2', '제작국', '인증번호', '인증일자', '비고'],\n",
       "      dtype='object')"
      ]
     },
     "execution_count": 34,
     "metadata": {},
     "output_type": "execute_result"
    }
   ],
   "source": [
    "l45_col = [\n",
    "    '제작사1',\n",
    "    '차명',\n",
    "    '자동차형식',\n",
    "    '엔진형식',\n",
    "    '배기량',\n",
    "    '최대출력_PS',\n",
    "    '최대출력_RPM',\n",
    "    '변속기',\n",
    "    '총중량',\n",
    "    '공차중량',\n",
    "    '제작사2',\n",
    "    '제작국',\n",
    "    '인증번호',\n",
    "    '인증일자',\n",
    "    '비고',\n",
    "]\n",
    "l45.columns = l45_col\n",
    "l45.columns"
   ]
  },
  {
   "cell_type": "code",
   "execution_count": 35,
   "metadata": {},
   "outputs": [
    {
     "data": {
      "text/plain": [
       "(43, 15)"
      ]
     },
     "execution_count": 35,
     "metadata": {},
     "output_type": "execute_result"
    }
   ],
   "source": [
    "l45.shape"
   ]
  },
  {
   "cell_type": "code",
   "execution_count": 36,
   "metadata": {},
   "outputs": [
    {
     "data": {
      "text/html": [
       "<div>\n",
       "<style scoped>\n",
       "    .dataframe tbody tr th:only-of-type {\n",
       "        vertical-align: middle;\n",
       "    }\n",
       "\n",
       "    .dataframe tbody tr th {\n",
       "        vertical-align: top;\n",
       "    }\n",
       "\n",
       "    .dataframe thead th {\n",
       "        text-align: right;\n",
       "    }\n",
       "</style>\n",
       "<table border=\"1\" class=\"dataframe\">\n",
       "  <thead>\n",
       "    <tr style=\"text-align: right;\">\n",
       "      <th></th>\n",
       "      <th>제작사1</th>\n",
       "      <th>차명</th>\n",
       "      <th>자동차형식</th>\n",
       "      <th>엔진형식</th>\n",
       "      <th>배기량</th>\n",
       "      <th>최대출력_PS</th>\n",
       "      <th>최대출력_RPM</th>\n",
       "      <th>변속기</th>\n",
       "      <th>총중량</th>\n",
       "      <th>공차중량</th>\n",
       "      <th>제작사2</th>\n",
       "      <th>제작국</th>\n",
       "      <th>인증번호</th>\n",
       "      <th>인증일자</th>\n",
       "      <th>비고</th>\n",
       "    </tr>\n",
       "  </thead>\n",
       "  <tbody>\n",
       "    <tr>\n",
       "      <th>0</th>\n",
       "      <td>NaN</td>\n",
       "      <td>NaN</td>\n",
       "      <td>NaN</td>\n",
       "      <td>NaN</td>\n",
       "      <td>NaN</td>\n",
       "      <td>PS</td>\n",
       "      <td>RPM</td>\n",
       "      <td>NaN</td>\n",
       "      <td>NaN</td>\n",
       "      <td>NaN</td>\n",
       "      <td>NaN</td>\n",
       "      <td>NaN</td>\n",
       "      <td>배출</td>\n",
       "      <td>배출</td>\n",
       "      <td>NaN</td>\n",
       "    </tr>\n",
       "    <tr>\n",
       "      <th>1</th>\n",
       "      <td>현대자동차</td>\n",
       "      <td>현대25.5톤덤프트럭</td>\n",
       "      <td>HD255-YDU0-DHECA</td>\n",
       "      <td>D6CE</td>\n",
       "      <td>12742.0</td>\n",
       "      <td>520</td>\n",
       "      <td>1700</td>\n",
       "      <td>자동12단</td>\n",
       "      <td>38730</td>\n",
       "      <td>13230</td>\n",
       "      <td>현대자동차</td>\n",
       "      <td>한국</td>\n",
       "      <td>AMY-HD-14-35</td>\n",
       "      <td>2010-07-19 00:00:00</td>\n",
       "      <td>유로5</td>\n",
       "    </tr>\n",
       "    <tr>\n",
       "      <th>2</th>\n",
       "      <td>타타대우</td>\n",
       "      <td>대우25톤장축카고트럭</td>\n",
       "      <td>BT9CC1</td>\n",
       "      <td>DV11</td>\n",
       "      <td>10964.0</td>\n",
       "      <td>440</td>\n",
       "      <td>1900</td>\n",
       "      <td>수동16단</td>\n",
       "      <td>38800</td>\n",
       "      <td>13670</td>\n",
       "      <td>타타대우상용차</td>\n",
       "      <td>한국</td>\n",
       "      <td>7MY-DC-23-70</td>\n",
       "      <td>2007-12-18 00:00:00</td>\n",
       "      <td>유로4</td>\n",
       "    </tr>\n",
       "    <tr>\n",
       "      <th>3</th>\n",
       "      <td>타타대우</td>\n",
       "      <td>대우5톤초장축카고트럭</td>\n",
       "      <td>BC4AH1</td>\n",
       "      <td>F4AE3681D</td>\n",
       "      <td>5880.0</td>\n",
       "      <td>251</td>\n",
       "      <td>2700</td>\n",
       "      <td>수동6단</td>\n",
       "      <td>11415</td>\n",
       "      <td>6285</td>\n",
       "      <td>타타대우상용차</td>\n",
       "      <td>한국</td>\n",
       "      <td>7MY-DC-23-72</td>\n",
       "      <td>2007-12-18 00:00:00</td>\n",
       "      <td>유로4</td>\n",
       "    </tr>\n",
       "    <tr>\n",
       "      <th>4</th>\n",
       "      <td>타타대우</td>\n",
       "      <td>대우5톤초장축카고트럭</td>\n",
       "      <td>BC4AT1</td>\n",
       "      <td>DL06</td>\n",
       "      <td>5890.0</td>\n",
       "      <td>270</td>\n",
       "      <td>2500</td>\n",
       "      <td>수동6단</td>\n",
       "      <td>11500</td>\n",
       "      <td>6370</td>\n",
       "      <td>타타대우상용차</td>\n",
       "      <td>한국</td>\n",
       "      <td>8MY-DC-24-12</td>\n",
       "      <td>2008-05-21 00:00:00</td>\n",
       "      <td>유로4</td>\n",
       "    </tr>\n",
       "  </tbody>\n",
       "</table>\n",
       "</div>"
      ],
      "text/plain": [
       "    제작사1           차명             자동차형식       엔진형식      배기량 최대출력_PS 최대출력_RPM  \\\n",
       "0    NaN          NaN               NaN        NaN      NaN      PS      RPM   \n",
       "1  현대자동차  현대25.5톤덤프트럭  HD255-YDU0-DHECA       D6CE  12742.0     520     1700   \n",
       "2   타타대우  대우25톤장축카고트럭            BT9CC1       DV11  10964.0     440     1900   \n",
       "3   타타대우  대우5톤초장축카고트럭            BC4AH1  F4AE3681D   5880.0     251     2700   \n",
       "4   타타대우  대우5톤초장축카고트럭            BC4AT1       DL06   5890.0     270     2500   \n",
       "\n",
       "     변속기    총중량   공차중량     제작사2  제작국          인증번호                 인증일자   비고  \n",
       "0    NaN    NaN    NaN      NaN  NaN            배출                   배출  NaN  \n",
       "1  자동12단  38730  13230    현대자동차   한국  AMY-HD-14-35  2010-07-19 00:00:00  유로5  \n",
       "2  수동16단  38800  13670  타타대우상용차   한국  7MY-DC-23-70  2007-12-18 00:00:00  유로4  \n",
       "3   수동6단  11415   6285  타타대우상용차   한국  7MY-DC-23-72  2007-12-18 00:00:00  유로4  \n",
       "4   수동6단  11500   6370  타타대우상용차   한국  8MY-DC-24-12  2008-05-21 00:00:00  유로4  "
      ]
     },
     "execution_count": 36,
     "metadata": {},
     "output_type": "execute_result"
    }
   ],
   "source": [
    "l45.head()"
   ]
  },
  {
   "cell_type": "code",
   "execution_count": 37,
   "metadata": {},
   "outputs": [
    {
     "data": {
      "text/html": [
       "<div>\n",
       "<style scoped>\n",
       "    .dataframe tbody tr th:only-of-type {\n",
       "        vertical-align: middle;\n",
       "    }\n",
       "\n",
       "    .dataframe tbody tr th {\n",
       "        vertical-align: top;\n",
       "    }\n",
       "\n",
       "    .dataframe thead th {\n",
       "        text-align: right;\n",
       "    }\n",
       "</style>\n",
       "<table border=\"1\" class=\"dataframe\">\n",
       "  <thead>\n",
       "    <tr style=\"text-align: right;\">\n",
       "      <th></th>\n",
       "      <th>제작사1</th>\n",
       "      <th>차명</th>\n",
       "      <th>자동차형식</th>\n",
       "      <th>엔진형식</th>\n",
       "      <th>배기량</th>\n",
       "      <th>최대출력_PS</th>\n",
       "      <th>최대출력_RPM</th>\n",
       "      <th>변속기</th>\n",
       "      <th>총중량</th>\n",
       "      <th>공차중량</th>\n",
       "      <th>제작사2</th>\n",
       "      <th>제작국</th>\n",
       "      <th>인증번호</th>\n",
       "      <th>인증일자</th>\n",
       "      <th>비고</th>\n",
       "    </tr>\n",
       "  </thead>\n",
       "  <tbody>\n",
       "    <tr>\n",
       "      <th>0</th>\n",
       "      <td>현대자동차</td>\n",
       "      <td>현대25.5톤덤프트럭</td>\n",
       "      <td>HD255-YDU0-DHECA</td>\n",
       "      <td>D6CE</td>\n",
       "      <td>12742.0</td>\n",
       "      <td>520</td>\n",
       "      <td>1700</td>\n",
       "      <td>자동12단</td>\n",
       "      <td>38730</td>\n",
       "      <td>13230</td>\n",
       "      <td>현대자동차</td>\n",
       "      <td>한국</td>\n",
       "      <td>AMY-HD-14-35</td>\n",
       "      <td>2010-07-19 00:00:00</td>\n",
       "      <td>유로5</td>\n",
       "    </tr>\n",
       "    <tr>\n",
       "      <th>1</th>\n",
       "      <td>타타대우</td>\n",
       "      <td>대우25톤장축카고트럭</td>\n",
       "      <td>BT9CC1</td>\n",
       "      <td>DV11</td>\n",
       "      <td>10964.0</td>\n",
       "      <td>440</td>\n",
       "      <td>1900</td>\n",
       "      <td>수동16단</td>\n",
       "      <td>38800</td>\n",
       "      <td>13670</td>\n",
       "      <td>타타대우상용차</td>\n",
       "      <td>한국</td>\n",
       "      <td>7MY-DC-23-70</td>\n",
       "      <td>2007-12-18 00:00:00</td>\n",
       "      <td>유로4</td>\n",
       "    </tr>\n",
       "    <tr>\n",
       "      <th>2</th>\n",
       "      <td>타타대우</td>\n",
       "      <td>대우5톤초장축카고트럭</td>\n",
       "      <td>BC4AH1</td>\n",
       "      <td>F4AE3681D</td>\n",
       "      <td>5880.0</td>\n",
       "      <td>251</td>\n",
       "      <td>2700</td>\n",
       "      <td>수동6단</td>\n",
       "      <td>11415</td>\n",
       "      <td>6285</td>\n",
       "      <td>타타대우상용차</td>\n",
       "      <td>한국</td>\n",
       "      <td>7MY-DC-23-72</td>\n",
       "      <td>2007-12-18 00:00:00</td>\n",
       "      <td>유로4</td>\n",
       "    </tr>\n",
       "    <tr>\n",
       "      <th>3</th>\n",
       "      <td>타타대우</td>\n",
       "      <td>대우5톤초장축카고트럭</td>\n",
       "      <td>BC4AT1</td>\n",
       "      <td>DL06</td>\n",
       "      <td>5890.0</td>\n",
       "      <td>270</td>\n",
       "      <td>2500</td>\n",
       "      <td>수동6단</td>\n",
       "      <td>11500</td>\n",
       "      <td>6370</td>\n",
       "      <td>타타대우상용차</td>\n",
       "      <td>한국</td>\n",
       "      <td>8MY-DC-24-12</td>\n",
       "      <td>2008-05-21 00:00:00</td>\n",
       "      <td>유로4</td>\n",
       "    </tr>\n",
       "    <tr>\n",
       "      <th>4</th>\n",
       "      <td>타타대우</td>\n",
       "      <td>대우트랙터</td>\n",
       "      <td>EX3TX2</td>\n",
       "      <td>F3BE3681B</td>\n",
       "      <td>12882.0</td>\n",
       "      <td>560</td>\n",
       "      <td>1900</td>\n",
       "      <td>자동12단</td>\n",
       "      <td>26020</td>\n",
       "      <td>8810</td>\n",
       "      <td>타타대우상용차</td>\n",
       "      <td>한국</td>\n",
       "      <td>8MY-DC-24-15</td>\n",
       "      <td>2008-06-30 00:00:00</td>\n",
       "      <td>유로4</td>\n",
       "    </tr>\n",
       "  </tbody>\n",
       "</table>\n",
       "</div>"
      ],
      "text/plain": [
       "    제작사1           차명             자동차형식       엔진형식      배기량 최대출력_PS 최대출력_RPM  \\\n",
       "0  현대자동차  현대25.5톤덤프트럭  HD255-YDU0-DHECA       D6CE  12742.0     520     1700   \n",
       "1   타타대우  대우25톤장축카고트럭            BT9CC1       DV11  10964.0     440     1900   \n",
       "2   타타대우  대우5톤초장축카고트럭            BC4AH1  F4AE3681D   5880.0     251     2700   \n",
       "3   타타대우  대우5톤초장축카고트럭            BC4AT1       DL06   5890.0     270     2500   \n",
       "4   타타대우        대우트랙터            EX3TX2  F3BE3681B  12882.0     560     1900   \n",
       "\n",
       "     변속기    총중량   공차중량     제작사2 제작국          인증번호                 인증일자   비고  \n",
       "0  자동12단  38730  13230    현대자동차  한국  AMY-HD-14-35  2010-07-19 00:00:00  유로5  \n",
       "1  수동16단  38800  13670  타타대우상용차  한국  7MY-DC-23-70  2007-12-18 00:00:00  유로4  \n",
       "2   수동6단  11415   6285  타타대우상용차  한국  7MY-DC-23-72  2007-12-18 00:00:00  유로4  \n",
       "3   수동6단  11500   6370  타타대우상용차  한국  8MY-DC-24-12  2008-05-21 00:00:00  유로4  \n",
       "4  자동12단  26020   8810  타타대우상용차  한국  8MY-DC-24-15  2008-06-30 00:00:00  유로4  "
      ]
     },
     "execution_count": 37,
     "metadata": {},
     "output_type": "execute_result"
    }
   ],
   "source": [
    "l45 = l45.iloc[1:].reset_index(drop=True)\n",
    "l45.head()"
   ]
  },
  {
   "cell_type": "code",
   "execution_count": 38,
   "metadata": {},
   "outputs": [
    {
     "name": "stdout",
     "output_type": "stream",
     "text": [
      "<class 'pandas.core.frame.DataFrame'>\n",
      "RangeIndex: 21 entries, 0 to 20\n",
      "Data columns (total 19 columns):\n",
      " #   Column       Non-Null Count  Dtype \n",
      "---  ------       --------------  ----- \n",
      " 0   No           21 non-null     int64 \n",
      " 1   제작사          21 non-null     object\n",
      " 2   인증번호         21 non-null     object\n",
      " 3   인증일자         21 non-null     object\n",
      " 4   차명           21 non-null     object\n",
      " 5   차종           21 non-null     object\n",
      " 6   차형식          21 non-null     object\n",
      " 7   엔진형식         21 non-null     object\n",
      " 8   배기량          21 non-null     int64 \n",
      " 9   변속기          21 non-null     object\n",
      " 10  최대출력         21 non-null     int64 \n",
      " 11  Unnamed: 11  21 non-null     int64 \n",
      " 12  총중량          21 non-null     object\n",
      " 13  공차중량         21 non-null     object\n",
      " 14  제작국          21 non-null     object\n",
      " 15  사용연료         21 non-null     object\n",
      " 16  배출기준         21 non-null     object\n",
      " 17  유럽기준         21 non-null     object\n",
      " 18  SCR유무        21 non-null     object\n",
      "dtypes: int64(4), object(15)\n",
      "memory usage: 3.2+ KB\n"
     ]
    }
   ],
   "source": [
    "name = '인증대장(대형)_SCR_적용차종(EURO 6)'\n",
    "file_name = f'{name}.xlsx'\n",
    "l6 = pd.read_excel(os.path.join(raw_fold, file_name))\n",
    "l6.info()"
   ]
  },
  {
   "cell_type": "code",
   "execution_count": 39,
   "metadata": {},
   "outputs": [
    {
     "name": "stdout",
     "output_type": "stream",
     "text": [
      "<class 'pandas.core.frame.DataFrame'>\n",
      "RangeIndex: 47 entries, 0 to 46\n",
      "Data columns (total 19 columns):\n",
      " #   Column        Non-Null Count  Dtype \n",
      "---  ------        --------------  ----- \n",
      " 0   일련번호          47 non-null     int64 \n",
      " 1   제작사           47 non-null     object\n",
      " 2   배출가스차종        47 non-null     object\n",
      " 3   배출가스인증번호      47 non-null     object\n",
      " 4   배출가스인증일       47 non-null     object\n",
      " 5   차명            47 non-null     object\n",
      " 6   자동차형식         47 non-null     object\n",
      " 7   엔진형식          47 non-null     object\n",
      " 8   배기량           47 non-null     int64 \n",
      " 9   변속기           47 non-null     object\n",
      " 10  최대출력PS        47 non-null     int64 \n",
      " 11  최대출력RPM       47 non-null     int64 \n",
      " 12  총중량           47 non-null     int64 \n",
      " 13  공차중량          47 non-null     int64 \n",
      " 14  제작국가          47 non-null     object\n",
      " 15  사용연료          47 non-null     object\n",
      " 16  배출가스기준        47 non-null     object\n",
      " 17  유럽 기준         47 non-null     object\n",
      " 18  SCR 유(Y)무(N)  47 non-null     object\n",
      "dtypes: int64(6), object(13)\n",
      "memory usage: 7.1+ KB\n"
     ]
    }
   ],
   "source": [
    "name = '인증대장(소형)_SCR_적용차종(EURO 6)'\n",
    "file_name = f'{name}.xlsx'\n",
    "s6 = pd.read_excel(os.path.join(raw_fold, file_name))\n",
    "s6.info()"
   ]
  },
  {
   "cell_type": "code",
   "execution_count": 40,
   "metadata": {},
   "outputs": [],
   "source": [
    "# 확인된 사항\n",
    "# l45, l6, s6 배출가스인증번호(인증번호) 중복 없음"
   ]
  },
  {
   "cell_type": "code",
   "execution_count": 41,
   "metadata": {},
   "outputs": [
    {
     "data": {
      "text/plain": [
       "42"
      ]
     },
     "execution_count": 41,
     "metadata": {},
     "output_type": "execute_result"
    }
   ],
   "source": [
    "len(set(l45['인증번호'].to_list()))"
   ]
  },
  {
   "cell_type": "code",
   "execution_count": 42,
   "metadata": {},
   "outputs": [
    {
     "data": {
      "text/plain": [
       "42"
      ]
     },
     "execution_count": 42,
     "metadata": {},
     "output_type": "execute_result"
    }
   ],
   "source": [
    "len(set(l45['인증번호'].to_list()) - set(l6['인증번호'].to_list()))"
   ]
  },
  {
   "cell_type": "code",
   "execution_count": 43,
   "metadata": {},
   "outputs": [
    {
     "data": {
      "text/plain": [
       "21"
      ]
     },
     "execution_count": 43,
     "metadata": {},
     "output_type": "execute_result"
    }
   ],
   "source": [
    "len(set(l6['인증번호'].to_list()))"
   ]
  },
  {
   "cell_type": "code",
   "execution_count": 44,
   "metadata": {},
   "outputs": [
    {
     "data": {
      "text/plain": [
       "21"
      ]
     },
     "execution_count": 44,
     "metadata": {},
     "output_type": "execute_result"
    }
   ],
   "source": [
    "len(set(l6['인증번호'].to_list()) - set(s6['배출가스인증번호'].to_list()))"
   ]
  },
  {
   "cell_type": "code",
   "execution_count": 45,
   "metadata": {},
   "outputs": [
    {
     "data": {
      "text/plain": [
       "42"
      ]
     },
     "execution_count": 45,
     "metadata": {},
     "output_type": "execute_result"
    }
   ],
   "source": [
    "len(set(l45['인증번호'].to_list()) - set(s6['배출가스인증번호'].to_list()))"
   ]
  },
  {
   "cell_type": "markdown",
   "metadata": {},
   "source": [
    "## 제작사 확인"
   ]
  },
  {
   "cell_type": "code",
   "execution_count": 46,
   "metadata": {},
   "outputs": [
    {
     "name": "stdout",
     "output_type": "stream",
     "text": [
      "<class 'pandas.core.frame.DataFrame'>\n",
      "RangeIndex: 8679 entries, 0 to 8678\n",
      "Data columns (total 4 columns):\n",
      " #   Column               Non-Null Count  Dtype \n",
      "---  ------               --------------  ----- \n",
      " 0   엔진형식                 8679 non-null   object\n",
      " 1   제작사명                 8679 non-null   object\n",
      " 2   차대번호                 8679 non-null   int64 \n",
      " 3   국내/외 구분(1:국내, 2:국외)  8679 non-null   int64 \n",
      "dtypes: int64(2), object(2)\n",
      "memory usage: 271.3+ KB\n"
     ]
    }
   ],
   "source": [
    "name = '엔진형식_제작사명_리스트(수정)'\n",
    "file_name = f'{name}.xlsx'\n",
    "ck = pd.read_excel(os.path.join(raw_fold, file_name))\n",
    "ck.info()"
   ]
  },
  {
   "cell_type": "code",
   "execution_count": 47,
   "metadata": {},
   "outputs": [
    {
     "data": {
      "text/html": [
       "<div>\n",
       "<style scoped>\n",
       "    .dataframe tbody tr th:only-of-type {\n",
       "        vertical-align: middle;\n",
       "    }\n",
       "\n",
       "    .dataframe tbody tr th {\n",
       "        vertical-align: top;\n",
       "    }\n",
       "\n",
       "    .dataframe thead th {\n",
       "        text-align: right;\n",
       "    }\n",
       "</style>\n",
       "<table border=\"1\" class=\"dataframe\">\n",
       "  <thead>\n",
       "    <tr style=\"text-align: right;\">\n",
       "      <th></th>\n",
       "      <th>엔진형식</th>\n",
       "      <th>제작사명</th>\n",
       "      <th>차대번호</th>\n",
       "      <th>국내/외 구분(1:국내, 2:국외)</th>\n",
       "    </tr>\n",
       "  </thead>\n",
       "  <tbody>\n",
       "    <tr>\n",
       "      <th>0</th>\n",
       "      <td>-</td>\n",
       "      <td>(주) 두성특장차</td>\n",
       "      <td>1</td>\n",
       "      <td>1</td>\n",
       "    </tr>\n",
       "    <tr>\n",
       "      <th>1</th>\n",
       "      <td>-</td>\n",
       "      <td>한국특장차(주)</td>\n",
       "      <td>1</td>\n",
       "      <td>1</td>\n",
       "    </tr>\n",
       "    <tr>\n",
       "      <th>2</th>\n",
       "      <td>.D4GB</td>\n",
       "      <td>(주) 골드밴</td>\n",
       "      <td>1</td>\n",
       "      <td>1</td>\n",
       "    </tr>\n",
       "    <tr>\n",
       "      <th>3</th>\n",
       "      <td>0</td>\n",
       "      <td>SOFA차량</td>\n",
       "      <td>4</td>\n",
       "      <td>1</td>\n",
       "    </tr>\n",
       "    <tr>\n",
       "      <th>4</th>\n",
       "      <td>0</td>\n",
       "      <td>남도수입</td>\n",
       "      <td>1</td>\n",
       "      <td>2</td>\n",
       "    </tr>\n",
       "  </tbody>\n",
       "</table>\n",
       "</div>"
      ],
      "text/plain": [
       "    엔진형식       제작사명  차대번호  국내/외 구분(1:국내, 2:국외)\n",
       "0      -  (주) 두성특장차     1                    1\n",
       "1      -   한국특장차(주)     1                    1\n",
       "2  .D4GB    (주) 골드밴     1                    1\n",
       "3      0     SOFA차량     4                    1\n",
       "4      0       남도수입     1                    2"
      ]
     },
     "execution_count": 47,
     "metadata": {},
     "output_type": "execute_result"
    }
   ],
   "source": [
    "ck.head()"
   ]
  },
  {
   "cell_type": "code",
   "execution_count": 48,
   "metadata": {},
   "outputs": [
    {
     "data": {
      "text/html": [
       "<div>\n",
       "<style scoped>\n",
       "    .dataframe tbody tr th:only-of-type {\n",
       "        vertical-align: middle;\n",
       "    }\n",
       "\n",
       "    .dataframe tbody tr th {\n",
       "        vertical-align: top;\n",
       "    }\n",
       "\n",
       "    .dataframe thead th {\n",
       "        text-align: right;\n",
       "    }\n",
       "</style>\n",
       "<table border=\"1\" class=\"dataframe\">\n",
       "  <thead>\n",
       "    <tr style=\"text-align: right;\">\n",
       "      <th></th>\n",
       "      <th>엔진형식</th>\n",
       "      <th>제작사명</th>\n",
       "      <th>차대번호</th>\n",
       "      <th>구분</th>\n",
       "    </tr>\n",
       "  </thead>\n",
       "  <tbody>\n",
       "    <tr>\n",
       "      <th>0</th>\n",
       "      <td>-</td>\n",
       "      <td>(주) 두성특장차</td>\n",
       "      <td>1</td>\n",
       "      <td>국내</td>\n",
       "    </tr>\n",
       "    <tr>\n",
       "      <th>1</th>\n",
       "      <td>-</td>\n",
       "      <td>한국특장차(주)</td>\n",
       "      <td>1</td>\n",
       "      <td>국내</td>\n",
       "    </tr>\n",
       "    <tr>\n",
       "      <th>2</th>\n",
       "      <td>.D4GB</td>\n",
       "      <td>(주) 골드밴</td>\n",
       "      <td>1</td>\n",
       "      <td>국내</td>\n",
       "    </tr>\n",
       "    <tr>\n",
       "      <th>3</th>\n",
       "      <td>0</td>\n",
       "      <td>SOFA차량</td>\n",
       "      <td>4</td>\n",
       "      <td>국내</td>\n",
       "    </tr>\n",
       "    <tr>\n",
       "      <th>4</th>\n",
       "      <td>0</td>\n",
       "      <td>남도수입</td>\n",
       "      <td>1</td>\n",
       "      <td>국외</td>\n",
       "    </tr>\n",
       "  </tbody>\n",
       "</table>\n",
       "</div>"
      ],
      "text/plain": [
       "    엔진형식       제작사명  차대번호  구분\n",
       "0      -  (주) 두성특장차     1  국내\n",
       "1      -   한국특장차(주)     1  국내\n",
       "2  .D4GB    (주) 골드밴     1  국내\n",
       "3      0     SOFA차량     4  국내\n",
       "4      0       남도수입     1  국외"
      ]
     },
     "execution_count": 48,
     "metadata": {},
     "output_type": "execute_result"
    }
   ],
   "source": [
    "ck = ck.rename(columns={'국내/외 구분(1:국내, 2:국외)':'구분'})\n",
    "ck['구분'] = ck['구분'].replace({1:'국내', 2:'국외'})\n",
    "ck.head()"
   ]
  },
  {
   "cell_type": "code",
   "execution_count": 49,
   "metadata": {},
   "outputs": [
    {
     "data": {
      "text/html": [
       "<div>\n",
       "<style scoped>\n",
       "    .dataframe tbody tr th:only-of-type {\n",
       "        vertical-align: middle;\n",
       "    }\n",
       "\n",
       "    .dataframe tbody tr th {\n",
       "        vertical-align: top;\n",
       "    }\n",
       "\n",
       "    .dataframe thead th {\n",
       "        text-align: right;\n",
       "    }\n",
       "</style>\n",
       "<table border=\"1\" class=\"dataframe\">\n",
       "  <thead>\n",
       "    <tr style=\"text-align: right;\">\n",
       "      <th></th>\n",
       "      <th>엔진형식</th>\n",
       "      <th>제작사명</th>\n",
       "      <th>구분</th>\n",
       "    </tr>\n",
       "  </thead>\n",
       "  <tbody>\n",
       "    <tr>\n",
       "      <th>0</th>\n",
       "      <td>-</td>\n",
       "      <td>(주) 두성특장차</td>\n",
       "      <td>국내</td>\n",
       "    </tr>\n",
       "    <tr>\n",
       "      <th>1</th>\n",
       "      <td>-</td>\n",
       "      <td>한국특장차(주)</td>\n",
       "      <td>국내</td>\n",
       "    </tr>\n",
       "    <tr>\n",
       "      <th>2</th>\n",
       "      <td>.D4GB</td>\n",
       "      <td>(주) 골드밴</td>\n",
       "      <td>국내</td>\n",
       "    </tr>\n",
       "    <tr>\n",
       "      <th>3</th>\n",
       "      <td>0</td>\n",
       "      <td>SOFA차량</td>\n",
       "      <td>국내</td>\n",
       "    </tr>\n",
       "    <tr>\n",
       "      <th>4</th>\n",
       "      <td>0</td>\n",
       "      <td>남도수입</td>\n",
       "      <td>국외</td>\n",
       "    </tr>\n",
       "  </tbody>\n",
       "</table>\n",
       "</div>"
      ],
      "text/plain": [
       "    엔진형식       제작사명  구분\n",
       "0      -  (주) 두성특장차  국내\n",
       "1      -   한국특장차(주)  국내\n",
       "2  .D4GB    (주) 골드밴  국내\n",
       "3      0     SOFA차량  국내\n",
       "4      0       남도수입  국외"
      ]
     },
     "execution_count": 49,
     "metadata": {},
     "output_type": "execute_result"
    }
   ],
   "source": [
    "ck = ck.drop(['차대번호'], axis=1)\n",
    "ck.head()"
   ]
  },
  {
   "cell_type": "code",
   "execution_count": 50,
   "metadata": {},
   "outputs": [
    {
     "data": {
      "text/plain": [
       "((8679, 3), (8679, 3))"
      ]
     },
     "execution_count": 50,
     "metadata": {},
     "output_type": "execute_result"
    }
   ],
   "source": [
    "ck.shape, ck.drop_duplicates(['엔진형식', '제작사명']).shape"
   ]
  },
  {
   "cell_type": "markdown",
   "metadata": {},
   "source": [
    "## 220630_기준_SCR_부착_차량_통계자료_수정"
   ]
  },
  {
   "cell_type": "code",
   "execution_count": 51,
   "metadata": {},
   "outputs": [
    {
     "name": "stdout",
     "output_type": "stream",
     "text": [
      "<class 'pandas.core.frame.DataFrame'>\n",
      "RangeIndex: 501 entries, 0 to 500\n",
      "Data columns (total 6 columns):\n",
      " #   Column    Non-Null Count  Dtype \n",
      "---  ------    --------------  ----- \n",
      " 0   인증번호      501 non-null    object\n",
      " 1   차종        500 non-null    object\n",
      " 2   원본차종      500 non-null    object\n",
      " 3   제조사       500 non-null    object\n",
      " 4   차명        351 non-null    object\n",
      " 5   통계자료존재유무  501 non-null    object\n",
      "dtypes: object(6)\n",
      "memory usage: 23.6+ KB\n"
     ]
    }
   ],
   "source": [
    "scr = pd.read_excel(os.path.join(raw_fold, '220630_기준_SCR_부착_차량_통계자료_수정.xlsx'))\n",
    "scr.info()"
   ]
  },
  {
   "cell_type": "code",
   "execution_count": 52,
   "metadata": {},
   "outputs": [
    {
     "data": {
      "text/plain": [
       "(501, 5)"
      ]
     },
     "execution_count": 52,
     "metadata": {},
     "output_type": "execute_result"
    }
   ],
   "source": [
    "scr = scr[['인증번호', '차종', '제조사', '차명', '통계자료존재유무']]\n",
    "scr.shape"
   ]
  },
  {
   "cell_type": "code",
   "execution_count": 53,
   "metadata": {},
   "outputs": [
    {
     "data": {
      "text/plain": [
       "0"
      ]
     },
     "execution_count": 53,
     "metadata": {},
     "output_type": "execute_result"
    }
   ],
   "source": [
    "scr['인증번호'].isnull().sum()"
   ]
  },
  {
   "cell_type": "code",
   "execution_count": 54,
   "metadata": {},
   "outputs": [
    {
     "data": {
      "text/plain": [
       "((501, 5), 501)"
      ]
     },
     "execution_count": 54,
     "metadata": {},
     "output_type": "execute_result"
    }
   ],
   "source": [
    "scr.shape, len(scr['인증번호'].unique())"
   ]
  },
  {
   "cell_type": "markdown",
   "metadata": {},
   "source": [
    "# 전처리\n",
    "- 컬럼명 수정\n",
    "- 필수 컬럼만 추출\n",
    "- 등록 + 인증대장 + 저감\n",
    "- 등록 + 인증대장 + 저감 + SCR 통계자료(차종, 제조사, 차명 우선)"
   ]
  },
  {
   "cell_type": "markdown",
   "metadata": {},
   "source": [
    "## 인증대장 병합"
   ]
  },
  {
   "cell_type": "code",
   "execution_count": 55,
   "metadata": {},
   "outputs": [
    {
     "data": {
      "text/plain": [
       "['제작사1',\n",
       " '차명',\n",
       " '자동차형식',\n",
       " '엔진형식',\n",
       " '배기량',\n",
       " '최대출력_PS',\n",
       " '최대출력_RPM',\n",
       " '변속기',\n",
       " '총중량',\n",
       " '공차중량',\n",
       " '제작사2',\n",
       " '제작국',\n",
       " '인증번호',\n",
       " '인증일자',\n",
       " '비고']"
      ]
     },
     "execution_count": 55,
     "metadata": {},
     "output_type": "execute_result"
    }
   ],
   "source": [
    "l45.columns.to_list()"
   ]
  },
  {
   "cell_type": "code",
   "execution_count": 56,
   "metadata": {},
   "outputs": [
    {
     "data": {
      "text/html": [
       "<div>\n",
       "<style scoped>\n",
       "    .dataframe tbody tr th:only-of-type {\n",
       "        vertical-align: middle;\n",
       "    }\n",
       "\n",
       "    .dataframe tbody tr th {\n",
       "        vertical-align: top;\n",
       "    }\n",
       "\n",
       "    .dataframe thead th {\n",
       "        text-align: right;\n",
       "    }\n",
       "</style>\n",
       "<table border=\"1\" class=\"dataframe\">\n",
       "  <thead>\n",
       "    <tr style=\"text-align: right;\">\n",
       "      <th></th>\n",
       "      <th>제작사1</th>\n",
       "      <th>차명</th>\n",
       "      <th>자동차형식</th>\n",
       "      <th>엔진형식</th>\n",
       "      <th>배기량</th>\n",
       "      <th>최대출력_PS</th>\n",
       "      <th>최대출력_RPM</th>\n",
       "      <th>변속기</th>\n",
       "      <th>총중량</th>\n",
       "      <th>공차중량</th>\n",
       "      <th>제작사2</th>\n",
       "      <th>제작국</th>\n",
       "      <th>인증번호</th>\n",
       "      <th>인증일자</th>\n",
       "      <th>비고</th>\n",
       "    </tr>\n",
       "  </thead>\n",
       "  <tbody>\n",
       "    <tr>\n",
       "      <th>0</th>\n",
       "      <td>현대자동차</td>\n",
       "      <td>현대25.5톤덤프트럭</td>\n",
       "      <td>HD255-YDU0-DHECA</td>\n",
       "      <td>D6CE</td>\n",
       "      <td>12742.0</td>\n",
       "      <td>520</td>\n",
       "      <td>1700</td>\n",
       "      <td>자동12단</td>\n",
       "      <td>38730</td>\n",
       "      <td>13230</td>\n",
       "      <td>현대자동차</td>\n",
       "      <td>한국</td>\n",
       "      <td>AMY-HD-14-35</td>\n",
       "      <td>2010-07-19 00:00:00</td>\n",
       "      <td>유로5</td>\n",
       "    </tr>\n",
       "    <tr>\n",
       "      <th>1</th>\n",
       "      <td>타타대우</td>\n",
       "      <td>대우25톤장축카고트럭</td>\n",
       "      <td>BT9CC1</td>\n",
       "      <td>DV11</td>\n",
       "      <td>10964.0</td>\n",
       "      <td>440</td>\n",
       "      <td>1900</td>\n",
       "      <td>수동16단</td>\n",
       "      <td>38800</td>\n",
       "      <td>13670</td>\n",
       "      <td>타타대우상용차</td>\n",
       "      <td>한국</td>\n",
       "      <td>7MY-DC-23-70</td>\n",
       "      <td>2007-12-18 00:00:00</td>\n",
       "      <td>유로4</td>\n",
       "    </tr>\n",
       "    <tr>\n",
       "      <th>2</th>\n",
       "      <td>타타대우</td>\n",
       "      <td>대우5톤초장축카고트럭</td>\n",
       "      <td>BC4AH1</td>\n",
       "      <td>F4AE3681D</td>\n",
       "      <td>5880.0</td>\n",
       "      <td>251</td>\n",
       "      <td>2700</td>\n",
       "      <td>수동6단</td>\n",
       "      <td>11415</td>\n",
       "      <td>6285</td>\n",
       "      <td>타타대우상용차</td>\n",
       "      <td>한국</td>\n",
       "      <td>7MY-DC-23-72</td>\n",
       "      <td>2007-12-18 00:00:00</td>\n",
       "      <td>유로4</td>\n",
       "    </tr>\n",
       "    <tr>\n",
       "      <th>3</th>\n",
       "      <td>타타대우</td>\n",
       "      <td>대우5톤초장축카고트럭</td>\n",
       "      <td>BC4AT1</td>\n",
       "      <td>DL06</td>\n",
       "      <td>5890.0</td>\n",
       "      <td>270</td>\n",
       "      <td>2500</td>\n",
       "      <td>수동6단</td>\n",
       "      <td>11500</td>\n",
       "      <td>6370</td>\n",
       "      <td>타타대우상용차</td>\n",
       "      <td>한국</td>\n",
       "      <td>8MY-DC-24-12</td>\n",
       "      <td>2008-05-21 00:00:00</td>\n",
       "      <td>유로4</td>\n",
       "    </tr>\n",
       "    <tr>\n",
       "      <th>4</th>\n",
       "      <td>타타대우</td>\n",
       "      <td>대우트랙터</td>\n",
       "      <td>EX3TX2</td>\n",
       "      <td>F3BE3681B</td>\n",
       "      <td>12882.0</td>\n",
       "      <td>560</td>\n",
       "      <td>1900</td>\n",
       "      <td>자동12단</td>\n",
       "      <td>26020</td>\n",
       "      <td>8810</td>\n",
       "      <td>타타대우상용차</td>\n",
       "      <td>한국</td>\n",
       "      <td>8MY-DC-24-15</td>\n",
       "      <td>2008-06-30 00:00:00</td>\n",
       "      <td>유로4</td>\n",
       "    </tr>\n",
       "  </tbody>\n",
       "</table>\n",
       "</div>"
      ],
      "text/plain": [
       "    제작사1           차명             자동차형식       엔진형식      배기량 최대출력_PS 최대출력_RPM  \\\n",
       "0  현대자동차  현대25.5톤덤프트럭  HD255-YDU0-DHECA       D6CE  12742.0     520     1700   \n",
       "1   타타대우  대우25톤장축카고트럭            BT9CC1       DV11  10964.0     440     1900   \n",
       "2   타타대우  대우5톤초장축카고트럭            BC4AH1  F4AE3681D   5880.0     251     2700   \n",
       "3   타타대우  대우5톤초장축카고트럭            BC4AT1       DL06   5890.0     270     2500   \n",
       "4   타타대우        대우트랙터            EX3TX2  F3BE3681B  12882.0     560     1900   \n",
       "\n",
       "     변속기    총중량   공차중량     제작사2 제작국          인증번호                 인증일자   비고  \n",
       "0  자동12단  38730  13230    현대자동차  한국  AMY-HD-14-35  2010-07-19 00:00:00  유로5  \n",
       "1  수동16단  38800  13670  타타대우상용차  한국  7MY-DC-23-70  2007-12-18 00:00:00  유로4  \n",
       "2   수동6단  11415   6285  타타대우상용차  한국  7MY-DC-23-72  2007-12-18 00:00:00  유로4  \n",
       "3   수동6단  11500   6370  타타대우상용차  한국  8MY-DC-24-12  2008-05-21 00:00:00  유로4  \n",
       "4  자동12단  26020   8810  타타대우상용차  한국  8MY-DC-24-15  2008-06-30 00:00:00  유로4  "
      ]
     },
     "execution_count": 56,
     "metadata": {},
     "output_type": "execute_result"
    }
   ],
   "source": [
    "l45.head()"
   ]
  },
  {
   "cell_type": "code",
   "execution_count": 57,
   "metadata": {},
   "outputs": [
    {
     "data": {
      "text/html": [
       "<div>\n",
       "<style scoped>\n",
       "    .dataframe tbody tr th:only-of-type {\n",
       "        vertical-align: middle;\n",
       "    }\n",
       "\n",
       "    .dataframe tbody tr th {\n",
       "        vertical-align: top;\n",
       "    }\n",
       "\n",
       "    .dataframe thead th {\n",
       "        text-align: right;\n",
       "    }\n",
       "</style>\n",
       "<table border=\"1\" class=\"dataframe\">\n",
       "  <thead>\n",
       "    <tr style=\"text-align: right;\">\n",
       "      <th></th>\n",
       "      <th>인증번호</th>\n",
       "      <th>제작사2</th>\n",
       "      <th>차명</th>\n",
       "      <th>제작국</th>\n",
       "      <th>비고</th>\n",
       "    </tr>\n",
       "  </thead>\n",
       "  <tbody>\n",
       "    <tr>\n",
       "      <th>0</th>\n",
       "      <td>AMY-HD-14-35</td>\n",
       "      <td>현대자동차</td>\n",
       "      <td>현대25.5톤덤프트럭</td>\n",
       "      <td>한국</td>\n",
       "      <td>유로5</td>\n",
       "    </tr>\n",
       "    <tr>\n",
       "      <th>1</th>\n",
       "      <td>7MY-DC-23-70</td>\n",
       "      <td>타타대우상용차</td>\n",
       "      <td>대우25톤장축카고트럭</td>\n",
       "      <td>한국</td>\n",
       "      <td>유로4</td>\n",
       "    </tr>\n",
       "    <tr>\n",
       "      <th>2</th>\n",
       "      <td>7MY-DC-23-72</td>\n",
       "      <td>타타대우상용차</td>\n",
       "      <td>대우5톤초장축카고트럭</td>\n",
       "      <td>한국</td>\n",
       "      <td>유로4</td>\n",
       "    </tr>\n",
       "    <tr>\n",
       "      <th>3</th>\n",
       "      <td>8MY-DC-24-12</td>\n",
       "      <td>타타대우상용차</td>\n",
       "      <td>대우5톤초장축카고트럭</td>\n",
       "      <td>한국</td>\n",
       "      <td>유로4</td>\n",
       "    </tr>\n",
       "    <tr>\n",
       "      <th>4</th>\n",
       "      <td>8MY-DC-24-15</td>\n",
       "      <td>타타대우상용차</td>\n",
       "      <td>대우트랙터</td>\n",
       "      <td>한국</td>\n",
       "      <td>유로4</td>\n",
       "    </tr>\n",
       "  </tbody>\n",
       "</table>\n",
       "</div>"
      ],
      "text/plain": [
       "           인증번호     제작사2           차명 제작국   비고\n",
       "0  AMY-HD-14-35    현대자동차  현대25.5톤덤프트럭  한국  유로5\n",
       "1  7MY-DC-23-70  타타대우상용차  대우25톤장축카고트럭  한국  유로4\n",
       "2  7MY-DC-23-72  타타대우상용차  대우5톤초장축카고트럭  한국  유로4\n",
       "3  8MY-DC-24-12  타타대우상용차  대우5톤초장축카고트럭  한국  유로4\n",
       "4  8MY-DC-24-15  타타대우상용차        대우트랙터  한국  유로4"
      ]
     },
     "execution_count": 57,
     "metadata": {},
     "output_type": "execute_result"
    }
   ],
   "source": [
    "l45m = l45[[\n",
    "    '인증번호',\n",
    "    '제작사2',\n",
    "    '차명',\n",
    "    '제작국',\n",
    "    '비고'\n",
    "\n",
    "    # '제작사1',\n",
    "    # '자동차형식',\n",
    "    # '엔진형식',\n",
    "    # '배기량',\n",
    "    # '최대출력_PS',\n",
    "    # '최대출력_RPM',\n",
    "    # '변속기',\n",
    "    # '총중량',\n",
    "    # '공차중량',\n",
    "    # '인증일자',\n",
    "]]\n",
    "l45m.head()"
   ]
  },
  {
   "cell_type": "code",
   "execution_count": 58,
   "metadata": {},
   "outputs": [
    {
     "data": {
      "text/html": [
       "<div>\n",
       "<style scoped>\n",
       "    .dataframe tbody tr th:only-of-type {\n",
       "        vertical-align: middle;\n",
       "    }\n",
       "\n",
       "    .dataframe tbody tr th {\n",
       "        vertical-align: top;\n",
       "    }\n",
       "\n",
       "    .dataframe thead th {\n",
       "        text-align: right;\n",
       "    }\n",
       "</style>\n",
       "<table border=\"1\" class=\"dataframe\">\n",
       "  <thead>\n",
       "    <tr style=\"text-align: right;\">\n",
       "      <th></th>\n",
       "      <th>배출가스인증번호</th>\n",
       "      <th>제작사</th>\n",
       "      <th>차명</th>\n",
       "      <th>제작국</th>\n",
       "      <th>유럽기준</th>\n",
       "      <th>SCR유무</th>\n",
       "    </tr>\n",
       "  </thead>\n",
       "  <tbody>\n",
       "    <tr>\n",
       "      <th>0</th>\n",
       "      <td>AMY-HD-14-35</td>\n",
       "      <td>현대자동차</td>\n",
       "      <td>현대25.5톤덤프트럭</td>\n",
       "      <td>한국</td>\n",
       "      <td>유로5</td>\n",
       "      <td>Y</td>\n",
       "    </tr>\n",
       "    <tr>\n",
       "      <th>1</th>\n",
       "      <td>7MY-DC-23-70</td>\n",
       "      <td>타타대우상용차</td>\n",
       "      <td>대우25톤장축카고트럭</td>\n",
       "      <td>한국</td>\n",
       "      <td>유로4</td>\n",
       "      <td>Y</td>\n",
       "    </tr>\n",
       "    <tr>\n",
       "      <th>2</th>\n",
       "      <td>7MY-DC-23-72</td>\n",
       "      <td>타타대우상용차</td>\n",
       "      <td>대우5톤초장축카고트럭</td>\n",
       "      <td>한국</td>\n",
       "      <td>유로4</td>\n",
       "      <td>Y</td>\n",
       "    </tr>\n",
       "    <tr>\n",
       "      <th>3</th>\n",
       "      <td>8MY-DC-24-12</td>\n",
       "      <td>타타대우상용차</td>\n",
       "      <td>대우5톤초장축카고트럭</td>\n",
       "      <td>한국</td>\n",
       "      <td>유로4</td>\n",
       "      <td>Y</td>\n",
       "    </tr>\n",
       "    <tr>\n",
       "      <th>4</th>\n",
       "      <td>8MY-DC-24-15</td>\n",
       "      <td>타타대우상용차</td>\n",
       "      <td>대우트랙터</td>\n",
       "      <td>한국</td>\n",
       "      <td>유로4</td>\n",
       "      <td>Y</td>\n",
       "    </tr>\n",
       "  </tbody>\n",
       "</table>\n",
       "</div>"
      ],
      "text/plain": [
       "       배출가스인증번호      제작사           차명 제작국 유럽기준 SCR유무\n",
       "0  AMY-HD-14-35    현대자동차  현대25.5톤덤프트럭  한국  유로5     Y\n",
       "1  7MY-DC-23-70  타타대우상용차  대우25톤장축카고트럭  한국  유로4     Y\n",
       "2  7MY-DC-23-72  타타대우상용차  대우5톤초장축카고트럭  한국  유로4     Y\n",
       "3  8MY-DC-24-12  타타대우상용차  대우5톤초장축카고트럭  한국  유로4     Y\n",
       "4  8MY-DC-24-15  타타대우상용차        대우트랙터  한국  유로4     Y"
      ]
     },
     "execution_count": 58,
     "metadata": {},
     "output_type": "execute_result"
    }
   ],
   "source": [
    "l45m = l45m.rename(columns={'인증번호':'배출가스인증번호', '제작사2':'제작사', '제작국가':'제작사', '비고':'유럽기준'})\n",
    "l45m['SCR유무'] = 'Y'\n",
    "l45m.head()"
   ]
  },
  {
   "cell_type": "code",
   "execution_count": 59,
   "metadata": {},
   "outputs": [
    {
     "data": {
      "text/html": [
       "<div>\n",
       "<style scoped>\n",
       "    .dataframe tbody tr th:only-of-type {\n",
       "        vertical-align: middle;\n",
       "    }\n",
       "\n",
       "    .dataframe tbody tr th {\n",
       "        vertical-align: top;\n",
       "    }\n",
       "\n",
       "    .dataframe thead th {\n",
       "        text-align: right;\n",
       "    }\n",
       "</style>\n",
       "<table border=\"1\" class=\"dataframe\">\n",
       "  <thead>\n",
       "    <tr style=\"text-align: right;\">\n",
       "      <th></th>\n",
       "      <th>No</th>\n",
       "      <th>제작사</th>\n",
       "      <th>인증번호</th>\n",
       "      <th>인증일자</th>\n",
       "      <th>차명</th>\n",
       "      <th>차종</th>\n",
       "      <th>차형식</th>\n",
       "      <th>엔진형식</th>\n",
       "      <th>배기량</th>\n",
       "      <th>변속기</th>\n",
       "      <th>최대출력</th>\n",
       "      <th>Unnamed: 11</th>\n",
       "      <th>총중량</th>\n",
       "      <th>공차중량</th>\n",
       "      <th>제작국</th>\n",
       "      <th>사용연료</th>\n",
       "      <th>배출기준</th>\n",
       "      <th>유럽기준</th>\n",
       "      <th>SCR유무</th>\n",
       "    </tr>\n",
       "  </thead>\n",
       "  <tbody>\n",
       "    <tr>\n",
       "      <th>0</th>\n",
       "      <td>6</td>\n",
       "      <td>자일대우버스(주)</td>\n",
       "      <td>LMY-DB-14-105</td>\n",
       "      <td>2020-12-31</td>\n",
       "      <td>BX212</td>\n",
       "      <td>승용(초대형)</td>\n",
       "      <td>BX212M-GPLBZC441L</td>\n",
       "      <td>OM470LA.6-6</td>\n",
       "      <td>10677</td>\n",
       "      <td>자동화수동변속기</td>\n",
       "      <td>456</td>\n",
       "      <td>1600</td>\n",
       "      <td>16035</td>\n",
       "      <td>13110</td>\n",
       "      <td>한국</td>\n",
       "      <td>경유(Diesel)</td>\n",
       "      <td>2017년 10월 기준</td>\n",
       "      <td>유로6</td>\n",
       "      <td>Y</td>\n",
       "    </tr>\n",
       "    <tr>\n",
       "      <th>1</th>\n",
       "      <td>8</td>\n",
       "      <td>타타대우상용차(주)</td>\n",
       "      <td>LMY-DC-14-87</td>\n",
       "      <td>2020-11-03</td>\n",
       "      <td>LD트럭</td>\n",
       "      <td>화물(대형)</td>\n",
       "      <td>FE5BC1</td>\n",
       "      <td>F4AFE411C</td>\n",
       "      <td>4485</td>\n",
       "      <td>수동6단</td>\n",
       "      <td>206</td>\n",
       "      <td>2500</td>\n",
       "      <td>9910</td>\n",
       "      <td>4715</td>\n",
       "      <td>한국</td>\n",
       "      <td>경유(Diesel)</td>\n",
       "      <td>2017년 10월 기준</td>\n",
       "      <td>유로6</td>\n",
       "      <td>Y</td>\n",
       "    </tr>\n",
       "    <tr>\n",
       "      <th>2</th>\n",
       "      <td>12</td>\n",
       "      <td>타타대우상용차(주)</td>\n",
       "      <td>KMY-DC-14-82</td>\n",
       "      <td>2019-11-26</td>\n",
       "      <td>프리마14톤장축카고트럭</td>\n",
       "      <td>화물(초대형)</td>\n",
       "      <td>JL8A82</td>\n",
       "      <td>DX12P</td>\n",
       "      <td>11051</td>\n",
       "      <td>자동12단</td>\n",
       "      <td>460</td>\n",
       "      <td>1900</td>\n",
       "      <td>25800(25260)</td>\n",
       "      <td>11670(11130)</td>\n",
       "      <td>한국</td>\n",
       "      <td>경유(Diesel)</td>\n",
       "      <td>2017년 10월 기준</td>\n",
       "      <td>유로6</td>\n",
       "      <td>Y</td>\n",
       "    </tr>\n",
       "    <tr>\n",
       "      <th>3</th>\n",
       "      <td>17</td>\n",
       "      <td>(주)우진산전</td>\n",
       "      <td>GMY-WJ-14-02</td>\n",
       "      <td>2016-01-06</td>\n",
       "      <td>우진산전 굴절버스</td>\n",
       "      <td>승용(대형)</td>\n",
       "      <td>KM9ZGCZE</td>\n",
       "      <td>ISB6.7E6</td>\n",
       "      <td>6690</td>\n",
       "      <td>없음</td>\n",
       "      <td>280</td>\n",
       "      <td>2100</td>\n",
       "      <td>25995</td>\n",
       "      <td>19495</td>\n",
       "      <td>한국</td>\n",
       "      <td>경유-하이브리드(D-Hybrid)</td>\n",
       "      <td>2014년 1월 기준</td>\n",
       "      <td>유로6</td>\n",
       "      <td>Y</td>\n",
       "    </tr>\n",
       "    <tr>\n",
       "      <th>4</th>\n",
       "      <td>19</td>\n",
       "      <td>타타대우상용차(주)</td>\n",
       "      <td>GMY-DC-14-52</td>\n",
       "      <td>2016-11-07</td>\n",
       "      <td>노부스5톤극초장축플러스8.6카고트럭</td>\n",
       "      <td>화물(대형)</td>\n",
       "      <td>DC8CT7</td>\n",
       "      <td>DL06P</td>\n",
       "      <td>5890</td>\n",
       "      <td>수동 9단</td>\n",
       "      <td>280</td>\n",
       "      <td>2500</td>\n",
       "      <td>12500(12710)</td>\n",
       "      <td>7370(7580)</td>\n",
       "      <td>한국</td>\n",
       "      <td>경유(Diesel)</td>\n",
       "      <td>2014년 1월 기준</td>\n",
       "      <td>유로6</td>\n",
       "      <td>Y</td>\n",
       "    </tr>\n",
       "  </tbody>\n",
       "</table>\n",
       "</div>"
      ],
      "text/plain": [
       "   No         제작사           인증번호        인증일자                   차명       차종  \\\n",
       "0   6   자일대우버스(주)  LMY-DB-14-105  2020-12-31                BX212  승용(초대형)   \n",
       "1   8  타타대우상용차(주)   LMY-DC-14-87  2020-11-03                 LD트럭   화물(대형)   \n",
       "2  12  타타대우상용차(주)   KMY-DC-14-82  2019-11-26         프리마14톤장축카고트럭  화물(초대형)   \n",
       "3  17     (주)우진산전   GMY-WJ-14-02  2016-01-06            우진산전 굴절버스   승용(대형)   \n",
       "4  19  타타대우상용차(주)   GMY-DC-14-52  2016-11-07  노부스5톤극초장축플러스8.6카고트럭   화물(대형)   \n",
       "\n",
       "                 차형식         엔진형식    배기량       변속기  최대출력  Unnamed: 11  \\\n",
       "0  BX212M-GPLBZC441L  OM470LA.6-6  10677  자동화수동변속기   456         1600   \n",
       "1             FE5BC1    F4AFE411C   4485      수동6단   206         2500   \n",
       "2             JL8A82        DX12P  11051     자동12단   460         1900   \n",
       "3           KM9ZGCZE     ISB6.7E6   6690        없음   280         2100   \n",
       "4             DC8CT7        DL06P   5890     수동 9단   280         2500   \n",
       "\n",
       "            총중량          공차중량 제작국                사용연료          배출기준 유럽기준 SCR유무  \n",
       "0         16035         13110  한국          경유(Diesel)  2017년 10월 기준  유로6     Y  \n",
       "1          9910          4715  한국          경유(Diesel)  2017년 10월 기준  유로6     Y  \n",
       "2  25800(25260)  11670(11130)  한국          경유(Diesel)  2017년 10월 기준  유로6     Y  \n",
       "3         25995         19495  한국  경유-하이브리드(D-Hybrid)   2014년 1월 기준  유로6     Y  \n",
       "4  12500(12710)    7370(7580)  한국          경유(Diesel)   2014년 1월 기준  유로6     Y  "
      ]
     },
     "execution_count": 59,
     "metadata": {},
     "output_type": "execute_result"
    }
   ],
   "source": [
    "l6.head()"
   ]
  },
  {
   "cell_type": "code",
   "execution_count": 60,
   "metadata": {},
   "outputs": [
    {
     "data": {
      "text/plain": [
       "['No',\n",
       " '제작사',\n",
       " '인증번호',\n",
       " '인증일자',\n",
       " '차명',\n",
       " '차종',\n",
       " '차형식',\n",
       " '엔진형식',\n",
       " '배기량',\n",
       " '변속기',\n",
       " '최대출력',\n",
       " 'Unnamed: 11',\n",
       " '총중량',\n",
       " '공차중량',\n",
       " '제작국',\n",
       " '사용연료',\n",
       " '배출기준',\n",
       " '유럽기준',\n",
       " 'SCR유무']"
      ]
     },
     "execution_count": 60,
     "metadata": {},
     "output_type": "execute_result"
    }
   ],
   "source": [
    "l6.columns.to_list()"
   ]
  },
  {
   "cell_type": "code",
   "execution_count": 61,
   "metadata": {},
   "outputs": [
    {
     "data": {
      "text/html": [
       "<div>\n",
       "<style scoped>\n",
       "    .dataframe tbody tr th:only-of-type {\n",
       "        vertical-align: middle;\n",
       "    }\n",
       "\n",
       "    .dataframe tbody tr th {\n",
       "        vertical-align: top;\n",
       "    }\n",
       "\n",
       "    .dataframe thead th {\n",
       "        text-align: right;\n",
       "    }\n",
       "</style>\n",
       "<table border=\"1\" class=\"dataframe\">\n",
       "  <thead>\n",
       "    <tr style=\"text-align: right;\">\n",
       "      <th></th>\n",
       "      <th>인증번호</th>\n",
       "      <th>제작사</th>\n",
       "      <th>차명</th>\n",
       "      <th>제작국</th>\n",
       "      <th>유럽기준</th>\n",
       "      <th>SCR유무</th>\n",
       "    </tr>\n",
       "  </thead>\n",
       "  <tbody>\n",
       "    <tr>\n",
       "      <th>0</th>\n",
       "      <td>LMY-DB-14-105</td>\n",
       "      <td>자일대우버스(주)</td>\n",
       "      <td>BX212</td>\n",
       "      <td>한국</td>\n",
       "      <td>유로6</td>\n",
       "      <td>Y</td>\n",
       "    </tr>\n",
       "    <tr>\n",
       "      <th>1</th>\n",
       "      <td>LMY-DC-14-87</td>\n",
       "      <td>타타대우상용차(주)</td>\n",
       "      <td>LD트럭</td>\n",
       "      <td>한국</td>\n",
       "      <td>유로6</td>\n",
       "      <td>Y</td>\n",
       "    </tr>\n",
       "    <tr>\n",
       "      <th>2</th>\n",
       "      <td>KMY-DC-14-82</td>\n",
       "      <td>타타대우상용차(주)</td>\n",
       "      <td>프리마14톤장축카고트럭</td>\n",
       "      <td>한국</td>\n",
       "      <td>유로6</td>\n",
       "      <td>Y</td>\n",
       "    </tr>\n",
       "    <tr>\n",
       "      <th>3</th>\n",
       "      <td>GMY-WJ-14-02</td>\n",
       "      <td>(주)우진산전</td>\n",
       "      <td>우진산전 굴절버스</td>\n",
       "      <td>한국</td>\n",
       "      <td>유로6</td>\n",
       "      <td>Y</td>\n",
       "    </tr>\n",
       "    <tr>\n",
       "      <th>4</th>\n",
       "      <td>GMY-DC-14-52</td>\n",
       "      <td>타타대우상용차(주)</td>\n",
       "      <td>노부스5톤극초장축플러스8.6카고트럭</td>\n",
       "      <td>한국</td>\n",
       "      <td>유로6</td>\n",
       "      <td>Y</td>\n",
       "    </tr>\n",
       "  </tbody>\n",
       "</table>\n",
       "</div>"
      ],
      "text/plain": [
       "            인증번호         제작사                   차명 제작국 유럽기준 SCR유무\n",
       "0  LMY-DB-14-105   자일대우버스(주)                BX212  한국  유로6     Y\n",
       "1   LMY-DC-14-87  타타대우상용차(주)                 LD트럭  한국  유로6     Y\n",
       "2   KMY-DC-14-82  타타대우상용차(주)         프리마14톤장축카고트럭  한국  유로6     Y\n",
       "3   GMY-WJ-14-02     (주)우진산전            우진산전 굴절버스  한국  유로6     Y\n",
       "4   GMY-DC-14-52  타타대우상용차(주)  노부스5톤극초장축플러스8.6카고트럭  한국  유로6     Y"
      ]
     },
     "execution_count": 61,
     "metadata": {},
     "output_type": "execute_result"
    }
   ],
   "source": [
    "l6m = l6[[\n",
    "    '인증번호',\n",
    "    '제작사',\n",
    "    '차명',\n",
    "    '제작국',\n",
    "    '유럽기준',\n",
    "    'SCR유무',\n",
    "    \n",
    "    # 'No',\n",
    "    # '인증일자',\n",
    "    # '차종',\n",
    "    # '차형식',\n",
    "    # '엔진형식',\n",
    "    # '배기량',\n",
    "    # '변속기',\n",
    "    # '최대출력',\n",
    "    # 'Unnamed: 11',\n",
    "    # '총중량',\n",
    "    # '공차중량',\n",
    "    # '사용연료',\n",
    "    # '배출기준',\n",
    "]]\n",
    "l6m.head()"
   ]
  },
  {
   "cell_type": "code",
   "execution_count": 62,
   "metadata": {},
   "outputs": [
    {
     "data": {
      "text/html": [
       "<div>\n",
       "<style scoped>\n",
       "    .dataframe tbody tr th:only-of-type {\n",
       "        vertical-align: middle;\n",
       "    }\n",
       "\n",
       "    .dataframe tbody tr th {\n",
       "        vertical-align: top;\n",
       "    }\n",
       "\n",
       "    .dataframe thead th {\n",
       "        text-align: right;\n",
       "    }\n",
       "</style>\n",
       "<table border=\"1\" class=\"dataframe\">\n",
       "  <thead>\n",
       "    <tr style=\"text-align: right;\">\n",
       "      <th></th>\n",
       "      <th>배출가스인증번호</th>\n",
       "      <th>제작사</th>\n",
       "      <th>차명</th>\n",
       "      <th>제작국</th>\n",
       "      <th>유럽기준</th>\n",
       "      <th>SCR유무</th>\n",
       "    </tr>\n",
       "  </thead>\n",
       "  <tbody>\n",
       "    <tr>\n",
       "      <th>0</th>\n",
       "      <td>LMY-DB-14-105</td>\n",
       "      <td>자일대우버스(주)</td>\n",
       "      <td>BX212</td>\n",
       "      <td>한국</td>\n",
       "      <td>유로6</td>\n",
       "      <td>Y</td>\n",
       "    </tr>\n",
       "    <tr>\n",
       "      <th>1</th>\n",
       "      <td>LMY-DC-14-87</td>\n",
       "      <td>타타대우상용차(주)</td>\n",
       "      <td>LD트럭</td>\n",
       "      <td>한국</td>\n",
       "      <td>유로6</td>\n",
       "      <td>Y</td>\n",
       "    </tr>\n",
       "    <tr>\n",
       "      <th>2</th>\n",
       "      <td>KMY-DC-14-82</td>\n",
       "      <td>타타대우상용차(주)</td>\n",
       "      <td>프리마14톤장축카고트럭</td>\n",
       "      <td>한국</td>\n",
       "      <td>유로6</td>\n",
       "      <td>Y</td>\n",
       "    </tr>\n",
       "    <tr>\n",
       "      <th>3</th>\n",
       "      <td>GMY-WJ-14-02</td>\n",
       "      <td>(주)우진산전</td>\n",
       "      <td>우진산전 굴절버스</td>\n",
       "      <td>한국</td>\n",
       "      <td>유로6</td>\n",
       "      <td>Y</td>\n",
       "    </tr>\n",
       "    <tr>\n",
       "      <th>4</th>\n",
       "      <td>GMY-DC-14-52</td>\n",
       "      <td>타타대우상용차(주)</td>\n",
       "      <td>노부스5톤극초장축플러스8.6카고트럭</td>\n",
       "      <td>한국</td>\n",
       "      <td>유로6</td>\n",
       "      <td>Y</td>\n",
       "    </tr>\n",
       "  </tbody>\n",
       "</table>\n",
       "</div>"
      ],
      "text/plain": [
       "        배출가스인증번호         제작사                   차명 제작국 유럽기준 SCR유무\n",
       "0  LMY-DB-14-105   자일대우버스(주)                BX212  한국  유로6     Y\n",
       "1   LMY-DC-14-87  타타대우상용차(주)                 LD트럭  한국  유로6     Y\n",
       "2   KMY-DC-14-82  타타대우상용차(주)         프리마14톤장축카고트럭  한국  유로6     Y\n",
       "3   GMY-WJ-14-02     (주)우진산전            우진산전 굴절버스  한국  유로6     Y\n",
       "4   GMY-DC-14-52  타타대우상용차(주)  노부스5톤극초장축플러스8.6카고트럭  한국  유로6     Y"
      ]
     },
     "execution_count": 62,
     "metadata": {},
     "output_type": "execute_result"
    }
   ],
   "source": [
    "l6m = l6m.rename(columns={'인증번호':'배출가스인증번호'})\n",
    "l6m.head()"
   ]
  },
  {
   "cell_type": "code",
   "execution_count": 63,
   "metadata": {},
   "outputs": [
    {
     "data": {
      "text/html": [
       "<div>\n",
       "<style scoped>\n",
       "    .dataframe tbody tr th:only-of-type {\n",
       "        vertical-align: middle;\n",
       "    }\n",
       "\n",
       "    .dataframe tbody tr th {\n",
       "        vertical-align: top;\n",
       "    }\n",
       "\n",
       "    .dataframe thead th {\n",
       "        text-align: right;\n",
       "    }\n",
       "</style>\n",
       "<table border=\"1\" class=\"dataframe\">\n",
       "  <thead>\n",
       "    <tr style=\"text-align: right;\">\n",
       "      <th></th>\n",
       "      <th>일련번호</th>\n",
       "      <th>제작사</th>\n",
       "      <th>배출가스차종</th>\n",
       "      <th>배출가스인증번호</th>\n",
       "      <th>배출가스인증일</th>\n",
       "      <th>차명</th>\n",
       "      <th>자동차형식</th>\n",
       "      <th>엔진형식</th>\n",
       "      <th>배기량</th>\n",
       "      <th>변속기</th>\n",
       "      <th>최대출력PS</th>\n",
       "      <th>최대출력RPM</th>\n",
       "      <th>총중량</th>\n",
       "      <th>공차중량</th>\n",
       "      <th>제작국가</th>\n",
       "      <th>사용연료</th>\n",
       "      <th>배출가스기준</th>\n",
       "      <th>유럽 기준</th>\n",
       "      <th>SCR 유(Y)무(N)</th>\n",
       "    </tr>\n",
       "  </thead>\n",
       "  <tbody>\n",
       "    <tr>\n",
       "      <th>0</th>\n",
       "      <td>27</td>\n",
       "      <td>현대자동차(주)</td>\n",
       "      <td>승용(중형)</td>\n",
       "      <td>FMY-HD-14-38</td>\n",
       "      <td>2015-07-29</td>\n",
       "      <td>그랜드스타렉스 2.5디젤 12인(4WD)</td>\n",
       "      <td>TQ-25D12-E6-4W5A</td>\n",
       "      <td>D4CB</td>\n",
       "      <td>2497</td>\n",
       "      <td>자동5단</td>\n",
       "      <td>175</td>\n",
       "      <td>3600</td>\n",
       "      <td>3395</td>\n",
       "      <td>2505</td>\n",
       "      <td>한국</td>\n",
       "      <td>경유(Diesel)</td>\n",
       "      <td>2014년 1월 기준</td>\n",
       "      <td>유로6</td>\n",
       "      <td>Y</td>\n",
       "    </tr>\n",
       "    <tr>\n",
       "      <th>1</th>\n",
       "      <td>29</td>\n",
       "      <td>현대자동차(주)</td>\n",
       "      <td>승용(소형)</td>\n",
       "      <td>HMY-HD-14-61</td>\n",
       "      <td>2017-12-15</td>\n",
       "      <td>G80 2.2디젤 2WD</td>\n",
       "      <td>DH-22D-H6-2W8A</td>\n",
       "      <td>D4HC</td>\n",
       "      <td>2199</td>\n",
       "      <td>자동8단</td>\n",
       "      <td>202</td>\n",
       "      <td>3800</td>\n",
       "      <td>2435</td>\n",
       "      <td>2025</td>\n",
       "      <td>한국</td>\n",
       "      <td>경유(Diesel)</td>\n",
       "      <td>2017년 10월 기준</td>\n",
       "      <td>유로6</td>\n",
       "      <td>Y</td>\n",
       "    </tr>\n",
       "    <tr>\n",
       "      <th>2</th>\n",
       "      <td>31</td>\n",
       "      <td>현대자동차(주)</td>\n",
       "      <td>승용(소형)</td>\n",
       "      <td>HMY-HD-14-63</td>\n",
       "      <td>2017-12-15</td>\n",
       "      <td>G70 2.2 디젤 2WD</td>\n",
       "      <td>IK-22D-E6C-2W8A</td>\n",
       "      <td>D4HC</td>\n",
       "      <td>2199</td>\n",
       "      <td>자동8단</td>\n",
       "      <td>202</td>\n",
       "      <td>3800</td>\n",
       "      <td>2140</td>\n",
       "      <td>1765</td>\n",
       "      <td>한국</td>\n",
       "      <td>경유(Diesel)</td>\n",
       "      <td>2017년 10월 기준</td>\n",
       "      <td>유로6</td>\n",
       "      <td>Y</td>\n",
       "    </tr>\n",
       "    <tr>\n",
       "      <th>3</th>\n",
       "      <td>32</td>\n",
       "      <td>현대자동차(주)</td>\n",
       "      <td>승용(소형)</td>\n",
       "      <td>JMY-HD-14-15</td>\n",
       "      <td>2018-02-02</td>\n",
       "      <td>싼타페 2.0디젤 2WD</td>\n",
       "      <td>TM-20D7-H6-2W8A</td>\n",
       "      <td>D4HA</td>\n",
       "      <td>1995</td>\n",
       "      <td>자동8단</td>\n",
       "      <td>186</td>\n",
       "      <td>4000</td>\n",
       "      <td>2485</td>\n",
       "      <td>1910</td>\n",
       "      <td>한국</td>\n",
       "      <td>경유(Diesel)</td>\n",
       "      <td>2017년 10월 기준</td>\n",
       "      <td>유로6</td>\n",
       "      <td>Y</td>\n",
       "    </tr>\n",
       "    <tr>\n",
       "      <th>4</th>\n",
       "      <td>33</td>\n",
       "      <td>현대자동차(주)</td>\n",
       "      <td>승용(소형)</td>\n",
       "      <td>HMY-HD-14-62</td>\n",
       "      <td>2017-12-15</td>\n",
       "      <td>G70 2.2 디젤 AWD</td>\n",
       "      <td>IK-22D-E6C-AW8A</td>\n",
       "      <td>D4HC</td>\n",
       "      <td>2199</td>\n",
       "      <td>자동8단</td>\n",
       "      <td>202</td>\n",
       "      <td>3800</td>\n",
       "      <td>2215</td>\n",
       "      <td>1840</td>\n",
       "      <td>한국</td>\n",
       "      <td>경유(Diesel)</td>\n",
       "      <td>2017년 10월 기준</td>\n",
       "      <td>유로6</td>\n",
       "      <td>Y</td>\n",
       "    </tr>\n",
       "  </tbody>\n",
       "</table>\n",
       "</div>"
      ],
      "text/plain": [
       "   일련번호       제작사  배출가스차종      배출가스인증번호     배출가스인증일                      차명  \\\n",
       "0    27  현대자동차(주)  승용(중형)  FMY-HD-14-38  2015-07-29  그랜드스타렉스 2.5디젤 12인(4WD)   \n",
       "1    29  현대자동차(주)  승용(소형)  HMY-HD-14-61  2017-12-15           G80 2.2디젤 2WD   \n",
       "2    31  현대자동차(주)  승용(소형)  HMY-HD-14-63  2017-12-15          G70 2.2 디젤 2WD   \n",
       "3    32  현대자동차(주)  승용(소형)  JMY-HD-14-15  2018-02-02           싼타페 2.0디젤 2WD   \n",
       "4    33  현대자동차(주)  승용(소형)  HMY-HD-14-62  2017-12-15          G70 2.2 디젤 AWD   \n",
       "\n",
       "              자동차형식  엔진형식   배기량   변속기  최대출력PS  최대출력RPM   총중량  공차중량 제작국가  \\\n",
       "0  TQ-25D12-E6-4W5A  D4CB  2497  자동5단     175     3600  3395  2505   한국   \n",
       "1    DH-22D-H6-2W8A  D4HC  2199  자동8단     202     3800  2435  2025   한국   \n",
       "2   IK-22D-E6C-2W8A  D4HC  2199  자동8단     202     3800  2140  1765   한국   \n",
       "3   TM-20D7-H6-2W8A  D4HA  1995  자동8단     186     4000  2485  1910   한국   \n",
       "4   IK-22D-E6C-AW8A  D4HC  2199  자동8단     202     3800  2215  1840   한국   \n",
       "\n",
       "         사용연료        배출가스기준 유럽 기준 SCR 유(Y)무(N)  \n",
       "0  경유(Diesel)   2014년 1월 기준   유로6            Y  \n",
       "1  경유(Diesel)  2017년 10월 기준   유로6            Y  \n",
       "2  경유(Diesel)  2017년 10월 기준   유로6            Y  \n",
       "3  경유(Diesel)  2017년 10월 기준   유로6            Y  \n",
       "4  경유(Diesel)  2017년 10월 기준   유로6            Y  "
      ]
     },
     "execution_count": 63,
     "metadata": {},
     "output_type": "execute_result"
    }
   ],
   "source": [
    "s6.head()"
   ]
  },
  {
   "cell_type": "code",
   "execution_count": 64,
   "metadata": {},
   "outputs": [
    {
     "data": {
      "text/plain": [
       "['일련번호',\n",
       " '제작사',\n",
       " '배출가스차종',\n",
       " '배출가스인증번호',\n",
       " '배출가스인증일',\n",
       " '차명',\n",
       " '자동차형식',\n",
       " '엔진형식',\n",
       " '배기량',\n",
       " '변속기',\n",
       " '최대출력PS',\n",
       " '최대출력RPM',\n",
       " '총중량',\n",
       " '공차중량',\n",
       " '제작국가',\n",
       " '사용연료',\n",
       " '배출가스기준',\n",
       " '유럽 기준',\n",
       " 'SCR 유(Y)무(N)']"
      ]
     },
     "execution_count": 64,
     "metadata": {},
     "output_type": "execute_result"
    }
   ],
   "source": [
    "s6.columns.to_list()"
   ]
  },
  {
   "cell_type": "code",
   "execution_count": 65,
   "metadata": {},
   "outputs": [
    {
     "data": {
      "text/html": [
       "<div>\n",
       "<style scoped>\n",
       "    .dataframe tbody tr th:only-of-type {\n",
       "        vertical-align: middle;\n",
       "    }\n",
       "\n",
       "    .dataframe tbody tr th {\n",
       "        vertical-align: top;\n",
       "    }\n",
       "\n",
       "    .dataframe thead th {\n",
       "        text-align: right;\n",
       "    }\n",
       "</style>\n",
       "<table border=\"1\" class=\"dataframe\">\n",
       "  <thead>\n",
       "    <tr style=\"text-align: right;\">\n",
       "      <th></th>\n",
       "      <th>배출가스인증번호</th>\n",
       "      <th>제작사</th>\n",
       "      <th>차명</th>\n",
       "      <th>제작국가</th>\n",
       "      <th>유럽 기준</th>\n",
       "      <th>SCR 유(Y)무(N)</th>\n",
       "    </tr>\n",
       "  </thead>\n",
       "  <tbody>\n",
       "    <tr>\n",
       "      <th>0</th>\n",
       "      <td>FMY-HD-14-38</td>\n",
       "      <td>현대자동차(주)</td>\n",
       "      <td>그랜드스타렉스 2.5디젤 12인(4WD)</td>\n",
       "      <td>한국</td>\n",
       "      <td>유로6</td>\n",
       "      <td>Y</td>\n",
       "    </tr>\n",
       "    <tr>\n",
       "      <th>1</th>\n",
       "      <td>HMY-HD-14-61</td>\n",
       "      <td>현대자동차(주)</td>\n",
       "      <td>G80 2.2디젤 2WD</td>\n",
       "      <td>한국</td>\n",
       "      <td>유로6</td>\n",
       "      <td>Y</td>\n",
       "    </tr>\n",
       "    <tr>\n",
       "      <th>2</th>\n",
       "      <td>HMY-HD-14-63</td>\n",
       "      <td>현대자동차(주)</td>\n",
       "      <td>G70 2.2 디젤 2WD</td>\n",
       "      <td>한국</td>\n",
       "      <td>유로6</td>\n",
       "      <td>Y</td>\n",
       "    </tr>\n",
       "    <tr>\n",
       "      <th>3</th>\n",
       "      <td>JMY-HD-14-15</td>\n",
       "      <td>현대자동차(주)</td>\n",
       "      <td>싼타페 2.0디젤 2WD</td>\n",
       "      <td>한국</td>\n",
       "      <td>유로6</td>\n",
       "      <td>Y</td>\n",
       "    </tr>\n",
       "    <tr>\n",
       "      <th>4</th>\n",
       "      <td>HMY-HD-14-62</td>\n",
       "      <td>현대자동차(주)</td>\n",
       "      <td>G70 2.2 디젤 AWD</td>\n",
       "      <td>한국</td>\n",
       "      <td>유로6</td>\n",
       "      <td>Y</td>\n",
       "    </tr>\n",
       "  </tbody>\n",
       "</table>\n",
       "</div>"
      ],
      "text/plain": [
       "       배출가스인증번호       제작사                      차명 제작국가 유럽 기준 SCR 유(Y)무(N)\n",
       "0  FMY-HD-14-38  현대자동차(주)  그랜드스타렉스 2.5디젤 12인(4WD)   한국   유로6            Y\n",
       "1  HMY-HD-14-61  현대자동차(주)           G80 2.2디젤 2WD   한국   유로6            Y\n",
       "2  HMY-HD-14-63  현대자동차(주)          G70 2.2 디젤 2WD   한국   유로6            Y\n",
       "3  JMY-HD-14-15  현대자동차(주)           싼타페 2.0디젤 2WD   한국   유로6            Y\n",
       "4  HMY-HD-14-62  현대자동차(주)          G70 2.2 디젤 AWD   한국   유로6            Y"
      ]
     },
     "execution_count": 65,
     "metadata": {},
     "output_type": "execute_result"
    }
   ],
   "source": [
    "s6m = s6[[\n",
    "    '배출가스인증번호',\n",
    "    '제작사',\n",
    "    '차명',\n",
    "    '제작국가',\n",
    "    '유럽 기준',\n",
    "    'SCR 유(Y)무(N)'\n",
    "\n",
    "    # '일련번호',\n",
    "    # '배출가스차종',\n",
    "    # '배출가스인증일',\n",
    "    # '자동차형식',\n",
    "    # '엔진형식',\n",
    "    # '배기량',\n",
    "    # '변속기',\n",
    "    # '최대출력PS',\n",
    "    # '최대출력RPM',\n",
    "    # '총중량',\n",
    "    # '공차중량',\n",
    "    # '사용연료',\n",
    "    # '배출가스기준',\n",
    "]]\n",
    "s6m.head()"
   ]
  },
  {
   "cell_type": "code",
   "execution_count": 66,
   "metadata": {},
   "outputs": [
    {
     "data": {
      "text/html": [
       "<div>\n",
       "<style scoped>\n",
       "    .dataframe tbody tr th:only-of-type {\n",
       "        vertical-align: middle;\n",
       "    }\n",
       "\n",
       "    .dataframe tbody tr th {\n",
       "        vertical-align: top;\n",
       "    }\n",
       "\n",
       "    .dataframe thead th {\n",
       "        text-align: right;\n",
       "    }\n",
       "</style>\n",
       "<table border=\"1\" class=\"dataframe\">\n",
       "  <thead>\n",
       "    <tr style=\"text-align: right;\">\n",
       "      <th></th>\n",
       "      <th>배출가스인증번호</th>\n",
       "      <th>제작사</th>\n",
       "      <th>차명</th>\n",
       "      <th>제작국</th>\n",
       "      <th>유럽기준</th>\n",
       "      <th>SCR유무</th>\n",
       "    </tr>\n",
       "  </thead>\n",
       "  <tbody>\n",
       "    <tr>\n",
       "      <th>0</th>\n",
       "      <td>FMY-HD-14-38</td>\n",
       "      <td>현대자동차(주)</td>\n",
       "      <td>그랜드스타렉스 2.5디젤 12인(4WD)</td>\n",
       "      <td>한국</td>\n",
       "      <td>유로6</td>\n",
       "      <td>Y</td>\n",
       "    </tr>\n",
       "    <tr>\n",
       "      <th>1</th>\n",
       "      <td>HMY-HD-14-61</td>\n",
       "      <td>현대자동차(주)</td>\n",
       "      <td>G80 2.2디젤 2WD</td>\n",
       "      <td>한국</td>\n",
       "      <td>유로6</td>\n",
       "      <td>Y</td>\n",
       "    </tr>\n",
       "    <tr>\n",
       "      <th>2</th>\n",
       "      <td>HMY-HD-14-63</td>\n",
       "      <td>현대자동차(주)</td>\n",
       "      <td>G70 2.2 디젤 2WD</td>\n",
       "      <td>한국</td>\n",
       "      <td>유로6</td>\n",
       "      <td>Y</td>\n",
       "    </tr>\n",
       "    <tr>\n",
       "      <th>3</th>\n",
       "      <td>JMY-HD-14-15</td>\n",
       "      <td>현대자동차(주)</td>\n",
       "      <td>싼타페 2.0디젤 2WD</td>\n",
       "      <td>한국</td>\n",
       "      <td>유로6</td>\n",
       "      <td>Y</td>\n",
       "    </tr>\n",
       "    <tr>\n",
       "      <th>4</th>\n",
       "      <td>HMY-HD-14-62</td>\n",
       "      <td>현대자동차(주)</td>\n",
       "      <td>G70 2.2 디젤 AWD</td>\n",
       "      <td>한국</td>\n",
       "      <td>유로6</td>\n",
       "      <td>Y</td>\n",
       "    </tr>\n",
       "  </tbody>\n",
       "</table>\n",
       "</div>"
      ],
      "text/plain": [
       "       배출가스인증번호       제작사                      차명 제작국 유럽기준 SCR유무\n",
       "0  FMY-HD-14-38  현대자동차(주)  그랜드스타렉스 2.5디젤 12인(4WD)  한국  유로6     Y\n",
       "1  HMY-HD-14-61  현대자동차(주)           G80 2.2디젤 2WD  한국  유로6     Y\n",
       "2  HMY-HD-14-63  현대자동차(주)          G70 2.2 디젤 2WD  한국  유로6     Y\n",
       "3  JMY-HD-14-15  현대자동차(주)           싼타페 2.0디젤 2WD  한국  유로6     Y\n",
       "4  HMY-HD-14-62  현대자동차(주)          G70 2.2 디젤 AWD  한국  유로6     Y"
      ]
     },
     "execution_count": 66,
     "metadata": {},
     "output_type": "execute_result"
    }
   ],
   "source": [
    "s6m = s6m.rename(columns={'SCR 유(Y)무(N)':'SCR유무', '제작국가':'제작국', '유럽 기준':'유럽기준'})\n",
    "s6m.head()"
   ]
  },
  {
   "cell_type": "code",
   "execution_count": 67,
   "metadata": {},
   "outputs": [
    {
     "data": {
      "text/plain": [
       "110"
      ]
     },
     "execution_count": 67,
     "metadata": {},
     "output_type": "execute_result"
    }
   ],
   "source": [
    "l45m.shape[0] + l6m.shape[0] + s6m.shape[0]"
   ]
  },
  {
   "cell_type": "code",
   "execution_count": 68,
   "metadata": {},
   "outputs": [
    {
     "data": {
      "text/plain": [
       "(110, 6)"
      ]
     },
     "execution_count": 68,
     "metadata": {},
     "output_type": "execute_result"
    }
   ],
   "source": [
    "cert = pd.concat([l45m, l6m, s6m], ignore_index=True)\n",
    "cert.shape"
   ]
  },
  {
   "cell_type": "code",
   "execution_count": 69,
   "metadata": {},
   "outputs": [
    {
     "data": {
      "text/html": [
       "<div>\n",
       "<style scoped>\n",
       "    .dataframe tbody tr th:only-of-type {\n",
       "        vertical-align: middle;\n",
       "    }\n",
       "\n",
       "    .dataframe tbody tr th {\n",
       "        vertical-align: top;\n",
       "    }\n",
       "\n",
       "    .dataframe thead th {\n",
       "        text-align: right;\n",
       "    }\n",
       "</style>\n",
       "<table border=\"1\" class=\"dataframe\">\n",
       "  <thead>\n",
       "    <tr style=\"text-align: right;\">\n",
       "      <th></th>\n",
       "      <th>배출가스인증번호</th>\n",
       "      <th>제작사</th>\n",
       "      <th>차명</th>\n",
       "      <th>제작국</th>\n",
       "      <th>유럽기준</th>\n",
       "      <th>SCR유무</th>\n",
       "    </tr>\n",
       "  </thead>\n",
       "  <tbody>\n",
       "    <tr>\n",
       "      <th>22</th>\n",
       "      <td>AMY-SK-14-02</td>\n",
       "      <td>스카니아</td>\n",
       "      <td>스카니아트랙터\\n(견인형)</td>\n",
       "      <td>스웨덴</td>\n",
       "      <td>유로5</td>\n",
       "      <td>Y</td>\n",
       "    </tr>\n",
       "    <tr>\n",
       "      <th>23</th>\n",
       "      <td>AMY-SK-14-03</td>\n",
       "      <td>스카니아</td>\n",
       "      <td>스카니아카고트럭\\n(견인형)</td>\n",
       "      <td>스웨덴</td>\n",
       "      <td>유로5</td>\n",
       "      <td>Y</td>\n",
       "    </tr>\n",
       "    <tr>\n",
       "      <th>24</th>\n",
       "      <td>CMY-SK-14-01</td>\n",
       "      <td>스카니아</td>\n",
       "      <td>스카니아카고트럭\\n(견인형)</td>\n",
       "      <td>스웨덴</td>\n",
       "      <td>유로5</td>\n",
       "      <td>Y</td>\n",
       "    </tr>\n",
       "  </tbody>\n",
       "</table>\n",
       "</div>"
      ],
      "text/plain": [
       "        배출가스인증번호   제작사               차명  제작국 유럽기준 SCR유무\n",
       "22  AMY-SK-14-02  스카니아   스카니아트랙터\\n(견인형)  스웨덴  유로5     Y\n",
       "23  AMY-SK-14-03  스카니아  스카니아카고트럭\\n(견인형)  스웨덴  유로5     Y\n",
       "24  CMY-SK-14-01  스카니아  스카니아카고트럭\\n(견인형)  스웨덴  유로5     Y"
      ]
     },
     "execution_count": 69,
     "metadata": {},
     "output_type": "execute_result"
    }
   ],
   "source": [
    "cert[cert['차명'].str.contains(r'\\n')]"
   ]
  },
  {
   "cell_type": "code",
   "execution_count": 70,
   "metadata": {},
   "outputs": [
    {
     "data": {
      "text/html": [
       "<div>\n",
       "<style scoped>\n",
       "    .dataframe tbody tr th:only-of-type {\n",
       "        vertical-align: middle;\n",
       "    }\n",
       "\n",
       "    .dataframe tbody tr th {\n",
       "        vertical-align: top;\n",
       "    }\n",
       "\n",
       "    .dataframe thead th {\n",
       "        text-align: right;\n",
       "    }\n",
       "</style>\n",
       "<table border=\"1\" class=\"dataframe\">\n",
       "  <thead>\n",
       "    <tr style=\"text-align: right;\">\n",
       "      <th></th>\n",
       "      <th>배출가스인증번호</th>\n",
       "      <th>제작사</th>\n",
       "      <th>차명</th>\n",
       "      <th>제작국</th>\n",
       "      <th>유럽기준</th>\n",
       "      <th>SCR유무</th>\n",
       "    </tr>\n",
       "  </thead>\n",
       "  <tbody>\n",
       "    <tr>\n",
       "      <th>22</th>\n",
       "      <td>AMY-SK-14-02</td>\n",
       "      <td>스카니아</td>\n",
       "      <td>스카니아트랙터(견인형)</td>\n",
       "      <td>스웨덴</td>\n",
       "      <td>유로5</td>\n",
       "      <td>Y</td>\n",
       "    </tr>\n",
       "    <tr>\n",
       "      <th>23</th>\n",
       "      <td>AMY-SK-14-03</td>\n",
       "      <td>스카니아</td>\n",
       "      <td>스카니아카고트럭(견인형)</td>\n",
       "      <td>스웨덴</td>\n",
       "      <td>유로5</td>\n",
       "      <td>Y</td>\n",
       "    </tr>\n",
       "    <tr>\n",
       "      <th>24</th>\n",
       "      <td>CMY-SK-14-01</td>\n",
       "      <td>스카니아</td>\n",
       "      <td>스카니아카고트럭(견인형)</td>\n",
       "      <td>스웨덴</td>\n",
       "      <td>유로5</td>\n",
       "      <td>Y</td>\n",
       "    </tr>\n",
       "  </tbody>\n",
       "</table>\n",
       "</div>"
      ],
      "text/plain": [
       "        배출가스인증번호   제작사             차명  제작국 유럽기준 SCR유무\n",
       "22  AMY-SK-14-02  스카니아   스카니아트랙터(견인형)  스웨덴  유로5     Y\n",
       "23  AMY-SK-14-03  스카니아  스카니아카고트럭(견인형)  스웨덴  유로5     Y\n",
       "24  CMY-SK-14-01  스카니아  스카니아카고트럭(견인형)  스웨덴  유로5     Y"
      ]
     },
     "execution_count": 70,
     "metadata": {},
     "output_type": "execute_result"
    }
   ],
   "source": [
    "cert['차명'] = cert['차명'].str.replace('\\n', '')\n",
    "cert.loc[22:24, :]"
   ]
  },
  {
   "cell_type": "code",
   "execution_count": 71,
   "metadata": {},
   "outputs": [
    {
     "data": {
      "text/plain": [
       "현대자동차(주)      40\n",
       "타타대우상용차       11\n",
       "대우버스          10\n",
       "타타대우상용차(주)     8\n",
       "현대자동차㈜         7\n",
       "현대자동차          6\n",
       "볼보트럭코퍼레이션      5\n",
       "Daimler AG     5\n",
       "자일대우버스(주)      5\n",
       "스카니아           3\n",
       "만              3\n",
       "이베코            3\n",
       "기아(주)          2\n",
       "진화영맨           1\n",
       "(주)우진산전        1\n",
       "Name: 제작사, dtype: int64"
      ]
     },
     "execution_count": 71,
     "metadata": {},
     "output_type": "execute_result"
    }
   ],
   "source": [
    "cert['제작사'].value_counts(dropna=False)"
   ]
  },
  {
   "cell_type": "code",
   "execution_count": 72,
   "metadata": {},
   "outputs": [
    {
     "data": {
      "text/plain": [
       "한국      90\n",
       "스웨덴      8\n",
       "독일       8\n",
       "이탈리아     3\n",
       "중국       1\n",
       "Name: 제작국, dtype: int64"
      ]
     },
     "execution_count": 72,
     "metadata": {},
     "output_type": "execute_result"
    }
   ],
   "source": [
    "cert['제작국'].value_counts(dropna=False)"
   ]
  },
  {
   "cell_type": "code",
   "execution_count": 73,
   "metadata": {},
   "outputs": [
    {
     "data": {
      "text/plain": [
       "유로6    68\n",
       "유로5    33\n",
       "유로4     9\n",
       "Name: 유럽기준, dtype: int64"
      ]
     },
     "execution_count": 73,
     "metadata": {},
     "output_type": "execute_result"
    }
   ],
   "source": [
    "cert['유럽기준'].value_counts(dropna=False)"
   ]
  },
  {
   "cell_type": "code",
   "execution_count": 74,
   "metadata": {},
   "outputs": [
    {
     "data": {
      "text/plain": [
       "Y    110\n",
       "Name: SCR유무, dtype: int64"
      ]
     },
     "execution_count": 74,
     "metadata": {},
     "output_type": "execute_result"
    }
   ],
   "source": [
    "cert['SCR유무'].value_counts(dropna=False)"
   ]
  },
  {
   "cell_type": "code",
   "execution_count": 75,
   "metadata": {},
   "outputs": [
    {
     "data": {
      "text/html": [
       "<div>\n",
       "<style scoped>\n",
       "    .dataframe tbody tr th:only-of-type {\n",
       "        vertical-align: middle;\n",
       "    }\n",
       "\n",
       "    .dataframe tbody tr th {\n",
       "        vertical-align: top;\n",
       "    }\n",
       "\n",
       "    .dataframe thead th {\n",
       "        text-align: right;\n",
       "    }\n",
       "</style>\n",
       "<table border=\"1\" class=\"dataframe\">\n",
       "  <thead>\n",
       "    <tr style=\"text-align: right;\">\n",
       "      <th></th>\n",
       "      <th>배출가스인증번호</th>\n",
       "      <th>제작사</th>\n",
       "      <th>차명</th>\n",
       "      <th>제작국</th>\n",
       "      <th>유럽기준</th>\n",
       "      <th>SCR유무</th>\n",
       "    </tr>\n",
       "  </thead>\n",
       "  <tbody>\n",
       "    <tr>\n",
       "      <th>0</th>\n",
       "      <td>AMY-HD-14-35</td>\n",
       "      <td>현대자동차</td>\n",
       "      <td>현대25.5톤덤프트럭</td>\n",
       "      <td>한국</td>\n",
       "      <td>유로5</td>\n",
       "      <td>Y</td>\n",
       "    </tr>\n",
       "    <tr>\n",
       "      <th>1</th>\n",
       "      <td>7MY-DC-23-70</td>\n",
       "      <td>타타대우상용차</td>\n",
       "      <td>대우25톤장축카고트럭</td>\n",
       "      <td>한국</td>\n",
       "      <td>유로4</td>\n",
       "      <td>Y</td>\n",
       "    </tr>\n",
       "    <tr>\n",
       "      <th>2</th>\n",
       "      <td>7MY-DC-23-72</td>\n",
       "      <td>타타대우상용차</td>\n",
       "      <td>대우5톤초장축카고트럭</td>\n",
       "      <td>한국</td>\n",
       "      <td>유로4</td>\n",
       "      <td>Y</td>\n",
       "    </tr>\n",
       "    <tr>\n",
       "      <th>3</th>\n",
       "      <td>8MY-DC-24-12</td>\n",
       "      <td>타타대우상용차</td>\n",
       "      <td>대우5톤초장축카고트럭</td>\n",
       "      <td>한국</td>\n",
       "      <td>유로4</td>\n",
       "      <td>Y</td>\n",
       "    </tr>\n",
       "    <tr>\n",
       "      <th>4</th>\n",
       "      <td>8MY-DC-24-15</td>\n",
       "      <td>타타대우상용차</td>\n",
       "      <td>대우트랙터</td>\n",
       "      <td>한국</td>\n",
       "      <td>유로4</td>\n",
       "      <td>Y</td>\n",
       "    </tr>\n",
       "  </tbody>\n",
       "</table>\n",
       "</div>"
      ],
      "text/plain": [
       "       배출가스인증번호      제작사           차명 제작국 유럽기준 SCR유무\n",
       "0  AMY-HD-14-35    현대자동차  현대25.5톤덤프트럭  한국  유로5     Y\n",
       "1  7MY-DC-23-70  타타대우상용차  대우25톤장축카고트럭  한국  유로4     Y\n",
       "2  7MY-DC-23-72  타타대우상용차  대우5톤초장축카고트럭  한국  유로4     Y\n",
       "3  8MY-DC-24-12  타타대우상용차  대우5톤초장축카고트럭  한국  유로4     Y\n",
       "4  8MY-DC-24-15  타타대우상용차        대우트랙터  한국  유로4     Y"
      ]
     },
     "execution_count": 75,
     "metadata": {},
     "output_type": "execute_result"
    }
   ],
   "source": [
    "cert.head()"
   ]
  },
  {
   "cell_type": "code",
   "execution_count": 76,
   "metadata": {},
   "outputs": [
    {
     "data": {
      "text/plain": [
       "배출가스인증번호    0\n",
       "제작사         0\n",
       "차명          0\n",
       "제작국         0\n",
       "유럽기준        0\n",
       "SCR유무       0\n",
       "dtype: int64"
      ]
     },
     "execution_count": 76,
     "metadata": {},
     "output_type": "execute_result"
    }
   ],
   "source": [
    "cert.isnull().sum()"
   ]
  },
  {
   "cell_type": "markdown",
   "metadata": {},
   "source": [
    "### [출력] 인증대장"
   ]
  },
  {
   "cell_type": "code",
   "execution_count": 77,
   "metadata": {},
   "outputs": [
    {
     "data": {
      "text/plain": [
       "'20231214'"
      ]
     },
     "execution_count": 77,
     "metadata": {},
     "output_type": "execute_result"
    }
   ],
   "source": [
    "today_date = datetime.today().strftime('%Y%m%d')\n",
    "today_date"
   ]
  },
  {
   "cell_type": "code",
   "execution_count": 63,
   "metadata": {},
   "outputs": [
    {
     "name": "stdout",
     "output_type": "stream",
     "text": [
      "D:/data/processing/urea/raw\\인증대장_20231214.csv\n"
     ]
    }
   ],
   "source": [
    "# # 0.0s\n",
    "# cert.to_csv(os.path.join(raw_fold, f'인증대장_{today_date}.csv'), index=False)\n",
    "# print(os.path.join(raw_fold, f'인증대장_{today_date}.csv'))"
   ]
  },
  {
   "cell_type": "markdown",
   "metadata": {},
   "source": [
    "### [로드] 인증대장 종합"
   ]
  },
  {
   "cell_type": "code",
   "execution_count": 6,
   "metadata": {},
   "outputs": [
    {
     "name": "stdout",
     "output_type": "stream",
     "text": [
      "<class 'pandas.core.frame.DataFrame'>\n",
      "RangeIndex: 110 entries, 0 to 109\n",
      "Data columns (total 6 columns):\n",
      " #   Column    Non-Null Count  Dtype \n",
      "---  ------    --------------  ----- \n",
      " 0   배출가스인증번호  110 non-null    object\n",
      " 1   제작사       110 non-null    object\n",
      " 2   차명        110 non-null    object\n",
      " 3   제작국       110 non-null    object\n",
      " 4   유럽기준      110 non-null    object\n",
      " 5   SCR유무     110 non-null    object\n",
      "dtypes: object(6)\n",
      "memory usage: 5.3+ KB\n"
     ]
    }
   ],
   "source": [
    "cert = pd.read_csv(os.path.join(raw_fold, '인증대장_20231214.csv'))\n",
    "cert.info()"
   ]
  },
  {
   "cell_type": "markdown",
   "metadata": {},
   "source": [
    "## 등록 + 인증\n",
    "- 기준 : 배출가스인증번호"
   ]
  },
  {
   "cell_type": "code",
   "execution_count": 78,
   "metadata": {},
   "outputs": [
    {
     "data": {
      "text/plain": [
       "(9533735, 12)"
      ]
     },
     "execution_count": 78,
     "metadata": {},
     "output_type": "execute_result"
    }
   ],
   "source": [
    "csm.shape"
   ]
  },
  {
   "cell_type": "code",
   "execution_count": 79,
   "metadata": {},
   "outputs": [],
   "source": [
    "cc = csm.copy()"
   ]
  },
  {
   "cell_type": "code",
   "execution_count": 80,
   "metadata": {},
   "outputs": [
    {
     "data": {
      "text/plain": [
       "Index(['배출가스인증번호', '제작사', '차명', '제작국', '유럽기준', 'SCR유무'], dtype='object')"
      ]
     },
     "execution_count": 80,
     "metadata": {},
     "output_type": "execute_result"
    }
   ],
   "source": [
    "cert.columns"
   ]
  },
  {
   "cell_type": "code",
   "execution_count": 81,
   "metadata": {},
   "outputs": [],
   "source": [
    "# 1m 6.8s\n",
    "for one, two, three, four, five, six in cert.values:\n",
    "    cc.loc[cc['배출가스인증번호'] == one, ['제작사명', '차명', '제작국', '유럽기준', 'SCR유무']] = [two, three, four, five, six]    "
   ]
  },
  {
   "cell_type": "code",
   "execution_count": 82,
   "metadata": {},
   "outputs": [
    {
     "data": {
      "text/plain": [
       "Index(['배출가스인증번호', '배출가스등급', '최초등록일자', '차량말소유무', '연식', '차종', '차대번호', '엔진형식',\n",
       "       '연료', '제작사명', '총중량', '차명', '제작국', '유럽기준', 'SCR유무'],\n",
       "      dtype='object')"
      ]
     },
     "execution_count": 82,
     "metadata": {},
     "output_type": "execute_result"
    }
   ],
   "source": [
    "cc.columns"
   ]
  },
  {
   "cell_type": "code",
   "execution_count": 83,
   "metadata": {},
   "outputs": [
    {
     "data": {
      "text/plain": [
       "제작사명         592\n",
       "차명             0\n",
       "제작국      8473081\n",
       "유럽기준     8473081\n",
       "SCR유무    8473081\n",
       "dtype: int64"
      ]
     },
     "execution_count": 83,
     "metadata": {},
     "output_type": "execute_result"
    }
   ],
   "source": [
    "cc[['제작사명', '차명', '제작국', '유럽기준', 'SCR유무']].isnull().sum()"
   ]
  },
  {
   "cell_type": "markdown",
   "metadata": {},
   "source": [
    "## 등록 + 인증 + 저감"
   ]
  },
  {
   "cell_type": "code",
   "execution_count": 84,
   "metadata": {},
   "outputs": [
    {
     "data": {
      "text/plain": [
       "(9533735, 16)"
      ]
     },
     "execution_count": 84,
     "metadata": {},
     "output_type": "execute_result"
    }
   ],
   "source": [
    "# 13.8s\n",
    "cca = cc.merge(attm, on='차대번호', how='left')\n",
    "cca.shape"
   ]
  },
  {
   "cell_type": "code",
   "execution_count": 85,
   "metadata": {},
   "outputs": [
    {
     "data": {
      "text/plain": [
       "Index(['배출가스인증번호', '배출가스등급', '최초등록일자', '차량말소유무', '연식', '차종', '차대번호', '엔진형식',\n",
       "       '연료', '제작사명', '총중량', '차명', '제작국', '유럽기준', 'SCR유무', '저감장치구분'],\n",
       "      dtype='object')"
      ]
     },
     "execution_count": 85,
     "metadata": {},
     "output_type": "execute_result"
    }
   ],
   "source": [
    "cca.columns"
   ]
  },
  {
   "cell_type": "markdown",
   "metadata": {},
   "source": [
    "### [출력] 제작사명, 엔진형식\n",
    "- 국내외 구분 위해"
   ]
  },
  {
   "cell_type": "code",
   "execution_count": 164,
   "metadata": {},
   "outputs": [
    {
     "data": {
      "text/plain": [
       "(8679, 3)"
      ]
     },
     "execution_count": 164,
     "metadata": {},
     "output_type": "execute_result"
    }
   ],
   "source": [
    "ex = cca.groupby(['엔진형식', '제작사명'])['차대번호'].count().reset_index()\n",
    "ex.shape"
   ]
  },
  {
   "cell_type": "code",
   "execution_count": 165,
   "metadata": {},
   "outputs": [
    {
     "data": {
      "text/html": [
       "<div>\n",
       "<style scoped>\n",
       "    .dataframe tbody tr th:only-of-type {\n",
       "        vertical-align: middle;\n",
       "    }\n",
       "\n",
       "    .dataframe tbody tr th {\n",
       "        vertical-align: top;\n",
       "    }\n",
       "\n",
       "    .dataframe thead th {\n",
       "        text-align: right;\n",
       "    }\n",
       "</style>\n",
       "<table border=\"1\" class=\"dataframe\">\n",
       "  <thead>\n",
       "    <tr style=\"text-align: right;\">\n",
       "      <th></th>\n",
       "      <th>엔진형식</th>\n",
       "      <th>제작사명</th>\n",
       "      <th>차대번호</th>\n",
       "    </tr>\n",
       "  </thead>\n",
       "  <tbody>\n",
       "    <tr>\n",
       "      <th>0</th>\n",
       "      <td>-</td>\n",
       "      <td>(주) 두성특장차</td>\n",
       "      <td>1</td>\n",
       "    </tr>\n",
       "    <tr>\n",
       "      <th>1</th>\n",
       "      <td>-</td>\n",
       "      <td>한국특장차(주)</td>\n",
       "      <td>1</td>\n",
       "    </tr>\n",
       "    <tr>\n",
       "      <th>2</th>\n",
       "      <td>.D4GB</td>\n",
       "      <td>(주) 골드밴</td>\n",
       "      <td>1</td>\n",
       "    </tr>\n",
       "    <tr>\n",
       "      <th>3</th>\n",
       "      <td>0</td>\n",
       "      <td>SOFA차량</td>\n",
       "      <td>4</td>\n",
       "    </tr>\n",
       "    <tr>\n",
       "      <th>4</th>\n",
       "      <td>0</td>\n",
       "      <td>남도수입</td>\n",
       "      <td>1</td>\n",
       "    </tr>\n",
       "  </tbody>\n",
       "</table>\n",
       "</div>"
      ],
      "text/plain": [
       "    엔진형식       제작사명  차대번호\n",
       "0      -  (주) 두성특장차     1\n",
       "1      -   한국특장차(주)     1\n",
       "2  .D4GB    (주) 골드밴     1\n",
       "3      0     SOFA차량     4\n",
       "4      0       남도수입     1"
      ]
     },
     "execution_count": 165,
     "metadata": {},
     "output_type": "execute_result"
    }
   ],
   "source": [
    "ex.head()"
   ]
  },
  {
   "cell_type": "code",
   "execution_count": null,
   "metadata": {},
   "outputs": [],
   "source": [
    "exc = ex[['엔진형식', '제작사명']].merge(ck, on=['엔진형식', '제작사명'], how='left')\n",
    "exc1 = exc[exc['구분'].isnull()].reset_index(drop=True)\n",
    "exc1.shape"
   ]
  },
  {
   "cell_type": "code",
   "execution_count": null,
   "metadata": {},
   "outputs": [],
   "source": [
    "today_date = datetime.today().strftime('%Y%m%d')\n",
    "today_date"
   ]
  },
  {
   "cell_type": "code",
   "execution_count": 166,
   "metadata": {},
   "outputs": [],
   "source": [
    "# ex.to_excel(os.path.join(an_fold, f'엔진형식_제작사명_리스트_{today_date}.xlsx'), index=False)"
   ]
  },
  {
   "cell_type": "code",
   "execution_count": null,
   "metadata": {},
   "outputs": [],
   "source": [
    "exc1.to_excel(os.path.join(an_fold, f'추가_엔진형식_제작사명_리스트_{today_date}.xlsx'), index=False)"
   ]
  },
  {
   "cell_type": "markdown",
   "metadata": {},
   "source": [
    "## 제작사 국내외 구분 설정"
   ]
  },
  {
   "cell_type": "code",
   "execution_count": 86,
   "metadata": {},
   "outputs": [
    {
     "data": {
      "text/plain": [
       "Index(['배출가스인증번호', '배출가스등급', '최초등록일자', '차량말소유무', '연식', '차종', '차대번호', '엔진형식',\n",
       "       '연료', '제작사명', '총중량', '차명', '제작국', '유럽기준', 'SCR유무', '저감장치구분'],\n",
       "      dtype='object')"
      ]
     },
     "execution_count": 86,
     "metadata": {},
     "output_type": "execute_result"
    }
   ],
   "source": [
    "cca.columns"
   ]
  },
  {
   "cell_type": "code",
   "execution_count": 87,
   "metadata": {},
   "outputs": [
    {
     "data": {
      "text/plain": [
       "Index(['엔진형식', '제작사명', '구분'], dtype='object')"
      ]
     },
     "execution_count": 87,
     "metadata": {},
     "output_type": "execute_result"
    }
   ],
   "source": [
    "ck.columns"
   ]
  },
  {
   "cell_type": "code",
   "execution_count": 88,
   "metadata": {},
   "outputs": [
    {
     "data": {
      "text/plain": [
       "(9533735, 16)"
      ]
     },
     "execution_count": 88,
     "metadata": {},
     "output_type": "execute_result"
    }
   ],
   "source": [
    "cca.shape"
   ]
  },
  {
   "cell_type": "code",
   "execution_count": 89,
   "metadata": {},
   "outputs": [
    {
     "data": {
      "text/plain": [
       "(9533735, 17)"
      ]
     },
     "execution_count": 89,
     "metadata": {},
     "output_type": "execute_result"
    }
   ],
   "source": [
    "ccac = cca.merge(ck, on=['제작사명', '엔진형식'], how='left')\n",
    "ccac.shape"
   ]
  },
  {
   "cell_type": "code",
   "execution_count": 90,
   "metadata": {},
   "outputs": [
    {
     "data": {
      "text/plain": [
       "429555"
      ]
     },
     "execution_count": 90,
     "metadata": {},
     "output_type": "execute_result"
    }
   ],
   "source": [
    "ccac['구분'].isnull().sum()"
   ]
  },
  {
   "cell_type": "code",
   "execution_count": 91,
   "metadata": {},
   "outputs": [
    {
     "data": {
      "text/plain": [
       "Index(['배출가스인증번호', '배출가스등급', '최초등록일자', '차량말소유무', '연식', '차종', '차대번호', '엔진형식',\n",
       "       '연료', '제작사명', '총중량', '차명', '제작국', '유럽기준', 'SCR유무', '저감장치구분', '구분'],\n",
       "      dtype='object')"
      ]
     },
     "execution_count": 91,
     "metadata": {},
     "output_type": "execute_result"
    }
   ],
   "source": [
    "ccac.columns"
   ]
  },
  {
   "cell_type": "markdown",
   "metadata": {},
   "source": [
    "## 등록 + 인증 + 저감 + 제작국 + SCR 통계"
   ]
  },
  {
   "cell_type": "code",
   "execution_count": 92,
   "metadata": {},
   "outputs": [
    {
     "data": {
      "text/html": [
       "<div>\n",
       "<style scoped>\n",
       "    .dataframe tbody tr th:only-of-type {\n",
       "        vertical-align: middle;\n",
       "    }\n",
       "\n",
       "    .dataframe tbody tr th {\n",
       "        vertical-align: top;\n",
       "    }\n",
       "\n",
       "    .dataframe thead th {\n",
       "        text-align: right;\n",
       "    }\n",
       "</style>\n",
       "<table border=\"1\" class=\"dataframe\">\n",
       "  <thead>\n",
       "    <tr style=\"text-align: right;\">\n",
       "      <th></th>\n",
       "      <th>인증번호</th>\n",
       "      <th>차종</th>\n",
       "      <th>제조사</th>\n",
       "      <th>차명</th>\n",
       "      <th>통계자료존재유무</th>\n",
       "    </tr>\n",
       "  </thead>\n",
       "  <tbody>\n",
       "    <tr>\n",
       "      <th>0</th>\n",
       "      <td>AMY-HD-14-35</td>\n",
       "      <td>화물</td>\n",
       "      <td>현대</td>\n",
       "      <td>트라고/엑시언트 (L엔진, D6CE)</td>\n",
       "      <td>Y</td>\n",
       "    </tr>\n",
       "    <tr>\n",
       "      <th>1</th>\n",
       "      <td>EMY-HD-14-45</td>\n",
       "      <td>승합</td>\n",
       "      <td>현대</td>\n",
       "      <td>유니버스 / 엑시언트 (L엔진, D6CG)</td>\n",
       "      <td>Y</td>\n",
       "    </tr>\n",
       "    <tr>\n",
       "      <th>2</th>\n",
       "      <td>EMY-HD-14-48</td>\n",
       "      <td>승합</td>\n",
       "      <td>현대</td>\n",
       "      <td>유니버스,뉴슈퍼에어로시티 / 엑시언트 (H엔진, D6HC)</td>\n",
       "      <td>Y</td>\n",
       "    </tr>\n",
       "    <tr>\n",
       "      <th>3</th>\n",
       "      <td>EMY-HD-14-51</td>\n",
       "      <td>승합</td>\n",
       "      <td>현대</td>\n",
       "      <td>현대그린시티, 이-에어로타운 / 메가트럭, 메가트럭(와이드캡), 파비스 (G엔진, ...</td>\n",
       "      <td>Y</td>\n",
       "    </tr>\n",
       "    <tr>\n",
       "      <th>4</th>\n",
       "      <td>EMY-HD-14-53</td>\n",
       "      <td>승합</td>\n",
       "      <td>현대</td>\n",
       "      <td>뉴카운티 / 마이티  (F엔진, D4GB)</td>\n",
       "      <td>Y</td>\n",
       "    </tr>\n",
       "  </tbody>\n",
       "</table>\n",
       "</div>"
      ],
      "text/plain": [
       "           인증번호  차종 제조사                                                 차명  \\\n",
       "0  AMY-HD-14-35  화물  현대                               트라고/엑시언트 (L엔진, D6CE)   \n",
       "1  EMY-HD-14-45  승합  현대                            유니버스 / 엑시언트 (L엔진, D6CG)   \n",
       "2  EMY-HD-14-48  승합  현대                   유니버스,뉴슈퍼에어로시티 / 엑시언트 (H엔진, D6HC)   \n",
       "3  EMY-HD-14-51  승합  현대  현대그린시티, 이-에어로타운 / 메가트럭, 메가트럭(와이드캡), 파비스 (G엔진, ...   \n",
       "4  EMY-HD-14-53  승합  현대                            뉴카운티 / 마이티  (F엔진, D4GB)   \n",
       "\n",
       "  통계자료존재유무  \n",
       "0        Y  \n",
       "1        Y  \n",
       "2        Y  \n",
       "3        Y  \n",
       "4        Y  "
      ]
     },
     "execution_count": 92,
     "metadata": {},
     "output_type": "execute_result"
    }
   ],
   "source": [
    "scr.head()"
   ]
  },
  {
   "cell_type": "code",
   "execution_count": 93,
   "metadata": {},
   "outputs": [
    {
     "data": {
      "text/plain": [
       "(501, 5)"
      ]
     },
     "execution_count": 93,
     "metadata": {},
     "output_type": "execute_result"
    }
   ],
   "source": [
    "scr.shape"
   ]
  },
  {
   "cell_type": "code",
   "execution_count": 94,
   "metadata": {},
   "outputs": [
    {
     "data": {
      "text/plain": [
       "150"
      ]
     },
     "execution_count": 94,
     "metadata": {},
     "output_type": "execute_result"
    }
   ],
   "source": [
    "scr['차명'].isnull().sum()"
   ]
  },
  {
   "cell_type": "code",
   "execution_count": 95,
   "metadata": {},
   "outputs": [
    {
     "data": {
      "text/html": [
       "<div>\n",
       "<style scoped>\n",
       "    .dataframe tbody tr th:only-of-type {\n",
       "        vertical-align: middle;\n",
       "    }\n",
       "\n",
       "    .dataframe tbody tr th {\n",
       "        vertical-align: top;\n",
       "    }\n",
       "\n",
       "    .dataframe thead th {\n",
       "        text-align: right;\n",
       "    }\n",
       "</style>\n",
       "<table border=\"1\" class=\"dataframe\">\n",
       "  <thead>\n",
       "    <tr style=\"text-align: right;\">\n",
       "      <th></th>\n",
       "      <th>배출가스인증번호</th>\n",
       "      <th>배출가스등급</th>\n",
       "      <th>최초등록일자</th>\n",
       "      <th>차량말소유무</th>\n",
       "      <th>연식</th>\n",
       "      <th>차종</th>\n",
       "      <th>차대번호</th>\n",
       "      <th>엔진형식</th>\n",
       "      <th>연료</th>\n",
       "      <th>제작사명</th>\n",
       "      <th>총중량</th>\n",
       "      <th>차명</th>\n",
       "      <th>제작국</th>\n",
       "      <th>유럽기준</th>\n",
       "      <th>SCR유무</th>\n",
       "      <th>저감장치구분</th>\n",
       "      <th>구분</th>\n",
       "    </tr>\n",
       "  </thead>\n",
       "  <tbody>\n",
       "  </tbody>\n",
       "</table>\n",
       "</div>"
      ],
      "text/plain": [
       "Empty DataFrame\n",
       "Columns: [배출가스인증번호, 배출가스등급, 최초등록일자, 차량말소유무, 연식, 차종, 차대번호, 엔진형식, 연료, 제작사명, 총중량, 차명, 제작국, 유럽기준, SCR유무, 저감장치구분, 구분]\n",
       "Index: []"
      ]
     },
     "execution_count": 95,
     "metadata": {},
     "output_type": "execute_result"
    }
   ],
   "source": [
    "ccac[ccac['배출가스인증번호'].str.contains(' ', regex=False, na=False)]"
   ]
  },
  {
   "cell_type": "code",
   "execution_count": 96,
   "metadata": {},
   "outputs": [
    {
     "data": {
      "text/html": [
       "<div>\n",
       "<style scoped>\n",
       "    .dataframe tbody tr th:only-of-type {\n",
       "        vertical-align: middle;\n",
       "    }\n",
       "\n",
       "    .dataframe tbody tr th {\n",
       "        vertical-align: top;\n",
       "    }\n",
       "\n",
       "    .dataframe thead th {\n",
       "        text-align: right;\n",
       "    }\n",
       "</style>\n",
       "<table border=\"1\" class=\"dataframe\">\n",
       "  <thead>\n",
       "    <tr style=\"text-align: right;\">\n",
       "      <th></th>\n",
       "      <th>인증번호</th>\n",
       "      <th>차종</th>\n",
       "      <th>제조사</th>\n",
       "      <th>차명</th>\n",
       "      <th>통계자료존재유무</th>\n",
       "    </tr>\n",
       "  </thead>\n",
       "  <tbody>\n",
       "  </tbody>\n",
       "</table>\n",
       "</div>"
      ],
      "text/plain": [
       "Empty DataFrame\n",
       "Columns: [인증번호, 차종, 제조사, 차명, 통계자료존재유무]\n",
       "Index: []"
      ]
     },
     "execution_count": 96,
     "metadata": {},
     "output_type": "execute_result"
    }
   ],
   "source": [
    "scr[scr['인증번호'].str.contains(' ', regex=False, na=False)]"
   ]
  },
  {
   "cell_type": "code",
   "execution_count": 97,
   "metadata": {},
   "outputs": [
    {
     "data": {
      "text/plain": [
       "dtype('O')"
      ]
     },
     "execution_count": 97,
     "metadata": {},
     "output_type": "execute_result"
    }
   ],
   "source": [
    "ccac['배출가스인증번호'].dtype"
   ]
  },
  {
   "cell_type": "code",
   "execution_count": 98,
   "metadata": {},
   "outputs": [
    {
     "data": {
      "text/plain": [
       "dtype('O')"
      ]
     },
     "execution_count": 98,
     "metadata": {},
     "output_type": "execute_result"
    }
   ],
   "source": [
    "scr['인증번호'].dtype"
   ]
  },
  {
   "cell_type": "code",
   "execution_count": 99,
   "metadata": {},
   "outputs": [
    {
     "data": {
      "text/plain": [
       "Index(['배출가스인증번호', '배출가스등급', '최초등록일자', '차량말소유무', '연식', '차종', '차대번호', '엔진형식',\n",
       "       '연료', '제작사명', '총중량', '차명', '제작국', '유럽기준', 'SCR유무', '저감장치구분', '구분'],\n",
       "      dtype='object')"
      ]
     },
     "execution_count": 99,
     "metadata": {},
     "output_type": "execute_result"
    }
   ],
   "source": [
    "ccac.columns"
   ]
  },
  {
   "cell_type": "code",
   "execution_count": 100,
   "metadata": {},
   "outputs": [
    {
     "data": {
      "text/html": [
       "<div>\n",
       "<style scoped>\n",
       "    .dataframe tbody tr th:only-of-type {\n",
       "        vertical-align: middle;\n",
       "    }\n",
       "\n",
       "    .dataframe tbody tr th {\n",
       "        vertical-align: top;\n",
       "    }\n",
       "\n",
       "    .dataframe thead th {\n",
       "        text-align: right;\n",
       "    }\n",
       "</style>\n",
       "<table border=\"1\" class=\"dataframe\">\n",
       "  <thead>\n",
       "    <tr style=\"text-align: right;\">\n",
       "      <th></th>\n",
       "      <th>차종</th>\n",
       "      <th>제작사명</th>\n",
       "      <th>차명</th>\n",
       "    </tr>\n",
       "  </thead>\n",
       "  <tbody>\n",
       "    <tr>\n",
       "      <th>0</th>\n",
       "      <td>승합</td>\n",
       "      <td>현대자동차(주)</td>\n",
       "      <td>스타리아 (STARIA)</td>\n",
       "    </tr>\n",
       "    <tr>\n",
       "      <th>1</th>\n",
       "      <td>승용</td>\n",
       "      <td>현대자동차(주)</td>\n",
       "      <td>투싼(TUCSON)</td>\n",
       "    </tr>\n",
       "    <tr>\n",
       "      <th>2</th>\n",
       "      <td>화물</td>\n",
       "      <td>현대자동차㈜</td>\n",
       "      <td>포터 2.5디젤 초장축 더블캡 AT</td>\n",
       "    </tr>\n",
       "    <tr>\n",
       "      <th>3</th>\n",
       "      <td>화물</td>\n",
       "      <td>현대자동차㈜</td>\n",
       "      <td>포터 2.5디젤 초장축 더블캡 AT</td>\n",
       "    </tr>\n",
       "    <tr>\n",
       "      <th>4</th>\n",
       "      <td>화물</td>\n",
       "      <td>현대자동차㈜</td>\n",
       "      <td>포터 2.5디젤 초장축 더블캡 AT</td>\n",
       "    </tr>\n",
       "  </tbody>\n",
       "</table>\n",
       "</div>"
      ],
      "text/plain": [
       "   차종      제작사명                   차명\n",
       "0  승합  현대자동차(주)        스타리아 (STARIA)\n",
       "1  승용  현대자동차(주)           투싼(TUCSON)\n",
       "2  화물    현대자동차㈜  포터 2.5디젤 초장축 더블캡 AT\n",
       "3  화물    현대자동차㈜  포터 2.5디젤 초장축 더블캡 AT\n",
       "4  화물    현대자동차㈜  포터 2.5디젤 초장축 더블캡 AT"
      ]
     },
     "execution_count": 100,
     "metadata": {},
     "output_type": "execute_result"
    }
   ],
   "source": [
    "ccac[['차종', '제작사명', '차명']].head()"
   ]
  },
  {
   "cell_type": "code",
   "execution_count": 101,
   "metadata": {},
   "outputs": [
    {
     "data": {
      "text/html": [
       "<div>\n",
       "<style scoped>\n",
       "    .dataframe tbody tr th:only-of-type {\n",
       "        vertical-align: middle;\n",
       "    }\n",
       "\n",
       "    .dataframe tbody tr th {\n",
       "        vertical-align: top;\n",
       "    }\n",
       "\n",
       "    .dataframe thead th {\n",
       "        text-align: right;\n",
       "    }\n",
       "</style>\n",
       "<table border=\"1\" class=\"dataframe\">\n",
       "  <thead>\n",
       "    <tr style=\"text-align: right;\">\n",
       "      <th></th>\n",
       "      <th>인증번호</th>\n",
       "      <th>차종</th>\n",
       "      <th>제조사</th>\n",
       "      <th>차명</th>\n",
       "      <th>통계자료존재유무</th>\n",
       "    </tr>\n",
       "  </thead>\n",
       "  <tbody>\n",
       "    <tr>\n",
       "      <th>0</th>\n",
       "      <td>AMY-HD-14-35</td>\n",
       "      <td>화물</td>\n",
       "      <td>현대</td>\n",
       "      <td>트라고/엑시언트 (L엔진, D6CE)</td>\n",
       "      <td>Y</td>\n",
       "    </tr>\n",
       "    <tr>\n",
       "      <th>1</th>\n",
       "      <td>EMY-HD-14-45</td>\n",
       "      <td>승합</td>\n",
       "      <td>현대</td>\n",
       "      <td>유니버스 / 엑시언트 (L엔진, D6CG)</td>\n",
       "      <td>Y</td>\n",
       "    </tr>\n",
       "    <tr>\n",
       "      <th>2</th>\n",
       "      <td>EMY-HD-14-48</td>\n",
       "      <td>승합</td>\n",
       "      <td>현대</td>\n",
       "      <td>유니버스,뉴슈퍼에어로시티 / 엑시언트 (H엔진, D6HC)</td>\n",
       "      <td>Y</td>\n",
       "    </tr>\n",
       "    <tr>\n",
       "      <th>3</th>\n",
       "      <td>EMY-HD-14-51</td>\n",
       "      <td>승합</td>\n",
       "      <td>현대</td>\n",
       "      <td>현대그린시티, 이-에어로타운 / 메가트럭, 메가트럭(와이드캡), 파비스 (G엔진, ...</td>\n",
       "      <td>Y</td>\n",
       "    </tr>\n",
       "    <tr>\n",
       "      <th>4</th>\n",
       "      <td>EMY-HD-14-53</td>\n",
       "      <td>승합</td>\n",
       "      <td>현대</td>\n",
       "      <td>뉴카운티 / 마이티  (F엔진, D4GB)</td>\n",
       "      <td>Y</td>\n",
       "    </tr>\n",
       "  </tbody>\n",
       "</table>\n",
       "</div>"
      ],
      "text/plain": [
       "           인증번호  차종 제조사                                                 차명  \\\n",
       "0  AMY-HD-14-35  화물  현대                               트라고/엑시언트 (L엔진, D6CE)   \n",
       "1  EMY-HD-14-45  승합  현대                            유니버스 / 엑시언트 (L엔진, D6CG)   \n",
       "2  EMY-HD-14-48  승합  현대                   유니버스,뉴슈퍼에어로시티 / 엑시언트 (H엔진, D6HC)   \n",
       "3  EMY-HD-14-51  승합  현대  현대그린시티, 이-에어로타운 / 메가트럭, 메가트럭(와이드캡), 파비스 (G엔진, ...   \n",
       "4  EMY-HD-14-53  승합  현대                            뉴카운티 / 마이티  (F엔진, D4GB)   \n",
       "\n",
       "  통계자료존재유무  \n",
       "0        Y  \n",
       "1        Y  \n",
       "2        Y  \n",
       "3        Y  \n",
       "4        Y  "
      ]
     },
     "execution_count": 101,
     "metadata": {},
     "output_type": "execute_result"
    }
   ],
   "source": [
    "scr.head()"
   ]
  },
  {
   "cell_type": "code",
   "execution_count": 102,
   "metadata": {},
   "outputs": [],
   "source": [
    "pr = ccac.copy()"
   ]
  },
  {
   "cell_type": "code",
   "execution_count": 108,
   "metadata": {},
   "outputs": [
    {
     "data": {
      "text/plain": [
       "150"
      ]
     },
     "execution_count": 108,
     "metadata": {},
     "output_type": "execute_result"
    }
   ],
   "source": [
    "scr['차명'].isnull().sum()"
   ]
  },
  {
   "cell_type": "code",
   "execution_count": 112,
   "metadata": {},
   "outputs": [
    {
     "data": {
      "text/plain": [
       "True"
      ]
     },
     "execution_count": 112,
     "metadata": {},
     "output_type": "execute_result"
    }
   ],
   "source": [
    "np.isnan(scr.loc[scr['차명'].isnull(), '차명'].values[0])"
   ]
  },
  {
   "cell_type": "code",
   "execution_count": 114,
   "metadata": {},
   "outputs": [],
   "source": [
    "# 5m 17.2s\n",
    "for one, two, three, four, five in scr.values: # 배출가스인증번호, 차종, 제조사, 차명, 통계자료존재유무\n",
    "    if one == 'FMY-DW-14-34': # FMY-DW-14-34의 값(차종, 제조사, 차명)이 비어있음\n",
    "        pr.loc[pr['배출가스인증번호'] == one, '통계자료존재유무'] = five\n",
    "    elif not pd.isna(four): # SCR통계에 차명이 존재하는 경우\n",
    "        pr.loc[pr['배출가스인증번호'] == one, ['차종', '제작사명', '차명', '통계자료존재유무']] = [two, three, four, five]\n",
    "    else: # SCR통계에 차명이 존재하지 않는 경우\n",
    "        pr.loc[pr['배출가스인증번호'] == one, ['차종', '제작사명', '통계자료존재유무']] = [two, three, five]"
   ]
  },
  {
   "cell_type": "code",
   "execution_count": 115,
   "metadata": {},
   "outputs": [
    {
     "data": {
      "text/plain": [
       "0"
      ]
     },
     "execution_count": 115,
     "metadata": {},
     "output_type": "execute_result"
    }
   ],
   "source": [
    "pr['차명'].isnull().sum()"
   ]
  },
  {
   "cell_type": "code",
   "execution_count": 116,
   "metadata": {},
   "outputs": [
    {
     "data": {
      "text/plain": [
       "(9533735, 18)"
      ]
     },
     "execution_count": 116,
     "metadata": {},
     "output_type": "execute_result"
    }
   ],
   "source": [
    "pr.shape"
   ]
  },
  {
   "cell_type": "code",
   "execution_count": 117,
   "metadata": {},
   "outputs": [
    {
     "data": {
      "text/plain": [
       "7379999"
      ]
     },
     "execution_count": 117,
     "metadata": {},
     "output_type": "execute_result"
    }
   ],
   "source": [
    "pr['통계자료존재유무'].isnull().sum()"
   ]
  },
  {
   "cell_type": "code",
   "execution_count": 118,
   "metadata": {},
   "outputs": [
    {
     "data": {
      "text/plain": [
       "차종           0\n",
       "제작사명       592\n",
       "차명           0\n",
       "구분      429555\n",
       "dtype: int64"
      ]
     },
     "execution_count": 118,
     "metadata": {},
     "output_type": "execute_result"
    }
   ],
   "source": [
    "pr[['차종', '제작사명', '차명', '구분']].isnull().sum()"
   ]
  },
  {
   "cell_type": "code",
   "execution_count": 119,
   "metadata": {},
   "outputs": [
    {
     "data": {
      "text/html": [
       "<div>\n",
       "<style scoped>\n",
       "    .dataframe tbody tr th:only-of-type {\n",
       "        vertical-align: middle;\n",
       "    }\n",
       "\n",
       "    .dataframe tbody tr th {\n",
       "        vertical-align: top;\n",
       "    }\n",
       "\n",
       "    .dataframe thead th {\n",
       "        text-align: right;\n",
       "    }\n",
       "</style>\n",
       "<table border=\"1\" class=\"dataframe\">\n",
       "  <thead>\n",
       "    <tr style=\"text-align: right;\">\n",
       "      <th></th>\n",
       "      <th>배출가스인증번호</th>\n",
       "      <th>배출가스등급</th>\n",
       "      <th>최초등록일자</th>\n",
       "      <th>차량말소유무</th>\n",
       "      <th>연식</th>\n",
       "      <th>차종</th>\n",
       "      <th>차대번호</th>\n",
       "      <th>엔진형식</th>\n",
       "      <th>연료</th>\n",
       "      <th>제작사명</th>\n",
       "      <th>총중량</th>\n",
       "      <th>차명</th>\n",
       "      <th>제작국</th>\n",
       "      <th>유럽기준</th>\n",
       "      <th>SCR유무</th>\n",
       "      <th>저감장치구분</th>\n",
       "      <th>구분</th>\n",
       "      <th>통계자료존재유무</th>\n",
       "    </tr>\n",
       "  </thead>\n",
       "  <tbody>\n",
       "    <tr>\n",
       "      <th>0</th>\n",
       "      <td>NaN</td>\n",
       "      <td>NaN</td>\n",
       "      <td>20231129.0</td>\n",
       "      <td>N</td>\n",
       "      <td>2024</td>\n",
       "      <td>승합</td>\n",
       "      <td>KMJYB371BRU160978</td>\n",
       "      <td>D4HB</td>\n",
       "      <td>경유</td>\n",
       "      <td>현대자동차(주)</td>\n",
       "      <td>3035.0</td>\n",
       "      <td>스타리아 (STARIA)</td>\n",
       "      <td>NaN</td>\n",
       "      <td>NaN</td>\n",
       "      <td>NaN</td>\n",
       "      <td>NaN</td>\n",
       "      <td>국내</td>\n",
       "      <td>NaN</td>\n",
       "    </tr>\n",
       "    <tr>\n",
       "      <th>1</th>\n",
       "      <td>NaN</td>\n",
       "      <td>NaN</td>\n",
       "      <td>20231129.0</td>\n",
       "      <td>N</td>\n",
       "      <td>2023</td>\n",
       "      <td>승용</td>\n",
       "      <td>KMHJC81CBPU316203</td>\n",
       "      <td>D4HD</td>\n",
       "      <td>경유</td>\n",
       "      <td>현대자동차(주)</td>\n",
       "      <td>1955.0</td>\n",
       "      <td>투싼(TUCSON)</td>\n",
       "      <td>NaN</td>\n",
       "      <td>NaN</td>\n",
       "      <td>NaN</td>\n",
       "      <td>NaN</td>\n",
       "      <td>국내</td>\n",
       "      <td>NaN</td>\n",
       "    </tr>\n",
       "    <tr>\n",
       "      <th>2</th>\n",
       "      <td>KMY-HD-14-59</td>\n",
       "      <td>3</td>\n",
       "      <td>20231129.0</td>\n",
       "      <td>N</td>\n",
       "      <td>2023</td>\n",
       "      <td>승용</td>\n",
       "      <td>KMFZCZ7KBPU098949</td>\n",
       "      <td>D4CB</td>\n",
       "      <td>경유</td>\n",
       "      <td>현대기아</td>\n",
       "      <td>2965.0</td>\n",
       "      <td>포터 2.5디젤 초장축 더블캡 AT</td>\n",
       "      <td>한국</td>\n",
       "      <td>유로6</td>\n",
       "      <td>Y</td>\n",
       "      <td>NaN</td>\n",
       "      <td>NaN</td>\n",
       "      <td>Y</td>\n",
       "    </tr>\n",
       "    <tr>\n",
       "      <th>3</th>\n",
       "      <td>KMY-HD-14-59</td>\n",
       "      <td>3</td>\n",
       "      <td>20231129.0</td>\n",
       "      <td>N</td>\n",
       "      <td>2023</td>\n",
       "      <td>승용</td>\n",
       "      <td>KMFZCZ7KBPU098960</td>\n",
       "      <td>D4CB</td>\n",
       "      <td>경유</td>\n",
       "      <td>현대기아</td>\n",
       "      <td>2965.0</td>\n",
       "      <td>포터 2.5디젤 초장축 더블캡 AT</td>\n",
       "      <td>한국</td>\n",
       "      <td>유로6</td>\n",
       "      <td>Y</td>\n",
       "      <td>NaN</td>\n",
       "      <td>NaN</td>\n",
       "      <td>Y</td>\n",
       "    </tr>\n",
       "    <tr>\n",
       "      <th>4</th>\n",
       "      <td>KMY-HD-14-59</td>\n",
       "      <td>3</td>\n",
       "      <td>20231129.0</td>\n",
       "      <td>N</td>\n",
       "      <td>2023</td>\n",
       "      <td>승용</td>\n",
       "      <td>KMFZCZ7KBPU098985</td>\n",
       "      <td>D4CB</td>\n",
       "      <td>경유</td>\n",
       "      <td>현대기아</td>\n",
       "      <td>2965.0</td>\n",
       "      <td>포터 2.5디젤 초장축 더블캡 AT</td>\n",
       "      <td>한국</td>\n",
       "      <td>유로6</td>\n",
       "      <td>Y</td>\n",
       "      <td>NaN</td>\n",
       "      <td>NaN</td>\n",
       "      <td>Y</td>\n",
       "    </tr>\n",
       "  </tbody>\n",
       "</table>\n",
       "</div>"
      ],
      "text/plain": [
       "       배출가스인증번호 배출가스등급      최초등록일자 차량말소유무    연식  차종               차대번호  엔진형식  \\\n",
       "0           NaN    NaN  20231129.0      N  2024  승합  KMJYB371BRU160978  D4HB   \n",
       "1           NaN    NaN  20231129.0      N  2023  승용  KMHJC81CBPU316203  D4HD   \n",
       "2  KMY-HD-14-59      3  20231129.0      N  2023  승용  KMFZCZ7KBPU098949  D4CB   \n",
       "3  KMY-HD-14-59      3  20231129.0      N  2023  승용  KMFZCZ7KBPU098960  D4CB   \n",
       "4  KMY-HD-14-59      3  20231129.0      N  2023  승용  KMFZCZ7KBPU098985  D4CB   \n",
       "\n",
       "   연료      제작사명     총중량                   차명  제작국 유럽기준 SCR유무 저감장치구분   구분  \\\n",
       "0  경유  현대자동차(주)  3035.0        스타리아 (STARIA)  NaN  NaN   NaN    NaN   국내   \n",
       "1  경유  현대자동차(주)  1955.0           투싼(TUCSON)  NaN  NaN   NaN    NaN   국내   \n",
       "2  경유      현대기아  2965.0  포터 2.5디젤 초장축 더블캡 AT   한국  유로6     Y    NaN  NaN   \n",
       "3  경유      현대기아  2965.0  포터 2.5디젤 초장축 더블캡 AT   한국  유로6     Y    NaN  NaN   \n",
       "4  경유      현대기아  2965.0  포터 2.5디젤 초장축 더블캡 AT   한국  유로6     Y    NaN  NaN   \n",
       "\n",
       "  통계자료존재유무  \n",
       "0      NaN  \n",
       "1      NaN  \n",
       "2        Y  \n",
       "3        Y  \n",
       "4        Y  "
      ]
     },
     "execution_count": 119,
     "metadata": {},
     "output_type": "execute_result"
    }
   ],
   "source": [
    "pr.head()"
   ]
  },
  {
   "cell_type": "code",
   "execution_count": 120,
   "metadata": {},
   "outputs": [
    {
     "data": {
      "text/plain": [
       "Index(['배출가스인증번호', '배출가스등급', '최초등록일자', '차량말소유무', '연식', '차종', '차대번호', '엔진형식',\n",
       "       '연료', '제작사명', '총중량', '차명', '제작국', '유럽기준', 'SCR유무', '저감장치구분', '구분',\n",
       "       '통계자료존재유무'],\n",
       "      dtype='object')"
      ]
     },
     "execution_count": 120,
     "metadata": {},
     "output_type": "execute_result"
    }
   ],
   "source": [
    "pr.columns"
   ]
  },
  {
   "cell_type": "code",
   "execution_count": 121,
   "metadata": {},
   "outputs": [
    {
     "data": {
      "text/plain": [
       "(9533735, 18)"
      ]
     },
     "execution_count": 121,
     "metadata": {},
     "output_type": "execute_result"
    }
   ],
   "source": [
    "pr.shape"
   ]
  },
  {
   "cell_type": "markdown",
   "metadata": {},
   "source": [
    "### [출력] 전처리 완료 파일"
   ]
  },
  {
   "cell_type": "code",
   "execution_count": 122,
   "metadata": {},
   "outputs": [
    {
     "data": {
      "text/plain": [
       "'20231214'"
      ]
     },
     "execution_count": 122,
     "metadata": {},
     "output_type": "execute_result"
    }
   ],
   "source": [
    "today_date = datetime.today().strftime('%Y%m%d')\n",
    "today_date"
   ]
  },
  {
   "cell_type": "code",
   "execution_count": 123,
   "metadata": {},
   "outputs": [],
   "source": [
    "# 50.2s\n",
    "pr.to_csv(os.path.join(raw_fold, f'등록_인증_저감_국내외구분_SCR통계참고_{today_date}.csv'), index=False)"
   ]
  },
  {
   "cell_type": "markdown",
   "metadata": {},
   "source": [
    "### [로드] 전처리 완료 파일"
   ]
  },
  {
   "cell_type": "code",
   "execution_count": 65,
   "metadata": {},
   "outputs": [
    {
     "name": "stderr",
     "output_type": "stream",
     "text": [
      "C:\\Users\\kbjung\\AppData\\Local\\Temp\\ipykernel_16144\\2004874364.py:1: DtypeWarning: Columns (11,12,13,14,15,16,18) have mixed types. Specify dtype option on import or set low_memory=False.\n",
      "  pr = pd.read_csv(os.path.join(raw_fold, '등록_인증_저감_국내외구분_SCR통계참고_20231213.csv'))\n"
     ]
    },
    {
     "name": "stdout",
     "output_type": "stream",
     "text": [
      "<class 'pandas.core.frame.DataFrame'>\n",
      "RangeIndex: 9533740 entries, 0 to 9533739\n",
      "Data columns (total 19 columns):\n",
      " #   Column    Dtype  \n",
      "---  ------    -----  \n",
      " 0   배출가스인증번호  object \n",
      " 1   배출가스등급    object \n",
      " 2   최초등록일자    float64\n",
      " 3   차량말소유무    object \n",
      " 4   연식        int64  \n",
      " 5   차종        object \n",
      " 6   차대번호      object \n",
      " 7   엔진형식      object \n",
      " 8   연료        object \n",
      " 9   제작사명      object \n",
      " 10  총중량       float64\n",
      " 11  제작사       object \n",
      " 12  차명        object \n",
      " 13  제작국       object \n",
      " 14  유럽기준      object \n",
      " 15  SCR유무     object \n",
      " 16  저감장치구분    object \n",
      " 17  구분        object \n",
      " 18  통계자료존재유무  object \n",
      "dtypes: float64(2), int64(1), object(16)\n",
      "memory usage: 1.3+ GB\n"
     ]
    }
   ],
   "source": [
    "pr = pd.read_csv(os.path.join(raw_fold, '등록_인증_저감_국내외구분_SCR통계참고_20231213.csv'))\n",
    "pr.info()"
   ]
  },
  {
   "cell_type": "code",
   "execution_count": 124,
   "metadata": {},
   "outputs": [
    {
     "data": {
      "text/plain": [
       "0"
      ]
     },
     "execution_count": 124,
     "metadata": {},
     "output_type": "execute_result"
    }
   ],
   "source": [
    "pr['차명'].isnull().sum()"
   ]
  },
  {
   "cell_type": "markdown",
   "metadata": {},
   "source": [
    "## 저공해조치 차량과 SCR차량 구분"
   ]
  },
  {
   "cell_type": "code",
   "execution_count": 190,
   "metadata": {},
   "outputs": [],
   "source": [
    "# 저공해조치차량\n",
    "    # 저감장치구분 : 1종+SCR인 차량\n",
    "# SCR차량(EURO6)\n",
    "    # SCR유무 : Y\n",
    "    # 국내 : 2017년 이상\n",
    "    # 국외 : 2015년 이상"
   ]
  },
  {
   "cell_type": "code",
   "execution_count": 125,
   "metadata": {},
   "outputs": [
    {
     "data": {
      "text/plain": [
       "(2372, 18)"
      ]
     },
     "execution_count": 125,
     "metadata": {},
     "output_type": "execute_result"
    }
   ],
   "source": [
    "mnt = pr[pr['저감장치구분'] == '1종+SCR'].reset_index(drop=True)\n",
    "mnt.shape"
   ]
  },
  {
   "cell_type": "markdown",
   "metadata": {},
   "source": [
    "### [출력] 저공해조치 차량"
   ]
  },
  {
   "cell_type": "code",
   "execution_count": 126,
   "metadata": {},
   "outputs": [
    {
     "data": {
      "text/plain": [
       "'20231214'"
      ]
     },
     "execution_count": 126,
     "metadata": {},
     "output_type": "execute_result"
    }
   ],
   "source": [
    "today_date = datetime.today().strftime('%Y%m%d')\n",
    "today_date"
   ]
  },
  {
   "cell_type": "code",
   "execution_count": 127,
   "metadata": {},
   "outputs": [],
   "source": [
    "# # 1.7s\n",
    "# mnt.to_excel(os.path.join(df_fold, f'경유_저공해조치차량_{today_date}.xlsx'), index=False)"
   ]
  },
  {
   "cell_type": "code",
   "execution_count": 128,
   "metadata": {},
   "outputs": [
    {
     "data": {
      "text/plain": [
       "429555"
      ]
     },
     "execution_count": 128,
     "metadata": {},
     "output_type": "execute_result"
    }
   ],
   "source": [
    "pr['구분'].isnull().sum()"
   ]
  },
  {
   "cell_type": "code",
   "execution_count": 129,
   "metadata": {},
   "outputs": [
    {
     "data": {
      "text/plain": [
       "(4433293, 18)"
      ]
     },
     "execution_count": 129,
     "metadata": {},
     "output_type": "execute_result"
    }
   ],
   "source": [
    "euro6 = pr[(pr['저감장치구분'] != '1종+SCR') & ( ((pr['구분'] == '국내') & (pr['연식'] >= 2017)) | ((pr['구분'] == '국외') & (pr['연식'] >= 2015)) | (pr['SCR유무'] == 'Y') )].reset_index(drop=True)\n",
    "euro6.shape"
   ]
  },
  {
   "cell_type": "code",
   "execution_count": 130,
   "metadata": {},
   "outputs": [
    {
     "name": "stdout",
     "output_type": "stream",
     "text": [
      "1 0 500000\n",
      "2 500000 1000000\n",
      "3 1000000 1500000\n",
      "4 1500000 2000000\n",
      "5 2000000 2500000\n",
      "6 2500000 3000000\n",
      "7 3000000 3500000\n",
      "8 3500000 4000000\n",
      "9 4000000 4500000\n"
     ]
    }
   ],
   "source": [
    "div = 50 * 10**4\n",
    "for n in range(euro6.shape[0] // div + 1):\n",
    "    print(n+1, n*div, (n+1) *div)"
   ]
  },
  {
   "cell_type": "code",
   "execution_count": 238,
   "metadata": {},
   "outputs": [],
   "source": [
    "# # \n",
    "# div = 50 * 10**4\n",
    "# for n in range(euro6.shape[0] // div + 1):\n",
    "#     # print(n*div, (n+1) *div)\n",
    "#     euro6.iloc[n*div:(n+1)*div].to_excel(os.path.join(df_fold, f'EURO6차량현황{n+1}_{today_date}.xlsx'), index=False)"
   ]
  },
  {
   "cell_type": "markdown",
   "metadata": {},
   "source": [
    "# 분석"
   ]
  },
  {
   "cell_type": "markdown",
   "metadata": {},
   "source": [
    "## SCR 장착 차량 현황"
   ]
  },
  {
   "cell_type": "code",
   "execution_count": 131,
   "metadata": {},
   "outputs": [
    {
     "data": {
      "text/plain": [
       "4435665"
      ]
     },
     "execution_count": 131,
     "metadata": {},
     "output_type": "execute_result"
    }
   ],
   "source": [
    "mnt.shape[0] + euro6.shape[0]"
   ]
  },
  {
   "cell_type": "code",
   "execution_count": 132,
   "metadata": {},
   "outputs": [
    {
     "data": {
      "text/plain": [
       "(4435665, 18)"
      ]
     },
     "execution_count": 132,
     "metadata": {},
     "output_type": "execute_result"
    }
   ],
   "source": [
    "me = pd.concat([mnt, euro6], ignore_index=False)\n",
    "me.shape"
   ]
  },
  {
   "cell_type": "code",
   "execution_count": 133,
   "metadata": {},
   "outputs": [
    {
     "data": {
      "text/plain": [
       "Index(['배출가스인증번호', '배출가스등급', '최초등록일자', '차량말소유무', '연식', '차종', '차대번호', '엔진형식',\n",
       "       '연료', '제작사명', '총중량', '차명', '제작국', '유럽기준', 'SCR유무', '저감장치구분', '구분',\n",
       "       '통계자료존재유무'],\n",
       "      dtype='object')"
      ]
     },
     "execution_count": 133,
     "metadata": {},
     "output_type": "execute_result"
    }
   ],
   "source": [
    "me.columns"
   ]
  },
  {
   "cell_type": "code",
   "execution_count": 134,
   "metadata": {},
   "outputs": [
    {
     "data": {
      "text/html": [
       "<div>\n",
       "<style scoped>\n",
       "    .dataframe tbody tr th:only-of-type {\n",
       "        vertical-align: middle;\n",
       "    }\n",
       "\n",
       "    .dataframe tbody tr th {\n",
       "        vertical-align: top;\n",
       "    }\n",
       "\n",
       "    .dataframe thead th {\n",
       "        text-align: right;\n",
       "    }\n",
       "</style>\n",
       "<table border=\"1\" class=\"dataframe\">\n",
       "  <thead>\n",
       "    <tr style=\"text-align: right;\">\n",
       "      <th></th>\n",
       "      <th>배출가스인증번호</th>\n",
       "      <th>제작사명</th>\n",
       "      <th>연식</th>\n",
       "      <th>차종</th>\n",
       "      <th>차명</th>\n",
       "      <th>유럽기준</th>\n",
       "      <th>저감장치구분</th>\n",
       "      <th>통계자료존재유무</th>\n",
       "      <th>차량대수</th>\n",
       "    </tr>\n",
       "  </thead>\n",
       "  <tbody>\n",
       "    <tr>\n",
       "      <th>0</th>\n",
       "      <td>1MY-HD-52</td>\n",
       "      <td>현대자동차(주)</td>\n",
       "      <td>2004</td>\n",
       "      <td>화물</td>\n",
       "      <td>현대슈퍼트럭</td>\n",
       "      <td>NaN</td>\n",
       "      <td>1종+SCR</td>\n",
       "      <td>NaN</td>\n",
       "      <td>3</td>\n",
       "    </tr>\n",
       "    <tr>\n",
       "      <th>1</th>\n",
       "      <td>2MY-DW-04</td>\n",
       "      <td>타타대우상용차(주)</td>\n",
       "      <td>2003</td>\n",
       "      <td>화물</td>\n",
       "      <td>대우25톤카고트럭</td>\n",
       "      <td>NaN</td>\n",
       "      <td>1종+SCR</td>\n",
       "      <td>NaN</td>\n",
       "      <td>1</td>\n",
       "    </tr>\n",
       "    <tr>\n",
       "      <th>2</th>\n",
       "      <td>2MY-DW-04</td>\n",
       "      <td>타타대우상용차(주)</td>\n",
       "      <td>2004</td>\n",
       "      <td>화물</td>\n",
       "      <td>대우25톤장축카고트럭</td>\n",
       "      <td>NaN</td>\n",
       "      <td>1종+SCR</td>\n",
       "      <td>NaN</td>\n",
       "      <td>1</td>\n",
       "    </tr>\n",
       "    <tr>\n",
       "      <th>3</th>\n",
       "      <td>2MY-DW-04</td>\n",
       "      <td>타타대우상용차(주)</td>\n",
       "      <td>2004</td>\n",
       "      <td>화물</td>\n",
       "      <td>대우25톤카고트럭</td>\n",
       "      <td>NaN</td>\n",
       "      <td>1종+SCR</td>\n",
       "      <td>NaN</td>\n",
       "      <td>29</td>\n",
       "    </tr>\n",
       "    <tr>\n",
       "      <th>4</th>\n",
       "      <td>2MY-DW-04</td>\n",
       "      <td>타타대우상용차(주)</td>\n",
       "      <td>2005</td>\n",
       "      <td>화물</td>\n",
       "      <td>대우22.5톤장축카고트럭</td>\n",
       "      <td>NaN</td>\n",
       "      <td>1종+SCR</td>\n",
       "      <td>NaN</td>\n",
       "      <td>1</td>\n",
       "    </tr>\n",
       "    <tr>\n",
       "      <th>...</th>\n",
       "      <td>...</td>\n",
       "      <td>...</td>\n",
       "      <td>...</td>\n",
       "      <td>...</td>\n",
       "      <td>...</td>\n",
       "      <td>...</td>\n",
       "      <td>...</td>\n",
       "      <td>...</td>\n",
       "      <td>...</td>\n",
       "    </tr>\n",
       "    <tr>\n",
       "      <th>22623</th>\n",
       "      <td>NaN</td>\n",
       "      <td>히아브 만평특장</td>\n",
       "      <td>2022</td>\n",
       "      <td>화물</td>\n",
       "      <td>만평1톤경장비운송차</td>\n",
       "      <td>NaN</td>\n",
       "      <td>NaN</td>\n",
       "      <td>NaN</td>\n",
       "      <td>1</td>\n",
       "    </tr>\n",
       "    <tr>\n",
       "      <th>22624</th>\n",
       "      <td>NaN</td>\n",
       "      <td>히아브-테크</td>\n",
       "      <td>2023</td>\n",
       "      <td>화물</td>\n",
       "      <td>히아브테크0.7톤크레인집게차</td>\n",
       "      <td>NaN</td>\n",
       "      <td>NaN</td>\n",
       "      <td>NaN</td>\n",
       "      <td>1</td>\n",
       "    </tr>\n",
       "    <tr>\n",
       "      <th>22625</th>\n",
       "      <td>NaN</td>\n",
       "      <td>히아브대종특장(주)</td>\n",
       "      <td>2020</td>\n",
       "      <td>화물</td>\n",
       "      <td>히아브대종2.2톤크레인집게차</td>\n",
       "      <td>NaN</td>\n",
       "      <td>NaN</td>\n",
       "      <td>NaN</td>\n",
       "      <td>1</td>\n",
       "    </tr>\n",
       "    <tr>\n",
       "      <th>22626</th>\n",
       "      <td>NaN</td>\n",
       "      <td>히아브특장</td>\n",
       "      <td>2023</td>\n",
       "      <td>화물</td>\n",
       "      <td>히아브1.1톤크레인집게차</td>\n",
       "      <td>NaN</td>\n",
       "      <td>NaN</td>\n",
       "      <td>NaN</td>\n",
       "      <td>1</td>\n",
       "    </tr>\n",
       "    <tr>\n",
       "      <th>22627</th>\n",
       "      <td>NaN</td>\n",
       "      <td>히아브특장</td>\n",
       "      <td>2023</td>\n",
       "      <td>화물</td>\n",
       "      <td>히아브1.2톤크레인집게차</td>\n",
       "      <td>NaN</td>\n",
       "      <td>NaN</td>\n",
       "      <td>NaN</td>\n",
       "      <td>1</td>\n",
       "    </tr>\n",
       "  </tbody>\n",
       "</table>\n",
       "<p>22628 rows × 9 columns</p>\n",
       "</div>"
      ],
      "text/plain": [
       "        배출가스인증번호        제작사명    연식  차종               차명 유럽기준  저감장치구분 통계자료존재유무  \\\n",
       "0      1MY-HD-52    현대자동차(주)  2004  화물           현대슈퍼트럭  NaN  1종+SCR      NaN   \n",
       "1      2MY-DW-04  타타대우상용차(주)  2003  화물        대우25톤카고트럭  NaN  1종+SCR      NaN   \n",
       "2      2MY-DW-04  타타대우상용차(주)  2004  화물      대우25톤장축카고트럭  NaN  1종+SCR      NaN   \n",
       "3      2MY-DW-04  타타대우상용차(주)  2004  화물        대우25톤카고트럭  NaN  1종+SCR      NaN   \n",
       "4      2MY-DW-04  타타대우상용차(주)  2005  화물    대우22.5톤장축카고트럭  NaN  1종+SCR      NaN   \n",
       "...          ...         ...   ...  ..              ...  ...     ...      ...   \n",
       "22623        NaN    히아브 만평특장  2022  화물       만평1톤경장비운송차  NaN     NaN      NaN   \n",
       "22624        NaN      히아브-테크  2023  화물  히아브테크0.7톤크레인집게차  NaN     NaN      NaN   \n",
       "22625        NaN  히아브대종특장(주)  2020  화물  히아브대종2.2톤크레인집게차  NaN     NaN      NaN   \n",
       "22626        NaN       히아브특장  2023  화물    히아브1.1톤크레인집게차  NaN     NaN      NaN   \n",
       "22627        NaN       히아브특장  2023  화물    히아브1.2톤크레인집게차  NaN     NaN      NaN   \n",
       "\n",
       "       차량대수  \n",
       "0         3  \n",
       "1         1  \n",
       "2         1  \n",
       "3        29  \n",
       "4         1  \n",
       "...     ...  \n",
       "22623     1  \n",
       "22624     1  \n",
       "22625     1  \n",
       "22626     1  \n",
       "22627     1  \n",
       "\n",
       "[22628 rows x 9 columns]"
      ]
     },
     "execution_count": 134,
     "metadata": {},
     "output_type": "execute_result"
    }
   ],
   "source": [
    "# megrp1 = me.groupby(['배출가스인증번호', '제작사명', '연식', '차종', '차명', '통계자료존재유무'], dropna=False)['차대번호'].count().reset_index()\n",
    "megrp1 = me.groupby(['배출가스인증번호', '제작사명', '연식', '차종', '차명', '유럽기준', '저감장치구분', '통계자료존재유무'], dropna=False)['차대번호'].count().reset_index()\n",
    "megrp1 = megrp1.rename(columns={'차대번호':'차량대수'})\n",
    "megrp1"
   ]
  },
  {
   "cell_type": "code",
   "execution_count": 135,
   "metadata": {},
   "outputs": [
    {
     "data": {
      "text/plain": [
       "4435665"
      ]
     },
     "execution_count": 135,
     "metadata": {},
     "output_type": "execute_result"
    }
   ],
   "source": [
    "megrp1['차량대수'].sum()"
   ]
  },
  {
   "cell_type": "code",
   "execution_count": 139,
   "metadata": {},
   "outputs": [
    {
     "data": {
      "text/plain": [
       "배출가스인증번호    19466\n",
       "제작사명            0\n",
       "연식              0\n",
       "차종              0\n",
       "차명              0\n",
       "유럽기준        22210\n",
       "저감장치구분      22326\n",
       "통계자료존재유무    21435\n",
       "차량대수            0\n",
       "dtype: int64"
      ]
     },
     "execution_count": 139,
     "metadata": {},
     "output_type": "execute_result"
    }
   ],
   "source": [
    "megrp1.isnull().sum()"
   ]
  },
  {
   "cell_type": "code",
   "execution_count": 142,
   "metadata": {},
   "outputs": [
    {
     "data": {
      "text/plain": [
       "2372"
      ]
     },
     "execution_count": 142,
     "metadata": {},
     "output_type": "execute_result"
    }
   ],
   "source": [
    "megrp1.loc[megrp1['저감장치구분'].notnull(), '차량대수'].sum()"
   ]
  },
  {
   "cell_type": "code",
   "execution_count": 144,
   "metadata": {},
   "outputs": [
    {
     "data": {
      "text/plain": [
       "66790"
      ]
     },
     "execution_count": 144,
     "metadata": {},
     "output_type": "execute_result"
    }
   ],
   "source": [
    "megrp1.loc[(megrp1['유럽기준'].notnull()) & (megrp1['통계자료존재유무'].isnull()), '차량대수'].sum()"
   ]
  },
  {
   "cell_type": "code",
   "execution_count": 145,
   "metadata": {},
   "outputs": [
    {
     "data": {
      "text/plain": [
       "1114766"
      ]
     },
     "execution_count": 145,
     "metadata": {},
     "output_type": "execute_result"
    }
   ],
   "source": [
    "megrp1.loc[(megrp1['유럽기준'].isnull()) & (megrp1['통계자료존재유무'].notnull()), '차량대수'].sum()"
   ]
  },
  {
   "cell_type": "code",
   "execution_count": 146,
   "metadata": {},
   "outputs": [
    {
     "data": {
      "text/plain": [
       "2175420"
      ]
     },
     "execution_count": 146,
     "metadata": {},
     "output_type": "execute_result"
    }
   ],
   "source": [
    "megrp1.loc[(megrp1['유럽기준'].notnull()) | (megrp1['통계자료존재유무'].notnull()), '차량대수'].sum()"
   ]
  },
  {
   "cell_type": "code",
   "execution_count": 136,
   "metadata": {},
   "outputs": [
    {
     "data": {
      "text/plain": [
       "'20231214_PM_060101'"
      ]
     },
     "execution_count": 136,
     "metadata": {},
     "output_type": "execute_result"
    }
   ],
   "source": [
    "today_date_dtl = today_date = datetime.today().strftime('%Y%m%d_%p_%I%M%S')\n",
    "today_date_dtl"
   ]
  },
  {
   "cell_type": "markdown",
   "metadata": {},
   "source": [
    "### [출력] 경유차량 통계"
   ]
  },
  {
   "cell_type": "code",
   "execution_count": 137,
   "metadata": {},
   "outputs": [],
   "source": [
    "# 1.9s\n",
    "megrp1.to_excel(os.path.join(an_fold, f'경유차량_통계_{today_date_dtl}.xlsx'), index=False)"
   ]
  },
  {
   "cell_type": "markdown",
   "metadata": {},
   "source": [
    "## 저공해조치 차량 현황"
   ]
  },
  {
   "cell_type": "code",
   "execution_count": 371,
   "metadata": {},
   "outputs": [
    {
     "data": {
      "text/html": [
       "<div>\n",
       "<style scoped>\n",
       "    .dataframe tbody tr th:only-of-type {\n",
       "        vertical-align: middle;\n",
       "    }\n",
       "\n",
       "    .dataframe tbody tr th {\n",
       "        vertical-align: top;\n",
       "    }\n",
       "\n",
       "    .dataframe thead th {\n",
       "        text-align: right;\n",
       "    }\n",
       "</style>\n",
       "<table border=\"1\" class=\"dataframe\">\n",
       "  <thead>\n",
       "    <tr style=\"text-align: right;\">\n",
       "      <th></th>\n",
       "      <th>구분</th>\n",
       "      <th>차량대수</th>\n",
       "    </tr>\n",
       "  </thead>\n",
       "  <tbody>\n",
       "    <tr>\n",
       "      <th>0</th>\n",
       "      <td>국내</td>\n",
       "      <td>2102.0</td>\n",
       "    </tr>\n",
       "    <tr>\n",
       "      <th>1</th>\n",
       "      <td>국외</td>\n",
       "      <td>270.0</td>\n",
       "    </tr>\n",
       "    <tr>\n",
       "      <th>2</th>\n",
       "      <td>합계</td>\n",
       "      <td>2372.0</td>\n",
       "    </tr>\n",
       "  </tbody>\n",
       "</table>\n",
       "</div>"
      ],
      "text/plain": [
       "   구분    차량대수\n",
       "0  국내  2102.0\n",
       "1  국외   270.0\n",
       "2  합계  2372.0"
      ]
     },
     "execution_count": 371,
     "metadata": {},
     "output_type": "execute_result"
    }
   ],
   "source": [
    "mgrp1 = mnt.groupby(['구분'], dropna=False)['차대번호'].count().reset_index()\n",
    "mgrp1 = mgrp1.rename(columns={'차대번호':'차량대수'})\n",
    "mgrp1.loc[mgrp1.shape[0], ['구분', '차량대수']] = ['합계', mgrp1['차량대수'].sum()]\n",
    "mgrp1"
   ]
  },
  {
   "cell_type": "code",
   "execution_count": 372,
   "metadata": {},
   "outputs": [
    {
     "data": {
      "text/html": [
       "<div>\n",
       "<style scoped>\n",
       "    .dataframe tbody tr th:only-of-type {\n",
       "        vertical-align: middle;\n",
       "    }\n",
       "\n",
       "    .dataframe tbody tr th {\n",
       "        vertical-align: top;\n",
       "    }\n",
       "\n",
       "    .dataframe thead th {\n",
       "        text-align: right;\n",
       "    }\n",
       "</style>\n",
       "<table border=\"1\" class=\"dataframe\">\n",
       "  <thead>\n",
       "    <tr style=\"text-align: right;\">\n",
       "      <th></th>\n",
       "      <th>구분</th>\n",
       "      <th>차종</th>\n",
       "      <th>차량대수</th>\n",
       "    </tr>\n",
       "  </thead>\n",
       "  <tbody>\n",
       "    <tr>\n",
       "      <th>0</th>\n",
       "      <td>국내</td>\n",
       "      <td>승합</td>\n",
       "      <td>38.0</td>\n",
       "    </tr>\n",
       "    <tr>\n",
       "      <th>1</th>\n",
       "      <td>국내</td>\n",
       "      <td>화물</td>\n",
       "      <td>2064.0</td>\n",
       "    </tr>\n",
       "    <tr>\n",
       "      <th>2</th>\n",
       "      <td>국외</td>\n",
       "      <td>화물</td>\n",
       "      <td>270.0</td>\n",
       "    </tr>\n",
       "    <tr>\n",
       "      <th>3</th>\n",
       "      <td>합계</td>\n",
       "      <td>NaN</td>\n",
       "      <td>2372.0</td>\n",
       "    </tr>\n",
       "  </tbody>\n",
       "</table>\n",
       "</div>"
      ],
      "text/plain": [
       "   구분   차종    차량대수\n",
       "0  국내   승합    38.0\n",
       "1  국내   화물  2064.0\n",
       "2  국외   화물   270.0\n",
       "3  합계  NaN  2372.0"
      ]
     },
     "execution_count": 372,
     "metadata": {},
     "output_type": "execute_result"
    }
   ],
   "source": [
    "mgrp2 = mnt.groupby(['구분', '차종'], dropna=False)['차대번호'].count().reset_index()\n",
    "mgrp2 = mgrp2.rename(columns={'차대번호':'차량대수'})\n",
    "mgrp2.loc[mgrp2.shape[0], ['구분', '차량대수']] = ['합계', mgrp2['차량대수'].sum()]\n",
    "mgrp2"
   ]
  },
  {
   "cell_type": "code",
   "execution_count": 373,
   "metadata": {},
   "outputs": [
    {
     "data": {
      "text/html": [
       "<div>\n",
       "<style scoped>\n",
       "    .dataframe tbody tr th:only-of-type {\n",
       "        vertical-align: middle;\n",
       "    }\n",
       "\n",
       "    .dataframe tbody tr th {\n",
       "        vertical-align: top;\n",
       "    }\n",
       "\n",
       "    .dataframe thead th {\n",
       "        text-align: right;\n",
       "    }\n",
       "</style>\n",
       "<table border=\"1\" class=\"dataframe\">\n",
       "  <thead>\n",
       "    <tr style=\"text-align: right;\">\n",
       "      <th></th>\n",
       "      <th>구분</th>\n",
       "      <th>차종유형</th>\n",
       "      <th>차량대수</th>\n",
       "    </tr>\n",
       "  </thead>\n",
       "  <tbody>\n",
       "    <tr>\n",
       "      <th>0</th>\n",
       "      <td>국내</td>\n",
       "      <td>대형</td>\n",
       "      <td>2102.0</td>\n",
       "    </tr>\n",
       "    <tr>\n",
       "      <th>1</th>\n",
       "      <td>국외</td>\n",
       "      <td>대형</td>\n",
       "      <td>270.0</td>\n",
       "    </tr>\n",
       "    <tr>\n",
       "      <th>2</th>\n",
       "      <td>합계</td>\n",
       "      <td>NaN</td>\n",
       "      <td>2372.0</td>\n",
       "    </tr>\n",
       "  </tbody>\n",
       "</table>\n",
       "</div>"
      ],
      "text/plain": [
       "   구분 차종유형    차량대수\n",
       "0  국내   대형  2102.0\n",
       "1  국외   대형   270.0\n",
       "2  합계  NaN  2372.0"
      ]
     },
     "execution_count": 373,
     "metadata": {},
     "output_type": "execute_result"
    }
   ],
   "source": [
    "mgrp3 = mnt.groupby(['구분', '차종유형'], dropna=False)['차대번호'].count().reset_index()\n",
    "mgrp3 = mgrp3.rename(columns={'차대번호':'차량대수'})\n",
    "mgrp3.loc[mgrp3.shape[0], ['구분', '차량대수']] = ['합계', mgrp3['차량대수'].sum()]\n",
    "mgrp3"
   ]
  },
  {
   "cell_type": "code",
   "execution_count": null,
   "metadata": {},
   "outputs": [],
   "source": [
    "mgrp4 = mnt.groupby(['구분', '용도'], dropna=False)['차대번호'].count().reset_index()\n",
    "mgrp4 = mgrp4.rename(columns={'차대번호':'차량대수'})\n",
    "mgrp4.loc[mgrp4.shape[0], ['구분', '차량대수']] = ['합계', mgrp4['차량대수'].sum()]\n",
    "mgrp4"
   ]
  },
  {
   "cell_type": "code",
   "execution_count": 374,
   "metadata": {},
   "outputs": [
    {
     "data": {
      "text/html": [
       "<div>\n",
       "<style scoped>\n",
       "    .dataframe tbody tr th:only-of-type {\n",
       "        vertical-align: middle;\n",
       "    }\n",
       "\n",
       "    .dataframe tbody tr th {\n",
       "        vertical-align: top;\n",
       "    }\n",
       "\n",
       "    .dataframe thead th {\n",
       "        text-align: right;\n",
       "    }\n",
       "</style>\n",
       "<table border=\"1\" class=\"dataframe\">\n",
       "  <thead>\n",
       "    <tr style=\"text-align: right;\">\n",
       "      <th></th>\n",
       "      <th>구분</th>\n",
       "      <th>차종</th>\n",
       "      <th>차종유형</th>\n",
       "      <th>용도</th>\n",
       "      <th>차량대수</th>\n",
       "    </tr>\n",
       "  </thead>\n",
       "  <tbody>\n",
       "    <tr>\n",
       "      <th>0</th>\n",
       "      <td>국내</td>\n",
       "      <td>승합</td>\n",
       "      <td>대형</td>\n",
       "      <td>개인용</td>\n",
       "      <td>34.0</td>\n",
       "    </tr>\n",
       "    <tr>\n",
       "      <th>1</th>\n",
       "      <td>국내</td>\n",
       "      <td>승합</td>\n",
       "      <td>대형</td>\n",
       "      <td>영업용</td>\n",
       "      <td>4.0</td>\n",
       "    </tr>\n",
       "    <tr>\n",
       "      <th>2</th>\n",
       "      <td>국내</td>\n",
       "      <td>화물</td>\n",
       "      <td>대형</td>\n",
       "      <td>개인용</td>\n",
       "      <td>291.0</td>\n",
       "    </tr>\n",
       "    <tr>\n",
       "      <th>3</th>\n",
       "      <td>국내</td>\n",
       "      <td>화물</td>\n",
       "      <td>대형</td>\n",
       "      <td>영업용</td>\n",
       "      <td>1773.0</td>\n",
       "    </tr>\n",
       "    <tr>\n",
       "      <th>4</th>\n",
       "      <td>국외</td>\n",
       "      <td>화물</td>\n",
       "      <td>대형</td>\n",
       "      <td>개인용</td>\n",
       "      <td>97.0</td>\n",
       "    </tr>\n",
       "    <tr>\n",
       "      <th>5</th>\n",
       "      <td>국외</td>\n",
       "      <td>화물</td>\n",
       "      <td>대형</td>\n",
       "      <td>영업용</td>\n",
       "      <td>173.0</td>\n",
       "    </tr>\n",
       "    <tr>\n",
       "      <th>6</th>\n",
       "      <td>합계</td>\n",
       "      <td>NaN</td>\n",
       "      <td>NaN</td>\n",
       "      <td>NaN</td>\n",
       "      <td>2372.0</td>\n",
       "    </tr>\n",
       "  </tbody>\n",
       "</table>\n",
       "</div>"
      ],
      "text/plain": [
       "   구분   차종 차종유형   용도    차량대수\n",
       "0  국내   승합   대형  개인용    34.0\n",
       "1  국내   승합   대형  영업용     4.0\n",
       "2  국내   화물   대형  개인용   291.0\n",
       "3  국내   화물   대형  영업용  1773.0\n",
       "4  국외   화물   대형  개인용    97.0\n",
       "5  국외   화물   대형  영업용   173.0\n",
       "6  합계  NaN  NaN  NaN  2372.0"
      ]
     },
     "execution_count": 374,
     "metadata": {},
     "output_type": "execute_result"
    }
   ],
   "source": [
    "mgrp5 = mnt.groupby(['구분', '차종', '차종유형', '용도'], dropna=False)['차대번호'].count().reset_index()\n",
    "mgrp5 = mgrp5.rename(columns={'차대번호':'차량대수'})\n",
    "mgrp5.loc[mgrp5.shape[0], ['구분', '차량대수']] = ['합계', mgrp5['차량대수'].sum()]\n",
    "mgrp5"
   ]
  },
  {
   "cell_type": "markdown",
   "metadata": {},
   "source": [
    "## SCR장착 차량 현황"
   ]
  },
  {
   "cell_type": "code",
   "execution_count": 375,
   "metadata": {},
   "outputs": [
    {
     "data": {
      "text/html": [
       "<div>\n",
       "<style scoped>\n",
       "    .dataframe tbody tr th:only-of-type {\n",
       "        vertical-align: middle;\n",
       "    }\n",
       "\n",
       "    .dataframe tbody tr th {\n",
       "        vertical-align: top;\n",
       "    }\n",
       "\n",
       "    .dataframe thead th {\n",
       "        text-align: right;\n",
       "    }\n",
       "</style>\n",
       "<table border=\"1\" class=\"dataframe\">\n",
       "  <thead>\n",
       "    <tr style=\"text-align: right;\">\n",
       "      <th></th>\n",
       "      <th>구분</th>\n",
       "      <th>차량대수</th>\n",
       "    </tr>\n",
       "  </thead>\n",
       "  <tbody>\n",
       "    <tr>\n",
       "      <th>0</th>\n",
       "      <td>국내</td>\n",
       "      <td>3592589.0</td>\n",
       "    </tr>\n",
       "    <tr>\n",
       "      <th>1</th>\n",
       "      <td>국외</td>\n",
       "      <td>840704.0</td>\n",
       "    </tr>\n",
       "    <tr>\n",
       "      <th>2</th>\n",
       "      <td>합계</td>\n",
       "      <td>4433293.0</td>\n",
       "    </tr>\n",
       "  </tbody>\n",
       "</table>\n",
       "</div>"
      ],
      "text/plain": [
       "   구분       차량대수\n",
       "0  국내  3592589.0\n",
       "1  국외   840704.0\n",
       "2  합계  4433293.0"
      ]
     },
     "execution_count": 375,
     "metadata": {},
     "output_type": "execute_result"
    }
   ],
   "source": [
    "egrp1 = euro6.groupby(['구분'], dropna=False)['차대번호'].count().reset_index()\n",
    "egrp1 = egrp1.rename(columns={'차대번호':'차량대수'})\n",
    "egrp1.loc[egrp1.shape[0], ['구분', '차량대수']] = ['합계', egrp1['차량대수'].sum()]\n",
    "egrp1"
   ]
  },
  {
   "cell_type": "code",
   "execution_count": 376,
   "metadata": {},
   "outputs": [
    {
     "data": {
      "text/html": [
       "<div>\n",
       "<style scoped>\n",
       "    .dataframe tbody tr th:only-of-type {\n",
       "        vertical-align: middle;\n",
       "    }\n",
       "\n",
       "    .dataframe tbody tr th {\n",
       "        vertical-align: top;\n",
       "    }\n",
       "\n",
       "    .dataframe thead th {\n",
       "        text-align: right;\n",
       "    }\n",
       "</style>\n",
       "<table border=\"1\" class=\"dataframe\">\n",
       "  <thead>\n",
       "    <tr style=\"text-align: right;\">\n",
       "      <th></th>\n",
       "      <th>구분</th>\n",
       "      <th>차종</th>\n",
       "      <th>차량대수</th>\n",
       "    </tr>\n",
       "  </thead>\n",
       "  <tbody>\n",
       "    <tr>\n",
       "      <th>0</th>\n",
       "      <td>국내</td>\n",
       "      <td>승용</td>\n",
       "      <td>1853816.0</td>\n",
       "    </tr>\n",
       "    <tr>\n",
       "      <th>1</th>\n",
       "      <td>국내</td>\n",
       "      <td>승합</td>\n",
       "      <td>198959.0</td>\n",
       "    </tr>\n",
       "    <tr>\n",
       "      <th>2</th>\n",
       "      <td>국내</td>\n",
       "      <td>특수</td>\n",
       "      <td>56761.0</td>\n",
       "    </tr>\n",
       "    <tr>\n",
       "      <th>3</th>\n",
       "      <td>국내</td>\n",
       "      <td>화물</td>\n",
       "      <td>1483053.0</td>\n",
       "    </tr>\n",
       "    <tr>\n",
       "      <th>4</th>\n",
       "      <td>국외</td>\n",
       "      <td>승용</td>\n",
       "      <td>763067.0</td>\n",
       "    </tr>\n",
       "    <tr>\n",
       "      <th>5</th>\n",
       "      <td>국외</td>\n",
       "      <td>승합</td>\n",
       "      <td>1562.0</td>\n",
       "    </tr>\n",
       "    <tr>\n",
       "      <th>6</th>\n",
       "      <td>국외</td>\n",
       "      <td>특수</td>\n",
       "      <td>23544.0</td>\n",
       "    </tr>\n",
       "    <tr>\n",
       "      <th>7</th>\n",
       "      <td>국외</td>\n",
       "      <td>화물</td>\n",
       "      <td>52531.0</td>\n",
       "    </tr>\n",
       "    <tr>\n",
       "      <th>8</th>\n",
       "      <td>합계</td>\n",
       "      <td>NaN</td>\n",
       "      <td>4433293.0</td>\n",
       "    </tr>\n",
       "  </tbody>\n",
       "</table>\n",
       "</div>"
      ],
      "text/plain": [
       "   구분   차종       차량대수\n",
       "0  국내   승용  1853816.0\n",
       "1  국내   승합   198959.0\n",
       "2  국내   특수    56761.0\n",
       "3  국내   화물  1483053.0\n",
       "4  국외   승용   763067.0\n",
       "5  국외   승합     1562.0\n",
       "6  국외   특수    23544.0\n",
       "7  국외   화물    52531.0\n",
       "8  합계  NaN  4433293.0"
      ]
     },
     "execution_count": 376,
     "metadata": {},
     "output_type": "execute_result"
    }
   ],
   "source": [
    "egrp2 = euro6.groupby(['구분', '차종'], dropna=False)['차대번호'].count().reset_index()\n",
    "egrp2 = egrp2.rename(columns={'차대번호':'차량대수'})\n",
    "egrp2.loc[egrp2.shape[0], ['구분', '차량대수']] = ['합계', egrp2['차량대수'].sum()]\n",
    "egrp2"
   ]
  },
  {
   "cell_type": "code",
   "execution_count": 377,
   "metadata": {},
   "outputs": [
    {
     "data": {
      "text/html": [
       "<div>\n",
       "<style scoped>\n",
       "    .dataframe tbody tr th:only-of-type {\n",
       "        vertical-align: middle;\n",
       "    }\n",
       "\n",
       "    .dataframe tbody tr th {\n",
       "        vertical-align: top;\n",
       "    }\n",
       "\n",
       "    .dataframe thead th {\n",
       "        text-align: right;\n",
       "    }\n",
       "</style>\n",
       "<table border=\"1\" class=\"dataframe\">\n",
       "  <thead>\n",
       "    <tr style=\"text-align: right;\">\n",
       "      <th></th>\n",
       "      <th>구분</th>\n",
       "      <th>차종유형</th>\n",
       "      <th>차량대수</th>\n",
       "    </tr>\n",
       "  </thead>\n",
       "  <tbody>\n",
       "    <tr>\n",
       "      <th>0</th>\n",
       "      <td>국내</td>\n",
       "      <td>대형</td>\n",
       "      <td>1169593.0</td>\n",
       "    </tr>\n",
       "    <tr>\n",
       "      <th>1</th>\n",
       "      <td>국내</td>\n",
       "      <td>소형</td>\n",
       "      <td>1317655.0</td>\n",
       "    </tr>\n",
       "    <tr>\n",
       "      <th>2</th>\n",
       "      <td>국내</td>\n",
       "      <td>중형</td>\n",
       "      <td>1105341.0</td>\n",
       "    </tr>\n",
       "    <tr>\n",
       "      <th>3</th>\n",
       "      <td>국외</td>\n",
       "      <td>대형</td>\n",
       "      <td>291046.0</td>\n",
       "    </tr>\n",
       "    <tr>\n",
       "      <th>4</th>\n",
       "      <td>국외</td>\n",
       "      <td>소형</td>\n",
       "      <td>4637.0</td>\n",
       "    </tr>\n",
       "    <tr>\n",
       "      <th>5</th>\n",
       "      <td>국외</td>\n",
       "      <td>중형</td>\n",
       "      <td>545021.0</td>\n",
       "    </tr>\n",
       "    <tr>\n",
       "      <th>6</th>\n",
       "      <td>합계</td>\n",
       "      <td>NaN</td>\n",
       "      <td>4433293.0</td>\n",
       "    </tr>\n",
       "  </tbody>\n",
       "</table>\n",
       "</div>"
      ],
      "text/plain": [
       "   구분 차종유형       차량대수\n",
       "0  국내   대형  1169593.0\n",
       "1  국내   소형  1317655.0\n",
       "2  국내   중형  1105341.0\n",
       "3  국외   대형   291046.0\n",
       "4  국외   소형     4637.0\n",
       "5  국외   중형   545021.0\n",
       "6  합계  NaN  4433293.0"
      ]
     },
     "execution_count": 377,
     "metadata": {},
     "output_type": "execute_result"
    }
   ],
   "source": [
    "egrp3 = euro6.groupby(['구분', '차종유형'], dropna=False)['차대번호'].count().reset_index()\n",
    "egrp3 = egrp3.rename(columns={'차대번호':'차량대수'})\n",
    "egrp3.loc[egrp3.shape[0], ['구분', '차량대수']] = ['합계', egrp3['차량대수'].sum()]\n",
    "egrp3"
   ]
  },
  {
   "cell_type": "code",
   "execution_count": 378,
   "metadata": {},
   "outputs": [
    {
     "data": {
      "text/html": [
       "<div>\n",
       "<style scoped>\n",
       "    .dataframe tbody tr th:only-of-type {\n",
       "        vertical-align: middle;\n",
       "    }\n",
       "\n",
       "    .dataframe tbody tr th {\n",
       "        vertical-align: top;\n",
       "    }\n",
       "\n",
       "    .dataframe thead th {\n",
       "        text-align: right;\n",
       "    }\n",
       "</style>\n",
       "<table border=\"1\" class=\"dataframe\">\n",
       "  <thead>\n",
       "    <tr style=\"text-align: right;\">\n",
       "      <th></th>\n",
       "      <th>구분</th>\n",
       "      <th>용도</th>\n",
       "      <th>차량대수</th>\n",
       "    </tr>\n",
       "  </thead>\n",
       "  <tbody>\n",
       "    <tr>\n",
       "      <th>0</th>\n",
       "      <td>국내</td>\n",
       "      <td>개인용</td>\n",
       "      <td>3089301.0</td>\n",
       "    </tr>\n",
       "    <tr>\n",
       "      <th>1</th>\n",
       "      <td>국내</td>\n",
       "      <td>관용</td>\n",
       "      <td>41461.0</td>\n",
       "    </tr>\n",
       "    <tr>\n",
       "      <th>2</th>\n",
       "      <td>국내</td>\n",
       "      <td>영업용</td>\n",
       "      <td>461827.0</td>\n",
       "    </tr>\n",
       "    <tr>\n",
       "      <th>3</th>\n",
       "      <td>국외</td>\n",
       "      <td>개인용</td>\n",
       "      <td>765866.0</td>\n",
       "    </tr>\n",
       "    <tr>\n",
       "      <th>4</th>\n",
       "      <td>국외</td>\n",
       "      <td>관용</td>\n",
       "      <td>1736.0</td>\n",
       "    </tr>\n",
       "    <tr>\n",
       "      <th>5</th>\n",
       "      <td>국외</td>\n",
       "      <td>영업용</td>\n",
       "      <td>73102.0</td>\n",
       "    </tr>\n",
       "    <tr>\n",
       "      <th>6</th>\n",
       "      <td>합계</td>\n",
       "      <td>NaN</td>\n",
       "      <td>4433293.0</td>\n",
       "    </tr>\n",
       "  </tbody>\n",
       "</table>\n",
       "</div>"
      ],
      "text/plain": [
       "   구분   용도       차량대수\n",
       "0  국내  개인용  3089301.0\n",
       "1  국내   관용    41461.0\n",
       "2  국내  영업용   461827.0\n",
       "3  국외  개인용   765866.0\n",
       "4  국외   관용     1736.0\n",
       "5  국외  영업용    73102.0\n",
       "6  합계  NaN  4433293.0"
      ]
     },
     "execution_count": 378,
     "metadata": {},
     "output_type": "execute_result"
    }
   ],
   "source": [
    "egrp4 = euro6.groupby(['구분', '용도'], dropna=False)['차대번호'].count().reset_index()\n",
    "egrp4 = egrp4.rename(columns={'차대번호':'차량대수'})\n",
    "egrp4.loc[egrp4.shape[0], ['구분', '차량대수']] = ['합계', egrp4['차량대수'].sum()]\n",
    "egrp4"
   ]
  },
  {
   "cell_type": "code",
   "execution_count": 379,
   "metadata": {},
   "outputs": [
    {
     "data": {
      "text/html": [
       "<div>\n",
       "<style scoped>\n",
       "    .dataframe tbody tr th:only-of-type {\n",
       "        vertical-align: middle;\n",
       "    }\n",
       "\n",
       "    .dataframe tbody tr th {\n",
       "        vertical-align: top;\n",
       "    }\n",
       "\n",
       "    .dataframe thead th {\n",
       "        text-align: right;\n",
       "    }\n",
       "</style>\n",
       "<table border=\"1\" class=\"dataframe\">\n",
       "  <thead>\n",
       "    <tr style=\"text-align: right;\">\n",
       "      <th></th>\n",
       "      <th>구분</th>\n",
       "      <th>차종</th>\n",
       "      <th>차종유형</th>\n",
       "      <th>용도</th>\n",
       "      <th>차량대수</th>\n",
       "    </tr>\n",
       "  </thead>\n",
       "  <tbody>\n",
       "    <tr>\n",
       "      <th>0</th>\n",
       "      <td>국내</td>\n",
       "      <td>승용</td>\n",
       "      <td>대형</td>\n",
       "      <td>개인용</td>\n",
       "      <td>884473.0</td>\n",
       "    </tr>\n",
       "    <tr>\n",
       "      <th>1</th>\n",
       "      <td>국내</td>\n",
       "      <td>승용</td>\n",
       "      <td>대형</td>\n",
       "      <td>관용</td>\n",
       "      <td>2186.0</td>\n",
       "    </tr>\n",
       "    <tr>\n",
       "      <th>2</th>\n",
       "      <td>국내</td>\n",
       "      <td>승용</td>\n",
       "      <td>대형</td>\n",
       "      <td>영업용</td>\n",
       "      <td>150335.0</td>\n",
       "    </tr>\n",
       "    <tr>\n",
       "      <th>3</th>\n",
       "      <td>국내</td>\n",
       "      <td>승용</td>\n",
       "      <td>소형</td>\n",
       "      <td>개인용</td>\n",
       "      <td>1.0</td>\n",
       "    </tr>\n",
       "    <tr>\n",
       "      <th>4</th>\n",
       "      <td>국내</td>\n",
       "      <td>승용</td>\n",
       "      <td>중형</td>\n",
       "      <td>개인용</td>\n",
       "      <td>761883.0</td>\n",
       "    </tr>\n",
       "    <tr>\n",
       "      <th>...</th>\n",
       "      <td>...</td>\n",
       "      <td>...</td>\n",
       "      <td>...</td>\n",
       "      <td>...</td>\n",
       "      <td>...</td>\n",
       "    </tr>\n",
       "    <tr>\n",
       "      <th>60</th>\n",
       "      <td>국외</td>\n",
       "      <td>화물</td>\n",
       "      <td>소형</td>\n",
       "      <td>영업용</td>\n",
       "      <td>6.0</td>\n",
       "    </tr>\n",
       "    <tr>\n",
       "      <th>61</th>\n",
       "      <td>국외</td>\n",
       "      <td>화물</td>\n",
       "      <td>중형</td>\n",
       "      <td>개인용</td>\n",
       "      <td>2007.0</td>\n",
       "    </tr>\n",
       "    <tr>\n",
       "      <th>62</th>\n",
       "      <td>국외</td>\n",
       "      <td>화물</td>\n",
       "      <td>중형</td>\n",
       "      <td>관용</td>\n",
       "      <td>20.0</td>\n",
       "    </tr>\n",
       "    <tr>\n",
       "      <th>63</th>\n",
       "      <td>국외</td>\n",
       "      <td>화물</td>\n",
       "      <td>중형</td>\n",
       "      <td>영업용</td>\n",
       "      <td>2898.0</td>\n",
       "    </tr>\n",
       "    <tr>\n",
       "      <th>64</th>\n",
       "      <td>합계</td>\n",
       "      <td>NaN</td>\n",
       "      <td>NaN</td>\n",
       "      <td>NaN</td>\n",
       "      <td>4433293.0</td>\n",
       "    </tr>\n",
       "  </tbody>\n",
       "</table>\n",
       "<p>65 rows × 5 columns</p>\n",
       "</div>"
      ],
      "text/plain": [
       "    구분   차종 차종유형   용도       차량대수\n",
       "0   국내   승용   대형  개인용   884473.0\n",
       "1   국내   승용   대형   관용     2186.0\n",
       "2   국내   승용   대형  영업용   150335.0\n",
       "3   국내   승용   소형  개인용        1.0\n",
       "4   국내   승용   중형  개인용   761883.0\n",
       "..  ..  ...  ...  ...        ...\n",
       "60  국외   화물   소형  영업용        6.0\n",
       "61  국외   화물   중형  개인용     2007.0\n",
       "62  국외   화물   중형   관용       20.0\n",
       "63  국외   화물   중형  영업용     2898.0\n",
       "64  합계  NaN  NaN  NaN  4433293.0\n",
       "\n",
       "[65 rows x 5 columns]"
      ]
     },
     "execution_count": 379,
     "metadata": {},
     "output_type": "execute_result"
    }
   ],
   "source": [
    "egrp5 = euro6.groupby(['구분', '차종', '차종유형', '용도'], dropna=False)['차대번호'].count().reset_index()\n",
    "egrp5 = egrp5.rename(columns={'차대번호':'차량대수'})\n",
    "egrp5.loc[egrp5.shape[0], ['구분', '차량대수']] = ['합계', egrp5['차량대수'].sum()]\n",
    "egrp5"
   ]
  },
  {
   "cell_type": "markdown",
   "metadata": {},
   "source": [
    "### [출력] 요소수 차량 현황"
   ]
  },
  {
   "cell_type": "code",
   "execution_count": null,
   "metadata": {},
   "outputs": [],
   "source": [
    "with pd.ExcelWriter(os.path.join(df_fold, f'요소수차량현황_{today_date}.xlsx')) as writer:\n",
    "    mgrp1.to_excel(writer, sheet_name='저공해차량', index=False)\n",
    "    mgrp2.to_excel(writer, sheet_name='저공해차량_차종', index=False)\n",
    "    mgrp3.to_excel(writer, sheet_name='저공해차량_차종유형', index=False)\n",
    "    mgrp4.to_excel(writer, sheet_name='저공해차량_용도', index=False)\n",
    "    mgrp5.to_excel(writer, sheet_name='저공해차량_분류', index=False)\n",
    "    egrp1.to_excel(writer, sheet_name='SCR장착차량', index=False)\n",
    "    egrp2.to_excel(writer, sheet_name='SCR장착차량_차종', index=False)\n",
    "    egrp3.to_excel(writer, sheet_name='SCR장착차량_차종유형', index=False)\n",
    "    egrp4.to_excel(writer, sheet_name='SCR장착차량_용도', index=False)\n",
    "    egrp5.to_excel(writer, sheet_name='SCR장착차량_분류', index=False)"
   ]
  }
 ],
 "metadata": {
  "interpreter": {
   "hash": "569b4317022eb29baeafb3d0f1f739310808ea28ce83ca127a35db1c01070585"
  },
  "kernelspec": {
   "display_name": "Python 3.9.12 ('base')",
   "language": "python",
   "name": "python3"
  },
  "language_info": {
   "codemirror_mode": {
    "name": "ipython",
    "version": 3
   },
   "file_extension": ".py",
   "mimetype": "text/x-python",
   "name": "python",
   "nbconvert_exporter": "python",
   "pygments_lexer": "ipython3",
   "version": "3.11.4"
  }
 },
 "nbformat": 4,
 "nbformat_minor": 2
}
