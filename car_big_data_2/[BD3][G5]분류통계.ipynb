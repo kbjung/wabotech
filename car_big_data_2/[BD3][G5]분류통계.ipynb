{
 "cells": [
  {
   "attachments": {},
   "cell_type": "markdown",
   "metadata": {},
   "source": [
    "# Library"
   ]
  },
  {
   "cell_type": "code",
   "execution_count": 1,
   "metadata": {},
   "outputs": [],
   "source": [
    "import pandas as pd\n",
    "import numpy as np\n",
    "import os\n",
    "from tqdm import tqdm"
   ]
  },
  {
   "cell_type": "code",
   "execution_count": 2,
   "metadata": {},
   "outputs": [],
   "source": [
    "# 소수점 옵션\n",
    "pd.options.display.float_format = '{:.2f}'.format\n",
    "# pd.reset_option('display.float_format')"
   ]
  },
  {
   "attachments": {},
   "cell_type": "markdown",
   "metadata": {},
   "source": [
    "# 로드\n",
    "- 등록정보&제원정보(말소적용)\n",
    "- 저감장치 부착이력"
   ]
  },
  {
   "cell_type": "code",
   "execution_count": 3,
   "metadata": {},
   "outputs": [],
   "source": [
    "ods_fold = 'D:/data/big2/'"
   ]
  },
  {
   "cell_type": "code",
   "execution_count": 4,
   "metadata": {},
   "outputs": [],
   "source": [
    "# about \n",
    "# 등록&제원 정보(말소적용)\n",
    "grade = 5\n",
    "df = pd.read_csv(os.path.join(ods_fold, f'[ODS][G{grade}]등록정보&제원정보(말소제거)(중복차대제거)(2022.12.29).csv'), low_memory=False)\n",
    "# 저감장치 부착이력(중복 차대번호 처리)\n",
    "dpf = pd.read_csv(os.path.join(ods_fold, '[ODS]저감장치부착이력(중복차대제거)(2022.12.29).csv'), low_memory=False, encoding='cp949')"
   ]
  },
  {
   "cell_type": "code",
   "execution_count": 5,
   "metadata": {},
   "outputs": [],
   "source": [
    "euro = pd.read_excel('D:/과업/[한국환경공단]자동차_환경_빅데이터_구축_2차/data/dpf.xlsx')"
   ]
  },
  {
   "attachments": {},
   "cell_type": "markdown",
   "metadata": {},
   "source": [
    "# [전처리]"
   ]
  },
  {
   "cell_type": "code",
   "execution_count": 6,
   "metadata": {},
   "outputs": [
    {
     "name": "stdout",
     "output_type": "stream",
     "text": [
      "<class 'pandas.core.frame.DataFrame'>\n",
      "RangeIndex: 1154696 entries, 0 to 1154695\n",
      "Data columns (total 49 columns):\n",
      " #   Column        Non-Null Count    Dtype  \n",
      "---  ------        --------------    -----  \n",
      " 0   차량관리번호        1154696 non-null  object \n",
      " 1   차량등록번호        1154696 non-null  object \n",
      " 2   본거지법정동코드      1154696 non-null  int64  \n",
      " 3   소유자구분         1154696 non-null  object \n",
      " 4   차종_등록정보       1154684 non-null  object \n",
      " 5   용도            1154696 non-null  object \n",
      " 6   현재회원번호        1146027 non-null  object \n",
      " 7   차대번호          1154696 non-null  object \n",
      " 8   최초등록일자        1154696 non-null  int64  \n",
      " 9   차량연식          1154696 non-null  int64  \n",
      " 10  차량제작일자        959021 non-null   float64\n",
      " 11  배출가스검사유효일자    1154184 non-null  float64\n",
      " 12  제원관리번호        1154696 non-null  object \n",
      " 13  배출가스인증번호      542912 non-null   object \n",
      " 14  배출가스등급        1154696 non-null  object \n",
      " 15  저공해조치YN(미사용)  1154622 non-null  object \n",
      " 16  저공해조치종류       361615 non-null   float64\n",
      " 17  저공해조치구조변경YN   1154696 non-null  object \n",
      " 18  차량등록번호숫자정보    1154696 non-null  int64  \n",
      " 19  차량말소YN        1154696 non-null  object \n",
      " 20  최초회원번호        1129421 non-null  object \n",
      " 21  취득일자          1014477 non-null  float64\n",
      " 22  취득금액          1040404 non-null  float64\n",
      " 23  생성일시_등록정보     1154696 non-null  object \n",
      " 24  수정일시_등록정보     556064 non-null   object \n",
      " 25  차명            1154695 non-null  object \n",
      " 26  차종_제원정보       1154696 non-null  object \n",
      " 27  차종분류          1154696 non-null  object \n",
      " 28  차종유형(소분류)     1154696 non-null  object \n",
      " 29  자동차형식         1154174 non-null  object \n",
      " 30  제작사명          1151478 non-null  object \n",
      " 31  연료            1154669 non-null  object \n",
      " 32  엔진형식          1151192 non-null  object \n",
      " 33  공차중량          0 non-null        float64\n",
      " 34  총중량           1154695 non-null  float64\n",
      " 35  적재중량          1154685 non-null  float64\n",
      " 36  엔진출력          1154386 non-null  float64\n",
      " 37  배기량           1154694 non-null  float64\n",
      " 38  승차인원          1154695 non-null  float64\n",
      " 39  차량길이          1154695 non-null  float64\n",
      " 40  차량너비          1154695 non-null  float64\n",
      " 41  차량높이          1154695 non-null  float64\n",
      " 42  원산지명          1113073 non-null  object \n",
      " 43  삭제YN          1154696 non-null  object \n",
      " 44  승인일자          1153503 non-null  object \n",
      " 45  구동형식          7 non-null        float64\n",
      " 46  변속기종류         1154694 non-null  object \n",
      " 47  생성일시_제원정보     1154696 non-null  object \n",
      " 48  수정일시_제원정보     218 non-null      object \n",
      "dtypes: float64(15), int64(4), object(30)\n",
      "memory usage: 431.7+ MB\n"
     ]
    }
   ],
   "source": [
    "df.info()"
   ]
  },
  {
   "cell_type": "code",
   "execution_count": 7,
   "metadata": {},
   "outputs": [
    {
     "data": {
      "text/plain": [
       "(1154696, 49)"
      ]
     },
     "execution_count": 7,
     "metadata": {},
     "output_type": "execute_result"
    }
   ],
   "source": [
    "df.shape"
   ]
  },
  {
   "cell_type": "code",
   "execution_count": 8,
   "metadata": {},
   "outputs": [
    {
     "name": "stdout",
     "output_type": "stream",
     "text": [
      "<class 'pandas.core.frame.DataFrame'>\n",
      "RangeIndex: 809255 entries, 0 to 809254\n",
      "Data columns (total 11 columns):\n",
      " #   Column      Non-Null Count   Dtype  \n",
      "---  ------      --------------   -----  \n",
      " 0   저감장치종류      585410 non-null  object \n",
      " 1   TDMS부착여부    204903 non-null  object \n",
      " 2   구조변경일자      809255 non-null  int64  \n",
      " 3   부착업체명       800321 non-null  object \n",
      " 4   부착일자        809254 non-null  float64\n",
      " 5   탈거승인일       169 non-null     float64\n",
      " 6   차량번호        809255 non-null  object \n",
      " 7   차대번호        809255 non-null  object \n",
      " 8   저감장치반납여부    324650 non-null  object \n",
      " 9   저감장치구분      809255 non-null  object \n",
      " 10  삼원촉매장치반납여부  13688 non-null   object \n",
      "dtypes: float64(2), int64(1), object(8)\n",
      "memory usage: 67.9+ MB\n"
     ]
    }
   ],
   "source": [
    "dpf.info()"
   ]
  },
  {
   "cell_type": "code",
   "execution_count": 9,
   "metadata": {},
   "outputs": [
    {
     "data": {
      "text/plain": [
       "(809255, 11)"
      ]
     },
     "execution_count": 9,
     "metadata": {},
     "output_type": "execute_result"
    }
   ],
   "source": [
    "dpf.shape"
   ]
  },
  {
   "cell_type": "code",
   "execution_count": 10,
   "metadata": {},
   "outputs": [
    {
     "name": "stdout",
     "output_type": "stream",
     "text": [
      "<class 'pandas.core.frame.DataFrame'>\n",
      "RangeIndex: 82 entries, 0 to 81\n",
      "Data columns (total 2 columns):\n",
      " #   Column    Non-Null Count  Dtype \n",
      "---  ------    --------------  ----- \n",
      " 0   배출가스인증번호  82 non-null     object\n",
      " 1   DPF유무     82 non-null     object\n",
      "dtypes: object(2)\n",
      "memory usage: 1.4+ KB\n"
     ]
    }
   ],
   "source": [
    "euro.info()"
   ]
  },
  {
   "cell_type": "code",
   "execution_count": 11,
   "metadata": {},
   "outputs": [
    {
     "data": {
      "text/plain": [
       "(82, 2)"
      ]
     },
     "execution_count": 11,
     "metadata": {},
     "output_type": "execute_result"
    }
   ],
   "source": [
    "euro.shape"
   ]
  },
  {
   "attachments": {},
   "cell_type": "markdown",
   "metadata": {},
   "source": [
    "## 차대번호 기준 병합"
   ]
  },
  {
   "cell_type": "code",
   "execution_count": 12,
   "metadata": {},
   "outputs": [
    {
     "data": {
      "text/plain": [
       "(1154696, 59)"
      ]
     },
     "execution_count": 12,
     "metadata": {},
     "output_type": "execute_result"
    }
   ],
   "source": [
    "total = df.merge(dpf, on='차대번호', how='left')\n",
    "total.shape"
   ]
  },
  {
   "cell_type": "code",
   "execution_count": 13,
   "metadata": {},
   "outputs": [
    {
     "data": {
      "text/plain": [
       "956990"
      ]
     },
     "execution_count": 13,
     "metadata": {},
     "output_type": "execute_result"
    }
   ],
   "source": [
    "total['구조변경일자'].isnull().sum()"
   ]
  },
  {
   "attachments": {},
   "cell_type": "markdown",
   "metadata": {},
   "source": [
    "## 저감 데이터에서 등록&제원 데이터와 매칭되는 차대번호 샘플"
   ]
  },
  {
   "cell_type": "code",
   "execution_count": 14,
   "metadata": {},
   "outputs": [
    {
     "data": {
      "text/plain": [
       "611549"
      ]
     },
     "execution_count": 14,
     "metadata": {},
     "output_type": "execute_result"
    }
   ],
   "source": [
    "miss_match_vin = list(set(dpf['차대번호']) - set(df['차대번호']))\n",
    "len(miss_match_vin)"
   ]
  },
  {
   "cell_type": "code",
   "execution_count": 15,
   "metadata": {},
   "outputs": [
    {
     "data": {
      "text/plain": [
       "197706"
      ]
     },
     "execution_count": 15,
     "metadata": {},
     "output_type": "execute_result"
    }
   ],
   "source": [
    "match_vin = list(set(dpf['차대번호']) & set(df['차대번호']))\n",
    "len(match_vin)"
   ]
  },
  {
   "cell_type": "code",
   "execution_count": 16,
   "metadata": {},
   "outputs": [
    {
     "data": {
      "text/plain": [
       "['KMCGA17FPTC104099',\n",
       " 'KNGDNM9N15K210878',\n",
       " 'KMFGA17FPVC124530',\n",
       " 'KNCSD0323XS441710',\n",
       " '450234313997']"
      ]
     },
     "execution_count": 16,
     "metadata": {},
     "output_type": "execute_result"
    }
   ],
   "source": [
    "match_vin[:5]"
   ]
  },
  {
   "cell_type": "code",
   "execution_count": 17,
   "metadata": {},
   "outputs": [
    {
     "name": "stdout",
     "output_type": "stream",
     "text": [
      "0\n"
     ]
    }
   ],
   "source": [
    "for i in dpf['차대번호'].index:\n",
    "    print(i)\n",
    "    break"
   ]
  },
  {
   "cell_type": "code",
   "execution_count": 18,
   "metadata": {},
   "outputs": [
    {
     "name": "stderr",
     "output_type": "stream",
     "text": [
      "809255it [00:00, 1618828.03it/s]\n"
     ]
    }
   ],
   "source": [
    "match_dpf_idx = {k:v for k, v in tqdm(zip(dpf['차대번호'], dpf['차대번호'].index))}"
   ]
  },
  {
   "cell_type": "code",
   "execution_count": 19,
   "metadata": {},
   "outputs": [
    {
     "data": {
      "text/plain": [
       "{'*5ZK00529*': 0, '0': 1, '000039': 2, '000128': 3, '000223': 4}"
      ]
     },
     "execution_count": 19,
     "metadata": {},
     "output_type": "execute_result"
    }
   ],
   "source": [
    "dict(list(match_dpf_idx.items())[:5])"
   ]
  },
  {
   "cell_type": "code",
   "execution_count": 20,
   "metadata": {},
   "outputs": [
    {
     "name": "stderr",
     "output_type": "stream",
     "text": [
      "100%|██████████| 197706/197706 [00:00<00:00, 1262649.99it/s]\n"
     ]
    }
   ],
   "source": [
    "idx = [match_dpf_idx[one] for one in tqdm(match_vin)]"
   ]
  },
  {
   "cell_type": "code",
   "execution_count": 21,
   "metadata": {},
   "outputs": [
    {
     "data": {
      "text/plain": [
       "(197706, 11)"
      ]
     },
     "execution_count": 21,
     "metadata": {},
     "output_type": "execute_result"
    }
   ],
   "source": [
    "match_dpf = dpf.loc[idx]\n",
    "match_dpf.shape"
   ]
  },
  {
   "cell_type": "code",
   "execution_count": 22,
   "metadata": {},
   "outputs": [
    {
     "data": {
      "text/html": [
       "<div>\n",
       "<style scoped>\n",
       "    .dataframe tbody tr th:only-of-type {\n",
       "        vertical-align: middle;\n",
       "    }\n",
       "\n",
       "    .dataframe tbody tr th {\n",
       "        vertical-align: top;\n",
       "    }\n",
       "\n",
       "    .dataframe thead th {\n",
       "        text-align: right;\n",
       "    }\n",
       "</style>\n",
       "<table border=\"1\" class=\"dataframe\">\n",
       "  <thead>\n",
       "    <tr style=\"text-align: right;\">\n",
       "      <th></th>\n",
       "      <th>저감장치종류</th>\n",
       "      <th>TDMS부착여부</th>\n",
       "      <th>구조변경일자</th>\n",
       "      <th>부착업체명</th>\n",
       "      <th>부착일자</th>\n",
       "      <th>탈거승인일</th>\n",
       "      <th>차량번호</th>\n",
       "      <th>차대번호</th>\n",
       "      <th>저감장치반납여부</th>\n",
       "      <th>저감장치구분</th>\n",
       "      <th>삼원촉매장치반납여부</th>\n",
       "    </tr>\n",
       "  </thead>\n",
       "  <tbody>\n",
       "    <tr>\n",
       "      <th>89</th>\n",
       "      <td>복합중형</td>\n",
       "      <td>NaN</td>\n",
       "      <td>20090430</td>\n",
       "      <td>아이엠모터스</td>\n",
       "      <td>20090430.00</td>\n",
       "      <td>NaN</td>\n",
       "      <td>서울82루4842</td>\n",
       "      <td>110034227146</td>\n",
       "      <td>NaN</td>\n",
       "      <td>1종</td>\n",
       "      <td>NaN</td>\n",
       "    </tr>\n",
       "    <tr>\n",
       "      <th>90</th>\n",
       "      <td>자연대형</td>\n",
       "      <td>NaN</td>\n",
       "      <td>20060203</td>\n",
       "      <td>인천스카니아(인천)</td>\n",
       "      <td>20060202.00</td>\n",
       "      <td>NaN</td>\n",
       "      <td>서울83거5222</td>\n",
       "      <td>110034326224</td>\n",
       "      <td>N</td>\n",
       "      <td>1종</td>\n",
       "      <td>NaN</td>\n",
       "    </tr>\n",
       "    <tr>\n",
       "      <th>91</th>\n",
       "      <td>자연대형</td>\n",
       "      <td>NaN</td>\n",
       "      <td>20060202</td>\n",
       "      <td>인천스카니아(인천)</td>\n",
       "      <td>20060202.00</td>\n",
       "      <td>NaN</td>\n",
       "      <td>서울83거5245</td>\n",
       "      <td>110034326255</td>\n",
       "      <td>N</td>\n",
       "      <td>1종</td>\n",
       "      <td>NaN</td>\n",
       "    </tr>\n",
       "    <tr>\n",
       "      <th>92</th>\n",
       "      <td>자연대형</td>\n",
       "      <td>NaN</td>\n",
       "      <td>20060203</td>\n",
       "      <td>인천스카니아(인천)</td>\n",
       "      <td>20060202.00</td>\n",
       "      <td>NaN</td>\n",
       "      <td>서울83거5231</td>\n",
       "      <td>110034326256</td>\n",
       "      <td>N</td>\n",
       "      <td>1종</td>\n",
       "      <td>NaN</td>\n",
       "    </tr>\n",
       "    <tr>\n",
       "      <th>97</th>\n",
       "      <td>자연대형</td>\n",
       "      <td>NaN</td>\n",
       "      <td>20070412</td>\n",
       "      <td>㈜남양공업사</td>\n",
       "      <td>20070412.00</td>\n",
       "      <td>NaN</td>\n",
       "      <td>경기91바2561</td>\n",
       "      <td>110132228396</td>\n",
       "      <td>N</td>\n",
       "      <td>1종</td>\n",
       "      <td>NaN</td>\n",
       "    </tr>\n",
       "    <tr>\n",
       "      <th>...</th>\n",
       "      <td>...</td>\n",
       "      <td>...</td>\n",
       "      <td>...</td>\n",
       "      <td>...</td>\n",
       "      <td>...</td>\n",
       "      <td>...</td>\n",
       "      <td>...</td>\n",
       "      <td>...</td>\n",
       "      <td>...</td>\n",
       "      <td>...</td>\n",
       "      <td>...</td>\n",
       "    </tr>\n",
       "    <tr>\n",
       "      <th>809077</th>\n",
       "      <td>자연대형</td>\n",
       "      <td>NaN</td>\n",
       "      <td>20070721</td>\n",
       "      <td>NaN</td>\n",
       "      <td>20070721.00</td>\n",
       "      <td>NaN</td>\n",
       "      <td>경기99바9540</td>\n",
       "      <td>YV2J4CFCO4A580562</td>\n",
       "      <td>N</td>\n",
       "      <td>1종</td>\n",
       "      <td>NaN</td>\n",
       "    </tr>\n",
       "    <tr>\n",
       "      <th>809079</th>\n",
       "      <td>자연대형</td>\n",
       "      <td>NaN</td>\n",
       "      <td>20051025</td>\n",
       "      <td>형제자동차공업사</td>\n",
       "      <td>20051025.00</td>\n",
       "      <td>NaN</td>\n",
       "      <td>경기99바3630</td>\n",
       "      <td>YV2J4CFCX3A565422</td>\n",
       "      <td>N</td>\n",
       "      <td>1종</td>\n",
       "      <td>NaN</td>\n",
       "    </tr>\n",
       "    <tr>\n",
       "      <th>809080</th>\n",
       "      <td>자연대형</td>\n",
       "      <td>NaN</td>\n",
       "      <td>20070712</td>\n",
       "      <td>NaN</td>\n",
       "      <td>20070712.00</td>\n",
       "      <td>NaN</td>\n",
       "      <td>인천98아4007</td>\n",
       "      <td>YV2J4CFD73A556699</td>\n",
       "      <td>N</td>\n",
       "      <td>1종</td>\n",
       "      <td>NaN</td>\n",
       "    </tr>\n",
       "    <tr>\n",
       "      <th>809081</th>\n",
       "      <td>자연대형</td>\n",
       "      <td>NaN</td>\n",
       "      <td>20050923</td>\n",
       "      <td>신동성자동차공업사</td>\n",
       "      <td>20050923.00</td>\n",
       "      <td>NaN</td>\n",
       "      <td>경기94자1417</td>\n",
       "      <td>YV2J4CMA02A551058</td>\n",
       "      <td>N</td>\n",
       "      <td>1종</td>\n",
       "      <td>NaN</td>\n",
       "    </tr>\n",
       "    <tr>\n",
       "      <th>809086</th>\n",
       "      <td>자연대형</td>\n",
       "      <td>NaN</td>\n",
       "      <td>20060104</td>\n",
       "      <td>서광1급</td>\n",
       "      <td>20060104.00</td>\n",
       "      <td>NaN</td>\n",
       "      <td>경기99아4142</td>\n",
       "      <td>YV2J4DAD71A537144</td>\n",
       "      <td>N</td>\n",
       "      <td>1종</td>\n",
       "      <td>NaN</td>\n",
       "    </tr>\n",
       "  </tbody>\n",
       "</table>\n",
       "<p>197706 rows × 11 columns</p>\n",
       "</div>"
      ],
      "text/plain": [
       "       저감장치종류 TDMS부착여부    구조변경일자       부착업체명        부착일자  탈거승인일       차량번호  \\\n",
       "89       복합중형      NaN  20090430      아이엠모터스 20090430.00    NaN  서울82루4842   \n",
       "90       자연대형      NaN  20060203  인천스카니아(인천) 20060202.00    NaN  서울83거5222   \n",
       "91       자연대형      NaN  20060202  인천스카니아(인천) 20060202.00    NaN  서울83거5245   \n",
       "92       자연대형      NaN  20060203  인천스카니아(인천) 20060202.00    NaN  서울83거5231   \n",
       "97       자연대형      NaN  20070412      ㈜남양공업사 20070412.00    NaN  경기91바2561   \n",
       "...       ...      ...       ...         ...         ...    ...        ...   \n",
       "809077   자연대형      NaN  20070721         NaN 20070721.00    NaN  경기99바9540   \n",
       "809079   자연대형      NaN  20051025    형제자동차공업사 20051025.00    NaN  경기99바3630   \n",
       "809080   자연대형      NaN  20070712         NaN 20070712.00    NaN  인천98아4007   \n",
       "809081   자연대형      NaN  20050923   신동성자동차공업사 20050923.00    NaN  경기94자1417   \n",
       "809086   자연대형      NaN  20060104        서광1급 20060104.00    NaN  경기99아4142   \n",
       "\n",
       "                     차대번호 저감장치반납여부 저감장치구분 삼원촉매장치반납여부  \n",
       "89           110034227146      NaN     1종        NaN  \n",
       "90           110034326224        N     1종        NaN  \n",
       "91           110034326255        N     1종        NaN  \n",
       "92           110034326256        N     1종        NaN  \n",
       "97           110132228396        N     1종        NaN  \n",
       "...                   ...      ...    ...        ...  \n",
       "809077  YV2J4CFCO4A580562        N     1종        NaN  \n",
       "809079  YV2J4CFCX3A565422        N     1종        NaN  \n",
       "809080  YV2J4CFD73A556699        N     1종        NaN  \n",
       "809081  YV2J4CMA02A551058        N     1종        NaN  \n",
       "809086  YV2J4DAD71A537144        N     1종        NaN  \n",
       "\n",
       "[197706 rows x 11 columns]"
      ]
     },
     "execution_count": 22,
     "metadata": {},
     "output_type": "execute_result"
    }
   ],
   "source": [
    "match_dpf.sort_values(['차대번호', '구조변경일자', '부착일자'])"
   ]
  },
  {
   "cell_type": "code",
   "execution_count": 23,
   "metadata": {},
   "outputs": [
    {
     "data": {
      "text/plain": [
       "(197706, 11)"
      ]
     },
     "execution_count": 23,
     "metadata": {},
     "output_type": "execute_result"
    }
   ],
   "source": [
    "match_dpf.shape"
   ]
  },
  {
   "cell_type": "code",
   "execution_count": 24,
   "metadata": {},
   "outputs": [
    {
     "data": {
      "text/plain": [
       "0"
      ]
     },
     "execution_count": 24,
     "metadata": {},
     "output_type": "execute_result"
    }
   ],
   "source": [
    "match_dpf.duplicated('차대번호').sum()"
   ]
  },
  {
   "attachments": {},
   "cell_type": "markdown",
   "metadata": {},
   "source": [
    "### [출력] 매칭되는 차대번호 샘플"
   ]
  },
  {
   "cell_type": "code",
   "execution_count": 25,
   "metadata": {},
   "outputs": [],
   "source": [
    "# about 35s\n",
    "match_dpf.sort_values(['차대번호', '구조변경일자', '부착일자']).to_excel(f'analysis2/[BD3][G{grade}][통계]저감장치부착이력_등록&제원정보_매칭_차대번호_샘플(말소제거).xlsx', index=False)"
   ]
  },
  {
   "attachments": {},
   "cell_type": "markdown",
   "metadata": {},
   "source": [
    "## 분류 통계\n",
    "- 중복 차대번호 제거\n",
    "    - 최초등록일자, 배출가스검사유효일자 : 최신순(ascending=False)\n",
    "- 분류\n",
    "    - 연료 : 휘발유가스, 경유\n",
    "    - 차량제작일자\n",
    "    - 구조변경일자 여부"
   ]
  },
  {
   "cell_type": "code",
   "execution_count": 26,
   "metadata": {},
   "outputs": [
    {
     "data": {
      "text/plain": [
       "Index(['차량관리번호', '차량등록번호', '본거지법정동코드', '소유자구분', '차종_등록정보', '용도', '현재회원번호',\n",
       "       '차대번호', '최초등록일자', '차량연식', '차량제작일자', '배출가스검사유효일자', '제원관리번호', '배출가스인증번호',\n",
       "       '배출가스등급', '저공해조치YN(미사용)', '저공해조치종류', '저공해조치구조변경YN', '차량등록번호숫자정보',\n",
       "       '차량말소YN', '최초회원번호', '취득일자', '취득금액', '생성일시_등록정보', '수정일시_등록정보', '차명',\n",
       "       '차종_제원정보', '차종분류', '차종유형(소분류)', '자동차형식', '제작사명', '연료', '엔진형식', '공차중량',\n",
       "       '총중량', '적재중량', '엔진출력', '배기량', '승차인원', '차량길이', '차량너비', '차량높이', '원산지명',\n",
       "       '삭제YN', '승인일자', '구동형식', '변속기종류', '생성일시_제원정보', '수정일시_제원정보', '저감장치종류',\n",
       "       'TDMS부착여부', '구조변경일자', '부착업체명', '부착일자', '탈거승인일', '차량번호', '저감장치반납여부',\n",
       "       '저감장치구분', '삼원촉매장치반납여부'],\n",
       "      dtype='object')"
      ]
     },
     "execution_count": 26,
     "metadata": {},
     "output_type": "execute_result"
    }
   ],
   "source": [
    "total.columns"
   ]
  },
  {
   "attachments": {},
   "cell_type": "markdown",
   "metadata": {},
   "source": [
    "### 중복 차대번호 처리\n",
    "- '최초등록일자', '배출가스검사유효일자', ascending=False"
   ]
  },
  {
   "cell_type": "code",
   "execution_count": 27,
   "metadata": {},
   "outputs": [
    {
     "data": {
      "text/plain": [
       "(1154696, 1154696)"
      ]
     },
     "execution_count": 27,
     "metadata": {},
     "output_type": "execute_result"
    }
   ],
   "source": [
    "total.shape[0], len(total['차대번호'].unique())"
   ]
  },
  {
   "cell_type": "code",
   "execution_count": 28,
   "metadata": {},
   "outputs": [
    {
     "data": {
      "text/html": [
       "<div>\n",
       "<style scoped>\n",
       "    .dataframe tbody tr th:only-of-type {\n",
       "        vertical-align: middle;\n",
       "    }\n",
       "\n",
       "    .dataframe tbody tr th {\n",
       "        vertical-align: top;\n",
       "    }\n",
       "\n",
       "    .dataframe thead th {\n",
       "        text-align: right;\n",
       "    }\n",
       "</style>\n",
       "<table border=\"1\" class=\"dataframe\">\n",
       "  <thead>\n",
       "    <tr style=\"text-align: right;\">\n",
       "      <th></th>\n",
       "      <th>차량관리번호</th>\n",
       "      <th>차량등록번호</th>\n",
       "      <th>본거지법정동코드</th>\n",
       "      <th>소유자구분</th>\n",
       "      <th>차종_등록정보</th>\n",
       "      <th>용도</th>\n",
       "      <th>현재회원번호</th>\n",
       "      <th>차대번호</th>\n",
       "      <th>최초등록일자</th>\n",
       "      <th>차량연식</th>\n",
       "      <th>...</th>\n",
       "      <th>TDMS부착여부</th>\n",
       "      <th>구조변경일자</th>\n",
       "      <th>부착업체명</th>\n",
       "      <th>부착일자</th>\n",
       "      <th>탈거승인일</th>\n",
       "      <th>차량번호</th>\n",
       "      <th>저감장치반납여부</th>\n",
       "      <th>저감장치구분</th>\n",
       "      <th>삼원촉매장치반납여부</th>\n",
       "      <th>dupl</th>\n",
       "    </tr>\n",
       "  </thead>\n",
       "  <tbody>\n",
       "    <tr>\n",
       "      <th>0</th>\n",
       "      <td>KL3C3AHF27K000082-01</td>\n",
       "      <td>92두9517</td>\n",
       "      <td>4481025000</td>\n",
       "      <td>법인</td>\n",
       "      <td>화물</td>\n",
       "      <td>자가용</td>\n",
       "      <td>CAE5CB3DD606A73E07AC169E171B8052</td>\n",
       "      <td>KL3C3AHF27K000082</td>\n",
       "      <td>20220711</td>\n",
       "      <td>2007</td>\n",
       "      <td>...</td>\n",
       "      <td>NaN</td>\n",
       "      <td>NaN</td>\n",
       "      <td>NaN</td>\n",
       "      <td>NaN</td>\n",
       "      <td>NaN</td>\n",
       "      <td>NaN</td>\n",
       "      <td>NaN</td>\n",
       "      <td>NaN</td>\n",
       "      <td>NaN</td>\n",
       "      <td>False</td>\n",
       "    </tr>\n",
       "    <tr>\n",
       "      <th>1</th>\n",
       "      <td>KL3C3AHF27K000068-01</td>\n",
       "      <td>84라1558</td>\n",
       "      <td>4372033032</td>\n",
       "      <td>주민</td>\n",
       "      <td>화물</td>\n",
       "      <td>자가용</td>\n",
       "      <td>E3D34867F18FF514DC235FE97CF8B726</td>\n",
       "      <td>KL3C3AHF27K000068</td>\n",
       "      <td>20220413</td>\n",
       "      <td>2007</td>\n",
       "      <td>...</td>\n",
       "      <td>NaN</td>\n",
       "      <td>NaN</td>\n",
       "      <td>NaN</td>\n",
       "      <td>NaN</td>\n",
       "      <td>NaN</td>\n",
       "      <td>NaN</td>\n",
       "      <td>NaN</td>\n",
       "      <td>NaN</td>\n",
       "      <td>NaN</td>\n",
       "      <td>False</td>\n",
       "    </tr>\n",
       "    <tr>\n",
       "      <th>2</th>\n",
       "      <td>1P3EW65G5XV503775-01</td>\n",
       "      <td>50더0491</td>\n",
       "      <td>4157010600</td>\n",
       "      <td>법인</td>\n",
       "      <td>승용</td>\n",
       "      <td>자가용</td>\n",
       "      <td>B9638F38C154884829E69103F64C7EE4</td>\n",
       "      <td>1P3EW65G5XV503775</td>\n",
       "      <td>20211124</td>\n",
       "      <td>1999</td>\n",
       "      <td>...</td>\n",
       "      <td>NaN</td>\n",
       "      <td>NaN</td>\n",
       "      <td>NaN</td>\n",
       "      <td>NaN</td>\n",
       "      <td>NaN</td>\n",
       "      <td>NaN</td>\n",
       "      <td>NaN</td>\n",
       "      <td>NaN</td>\n",
       "      <td>NaN</td>\n",
       "      <td>False</td>\n",
       "    </tr>\n",
       "    <tr>\n",
       "      <th>3</th>\n",
       "      <td>1P3EW65G5YV606177-01</td>\n",
       "      <td>67거4988</td>\n",
       "      <td>5011013700</td>\n",
       "      <td>주민</td>\n",
       "      <td>승용</td>\n",
       "      <td>자가용</td>\n",
       "      <td>3BF0F5EEEB8EB9C1D08D567DC65098ED</td>\n",
       "      <td>1P3EW65G5YV606177</td>\n",
       "      <td>20211124</td>\n",
       "      <td>2000</td>\n",
       "      <td>...</td>\n",
       "      <td>NaN</td>\n",
       "      <td>NaN</td>\n",
       "      <td>NaN</td>\n",
       "      <td>NaN</td>\n",
       "      <td>NaN</td>\n",
       "      <td>NaN</td>\n",
       "      <td>NaN</td>\n",
       "      <td>NaN</td>\n",
       "      <td>NaN</td>\n",
       "      <td>False</td>\n",
       "    </tr>\n",
       "    <tr>\n",
       "      <th>4</th>\n",
       "      <td>KMCYSS7JP7U084697-01</td>\n",
       "      <td>99도4857</td>\n",
       "      <td>4423038028</td>\n",
       "      <td>주민</td>\n",
       "      <td>특수</td>\n",
       "      <td>자가용</td>\n",
       "      <td>955AC8A2055B73FE92273C8624CE9FDA</td>\n",
       "      <td>KMCYSS7JP7U084697</td>\n",
       "      <td>20210826</td>\n",
       "      <td>2007</td>\n",
       "      <td>...</td>\n",
       "      <td>NaN</td>\n",
       "      <td>NaN</td>\n",
       "      <td>NaN</td>\n",
       "      <td>NaN</td>\n",
       "      <td>NaN</td>\n",
       "      <td>NaN</td>\n",
       "      <td>NaN</td>\n",
       "      <td>NaN</td>\n",
       "      <td>NaN</td>\n",
       "      <td>False</td>\n",
       "    </tr>\n",
       "  </tbody>\n",
       "</table>\n",
       "<p>5 rows × 60 columns</p>\n",
       "</div>"
      ],
      "text/plain": [
       "                 차량관리번호   차량등록번호    본거지법정동코드 소유자구분 차종_등록정보   용도  \\\n",
       "0  KL3C3AHF27K000082-01  92두9517  4481025000    법인      화물  자가용   \n",
       "1  KL3C3AHF27K000068-01  84라1558  4372033032    주민      화물  자가용   \n",
       "2  1P3EW65G5XV503775-01  50더0491  4157010600    법인      승용  자가용   \n",
       "3  1P3EW65G5YV606177-01  67거4988  5011013700    주민      승용  자가용   \n",
       "4  KMCYSS7JP7U084697-01  99도4857  4423038028    주민      특수  자가용   \n",
       "\n",
       "                             현재회원번호               차대번호    최초등록일자  차량연식  ...  \\\n",
       "0  CAE5CB3DD606A73E07AC169E171B8052  KL3C3AHF27K000082  20220711  2007  ...   \n",
       "1  E3D34867F18FF514DC235FE97CF8B726  KL3C3AHF27K000068  20220413  2007  ...   \n",
       "2  B9638F38C154884829E69103F64C7EE4  1P3EW65G5XV503775  20211124  1999  ...   \n",
       "3  3BF0F5EEEB8EB9C1D08D567DC65098ED  1P3EW65G5YV606177  20211124  2000  ...   \n",
       "4  955AC8A2055B73FE92273C8624CE9FDA  KMCYSS7JP7U084697  20210826  2007  ...   \n",
       "\n",
       "   TDMS부착여부  구조변경일자 부착업체명 부착일자 탈거승인일 차량번호  저감장치반납여부 저감장치구분  삼원촉매장치반납여부   dupl  \n",
       "0       NaN     NaN   NaN  NaN   NaN  NaN       NaN    NaN         NaN  False  \n",
       "1       NaN     NaN   NaN  NaN   NaN  NaN       NaN    NaN         NaN  False  \n",
       "2       NaN     NaN   NaN  NaN   NaN  NaN       NaN    NaN         NaN  False  \n",
       "3       NaN     NaN   NaN  NaN   NaN  NaN       NaN    NaN         NaN  False  \n",
       "4       NaN     NaN   NaN  NaN   NaN  NaN       NaN    NaN         NaN  False  \n",
       "\n",
       "[5 rows x 60 columns]"
      ]
     },
     "execution_count": 28,
     "metadata": {},
     "output_type": "execute_result"
    }
   ],
   "source": [
    "total['dupl'] = total['차대번호'].duplicated().to_list()\n",
    "total.head()"
   ]
  },
  {
   "cell_type": "code",
   "execution_count": 29,
   "metadata": {},
   "outputs": [
    {
     "data": {
      "text/html": [
       "<div>\n",
       "<style scoped>\n",
       "    .dataframe tbody tr th:only-of-type {\n",
       "        vertical-align: middle;\n",
       "    }\n",
       "\n",
       "    .dataframe tbody tr th {\n",
       "        vertical-align: top;\n",
       "    }\n",
       "\n",
       "    .dataframe thead th {\n",
       "        text-align: right;\n",
       "    }\n",
       "</style>\n",
       "<table border=\"1\" class=\"dataframe\">\n",
       "  <thead>\n",
       "    <tr style=\"text-align: right;\">\n",
       "      <th></th>\n",
       "      <th>차량관리번호</th>\n",
       "      <th>차량등록번호</th>\n",
       "      <th>본거지법정동코드</th>\n",
       "      <th>소유자구분</th>\n",
       "      <th>차종_등록정보</th>\n",
       "      <th>용도</th>\n",
       "      <th>현재회원번호</th>\n",
       "      <th>차대번호</th>\n",
       "      <th>최초등록일자</th>\n",
       "      <th>차량연식</th>\n",
       "      <th>...</th>\n",
       "      <th>TDMS부착여부</th>\n",
       "      <th>구조변경일자</th>\n",
       "      <th>부착업체명</th>\n",
       "      <th>부착일자</th>\n",
       "      <th>탈거승인일</th>\n",
       "      <th>차량번호</th>\n",
       "      <th>저감장치반납여부</th>\n",
       "      <th>저감장치구분</th>\n",
       "      <th>삼원촉매장치반납여부</th>\n",
       "      <th>dupl</th>\n",
       "    </tr>\n",
       "  </thead>\n",
       "  <tbody>\n",
       "  </tbody>\n",
       "</table>\n",
       "<p>0 rows × 60 columns</p>\n",
       "</div>"
      ],
      "text/plain": [
       "Empty DataFrame\n",
       "Columns: [차량관리번호, 차량등록번호, 본거지법정동코드, 소유자구분, 차종_등록정보, 용도, 현재회원번호, 차대번호, 최초등록일자, 차량연식, 차량제작일자, 배출가스검사유효일자, 제원관리번호, 배출가스인증번호, 배출가스등급, 저공해조치YN(미사용), 저공해조치종류, 저공해조치구조변경YN, 차량등록번호숫자정보, 차량말소YN, 최초회원번호, 취득일자, 취득금액, 생성일시_등록정보, 수정일시_등록정보, 차명, 차종_제원정보, 차종분류, 차종유형(소분류), 자동차형식, 제작사명, 연료, 엔진형식, 공차중량, 총중량, 적재중량, 엔진출력, 배기량, 승차인원, 차량길이, 차량너비, 차량높이, 원산지명, 삭제YN, 승인일자, 구동형식, 변속기종류, 생성일시_제원정보, 수정일시_제원정보, 저감장치종류, TDMS부착여부, 구조변경일자, 부착업체명, 부착일자, 탈거승인일, 차량번호, 저감장치반납여부, 저감장치구분, 삼원촉매장치반납여부, dupl]\n",
       "Index: []\n",
       "\n",
       "[0 rows x 60 columns]"
      ]
     },
     "execution_count": 29,
     "metadata": {},
     "output_type": "execute_result"
    }
   ],
   "source": [
    "dupl_vin = total[total['dupl'] == True].sort_values(['최초등록일자', '배출가스검사유효일자'], ascending=False).reset_index(drop=True)\n",
    "dupl_vin.head()"
   ]
  },
  {
   "attachments": {},
   "cell_type": "markdown",
   "metadata": {},
   "source": [
    "#### [출력] 중복 차대번호 샘플"
   ]
  },
  {
   "cell_type": "code",
   "execution_count": 30,
   "metadata": {},
   "outputs": [],
   "source": [
    "# dupl_vin.to_excel(f'analysis2/[BD3][G{grade}][샘플]등록&제원-저감_중복차대번호(말소제거).xlsx')"
   ]
  },
  {
   "cell_type": "code",
   "execution_count": 31,
   "metadata": {},
   "outputs": [
    {
     "data": {
      "text/plain": [
       "(1154696, 60)"
      ]
     },
     "execution_count": 31,
     "metadata": {},
     "output_type": "execute_result"
    }
   ],
   "source": [
    "total1 = total.sort_values(['최초등록일자', '배출가스검사유효일자'], ascending=False).drop_duplicates('차대번호').reset_index(drop=True)\n",
    "total1.shape"
   ]
  },
  {
   "attachments": {},
   "cell_type": "markdown",
   "metadata": {},
   "source": [
    "## 유로4 DPF 부착여부 적용"
   ]
  },
  {
   "cell_type": "code",
   "execution_count": 32,
   "metadata": {},
   "outputs": [
    {
     "data": {
      "text/plain": [
       "(1154696, 61)"
      ]
     },
     "execution_count": 32,
     "metadata": {},
     "output_type": "execute_result"
    }
   ],
   "source": [
    "total2 = total1.merge(euro, on='배출가스인증번호', how='left')\n",
    "total2.shape"
   ]
  },
  {
   "cell_type": "code",
   "execution_count": 33,
   "metadata": {},
   "outputs": [
    {
     "data": {
      "text/plain": [
       "무    36\n",
       "Name: DPF유무, dtype: int64"
      ]
     },
     "execution_count": 33,
     "metadata": {},
     "output_type": "execute_result"
    }
   ],
   "source": [
    "total2['DPF유무'].value_counts()"
   ]
  },
  {
   "cell_type": "code",
   "execution_count": 34,
   "metadata": {},
   "outputs": [
    {
     "data": {
      "text/plain": [
       "nan    1154660\n",
       "무           36\n",
       "Name: DPF유무, dtype: int64"
      ]
     },
     "execution_count": 34,
     "metadata": {},
     "output_type": "execute_result"
    }
   ],
   "source": [
    "total2['DPF유무'] = total2['DPF유무'].astype('str')\n",
    "total2['DPF유무'].value_counts()"
   ]
  },
  {
   "cell_type": "code",
   "execution_count": 35,
   "metadata": {},
   "outputs": [
    {
     "data": {
      "text/plain": [
       "무    1154696\n",
       "Name: DPF유무, dtype: int64"
      ]
     },
     "execution_count": 35,
     "metadata": {},
     "output_type": "execute_result"
    }
   ],
   "source": [
    "total2['DPF유무'] = total2['DPF유무'].str.replace('nan', '무')\n",
    "total2['DPF유무'].value_counts()"
   ]
  },
  {
   "attachments": {},
   "cell_type": "markdown",
   "metadata": {},
   "source": [
    "# [분석]"
   ]
  },
  {
   "attachments": {},
   "cell_type": "markdown",
   "metadata": {},
   "source": [
    "## [Case 5]"
   ]
  },
  {
   "attachments": {},
   "cell_type": "markdown",
   "metadata": {},
   "source": [
    "### 차량연료별 분류\n",
    "- 차량 대수\n",
    "    - 휘발류•가스('휘발유', '알코올', 'LGP(액화석유가스)', 'CNG(압축천연가스)')\n",
    "    - 경유"
   ]
  },
  {
   "cell_type": "code",
   "execution_count": 36,
   "metadata": {},
   "outputs": [
    {
     "data": {
      "text/plain": [
       "array(['경유', '휘발유', 'CNG(압축천연가스)', 'LGP(액화석유가스)', nan, '기타연료', '알코올'],\n",
       "      dtype=object)"
      ]
     },
     "execution_count": 36,
     "metadata": {},
     "output_type": "execute_result"
    }
   ],
   "source": [
    "total2['연료'].unique()"
   ]
  },
  {
   "cell_type": "code",
   "execution_count": 37,
   "metadata": {},
   "outputs": [
    {
     "data": {
      "text/plain": [
       "(30482, 61)"
      ]
     },
     "execution_count": 37,
     "metadata": {},
     "output_type": "execute_result"
    }
   ],
   "source": [
    "total2[ (total2['연료'] == '휘발유') | (total2['연료'] == '알코올') | (total2['연료'] == 'LGP(액화석유가스)') | (total2['연료'] == 'CNG(압축천연가스)') ].shape"
   ]
  },
  {
   "cell_type": "code",
   "execution_count": 38,
   "metadata": {},
   "outputs": [
    {
     "data": {
      "text/plain": [
       "(1124162, 61)"
      ]
     },
     "execution_count": 38,
     "metadata": {},
     "output_type": "execute_result"
    }
   ],
   "source": [
    "total2[total2['연료'] == '경유'].shape"
   ]
  },
  {
   "cell_type": "code",
   "execution_count": 39,
   "metadata": {},
   "outputs": [
    {
     "data": {
      "text/html": [
       "<div>\n",
       "<style scoped>\n",
       "    .dataframe tbody tr th:only-of-type {\n",
       "        vertical-align: middle;\n",
       "    }\n",
       "\n",
       "    .dataframe tbody tr th {\n",
       "        vertical-align: top;\n",
       "    }\n",
       "\n",
       "    .dataframe thead th {\n",
       "        text-align: right;\n",
       "    }\n",
       "</style>\n",
       "<table border=\"1\" class=\"dataframe\">\n",
       "  <thead>\n",
       "    <tr style=\"text-align: right;\">\n",
       "      <th></th>\n",
       "      <th>연료</th>\n",
       "      <th>수(차대번호)</th>\n",
       "    </tr>\n",
       "  </thead>\n",
       "  <tbody>\n",
       "    <tr>\n",
       "      <th>0</th>\n",
       "      <td>휘발유_가스</td>\n",
       "      <td>30482</td>\n",
       "    </tr>\n",
       "    <tr>\n",
       "      <th>1</th>\n",
       "      <td>경유</td>\n",
       "      <td>1124162</td>\n",
       "    </tr>\n",
       "  </tbody>\n",
       "</table>\n",
       "</div>"
      ],
      "text/plain": [
       "       연료  수(차대번호)\n",
       "0  휘발유_가스    30482\n",
       "1      경유  1124162"
      ]
     },
     "execution_count": 39,
     "metadata": {},
     "output_type": "execute_result"
    }
   ],
   "source": [
    "num_by_fuel = pd.DataFrame({'연료':['휘발유_가스', '경유'], \n",
    "                            '수(차대번호)':[\n",
    "                                total2[ (total2['연료'] == '휘발유') | (total2['연료'] == '알코올') | (total2['연료'] == 'LGP(액화석유가스)') | (total2['연료'] == 'CNG(압축천연가스)') ].shape[0], \n",
    "                                total2[total2['연료'] == '경유'].shape[0]\n",
    "                                ]\n",
    "                            })\n",
    "num_by_fuel"
   ]
  },
  {
   "cell_type": "code",
   "execution_count": 40,
   "metadata": {},
   "outputs": [
    {
     "name": "stderr",
     "output_type": "stream",
     "text": [
      "100%|██████████| 1154696/1154696 [00:00<00:00, 1622728.25it/s]\n"
     ]
    },
    {
     "data": {
      "text/plain": [
       "1154696"
      ]
     },
     "execution_count": 40,
     "metadata": {},
     "output_type": "execute_result"
    }
   ],
   "source": [
    "fuel_list = []\n",
    "for one in tqdm(total2['연료']):\n",
    "    if one == '휘발유' or one == '알코올' or one == 'LGP(액화석유가스)' or one == 'CNG(압축천연가스)':\n",
    "        fuel_list.append('휘발유_가스')\n",
    "    elif one == '경유':\n",
    "        fuel_list.append('경유')\n",
    "    else:\n",
    "        fuel_list.append('기타')\n",
    "len(fuel_list)"
   ]
  },
  {
   "cell_type": "code",
   "execution_count": 41,
   "metadata": {},
   "outputs": [],
   "source": [
    "total2['fuel'] = fuel_list"
   ]
  },
  {
   "attachments": {},
   "cell_type": "markdown",
   "metadata": {},
   "source": [
    "### 차량제작일자별 분류\n",
    "- 휘발류•가스('휘발유', 'LGP(액화석유가스)', '알코올', 'CNG(압축천연가스)')\n",
    "    - A : 1988.01.01 ~ 2000.12.31\n",
    "    - B : ~ 1997.12.31\n",
    "- 경유(DPF : 구조변경일자 여부)\n",
    "    - A : DPF, 2008.01.01 ~\n",
    "    - B : DPF, ~ 2007.12.31\n",
    "    - C : 2008.01.01 ~\n",
    "    - D : ~ 2007.12.31"
   ]
  },
  {
   "cell_type": "code",
   "execution_count": 42,
   "metadata": {},
   "outputs": [
    {
     "data": {
      "text/plain": [
       "count     959021.00\n",
       "mean    20030337.35\n",
       "std        42351.43\n",
       "min      2210413.00\n",
       "25%     20011230.00\n",
       "50%     20040411.00\n",
       "75%     20060119.00\n",
       "max     20200106.00\n",
       "Name: 차량제작일자, dtype: float64"
      ]
     },
     "execution_count": 42,
     "metadata": {},
     "output_type": "execute_result"
    }
   ],
   "source": [
    "total2['차량제작일자'].describe()"
   ]
  },
  {
   "cell_type": "code",
   "execution_count": 43,
   "metadata": {},
   "outputs": [
    {
     "data": {
      "text/plain": [
       "count     197706.00\n",
       "mean    20137920.69\n",
       "std        50938.75\n",
       "min     20041010.00\n",
       "25%     20090512.00\n",
       "50%     20140530.00\n",
       "75%     20190814.00\n",
       "max     20200305.00\n",
       "Name: 구조변경일자, dtype: float64"
      ]
     },
     "execution_count": 43,
     "metadata": {},
     "output_type": "execute_result"
    }
   ],
   "source": [
    "total2['구조변경일자'].describe()"
   ]
  },
  {
   "cell_type": "code",
   "execution_count": 44,
   "metadata": {},
   "outputs": [
    {
     "data": {
      "text/plain": [
       "956990"
      ]
     },
     "execution_count": 44,
     "metadata": {},
     "output_type": "execute_result"
    }
   ],
   "source": [
    "total2['구조변경일자'].isnull().sum()"
   ]
  },
  {
   "cell_type": "code",
   "execution_count": 45,
   "metadata": {},
   "outputs": [
    {
     "data": {
      "text/plain": [
       "array([nan, '복합소형', '복합중형', '소형', 'DOC', '복합대형', '중형', 'pDPF', '자연대형+SCR',\n",
       "       '자연대형', '자연중형'], dtype=object)"
      ]
     },
     "execution_count": 45,
     "metadata": {},
     "output_type": "execute_result"
    }
   ],
   "source": [
    "total2['저감장치종류'].unique()"
   ]
  },
  {
   "cell_type": "code",
   "execution_count": 46,
   "metadata": {},
   "outputs": [
    {
     "data": {
      "text/plain": [
       "976776"
      ]
     },
     "execution_count": 46,
     "metadata": {},
     "output_type": "execute_result"
    }
   ],
   "source": [
    "total2['저감장치종류'].isnull().sum()"
   ]
  },
  {
   "cell_type": "code",
   "execution_count": 47,
   "metadata": {},
   "outputs": [
    {
     "data": {
      "text/plain": [
       "True"
      ]
     },
     "execution_count": 47,
     "metadata": {},
     "output_type": "execute_result"
    }
   ],
   "source": [
    "str(np.nan) == 'nan'"
   ]
  },
  {
   "cell_type": "code",
   "execution_count": 48,
   "metadata": {},
   "outputs": [
    {
     "name": "stderr",
     "output_type": "stream",
     "text": [
      "1154696it [00:02, 496357.33it/s]\n"
     ]
    },
    {
     "data": {
      "text/plain": [
       "1154696"
      ]
     },
     "execution_count": 48,
     "metadata": {},
     "output_type": "execute_result"
    }
   ],
   "source": [
    "grade_list = []\n",
    "for f, y, d, e in tqdm(zip(total2['연료'], total2['차량제작일자'], total2['구조변경일자'], total2['DPF유무'])):\n",
    "    if ( (f == '휘발유') or (f == 'LGP(액화석유가스)') or (f == '알코올') or (f == 'CNG(압축천연가스)') ) and (19980101 <= y <= 20001231):\n",
    "        grade_list.append('A')\n",
    "    elif (f == '휘발유' or f == 'LGP(액화석유가스)' or f == '알코올' or f == 'CNG(압축천연가스)') and (y <= 19971231):\n",
    "        grade_list.append('B')\n",
    "    elif (f == '경유') and (y >= 20080101) and ( (str(d) != 'nan') or e == '유'):\n",
    "        grade_list.append('A')\n",
    "    elif (f == '경유') and (y <= 20071231) and ( (str(d) != 'nan') or e == '유'):\n",
    "        grade_list.append('B')\n",
    "    elif (f == '경유') and (y >= 20080101) and ( (str(d) == 'nan') or e == '무'):\n",
    "        grade_list.append('C')\n",
    "    elif (f == '경유') and (y <= 20071231) and ( (str(d) == 'nan') or e == '무'):\n",
    "        grade_list.append('D')\n",
    "    else:\n",
    "        grade_list.append('X')\n",
    "len(grade_list)"
   ]
  },
  {
   "cell_type": "code",
   "execution_count": 49,
   "metadata": {},
   "outputs": [],
   "source": [
    "total2['Grade'] = grade_list"
   ]
  },
  {
   "cell_type": "code",
   "execution_count": 50,
   "metadata": {},
   "outputs": [
    {
     "data": {
      "text/plain": [
       "fuel\n",
       "경유        1124162\n",
       "기타             52\n",
       "휘발유_가스      30482\n",
       "Name: 차대번호, dtype: int64"
      ]
     },
     "execution_count": 50,
     "metadata": {},
     "output_type": "execute_result"
    }
   ],
   "source": [
    "total2.groupby(['fuel'])['차대번호'].count()"
   ]
  },
  {
   "cell_type": "code",
   "execution_count": 51,
   "metadata": {},
   "outputs": [
    {
     "data": {
      "text/plain": [
       "fuel    Grade\n",
       "경유      A            35\n",
       "        B        195033\n",
       "        C           227\n",
       "        D        762799\n",
       "        X        166068\n",
       "기타      X            52\n",
       "휘발유_가스  A            24\n",
       "        B           871\n",
       "        X         29587\n",
       "Name: 차대번호, dtype: int64"
      ]
     },
     "execution_count": 51,
     "metadata": {},
     "output_type": "execute_result"
    }
   ],
   "source": [
    "total2.groupby(['fuel', 'Grade'])['차대번호'].count()"
   ]
  },
  {
   "cell_type": "code",
   "execution_count": 52,
   "metadata": {},
   "outputs": [
    {
     "data": {
      "text/html": [
       "<div>\n",
       "<style scoped>\n",
       "    .dataframe tbody tr th:only-of-type {\n",
       "        vertical-align: middle;\n",
       "    }\n",
       "\n",
       "    .dataframe tbody tr th {\n",
       "        vertical-align: top;\n",
       "    }\n",
       "\n",
       "    .dataframe thead th {\n",
       "        text-align: right;\n",
       "    }\n",
       "</style>\n",
       "<table border=\"1\" class=\"dataframe\">\n",
       "  <thead>\n",
       "    <tr style=\"text-align: right;\">\n",
       "      <th></th>\n",
       "      <th>차량관리번호</th>\n",
       "      <th>차량등록번호</th>\n",
       "      <th>본거지법정동코드</th>\n",
       "      <th>소유자구분</th>\n",
       "      <th>차종_등록정보</th>\n",
       "      <th>용도</th>\n",
       "      <th>현재회원번호</th>\n",
       "      <th>차대번호</th>\n",
       "      <th>최초등록일자</th>\n",
       "      <th>차량연식</th>\n",
       "      <th>...</th>\n",
       "      <th>부착일자</th>\n",
       "      <th>탈거승인일</th>\n",
       "      <th>차량번호</th>\n",
       "      <th>저감장치반납여부</th>\n",
       "      <th>저감장치구분</th>\n",
       "      <th>삼원촉매장치반납여부</th>\n",
       "      <th>dupl</th>\n",
       "      <th>DPF유무</th>\n",
       "      <th>fuel</th>\n",
       "      <th>Grade</th>\n",
       "    </tr>\n",
       "  </thead>\n",
       "  <tbody>\n",
       "    <tr>\n",
       "      <th>266612</th>\n",
       "      <td>KN98K6MGD5Z1BE009-01</td>\n",
       "      <td>80노8908</td>\n",
       "      <td>1150010300</td>\n",
       "      <td>사업자</td>\n",
       "      <td>화물</td>\n",
       "      <td>관용</td>\n",
       "      <td>8C4BF90DEA4EA30879FEA3A8DE3FC71D</td>\n",
       "      <td>KN98K6MGD5Z1BE009</td>\n",
       "      <td>20051223</td>\n",
       "      <td>2005</td>\n",
       "      <td>...</td>\n",
       "      <td>NaN</td>\n",
       "      <td>NaN</td>\n",
       "      <td>NaN</td>\n",
       "      <td>NaN</td>\n",
       "      <td>NaN</td>\n",
       "      <td>NaN</td>\n",
       "      <td>False</td>\n",
       "      <td>무</td>\n",
       "      <td>경유</td>\n",
       "      <td>X</td>\n",
       "    </tr>\n",
       "    <tr>\n",
       "      <th>506642</th>\n",
       "      <td>KP95J6MJD4CB01203-01</td>\n",
       "      <td>98가9553</td>\n",
       "      <td>1154510300</td>\n",
       "      <td>사업자</td>\n",
       "      <td>특수</td>\n",
       "      <td>자가용</td>\n",
       "      <td>0CA51720B23140C44101322F40E0C783</td>\n",
       "      <td>KP95J6MJD4CB01203</td>\n",
       "      <td>20040220</td>\n",
       "      <td>2004</td>\n",
       "      <td>...</td>\n",
       "      <td>20110811.00</td>\n",
       "      <td>NaN</td>\n",
       "      <td>98가9553</td>\n",
       "      <td>NaN</td>\n",
       "      <td>1종</td>\n",
       "      <td>NaN</td>\n",
       "      <td>False</td>\n",
       "      <td>무</td>\n",
       "      <td>경유</td>\n",
       "      <td>X</td>\n",
       "    </tr>\n",
       "    <tr>\n",
       "      <th>669166</th>\n",
       "      <td>4199경기90바2561</td>\n",
       "      <td>85서7047</td>\n",
       "      <td>4148032000</td>\n",
       "      <td>법인</td>\n",
       "      <td>화물</td>\n",
       "      <td>자가용</td>\n",
       "      <td>400C8EA721A0EA012972C26B4A0FF3C5</td>\n",
       "      <td>KMFGA17LP2C705790</td>\n",
       "      <td>20020729</td>\n",
       "      <td>2002</td>\n",
       "      <td>...</td>\n",
       "      <td>20080929.00</td>\n",
       "      <td>NaN</td>\n",
       "      <td>경기90바2561</td>\n",
       "      <td>NaN</td>\n",
       "      <td>2종</td>\n",
       "      <td>NaN</td>\n",
       "      <td>False</td>\n",
       "      <td>무</td>\n",
       "      <td>경유</td>\n",
       "      <td>X</td>\n",
       "    </tr>\n",
       "    <tr>\n",
       "      <th>686085</th>\n",
       "      <td>KNCSD0112VS362476-01</td>\n",
       "      <td>경남80무2604</td>\n",
       "      <td>3171025032</td>\n",
       "      <td>주민</td>\n",
       "      <td>화물</td>\n",
       "      <td>자가용</td>\n",
       "      <td>5880360878D5FA1F571AD1E7430074FE</td>\n",
       "      <td>KNCSD0112VS362476</td>\n",
       "      <td>20020524</td>\n",
       "      <td>1997</td>\n",
       "      <td>...</td>\n",
       "      <td>NaN</td>\n",
       "      <td>NaN</td>\n",
       "      <td>NaN</td>\n",
       "      <td>NaN</td>\n",
       "      <td>NaN</td>\n",
       "      <td>NaN</td>\n",
       "      <td>False</td>\n",
       "      <td>무</td>\n",
       "      <td>경유</td>\n",
       "      <td>X</td>\n",
       "    </tr>\n",
       "    <tr>\n",
       "      <th>686554</th>\n",
       "      <td>4199경기80바2280</td>\n",
       "      <td>87버2408</td>\n",
       "      <td>4141010500</td>\n",
       "      <td>주민</td>\n",
       "      <td>화물</td>\n",
       "      <td>자가용</td>\n",
       "      <td>A9380923948ACAAFA07F291507F98AE5</td>\n",
       "      <td>KMFLA19AP2C031586</td>\n",
       "      <td>20020522</td>\n",
       "      <td>2002</td>\n",
       "      <td>...</td>\n",
       "      <td>20060804.00</td>\n",
       "      <td>NaN</td>\n",
       "      <td>경기80바2280</td>\n",
       "      <td>N</td>\n",
       "      <td>1종</td>\n",
       "      <td>NaN</td>\n",
       "      <td>False</td>\n",
       "      <td>무</td>\n",
       "      <td>경유</td>\n",
       "      <td>X</td>\n",
       "    </tr>\n",
       "    <tr>\n",
       "      <th>...</th>\n",
       "      <td>...</td>\n",
       "      <td>...</td>\n",
       "      <td>...</td>\n",
       "      <td>...</td>\n",
       "      <td>...</td>\n",
       "      <td>...</td>\n",
       "      <td>...</td>\n",
       "      <td>...</td>\n",
       "      <td>...</td>\n",
       "      <td>...</td>\n",
       "      <td>...</td>\n",
       "      <td>...</td>\n",
       "      <td>...</td>\n",
       "      <td>...</td>\n",
       "      <td>...</td>\n",
       "      <td>...</td>\n",
       "      <td>...</td>\n",
       "      <td>...</td>\n",
       "      <td>...</td>\n",
       "      <td>...</td>\n",
       "      <td>...</td>\n",
       "    </tr>\n",
       "    <tr>\n",
       "      <th>1154687</th>\n",
       "      <td>000000KW45C001134-01</td>\n",
       "      <td>85버2435</td>\n",
       "      <td>4277025023</td>\n",
       "      <td>주민</td>\n",
       "      <td>화물</td>\n",
       "      <td>자가용</td>\n",
       "      <td>882D4E1D21042D3834DDE09D0FE39603</td>\n",
       "      <td>000000KW45C001134</td>\n",
       "      <td>19620629</td>\n",
       "      <td>1945</td>\n",
       "      <td>...</td>\n",
       "      <td>NaN</td>\n",
       "      <td>NaN</td>\n",
       "      <td>NaN</td>\n",
       "      <td>NaN</td>\n",
       "      <td>NaN</td>\n",
       "      <td>NaN</td>\n",
       "      <td>False</td>\n",
       "      <td>무</td>\n",
       "      <td>경유</td>\n",
       "      <td>X</td>\n",
       "    </tr>\n",
       "    <tr>\n",
       "      <th>1154688</th>\n",
       "      <td>KW55S000593-01</td>\n",
       "      <td>90모8325</td>\n",
       "      <td>4182034521</td>\n",
       "      <td>주민</td>\n",
       "      <td>화물</td>\n",
       "      <td>자가용</td>\n",
       "      <td>5F1CE533E1194B052AC7C34C1A448775</td>\n",
       "      <td>KN90K7MKDFKZ00001</td>\n",
       "      <td>19620629</td>\n",
       "      <td>1955</td>\n",
       "      <td>...</td>\n",
       "      <td>NaN</td>\n",
       "      <td>NaN</td>\n",
       "      <td>NaN</td>\n",
       "      <td>NaN</td>\n",
       "      <td>NaN</td>\n",
       "      <td>NaN</td>\n",
       "      <td>False</td>\n",
       "      <td>무</td>\n",
       "      <td>경유</td>\n",
       "      <td>X</td>\n",
       "    </tr>\n",
       "    <tr>\n",
       "      <th>1154690</th>\n",
       "      <td>kw44c000772-01</td>\n",
       "      <td>강원82자8830</td>\n",
       "      <td>4215031026</td>\n",
       "      <td>주민</td>\n",
       "      <td>화물</td>\n",
       "      <td>영업용</td>\n",
       "      <td>E2E2D87F480CE18599C1AD7EE999BA63</td>\n",
       "      <td>KW44C000772</td>\n",
       "      <td>19620625</td>\n",
       "      <td>1962</td>\n",
       "      <td>...</td>\n",
       "      <td>NaN</td>\n",
       "      <td>NaN</td>\n",
       "      <td>NaN</td>\n",
       "      <td>NaN</td>\n",
       "      <td>NaN</td>\n",
       "      <td>NaN</td>\n",
       "      <td>False</td>\n",
       "      <td>무</td>\n",
       "      <td>경유</td>\n",
       "      <td>X</td>\n",
       "    </tr>\n",
       "    <tr>\n",
       "      <th>1154692</th>\n",
       "      <td>04441201291-01</td>\n",
       "      <td>전북7가6256</td>\n",
       "      <td>4573025021</td>\n",
       "      <td>주민</td>\n",
       "      <td>화물</td>\n",
       "      <td>자가용</td>\n",
       "      <td>2DCFEA9B4CF27C189548395F4BC897EA</td>\n",
       "      <td>04441201291</td>\n",
       "      <td>19620306</td>\n",
       "      <td>1944</td>\n",
       "      <td>...</td>\n",
       "      <td>NaN</td>\n",
       "      <td>NaN</td>\n",
       "      <td>NaN</td>\n",
       "      <td>NaN</td>\n",
       "      <td>NaN</td>\n",
       "      <td>NaN</td>\n",
       "      <td>False</td>\n",
       "      <td>무</td>\n",
       "      <td>경유</td>\n",
       "      <td>X</td>\n",
       "    </tr>\n",
       "    <tr>\n",
       "      <th>1154694</th>\n",
       "      <td>04851200015-01</td>\n",
       "      <td>강원7라1252</td>\n",
       "      <td>4277025921</td>\n",
       "      <td>주민</td>\n",
       "      <td>화물</td>\n",
       "      <td>자가용</td>\n",
       "      <td>4B8509C910974ED85C5E746287B832D8</td>\n",
       "      <td>04851200015</td>\n",
       "      <td>19550605</td>\n",
       "      <td>1955</td>\n",
       "      <td>...</td>\n",
       "      <td>NaN</td>\n",
       "      <td>NaN</td>\n",
       "      <td>NaN</td>\n",
       "      <td>NaN</td>\n",
       "      <td>NaN</td>\n",
       "      <td>NaN</td>\n",
       "      <td>False</td>\n",
       "      <td>무</td>\n",
       "      <td>경유</td>\n",
       "      <td>X</td>\n",
       "    </tr>\n",
       "  </tbody>\n",
       "</table>\n",
       "<p>166068 rows × 63 columns</p>\n",
       "</div>"
      ],
      "text/plain": [
       "                       차량관리번호     차량등록번호    본거지법정동코드 소유자구분 차종_등록정보   용도  \\\n",
       "266612   KN98K6MGD5Z1BE009-01    80노8908  1150010300   사업자      화물   관용   \n",
       "506642   KP95J6MJD4CB01203-01    98가9553  1154510300   사업자      특수  자가용   \n",
       "669166          4199경기90바2561    85서7047  4148032000    법인      화물  자가용   \n",
       "686085   KNCSD0112VS362476-01  경남80무2604  3171025032    주민      화물  자가용   \n",
       "686554          4199경기80바2280    87버2408  4141010500    주민      화물  자가용   \n",
       "...                       ...        ...         ...   ...     ...  ...   \n",
       "1154687  000000KW45C001134-01    85버2435  4277025023    주민      화물  자가용   \n",
       "1154688        KW55S000593-01    90모8325  4182034521    주민      화물  자가용   \n",
       "1154690        kw44c000772-01  강원82자8830  4215031026    주민      화물  영업용   \n",
       "1154692        04441201291-01   전북7가6256  4573025021    주민      화물  자가용   \n",
       "1154694        04851200015-01   강원7라1252  4277025921    주민      화물  자가용   \n",
       "\n",
       "                                   현재회원번호               차대번호    최초등록일자  차량연식  \\\n",
       "266612   8C4BF90DEA4EA30879FEA3A8DE3FC71D  KN98K6MGD5Z1BE009  20051223  2005   \n",
       "506642   0CA51720B23140C44101322F40E0C783  KP95J6MJD4CB01203  20040220  2004   \n",
       "669166   400C8EA721A0EA012972C26B4A0FF3C5  KMFGA17LP2C705790  20020729  2002   \n",
       "686085   5880360878D5FA1F571AD1E7430074FE  KNCSD0112VS362476  20020524  1997   \n",
       "686554   A9380923948ACAAFA07F291507F98AE5  KMFLA19AP2C031586  20020522  2002   \n",
       "...                                   ...                ...       ...   ...   \n",
       "1154687  882D4E1D21042D3834DDE09D0FE39603  000000KW45C001134  19620629  1945   \n",
       "1154688  5F1CE533E1194B052AC7C34C1A448775  KN90K7MKDFKZ00001  19620629  1955   \n",
       "1154690  E2E2D87F480CE18599C1AD7EE999BA63        KW44C000772  19620625  1962   \n",
       "1154692  2DCFEA9B4CF27C189548395F4BC897EA        04441201291  19620306  1944   \n",
       "1154694  4B8509C910974ED85C5E746287B832D8        04851200015  19550605  1955   \n",
       "\n",
       "         ...        부착일자  탈거승인일       차량번호 저감장치반납여부 저감장치구분 삼원촉매장치반납여부   dupl  \\\n",
       "266612   ...         NaN    NaN        NaN      NaN    NaN        NaN  False   \n",
       "506642   ... 20110811.00    NaN    98가9553      NaN     1종        NaN  False   \n",
       "669166   ... 20080929.00    NaN  경기90바2561      NaN     2종        NaN  False   \n",
       "686085   ...         NaN    NaN        NaN      NaN    NaN        NaN  False   \n",
       "686554   ... 20060804.00    NaN  경기80바2280        N     1종        NaN  False   \n",
       "...      ...         ...    ...        ...      ...    ...        ...    ...   \n",
       "1154687  ...         NaN    NaN        NaN      NaN    NaN        NaN  False   \n",
       "1154688  ...         NaN    NaN        NaN      NaN    NaN        NaN  False   \n",
       "1154690  ...         NaN    NaN        NaN      NaN    NaN        NaN  False   \n",
       "1154692  ...         NaN    NaN        NaN      NaN    NaN        NaN  False   \n",
       "1154694  ...         NaN    NaN        NaN      NaN    NaN        NaN  False   \n",
       "\n",
       "        DPF유무  fuel Grade  \n",
       "266612      무    경유     X  \n",
       "506642      무    경유     X  \n",
       "669166      무    경유     X  \n",
       "686085      무    경유     X  \n",
       "686554      무    경유     X  \n",
       "...       ...   ...   ...  \n",
       "1154687     무    경유     X  \n",
       "1154688     무    경유     X  \n",
       "1154690     무    경유     X  \n",
       "1154692     무    경유     X  \n",
       "1154694     무    경유     X  \n",
       "\n",
       "[166068 rows x 63 columns]"
      ]
     },
     "execution_count": 52,
     "metadata": {},
     "output_type": "execute_result"
    }
   ],
   "source": [
    "total2[(total2['fuel'] == '경유') & (total2['Grade'] == 'X')]"
   ]
  },
  {
   "cell_type": "code",
   "execution_count": 53,
   "metadata": {},
   "outputs": [
    {
     "data": {
      "text/html": [
       "<div>\n",
       "<style scoped>\n",
       "    .dataframe tbody tr th:only-of-type {\n",
       "        vertical-align: middle;\n",
       "    }\n",
       "\n",
       "    .dataframe tbody tr th {\n",
       "        vertical-align: top;\n",
       "    }\n",
       "\n",
       "    .dataframe thead th {\n",
       "        text-align: right;\n",
       "    }\n",
       "</style>\n",
       "<table border=\"1\" class=\"dataframe\">\n",
       "  <thead>\n",
       "    <tr style=\"text-align: right;\">\n",
       "      <th></th>\n",
       "      <th>차량관리번호</th>\n",
       "      <th>차량등록번호</th>\n",
       "      <th>본거지법정동코드</th>\n",
       "      <th>소유자구분</th>\n",
       "      <th>차종_등록정보</th>\n",
       "      <th>용도</th>\n",
       "      <th>현재회원번호</th>\n",
       "      <th>차대번호</th>\n",
       "      <th>최초등록일자</th>\n",
       "      <th>차량연식</th>\n",
       "      <th>...</th>\n",
       "      <th>부착일자</th>\n",
       "      <th>탈거승인일</th>\n",
       "      <th>차량번호</th>\n",
       "      <th>저감장치반납여부</th>\n",
       "      <th>저감장치구분</th>\n",
       "      <th>삼원촉매장치반납여부</th>\n",
       "      <th>dupl</th>\n",
       "      <th>DPF유무</th>\n",
       "      <th>fuel</th>\n",
       "      <th>Grade</th>\n",
       "    </tr>\n",
       "  </thead>\n",
       "  <tbody>\n",
       "    <tr>\n",
       "      <th>2</th>\n",
       "      <td>1P3EW65G5XV503775-01</td>\n",
       "      <td>50더0491</td>\n",
       "      <td>4157010600</td>\n",
       "      <td>법인</td>\n",
       "      <td>승용</td>\n",
       "      <td>자가용</td>\n",
       "      <td>B9638F38C154884829E69103F64C7EE4</td>\n",
       "      <td>1P3EW65G5XV503775</td>\n",
       "      <td>20211124</td>\n",
       "      <td>1999</td>\n",
       "      <td>...</td>\n",
       "      <td>NaN</td>\n",
       "      <td>NaN</td>\n",
       "      <td>NaN</td>\n",
       "      <td>NaN</td>\n",
       "      <td>NaN</td>\n",
       "      <td>NaN</td>\n",
       "      <td>False</td>\n",
       "      <td>무</td>\n",
       "      <td>휘발유_가스</td>\n",
       "      <td>X</td>\n",
       "    </tr>\n",
       "    <tr>\n",
       "      <th>3</th>\n",
       "      <td>1P3EW65G5YV606177-01</td>\n",
       "      <td>67거4988</td>\n",
       "      <td>5011013700</td>\n",
       "      <td>주민</td>\n",
       "      <td>승용</td>\n",
       "      <td>자가용</td>\n",
       "      <td>3BF0F5EEEB8EB9C1D08D567DC65098ED</td>\n",
       "      <td>1P3EW65G5YV606177</td>\n",
       "      <td>20211124</td>\n",
       "      <td>2000</td>\n",
       "      <td>...</td>\n",
       "      <td>NaN</td>\n",
       "      <td>NaN</td>\n",
       "      <td>NaN</td>\n",
       "      <td>NaN</td>\n",
       "      <td>NaN</td>\n",
       "      <td>NaN</td>\n",
       "      <td>False</td>\n",
       "      <td>무</td>\n",
       "      <td>휘발유_가스</td>\n",
       "      <td>X</td>\n",
       "    </tr>\n",
       "    <tr>\n",
       "      <th>297</th>\n",
       "      <td>KL90C3AHGGZ2CK001-01</td>\n",
       "      <td>20노6890</td>\n",
       "      <td>1168010500</td>\n",
       "      <td>주민</td>\n",
       "      <td>승용</td>\n",
       "      <td>자가용</td>\n",
       "      <td>B733C838FBA5D9A1D2DD1375897F635B</td>\n",
       "      <td>KL90C3AHGGZ2CK001</td>\n",
       "      <td>20131105</td>\n",
       "      <td>1986</td>\n",
       "      <td>...</td>\n",
       "      <td>NaN</td>\n",
       "      <td>NaN</td>\n",
       "      <td>NaN</td>\n",
       "      <td>NaN</td>\n",
       "      <td>NaN</td>\n",
       "      <td>NaN</td>\n",
       "      <td>False</td>\n",
       "      <td>무</td>\n",
       "      <td>휘발유_가스</td>\n",
       "      <td>X</td>\n",
       "    </tr>\n",
       "    <tr>\n",
       "      <th>468</th>\n",
       "      <td>WP0ZZZ91ZFS102316-01</td>\n",
       "      <td>58마9300</td>\n",
       "      <td>1117013000</td>\n",
       "      <td>주민</td>\n",
       "      <td>승용</td>\n",
       "      <td>자가용</td>\n",
       "      <td>76D5B230A2F7CFC4AC35B2B388BE554B</td>\n",
       "      <td>WP0ZZZ91ZFS102316</td>\n",
       "      <td>20100616</td>\n",
       "      <td>1985</td>\n",
       "      <td>...</td>\n",
       "      <td>NaN</td>\n",
       "      <td>NaN</td>\n",
       "      <td>NaN</td>\n",
       "      <td>NaN</td>\n",
       "      <td>NaN</td>\n",
       "      <td>NaN</td>\n",
       "      <td>False</td>\n",
       "      <td>무</td>\n",
       "      <td>휘발유_가스</td>\n",
       "      <td>X</td>\n",
       "    </tr>\n",
       "    <tr>\n",
       "      <th>477</th>\n",
       "      <td>WDBBA48D0GA039761-01</td>\n",
       "      <td>15오2546</td>\n",
       "      <td>1144012300</td>\n",
       "      <td>주민</td>\n",
       "      <td>승용</td>\n",
       "      <td>자가용</td>\n",
       "      <td>BEF4E10BA4DC22E0F086C9E6B947DE6D</td>\n",
       "      <td>WDBBA48D0GA039761</td>\n",
       "      <td>20100204</td>\n",
       "      <td>1986</td>\n",
       "      <td>...</td>\n",
       "      <td>NaN</td>\n",
       "      <td>NaN</td>\n",
       "      <td>NaN</td>\n",
       "      <td>NaN</td>\n",
       "      <td>NaN</td>\n",
       "      <td>NaN</td>\n",
       "      <td>False</td>\n",
       "      <td>무</td>\n",
       "      <td>휘발유_가스</td>\n",
       "      <td>X</td>\n",
       "    </tr>\n",
       "  </tbody>\n",
       "</table>\n",
       "<p>5 rows × 63 columns</p>\n",
       "</div>"
      ],
      "text/plain": [
       "                   차량관리번호   차량등록번호    본거지법정동코드 소유자구분 차종_등록정보   용도  \\\n",
       "2    1P3EW65G5XV503775-01  50더0491  4157010600    법인      승용  자가용   \n",
       "3    1P3EW65G5YV606177-01  67거4988  5011013700    주민      승용  자가용   \n",
       "297  KL90C3AHGGZ2CK001-01  20노6890  1168010500    주민      승용  자가용   \n",
       "468  WP0ZZZ91ZFS102316-01  58마9300  1117013000    주민      승용  자가용   \n",
       "477  WDBBA48D0GA039761-01  15오2546  1144012300    주민      승용  자가용   \n",
       "\n",
       "                               현재회원번호               차대번호    최초등록일자  차량연식  ...  \\\n",
       "2    B9638F38C154884829E69103F64C7EE4  1P3EW65G5XV503775  20211124  1999  ...   \n",
       "3    3BF0F5EEEB8EB9C1D08D567DC65098ED  1P3EW65G5YV606177  20211124  2000  ...   \n",
       "297  B733C838FBA5D9A1D2DD1375897F635B  KL90C3AHGGZ2CK001  20131105  1986  ...   \n",
       "468  76D5B230A2F7CFC4AC35B2B388BE554B  WP0ZZZ91ZFS102316  20100616  1985  ...   \n",
       "477  BEF4E10BA4DC22E0F086C9E6B947DE6D  WDBBA48D0GA039761  20100204  1986  ...   \n",
       "\n",
       "     부착일자  탈거승인일 차량번호 저감장치반납여부 저감장치구분 삼원촉매장치반납여부   dupl DPF유무    fuel Grade  \n",
       "2     NaN    NaN  NaN      NaN    NaN        NaN  False     무  휘발유_가스     X  \n",
       "3     NaN    NaN  NaN      NaN    NaN        NaN  False     무  휘발유_가스     X  \n",
       "297   NaN    NaN  NaN      NaN    NaN        NaN  False     무  휘발유_가스     X  \n",
       "468   NaN    NaN  NaN      NaN    NaN        NaN  False     무  휘발유_가스     X  \n",
       "477   NaN    NaN  NaN      NaN    NaN        NaN  False     무  휘발유_가스     X  \n",
       "\n",
       "[5 rows x 63 columns]"
      ]
     },
     "execution_count": 53,
     "metadata": {},
     "output_type": "execute_result"
    }
   ],
   "source": [
    "total2[(total2['fuel'] == '휘발유_가스') & (total2['Grade'] == 'X')].head()"
   ]
  },
  {
   "cell_type": "code",
   "execution_count": 54,
   "metadata": {},
   "outputs": [
    {
     "data": {
      "text/html": [
       "<div>\n",
       "<style scoped>\n",
       "    .dataframe tbody tr th:only-of-type {\n",
       "        vertical-align: middle;\n",
       "    }\n",
       "\n",
       "    .dataframe tbody tr th {\n",
       "        vertical-align: top;\n",
       "    }\n",
       "\n",
       "    .dataframe thead th {\n",
       "        text-align: right;\n",
       "    }\n",
       "</style>\n",
       "<table border=\"1\" class=\"dataframe\">\n",
       "  <thead>\n",
       "    <tr style=\"text-align: right;\">\n",
       "      <th></th>\n",
       "      <th>차량관리번호</th>\n",
       "      <th>차량등록번호</th>\n",
       "      <th>본거지법정동코드</th>\n",
       "      <th>소유자구분</th>\n",
       "      <th>차종_등록정보</th>\n",
       "      <th>용도</th>\n",
       "      <th>현재회원번호</th>\n",
       "      <th>차대번호</th>\n",
       "      <th>최초등록일자</th>\n",
       "      <th>차량연식</th>\n",
       "      <th>...</th>\n",
       "      <th>부착일자</th>\n",
       "      <th>탈거승인일</th>\n",
       "      <th>차량번호</th>\n",
       "      <th>저감장치반납여부</th>\n",
       "      <th>저감장치구분</th>\n",
       "      <th>삼원촉매장치반납여부</th>\n",
       "      <th>dupl</th>\n",
       "      <th>DPF유무</th>\n",
       "      <th>fuel</th>\n",
       "      <th>Grade</th>\n",
       "    </tr>\n",
       "  </thead>\n",
       "  <tbody>\n",
       "    <tr>\n",
       "      <th>833421</th>\n",
       "      <td>449934394867-02</td>\n",
       "      <td>전남91바9076</td>\n",
       "      <td>4684025600</td>\n",
       "      <td>법인</td>\n",
       "      <td>화물</td>\n",
       "      <td>영업용</td>\n",
       "      <td>8D0EF2C7D6EABE7761ECE5AB8E2C323B</td>\n",
       "      <td>449934394867</td>\n",
       "      <td>19991023</td>\n",
       "      <td>1999</td>\n",
       "      <td>...</td>\n",
       "      <td>20060830.00</td>\n",
       "      <td>NaN</td>\n",
       "      <td>89어7365</td>\n",
       "      <td>N</td>\n",
       "      <td>1종</td>\n",
       "      <td>NaN</td>\n",
       "      <td>False</td>\n",
       "      <td>무</td>\n",
       "      <td>기타</td>\n",
       "      <td>X</td>\n",
       "    </tr>\n",
       "    <tr>\n",
       "      <th>837531</th>\n",
       "      <td>419934399342-01</td>\n",
       "      <td>부산91사5271</td>\n",
       "      <td>2629011000</td>\n",
       "      <td>사업자</td>\n",
       "      <td>화물</td>\n",
       "      <td>영업용</td>\n",
       "      <td>0B2997A25307E6F5E1DD8FDB6D25430C</td>\n",
       "      <td>419934399342</td>\n",
       "      <td>19990914</td>\n",
       "      <td>1999</td>\n",
       "      <td>...</td>\n",
       "      <td>20080630.00</td>\n",
       "      <td>NaN</td>\n",
       "      <td>경기91바6972</td>\n",
       "      <td>NaN</td>\n",
       "      <td>1종</td>\n",
       "      <td>NaN</td>\n",
       "      <td>False</td>\n",
       "      <td>무</td>\n",
       "      <td>기타</td>\n",
       "      <td>X</td>\n",
       "    </tr>\n",
       "    <tr>\n",
       "      <th>840053</th>\n",
       "      <td>419934399280-02</td>\n",
       "      <td>경북81아1763</td>\n",
       "      <td>4719025600</td>\n",
       "      <td>법인</td>\n",
       "      <td>화물</td>\n",
       "      <td>영업용</td>\n",
       "      <td>170D038E0DD85EACD12E1AB4BB2072D6</td>\n",
       "      <td>419934399280</td>\n",
       "      <td>19990820</td>\n",
       "      <td>1999</td>\n",
       "      <td>...</td>\n",
       "      <td>NaN</td>\n",
       "      <td>NaN</td>\n",
       "      <td>NaN</td>\n",
       "      <td>NaN</td>\n",
       "      <td>NaN</td>\n",
       "      <td>NaN</td>\n",
       "      <td>False</td>\n",
       "      <td>무</td>\n",
       "      <td>기타</td>\n",
       "      <td>X</td>\n",
       "    </tr>\n",
       "    <tr>\n",
       "      <th>1051132</th>\n",
       "      <td>KN3LAP5C1MK101195-01</td>\n",
       "      <td>경남7고6070</td>\n",
       "      <td>4812514000</td>\n",
       "      <td>주민</td>\n",
       "      <td>화물</td>\n",
       "      <td>자가용</td>\n",
       "      <td>48631EA8EAD02F04737E81B09078671D</td>\n",
       "      <td>KN3LAP5C1MK101195</td>\n",
       "      <td>19910228</td>\n",
       "      <td>1991</td>\n",
       "      <td>...</td>\n",
       "      <td>NaN</td>\n",
       "      <td>NaN</td>\n",
       "      <td>NaN</td>\n",
       "      <td>NaN</td>\n",
       "      <td>NaN</td>\n",
       "      <td>NaN</td>\n",
       "      <td>False</td>\n",
       "      <td>무</td>\n",
       "      <td>기타</td>\n",
       "      <td>X</td>\n",
       "    </tr>\n",
       "    <tr>\n",
       "      <th>1068213</th>\n",
       "      <td>ZFA15400000258139-01</td>\n",
       "      <td>서울52고9225</td>\n",
       "      <td>1168011800</td>\n",
       "      <td>법인</td>\n",
       "      <td>승용</td>\n",
       "      <td>자가용</td>\n",
       "      <td>5D6D4DD77C4AE6E3A7FD7D0663447043</td>\n",
       "      <td>ZFA15400000258139</td>\n",
       "      <td>19900518</td>\n",
       "      <td>1990</td>\n",
       "      <td>...</td>\n",
       "      <td>NaN</td>\n",
       "      <td>NaN</td>\n",
       "      <td>NaN</td>\n",
       "      <td>NaN</td>\n",
       "      <td>NaN</td>\n",
       "      <td>NaN</td>\n",
       "      <td>False</td>\n",
       "      <td>무</td>\n",
       "      <td>기타</td>\n",
       "      <td>X</td>\n",
       "    </tr>\n",
       "  </tbody>\n",
       "</table>\n",
       "<p>5 rows × 63 columns</p>\n",
       "</div>"
      ],
      "text/plain": [
       "                       차량관리번호     차량등록번호    본거지법정동코드 소유자구분 차종_등록정보   용도  \\\n",
       "833421        449934394867-02  전남91바9076  4684025600    법인      화물  영업용   \n",
       "837531        419934399342-01  부산91사5271  2629011000   사업자      화물  영업용   \n",
       "840053        419934399280-02  경북81아1763  4719025600    법인      화물  영업용   \n",
       "1051132  KN3LAP5C1MK101195-01   경남7고6070  4812514000    주민      화물  자가용   \n",
       "1068213  ZFA15400000258139-01  서울52고9225  1168011800    법인      승용  자가용   \n",
       "\n",
       "                                   현재회원번호               차대번호    최초등록일자  차량연식  \\\n",
       "833421   8D0EF2C7D6EABE7761ECE5AB8E2C323B       449934394867  19991023  1999   \n",
       "837531   0B2997A25307E6F5E1DD8FDB6D25430C       419934399342  19990914  1999   \n",
       "840053   170D038E0DD85EACD12E1AB4BB2072D6       419934399280  19990820  1999   \n",
       "1051132  48631EA8EAD02F04737E81B09078671D  KN3LAP5C1MK101195  19910228  1991   \n",
       "1068213  5D6D4DD77C4AE6E3A7FD7D0663447043  ZFA15400000258139  19900518  1990   \n",
       "\n",
       "         ...        부착일자  탈거승인일       차량번호 저감장치반납여부 저감장치구분 삼원촉매장치반납여부   dupl  \\\n",
       "833421   ... 20060830.00    NaN    89어7365        N     1종        NaN  False   \n",
       "837531   ... 20080630.00    NaN  경기91바6972      NaN     1종        NaN  False   \n",
       "840053   ...         NaN    NaN        NaN      NaN    NaN        NaN  False   \n",
       "1051132  ...         NaN    NaN        NaN      NaN    NaN        NaN  False   \n",
       "1068213  ...         NaN    NaN        NaN      NaN    NaN        NaN  False   \n",
       "\n",
       "        DPF유무  fuel Grade  \n",
       "833421      무    기타     X  \n",
       "837531      무    기타     X  \n",
       "840053      무    기타     X  \n",
       "1051132     무    기타     X  \n",
       "1068213     무    기타     X  \n",
       "\n",
       "[5 rows x 63 columns]"
      ]
     },
     "execution_count": 54,
     "metadata": {},
     "output_type": "execute_result"
    }
   ],
   "source": [
    "total2[(total2['fuel'] == '기타') & (total2['Grade'] == 'X')].head()"
   ]
  },
  {
   "attachments": {},
   "cell_type": "markdown",
   "metadata": {},
   "source": [
    "#### [출력] 통계"
   ]
  },
  {
   "cell_type": "code",
   "execution_count": 55,
   "metadata": {},
   "outputs": [],
   "source": [
    "with pd.ExcelWriter(f'analysis2/[BD3][G{grade}][통계]Case5_등급분류(중복차대제거)(말소제거).xlsx') as writer:\n",
    "    total2.groupby(['fuel'])['차대번호'].count().to_excel(writer, sheet_name='연료별')\n",
    "    total2.groupby(['fuel', 'Grade'])['차대번호'].count().to_excel(writer, sheet_name='등급별')"
   ]
  },
  {
   "attachments": {},
   "cell_type": "markdown",
   "metadata": {},
   "source": [
    "#### [출력] 등급 산정 안된 샘플"
   ]
  },
  {
   "cell_type": "code",
   "execution_count": 56,
   "metadata": {},
   "outputs": [],
   "source": [
    "# about 3m\n",
    "with pd.ExcelWriter(f'analysis2/[BD3][G{grade}][샘플]Case5_등급미분류(중복차대제거)(말소제거).xlsx') as writer2:\n",
    "    total2[(total2['fuel'] == '경유') & (total2['Grade'] == 'X')].to_excel(writer2, sheet_name='경유', index=False)\n",
    "    total2[(total2['fuel'] == '휘발유_가스') & (total2['Grade'] == 'X')].to_excel(writer2, sheet_name='휘발유', index=False)\n",
    "    total2[(total2['fuel'] == '기타') & (total2['Grade'] == 'X')].to_excel(writer2, sheet_name='기타', index=False)"
   ]
  },
  {
   "attachments": {},
   "cell_type": "markdown",
   "metadata": {},
   "source": [
    "# 코드 마지막"
   ]
  }
 ],
 "metadata": {
  "kernelspec": {
   "display_name": "base",
   "language": "python",
   "name": "python3"
  },
  "language_info": {
   "codemirror_mode": {
    "name": "ipython",
    "version": 3
   },
   "file_extension": ".py",
   "mimetype": "text/x-python",
   "name": "python",
   "nbconvert_exporter": "python",
   "pygments_lexer": "ipython3",
   "version": "3.9.13 (main, Aug 25 2022, 23:51:50) [MSC v.1916 64 bit (AMD64)]"
  },
  "orig_nbformat": 4,
  "vscode": {
   "interpreter": {
    "hash": "ad2bdc8ecc057115af97d19610ffacc2b4e99fae6737bb82f5d7fb13d2f2c186"
   }
  }
 },
 "nbformat": 4,
 "nbformat_minor": 2
}
