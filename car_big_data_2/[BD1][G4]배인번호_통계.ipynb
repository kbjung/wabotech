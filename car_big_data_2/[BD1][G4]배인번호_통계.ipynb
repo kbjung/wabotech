{
 "cells": [
  {
   "attachments": {},
   "cell_type": "markdown",
   "metadata": {},
   "source": [
    "# Library"
   ]
  },
  {
   "cell_type": "code",
   "execution_count": 1,
   "metadata": {},
   "outputs": [],
   "source": [
    "import pandas as pd\n",
    "import numpy as np\n",
    "import os\n",
    "from tqdm import tqdm"
   ]
  },
  {
   "attachments": {},
   "cell_type": "markdown",
   "metadata": {},
   "source": [
    "# [로드] 등록&제원 정보(말소제거)\n",
    "- 등록정보&제원정보(말소제거)"
   ]
  },
  {
   "cell_type": "code",
   "execution_count": null,
   "metadata": {},
   "outputs": [],
   "source": [
    "ods_folder = 'D:/data/big2/ODS'"
   ]
  },
  {
   "cell_type": "code",
   "execution_count": 2,
   "metadata": {},
   "outputs": [],
   "source": [
    "# about 30s\n",
    "file_name = '[ODS][G4]등록정보&제원정보(말소제거)(2022.12.29).csv'\n",
    "ods_path = os.path.join(ods_folder, file_name)\n",
    "df = pd.read_csv(ods_path, encoding='cp949', low_memory=False)"
   ]
  },
  {
   "attachments": {},
   "cell_type": "markdown",
   "metadata": {},
   "source": [
    "# [로드] 정기, 정밀 검사"
   ]
  },
  {
   "cell_type": "code",
   "execution_count": null,
   "metadata": {},
   "outputs": [],
   "source": [
    "# about\n",
    "file_name = '[ODS]정기검사(2022.12.29).csv'\n",
    "ins = pd.read_csv(os.path.join(ods_folder, file_name), encoding='cp949', low_memory=False)\n",
    "file_name = '[ODS]정밀검사(2022.12.29).csv'\n",
    "dins = pd.read_csv(os.path.join(ods_folder, file_name), encoding='cp949', low_memory=False)\n",
    "ins.shape, dins.shape"
   ]
  },
  {
   "attachments": {},
   "cell_type": "markdown",
   "metadata": {},
   "source": [
    "# 전처리"
   ]
  },
  {
   "cell_type": "code",
   "execution_count": 3,
   "metadata": {},
   "outputs": [
    {
     "name": "stdout",
     "output_type": "stream",
     "text": [
      "<class 'pandas.core.frame.DataFrame'>\n",
      "RangeIndex: 1511139 entries, 0 to 1511138\n",
      "Data columns (total 59 columns):\n",
      " #   Column        Non-Null Count    Dtype  \n",
      "---  ------        --------------    -----  \n",
      " 0   차량관리번호        1511139 non-null  object \n",
      " 1   차량등록번호        1511139 non-null  object \n",
      " 2   본거지법정동코드      1511139 non-null  int64  \n",
      " 3   소유자구분         1511139 non-null  object \n",
      " 4   차종_등록정보       1511137 non-null  object \n",
      " 5   용도            1511139 non-null  object \n",
      " 6   미정1_x         1511139 non-null  object \n",
      " 7   현재회원번호        1510300 non-null  object \n",
      " 8   미정2_x         1511139 non-null  object \n",
      " 9   미정3_x         1511139 non-null  object \n",
      " 10  차대번호          1511139 non-null  object \n",
      " 11  최초등록일자        1511139 non-null  int64  \n",
      " 12  차량연식          1511139 non-null  int64  \n",
      " 13  차량제작일자        1342367 non-null  float64\n",
      " 14  배출가스검사유효일자    1511127 non-null  float64\n",
      " 15  제원관리번호        1511139 non-null  object \n",
      " 16  배출가스인증번호      1387441 non-null  object \n",
      " 17  배출가스등급        1511139 non-null  object \n",
      " 18  저공해조치YN(미사용)  1510984 non-null  object \n",
      " 19  저공해조치종류       189 non-null      float64\n",
      " 20  저공해조치구조변경YN   1511139 non-null  object \n",
      " 21  미정4           0 non-null        float64\n",
      " 22  차량등록번호숫자정보    1511139 non-null  int64  \n",
      " 23  차량말소YN        1511139 non-null  object \n",
      " 24  미정5           1511118 non-null  object \n",
      " 25  최초회원번호        1506484 non-null  object \n",
      " 26  취득일자          1417927 non-null  object \n",
      " 27  취득금액          1436738 non-null  float64\n",
      " 28  미정6           403044 non-null   object \n",
      " 29  생성일시_등록정보     1511139 non-null  object \n",
      " 30  수정일시_등록정보     914957 non-null   object \n",
      " 31  미정7           1511139 non-null  object \n",
      " 32  차명            1511139 non-null  object \n",
      " 33  차종_제원정보       1511139 non-null  object \n",
      " 34  차종분류          1511139 non-null  object \n",
      " 35  차종유형(소분류)     1511139 non-null  object \n",
      " 36  자동차형식         1510611 non-null  object \n",
      " 37  제작사명          1501112 non-null  object \n",
      " 38  연료            1511068 non-null  object \n",
      " 39  엔진형식          1509138 non-null  object \n",
      " 40  공차중량          0 non-null        float64\n",
      " 41  총중량           1511114 non-null  float64\n",
      " 42  적재중량          1510602 non-null  float64\n",
      " 43  엔진출력          1510511 non-null  float64\n",
      " 44  배기량           1511128 non-null  float64\n",
      " 45  승차인원          1511139 non-null  float64\n",
      " 46  차량길이          1511064 non-null  float64\n",
      " 47  차량너비          1511064 non-null  float64\n",
      " 48  차량높이          1511062 non-null  float64\n",
      " 49  원산지명          1492014 non-null  object \n",
      " 50  미정1_y         0 non-null        float64\n",
      " 51  삭제YN          1511139 non-null  object \n",
      " 52  승인일자          1510592 non-null  object \n",
      " 53  구동형식          47 non-null       float64\n",
      " 54  변속기종류         1510979 non-null  object \n",
      " 55  미정2_y         0 non-null        float64\n",
      " 56  생성일시_제원정보     1511139 non-null  object \n",
      " 57  수정일시_제원정보     497 non-null      object \n",
      " 58  미정3_y         1511139 non-null  object \n",
      "dtypes: float64(17), int64(4), object(38)\n",
      "memory usage: 680.2+ MB\n"
     ]
    }
   ],
   "source": [
    "df.info()"
   ]
  },
  {
   "cell_type": "code",
   "execution_count": 4,
   "metadata": {},
   "outputs": [
    {
     "data": {
      "text/plain": [
       "(1511139, 59)"
      ]
     },
     "execution_count": 4,
     "metadata": {},
     "output_type": "execute_result"
    }
   ],
   "source": [
    "df.shape"
   ]
  },
  {
   "attachments": {},
   "cell_type": "markdown",
   "metadata": {},
   "source": [
    "## 빈칸 처리"
   ]
  },
  {
   "cell_type": "code",
   "execution_count": 7,
   "metadata": {},
   "outputs": [
    {
     "data": {
      "text/plain": [
       "123698"
      ]
     },
     "execution_count": 7,
     "metadata": {},
     "output_type": "execute_result"
    }
   ],
   "source": [
    "df['배출가스인증번호'].isnull().sum()"
   ]
  },
  {
   "cell_type": "code",
   "execution_count": 8,
   "metadata": {},
   "outputs": [
    {
     "data": {
      "text/plain": [
       "0"
      ]
     },
     "execution_count": 8,
     "metadata": {},
     "output_type": "execute_result"
    }
   ],
   "source": [
    "# 빈칸이 포함된 샘플\n",
    "count = 0\n",
    "for i, one in enumerate(df['배출가스인증번호']):\n",
    "    if ' ' in str(one):\n",
    "        print(i)\n",
    "        count += 1\n",
    "count"
   ]
  },
  {
   "cell_type": "code",
   "execution_count": 9,
   "metadata": {},
   "outputs": [
    {
     "data": {
      "text/plain": [
       "'6MY-HD-14-63'"
      ]
     },
     "execution_count": 9,
     "metadata": {},
     "output_type": "execute_result"
    }
   ],
   "source": [
    "df.loc[706692, '배출가스인증번호']"
   ]
  },
  {
   "cell_type": "code",
   "execution_count": 11,
   "metadata": {},
   "outputs": [],
   "source": [
    "# # 빈칸만 있는 샘플\n",
    "# count = 0\n",
    "# for i, one in enumerate(df['배출가스인증번호']):\n",
    "#     if ' ' == str(one):\n",
    "#         print(i)\n",
    "#         count += 1\n",
    "# count"
   ]
  },
  {
   "cell_type": "code",
   "execution_count": 10,
   "metadata": {},
   "outputs": [
    {
     "data": {
      "text/plain": [
       "nan"
      ]
     },
     "execution_count": 10,
     "metadata": {},
     "output_type": "execute_result"
    }
   ],
   "source": [
    "df.loc[2453, '배출가스인증번호']"
   ]
  },
  {
   "cell_type": "code",
   "execution_count": 13,
   "metadata": {},
   "outputs": [],
   "source": [
    "# df['배출가스인증번호'] = df['배출가스인증번호'].replace(' ', np.nan)"
   ]
  },
  {
   "cell_type": "code",
   "execution_count": 14,
   "metadata": {},
   "outputs": [
    {
     "data": {
      "text/plain": [
       "nan"
      ]
     },
     "execution_count": 14,
     "metadata": {},
     "output_type": "execute_result"
    }
   ],
   "source": [
    "# df.loc[2453, '배출가스인증번호']"
   ]
  },
  {
   "cell_type": "code",
   "execution_count": 12,
   "metadata": {},
   "outputs": [],
   "source": [
    "# # 빈칸이 포함된 샘플\n",
    "# count = 0\n",
    "# for i, one in enumerate(df['배출가스인증번호']):\n",
    "#     if ' ' in str(one):\n",
    "#         print(i)\n",
    "#         count += 1\n",
    "# count"
   ]
  },
  {
   "cell_type": "code",
   "execution_count": 13,
   "metadata": {},
   "outputs": [],
   "source": [
    "# df.loc[521777, '배출가스인증번호']"
   ]
  },
  {
   "cell_type": "code",
   "execution_count": 14,
   "metadata": {},
   "outputs": [],
   "source": [
    "# df['배출가스인증번호'] = df['배출가스인증번호'].str.strip()"
   ]
  },
  {
   "cell_type": "code",
   "execution_count": 15,
   "metadata": {},
   "outputs": [],
   "source": [
    "# # 빈칸이 포함된 샘플\n",
    "# count = 0\n",
    "# for i, one in enumerate(df['배출가스인증번호']):\n",
    "#     if ' ' in str(one):\n",
    "#         print(i)\n",
    "#         count += 1\n",
    "# count"
   ]
  },
  {
   "cell_type": "code",
   "execution_count": 16,
   "metadata": {},
   "outputs": [],
   "source": [
    "# df.loc[521777, '배출가스인증번호']"
   ]
  },
  {
   "cell_type": "code",
   "execution_count": 17,
   "metadata": {},
   "outputs": [],
   "source": [
    "# df['배출가스인증번호'].isnull().sum()"
   ]
  },
  {
   "cell_type": "code",
   "execution_count": 18,
   "metadata": {},
   "outputs": [],
   "source": [
    "# df['배출가스인증번호'].unique()"
   ]
  },
  {
   "attachments": {},
   "cell_type": "markdown",
   "metadata": {},
   "source": [
    "## 중복 차대번호 제거\n",
    "- '최초등록일자', '배출가스검사유효일자' 최신 사용"
   ]
  },
  {
   "cell_type": "code",
   "execution_count": null,
   "metadata": {},
   "outputs": [],
   "source": [
    "df.shape, len(df['차대번호'].unique())"
   ]
  },
  {
   "cell_type": "code",
   "execution_count": null,
   "metadata": {},
   "outputs": [],
   "source": [
    "df = df.sort_values(['최초등록일자', '배출가스검사유효일자'], ascending=[False, False]).drop_duplicates('차대번호').reset_index(drop=True)\n",
    "df.shape"
   ]
  },
  {
   "attachments": {},
   "cell_type": "markdown",
   "metadata": {},
   "source": [
    "# 분석"
   ]
  },
  {
   "cell_type": "code",
   "execution_count": 19,
   "metadata": {},
   "outputs": [
    {
     "data": {
      "text/plain": [
       "배출가스인증번호     123698\n",
       "제원관리번호            0\n",
       "자동차형식           528\n",
       "연료               71\n",
       "차종_등록정보           2\n",
       "차종유형(소분류)         0\n",
       "dtype: int64"
      ]
     },
     "execution_count": 19,
     "metadata": {},
     "output_type": "execute_result"
    }
   ],
   "source": [
    "df[['배출가스인증번호', '제원관리번호', '자동차형식', '연료', '차종_등록정보', '차종유형(소분류)']].isnull().sum()"
   ]
  },
  {
   "cell_type": "code",
   "execution_count": 20,
   "metadata": {},
   "outputs": [
    {
     "data": {
      "text/plain": [
       "303"
      ]
     },
     "execution_count": 20,
     "metadata": {},
     "output_type": "execute_result"
    }
   ],
   "source": [
    "len(df['배출가스인증번호'].unique())"
   ]
  },
  {
   "cell_type": "code",
   "execution_count": 21,
   "metadata": {},
   "outputs": [
    {
     "data": {
      "text/plain": [
       "17387"
      ]
     },
     "execution_count": 21,
     "metadata": {},
     "output_type": "execute_result"
    }
   ],
   "source": [
    "len(df['제원관리번호'].unique())"
   ]
  },
  {
   "attachments": {},
   "cell_type": "markdown",
   "metadata": {},
   "source": [
    "## 통계(nan 값 제외)"
   ]
  },
  {
   "cell_type": "code",
   "execution_count": 22,
   "metadata": {},
   "outputs": [
    {
     "data": {
      "text/plain": [
       "Index(['차량관리번호', '차량등록번호', '본거지법정동코드', '소유자구분', '차종_등록정보', '용도', '미정1_x',\n",
       "       '현재회원번호', '미정2_x', '미정3_x', '차대번호', '최초등록일자', '차량연식', '차량제작일자',\n",
       "       '배출가스검사유효일자', '제원관리번호', '배출가스인증번호', '배출가스등급', '저공해조치YN(미사용)', '저공해조치종류',\n",
       "       '저공해조치구조변경YN', '미정4', '차량등록번호숫자정보', '차량말소YN', '미정5', '최초회원번호', '취득일자',\n",
       "       '취득금액', '미정6', '생성일시_등록정보', '수정일시_등록정보', '미정7', '차명', '차종_제원정보', '차종분류',\n",
       "       '차종유형(소분류)', '자동차형식', '제작사명', '연료', '엔진형식', '공차중량', '총중량', '적재중량',\n",
       "       '엔진출력', '배기량', '승차인원', '차량길이', '차량너비', '차량높이', '원산지명', '미정1_y', '삭제YN',\n",
       "       '승인일자', '구동형식', '변속기종류', '미정2_y', '생성일시_제원정보', '수정일시_제원정보', '미정3_y'],\n",
       "      dtype='object')"
      ]
     },
     "execution_count": 22,
     "metadata": {},
     "output_type": "execute_result"
    }
   ],
   "source": [
    "df.columns"
   ]
  },
  {
   "cell_type": "code",
   "execution_count": 23,
   "metadata": {},
   "outputs": [
    {
     "data": {
      "text/plain": [
       "(1511139, 59)"
      ]
     },
     "execution_count": 23,
     "metadata": {},
     "output_type": "execute_result"
    }
   ],
   "source": [
    "df.shape"
   ]
  },
  {
   "cell_type": "code",
   "execution_count": 24,
   "metadata": {},
   "outputs": [
    {
     "data": {
      "text/plain": [
       "배출가스인증번호   제원관리번호             자동차형식             연료           차종_등록정보  차종유형(소분류)\n",
       "3MY-FK-08  00031123015731309  MSV3-27C          휘발유          승용       대형             1\n",
       "           20018700000001     JFM 3.0 V 5 FEGX  휘발유          승용       대형             5\n",
       "           20029400000000     MSV3-27B          휘발유          승용       대형            12\n",
       "           20042500000000     MSV3-27C          휘발유          승용       대형           231\n",
       "           20042500000001     MSV3-27C          휘발유          승용       대형           202\n",
       "                                                                                  ... \n",
       "XMY-KM-47  10124800030001     FC723A            LGP(액화석유가스)  승합       중형           129\n",
       "YKM-KM-12  10016400440000     AM251L-HL         LGP(액화석유가스)  화물       경형            54\n",
       "           10016400450000     KM251L-HL         LGP(액화석유가스)  화물       경형             2\n",
       "           10150600000000     SOK0090           LGP(액화석유가스)  화물       경형            13\n",
       "           99934125020813405  AM240L-1          LGP(액화석유가스)  화물       경형             1\n",
       "Name: 차대번호, Length: 8713, dtype: int64"
      ]
     },
     "execution_count": 24,
     "metadata": {},
     "output_type": "execute_result"
    }
   ],
   "source": [
    "s1 = df.groupby(['배출가스인증번호', '제원관리번호', '자동차형식', '연료', '차종_등록정보', '차종유형(소분류)'])['차대번호'].count()\n",
    "s1"
   ]
  },
  {
   "attachments": {},
   "cell_type": "markdown",
   "metadata": {},
   "source": [
    "### [출력] 통계(nan 값 제외)"
   ]
  },
  {
   "cell_type": "code",
   "execution_count": 25,
   "metadata": {},
   "outputs": [],
   "source": [
    "s1.to_excel('analysis2/[G4][배인번호]통계.xlsx')"
   ]
  },
  {
   "attachments": {},
   "cell_type": "markdown",
   "metadata": {},
   "source": [
    "## 통계(nan 값 포함)"
   ]
  },
  {
   "cell_type": "code",
   "execution_count": 26,
   "metadata": {},
   "outputs": [],
   "source": [
    "df2 = df.copy()"
   ]
  },
  {
   "cell_type": "code",
   "execution_count": 27,
   "metadata": {},
   "outputs": [],
   "source": [
    "df2['배출가스인증번호'] = df2['배출가스인증번호'].astype('str')\n",
    "df2['제원관리번호'] = df2['제원관리번호'].astype('str')\n",
    "df2['자동차형식'] = df2['자동차형식'].astype('str')\n",
    "df2['연료'] = df2['연료'].astype('str')\n",
    "df2['차종_등록정보'] = df2['차종_등록정보'].astype('str')\n",
    "df2['차종유형(소분류)'] = df2['차종유형(소분류)'].astype('str')\n",
    "df2['차대번호'] = df2['차대번호'].astype('str')"
   ]
  },
  {
   "cell_type": "code",
   "execution_count": 28,
   "metadata": {},
   "outputs": [
    {
     "data": {
      "text/plain": [
       "0"
      ]
     },
     "execution_count": 28,
     "metadata": {},
     "output_type": "execute_result"
    }
   ],
   "source": [
    "df2['배출가스인증번호'].isnull().sum()"
   ]
  },
  {
   "cell_type": "code",
   "execution_count": 29,
   "metadata": {},
   "outputs": [
    {
     "data": {
      "text/plain": [
       "배출가스인증번호   제원관리번호             자동차형식             연료   차종_등록정보  차종유형(소분류)\n",
       "3MY-FK-08  00031123015731309  MSV3-27C          휘발유  승용       대형             1\n",
       "           20018700000001     JFM 3.0 V 5 FEGX  휘발유  승용       대형             5\n",
       "           20029400000000     MSV3-27B          휘발유  승용       대형            12\n",
       "           20042500000000     MSV3-27C          휘발유  승용       대형           231\n",
       "           20042500000001     MSV3-27C          휘발유  승용       대형           202\n",
       "                                                                          ... \n",
       "nan        BD410001600003309  SSC 320.12.04/8   경유   화물       대형             1\n",
       "           BD410001700003309  SSC 210.08.03/6   경유   화물       대형             1\n",
       "           BDV10000100003308  MTS450            경유   화물       대형             1\n",
       "           BEU10001700013310  KCT4.5PD-BC6CT1   경유   화물       대형             1\n",
       "           BRX20004100023317  FH104FTR3HA       경유   화물       대형            12\n",
       "Name: 차대번호, Length: 18019, dtype: int64"
      ]
     },
     "execution_count": 29,
     "metadata": {},
     "output_type": "execute_result"
    }
   ],
   "source": [
    "s1_1 = df2.groupby(['배출가스인증번호', '제원관리번호', '자동차형식', '연료', '차종_등록정보', '차종유형(소분류)'])['차대번호'].count()\n",
    "s1_1"
   ]
  },
  {
   "cell_type": "code",
   "execution_count": 30,
   "metadata": {},
   "outputs": [
    {
     "data": {
      "text/plain": [
       "1511139"
      ]
     },
     "execution_count": 30,
     "metadata": {},
     "output_type": "execute_result"
    }
   ],
   "source": [
    "df2.groupby(['배출가스인증번호', '제원관리번호', '자동차형식', '연료', '차종_등록정보', '차종유형(소분류)'], as_index=False)['차대번호'].count()['차대번호'].sum()"
   ]
  },
  {
   "attachments": {},
   "cell_type": "markdown",
   "metadata": {},
   "source": [
    "### [출력] 통계(nan 값 제외)"
   ]
  },
  {
   "cell_type": "code",
   "execution_count": 31,
   "metadata": {},
   "outputs": [],
   "source": [
    "s1_1.to_excel('analysis2/[G4][배인번호]통계(nan값_포함).xlsx')"
   ]
  },
  {
   "attachments": {},
   "cell_type": "markdown",
   "metadata": {},
   "source": [
    "## 통계(배인번호, 제번, 자동차형식)"
   ]
  },
  {
   "cell_type": "code",
   "execution_count": 32,
   "metadata": {},
   "outputs": [
    {
     "data": {
      "text/plain": [
       "배출가스인증번호   제원관리번호             자동차형식           \n",
       "3MY-FK-08  00031123015731309  MSV3-27C              1\n",
       "           20018700000001     JFM 3.0 V 5 FEGX      5\n",
       "           20029400000000     MSV3-27B             12\n",
       "           20042500000000     MSV3-27C            231\n",
       "           20042500000001     MSV3-27C            202\n",
       "                                                 ... \n",
       "nan        BD410001600003309  SSC 320.12.04/8       1\n",
       "           BD410001700003309  SSC 210.08.03/6       1\n",
       "           BDV10000100003308  MTS450                1\n",
       "           BEU10001700013310  KCT4.5PD-BC6CT1       1\n",
       "           BRX20004100023317  FH104FTR3HA          12\n",
       "Name: 차대번호, Length: 17617, dtype: int64"
      ]
     },
     "execution_count": 32,
     "metadata": {},
     "output_type": "execute_result"
    }
   ],
   "source": [
    "s1_2 = df2.groupby(['배출가스인증번호', '제원관리번호', '자동차형식'])['차대번호'].count()\n",
    "s1_2"
   ]
  },
  {
   "cell_type": "code",
   "execution_count": 33,
   "metadata": {},
   "outputs": [
    {
     "data": {
      "text/html": [
       "<div>\n",
       "<style scoped>\n",
       "    .dataframe tbody tr th:only-of-type {\n",
       "        vertical-align: middle;\n",
       "    }\n",
       "\n",
       "    .dataframe tbody tr th {\n",
       "        vertical-align: top;\n",
       "    }\n",
       "\n",
       "    .dataframe thead th {\n",
       "        text-align: right;\n",
       "    }\n",
       "</style>\n",
       "<table border=\"1\" class=\"dataframe\">\n",
       "  <thead>\n",
       "    <tr style=\"text-align: right;\">\n",
       "      <th></th>\n",
       "      <th>배출가스인증번호</th>\n",
       "      <th>제원관리번호</th>\n",
       "      <th>자동차형식</th>\n",
       "      <th>차대번호</th>\n",
       "    </tr>\n",
       "  </thead>\n",
       "  <tbody>\n",
       "    <tr>\n",
       "      <th>0</th>\n",
       "      <td>3MY-FK-08</td>\n",
       "      <td>00031123015731309</td>\n",
       "      <td>MSV3-27C</td>\n",
       "      <td>1</td>\n",
       "    </tr>\n",
       "    <tr>\n",
       "      <th>1</th>\n",
       "      <td>3MY-FK-08</td>\n",
       "      <td>20018700000001</td>\n",
       "      <td>JFM 3.0 V 5 FEGX</td>\n",
       "      <td>5</td>\n",
       "    </tr>\n",
       "    <tr>\n",
       "      <th>2</th>\n",
       "      <td>3MY-FK-08</td>\n",
       "      <td>20029400000000</td>\n",
       "      <td>MSV3-27B</td>\n",
       "      <td>12</td>\n",
       "    </tr>\n",
       "    <tr>\n",
       "      <th>3</th>\n",
       "      <td>3MY-FK-08</td>\n",
       "      <td>20042500000000</td>\n",
       "      <td>MSV3-27C</td>\n",
       "      <td>231</td>\n",
       "    </tr>\n",
       "    <tr>\n",
       "      <th>4</th>\n",
       "      <td>3MY-FK-08</td>\n",
       "      <td>20042500000001</td>\n",
       "      <td>MSV3-27C</td>\n",
       "      <td>202</td>\n",
       "    </tr>\n",
       "    <tr>\n",
       "      <th>...</th>\n",
       "      <td>...</td>\n",
       "      <td>...</td>\n",
       "      <td>...</td>\n",
       "      <td>...</td>\n",
       "    </tr>\n",
       "    <tr>\n",
       "      <th>17612</th>\n",
       "      <td>nan</td>\n",
       "      <td>BD410001600003309</td>\n",
       "      <td>SSC 320.12.04/8</td>\n",
       "      <td>1</td>\n",
       "    </tr>\n",
       "    <tr>\n",
       "      <th>17613</th>\n",
       "      <td>nan</td>\n",
       "      <td>BD410001700003309</td>\n",
       "      <td>SSC 210.08.03/6</td>\n",
       "      <td>1</td>\n",
       "    </tr>\n",
       "    <tr>\n",
       "      <th>17614</th>\n",
       "      <td>nan</td>\n",
       "      <td>BDV10000100003308</td>\n",
       "      <td>MTS450</td>\n",
       "      <td>1</td>\n",
       "    </tr>\n",
       "    <tr>\n",
       "      <th>17615</th>\n",
       "      <td>nan</td>\n",
       "      <td>BEU10001700013310</td>\n",
       "      <td>KCT4.5PD-BC6CT1</td>\n",
       "      <td>1</td>\n",
       "    </tr>\n",
       "    <tr>\n",
       "      <th>17616</th>\n",
       "      <td>nan</td>\n",
       "      <td>BRX20004100023317</td>\n",
       "      <td>FH104FTR3HA</td>\n",
       "      <td>12</td>\n",
       "    </tr>\n",
       "  </tbody>\n",
       "</table>\n",
       "<p>17617 rows × 4 columns</p>\n",
       "</div>"
      ],
      "text/plain": [
       "        배출가스인증번호             제원관리번호             자동차형식  차대번호\n",
       "0      3MY-FK-08  00031123015731309          MSV3-27C     1\n",
       "1      3MY-FK-08     20018700000001  JFM 3.0 V 5 FEGX     5\n",
       "2      3MY-FK-08     20029400000000          MSV3-27B    12\n",
       "3      3MY-FK-08     20042500000000          MSV3-27C   231\n",
       "4      3MY-FK-08     20042500000001          MSV3-27C   202\n",
       "...          ...                ...               ...   ...\n",
       "17612        nan  BD410001600003309   SSC 320.12.04/8     1\n",
       "17613        nan  BD410001700003309   SSC 210.08.03/6     1\n",
       "17614        nan  BDV10000100003308            MTS450     1\n",
       "17615        nan  BEU10001700013310   KCT4.5PD-BC6CT1     1\n",
       "17616        nan  BRX20004100023317       FH104FTR3HA    12\n",
       "\n",
       "[17617 rows x 4 columns]"
      ]
     },
     "execution_count": 33,
     "metadata": {},
     "output_type": "execute_result"
    }
   ],
   "source": [
    "s1_2_1 = df2.groupby(['배출가스인증번호', '제원관리번호', '자동차형식'], as_index=False)['차대번호'].count()\n",
    "s1_2_1"
   ]
  },
  {
   "cell_type": "code",
   "execution_count": 34,
   "metadata": {},
   "outputs": [
    {
     "data": {
      "text/plain": [
       "(17387, 8179)"
      ]
     },
     "execution_count": 34,
     "metadata": {},
     "output_type": "execute_result"
    }
   ],
   "source": [
    "len(s1_2_1['제원관리번호'].unique()), len(s1_2_1['자동차형식'].unique())"
   ]
  },
  {
   "attachments": {},
   "cell_type": "markdown",
   "metadata": {},
   "source": [
    "### [출력] 통계2(nan 값 제외)"
   ]
  },
  {
   "cell_type": "code",
   "execution_count": 35,
   "metadata": {},
   "outputs": [],
   "source": [
    "s1_2.to_excel('analysis2/[G4][배인번호]통계2(nan값_포함).xlsx')"
   ]
  },
  {
   "attachments": {},
   "cell_type": "markdown",
   "metadata": {},
   "source": [
    "## 통계(제번, 자동차형식)"
   ]
  },
  {
   "cell_type": "code",
   "execution_count": 36,
   "metadata": {},
   "outputs": [
    {
     "data": {
      "text/plain": [
       "제원관리번호             자동차형식      \n",
       "00030110800000304  GF-MCU15W       1\n",
       "00030112400001628  YS-25D-A1       1\n",
       "00031105000011116  XNWAY           1\n",
       "00031105000011203  202018          1\n",
       "00031105000011314  MCL943F         1\n",
       "                                  ..\n",
       "BRX20004600013317  FM104FTR3HA    49\n",
       "BRX20004700003317  FE64RB          1\n",
       "BRX20004800003317  FE64RB          1\n",
       "BZB20003100003318  FM104FTR3HA     1\n",
       "CN210001000003218  PD2WB-HD2.5     1\n",
       "Name: 차대번호, Length: 17387, dtype: int64"
      ]
     },
     "execution_count": 36,
     "metadata": {},
     "output_type": "execute_result"
    }
   ],
   "source": [
    "s1_3 = df2.groupby(['제원관리번호', '자동차형식'])['차대번호'].count()\n",
    "s1_3"
   ]
  },
  {
   "attachments": {},
   "cell_type": "markdown",
   "metadata": {},
   "source": [
    "### [출력] 통계3(nan 값 제외)"
   ]
  },
  {
   "cell_type": "code",
   "execution_count": 37,
   "metadata": {},
   "outputs": [],
   "source": [
    "s1_3.to_excel('analysis2/[G4][배인번호]통계3(nan값_포함).xlsx')"
   ]
  },
  {
   "attachments": {},
   "cell_type": "markdown",
   "metadata": {},
   "source": [
    "## 통계(자동차형식, 제번)"
   ]
  },
  {
   "cell_type": "code",
   "execution_count": 38,
   "metadata": {},
   "outputs": [
    {
     "data": {
      "text/plain": [
       "자동차형식   제원관리번호           \n",
       "0       99931107067061203    1\n",
       "        99931107067111203    1\n",
       "        99931107067161203    1\n",
       "        99931107067351203    1\n",
       "        99931107067451203    1\n",
       "                            ..\n",
       "소프린     20046200000003       1\n",
       "아스트롤벤   30410500000066       1\n",
       "엑스제이씩스  20046200000004       1\n",
       "포드픽업    00034124000053103    1\n",
       "？       30112400000670       1\n",
       "Name: 차대번호, Length: 17387, dtype: int64"
      ]
     },
     "execution_count": 38,
     "metadata": {},
     "output_type": "execute_result"
    }
   ],
   "source": [
    "s1_4 = df2.groupby(['자동차형식', '제원관리번호'])['차대번호'].count()\n",
    "s1_4"
   ]
  },
  {
   "attachments": {},
   "cell_type": "markdown",
   "metadata": {},
   "source": [
    "### [출력] 통계4(nan 값 제외)"
   ]
  },
  {
   "cell_type": "code",
   "execution_count": 39,
   "metadata": {},
   "outputs": [],
   "source": [
    "s1_4.to_excel('analysis2/[G4][배인번호]통계4(nan값_포함).xlsx')"
   ]
  },
  {
   "attachments": {},
   "cell_type": "markdown",
   "metadata": {},
   "source": [
    "## 배인번호 없는 데이터"
   ]
  },
  {
   "cell_type": "code",
   "execution_count": 40,
   "metadata": {},
   "outputs": [
    {
     "data": {
      "text/plain": [
       "(123698, 59)"
      ]
     },
     "execution_count": 40,
     "metadata": {},
     "output_type": "execute_result"
    }
   ],
   "source": [
    "df3 = df1[df1['배출가스인증번호'].isnull() == True].reset_index(drop=True)\n",
    "df3.shape"
   ]
  },
  {
   "cell_type": "code",
   "execution_count": 41,
   "metadata": {},
   "outputs": [
    {
     "data": {
      "text/plain": [
       "9199"
      ]
     },
     "execution_count": 41,
     "metadata": {},
     "output_type": "execute_result"
    }
   ],
   "source": [
    "len(df3['제원관리번호'].unique())"
   ]
  },
  {
   "attachments": {},
   "cell_type": "markdown",
   "metadata": {},
   "source": [
    "### 제번으로 매칭 가능한 샘플"
   ]
  },
  {
   "cell_type": "code",
   "execution_count": 42,
   "metadata": {},
   "outputs": [
    {
     "data": {
      "text/html": [
       "<div>\n",
       "<style scoped>\n",
       "    .dataframe tbody tr th:only-of-type {\n",
       "        vertical-align: middle;\n",
       "    }\n",
       "\n",
       "    .dataframe tbody tr th {\n",
       "        vertical-align: top;\n",
       "    }\n",
       "\n",
       "    .dataframe thead th {\n",
       "        text-align: right;\n",
       "    }\n",
       "</style>\n",
       "<table border=\"1\" class=\"dataframe\">\n",
       "  <thead>\n",
       "    <tr style=\"text-align: right;\">\n",
       "      <th></th>\n",
       "      <th>배출가스인증번호</th>\n",
       "      <th>제원관리번호</th>\n",
       "      <th>자동차형식</th>\n",
       "      <th>연료</th>\n",
       "      <th>차종_등록정보</th>\n",
       "      <th>차종유형(소분류)</th>\n",
       "      <th>차대번호</th>\n",
       "    </tr>\n",
       "  </thead>\n",
       "  <tbody>\n",
       "    <tr>\n",
       "      <th>0</th>\n",
       "      <td>3MY-FK-08</td>\n",
       "      <td>00031123015731309</td>\n",
       "      <td>MSV3-27C</td>\n",
       "      <td>휘발유</td>\n",
       "      <td>승용</td>\n",
       "      <td>대형</td>\n",
       "      <td>1</td>\n",
       "    </tr>\n",
       "    <tr>\n",
       "      <th>1</th>\n",
       "      <td>3MY-FK-08</td>\n",
       "      <td>20018700000001</td>\n",
       "      <td>JFM 3.0 V 5 FEGX</td>\n",
       "      <td>휘발유</td>\n",
       "      <td>승용</td>\n",
       "      <td>대형</td>\n",
       "      <td>5</td>\n",
       "    </tr>\n",
       "    <tr>\n",
       "      <th>2</th>\n",
       "      <td>3MY-FK-08</td>\n",
       "      <td>20029400000000</td>\n",
       "      <td>MSV3-27B</td>\n",
       "      <td>휘발유</td>\n",
       "      <td>승용</td>\n",
       "      <td>대형</td>\n",
       "      <td>12</td>\n",
       "    </tr>\n",
       "    <tr>\n",
       "      <th>3</th>\n",
       "      <td>3MY-FK-08</td>\n",
       "      <td>20042500000000</td>\n",
       "      <td>MSV3-27C</td>\n",
       "      <td>휘발유</td>\n",
       "      <td>승용</td>\n",
       "      <td>대형</td>\n",
       "      <td>231</td>\n",
       "    </tr>\n",
       "    <tr>\n",
       "      <th>4</th>\n",
       "      <td>3MY-FK-08</td>\n",
       "      <td>20042500000001</td>\n",
       "      <td>MSV3-27C</td>\n",
       "      <td>휘발유</td>\n",
       "      <td>승용</td>\n",
       "      <td>대형</td>\n",
       "      <td>202</td>\n",
       "    </tr>\n",
       "    <tr>\n",
       "      <th>...</th>\n",
       "      <td>...</td>\n",
       "      <td>...</td>\n",
       "      <td>...</td>\n",
       "      <td>...</td>\n",
       "      <td>...</td>\n",
       "      <td>...</td>\n",
       "      <td>...</td>\n",
       "    </tr>\n",
       "    <tr>\n",
       "      <th>8708</th>\n",
       "      <td>XMY-KM-47</td>\n",
       "      <td>10124800030001</td>\n",
       "      <td>FC723A</td>\n",
       "      <td>LGP(액화석유가스)</td>\n",
       "      <td>승합</td>\n",
       "      <td>중형</td>\n",
       "      <td>129</td>\n",
       "    </tr>\n",
       "    <tr>\n",
       "      <th>8709</th>\n",
       "      <td>YKM-KM-12</td>\n",
       "      <td>10016400440000</td>\n",
       "      <td>AM251L-HL</td>\n",
       "      <td>LGP(액화석유가스)</td>\n",
       "      <td>화물</td>\n",
       "      <td>경형</td>\n",
       "      <td>54</td>\n",
       "    </tr>\n",
       "    <tr>\n",
       "      <th>8710</th>\n",
       "      <td>YKM-KM-12</td>\n",
       "      <td>10016400450000</td>\n",
       "      <td>KM251L-HL</td>\n",
       "      <td>LGP(액화석유가스)</td>\n",
       "      <td>화물</td>\n",
       "      <td>경형</td>\n",
       "      <td>2</td>\n",
       "    </tr>\n",
       "    <tr>\n",
       "      <th>8711</th>\n",
       "      <td>YKM-KM-12</td>\n",
       "      <td>10150600000000</td>\n",
       "      <td>SOK0090</td>\n",
       "      <td>LGP(액화석유가스)</td>\n",
       "      <td>화물</td>\n",
       "      <td>경형</td>\n",
       "      <td>13</td>\n",
       "    </tr>\n",
       "    <tr>\n",
       "      <th>8712</th>\n",
       "      <td>YKM-KM-12</td>\n",
       "      <td>99934125020813405</td>\n",
       "      <td>AM240L-1</td>\n",
       "      <td>LGP(액화석유가스)</td>\n",
       "      <td>화물</td>\n",
       "      <td>경형</td>\n",
       "      <td>1</td>\n",
       "    </tr>\n",
       "  </tbody>\n",
       "</table>\n",
       "<p>8713 rows × 7 columns</p>\n",
       "</div>"
      ],
      "text/plain": [
       "       배출가스인증번호             제원관리번호             자동차형식           연료 차종_등록정보  \\\n",
       "0     3MY-FK-08  00031123015731309          MSV3-27C          휘발유      승용   \n",
       "1     3MY-FK-08     20018700000001  JFM 3.0 V 5 FEGX          휘발유      승용   \n",
       "2     3MY-FK-08     20029400000000          MSV3-27B          휘발유      승용   \n",
       "3     3MY-FK-08     20042500000000          MSV3-27C          휘발유      승용   \n",
       "4     3MY-FK-08     20042500000001          MSV3-27C          휘발유      승용   \n",
       "...         ...                ...               ...          ...     ...   \n",
       "8708  XMY-KM-47     10124800030001            FC723A  LGP(액화석유가스)      승합   \n",
       "8709  YKM-KM-12     10016400440000         AM251L-HL  LGP(액화석유가스)      화물   \n",
       "8710  YKM-KM-12     10016400450000         KM251L-HL  LGP(액화석유가스)      화물   \n",
       "8711  YKM-KM-12     10150600000000           SOK0090  LGP(액화석유가스)      화물   \n",
       "8712  YKM-KM-12  99934125020813405          AM240L-1  LGP(액화석유가스)      화물   \n",
       "\n",
       "     차종유형(소분류)  차대번호  \n",
       "0           대형     1  \n",
       "1           대형     5  \n",
       "2           대형    12  \n",
       "3           대형   231  \n",
       "4           대형   202  \n",
       "...        ...   ...  \n",
       "8708        중형   129  \n",
       "8709        경형    54  \n",
       "8710        경형     2  \n",
       "8711        경형    13  \n",
       "8712        경형     1  \n",
       "\n",
       "[8713 rows x 7 columns]"
      ]
     },
     "execution_count": 42,
     "metadata": {},
     "output_type": "execute_result"
    }
   ],
   "source": [
    "s1_reset = df1.groupby(['배출가스인증번호', '제원관리번호', '자동차형식', '연료', '차종_등록정보', '차종유형(소분류)'], as_index=False)['차대번호'].count()\n",
    "s1_reset"
   ]
  },
  {
   "cell_type": "code",
   "execution_count": 43,
   "metadata": {},
   "outputs": [
    {
     "data": {
      "text/plain": [
       "8184"
      ]
     },
     "execution_count": 43,
     "metadata": {},
     "output_type": "execute_result"
    }
   ],
   "source": [
    "len(s1_reset['제원관리번호'].unique())"
   ]
  },
  {
   "cell_type": "code",
   "execution_count": 44,
   "metadata": {},
   "outputs": [
    {
     "data": {
      "text/plain": [
       "['A0810007000311307',\n",
       " 'A0810005207533307',\n",
       " 'A0410000500051207',\n",
       " 'B3C10016600003307',\n",
       " 'B1R10005100003308',\n",
       " 'A0710001100361207']"
      ]
     },
     "execution_count": 44,
     "metadata": {},
     "output_type": "execute_result"
    }
   ],
   "source": [
    "inter = list(set(s1_reset['제원관리번호']) & set(df3['제원관리번호']))\n",
    "inter"
   ]
  },
  {
   "cell_type": "code",
   "execution_count": 45,
   "metadata": {},
   "outputs": [
    {
     "data": {
      "text/plain": [
       "(6, 59)"
      ]
     },
     "execution_count": 45,
     "metadata": {},
     "output_type": "execute_result"
    }
   ],
   "source": [
    "inter_df = pd.DataFrame()\n",
    "for one in inter:\n",
    "    inter_df = pd.concat([ inter_df, df3[df3['제원관리번호'] == one] ], ignore_index=True)\n",
    "inter_df.shape"
   ]
  },
  {
   "cell_type": "code",
   "execution_count": 46,
   "metadata": {},
   "outputs": [
    {
     "data": {
      "text/plain": [
       "제원관리번호             자동차형식              연료  차종_등록정보  차종유형(소분류)\n",
       "A0410000500051207  H1D20-VC-0-22      경유  승용       중형           1\n",
       "A0710001100361207  CA26R              경유  승용       중형           1\n",
       "A0810005207533307  HD5CT-8SGd-Z1      경유  화물       대형           1\n",
       "A0810007000311307  EN-7RS2DAF8-1      경유  승용       대형           1\n",
       "B1R10005100003308  RS07GMS2           경유  화물       대형           1\n",
       "B3C10016600003307  K4.5C2-7TD-H4.5EU  경유  화물       대형           1\n",
       "Name: 차대번호, dtype: int64"
      ]
     },
     "execution_count": 46,
     "metadata": {},
     "output_type": "execute_result"
    }
   ],
   "source": [
    "inter_df.groupby(['제원관리번호', '자동차형식', '연료', '차종_등록정보', '차종유형(소분류)'])['차대번호'].count()"
   ]
  },
  {
   "attachments": {},
   "cell_type": "markdown",
   "metadata": {},
   "source": [
    "#### [출력] 배인번호 없는 샘플 중 제번으로 매칭 가능한 샘플"
   ]
  },
  {
   "cell_type": "code",
   "execution_count": 47,
   "metadata": {},
   "outputs": [],
   "source": [
    "inter_df.groupby(['제원관리번호', '자동차형식', '연료', '차종_등록정보', '차종유형(소분류)'])['차대번호'].count().to_excel('analysis2/[G4][배인번호]매칭가능_미부여_통계.xlsx')"
   ]
  },
  {
   "attachments": {},
   "cell_type": "markdown",
   "metadata": {},
   "source": [
    "### 제번으로 매칭 불가능 샘플"
   ]
  },
  {
   "cell_type": "code",
   "execution_count": 48,
   "metadata": {},
   "outputs": [
    {
     "data": {
      "text/plain": [
       "9193"
      ]
     },
     "execution_count": 48,
     "metadata": {},
     "output_type": "execute_result"
    }
   ],
   "source": [
    "diff = list( set(df3['제원관리번호']) - set(s1_reset['제원관리번호']) )\n",
    "len(diff)"
   ]
  },
  {
   "cell_type": "code",
   "execution_count": 49,
   "metadata": {},
   "outputs": [
    {
     "name": "stderr",
     "output_type": "stream",
     "text": [
      "100%|██████████| 9193/9193 [06:36<00:00, 23.18it/s]\n"
     ]
    },
    {
     "data": {
      "text/plain": [
       "(123692, 59)"
      ]
     },
     "execution_count": 49,
     "metadata": {},
     "output_type": "execute_result"
    }
   ],
   "source": [
    "diff_df = pd.DataFrame()\n",
    "for one in tqdm(diff):\n",
    "    diff_df = pd.concat([ diff_df, df3[df3['제원관리번호'] == one] ], ignore_index=True)\n",
    "diff_df.shape"
   ]
  },
  {
   "cell_type": "code",
   "execution_count": 50,
   "metadata": {},
   "outputs": [
    {
     "data": {
      "text/plain": [
       "제원관리번호             자동차형식            연료   차종_등록정보  차종유형(소분류)\n",
       "00030110800000304  GF-MCU15W        휘발유  승용       대형            1\n",
       "00030112400001628  YS-25D-A1        휘발유  승용       대형            1\n",
       "00031105000011116  XNWAY            휘발유  승용       소형            1\n",
       "00031105000011203  202018           휘발유  승용       중형            1\n",
       "00031105000011412  AK00F            경유   승용       경형            1\n",
       "                                                               ..\n",
       "BD410001600003309  SSC 320.12.04/8  경유   화물       대형            1\n",
       "BD410001700003309  SSC 210.08.03/6  경유   화물       대형            1\n",
       "BDV10000100003308  MTS450           경유   화물       대형            1\n",
       "BEU10001700013310  KCT4.5PD-BC6CT1  경유   화물       대형            1\n",
       "BRX20004100023317  FH104FTR3HA      경유   화물       대형           12\n",
       "Name: 차대번호, Length: 8760, dtype: int64"
      ]
     },
     "execution_count": 50,
     "metadata": {},
     "output_type": "execute_result"
    }
   ],
   "source": [
    "diff_df.groupby(['제원관리번호', '자동차형식', '연료', '차종_등록정보', '차종유형(소분류)'])['차대번호'].count()"
   ]
  },
  {
   "attachments": {},
   "cell_type": "markdown",
   "metadata": {},
   "source": [
    "#### [출력] 배인번호 없는 샘플 중 제번으로 매칭 불가능한 샘플"
   ]
  },
  {
   "cell_type": "code",
   "execution_count": 51,
   "metadata": {},
   "outputs": [],
   "source": [
    "diff_df.groupby(['제원관리번호', '자동차형식', '연료', '차종_등록정보', '차종유형(소분류)'])['차대번호'].count().to_excel('analysis2/[G4][배인번호]매칭불가능_미부여_통계.xlsx')"
   ]
  },
  {
   "attachments": {},
   "cell_type": "markdown",
   "metadata": {},
   "source": [
    "## 통계(시험방법별, 엔진형식별, 합격/불합격별, 차량대수 및 검사건수)"
   ]
  },
  {
   "cell_type": "code",
   "execution_count": null,
   "metadata": {},
   "outputs": [],
   "source": [
    "# 정기&정밀 병합\n",
    "tin = pd.concat([ins, dins], ignore_index=True)\n",
    "tin.shape"
   ]
  },
  {
   "cell_type": "code",
   "execution_count": null,
   "metadata": {},
   "outputs": [],
   "source": [
    "tin.columns"
   ]
  },
  {
   "cell_type": "code",
   "execution_count": null,
   "metadata": {},
   "outputs": [],
   "source": [
    "tin['']"
   ]
  },
  {
   "cell_type": "code",
   "execution_count": null,
   "metadata": {},
   "outputs": [],
   "source": [
    "# 최근 3년 최신 검사만 사용\n",
    "tin.sort_values"
   ]
  },
  {
   "attachments": {},
   "cell_type": "markdown",
   "metadata": {},
   "source": [
    "# 코드 마지막"
   ]
  }
 ],
 "metadata": {
  "kernelspec": {
   "display_name": "base",
   "language": "python",
   "name": "python3"
  },
  "language_info": {
   "codemirror_mode": {
    "name": "ipython",
    "version": 3
   },
   "file_extension": ".py",
   "mimetype": "text/x-python",
   "name": "python",
   "nbconvert_exporter": "python",
   "pygments_lexer": "ipython3",
   "version": "3.9.13"
  },
  "orig_nbformat": 4,
  "vscode": {
   "interpreter": {
    "hash": "ad2bdc8ecc057115af97d19610ffacc2b4e99fae6737bb82f5d7fb13d2f2c186"
   }
  }
 },
 "nbformat": 4,
 "nbformat_minor": 2
}
