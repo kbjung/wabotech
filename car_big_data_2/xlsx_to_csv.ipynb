{
 "cells": [
  {
   "cell_type": "code",
   "execution_count": 1,
   "metadata": {},
   "outputs": [],
   "source": [
    "import pandas as pd\n",
    "import os"
   ]
  },
  {
   "cell_type": "code",
   "execution_count": 2,
   "metadata": {},
   "outputs": [],
   "source": [
    "drive = 'D'"
   ]
  },
  {
   "cell_type": "code",
   "execution_count": 3,
   "metadata": {},
   "outputs": [],
   "source": [
    "df1_fold = f'{drive}:/data/big2/BD1/df'\n",
    "df3_fold = f'{drive}:/data/big2/BD3/df'"
   ]
  },
  {
   "cell_type": "code",
   "execution_count": 13,
   "metadata": {},
   "outputs": [
    {
     "name": "stdout",
     "output_type": "stream",
     "text": [
      "<class 'pandas.core.frame.DataFrame'>\n",
      "RangeIndex: 5 entries, 0 to 4\n",
      "Data columns (total 7 columns):\n",
      " #   Column               Non-Null Count  Dtype  \n",
      "---  ------               --------------  -----  \n",
      " 0   LIST                 5 non-null      object \n",
      " 1   NOLOD_SMO_MEVLU1     5 non-null      float64\n",
      " 2   DY_AVRG_DRVNG_DSTNC  5 non-null      float64\n",
      " 3   RCNT_INSP_ELPSD_WHL  5 non-null      float64\n",
      " 4   RUN_LMT_CRDN_INFO    5 non-null      float64\n",
      " 5   SPRT_CST             5 non-null      float64\n",
      " 6   TOT_WGHT             5 non-null      float64\n",
      "dtypes: float64(6), object(1)\n",
      "memory usage: 408.0+ bytes\n"
     ]
    }
   ],
   "source": [
    "# about \n",
    "name = 'STD_BD_GRD4_DS_CRRLTN_CFFCNT'\n",
    "file_name = f'{name}.xlsx'\n",
    "df = pd.read_excel(os.path.join(df3_fold, file_name))\n",
    "df.info()"
   ]
  },
  {
   "cell_type": "code",
   "execution_count": 14,
   "metadata": {},
   "outputs": [],
   "source": [
    "df.to_csv(os.path.join(df3_fold, f'{name}.csv'), index=False)"
   ]
  },
  {
   "cell_type": "code",
   "execution_count": null,
   "metadata": {},
   "outputs": [],
   "source": []
  }
 ],
 "metadata": {
  "kernelspec": {
   "display_name": "base",
   "language": "python",
   "name": "python3"
  },
  "language_info": {
   "codemirror_mode": {
    "name": "ipython",
    "version": 3
   },
   "file_extension": ".py",
   "mimetype": "text/x-python",
   "name": "python",
   "nbconvert_exporter": "python",
   "pygments_lexer": "ipython3",
   "version": "3.9.13"
  },
  "orig_nbformat": 4
 },
 "nbformat": 4,
 "nbformat_minor": 2
}
