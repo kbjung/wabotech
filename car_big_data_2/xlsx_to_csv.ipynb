{
 "cells": [
  {
   "cell_type": "code",
   "execution_count": 1,
   "metadata": {},
   "outputs": [],
   "source": [
    "import pandas as pd\n",
    "import os\n",
    "from glob import glob"
   ]
  },
  {
   "cell_type": "code",
   "execution_count": 2,
   "metadata": {},
   "outputs": [],
   "source": [
    "drive = 'D'"
   ]
  },
  {
   "attachments": {},
   "cell_type": "markdown",
   "metadata": {},
   "source": [
    "# FOLD"
   ]
  },
  {
   "cell_type": "code",
   "execution_count": 14,
   "metadata": {},
   "outputs": [],
   "source": [
    "ods_fold = f'{drive}:/data/big2/ods'\n",
    "df1_fold = f'{drive}:/data/big2/BD1/df'\n",
    "raw1_fold = f'{drive}:/data/big2/BD1/raw'\n",
    "df3_fold = f'{drive}:/data/big2/BD3/df'"
   ]
  },
  {
   "cell_type": "code",
   "execution_count": 4,
   "metadata": {},
   "outputs": [],
   "source": [
    "def etoc(name, fold):\n",
    "    file_name = f'{name}.xlsx'\n",
    "    df = pd.read_excel(os.path.join(fold, file_name))\n",
    "    df.to_csv(os.path.join(fold, f'{name}.csv'), index=False)\n",
    "    print(os.path.join(fold, f'{name}.csv 출력완료.'))"
   ]
  },
  {
   "cell_type": "code",
   "execution_count": 5,
   "metadata": {},
   "outputs": [],
   "source": [
    "def ctoc(name, fold):\n",
    "    file_name = f'{name}.csv'\n",
    "    df = pd.read_csv(os.path.join(fold, file_name), encoding='cp949')\n",
    "    df.to_csv(os.path.join(fold, f'{name}.csv'), index=False)\n",
    "    print(os.path.join(fold, f'{name}.csv 출력완료.'))"
   ]
  },
  {
   "cell_type": "code",
   "execution_count": 6,
   "metadata": {},
   "outputs": [],
   "source": [
    "def multi_etoc(fold):\n",
    "    for file_name in glob(os.path.join(fold, '*.xlsx')):\n",
    "        name = file_name.split('\\\\')[-1]\n",
    "        csv_name = name.split('.')[0] + '.csv'\n",
    "        df = pd.read_excel(os.path.join(fold, name))\n",
    "        df.to_csv(os.path.join(fold, csv_name), index=False)\n",
    "        print(os.path.join(fold, csv_name), '출력완료.')"
   ]
  },
  {
   "cell_type": "code",
   "execution_count": 9,
   "metadata": {},
   "outputs": [
    {
     "name": "stdout",
     "output_type": "stream",
     "text": [
      "D:/data/big2/BD1/df\\STD_BD_FUEL_GRD_VHCL_CURSTT_PRET.csv 출력완료.\n"
     ]
    }
   ],
   "source": [
    "name = 'STD_BD_FUEL_GRD_VHCL_CURSTT_PRET'\n",
    "fold = df1_fold\n",
    "etoc(name, fold)"
   ]
  },
  {
   "cell_type": "code",
   "execution_count": 22,
   "metadata": {},
   "outputs": [
    {
     "name": "stdout",
     "output_type": "stream",
     "text": [
      "D:/data/big2/BD1/raw\\용도별_차종별_시군구별_자동차1일평균주행거리(2021).csv 출력완료.\n"
     ]
    }
   ],
   "source": [
    "name = '용도별_차종별_시군구별_자동차1일평균주행거리(2021)'\n",
    "fold = raw1_fold\n",
    "etoc(name, fold)"
   ]
  },
  {
   "cell_type": "code",
   "execution_count": 8,
   "metadata": {},
   "outputs": [
    {
     "name": "stdout",
     "output_type": "stream",
     "text": [
      "D:/data/big2/BD3/df\\STD_BD_ECO_CAR_PRET.csv 출력완료.\n"
     ]
    }
   ],
   "source": [
    "name = 'STD_BD_ECO_CAR_PRET'\n",
    "fold = df3_fold\n",
    "ctoc(name, fold)"
   ]
  },
  {
   "cell_type": "code",
   "execution_count": 22,
   "metadata": {},
   "outputs": [
    {
     "name": "stdout",
     "output_type": "stream",
     "text": [
      "D:/data/big2/BD3/df\\STD_BD_CAR_CURSTT_MOD.csv 출력완료.\n",
      "D:/data/big2/BD3/df\\STD_BD_CAR_CURSTT_MOD2.csv 출력완료.\n",
      "D:/data/big2/BD3/df\\STD_BD_CAR_PRET.csv 출력완료.\n",
      "D:/data/big2/BD3/df\\STD_BD_CAR_REG_MKCNT.csv 출력완료.\n",
      "D:/data/big2/BD3/df\\STD_BD_ECO_CAR_PRET.csv 출력완료.\n",
      "D:/data/big2/BD3/df\\STD_BD_GRD4_DS_CRRLTN_CFFCNT.csv 출력완료.\n",
      "D:/data/big2/BD3/df\\STD_BD_GRD5_DS_DPF_CRRLTN_CFFCNT.csv 출력완료.\n",
      "D:/data/big2/BD3/df\\STD_BD_GRD5_DS_ELPDSRC_CRRLTN_CFFCNT.csv 출력완료.\n",
      "D:/data/big2/BD3/df\\STD_BD_GRD5_ELPDSRC_CURSTT.csv 출력완료.\n",
      "D:/data/big2/BD3/df\\STD_BD_GRD5_LEM_N_MOD.csv 출력완료.\n"
     ]
    }
   ],
   "source": [
    "multi_etoc(df3_fold)"
   ]
  },
  {
   "cell_type": "code",
   "execution_count": 21,
   "metadata": {},
   "outputs": [
    {
     "name": "stdout",
     "output_type": "stream",
     "text": [
      "<class 'pandas.core.frame.DataFrame'>\n",
      "RangeIndex: 7 entries, 0 to 6\n",
      "Data columns (total 9 columns):\n",
      " #   Column               Non-Null Count  Dtype  \n",
      "---  ------               --------------  -----  \n",
      " 0   LIST                 7 non-null      object \n",
      " 1   NOLOD_SMO_MEVLU1     7 non-null      float64\n",
      " 2   DY_AVRG_DRVNG_DSTNC  7 non-null      float64\n",
      " 3   RCNT_INSP_ELPSD_WHL  7 non-null      float64\n",
      " 4   RUN_LMT_CRDN_INFO    7 non-null      float64\n",
      " 5   SPRT_CST_ELPDSRC     7 non-null      float64\n",
      " 6   DSPLVL               7 non-null      float64\n",
      " 7   TOTL_WGHT            7 non-null      float64\n",
      " 8   TOT_CRRLTN_CFFCNT    7 non-null      float64\n",
      "dtypes: float64(8), object(1)\n",
      "memory usage: 632.0+ bytes\n"
     ]
    }
   ],
   "source": [
    "# about \n",
    "name = 'STD_BD_GRD5_DS_ELPDSRC_CRRLTN_CFFCNT'\n",
    "file_name = f'{name}.xlsx'\n",
    "df = pd.read_excel(os.path.join(df1_fold, file_name))\n",
    "df.info()"
   ]
  },
  {
   "cell_type": "code",
   "execution_count": 7,
   "metadata": {},
   "outputs": [
    {
     "name": "stdout",
     "output_type": "stream",
     "text": [
      "<class 'pandas.core.frame.DataFrame'>\n",
      "RangeIndex: 163294 entries, 0 to 163293\n",
      "Data columns (total 9 columns):\n",
      " #   Column  Non-Null Count   Dtype  \n",
      "---  ------  --------------   -----  \n",
      " 0   적발지역    163294 non-null  object \n",
      " 1   적발시도    163294 non-null  object \n",
      " 2   차대번호    163294 non-null  object \n",
      " 3   계절제_1차  39111 non-null   float64\n",
      " 4   계절제_2차  58088 non-null   float64\n",
      " 5   계절제_3차  73775 non-null   float64\n",
      " 6   계절제_4차  31673 non-null   float64\n",
      " 7   차종      162378 non-null  object \n",
      " 8   차종유형    162378 non-null  object \n",
      "dtypes: float64(4), object(5)\n",
      "memory usage: 11.2+ MB\n"
     ]
    }
   ],
   "source": [
    "# about \n",
    "name = '계절제 적발지역 차대번호'\n",
    "file_name = f'{name}.csv'\n",
    "df = pd.read_csv(os.path.join(df3_fold, file_name), encoding='cp949')\n",
    "df.info()"
   ]
  },
  {
   "cell_type": "code",
   "execution_count": 8,
   "metadata": {},
   "outputs": [
    {
     "data": {
      "text/plain": [
       "Index(['적발지역', '적발시도', '차대번호', '계절제_1차', '계절제_2차', '계절제_3차', '계절제_4차', '차종',\n",
       "       '차종유형'],\n",
       "      dtype='object')"
      ]
     },
     "execution_count": 8,
     "metadata": {},
     "output_type": "execute_result"
    }
   ],
   "source": [
    "df.columns"
   ]
  },
  {
   "cell_type": "code",
   "execution_count": 9,
   "metadata": {},
   "outputs": [],
   "source": [
    "chc_dict = {\n",
    "    '적발지역':'DSCL_RGN',\n",
    "    '적발시도':'DSCL_CTPV',\n",
    "    '차대번호':'VIN',\n",
    "    '계절제_1차':'SEASON_1ODR_CRDN_NOCS',\n",
    "    '계절제_2차':'SEASON_2ODR_CRDN_NOCS',\n",
    "    '계절제_3차':'SEASON_3ODR_CRDN_NOCS',\n",
    "    '계절제_4차':'SEASON_4ODR_CRDN_NOCS',\n",
    "    '차종':'VHCTY_CD',\n",
    "    '차종유형':'VHCTY_TY',\n",
    "            }"
   ]
  },
  {
   "cell_type": "code",
   "execution_count": 10,
   "metadata": {},
   "outputs": [
    {
     "data": {
      "text/plain": [
       "Index(['DSCL_RGN', 'DSCL_CTPV', 'VIN', 'SEASON_1ODR_CRDN_NOCS',\n",
       "       'SEASON_2ODR_CRDN_NOCS', 'SEASON_3ODR_CRDN_NOCS',\n",
       "       'SEASON_4ODR_CRDN_NOCS', 'VHCTY_CD', 'VHCTY_TY'],\n",
       "      dtype='object')"
      ]
     },
     "execution_count": 10,
     "metadata": {},
     "output_type": "execute_result"
    }
   ],
   "source": [
    "df = df.rename(columns=chc_dict)\n",
    "df.columns"
   ]
  },
  {
   "cell_type": "code",
   "execution_count": 11,
   "metadata": {},
   "outputs": [],
   "source": [
    "df.to_csv(os.path.join(df3_fold, f'{name}.csv'), index=False)"
   ]
  },
  {
   "cell_type": "code",
   "execution_count": null,
   "metadata": {},
   "outputs": [],
   "source": []
  },
  {
   "cell_type": "code",
   "execution_count": 12,
   "metadata": {},
   "outputs": [
    {
     "name": "stdout",
     "output_type": "stream",
     "text": [
      "<class 'pandas.core.frame.DataFrame'>\n",
      "RangeIndex: 153422 entries, 0 to 153421\n",
      "Data columns (total 10 columns):\n",
      " #   Column   Non-Null Count   Dtype  \n",
      "---  ------   --------------   -----  \n",
      " 0   VIN      153422 non-null  object \n",
      " 1   계절제_1차   37861 non-null   float64\n",
      " 2   계절제_2차   54788 non-null   float64\n",
      " 3   계절제_3차   68278 non-null   float64\n",
      " 4   계절제_4차   29307 non-null   float64\n",
      " 5   지역       152547 non-null  object \n",
      " 6   시도       152547 non-null  object \n",
      " 7   DPF부착유무  153422 non-null  object \n",
      " 8   차종       152547 non-null  object \n",
      " 9   차종유형     152547 non-null  object \n",
      "dtypes: float64(4), object(6)\n",
      "memory usage: 11.7+ MB\n"
     ]
    }
   ],
   "source": [
    "# about \n",
    "name = '차대번호별 적발건수, 지역, 차종'\n",
    "file_name = f'{name}.csv'\n",
    "df = pd.read_csv(os.path.join(df3_fold, file_name), encoding='cp949')\n",
    "df.info()"
   ]
  },
  {
   "cell_type": "code",
   "execution_count": 13,
   "metadata": {},
   "outputs": [
    {
     "data": {
      "text/plain": [
       "Index(['VIN', '계절제_1차', '계절제_2차', '계절제_3차', '계절제_4차', '지역', '시도', 'DPF부착유무',\n",
       "       '차종', '차종유형'],\n",
       "      dtype='object')"
      ]
     },
     "execution_count": 13,
     "metadata": {},
     "output_type": "execute_result"
    }
   ],
   "source": [
    "df.columns"
   ]
  },
  {
   "cell_type": "code",
   "execution_count": 14,
   "metadata": {},
   "outputs": [],
   "source": [
    "chc_dict = {\n",
    "    '차대번호':'VIN',\n",
    "    '계절제_1차':'SEASON_1ODR_CRDN_NOCS',\n",
    "    '계절제_2차':'SEASON_2ODR_CRDN_NOCS',\n",
    "    '계절제_3차':'SEASON_3ODR_CRDN_NOCS',\n",
    "    '계절제_4차':'SEASON_4ODR_CRDN_NOCS',\n",
    "    '지역':'RGN',\n",
    "    '시도':'CTPV',\n",
    "    'DPF부착유무':'DPF_EXTRNS_YN',\n",
    "    '차종':'VHCTY_CD',\n",
    "    '차종유형':'VHCTY_TY',\n",
    "            }"
   ]
  },
  {
   "cell_type": "code",
   "execution_count": 15,
   "metadata": {},
   "outputs": [
    {
     "data": {
      "text/plain": [
       "Index(['VIN', 'SEASON_1ODR_CRDN_NOCS', 'SEASON_2ODR_CRDN_NOCS',\n",
       "       'SEASON_3ODR_CRDN_NOCS', 'SEASON_4ODR_CRDN_NOCS', 'RGN', 'CTPV',\n",
       "       'DPF_EXTRNS_YN', 'VHCTY_CD', 'VHCTY_TY'],\n",
       "      dtype='object')"
      ]
     },
     "execution_count": 15,
     "metadata": {},
     "output_type": "execute_result"
    }
   ],
   "source": [
    "df = df.rename(columns=chc_dict)\n",
    "df.columns"
   ]
  },
  {
   "cell_type": "code",
   "execution_count": 16,
   "metadata": {},
   "outputs": [],
   "source": [
    "df.to_csv(os.path.join(df3_fold, f'{name}.csv'), index=False)"
   ]
  },
  {
   "cell_type": "code",
   "execution_count": null,
   "metadata": {},
   "outputs": [],
   "source": []
  },
  {
   "cell_type": "code",
   "execution_count": null,
   "metadata": {},
   "outputs": [],
   "source": [
    "name = '용도별_차종별_시군구별_자동차1일평균주행거리(2021)'\n",
    "fold = raw1_fold\n",
    "etoc(name, fold)"
   ]
  },
  {
   "cell_type": "code",
   "execution_count": 23,
   "metadata": {},
   "outputs": [
    {
     "name": "stdout",
     "output_type": "stream",
     "text": [
      "<class 'pandas.core.frame.DataFrame'>\n",
      "RangeIndex: 1230 entries, 0 to 1229\n",
      "Data columns (total 4 columns):\n",
      " #   Column  Non-Null Count  Dtype  \n",
      "---  ------  --------------  -----  \n",
      " 0   시도명     1230 non-null   object \n",
      " 1   시군구명    1230 non-null   object \n",
      " 2   차종      1230 non-null   object \n",
      " 3   전체      1230 non-null   float64\n",
      "dtypes: float64(1), object(3)\n",
      "memory usage: 38.6+ KB\n"
     ]
    }
   ],
   "source": [
    "# about \n",
    "name = '용도별_차종별_시군구별_자동차1일평균주행거리(2021)'\n",
    "file_name = f'{name}.csv'\n",
    "df = pd.read_csv(os.path.join(raw1_fold, file_name))\n",
    "df.info()"
   ]
  },
  {
   "cell_type": "code",
   "execution_count": 24,
   "metadata": {},
   "outputs": [
    {
     "data": {
      "text/plain": [
       "Index(['시도명', '시군구명', '차종', '전체'], dtype='object')"
      ]
     },
     "execution_count": 24,
     "metadata": {},
     "output_type": "execute_result"
    }
   ],
   "source": [
    "df.columns"
   ]
  },
  {
   "cell_type": "code",
   "execution_count": 25,
   "metadata": {},
   "outputs": [],
   "source": [
    "chc_dict = {\n",
    "    '시도명':'CTPV', \n",
    "    '시군구명':'SGG', \n",
    "    '차종':'VHCTY_CD', \n",
    "    '전체':'DY_AVRG_DRVNG_DSTNC',\n",
    "            }"
   ]
  },
  {
   "cell_type": "code",
   "execution_count": 26,
   "metadata": {},
   "outputs": [
    {
     "data": {
      "text/plain": [
       "Index(['CTPV', 'SGG', 'VHCTY_CD', 'DY_AVRG_DRVNG_DSTNC'], dtype='object')"
      ]
     },
     "execution_count": 26,
     "metadata": {},
     "output_type": "execute_result"
    }
   ],
   "source": [
    "df = df.rename(columns=chc_dict)\n",
    "df.columns"
   ]
  },
  {
   "cell_type": "code",
   "execution_count": 13,
   "metadata": {},
   "outputs": [],
   "source": [
    "df.to_csv(os.path.join(raw1_fold, f'{name}.csv'), index=False)"
   ]
  },
  {
   "cell_type": "code",
   "execution_count": null,
   "metadata": {},
   "outputs": [],
   "source": []
  },
  {
   "cell_type": "code",
   "execution_count": 16,
   "metadata": {},
   "outputs": [
    {
     "name": "stdout",
     "output_type": "stream",
     "text": [
      "<class 'pandas.core.frame.DataFrame'>\n",
      "RangeIndex: 111071 entries, 0 to 111070\n",
      "Data columns (total 6 columns):\n",
      " #   Column    Non-Null Count   Dtype  \n",
      "---  ------    --------------   -----  \n",
      " 0   저감장치      111071 non-null  object \n",
      " 1   배출가스인증번호  111071 non-null  object \n",
      " 2   장치일련번호    111071 non-null  object \n",
      " 3   장치인증번호    303 non-null     object \n",
      " 4   장치구분      261 non-null     object \n",
      " 5   저감효율      303 non-null     float64\n",
      "dtypes: float64(1), object(5)\n",
      "memory usage: 5.1+ MB\n"
     ]
    }
   ],
   "source": [
    "# about \n",
    "name = '저감장치_효율(2022.12.28)'\n",
    "file_name = f'{name}.csv'\n",
    "df = pd.read_csv(os.path.join(ods_fold, file_name), encoding='cp949')\n",
    "df.info()"
   ]
  },
  {
   "cell_type": "code",
   "execution_count": 17,
   "metadata": {},
   "outputs": [
    {
     "data": {
      "text/plain": [
       "Index(['저감장치', '배출가스인증번호', '장치일련번호', '장치인증번호', '장치구분', '저감효율'], dtype='object')"
      ]
     },
     "execution_count": 17,
     "metadata": {},
     "output_type": "execute_result"
    }
   ],
   "source": [
    "df.columns"
   ]
  },
  {
   "cell_type": "code",
   "execution_count": 18,
   "metadata": {},
   "outputs": [],
   "source": [
    "chc_dict = {\n",
    "    '저감장치':'RDCDVC', \n",
    "    '배출가스인증번호':'EXHST_GAS_CERT_NO', \n",
    "    '장치일련번호':'DVICE_SN', \n",
    "    '장치인증번호':'DVICE_CERT_NO', \n",
    "    '장치구분':'RDCDVC_SE', \n",
    "    '저감효율':'REDUC_EFCNY',\n",
    "            }"
   ]
  },
  {
   "cell_type": "code",
   "execution_count": 19,
   "metadata": {},
   "outputs": [
    {
     "data": {
      "text/plain": [
       "Index(['RDCDVC', 'EXHST_GAS_CERT_NO', 'DVICE_SN', 'DVICE_CERT_NO', 'RDCDVC_SE',\n",
       "       'REDUC_EFCNY'],\n",
       "      dtype='object')"
      ]
     },
     "execution_count": 19,
     "metadata": {},
     "output_type": "execute_result"
    }
   ],
   "source": [
    "df = df.rename(columns=chc_dict)\n",
    "df.columns"
   ]
  },
  {
   "cell_type": "code",
   "execution_count": 20,
   "metadata": {},
   "outputs": [],
   "source": [
    "df.to_csv(os.path.join(ods_fold, f'{name}.csv'), index=False)"
   ]
  },
  {
   "cell_type": "code",
   "execution_count": null,
   "metadata": {},
   "outputs": [],
   "source": []
  }
 ],
 "metadata": {
  "kernelspec": {
   "display_name": "base",
   "language": "python",
   "name": "python3"
  },
  "language_info": {
   "codemirror_mode": {
    "name": "ipython",
    "version": 3
   },
   "file_extension": ".py",
   "mimetype": "text/x-python",
   "name": "python",
   "nbconvert_exporter": "python",
   "pygments_lexer": "ipython3",
   "version": "3.9.13"
  },
  "orig_nbformat": 4
 },
 "nbformat": 4,
 "nbformat_minor": 2
}
