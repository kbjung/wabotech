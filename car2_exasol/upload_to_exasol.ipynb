{
 "cells": [
  {
   "cell_type": "markdown",
   "metadata": {},
   "source": [
    "# Library\n"
   ]
  },
  {
   "cell_type": "code",
   "execution_count": 2,
   "metadata": {
    "tags": []
   },
   "outputs": [],
   "source": [
    "import pandas as pd\n",
    "import os\n",
    "import pyexasol"
   ]
  },
  {
   "cell_type": "markdown",
   "metadata": {},
   "source": [
    "# folder"
   ]
  },
  {
   "cell_type": "code",
   "execution_count": 3,
   "metadata": {},
   "outputs": [],
   "source": [
    "raw1_fold = 'D:/data/big2/BD1/raw'\n",
    "df1_fold = 'D:/data/big2/BD1/df'\n",
    "raw3_fold = 'D:/data/big2/BD3/raw'\n",
    "df3_fold = 'D:/data/big2/BD3/df'"
   ]
  },
  {
   "cell_type": "markdown",
   "metadata": {},
   "source": [
    "# server"
   ]
  },
  {
   "cell_type": "code",
   "execution_count": 4,
   "metadata": {
    "tags": []
   },
   "outputs": [],
   "source": [
    "# # insider db\n",
    "# wd = pyexasol.connect(dsn='172.29.135.35/F99FAB2444F86051A9A467F6313FAAB48AF7C4760663430958E3B89A9DC53361:8563', user='sys', password='exasol', compression=True, schema='VSYSD')\n",
    "# we = pyexasol.connect(dsn='172.29.135.35/F99FAB2444F86051A9A467F6313FAAB48AF7C4760663430958E3B89A9DC53361:8563', user='sys', password='exasol', compression=True, schema='vsyse')"
   ]
  },
  {
   "cell_type": "code",
   "execution_count": 5,
   "metadata": {},
   "outputs": [],
   "source": [
    "# exasol db\n",
    "wd = pyexasol.connect(dsn='dev.openankus.org:8563', user='sys', password='djslzja', compression=True, schema='VSYSD')\n",
    "we = pyexasol.connect(dsn='dev.openankus.org:8563', user='sys', password='djslzja', compression=True, schema='vsyse')\n",
    "wbt = pyexasol.connect(dsn='dev.openankus.org:8563', user='sys', password='djslzja', compression=True, schema='wbt')"
   ]
  },
  {
   "cell_type": "markdown",
   "metadata": {},
   "source": [
    "# Load"
   ]
  },
  {
   "cell_type": "markdown",
   "metadata": {},
   "source": [
    "## RH에서 제공한 법정동코드"
   ]
  },
  {
   "cell_type": "code",
   "execution_count": 5,
   "metadata": {},
   "outputs": [
    {
     "name": "stdout",
     "output_type": "stream",
     "text": [
      "<class 'pandas.core.frame.DataFrame'>\n",
      "RangeIndex: 278 entries, 0 to 277\n",
      "Data columns (total 7 columns):\n",
      " #   Column       Non-Null Count  Dtype  \n",
      "---  ------       --------------  -----  \n",
      " 0   dong_code    278 non-null    int64  \n",
      " 1   ctprvn_code  278 non-null    int64  \n",
      " 2   signgu_code  278 non-null    int64  \n",
      " 3   sdstrd_code  278 non-null    int64  \n",
      " 4   ctprvn_nm    278 non-null    object \n",
      " 5   signgu_nm    260 non-null    object \n",
      " 6   sdstrd_nm    0 non-null      float64\n",
      "dtypes: float64(1), int64(4), object(2)\n",
      "memory usage: 15.3+ KB\n"
     ]
    }
   ],
   "source": [
    "name = 'tb_mapdata_gu(2023.04.20)'\n",
    "file_name = f'{name}.csv'\n",
    "df = pd.read_csv(os.path.join(raw1_fold, file_name), low_memory=False)\n",
    "df.info()"
   ]
  },
  {
   "cell_type": "code",
   "execution_count": 6,
   "metadata": {},
   "outputs": [
    {
     "data": {
      "text/html": [
       "<div>\n",
       "<style scoped>\n",
       "    .dataframe tbody tr th:only-of-type {\n",
       "        vertical-align: middle;\n",
       "    }\n",
       "\n",
       "    .dataframe tbody tr th {\n",
       "        vertical-align: top;\n",
       "    }\n",
       "\n",
       "    .dataframe thead th {\n",
       "        text-align: right;\n",
       "    }\n",
       "</style>\n",
       "<table border=\"1\" class=\"dataframe\">\n",
       "  <thead>\n",
       "    <tr style=\"text-align: right;\">\n",
       "      <th></th>\n",
       "      <th>dong_code</th>\n",
       "      <th>ctprvn_code</th>\n",
       "      <th>signgu_code</th>\n",
       "      <th>sdstrd_code</th>\n",
       "      <th>ctprvn_nm</th>\n",
       "      <th>signgu_nm</th>\n",
       "      <th>sdstrd_nm</th>\n",
       "    </tr>\n",
       "  </thead>\n",
       "  <tbody>\n",
       "    <tr>\n",
       "      <th>0</th>\n",
       "      <td>0</td>\n",
       "      <td>0</td>\n",
       "      <td>0</td>\n",
       "      <td>0</td>\n",
       "      <td>전국</td>\n",
       "      <td>NaN</td>\n",
       "      <td>NaN</td>\n",
       "    </tr>\n",
       "    <tr>\n",
       "      <th>1</th>\n",
       "      <td>1100000000</td>\n",
       "      <td>11</td>\n",
       "      <td>0</td>\n",
       "      <td>0</td>\n",
       "      <td>서울특별시</td>\n",
       "      <td>NaN</td>\n",
       "      <td>NaN</td>\n",
       "    </tr>\n",
       "    <tr>\n",
       "      <th>2</th>\n",
       "      <td>1111000000</td>\n",
       "      <td>11</td>\n",
       "      <td>110</td>\n",
       "      <td>0</td>\n",
       "      <td>서울특별시</td>\n",
       "      <td>종로구</td>\n",
       "      <td>NaN</td>\n",
       "    </tr>\n",
       "    <tr>\n",
       "      <th>3</th>\n",
       "      <td>1114000000</td>\n",
       "      <td>11</td>\n",
       "      <td>140</td>\n",
       "      <td>0</td>\n",
       "      <td>서울특별시</td>\n",
       "      <td>중구</td>\n",
       "      <td>NaN</td>\n",
       "    </tr>\n",
       "    <tr>\n",
       "      <th>4</th>\n",
       "      <td>1117000000</td>\n",
       "      <td>11</td>\n",
       "      <td>170</td>\n",
       "      <td>0</td>\n",
       "      <td>서울특별시</td>\n",
       "      <td>용산구</td>\n",
       "      <td>NaN</td>\n",
       "    </tr>\n",
       "  </tbody>\n",
       "</table>\n",
       "</div>"
      ],
      "text/plain": [
       "    dong_code  ctprvn_code  signgu_code  sdstrd_code ctprvn_nm signgu_nm   \n",
       "0           0            0            0            0        전국       NaN  \\\n",
       "1  1100000000           11            0            0     서울특별시       NaN   \n",
       "2  1111000000           11          110            0     서울특별시       종로구   \n",
       "3  1114000000           11          140            0     서울특별시        중구   \n",
       "4  1117000000           11          170            0     서울특별시       용산구   \n",
       "\n",
       "   sdstrd_nm  \n",
       "0        NaN  \n",
       "1        NaN  \n",
       "2        NaN  \n",
       "3        NaN  \n",
       "4        NaN  "
      ]
     },
     "execution_count": 6,
     "metadata": {},
     "output_type": "execute_result"
    }
   ],
   "source": [
    "df.head()"
   ]
  },
  {
   "cell_type": "code",
   "execution_count": 8,
   "metadata": {},
   "outputs": [],
   "source": [
    "TB_MAPDATA = df.copy()"
   ]
  },
  {
   "cell_type": "markdown",
   "metadata": {},
   "source": [
    "### [upload] TB_MAPDATA"
   ]
  },
  {
   "cell_type": "code",
   "execution_count": 9,
   "metadata": {},
   "outputs": [],
   "source": [
    "expdf = TB_MAPDATA\n",
    "table_nm = 'TB_MAPDATA'.upper()\n",
    "\n",
    "# 테이블 생성\n",
    "sql = 'create or replace table ' + table_nm + '( \\n'\n",
    "\n",
    "for idx,column in enumerate(expdf.columns):\n",
    "    if 'float' in expdf[column].dtype.name:\n",
    "        sql += column + ' float'\n",
    "    elif 'int' in expdf[column].dtype.name:\n",
    "        sql += column + ' number'\n",
    "    else:\n",
    "        sql += column + ' varchar(255)'\n",
    "\n",
    "    if len(expdf.columns) - 1 != idx:\n",
    "        sql += ','\n",
    "    sql += '\\n'\n",
    "sql += ')'    \n",
    "we.execute(sql)\n",
    "\n",
    "# 데이터 추가\n",
    "# 1s\n",
    "we.import_from_pandas(expdf, table_nm)"
   ]
  },
  {
   "cell_type": "markdown",
   "metadata": {},
   "source": [
    "## 4등급 result(GRD4_RESULT)"
   ]
  },
  {
   "cell_type": "code",
   "execution_count": 10,
   "metadata": {},
   "outputs": [
    {
     "name": "stdout",
     "output_type": "stream",
     "text": [
      "<class 'pandas.core.frame.DataFrame'>\n",
      "RangeIndex: 1502235 entries, 0 to 1502234\n",
      "Data columns (total 28 columns):\n",
      " #   Column    Non-Null Count    Dtype  \n",
      "---  ------    --------------    -----  \n",
      " 0   차대번호      1502235 non-null  object \n",
      " 1   차량번호      1502235 non-null  object \n",
      " 2   제원관리번호    1502235 non-null  object \n",
      " 3   차종        1502235 non-null  object \n",
      " 4   용도        1502235 non-null  object \n",
      " 5   최초등록일     1502235 non-null  int64  \n",
      " 6   연식        1502235 non-null  int64  \n",
      " 7   제작일자      1335178 non-null  float64\n",
      " 8   검사유효일     1502223 non-null  float64\n",
      " 9   차명        1502235 non-null  object \n",
      " 10  차종분류      1502235 non-null  object \n",
      " 11  차종유형      1502235 non-null  object \n",
      " 12  자동차형식     1501958 non-null  object \n",
      " 13  제작사명      1492590 non-null  object \n",
      " 14  연료        1502235 non-null  object \n",
      " 15  엔진형식      1500400 non-null  object \n",
      " 16  총중량       1502234 non-null  float64\n",
      " 17  적재중량      1501728 non-null  float64\n",
      " 18  엔진출력      1501882 non-null  object \n",
      " 19  배기량       1502231 non-null  float64\n",
      " 20  법정동코드     1502235 non-null  int64  \n",
      " 21  시도명       1502235 non-null  object \n",
      " 22  시군구명      1502235 non-null  object \n",
      " 23  소유자구분     1502235 non-null  object \n",
      " 24  말소여부      1502235 non-null  object \n",
      " 25  배인번호_수정   1153813 non-null  object \n",
      " 26  등급_수정     1502235 non-null  float64\n",
      " 27  DPF유무_수정  1153813 non-null  object \n",
      "dtypes: float64(6), int64(3), object(19)\n",
      "memory usage: 320.9+ MB\n"
     ]
    }
   ],
   "source": [
    "# 9.9s\n",
    "name = '4등급_차량_리스트_양식_result_최종(전체)(2023.07.03)'\n",
    "file_name = f'{name}.csv'\n",
    "df = pd.read_csv(os.path.join(raw1_fold, file_name), low_memory=False)\n",
    "df.info()"
   ]
  },
  {
   "cell_type": "code",
   "execution_count": 11,
   "metadata": {},
   "outputs": [
    {
     "data": {
      "text/html": [
       "<div>\n",
       "<style scoped>\n",
       "    .dataframe tbody tr th:only-of-type {\n",
       "        vertical-align: middle;\n",
       "    }\n",
       "\n",
       "    .dataframe tbody tr th {\n",
       "        vertical-align: top;\n",
       "    }\n",
       "\n",
       "    .dataframe thead th {\n",
       "        text-align: right;\n",
       "    }\n",
       "</style>\n",
       "<table border=\"1\" class=\"dataframe\">\n",
       "  <thead>\n",
       "    <tr style=\"text-align: right;\">\n",
       "      <th></th>\n",
       "      <th>차대번호</th>\n",
       "      <th>차량번호</th>\n",
       "      <th>제원관리번호</th>\n",
       "      <th>차종</th>\n",
       "      <th>용도</th>\n",
       "      <th>최초등록일</th>\n",
       "      <th>연식</th>\n",
       "      <th>제작일자</th>\n",
       "      <th>검사유효일</th>\n",
       "      <th>차명</th>\n",
       "      <th>...</th>\n",
       "      <th>엔진출력</th>\n",
       "      <th>배기량</th>\n",
       "      <th>법정동코드</th>\n",
       "      <th>시도명</th>\n",
       "      <th>시군구명</th>\n",
       "      <th>소유자구분</th>\n",
       "      <th>말소여부</th>\n",
       "      <th>배인번호_수정</th>\n",
       "      <th>등급_수정</th>\n",
       "      <th>DPF유무_수정</th>\n",
       "    </tr>\n",
       "  </thead>\n",
       "  <tbody>\n",
       "    <tr>\n",
       "      <th>0</th>\n",
       "      <td>WAUZZZ4F16N115327</td>\n",
       "      <td>21로7811</td>\n",
       "      <td>02420000100031305</td>\n",
       "      <td>승용</td>\n",
       "      <td>자가용</td>\n",
       "      <td>20060208</td>\n",
       "      <td>2006</td>\n",
       "      <td>20060119.0</td>\n",
       "      <td>20200207.0</td>\n",
       "      <td>아우디 A6 3.0 TDI Quattro</td>\n",
       "      <td>...</td>\n",
       "      <td>225.0</td>\n",
       "      <td>2967.0</td>\n",
       "      <td>3017011600</td>\n",
       "      <td>대전광역시</td>\n",
       "      <td>서구</td>\n",
       "      <td>주민</td>\n",
       "      <td>N</td>\n",
       "      <td>4MY-AD-20</td>\n",
       "      <td>4.0</td>\n",
       "      <td>무</td>\n",
       "    </tr>\n",
       "    <tr>\n",
       "      <th>1</th>\n",
       "      <td>WAUZZZ4F16N113691</td>\n",
       "      <td>23거2347</td>\n",
       "      <td>02420000100031305</td>\n",
       "      <td>승용</td>\n",
       "      <td>자가용</td>\n",
       "      <td>20060228</td>\n",
       "      <td>2006</td>\n",
       "      <td>20060116.0</td>\n",
       "      <td>20220227.0</td>\n",
       "      <td>아우디 A6 3.0 TDI Quattro</td>\n",
       "      <td>...</td>\n",
       "      <td>225.0</td>\n",
       "      <td>2967.0</td>\n",
       "      <td>2635010700</td>\n",
       "      <td>부산광역시</td>\n",
       "      <td>해운대구</td>\n",
       "      <td>외국인</td>\n",
       "      <td>N</td>\n",
       "      <td>4MY-AD-20</td>\n",
       "      <td>4.0</td>\n",
       "      <td>무</td>\n",
       "    </tr>\n",
       "    <tr>\n",
       "      <th>2</th>\n",
       "      <td>WAUZZZ4F86N088157</td>\n",
       "      <td>04어9316</td>\n",
       "      <td>02420000100031305</td>\n",
       "      <td>승용</td>\n",
       "      <td>자가용</td>\n",
       "      <td>20060105</td>\n",
       "      <td>2006</td>\n",
       "      <td>20051212.0</td>\n",
       "      <td>20200104.0</td>\n",
       "      <td>아우디 A6 3.0 TDI Quattro</td>\n",
       "      <td>...</td>\n",
       "      <td>225.0</td>\n",
       "      <td>2967.0</td>\n",
       "      <td>4148012200</td>\n",
       "      <td>경기도</td>\n",
       "      <td>파주시</td>\n",
       "      <td>주민</td>\n",
       "      <td>N</td>\n",
       "      <td>4MY-AD-20</td>\n",
       "      <td>4.0</td>\n",
       "      <td>무</td>\n",
       "    </tr>\n",
       "    <tr>\n",
       "      <th>3</th>\n",
       "      <td>WAUZZZ4F36N090463</td>\n",
       "      <td>14우2622</td>\n",
       "      <td>02420000100031305</td>\n",
       "      <td>승용</td>\n",
       "      <td>자가용</td>\n",
       "      <td>20060105</td>\n",
       "      <td>2006</td>\n",
       "      <td>20051206.0</td>\n",
       "      <td>20100104.0</td>\n",
       "      <td>아우디 A6 3.0 TDI Quattro</td>\n",
       "      <td>...</td>\n",
       "      <td>225.0</td>\n",
       "      <td>2967.0</td>\n",
       "      <td>2623010900</td>\n",
       "      <td>부산광역시</td>\n",
       "      <td>부산진구</td>\n",
       "      <td>주민</td>\n",
       "      <td>N</td>\n",
       "      <td>4MY-AD-20</td>\n",
       "      <td>4.0</td>\n",
       "      <td>무</td>\n",
       "    </tr>\n",
       "    <tr>\n",
       "      <th>4</th>\n",
       "      <td>WAUZZZ4F26N152385</td>\n",
       "      <td>07머3269</td>\n",
       "      <td>02420000100031305</td>\n",
       "      <td>승용</td>\n",
       "      <td>자가용</td>\n",
       "      <td>20060630</td>\n",
       "      <td>2006</td>\n",
       "      <td>20060612.0</td>\n",
       "      <td>20220629.0</td>\n",
       "      <td>아우디 A6 3.0 TDI Quattro</td>\n",
       "      <td>...</td>\n",
       "      <td>225.0</td>\n",
       "      <td>2967.0</td>\n",
       "      <td>5013010300</td>\n",
       "      <td>제주특별자치도</td>\n",
       "      <td>서귀포시</td>\n",
       "      <td>주민</td>\n",
       "      <td>N</td>\n",
       "      <td>4MY-AD-20</td>\n",
       "      <td>4.0</td>\n",
       "      <td>무</td>\n",
       "    </tr>\n",
       "  </tbody>\n",
       "</table>\n",
       "<p>5 rows × 28 columns</p>\n",
       "</div>"
      ],
      "text/plain": [
       "                차대번호     차량번호             제원관리번호  차종   용도     최초등록일    연식   \n",
       "0  WAUZZZ4F16N115327  21로7811  02420000100031305  승용  자가용  20060208  2006  \\\n",
       "1  WAUZZZ4F16N113691  23거2347  02420000100031305  승용  자가용  20060228  2006   \n",
       "2  WAUZZZ4F86N088157  04어9316  02420000100031305  승용  자가용  20060105  2006   \n",
       "3  WAUZZZ4F36N090463  14우2622  02420000100031305  승용  자가용  20060105  2006   \n",
       "4  WAUZZZ4F26N152385  07머3269  02420000100031305  승용  자가용  20060630  2006   \n",
       "\n",
       "         제작일자       검사유효일                      차명  ...   엔진출력     배기량   \n",
       "0  20060119.0  20200207.0  아우디 A6 3.0 TDI Quattro  ...  225.0  2967.0  \\\n",
       "1  20060116.0  20220227.0  아우디 A6 3.0 TDI Quattro  ...  225.0  2967.0   \n",
       "2  20051212.0  20200104.0  아우디 A6 3.0 TDI Quattro  ...  225.0  2967.0   \n",
       "3  20051206.0  20100104.0  아우디 A6 3.0 TDI Quattro  ...  225.0  2967.0   \n",
       "4  20060612.0  20220629.0  아우디 A6 3.0 TDI Quattro  ...  225.0  2967.0   \n",
       "\n",
       "        법정동코드      시도명  시군구명 소유자구분  말소여부    배인번호_수정 등급_수정  DPF유무_수정  \n",
       "0  3017011600    대전광역시    서구    주민     N  4MY-AD-20   4.0         무  \n",
       "1  2635010700    부산광역시  해운대구   외국인     N  4MY-AD-20   4.0         무  \n",
       "2  4148012200      경기도   파주시    주민     N  4MY-AD-20   4.0         무  \n",
       "3  2623010900    부산광역시  부산진구    주민     N  4MY-AD-20   4.0         무  \n",
       "4  5013010300  제주특별자치도  서귀포시    주민     N  4MY-AD-20   4.0         무  \n",
       "\n",
       "[5 rows x 28 columns]"
      ]
     },
     "execution_count": 11,
     "metadata": {},
     "output_type": "execute_result"
    }
   ],
   "source": [
    "df.head()"
   ]
  },
  {
   "cell_type": "code",
   "execution_count": 12,
   "metadata": {},
   "outputs": [],
   "source": [
    "GRD4_RESULT = df.copy()"
   ]
  },
  {
   "cell_type": "markdown",
   "metadata": {},
   "source": [
    "### [upload] GRD4_RESULT"
   ]
  },
  {
   "cell_type": "code",
   "execution_count": 13,
   "metadata": {},
   "outputs": [],
   "source": [
    "expdf = GRD4_RESULT\n",
    "table_nm = 'GRD4_RESULT'.upper()\n",
    "\n",
    "# 테이블 생성\n",
    "sql = 'create or replace table ' + table_nm + '( \\n'\n",
    "\n",
    "for idx,column in enumerate(expdf.columns):\n",
    "    if 'float' in expdf[column].dtype.name:\n",
    "        sql += column + ' float'\n",
    "    elif 'int' in expdf[column].dtype.name:\n",
    "        sql += column + ' number'\n",
    "    else:\n",
    "        sql += column + ' varchar(255)'\n",
    "\n",
    "    if len(expdf.columns) - 1 != idx:\n",
    "        sql += ','\n",
    "    sql += '\\n'\n",
    "sql += ')'    \n",
    "we.execute(sql)\n",
    "\n",
    "# 데이터 추가\n",
    "# 1s\n",
    "we.import_from_pandas(expdf, table_nm)"
   ]
  },
  {
   "cell_type": "markdown",
   "metadata": {},
   "source": [
    "# BD1"
   ]
  },
  {
   "cell_type": "markdown",
   "metadata": {},
   "source": [
    "## STD_BD_GRD4_CAR_CURSTT"
   ]
  },
  {
   "cell_type": "code",
   "execution_count": null,
   "metadata": {},
   "outputs": [
    {
     "name": "stdout",
     "output_type": "stream",
     "text": [
      "<class 'pandas.core.frame.DataFrame'>\n",
      "RangeIndex: 1162570 entries, 0 to 1162569\n",
      "Data columns (total 15 columns):\n",
      " #   Column                         Non-Null Count    Dtype  \n",
      "---  ------                         --------------    -----  \n",
      " 0   LOAD_DT                        1162570 non-null  int64  \n",
      " 1   VIN                            1162570 non-null  object \n",
      " 2   RGN                            1162570 non-null  object \n",
      " 3   CTPV                           1162570 non-null  object \n",
      " 4   DPF_EXTRNS_YN                  1162570 non-null  object \n",
      " 5   VHCTY_CD                       1162558 non-null  object \n",
      " 6   VHCTY_TY                       1162570 non-null  object \n",
      " 7   SEASON_1ODR_CRDN_NOCS          1162570 non-null  float64\n",
      " 8   SEASON_2ODR_CRDN_NOCS          1162570 non-null  float64\n",
      " 9   SEASON_3ODR_CRDN_NOCS          1162570 non-null  float64\n",
      " 10  SEASON_4ODR_CRDN_NOCS          1162570 non-null  float64\n",
      " 11  SEASON_1ODR_CRDN_NOCS_DY_AVRG  1162570 non-null  float64\n",
      " 12  SEASON_2ODR_CRDN_NOCS_DY_AVRG  1162570 non-null  float64\n",
      " 13  SEASON_3ODR_CRDN_NOCS_DY_AVRG  1162570 non-null  float64\n",
      " 14  SEASON_4ODR_CRDN_NOCS_DY_AVRG  1162570 non-null  float64\n",
      "dtypes: float64(8), int64(1), object(6)\n",
      "memory usage: 133.0+ MB\n"
     ]
    }
   ],
   "source": [
    "STD_BD_GRD4_CAR_CURSTT = pd.read_csv(os.path.join(df1_fold, 'STD_BD_GRD4_CAR_CURSTT.csv'))\n",
    "STD_BD_GRD4_CAR_CURSTT.info()"
   ]
  },
  {
   "cell_type": "code",
   "execution_count": null,
   "metadata": {},
   "outputs": [],
   "source": [
    "expdf = STD_BD_GRD4_CAR_CURSTT\n",
    "table_nm = 'STD_BD_GRD4_CAR_CURSTT'.upper()\n",
    "\n",
    "# 테이블 생성\n",
    "sql = 'create or replace table ' + table_nm + '( \\n'\n",
    "\n",
    "for idx,column in enumerate(expdf.columns):\n",
    "    if 'float' in expdf[column].dtype.name:\n",
    "        sql += column + ' float'\n",
    "    elif 'int' in expdf[column].dtype.name:\n",
    "        sql += column + ' number'\n",
    "    else:\n",
    "        sql += column + ' varchar(255)'\n",
    "\n",
    "    if len(expdf.columns) - 1 != idx:\n",
    "        sql += ','\n",
    "    sql += '\\n'\n",
    "sql += ')'    \n",
    "we.execute(sql)\n",
    "\n",
    "# 데이터 추가\n",
    "# 9s\n",
    "we.import_from_pandas(expdf, table_nm)"
   ]
  },
  {
   "cell_type": "markdown",
   "metadata": {},
   "source": [
    "## STD_BD_GRD4_SI"
   ]
  },
  {
   "cell_type": "code",
   "execution_count": null,
   "metadata": {},
   "outputs": [
    {
     "name": "stdout",
     "output_type": "stream",
     "text": [
      "<class 'pandas.core.frame.DataFrame'>\n",
      "RangeIndex: 1162570 entries, 0 to 1162569\n",
      "Data columns (total 15 columns):\n",
      " #   Column                         Non-Null Count    Dtype  \n",
      "---  ------                         --------------    -----  \n",
      " 0   LOAD_DT                        1162570 non-null  int64  \n",
      " 1   VIN                            1162570 non-null  object \n",
      " 2   RGN                            1162570 non-null  object \n",
      " 3   CTPV                           1162570 non-null  object \n",
      " 4   DPF_EXTRNS_YN                  1162570 non-null  object \n",
      " 5   VHCTY_CD                       1162558 non-null  object \n",
      " 6   VHCTY_TY                       1162570 non-null  object \n",
      " 7   SEASON_1ODR_CRDN_NOCS          1162570 non-null  float64\n",
      " 8   SEASON_2ODR_CRDN_NOCS          1162570 non-null  float64\n",
      " 9   SEASON_3ODR_CRDN_NOCS          1162570 non-null  float64\n",
      " 10  SEASON_4ODR_CRDN_NOCS          1162570 non-null  float64\n",
      " 11  SEASON_1ODR_CRDN_NOCS_DY_AVRG  1162570 non-null  float64\n",
      " 12  SEASON_2ODR_CRDN_NOCS_DY_AVRG  1162570 non-null  float64\n",
      " 13  SEASON_3ODR_CRDN_NOCS_DY_AVRG  1162570 non-null  float64\n",
      " 14  SEASON_4ODR_CRDN_NOCS_DY_AVRG  1162570 non-null  float64\n",
      "dtypes: float64(8), int64(1), object(6)\n",
      "memory usage: 133.0+ MB\n"
     ]
    }
   ],
   "source": [
    "STD_BD_GRD4_SI = pd.read_csv(os.path.join(df1_fold, 'STD_BD_GRD4_SI.csv'))\n",
    "STD_BD_GRD4_SI.info()"
   ]
  },
  {
   "cell_type": "code",
   "execution_count": null,
   "metadata": {},
   "outputs": [],
   "source": [
    "expdf = STD_BD_GRD4_SI\n",
    "table_nm = 'STD_BD_GRD4_SI'.upper()\n",
    "\n",
    "# 테이블 생성\n",
    "sql = 'create or replace table ' + table_nm + '( \\n'\n",
    "\n",
    "for idx,column in enumerate(expdf.columns):\n",
    "    if 'float' in expdf[column].dtype.name:\n",
    "        sql += column + ' float'\n",
    "    elif 'int' in expdf[column].dtype.name:\n",
    "        sql += column + ' number'\n",
    "    else:\n",
    "        sql += column + ' varchar(255)'\n",
    "\n",
    "    if len(expdf.columns) - 1 != idx:\n",
    "        sql += ','\n",
    "    sql += '\\n'\n",
    "sql += ')'    \n",
    "we.execute(sql)\n",
    "\n",
    "# 데이터 추가\n",
    "# 6s\n",
    "we.import_from_pandas(expdf, table_nm)"
   ]
  },
  {
   "cell_type": "markdown",
   "metadata": {},
   "source": [
    "## STD_BD_GRD4_CAR_CURSTT_TOT"
   ]
  },
  {
   "cell_type": "code",
   "execution_count": null,
   "metadata": {},
   "outputs": [
    {
     "name": "stdout",
     "output_type": "stream",
     "text": [
      "<class 'pandas.core.frame.DataFrame'>\n",
      "RangeIndex: 1162570 entries, 0 to 1162569\n",
      "Data columns (total 15 columns):\n",
      " #   Column                         Non-Null Count    Dtype  \n",
      "---  ------                         --------------    -----  \n",
      " 0   LOAD_DT                        1162570 non-null  int64  \n",
      " 1   VIN                            1162570 non-null  object \n",
      " 2   RGN                            1162570 non-null  object \n",
      " 3   CTPV                           1162570 non-null  object \n",
      " 4   DPF_EXTRNS_YN                  1162570 non-null  object \n",
      " 5   VHCTY_CD                       1162558 non-null  object \n",
      " 6   VHCTY_TY                       1162570 non-null  object \n",
      " 7   SEASON_1ODR_CRDN_NOCS          1162570 non-null  float64\n",
      " 8   SEASON_2ODR_CRDN_NOCS          1162570 non-null  float64\n",
      " 9   SEASON_3ODR_CRDN_NOCS          1162570 non-null  float64\n",
      " 10  SEASON_4ODR_CRDN_NOCS          1162570 non-null  float64\n",
      " 11  SEASON_1ODR_CRDN_NOCS_DY_AVRG  1162570 non-null  float64\n",
      " 12  SEASON_2ODR_CRDN_NOCS_DY_AVRG  1162570 non-null  float64\n",
      " 13  SEASON_3ODR_CRDN_NOCS_DY_AVRG  1162570 non-null  float64\n",
      " 14  SEASON_4ODR_CRDN_NOCS_DY_AVRG  1162570 non-null  float64\n",
      "dtypes: float64(8), int64(1), object(6)\n",
      "memory usage: 133.0+ MB\n"
     ]
    }
   ],
   "source": [
    "STD_BD_GRD4_CAR_CURSTT_TOT = pd.read_csv(os.path.join(df1_fold, 'STD_BD_GRD4_CAR_CURSTT_TOT.csv'))\n",
    "STD_BD_GRD4_CAR_CURSTT_TOT.info()"
   ]
  },
  {
   "cell_type": "code",
   "execution_count": null,
   "metadata": {},
   "outputs": [],
   "source": [
    "expdf = STD_BD_GRD4_CAR_CURSTT_TOT\n",
    "table_nm = 'STD_BD_GRD4_CAR_CURSTT_TOT'.upper()\n",
    "\n",
    "# 테이블 생성\n",
    "sql = 'create or replace table ' + table_nm + '( \\n'\n",
    "\n",
    "for idx,column in enumerate(expdf.columns):\n",
    "    if 'float' in expdf[column].dtype.name:\n",
    "        sql += column + ' float'\n",
    "    elif 'int' in expdf[column].dtype.name:\n",
    "        sql += column + ' number'\n",
    "    else:\n",
    "        sql += column + ' varchar(255)'\n",
    "\n",
    "    if len(expdf.columns) - 1 != idx:\n",
    "        sql += ','\n",
    "    sql += '\\n'\n",
    "sql += ')'    \n",
    "we.execute(sql)\n",
    "\n",
    "# 데이터 추가\n",
    "# 1s\n",
    "we.import_from_pandas(expdf, table_nm)"
   ]
  },
  {
   "cell_type": "markdown",
   "metadata": {},
   "source": [
    "## STD_BD_DAT_GRD4_CERT_NO_RVW"
   ]
  },
  {
   "cell_type": "code",
   "execution_count": 6,
   "metadata": {},
   "outputs": [
    {
     "name": "stdout",
     "output_type": "stream",
     "text": [
      "<class 'pandas.core.frame.DataFrame'>\n",
      "RangeIndex: 1080 entries, 0 to 1079\n",
      "Data columns (total 10 columns):\n",
      " #   Column             Non-Null Count  Dtype  \n",
      "---  ------             --------------  -----  \n",
      " 0   EXHST_GAS_CERT_NO  1068 non-null   object \n",
      " 1   INSP_MTHD          1080 non-null   object \n",
      " 2   RVW_SE             1080 non-null   object \n",
      " 3   RPRS_MNFCTR_NM     1080 non-null   object \n",
      " 4   RPRS_VHCNM         1080 non-null   object \n",
      " 5   MANG_MNG_NO        1080 non-null   object \n",
      " 6   LOWR_QRT           1080 non-null   float64\n",
      " 7   MID_QRT            1080 non-null   float64\n",
      " 8   UP_QRT             1080 non-null   float64\n",
      " 9   LOAD_DT            1080 non-null   int64  \n",
      "dtypes: float64(3), int64(1), object(6)\n",
      "memory usage: 84.5+ KB\n"
     ]
    }
   ],
   "source": [
    "# 0s\n",
    "STD_BD_DAT_GRD4_CERT_NO_RVW = pd.read_csv(os.path.join(df1_fold, 'STD_BD_DAT_GRD4_CERT_NO_RVW.csv'))\n",
    "STD_BD_DAT_GRD4_CERT_NO_RVW.info()"
   ]
  },
  {
   "cell_type": "code",
   "execution_count": 7,
   "metadata": {},
   "outputs": [],
   "source": [
    "expdf = STD_BD_DAT_GRD4_CERT_NO_RVW\n",
    "table_nm = 'STD_BD_DAT_GRD4_CERT_NO_RVW'.upper()\n",
    "\n",
    "# 테이블 생성\n",
    "sql = 'create or replace table ' + table_nm + '( \\n'\n",
    "\n",
    "for idx,column in enumerate(expdf.columns):\n",
    "    if 'float' in expdf[column].dtype.name:\n",
    "        sql += column + ' float'\n",
    "    elif 'int' in expdf[column].dtype.name:\n",
    "        sql += column + ' number'\n",
    "    else:\n",
    "        sql += column + ' varchar(255)'\n",
    "\n",
    "    if len(expdf.columns) - 1 != idx:\n",
    "        sql += ','\n",
    "    sql += '\\n'\n",
    "sql += ')'    \n",
    "we.execute(sql)\n",
    "\n",
    "# 데이터 추가\n",
    "# 1s\n",
    "we.import_from_pandas(expdf, table_nm)"
   ]
  },
  {
   "cell_type": "markdown",
   "metadata": {},
   "source": [
    "## STD_BD_DAT_GRD4_SI"
   ]
  },
  {
   "cell_type": "code",
   "execution_count": 8,
   "metadata": {},
   "outputs": [
    {
     "name": "stdout",
     "output_type": "stream",
     "text": [
      "<class 'pandas.core.frame.DataFrame'>\n",
      "RangeIndex: 405 entries, 0 to 404\n",
      "Data columns (total 9 columns):\n",
      " #   Column             Non-Null Count  Dtype  \n",
      "---  ------             --------------  -----  \n",
      " 0   EXHST_GAS_CERT_NO  401 non-null    object \n",
      " 1   INSP_MTHD          405 non-null    object \n",
      " 2   RPRS_MNFCTR_NM     405 non-null    object \n",
      " 3   RPRS_VHCNM         405 non-null    object \n",
      " 4   RPRS_VHCTY_CD      405 non-null    object \n",
      " 5   RPRS_FUEL          405 non-null    object \n",
      " 6   FRST_YRIDNW        405 non-null    int64  \n",
      " 7   SI                 398 non-null    float64\n",
      " 8   LOAD_DT            405 non-null    int64  \n",
      "dtypes: float64(1), int64(2), object(6)\n",
      "memory usage: 28.6+ KB\n"
     ]
    }
   ],
   "source": [
    "# 0s\n",
    "STD_BD_DAT_GRD4_SI = pd.read_csv(os.path.join(df1_fold, 'STD_BD_DAT_GRD4_SI.csv'))\n",
    "STD_BD_DAT_GRD4_SI.info()"
   ]
  },
  {
   "cell_type": "code",
   "execution_count": 9,
   "metadata": {},
   "outputs": [],
   "source": [
    "expdf = STD_BD_DAT_GRD4_SI\n",
    "table_nm = 'STD_BD_DAT_GRD4_SI'.upper()\n",
    "\n",
    "# 테이블 생성\n",
    "sql = 'create or replace table ' + table_nm + '( \\n'\n",
    "\n",
    "for idx,column in enumerate(expdf.columns):\n",
    "    if 'float' in expdf[column].dtype.name:\n",
    "        sql += column + ' float'\n",
    "    elif 'int' in expdf[column].dtype.name:\n",
    "        sql += column + ' number'\n",
    "    else:\n",
    "        sql += column + ' varchar(255)'\n",
    "\n",
    "    if len(expdf.columns) - 1 != idx:\n",
    "        sql += ','\n",
    "    sql += '\\n'\n",
    "sql += ')'    \n",
    "we.execute(sql)\n",
    "\n",
    "# 데이터 추가\n",
    "# 1s\n",
    "we.import_from_pandas(expdf, table_nm)"
   ]
  },
  {
   "cell_type": "markdown",
   "metadata": {},
   "source": [
    "## STD_BD_GRD4_ELPDSRC_CURSTT"
   ]
  },
  {
   "cell_type": "code",
   "execution_count": null,
   "metadata": {},
   "outputs": [
    {
     "name": "stdout",
     "output_type": "stream",
     "text": [
      "<class 'pandas.core.frame.DataFrame'>\n",
      "RangeIndex: 1162570 entries, 0 to 1162569\n",
      "Data columns (total 15 columns):\n",
      " #   Column                         Non-Null Count    Dtype  \n",
      "---  ------                         --------------    -----  \n",
      " 0   LOAD_DT                        1162570 non-null  int64  \n",
      " 1   VIN                            1162570 non-null  object \n",
      " 2   RGN                            1162570 non-null  object \n",
      " 3   CTPV                           1162570 non-null  object \n",
      " 4   DPF_EXTRNS_YN                  1162570 non-null  object \n",
      " 5   VHCTY_CD                       1162558 non-null  object \n",
      " 6   VHCTY_TY                       1162570 non-null  object \n",
      " 7   SEASON_1ODR_CRDN_NOCS          1162570 non-null  float64\n",
      " 8   SEASON_2ODR_CRDN_NOCS          1162570 non-null  float64\n",
      " 9   SEASON_3ODR_CRDN_NOCS          1162570 non-null  float64\n",
      " 10  SEASON_4ODR_CRDN_NOCS          1162570 non-null  float64\n",
      " 11  SEASON_1ODR_CRDN_NOCS_DY_AVRG  1162570 non-null  float64\n",
      " 12  SEASON_2ODR_CRDN_NOCS_DY_AVRG  1162570 non-null  float64\n",
      " 13  SEASON_3ODR_CRDN_NOCS_DY_AVRG  1162570 non-null  float64\n",
      " 14  SEASON_4ODR_CRDN_NOCS_DY_AVRG  1162570 non-null  float64\n",
      "dtypes: float64(8), int64(1), object(6)\n",
      "memory usage: 133.0+ MB\n"
     ]
    }
   ],
   "source": [
    "STD_BD_GRD4_ELPDSRC_CURSTT = pd.read_csv(os.path.join(df1_fold, 'STD_BD_GRD4_ELPDSRC_CURSTT.csv'))\n",
    "STD_BD_GRD4_ELPDSRC_CURSTT.info()"
   ]
  },
  {
   "cell_type": "code",
   "execution_count": null,
   "metadata": {},
   "outputs": [],
   "source": [
    "expdf = STD_BD_GRD4_ELPDSRC_CURSTT\n",
    "table_nm = 'STD_BD_GRD4_ELPDSRC_CURSTT'.upper()\n",
    "\n",
    "# 테이블 생성\n",
    "sql = 'create or replace table ' + table_nm + '( \\n'\n",
    "\n",
    "for idx,column in enumerate(expdf.columns):\n",
    "    if 'float' in expdf[column].dtype.name:\n",
    "        sql += column + ' float'\n",
    "    elif 'int' in expdf[column].dtype.name:\n",
    "        sql += column + ' number'\n",
    "    else:\n",
    "        sql += column + ' varchar(255)'\n",
    "\n",
    "    if len(expdf.columns) - 1 != idx:\n",
    "        sql += ','\n",
    "    sql += '\\n'\n",
    "sql += ')'    \n",
    "we.execute(sql)\n",
    "\n",
    "# 데이터 추가\n",
    "# 5s\n",
    "we.import_from_pandas(expdf, table_nm)"
   ]
  },
  {
   "cell_type": "markdown",
   "metadata": {},
   "source": [
    "## STD_BD_GRD4_MLSFC_RSLT"
   ]
  },
  {
   "cell_type": "code",
   "execution_count": null,
   "metadata": {},
   "outputs": [
    {
     "name": "stdout",
     "output_type": "stream",
     "text": [
      "<class 'pandas.core.frame.DataFrame'>\n",
      "RangeIndex: 1162570 entries, 0 to 1162569\n",
      "Data columns (total 15 columns):\n",
      " #   Column                         Non-Null Count    Dtype  \n",
      "---  ------                         --------------    -----  \n",
      " 0   LOAD_DT                        1162570 non-null  int64  \n",
      " 1   VIN                            1162570 non-null  object \n",
      " 2   RGN                            1162570 non-null  object \n",
      " 3   CTPV                           1162570 non-null  object \n",
      " 4   DPF_EXTRNS_YN                  1162570 non-null  object \n",
      " 5   VHCTY_CD                       1162558 non-null  object \n",
      " 6   VHCTY_TY                       1162570 non-null  object \n",
      " 7   SEASON_1ODR_CRDN_NOCS          1162570 non-null  float64\n",
      " 8   SEASON_2ODR_CRDN_NOCS          1162570 non-null  float64\n",
      " 9   SEASON_3ODR_CRDN_NOCS          1162570 non-null  float64\n",
      " 10  SEASON_4ODR_CRDN_NOCS          1162570 non-null  float64\n",
      " 11  SEASON_1ODR_CRDN_NOCS_DY_AVRG  1162570 non-null  float64\n",
      " 12  SEASON_2ODR_CRDN_NOCS_DY_AVRG  1162570 non-null  float64\n",
      " 13  SEASON_3ODR_CRDN_NOCS_DY_AVRG  1162570 non-null  float64\n",
      " 14  SEASON_4ODR_CRDN_NOCS_DY_AVRG  1162570 non-null  float64\n",
      "dtypes: float64(8), int64(1), object(6)\n",
      "memory usage: 133.0+ MB\n"
     ]
    }
   ],
   "source": [
    "STD_BD_GRD4_MLSFC_RSLT = pd.read_csv(os.path.join(df1_fold, 'STD_BD_GRD4_MLSFC_RSLT.csv'))\n",
    "STD_BD_GRD4_MLSFC_RSLT.info()"
   ]
  },
  {
   "cell_type": "code",
   "execution_count": null,
   "metadata": {},
   "outputs": [],
   "source": [
    "expdf = STD_BD_GRD4_MLSFC_RSLT\n",
    "table_nm = 'STD_BD_GRD4_MLSFC_RSLT'.upper()\n",
    "\n",
    "# 테이블 생성\n",
    "sql = 'create or replace table ' + table_nm + '( \\n'\n",
    "\n",
    "for idx,column in enumerate(expdf.columns):\n",
    "    if 'float' in expdf[column].dtype.name:\n",
    "        sql += column + ' float'\n",
    "    elif 'int' in expdf[column].dtype.name:\n",
    "        sql += column + ' number'\n",
    "    else:\n",
    "        sql += column + ' varchar(255)'\n",
    "\n",
    "    if len(expdf.columns) - 1 != idx:\n",
    "        sql += ','\n",
    "    sql += '\\n'\n",
    "sql += ')'    \n",
    "we.execute(sql)\n",
    "\n",
    "# 데이터 추가\n",
    "# 7s\n",
    "we.import_from_pandas(expdf, table_nm)"
   ]
  },
  {
   "cell_type": "markdown",
   "metadata": {},
   "source": [
    "## STD_BD_DAT_GRD4_MLSFC"
   ]
  },
  {
   "cell_type": "code",
   "execution_count": 10,
   "metadata": {},
   "outputs": [
    {
     "name": "stdout",
     "output_type": "stream",
     "text": [
      "<class 'pandas.core.frame.DataFrame'>\n",
      "RangeIndex: 9122 entries, 0 to 9121\n",
      "Data columns (total 13 columns):\n",
      " #   Column     Non-Null Count  Dtype  \n",
      "---  ------     --------------  -----  \n",
      " 0   FUEL_CD    9122 non-null   object \n",
      " 1   CTPV       9122 non-null   object \n",
      " 2   SGG        9122 non-null   object \n",
      " 3   VHCTY_CD   9122 non-null   object \n",
      " 4   VHCTY_TY   9122 non-null   object \n",
      " 5   PURPS_CD2  9122 non-null   object \n",
      " 6   A_MKCNT    5575 non-null   float64\n",
      " 7   B_MKCNT    3996 non-null   float64\n",
      " 8   C_MKCNT    3574 non-null   float64\n",
      " 9   D_MKCNT    861 non-null    float64\n",
      " 10  X_MKCNT    4940 non-null   float64\n",
      " 11  YR         9122 non-null   int64  \n",
      " 12  LOAD_DT    9122 non-null   int64  \n",
      "dtypes: float64(5), int64(2), object(6)\n",
      "memory usage: 926.6+ KB\n"
     ]
    }
   ],
   "source": [
    "# 0s\n",
    "STD_BD_DAT_GRD4_MLSFC = pd.read_csv(os.path.join(df1_fold, 'STD_BD_DAT_GRD4_MLSFC.csv'))\n",
    "STD_BD_DAT_GRD4_MLSFC.info()"
   ]
  },
  {
   "cell_type": "code",
   "execution_count": 11,
   "metadata": {},
   "outputs": [],
   "source": [
    "expdf = STD_BD_DAT_GRD4_MLSFC\n",
    "table_nm = 'STD_BD_DAT_GRD4_MLSFC'.upper()\n",
    "\n",
    "# 테이블 생성\n",
    "sql = 'create or replace table ' + table_nm + '( \\n'\n",
    "\n",
    "for idx,column in enumerate(expdf.columns):\n",
    "    if 'float' in expdf[column].dtype.name:\n",
    "        sql += column + ' float'\n",
    "    elif 'int' in expdf[column].dtype.name:\n",
    "        sql += column + ' number'\n",
    "    else:\n",
    "        sql += column + ' varchar(255)'\n",
    "\n",
    "    if len(expdf.columns) - 1 != idx:\n",
    "        sql += ','\n",
    "    sql += '\\n'\n",
    "sql += ')'    \n",
    "we.execute(sql)\n",
    "\n",
    "# 데이터 추가\n",
    "# 1s\n",
    "we.import_from_pandas(expdf, table_nm)"
   ]
  },
  {
   "cell_type": "markdown",
   "metadata": {},
   "source": [
    "## STD_BD_DAT_GRD4_DTL_INFO"
   ]
  },
  {
   "cell_type": "code",
   "execution_count": 12,
   "metadata": {},
   "outputs": [
    {
     "name": "stderr",
     "output_type": "stream",
     "text": [
      "C:\\Users\\kbjung\\AppData\\Local\\Temp\\ipykernel_17788\\1988223461.py:1: DtypeWarning: Columns (10,11,13,14) have mixed types. Specify dtype option on import or set low_memory=False.\n",
      "  STD_BD_DAT_GRD4_DTL_INFO = pd.read_csv(os.path.join(df1_fold, 'STD_BD_DAT_GRD4_DTL_INFO.csv'))\n"
     ]
    },
    {
     "name": "stdout",
     "output_type": "stream",
     "text": [
      "<class 'pandas.core.frame.DataFrame'>\n",
      "RangeIndex: 1898763 entries, 0 to 1898762\n",
      "Data columns (total 18 columns):\n",
      " #   Column           Dtype  \n",
      "---  ------           -----  \n",
      " 0   VHRNO            object \n",
      " 1   VIN              object \n",
      " 2   GRD4_MLSFC       object \n",
      " 3   VHCTY_CD         object \n",
      " 4   VHCTY_TY         object \n",
      " 5   PURPS_CD2        object \n",
      " 6   FUEL_CD          object \n",
      " 7   CTPV             object \n",
      " 8   SGG              object \n",
      " 9   YRIDNW           int64  \n",
      " 10  DPF_MNTNG_YN     object \n",
      " 11  RDCDVC_KND       object \n",
      " 12  FRST_REG_YMD     int64  \n",
      " 13  ELPDSRC_APLY_YN  object \n",
      " 14  ELPDSRC_STTS_CD  object \n",
      " 15  CHNG_DE          float64\n",
      " 16  VHCL_ERSR_YN     object \n",
      " 17  LOAD_DT          int64  \n",
      "dtypes: float64(1), int64(3), object(14)\n",
      "memory usage: 260.8+ MB\n"
     ]
    }
   ],
   "source": [
    "# 6s\n",
    "STD_BD_DAT_GRD4_DTL_INFO = pd.read_csv(os.path.join(df1_fold, 'STD_BD_DAT_GRD4_DTL_INFO.csv'))\n",
    "STD_BD_DAT_GRD4_DTL_INFO.info()"
   ]
  },
  {
   "cell_type": "code",
   "execution_count": 13,
   "metadata": {},
   "outputs": [],
   "source": [
    "expdf = STD_BD_DAT_GRD4_DTL_INFO\n",
    "table_nm = 'STD_BD_DAT_GRD4_DTL_INFO'.upper()\n",
    "\n",
    "# 테이블 생성\n",
    "sql = 'create or replace table ' + table_nm + '( \\n'\n",
    "\n",
    "for idx,column in enumerate(expdf.columns):\n",
    "    if 'float' in expdf[column].dtype.name:\n",
    "        sql += column + ' float'\n",
    "    elif 'int' in expdf[column].dtype.name:\n",
    "        sql += column + ' number'\n",
    "    else:\n",
    "        sql += column + ' varchar(255)'\n",
    "\n",
    "    if len(expdf.columns) - 1 != idx:\n",
    "        sql += ','\n",
    "    sql += '\\n'\n",
    "sql += ')'    \n",
    "we.execute(sql)\n",
    "\n",
    "# 데이터 추가\n",
    "# 9s\n",
    "we.import_from_pandas(expdf, table_nm)"
   ]
  },
  {
   "cell_type": "markdown",
   "metadata": {},
   "source": [
    "## STD_BD_GRD4_RGN_CURSTT"
   ]
  },
  {
   "cell_type": "code",
   "execution_count": null,
   "metadata": {},
   "outputs": [
    {
     "name": "stdout",
     "output_type": "stream",
     "text": [
      "<class 'pandas.core.frame.DataFrame'>\n",
      "RangeIndex: 1162570 entries, 0 to 1162569\n",
      "Data columns (total 15 columns):\n",
      " #   Column                         Non-Null Count    Dtype  \n",
      "---  ------                         --------------    -----  \n",
      " 0   LOAD_DT                        1162570 non-null  int64  \n",
      " 1   VIN                            1162570 non-null  object \n",
      " 2   RGN                            1162570 non-null  object \n",
      " 3   CTPV                           1162570 non-null  object \n",
      " 4   DPF_EXTRNS_YN                  1162570 non-null  object \n",
      " 5   VHCTY_CD                       1162558 non-null  object \n",
      " 6   VHCTY_TY                       1162570 non-null  object \n",
      " 7   SEASON_1ODR_CRDN_NOCS          1162570 non-null  float64\n",
      " 8   SEASON_2ODR_CRDN_NOCS          1162570 non-null  float64\n",
      " 9   SEASON_3ODR_CRDN_NOCS          1162570 non-null  float64\n",
      " 10  SEASON_4ODR_CRDN_NOCS          1162570 non-null  float64\n",
      " 11  SEASON_1ODR_CRDN_NOCS_DY_AVRG  1162570 non-null  float64\n",
      " 12  SEASON_2ODR_CRDN_NOCS_DY_AVRG  1162570 non-null  float64\n",
      " 13  SEASON_3ODR_CRDN_NOCS_DY_AVRG  1162570 non-null  float64\n",
      " 14  SEASON_4ODR_CRDN_NOCS_DY_AVRG  1162570 non-null  float64\n",
      "dtypes: float64(8), int64(1), object(6)\n",
      "memory usage: 133.0+ MB\n"
     ]
    }
   ],
   "source": [
    "STD_BD_GRD4_RGN_CURSTT = pd.read_csv(os.path.join(df1_fold, 'STD_BD_GRD4_RGN_CURSTT.csv'))\n",
    "STD_BD_GRD4_RGN_CURSTT.info()"
   ]
  },
  {
   "cell_type": "code",
   "execution_count": null,
   "metadata": {},
   "outputs": [],
   "source": [
    "expdf = STD_BD_GRD4_RGN_CURSTT\n",
    "table_nm = 'STD_BD_GRD4_RGN_CURSTT'.upper()\n",
    "\n",
    "# 테이블 생성\n",
    "sql = 'create or replace table ' + table_nm + '( \\n'\n",
    "\n",
    "for idx,column in enumerate(expdf.columns):\n",
    "    if 'float' in expdf[column].dtype.name:\n",
    "        sql += column + ' float'\n",
    "    elif 'int' in expdf[column].dtype.name:\n",
    "        sql += column + ' number'\n",
    "    else:\n",
    "        sql += column + ' varchar(255)'\n",
    "\n",
    "    if len(expdf.columns) - 1 != idx:\n",
    "        sql += ','\n",
    "    sql += '\\n'\n",
    "sql += ')'    \n",
    "we.execute(sql)\n",
    "\n",
    "# 데이터 추가\n",
    "# 5s\n",
    "we.import_from_pandas(expdf, table_nm)"
   ]
  },
  {
   "cell_type": "markdown",
   "metadata": {},
   "source": [
    "## STD_BD_GRD4_RGN_CURSTT_MOD"
   ]
  },
  {
   "cell_type": "code",
   "execution_count": null,
   "metadata": {},
   "outputs": [
    {
     "name": "stdout",
     "output_type": "stream",
     "text": [
      "<class 'pandas.core.frame.DataFrame'>\n",
      "RangeIndex: 1162570 entries, 0 to 1162569\n",
      "Data columns (total 15 columns):\n",
      " #   Column                         Non-Null Count    Dtype  \n",
      "---  ------                         --------------    -----  \n",
      " 0   LOAD_DT                        1162570 non-null  int64  \n",
      " 1   VIN                            1162570 non-null  object \n",
      " 2   RGN                            1162570 non-null  object \n",
      " 3   CTPV                           1162570 non-null  object \n",
      " 4   DPF_EXTRNS_YN                  1162570 non-null  object \n",
      " 5   VHCTY_CD                       1162558 non-null  object \n",
      " 6   VHCTY_TY                       1162570 non-null  object \n",
      " 7   SEASON_1ODR_CRDN_NOCS          1162570 non-null  float64\n",
      " 8   SEASON_2ODR_CRDN_NOCS          1162570 non-null  float64\n",
      " 9   SEASON_3ODR_CRDN_NOCS          1162570 non-null  float64\n",
      " 10  SEASON_4ODR_CRDN_NOCS          1162570 non-null  float64\n",
      " 11  SEASON_1ODR_CRDN_NOCS_DY_AVRG  1162570 non-null  float64\n",
      " 12  SEASON_2ODR_CRDN_NOCS_DY_AVRG  1162570 non-null  float64\n",
      " 13  SEASON_3ODR_CRDN_NOCS_DY_AVRG  1162570 non-null  float64\n",
      " 14  SEASON_4ODR_CRDN_NOCS_DY_AVRG  1162570 non-null  float64\n",
      "dtypes: float64(8), int64(1), object(6)\n",
      "memory usage: 133.0+ MB\n"
     ]
    }
   ],
   "source": [
    "STD_BD_GRD4_RGN_CURSTT_MOD = pd.read_csv(os.path.join(df1_fold, 'STD_BD_GRD4_RGN_CURSTT_MOD.csv'))\n",
    "STD_BD_GRD4_RGN_CURSTT_MOD.info()"
   ]
  },
  {
   "cell_type": "code",
   "execution_count": null,
   "metadata": {},
   "outputs": [],
   "source": [
    "expdf = STD_BD_GRD4_RGN_CURSTT_MOD\n",
    "table_nm = 'STD_BD_GRD4_RGN_CURSTT_MOD'.upper()\n",
    "\n",
    "# 테이블 생성\n",
    "sql = 'create or replace table ' + table_nm + '( \\n'\n",
    "\n",
    "for idx,column in enumerate(expdf.columns):\n",
    "    if 'float' in expdf[column].dtype.name:\n",
    "        sql += column + ' float'\n",
    "    elif 'int' in expdf[column].dtype.name:\n",
    "        sql += column + ' number'\n",
    "    else:\n",
    "        sql += column + ' varchar(255)'\n",
    "\n",
    "    if len(expdf.columns) - 1 != idx:\n",
    "        sql += ','\n",
    "    sql += '\\n'\n",
    "sql += ')'    \n",
    "we.execute(sql)\n",
    "\n",
    "# 데이터 추가\n",
    "# 5s\n",
    "we.import_from_pandas(expdf, table_nm)"
   ]
  },
  {
   "cell_type": "markdown",
   "metadata": {},
   "source": [
    "## STD_BD_DAT_GRD4_CAR_CURSTT"
   ]
  },
  {
   "cell_type": "code",
   "execution_count": 30,
   "metadata": {},
   "outputs": [
    {
     "name": "stdout",
     "output_type": "stream",
     "text": [
      "<class 'pandas.core.frame.DataFrame'>\n",
      "RangeIndex: 9174 entries, 0 to 9173\n",
      "Data columns (total 14 columns):\n",
      " #   Column               Non-Null Count  Dtype  \n",
      "---  ------               --------------  -----  \n",
      " 0   YR                   9174 non-null   int64  \n",
      " 1   MM                   9174 non-null   int64  \n",
      " 2   CTPV                 9174 non-null   object \n",
      " 3   SGG                  9171 non-null   object \n",
      " 4   FUEL_CD              9127 non-null   object \n",
      " 5   VHCTY_CD             9172 non-null   object \n",
      " 6   VHCTY_TY             9174 non-null   object \n",
      " 7   PURPS_CD2            9174 non-null   object \n",
      " 8   VHCL_MKCNT           9174 non-null   int64  \n",
      " 9   DEC_RT               0 non-null      float64\n",
      " 10  RDCDVC_EXTRNS_MKCNT  9174 non-null   int64  \n",
      " 11  RDCDVC_UNAT_MKCNT    9174 non-null   int64  \n",
      " 12  ELPDSRC_MKCNT        9174 non-null   int64  \n",
      " 13  LOAD_DT              9174 non-null   int64  \n",
      "dtypes: float64(1), int64(7), object(6)\n",
      "memory usage: 1003.5+ KB\n"
     ]
    }
   ],
   "source": [
    "# 0s\n",
    "STD_BD_DAT_GRD4_CAR_CURSTT = pd.read_csv(os.path.join(df1_fold, 'STD_BD_DAT_GRD4_CAR_CURSTT.csv'))\n",
    "STD_BD_DAT_GRD4_CAR_CURSTT.info()"
   ]
  },
  {
   "cell_type": "code",
   "execution_count": 31,
   "metadata": {},
   "outputs": [],
   "source": [
    "expdf = STD_BD_DAT_GRD4_CAR_CURSTT\n",
    "table_nm = 'STD_BD_DAT_GRD4_CAR_CURSTT'.upper()\n",
    "\n",
    "# 테이블 생성\n",
    "sql = 'create or replace table ' + table_nm + '( \\n'\n",
    "\n",
    "for idx,column in enumerate(expdf.columns):\n",
    "    if 'float' in expdf[column].dtype.name:\n",
    "        sql += column + ' float'\n",
    "    elif 'int' in expdf[column].dtype.name:\n",
    "        sql += column + ' number'\n",
    "    else:\n",
    "        sql += column + ' varchar(255)'\n",
    "\n",
    "    if len(expdf.columns) - 1 != idx:\n",
    "        sql += ','\n",
    "    sql += '\\n'\n",
    "sql += ')'    \n",
    "we.execute(sql)\n",
    "\n",
    "# 데이터 추가\n",
    "# 1s\n",
    "we.import_from_pandas(expdf, table_nm)"
   ]
  },
  {
   "cell_type": "markdown",
   "metadata": {},
   "source": [
    "## STD_BD_GRD4_EXHST_GAS_MSS_TOT"
   ]
  },
  {
   "cell_type": "code",
   "execution_count": null,
   "metadata": {},
   "outputs": [
    {
     "name": "stdout",
     "output_type": "stream",
     "text": [
      "<class 'pandas.core.frame.DataFrame'>\n",
      "RangeIndex: 1162570 entries, 0 to 1162569\n",
      "Data columns (total 15 columns):\n",
      " #   Column                         Non-Null Count    Dtype  \n",
      "---  ------                         --------------    -----  \n",
      " 0   LOAD_DT                        1162570 non-null  int64  \n",
      " 1   VIN                            1162570 non-null  object \n",
      " 2   RGN                            1162570 non-null  object \n",
      " 3   CTPV                           1162570 non-null  object \n",
      " 4   DPF_EXTRNS_YN                  1162570 non-null  object \n",
      " 5   VHCTY_CD                       1162558 non-null  object \n",
      " 6   VHCTY_TY                       1162570 non-null  object \n",
      " 7   SEASON_1ODR_CRDN_NOCS          1162570 non-null  float64\n",
      " 8   SEASON_2ODR_CRDN_NOCS          1162570 non-null  float64\n",
      " 9   SEASON_3ODR_CRDN_NOCS          1162570 non-null  float64\n",
      " 10  SEASON_4ODR_CRDN_NOCS          1162570 non-null  float64\n",
      " 11  SEASON_1ODR_CRDN_NOCS_DY_AVRG  1162570 non-null  float64\n",
      " 12  SEASON_2ODR_CRDN_NOCS_DY_AVRG  1162570 non-null  float64\n",
      " 13  SEASON_3ODR_CRDN_NOCS_DY_AVRG  1162570 non-null  float64\n",
      " 14  SEASON_4ODR_CRDN_NOCS_DY_AVRG  1162570 non-null  float64\n",
      "dtypes: float64(8), int64(1), object(6)\n",
      "memory usage: 133.0+ MB\n"
     ]
    }
   ],
   "source": [
    "STD_BD_GRD4_EXHST_GAS_MSS_TOT = pd.read_csv(os.path.join(df1_fold, 'STD_BD_GRD4_EXHST_GAS_MSS_TOT.csv'))\n",
    "STD_BD_GRD4_EXHST_GAS_MSS_TOT.info()"
   ]
  },
  {
   "cell_type": "code",
   "execution_count": null,
   "metadata": {},
   "outputs": [],
   "source": [
    "expdf = STD_BD_GRD4_EXHST_GAS_MSS_TOT\n",
    "table_nm = 'STD_BD_GRD4_EXHST_GAS_MSS_TOT'.upper()\n",
    "\n",
    "# 테이블 생성\n",
    "sql = 'create or replace table ' + table_nm + '( \\n'\n",
    "\n",
    "for idx,column in enumerate(expdf.columns):\n",
    "    if 'float' in expdf[column].dtype.name:\n",
    "        sql += column + ' float'\n",
    "    elif 'int' in expdf[column].dtype.name:\n",
    "        sql += column + ' number'\n",
    "    else:\n",
    "        sql += column + ' varchar(255)'\n",
    "\n",
    "    if len(expdf.columns) - 1 != idx:\n",
    "        sql += ','\n",
    "    sql += '\\n'\n",
    "sql += ')'    \n",
    "we.execute(sql)\n",
    "\n",
    "# 데이터 추가\n",
    "# 7s\n",
    "we.import_from_pandas(expdf, table_nm)"
   ]
  },
  {
   "cell_type": "markdown",
   "metadata": {},
   "source": [
    "## STD_BD_GRD4_EXHST_GAS_MSS"
   ]
  },
  {
   "cell_type": "code",
   "execution_count": null,
   "metadata": {},
   "outputs": [
    {
     "name": "stdout",
     "output_type": "stream",
     "text": [
      "<class 'pandas.core.frame.DataFrame'>\n",
      "RangeIndex: 1162570 entries, 0 to 1162569\n",
      "Data columns (total 15 columns):\n",
      " #   Column                         Non-Null Count    Dtype  \n",
      "---  ------                         --------------    -----  \n",
      " 0   LOAD_DT                        1162570 non-null  int64  \n",
      " 1   VIN                            1162570 non-null  object \n",
      " 2   RGN                            1162570 non-null  object \n",
      " 3   CTPV                           1162570 non-null  object \n",
      " 4   DPF_EXTRNS_YN                  1162570 non-null  object \n",
      " 5   VHCTY_CD                       1162558 non-null  object \n",
      " 6   VHCTY_TY                       1162570 non-null  object \n",
      " 7   SEASON_1ODR_CRDN_NOCS          1162570 non-null  float64\n",
      " 8   SEASON_2ODR_CRDN_NOCS          1162570 non-null  float64\n",
      " 9   SEASON_3ODR_CRDN_NOCS          1162570 non-null  float64\n",
      " 10  SEASON_4ODR_CRDN_NOCS          1162570 non-null  float64\n",
      " 11  SEASON_1ODR_CRDN_NOCS_DY_AVRG  1162570 non-null  float64\n",
      " 12  SEASON_2ODR_CRDN_NOCS_DY_AVRG  1162570 non-null  float64\n",
      " 13  SEASON_3ODR_CRDN_NOCS_DY_AVRG  1162570 non-null  float64\n",
      " 14  SEASON_4ODR_CRDN_NOCS_DY_AVRG  1162570 non-null  float64\n",
      "dtypes: float64(8), int64(1), object(6)\n",
      "memory usage: 133.0+ MB\n"
     ]
    }
   ],
   "source": [
    "STD_BD_GRD4_EXHST_GAS_MSS = pd.read_csv(os.path.join(df1_fold, 'STD_BD_GRD4_EXHST_GAS_MSS.csv'))\n",
    "STD_BD_GRD4_EXHST_GAS_MSS.info()"
   ]
  },
  {
   "cell_type": "code",
   "execution_count": null,
   "metadata": {},
   "outputs": [],
   "source": [
    "expdf = STD_BD_GRD4_EXHST_GAS_MSS\n",
    "table_nm = 'STD_BD_GRD4_EXHST_GAS_MSS'.upper()\n",
    "\n",
    "# 테이블 생성\n",
    "sql = 'create or replace table ' + table_nm + '( \\n'\n",
    "\n",
    "for idx,column in enumerate(expdf.columns):\n",
    "    if 'float' in expdf[column].dtype.name:\n",
    "        sql += column + ' float'\n",
    "    elif 'int' in expdf[column].dtype.name:\n",
    "        sql += column + ' number'\n",
    "    else:\n",
    "        sql += column + ' varchar(255)'\n",
    "\n",
    "    if len(expdf.columns) - 1 != idx:\n",
    "        sql += ','\n",
    "    sql += '\\n'\n",
    "sql += ')'    \n",
    "we.execute(sql)\n",
    "\n",
    "# 데이터 추가\n",
    "# 30.7s\n",
    "we.import_from_pandas(expdf, table_nm)"
   ]
  },
  {
   "cell_type": "markdown",
   "metadata": {},
   "source": [
    "## STD_BD_DAT_GRD4_EXHST_MSS_CURSTT"
   ]
  },
  {
   "cell_type": "code",
   "execution_count": 14,
   "metadata": {},
   "outputs": [
    {
     "name": "stdout",
     "output_type": "stream",
     "text": [
      "<class 'pandas.core.frame.DataFrame'>\n",
      "RangeIndex: 9092 entries, 0 to 9091\n",
      "Data columns (total 13 columns):\n",
      " #   Column              Non-Null Count  Dtype  \n",
      "---  ------              --------------  -----  \n",
      " 0   YR                  9092 non-null   int64  \n",
      " 1   CTPV                9092 non-null   object \n",
      " 2   SGG                 9092 non-null   object \n",
      " 3   FUEL_CD             9092 non-null   object \n",
      " 4   VHCTY_CD            9092 non-null   object \n",
      " 5   VHCTY_TY            9092 non-null   object \n",
      " 6   PURPS_CD2           9092 non-null   object \n",
      " 7   CO_EXHST_MSS_SM     9092 non-null   float64\n",
      " 8   HC_EXHST_MSS_SM     9092 non-null   float64\n",
      " 9   NOx_EXHST_MSS_SM    9092 non-null   float64\n",
      " 10  PM10_EXHST_MSS_SM   9092 non-null   float64\n",
      " 11  PM2_5_EXHST_MSS_SM  9092 non-null   float64\n",
      " 12  LOAD_DT             9092 non-null   int64  \n",
      "dtypes: float64(5), int64(2), object(6)\n",
      "memory usage: 923.5+ KB\n"
     ]
    }
   ],
   "source": [
    "# 0s\n",
    "STD_BD_DAT_GRD4_EXHST_MSS_CURSTT = pd.read_csv(os.path.join(df1_fold, 'STD_BD_DAT_GRD4_EXHST_MSS_CURSTT.csv'))\n",
    "STD_BD_DAT_GRD4_EXHST_MSS_CURSTT.info()"
   ]
  },
  {
   "cell_type": "code",
   "execution_count": 15,
   "metadata": {},
   "outputs": [],
   "source": [
    "expdf = STD_BD_DAT_GRD4_EXHST_MSS_CURSTT\n",
    "table_nm = 'STD_BD_DAT_GRD4_EXHST_MSS_CURSTT'.upper()\n",
    "\n",
    "# 테이블 생성\n",
    "sql = 'create or replace table ' + table_nm + '( \\n'\n",
    "\n",
    "for idx,column in enumerate(expdf.columns):\n",
    "    if 'float' in expdf[column].dtype.name:\n",
    "        sql += column + ' float'\n",
    "    elif 'int' in expdf[column].dtype.name:\n",
    "        sql += column + ' number'\n",
    "    else:\n",
    "        sql += column + ' varchar(255)'\n",
    "\n",
    "    if len(expdf.columns) - 1 != idx:\n",
    "        sql += ','\n",
    "    sql += '\\n'\n",
    "sql += ')'    \n",
    "we.execute(sql)\n",
    "\n",
    "# 데이터 추가\n",
    "# 1s\n",
    "we.import_from_pandas(expdf, table_nm)"
   ]
  },
  {
   "cell_type": "markdown",
   "metadata": {},
   "source": [
    "## STD_BD_DAT_GRD4_MEVLU"
   ]
  },
  {
   "cell_type": "code",
   "execution_count": 16,
   "metadata": {},
   "outputs": [
    {
     "name": "stdout",
     "output_type": "stream",
     "text": [
      "<class 'pandas.core.frame.DataFrame'>\n",
      "RangeIndex: 9092 entries, 0 to 9091\n",
      "Data columns (total 13 columns):\n",
      " #   Column                Non-Null Count  Dtype  \n",
      "---  ------                --------------  -----  \n",
      " 0   YR                    9092 non-null   int64  \n",
      " 1   CTPV                  9092 non-null   object \n",
      " 2   SGG                   9092 non-null   object \n",
      " 3   FUEL_CD               9092 non-null   object \n",
      " 4   VHCTY_CD              9092 non-null   object \n",
      " 5   VHCTY_TY              9092 non-null   object \n",
      " 6   PURPS_CD2             9092 non-null   object \n",
      " 7   CO_EXHST_MSS_AVRG     9092 non-null   float64\n",
      " 8   HC_EXHST_MSS_AVRG     9092 non-null   float64\n",
      " 9   NOx_EXHST_MSS_AVRG    9092 non-null   float64\n",
      " 10  PM10_EXHST_MSS_AVRG   9092 non-null   float64\n",
      " 11  PM2_5_EXHST_MSS_AVRG  9092 non-null   float64\n",
      " 12  LOAD_DT               9092 non-null   int64  \n",
      "dtypes: float64(5), int64(2), object(6)\n",
      "memory usage: 923.5+ KB\n"
     ]
    }
   ],
   "source": [
    "# 0s\n",
    "STD_BD_DAT_GRD4_MEVLU = pd.read_csv(os.path.join(df1_fold, 'STD_BD_DAT_GRD4_MEVLU.csv'))\n",
    "STD_BD_DAT_GRD4_MEVLU.info()"
   ]
  },
  {
   "cell_type": "code",
   "execution_count": 17,
   "metadata": {},
   "outputs": [],
   "source": [
    "expdf = STD_BD_DAT_GRD4_MEVLU\n",
    "table_nm = 'STD_BD_DAT_GRD4_MEVLU'.upper()\n",
    "\n",
    "# 테이블 생성\n",
    "sql = 'create or replace table ' + table_nm + '( \\n'\n",
    "\n",
    "for idx,column in enumerate(expdf.columns):\n",
    "    if 'float' in expdf[column].dtype.name:\n",
    "        sql += column + ' float'\n",
    "    elif 'int' in expdf[column].dtype.name:\n",
    "        sql += column + ' number'\n",
    "    else:\n",
    "        sql += column + ' varchar(255)'\n",
    "\n",
    "    if len(expdf.columns) - 1 != idx:\n",
    "        sql += ','\n",
    "    sql += '\\n'\n",
    "sql += ')'    \n",
    "we.execute(sql)\n",
    "\n",
    "# 데이터 추가\n",
    "# 1s\n",
    "we.import_from_pandas(expdf, table_nm)"
   ]
  },
  {
   "cell_type": "markdown",
   "metadata": {},
   "source": [
    "# BD3"
   ]
  },
  {
   "cell_type": "markdown",
   "metadata": {},
   "source": [
    "## STD_BD_CAR_CURSTT_MOD"
   ]
  },
  {
   "cell_type": "code",
   "execution_count": null,
   "metadata": {},
   "outputs": [
    {
     "name": "stdout",
     "output_type": "stream",
     "text": [
      "<class 'pandas.core.frame.DataFrame'>\n",
      "RangeIndex: 1162570 entries, 0 to 1162569\n",
      "Data columns (total 15 columns):\n",
      " #   Column                         Non-Null Count    Dtype  \n",
      "---  ------                         --------------    -----  \n",
      " 0   LOAD_DT                        1162570 non-null  int64  \n",
      " 1   VIN                            1162570 non-null  object \n",
      " 2   RGN                            1162570 non-null  object \n",
      " 3   CTPV                           1162570 non-null  object \n",
      " 4   DPF_EXTRNS_YN                  1162570 non-null  object \n",
      " 5   VHCTY_CD                       1162558 non-null  object \n",
      " 6   VHCTY_TY                       1162570 non-null  object \n",
      " 7   SEASON_1ODR_CRDN_NOCS          1162570 non-null  float64\n",
      " 8   SEASON_2ODR_CRDN_NOCS          1162570 non-null  float64\n",
      " 9   SEASON_3ODR_CRDN_NOCS          1162570 non-null  float64\n",
      " 10  SEASON_4ODR_CRDN_NOCS          1162570 non-null  float64\n",
      " 11  SEASON_1ODR_CRDN_NOCS_DY_AVRG  1162570 non-null  float64\n",
      " 12  SEASON_2ODR_CRDN_NOCS_DY_AVRG  1162570 non-null  float64\n",
      " 13  SEASON_3ODR_CRDN_NOCS_DY_AVRG  1162570 non-null  float64\n",
      " 14  SEASON_4ODR_CRDN_NOCS_DY_AVRG  1162570 non-null  float64\n",
      "dtypes: float64(8), int64(1), object(6)\n",
      "memory usage: 133.0+ MB\n"
     ]
    }
   ],
   "source": [
    "STD_BD_CAR_CURSTT_MOD = pd.read_csv(os.path.join(df3_fold, 'STD_BD_CAR_CURSTT_MOD.csv'))\n",
    "STD_BD_CAR_CURSTT_MOD.info()"
   ]
  },
  {
   "cell_type": "code",
   "execution_count": null,
   "metadata": {},
   "outputs": [],
   "source": [
    "expdf = STD_BD_CAR_CURSTT_MOD\n",
    "table_nm = 'STD_BD_CAR_CURSTT_MOD'.upper()\n",
    "\n",
    "# 테이블 생성\n",
    "sql = 'create or replace table ' + table_nm + '( \\n'\n",
    "\n",
    "for idx,column in enumerate(expdf.columns):\n",
    "    sql += column + ' varchar(255)'\n",
    "\n",
    "    if len(expdf.columns) - 1 != idx:\n",
    "        sql += ','\n",
    "    sql += '\\n'\n",
    "sql += ')'    \n",
    "we.execute(sql)\n",
    "\n",
    "# 데이터 추가\n",
    "# 5s\n",
    "we.import_from_pandas(expdf, table_nm)"
   ]
  },
  {
   "cell_type": "markdown",
   "metadata": {},
   "source": [
    "## STD_BD_CAR_CURSTT_MOD2"
   ]
  },
  {
   "cell_type": "code",
   "execution_count": null,
   "metadata": {},
   "outputs": [
    {
     "name": "stdout",
     "output_type": "stream",
     "text": [
      "<class 'pandas.core.frame.DataFrame'>\n",
      "RangeIndex: 1162570 entries, 0 to 1162569\n",
      "Data columns (total 15 columns):\n",
      " #   Column                         Non-Null Count    Dtype  \n",
      "---  ------                         --------------    -----  \n",
      " 0   LOAD_DT                        1162570 non-null  int64  \n",
      " 1   VIN                            1162570 non-null  object \n",
      " 2   RGN                            1162570 non-null  object \n",
      " 3   CTPV                           1162570 non-null  object \n",
      " 4   DPF_EXTRNS_YN                  1162570 non-null  object \n",
      " 5   VHCTY_CD                       1162558 non-null  object \n",
      " 6   VHCTY_TY                       1162570 non-null  object \n",
      " 7   SEASON_1ODR_CRDN_NOCS          1162570 non-null  float64\n",
      " 8   SEASON_2ODR_CRDN_NOCS          1162570 non-null  float64\n",
      " 9   SEASON_3ODR_CRDN_NOCS          1162570 non-null  float64\n",
      " 10  SEASON_4ODR_CRDN_NOCS          1162570 non-null  float64\n",
      " 11  SEASON_1ODR_CRDN_NOCS_DY_AVRG  1162570 non-null  float64\n",
      " 12  SEASON_2ODR_CRDN_NOCS_DY_AVRG  1162570 non-null  float64\n",
      " 13  SEASON_3ODR_CRDN_NOCS_DY_AVRG  1162570 non-null  float64\n",
      " 14  SEASON_4ODR_CRDN_NOCS_DY_AVRG  1162570 non-null  float64\n",
      "dtypes: float64(8), int64(1), object(6)\n",
      "memory usage: 133.0+ MB\n"
     ]
    }
   ],
   "source": [
    "STD_BD_CAR_CURSTT_MOD2 = pd.read_csv(os.path.join(df3_fold, 'STD_BD_CAR_CURSTT_MOD2.csv'))\n",
    "STD_BD_CAR_CURSTT_MOD2.info()"
   ]
  },
  {
   "cell_type": "code",
   "execution_count": null,
   "metadata": {},
   "outputs": [],
   "source": [
    "expdf = STD_BD_CAR_CURSTT_MOD2\n",
    "table_nm = 'STD_BD_CAR_CURSTT_MOD2'.upper()\n",
    "\n",
    "# 테이블 생성\n",
    "sql = 'create or replace table ' + table_nm + '( \\n'\n",
    "\n",
    "for idx,column in enumerate(expdf.columns):\n",
    "    sql += column + ' varchar(255)'\n",
    "\n",
    "    if len(expdf.columns) - 1 != idx:\n",
    "        sql += ','\n",
    "    sql += '\\n'\n",
    "sql += ')'    \n",
    "we.execute(sql)\n",
    "\n",
    "# 데이터 추가\n",
    "# 1s\n",
    "we.import_from_pandas(expdf, table_nm)"
   ]
  },
  {
   "cell_type": "markdown",
   "metadata": {},
   "source": [
    "## STD_BD_CAR_CURSTT"
   ]
  },
  {
   "cell_type": "code",
   "execution_count": null,
   "metadata": {},
   "outputs": [
    {
     "name": "stdout",
     "output_type": "stream",
     "text": [
      "<class 'pandas.core.frame.DataFrame'>\n",
      "RangeIndex: 1162570 entries, 0 to 1162569\n",
      "Data columns (total 15 columns):\n",
      " #   Column                         Non-Null Count    Dtype  \n",
      "---  ------                         --------------    -----  \n",
      " 0   LOAD_DT                        1162570 non-null  int64  \n",
      " 1   VIN                            1162570 non-null  object \n",
      " 2   RGN                            1162570 non-null  object \n",
      " 3   CTPV                           1162570 non-null  object \n",
      " 4   DPF_EXTRNS_YN                  1162570 non-null  object \n",
      " 5   VHCTY_CD                       1162558 non-null  object \n",
      " 6   VHCTY_TY                       1162570 non-null  object \n",
      " 7   SEASON_1ODR_CRDN_NOCS          1162570 non-null  float64\n",
      " 8   SEASON_2ODR_CRDN_NOCS          1162570 non-null  float64\n",
      " 9   SEASON_3ODR_CRDN_NOCS          1162570 non-null  float64\n",
      " 10  SEASON_4ODR_CRDN_NOCS          1162570 non-null  float64\n",
      " 11  SEASON_1ODR_CRDN_NOCS_DY_AVRG  1162570 non-null  float64\n",
      " 12  SEASON_2ODR_CRDN_NOCS_DY_AVRG  1162570 non-null  float64\n",
      " 13  SEASON_3ODR_CRDN_NOCS_DY_AVRG  1162570 non-null  float64\n",
      " 14  SEASON_4ODR_CRDN_NOCS_DY_AVRG  1162570 non-null  float64\n",
      "dtypes: float64(8), int64(1), object(6)\n",
      "memory usage: 133.0+ MB\n"
     ]
    }
   ],
   "source": [
    "STD_BD_CAR_CURSTT = pd.read_csv(os.path.join(df3_fold, 'STD_BD_CAR_CURSTT.csv'))\n",
    "STD_BD_CAR_CURSTT.info()"
   ]
  },
  {
   "cell_type": "code",
   "execution_count": null,
   "metadata": {},
   "outputs": [],
   "source": [
    "expdf = STD_BD_CAR_CURSTT\n",
    "table_nm = 'STD_BD_CAR_CURSTT'.upper()\n",
    "\n",
    "# 테이블 생성\n",
    "sql = 'create or replace table ' + table_nm + '( \\n'\n",
    "\n",
    "for idx,column in enumerate(expdf.columns):\n",
    "    sql += column + ' varchar(255)'\n",
    "\n",
    "    if len(expdf.columns) - 1 != idx:\n",
    "        sql += ','\n",
    "    sql += '\\n'\n",
    "sql += ')'    \n",
    "we.execute(sql)\n",
    "\n",
    "# 데이터 추가\n",
    "# 1m 56.2s\n",
    "we.import_from_pandas(expdf, table_nm)"
   ]
  },
  {
   "cell_type": "markdown",
   "metadata": {},
   "source": [
    "## STD_BD_CAR_REG_MKCNT"
   ]
  },
  {
   "cell_type": "code",
   "execution_count": null,
   "metadata": {},
   "outputs": [
    {
     "name": "stdout",
     "output_type": "stream",
     "text": [
      "<class 'pandas.core.frame.DataFrame'>\n",
      "RangeIndex: 1162570 entries, 0 to 1162569\n",
      "Data columns (total 15 columns):\n",
      " #   Column                         Non-Null Count    Dtype  \n",
      "---  ------                         --------------    -----  \n",
      " 0   LOAD_DT                        1162570 non-null  int64  \n",
      " 1   VIN                            1162570 non-null  object \n",
      " 2   RGN                            1162570 non-null  object \n",
      " 3   CTPV                           1162570 non-null  object \n",
      " 4   DPF_EXTRNS_YN                  1162570 non-null  object \n",
      " 5   VHCTY_CD                       1162558 non-null  object \n",
      " 6   VHCTY_TY                       1162570 non-null  object \n",
      " 7   SEASON_1ODR_CRDN_NOCS          1162570 non-null  float64\n",
      " 8   SEASON_2ODR_CRDN_NOCS          1162570 non-null  float64\n",
      " 9   SEASON_3ODR_CRDN_NOCS          1162570 non-null  float64\n",
      " 10  SEASON_4ODR_CRDN_NOCS          1162570 non-null  float64\n",
      " 11  SEASON_1ODR_CRDN_NOCS_DY_AVRG  1162570 non-null  float64\n",
      " 12  SEASON_2ODR_CRDN_NOCS_DY_AVRG  1162570 non-null  float64\n",
      " 13  SEASON_3ODR_CRDN_NOCS_DY_AVRG  1162570 non-null  float64\n",
      " 14  SEASON_4ODR_CRDN_NOCS_DY_AVRG  1162570 non-null  float64\n",
      "dtypes: float64(8), int64(1), object(6)\n",
      "memory usage: 133.0+ MB\n"
     ]
    }
   ],
   "source": [
    "STD_BD_CAR_REG_MKCNT = pd.read_csv(os.path.join(df3_fold, 'STD_BD_CAR_REG_MKCNT.csv'))\n",
    "STD_BD_CAR_REG_MKCNT.info()"
   ]
  },
  {
   "cell_type": "code",
   "execution_count": null,
   "metadata": {},
   "outputs": [],
   "source": [
    "expdf = STD_BD_CAR_REG_MKCNT\n",
    "table_nm = 'STD_BD_CAR_REG_MKCNT'.upper()\n",
    "\n",
    "# 테이블 생성\n",
    "sql = 'create or replace table ' + table_nm + '( \\n'\n",
    "\n",
    "for idx,column in enumerate(expdf.columns):\n",
    "    sql += column + ' varchar(255)'\n",
    "\n",
    "    if len(expdf.columns) - 1 != idx:\n",
    "        sql += ','\n",
    "    sql += '\\n'\n",
    "sql += ')'    \n",
    "we.execute(sql)\n",
    "\n",
    "# 데이터 추가\n",
    "# 7s\n",
    "we.import_from_pandas(expdf, table_nm)"
   ]
  },
  {
   "cell_type": "markdown",
   "metadata": {},
   "source": [
    "## STD_BD_CAR_PRET"
   ]
  },
  {
   "cell_type": "code",
   "execution_count": 10,
   "metadata": {},
   "outputs": [
    {
     "name": "stdout",
     "output_type": "stream",
     "text": [
      "<class 'pandas.core.frame.DataFrame'>\n",
      "RangeIndex: 17 entries, 0 to 16\n",
      "Data columns (total 14 columns):\n",
      " #   Column          Non-Null Count  Dtype  \n",
      "---  ------          --------------  -----  \n",
      " 0   LOAD_DT         17 non-null     int64  \n",
      " 1   YR              17 non-null     int64  \n",
      " 2   DSL             4 non-null      float64\n",
      " 3   GSL             4 non-null      float64\n",
      " 4   LPG             4 non-null      float64\n",
      " 5   DSL_PRET        13 non-null     float64\n",
      " 6   DSL_PRET_BSPLN  13 non-null     float64\n",
      " 7   DSL_PRET_AKM    13 non-null     float64\n",
      " 8   GSL_PRET        13 non-null     float64\n",
      " 9   GSL_PRET_BSPLN  13 non-null     float64\n",
      " 10  GSL_PRET_AKM    13 non-null     float64\n",
      " 11  LPG_PRET        13 non-null     float64\n",
      " 12  LPG_PRET_BSPLN  13 non-null     float64\n",
      " 13  LPG_PRET_AKM    13 non-null     float64\n",
      "dtypes: float64(12), int64(2)\n",
      "memory usage: 2.0 KB\n"
     ]
    }
   ],
   "source": [
    "STD_BD_CAR_PRET = pd.read_csv(os.path.join(df3_fold, 'STD_BD_CAR_PRET.csv'))\n",
    "STD_BD_CAR_PRET.info()"
   ]
  },
  {
   "cell_type": "code",
   "execution_count": 11,
   "metadata": {},
   "outputs": [],
   "source": [
    "expdf = STD_BD_CAR_PRET\n",
    "table_nm = 'STD_BD_CAR_PRET'.upper()\n",
    "\n",
    "# 테이블 생성\n",
    "sql = 'create or replace table ' + table_nm + '( \\n'\n",
    "\n",
    "for idx,column in enumerate(expdf.columns):\n",
    "    sql += column + ' varchar(255)'\n",
    "\n",
    "    if len(expdf.columns) - 1 != idx:\n",
    "        sql += ','\n",
    "    sql += '\\n'\n",
    "sql += ')'    \n",
    "we.execute(sql)\n",
    "\n",
    "# 데이터 추가\n",
    "# 7s\n",
    "we.import_from_pandas(expdf, table_nm)"
   ]
  },
  {
   "cell_type": "markdown",
   "metadata": {},
   "source": [
    "## STD_BD_HYBRD_CAR_PRET"
   ]
  },
  {
   "cell_type": "code",
   "execution_count": 12,
   "metadata": {},
   "outputs": [
    {
     "name": "stdout",
     "output_type": "stream",
     "text": [
      "<class 'pandas.core.frame.DataFrame'>\n",
      "RangeIndex: 17 entries, 0 to 16\n",
      "Data columns (total 8 columns):\n",
      " #   Column     Non-Null Count  Dtype  \n",
      "---  ------     --------------  -----  \n",
      " 0   LOAD_DT    17 non-null     int64  \n",
      " 1   YR         17 non-null     int64  \n",
      " 2   GSLH       4 non-null      float64\n",
      " 3   DSLH       4 non-null      float64\n",
      " 4   LPGH       4 non-null      float64\n",
      " 5   GSLH_PRET  13 non-null     float64\n",
      " 6   DSLH_PRET  13 non-null     float64\n",
      " 7   LPGH_PRET  13 non-null     float64\n",
      "dtypes: float64(6), int64(2)\n",
      "memory usage: 1.2 KB\n"
     ]
    }
   ],
   "source": [
    "STD_BD_HYBRD_CAR_PRET = pd.read_csv(os.path.join(df3_fold, 'STD_BD_HYBRD_CAR_PRET.csv'))\n",
    "STD_BD_HYBRD_CAR_PRET.info()"
   ]
  },
  {
   "cell_type": "code",
   "execution_count": 13,
   "metadata": {},
   "outputs": [],
   "source": [
    "expdf = STD_BD_HYBRD_CAR_PRET\n",
    "table_nm = 'STD_BD_HYBRD_CAR_PRET'.upper()\n",
    "\n",
    "# 테이블 생성\n",
    "sql = 'create or replace table ' + table_nm + '( \\n'\n",
    "\n",
    "for idx,column in enumerate(expdf.columns):\n",
    "    if 'float' in expdf[column].dtype.name:\n",
    "        sql += column + ' float'\n",
    "    elif 'int' in expdf[column].dtype.name:\n",
    "        sql += column + ' number'\n",
    "    else:\n",
    "        sql += column + ' varchar(255)'\n",
    "\n",
    "    if len(expdf.columns) - 1 != idx:\n",
    "        sql += ','\n",
    "    sql += '\\n'\n",
    "sql += ')'    \n",
    "we.execute(sql)\n",
    "\n",
    "# 데이터 추가\n",
    "# 7s\n",
    "we.import_from_pandas(expdf, table_nm)"
   ]
  },
  {
   "cell_type": "markdown",
   "metadata": {},
   "source": [
    "## STD_BD_FUEL_GRD_VHCL_CURSTT_PRET"
   ]
  },
  {
   "cell_type": "code",
   "execution_count": null,
   "metadata": {},
   "outputs": [
    {
     "name": "stdout",
     "output_type": "stream",
     "text": [
      "<class 'pandas.core.frame.DataFrame'>\n",
      "RangeIndex: 1162570 entries, 0 to 1162569\n",
      "Data columns (total 15 columns):\n",
      " #   Column                         Non-Null Count    Dtype  \n",
      "---  ------                         --------------    -----  \n",
      " 0   LOAD_DT                        1162570 non-null  int64  \n",
      " 1   VIN                            1162570 non-null  object \n",
      " 2   RGN                            1162570 non-null  object \n",
      " 3   CTPV                           1162570 non-null  object \n",
      " 4   DPF_EXTRNS_YN                  1162570 non-null  object \n",
      " 5   VHCTY_CD                       1162558 non-null  object \n",
      " 6   VHCTY_TY                       1162570 non-null  object \n",
      " 7   SEASON_1ODR_CRDN_NOCS          1162570 non-null  float64\n",
      " 8   SEASON_2ODR_CRDN_NOCS          1162570 non-null  float64\n",
      " 9   SEASON_3ODR_CRDN_NOCS          1162570 non-null  float64\n",
      " 10  SEASON_4ODR_CRDN_NOCS          1162570 non-null  float64\n",
      " 11  SEASON_1ODR_CRDN_NOCS_DY_AVRG  1162570 non-null  float64\n",
      " 12  SEASON_2ODR_CRDN_NOCS_DY_AVRG  1162570 non-null  float64\n",
      " 13  SEASON_3ODR_CRDN_NOCS_DY_AVRG  1162570 non-null  float64\n",
      " 14  SEASON_4ODR_CRDN_NOCS_DY_AVRG  1162570 non-null  float64\n",
      "dtypes: float64(8), int64(1), object(6)\n",
      "memory usage: 133.0+ MB\n"
     ]
    }
   ],
   "source": [
    "STD_BD_FUEL_GRD_VHCL_CURSTT_PRET = pd.read_csv(os.path.join(df3_fold, 'STD_BD_FUEL_GRD_VHCL_CURSTT_PRET.csv'))\n",
    "STD_BD_FUEL_GRD_VHCL_CURSTT_PRET.info()"
   ]
  },
  {
   "cell_type": "code",
   "execution_count": null,
   "metadata": {},
   "outputs": [],
   "source": [
    "expdf = STD_BD_FUEL_GRD_VHCL_CURSTT_PRET\n",
    "table_nm = 'STD_BD_FUEL_GRD_VHCL_CURSTT_PRET'.upper()\n",
    "\n",
    "# 테이블 생성\n",
    "sql = 'create or replace table ' + table_nm + '( \\n'\n",
    "\n",
    "for idx,column in enumerate(expdf.columns):\n",
    "    sql += column + ' varchar(255)'\n",
    "\n",
    "    if len(expdf.columns) - 1 != idx:\n",
    "        sql += ','\n",
    "    sql += '\\n'\n",
    "sql += ')'    \n",
    "we.execute(sql)\n",
    "\n",
    "# 데이터 추가\n",
    "# 7s\n",
    "we.import_from_pandas(expdf, table_nm)"
   ]
  },
  {
   "cell_type": "markdown",
   "metadata": {},
   "source": [
    "## STD_BD_ECO_CAR_PRET"
   ]
  },
  {
   "cell_type": "code",
   "execution_count": null,
   "metadata": {},
   "outputs": [
    {
     "name": "stdout",
     "output_type": "stream",
     "text": [
      "<class 'pandas.core.frame.DataFrame'>\n",
      "RangeIndex: 1162570 entries, 0 to 1162569\n",
      "Data columns (total 15 columns):\n",
      " #   Column                         Non-Null Count    Dtype  \n",
      "---  ------                         --------------    -----  \n",
      " 0   LOAD_DT                        1162570 non-null  int64  \n",
      " 1   VIN                            1162570 non-null  object \n",
      " 2   RGN                            1162570 non-null  object \n",
      " 3   CTPV                           1162570 non-null  object \n",
      " 4   DPF_EXTRNS_YN                  1162570 non-null  object \n",
      " 5   VHCTY_CD                       1162558 non-null  object \n",
      " 6   VHCTY_TY                       1162570 non-null  object \n",
      " 7   SEASON_1ODR_CRDN_NOCS          1162570 non-null  float64\n",
      " 8   SEASON_2ODR_CRDN_NOCS          1162570 non-null  float64\n",
      " 9   SEASON_3ODR_CRDN_NOCS          1162570 non-null  float64\n",
      " 10  SEASON_4ODR_CRDN_NOCS          1162570 non-null  float64\n",
      " 11  SEASON_1ODR_CRDN_NOCS_DY_AVRG  1162570 non-null  float64\n",
      " 12  SEASON_2ODR_CRDN_NOCS_DY_AVRG  1162570 non-null  float64\n",
      " 13  SEASON_3ODR_CRDN_NOCS_DY_AVRG  1162570 non-null  float64\n",
      " 14  SEASON_4ODR_CRDN_NOCS_DY_AVRG  1162570 non-null  float64\n",
      "dtypes: float64(8), int64(1), object(6)\n",
      "memory usage: 133.0+ MB\n"
     ]
    }
   ],
   "source": [
    "STD_BD_ECO_CAR_PRET = pd.read_csv(os.path.join(df3_fold, 'STD_BD_ECO_CAR_PRET.csv'))\n",
    "STD_BD_ECO_CAR_PRET.info()"
   ]
  },
  {
   "cell_type": "code",
   "execution_count": null,
   "metadata": {},
   "outputs": [],
   "source": [
    "expdf = STD_BD_ECO_CAR_PRET\n",
    "table_nm = 'STD_BD_ECO_CAR_PRET'.upper()\n",
    "\n",
    "# 테이블 생성\n",
    "sql = 'create or replace table ' + table_nm + '( \\n'\n",
    "\n",
    "for idx,column in enumerate(expdf.columns):\n",
    "    if 'float' in expdf[column].dtype.name:\n",
    "        sql += column + ' float'\n",
    "    elif 'int' in expdf[column].dtype.name:\n",
    "        sql += column + ' number'\n",
    "    else:\n",
    "        sql += column + ' varchar(255)'\n",
    "\n",
    "    if len(expdf.columns) - 1 != idx:\n",
    "        sql += ','\n",
    "    sql += '\\n'\n",
    "sql += ')'    \n",
    "we.execute(sql)\n",
    "\n",
    "# 데이터 추가\n",
    "# 7s\n",
    "we.import_from_pandas(expdf, table_nm)"
   ]
  },
  {
   "cell_type": "markdown",
   "metadata": {},
   "source": [
    "## STD_BD_ERSR_RSLT"
   ]
  },
  {
   "cell_type": "code",
   "execution_count": null,
   "metadata": {},
   "outputs": [
    {
     "name": "stdout",
     "output_type": "stream",
     "text": [
      "<class 'pandas.core.frame.DataFrame'>\n",
      "RangeIndex: 1162570 entries, 0 to 1162569\n",
      "Data columns (total 15 columns):\n",
      " #   Column                         Non-Null Count    Dtype  \n",
      "---  ------                         --------------    -----  \n",
      " 0   LOAD_DT                        1162570 non-null  int64  \n",
      " 1   VIN                            1162570 non-null  object \n",
      " 2   RGN                            1162570 non-null  object \n",
      " 3   CTPV                           1162570 non-null  object \n",
      " 4   DPF_EXTRNS_YN                  1162570 non-null  object \n",
      " 5   VHCTY_CD                       1162558 non-null  object \n",
      " 6   VHCTY_TY                       1162570 non-null  object \n",
      " 7   SEASON_1ODR_CRDN_NOCS          1162570 non-null  float64\n",
      " 8   SEASON_2ODR_CRDN_NOCS          1162570 non-null  float64\n",
      " 9   SEASON_3ODR_CRDN_NOCS          1162570 non-null  float64\n",
      " 10  SEASON_4ODR_CRDN_NOCS          1162570 non-null  float64\n",
      " 11  SEASON_1ODR_CRDN_NOCS_DY_AVRG  1162570 non-null  float64\n",
      " 12  SEASON_2ODR_CRDN_NOCS_DY_AVRG  1162570 non-null  float64\n",
      " 13  SEASON_3ODR_CRDN_NOCS_DY_AVRG  1162570 non-null  float64\n",
      " 14  SEASON_4ODR_CRDN_NOCS_DY_AVRG  1162570 non-null  float64\n",
      "dtypes: float64(8), int64(1), object(6)\n",
      "memory usage: 133.0+ MB\n"
     ]
    }
   ],
   "source": [
    "STD_BD_ERSR_RSLT = pd.read_csv(os.path.join(df3_fold, 'STD_BD_ERSR_RSLT.csv'))\n",
    "STD_BD_ERSR_RSLT.info()"
   ]
  },
  {
   "cell_type": "code",
   "execution_count": null,
   "metadata": {},
   "outputs": [],
   "source": [
    "expdf = STD_BD_ERSR_RSLT\n",
    "table_nm = 'STD_BD_ERSR_RSLT'.upper()\n",
    "\n",
    "# 테이블 생성\n",
    "sql = 'create or replace table ' + table_nm + '( \\n'\n",
    "\n",
    "for idx,column in enumerate(expdf.columns):\n",
    "    if 'float' in expdf[column].dtype.name:\n",
    "        sql += column + ' float'\n",
    "    elif 'int' in expdf[column].dtype.name:\n",
    "        sql += column + ' number'\n",
    "    else:\n",
    "        sql += column + ' varchar(255)'\n",
    "\n",
    "    if len(expdf.columns) - 1 != idx:\n",
    "        sql += ','\n",
    "    sql += '\\n'\n",
    "sql += ')'    \n",
    "we.execute(sql)\n",
    "\n",
    "# 데이터 추가\n",
    "# 12.6s\n",
    "we.import_from_pandas(expdf, table_nm)"
   ]
  },
  {
   "cell_type": "markdown",
   "metadata": {},
   "source": [
    "## STD_BD_DAT_GRD_CURSTT"
   ]
  },
  {
   "cell_type": "code",
   "execution_count": 18,
   "metadata": {},
   "outputs": [
    {
     "name": "stdout",
     "output_type": "stream",
     "text": [
      "<class 'pandas.core.frame.DataFrame'>\n",
      "RangeIndex: 293760 entries, 0 to 293759\n",
      "Data columns (total 12 columns):\n",
      " #   Column            Non-Null Count   Dtype  \n",
      "---  ------            --------------   -----  \n",
      " 0   CTPV              293760 non-null  object \n",
      " 1   YR                293760 non-null  int64  \n",
      " 2   MM                293760 non-null  int64  \n",
      " 3   EXHST_GAS_GRD_CD  293760 non-null  object \n",
      " 4   FUEL_CD           293760 non-null  object \n",
      " 5   VHCTY_CD          293760 non-null  object \n",
      " 6   VHCTY_TY          293760 non-null  object \n",
      " 7   PURPS_CD2         293760 non-null  object \n",
      " 8   VHCL_MKCNT        293760 non-null  float64\n",
      " 9   ERSR_MKCNT        293760 non-null  float64\n",
      " 10  YR_FUEL_VHCL_RT   293760 non-null  float64\n",
      " 11  LOAD_DT           293760 non-null  int64  \n",
      "dtypes: float64(3), int64(3), object(6)\n",
      "memory usage: 26.9+ MB\n"
     ]
    }
   ],
   "source": [
    "# 1s\n",
    "STD_BD_DAT_GRD_CURSTT = pd.read_csv(os.path.join(df3_fold, 'STD_BD_DAT_GRD_CURSTT.csv'))\n",
    "STD_BD_DAT_GRD_CURSTT.info()"
   ]
  },
  {
   "cell_type": "code",
   "execution_count": 19,
   "metadata": {},
   "outputs": [],
   "source": [
    "expdf = STD_BD_DAT_GRD_CURSTT\n",
    "table_nm = 'STD_BD_DAT_GRD_CURSTT'.upper()\n",
    "\n",
    "# 테이블 생성\n",
    "try:\n",
    "    sql = 'create or replace table ' + table_nm + '( \\n'\n",
    "\n",
    "    for idx,column in enumerate(expdf.columns):\n",
    "        if 'float' in expdf[column].dtype.name:\n",
    "            sql += column + ' float'\n",
    "        elif 'int' in expdf[column].dtype.name:\n",
    "            sql += column + ' number'\n",
    "        else:\n",
    "            sql += column + ' varchar(255)'\n",
    "\n",
    "        if len(expdf.columns) - 1 != idx:\n",
    "            sql += ','\n",
    "        sql += '\\n'\n",
    "    sql += ')'    \n",
    "    we.execute(sql)\n",
    "    we.import_from_pandas(expdf, table_nm)\n",
    "except:\n",
    "    # 데이터 추가\n",
    "    # 2s\n",
    "    we.import_from_pandas(expdf, table_nm)"
   ]
  },
  {
   "cell_type": "markdown",
   "metadata": {},
   "source": [
    "## STD_BD_DAT_FUEL_CAR_DEC"
   ]
  },
  {
   "cell_type": "code",
   "execution_count": 20,
   "metadata": {},
   "outputs": [
    {
     "name": "stdout",
     "output_type": "stream",
     "text": [
      "<class 'pandas.core.frame.DataFrame'>\n",
      "RangeIndex: 1224 entries, 0 to 1223\n",
      "Data columns (total 17 columns):\n",
      " #   Column            Non-Null Count  Dtype  \n",
      "---  ------            --------------  -----  \n",
      " 0   YR                1224 non-null   int64  \n",
      " 1   QRT               1224 non-null   int64  \n",
      " 2   EXHST_GAS_GRD_CD  1224 non-null   object \n",
      " 3   FUEL_CD           1224 non-null   object \n",
      " 4   LPG_MKCNT         96 non-null     float64\n",
      " 5   LPG_PRET          312 non-null    float64\n",
      " 6   LPG_PRET_BSPLN    312 non-null    float64\n",
      " 7   LPG_PRET_AKM      312 non-null    float64\n",
      " 8   DSL_MKCNT         96 non-null     float64\n",
      " 9   DSL_PRET          312 non-null    float64\n",
      " 10  DSL_PRET_BSPLN    312 non-null    float64\n",
      " 11  DSL_PRET_AKM      312 non-null    float64\n",
      " 12  GSL_MKCNT         96 non-null     float64\n",
      " 13  GSL_PRET          312 non-null    float64\n",
      " 14  GSL_PRET_BSPLN    312 non-null    float64\n",
      " 15  GSL_PRET_AKM      312 non-null    float64\n",
      " 16  LOAD_DT           1224 non-null   int64  \n",
      "dtypes: float64(12), int64(3), object(2)\n",
      "memory usage: 162.7+ KB\n"
     ]
    }
   ],
   "source": [
    "# 0s\n",
    "STD_BD_DAT_FUEL_CAR_DEC = pd.read_csv(os.path.join(df3_fold, 'STD_BD_DAT_FUEL_CAR_DEC.csv'))\n",
    "STD_BD_DAT_FUEL_CAR_DEC.info()"
   ]
  },
  {
   "cell_type": "code",
   "execution_count": 32,
   "metadata": {},
   "outputs": [],
   "source": [
    "expdf = STD_BD_DAT_FUEL_CAR_DEC\n",
    "table_nm = 'STD_BD_DAT_FUEL_CAR_DEC'.upper()\n",
    "\n",
    "# 테이블 생성\n",
    "try:\n",
    "    sql = 'create or replace table ' + table_nm + '( \\n'\n",
    "\n",
    "    for idx,column in enumerate(expdf.columns):\n",
    "        if 'float' in expdf[column].dtype.name:\n",
    "            sql += column + ' float'\n",
    "        elif 'int' in expdf[column].dtype.name:\n",
    "            sql += column + ' number'\n",
    "        else:\n",
    "            sql += column + ' varchar(255)'\n",
    "\n",
    "        if len(expdf.columns) - 1 != idx:\n",
    "            sql += ','\n",
    "        sql += '\\n'\n",
    "    sql += ')'    \n",
    "    we.execute(sql)\n",
    "    we.import_from_pandas(expdf, table_nm)\n",
    "except:\n",
    "    # 데이터 추가\n",
    "    # 1s\n",
    "    we.import_from_pandas(expdf, table_nm)"
   ]
  },
  {
   "cell_type": "markdown",
   "metadata": {},
   "source": [
    "## STD_BD_GRD5_ELPDSRC_CURSTT"
   ]
  },
  {
   "cell_type": "code",
   "execution_count": null,
   "metadata": {},
   "outputs": [
    {
     "name": "stdout",
     "output_type": "stream",
     "text": [
      "<class 'pandas.core.frame.DataFrame'>\n",
      "RangeIndex: 1162570 entries, 0 to 1162569\n",
      "Data columns (total 15 columns):\n",
      " #   Column                         Non-Null Count    Dtype  \n",
      "---  ------                         --------------    -----  \n",
      " 0   LOAD_DT                        1162570 non-null  int64  \n",
      " 1   VIN                            1162570 non-null  object \n",
      " 2   RGN                            1162570 non-null  object \n",
      " 3   CTPV                           1162570 non-null  object \n",
      " 4   DPF_EXTRNS_YN                  1162570 non-null  object \n",
      " 5   VHCTY_CD                       1162558 non-null  object \n",
      " 6   VHCTY_TY                       1162570 non-null  object \n",
      " 7   SEASON_1ODR_CRDN_NOCS          1162570 non-null  float64\n",
      " 8   SEASON_2ODR_CRDN_NOCS          1162570 non-null  float64\n",
      " 9   SEASON_3ODR_CRDN_NOCS          1162570 non-null  float64\n",
      " 10  SEASON_4ODR_CRDN_NOCS          1162570 non-null  float64\n",
      " 11  SEASON_1ODR_CRDN_NOCS_DY_AVRG  1162570 non-null  float64\n",
      " 12  SEASON_2ODR_CRDN_NOCS_DY_AVRG  1162570 non-null  float64\n",
      " 13  SEASON_3ODR_CRDN_NOCS_DY_AVRG  1162570 non-null  float64\n",
      " 14  SEASON_4ODR_CRDN_NOCS_DY_AVRG  1162570 non-null  float64\n",
      "dtypes: float64(8), int64(1), object(6)\n",
      "memory usage: 133.0+ MB\n"
     ]
    }
   ],
   "source": [
    "STD_BD_GRD5_ELPDSRC_CURSTT = pd.read_csv(os.path.join(df3_fold, 'STD_BD_GRD5_ELPDSRC_CURSTT.csv'))\n",
    "STD_BD_GRD5_ELPDSRC_CURSTT.info()"
   ]
  },
  {
   "cell_type": "code",
   "execution_count": null,
   "metadata": {},
   "outputs": [],
   "source": [
    "expdf = STD_BD_GRD5_ELPDSRC_CURSTT\n",
    "table_nm = 'STD_BD_GRD5_ELPDSRC_CURSTT'.upper()\n",
    "\n",
    "# 테이블 생성\n",
    "sql = 'create or replace table ' + table_nm + '( \\n'\n",
    "\n",
    "for idx,column in enumerate(expdf.columns):\n",
    "    if 'float' in expdf[column].dtype.name:\n",
    "        sql += column + ' float'\n",
    "    elif 'int' in expdf[column].dtype.name:\n",
    "        sql += column + ' number'\n",
    "    else:\n",
    "        sql += column + ' varchar(255)'\n",
    "\n",
    "    if len(expdf.columns) - 1 != idx:\n",
    "        sql += ','\n",
    "    sql += '\\n'\n",
    "sql += ')'    \n",
    "we.execute(sql)\n",
    "\n",
    "# 데이터 추가\n",
    "# 5s\n",
    "we.import_from_pandas(expdf, table_nm)"
   ]
  },
  {
   "cell_type": "markdown",
   "metadata": {},
   "source": [
    "## STD_BD_GRD5_LEM_N_MOD"
   ]
  },
  {
   "cell_type": "code",
   "execution_count": null,
   "metadata": {},
   "outputs": [
    {
     "name": "stdout",
     "output_type": "stream",
     "text": [
      "<class 'pandas.core.frame.DataFrame'>\n",
      "RangeIndex: 1162570 entries, 0 to 1162569\n",
      "Data columns (total 15 columns):\n",
      " #   Column                         Non-Null Count    Dtype  \n",
      "---  ------                         --------------    -----  \n",
      " 0   LOAD_DT                        1162570 non-null  int64  \n",
      " 1   VIN                            1162570 non-null  object \n",
      " 2   RGN                            1162570 non-null  object \n",
      " 3   CTPV                           1162570 non-null  object \n",
      " 4   DPF_EXTRNS_YN                  1162570 non-null  object \n",
      " 5   VHCTY_CD                       1162558 non-null  object \n",
      " 6   VHCTY_TY                       1162570 non-null  object \n",
      " 7   SEASON_1ODR_CRDN_NOCS          1162570 non-null  float64\n",
      " 8   SEASON_2ODR_CRDN_NOCS          1162570 non-null  float64\n",
      " 9   SEASON_3ODR_CRDN_NOCS          1162570 non-null  float64\n",
      " 10  SEASON_4ODR_CRDN_NOCS          1162570 non-null  float64\n",
      " 11  SEASON_1ODR_CRDN_NOCS_DY_AVRG  1162570 non-null  float64\n",
      " 12  SEASON_2ODR_CRDN_NOCS_DY_AVRG  1162570 non-null  float64\n",
      " 13  SEASON_3ODR_CRDN_NOCS_DY_AVRG  1162570 non-null  float64\n",
      " 14  SEASON_4ODR_CRDN_NOCS_DY_AVRG  1162570 non-null  float64\n",
      "dtypes: float64(8), int64(1), object(6)\n",
      "memory usage: 133.0+ MB\n"
     ]
    }
   ],
   "source": [
    "STD_BD_GRD5_LEM_N_MOD = pd.read_csv(os.path.join(df3_fold, 'STD_BD_GRD5_LEM_N_MOD.csv'))\n",
    "STD_BD_GRD5_LEM_N_MOD.info()"
   ]
  },
  {
   "cell_type": "code",
   "execution_count": null,
   "metadata": {},
   "outputs": [],
   "source": [
    "expdf = STD_BD_GRD5_LEM_N_MOD\n",
    "table_nm = 'STD_BD_GRD5_LEM_N_MOD'.upper()\n",
    "\n",
    "# 테이블 생성\n",
    "sql = 'create or replace table ' + table_nm + '( \\n'\n",
    "\n",
    "for idx,column in enumerate(expdf.columns):\n",
    "    if 'float' in expdf[column].dtype.name:\n",
    "        sql += column + ' float'\n",
    "    elif 'int' in expdf[column].dtype.name:\n",
    "        sql += column + ' number'\n",
    "    else:\n",
    "        sql += column + ' varchar(255)'\n",
    "\n",
    "    if len(expdf.columns) - 1 != idx:\n",
    "        sql += ','\n",
    "    sql += '\\n'\n",
    "sql += ')'    \n",
    "we.execute(sql)\n",
    "\n",
    "# 데이터 추가\n",
    "# 5s\n",
    "we.import_from_pandas(expdf, table_nm)"
   ]
  },
  {
   "cell_type": "markdown",
   "metadata": {},
   "source": [
    "## STD_BD_SEASON_CRDN_NOCS_CURSTT"
   ]
  },
  {
   "cell_type": "code",
   "execution_count": null,
   "metadata": {},
   "outputs": [
    {
     "name": "stdout",
     "output_type": "stream",
     "text": [
      "<class 'pandas.core.frame.DataFrame'>\n",
      "RangeIndex: 1162570 entries, 0 to 1162569\n",
      "Data columns (total 15 columns):\n",
      " #   Column                         Non-Null Count    Dtype  \n",
      "---  ------                         --------------    -----  \n",
      " 0   LOAD_DT                        1162570 non-null  int64  \n",
      " 1   VIN                            1162570 non-null  object \n",
      " 2   RGN                            1162570 non-null  object \n",
      " 3   CTPV                           1162570 non-null  object \n",
      " 4   DPF_EXTRNS_YN                  1162570 non-null  object \n",
      " 5   VHCTY_CD                       1162558 non-null  object \n",
      " 6   VHCTY_TY                       1162570 non-null  object \n",
      " 7   SEASON_1ODR_CRDN_NOCS          1162570 non-null  float64\n",
      " 8   SEASON_2ODR_CRDN_NOCS          1162570 non-null  float64\n",
      " 9   SEASON_3ODR_CRDN_NOCS          1162570 non-null  float64\n",
      " 10  SEASON_4ODR_CRDN_NOCS          1162570 non-null  float64\n",
      " 11  SEASON_1ODR_CRDN_NOCS_DY_AVRG  1162570 non-null  float64\n",
      " 12  SEASON_2ODR_CRDN_NOCS_DY_AVRG  1162570 non-null  float64\n",
      " 13  SEASON_3ODR_CRDN_NOCS_DY_AVRG  1162570 non-null  float64\n",
      " 14  SEASON_4ODR_CRDN_NOCS_DY_AVRG  1162570 non-null  float64\n",
      "dtypes: float64(8), int64(1), object(6)\n",
      "memory usage: 133.0+ MB\n"
     ]
    }
   ],
   "source": [
    "STD_BD_SEASON_CRDN_NOCS_CURSTT = pd.read_csv(os.path.join(df3_fold, 'STD_BD_SEASON_CRDN_NOCS_CURSTT.csv'))\n",
    "STD_BD_SEASON_CRDN_NOCS_CURSTT.info()"
   ]
  },
  {
   "cell_type": "code",
   "execution_count": null,
   "metadata": {},
   "outputs": [],
   "source": [
    "expdf = STD_BD_SEASON_CRDN_NOCS_CURSTT\n",
    "table_nm = 'STD_BD_SEASON_CRDN_NOCS_CURSTT'.upper()\n",
    "\n",
    "# 테이블 생성\n",
    "sql = 'create or replace table ' + table_nm + '( \\n'\n",
    "\n",
    "for idx,column in enumerate(expdf.columns):\n",
    "    sql += column + ' varchar(255)'\n",
    "\n",
    "    if len(expdf.columns) - 1 != idx:\n",
    "        sql += ','\n",
    "    sql += '\\n'\n",
    "sql += ')'    \n",
    "we.execute(sql)\n",
    "\n",
    "# 데이터 추가\n",
    "# 5s\n",
    "we.import_from_pandas(expdf, table_nm)"
   ]
  },
  {
   "cell_type": "markdown",
   "metadata": {},
   "source": [
    "## STD_BD_SEASON_DY_AVRG_CRDN_NOCS"
   ]
  },
  {
   "cell_type": "code",
   "execution_count": null,
   "metadata": {},
   "outputs": [
    {
     "name": "stdout",
     "output_type": "stream",
     "text": [
      "<class 'pandas.core.frame.DataFrame'>\n",
      "RangeIndex: 1162570 entries, 0 to 1162569\n",
      "Data columns (total 15 columns):\n",
      " #   Column                         Non-Null Count    Dtype  \n",
      "---  ------                         --------------    -----  \n",
      " 0   LOAD_DT                        1162570 non-null  int64  \n",
      " 1   VIN                            1162570 non-null  object \n",
      " 2   RGN                            1162570 non-null  object \n",
      " 3   CTPV                           1162570 non-null  object \n",
      " 4   DPF_EXTRNS_YN                  1162570 non-null  object \n",
      " 5   VHCTY_CD                       1162558 non-null  object \n",
      " 6   VHCTY_TY                       1162570 non-null  object \n",
      " 7   SEASON_1ODR_CRDN_NOCS          1162570 non-null  float64\n",
      " 8   SEASON_2ODR_CRDN_NOCS          1162570 non-null  float64\n",
      " 9   SEASON_3ODR_CRDN_NOCS          1162570 non-null  float64\n",
      " 10  SEASON_4ODR_CRDN_NOCS          1162570 non-null  float64\n",
      " 11  SEASON_1ODR_CRDN_NOCS_DY_AVRG  1162570 non-null  float64\n",
      " 12  SEASON_2ODR_CRDN_NOCS_DY_AVRG  1162570 non-null  float64\n",
      " 13  SEASON_3ODR_CRDN_NOCS_DY_AVRG  1162570 non-null  float64\n",
      " 14  SEASON_4ODR_CRDN_NOCS_DY_AVRG  1162570 non-null  float64\n",
      "dtypes: float64(8), int64(1), object(6)\n",
      "memory usage: 133.0+ MB\n"
     ]
    }
   ],
   "source": [
    "STD_BD_SEASON_DY_AVRG_CRDN_NOCS = pd.read_csv(os.path.join(df3_fold, 'STD_BD_SEASON_DY_AVRG_CRDN_NOCS.csv'))\n",
    "STD_BD_SEASON_DY_AVRG_CRDN_NOCS.info()"
   ]
  },
  {
   "cell_type": "code",
   "execution_count": null,
   "metadata": {},
   "outputs": [],
   "source": [
    "expdf = STD_BD_SEASON_DY_AVRG_CRDN_NOCS\n",
    "table_nm = 'STD_BD_SEASON_DY_AVRG_CRDN_NOCS'.upper()\n",
    "\n",
    "# 테이블 생성\n",
    "sql = 'create or replace table ' + table_nm + '( \\n'\n",
    "\n",
    "for idx,column in enumerate(expdf.columns):\n",
    "    if 'float' in expdf[column].dtype.name:\n",
    "        sql += column + ' float'\n",
    "    elif 'int' in expdf[column].dtype.name:\n",
    "        sql += column + ' number'\n",
    "    else:\n",
    "        sql += column + ' varchar(255)'\n",
    "\n",
    "    if len(expdf.columns) - 1 != idx:\n",
    "        sql += ','\n",
    "    sql += '\\n'\n",
    "sql += ')'    \n",
    "we.execute(sql)\n",
    "\n",
    "# 데이터 추가\n",
    "# 5s\n",
    "we.import_from_pandas(expdf, table_nm)"
   ]
  },
  {
   "cell_type": "markdown",
   "metadata": {},
   "source": [
    "## STD_BD_ORDITM_DSCL_CURSTT"
   ]
  },
  {
   "cell_type": "code",
   "execution_count": null,
   "metadata": {},
   "outputs": [
    {
     "name": "stdout",
     "output_type": "stream",
     "text": [
      "<class 'pandas.core.frame.DataFrame'>\n",
      "RangeIndex: 1162570 entries, 0 to 1162569\n",
      "Data columns (total 15 columns):\n",
      " #   Column                         Non-Null Count    Dtype  \n",
      "---  ------                         --------------    -----  \n",
      " 0   LOAD_DT                        1162570 non-null  int64  \n",
      " 1   VIN                            1162570 non-null  object \n",
      " 2   RGN                            1162570 non-null  object \n",
      " 3   CTPV                           1162570 non-null  object \n",
      " 4   DPF_EXTRNS_YN                  1162570 non-null  object \n",
      " 5   VHCTY_CD                       1162558 non-null  object \n",
      " 6   VHCTY_TY                       1162570 non-null  object \n",
      " 7   SEASON_1ODR_CRDN_NOCS          1162570 non-null  float64\n",
      " 8   SEASON_2ODR_CRDN_NOCS          1162570 non-null  float64\n",
      " 9   SEASON_3ODR_CRDN_NOCS          1162570 non-null  float64\n",
      " 10  SEASON_4ODR_CRDN_NOCS          1162570 non-null  float64\n",
      " 11  SEASON_1ODR_CRDN_NOCS_DY_AVRG  1162570 non-null  float64\n",
      " 12  SEASON_2ODR_CRDN_NOCS_DY_AVRG  1162570 non-null  float64\n",
      " 13  SEASON_3ODR_CRDN_NOCS_DY_AVRG  1162570 non-null  float64\n",
      " 14  SEASON_4ODR_CRDN_NOCS_DY_AVRG  1162570 non-null  float64\n",
      "dtypes: float64(8), int64(1), object(6)\n",
      "memory usage: 133.0+ MB\n"
     ]
    }
   ],
   "source": [
    "STD_BD_ORDITM_DSCL_CURSTT = pd.read_csv(os.path.join(df3_fold, 'STD_BD_ORDITM_DSCL_CURSTT.csv'))\n",
    "STD_BD_ORDITM_DSCL_CURSTT.info()"
   ]
  },
  {
   "cell_type": "code",
   "execution_count": null,
   "metadata": {},
   "outputs": [],
   "source": [
    "expdf = STD_BD_ORDITM_DSCL_CURSTT\n",
    "table_nm = 'STD_BD_ORDITM_DSCL_CURSTT'.upper()\n",
    "\n",
    "# 테이블 생성\n",
    "sql = 'create or replace table ' + table_nm + '( \\n'\n",
    "\n",
    "for idx,column in enumerate(expdf.columns):\n",
    "    if 'float' in expdf[column].dtype.name:\n",
    "        sql += column + ' float'\n",
    "    elif 'int' in expdf[column].dtype.name:\n",
    "        sql += column + ' number'\n",
    "    else:\n",
    "        sql += column + ' varchar(255)'\n",
    "\n",
    "    if len(expdf.columns) - 1 != idx:\n",
    "        sql += ','\n",
    "    sql += '\\n'\n",
    "sql += ')'    \n",
    "we.execute(sql)\n",
    "\n",
    "# 데이터 추가\n",
    "# 5s\n",
    "we.import_from_pandas(expdf, table_nm)"
   ]
  },
  {
   "cell_type": "markdown",
   "metadata": {},
   "source": [
    "## STD_BD_SEASON_DSCL_RGN_CURSTT"
   ]
  },
  {
   "cell_type": "code",
   "execution_count": null,
   "metadata": {},
   "outputs": [
    {
     "name": "stdout",
     "output_type": "stream",
     "text": [
      "<class 'pandas.core.frame.DataFrame'>\n",
      "RangeIndex: 1162570 entries, 0 to 1162569\n",
      "Data columns (total 15 columns):\n",
      " #   Column                         Non-Null Count    Dtype  \n",
      "---  ------                         --------------    -----  \n",
      " 0   LOAD_DT                        1162570 non-null  int64  \n",
      " 1   VIN                            1162570 non-null  object \n",
      " 2   RGN                            1162570 non-null  object \n",
      " 3   CTPV                           1162570 non-null  object \n",
      " 4   DPF_EXTRNS_YN                  1162570 non-null  object \n",
      " 5   VHCTY_CD                       1162558 non-null  object \n",
      " 6   VHCTY_TY                       1162570 non-null  object \n",
      " 7   SEASON_1ODR_CRDN_NOCS          1162570 non-null  float64\n",
      " 8   SEASON_2ODR_CRDN_NOCS          1162570 non-null  float64\n",
      " 9   SEASON_3ODR_CRDN_NOCS          1162570 non-null  float64\n",
      " 10  SEASON_4ODR_CRDN_NOCS          1162570 non-null  float64\n",
      " 11  SEASON_1ODR_CRDN_NOCS_DY_AVRG  1162570 non-null  float64\n",
      " 12  SEASON_2ODR_CRDN_NOCS_DY_AVRG  1162570 non-null  float64\n",
      " 13  SEASON_3ODR_CRDN_NOCS_DY_AVRG  1162570 non-null  float64\n",
      " 14  SEASON_4ODR_CRDN_NOCS_DY_AVRG  1162570 non-null  float64\n",
      "dtypes: float64(8), int64(1), object(6)\n",
      "memory usage: 133.0+ MB\n"
     ]
    }
   ],
   "source": [
    "STD_BD_SEASON_DSCL_RGN_CURSTT = pd.read_csv(os.path.join(df3_fold, 'STD_BD_SEASON_DSCL_RGN_CURSTT.csv'))\n",
    "STD_BD_SEASON_DSCL_RGN_CURSTT.info()"
   ]
  },
  {
   "cell_type": "code",
   "execution_count": null,
   "metadata": {},
   "outputs": [],
   "source": [
    "expdf = STD_BD_SEASON_DSCL_RGN_CURSTT\n",
    "table_nm = 'STD_BD_SEASON_DSCL_RGN_CURSTT'.upper()\n",
    "\n",
    "# 테이블 생성\n",
    "sql = 'create or replace table ' + table_nm + '( \\n'\n",
    "\n",
    "for idx,column in enumerate(expdf.columns):\n",
    "    sql += column + ' varchar(255)'\n",
    "\n",
    "    if len(expdf.columns) - 1 != idx:\n",
    "        sql += ','\n",
    "    sql += '\\n'\n",
    "sql += ')'    \n",
    "we.execute(sql)\n",
    "\n",
    "# 데이터 추가\n",
    "# 5s\n",
    "we.import_from_pandas(expdf, table_nm)"
   ]
  },
  {
   "cell_type": "markdown",
   "metadata": {},
   "source": [
    "## STD_BD_DAT_GRD5_REDUC_BIZ"
   ]
  },
  {
   "cell_type": "code",
   "execution_count": 22,
   "metadata": {},
   "outputs": [
    {
     "name": "stdout",
     "output_type": "stream",
     "text": [
      "<class 'pandas.core.frame.DataFrame'>\n",
      "RangeIndex: 4 entries, 0 to 3\n",
      "Data columns (total 8 columns):\n",
      " #   Column           Non-Null Count  Dtype  \n",
      "---  ------           --------------  -----  \n",
      " 0   YR               4 non-null      int64  \n",
      " 1   VHCL_MKCNT       4 non-null      float64\n",
      " 2   NTRL_DCLN        3 non-null      float64\n",
      " 3   ELPDSRC          4 non-null      int64  \n",
      " 4   RDCDVC_1KND      4 non-null      float64\n",
      " 5   RDCDVC_1KND_SCR  4 non-null      float64\n",
      " 6   UNMNTNG          4 non-null      float64\n",
      " 7   LOAD_DT          4 non-null      int64  \n",
      "dtypes: float64(5), int64(3)\n",
      "memory usage: 384.0 bytes\n"
     ]
    }
   ],
   "source": [
    "# 0s\n",
    "STD_BD_DAT_GRD5_REDUC_BIZ = pd.read_csv(os.path.join(df3_fold, 'STD_BD_DAT_GRD5_REDUC_BIZ.csv'))\n",
    "STD_BD_DAT_GRD5_REDUC_BIZ.info()"
   ]
  },
  {
   "cell_type": "code",
   "execution_count": 23,
   "metadata": {},
   "outputs": [],
   "source": [
    "expdf = STD_BD_DAT_GRD5_REDUC_BIZ\n",
    "table_nm = 'STD_BD_DAT_GRD5_REDUC_BIZ'.upper()\n",
    "\n",
    "# 테이블 생성\n",
    "try:\n",
    "    sql = 'create table ' + table_nm + '( \\n'\n",
    "\n",
    "    for idx,column in enumerate(expdf.columns):\n",
    "        if 'float' in expdf[column].dtype.name:\n",
    "            sql += column + ' float'\n",
    "        elif 'int' in expdf[column].dtype.name:\n",
    "            sql += column + ' number'\n",
    "        else:\n",
    "            sql += column + ' varchar(255)'\n",
    "\n",
    "        if len(expdf.columns) - 1 != idx:\n",
    "            sql += ','\n",
    "        sql += '\\n'\n",
    "    sql += ')'    \n",
    "    we.execute(sql)\n",
    "    we.import_from_pandas(expdf, table_nm)\n",
    "except:\n",
    "    # 데이터 추가\n",
    "    # 1s\n",
    "    we.import_from_pandas(expdf, table_nm)"
   ]
  },
  {
   "cell_type": "markdown",
   "metadata": {},
   "source": [
    "## STD_BD_DAT_RUN_LMT_CURSTT"
   ]
  },
  {
   "cell_type": "code",
   "execution_count": 24,
   "metadata": {},
   "outputs": [
    {
     "name": "stdout",
     "output_type": "stream",
     "text": [
      "<class 'pandas.core.frame.DataFrame'>\n",
      "RangeIndex: 498 entries, 0 to 497\n",
      "Data columns (total 9 columns):\n",
      " #   Column           Non-Null Count  Dtype  \n",
      "---  ------           --------------  -----  \n",
      " 0   SEASON           498 non-null    object \n",
      " 1   RGN              498 non-null    object \n",
      " 2   CTPV             498 non-null    object \n",
      " 3   VHCTY_CD         498 non-null    object \n",
      " 4   VHCTY_TY         498 non-null    object \n",
      " 5   DSCL_VHCL_MKCNT  498 non-null    int64  \n",
      " 6   UNLEM            498 non-null    int64  \n",
      " 7   DUP_DSCL_MKCNT   425 non-null    float64\n",
      " 8   LOAD_DT          498 non-null    int64  \n",
      "dtypes: float64(1), int64(3), object(5)\n",
      "memory usage: 35.1+ KB\n"
     ]
    }
   ],
   "source": [
    "# 0s\n",
    "STD_BD_DAT_RUN_LMT_CURSTT = pd.read_csv(os.path.join(df3_fold, 'STD_BD_DAT_RUN_LMT_CURSTT.csv'))\n",
    "STD_BD_DAT_RUN_LMT_CURSTT.info()"
   ]
  },
  {
   "cell_type": "code",
   "execution_count": 25,
   "metadata": {},
   "outputs": [],
   "source": [
    "expdf = STD_BD_DAT_RUN_LMT_CURSTT\n",
    "table_nm = 'STD_BD_DAT_RUN_LMT_CURSTT'.upper()\n",
    "\n",
    "# 테이블 생성\n",
    "try:\n",
    "    sql = 'create table ' + table_nm + '( \\n'\n",
    "\n",
    "    for idx,column in enumerate(expdf.columns):\n",
    "        if 'float' in expdf[column].dtype.name:\n",
    "            sql += column + ' float'\n",
    "        elif 'int' in expdf[column].dtype.name:\n",
    "            sql += column + ' number'\n",
    "        else:\n",
    "            sql += column + ' varchar(255)'\n",
    "\n",
    "        if len(expdf.columns) - 1 != idx:\n",
    "            sql += ','\n",
    "        sql += '\\n'\n",
    "    sql += ')'    \n",
    "    we.execute(sql)\n",
    "    we.import_from_pandas(expdf, table_nm)\n",
    "except:\n",
    "    # 데이터 추가\n",
    "    # 1s\n",
    "    we.import_from_pandas(expdf, table_nm)"
   ]
  },
  {
   "cell_type": "markdown",
   "metadata": {},
   "source": [
    "## STD_BD_GRD4_DS_CRRLTN_CFFCNT"
   ]
  },
  {
   "cell_type": "code",
   "execution_count": null,
   "metadata": {},
   "outputs": [
    {
     "name": "stdout",
     "output_type": "stream",
     "text": [
      "<class 'pandas.core.frame.DataFrame'>\n",
      "RangeIndex: 1162570 entries, 0 to 1162569\n",
      "Data columns (total 15 columns):\n",
      " #   Column                         Non-Null Count    Dtype  \n",
      "---  ------                         --------------    -----  \n",
      " 0   LOAD_DT                        1162570 non-null  int64  \n",
      " 1   VIN                            1162570 non-null  object \n",
      " 2   RGN                            1162570 non-null  object \n",
      " 3   CTPV                           1162570 non-null  object \n",
      " 4   DPF_EXTRNS_YN                  1162570 non-null  object \n",
      " 5   VHCTY_CD                       1162558 non-null  object \n",
      " 6   VHCTY_TY                       1162570 non-null  object \n",
      " 7   SEASON_1ODR_CRDN_NOCS          1162570 non-null  float64\n",
      " 8   SEASON_2ODR_CRDN_NOCS          1162570 non-null  float64\n",
      " 9   SEASON_3ODR_CRDN_NOCS          1162570 non-null  float64\n",
      " 10  SEASON_4ODR_CRDN_NOCS          1162570 non-null  float64\n",
      " 11  SEASON_1ODR_CRDN_NOCS_DY_AVRG  1162570 non-null  float64\n",
      " 12  SEASON_2ODR_CRDN_NOCS_DY_AVRG  1162570 non-null  float64\n",
      " 13  SEASON_3ODR_CRDN_NOCS_DY_AVRG  1162570 non-null  float64\n",
      " 14  SEASON_4ODR_CRDN_NOCS_DY_AVRG  1162570 non-null  float64\n",
      "dtypes: float64(8), int64(1), object(6)\n",
      "memory usage: 133.0+ MB\n"
     ]
    }
   ],
   "source": [
    "STD_BD_GRD4_DS_CRRLTN_CFFCNT = pd.read_csv(os.path.join(df3_fold, 'STD_BD_GRD4_DS_CRRLTN_CFFCNT.csv'))\n",
    "STD_BD_GRD4_DS_CRRLTN_CFFCNT.info()"
   ]
  },
  {
   "cell_type": "code",
   "execution_count": null,
   "metadata": {},
   "outputs": [],
   "source": [
    "expdf = STD_BD_GRD4_DS_CRRLTN_CFFCNT\n",
    "table_nm = 'STD_BD_GRD4_DS_CRRLTN_CFFCNT'.upper()\n",
    "\n",
    "# 테이블 생성\n",
    "sql = 'create or replace table ' + table_nm + '( \\n'\n",
    "\n",
    "for idx,column in enumerate(expdf.columns):\n",
    "    if 'float' in expdf[column].dtype.name:\n",
    "        sql += column + ' float'\n",
    "    elif 'int' in expdf[column].dtype.name:\n",
    "        sql += column + ' number'\n",
    "    else:\n",
    "        sql += column + ' varchar(255)'\n",
    "\n",
    "    if len(expdf.columns) - 1 != idx:\n",
    "        sql += ','\n",
    "    sql += '\\n'\n",
    "sql += ')'    \n",
    "we.execute(sql)\n",
    "\n",
    "# 데이터 추가\n",
    "# 5s\n",
    "we.import_from_pandas(expdf, table_nm)"
   ]
  },
  {
   "cell_type": "code",
   "execution_count": null,
   "metadata": {},
   "outputs": [],
   "source": []
  },
  {
   "cell_type": "markdown",
   "metadata": {},
   "source": [
    "## STD_BD_GRD4_LEM_PRIO_ORD_SELCT_CURSTT"
   ]
  },
  {
   "cell_type": "code",
   "execution_count": null,
   "metadata": {},
   "outputs": [
    {
     "name": "stdout",
     "output_type": "stream",
     "text": [
      "<class 'pandas.core.frame.DataFrame'>\n",
      "RangeIndex: 1162570 entries, 0 to 1162569\n",
      "Data columns (total 15 columns):\n",
      " #   Column                         Non-Null Count    Dtype  \n",
      "---  ------                         --------------    -----  \n",
      " 0   LOAD_DT                        1162570 non-null  int64  \n",
      " 1   VIN                            1162570 non-null  object \n",
      " 2   RGN                            1162570 non-null  object \n",
      " 3   CTPV                           1162570 non-null  object \n",
      " 4   DPF_EXTRNS_YN                  1162570 non-null  object \n",
      " 5   VHCTY_CD                       1162558 non-null  object \n",
      " 6   VHCTY_TY                       1162570 non-null  object \n",
      " 7   SEASON_1ODR_CRDN_NOCS          1162570 non-null  float64\n",
      " 8   SEASON_2ODR_CRDN_NOCS          1162570 non-null  float64\n",
      " 9   SEASON_3ODR_CRDN_NOCS          1162570 non-null  float64\n",
      " 10  SEASON_4ODR_CRDN_NOCS          1162570 non-null  float64\n",
      " 11  SEASON_1ODR_CRDN_NOCS_DY_AVRG  1162570 non-null  float64\n",
      " 12  SEASON_2ODR_CRDN_NOCS_DY_AVRG  1162570 non-null  float64\n",
      " 13  SEASON_3ODR_CRDN_NOCS_DY_AVRG  1162570 non-null  float64\n",
      " 14  SEASON_4ODR_CRDN_NOCS_DY_AVRG  1162570 non-null  float64\n",
      "dtypes: float64(8), int64(1), object(6)\n",
      "memory usage: 133.0+ MB\n"
     ]
    }
   ],
   "source": [
    "STD_BD_GRD4_LEM_PRIO_ORD_SELCT_CURSTT = pd.read_csv(os.path.join(df3_fold, 'STD_BD_GRD4_LEM_PRIO_ORD_SELCT_CURSTT.csv'))\n",
    "STD_BD_GRD4_LEM_PRIO_ORD_SELCT_CURSTT.info()"
   ]
  },
  {
   "cell_type": "code",
   "execution_count": null,
   "metadata": {},
   "outputs": [],
   "source": [
    "expdf = STD_BD_GRD4_LEM_PRIO_ORD_SELCT_CURSTT\n",
    "table_nm = 'STD_BD_GRD4_LEM_PRIO_ORD_SELCT_CURSTT'.upper()\n",
    "\n",
    "# 테이블 생성\n",
    "sql = 'create or replace table ' + table_nm + '( \\n'\n",
    "\n",
    "for idx,column in enumerate(expdf.columns):\n",
    "    sql += column + ' varchar(255)'\n",
    "\n",
    "    if len(expdf.columns) - 1 != idx:\n",
    "        sql += ','\n",
    "    sql += '\\n'\n",
    "sql += ')'    \n",
    "we.execute(sql)\n",
    "\n",
    "# 데이터 추가\n",
    "# 5s\n",
    "we.import_from_pandas(expdf, table_nm)"
   ]
  },
  {
   "cell_type": "markdown",
   "metadata": {},
   "source": [
    "## STD_BD_GRD5_DS_CRRLTN_CFFCNT"
   ]
  },
  {
   "cell_type": "code",
   "execution_count": null,
   "metadata": {},
   "outputs": [
    {
     "name": "stdout",
     "output_type": "stream",
     "text": [
      "<class 'pandas.core.frame.DataFrame'>\n",
      "RangeIndex: 1162570 entries, 0 to 1162569\n",
      "Data columns (total 15 columns):\n",
      " #   Column                         Non-Null Count    Dtype  \n",
      "---  ------                         --------------    -----  \n",
      " 0   LOAD_DT                        1162570 non-null  int64  \n",
      " 1   VIN                            1162570 non-null  object \n",
      " 2   RGN                            1162570 non-null  object \n",
      " 3   CTPV                           1162570 non-null  object \n",
      " 4   DPF_EXTRNS_YN                  1162570 non-null  object \n",
      " 5   VHCTY_CD                       1162558 non-null  object \n",
      " 6   VHCTY_TY                       1162570 non-null  object \n",
      " 7   SEASON_1ODR_CRDN_NOCS          1162570 non-null  float64\n",
      " 8   SEASON_2ODR_CRDN_NOCS          1162570 non-null  float64\n",
      " 9   SEASON_3ODR_CRDN_NOCS          1162570 non-null  float64\n",
      " 10  SEASON_4ODR_CRDN_NOCS          1162570 non-null  float64\n",
      " 11  SEASON_1ODR_CRDN_NOCS_DY_AVRG  1162570 non-null  float64\n",
      " 12  SEASON_2ODR_CRDN_NOCS_DY_AVRG  1162570 non-null  float64\n",
      " 13  SEASON_3ODR_CRDN_NOCS_DY_AVRG  1162570 non-null  float64\n",
      " 14  SEASON_4ODR_CRDN_NOCS_DY_AVRG  1162570 non-null  float64\n",
      "dtypes: float64(8), int64(1), object(6)\n",
      "memory usage: 133.0+ MB\n"
     ]
    }
   ],
   "source": [
    "STD_BD_GRD5_DS_CRRLTN_CFFCNT = pd.read_csv(os.path.join(df3_fold, 'STD_BD_GRD5_DS_CRRLTN_CFFCNT.csv'))\n",
    "STD_BD_GRD5_DS_CRRLTN_CFFCNT.info()"
   ]
  },
  {
   "cell_type": "code",
   "execution_count": null,
   "metadata": {},
   "outputs": [],
   "source": [
    "expdf = STD_BD_GRD5_DS_CRRLTN_CFFCNT\n",
    "table_nm = 'STD_BD_GRD5_DS_CRRLTN_CFFCNT'.upper()\n",
    "\n",
    "# 테이블 생성\n",
    "sql = 'create or replace table ' + table_nm + '( \\n'\n",
    "\n",
    "for idx,column in enumerate(expdf.columns):\n",
    "    if 'float' in expdf[column].dtype.name:\n",
    "        sql += column + ' float'\n",
    "    elif 'int' in expdf[column].dtype.name:\n",
    "        sql += column + ' number'\n",
    "    else:\n",
    "        sql += column + ' varchar(255)'\n",
    "\n",
    "    if len(expdf.columns) - 1 != idx:\n",
    "        sql += ','\n",
    "    sql += '\\n'\n",
    "sql += ')'    \n",
    "we.execute(sql)\n",
    "\n",
    "# 데이터 추가\n",
    "# 5s\n",
    "we.import_from_pandas(expdf, table_nm)"
   ]
  },
  {
   "cell_type": "markdown",
   "metadata": {},
   "source": [
    "## STD_BD_GRD5_LEM_PRIO_ORD_SELCT_CURSTT"
   ]
  },
  {
   "cell_type": "code",
   "execution_count": null,
   "metadata": {},
   "outputs": [
    {
     "name": "stdout",
     "output_type": "stream",
     "text": [
      "<class 'pandas.core.frame.DataFrame'>\n",
      "RangeIndex: 1162570 entries, 0 to 1162569\n",
      "Data columns (total 15 columns):\n",
      " #   Column                         Non-Null Count    Dtype  \n",
      "---  ------                         --------------    -----  \n",
      " 0   LOAD_DT                        1162570 non-null  int64  \n",
      " 1   VIN                            1162570 non-null  object \n",
      " 2   RGN                            1162570 non-null  object \n",
      " 3   CTPV                           1162570 non-null  object \n",
      " 4   DPF_EXTRNS_YN                  1162570 non-null  object \n",
      " 5   VHCTY_CD                       1162558 non-null  object \n",
      " 6   VHCTY_TY                       1162570 non-null  object \n",
      " 7   SEASON_1ODR_CRDN_NOCS          1162570 non-null  float64\n",
      " 8   SEASON_2ODR_CRDN_NOCS          1162570 non-null  float64\n",
      " 9   SEASON_3ODR_CRDN_NOCS          1162570 non-null  float64\n",
      " 10  SEASON_4ODR_CRDN_NOCS          1162570 non-null  float64\n",
      " 11  SEASON_1ODR_CRDN_NOCS_DY_AVRG  1162570 non-null  float64\n",
      " 12  SEASON_2ODR_CRDN_NOCS_DY_AVRG  1162570 non-null  float64\n",
      " 13  SEASON_3ODR_CRDN_NOCS_DY_AVRG  1162570 non-null  float64\n",
      " 14  SEASON_4ODR_CRDN_NOCS_DY_AVRG  1162570 non-null  float64\n",
      "dtypes: float64(8), int64(1), object(6)\n",
      "memory usage: 133.0+ MB\n"
     ]
    }
   ],
   "source": [
    "STD_BD_GRD5_LEM_PRIO_ORD_SELCT_CURSTT = pd.read_csv(os.path.join(df3_fold, 'STD_BD_GRD5_LEM_PRIO_ORD_SELCT_CURSTT.csv'))\n",
    "STD_BD_GRD5_LEM_PRIO_ORD_SELCT_CURSTT.info()"
   ]
  },
  {
   "cell_type": "code",
   "execution_count": null,
   "metadata": {},
   "outputs": [],
   "source": [
    "expdf = STD_BD_GRD5_LEM_PRIO_ORD_SELCT_CURSTT\n",
    "table_nm = 'STD_BD_GRD5_LEM_PRIO_ORD_SELCT_CURSTT'.upper()\n",
    "\n",
    "# 테이블 생성\n",
    "sql = 'create or replace table ' + table_nm + '( \\n'\n",
    "\n",
    "for idx,column in enumerate(expdf.columns):\n",
    "    sql += column + ' varchar(255)'\n",
    "\n",
    "    if len(expdf.columns) - 1 != idx:\n",
    "        sql += ','\n",
    "    sql += '\\n'\n",
    "sql += ')'    \n",
    "we.execute(sql)\n",
    "\n",
    "# 데이터 추가\n",
    "# 5s\n",
    "we.import_from_pandas(expdf, table_nm)"
   ]
  },
  {
   "cell_type": "markdown",
   "metadata": {},
   "source": [
    "## STD_BD_DAT_LEM_SELCT"
   ]
  },
  {
   "cell_type": "code",
   "execution_count": 26,
   "metadata": {},
   "outputs": [
    {
     "name": "stdout",
     "output_type": "stream",
     "text": [
      "<class 'pandas.core.frame.DataFrame'>\n",
      "RangeIndex: 396 entries, 0 to 395\n",
      "Data columns (total 13 columns):\n",
      " #   Column               Non-Null Count  Dtype  \n",
      "---  ------               --------------  -----  \n",
      " 0   CTPV                 396 non-null    object \n",
      " 1   EXHST_GAS_GRD_CD     396 non-null    int64  \n",
      " 2   VHCTY_CD             396 non-null    object \n",
      " 3   VHCTY_TY             396 non-null    object \n",
      " 4   SELCT_MKCNT          396 non-null    float64\n",
      " 5   SENO1_MKCNT          396 non-null    float64\n",
      " 6   SENO1_RT             396 non-null    float64\n",
      " 7   SENO2_MKCNT          396 non-null    float64\n",
      " 8   SENO2_RT             396 non-null    float64\n",
      " 9   SENO3_MKCNT          396 non-null    float64\n",
      " 10  SENO3_RT             396 non-null    float64\n",
      " 11  RDCDVC_EXTRNS_MKCNT  396 non-null    int64  \n",
      " 12  LOAD_DT              396 non-null    int64  \n",
      "dtypes: float64(7), int64(3), object(3)\n",
      "memory usage: 40.3+ KB\n"
     ]
    }
   ],
   "source": [
    "# 0s\n",
    "STD_BD_DAT_LEM_SELCT = pd.read_csv(os.path.join(df3_fold, 'STD_BD_DAT_LEM_SELCT.csv'))\n",
    "STD_BD_DAT_LEM_SELCT.info()"
   ]
  },
  {
   "cell_type": "code",
   "execution_count": 27,
   "metadata": {},
   "outputs": [],
   "source": [
    "expdf = STD_BD_DAT_LEM_SELCT\n",
    "table_nm = 'STD_BD_DAT_LEM_SELCT'.upper()\n",
    "\n",
    "# 테이블 생성\n",
    "sql = 'create or replace table ' + table_nm + '( \\n'\n",
    "\n",
    "for idx,column in enumerate(expdf.columns):\n",
    "    if 'float' in expdf[column].dtype.name:\n",
    "        sql += column + ' float'\n",
    "    elif 'int' in expdf[column].dtype.name:\n",
    "        sql += column + ' number'\n",
    "    else:\n",
    "        sql += column + ' varchar(255)'\n",
    "\n",
    "    if len(expdf.columns) - 1 != idx:\n",
    "        sql += ','\n",
    "    sql += '\\n'\n",
    "sql += ')'    \n",
    "we.execute(sql)\n",
    "\n",
    "# 데이터 추가\n",
    "# 1s\n",
    "we.import_from_pandas(expdf, table_nm)"
   ]
  },
  {
   "cell_type": "markdown",
   "metadata": {},
   "source": [
    "## STD_BD_DAT_SELCT_PNT_CURSTT"
   ]
  },
  {
   "cell_type": "code",
   "execution_count": 28,
   "metadata": {},
   "outputs": [
    {
     "name": "stdout",
     "output_type": "stream",
     "text": [
      "<class 'pandas.core.frame.DataFrame'>\n",
      "RangeIndex: 161 entries, 0 to 160\n",
      "Data columns (total 10 columns):\n",
      " #   Column               Non-Null Count  Dtype  \n",
      "---  ------               --------------  -----  \n",
      " 0   EXHST_GAS_GRD_CD     161 non-null    int64  \n",
      " 1   SELCT_PNT_RNG        161 non-null    object \n",
      " 2   VHCTY_CD             161 non-null    object \n",
      " 3   VHCTY_TY             161 non-null    object \n",
      " 4   VHCL_MKCNT           161 non-null    int64  \n",
      " 5   SMO_MSRMT_VAL        161 non-null    float64\n",
      " 6   DY_AVRG_DRVNG_DSTNC  161 non-null    float64\n",
      " 7   RCNT_INSP_ELPSD_WHL  161 non-null    float64\n",
      " 8   RUN_LMT_NOCS         161 non-null    float64\n",
      " 9   LOAD_DT              161 non-null    int64  \n",
      "dtypes: float64(4), int64(3), object(3)\n",
      "memory usage: 12.7+ KB\n"
     ]
    }
   ],
   "source": [
    "# 0s\n",
    "STD_BD_DAT_SELCT_PNT_CURSTT = pd.read_csv(os.path.join(df3_fold, 'STD_BD_DAT_SELCT_PNT_CURSTT.csv'))\n",
    "STD_BD_DAT_SELCT_PNT_CURSTT.info()"
   ]
  },
  {
   "cell_type": "code",
   "execution_count": 29,
   "metadata": {},
   "outputs": [],
   "source": [
    "expdf = STD_BD_DAT_SELCT_PNT_CURSTT\n",
    "table_nm = 'STD_BD_DAT_SELCT_PNT_CURSTT'.upper()\n",
    "\n",
    "# 테이블 생성\n",
    "sql = 'create or replace table ' + table_nm + '( \\n'\n",
    "\n",
    "for idx,column in enumerate(expdf.columns):\n",
    "    if 'float' in expdf[column].dtype.name:\n",
    "        sql += column + ' float'\n",
    "    elif 'int' in expdf[column].dtype.name:\n",
    "        sql += column + ' number'\n",
    "    else:\n",
    "        sql += column + ' varchar(255)'\n",
    "\n",
    "    if len(expdf.columns) - 1 != idx:\n",
    "        sql += ','\n",
    "    sql += '\\n'\n",
    "sql += ')'    \n",
    "we.execute(sql)\n",
    "\n",
    "# 데이터 추가\n",
    "# 1s\n",
    "we.import_from_pandas(expdf, table_nm)"
   ]
  },
  {
   "cell_type": "markdown",
   "metadata": {},
   "source": [
    "# 동양 요청 파일"
   ]
  },
  {
   "cell_type": "markdown",
   "metadata": {},
   "source": [
    "## STD_BD_CAR_CURSTT_MOD_4RD_INS"
   ]
  },
  {
   "cell_type": "code",
   "execution_count": 6,
   "metadata": {},
   "outputs": [
    {
     "name": "stdout",
     "output_type": "stream",
     "text": [
      "<class 'pandas.core.frame.DataFrame'>\n",
      "RangeIndex: 306 entries, 0 to 305\n",
      "Data columns (total 7 columns):\n",
      " #   Column      Non-Null Count  Dtype \n",
      "---  ------      --------------  ----- \n",
      " 0   YR          306 non-null    int64 \n",
      " 1   CRTR_YM     306 non-null    int64 \n",
      " 2   FUEL_CD     306 non-null    object\n",
      " 3   RGN         306 non-null    object\n",
      " 4   CTPV_NM     306 non-null    object\n",
      " 5   VHCL_MKCNT  306 non-null    object\n",
      " 6   LOAD_DT     306 non-null    object\n",
      "dtypes: int64(2), object(5)\n",
      "memory usage: 16.9+ KB\n"
     ]
    }
   ],
   "source": [
    "# 0s\n",
    "STD_BD_CAR_CURSTT_MOD_4RD_INS = pd.read_csv(os.path.join(df1_fold, 'STD_BD_CAR_CURSTT_MOD_4RD_INS.csv'), encoding='cp949')\n",
    "STD_BD_CAR_CURSTT_MOD_4RD_INS.info()"
   ]
  },
  {
   "cell_type": "code",
   "execution_count": 7,
   "metadata": {},
   "outputs": [],
   "source": [
    "expdf = STD_BD_CAR_CURSTT_MOD_4RD_INS\n",
    "table_nm = 'STD_BD_CAR_CURSTT_MOD_4RD_INS'.upper()\n",
    "\n",
    "# 테이블 생성\n",
    "sql = 'create or replace table ' + table_nm + '( \\n'\n",
    "\n",
    "for idx,column in enumerate(expdf.columns):\n",
    "    if 'float' in expdf[column].dtype.name:\n",
    "        sql += column + ' float'\n",
    "    elif 'int' in expdf[column].dtype.name:\n",
    "        sql += column + ' number'\n",
    "    else:\n",
    "        sql += column + ' varchar(255)'\n",
    "\n",
    "    if len(expdf.columns) - 1 != idx:\n",
    "        sql += ','\n",
    "    sql += '\\n'\n",
    "sql += ')'    \n",
    "we.execute(sql)\n",
    "\n",
    "# 데이터 추가\n",
    "# 1s\n",
    "we.import_from_pandas(expdf, table_nm)"
   ]
  },
  {
   "cell_type": "markdown",
   "metadata": {},
   "source": [
    "## STD_BD_CAR_CURSTT_MOD2_4RD_INS"
   ]
  },
  {
   "cell_type": "code",
   "execution_count": 8,
   "metadata": {},
   "outputs": [
    {
     "name": "stdout",
     "output_type": "stream",
     "text": [
      "<class 'pandas.core.frame.DataFrame'>\n",
      "RangeIndex: 96 entries, 0 to 95\n",
      "Data columns (total 6 columns):\n",
      " #   Column       Non-Null Count  Dtype \n",
      "---  ------       --------------  ----- \n",
      " 0   YR           96 non-null     int64 \n",
      " 1   CRTR_YM      96 non-null     int64 \n",
      " 2   VHCTY_CD_NM  96 non-null     object\n",
      " 3   FUEL_CD      96 non-null     object\n",
      " 4   VHCL_MKCNT   84 non-null     object\n",
      " 5   LOAD_DT      96 non-null     object\n",
      "dtypes: int64(2), object(4)\n",
      "memory usage: 4.6+ KB\n"
     ]
    }
   ],
   "source": [
    "# 0s\n",
    "STD_BD_CAR_CURSTT_MOD2_4RD_INS = pd.read_csv(os.path.join(df1_fold, 'STD_BD_CAR_CURSTT_MOD2_4RD_INS.csv'), encoding='cp949')\n",
    "STD_BD_CAR_CURSTT_MOD2_4RD_INS.info()"
   ]
  },
  {
   "cell_type": "code",
   "execution_count": 9,
   "metadata": {},
   "outputs": [],
   "source": [
    "expdf = STD_BD_CAR_CURSTT_MOD2_4RD_INS\n",
    "table_nm = 'STD_BD_CAR_CURSTT_MOD2_4RD_INS'.upper()\n",
    "\n",
    "# 테이블 생성\n",
    "sql = 'create or replace table ' + table_nm + '( \\n'\n",
    "\n",
    "for idx,column in enumerate(expdf.columns):\n",
    "    if 'float' in expdf[column].dtype.name:\n",
    "        sql += column + ' float'\n",
    "    elif 'int' in expdf[column].dtype.name:\n",
    "        sql += column + ' number'\n",
    "    else:\n",
    "        sql += column + ' varchar(255)'\n",
    "\n",
    "    if len(expdf.columns) - 1 != idx:\n",
    "        sql += ','\n",
    "    sql += '\\n'\n",
    "sql += ')'    \n",
    "we.execute(sql)\n",
    "\n",
    "# 데이터 추가\n",
    "# 1s\n",
    "we.import_from_pandas(expdf, table_nm)"
   ]
  },
  {
   "cell_type": "markdown",
   "metadata": {},
   "source": [
    "# code end"
   ]
  }
 ],
 "metadata": {
  "interpreter": {
   "hash": "569b4317022eb29baeafb3d0f1f739310808ea28ce83ca127a35db1c01070585"
  },
  "kernelspec": {
   "display_name": "Python 3 (ipykernel)",
   "language": "python",
   "name": "python3"
  },
  "language_info": {
   "codemirror_mode": {
    "name": "ipython",
    "version": 3
   },
   "file_extension": ".py",
   "mimetype": "text/x-python",
   "name": "python",
   "nbconvert_exporter": "python",
   "pygments_lexer": "ipython3",
   "version": "3.9.13"
  },
  "vscode": {
   "interpreter": {
    "hash": "ad2bdc8ecc057115af97d19610ffacc2b4e99fae6737bb82f5d7fb13d2f2c186"
   }
  }
 },
 "nbformat": 4,
 "nbformat_minor": 4
}
