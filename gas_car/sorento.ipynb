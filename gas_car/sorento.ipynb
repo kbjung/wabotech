{
 "cells": [
  {
   "cell_type": "code",
   "execution_count": 122,
   "metadata": {},
   "outputs": [],
   "source": [
    "import pandas as pd\n",
    "import numpy as np\n",
    "import re\n",
    "from tqdm import tqdm"
   ]
  },
  {
   "cell_type": "code",
   "execution_count": 4,
   "metadata": {},
   "outputs": [
    {
     "name": "stdout",
     "output_type": "stream",
     "text": [
      "<class 'pandas.core.frame.DataFrame'>\n",
      "RangeIndex: 33021 entries, 0 to 33020\n",
      "Data columns (total 34 columns):\n",
      " #   Column   Non-Null Count  Dtype  \n",
      "---  ------   --------------  -----  \n",
      " 0   차량관리번호   33021 non-null  object \n",
      " 1   차량번호     33021 non-null  object \n",
      " 2   법정동코드    33021 non-null  int64  \n",
      " 3   시도명      33021 non-null  object \n",
      " 4   시군구명     33021 non-null  object \n",
      " 5   소유자구분    33021 non-null  object \n",
      " 6   차종       33021 non-null  object \n",
      " 7   용도       33021 non-null  object \n",
      " 8   차대번호     33021 non-null  object \n",
      " 9   최초등록일    33021 non-null  int64  \n",
      " 10  연식       33021 non-null  int64  \n",
      " 11  제작일자     33021 non-null  int64  \n",
      " 12  검사유효일    33021 non-null  int64  \n",
      " 13  인증번호     33021 non-null  object \n",
      " 14  등급       33021 non-null  int64  \n",
      " 15  저공해조치종류  0 non-null      float64\n",
      " 16  저공해조치여부  33021 non-null  object \n",
      " 17  말소여부     33021 non-null  object \n",
      " 18  제원관리번호   33021 non-null  object \n",
      " 19  차명       33021 non-null  object \n",
      " 20  차종분류     33021 non-null  object \n",
      " 21  차종유형     33021 non-null  object \n",
      " 22  자동차형식    33021 non-null  object \n",
      " 23  제작사명     33021 non-null  object \n",
      " 24  연료       33021 non-null  object \n",
      " 25  엔진형식     33021 non-null  object \n",
      " 26  총중량      33021 non-null  int64  \n",
      " 27  적재중량     33021 non-null  int64  \n",
      " 28  엔진출력     33021 non-null  int64  \n",
      " 29  배기량      33021 non-null  int64  \n",
      " 30  승차인원     33021 non-null  int64  \n",
      " 31  차량길이     33021 non-null  int64  \n",
      " 32  차량너비     33021 non-null  int64  \n",
      " 33  차량높이     33021 non-null  int64  \n",
      "dtypes: float64(1), int64(14), object(19)\n",
      "memory usage: 8.6+ MB\n"
     ]
    }
   ],
   "source": [
    "sorento13 = pd.read_excel('data/9MY-KM-13-13_20221219.xlsx')\n",
    "sorento13.info()"
   ]
  },
  {
   "cell_type": "code",
   "execution_count": 8,
   "metadata": {},
   "outputs": [],
   "source": [
    "sorento13.to_csv('data/9MY-KM-13-13_20221219.csv', index=False, encoding='cp949')"
   ]
  },
  {
   "cell_type": "code",
   "execution_count": 5,
   "metadata": {},
   "outputs": [
    {
     "name": "stdout",
     "output_type": "stream",
     "text": [
      "<class 'pandas.core.frame.DataFrame'>\n",
      "RangeIndex: 85761 entries, 0 to 85760\n",
      "Data columns (total 35 columns):\n",
      " #   Column       Non-Null Count  Dtype  \n",
      "---  ------       --------------  -----  \n",
      " 0   차량관리번호       85761 non-null  object \n",
      " 1   차량번호         85761 non-null  object \n",
      " 2   법정동코드        85761 non-null  int64  \n",
      " 3   시도명          85761 non-null  object \n",
      " 4   시군구명         85761 non-null  object \n",
      " 5   소유자구분        85761 non-null  object \n",
      " 6   차종           85761 non-null  object \n",
      " 7   용도           85761 non-null  object \n",
      " 8   차대번호         85761 non-null  object \n",
      " 9   최초등록일        85761 non-null  int64  \n",
      " 10  연식           85761 non-null  int64  \n",
      " 11  제작일자         85761 non-null  int64  \n",
      " 12  검사유효일        85760 non-null  float64\n",
      " 13  인증번호         85757 non-null  object \n",
      " 14  등급           85761 non-null  int64  \n",
      " 15  저공해조치종류      0 non-null      float64\n",
      " 16  저공해조치여부      85761 non-null  object \n",
      " 17  말소여부         85761 non-null  object \n",
      " 18  제원관리번호       85761 non-null  object \n",
      " 19  차명           85761 non-null  object \n",
      " 20  차종분류         85761 non-null  object \n",
      " 21  차종유형         85761 non-null  object \n",
      " 22  자동차형식        85761 non-null  object \n",
      " 23  제작사명         85761 non-null  object \n",
      " 24  연료           85761 non-null  object \n",
      " 25  엔진형식         85761 non-null  object \n",
      " 26  총중량          85761 non-null  int64  \n",
      " 27  적재중량         85761 non-null  int64  \n",
      " 28  엔진출력         85761 non-null  int64  \n",
      " 29  배기량          85761 non-null  int64  \n",
      " 30  승차인원         85761 non-null  int64  \n",
      " 31  차량길이         85761 non-null  int64  \n",
      " 32  차량너비         85761 non-null  int64  \n",
      " 33  차량높이         85761 non-null  int64  \n",
      " 34  Unnamed: 34  4 non-null      object \n",
      "dtypes: float64(2), int64(13), object(20)\n",
      "memory usage: 22.9+ MB\n"
     ]
    }
   ],
   "source": [
    "sorento14 = pd.read_excel('data/9MY-KM-14-22 _20221219.xlsx')\n",
    "sorento14.info()"
   ]
  },
  {
   "cell_type": "code",
   "execution_count": 9,
   "metadata": {},
   "outputs": [],
   "source": [
    "sorento14.to_csv('data/9MY-KM-14-22 _20221219.csv', index=False, encoding='cp949')"
   ]
  },
  {
   "cell_type": "code",
   "execution_count": 31,
   "metadata": {},
   "outputs": [
    {
     "name": "stderr",
     "output_type": "stream",
     "text": [
      "C:\\Users\\kbjung\\AppData\\Local\\Temp\\ipykernel_18336\\1239301097.py:1: DtypeWarning: Columns (36,39,42,45,48,63) have mixed types. Specify dtype option on import or set low_memory=False.\n",
      "  tdf1 = pd.read_csv('data/[정기검사]20190701_20220630.csv',index_col=0)\n",
      "C:\\Users\\kbjung\\AppData\\Local\\Temp\\ipykernel_18336\\1239301097.py:2: DtypeWarning: Columns (13,44,45,46,49,53,54,55,59,60,61,65,66,73,74) have mixed types. Specify dtype option on import or set low_memory=False.\n",
      "  tdf2 = pd.read_csv('data/[정밀검사]20190701_20220630.csv',index_col=0)\n"
     ]
    }
   ],
   "source": [
    "# 약 18m\n",
    "tdf1 = pd.read_csv('data/[정기검사]20190701_20220630.csv',index_col=0)\n",
    "tdf2 = pd.read_csv('data/[정밀검사]20190701_20220630.csv',index_col=0)"
   ]
  },
  {
   "cell_type": "code",
   "execution_count": 42,
   "metadata": {},
   "outputs": [],
   "source": [
    "df = pd.read_csv('data/[G4]220819_22.06월기준_4등급.csv', index_col=0, encoding='cp949')"
   ]
  },
  {
   "cell_type": "code",
   "execution_count": 228,
   "metadata": {},
   "outputs": [
    {
     "data": {
      "text/plain": [
       "((16535477, 63), (22397343, 75))"
      ]
     },
     "execution_count": 228,
     "metadata": {},
     "output_type": "execute_result"
    }
   ],
   "source": [
    "tdf1.shape, tdf2.shape"
   ]
  },
  {
   "cell_type": "code",
   "execution_count": 229,
   "metadata": {},
   "outputs": [
    {
     "data": {
      "text/plain": [
       "Index(['검사소명', '정기검사일자', '검사종류', '검사접수번호', '통합접수번호', '차량번호', '차대번호', '차량형식번호',\n",
       "       '차명', '차종', '차량용도', '차량연식', '차량연료', '주행거리', '차량길이', '차량너비', '차량높이',\n",
       "       '엔진형식', '배기량', '엔진출력', '차량중량', '총중량', '정원', '비고', '최초등록일자', '제작일자',\n",
       "       '검사전 유효기간 만료일', '관능검사판정', '관능부적합항목', '검사방법', '무부하매연측정치1', '무부하매연허용치1',\n",
       "       '무부하매연판정1', '무부하매연측정치2', '무부하매연허용치2', '무부하매연판정2', '무부하매연측정치3',\n",
       "       '무부하매연허용치3', '무부하매연판정3', '무부하매연측정치4', '무부하매연허용치4', '무부하매연판정4',\n",
       "       '무부하매연측정치5', '무부하매연허용치5', '무부하매연판정5', '무부하매연측정치6', '무부하매연허용치6',\n",
       "       '무부하매연판정6', '이산화탄소값', '최대출력허용치', '최대출력측정값', '산소값', '공기온도', '공기압력',\n",
       "       '검사판정', '재검사기간', '검사후 갱신유효기간', '관능검사원', '배출가스검사원', '책임검사원', '검사 판정시간',\n",
       "       '자료구분코드', '파일명'],\n",
       "      dtype='object')"
      ]
     },
     "execution_count": 229,
     "metadata": {},
     "output_type": "execute_result"
    }
   ],
   "source": [
    "tdf1.columns"
   ]
  },
  {
   "cell_type": "code",
   "execution_count": 232,
   "metadata": {},
   "outputs": [
    {
     "data": {
      "text/plain": [
       "Index(['차량관리번호', '차량번호', '법정동코드', '시도명', '시군구명', '소유자구분', '차종', '용도', '차대번호',\n",
       "       '최초등록일', '연식', '제작일자', '검사유효일', '인증번호', '등급', '저공해조치종류', '저공해조치여부',\n",
       "       '말소여부', '제원관리번호', '차명', '차종분류', '차종유형', '자동차형식', '제작사명', '연료', '엔진형식',\n",
       "       '총중량', '적재중량', '엔진출력', '배기량', '승차인원', '차량길이', '차량너비', '차량높이',\n",
       "       'Unnamed: 34'],\n",
       "      dtype='object')"
      ]
     },
     "execution_count": 232,
     "metadata": {},
     "output_type": "execute_result"
    }
   ],
   "source": [
    "sorento14.columns"
   ]
  },
  {
   "cell_type": "code",
   "execution_count": 235,
   "metadata": {},
   "outputs": [
    {
     "data": {
      "text/plain": [
       "(85761, 35)"
      ]
     },
     "execution_count": 235,
     "metadata": {},
     "output_type": "execute_result"
    }
   ],
   "source": [
    "sorento14.shape"
   ]
  },
  {
   "cell_type": "code",
   "execution_count": 389,
   "metadata": {},
   "outputs": [
    {
     "data": {
      "text/plain": [
       "9MY-KM-14-22    85757\n",
       "Name: 인증번호, dtype: int64"
      ]
     },
     "execution_count": 389,
     "metadata": {},
     "output_type": "execute_result"
    }
   ],
   "source": [
    "sorento14['인증번호'].value_counts()"
   ]
  },
  {
   "cell_type": "code",
   "execution_count": 390,
   "metadata": {},
   "outputs": [
    {
     "data": {
      "text/plain": [
       "(85757, 35)"
      ]
     },
     "execution_count": 390,
     "metadata": {},
     "output_type": "execute_result"
    }
   ],
   "source": [
    "sorento14 = sorento14.dropna(subset=['인증번호']).reset_index(drop=True)\n",
    "sorento14.shape"
   ]
  },
  {
   "cell_type": "code",
   "execution_count": 233,
   "metadata": {},
   "outputs": [
    {
     "data": {
      "text/plain": [
       "22924"
      ]
     },
     "execution_count": 233,
     "metadata": {},
     "output_type": "execute_result"
    }
   ],
   "source": [
    "len(set(sorento14['차대번호']) & set(tdf1['차대번호']))"
   ]
  },
  {
   "cell_type": "code",
   "execution_count": 234,
   "metadata": {},
   "outputs": [
    {
     "data": {
      "text/plain": [
       "75529"
      ]
     },
     "execution_count": 234,
     "metadata": {},
     "output_type": "execute_result"
    }
   ],
   "source": [
    "len(set(sorento14['차대번호']) & set(tdf2['차대번호']))"
   ]
  },
  {
   "cell_type": "code",
   "execution_count": 378,
   "metadata": {},
   "outputs": [
    {
     "data": {
      "text/plain": [
       "85761"
      ]
     },
     "execution_count": 378,
     "metadata": {},
     "output_type": "execute_result"
    }
   ],
   "source": [
    "len(sorento14['차대번호'].unique())"
   ]
  },
  {
   "cell_type": "code",
   "execution_count": 391,
   "metadata": {},
   "outputs": [
    {
     "data": {
      "text/plain": [
       "array(['승용'], dtype=object)"
      ]
     },
     "execution_count": 391,
     "metadata": {},
     "output_type": "execute_result"
    }
   ],
   "source": [
    "sorento14['차종'].unique()"
   ]
  },
  {
   "cell_type": "code",
   "execution_count": 392,
   "metadata": {},
   "outputs": [
    {
     "data": {
      "text/plain": [
       "array(['자가용', '관용'], dtype=object)"
      ]
     },
     "execution_count": 392,
     "metadata": {},
     "output_type": "execute_result"
    }
   ],
   "source": [
    "sorento14['용도'].unique()"
   ]
  },
  {
   "cell_type": "code",
   "execution_count": 393,
   "metadata": {},
   "outputs": [
    {
     "data": {
      "text/plain": [
       "array(['다목적'], dtype=object)"
      ]
     },
     "execution_count": 393,
     "metadata": {},
     "output_type": "execute_result"
    }
   ],
   "source": [
    "sorento14['차종분류'].unique()"
   ]
  },
  {
   "cell_type": "code",
   "execution_count": 394,
   "metadata": {},
   "outputs": [
    {
     "data": {
      "text/plain": [
       "array(['중형'], dtype=object)"
      ]
     },
     "execution_count": 394,
     "metadata": {},
     "output_type": "execute_result"
    }
   ],
   "source": [
    "sorento14['차종유형'].unique()"
   ]
  },
  {
   "cell_type": "code",
   "execution_count": 395,
   "metadata": {},
   "outputs": [],
   "source": [
    "sorento14_1 = sorento14[['차종', '차대번호', '제원관리번호', '제작일자', '인증번호', '차종분류', '차종유형', '총중량']]"
   ]
  },
  {
   "cell_type": "code",
   "execution_count": 396,
   "metadata": {},
   "outputs": [],
   "source": [
    "# 약 4m\n",
    "s141 = sorento14_1.merge(tdf1, on='차대번호', how='left')\n",
    "s142 = sorento14_1.merge(tdf2, on='차대번호', how='left')"
   ]
  },
  {
   "cell_type": "code",
   "execution_count": 398,
   "metadata": {},
   "outputs": [
    {
     "data": {
      "text/plain": [
       "((99237, 70), (133927, 82))"
      ]
     },
     "execution_count": 398,
     "metadata": {},
     "output_type": "execute_result"
    }
   ],
   "source": [
    "s141.shape, s142.shape"
   ]
  },
  {
   "cell_type": "code",
   "execution_count": 397,
   "metadata": {},
   "outputs": [
    {
     "data": {
      "text/plain": [
       "Index(['차종_x', '차대번호', '제원관리번호', '제작일자_x', '인증번호', '차종분류', '차종유형', '총중량_x',\n",
       "       '검사소명', '정기검사일자', '검사종류', '검사접수번호', '통합접수번호', '차량번호', '차량형식번호', '차명',\n",
       "       '차종_y', '차량용도', '차량연식', '차량연료', '주행거리', '차량길이', '차량너비', '차량높이', '엔진형식',\n",
       "       '배기량', '엔진출력', '차량중량', '총중량_y', '정원', '비고', '최초등록일자', '제작일자_y',\n",
       "       '검사전 유효기간 만료일', '관능검사판정', '관능부적합항목', '검사방법', '무부하매연측정치1', '무부하매연허용치1',\n",
       "       '무부하매연판정1', '무부하매연측정치2', '무부하매연허용치2', '무부하매연판정2', '무부하매연측정치3',\n",
       "       '무부하매연허용치3', '무부하매연판정3', '무부하매연측정치4', '무부하매연허용치4', '무부하매연판정4',\n",
       "       '무부하매연측정치5', '무부하매연허용치5', '무부하매연판정5', '무부하매연측정치6', '무부하매연허용치6',\n",
       "       '무부하매연판정6', '이산화탄소값', '최대출력허용치', '최대출력측정값', '산소값', '공기온도', '공기압력',\n",
       "       '검사판정', '재검사기간', '검사후 갱신유효기간', '관능검사원', '배출가스검사원', '책임검사원', '검사 판정시간',\n",
       "       '자료구분코드', '파일명'],\n",
       "      dtype='object')"
      ]
     },
     "execution_count": 397,
     "metadata": {},
     "output_type": "execute_result"
    }
   ],
   "source": [
    "s141.columns"
   ]
  },
  {
   "cell_type": "code",
   "execution_count": 399,
   "metadata": {},
   "outputs": [
    {
     "data": {
      "text/plain": [
       "array(['A0110004400241210', 'A0110004400231210', 'A0110004400251210',\n",
       "       'A0110004400371211', 'A0110004400101209', 'A0110004400111209',\n",
       "       'A0110004400121209', 'A0110004400261210', 'A0110004400271210',\n",
       "       'A0110004400281210', 'A0110004400361211', 'A0110004400351211'],\n",
       "      dtype=object)"
      ]
     },
     "execution_count": 399,
     "metadata": {},
     "output_type": "execute_result"
    }
   ],
   "source": [
    "s141['제원관리번호'].unique()"
   ]
  },
  {
   "cell_type": "code",
   "execution_count": 400,
   "metadata": {},
   "outputs": [
    {
     "data": {
      "text/plain": [
       "array([nan, 'A0110004400241210', 'A0110004400231210', 'A0110004400251210',\n",
       "       'A0110004400371211', 'A0110004400101209', 'A0110004400111209',\n",
       "       'A0110004400121209', 'A0110004400261210', 'A0110004400271210',\n",
       "       'A0110004400281210', 'A0110004400361211', 'A0110004400351211'],\n",
       "      dtype=object)"
      ]
     },
     "execution_count": 400,
     "metadata": {},
     "output_type": "execute_result"
    }
   ],
   "source": [
    "s141['차량형식번호'].unique()"
   ]
  },
  {
   "cell_type": "code",
   "execution_count": 401,
   "metadata": {},
   "outputs": [
    {
     "data": {
      "text/plain": [
       "array([nan, '무부하검사(급가속)'], dtype=object)"
      ]
     },
     "execution_count": 401,
     "metadata": {},
     "output_type": "execute_result"
    }
   ],
   "source": [
    "s141['검사방법'].unique()"
   ]
  },
  {
   "cell_type": "code",
   "execution_count": 402,
   "metadata": {},
   "outputs": [],
   "source": [
    "s141_1 = s141[['차종_x', '차대번호', '제작일자_x', '인증번호', '차종분류', '차종유형', '총중량_x', '차량용도', '차량연료', '검사방법', '제원관리번호',\n",
    "       '무부하매연측정치1', '무부하매연허용치1', '무부하매연판정1',\n",
    "       '무부하매연측정치2', '무부하매연허용치2', '무부하매연판정2',\n",
    "       '무부하매연측정치3', '무부하매연허용치3', '무부하매연판정3', \n",
    "       '무부하매연측정치4', '무부하매연허용치4', '무부하매연판정4', \n",
    "       '무부하매연측정치5', '무부하매연허용치5', '무부하매연판정5', \n",
    "       '무부하매연측정치6', '무부하매연허용치6', '무부하매연판정6', \n",
    "       '검사 판정시간']]"
   ]
  },
  {
   "cell_type": "code",
   "execution_count": 403,
   "metadata": {},
   "outputs": [
    {
     "data": {
      "text/plain": [
       "(99237, 30)"
      ]
     },
     "execution_count": 403,
     "metadata": {},
     "output_type": "execute_result"
    }
   ],
   "source": [
    "s141_1.shape"
   ]
  },
  {
   "cell_type": "code",
   "execution_count": 404,
   "metadata": {},
   "outputs": [
    {
     "data": {
      "text/plain": [
       "Index(['차종_x', '차대번호', '제작일자_x', '인증번호', '차종분류', '차종유형', '총중량_x', '차량용도',\n",
       "       '차량연료', '검사방법', '제원관리번호', '무부하매연측정치1', '무부하매연허용치1', '무부하매연판정1',\n",
       "       '무부하매연측정치2', '무부하매연허용치2', '무부하매연판정2', '무부하매연측정치3', '무부하매연허용치3',\n",
       "       '무부하매연판정3', '무부하매연측정치4', '무부하매연허용치4', '무부하매연판정4', '무부하매연측정치5',\n",
       "       '무부하매연허용치5', '무부하매연판정5', '무부하매연측정치6', '무부하매연허용치6', '무부하매연판정6',\n",
       "       '검사 판정시간'],\n",
       "      dtype='object')"
      ]
     },
     "execution_count": 404,
     "metadata": {},
     "output_type": "execute_result"
    }
   ],
   "source": [
    "s141_1.columns"
   ]
  },
  {
   "cell_type": "code",
   "execution_count": 405,
   "metadata": {},
   "outputs": [],
   "source": [
    "s141_1.columns = ['차종', '차대번호', '차량제작일자', '배출가스인증번호', '차종분류', '차종유형', '총중량', '차량용도',\n",
    "       '차량연료', '검사방법', '제원관리번호', '무부하매연측정치1', '무부하매연허용치1', '무부하매연판정1', '무부하매연측정치2',\n",
    "       '무부하매연허용치2', '무부하매연판정2', '무부하매연측정치3', '무부하매연허용치3', '무부하매연판정3',\n",
    "       '무부하매연측정치4', '무부하매연허용치4', '무부하매연판정4', '무부하매연측정치5', '무부하매연허용치5',\n",
    "       '무부하매연판정5', '무부하매연측정치6', '무부하매연허용치6', '무부하매연판정6', '검사판정시간']"
   ]
  },
  {
   "cell_type": "code",
   "execution_count": 499,
   "metadata": {},
   "outputs": [
    {
     "name": "stderr",
     "output_type": "stream",
     "text": [
      "C:\\Users\\kbjung\\AppData\\Local\\Temp\\ipykernel_18336\\1261199860.py:1: SettingWithCopyWarning: \n",
      "A value is trying to be set on a copy of a slice from a DataFrame.\n",
      "Try using .loc[row_indexer,col_indexer] = value instead\n",
      "\n",
      "See the caveats in the documentation: https://pandas.pydata.org/pandas-docs/stable/user_guide/indexing.html#returning-a-view-versus-a-copy\n",
      "  s141_1['정기정밀'] = '정기'\n"
     ]
    }
   ],
   "source": [
    "s141_1['정기정밀'] = '정기'"
   ]
  },
  {
   "cell_type": "code",
   "execution_count": 500,
   "metadata": {},
   "outputs": [
    {
     "data": {
      "text/plain": [
       "0    9MY-KM-14-22\n",
       "1    9MY-KM-14-22\n",
       "2    9MY-KM-14-22\n",
       "3    9MY-KM-14-22\n",
       "4    9MY-KM-14-22\n",
       "Name: 배출가스인증번호, dtype: object"
      ]
     },
     "execution_count": 500,
     "metadata": {},
     "output_type": "execute_result"
    }
   ],
   "source": [
    "s141_1['배출가스인증번호'].head()"
   ]
  },
  {
   "cell_type": "code",
   "execution_count": 407,
   "metadata": {},
   "outputs": [
    {
     "data": {
      "text/plain": [
       "array([nan, '무부하검사(급가속)'], dtype=object)"
      ]
     },
     "execution_count": 407,
     "metadata": {},
     "output_type": "execute_result"
    }
   ],
   "source": [
    "s141_1['검사방법'].unique()"
   ]
  },
  {
   "cell_type": "code",
   "execution_count": null,
   "metadata": {},
   "outputs": [],
   "source": []
  },
  {
   "cell_type": "code",
   "execution_count": null,
   "metadata": {},
   "outputs": [],
   "source": []
  },
  {
   "cell_type": "code",
   "execution_count": 408,
   "metadata": {},
   "outputs": [
    {
     "data": {
      "text/plain": [
       "Index(['차종_x', '차대번호', '제원관리번호', '제작일자', '인증번호', '차종분류', '차종유형', '총중량_x',\n",
       "       '정밀검사소명', '정밀검사일자', '정밀검사종류', '정밀검사접수번호', '차량번호', '차량형식번호', '차명',\n",
       "       '차종_y', '차량용도', '차량연식', '차량연료', '주행거리', '차량길이', '차량너비', '차량높이', '엔진형식',\n",
       "       '원동기배기량', '엔진출력', '차량중량', '총중량_y', '정원', '비고', '최초등록일', '정밀검사유효기간',\n",
       "       '관능검사판정', '관능검사부적합내용', '정밀검사측정방법', '무부하매연측정치1', '무부하매연허용치1', '무부하매연판정1',\n",
       "       '무부하매연측정치2', '무부하매연허용치2', '무부하매연판정2', '무부하매연측정치3', '무부하매연허용치3',\n",
       "       '무부하매연판정3', '무부하매연측정치4', '무부하매연허용치4', '무부하매연판정4', '무부하매연측정치5',\n",
       "       '무부하매연허용치5', '무부하매연판정5', '무부하매연측정치6', '무부하매연허용치6', '무부하매연판정6', '이산화탄소값',\n",
       "       '최대출력허용치', '최대출력측정값', '산소값', '공기온도', '공기압력', '정밀검사판정', '재검사기간',\n",
       "       '정밀검사유효기간2', '관능검사등록자', '정밀검사등록자', '정밀검사소대표명', '기타내용1', '기타내용2',\n",
       "       '기타내용3', '기타내용4', '기타내용5', '원본대장테이블', '정밀검사시간정보', '통합접수번호', '데이터생성일자',\n",
       "       '수신파일명', '제작등록일자', '데이터구분', '삭제구분', '삭제사유1', '삭제사유2', '삭제사유3', '삭제사유4'],\n",
       "      dtype='object')"
      ]
     },
     "execution_count": 408,
     "metadata": {},
     "output_type": "execute_result"
    }
   ],
   "source": [
    "s142.columns"
   ]
  },
  {
   "cell_type": "code",
   "execution_count": 409,
   "metadata": {},
   "outputs": [],
   "source": [
    "s142_1 = s142[['차종_x', '차대번호', '제작일자', '인증번호', '차종분류', '차종유형', '총중량_x', '차량용도', '차량연료', '제원관리번호', '정밀검사측정방법', \n",
    "       '무부하매연측정치1', '무부하매연허용치1', '무부하매연판정1',\n",
    "       '무부하매연측정치2', '무부하매연허용치2', '무부하매연판정2',\n",
    "       '무부하매연측정치3', '무부하매연허용치3', '무부하매연판정3', \n",
    "       '무부하매연측정치4', '무부하매연허용치4', '무부하매연판정4', \n",
    "       '무부하매연측정치5', '무부하매연허용치5', '무부하매연판정5', \n",
    "       '무부하매연측정치6', '무부하매연허용치6', '무부하매연판정6', \n",
    "       '정밀검사시간정보']]"
   ]
  },
  {
   "cell_type": "code",
   "execution_count": 410,
   "metadata": {},
   "outputs": [
    {
     "data": {
      "text/plain": [
       "Index(['차종_x', '차대번호', '제작일자', '인증번호', '차종분류', '차종유형', '총중량_x', '차량용도', '차량연료',\n",
       "       '제원관리번호', '정밀검사측정방법', '무부하매연측정치1', '무부하매연허용치1', '무부하매연판정1', '무부하매연측정치2',\n",
       "       '무부하매연허용치2', '무부하매연판정2', '무부하매연측정치3', '무부하매연허용치3', '무부하매연판정3',\n",
       "       '무부하매연측정치4', '무부하매연허용치4', '무부하매연판정4', '무부하매연측정치5', '무부하매연허용치5',\n",
       "       '무부하매연판정5', '무부하매연측정치6', '무부하매연허용치6', '무부하매연판정6', '정밀검사시간정보'],\n",
       "      dtype='object')"
      ]
     },
     "execution_count": 410,
     "metadata": {},
     "output_type": "execute_result"
    }
   ],
   "source": [
    "s142_1.columns"
   ]
  },
  {
   "cell_type": "code",
   "execution_count": 411,
   "metadata": {},
   "outputs": [],
   "source": [
    "s142_1.columns = ['차종', '차대번호', '차량제작일자', '배출가스인증번호', '차종분류', '차종유형', '총중량', '차량용도', '차량연료', '제원관리번호',\n",
    "       '검사방법', '무부하매연측정치1', '무부하매연허용치1', '무부하매연판정1', '무부하매연측정치2',\n",
    "       '무부하매연허용치2', '무부하매연판정2', '무부하매연측정치3', '무부하매연허용치3', '무부하매연판정3',\n",
    "       '무부하매연측정치4', '무부하매연허용치4', '무부하매연판정4', '무부하매연측정치5', '무부하매연허용치5',\n",
    "       '무부하매연판정5', '무부하매연측정치6', '무부하매연허용치6', '무부하매연판정6', '검사판정시간']"
   ]
  },
  {
   "cell_type": "code",
   "execution_count": 501,
   "metadata": {},
   "outputs": [
    {
     "data": {
      "text/plain": [
       "(133927, 30)"
      ]
     },
     "execution_count": 501,
     "metadata": {},
     "output_type": "execute_result"
    }
   ],
   "source": [
    "s142_1.shape"
   ]
  },
  {
   "cell_type": "code",
   "execution_count": 502,
   "metadata": {},
   "outputs": [
    {
     "name": "stderr",
     "output_type": "stream",
     "text": [
      "C:\\Users\\kbjung\\AppData\\Local\\Temp\\ipykernel_18336\\1379806280.py:1: SettingWithCopyWarning: \n",
      "A value is trying to be set on a copy of a slice from a DataFrame.\n",
      "Try using .loc[row_indexer,col_indexer] = value instead\n",
      "\n",
      "See the caveats in the documentation: https://pandas.pydata.org/pandas-docs/stable/user_guide/indexing.html#returning-a-view-versus-a-copy\n",
      "  s142_1['정기정밀'] = '정밀'\n"
     ]
    }
   ],
   "source": [
    "s142_1['정기정밀'] = '정밀'"
   ]
  },
  {
   "cell_type": "code",
   "execution_count": 456,
   "metadata": {},
   "outputs": [
    {
     "data": {
      "text/html": [
       "<div>\n",
       "<style scoped>\n",
       "    .dataframe tbody tr th:only-of-type {\n",
       "        vertical-align: middle;\n",
       "    }\n",
       "\n",
       "    .dataframe tbody tr th {\n",
       "        vertical-align: top;\n",
       "    }\n",
       "\n",
       "    .dataframe thead th {\n",
       "        text-align: right;\n",
       "    }\n",
       "</style>\n",
       "<table border=\"1\" class=\"dataframe\">\n",
       "  <thead>\n",
       "    <tr style=\"text-align: right;\">\n",
       "      <th></th>\n",
       "      <th>차대번호</th>\n",
       "      <th>검사방법</th>\n",
       "      <th>검사판정시간</th>\n",
       "    </tr>\n",
       "  </thead>\n",
       "  <tbody>\n",
       "    <tr>\n",
       "      <th>48702</th>\n",
       "      <td>KL90F3ABDAGZ00002</td>\n",
       "      <td>NaN</td>\n",
       "      <td>NaN</td>\n",
       "    </tr>\n",
       "    <tr>\n",
       "      <th>44264</th>\n",
       "      <td>KMAKU815BAA063546</td>\n",
       "      <td>무부하검사(급가속)</td>\n",
       "      <td>20200131 11:05:52</td>\n",
       "    </tr>\n",
       "    <tr>\n",
       "      <th>18238</th>\n",
       "      <td>KMAKU815BAA075186</td>\n",
       "      <td>NaN</td>\n",
       "      <td>NaN</td>\n",
       "    </tr>\n",
       "    <tr>\n",
       "      <th>29445</th>\n",
       "      <td>KNADU815BAA068912</td>\n",
       "      <td>무부하검사(급가속)</td>\n",
       "      <td>20200708 13:50:04</td>\n",
       "    </tr>\n",
       "    <tr>\n",
       "      <th>39366</th>\n",
       "      <td>KNAJU815BAA048469</td>\n",
       "      <td>NaN</td>\n",
       "      <td>NaN</td>\n",
       "    </tr>\n",
       "    <tr>\n",
       "      <th>...</th>\n",
       "      <td>...</td>\n",
       "      <td>...</td>\n",
       "      <td>...</td>\n",
       "    </tr>\n",
       "    <tr>\n",
       "      <th>11483</th>\n",
       "      <td>KNAKW815BCA346848</td>\n",
       "      <td>NaN</td>\n",
       "      <td>NaN</td>\n",
       "    </tr>\n",
       "    <tr>\n",
       "      <th>17737</th>\n",
       "      <td>KNAKY815BAA056306</td>\n",
       "      <td>NaN</td>\n",
       "      <td>NaN</td>\n",
       "    </tr>\n",
       "    <tr>\n",
       "      <th>54603</th>\n",
       "      <td>KNSKU815BBA156230</td>\n",
       "      <td>NaN</td>\n",
       "      <td>NaN</td>\n",
       "    </tr>\n",
       "    <tr>\n",
       "      <th>47664</th>\n",
       "      <td>LNAKW815BAA019004</td>\n",
       "      <td>무부하검사(급가속)</td>\n",
       "      <td>20190802 09:02:43</td>\n",
       "    </tr>\n",
       "    <tr>\n",
       "      <th>47665</th>\n",
       "      <td>LNAKW815BAA019004</td>\n",
       "      <td>무부하검사(급가속)</td>\n",
       "      <td>20210628 09:47:17</td>\n",
       "    </tr>\n",
       "  </tbody>\n",
       "</table>\n",
       "<p>99237 rows × 3 columns</p>\n",
       "</div>"
      ],
      "text/plain": [
       "                    차대번호        검사방법             검사판정시간\n",
       "48702  KL90F3ABDAGZ00002         NaN                NaN\n",
       "44264  KMAKU815BAA063546  무부하검사(급가속)  20200131 11:05:52\n",
       "18238  KMAKU815BAA075186         NaN                NaN\n",
       "29445  KNADU815BAA068912  무부하검사(급가속)  20200708 13:50:04\n",
       "39366  KNAJU815BAA048469         NaN                NaN\n",
       "...                  ...         ...                ...\n",
       "11483  KNAKW815BCA346848         NaN                NaN\n",
       "17737  KNAKY815BAA056306         NaN                NaN\n",
       "54603  KNSKU815BBA156230         NaN                NaN\n",
       "47664  LNAKW815BAA019004  무부하검사(급가속)  20190802 09:02:43\n",
       "47665  LNAKW815BAA019004  무부하검사(급가속)  20210628 09:47:17\n",
       "\n",
       "[99237 rows x 3 columns]"
      ]
     },
     "execution_count": 456,
     "metadata": {},
     "output_type": "execute_result"
    }
   ],
   "source": [
    "s141_1.sort_values(['차대번호', '검사방법', '검사판정시간'])[['차대번호', '검사방법', '검사판정시간']]"
   ]
  },
  {
   "cell_type": "code",
   "execution_count": 492,
   "metadata": {},
   "outputs": [
    {
     "data": {
      "text/html": [
       "<div>\n",
       "<style scoped>\n",
       "    .dataframe tbody tr th:only-of-type {\n",
       "        vertical-align: middle;\n",
       "    }\n",
       "\n",
       "    .dataframe tbody tr th {\n",
       "        vertical-align: top;\n",
       "    }\n",
       "\n",
       "    .dataframe thead th {\n",
       "        text-align: right;\n",
       "    }\n",
       "</style>\n",
       "<table border=\"1\" class=\"dataframe\">\n",
       "  <thead>\n",
       "    <tr style=\"text-align: right;\">\n",
       "      <th></th>\n",
       "      <th>차대번호</th>\n",
       "      <th>검사방법</th>\n",
       "      <th>검사판정시간</th>\n",
       "      <th>무부하매연측정치1</th>\n",
       "    </tr>\n",
       "  </thead>\n",
       "  <tbody>\n",
       "    <tr>\n",
       "      <th>44264</th>\n",
       "      <td>KMAKU815BAA063546</td>\n",
       "      <td>무부하검사(급가속)</td>\n",
       "      <td>20200131 11:05:52</td>\n",
       "      <td>5.0</td>\n",
       "    </tr>\n",
       "    <tr>\n",
       "      <th>29445</th>\n",
       "      <td>KNADU815BAA068912</td>\n",
       "      <td>무부하검사(급가속)</td>\n",
       "      <td>20200708 13:50:04</td>\n",
       "      <td>18.0</td>\n",
       "    </tr>\n",
       "    <tr>\n",
       "      <th>15060</th>\n",
       "      <td>KNAKT815BAA015463</td>\n",
       "      <td>무부하검사(급가속)</td>\n",
       "      <td>20190723 16:25:35</td>\n",
       "      <td>5.0</td>\n",
       "    </tr>\n",
       "    <tr>\n",
       "      <th>17476</th>\n",
       "      <td>KNAKT815BAA015555</td>\n",
       "      <td>무부하검사(급가속)</td>\n",
       "      <td>20190801 13:21:51</td>\n",
       "      <td>11.0</td>\n",
       "    </tr>\n",
       "    <tr>\n",
       "      <th>16618</th>\n",
       "      <td>KNAKT815BAA015558</td>\n",
       "      <td>무부하검사(급가속)</td>\n",
       "      <td>20210708 11:28:32</td>\n",
       "      <td>15.0</td>\n",
       "    </tr>\n",
       "    <tr>\n",
       "      <th>...</th>\n",
       "      <td>...</td>\n",
       "      <td>...</td>\n",
       "      <td>...</td>\n",
       "      <td>...</td>\n",
       "    </tr>\n",
       "    <tr>\n",
       "      <th>11499</th>\n",
       "      <td>KNAKW815BCA346573</td>\n",
       "      <td>무부하검사(급가속)</td>\n",
       "      <td>20200630 09:28:11</td>\n",
       "      <td>0.0</td>\n",
       "    </tr>\n",
       "    <tr>\n",
       "      <th>12697</th>\n",
       "      <td>KNAKW815BCA346826</td>\n",
       "      <td>무부하검사(급가속)</td>\n",
       "      <td>20200903 15:56:38</td>\n",
       "      <td>4.0</td>\n",
       "    </tr>\n",
       "    <tr>\n",
       "      <th>12261</th>\n",
       "      <td>KNAKW815BCA346829</td>\n",
       "      <td>무부하검사(급가속)</td>\n",
       "      <td>20200831 15:55:41</td>\n",
       "      <td>0.0</td>\n",
       "    </tr>\n",
       "    <tr>\n",
       "      <th>12167</th>\n",
       "      <td>KNAKW815BCA346837</td>\n",
       "      <td>무부하검사(급가속)</td>\n",
       "      <td>20200825 17:26:58</td>\n",
       "      <td>0.0</td>\n",
       "    </tr>\n",
       "    <tr>\n",
       "      <th>47664</th>\n",
       "      <td>LNAKW815BAA019004</td>\n",
       "      <td>무부하검사(급가속)</td>\n",
       "      <td>20190802 09:02:43</td>\n",
       "      <td>3.0</td>\n",
       "    </tr>\n",
       "  </tbody>\n",
       "</table>\n",
       "<p>22923 rows × 4 columns</p>\n",
       "</div>"
      ],
      "text/plain": [
       "                    차대번호        검사방법             검사판정시간  무부하매연측정치1\n",
       "44264  KMAKU815BAA063546  무부하검사(급가속)  20200131 11:05:52        5.0\n",
       "29445  KNADU815BAA068912  무부하검사(급가속)  20200708 13:50:04       18.0\n",
       "15060  KNAKT815BAA015463  무부하검사(급가속)  20190723 16:25:35        5.0\n",
       "17476  KNAKT815BAA015555  무부하검사(급가속)  20190801 13:21:51       11.0\n",
       "16618  KNAKT815BAA015558  무부하검사(급가속)  20210708 11:28:32       15.0\n",
       "...                  ...         ...                ...        ...\n",
       "11499  KNAKW815BCA346573  무부하검사(급가속)  20200630 09:28:11        0.0\n",
       "12697  KNAKW815BCA346826  무부하검사(급가속)  20200903 15:56:38        4.0\n",
       "12261  KNAKW815BCA346829  무부하검사(급가속)  20200831 15:55:41        0.0\n",
       "12167  KNAKW815BCA346837  무부하검사(급가속)  20200825 17:26:58        0.0\n",
       "47664  LNAKW815BAA019004  무부하검사(급가속)  20190802 09:02:43        3.0\n",
       "\n",
       "[22923 rows x 4 columns]"
      ]
     },
     "execution_count": 492,
     "metadata": {},
     "output_type": "execute_result"
    }
   ],
   "source": [
    "s141_1.sort_values(['차대번호', '검사방법', '검사판정시간']).dropna(subset=['검사방법']).drop_duplicates('차대번호', keep='first')[['차대번호', '검사방법', '검사판정시간', '무부하매연측정치1']]"
   ]
  },
  {
   "cell_type": "code",
   "execution_count": 503,
   "metadata": {},
   "outputs": [
    {
     "data": {
      "text/plain": [
       "(22923, 31)"
      ]
     },
     "execution_count": 503,
     "metadata": {},
     "output_type": "execute_result"
    }
   ],
   "source": [
    "d_total1 = s141_1.sort_values(['차대번호', '검사방법', '검사판정시간']).dropna(subset=['검사방법']).drop_duplicates('차대번호', keep='first').reset_index(drop=True)\n",
    "d_total1.shape"
   ]
  },
  {
   "cell_type": "code",
   "execution_count": 494,
   "metadata": {},
   "outputs": [
    {
     "data": {
      "text/plain": [
       "제원관리번호\n",
       "A0110004400101209    1228\n",
       "A0110004400111209    7758\n",
       "A0110004400121209     787\n",
       "A0110004400231210     161\n",
       "A0110004400241210    1118\n",
       "A0110004400251210     135\n",
       "A0110004400261210     292\n",
       "A0110004400271210    3296\n",
       "A0110004400281210     339\n",
       "A0110004400351211     399\n",
       "A0110004400361211    6854\n",
       "A0110004400371211     556\n",
       "Name: 차대번호, dtype: int64"
      ]
     },
     "execution_count": 494,
     "metadata": {},
     "output_type": "execute_result"
    }
   ],
   "source": [
    "d_total1.groupby(['제원관리번호'])['차대번호'].count()"
   ]
  },
  {
   "cell_type": "code",
   "execution_count": 498,
   "metadata": {},
   "outputs": [],
   "source": [
    "d_total1.groupby(['제원관리번호'])['차대번호'].count().to_excel('analysis/sorento(9MY-KM-14-22)(정기검사)(제원관리번호별 통계).xlsx')"
   ]
  },
  {
   "cell_type": "code",
   "execution_count": 473,
   "metadata": {},
   "outputs": [
    {
     "data": {
      "text/plain": [
       "(133927, 30)"
      ]
     },
     "execution_count": 473,
     "metadata": {},
     "output_type": "execute_result"
    }
   ],
   "source": [
    "s142_1.shape"
   ]
  },
  {
   "cell_type": "code",
   "execution_count": 463,
   "metadata": {},
   "outputs": [
    {
     "data": {
      "text/html": [
       "<div>\n",
       "<style scoped>\n",
       "    .dataframe tbody tr th:only-of-type {\n",
       "        vertical-align: middle;\n",
       "    }\n",
       "\n",
       "    .dataframe tbody tr th {\n",
       "        vertical-align: top;\n",
       "    }\n",
       "\n",
       "    .dataframe thead th {\n",
       "        text-align: right;\n",
       "    }\n",
       "</style>\n",
       "<table border=\"1\" class=\"dataframe\">\n",
       "  <thead>\n",
       "    <tr style=\"text-align: right;\">\n",
       "      <th></th>\n",
       "      <th>차대번호</th>\n",
       "      <th>검사방법</th>\n",
       "      <th>검사판정시간</th>\n",
       "    </tr>\n",
       "  </thead>\n",
       "  <tbody>\n",
       "    <tr>\n",
       "      <th>71774</th>\n",
       "      <td>KL90F3ABDAGZ00002</td>\n",
       "      <td>부하검사(KD-147)</td>\n",
       "      <td>20200522 11:52:28</td>\n",
       "    </tr>\n",
       "    <tr>\n",
       "      <th>71775</th>\n",
       "      <td>KL90F3ABDAGZ00002</td>\n",
       "      <td>부하검사(KD-147)</td>\n",
       "      <td>NaN</td>\n",
       "    </tr>\n",
       "    <tr>\n",
       "      <th>64773</th>\n",
       "      <td>KMAKU815BAA063546</td>\n",
       "      <td>부하검사(KD-147)</td>\n",
       "      <td>NaN</td>\n",
       "    </tr>\n",
       "    <tr>\n",
       "      <th>23412</th>\n",
       "      <td>KMAKU815BAA075186</td>\n",
       "      <td>부하검사(KD-147)</td>\n",
       "      <td>20200323 14:22:17</td>\n",
       "    </tr>\n",
       "    <tr>\n",
       "      <th>23413</th>\n",
       "      <td>KMAKU815BAA075186</td>\n",
       "      <td>부하검사(KD-147)</td>\n",
       "      <td>NaN</td>\n",
       "    </tr>\n",
       "    <tr>\n",
       "      <th>...</th>\n",
       "      <td>...</td>\n",
       "      <td>...</td>\n",
       "      <td>...</td>\n",
       "    </tr>\n",
       "    <tr>\n",
       "      <th>22648</th>\n",
       "      <td>KNAKY815BAA056306</td>\n",
       "      <td>부하검사(KD-147)</td>\n",
       "      <td>20191206 14:15:11</td>\n",
       "    </tr>\n",
       "    <tr>\n",
       "      <th>22649</th>\n",
       "      <td>KNAKY815BAA056306</td>\n",
       "      <td>부하검사(KD-147)</td>\n",
       "      <td>NaN</td>\n",
       "    </tr>\n",
       "    <tr>\n",
       "      <th>22650</th>\n",
       "      <td>KNAKY815BAA056306</td>\n",
       "      <td>부하검사(KD-147)</td>\n",
       "      <td>NaN</td>\n",
       "    </tr>\n",
       "    <tr>\n",
       "      <th>78397</th>\n",
       "      <td>KNSKU815BBA156230</td>\n",
       "      <td>부하검사(KD-147)</td>\n",
       "      <td>20210202 13:35:53</td>\n",
       "    </tr>\n",
       "    <tr>\n",
       "      <th>70151</th>\n",
       "      <td>LNAKW815BAA019004</td>\n",
       "      <td>NaN</td>\n",
       "      <td>NaN</td>\n",
       "    </tr>\n",
       "  </tbody>\n",
       "</table>\n",
       "<p>133927 rows × 3 columns</p>\n",
       "</div>"
      ],
      "text/plain": [
       "                    차대번호          검사방법             검사판정시간\n",
       "71774  KL90F3ABDAGZ00002  부하검사(KD-147)  20200522 11:52:28\n",
       "71775  KL90F3ABDAGZ00002  부하검사(KD-147)                NaN\n",
       "64773  KMAKU815BAA063546  부하검사(KD-147)                NaN\n",
       "23412  KMAKU815BAA075186  부하검사(KD-147)  20200323 14:22:17\n",
       "23413  KMAKU815BAA075186  부하검사(KD-147)                NaN\n",
       "...                  ...           ...                ...\n",
       "22648  KNAKY815BAA056306  부하검사(KD-147)  20191206 14:15:11\n",
       "22649  KNAKY815BAA056306  부하검사(KD-147)                NaN\n",
       "22650  KNAKY815BAA056306  부하검사(KD-147)                NaN\n",
       "78397  KNSKU815BBA156230  부하검사(KD-147)  20210202 13:35:53\n",
       "70151  LNAKW815BAA019004           NaN                NaN\n",
       "\n",
       "[133927 rows x 3 columns]"
      ]
     },
     "execution_count": 463,
     "metadata": {},
     "output_type": "execute_result"
    }
   ],
   "source": [
    "s142_1.sort_values(['차대번호', '검사방법', '검사판정시간'])[['차대번호', '검사방법', '검사판정시간']]"
   ]
  },
  {
   "cell_type": "code",
   "execution_count": 466,
   "metadata": {},
   "outputs": [
    {
     "data": {
      "text/html": [
       "<div>\n",
       "<style scoped>\n",
       "    .dataframe tbody tr th:only-of-type {\n",
       "        vertical-align: middle;\n",
       "    }\n",
       "\n",
       "    .dataframe tbody tr th {\n",
       "        vertical-align: top;\n",
       "    }\n",
       "\n",
       "    .dataframe thead th {\n",
       "        text-align: right;\n",
       "    }\n",
       "</style>\n",
       "<table border=\"1\" class=\"dataframe\">\n",
       "  <thead>\n",
       "    <tr style=\"text-align: right;\">\n",
       "      <th></th>\n",
       "      <th>차대번호</th>\n",
       "      <th>검사방법</th>\n",
       "      <th>검사판정시간</th>\n",
       "    </tr>\n",
       "  </thead>\n",
       "  <tbody>\n",
       "    <tr>\n",
       "      <th>71774</th>\n",
       "      <td>KL90F3ABDAGZ00002</td>\n",
       "      <td>부하검사(KD-147)</td>\n",
       "      <td>20200522 11:52:28</td>\n",
       "    </tr>\n",
       "    <tr>\n",
       "      <th>64773</th>\n",
       "      <td>KMAKU815BAA063546</td>\n",
       "      <td>부하검사(KD-147)</td>\n",
       "      <td>NaN</td>\n",
       "    </tr>\n",
       "    <tr>\n",
       "      <th>23412</th>\n",
       "      <td>KMAKU815BAA075186</td>\n",
       "      <td>부하검사(KD-147)</td>\n",
       "      <td>20200323 14:22:17</td>\n",
       "    </tr>\n",
       "    <tr>\n",
       "      <th>57150</th>\n",
       "      <td>KNAJU815BAA048469</td>\n",
       "      <td>부하검사(KD-147)</td>\n",
       "      <td>20191206 11:04:22</td>\n",
       "    </tr>\n",
       "    <tr>\n",
       "      <th>21093</th>\n",
       "      <td>KNAK1815BAA018362</td>\n",
       "      <td>부하검사(KD-147)</td>\n",
       "      <td>20190722 13:11:46</td>\n",
       "    </tr>\n",
       "    <tr>\n",
       "      <th>...</th>\n",
       "      <td>...</td>\n",
       "      <td>...</td>\n",
       "      <td>...</td>\n",
       "    </tr>\n",
       "    <tr>\n",
       "      <th>14752</th>\n",
       "      <td>KNAKW815BCA346846</td>\n",
       "      <td>부하검사(KD-147)</td>\n",
       "      <td>20200729 13:51:23</td>\n",
       "    </tr>\n",
       "    <tr>\n",
       "      <th>13900</th>\n",
       "      <td>KNAKW815BCA346847</td>\n",
       "      <td>부하검사(KD-147)</td>\n",
       "      <td>20200804 11:20:13</td>\n",
       "    </tr>\n",
       "    <tr>\n",
       "      <th>13422</th>\n",
       "      <td>KNAKW815BCA346848</td>\n",
       "      <td>부하검사(KD-147)</td>\n",
       "      <td>20200731 12:24:24</td>\n",
       "    </tr>\n",
       "    <tr>\n",
       "      <th>22648</th>\n",
       "      <td>KNAKY815BAA056306</td>\n",
       "      <td>부하검사(KD-147)</td>\n",
       "      <td>20191206 14:15:11</td>\n",
       "    </tr>\n",
       "    <tr>\n",
       "      <th>78397</th>\n",
       "      <td>KNSKU815BBA156230</td>\n",
       "      <td>부하검사(KD-147)</td>\n",
       "      <td>20210202 13:35:53</td>\n",
       "    </tr>\n",
       "  </tbody>\n",
       "</table>\n",
       "<p>75526 rows × 3 columns</p>\n",
       "</div>"
      ],
      "text/plain": [
       "                    차대번호          검사방법             검사판정시간\n",
       "71774  KL90F3ABDAGZ00002  부하검사(KD-147)  20200522 11:52:28\n",
       "64773  KMAKU815BAA063546  부하검사(KD-147)                NaN\n",
       "23412  KMAKU815BAA075186  부하검사(KD-147)  20200323 14:22:17\n",
       "57150  KNAJU815BAA048469  부하검사(KD-147)  20191206 11:04:22\n",
       "21093  KNAK1815BAA018362  부하검사(KD-147)  20190722 13:11:46\n",
       "...                  ...           ...                ...\n",
       "14752  KNAKW815BCA346846  부하검사(KD-147)  20200729 13:51:23\n",
       "13900  KNAKW815BCA346847  부하검사(KD-147)  20200804 11:20:13\n",
       "13422  KNAKW815BCA346848  부하검사(KD-147)  20200731 12:24:24\n",
       "22648  KNAKY815BAA056306  부하검사(KD-147)  20191206 14:15:11\n",
       "78397  KNSKU815BBA156230  부하검사(KD-147)  20210202 13:35:53\n",
       "\n",
       "[75526 rows x 3 columns]"
      ]
     },
     "execution_count": 466,
     "metadata": {},
     "output_type": "execute_result"
    }
   ],
   "source": [
    "s142_1.sort_values(['차대번호', '검사방법', '검사판정시간']).dropna(subset=['검사방법']).drop_duplicates('차대번호', keep='first')[['차대번호', '검사방법', '검사판정시간']]"
   ]
  },
  {
   "cell_type": "code",
   "execution_count": 504,
   "metadata": {},
   "outputs": [
    {
     "data": {
      "text/plain": [
       "(75526, 31)"
      ]
     },
     "execution_count": 504,
     "metadata": {},
     "output_type": "execute_result"
    }
   ],
   "source": [
    "d_total2 = s142_1.sort_values(['차대번호', '검사방법', '검사판정시간']).dropna(subset=['검사방법']).drop_duplicates('차대번호', keep='first').reset_index(drop=True)\n",
    "d_total2.shape"
   ]
  },
  {
   "cell_type": "code",
   "execution_count": 505,
   "metadata": {},
   "outputs": [
    {
     "name": "stdout",
     "output_type": "stream",
     "text": [
      "<class 'pandas.core.frame.DataFrame'>\n",
      "RangeIndex: 22923 entries, 0 to 22922\n",
      "Data columns (total 6 columns):\n",
      " #   Column     Non-Null Count  Dtype  \n",
      "---  ------     --------------  -----  \n",
      " 0   무부하매연측정치1  22923 non-null  float64\n",
      " 1   무부하매연측정치2  0 non-null      float64\n",
      " 2   무부하매연측정치3  0 non-null      float64\n",
      " 3   무부하매연측정치4  0 non-null      float64\n",
      " 4   무부하매연측정치5  0 non-null      float64\n",
      " 5   무부하매연측정치6  0 non-null      float64\n",
      "dtypes: float64(6)\n",
      "memory usage: 1.0 MB\n"
     ]
    }
   ],
   "source": [
    "d_total1['무부하매연측정치1'] = pd.to_numeric(d_total1['무부하매연측정치1'], errors='coerce')\n",
    "d_total1['무부하매연측정치2'] = pd.to_numeric(d_total1['무부하매연측정치2'], errors='coerce')\n",
    "d_total1['무부하매연측정치3'] = pd.to_numeric(d_total1['무부하매연측정치3'], errors='coerce')\n",
    "d_total1['무부하매연측정치4'] = pd.to_numeric(d_total1['무부하매연측정치4'], errors='coerce')\n",
    "d_total1['무부하매연측정치5'] = pd.to_numeric(d_total1['무부하매연측정치5'], errors='coerce')\n",
    "d_total1['무부하매연측정치6'] = pd.to_numeric(d_total1['무부하매연측정치6'], errors='coerce')\n",
    "\n",
    "d_total1[['무부하매연측정치1', '무부하매연측정치2', '무부하매연측정치3', '무부하매연측정치4', '무부하매연측정치5', '무부하매연측정치6']].info()"
   ]
  },
  {
   "cell_type": "code",
   "execution_count": 506,
   "metadata": {},
   "outputs": [
    {
     "name": "stdout",
     "output_type": "stream",
     "text": [
      "<class 'pandas.core.frame.DataFrame'>\n",
      "RangeIndex: 75526 entries, 0 to 75525\n",
      "Data columns (total 6 columns):\n",
      " #   Column     Non-Null Count  Dtype  \n",
      "---  ------     --------------  -----  \n",
      " 0   무부하매연측정치1  75298 non-null  float64\n",
      " 1   무부하매연측정치2  35227 non-null  float64\n",
      " 2   무부하매연측정치3  35114 non-null  float64\n",
      " 3   무부하매연측정치4  35114 non-null  float64\n",
      " 4   무부하매연측정치5  35114 non-null  float64\n",
      " 5   무부하매연측정치6  29770 non-null  float64\n",
      "dtypes: float64(6)\n",
      "memory usage: 3.5 MB\n"
     ]
    }
   ],
   "source": [
    "d_total2['무부하매연측정치1'] = pd.to_numeric(d_total2['무부하매연측정치1'], errors='coerce')\n",
    "d_total2['무부하매연측정치2'] = pd.to_numeric(d_total2['무부하매연측정치2'], errors='coerce')\n",
    "d_total2['무부하매연측정치3'] = pd.to_numeric(d_total2['무부하매연측정치3'], errors='coerce')\n",
    "d_total2['무부하매연측정치4'] = pd.to_numeric(d_total2['무부하매연측정치4'], errors='coerce')\n",
    "d_total2['무부하매연측정치5'] = pd.to_numeric(d_total2['무부하매연측정치5'], errors='coerce')\n",
    "d_total2['무부하매연측정치6'] = pd.to_numeric(d_total2['무부하매연측정치6'], errors='coerce')\n",
    "\n",
    "d_total2[['무부하매연측정치1', '무부하매연측정치2', '무부하매연측정치3', '무부하매연측정치4', '무부하매연측정치5', '무부하매연측정치6']].info()"
   ]
  },
  {
   "cell_type": "code",
   "execution_count": 507,
   "metadata": {},
   "outputs": [
    {
     "data": {
      "text/plain": [
       "(98449, 31)"
      ]
     },
     "execution_count": 507,
     "metadata": {},
     "output_type": "execute_result"
    }
   ],
   "source": [
    "total = pd.concat([d_total1, d_total2], ignore_index=True)\n",
    "total.shape"
   ]
  },
  {
   "cell_type": "code",
   "execution_count": 512,
   "metadata": {},
   "outputs": [
    {
     "data": {
      "text/plain": [
       "(85304, 31)"
      ]
     },
     "execution_count": 512,
     "metadata": {},
     "output_type": "execute_result"
    }
   ],
   "source": [
    "total2 = total.sort_values(['차대번호', '검사방법', '검사판정시간', '정기정밀'], ascending=False).drop_duplicates('차대번호').reset_index(drop=True)\n",
    "total2.shape"
   ]
  },
  {
   "cell_type": "code",
   "execution_count": 541,
   "metadata": {},
   "outputs": [
    {
     "data": {
      "text/plain": [
       "(9797, 31)"
      ]
     },
     "execution_count": 541,
     "metadata": {},
     "output_type": "execute_result"
    }
   ],
   "source": [
    "ttemp1 = total2[total2['정기정밀'] == '정기']\n",
    "ttemp1.shape"
   ]
  },
  {
   "cell_type": "code",
   "execution_count": 542,
   "metadata": {},
   "outputs": [
    {
     "data": {
      "text/plain": [
       "(75507, 31)"
      ]
     },
     "execution_count": 542,
     "metadata": {},
     "output_type": "execute_result"
    }
   ],
   "source": [
    "ttemp2 = total2[total2['정기정밀'] == '정밀']\n",
    "ttemp2.shape"
   ]
  },
  {
   "cell_type": "code",
   "execution_count": 543,
   "metadata": {},
   "outputs": [
    {
     "data": {
      "text/plain": [
       "array(['무부하검사(급가속)'], dtype=object)"
      ]
     },
     "execution_count": 543,
     "metadata": {},
     "output_type": "execute_result"
    }
   ],
   "source": [
    "ttemp1['검사방법'].unique()"
   ]
  },
  {
   "cell_type": "code",
   "execution_count": 544,
   "metadata": {},
   "outputs": [
    {
     "data": {
      "text/plain": [
       "array(['부하검사(KD-147)', '무부하검사(급가속)'], dtype=object)"
      ]
     },
     "execution_count": 544,
     "metadata": {},
     "output_type": "execute_result"
    }
   ],
   "source": [
    "ttemp2['검사방법'].unique()"
   ]
  },
  {
   "cell_type": "code",
   "execution_count": 545,
   "metadata": {},
   "outputs": [
    {
     "data": {
      "text/plain": [
       "1"
      ]
     },
     "execution_count": 545,
     "metadata": {},
     "output_type": "execute_result"
    }
   ],
   "source": [
    "uni = total2['배출가스인증번호'].unique()\n",
    "len(uni)"
   ]
  },
  {
   "cell_type": "code",
   "execution_count": 546,
   "metadata": {},
   "outputs": [
    {
     "data": {
      "text/plain": [
       "array(['9MY-KM-14-22'], dtype=object)"
      ]
     },
     "execution_count": 546,
     "metadata": {},
     "output_type": "execute_result"
    }
   ],
   "source": [
    "uni"
   ]
  },
  {
   "cell_type": "code",
   "execution_count": 547,
   "metadata": {},
   "outputs": [],
   "source": [
    "uni = '9MY-KM-14-22'"
   ]
  },
  {
   "cell_type": "code",
   "execution_count": 548,
   "metadata": {},
   "outputs": [
    {
     "data": {
      "text/plain": [
       "array(['무부하검사(급가속)'], dtype=object)"
      ]
     },
     "execution_count": 548,
     "metadata": {},
     "output_type": "execute_result"
    }
   ],
   "source": [
    "ttemp1['검사방법'].unique()"
   ]
  },
  {
   "cell_type": "code",
   "execution_count": 549,
   "metadata": {},
   "outputs": [
    {
     "data": {
      "text/plain": [
       "무부하검사(급가속)    9797\n",
       "Name: 검사방법, dtype: int64"
      ]
     },
     "execution_count": 549,
     "metadata": {},
     "output_type": "execute_result"
    }
   ],
   "source": [
    "ttemp1['검사방법'].value_counts()"
   ]
  },
  {
   "cell_type": "code",
   "execution_count": 550,
   "metadata": {},
   "outputs": [
    {
     "data": {
      "text/plain": [
       "(9797, 31)"
      ]
     },
     "execution_count": 550,
     "metadata": {},
     "output_type": "execute_result"
    }
   ],
   "source": [
    "ttemp1[ttemp1['무부하매연측정치1'].isnull() == False].shape"
   ]
  },
  {
   "cell_type": "code",
   "execution_count": 551,
   "metadata": {},
   "outputs": [
    {
     "data": {
      "text/plain": [
       "(9797, 31)"
      ]
     },
     "execution_count": 551,
     "metadata": {},
     "output_type": "execute_result"
    }
   ],
   "source": [
    "ttemp1[ttemp1['무부하매연판정1'].isnull() == False].shape"
   ]
  },
  {
   "cell_type": "code",
   "execution_count": 552,
   "metadata": {},
   "outputs": [
    {
     "data": {
      "text/plain": [
       "Index(['차종', '차대번호', '차량제작일자', '배출가스인증번호', '차종분류', '차종유형', '총중량', '차량용도',\n",
       "       '차량연료', '검사방법', '제원관리번호', '무부하매연측정치1', '무부하매연허용치1', '무부하매연판정1',\n",
       "       '무부하매연측정치2', '무부하매연허용치2', '무부하매연판정2', '무부하매연측정치3', '무부하매연허용치3',\n",
       "       '무부하매연판정3', '무부하매연측정치4', '무부하매연허용치4', '무부하매연판정4', '무부하매연측정치5',\n",
       "       '무부하매연허용치5', '무부하매연판정5', '무부하매연측정치6', '무부하매연허용치6', '무부하매연판정6', '검사판정시간',\n",
       "       '정기정밀'],\n",
       "      dtype='object')"
      ]
     },
     "execution_count": 552,
     "metadata": {},
     "output_type": "execute_result"
    }
   ],
   "source": [
    "ttemp1.columns"
   ]
  },
  {
   "cell_type": "code",
   "execution_count": 553,
   "metadata": {},
   "outputs": [
    {
     "data": {
      "text/html": [
       "<div>\n",
       "<style scoped>\n",
       "    .dataframe tbody tr th:only-of-type {\n",
       "        vertical-align: middle;\n",
       "    }\n",
       "\n",
       "    .dataframe tbody tr th {\n",
       "        vertical-align: top;\n",
       "    }\n",
       "\n",
       "    .dataframe thead th {\n",
       "        text-align: right;\n",
       "    }\n",
       "</style>\n",
       "<table border=\"1\" class=\"dataframe\">\n",
       "  <thead>\n",
       "    <tr style=\"text-align: right;\">\n",
       "      <th></th>\n",
       "      <th>무부하매연측정치1</th>\n",
       "      <th>무부하매연판정1</th>\n",
       "    </tr>\n",
       "  </thead>\n",
       "  <tbody>\n",
       "    <tr>\n",
       "      <th>0</th>\n",
       "      <td>3.0</td>\n",
       "      <td>Y</td>\n",
       "    </tr>\n",
       "    <tr>\n",
       "      <th>21</th>\n",
       "      <td>0.0</td>\n",
       "      <td>Y</td>\n",
       "    </tr>\n",
       "    <tr>\n",
       "      <th>24</th>\n",
       "      <td>4.0</td>\n",
       "      <td>Y</td>\n",
       "    </tr>\n",
       "    <tr>\n",
       "      <th>26</th>\n",
       "      <td>0.0</td>\n",
       "      <td>Y</td>\n",
       "    </tr>\n",
       "    <tr>\n",
       "      <th>27</th>\n",
       "      <td>0.0</td>\n",
       "      <td>Y</td>\n",
       "    </tr>\n",
       "  </tbody>\n",
       "</table>\n",
       "</div>"
      ],
      "text/plain": [
       "    무부하매연측정치1 무부하매연판정1\n",
       "0         3.0        Y\n",
       "21        0.0        Y\n",
       "24        4.0        Y\n",
       "26        0.0        Y\n",
       "27        0.0        Y"
      ]
     },
     "execution_count": 553,
     "metadata": {},
     "output_type": "execute_result"
    }
   ],
   "source": [
    "ttemp1.loc[(ttemp1['무부하매연측정치1'].isnull() == False) & (ttemp1['무부하매연판정1'].isnull() == False), ['무부하매연측정치1', '무부하매연판정1']].head()"
   ]
  },
  {
   "cell_type": "code",
   "execution_count": 554,
   "metadata": {},
   "outputs": [
    {
     "data": {
      "text/plain": [
       "(9797, 2)"
      ]
     },
     "execution_count": 554,
     "metadata": {},
     "output_type": "execute_result"
    }
   ],
   "source": [
    "ttemp1.loc[(ttemp1['무부하매연측정치1'].isnull() == False) & (ttemp1['무부하매연판정1'].isnull() == False), ['무부하매연측정치1', '무부하매연판정1']].shape"
   ]
  },
  {
   "cell_type": "code",
   "execution_count": 555,
   "metadata": {},
   "outputs": [
    {
     "data": {
      "text/plain": [
       "Index(['차종', '차대번호', '차량제작일자', '배출가스인증번호', '차종분류', '차종유형', '총중량', '차량용도',\n",
       "       '차량연료', '검사방법', '제원관리번호', '무부하매연측정치1', '무부하매연허용치1', '무부하매연판정1',\n",
       "       '무부하매연측정치2', '무부하매연허용치2', '무부하매연판정2', '무부하매연측정치3', '무부하매연허용치3',\n",
       "       '무부하매연판정3', '무부하매연측정치4', '무부하매연허용치4', '무부하매연판정4', '무부하매연측정치5',\n",
       "       '무부하매연허용치5', '무부하매연판정5', '무부하매연측정치6', '무부하매연허용치6', '무부하매연판정6', '검사판정시간',\n",
       "       '정기정밀'],\n",
       "      dtype='object')"
      ]
     },
     "execution_count": 555,
     "metadata": {},
     "output_type": "execute_result"
    }
   ],
   "source": [
    "ttemp1.columns"
   ]
  },
  {
   "cell_type": "code",
   "execution_count": 579,
   "metadata": {},
   "outputs": [
    {
     "data": {
      "text/plain": [
       "(9444, 31)"
      ]
     },
     "execution_count": 579,
     "metadata": {},
     "output_type": "execute_result"
    }
   ],
   "source": [
    "ttemp1[ttemp1['무부하매연판정1'] == 'Y'].shape"
   ]
  },
  {
   "cell_type": "code",
   "execution_count": 580,
   "metadata": {},
   "outputs": [
    {
     "data": {
      "text/plain": [
       "4.314908936891148"
      ]
     },
     "execution_count": 580,
     "metadata": {},
     "output_type": "execute_result"
    }
   ],
   "source": [
    "m = ttemp1.loc[(ttemp1['배출가스인증번호'] == uni) & (ttemp1['무부하매연판정1'] == 'Y'), '무부하매연측정치1'].mean()\n",
    "m"
   ]
  },
  {
   "cell_type": "code",
   "execution_count": 581,
   "metadata": {},
   "outputs": [
    {
     "data": {
      "text/plain": [
       "0.03603143819536593"
      ]
     },
     "execution_count": 581,
     "metadata": {},
     "output_type": "execute_result"
    }
   ],
   "source": [
    "fail_rate = ttemp1.loc[ttemp1['배출가스인증번호'] == uni, '무부하매연판정1'].value_counts(normalize=True)[-1]\n",
    "fail_rate"
   ]
  },
  {
   "cell_type": "code",
   "execution_count": 582,
   "metadata": {},
   "outputs": [
    {
     "data": {
      "text/plain": [
       "68.71469429590098"
      ]
     },
     "execution_count": 582,
     "metadata": {},
     "output_type": "execute_result"
    }
   ],
   "source": [
    "# 무부하검사(급가속)\n",
    "# 경유, 승용, 중형 : 10%\n",
    "(100 - m*100/10) *0.7 + (100 - fail_rate*100)*0.3"
   ]
  },
  {
   "cell_type": "code",
   "execution_count": 559,
   "metadata": {},
   "outputs": [],
   "source": [
    "# 정기\n",
    "# B등급"
   ]
  },
  {
   "cell_type": "code",
   "execution_count": 560,
   "metadata": {},
   "outputs": [
    {
     "data": {
      "text/plain": [
       "array(['부하검사(KD-147)', '무부하검사(급가속)'], dtype=object)"
      ]
     },
     "execution_count": 560,
     "metadata": {},
     "output_type": "execute_result"
    }
   ],
   "source": [
    "ttemp2['검사방법'].unique()"
   ]
  },
  {
   "cell_type": "code",
   "execution_count": 561,
   "metadata": {},
   "outputs": [
    {
     "data": {
      "text/plain": [
       "부하검사(KD-147)    75392\n",
       "무부하검사(급가속)        115\n",
       "Name: 검사방법, dtype: int64"
      ]
     },
     "execution_count": 561,
     "metadata": {},
     "output_type": "execute_result"
    }
   ],
   "source": [
    "ttemp2['검사방법'].value_counts()"
   ]
  },
  {
   "cell_type": "code",
   "execution_count": 565,
   "metadata": {},
   "outputs": [
    {
     "data": {
      "text/plain": [
       "(75392, 31)"
      ]
     },
     "execution_count": 565,
     "metadata": {},
     "output_type": "execute_result"
    }
   ],
   "source": [
    "ttemp2_147 = ttemp2[ttemp2['검사방법'] == '부하검사(KD-147)']\n",
    "ttemp2_147.shape"
   ]
  },
  {
   "cell_type": "code",
   "execution_count": 566,
   "metadata": {},
   "outputs": [
    {
     "data": {
      "text/plain": [
       "(115, 31)"
      ]
     },
     "execution_count": 566,
     "metadata": {},
     "output_type": "execute_result"
    }
   ],
   "source": [
    "ttemp2_2 = ttemp2[ttemp2['검사방법'] == '무부하검사(급가속)']\n",
    "ttemp2_2.shape"
   ]
  },
  {
   "cell_type": "code",
   "execution_count": 567,
   "metadata": {},
   "outputs": [
    {
     "data": {
      "text/html": [
       "<div>\n",
       "<style scoped>\n",
       "    .dataframe tbody tr th:only-of-type {\n",
       "        vertical-align: middle;\n",
       "    }\n",
       "\n",
       "    .dataframe tbody tr th {\n",
       "        vertical-align: top;\n",
       "    }\n",
       "\n",
       "    .dataframe thead th {\n",
       "        text-align: right;\n",
       "    }\n",
       "</style>\n",
       "<table border=\"1\" class=\"dataframe\">\n",
       "  <thead>\n",
       "    <tr style=\"text-align: right;\">\n",
       "      <th></th>\n",
       "      <th>무부하매연측정치1</th>\n",
       "      <th>무부하매연판정1</th>\n",
       "    </tr>\n",
       "  </thead>\n",
       "  <tbody>\n",
       "    <tr>\n",
       "      <th>1</th>\n",
       "      <td>0.0</td>\n",
       "      <td>Y</td>\n",
       "    </tr>\n",
       "    <tr>\n",
       "      <th>2</th>\n",
       "      <td>10.0</td>\n",
       "      <td>Y</td>\n",
       "    </tr>\n",
       "    <tr>\n",
       "      <th>3</th>\n",
       "      <td>0.0</td>\n",
       "      <td>Y</td>\n",
       "    </tr>\n",
       "    <tr>\n",
       "      <th>4</th>\n",
       "      <td>0.0</td>\n",
       "      <td>Y</td>\n",
       "    </tr>\n",
       "    <tr>\n",
       "      <th>5</th>\n",
       "      <td>0.0</td>\n",
       "      <td>Y</td>\n",
       "    </tr>\n",
       "    <tr>\n",
       "      <th>...</th>\n",
       "      <td>...</td>\n",
       "      <td>...</td>\n",
       "    </tr>\n",
       "    <tr>\n",
       "      <th>85298</th>\n",
       "      <td>2.0</td>\n",
       "      <td>Y</td>\n",
       "    </tr>\n",
       "    <tr>\n",
       "      <th>85299</th>\n",
       "      <td>10.0</td>\n",
       "      <td>Y</td>\n",
       "    </tr>\n",
       "    <tr>\n",
       "      <th>85301</th>\n",
       "      <td>0.0</td>\n",
       "      <td>Y</td>\n",
       "    </tr>\n",
       "    <tr>\n",
       "      <th>85302</th>\n",
       "      <td>5.0</td>\n",
       "      <td>Y</td>\n",
       "    </tr>\n",
       "    <tr>\n",
       "      <th>85303</th>\n",
       "      <td>5.0</td>\n",
       "      <td>Y</td>\n",
       "    </tr>\n",
       "  </tbody>\n",
       "</table>\n",
       "<p>75392 rows × 2 columns</p>\n",
       "</div>"
      ],
      "text/plain": [
       "       무부하매연측정치1 무부하매연판정1\n",
       "1            0.0        Y\n",
       "2           10.0        Y\n",
       "3            0.0        Y\n",
       "4            0.0        Y\n",
       "5            0.0        Y\n",
       "...          ...      ...\n",
       "85298        2.0        Y\n",
       "85299       10.0        Y\n",
       "85301        0.0        Y\n",
       "85302        5.0        Y\n",
       "85303        5.0        Y\n",
       "\n",
       "[75392 rows x 2 columns]"
      ]
     },
     "execution_count": 567,
     "metadata": {},
     "output_type": "execute_result"
    }
   ],
   "source": [
    "ttemp2_147.loc[ttemp2_147['배출가스인증번호'] == uni, ['무부하매연측정치1', '무부하매연판정1']]"
   ]
  },
  {
   "cell_type": "code",
   "execution_count": 568,
   "metadata": {},
   "outputs": [
    {
     "data": {
      "text/html": [
       "<div>\n",
       "<style scoped>\n",
       "    .dataframe tbody tr th:only-of-type {\n",
       "        vertical-align: middle;\n",
       "    }\n",
       "\n",
       "    .dataframe tbody tr th {\n",
       "        vertical-align: top;\n",
       "    }\n",
       "\n",
       "    .dataframe thead th {\n",
       "        text-align: right;\n",
       "    }\n",
       "</style>\n",
       "<table border=\"1\" class=\"dataframe\">\n",
       "  <thead>\n",
       "    <tr style=\"text-align: right;\">\n",
       "      <th></th>\n",
       "      <th>무부하매연측정치1</th>\n",
       "      <th>무부하매연판정1</th>\n",
       "    </tr>\n",
       "  </thead>\n",
       "  <tbody>\n",
       "    <tr>\n",
       "      <th>991</th>\n",
       "      <td>0.0</td>\n",
       "      <td>Y</td>\n",
       "    </tr>\n",
       "    <tr>\n",
       "      <th>1195</th>\n",
       "      <td>0.0</td>\n",
       "      <td>Y</td>\n",
       "    </tr>\n",
       "    <tr>\n",
       "      <th>1809</th>\n",
       "      <td>0.0</td>\n",
       "      <td>Y</td>\n",
       "    </tr>\n",
       "    <tr>\n",
       "      <th>3211</th>\n",
       "      <td>0.0</td>\n",
       "      <td>Y</td>\n",
       "    </tr>\n",
       "    <tr>\n",
       "      <th>4264</th>\n",
       "      <td>3.0</td>\n",
       "      <td>Y</td>\n",
       "    </tr>\n",
       "    <tr>\n",
       "      <th>...</th>\n",
       "      <td>...</td>\n",
       "      <td>...</td>\n",
       "    </tr>\n",
       "    <tr>\n",
       "      <th>82597</th>\n",
       "      <td>0.0</td>\n",
       "      <td>Y</td>\n",
       "    </tr>\n",
       "    <tr>\n",
       "      <th>82604</th>\n",
       "      <td>1.0</td>\n",
       "      <td>Y</td>\n",
       "    </tr>\n",
       "    <tr>\n",
       "      <th>83238</th>\n",
       "      <td>0.0</td>\n",
       "      <td>Y</td>\n",
       "    </tr>\n",
       "    <tr>\n",
       "      <th>84263</th>\n",
       "      <td>0.0</td>\n",
       "      <td>Y</td>\n",
       "    </tr>\n",
       "    <tr>\n",
       "      <th>84553</th>\n",
       "      <td>2.0</td>\n",
       "      <td>Y</td>\n",
       "    </tr>\n",
       "  </tbody>\n",
       "</table>\n",
       "<p>115 rows × 2 columns</p>\n",
       "</div>"
      ],
      "text/plain": [
       "       무부하매연측정치1 무부하매연판정1\n",
       "991          0.0        Y\n",
       "1195         0.0        Y\n",
       "1809         0.0        Y\n",
       "3211         0.0        Y\n",
       "4264         3.0        Y\n",
       "...          ...      ...\n",
       "82597        0.0        Y\n",
       "82604        1.0        Y\n",
       "83238        0.0        Y\n",
       "84263        0.0        Y\n",
       "84553        2.0        Y\n",
       "\n",
       "[115 rows x 2 columns]"
      ]
     },
     "execution_count": 568,
     "metadata": {},
     "output_type": "execute_result"
    }
   ],
   "source": [
    "ttemp2_2.loc[ttemp2_2['배출가스인증번호'] == uni, ['무부하매연측정치1', '무부하매연판정1']]"
   ]
  },
  {
   "cell_type": "code",
   "execution_count": 583,
   "metadata": {},
   "outputs": [
    {
     "data": {
      "text/plain": [
       "3.0740544673842716"
      ]
     },
     "execution_count": 583,
     "metadata": {},
     "output_type": "execute_result"
    }
   ],
   "source": [
    "m = ttemp2_147.loc[(ttemp2_147['배출가스인증번호'] == uni) & (ttemp2_147['무부하매연판정1'] == 'Y'), '무부하매연측정치1'].mean()\n",
    "m"
   ]
  },
  {
   "cell_type": "code",
   "execution_count": 584,
   "metadata": {},
   "outputs": [
    {
     "data": {
      "text/plain": [
       "0.09525836836783566"
      ]
     },
     "execution_count": 584,
     "metadata": {},
     "output_type": "execute_result"
    }
   ],
   "source": [
    "fail_rate = ttemp2_147.loc[(ttemp2_147['배출가스인증번호'] == uni), '무부하매연판정1'].value_counts(normalize=True)[-1]\n",
    "fail_rate"
   ]
  },
  {
   "cell_type": "code",
   "execution_count": 585,
   "metadata": {},
   "outputs": [
    {
     "data": {
      "text/plain": [
       "70.24427235935255"
      ]
     },
     "execution_count": 585,
     "metadata": {},
     "output_type": "execute_result"
    }
   ],
   "source": [
    "# 부하검사(KD-147)\n",
    "# 경유, 승용, 중형 : 8%\n",
    "(100 - m*100/8) *0.7 + (100 - fail_rate*100)*0.3"
   ]
  },
  {
   "cell_type": "code",
   "execution_count": 586,
   "metadata": {},
   "outputs": [
    {
     "data": {
      "text/plain": [
       "4.081818181818182"
      ]
     },
     "execution_count": 586,
     "metadata": {},
     "output_type": "execute_result"
    }
   ],
   "source": [
    "m = ttemp2_2.loc[(ttemp2_2['배출가스인증번호'] == uni) & (ttemp2_2['무부하매연판정1'] == 'Y'), '무부하매연측정치1'].mean()\n",
    "m"
   ]
  },
  {
   "cell_type": "code",
   "execution_count": 587,
   "metadata": {},
   "outputs": [
    {
     "data": {
      "text/plain": [
       "0.043478260869565216"
      ]
     },
     "execution_count": 587,
     "metadata": {},
     "output_type": "execute_result"
    }
   ],
   "source": [
    "fail_rate = ttemp2_2.loc[(ttemp2_2['배출가스인증번호'] == uni), '무부하매연판정1'].value_counts(normalize=True)[-1]\n",
    "fail_rate"
   ]
  },
  {
   "cell_type": "code",
   "execution_count": 588,
   "metadata": {},
   "outputs": [
    {
     "data": {
      "text/plain": [
       "70.12292490118577"
      ]
     },
     "execution_count": 588,
     "metadata": {},
     "output_type": "execute_result"
    }
   ],
   "source": [
    "# 무부하검사(급가속)\n",
    "# 경유, 승용, 중형 : 10%\n",
    "(100 - m*100/10) *0.7 + (100 - fail_rate*100)*0.3"
   ]
  },
  {
   "cell_type": "code",
   "execution_count": null,
   "metadata": {},
   "outputs": [],
   "source": []
  },
  {
   "cell_type": "code",
   "execution_count": null,
   "metadata": {},
   "outputs": [],
   "source": []
  },
  {
   "cell_type": "code",
   "execution_count": 210,
   "metadata": {},
   "outputs": [
    {
     "data": {
      "text/plain": [
       "(85761, 27)"
      ]
     },
     "execution_count": 210,
     "metadata": {},
     "output_type": "execute_result"
    }
   ],
   "source": [
    "d_total_1 = d_total1.merge(emno_total_df, on=['차대번호', '배출가스인증번호'], how='left')\n",
    "d_total_1.shape"
   ]
  },
  {
   "cell_type": "code",
   "execution_count": 211,
   "metadata": {},
   "outputs": [
    {
     "name": "stderr",
     "output_type": "stream",
     "text": [
      "100%|██████████| 85761/85761 [00:00<00:00, 1099122.75it/s]\n"
     ]
    }
   ],
   "source": [
    "grade_list = []\n",
    "for one in tqdm(d_total_1['total']):\n",
    "    if 100 >= one > 75:\n",
    "        grade_list.append('A')\n",
    "    elif 75 >= one > 50:\n",
    "        grade_list.append('B')\n",
    "    elif 50 >= one > 25:\n",
    "        grade_list.append('C')\n",
    "    elif 25 >= one >= 0:\n",
    "        grade_list.append('D')\n",
    "    else:\n",
    "        grade_list.append('D')"
   ]
  },
  {
   "cell_type": "code",
   "execution_count": 212,
   "metadata": {},
   "outputs": [],
   "source": [
    "d_total_1['Grade'] = grade_list"
   ]
  },
  {
   "cell_type": "code",
   "execution_count": 213,
   "metadata": {},
   "outputs": [
    {
     "data": {
      "text/html": [
       "<div>\n",
       "<style scoped>\n",
       "    .dataframe tbody tr th:only-of-type {\n",
       "        vertical-align: middle;\n",
       "    }\n",
       "\n",
       "    .dataframe tbody tr th {\n",
       "        vertical-align: top;\n",
       "    }\n",
       "\n",
       "    .dataframe thead th {\n",
       "        text-align: right;\n",
       "    }\n",
       "</style>\n",
       "<table border=\"1\" class=\"dataframe\">\n",
       "  <thead>\n",
       "    <tr style=\"text-align: right;\">\n",
       "      <th></th>\n",
       "      <th>index</th>\n",
       "      <th>Grade</th>\n",
       "    </tr>\n",
       "  </thead>\n",
       "  <tbody>\n",
       "    <tr>\n",
       "      <th>1</th>\n",
       "      <td>A</td>\n",
       "      <td>0.267289</td>\n",
       "    </tr>\n",
       "    <tr>\n",
       "      <th>0</th>\n",
       "      <td>D</td>\n",
       "      <td>0.732711</td>\n",
       "    </tr>\n",
       "  </tbody>\n",
       "</table>\n",
       "</div>"
      ],
      "text/plain": [
       "  index     Grade\n",
       "1     A  0.267289\n",
       "0     D  0.732711"
      ]
     },
     "execution_count": 213,
     "metadata": {},
     "output_type": "execute_result"
    }
   ],
   "source": [
    "d_total_1['Grade'].value_counts(normalize=True).reset_index().sort_values(['index'])"
   ]
  },
  {
   "cell_type": "code",
   "execution_count": 214,
   "metadata": {},
   "outputs": [
    {
     "data": {
      "text/plain": [
       "array([nan, '무부하검사(급가속)'], dtype=object)"
      ]
     },
     "execution_count": 214,
     "metadata": {},
     "output_type": "execute_result"
    }
   ],
   "source": [
    "d_total_1['검사방법'].unique()"
   ]
  },
  {
   "cell_type": "code",
   "execution_count": 195,
   "metadata": {},
   "outputs": [],
   "source": [
    "d_total_1['Grade'].value_counts(normalize=True).reset_index().sort_values(['index']).to_excel('analysis/sorento(9MY-KM-14-22)(mod_rate).xlsx')"
   ]
  },
  {
   "cell_type": "code",
   "execution_count": 197,
   "metadata": {},
   "outputs": [
    {
     "data": {
      "text/plain": [
       "array(['9MY-KM-14-22', nan], dtype=object)"
      ]
     },
     "execution_count": 197,
     "metadata": {},
     "output_type": "execute_result"
    }
   ],
   "source": [
    "d_total_1['배출가스인증번호'].unique()"
   ]
  },
  {
   "cell_type": "code",
   "execution_count": null,
   "metadata": {},
   "outputs": [],
   "source": []
  }
 ],
 "metadata": {
  "kernelspec": {
   "display_name": "base",
   "language": "python",
   "name": "python3"
  },
  "language_info": {
   "codemirror_mode": {
    "name": "ipython",
    "version": 3
   },
   "file_extension": ".py",
   "mimetype": "text/x-python",
   "name": "python",
   "nbconvert_exporter": "python",
   "pygments_lexer": "ipython3",
   "version": "3.9.13"
  },
  "orig_nbformat": 4,
  "vscode": {
   "interpreter": {
    "hash": "ad2bdc8ecc057115af97d19610ffacc2b4e99fae6737bb82f5d7fb13d2f2c186"
   }
  }
 },
 "nbformat": 4,
 "nbformat_minor": 2
}
