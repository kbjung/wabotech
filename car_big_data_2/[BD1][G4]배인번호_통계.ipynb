{
 "cells": [
  {
   "attachments": {},
   "cell_type": "markdown",
   "metadata": {},
   "source": [
    "# Library"
   ]
  },
  {
   "cell_type": "code",
   "execution_count": 2,
   "metadata": {},
   "outputs": [],
   "source": [
    "import pandas as pd\n",
    "import numpy as np\n",
    "import os\n",
    "from tqdm import tqdm"
   ]
  },
  {
   "attachments": {},
   "cell_type": "markdown",
   "metadata": {},
   "source": [
    "# 로드\n",
    "- 등록정보&제원정보"
   ]
  },
  {
   "cell_type": "code",
   "execution_count": 3,
   "metadata": {},
   "outputs": [],
   "source": [
    "# about 30s\n",
    "ods_folder = 'D:\\과업\\[한국환경공단]자동차_환경_빅데이터_구축_2차\\data\\ODS'\n",
    "file_name = '[ODS][G4]등록정보&제원정보(한글컬럼)(2022.12.29).csv'\n",
    "ods_path = os.path.join(ods_folder, file_name)\n",
    "df = pd.read_csv(ods_path, encoding='cp949', low_memory=False)"
   ]
  },
  {
   "attachments": {},
   "cell_type": "markdown",
   "metadata": {},
   "source": [
    "# 전처리"
   ]
  },
  {
   "cell_type": "code",
   "execution_count": 4,
   "metadata": {},
   "outputs": [
    {
     "name": "stdout",
     "output_type": "stream",
     "text": [
      "<class 'pandas.core.frame.DataFrame'>\n",
      "RangeIndex: 1898816 entries, 0 to 1898815\n",
      "Data columns (total 49 columns):\n",
      " #   Column        Dtype  \n",
      "---  ------        -----  \n",
      " 0   차량관리번호        object \n",
      " 1   차량등록번호        object \n",
      " 2   본거지법정동코드      int64  \n",
      " 3   소유자구분         object \n",
      " 4   차종_등록정보       object \n",
      " 5   용도            object \n",
      " 6   현재회원번호        object \n",
      " 7   차대번호          object \n",
      " 8   최초등록일자        int64  \n",
      " 9   차량연식          int64  \n",
      " 10  차량제작일자        float64\n",
      " 11  배출가스검사유효일자    float64\n",
      " 12  제원관리번호        object \n",
      " 13  배출가스인증번호      object \n",
      " 14  배출가스등급        object \n",
      " 15  저공해조치YN(미사용)  object \n",
      " 16  저공해조치종류       float64\n",
      " 17  저공해조치구조변경YN   object \n",
      " 18  차량등록번호숫자정보    int64  \n",
      " 19  차량말소YN        object \n",
      " 20  최초회원번호        object \n",
      " 21  취득일자          object \n",
      " 22  취득금액          float64\n",
      " 23  생성일시_등록정보     object \n",
      " 24  수정일시_등록정보     object \n",
      " 25  차명            object \n",
      " 26  차종_제원정보       object \n",
      " 27  차종분류          object \n",
      " 28  차종유형(소분류)     object \n",
      " 29  자동차형식         object \n",
      " 30  제작사명          object \n",
      " 31  연료            object \n",
      " 32  엔진형식          object \n",
      " 33  공차중량          float64\n",
      " 34  총중량           float64\n",
      " 35  적재중량          float64\n",
      " 36  엔진출력          float64\n",
      " 37  배기량           float64\n",
      " 38  승차인원          float64\n",
      " 39  차량길이          float64\n",
      " 40  차량너비          float64\n",
      " 41  차량높이          float64\n",
      " 42  원산지명          object \n",
      " 43  삭제YN          object \n",
      " 44  승인일자          object \n",
      " 45  구동형식          float64\n",
      " 46  변속기종류         object \n",
      " 47  생성일시_제원정보     object \n",
      " 48  수정일시_제원정보     object \n",
      "dtypes: float64(14), int64(4), object(31)\n",
      "memory usage: 709.9+ MB\n"
     ]
    }
   ],
   "source": [
    "df.info()"
   ]
  },
  {
   "cell_type": "code",
   "execution_count": 5,
   "metadata": {},
   "outputs": [
    {
     "data": {
      "text/plain": [
       "(1898816, 49)"
      ]
     },
     "execution_count": 5,
     "metadata": {},
     "output_type": "execute_result"
    }
   ],
   "source": [
    "df.shape"
   ]
  },
  {
   "attachments": {},
   "cell_type": "markdown",
   "metadata": {},
   "source": [
    "## 말소 차량 제거"
   ]
  },
  {
   "cell_type": "code",
   "execution_count": 6,
   "metadata": {},
   "outputs": [
    {
     "data": {
      "text/plain": [
       "array(['N', 'Y'], dtype=object)"
      ]
     },
     "execution_count": 6,
     "metadata": {},
     "output_type": "execute_result"
    }
   ],
   "source": [
    "df['차량말소YN'].unique()"
   ]
  },
  {
   "cell_type": "code",
   "execution_count": 37,
   "metadata": {},
   "outputs": [
    {
     "data": {
      "text/plain": [
       "(1511251, 49)"
      ]
     },
     "execution_count": 37,
     "metadata": {},
     "output_type": "execute_result"
    }
   ],
   "source": [
    "df1 = df[df['차량말소YN'] == 'N'].reset_index(drop=True)\n",
    "df1.shape"
   ]
  },
  {
   "attachments": {},
   "cell_type": "markdown",
   "metadata": {},
   "source": [
    "### [출력]"
   ]
  },
  {
   "cell_type": "code",
   "execution_count": 8,
   "metadata": {},
   "outputs": [],
   "source": [
    "# about 40s\n",
    "df1.to_csv(os.path.join(ods_folder, '[ODS][G4]등록정보&제원정보(한글컬럼)(말소적용)(2022.12.29).csv'), index=False, encoding='cp949')"
   ]
  },
  {
   "attachments": {},
   "cell_type": "markdown",
   "metadata": {},
   "source": [
    "## 빈칸 처리"
   ]
  },
  {
   "cell_type": "code",
   "execution_count": 38,
   "metadata": {},
   "outputs": [
    {
     "data": {
      "text/plain": [
       "123709"
      ]
     },
     "execution_count": 38,
     "metadata": {},
     "output_type": "execute_result"
    }
   ],
   "source": [
    "df1['배출가스인증번호'].isnull().sum()"
   ]
  },
  {
   "cell_type": "code",
   "execution_count": 39,
   "metadata": {},
   "outputs": [
    {
     "name": "stdout",
     "output_type": "stream",
     "text": [
      "2453\n",
      "7708\n",
      "11621\n",
      "15114\n",
      "32547\n",
      "57815\n",
      "135749\n",
      "196882\n",
      "289324\n",
      "332251\n",
      "521777\n",
      "525181\n",
      "526444\n",
      "526895\n",
      "532441\n",
      "533298\n",
      "536986\n",
      "537551\n",
      "706692\n",
      "1227605\n",
      "1498202\n",
      "1502254\n"
     ]
    },
    {
     "data": {
      "text/plain": [
       "22"
      ]
     },
     "execution_count": 39,
     "metadata": {},
     "output_type": "execute_result"
    }
   ],
   "source": [
    "# 빈칸이 포함된 샘플\n",
    "count = 0\n",
    "for i, one in enumerate(df1['배출가스인증번호']):\n",
    "    if ' ' in str(one):\n",
    "        print(i)\n",
    "        count += 1\n",
    "count"
   ]
  },
  {
   "cell_type": "code",
   "execution_count": 40,
   "metadata": {},
   "outputs": [
    {
     "data": {
      "text/plain": [
       "' 7MY-DC-24-72'"
      ]
     },
     "execution_count": 40,
     "metadata": {},
     "output_type": "execute_result"
    }
   ],
   "source": [
    "df1.loc[706692, '배출가스인증번호']"
   ]
  },
  {
   "cell_type": "code",
   "execution_count": 41,
   "metadata": {},
   "outputs": [
    {
     "name": "stdout",
     "output_type": "stream",
     "text": [
      "2453\n",
      "7708\n",
      "11621\n",
      "15114\n",
      "32547\n",
      "57815\n",
      "135749\n",
      "196882\n",
      "289324\n",
      "332251\n",
      "1498202\n",
      "1502254\n"
     ]
    },
    {
     "data": {
      "text/plain": [
       "12"
      ]
     },
     "execution_count": 41,
     "metadata": {},
     "output_type": "execute_result"
    }
   ],
   "source": [
    "# 빈칸만 있는 샘플\n",
    "count = 0\n",
    "for i, one in enumerate(df1['배출가스인증번호']):\n",
    "    if ' ' == str(one):\n",
    "        print(i)\n",
    "        count += 1\n",
    "count"
   ]
  },
  {
   "cell_type": "code",
   "execution_count": 42,
   "metadata": {},
   "outputs": [
    {
     "data": {
      "text/plain": [
       "' '"
      ]
     },
     "execution_count": 42,
     "metadata": {},
     "output_type": "execute_result"
    }
   ],
   "source": [
    "df1.loc[2453, '배출가스인증번호']"
   ]
  },
  {
   "cell_type": "code",
   "execution_count": 43,
   "metadata": {},
   "outputs": [],
   "source": [
    "df1['배출가스인증번호'] = df1['배출가스인증번호'].replace(' ', np.nan)"
   ]
  },
  {
   "cell_type": "code",
   "execution_count": 44,
   "metadata": {},
   "outputs": [
    {
     "data": {
      "text/plain": [
       "nan"
      ]
     },
     "execution_count": 44,
     "metadata": {},
     "output_type": "execute_result"
    }
   ],
   "source": [
    "df1.loc[2453, '배출가스인증번호']"
   ]
  },
  {
   "cell_type": "code",
   "execution_count": 45,
   "metadata": {},
   "outputs": [
    {
     "name": "stdout",
     "output_type": "stream",
     "text": [
      "521777\n",
      "525181\n",
      "526444\n",
      "526895\n",
      "532441\n",
      "533298\n",
      "536986\n",
      "537551\n",
      "706692\n",
      "1227605\n"
     ]
    },
    {
     "data": {
      "text/plain": [
       "10"
      ]
     },
     "execution_count": 45,
     "metadata": {},
     "output_type": "execute_result"
    }
   ],
   "source": [
    "# 빈칸이 포함된 샘플\n",
    "count = 0\n",
    "for i, one in enumerate(df1['배출가스인증번호']):\n",
    "    if ' ' in str(one):\n",
    "        print(i)\n",
    "        count += 1\n",
    "count"
   ]
  },
  {
   "cell_type": "code",
   "execution_count": 46,
   "metadata": {},
   "outputs": [
    {
     "data": {
      "text/plain": [
       "' 7MY-HD-24-30'"
      ]
     },
     "execution_count": 46,
     "metadata": {},
     "output_type": "execute_result"
    }
   ],
   "source": [
    "df1.loc[521777, '배출가스인증번호']"
   ]
  },
  {
   "cell_type": "code",
   "execution_count": 47,
   "metadata": {},
   "outputs": [],
   "source": [
    "df1['배출가스인증번호'] = df1['배출가스인증번호'].str.strip()"
   ]
  },
  {
   "cell_type": "code",
   "execution_count": 48,
   "metadata": {},
   "outputs": [
    {
     "data": {
      "text/plain": [
       "0"
      ]
     },
     "execution_count": 48,
     "metadata": {},
     "output_type": "execute_result"
    }
   ],
   "source": [
    "# 빈칸이 포함된 샘플\n",
    "count = 0\n",
    "for i, one in enumerate(df1['배출가스인증번호']):\n",
    "    if ' ' in str(one):\n",
    "        print(i)\n",
    "        count += 1\n",
    "count"
   ]
  },
  {
   "cell_type": "code",
   "execution_count": 49,
   "metadata": {},
   "outputs": [
    {
     "data": {
      "text/plain": [
       "'7MY-HD-24-30'"
      ]
     },
     "execution_count": 49,
     "metadata": {},
     "output_type": "execute_result"
    }
   ],
   "source": [
    "df1.loc[521777, '배출가스인증번호']"
   ]
  },
  {
   "cell_type": "code",
   "execution_count": 50,
   "metadata": {},
   "outputs": [
    {
     "data": {
      "text/plain": [
       "123721"
      ]
     },
     "execution_count": 50,
     "metadata": {},
     "output_type": "execute_result"
    }
   ],
   "source": [
    "df1['배출가스인증번호'].isnull().sum()"
   ]
  },
  {
   "attachments": {},
   "cell_type": "markdown",
   "metadata": {},
   "source": [
    "# 분석"
   ]
  },
  {
   "cell_type": "code",
   "execution_count": 92,
   "metadata": {},
   "outputs": [
    {
     "data": {
      "text/plain": [
       "배출가스인증번호     123721\n",
       "제원관리번호            0\n",
       "자동차형식           528\n",
       "연료               71\n",
       "차종_등록정보           2\n",
       "차종유형(소분류)         0\n",
       "dtype: int64"
      ]
     },
     "execution_count": 92,
     "metadata": {},
     "output_type": "execute_result"
    }
   ],
   "source": [
    "df1[['배출가스인증번호', '제원관리번호', '자동차형식', '연료', '차종_등록정보', '차종유형(소분류)']].isnull().sum()"
   ]
  },
  {
   "cell_type": "code",
   "execution_count": null,
   "metadata": {},
   "outputs": [
    {
     "data": {
      "text/plain": [
       "303"
      ]
     },
     "metadata": {},
     "output_type": "display_data"
    }
   ],
   "source": [
    "len(df1['배출가스인증번호'].unique())"
   ]
  },
  {
   "cell_type": "code",
   "execution_count": null,
   "metadata": {},
   "outputs": [
    {
     "data": {
      "text/plain": [
       "17408"
      ]
     },
     "metadata": {},
     "output_type": "display_data"
    }
   ],
   "source": [
    "len(df1['제원관리번호'].unique())"
   ]
  },
  {
   "attachments": {},
   "cell_type": "markdown",
   "metadata": {},
   "source": [
    "## 통계(nan 값 제외)"
   ]
  },
  {
   "cell_type": "code",
   "execution_count": null,
   "metadata": {},
   "outputs": [
    {
     "data": {
      "text/plain": [
       "Index(['차량관리번호', '차량등록번호', '본거지법정동코드', '소유자구분', '차종_등록정보', '용도', '현재회원번호',\n",
       "       '차대번호', '최초등록일자', '차량연식', '차량제작일자', '배출가스검사유효일자', '제원관리번호', '배출가스인증번호',\n",
       "       '배출가스등급', '저공해조치YN(미사용)', '저공해조치종류', '저공해조치구조변경YN', '차량등록번호숫자정보',\n",
       "       '차량말소YN', '최초회원번호', '취득일자', '취득금액', '생성일시_등록정보', '수정일시_등록정보', '차명',\n",
       "       '차종_제원정보', '차종분류', '차종유형(소분류)', '자동차형식', '제작사명', '연료', '엔진형식', '공차중량',\n",
       "       '총중량', '적재중량', '엔진출력', '배기량', '승차인원', '차량길이', '차량너비', '차량높이', '원산지명',\n",
       "       '삭제YN', '승인일자', '구동형식', '변속기종류', '생성일시_제원정보', '수정일시_제원정보'],\n",
       "      dtype='object')"
      ]
     },
     "metadata": {},
     "output_type": "display_data"
    }
   ],
   "source": [
    "df1.columns"
   ]
  },
  {
   "cell_type": "code",
   "execution_count": 84,
   "metadata": {},
   "outputs": [
    {
     "data": {
      "text/plain": [
       "(1511251, 49)"
      ]
     },
     "execution_count": 84,
     "metadata": {},
     "output_type": "execute_result"
    }
   ],
   "source": [
    "df1.shape"
   ]
  },
  {
   "cell_type": "code",
   "execution_count": 28,
   "metadata": {},
   "outputs": [
    {
     "data": {
      "text/plain": [
       "배출가스인증번호   제원관리번호             자동차형식             연료           차종_등록정보  차종유형(소분류)\n",
       "3MY-FK-08  00031123015731309  MSV3-27C          휘발유          승용       대형             1\n",
       "           20018700000001     JFM 3.0 V 5 FEGX  휘발유          승용       대형             5\n",
       "           20029400000000     MSV3-27B          휘발유          승용       대형            12\n",
       "           20042500000000     MSV3-27C          휘발유          승용       대형           231\n",
       "           20042500000001     MSV3-27C          휘발유          승용       대형           202\n",
       "                                                                                  ... \n",
       "XMY-KM-47  10124800030001     FC723A            LGP(액화석유가스)  승합       중형           129\n",
       "YKM-KM-12  10016400440000     AM251L-HL         LGP(액화석유가스)  화물       경형            54\n",
       "           10016400450000     KM251L-HL         LGP(액화석유가스)  화물       경형             2\n",
       "           10150600000000     SOK0090           LGP(액화석유가스)  화물       경형            13\n",
       "           99934125020813405  AM240L-1          LGP(액화석유가스)  화물       경형             1\n",
       "Name: 차대번호, Length: 8718, dtype: int64"
      ]
     },
     "execution_count": 28,
     "metadata": {},
     "output_type": "execute_result"
    }
   ],
   "source": [
    "s1 = df1.groupby(['배출가스인증번호', '제원관리번호', '자동차형식', '연료', '차종_등록정보', '차종유형(소분류)'])['차대번호'].count()\n",
    "s1"
   ]
  },
  {
   "attachments": {},
   "cell_type": "markdown",
   "metadata": {},
   "source": [
    "### [출력] 통계(nan 값 제외)"
   ]
  },
  {
   "cell_type": "code",
   "execution_count": 29,
   "metadata": {},
   "outputs": [],
   "source": [
    "s1.to_excel('analysis2/[G4][배인번호]통계.xlsx')"
   ]
  },
  {
   "attachments": {},
   "cell_type": "markdown",
   "metadata": {},
   "source": [
    "## 통계(nan 값 포함)"
   ]
  },
  {
   "cell_type": "code",
   "execution_count": 93,
   "metadata": {},
   "outputs": [],
   "source": [
    "df2 = df1.copy()"
   ]
  },
  {
   "cell_type": "code",
   "execution_count": 95,
   "metadata": {},
   "outputs": [],
   "source": [
    "df2['배출가스인증번호'] = df2['배출가스인증번호'].astype('str')\n",
    "df2['제원관리번호'] = df2['제원관리번호'].astype('str')\n",
    "df2['자동차형식'] = df2['자동차형식'].astype('str')\n",
    "df2['연료'] = df2['연료'].astype('str')\n",
    "df2['차종_등록정보'] = df2['차종_등록정보'].astype('str')\n",
    "df2['차종유형(소분류)'] = df2['차종유형(소분류)'].astype('str')\n",
    "df2['차대번호'] = df2['차대번호'].astype('str')"
   ]
  },
  {
   "cell_type": "code",
   "execution_count": 96,
   "metadata": {},
   "outputs": [
    {
     "data": {
      "text/plain": [
       "0"
      ]
     },
     "execution_count": 96,
     "metadata": {},
     "output_type": "execute_result"
    }
   ],
   "source": [
    "df2['배출가스인증번호'].isnull().sum()"
   ]
  },
  {
   "cell_type": "code",
   "execution_count": 97,
   "metadata": {},
   "outputs": [
    {
     "data": {
      "text/plain": [
       "배출가스인증번호   제원관리번호             자동차형식             연료   차종_등록정보  차종유형(소분류)\n",
       "3MY-FK-08  00031123015731309  MSV3-27C          휘발유  승용       대형             1\n",
       "           20018700000001     JFM 3.0 V 5 FEGX  휘발유  승용       대형             5\n",
       "           20029400000000     MSV3-27B          휘발유  승용       대형            12\n",
       "           20042500000000     MSV3-27C          휘발유  승용       대형           231\n",
       "           20042500000001     MSV3-27C          휘발유  승용       대형           202\n",
       "                                                                          ... \n",
       "nan        BD410001600003309  SSC 320.12.04/8   경유   화물       대형             1\n",
       "           BD410001700003309  SSC 210.08.03/6   경유   화물       대형             1\n",
       "           BDV10000100003308  MTS450            경유   화물       대형             1\n",
       "           BEU10001700013310  KCT4.5PD-BC6CT1   경유   화물       대형             1\n",
       "           BRX20004100023317  FH104FTR3HA       경유   화물       대형            12\n",
       "Name: 차대번호, Length: 18040, dtype: int64"
      ]
     },
     "execution_count": 97,
     "metadata": {},
     "output_type": "execute_result"
    }
   ],
   "source": [
    "s1_1 = df2.groupby(['배출가스인증번호', '제원관리번호', '자동차형식', '연료', '차종_등록정보', '차종유형(소분류)'])['차대번호'].count()\n",
    "s1_1"
   ]
  },
  {
   "cell_type": "code",
   "execution_count": 98,
   "metadata": {},
   "outputs": [
    {
     "data": {
      "text/plain": [
       "1511251"
      ]
     },
     "execution_count": 98,
     "metadata": {},
     "output_type": "execute_result"
    }
   ],
   "source": [
    "df2.groupby(['배출가스인증번호', '제원관리번호', '자동차형식', '연료', '차종_등록정보', '차종유형(소분류)'], as_index=False)['차대번호'].count()['차대번호'].sum()"
   ]
  },
  {
   "attachments": {},
   "cell_type": "markdown",
   "metadata": {},
   "source": [
    "### [출력] 통계(nan 값 제외)"
   ]
  },
  {
   "cell_type": "code",
   "execution_count": 99,
   "metadata": {},
   "outputs": [],
   "source": [
    "s1_1.to_excel('analysis2/[G4][배인번호]통계(nan값_포함).xlsx')"
   ]
  },
  {
   "attachments": {},
   "cell_type": "markdown",
   "metadata": {},
   "source": [
    "## 통계(배인번호, 제번, 자동차형식)"
   ]
  },
  {
   "cell_type": "code",
   "execution_count": 100,
   "metadata": {},
   "outputs": [
    {
     "data": {
      "text/plain": [
       "배출가스인증번호   제원관리번호             자동차형식           \n",
       "3MY-FK-08  00031123015731309  MSV3-27C              1\n",
       "           20018700000001     JFM 3.0 V 5 FEGX      5\n",
       "           20029400000000     MSV3-27B             12\n",
       "           20042500000000     MSV3-27C            231\n",
       "           20042500000001     MSV3-27C            202\n",
       "                                                 ... \n",
       "nan        BD410001600003309  SSC 320.12.04/8       1\n",
       "           BD410001700003309  SSC 210.08.03/6       1\n",
       "           BDV10000100003308  MTS450                1\n",
       "           BEU10001700013310  KCT4.5PD-BC6CT1       1\n",
       "           BRX20004100023317  FH104FTR3HA          12\n",
       "Name: 차대번호, Length: 17638, dtype: int64"
      ]
     },
     "execution_count": 100,
     "metadata": {},
     "output_type": "execute_result"
    }
   ],
   "source": [
    "s1_2 = df2.groupby(['배출가스인증번호', '제원관리번호', '자동차형식'])['차대번호'].count()\n",
    "s1_2"
   ]
  },
  {
   "cell_type": "code",
   "execution_count": 104,
   "metadata": {},
   "outputs": [
    {
     "data": {
      "text/html": [
       "<div>\n",
       "<style scoped>\n",
       "    .dataframe tbody tr th:only-of-type {\n",
       "        vertical-align: middle;\n",
       "    }\n",
       "\n",
       "    .dataframe tbody tr th {\n",
       "        vertical-align: top;\n",
       "    }\n",
       "\n",
       "    .dataframe thead th {\n",
       "        text-align: right;\n",
       "    }\n",
       "</style>\n",
       "<table border=\"1\" class=\"dataframe\">\n",
       "  <thead>\n",
       "    <tr style=\"text-align: right;\">\n",
       "      <th></th>\n",
       "      <th>배출가스인증번호</th>\n",
       "      <th>제원관리번호</th>\n",
       "      <th>자동차형식</th>\n",
       "      <th>차대번호</th>\n",
       "    </tr>\n",
       "  </thead>\n",
       "  <tbody>\n",
       "    <tr>\n",
       "      <th>0</th>\n",
       "      <td>3MY-FK-08</td>\n",
       "      <td>00031123015731309</td>\n",
       "      <td>MSV3-27C</td>\n",
       "      <td>1</td>\n",
       "    </tr>\n",
       "    <tr>\n",
       "      <th>1</th>\n",
       "      <td>3MY-FK-08</td>\n",
       "      <td>20018700000001</td>\n",
       "      <td>JFM 3.0 V 5 FEGX</td>\n",
       "      <td>5</td>\n",
       "    </tr>\n",
       "    <tr>\n",
       "      <th>2</th>\n",
       "      <td>3MY-FK-08</td>\n",
       "      <td>20029400000000</td>\n",
       "      <td>MSV3-27B</td>\n",
       "      <td>12</td>\n",
       "    </tr>\n",
       "    <tr>\n",
       "      <th>3</th>\n",
       "      <td>3MY-FK-08</td>\n",
       "      <td>20042500000000</td>\n",
       "      <td>MSV3-27C</td>\n",
       "      <td>231</td>\n",
       "    </tr>\n",
       "    <tr>\n",
       "      <th>4</th>\n",
       "      <td>3MY-FK-08</td>\n",
       "      <td>20042500000001</td>\n",
       "      <td>MSV3-27C</td>\n",
       "      <td>202</td>\n",
       "    </tr>\n",
       "    <tr>\n",
       "      <th>...</th>\n",
       "      <td>...</td>\n",
       "      <td>...</td>\n",
       "      <td>...</td>\n",
       "      <td>...</td>\n",
       "    </tr>\n",
       "    <tr>\n",
       "      <th>17633</th>\n",
       "      <td>nan</td>\n",
       "      <td>BD410001600003309</td>\n",
       "      <td>SSC 320.12.04/8</td>\n",
       "      <td>1</td>\n",
       "    </tr>\n",
       "    <tr>\n",
       "      <th>17634</th>\n",
       "      <td>nan</td>\n",
       "      <td>BD410001700003309</td>\n",
       "      <td>SSC 210.08.03/6</td>\n",
       "      <td>1</td>\n",
       "    </tr>\n",
       "    <tr>\n",
       "      <th>17635</th>\n",
       "      <td>nan</td>\n",
       "      <td>BDV10000100003308</td>\n",
       "      <td>MTS450</td>\n",
       "      <td>1</td>\n",
       "    </tr>\n",
       "    <tr>\n",
       "      <th>17636</th>\n",
       "      <td>nan</td>\n",
       "      <td>BEU10001700013310</td>\n",
       "      <td>KCT4.5PD-BC6CT1</td>\n",
       "      <td>1</td>\n",
       "    </tr>\n",
       "    <tr>\n",
       "      <th>17637</th>\n",
       "      <td>nan</td>\n",
       "      <td>BRX20004100023317</td>\n",
       "      <td>FH104FTR3HA</td>\n",
       "      <td>12</td>\n",
       "    </tr>\n",
       "  </tbody>\n",
       "</table>\n",
       "<p>17638 rows × 4 columns</p>\n",
       "</div>"
      ],
      "text/plain": [
       "        배출가스인증번호             제원관리번호             자동차형식  차대번호\n",
       "0      3MY-FK-08  00031123015731309          MSV3-27C     1\n",
       "1      3MY-FK-08     20018700000001  JFM 3.0 V 5 FEGX     5\n",
       "2      3MY-FK-08     20029400000000          MSV3-27B    12\n",
       "3      3MY-FK-08     20042500000000          MSV3-27C   231\n",
       "4      3MY-FK-08     20042500000001          MSV3-27C   202\n",
       "...          ...                ...               ...   ...\n",
       "17633        nan  BD410001600003309   SSC 320.12.04/8     1\n",
       "17634        nan  BD410001700003309   SSC 210.08.03/6     1\n",
       "17635        nan  BDV10000100003308            MTS450     1\n",
       "17636        nan  BEU10001700013310   KCT4.5PD-BC6CT1     1\n",
       "17637        nan  BRX20004100023317       FH104FTR3HA    12\n",
       "\n",
       "[17638 rows x 4 columns]"
      ]
     },
     "execution_count": 104,
     "metadata": {},
     "output_type": "execute_result"
    }
   ],
   "source": [
    "s1_2_1 = df2.groupby(['배출가스인증번호', '제원관리번호', '자동차형식'], as_index=False)['차대번호'].count()\n",
    "s1_2_1"
   ]
  },
  {
   "cell_type": "code",
   "execution_count": 105,
   "metadata": {},
   "outputs": [
    {
     "data": {
      "text/plain": [
       "(17408, 8180)"
      ]
     },
     "execution_count": 105,
     "metadata": {},
     "output_type": "execute_result"
    }
   ],
   "source": [
    "len(s1_2_1['제원관리번호'].unique()), len(s1_2_1['자동차형식'].unique())"
   ]
  },
  {
   "attachments": {},
   "cell_type": "markdown",
   "metadata": {},
   "source": [
    "### [출력] 통계2(nan 값 제외)"
   ]
  },
  {
   "cell_type": "code",
   "execution_count": 101,
   "metadata": {},
   "outputs": [],
   "source": [
    "s1_2.to_excel('analysis2/[G4][배인번호]통계2(nan값_포함).xlsx')"
   ]
  },
  {
   "attachments": {},
   "cell_type": "markdown",
   "metadata": {},
   "source": [
    "## 통계(제번, 자동차형식)"
   ]
  },
  {
   "cell_type": "code",
   "execution_count": 102,
   "metadata": {},
   "outputs": [
    {
     "data": {
      "text/plain": [
       "제원관리번호             자동차형식      \n",
       "00030110800000304  GF-MCU15W       1\n",
       "00030112400001628  YS-25D-A1       1\n",
       "00031105000011116  XNWAY           1\n",
       "00031105000011203  202018          1\n",
       "00031105000011314  MCL943F         1\n",
       "                                  ..\n",
       "BRX20004600013317  FM104FTR3HA    49\n",
       "BRX20004700003317  FE64RB          1\n",
       "BRX20004800003317  FE64RB          1\n",
       "BZB20003100003318  FM104FTR3HA     1\n",
       "CN210001000003218  PD2WB-HD2.5     1\n",
       "Name: 차대번호, Length: 17408, dtype: int64"
      ]
     },
     "execution_count": 102,
     "metadata": {},
     "output_type": "execute_result"
    }
   ],
   "source": [
    "s1_3 = df2.groupby(['제원관리번호', '자동차형식'])['차대번호'].count()\n",
    "s1_3"
   ]
  },
  {
   "attachments": {},
   "cell_type": "markdown",
   "metadata": {},
   "source": [
    "### [출력] 통계3(nan 값 제외)"
   ]
  },
  {
   "cell_type": "code",
   "execution_count": 103,
   "metadata": {},
   "outputs": [],
   "source": [
    "s1_3.to_excel('analysis2/[G4][배인번호]통계3(nan값_포함).xlsx')"
   ]
  },
  {
   "attachments": {},
   "cell_type": "markdown",
   "metadata": {},
   "source": [
    "## 통계(자동차형식, 제번)"
   ]
  },
  {
   "cell_type": "code",
   "execution_count": 106,
   "metadata": {},
   "outputs": [
    {
     "data": {
      "text/plain": [
       "자동차형식   제원관리번호           \n",
       "0       99931107067061203    1\n",
       "        99931107067111203    1\n",
       "        99931107067161203    1\n",
       "        99931107067351203    1\n",
       "        99931107067451203    1\n",
       "                            ..\n",
       "소프린     20046200000003       1\n",
       "아스트롤벤   30410500000066       1\n",
       "엑스제이씩스  20046200000004       1\n",
       "포드픽업    00034124000053103    1\n",
       "？       30112400000670       1\n",
       "Name: 차대번호, Length: 17408, dtype: int64"
      ]
     },
     "execution_count": 106,
     "metadata": {},
     "output_type": "execute_result"
    }
   ],
   "source": [
    "s1_4 = df2.groupby(['자동차형식', '제원관리번호'])['차대번호'].count()\n",
    "s1_4"
   ]
  },
  {
   "attachments": {},
   "cell_type": "markdown",
   "metadata": {},
   "source": [
    "### [출력] 통계4(nan 값 제외)"
   ]
  },
  {
   "cell_type": "code",
   "execution_count": 109,
   "metadata": {},
   "outputs": [],
   "source": [
    "s1_4.to_excel('analysis2/[G4][배인번호]통계4(nan값_포함).xlsx')"
   ]
  },
  {
   "attachments": {},
   "cell_type": "markdown",
   "metadata": {},
   "source": [
    "## 배인번호 없는 데이터"
   ]
  },
  {
   "cell_type": "code",
   "execution_count": 57,
   "metadata": {},
   "outputs": [
    {
     "data": {
      "text/plain": [
       "(123721, 49)"
      ]
     },
     "execution_count": 57,
     "metadata": {},
     "output_type": "execute_result"
    }
   ],
   "source": [
    "df3 = df1[df1['배출가스인증번호'].isnull() == True].reset_index(drop=True)\n",
    "df3.shape"
   ]
  },
  {
   "cell_type": "code",
   "execution_count": 82,
   "metadata": {},
   "outputs": [
    {
     "data": {
      "text/plain": [
       "9215"
      ]
     },
     "execution_count": 82,
     "metadata": {},
     "output_type": "execute_result"
    }
   ],
   "source": [
    "len(df3['제원관리번호'].unique())"
   ]
  },
  {
   "attachments": {},
   "cell_type": "markdown",
   "metadata": {},
   "source": [
    "### 제번으로 매칭 가능한 샘플"
   ]
  },
  {
   "cell_type": "code",
   "execution_count": 63,
   "metadata": {},
   "outputs": [
    {
     "data": {
      "text/html": [
       "<div>\n",
       "<style scoped>\n",
       "    .dataframe tbody tr th:only-of-type {\n",
       "        vertical-align: middle;\n",
       "    }\n",
       "\n",
       "    .dataframe tbody tr th {\n",
       "        vertical-align: top;\n",
       "    }\n",
       "\n",
       "    .dataframe thead th {\n",
       "        text-align: right;\n",
       "    }\n",
       "</style>\n",
       "<table border=\"1\" class=\"dataframe\">\n",
       "  <thead>\n",
       "    <tr style=\"text-align: right;\">\n",
       "      <th></th>\n",
       "      <th>배출가스인증번호</th>\n",
       "      <th>제원관리번호</th>\n",
       "      <th>자동차형식</th>\n",
       "      <th>연료</th>\n",
       "      <th>차종_등록정보</th>\n",
       "      <th>차종유형(소분류)</th>\n",
       "      <th>차대번호</th>\n",
       "    </tr>\n",
       "  </thead>\n",
       "  <tbody>\n",
       "    <tr>\n",
       "      <th>0</th>\n",
       "      <td>3MY-FK-08</td>\n",
       "      <td>00031123015731309</td>\n",
       "      <td>MSV3-27C</td>\n",
       "      <td>휘발유</td>\n",
       "      <td>승용</td>\n",
       "      <td>대형</td>\n",
       "      <td>1</td>\n",
       "    </tr>\n",
       "    <tr>\n",
       "      <th>1</th>\n",
       "      <td>3MY-FK-08</td>\n",
       "      <td>20018700000001</td>\n",
       "      <td>JFM 3.0 V 5 FEGX</td>\n",
       "      <td>휘발유</td>\n",
       "      <td>승용</td>\n",
       "      <td>대형</td>\n",
       "      <td>5</td>\n",
       "    </tr>\n",
       "    <tr>\n",
       "      <th>2</th>\n",
       "      <td>3MY-FK-08</td>\n",
       "      <td>20029400000000</td>\n",
       "      <td>MSV3-27B</td>\n",
       "      <td>휘발유</td>\n",
       "      <td>승용</td>\n",
       "      <td>대형</td>\n",
       "      <td>12</td>\n",
       "    </tr>\n",
       "    <tr>\n",
       "      <th>3</th>\n",
       "      <td>3MY-FK-08</td>\n",
       "      <td>20042500000000</td>\n",
       "      <td>MSV3-27C</td>\n",
       "      <td>휘발유</td>\n",
       "      <td>승용</td>\n",
       "      <td>대형</td>\n",
       "      <td>231</td>\n",
       "    </tr>\n",
       "    <tr>\n",
       "      <th>4</th>\n",
       "      <td>3MY-FK-08</td>\n",
       "      <td>20042500000001</td>\n",
       "      <td>MSV3-27C</td>\n",
       "      <td>휘발유</td>\n",
       "      <td>승용</td>\n",
       "      <td>대형</td>\n",
       "      <td>202</td>\n",
       "    </tr>\n",
       "    <tr>\n",
       "      <th>...</th>\n",
       "      <td>...</td>\n",
       "      <td>...</td>\n",
       "      <td>...</td>\n",
       "      <td>...</td>\n",
       "      <td>...</td>\n",
       "      <td>...</td>\n",
       "      <td>...</td>\n",
       "    </tr>\n",
       "    <tr>\n",
       "      <th>8713</th>\n",
       "      <td>XMY-KM-47</td>\n",
       "      <td>10124800030001</td>\n",
       "      <td>FC723A</td>\n",
       "      <td>LGP(액화석유가스)</td>\n",
       "      <td>승합</td>\n",
       "      <td>중형</td>\n",
       "      <td>129</td>\n",
       "    </tr>\n",
       "    <tr>\n",
       "      <th>8714</th>\n",
       "      <td>YKM-KM-12</td>\n",
       "      <td>10016400440000</td>\n",
       "      <td>AM251L-HL</td>\n",
       "      <td>LGP(액화석유가스)</td>\n",
       "      <td>화물</td>\n",
       "      <td>경형</td>\n",
       "      <td>54</td>\n",
       "    </tr>\n",
       "    <tr>\n",
       "      <th>8715</th>\n",
       "      <td>YKM-KM-12</td>\n",
       "      <td>10016400450000</td>\n",
       "      <td>KM251L-HL</td>\n",
       "      <td>LGP(액화석유가스)</td>\n",
       "      <td>화물</td>\n",
       "      <td>경형</td>\n",
       "      <td>2</td>\n",
       "    </tr>\n",
       "    <tr>\n",
       "      <th>8716</th>\n",
       "      <td>YKM-KM-12</td>\n",
       "      <td>10150600000000</td>\n",
       "      <td>SOK0090</td>\n",
       "      <td>LGP(액화석유가스)</td>\n",
       "      <td>화물</td>\n",
       "      <td>경형</td>\n",
       "      <td>13</td>\n",
       "    </tr>\n",
       "    <tr>\n",
       "      <th>8717</th>\n",
       "      <td>YKM-KM-12</td>\n",
       "      <td>99934125020813405</td>\n",
       "      <td>AM240L-1</td>\n",
       "      <td>LGP(액화석유가스)</td>\n",
       "      <td>화물</td>\n",
       "      <td>경형</td>\n",
       "      <td>1</td>\n",
       "    </tr>\n",
       "  </tbody>\n",
       "</table>\n",
       "<p>8718 rows × 7 columns</p>\n",
       "</div>"
      ],
      "text/plain": [
       "       배출가스인증번호             제원관리번호             자동차형식           연료 차종_등록정보  \\\n",
       "0     3MY-FK-08  00031123015731309          MSV3-27C          휘발유      승용   \n",
       "1     3MY-FK-08     20018700000001  JFM 3.0 V 5 FEGX          휘발유      승용   \n",
       "2     3MY-FK-08     20029400000000          MSV3-27B          휘발유      승용   \n",
       "3     3MY-FK-08     20042500000000          MSV3-27C          휘발유      승용   \n",
       "4     3MY-FK-08     20042500000001          MSV3-27C          휘발유      승용   \n",
       "...         ...                ...               ...          ...     ...   \n",
       "8713  XMY-KM-47     10124800030001            FC723A  LGP(액화석유가스)      승합   \n",
       "8714  YKM-KM-12     10016400440000         AM251L-HL  LGP(액화석유가스)      화물   \n",
       "8715  YKM-KM-12     10016400450000         KM251L-HL  LGP(액화석유가스)      화물   \n",
       "8716  YKM-KM-12     10150600000000           SOK0090  LGP(액화석유가스)      화물   \n",
       "8717  YKM-KM-12  99934125020813405          AM240L-1  LGP(액화석유가스)      화물   \n",
       "\n",
       "     차종유형(소분류)  차대번호  \n",
       "0           대형     1  \n",
       "1           대형     5  \n",
       "2           대형    12  \n",
       "3           대형   231  \n",
       "4           대형   202  \n",
       "...        ...   ...  \n",
       "8713        중형   129  \n",
       "8714        경형    54  \n",
       "8715        경형     2  \n",
       "8716        경형    13  \n",
       "8717        경형     1  \n",
       "\n",
       "[8718 rows x 7 columns]"
      ]
     },
     "execution_count": 63,
     "metadata": {},
     "output_type": "execute_result"
    }
   ],
   "source": [
    "s1_reset = df1.groupby(['배출가스인증번호', '제원관리번호', '자동차형식', '연료', '차종_등록정보', '차종유형(소분류)'], as_index=False)['차대번호'].count()\n",
    "s1_reset"
   ]
  },
  {
   "cell_type": "code",
   "execution_count": 77,
   "metadata": {},
   "outputs": [
    {
     "data": {
      "text/plain": [
       "8189"
      ]
     },
     "execution_count": 77,
     "metadata": {},
     "output_type": "execute_result"
    }
   ],
   "source": [
    "len(s1_reset['제원관리번호'].unique())"
   ]
  },
  {
   "cell_type": "code",
   "execution_count": 69,
   "metadata": {},
   "outputs": [
    {
     "data": {
      "text/plain": [
       "['A0810005207533307',\n",
       " 'A0810007000311307',\n",
       " 'A0710001100361207',\n",
       " 'B3C10016600003307',\n",
       " 'B1R10005100003308',\n",
       " 'A0410000500051207']"
      ]
     },
     "execution_count": 69,
     "metadata": {},
     "output_type": "execute_result"
    }
   ],
   "source": [
    "inter = list(set(s1_reset['제원관리번호']) & set(df3['제원관리번호']))\n",
    "inter"
   ]
  },
  {
   "cell_type": "code",
   "execution_count": 71,
   "metadata": {},
   "outputs": [
    {
     "data": {
      "text/plain": [
       "(6, 49)"
      ]
     },
     "execution_count": 71,
     "metadata": {},
     "output_type": "execute_result"
    }
   ],
   "source": [
    "inter_df = pd.DataFrame()\n",
    "for one in inter:\n",
    "    inter_df = pd.concat([ inter_df, df3[df3['제원관리번호'] == one] ], ignore_index=True)\n",
    "inter_df.shape"
   ]
  },
  {
   "cell_type": "code",
   "execution_count": 73,
   "metadata": {},
   "outputs": [
    {
     "data": {
      "text/plain": [
       "제원관리번호             자동차형식              연료  차종_등록정보  차종유형(소분류)\n",
       "A0410000500051207  H1D20-VC-0-22      경유  승용       중형           1\n",
       "A0710001100361207  CA26R              경유  승용       중형           1\n",
       "A0810005207533307  HD5CT-8SGd-Z1      경유  화물       대형           1\n",
       "A0810007000311307  EN-7RS2DAF8-1      경유  승용       대형           1\n",
       "B1R10005100003308  RS07GMS2           경유  화물       대형           1\n",
       "B3C10016600003307  K4.5C2-7TD-H4.5EU  경유  화물       대형           1\n",
       "Name: 차대번호, dtype: int64"
      ]
     },
     "execution_count": 73,
     "metadata": {},
     "output_type": "execute_result"
    }
   ],
   "source": [
    "inter_df.groupby(['제원관리번호', '자동차형식', '연료', '차종_등록정보', '차종유형(소분류)'])['차대번호'].count()"
   ]
  },
  {
   "attachments": {},
   "cell_type": "markdown",
   "metadata": {},
   "source": [
    "#### [출력] 배인번호 없는 샘플 중 제번으로 매칭 가능한 샘플"
   ]
  },
  {
   "cell_type": "code",
   "execution_count": 74,
   "metadata": {},
   "outputs": [],
   "source": [
    "inter_df.groupby(['제원관리번호', '자동차형식', '연료', '차종_등록정보', '차종유형(소분류)'])['차대번호'].count().to_excel('analysis2/[G4][배인번호]매칭가능_미부여_통계.xlsx')"
   ]
  },
  {
   "attachments": {},
   "cell_type": "markdown",
   "metadata": {},
   "source": [
    "### 제번으로 매칭 불가능 샘플"
   ]
  },
  {
   "cell_type": "code",
   "execution_count": 80,
   "metadata": {},
   "outputs": [
    {
     "data": {
      "text/plain": [
       "9209"
      ]
     },
     "execution_count": 80,
     "metadata": {},
     "output_type": "execute_result"
    }
   ],
   "source": [
    "diff = list( set(df3['제원관리번호']) - set(s1_reset['제원관리번호']) )\n",
    "len(diff)"
   ]
  },
  {
   "cell_type": "code",
   "execution_count": 83,
   "metadata": {},
   "outputs": [
    {
     "name": "stderr",
     "output_type": "stream",
     "text": [
      "100%|██████████| 9209/9209 [04:39<00:00, 33.00it/s]\n"
     ]
    },
    {
     "data": {
      "text/plain": [
       "(123715, 49)"
      ]
     },
     "execution_count": 83,
     "metadata": {},
     "output_type": "execute_result"
    }
   ],
   "source": [
    "diff_df = pd.DataFrame()\n",
    "for one in tqdm(diff):\n",
    "    diff_df = pd.concat([ diff_df, df3[df3['제원관리번호'] == one] ], ignore_index=True)\n",
    "diff_df.shape"
   ]
  },
  {
   "cell_type": "code",
   "execution_count": 87,
   "metadata": {},
   "outputs": [
    {
     "data": {
      "text/plain": [
       "제원관리번호             자동차형식            연료   차종_등록정보  차종유형(소분류)\n",
       "00030110800000304  GF-MCU15W        휘발유  승용       대형            1\n",
       "00030112400001628  YS-25D-A1        휘발유  승용       대형            1\n",
       "00031105000011116  XNWAY            휘발유  승용       소형            1\n",
       "00031105000011203  202018           휘발유  승용       중형            1\n",
       "00031105000011412  AK00F            경유   승용       경형            1\n",
       "                                                               ..\n",
       "BD410001600003309  SSC 320.12.04/8  경유   화물       대형            1\n",
       "BD410001700003309  SSC 210.08.03/6  경유   화물       대형            1\n",
       "BDV10000100003308  MTS450           경유   화물       대형            1\n",
       "BEU10001700013310  KCT4.5PD-BC6CT1  경유   화물       대형            1\n",
       "BRX20004100023317  FH104FTR3HA      경유   화물       대형           12\n",
       "Name: 차대번호, Length: 8776, dtype: int64"
      ]
     },
     "execution_count": 87,
     "metadata": {},
     "output_type": "execute_result"
    }
   ],
   "source": [
    "diff_df.groupby(['제원관리번호', '자동차형식', '연료', '차종_등록정보', '차종유형(소분류)'])['차대번호'].count()"
   ]
  },
  {
   "attachments": {},
   "cell_type": "markdown",
   "metadata": {},
   "source": [
    "#### [출력] 배인번호 없는 샘플 중 제번으로 매칭 불가능한 샘플"
   ]
  },
  {
   "cell_type": "code",
   "execution_count": 88,
   "metadata": {},
   "outputs": [],
   "source": [
    "diff_df.groupby(['제원관리번호', '자동차형식', '연료', '차종_등록정보', '차종유형(소분류)'])['차대번호'].count().to_excel('analysis2/[G4][배인번호]매칭불가능_미부여_통계.xlsx')"
   ]
  },
  {
   "attachments": {},
   "cell_type": "markdown",
   "metadata": {},
   "source": [
    "# 코드 마지막"
   ]
  }
 ],
 "metadata": {
  "kernelspec": {
   "display_name": "base",
   "language": "python",
   "name": "python3"
  },
  "language_info": {
   "codemirror_mode": {
    "name": "ipython",
    "version": 3
   },
   "file_extension": ".py",
   "mimetype": "text/x-python",
   "name": "python",
   "nbconvert_exporter": "python",
   "pygments_lexer": "ipython3",
   "version": "3.9.13"
  },
  "orig_nbformat": 4,
  "vscode": {
   "interpreter": {
    "hash": "ad2bdc8ecc057115af97d19610ffacc2b4e99fae6737bb82f5d7fb13d2f2c186"
   }
  }
 },
 "nbformat": 4,
 "nbformat_minor": 2
}
