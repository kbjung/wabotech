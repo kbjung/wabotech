{
 "cells": [
  {
   "cell_type": "markdown",
   "metadata": {},
   "source": [
    "# \"저공해차 보급촉진을 위한 제도운영 지원 및 개선방안 마련\" 데이터 분석"
   ]
  },
  {
   "cell_type": "markdown",
   "metadata": {},
   "source": [
    "## library"
   ]
  },
  {
   "cell_type": "code",
   "execution_count": 4,
   "metadata": {},
   "outputs": [],
   "source": [
    "import pandas as pd\n",
    "import numpy as np\n",
    "import matplotlib.pyplot as plt\n",
    "import re\n",
    "from tqdm import tqdm"
   ]
  },
  {
   "cell_type": "code",
   "execution_count": 5,
   "metadata": {},
   "outputs": [],
   "source": [
    "# 소수점 자리 표기 옵션\n",
    "pd.options.display.float_format = '{:.5f}'.format\n",
    "# pd.reset_option('display.float_format')"
   ]
  },
  {
   "cell_type": "markdown",
   "metadata": {},
   "source": [
    "### data load"
   ]
  },
  {
   "cell_type": "code",
   "execution_count": 3,
   "metadata": {},
   "outputs": [],
   "source": [
    "# - 2020년\n",
    "#     - 1월 : 229958\n",
    "#     - 2월 : 180605\n",
    "#     - 3월 : 173919\n",
    "#     - 4월 : 178250\n",
    "#     - 5월 : 193126\n",
    "#     - 6월 : 204171\n",
    "#     - 7월 : 224591\n",
    "#     - 8월 : 259094\n",
    "#     - 9월 : 231712\n",
    "#     - 10월 : 295100\n",
    "#     - 11월 : 303539\n",
    "#     - 12월 : 322549\n",
    "# - 2021년\n",
    "#     - 1월 : 304612\n",
    "#     - 2월 : 276148\n",
    "#     - 3월 : 295915\n",
    "#     - 4월 : 284649\n",
    "#     - 5월 : 288367\n",
    "#     - 6월 : 290878\n",
    "#     - 7월 : 349382\n",
    "#     - 8월 : 358950\n",
    "#     - 9월 : 357788\n",
    "#     - 10월 : 422421\n",
    "#     - 11월 : 479016\n",
    "#     - 12월 : 551719\n",
    "# - 2022년\n",
    "#     - 1월 : 544858\n",
    "#     - 2월 : 465335\n",
    "#     - 3월 : 512731\n",
    "#     - 4월 : 544984\n",
    "#     - 5월 : 593030\n",
    "#     - 6월 : 597657\n",
    "#     - 7월 : 675689\n",
    "#     - 8월 : 675079"
   ]
  },
  {
   "cell_type": "code",
   "execution_count": 5,
   "metadata": {},
   "outputs": [
    {
     "name": "stdout",
     "output_type": "stream",
     "text": [
      "2020년 01월 샘플 : 229958\n",
      "2020년 02월 샘플 : 180605\n",
      "2020년 03월 샘플 : 173919\n",
      "2020년 04월 샘플 : 178250\n",
      "2020년 05월 샘플 : 193126\n",
      "2020년 06월 샘플 : 204171\n",
      "2020년 07월 샘플 : 224591\n",
      "2020년 08월 샘플 : 259094\n",
      "2020년 09월 샘플 : 231712\n",
      "2020년 10월 샘플 : 295100\n",
      "2020년 11월 샘플 : 303539\n",
      "2020년 12월 샘플 : 322549\n",
      "2021년 01월 샘플 : 304612\n",
      "2021년 02월 샘플 : 276148\n",
      "2021년 03월 샘플 : 295915\n",
      "2021년 04월 샘플 : 284649\n",
      "2021년 05월 샘플 : 288367\n",
      "2021년 06월 샘플 : 290878\n",
      "2021년 07월 샘플 : 349382\n",
      "2021년 08월 샘플 : 358950\n",
      "2021년 09월 샘플 : 357788\n",
      "2021년 10월 샘플 : 422421\n",
      "2021년 11월 샘플 : 479016\n",
      "2021년 12월 샘플 : 551719\n",
      "2022년 01월 샘플 : 544858\n",
      "2022년 02월 샘플 : 465335\n",
      "2022년 03월 샘플 : 512731\n",
      "2022년 04월 샘플 : 544984\n",
      "2022년 05월 샘플 : 593030\n",
      "2022년 06월 샘플 : 597657\n",
      "2022년 07월 샘플 : 675689\n",
      "2022년 08월 샘플 : 675079\n"
     ]
    }
   ],
   "source": [
    "total_data = pd.DataFrame()\n",
    "# 2020년 \n",
    "count = 0\n",
    "for m in range(1, 13):\n",
    "    y = 20\n",
    "    s = f'raw/{y}년/20{y}년{m:0>2}월.xlsx'\n",
    "    m_data = pd.read_excel(s)\n",
    "    print(f'20{y}년 {m:0>2}월 샘플 :', m_data.shape[0])\n",
    "    count += m_data.shape[0]\n",
    "    total_data = pd.concat([total_data, m_data], ignore_index=True)\n",
    "# 2021년\n",
    "for m in range(1, 13):\n",
    "    y = 21\n",
    "    s = f'raw/{y}년/{y}년{m:0>2}월.xlsx'\n",
    "    m_data = pd.read_excel(s)\n",
    "    print(f'20{y}년 {m:0>2}월 샘플 :', m_data.shape[0])\n",
    "    count += m_data.shape[0]\n",
    "    total_data = pd.concat([total_data, m_data], ignore_index=True)\n",
    "# 2022년\n",
    "for m in range(1, 9):\n",
    "    y = 22\n",
    "    s = f'raw/{y}년/{y}년{m:0>2}월.xlsx'\n",
    "    m_data = pd.read_excel(s)\n",
    "    print(f'20{y}년 {m:0>2}월 샘플 :', m_data.shape[0])\n",
    "    count += m_data.shape[0]\n",
    "    total_data = pd.concat([total_data, m_data], ignore_index=True)"
   ]
  },
  {
   "cell_type": "code",
   "execution_count": 6,
   "metadata": {},
   "outputs": [
    {
     "name": "stdout",
     "output_type": "stream",
     "text": [
      "개별 데이터 개수 합산 : 11665822\n",
      "총 데이터 개수 : 11665822\n"
     ]
    }
   ],
   "source": [
    "print(f'개별 데이터 개수 합산 : {count}')\n",
    "print(f'총 데이터 개수 : {total_data.shape[0]}')"
   ]
  },
  {
   "cell_type": "code",
   "execution_count": 7,
   "metadata": {},
   "outputs": [
    {
     "name": "stdout",
     "output_type": "stream",
     "text": [
      "<class 'pandas.core.frame.DataFrame'>\n",
      "RangeIndex: 11665822 entries, 0 to 11665821\n",
      "Data columns (total 12 columns):\n",
      " #   Column     Dtype  \n",
      "---  ------     -----  \n",
      " 0   충전소명       object \n",
      " 1   충전기ID      int64  \n",
      " 2   지역         object \n",
      " 3   시군구        object \n",
      " 4   주소         object \n",
      " 5   충전기용량(kW)  float64\n",
      " 6   충전기타입      object \n",
      " 7   충전시작일시     int64  \n",
      " 8   충전종료일시     int64  \n",
      " 9   충전시간       object \n",
      " 10  충전량        float64\n",
      " 11  충전용량       object \n",
      "dtypes: float64(2), int64(3), object(7)\n",
      "memory usage: 1.0+ GB\n"
     ]
    }
   ],
   "source": [
    "total_data.info()"
   ]
  },
  {
   "cell_type": "markdown",
   "metadata": {},
   "source": [
    "#### 데이터 절약"
   ]
  },
  {
   "cell_type": "code",
   "execution_count": 8,
   "metadata": {},
   "outputs": [
    {
     "name": "stdout",
     "output_type": "stream",
     "text": [
      "<class 'pandas.core.frame.DataFrame'>\n",
      "RangeIndex: 11665822 entries, 0 to 11665821\n",
      "Data columns (total 12 columns):\n",
      " #   Column     Dtype  \n",
      "---  ------     -----  \n",
      " 0   충전소명       object \n",
      " 1   충전기ID      int16  \n",
      " 2   지역         object \n",
      " 3   시군구        object \n",
      " 4   주소         object \n",
      " 5   충전기용량(kW)  float64\n",
      " 6   충전기타입      object \n",
      " 7   충전시작일시     int64  \n",
      " 8   충전종료일시     int64  \n",
      " 9   충전시간       object \n",
      " 10  충전량        float64\n",
      " 11  충전용량       object \n",
      "dtypes: float64(2), int16(1), int64(2), object(7)\n",
      "memory usage: 1001.3+ MB\n"
     ]
    }
   ],
   "source": [
    "total_data['충전기ID'] = total_data['충전기ID'].astype('int16')\n",
    "total_data.info()"
   ]
  },
  {
   "cell_type": "markdown",
   "metadata": {},
   "source": [
    "##### 20-22년 병합 데이터 출력"
   ]
  },
  {
   "cell_type": "code",
   "execution_count": 80,
   "metadata": {},
   "outputs": [],
   "source": [
    "total_data.to_csv('2020-22년_급속충전.csv', encoding='utf-8')"
   ]
  },
  {
   "cell_type": "markdown",
   "metadata": {},
   "source": [
    "##### 20-22년 병합 데이터 로드(다시 시작)"
   ]
  },
  {
   "cell_type": "code",
   "execution_count": 638,
   "metadata": {},
   "outputs": [
    {
     "name": "stderr",
     "output_type": "stream",
     "text": [
      "C:\\Users\\kbj\\AppData\\Local\\Temp\\ipykernel_17248\\1573190630.py:1: DtypeWarning: Columns (12) have mixed types. Specify dtype option on import or set low_memory=False.\n",
      "  total_data = pd.read_csv('2020-22년_급속충전.csv')\n"
     ]
    }
   ],
   "source": [
    "# total_data = pd.read_csv('2020-22년_급속충전.csv', index_col=0)\n",
    "# total_data.info()"
   ]
  },
  {
   "cell_type": "code",
   "execution_count": 9,
   "metadata": {},
   "outputs": [
    {
     "name": "stdout",
     "output_type": "stream",
     "text": [
      "<class 'pandas.core.frame.DataFrame'>\n",
      "RangeIndex: 11665822 entries, 0 to 11665821\n",
      "Data columns (total 12 columns):\n",
      " #   Column     Dtype  \n",
      "---  ------     -----  \n",
      " 0   충전소명       object \n",
      " 1   충전기ID      int16  \n",
      " 2   지역         object \n",
      " 3   시군구        object \n",
      " 4   주소         object \n",
      " 5   충전기용량(kW)  float64\n",
      " 6   충전기타입      object \n",
      " 7   충전시작일시     int64  \n",
      " 8   충전종료일시     int64  \n",
      " 9   충전시간       object \n",
      " 10  충전량        float64\n",
      " 11  충전용량       object \n",
      "dtypes: float64(2), int16(1), int64(2), object(7)\n",
      "memory usage: 1001.3+ MB\n"
     ]
    }
   ],
   "source": [
    "df = total_data.copy()\n",
    "df.info()"
   ]
  },
  {
   "cell_type": "markdown",
   "metadata": {},
   "source": [
    "## 전처리\n",
    "- 충전소명 : O\n",
    "- 충전기ID : int64\n",
    "- 지역 : O\n",
    "- 시군구 : O\n",
    "- 주소 : O\n",
    "- 충전기용량(kW) : float64\n",
    "- 충전기타입 : object \n",
    "- 충전시작일시 : int64  \n",
    "- 충전종료일시 : int64  \n",
    "- 충전시간 : object \n",
    "- 충전량 : float64\n",
    "- 충전용량 : object "
   ]
  },
  {
   "cell_type": "markdown",
   "metadata": {},
   "source": [
    "### 특이사항\n",
    "- 2020년 12월까지 충전기용량(kW)가 2021년 1월부터 충전용량으로 변경\n",
    "    - 2020년 12월까지 데이터의 충전기용량(kW) 값을 충전용량으로 이동\n",
    "- 충전용량 표기방법 변경\n",
    "    - 2022년 3월까지 충전용량이 \"100\"으로 , 4월부터 \"급속(100kW멀티)\"으로 입력"
   ]
  },
  {
   "cell_type": "code",
   "execution_count": 10,
   "metadata": {},
   "outputs": [
    {
     "data": {
      "text/html": [
       "<div>\n",
       "<style scoped>\n",
       "    .dataframe tbody tr th:only-of-type {\n",
       "        vertical-align: middle;\n",
       "    }\n",
       "\n",
       "    .dataframe tbody tr th {\n",
       "        vertical-align: top;\n",
       "    }\n",
       "\n",
       "    .dataframe thead th {\n",
       "        text-align: right;\n",
       "    }\n",
       "</style>\n",
       "<table border=\"1\" class=\"dataframe\">\n",
       "  <thead>\n",
       "    <tr style=\"text-align: right;\">\n",
       "      <th></th>\n",
       "      <th>충전소명</th>\n",
       "      <th>충전기ID</th>\n",
       "      <th>지역</th>\n",
       "      <th>시군구</th>\n",
       "      <th>주소</th>\n",
       "      <th>충전기용량(kW)</th>\n",
       "      <th>충전기타입</th>\n",
       "      <th>충전시작일시</th>\n",
       "      <th>충전종료일시</th>\n",
       "      <th>충전시간</th>\n",
       "      <th>충전량</th>\n",
       "      <th>충전용량</th>\n",
       "    </tr>\n",
       "  </thead>\n",
       "  <tbody>\n",
       "    <tr>\n",
       "      <th>0</th>\n",
       "      <td>내린천휴게소 양양방향</td>\n",
       "      <td>1</td>\n",
       "      <td>강원도</td>\n",
       "      <td>인제군</td>\n",
       "      <td>강원도 인제군 상남면 하남리 339-7(양양방향)</td>\n",
       "      <td>50.00000</td>\n",
       "      <td>DC차데모+AC3상+DC콤보</td>\n",
       "      <td>20200117193331</td>\n",
       "      <td>20200117201417</td>\n",
       "      <td>00:40:00</td>\n",
       "      <td>25.47000</td>\n",
       "      <td>NaN</td>\n",
       "    </tr>\n",
       "    <tr>\n",
       "      <th>1</th>\n",
       "      <td>내린천휴게소 양양방향</td>\n",
       "      <td>1</td>\n",
       "      <td>강원도</td>\n",
       "      <td>인제군</td>\n",
       "      <td>강원도 인제군 상남면 하남리 339-7(양양방향)</td>\n",
       "      <td>50.00000</td>\n",
       "      <td>DC차데모+AC3상+DC콤보</td>\n",
       "      <td>20200130143545</td>\n",
       "      <td>20200130150645</td>\n",
       "      <td>00:30:31</td>\n",
       "      <td>17.57000</td>\n",
       "      <td>NaN</td>\n",
       "    </tr>\n",
       "    <tr>\n",
       "      <th>2</th>\n",
       "      <td>내린천휴게소 양양방향</td>\n",
       "      <td>1</td>\n",
       "      <td>강원도</td>\n",
       "      <td>인제군</td>\n",
       "      <td>강원도 인제군 상남면 하남리 339-7(양양방향)</td>\n",
       "      <td>50.00000</td>\n",
       "      <td>DC차데모+AC3상+DC콤보</td>\n",
       "      <td>20200105005728</td>\n",
       "      <td>20200105011329</td>\n",
       "      <td>00:15:35</td>\n",
       "      <td>6.98000</td>\n",
       "      <td>NaN</td>\n",
       "    </tr>\n",
       "    <tr>\n",
       "      <th>3</th>\n",
       "      <td>내린천휴게소 양양방향</td>\n",
       "      <td>3</td>\n",
       "      <td>강원도</td>\n",
       "      <td>인제군</td>\n",
       "      <td>강원도 인제군 상남면 하남리 339-7(양양방향)</td>\n",
       "      <td>100.00000</td>\n",
       "      <td>DC콤보</td>\n",
       "      <td>20200120120215</td>\n",
       "      <td>20200120124708</td>\n",
       "      <td>00:41:00</td>\n",
       "      <td>15.30000</td>\n",
       "      <td>NaN</td>\n",
       "    </tr>\n",
       "    <tr>\n",
       "      <th>4</th>\n",
       "      <td>한국광기술원</td>\n",
       "      <td>1</td>\n",
       "      <td>광주광역시</td>\n",
       "      <td>북구</td>\n",
       "      <td>광주광역시 북구 첨단 벤처로 108번길 9</td>\n",
       "      <td>50.00000</td>\n",
       "      <td>DC차데모+AC3상+DC콤보</td>\n",
       "      <td>20200123085417</td>\n",
       "      <td>20200123092554</td>\n",
       "      <td>00:31:14</td>\n",
       "      <td>21.92000</td>\n",
       "      <td>NaN</td>\n",
       "    </tr>\n",
       "  </tbody>\n",
       "</table>\n",
       "</div>"
      ],
      "text/plain": [
       "          충전소명  충전기ID     지역  시군구                           주소  충전기용량(kW)  \\\n",
       "0  내린천휴게소 양양방향      1    강원도  인제군  강원도 인제군 상남면 하남리 339-7(양양방향)   50.00000   \n",
       "1  내린천휴게소 양양방향      1    강원도  인제군  강원도 인제군 상남면 하남리 339-7(양양방향)   50.00000   \n",
       "2  내린천휴게소 양양방향      1    강원도  인제군  강원도 인제군 상남면 하남리 339-7(양양방향)   50.00000   \n",
       "3  내린천휴게소 양양방향      3    강원도  인제군  강원도 인제군 상남면 하남리 339-7(양양방향)  100.00000   \n",
       "4       한국광기술원      1  광주광역시   북구      광주광역시 북구 첨단 벤처로 108번길 9   50.00000   \n",
       "\n",
       "             충전기타입          충전시작일시          충전종료일시      충전시간      충전량 충전용량  \n",
       "0  DC차데모+AC3상+DC콤보  20200117193331  20200117201417  00:40:00 25.47000  NaN  \n",
       "1  DC차데모+AC3상+DC콤보  20200130143545  20200130150645  00:30:31 17.57000  NaN  \n",
       "2  DC차데모+AC3상+DC콤보  20200105005728  20200105011329  00:15:35  6.98000  NaN  \n",
       "3             DC콤보  20200120120215  20200120124708  00:41:00 15.30000  NaN  \n",
       "4  DC차데모+AC3상+DC콤보  20200123085417  20200123092554  00:31:14 21.92000  NaN  "
      ]
     },
     "execution_count": 10,
     "metadata": {},
     "output_type": "execute_result"
    }
   ],
   "source": [
    "df.head()"
   ]
  },
  {
   "cell_type": "code",
   "execution_count": 11,
   "metadata": {},
   "outputs": [
    {
     "data": {
      "text/html": [
       "<div>\n",
       "<style scoped>\n",
       "    .dataframe tbody tr th:only-of-type {\n",
       "        vertical-align: middle;\n",
       "    }\n",
       "\n",
       "    .dataframe tbody tr th {\n",
       "        vertical-align: top;\n",
       "    }\n",
       "\n",
       "    .dataframe thead th {\n",
       "        text-align: right;\n",
       "    }\n",
       "</style>\n",
       "<table border=\"1\" class=\"dataframe\">\n",
       "  <thead>\n",
       "    <tr style=\"text-align: right;\">\n",
       "      <th></th>\n",
       "      <th>충전소명</th>\n",
       "      <th>충전기ID</th>\n",
       "      <th>지역</th>\n",
       "      <th>시군구</th>\n",
       "      <th>주소</th>\n",
       "      <th>충전기용량(kW)</th>\n",
       "      <th>충전기타입</th>\n",
       "      <th>충전시작일시</th>\n",
       "      <th>충전종료일시</th>\n",
       "      <th>충전시간</th>\n",
       "      <th>충전량</th>\n",
       "      <th>충전용량</th>\n",
       "    </tr>\n",
       "  </thead>\n",
       "  <tbody>\n",
       "    <tr>\n",
       "      <th>2796614</th>\n",
       "      <td>군위휴게소(부산방향)</td>\n",
       "      <td>1</td>\n",
       "      <td>경상북도</td>\n",
       "      <td>군위군</td>\n",
       "      <td>경상북도 군위군 군위읍 경북대로 4084 (오곡리)</td>\n",
       "      <td>NaN</td>\n",
       "      <td>DC차데모+AC3상+DC콤보</td>\n",
       "      <td>20210101092250</td>\n",
       "      <td>20210101095816</td>\n",
       "      <td>00:29:24</td>\n",
       "      <td>11.95000</td>\n",
       "      <td>50.00000</td>\n",
       "    </tr>\n",
       "    <tr>\n",
       "      <th>2796615</th>\n",
       "      <td>충주휴게소(마산방향)</td>\n",
       "      <td>1</td>\n",
       "      <td>충청북도</td>\n",
       "      <td>충주시</td>\n",
       "      <td>충청북도 충주시 중앙탑면 중부내륙고속도로 231 (용전리)</td>\n",
       "      <td>NaN</td>\n",
       "      <td>DC차데모+AC3상+DC콤보</td>\n",
       "      <td>20210101095126</td>\n",
       "      <td>20210101095818</td>\n",
       "      <td>00:06:48</td>\n",
       "      <td>4.86000</td>\n",
       "      <td>50.00000</td>\n",
       "    </tr>\n",
       "    <tr>\n",
       "      <th>2796616</th>\n",
       "      <td>내서읍스포츠센터</td>\n",
       "      <td>1</td>\n",
       "      <td>경상남도</td>\n",
       "      <td>창원시</td>\n",
       "      <td>경상남도 창원시 마산회원구 내서읍 중리 391-3</td>\n",
       "      <td>NaN</td>\n",
       "      <td>DC콤보</td>\n",
       "      <td>20210101094752</td>\n",
       "      <td>20210101095819</td>\n",
       "      <td>00:10:27</td>\n",
       "      <td>3.29000</td>\n",
       "      <td>100.00000</td>\n",
       "    </tr>\n",
       "    <tr>\n",
       "      <th>2796617</th>\n",
       "      <td>삼성혈 인근 공영주차장</td>\n",
       "      <td>1</td>\n",
       "      <td>제주특별자치도</td>\n",
       "      <td>제주시</td>\n",
       "      <td>제주특별자치도 제주시 이도1동 1293-1</td>\n",
       "      <td>NaN</td>\n",
       "      <td>DC차데모+AC3상+DC콤보</td>\n",
       "      <td>20210101091323</td>\n",
       "      <td>20210101095819</td>\n",
       "      <td>00:40:00</td>\n",
       "      <td>7.52000</td>\n",
       "      <td>50.00000</td>\n",
       "    </tr>\n",
       "    <tr>\n",
       "      <th>2796618</th>\n",
       "      <td>본오1동행정복지센터</td>\n",
       "      <td>1</td>\n",
       "      <td>경기도</td>\n",
       "      <td>안산시</td>\n",
       "      <td>경기도 안산시 상록구 샘골로 16</td>\n",
       "      <td>NaN</td>\n",
       "      <td>DC콤보</td>\n",
       "      <td>20210101091559</td>\n",
       "      <td>20210101095835</td>\n",
       "      <td>00:40:00</td>\n",
       "      <td>21.66000</td>\n",
       "      <td>100.00000</td>\n",
       "    </tr>\n",
       "  </tbody>\n",
       "</table>\n",
       "</div>"
      ],
      "text/plain": [
       "                 충전소명  충전기ID       지역  시군구                                주소  \\\n",
       "2796614   군위휴게소(부산방향)      1     경상북도  군위군      경상북도 군위군 군위읍 경북대로 4084 (오곡리)   \n",
       "2796615   충주휴게소(마산방향)      1     충청북도  충주시  충청북도 충주시 중앙탑면 중부내륙고속도로 231 (용전리)   \n",
       "2796616      내서읍스포츠센터      1     경상남도  창원시       경상남도 창원시 마산회원구 내서읍 중리 391-3   \n",
       "2796617  삼성혈 인근 공영주차장      1  제주특별자치도  제주시           제주특별자치도 제주시 이도1동 1293-1   \n",
       "2796618    본오1동행정복지센터      1      경기도  안산시                경기도 안산시 상록구 샘골로 16   \n",
       "\n",
       "         충전기용량(kW)            충전기타입          충전시작일시          충전종료일시      충전시간  \\\n",
       "2796614        NaN  DC차데모+AC3상+DC콤보  20210101092250  20210101095816  00:29:24   \n",
       "2796615        NaN  DC차데모+AC3상+DC콤보  20210101095126  20210101095818  00:06:48   \n",
       "2796616        NaN             DC콤보  20210101094752  20210101095819  00:10:27   \n",
       "2796617        NaN  DC차데모+AC3상+DC콤보  20210101091323  20210101095819  00:40:00   \n",
       "2796618        NaN             DC콤보  20210101091559  20210101095835  00:40:00   \n",
       "\n",
       "             충전량      충전용량  \n",
       "2796614 11.95000  50.00000  \n",
       "2796615  4.86000  50.00000  \n",
       "2796616  3.29000 100.00000  \n",
       "2796617  7.52000  50.00000  \n",
       "2796618 21.66000 100.00000  "
      ]
     },
     "execution_count": 11,
     "metadata": {},
     "output_type": "execute_result"
    }
   ],
   "source": [
    "df[df['충전용량'].notnull() == True].head()"
   ]
  },
  {
   "cell_type": "markdown",
   "metadata": {},
   "source": [
    "### 충전시작시간 정리"
   ]
  },
  {
   "cell_type": "code",
   "execution_count": 12,
   "metadata": {},
   "outputs": [
    {
     "name": "stdout",
     "output_type": "stream",
     "text": [
      "0\n"
     ]
    }
   ],
   "source": [
    "# 충전시작일시의 데이터는 년~초 까지 모두 존재\n",
    "temp = df['충전시작일시'].to_list()\n",
    "temp2 = [str(i) for i in temp]\n",
    "count = 0\n",
    "for one in temp2:\n",
    "    if len(one) == 8:\n",
    "        count += 1\n",
    "print(count)"
   ]
  },
  {
   "cell_type": "code",
   "execution_count": 13,
   "metadata": {},
   "outputs": [
    {
     "data": {
      "text/html": [
       "<div>\n",
       "<style scoped>\n",
       "    .dataframe tbody tr th:only-of-type {\n",
       "        vertical-align: middle;\n",
       "    }\n",
       "\n",
       "    .dataframe tbody tr th {\n",
       "        vertical-align: top;\n",
       "    }\n",
       "\n",
       "    .dataframe thead th {\n",
       "        text-align: right;\n",
       "    }\n",
       "</style>\n",
       "<table border=\"1\" class=\"dataframe\">\n",
       "  <thead>\n",
       "    <tr style=\"text-align: right;\">\n",
       "      <th></th>\n",
       "      <th>충전소명</th>\n",
       "      <th>충전기ID</th>\n",
       "      <th>지역</th>\n",
       "      <th>시군구</th>\n",
       "      <th>주소</th>\n",
       "      <th>충전기용량(kW)</th>\n",
       "      <th>충전기타입</th>\n",
       "      <th>충전시작일시</th>\n",
       "      <th>충전종료일시</th>\n",
       "      <th>충전시간</th>\n",
       "      <th>충전량</th>\n",
       "      <th>충전용량</th>\n",
       "      <th>충전시작_년도</th>\n",
       "      <th>충전시작_월</th>\n",
       "      <th>충전시작_일</th>\n",
       "      <th>충전시작_시</th>\n",
       "      <th>충전시작_분</th>\n",
       "      <th>충전시작_초</th>\n",
       "    </tr>\n",
       "  </thead>\n",
       "  <tbody>\n",
       "    <tr>\n",
       "      <th>0</th>\n",
       "      <td>내린천휴게소 양양방향</td>\n",
       "      <td>1</td>\n",
       "      <td>강원도</td>\n",
       "      <td>인제군</td>\n",
       "      <td>강원도 인제군 상남면 하남리 339-7(양양방향)</td>\n",
       "      <td>50.00000</td>\n",
       "      <td>DC차데모+AC3상+DC콤보</td>\n",
       "      <td>20200117193331</td>\n",
       "      <td>20200117201417</td>\n",
       "      <td>00:40:00</td>\n",
       "      <td>25.47000</td>\n",
       "      <td>NaN</td>\n",
       "      <td>2020</td>\n",
       "      <td>1</td>\n",
       "      <td>17</td>\n",
       "      <td>19</td>\n",
       "      <td>33</td>\n",
       "      <td>31</td>\n",
       "    </tr>\n",
       "    <tr>\n",
       "      <th>1</th>\n",
       "      <td>내린천휴게소 양양방향</td>\n",
       "      <td>1</td>\n",
       "      <td>강원도</td>\n",
       "      <td>인제군</td>\n",
       "      <td>강원도 인제군 상남면 하남리 339-7(양양방향)</td>\n",
       "      <td>50.00000</td>\n",
       "      <td>DC차데모+AC3상+DC콤보</td>\n",
       "      <td>20200130143545</td>\n",
       "      <td>20200130150645</td>\n",
       "      <td>00:30:31</td>\n",
       "      <td>17.57000</td>\n",
       "      <td>NaN</td>\n",
       "      <td>2020</td>\n",
       "      <td>1</td>\n",
       "      <td>30</td>\n",
       "      <td>14</td>\n",
       "      <td>35</td>\n",
       "      <td>45</td>\n",
       "    </tr>\n",
       "    <tr>\n",
       "      <th>2</th>\n",
       "      <td>내린천휴게소 양양방향</td>\n",
       "      <td>1</td>\n",
       "      <td>강원도</td>\n",
       "      <td>인제군</td>\n",
       "      <td>강원도 인제군 상남면 하남리 339-7(양양방향)</td>\n",
       "      <td>50.00000</td>\n",
       "      <td>DC차데모+AC3상+DC콤보</td>\n",
       "      <td>20200105005728</td>\n",
       "      <td>20200105011329</td>\n",
       "      <td>00:15:35</td>\n",
       "      <td>6.98000</td>\n",
       "      <td>NaN</td>\n",
       "      <td>2020</td>\n",
       "      <td>1</td>\n",
       "      <td>5</td>\n",
       "      <td>0</td>\n",
       "      <td>57</td>\n",
       "      <td>28</td>\n",
       "    </tr>\n",
       "    <tr>\n",
       "      <th>3</th>\n",
       "      <td>내린천휴게소 양양방향</td>\n",
       "      <td>3</td>\n",
       "      <td>강원도</td>\n",
       "      <td>인제군</td>\n",
       "      <td>강원도 인제군 상남면 하남리 339-7(양양방향)</td>\n",
       "      <td>100.00000</td>\n",
       "      <td>DC콤보</td>\n",
       "      <td>20200120120215</td>\n",
       "      <td>20200120124708</td>\n",
       "      <td>00:41:00</td>\n",
       "      <td>15.30000</td>\n",
       "      <td>NaN</td>\n",
       "      <td>2020</td>\n",
       "      <td>1</td>\n",
       "      <td>20</td>\n",
       "      <td>12</td>\n",
       "      <td>2</td>\n",
       "      <td>15</td>\n",
       "    </tr>\n",
       "    <tr>\n",
       "      <th>4</th>\n",
       "      <td>한국광기술원</td>\n",
       "      <td>1</td>\n",
       "      <td>광주광역시</td>\n",
       "      <td>북구</td>\n",
       "      <td>광주광역시 북구 첨단 벤처로 108번길 9</td>\n",
       "      <td>50.00000</td>\n",
       "      <td>DC차데모+AC3상+DC콤보</td>\n",
       "      <td>20200123085417</td>\n",
       "      <td>20200123092554</td>\n",
       "      <td>00:31:14</td>\n",
       "      <td>21.92000</td>\n",
       "      <td>NaN</td>\n",
       "      <td>2020</td>\n",
       "      <td>1</td>\n",
       "      <td>23</td>\n",
       "      <td>8</td>\n",
       "      <td>54</td>\n",
       "      <td>17</td>\n",
       "    </tr>\n",
       "  </tbody>\n",
       "</table>\n",
       "</div>"
      ],
      "text/plain": [
       "          충전소명  충전기ID     지역  시군구                           주소  충전기용량(kW)  \\\n",
       "0  내린천휴게소 양양방향      1    강원도  인제군  강원도 인제군 상남면 하남리 339-7(양양방향)   50.00000   \n",
       "1  내린천휴게소 양양방향      1    강원도  인제군  강원도 인제군 상남면 하남리 339-7(양양방향)   50.00000   \n",
       "2  내린천휴게소 양양방향      1    강원도  인제군  강원도 인제군 상남면 하남리 339-7(양양방향)   50.00000   \n",
       "3  내린천휴게소 양양방향      3    강원도  인제군  강원도 인제군 상남면 하남리 339-7(양양방향)  100.00000   \n",
       "4       한국광기술원      1  광주광역시   북구      광주광역시 북구 첨단 벤처로 108번길 9   50.00000   \n",
       "\n",
       "             충전기타입          충전시작일시          충전종료일시      충전시간      충전량 충전용량  \\\n",
       "0  DC차데모+AC3상+DC콤보  20200117193331  20200117201417  00:40:00 25.47000  NaN   \n",
       "1  DC차데모+AC3상+DC콤보  20200130143545  20200130150645  00:30:31 17.57000  NaN   \n",
       "2  DC차데모+AC3상+DC콤보  20200105005728  20200105011329  00:15:35  6.98000  NaN   \n",
       "3             DC콤보  20200120120215  20200120124708  00:41:00 15.30000  NaN   \n",
       "4  DC차데모+AC3상+DC콤보  20200123085417  20200123092554  00:31:14 21.92000  NaN   \n",
       "\n",
       "   충전시작_년도  충전시작_월  충전시작_일  충전시작_시  충전시작_분  충전시작_초  \n",
       "0     2020       1      17      19      33      31  \n",
       "1     2020       1      30      14      35      45  \n",
       "2     2020       1       5       0      57      28  \n",
       "3     2020       1      20      12       2      15  \n",
       "4     2020       1      23       8      54      17  "
      ]
     },
     "execution_count": 13,
     "metadata": {},
     "output_type": "execute_result"
    }
   ],
   "source": [
    "ch_start = df['충전시작일시'].copy()\n",
    "df['충전시작_년도'] = ch_start.astype(str).str[:4].astype(int)\n",
    "df['충전시작_월'] = df['충전시작일시'].astype(str).str[4:6].astype(int)\n",
    "df['충전시작_일'] = df['충전시작일시'].astype(str).str[6:8].astype(int)\n",
    "df['충전시작_시'] = df['충전시작일시'].astype(str).str[8:10].astype(int)\n",
    "df['충전시작_분'] = df['충전시작일시'].astype(str).str[10:12].astype(int)\n",
    "df['충전시작_초'] = df['충전시작일시'].astype(str).str[12:14].astype(int)\n",
    "df.head()"
   ]
  },
  {
   "cell_type": "code",
   "execution_count": 14,
   "metadata": {},
   "outputs": [
    {
     "data": {
      "text/html": [
       "<div>\n",
       "<style scoped>\n",
       "    .dataframe tbody tr th:only-of-type {\n",
       "        vertical-align: middle;\n",
       "    }\n",
       "\n",
       "    .dataframe tbody tr th {\n",
       "        vertical-align: top;\n",
       "    }\n",
       "\n",
       "    .dataframe thead th {\n",
       "        text-align: right;\n",
       "    }\n",
       "</style>\n",
       "<table border=\"1\" class=\"dataframe\">\n",
       "  <thead>\n",
       "    <tr style=\"text-align: right;\">\n",
       "      <th></th>\n",
       "      <th>충전소명</th>\n",
       "      <th>충전기ID</th>\n",
       "      <th>지역</th>\n",
       "      <th>시군구</th>\n",
       "      <th>주소</th>\n",
       "      <th>충전기용량(kW)</th>\n",
       "      <th>충전기타입</th>\n",
       "      <th>충전시작일시</th>\n",
       "      <th>충전종료일시</th>\n",
       "      <th>충전시간</th>\n",
       "      <th>충전량</th>\n",
       "      <th>충전용량</th>\n",
       "      <th>충전시작_년도</th>\n",
       "      <th>충전시작_월</th>\n",
       "      <th>충전시작_일</th>\n",
       "      <th>충전시작_시</th>\n",
       "      <th>충전시작_분</th>\n",
       "      <th>충전시작_초</th>\n",
       "      <th>충전시작일시(변환)</th>\n",
       "    </tr>\n",
       "  </thead>\n",
       "  <tbody>\n",
       "    <tr>\n",
       "      <th>0</th>\n",
       "      <td>내린천휴게소 양양방향</td>\n",
       "      <td>1</td>\n",
       "      <td>강원도</td>\n",
       "      <td>인제군</td>\n",
       "      <td>강원도 인제군 상남면 하남리 339-7(양양방향)</td>\n",
       "      <td>50.00000</td>\n",
       "      <td>DC차데모+AC3상+DC콤보</td>\n",
       "      <td>20200117193331</td>\n",
       "      <td>20200117201417</td>\n",
       "      <td>00:40:00</td>\n",
       "      <td>25.47000</td>\n",
       "      <td>NaN</td>\n",
       "      <td>2020</td>\n",
       "      <td>1</td>\n",
       "      <td>17</td>\n",
       "      <td>19</td>\n",
       "      <td>33</td>\n",
       "      <td>31</td>\n",
       "      <td>2020-1-17 19:33:31</td>\n",
       "    </tr>\n",
       "    <tr>\n",
       "      <th>1</th>\n",
       "      <td>내린천휴게소 양양방향</td>\n",
       "      <td>1</td>\n",
       "      <td>강원도</td>\n",
       "      <td>인제군</td>\n",
       "      <td>강원도 인제군 상남면 하남리 339-7(양양방향)</td>\n",
       "      <td>50.00000</td>\n",
       "      <td>DC차데모+AC3상+DC콤보</td>\n",
       "      <td>20200130143545</td>\n",
       "      <td>20200130150645</td>\n",
       "      <td>00:30:31</td>\n",
       "      <td>17.57000</td>\n",
       "      <td>NaN</td>\n",
       "      <td>2020</td>\n",
       "      <td>1</td>\n",
       "      <td>30</td>\n",
       "      <td>14</td>\n",
       "      <td>35</td>\n",
       "      <td>45</td>\n",
       "      <td>2020-1-30 14:35:45</td>\n",
       "    </tr>\n",
       "    <tr>\n",
       "      <th>2</th>\n",
       "      <td>내린천휴게소 양양방향</td>\n",
       "      <td>1</td>\n",
       "      <td>강원도</td>\n",
       "      <td>인제군</td>\n",
       "      <td>강원도 인제군 상남면 하남리 339-7(양양방향)</td>\n",
       "      <td>50.00000</td>\n",
       "      <td>DC차데모+AC3상+DC콤보</td>\n",
       "      <td>20200105005728</td>\n",
       "      <td>20200105011329</td>\n",
       "      <td>00:15:35</td>\n",
       "      <td>6.98000</td>\n",
       "      <td>NaN</td>\n",
       "      <td>2020</td>\n",
       "      <td>1</td>\n",
       "      <td>5</td>\n",
       "      <td>0</td>\n",
       "      <td>57</td>\n",
       "      <td>28</td>\n",
       "      <td>2020-1-5 0:57:28</td>\n",
       "    </tr>\n",
       "    <tr>\n",
       "      <th>3</th>\n",
       "      <td>내린천휴게소 양양방향</td>\n",
       "      <td>3</td>\n",
       "      <td>강원도</td>\n",
       "      <td>인제군</td>\n",
       "      <td>강원도 인제군 상남면 하남리 339-7(양양방향)</td>\n",
       "      <td>100.00000</td>\n",
       "      <td>DC콤보</td>\n",
       "      <td>20200120120215</td>\n",
       "      <td>20200120124708</td>\n",
       "      <td>00:41:00</td>\n",
       "      <td>15.30000</td>\n",
       "      <td>NaN</td>\n",
       "      <td>2020</td>\n",
       "      <td>1</td>\n",
       "      <td>20</td>\n",
       "      <td>12</td>\n",
       "      <td>2</td>\n",
       "      <td>15</td>\n",
       "      <td>2020-1-20 12:2:15</td>\n",
       "    </tr>\n",
       "    <tr>\n",
       "      <th>4</th>\n",
       "      <td>한국광기술원</td>\n",
       "      <td>1</td>\n",
       "      <td>광주광역시</td>\n",
       "      <td>북구</td>\n",
       "      <td>광주광역시 북구 첨단 벤처로 108번길 9</td>\n",
       "      <td>50.00000</td>\n",
       "      <td>DC차데모+AC3상+DC콤보</td>\n",
       "      <td>20200123085417</td>\n",
       "      <td>20200123092554</td>\n",
       "      <td>00:31:14</td>\n",
       "      <td>21.92000</td>\n",
       "      <td>NaN</td>\n",
       "      <td>2020</td>\n",
       "      <td>1</td>\n",
       "      <td>23</td>\n",
       "      <td>8</td>\n",
       "      <td>54</td>\n",
       "      <td>17</td>\n",
       "      <td>2020-1-23 8:54:17</td>\n",
       "    </tr>\n",
       "  </tbody>\n",
       "</table>\n",
       "</div>"
      ],
      "text/plain": [
       "          충전소명  충전기ID     지역  시군구                           주소  충전기용량(kW)  \\\n",
       "0  내린천휴게소 양양방향      1    강원도  인제군  강원도 인제군 상남면 하남리 339-7(양양방향)   50.00000   \n",
       "1  내린천휴게소 양양방향      1    강원도  인제군  강원도 인제군 상남면 하남리 339-7(양양방향)   50.00000   \n",
       "2  내린천휴게소 양양방향      1    강원도  인제군  강원도 인제군 상남면 하남리 339-7(양양방향)   50.00000   \n",
       "3  내린천휴게소 양양방향      3    강원도  인제군  강원도 인제군 상남면 하남리 339-7(양양방향)  100.00000   \n",
       "4       한국광기술원      1  광주광역시   북구      광주광역시 북구 첨단 벤처로 108번길 9   50.00000   \n",
       "\n",
       "             충전기타입          충전시작일시          충전종료일시      충전시간      충전량 충전용량  \\\n",
       "0  DC차데모+AC3상+DC콤보  20200117193331  20200117201417  00:40:00 25.47000  NaN   \n",
       "1  DC차데모+AC3상+DC콤보  20200130143545  20200130150645  00:30:31 17.57000  NaN   \n",
       "2  DC차데모+AC3상+DC콤보  20200105005728  20200105011329  00:15:35  6.98000  NaN   \n",
       "3             DC콤보  20200120120215  20200120124708  00:41:00 15.30000  NaN   \n",
       "4  DC차데모+AC3상+DC콤보  20200123085417  20200123092554  00:31:14 21.92000  NaN   \n",
       "\n",
       "   충전시작_년도  충전시작_월  충전시작_일  충전시작_시  충전시작_분  충전시작_초          충전시작일시(변환)  \n",
       "0     2020       1      17      19      33      31  2020-1-17 19:33:31  \n",
       "1     2020       1      30      14      35      45  2020-1-30 14:35:45  \n",
       "2     2020       1       5       0      57      28    2020-1-5 0:57:28  \n",
       "3     2020       1      20      12       2      15   2020-1-20 12:2:15  \n",
       "4     2020       1      23       8      54      17   2020-1-23 8:54:17  "
      ]
     },
     "execution_count": 14,
     "metadata": {},
     "output_type": "execute_result"
    }
   ],
   "source": [
    "df['충전시작일시(변환)'] = df['충전시작_년도'].astype(str) + '-' + df['충전시작_월'].astype(str) + '-' + df['충전시작_일'].astype(str) + ' ' + df['충전시작_시'].astype(str) + ':' + df['충전시작_분'].astype(str) + ':' + df['충전시작_초'].astype(str)\n",
    "df.head()"
   ]
  },
  {
   "cell_type": "code",
   "execution_count": 15,
   "metadata": {},
   "outputs": [
    {
     "data": {
      "text/html": [
       "<div>\n",
       "<style scoped>\n",
       "    .dataframe tbody tr th:only-of-type {\n",
       "        vertical-align: middle;\n",
       "    }\n",
       "\n",
       "    .dataframe tbody tr th {\n",
       "        vertical-align: top;\n",
       "    }\n",
       "\n",
       "    .dataframe thead th {\n",
       "        text-align: right;\n",
       "    }\n",
       "</style>\n",
       "<table border=\"1\" class=\"dataframe\">\n",
       "  <thead>\n",
       "    <tr style=\"text-align: right;\">\n",
       "      <th></th>\n",
       "      <th>충전소명</th>\n",
       "      <th>충전기ID</th>\n",
       "      <th>지역</th>\n",
       "      <th>시군구</th>\n",
       "      <th>주소</th>\n",
       "      <th>충전기용량(kW)</th>\n",
       "      <th>충전기타입</th>\n",
       "      <th>충전시작일시</th>\n",
       "      <th>충전종료일시</th>\n",
       "      <th>충전시간</th>\n",
       "      <th>충전량</th>\n",
       "      <th>충전용량</th>\n",
       "      <th>충전시작_년도</th>\n",
       "      <th>충전시작_월</th>\n",
       "      <th>충전시작_일</th>\n",
       "      <th>충전시작_시</th>\n",
       "      <th>충전시작_분</th>\n",
       "      <th>충전시작_초</th>\n",
       "      <th>충전시작일시(변환)</th>\n",
       "    </tr>\n",
       "  </thead>\n",
       "  <tbody>\n",
       "    <tr>\n",
       "      <th>0</th>\n",
       "      <td>내린천휴게소 양양방향</td>\n",
       "      <td>1</td>\n",
       "      <td>강원도</td>\n",
       "      <td>인제군</td>\n",
       "      <td>강원도 인제군 상남면 하남리 339-7(양양방향)</td>\n",
       "      <td>50.00000</td>\n",
       "      <td>DC차데모+AC3상+DC콤보</td>\n",
       "      <td>20200117193331</td>\n",
       "      <td>20200117201417</td>\n",
       "      <td>00:40:00</td>\n",
       "      <td>25.47000</td>\n",
       "      <td>NaN</td>\n",
       "      <td>2020</td>\n",
       "      <td>1</td>\n",
       "      <td>17</td>\n",
       "      <td>19</td>\n",
       "      <td>33</td>\n",
       "      <td>31</td>\n",
       "      <td>2020-01-17 19:33:31</td>\n",
       "    </tr>\n",
       "    <tr>\n",
       "      <th>1</th>\n",
       "      <td>내린천휴게소 양양방향</td>\n",
       "      <td>1</td>\n",
       "      <td>강원도</td>\n",
       "      <td>인제군</td>\n",
       "      <td>강원도 인제군 상남면 하남리 339-7(양양방향)</td>\n",
       "      <td>50.00000</td>\n",
       "      <td>DC차데모+AC3상+DC콤보</td>\n",
       "      <td>20200130143545</td>\n",
       "      <td>20200130150645</td>\n",
       "      <td>00:30:31</td>\n",
       "      <td>17.57000</td>\n",
       "      <td>NaN</td>\n",
       "      <td>2020</td>\n",
       "      <td>1</td>\n",
       "      <td>30</td>\n",
       "      <td>14</td>\n",
       "      <td>35</td>\n",
       "      <td>45</td>\n",
       "      <td>2020-01-30 14:35:45</td>\n",
       "    </tr>\n",
       "    <tr>\n",
       "      <th>2</th>\n",
       "      <td>내린천휴게소 양양방향</td>\n",
       "      <td>1</td>\n",
       "      <td>강원도</td>\n",
       "      <td>인제군</td>\n",
       "      <td>강원도 인제군 상남면 하남리 339-7(양양방향)</td>\n",
       "      <td>50.00000</td>\n",
       "      <td>DC차데모+AC3상+DC콤보</td>\n",
       "      <td>20200105005728</td>\n",
       "      <td>20200105011329</td>\n",
       "      <td>00:15:35</td>\n",
       "      <td>6.98000</td>\n",
       "      <td>NaN</td>\n",
       "      <td>2020</td>\n",
       "      <td>1</td>\n",
       "      <td>5</td>\n",
       "      <td>0</td>\n",
       "      <td>57</td>\n",
       "      <td>28</td>\n",
       "      <td>2020-01-05 00:57:28</td>\n",
       "    </tr>\n",
       "    <tr>\n",
       "      <th>3</th>\n",
       "      <td>내린천휴게소 양양방향</td>\n",
       "      <td>3</td>\n",
       "      <td>강원도</td>\n",
       "      <td>인제군</td>\n",
       "      <td>강원도 인제군 상남면 하남리 339-7(양양방향)</td>\n",
       "      <td>100.00000</td>\n",
       "      <td>DC콤보</td>\n",
       "      <td>20200120120215</td>\n",
       "      <td>20200120124708</td>\n",
       "      <td>00:41:00</td>\n",
       "      <td>15.30000</td>\n",
       "      <td>NaN</td>\n",
       "      <td>2020</td>\n",
       "      <td>1</td>\n",
       "      <td>20</td>\n",
       "      <td>12</td>\n",
       "      <td>2</td>\n",
       "      <td>15</td>\n",
       "      <td>2020-01-20 12:02:15</td>\n",
       "    </tr>\n",
       "    <tr>\n",
       "      <th>4</th>\n",
       "      <td>한국광기술원</td>\n",
       "      <td>1</td>\n",
       "      <td>광주광역시</td>\n",
       "      <td>북구</td>\n",
       "      <td>광주광역시 북구 첨단 벤처로 108번길 9</td>\n",
       "      <td>50.00000</td>\n",
       "      <td>DC차데모+AC3상+DC콤보</td>\n",
       "      <td>20200123085417</td>\n",
       "      <td>20200123092554</td>\n",
       "      <td>00:31:14</td>\n",
       "      <td>21.92000</td>\n",
       "      <td>NaN</td>\n",
       "      <td>2020</td>\n",
       "      <td>1</td>\n",
       "      <td>23</td>\n",
       "      <td>8</td>\n",
       "      <td>54</td>\n",
       "      <td>17</td>\n",
       "      <td>2020-01-23 08:54:17</td>\n",
       "    </tr>\n",
       "  </tbody>\n",
       "</table>\n",
       "</div>"
      ],
      "text/plain": [
       "          충전소명  충전기ID     지역  시군구                           주소  충전기용량(kW)  \\\n",
       "0  내린천휴게소 양양방향      1    강원도  인제군  강원도 인제군 상남면 하남리 339-7(양양방향)   50.00000   \n",
       "1  내린천휴게소 양양방향      1    강원도  인제군  강원도 인제군 상남면 하남리 339-7(양양방향)   50.00000   \n",
       "2  내린천휴게소 양양방향      1    강원도  인제군  강원도 인제군 상남면 하남리 339-7(양양방향)   50.00000   \n",
       "3  내린천휴게소 양양방향      3    강원도  인제군  강원도 인제군 상남면 하남리 339-7(양양방향)  100.00000   \n",
       "4       한국광기술원      1  광주광역시   북구      광주광역시 북구 첨단 벤처로 108번길 9   50.00000   \n",
       "\n",
       "             충전기타입          충전시작일시          충전종료일시      충전시간      충전량 충전용량  \\\n",
       "0  DC차데모+AC3상+DC콤보  20200117193331  20200117201417  00:40:00 25.47000  NaN   \n",
       "1  DC차데모+AC3상+DC콤보  20200130143545  20200130150645  00:30:31 17.57000  NaN   \n",
       "2  DC차데모+AC3상+DC콤보  20200105005728  20200105011329  00:15:35  6.98000  NaN   \n",
       "3             DC콤보  20200120120215  20200120124708  00:41:00 15.30000  NaN   \n",
       "4  DC차데모+AC3상+DC콤보  20200123085417  20200123092554  00:31:14 21.92000  NaN   \n",
       "\n",
       "   충전시작_년도  충전시작_월  충전시작_일  충전시작_시  충전시작_분  충전시작_초          충전시작일시(변환)  \n",
       "0     2020       1      17      19      33      31 2020-01-17 19:33:31  \n",
       "1     2020       1      30      14      35      45 2020-01-30 14:35:45  \n",
       "2     2020       1       5       0      57      28 2020-01-05 00:57:28  \n",
       "3     2020       1      20      12       2      15 2020-01-20 12:02:15  \n",
       "4     2020       1      23       8      54      17 2020-01-23 08:54:17  "
      ]
     },
     "execution_count": 15,
     "metadata": {},
     "output_type": "execute_result"
    }
   ],
   "source": [
    "df['충전시작일시(변환)'] = pd.to_datetime(df['충전시작일시(변환)'])\n",
    "df.head()"
   ]
  },
  {
   "cell_type": "markdown",
   "metadata": {},
   "source": [
    "### 충전종료시간 정리"
   ]
  },
  {
   "cell_type": "code",
   "execution_count": 16,
   "metadata": {},
   "outputs": [
    {
     "data": {
      "text/html": [
       "<div>\n",
       "<style scoped>\n",
       "    .dataframe tbody tr th:only-of-type {\n",
       "        vertical-align: middle;\n",
       "    }\n",
       "\n",
       "    .dataframe tbody tr th {\n",
       "        vertical-align: top;\n",
       "    }\n",
       "\n",
       "    .dataframe thead th {\n",
       "        text-align: right;\n",
       "    }\n",
       "</style>\n",
       "<table border=\"1\" class=\"dataframe\">\n",
       "  <thead>\n",
       "    <tr style=\"text-align: right;\">\n",
       "      <th></th>\n",
       "      <th>충전소명</th>\n",
       "      <th>충전기ID</th>\n",
       "      <th>지역</th>\n",
       "      <th>시군구</th>\n",
       "      <th>주소</th>\n",
       "      <th>충전기용량(kW)</th>\n",
       "      <th>충전기타입</th>\n",
       "      <th>충전시작일시</th>\n",
       "      <th>충전종료일시</th>\n",
       "      <th>충전시간</th>\n",
       "      <th>충전량</th>\n",
       "      <th>충전용량</th>\n",
       "      <th>충전시작_년도</th>\n",
       "      <th>충전시작_월</th>\n",
       "      <th>충전시작_일</th>\n",
       "      <th>충전시작_시</th>\n",
       "      <th>충전시작_분</th>\n",
       "      <th>충전시작_초</th>\n",
       "      <th>충전시작일시(변환)</th>\n",
       "    </tr>\n",
       "  </thead>\n",
       "  <tbody>\n",
       "  </tbody>\n",
       "</table>\n",
       "</div>"
      ],
      "text/plain": [
       "Empty DataFrame\n",
       "Columns: [충전소명, 충전기ID, 지역, 시군구, 주소, 충전기용량(kW), 충전기타입, 충전시작일시, 충전종료일시, 충전시간, 충전량, 충전용량, 충전시작_년도, 충전시작_월, 충전시작_일, 충전시작_시, 충전시작_분, 충전시작_초, 충전시작일시(변환)]\n",
       "Index: []"
      ]
     },
     "execution_count": 16,
     "metadata": {},
     "output_type": "execute_result"
    }
   ],
   "source": [
    "df[df['충전종료일시'] == ' ']"
   ]
  },
  {
   "cell_type": "code",
   "execution_count": 17,
   "metadata": {},
   "outputs": [
    {
     "name": "stdout",
     "output_type": "stream",
     "text": [
      "71311\n"
     ]
    }
   ],
   "source": [
    "# 충전종료일시의 데이터는 년~일까지만 있는 데이터가 71311개 존재\n",
    "    # 해당 데이터 뒤에 시분초를 '000000'으로 추가하는 작업 필요함.\n",
    "temp = df['충전종료일시'].to_list()\n",
    "temp2 = [str(i) for i in temp]\n",
    "count = 0\n",
    "for one in temp2:\n",
    "    if len(one) == 8:\n",
    "        count += 1\n",
    "print(count)"
   ]
  },
  {
   "cell_type": "code",
   "execution_count": 18,
   "metadata": {},
   "outputs": [
    {
     "data": {
      "text/html": [
       "<div>\n",
       "<style scoped>\n",
       "    .dataframe tbody tr th:only-of-type {\n",
       "        vertical-align: middle;\n",
       "    }\n",
       "\n",
       "    .dataframe tbody tr th {\n",
       "        vertical-align: top;\n",
       "    }\n",
       "\n",
       "    .dataframe thead th {\n",
       "        text-align: right;\n",
       "    }\n",
       "</style>\n",
       "<table border=\"1\" class=\"dataframe\">\n",
       "  <thead>\n",
       "    <tr style=\"text-align: right;\">\n",
       "      <th></th>\n",
       "      <th>충전소명</th>\n",
       "      <th>충전기ID</th>\n",
       "      <th>지역</th>\n",
       "      <th>시군구</th>\n",
       "      <th>주소</th>\n",
       "      <th>충전기용량(kW)</th>\n",
       "      <th>충전기타입</th>\n",
       "      <th>충전시작일시</th>\n",
       "      <th>충전종료일시</th>\n",
       "      <th>충전시간</th>\n",
       "      <th>충전량</th>\n",
       "      <th>충전용량</th>\n",
       "      <th>충전시작_년도</th>\n",
       "      <th>충전시작_월</th>\n",
       "      <th>충전시작_일</th>\n",
       "      <th>충전시작_시</th>\n",
       "      <th>충전시작_분</th>\n",
       "      <th>충전시작_초</th>\n",
       "      <th>충전시작일시(변환)</th>\n",
       "    </tr>\n",
       "  </thead>\n",
       "  <tbody>\n",
       "    <tr>\n",
       "      <th>11665817</th>\n",
       "      <td>죽전휴게소(서울방향)</td>\n",
       "      <td>1</td>\n",
       "      <td>경기도</td>\n",
       "      <td>용인시</td>\n",
       "      <td>경기도 용인시 수지구 경부고속도로 400 (죽전동)</td>\n",
       "      <td>NaN</td>\n",
       "      <td>DC차데모+AC3상+DC콤보</td>\n",
       "      <td>20220831235918</td>\n",
       "      <td>20220901004034</td>\n",
       "      <td>00:40:00</td>\n",
       "      <td>31.09000</td>\n",
       "      <td>급속(50kW)</td>\n",
       "      <td>2022</td>\n",
       "      <td>8</td>\n",
       "      <td>31</td>\n",
       "      <td>23</td>\n",
       "      <td>59</td>\n",
       "      <td>18</td>\n",
       "      <td>2022-08-31 23:59:18</td>\n",
       "    </tr>\n",
       "    <tr>\n",
       "      <th>11665818</th>\n",
       "      <td>원주모범운전자회</td>\n",
       "      <td>21</td>\n",
       "      <td>강원도</td>\n",
       "      <td>원주시</td>\n",
       "      <td>강원도 원주시 단구로 150</td>\n",
       "      <td>NaN</td>\n",
       "      <td>DC콤보</td>\n",
       "      <td>20220831235920</td>\n",
       "      <td>20220901001904</td>\n",
       "      <td>00:19:43</td>\n",
       "      <td>46.51000</td>\n",
       "      <td>급속(200kW동시)</td>\n",
       "      <td>2022</td>\n",
       "      <td>8</td>\n",
       "      <td>31</td>\n",
       "      <td>23</td>\n",
       "      <td>59</td>\n",
       "      <td>20</td>\n",
       "      <td>2022-08-31 23:59:20</td>\n",
       "    </tr>\n",
       "    <tr>\n",
       "      <th>11665819</th>\n",
       "      <td>검단2공영주차장</td>\n",
       "      <td>1</td>\n",
       "      <td>인천광역시</td>\n",
       "      <td>서구</td>\n",
       "      <td>인천광역시 서구 당하동 1097-5  검단4동 주민센터 옆</td>\n",
       "      <td>NaN</td>\n",
       "      <td>DC차데모+AC3상+DC콤보</td>\n",
       "      <td>20220831235931</td>\n",
       "      <td>20220901004251</td>\n",
       "      <td>00:40:00</td>\n",
       "      <td>21.97000</td>\n",
       "      <td>급속(50kW)</td>\n",
       "      <td>2022</td>\n",
       "      <td>8</td>\n",
       "      <td>31</td>\n",
       "      <td>23</td>\n",
       "      <td>59</td>\n",
       "      <td>31</td>\n",
       "      <td>2022-08-31 23:59:31</td>\n",
       "    </tr>\n",
       "    <tr>\n",
       "      <th>11665820</th>\n",
       "      <td>강당골 공영주차장</td>\n",
       "      <td>1</td>\n",
       "      <td>대구광역시</td>\n",
       "      <td>남구</td>\n",
       "      <td>대구광역시 남구 봉덕동 1272-18</td>\n",
       "      <td>NaN</td>\n",
       "      <td>DC차데모+AC3상+DC콤보</td>\n",
       "      <td>20220831235934</td>\n",
       "      <td>20220901004057</td>\n",
       "      <td>00:40:00</td>\n",
       "      <td>27.60000</td>\n",
       "      <td>급속(50kW)</td>\n",
       "      <td>2022</td>\n",
       "      <td>8</td>\n",
       "      <td>31</td>\n",
       "      <td>23</td>\n",
       "      <td>59</td>\n",
       "      <td>34</td>\n",
       "      <td>2022-08-31 23:59:34</td>\n",
       "    </tr>\n",
       "    <tr>\n",
       "      <th>11665821</th>\n",
       "      <td>마천동2공영주차장</td>\n",
       "      <td>1</td>\n",
       "      <td>서울특별시</td>\n",
       "      <td>송파구</td>\n",
       "      <td>서울특별시 송파구 성내천로299-7</td>\n",
       "      <td>NaN</td>\n",
       "      <td>DC차데모+AC3상+DC콤보</td>\n",
       "      <td>20220831235946</td>\n",
       "      <td>20220901003700</td>\n",
       "      <td>00:34:09</td>\n",
       "      <td>9.77000</td>\n",
       "      <td>급속(100kW멀티)</td>\n",
       "      <td>2022</td>\n",
       "      <td>8</td>\n",
       "      <td>31</td>\n",
       "      <td>23</td>\n",
       "      <td>59</td>\n",
       "      <td>46</td>\n",
       "      <td>2022-08-31 23:59:46</td>\n",
       "    </tr>\n",
       "  </tbody>\n",
       "</table>\n",
       "</div>"
      ],
      "text/plain": [
       "                 충전소명  충전기ID     지역  시군구                                주소  \\\n",
       "11665817  죽전휴게소(서울방향)      1    경기도  용인시      경기도 용인시 수지구 경부고속도로 400 (죽전동)   \n",
       "11665818     원주모범운전자회     21    강원도  원주시                   강원도 원주시 단구로 150   \n",
       "11665819     검단2공영주차장      1  인천광역시   서구  인천광역시 서구 당하동 1097-5  검단4동 주민센터 옆   \n",
       "11665820    강당골 공영주차장      1  대구광역시   남구              대구광역시 남구 봉덕동 1272-18   \n",
       "11665821    마천동2공영주차장      1  서울특별시  송파구               서울특별시 송파구 성내천로299-7   \n",
       "\n",
       "          충전기용량(kW)            충전기타입          충전시작일시          충전종료일시  \\\n",
       "11665817        NaN  DC차데모+AC3상+DC콤보  20220831235918  20220901004034   \n",
       "11665818        NaN             DC콤보  20220831235920  20220901001904   \n",
       "11665819        NaN  DC차데모+AC3상+DC콤보  20220831235931  20220901004251   \n",
       "11665820        NaN  DC차데모+AC3상+DC콤보  20220831235934  20220901004057   \n",
       "11665821        NaN  DC차데모+AC3상+DC콤보  20220831235946  20220901003700   \n",
       "\n",
       "              충전시간      충전량         충전용량  충전시작_년도  충전시작_월  충전시작_일  충전시작_시  \\\n",
       "11665817  00:40:00 31.09000     급속(50kW)     2022       8      31      23   \n",
       "11665818  00:19:43 46.51000  급속(200kW동시)     2022       8      31      23   \n",
       "11665819  00:40:00 21.97000     급속(50kW)     2022       8      31      23   \n",
       "11665820  00:40:00 27.60000     급속(50kW)     2022       8      31      23   \n",
       "11665821  00:34:09  9.77000  급속(100kW멀티)     2022       8      31      23   \n",
       "\n",
       "          충전시작_분  충전시작_초          충전시작일시(변환)  \n",
       "11665817      59      18 2022-08-31 23:59:18  \n",
       "11665818      59      20 2022-08-31 23:59:20  \n",
       "11665819      59      31 2022-08-31 23:59:31  \n",
       "11665820      59      34 2022-08-31 23:59:34  \n",
       "11665821      59      46 2022-08-31 23:59:46  "
      ]
     },
     "execution_count": 18,
     "metadata": {},
     "output_type": "execute_result"
    }
   ],
   "source": [
    "df.tail()"
   ]
  },
  {
   "cell_type": "code",
   "execution_count": 19,
   "metadata": {},
   "outputs": [
    {
     "name": "stdout",
     "output_type": "stream",
     "text": [
      "<class 'pandas.core.series.Series'>\n",
      "RangeIndex: 11665822 entries, 0 to 11665821\n",
      "Series name: 충전종료일시\n",
      "Non-Null Count     Dtype\n",
      "--------------     -----\n",
      "11665822 non-null  int64\n",
      "dtypes: int64(1)\n",
      "memory usage: 89.0 MB\n"
     ]
    }
   ],
   "source": [
    "df['충전종료일시'].info()"
   ]
  },
  {
   "cell_type": "code",
   "execution_count": 20,
   "metadata": {},
   "outputs": [],
   "source": [
    "temp = df['충전종료일시'].to_list()"
   ]
  },
  {
   "cell_type": "code",
   "execution_count": 21,
   "metadata": {},
   "outputs": [
    {
     "name": "stdout",
     "output_type": "stream",
     "text": [
      "1578\n"
     ]
    }
   ],
   "source": [
    "for i, one in enumerate(temp):\n",
    "    if len(str(one)) == 8:\n",
    "        print(i)\n",
    "        break"
   ]
  },
  {
   "cell_type": "code",
   "execution_count": 22,
   "metadata": {},
   "outputs": [
    {
     "data": {
      "text/plain": [
       "20200118"
      ]
     },
     "execution_count": 22,
     "metadata": {},
     "output_type": "execute_result"
    }
   ],
   "source": [
    "temp[1578]"
   ]
  },
  {
   "cell_type": "code",
   "execution_count": 23,
   "metadata": {},
   "outputs": [
    {
     "data": {
      "text/plain": [
       "20200118"
      ]
     },
     "execution_count": 23,
     "metadata": {},
     "output_type": "execute_result"
    }
   ],
   "source": [
    "df['충전종료일시'][1578]"
   ]
  },
  {
   "cell_type": "code",
   "execution_count": 24,
   "metadata": {},
   "outputs": [
    {
     "data": {
      "text/plain": [
       "'20200118'"
      ]
     },
     "execution_count": 24,
     "metadata": {},
     "output_type": "execute_result"
    }
   ],
   "source": [
    "temp2 = [str(i) for i in temp]\n",
    "temp2[1578]"
   ]
  },
  {
   "cell_type": "code",
   "execution_count": 25,
   "metadata": {},
   "outputs": [
    {
     "data": {
      "text/plain": [
       "11665822"
      ]
     },
     "execution_count": 25,
     "metadata": {},
     "output_type": "execute_result"
    }
   ],
   "source": [
    "for i, one in enumerate(temp2):\n",
    "    if len(one) == 8:\n",
    "        temp2[i] = one + '000000'\n",
    "len(temp2)"
   ]
  },
  {
   "cell_type": "code",
   "execution_count": 26,
   "metadata": {},
   "outputs": [
    {
     "data": {
      "text/plain": [
       "'20200118000000'"
      ]
     },
     "execution_count": 26,
     "metadata": {},
     "output_type": "execute_result"
    }
   ],
   "source": [
    "temp2[1578]"
   ]
  },
  {
   "cell_type": "code",
   "execution_count": 27,
   "metadata": {},
   "outputs": [
    {
     "data": {
      "text/html": [
       "<div>\n",
       "<style scoped>\n",
       "    .dataframe tbody tr th:only-of-type {\n",
       "        vertical-align: middle;\n",
       "    }\n",
       "\n",
       "    .dataframe tbody tr th {\n",
       "        vertical-align: top;\n",
       "    }\n",
       "\n",
       "    .dataframe thead th {\n",
       "        text-align: right;\n",
       "    }\n",
       "</style>\n",
       "<table border=\"1\" class=\"dataframe\">\n",
       "  <thead>\n",
       "    <tr style=\"text-align: right;\">\n",
       "      <th></th>\n",
       "      <th>충전소명</th>\n",
       "      <th>충전기ID</th>\n",
       "      <th>지역</th>\n",
       "      <th>시군구</th>\n",
       "      <th>주소</th>\n",
       "      <th>충전기용량(kW)</th>\n",
       "      <th>충전기타입</th>\n",
       "      <th>충전시작일시</th>\n",
       "      <th>충전종료일시</th>\n",
       "      <th>충전시간</th>\n",
       "      <th>충전량</th>\n",
       "      <th>충전용량</th>\n",
       "      <th>충전시작_년도</th>\n",
       "      <th>충전시작_월</th>\n",
       "      <th>충전시작_일</th>\n",
       "      <th>충전시작_시</th>\n",
       "      <th>충전시작_분</th>\n",
       "      <th>충전시작_초</th>\n",
       "      <th>충전시작일시(변환)</th>\n",
       "    </tr>\n",
       "  </thead>\n",
       "  <tbody>\n",
       "    <tr>\n",
       "      <th>0</th>\n",
       "      <td>내린천휴게소 양양방향</td>\n",
       "      <td>1</td>\n",
       "      <td>강원도</td>\n",
       "      <td>인제군</td>\n",
       "      <td>강원도 인제군 상남면 하남리 339-7(양양방향)</td>\n",
       "      <td>50.00000</td>\n",
       "      <td>DC차데모+AC3상+DC콤보</td>\n",
       "      <td>20200117193331</td>\n",
       "      <td>20200117201417</td>\n",
       "      <td>00:40:00</td>\n",
       "      <td>25.47000</td>\n",
       "      <td>NaN</td>\n",
       "      <td>2020</td>\n",
       "      <td>1</td>\n",
       "      <td>17</td>\n",
       "      <td>19</td>\n",
       "      <td>33</td>\n",
       "      <td>31</td>\n",
       "      <td>2020-01-17 19:33:31</td>\n",
       "    </tr>\n",
       "    <tr>\n",
       "      <th>1</th>\n",
       "      <td>내린천휴게소 양양방향</td>\n",
       "      <td>1</td>\n",
       "      <td>강원도</td>\n",
       "      <td>인제군</td>\n",
       "      <td>강원도 인제군 상남면 하남리 339-7(양양방향)</td>\n",
       "      <td>50.00000</td>\n",
       "      <td>DC차데모+AC3상+DC콤보</td>\n",
       "      <td>20200130143545</td>\n",
       "      <td>20200130150645</td>\n",
       "      <td>00:30:31</td>\n",
       "      <td>17.57000</td>\n",
       "      <td>NaN</td>\n",
       "      <td>2020</td>\n",
       "      <td>1</td>\n",
       "      <td>30</td>\n",
       "      <td>14</td>\n",
       "      <td>35</td>\n",
       "      <td>45</td>\n",
       "      <td>2020-01-30 14:35:45</td>\n",
       "    </tr>\n",
       "    <tr>\n",
       "      <th>2</th>\n",
       "      <td>내린천휴게소 양양방향</td>\n",
       "      <td>1</td>\n",
       "      <td>강원도</td>\n",
       "      <td>인제군</td>\n",
       "      <td>강원도 인제군 상남면 하남리 339-7(양양방향)</td>\n",
       "      <td>50.00000</td>\n",
       "      <td>DC차데모+AC3상+DC콤보</td>\n",
       "      <td>20200105005728</td>\n",
       "      <td>20200105011329</td>\n",
       "      <td>00:15:35</td>\n",
       "      <td>6.98000</td>\n",
       "      <td>NaN</td>\n",
       "      <td>2020</td>\n",
       "      <td>1</td>\n",
       "      <td>5</td>\n",
       "      <td>0</td>\n",
       "      <td>57</td>\n",
       "      <td>28</td>\n",
       "      <td>2020-01-05 00:57:28</td>\n",
       "    </tr>\n",
       "    <tr>\n",
       "      <th>3</th>\n",
       "      <td>내린천휴게소 양양방향</td>\n",
       "      <td>3</td>\n",
       "      <td>강원도</td>\n",
       "      <td>인제군</td>\n",
       "      <td>강원도 인제군 상남면 하남리 339-7(양양방향)</td>\n",
       "      <td>100.00000</td>\n",
       "      <td>DC콤보</td>\n",
       "      <td>20200120120215</td>\n",
       "      <td>20200120124708</td>\n",
       "      <td>00:41:00</td>\n",
       "      <td>15.30000</td>\n",
       "      <td>NaN</td>\n",
       "      <td>2020</td>\n",
       "      <td>1</td>\n",
       "      <td>20</td>\n",
       "      <td>12</td>\n",
       "      <td>2</td>\n",
       "      <td>15</td>\n",
       "      <td>2020-01-20 12:02:15</td>\n",
       "    </tr>\n",
       "    <tr>\n",
       "      <th>4</th>\n",
       "      <td>한국광기술원</td>\n",
       "      <td>1</td>\n",
       "      <td>광주광역시</td>\n",
       "      <td>북구</td>\n",
       "      <td>광주광역시 북구 첨단 벤처로 108번길 9</td>\n",
       "      <td>50.00000</td>\n",
       "      <td>DC차데모+AC3상+DC콤보</td>\n",
       "      <td>20200123085417</td>\n",
       "      <td>20200123092554</td>\n",
       "      <td>00:31:14</td>\n",
       "      <td>21.92000</td>\n",
       "      <td>NaN</td>\n",
       "      <td>2020</td>\n",
       "      <td>1</td>\n",
       "      <td>23</td>\n",
       "      <td>8</td>\n",
       "      <td>54</td>\n",
       "      <td>17</td>\n",
       "      <td>2020-01-23 08:54:17</td>\n",
       "    </tr>\n",
       "  </tbody>\n",
       "</table>\n",
       "</div>"
      ],
      "text/plain": [
       "          충전소명  충전기ID     지역  시군구                           주소  충전기용량(kW)  \\\n",
       "0  내린천휴게소 양양방향      1    강원도  인제군  강원도 인제군 상남면 하남리 339-7(양양방향)   50.00000   \n",
       "1  내린천휴게소 양양방향      1    강원도  인제군  강원도 인제군 상남면 하남리 339-7(양양방향)   50.00000   \n",
       "2  내린천휴게소 양양방향      1    강원도  인제군  강원도 인제군 상남면 하남리 339-7(양양방향)   50.00000   \n",
       "3  내린천휴게소 양양방향      3    강원도  인제군  강원도 인제군 상남면 하남리 339-7(양양방향)  100.00000   \n",
       "4       한국광기술원      1  광주광역시   북구      광주광역시 북구 첨단 벤처로 108번길 9   50.00000   \n",
       "\n",
       "             충전기타입          충전시작일시          충전종료일시      충전시간      충전량 충전용량  \\\n",
       "0  DC차데모+AC3상+DC콤보  20200117193331  20200117201417  00:40:00 25.47000  NaN   \n",
       "1  DC차데모+AC3상+DC콤보  20200130143545  20200130150645  00:30:31 17.57000  NaN   \n",
       "2  DC차데모+AC3상+DC콤보  20200105005728  20200105011329  00:15:35  6.98000  NaN   \n",
       "3             DC콤보  20200120120215  20200120124708  00:41:00 15.30000  NaN   \n",
       "4  DC차데모+AC3상+DC콤보  20200123085417  20200123092554  00:31:14 21.92000  NaN   \n",
       "\n",
       "   충전시작_년도  충전시작_월  충전시작_일  충전시작_시  충전시작_분  충전시작_초          충전시작일시(변환)  \n",
       "0     2020       1      17      19      33      31 2020-01-17 19:33:31  \n",
       "1     2020       1      30      14      35      45 2020-01-30 14:35:45  \n",
       "2     2020       1       5       0      57      28 2020-01-05 00:57:28  \n",
       "3     2020       1      20      12       2      15 2020-01-20 12:02:15  \n",
       "4     2020       1      23       8      54      17 2020-01-23 08:54:17  "
      ]
     },
     "execution_count": 27,
     "metadata": {},
     "output_type": "execute_result"
    }
   ],
   "source": [
    "df['충전종료일시'] = temp2\n",
    "df.head()"
   ]
  },
  {
   "cell_type": "code",
   "execution_count": 30,
   "metadata": {},
   "outputs": [
    {
     "data": {
      "text/plain": [
       "'20200118000000'"
      ]
     },
     "execution_count": 30,
     "metadata": {},
     "output_type": "execute_result"
    }
   ],
   "source": [
    "df['충전종료일시'][1578]"
   ]
  },
  {
   "cell_type": "code",
   "execution_count": 29,
   "metadata": {},
   "outputs": [
    {
     "data": {
      "text/plain": [
       "충전소명                동해웰빙레포츠타운 주차장\n",
       "충전기ID                          21\n",
       "지역                            강원도\n",
       "시군구                           동해시\n",
       "주소                 강원도 동해시 덕골길 10\n",
       "충전기용량(kW)               200.00000\n",
       "충전기타입                        DC콤보\n",
       "충전시작일시             20200118162253\n",
       "충전종료일시             20200118000000\n",
       "충전시간                     00:06:49\n",
       "충전량                       1.91000\n",
       "충전용량                          NaN\n",
       "충전시작_년도                      2020\n",
       "충전시작_월                          1\n",
       "충전시작_일                         18\n",
       "충전시작_시                         16\n",
       "충전시작_분                         22\n",
       "충전시작_초                         53\n",
       "충전시작일시(변환)    2020-01-18 16:22:53\n",
       "Name: 1578, dtype: object"
      ]
     },
     "execution_count": 29,
     "metadata": {},
     "output_type": "execute_result"
    }
   ],
   "source": [
    "df.iloc[1578, :]"
   ]
  },
  {
   "cell_type": "code",
   "execution_count": 31,
   "metadata": {},
   "outputs": [
    {
     "data": {
      "text/html": [
       "<div>\n",
       "<style scoped>\n",
       "    .dataframe tbody tr th:only-of-type {\n",
       "        vertical-align: middle;\n",
       "    }\n",
       "\n",
       "    .dataframe tbody tr th {\n",
       "        vertical-align: top;\n",
       "    }\n",
       "\n",
       "    .dataframe thead th {\n",
       "        text-align: right;\n",
       "    }\n",
       "</style>\n",
       "<table border=\"1\" class=\"dataframe\">\n",
       "  <thead>\n",
       "    <tr style=\"text-align: right;\">\n",
       "      <th></th>\n",
       "      <th>충전소명</th>\n",
       "      <th>충전기ID</th>\n",
       "      <th>지역</th>\n",
       "      <th>시군구</th>\n",
       "      <th>주소</th>\n",
       "      <th>충전기용량(kW)</th>\n",
       "      <th>충전기타입</th>\n",
       "      <th>충전시작일시</th>\n",
       "      <th>충전종료일시</th>\n",
       "      <th>충전시간</th>\n",
       "      <th>...</th>\n",
       "      <th>충전시작_시</th>\n",
       "      <th>충전시작_분</th>\n",
       "      <th>충전시작_초</th>\n",
       "      <th>충전시작일시(변환)</th>\n",
       "      <th>충전종료_년도</th>\n",
       "      <th>충전종료_월</th>\n",
       "      <th>충전종료_일</th>\n",
       "      <th>충전종료_시</th>\n",
       "      <th>충전종료_분</th>\n",
       "      <th>충전종료_초</th>\n",
       "    </tr>\n",
       "  </thead>\n",
       "  <tbody>\n",
       "    <tr>\n",
       "      <th>0</th>\n",
       "      <td>내린천휴게소 양양방향</td>\n",
       "      <td>1</td>\n",
       "      <td>강원도</td>\n",
       "      <td>인제군</td>\n",
       "      <td>강원도 인제군 상남면 하남리 339-7(양양방향)</td>\n",
       "      <td>50.00000</td>\n",
       "      <td>DC차데모+AC3상+DC콤보</td>\n",
       "      <td>20200117193331</td>\n",
       "      <td>20200117201417</td>\n",
       "      <td>00:40:00</td>\n",
       "      <td>...</td>\n",
       "      <td>19</td>\n",
       "      <td>33</td>\n",
       "      <td>31</td>\n",
       "      <td>2020-01-17 19:33:31</td>\n",
       "      <td>2020</td>\n",
       "      <td>1</td>\n",
       "      <td>17</td>\n",
       "      <td>20</td>\n",
       "      <td>14</td>\n",
       "      <td>17</td>\n",
       "    </tr>\n",
       "    <tr>\n",
       "      <th>1</th>\n",
       "      <td>내린천휴게소 양양방향</td>\n",
       "      <td>1</td>\n",
       "      <td>강원도</td>\n",
       "      <td>인제군</td>\n",
       "      <td>강원도 인제군 상남면 하남리 339-7(양양방향)</td>\n",
       "      <td>50.00000</td>\n",
       "      <td>DC차데모+AC3상+DC콤보</td>\n",
       "      <td>20200130143545</td>\n",
       "      <td>20200130150645</td>\n",
       "      <td>00:30:31</td>\n",
       "      <td>...</td>\n",
       "      <td>14</td>\n",
       "      <td>35</td>\n",
       "      <td>45</td>\n",
       "      <td>2020-01-30 14:35:45</td>\n",
       "      <td>2020</td>\n",
       "      <td>1</td>\n",
       "      <td>30</td>\n",
       "      <td>15</td>\n",
       "      <td>6</td>\n",
       "      <td>45</td>\n",
       "    </tr>\n",
       "    <tr>\n",
       "      <th>2</th>\n",
       "      <td>내린천휴게소 양양방향</td>\n",
       "      <td>1</td>\n",
       "      <td>강원도</td>\n",
       "      <td>인제군</td>\n",
       "      <td>강원도 인제군 상남면 하남리 339-7(양양방향)</td>\n",
       "      <td>50.00000</td>\n",
       "      <td>DC차데모+AC3상+DC콤보</td>\n",
       "      <td>20200105005728</td>\n",
       "      <td>20200105011329</td>\n",
       "      <td>00:15:35</td>\n",
       "      <td>...</td>\n",
       "      <td>0</td>\n",
       "      <td>57</td>\n",
       "      <td>28</td>\n",
       "      <td>2020-01-05 00:57:28</td>\n",
       "      <td>2020</td>\n",
       "      <td>1</td>\n",
       "      <td>5</td>\n",
       "      <td>1</td>\n",
       "      <td>13</td>\n",
       "      <td>29</td>\n",
       "    </tr>\n",
       "    <tr>\n",
       "      <th>3</th>\n",
       "      <td>내린천휴게소 양양방향</td>\n",
       "      <td>3</td>\n",
       "      <td>강원도</td>\n",
       "      <td>인제군</td>\n",
       "      <td>강원도 인제군 상남면 하남리 339-7(양양방향)</td>\n",
       "      <td>100.00000</td>\n",
       "      <td>DC콤보</td>\n",
       "      <td>20200120120215</td>\n",
       "      <td>20200120124708</td>\n",
       "      <td>00:41:00</td>\n",
       "      <td>...</td>\n",
       "      <td>12</td>\n",
       "      <td>2</td>\n",
       "      <td>15</td>\n",
       "      <td>2020-01-20 12:02:15</td>\n",
       "      <td>2020</td>\n",
       "      <td>1</td>\n",
       "      <td>20</td>\n",
       "      <td>12</td>\n",
       "      <td>47</td>\n",
       "      <td>8</td>\n",
       "    </tr>\n",
       "    <tr>\n",
       "      <th>4</th>\n",
       "      <td>한국광기술원</td>\n",
       "      <td>1</td>\n",
       "      <td>광주광역시</td>\n",
       "      <td>북구</td>\n",
       "      <td>광주광역시 북구 첨단 벤처로 108번길 9</td>\n",
       "      <td>50.00000</td>\n",
       "      <td>DC차데모+AC3상+DC콤보</td>\n",
       "      <td>20200123085417</td>\n",
       "      <td>20200123092554</td>\n",
       "      <td>00:31:14</td>\n",
       "      <td>...</td>\n",
       "      <td>8</td>\n",
       "      <td>54</td>\n",
       "      <td>17</td>\n",
       "      <td>2020-01-23 08:54:17</td>\n",
       "      <td>2020</td>\n",
       "      <td>1</td>\n",
       "      <td>23</td>\n",
       "      <td>9</td>\n",
       "      <td>25</td>\n",
       "      <td>54</td>\n",
       "    </tr>\n",
       "  </tbody>\n",
       "</table>\n",
       "<p>5 rows × 25 columns</p>\n",
       "</div>"
      ],
      "text/plain": [
       "          충전소명  충전기ID     지역  시군구                           주소  충전기용량(kW)  \\\n",
       "0  내린천휴게소 양양방향      1    강원도  인제군  강원도 인제군 상남면 하남리 339-7(양양방향)   50.00000   \n",
       "1  내린천휴게소 양양방향      1    강원도  인제군  강원도 인제군 상남면 하남리 339-7(양양방향)   50.00000   \n",
       "2  내린천휴게소 양양방향      1    강원도  인제군  강원도 인제군 상남면 하남리 339-7(양양방향)   50.00000   \n",
       "3  내린천휴게소 양양방향      3    강원도  인제군  강원도 인제군 상남면 하남리 339-7(양양방향)  100.00000   \n",
       "4       한국광기술원      1  광주광역시   북구      광주광역시 북구 첨단 벤처로 108번길 9   50.00000   \n",
       "\n",
       "             충전기타입          충전시작일시          충전종료일시      충전시간  ...  충전시작_시  \\\n",
       "0  DC차데모+AC3상+DC콤보  20200117193331  20200117201417  00:40:00  ...      19   \n",
       "1  DC차데모+AC3상+DC콤보  20200130143545  20200130150645  00:30:31  ...      14   \n",
       "2  DC차데모+AC3상+DC콤보  20200105005728  20200105011329  00:15:35  ...       0   \n",
       "3             DC콤보  20200120120215  20200120124708  00:41:00  ...      12   \n",
       "4  DC차데모+AC3상+DC콤보  20200123085417  20200123092554  00:31:14  ...       8   \n",
       "\n",
       "  충전시작_분  충전시작_초          충전시작일시(변환)  충전종료_년도  충전종료_월  충전종료_일  충전종료_시 충전종료_분  \\\n",
       "0     33      31 2020-01-17 19:33:31     2020       1      17      20     14   \n",
       "1     35      45 2020-01-30 14:35:45     2020       1      30      15      6   \n",
       "2     57      28 2020-01-05 00:57:28     2020       1       5       1     13   \n",
       "3      2      15 2020-01-20 12:02:15     2020       1      20      12     47   \n",
       "4     54      17 2020-01-23 08:54:17     2020       1      23       9     25   \n",
       "\n",
       "   충전종료_초  \n",
       "0      17  \n",
       "1      45  \n",
       "2      29  \n",
       "3       8  \n",
       "4      54  \n",
       "\n",
       "[5 rows x 25 columns]"
      ]
     },
     "execution_count": 31,
     "metadata": {},
     "output_type": "execute_result"
    }
   ],
   "source": [
    "ch_time = df['충전종료일시'].copy()\n",
    "df['충전종료_년도'] = ch_time.astype(str).str[:4].astype(int)\n",
    "df['충전종료_월'] = ch_time.astype(str).str[4:6].astype(int)\n",
    "df['충전종료_일'] = ch_time.astype(str).str[6:8].astype(int)\n",
    "df['충전종료_시'] = ch_time.astype(str).str[8:10].astype(int)\n",
    "df['충전종료_분'] = ch_time.astype(str).str[10:12].astype(int)\n",
    "df['충전종료_초'] = ch_time.astype(str).str[12:14].astype(int)\n",
    "df.head()"
   ]
  },
  {
   "cell_type": "code",
   "execution_count": 32,
   "metadata": {},
   "outputs": [
    {
     "data": {
      "text/html": [
       "<div>\n",
       "<style scoped>\n",
       "    .dataframe tbody tr th:only-of-type {\n",
       "        vertical-align: middle;\n",
       "    }\n",
       "\n",
       "    .dataframe tbody tr th {\n",
       "        vertical-align: top;\n",
       "    }\n",
       "\n",
       "    .dataframe thead th {\n",
       "        text-align: right;\n",
       "    }\n",
       "</style>\n",
       "<table border=\"1\" class=\"dataframe\">\n",
       "  <thead>\n",
       "    <tr style=\"text-align: right;\">\n",
       "      <th></th>\n",
       "      <th>충전소명</th>\n",
       "      <th>충전기ID</th>\n",
       "      <th>지역</th>\n",
       "      <th>시군구</th>\n",
       "      <th>주소</th>\n",
       "      <th>충전기용량(kW)</th>\n",
       "      <th>충전기타입</th>\n",
       "      <th>충전시작일시</th>\n",
       "      <th>충전종료일시</th>\n",
       "      <th>충전시간</th>\n",
       "      <th>...</th>\n",
       "      <th>충전시작_시</th>\n",
       "      <th>충전시작_분</th>\n",
       "      <th>충전시작_초</th>\n",
       "      <th>충전시작일시(변환)</th>\n",
       "      <th>충전종료_년도</th>\n",
       "      <th>충전종료_월</th>\n",
       "      <th>충전종료_일</th>\n",
       "      <th>충전종료_시</th>\n",
       "      <th>충전종료_분</th>\n",
       "      <th>충전종료_초</th>\n",
       "    </tr>\n",
       "  </thead>\n",
       "  <tbody>\n",
       "    <tr>\n",
       "      <th>11665817</th>\n",
       "      <td>죽전휴게소(서울방향)</td>\n",
       "      <td>1</td>\n",
       "      <td>경기도</td>\n",
       "      <td>용인시</td>\n",
       "      <td>경기도 용인시 수지구 경부고속도로 400 (죽전동)</td>\n",
       "      <td>NaN</td>\n",
       "      <td>DC차데모+AC3상+DC콤보</td>\n",
       "      <td>20220831235918</td>\n",
       "      <td>20220901004034</td>\n",
       "      <td>00:40:00</td>\n",
       "      <td>...</td>\n",
       "      <td>23</td>\n",
       "      <td>59</td>\n",
       "      <td>18</td>\n",
       "      <td>2022-08-31 23:59:18</td>\n",
       "      <td>2022</td>\n",
       "      <td>9</td>\n",
       "      <td>1</td>\n",
       "      <td>0</td>\n",
       "      <td>40</td>\n",
       "      <td>34</td>\n",
       "    </tr>\n",
       "    <tr>\n",
       "      <th>11665818</th>\n",
       "      <td>원주모범운전자회</td>\n",
       "      <td>21</td>\n",
       "      <td>강원도</td>\n",
       "      <td>원주시</td>\n",
       "      <td>강원도 원주시 단구로 150</td>\n",
       "      <td>NaN</td>\n",
       "      <td>DC콤보</td>\n",
       "      <td>20220831235920</td>\n",
       "      <td>20220901001904</td>\n",
       "      <td>00:19:43</td>\n",
       "      <td>...</td>\n",
       "      <td>23</td>\n",
       "      <td>59</td>\n",
       "      <td>20</td>\n",
       "      <td>2022-08-31 23:59:20</td>\n",
       "      <td>2022</td>\n",
       "      <td>9</td>\n",
       "      <td>1</td>\n",
       "      <td>0</td>\n",
       "      <td>19</td>\n",
       "      <td>4</td>\n",
       "    </tr>\n",
       "    <tr>\n",
       "      <th>11665819</th>\n",
       "      <td>검단2공영주차장</td>\n",
       "      <td>1</td>\n",
       "      <td>인천광역시</td>\n",
       "      <td>서구</td>\n",
       "      <td>인천광역시 서구 당하동 1097-5  검단4동 주민센터 옆</td>\n",
       "      <td>NaN</td>\n",
       "      <td>DC차데모+AC3상+DC콤보</td>\n",
       "      <td>20220831235931</td>\n",
       "      <td>20220901004251</td>\n",
       "      <td>00:40:00</td>\n",
       "      <td>...</td>\n",
       "      <td>23</td>\n",
       "      <td>59</td>\n",
       "      <td>31</td>\n",
       "      <td>2022-08-31 23:59:31</td>\n",
       "      <td>2022</td>\n",
       "      <td>9</td>\n",
       "      <td>1</td>\n",
       "      <td>0</td>\n",
       "      <td>42</td>\n",
       "      <td>51</td>\n",
       "    </tr>\n",
       "    <tr>\n",
       "      <th>11665820</th>\n",
       "      <td>강당골 공영주차장</td>\n",
       "      <td>1</td>\n",
       "      <td>대구광역시</td>\n",
       "      <td>남구</td>\n",
       "      <td>대구광역시 남구 봉덕동 1272-18</td>\n",
       "      <td>NaN</td>\n",
       "      <td>DC차데모+AC3상+DC콤보</td>\n",
       "      <td>20220831235934</td>\n",
       "      <td>20220901004057</td>\n",
       "      <td>00:40:00</td>\n",
       "      <td>...</td>\n",
       "      <td>23</td>\n",
       "      <td>59</td>\n",
       "      <td>34</td>\n",
       "      <td>2022-08-31 23:59:34</td>\n",
       "      <td>2022</td>\n",
       "      <td>9</td>\n",
       "      <td>1</td>\n",
       "      <td>0</td>\n",
       "      <td>40</td>\n",
       "      <td>57</td>\n",
       "    </tr>\n",
       "    <tr>\n",
       "      <th>11665821</th>\n",
       "      <td>마천동2공영주차장</td>\n",
       "      <td>1</td>\n",
       "      <td>서울특별시</td>\n",
       "      <td>송파구</td>\n",
       "      <td>서울특별시 송파구 성내천로299-7</td>\n",
       "      <td>NaN</td>\n",
       "      <td>DC차데모+AC3상+DC콤보</td>\n",
       "      <td>20220831235946</td>\n",
       "      <td>20220901003700</td>\n",
       "      <td>00:34:09</td>\n",
       "      <td>...</td>\n",
       "      <td>23</td>\n",
       "      <td>59</td>\n",
       "      <td>46</td>\n",
       "      <td>2022-08-31 23:59:46</td>\n",
       "      <td>2022</td>\n",
       "      <td>9</td>\n",
       "      <td>1</td>\n",
       "      <td>0</td>\n",
       "      <td>37</td>\n",
       "      <td>0</td>\n",
       "    </tr>\n",
       "  </tbody>\n",
       "</table>\n",
       "<p>5 rows × 25 columns</p>\n",
       "</div>"
      ],
      "text/plain": [
       "                 충전소명  충전기ID     지역  시군구                                주소  \\\n",
       "11665817  죽전휴게소(서울방향)      1    경기도  용인시      경기도 용인시 수지구 경부고속도로 400 (죽전동)   \n",
       "11665818     원주모범운전자회     21    강원도  원주시                   강원도 원주시 단구로 150   \n",
       "11665819     검단2공영주차장      1  인천광역시   서구  인천광역시 서구 당하동 1097-5  검단4동 주민센터 옆   \n",
       "11665820    강당골 공영주차장      1  대구광역시   남구              대구광역시 남구 봉덕동 1272-18   \n",
       "11665821    마천동2공영주차장      1  서울특별시  송파구               서울특별시 송파구 성내천로299-7   \n",
       "\n",
       "          충전기용량(kW)            충전기타입          충전시작일시          충전종료일시  \\\n",
       "11665817        NaN  DC차데모+AC3상+DC콤보  20220831235918  20220901004034   \n",
       "11665818        NaN             DC콤보  20220831235920  20220901001904   \n",
       "11665819        NaN  DC차데모+AC3상+DC콤보  20220831235931  20220901004251   \n",
       "11665820        NaN  DC차데모+AC3상+DC콤보  20220831235934  20220901004057   \n",
       "11665821        NaN  DC차데모+AC3상+DC콤보  20220831235946  20220901003700   \n",
       "\n",
       "              충전시간  ...  충전시작_시 충전시작_분  충전시작_초          충전시작일시(변환)  충전종료_년도  \\\n",
       "11665817  00:40:00  ...      23     59      18 2022-08-31 23:59:18     2022   \n",
       "11665818  00:19:43  ...      23     59      20 2022-08-31 23:59:20     2022   \n",
       "11665819  00:40:00  ...      23     59      31 2022-08-31 23:59:31     2022   \n",
       "11665820  00:40:00  ...      23     59      34 2022-08-31 23:59:34     2022   \n",
       "11665821  00:34:09  ...      23     59      46 2022-08-31 23:59:46     2022   \n",
       "\n",
       "          충전종료_월  충전종료_일  충전종료_시 충전종료_분  충전종료_초  \n",
       "11665817       9       1       0     40      34  \n",
       "11665818       9       1       0     19       4  \n",
       "11665819       9       1       0     42      51  \n",
       "11665820       9       1       0     40      57  \n",
       "11665821       9       1       0     37       0  \n",
       "\n",
       "[5 rows x 25 columns]"
      ]
     },
     "execution_count": 32,
     "metadata": {},
     "output_type": "execute_result"
    }
   ],
   "source": [
    "df.tail()"
   ]
  },
  {
   "cell_type": "markdown",
   "metadata": {},
   "source": [
    "#### 충전종료일시-초 오류 데이터\n",
    "- 1495개"
   ]
  },
  {
   "cell_type": "code",
   "execution_count": 33,
   "metadata": {},
   "outputs": [
    {
     "data": {
      "text/plain": [
       "(1495, 25)"
      ]
     },
     "execution_count": 33,
     "metadata": {},
     "output_type": "execute_result"
    }
   ],
   "source": [
    "df[df['충전종료_초'] >= 60].shape"
   ]
  },
  {
   "cell_type": "code",
   "execution_count": 34,
   "metadata": {},
   "outputs": [
    {
     "data": {
      "text/plain": [
       "1495"
      ]
     },
     "execution_count": 34,
     "metadata": {},
     "output_type": "execute_result"
    }
   ],
   "source": [
    "over_s_idx = df[df['충전종료_초'] >= 60].index\n",
    "len(over_s_idx)"
   ]
  },
  {
   "cell_type": "code",
   "execution_count": 35,
   "metadata": {},
   "outputs": [
    {
     "data": {
      "text/plain": [
       "Int64Index([1960560, 1964993, 1966556, 1976775, 2043371], dtype='int64')"
      ]
     },
     "execution_count": 35,
     "metadata": {},
     "output_type": "execute_result"
    }
   ],
   "source": [
    "over_s_idx[:5]"
   ]
  },
  {
   "cell_type": "code",
   "execution_count": 38,
   "metadata": {},
   "outputs": [
    {
     "data": {
      "text/plain": [
       "충전종료_분    30\n",
       "충전종료_초    99\n",
       "Name: 1960560, dtype: int32"
      ]
     },
     "execution_count": 38,
     "metadata": {},
     "output_type": "execute_result"
    }
   ],
   "source": [
    "df[['충전종료_분', '충전종료_초']].iloc[1960560]"
   ]
  },
  {
   "cell_type": "code",
   "execution_count": 39,
   "metadata": {},
   "outputs": [
    {
     "data": {
      "text/plain": [
       "99"
      ]
     },
     "execution_count": 39,
     "metadata": {},
     "output_type": "execute_result"
    }
   ],
   "source": [
    "df.loc[1960560, '충전종료_초']"
   ]
  },
  {
   "cell_type": "code",
   "execution_count": 40,
   "metadata": {},
   "outputs": [],
   "source": [
    "for i in over_s_idx:\n",
    "    df.loc[i, '충전종료_분'] += 1\n",
    "    df.loc[i, '충전종료_초'] -= 60"
   ]
  },
  {
   "cell_type": "code",
   "execution_count": 42,
   "metadata": {},
   "outputs": [
    {
     "data": {
      "text/plain": [
       "충전종료_분    31\n",
       "충전종료_초    39\n",
       "Name: 1960560, dtype: int32"
      ]
     },
     "execution_count": 42,
     "metadata": {},
     "output_type": "execute_result"
    }
   ],
   "source": [
    "df[['충전종료_분', '충전종료_초']].iloc[1960560]"
   ]
  },
  {
   "cell_type": "markdown",
   "metadata": {},
   "source": [
    "#### 충전종료일시-분 오류 데이터\n",
    "- 3270개"
   ]
  },
  {
   "cell_type": "code",
   "execution_count": 43,
   "metadata": {},
   "outputs": [
    {
     "data": {
      "text/plain": [
       "(3270, 25)"
      ]
     },
     "execution_count": 43,
     "metadata": {},
     "output_type": "execute_result"
    }
   ],
   "source": [
    "df[df['충전종료_분'] >= 60].shape"
   ]
  },
  {
   "cell_type": "code",
   "execution_count": 44,
   "metadata": {},
   "outputs": [
    {
     "data": {
      "text/plain": [
       "3270"
      ]
     },
     "execution_count": 44,
     "metadata": {},
     "output_type": "execute_result"
    }
   ],
   "source": [
    "over_m_idx = df[df['충전종료_분'] >= 60].index\n",
    "len(over_m_idx)"
   ]
  },
  {
   "cell_type": "code",
   "execution_count": 45,
   "metadata": {},
   "outputs": [
    {
     "data": {
      "text/plain": [
       "Int64Index([1964993, 1966556, 1968601, 1968849, 1970888], dtype='int64')"
      ]
     },
     "execution_count": 45,
     "metadata": {},
     "output_type": "execute_result"
    }
   ],
   "source": [
    "over_m_idx[:5]"
   ]
  },
  {
   "cell_type": "code",
   "execution_count": 46,
   "metadata": {},
   "outputs": [
    {
     "data": {
      "text/plain": [
       "충전종료_시    17\n",
       "충전종료_분    65\n",
       "Name: 1964993, dtype: int32"
      ]
     },
     "execution_count": 46,
     "metadata": {},
     "output_type": "execute_result"
    }
   ],
   "source": [
    "df[['충전종료_시', '충전종료_분']].iloc[1964993]"
   ]
  },
  {
   "cell_type": "code",
   "execution_count": 48,
   "metadata": {},
   "outputs": [
    {
     "data": {
      "text/plain": [
       "65"
      ]
     },
     "execution_count": 48,
     "metadata": {},
     "output_type": "execute_result"
    }
   ],
   "source": [
    "df.loc[1964993, '충전종료_분']"
   ]
  },
  {
   "cell_type": "code",
   "execution_count": 49,
   "metadata": {},
   "outputs": [],
   "source": [
    "for i in over_m_idx:\n",
    "    df.loc[i, '충전종료_시'] += 1\n",
    "    df.loc[i, '충전종료_분'] -= 60"
   ]
  },
  {
   "cell_type": "code",
   "execution_count": 50,
   "metadata": {},
   "outputs": [
    {
     "data": {
      "text/plain": [
       "5"
      ]
     },
     "execution_count": 50,
     "metadata": {},
     "output_type": "execute_result"
    }
   ],
   "source": [
    "df.loc[1964993, '충전종료_분']"
   ]
  },
  {
   "cell_type": "code",
   "execution_count": 51,
   "metadata": {},
   "outputs": [
    {
     "data": {
      "text/plain": [
       "충전종료_시    18\n",
       "충전종료_분     5\n",
       "Name: 1964993, dtype: int32"
      ]
     },
     "execution_count": 51,
     "metadata": {},
     "output_type": "execute_result"
    }
   ],
   "source": [
    "df[['충전종료_시', '충전종료_분']].iloc[1964993]"
   ]
  },
  {
   "cell_type": "markdown",
   "metadata": {},
   "source": [
    "#### 충전종료일시-시 오류 데이터\n",
    "- 71개"
   ]
  },
  {
   "cell_type": "code",
   "execution_count": 52,
   "metadata": {},
   "outputs": [
    {
     "data": {
      "text/plain": [
       "(71, 25)"
      ]
     },
     "execution_count": 52,
     "metadata": {},
     "output_type": "execute_result"
    }
   ],
   "source": [
    "df[df['충전종료_시'] >= 24].shape"
   ]
  },
  {
   "cell_type": "code",
   "execution_count": 53,
   "metadata": {},
   "outputs": [
    {
     "data": {
      "text/plain": [
       "71"
      ]
     },
     "execution_count": 53,
     "metadata": {},
     "output_type": "execute_result"
    }
   ],
   "source": [
    "over_h_idx = df[df['충전종료_시'] >= 24].index\n",
    "len(over_h_idx)"
   ]
  },
  {
   "cell_type": "code",
   "execution_count": 54,
   "metadata": {},
   "outputs": [
    {
     "data": {
      "text/plain": [
       "Int64Index([2168170, 2171801, 2189569, 2189571, 2192634], dtype='int64')"
      ]
     },
     "execution_count": 54,
     "metadata": {},
     "output_type": "execute_result"
    }
   ],
   "source": [
    "over_h_idx[:5]"
   ]
  },
  {
   "cell_type": "code",
   "execution_count": 56,
   "metadata": {},
   "outputs": [
    {
     "data": {
      "text/plain": [
       "충전종료_일    30\n",
       "충전종료_시    24\n",
       "Name: 2168170, dtype: int32"
      ]
     },
     "execution_count": 56,
     "metadata": {},
     "output_type": "execute_result"
    }
   ],
   "source": [
    "df[['충전종료_일', '충전종료_시']].iloc[2168170]"
   ]
  },
  {
   "cell_type": "code",
   "execution_count": 57,
   "metadata": {},
   "outputs": [],
   "source": [
    "for i in over_h_idx:\n",
    "    df.loc[i, '충전종료_일'] += 1\n",
    "    df.loc[i, '충전종료_시'] -= 24"
   ]
  },
  {
   "cell_type": "code",
   "execution_count": 58,
   "metadata": {},
   "outputs": [
    {
     "data": {
      "text/plain": [
       "충전종료_일    31\n",
       "충전종료_시     0\n",
       "Name: 2168170, dtype: int32"
      ]
     },
     "execution_count": 58,
     "metadata": {},
     "output_type": "execute_result"
    }
   ],
   "source": [
    "df[['충전종료_일', '충전종료_시']].iloc[2168170]"
   ]
  },
  {
   "cell_type": "markdown",
   "metadata": {},
   "source": [
    "#### 충전종료일시-일 오류 데이터\n",
    "- 3개(index) : 3232880, 2440150, 2775050"
   ]
  },
  {
   "cell_type": "code",
   "execution_count": 59,
   "metadata": {},
   "outputs": [
    {
     "data": {
      "text/plain": [
       "Int64Index([], dtype='int64')"
      ]
     },
     "execution_count": 59,
     "metadata": {},
     "output_type": "execute_result"
    }
   ],
   "source": [
    "df[(df['충전종료_월'] == 1) & (df['충전종료_일'] > 31)].index"
   ]
  },
  {
   "cell_type": "code",
   "execution_count": 60,
   "metadata": {},
   "outputs": [
    {
     "data": {
      "text/plain": [
       "Int64Index([3232880], dtype='int64')"
      ]
     },
     "execution_count": 60,
     "metadata": {},
     "output_type": "execute_result"
    }
   ],
   "source": [
    "df[(df['충전종료_년도'] == 2021) & (df['충전종료_월'] == 2) & (df['충전종료_일'] > 28)].index"
   ]
  },
  {
   "cell_type": "code",
   "execution_count": 61,
   "metadata": {},
   "outputs": [
    {
     "data": {
      "text/plain": [
       "Int64Index([], dtype='int64')"
      ]
     },
     "execution_count": 61,
     "metadata": {},
     "output_type": "execute_result"
    }
   ],
   "source": [
    "df[(df['충전종료_년도'] == 2022) & (df['충전종료_월'] == 2) & (df['충전종료_일'] > 28)].index"
   ]
  },
  {
   "cell_type": "code",
   "execution_count": 62,
   "metadata": {},
   "outputs": [
    {
     "data": {
      "text/plain": [
       "Int64Index([], dtype='int64')"
      ]
     },
     "execution_count": 62,
     "metadata": {},
     "output_type": "execute_result"
    }
   ],
   "source": [
    "# 2020년은 윤년\n",
    "df[(df['충전종료_년도'] == 2020) & (df['충전종료_월'] == 2) & (df['충전종료_일'] > 29)].index"
   ]
  },
  {
   "cell_type": "code",
   "execution_count": 63,
   "metadata": {},
   "outputs": [
    {
     "data": {
      "text/plain": [
       "Int64Index([], dtype='int64')"
      ]
     },
     "execution_count": 63,
     "metadata": {},
     "output_type": "execute_result"
    }
   ],
   "source": [
    "df[(df['충전종료_월'] == 3) & (df['충전종료_일'] > 31)].index"
   ]
  },
  {
   "cell_type": "code",
   "execution_count": 64,
   "metadata": {},
   "outputs": [
    {
     "data": {
      "text/plain": [
       "Int64Index([], dtype='int64')"
      ]
     },
     "execution_count": 64,
     "metadata": {},
     "output_type": "execute_result"
    }
   ],
   "source": [
    "df[(df['충전종료_월'] == 4) & (df['충전종료_일'] > 30)].index"
   ]
  },
  {
   "cell_type": "code",
   "execution_count": 65,
   "metadata": {},
   "outputs": [
    {
     "data": {
      "text/plain": [
       "Int64Index([], dtype='int64')"
      ]
     },
     "execution_count": 65,
     "metadata": {},
     "output_type": "execute_result"
    }
   ],
   "source": [
    "df[(df['충전종료_월'] == 5) & (df['충전종료_일'] > 31)].index"
   ]
  },
  {
   "cell_type": "code",
   "execution_count": 66,
   "metadata": {},
   "outputs": [
    {
     "data": {
      "text/plain": [
       "Int64Index([], dtype='int64')"
      ]
     },
     "execution_count": 66,
     "metadata": {},
     "output_type": "execute_result"
    }
   ],
   "source": [
    "df[(df['충전종료_월'] == 6) & (df['충전종료_일'] > 31)].index"
   ]
  },
  {
   "cell_type": "code",
   "execution_count": 67,
   "metadata": {},
   "outputs": [
    {
     "data": {
      "text/plain": [
       "Int64Index([], dtype='int64')"
      ]
     },
     "execution_count": 67,
     "metadata": {},
     "output_type": "execute_result"
    }
   ],
   "source": [
    "df[(df['충전종료_월'] == 7) & (df['충전종료_일'] > 31)].index"
   ]
  },
  {
   "cell_type": "code",
   "execution_count": 68,
   "metadata": {},
   "outputs": [
    {
     "data": {
      "text/plain": [
       "Int64Index([], dtype='int64')"
      ]
     },
     "execution_count": 68,
     "metadata": {},
     "output_type": "execute_result"
    }
   ],
   "source": [
    "df[(df['충전종료_월'] == 8) & (df['충전종료_일'] > 31)].index"
   ]
  },
  {
   "cell_type": "code",
   "execution_count": 69,
   "metadata": {},
   "outputs": [
    {
     "data": {
      "text/plain": [
       "Int64Index([], dtype='int64')"
      ]
     },
     "execution_count": 69,
     "metadata": {},
     "output_type": "execute_result"
    }
   ],
   "source": [
    "df[(df['충전종료_월'] == 9) & (df['충전종료_일'] > 30)].index"
   ]
  },
  {
   "cell_type": "code",
   "execution_count": 70,
   "metadata": {},
   "outputs": [
    {
     "data": {
      "text/plain": [
       "Int64Index([], dtype='int64')"
      ]
     },
     "execution_count": 70,
     "metadata": {},
     "output_type": "execute_result"
    }
   ],
   "source": [
    "df[(df['충전종료_월'] == 10) & (df['충전종료_일'] > 31)].index"
   ]
  },
  {
   "cell_type": "code",
   "execution_count": 71,
   "metadata": {},
   "outputs": [
    {
     "data": {
      "text/plain": [
       "Int64Index([2440150], dtype='int64')"
      ]
     },
     "execution_count": 71,
     "metadata": {},
     "output_type": "execute_result"
    }
   ],
   "source": [
    "df[(df['충전종료_월'] == 11) & (df['충전종료_일'] > 30)].index"
   ]
  },
  {
   "cell_type": "code",
   "execution_count": 72,
   "metadata": {},
   "outputs": [
    {
     "data": {
      "text/plain": [
       "Int64Index([2775050], dtype='int64')"
      ]
     },
     "execution_count": 72,
     "metadata": {},
     "output_type": "execute_result"
    }
   ],
   "source": [
    "df[(df['충전종료_월'] == 12) & (df['충전종료_일'] > 31)].index"
   ]
  },
  {
   "cell_type": "code",
   "execution_count": 73,
   "metadata": {},
   "outputs": [
    {
     "data": {
      "text/plain": [
       "충전종료_년도    2021\n",
       "충전종료_월        2\n",
       "충전종료_일       29\n",
       "Name: 3232880, dtype: object"
      ]
     },
     "execution_count": 73,
     "metadata": {},
     "output_type": "execute_result"
    }
   ],
   "source": [
    "check_col = ['충전종료_년도', '충전종료_월', '충전종료_일']\n",
    "df.loc[3232880, check_col]"
   ]
  },
  {
   "cell_type": "code",
   "execution_count": 74,
   "metadata": {},
   "outputs": [
    {
     "data": {
      "text/plain": [
       "충전종료_년도    2021\n",
       "충전종료_월        3\n",
       "충전종료_일        1\n",
       "Name: 3232880, dtype: object"
      ]
     },
     "execution_count": 74,
     "metadata": {},
     "output_type": "execute_result"
    }
   ],
   "source": [
    "df.loc[3232880, '충전종료_월'] = 3\n",
    "df.loc[3232880, '충전종료_일'] = 1\n",
    "df.loc[3232880, check_col]"
   ]
  },
  {
   "cell_type": "code",
   "execution_count": 75,
   "metadata": {},
   "outputs": [
    {
     "data": {
      "text/plain": [
       "충전종료_년도    2020\n",
       "충전종료_월       11\n",
       "충전종료_일       31\n",
       "Name: 2440150, dtype: object"
      ]
     },
     "execution_count": 75,
     "metadata": {},
     "output_type": "execute_result"
    }
   ],
   "source": [
    "df.loc[2440150, check_col]"
   ]
  },
  {
   "cell_type": "code",
   "execution_count": 76,
   "metadata": {},
   "outputs": [
    {
     "data": {
      "text/plain": [
       "충전종료_년도    2020\n",
       "충전종료_월       12\n",
       "충전종료_일        1\n",
       "Name: 2440150, dtype: object"
      ]
     },
     "execution_count": 76,
     "metadata": {},
     "output_type": "execute_result"
    }
   ],
   "source": [
    "df.loc[2440150, '충전종료_월'] = 12\n",
    "df.loc[2440150, '충전종료_일'] = 1\n",
    "df.loc[2440150, check_col]"
   ]
  },
  {
   "cell_type": "code",
   "execution_count": 77,
   "metadata": {},
   "outputs": [
    {
     "data": {
      "text/plain": [
       "충전종료_년도    2020\n",
       "충전종료_월       12\n",
       "충전종료_일       32\n",
       "Name: 2775050, dtype: object"
      ]
     },
     "execution_count": 77,
     "metadata": {},
     "output_type": "execute_result"
    }
   ],
   "source": [
    "df.loc[2775050, check_col]"
   ]
  },
  {
   "cell_type": "code",
   "execution_count": 78,
   "metadata": {},
   "outputs": [
    {
     "data": {
      "text/plain": [
       "충전종료_년도    2021\n",
       "충전종료_월        1\n",
       "충전종료_일        1\n",
       "Name: 2775050, dtype: object"
      ]
     },
     "execution_count": 78,
     "metadata": {},
     "output_type": "execute_result"
    }
   ],
   "source": [
    "df.loc[2775050, '충전종료_년도'] = 2021\n",
    "df.loc[2775050, '충전종료_월'] = 1\n",
    "df.loc[2775050, '충전종료_일'] = 1\n",
    "df.loc[2775050, check_col]"
   ]
  },
  {
   "cell_type": "markdown",
   "metadata": {},
   "source": [
    "#### 충전종료시간(변환)"
   ]
  },
  {
   "cell_type": "code",
   "execution_count": 80,
   "metadata": {},
   "outputs": [
    {
     "data": {
      "text/html": [
       "<div>\n",
       "<style scoped>\n",
       "    .dataframe tbody tr th:only-of-type {\n",
       "        vertical-align: middle;\n",
       "    }\n",
       "\n",
       "    .dataframe tbody tr th {\n",
       "        vertical-align: top;\n",
       "    }\n",
       "\n",
       "    .dataframe thead th {\n",
       "        text-align: right;\n",
       "    }\n",
       "</style>\n",
       "<table border=\"1\" class=\"dataframe\">\n",
       "  <thead>\n",
       "    <tr style=\"text-align: right;\">\n",
       "      <th></th>\n",
       "      <th>충전종료일시</th>\n",
       "      <th>충전시간</th>\n",
       "      <th>충전량</th>\n",
       "      <th>충전용량</th>\n",
       "      <th>충전시작_년도</th>\n",
       "      <th>충전시작_월</th>\n",
       "      <th>충전시작_일</th>\n",
       "      <th>충전시작_시</th>\n",
       "      <th>충전시작_분</th>\n",
       "      <th>충전시작_초</th>\n",
       "      <th>충전시작일시(변환)</th>\n",
       "      <th>충전종료_년도</th>\n",
       "      <th>충전종료_월</th>\n",
       "      <th>충전종료_일</th>\n",
       "      <th>충전종료_시</th>\n",
       "      <th>충전종료_분</th>\n",
       "      <th>충전종료_초</th>\n",
       "      <th>충전종료일시(변환)</th>\n",
       "    </tr>\n",
       "  </thead>\n",
       "  <tbody>\n",
       "    <tr>\n",
       "      <th>0</th>\n",
       "      <td>20200117201417</td>\n",
       "      <td>00:40:00</td>\n",
       "      <td>25.47000</td>\n",
       "      <td>NaN</td>\n",
       "      <td>2020</td>\n",
       "      <td>1</td>\n",
       "      <td>17</td>\n",
       "      <td>19</td>\n",
       "      <td>33</td>\n",
       "      <td>31</td>\n",
       "      <td>2020-01-17 19:33:31</td>\n",
       "      <td>2020</td>\n",
       "      <td>1</td>\n",
       "      <td>17</td>\n",
       "      <td>20</td>\n",
       "      <td>14</td>\n",
       "      <td>17</td>\n",
       "      <td>2020-1-17 20:14:17</td>\n",
       "    </tr>\n",
       "    <tr>\n",
       "      <th>1</th>\n",
       "      <td>20200130150645</td>\n",
       "      <td>00:30:31</td>\n",
       "      <td>17.57000</td>\n",
       "      <td>NaN</td>\n",
       "      <td>2020</td>\n",
       "      <td>1</td>\n",
       "      <td>30</td>\n",
       "      <td>14</td>\n",
       "      <td>35</td>\n",
       "      <td>45</td>\n",
       "      <td>2020-01-30 14:35:45</td>\n",
       "      <td>2020</td>\n",
       "      <td>1</td>\n",
       "      <td>30</td>\n",
       "      <td>15</td>\n",
       "      <td>6</td>\n",
       "      <td>45</td>\n",
       "      <td>2020-1-30 15:6:45</td>\n",
       "    </tr>\n",
       "    <tr>\n",
       "      <th>2</th>\n",
       "      <td>20200105011329</td>\n",
       "      <td>00:15:35</td>\n",
       "      <td>6.98000</td>\n",
       "      <td>NaN</td>\n",
       "      <td>2020</td>\n",
       "      <td>1</td>\n",
       "      <td>5</td>\n",
       "      <td>0</td>\n",
       "      <td>57</td>\n",
       "      <td>28</td>\n",
       "      <td>2020-01-05 00:57:28</td>\n",
       "      <td>2020</td>\n",
       "      <td>1</td>\n",
       "      <td>5</td>\n",
       "      <td>1</td>\n",
       "      <td>13</td>\n",
       "      <td>29</td>\n",
       "      <td>2020-1-5 1:13:29</td>\n",
       "    </tr>\n",
       "    <tr>\n",
       "      <th>3</th>\n",
       "      <td>20200120124708</td>\n",
       "      <td>00:41:00</td>\n",
       "      <td>15.30000</td>\n",
       "      <td>NaN</td>\n",
       "      <td>2020</td>\n",
       "      <td>1</td>\n",
       "      <td>20</td>\n",
       "      <td>12</td>\n",
       "      <td>2</td>\n",
       "      <td>15</td>\n",
       "      <td>2020-01-20 12:02:15</td>\n",
       "      <td>2020</td>\n",
       "      <td>1</td>\n",
       "      <td>20</td>\n",
       "      <td>12</td>\n",
       "      <td>47</td>\n",
       "      <td>8</td>\n",
       "      <td>2020-1-20 12:47:8</td>\n",
       "    </tr>\n",
       "    <tr>\n",
       "      <th>4</th>\n",
       "      <td>20200123092554</td>\n",
       "      <td>00:31:14</td>\n",
       "      <td>21.92000</td>\n",
       "      <td>NaN</td>\n",
       "      <td>2020</td>\n",
       "      <td>1</td>\n",
       "      <td>23</td>\n",
       "      <td>8</td>\n",
       "      <td>54</td>\n",
       "      <td>17</td>\n",
       "      <td>2020-01-23 08:54:17</td>\n",
       "      <td>2020</td>\n",
       "      <td>1</td>\n",
       "      <td>23</td>\n",
       "      <td>9</td>\n",
       "      <td>25</td>\n",
       "      <td>54</td>\n",
       "      <td>2020-1-23 9:25:54</td>\n",
       "    </tr>\n",
       "  </tbody>\n",
       "</table>\n",
       "</div>"
      ],
      "text/plain": [
       "           충전종료일시      충전시간      충전량 충전용량  충전시작_년도  충전시작_월  충전시작_일  충전시작_시  \\\n",
       "0  20200117201417  00:40:00 25.47000  NaN     2020       1      17      19   \n",
       "1  20200130150645  00:30:31 17.57000  NaN     2020       1      30      14   \n",
       "2  20200105011329  00:15:35  6.98000  NaN     2020       1       5       0   \n",
       "3  20200120124708  00:41:00 15.30000  NaN     2020       1      20      12   \n",
       "4  20200123092554  00:31:14 21.92000  NaN     2020       1      23       8   \n",
       "\n",
       "   충전시작_분  충전시작_초          충전시작일시(변환)  충전종료_년도  충전종료_월  충전종료_일  충전종료_시  \\\n",
       "0      33      31 2020-01-17 19:33:31     2020       1      17      20   \n",
       "1      35      45 2020-01-30 14:35:45     2020       1      30      15   \n",
       "2      57      28 2020-01-05 00:57:28     2020       1       5       1   \n",
       "3       2      15 2020-01-20 12:02:15     2020       1      20      12   \n",
       "4      54      17 2020-01-23 08:54:17     2020       1      23       9   \n",
       "\n",
       "   충전종료_분  충전종료_초          충전종료일시(변환)  \n",
       "0      14      17  2020-1-17 20:14:17  \n",
       "1       6      45   2020-1-30 15:6:45  \n",
       "2      13      29    2020-1-5 1:13:29  \n",
       "3      47       8   2020-1-20 12:47:8  \n",
       "4      25      54   2020-1-23 9:25:54  "
      ]
     },
     "execution_count": 80,
     "metadata": {},
     "output_type": "execute_result"
    }
   ],
   "source": [
    "df['충전종료일시(변환)'] = df['충전종료_년도'].astype(str) + '-' +  df['충전종료_월'].astype(str) + '-' + df['충전종료_일'].astype(str) + ' ' + df['충전종료_시'].astype(str) + ':' + df['충전종료_분'].astype(str) + ':' + df['충전종료_초'].astype(str)\n",
    "df.iloc[:5,8:]"
   ]
  },
  {
   "cell_type": "code",
   "execution_count": 81,
   "metadata": {},
   "outputs": [],
   "source": [
    "df['충전종료일시(변환)'] = pd.to_datetime(df['충전종료일시(변환)'])"
   ]
  },
  {
   "cell_type": "code",
   "execution_count": 82,
   "metadata": {},
   "outputs": [
    {
     "data": {
      "text/html": [
       "<div>\n",
       "<style scoped>\n",
       "    .dataframe tbody tr th:only-of-type {\n",
       "        vertical-align: middle;\n",
       "    }\n",
       "\n",
       "    .dataframe tbody tr th {\n",
       "        vertical-align: top;\n",
       "    }\n",
       "\n",
       "    .dataframe thead th {\n",
       "        text-align: right;\n",
       "    }\n",
       "</style>\n",
       "<table border=\"1\" class=\"dataframe\">\n",
       "  <thead>\n",
       "    <tr style=\"text-align: right;\">\n",
       "      <th></th>\n",
       "      <th>충전소명</th>\n",
       "      <th>충전기ID</th>\n",
       "      <th>지역</th>\n",
       "      <th>시군구</th>\n",
       "      <th>주소</th>\n",
       "      <th>충전기용량(kW)</th>\n",
       "      <th>충전기타입</th>\n",
       "      <th>충전시작일시</th>\n",
       "      <th>충전종료일시</th>\n",
       "      <th>충전시간</th>\n",
       "      <th>...</th>\n",
       "      <th>충전시작_초</th>\n",
       "      <th>충전시작일시(변환)</th>\n",
       "      <th>충전종료_년도</th>\n",
       "      <th>충전종료_월</th>\n",
       "      <th>충전종료_일</th>\n",
       "      <th>충전종료_시</th>\n",
       "      <th>충전종료_분</th>\n",
       "      <th>충전종료_초</th>\n",
       "      <th>충전종료일시(변환)</th>\n",
       "      <th>충전시간(계산)</th>\n",
       "    </tr>\n",
       "  </thead>\n",
       "  <tbody>\n",
       "    <tr>\n",
       "      <th>0</th>\n",
       "      <td>내린천휴게소 양양방향</td>\n",
       "      <td>1</td>\n",
       "      <td>강원도</td>\n",
       "      <td>인제군</td>\n",
       "      <td>강원도 인제군 상남면 하남리 339-7(양양방향)</td>\n",
       "      <td>50.00000</td>\n",
       "      <td>DC차데모+AC3상+DC콤보</td>\n",
       "      <td>20200117193331</td>\n",
       "      <td>20200117201417</td>\n",
       "      <td>00:40:00</td>\n",
       "      <td>...</td>\n",
       "      <td>31</td>\n",
       "      <td>2020-01-17 19:33:31</td>\n",
       "      <td>2020</td>\n",
       "      <td>1</td>\n",
       "      <td>17</td>\n",
       "      <td>20</td>\n",
       "      <td>14</td>\n",
       "      <td>17</td>\n",
       "      <td>2020-01-17 20:14:17</td>\n",
       "      <td>0 days 00:40:46</td>\n",
       "    </tr>\n",
       "    <tr>\n",
       "      <th>1</th>\n",
       "      <td>내린천휴게소 양양방향</td>\n",
       "      <td>1</td>\n",
       "      <td>강원도</td>\n",
       "      <td>인제군</td>\n",
       "      <td>강원도 인제군 상남면 하남리 339-7(양양방향)</td>\n",
       "      <td>50.00000</td>\n",
       "      <td>DC차데모+AC3상+DC콤보</td>\n",
       "      <td>20200130143545</td>\n",
       "      <td>20200130150645</td>\n",
       "      <td>00:30:31</td>\n",
       "      <td>...</td>\n",
       "      <td>45</td>\n",
       "      <td>2020-01-30 14:35:45</td>\n",
       "      <td>2020</td>\n",
       "      <td>1</td>\n",
       "      <td>30</td>\n",
       "      <td>15</td>\n",
       "      <td>6</td>\n",
       "      <td>45</td>\n",
       "      <td>2020-01-30 15:06:45</td>\n",
       "      <td>0 days 00:31:00</td>\n",
       "    </tr>\n",
       "    <tr>\n",
       "      <th>2</th>\n",
       "      <td>내린천휴게소 양양방향</td>\n",
       "      <td>1</td>\n",
       "      <td>강원도</td>\n",
       "      <td>인제군</td>\n",
       "      <td>강원도 인제군 상남면 하남리 339-7(양양방향)</td>\n",
       "      <td>50.00000</td>\n",
       "      <td>DC차데모+AC3상+DC콤보</td>\n",
       "      <td>20200105005728</td>\n",
       "      <td>20200105011329</td>\n",
       "      <td>00:15:35</td>\n",
       "      <td>...</td>\n",
       "      <td>28</td>\n",
       "      <td>2020-01-05 00:57:28</td>\n",
       "      <td>2020</td>\n",
       "      <td>1</td>\n",
       "      <td>5</td>\n",
       "      <td>1</td>\n",
       "      <td>13</td>\n",
       "      <td>29</td>\n",
       "      <td>2020-01-05 01:13:29</td>\n",
       "      <td>0 days 00:16:01</td>\n",
       "    </tr>\n",
       "    <tr>\n",
       "      <th>3</th>\n",
       "      <td>내린천휴게소 양양방향</td>\n",
       "      <td>3</td>\n",
       "      <td>강원도</td>\n",
       "      <td>인제군</td>\n",
       "      <td>강원도 인제군 상남면 하남리 339-7(양양방향)</td>\n",
       "      <td>100.00000</td>\n",
       "      <td>DC콤보</td>\n",
       "      <td>20200120120215</td>\n",
       "      <td>20200120124708</td>\n",
       "      <td>00:41:00</td>\n",
       "      <td>...</td>\n",
       "      <td>15</td>\n",
       "      <td>2020-01-20 12:02:15</td>\n",
       "      <td>2020</td>\n",
       "      <td>1</td>\n",
       "      <td>20</td>\n",
       "      <td>12</td>\n",
       "      <td>47</td>\n",
       "      <td>8</td>\n",
       "      <td>2020-01-20 12:47:08</td>\n",
       "      <td>0 days 00:44:53</td>\n",
       "    </tr>\n",
       "    <tr>\n",
       "      <th>4</th>\n",
       "      <td>한국광기술원</td>\n",
       "      <td>1</td>\n",
       "      <td>광주광역시</td>\n",
       "      <td>북구</td>\n",
       "      <td>광주광역시 북구 첨단 벤처로 108번길 9</td>\n",
       "      <td>50.00000</td>\n",
       "      <td>DC차데모+AC3상+DC콤보</td>\n",
       "      <td>20200123085417</td>\n",
       "      <td>20200123092554</td>\n",
       "      <td>00:31:14</td>\n",
       "      <td>...</td>\n",
       "      <td>17</td>\n",
       "      <td>2020-01-23 08:54:17</td>\n",
       "      <td>2020</td>\n",
       "      <td>1</td>\n",
       "      <td>23</td>\n",
       "      <td>9</td>\n",
       "      <td>25</td>\n",
       "      <td>54</td>\n",
       "      <td>2020-01-23 09:25:54</td>\n",
       "      <td>0 days 00:31:37</td>\n",
       "    </tr>\n",
       "  </tbody>\n",
       "</table>\n",
       "<p>5 rows × 27 columns</p>\n",
       "</div>"
      ],
      "text/plain": [
       "          충전소명  충전기ID     지역  시군구                           주소  충전기용량(kW)  \\\n",
       "0  내린천휴게소 양양방향      1    강원도  인제군  강원도 인제군 상남면 하남리 339-7(양양방향)   50.00000   \n",
       "1  내린천휴게소 양양방향      1    강원도  인제군  강원도 인제군 상남면 하남리 339-7(양양방향)   50.00000   \n",
       "2  내린천휴게소 양양방향      1    강원도  인제군  강원도 인제군 상남면 하남리 339-7(양양방향)   50.00000   \n",
       "3  내린천휴게소 양양방향      3    강원도  인제군  강원도 인제군 상남면 하남리 339-7(양양방향)  100.00000   \n",
       "4       한국광기술원      1  광주광역시   북구      광주광역시 북구 첨단 벤처로 108번길 9   50.00000   \n",
       "\n",
       "             충전기타입          충전시작일시          충전종료일시      충전시간  ...  충전시작_초  \\\n",
       "0  DC차데모+AC3상+DC콤보  20200117193331  20200117201417  00:40:00  ...      31   \n",
       "1  DC차데모+AC3상+DC콤보  20200130143545  20200130150645  00:30:31  ...      45   \n",
       "2  DC차데모+AC3상+DC콤보  20200105005728  20200105011329  00:15:35  ...      28   \n",
       "3             DC콤보  20200120120215  20200120124708  00:41:00  ...      15   \n",
       "4  DC차데모+AC3상+DC콤보  20200123085417  20200123092554  00:31:14  ...      17   \n",
       "\n",
       "           충전시작일시(변환)  충전종료_년도  충전종료_월  충전종료_일  충전종료_시  충전종료_분  충전종료_초  \\\n",
       "0 2020-01-17 19:33:31     2020       1      17      20      14      17   \n",
       "1 2020-01-30 14:35:45     2020       1      30      15       6      45   \n",
       "2 2020-01-05 00:57:28     2020       1       5       1      13      29   \n",
       "3 2020-01-20 12:02:15     2020       1      20      12      47       8   \n",
       "4 2020-01-23 08:54:17     2020       1      23       9      25      54   \n",
       "\n",
       "           충전종료일시(변환)        충전시간(계산)  \n",
       "0 2020-01-17 20:14:17 0 days 00:40:46  \n",
       "1 2020-01-30 15:06:45 0 days 00:31:00  \n",
       "2 2020-01-05 01:13:29 0 days 00:16:01  \n",
       "3 2020-01-20 12:47:08 0 days 00:44:53  \n",
       "4 2020-01-23 09:25:54 0 days 00:31:37  \n",
       "\n",
       "[5 rows x 27 columns]"
      ]
     },
     "execution_count": 82,
     "metadata": {},
     "output_type": "execute_result"
    }
   ],
   "source": [
    "df['충전시간(계산)'] = df['충전종료일시(변환)'] - df['충전시작일시(변환)']\n",
    "df.head()"
   ]
  },
  {
   "cell_type": "markdown",
   "metadata": {},
   "source": [
    "### 충전기용량과 충전용량 합치기"
   ]
  },
  {
   "cell_type": "code",
   "execution_count": 95,
   "metadata": {},
   "outputs": [
    {
     "name": "stdout",
     "output_type": "stream",
     "text": [
      "<class 'pandas.core.frame.DataFrame'>\n",
      "RangeIndex: 11665822 entries, 0 to 11665821\n",
      "Data columns (total 27 columns):\n",
      " #   Column      Dtype          \n",
      "---  ------      -----          \n",
      " 0   충전소명        object         \n",
      " 1   충전기ID       int16          \n",
      " 2   지역          object         \n",
      " 3   시군구         object         \n",
      " 4   주소          object         \n",
      " 5   충전기용량(kW)   float64        \n",
      " 6   충전기타입       object         \n",
      " 7   충전시작일시      int64          \n",
      " 8   충전종료일시      object         \n",
      " 9   충전시간        object         \n",
      " 10  충전량         float64        \n",
      " 11  충전용량        object         \n",
      " 12  충전시작_년도     int32          \n",
      " 13  충전시작_월      int32          \n",
      " 14  충전시작_일      int32          \n",
      " 15  충전시작_시      int32          \n",
      " 16  충전시작_분      int32          \n",
      " 17  충전시작_초      int32          \n",
      " 18  충전시작일시(변환)  datetime64[ns] \n",
      " 19  충전종료_년도     int32          \n",
      " 20  충전종료_월      int32          \n",
      " 21  충전종료_일      int32          \n",
      " 22  충전종료_시      int32          \n",
      " 23  충전종료_분      int32          \n",
      " 24  충전종료_초      int32          \n",
      " 25  충전종료일시(변환)  datetime64[ns] \n",
      " 26  충전시간(계산)    timedelta64[ns]\n",
      "dtypes: datetime64[ns](2), float64(2), int16(1), int32(12), int64(1), object(8), timedelta64[ns](1)\n",
      "memory usage: 1.8+ GB\n"
     ]
    }
   ],
   "source": [
    "df = df.sort_values(by=['충전시작_년도', '충전시작_월', '충전시작_일', '충전시작_시', '충전시작_분', '충전시작_초']).reset_index(drop=True)\n",
    "df.info()"
   ]
  },
  {
   "cell_type": "code",
   "execution_count": 96,
   "metadata": {},
   "outputs": [
    {
     "data": {
      "text/html": [
       "<div>\n",
       "<style scoped>\n",
       "    .dataframe tbody tr th:only-of-type {\n",
       "        vertical-align: middle;\n",
       "    }\n",
       "\n",
       "    .dataframe tbody tr th {\n",
       "        vertical-align: top;\n",
       "    }\n",
       "\n",
       "    .dataframe thead th {\n",
       "        text-align: right;\n",
       "    }\n",
       "</style>\n",
       "<table border=\"1\" class=\"dataframe\">\n",
       "  <thead>\n",
       "    <tr style=\"text-align: right;\">\n",
       "      <th></th>\n",
       "      <th>충전소명</th>\n",
       "      <th>충전기ID</th>\n",
       "      <th>지역</th>\n",
       "      <th>시군구</th>\n",
       "      <th>주소</th>\n",
       "      <th>충전기용량(kW)</th>\n",
       "      <th>충전기타입</th>\n",
       "      <th>충전시작일시</th>\n",
       "      <th>충전종료일시</th>\n",
       "      <th>충전시간</th>\n",
       "      <th>...</th>\n",
       "      <th>충전시작_초</th>\n",
       "      <th>충전시작일시(변환)</th>\n",
       "      <th>충전종료_년도</th>\n",
       "      <th>충전종료_월</th>\n",
       "      <th>충전종료_일</th>\n",
       "      <th>충전종료_시</th>\n",
       "      <th>충전종료_분</th>\n",
       "      <th>충전종료_초</th>\n",
       "      <th>충전종료일시(변환)</th>\n",
       "      <th>충전시간(계산)</th>\n",
       "    </tr>\n",
       "  </thead>\n",
       "  <tbody>\n",
       "    <tr>\n",
       "      <th>2796609</th>\n",
       "      <td>시흥제4동공영주차장</td>\n",
       "      <td>1</td>\n",
       "      <td>서울특별시</td>\n",
       "      <td>금천구</td>\n",
       "      <td>서울특별시 금천구 독산로 36나길 21, B1 18</td>\n",
       "      <td>50.00000</td>\n",
       "      <td>DC차데모+AC3상+DC콤보</td>\n",
       "      <td>20201231235808</td>\n",
       "      <td>20210101002023</td>\n",
       "      <td>00:21:51</td>\n",
       "      <td>...</td>\n",
       "      <td>8</td>\n",
       "      <td>2020-12-31 23:58:08</td>\n",
       "      <td>2021</td>\n",
       "      <td>1</td>\n",
       "      <td>1</td>\n",
       "      <td>0</td>\n",
       "      <td>20</td>\n",
       "      <td>23</td>\n",
       "      <td>2021-01-01 00:20:23</td>\n",
       "      <td>0 days 00:22:15</td>\n",
       "    </tr>\n",
       "    <tr>\n",
       "      <th>2796610</th>\n",
       "      <td>건천휴게소(부산방향)</td>\n",
       "      <td>1</td>\n",
       "      <td>경상북도</td>\n",
       "      <td>경주시</td>\n",
       "      <td>경상북도 경주시 건천읍 경부고속도로 77 (방내리)</td>\n",
       "      <td>50.00000</td>\n",
       "      <td>DC차데모+AC3상+DC콤보</td>\n",
       "      <td>20201231235811</td>\n",
       "      <td>20210101003023</td>\n",
       "      <td>00:31:50</td>\n",
       "      <td>...</td>\n",
       "      <td>11</td>\n",
       "      <td>2020-12-31 23:58:11</td>\n",
       "      <td>2021</td>\n",
       "      <td>1</td>\n",
       "      <td>1</td>\n",
       "      <td>0</td>\n",
       "      <td>30</td>\n",
       "      <td>23</td>\n",
       "      <td>2021-01-01 00:30:23</td>\n",
       "      <td>0 days 00:32:12</td>\n",
       "    </tr>\n",
       "    <tr>\n",
       "      <th>2796611</th>\n",
       "      <td>중부지방고용노동청 별관 앞</td>\n",
       "      <td>1</td>\n",
       "      <td>인천광역시</td>\n",
       "      <td>남동구</td>\n",
       "      <td>인천광역시 남동구 구월3동 1111-6  중부지방고용노동청 별관 앞</td>\n",
       "      <td>50.00000</td>\n",
       "      <td>DC차데모+AC3상+DC콤보</td>\n",
       "      <td>20201231235836</td>\n",
       "      <td>20210101001905</td>\n",
       "      <td>00:20:02</td>\n",
       "      <td>...</td>\n",
       "      <td>36</td>\n",
       "      <td>2020-12-31 23:58:36</td>\n",
       "      <td>2021</td>\n",
       "      <td>1</td>\n",
       "      <td>1</td>\n",
       "      <td>0</td>\n",
       "      <td>19</td>\n",
       "      <td>5</td>\n",
       "      <td>2021-01-01 00:19:05</td>\n",
       "      <td>0 days 00:20:29</td>\n",
       "    </tr>\n",
       "    <tr>\n",
       "      <th>2796612</th>\n",
       "      <td>세종중앙공원주차장2</td>\n",
       "      <td>2</td>\n",
       "      <td>세종특별자치시</td>\n",
       "      <td>연기면</td>\n",
       "      <td>세종특별자치시 연기면 수목원로 136</td>\n",
       "      <td>100.00000</td>\n",
       "      <td>DC콤보</td>\n",
       "      <td>20201231235931</td>\n",
       "      <td>20210101003714</td>\n",
       "      <td>00:37:43</td>\n",
       "      <td>...</td>\n",
       "      <td>31</td>\n",
       "      <td>2020-12-31 23:59:31</td>\n",
       "      <td>2021</td>\n",
       "      <td>1</td>\n",
       "      <td>1</td>\n",
       "      <td>0</td>\n",
       "      <td>37</td>\n",
       "      <td>14</td>\n",
       "      <td>2021-01-01 00:37:14</td>\n",
       "      <td>0 days 00:37:43</td>\n",
       "    </tr>\n",
       "    <tr>\n",
       "      <th>2796613</th>\n",
       "      <td>부석면주민자치센터</td>\n",
       "      <td>1</td>\n",
       "      <td>충청남도</td>\n",
       "      <td>서산시</td>\n",
       "      <td>충청남도 서산시 부석면 취평리 364-2</td>\n",
       "      <td>100.00000</td>\n",
       "      <td>DC차데모+AC3상+DC콤보</td>\n",
       "      <td>20201231235955</td>\n",
       "      <td>20210101001316</td>\n",
       "      <td>00:12:21</td>\n",
       "      <td>...</td>\n",
       "      <td>55</td>\n",
       "      <td>2020-12-31 23:59:55</td>\n",
       "      <td>2021</td>\n",
       "      <td>1</td>\n",
       "      <td>1</td>\n",
       "      <td>0</td>\n",
       "      <td>13</td>\n",
       "      <td>16</td>\n",
       "      <td>2021-01-01 00:13:16</td>\n",
       "      <td>0 days 00:13:21</td>\n",
       "    </tr>\n",
       "  </tbody>\n",
       "</table>\n",
       "<p>5 rows × 27 columns</p>\n",
       "</div>"
      ],
      "text/plain": [
       "                   충전소명  충전기ID       지역  시군구  \\\n",
       "2796609      시흥제4동공영주차장      1    서울특별시  금천구   \n",
       "2796610     건천휴게소(부산방향)      1     경상북도  경주시   \n",
       "2796611  중부지방고용노동청 별관 앞      1    인천광역시  남동구   \n",
       "2796612      세종중앙공원주차장2      2  세종특별자치시  연기면   \n",
       "2796613       부석면주민자치센터      1     충청남도  서산시   \n",
       "\n",
       "                                            주소  충전기용량(kW)            충전기타입  \\\n",
       "2796609           서울특별시 금천구 독산로 36나길 21, B1 18   50.00000  DC차데모+AC3상+DC콤보   \n",
       "2796610           경상북도 경주시 건천읍 경부고속도로 77 (방내리)   50.00000  DC차데모+AC3상+DC콤보   \n",
       "2796611  인천광역시 남동구 구월3동 1111-6  중부지방고용노동청 별관 앞   50.00000  DC차데모+AC3상+DC콤보   \n",
       "2796612                   세종특별자치시 연기면 수목원로 136  100.00000             DC콤보   \n",
       "2796613                 충청남도 서산시 부석면 취평리 364-2  100.00000  DC차데모+AC3상+DC콤보   \n",
       "\n",
       "                 충전시작일시          충전종료일시      충전시간  ...  충전시작_초  \\\n",
       "2796609  20201231235808  20210101002023  00:21:51  ...       8   \n",
       "2796610  20201231235811  20210101003023  00:31:50  ...      11   \n",
       "2796611  20201231235836  20210101001905  00:20:02  ...      36   \n",
       "2796612  20201231235931  20210101003714  00:37:43  ...      31   \n",
       "2796613  20201231235955  20210101001316  00:12:21  ...      55   \n",
       "\n",
       "                 충전시작일시(변환)  충전종료_년도  충전종료_월  충전종료_일  충전종료_시  충전종료_분  충전종료_초  \\\n",
       "2796609 2020-12-31 23:58:08     2021       1       1       0      20      23   \n",
       "2796610 2020-12-31 23:58:11     2021       1       1       0      30      23   \n",
       "2796611 2020-12-31 23:58:36     2021       1       1       0      19       5   \n",
       "2796612 2020-12-31 23:59:31     2021       1       1       0      37      14   \n",
       "2796613 2020-12-31 23:59:55     2021       1       1       0      13      16   \n",
       "\n",
       "                 충전종료일시(변환)        충전시간(계산)  \n",
       "2796609 2021-01-01 00:20:23 0 days 00:22:15  \n",
       "2796610 2021-01-01 00:30:23 0 days 00:32:12  \n",
       "2796611 2021-01-01 00:19:05 0 days 00:20:29  \n",
       "2796612 2021-01-01 00:37:14 0 days 00:37:43  \n",
       "2796613 2021-01-01 00:13:16 0 days 00:13:21  \n",
       "\n",
       "[5 rows x 27 columns]"
      ]
     },
     "execution_count": 96,
     "metadata": {},
     "output_type": "execute_result"
    }
   ],
   "source": [
    "df[df['충전시작_년도'] == 2020].tail()"
   ]
  },
  {
   "cell_type": "code",
   "execution_count": 97,
   "metadata": {},
   "outputs": [
    {
     "data": {
      "text/html": [
       "<div>\n",
       "<style scoped>\n",
       "    .dataframe tbody tr th:only-of-type {\n",
       "        vertical-align: middle;\n",
       "    }\n",
       "\n",
       "    .dataframe tbody tr th {\n",
       "        vertical-align: top;\n",
       "    }\n",
       "\n",
       "    .dataframe thead th {\n",
       "        text-align: right;\n",
       "    }\n",
       "</style>\n",
       "<table border=\"1\" class=\"dataframe\">\n",
       "  <thead>\n",
       "    <tr style=\"text-align: right;\">\n",
       "      <th></th>\n",
       "      <th>충전소명</th>\n",
       "      <th>충전기ID</th>\n",
       "      <th>지역</th>\n",
       "      <th>시군구</th>\n",
       "      <th>주소</th>\n",
       "      <th>충전기용량(kW)</th>\n",
       "      <th>충전기타입</th>\n",
       "      <th>충전시작일시</th>\n",
       "      <th>충전종료일시</th>\n",
       "      <th>충전시간</th>\n",
       "      <th>...</th>\n",
       "      <th>충전시작_초</th>\n",
       "      <th>충전시작일시(변환)</th>\n",
       "      <th>충전종료_년도</th>\n",
       "      <th>충전종료_월</th>\n",
       "      <th>충전종료_일</th>\n",
       "      <th>충전종료_시</th>\n",
       "      <th>충전종료_분</th>\n",
       "      <th>충전종료_초</th>\n",
       "      <th>충전종료일시(변환)</th>\n",
       "      <th>충전시간(계산)</th>\n",
       "    </tr>\n",
       "  </thead>\n",
       "  <tbody>\n",
       "    <tr>\n",
       "      <th>2796614</th>\n",
       "      <td>칠곡3지구 공영주차장</td>\n",
       "      <td>42</td>\n",
       "      <td>대구광역시</td>\n",
       "      <td>북구</td>\n",
       "      <td>대구광역시 북구 구암동 771-2</td>\n",
       "      <td>NaN</td>\n",
       "      <td>DC콤보</td>\n",
       "      <td>20210101000032</td>\n",
       "      <td>20210101002547</td>\n",
       "      <td>00:25:16</td>\n",
       "      <td>...</td>\n",
       "      <td>32</td>\n",
       "      <td>2021-01-01 00:00:32</td>\n",
       "      <td>2021</td>\n",
       "      <td>1</td>\n",
       "      <td>1</td>\n",
       "      <td>0</td>\n",
       "      <td>25</td>\n",
       "      <td>47</td>\n",
       "      <td>2021-01-01 00:25:47</td>\n",
       "      <td>0 days 00:25:15</td>\n",
       "    </tr>\n",
       "    <tr>\n",
       "      <th>2796615</th>\n",
       "      <td>망향휴게소(부산방향)</td>\n",
       "      <td>1</td>\n",
       "      <td>충청남도</td>\n",
       "      <td>천안시</td>\n",
       "      <td>충청남도 천안시 서북구 성거읍 돌다리길 23-37</td>\n",
       "      <td>NaN</td>\n",
       "      <td>DC차데모+AC3상+DC콤보</td>\n",
       "      <td>20210101000034</td>\n",
       "      <td>20210101001118</td>\n",
       "      <td>00:09:51</td>\n",
       "      <td>...</td>\n",
       "      <td>34</td>\n",
       "      <td>2021-01-01 00:00:34</td>\n",
       "      <td>2021</td>\n",
       "      <td>1</td>\n",
       "      <td>1</td>\n",
       "      <td>0</td>\n",
       "      <td>11</td>\n",
       "      <td>18</td>\n",
       "      <td>2021-01-01 00:11:18</td>\n",
       "      <td>0 days 00:10:44</td>\n",
       "    </tr>\n",
       "    <tr>\n",
       "      <th>2796616</th>\n",
       "      <td>관악역 3환승 공영주차장</td>\n",
       "      <td>1</td>\n",
       "      <td>경기도</td>\n",
       "      <td>안양시</td>\n",
       "      <td>경기도 안양시 만안구 석수1동 110-26  입구 맨끝 왼쪽</td>\n",
       "      <td>NaN</td>\n",
       "      <td>DC차데모+AC3상+DC콤보</td>\n",
       "      <td>20210101000043</td>\n",
       "      <td>20210101002454</td>\n",
       "      <td>00:23:47</td>\n",
       "      <td>...</td>\n",
       "      <td>43</td>\n",
       "      <td>2021-01-01 00:00:43</td>\n",
       "      <td>2021</td>\n",
       "      <td>1</td>\n",
       "      <td>1</td>\n",
       "      <td>0</td>\n",
       "      <td>24</td>\n",
       "      <td>54</td>\n",
       "      <td>2021-01-01 00:24:54</td>\n",
       "      <td>0 days 00:24:11</td>\n",
       "    </tr>\n",
       "    <tr>\n",
       "      <th>2796617</th>\n",
       "      <td>평창휴게소(강릉방향)</td>\n",
       "      <td>1</td>\n",
       "      <td>강원도</td>\n",
       "      <td>평창군</td>\n",
       "      <td>강원도 평창군 용평면 경강로 2159-58</td>\n",
       "      <td>NaN</td>\n",
       "      <td>DC차데모+AC3상+DC콤보</td>\n",
       "      <td>20210101000049</td>\n",
       "      <td>20210101004354</td>\n",
       "      <td>00:40:00</td>\n",
       "      <td>...</td>\n",
       "      <td>49</td>\n",
       "      <td>2021-01-01 00:00:49</td>\n",
       "      <td>2021</td>\n",
       "      <td>1</td>\n",
       "      <td>1</td>\n",
       "      <td>0</td>\n",
       "      <td>43</td>\n",
       "      <td>54</td>\n",
       "      <td>2021-01-01 00:43:54</td>\n",
       "      <td>0 days 00:43:05</td>\n",
       "    </tr>\n",
       "    <tr>\n",
       "      <th>2796618</th>\n",
       "      <td>강동구청</td>\n",
       "      <td>12</td>\n",
       "      <td>서울특별시</td>\n",
       "      <td>강동구</td>\n",
       "      <td>서울특별시 강동구 성내로 25</td>\n",
       "      <td>NaN</td>\n",
       "      <td>DC콤보</td>\n",
       "      <td>20210101000052</td>\n",
       "      <td>20210101003015</td>\n",
       "      <td>00:29:03</td>\n",
       "      <td>...</td>\n",
       "      <td>52</td>\n",
       "      <td>2021-01-01 00:00:52</td>\n",
       "      <td>2021</td>\n",
       "      <td>1</td>\n",
       "      <td>1</td>\n",
       "      <td>0</td>\n",
       "      <td>30</td>\n",
       "      <td>15</td>\n",
       "      <td>2021-01-01 00:30:15</td>\n",
       "      <td>0 days 00:29:23</td>\n",
       "    </tr>\n",
       "  </tbody>\n",
       "</table>\n",
       "<p>5 rows × 27 columns</p>\n",
       "</div>"
      ],
      "text/plain": [
       "                  충전소명  충전기ID     지역  시군구                                 주소  \\\n",
       "2796614    칠곡3지구 공영주차장     42  대구광역시   북구                 대구광역시 북구 구암동 771-2   \n",
       "2796615    망향휴게소(부산방향)      1   충청남도  천안시        충청남도 천안시 서북구 성거읍 돌다리길 23-37   \n",
       "2796616  관악역 3환승 공영주차장      1    경기도  안양시  경기도 안양시 만안구 석수1동 110-26  입구 맨끝 왼쪽   \n",
       "2796617    평창휴게소(강릉방향)      1    강원도  평창군            강원도 평창군 용평면 경강로 2159-58   \n",
       "2796618           강동구청     12  서울특별시  강동구                   서울특별시 강동구 성내로 25   \n",
       "\n",
       "         충전기용량(kW)            충전기타입          충전시작일시          충전종료일시      충전시간  \\\n",
       "2796614        NaN             DC콤보  20210101000032  20210101002547  00:25:16   \n",
       "2796615        NaN  DC차데모+AC3상+DC콤보  20210101000034  20210101001118  00:09:51   \n",
       "2796616        NaN  DC차데모+AC3상+DC콤보  20210101000043  20210101002454  00:23:47   \n",
       "2796617        NaN  DC차데모+AC3상+DC콤보  20210101000049  20210101004354  00:40:00   \n",
       "2796618        NaN             DC콤보  20210101000052  20210101003015  00:29:03   \n",
       "\n",
       "         ...  충전시작_초          충전시작일시(변환)  충전종료_년도  충전종료_월  충전종료_일  충전종료_시  \\\n",
       "2796614  ...      32 2021-01-01 00:00:32     2021       1       1       0   \n",
       "2796615  ...      34 2021-01-01 00:00:34     2021       1       1       0   \n",
       "2796616  ...      43 2021-01-01 00:00:43     2021       1       1       0   \n",
       "2796617  ...      49 2021-01-01 00:00:49     2021       1       1       0   \n",
       "2796618  ...      52 2021-01-01 00:00:52     2021       1       1       0   \n",
       "\n",
       "         충전종료_분  충전종료_초          충전종료일시(변환)        충전시간(계산)  \n",
       "2796614      25      47 2021-01-01 00:25:47 0 days 00:25:15  \n",
       "2796615      11      18 2021-01-01 00:11:18 0 days 00:10:44  \n",
       "2796616      24      54 2021-01-01 00:24:54 0 days 00:24:11  \n",
       "2796617      43      54 2021-01-01 00:43:54 0 days 00:43:05  \n",
       "2796618      30      15 2021-01-01 00:30:15 0 days 00:29:23  \n",
       "\n",
       "[5 rows x 27 columns]"
      ]
     },
     "execution_count": 97,
     "metadata": {},
     "output_type": "execute_result"
    }
   ],
   "source": [
    "df[df['충전시작_년도'] == 2021].head()"
   ]
  },
  {
   "cell_type": "code",
   "execution_count": 98,
   "metadata": {},
   "outputs": [
    {
     "data": {
      "text/plain": [
       "(2796614,)"
      ]
     },
     "execution_count": 98,
     "metadata": {},
     "output_type": "execute_result"
    }
   ],
   "source": [
    "df.loc[df['충전시작_년도'] == 2020, '충전기용량(kW)'].shape"
   ]
  },
  {
   "cell_type": "code",
   "execution_count": 99,
   "metadata": {},
   "outputs": [
    {
     "data": {
      "text/plain": [
       "0   50.00000\n",
       "1   50.00000\n",
       "2   50.00000\n",
       "3   50.00000\n",
       "4   50.00000\n",
       "Name: 충전기용량(kW), dtype: float64"
      ]
     },
     "execution_count": 99,
     "metadata": {},
     "output_type": "execute_result"
    }
   ],
   "source": [
    "df.loc[df['충전시작_년도'] == 2020, '충전기용량(kW)'].head()"
   ]
  },
  {
   "cell_type": "code",
   "execution_count": 100,
   "metadata": {},
   "outputs": [
    {
     "data": {
      "text/plain": [
       "2796609    50.00000\n",
       "2796610    50.00000\n",
       "2796611    50.00000\n",
       "2796612   100.00000\n",
       "2796613   100.00000\n",
       "Name: 충전기용량(kW), dtype: float64"
      ]
     },
     "execution_count": 100,
     "metadata": {},
     "output_type": "execute_result"
    }
   ],
   "source": [
    "df.loc[df['충전시작_년도'] == 2020, '충전기용량(kW)'].tail()"
   ]
  },
  {
   "cell_type": "code",
   "execution_count": 101,
   "metadata": {},
   "outputs": [
    {
     "data": {
      "text/plain": [
       "[50.0, 50.0, 50.0, 50.0, 50.0]"
      ]
     },
     "execution_count": 101,
     "metadata": {},
     "output_type": "execute_result"
    }
   ],
   "source": [
    "temp = df.loc[df['충전시작_년도'] == 2020, '충전기용량(kW)'].to_list()\n",
    "temp[:5]"
   ]
  },
  {
   "cell_type": "code",
   "execution_count": 102,
   "metadata": {},
   "outputs": [
    {
     "data": {
      "text/plain": [
       "[50.0, 50.0, 50.0, 100.0, 100.0]"
      ]
     },
     "execution_count": 102,
     "metadata": {},
     "output_type": "execute_result"
    }
   ],
   "source": [
    "temp[-5:]"
   ]
  },
  {
   "cell_type": "code",
   "execution_count": 103,
   "metadata": {},
   "outputs": [
    {
     "data": {
      "text/plain": [
       "2796614"
      ]
     },
     "execution_count": 103,
     "metadata": {},
     "output_type": "execute_result"
    }
   ],
   "source": [
    "len(temp)"
   ]
  },
  {
   "cell_type": "code",
   "execution_count": 114,
   "metadata": {},
   "outputs": [
    {
     "data": {
      "text/plain": [
       "(4259845,)"
      ]
     },
     "execution_count": 114,
     "metadata": {},
     "output_type": "execute_result"
    }
   ],
   "source": [
    "df.loc[df['충전시작_년도'] == 2021, '충전용량'].shape"
   ]
  },
  {
   "cell_type": "code",
   "execution_count": 109,
   "metadata": {},
   "outputs": [
    {
     "data": {
      "text/plain": [
       "2796614   100.00000\n",
       "2796615    50.00000\n",
       "2796616    50.00000\n",
       "2796617   100.00000\n",
       "2796618   200.00000\n",
       "Name: 충전용량, dtype: object"
      ]
     },
     "execution_count": 109,
     "metadata": {},
     "output_type": "execute_result"
    }
   ],
   "source": [
    "df.loc[df['충전시작_년도'] == 2021, '충전용량'].head()"
   ]
  },
  {
   "cell_type": "code",
   "execution_count": 110,
   "metadata": {},
   "outputs": [
    {
     "data": {
      "text/plain": [
       "7056454   100.00000\n",
       "7056455    50.00000\n",
       "7056456   200.00000\n",
       "7056457   100.00000\n",
       "7056458    50.00000\n",
       "Name: 충전용량, dtype: object"
      ]
     },
     "execution_count": 110,
     "metadata": {},
     "output_type": "execute_result"
    }
   ],
   "source": [
    "df.loc[df['충전시작_년도'] == 2021, '충전용량'].tail()"
   ]
  },
  {
   "cell_type": "code",
   "execution_count": 111,
   "metadata": {},
   "outputs": [
    {
     "data": {
      "text/plain": [
       "[100.0, 50.0, 50.0, 100.0, 200.0]"
      ]
     },
     "execution_count": 111,
     "metadata": {},
     "output_type": "execute_result"
    }
   ],
   "source": [
    "temp2 = df.loc[df['충전시작_년도'] == 2021, '충전용량'].to_list()\n",
    "temp2[:5]"
   ]
  },
  {
   "cell_type": "code",
   "execution_count": 112,
   "metadata": {},
   "outputs": [
    {
     "data": {
      "text/plain": [
       "[100.0, 50.0, 200.0, 100.0, 50.0]"
      ]
     },
     "execution_count": 112,
     "metadata": {},
     "output_type": "execute_result"
    }
   ],
   "source": [
    "temp2[-5:]"
   ]
  },
  {
   "cell_type": "code",
   "execution_count": 113,
   "metadata": {},
   "outputs": [
    {
     "data": {
      "text/plain": [
       "4259845"
      ]
     },
     "execution_count": 113,
     "metadata": {},
     "output_type": "execute_result"
    }
   ],
   "source": [
    "len(temp2)"
   ]
  },
  {
   "cell_type": "code",
   "execution_count": 115,
   "metadata": {},
   "outputs": [
    {
     "data": {
      "text/plain": [
       "(4609363,)"
      ]
     },
     "execution_count": 115,
     "metadata": {},
     "output_type": "execute_result"
    }
   ],
   "source": [
    "df.loc[df['충전시작_년도'] == 2022, '충전용량'].shape"
   ]
  },
  {
   "cell_type": "code",
   "execution_count": 116,
   "metadata": {},
   "outputs": [
    {
     "data": {
      "text/plain": [
       "7056459    50.00000\n",
       "7056460    50.00000\n",
       "7056461    50.00000\n",
       "7056462   200.00000\n",
       "7056463    50.00000\n",
       "Name: 충전용량, dtype: object"
      ]
     },
     "execution_count": 116,
     "metadata": {},
     "output_type": "execute_result"
    }
   ],
   "source": [
    "df.loc[df['충전시작_년도'] == 2022, '충전용량'].head()"
   ]
  },
  {
   "cell_type": "code",
   "execution_count": 120,
   "metadata": {},
   "outputs": [
    {
     "data": {
      "text/plain": [
       "11665817       급속(50kW)\n",
       "11665818    급속(200kW동시)\n",
       "11665819       급속(50kW)\n",
       "11665820       급속(50kW)\n",
       "11665821    급속(100kW멀티)\n",
       "Name: 충전용량, dtype: object"
      ]
     },
     "execution_count": 120,
     "metadata": {},
     "output_type": "execute_result"
    }
   ],
   "source": [
    "df.loc[df['충전시작_년도'] == 2022, '충전용량'].tail()"
   ]
  },
  {
   "cell_type": "code",
   "execution_count": 118,
   "metadata": {},
   "outputs": [
    {
     "data": {
      "text/plain": [
       "[50.0, 50.0, 50.0, 200.0, 50.0]"
      ]
     },
     "execution_count": 118,
     "metadata": {},
     "output_type": "execute_result"
    }
   ],
   "source": [
    "temp3 = df.loc[df['충전시작_년도'] == 2022, '충전용량'].to_list()\n",
    "temp3[:5]"
   ]
  },
  {
   "cell_type": "code",
   "execution_count": 119,
   "metadata": {},
   "outputs": [
    {
     "data": {
      "text/plain": [
       "['급속(50kW)', '급속(200kW동시)', '급속(50kW)', '급속(50kW)', '급속(100kW멀티)']"
      ]
     },
     "execution_count": 119,
     "metadata": {},
     "output_type": "execute_result"
    }
   ],
   "source": [
    "temp3[-5:]"
   ]
  },
  {
   "cell_type": "code",
   "execution_count": 122,
   "metadata": {},
   "outputs": [
    {
     "data": {
      "text/plain": [
       "4609363"
      ]
     },
     "execution_count": 122,
     "metadata": {},
     "output_type": "execute_result"
    }
   ],
   "source": [
    "len(temp3)"
   ]
  },
  {
   "cell_type": "code",
   "execution_count": 121,
   "metadata": {},
   "outputs": [
    {
     "data": {
      "text/plain": [
       "(11665822, 27)"
      ]
     },
     "execution_count": 121,
     "metadata": {},
     "output_type": "execute_result"
    }
   ],
   "source": [
    "df.shape"
   ]
  },
  {
   "cell_type": "code",
   "execution_count": 123,
   "metadata": {},
   "outputs": [
    {
     "data": {
      "text/plain": [
       "11665822"
      ]
     },
     "execution_count": 123,
     "metadata": {},
     "output_type": "execute_result"
    }
   ],
   "source": [
    "len(temp + temp2 + temp3)"
   ]
  },
  {
   "cell_type": "code",
   "execution_count": null,
   "metadata": {},
   "outputs": [],
   "source": [
    "df['충전용량'].head()"
   ]
  },
  {
   "cell_type": "code",
   "execution_count": 124,
   "metadata": {},
   "outputs": [],
   "source": [
    "df['충전용량'] = temp + temp2 + temp3"
   ]
  },
  {
   "cell_type": "code",
   "execution_count": 127,
   "metadata": {},
   "outputs": [
    {
     "data": {
      "text/plain": [
       "0   50.00000\n",
       "1   50.00000\n",
       "2   50.00000\n",
       "3   50.00000\n",
       "4   50.00000\n",
       "Name: 충전용량, dtype: object"
      ]
     },
     "execution_count": 127,
     "metadata": {},
     "output_type": "execute_result"
    }
   ],
   "source": [
    "df['충전용량'].head()"
   ]
  },
  {
   "cell_type": "code",
   "execution_count": 125,
   "metadata": {},
   "outputs": [
    {
     "data": {
      "text/plain": [
       "11665817   NaN\n",
       "11665818   NaN\n",
       "11665819   NaN\n",
       "11665820   NaN\n",
       "11665821   NaN\n",
       "Name: 충전기용량(kW), dtype: float64"
      ]
     },
     "execution_count": 125,
     "metadata": {},
     "output_type": "execute_result"
    }
   ],
   "source": [
    "df['충전기용량(kW)'].tail()"
   ]
  },
  {
   "cell_type": "code",
   "execution_count": 128,
   "metadata": {},
   "outputs": [
    {
     "data": {
      "text/html": [
       "<div>\n",
       "<style scoped>\n",
       "    .dataframe tbody tr th:only-of-type {\n",
       "        vertical-align: middle;\n",
       "    }\n",
       "\n",
       "    .dataframe tbody tr th {\n",
       "        vertical-align: top;\n",
       "    }\n",
       "\n",
       "    .dataframe thead th {\n",
       "        text-align: right;\n",
       "    }\n",
       "</style>\n",
       "<table border=\"1\" class=\"dataframe\">\n",
       "  <thead>\n",
       "    <tr style=\"text-align: right;\">\n",
       "      <th></th>\n",
       "      <th>충전소명</th>\n",
       "      <th>충전기ID</th>\n",
       "      <th>지역</th>\n",
       "      <th>시군구</th>\n",
       "      <th>주소</th>\n",
       "      <th>충전기용량(kW)</th>\n",
       "      <th>충전기타입</th>\n",
       "      <th>충전시작일시</th>\n",
       "      <th>충전종료일시</th>\n",
       "      <th>충전시간</th>\n",
       "      <th>충전량</th>\n",
       "      <th>충전용량</th>\n",
       "    </tr>\n",
       "  </thead>\n",
       "  <tbody>\n",
       "    <tr>\n",
       "      <th>0</th>\n",
       "      <td>진영휴게소(부산방향)</td>\n",
       "      <td>1</td>\n",
       "      <td>경상남도</td>\n",
       "      <td>김해시</td>\n",
       "      <td>경상남도 김해시 진영읍 하계로96번길 94-4 , 주유소 옆 주차장</td>\n",
       "      <td>50.00000</td>\n",
       "      <td>DC차데모+AC3상+DC콤보</td>\n",
       "      <td>20200101000244</td>\n",
       "      <td>20200101004215</td>\n",
       "      <td>00:39:25</td>\n",
       "      <td>20.22000</td>\n",
       "      <td>50.00000</td>\n",
       "    </tr>\n",
       "    <tr>\n",
       "      <th>1</th>\n",
       "      <td>천왕역 환승주차장</td>\n",
       "      <td>1</td>\n",
       "      <td>서울특별시</td>\n",
       "      <td>구로구</td>\n",
       "      <td>서울특별시 구로구 오류동 174-10 , 천왕역 환승주차장 1층</td>\n",
       "      <td>50.00000</td>\n",
       "      <td>DC차데모+AC3상</td>\n",
       "      <td>20200101000457</td>\n",
       "      <td>20200101004534</td>\n",
       "      <td>00:40:37</td>\n",
       "      <td>18.87000</td>\n",
       "      <td>50.00000</td>\n",
       "    </tr>\n",
       "    <tr>\n",
       "      <th>2</th>\n",
       "      <td>민속자연사박물관</td>\n",
       "      <td>1</td>\n",
       "      <td>제주특별자치도</td>\n",
       "      <td>제주시</td>\n",
       "      <td>제주특별자치도 제주시 삼성로 40 민속자연사박물관</td>\n",
       "      <td>50.00000</td>\n",
       "      <td>DC차데모+AC3상+DC콤보</td>\n",
       "      <td>20200101000745</td>\n",
       "      <td>20200101003703</td>\n",
       "      <td>00:29:13</td>\n",
       "      <td>16.04000</td>\n",
       "      <td>50.00000</td>\n",
       "    </tr>\n",
       "    <tr>\n",
       "      <th>3</th>\n",
       "      <td>노형동주민센터</td>\n",
       "      <td>1</td>\n",
       "      <td>제주특별자치도</td>\n",
       "      <td>제주시</td>\n",
       "      <td>제주특별자치도 제주시 노형9길 9-4,  주차장</td>\n",
       "      <td>50.00000</td>\n",
       "      <td>DC차데모+AC3상+DC콤보</td>\n",
       "      <td>20200101000748</td>\n",
       "      <td>20200101001659</td>\n",
       "      <td>00:09:07</td>\n",
       "      <td>5.80000</td>\n",
       "      <td>50.00000</td>\n",
       "    </tr>\n",
       "    <tr>\n",
       "      <th>4</th>\n",
       "      <td>영일대1주차장</td>\n",
       "      <td>1</td>\n",
       "      <td>경상북도</td>\n",
       "      <td>포항시</td>\n",
       "      <td>경상북도 포항시 북구 해안로82</td>\n",
       "      <td>50.00000</td>\n",
       "      <td>DC차데모+AC3상+DC콤보</td>\n",
       "      <td>20200101000851</td>\n",
       "      <td>20200101004220</td>\n",
       "      <td>00:33:29</td>\n",
       "      <td>13.32000</td>\n",
       "      <td>50.00000</td>\n",
       "    </tr>\n",
       "  </tbody>\n",
       "</table>\n",
       "</div>"
      ],
      "text/plain": [
       "          충전소명  충전기ID       지역  시군구                                     주소  \\\n",
       "0  진영휴게소(부산방향)      1     경상남도  김해시  경상남도 김해시 진영읍 하계로96번길 94-4 , 주유소 옆 주차장   \n",
       "1    천왕역 환승주차장      1    서울특별시  구로구    서울특별시 구로구 오류동 174-10 , 천왕역 환승주차장 1층   \n",
       "2     민속자연사박물관      1  제주특별자치도  제주시            제주특별자치도 제주시 삼성로 40 민속자연사박물관   \n",
       "3      노형동주민센터      1  제주특별자치도  제주시             제주특별자치도 제주시 노형9길 9-4,  주차장   \n",
       "4      영일대1주차장      1     경상북도  포항시                      경상북도 포항시 북구 해안로82   \n",
       "\n",
       "   충전기용량(kW)            충전기타입          충전시작일시          충전종료일시      충전시간  \\\n",
       "0   50.00000  DC차데모+AC3상+DC콤보  20200101000244  20200101004215  00:39:25   \n",
       "1   50.00000       DC차데모+AC3상  20200101000457  20200101004534  00:40:37   \n",
       "2   50.00000  DC차데모+AC3상+DC콤보  20200101000745  20200101003703  00:29:13   \n",
       "3   50.00000  DC차데모+AC3상+DC콤보  20200101000748  20200101001659  00:09:07   \n",
       "4   50.00000  DC차데모+AC3상+DC콤보  20200101000851  20200101004220  00:33:29   \n",
       "\n",
       "       충전량     충전용량  \n",
       "0 20.22000 50.00000  \n",
       "1 18.87000 50.00000  \n",
       "2 16.04000 50.00000  \n",
       "3  5.80000 50.00000  \n",
       "4 13.32000 50.00000  "
      ]
     },
     "execution_count": 128,
     "metadata": {},
     "output_type": "execute_result"
    }
   ],
   "source": [
    "df.iloc[:5, :12]"
   ]
  },
  {
   "cell_type": "code",
   "execution_count": 129,
   "metadata": {},
   "outputs": [
    {
     "data": {
      "text/html": [
       "<div>\n",
       "<style scoped>\n",
       "    .dataframe tbody tr th:only-of-type {\n",
       "        vertical-align: middle;\n",
       "    }\n",
       "\n",
       "    .dataframe tbody tr th {\n",
       "        vertical-align: top;\n",
       "    }\n",
       "\n",
       "    .dataframe thead th {\n",
       "        text-align: right;\n",
       "    }\n",
       "</style>\n",
       "<table border=\"1\" class=\"dataframe\">\n",
       "  <thead>\n",
       "    <tr style=\"text-align: right;\">\n",
       "      <th></th>\n",
       "      <th>충전소명</th>\n",
       "      <th>충전기ID</th>\n",
       "      <th>지역</th>\n",
       "      <th>시군구</th>\n",
       "      <th>주소</th>\n",
       "      <th>충전기타입</th>\n",
       "      <th>충전시작일시</th>\n",
       "      <th>충전종료일시</th>\n",
       "      <th>충전시간</th>\n",
       "      <th>충전량</th>\n",
       "      <th>충전용량</th>\n",
       "      <th>충전시작_년도</th>\n",
       "    </tr>\n",
       "  </thead>\n",
       "  <tbody>\n",
       "    <tr>\n",
       "      <th>0</th>\n",
       "      <td>진영휴게소(부산방향)</td>\n",
       "      <td>1</td>\n",
       "      <td>경상남도</td>\n",
       "      <td>김해시</td>\n",
       "      <td>경상남도 김해시 진영읍 하계로96번길 94-4 , 주유소 옆 주차장</td>\n",
       "      <td>DC차데모+AC3상+DC콤보</td>\n",
       "      <td>20200101000244</td>\n",
       "      <td>20200101004215</td>\n",
       "      <td>00:39:25</td>\n",
       "      <td>20.22000</td>\n",
       "      <td>50.00000</td>\n",
       "      <td>2020</td>\n",
       "    </tr>\n",
       "    <tr>\n",
       "      <th>1</th>\n",
       "      <td>천왕역 환승주차장</td>\n",
       "      <td>1</td>\n",
       "      <td>서울특별시</td>\n",
       "      <td>구로구</td>\n",
       "      <td>서울특별시 구로구 오류동 174-10 , 천왕역 환승주차장 1층</td>\n",
       "      <td>DC차데모+AC3상</td>\n",
       "      <td>20200101000457</td>\n",
       "      <td>20200101004534</td>\n",
       "      <td>00:40:37</td>\n",
       "      <td>18.87000</td>\n",
       "      <td>50.00000</td>\n",
       "      <td>2020</td>\n",
       "    </tr>\n",
       "    <tr>\n",
       "      <th>2</th>\n",
       "      <td>민속자연사박물관</td>\n",
       "      <td>1</td>\n",
       "      <td>제주특별자치도</td>\n",
       "      <td>제주시</td>\n",
       "      <td>제주특별자치도 제주시 삼성로 40 민속자연사박물관</td>\n",
       "      <td>DC차데모+AC3상+DC콤보</td>\n",
       "      <td>20200101000745</td>\n",
       "      <td>20200101003703</td>\n",
       "      <td>00:29:13</td>\n",
       "      <td>16.04000</td>\n",
       "      <td>50.00000</td>\n",
       "      <td>2020</td>\n",
       "    </tr>\n",
       "    <tr>\n",
       "      <th>3</th>\n",
       "      <td>노형동주민센터</td>\n",
       "      <td>1</td>\n",
       "      <td>제주특별자치도</td>\n",
       "      <td>제주시</td>\n",
       "      <td>제주특별자치도 제주시 노형9길 9-4,  주차장</td>\n",
       "      <td>DC차데모+AC3상+DC콤보</td>\n",
       "      <td>20200101000748</td>\n",
       "      <td>20200101001659</td>\n",
       "      <td>00:09:07</td>\n",
       "      <td>5.80000</td>\n",
       "      <td>50.00000</td>\n",
       "      <td>2020</td>\n",
       "    </tr>\n",
       "    <tr>\n",
       "      <th>4</th>\n",
       "      <td>영일대1주차장</td>\n",
       "      <td>1</td>\n",
       "      <td>경상북도</td>\n",
       "      <td>포항시</td>\n",
       "      <td>경상북도 포항시 북구 해안로82</td>\n",
       "      <td>DC차데모+AC3상+DC콤보</td>\n",
       "      <td>20200101000851</td>\n",
       "      <td>20200101004220</td>\n",
       "      <td>00:33:29</td>\n",
       "      <td>13.32000</td>\n",
       "      <td>50.00000</td>\n",
       "      <td>2020</td>\n",
       "    </tr>\n",
       "  </tbody>\n",
       "</table>\n",
       "</div>"
      ],
      "text/plain": [
       "          충전소명  충전기ID       지역  시군구                                     주소  \\\n",
       "0  진영휴게소(부산방향)      1     경상남도  김해시  경상남도 김해시 진영읍 하계로96번길 94-4 , 주유소 옆 주차장   \n",
       "1    천왕역 환승주차장      1    서울특별시  구로구    서울특별시 구로구 오류동 174-10 , 천왕역 환승주차장 1층   \n",
       "2     민속자연사박물관      1  제주특별자치도  제주시            제주특별자치도 제주시 삼성로 40 민속자연사박물관   \n",
       "3      노형동주민센터      1  제주특별자치도  제주시             제주특별자치도 제주시 노형9길 9-4,  주차장   \n",
       "4      영일대1주차장      1     경상북도  포항시                      경상북도 포항시 북구 해안로82   \n",
       "\n",
       "             충전기타입          충전시작일시          충전종료일시      충전시간      충전량  \\\n",
       "0  DC차데모+AC3상+DC콤보  20200101000244  20200101004215  00:39:25 20.22000   \n",
       "1       DC차데모+AC3상  20200101000457  20200101004534  00:40:37 18.87000   \n",
       "2  DC차데모+AC3상+DC콤보  20200101000745  20200101003703  00:29:13 16.04000   \n",
       "3  DC차데모+AC3상+DC콤보  20200101000748  20200101001659  00:09:07  5.80000   \n",
       "4  DC차데모+AC3상+DC콤보  20200101000851  20200101004220  00:33:29 13.32000   \n",
       "\n",
       "      충전용량  충전시작_년도  \n",
       "0 50.00000     2020  \n",
       "1 50.00000     2020  \n",
       "2 50.00000     2020  \n",
       "3 50.00000     2020  \n",
       "4 50.00000     2020  "
      ]
     },
     "execution_count": 129,
     "metadata": {},
     "output_type": "execute_result"
    }
   ],
   "source": [
    "df = df.drop(['충전기용량(kW)'], axis=1)\n",
    "df.iloc[:5, :12]"
   ]
  },
  {
   "cell_type": "markdown",
   "metadata": {},
   "source": [
    "##### 일시 분리 데이터 출력"
   ]
  },
  {
   "cell_type": "code",
   "execution_count": 130,
   "metadata": {},
   "outputs": [],
   "source": [
    "df.to_csv('2020-22년_급속충전_일시분리.csv', encoding='utf-8')"
   ]
  },
  {
   "cell_type": "markdown",
   "metadata": {},
   "source": [
    "## 데이터 로드(다시 시작)"
   ]
  },
  {
   "cell_type": "code",
   "execution_count": 5,
   "metadata": {},
   "outputs": [
    {
     "name": "stderr",
     "output_type": "stream",
     "text": [
      "C:\\Users\\kbj\\AppData\\Local\\Temp\\ipykernel_7780\\927583139.py:1: DtypeWarning: Columns (12) have mixed types. Specify dtype option on import or set low_memory=False.\n",
      "  df = pd.read_csv('2020-22년_급속충전_일시분리.csv')\n"
     ]
    }
   ],
   "source": [
    "# df = pd.read_csv('2020-22년_급속충전_일시분리.csv', index_col=0)\n",
    "# df.info()"
   ]
  },
  {
   "cell_type": "code",
   "execution_count": 131,
   "metadata": {},
   "outputs": [
    {
     "name": "stdout",
     "output_type": "stream",
     "text": [
      "<class 'pandas.core.frame.DataFrame'>\n",
      "RangeIndex: 11665822 entries, 0 to 11665821\n",
      "Data columns (total 26 columns):\n",
      " #   Column      Dtype          \n",
      "---  ------      -----          \n",
      " 0   충전소명        object         \n",
      " 1   충전기ID       int16          \n",
      " 2   지역          object         \n",
      " 3   시군구         object         \n",
      " 4   주소          object         \n",
      " 5   충전기타입       object         \n",
      " 6   충전시작일시      int64          \n",
      " 7   충전종료일시      object         \n",
      " 8   충전시간        object         \n",
      " 9   충전량         float64        \n",
      " 10  충전용량        object         \n",
      " 11  충전시작_년도     int32          \n",
      " 12  충전시작_월      int32          \n",
      " 13  충전시작_일      int32          \n",
      " 14  충전시작_시      int32          \n",
      " 15  충전시작_분      int32          \n",
      " 16  충전시작_초      int32          \n",
      " 17  충전시작일시(변환)  datetime64[ns] \n",
      " 18  충전종료_년도     int32          \n",
      " 19  충전종료_월      int32          \n",
      " 20  충전종료_일      int32          \n",
      " 21  충전종료_시      int32          \n",
      " 22  충전종료_분      int32          \n",
      " 23  충전종료_초      int32          \n",
      " 24  충전종료일시(변환)  datetime64[ns] \n",
      " 25  충전시간(계산)    timedelta64[ns]\n",
      "dtypes: datetime64[ns](2), float64(1), int16(1), int32(12), int64(1), object(8), timedelta64[ns](1)\n",
      "memory usage: 1.7+ GB\n"
     ]
    }
   ],
   "source": [
    "df.info()"
   ]
  },
  {
   "cell_type": "markdown",
   "metadata": {},
   "source": [
    "### raw 충전시간과 계산값 비교"
   ]
  },
  {
   "cell_type": "code",
   "execution_count": 132,
   "metadata": {},
   "outputs": [
    {
     "data": {
      "text/plain": [
       "0    00:39:25\n",
       "1    00:40:37\n",
       "2    00:29:13\n",
       "3    00:09:07\n",
       "4    00:33:29\n",
       "Name: 충전시간, dtype: object"
      ]
     },
     "execution_count": 132,
     "metadata": {},
     "output_type": "execute_result"
    }
   ],
   "source": [
    "df['충전시간'].head()"
   ]
  },
  {
   "cell_type": "code",
   "execution_count": 133,
   "metadata": {},
   "outputs": [
    {
     "data": {
      "text/plain": [
       "dtype('O')"
      ]
     },
     "execution_count": 133,
     "metadata": {},
     "output_type": "execute_result"
    }
   ],
   "source": [
    "df['충전시간'].dtype"
   ]
  },
  {
   "cell_type": "markdown",
   "metadata": {},
   "source": [
    "#### 충전시간 오류 값 처리\n",
    "- 7개 제거"
   ]
  },
  {
   "cell_type": "code",
   "execution_count": 139,
   "metadata": {},
   "outputs": [
    {
     "data": {
      "text/plain": [
       "1165409     -6:-2:-5\n",
       "1191927     00:-4:-1\n",
       "1196581     00:-1:-4\n",
       "1196582     00:-1:-2\n",
       "7030914     00:-4:-2\n",
       "7305076     00:-1:-3\n",
       "11392158    -1:-4:-4\n",
       "Name: 충전시간, dtype: object"
      ]
     },
     "execution_count": 139,
     "metadata": {},
     "output_type": "execute_result"
    }
   ],
   "source": [
    "df.loc[[1165409, 1191927, 1196581, 1196582, 7030914, 7305076, 11392158], '충전시간']"
   ]
  },
  {
   "cell_type": "code",
   "execution_count": 135,
   "metadata": {},
   "outputs": [],
   "source": [
    "# temp = pd.to_timedelta(df['충전시간']) # only leading negative signs are allowed 에러 발생\n",
    "temp = pd.to_timedelta(df['충전시간'], errors='coerce')"
   ]
  },
  {
   "cell_type": "code",
   "execution_count": 136,
   "metadata": {},
   "outputs": [
    {
     "data": {
      "text/plain": [
       "7"
      ]
     },
     "execution_count": 136,
     "metadata": {},
     "output_type": "execute_result"
    }
   ],
   "source": [
    "temp.isnull().sum()"
   ]
  },
  {
   "cell_type": "code",
   "execution_count": 137,
   "metadata": {},
   "outputs": [],
   "source": [
    "temp = temp.to_frame()"
   ]
  },
  {
   "cell_type": "code",
   "execution_count": 138,
   "metadata": {},
   "outputs": [
    {
     "data": {
      "text/html": [
       "<div>\n",
       "<style scoped>\n",
       "    .dataframe tbody tr th:only-of-type {\n",
       "        vertical-align: middle;\n",
       "    }\n",
       "\n",
       "    .dataframe tbody tr th {\n",
       "        vertical-align: top;\n",
       "    }\n",
       "\n",
       "    .dataframe thead th {\n",
       "        text-align: right;\n",
       "    }\n",
       "</style>\n",
       "<table border=\"1\" class=\"dataframe\">\n",
       "  <thead>\n",
       "    <tr style=\"text-align: right;\">\n",
       "      <th></th>\n",
       "      <th>충전시간</th>\n",
       "    </tr>\n",
       "  </thead>\n",
       "  <tbody>\n",
       "    <tr>\n",
       "      <th>1165409</th>\n",
       "      <td>NaT</td>\n",
       "    </tr>\n",
       "    <tr>\n",
       "      <th>1191927</th>\n",
       "      <td>NaT</td>\n",
       "    </tr>\n",
       "    <tr>\n",
       "      <th>1196581</th>\n",
       "      <td>NaT</td>\n",
       "    </tr>\n",
       "    <tr>\n",
       "      <th>1196582</th>\n",
       "      <td>NaT</td>\n",
       "    </tr>\n",
       "    <tr>\n",
       "      <th>7030914</th>\n",
       "      <td>NaT</td>\n",
       "    </tr>\n",
       "    <tr>\n",
       "      <th>7305076</th>\n",
       "      <td>NaT</td>\n",
       "    </tr>\n",
       "    <tr>\n",
       "      <th>11392158</th>\n",
       "      <td>NaT</td>\n",
       "    </tr>\n",
       "  </tbody>\n",
       "</table>\n",
       "</div>"
      ],
      "text/plain": [
       "         충전시간\n",
       "1165409   NaT\n",
       "1191927   NaT\n",
       "1196581   NaT\n",
       "1196582   NaT\n",
       "7030914   NaT\n",
       "7305076   NaT\n",
       "11392158  NaT"
      ]
     },
     "execution_count": 138,
     "metadata": {},
     "output_type": "execute_result"
    }
   ],
   "source": [
    "temp[temp['충전시간'].isnull() == True]"
   ]
  },
  {
   "cell_type": "code",
   "execution_count": 140,
   "metadata": {},
   "outputs": [
    {
     "name": "stdout",
     "output_type": "stream",
     "text": [
      "-6:-2:-5 2020-07-01 19:35:59\n",
      "00:-4:-1 2020-07-05 15:39:18\n",
      "00:-1:-4 2020-07-06 09:05:47\n",
      "00:-1:-2 2020-07-06 09:05:47\n",
      "00:-4:-2 2021-12-30 17:18:27\n",
      "00:-1:-3 2022-01-14 17:53:48\n",
      "-1:-4:-4 2022-08-19 03:00:11\n"
     ]
    }
   ],
   "source": [
    "null_idx = temp[temp['충전시간'].isnull() == True].index\n",
    "for i in null_idx:\n",
    "    print(df.loc[i, '충전시간'], df.loc[i, '충전시작일시(변환)'])"
   ]
  },
  {
   "cell_type": "code",
   "execution_count": 141,
   "metadata": {},
   "outputs": [
    {
     "data": {
      "text/plain": [
       "(11665822, 26)"
      ]
     },
     "execution_count": 141,
     "metadata": {},
     "output_type": "execute_result"
    }
   ],
   "source": [
    "df.shape"
   ]
  },
  {
   "cell_type": "code",
   "execution_count": 142,
   "metadata": {},
   "outputs": [
    {
     "data": {
      "text/plain": [
       "(11665815, 26)"
      ]
     },
     "execution_count": 142,
     "metadata": {},
     "output_type": "execute_result"
    }
   ],
   "source": [
    "df2 = df.drop(null_idx).reset_index(drop=True)\n",
    "df2.shape"
   ]
  },
  {
   "cell_type": "code",
   "execution_count": 143,
   "metadata": {},
   "outputs": [
    {
     "name": "stdout",
     "output_type": "stream",
     "text": [
      "<class 'pandas.core.frame.DataFrame'>\n",
      "RangeIndex: 11665815 entries, 0 to 11665814\n",
      "Data columns (total 26 columns):\n",
      " #   Column      Dtype          \n",
      "---  ------      -----          \n",
      " 0   충전소명        object         \n",
      " 1   충전기ID       int16          \n",
      " 2   지역          object         \n",
      " 3   시군구         object         \n",
      " 4   주소          object         \n",
      " 5   충전기타입       object         \n",
      " 6   충전시작일시      int64          \n",
      " 7   충전종료일시      object         \n",
      " 8   충전시간        object         \n",
      " 9   충전량         float64        \n",
      " 10  충전용량        object         \n",
      " 11  충전시작_년도     int32          \n",
      " 12  충전시작_월      int32          \n",
      " 13  충전시작_일      int32          \n",
      " 14  충전시작_시      int32          \n",
      " 15  충전시작_분      int32          \n",
      " 16  충전시작_초      int32          \n",
      " 17  충전시작일시(변환)  datetime64[ns] \n",
      " 18  충전종료_년도     int32          \n",
      " 19  충전종료_월      int32          \n",
      " 20  충전종료_일      int32          \n",
      " 21  충전종료_시      int32          \n",
      " 22  충전종료_분      int32          \n",
      " 23  충전종료_초      int32          \n",
      " 24  충전종료일시(변환)  datetime64[ns] \n",
      " 25  충전시간(계산)    timedelta64[ns]\n",
      "dtypes: datetime64[ns](2), float64(1), int16(1), int32(12), int64(1), object(8), timedelta64[ns](1)\n",
      "memory usage: 1.7+ GB\n"
     ]
    }
   ],
   "source": [
    "df2.info()"
   ]
  },
  {
   "cell_type": "code",
   "execution_count": 144,
   "metadata": {},
   "outputs": [
    {
     "name": "stdout",
     "output_type": "stream",
     "text": [
      "<class 'pandas.core.frame.DataFrame'>\n",
      "RangeIndex: 11665815 entries, 0 to 11665814\n",
      "Data columns (total 26 columns):\n",
      " #   Column      Dtype          \n",
      "---  ------      -----          \n",
      " 0   충전소명        object         \n",
      " 1   충전기ID       int16          \n",
      " 2   지역          object         \n",
      " 3   시군구         object         \n",
      " 4   주소          object         \n",
      " 5   충전기타입       object         \n",
      " 6   충전시작일시      int64          \n",
      " 7   충전종료일시      object         \n",
      " 8   충전시간        timedelta64[ns]\n",
      " 9   충전량         float64        \n",
      " 10  충전용량        object         \n",
      " 11  충전시작_년도     int32          \n",
      " 12  충전시작_월      int32          \n",
      " 13  충전시작_일      int32          \n",
      " 14  충전시작_시      int32          \n",
      " 15  충전시작_분      int32          \n",
      " 16  충전시작_초      int32          \n",
      " 17  충전시작일시(변환)  datetime64[ns] \n",
      " 18  충전종료_년도     int32          \n",
      " 19  충전종료_월      int32          \n",
      " 20  충전종료_일      int32          \n",
      " 21  충전종료_시      int32          \n",
      " 22  충전종료_분      int32          \n",
      " 23  충전종료_초      int32          \n",
      " 24  충전종료일시(변환)  datetime64[ns] \n",
      " 25  충전시간(계산)    timedelta64[ns]\n",
      "dtypes: datetime64[ns](2), float64(1), int16(1), int32(12), int64(1), object(7), timedelta64[ns](2)\n",
      "memory usage: 1.7+ GB\n"
     ]
    }
   ],
   "source": [
    "df2['충전시간'] = pd.to_timedelta(df2['충전시간'])\n",
    "df2.info()"
   ]
  },
  {
   "cell_type": "code",
   "execution_count": 145,
   "metadata": {},
   "outputs": [
    {
     "data": {
      "text/plain": [
       "count                     11665815\n",
       "mean     0 days 00:34:21.381945453\n",
       "std      0 days 01:20:05.913477577\n",
       "min                0 days 00:00:00\n",
       "25%                0 days 00:20:55\n",
       "50%                0 days 00:34:07\n",
       "75%                0 days 00:40:00\n",
       "max                4 days 03:56:55\n",
       "Name: 충전시간, dtype: object"
      ]
     },
     "execution_count": 145,
     "metadata": {},
     "output_type": "execute_result"
    }
   ],
   "source": [
    "df2['충전시간'].describe()"
   ]
  },
  {
   "cell_type": "code",
   "execution_count": 146,
   "metadata": {},
   "outputs": [
    {
     "data": {
      "text/plain": [
       "count                     11665815\n",
       "mean     0 days 00:29:18.506520633\n",
       "std      4 days 08:44:42.009406092\n",
       "min          -14905 days +09:10:08\n",
       "25%                0 days 00:21:28\n",
       "50%                0 days 00:34:49\n",
       "75%                0 days 00:40:24\n",
       "max               14 days 08:40:25\n",
       "Name: 충전시간(계산), dtype: object"
      ]
     },
     "execution_count": 146,
     "metadata": {},
     "output_type": "execute_result"
    }
   ],
   "source": [
    "df2['충전시간(계산)'].describe()"
   ]
  },
  {
   "cell_type": "code",
   "execution_count": 147,
   "metadata": {},
   "outputs": [
    {
     "data": {
      "text/html": [
       "<div>\n",
       "<style scoped>\n",
       "    .dataframe tbody tr th:only-of-type {\n",
       "        vertical-align: middle;\n",
       "    }\n",
       "\n",
       "    .dataframe tbody tr th {\n",
       "        vertical-align: top;\n",
       "    }\n",
       "\n",
       "    .dataframe thead th {\n",
       "        text-align: right;\n",
       "    }\n",
       "</style>\n",
       "<table border=\"1\" class=\"dataframe\">\n",
       "  <thead>\n",
       "    <tr style=\"text-align: right;\">\n",
       "      <th></th>\n",
       "      <th>충전소명</th>\n",
       "      <th>충전기ID</th>\n",
       "      <th>지역</th>\n",
       "      <th>시군구</th>\n",
       "      <th>주소</th>\n",
       "      <th>충전기타입</th>\n",
       "      <th>충전시작일시</th>\n",
       "      <th>충전종료일시</th>\n",
       "      <th>충전시간</th>\n",
       "      <th>충전량</th>\n",
       "      <th>...</th>\n",
       "      <th>충전시작_초</th>\n",
       "      <th>충전시작일시(변환)</th>\n",
       "      <th>충전종료_년도</th>\n",
       "      <th>충전종료_월</th>\n",
       "      <th>충전종료_일</th>\n",
       "      <th>충전종료_시</th>\n",
       "      <th>충전종료_분</th>\n",
       "      <th>충전종료_초</th>\n",
       "      <th>충전종료일시(변환)</th>\n",
       "      <th>충전시간(계산)</th>\n",
       "    </tr>\n",
       "  </thead>\n",
       "  <tbody>\n",
       "    <tr>\n",
       "      <th>2154135</th>\n",
       "      <td>단양관광안내소(단양팔경)</td>\n",
       "      <td>1</td>\n",
       "      <td>충청북도</td>\n",
       "      <td>단양군</td>\n",
       "      <td>충청북도 단양군 단양읍 고수리 149-1</td>\n",
       "      <td>DC차데모+AC3상+DC콤보</td>\n",
       "      <td>20201030144953</td>\n",
       "      <td>19800110000001</td>\n",
       "      <td>3 days 10:47:44</td>\n",
       "      <td>14.20000</td>\n",
       "      <td>...</td>\n",
       "      <td>53</td>\n",
       "      <td>2020-10-30 14:49:53</td>\n",
       "      <td>1980</td>\n",
       "      <td>1</td>\n",
       "      <td>10</td>\n",
       "      <td>0</td>\n",
       "      <td>0</td>\n",
       "      <td>1</td>\n",
       "      <td>1980-01-10 00:00:01</td>\n",
       "      <td>-14905 days +09:10:08</td>\n",
       "    </tr>\n",
       "  </tbody>\n",
       "</table>\n",
       "<p>1 rows × 26 columns</p>\n",
       "</div>"
      ],
      "text/plain": [
       "                  충전소명  충전기ID    지역  시군구                      주소  \\\n",
       "2154135  단양관광안내소(단양팔경)      1  충청북도  단양군  충청북도 단양군 단양읍 고수리 149-1   \n",
       "\n",
       "                   충전기타입          충전시작일시          충전종료일시            충전시간  \\\n",
       "2154135  DC차데모+AC3상+DC콤보  20201030144953  19800110000001 3 days 10:47:44   \n",
       "\n",
       "             충전량  ... 충전시작_초          충전시작일시(변환)  충전종료_년도  충전종료_월  충전종료_일  \\\n",
       "2154135 14.20000  ...     53 2020-10-30 14:49:53     1980       1      10   \n",
       "\n",
       "         충전종료_시  충전종료_분 충전종료_초          충전종료일시(변환)              충전시간(계산)  \n",
       "2154135       0       0      1 1980-01-10 00:00:01 -14905 days +09:10:08  \n",
       "\n",
       "[1 rows x 26 columns]"
      ]
     },
     "execution_count": 147,
     "metadata": {},
     "output_type": "execute_result"
    }
   ],
   "source": [
    "df2[df2['충전시간(계산)'] == '-14905 days +09:10:08']"
   ]
  },
  {
   "cell_type": "markdown",
   "metadata": {},
   "source": [
    "##### 충전시간 오류 제거 데이터 출력"
   ]
  },
  {
   "cell_type": "code",
   "execution_count": 156,
   "metadata": {},
   "outputs": [],
   "source": [
    "df2.to_csv('2020-22년_급속충전_충전시간_오류제거.csv', encoding='utf-8')"
   ]
  },
  {
   "cell_type": "markdown",
   "metadata": {},
   "source": [
    "## 데이터 로드(다시 시작)"
   ]
  },
  {
   "cell_type": "code",
   "execution_count": 14,
   "metadata": {},
   "outputs": [
    {
     "name": "stderr",
     "output_type": "stream",
     "text": [
      "C:\\Users\\kbj\\AppData\\Local\\Temp\\ipykernel_13392\\2104362447.py:1: DtypeWarning: Columns (11) have mixed types. Specify dtype option on import or set low_memory=False.\n",
      "  df2 = pd.read_csv('2020-22년_급속충전_충전시간_오류제거.csv', index_col=0, dtype={'충전시작_년도':np.int16, '충전종료_년도':np.int16, '충전시작_월':np.int8,  '충전시작_일':np.int8, '충전시작_시':np.int8, '충전시작_분':np.int8, '충전시작_초':np.int8, '충전종료_월':np.int8, '충전종료_일':np.int8, '충전종료_시':np.int8, '충전종료_분':np.int8, '충전종료_초':np.int8, '충전기ID':np.int8})\n"
     ]
    },
    {
     "name": "stdout",
     "output_type": "stream",
     "text": [
      "<class 'pandas.core.frame.DataFrame'>\n",
      "RangeIndex: 11665815 entries, 0 to 11665814\n",
      "Data columns (total 26 columns):\n",
      " #   Column      Dtype          \n",
      "---  ------      -----          \n",
      " 0   충전소명        object         \n",
      " 1   충전기ID       int8           \n",
      " 2   지역          object         \n",
      " 3   시군구         object         \n",
      " 4   주소          object         \n",
      " 5   충전기타입       object         \n",
      " 6   충전시작일시      int64          \n",
      " 7   충전종료일시      int64          \n",
      " 8   충전시간        timedelta64[ns]\n",
      " 9   충전량         float64        \n",
      " 10  충전용량        object         \n",
      " 11  충전시작_년도     int16          \n",
      " 12  충전시작_월      int8           \n",
      " 13  충전시작_일      int8           \n",
      " 14  충전시작_시      int8           \n",
      " 15  충전시작_분      int8           \n",
      " 16  충전시작_초      int8           \n",
      " 17  충전시작일시(변환)  object         \n",
      " 18  충전종료_년도     int16          \n",
      " 19  충전종료_월      int8           \n",
      " 20  충전종료_일      int8           \n",
      " 21  충전종료_시      int8           \n",
      " 22  충전종료_분      int8           \n",
      " 23  충전종료_초      int8           \n",
      " 24  충전종료일시(변환)  object         \n",
      " 25  충전시간(계산)    timedelta64[ns]\n",
      "dtypes: float64(1), int16(2), int64(2), int8(11), object(8), timedelta64[ns](2)\n",
      "memory usage: 1.3+ GB\n"
     ]
    }
   ],
   "source": [
    "df2 = pd.read_csv('2020-22년_급속충전_충전시간_오류제거.csv', index_col=0, dtype={'충전시작_년도':np.int16, '충전종료_년도':np.int16, '충전시작_월':np.int8,  '충전시작_일':np.int8, '충전시작_시':np.int8, '충전시작_분':np.int8, '충전시작_초':np.int8, '충전종료_월':np.int8, '충전종료_일':np.int8, '충전종료_시':np.int8, '충전종료_분':np.int8, '충전종료_초':np.int8, '충전기ID':np.int8})\n",
    "df2['충전시간'] = pd.to_timedelta(df2['충전시간'])\n",
    "df2['충전시간(계산)'] = pd.to_timedelta(df2['충전시간(계산)'])\n",
    "df2 = df2.reset_index(drop=True)\n",
    "df2.info()"
   ]
  },
  {
   "cell_type": "code",
   "execution_count": 15,
   "metadata": {},
   "outputs": [
    {
     "name": "stdout",
     "output_type": "stream",
     "text": [
      "0\n"
     ]
    }
   ],
   "source": [
    "count = 0\n",
    "for one in df2['충전소명']:\n",
    "    if '\"' in one:\n",
    "        count += 1\n",
    "print(count)"
   ]
  },
  {
   "cell_type": "markdown",
   "metadata": {},
   "source": [
    "### 연도/지역별 충전기ID 개수\n",
    "- 충전시간(계산) 음수 값 유지"
   ]
  },
  {
   "cell_type": "code",
   "execution_count": 57,
   "metadata": {},
   "outputs": [
    {
     "data": {
      "text/plain": [
       "(17585, 26)"
      ]
     },
     "execution_count": 57,
     "metadata": {},
     "output_type": "execute_result"
    }
   ],
   "source": [
    "numch_col = ['충전시작_년도', '충전소명', '충전기ID']\n",
    "numch = df2.drop_duplicates(numch_col, keep='first').reset_index(drop=True)\n",
    "numch.shape"
   ]
  },
  {
   "cell_type": "code",
   "execution_count": 80,
   "metadata": {},
   "outputs": [
    {
     "data": {
      "text/plain": [
       "충전시작_년도  지역    시군구  충전기ID\n",
       "2020     강원도   강릉시  1        15\n",
       "                    2        11\n",
       "                    3         5\n",
       "                    4         1\n",
       "                    21        1\n",
       "                             ..\n",
       "2022     충청북도  충주시  44        2\n",
       "                    45        1\n",
       "                    81        1\n",
       "                    82        1\n",
       "                    91        1\n",
       "Name: 충전기ID 수, Length: 5040, dtype: int64"
      ]
     },
     "execution_count": 80,
     "metadata": {},
     "output_type": "execute_result"
    }
   ],
   "source": [
    "numch_group_chargerID = numch.groupby(['충전시작_년도', '지역', '시군구', '충전기ID'])['충전소명'].count().rename('시군구별 충전기ID별 개수')\n",
    "numch_group_chargerID"
   ]
  },
  {
   "cell_type": "code",
   "execution_count": 81,
   "metadata": {},
   "outputs": [
    {
     "data": {
      "text/plain": [
       "지역    시군구  충전기ID  충전시작_년도\n",
       "강원도   강릉시  1      2020       15\n",
       "                  2021       17\n",
       "                  2022       20\n",
       "           2      2020       11\n",
       "                  2021       11\n",
       "                             ..\n",
       "충청북도  충주시  81     2022        1\n",
       "           82     2022        1\n",
       "           91     2020        1\n",
       "                  2021        1\n",
       "                  2022        1\n",
       "Name: 충전기ID 수, Length: 5040, dtype: int64"
      ]
     },
     "execution_count": 81,
     "metadata": {},
     "output_type": "execute_result"
    }
   ],
   "source": [
    "numch_group_chargerID_y = numch.groupby(['지역', '시군구', '충전기ID', '충전시작_년도'])['충전소명'].count().rename('충전기ID별 개수')\n",
    "numch_group_chargerID_y"
   ]
  },
  {
   "cell_type": "code",
   "execution_count": 82,
   "metadata": {},
   "outputs": [
    {
     "data": {
      "text/plain": [
       "지역    시군구  충전시작_년도\n",
       "강원도   강릉시  2020                [4, 1, 3, 2, 52, 42, 41, 43, 44, 21, 22]\n",
       "           2021            [42, 3, 1, 52, 2, 43, 41, 22, 4, 21, 44, 45]\n",
       "           2022               [1, 2, 22, 3, 21, 42, 45, 43, 41, 52, 44]\n",
       "      고성군  2020                                          [12, 11, 1, 2]\n",
       "           2021                                          [12, 2, 1, 11]\n",
       "                                            ...                        \n",
       "충청북도  청주시  2021          [1, 43, 2, 12, 11, 42, 52, 41, 21, 22, 45, 44]\n",
       "           2022       [1, 12, 41, 11, 2, 21, 22, 52, 44, 42, 45, 43,...\n",
       "      충주시  2020          [1, 11, 12, 2, 21, 22, 91, 41, 42, 45, 44, 43]\n",
       "           2021       [1, 12, 21, 22, 42, 41, 2, 43, 11, 44, 45, 91,...\n",
       "           2022       [1, 12, 21, 22, 91, 2, 11, 44, 42, 45, 24, 43,...\n",
       "Name: 충전기ID 값, Length: 744, dtype: object"
      ]
     },
     "execution_count": 82,
     "metadata": {},
     "output_type": "execute_result"
    }
   ],
   "source": [
    "numch_group_chargerID_y_u = numch.groupby(['지역', '시군구', '충전시작_년도'])['충전기ID'].unique().rename('충전기ID unique값')\n",
    "numch_group_chargerID_y_u"
   ]
  },
  {
   "cell_type": "code",
   "execution_count": 83,
   "metadata": {},
   "outputs": [
    {
     "data": {
      "text/plain": [
       "(744,)"
      ]
     },
     "execution_count": 83,
     "metadata": {},
     "output_type": "execute_result"
    }
   ],
   "source": [
    "numch_group_chargerID_y_u.shape"
   ]
  },
  {
   "cell_type": "code",
   "execution_count": 84,
   "metadata": {},
   "outputs": [
    {
     "data": {
      "text/plain": [
       "array([ 4,  1,  3,  2, 52, 42, 41, 43, 44, 21, 22], dtype=int8)"
      ]
     },
     "execution_count": 84,
     "metadata": {},
     "output_type": "execute_result"
    }
   ],
   "source": [
    "numch_group_chargerID_y_u.iloc[0]"
   ]
  },
  {
   "cell_type": "code",
   "execution_count": 85,
   "metadata": {},
   "outputs": [],
   "source": [
    "for i, one in enumerate(numch_group_chargerID_y_u):\n",
    "    numch_group_chargerID_y_u.iloc[i] = sorted(one)"
   ]
  },
  {
   "cell_type": "code",
   "execution_count": 86,
   "metadata": {},
   "outputs": [
    {
     "data": {
      "text/plain": [
       "지역    시군구  충전시작_년도\n",
       "강원도   강릉시  2020                [1, 2, 3, 4, 21, 22, 41, 42, 43, 44, 52]\n",
       "           2021            [1, 2, 3, 4, 21, 22, 41, 42, 43, 44, 45, 52]\n",
       "           2022               [1, 2, 3, 21, 22, 41, 42, 43, 44, 45, 52]\n",
       "      고성군  2020                                          [1, 2, 11, 12]\n",
       "           2021                                          [1, 2, 11, 12]\n",
       "                                            ...                        \n",
       "충청북도  청주시  2021          [1, 2, 11, 12, 21, 22, 41, 42, 43, 44, 45, 52]\n",
       "           2022       [1, 2, 3, 11, 12, 21, 22, 23, 24, 41, 42, 43, ...\n",
       "      충주시  2020          [1, 2, 11, 12, 21, 22, 41, 42, 43, 44, 45, 91]\n",
       "           2021       [1, 2, 11, 12, 21, 22, 23, 24, 41, 42, 43, 44,...\n",
       "           2022       [1, 2, 3, 4, 11, 12, 21, 22, 23, 24, 41, 42, 4...\n",
       "Name: 충전기ID 값, Length: 744, dtype: object"
      ]
     },
     "execution_count": 86,
     "metadata": {},
     "output_type": "execute_result"
    }
   ],
   "source": [
    "numch_group_chargerID_y_u"
   ]
  },
  {
   "cell_type": "code",
   "execution_count": 87,
   "metadata": {},
   "outputs": [
    {
     "data": {
      "text/plain": [
       "지역    시군구  충전시작_년도\n",
       "강원도   강릉시  2020       11\n",
       "           2021       12\n",
       "           2022       11\n",
       "      고성군  2020        4\n",
       "           2021        4\n",
       "                      ..\n",
       "충청북도  청주시  2021       12\n",
       "           2022       15\n",
       "      충주시  2020       12\n",
       "           2021       14\n",
       "           2022       18\n",
       "Name: 충전기ID 개수, Length: 744, dtype: int64"
      ]
     },
     "execution_count": 87,
     "metadata": {},
     "output_type": "execute_result"
    }
   ],
   "source": [
    "numch_group_chargerID_y_nu = numch.groupby(['지역', '시군구', '충전시작_년도'])['충전기ID'].nunique().rename('충전기ID nunique')\n",
    "numch_group_chargerID_y_nu"
   ]
  },
  {
   "cell_type": "code",
   "execution_count": 77,
   "metadata": {},
   "outputs": [
    {
     "data": {
      "text/plain": [
       "충전시작_년도  지역    충전기ID\n",
       "2020     강원도   1        158\n",
       "               2         56\n",
       "               3         10\n",
       "               4          2\n",
       "               11        39\n",
       "                       ... \n",
       "2022     충청북도  45         2\n",
       "               52         8\n",
       "               81         2\n",
       "               82         2\n",
       "               91         5\n",
       "Name: 충전소명, Length: 1015, dtype: int64"
      ]
     },
     "execution_count": 77,
     "metadata": {},
     "output_type": "execute_result"
    }
   ],
   "source": [
    "numch_group_chargerID_sum = numch.groupby(['충전시작_년도', '지역', '충전기ID'])['충전소명'].count().rename('지역별 ID별 충전기 개수')\n",
    "numch_group_chargerID_sum"
   ]
  },
  {
   "cell_type": "code",
   "execution_count": 88,
   "metadata": {},
   "outputs": [],
   "source": [
    "numch_group_chargerID_file = pd.ExcelWriter('분석/2020-22년_년도_지역별_충전기ID_수2.xlsx')\n",
    "numch_group_chargerID.to_excel(numch_group_chargerID_file, sheet_name='시군구별 충전기ID별 개수')\n",
    "numch_group_chargerID_y.to_excel(numch_group_chargerID_file, sheet_name='충전기ID별 개수')\n",
    "numch_group_chargerID_y_u.to_excel(numch_group_chargerID_file, sheet_name='충전기ID unique값')\n",
    "numch_group_chargerID_y_nu.to_excel(numch_group_chargerID_file, sheet_name='충전기ID nunique')\n",
    "numch_group_chargerID_sum.to_excel(numch_group_chargerID_file, sheet_name='지역별 ID별 충전기 개수')\n",
    "numch_group_chargerID_file.save()"
   ]
  },
  {
   "cell_type": "markdown",
   "metadata": {},
   "source": [
    "#### 충전시간 데이터 확인"
   ]
  },
  {
   "cell_type": "code",
   "execution_count": 148,
   "metadata": {},
   "outputs": [
    {
     "data": {
      "text/html": [
       "<div>\n",
       "<style scoped>\n",
       "    .dataframe tbody tr th:only-of-type {\n",
       "        vertical-align: middle;\n",
       "    }\n",
       "\n",
       "    .dataframe tbody tr th {\n",
       "        vertical-align: top;\n",
       "    }\n",
       "\n",
       "    .dataframe thead th {\n",
       "        text-align: right;\n",
       "    }\n",
       "</style>\n",
       "<table border=\"1\" class=\"dataframe\">\n",
       "  <thead>\n",
       "    <tr style=\"text-align: right;\">\n",
       "      <th></th>\n",
       "      <th>충전소명</th>\n",
       "      <th>충전기ID</th>\n",
       "      <th>지역</th>\n",
       "      <th>시군구</th>\n",
       "      <th>주소</th>\n",
       "      <th>충전기타입</th>\n",
       "      <th>충전시작일시</th>\n",
       "      <th>충전종료일시</th>\n",
       "      <th>충전시간</th>\n",
       "      <th>충전량</th>\n",
       "      <th>...</th>\n",
       "      <th>충전시작_초</th>\n",
       "      <th>충전시작일시(변환)</th>\n",
       "      <th>충전종료_년도</th>\n",
       "      <th>충전종료_월</th>\n",
       "      <th>충전종료_일</th>\n",
       "      <th>충전종료_시</th>\n",
       "      <th>충전종료_분</th>\n",
       "      <th>충전종료_초</th>\n",
       "      <th>충전종료일시(변환)</th>\n",
       "      <th>충전시간(계산)</th>\n",
       "    </tr>\n",
       "  </thead>\n",
       "  <tbody>\n",
       "    <tr>\n",
       "      <th>40755</th>\n",
       "      <td>스포츠파크 주차장</td>\n",
       "      <td>11</td>\n",
       "      <td>경상남도</td>\n",
       "      <td>거창군</td>\n",
       "      <td>경상남도 거창군 거창읍 심소정길39-36</td>\n",
       "      <td>DC콤보</td>\n",
       "      <td>20200106124403</td>\n",
       "      <td>20200106124403</td>\n",
       "      <td>0 days</td>\n",
       "      <td>1.02000</td>\n",
       "      <td>...</td>\n",
       "      <td>3</td>\n",
       "      <td>2020-01-06 12:44:03</td>\n",
       "      <td>2020</td>\n",
       "      <td>1</td>\n",
       "      <td>6</td>\n",
       "      <td>12</td>\n",
       "      <td>44</td>\n",
       "      <td>3</td>\n",
       "      <td>2020-01-06 12:44:03</td>\n",
       "      <td>0 days 00:00:00</td>\n",
       "    </tr>\n",
       "    <tr>\n",
       "      <th>48908</th>\n",
       "      <td>이마트 파주운정점</td>\n",
       "      <td>11</td>\n",
       "      <td>경기도</td>\n",
       "      <td>파주시</td>\n",
       "      <td>경기도 파주시 한울로 123</td>\n",
       "      <td>DC콤보</td>\n",
       "      <td>20200107165228</td>\n",
       "      <td>20200107165255</td>\n",
       "      <td>0 days</td>\n",
       "      <td>22.51000</td>\n",
       "      <td>...</td>\n",
       "      <td>28</td>\n",
       "      <td>2020-01-07 16:52:28</td>\n",
       "      <td>2020</td>\n",
       "      <td>1</td>\n",
       "      <td>7</td>\n",
       "      <td>16</td>\n",
       "      <td>52</td>\n",
       "      <td>55</td>\n",
       "      <td>2020-01-07 16:52:55</td>\n",
       "      <td>0 days 00:00:27</td>\n",
       "    </tr>\n",
       "    <tr>\n",
       "      <th>61941</th>\n",
       "      <td>(재)문화엑스포</td>\n",
       "      <td>11</td>\n",
       "      <td>경상북도</td>\n",
       "      <td>경주시</td>\n",
       "      <td>경상북도 경주시 경감로 614</td>\n",
       "      <td>DC콤보</td>\n",
       "      <td>20200109145420</td>\n",
       "      <td>20200109145420</td>\n",
       "      <td>0 days</td>\n",
       "      <td>1.18000</td>\n",
       "      <td>...</td>\n",
       "      <td>20</td>\n",
       "      <td>2020-01-09 14:54:20</td>\n",
       "      <td>2020</td>\n",
       "      <td>1</td>\n",
       "      <td>9</td>\n",
       "      <td>14</td>\n",
       "      <td>54</td>\n",
       "      <td>20</td>\n",
       "      <td>2020-01-09 14:54:20</td>\n",
       "      <td>0 days 00:00:00</td>\n",
       "    </tr>\n",
       "    <tr>\n",
       "      <th>103629</th>\n",
       "      <td>종합사회복지관</td>\n",
       "      <td>12</td>\n",
       "      <td>충청남도</td>\n",
       "      <td>공주시</td>\n",
       "      <td>충청남도 공주시 의당면 의당로 257</td>\n",
       "      <td>DC콤보</td>\n",
       "      <td>20200114192124</td>\n",
       "      <td>20200114192132</td>\n",
       "      <td>0 days</td>\n",
       "      <td>14.58000</td>\n",
       "      <td>...</td>\n",
       "      <td>24</td>\n",
       "      <td>2020-01-14 19:21:24</td>\n",
       "      <td>2020</td>\n",
       "      <td>1</td>\n",
       "      <td>14</td>\n",
       "      <td>19</td>\n",
       "      <td>21</td>\n",
       "      <td>32</td>\n",
       "      <td>2020-01-14 19:21:32</td>\n",
       "      <td>0 days 00:00:08</td>\n",
       "    </tr>\n",
       "    <tr>\n",
       "      <th>156226</th>\n",
       "      <td>부안국민체육센터</td>\n",
       "      <td>11</td>\n",
       "      <td>전라북도</td>\n",
       "      <td>부안군</td>\n",
       "      <td>전라북도 부안군 부안읍 석정로 162</td>\n",
       "      <td>DC콤보</td>\n",
       "      <td>20200121162513</td>\n",
       "      <td>20200121162513</td>\n",
       "      <td>0 days</td>\n",
       "      <td>1.48000</td>\n",
       "      <td>...</td>\n",
       "      <td>13</td>\n",
       "      <td>2020-01-21 16:25:13</td>\n",
       "      <td>2020</td>\n",
       "      <td>1</td>\n",
       "      <td>21</td>\n",
       "      <td>16</td>\n",
       "      <td>25</td>\n",
       "      <td>13</td>\n",
       "      <td>2020-01-21 16:25:13</td>\n",
       "      <td>0 days 00:00:00</td>\n",
       "    </tr>\n",
       "  </tbody>\n",
       "</table>\n",
       "<p>5 rows × 26 columns</p>\n",
       "</div>"
      ],
      "text/plain": [
       "             충전소명  충전기ID    지역  시군구                      주소 충전기타입  \\\n",
       "40755   스포츠파크 주차장     11  경상남도  거창군  경상남도 거창군 거창읍 심소정길39-36  DC콤보   \n",
       "48908   이마트 파주운정점     11   경기도  파주시         경기도 파주시 한울로 123  DC콤보   \n",
       "61941    (재)문화엑스포     11  경상북도  경주시        경상북도 경주시 경감로 614  DC콤보   \n",
       "103629    종합사회복지관     12  충청남도  공주시    충청남도 공주시 의당면 의당로 257  DC콤보   \n",
       "156226   부안국민체육센터     11  전라북도  부안군    전라북도 부안군 부안읍 석정로 162  DC콤보   \n",
       "\n",
       "                충전시작일시          충전종료일시   충전시간      충전량  ... 충전시작_초  \\\n",
       "40755   20200106124403  20200106124403 0 days  1.02000  ...      3   \n",
       "48908   20200107165228  20200107165255 0 days 22.51000  ...     28   \n",
       "61941   20200109145420  20200109145420 0 days  1.18000  ...     20   \n",
       "103629  20200114192124  20200114192132 0 days 14.58000  ...     24   \n",
       "156226  20200121162513  20200121162513 0 days  1.48000  ...     13   \n",
       "\n",
       "                충전시작일시(변환)  충전종료_년도  충전종료_월  충전종료_일  충전종료_시  충전종료_분 충전종료_초  \\\n",
       "40755  2020-01-06 12:44:03     2020       1       6      12      44      3   \n",
       "48908  2020-01-07 16:52:28     2020       1       7      16      52     55   \n",
       "61941  2020-01-09 14:54:20     2020       1       9      14      54     20   \n",
       "103629 2020-01-14 19:21:24     2020       1      14      19      21     32   \n",
       "156226 2020-01-21 16:25:13     2020       1      21      16      25     13   \n",
       "\n",
       "                충전종료일시(변환)        충전시간(계산)  \n",
       "40755  2020-01-06 12:44:03 0 days 00:00:00  \n",
       "48908  2020-01-07 16:52:55 0 days 00:00:27  \n",
       "61941  2020-01-09 14:54:20 0 days 00:00:00  \n",
       "103629 2020-01-14 19:21:32 0 days 00:00:08  \n",
       "156226 2020-01-21 16:25:13 0 days 00:00:00  \n",
       "\n",
       "[5 rows x 26 columns]"
      ]
     },
     "execution_count": 148,
     "metadata": {},
     "output_type": "execute_result"
    }
   ],
   "source": [
    "df2[df2['충전시간'] == '0 days 00:00:00'].head()"
   ]
  },
  {
   "cell_type": "code",
   "execution_count": 149,
   "metadata": {},
   "outputs": [
    {
     "data": {
      "text/plain": [
       "(5702, 26)"
      ]
     },
     "execution_count": 149,
     "metadata": {},
     "output_type": "execute_result"
    }
   ],
   "source": [
    "df2[df2['충전시간'] == '0 days 00:00:00'].shape"
   ]
  },
  {
   "cell_type": "code",
   "execution_count": 150,
   "metadata": {},
   "outputs": [
    {
     "data": {
      "text/plain": [
       "dtype('float64')"
      ]
     },
     "execution_count": 150,
     "metadata": {},
     "output_type": "execute_result"
    }
   ],
   "source": [
    "df2['충전량'].dtype"
   ]
  },
  {
   "cell_type": "code",
   "execution_count": 151,
   "metadata": {},
   "outputs": [
    {
     "data": {
      "text/plain": [
       "0   20.22000\n",
       "1   18.87000\n",
       "2   16.04000\n",
       "3    5.80000\n",
       "4   13.32000\n",
       "Name: 충전량, dtype: float64"
      ]
     },
     "execution_count": 151,
     "metadata": {},
     "output_type": "execute_result"
    }
   ],
   "source": [
    "df2['충전량'].head()"
   ]
  },
  {
   "cell_type": "code",
   "execution_count": 152,
   "metadata": {},
   "outputs": [
    {
     "data": {
      "text/html": [
       "<div>\n",
       "<style scoped>\n",
       "    .dataframe tbody tr th:only-of-type {\n",
       "        vertical-align: middle;\n",
       "    }\n",
       "\n",
       "    .dataframe tbody tr th {\n",
       "        vertical-align: top;\n",
       "    }\n",
       "\n",
       "    .dataframe thead th {\n",
       "        text-align: right;\n",
       "    }\n",
       "</style>\n",
       "<table border=\"1\" class=\"dataframe\">\n",
       "  <thead>\n",
       "    <tr style=\"text-align: right;\">\n",
       "      <th></th>\n",
       "      <th>충전시간</th>\n",
       "      <th>충전량</th>\n",
       "    </tr>\n",
       "  </thead>\n",
       "  <tbody>\n",
       "    <tr>\n",
       "      <th>40755</th>\n",
       "      <td>0 days</td>\n",
       "      <td>1.02000</td>\n",
       "    </tr>\n",
       "    <tr>\n",
       "      <th>48908</th>\n",
       "      <td>0 days</td>\n",
       "      <td>22.51000</td>\n",
       "    </tr>\n",
       "    <tr>\n",
       "      <th>61941</th>\n",
       "      <td>0 days</td>\n",
       "      <td>1.18000</td>\n",
       "    </tr>\n",
       "    <tr>\n",
       "      <th>103629</th>\n",
       "      <td>0 days</td>\n",
       "      <td>14.58000</td>\n",
       "    </tr>\n",
       "    <tr>\n",
       "      <th>156226</th>\n",
       "      <td>0 days</td>\n",
       "      <td>1.48000</td>\n",
       "    </tr>\n",
       "    <tr>\n",
       "      <th>...</th>\n",
       "      <td>...</td>\n",
       "      <td>...</td>\n",
       "    </tr>\n",
       "    <tr>\n",
       "      <th>11571981</th>\n",
       "      <td>0 days</td>\n",
       "      <td>18.70000</td>\n",
       "    </tr>\n",
       "    <tr>\n",
       "      <th>11572687</th>\n",
       "      <td>0 days</td>\n",
       "      <td>23.41000</td>\n",
       "    </tr>\n",
       "    <tr>\n",
       "      <th>11607861</th>\n",
       "      <td>0 days</td>\n",
       "      <td>7.44000</td>\n",
       "    </tr>\n",
       "    <tr>\n",
       "      <th>11618040</th>\n",
       "      <td>0 days</td>\n",
       "      <td>4.50000</td>\n",
       "    </tr>\n",
       "    <tr>\n",
       "      <th>11619415</th>\n",
       "      <td>0 days</td>\n",
       "      <td>13.48000</td>\n",
       "    </tr>\n",
       "  </tbody>\n",
       "</table>\n",
       "<p>5702 rows × 2 columns</p>\n",
       "</div>"
      ],
      "text/plain": [
       "           충전시간      충전량\n",
       "40755    0 days  1.02000\n",
       "48908    0 days 22.51000\n",
       "61941    0 days  1.18000\n",
       "103629   0 days 14.58000\n",
       "156226   0 days  1.48000\n",
       "...         ...      ...\n",
       "11571981 0 days 18.70000\n",
       "11572687 0 days 23.41000\n",
       "11607861 0 days  7.44000\n",
       "11618040 0 days  4.50000\n",
       "11619415 0 days 13.48000\n",
       "\n",
       "[5702 rows x 2 columns]"
      ]
     },
     "execution_count": 152,
     "metadata": {},
     "output_type": "execute_result"
    }
   ],
   "source": [
    "df2[ (df2['충전시간'] == '0 days 00:00:00') & (df2['충전량'] != 0) ][['충전시간', '충전량']]"
   ]
  },
  {
   "cell_type": "code",
   "execution_count": 153,
   "metadata": {},
   "outputs": [
    {
     "data": {
      "text/html": [
       "<div>\n",
       "<style scoped>\n",
       "    .dataframe tbody tr th:only-of-type {\n",
       "        vertical-align: middle;\n",
       "    }\n",
       "\n",
       "    .dataframe tbody tr th {\n",
       "        vertical-align: top;\n",
       "    }\n",
       "\n",
       "    .dataframe thead th {\n",
       "        text-align: right;\n",
       "    }\n",
       "</style>\n",
       "<table border=\"1\" class=\"dataframe\">\n",
       "  <thead>\n",
       "    <tr style=\"text-align: right;\">\n",
       "      <th></th>\n",
       "      <th>충전시간</th>\n",
       "      <th>충전량</th>\n",
       "    </tr>\n",
       "  </thead>\n",
       "  <tbody>\n",
       "    <tr>\n",
       "      <th>40755</th>\n",
       "      <td>0 days</td>\n",
       "      <td>1.02000</td>\n",
       "    </tr>\n",
       "    <tr>\n",
       "      <th>48908</th>\n",
       "      <td>0 days</td>\n",
       "      <td>22.51000</td>\n",
       "    </tr>\n",
       "    <tr>\n",
       "      <th>61941</th>\n",
       "      <td>0 days</td>\n",
       "      <td>1.18000</td>\n",
       "    </tr>\n",
       "    <tr>\n",
       "      <th>103629</th>\n",
       "      <td>0 days</td>\n",
       "      <td>14.58000</td>\n",
       "    </tr>\n",
       "    <tr>\n",
       "      <th>156226</th>\n",
       "      <td>0 days</td>\n",
       "      <td>1.48000</td>\n",
       "    </tr>\n",
       "    <tr>\n",
       "      <th>...</th>\n",
       "      <td>...</td>\n",
       "      <td>...</td>\n",
       "    </tr>\n",
       "    <tr>\n",
       "      <th>11571981</th>\n",
       "      <td>0 days</td>\n",
       "      <td>18.70000</td>\n",
       "    </tr>\n",
       "    <tr>\n",
       "      <th>11572687</th>\n",
       "      <td>0 days</td>\n",
       "      <td>23.41000</td>\n",
       "    </tr>\n",
       "    <tr>\n",
       "      <th>11607861</th>\n",
       "      <td>0 days</td>\n",
       "      <td>7.44000</td>\n",
       "    </tr>\n",
       "    <tr>\n",
       "      <th>11618040</th>\n",
       "      <td>0 days</td>\n",
       "      <td>4.50000</td>\n",
       "    </tr>\n",
       "    <tr>\n",
       "      <th>11619415</th>\n",
       "      <td>0 days</td>\n",
       "      <td>13.48000</td>\n",
       "    </tr>\n",
       "  </tbody>\n",
       "</table>\n",
       "<p>5702 rows × 2 columns</p>\n",
       "</div>"
      ],
      "text/plain": [
       "           충전시간      충전량\n",
       "40755    0 days  1.02000\n",
       "48908    0 days 22.51000\n",
       "61941    0 days  1.18000\n",
       "103629   0 days 14.58000\n",
       "156226   0 days  1.48000\n",
       "...         ...      ...\n",
       "11571981 0 days 18.70000\n",
       "11572687 0 days 23.41000\n",
       "11607861 0 days  7.44000\n",
       "11618040 0 days  4.50000\n",
       "11619415 0 days 13.48000\n",
       "\n",
       "[5702 rows x 2 columns]"
      ]
     },
     "execution_count": 153,
     "metadata": {},
     "output_type": "execute_result"
    }
   ],
   "source": [
    "df2.loc[ (df2['충전시간'] == '0 days 00:00:00') & (df2['충전량'] != 0), ['충전시간', '충전량'] ]"
   ]
  },
  {
   "cell_type": "code",
   "execution_count": 154,
   "metadata": {},
   "outputs": [
    {
     "data": {
      "text/plain": [
       "(5702, 26)"
      ]
     },
     "execution_count": 154,
     "metadata": {},
     "output_type": "execute_result"
    }
   ],
   "source": [
    "df2[ (df2['충전시간'] == '0 days 00:00:00') & (df2['충전량'] != 0) ].shape"
   ]
  },
  {
   "cell_type": "markdown",
   "metadata": {},
   "source": [
    "#### 충전시간(계산) 음수 값 제거\n",
    "- 52366개"
   ]
  },
  {
   "cell_type": "code",
   "execution_count": 155,
   "metadata": {},
   "outputs": [
    {
     "data": {
      "text/plain": [
       "52366"
      ]
     },
     "execution_count": 155,
     "metadata": {},
     "output_type": "execute_result"
    }
   ],
   "source": [
    "n_ch_time_idx = df2[df2['충전시간(계산)'] < '0'].index\n",
    "len(n_ch_time_idx)"
   ]
  },
  {
   "cell_type": "code",
   "execution_count": 158,
   "metadata": {},
   "outputs": [
    {
     "data": {
      "text/plain": [
       "16367   -1 days +14:47:54\n",
       "16370   -1 days +14:47:04\n",
       "16373   -1 days +14:46:20\n",
       "16935   -1 days +13:26:06\n",
       "16941   -1 days +13:25:25\n",
       "Name: 충전시간(계산), dtype: timedelta64[ns]"
      ]
     },
     "execution_count": 158,
     "metadata": {},
     "output_type": "execute_result"
    }
   ],
   "source": [
    "df2[df2['충전시간(계산)'] < '0']['충전시간(계산)'].head()"
   ]
  },
  {
   "cell_type": "code",
   "execution_count": 159,
   "metadata": {},
   "outputs": [
    {
     "data": {
      "text/plain": [
       "3255838    -1 days +23:54:45\n",
       "7653730    -1 days +23:55:24\n",
       "8325194    -1 days +22:25:53\n",
       "9172214    -1 days +23:38:16\n",
       "11279091   -1 days +21:45:24\n",
       "Name: 충전시간(계산), dtype: timedelta64[ns]"
      ]
     },
     "execution_count": 159,
     "metadata": {},
     "output_type": "execute_result"
    }
   ],
   "source": [
    "df2[df2['충전시간(계산)'] < '0']['충전시간(계산)'].tail()"
   ]
  },
  {
   "cell_type": "code",
   "execution_count": 157,
   "metadata": {},
   "outputs": [
    {
     "data": {
      "text/plain": [
       "(11665815, 26)"
      ]
     },
     "execution_count": 157,
     "metadata": {},
     "output_type": "execute_result"
    }
   ],
   "source": [
    "df2.shape"
   ]
  },
  {
   "cell_type": "code",
   "execution_count": 160,
   "metadata": {},
   "outputs": [],
   "source": [
    "df2 = df2.drop(n_ch_time_idx).reset_index(drop=True)"
   ]
  },
  {
   "cell_type": "code",
   "execution_count": 161,
   "metadata": {},
   "outputs": [
    {
     "data": {
      "text/plain": [
       "(11613449, 26)"
      ]
     },
     "execution_count": 161,
     "metadata": {},
     "output_type": "execute_result"
    }
   ],
   "source": [
    "df2.shape"
   ]
  },
  {
   "cell_type": "code",
   "execution_count": 162,
   "metadata": {},
   "outputs": [
    {
     "data": {
      "text/plain": [
       "count                     11613449\n",
       "mean     0 days 00:33:51.200344617\n",
       "std      0 days 01:19:04.781739278\n",
       "min                0 days 00:00:00\n",
       "25%                0 days 00:20:53\n",
       "50%                0 days 00:34:02\n",
       "75%                0 days 00:40:00\n",
       "max                4 days 03:56:55\n",
       "Name: 충전시간, dtype: object"
      ]
     },
     "execution_count": 162,
     "metadata": {},
     "output_type": "execute_result"
    }
   ],
   "source": [
    "df2['충전시간'].describe()"
   ]
  },
  {
   "cell_type": "code",
   "execution_count": 163,
   "metadata": {},
   "outputs": [
    {
     "data": {
      "text/plain": [
       "count                     11613449\n",
       "mean     0 days 00:34:58.600275335\n",
       "std      0 days 01:23:19.668917229\n",
       "min                0 days 00:00:00\n",
       "25%                0 days 00:21:39\n",
       "50%                0 days 00:34:56\n",
       "75%                0 days 00:40:25\n",
       "max               14 days 08:40:25\n",
       "Name: 충전시간(계산), dtype: object"
      ]
     },
     "execution_count": 163,
     "metadata": {},
     "output_type": "execute_result"
    }
   ],
   "source": [
    "df2['충전시간(계산)'].describe()"
   ]
  },
  {
   "cell_type": "markdown",
   "metadata": {},
   "source": [
    "#### 원본 충전시간과 계산 충전시간 차이 통계"
   ]
  },
  {
   "cell_type": "code",
   "execution_count": 164,
   "metadata": {},
   "outputs": [
    {
     "data": {
      "text/plain": [
       "count                     11613449\n",
       "mean     0 days 00:01:07.399930718\n",
       "std      0 days 01:01:06.908441070\n",
       "min              -1 days +00:00:23\n",
       "25%                0 days 00:00:00\n",
       "50%                0 days 00:00:13\n",
       "75%                0 days 00:01:42\n",
       "max               14 days 08:32:12\n",
       "dtype: object"
      ]
     },
     "execution_count": 164,
     "metadata": {},
     "output_type": "execute_result"
    }
   ],
   "source": [
    "temp = df2['충전시간(계산)'] - df2['충전시간']\n",
    "temp.describe()"
   ]
  },
  {
   "cell_type": "code",
   "execution_count": 165,
   "metadata": {},
   "outputs": [
    {
     "data": {
      "text/plain": [
       "(817340,)"
      ]
     },
     "execution_count": 165,
     "metadata": {},
     "output_type": "execute_result"
    }
   ],
   "source": [
    "temp[temp < '0'].shape"
   ]
  },
  {
   "cell_type": "code",
   "execution_count": 166,
   "metadata": {},
   "outputs": [],
   "source": [
    "df2['raw값과_계산값_차이'] = df2['충전시간(계산)'] - df2['충전시간']"
   ]
  },
  {
   "cell_type": "code",
   "execution_count": 167,
   "metadata": {},
   "outputs": [
    {
     "data": {
      "text/html": [
       "<div>\n",
       "<style scoped>\n",
       "    .dataframe tbody tr th:only-of-type {\n",
       "        vertical-align: middle;\n",
       "    }\n",
       "\n",
       "    .dataframe tbody tr th {\n",
       "        vertical-align: top;\n",
       "    }\n",
       "\n",
       "    .dataframe thead th {\n",
       "        text-align: right;\n",
       "    }\n",
       "</style>\n",
       "<table border=\"1\" class=\"dataframe\">\n",
       "  <thead>\n",
       "    <tr style=\"text-align: right;\">\n",
       "      <th></th>\n",
       "      <th>충전소명</th>\n",
       "      <th>충전기ID</th>\n",
       "      <th>지역</th>\n",
       "      <th>시군구</th>\n",
       "      <th>주소</th>\n",
       "      <th>충전기타입</th>\n",
       "      <th>충전시작일시</th>\n",
       "      <th>충전종료일시</th>\n",
       "      <th>충전시간</th>\n",
       "      <th>충전량</th>\n",
       "      <th>...</th>\n",
       "      <th>충전시작일시(변환)</th>\n",
       "      <th>충전종료_년도</th>\n",
       "      <th>충전종료_월</th>\n",
       "      <th>충전종료_일</th>\n",
       "      <th>충전종료_시</th>\n",
       "      <th>충전종료_분</th>\n",
       "      <th>충전종료_초</th>\n",
       "      <th>충전종료일시(변환)</th>\n",
       "      <th>충전시간(계산)</th>\n",
       "      <th>raw값과_계산값_차이</th>\n",
       "    </tr>\n",
       "  </thead>\n",
       "  <tbody>\n",
       "    <tr>\n",
       "      <th>8083907</th>\n",
       "      <td>포항실내사격장</td>\n",
       "      <td>11</td>\n",
       "      <td>경상북도</td>\n",
       "      <td>포항시</td>\n",
       "      <td>경상북도 포항시 북구 용흥동 4-9</td>\n",
       "      <td>DC콤보</td>\n",
       "      <td>20220305094551</td>\n",
       "      <td>20220319182616</td>\n",
       "      <td>0 days 00:08:13</td>\n",
       "      <td>3.24000</td>\n",
       "      <td>...</td>\n",
       "      <td>2022-03-05 09:45:51</td>\n",
       "      <td>2022</td>\n",
       "      <td>3</td>\n",
       "      <td>19</td>\n",
       "      <td>18</td>\n",
       "      <td>26</td>\n",
       "      <td>16</td>\n",
       "      <td>2022-03-19 18:26:16</td>\n",
       "      <td>14 days 08:40:25</td>\n",
       "      <td>14 days 08:32:12</td>\n",
       "    </tr>\n",
       "  </tbody>\n",
       "</table>\n",
       "<p>1 rows × 27 columns</p>\n",
       "</div>"
      ],
      "text/plain": [
       "            충전소명  충전기ID    지역  시군구                   주소 충전기타입          충전시작일시  \\\n",
       "8083907  포항실내사격장     11  경상북도  포항시  경상북도 포항시 북구 용흥동 4-9  DC콤보  20220305094551   \n",
       "\n",
       "                 충전종료일시            충전시간     충전량  ...          충전시작일시(변환)  \\\n",
       "8083907  20220319182616 0 days 00:08:13 3.24000  ... 2022-03-05 09:45:51   \n",
       "\n",
       "         충전종료_년도  충전종료_월  충전종료_일  충전종료_시  충전종료_분  충전종료_초          충전종료일시(변환)  \\\n",
       "8083907     2022       3      19      18      26      16 2022-03-19 18:26:16   \n",
       "\n",
       "                충전시간(계산)     raw값과_계산값_차이  \n",
       "8083907 14 days 08:40:25 14 days 08:32:12  \n",
       "\n",
       "[1 rows x 27 columns]"
      ]
     },
     "execution_count": 167,
     "metadata": {},
     "output_type": "execute_result"
    }
   ],
   "source": [
    "df2[df2['raw값과_계산값_차이'] > '14 days']"
   ]
  },
  {
   "cell_type": "code",
   "execution_count": 168,
   "metadata": {},
   "outputs": [],
   "source": [
    "# df2 = df2.drop(['raw값과_계산값_차이'], axis=1)"
   ]
  },
  {
   "cell_type": "code",
   "execution_count": 169,
   "metadata": {},
   "outputs": [
    {
     "name": "stdout",
     "output_type": "stream",
     "text": [
      "<class 'pandas.core.frame.DataFrame'>\n",
      "RangeIndex: 11613449 entries, 0 to 11613448\n",
      "Data columns (total 27 columns):\n",
      " #   Column        Dtype          \n",
      "---  ------        -----          \n",
      " 0   충전소명          object         \n",
      " 1   충전기ID         int16          \n",
      " 2   지역            object         \n",
      " 3   시군구           object         \n",
      " 4   주소            object         \n",
      " 5   충전기타입         object         \n",
      " 6   충전시작일시        int64          \n",
      " 7   충전종료일시        object         \n",
      " 8   충전시간          timedelta64[ns]\n",
      " 9   충전량           float64        \n",
      " 10  충전용량          object         \n",
      " 11  충전시작_년도       int32          \n",
      " 12  충전시작_월        int32          \n",
      " 13  충전시작_일        int32          \n",
      " 14  충전시작_시        int32          \n",
      " 15  충전시작_분        int32          \n",
      " 16  충전시작_초        int32          \n",
      " 17  충전시작일시(변환)    datetime64[ns] \n",
      " 18  충전종료_년도       int32          \n",
      " 19  충전종료_월        int32          \n",
      " 20  충전종료_일        int32          \n",
      " 21  충전종료_시        int32          \n",
      " 22  충전종료_분        int32          \n",
      " 23  충전종료_초        int32          \n",
      " 24  충전종료일시(변환)    datetime64[ns] \n",
      " 25  충전시간(계산)      timedelta64[ns]\n",
      " 26  raw값과_계산값_차이  timedelta64[ns]\n",
      "dtypes: datetime64[ns](2), float64(1), int16(1), int32(12), int64(1), object(7), timedelta64[ns](3)\n",
      "memory usage: 1.8+ GB\n"
     ]
    }
   ],
   "source": [
    "df2.info()"
   ]
  },
  {
   "cell_type": "code",
   "execution_count": 170,
   "metadata": {},
   "outputs": [
    {
     "name": "stdout",
     "output_type": "stream",
     "text": [
      "<class 'pandas.core.frame.DataFrame'>\n",
      "RangeIndex: 11613449 entries, 0 to 11613448\n",
      "Data columns (total 14 columns):\n",
      " #   Column   Dtype          \n",
      "---  ------   -----          \n",
      " 0   충전소명     object         \n",
      " 1   충전기ID    int16          \n",
      " 2   지역       object         \n",
      " 3   시군구      object         \n",
      " 4   주소       object         \n",
      " 5   충전기타입    object         \n",
      " 6   충전시작일시   int64          \n",
      " 7   충전종료일시   object         \n",
      " 8   충전시간     timedelta64[ns]\n",
      " 9   충전량      float64        \n",
      " 10  충전용량     object         \n",
      " 11  충전시작_년도  int32          \n",
      " 12  충전시작_월   int32          \n",
      " 13  충전시작_일   int32          \n",
      "dtypes: float64(1), int16(1), int32(3), int64(1), object(7), timedelta64[ns](1)\n",
      "memory usage: 1.0+ GB\n"
     ]
    }
   ],
   "source": [
    "df2.iloc[:, :14].info()"
   ]
  },
  {
   "cell_type": "code",
   "execution_count": 171,
   "metadata": {},
   "outputs": [
    {
     "name": "stdout",
     "output_type": "stream",
     "text": [
      "<class 'pandas.core.frame.DataFrame'>\n",
      "RangeIndex: 11613449 entries, 0 to 11613448\n",
      "Data columns (total 13 columns):\n",
      " #   Column        Dtype          \n",
      "---  ------        -----          \n",
      " 0   충전시작_시        int32          \n",
      " 1   충전시작_분        int32          \n",
      " 2   충전시작_초        int32          \n",
      " 3   충전시작일시(변환)    datetime64[ns] \n",
      " 4   충전종료_년도       int32          \n",
      " 5   충전종료_월        int32          \n",
      " 6   충전종료_일        int32          \n",
      " 7   충전종료_시        int32          \n",
      " 8   충전종료_분        int32          \n",
      " 9   충전종료_초        int32          \n",
      " 10  충전종료일시(변환)    datetime64[ns] \n",
      " 11  충전시간(계산)      timedelta64[ns]\n",
      " 12  raw값과_계산값_차이  timedelta64[ns]\n",
      "dtypes: datetime64[ns](2), int32(9), timedelta64[ns](2)\n",
      "memory usage: 753.1 MB\n"
     ]
    }
   ],
   "source": [
    "df2.iloc[:, 14:].info()"
   ]
  },
  {
   "cell_type": "markdown",
   "metadata": {},
   "source": [
    "### 데이터 절약"
   ]
  },
  {
   "cell_type": "code",
   "execution_count": 172,
   "metadata": {},
   "outputs": [
    {
     "data": {
      "text/html": [
       "<div>\n",
       "<style scoped>\n",
       "    .dataframe tbody tr th:only-of-type {\n",
       "        vertical-align: middle;\n",
       "    }\n",
       "\n",
       "    .dataframe tbody tr th {\n",
       "        vertical-align: top;\n",
       "    }\n",
       "\n",
       "    .dataframe thead th {\n",
       "        text-align: right;\n",
       "    }\n",
       "</style>\n",
       "<table border=\"1\" class=\"dataframe\">\n",
       "  <thead>\n",
       "    <tr style=\"text-align: right;\">\n",
       "      <th></th>\n",
       "      <th>충전시작_년도</th>\n",
       "      <th>충전시작_월</th>\n",
       "      <th>충전시작_일</th>\n",
       "      <th>충전시작_시</th>\n",
       "      <th>충전시작_분</th>\n",
       "      <th>충전시작_초</th>\n",
       "      <th>충전종료_년도</th>\n",
       "      <th>충전종료_월</th>\n",
       "      <th>충전종료_일</th>\n",
       "      <th>충전종료_시</th>\n",
       "      <th>충전종료_분</th>\n",
       "      <th>충전종료_초</th>\n",
       "    </tr>\n",
       "  </thead>\n",
       "  <tbody>\n",
       "    <tr>\n",
       "      <th>count</th>\n",
       "      <td>11613449.00000</td>\n",
       "      <td>11613449.00000</td>\n",
       "      <td>11613449.00000</td>\n",
       "      <td>11613449.00000</td>\n",
       "      <td>11613449.00000</td>\n",
       "      <td>11613449.00000</td>\n",
       "      <td>11613449.00000</td>\n",
       "      <td>11613449.00000</td>\n",
       "      <td>11613449.00000</td>\n",
       "      <td>11613449.00000</td>\n",
       "      <td>11613449.00000</td>\n",
       "      <td>11613449.00000</td>\n",
       "    </tr>\n",
       "    <tr>\n",
       "      <th>mean</th>\n",
       "      <td>2021.16059</td>\n",
       "      <td>6.20425</td>\n",
       "      <td>15.80842</td>\n",
       "      <td>13.72640</td>\n",
       "      <td>29.47740</td>\n",
       "      <td>29.49963</td>\n",
       "      <td>2021.16062</td>\n",
       "      <td>6.20430</td>\n",
       "      <td>15.80841</td>\n",
       "      <td>14.01221</td>\n",
       "      <td>29.54277</td>\n",
       "      <td>29.45744</td>\n",
       "    </tr>\n",
       "    <tr>\n",
       "      <th>std</th>\n",
       "      <td>0.77937</td>\n",
       "      <td>3.33015</td>\n",
       "      <td>8.80106</td>\n",
       "      <td>4.95829</td>\n",
       "      <td>17.33414</td>\n",
       "      <td>17.31996</td>\n",
       "      <td>0.77937</td>\n",
       "      <td>3.33017</td>\n",
       "      <td>8.80110</td>\n",
       "      <td>5.07576</td>\n",
       "      <td>17.34527</td>\n",
       "      <td>17.33907</td>\n",
       "    </tr>\n",
       "    <tr>\n",
       "      <th>min</th>\n",
       "      <td>2020.00000</td>\n",
       "      <td>1.00000</td>\n",
       "      <td>1.00000</td>\n",
       "      <td>0.00000</td>\n",
       "      <td>0.00000</td>\n",
       "      <td>0.00000</td>\n",
       "      <td>2020.00000</td>\n",
       "      <td>1.00000</td>\n",
       "      <td>1.00000</td>\n",
       "      <td>0.00000</td>\n",
       "      <td>0.00000</td>\n",
       "      <td>0.00000</td>\n",
       "    </tr>\n",
       "    <tr>\n",
       "      <th>25%</th>\n",
       "      <td>2021.00000</td>\n",
       "      <td>3.00000</td>\n",
       "      <td>8.00000</td>\n",
       "      <td>10.00000</td>\n",
       "      <td>14.00000</td>\n",
       "      <td>14.00000</td>\n",
       "      <td>2021.00000</td>\n",
       "      <td>3.00000</td>\n",
       "      <td>8.00000</td>\n",
       "      <td>11.00000</td>\n",
       "      <td>15.00000</td>\n",
       "      <td>14.00000</td>\n",
       "    </tr>\n",
       "    <tr>\n",
       "      <th>50%</th>\n",
       "      <td>2021.00000</td>\n",
       "      <td>6.00000</td>\n",
       "      <td>16.00000</td>\n",
       "      <td>14.00000</td>\n",
       "      <td>29.00000</td>\n",
       "      <td>29.00000</td>\n",
       "      <td>2021.00000</td>\n",
       "      <td>6.00000</td>\n",
       "      <td>16.00000</td>\n",
       "      <td>14.00000</td>\n",
       "      <td>30.00000</td>\n",
       "      <td>29.00000</td>\n",
       "    </tr>\n",
       "    <tr>\n",
       "      <th>75%</th>\n",
       "      <td>2022.00000</td>\n",
       "      <td>9.00000</td>\n",
       "      <td>23.00000</td>\n",
       "      <td>17.00000</td>\n",
       "      <td>45.00000</td>\n",
       "      <td>45.00000</td>\n",
       "      <td>2022.00000</td>\n",
       "      <td>9.00000</td>\n",
       "      <td>23.00000</td>\n",
       "      <td>18.00000</td>\n",
       "      <td>45.00000</td>\n",
       "      <td>44.00000</td>\n",
       "    </tr>\n",
       "    <tr>\n",
       "      <th>max</th>\n",
       "      <td>2022.00000</td>\n",
       "      <td>12.00000</td>\n",
       "      <td>31.00000</td>\n",
       "      <td>23.00000</td>\n",
       "      <td>59.00000</td>\n",
       "      <td>59.00000</td>\n",
       "      <td>2022.00000</td>\n",
       "      <td>12.00000</td>\n",
       "      <td>31.00000</td>\n",
       "      <td>23.00000</td>\n",
       "      <td>59.00000</td>\n",
       "      <td>59.00000</td>\n",
       "    </tr>\n",
       "  </tbody>\n",
       "</table>\n",
       "</div>"
      ],
      "text/plain": [
       "             충전시작_년도         충전시작_월         충전시작_일         충전시작_시  \\\n",
       "count 11613449.00000 11613449.00000 11613449.00000 11613449.00000   \n",
       "mean      2021.16059        6.20425       15.80842       13.72640   \n",
       "std          0.77937        3.33015        8.80106        4.95829   \n",
       "min       2020.00000        1.00000        1.00000        0.00000   \n",
       "25%       2021.00000        3.00000        8.00000       10.00000   \n",
       "50%       2021.00000        6.00000       16.00000       14.00000   \n",
       "75%       2022.00000        9.00000       23.00000       17.00000   \n",
       "max       2022.00000       12.00000       31.00000       23.00000   \n",
       "\n",
       "              충전시작_분         충전시작_초        충전종료_년도         충전종료_월  \\\n",
       "count 11613449.00000 11613449.00000 11613449.00000 11613449.00000   \n",
       "mean        29.47740       29.49963     2021.16062        6.20430   \n",
       "std         17.33414       17.31996        0.77937        3.33017   \n",
       "min          0.00000        0.00000     2020.00000        1.00000   \n",
       "25%         14.00000       14.00000     2021.00000        3.00000   \n",
       "50%         29.00000       29.00000     2021.00000        6.00000   \n",
       "75%         45.00000       45.00000     2022.00000        9.00000   \n",
       "max         59.00000       59.00000     2022.00000       12.00000   \n",
       "\n",
       "              충전종료_일         충전종료_시         충전종료_분         충전종료_초  \n",
       "count 11613449.00000 11613449.00000 11613449.00000 11613449.00000  \n",
       "mean        15.80841       14.01221       29.54277       29.45744  \n",
       "std          8.80110        5.07576       17.34527       17.33907  \n",
       "min          1.00000        0.00000        0.00000        0.00000  \n",
       "25%          8.00000       11.00000       15.00000       14.00000  \n",
       "50%         16.00000       14.00000       30.00000       29.00000  \n",
       "75%         23.00000       18.00000       45.00000       44.00000  \n",
       "max         31.00000       23.00000       59.00000       59.00000  "
      ]
     },
     "execution_count": 172,
     "metadata": {},
     "output_type": "execute_result"
    }
   ],
   "source": [
    "time_cols = ['충전시작_년도', '충전시작_월',  '충전시작_일', '충전시작_시', '충전시작_분', '충전시작_초', '충전종료_년도', '충전종료_월', '충전종료_일', '충전종료_시', '충전종료_분', '충전종료_초']\n",
    "df2[time_cols].describe()"
   ]
  },
  {
   "cell_type": "code",
   "execution_count": 173,
   "metadata": {},
   "outputs": [
    {
     "name": "stdout",
     "output_type": "stream",
     "text": [
      "<class 'pandas.core.frame.DataFrame'>\n",
      "RangeIndex: 11613449 entries, 0 to 11613448\n",
      "Data columns (total 2 columns):\n",
      " #   Column   Dtype\n",
      "---  ------   -----\n",
      " 0   충전시작_년도  int32\n",
      " 1   충전종료_년도  int32\n",
      "dtypes: int32(2)\n",
      "memory usage: 88.6 MB\n"
     ]
    }
   ],
   "source": [
    "df2[['충전시작_년도', '충전종료_년도']].info()"
   ]
  },
  {
   "cell_type": "code",
   "execution_count": 174,
   "metadata": {},
   "outputs": [],
   "source": [
    "df2[['충전시작_년도', '충전종료_년도']] = df2[['충전시작_년도', '충전종료_년도']].astype('int16')"
   ]
  },
  {
   "cell_type": "code",
   "execution_count": 175,
   "metadata": {},
   "outputs": [
    {
     "name": "stdout",
     "output_type": "stream",
     "text": [
      "<class 'pandas.core.frame.DataFrame'>\n",
      "RangeIndex: 11613449 entries, 0 to 11613448\n",
      "Data columns (total 2 columns):\n",
      " #   Column   Dtype\n",
      "---  ------   -----\n",
      " 0   충전시작_년도  int16\n",
      " 1   충전종료_년도  int16\n",
      "dtypes: int16(2)\n",
      "memory usage: 44.3 MB\n"
     ]
    }
   ],
   "source": [
    "df2[['충전시작_년도', '충전종료_년도']].info()"
   ]
  },
  {
   "cell_type": "code",
   "execution_count": 55,
   "metadata": {},
   "outputs": [
    {
     "name": "stdout",
     "output_type": "stream",
     "text": [
      "<class 'pandas.core.frame.DataFrame'>\n",
      "Int64Index: 11613449 entries, 0 to 11665821\n",
      "Data columns (total 10 columns):\n",
      " #   Column  Dtype\n",
      "---  ------  -----\n",
      " 0   충전시작_월  int64\n",
      " 1   충전시작_일  int64\n",
      " 2   충전시작_시  int64\n",
      " 3   충전시작_분  int64\n",
      " 4   충전시작_초  int64\n",
      " 5   충전종료_월  int64\n",
      " 6   충전종료_일  int64\n",
      " 7   충전종료_시  int64\n",
      " 8   충전종료_분  int64\n",
      " 9   충전종료_초  int64\n",
      "dtypes: int64(10)\n",
      "memory usage: 974.6 MB\n"
     ]
    }
   ],
   "source": [
    "charge_cols = ['충전시작_월',  '충전시작_일', '충전시작_시', '충전시작_분', '충전시작_초', '충전종료_월', '충전종료_일', '충전종료_시', '충전종료_분', '충전종료_초']\n",
    "df2[charge_cols].info()"
   ]
  },
  {
   "cell_type": "code",
   "execution_count": 176,
   "metadata": {},
   "outputs": [
    {
     "name": "stdout",
     "output_type": "stream",
     "text": [
      "<class 'pandas.core.frame.DataFrame'>\n",
      "RangeIndex: 11613449 entries, 0 to 11613448\n",
      "Data columns (total 10 columns):\n",
      " #   Column  Dtype\n",
      "---  ------  -----\n",
      " 0   충전시작_월  int8 \n",
      " 1   충전시작_일  int8 \n",
      " 2   충전시작_시  int8 \n",
      " 3   충전시작_분  int8 \n",
      " 4   충전시작_초  int8 \n",
      " 5   충전종료_월  int8 \n",
      " 6   충전종료_일  int8 \n",
      " 7   충전종료_시  int8 \n",
      " 8   충전종료_분  int8 \n",
      " 9   충전종료_초  int8 \n",
      "dtypes: int8(10)\n",
      "memory usage: 110.8 MB\n"
     ]
    }
   ],
   "source": [
    "df2[charge_cols] = df2[charge_cols].astype('int8')\n",
    "df2[charge_cols].info()"
   ]
  },
  {
   "cell_type": "code",
   "execution_count": 177,
   "metadata": {},
   "outputs": [
    {
     "name": "stdout",
     "output_type": "stream",
     "text": [
      "<class 'pandas.core.frame.DataFrame'>\n",
      "RangeIndex: 11613449 entries, 0 to 11613448\n",
      "Data columns (total 27 columns):\n",
      " #   Column        Dtype          \n",
      "---  ------        -----          \n",
      " 0   충전소명          object         \n",
      " 1   충전기ID         int16          \n",
      " 2   지역            object         \n",
      " 3   시군구           object         \n",
      " 4   주소            object         \n",
      " 5   충전기타입         object         \n",
      " 6   충전시작일시        int64          \n",
      " 7   충전종료일시        object         \n",
      " 8   충전시간          timedelta64[ns]\n",
      " 9   충전량           float64        \n",
      " 10  충전용량          object         \n",
      " 11  충전시작_년도       int16          \n",
      " 12  충전시작_월        int8           \n",
      " 13  충전시작_일        int8           \n",
      " 14  충전시작_시        int8           \n",
      " 15  충전시작_분        int8           \n",
      " 16  충전시작_초        int8           \n",
      " 17  충전시작일시(변환)    datetime64[ns] \n",
      " 18  충전종료_년도       int16          \n",
      " 19  충전종료_월        int8           \n",
      " 20  충전종료_일        int8           \n",
      " 21  충전종료_시        int8           \n",
      " 22  충전종료_분        int8           \n",
      " 23  충전종료_초        int8           \n",
      " 24  충전종료일시(변환)    datetime64[ns] \n",
      " 25  충전시간(계산)      timedelta64[ns]\n",
      " 26  raw값과_계산값_차이  timedelta64[ns]\n",
      "dtypes: datetime64[ns](2), float64(1), int16(3), int64(1), int8(10), object(7), timedelta64[ns](3)\n",
      "memory usage: 1.4+ GB\n"
     ]
    }
   ],
   "source": [
    "df2.info()"
   ]
  },
  {
   "cell_type": "code",
   "execution_count": 178,
   "metadata": {},
   "outputs": [
    {
     "data": {
      "text/plain": [
       "count   11613449.00000\n",
       "mean           8.59347\n",
       "std           15.08407\n",
       "min            1.00000\n",
       "25%            1.00000\n",
       "50%            1.00000\n",
       "75%           12.00000\n",
       "max           98.00000\n",
       "Name: 충전기ID, dtype: float64"
      ]
     },
     "execution_count": 178,
     "metadata": {},
     "output_type": "execute_result"
    }
   ],
   "source": [
    "df2['충전기ID'].describe()"
   ]
  },
  {
   "cell_type": "code",
   "execution_count": 179,
   "metadata": {},
   "outputs": [
    {
     "name": "stdout",
     "output_type": "stream",
     "text": [
      "<class 'pandas.core.series.Series'>\n",
      "RangeIndex: 11613449 entries, 0 to 11613448\n",
      "Series name: 충전기ID\n",
      "Non-Null Count     Dtype\n",
      "--------------     -----\n",
      "11613449 non-null  int16\n",
      "dtypes: int16(1)\n",
      "memory usage: 22.2 MB\n"
     ]
    }
   ],
   "source": [
    "df2['충전기ID'].info()"
   ]
  },
  {
   "cell_type": "code",
   "execution_count": 64,
   "metadata": {},
   "outputs": [
    {
     "data": {
      "text/plain": [
       "count                     11613449\n",
       "mean     0 days 00:33:51.200344617\n",
       "std      0 days 01:19:04.781739278\n",
       "min                0 days 00:00:00\n",
       "25%                0 days 00:20:53\n",
       "50%                0 days 00:34:02\n",
       "75%                0 days 00:40:00\n",
       "max                4 days 03:56:55\n",
       "Name: 충전시간, dtype: object"
      ]
     },
     "execution_count": 64,
     "metadata": {},
     "output_type": "execute_result"
    }
   ],
   "source": [
    "df2['충전시간'].describe()"
   ]
  },
  {
   "cell_type": "markdown",
   "metadata": {},
   "source": [
    "## 충전시간 정리 파일로 출력"
   ]
  },
  {
   "cell_type": "code",
   "execution_count": 181,
   "metadata": {},
   "outputs": [],
   "source": [
    "df2.to_csv('2020-22년_급속충전-충전시간정리.csv', encoding='utf-8')"
   ]
  },
  {
   "cell_type": "code",
   "execution_count": 182,
   "metadata": {},
   "outputs": [],
   "source": [
    "# df2.to_excel('2020-22년_급속충전-충전시간정리.xlsx', encoding='utf-8') # error : 파일 너무 커서 저장 실패"
   ]
  },
  {
   "cell_type": "markdown",
   "metadata": {},
   "source": [
    "## 충전시간 정리 파일 로드(다시 시작)"
   ]
  },
  {
   "cell_type": "code",
   "execution_count": 4,
   "metadata": {},
   "outputs": [
    {
     "name": "stderr",
     "output_type": "stream",
     "text": [
      "C:\\Users\\kbj\\AppData\\Local\\Temp\\ipykernel_7108\\3489641763.py:1: DtypeWarning: Columns (11) have mixed types. Specify dtype option on import or set low_memory=False.\n",
      "  df2 = pd.read_csv('2020-22년_급속충전-충전시간정리.csv', index_col=0, dtype={'충전시작_년도':np.int16, '충전종료_년도':np.int16, '충전시작_월':np.int8,  '충전시작_일':np.int8, '충전시작_시':np.int8, '충전시작_분':np.int8, '충전시작_초':np.int8, '충전종료_월':np.int8, '충전종료_일':np.int8, '충전종료_시':np.int8, '충전종료_분':np.int8, '충전종료_초':np.int8, '충전기ID':np.int8})\n"
     ]
    },
    {
     "name": "stdout",
     "output_type": "stream",
     "text": [
      "<class 'pandas.core.frame.DataFrame'>\n",
      "Int64Index: 11613449 entries, 0 to 11613448\n",
      "Data columns (total 27 columns):\n",
      " #   Column        Dtype          \n",
      "---  ------        -----          \n",
      " 0   충전소명          object         \n",
      " 1   충전기ID         int8           \n",
      " 2   지역            object         \n",
      " 3   시군구           object         \n",
      " 4   주소            object         \n",
      " 5   충전기타입         object         \n",
      " 6   충전시작일시        int64          \n",
      " 7   충전종료일시        int64          \n",
      " 8   충전시간          timedelta64[ns]\n",
      " 9   충전량           float64        \n",
      " 10  충전용량          object         \n",
      " 11  충전시작_년도       int16          \n",
      " 12  충전시작_월        int8           \n",
      " 13  충전시작_일        int8           \n",
      " 14  충전시작_시        int8           \n",
      " 15  충전시작_분        int8           \n",
      " 16  충전시작_초        int8           \n",
      " 17  충전시작일시(변환)    object         \n",
      " 18  충전종료_년도       int16          \n",
      " 19  충전종료_월        int8           \n",
      " 20  충전종료_일        int8           \n",
      " 21  충전종료_시        int8           \n",
      " 22  충전종료_분        int8           \n",
      " 23  충전종료_초        int8           \n",
      " 24  충전종료일시(변환)    object         \n",
      " 25  충전시간(계산)      timedelta64[ns]\n",
      " 26  raw값과_계산값_차이  object         \n",
      "dtypes: float64(1), int16(2), int64(2), int8(11), object(9), timedelta64[ns](2)\n",
      "memory usage: 1.5+ GB\n"
     ]
    }
   ],
   "source": [
    "# df2 = pd.read_csv('2020-22년_급속충전-충전시간정리.csv', index_col=0, dtype={'충전시작_년도':np.int16, '충전종료_년도':np.int16, '충전시작_월':np.int8,  '충전시작_일':np.int8, '충전시작_시':np.int8, '충전시작_분':np.int8, '충전시작_초':np.int8, '충전종료_월':np.int8, '충전종료_일':np.int8, '충전종료_시':np.int8, '충전종료_분':np.int8, '충전종료_초':np.int8, '충전기ID':np.int8})\n",
    "# df2['충전시간'] = pd.to_timedelta(df2['충전시간'])\n",
    "# df2['충전시간(계산)'] = pd.to_timedelta(df2['충전시간(계산)'])\n",
    "# df2 = df2.reset_index(drop=True)\n",
    "# df2.info()"
   ]
  },
  {
   "cell_type": "markdown",
   "metadata": {},
   "source": [
    "#### 데이터 절약"
   ]
  },
  {
   "cell_type": "code",
   "execution_count": 5,
   "metadata": {},
   "outputs": [],
   "source": [
    "# df2[['충전시작_년도', '충전종료_년도']] = df2[['충전시작_년도', '충전종료_년도']].astype('int16')\n",
    "# charge_cols = ['충전시작_월',  '충전시작_일', '충전시작_시', '충전시작_분', '충전시작_초', '충전종료_월', '충전종료_일', '충전종료_시', '충전종료_분', '충전종료_초']\n",
    "# df2[charge_cols] = df2[charge_cols].astype('int8')\n",
    "# df2['충전기ID'] = df2['충전기ID'].astype('int8')\n",
    "# df2[charge_cols].info()"
   ]
  },
  {
   "cell_type": "markdown",
   "metadata": {},
   "source": [
    "## 분석"
   ]
  },
  {
   "cell_type": "markdown",
   "metadata": {},
   "source": [
    "### 년도/지역별 충전시간, 충전량 통계\n",
    "- 총 충전시간, 총 충전량"
   ]
  },
  {
   "cell_type": "markdown",
   "metadata": {},
   "source": [
    "#### 연도, 지역별 총 충전시간"
   ]
  },
  {
   "cell_type": "code",
   "execution_count": 9,
   "metadata": {},
   "outputs": [
    {
     "data": {
      "text/plain": [
       "지역    시군구\n",
       "강원도   강릉시   2000 days 10:06:29\n",
       "      고성군    342 days 10:02:43\n",
       "      동해시   1281 days 14:11:21\n",
       "      삼척시    801 days 16:11:31\n",
       "      속초시    894 days 04:56:14\n",
       "                   ...        \n",
       "충청북도  제천시   1138 days 18:12:40\n",
       "      증평군    154 days 17:00:42\n",
       "      진천군   1108 days 10:33:16\n",
       "      청주시   5926 days 17:03:39\n",
       "      충주시   3080 days 13:36:25\n",
       "Name: 충전시간, Length: 252, dtype: timedelta64[ns]"
      ]
     },
     "execution_count": 9,
     "metadata": {},
     "output_type": "execute_result"
    }
   ],
   "source": [
    "total_charge_time_l = df2.groupby(['지역', '시군구'])['충전시간'].sum()\n",
    "total_charge_time_l"
   ]
  },
  {
   "cell_type": "code",
   "execution_count": 6,
   "metadata": {},
   "outputs": [
    {
     "data": {
      "text/plain": [
       "충전시작_년도\n",
       "2020             89296 days 01:56:46\n",
       "2021             88766 days 15:01:20\n",
       "2022   94960 days 22:08:44.999999488\n",
       "Name: 충전시간, dtype: timedelta64[ns]"
      ]
     },
     "execution_count": 6,
     "metadata": {},
     "output_type": "execute_result"
    }
   ],
   "source": [
    "total_charge_time_y = df2.groupby(['충전시작_년도'])['충전시간'].sum()\n",
    "total_charge_time_y"
   ]
  },
  {
   "cell_type": "code",
   "execution_count": 7,
   "metadata": {},
   "outputs": [
    {
     "data": {
      "text/plain": [
       "충전시작_년도  지역     \n",
       "2020     강원도        6148 days 10:01:35\n",
       "         경기도       13840 days 18:55:17\n",
       "         경상남도       4730 days 02:41:21\n",
       "         경상북도      11275 days 13:47:49\n",
       "         광주광역시      1824 days 08:01:38\n",
       "         대구광역시      3112 days 19:53:59\n",
       "         대전광역시      2662 days 07:41:09\n",
       "         부산광역시      2020 days 11:30:21\n",
       "         서울특별시      6382 days 09:09:38\n",
       "         세종특별자치시     568 days 20:38:10\n",
       "         울산광역시      1634 days 16:25:51\n",
       "         인천광역시      3482 days 21:46:27\n",
       "         전라남도       5581 days 05:29:41\n",
       "         전라북도       5187 days 09:00:55\n",
       "         제주특별자치도    8284 days 00:42:42\n",
       "         충청남도       6550 days 05:43:33\n",
       "         충청북도       6009 days 12:26:40\n",
       "2021     강원도        6241 days 13:48:26\n",
       "         경기도       14241 days 04:13:44\n",
       "         경상남도       7025 days 11:04:01\n",
       "         경상북도      10720 days 02:23:57\n",
       "         광주광역시      1537 days 21:59:15\n",
       "         대구광역시      3023 days 14:48:01\n",
       "         대전광역시      2665 days 16:03:49\n",
       "         부산광역시      2225 days 08:29:06\n",
       "         서울특별시      6981 days 21:42:07\n",
       "         세종특별자치시     571 days 14:02:22\n",
       "         울산광역시      1377 days 03:29:27\n",
       "         인천광역시      3400 days 22:41:13\n",
       "         전라남도       4808 days 23:36:01\n",
       "         전라북도       5284 days 09:17:53\n",
       "         제주특별자치도    5053 days 02:05:17\n",
       "         충청남도       7420 days 18:38:10\n",
       "         충청북도       6186 days 22:38:31\n",
       "2022     강원도        7004 days 08:25:44\n",
       "         경기도       16861 days 23:09:49\n",
       "         경상남도       7638 days 04:01:35\n",
       "         경상북도      10627 days 02:55:34\n",
       "         광주광역시      1663 days 18:52:01\n",
       "         대구광역시      2723 days 01:22:57\n",
       "         대전광역시      2606 days 13:53:42\n",
       "         부산광역시      2395 days 10:57:23\n",
       "         서울특별시      7322 days 02:25:28\n",
       "         세종특별자치시     406 days 23:52:05\n",
       "         울산광역시      2037 days 16:22:05\n",
       "         인천광역시      4315 days 17:20:41\n",
       "         전라남도       5139 days 16:14:04\n",
       "         전라북도       6138 days 23:44:48\n",
       "         제주특별자치도    3648 days 22:41:38\n",
       "         충청남도       7630 days 11:38:16\n",
       "         충청북도       6799 days 20:10:55\n",
       "Name: 충전시간, dtype: timedelta64[ns]"
      ]
     },
     "execution_count": 7,
     "metadata": {},
     "output_type": "execute_result"
    }
   ],
   "source": [
    "total_charge_time_yl = df2.groupby(['충전시작_년도', '지역'])['충전시간'].sum()\n",
    "total_charge_time_yl"
   ]
  },
  {
   "cell_type": "code",
   "execution_count": 8,
   "metadata": {},
   "outputs": [
    {
     "data": {
      "text/plain": [
       "충전시작_년도  지역    시군구\n",
       "2020     강원도   강릉시    410 days 15:28:29\n",
       "               고성군     62 days 20:02:16\n",
       "               동해시    708 days 22:49:15\n",
       "               삼척시    210 days 20:42:17\n",
       "               속초시    194 days 05:11:37\n",
       "                            ...        \n",
       "2022     충청북도  제천시    393 days 12:09:25\n",
       "               증평군     62 days 12:48:55\n",
       "               진천군    271 days 04:46:10\n",
       "               청주시   2235 days 01:32:44\n",
       "               충주시   1141 days 00:21:33\n",
       "Name: 충전시간, Length: 744, dtype: timedelta64[ns]"
      ]
     },
     "execution_count": 8,
     "metadata": {},
     "output_type": "execute_result"
    }
   ],
   "source": [
    "total_charge_time_yl2 = df2.groupby(['충전시작_년도', '지역', '시군구'])['충전시간'].sum()\n",
    "total_charge_time_yl2"
   ]
  },
  {
   "cell_type": "markdown",
   "metadata": {},
   "source": [
    "##### 연도/지역별 총 충전시간 파일 출력"
   ]
  },
  {
   "cell_type": "code",
   "execution_count": 10,
   "metadata": {},
   "outputs": [],
   "source": [
    "total_charge_time_group = pd.ExcelWriter('분석/2020-22년_연도_지역별_충전시간.xlsx')\n",
    "total_charge_time_l.to_excel(total_charge_time_group, sheet_name='시군구별')\n",
    "total_charge_time_y.to_excel(total_charge_time_group, sheet_name='년도별')\n",
    "total_charge_time_yl.to_excel(total_charge_time_group, sheet_name='년도지역별')\n",
    "total_charge_time_yl2.to_excel(total_charge_time_group, sheet_name='년도시군구별')\n",
    "total_charge_time_group.save()"
   ]
  },
  {
   "cell_type": "markdown",
   "metadata": {},
   "source": [
    "#### 지역/연도별 총 충전량 합계"
   ]
  },
  {
   "cell_type": "code",
   "execution_count": 11,
   "metadata": {},
   "outputs": [
    {
     "data": {
      "text/plain": [
       "지역    시군구\n",
       "강원도   강릉시   1857604.33000\n",
       "      고성군    369691.09000\n",
       "      동해시    701535.12000\n",
       "      삼척시    716323.83000\n",
       "      속초시    860865.62000\n",
       "                 ...     \n",
       "충청북도  제천시    999654.99000\n",
       "      증평군    155696.15000\n",
       "      진천군    591631.10000\n",
       "      청주시   5178912.01000\n",
       "      충주시   2493316.51000\n",
       "Name: 충전량, Length: 252, dtype: float64"
      ]
     },
     "execution_count": 11,
     "metadata": {},
     "output_type": "execute_result"
    }
   ],
   "source": [
    "total_charge_vol_l = df2.groupby(['지역', '시군구'])['충전량'].sum()\n",
    "total_charge_vol_l"
   ]
  },
  {
   "cell_type": "code",
   "execution_count": 12,
   "metadata": {},
   "outputs": [
    {
     "data": {
      "text/plain": [
       "충전시작_년도\n",
       "2020   46811133.65000\n",
       "2021   80999447.99000\n",
       "2022   97428562.80000\n",
       "Name: 충전량, dtype: float64"
      ]
     },
     "execution_count": 12,
     "metadata": {},
     "output_type": "execute_result"
    }
   ],
   "source": [
    "total_charge_vol_y = df2.groupby(['충전시작_년도'])['충전량'].sum()\n",
    "total_charge_vol_y"
   ]
  },
  {
   "cell_type": "code",
   "execution_count": 13,
   "metadata": {},
   "outputs": [
    {
     "data": {
      "text/plain": [
       "충전시작_년도  지역     \n",
       "2020     강원도        2989184.45000\n",
       "         경기도        7010474.66000\n",
       "         경상남도       3167694.35000\n",
       "         경상북도       5910919.27000\n",
       "         광주광역시       754169.55000\n",
       "         대구광역시      2146057.41000\n",
       "         대전광역시      1293125.47000\n",
       "         부산광역시      1062800.58000\n",
       "         서울특별시      3316642.81000\n",
       "         세종특별자치시     317304.54000\n",
       "         울산광역시       780398.72000\n",
       "         인천광역시      1348635.13000\n",
       "         전라남도       2539533.61000\n",
       "         전라북도       2497671.17000\n",
       "         제주특별자치도    4802271.95000\n",
       "         충청남도       3916231.72000\n",
       "         충청북도       2958018.26000\n",
       "2021     강원도        5871167.90000\n",
       "         경기도       13035269.15000\n",
       "         경상남도       6517862.71000\n",
       "         경상북도      10042405.83000\n",
       "         광주광역시      1445372.51000\n",
       "         대구광역시      2783647.75000\n",
       "         대전광역시      2351933.04000\n",
       "         부산광역시      1921385.39000\n",
       "         서울특별시      5851317.95000\n",
       "         세종특별자치시     525703.96000\n",
       "         울산광역시      1304336.52000\n",
       "         인천광역시      3110031.03000\n",
       "         전라남도       4500415.62000\n",
       "         전라북도       5038784.96000\n",
       "         제주특별자치도    4046350.29000\n",
       "         충청남도       6958596.18000\n",
       "         충청북도       5694867.20000\n",
       "2022     강원도        7372220.13000\n",
       "         경기도       16997906.70000\n",
       "         경상남도       8091867.96000\n",
       "         경상북도      11235626.40000\n",
       "         광주광역시      1735726.28000\n",
       "         대구광역시      2912572.29000\n",
       "         대전광역시      2531314.28000\n",
       "         부산광역시      2421477.37000\n",
       "         서울특별시      6878092.09000\n",
       "         세종특별자치시     455896.14000\n",
       "         울산광역시      2244564.88000\n",
       "         인천광역시      4362413.48000\n",
       "         전라남도       5561356.99000\n",
       "         전라북도       6467173.96000\n",
       "         제주특별자치도    3359101.56000\n",
       "         충청남도       7933890.17000\n",
       "         충청북도       6867362.12000\n",
       "Name: 충전량, dtype: float64"
      ]
     },
     "execution_count": 13,
     "metadata": {},
     "output_type": "execute_result"
    }
   ],
   "source": [
    "total_charge_vol_yl = df2.groupby(['충전시작_년도', '지역'])['충전량'].sum()\n",
    "total_charge_vol_yl"
   ]
  },
  {
   "cell_type": "code",
   "execution_count": 14,
   "metadata": {},
   "outputs": [
    {
     "data": {
      "text/plain": [
       "충전시작_년도  지역    시군구\n",
       "2020     강원도   강릉시    298971.29000\n",
       "               고성군     47163.01000\n",
       "               동해시     91053.80000\n",
       "               삼척시    130089.39000\n",
       "               속초시    142168.72000\n",
       "                          ...     \n",
       "2022     충청북도  제천시    416637.20000\n",
       "               증평군     63544.97000\n",
       "               진천군    277948.46000\n",
       "               청주시   2263350.46000\n",
       "               충주시   1161811.42000\n",
       "Name: 충전량, Length: 744, dtype: float64"
      ]
     },
     "execution_count": 14,
     "metadata": {},
     "output_type": "execute_result"
    }
   ],
   "source": [
    "total_charge_vol_yl2 = df2.groupby(['충전시작_년도', '지역', '시군구'])['충전량'].sum()\n",
    "total_charge_vol_yl2"
   ]
  },
  {
   "cell_type": "markdown",
   "metadata": {},
   "source": [
    "##### 년도/지역별 총 충전량 출력"
   ]
  },
  {
   "cell_type": "code",
   "execution_count": 15,
   "metadata": {},
   "outputs": [],
   "source": [
    "total_charge_vol_group = pd.ExcelWriter('분석/2020-22년_연도_지역별_충전량.xlsx')\n",
    "total_charge_vol_l.to_excel(total_charge_vol_group, sheet_name='시군구별')\n",
    "total_charge_vol_y.to_excel(total_charge_vol_group, sheet_name='년도별')\n",
    "total_charge_vol_yl.to_excel(total_charge_vol_group, sheet_name='년도지역별')\n",
    "total_charge_vol_yl2.to_excel(total_charge_vol_group, sheet_name='년도시군구별')\n",
    "total_charge_vol_group.save()"
   ]
  },
  {
   "cell_type": "markdown",
   "metadata": {},
   "source": [
    "### 년도, 월별 충전시간, 충전량 통계\n",
    "- 총 충전시간, 총 충전량"
   ]
  },
  {
   "cell_type": "markdown",
   "metadata": {},
   "source": [
    "#### 년도/월별 총 충전시간"
   ]
  },
  {
   "cell_type": "code",
   "execution_count": 17,
   "metadata": {},
   "outputs": [
    {
     "data": {
      "text/plain": [
       "충전시작_년도\n",
       "2020             89296 days 01:56:46\n",
       "2021             88766 days 15:01:20\n",
       "2022   94960 days 22:08:44.999999488\n",
       "Name: 충전시간, dtype: timedelta64[ns]"
      ]
     },
     "execution_count": 17,
     "metadata": {},
     "output_type": "execute_result"
    }
   ],
   "source": [
    "charge_time_y = df2.groupby(['충전시작_년도'])['충전시간'].sum()\n",
    "charge_time_y"
   ]
  },
  {
   "cell_type": "code",
   "execution_count": 16,
   "metadata": {},
   "outputs": [
    {
     "data": {
      "text/plain": [
       "충전시작_년도  충전시작_월\n",
       "2020     1         4844 days 06:04:49\n",
       "         2         3807 days 14:53:40\n",
       "         3         4220 days 18:42:13\n",
       "         4         5200 days 19:02:23\n",
       "         5         6698 days 16:05:39\n",
       "         6         8425 days 07:42:45\n",
       "         7         9948 days 17:47:42\n",
       "         8         9994 days 13:12:00\n",
       "         9         7887 days 09:02:08\n",
       "         10        9809 days 02:56:50\n",
       "         11        9686 days 05:46:34\n",
       "         12        8772 days 14:40:03\n",
       "2021     1         6700 days 00:31:35\n",
       "         2         5972 days 01:10:01\n",
       "         3         6318 days 03:25:10\n",
       "         4         5981 days 18:18:29\n",
       "         5         5934 days 01:30:44\n",
       "         6         5927 days 10:26:42\n",
       "         7         6999 days 08:35:22\n",
       "         8         7217 days 06:09:09\n",
       "         9         7222 days 08:48:45\n",
       "         10        8611 days 17:43:58\n",
       "         11       10017 days 21:16:40\n",
       "         12       11864 days 13:04:45\n",
       "2022     1        11766 days 19:03:00\n",
       "         2         9909 days 20:56:47\n",
       "         3        10833 days 12:08:33\n",
       "         4        11210 days 01:08:59\n",
       "         5        12025 days 11:31:03\n",
       "         6        12032 days 13:22:44\n",
       "         7        13605 days 05:53:35\n",
       "         8        13577 days 10:04:04\n",
       "Name: 충전시간, dtype: timedelta64[ns]"
      ]
     },
     "execution_count": 16,
     "metadata": {},
     "output_type": "execute_result"
    }
   ],
   "source": [
    "charge_time_ym = df2.groupby(['충전시작_년도', '충전시작_월'])['충전시간'].sum()\n",
    "charge_time_ym"
   ]
  },
  {
   "cell_type": "code",
   "execution_count": 20,
   "metadata": {},
   "outputs": [],
   "source": [
    "total_charge_time_group_ym = pd.ExcelWriter('분석/2020-22년_급속충전_년월별_총_충전시간.xlsx')\n",
    "charge_time_y.to_excel(total_charge_time_group_ym, sheet_name='연도별')\n",
    "charge_time_ym.to_excel(total_charge_time_group_ym, sheet_name='연도월별')\n",
    "total_charge_time_group_ym.save()"
   ]
  },
  {
   "cell_type": "markdown",
   "metadata": {},
   "source": [
    "#### 년도/월별 총 충전시간(계산)"
   ]
  },
  {
   "cell_type": "code",
   "execution_count": 21,
   "metadata": {},
   "outputs": [
    {
     "data": {
      "text/plain": [
       "충전시작_년도\n",
       "2020    84050 days 00:29:12.999999488\n",
       "2021    95417 days 01:17:47.000000512\n",
       "2022   102616 days 02:40:48.999999488\n",
       "Name: 충전시간(계산), dtype: timedelta64[ns]"
      ]
     },
     "execution_count": 21,
     "metadata": {},
     "output_type": "execute_result"
    }
   ],
   "source": [
    "cal_charge_time_y = df2.groupby(['충전시작_년도'])['충전시간(계산)'].sum()\n",
    "cal_charge_time_y"
   ]
  },
  {
   "cell_type": "code",
   "execution_count": 22,
   "metadata": {},
   "outputs": [
    {
     "data": {
      "text/plain": [
       "충전시작_년도  충전시작_월\n",
       "2020     1         5111 days 07:36:54\n",
       "         2         4030 days 10:04:17\n",
       "         3         4128 days 11:36:27\n",
       "         4         4900 days 20:11:06\n",
       "         5         6183 days 22:26:24\n",
       "         6         7541 days 18:02:20\n",
       "         7         8763 days 12:15:12\n",
       "         8         8909 days 04:45:22\n",
       "         9         7116 days 07:09:15\n",
       "         10        9042 days 04:42:48\n",
       "         11        9503 days 08:37:36\n",
       "         12        8818 days 17:01:32\n",
       "2021     1         6970 days 17:06:06\n",
       "         2         6278 days 23:23:36\n",
       "         3         6597 days 16:40:25\n",
       "         4         6267 days 11:25:41\n",
       "         5         6229 days 08:51:42\n",
       "         6         6233 days 16:48:38\n",
       "         7         7350 days 13:25:41\n",
       "         8         7941 days 11:25:24\n",
       "         9         8056 days 00:14:44\n",
       "         10        9592 days 22:42:28\n",
       "         11       10994 days 09:48:00\n",
       "         12       12903 days 17:25:22\n",
       "2022     1        12766 days 06:53:00\n",
       "         2        10760 days 18:15:50\n",
       "         3        11820 days 02:18:10\n",
       "         4        12187 days 02:13:02\n",
       "         5        13126 days 15:54:21\n",
       "         6        13076 days 21:10:27\n",
       "         7        14502 days 02:56:44\n",
       "         8        14376 days 04:59:15\n",
       "Name: 충전시간(계산), dtype: timedelta64[ns]"
      ]
     },
     "execution_count": 22,
     "metadata": {},
     "output_type": "execute_result"
    }
   ],
   "source": [
    "cal_charge_time_ym = df2.groupby(['충전시작_년도', '충전시작_월'])['충전시간(계산)'].sum()\n",
    "cal_charge_time_ym"
   ]
  },
  {
   "cell_type": "code",
   "execution_count": 23,
   "metadata": {},
   "outputs": [],
   "source": [
    "total_cal_charge_time_group_ym = pd.ExcelWriter('분석/2020-22년_급속충전_년월별_총_충전시간(계산).xlsx')\n",
    "cal_charge_time_y.to_excel(total_cal_charge_time_group_ym, sheet_name='연도별')\n",
    "cal_charge_time_ym.to_excel(total_cal_charge_time_group_ym, sheet_name='연도월별')\n",
    "total_cal_charge_time_group_ym.save()"
   ]
  },
  {
   "cell_type": "markdown",
   "metadata": {},
   "source": [
    "#### 년도/월별 총 충전량"
   ]
  },
  {
   "cell_type": "code",
   "execution_count": 24,
   "metadata": {},
   "outputs": [
    {
     "data": {
      "text/plain": [
       "충전시작_년도\n",
       "2020   46811133.65000\n",
       "2021   80999447.99000\n",
       "2022   97428562.80000\n",
       "Name: 충전량, dtype: float64"
      ]
     },
     "execution_count": 24,
     "metadata": {},
     "output_type": "execute_result"
    }
   ],
   "source": [
    "cal_charge_vol_y = df2.groupby(['충전시작_년도'])['충전량'].sum()\n",
    "cal_charge_vol_y"
   ]
  },
  {
   "cell_type": "code",
   "execution_count": 25,
   "metadata": {},
   "outputs": [
    {
     "data": {
      "text/plain": [
       "충전시작_년도  충전시작_월\n",
       "2020     1         3728407.76000\n",
       "         2         2923554.69000\n",
       "         3         2868303.28000\n",
       "         4         3029906.70000\n",
       "         5         3364357.94000\n",
       "         6         3562807.86000\n",
       "         7         3794918.35000\n",
       "         8         4398191.42000\n",
       "         9         3893530.88000\n",
       "         10        4855642.05000\n",
       "         11        5046230.77000\n",
       "         12        5345281.95000\n",
       "2021     1         4985581.43000\n",
       "         2         4688077.46000\n",
       "         3         5284216.30000\n",
       "         4         5254442.52000\n",
       "         5         5396621.91000\n",
       "         6         5646845.23000\n",
       "         7         6912348.98000\n",
       "         8         7154868.40000\n",
       "         9         7228810.76000\n",
       "         10        8412678.23000\n",
       "         11        9455615.51000\n",
       "         12       10579341.26000\n",
       "2022     1        10302203.67000\n",
       "         2         8714278.79000\n",
       "         3        10292070.61000\n",
       "         4        11457488.60000\n",
       "         5        12850982.38000\n",
       "         6        13187238.69000\n",
       "         7        15196951.74000\n",
       "         8        15427348.32000\n",
       "Name: 충전량, dtype: float64"
      ]
     },
     "execution_count": 25,
     "metadata": {},
     "output_type": "execute_result"
    }
   ],
   "source": [
    "cal_charge_vol_ym = df2.groupby(['충전시작_년도', '충전시작_월'])['충전량'].sum()\n",
    "cal_charge_vol_ym"
   ]
  },
  {
   "cell_type": "code",
   "execution_count": 26,
   "metadata": {},
   "outputs": [],
   "source": [
    "total_charge_vol_group_ym = pd.ExcelWriter('분석/2020-22년_급속충전_년월별_총_충전량.xlsx')\n",
    "cal_charge_vol_y.to_excel(total_charge_vol_group_ym, sheet_name='년도별')\n",
    "cal_charge_vol_ym.to_excel(total_charge_vol_group_ym, sheet_name='년도월별')\n",
    "total_charge_vol_group_ym.save()"
   ]
  },
  {
   "cell_type": "markdown",
   "metadata": {},
   "source": [
    "## 데이터 로드(다시 시작)"
   ]
  },
  {
   "cell_type": "code",
   "execution_count": 16,
   "metadata": {},
   "outputs": [
    {
     "name": "stderr",
     "output_type": "stream",
     "text": [
      "C:\\Users\\kbj\\AppData\\Local\\Temp\\ipykernel_13392\\3053455079.py:1: DtypeWarning: Columns (11) have mixed types. Specify dtype option on import or set low_memory=False.\n",
      "  df2 = pd.read_csv('2020-22년_급속충전-충전시간정리.csv', index_col=0, dtype={'충전시작_년도':np.int16, '충전종료_년도':np.int16, '충전시작_월':np.int8,  '충전시작_일':np.int8, '충전시작_시':np.int8, '충전시작_분':np.int8, '충전시작_초':np.int8, '충전종료_월':np.int8, '충전종료_일':np.int8, '충전종료_시':np.int8, '충전종료_분':np.int8, '충전종료_초':np.int8, '충전기ID':np.int8})\n"
     ]
    },
    {
     "name": "stdout",
     "output_type": "stream",
     "text": [
      "<class 'pandas.core.frame.DataFrame'>\n",
      "RangeIndex: 11613449 entries, 0 to 11613448\n",
      "Data columns (total 27 columns):\n",
      " #   Column        Dtype          \n",
      "---  ------        -----          \n",
      " 0   충전소명          object         \n",
      " 1   충전기ID         int8           \n",
      " 2   지역            object         \n",
      " 3   시군구           object         \n",
      " 4   주소            object         \n",
      " 5   충전기타입         object         \n",
      " 6   충전시작일시        int64          \n",
      " 7   충전종료일시        int64          \n",
      " 8   충전시간          timedelta64[ns]\n",
      " 9   충전량           float64        \n",
      " 10  충전용량          object         \n",
      " 11  충전시작_년도       int16          \n",
      " 12  충전시작_월        int8           \n",
      " 13  충전시작_일        int8           \n",
      " 14  충전시작_시        int8           \n",
      " 15  충전시작_분        int8           \n",
      " 16  충전시작_초        int8           \n",
      " 17  충전시작일시(변환)    object         \n",
      " 18  충전종료_년도       int16          \n",
      " 19  충전종료_월        int8           \n",
      " 20  충전종료_일        int8           \n",
      " 21  충전종료_시        int8           \n",
      " 22  충전종료_분        int8           \n",
      " 23  충전종료_초        int8           \n",
      " 24  충전종료일시(변환)    object         \n",
      " 25  충전시간(계산)      timedelta64[ns]\n",
      " 26  raw값과_계산값_차이  object         \n",
      "dtypes: float64(1), int16(2), int64(2), int8(11), object(9), timedelta64[ns](2)\n",
      "memory usage: 1.4+ GB\n"
     ]
    }
   ],
   "source": [
    "df2 = pd.read_csv('2020-22년_급속충전-충전시간정리.csv', index_col=0, dtype={'충전시작_년도':np.int16, '충전종료_년도':np.int16, '충전시작_월':np.int8,  '충전시작_일':np.int8, '충전시작_시':np.int8, '충전시작_분':np.int8, '충전시작_초':np.int8, '충전종료_월':np.int8, '충전종료_일':np.int8, '충전종료_시':np.int8, '충전종료_분':np.int8, '충전종료_초':np.int8, '충전기ID':np.int8})\n",
    "df2['충전시간'] = pd.to_timedelta(df2['충전시간'])\n",
    "df2['충전시간(계산)'] = pd.to_timedelta(df2['충전시간(계산)'])\n",
    "df2 = df2.reset_index(drop=True)\n",
    "df2.info()"
   ]
  },
  {
   "cell_type": "markdown",
   "metadata": {},
   "source": [
    "## 주소 분리\n",
    "- 샘플수\n",
    "    - 신주소 : 7,755,902 개\n",
    "    - 구주소 : 3,857,547 개\n",
    "- 한 주소에 2개 다른 주소가 입력\n",
    "    - 동일 지역\n",
    "        - 신주소 : 20,837개\n",
    "        - 구주소 : 99,756개\n",
    "    - 다른 지역\n",
    "        - 신주소 : 0개\n",
    "        - 구주소 : 5,427개\n",
    "    - raw데이터의 입력값 지역이 있는 주소로 병합\n",
    "        - 예시) 전라남도 무안군 청계면 영산로 1854-16 전라남도 무안군 청계면 영산로 1854-16 -> 전라남도 무안군 청계면 영산로 1854-16\n",
    "        - 예시) 충청남도 청양군 청양읍 군량리 533 충청남도 태안군 소원면 신덕리 272 -> 충청남도 청양군 청양읍 군량리 533\n",
    "        - 예시) 전라북도 순창군 풍산면 반월리 12-4 충청남도 공주시 탄천면 삼각리 523-2 -> 전라북도 순창군 풍산면 반월리 12-4\n",
    "- 도로명 수정\n",
    "    - \"도로명주소 안내\" 참고하여 지역 코드와 맞추기위해\n",
    "        - 예시) 첨단 벤처로 108번길 -> 첨단벤처로108번길"
   ]
  },
  {
   "cell_type": "markdown",
   "metadata": {},
   "source": [
    "### 특이주소 처리\n",
    "- '경상북도 경주시 천원2길 9 경북 경주시 교동 153-5'\n",
    "    - 6,463 개\n",
    "- ~~지역과 주소가 다른 경우~~\n",
    "    - ~~지역 : 제주특별자치도 제주시~~\n",
    "    - ~~주소 : 강남구 양재대로31길~~\n",
    "    \n",
    "    => for문안에 정규표현식 적용시 변수명 잘못 지정하여 발생한 문제\n",
    "- '충청북도 단양군 영춘면 온달평강3로 9 온달평강3로 9-1'\n",
    "    - 808 개"
   ]
  },
  {
   "cell_type": "code",
   "execution_count": 17,
   "metadata": {},
   "outputs": [
    {
     "data": {
      "text/html": [
       "<div>\n",
       "<style scoped>\n",
       "    .dataframe tbody tr th:only-of-type {\n",
       "        vertical-align: middle;\n",
       "    }\n",
       "\n",
       "    .dataframe tbody tr th {\n",
       "        vertical-align: top;\n",
       "    }\n",
       "\n",
       "    .dataframe thead th {\n",
       "        text-align: right;\n",
       "    }\n",
       "</style>\n",
       "<table border=\"1\" class=\"dataframe\">\n",
       "  <thead>\n",
       "    <tr style=\"text-align: right;\">\n",
       "      <th></th>\n",
       "      <th>충전소명</th>\n",
       "      <th>충전기ID</th>\n",
       "      <th>지역</th>\n",
       "      <th>시군구</th>\n",
       "      <th>주소</th>\n",
       "      <th>충전기타입</th>\n",
       "      <th>충전시작일시</th>\n",
       "      <th>충전종료일시</th>\n",
       "      <th>충전시간</th>\n",
       "      <th>충전량</th>\n",
       "      <th>...</th>\n",
       "      <th>충전시작일시(변환)</th>\n",
       "      <th>충전종료_년도</th>\n",
       "      <th>충전종료_월</th>\n",
       "      <th>충전종료_일</th>\n",
       "      <th>충전종료_시</th>\n",
       "      <th>충전종료_분</th>\n",
       "      <th>충전종료_초</th>\n",
       "      <th>충전종료일시(변환)</th>\n",
       "      <th>충전시간(계산)</th>\n",
       "      <th>raw값과_계산값_차이</th>\n",
       "    </tr>\n",
       "  </thead>\n",
       "  <tbody>\n",
       "  </tbody>\n",
       "</table>\n",
       "<p>0 rows × 27 columns</p>\n",
       "</div>"
      ],
      "text/plain": [
       "Empty DataFrame\n",
       "Columns: [충전소명, 충전기ID, 지역, 시군구, 주소, 충전기타입, 충전시작일시, 충전종료일시, 충전시간, 충전량, 충전용량, 충전시작_년도, 충전시작_월, 충전시작_일, 충전시작_시, 충전시작_분, 충전시작_초, 충전시작일시(변환), 충전종료_년도, 충전종료_월, 충전종료_일, 충전종료_시, 충전종료_분, 충전종료_초, 충전종료일시(변환), 충전시간(계산), raw값과_계산값_차이]\n",
       "Index: []\n",
       "\n",
       "[0 rows x 27 columns]"
      ]
     },
     "execution_count": 17,
     "metadata": {},
     "output_type": "execute_result"
    }
   ],
   "source": [
    "df2[(df2['지역'] != '서울특별시') & (df2['주소'] == '강남구 양재대로31길')]"
   ]
  },
  {
   "cell_type": "code",
   "execution_count": 26,
   "metadata": {},
   "outputs": [
    {
     "data": {
      "text/plain": [
       "0"
      ]
     },
     "execution_count": 26,
     "metadata": {},
     "output_type": "execute_result"
    }
   ],
   "source": [
    "sp_text = '경상북도 경주시 천원2길 9 경북 경주시 교동 153-5'\n",
    "sp_idx = df2[df2['주소'] == sp_text].index\n",
    "len(sp_idx)"
   ]
  },
  {
   "cell_type": "code",
   "execution_count": 19,
   "metadata": {},
   "outputs": [
    {
     "data": {
      "text/plain": [
       "Int64Index([5929, 6279, 6615, 7493, 9248], dtype='int64')"
      ]
     },
     "execution_count": 19,
     "metadata": {},
     "output_type": "execute_result"
    }
   ],
   "source": [
    "sp_idx[:5]"
   ]
  },
  {
   "cell_type": "code",
   "execution_count": 20,
   "metadata": {},
   "outputs": [
    {
     "data": {
      "text/plain": [
       "5929    경상북도 경주시 천원2길 9 경북 경주시 교동 153-5\n",
       "6279    경상북도 경주시 천원2길 9 경북 경주시 교동 153-5\n",
       "Name: 주소, dtype: object"
      ]
     },
     "execution_count": 20,
     "metadata": {},
     "output_type": "execute_result"
    }
   ],
   "source": [
    "df2.loc[[5929, 6279]]['주소']"
   ]
  },
  {
   "cell_type": "code",
   "execution_count": 21,
   "metadata": {},
   "outputs": [
    {
     "data": {
      "text/plain": [
       "충전시작_년도  충전시작_월\n",
       "2020     1         117\n",
       "         2          93\n",
       "         3          82\n",
       "         4          73\n",
       "         5          97\n",
       "         6          94\n",
       "         7         117\n",
       "         8         175\n",
       "         9          86\n",
       "         10        112\n",
       "         11        112\n",
       "         12        133\n",
       "2021     1         143\n",
       "         2         142\n",
       "         3         137\n",
       "         4         138\n",
       "         5         180\n",
       "         6         196\n",
       "         7         234\n",
       "         8         252\n",
       "         9         264\n",
       "         10        275\n",
       "         11        346\n",
       "         12        262\n",
       "2022     1         214\n",
       "         2         262\n",
       "         3         205\n",
       "         4         388\n",
       "         5         348\n",
       "         6         303\n",
       "         7         385\n",
       "         8         498\n",
       "Name: 주소, dtype: int64"
      ]
     },
     "execution_count": 21,
     "metadata": {},
     "output_type": "execute_result"
    }
   ],
   "source": [
    "sp_temp = df2.loc[sp_idx]\n",
    "sp_temp.groupby(['충전시작_년도', '충전시작_월'])['주소'].count()"
   ]
  },
  {
   "cell_type": "code",
   "execution_count": 22,
   "metadata": {},
   "outputs": [
    {
     "name": "stderr",
     "output_type": "stream",
     "text": [
      "100%|██████████| 6463/6463 [00:00<00:00, 10606.17it/s]\n"
     ]
    }
   ],
   "source": [
    "for i in tqdm(sp_idx):\n",
    "    if df2.loc[i, '주소'] == sp_text:\n",
    "        df2.loc[i, '주소'] = '경상북도 경주시 천원2길 9'"
   ]
  },
  {
   "cell_type": "code",
   "execution_count": 23,
   "metadata": {},
   "outputs": [
    {
     "data": {
      "text/plain": [
       "5929    경상북도 경주시 천원2길 9\n",
       "6279    경상북도 경주시 천원2길 9\n",
       "6615    경상북도 경주시 천원2길 9\n",
       "7493    경상북도 경주시 천원2길 9\n",
       "9248    경상북도 경주시 천원2길 9\n",
       "Name: 주소, dtype: object"
      ]
     },
     "execution_count": 23,
     "metadata": {},
     "output_type": "execute_result"
    }
   ],
   "source": [
    "df2.loc[sp_idx]['주소'].head()"
   ]
  },
  {
   "cell_type": "code",
   "execution_count": 24,
   "metadata": {},
   "outputs": [
    {
     "data": {
      "text/plain": [
       "0"
      ]
     },
     "execution_count": 24,
     "metadata": {},
     "output_type": "execute_result"
    }
   ],
   "source": [
    "check_sp_idx = df2[df2['주소'] == sp_text].index\n",
    "len(check_sp_idx)"
   ]
  },
  {
   "cell_type": "code",
   "execution_count": 27,
   "metadata": {},
   "outputs": [
    {
     "data": {
      "text/plain": [
       "808"
      ]
     },
     "execution_count": 27,
     "metadata": {},
     "output_type": "execute_result"
    }
   ],
   "source": [
    "sp_text2 = '충청북도 단양군 영춘면 온달평강3로 9 온달평강3로 9-1'\n",
    "sp_idx2 = df2[df2['주소'] == sp_text2].index\n",
    "len(sp_idx2)"
   ]
  },
  {
   "cell_type": "code",
   "execution_count": 28,
   "metadata": {},
   "outputs": [
    {
     "data": {
      "text/plain": [
       "Int64Index([917059, 917123, 922961, 929169, 939062], dtype='int64')"
      ]
     },
     "execution_count": 28,
     "metadata": {},
     "output_type": "execute_result"
    }
   ],
   "source": [
    "sp_idx2[:5]"
   ]
  },
  {
   "cell_type": "code",
   "execution_count": 29,
   "metadata": {},
   "outputs": [
    {
     "data": {
      "text/plain": [
       "917059    충청북도 단양군 영춘면 온달평강3로 9 온달평강3로 9-1\n",
       "917123    충청북도 단양군 영춘면 온달평강3로 9 온달평강3로 9-1\n",
       "Name: 주소, dtype: object"
      ]
     },
     "execution_count": 29,
     "metadata": {},
     "output_type": "execute_result"
    }
   ],
   "source": [
    "df2.loc[[917059, 917123]]['주소']"
   ]
  },
  {
   "cell_type": "code",
   "execution_count": 30,
   "metadata": {},
   "outputs": [
    {
     "data": {
      "text/plain": [
       "충전시작_년도  충전시작_월\n",
       "2020     5          5\n",
       "         6         12\n",
       "         7         12\n",
       "         8         30\n",
       "         9         25\n",
       "         10        33\n",
       "         11        27\n",
       "         12        33\n",
       "2021     1         50\n",
       "         2         22\n",
       "         3         26\n",
       "         4         27\n",
       "         5         26\n",
       "         6         33\n",
       "         7         53\n",
       "         8         42\n",
       "         9         31\n",
       "         10        32\n",
       "         11        27\n",
       "         12        25\n",
       "2022     1         18\n",
       "         2         12\n",
       "         3         10\n",
       "         4         33\n",
       "         5         49\n",
       "         6         39\n",
       "         7         38\n",
       "         8         38\n",
       "Name: 주소, dtype: int64"
      ]
     },
     "execution_count": 30,
     "metadata": {},
     "output_type": "execute_result"
    }
   ],
   "source": [
    "sp_temp2 = df2.loc[sp_idx2]\n",
    "sp_temp2.groupby(['충전시작_년도', '충전시작_월'])['주소'].count()"
   ]
  },
  {
   "cell_type": "code",
   "execution_count": 31,
   "metadata": {},
   "outputs": [
    {
     "name": "stderr",
     "output_type": "stream",
     "text": [
      "100%|██████████| 808/808 [00:00<00:00, 8770.36it/s]\n"
     ]
    }
   ],
   "source": [
    "for i in tqdm(sp_idx2):\n",
    "    if df2.loc[i, '주소'] == sp_text2:\n",
    "        df2.loc[i, '주소'] = '충청북도 단양군 영춘면 온달평강3로 9'"
   ]
  },
  {
   "cell_type": "code",
   "execution_count": 32,
   "metadata": {},
   "outputs": [
    {
     "data": {
      "text/plain": [
       "917059    충청북도 단양군 영춘면 온달평강3로 9\n",
       "917123    충청북도 단양군 영춘면 온달평강3로 9\n",
       "922961    충청북도 단양군 영춘면 온달평강3로 9\n",
       "929169    충청북도 단양군 영춘면 온달평강3로 9\n",
       "939062    충청북도 단양군 영춘면 온달평강3로 9\n",
       "Name: 주소, dtype: object"
      ]
     },
     "execution_count": 32,
     "metadata": {},
     "output_type": "execute_result"
    }
   ],
   "source": [
    "df2.loc[sp_idx2]['주소'].head()"
   ]
  },
  {
   "cell_type": "code",
   "execution_count": 33,
   "metadata": {},
   "outputs": [
    {
     "data": {
      "text/plain": [
       "0"
      ]
     },
     "execution_count": 33,
     "metadata": {},
     "output_type": "execute_result"
    }
   ],
   "source": [
    "check_sp_idx = df2[df2['주소'] == sp_text2].index\n",
    "len(check_sp_idx)"
   ]
  },
  {
   "cell_type": "markdown",
   "metadata": {},
   "source": [
    "##### 이상 주소 처리 파일 출력"
   ]
  },
  {
   "cell_type": "code",
   "execution_count": 34,
   "metadata": {},
   "outputs": [],
   "source": [
    "df2.to_csv('2020-22년_급속충전-충전시간정리2.csv', encoding='utf-8')"
   ]
  },
  {
   "cell_type": "markdown",
   "metadata": {},
   "source": [
    "## 데이터 로드(이상 주소 처리)"
   ]
  },
  {
   "cell_type": "code",
   "execution_count": 23,
   "metadata": {},
   "outputs": [
    {
     "name": "stderr",
     "output_type": "stream",
     "text": [
      "C:\\Users\\kbj\\AppData\\Local\\Temp\\ipykernel_12280\\3295936994.py:1: DtypeWarning: Columns (11) have mixed types. Specify dtype option on import or set low_memory=False.\n",
      "  df2 = pd.read_csv('2020-22년_급속충전-충전시간정리2.csv', index_col=0, dtype={'충전시작_년도':np.int16, '충전종료_년도':np.int16, '충전시작_월':np.int8,  '충전시작_일':np.int8, '충전시작_시':np.int8, '충전시작_분':np.int8, '충전시작_초':np.int8, '충전종료_월':np.int8, '충전종료_일':np.int8, '충전종료_시':np.int8, '충전종료_분':np.int8, '충전종료_초':np.int8, '충전기ID':np.int8})\n"
     ]
    },
    {
     "name": "stdout",
     "output_type": "stream",
     "text": [
      "<class 'pandas.core.frame.DataFrame'>\n",
      "RangeIndex: 11613449 entries, 0 to 11613448\n",
      "Data columns (total 27 columns):\n",
      " #   Column        Dtype          \n",
      "---  ------        -----          \n",
      " 0   충전소명          object         \n",
      " 1   충전기ID         int8           \n",
      " 2   지역            object         \n",
      " 3   시군구           object         \n",
      " 4   주소            object         \n",
      " 5   충전기타입         object         \n",
      " 6   충전시작일시        int64          \n",
      " 7   충전종료일시        int64          \n",
      " 8   충전시간          timedelta64[ns]\n",
      " 9   충전량           float64        \n",
      " 10  충전용량          object         \n",
      " 11  충전시작_년도       int16          \n",
      " 12  충전시작_월        int8           \n",
      " 13  충전시작_일        int8           \n",
      " 14  충전시작_시        int8           \n",
      " 15  충전시작_분        int8           \n",
      " 16  충전시작_초        int8           \n",
      " 17  충전시작일시(변환)    object         \n",
      " 18  충전종료_년도       int16          \n",
      " 19  충전종료_월        int8           \n",
      " 20  충전종료_일        int8           \n",
      " 21  충전종료_시        int8           \n",
      " 22  충전종료_분        int8           \n",
      " 23  충전종료_초        int8           \n",
      " 24  충전종료일시(변환)    object         \n",
      " 25  충전시간(계산)      timedelta64[ns]\n",
      " 26  raw값과_계산값_차이  object         \n",
      "dtypes: float64(1), int16(2), int64(2), int8(11), object(9), timedelta64[ns](2)\n",
      "memory usage: 1.4+ GB\n"
     ]
    }
   ],
   "source": [
    "df2 = pd.read_csv('2020-22년_급속충전-충전시간정리2.csv', index_col=0, dtype={'충전시작_년도':np.int16, '충전종료_년도':np.int16, '충전시작_월':np.int8,  '충전시작_일':np.int8, '충전시작_시':np.int8, '충전시작_분':np.int8, '충전시작_초':np.int8, '충전종료_월':np.int8, '충전종료_일':np.int8, '충전종료_시':np.int8, '충전종료_분':np.int8, '충전종료_초':np.int8, '충전기ID':np.int8})\n",
    "df2['충전시간'] = pd.to_timedelta(df2['충전시간'])\n",
    "df2['충전시간(계산)'] = pd.to_timedelta(df2['충전시간(계산)'])\n",
    "df2 = df2.reset_index(drop=True)\n",
    "df2.info()"
   ]
  },
  {
   "cell_type": "markdown",
   "metadata": {},
   "source": [
    "### 신/구주소 분리"
   ]
  },
  {
   "cell_type": "code",
   "execution_count": 24,
   "metadata": {},
   "outputs": [
    {
     "name": "stdout",
     "output_type": "stream",
     "text": [
      "<class 'pandas.core.frame.DataFrame'>\n",
      "RangeIndex: 11613449 entries, 0 to 11613448\n",
      "Data columns (total 27 columns):\n",
      " #   Column        Dtype          \n",
      "---  ------        -----          \n",
      " 0   충전소명          object         \n",
      " 1   충전기ID         int8           \n",
      " 2   지역            object         \n",
      " 3   시군구           object         \n",
      " 4   주소            object         \n",
      " 5   충전기타입         object         \n",
      " 6   충전시작일시        int64          \n",
      " 7   충전종료일시        int64          \n",
      " 8   충전시간          timedelta64[ns]\n",
      " 9   충전량           float64        \n",
      " 10  충전용량          object         \n",
      " 11  충전시작_년도       int16          \n",
      " 12  충전시작_월        int8           \n",
      " 13  충전시작_일        int8           \n",
      " 14  충전시작_시        int8           \n",
      " 15  충전시작_분        int8           \n",
      " 16  충전시작_초        int8           \n",
      " 17  충전시작일시(변환)    object         \n",
      " 18  충전종료_년도       int16          \n",
      " 19  충전종료_월        int8           \n",
      " 20  충전종료_일        int8           \n",
      " 21  충전종료_시        int8           \n",
      " 22  충전종료_분        int8           \n",
      " 23  충전종료_초        int8           \n",
      " 24  충전종료일시(변환)    object         \n",
      " 25  충전시간(계산)      timedelta64[ns]\n",
      " 26  raw값과_계산값_차이  object         \n",
      "dtypes: float64(1), int16(2), int64(2), int8(11), object(9), timedelta64[ns](2)\n",
      "memory usage: 1.4+ GB\n"
     ]
    }
   ],
   "source": [
    "df2.info()"
   ]
  },
  {
   "cell_type": "code",
   "execution_count": 25,
   "metadata": {},
   "outputs": [
    {
     "data": {
      "text/plain": [
       "1843279416432"
      ]
     },
     "execution_count": 25,
     "metadata": {},
     "output_type": "execute_result"
    }
   ],
   "source": [
    "id(df2['주소'])"
   ]
  },
  {
   "cell_type": "code",
   "execution_count": 26,
   "metadata": {},
   "outputs": [
    {
     "data": {
      "text/plain": [
       "11613449"
      ]
     },
     "execution_count": 26,
     "metadata": {},
     "output_type": "execute_result"
    }
   ],
   "source": [
    "temp = df2['주소'].to_numpy()\n",
    "len(temp)"
   ]
  },
  {
   "cell_type": "code",
   "execution_count": 27,
   "metadata": {},
   "outputs": [
    {
     "data": {
      "text/plain": [
       "(1842940933872, 1831963001472, 1843279416432)"
      ]
     },
     "execution_count": 27,
     "metadata": {},
     "output_type": "execute_result"
    }
   ],
   "source": [
    "id(temp), id(df2), id(df2['주소'])"
   ]
  },
  {
   "cell_type": "code",
   "execution_count": 28,
   "metadata": {},
   "outputs": [
    {
     "name": "stdout",
     "output_type": "stream",
     "text": [
      "<re.Match object; span=(12, 17), match='외도1동 '>\n"
     ]
    }
   ],
   "source": [
    "old_p = re.compile('[가-힣0-9]+동 |[가-힣0-9]+동^[가-힣]|[가-힣0-9]+동[0-9]+|[가-힣0-9]+동$|[가-힣0-9]+리 |[가-힣0-9]+리[0-9]+|[가-힣0-9]+리^[가-힣]|[가-힣0-9]+리$')\n",
    "s = '제주특별자치도 제주시 외도1동 482-1'\n",
    "print(old_p.search(s))"
   ]
  },
  {
   "cell_type": "code",
   "execution_count": 29,
   "metadata": {},
   "outputs": [
    {
     "name": "stdout",
     "output_type": "stream",
     "text": [
      "<re.Match object; span=(8, 11), match='조남동'>\n"
     ]
    }
   ],
   "source": [
    "s = '경기도 시흥시 조남동'\n",
    "print(old_p.search(s))"
   ]
  },
  {
   "cell_type": "code",
   "execution_count": 30,
   "metadata": {},
   "outputs": [
    {
     "name": "stdout",
     "output_type": "stream",
     "text": [
      "<re.Match object; span=(12, 19), match='외도1동482'>\n"
     ]
    }
   ],
   "source": [
    "s = '제주특별자치도 제주시 외도1동482-1'\n",
    "print(old_p.search(s))"
   ]
  },
  {
   "cell_type": "code",
   "execution_count": 31,
   "metadata": {},
   "outputs": [
    {
     "name": "stdout",
     "output_type": "stream",
     "text": [
      "None\n"
     ]
    }
   ],
   "source": [
    "s = '강원도 평창군 용평면 탑거리길 63 , 내고장 으뜸상품 판매장 앞'\n",
    "print(old_p.search(s))"
   ]
  },
  {
   "cell_type": "code",
   "execution_count": 32,
   "metadata": {},
   "outputs": [
    {
     "name": "stdout",
     "output_type": "stream",
     "text": [
      "<re.Match object; span=(13, 17), match='덕동리 '>\n"
     ]
    }
   ],
   "source": [
    "s = '전라북도 남원시 산내면 덕동리 406'\n",
    "print(old_p.search(s))"
   ]
  },
  {
   "cell_type": "code",
   "execution_count": 33,
   "metadata": {},
   "outputs": [
    {
     "name": "stdout",
     "output_type": "stream",
     "text": [
      "<re.Match object; span=(13, 19), match='덕동리406'>\n"
     ]
    }
   ],
   "source": [
    "s = '전라북도 남원시 산내면 덕동리406'\n",
    "print(old_p.search(s))"
   ]
  },
  {
   "cell_type": "code",
   "execution_count": 34,
   "metadata": {},
   "outputs": [
    {
     "name": "stdout",
     "output_type": "stream",
     "text": [
      "<re.Match object; span=(13, 16), match='적암리'>\n"
     ]
    }
   ],
   "source": [
    "s = '충청북도 보은군 마로면 적암리'\n",
    "print(old_p.search(s))"
   ]
  },
  {
   "cell_type": "code",
   "execution_count": 35,
   "metadata": {},
   "outputs": [
    {
     "name": "stderr",
     "output_type": "stream",
     "text": [
      "11613449it [01:19, 146023.95it/s]"
     ]
    },
    {
     "name": "stdout",
     "output_type": "stream",
     "text": [
      "7755902\n",
      "3857547\n",
      "11613449\n",
      "True\n"
     ]
    },
    {
     "name": "stderr",
     "output_type": "stream",
     "text": [
      "\n"
     ]
    }
   ],
   "source": [
    "# 오류 주소\n",
    "    # 신 : 충청북도 단양군 적성면 기동리\n",
    "    # 신 : 제주특별자치도 제주시 외도1동 482-1\n",
    "    # 구 : 강원도 평창군 용평면 탑거리길 63 , 내고장 으뜸상품 판매장 앞\n",
    "    # 신 : 경기도 시흥시 조남동\n",
    "    # 신 : 7755902\n",
    "old_adr = []\n",
    "old_idx = []\n",
    "new_adr = []\n",
    "new_idx = []\n",
    "# new_p = re.compile('[가-힣]+로{1}|[가-힣]+로[0-9]+|[가-힣]+길|[가-힣0-9]+번길')\n",
    "old_p = re.compile('[가-힣0-9]+동 |[가-힣0-9]+동^[가-힣]|[가-힣0-9]+동[0-9]+|[가-힣0-9]+동$|[가-힣0-9]+리 |[가-힣0-9]+리[0-9]+|[가-힣0-9]+리^[가-힣]|[가-힣0-9]+리$')\n",
    "for i, s in tqdm(enumerate(temp)):\n",
    "    # if new_p.search(s):\n",
    "    if old_p.search(s):\n",
    "        old_adr.append(s)\n",
    "        old_idx.append(i)\n",
    "    else:\n",
    "        new_adr.append(s)\n",
    "        new_idx.append(i)\n",
    "\n",
    "print(len(new_idx))\n",
    "print(len(old_idx))\n",
    "print(len(temp))\n",
    "print(len(new_idx) + len(old_idx) == len(temp))"
   ]
  },
  {
   "cell_type": "code",
   "execution_count": 36,
   "metadata": {},
   "outputs": [
    {
     "data": {
      "text/plain": [
       "['경상남도 김해시 진영읍 하계로96번길 94-4 , 주유소 옆 주차장',\n",
       " '제주특별자치도 제주시 삼성로 40 민속자연사박물관',\n",
       " '제주특별자치도 제주시 노형9길 9-4,  주차장',\n",
       " '경상북도 포항시 북구 해안로82',\n",
       " '강원도 양양군 현북면 동해대로 1242',\n",
       " '제주특별자치도 제주시 산천단동길 26 인재개발원',\n",
       " '경상남도 양산시 양산대로 849 , 운동장 앞 도로쪽 주차장',\n",
       " '경상북도 칠곡군 동명면 중앙고속도로 123',\n",
       " '강원도 강릉시 강릉대로 33  P3 주차장',\n",
       " '제주특별자치도 제주시 우평로 318 부영아파트']"
      ]
     },
     "execution_count": 36,
     "metadata": {},
     "output_type": "execute_result"
    }
   ],
   "source": [
    "start_idx = 10*0\n",
    "new_adr[start_idx:start_idx+10]"
   ]
  },
  {
   "cell_type": "code",
   "execution_count": 37,
   "metadata": {},
   "outputs": [
    {
     "name": "stdout",
     "output_type": "stream",
     "text": [
      "서울특별시 구로구 경인로 661  지하2층 L\n"
     ]
    }
   ],
   "source": [
    "for i in new_adr:\n",
    "    if '구로구' in i:\n",
    "        print(i)\n",
    "        break"
   ]
  },
  {
   "cell_type": "markdown",
   "metadata": {},
   "source": [
    "#### 빈칸 2개 -> 1개로 수정"
   ]
  },
  {
   "cell_type": "code",
   "execution_count": 38,
   "metadata": {},
   "outputs": [],
   "source": [
    "# 빈칸 2개 있는것 1개로 변환\n",
    "for i, s in enumerate(new_adr):\n",
    "    if '  ' in s:\n",
    "        new_adr[i] = s.replace('  ', ' ')"
   ]
  },
  {
   "cell_type": "code",
   "execution_count": 39,
   "metadata": {},
   "outputs": [
    {
     "name": "stdout",
     "output_type": "stream",
     "text": [
      "서울특별시 구로구 경인로 661 지하2층 L\n"
     ]
    }
   ],
   "source": [
    "for i in new_adr:\n",
    "    if '구로구' in i:\n",
    "        print(i)\n",
    "        break"
   ]
  },
  {
   "cell_type": "code",
   "execution_count": 40,
   "metadata": {},
   "outputs": [],
   "source": [
    "for i in new_adr:\n",
    "    if '구로구 개봉동' in i:\n",
    "        print(i)\n",
    "        break"
   ]
  },
  {
   "cell_type": "code",
   "execution_count": 41,
   "metadata": {},
   "outputs": [
    {
     "data": {
      "text/plain": [
       "['경기도 고양시 덕양구 고양시청로 10 , 주차장 입구 전 우측',\n",
       " '경상북도 상주시 화서면 터골길 51-25',\n",
       " '강원도 횡성군 안흥면 영동고속도로 154 , 휴게소와 LPG충전소 사이',\n",
       " '경상북도 청도군 청도읍 하지길 59-49 , 휴게소와 주유소 사이',\n",
       " '강원도 강릉시 강릉대로 33 P3 주차장',\n",
       " '강원도 횡성군 안흥면 영동고속도로 153 , 농축산물판매장 옆',\n",
       " '경기도 연천군 연천읍 연천로 220',\n",
       " '경상북도 영덕군 강구면 동해대로 4526',\n",
       " '경상북도 경산시 진량읍 대학로 1089 고분군 입구 우측 옥외 주차장',\n",
       " '충청북도 괴산군 장연면 중부내륙고속도로 205']"
      ]
     },
     "execution_count": 41,
     "metadata": {},
     "output_type": "execute_result"
    }
   ],
   "source": [
    "start_idx = 100\n",
    "new_adr[start_idx:start_idx + 10]"
   ]
  },
  {
   "cell_type": "code",
   "execution_count": 42,
   "metadata": {},
   "outputs": [
    {
     "data": {
      "text/plain": [
       "['인천광역시 옹진군 영흥면 내리 8-165  공중화장실 옆',\n",
       " '제주특별자치도 서귀포시 성산읍 고성리 327-1',\n",
       " '제주특별자치도 서귀포시 안덕면 사계리 163-1 , 산방산 주차장 장애인 주차구역 앞',\n",
       " '경기도 안양시 동안구 관앙동 1590',\n",
       " '경상북도 군위군 산성면 백학리',\n",
       " '전라남도 여수시 소호동 505-2, 입구 우측',\n",
       " '제주특별자치도 서귀포시 서홍동 666-1',\n",
       " '강원도 양양군 현북면 하광정리 80-2',\n",
       " '세종특별자치시 나성남로 7-7 BRT환승센터 B주차장 B1 (나성동 531)',\n",
       " '강원도 양양군 현북면 하광정리 80-2']"
      ]
     },
     "execution_count": 42,
     "metadata": {},
     "output_type": "execute_result"
    }
   ],
   "source": [
    "start_idx = 100\n",
    "old_adr[start_idx:start_idx + 10]"
   ]
  },
  {
   "cell_type": "markdown",
   "metadata": {},
   "source": [
    "#### 신주소, 구주소 데이터 프레임 분리"
   ]
  },
  {
   "cell_type": "code",
   "execution_count": 43,
   "metadata": {},
   "outputs": [],
   "source": [
    "new_adr_df = df2.loc[new_idx].reset_index(drop=True)\n",
    "old_adr_df = df2.loc[old_idx].reset_index(drop=True)"
   ]
  },
  {
   "cell_type": "code",
   "execution_count": 44,
   "metadata": {},
   "outputs": [
    {
     "data": {
      "text/html": [
       "<div>\n",
       "<style scoped>\n",
       "    .dataframe tbody tr th:only-of-type {\n",
       "        vertical-align: middle;\n",
       "    }\n",
       "\n",
       "    .dataframe tbody tr th {\n",
       "        vertical-align: top;\n",
       "    }\n",
       "\n",
       "    .dataframe thead th {\n",
       "        text-align: right;\n",
       "    }\n",
       "</style>\n",
       "<table border=\"1\" class=\"dataframe\">\n",
       "  <thead>\n",
       "    <tr style=\"text-align: right;\">\n",
       "      <th></th>\n",
       "      <th>충전소명</th>\n",
       "      <th>충전기ID</th>\n",
       "      <th>지역</th>\n",
       "      <th>시군구</th>\n",
       "      <th>주소</th>\n",
       "      <th>충전기타입</th>\n",
       "      <th>충전시작일시</th>\n",
       "      <th>충전종료일시</th>\n",
       "      <th>충전시간</th>\n",
       "      <th>충전량</th>\n",
       "      <th>...</th>\n",
       "      <th>충전시작일시(변환)</th>\n",
       "      <th>충전종료_년도</th>\n",
       "      <th>충전종료_월</th>\n",
       "      <th>충전종료_일</th>\n",
       "      <th>충전종료_시</th>\n",
       "      <th>충전종료_분</th>\n",
       "      <th>충전종료_초</th>\n",
       "      <th>충전종료일시(변환)</th>\n",
       "      <th>충전시간(계산)</th>\n",
       "      <th>raw값과_계산값_차이</th>\n",
       "    </tr>\n",
       "  </thead>\n",
       "  <tbody>\n",
       "  </tbody>\n",
       "</table>\n",
       "<p>0 rows × 27 columns</p>\n",
       "</div>"
      ],
      "text/plain": [
       "Empty DataFrame\n",
       "Columns: [충전소명, 충전기ID, 지역, 시군구, 주소, 충전기타입, 충전시작일시, 충전종료일시, 충전시간, 충전량, 충전용량, 충전시작_년도, 충전시작_월, 충전시작_일, 충전시작_시, 충전시작_분, 충전시작_초, 충전시작일시(변환), 충전종료_년도, 충전종료_월, 충전종료_일, 충전종료_시, 충전종료_분, 충전종료_초, 충전종료일시(변환), 충전시간(계산), raw값과_계산값_차이]\n",
       "Index: []\n",
       "\n",
       "[0 rows x 27 columns]"
      ]
     },
     "execution_count": 44,
     "metadata": {},
     "output_type": "execute_result"
    }
   ],
   "source": [
    "new_adr_df[(new_adr_df['지역'] != '서울특별시') & (new_adr_df['주소'] == '강남구 양재대로31길')]"
   ]
  },
  {
   "cell_type": "code",
   "execution_count": 45,
   "metadata": {},
   "outputs": [
    {
     "data": {
      "text/plain": [
       "(1831963001472, 1843278827872, 1832668304336)"
      ]
     },
     "execution_count": 45,
     "metadata": {},
     "output_type": "execute_result"
    }
   ],
   "source": [
    "id(df2), id(new_adr_df), id(old_adr_df)"
   ]
  },
  {
   "cell_type": "code",
   "execution_count": 46,
   "metadata": {},
   "outputs": [
    {
     "name": "stdout",
     "output_type": "stream",
     "text": [
      "<class 'pandas.core.frame.DataFrame'>\n",
      "RangeIndex: 7755902 entries, 0 to 7755901\n",
      "Data columns (total 27 columns):\n",
      " #   Column        Dtype          \n",
      "---  ------        -----          \n",
      " 0   충전소명          object         \n",
      " 1   충전기ID         int8           \n",
      " 2   지역            object         \n",
      " 3   시군구           object         \n",
      " 4   주소            object         \n",
      " 5   충전기타입         object         \n",
      " 6   충전시작일시        int64          \n",
      " 7   충전종료일시        int64          \n",
      " 8   충전시간          timedelta64[ns]\n",
      " 9   충전량           float64        \n",
      " 10  충전용량          object         \n",
      " 11  충전시작_년도       int16          \n",
      " 12  충전시작_월        int8           \n",
      " 13  충전시작_일        int8           \n",
      " 14  충전시작_시        int8           \n",
      " 15  충전시작_분        int8           \n",
      " 16  충전시작_초        int8           \n",
      " 17  충전시작일시(변환)    object         \n",
      " 18  충전종료_년도       int16          \n",
      " 19  충전종료_월        int8           \n",
      " 20  충전종료_일        int8           \n",
      " 21  충전종료_시        int8           \n",
      " 22  충전종료_분        int8           \n",
      " 23  충전종료_초        int8           \n",
      " 24  충전종료일시(변환)    object         \n",
      " 25  충전시간(계산)      timedelta64[ns]\n",
      " 26  raw값과_계산값_차이  object         \n",
      "dtypes: float64(1), int16(2), int64(2), int8(11), object(9), timedelta64[ns](2)\n",
      "memory usage: 939.4+ MB\n"
     ]
    }
   ],
   "source": [
    "new_adr_df.info()"
   ]
  },
  {
   "cell_type": "code",
   "execution_count": 47,
   "metadata": {},
   "outputs": [
    {
     "name": "stdout",
     "output_type": "stream",
     "text": [
      "<class 'pandas.core.frame.DataFrame'>\n",
      "RangeIndex: 3857547 entries, 0 to 3857546\n",
      "Data columns (total 27 columns):\n",
      " #   Column        Dtype          \n",
      "---  ------        -----          \n",
      " 0   충전소명          object         \n",
      " 1   충전기ID         int8           \n",
      " 2   지역            object         \n",
      " 3   시군구           object         \n",
      " 4   주소            object         \n",
      " 5   충전기타입         object         \n",
      " 6   충전시작일시        int64          \n",
      " 7   충전종료일시        int64          \n",
      " 8   충전시간          timedelta64[ns]\n",
      " 9   충전량           float64        \n",
      " 10  충전용량          object         \n",
      " 11  충전시작_년도       int16          \n",
      " 12  충전시작_월        int8           \n",
      " 13  충전시작_일        int8           \n",
      " 14  충전시작_시        int8           \n",
      " 15  충전시작_분        int8           \n",
      " 16  충전시작_초        int8           \n",
      " 17  충전시작일시(변환)    object         \n",
      " 18  충전종료_년도       int16          \n",
      " 19  충전종료_월        int8           \n",
      " 20  충전종료_일        int8           \n",
      " 21  충전종료_시        int8           \n",
      " 22  충전종료_분        int8           \n",
      " 23  충전종료_초        int8           \n",
      " 24  충전종료일시(변환)    object         \n",
      " 25  충전시간(계산)      timedelta64[ns]\n",
      " 26  raw값과_계산값_차이  object         \n",
      "dtypes: float64(1), int16(2), int64(2), int8(11), object(9), timedelta64[ns](2)\n",
      "memory usage: 467.2+ MB\n"
     ]
    }
   ],
   "source": [
    "old_adr_df.info()"
   ]
  },
  {
   "cell_type": "markdown",
   "metadata": {},
   "source": [
    "### 신주소 정리\n",
    "- 7,755,902 개\n",
    "- 이슈\n",
    "    - 한 주소에 2개 주소 입력\n",
    "        - 신주소\n",
    "            - 동일 지역 : 22,888\n",
    "            - 다른 지역 : 0\n",
    "        - 구주소\n",
    "            - 동일 지역 : 99,756\n",
    "            - 다른 지역 : 5,427"
   ]
  },
  {
   "cell_type": "code",
   "execution_count": 48,
   "metadata": {},
   "outputs": [
    {
     "data": {
      "text/plain": [
       "array(['경상남도 김해시 진영읍 하계로96번길 94-4 , 주유소 옆 주차장',\n",
       "       '제주특별자치도 제주시 삼성로 40 민속자연사박물관', '제주특별자치도 제주시 노형9길 9-4,  주차장',\n",
       "       '경상북도 포항시 북구 해안로82', '강원도 양양군 현북면 동해대로 1242',\n",
       "       '제주특별자치도 제주시 산천단동길 26 인재개발원', '경상남도 양산시 양산대로 849 , 운동장 앞 도로쪽 주차장',\n",
       "       '경상북도 칠곡군 동명면 중앙고속도로 123', '강원도 강릉시 강릉대로 33  P3 주차장',\n",
       "       '제주특별자치도 제주시 우평로 318 부영아파트'], dtype=object)"
      ]
     },
     "execution_count": 48,
     "metadata": {},
     "output_type": "execute_result"
    }
   ],
   "source": [
    "new_adr_temp = new_adr_df['주소'].to_numpy()\n",
    "new_adr_temp[:10]"
   ]
  },
  {
   "cell_type": "code",
   "execution_count": 49,
   "metadata": {},
   "outputs": [
    {
     "data": {
      "text/plain": [
       "(1832605865136, 1833060929936, 1843278827872)"
      ]
     },
     "execution_count": 49,
     "metadata": {},
     "output_type": "execute_result"
    }
   ],
   "source": [
    "id(new_adr_temp), id(new_adr_df['주소']), id(new_adr_df)"
   ]
  },
  {
   "cell_type": "markdown",
   "metadata": {},
   "source": [
    "#### 주소 표기 수정\n",
    "- \"전국 도로명 부여사유 조회(2022.08.31기준)\" 파일 참고"
   ]
  },
  {
   "cell_type": "markdown",
   "metadata": {},
   "source": [
    "##### 컴마(,) 제거"
   ]
  },
  {
   "cell_type": "code",
   "execution_count": 50,
   "metadata": {},
   "outputs": [
    {
     "name": "stdout",
     "output_type": "stream",
     "text": [
      "경상남도 김해시 진영읍 하계로96번길 94-4 , 주유소 옆 주차장\n"
     ]
    }
   ],
   "source": [
    "for i, s in enumerate(new_adr_temp):\n",
    "    if ',' in s:\n",
    "        print(s)\n",
    "        break"
   ]
  },
  {
   "cell_type": "code",
   "execution_count": 51,
   "metadata": {},
   "outputs": [],
   "source": [
    "for i, s in enumerate(new_adr_temp):\n",
    "    if ',' in s:\n",
    "        new_adr_temp[i] = s.replace(',', '')"
   ]
  },
  {
   "cell_type": "code",
   "execution_count": 52,
   "metadata": {},
   "outputs": [],
   "source": [
    "for i, s in enumerate(new_adr_temp):\n",
    "    if ',' in s:\n",
    "        print(s)\n",
    "        break"
   ]
  },
  {
   "cell_type": "markdown",
   "metadata": {},
   "source": [
    "##### 도로명 형식에 맞게 수정"
   ]
  },
  {
   "cell_type": "code",
   "execution_count": 53,
   "metadata": {},
   "outputs": [
    {
     "name": "stdout",
     "output_type": "stream",
     "text": [
      "880\n"
     ]
    }
   ],
   "source": [
    "for i, one in enumerate(new_adr_temp):\n",
    "    if one == '광주광역시 북구 첨단 벤처로 108번길 9':\n",
    "        print(i)\n",
    "        break"
   ]
  },
  {
   "cell_type": "code",
   "execution_count": 54,
   "metadata": {},
   "outputs": [
    {
     "data": {
      "text/plain": [
       "'광주광역시 북구 첨단 벤처로 108번길 9'"
      ]
     },
     "execution_count": 54,
     "metadata": {},
     "output_type": "execute_result"
    }
   ],
   "source": [
    "new_adr_temp[880]"
   ]
  },
  {
   "cell_type": "code",
   "execution_count": 55,
   "metadata": {},
   "outputs": [
    {
     "data": {
      "text/plain": [
       "'광주광역시 북구 첨단벤처로 108번길 9'"
      ]
     },
     "execution_count": 55,
     "metadata": {},
     "output_type": "execute_result"
    }
   ],
   "source": [
    "'광주광역시 북구 첨단 벤처로 108번길 9'.replace('첨단 벤처로', '첨단벤처로')"
   ]
  },
  {
   "cell_type": "code",
   "execution_count": 56,
   "metadata": {},
   "outputs": [],
   "source": [
    "for i, one in enumerate(new_adr_temp):\n",
    "    if '첨단 벤처로' in one:\n",
    "        new_adr_temp[i] = one.replace('첨단 벤처로', '첨단벤처로')"
   ]
  },
  {
   "cell_type": "code",
   "execution_count": 57,
   "metadata": {},
   "outputs": [
    {
     "data": {
      "text/plain": [
       "'광주광역시 북구 첨단벤처로 108번길 9'"
      ]
     },
     "execution_count": 57,
     "metadata": {},
     "output_type": "execute_result"
    }
   ],
   "source": [
    "new_adr_temp[880]"
   ]
  },
  {
   "cell_type": "markdown",
   "metadata": {},
   "source": [
    "##### -길과 숫자 띄어쓰기"
   ]
  },
  {
   "cell_type": "code",
   "execution_count": 58,
   "metadata": {},
   "outputs": [
    {
     "name": "stdout",
     "output_type": "stream",
     "text": [
      "1525\n"
     ]
    }
   ],
   "source": [
    "s = '전라북도 전주시 완산구 신촌3길24번지'\n",
    "for i, one in enumerate(new_adr_temp):\n",
    "    if one == s:\n",
    "        print(i)\n",
    "        break"
   ]
  },
  {
   "cell_type": "code",
   "execution_count": 59,
   "metadata": {},
   "outputs": [
    {
     "data": {
      "text/plain": [
       "'전라북도 전주시 완산구 신촌3길24번지'"
      ]
     },
     "execution_count": 59,
     "metadata": {},
     "output_type": "execute_result"
    }
   ],
   "source": [
    "new_adr_temp[1525]"
   ]
  },
  {
   "cell_type": "code",
   "execution_count": 60,
   "metadata": {},
   "outputs": [
    {
     "name": "stdout",
     "output_type": "stream",
     "text": [
      "전라북도 전주시 완산구 신촌3길 24번지\n"
     ]
    }
   ],
   "source": [
    "n_p = re.compile('([가-힣0-9]+길)([0-9]+)')\n",
    "print(n_p.sub('\\g<1> \\g<2>', s))"
   ]
  },
  {
   "cell_type": "code",
   "execution_count": 61,
   "metadata": {},
   "outputs": [
    {
     "name": "stdout",
     "output_type": "stream",
     "text": [
      "1145\n"
     ]
    }
   ],
   "source": [
    "s = '전라남도 무안군 삼향읍 오룡1길 (E주차장-전라남도관광안내소)'\n",
    "for i, one in enumerate(new_adr_temp):\n",
    "    if one == s:\n",
    "        print(i)\n",
    "        break"
   ]
  },
  {
   "cell_type": "code",
   "execution_count": 62,
   "metadata": {},
   "outputs": [
    {
     "data": {
      "text/plain": [
       "'전라남도 무안군 삼향읍 오룡1길 (E주차장-전라남도관광안내소)'"
      ]
     },
     "execution_count": 62,
     "metadata": {},
     "output_type": "execute_result"
    }
   ],
   "source": [
    "new_adr_temp[1145]"
   ]
  },
  {
   "cell_type": "code",
   "execution_count": 63,
   "metadata": {},
   "outputs": [
    {
     "name": "stdout",
     "output_type": "stream",
     "text": [
      "전라남도 무안군 삼향읍 오룡1길 (E주차장-전라남도관광안내소)\n"
     ]
    }
   ],
   "source": [
    "print(n_p.sub('\\g<1> \\g<2>', s))"
   ]
  },
  {
   "cell_type": "code",
   "execution_count": 64,
   "metadata": {},
   "outputs": [],
   "source": [
    "# -길과 숫자 띄어쓰기\n",
    "n_p = re.compile('([가-힣0-9]+길)([0-9]+)')\n",
    "\n",
    "for i, one in enumerate(new_adr_temp):\n",
    "    if n_p.search(one):\n",
    "        new_adr_temp[i] = n_p.sub('\\g<1> \\g<2>', one)"
   ]
  },
  {
   "cell_type": "code",
   "execution_count": 65,
   "metadata": {},
   "outputs": [
    {
     "data": {
      "text/plain": [
       "'전라북도 전주시 완산구 신촌3길 24번지'"
      ]
     },
     "execution_count": 65,
     "metadata": {},
     "output_type": "execute_result"
    }
   ],
   "source": [
    "new_adr_temp[1525]"
   ]
  },
  {
   "cell_type": "code",
   "execution_count": 66,
   "metadata": {},
   "outputs": [
    {
     "data": {
      "text/plain": [
       "'전라남도 무안군 삼향읍 오룡1길 (E주차장-전라남도관광안내소)'"
      ]
     },
     "execution_count": 66,
     "metadata": {},
     "output_type": "execute_result"
    }
   ],
   "source": [
    "new_adr_temp[1145]"
   ]
  },
  {
   "cell_type": "markdown",
   "metadata": {},
   "source": [
    "##### -로와 숫자 띄어쓰기"
   ]
  },
  {
   "cell_type": "code",
   "execution_count": 67,
   "metadata": {},
   "outputs": [
    {
     "name": "stdout",
     "output_type": "stream",
     "text": [
      "2195\n"
     ]
    }
   ],
   "source": [
    "s = '경기도 이천시 마장면 중부고속도로82'\n",
    "for i, one in enumerate(new_adr_temp):\n",
    "    if one == s:\n",
    "        print(i)\n",
    "        break"
   ]
  },
  {
   "cell_type": "code",
   "execution_count": 68,
   "metadata": {},
   "outputs": [
    {
     "data": {
      "text/plain": [
       "'경기도 이천시 마장면 중부고속도로82'"
      ]
     },
     "execution_count": 68,
     "metadata": {},
     "output_type": "execute_result"
    }
   ],
   "source": [
    "new_adr_temp[2195]"
   ]
  },
  {
   "cell_type": "code",
   "execution_count": 69,
   "metadata": {},
   "outputs": [
    {
     "name": "stdout",
     "output_type": "stream",
     "text": [
      "경기도 이천시 마장면 중부고속도로 82\n"
     ]
    }
   ],
   "source": [
    "n_p = re.compile('([가-힣0-9]+로)([0-9]+)')\n",
    "print(n_p.sub('\\g<1> \\g<2>', s))"
   ]
  },
  {
   "cell_type": "code",
   "execution_count": 70,
   "metadata": {},
   "outputs": [
    {
     "name": "stdout",
     "output_type": "stream",
     "text": [
      "816\n"
     ]
    }
   ],
   "source": [
    "s = '강원도 강릉시 성산면 영동고속도로 232 (보광리)'\n",
    "for i, one in enumerate(new_adr_temp):\n",
    "    if one == s:\n",
    "        print(i)\n",
    "        break"
   ]
  },
  {
   "cell_type": "code",
   "execution_count": 71,
   "metadata": {},
   "outputs": [
    {
     "data": {
      "text/plain": [
       "'강원도 강릉시 성산면 영동고속도로 232 (보광리)'"
      ]
     },
     "execution_count": 71,
     "metadata": {},
     "output_type": "execute_result"
    }
   ],
   "source": [
    "new_adr_temp[816]"
   ]
  },
  {
   "cell_type": "code",
   "execution_count": 72,
   "metadata": {},
   "outputs": [
    {
     "name": "stdout",
     "output_type": "stream",
     "text": [
      "강원도 강릉시 성산면 영동고속도로 232 (보광리)\n"
     ]
    }
   ],
   "source": [
    "print(n_p.sub('\\g<1> \\g<2>', s))"
   ]
  },
  {
   "cell_type": "code",
   "execution_count": 73,
   "metadata": {},
   "outputs": [],
   "source": [
    "# -로와 숫자 띄어쓰기\n",
    "n_p = re.compile('([가-힣0-9]+로)([0-9]+)')\n",
    "\n",
    "for i, one in enumerate(new_adr_temp):\n",
    "    if n_p.search(one):\n",
    "        new_adr_temp[i] = n_p.sub('\\g<1> \\g<2>', one)"
   ]
  },
  {
   "cell_type": "code",
   "execution_count": 74,
   "metadata": {},
   "outputs": [
    {
     "data": {
      "text/plain": [
       "'경기도 이천시 마장면 중부고속도로 82'"
      ]
     },
     "execution_count": 74,
     "metadata": {},
     "output_type": "execute_result"
    }
   ],
   "source": [
    "new_adr_temp[2195]"
   ]
  },
  {
   "cell_type": "code",
   "execution_count": 75,
   "metadata": {},
   "outputs": [
    {
     "data": {
      "text/plain": [
       "'강원도 강릉시 성산면 영동고속도로 232 (보광리)'"
      ]
     },
     "execution_count": 75,
     "metadata": {},
     "output_type": "execute_result"
    }
   ],
   "source": [
    "new_adr_temp[816]"
   ]
  },
  {
   "cell_type": "markdown",
   "metadata": {},
   "source": [
    "##### -로-번-길 붙이기"
   ]
  },
  {
   "cell_type": "code",
   "execution_count": 76,
   "metadata": {},
   "outputs": [
    {
     "name": "stdout",
     "output_type": "stream",
     "text": [
      "880\n"
     ]
    }
   ],
   "source": [
    "s = '광주광역시 북구 첨단벤처로 108번길 9'\n",
    "for i, one in enumerate(new_adr_temp):\n",
    "    if one == s:\n",
    "        print(i)\n",
    "        break"
   ]
  },
  {
   "cell_type": "code",
   "execution_count": 77,
   "metadata": {},
   "outputs": [
    {
     "data": {
      "text/plain": [
       "'광주광역시 북구 첨단벤처로 108번길 9'"
      ]
     },
     "execution_count": 77,
     "metadata": {},
     "output_type": "execute_result"
    }
   ],
   "source": [
    "new_adr_temp[880]"
   ]
  },
  {
   "cell_type": "code",
   "execution_count": 78,
   "metadata": {},
   "outputs": [
    {
     "name": "stdout",
     "output_type": "stream",
     "text": [
      "<re.Match object; span=(9, 20), match='첨단벤처로 108번길'>\n",
      "광주광역시 북구 첨단벤처로108번길 9\n"
     ]
    }
   ],
   "source": [
    "n_p = re.compile('([가-힣0-9]+로) ([0-9]+번[가-힣]*길)')\n",
    "print(n_p.search(s))\n",
    "print(n_p.sub('\\g<1>\\g<2>', s))"
   ]
  },
  {
   "cell_type": "code",
   "execution_count": 79,
   "metadata": {},
   "outputs": [],
   "source": [
    "# -로-번-길 붙이기\n",
    "n_p = re.compile('([가-힣0-9]+로) ([0-9]+번[가-힣]*길)')\n",
    "\n",
    "for i, one in enumerate(new_adr_temp):\n",
    "    if n_p.search(one):\n",
    "        new_adr_temp[i] = n_p.sub('\\g<1>\\g<2>', one)"
   ]
  },
  {
   "cell_type": "code",
   "execution_count": 80,
   "metadata": {},
   "outputs": [
    {
     "data": {
      "text/plain": [
       "'광주광역시 북구 첨단벤처로108번길 9'"
      ]
     },
     "execution_count": 80,
     "metadata": {},
     "output_type": "execute_result"
    }
   ],
   "source": [
    "new_adr_temp[880]"
   ]
  },
  {
   "cell_type": "markdown",
   "metadata": {},
   "source": [
    "##### -로-길 붙이기"
   ]
  },
  {
   "cell_type": "code",
   "execution_count": 81,
   "metadata": {},
   "outputs": [
    {
     "name": "stdout",
     "output_type": "stream",
     "text": [
      "40\n"
     ]
    }
   ],
   "source": [
    "n_p = re.compile('([가-힣0-9]+로) ([0-9]+[가-힣]*길)')\n",
    "for i, one in enumerate(new_adr_temp):\n",
    "    if n_p.search(one):\n",
    "        print(i)\n",
    "        break"
   ]
  },
  {
   "cell_type": "code",
   "execution_count": 82,
   "metadata": {},
   "outputs": [
    {
     "data": {
      "text/plain": [
       "'대구광역시 동구 효동로 2길 93'"
      ]
     },
     "execution_count": 82,
     "metadata": {},
     "output_type": "execute_result"
    }
   ],
   "source": [
    "new_adr_temp[40]"
   ]
  },
  {
   "cell_type": "code",
   "execution_count": 83,
   "metadata": {},
   "outputs": [
    {
     "name": "stdout",
     "output_type": "stream",
     "text": [
      "<re.Match object; span=(9, 15), match='효동로 2길'>\n",
      "대구광역시 동구 효동로2길 93\n"
     ]
    }
   ],
   "source": [
    "s = '대구광역시 동구 효동로 2길 93'\n",
    "print(n_p.search(s))\n",
    "print(n_p.sub('\\g<1>\\g<2>', s))"
   ]
  },
  {
   "cell_type": "code",
   "execution_count": 84,
   "metadata": {},
   "outputs": [],
   "source": [
    "# -로-길 붙이기\n",
    "n_p = re.compile('([가-힣0-9]+로) ([0-9]+[가-힣]*길)')\n",
    "\n",
    "for i, one in enumerate(new_adr_temp):\n",
    "    if n_p.search(one):\n",
    "        new_adr_temp[i] = n_p.sub('\\g<1>\\g<2>', one)"
   ]
  },
  {
   "cell_type": "code",
   "execution_count": 85,
   "metadata": {},
   "outputs": [
    {
     "data": {
      "text/plain": [
       "'대구광역시 동구 효동로2길 93'"
      ]
     },
     "execution_count": 85,
     "metadata": {},
     "output_type": "execute_result"
    }
   ],
   "source": [
    "new_adr_temp[40]"
   ]
  },
  {
   "cell_type": "markdown",
   "metadata": {},
   "source": [
    "##### -앙-길 붙이기"
   ]
  },
  {
   "cell_type": "code",
   "execution_count": 86,
   "metadata": {},
   "outputs": [],
   "source": [
    "n_p = re.compile('([가-힣0-9]+앙) ([0-9]+[가-힣]*길)')\n",
    "for i, one in enumerate(new_adr_temp):\n",
    "    if n_p.search(one):\n",
    "        print(i)\n",
    "        break"
   ]
  },
  {
   "cell_type": "code",
   "execution_count": 87,
   "metadata": {},
   "outputs": [],
   "source": [
    "# # -앙-길 붙이기\n",
    "# n_p = re.compile('([가-힣0-9]+앙) ([0-9]+[가-힣]*길)')\n",
    "\n",
    "# for i, one in enumerate(new_adr_temp):\n",
    "#     if n_p.search(one):\n",
    "#         new_adr_temp[i] = n_p.sub('\\g<1>\\g<2>', one)"
   ]
  },
  {
   "cell_type": "markdown",
   "metadata": {},
   "source": [
    "##### -장-길 붙이기"
   ]
  },
  {
   "cell_type": "code",
   "execution_count": 88,
   "metadata": {},
   "outputs": [],
   "source": [
    "n_p = re.compile('([가-힣0-9]+장) ([0-9]+[가-힣]*길)')\n",
    "for i, one in enumerate(new_adr_temp):\n",
    "    if n_p.search(one):\n",
    "        print(i)\n",
    "        break"
   ]
  },
  {
   "cell_type": "code",
   "execution_count": 89,
   "metadata": {},
   "outputs": [],
   "source": [
    "# # -장-길 붙이기\n",
    "# n_p = re.compile('([가-힣0-9]+장) ([0-9]+[가-힣]*길)')\n",
    "\n",
    "# for i, one in enumerate(new_adr_temp):\n",
    "#     if n_p.search(one):\n",
    "#         new_adr_temp[i] = n_p.sub('\\g<1>\\g<2>', one)"
   ]
  },
  {
   "cell_type": "markdown",
   "metadata": {},
   "source": [
    "##### -솜-로 붙이기"
   ]
  },
  {
   "cell_type": "code",
   "execution_count": 90,
   "metadata": {},
   "outputs": [
    {
     "name": "stdout",
     "output_type": "stream",
     "text": [
      "1671\n"
     ]
    }
   ],
   "source": [
    "n_p = re.compile('([가-힣0-9]+솜) ([0-9]+[가-힣]*로)')\n",
    "for i, one in enumerate(new_adr_temp):\n",
    "    if n_p.search(one):\n",
    "        print(i)\n",
    "        break"
   ]
  },
  {
   "cell_type": "code",
   "execution_count": 91,
   "metadata": {},
   "outputs": [
    {
     "data": {
      "text/plain": [
       "'세종특별자치시 다솜 3로 66'"
      ]
     },
     "execution_count": 91,
     "metadata": {},
     "output_type": "execute_result"
    }
   ],
   "source": [
    "new_adr_temp[1671]"
   ]
  },
  {
   "cell_type": "code",
   "execution_count": 92,
   "metadata": {},
   "outputs": [
    {
     "name": "stdout",
     "output_type": "stream",
     "text": [
      "<re.Match object; span=(8, 13), match='다솜 3로'>\n",
      "세종특별자치시 다솜3로\n"
     ]
    }
   ],
   "source": [
    "n_p = re.compile('([가-힣0-9]+솜) ([0-9]+[가-힣]*로)')\n",
    "s = '세종특별자치시 다솜 3로'\n",
    "print(n_p.search(s))\n",
    "print(n_p.sub('\\g<1>\\g<2>', s))"
   ]
  },
  {
   "cell_type": "code",
   "execution_count": 93,
   "metadata": {},
   "outputs": [
    {
     "name": "stdout",
     "output_type": "stream",
     "text": [
      "None\n",
      "세종특별자치시 다솜3로\n"
     ]
    }
   ],
   "source": [
    "n_p = re.compile('([가-힣0-9]+솜) ([0-9]+[가-힣]*로)')\n",
    "s = '세종특별자치시 다솜3로'\n",
    "print(n_p.search(s))\n",
    "print(n_p.sub('\\g<1>\\g<2>', s))"
   ]
  },
  {
   "cell_type": "code",
   "execution_count": 94,
   "metadata": {},
   "outputs": [],
   "source": [
    "# -솜-로 붙이기\n",
    "n_p = re.compile('([가-힣0-9]+솜) ([0-9]+[가-힣]*로)')\n",
    "\n",
    "for i, one in enumerate(new_adr_temp):\n",
    "    if n_p.search(one):\n",
    "        new_adr_temp[i] = n_p.sub('\\g<1>\\g<2>', one)"
   ]
  },
  {
   "cell_type": "code",
   "execution_count": 95,
   "metadata": {},
   "outputs": [
    {
     "data": {
      "text/plain": [
       "'세종특별자치시 다솜3로 66'"
      ]
     },
     "execution_count": 95,
     "metadata": {},
     "output_type": "execute_result"
    }
   ],
   "source": [
    "new_adr_temp[1671]"
   ]
  },
  {
   "cell_type": "markdown",
   "metadata": {},
   "source": [
    "##### -길 -번길 붙이기"
   ]
  },
  {
   "cell_type": "code",
   "execution_count": 96,
   "metadata": {},
   "outputs": [
    {
     "name": "stdout",
     "output_type": "stream",
     "text": [
      "2051\n",
      "2074\n"
     ]
    }
   ],
   "source": [
    "n_p = re.compile('([가-힣]+길) ([0-9]+번길)')\n",
    "count = 0\n",
    "for i, one in enumerate(new_adr_temp):\n",
    "    if n_p.search(one):\n",
    "        print(i)\n",
    "        count += 1\n",
    "    if count == 2:\n",
    "        break"
   ]
  },
  {
   "cell_type": "code",
   "execution_count": 97,
   "metadata": {},
   "outputs": [
    {
     "data": {
      "text/plain": [
       "'경기도 양평군 개군면 하자포길 33번길 8'"
      ]
     },
     "execution_count": 97,
     "metadata": {},
     "output_type": "execute_result"
    }
   ],
   "source": [
    "new_adr_temp[2051]"
   ]
  },
  {
   "cell_type": "code",
   "execution_count": 98,
   "metadata": {},
   "outputs": [
    {
     "data": {
      "text/plain": [
       "'경상북도 포항시 북구 흥해읍 초곡길 36번길 30'"
      ]
     },
     "execution_count": 98,
     "metadata": {},
     "output_type": "execute_result"
    }
   ],
   "source": [
    "new_adr_temp[2074]"
   ]
  },
  {
   "cell_type": "code",
   "execution_count": 99,
   "metadata": {},
   "outputs": [
    {
     "name": "stdout",
     "output_type": "stream",
     "text": [
      "<re.Match object; span=(12, 21), match='하자포길 33번길'>\n",
      "경기도 양평군 개군면 하자포길33번길 8\n"
     ]
    }
   ],
   "source": [
    "n_p = re.compile('([가-힣]+길) ([0-9]+번길)')\n",
    "\n",
    "s = '경기도 양평군 개군면 하자포길 33번길 8'\n",
    "print(n_p.search(s))\n",
    "print(n_p.sub('\\g<1>\\g<2>', s))"
   ]
  },
  {
   "cell_type": "code",
   "execution_count": 100,
   "metadata": {},
   "outputs": [
    {
     "name": "stdout",
     "output_type": "stream",
     "text": [
      "<re.Match object; span=(16, 24), match='초곡길 36번길'>\n",
      "경상북도 포항시 북구 흥해읍 초곡길36번길 30\n"
     ]
    }
   ],
   "source": [
    "s = '경상북도 포항시 북구 흥해읍 초곡길 36번길 30'\n",
    "print(n_p.search(s))\n",
    "print(n_p.sub('\\g<1>\\g<2>', s))"
   ]
  },
  {
   "cell_type": "code",
   "execution_count": 101,
   "metadata": {},
   "outputs": [],
   "source": [
    "# -길-번길 붙이기\n",
    "for i, one in enumerate(new_adr_temp):\n",
    "    if n_p.search(one):\n",
    "        new_adr_temp[i] = n_p.sub('\\g<1>\\g<2>', one)"
   ]
  },
  {
   "cell_type": "code",
   "execution_count": 102,
   "metadata": {},
   "outputs": [
    {
     "data": {
      "text/plain": [
       "'경기도 양평군 개군면 하자포길33번길 8'"
      ]
     },
     "execution_count": 102,
     "metadata": {},
     "output_type": "execute_result"
    }
   ],
   "source": [
    "new_adr_temp[2051]"
   ]
  },
  {
   "cell_type": "code",
   "execution_count": 103,
   "metadata": {},
   "outputs": [
    {
     "data": {
      "text/plain": [
       "'경상북도 포항시 북구 흥해읍 초곡길36번길 30'"
      ]
     },
     "execution_count": 103,
     "metadata": {},
     "output_type": "execute_result"
    }
   ],
   "source": [
    "new_adr_temp[2074]"
   ]
  },
  {
   "cell_type": "markdown",
   "metadata": {},
   "source": [
    "##### -터-길 붙이기\n",
    "- '충청남도 천안시 서북구 신당새터 2길 28 카페 옆'"
   ]
  },
  {
   "cell_type": "code",
   "execution_count": 104,
   "metadata": {},
   "outputs": [
    {
     "name": "stdout",
     "output_type": "stream",
     "text": [
      "1926\n",
      "3174\n"
     ]
    }
   ],
   "source": [
    "n_p = re.compile('([가-힣]+터) ([0-9]+길)')\n",
    "count = 0\n",
    "for i, one in enumerate(new_adr_temp):\n",
    "    if n_p.search(one):\n",
    "        print(i)\n",
    "        count += 1\n",
    "    if count == 2:\n",
    "        break"
   ]
  },
  {
   "cell_type": "code",
   "execution_count": 105,
   "metadata": {},
   "outputs": [
    {
     "data": {
      "text/plain": [
       "'충청남도 천안시 서북구 신당새터 2길 28 카페 옆'"
      ]
     },
     "execution_count": 105,
     "metadata": {},
     "output_type": "execute_result"
    }
   ],
   "source": [
    "new_adr_temp[1926]"
   ]
  },
  {
   "cell_type": "code",
   "execution_count": 106,
   "metadata": {},
   "outputs": [
    {
     "data": {
      "text/plain": [
       "'충청남도 천안시 서북구 신당새터 2길 28 카페 옆'"
      ]
     },
     "execution_count": 106,
     "metadata": {},
     "output_type": "execute_result"
    }
   ],
   "source": [
    "new_adr_temp[3174]"
   ]
  },
  {
   "cell_type": "code",
   "execution_count": 107,
   "metadata": {},
   "outputs": [
    {
     "name": "stdout",
     "output_type": "stream",
     "text": [
      "<re.Match object; span=(13, 20), match='신당새터 2길'>\n",
      "충청남도 천안시 서북구 신당새터2길 28 카페 옆\n"
     ]
    }
   ],
   "source": [
    "s = '충청남도 천안시 서북구 신당새터 2길 28 카페 옆'\n",
    "print(n_p.search(s))\n",
    "print(n_p.sub('\\g<1>\\g<2>', s))"
   ]
  },
  {
   "cell_type": "code",
   "execution_count": 108,
   "metadata": {},
   "outputs": [],
   "source": [
    "# -터-길 붙이기\n",
    "for i, one in enumerate(new_adr_temp):\n",
    "    if n_p.search(one):\n",
    "        new_adr_temp[i] = n_p.sub('\\g<1>\\g<2>', one)"
   ]
  },
  {
   "cell_type": "code",
   "execution_count": 109,
   "metadata": {},
   "outputs": [
    {
     "data": {
      "text/plain": [
       "'충청남도 천안시 서북구 신당새터2길 28 카페 옆'"
      ]
     },
     "execution_count": 109,
     "metadata": {},
     "output_type": "execute_result"
    }
   ],
   "source": [
    "new_adr_temp[1926]"
   ]
  },
  {
   "cell_type": "code",
   "execution_count": 110,
   "metadata": {},
   "outputs": [
    {
     "data": {
      "text/plain": [
       "'충청남도 천안시 서북구 신당새터2길 28 카페 옆'"
      ]
     },
     "execution_count": 110,
     "metadata": {},
     "output_type": "execute_result"
    }
   ],
   "source": [
    "new_adr_temp[3174]"
   ]
  },
  {
   "cell_type": "markdown",
   "metadata": {},
   "source": [
    "##### -개-길 붙이기\n",
    "- '경상남도 통영시 큰발개 1길 33 마리나요트클럽 앞'"
   ]
  },
  {
   "cell_type": "code",
   "execution_count": 111,
   "metadata": {},
   "outputs": [
    {
     "name": "stdout",
     "output_type": "stream",
     "text": [
      "320\n",
      "387\n"
     ]
    }
   ],
   "source": [
    "n_p = re.compile('([가-힣]+개) ([0-9]+길)')\n",
    "count = 0\n",
    "for i, one in enumerate(new_adr_temp):\n",
    "    if n_p.search(one):\n",
    "        print(i)\n",
    "        count += 1\n",
    "    if count == 2:\n",
    "        break"
   ]
  },
  {
   "cell_type": "code",
   "execution_count": 112,
   "metadata": {},
   "outputs": [
    {
     "data": {
      "text/plain": [
       "'경상남도 통영시 큰발개 1길 33 마리나요트클럽 앞'"
      ]
     },
     "execution_count": 112,
     "metadata": {},
     "output_type": "execute_result"
    }
   ],
   "source": [
    "new_adr_temp[320]"
   ]
  },
  {
   "cell_type": "code",
   "execution_count": 113,
   "metadata": {},
   "outputs": [
    {
     "data": {
      "text/plain": [
       "'경상남도 통영시 큰발개 1길 33 마리나요트클럽 앞'"
      ]
     },
     "execution_count": 113,
     "metadata": {},
     "output_type": "execute_result"
    }
   ],
   "source": [
    "new_adr_temp[387]"
   ]
  },
  {
   "cell_type": "code",
   "execution_count": 114,
   "metadata": {},
   "outputs": [
    {
     "name": "stdout",
     "output_type": "stream",
     "text": [
      "<re.Match object; span=(9, 15), match='큰발개 1길'>\n",
      "경상남도 통영시 큰발개1길 33 마리나요트클럽 앞\n"
     ]
    }
   ],
   "source": [
    "s = '경상남도 통영시 큰발개 1길 33 마리나요트클럽 앞'\n",
    "print(n_p.search(s))\n",
    "print(n_p.sub('\\g<1>\\g<2>', s))"
   ]
  },
  {
   "cell_type": "code",
   "execution_count": 115,
   "metadata": {},
   "outputs": [],
   "source": [
    "# -개-길 붙이기\n",
    "for i, one in enumerate(new_adr_temp):\n",
    "    if n_p.search(one):\n",
    "        new_adr_temp[i] = n_p.sub('\\g<1>\\g<2>', one)"
   ]
  },
  {
   "cell_type": "code",
   "execution_count": 116,
   "metadata": {},
   "outputs": [
    {
     "data": {
      "text/plain": [
       "'경상남도 통영시 큰발개1길 33 마리나요트클럽 앞'"
      ]
     },
     "execution_count": 116,
     "metadata": {},
     "output_type": "execute_result"
    }
   ],
   "source": [
    "new_adr_temp[320]"
   ]
  },
  {
   "cell_type": "code",
   "execution_count": 117,
   "metadata": {},
   "outputs": [
    {
     "data": {
      "text/plain": [
       "'경상남도 통영시 큰발개1길 33 마리나요트클럽 앞'"
      ]
     },
     "execution_count": 117,
     "metadata": {},
     "output_type": "execute_result"
    }
   ],
   "source": [
    "new_adr_temp[387]"
   ]
  },
  {
   "cell_type": "markdown",
   "metadata": {},
   "source": [
    "#### 복수 주소 오류\n",
    "- 한 주소에 2개 주소 들어있는 것 처리\n",
    "- 동일지역 : 22,888개\n",
    "- 다른지역 : 0개"
   ]
  },
  {
   "cell_type": "markdown",
   "metadata": {},
   "source": [
    "##### 동일지역\n",
    "- 22,888 개\n",
    "- ex index(new_adr_df, temp) : 933745"
   ]
  },
  {
   "cell_type": "code",
   "execution_count": 118,
   "metadata": {},
   "outputs": [
    {
     "data": {
      "text/plain": [
       "array([ 933745,  975149, 1384836, 1484838, 1535708], dtype=int64)"
      ]
     },
     "execution_count": 118,
     "metadata": {},
     "output_type": "execute_result"
    }
   ],
   "source": [
    "np.where(new_adr_temp == '전라남도 무안군 망운면 운해로 1436-10 전라남도 함평군 신광면 학동로 1398-9')[0][:5]"
   ]
  },
  {
   "cell_type": "code",
   "execution_count": 119,
   "metadata": {},
   "outputs": [
    {
     "data": {
      "text/plain": [
       "'전라남도 무안군 망운면 운해로 1436-10 전라남도 함평군 신광면 학동로 1398-9'"
      ]
     },
     "execution_count": 119,
     "metadata": {},
     "output_type": "execute_result"
    }
   ],
   "source": [
    "new_adr_df.loc[933745, '주소']"
   ]
  },
  {
   "cell_type": "code",
   "execution_count": 120,
   "metadata": {},
   "outputs": [
    {
     "data": {
      "text/plain": [
       "'전라남도 무안군 망운면 운해로 1436-10 전라남도 함평군 신광면 학동로 1398-9'"
      ]
     },
     "execution_count": 120,
     "metadata": {},
     "output_type": "execute_result"
    }
   ],
   "source": [
    "new_adr_temp[933745]"
   ]
  },
  {
   "cell_type": "code",
   "execution_count": 121,
   "metadata": {},
   "outputs": [
    {
     "data": {
      "text/plain": [
       "['전라남도 무안군 망운면 운해로 1436-10', '전라남도 함평군 신광면 학동로 1398-9']"
      ]
     },
     "execution_count": 121,
     "metadata": {},
     "output_type": "execute_result"
    }
   ],
   "source": [
    "'전라남도 무안군 망운면 운해로 1436-10 전라남도 함평군 신광면 학동로 1398-9'.replace(' 전라남도', '$전라남도').split('$')"
   ]
  },
  {
   "cell_type": "code",
   "execution_count": 122,
   "metadata": {},
   "outputs": [
    {
     "data": {
      "text/plain": [
       "['전라남도 무안군 망운면 운해로 1436-10']"
      ]
     },
     "execution_count": 122,
     "metadata": {},
     "output_type": "execute_result"
    }
   ],
   "source": [
    "'전라남도 무안군 망운면 운해로 1436-10'.replace(' 전라남도', '$전라남도').split('$')"
   ]
  },
  {
   "cell_type": "code",
   "execution_count": 123,
   "metadata": {},
   "outputs": [
    {
     "data": {
      "text/plain": [
       "array(['김해시', '제주시', '제주시', '포항시', '양양군'], dtype=object)"
      ]
     },
     "execution_count": 123,
     "metadata": {},
     "output_type": "execute_result"
    }
   ],
   "source": [
    "new_temp_si = new_adr_df['시군구'].to_numpy()\n",
    "new_temp_si[:5]"
   ]
  },
  {
   "cell_type": "code",
   "execution_count": 124,
   "metadata": {},
   "outputs": [
    {
     "name": "stderr",
     "output_type": "stream",
     "text": [
      "7755902it [00:23, 328120.39it/s]\n"
     ]
    }
   ],
   "source": [
    "count = 0\n",
    "for i, one in tqdm(enumerate(new_adr_temp)):\n",
    "    si = list(one.split())[0]\n",
    "    \n",
    "    one = one.replace(' ' + si, '$' + si)\n",
    "    multi_adr = list(one.split('$'))\n",
    "    if len(multi_adr) == 2:\n",
    "        count += 1\n",
    "    for j, two in enumerate(multi_adr):\n",
    "        if new_temp_si[i] in two:\n",
    "            new_adr_temp[i] = multi_adr[j]"
   ]
  },
  {
   "cell_type": "code",
   "execution_count": 125,
   "metadata": {},
   "outputs": [
    {
     "data": {
      "text/plain": [
       "'전라남도 무안군 망운면 운해로 1436-10'"
      ]
     },
     "execution_count": 125,
     "metadata": {},
     "output_type": "execute_result"
    }
   ],
   "source": [
    "new_adr_temp[933745]"
   ]
  },
  {
   "cell_type": "code",
   "execution_count": 126,
   "metadata": {},
   "outputs": [
    {
     "data": {
      "text/plain": [
       "22888"
      ]
     },
     "execution_count": 126,
     "metadata": {},
     "output_type": "execute_result"
    }
   ],
   "source": [
    "count"
   ]
  },
  {
   "cell_type": "markdown",
   "metadata": {},
   "source": [
    "##### 다른지역\n",
    "- 0개"
   ]
  },
  {
   "cell_type": "code",
   "execution_count": 127,
   "metadata": {},
   "outputs": [
    {
     "data": {
      "text/plain": [
       "array(['경상남도', '제주특별자치도', '경상북도', '강원도', '대전광역시', '충청남도', '충청북도', '부산광역시',\n",
       "       '경기도', '전라남도', '대구광역시', '광주광역시', '서울특별시', '울산광역시', '전라북도', '인천광역시',\n",
       "       '세종특별자치시'], dtype=object)"
      ]
     },
     "execution_count": 127,
     "metadata": {},
     "output_type": "execute_result"
    }
   ],
   "source": [
    "new_adr_df['지역'].unique()"
   ]
  },
  {
   "cell_type": "code",
   "execution_count": 128,
   "metadata": {},
   "outputs": [],
   "source": [
    "sep = ' 광주광역시| 전라남도| 전라북도| 제주특별자치도| 세종특별자치시| 서울특별시| 대전광역시| 경기도| 인천광역시| 경상남도| 강원도| 충청북도| 경상북도| 충청남도| 울산광역시| 대구광역시| 부산광역시'"
   ]
  },
  {
   "cell_type": "code",
   "execution_count": 129,
   "metadata": {},
   "outputs": [
    {
     "data": {
      "text/plain": [
       "['광주광역시 북구']"
      ]
     },
     "execution_count": 129,
     "metadata": {},
     "output_type": "execute_result"
    }
   ],
   "source": [
    "re.split(sep, '광주광역시 북구')"
   ]
  },
  {
   "cell_type": "code",
   "execution_count": 130,
   "metadata": {},
   "outputs": [
    {
     "data": {
      "text/plain": [
       "1"
      ]
     },
     "execution_count": 130,
     "metadata": {},
     "output_type": "execute_result"
    }
   ],
   "source": [
    "len(re.split(sep, '광주광역시 북구'))"
   ]
  },
  {
   "cell_type": "code",
   "execution_count": 131,
   "metadata": {},
   "outputs": [
    {
     "data": {
      "text/plain": [
       "['광주광역시', '']"
      ]
     },
     "execution_count": 131,
     "metadata": {},
     "output_type": "execute_result"
    }
   ],
   "source": [
    "re.split(sep, '광주광역시 충청북도')"
   ]
  },
  {
   "cell_type": "code",
   "execution_count": 132,
   "metadata": {},
   "outputs": [
    {
     "data": {
      "text/plain": [
       "2"
      ]
     },
     "execution_count": 132,
     "metadata": {},
     "output_type": "execute_result"
    }
   ],
   "source": [
    "len(re.split(sep, '광주광역시 충청북도'))"
   ]
  },
  {
   "cell_type": "code",
   "execution_count": 133,
   "metadata": {},
   "outputs": [
    {
     "name": "stderr",
     "output_type": "stream",
     "text": [
      "7755902it [00:16, 458388.79it/s]\n"
     ]
    }
   ],
   "source": [
    "count = 0\n",
    "for i, one in tqdm(enumerate(new_adr_temp)):\n",
    "    multi_local = list(re.split(sep, one))\n",
    "    if len(multi_local) == 2:\n",
    "        count += 1"
   ]
  },
  {
   "cell_type": "code",
   "execution_count": 134,
   "metadata": {},
   "outputs": [
    {
     "data": {
      "text/plain": [
       "0"
      ]
     },
     "execution_count": 134,
     "metadata": {},
     "output_type": "execute_result"
    }
   ],
   "source": [
    "count"
   ]
  },
  {
   "cell_type": "markdown",
   "metadata": {},
   "source": [
    "#### 신주소 정리 파일 기존 df(new_adr_df)로 복사"
   ]
  },
  {
   "cell_type": "code",
   "execution_count": 135,
   "metadata": {},
   "outputs": [],
   "source": [
    "new_adr_df['주소'] = new_adr_temp"
   ]
  },
  {
   "cell_type": "code",
   "execution_count": 136,
   "metadata": {},
   "outputs": [
    {
     "data": {
      "text/plain": [
       "(1831925294608, 1832605865136)"
      ]
     },
     "execution_count": 136,
     "metadata": {},
     "output_type": "execute_result"
    }
   ],
   "source": [
    "id(new_adr_df['주소']), id(new_adr_temp)"
   ]
  },
  {
   "cell_type": "code",
   "execution_count": 137,
   "metadata": {},
   "outputs": [
    {
     "data": {
      "text/plain": [
       "0    경상남도 김해시 진영읍 하계로96번길 94-4  주유소 옆 주차장\n",
       "1             제주특별자치도 제주시 삼성로 40 민속자연사박물관\n",
       "2               제주특별자치도 제주시 노형9길 9-4  주차장\n",
       "3                      경상북도 포항시 북구 해안로 82\n",
       "4                   강원도 양양군 현북면 동해대로 1242\n",
       "Name: 주소, dtype: object"
      ]
     },
     "execution_count": 137,
     "metadata": {},
     "output_type": "execute_result"
    }
   ],
   "source": [
    "new_adr_df['주소'].head()"
   ]
  },
  {
   "cell_type": "code",
   "execution_count": 138,
   "metadata": {},
   "outputs": [
    {
     "name": "stdout",
     "output_type": "stream",
     "text": [
      "<class 'pandas.core.series.Series'>\n",
      "RangeIndex: 7755902 entries, 0 to 7755901\n",
      "Series name: 주소\n",
      "Non-Null Count    Dtype \n",
      "--------------    ----- \n",
      "7755902 non-null  object\n",
      "dtypes: object(1)\n",
      "memory usage: 59.2+ MB\n"
     ]
    }
   ],
   "source": [
    "# data : 7,755,902 개\n",
    "new_adr_df['주소'].info()"
   ]
  },
  {
   "cell_type": "code",
   "execution_count": 139,
   "metadata": {},
   "outputs": [
    {
     "data": {
      "text/html": [
       "<div>\n",
       "<style scoped>\n",
       "    .dataframe tbody tr th:only-of-type {\n",
       "        vertical-align: middle;\n",
       "    }\n",
       "\n",
       "    .dataframe tbody tr th {\n",
       "        vertical-align: top;\n",
       "    }\n",
       "\n",
       "    .dataframe thead th {\n",
       "        text-align: right;\n",
       "    }\n",
       "</style>\n",
       "<table border=\"1\" class=\"dataframe\">\n",
       "  <thead>\n",
       "    <tr style=\"text-align: right;\">\n",
       "      <th></th>\n",
       "      <th>충전소명</th>\n",
       "      <th>충전기ID</th>\n",
       "      <th>지역</th>\n",
       "      <th>시군구</th>\n",
       "      <th>주소</th>\n",
       "      <th>충전기타입</th>\n",
       "      <th>충전시작일시</th>\n",
       "      <th>충전종료일시</th>\n",
       "      <th>충전시간</th>\n",
       "      <th>충전량</th>\n",
       "      <th>...</th>\n",
       "      <th>충전시작일시(변환)</th>\n",
       "      <th>충전종료_년도</th>\n",
       "      <th>충전종료_월</th>\n",
       "      <th>충전종료_일</th>\n",
       "      <th>충전종료_시</th>\n",
       "      <th>충전종료_분</th>\n",
       "      <th>충전종료_초</th>\n",
       "      <th>충전종료일시(변환)</th>\n",
       "      <th>충전시간(계산)</th>\n",
       "      <th>raw값과_계산값_차이</th>\n",
       "    </tr>\n",
       "  </thead>\n",
       "  <tbody>\n",
       "  </tbody>\n",
       "</table>\n",
       "<p>0 rows × 27 columns</p>\n",
       "</div>"
      ],
      "text/plain": [
       "Empty DataFrame\n",
       "Columns: [충전소명, 충전기ID, 지역, 시군구, 주소, 충전기타입, 충전시작일시, 충전종료일시, 충전시간, 충전량, 충전용량, 충전시작_년도, 충전시작_월, 충전시작_일, 충전시작_시, 충전시작_분, 충전시작_초, 충전시작일시(변환), 충전종료_년도, 충전종료_월, 충전종료_일, 충전종료_시, 충전종료_분, 충전종료_초, 충전종료일시(변환), 충전시간(계산), raw값과_계산값_차이]\n",
       "Index: []\n",
       "\n",
       "[0 rows x 27 columns]"
      ]
     },
     "execution_count": 139,
     "metadata": {},
     "output_type": "execute_result"
    }
   ],
   "source": [
    "new_adr_df[(new_adr_df['지역'] != '서울특별시') & (new_adr_df['주소'] == '강남구 양재대로31길')]"
   ]
  },
  {
   "cell_type": "markdown",
   "metadata": {},
   "source": [
    "### 구주소 정리\n",
    "- 3,857,547 개"
   ]
  },
  {
   "cell_type": "code",
   "execution_count": 140,
   "metadata": {},
   "outputs": [
    {
     "data": {
      "text/plain": [
       "array(['서울특별시 구로구 오류동 174-10 , 천왕역 환승주차장 1층', '경상남도 통영시 광도면 죽림리 292-33',\n",
       "       '전라북도 완주군 봉동읍 둔산리 881', '충청남도 공주시 정안면 석송리', '충청북도 단양군 적성면 기동리',\n",
       "       '경상북도 영천시 임고면 금대리', '충청남도 예산군 예산읍 석양리 213-2',\n",
       "       '경상남도 통영시 광도면 죽림리 292-33', '강원도 철원군 동송읍 장흥리 20-15',\n",
       "       '경상북도 영천시 임고면 금대리'], dtype=object)"
      ]
     },
     "execution_count": 140,
     "metadata": {},
     "output_type": "execute_result"
    }
   ],
   "source": [
    "old_adr_temp = old_adr_df['주소'].to_numpy()\n",
    "old_adr_temp[:10]"
   ]
  },
  {
   "cell_type": "markdown",
   "metadata": {},
   "source": [
    "##### 컴마(,) 제거"
   ]
  },
  {
   "cell_type": "code",
   "execution_count": 141,
   "metadata": {},
   "outputs": [
    {
     "name": "stdout",
     "output_type": "stream",
     "text": [
      "서울특별시 구로구 오류동 174-10 , 천왕역 환승주차장 1층\n"
     ]
    }
   ],
   "source": [
    "for i, s in enumerate(old_adr_temp):\n",
    "    if ',' in s:\n",
    "        print(s)\n",
    "        break"
   ]
  },
  {
   "cell_type": "code",
   "execution_count": 142,
   "metadata": {},
   "outputs": [],
   "source": [
    "for i, s in enumerate(old_adr_temp):\n",
    "    if ',' in s:\n",
    "        old_adr_temp[i] = s.replace(',', '')"
   ]
  },
  {
   "cell_type": "code",
   "execution_count": 143,
   "metadata": {},
   "outputs": [
    {
     "data": {
      "text/plain": [
       "array(['서울특별시 구로구 오류동 174-10  천왕역 환승주차장 1층', '경상남도 통영시 광도면 죽림리 292-33',\n",
       "       '전라북도 완주군 봉동읍 둔산리 881', '충청남도 공주시 정안면 석송리', '충청북도 단양군 적성면 기동리',\n",
       "       '경상북도 영천시 임고면 금대리', '충청남도 예산군 예산읍 석양리 213-2',\n",
       "       '경상남도 통영시 광도면 죽림리 292-33', '강원도 철원군 동송읍 장흥리 20-15',\n",
       "       '경상북도 영천시 임고면 금대리'], dtype=object)"
      ]
     },
     "execution_count": 143,
     "metadata": {},
     "output_type": "execute_result"
    }
   ],
   "source": [
    "old_adr_temp[:10]"
   ]
  },
  {
   "cell_type": "markdown",
   "metadata": {},
   "source": [
    "##### -동과 숫자 띄어쓰기"
   ]
  },
  {
   "cell_type": "code",
   "execution_count": 144,
   "metadata": {},
   "outputs": [
    {
     "name": "stdout",
     "output_type": "stream",
     "text": [
      "988\n"
     ]
    }
   ],
   "source": [
    "s = '제주특별자치도 제주시 연동2334-4'\n",
    "for i, one in enumerate(old_adr_temp):\n",
    "    if one == s:\n",
    "        print(i)\n",
    "        break"
   ]
  },
  {
   "cell_type": "code",
   "execution_count": 145,
   "metadata": {},
   "outputs": [
    {
     "data": {
      "text/plain": [
       "'충청북도 괴산군 장연면 중부내륙고속도로 204 (오가리)'"
      ]
     },
     "execution_count": 145,
     "metadata": {},
     "output_type": "execute_result"
    }
   ],
   "source": [
    "temp[988]"
   ]
  },
  {
   "cell_type": "code",
   "execution_count": 146,
   "metadata": {},
   "outputs": [
    {
     "name": "stdout",
     "output_type": "stream",
     "text": [
      "제주특별자치도 제주시 연동 2334-4\n"
     ]
    }
   ],
   "source": [
    "n_p = re.compile('([가-힣0-9]+동)([0-9]+)')\n",
    "print(n_p.sub('\\g<1> \\g<2>', s))"
   ]
  },
  {
   "cell_type": "code",
   "execution_count": 147,
   "metadata": {},
   "outputs": [
    {
     "name": "stdout",
     "output_type": "stream",
     "text": [
      "447\n"
     ]
    }
   ],
   "source": [
    "s = '전라북도 정읍시 내장동 52'\n",
    "for i, one in enumerate(old_adr_temp):\n",
    "    if one == s:\n",
    "        print(i)\n",
    "        break"
   ]
  },
  {
   "cell_type": "code",
   "execution_count": 148,
   "metadata": {},
   "outputs": [
    {
     "data": {
      "text/plain": [
       "'전라북도 정읍시 내장동 52'"
      ]
     },
     "execution_count": 148,
     "metadata": {},
     "output_type": "execute_result"
    }
   ],
   "source": [
    "old_adr_temp[447]"
   ]
  },
  {
   "cell_type": "code",
   "execution_count": 149,
   "metadata": {},
   "outputs": [
    {
     "name": "stdout",
     "output_type": "stream",
     "text": [
      "전라북도 정읍시 내장동 52\n"
     ]
    }
   ],
   "source": [
    "print(n_p.sub('\\g<1> \\g<2>', s))"
   ]
  },
  {
   "cell_type": "code",
   "execution_count": 150,
   "metadata": {},
   "outputs": [],
   "source": [
    "# -동과 숫자 띄어쓰기\n",
    "n_p = re.compile('([가-힣0-9]+동)([0-9]+)')\n",
    "\n",
    "for i, one in enumerate(old_adr_temp):\n",
    "    if n_p.search(one):\n",
    "        old_adr_temp[i] = n_p.sub('\\g<1> \\g<2>', one)"
   ]
  },
  {
   "cell_type": "code",
   "execution_count": 151,
   "metadata": {},
   "outputs": [
    {
     "data": {
      "text/plain": [
       "'제주특별자치도 제주시 연동 2334-4'"
      ]
     },
     "execution_count": 151,
     "metadata": {},
     "output_type": "execute_result"
    }
   ],
   "source": [
    "old_adr_temp[988]"
   ]
  },
  {
   "cell_type": "code",
   "execution_count": 152,
   "metadata": {},
   "outputs": [
    {
     "data": {
      "text/plain": [
       "'전라북도 정읍시 내장동 52'"
      ]
     },
     "execution_count": 152,
     "metadata": {},
     "output_type": "execute_result"
    }
   ],
   "source": [
    "old_adr_temp[447]"
   ]
  },
  {
   "cell_type": "markdown",
   "metadata": {},
   "source": [
    "##### -리과 숫자 띄어쓰기"
   ]
  },
  {
   "cell_type": "code",
   "execution_count": 153,
   "metadata": {},
   "outputs": [
    {
     "name": "stdout",
     "output_type": "stream",
     "text": [
      "190\n"
     ]
    }
   ],
   "source": [
    "n_p = re.compile('([가-힣0-9]+리)([0-9]+)')\n",
    "for i, one in enumerate(old_adr_temp):\n",
    "    if n_p.search(one):\n",
    "        print(i)\n",
    "        break"
   ]
  },
  {
   "cell_type": "code",
   "execution_count": 154,
   "metadata": {},
   "outputs": [
    {
     "data": {
      "text/plain": [
       "'전라북도 익산시 함열읍 와리164'"
      ]
     },
     "execution_count": 154,
     "metadata": {},
     "output_type": "execute_result"
    }
   ],
   "source": [
    "old_adr_temp[190]"
   ]
  },
  {
   "cell_type": "code",
   "execution_count": 155,
   "metadata": {},
   "outputs": [
    {
     "name": "stdout",
     "output_type": "stream",
     "text": [
      "전라북도 익산시 함열읍 와리 164\n"
     ]
    }
   ],
   "source": [
    "s = '전라북도 익산시 함열읍 와리164'\n",
    "n_p = re.compile('([가-힣0-9]+리)([0-9]+)')\n",
    "print(n_p.sub('\\g<1> \\g<2>', s))"
   ]
  },
  {
   "cell_type": "code",
   "execution_count": 156,
   "metadata": {},
   "outputs": [
    {
     "name": "stdout",
     "output_type": "stream",
     "text": [
      "4\n"
     ]
    }
   ],
   "source": [
    "s = '충청북도 단양군 적성면 기동리'\n",
    "for i, one in enumerate(old_adr_temp):\n",
    "    if one == s:\n",
    "        print(i)\n",
    "        break"
   ]
  },
  {
   "cell_type": "code",
   "execution_count": 157,
   "metadata": {},
   "outputs": [
    {
     "data": {
      "text/plain": [
       "'충청북도 단양군 적성면 기동리'"
      ]
     },
     "execution_count": 157,
     "metadata": {},
     "output_type": "execute_result"
    }
   ],
   "source": [
    "old_adr_temp[4]"
   ]
  },
  {
   "cell_type": "code",
   "execution_count": 158,
   "metadata": {},
   "outputs": [
    {
     "name": "stdout",
     "output_type": "stream",
     "text": [
      "충청북도 단양군 적성면 기동리\n"
     ]
    }
   ],
   "source": [
    "print(n_p.sub('\\g<1> \\g<2>', s))"
   ]
  },
  {
   "cell_type": "code",
   "execution_count": 159,
   "metadata": {},
   "outputs": [
    {
     "name": "stdout",
     "output_type": "stream",
     "text": [
      "204\n"
     ]
    }
   ],
   "source": [
    "s = '충청북도 괴산군 괴산읍 서부리 654'\n",
    "for i, one in enumerate(old_adr_temp):\n",
    "    if one == s:\n",
    "        print(i)\n",
    "        break"
   ]
  },
  {
   "cell_type": "code",
   "execution_count": 160,
   "metadata": {},
   "outputs": [
    {
     "data": {
      "text/plain": [
       "'충청북도 괴산군 괴산읍 서부리 654'"
      ]
     },
     "execution_count": 160,
     "metadata": {},
     "output_type": "execute_result"
    }
   ],
   "source": [
    "old_adr_temp[204]"
   ]
  },
  {
   "cell_type": "code",
   "execution_count": 161,
   "metadata": {},
   "outputs": [
    {
     "name": "stdout",
     "output_type": "stream",
     "text": [
      "충청북도 괴산군 괴산읍 서부리 654\n"
     ]
    }
   ],
   "source": [
    "print(n_p.sub('\\g<1> \\g<2>', s))"
   ]
  },
  {
   "cell_type": "code",
   "execution_count": 162,
   "metadata": {},
   "outputs": [],
   "source": [
    "# -리과 숫자 띄어쓰기\n",
    "n_p = re.compile('([가-힣0-9]+리)([0-9]+)')\n",
    "\n",
    "for i, one in enumerate(old_adr_temp):\n",
    "    if n_p.search(one):\n",
    "        old_adr_temp[i] = n_p.sub('\\g<1> \\g<2>', one)"
   ]
  },
  {
   "cell_type": "code",
   "execution_count": 163,
   "metadata": {},
   "outputs": [
    {
     "data": {
      "text/plain": [
       "'전라북도 익산시 함열읍 와리 164'"
      ]
     },
     "execution_count": 163,
     "metadata": {},
     "output_type": "execute_result"
    }
   ],
   "source": [
    "old_adr_temp[190]"
   ]
  },
  {
   "cell_type": "code",
   "execution_count": 164,
   "metadata": {},
   "outputs": [
    {
     "data": {
      "text/plain": [
       "'충청북도 단양군 적성면 기동리'"
      ]
     },
     "execution_count": 164,
     "metadata": {},
     "output_type": "execute_result"
    }
   ],
   "source": [
    "old_adr_temp[4]"
   ]
  },
  {
   "cell_type": "code",
   "execution_count": 165,
   "metadata": {},
   "outputs": [
    {
     "data": {
      "text/plain": [
       "'충청북도 괴산군 괴산읍 서부리 654'"
      ]
     },
     "execution_count": 165,
     "metadata": {},
     "output_type": "execute_result"
    }
   ],
   "source": [
    "old_adr_temp[204]"
   ]
  },
  {
   "cell_type": "markdown",
   "metadata": {},
   "source": [
    "#### 복수 주소 정리\n",
    "- 한 주소에 2개 들어있는 것 처리\n",
    "- 동일지역 : 99,756 개\n",
    "- 다른지역 : 5,427 개"
   ]
  },
  {
   "cell_type": "markdown",
   "metadata": {},
   "source": [
    "##### 동일 지역\n",
    "- 99,756개"
   ]
  },
  {
   "cell_type": "code",
   "execution_count": 166,
   "metadata": {},
   "outputs": [
    {
     "name": "stdout",
     "output_type": "stream",
     "text": [
      "<class 'pandas.core.series.Series'>\n",
      "RangeIndex: 3857547 entries, 0 to 3857546\n",
      "Series name: 주소\n",
      "Non-Null Count    Dtype \n",
      "--------------    ----- \n",
      "3857547 non-null  object\n",
      "dtypes: object(1)\n",
      "memory usage: 29.4+ MB\n"
     ]
    }
   ],
   "source": [
    "old_adr_df['주소'].info()"
   ]
  },
  {
   "cell_type": "code",
   "execution_count": 167,
   "metadata": {},
   "outputs": [
    {
     "name": "stdout",
     "output_type": "stream",
     "text": [
      "400516\n"
     ]
    }
   ],
   "source": [
    "for i, s in enumerate(old_adr_df['주소']):\n",
    "    if ('청양군' in s) and ('태안군' in s):\n",
    "        print(i)\n",
    "        break"
   ]
  },
  {
   "cell_type": "code",
   "execution_count": 168,
   "metadata": {},
   "outputs": [
    {
     "data": {
      "text/plain": [
       "'충청남도 청양군 청양읍 군량리 533 충청남도 태안군 소원면 신덕리 272'"
      ]
     },
     "execution_count": 168,
     "metadata": {},
     "output_type": "execute_result"
    }
   ],
   "source": [
    "old_adr_df['주소'].to_numpy()[400516]"
   ]
  },
  {
   "cell_type": "code",
   "execution_count": 169,
   "metadata": {},
   "outputs": [
    {
     "data": {
      "text/plain": [
       "array([400516, 402168, 532375, 755429, 781579], dtype=int64)"
      ]
     },
     "execution_count": 169,
     "metadata": {},
     "output_type": "execute_result"
    }
   ],
   "source": [
    "np.where(old_adr_temp == '충청남도 청양군 청양읍 군량리 533 충청남도 태안군 소원면 신덕리 272')[0][:5]"
   ]
  },
  {
   "cell_type": "code",
   "execution_count": 170,
   "metadata": {},
   "outputs": [
    {
     "data": {
      "text/plain": [
       "'충청남도 청양군 청양읍 군량리 533 충청남도 태안군 소원면 신덕리 272'"
      ]
     },
     "execution_count": 170,
     "metadata": {},
     "output_type": "execute_result"
    }
   ],
   "source": [
    "old_adr_temp[400516]"
   ]
  },
  {
   "cell_type": "code",
   "execution_count": 171,
   "metadata": {},
   "outputs": [
    {
     "data": {
      "text/plain": [
       "array(['구로구', '통영시', '완주군', '공주시', '단양군'], dtype=object)"
      ]
     },
     "execution_count": 171,
     "metadata": {},
     "output_type": "execute_result"
    }
   ],
   "source": [
    "old_temp_si = old_adr_df['시군구'].to_numpy()\n",
    "old_temp_si[:5]"
   ]
  },
  {
   "cell_type": "code",
   "execution_count": 172,
   "metadata": {},
   "outputs": [
    {
     "name": "stderr",
     "output_type": "stream",
     "text": [
      "3857547it [00:12, 311340.61it/s]\n"
     ]
    }
   ],
   "source": [
    "count = 0\n",
    "for i, one in tqdm(enumerate(old_adr_temp)):\n",
    "    si = list(one.split())[0]\n",
    "    one = one.replace(' ' + si, '$' + si)\n",
    "    multi_adr = list(one.split('$'))\n",
    "    if len(multi_adr) == 2:\n",
    "        count += 1\n",
    "    for j, two in enumerate(multi_adr):\n",
    "        if old_temp_si[i] in two:\n",
    "            old_adr_temp[i] = multi_adr[j]"
   ]
  },
  {
   "cell_type": "code",
   "execution_count": 173,
   "metadata": {},
   "outputs": [
    {
     "data": {
      "text/plain": [
       "'충청남도 청양군 청양읍 군량리 533'"
      ]
     },
     "execution_count": 173,
     "metadata": {},
     "output_type": "execute_result"
    }
   ],
   "source": [
    "old_adr_temp[400516]"
   ]
  },
  {
   "cell_type": "markdown",
   "metadata": {},
   "source": [
    "##### 다른 지역"
   ]
  },
  {
   "cell_type": "code",
   "execution_count": 174,
   "metadata": {},
   "outputs": [],
   "source": [
    "rep_dict = {\" 광주광역시\":\"$광주광역시\" ,\" 전라남도\":\"$전라남도\",\" 전라북도\":\"$전라북도\",\" 제주특별자치도\":\"$제주특별자치도\",\" 세종특별자치시\":\"$세종특별자치시\",\" 서울특별시\":\"$서울특별시\",\" 대전광역시\":\"$대전광역시\",\" 경기도\":\"$경기도\",\" 인천광역시\":\"$인천광역시\",\" 경상남도\":\"$경상남도\",\" 강원도\":\"$강원도\",\" 충청북도\":\"$충청북도\",\" 경상북도\":\"$경상북도\",\" 충청남도\":\"$충청남도\",\" 울산광역시\":\"$울산광역시\",\" 대구광역시\":\"$대구광역시\",\" 부산광역시\":\"$부산광역시\"}"
   ]
  },
  {
   "cell_type": "code",
   "execution_count": 175,
   "metadata": {},
   "outputs": [
    {
     "name": "stdout",
     "output_type": "stream",
     "text": [
      " 광주광역시 $광주광역시\n",
      " 전라남도 $전라남도\n",
      " 전라북도 $전라북도\n",
      " 제주특별자치도 $제주특별자치도\n",
      " 세종특별자치시 $세종특별자치시\n",
      " 서울특별시 $서울특별시\n",
      " 대전광역시 $대전광역시\n",
      " 경기도 $경기도\n",
      " 인천광역시 $인천광역시\n",
      " 경상남도 $경상남도\n",
      " 강원도 $강원도\n",
      " 충청북도 $충청북도\n",
      " 경상북도 $경상북도\n",
      " 충청남도 $충청남도\n",
      " 울산광역시 $울산광역시\n",
      " 대구광역시 $대구광역시\n",
      " 부산광역시 $부산광역시\n"
     ]
    }
   ],
   "source": [
    "for k, v in rep_dict.items():\n",
    "    print(k, v)"
   ]
  },
  {
   "cell_type": "code",
   "execution_count": 176,
   "metadata": {},
   "outputs": [
    {
     "data": {
      "text/plain": [
       "'전라북도 순창군 풍산면 반월리 12-4$충청남도 공주시 탄천면 삼각리 523-2'"
      ]
     },
     "execution_count": 176,
     "metadata": {},
     "output_type": "execute_result"
    }
   ],
   "source": [
    "s = '전라북도 순창군 풍산면 반월리 12-4 충청남도 공주시 탄천면 삼각리 523-2'\n",
    "for k, v in rep_dict.items():\n",
    "    s = s.replace(k, v)\n",
    "s"
   ]
  },
  {
   "cell_type": "code",
   "execution_count": 177,
   "metadata": {},
   "outputs": [
    {
     "name": "stdout",
     "output_type": "stream",
     "text": [
      "335492\n"
     ]
    }
   ],
   "source": [
    "s = '전라북도 순창군 풍산면 반월리 12-4 충청남도 공주시 탄천면 삼각리 523-2'\n",
    "for i, one in enumerate(old_adr_temp):\n",
    "    if one == s:\n",
    "        print(i)\n",
    "        break"
   ]
  },
  {
   "cell_type": "code",
   "execution_count": 178,
   "metadata": {},
   "outputs": [
    {
     "data": {
      "text/plain": [
       "'전라북도 순창군 풍산면 반월리 12-4 충청남도 공주시 탄천면 삼각리 523-2'"
      ]
     },
     "execution_count": 178,
     "metadata": {},
     "output_type": "execute_result"
    }
   ],
   "source": [
    "old_adr_temp[335492]"
   ]
  },
  {
   "cell_type": "code",
   "execution_count": 179,
   "metadata": {},
   "outputs": [
    {
     "data": {
      "text/plain": [
       "'전라북도 순창군 풍산면 반월리 12-4 충청남도 공주시 탄천면 삼각리 523-2'"
      ]
     },
     "execution_count": 179,
     "metadata": {},
     "output_type": "execute_result"
    }
   ],
   "source": [
    "old_adr_temp[335552]"
   ]
  },
  {
   "cell_type": "code",
   "execution_count": 180,
   "metadata": {},
   "outputs": [],
   "source": [
    "sep = ' 광주광역시| 전라남도| 전라북도| 제주특별자치도| 세종특별자치시| 서울특별시| 대전광역시| 경기도| 인천광역시| 경상남도| 강원도| 충청북도| 경상북도| 충청남도| 울산광역시| 대구광역시| 부산광역시'"
   ]
  },
  {
   "cell_type": "code",
   "execution_count": 181,
   "metadata": {},
   "outputs": [],
   "source": [
    "count = 0\n",
    "multi_adr_old_indx = []\n",
    "for i, one in enumerate(old_adr_temp):\n",
    "    multi_local = list(re.split(sep, one))\n",
    "    if len(multi_local) == 2:\n",
    "        multi_adr_old_indx.append(i)\n",
    "        count += 1"
   ]
  },
  {
   "cell_type": "code",
   "execution_count": 182,
   "metadata": {},
   "outputs": [
    {
     "data": {
      "text/plain": [
       "5427"
      ]
     },
     "execution_count": 182,
     "metadata": {},
     "output_type": "execute_result"
    }
   ],
   "source": [
    "count"
   ]
  },
  {
   "cell_type": "code",
   "execution_count": 183,
   "metadata": {},
   "outputs": [
    {
     "data": {
      "text/plain": [
       "[335492, 335552, 531411, 607542, 611395]"
      ]
     },
     "execution_count": 183,
     "metadata": {},
     "output_type": "execute_result"
    }
   ],
   "source": [
    "multi_adr_old_indx[:5]"
   ]
  },
  {
   "cell_type": "code",
   "execution_count": 184,
   "metadata": {},
   "outputs": [
    {
     "data": {
      "text/plain": [
       "[3779709, 3804507, 3819507, 3840754, 3852186]"
      ]
     },
     "execution_count": 184,
     "metadata": {},
     "output_type": "execute_result"
    }
   ],
   "source": [
    "multi_adr_old_indx[-5:]"
   ]
  },
  {
   "cell_type": "code",
   "execution_count": 185,
   "metadata": {},
   "outputs": [
    {
     "data": {
      "text/plain": [
       "'부산광역시 동래구 중앙대로 1393 (온천동)'"
      ]
     },
     "execution_count": 185,
     "metadata": {},
     "output_type": "execute_result"
    }
   ],
   "source": [
    "temp[335492]"
   ]
  },
  {
   "cell_type": "code",
   "execution_count": 186,
   "metadata": {},
   "outputs": [
    {
     "data": {
      "text/plain": [
       "'전라남도 여수시 시전동 64'"
      ]
     },
     "execution_count": 186,
     "metadata": {},
     "output_type": "execute_result"
    }
   ],
   "source": [
    "temp[3852186]"
   ]
  },
  {
   "cell_type": "code",
   "execution_count": 187,
   "metadata": {},
   "outputs": [
    {
     "name": "stderr",
     "output_type": "stream",
     "text": [
      "3857547it [00:25, 152476.18it/s]\n"
     ]
    }
   ],
   "source": [
    "count = 0\n",
    "for i, one in tqdm(enumerate(old_adr_temp)):\n",
    "    for k, v in rep_dict.items():\n",
    "        one = one.replace(k, v)\n",
    "    multi_adr = list(one.split('$'))\n",
    "    if len(multi_adr) == 2:\n",
    "        count += 1\n",
    "    for j, two in enumerate(multi_adr):\n",
    "        if old_temp_si[i] in two:\n",
    "            old_adr_temp[i] = multi_adr[j]"
   ]
  },
  {
   "cell_type": "code",
   "execution_count": 188,
   "metadata": {},
   "outputs": [
    {
     "data": {
      "text/plain": [
       "5427"
      ]
     },
     "execution_count": 188,
     "metadata": {},
     "output_type": "execute_result"
    }
   ],
   "source": [
    "count"
   ]
  },
  {
   "cell_type": "code",
   "execution_count": 189,
   "metadata": {},
   "outputs": [
    {
     "data": {
      "text/plain": [
       "'전라북도 순창군 풍산면 반월리 12-4'"
      ]
     },
     "execution_count": 189,
     "metadata": {},
     "output_type": "execute_result"
    }
   ],
   "source": [
    "old_adr_temp[335492]"
   ]
  },
  {
   "cell_type": "code",
   "execution_count": 190,
   "metadata": {},
   "outputs": [
    {
     "data": {
      "text/plain": [
       "'전라북도 순창군 풍산면 반월리 12-4'"
      ]
     },
     "execution_count": 190,
     "metadata": {},
     "output_type": "execute_result"
    }
   ],
   "source": [
    "old_adr_temp[3852186]"
   ]
  },
  {
   "cell_type": "markdown",
   "metadata": {},
   "source": [
    "#### 구주소 정리 파일 기존 df(old_adr_df)로 복사"
   ]
  },
  {
   "cell_type": "code",
   "execution_count": 191,
   "metadata": {},
   "outputs": [],
   "source": [
    "old_adr_df['주소'] = old_adr_temp"
   ]
  },
  {
   "cell_type": "code",
   "execution_count": 192,
   "metadata": {},
   "outputs": [
    {
     "data": {
      "text/plain": [
       "0    서울특별시 구로구 오류동 174-10  천왕역 환승주차장 1층\n",
       "1               경상남도 통영시 광도면 죽림리 292-33\n",
       "2                  전라북도 완주군 봉동읍 둔산리 881\n",
       "3                      충청남도 공주시 정안면 석송리\n",
       "4                      충청북도 단양군 적성면 기동리\n",
       "Name: 주소, dtype: object"
      ]
     },
     "execution_count": 192,
     "metadata": {},
     "output_type": "execute_result"
    }
   ],
   "source": [
    "old_adr_df['주소'].head()"
   ]
  },
  {
   "cell_type": "code",
   "execution_count": 193,
   "metadata": {},
   "outputs": [
    {
     "name": "stdout",
     "output_type": "stream",
     "text": [
      "<class 'pandas.core.series.Series'>\n",
      "RangeIndex: 3857547 entries, 0 to 3857546\n",
      "Series name: 주소\n",
      "Non-Null Count    Dtype \n",
      "--------------    ----- \n",
      "3857547 non-null  object\n",
      "dtypes: object(1)\n",
      "memory usage: 29.4+ MB\n"
     ]
    }
   ],
   "source": [
    "# data : 3857547 개\n",
    "old_adr_df['주소'].info()"
   ]
  },
  {
   "cell_type": "code",
   "execution_count": 194,
   "metadata": {},
   "outputs": [
    {
     "data": {
      "text/html": [
       "<div>\n",
       "<style scoped>\n",
       "    .dataframe tbody tr th:only-of-type {\n",
       "        vertical-align: middle;\n",
       "    }\n",
       "\n",
       "    .dataframe tbody tr th {\n",
       "        vertical-align: top;\n",
       "    }\n",
       "\n",
       "    .dataframe thead th {\n",
       "        text-align: right;\n",
       "    }\n",
       "</style>\n",
       "<table border=\"1\" class=\"dataframe\">\n",
       "  <thead>\n",
       "    <tr style=\"text-align: right;\">\n",
       "      <th></th>\n",
       "      <th>충전소명</th>\n",
       "      <th>충전기ID</th>\n",
       "      <th>지역</th>\n",
       "      <th>시군구</th>\n",
       "      <th>주소</th>\n",
       "      <th>충전기타입</th>\n",
       "      <th>충전시작일시</th>\n",
       "      <th>충전종료일시</th>\n",
       "      <th>충전시간</th>\n",
       "      <th>충전량</th>\n",
       "      <th>...</th>\n",
       "      <th>충전시작일시(변환)</th>\n",
       "      <th>충전종료_년도</th>\n",
       "      <th>충전종료_월</th>\n",
       "      <th>충전종료_일</th>\n",
       "      <th>충전종료_시</th>\n",
       "      <th>충전종료_분</th>\n",
       "      <th>충전종료_초</th>\n",
       "      <th>충전종료일시(변환)</th>\n",
       "      <th>충전시간(계산)</th>\n",
       "      <th>raw값과_계산값_차이</th>\n",
       "    </tr>\n",
       "  </thead>\n",
       "  <tbody>\n",
       "  </tbody>\n",
       "</table>\n",
       "<p>0 rows × 27 columns</p>\n",
       "</div>"
      ],
      "text/plain": [
       "Empty DataFrame\n",
       "Columns: [충전소명, 충전기ID, 지역, 시군구, 주소, 충전기타입, 충전시작일시, 충전종료일시, 충전시간, 충전량, 충전용량, 충전시작_년도, 충전시작_월, 충전시작_일, 충전시작_시, 충전시작_분, 충전시작_초, 충전시작일시(변환), 충전종료_년도, 충전종료_월, 충전종료_일, 충전종료_시, 충전종료_분, 충전종료_초, 충전종료일시(변환), 충전시간(계산), raw값과_계산값_차이]\n",
       "Index: []\n",
       "\n",
       "[0 rows x 27 columns]"
      ]
     },
     "execution_count": 194,
     "metadata": {},
     "output_type": "execute_result"
    }
   ],
   "source": [
    "new_adr_df[(new_adr_df['지역'] != '서울특별시') & (new_adr_df['주소'] == '서울특별시 강남구 양재대로31길')]"
   ]
  },
  {
   "cell_type": "markdown",
   "metadata": {},
   "source": [
    "##### 신주소, 구주소 분리 파일 출력"
   ]
  },
  {
   "cell_type": "code",
   "execution_count": 195,
   "metadata": {},
   "outputs": [],
   "source": [
    "new_adr_df.to_csv('2020-22년_급속충전_신주소.csv', encoding='utf-8')"
   ]
  },
  {
   "cell_type": "code",
   "execution_count": 196,
   "metadata": {},
   "outputs": [],
   "source": [
    "old_adr_df.to_csv('2020-22년_급속충전_구주소.csv', encoding='utf-8')"
   ]
  },
  {
   "cell_type": "markdown",
   "metadata": {},
   "source": [
    "## 데이터 로드(다시 시작)"
   ]
  },
  {
   "cell_type": "code",
   "execution_count": 197,
   "metadata": {},
   "outputs": [],
   "source": [
    "# new_adr_df = pd.read_csv('2020-22년_급속충전_신주소.csv', index_col=0, dtype={'충전시작_년도':np.int16, '충전종료_년도':np.int16, '충전시작_월':np.int8,  '충전시작_일':np.int8, '충전시작_시':np.int8, '충전시작_분':np.int8, '충전시작_초':np.int8, '충전종료_월':np.int8, '충전종료_일':np.int8, '충전종료_시':np.int8, '충전종료_분':np.int8, '충전종료_초':np.int8, '충전기ID':np.int8})\n",
    "# new_adr_df['충전시간'] = pd.to_timedelta(new_adr_df['충전시간'])\n",
    "# new_adr_df['충전시간(계산)'] = pd.to_timedelta(new_adr_df['충전시간(계산)'])\n",
    "# new_adr_df = new_adr_df.reset_index(drop=True)\n",
    "# new_adr_df.info()"
   ]
  },
  {
   "cell_type": "code",
   "execution_count": 198,
   "metadata": {},
   "outputs": [],
   "source": [
    "# old_adr_df = pd.read_csv('2020-22년_급속충전_구주소.csv', index_col=0, dtype={'충전시작_년도':np.int16, '충전종료_년도':np.int16, '충전시작_월':np.int8,  '충전시작_일':np.int8, '충전시작_시':np.int8, '충전시작_분':np.int8, '충전시작_초':np.int8, '충전종료_월':np.int8, '충전종료_일':np.int8, '충전종료_시':np.int8, '충전종료_분':np.int8, '충전종료_초':np.int8, '충전기ID':np.int8})\n",
    "# old_adr_df['충전시간'] = pd.to_timedelta(old_adr_df['충전시간'])\n",
    "# old_adr_df['충전시간(계산)'] = pd.to_timedelta(old_adr_df['충전시간(계산)'])\n",
    "# old_adr_df = old_adr_df.reset_index(drop=True)\n",
    "# old_adr_df.info()"
   ]
  },
  {
   "cell_type": "code",
   "execution_count": 199,
   "metadata": {},
   "outputs": [],
   "source": [
    "# # [주의!]신/구주소 파일 불러올시 실행\n",
    "# df2 = pd.concat([new_adr_df, old_adr_df], ignore_index=True)\n",
    "# df2.info()"
   ]
  },
  {
   "cell_type": "markdown",
   "metadata": {},
   "source": [
    "### 신주소 확인\n",
    "- 신도시 지역명 구분\n",
    "    - 지역\n",
    "    - 시군구\n",
    "    - 읍면동\n",
    "    - 리\n",
    "    - 도로명"
   ]
  },
  {
   "cell_type": "code",
   "execution_count": 246,
   "metadata": {},
   "outputs": [
    {
     "data": {
      "text/plain": [
       "array(['경상남도', '제주특별자치도', '경상북도', '강원도', '대전광역시', '충청남도', '충청북도', '부산광역시',\n",
       "       '경기도', '전라남도', '대구광역시', '광주광역시', '서울특별시', '울산광역시', '전라북도', '인천광역시',\n",
       "       '세종특별자치시'], dtype=object)"
      ]
     },
     "execution_count": 246,
     "metadata": {},
     "output_type": "execute_result"
    }
   ],
   "source": [
    "new_adr_df['지역'].unique()"
   ]
  },
  {
   "cell_type": "code",
   "execution_count": 247,
   "metadata": {},
   "outputs": [
    {
     "data": {
      "text/plain": [
       "array(['김해시', '제주시', '포항시', '양양군', '양산시', '칠곡군', '강릉시', '유성구', '평창군',\n",
       "       '당진시', '원주시', '청주시', '영덕군', '서귀포시', '횡성군', '기장군', '화성시', '해남군',\n",
       "       '태안군', '달서구', '동구', '고양시', '청도군', '상주시', '양천구', '광양시', '의왕시',\n",
       "       '안산시', '북구', '성남시', '중구', '종로구', '울주군', '가평군', '산청군', '춘천시', '괴산군',\n",
       "       '함안군', '경주시', '창원시', '연천군', '경산시', '무주군', '서천군', '부여군', '삼척시',\n",
       "       '관악구', '김천시', '보성군', '여수시', '충주시', '옥천군', '천안시', '이천시', '사하구',\n",
       "       '화순군', '무안군', '용인시', '울진군', '구미시', '달성군', '진주시', '의성군', '청송군',\n",
       "       '고성군', '거제시', '영천시', '함양군', '제천시', '진천군', '동작구', '영등포구', '계룡시',\n",
       "       '서대문구', '문경시', '거창군', '서산시', '함평군', '군위군', '논산시', '수성구', '동해시',\n",
       "       '통영시', '순천시', '속초시', '용산구', '계양구', '하남시', '해운대구', '금산군', '대덕구',\n",
       "       '사천시', '익산시', '공주시', '합천군', '안동시', '성주군', '영암군', '강남구', '동래구',\n",
       "       '단양군', '남양주시', '고창군', '남해군', '군산시', '장수군', '영동군', '중랑구', '완주군',\n",
       "       '부산진구', '홍성군', '포천시', '강진군', '광주시', '광산구', '서구', '장흥군', '사상구',\n",
       "       '홍천군', '영광군', '서초구', '남구', '강서구', '순창군', '고령군', '강동구', '부평구',\n",
       "       '수원시', '강북구', '동대문구', '화천군', '파주시', '창녕군', '영월군', '양평군', '예산군',\n",
       "       '여주시', '마포구', '고흥군', '의정부시', '남동구', '보령시', '양주시', '정읍시', '연제구',\n",
       "       '진안군', '완도군', '나주시', '시흥시', '임실군', '도봉구', '평택시', '안성시', '보은군',\n",
       "       '음성군', '전주시', '하동군', '김포시', '은평구', '연수구', '송파구', '곡성군', '인제군',\n",
       "       '한누리대로', '장성군', '김제시', '다솜', '철원군', '남원시', '양구군', '동두천시', '금천구',\n",
       "       '아산시', '구례군', '청양군', '목포시', '광명시', '구로구', '부천시', '미추홀구', '노원구',\n",
       "       '군포시', '의령군', '오산시', '도움6로', '안양시', '담양군', '부안군', '정선군', '영도구',\n",
       "       '밀양시', '수영구', '성북구', '성동구', '증평군', '구리시', '광진구', '금정구', '과천시',\n",
       "       '연기면', '예천군', '영주시', '옹진군', '진도군', '태백시', '다솜2로', '가름로', '울릉군',\n",
       "       '신안군', '보듬6로', '강화군', '정부2청사로', '도움5로', '갈매로', '다솜3로', '국세청로',\n",
       "       '다솜로', '봉화군', '영양군', '조치원읍', '장군면', '금남면'], dtype=object)"
      ]
     },
     "execution_count": 247,
     "metadata": {},
     "output_type": "execute_result"
    }
   ],
   "source": [
    "new_adr_df['시군구'].unique()"
   ]
  },
  {
   "cell_type": "code",
   "execution_count": 249,
   "metadata": {},
   "outputs": [
    {
     "data": {
      "text/html": [
       "<div>\n",
       "<style scoped>\n",
       "    .dataframe tbody tr th:only-of-type {\n",
       "        vertical-align: middle;\n",
       "    }\n",
       "\n",
       "    .dataframe tbody tr th {\n",
       "        vertical-align: top;\n",
       "    }\n",
       "\n",
       "    .dataframe thead th {\n",
       "        text-align: right;\n",
       "    }\n",
       "</style>\n",
       "<table border=\"1\" class=\"dataframe\">\n",
       "  <thead>\n",
       "    <tr style=\"text-align: right;\">\n",
       "      <th></th>\n",
       "      <th>충전소명</th>\n",
       "      <th>충전기ID</th>\n",
       "      <th>지역</th>\n",
       "      <th>시군구</th>\n",
       "      <th>주소</th>\n",
       "      <th>충전기타입</th>\n",
       "      <th>충전시작일시</th>\n",
       "      <th>충전종료일시</th>\n",
       "      <th>충전시간</th>\n",
       "      <th>충전량</th>\n",
       "      <th>...</th>\n",
       "      <th>충전시작일시(변환)</th>\n",
       "      <th>충전종료_년도</th>\n",
       "      <th>충전종료_월</th>\n",
       "      <th>충전종료_일</th>\n",
       "      <th>충전종료_시</th>\n",
       "      <th>충전종료_분</th>\n",
       "      <th>충전종료_초</th>\n",
       "      <th>충전종료일시(변환)</th>\n",
       "      <th>충전시간(계산)</th>\n",
       "      <th>raw값과_계산값_차이</th>\n",
       "    </tr>\n",
       "  </thead>\n",
       "  <tbody>\n",
       "    <tr>\n",
       "      <th>2781</th>\n",
       "      <td>세종정부청사 6동</td>\n",
       "      <td>1</td>\n",
       "      <td>세종특별자치시</td>\n",
       "      <td>도움6로</td>\n",
       "      <td>세종특별자치시 도움6로 11</td>\n",
       "      <td>DC차데모+AC3상+DC콤보</td>\n",
       "      <td>20200101152226</td>\n",
       "      <td>20200101154021</td>\n",
       "      <td>0 days 00:17:46</td>\n",
       "      <td>8.06000</td>\n",
       "      <td>...</td>\n",
       "      <td>2020-01-01 15:22:26</td>\n",
       "      <td>2020</td>\n",
       "      <td>1</td>\n",
       "      <td>1</td>\n",
       "      <td>15</td>\n",
       "      <td>40</td>\n",
       "      <td>21</td>\n",
       "      <td>2020-01-01 15:40:21</td>\n",
       "      <td>0 days 00:17:55</td>\n",
       "      <td>0 days 00:00:09</td>\n",
       "    </tr>\n",
       "    <tr>\n",
       "      <th>3316</th>\n",
       "      <td>세종정부청사 6동</td>\n",
       "      <td>1</td>\n",
       "      <td>세종특별자치시</td>\n",
       "      <td>도움6로</td>\n",
       "      <td>세종특별자치시 도움6로 11</td>\n",
       "      <td>DC차데모+AC3상+DC콤보</td>\n",
       "      <td>20200101162930</td>\n",
       "      <td>20200101165545</td>\n",
       "      <td>0 days 00:25:20</td>\n",
       "      <td>19.05000</td>\n",
       "      <td>...</td>\n",
       "      <td>2020-01-01 16:29:30</td>\n",
       "      <td>2020</td>\n",
       "      <td>1</td>\n",
       "      <td>1</td>\n",
       "      <td>16</td>\n",
       "      <td>55</td>\n",
       "      <td>45</td>\n",
       "      <td>2020-01-01 16:55:45</td>\n",
       "      <td>0 days 00:26:15</td>\n",
       "      <td>0 days 00:00:55</td>\n",
       "    </tr>\n",
       "    <tr>\n",
       "      <th>5868</th>\n",
       "      <td>세종정부청사 6동</td>\n",
       "      <td>1</td>\n",
       "      <td>세종특별자치시</td>\n",
       "      <td>도움6로</td>\n",
       "      <td>세종특별자치시 도움6로 11</td>\n",
       "      <td>DC차데모+AC3상+DC콤보</td>\n",
       "      <td>20200102064930</td>\n",
       "      <td>20200102073235</td>\n",
       "      <td>0 days 00:40:00</td>\n",
       "      <td>18.70000</td>\n",
       "      <td>...</td>\n",
       "      <td>2020-01-02 06:49:30</td>\n",
       "      <td>2020</td>\n",
       "      <td>1</td>\n",
       "      <td>2</td>\n",
       "      <td>7</td>\n",
       "      <td>32</td>\n",
       "      <td>35</td>\n",
       "      <td>2020-01-02 07:32:35</td>\n",
       "      <td>0 days 00:43:05</td>\n",
       "      <td>0 days 00:03:05</td>\n",
       "    </tr>\n",
       "    <tr>\n",
       "      <th>6125</th>\n",
       "      <td>세종정부청사 6동</td>\n",
       "      <td>1</td>\n",
       "      <td>세종특별자치시</td>\n",
       "      <td>도움6로</td>\n",
       "      <td>세종특별자치시 도움6로 11</td>\n",
       "      <td>DC차데모+AC3상+DC콤보</td>\n",
       "      <td>20200102083246</td>\n",
       "      <td>20200102091850</td>\n",
       "      <td>0 days 00:40:00</td>\n",
       "      <td>10.74000</td>\n",
       "      <td>...</td>\n",
       "      <td>2020-01-02 08:32:46</td>\n",
       "      <td>2020</td>\n",
       "      <td>1</td>\n",
       "      <td>2</td>\n",
       "      <td>9</td>\n",
       "      <td>18</td>\n",
       "      <td>50</td>\n",
       "      <td>2020-01-02 09:18:50</td>\n",
       "      <td>0 days 00:46:04</td>\n",
       "      <td>0 days 00:06:04</td>\n",
       "    </tr>\n",
       "    <tr>\n",
       "      <th>6331</th>\n",
       "      <td>세종정부청사 6동</td>\n",
       "      <td>1</td>\n",
       "      <td>세종특별자치시</td>\n",
       "      <td>도움6로</td>\n",
       "      <td>세종특별자치시 도움6로 11</td>\n",
       "      <td>DC차데모+AC3상+DC콤보</td>\n",
       "      <td>20200102092420</td>\n",
       "      <td>20200102100436</td>\n",
       "      <td>0 days 00:40:00</td>\n",
       "      <td>29.94000</td>\n",
       "      <td>...</td>\n",
       "      <td>2020-01-02 09:24:20</td>\n",
       "      <td>2020</td>\n",
       "      <td>1</td>\n",
       "      <td>2</td>\n",
       "      <td>10</td>\n",
       "      <td>4</td>\n",
       "      <td>36</td>\n",
       "      <td>2020-01-02 10:04:36</td>\n",
       "      <td>0 days 00:40:16</td>\n",
       "      <td>0 days 00:00:16</td>\n",
       "    </tr>\n",
       "  </tbody>\n",
       "</table>\n",
       "<p>5 rows × 27 columns</p>\n",
       "</div>"
      ],
      "text/plain": [
       "           충전소명  충전기ID       지역   시군구               주소            충전기타입  \\\n",
       "2781  세종정부청사 6동      1  세종특별자치시  도움6로  세종특별자치시 도움6로 11  DC차데모+AC3상+DC콤보   \n",
       "3316  세종정부청사 6동      1  세종특별자치시  도움6로  세종특별자치시 도움6로 11  DC차데모+AC3상+DC콤보   \n",
       "5868  세종정부청사 6동      1  세종특별자치시  도움6로  세종특별자치시 도움6로 11  DC차데모+AC3상+DC콤보   \n",
       "6125  세종정부청사 6동      1  세종특별자치시  도움6로  세종특별자치시 도움6로 11  DC차데모+AC3상+DC콤보   \n",
       "6331  세종정부청사 6동      1  세종특별자치시  도움6로  세종특별자치시 도움6로 11  DC차데모+AC3상+DC콤보   \n",
       "\n",
       "              충전시작일시          충전종료일시            충전시간      충전량  ...  \\\n",
       "2781  20200101152226  20200101154021 0 days 00:17:46  8.06000  ...   \n",
       "3316  20200101162930  20200101165545 0 days 00:25:20 19.05000  ...   \n",
       "5868  20200102064930  20200102073235 0 days 00:40:00 18.70000  ...   \n",
       "6125  20200102083246  20200102091850 0 days 00:40:00 10.74000  ...   \n",
       "6331  20200102092420  20200102100436 0 days 00:40:00 29.94000  ...   \n",
       "\n",
       "               충전시작일시(변환)  충전종료_년도  충전종료_월  충전종료_일  충전종료_시  충전종료_분  충전종료_초  \\\n",
       "2781  2020-01-01 15:22:26     2020       1       1      15      40      21   \n",
       "3316  2020-01-01 16:29:30     2020       1       1      16      55      45   \n",
       "5868  2020-01-02 06:49:30     2020       1       2       7      32      35   \n",
       "6125  2020-01-02 08:32:46     2020       1       2       9      18      50   \n",
       "6331  2020-01-02 09:24:20     2020       1       2      10       4      36   \n",
       "\n",
       "               충전종료일시(변환)        충전시간(계산)     raw값과_계산값_차이  \n",
       "2781  2020-01-01 15:40:21 0 days 00:17:55  0 days 00:00:09  \n",
       "3316  2020-01-01 16:55:45 0 days 00:26:15  0 days 00:00:55  \n",
       "5868  2020-01-02 07:32:35 0 days 00:43:05  0 days 00:03:05  \n",
       "6125  2020-01-02 09:18:50 0 days 00:46:04  0 days 00:06:04  \n",
       "6331  2020-01-02 10:04:36 0 days 00:40:16  0 days 00:00:16  \n",
       "\n",
       "[5 rows x 27 columns]"
      ]
     },
     "execution_count": 249,
     "metadata": {},
     "output_type": "execute_result"
    }
   ],
   "source": [
    "new_adr_df[new_adr_df['시군구'] == '도움6로'].head()"
   ]
  },
  {
   "cell_type": "markdown",
   "metadata": {},
   "source": [
    "#### 주소 unique 값 확인"
   ]
  },
  {
   "cell_type": "code",
   "execution_count": 601,
   "metadata": {},
   "outputs": [
    {
     "data": {
      "text/plain": [
       "2763"
      ]
     },
     "execution_count": 601,
     "metadata": {},
     "output_type": "execute_result"
    }
   ],
   "source": [
    "new_adr_address_unique = new_adr_df['주소'].unique()\n",
    "len(new_adr_address_unique)"
   ]
  },
  {
   "cell_type": "code",
   "execution_count": 602,
   "metadata": {},
   "outputs": [
    {
     "data": {
      "text/plain": [
       "array(['경상남도 김해시 진영읍 하계로96번길 94-4  주유소 옆 주차장',\n",
       "       '제주특별자치도 제주시 삼성로 40 민속자연사박물관', '제주특별자치도 제주시 노형9길 9-4  주차장',\n",
       "       '경상북도 포항시 북구 해안로 82', '강원도 양양군 현북면 동해대로 1242'], dtype=object)"
      ]
     },
     "execution_count": 602,
     "metadata": {},
     "output_type": "execute_result"
    }
   ],
   "source": [
    "new_adr_address_unique[:5]"
   ]
  },
  {
   "cell_type": "code",
   "execution_count": 603,
   "metadata": {},
   "outputs": [
    {
     "data": {
      "text/plain": [
       "array(['경기도 안산시 단원구 돈지섬1길 10', '전라북도 장수군 장수읍 장천로 247',\n",
       "       '인천광역시 서구 정서진1로 41', '제주특별자치도 제주시 천수로 72', '경기도 용인시 처인구 동백죽전대로 61'],\n",
       "      dtype=object)"
      ]
     },
     "execution_count": 603,
     "metadata": {},
     "output_type": "execute_result"
    }
   ],
   "source": [
    "new_adr_address_unique[-5:]"
   ]
  },
  {
   "cell_type": "code",
   "execution_count": 604,
   "metadata": {},
   "outputs": [
    {
     "data": {
      "text/plain": [
       "array(['경상남도 창원시 마산합포구 진동면 신서촌로 13 진동면사무소',\n",
       "       '경상남도 창원시 의창구 동읍 동읍로 88  동읍사무소 주차장', '경상북도 경산시 경산시 하양읍 문화로 36',\n",
       "       '경상남도 창원시 마산합포구 구산면 구산로 554'], dtype=object)"
      ]
     },
     "execution_count": 604,
     "metadata": {},
     "output_type": "execute_result"
    }
   ],
   "source": [
    "new_adr_address_unique[[60, 373, 571, 693]]"
   ]
  },
  {
   "cell_type": "code",
   "execution_count": 605,
   "metadata": {},
   "outputs": [
    {
     "data": {
      "text/plain": [
       "array(['경상남도 진주시  문산읍 월아산로 973', '경상남도 창원시 의창구  중앙대로 300'], dtype=object)"
      ]
     },
     "execution_count": 605,
     "metadata": {},
     "output_type": "execute_result"
    }
   ],
   "source": [
    "new_adr_address_unique[[2384, 2636]]"
   ]
  },
  {
   "cell_type": "markdown",
   "metadata": {},
   "source": [
    "#### 빈칸 정리"
   ]
  },
  {
   "cell_type": "code",
   "execution_count": 606,
   "metadata": {},
   "outputs": [
    {
     "data": {
      "text/plain": [
       "array(['경상남도 진주시 문산읍 월아산로 973', '경상남도 창원시 의창구 중앙대로 300'], dtype=object)"
      ]
     },
     "execution_count": 606,
     "metadata": {},
     "output_type": "execute_result"
    }
   ],
   "source": [
    "for i, one in enumerate(new_adr_address_unique):\n",
    "    if '  ' in one:\n",
    "        new_adr_address_unique[i] = one.replace('  ', ' ')\n",
    "new_adr_address_unique[[2384, 2636]]"
   ]
  },
  {
   "cell_type": "code",
   "execution_count": 607,
   "metadata": {},
   "outputs": [
    {
     "data": {
      "text/plain": [
       "array(['경상남도 창원시 마산합포구 진동면 신서촌로 13 진동면사무소',\n",
       "       '경상남도 창원시 의창구 동읍 동읍로 88 동읍사무소 주차장', '경상북도 경산시 경산시 하양읍 문화로 36',\n",
       "       '경상남도 창원시 마산합포구 구산면 구산로 554'], dtype=object)"
      ]
     },
     "execution_count": 607,
     "metadata": {},
     "output_type": "execute_result"
    }
   ],
   "source": [
    "new_adr_address_unique[[60, 373, 571, 693]]"
   ]
  },
  {
   "cell_type": "code",
   "execution_count": 608,
   "metadata": {},
   "outputs": [
    {
     "data": {
      "text/plain": [
       "(2763,)"
      ]
     },
     "execution_count": 608,
     "metadata": {},
     "output_type": "execute_result"
    }
   ],
   "source": [
    "new_adr_address_unique.shape"
   ]
  },
  {
   "cell_type": "markdown",
   "metadata": {},
   "source": [
    "#### 특이 주소 처리\n",
    "현재|수정\n",
    "-|-\n",
    "인천광역시 서구 청라 커낼로|인천광역시 서구 청라커낼로\n",
    "대전광역시 유성구 테크노 9로|대전광역시 유성구 테크노9로\n",
    "제주특별자치도 제주시 산천단 동3길|제주특별자치도 제주시 산천단동3길\n",
    "경기도 하남시 미사강변 한강로|경기도 하남시 미사강변한강로\n",
    "경상북도 상주시 영남 제일로|경상북도 상주시 영남제일로\n",
    "경기도 이천시 호법면 프리미엄 아울렛로|경기도 이천시 호법면 프리미엄아울렛로\n",
    "충청남도 보령시 갓바위 1길|충청남도 보령시 갓바위1길\n",
    "울산광역시 북구 진장 유통로|울산광역시 북구 진장유통로\n",
    "부산광역시 강서구 명지오션시티 13로|부산광역시 강서구 명지오션시티13로"
   ]
  },
  {
   "cell_type": "code",
   "execution_count": 609,
   "metadata": {},
   "outputs": [
    {
     "name": "stdout",
     "output_type": "stream",
     "text": [
      "인천광역시 서구 청라커낼로 252(경서동)\n",
      "대전광역시 유성구 테크노9로 35 입구 국기계양대 왼쪽\n",
      "제주특별자치도 제주시 산천단동3길 2 북쪽주차장 입구\n",
      "경기도 하남시 미사강변한강로 299 지하주차장 입구 앞\n",
      "경상북도 상주시 영남제일로 1339\n",
      "경기도 이천시 호법면 프리미엄아울렛로 177-74\n",
      "충청남도 보령시 갓바위1길 10-30\n",
      "울산광역시 북구 진장유통로 64\n",
      "부산광역시 강서구 명지오션시티13로 12-11\n"
     ]
    }
   ],
   "source": [
    "for i, one in enumerate(new_adr_address_unique):\n",
    "    if '청라 커낼로' in one:\n",
    "        new_adr_address_unique[i] = one.replace('청라 커낼로', '청라커낼로')\n",
    "        print(new_adr_address_unique[i])\n",
    "    elif '테크노 9로' in one:\n",
    "        new_adr_address_unique[i] = one.replace('테크노 9로', '테크노9로')\n",
    "        print(new_adr_address_unique[i])\n",
    "    elif '산천단 동3길' in one:\n",
    "        new_adr_address_unique[i] = one.replace('산천단 동3길', '산천단동3길')\n",
    "        print(new_adr_address_unique[i])\n",
    "    elif '미사강변 한강로' in one:\n",
    "        new_adr_address_unique[i] = one.replace('미사강변 한강로', '미사강변한강로')\n",
    "        print(new_adr_address_unique[i])\n",
    "    elif '영남 제일로' in one:\n",
    "        new_adr_address_unique[i] = one.replace('영남 제일로', '영남제일로')\n",
    "        print(new_adr_address_unique[i])\n",
    "    elif '프리미엄 아울렛로' in one:\n",
    "        new_adr_address_unique[i] = one.replace('프리미엄 아울렛로', '프리미엄아울렛로')\n",
    "        print(new_adr_address_unique[i])\n",
    "    elif '갓바위 1길' in one:\n",
    "        new_adr_address_unique[i] = one.replace('갓바위 1길', '갓바위1길')\n",
    "        print(new_adr_address_unique[i])\n",
    "    elif '진장 유통로' in one:\n",
    "        new_adr_address_unique[i] = one.replace('진장 유통로', '진장유통로')\n",
    "        print(new_adr_address_unique[i])\n",
    "    elif '명지오션시티 13로' in one:\n",
    "        new_adr_address_unique[i] = one.replace('명지오션시티 13로', '명지오션시티13로')\n",
    "        print(new_adr_address_unique[i])"
   ]
  },
  {
   "cell_type": "markdown",
   "metadata": {},
   "source": [
    "#### 시-구 같은 구분지역 처리"
   ]
  },
  {
   "cell_type": "code",
   "execution_count": 610,
   "metadata": {},
   "outputs": [],
   "source": [
    "split_dict = {' 고양시 덕양구 ':'$고양시-덕양구$', ' 고양시 일산동구 ':'$고양시-일산동구$', ' 고양시 일산서구 ':'$고양시-일산서구$', ' 성남시 분당구 ':'$성남시-분당구$', ' 성남시 수정구 ':'$성남시-수정구$', \n",
    "              ' 성남시 중원구 ':'$성남시-중원구$', ' 성남시 권선구 ':'$성남시-권선구$', ' 성남시 영통구 ':'$성남시-영통구$', ' 성남시 장안구 ':'$성남시-장안구$', ' 성남시 팔달구 ':'$성남시-팔달구$',\n",
    "              ' 수원시 권선구 ':'$수원시-권선구$', ' 수원시 영통구 ':'$수원시-영통구$', ' 수원시 장안구 ':'$수원시-장안구$', ' 수원시 팔달구 ':'$수원시-팔달구$', ' 안산시 단원구 ':'$안산시-단원구$', \n",
    "              ' 안산시 상록구 ':'$안산시-상록구$', ' 안양시 동안구 ':'$안양시-동안구$', ' 안양시 만안구 ':'$안양시-만안구$', ' 용인시 기흥구 ':'$용인시-기흥구$', ' 용인시 수지구 ':'$용인시-수지구$', \n",
    "              ' 용인시 처인구 ':'$용인시-처인구$', ' 청주시 상당구 ':'$청주시-상당구$', ' 청주시 서원구 ':'$청주시-서원구$', ' 청주시 청원구 ':'$청주시-청원구$', ' 청주시 흥덕구 ':'$청주시-흥덕구$', \n",
    "              ' 천안시 동남구 ':'$천안시-동남구$', ' 천안시 서북구 ':'$천안시-서북구$', ' 전주시 덕진구 ':'$전주시-덕진구$', ' 전주시 완산구 ':'$전주시-완산구$', ' 창원시 마산합포구 ':'$창원시-마산합포구$', \n",
    "              ' 창원시 마산회원구 ':'$창원시-마산회원구$', ' 창원시 성산구 ':'$창원시-성산구$', ' 창원시 의창구 ':'$창원시-의창구$', ' 창원시 진해구 ':'$창원시-진해구$', ' 포항시 남구 ':'$포항시-남구$', \n",
    "              ' 포항시 북구 ':'$포항시-북구$'}"
   ]
  },
  {
   "cell_type": "code",
   "execution_count": 611,
   "metadata": {},
   "outputs": [
    {
     "data": {
      "text/plain": [
       "36"
      ]
     },
     "execution_count": 611,
     "metadata": {},
     "output_type": "execute_result"
    }
   ],
   "source": [
    "len(split_dict)"
   ]
  },
  {
   "cell_type": "code",
   "execution_count": 612,
   "metadata": {},
   "outputs": [],
   "source": [
    "s = '경기도 안산시 단원구 돈지섬1길 10'\n",
    "for k, v in split_dict.items():\n",
    "    s = s.replace(k, v)\n",
    "s = s.replace(' ', '$')\n",
    "s = s.replace('-', ' ')"
   ]
  },
  {
   "cell_type": "code",
   "execution_count": 613,
   "metadata": {},
   "outputs": [
    {
     "data": {
      "text/plain": [
       "'경기도$안산시 단원구$돈지섬1길$10'"
      ]
     },
     "execution_count": 613,
     "metadata": {},
     "output_type": "execute_result"
    }
   ],
   "source": [
    "s"
   ]
  },
  {
   "cell_type": "code",
   "execution_count": 614,
   "metadata": {},
   "outputs": [
    {
     "name": "stderr",
     "output_type": "stream",
     "text": [
      "100%|██████████| 2763/2763 [00:00<00:00, 68333.78it/s]\n"
     ]
    }
   ],
   "source": [
    "new_adr_address_unique_split = []\n",
    "for ad in tqdm(new_adr_address_unique):\n",
    "    for k, v in split_dict.items():\n",
    "        ad = ad.replace(k, v)\n",
    "    ad = ad.replace(' ', '$')\n",
    "    ad = ad.replace('-', ' ')\n",
    "    new_adr_address_unique_split.append(ad.split('$'))"
   ]
  },
  {
   "cell_type": "code",
   "execution_count": 615,
   "metadata": {},
   "outputs": [
    {
     "data": {
      "text/plain": [
       "[['경상남도', '김해시', '진영읍', '하계로96번길', '94 4', '주유소', '옆', '주차장'],\n",
       " ['제주특별자치도', '제주시', '삼성로', '40', '민속자연사박물관'],\n",
       " ['제주특별자치도', '제주시', '노형9길', '9 4', '주차장'],\n",
       " ['경상북도', '포항시 북구', '해안로', '82'],\n",
       " ['강원도', '양양군', '현북면', '동해대로', '1242']]"
      ]
     },
     "execution_count": 615,
     "metadata": {},
     "output_type": "execute_result"
    }
   ],
   "source": [
    "new_adr_address_unique_split[:5]"
   ]
  },
  {
   "cell_type": "code",
   "execution_count": 616,
   "metadata": {},
   "outputs": [
    {
     "data": {
      "text/plain": [
       "[['경기도', '안산시 단원구', '돈지섬1길', '10'],\n",
       " ['전라북도', '장수군', '장수읍', '장천로', '247'],\n",
       " ['인천광역시', '서구', '정서진1로', '41'],\n",
       " ['제주특별자치도', '제주시', '천수로', '72'],\n",
       " ['경기도', '용인시 처인구', '동백죽전대로', '61']]"
      ]
     },
     "execution_count": 616,
     "metadata": {},
     "output_type": "execute_result"
    }
   ],
   "source": [
    "new_adr_address_unique_split[-5:]"
   ]
  },
  {
   "cell_type": "code",
   "execution_count": 617,
   "metadata": {},
   "outputs": [
    {
     "data": {
      "text/plain": [
       "[['경상북도', '영덕군', '영덕읍', '군청길', '116'],\n",
       " ['충청남도', '청양군', '정산면', '칠갑산로', '1857'],\n",
       " ['세종특별자치시', '연기면', '정안세종로', '1527', '은하수공원', '화장시설', '주차장'],\n",
       " ['전라북도', '진안군', '진안읍', '진무로', '1189'],\n",
       " ['울산광역시', '북구', '산업로', '970']]"
      ]
     },
     "execution_count": 617,
     "metadata": {},
     "output_type": "execute_result"
    }
   ],
   "source": [
    "new_adr_address_unique_split[1010:1015]"
   ]
  },
  {
   "cell_type": "code",
   "execution_count": 618,
   "metadata": {},
   "outputs": [
    {
     "data": {
      "text/plain": [
       "[['강원도', '고성군', '죽왕면', '심층수길', '14'],\n",
       " ['제주특별자치도', '제주시', '수목원길', '72'],\n",
       " ['경상남도', '거제시', '계룡로', '125', '민원인', '주차', '건물', '출구', '앞'],\n",
       " ['경상북도', '영천시', '임고면', '운주로', '777'],\n",
       " ['제주특별자치도', '서귀포시', '돈내코로', '114', '본관주차장']]"
      ]
     },
     "execution_count": 618,
     "metadata": {},
     "output_type": "execute_result"
    }
   ],
   "source": [
    "new_adr_address_unique_split[100:105]"
   ]
  },
  {
   "cell_type": "code",
   "execution_count": 619,
   "metadata": {},
   "outputs": [
    {
     "data": {
      "text/plain": [
       "['경상남도', '창원시 마산합포구', '진동면', '신서촌로', '13', '진동면사무소']"
      ]
     },
     "execution_count": 619,
     "metadata": {},
     "output_type": "execute_result"
    }
   ],
   "source": [
    "new_adr_address_unique_split[60]"
   ]
  },
  {
   "cell_type": "code",
   "execution_count": 620,
   "metadata": {},
   "outputs": [
    {
     "data": {
      "text/plain": [
       "['경상남도', '창원시 의창구', '동읍', '동읍로', '88', '동읍사무소', '주차장']"
      ]
     },
     "execution_count": 620,
     "metadata": {},
     "output_type": "execute_result"
    }
   ],
   "source": [
    "new_adr_address_unique_split[373]"
   ]
  },
  {
   "cell_type": "code",
   "execution_count": 621,
   "metadata": {},
   "outputs": [
    {
     "data": {
      "text/plain": [
       "['경상북도', '경산시', '경산시', '하양읍', '문화로', '36']"
      ]
     },
     "execution_count": 621,
     "metadata": {},
     "output_type": "execute_result"
    }
   ],
   "source": [
    "new_adr_address_unique_split[571]"
   ]
  },
  {
   "cell_type": "code",
   "execution_count": 622,
   "metadata": {},
   "outputs": [
    {
     "data": {
      "text/plain": [
       "['경상남도', '창원시 마산합포구', '구산면', '구산로', '554']"
      ]
     },
     "execution_count": 622,
     "metadata": {},
     "output_type": "execute_result"
    }
   ],
   "source": [
    "new_adr_address_unique_split[693]"
   ]
  },
  {
   "cell_type": "code",
   "execution_count": 623,
   "metadata": {},
   "outputs": [
    {
     "data": {
      "text/plain": [
       "['경상남도', '진주시', '문산읍', '월아산로', '973']"
      ]
     },
     "execution_count": 623,
     "metadata": {},
     "output_type": "execute_result"
    }
   ],
   "source": [
    "new_adr_address_unique_split[2384]"
   ]
  },
  {
   "cell_type": "code",
   "execution_count": 624,
   "metadata": {},
   "outputs": [
    {
     "data": {
      "text/plain": [
       "['경상남도', '창원시 의창구', '중앙대로', '300']"
      ]
     },
     "execution_count": 624,
     "metadata": {},
     "output_type": "execute_result"
    }
   ],
   "source": [
    "new_adr_address_unique_split[2636]"
   ]
  },
  {
   "cell_type": "markdown",
   "metadata": {},
   "source": [
    "#### 동일 지역명 정리"
   ]
  },
  {
   "cell_type": "code",
   "execution_count": 625,
   "metadata": {},
   "outputs": [
    {
     "data": {
      "text/plain": [
       "['경상북도', '경산시', '경산시', '하양읍', '문화로', '36']"
      ]
     },
     "execution_count": 625,
     "metadata": {},
     "output_type": "execute_result"
    }
   ],
   "source": [
    "new_adr_address_unique_split[571]"
   ]
  },
  {
   "cell_type": "code",
   "execution_count": 626,
   "metadata": {},
   "outputs": [
    {
     "name": "stderr",
     "output_type": "stream",
     "text": [
      "100%|██████████| 2763/2763 [00:00<00:00, 213128.50it/s]\n"
     ]
    }
   ],
   "source": [
    "new_adr_address_unique_split2 = []\n",
    "for one in tqdm(new_adr_address_unique_split):\n",
    "    temp = []\n",
    "    for two in one:\n",
    "        if two not in temp:\n",
    "            temp.append(two)\n",
    "    new_adr_address_unique_split2.append(temp)"
   ]
  },
  {
   "cell_type": "code",
   "execution_count": 627,
   "metadata": {},
   "outputs": [
    {
     "data": {
      "text/plain": [
       "['경상북도', '경산시', '하양읍', '문화로', '36']"
      ]
     },
     "execution_count": 627,
     "metadata": {},
     "output_type": "execute_result"
    }
   ],
   "source": [
    "new_adr_address_unique_split2[571]"
   ]
  },
  {
   "cell_type": "code",
   "execution_count": 628,
   "metadata": {},
   "outputs": [
    {
     "data": {
      "text/plain": [
       "['경상남도', '진주시', '문산읍', '월아산로', '973']"
      ]
     },
     "execution_count": 628,
     "metadata": {},
     "output_type": "execute_result"
    }
   ],
   "source": [
    "new_adr_address_unique_split2[2384]"
   ]
  },
  {
   "cell_type": "code",
   "execution_count": 629,
   "metadata": {},
   "outputs": [
    {
     "data": {
      "text/plain": [
       "['경상남도', '창원시 마산합포구', '진동면', '신서촌로', '13', '진동면사무소']"
      ]
     },
     "execution_count": 629,
     "metadata": {},
     "output_type": "execute_result"
    }
   ],
   "source": [
    "new_adr_address_unique_split2[60]"
   ]
  },
  {
   "cell_type": "code",
   "execution_count": 630,
   "metadata": {},
   "outputs": [
    {
     "data": {
      "text/plain": [
       "['경상남도', '창원시 의창구', '동읍', '동읍로', '88', '동읍사무소', '주차장']"
      ]
     },
     "execution_count": 630,
     "metadata": {},
     "output_type": "execute_result"
    }
   ],
   "source": [
    "new_adr_address_unique_split2[373]"
   ]
  },
  {
   "cell_type": "code",
   "execution_count": 631,
   "metadata": {},
   "outputs": [
    {
     "data": {
      "text/plain": [
       "['경상남도', '창원시 마산합포구', '구산면', '구산로', '554']"
      ]
     },
     "execution_count": 631,
     "metadata": {},
     "output_type": "execute_result"
    }
   ],
   "source": [
    "new_adr_address_unique_split2[693]"
   ]
  },
  {
   "cell_type": "markdown",
   "metadata": {},
   "source": [
    "#### 지역 구분으로 주소 분리\n",
    "- 신도시 지역명 구분\n",
    "    - 지역\n",
    "    - 시군구\n",
    "    - 읍면동\n",
    "    - 리\n",
    "    - 도로명"
   ]
  },
  {
   "cell_type": "code",
   "execution_count": 632,
   "metadata": {},
   "outputs": [],
   "source": [
    "ad1_p = re.compile('[가-힣]+도$|[가-힣]+시$')\n",
    "ad2_p = re.compile('[가-힣]+시$|[가-힣]+군$|[가-힣]+구$|[가-힣]+시 [가-힣]+구$')\n",
    "ad3_p = re.compile('[가-힣0-9]+읍$|[가-힣0-9]+면$|[가-힣0-9]+동$')\n",
    "ad4_p = re.compile('[가-힣0-9]+리$')\n",
    "ad5_p = re.compile('[가-힣0-9]+로$|[가-힣0-9]+길$')"
   ]
  },
  {
   "cell_type": "code",
   "execution_count": 633,
   "metadata": {},
   "outputs": [
    {
     "data": {
      "text/plain": [
       "<re.Match object; span=(0, 3), match='경기도'>"
      ]
     },
     "execution_count": 633,
     "metadata": {},
     "output_type": "execute_result"
    }
   ],
   "source": [
    "ad1_p.search('경기도')"
   ]
  },
  {
   "cell_type": "code",
   "execution_count": 634,
   "metadata": {},
   "outputs": [
    {
     "data": {
      "text/plain": [
       "<re.Match object; span=(0, 3), match='장수군'>"
      ]
     },
     "execution_count": 634,
     "metadata": {},
     "output_type": "execute_result"
    }
   ],
   "source": [
    "ad2_p.search('장수군')"
   ]
  },
  {
   "cell_type": "code",
   "execution_count": 635,
   "metadata": {},
   "outputs": [
    {
     "data": {
      "text/plain": [
       "<re.Match object; span=(0, 7), match='안산시 단원구'>"
      ]
     },
     "execution_count": 635,
     "metadata": {},
     "output_type": "execute_result"
    }
   ],
   "source": [
    "ad2_p.search('안산시 단원구')"
   ]
  },
  {
   "cell_type": "code",
   "execution_count": 636,
   "metadata": {},
   "outputs": [],
   "source": [
    "ad2_p.search('연기면')"
   ]
  },
  {
   "cell_type": "code",
   "execution_count": 637,
   "metadata": {},
   "outputs": [
    {
     "data": {
      "text/plain": [
       "<re.Match object; span=(0, 3), match='죽왕면'>"
      ]
     },
     "execution_count": 637,
     "metadata": {},
     "output_type": "execute_result"
    }
   ],
   "source": [
    "ad3_p.search('죽왕면')"
   ]
  },
  {
   "cell_type": "code",
   "execution_count": 638,
   "metadata": {},
   "outputs": [],
   "source": [
    "ad3_p.search('계룡로')"
   ]
  },
  {
   "cell_type": "code",
   "execution_count": 639,
   "metadata": {},
   "outputs": [],
   "source": [
    "t = [1, 2, 3]\n",
    "t.insert(1, 100)"
   ]
  },
  {
   "cell_type": "code",
   "execution_count": 640,
   "metadata": {},
   "outputs": [
    {
     "data": {
      "text/plain": [
       "[1, 100, 2, 3]"
      ]
     },
     "execution_count": 640,
     "metadata": {},
     "output_type": "execute_result"
    }
   ],
   "source": [
    "t"
   ]
  },
  {
   "cell_type": "code",
   "execution_count": 641,
   "metadata": {},
   "outputs": [
    {
     "name": "stderr",
     "output_type": "stream",
     "text": [
      "2763it [00:00, 61565.27it/s]"
     ]
    },
    {
     "name": "stdout",
     "output_type": "stream",
     "text": [
      "['경상남도', '김해시', '진영읍', nan, '하계로96번길', '94 4', '주유소', '옆', '주차장']\n",
      "['제주특별자치도', '제주시', nan, '삼성로', '40', '민속자연사박물관']\n",
      "['제주특별자치도', '제주시', nan, nan, '삼성로', '40', '민속자연사박물관']\n",
      "['제주특별자치도', '제주시', nan, '노형9길', '9 4', '주차장']\n",
      "['제주특별자치도', '제주시', nan, nan, '노형9길', '9 4', '주차장']\n",
      "['경상북도', '포항시 북구', nan, '해안로', '82']\n",
      "['경상북도', '포항시 북구', nan, nan, '해안로', '82']\n",
      "['강원도', '양양군', '현북면', nan, '동해대로', '1242']\n",
      "['제주특별자치도', '제주시', nan, '산천단동길', '26', '인재개발원']\n",
      "['제주특별자치도', '제주시', nan, nan, '산천단동길', '26', '인재개발원']\n",
      "['경상남도', '양산시', nan, '양산대로', '849', '운동장', '앞', '도로쪽', '주차장']\n",
      "['경상남도', '양산시', nan, nan, '양산대로', '849', '운동장', '앞', '도로쪽', '주차장']\n",
      "['경상북도', '칠곡군', '동명면', nan, '중앙고속도로', '123']\n",
      "['강원도', '강릉시', nan, '강릉대로', '33', 'P3', '주차장']\n",
      "['강원도', '강릉시', nan, nan, '강릉대로', '33', 'P3', '주차장']\n",
      "['제주특별자치도', '제주시', nan, '우평로', '318', '부영아파트']\n",
      "['제주특별자치도', '제주시', nan, nan, '우평로', '318', '부영아파트']\n",
      "['대전광역시', '유성구', nan, '월드컵대로', '32']\n",
      "['대전광역시', '유성구', nan, nan, '월드컵대로', '32']\n",
      "['강원도', '평창군', '용평면', nan, '경강로', '2159 58', '주유소', '맞은편', '주차면']\n",
      "['충청남도', '당진시', '신평면', nan, '서해안고속도로', '275', '행담도휴게소(목포방향)', '뒷편', '주차장']\n",
      "['제주특별자치도', '제주시', '애월읍', nan, '봉성로', '105']\n",
      "['강원도', '원주시', '문막읍', nan, '원문로', '1234', '휴게소', '좌측']\n",
      "['충청북도', '청주시 서원구', '현도면', nan, '경부고속도로', '289']\n",
      "['경상북도', '영덕군', '강구면', nan, '동해대로', '4526']\n",
      "['제주특별자치도', '서귀포시', '성산읍', nan, '일주동로4120번길', '7', '동부소방서']\n",
      "['강원도', '횡성군', '안흥면', nan, '영동고속도로', '154', '휴게소와', 'LPG충전소', '사이']\n",
      "['부산광역시', '기장군', '장안읍', nan, '동해고속도로', '26', '휴게소와', 'LPG충전소', '사이']\n",
      "['경기도', '화성시', '송산면', nan, '평택시흥고속도로', '25']\n",
      "['제주특별자치도', '서귀포시', '성산읍', nan, '일주동로', '4330', '본관', '주차장']\n",
      "['전라남도', '해남군', '문내면', nan, '관광레저로', '12']\n",
      "['충청남도', '태안군', '안면읍', nan, '장터로', '149', '주차장', '오른쪽']\n",
      "['강원도', '횡성군', '안흥면', nan, '영동고속도로', '153', '농축산물판매장', '옆']\n",
      "['대구광역시', '달서구', nan, '선원로', '133']\n",
      "['대구광역시', '달서구', nan, nan, '선원로', '133']\n",
      "['제주특별자치도', '제주시', nan, '봉개북1길', '15', '봉개동주민센터']\n",
      "['제주특별자치도', '제주시', nan, nan, '봉개북1길', '15', '봉개동주민센터']\n",
      "['제주특별자치도', '제주시', nan, '문연로', '6']\n",
      "['제주특별자치도', '제주시', nan, nan, '문연로', '6']\n",
      "['대구광역시', '동구', nan, '효동로2길', '93']\n",
      "['대구광역시', '동구', nan, nan, '효동로2길', '93']\n",
      "['경기도', '고양시 일산서구', nan, '중앙로', '1601', '대형주차장', '왼쪽도로변']\n",
      "['경기도', '고양시 일산서구', nan, nan, '중앙로', '1601', '대형주차장', '왼쪽도로변']\n",
      "['광주광역시', '동구', nan, '남문로', '575', '환승주차장', '1층']\n",
      "['광주광역시', '동구', nan, nan, '남문로', '575', '환승주차장', '1층']\n",
      "['경상북도', '청도군', '청도읍', nan, '하지길', '59 49', '휴게소와', '주유소', '사이']\n",
      "['경상북도', '상주시', '화서면', nan, '터골길', '51 25']\n",
      "['경상북도', '포항시 남구', nan, '희망대로', '790']\n",
      "['경상북도', '포항시 남구', nan, nan, '희망대로', '790']\n",
      "['서울특별시', '양천구', nan, '지양로', '47']\n",
      "['서울특별시', '양천구', nan, nan, '지양로', '47']\n",
      "['울산광역시', '동구', nan, '봉수로', '285', '전하체육센터', '주차장', '입구옆']\n",
      "['울산광역시', '동구', nan, nan, '봉수로', '285', '전하체육센터', '주차장', '입구옆']\n",
      "['제주특별자치도', '제주시', nan, '기자길', '7', '자치경찰단']\n",
      "['제주특별자치도', '제주시', nan, nan, '기자길', '7', '자치경찰단']\n",
      "['전라남도', '광양시', '광양읍', nan, '인덕로', '1100(광양시', '제2청사)']\n",
      "['경기도', '의왕시', nan, '오전로', '24', '의왕휴게소', '건물', '오른쪽']\n",
      "['경기도', '의왕시', nan, nan, '오전로', '24', '의왕휴게소', '건물', '오른쪽']\n",
      "['제주특별자치도', '제주시', nan, '서광로2길', '24', '실내수영장', '앞', '주차장']\n",
      "['제주특별자치도', '제주시', nan, nan, '서광로2길', '24', '실내수영장', '앞', '주차장']\n",
      "['경기도', '안산시 단원구', nan, '화랑로', '312', '출연자', '주차장', 'P4', '(관리동오른쪽)']\n",
      "['경기도', '안산시 단원구', nan, nan, '화랑로', '312', '출연자', '주차장', 'P4', '(관리동오른쪽)']\n",
      "['대구광역시', '북구', nan, '팔달로', '105']\n",
      "['대구광역시', '북구', nan, nan, '팔달로', '105']\n",
      "['경기도', '성남시 중원구', nan, '성남대로', '997', '성남시청', '제1주차장']\n",
      "['경기도', '성남시 중원구', nan, nan, '성남대로', '997', '성남시청', '제1주차장']\n",
      "['서울특별시', '중구', nan, '동호로', '287', '대형버스주차장']\n",
      "['서울특별시', '중구', nan, nan, '동호로', '287', '대형버스주차장']\n",
      "['서울특별시', '종로구', nan, '세종대로', '189', '지하주차장', '4층', 'D구역', '계단실', '앞']\n",
      "['서울특별시', '종로구', nan, nan, '세종대로', '189', '지하주차장', '4층', 'D구역', '계단실', '앞']\n",
      "['충청남도', '당진시', '신평면', nan, '서해안고속도로', '275', '행담도휴게소(서울방향)', '뒷편', '주차장']\n",
      "['울산광역시', '울주군', '서생면', nan, '해맞이로', '894', '서생면사무소', '청사', '건물', '출입구', '우측', '주차장']\n",
      "['제주특별자치도', '제주시', nan, '지석13길', '6', '주차장']\n",
      "['제주특별자치도', '제주시', nan, nan, '지석13길', '6', '주차장']\n",
      "['경기도', '가평군', '설악면', nan, '미사리로540번길', '51']\n",
      "['강원도', '평창군', '용평면', nan, '경강로', '2159 58']\n",
      "['강원도', '강릉시', '성산면', nan, '영동고속도로', '231', '(보광리)']\n",
      "['제주특별자치도', '서귀포시', '성산읍', nan, '일출로', '284 6', '공중화장실', '앞', '전기차', '주차면']\n",
      "['경상남도', '산청군', '단성면', nan, '통영대전고속도로', '77', '(방목리)']\n",
      "['강원도', '춘천시', nan, '북한강변길', '688', '지하주차장', 'D15']\n",
      "['강원도', '춘천시', nan, nan, '북한강변길', '688', '지하주차장', 'D15']\n",
      "['충청북도', '청주시 흥덕구', '옥산면', nan, '경부고속도로', '309', '(오산리)']\n",
      "['충청북도', '괴산군', '장연면', nan, '중부내륙고속도로', '204', '(오가리)']\n",
      "['제주특별자치도', '제주시', '조천읍', nan, '516로', '1865', '성판악휴게소']\n",
      "['경상남도', '함안군', '칠서면', nan, '공단안길', '12', '(농협)']\n",
      "['강원도', '강릉시', '구정면', nan, '동해고속도로', '345', '(제비리)']\n",
      "['경상북도', '경주시', '건천읍', nan, '경부고속도로', '77', '(방내리)']\n",
      "['경상남도', '창원시 마산합포구', '진동면', nan, '신서촌로', '13', '진동면사무소']\n",
      "['경기도', '고양시 덕양구', nan, '고양시청로', '10', '주차장', '입구', '전', '우측']\n",
      "['경기도', '고양시 덕양구', nan, nan, '고양시청로', '10', '주차장', '입구', '전', '우측']\n",
      "['경기도', '연천군', '연천읍', nan, '연천로', '220']\n",
      "['경상북도', '경산시', '진량읍', nan, '대학로', '1089', '고분군', '입구', '우측', '옥외', '주차장']\n",
      "['충청북도', '괴산군', '장연면', nan, '중부내륙고속도로', '205']\n",
      "['강원도', '횡성군', '안흥면', nan, '영동고속도로', '154']\n",
      "['전라북도', '무주군', '안성면', nan, '통영대전고속도로', '148']\n",
      "['충청남도', '서천군', '비인면', nan, '서해안고속도로', '168', '(성산리)']\n",
      "['충청남도', '부여군', '내산면', nan, '서천공주고속도로', '26']\n",
      "['강원도', '삼척시', nan, '청석로3길', '16 41']\n",
      "['강원도', '삼척시', nan, nan, '청석로3길', '16 41']\n",
      "['경기도', '화성시', '팔탄면', nan, '서해안고속도로', '302', '알뜰휴게소', '우측']\n",
      "['서울특별시', '관악구', nan, '낙성대로4가길', '5']\n",
      "['서울특별시', '관악구', nan, nan, '낙성대로4가길', '5']\n",
      "['경상북도', '김천시', '농소면', nan, '경부고속도로', '193', '주차장']\n",
      "['전라남도', '보성군', '보성읍', nan, '송재로', '165', '보성군청', '주차장']\n",
      "['전라남도', '여수시', nan, '선소로', '93', '여수흥국체육관']\n",
      "['전라남도', '여수시', nan, nan, '선소로', '93', '여수흥국체육관']\n",
      "['충청북도', '충주시', '중앙탑면', nan, '중부내륙고속도로', '231', '(용전리)']\n",
      "['충청북도', '옥천군', '옥천읍', nan, '옥천동이로', '242 34']\n",
      "['충청남도', '천안시 동남구', '수신면', nan, '성남로', '793 40']\n",
      "['제주특별자치도', '서귀포시', nan, '중문관광로', '224', '본관', '주차장', '면세점', '앞', '대형주차장']\n",
      "['제주특별자치도', '서귀포시', nan, nan, '중문관광로', '224', '본관', '주차장', '면세점', '앞', '대형주차장']\n",
      "['경기도', '이천시', '부발읍', nan, '무촌로', '121']\n",
      "['부산광역시', '사하구', nan, '하신중앙로', '313', '주차장', '출구', '오른쪽']\n",
      "['부산광역시', '사하구', nan, nan, '하신중앙로', '313', '주차장', '출구', '오른쪽']\n",
      "['경상북도', '경산시', '와촌면', nan, '강학길', '103', '(강학리)']\n",
      "['전라남도', '화순군', '능주면', nan, '학포로', '2275번지']\n",
      "['제주특별자치도', '제주시', nan, '선덕로8길', '12', '설문대여성문화센터']\n",
      "['제주특별자치도', '제주시', nan, nan, '선덕로8길', '12', '설문대여성문화센터']\n",
      "['강원도', '원주시', '호저면', nan, '마근거리길', '110', '(옥산리)', '215']\n",
      "['강원도', '원주시', '문막읍', nan, '개나루길', '13']\n",
      "['제주특별자치도', '제주시', '애월읍', nan, '일주서로', '6339', '애월읍도서관']\n",
      "['전라남도', '무안군', '망운면', nan, '공항로', '970 260']\n",
      "['경기도', '용인시 수지구', nan, '경부고속도로', '400', '(죽전동)']\n",
      "['경기도', '용인시 수지구', nan, nan, '경부고속도로', '400', '(죽전동)']\n",
      "['경상북도', '울진군', '죽변면', nan, '봉화길', '15']\n",
      "['경상북도', '구미시', '옥성면', nan, '중부내륙고속도로', '129 1', '농산물매장', '옆', '옥외', '주차장']\n",
      "['경상북도', '포항시 북구', '흥해읍', nan, '동해대로', '1511', '주차장']\n",
      "['충청북도', '괴산군', '장연면', nan, '중부내륙고속도로', '205', '(오가리)']\n",
      "['대구광역시', '달성군', '현풍면', nan, '비슬로', '741', '(성하리)']\n",
      "['경상남도', '진주시', '문산읍', nan, '남해고속도로', '195', '주유소', '옆', '주차장']\n",
      "['경상북도', '의성군', '안계면', nan, '새못안길', '45 47', '(양곡리)']\n",
      "['전라남도', '해남군', '송지면', nan, '송호로', '105 1']\n",
      "['경기도', '성남시 분당구', nan, '성남대로43번길', '11']\n",
      "['경기도', '성남시 분당구', nan, nan, '성남대로43번길', '11']\n",
      "['경상북도', '청송군', '청송읍', nan, '군청로', '51']\n",
      "['경상남도', '고성군', '대가면', nan, '통영대전고속도로', '29', '(송계리)']\n",
      "['강원도', '고성군', '죽왕면', nan, '심층수길', '14']\n",
      "['제주특별자치도', '제주시', nan, '수목원길', '72']\n",
      "['제주특별자치도', '제주시', nan, nan, '수목원길', '72']\n",
      "['경상남도', '거제시', nan, '계룡로', '125', '민원인', '주차', '건물', '출구', '앞']\n",
      "['경상남도', '거제시', nan, nan, '계룡로', '125', '민원인', '주차', '건물', '출구', '앞']\n",
      "['경상북도', '영천시', '임고면', nan, '운주로', '777']\n",
      "['제주특별자치도', '서귀포시', nan, '돈내코로', '114', '본관주차장']\n",
      "['제주특별자치도', '서귀포시', nan, nan, '돈내코로', '114', '본관주차장']\n",
      "['강원도', '원주시', '신림면', nan, '치악로', '416']\n",
      "['경상남도', '함양군', '지곡면', nan, '효산길', '23 31', '(보산리)']\n",
      "['대구광역시', '달성군', '구지면', nan, '창리로11길', '38']\n",
      "['충청북도', '제천시', nan, '내토로', '295', '건설', '민원봉사실', '옆', '제2주차장', '입구', '왼쪽']\n",
      "['충청북도', '제천시', nan, nan, '내토로', '295', '건설', '민원봉사실', '옆', '제2주차장', '입구', '왼쪽']\n",
      "['경상북도', '포항시 남구', '호미곶면', nan, '해맞이로', '136']\n",
      "['제주특별자치도', '서귀포시', nan, '동홍로', '104', '동홍동주민센터']\n",
      "['제주특별자치도', '서귀포시', nan, nan, '동홍로', '104', '동홍동주민센터']\n",
      "['경상북도', '칠곡군', '왜관읍', nan, '경부고속도로', '159', '농산물매장', '주유소', '사이', '공터']\n",
      "['경기도', '가평군', '설악면', nan, '미사리로540번길', '51', '가평휴게소', 'SK', '가평주유소(춘천방향)', '옆']\n",
      "['전라남도', '여수시', '율촌면', nan, '여순로', '699']\n",
      "['충청북도', '진천군', '이월면', nan, '진광로', '729']\n",
      "['서울특별시', '동작구', nan, '현충로', '213', '출입구', '왼쪽']\n",
      "['서울특별시', '동작구', nan, nan, '현충로', '213', '출입구', '왼쪽']\n",
      "['제주특별자치도', '제주시', '조천읍', nan, '조천18길', '11 1', '본관', '주차장']\n",
      "['서울특별시', '영등포구', nan, '의사당대로', '1', '국회도서관', '앞']\n",
      "['서울특별시', '영등포구', nan, nan, '의사당대로', '1', '국회도서관', '앞']\n",
      "['충청남도', '계룡시', nan, '장안로', '46']\n",
      "['충청남도', '계룡시', nan, nan, '장안로', '46']\n",
      "['서울특별시', '서대문구', nan, '연희로', '353']\n",
      "['서울특별시', '서대문구', nan, nan, '연희로', '353']\n",
      "['충청남도', '천안시 서북구', '입장면', nan, '연곡길', '407']\n",
      "['경기도', '화성시', '팔탄면', nan, '서해안고속도로', '302']\n",
      "['울산광역시', '동구', nan, '동진5길', '71']\n",
      "['울산광역시', '동구', nan, nan, '동진5길', '71']\n",
      "['강원도', '삼척시', nan, '중앙로', '296']\n",
      "['강원도', '삼척시', nan, nan, '중앙로', '296']\n",
      "['제주특별자치도', '서귀포시', nan, '중앙로', '105']\n",
      "['제주특별자치도', '서귀포시', nan, nan, '중앙로', '105']\n",
      "['경상북도', '문경시', nan, '중부내륙고속도로', '174 1', '휴게소', '우측', '보조화장실', '옆', '옥외', '주차장']\n",
      "['경상북도', '문경시', nan, nan, '중부내륙고속도로', '174 1', '휴게소', '우측', '보조화장실', '옆', '옥외', '주차장']\n",
      "['제주특별자치도', '서귀포시', '표선면', nan, '민속해안로', '631 45']\n",
      "['전라남도', '광양시', '진월면', nan, '신답길', '24 14']\n",
      "['제주특별자치도', '제주시', '한림읍', nan, '한림중앙로', '71 9']\n",
      "['경상남도', '거창군', '가조면', nan, '가조가야로', '1523', '(도리)']\n",
      "['충청남도', '부여군', '내산면', nan, '서천공주고속도로', '25', '(율암리)']\n",
      "['경상북도', '경주시', nan, '북성로', '87']\n",
      "['경상북도', '경주시', nan, nan, '북성로', '87']\n",
      "['충청남도', '서산시', nan, '관아문길', '1', '수도과', '주차장', '정면']\n",
      "['충청남도', '서산시', nan, nan, '관아문길', '1', '수도과', '주차장', '정면']\n",
      "['경상북도', '경주시', '양남면', nan, '다래길', '8']\n",
      "['제주특별자치도', '제주시', nan, '서광로2길', '24', '애향운동장', '앞', '주차장']\n",
      "['제주특별자치도', '제주시', nan, nan, '서광로2길', '24', '애향운동장', '앞', '주차장']\n",
      "['전라남도', '함평군', '함평읍', nan, '서해안고속도로', '31', '주차장', '입구']\n",
      "['경기도', '성남시 분당구', nan, '서현로', '459', '율동자연공원', 'B주차장(서현로방면)', '출입구', '왼쪽']\n",
      "['경기도', '성남시 분당구', nan, nan, '서현로', '459', '율동자연공원', 'B주차장(서현로방면)', '출입구', '왼쪽']\n",
      "['제주특별자치도', '제주시', nan, '삼동길', '41', '보건환경연구원']\n",
      "['제주특별자치도', '제주시', nan, nan, '삼동길', '41', '보건환경연구원']\n",
      "['경상북도', '군위군', '군위읍', nan, '군청로', '200']\n",
      "['강원도', '평창군', '대관령면', nan, '솔봉로', '325', '알펜시아', '컨벤션센터', '주차장']\n",
      "['충청남도', '논산시', '벌곡면', nan, '호남고속도로', '2465 10', '(신양리)']\n",
      "['대구광역시', '수성구', nan, '무학로', '215', '민원실', '앞']\n",
      "['대구광역시', '수성구', nan, nan, '무학로', '215', '민원실', '앞']\n",
      "['강원도', '동해시', nan, '추암길', '200', '동해러시아대게마을', '옆', '주차장']\n",
      "['강원도', '동해시', nan, nan, '추암길', '200', '동해러시아대게마을', '옆', '주차장']\n",
      "['서울특별시', '영등포구', nan, '영중로', '125', '지상주차장(외부', '1F)']\n",
      "['서울특별시', '영등포구', nan, nan, '영중로', '125', '지상주차장(외부', '1F)']\n",
      "['제주특별자치도', '서귀포시', nan, '소보리당로164번길', '62', '주차장', '좌측']\n",
      "['제주특별자치도', '서귀포시', nan, nan, '소보리당로164번길', '62', '주차장', '좌측']\n",
      "['서울특별시', '중구', nan, '장충단로', '59', '국립극장', '좌측', '출구', '주차장']\n",
      "['서울특별시', '중구', nan, nan, '장충단로', '59', '국립극장', '좌측', '출구', '주차장']\n",
      "['강원도', '동해시', nan, '평원로', '15']\n",
      "['강원도', '동해시', nan, nan, '평원로', '15']\n",
      "['경상남도', '통영시', nan, '큰발개1길', '33', '마리나요트클럽', '앞']\n",
      "['경상남도', '통영시', nan, nan, '큰발개1길', '33', '마리나요트클럽', '앞']\n",
      "['충청남도', '천안시 서북구', '성거읍', nan, '돌다리길', '23 37']\n",
      "['제주특별자치도', '제주시', nan, '해안마을서2길', '19', '해군호텔']\n",
      "['제주특별자치도', '제주시', nan, nan, '해안마을서2길', '19', '해군호텔']\n",
      "['전라남도', '순천시', nan, '남승룡로', '66', '국가정원1호길', '47', '서문', '주차장', '우측']\n",
      "['전라남도', '순천시', nan, nan, '남승룡로', '66', '국가정원1호길', '47', '서문', '주차장', '우측']\n",
      "['강원도', '속초시', nan, '미시령로', '3054']\n",
      "['강원도', '속초시', nan, nan, '미시령로', '3054']\n",
      "['경기도', '용인시 기흥구', nan, '공세로', '173', '(공세동)']\n",
      "['경기도', '용인시 기흥구', nan, nan, '공세로', '173', '(공세동)']\n",
      "['충청남도', '서산시', '해미면', nan, '서해안고속도로', '241']\n",
      "['서울특별시', '용산구', nan, '원효로35길', '53', '옥상']\n",
      "['서울특별시', '용산구', nan, nan, '원효로35길', '53', '옥상']\n",
      "['경상북도', '청도군', '화양읍', nan, '청화로', '70', '후문', '앞']\n",
      "['경상남도', '양산시', '하북면', nan, '경부고속도로', '31 1', '(순지리)']\n",
      "['제주특별자치도', '서귀포시', nan, '남성중로', '2 15', '천지연폭포', '매표소', '앞']\n",
      "['제주특별자치도', '서귀포시', nan, nan, '남성중로', '2 15', '천지연폭포', '매표소', '앞']\n",
      "['제주특별자치도', '제주시', '추자면', nan, '추자로', '26', '추자면사무소']\n",
      "['인천광역시', '계양구', nan, '봉오대로', '679 1', '작전역', '2번', '출구', '100m', '앞']\n",
      "['인천광역시', '계양구', nan, nan, '봉오대로', '679 1', '작전역', '2번', '출구', '100m', '앞']\n",
      "['경기도', '하남시', nan, '중부고속도로', '117 1', '(천현동)']\n",
      "['경기도', '하남시', nan, nan, '중부고속도로', '117 1', '(천현동)']\n",
      "['전라남도', '여수시', '돌산읍', nan, '강남로', '31']\n",
      "['부산광역시', '해운대구', nan, '해운대로', '731']\n",
      "['부산광역시', '해운대구', nan, nan, '해운대로', '731']\n",
      "['충청남도', '금산군', '군북면', nan, '대암길', '34 30', '(외부리)']\n",
      "['충청남도', '당진시', '석문면', nan, '대호만로', '1543']\n",
      "['제주특별자치도', '서귀포시', nan, '보목로64번길', '155', '보목하수처리장']\n",
      "['제주특별자치도', '서귀포시', nan, nan, '보목로64번길', '155', '보목하수처리장']\n",
      "['제주특별자치도', '제주시', '조천읍', nan, '신북로', '194']\n",
      "['충청북도', '옥천군', '옥천읍', nan, '동부로', '15']\n",
      "['충청북도', '청주시 서원구', nan, '사직대로', '227']\n",
      "['충청북도', '청주시 서원구', nan, nan, '사직대로', '227']\n",
      "['경상북도', '문경시', nan, '중부내륙고속도로', '174', '(유곡동)']\n",
      "['경상북도', '문경시', nan, nan, '중부내륙고속도로', '174', '(유곡동)']\n",
      "['강원도', '양양군', '서면', nan, '산얏골길', '30']\n",
      "['강원도', '양양군', '강현면', nan, '동해대로', '3094']\n",
      "['대전광역시', '대덕구', nan, '석봉로38번길', '55', '대덕구보건소']\n",
      "['대전광역시', '대덕구', nan, nan, '석봉로38번길', '55', '대덕구보건소']\n",
      "['제주특별자치도', '제주시', '조천읍', nan, '선교로', '569 36', '소형주차장']\n",
      "['제주특별자치도', '서귀포시', nan, '부두로', '1', '서귀포', '자치경찰대']\n",
      "['제주특별자치도', '서귀포시', nan, nan, '부두로', '1', '서귀포', '자치경찰대']\n",
      "['경상남도', '사천시', '용현면', nan, '사천대로', '912']\n",
      "['경상북도', '울진군', '후포면', nan, '삼율로', '17', '후포문화복지센터']\n",
      "['제주특별자치도', '제주시', '애월읍', nan, '애월해안로', '400 9']\n",
      "['전라북도', '익산시', nan, '무왕로', '1397']\n",
      "['전라북도', '익산시', nan, nan, '무왕로', '1397']\n",
      "['충청남도', '천안시 서북구', '성거읍', nan, '봉주로', '75']\n",
      "['충청남도', '공주시', '정안면', nan, '장원장자울길', '73 47']\n",
      "['강원도', '삼척시', nan, '새천년도로', '673']\n",
      "['강원도', '삼척시', nan, nan, '새천년도로', '673']\n",
      "['경상남도', '합천군', '합천읍', nan, '동서로', '119']\n",
      "['경상북도', '영덕군', '병곡면', nan, '병곡길', '72']\n",
      "['경상북도', '안동시', nan, '퇴계로', '115', '좌측', '주차장']\n",
      "['경상북도', '안동시', nan, nan, '퇴계로', '115', '좌측', '주차장']\n",
      "['경상북도', '성주군', '성주읍', nan, '성주로', '3200', '뒤편', '주차장']\n",
      "['경상남도', '김해시', nan, '부곡로', '57']\n",
      "['경상남도', '김해시', nan, nan, '부곡로', '57']\n",
      "['경상북도', '문경시', nan, '중부내륙고속도로', '173', '(유곡동)', '주유소', '옆(셀프코너)', '옥외', '주차장']\n",
      "['경상북도', '문경시', nan, nan, '중부내륙고속도로', '173', '(유곡동)', '주유소', '옆(셀프코너)', '옥외', '주차장']\n",
      "['강원도', '삼척시', '근덕면', nan, '상맹방길', '30 80']\n",
      "['충청북도', '충주시', '산척면', nan, '용암길', '94']\n",
      "['전라남도', '영암군', '영암읍', nan, '군청로', '1', '영암군청', '주차장']\n",
      "['서울특별시', '강남구', nan, '봉은사로', '130', '지하5층', '우측']\n",
      "['서울특별시', '강남구', nan, nan, '봉은사로', '130', '지하5층', '우측']\n",
      "['경상북도', '포항시 남구', nan, '동해안로', '6001']\n",
      "['경상북도', '포항시 남구', nan, nan, '동해안로', '6001']\n",
      "['제주특별자치도', '제주시', nan, '오남로', '221', '본관', '주차장']\n",
      "['제주특별자치도', '제주시', nan, nan, '오남로', '221', '본관', '주차장']\n",
      "['충청북도', '충주시', nan, '으뜸로', '21']\n",
      "['충청북도', '충주시', nan, nan, '으뜸로', '21']\n",
      "['부산광역시', '동래구', nan, '중앙대로', '1393', '(온천동)']\n",
      "['부산광역시', '동래구', nan, nan, '중앙대로', '1393', '(온천동)']\n",
      "['제주특별자치도', '서귀포시', '표선면', nan, '표선중앙로', '74']\n",
      "['충청북도', '단양군', '대강면', nan, '대강로', '74']\n",
      "['제주특별자치도', '제주시', '한경면', nan, '칠전로', '41', '본관', '주차장']\n",
      "['강원도', '동해시', nan, '동해대로', '6437', '동해휴게소동해방향', '(망상동)']\n",
      "['강원도', '동해시', nan, nan, '동해대로', '6437', '동해휴게소동해방향', '(망상동)']\n",
      "['경기도', '남양주시', '화도읍', nan, '경춘로', '1992', '지상주차장', '3층', '20구역']\n",
      "['제주특별자치도', '제주시', nan, '첨단로', '241', '주차장']\n",
      "['제주특별자치도', '제주시', nan, nan, '첨단로', '241', '주차장']\n",
      "['광주광역시', '북구', nan, '동문대로', '603']\n",
      "['광주광역시', '북구', nan, nan, '동문대로', '603']\n",
      "['대전광역시', '유성구', nan, '가정북로', '68']\n",
      "['대전광역시', '유성구', nan, nan, '가정북로', '68']\n",
      "['제주특별자치도', '제주시', '조천읍', nan, '선흘서5길', '7']\n",
      "['경상남도', '창원시 의창구', nan, '원이대로', '320', '(두대동)']\n",
      "['경상남도', '창원시 의창구', nan, nan, '원이대로', '320', '(두대동)']\n",
      "['전라북도', '고창군', '고창읍', nan, '동리로', '117']\n",
      "['경기도', '화성시', '매송면', nan, '서해안고속도로', '316 1']\n",
      "['대전광역시', '유성구', nan, '가정로', '168', '입구', '경비실', '앞', '주차장']\n",
      "['대전광역시', '유성구', nan, nan, '가정로', '168', '입구', '경비실', '앞', '주차장']\n",
      "['제주특별자치도', '제주시', '애월읍', nan, '상귀길', '173', '제주농업기술센터']\n",
      "['강원도', '평창군', '용평면', nan, '탑거리길', '63', '내고장', '으뜸상품', '판매장', '앞']\n",
      "['경상북도', '김천시', nan, '혁신6로', '31']\n",
      "['경상북도', '김천시', nan, nan, '혁신6로', '31']\n",
      "['대구광역시', '달서구', nan, '문화회관4길', '22 7', '건너편', '주차장', '좌측']\n",
      "['대구광역시', '달서구', nan, nan, '문화회관4길', '22 7', '건너편', '주차장', '좌측']\n",
      "['경상남도', '남해군', '이동면', nan, '보리암로', '287']\n",
      "['경상북도', '경산시', nan, '남매로', '159']\n",
      "['경상북도', '경산시', nan, nan, '남매로', '159']\n",
      "['전라북도', '군산시', '성산면', nan, '서해안고속도로', '141']\n",
      "['전라북도', '장수군', '계북면', nan, '당저길', '59']\n",
      "['충청북도', '영동군', '영동읍', nan, '영동황간로', '15']\n",
      "['전라북도', '무주군', '안성면', nan, '안성로', '246 17']\n",
      "['충청북도', '영동군', '황간면', nan, '회포1길', '65', '(회포리)']\n",
      "['충청북도', '충주시', '중앙탑면', nan, '중부내륙고속도로', '230', '(용전리)']\n",
      "['서울특별시', '중랑구', nan, '망우로', '353', '지하3층', '05']\n",
      "['서울특별시', '중랑구', nan, nan, '망우로', '353', '지하3층', '05']\n",
      "['경기도', '화성시', '매송면', nan, '서해안고속도로', '315']\n",
      "['전라북도', '완주군', '구이면', nan, '모악산길', '83 13']\n",
      "['제주특별자치도', '서귀포시', '표선면', nan, '한마음초등로', '399', '표선생활체육관']\n",
      "['제주특별자치도', '제주시', '구좌읍', nan, '다랑쉬북로', '68 92', '환경성질환예방관리센터']\n",
      "['부산광역시', '부산진구', nan, '시민공원로', '73']\n",
      "['부산광역시', '부산진구', nan, nan, '시민공원로', '73']\n",
      "['경기도', '성남시 분당구', nan, '성남대로', '808', '옥외주차장']\n",
      "['경기도', '성남시 분당구', nan, nan, '성남대로', '808', '옥외주차장']\n",
      "['충청남도', '금산군', '군북면', nan, '어필각로', '300']\n",
      "['충청남도', '천안시 동남구', nan, '쉼1길', '42', '(삼룡동)173 1']\n",
      "['충청남도', '천안시 동남구', nan, nan, '쉼1길', '42', '(삼룡동)173 1']\n",
      "['충청남도', '홍성군', '홍북읍', nan, '홍북로453번길', '50']\n",
      "['경기도', '포천시', '소홀읍', nan, '호국로', '56번지']\n",
      "['경기도', '고양시 덕양구', nan, '고양대로', '1955']\n",
      "['경기도', '고양시 덕양구', nan, nan, '고양대로', '1955']\n",
      "['전라남도', '강진군', '군동면', nan, '종합운동장', '60']\n",
      "['경기도', '광주시', '곤지암읍', nan, '만삼로', '211']\n",
      "['광주광역시', '광산구', nan, '오운로', '433 1']\n",
      "['광주광역시', '광산구', nan, nan, '오운로', '433 1']\n",
      "['전라북도', '무주군', '무주읍', nan, '향학로', '49']\n",
      "['광주광역시', '서구', nan, '내방로', '111', '']\n",
      "['광주광역시', '서구', nan, nan, '내방로', '111', '']\n",
      "['경기도', '남양주시', nan, '별내3로', '64 21', '주차장', '입구']\n",
      "['경기도', '남양주시', nan, nan, '별내3로', '64 21', '주차장', '입구']\n",
      "['전라남도', '장흥군', '장흥읍', nan, '장흥로', '21', '장흥군청', '후문', '주차장']\n",
      "['부산광역시', '사상구', nan, '가야대로', '309', '주차장', '입구', '정면']\n",
      "['부산광역시', '사상구', nan, nan, '가야대로', '309', '주차장', '입구', '정면']\n",
      "['경기도', '광주시', nan, '경안로', '13 6', '주차장', '1층', '안쪽']\n",
      "['경기도', '광주시', nan, nan, '경안로', '13 6', '주차장', '1층', '안쪽']\n",
      "['경상남도', '거창군', '거창읍', nan, '중앙로', '103']\n",
      "['충청남도', '천안시 동남구', '수신면', nan, '수신로', '576']\n",
      "['전라북도', '군산시', '옥서면', nan, '산동길', '2']\n",
      "['충청북도', '청주시 청원구', '오창읍', nan, '중부고속도로', '20']\n",
      "['경기도', '용인시 처인구', nan, '주북로', '66 14', '(고림동)']\n",
      "['경기도', '용인시 처인구', nan, nan, '주북로', '66 14', '(고림동)']\n",
      "['강원도', '홍천군', '홍천읍', nan, '석화로', '93']\n",
      "['제주특별자치도', '제주시', nan, '천수로', '72', '신천지아파트']\n",
      "['제주특별자치도', '제주시', nan, nan, '천수로', '72', '신천지아파트']\n",
      "['전라남도', '영광군', '영광읍', nan, '천년로13길', '2 34', '주차장']\n",
      "['경상북도', '영천시', '청통면', nan, '청통로', '334 42', '(우천리)']\n",
      "['광주광역시', '북구', nan, '첨단과기로208번길', '43']\n",
      "['광주광역시', '북구', nan, nan, '첨단과기로208번길', '43']\n",
      "['대전광역시', '대덕구', nan, '산업단지로', '27', '(상서동)', '236 1']\n",
      "['대전광역시', '대덕구', nan, nan, '산업단지로', '27', '(상서동)', '236 1']\n",
      "['서울특별시', '서초구', nan, '남부순환로340길', '58']\n",
      "['서울특별시', '서초구', nan, nan, '남부순환로340길', '58']\n",
      "['경상남도', '함양군', '지곡면', nan, '효산길', '23 11', '(보산리)']\n",
      "['충청남도', '홍성군', '은하면', nan, '서해안고속도로', '221', '출구방향', '야외쉼터', '부근', '옥외', '주차장']\n",
      "['제주특별자치도', '제주시', nan, '516로', '2596', '한라생태숲관리연구소']\n",
      "['제주특별자치도', '제주시', nan, nan, '516로', '2596', '한라생태숲관리연구소']\n",
      "['서울특별시', '양천구', nan, '목동서로', '170', '지상주차장', '2층', '01구역']\n",
      "['서울특별시', '양천구', nan, nan, '목동서로', '170', '지상주차장', '2층', '01구역']\n",
      "['울산광역시', '남구', nan, '꽃대나리로', '140']\n",
      "['울산광역시', '남구', nan, nan, '꽃대나리로', '140']\n",
      "['경상북도', '문경시', nan, '중부내륙고속도로', '173']\n",
      "['경상북도', '문경시', nan, nan, '중부내륙고속도로', '173']\n",
      "['부산광역시', '강서구', nan, '명지오션시티13로', '12 11', '주차장', '입구', '왼쪽']\n",
      "['부산광역시', '강서구', nan, nan, '명지오션시티13로', '12 11', '주차장', '입구', '왼쪽']\n",
      "['대구광역시', '달성군', '현풍면', nan, '성하길', '48', '(성하리)']\n",
      "['전라북도', '순창군', '순창읍', nan, '광주대구고속도로', '27']\n",
      "['경상북도', '칠곡군', '동명면', nan, '중앙고속도로', '122', '(가천리)']\n",
      "['경기도', '가평군', '청평면', nan, '은고개로', '23']\n",
      "['인천광역시', '동구', nan, '염전로', '30']\n",
      "['인천광역시', '동구', nan, nan, '염전로', '30']\n",
      "['대구광역시', '수성구', nan, '무학로', '203']\n",
      "['대구광역시', '수성구', nan, nan, '무학로', '203']\n",
      "['경상북도', '고령군', '대가야읍', nan, '대가야로', '1411']\n",
      "['경상북도', '청도군', '청도읍', nan, '하지길', '59 50', '휴게소와', '주유소', '사이']\n",
      "['경상북도', '포항시 북구', nan, '삼호로', '533']\n",
      "['경상북도', '포항시 북구', nan, nan, '삼호로', '533']\n",
      "['서울특별시', '강동구', nan, '선사로', '70', '입구', '좌측', '끝']\n",
      "['서울특별시', '강동구', nan, nan, '선사로', '70', '입구', '좌측', '끝']\n",
      "['경기도', '고양시 덕양구', nan, '화중로104번길', '13', '입구', '좌측']\n",
      "['경기도', '고양시 덕양구', nan, nan, '화중로104번길', '13', '입구', '좌측']\n",
      "['충청남도', '당진시', nan, '시청1로', '1', '후문', '앞', '우측']\n",
      "['충청남도', '당진시', nan, nan, '시청1로', '1', '후문', '앞', '우측']\n",
      "['인천광역시', '부평구', nan, '부흥로', '315']\n",
      "['인천광역시', '부평구', nan, nan, '부흥로', '315']\n",
      "['경기도', '수원시 권선구', nan, '수인로', '126', '수원도시공사', '앞', '주차장']\n",
      "['경기도', '수원시 권선구', nan, nan, '수인로', '126', '수원도시공사', '앞', '주차장']\n",
      "['제주특별자치도', '제주시', nan, '1100로', '2070 61', '오른쪽', '화장실', '앞']\n",
      "['제주특별자치도', '제주시', nan, nan, '1100로', '2070 61', '오른쪽', '화장실', '앞']\n",
      "['충청남도', '천안시 서북구', nan, '월봉로', '95 0', '(쌍용2동)']\n",
      "['충청남도', '천안시 서북구', nan, nan, '월봉로', '95 0', '(쌍용2동)']\n",
      "['제주특별자치도', '서귀포시', nan, '쇠소깍로', '104', '쇠소깍', '끝', '주차장']\n",
      "['제주특별자치도', '서귀포시', nan, nan, '쇠소깍로', '104', '쇠소깍', '끝', '주차장']\n",
      "['강원도', '강릉시', '옥계면', nan, '동해고속도로', '320', '(주수리)']\n",
      "['제주특별자치도', '제주시', '구좌읍', nan, '김녕로', '209', '구좌체육관', '본관', '주차장']\n",
      "['경상남도', '함안군', '군북면', nan, '현포로', '205', '(유현리)']\n",
      "['경상남도', '사천시', '곤양면', nan, '서삼로', '619', '(묵곡리)']\n",
      "['서울특별시', '강북구', nan, '삼양로', '247', '삼양시장', '지상주차장', '3층', '324구역']\n",
      "['서울특별시', '강북구', nan, nan, '삼양로', '247', '삼양시장', '지상주차장', '3층', '324구역']\n",
      "['서울특별시', '강동구', nan, '진황도로29길', '34', '지하1층', '26']\n",
      "['서울특별시', '강동구', nan, nan, '진황도로29길', '34', '지하1층', '26']\n",
      "['전라남도', '무안군', '삼향읍', nan, '오룡길', '1']\n",
      "['부산광역시', '사상구', nan, '낙동대로', '733', '(엄궁동)']\n",
      "['부산광역시', '사상구', nan, nan, '낙동대로', '733', '(엄궁동)']\n",
      "['강원도', '강릉시', '구정면', nan, '회산로', '88 35', '(제비리)']\n",
      "['충청남도', '서천군', '장항읍', nan, '성화로', '92']\n",
      "['서울특별시', '동대문구', nan, '천호대로', '145', '동대문구청', '옥외주차장']\n",
      "['서울특별시', '동대문구', nan, nan, '천호대로', '145', '동대문구청', '옥외주차장']\n",
      "['강원도', '원주시', '신림면', nan, '치악로', '416', '(금창리)']\n",
      "['서울특별시', '강서구', nan, '화곡로', '398', '지하1층', '01']\n",
      "['서울특별시', '강서구', nan, nan, '화곡로', '398', '지하1층', '01']\n",
      "['경상북도', '의성군', '안계면', nan, '새못안길', '45 49', '(양곡리)']\n",
      "['강원도', '화천군', '간동면', nan, '파로호로', '919']\n",
      "['경상북도', '칠곡군', '동명면', nan, '중앙고속도로', '122']\n",
      "['인천광역시', '중구', nan, '신포로27번길', '80']\n",
      "['인천광역시', '중구', nan, nan, '신포로27번길', '80']\n",
      "['경기도', '화성시', nan, '태안로', '145', '주차장']\n",
      "['경기도', '화성시', nan, nan, '태안로', '145', '주차장']\n",
      "['경기도', '파주시', nan, '시청로', '50', '파주시청', '주차빌딩', '잎구', '앞']\n",
      "['경기도', '파주시', nan, nan, '시청로', '50', '파주시청', '주차빌딩', '잎구', '앞']\n",
      "['경기도', '파주시', nan, '한울로', '123']\n",
      "['경기도', '파주시', nan, nan, '한울로', '123']\n",
      "['경상남도', '창녕군', '영산면', nan, '장척호수길', '56 110', '(신제리)']\n",
      "['경상북도', '포항시 남구', '장기면', nan, '동해안로', '2987']\n",
      "['충청남도', '금산군', '군북면', nan, '대암길', '34 30']\n",
      "['경상남도', '함안군', '칠서면', nan, '계룡로', '122 1', '(계내리)']\n",
      "['전라북도', '고창군', '고창읍', nan, '서해안고속도로', '80', '(신월리)']\n",
      "['전라북도', '완주군', '이서면', nan, '오공로', '12', '입구', '우측']\n",
      "['경기도', '성남시 분당구', nan, '황새울로311번길', '28 0', '(서현동)']\n",
      "['경기도', '성남시 분당구', nan, nan, '황새울로311번길', '28 0', '(서현동)']\n",
      "['경상남도', '진주시', nan, '동진로', '440', '지하2층', '주차장', 'C6']\n",
      "['경상남도', '진주시', nan, nan, '동진로', '440', '지하2층', '주차장', 'C6']\n",
      "['경기도', '의왕시', nan, '오전로', '24', '하이패스', '안내소', '뒷편']\n",
      "['경기도', '의왕시', nan, nan, '오전로', '24', '하이패스', '안내소', '뒷편']\n",
      "['서울특별시', '영등포구', nan, '영중로3길', '7', '지하1층', '여성전용구역']\n",
      "['서울특별시', '영등포구', nan, nan, '영중로3길', '7', '지하1층', '여성전용구역']\n",
      "['충청남도', '공주시', '의당면', nan, '당진영덕고속도로', '72', '(송선동)']\n",
      "['대전광역시', '서구', nan, '도안북로', '88', '정문', '오른쪽', '캠퍼스타운', '주차장']\n",
      "['대전광역시', '서구', nan, nan, '도안북로', '88', '정문', '오른쪽', '캠퍼스타운', '주차장']\n",
      "['강원도', '영월군', '영월읍', nan, '제방안길', '100', '수영장', '좌측', '주차장']\n",
      "['충청북도', '옥천군', '동이면', nan, '금강로', '596', '(조령리)']\n",
      "['제주특별자치도', '제주시', '조천읍', nan, '남조로', '2023', '장애인주차장', '2번']\n",
      "['경기도', '양평군', '양평읍', nan, '마유산로', '1']\n",
      "['경상북도', '울진군', '금강송면', nan, '불영계곡로', '1710']\n",
      "['전라남도', '순천시', '서면', nan, '호남고속도로', '3', '(비월리)']\n",
      "['전라남도', '함평군', '엄다면', nan, '무안광주고속도로', '12', '(화양리)']\n",
      "['광주광역시', '서구', nan, '금화로', '240', '지하주차장', '1층', '116구역']\n",
      "['광주광역시', '서구', nan, nan, '금화로', '240', '지하주차장', '1층', '116구역']\n",
      "['충청남도', '예산군', '신양면', nan, '당진영덕고속도로', '34', '(서계양리)']\n",
      "['제주특별자치도', '제주시', '구좌읍', nan, '비자숲길', '55', '주차장', '좌측', '화장실', '앞']\n",
      "['강원도', '강릉시', '성산면', nan, '영동고속도로', '232', '(보광리)']\n",
      "['전라남도', '화순군', '화순읍', nan, '학포로', '2698', '서문주차장']\n",
      "['경기도', '가평군', '설악면', nan, '미사리로', '544', '가평휴게소', 'SK', '가평주유소(서울방향)', '옆']\n",
      "['제주특별자치도', '제주시', '구좌읍', nan, '일주동로', '2706 40']\n",
      "['경기도', '여주시', '가남읍', nan, '화평길', '116', '(본두리)']\n",
      "['서울특별시', '마포구', nan, '토정로', '2', '2층', '계단쪽']\n",
      "['서울특별시', '마포구', nan, nan, '토정로', '2', '2층', '계단쪽']\n",
      "['전라남도', '영암군', '시종면', nan, '내동중앙로', '41']\n",
      "['경상북도', '구미시', nan, '단계동길', '52', '단계교', '쉼터', '옆', '주차장']\n",
      "['경상북도', '구미시', nan, nan, '단계동길', '52', '단계교', '쉼터', '옆', '주차장']\n",
      "['전라남도', '고흥군', '과역면', nan, '무궁화길', '12']\n",
      "['제주특별자치도', '제주시', nan, '오남로', '7 13', '도남1차e편한세상아파트']\n",
      "['제주특별자치도', '제주시', nan, nan, '오남로', '7 13', '도남1차e편한세상아파트']\n",
      "['경기도', '용인시 처인구', '이동면', nan, '남북대로', '2616']\n",
      "['제주특별자치도', '제주시', nan, '명림로', '520', '본관', '주차장']\n",
      "['제주특별자치도', '제주시', nan, nan, '명림로', '520', '본관', '주차장']\n",
      "['전라북도', '무주군', '안성면', nan, '통영대전고속도로', '148', '(공진리)']\n",
      "['부산광역시', '강서구', nan, '공항진입로', '108']\n",
      "['부산광역시', '강서구', nan, nan, '공항진입로', '108']\n",
      "['제주특별자치도', '제주시', nan, '연북로', '1(노형동)']\n",
      "['제주특별자치도', '제주시', nan, nan, '연북로', '1(노형동)']\n",
      "['전라북도', '군산시', nan, '수송로', '185', '(수송동)']\n",
      "['전라북도', '군산시', nan, nan, '수송로', '185', '(수송동)']\n",
      "['경상북도', '경주시', '건천읍', nan, '경부고속도로', '76']\n",
      "['충청남도', '천안시 서북구', nan, '번영로', '208']\n",
      "['충청남도', '천안시 서북구', nan, nan, '번영로', '208']\n",
      "['경상남도', '산청군', '단성면', nan, '통영대전고속도로', '76', '(방목리)']\n",
      "['경기도', '의정부시', nan, '장곡로', '224', '(장암동)']\n",
      "['경기도', '의정부시', nan, nan, '장곡로', '224', '(장암동)']\n",
      "['경상북도', '포항시 남구', '구룡포읍', nan, '호미로', '133']\n",
      "['인천광역시', '남동구', nan, '정각로', '29', '정문', '우측', '경비실', '앞']\n",
      "['인천광역시', '남동구', nan, nan, '정각로', '29', '정문', '우측', '경비실', '앞']\n",
      "['광주광역시', '북구', nan, '첨단벤처로108번길', '9']\n",
      "['광주광역시', '북구', nan, nan, '첨단벤처로108번길', '9']\n",
      "['충청남도', '공주시', '의당면', nan, '당진영덕고속도로', '71', '(청룡리)']\n",
      "['경기도', '여주시', '가남읍', nan, '화평길', '116']\n",
      "['서울특별시', '동대문구', nan, '약령중앙로', '26']\n",
      "['서울특별시', '동대문구', nan, nan, '약령중앙로', '26']\n",
      "['충청남도', '보령시', '주교면', nan, '서해안고속도로', '199', '(주교리)']\n",
      "['경기도', '이천시', '마장면', nan, '중부대로609번길', '244 35', '(목리)']\n",
      "['경상북도', '군위군', '군위읍', nan, '경북대로', '4084', '(오곡리)']\n",
      "['대구광역시', '수성구', nan, '국채보상로', '1001']\n",
      "['대구광역시', '수성구', nan, nan, '국채보상로', '1001']\n",
      "['제주특별자치도', '서귀포시', '표선면', nan, '성읍정의현로22번길', '7 1', '성읍민속마을', '주차장', '우측', '끝']\n",
      "['경상남도', '진주시', nan, '남강로', '1689']\n",
      "['경상남도', '진주시', nan, nan, '남강로', '1689']\n",
      "['전라북도', '군산시', '나포면', nan, '서해안고속도로', '148', '휴게소와', '주유소', '사이', '옥외', '주차장']\n",
      "['경기도', '양주시', nan, '평화로', '1547', '(회정동)']\n",
      "['경기도', '양주시', nan, nan, '평화로', '1547', '(회정동)']\n",
      "['전라북도', '정읍시', '북면', nan, '정신로', '135 61']\n",
      "['경기도', '고양시 일산서구', nan, '중앙로', '1496', '지하주차장', '2층', '210구역']\n",
      "['경기도', '고양시 일산서구', nan, nan, '중앙로', '1496', '지하주차장', '2층', '210구역']\n",
      "['충청북도', '단양군', '단성면', nan, '하방3길', '100', '(하방리)']\n",
      "['경상북도', '경주시', '건천읍', nan, '경부고속도로', '76', '(방내리)']\n",
      "['경상북도', '구미시', '옥성면', nan, '중부내륙고속도로', '128', '농산물매장', '옆', '옥외', '주차장']\n",
      "['경상북도', '경주시', '외동읍', nan, '상석길', '58 74', '(석계리)']\n",
      "['서울특별시', '용산구', nan, '이태원로', '224 19', '지하3층', '05']\n",
      "['서울특별시', '용산구', nan, nan, '이태원로', '224 19', '지하3층', '05']\n",
      "['경기도', '화성시', '남양읍', nan, '시청로', '159', '화성시청사', '및', '의회']\n",
      "['경기도', '파주시', nan, '회동길', '390롯데', '파주', '프리미엄', '아울렛']\n",
      "['경기도', '파주시', nan, nan, '회동길', '390롯데', '파주', '프리미엄', '아울렛']\n",
      "['경상북도', '김천시', '농소면', nan, '경부고속도로', '194', '(신촌리)']\n",
      "['경상북도', '구미시', nan, '송정대로', '55']\n",
      "['경상북도', '구미시', nan, nan, '송정대로', '55']\n",
      "['제주특별자치도', '서귀포시', '성산읍', nan, '해맞이해안로', '2660']\n",
      "['경상남도', '사천시', '곤양면', nan, '묵실길', '31 11']\n",
      "['제주특별자치도', '제주시', '구좌읍', nan, '만장굴길', '182', '만장굴']\n",
      "['제주특별자치도', '서귀포시', '대정읍', nan, '암반수마농로', '419', '후문', '우측']\n",
      "['서울특별시', '강서구', nan, '하늘길', '77', '지하주차장', '1층', 'A 18구역']\n",
      "['서울특별시', '강서구', nan, nan, '하늘길', '77', '지하주차장', '1층', 'A 18구역']\n",
      "['부산광역시', '해운대구', nan, '좌동순환로', '511', '지상주차장', '4층', 'F구역']\n",
      "['부산광역시', '해운대구', nan, nan, '좌동순환로', '511', '지상주차장', '4층', 'F구역']\n",
      "['부산광역시', '연제구', nan, '중앙대로', '999']\n",
      "['부산광역시', '연제구', nan, nan, '중앙대로', '999']\n",
      "['인천광역시', '서구', nan, '청라커낼로', '252(경서동)']\n",
      "['인천광역시', '서구', nan, nan, '청라커낼로', '252(경서동)']\n",
      "['경상남도', '창원시 의창구', '동읍', nan, '동읍로', '88', '동읍사무소', '주차장']\n",
      "['경기도', '용인시 기흥구', nan, '한보라1로', '92', '지상주차장', '4층']\n",
      "['경기도', '용인시 기흥구', nan, nan, '한보라1로', '92', '지상주차장', '4층']\n",
      "['전라북도', '진안군', '진안읍', nan, '익산장수고속도로', '42', '(단양리)']\n",
      "['제주특별자치도', '제주시', '조천읍', nan, '남조로', '2023', '교래자연휴양림']\n",
      "['전라남도', '완도군', '완도읍', nan, '개포로', '111']\n",
      "['전라남도', '나주시', nan, '내동길', '15', '지상주차장', '1층', '54구역']\n",
      "['전라남도', '나주시', nan, nan, '내동길', '15', '지상주차장', '1층', '54구역']\n",
      "['강원도', '속초시', nan, '신흥2길', '16', '입구', '매표소앞']\n",
      "['강원도', '속초시', nan, nan, '신흥2길', '16', '입구', '매표소앞']\n",
      "['경기도', '시흥시', nan, '서울대학로278번길', '67', '지상4층', '주차장', 'A4']\n",
      "['경기도', '시흥시', nan, nan, '서울대학로278번길', '67', '지상4층', '주차장', 'A4']\n",
      "['경상북도', '경주시', '내남면', nan, '경부고속도로', '59', '(월산리)']\n",
      "['강원도', '강릉시', '강동면', nan, '정동역길', '17']\n",
      "['전라북도', '임실군', '오수면', nan, '순천완주고속도로', '74']\n",
      "['서울특별시', '도봉구', nan, '마들로', '797']\n",
      "['서울특별시', '도봉구', nan, nan, '마들로', '797']\n",
      "['강원도', '횡성군', '안흥면', nan, '영동고속도로', '153']\n",
      "['경상남도', '진주시', nan, '남해고속도로', '194']\n",
      "['경상남도', '진주시', nan, nan, '남해고속도로', '194']\n",
      "['충청북도', '청주시', nan, '태성탑연로', '433', '보건지소', '앞']\n",
      "['충청북도', '청주시', nan, nan, '태성탑연로', '433', '보건지소', '앞']\n",
      "['충청북도', '청주시 서원구', '현도면', nan, '경부고속도로', '290']\n",
      "['경기도', '평택시', nan, '평택5로', '30', '6층', '주차장']\n",
      "['경기도', '평택시', nan, nan, '평택5로', '30', '6층', '주차장']\n",
      "['강원도', '원주시', '흥업면', nan, '흥대길', '7']\n",
      "['서울특별시', '강북구', nan, '삼양로', '230 12']\n",
      "['서울특별시', '강북구', nan, nan, '삼양로', '230 12']\n",
      "['경기도', '안성시', '원곡면', nan, '경부고속도로', '365']\n",
      "['제주특별자치도', '제주시', nan, '중앙로25길', '17']\n",
      "['제주특별자치도', '제주시', nan, nan, '중앙로25길', '17']\n",
      "['부산광역시', '동래구', nan, '중앙대로', '1324']\n",
      "['부산광역시', '동래구', nan, nan, '중앙대로', '1324']\n",
      "['경기도', '광주시', '곤지암읍', nan, '만삼로', '270']\n",
      "['제주특별자치도', '제주시', '조천읍', nan, '북촌3길', '3']\n",
      "['충청북도', '보은군', '마로면', nan, '적암길', '56 18', '(적암리)']\n",
      "['경상북도', '경주시', '양북면', nan, '어일중앙길', '24']\n",
      "['충청북도', '옥천군', '옥천읍', nan, '서대구일로', '265 19']\n",
      "['충청남도', '천안시 동남구', nan, '문화로', '15']\n",
      "['충청남도', '천안시 동남구', nan, nan, '문화로', '15']\n",
      "['경기도', '여주시', '가남읍', nan, '여주남로', '722']\n",
      "['전라남도', '함평군', '함평읍', nan, '곤재로', '27', '황소주차장', '함평관광안내소', '뒷쪽', '대형버스', '주차장']\n",
      "['경상북도', '안동시', '풍산읍', nan, '풍산태사로', '1913 40']\n",
      "['제주특별자치도', '제주시', '조천읍', nan, '남조로', '2023']\n",
      "['인천광역시', '중구', nan, '흰바위로', '51']\n",
      "['인천광역시', '중구', nan, nan, '흰바위로', '51']\n",
      "['강원도', '원주시', '문막읍', nan, '원문로', '1234']\n",
      "['충청남도', '공주시', '정안면', nan, '논산천안고속도로', '58']\n",
      "['전라남도', '순천시', '주암면', nan, '호남고속도로', '24', '파고라', '주변', '옥외', '주차장(비석', '앞)']\n",
      "['경상남도', '거제시', '일운면', nan, '지세포해안로', '41']\n",
      "['경상북도', '성주군', '성주읍', nan, '성주순환로', '251']\n",
      "['경상북도', '상주시', '은척면', nan, '성주봉로', '91']\n",
      "['경상남도', '양산시', nan, '삼호1길', '34', '4층', '주차장', '02']\n",
      "['경상남도', '양산시', nan, nan, '삼호1길', '34', '4층', '주차장', '02']\n",
      "['경상북도', '군위군', '군위읍', nan, '경북대로', '4082']\n",
      "['경상북도', '군위군', '부계면', nan, '치산효령로', '989 23']\n",
      "['제주특별자치도', '서귀포시', nan, '일주동로', '9158']\n",
      "['제주특별자치도', '서귀포시', nan, nan, '일주동로', '9158']\n",
      "['충청북도', '음성군', '삼성면', nan, '중부고속도로', '52', '(양덕리)']\n",
      "['경기도', '파주시', nan, '당하길', '10']\n",
      "['경기도', '파주시', nan, nan, '당하길', '10']\n",
      "['부산광역시', '사하구', nan, '을숙도대로', '610', '지상주차장', '4층']\n",
      "['부산광역시', '사하구', nan, nan, '을숙도대로', '610', '지상주차장', '4층']\n",
      "['전라남도', '보성군', '겸백면', nan, '남해고속도로', '70', '(수남리)']\n",
      "['충청북도', '음성군', '금왕읍', nan, '평택제천고속도로', '69', '(용계리)']\n",
      "['전라북도', '진안군', '진안읍', nan, '익산장수고속도로', '41', '(단양리)']\n",
      "['충청남도', '공주시', nan, '당진영덕고속도로', '72']\n",
      "['충청남도', '공주시', nan, nan, '당진영덕고속도로', '72']\n",
      "['전라북도', '전주시 덕진구', nan, '기린대로', '1055']\n",
      "['전라북도', '전주시 덕진구', nan, nan, '기린대로', '1055']\n",
      "['충청남도', '예산군', '신양면', nan, '당진영덕고속도로', '33']\n",
      "['경상남도', '김해시', nan, '장유로116번길', '44 82', '(부곡동)']\n",
      "['경상남도', '김해시', nan, nan, '장유로116번길', '44 82', '(부곡동)']\n",
      "['전라남도', '무안군', '현경면', nan, '현해로', '84', '입구', '왼쪽']\n",
      "['경기도', '가평군', '가평읍', nan, '석봉로', '181', '정면', '우측', '주차장']\n",
      "['경기도', '하남시', nan, '덕풍서로', '70']\n",
      "['경기도', '하남시', nan, nan, '덕풍서로', '70']\n",
      "['대구광역시', '달서구', nan, '계대동문로', '77']\n",
      "['대구광역시', '달서구', nan, nan, '계대동문로', '77']\n",
      "['전라남도', '보성군', '조성면', nan, '조성로', '119']\n",
      "['전라남도', '광양시', '광양읍', nan, '순광로', '466', '1층']\n",
      "['인천광역시', '남동구', nan, '예술로', '198', '지하주차장', '4층', 'I4구역']\n",
      "['인천광역시', '남동구', nan, nan, '예술로', '198', '지하주차장', '4층', 'I4구역']\n",
      "['경기도', '이천시', '마장면', nan, '덕이로154번길', '287 76', '휴게소', '옥외', '장애인', '주차장(휴게소', '정면', '우측', '흡연장', '앞)']\n",
      "['전라남도', '여수시', nan, '국포1로', '36', '(국동)']\n",
      "['전라남도', '여수시', nan, nan, '국포1로', '36', '(국동)']\n",
      "['전라남도', '무안군', '삼향읍', nan, '오룡1길', '(E주차장 전라남도관광안내소)']\n",
      "['서울특별시', '서초구', nan, '과천대로', '950 18', '지상주차장', '북주차장(우측)']\n",
      "['서울특별시', '서초구', nan, nan, '과천대로', '950 18', '지상주차장', '북주차장(우측)']\n",
      "['경상북도', '칠곡군', '왜관읍', nan, '경부고속도로', '158', '(아곡리)']\n",
      "['제주특별자치도', '서귀포시', '남원읍', nan, '중산간동로', '7413', '서귀포농업기술센터']\n",
      "['제주특별자치도', '서귀포시', nan, '효돈로152번길', '7']\n",
      "['제주특별자치도', '서귀포시', nan, nan, '효돈로152번길', '7']\n",
      "['부산광역시', '기장군', '정관읍', nan, '용수로', '11']\n",
      "['경상남도', '하동군', nan, '청학로', '2526']\n",
      "['경상남도', '하동군', nan, nan, '청학로', '2526']\n",
      "['울산광역시', '중구', nan, '염포로', '85', '동천', '체육관', '동편', '주차장']\n",
      "['울산광역시', '중구', nan, nan, '염포로', '85', '동천', '체육관', '동편', '주차장']\n",
      "['부산광역시', '중구', nan, '대청로116번길', '3']\n",
      "['부산광역시', '중구', nan, nan, '대청로116번길', '3']\n",
      "['인천광역시', '중구', nan, '인중로', '134']\n",
      "['인천광역시', '중구', nan, nan, '인중로', '134']\n",
      "['제주특별자치도', '제주시', '구좌읍', nan, '해녀박물관길', '26', '본관', '주차장']\n",
      "['경상북도', '경주시', nan, '금성로', '236']\n",
      "['경상북도', '경주시', nan, nan, '금성로', '236']\n",
      "['강원도', '양양군', '양양읍', nan, '일출로', '540']\n",
      "['전라남도', '무안군', '청계면', nan, '영산로', '1701 8？']\n",
      "['경기도', '파주시', '문산읍', nan, '방촌로', '1759', '옥상주차장', '차량정비소', '옆']\n",
      "['전라남도', '순천시', nan, '장명로', '30']\n",
      "['전라남도', '순천시', nan, nan, '장명로', '30']\n",
      "['충청남도', '천안시 서북구', '성환읍', nan, '성진로', '15']\n",
      "['경기도', '하남시', nan, '서울외곽순환고속도로', '19', '주차장', '플랜카드', '앞']\n",
      "['경기도', '하남시', nan, nan, '서울외곽순환고속도로', '19', '주차장', '플랜카드', '앞']\n",
      "['경상북도', '경주시', '내남면', nan, '경부고속도로', '59', '본관', '우측', '야구장', '정면', '주차장']\n",
      "['경상남도', '거제시', nan, '거제대로', '1068']\n",
      "['경상남도', '거제시', nan, nan, '거제대로', '1068']\n",
      "['충청남도', '서산시', nan, '충의로', '27', '(예천동)']\n",
      "['충청남도', '서산시', nan, nan, '충의로', '27', '(예천동)']\n",
      "['충청남도', '홍성군', '홍성읍', nan, '충서로', '1402']\n",
      "['강원도', '원주시', nan, '봉화로', '1', '(단계동)']\n",
      "['강원도', '원주시', nan, nan, '봉화로', '1', '(단계동)']\n",
      "['경상북도', '포항시 북구', '기계면', nan, '근면길', '14']\n",
      "['경상북도', '안동시', '풍산읍', nan, '풍산태사로', '1903 27']\n",
      "['제주특별자치도', '제주시', nan, '삼봉로', '79(도련2동)']\n",
      "['제주특별자치도', '제주시', nan, nan, '삼봉로', '79(도련2동)']\n",
      "['경상남도', '진주시', '문산읍', nan, '남해고속도로', '195']\n",
      "['서울특별시', '서초구', nan, '남부순환로', '2584']\n",
      "['서울특별시', '서초구', nan, nan, '남부순환로', '2584']\n",
      "['경기도', '김포시', nan, '김포한강7로', '71']\n",
      "['경기도', '김포시', nan, nan, '김포한강7로', '71']\n",
      "['광주광역시', '북구', nan, '하서로', '110']\n",
      "['광주광역시', '북구', nan, nan, '하서로', '110']\n",
      "['울산광역시', '북구', nan, '찬샘1길', '24']\n",
      "['울산광역시', '북구', nan, nan, '찬샘1길', '24']\n",
      "['충청남도', '논산시', '연산면', nan, '청동로', '34']\n",
      "['전라북도', '장수군', '계북면', nan, '당저길', '59', '(양악리)']\n",
      "['충청남도', '서산시', '해미면', nan, '서해안고속도로', '242', '(삼송리)']\n",
      "['서울특별시', '은평구', nan, '진관1로', '40', '입구', '앞']\n",
      "['서울특별시', '은평구', nan, nan, '진관1로', '40', '입구', '앞']\n",
      "['충청북도', '충주시', '산척면', nan, '평택제천고속도로', '109', '(영덕리)']\n",
      "['대구광역시', '수성구', nan, '달구벌대로637길', '5', '주차장', '출구', '직전']\n",
      "['대구광역시', '수성구', nan, nan, '달구벌대로637길', '5', '주차장', '출구', '직전']\n",
      "['경기도', '김포시', nan, '김포한강2로', '41']\n",
      "['경기도', '김포시', nan, nan, '김포한강2로', '41']\n",
      "['충청북도', '청주시 흥덕구', '옥산면', nan, '경부고속도로', '318']\n",
      "['경기도', '안성시', '서운면', nan, '평택제천고속도로', '41', '제2소형주차장', '여성전용주차장', '옆']\n",
      "['서울특별시', '종로구', nan, '창의문로', '145']\n",
      "['서울특별시', '종로구', nan, nan, '창의문로', '145']\n",
      "['경상북도', '김천시', '농소면', nan, '경부고속도로', '193', '(신촌리)']\n",
      "['경상북도', '성주군', '대가면', nan, '중부내륙고속도로', '97']\n",
      "['전라북도', '임실군', '오수면', nan, '순천완주고속도로', '73']\n",
      "['전라남도', '광양시', '진월면', nan, '섬진강매화로', '141']\n",
      "['전라남도', '고흥군', '동강면', nan, '고흥로', '4797', '시계탑', '앞']\n",
      "['경상북도', '경산시', '진량읍', nan, '경부고속도로', '105', '휴게소', '정면', '우측', '현수막', '걸이대', '앞', '옥외', '주차장']\n",
      "['경상북도', '경주시', '외동읍', nan, '읍청사로', '25']\n",
      "['강원도', '삼척시', nan, '수로부인길', '453']\n",
      "['강원도', '삼척시', nan, nan, '수로부인길', '453']\n",
      "['강원도', '춘천시', nan, '세실로', '108', '(석사동)']\n",
      "['강원도', '춘천시', nan, nan, '세실로', '108', '(석사동)']\n",
      "['충청남도', '논산시', nan, '논산대로', '382', '논산건강관리센터', '옆']\n",
      "['충청남도', '논산시', nan, nan, '논산대로', '382', '논산건강관리센터', '옆']\n",
      "['제주특별자치도', '제주시', '조천읍', nan, '중산간동로', '601']\n",
      "['경기도', '고양시 일산동구', nan, '중앙로', '1256', '좌측']\n",
      "['경기도', '고양시 일산동구', nan, nan, '중앙로', '1256', '좌측']\n",
      "['경기도', '용인시 기흥구', nan, '중부대로', '375', '지하2층', '10']\n",
      "['경기도', '용인시 기흥구', nan, nan, '중부대로', '375', '지하2층', '10']\n",
      "['경상북도', '경주시', '외동읍', nan, '상석길', '58 70', '(석계리)']\n",
      "['경상남도', '김해시', nan, '가야테마길', '161']\n",
      "['경상남도', '김해시', nan, nan, '가야테마길', '161']\n",
      "['충청남도', '공주시', '정안면', nan, '논산천안고속도로', '57']\n",
      "['충청남도', '예산군', '신양면', nan, '당진영덕고속도로', '33', '(서계양리)']\n",
      "['경기도', '여주시', '가남읍', nan, '여주남로', '722', '(본두리)']\n",
      "['충청북도', '음성군', '금왕읍', nan, '평택제천고속도로', '70', '(용계리)']\n",
      "['울산광역시', '남구', nan, '삼산로', '74', '(달동)']\n",
      "['울산광역시', '남구', nan, nan, '삼산로', '74', '(달동)']\n",
      "['경기도', '포천시', '영중면', nan, '양문로', '151']\n",
      "['경상북도', '영천시', '신녕면', nan, '화성중앙길', '28']\n",
      "['경상북도', '구미시', nan, '구미대로22길', '11 0', '(신평동)']\n",
      "['경상북도', '구미시', nan, nan, '구미대로22길', '11 0', '(신평동)']\n",
      "['경기도', '수원시 권선구', nan, '세화로', '134']\n",
      "['경기도', '수원시 권선구', nan, nan, '세화로', '134']\n",
      "['강원도', '평창군', '방림면', nan, '서동로', '1337']\n",
      "['경상북도', '경산시', nan, '대학로', '1089']\n",
      "['경상북도', '경산시', nan, nan, '대학로', '1089']\n",
      "['강원도', '속초시', nan, '동해대로', '4245']\n",
      "['강원도', '속초시', nan, nan, '동해대로', '4245']\n",
      "['전라북도', '정읍시', '북면', nan, '정신로', '135 61', '(남산리)']\n",
      "['인천광역시', '연수구', nan, '능허대로', '236']\n",
      "['인천광역시', '연수구', nan, nan, '능허대로', '236']\n",
      "['전라북도', '고창군', '고창읍', nan, '서해안고속도로', '80', '휴게소', '우측', '주차장']\n",
      "['인천광역시', '연수구', nan, '원인재로', '115']\n",
      "['인천광역시', '연수구', nan, nan, '원인재로', '115']\n",
      "['충청북도', '제천시', nan, '용두대로11길', '10']\n",
      "['충청북도', '제천시', nan, nan, '용두대로11길', '10']\n",
      "['충청남도', '공주시', '탄천면', nan, '논산천안고속도로', '27']\n",
      "['서울특별시', '영등포구', nan, '양산로', '111', '왼쪽', '끝편', '주차장']\n",
      "['서울특별시', '영등포구', nan, nan, '양산로', '111', '왼쪽', '끝편', '주차장']\n",
      "['경상북도', '경산시', '진량읍', nan, '다문로', '50']\n",
      "['경기도', '남양주시', '수동면', nan, '비룡로', '730']\n",
      "['광주광역시', '남구', nan, '봉선로', '208']\n",
      "['광주광역시', '남구', nan, nan, '봉선로', '208']\n",
      "['서울특별시', '송파구', nan, '중대로', '80', '지하4층', 'C8']\n",
      "['서울특별시', '송파구', nan, nan, '중대로', '80', '지하4층', 'C8']\n",
      "['경상북도', '경주시', nan, '경감로', '614']\n",
      "['경상북도', '경주시', nan, nan, '경감로', '614']\n",
      "['전라남도', '곡성군', '겸면', nan, '호남고속도로', '50', '(가정리)']\n",
      "['경상북도', '경주시', nan, '천북남로', '12(신평동)']\n",
      "['경상북도', '경주시', nan, nan, '천북남로', '12(신평동)']\n",
      "['충청북도', '청주시 흥덕구', '옥산면', nan, '경부고속도로', '318', '(장남리)']\n",
      "['대전광역시', '유성구', nan, '반석로12번길', '18 4']\n",
      "['대전광역시', '유성구', nan, nan, '반석로12번길', '18 4']\n",
      "['전라북도', '군산시', '나포면', nan, '서해안고속도로', '3182']\n",
      "['경상남도', '통영시', nan, '무전대로', '65', '4층', '주차장']\n",
      "['경상남도', '통영시', nan, nan, '무전대로', '65', '4층', '주차장']\n",
      "['경상북도', '안동시', '풍천면', nan, '도청대로', '455']\n",
      "['경상북도', '고령군', '대가야읍', nan, '왕릉로', '55']\n",
      "['경기도', '고양시 덕양구', nan, '충장로', '150', '지상주차장', '4층', '422구역']\n",
      "['경기도', '고양시 덕양구', nan, nan, '충장로', '150', '지상주차장', '4층', '422구역']\n",
      "['충청남도', '논산시', nan, '연무로166번길', '64', '2주차장']\n",
      "['충청남도', '논산시', nan, nan, '연무로166번길', '64', '2주차장']\n",
      "['충청북도', '청주시', '오송읍', nan, '오송생명로', '150']\n",
      "['서울특별시', '양천구', nan, '화곡로4길', '10']\n",
      "['서울특별시', '양천구', nan, nan, '화곡로4길', '10']\n",
      "['서울특별시', '중랑구', nan, '신내로', '201', '5층', 'H01']\n",
      "['서울특별시', '중랑구', nan, nan, '신내로', '201', '5층', 'H01']\n",
      "['충청북도', '청주시 흥덕구', nan, '무심서로', '857']\n",
      "['충청북도', '청주시 흥덕구', nan, nan, '무심서로', '857']\n",
      "['충청북도', '청주시', '옥산면', nan, '경부고속도로', '309']\n",
      "['경기도', '안성시', '공도읍', nan, '서동대로', '4478', '정문', '부근', '옥외주차장']\n",
      "['강원도', '인제군', '남면', nan, '신남로58번길', '37']\n",
      "['경상북도', '의성군', '의성읍', nan, '충효로', '88']\n",
      "['제주특별자치도', '제주시', nan, '오일장서길', '26']\n",
      "['제주특별자치도', '제주시', nan, nan, '오일장서길', '26']\n",
      "['충청남도', '천안시 동남구', nan, '천안천변길', '129 41']\n",
      "['충청남도', '천안시 동남구', nan, nan, '천안천변길', '129 41']\n",
      "['인천광역시', '연수구', nan, '청능대로', '87', '2층', '206']\n",
      "['인천광역시', '연수구', nan, nan, '청능대로', '87', '2층', '206']\n",
      "['충청남도', '예산군', '삽교읍', nan, '신가꽃산서길', '115']\n",
      "['경상북도', '포항시 남구', nan, '냉천로', '10', '지상주차장', '3층']\n",
      "['경상북도', '포항시 남구', nan, nan, '냉천로', '10', '지상주차장', '3층']\n",
      "['충청남도', '홍성군', '은하면', nan, '서해안고속도로', '220', '(금국리)']\n",
      "['전라북도', '전주시 완산구', nan, '신촌3길', '24번지']\n",
      "['전라북도', '전주시 완산구', nan, nan, '신촌3길', '24번지']\n",
      "['전라북도', '익산시', nan, '동서로', '5 40']\n",
      "['전라북도', '익산시', nan, nan, '동서로', '5 40']\n",
      "['대구광역시', '달성군', '다사읍', nan, '다사로', '750']\n",
      "['경기도', '양평군', '지평면', nan, '지평의병로116번길', '1']\n",
      "['세종특별자치시', nan, '한누리대로', '402']\n",
      "['세종특별자치시', nan, nan, '한누리대로', '402']\n",
      "['세종특별자치시', nan, nan, nan, '한누리대로', '402']\n",
      "['강원도', '원주시', '호저면', nan, '마근거리길', '120', '(옥산리)', '211']\n",
      "['전라북도', '고창군', '고창읍', nan, '서해안고속도로', '81', '(벽송리)']\n",
      "['경기도', '고양시 일산서구', nan, '주엽로', '79']\n",
      "['경기도', '고양시 일산서구', nan, nan, '주엽로', '79']\n",
      "['경상남도', '사천시', '사천읍', nan, '구암두문로', '85']\n",
      "['경상남도', '고성군', '고성읍', nan, '송학로', '93']\n",
      "['인천광역시', '서구', nan, '원당대로', '581', '(마전동)']\n",
      "['인천광역시', '서구', nan, nan, '원당대로', '581', '(마전동)']\n",
      "['경상북도', '구미시', nan, '봉곡로15길', '54']\n",
      "['경상북도', '구미시', nan, nan, '봉곡로15길', '54']\n",
      "['경기도', '안산시 상록구', nan, '반석로', '8', '(본오동)']\n",
      "['경기도', '안산시 상록구', nan, nan, '반석로', '8', '(본오동)']\n",
      "['경상북도', '포항시 북구', nan, '대해로', '27']\n",
      "['경상북도', '포항시 북구', nan, nan, '대해로', '27']\n",
      "['전라남도', '함평군', '엄다면', nan, '무안광주고속도로', '11']\n",
      "['충청북도', '청주시 흥덕구', nan, '직지대로620번길', '70']\n",
      "['충청북도', '청주시 흥덕구', nan, nan, '직지대로620번길', '70']\n",
      "['전라남도', '순천시', '주암면', nan, '호남고속도로', '24']\n",
      "['전라남도', '영광군', '영광읍', nan, '중앙로', '203', '정문', '우측']\n",
      "['충청남도', '당진시', nan, '정안로', '20']\n",
      "['충청남도', '당진시', nan, nan, '정안로', '20']\n",
      "['전라북도', '임실군', '운암면', nan, '강운로', '1239']\n",
      "['부산광역시', '기장군', '장안읍', nan, '좌방길', '5']\n",
      "['경상북도', '경주시', '건천읍', nan, '경부고속도로', '77']\n",
      "['서울특별시', '관악구', nan, '봉천로21길', '38', '입구좌측', '지하', '각', '1기']\n",
      "['서울특별시', '관악구', nan, nan, '봉천로21길', '38', '입구좌측', '지하', '각', '1기']\n",
      "['경기도', '용인시 처인구', nan, '주북로94번길', '30 1', '(고림동)']\n",
      "['경기도', '용인시 처인구', nan, nan, '주북로94번길', '30 1', '(고림동)']\n",
      "['경기도', '수원시 권선구', nan, '수인로', '291', '지하주차장', '1층', 'C12구역']\n",
      "['경기도', '수원시 권선구', nan, nan, '수인로', '291', '지하주차장', '1층', 'C12구역']\n",
      "['전라남도', '장성군', '북이면', nan, '호남고속도로', '107', '(모현리)']\n",
      "['전라북도', '임실군', '임실읍', nan, '수정로', '30', '임실군청', '주차장']\n",
      "['경기도', '의정부시', nan, '산단로76번길', '116 0', '(용현동)']\n",
      "['경기도', '의정부시', nan, nan, '산단로76번길', '116 0', '(용현동)']\n",
      "['경상북도', '고령군', '대가야읍', nan, '왕릉로', '30']\n",
      "['서울특별시', '서초구', nan, '양재대로12길', '73 71', '(원지동)']\n",
      "['서울특별시', '서초구', nan, nan, '양재대로12길', '73 71', '(원지동)']\n",
      "['강원도', '횡성군', '횡성읍', nan, '태기로', '19']\n",
      "['인천광역시', '서구', nan, '로봇랜드로', '155 11']\n",
      "['인천광역시', '서구', nan, nan, '로봇랜드로', '155 11']\n",
      "['경상북도', '경산시', '하양읍', nan, '문화로', '36']\n",
      "['전라북도', '김제시', nan, '중앙로', '40', '김제시청', '주차장']\n",
      "['전라북도', '김제시', nan, nan, '중앙로', '40', '김제시청', '주차장']\n",
      "['광주광역시', '동구', nan, '남문로', '646']\n",
      "['광주광역시', '동구', nan, nan, '남문로', '646']\n",
      "['전라북도', '전주시 완산구', nan, '당산로', '111', '지하주차장', '1층']\n",
      "['전라북도', '전주시 완산구', nan, nan, '당산로', '111', '지하주차장', '1층']\n",
      "['부산광역시', '연제구', nan, '연수로', '89', '지하주차장', '1층', 'E구역']\n",
      "['부산광역시', '연제구', nan, nan, '연수로', '89', '지하주차장', '1층', 'E구역']\n",
      "['대구광역시', '북구', nan, '구암로', '391']\n",
      "['대구광역시', '북구', nan, nan, '구암로', '391']\n",
      "['충청남도', '예산군', '예산읍', nan, '군청로', '22', '지하주차장', '정면']\n",
      "['서울특별시', '강남구', nan, '테헤란로', '606']\n",
      "['서울특별시', '강남구', nan, nan, '테헤란로', '606']\n",
      "['경상북도', '군위군', '군위읍', nan, '군청로', '158']\n",
      "['세종특별자치시', nan, '다솜3로', '66']\n",
      "['세종특별자치시', nan, nan, '다솜3로', '66']\n",
      "['세종특별자치시', nan, nan, nan, '다솜3로', '66']\n",
      "['전라남도', '순천시', nan, '환선로', '133', '수영장', '후면', '주차장']\n",
      "['전라남도', '순천시', nan, nan, '환선로', '133', '수영장', '후면', '주차장']\n",
      "['경상남도', '통영시', '도산면', nan, '남해안대로', '1869']\n",
      "['경상북도', '칠곡군', '왜관읍', nan, '경부고속도로', '159', '(아곡리)']\n",
      "['강원도', '철원군', '서면', nan, '신술2길', '40']\n",
      "['경상남도', '거창군', '가조면', nan, '가조가야로', '1543 81', '(도리)']\n",
      "['전라북도', '완주군', '이서면', nan, '호남고속도로', '162', '(은교리)']\n",
      "['경상남도', '창원시 의창구', nan, '중앙대로', '151']\n",
      "['경상남도', '창원시 의창구', nan, nan, '중앙대로', '151']\n",
      "['경상남도', '함안군', '군북면', nan, '현포로', '205']\n",
      "['충청북도', '옥천군', '옥천읍', nan, '옥천동이로', '242 34', '차량정비소', '옆']\n",
      "['전라북도', '정읍시', nan, '충정로', '234', '정읍시청', '뒷편', '주차장', '입구']\n",
      "['전라북도', '정읍시', nan, nan, '충정로', '234', '정읍시청', '뒷편', '주차장', '입구']\n",
      "['제주특별자치도', '서귀포시', '대정읍', nan, '에듀시티로', '178', '곶자왈', '도립공원입구']\n",
      "['경상북도', '구미시', '옥성면', nan, '중부내륙고속도로', '129']\n",
      "['전라북도', '고창군', '고창읍', nan, '고인돌공원길', '74']\n",
      "['경상북도', '칠곡군', '왜관읍', nan, '군청1길', '80']\n",
      "['강원도', '춘천시', nan, '방송길', '84', '(온의동)']\n",
      "['강원도', '춘천시', nan, nan, '방송길', '84', '(온의동)']\n",
      "['대구광역시', '달성군', '현풍면', nan, '현풍서로', '147']\n",
      "['서울특별시', '송파구', nan, '성내천로33가길', '20']\n",
      "['서울특별시', '송파구', nan, nan, '성내천로33가길', '20']\n",
      "['전라북도', '진안군', '진안읍', nan, '중앙로', '67']\n",
      "['광주광역시', '광산구', nan, '평동로', '790']\n",
      "['광주광역시', '광산구', nan, nan, '평동로', '790']\n",
      "['제주특별자치도', '서귀포시', nan, '태평로', '270', '서귀포예술의전당']\n",
      "['제주특별자치도', '서귀포시', nan, nan, '태평로', '270', '서귀포예술의전당']\n",
      "['충청북도', '충주시', '중앙탑면', nan, '중부내륙고속도로', '230', '주유소', '무료서비스존', '인근', '옥외', '주차장']\n",
      "['대전광역시', '동구', nan, '한밭대로', '1282', '지상주차장', '5층']\n",
      "['대전광역시', '동구', nan, nan, '한밭대로', '1282', '지상주차장', '5층']\n",
      "['경상남도', '창원시 성산구', nan, '창원대로', '721', '건물', '우측']\n",
      "['경상남도', '창원시 성산구', nan, nan, '창원대로', '721', '건물', '우측']\n",
      "['충청북도', '제천시', nan, '의림대로42길', '34']\n",
      "['충청북도', '제천시', nan, nan, '의림대로42길', '34']\n",
      "['경상북도', '경주시', '강동면', nan, '강동로', '19']\n",
      "['광주광역시', '서구', nan, '내방로', '152']\n",
      "['광주광역시', '서구', nan, nan, '내방로', '152']\n",
      "['충청북도', '옥천군', '옥천읍', nan, '관성로', '53']\n",
      "['전라북도', '남원시', nan, '양림길', '14 9']\n",
      "['전라북도', '남원시', nan, nan, '양림길', '14 9']\n",
      "['서울특별시', '중구', nan, '을지로', '30']\n",
      "['서울특별시', '중구', nan, nan, '을지로', '30']\n",
      "['경상북도', '칠곡군', '동명면', nan, '동명팔거천2길', '9', '복지센터', '앞']\n",
      "['경기도', '파주시', nan, '마음밭길', '55 10']\n",
      "['경기도', '파주시', nan, nan, '마음밭길', '55 10']\n",
      "['인천광역시', '부평구', nan, '광장로', '16', '(부평동)']\n",
      "['인천광역시', '부평구', nan, nan, '광장로', '16', '(부평동)']\n",
      "['경기도', '화성시', nan, '노작로', '10', '우측주차장']\n",
      "['경기도', '화성시', nan, nan, '노작로', '10', '우측주차장']\n",
      "['전라남도', '영광군', '백수읍', nan, '해안로', '957', '영광', '노을전시관', '지상주차장']\n",
      "['제주특별자치도', '서귀포시', nan, '중앙로62번길', '18', '4층']\n",
      "['제주특별자치도', '서귀포시', nan, nan, '중앙로62번길', '18', '4층']\n",
      "['경상북도', '포항시 북구', '흥해읍', nan, '신덕로', '60']\n",
      "['경상남도', '사천시', '곤양면', nan, '묵실길', '31 11', '(묵곡리)']\n",
      "['대구광역시', '북구', nan, '연암로', '40']\n",
      "['대구광역시', '북구', nan, nan, '연암로', '40']\n",
      "['대전광역시', '유성구', nan, '테크노9로', '35', '입구', '국기계양대', '왼쪽']\n",
      "['대전광역시', '유성구', nan, nan, '테크노9로', '35', '입구', '국기계양대', '왼쪽']\n",
      "['강원도', '양구군', '양구읍', nan, '사명길', '37 4']\n",
      "['제주특별자치도', '제주시', nan, '산천단동3길', '2', '북쪽주차장', '입구']\n",
      "['제주특별자치도', '제주시', nan, nan, '산천단동3길', '2', '북쪽주차장', '입구']\n",
      "['경기도', '화성시', nan, '노작로', '226 26']\n",
      "['경기도', '화성시', nan, nan, '노작로', '226 26']\n",
      "['경기도', '동두천시', nan, '평화로2910번길', '30']\n",
      "['경기도', '동두천시', nan, nan, '평화로2910번길', '30']\n",
      "['전라남도', '여수시', nan, '무선로', '187', '4층', '주차장', '428']\n",
      "['전라남도', '여수시', nan, nan, '무선로', '187', '4층', '주차장', '428']\n",
      "['전라북도', '정읍시', '북면', nan, '하북1길', '227 17', '(남산리)']\n",
      "['강원도', '양양군', '양양읍', nan, '양양로', '114 5']\n",
      "['경상북도', '포항시 북구', '흥해읍', nan, '동해대로', '1182']\n",
      "['서울특별시', '금천구', nan, '독산로36나길', '21', 'B1', '18']\n",
      "['서울특별시', '금천구', nan, nan, '독산로36나길', '21', 'B1', '18']\n",
      "['서울특별시', '중랑구', nan, '용마산로', '250 12', '출구쪽']\n",
      "['서울특별시', '중랑구', nan, nan, '용마산로', '250 12', '출구쪽']\n",
      "['경상남도', '김해시', '진영읍', nan, '김해대로', '440']\n",
      "['충청남도', '아산시', '탕정면', nan, '탕정면로', '36']\n",
      "['제주특별자치도', '서귀포시', '성산읍', nan, '중산간동로', '4150 30', '본관', '주차장']\n",
      "['부산광역시', '기장군', '기장읍', nan, '차성로', '206']\n",
      "['서울특별시', '강서구', nan, '양천로61길', '101']\n",
      "['서울특별시', '강서구', nan, nan, '양천로61길', '101']\n",
      "['경기도', '안성시', '죽산면', nan, '죽양대로', '136 17']\n",
      "['강원도', '춘천시', '동내면', nan, '영서로', '1432']\n",
      "['전라남도', '구례군', '용방면', nan, '용산로', '107 74', '라면공방', '후면', '주차장']\n",
      "['제주특별자치도', '제주시', nan, '연북로', '444']\n",
      "['제주특별자치도', '제주시', nan, nan, '연북로', '444']\n",
      "['강원도', '삼척시', '도계읍', nan, '강원남부로', '634']\n",
      "['강원도', '춘천시', nan, '소양로', '1가', '47 7']\n",
      "['강원도', '춘천시', nan, nan, '소양로', '1가', '47 7']\n",
      "['대구광역시', '동구', nan, '아양로37길', '92']\n",
      "['대구광역시', '동구', nan, nan, '아양로37길', '92']\n",
      "['경기도', '시흥시', nan, '동서로', '425']\n",
      "['경기도', '시흥시', nan, nan, '동서로', '425']\n",
      "['충청남도', '청양군', '청양읍', nan, '칠갑산로6길', '28']\n",
      "['제주특별자치도', '서귀포시', '남원읍', nan, '신례동로', '338', '입구', '왼쪽']\n",
      "['경기도', '양평군', '단월면', nan, '보룡길', '44 1']\n",
      "['경기도', '포천시', '군내면', nan, '청성로', '111']\n",
      "['전라남도', '목포시', nan, '원형서로', '15', '롯데마트목포점']\n",
      "['전라남도', '목포시', nan, nan, '원형서로', '15', '롯데마트목포점']\n",
      "['경기도', '광명시', nan, '소하로', '97']\n",
      "['경기도', '광명시', nan, nan, '소하로', '97']\n",
      "['경상남도', '양산시', nan, '백호로', '23', '축구장', '옆']\n",
      "['경상남도', '양산시', nan, nan, '백호로', '23', '축구장', '옆']\n",
      "['충청남도', '천안시 서북구', nan, '신당새터2길', '28', '카페', '옆']\n",
      "['충청남도', '천안시 서북구', nan, nan, '신당새터2길', '28', '카페', '옆']\n",
      "['강원도', '홍천군', '북방면', nan, '도사곡길', '223', '(소매곡리)']\n",
      "['경상남도', '함안군', '칠원읍', nan, '용산1길', '28']\n",
      "['서울특별시', '도봉구', nan, '마들로', '656']\n",
      "['서울특별시', '도봉구', nan, nan, '마들로', '656']\n",
      "['전라북도', '익산시', nan, '무왕로', '1053', '(영등동)']\n",
      "['전라북도', '익산시', nan, nan, '무왕로', '1053', '(영등동)']\n",
      "['충청북도', '영동군', '황간면', nan, '회포길', '102', '(회포리)']\n",
      "['부산광역시', '부산진구', nan, '성지곡로', '3']\n",
      "['부산광역시', '부산진구', nan, nan, '성지곡로', '3']\n",
      "['경기도', '고양시 일산동구', nan, '중앙로1275번길', '64']\n",
      "['경기도', '고양시 일산동구', nan, nan, '중앙로1275번길', '64']\n",
      "['경상남도', '사천시', '사천읍', nan, '사천대로', '1971']\n",
      "['전라남도', '순천시', '주암면', nan, '동주로', '2042 3', '사랑나눔복지회관', '주차장']\n",
      "['울산광역시', '남구', nan, '중앙로', '201', '서문', '왼쪽', '주차장']\n",
      "['울산광역시', '남구', nan, nan, '중앙로', '201', '서문', '왼쪽', '주차장']\n",
      "['제주특별자치도', '제주시', '조천읍', nan, '신북로', '303']\n",
      "['충청북도', '청주시 서원구', '현도면', nan, '경부고속도로', '290', '휴게소', '입구', '우측', '끝(차량정비소', '좌측', '끝)']\n",
      "['제주특별자치도', '서귀포시', nan, '산록남로1241번길', '145(색달동)']\n",
      "['제주특별자치도', '서귀포시', nan, nan, '산록남로1241번길', '145(색달동)']\n",
      "['경상남도', '김해시', nan, '율하2로', '210']\n",
      "['경상남도', '김해시', nan, nan, '율하2로', '210']\n",
      "['대전광역시', '서구', nan, '둔산중로', '1', '지상주차장', '5층', 'J구역']\n",
      "['대전광역시', '서구', nan, nan, '둔산중로', '1', '지상주차장', '5층', 'J구역']\n",
      "['경기도', '의왕시', nan, '계원대학로', '7 0', '(내손동)']\n",
      "['경기도', '의왕시', nan, nan, '계원대학로', '7 0', '(내손동)']\n",
      "['충청남도', '공주시', '의당면', nan, '당진영덕고속도로', '71']\n",
      "['경상남도', '진주시', nan, '금산로', '107']\n",
      "['경상남도', '진주시', nan, nan, '금산로', '107']\n",
      "['서울특별시', '종로구', nan, '종로', '157', '지하주차장', '4층', '하층', 'T구역']\n",
      "['서울특별시', '종로구', nan, nan, '종로', '157', '지하주차장', '4층', '하층', 'T구역']\n",
      "['제주특별자치도', '서귀포시', nan, '동홍중앙로7번길', '19', '자기주도학습지원센터']\n",
      "['제주특별자치도', '서귀포시', nan, nan, '동홍중앙로7번길', '19', '자기주도학습지원센터']\n",
      "['대전광역시', '대덕구', nan, '동서대로', '1855']\n",
      "['대전광역시', '대덕구', nan, nan, '동서대로', '1855']\n",
      "['경상남도', '고성군', '대가면', nan, '통영대전고속도로', '32', '(신전리)']\n",
      "['경기도', '파주시', '탄현면', nan, '헤이리마을길', '82 105']\n",
      "['제주특별자치도', '서귀포시', '안덕면', nan, '화순서로', '74']\n",
      "['경기도', '김포시', '통진읍', nan, '김포대로', '2347 8']\n",
      "['강원도', '원주시', nan, '서원대로', '33']\n",
      "['강원도', '원주시', nan, nan, '서원대로', '33']\n",
      "['경상남도', '사천시', nan, '사천대로', '17']\n",
      "['경상남도', '사천시', nan, nan, '사천대로', '17']\n",
      "['경기도', '안산시 단원구', nan, '동산로', '268']\n",
      "['경기도', '안산시 단원구', nan, nan, '동산로', '268']\n",
      "['서울특별시', '강서구', nan, '우장산로', '114', '2층', '24']\n",
      "['서울특별시', '강서구', nan, nan, '우장산로', '114', '2층', '24']\n",
      "['제주특별자치도', '제주시', nan, '선돌목동길', '60', '본관', '주차장']\n",
      "['제주특별자치도', '제주시', nan, nan, '선돌목동길', '60', '본관', '주차장']\n",
      "['경상북도', '영천시', '고경면', nan, '호국로', '1065 25']\n",
      "['서울특별시', '구로구', nan, '경인로', '661', '지하2층', 'L']\n",
      "['서울특별시', '구로구', nan, nan, '경인로', '661', '지하2층', 'L']\n",
      "['충청남도', '보령시', nan, '성주산로', '77', '후문', '왼편']\n",
      "['충청남도', '보령시', nan, nan, '성주산로', '77', '후문', '왼편']\n",
      "['인천광역시', '연수구', nan, '아트센터대로', '222']\n",
      "['인천광역시', '연수구', nan, nan, '아트센터대로', '222']\n",
      "['경기도', '부천시', nan, '경인옛로', '73', '지상주차장']\n",
      "['경기도', '부천시', nan, nan, '경인옛로', '73', '지상주차장']\n",
      "['경기도', '양평군', '개군면', nan, '하자포길33번길', '8']\n",
      "['전라남도', '무안군', '삼향읍', nan, '남악로162번길', '80']\n",
      "['제주특별자치도', '서귀포시', nan, '칠십리로', '740(하효동)']\n",
      "['제주특별자치도', '서귀포시', nan, nan, '칠십리로', '740(하효동)']\n",
      "['경상북도', '성주군', '대가면', nan, '중부내륙고속도로', '76']\n",
      "['충청북도', '청주시 서원구', '현도면', nan, '경부고속도로', '289', '휴게소', '정면', '좌측', '쉼터', '주차장']\n",
      "['전라북도', '순창군', '순창읍', nan, '88올림픽고속도로', '22', '(백산리)']\n",
      "['제주특별자치도', '서귀포시', '남원읍', nan, '태위로', '527', '본관', '주차장']\n",
      "['경상남도', '창원시 마산합포구', '구산면', nan, '구산로', '554']\n",
      "['제주특별자치도', '서귀포시', '남원읍', nan, '중산간동로', '6862']\n",
      "['경상북도', '포항시 북구', '흥해읍', nan, '초곡길36번길', '30']\n",
      "['서울특별시', '중구', nan, '소공로', '51번지']\n",
      "['서울특별시', '중구', nan, nan, '소공로', '51번지']\n",
      "['부산광역시', '사상구', nan, '낙동대로1518번길', '26']\n",
      "['부산광역시', '사상구', nan, nan, '낙동대로1518번길', '26']\n",
      "['충청북도', '영동군', '황간면', nan, '회포길', '102', '충전소', '입구', '우측', '공터']\n",
      "['경상북도', '김천시', nan, '영남대로', '1940']\n",
      "['경상북도', '김천시', nan, nan, '영남대로', '1940']\n",
      "['전라북도', '전주시 덕진구', nan, '동부대로', '1179']\n",
      "['전라북도', '전주시 덕진구', nan, nan, '동부대로', '1179']\n",
      "['충청남도', '논산시', '벌곡면', nan, '벌곡로', '9 58']\n",
      "['경기도', '이천시', '마장면', nan, '덕이로154번길', '287 76']\n",
      "['경기도', '하남시', nan, '덕풍서로', '70', '지상주차장', '5층']\n",
      "['경기도', '하남시', nan, nan, '덕풍서로', '70', '지상주차장', '5층']\n",
      "['경기도', '화성시', '남양읍', nan, '남양성지로', '192 5']\n",
      "['경상북도', '포항시 남구', nan, '지곡로', '247 0', '(지곡동)']\n",
      "['경상북도', '포항시 남구', nan, nan, '지곡로', '247 0', '(지곡동)']\n",
      "['강원도', '원주시', nan, '호저로', '47']\n",
      "['강원도', '원주시', nan, nan, '호저로', '47']\n",
      "['충청남도', '홍성군', '홍북읍', nan, '충남대로', '21', '입구', '좌측', '끝']\n",
      "['서울특별시', '서초구', nan, '양재대로12길', '74', '1층', '입구']\n",
      "['서울특별시', '서초구', nan, nan, '양재대로12길', '74', '1층', '입구']\n",
      "['광주광역시', '광산구', nan, '장신로', '98']\n",
      "['광주광역시', '광산구', nan, nan, '장신로', '98']\n",
      "['전라북도', '남원시', '아영면', nan, '88올림픽고속도로', '76', '(아곡리)']\n",
      "['충청북도', '충주시', nan, '봉계1길', '49', '(칠금동)']\n",
      "['충청북도', '충주시', nan, nan, '봉계1길', '49', '(칠금동)']\n",
      "['경상북도', '포항시 남구', '오천읍', nan, '냉천로320번길', '4 11']\n",
      "['대전광역시', '대덕구', nan, '신탄진로', '556']\n",
      "['대전광역시', '대덕구', nan, nan, '신탄진로', '556']\n",
      "['대구광역시', '달서구', nan, '공원순환로', '201']\n",
      "['대구광역시', '달서구', nan, nan, '공원순환로', '201']\n",
      "['경상남도', '사천시', '곤양면', nan, '서삼로', '619']\n",
      "['경기도', '이천시', '마장면', nan, '중부고속도로', '82']\n",
      "['경상북도', '포항시 남구', nan, '희망대로', '810']\n",
      "['경상북도', '포항시 남구', nan, nan, '희망대로', '810']\n",
      "['광주광역시', '광산구', nan, '첨단강변로99번길', '22', '지상주차장', '2층']\n",
      "['광주광역시', '광산구', nan, nan, '첨단강변로99번길', '22', '지상주차장', '2층']\n",
      "['충청남도', '부여군', '내산면', nan, '서천공주고속도로', '26', '(율암리)']\n",
      "['광주광역시', '서구', nan, '경열로17번길', '5']\n",
      "['광주광역시', '서구', nan, nan, '경열로17번길', '5']\n",
      "['전라북도', '정읍시', '칠보면', nan, '칠보중앙로', '68']\n",
      "['서울특별시', '마포구', nan, '마포대로1길', '9']\n",
      "['서울특별시', '마포구', nan, nan, '마포대로1길', '9']\n",
      "['부산광역시', '부산진구', nan, '시민공원로', '30', '출구쪽']\n",
      "['부산광역시', '부산진구', nan, nan, '시민공원로', '30', '출구쪽']\n",
      "['경상남도', '창원시 마산합포구', nan, '서성로', '3', '지상주차장', '3층', '입구']\n",
      "['경상남도', '창원시 마산합포구', nan, nan, '서성로', '3', '지상주차장', '3층', '입구']\n",
      "['강원도', '강릉시', '연곡면', nan, '연주로', '188']\n",
      "['충청북도', '청주시', '북이면', nan, '신대석성로', '10']\n",
      "['강원도', '원주시', '지정면', nan, '소금산길', '21']\n",
      "['경기도', '양주시', '장흥면', nan, '서울외곽순환고속도로', '58']\n",
      "['인천광역시', '미추홀구', nan, '소성로', '6', '주차장', '옥상']\n",
      "['인천광역시', '미추홀구', nan, nan, '소성로', '6', '주차장', '옥상']\n",
      "['울산광역시', '울주군', '온산읍', nan, '명봉거남로', '46']\n",
      "['서울특별시', '관악구', nan, '양지길', '63', '옥상']\n",
      "['서울특별시', '관악구', nan, nan, '양지길', '63', '옥상']\n",
      "['대구광역시', '달성군', '유가면', nan, '일연선사길', '10']\n",
      "['제주특별자치도', '제주시', nan, '산록북로', '660', '관음사지구', '안내소', '좌측', '잔디주차장']\n",
      "['제주특별자치도', '제주시', nan, nan, '산록북로', '660', '관음사지구', '안내소', '좌측', '잔디주차장']\n",
      "['경기도', '양평군', '청운면', nan, '용두로164번길', '9 5']\n",
      "['충청북도', '청주시 상당구', nan, '무농정로', '47']\n",
      "['충청북도', '청주시 상당구', nan, nan, '무농정로', '47']\n",
      "['서울특별시', '강북구', nan, '오현로21길', '84', '옥상', '주차장']\n",
      "['서울특별시', '강북구', nan, nan, '오현로21길', '84', '옥상', '주차장']\n",
      "['경상남도', '김해시', nan, '번화1로56번길', '15', '롯데마트']\n",
      "['경상남도', '김해시', nan, nan, '번화1로56번길', '15', '롯데마트']\n",
      "['서울특별시', '은평구', nan, '은평로', '111']\n",
      "['서울특별시', '은평구', nan, nan, '은평로', '111']\n",
      "['경기도', '이천시', '마장면', nan, '덕이로154번길', '287 76', '휴게소', '정면', '좌측', '주차장(흡연장', '옆)']\n",
      "['강원도', '삼척시', '근덕면', nan, '용화해변길', '23']\n",
      "['부산광역시', '기장군', '정관읍', nan, '용수로', '4', '입구', '우측']\n",
      "['전라남도', '곡성군', '옥과면', nan, '천변로', '135']\n",
      "['울산광역시', '중구', nan, '북부순환도로', '375']\n",
      "['울산광역시', '중구', nan, nan, '북부순환도로', '375']\n",
      "['제주특별자치도', '제주시', '조천읍', nan, '비자림로', '768', '본관', '주차장']\n",
      "['울산광역시', '울주군', '두서면', nan, '반구대로', '1817 11']\n",
      "['충청남도', '보령시', '주교면', nan, '서해안고속도로', '199']\n",
      "['경기도', '파주시', nan, '와석순환로', '500', '2주차장']\n",
      "['경기도', '파주시', nan, nan, '와석순환로', '500', '2주차장']\n",
      "['경기도', '남양주시', nan, '늘을2로', '27']\n",
      "['경기도', '남양주시', nan, nan, '늘을2로', '27']\n",
      "['강원도', '평창군', '대화면', nan, '남산1길', '28']\n",
      "['대구광역시', '달성군', '가창면', nan, '가창로', '607 2']\n",
      "['서울특별시', '노원구', nan, '노원로', '330', '옥상', '매장', '앞']\n",
      "['서울특별시', '노원구', nan, nan, '노원로', '330', '옥상', '매장', '앞']\n",
      "['경상북도', '경산시', nan, '남매로', '100？']\n",
      "['경상북도', '경산시', nan, nan, '남매로', '100？']\n",
      "['서울특별시', '강서구', nan, '강서로5길', '50', '지상주차장']\n",
      "['서울특별시', '강서구', nan, nan, '강서로5길', '50', '지상주차장']\n",
      "['경상북도', '포항시 북구', '죽장면', nan, '새마을로', '3610']\n",
      "['부산광역시', '기장군', '장안읍', nan, '고무로', '294']\n",
      "['경상북도', '상주시', nan, '함창로', '581번지']\n",
      "['경상북도', '상주시', nan, nan, '함창로', '581번지']\n",
      "['경기도', '군포시', nan, '번영로', '485', '(산본동)']\n",
      "['경기도', '군포시', nan, nan, '번영로', '485', '(산본동)']\n",
      "['강원도', '횡성군', '우천면', nan, '우항1길', '5 30']\n",
      "['경기도', '화성시', nan, '경기대로', '985', '지상주차장', '3층', '4구역']\n",
      "['경기도', '화성시', nan, nan, '경기대로', '985', '지상주차장', '3층', '4구역']\n",
      "['경기도', '남양주시', '와부읍', nan, '월문천로', '33', '(덕소리)']\n",
      "['전라남도', '함평군', '함평읍', nan, '서해안고속도로', '38', '(죽암리)']\n",
      "['서울특별시', '강서구', nan, '가로공원로', '189', '지하주차장', '05']\n",
      "['서울특별시', '강서구', nan, nan, '가로공원로', '189', '지하주차장', '05']\n",
      "['대구광역시', '중구', nan, '국채보상로131길', '17', '대구시청', '앞', '주차장', '왼편']\n",
      "['대구광역시', '중구', nan, nan, '국채보상로131길', '17', '대구시청', '앞', '주차장', '왼편']\n",
      "['강원도', '속초시', nan, '동해대로', '3664']\n",
      "['강원도', '속초시', nan, nan, '동해대로', '3664']\n",
      "['경상남도', '창원시 성산구', nan, '창이대로', '888']\n",
      "['경상남도', '창원시 성산구', nan, nan, '창이대로', '888']\n",
      "['충청남도', '공주시', '의당면', nan, '의당로', '257']\n",
      "['경상남도', '의령군', '의령읍', nan, '의병로8길', '44', '게이트볼장', '옆', '주차장']\n",
      "['경상남도', '창녕군', '창녕읍', nan, '창녕대로', '307']\n",
      "['광주광역시', '동구', nan, '남문로', '418 15']\n",
      "['광주광역시', '동구', nan, nan, '남문로', '418 15']\n",
      "['대구광역시', '남구', nan, '두류공원로', '38']\n",
      "['대구광역시', '남구', nan, nan, '두류공원로', '38']\n",
      "['경기도', '수원시 권선구', nan, '동수원로', '232', '지하2층', '주차장', '좌측']\n",
      "['경기도', '수원시 권선구', nan, nan, '동수원로', '232', '지하2층', '주차장', '좌측']\n",
      "['광주광역시', '광산구', nan, '사암로', '172', '지상주차장', '4층', 'A구역']\n",
      "['광주광역시', '광산구', nan, nan, '사암로', '172', '지상주차장', '4층', 'A구역']\n",
      "['경기도', '여주시', '능서면', nan, '중부내륙고속도로', '271', '(매류리)']\n",
      "['강원도', '춘천시', nan, '삭주로', '3']\n",
      "['강원도', '춘천시', nan, nan, '삭주로', '3']\n",
      "['전라남도', '구례군', '산동면', nan, '산업로', '2319']\n",
      "['경기도', '안성시', '원곡면', nan, '경부고속도로', '372']\n",
      "['충청북도', '옥천군', '안남면', nan, '연주길', '46']\n",
      "['대구광역시', '달서구', nan, '공원순환로', '216', '성당휴게소', '주차장']\n",
      "['대구광역시', '달서구', nan, nan, '공원순환로', '216', '성당휴게소', '주차장']\n",
      "['충청북도', '청주시 서원구', nan, '수곡로', '61']\n",
      "['충청북도', '청주시 서원구', nan, nan, '수곡로', '61']\n",
      "['강원도', '강릉시', nan, '종합운동장길', '69']\n",
      "['강원도', '강릉시', nan, nan, '종합운동장길', '69']\n",
      "['전라남도', '영광군', '불갑면', nan, '방마로', '151', '불갑저수지', '수변공원']\n",
      "['전라남도', '곡성군', '겸면', nan, '호남고속도로', '49', '(가정리)']\n",
      "['충청남도', '보령시', '주교면', nan, '서해안고속도로', '200', '(주교리)']\n",
      "['강원도', '춘천시', nan, '지석로', '11']\n",
      "['강원도', '춘천시', nan, nan, '지석로', '11']\n",
      "['경기도', '화성시', '팔탄면', nan, '서해안고속도로', '301']\n",
      "['인천광역시', '남동구', nan, '경인로', '674']\n",
      "['인천광역시', '남동구', nan, nan, '경인로', '674']\n",
      "['경기도', '여주시', '능서면', nan, '중부내륙고속도로', '272', '(매류리)']\n",
      "['경상남도', '함안군', '군북면', nan, '지두2길', '15']\n",
      "['경상남도', '사천시', '축동면', nan, '서삼로', '1742']\n",
      "['대구광역시', '수성구', nan, '청수로31길', '45']\n",
      "['대구광역시', '수성구', nan, nan, '청수로31길', '45']\n",
      "['대전광역시', '유성구', nan, '유성대로', '26 37', '(원내동)']\n",
      "['대전광역시', '유성구', nan, nan, '유성대로', '26 37', '(원내동)']\n",
      "['광주광역시', '동구', nan, '의재로109번길', '10']\n",
      "['광주광역시', '동구', nan, nan, '의재로109번길', '10']\n",
      "['경기도', '광주시', nan, '중앙로', '103 5', '1층', '화장실', '옆']\n",
      "['경기도', '광주시', nan, nan, '중앙로', '103 5', '1층', '화장실', '옆']\n",
      "['경기도', '오산시', nan, '경기대로', '271 0', '(오산동)', '5층', '37구역']\n",
      "['경기도', '오산시', nan, nan, '경기대로', '271 0', '(오산동)', '5층', '37구역']\n",
      "['서울특별시', '관악구', nan, '관천로', '98', '1층']\n",
      "['서울특별시', '관악구', nan, nan, '관천로', '98', '1층']\n",
      "['인천광역시', '서구', nan, '봉수대로', '696']\n",
      "['인천광역시', '서구', nan, nan, '봉수대로', '696']\n",
      "['광주광역시', '서구', nan, '시청로', '40', '1층', '진입후', '우측']\n",
      "['광주광역시', '서구', nan, nan, '시청로', '40', '1층', '진입후', '우측']\n",
      "['서울특별시', '서초구', nan, '매헌로', '16', '지하주차장', '2층', 'Z구역']\n",
      "['서울특별시', '서초구', nan, nan, '매헌로', '16', '지하주차장', '2층', 'Z구역']\n",
      "['강원도', '양구군', '양구읍', nan, '비봉로73번길', '52']\n",
      "['제주특별자치도', '서귀포시', '안덕면', nan, '화순서서로', '74', '본관', '주차장']\n",
      "['강원도', '원주시', nan, '서원대로', '331']\n",
      "['강원도', '원주시', nan, nan, '서원대로', '331']\n",
      "['전라북도', '남원시', '운봉읍', nan, '황산로', '1026']\n",
      "['경기도', '안성시', nan, '시청길', '25']\n",
      "['경기도', '안성시', nan, nan, '시청길', '25']\n",
      "['전라북도', '정읍시', nan, '수성1로', '61']\n",
      "['전라북도', '정읍시', nan, nan, '수성1로', '61']\n",
      "['경기도', '남양주시', nan, '다산중앙로', '7']\n",
      "['경기도', '남양주시', nan, nan, '다산중앙로', '7']\n",
      "['광주광역시', '광산구', nan, '광산로68번길', '13']\n",
      "['광주광역시', '광산구', nan, nan, '광산로68번길', '13']\n",
      "['전라남도', '순천시', nan, '우석로', '94']\n",
      "['전라남도', '순천시', nan, nan, '우석로', '94']\n",
      "['충청북도', '청주시 상당구', '남일면', nan, '단재로', '466']\n",
      "['경기도', '부천시', nan, '연동로', '89']\n",
      "['경기도', '부천시', nan, nan, '연동로', '89']\n",
      "['제주특별자치도', '서귀포시', '남원읍', nan, '중산간동로', '7413']\n",
      "['충청남도', '금산군', '금산읍', nan, '군청길', '13']\n",
      "['제주특별자치도', '제주시', nan, '백포서길', '9']\n",
      "['제주특별자치도', '제주시', nan, nan, '백포서길', '9']\n",
      "['경상북도', '칠곡군', '왜관읍', nan, '경부고속도로', '158', '차량경정비', '좌측', '옥외', '주차장(휴게소', '건물', '주차장', '건너편)']\n",
      "['경기도', '평택시', nan, '탄현1로', '173', '송탄역', '공영주차장']\n",
      "['경기도', '평택시', nan, nan, '탄현1로', '173', '송탄역', '공영주차장']\n",
      "['경기도', '수원시 장안구', nan, '만석로19번길', '25 10', '(천천동)']\n",
      "['경기도', '수원시 장안구', nan, nan, '만석로19번길', '25 10', '(천천동)']\n",
      "['전라남도', '나주시', nan, '빛가람로', '601']\n",
      "['전라남도', '나주시', nan, nan, '빛가람로', '601']\n",
      "['경상남도', '창원시 성산구', nan, '원이대로', '608', '지상주차장', '6층', 'G구역']\n",
      "['경상남도', '창원시 성산구', nan, nan, '원이대로', '608', '지상주차장', '6층', 'G구역']\n",
      "['세종특별자치시', nan, '도움6로', '11']\n",
      "['세종특별자치시', nan, nan, '도움6로', '11']\n",
      "['세종특별자치시', nan, nan, nan, '도움6로', '11']\n",
      "['광주광역시', '북구', nan, '북문대로', '60']\n",
      "['광주광역시', '북구', nan, nan, '북문대로', '60']\n",
      "['경기도', '안양시 동안구', nan, '동안로', '158']\n",
      "['경기도', '안양시 동안구', nan, nan, '동안로', '158']\n",
      "['서울특별시', '강서구', nan, '양천로', '251', '입구', '우측']\n",
      "['서울특별시', '강서구', nan, nan, '양천로', '251', '입구', '우측']\n",
      "['경기도', '성남시 분당구', nan, '야탑로111번길', '12 14']\n",
      "['경기도', '성남시 분당구', nan, nan, '야탑로111번길', '12 14']\n",
      "['경상북도', '영천시', nan, '시청로', '16']\n",
      "['경상북도', '영천시', nan, nan, '시청로', '16']\n",
      "['경기도', '용인시 수지구', nan, '포은대로', '552', '지상주차장', '3층', 'B01구역']\n",
      "['경기도', '용인시 수지구', nan, nan, '포은대로', '552', '지상주차장', '3층', 'B01구역']\n",
      "['충청남도', '부여군', '규암면', nan, '백제문로', '400', '지하1층', 'J']\n",
      "['제주특별자치도', '제주시', nan, '516로', '2810 31(영평동)']\n",
      "['제주특별자치도', '제주시', nan, nan, '516로', '2810 31(영평동)']\n",
      "['전라북도', '완주군', '이서면', nan, '호남고속도로', '161', '(은교리)']\n",
      "['전라남도', '순천시', nan, '백강로', '32']\n",
      "['전라남도', '순천시', nan, nan, '백강로', '32']\n",
      "['경상남도', '창원시 마산회원구', nan, '삼호로', '80', '(양덕동)']\n",
      "['경상남도', '창원시 마산회원구', nan, nan, '삼호로', '80', '(양덕동)']\n",
      "['광주광역시', '서구', nan, '유덕로', '24', '(유촌동)']\n",
      "['광주광역시', '서구', nan, nan, '유덕로', '24', '(유촌동)']\n",
      "['경상북도', '포항시 남구', nan, '지곡로', '83']\n",
      "['경상북도', '포항시 남구', nan, nan, '지곡로', '83']\n",
      "['충청남도', '서천군', '비인면', nan, '서해안고속도로', '169', '(성산리)']\n",
      "['경기도', '이천시', '마장면', nan, '중부고속도로', '82', '지하주차장', '100구역']\n",
      "['전라남도', '장흥군', '장흥읍', nan, '우드랜드길', '180']\n",
      "['경상북도', '영천시', nan, '천문로', '594']\n",
      "['경상북도', '영천시', nan, nan, '천문로', '594']\n",
      "['경상남도', '양산시', '물금읍', nan, '황산로', '501']\n",
      "['전라남도', '순천시', nan, '덕연로', '41']\n",
      "['전라남도', '순천시', nan, nan, '덕연로', '41']\n",
      "['서울특별시', '강북구', nan, '도봉로61길', '46']\n",
      "['서울특별시', '강북구', nan, nan, '도봉로61길', '46']\n",
      "['서울특별시', '마포구', nan, '효창목길', '31', '옥상']\n",
      "['서울특별시', '마포구', nan, nan, '효창목길', '31', '옥상']\n",
      "['강원도', '횡성군', '안흥면', nan, '안흥로', '27']\n",
      "['경상북도', '김천시', nan, '시청로', '80', '(신음동)']\n",
      "['경상북도', '김천시', nan, nan, '시청로', '80', '(신음동)']\n",
      "['부산광역시', '기장군', '철마면', nan, '철마로', '543']\n",
      "['제주특별자치도', '서귀포시', nan, '토평로', '15', '영천동주민센터']\n",
      "['제주특별자치도', '서귀포시', nan, nan, '토평로', '15', '영천동주민센터']\n",
      "['경상북도', '포항시', nan, '연일로', '55']\n",
      "['경상북도', '포항시', nan, nan, '연일로', '55']\n",
      "['전라남도', '순천시', nan, '중앙로', '351']\n",
      "['전라남도', '순천시', nan, nan, '중앙로', '351']\n",
      "['충청남도', '공주시', '이인면', nan, '논산천안고속도로', '32']\n",
      "['서울특별시', '서대문구', nan, '홍제내길', '227', '입구', '좌측편']\n",
      "['서울특별시', '서대문구', nan, nan, '홍제내길', '227', '입구', '좌측편']\n",
      "['전라남도', '여수시', nan, '시청로', '1']\n",
      "['전라남도', '여수시', nan, nan, '시청로', '1']\n",
      "['전라남도', '장성군', '북이면', nan, '호남고속도로', '108', '(박산리)']\n",
      "['서울특별시', '종로구', nan, '창경궁로', '215', '우측']\n",
      "['서울특별시', '종로구', nan, nan, '창경궁로', '215', '우측']\n",
      "['경상남도', '창원시 성산구', nan, '공단로', '735', '외부화장실', '앞']\n",
      "['경상남도', '창원시 성산구', nan, nan, '공단로', '735', '외부화장실', '앞']\n",
      "['전라남도', '영광군', '백수읍', nan, '해안로', '918']\n",
      "['경기도', '안산시 상록구', nan, '충장로', '432', '지상주차장', '1층', '35구역']\n",
      "['경기도', '안산시 상록구', nan, nan, '충장로', '432', '지상주차장', '1층', '35구역']\n",
      "['충청북도', '괴산군', '연풍면', nan, '향교로', '71']\n",
      "['충청남도', '아산시', nan, '시민로', '456']\n",
      "['충청남도', '아산시', nan, nan, '시민로', '456']\n",
      "['충청북도', '청주시 청원구', '오창읍', nan, '두릉유리로', '1137 1']\n",
      "['전라남도', '담양군', '담양읍', nan, '죽향문화로', '35']\n",
      "['강원도', '원주시', nan, '입춘로', '5']\n",
      "['강원도', '원주시', nan, nan, '입춘로', '5']\n",
      "['경상남도', '양산시', nan, '목장길', '15 50']\n",
      "['경상남도', '양산시', nan, nan, '목장길', '15 50']\n",
      "['전라북도', '고창군', '신림면', nan, '서해안고속도로', '81', '휴게소', '우측', '옥외', '주차장']\n",
      "['전라북도', '남원시', nan, '시청로', '60']\n",
      "['전라북도', '남원시', nan, nan, '시청로', '60']\n",
      "['충청남도', '예산군', '신양면', nan, '당진영덕고속도로', '34']\n",
      "['전라북도', '남원시', '아영면', nan, '88올림픽고속도로', '75', '(아곡리)']\n",
      "['경상북도', '영천시', '북안면', nan, '운북로', '1995', '입구', '왼쪽', '주차장']\n",
      "['경기도', '성남시 수정구', nan, '산성대로', '41', '(수진동)']\n",
      "['경기도', '성남시 수정구', nan, nan, '산성대로', '41', '(수진동)']\n",
      "['충청북도', '청주시 청원구', nan, '향군로', '34']\n",
      "['충청북도', '청주시 청원구', nan, nan, '향군로', '34']\n",
      "['경기도', '하남시', nan, '미사강변한강로', '299', '지하주차장', '입구', '앞']\n",
      "['경기도', '하남시', nan, nan, '미사강변한강로', '299', '지하주차장', '입구', '앞']\n",
      "['울산광역시', '북구', nan, '진장유통로', '90']\n",
      "['울산광역시', '북구', nan, nan, '진장유통로', '90']\n",
      "['강원도', '삼척시', '원덕읍', nan, '삼척로', '1210']\n",
      "['충청남도', '논산시', '채운면', nan, '채운로', '41']\n",
      "['전라북도', '부안군', '부안읍', nan, '석정로', '162']\n",
      "['서울특별시', '중랑구', nan, '신내로', '156', '입구', '좌측', '주차장']\n",
      "['서울특별시', '중랑구', nan, nan, '신내로', '156', '입구', '좌측', '주차장']\n",
      "['경상북도', '구미시', nan, '선산대로', '111']\n",
      "['경상북도', '구미시', nan, nan, '선산대로', '111']\n",
      "['서울특별시', '강남구', nan, '개포로', '621']\n",
      "['서울특별시', '강남구', nan, nan, '개포로', '621']\n",
      "['충청남도', '당진시', nan, '틀모시로', '830']\n",
      "['충청남도', '당진시', nan, nan, '틀모시로', '830']\n",
      "['강원도', '원주시', nan, '북원로', '2873']\n",
      "['강원도', '원주시', nan, nan, '북원로', '2873']\n",
      "['광주광역시', '서구', nan, '매월2로', '16']\n",
      "['광주광역시', '서구', nan, nan, '매월2로', '16']\n",
      "['경상북도', '영천시', nan, '한방로', '53번지']\n",
      "['경상북도', '영천시', nan, nan, '한방로', '53번지']\n",
      "['전라남도', '순천시', '주암면', nan, '호남고속도로', '23']\n",
      "['전라남도', '함평군', '함평읍', nan, '서해안고속도로', '31', '(장교리)']\n",
      "['충청남도', '청양군', '정산면', nan, '천장호길', '223 35']\n",
      "['충청남도', '금산군', '군북면', nan, '어필각로', '300', '(외부리)']\n",
      "['경상남도', '거제시', nan, '서간도길', '9 9', '(옥포동)']\n",
      "['경상남도', '거제시', nan, nan, '서간도길', '9 9', '(옥포동)']\n",
      "['충청남도', '당진시', nan, '정안로', '20', '지상주차장', '1층', '매장입구', '우측']\n",
      "['충청남도', '당진시', nan, nan, '정안로', '20', '지상주차장', '1층', '매장입구', '우측']\n",
      "['제주특별자치도', '서귀포시', nan, '남성중로153번길', '15']\n",
      "['제주특별자치도', '서귀포시', nan, nan, '남성중로153번길', '15']\n",
      "['경상남도', '거제시', '사등면', nan, '성포로', '104']\n",
      "['경상남도', '창원시 마산합포구', nan, '드림베이대로', '56']\n",
      "['경상남도', '창원시 마산합포구', nan, nan, '드림베이대로', '56']\n",
      "['경상남도', '합천군', '가회면', nan, '서부로', '1563', '주차장', '입구']\n",
      "['전라북도', '익산시', nan, '익산대로', '1366 20']\n",
      "['전라북도', '익산시', nan, nan, '익산대로', '1366 20']\n",
      "['경기도', '여주시', nan, '여흥로160번길', '14']\n",
      "['경기도', '여주시', nan, nan, '여흥로160번길', '14']\n",
      "['강원도', '정선군', '고한읍', nan, '고한2길', '1']\n",
      "['부산광역시', '영도구', nan, '태종로', '423']\n",
      "['부산광역시', '영도구', nan, nan, '태종로', '423']\n",
      "['충청북도', '옥천군', '옥천읍', nan, '서대구일로', '265 19', '(매화리)']\n",
      "['경상남도', '밀양시', '무안면', nan, '사명로', '537']\n",
      "['충청북도', '괴산군', '불정면', nan, '목도로2길', '11']\n",
      "['서울특별시', '종로구', nan, '새문안로', '55']\n",
      "['서울특별시', '종로구', nan, nan, '새문안로', '55']\n",
      "['경기도', '화성시', '팔탄면', nan, '서해안고속도로', '301', '주차장', '우측']\n",
      "['강원도', '원주시', '신림면', nan, '다리실2길', '32', '(금창리)']\n",
      "['대구광역시', '달서구', nan, '달서대로', '675', '학생전용주차장', '옥상층']\n",
      "['대구광역시', '달서구', nan, nan, '달서대로', '675', '학생전용주차장', '옥상층']\n",
      "['서울특별시', '영등포구', nan, '당산로', '42', '지하2층', 'D1']\n",
      "['서울특별시', '영등포구', nan, nan, '당산로', '42', '지하2층', 'D1']\n",
      "['서울특별시', '강남구', nan, '남부순환로', '3104']\n",
      "['서울특별시', '강남구', nan, nan, '남부순환로', '3104']\n",
      "['충청북도', '음성군', '삼성면', nan, '덕정로30번길', '8']\n",
      "['서울특별시', '영등포구', nan, '영신로', '183']\n",
      "['서울특별시', '영등포구', nan, nan, '영신로', '183']\n",
      "['경상남도', '창원시 의창구', nan, '창원대로', '314']\n",
      "['경상남도', '창원시 의창구', nan, nan, '창원대로', '314']\n",
      "['전라남도', '영광군', '영광읍', nan, '월현로', '170']\n",
      "['경기도', '부천시', nan, '원미구', '석천로', '188', '지상주차장', '2층', 'D구역', '창고', '오른쪽']\n",
      "['경기도', '부천시', nan, nan, '원미구', '석천로', '188', '지상주차장', '2층', 'D구역', '창고', '오른쪽']\n",
      "['충청남도', '보령시', '주교면', nan, '울계큰길', '396']\n",
      "['서울특별시', '노원구', nan, '동일로204가길', '12', '5층', '출구앞']\n",
      "['서울특별시', '노원구', nan, nan, '동일로204가길', '12', '5층', '출구앞']\n",
      "['부산광역시', '수영구', nan, '민락수변로', '95']\n",
      "['부산광역시', '수영구', nan, nan, '민락수변로', '95']\n",
      "['대구광역시', '북구', nan, '복현로8길', '16 5']\n",
      "['대구광역시', '북구', nan, nan, '복현로8길', '16 5']\n",
      "['대구광역시', '남구', nan, '앞산순환로', '574 110']\n",
      "['대구광역시', '남구', nan, nan, '앞산순환로', '574 110']\n",
      "['강원도', '횡성군', '청일면', nan, '유동로', '17']\n",
      "['서울특별시', '성북구', nan, '화랑로', '76', '지하주차장', '3층', '98구역']\n",
      "['서울특별시', '성북구', nan, nan, '화랑로', '76', '지하주차장', '3층', '98구역']\n",
      "['서울특별시', '영등포구', nan, '신길로40길', '5', '1층', '정면']\n",
      "['서울특별시', '영등포구', nan, nan, '신길로40길', '5', '1층', '정면']\n",
      "['제주특별자치도', '서귀포시', '대정읍', nan, '추사로36번길', '1']\n",
      "['경상남도', '양산시', nan, '평산로', '71']\n",
      "['경상남도', '양산시', nan, nan, '평산로', '71']\n",
      "['대전광역시', '서구', nan, '정림서로', '181']\n",
      "['대전광역시', '서구', nan, nan, '정림서로', '181']\n",
      "['충청북도', '단양군', '단성면', nan, '충혼로', '16']\n",
      "['서울특별시', '강북구', nan, '삼양로107길', '30']\n",
      "['서울특별시', '강북구', nan, nan, '삼양로107길', '30']\n",
      "['울산광역시', '중구', nan, '내오산로', '33', '철탑', '맞은편']\n",
      "['울산광역시', '중구', nan, nan, '내오산로', '33', '철탑', '맞은편']\n",
      "['강원도', '원주시', nan, '입춘로', '65']\n",
      "['강원도', '원주시', nan, nan, '입춘로', '65']\n",
      "['경상북도', '상주시', '화남면', nan, '문장로', '758']\n",
      "['강원도', '춘천시', nan, '중앙로', '1']\n",
      "['강원도', '춘천시', nan, nan, '중앙로', '1']\n",
      "['경기도', '양평군', '개군면', nan, '추읍로', '37']\n",
      "['서울특별시', '성동구', nan, '광나루로4가길', '23']\n",
      "['서울특별시', '성동구', nan, nan, '광나루로4가길', '23']\n",
      "['경상남도', '창원시 의창구', nan, '소계로', '33']\n",
      "['경상남도', '창원시 의창구', nan, nan, '소계로', '33']\n",
      "['경상남도', '의령군', '의령읍', nan, '의령로', '108 17']\n",
      "['강원도', '정선군', '임계면', nan, '서동로', '4575']\n",
      "['강원도', '평창군', '미탄면', nan, '청옥산1길', '1']\n",
      "['경상북도', '울진군', '울진읍', nan, '울진중앙로', '121']\n",
      "['경상남도', '창녕군', '창녕읍', nan, '군청길', '1']\n",
      "['서울특별시', '노원구', nan, '덕릉로', '450']\n",
      "['서울특별시', '노원구', nan, nan, '덕릉로', '450']\n",
      "['인천광역시', '계양구', nan, '경명로', '990']\n",
      "['인천광역시', '계양구', nan, nan, '경명로', '990']\n",
      "['경상남도', '김해시', nan, '김해대로', '2330', '(부원동)']\n",
      "['경상남도', '김해시', nan, nan, '김해대로', '2330', '(부원동)']\n",
      "['울산광역시', '동구', nan, '꽃바위로', '325']\n",
      "['울산광역시', '동구', nan, nan, '꽃바위로', '325']\n",
      "['대구광역시', '달서구', nan, '상화로', '406']\n",
      "['대구광역시', '달서구', nan, nan, '상화로', '406']\n",
      "['충청북도', '청주시 청원구', '내수읍', nan, '오창대로', '980']\n",
      "['서울특별시', '송파구', nan, '오금로68길', '8']\n",
      "['서울특별시', '송파구', nan, nan, '오금로68길', '8']\n",
      "['서울특별시', '강서구', nan, '방화대로', '94', '호텔', '정면', '주차장']\n",
      "['서울특별시', '강서구', nan, nan, '방화대로', '94', '호텔', '정면', '주차장']\n",
      "['충청북도', '진천군', '진천읍', nan, '원덕로', '390', '지하주차장', '입구']\n",
      "['부산광역시', '동래구', nan, '중앙대로', '1495 10', '공영주차장']\n",
      "['부산광역시', '동래구', nan, nan, '중앙대로', '1495 10', '공영주차장']\n",
      "['충청북도', '증평군', '증평읍', nan, '장뜰로', '78']\n",
      "['경상북도', '경주시', nan, '천원2길', '9']\n",
      "['경상북도', '경주시', nan, nan, '천원2길', '9']\n",
      "['경상북도', '의성군', '봉양면', nan, '도리원3길', '31']\n",
      "['전라남도', '해남군', '해남읍', nan, '해남로', '160 60']\n",
      "['경기도', '화성시', '동탄면', nan, '동탄산단7길', '60']\n",
      "['서울특별시', '관악구', nan, '난곡로', '67']\n",
      "['서울특별시', '관악구', nan, nan, '난곡로', '67']\n",
      "['경상북도', '경주시', nan, '양정로', '260']\n",
      "['경상북도', '경주시', nan, nan, '양정로', '260']\n",
      "['울산광역시', '중구', nan, '단장골길', '1']\n",
      "['울산광역시', '중구', nan, nan, '단장골길', '1']\n",
      "['경기도', '오산시', nan, '경기대로', '181']\n",
      "['경기도', '오산시', nan, nan, '경기대로', '181']\n",
      "['충청북도', '단양군', '가곡면', nan, '남한강로', '550']\n",
      "['경상남도', '진주시', nan, '남해고속도로', '194', '충전소', '우측', '공터']\n",
      "['경상남도', '진주시', nan, nan, '남해고속도로', '194', '충전소', '우측', '공터']\n",
      "['경기도', '수원시 영통구', nan, '봉영로', '1579', '지하주차장', '5층', '503구역']\n",
      "['경기도', '수원시 영통구', nan, nan, '봉영로', '1579', '지하주차장', '5층', '503구역']\n",
      "['경기도', '수원시 영통구', nan, '센트럴타운로', '85 0', '(이의동)']\n",
      "['경기도', '수원시 영통구', nan, nan, '센트럴타운로', '85 0', '(이의동)']\n",
      "['충청북도', '음성군', '생극면', nan, '음성로', '1644']\n",
      "['강원도', '철원군', '철원읍', nan, '금학로330번길', '12']\n",
      "['서울특별시', '은평구', nan, '은평로', '111', '지하주차장', '4층', 'A구역']\n",
      "['서울특별시', '은평구', nan, nan, '은평로', '111', '지하주차장', '4층', 'A구역']\n",
      "['인천광역시', '중구', nan, '흰바위로', '51', '지상주차장', '4층', '455구역']\n",
      "['인천광역시', '중구', nan, nan, '흰바위로', '51', '지상주차장', '4층', '455구역']\n",
      "['전라남도', '함평군', '손불면', nan, '서해안고속도로', '38', '주차장', '입구']\n",
      "['경기도', '수원시 권선구', nan, '서수원로577번길', '171']\n",
      "['경기도', '수원시 권선구', nan, nan, '서수원로577번길', '171']\n",
      "['경기도', '구리시', nan, '서울외곽순환고속도로', '32', '(사노동)']\n",
      "['경기도', '구리시', nan, nan, '서울외곽순환고속도로', '32', '(사노동)']\n",
      "['서울특별시', '광진구', nan, '능동로', '216', '어린이대공원', '후문주차장']\n",
      "['서울특별시', '광진구', nan, nan, '능동로', '216', '어린이대공원', '후문주차장']\n",
      "['서울특별시', '금천구', nan, '두산로', '71', '(독산동)']\n",
      "['서울특별시', '금천구', nan, nan, '두산로', '71', '(독산동)']\n",
      "['부산광역시', '강서구', nan, '미음산단로295번길', '10']\n",
      "['부산광역시', '강서구', nan, nan, '미음산단로295번길', '10']\n",
      "['경기도', '동두천시', nan, '평화로2169번길', '21', '(송내동)']\n",
      "['경기도', '동두천시', nan, nan, '평화로2169번길', '21', '(송내동)']\n",
      "['충청남도', '홍성군', '은하면', nan, '서해안고속도로', '220', '출구방향', '야외쉼터', '부근', '옥외', '주차장']\n",
      "['경상북도', '김천시', '아포읍', nan, '국사길', '63', '뒤편', '주차장']\n",
      "['부산광역시', '부산진구', nan, '신천대로', '241']\n",
      "['부산광역시', '부산진구', nan, nan, '신천대로', '241']\n",
      "['전라남도', '순천시', '주암면', nan, '호남고속도로', '23', '주유소', '옆', '주차장(쉼터', '앞)']\n",
      "['전라북도', '임실군', nan, '충효로', '2096 16']\n",
      "['전라북도', '임실군', nan, nan, '충효로', '2096 16']\n",
      "['경상남도', '고성군', '고성읍', nan, '송학고분로', '193']\n",
      "['서울특별시', '양천구', nan, '남부순환로88길', '5 7']\n",
      "['서울특별시', '양천구', nan, nan, '남부순환로88길', '5 7']\n",
      "['서울특별시', '동작구', nan, '흑석로', '102', '다정관', '뒤편']\n",
      "['서울특별시', '동작구', nan, nan, '흑석로', '102', '다정관', '뒤편']\n",
      "['서울특별시', '강동구', nan, '성내로', '25']\n",
      "['서울특별시', '강동구', nan, nan, '성내로', '25']\n",
      "['부산광역시', '남구', nan, '전포대로91번길', '47', '지상주차장', '4층', 'A구역']\n",
      "['부산광역시', '남구', nan, nan, '전포대로91번길', '47', '지상주차장', '4층', 'A구역']\n",
      "['충청북도', '진천군', nan, '문화로', '69 4']\n",
      "['충청북도', '진천군', nan, nan, '문화로', '69 4']\n",
      "['울산광역시', '울주군', '청량읍', nan, '군청로', '1']\n",
      "['강원도', '홍천군', '서면', nan, '한치골길', '1122 54']\n",
      "['경상남도', '함안군', '대산면', nan, '대산중앙로', '176']\n",
      "['서울특별시', '영등포구', nan, '선유로', '138', '5층']\n",
      "['서울특별시', '영등포구', nan, nan, '선유로', '138', '5층']\n",
      "['부산광역시', '강서구', nan, '가락대로', '929']\n",
      "['부산광역시', '강서구', nan, nan, '가락대로', '929']\n",
      "['서울특별시', '강동구', nan, '고덕로28길', '36', '지하1층', '좌측']\n",
      "['서울특별시', '강동구', nan, nan, '고덕로28길', '36', '지하1층', '좌측']\n",
      "['인천광역시', '연수구', nan, '센트럴로', '123', '지하주차장', '1층']\n",
      "['인천광역시', '연수구', nan, nan, '센트럴로', '123', '지하주차장', '1층']\n",
      "['전라남도', '순천시', '황전면', nan, '백야중길', '12']\n",
      "['경기도', '시흥시', nan, '시흥대로', '869']\n",
      "['경기도', '시흥시', nan, nan, '시흥대로', '869']\n",
      "['부산광역시', '금정구', nan, '중앙대로', '2030', '주차장', '입구', '정면']\n",
      "['부산광역시', '금정구', nan, nan, '중앙대로', '2030', '주차장', '입구', '정면']\n",
      "['경기도', '용인시 처인구', '포곡읍', nan, '포곡로', '258', '입구', '왼쪽', '주차장', '끝부지']\n",
      "['경상북도', '고령군', '대가야읍', nan, '벽화길', '18']\n",
      "['울산광역시', '남구', nan, '번영로', '200']\n",
      "['울산광역시', '남구', nan, nan, '번영로', '200']\n",
      "['충청남도', '당진시', '송악읍', nan, '부곡공단4길', '53 13']\n",
      "['제주특별자치도', '제주시', nan, '임항로', '146']\n",
      "['제주특별자치도', '제주시', nan, nan, '임항로', '146']\n",
      "['경기도', '포천시', nan, '영북로', '115']\n",
      "['경기도', '포천시', nan, nan, '영북로', '115']\n",
      "['서울특별시', '금천구', nan, '시흥대로', '391']\n",
      "['서울특별시', '금천구', nan, nan, '시흥대로', '391']\n",
      "['전라북도', '부안군', '줄포면', nan, '줄포4길', '4']\n",
      "['경상남도', '김해시', nan, '김해대로', '2401']\n",
      "['경상남도', '김해시', nan, nan, '김해대로', '2401']\n",
      "['서울특별시', '도봉구', nan, '마들로', '645', '(방학동)']\n",
      "['서울특별시', '도봉구', nan, nan, '마들로', '645', '(방학동)']\n",
      "['전라북도', '고창군', '흥덕면', nan, '문화2길', '27']\n",
      "['울산광역시', '울주군', '웅촌면', nan, '새초천길', '12']\n",
      "['대전광역시', '대덕구', nan, '산업단지로', '27']\n",
      "['대전광역시', '대덕구', nan, nan, '산업단지로', '27']\n",
      "['대구광역시', '서구', nan, '당산로', '403']\n",
      "['대구광역시', '서구', nan, nan, '당산로', '403']\n",
      "['경기도', '과천시', nan, '중앙로', '294']\n",
      "['경기도', '과천시', nan, nan, '중앙로', '294']\n",
      "['서울특별시', '영등포구', nan, '여의대방로53길', '22']\n",
      "['서울특별시', '영등포구', nan, nan, '여의대방로53길', '22']\n",
      "['서울특별시', '성동구', nan, '고산자로26길', '6']\n",
      "['서울특별시', '성동구', nan, nan, '고산자로26길', '6']\n",
      "['경기도', '수원시 팔달구', nan, '창룡대로', '21']\n",
      "['경기도', '수원시 팔달구', nan, nan, '창룡대로', '21']\n",
      "['전라북도', '완주군', '이서면', nan, '이서로', '55']\n",
      "['전라남도', '광양시', nan, '공영로', '91']\n",
      "['전라남도', '광양시', nan, nan, '공영로', '91']\n",
      "['울산광역시', '중구', nan, '번영로', '620']\n",
      "['울산광역시', '중구', nan, nan, '번영로', '620']\n",
      "['전라북도', '정읍시', nan, '정우남로', '282']\n",
      "['전라북도', '정읍시', nan, nan, '정우남로', '282']\n",
      "['경상남도', '거창군', '거창읍', nan, '심소정길', '39 36']\n",
      "['경상북도', '영덕군', '영덕읍', nan, '군청길', '116']\n",
      "['충청남도', '청양군', '정산면', nan, '칠갑산로', '1857']\n",
      "['세종특별자치시', nan, '연기면', '정안세종로', '1527', '은하수공원', '화장시설', '주차장']\n",
      "['세종특별자치시', nan, '연기면', nan, '정안세종로', '1527', '은하수공원', '화장시설', '주차장']\n",
      "['전라북도', '진안군', '진안읍', nan, '진무로', '1189']\n",
      "['울산광역시', '북구', nan, '산업로', '970']\n",
      "['울산광역시', '북구', nan, nan, '산업로', '970']\n",
      "['대구광역시', '달성군', '논공읍', nan, '논공로', '749']\n",
      "['부산광역시', '영도구', nan, '해양로', '435 1', '한국조선해양기자재연구원옆']\n",
      "['부산광역시', '영도구', nan, nan, '해양로', '435 1', '한국조선해양기자재연구원옆']\n",
      "['충청남도', '당진시', nan, '면천로', '623', '사무소', '앞', '주차장']\n",
      "['충청남도', '당진시', nan, nan, '면천로', '623', '사무소', '앞', '주차장']\n",
      "['경상북도', '김천시', nan, '운동장길', '1']\n",
      "['경상북도', '김천시', nan, nan, '운동장길', '1']\n",
      "['충청남도', '보령시', '주교면', nan, '서해안고속도로', '200']\n",
      "['울산광역시', '북구', nan, '산업로', '1103']\n",
      "['울산광역시', '북구', nan, nan, '산업로', '1103']\n",
      "['강원도', '철원군', '갈말읍', nan, '명성로', '178']\n",
      "['전라남도', '고흥군', '봉래면', nan, '나로도항길', '120 7']\n",
      "['경상남도', '양산시', nan, '신평강변8길', '11']\n",
      "['경상남도', '양산시', nan, nan, '신평강변8길', '11']\n",
      "['경상남도', '함안군', '칠원읍', nan, '삼칠로', '155']\n",
      "['전라남도', '여수시', nan, '좌수영로', '69(광무동)']\n",
      "['전라남도', '여수시', nan, nan, '좌수영로', '69(광무동)']\n",
      "['대구광역시', '달성군', '현풍면', nan, '국가산단북로', '360']\n",
      "['충청북도', '괴산군', '장연면', nan, '미선로오가5길', '7']\n",
      "['제주특별자치도', '제주시', nan, '광양9길', '10', '제주시청', '입구', '좌측', '주차장']\n",
      "['제주특별자치도', '제주시', nan, nan, '광양9길', '10', '제주시청', '입구', '좌측', '주차장']\n",
      "['경상북도', '예천군', '호명면', nan, '행복로', '35']\n",
      "['충청남도', '홍성군', '은하면', nan, '서해안고속도로', '221', '(금국리)']\n",
      "['경상남도', '함안군', '가야읍', nan, '함안대로', '505']\n",
      "['전라북도', '정읍시', nan, '내장산로', '390']\n",
      "['전라북도', '정읍시', nan, nan, '내장산로', '390']\n",
      "['강원도', '삼척시', nan, '동해대로', '4234', '테니스장', '옆']\n",
      "['강원도', '삼척시', nan, nan, '동해대로', '4234', '테니스장', '옆']\n",
      "['강원도', '철원군', '갈말읍', nan, '삼부연로', '38']\n",
      "['충청북도', '괴산군', '청안면', nan, '청안읍내로2길', '10']\n",
      "['울산광역시', '중구', nan, '종가로', '395']\n",
      "['울산광역시', '중구', nan, nan, '종가로', '395']\n",
      "['강원도', '횡성군', '강림면', nan, '태종로', '42']\n",
      "['전라북도', '순창군', '순창읍', nan, '장류로', '407 7']\n",
      "['울산광역시', '동구', nan, '봉수로', '155', '보건소', '앞', '지상주차장']\n",
      "['울산광역시', '동구', nan, nan, '봉수로', '155', '보건소', '앞', '지상주차장']\n",
      "['부산광역시', '북구', nan, '화명대로', '47(화명동)']\n",
      "['부산광역시', '북구', nan, nan, '화명대로', '47(화명동)']\n",
      "['경기도', '양주시', '백석읍', nan, '꿈나무로', '199']\n",
      "['경상북도', '경주시', nan, '동대로', '123']\n",
      "['경상북도', '경주시', nan, nan, '동대로', '123']\n",
      "['서울특별시', '용산구', nan, '회나무로', '55？']\n",
      "['서울특별시', '용산구', nan, nan, '회나무로', '55？']\n",
      "['광주광역시', '광산구', nan, '광산로29번길', '15']\n",
      "['광주광역시', '광산구', nan, nan, '광산로29번길', '15']\n",
      "['전라남도', '순천시', nan, '중앙로', '255']\n",
      "['전라남도', '순천시', nan, nan, '중앙로', '255']\n",
      "['경기도', '의정부시', nan, '시민로19번길', '13', '지하2층', 'M50', '기둥옆']\n",
      "['경기도', '의정부시', nan, nan, '시민로19번길', '13', '지하2층', 'M50', '기둥옆']\n",
      "['울산광역시', '동구', nan, '진성8길', '119', '입구', '소형차', '주차구역']\n",
      "['울산광역시', '동구', nan, nan, '진성8길', '119', '입구', '소형차', '주차구역']\n",
      "['제주특별자치도', '서귀포시', '대정읍', nan, '에듀시티로', '84', '지원사무소', '앞', '주차장']\n",
      "['울산광역시', '북구', nan, '무룡로', '1096']\n",
      "['울산광역시', '북구', nan, nan, '무룡로', '1096']\n",
      "['전라남도', '무안군', nan, '공항로', '347 83']\n",
      "['전라남도', '무안군', nan, nan, '공항로', '347 83']\n",
      "['제주특별자치도', '서귀포시', '성산읍', nan, '중산간동로', '4150 30']\n",
      "['전라남도', '완도군', '완도읍', nan, '장보고대로', '335']\n",
      "['경상남도', '합천군', '쌍백면', nan, '쌍백중앙로', '162 8']\n",
      "['경상북도', '칠곡군', '왜관읍', nan, '석전로7길', '58']\n",
      "['대구광역시', '북구', nan, '유통단지로', '90', '제1주차장', '지하3층', '14A']\n",
      "['대구광역시', '북구', nan, nan, '유통단지로', '90', '제1주차장', '지하3층', '14A']\n",
      "['경상북도', '영천시', nan, '장수로', '19']\n",
      "['경상북도', '영천시', nan, nan, '장수로', '19']\n",
      "['경상북도', '영천시', nan, '시청로', '17？']\n",
      "['경상북도', '영천시', nan, nan, '시청로', '17？']\n",
      "['광주광역시', '광산구', nan, '하남대로', '127 10']\n",
      "['광주광역시', '광산구', nan, nan, '하남대로', '127 10']\n",
      "['경상남도', '창원시 의창구', nan, '중앙대로', '300', '정문', '우측']\n",
      "['경상남도', '창원시 의창구', nan, nan, '중앙대로', '300', '정문', '우측']\n",
      "['경상북도', '고령군', '쌍림면', nan, '대가야로', '613']\n",
      "['경상남도', '진주시', nan, '동진로', '155', '지하주차장', '1층', '라 1구역']\n",
      "['경상남도', '진주시', nan, nan, '동진로', '155', '지하주차장', '1층', '라 1구역']\n",
      "['충청북도', '보은군', '속리산면', nan, '법주사로', '84']\n",
      "['충청북도', '옥천군', '청성면', nan, '산계길', '53']\n",
      "['충청남도', '당진시', '합덕읍', nan, '중방로', '7', '주차장', '내']\n",
      "['경상남도', '함양군', '함양읍', nan, '필봉산길', '55']\n",
      "['경상북도', '포항시 남구', nan, '철강로', '362', '후면', '주차장']\n",
      "['경상북도', '포항시 남구', nan, nan, '철강로', '362', '후면', '주차장']\n",
      "['경상북도', '성주군', '선남면', nan, '중부내륙고속도로', '77', '(명포리)']\n",
      "['전라남도', '순천시', nan, '조례신대길', '6(조례동)']\n",
      "['전라남도', '순천시', nan, nan, '조례신대길', '6(조례동)']\n",
      "['제주특별자치도', '서귀포시', '성산읍', nan, '서성일로', '260', '모구리야영장']\n",
      "['경상북도', '김천시', nan, '혁신8로', '77']\n",
      "['경상북도', '김천시', nan, nan, '혁신8로', '77']\n",
      "['충청북도', '충주시', '주덕읍', nan, '신덕로', '1359']\n",
      "['전라남도', '구례군', '산동면', nan, '노고단로', '1068']\n",
      "['광주광역시', '동구', nan, '동계천로', '150']\n",
      "['광주광역시', '동구', nan, nan, '동계천로', '150']\n",
      "['인천광역시', '서구', nan, '원창로', '92']\n",
      "['인천광역시', '서구', nan, nan, '원창로', '92']\n",
      "['전라남도', '완도군', '완도읍', nan, '농공단지길', '34']\n",
      "['경상북도', '영주시', nan, '시청로', '1', '입구', '우측']\n",
      "['경상북도', '영주시', nan, nan, '시청로', '1', '입구', '우측']\n",
      "['강원도', '화천군', '화천읍', nan, '산천어길', '79']\n",
      "['인천광역시', '옹진군', '영흥면', nan, '영흥북로', '382']\n",
      "['경상북도', '청도군', '운문면', nan, '청려로', '4707', '정문', '왼쪽편']\n",
      "['전라남도', '구례군', '마산면', nan, '화엄사로', '372']\n",
      "['전라북도', '완주군', '소양면', nan, '소양로', '161']\n",
      "['서울특별시', '강남구', nan, '개포로', '509', '지하주차장', '1층', '8구역']\n",
      "['서울특별시', '강남구', nan, nan, '개포로', '509', '지하주차장', '1층', '8구역']\n",
      "['전라남도', '담양군', '대전면', nan, '중옥길', '34']\n",
      "['경기도', '양평군', '양동면', nan, '학둔지아래길', '20']\n",
      "['경상남도', '밀양시', '삼랑진읍', nan, '삼랑진로', '390']\n",
      "['경기도', '화성시', nan, '삼성1로', '333', '(반월동)']\n",
      "['경기도', '화성시', nan, nan, '삼성1로', '333', '(반월동)']\n",
      "['전라북도', '장수군', '장수읍', nan, '호비로', '10']\n",
      "['경상북도', '경산시', '진량읍', nan, '공단로', '299']\n",
      "['전라남도', '영광군', nan, '천년로', '1329']\n",
      "['전라남도', '영광군', nan, nan, '천년로', '1329']\n",
      "['서울특별시', '강서구', nan, '까치산로4길', '22', '지하주차장', '101']\n",
      "['서울특별시', '강서구', nan, nan, '까치산로4길', '22', '지하주차장', '101']\n",
      "['인천광역시', '서구', nan, '원삭로', '160', '주차장', '입구', '우측', '완속충전기', '옆']\n",
      "['인천광역시', '서구', nan, nan, '원삭로', '160', '주차장', '입구', '우측', '완속충전기', '옆']\n",
      "['전라북도', '장수군', '장수읍', nan, '논개사당길', '65']\n",
      "['대구광역시', '달성군', '구지면', nan, '구지서로', '1']\n",
      "['전라남도', '나주시', '다도면', nan, '다도로', '759']\n",
      "['제주특별자치도', '제주시', '애월읍', nan, '녹고메길', '165', '도로쪽', '주차장']\n",
      "['경상북도', '상주시', nan, '영남제일로', '1273']\n",
      "['경상북도', '상주시', nan, nan, '영남제일로', '1273']\n",
      "['부산광역시', '기장군', '정관읍', nan, '정관중앙로', '83 14']\n",
      "['강원도', '고성군', '토성면', nan, '성대로', '314 28']\n",
      "['충청북도', '증평군', '증평읍', nan, '중부로', '2451']\n",
      "['전라북도', '남원시', nan, '요천로', '1283']\n",
      "['전라북도', '남원시', nan, nan, '요천로', '1283']\n",
      "['충청북도', '청주시', nan, '오송생명2로', '187번지']\n",
      "['충청북도', '청주시', nan, nan, '오송생명2로', '187번지']\n",
      "['대구광역시', '수성구', nan, '알파시티1로', '170', '지하주차장', 'B01']\n",
      "['대구광역시', '수성구', nan, nan, '알파시티1로', '170', '지하주차장', 'B01']\n",
      "['경기도', '수원시 장안구', nan, '송원로', '101', '지하', '주차장', '진입', '후', '우측']\n",
      "['경기도', '수원시 장안구', nan, nan, '송원로', '101', '지하', '주차장', '진입', '후', '우측']\n",
      "['부산광역시', '수영구', nan, '수영로', '429']\n",
      "['부산광역시', '수영구', nan, nan, '수영로', '429']\n",
      "['전라남도', '무안군', '삼향읍', nan, '남악로', '327']\n",
      "['충청남도', '보령시', '청라면', nan, '원모루길', '219']\n",
      "['서울특별시', '강서구', nan, '양천로', '431', '지하주차장', '1층']\n",
      "['서울특별시', '강서구', nan, nan, '양천로', '431', '지하주차장', '1층']\n",
      "['전라남도', '무안군', '일로읍', nan, '일로중앙로', '37']\n",
      "['경상북도', '고령군', '다산면', nan, '다산로', '681']\n",
      "['경상남도', '산청군', '신안면', nan, '산청대로', '1169']\n",
      "['경기도', '양주시', '은현면', nan, '은남로', '177']\n",
      "['충청북도', '청주시 상당구', '가덕면', nan, '보청대로', '4646']\n",
      "['서울특별시', '마포구', nan, '월드컵로', '240', '지상주차장', '1층']\n",
      "['서울특별시', '마포구', nan, nan, '월드컵로', '240', '지상주차장', '1층']\n",
      "['충청북도', '옥천군', nan, '현리길', '66']\n",
      "['충청북도', '옥천군', nan, nan, '현리길', '66']\n",
      "['대구광역시', '수성구', nan, '지범로', '232', '지하', '좌측']\n",
      "['대구광역시', '수성구', nan, nan, '지범로', '232', '지하', '좌측']\n",
      "['광주광역시', '광산구', nan, '고봉로', '788']\n",
      "['광주광역시', '광산구', nan, nan, '고봉로', '788']\n",
      "['대전광역시', '중구', nan, '동서대로1322번길', '81']\n",
      "['대전광역시', '중구', nan, nan, '동서대로1322번길', '81']\n",
      "['부산광역시', '부산진구', nan, '화지로', '12']\n",
      "['부산광역시', '부산진구', nan, nan, '화지로', '12']\n",
      "['강원도', '삼척시', '신기면', nan, '환선로', '772']\n",
      "['경상북도', '고령군', '대가야읍', nan, '일량본길', '137']\n",
      "['서울특별시', '마포구', nan, '매봉산로', '37']\n",
      "['서울특별시', '마포구', nan, nan, '매봉산로', '37']\n",
      "['경상북도', '포항시 북구', nan, '삼호로', '31', '포항시립', '포은도서관']\n",
      "['경상북도', '포항시 북구', nan, nan, '삼호로', '31', '포항시립', '포은도서관']\n",
      "['전라남도', '진도군', '진도읍', nan, '철마길', '25']\n",
      "['강원도', '속초시', nan, '설악산로', '470 7']\n",
      "['강원도', '속초시', nan, nan, '설악산로', '470 7']\n",
      "['충청북도', '영동군', '영동읍', nan, '동정로', '1']\n",
      "['인천광역시', '중구', nan, '공항로424번길', '47', '정문', '주차장']\n",
      "['인천광역시', '중구', nan, nan, '공항로424번길', '47', '정문', '주차장']\n",
      "['경기도', '성남시 수정구', nan, '수정로', '201', '지하주차장', '2층', 'C3구역']\n",
      "['경기도', '성남시 수정구', nan, nan, '수정로', '201', '지하주차장', '2층', 'C3구역']\n",
      "['충청북도', '단양군', '어상천면', nan, '어상천로', '928', '어상천면사무소', '입구']\n",
      "['울산광역시', '북구', nan, '호계2길', '10']\n",
      "['울산광역시', '북구', nan, nan, '호계2길', '10']\n",
      "['서울특별시', '영등포구', nan, '의사당대로', '1', '국회의원회관', '주차장', '우측']\n",
      "['서울특별시', '영등포구', nan, nan, '의사당대로', '1', '국회의원회관', '주차장', '우측']\n",
      "['경상북도', '상주시', nan, '성동새싹길', '42']\n",
      "['경상북도', '상주시', nan, nan, '성동새싹길', '42']\n",
      "['경기도', '안성시', '죽산면', nan, '죽산초교길', '57 1']\n",
      "['전라북도', '장수군', '천천면', nan, '장천로', '1186']\n",
      "['전라남도', '곡성군', '곡성읍', nan, '학교로', '8']\n",
      "['경상북도', '경주시', '안강읍', nan, '구부랑두림길', '59 14']\n",
      "['경상남도', '거창군', '거창읍', nan, '거함대로', '3322']\n",
      "['전라남도', '장흥군', '관산읍', nan, '천관산']\n",
      "['대전광역시', '유성구', nan, '구룡달전로', '22']\n",
      "['대전광역시', '유성구', nan, nan, '구룡달전로', '22']\n",
      "['경기도', '과천시', nan, '관문로', '69', '과천시청']\n",
      "['경기도', '과천시', nan, nan, '관문로', '69', '과천시청']\n",
      "['전라남도', '순천시', '승주읍', nan, '승주로', '628']\n",
      "['충청남도', '홍성군', '홍성읍', nan, '조양로247번길', '9', '(고암리)']\n",
      "['전라남도', '여수시', '화양면', nan, '화양로', '1436 9']\n",
      "['강원도', '삼척시', '신기면', nan, '신기길', '15']\n",
      "['광주광역시', '광산구', nan, '소촌로152번길', '53 27']\n",
      "['광주광역시', '광산구', nan, nan, '소촌로152번길', '53 27']\n",
      "['강원도', '태백시', nan, '강원남부로', '302']\n",
      "['강원도', '태백시', nan, nan, '강원남부로', '302']\n",
      "['경기도', '안양시 동안구', nan, '엘에스로', '92', '지하주차장', '2층', 'D1', '구역']\n",
      "['경기도', '안양시 동안구', nan, nan, '엘에스로', '92', '지하주차장', '2층', 'D1', '구역']\n",
      "['광주광역시', '북구', nan, '동문대로456번길', '40', '주차장', '1층']\n",
      "['광주광역시', '북구', nan, nan, '동문대로456번길', '40', '주차장', '1층']\n",
      "['대전광역시', '유성구', nan, '장대로', '120']\n",
      "['대전광역시', '유성구', nan, nan, '장대로', '120']\n",
      "['광주광역시', '서구', nan, '눌재로', '420', '(세하동)']\n",
      "['광주광역시', '서구', nan, nan, '눌재로', '420', '(세하동)']\n",
      "['충청남도', '공주시', '신풍면', nan, '안뜸길', '14']\n",
      "['광주광역시', '남구', nan, '송암로', '66', '도로쪽', '주차장']\n",
      "['광주광역시', '남구', nan, nan, '송암로', '66', '도로쪽', '주차장']\n",
      "['경상북도', '고령군', '성산면', nan, '성산로', '897']\n",
      "['경상북도', '영천시', '금호읍', nan, '금호로', '153']\n",
      "['충청북도', '영동군', '용산면', nan, '용산로', '324']\n",
      "['서울특별시', '은평구', nan, '수색로', '342 1']\n",
      "['서울특별시', '은평구', nan, nan, '수색로', '342 1']\n",
      "['울산광역시', '울주군', '온양읍', nan, '남창로', '905']\n",
      "['경상북도', '경주시', nan, '유림로5번길', '85 15호']\n",
      "['경상북도', '경주시', nan, nan, '유림로5번길', '85 15호']\n",
      "['전라남도', '순천시', '해룡면', nan, '대안마산길', '180']\n",
      "['경상북도', '영천시', '화북면', nan, '천문로', '3087']\n",
      "['강원도', '삼척시', nan, '동해대로', '4098']\n",
      "['강원도', '삼척시', nan, nan, '동해대로', '4098']\n",
      "['인천광역시', '서구', nan, '가정로151번길', '11', '지하주차장', '1층', 'M0구역']\n",
      "['인천광역시', '서구', nan, nan, '가정로151번길', '11', '지하주차장', '1층', 'M0구역']\n",
      "['대구광역시', '북구', nan, '성북로', '55']\n",
      "['대구광역시', '북구', nan, nan, '성북로', '55']\n",
      "['경기도', '구리시', nan, '체육관로', '74']\n",
      "['경기도', '구리시', nan, nan, '체육관로', '74']\n",
      "['경기도', '용인시 처인구', nan, '용문로', '140']\n",
      "['경기도', '용인시 처인구', nan, nan, '용문로', '140']\n",
      "['강원도', '양구군', '방산면', nan, '평화로', '5182']\n",
      "['서울특별시', '강남구', nan, '남부순환로', '3104', '지하주차장', '3층', 'M418구역']\n",
      "['서울특별시', '강남구', nan, nan, '남부순환로', '3104', '지하주차장', '3층', 'M418구역']\n",
      "['경상북도', '영덕군', '축산면', nan, '도곡길', '67']\n",
      "['전라남도', '목포시', nan, '영산로', '843']\n",
      "['전라남도', '목포시', nan, nan, '영산로', '843']\n",
      "['경기도', '시흥시', nan, '희망공원로', '269', '지상주차장', '1층', 'A0구역']\n",
      "['경기도', '시흥시', nan, nan, '희망공원로', '269', '지상주차장', '1층', 'A0구역']\n",
      "['경상남도', '창원시 의창구', nan, '의창대로', '1024']\n",
      "['경상남도', '창원시 의창구', nan, nan, '의창대로', '1024']\n",
      "['인천광역시', '중구', nan, '공항동로296번길', '69']\n",
      "['인천광역시', '중구', nan, nan, '공항동로296번길', '69']\n",
      "['광주광역시', '광산구', nan, '북문대로', '482']\n",
      "['광주광역시', '광산구', nan, nan, '북문대로', '482']\n",
      "['서울특별시', '강남구', nan, '개포로25길', '32']\n",
      "['서울특별시', '강남구', nan, nan, '개포로25길', '32']\n",
      "['부산광역시', '기장군', '철마면', nan, '485']\n",
      "['경상북도', '성주군', '수륜면', nan, '참별로', '915']\n",
      "['경기도', '수원시 장안구', nan, '경수대로', '893']\n",
      "['경기도', '수원시 장안구', nan, nan, '경수대로', '893']\n",
      "['부산광역시', '사하구', nan, '을숙도대로', '665']\n",
      "['부산광역시', '사하구', nan, nan, '을숙도대로', '665']\n",
      "['전라남도', '나주시', '다시면', nan, '다시로', '175 24']\n",
      "['대구광역시', '북구', nan, '노원로', '32', '입구', '좌측']\n",
      "['대구광역시', '북구', nan, nan, '노원로', '32', '입구', '좌측']\n",
      "['제주특별자치도', '서귀포시', nan, '중산간서로', '212', '농업기술원', '민원인', '주차장', '안쪽']\n",
      "['제주특별자치도', '서귀포시', nan, nan, '중산간서로', '212', '농업기술원', '민원인', '주차장', '안쪽']\n",
      "['전라북도', '남원시', '주천면', nan, '정령치로', '61']\n",
      "['충청북도', '충주시', '살미면', nan, '세성로', '41']\n",
      "['경기도', '군포시', nan, '군포로609번안길', '12']\n",
      "['경기도', '군포시', nan, nan, '군포로609번안길', '12']\n",
      "['경상남도', '창원시 마산회원구', nan, '삼호로', '56', '지하주차장', '2층']\n",
      "['경상남도', '창원시 마산회원구', nan, nan, '삼호로', '56', '지하주차장', '2층']\n",
      "['전라남도', '무안군', nan, '무안로', '530', '군청', '후면', '주차장']\n",
      "['전라남도', '무안군', nan, nan, '무안로', '530', '군청', '후면', '주차장']\n",
      "['충청북도', '영동군', '황간면', nan, '남성2길', '11']\n",
      "['경기도', '의정부시', nan, '동일로', '30']\n",
      "['경기도', '의정부시', nan, nan, '동일로', '30']\n",
      "['강원도', '평창군', '평창읍', nan, '군청길', '77']\n",
      "['충청남도', '당진시', '송악읍', nan, '부곡공단4길', '53 13', '복지회관', '주차장', '내']\n",
      "['전라남도', '무안군', '운남면', nan, '운해로', '607']\n",
      "['경상남도', '진주시', nan, '월아산로', '2026']\n",
      "['경상남도', '진주시', nan, nan, '월아산로', '2026']\n",
      "['충청북도', '영동군', '학산면', nan, '서산로', '76']\n",
      "['경상북도', '예천군', '예천읍', nan, '충효로', '111']\n",
      "['경상북도', '경주시', '외동읍', nan, '산업로', '2759']\n",
      "['충청남도', '보령시', '주포면', nan, '보령읍성길', '38 1']\n",
      "['충청북도', '괴산군', '청천면', nan, '금관로', '473']\n",
      "['강원도', '삼척시', '가곡면', nan, '가곡천로', '1476']\n",
      "['충청남도', '부여군', '석성면', nan, '대백제로', '3050']\n",
      "['부산광역시', '사상구', nan, '엄궁로191번길', '23(엄궁동)']\n",
      "['부산광역시', '사상구', nan, nan, '엄궁로191번길', '23(엄궁동)']\n",
      "['충청북도', '제천시', '한수면', nan, '미륵송계로', '1647']\n",
      "['경상남도', '합천군', '가야면', nan, '가야산로', '1200']\n",
      "['충청북도', '충주시', '산척면', nan, '동산로', '736']\n",
      "['충청남도', '공주시', '우성면', nan, '동대리길', '57 1']\n",
      "['전라남도', '순천시', nan, '역전광장1길', '4']\n",
      "['전라남도', '순천시', nan, nan, '역전광장1길', '4']\n",
      "['서울특별시', '강북구', nan, '도봉로69길', '29']\n",
      "['서울특별시', '강북구', nan, nan, '도봉로69길', '29']\n",
      "['충청북도', '청주시 상당구', '미원면', nan, '단재로', '2472']\n",
      "['울산광역시', '동구', nan, '대송로', '140']\n",
      "['울산광역시', '동구', nan, nan, '대송로', '140']\n",
      "['인천광역시', '서구', nan, '서곶로', '307']\n",
      "['인천광역시', '서구', nan, nan, '서곶로', '307']\n",
      "['충청남도', '당진시', '석문면', nan, '대호만로', '1736 7', '주차장', '내']\n",
      "['부산광역시', '연제구', nan, '종합운동장로', '7', '지하주차장', '1층', '35구역']\n",
      "['부산광역시', '연제구', nan, nan, '종합운동장로', '7', '지하주차장', '1층', '35구역']\n",
      "['광주광역시', '북구', nan, '첨단과기로', '339']\n",
      "['광주광역시', '북구', nan, nan, '첨단과기로', '339']\n",
      "['전라남도', '완도군', '완도읍', nan, '청해진남로', '51']\n",
      "['대전광역시', '유성구', nan, '과학로', '82']\n",
      "['대전광역시', '유성구', nan, nan, '과학로', '82']\n",
      "['경상남도', '거창군', '위천면', nan, '황산1길', '60 6']\n",
      "['전라남도', '나주시', '반남면', nan, '자미로', '6']\n",
      "['충청남도', '서천군', '시초면', nan, '시초북로', '37']\n",
      "['전라북도', '익산시', nan, '평동로', '457']\n",
      "['전라북도', '익산시', nan, nan, '평동로', '457']\n",
      "['충청북도', '옥천군', '옥천읍', nan, '중앙로', '135', '(삼양리)']\n",
      "['경상북도', '의성군', '안계면', nan, '서부로', '1783']\n",
      "['전라북도', '군산시', '성산면', nan, '서해안고속도로', '141', '휴게소와', '주유소', '사이', '옥외', '주차장']\n",
      "['강원도', '삼척시', '도계읍', nan, '도계로', '202']\n",
      "['세종특별자치시', nan, '다솜2로', '11', '정부세종청사', '종합안내실', '정문', '우측도보']\n",
      "['세종특별자치시', nan, nan, '다솜2로', '11', '정부세종청사', '종합안내실', '정문', '우측도보']\n",
      "['세종특별자치시', nan, nan, nan, '다솜2로', '11', '정부세종청사', '종합안내실', '정문', '우측도보']\n",
      "['경상북도', '성주군', '대가면', nan, '참별로', '2257']\n",
      "['경기도', '시흥시', nan, '금이진말길', '34']\n",
      "['경기도', '시흥시', nan, nan, '금이진말길', '34']\n",
      "['서울특별시', '구로구', nan, '벚꽃로', '370']\n",
      "['서울특별시', '구로구', nan, nan, '벚꽃로', '370']\n",
      "['인천광역시', '서구', nan, '탁옥로51번길', '26', '서구청후문', '주차타워', '지상', '1층']\n",
      "['인천광역시', '서구', nan, nan, '탁옥로51번길', '26', '서구청후문', '주차타워', '지상', '1층']\n",
      "['충청북도', '청주시 청원구', '오창읍', nan, '가곡길', '46']\n",
      "['서울특별시', '송파구', nan, '올림픽로', '240', '지하주차장', '1층', 'M148구역']\n",
      "['서울특별시', '송파구', nan, nan, '올림픽로', '240', '지하주차장', '1층', 'M148구역']\n",
      "['충청남도', '청양군', '대치면', nan, '칠갑산로', '668 103']\n",
      "['경상남도', '밀양시', nan, '밀양대로', '2057 21', '입구', '왼쪽', '주차장']\n",
      "['경상남도', '밀양시', nan, nan, '밀양대로', '2057 21', '입구', '왼쪽', '주차장']\n",
      "['인천광역시', '연수구', nan, '경원대로', '184', '주차장', '옥상']\n",
      "['인천광역시', '연수구', nan, nan, '경원대로', '184', '주차장', '옥상']\n",
      "['경상북도', '예천군', '예천읍', nan, '양궁장길', '38']\n",
      "['충청북도', '옥천군', '동이면', nan, '평산4길', '2']\n",
      "['경기도', '의정부시', nan, '청사로', '38', '지상주차장', '5층']\n",
      "['경기도', '의정부시', nan, nan, '청사로', '38', '지상주차장', '5층']\n",
      "['경상남도', '창원시 진해구', nan, '명동로', '62', '진해해양공원', '지상전망대', '옆']\n",
      "['경상남도', '창원시 진해구', nan, nan, '명동로', '62', '진해해양공원', '지상전망대', '옆']\n",
      "['경상남도', '양산시', '상북면', nan, '양산대로', '1510']\n",
      "['부산광역시', '영도구', nan, '대교로14번길', '57', '지상주차장', '3층', '410구역']\n",
      "['부산광역시', '영도구', nan, nan, '대교로14번길', '57', '지상주차장', '3층', '410구역']\n",
      "['충청북도', '진천군', nan, '진광로', '487']\n",
      "['충청북도', '진천군', nan, nan, '진광로', '487']\n",
      "['경상남도', '의령군', '화정면', nan, '화정로', '328']\n",
      "['충청남도', '부여군', '내산면', nan, '서천공주고속도로', '25']\n",
      "['경기도', '이천시', nan, '이섭대천로', '1440 50', '옥상주차장']\n",
      "['경기도', '이천시', nan, nan, '이섭대천로', '1440 50', '옥상주차장']\n",
      "['경기도', '남양주시', nan, '도농로', '24', '지하주차장', '2층', 'L8구역']\n",
      "['경기도', '남양주시', nan, nan, '도농로', '24', '지하주차장', '2층', 'L8구역']\n",
      "['경상남도', '창원시 마산회원구', '내서읍', nan, '경남대로', '927', '지상주차장', '출입구']\n",
      "['서울특별시', '송파구', nan, '성내천로', '299 7']\n",
      "['서울특별시', '송파구', nan, nan, '성내천로', '299 7']\n",
      "['경상남도', '하동군', '하동읍', nan, '군청로', '23']\n",
      "['전라남도', '화순군', '동면', nan, '충의로', '745']\n",
      "['대전광역시', '유성구', nan, '과학로', '80 67']\n",
      "['대전광역시', '유성구', nan, nan, '과학로', '80 67']\n",
      "['강원도', '철원군', '동송읍', nan, '태봉로', '1825']\n",
      "['광주광역시', '북구', nan, '북문대로', '60', '광주문화예술회관', '지상주차장']\n",
      "['광주광역시', '북구', nan, nan, '북문대로', '60', '광주문화예술회관', '지상주차장']\n",
      "['경상북도', '상주시', '청리면', nan, '원장1길', '10']\n",
      "['경상북도', '경주시', '서면', nan, '내서로', '458']\n",
      "['경기도', '양주시', nan, '회암사길', '11']\n",
      "['경기도', '양주시', nan, nan, '회암사길', '11']\n",
      "['경상북도', '영주시', '풍기읍', nan, '삼가로', '476']\n",
      "['충청북도', '진천군', '백곡면', nan, '장터길', '15 10', '입구', '우측']\n",
      "['경기도', '김포시', nan, '풍무로', '167', '지상주차장', '2층', 'E 01구역']\n",
      "['경기도', '김포시', nan, nan, '풍무로', '167', '지상주차장', '2층', 'E 01구역']\n",
      "['서울특별시', '성동구', nan, '동일로', '199']\n",
      "['서울특별시', '성동구', nan, nan, '동일로', '199']\n",
      "['울산광역시', '남구', nan, '두왕로', '277']\n",
      "['울산광역시', '남구', nan, nan, '두왕로', '277']\n",
      "['서울특별시', '도봉구', nan, '마들로', '645', '지상주차장', '4층', '406구역']\n",
      "['서울특별시', '도봉구', nan, nan, '마들로', '645', '지상주차장', '4층', '406구역']\n",
      "['전라남도', '곡성군', '오곡면', nan, '기차마을로', '232', '로즈홀', '앞', '주차장']\n",
      "['서울특별시', '관악구', nan, '난곡로34나길', '14', '2층']\n",
      "['서울특별시', '관악구', nan, nan, '난곡로34나길', '14', '2층']\n",
      "['경기도', '가평군', '설악면', nan, '미사리로', '544']\n",
      "['경상남도', '거창군', '가조면', nan, '지산로', '1488 30']\n",
      "['충청남도', '홍성군', '광천읍', nan, '홍남로', '764 42']\n",
      "['경상북도', '포항시 남구', nan, '시청로', '1', '포항시청', '민원주차장', '입구']\n",
      "['경상북도', '포항시 남구', nan, nan, '시청로', '1', '포항시청', '민원주차장', '입구']\n",
      "['충청북도', '제천시', '수산면', nan, '월악로26길', '37']\n",
      "['경상남도', '양산시', '하북면', nan, '양산대로', '1964']\n",
      "['충청북도', '단양군', '적성면', nan, '금수산로', '957']\n",
      "['경상남도', '의령군', '의령읍', nan, '백산로', '4']\n",
      "['전라남도', '영광군', '법성면', nan, '진굴비길', '68 1', '법성면사무소', '주차장', '내']\n",
      "['대전광역시', '유성구', nan, '테크노10로', '7']\n",
      "['대전광역시', '유성구', nan, nan, '테크노10로', '7']\n",
      "['강원도', '삼척시', '노곡면', nan, '미근로', '866']\n",
      "['경상남도', '양산시', nan, '어곡터널로', '40']\n",
      "['경상남도', '양산시', nan, nan, '어곡터널로', '40']\n",
      "['강원도', '인제군', '서화면', nan, '금강로', '1630']\n",
      "['전라북도', '완주군', '상관면', nan, '신리로', '105', '상관면주민자치센터']\n",
      "['경상북도', '상주시', nan, '영남제일로', '1950']\n",
      "['경상북도', '상주시', nan, nan, '영남제일로', '1950']\n",
      "['서울특별시', '마포구', nan, '마포대로1길', '19', '지상주차장']\n",
      "['서울특별시', '마포구', nan, nan, '마포대로1길', '19', '지상주차장']\n",
      "['경기도', '수원시 팔달구', nan, '효원로', '257', '지하주차장', '1층', 'A01구역']\n",
      "['경기도', '수원시 팔달구', nan, nan, '효원로', '257', '지하주차장', '1층', 'A01구역']\n",
      "['서울특별시', '마포구', nan, '성산로', '128']\n",
      "['서울특별시', '마포구', nan, nan, '성산로', '128']\n",
      "['울산광역시', '동구', nan, '방어진순환도로', '1170']\n",
      "['울산광역시', '동구', nan, nan, '방어진순환도로', '1170']\n",
      "['서울특별시', '동대문구', nan, '이문로', '136', '지하주차장', '1층', 'D 04']\n",
      "['서울특별시', '동대문구', nan, nan, '이문로', '136', '지하주차장', '1층', 'D 04']\n",
      "['전라북도', '장수군', '산서면', nan, '보산로', '1858']\n",
      "['전라북도', '군산시', '서수면', nan, '동군산로', '984']\n",
      "['대구광역시', '달성군', '구지면', nan, '국가산단대로40길', '20']\n",
      "['경상남도', '진주시', '내동면', nan, '내동로', '110']\n",
      "['인천광역시', '서구', nan, '환경로', '42', '기후대기관']\n",
      "['인천광역시', '서구', nan, nan, '환경로', '42', '기후대기관']\n",
      "['광주광역시', '서구', nan, '천변좌로222번길', '3 2']\n",
      "['광주광역시', '서구', nan, nan, '천변좌로222번길', '3 2']\n",
      "['경상남도', '사천시', nan, '삼천포대교로', '577']\n",
      "['경상남도', '사천시', nan, nan, '삼천포대교로', '577']\n",
      "['경상북도', '김천시', '농소면', nan, '경부고속도로', '194', '주유소', '옆']\n",
      "['광주광역시', '동구', nan, '필문대로205번길', '17']\n",
      "['광주광역시', '동구', nan, nan, '필문대로205번길', '17']\n",
      "['경상북도', '의성군', '안계면', nan, '안계길', '114']\n",
      "['전라남도', '순천시', '송광면', nan, '쌍향수길', '1338']\n",
      "['대구광역시', '달성군', '논공읍', nan, '비슬로', '1048']\n",
      "['강원도', '양양군', '곤양면', nan, '공항로', '201']\n",
      "['충청남도', '아산시', '배방읍', nan, '배방로', '38']\n",
      "['강원도', '홍천군', '내촌면', nan, '도관길', '55']\n",
      "['경기도', '화성시', nan, '동탄공원로2길', '32']\n",
      "['경기도', '화성시', nan, nan, '동탄공원로2길', '32']\n",
      "['전라북도', '순창군', '복흥면', nan, '추령로', '1792 12']\n",
      "['제주특별자치도', '제주시', nan, '문연로', '30', '제주도청', '제2청사', '입구', '좌측', '본관', '주차장']\n",
      "['제주특별자치도', '제주시', nan, nan, '문연로', '30', '제주도청', '제2청사', '입구', '좌측', '본관', '주차장']\n",
      "['강원도', '양구군', '동면', nan, '숨골로310번길', '169']\n",
      "['충청북도', '청주시 상당구', nan, '상당로', '82']\n",
      "['충청북도', '청주시 상당구', nan, nan, '상당로', '82']\n",
      "['충청북도', '충주시', '중앙탑면', nan, '중부내륙고속도로', '231', 'LPG', '충전소', '옆']\n",
      "['대구광역시', '달성군', '현풍면', nan, '현풍동로', '92']\n",
      "['경상남도', '함양군', '안의면', nan, '농월정길', '9 13']\n",
      "['제주특별자치도', '제주시', nan, '1100로', '2894 78(연동)']\n",
      "['제주특별자치도', '제주시', nan, nan, '1100로', '2894 78(연동)']\n",
      "['강원도', '삼척시', '하장면', nan, '하장길', '118']\n",
      "['충청북도', '괴산군', '칠성면', nan, '쌍곡로', '209']\n",
      "['강원도', '철원군', '동송읍', nan, '이평2로17번길', '32']\n",
      "['서울특별시', '강동구', nan, '고덕로', '276', '지하주차장', '1층', 'E구역']\n",
      "['서울특별시', '강동구', nan, nan, '고덕로', '276', '지하주차장', '1층', 'E구역']\n",
      "['부산광역시', '기장군', '기장읍', nan, '기장대로', '560']\n",
      "['충청북도', '증평군', '증평읍', nan, '보건복지로', '64']\n",
      "['경상남도', '창녕군', '고암면', nan, '청간길', '128 126']\n",
      "['경상북도', '상주시', nan, '영남제일로', '1339']\n",
      "['경상북도', '상주시', nan, nan, '영남제일로', '1339']\n",
      "['제주특별자치도', '서귀포시', nan, '동홍로', '31 7', '본관주차장']\n",
      "['제주특별자치도', '서귀포시', nan, nan, '동홍로', '31 7', '본관주차장']\n",
      "['경기도', '안성시', '서운면', nan, '평택제천고속도로', '40', '제2소형주차장', '여성전용주차장', '옆']\n",
      "['경상북도', '영천시', nan, '한방로', '77']\n",
      "['경상북도', '영천시', nan, nan, '한방로', '77']\n",
      "['경상남도', '고성군', '대가면', nan, '통영대전고속도로', '29']\n",
      "['서울특별시', '강서구', nan, '화곡로65길', '62']\n",
      "['서울특별시', '강서구', nan, nan, '화곡로65길', '62']\n",
      "['전라남도', '영암군', '군서면', nan, '왕인로', '440']\n",
      "['경기도', '이천시', '신둔면', nan, '서이천로853번길', '346 129', '(용면리)']\n",
      "['전라남도', '영광군', '영광읍', nan, '영광로', '1330']\n",
      "['강원도', '강릉시', '강동면', nan, '와천로', '463']\n",
      "['충청북도', '진천군', '초평면', nan, '초동로', '45 6']\n",
      "['서울특별시', '동대문구', nan, '왕산로', '214', '주차장', '옥상']\n",
      "['서울특별시', '동대문구', nan, nan, '왕산로', '214', '주차장', '옥상']\n",
      "['전라북도', '남원시', '금지면', nan, '금지순환길', '917 31']\n",
      "['충청남도', '서천군', '서면', nan, '서인로', '761']\n",
      "['충청남도', '홍성군', '서부면', nan, '서부로', '777']\n",
      "['강원도', '양양군', '강현면', nan, '일출로', '43']\n",
      "['세종특별자치시', nan, '가름로', '238 1']\n",
      "['세종특별자치시', nan, nan, '가름로', '238 1']\n",
      "['세종특별자치시', nan, nan, nan, '가름로', '238 1']\n",
      "['경기도', '파주시', '조리읍', nan, '장곡로', '218']\n",
      "['경상북도', '울릉군', '북면', nan, '천부2길', '15', '북면사무소', '주차장']\n",
      "['서울특별시', '양천구', nan, '중앙로32길', '1']\n",
      "['서울특별시', '양천구', nan, nan, '중앙로32길', '1']\n",
      "['전라북도', '무주군', nan, '무주로', '1739']\n",
      "['전라북도', '무주군', nan, nan, '무주로', '1739']\n",
      "['강원도', '원주시', nan, '단구로', '150']\n",
      "['강원도', '원주시', nan, nan, '단구로', '150']\n",
      "['전라북도', '정읍시', '소성면', nan, '저동길', '45']\n",
      "['전라북도', '익산시', nan, '동서로', '21']\n",
      "['전라북도', '익산시', nan, nan, '동서로', '21']\n",
      "['제주특별자치도', '제주시', nan, '명림로', '430']\n",
      "['제주특별자치도', '제주시', nan, nan, '명림로', '430']\n",
      "['대전광역시', '동구', nan, '대청호수로545번길', '1']\n",
      "['대전광역시', '동구', nan, nan, '대청호수로545번길', '1']\n",
      "['대전광역시', '유성구', nan, '대학로', '291']\n",
      "['대전광역시', '유성구', nan, nan, '대학로', '291']\n",
      "['대전광역시', '유성구', nan, '과학로', '124']\n",
      "['대전광역시', '유성구', nan, nan, '과학로', '124']\n",
      "['광주광역시', '북구', nan, '용봉로138번길', '11']\n",
      "['광주광역시', '북구', nan, nan, '용봉로138번길', '11']\n",
      "['제주특별자치도', '제주시', '구좌읍', nan, '김녕로', '242']\n",
      "['제주특별자치도', '제주시', '구좌읍', nan, '일주동로', '2708 19']\n",
      "['제주특별자치도', '제주시', '애월읍', nan, '상귀길', '173']\n",
      "['전라남도', '무안군', '무안읍', nan, '창포로', '8']\n",
      "['광주광역시', '서구', nan, '화정로', '314']\n",
      "['광주광역시', '서구', nan, nan, '화정로', '314']\n",
      "['경기도', '광주시', '오포읍', nan, '청석로', '85']\n",
      "['제주특별자치도', '제주시', '구좌읍', nan, '비자숲길', '55']\n",
      "['충청북도', '청주시 청원구', '내수읍', nan, '마산3길', '49', '후문', '앞']\n",
      "['전라남도', '여수시', nan, '진남로', '9 1']\n",
      "['전라남도', '여수시', nan, nan, '진남로', '9 1']\n",
      "['경기도', '성남시 중원구', nan, '성남대로', '997']\n",
      "['경기도', '성남시 중원구', nan, nan, '성남대로', '997']\n",
      "['경기도', '평택시', '포승읍', nan, '평택항만길', '75']\n",
      "['대전광역시', '중구', nan, '문화로234번길', '34']\n",
      "['대전광역시', '중구', nan, nan, '문화로234번길', '34']\n",
      "['대전광역시', '중구', nan, '부용로41번길', '55']\n",
      "['대전광역시', '중구', nan, nan, '부용로41번길', '55']\n",
      "['전라남도', '나주시', nan, '영산포로', '163 4']\n",
      "['전라남도', '나주시', nan, nan, '영산포로', '163 4']\n",
      "['전라북도', '전주시 덕진구', nan, '기지로', '120']\n",
      "['전라북도', '전주시 덕진구', nan, nan, '기지로', '120']\n",
      "['전라남도', '담양군', '대전면', nan, '대치8길', '21 5']\n",
      "['대전광역시', '서구', nan, '상보안윗길', '160']\n",
      "['대전광역시', '서구', nan, nan, '상보안윗길', '160']\n",
      "['강원도', '춘천시', '동산면', nan, '영서로', '1290 31']\n",
      "['강원도', '춘천시', nan, '우두상리길', '68']\n",
      "['강원도', '춘천시', nan, nan, '우두상리길', '68']\n",
      "['강원도', '평창군', '진부면', nan, '경강로', '3562']\n",
      "['강원도', '홍천군', '동면', nan, '수타사로', '3']\n",
      "['전라남도', '나주시', nan, '예향로', '4137']\n",
      "['전라남도', '나주시', nan, nan, '예향로', '4137']\n",
      "['전라북도', '전주시 완산구', nan, '홍산로', '111']\n",
      "['전라북도', '전주시 완산구', nan, nan, '홍산로', '111']\n",
      "['전라남도', '나주시', nan, '재신길', '33']\n",
      "['전라남도', '나주시', nan, nan, '재신길', '33']\n",
      "['전라남도', '장흥군', '유치면', nan, '유치로', '22']\n",
      "['전라남도', '목포시', nan, '용당로', '58']\n",
      "['전라남도', '목포시', nan, nan, '용당로', '58']\n",
      "['전라남도', '신안군', '압해읍', nan, '천사로', '1004']\n",
      "['강원도', '춘천시', nan, '강원대학길', '1', '서암관']\n",
      "['강원도', '춘천시', nan, nan, '강원대학길', '1', '서암관']\n",
      "['경기도', '안산시 상록구', nan, '샘골로', '16']\n",
      "['경기도', '안산시 상록구', nan, nan, '샘골로', '16']\n",
      "['경기도', '하남시', nan, '서하남로', '488']\n",
      "['경기도', '하남시', nan, nan, '서하남로', '488']\n",
      "['전라남도', '순천시', '주암면', nan, '주석로', '276 1']\n",
      "['울산광역시', '남구', nan, '수암로', '148']\n",
      "['울산광역시', '남구', nan, nan, '수암로', '148']\n",
      "['광주광역시', '서구', nan, '상무대로1223번길', '16']\n",
      "['광주광역시', '서구', nan, nan, '상무대로1223번길', '16']\n",
      "['울산광역시', '북구', nan, '신답로', '26']\n",
      "['울산광역시', '북구', nan, nan, '신답로', '26']\n",
      "['전라남도', '담양군', '담양읍', nan, '추성로', '1232']\n",
      "['광주광역시', '광산구', nan, '풍영로', '179']\n",
      "['광주광역시', '광산구', nan, nan, '풍영로', '179']\n",
      "['충청북도', '청주시 상당구', nan, '북문로', '3가', '97']\n",
      "['충청북도', '청주시 상당구', nan, nan, '북문로', '3가', '97']\n",
      "['전라북도', '남원시', '이백면', nan, '이백로', '309']\n",
      "['전라북도', '남원시', '사매면', nan, '오신1길', '8']\n",
      "['강원도', '철원군', '김화읍', nan, '호국로', '6510']\n",
      "['경기도', '안성시', '공도읍', nan, '송원길', '41 12']\n",
      "['전라북도', '전주시 완산구', nan, '서곡로', '100번지']\n",
      "['전라북도', '전주시 완산구', nan, nan, '서곡로', '100번지']\n",
      "['제주특별자치도', '제주시', nan, '516로', '2870']\n",
      "['제주특별자치도', '제주시', nan, nan, '516로', '2870']\n",
      "['전라남도', '함평군', '학교면', nan, '학다리길', '330']\n",
      "['전라남도', '영암군', '신북면', nan, '간은정로', '21 7']\n",
      "['전라북도', '전주시 완산구', nan, '강변로', '98']\n",
      "['전라북도', '전주시 완산구', nan, nan, '강변로', '98']\n",
      "['경상남도', '고성군', '대가면', nan, '통영대전고속도로', '32']\n",
      "['전라남도', '함평군', '해보면', nan, '밀재로', '1264 7']\n",
      "['충청남도', '태안군', '태안읍', nan, '동백로', '251']\n",
      "['전라남도', '보성군', '보성읍', nan, '녹차로', '750']\n",
      "['서울특별시', '은평구', nan, '통일로', '1050']\n",
      "['서울특별시', '은평구', nan, nan, '통일로', '1050']\n",
      "['전라남도', '화순군', '동복면', nan, '석등길', '11']\n",
      "['전라북도', '전주시 덕진구', nan, '농생명로', '300']\n",
      "['전라북도', '전주시 덕진구', nan, nan, '농생명로', '300']\n",
      "['전라남도', '완도군', '신지면', nan, '신지로549번길', '11']\n",
      "['경기도', '안양시 만안구', nan, '예술공원로', '131']\n",
      "['경기도', '안양시 만안구', nan, nan, '예술공원로', '131']\n",
      "['인천광역시', '연수구', nan, '센트럴로', '123']\n",
      "['인천광역시', '연수구', nan, nan, '센트럴로', '123']\n",
      "['인천광역시', '남동구', nan, '예술로', '149']\n",
      "['인천광역시', '남동구', nan, nan, '예술로', '149']\n",
      "['제주특별자치도', '제주시', '구좌읍', nan, '일주동로', '3132']\n",
      "['광주광역시', '남구', nan, '봉선중앙로123번길', '21']\n",
      "['광주광역시', '남구', nan, nan, '봉선중앙로123번길', '21']\n",
      "['경기도', '이천시', '호법면', nan, '프리미엄아울렛로', '177 74']\n",
      "['전라남도', '담양군', '용면', nan, '추월산로', '369']\n",
      "['경상북도', '김천시', nan, '혁신로', '269']\n",
      "['경상북도', '김천시', nan, nan, '혁신로', '269']\n",
      "['전라북도', '전주시 완산구', nan, '중인1길', '254']\n",
      "['전라북도', '전주시 완산구', nan, nan, '중인1길', '254']\n",
      "['전라북도', '전주시 완산구', nan, '서학로', '95']\n",
      "['전라북도', '전주시 완산구', nan, nan, '서학로', '95']\n",
      "['강원도', '동해시', nan, '덕골길', '10']\n",
      "['강원도', '동해시', nan, nan, '덕골길', '10']\n",
      "['경기도', '김포시', nan, '김포한강2로', '42']\n",
      "['경기도', '김포시', nan, nan, '김포한강2로', '42']\n",
      "['경기도', '김포시', nan, '태장로795번길', '137']\n",
      "['경기도', '김포시', nan, nan, '태장로795번길', '137']\n",
      "['경기도', '김포시', '대곶면', nan, '율생로', '83 23']\n",
      "['경기도', '김포시', nan, '사우중로', '26']\n",
      "['경기도', '김포시', nan, nan, '사우중로', '26']\n",
      "['경기도', '김포시', nan, '장릉로', '79']\n",
      "['경기도', '김포시', nan, nan, '장릉로', '79']\n",
      "['경기도', '평택시', nan, '장안웃길', '149']\n",
      "['경기도', '평택시', nan, nan, '장안웃길', '149']\n",
      "['전라남도', '해남군', '화산면', nan, '송평로', '23']\n",
      "['강원도', '원주시', nan, '혁신로', '40']\n",
      "['강원도', '원주시', nan, nan, '혁신로', '40']\n",
      "['강원도', '양구군', '동면', nan, '금강산로', '1693']\n",
      "['서울특별시', '강남구', nan, '압구정로', '161']\n",
      "['서울특별시', '강남구', nan, nan, '압구정로', '161']\n",
      "['서울특별시', '성동구', nan, '성덕정길', '115']\n",
      "['서울특별시', '성동구', nan, nan, '성덕정길', '115']\n",
      "['서울특별시', '성동구', nan, '독서당로63길', '40']\n",
      "['서울특별시', '성동구', nan, nan, '독서당로63길', '40']\n",
      "['서울특별시', '성동구', nan, '무학봉15길', '48']\n",
      "['서울특별시', '성동구', nan, nan, '무학봉15길', '48']\n",
      "['경기도', '부천시', nan, '옥길로', '1']\n",
      "['경기도', '부천시', nan, nan, '옥길로', '1']\n",
      "['서울특별시', '강남구', nan, '삼성로', '628']\n",
      "['서울특별시', '강남구', nan, nan, '삼성로', '628']\n",
      "['인천광역시', '연수구', nan, '앵고개로', '183']\n",
      "['인천광역시', '연수구', nan, nan, '앵고개로', '183']\n",
      "['전라북도', '김제시', nan, '성산길', '20']\n",
      "['전라북도', '김제시', nan, nan, '성산길', '20']\n",
      "['경기도', '안산시 상록구', nan, '구룡로', '87']\n",
      "['경기도', '안산시 상록구', nan, nan, '구룡로', '87']\n",
      "['서울특별시', '양천구', nan, '목동중앙로', '25']\n",
      "['서울특별시', '양천구', nan, nan, '목동중앙로', '25']\n",
      "['경기도', '군포시', nan, '산본로', '267']\n",
      "['경기도', '군포시', nan, nan, '산본로', '267']\n",
      "['경기도', '안산시 단원구', nan, '연수원로', '87']\n",
      "['경기도', '안산시 단원구', nan, nan, '연수원로', '87']\n",
      "['광주광역시', '남구', nan, '김치로', '60']\n",
      "['광주광역시', '남구', nan, nan, '김치로', '60']\n",
      "['서울특별시', '양천구', nan, '목동동로', '81']\n",
      "['서울특별시', '양천구', nan, nan, '목동동로', '81']\n",
      "['서울특별시', '송파구', nan, '올림픽로', '424']\n",
      "['서울특별시', '송파구', nan, nan, '올림픽로', '424']\n",
      "['서울특별시', '노원구', nan, '노원로', '75']\n",
      "['서울특별시', '노원구', nan, nan, '노원로', '75']\n",
      "['경기도', '광명시', nan, '오리로', '701']\n",
      "['경기도', '광명시', nan, nan, '오리로', '701']\n",
      "['경기도', '고양시 일산서구', nan, '중앙로', '1600']\n",
      "['경기도', '고양시 일산서구', nan, nan, '중앙로', '1600']\n",
      "['인천광역시', '미추홀구', nan, '염전로333번길', '23']\n",
      "['인천광역시', '미추홀구', nan, nan, '염전로333번길', '23']\n",
      "['서울특별시', '강남구', nan, '강남대로120길', '33']\n",
      "['서울특별시', '강남구', nan, nan, '강남대로120길', '33']\n",
      "['서울특별시', '영등포구', nan, '영신로10길', '15']\n",
      "['서울특별시', '영등포구', nan, nan, '영신로10길', '15']\n",
      "['경기도', '남양주시', '진접읍', nan, '금강로', '1509 24']\n",
      "['서울특별시', '양천구', nan, '중앙로29길', '41']\n",
      "['서울특별시', '양천구', nan, nan, '중앙로29길', '41']\n",
      "['서울특별시', '강남구', nan, '개포로', '607']\n",
      "['서울특별시', '강남구', nan, nan, '개포로', '607']\n",
      "['서울특별시', '양천구', nan, '곰달래로10길', '4']\n",
      "['서울특별시', '양천구', nan, nan, '곰달래로10길', '4']\n",
      "['경기도', '남양주시', nan, '다산지금로', '51 47']\n",
      "['경기도', '남양주시', nan, nan, '다산지금로', '51 47']\n",
      "['서울특별시', '강남구', nan, '선릉로108길', '27']\n",
      "['서울특별시', '강남구', nan, nan, '선릉로108길', '27']\n",
      "['경기도', '안산시 상록구', nan, '석호로', '110']\n",
      "['경기도', '안산시 상록구', nan, nan, '석호로', '110']\n",
      "['전라남도', '나주시', nan, '진흥길', '9']\n",
      "['전라남도', '나주시', nan, nan, '진흥길', '9']\n",
      "['강원도', '철원군', '근남면', nan, '하오재로', '2050']\n",
      "['서울특별시', '서대문구', nan, '충정로', '2가', '78 13']\n",
      "['서울특별시', '서대문구', nan, nan, '충정로', '2가', '78 13']\n",
      "['대전광역시', '서구', nan, '청사로', '156']\n",
      "['대전광역시', '서구', nan, nan, '청사로', '156']\n",
      "['서울특별시', '마포구', nan, '매봉산로', '80']\n",
      "['서울특별시', '마포구', nan, nan, '매봉산로', '80']\n",
      "['강원도', '삼척시', nan, '중앙로', '10']\n",
      "['강원도', '삼척시', nan, nan, '중앙로', '10']\n",
      "['강원도', '양구군', '남면', nan, '삼팔선로', '9']\n",
      "['전라북도', '전주시 완산구', nan, '쑥고개로', '249']\n",
      "['전라북도', '전주시 완산구', nan, nan, '쑥고개로', '249']\n",
      "['강원도', '홍천군', '서석면', nan, '풍암길', '10']\n",
      "['서울특별시', '중구', nan, '청계천로', '30']\n",
      "['서울특별시', '중구', nan, nan, '청계천로', '30']\n",
      "['인천광역시', '중구', nan, '반달로', '20']\n",
      "['인천광역시', '중구', nan, nan, '반달로', '20']\n",
      "['전라남도', '무안군', '무안읍', nan, '무안로', '339']\n",
      "['전라남도', '신안군', '암태면', nan, '장단고길', '7 52']\n",
      "['인천광역시', '부평구', nan, '무네미로', '478']\n",
      "['인천광역시', '부평구', nan, nan, '무네미로', '478']\n",
      "['전라남도', '순천시', nan, '조례2길', '31']\n",
      "['전라남도', '순천시', nan, nan, '조례2길', '31']\n",
      "['강원도', '동해시', nan, '삼화로', '538']\n",
      "['강원도', '동해시', nan, nan, '삼화로', '538']\n",
      "['세종특별자치시', nan, '보듬6로', '16']\n",
      "['세종특별자치시', nan, nan, '보듬6로', '16']\n",
      "['세종특별자치시', nan, nan, nan, '보듬6로', '16']\n",
      "['경상북도', '청송군', '파천면', nan, '청송로', '5544']\n",
      "['인천광역시', '계양구', nan, '계산새로', '7']\n",
      "['인천광역시', '계양구', nan, nan, '계산새로', '7']\n",
      "['인천광역시', '미추홀구', nan, '석정로', '239']\n",
      "['인천광역시', '미추홀구', nan, nan, '석정로', '239']\n",
      "['경기도', '화성시', '송산면', nan, '삼존로', '200']\n",
      "['서울특별시', '강남구', nan, '개포로', '625']\n",
      "['서울특별시', '강남구', nan, nan, '개포로', '625']\n",
      "['경기도', '포천시', nan, '삼육사로2186번길', '11']\n",
      "['경기도', '포천시', nan, nan, '삼육사로2186번길', '11']\n",
      "['전라남도', '보성군', '회천면', nan, '우암길', '24', '율포해수녹차탕주차장']\n",
      "['경기도', '광명시', nan, '서독로104번길', '14']\n",
      "['경기도', '광명시', nan, nan, '서독로104번길', '14']\n",
      "['서울특별시', '송파구', nan, '백제고분로', '242']\n",
      "['서울특별시', '송파구', nan, nan, '백제고분로', '242']\n",
      "['경기도', '양주시', '광적면', nan, '부흥로618번길', '303']\n",
      "['전라북도', '전주시 덕진구', nan, '권삼득로', '407']\n",
      "['전라북도', '전주시 덕진구', nan, nan, '권삼득로', '407']\n",
      "['전라북도', '김제시', nan, '동서로', '317']\n",
      "['전라북도', '김제시', nan, nan, '동서로', '317']\n",
      "['서울특별시', '마포구', nan, '토정로', '2']\n",
      "['서울특별시', '마포구', nan, nan, '토정로', '2']\n",
      "['서울특별시', '마포구', nan, '성암로', '197']\n",
      "['서울특별시', '마포구', nan, nan, '성암로', '197']\n",
      "['제주특별자치도', '서귀포시', nan, '동홍로', '41']\n",
      "['제주특별자치도', '서귀포시', nan, nan, '동홍로', '41']\n",
      "['제주특별자치도', '제주시', nan, '문연로', '5']\n",
      "['제주특별자치도', '제주시', nan, nan, '문연로', '5']\n",
      "['제주특별자치도', '제주시', nan, '동광로', '69']\n",
      "['제주특별자치도', '제주시', nan, nan, '동광로', '69']\n",
      "['부산광역시', '부산진구', nan, '신천대로', '156']\n",
      "['부산광역시', '부산진구', nan, nan, '신천대로', '156']\n",
      "['제주특별자치도', '제주시', nan, '문연로', '13']\n",
      "['제주특별자치도', '제주시', nan, nan, '문연로', '13']\n",
      "['제주특별자치도', '제주시', nan, '용남3길', '7']\n",
      "['제주특별자치도', '제주시', nan, nan, '용남3길', '7']\n",
      "['인천광역시', '강화군', '강화읍', nan, '강화대로', '603']\n",
      "['인천광역시', '서구', nan, '중봉대로', '587']\n",
      "['인천광역시', '서구', nan, nan, '중봉대로', '587']\n",
      "['전라북도', '남원시', nan, '산성길', '87']\n",
      "['전라북도', '남원시', nan, nan, '산성길', '87']\n",
      "['제주특별자치도', '서귀포시', nan, '말질로', '261']\n",
      "['제주특별자치도', '서귀포시', nan, nan, '말질로', '261']\n",
      "['경기도', '의정부시', nan, '시민로', '12']\n",
      "['경기도', '의정부시', nan, nan, '시민로', '12']\n",
      "['인천광역시', '중구', nan, '영종해안북로', '1000 26']\n",
      "['인천광역시', '중구', nan, nan, '영종해안북로', '1000 26']\n",
      "['제주특별자치도', '서귀포시', nan, '칠십리로72번길', '1']\n",
      "['제주특별자치도', '서귀포시', nan, nan, '칠십리로72번길', '1']\n",
      "['인천광역시', '서구', nan, '중봉대로', '211']\n",
      "['인천광역시', '서구', nan, nan, '중봉대로', '211']\n",
      "['전라남도', '나주시', nan, '문화로', '16']\n",
      "['전라남도', '나주시', nan, nan, '문화로', '16']\n",
      "['전라남도', '구례군', '구례읍', nan, '구례로', '508']\n",
      "['세종특별자치시', nan, '정부2청사로', '13(나성동)']\n",
      "['세종특별자치시', nan, nan, '정부2청사로', '13(나성동)']\n",
      "['세종특별자치시', nan, nan, nan, '정부2청사로', '13(나성동)']\n",
      "['세종특별자치시', nan, '도움5로', '20']\n",
      "['세종특별자치시', nan, nan, '도움5로', '20']\n",
      "['세종특별자치시', nan, nan, nan, '도움5로', '20']\n",
      "['제주특별자치도', '제주시', '한림읍', nan, '금악서길', '133']\n",
      "['경기도', '부천시', nan, '평천로', '655']\n",
      "['경기도', '부천시', nan, nan, '평천로', '655']\n",
      "['경기도', '부천시', nan, '부일로', '365']\n",
      "['경기도', '부천시', nan, nan, '부일로', '365']\n",
      "['광주광역시', '서구', nan, '상무대로', '760']\n",
      "['광주광역시', '서구', nan, nan, '상무대로', '760']\n",
      "['제주특별자치도', '서귀포시', nan, '중앙로101번길', '52']\n",
      "['제주특별자치도', '서귀포시', nan, nan, '중앙로101번길', '52']\n",
      "['제주특별자치도', '서귀포시', nan, '토평공단로', '20']\n",
      "['제주특별자치도', '서귀포시', nan, nan, '토평공단로', '20']\n",
      "['제주특별자치도', '제주시', nan, '탑동로', '66']\n",
      "['제주특별자치도', '제주시', nan, nan, '탑동로', '66']\n",
      "['충청북도', '단양군', '영춘면', nan, '온달평강3로', '9']\n",
      "['전라북도', '진안군', '마령면', nan, '솔안2길', '8']\n",
      "['인천광역시', '중구', nan, '영종해안북로1204번길', '105']\n",
      "['인천광역시', '중구', nan, nan, '영종해안북로1204번길', '105']\n",
      "['경상북도', '안동시', '도산면', nan, '퇴계로', '2547']\n",
      "['제주특별자치도', '서귀포시', '남원읍', nan, '남원체육관로221번길', '23']\n",
      "['서울특별시', '영등포구', nan, '의사당대로', '22']\n",
      "['서울특별시', '영등포구', nan, nan, '의사당대로', '22']\n",
      "['충청북도', '청주시 상당구', nan, '북문로', '1가', '171 3']\n",
      "['충청북도', '청주시 상당구', nan, nan, '북문로', '1가', '171 3']\n",
      "['인천광역시', '연수구', nan, '청량로', '165']\n",
      "['인천광역시', '연수구', nan, nan, '청량로', '165']\n",
      "['세종특별자치시', nan, '갈매로', '477']\n",
      "['세종특별자치시', nan, nan, '갈매로', '477']\n",
      "['세종특별자치시', nan, nan, nan, '갈매로', '477']\n",
      "['전라남도', '해남군', '문내면', nan, '동영길', '10']\n",
      "['전라남도', '장흥군', '부산면', nan, '부유로', '28 1']\n",
      "['전라남도', '해남군', '송지면', nan, '산정1길', '96']\n",
      "['전라남도', '해남군', '화원면', nan, '금평길', '32']\n",
      "['제주특별자치도', '서귀포시', nan, '월드컵로', '31']\n",
      "['제주특별자치도', '서귀포시', nan, nan, '월드컵로', '31']\n",
      "['전라남도', '해남군', '북평면', nan, '달량진길', '8']\n",
      "['전라북도', '완주군', '구이면', nan, '구이로', '1482']\n",
      "['전라북도', '전주시 덕진구', nan, '정언신로', '151']\n",
      "['전라북도', '전주시 덕진구', nan, nan, '정언신로', '151']\n",
      "['강원도', '화천군', '화천읍', nan, '상승로2길', '25 10']\n",
      "['전라남도', '완도군', '군외면', nan, '청해진서로', '2148']\n",
      "['강원도', '춘천시', nan, '약사고개길', '8 1']\n",
      "['강원도', '춘천시', nan, nan, '약사고개길', '8 1']\n",
      "['강원도', '춘천시', nan, '화목원길', '24']\n",
      "['강원도', '춘천시', nan, nan, '화목원길', '24']\n",
      "['강원도', '춘천시', '동면', nan, '순환대로', '1122']\n",
      "['전라북도', '진안군', '주천면', nan, '동상주천로', '2213']\n",
      "['전라남도', '여수시', nan, '상암3길', '9']\n",
      "['전라남도', '여수시', nan, nan, '상암3길', '9']\n",
      "['전라남도', '무안군', '무안읍', nan, '무안로', '458']\n",
      "['전라남도', '무안군', '몽탄면', nan, '몽탄로', '862']\n",
      "['서울특별시', '용산구', nan, '한강대로62다길', '42']\n",
      "['서울특별시', '용산구', nan, nan, '한강대로62다길', '42']\n",
      "['강원도', '홍천군', '동면', nan, '공작산로', '497']\n",
      "['강원도', '고성군', '현내면', nan, '한나루로', '67']\n",
      "['강원도', '춘천시', nan, '칠전동길', '49 6']\n",
      "['강원도', '춘천시', nan, nan, '칠전동길', '49 6']\n",
      "['강원도', '춘천시', nan, '춘천로17번길', '27']\n",
      "['강원도', '춘천시', nan, nan, '춘천로17번길', '27']\n",
      "['강원도', '홍천군', '남면', nan, '흥성길', '39']\n",
      "['충청북도', '충주시', '중앙탑면', nan, '중부내륙고속도로', '230 1']\n",
      "['서울특별시', '강남구', nan, '광평로', '126']\n",
      "['서울특별시', '강남구', nan, nan, '광평로', '126']\n",
      "['충청북도', '청주시', '오송읍', nan, '오송생명1로', '202']\n",
      "['충청남도', '논산시', '벌곡면', nan, '호남지선고속도로', '25']\n",
      "['충청남도', '보령시', nan, '갓바위1길', '10 30']\n",
      "['충청남도', '보령시', nan, nan, '갓바위1길', '10 30']\n",
      "['서울특별시', '성동구', nan, '둘레길', '47 5']\n",
      "['서울특별시', '성동구', nan, nan, '둘레길', '47 5']\n",
      "['전라남도', '순천시', '서면', nan, '둔대수계길', '28']\n",
      "['전라남도', '순천시', nan, '조례1길', '24']\n",
      "['전라남도', '순천시', nan, nan, '조례1길', '24']\n",
      "['전라북도', '익산시', '오산면', nan, '평동로', '323']\n",
      "['전라북도', '군산시', nan, '수송동로', '58']\n",
      "['전라북도', '군산시', nan, nan, '수송동로', '58']\n",
      "['전라북도', '군산시', nan, '시청로', '17']\n",
      "['전라북도', '군산시', nan, nan, '시청로', '17']\n",
      "['전라남도', '신안군', '자은면', nan, '구영1길', '8']\n",
      "['광주광역시', '광산구', nan, '무진대로', '217']\n",
      "['광주광역시', '광산구', nan, nan, '무진대로', '217']\n",
      "['대전광역시', '동구', nan, '안골로', '49']\n",
      "['대전광역시', '동구', nan, nan, '안골로', '49']\n",
      "['인천광역시', '서구', nan, '환경로', '42']\n",
      "['인천광역시', '서구', nan, nan, '환경로', '42']\n",
      "['강원도', '영월군', '영월읍', nan, '하송로', '64']\n",
      "['강원도', '평창군', nan, '노성로', '127']\n",
      "['강원도', '평창군', nan, nan, '노성로', '127']\n",
      "['강원도', '삼척시', '원덕읍', nan, '삼척로', '445 53']\n",
      "['강원도', '춘천시', '서면', nan, '금산길', '31']\n",
      "['전라북도', '장수군', '계북면', nan, '장무로', '962 5']\n",
      "['전라북도', '김제시', '부량면', nan, '벽골제로', '421']\n",
      "['경기도', '김포시', '통진읍', nan, '서암로', '98']\n",
      "['경기도', '남양주시', '별내면', nan, '청학로8번길', '39']\n",
      "['강원도', '양구군', '양구읍', nan, '관공서로', '38']\n",
      "['경상남도', '거제시', nan, '거제중앙로', '1641']\n",
      "['경상남도', '거제시', nan, nan, '거제중앙로', '1641']\n",
      "['경상남도', '함안군', '가야읍', nan, '함안대로', '755']\n",
      "['경상남도', '김해시', nan, '골든루트로', '80 59']\n",
      "['경상남도', '김해시', nan, nan, '골든루트로', '80 59']\n",
      "['경상남도', '창원시 의창구', nan, '중앙대로', '181']\n",
      "['경상남도', '창원시 의창구', nan, nan, '중앙대로', '181']\n",
      "['경상남도', '밀양시', '산내면', nan, '산내로', '322']\n",
      "['경상남도', '김해시', nan, '대청로176번길', '7']\n",
      "['경상남도', '김해시', nan, nan, '대청로176번길', '7']\n",
      "['강원도', '강릉시', nan, '남산초교길', '121']\n",
      "['강원도', '강릉시', nan, nan, '남산초교길', '121']\n",
      "['경상남도', '김해시', nan, '전하로176번길', '79', '1층']\n",
      "['경상남도', '김해시', nan, nan, '전하로176번길', '79', '1층']\n",
      "['전라남도', '담양군', '고서면', nan, '가사문학로', '324 24']\n",
      "['충청북도', '음성군', '맹동면', nan, '연미로', '426']\n",
      "['경기도', '용인시 기흥구', nan, '지삼로', '331']\n",
      "['경기도', '용인시 기흥구', nan, nan, '지삼로', '331']\n",
      "['전라남도', '장성군', '삼계면', nan, '영장로', '1585']\n",
      "['경상북도', '의성군', '다인면', nan, '자미로', '30']\n",
      "['경상북도', '군위군', '효령면', nan, '간동길', '3 17']\n",
      "['전라남도', '해남군', '황산면', nan, '고천암로', '752 14']\n",
      "['경상북도', '의성군', '비안면', nan, '강변길', '59']\n",
      "['전라남도', '해남군', '송지면', nan, '땅끝마을길', '70 7']\n",
      "['울산광역시', '울주군', '범서읍', nan, '천상중앙길', '34']\n",
      "['인천광역시', '부평구', nan, '체육관로', '60']\n",
      "['인천광역시', '부평구', nan, nan, '체육관로', '60']\n",
      "['경상북도', '청도군', '운문면', nan, '운문사길', '55']\n",
      "['경기도', '부천시', nan, '벌말로', '220']\n",
      "['경기도', '부천시', nan, nan, '벌말로', '220']\n",
      "['전라남도', '보성군', '벌교읍', nan, '신정길', '4 131']\n",
      "['울산광역시', '울주군', '언양읍', nan, '유니스트길', '50']\n",
      "['세종특별자치시', nan, '연기면', '수목원로', '136']\n",
      "['세종특별자치시', nan, '연기면', nan, '수목원로', '136']\n",
      "['울산광역시', '남구', nan, '장생포로', '8']\n",
      "['울산광역시', '남구', nan, nan, '장생포로', '8']\n",
      "['강원도', '평창군', '평창읍', nan, '종부로', '75']\n",
      "['경상북도', '청도군', '각남면', nan, '각남로', '74']\n",
      "['경상북도', '고령군', '대가야읍', nan, '가야금길', '3']\n",
      "['충청남도', '예산군', '예산읍', nan, '벚꽃로', '242']\n",
      "['경상북도', '영천시', '고경면', nan, '호국로', '1065 4']\n",
      "['울산광역시', '울주군', '상북면', nan, '길천산업1길', '17']\n",
      "['울산광역시', '울주군', '청량면', nan, '덕정로', '16']\n",
      "['강원도', '춘천시', nan, '평화로', '25']\n",
      "['강원도', '춘천시', nan, nan, '평화로', '25']\n",
      "['경상남도', '창원시 의창구', '대산면', nan, '가술산단동로', '10']\n",
      "['전라남도', '무안군', '무안읍', nan, '무안로', '530']\n",
      "['경상남도', '사천시', nan, '대학길', '46']\n",
      "['경상남도', '사천시', nan, nan, '대학길', '46']\n",
      "['경상북도', '경주시', '산내면', nan, '문복로', '1822']\n",
      "['울산광역시', '울주군', '서생면', nan, '갓재길', '30']\n",
      "['강원도', '원주시', nan, '세계로', '10']\n",
      "['강원도', '원주시', nan, nan, '세계로', '10']\n",
      "['경기도', '성남시 분당구', nan, '분당수서로', '501']\n",
      "['경기도', '성남시 분당구', nan, nan, '분당수서로', '501']\n",
      "['전라남도', '무안군', '망운면', nan, '운해로', '1436 10']\n",
      "['전라남도', '해남군', '해남읍', nan, '땅끝대로', '77 22']\n",
      "['전라남도', '무안군', '무안읍', nan, '성내1길', '2']\n",
      "['전라남도', '함평군', '신광면', nan, '학동로', '1398 9']\n",
      "['충청북도', '음성군', '맹동면', nan, '태정로', '6']\n",
      "['경기도', '고양시 일산서구', nan, '킨텍스로', '217 60']\n",
      "['경기도', '고양시 일산서구', nan, nan, '킨텍스로', '217 60']\n",
      "['대전광역시', '중구', nan, '문화로', '282']\n",
      "['대전광역시', '중구', nan, nan, '문화로', '282']\n",
      "['경기도', '양평군', '양평읍', nan, '농업기술센터길', '37']\n",
      "['충청남도', '아산시', '송악면', nan, '송악로', '790']\n",
      "['전라남도', '무안군', '청계면', nan, '영산로', '1854 16']\n",
      "['대전광역시', '중구', nan, '문화로', '266']\n",
      "['대전광역시', '중구', nan, nan, '문화로', '266']\n",
      "['전라남도', '강진군', '강진읍', nan, '탐진로', '111']\n",
      "['전라남도', '담양군', '담양읍', nan, '담장로', '20']\n",
      "['경기도', '오산시', nan, '수도권제2순환고속도로', '14']\n",
      "['경기도', '오산시', nan, nan, '수도권제2순환고속도로', '14']\n",
      "['경상남도', '의령군', '가례면', nan, '가례로', '677']\n",
      "['경상남도', '함양군', '함양읍', nan, '고운로', '35']\n",
      "['경상북도', '구미시', '고아읍', nan, '선산대로', '309']\n",
      "['경상북도', '구미시', nan, '3공단1로', '191']\n",
      "['경상북도', '구미시', nan, nan, '3공단1로', '191']\n",
      "['광주광역시', '광산구', nan, '첨단강변로99번길', '22']\n",
      "['광주광역시', '광산구', nan, nan, '첨단강변로99번길', '22']\n",
      "['전라남도', '여수시', nan, '국포1로', '36']\n",
      "['전라남도', '여수시', nan, nan, '국포1로', '36']\n",
      "['전라남도', '여수시', nan, '무선로', '187']\n",
      "['전라남도', '여수시', nan, nan, '무선로', '187']\n",
      "['전라북도', '전주시 덕진구', nan, '건지로', '20']\n",
      "['전라북도', '전주시 덕진구', nan, nan, '건지로', '20']\n",
      "['전라북도', '익산시', nan, '하나로', '322']\n",
      "['전라북도', '익산시', nan, nan, '하나로', '322']\n",
      "['전라북도', '군산시', '옥도면', nan, '장자도1길', '70']\n",
      "['충청남도', '서산시', nan, '안견로', '661']\n",
      "['충청남도', '서산시', nan, nan, '안견로', '661']\n",
      "['충청남도', '당진시', '고대면', nan, '고대로', '33']\n",
      "['경기도', '고양시 일산서구', nan, '중앙로', '1496']\n",
      "['경기도', '고양시 일산서구', nan, nan, '중앙로', '1496']\n",
      "['서울특별시', '노원구', nan, '노원로', '330']\n",
      "['서울특별시', '노원구', nan, nan, '노원로', '330']\n",
      "['경기도', '양주시', nan, '부흥로', '1533']\n",
      "['경기도', '양주시', nan, nan, '부흥로', '1533']\n",
      "['경기도', '김포시', nan, '김포한강11로', '455']\n",
      "['경기도', '김포시', nan, nan, '김포한강11로', '455']\n",
      "['경기도', '안성시', '공도읍', nan, '서동대로', '4478？']\n",
      "['경기도', '수원시 권선구', nan, '경수대로168번길', '79']\n",
      "['경기도', '수원시 권선구', nan, nan, '경수대로168번길', '79']\n",
      "['경기도', '성남시 분당구', nan, '운중로225번길', '37']\n",
      "['경기도', '성남시 분당구', nan, nan, '운중로225번길', '37']\n",
      "['강원도', '홍천군', '홍천읍', nan, '소옥개로', '110']\n",
      "['강원도', '삼척시', '근덕면', nan, '맹방해변로', '49']\n",
      "['경기도', '포천시', nan, '중앙로', '87']\n",
      "['경기도', '포천시', nan, nan, '중앙로', '87']\n",
      "['강원도', '삼척시', '미로면', nan, '적병길', '8']\n",
      "['경상북도', '울진군', '매화면', nan, '망양북로', '30']\n",
      "['강원도', '인제군', '인제읍', nan, '비봉로', '48']\n",
      "['경상북도', '영천시', '신녕면', nan, '화성중앙길', '30']\n",
      "['강원도', '춘천시', nan, '공지로', '651']\n",
      "['강원도', '춘천시', nan, nan, '공지로', '651']\n",
      "['경상북도', '영천시', nan, '운동장로', '94']\n",
      "['경상북도', '영천시', nan, nan, '운동장로', '94']\n",
      "['경상북도', '포항시', '장기면', nan, '장기로', '452']\n",
      "['대구광역시', '수성구', nan, '유니버시아드로', '180']\n",
      "['대구광역시', '수성구', nan, nan, '유니버시아드로', '180']\n",
      "['경상북도', '포항시', '장기면', nan, '양포항길', '12']\n",
      "['경상남도', '진주시', '금산면', nan, '송백로', '46']\n",
      "['경상북도', '포항시 북구', nan, '새천년대로', '1460']\n",
      "['경상북도', '포항시 북구', nan, nan, '새천년대로', '1460']\n",
      "['충청북도', '청주시 흥덕구', nan, '2순환로', '1004']\n",
      "['충청북도', '청주시 흥덕구', nan, nan, '2순환로', '1004']\n",
      "['경상남도', '김해시', nan, '칠산로', '128']\n",
      "['경상남도', '김해시', nan, nan, '칠산로', '128']\n",
      "['충청남도', '서산시', nan, '충의로', '27']\n",
      "['충청남도', '서산시', nan, nan, '충의로', '27']\n",
      "['충청북도', '충주시', nan, '사직산21길', '34']\n",
      "['충청북도', '충주시', nan, nan, '사직산21길', '34']\n",
      "['충청북도', '제천시', nan, '숭의로', '101']\n",
      "['충청북도', '제천시', nan, nan, '숭의로', '101']\n",
      "['경기도', '고양시 일산서구', nan, '대화로', '362']\n",
      "['경기도', '고양시 일산서구', nan, nan, '대화로', '362']\n",
      "['경상북도', '영주시', '풍기읍', nan, '기주로', '10']\n",
      "['경상북도', '김천시', nan, '시청1길', '223']\n",
      "['경상북도', '김천시', nan, nan, '시청1길', '223']\n",
      "['충청북도', '음성군', '생극면', nan, '중원대로', '792']\n",
      "['강원도', '춘천시', nan, '세실로', '108']\n",
      "['강원도', '춘천시', nan, nan, '세실로', '108']\n",
      "['강원도', '춘천시', nan, '우석로', '102 2']\n",
      "['강원도', '춘천시', nan, nan, '우석로', '102 2']\n",
      "['경기도', '시흥시', nan, '마유로238번길', '26']\n",
      "['경기도', '시흥시', nan, nan, '마유로238번길', '26']\n",
      "['인천광역시', '서구', nan, '원당대로', '581']\n",
      "['인천광역시', '서구', nan, nan, '원당대로', '581']\n",
      "['경상남도', '통영시', nan, '무전대로', '65']\n",
      "['경상남도', '통영시', nan, nan, '무전대로', '65']\n",
      "['울산광역시', '북구', nan, '진장유통로', '64']\n",
      "['울산광역시', '북구', nan, nan, '진장유통로', '64']\n",
      "['경상북도', '성주군', '성주읍', nan, '성주로', '3289']\n",
      "['경상남도', '창원시 마산회원구', '내서읍', nan, '유통단지로', '33']\n",
      "['전라남도', '순천시', nan, '팔마로', '333']\n",
      "['전라남도', '순천시', nan, nan, '팔마로', '333']\n",
      "['강원도', '강릉시', '연곡면', nan, '진고개로', '2742']\n",
      "['서울특별시', '영등포구', nan, '가마산로', '540']\n",
      "['서울특별시', '영등포구', nan, nan, '가마산로', '540']\n",
      "['경상북도', '청도군', '청도읍', nan, '하지길', '59 49']\n",
      "['경기도', '용인시 처인구', '포곡읍', nan, '금어로', '317']\n",
      "['경기도', '남양주시', '별내면', nan, '구리포천고속도로', '11']\n",
      "['경상북도', '포항시 남구', '장기면', nan, '읍내길', '99']\n",
      "['강원도', '삼척시', '도계읍', nan, '심포나길', '99']\n",
      "['강원도', '삼척시', nan, '엑스포로', '45']\n",
      "['강원도', '삼척시', nan, nan, '엑스포로', '45']\n",
      "['충청남도', '아산시', '탕정면', nan, '한내로', '209']\n",
      "['전라북도', '부안군', '변산면', nan, '지서로', '77 2']\n",
      "['경상남도', '진주시', '진성면', nan, '동부로1259번길', '32']\n",
      "['경상남도', '진주시', nan, '망경남길60번길', '18']\n",
      "['경상남도', '진주시', nan, nan, '망경남길60번길', '18']\n",
      "['경상남도', '진주시', nan, '남강로', '50']\n",
      "['경상남도', '진주시', nan, nan, '남강로', '50']\n",
      "['광주광역시', '북구', nan, '설죽로436번길', '23']\n",
      "['광주광역시', '북구', nan, nan, '설죽로436번길', '23']\n",
      "['전라남도', '여수시', nan, '쌍봉로', '248']\n",
      "['전라남도', '여수시', nan, nan, '쌍봉로', '248']\n",
      "['부산광역시', '강서구', nan, '공항진입로42번길', '20']\n",
      "['부산광역시', '강서구', nan, nan, '공항진입로42번길', '20']\n",
      "['인천광역시', '남동구', nan, '소래로', '645']\n",
      "['인천광역시', '남동구', nan, nan, '소래로', '645']\n",
      "['전라북도', '진안군', '안천면', nan, '진무로', '2998']\n",
      "['강원도', '강릉시', '왕산면', nan, '백두대간로', '1997']\n",
      "['경상북도', '울릉군', '서면', nan, '남양4길', '31', '서면사무소', '주차장']\n",
      "['경상남도', '김해시', '진영읍', nan, '하계로', '70']\n",
      "['경상남도', '김해시', '진영읍', nan, '하계로96번길', '68']\n",
      "['경기도', '성남시', nan, '탄천로', '215']\n",
      "['경기도', '성남시', nan, nan, '탄천로', '215']\n",
      "['경상북도', '영주시', '풍기읍', nan, '남원로', '80']\n",
      "['경기도', '파주시', nan, '와석순환로', '220']\n",
      "['경기도', '파주시', nan, nan, '와석순환로', '220']\n",
      "['강원도', '고성군', '토성면', nan, '중앙로', '642 22']\n",
      "['경상남도', '사천시', '용현면', nan, '선진길', '467']\n",
      "['경상남도', '양산시', '동면', nan, '목장길', '15 50']\n",
      "['대구광역시', '동구', nan, '인산로', '254']\n",
      "['대구광역시', '동구', nan, nan, '인산로', '254']\n",
      "['울산광역시', '남구', nan, '정동로42번길', '25']\n",
      "['울산광역시', '남구', nan, nan, '정동로42번길', '25']\n",
      "['제주특별자치도', '제주시', nan, '용두암길', '15']\n",
      "['제주특별자치도', '제주시', nan, nan, '용두암길', '15']\n",
      "['제주특별자치도', '서귀포시', nan, '신서귀로51번길', '38']\n",
      "['제주특별자치도', '서귀포시', nan, nan, '신서귀로51번길', '38']\n",
      "['전라남도', '순천시', nan, '국가정원1호길', '152 55']\n",
      "['전라남도', '순천시', nan, nan, '국가정원1호길', '152 55']\n",
      "['경상북도', '경산시', '용성면', nan, '원효로', '1423']\n",
      "['경기도', '남양주시', nan, '경춘로', '520']\n",
      "['경기도', '남양주시', nan, nan, '경춘로', '520']\n",
      "['서울특별시', '마포구', nan, '동교로1길', '39']\n",
      "['서울특별시', '마포구', nan, nan, '동교로1길', '39']\n",
      "['경상남도', '창원시 성산구', nan, '외동반림로', '51 88']\n",
      "['경상남도', '창원시 성산구', nan, nan, '외동반림로', '51 88']\n",
      "['전라북도', '전주시 완산구', nan, '당산로', '111']\n",
      "['전라북도', '전주시 완산구', nan, nan, '당산로', '111']\n",
      "['전라남도', '순천시', '상사면', nan, '상사초등길', '34']\n",
      "['세종특별자치시', nan, '다솜3로', '95(어진동)']\n",
      "['세종특별자치시', nan, nan, '다솜3로', '95(어진동)']\n",
      "['세종특별자치시', nan, nan, nan, '다솜3로', '95(어진동)']\n",
      "['세종특별자치시', nan, '다솜2로', '94(어진동)']\n",
      "['세종특별자치시', nan, nan, '다솜2로', '94(어진동)']\n",
      "['세종특별자치시', nan, nan, nan, '다솜2로', '94(어진동)']\n",
      "['세종특별자치시', nan, '갈매로', '408(어진동)']\n",
      "['세종특별자치시', nan, nan, '갈매로', '408(어진동)']\n",
      "['세종특별자치시', nan, nan, nan, '갈매로', '408(어진동)']\n",
      "['강원도', '춘천시', nan, '강원대학길', '1', '백령스포츠센터']\n",
      "['강원도', '춘천시', nan, nan, '강원대학길', '1', '백령스포츠센터']\n",
      "['세종특별자치시', nan, '국세청로', '8 14(나성동)']\n",
      "['세종특별자치시', nan, nan, '국세청로', '8 14(나성동)']\n",
      "['세종특별자치시', nan, nan, nan, '국세청로', '8 14(나성동)']\n",
      "['부산광역시', '기장군', '장안읍', nan, '동해고속도로', '26']\n",
      "['부산광역시', '기장군', '장안읍', nan, '동해고속도로', '25']\n",
      "['경상남도', '양산시', nan, '양산역6길', '12']\n",
      "['경상남도', '양산시', nan, nan, '양산역6길', '12']\n",
      "['부산광역시', '강서구', nan, '명지국제6로', '168']\n",
      "['부산광역시', '강서구', nan, nan, '명지국제6로', '168']\n",
      "['경상남도', '통영시', '광도면', nan, '죽림4로', '9']\n",
      "['대구광역시', '동구', nan, '신암남로', '127']\n",
      "['대구광역시', '동구', nan, nan, '신암남로', '127']\n",
      "['대구광역시', '달서구', nan, '이곡동로', '24']\n",
      "['대구광역시', '달서구', nan, nan, '이곡동로', '24']\n",
      "['경상북도', '구미시', nan, '이계북로', '23']\n",
      "['경상북도', '구미시', nan, nan, '이계북로', '23']\n",
      "['충청남도', '보령시', '주교면', nan, '송도길', '201']\n",
      "['충청남도', '보령시', '오천면', nan, '오천해안로', '89 37']\n",
      "['전라북도', '익산시', nan, '평동로', '705']\n",
      "['전라북도', '익산시', nan, nan, '평동로', '705']\n",
      "['부산광역시', '해운대구', nan, '센텀동로', '201']\n",
      "['부산광역시', '해운대구', nan, nan, '센텀동로', '201']\n",
      "['충청남도', '천안시 서북구', nan, '충무로', '187']\n",
      "['충청남도', '천안시 서북구', nan, nan, '충무로', '187']\n",
      "['세종특별자치시', nan, '갈매로', '388(어진동)']\n",
      "['세종특별자치시', nan, nan, '갈매로', '388(어진동)']\n",
      "['세종특별자치시', nan, nan, nan, '갈매로', '388(어진동)']\n",
      "['충청남도', '천안시 서북구', nan, '삼성대로', '20']\n",
      "['충청남도', '천안시 서북구', nan, nan, '삼성대로', '20']\n",
      "['경기도', '용인시 수지구', nan, '수지로', '203']\n",
      "['경기도', '용인시 수지구', nan, nan, '수지로', '203']\n",
      "['제주특별자치도', '제주시', '애월읍', nan, '일주서로', '6322']\n",
      "['강원도', '횡성군', '횡성읍', nan, '태기로', '85']\n",
      "['강원도', '횡성군', '횡성읍', nan, '문화체육로', '47']\n",
      "['강원도', '횡성군', '갑천면', nan, '청정로', '295']\n",
      "['강원도', '춘천시', nan, '공원2길', '1']\n",
      "['강원도', '춘천시', nan, nan, '공원2길', '1']\n",
      "['전라북도', '남원시', nan, '용성로', '66']\n",
      "['전라북도', '남원시', nan, nan, '용성로', '66']\n",
      "['전라북도', '남원시', '수지면', nan, '고주로', '623 10']\n",
      "['전라북도', '남원시', '송동면', nan, '송기길', '56']\n",
      "['전라북도', '남원시', '대강면', nan, '섬진로', '865', '대강면사무소']\n",
      "['전라북도', '남원시', nan, '붕맛1길', '6']\n",
      "['전라북도', '남원시', nan, nan, '붕맛1길', '6']\n",
      "['전라북도', '남원시', '운봉읍', nan, '비전길', '69']\n",
      "['전라북도', '남원시', '운봉읍', nan, '서천1길', '21 2']\n",
      "['경상북도', '영천시', '화북면', nan, '별빛로', '681 32']\n",
      "['전라북도', '장수군', nan, '한누리로', '394']\n",
      "['전라북도', '장수군', nan, nan, '한누리로', '394']\n",
      "['전라북도', '정읍시', nan, '첨단2로', '119']\n",
      "['전라북도', '정읍시', nan, nan, '첨단2로', '119']\n",
      "['경기도', '화성시', '향남읍', nan, '향남로', '470']\n",
      "['전라북도', '남원시', nan, '시묘길', '43']\n",
      "['전라북도', '남원시', nan, nan, '시묘길', '43']\n",
      "['충청남도', '논산시', nan, '동안로', '1407']\n",
      "['충청남도', '논산시', nan, nan, '동안로', '1407']\n",
      "['충청남도', '당진시', nan, '삼선산수목원길', '80 10']\n",
      "['충청남도', '당진시', nan, nan, '삼선산수목원길', '80 10']\n",
      "['경기도', '김포시', nan, '김포대로', '715']\n",
      "['경기도', '김포시', nan, nan, '김포대로', '715']\n",
      "['충청남도', '예산군', '삽교읍', nan, '도청대로', '600']\n",
      "['경기도', '김포시', nan, '김포한강8로', '302', '(마산동)']\n",
      "['경기도', '김포시', nan, nan, '김포한강8로', '302', '(마산동)']\n",
      "['전라북도', '익산시', nan, '대성길', '5']\n",
      "['전라북도', '익산시', nan, nan, '대성길', '5']\n",
      "['경기도', '성남시 분당구', nan, '문정로', '145']\n",
      "['경기도', '성남시 분당구', nan, nan, '문정로', '145']\n",
      "['전라북도', '익산시', nan, '선화로', '823']\n",
      "['전라북도', '익산시', nan, nan, '선화로', '823']\n",
      "['전라북도', '익산시', nan, '함열중앙로', '83']\n",
      "['전라북도', '익산시', nan, nan, '함열중앙로', '83']\n",
      "['전라북도', '군산시', '서수면', nan, '용천로', '334 23']\n",
      "['충청남도', '보령시', '성주면', nan, '심원계곡로', '6 21']\n",
      "['충청남도', '보령시', nan, '대천항1길', '67 5']\n",
      "['충청남도', '보령시', nan, nan, '대천항1길', '67 5']\n",
      "['광주광역시', '동구', nan, '의재로', '216']\n",
      "['광주광역시', '동구', nan, nan, '의재로', '216']\n",
      "['인천광역시', '옹진군', '영흥면', nan, '선재로', '5']\n",
      "['경기도', '고양시 일산동구', nan, '무궁화로', '237']\n",
      "['경기도', '고양시 일산동구', nan, nan, '무궁화로', '237']\n",
      "['충청남도', '공주시', nan, '중앙2길', '88']\n",
      "['충청남도', '공주시', nan, nan, '중앙2길', '88']\n",
      "['경기도', '김포시', nan, '태장로', '820']\n",
      "['경기도', '김포시', nan, nan, '태장로', '820']\n",
      "['광주광역시', '광산구', nan, '동곡로', '151 56(하산동)']\n",
      "['광주광역시', '광산구', nan, nan, '동곡로', '151 56(하산동)']\n",
      "['경기도', '김포시', nan, '김포한강1로', '77 15']\n",
      "['경기도', '김포시', nan, nan, '김포한강1로', '77 15']\n",
      "['전라북도', '임실군', '신덕면', nan, '수지로', '94']\n",
      "['경기도', '안양시 동안구', nan, '시민대로', '300']\n",
      "['경기도', '안양시 동안구', nan, nan, '시민대로', '300']\n",
      "['광주광역시', '북구', nan, '대천로', '140 3']\n",
      "['광주광역시', '북구', nan, nan, '대천로', '140 3']\n",
      "['광주광역시', '북구', nan, '첨단과기로208번길', '6']\n",
      "['광주광역시', '북구', nan, nan, '첨단과기로208번길', '6']\n",
      "['충청남도', '아산시', nan, '온천대로', '1790']\n",
      "['충청남도', '아산시', nan, nan, '온천대로', '1790']\n",
      "['경기도', '군포시', nan, '산본로', '347']\n",
      "['경기도', '군포시', nan, nan, '산본로', '347']\n",
      "['충청남도', '태안군', '고남면', nan, '안면대로', '4270 6']\n",
      "['경기도', '안산시 상록구', nan, '140']\n",
      "['경기도', '안산시 상록구', nan, nan, '140']\n",
      "['인천광역시', '연수구', nan, '경원대로', '429']\n",
      "['인천광역시', '연수구', nan, nan, '경원대로', '429']\n",
      "['경기도', '양평군', '강상면', nan, '송학길', '60']\n",
      "['전라북도', '부안군', '상서면', nan, '부안로', '2001']\n",
      "['충청남도', '태안군', '이원면', nan, '분지길', '14']\n",
      "['경기도', '의정부시', nan, '민락로', '210']\n",
      "['경기도', '의정부시', nan, nan, '민락로', '210']\n",
      "['경기도', '연천군', '전곡읍', nan, '은대성로', '95']\n",
      "['전라북도', '부안군', '보안면', nan, '부안로', '1197']\n",
      "['경기도', '연천군', '장남면', nan, '장백로', '244']\n",
      "['충청남도', '아산시', nan, '음봉로681번길', '75']\n",
      "['충청남도', '아산시', nan, nan, '음봉로681번길', '75']\n",
      "['충청남도', '서산시', '대산읍', nan, '구진로', '42 4']\n",
      "['전라북도', '장수군', '장계면', nan, '의암로', '558']\n",
      "['강원도', '횡성군', '서원면', nan, '서원로', '157']\n",
      "['강원도', '영월군', '김삿갓면', nan, '옥동장터길', '36']\n",
      "['전라북도', '무주군', '설천면', nan, '무설로', '1324']\n",
      "['강원도', '영월군', '남면', nan, '연당로', '45']\n",
      "['강원도', '태백시', nan, '굴거랑길', '4']\n",
      "['강원도', '태백시', nan, nan, '굴거랑길', '4']\n",
      "['충청남도', '당진시', '송산면', nan, '유곡3길', '6']\n",
      "['충청남도', '서산시', nan, '무석1로', '2']\n",
      "['충청남도', '서산시', nan, nan, '무석1로', '2']\n",
      "['충청남도', '예산군', '예산읍', nan, '벚꽃로155번길', '10']\n",
      "['충청남도', '공주시', '우성면', nan, '내산목천길', '52 15']\n",
      "['충청남도', '공주시', nan, '무령로', '550 53']\n",
      "['충청남도', '공주시', nan, nan, '무령로', '550 53']\n",
      "['강원도', '태백시', nan, '보드미길', '8(장성동)']\n",
      "['강원도', '태백시', nan, nan, '보드미길', '8(장성동)']\n",
      "['충청북도', '옥천군', '청산면', nan, '지전길', '10']\n",
      "['충청북도', '괴산군', '청천면', nan, '화양로', '14']\n",
      "['세종특별자치시', nan, '다솜로', '261']\n",
      "['세종특별자치시', nan, nan, '다솜로', '261']\n",
      "['세종특별자치시', nan, nan, nan, '다솜로', '261']\n",
      "['경기도', '하남시', nan, '신평로', '125']\n",
      "['경기도', '하남시', nan, nan, '신평로', '125']\n",
      "['충청남도', '서천군', nan, '삼일로265번길', '8']\n",
      "['충청남도', '서천군', nan, nan, '삼일로265번길', '8']\n",
      "['경상북도', '봉화군', '법전면', nan, '법전로', '100']\n",
      "['전라북도', '남원시', '인월면', nan, '인월1길', '58']\n",
      "['인천광역시', '옹진군', '영흥면', nan, '영흥로', '723']\n",
      "['충청남도', '예산군', '덕산면', nan, '덕산온천로', '422 3']\n",
      "['충청남도', '서산시', '대산읍', nan, '대산1로', '78 22']\n",
      "['충청남도', '예산군', '삽교읍', nan, '산단2길', '76 18']\n",
      "['경기도', '용인시 기흥구', nan, '구성로77번길', '17']\n",
      "['경기도', '용인시 기흥구', nan, nan, '구성로77번길', '17']\n",
      "['충청남도', '예산군', nan, '신례원로', '216']\n",
      "['충청남도', '예산군', nan, nan, '신례원로', '216']\n",
      "['전라북도', '익산시', '함라면', nan, '함라1길', '65']\n",
      "['경기도', '이천시', '장호원읍', nan, '서동대로8809번길', '30 15']\n",
      "['충청북도', '제천시', nan, '의림대로', '47']\n",
      "['충청북도', '제천시', nan, nan, '의림대로', '47']\n",
      "['충청남도', '태안군', nan, '구억말길', '8']\n",
      "['충청남도', '태안군', nan, nan, '구억말길', '8']\n",
      "['충청북도', '증평군', '증평읍', nan, '광장로', '88', '증평군청']\n",
      "['강원도', '삼척시', nan, '덕풍로', '35']\n",
      "['강원도', '삼척시', nan, nan, '덕풍로', '35']\n",
      "['충청북도', '괴산군', '괴산읍', nan, '동진천길', '43']\n",
      "['전라북도', '무주군', '부남면', nan, '대소길', '3']\n",
      "['충청남도', '보령시', '웅천읍', nan, '장터2길', '15']\n",
      "['강원도', '철원군', '철원읍', nan, '금강산로', '265']\n",
      "['강원도', '철원군', '김화읍', nan, '외골길', '16']\n",
      "['충청남도', '논산시', nan, '관촉로', '113 12']\n",
      "['충청남도', '논산시', nan, nan, '관촉로', '113 12']\n",
      "['충청남도', '논산시', nan, '대학로', '48']\n",
      "['충청남도', '논산시', nan, nan, '대학로', '48']\n",
      "['충청남도', '보령시', nan, '구시1길', '10']\n",
      "['충청남도', '보령시', nan, nan, '구시1길', '10']\n",
      "['충청남도', '천안시 서북구', nan, '동서대로', '110 9']\n",
      "['충청남도', '천안시 서북구', nan, nan, '동서대로', '110 9']\n",
      "['충청남도', '보령시', nan, '내평봉성길', '5']\n",
      "['충청남도', '보령시', nan, nan, '내평봉성길', '5']\n",
      "['서울특별시', '강서구', nan, '발산로', '40']\n",
      "['서울특별시', '강서구', nan, nan, '발산로', '40']\n",
      "['광주광역시', '서구', nan, '송암로143번길', '34']\n",
      "['광주광역시', '서구', nan, nan, '송암로143번길', '34']\n",
      "['충청북도', '제천시', nan, '의병대로34길', '50']\n",
      "['충청북도', '제천시', nan, nan, '의병대로34길', '50']\n",
      "['서울특별시', '송파구', nan, '양재대로', '932']\n",
      "['서울특별시', '송파구', nan, nan, '양재대로', '932']\n",
      "['충청북도', '충주시', '앙성면', nan, '가곡로', '1005']\n",
      "['경기도', '화성시', nan, '동탄중앙로', '376']\n",
      "['경기도', '화성시', nan, nan, '동탄중앙로', '376']\n",
      "['경기도', '용인시 기흥구', nan, '한보라1로', '92']\n",
      "['경기도', '용인시 기흥구', nan, nan, '한보라1로', '92']\n",
      "['경기도', '이천시', nan, '이섭대천로', '1440 50']\n",
      "['경기도', '이천시', nan, nan, '이섭대천로', '1440 50']\n",
      "['경기도', '양평군', '강하면', nan, '사호3길', '45']\n",
      "['전라북도', '군산시', '옥구읍', nan, '광월길', '8 4']\n",
      "['충청북도', '충주시', nan, '남한강로', '46']\n",
      "['충청북도', '충주시', nan, nan, '남한강로', '46']\n",
      "['충청북도', '괴산군', nan, '남산1길', '37']\n",
      "['충청북도', '괴산군', nan, nan, '남산1길', '37']\n",
      "['충청북도', '괴산군', '소수면', nan, '소수로', '157 6']\n",
      "['충청북도', '괴산군', '사리면', nan, '사리로', '242']\n",
      "['강원도', '정선군', '남면', nan, '칠현로', '49']\n",
      "['전라북도', '완주군', '봉동읍', nan, '봉비로', '166', '제일오투마트', '앞', '주차장']\n",
      "['충청남도', '보령시', nan, '관창공단길', '229']\n",
      "['충청남도', '보령시', nan, nan, '관창공단길', '229']\n",
      "['충청남도', '예산군', '덕산면', nan, '수덕사안길', '79']\n",
      "['강원도', '철원군', '동송읍', nan, '양지2길', '15 21']\n",
      "['충청북도', '음성군', nan, '무극로244번길', '16 25']\n",
      "['충청북도', '음성군', nan, nan, '무극로244번길', '16 25']\n",
      "['충청남도', '아산시', nan, '번영로224번길', '20']\n",
      "['충청남도', '아산시', nan, nan, '번영로224번길', '20']\n",
      "['충청남도', '태안군', nan, '신두해변길', '201 49']\n",
      "['충청남도', '태안군', nan, nan, '신두해변길', '201 49']\n",
      "['충청남도', '보령시', nan, '대청로', '167']\n",
      "['충청남도', '보령시', nan, nan, '대청로', '167']\n",
      "['제주특별자치도', '제주시', nan, '통물길', '75']\n",
      "['제주특별자치도', '제주시', nan, nan, '통물길', '75']\n",
      "['제주특별자치도', '제주시', '조천읍', nan, '일주동로', '1189']\n",
      "['제주특별자치도', '제주시', '한경면', nan, '대한로', '1036']\n",
      "['충청남도', '아산시', nan, '강당로', '21']\n",
      "['충청남도', '아산시', nan, nan, '강당로', '21']\n",
      "['충청남도', '천안시 동남구', nan, '천안대로', '361']\n",
      "['충청남도', '천안시 동남구', nan, nan, '천안대로', '361']\n",
      "['경기도', '김포시', nan, '김포한강8로', '198 3']\n",
      "['경기도', '김포시', nan, nan, '김포한강8로', '198 3']\n",
      "['충청북도', '충주시', nan, '연못1길', '56']\n",
      "['충청북도', '충주시', nan, nan, '연못1길', '56']\n",
      "['충청북도', '진천군', '진천읍', nan, '상산로', '65']\n",
      "['강원도', '삼척시', '원덕읍', nan, '산양서원2길', '46']\n",
      "['충청북도', '괴산군', '괴산읍', nan, '자연식품1길', '14']\n",
      "['경기도', '김포시', '하성면', nan, '하성로', '585']\n",
      "['인천광역시', '연수구', nan, '컨벤시아대로', '204']\n",
      "['인천광역시', '연수구', nan, nan, '컨벤시아대로', '204']\n",
      "['경기도', '성남시 분당구', nan, '양현로', '322']\n",
      "['경기도', '성남시 분당구', nan, nan, '양현로', '322']\n",
      "['경상남도', '의령군', '낙서면', nan, '낙동강로', '859']\n",
      "['경상남도', '통영시', nan, '통영해안로', '2']\n",
      "['경상남도', '통영시', nan, nan, '통영해안로', '2']\n",
      "['경기도', '파주시', nan, '하우3길', '77']\n",
      "['경기도', '파주시', nan, nan, '하우3길', '77']\n",
      "['인천광역시', '남동구', nan, '남동서로', '209']\n",
      "['인천광역시', '남동구', nan, nan, '남동서로', '209']\n",
      "['경상남도', '의령군', nan, '구룡16']\n",
      "['경상남도', '의령군', nan, nan, '구룡16']\n",
      "['경상남도', '의령군', '부림면', nan, '입산로', '178']\n",
      "['경기도', '안산시 단원구', nan, '적금로', '202']\n",
      "['경기도', '안산시 단원구', nan, nan, '적금로', '202']\n",
      "['경상남도', '창녕군', '길곡면', nan, '증산2길', '19']\n",
      "['경상남도', '창녕군', '성산면', nan, '성산로', '237']\n",
      "['경상남도', '창원시 의창구', nan, '소계로', '135']\n",
      "['경상남도', '창원시 의창구', nan, nan, '소계로', '135']\n",
      "['경기도', '군포시', nan, '번영로', '147 95']\n",
      "['경기도', '군포시', nan, nan, '번영로', '147 95']\n",
      "['경기도', '연천군', '중면', nan, '군중로', '400']\n",
      "['서울특별시', '광진구', nan, '능동로', '76']\n",
      "['서울특별시', '광진구', nan, nan, '능동로', '76']\n",
      "['경상북도', '안동시', nan, '관광단지로', '316']\n",
      "['경상북도', '안동시', nan, nan, '관광단지로', '316']\n",
      "['경상남도', '통영시', '산양읍', nan, '산양일주로', '1683 25']\n",
      "['서울특별시', '동대문구', nan, '회기로', '85']\n",
      "['서울특별시', '동대문구', nan, nan, '회기로', '85']\n",
      "['경상북도', '성주군', '성주읍', nan, '주산로', '193']\n",
      "['경상남도', '창원시 진해구', nan, '웅천중로', '59']\n",
      "['경상남도', '창원시 진해구', nan, nan, '웅천중로', '59']\n",
      "['대구광역시', '동구', nan, '첨단로8길', '32']\n",
      "['대구광역시', '동구', nan, nan, '첨단로8길', '32']\n",
      "['경상북도', '영주시', '풍기읍', nan, '소백로', '2156']\n",
      "['경상남도', '합천군', '대양면', nan, '대한로', '5']\n",
      "['경상남도', '창녕군', '창녕읍', nan, '탐하로', '201']\n",
      "['경상남도', '합천군', '용주면', nan, '황계폭포로', '1154']\n",
      "['경상남도', '함양군', '함양읍', nan, '삼휴길', '60 30']\n",
      "['경상북도', '구미시', nan, '형곡로', '180']\n",
      "['경상북도', '구미시', nan, nan, '형곡로', '180']\n",
      "['경상북도', '영주시', '장수면', nan, '용주로', '88 42']\n",
      "['경상남도', '합천군', '묘산면', nan, '묘산로', '173 1']\n",
      "['경상남도', '통영시', '광도면', nan, '죽림2로', '45']\n",
      "['경상북도', '구미시', nan, '경부고속도로', '172']\n",
      "['경상북도', '구미시', nan, nan, '경부고속도로', '172']\n",
      "['경상남도', '합천군', '초계면', nan, '동부로', '1240']\n",
      "['경상북도', '청송군', '청송읍', nan, '금월로', '244 30']\n",
      "['충청남도', '계룡시', '엄사면', nan, '문화1로', '13']\n",
      "['경상북도', '청송군', '청송읍', nan, '주왕산로', '177']\n",
      "['대전광역시', '유성구', nan, '신성로', '55']\n",
      "['대전광역시', '유성구', nan, nan, '신성로', '55']\n",
      "['경상북도', '청송군', '청송읍', nan, '군청로', '25']\n",
      "['대전광역시', '유성구', nan, '노은동로87번길', '89']\n",
      "['대전광역시', '유성구', nan, nan, '노은동로87번길', '89']\n",
      "['대전광역시', '유성구', nan, '송림로19번길', '35']\n",
      "['대전광역시', '유성구', nan, nan, '송림로19번길', '35']\n",
      "['경상북도', '청송군', '진보면', nan, '청송로', '6359']\n",
      "['충청남도', '논산시', nan, '산양1길', '2']\n",
      "['충청남도', '논산시', nan, nan, '산양1길', '2']\n",
      "['충청남도', '부여군', '규암면', nan, '아름1로', '64']\n",
      "['충청남도', '부여군', '세도면', nan, '세도중앙로', '8']\n",
      "['충청남도', '보령시', '천북면', nan, '홍보로', '462']\n",
      "['경상북도', '청송군', '주왕산면', nan, '주왕산로', '698 35']\n",
      "['경상북도', '청송군', '주왕산면', nan, '부동로', '1008']\n",
      "['경상남도', '합천군', '적중면', nan, '적중로', '98']\n",
      "['광주광역시', '서구', nan, '시청로', '91']\n",
      "['광주광역시', '서구', nan, nan, '시청로', '91']\n",
      "['전라남도', '화순군', '화순읍', nan, '쌍충로', '62']\n",
      "['경상남도', '김해시', nan, '삼안로112번길', '20 61']\n",
      "['경상남도', '김해시', nan, nan, '삼안로112번길', '20 61']\n",
      "['충청남도', '보령시', nan, '대천로', '113']\n",
      "['충청남도', '보령시', nan, nan, '대천로', '113']\n",
      "['전라남도', '화순군', '능주면', nan, '죽수길', '73']\n",
      "['울산광역시', '울주군', '삼동면', nan, '보삼길', '550']\n",
      "['경기도', '안양시 동안구', nan, '흥안대로', '313']\n",
      "['경기도', '안양시 동안구', nan, nan, '흥안대로', '313']\n",
      "['경상북도', '칠곡군', '동명면', nan, '남원로5길', '77']\n",
      "['경상북도', '구미시', '도개면', nan, '도안로', '103']\n",
      "['충청북도', '영동군', '용산면', nan, '영동산단로', '27']\n",
      "['광주광역시', '광산구', nan, '왕버들로322번길', '6']\n",
      "['광주광역시', '광산구', nan, nan, '왕버들로322번길', '6']\n",
      "['충청북도', '영동군', '매곡면', nan, '민주지산로', '3595']\n",
      "['광주광역시', '북구', nan, '첨단과기로', '235']\n",
      "['광주광역시', '북구', nan, nan, '첨단과기로', '235']\n",
      "['경상남도', '김해시', nan, '삼계로', '104 32']\n",
      "['경상남도', '김해시', nan, nan, '삼계로', '104 32']\n",
      "['경기도', '성남시 분당구', nan, '돌마로356번길', '43']\n",
      "['경기도', '성남시 분당구', nan, nan, '돌마로356번길', '43']\n",
      "['경상남도', '거창군', '신원면', nan, '신차로', '2924']\n",
      "['전라남도', '광양시', '광양읍', nan, '우산길', '3']\n",
      "['경상남도', '의령군', '유곡면', nan, '청정로', '1679']\n",
      "['경상북도', '경산시', '진량읍', nan, '공단7로', '126']\n",
      "['강원도', '춘천시', nan, '영서로', '2854']\n",
      "['강원도', '춘천시', nan, nan, '영서로', '2854']\n",
      "['경기도', '성남시 분당구', nan, '중앙공원로', '77']\n",
      "['경기도', '성남시 분당구', nan, nan, '중앙공원로', '77']\n",
      "['경상북도', '구미시', '선산읍', nan, '김선로', '963']\n",
      "['전라남도', '광양시', nan, '시청로', '33']\n",
      "['전라남도', '광양시', nan, nan, '시청로', '33']\n",
      "['경상남도', '합천군', '합천읍', nan, '대야로', '991']\n",
      "['충청북도', '음성군', '맹동면', nan, '원중로', '1339']\n",
      "['경상북도', '봉화군', '봉성면', nan, '부랭이길', '88']\n",
      "['경상남도', '창녕군', '유어면', nan, '우포1대로', '583']\n",
      "['경기도', '성남시 분당구', nan, '불정로', '110']\n",
      "['경기도', '성남시 분당구', nan, nan, '불정로', '110']\n",
      "['강원도', '인제군', '북면', nan, '연화동길', '251']\n",
      "['경상북도', '구미시', nan, '박정희로', '107']\n",
      "['경상북도', '구미시', nan, nan, '박정희로', '107']\n",
      "['전라남도', '영암군', '삼호읍', nan, '공항로', '21']\n",
      "['충청북도', '괴산군', '칠성면', nan, '명태재로외사4길', '1']\n",
      "['경상북도', '청송군', '파천면', nan, '안파로', '1244']\n",
      "['경상북도', '문경시', nan, '중앙로', '50']\n",
      "['경상북도', '문경시', nan, nan, '중앙로', '50']\n",
      "['전라남도', '장흥군', '용산면', nan, '장흥대로', '2667']\n",
      "['충청남도', '부여군', '충화면', nan, '팔충로', '770']\n",
      "['충청남도', '부여군', '양화면', nan, '입포로53번길', '6']\n",
      "['강원도', '고성군', '현내면', nan, '통일전망대로', '369']\n",
      "['강원도', '홍천군', '내면', nan, '삼봉휴양길', '276']\n",
      "['서울특별시', '서초구', nan, '방배로23길', '31 6']\n",
      "['서울특별시', '서초구', nan, nan, '방배로23길', '31 6']\n",
      "['강원도', '평창군', '진부면', nan, '석두산2길', '13']\n",
      "['서울특별시', '서초구', nan, '사평대로28길', '70']\n",
      "['서울특별시', '서초구', nan, nan, '사평대로28길', '70']\n",
      "['강원도', '강릉시', '성산면', nan, '삼포암길', '133']\n",
      "['강원도', '삼척시', nan, '중앙로', '346']\n",
      "['강원도', '삼척시', nan, nan, '중앙로', '346']\n",
      "['경기도', '시흥시', nan, '공단2대로', '14']\n",
      "['경기도', '시흥시', nan, nan, '공단2대로', '14']\n",
      "['경기도', '광명시', nan, '가학로', '119']\n",
      "['경기도', '광명시', nan, nan, '가학로', '119']\n",
      "['경상북도', '영양군', '영양읍', nan, '중앙로', '55']\n",
      "['충청남도', '천안시 동남구', '병천면', nan, '병천2로', '57']\n",
      "['경상북도', '봉화군', '상운면', nan, '예봉로', '1281']\n",
      "['울산광역시', '울주군', '청량면', nan, '군청로', '1']\n",
      "['전라남도', '보성군', '미력면', nan, '가평길', '44']\n",
      "['전라남도', '보성군', nan, '용문길', '18']\n",
      "['전라남도', '보성군', nan, nan, '용문길', '18']\n",
      "['충청남도', '청양군', '비봉면', nan, '충절로', '1994']\n",
      "['경상북도', '영양군', '영양읍', nan, '군청길', '37']\n",
      "['충청남도', '천안시 동남구', nan, '풍세산단4로', '81']\n",
      "['충청남도', '천안시 동남구', nan, nan, '풍세산단4로', '81']\n",
      "['경기도', '연천군', '신서면', nan, '연신로', '1130']\n",
      "['충청남도', '부여군', '은산면', nan, '충의로', '694']\n",
      "['서울특별시', '양천구', nan, '목동동로', '257']\n",
      "['서울특별시', '양천구', nan, nan, '목동동로', '257']\n",
      "['경기도', '연천군', '연천읍', nan, '차현로', '139']\n",
      "['경기도', '연천군', '연천읍', nan, '차현로', '76 7']\n",
      "['충청남도', '서산시', nan, '문화로', '112']\n",
      "['충청남도', '서산시', nan, nan, '문화로', '112']\n",
      "['경기도', '파주시', nan, '시청로', '66']\n",
      "['경기도', '파주시', nan, nan, '시청로', '66']\n",
      "['경기도', '파주시', '적성면', nan, '청송로', '1013']\n",
      "['경기도', '파주시', '파주읍', nan, '술이홀로', '305']\n",
      "['충청남도', '서산시', '고북면', nan, '고북1로', '294']\n",
      "['광주광역시', '북구', nan, '첨단과기로208번길', '5']\n",
      "['광주광역시', '북구', nan, nan, '첨단과기로208번길', '5']\n",
      "['강원도', '화천군', '상서면', nan, '수피령로', '1313']\n",
      "['충청남도', '아산시', nan, '외암로', '1030 14']\n",
      "['충청남도', '아산시', nan, nan, '외암로', '1030 14']\n",
      "['전라남도', '강진군', '강진읍', nan, '청렴길', '1']\n",
      "['전라남도', '강진군', '병영면', nan, '병영성로', '180']\n",
      "['강원도', '춘천시', '신북읍', nan, '61 10']\n",
      "['전라북도', '완주군', '고산면', nan, '고산천로', '720 45']\n",
      "['경기도', '파주시', '원롱면', nan, '엘지로', '185']\n",
      "['전라북도', '전주시 덕진구', nan, '안덕원로', '71']\n",
      "['전라북도', '전주시 덕진구', nan, nan, '안덕원로', '71']\n",
      "['강원도', '홍천군', '홍천읍', nan, '설악로', '1792']\n",
      "['강원도', '홍천군', '홍천읍', nan, '홍천로', '677']\n",
      "['전라북도', '남원시', nan, '동림로', '116']\n",
      "['전라북도', '남원시', nan, nan, '동림로', '116']\n",
      "['경기도', '파주시', nan, '와석순환로172번길', '30']\n",
      "['경기도', '파주시', nan, nan, '와석순환로172번길', '30']\n",
      "['전라북도', '순창군', '유등면', nan, '담순로', '1548']\n",
      "['강원도', '속초시', nan, '미시령로', '3336']\n",
      "['강원도', '속초시', nan, nan, '미시령로', '3336']\n",
      "['경기도', '고양시 덕양구', nan, '어울림로', '33']\n",
      "['경기도', '고양시 덕양구', nan, nan, '어울림로', '33']\n",
      "['경상북도', '영양군', '입암면', nan, '영양로', '883 5']\n",
      "['전라북도', '고창군', '고창읍', nan, '월곡8길', '19']\n",
      "['전라남도', '함평군', '엄다면', nan, '엄다길', '53']\n",
      "['전라북도', '고창군', '고창읍', nan, '전봉준로', '90']\n",
      "['전라북도', '김제시', nan, '468 65']\n",
      "['전라북도', '김제시', nan, nan, '468 65']\n",
      "['전라북도', '전주시 덕진구', nan, '안전로', '120']\n",
      "['전라북도', '전주시 덕진구', nan, nan, '안전로', '120']\n",
      "['충청남도', '예산군', '삽교읍', nan, '예학로', '65']\n",
      "['전라북도', '김제시', '만경읍', nan, '대동공단2길', '12']\n",
      "['전라남도', '나주시', nan, '세남로', '1508']\n",
      "['전라남도', '나주시', nan, nan, '세남로', '1508']\n",
      "['서울특별시', '영등포구', nan, '대림로', '244']\n",
      "['서울특별시', '영등포구', nan, nan, '대림로', '244']\n",
      "['서울특별시', '영등포구', nan, '신길로60길', '34']\n",
      "['서울특별시', '영등포구', nan, nan, '신길로60길', '34']\n",
      "['경기도', '광주시', '초월읍', nan, '경충대로', '1241']\n",
      "['서울특별시', '성동구', nan, '청계천로', '540']\n",
      "['서울특별시', '성동구', nan, nan, '청계천로', '540']\n",
      "['광주광역시', '북구', nan, '하서로', '111']\n",
      "['광주광역시', '북구', nan, nan, '하서로', '111']\n",
      "['경기도', '화성시', '매송면', nan, '서해안고속도로', '316']\n",
      "['경기도', '안산시 단원구', nan, '화랑로', '260']\n",
      "['경기도', '안산시 단원구', nan, nan, '화랑로', '260']\n",
      "['서울특별시', '강북구', nan, '오현로', '117']\n",
      "['서울특별시', '강북구', nan, nan, '오현로', '117']\n",
      "['서울특별시', '중랑구', nan, '겸재로23길', '27']\n",
      "['서울특별시', '중랑구', nan, nan, '겸재로23길', '27']\n",
      "['광주광역시', '서구', nan, '계수로', '31']\n",
      "['광주광역시', '서구', nan, nan, '계수로', '31']\n",
      "['서울특별시', '강동구', nan, '천호대로', '1183']\n",
      "['서울특별시', '강동구', nan, nan, '천호대로', '1183']\n",
      "['경기도', '이천시', '대월면', nan, '대산로', '125']\n",
      "['경기도', '안산시 단원구', nan, '신길중앙로', '15']\n",
      "['경기도', '안산시 단원구', nan, nan, '신길중앙로', '15']\n",
      "['경상북도', '청송군', '청송읍', nan, '중앙로', '184']\n",
      "['인천광역시', '강화군', '양사면', nan, '전망대로', '1391']\n",
      "['인천광역시', '계양구', nan, '안남로', '543']\n",
      "['인천광역시', '계양구', nan, nan, '안남로', '543']\n",
      "['인천광역시', '강화군', '양도면', nan, '강화남로', '708 2']\n",
      "['경상북도', '청송군', '안덕면', nan, '안덕로', '82']\n",
      "['경기도', '오산시', nan, '문헌공로', '45']\n",
      "['경기도', '오산시', nan, nan, '문헌공로', '45']\n",
      "['경상북도', '청송군', '부남면', nan, '청송로', '3478 96']\n",
      "['경상북도', '봉화군', '춘양면', nan, '의양로5길', '19']\n",
      "['대전광역시', '유성구', nan, '유성대로', '1719']\n",
      "['대전광역시', '유성구', nan, nan, '유성대로', '1719']\n",
      "['경상북도', '청송군', '진보면', nan, '이촌1길', '23 1']\n",
      "['광주광역시', '북구', nan, '양일로', '314']\n",
      "['광주광역시', '북구', nan, nan, '양일로', '314']\n",
      "['충청북도', '영동군', '용화면', nan, '휴양림길', '60']\n",
      "['인천광역시', '남동구', nan, '남동대로916번길', '47']\n",
      "['인천광역시', '남동구', nan, nan, '남동대로916번길', '47']\n",
      "['인천광역시', '연수구', nan, '원인재로', '263']\n",
      "['인천광역시', '연수구', nan, nan, '원인재로', '263']\n",
      "['인천광역시', '남동구', nan, '소래역로', '115']\n",
      "['인천광역시', '남동구', nan, nan, '소래역로', '115']\n",
      "['전라남도', '곡성군', '입면', nan, '입면로', '711']\n",
      "['인천광역시', '미추홀구', nan, '아암대로253번길', '81']\n",
      "['인천광역시', '미추홀구', nan, nan, '아암대로253번길', '81']\n",
      "['경상북도', '청송군', '현서면', nan, '달정길', '9']\n",
      "['전라남도', '곡성군', '석곡면', nan, '석곡로', '70']\n",
      "['경기도', '고양시 일산동구', nan, '중앙로', '1286']\n",
      "['경기도', '고양시 일산동구', nan, nan, '중앙로', '1286']\n",
      "['전라남도', '화순군', '사평면', nan, '사호로', '236 40']\n",
      "['경상북도', '청송군', '안덕면', nan, '방호정로', '50']\n",
      "['충청북도', '제천시', nan, '내토로16안길', '8 1']\n",
      "['충청북도', '제천시', nan, nan, '내토로16안길', '8 1']\n",
      "['전라남도', '화순군', '동복면', nan, '김삿갓로', '655']\n",
      "['충청북도', '제천시', nan, '세명로', '21']\n",
      "['충청북도', '제천시', nan, nan, '세명로', '21']\n",
      "['경상북도', '영양군', '영양읍', nan, '군민회관길', '46']\n",
      "['경상북도', '청송군', '주왕산면', nan, '이전앞길', '27']\n",
      "['전라북도', '김제시', '죽산면', nan, '죽산3길', '3']\n",
      "['전라북도', '김제시', '백산면', nan, '지평선산단3길', '100']\n",
      "['경기도', '안산시 단원구', nan, '대부중앙로', '97 9']\n",
      "['경기도', '안산시 단원구', nan, nan, '대부중앙로', '97 9']\n",
      "['전라남도', '보성군', '회천면', nan, '우암길', '21']\n",
      "['울산광역시', '울주군', '청량읍', nan, '처용산업4길', '51']\n",
      "['전라북도', '익산시', nan, '익산대로52길', '27']\n",
      "['전라북도', '익산시', nan, nan, '익산대로52길', '27']\n",
      "['강원도', '원주시', '문막읍', nan, '원문로', '1890']\n",
      "['경기도', '수원시 영통구', nan, '광교중앙로', '140']\n",
      "['경기도', '수원시 영통구', nan, nan, '광교중앙로', '140']\n",
      "['경상북도', '구미시', '산동면', nan, '첨단기업1로', '17']\n",
      "['경상남도', '창원시 의창구', nan, '태복산로15번길', '8']\n",
      "['경상남도', '창원시 의창구', nan, nan, '태복산로15번길', '8']\n",
      "['광주광역시', '서구', nan, '상무자유로', '73']\n",
      "['광주광역시', '서구', nan, nan, '상무자유로', '73']\n",
      "['전라북도', '남원시', nan, '이백로', '13']\n",
      "['전라북도', '남원시', nan, nan, '이백로', '13']\n",
      "['강원도', '원주시', nan, '황소마을길', '30']\n",
      "['강원도', '원주시', nan, nan, '황소마을길', '30']\n",
      "['경상북도', '구미시', nan, '광평길', '55']\n",
      "['경상북도', '구미시', nan, nan, '광평길', '55']\n",
      "['충청남도', '금산군', '금성면', nan, '의총길', '25']\n",
      "['강원도', '홍천군', '내면', nan, '대한동길', '10 9']\n",
      "['강원도', '홍천군', '서석면', nan, '구룡령로', '2402']\n",
      "['강원도', '홍천군', '동면', nan, '수타사로', '409']\n",
      "['강원도', '홍천군', '동면', nan, '수타사로', '303']\n",
      "['강원도', '홍천군', '홍천읍', nan, '연봉중앙로', '11 8']\n",
      "['경기도', '성남시 수정구', nan, '오야로', '19']\n",
      "['경기도', '성남시 수정구', nan, nan, '오야로', '19']\n",
      "['강원도', '춘천시', nan, '칠전동길', '28']\n",
      "['강원도', '춘천시', nan, nan, '칠전동길', '28']\n",
      "['경기도', '연천군', '신서면', nan, '동내로', '1384']\n",
      "['강원도', '영월군', '영월읍', nan, '덕포우회길', '343 2']\n",
      "['전라북도', '부안군', nan, '변산해변로', '765']\n",
      "['전라북도', '부안군', nan, nan, '변산해변로', '765']\n",
      "['경기도', '연천군', '전곡읍', nan, '전곡역로66번길', '53']\n",
      "['강원도', '홍천군', '두촌면', nan, '가리산길', '1 28']\n",
      "['경기도', '포천시', nan, '송선로', '352']\n",
      "['경기도', '포천시', nan, nan, '송선로', '352']\n",
      "['전라남도', '무안군', '몽탄면', nan, '우명길', '21']\n",
      "['경기도', '포천시', nan, '해룡로', '79']\n",
      "['경기도', '포천시', nan, nan, '해룡로', '79']\n",
      "['강원도', '정선군', '신동읍', nan, '새골길', '30']\n",
      "['경기도', '시흥시', nan, '서울대학로264번길', '45']\n",
      "['경기도', '시흥시', nan, nan, '서울대학로264번길', '45']\n",
      "['강원도', '정선군', '사북읍', nan, '사북중앙로', '65']\n",
      "['강원도', '태백시', nan, '태백로', '1182']\n",
      "['강원도', '태백시', nan, nan, '태백로', '1182']\n",
      "['강원도', '삼척시', nan, '동해대로', '3852']\n",
      "['강원도', '삼척시', nan, nan, '동해대로', '3852']\n",
      "['서울특별시', '서초구', nan, '서초대로54길', '45']\n",
      "['서울특별시', '서초구', nan, nan, '서초대로54길', '45']\n",
      "['강원도', '화천군', '간동면', nan, '배후령길', '1144']\n",
      "['강원도', '동해시', nan, '공단9로', '145']\n",
      "['강원도', '동해시', nan, nan, '공단9로', '145']\n",
      "['전라북도', '군산시', nan, '조촌5길', '44']\n",
      "['전라북도', '군산시', nan, nan, '조촌5길', '44']\n",
      "['강원도', '춘천시', '사북면', nan, '영서로', '4721']\n",
      "['전라북도', '부안군', '계화면', nan, '간재로', '405']\n",
      "['경기도', '파주시', '문산읍', nan, '율곡로', '402']\n",
      "['강원도', '동해시', nan, '일출로', '22']\n",
      "['강원도', '동해시', nan, nan, '일출로', '22']\n",
      "['전라북도', '군산시', nan, '미장8길', '7']\n",
      "['전라북도', '군산시', nan, nan, '미장8길', '7']\n",
      "['서울특별시', '서초구', nan, '동산로', '35']\n",
      "['서울특별시', '서초구', nan, nan, '동산로', '35']\n",
      "['전라북도', '군산시', '옥구읍', nan, '옥구로', '6']\n",
      "['경기도', '파주시', '광탄면', nan, '부흥로', '303']\n",
      "['강원도', '정선군', '여량면', nan, '아우라지길', '69', '아우라지', '관광지']\n",
      "['강원도', '정선군', nan, '녹송4길', '71']\n",
      "['강원도', '정선군', nan, nan, '녹송4길', '71']\n",
      "['경상남도', '밀양시', '산내면', nan, '얼음골로', '334']\n",
      "['경기도', '용인시 수지구', nan, '경부고속도로', '400']\n",
      "['경기도', '용인시 수지구', nan, nan, '경부고속도로', '400']\n",
      "['경상북도', '구미시', nan, '송정대로', '89']\n",
      "['경상북도', '구미시', nan, nan, '송정대로', '89']\n",
      "['강원도', '평창군', '방림면', nan, '계촌길', '101']\n",
      "['경기도', '구리시', nan, '장자대로', '141']\n",
      "['경기도', '구리시', nan, nan, '장자대로', '141']\n",
      "['인천광역시', '서구', nan, '탁옥로51번길', '26']\n",
      "['인천광역시', '서구', nan, nan, '탁옥로51번길', '26']\n",
      "['경상남도', '진주시', nan, '가좌길29번길', '63']\n",
      "['경상남도', '진주시', nan, nan, '가좌길29번길', '63']\n",
      "['경상북도', '문경시', nan, '중앙로', '280']\n",
      "['경상북도', '문경시', nan, nan, '중앙로', '280']\n",
      "['경기도', '고양시 일산서구', nan, '중앙로', '1601']\n",
      "['경기도', '고양시 일산서구', nan, nan, '중앙로', '1601']\n",
      "['전라북도', '군산시', nan, '설림길', '11']\n",
      "['전라북도', '군산시', nan, nan, '설림길', '11']\n",
      "['전라북도', '군산시', nan, '산단남북로', '169']\n",
      "['전라북도', '군산시', nan, nan, '산단남북로', '169']\n",
      "['경상북도', '구미시', nan, '해마루공원로', '24']\n",
      "['경상북도', '구미시', nan, nan, '해마루공원로', '24']\n",
      "['경상북도', '영주시', nan, '영주로', '204']\n",
      "['경상북도', '영주시', nan, nan, '영주로', '204']\n",
      "['경상북도', '울진군', '온정면', nan, '백암온천로', '1308']\n",
      "['전라북도', '군산시', nan, '창길', '21']\n",
      "['전라북도', '군산시', nan, nan, '창길', '21']\n",
      "['경상북도', '칠곡군', '왜관읍', nan, '평장3길', '47']\n",
      "['경상북도', '예천군', '효자면', nan, '은풍로', '1154']\n",
      "['전라북도', '완주군', '이서면', nan, '혁신로', '181']\n",
      "['경기도', '안성시', nan, '강변로74번길', '18']\n",
      "['경기도', '안성시', nan, nan, '강변로74번길', '18']\n",
      "['경상북도', '울진군', nan, '대흥신림로', '1046 280']\n",
      "['경상북도', '울진군', nan, nan, '대흥신림로', '1046 280']\n",
      "['전라북도', '군산시', nan, '새만금북로', '27']\n",
      "['전라북도', '군산시', nan, nan, '새만금북로', '27']\n",
      "['전라북도', '군산시', nan, '미원로', '17']\n",
      "['전라북도', '군산시', nan, nan, '미원로', '17']\n",
      "['전라북도', '군산시', nan, '중앙로', '220']\n",
      "['전라북도', '군산시', nan, nan, '중앙로', '220']\n",
      "['전라북도', '군산시', nan, '설림안4길', '30']\n",
      "['전라북도', '군산시', nan, nan, '설림안4길', '30']\n",
      "['경상북도', '울진군', '온정면', nan, '백암온천로', '1185']\n",
      "['경상북도', '영주시', nan, '대학로', '352']\n",
      "['경상북도', '영주시', nan, nan, '대학로', '352']\n",
      "['전라북도', '정읍시', '입암면', nan, '입암로', '345 1']\n",
      "['전라북도', '정읍시', '입암면', nan, '정읍남로', '489']\n",
      "['전라남도', '나주시', nan, '금성산길', '116']\n",
      "['전라남도', '나주시', nan, nan, '금성산길', '116']\n",
      "['강원도', '강릉시', nan, '화부산로40번길', '47']\n",
      "['강원도', '강릉시', nan, nan, '화부산로40번길', '47']\n",
      "['전라남도', '나주시', nan, '늦은맛재길', '9']\n",
      "['전라남도', '나주시', nan, nan, '늦은맛재길', '9']\n",
      "['전라북도', '정읍시', nan, '내장호반로', '266']\n",
      "['전라북도', '정읍시', nan, nan, '내장호반로', '266']\n",
      "['제주특별자치도', '서귀포시', '남원읍', nan, '하례돈야로', '83']\n",
      "['경상북도', '의성군', '사곡면', nan, '의성사곡로', '966']\n",
      "['경상북도', '의성군', '안사면', nan, '안신로', '645']\n",
      "['경상북도', '영주시', nan, '중앙로63번길', '41 11']\n",
      "['경상북도', '영주시', nan, nan, '중앙로63번길', '41 11']\n",
      "['경상북도', '의성군', '가음면', nan, '빙계계곡길', '51']\n",
      "['경기도', '시흥시', nan, '시흥대로268번길', '8']\n",
      "['경기도', '시흥시', nan, nan, '시흥대로268번길', '8']\n",
      "['전라남도', '무안군', '삼향읍', nan, '초의길', '30']\n",
      "['전라남도', '무안군', '삼향읍', nan, '신기길', '20']\n",
      "['서울특별시', '노원구', nan, '동일로197길', '24']\n",
      "['서울특별시', '노원구', nan, nan, '동일로197길', '24']\n",
      "['전라남도', '영암군', '삼호읍', nan, '대불주거3로', '81']\n",
      "['전라남도', '무안군', '삼향읍', nan, '어진누리길', '10']\n",
      "['전라남도', '무안군', '삼향읍', nan, '남악3로', '40']\n",
      "['경기도', '파주시', nan, '아리랑로', '55 81']\n",
      "['경기도', '파주시', nan, nan, '아리랑로', '55 81']\n",
      "['인천광역시', '강화군', '교동면', nan, '교동동로', '485 13']\n",
      "['전라남도', '무안군', '삼향읍', nan, '남악로', '210']\n",
      "['경기도', '파주시', '월롱면', nan, '휴암로', '434']\n",
      "['경상남도', '밀양시', '산내면', nan, '얼음골로', '177']\n",
      "['전라남도', '목포시', nan, '남악로162번길', '25']\n",
      "['전라남도', '목포시', nan, nan, '남악로162번길', '25']\n",
      "['전라남도', '영암군', '영암읍', nan, '영암로', '1527']\n",
      "['경기도', '파주시', '법원읍', nan, '화합로', '212']\n",
      "['전라남도', '영암군', '덕진면', nan, '금호길', '11']\n",
      "['전라남도', '목포시', nan, '청호로', '231']\n",
      "['전라남도', '목포시', nan, nan, '청호로', '231']\n",
      "['경기도', '파주시', nan, '평화로', '809']\n",
      "['경기도', '파주시', nan, nan, '평화로', '809']\n",
      "['전라북도', '고창군', '고수면', nan, '고인돌대로', '1412']\n",
      "['인천광역시', '연수구', nan, '함박안로', '217']\n",
      "['인천광역시', '연수구', nan, nan, '함박안로', '217']\n",
      "['전라북도', '고창군', '상하면', nan, '상하로', '84 11']\n",
      "['경상남도', '의령군', '의령읍', nan, '충익로', '86 2']\n",
      "['경기도', '포천시', '영북면', nan, '비둘기낭길', '55']\n",
      "['전라북도', '고창군', '상하면', nan, '선운대로', '810']\n",
      "['전라북도', '고창군', '대산면', nan, '대성로', '273']\n",
      "['강원도', '양구군', '양구읍', nan, '양남로', '1']\n",
      "['전라북도', '남원시', '대산면', nan, '운교1길', '26']\n",
      "['전라북도', '남원시', nan, '교룡로', '185']\n",
      "['전라북도', '남원시', nan, nan, '교룡로', '185']\n",
      "['전라북도', '남원시', nan, '성황단길', '7']\n",
      "['전라북도', '남원시', nan, nan, '성황단길', '7']\n",
      "['경기도', '고양시 덕양구', nan, '흥도로454번길', '44']\n",
      "['경기도', '고양시 덕양구', nan, nan, '흥도로454번길', '44']\n",
      "['전라북도', '남원시', '운봉읍', nan, '황산로', '1083']\n",
      "['전라남도', '순천시', '외서면', nan, '쌍향수길', '440']\n",
      "['전라남도', '고흥군', '동일면', nan, '덕양서원길', '119']\n",
      "['전라북도', '익산시', '함열읍', nan, '함낭로', '492']\n",
      "['전라남도', '화순군', '이양면', nan, '이양로', '91']\n",
      "['전라남도', '화순군', '도암면', nan, '권동길', '4 2']\n",
      "['전라북도', '익산시', '웅포면', nan, '강변로', '9']\n",
      "['전라북도', '익산시', nan, '동서로', '103']\n",
      "['전라북도', '익산시', nan, nan, '동서로', '103']\n",
      "['전라북도', '군산시', nan, '새만금북로', '437']\n",
      "['전라북도', '군산시', nan, nan, '새만금북로', '437']\n",
      "['전라남도', '신안군', '팔금면', nan, '삼층석탑길', '145']\n",
      "['전라북도', '익산시', nan, '보석로', '81']\n",
      "['전라북도', '익산시', nan, nan, '보석로', '81']\n",
      "['전라북도', '익산시', nan, '무왕로', '1471 63']\n",
      "['전라북도', '익산시', nan, nan, '무왕로', '1471 63']\n",
      "['전라북도', '익산시', '왕궁면', nan, '궁성로', '666']\n",
      "['전라남도', '장성군', '동화면', nan, '삼동로', '721']\n",
      "['충청북도', '제천시', nan, '제2바이오밸리로3길', '34']\n",
      "['충청북도', '제천시', nan, nan, '제2바이오밸리로3길', '34']\n",
      "['강원도', '정선군', '정선읍', nan, '가리왕산로', '707']\n",
      "['충청북도', '충주시', '신니면', nan, '신덕로', '780']\n",
      "['전라북도', '임실군', '임실읍', nan, '호국로', '1640']\n",
      "['전라북도', '정읍시', '산외면', nan, '산외로', '438 4']\n",
      "['경기도', '고양시 일산서구', nan, '킨텍스로', '217 59']\n",
      "['경기도', '고양시 일산서구', nan, nan, '킨텍스로', '217 59']\n",
      "['전라북도', '정읍시', nan, '영주로', '530']\n",
      "['전라북도', '정읍시', nan, nan, '영주로', '530']\n",
      "['전라남도', '장성군', '장성읍', nan, '영천로', '125']\n",
      "['전라남도', '장성군', '북하면', nan, '약수2길', '2']\n",
      "['전라남도', '장성군', '장성읍', nan, '단풍로', '204']\n",
      "['서울특별시', '마포구', nan, '월드컵로', '212']\n",
      "['서울특별시', '마포구', nan, nan, '월드컵로', '212']\n",
      "['충청북도', '청주시 상당구', '낭성면', nan, '산성로', '1143']\n",
      "['전라남도', '진도군', '임회면', nan, '동령개길', '1 92']\n",
      "['충청북도', '청주시 청원구', nan, '사뜸로61번길', '88 14']\n",
      "['충청북도', '청주시 청원구', nan, nan, '사뜸로61번길', '88 14']\n",
      "['전라남도', '여수시', nan, '신월로', '648']\n",
      "['전라남도', '여수시', nan, nan, '신월로', '648']\n",
      "['충청남도', '천안시 서북구', nan, '미라3길', '16']\n",
      "['충청남도', '천안시 서북구', nan, nan, '미라3길', '16']\n",
      "['전라북도', '무주군', '무주읍', nan, '주계로', '101']\n",
      "['충청남도', '홍성군', '홍성읍', nan, '아문길', '27']\n",
      "['충청남도', '서산시', nan, '수석1길', '124 1']\n",
      "['충청남도', '서산시', nan, nan, '수석1길', '124 1']\n",
      "['전라북도', '무주군', '설천면', nan, '만선로', '185']\n",
      "['충청남도', '당진시', '합덕읍', nan, '덕평로', '379 9']\n",
      "['경상북도', '구미시', '장천면', nan, '상장4길', '18 16']\n",
      "['경상북도', '구미시', '해평면', nan, '강동로', '1672']\n",
      "['전라북도', '진안군', '부귀면', nan, '부귀로', '305 7']\n",
      "['전라북도', '진안군', '상전면', nan, '주평로', '41']\n",
      "['전라남도', '완도군', '약산면', nan, '장용1길', '18']\n",
      "['전라북도', '진안군', '진안읍', nan, '학천변길', '33']\n",
      "['경상북도', '구미시', nan, '구미대로', '350 27']\n",
      "['경상북도', '구미시', nan, nan, '구미대로', '350 27']\n",
      "['전라북도', '임실군', '성수면', nan, '임진로', '213']\n",
      "['전라북도', '임실군', '오수면', nan, '의견로', '1']\n",
      "['전라북도', '진안군', '백운면', nan, '임진로', '1297']\n",
      "['경상북도', '의성군', '단일면', nan, '낙동대로', '3962']\n",
      "['충청북도', '괴산군', '청안면', nan, '질마로', '1440']\n",
      "['전라남도', '여수시', '소라면', nan, '덕양로', '389']\n",
      "['대전광역시', '유성구', nan, '대덕대로989번길', '111']\n",
      "['대전광역시', '유성구', nan, nan, '대덕대로989번길', '111']\n",
      "['전라남도', '화순군', '이서면', nan, '적벽로', '845']\n",
      "['전라남도', '화순군', '이서면', nan, '백아로', '3114']\n",
      "['전라남도', '화순군', '백아면', nan, '학천길', '29']\n",
      "['경상북도', '칠곡군', '석적읍', nan, '유학로', '532']\n",
      "['전라북도', '김제시', nan, '자유무역길', '215']\n",
      "['전라북도', '김제시', nan, nan, '자유무역길', '215']\n",
      "['대구광역시', '서구', nan, '가르뱅이로', '102 30']\n",
      "['대구광역시', '서구', nan, nan, '가르뱅이로', '102 30']\n",
      "['대전광역시', '유성구', nan, '엑스포로', '55']\n",
      "['대전광역시', '유성구', nan, nan, '엑스포로', '55']\n",
      "['대구광역시', '달서구', nan, '당산로41길', '62']\n",
      "['대구광역시', '달서구', nan, nan, '당산로41길', '62']\n",
      "['대전광역시', '유성구', nan, '대덕대로', '480']\n",
      "['대전광역시', '유성구', nan, nan, '대덕대로', '480']\n",
      "['대구광역시', '달서구', nan, '송현로8안길', '6']\n",
      "['대구광역시', '달서구', nan, nan, '송현로8안길', '6']\n",
      "['광주광역시', '동구', nan, '충장로', '5가', '25']\n",
      "['광주광역시', '동구', nan, nan, '충장로', '5가', '25']\n",
      "['대구광역시', '동구', nan, '신암남로', '67']\n",
      "['대구광역시', '동구', nan, nan, '신암남로', '67']\n",
      "['대전광역시', '서구', nan, '갈마중로30번길', '15 5']\n",
      "['대전광역시', '서구', nan, nan, '갈마중로30번길', '15 5']\n",
      "['대구광역시', '달성군', '논공읍', nan, '비슬로', '1779']\n",
      "['전라북도', '전주시 덕진구', nan, '번영로', '462 45']\n",
      "['전라북도', '전주시 덕진구', nan, nan, '번영로', '462 45']\n",
      "['전라북도', '전주시 덕진구', nan, '소리로', '68']\n",
      "['전라북도', '전주시 덕진구', nan, nan, '소리로', '68']\n",
      "['대구광역시', '달성군', '구지면', nan, '국가산단대로52길', '24 11']\n",
      "['광주광역시', '서구', nan, '운천로31번길', '17']\n",
      "['광주광역시', '서구', nan, nan, '운천로31번길', '17']\n",
      "['대전광역시', '서구', nan, '가수원로', '105']\n",
      "['대전광역시', '서구', nan, nan, '가수원로', '105']\n",
      "['광주광역시', '서구', nan, '천변우하로', '391']\n",
      "['광주광역시', '서구', nan, nan, '천변우하로', '391']\n",
      "['경상북도', '경산시', '하양읍', nan, '문화로', '24']\n",
      "['대구광역시', '북구', nan, '서변남로', '121']\n",
      "['대구광역시', '북구', nan, nan, '서변남로', '121']\n",
      "['충청북도', '옥천군', '옥천읍', nan, '지용로', '182 18']\n",
      "['경상북도', '영천시', nan, '천문로', '622 13']\n",
      "['경상북도', '영천시', nan, nan, '천문로', '622 13']\n",
      "['경상북도', '영천시', nan, '양호길', '59']\n",
      "['경상북도', '영천시', nan, nan, '양호길', '59']\n",
      "['경상북도', '성주군', '가천면', nan, '창천2길', '13']\n",
      "['전라남도', '곡성군', '목사동면', nan, '주목로', '759']\n",
      "['경상북도', '상주시', '화서면', nan, '영남제일로', '4287 6']\n",
      "['경상북도', '상주시', nan, '발산로', '71']\n",
      "['경상북도', '상주시', nan, nan, '발산로', '71']\n",
      "['경상북도', '상주시', nan, '상산로', '223']\n",
      "['경상북도', '상주시', nan, nan, '상산로', '223']\n",
      "['경상북도', '예천군', '호명면', nan, '도청대로', '53']\n",
      "['제주특별자치도', '제주시', nan, '연삼로', '473']\n",
      "['제주특별자치도', '제주시', nan, nan, '연삼로', '473']\n",
      "['제주특별자치도', '제주시', nan, '복지로', '19']\n",
      "['제주특별자치도', '제주시', nan, nan, '복지로', '19']\n",
      "['제주특별자치도', '제주시', nan, '송이길', '226']\n",
      "['제주특별자치도', '제주시', nan, nan, '송이길', '226']\n",
      "['경상북도', '문경시', nan, '청운로', '55']\n",
      "['경상북도', '문경시', nan, nan, '청운로', '55']\n",
      "['제주특별자치도', '제주시', nan, '월정서로', '162']\n",
      "['제주특별자치도', '제주시', nan, nan, '월정서로', '162']\n",
      "['제주특별자치도', '서귀포시', '성산읍', nan, '일주동로', '4024']\n",
      "['제주특별자치도', '서귀포시', '성산읍', nan, '성읍서문로', '75']\n",
      "['제주특별자치도', '서귀포시', '남원읍', nan, '태신로130번길', '170']\n",
      "['제주특별자치도', '서귀포시', nan, '돈내코로', '120']\n",
      "['제주특별자치도', '서귀포시', nan, nan, '돈내코로', '120']\n",
      "['제주특별자치도', '서귀포시', nan, '도순남로29번길', '13']\n",
      "['제주특별자치도', '서귀포시', nan, nan, '도순남로29번길', '13']\n",
      "['제주특별자치도', '서귀포시', nan, '중산간서로', '212']\n",
      "['제주특별자치도', '서귀포시', nan, nan, '중산간서로', '212']\n",
      "['제주특별자치도', '제주시', '한경면', nan, '저지12길', '72 12']\n",
      "['경상남도', '창녕군', '창녕읍', nan, '종로', '38 9']\n",
      "['경상북도', '경주시', nan, '천북남로', '12']\n",
      "['경상북도', '경주시', nan, nan, '천북남로', '12']\n",
      "['경상북도', '경주시', '양북면', nan, '척현길', '1']\n",
      "['제주특별자치도', '제주시', nan, '하귀동남1길', '22']\n",
      "['제주특별자치도', '제주시', nan, nan, '하귀동남1길', '22']\n",
      "['경상남도', '의령군', '유곡면', nan, '마장로', '10']\n",
      "['제주특별자치도', '제주시', '애월읍', nan, '유수암평화길', '14']\n",
      "['제주특별자치도', '제주시', '한경면', nan, '연명로', '8 1']\n",
      "['경상남도', '진주시', nan, '동진로', '155']\n",
      "['경상남도', '진주시', nan, nan, '동진로', '155']\n",
      "['경상남도', '진주시', '금곡면', nan, '월아산로', '140']\n",
      "['경상남도', '진주시', '이반성면', nan, '수목원로', '386']\n",
      "['경상남도', '진주시', nan, '오봉산로', '719']\n",
      "['경상남도', '진주시', nan, nan, '오봉산로', '719']\n",
      "['경상남도', '합천군', '가회면', nan, '황매산로', '52']\n",
      "['경상북도', '청도군', '이서면', nan, '이서로', '145 18']\n",
      "['경기도', '화성시', '서신면', nan, '전곡항로', '5']\n",
      "['경기도', '시흥시', nan, '오이도로', '332']\n",
      "['경기도', '시흥시', nan, nan, '오이도로', '332']\n",
      "['울산광역시', '울주군', '삼남면', nan, '진장길', '13']\n",
      "['울산광역시', '북구', nan, '무룡로', '1093']\n",
      "['울산광역시', '북구', nan, nan, '무룡로', '1093']\n",
      "['경상남도', '양산시', '동면', nan, '양산대로', '542 45']\n",
      "['경기도', '수원시 권선구', nan, '서호로', '34']\n",
      "['경기도', '수원시 권선구', nan, nan, '서호로', '34']\n",
      "['경상북도', '포항시 북구', '흥해읍', nan, '성곡서로32번길', '7']\n",
      "['경상북도', '포항시 북구', '흥해읍', nan, '신흥로', '572']\n",
      "['경상북도', '영주시', nan, '부석로', '49']\n",
      "['경상북도', '영주시', nan, nan, '부석로', '49']\n",
      "['경상북도', '청송군', '청송읍', nan, '의료원길', '19']\n",
      "['경상북도', '안동시', nan, '퇴계로', '115']\n",
      "['경상북도', '안동시', nan, nan, '퇴계로', '115']\n",
      "['경상북도', '안동시', '도산면', nan, '퇴계로', '1997']\n",
      "['경상북도', '안동시', nan, '학가산온천길', '42']\n",
      "['경상북도', '안동시', nan, nan, '학가산온천길', '42']\n",
      "['경기도', '화성시', '마도면', nan, '화성로', '741']\n",
      "['전라북도', '전주시 완산구', nan, '기린대로', '99']\n",
      "['전라북도', '전주시 완산구', nan, nan, '기린대로', '99']\n",
      "['경상남도', '창원시 마산회원구', nan, '삼호로', '63']\n",
      "['경상남도', '창원시 마산회원구', nan, nan, '삼호로', '63']\n",
      "['경상남도', '창원시 마산합포구', '진동면', nan, '신서촌로', '15']\n",
      "['경상남도', '창원시', '진동면', nan, '삼진의거대로', '440']\n",
      "['경상남도', '김해시', nan, '신어산길', '44']\n",
      "['경상남도', '김해시', nan, nan, '신어산길', '44']\n",
      "['강원도', '화천군', '상서면', nan, '영서로', '7739']\n",
      "['경기도', '고양시 일산서구', nan, '덕이로', '50 7']\n",
      "['경기도', '고양시 일산서구', nan, nan, '덕이로', '50 7']\n",
      "['경기도', '가평군', '청평면', nan, '경춘로', '113']\n",
      "['경기도', '포천시', '소흘읍', nan, '광릉수목원로', '509']\n",
      "['경기도', '여주시', '대신면', nan, '율촌1길', '12 9']\n",
      "['경상남도', '거제시', nan, '계룡로', '125']\n",
      "['경상남도', '거제시', nan, nan, '계룡로', '125']\n",
      "['전라남도', '완도군', '고금면', nan, '고금로', '1177']\n",
      "['강원도', '정선군', '화암면', nan, '약수길', '1300']\n",
      "['강원도', '정선군', '화암면', nan, '그림바위길', '40']\n",
      "['전라남도', '해남군', '송지면', nan, '미황사길', '164']\n",
      "['강원도', '정선군', '정선읍', nan, '정선로', '1047']\n",
      "['강원도', '정선군', '정선읍', nan, '가리왕산로', '570 5']\n",
      "['전라북도', '부안군', '백산면', nan, '백산로', '335']\n",
      "['경상남도', '남해군', '서면', nan, '남서대로', '2645']\n",
      "['충청남도', '천안시 동남구', nan, '위례성로', '724']\n",
      "['충청남도', '천안시 동남구', nan, nan, '위례성로', '724']\n",
      "['광주광역시', '북구', nan, '추암로', '249']\n",
      "['광주광역시', '북구', nan, nan, '추암로', '249']\n",
      "['충청남도', '아산시', nan, '모종북로76번길', '62']\n",
      "['충청남도', '아산시', nan, nan, '모종북로76번길', '62']\n",
      "['충청남도', '아산시', nan, '곡교천로27번길', '33']\n",
      "['충청남도', '아산시', nan, nan, '곡교천로27번길', '33']\n",
      "['전라남도', '담양군', '담양읍', nan, '추성로', '1371']\n",
      "['강원도', '삼척시', '원덕읍', nan, '사곡길', '43 127']\n",
      "['경상남도', '산청군', '삼장면', nan, '덕산대포로', '257']\n",
      "['충청남도', '아산시', nan, '실옥로', '234']\n",
      "['충청남도', '아산시', nan, nan, '실옥로', '234']\n",
      "['충청남도', '천안시', '입장면', nan, '양대기로길', '89']\n",
      "['대구광역시', '달성군', '화원읍', nan, '구라1길', '88']\n",
      "['전라북도', '정읍시', '덕천면', nan, '동학로', '742']\n",
      "['대구광역시', '동구', nan, '혁신대로', '345']\n",
      "['대구광역시', '동구', nan, nan, '혁신대로', '345']\n",
      "['전라북도', '부안군', '부안읍', nan, '용암로', '134']\n",
      "['강원도', '화천군', '사내면', nan, '수피령로', '71']\n",
      "['대전광역시', '서구', nan, '계룡로', '510', '현대사무실', '옆']\n",
      "['대전광역시', '서구', nan, nan, '계룡로', '510', '현대사무실', '옆']\n",
      "['경상북도', '포항시 남구', nan, '희망대로', '850']\n",
      "['경상북도', '포항시 남구', nan, nan, '희망대로', '850']\n",
      "['경상북도', '포항시 남구', nan, '냉천로', '82']\n",
      "['경상북도', '포항시 남구', nan, nan, '냉천로', '82']\n",
      "['충청북도', '충주시', nan, '봉방2길', '27']\n",
      "['충청북도', '충주시', nan, nan, '봉방2길', '27']\n",
      "['경상북도', '청도군', '화양읍', nan, '청려로', '1846']\n",
      "['경상북도', '포항시 남구', '호미곶면', nan, '해맞이로', '153']\n",
      "['경상북도', '포항시 남구', '구룡포읍', nan, '구룡포길117번길', '28 8']\n",
      "['충청북도', '청주시 청원구', '내수읍', nan, '덕암길', '10']\n",
      "['충청남도', '당진시', '송악읍', nan, '반촌로', '236']\n",
      "['충청북도', '청주시 상당구', '남일면', nan, '단재로', '501']\n",
      "['전라북도', '익산시', '금마면', nan, '금마호수길', '387']\n",
      "['충청북도', '청주시 서원구', nan, '흥덕로', '48']\n",
      "['충청북도', '청주시 서원구', nan, nan, '흥덕로', '48']\n",
      "['충청북도', '청주시 서원구', nan, '청남로', '1894']\n",
      "['충청북도', '청주시 서원구', nan, nan, '청남로', '1894']\n",
      "['경상북도', '경주시', '건천읍', nan, '내서로', '1106']\n",
      "['경상북도', '경주시', nan, '충효천길', '19']\n",
      "['경상북도', '경주시', nan, nan, '충효천길', '19']\n",
      "['경상북도', '경주시', nan, '북문로', '15']\n",
      "['경상북도', '경주시', nan, nan, '북문로', '15']\n",
      "['경상남도', '하동군', '횡천면', nan, '횡보길', '10']\n",
      "['경상남도', '산청군', '시천면', nan, '남명로', '376']\n",
      "['경상북도', '의성군', '금성면', nan, '초전1길', '83']\n",
      "['경상남도', '산청군', '단성면', nan, '목화로', '985']\n",
      "['경상남도', '산청군', '신등면', nan, '신차로', '576']\n",
      "['경상북도', '성주군', '성주읍', nan, '성산9길', '45']\n",
      "['경상북도', '성주군', '대가면', nan, '참별로', '2479']\n",
      "['충청북도', '청주시 흥덕구', '오송읍', nan, '오송생명2로', '187']\n",
      "['경상남도', '사천시', '용현면', nan, '대밭담로', '13']\n",
      "['경상북도', '칠곡군', '왜관읍', nan, '공단4길', '18 26']\n",
      "['경상북도', '문경시', '가은읍', nan, '가은로', '123']\n",
      "['경상남도', '진주시', '문산읍', nan, '월아산로', '991']\n",
      "['경상남도', '밀양시', nan, '밀양대공원로', '86']\n",
      "['경상남도', '밀양시', nan, nan, '밀양대공원로', '86']\n",
      "['충청북도', '제천시', nan, '내토로', '521']\n",
      "['충청북도', '제천시', nan, nan, '내토로', '521']\n",
      "['경상남도', '창원시', nan, '진해대로', '1101']\n",
      "['경상남도', '창원시', nan, nan, '진해대로', '1101']\n",
      "['경상남도', '창원시 진해구', nan, '명동로', '62']\n",
      "['경상남도', '창원시 진해구', nan, nan, '명동로', '62']\n",
      "['경상북도', '울진군', '금강송면', nan, '십이령로', '552']\n",
      "['경상북도', '울진군', '죽변면', nan, '등대길', '63']\n",
      "['경상남도', '창원시 성산구', nan, '창이대로', '781']\n",
      "['경상남도', '창원시 성산구', nan, nan, '창이대로', '781']\n",
      "['경상남도', '남해군', '남해읍', nan, '망운로', '32']\n",
      "['경상북도', '울진군', '울진읍', nan, '울진북로', '496 12']\n",
      "['제주특별자치도', '서귀포시', '남원읍', nan, '중산간동로', '5807']\n",
      "['경상남도', '남해군', '남해읍', nan, '화전로43번길', '16']\n",
      "['경상남도', '창원시 성산구', nan, '비음로', '97']\n",
      "['경상남도', '창원시 성산구', nan, nan, '비음로', '97']\n",
      "['경상남도', '남해군', '서면', nan, '스포츠로', '676']\n",
      "['경상북도', '울진군', '근남면', nan, '엑스포로', '25']\n",
      "['경상남도', '창원시 의창구', nan, '사림로99번길', '63']\n",
      "['경상남도', '창원시 의창구', nan, nan, '사림로99번길', '63']\n",
      "['경상북도', '울진군', '기성면', nan, '척산2길', '8']\n",
      "['경상북도', '울진군', '온정면', nan, '소태로', '23']\n",
      "['제주특별자치도', '서귀포시', '대정읍', nan, '영락중동로', '11']\n",
      "['경상남도', '창원시 의창구', nan, '창원대로', '494']\n",
      "['경상남도', '창원시 의창구', nan, nan, '창원대로', '494']\n",
      "['울산광역시', '울주군', '온양읍', nan, '광청로', '796 66']\n",
      "['울산광역시', '중구', nan, '종가로', '340']\n",
      "['울산광역시', '중구', nan, nan, '종가로', '340']\n",
      "['울산광역시', '울주군', '상북면', nan, '청수골길', '175']\n",
      "['부산광역시', '강서구', nan, '명지오션시티13로', '12 11']\n",
      "['부산광역시', '강서구', nan, nan, '명지오션시티13로', '12 11']\n",
      "['부산광역시', '남구', nan, '분포로', '101']\n",
      "['부산광역시', '남구', nan, nan, '분포로', '101']\n",
      "['충청남도', '청양군', '청양읍', nan, '문화예술로', '222']\n",
      "['경상남도', '창원시 의창구', nan, '차상로18번길', '45']\n",
      "['경상남도', '창원시 의창구', nan, nan, '차상로18번길', '45']\n",
      "['울산광역시', '남구', nan, '장생포고래로', '271']\n",
      "['울산광역시', '남구', nan, nan, '장생포고래로', '271']\n",
      "['경상북도', '포항시 남구', nan, '운하로', '238']\n",
      "['경상북도', '포항시 남구', nan, nan, '운하로', '238']\n",
      "['경상남도', '통영시', '광도면', nan, '신죽3길', '16']\n",
      "['충청남도', '논산시', '상월면', nan, '상월로', '522']\n",
      "['경상남도', '산청군', '산청읍', nan, '물안실로', '8']\n",
      "['경상남도', '산청군', nan, '친환경로', '2593 43']\n",
      "['경상남도', '산청군', nan, nan, '친환경로', '2593 43']\n",
      "['경상북도', '포항시 남구', '호미곶면', nan, '해맞이로', '242']\n",
      "['경상북도', '구미시', '선산읍', nan, '선산중앙로', '83 2']\n",
      "['경상남도', '고성군', '회화면', nan, '배둔로', '80']\n",
      "['경상남도', '고성군', '구만면', nan, '영회로', '1765']\n",
      "['경상남도', '고성군', '대가면', nan, '대가로', '471']\n",
      "['경상남도', '고성군', '고성읍', nan, '남포로79번길', '103 3']\n",
      "['경상남도', '고성군', '고성읍', nan, '대가로', '13']\n",
      "['경상남도', '고성군', '삼산면', nan, '대독산업로', '7']\n",
      "['경상남도', '고성군', '삼산면', nan, '공룡로', '2137']\n",
      "['경상남도', '고성군', '상리면', nan, '척번정1길', '105']\n",
      "['경상남도', '고성군', '하일면', nan, '공룡로', '979']\n",
      "['경상남도', '고성군', '하이면', nan, '공룡로', '979']\n",
      "['경상북도', '영덕군', '축산면', nan, '영덕대게로', '2053']\n",
      "['경기도', '이천시', '마장면', nan, '중부대로609번길', '244 35']\n",
      "['강원도', '횡성군', '공근면', nan, '영서로', '150']\n",
      "['경상남도', '김해시', nan, '김해대로', '2060']\n",
      "['경상남도', '김해시', nan, nan, '김해대로', '2060']\n",
      "['경상남도', '창원시 성산구', nan, '공단로', '474']\n",
      "['경상남도', '창원시 성산구', nan, nan, '공단로', '474']\n",
      "['경상남도', '창원시 성산구', nan, '비음로25번길', '17']\n",
      "['경상남도', '창원시 성산구', nan, nan, '비음로25번길', '17']\n",
      "['인천광역시', '강화군', '불은면', nan, '강화동로', '562 3']\n",
      "['대전광역시', '유성구', nan, '가정로', '218']\n",
      "['대전광역시', '유성구', nan, nan, '가정로', '218']\n",
      "['경상남도', '고성군', '개천면', nan, '옥천로', '1278']\n",
      "['전라북도', '김제시', '만경읍', nan, '만경공단1길', '7']\n",
      "['대구광역시', '달서구', nan, '성서공단로', '213']\n",
      "['대구광역시', '달서구', nan, nan, '성서공단로', '213']\n",
      "['경기도', '안양시 동안구', nan, '평촌대로', '389']\n",
      "['경기도', '안양시 동안구', nan, nan, '평촌대로', '389']\n",
      "['경기도', '화성시', '우정읍', nan, '기아자동차로', '189']\n",
      "['충청북도', '청주시 청원구', '오창읍', nan, '중부고속도로', '21']\n",
      "['울산광역시', '중구', nan, '종가로', '305']\n",
      "['울산광역시', '중구', nan, nan, '종가로', '305']\n",
      "['울산광역시', '중구', nan, '종가로', '345']\n",
      "['울산광역시', '중구', nan, nan, '종가로', '345']\n",
      "['경상북도', '구미시', nan, '이계북로', '7']\n",
      "['경상북도', '구미시', nan, nan, '이계북로', '7']\n",
      "['경상남도', '창원시 의창구', nan, '중앙대로', '241']\n",
      "['경상남도', '창원시 의창구', nan, nan, '중앙대로', '241']\n",
      "['경상남도', '진주시', '문산읍', nan, '월아산로', '973']\n",
      "['경상남도', '함안군', '칠서면', nan, '청계2길', '35']\n",
      "['경상남도', '창원시 성산구', nan, '원이대로', '450']\n",
      "['경상남도', '창원시 성산구', nan, nan, '원이대로', '450']\n",
      "['충청북도', '충주시', nan, '안심1길', '151']\n",
      "['충청북도', '충주시', nan, nan, '안심1길', '151']\n",
      "['전라북도', '정읍시', nan, '내장호반로', '328']\n",
      "['전라북도', '정읍시', nan, nan, '내장호반로', '328']\n",
      "['경상북도', '안동시', '도산면', nan, '퇴계로', '2189']\n",
      "['경상남도', '진주시', nan, '남강로', '1655']\n",
      "['경상남도', '진주시', nan, nan, '남강로', '1655']\n",
      "['경상남도', '김해시', '주촌면', nan, '골든루트로', '80 16']\n",
      "['충청북도', '충주시', '동량면', nan, '지등로', '745']\n",
      "['대구광역시', '동구', nan, '첨복로', '80']\n",
      "['대구광역시', '동구', nan, nan, '첨복로', '80']\n",
      "['경상남도', '진주시', nan, '장대로43번길', '3 1']\n",
      "['경상남도', '진주시', nan, nan, '장대로43번길', '3 1']\n",
      "['경상남도', '창녕군', '이방면', nan, '이산길', '38']\n",
      "['인천광역시', '강화군', '삼산면', nan, '삼산북로', '475']\n",
      "['경상북도', '영양군', '영양읍', nan, '고월길', '23']\n",
      "['경상북도', '포항시 남구', nan, '시청로', '1']\n",
      "['경상북도', '포항시 남구', nan, nan, '시청로', '1']\n",
      "['대구광역시', '달성군', '현풍읍', nan, '현풍중앙로', '27']\n",
      "['경상북도', '영주시', nan, '옥대로', '36']\n",
      "['경상북도', '영주시', nan, nan, '옥대로', '36']\n",
      "['부산광역시', '사하구', nan, '을숙도대로', '767']\n",
      "['부산광역시', '사하구', nan, nan, '을숙도대로', '767']\n",
      "['경상남도', '창녕군', '창녕읍', nan, '우포유어농로', '684']\n",
      "['경상남도', '거창군', '가조면', nan, '가조가야로', '1523']\n",
      "['충청북도', '괴산군', '청안면', nan, '조천로2길', '86']\n",
      "['충청남도', '부여군', '부여읍', nan, '성말로', '4']\n",
      "['충청남도', '서천군', '마서면', nan, '금강로', '1210']\n",
      "['대구광역시', '달성군', '논공읍', nan, '광주대구고속도로', '169(휴게소)']\n",
      "['충청남도', '부여군', '부여읍', nan, '신기정로', '15']\n",
      "['경상북도', '봉화군', '봉성면', nan, '파인토피아로', '1652']\n",
      "['경상남도', '창원시 성산구', nan, '창원대로', '524']\n",
      "['경상남도', '창원시 성산구', nan, nan, '창원대로', '524']\n",
      "['경상남도', '사천시', '사천읍', nan, '사천대로', '1803']\n",
      "['경상남도', '산청군', '산청읍', nan, '중앙로', '1']\n",
      "['울산광역시', '북구', nan, '천곡남로', '86']\n",
      "['울산광역시', '북구', nan, nan, '천곡남로', '86']\n",
      "['울산광역시', '울주군', '온양읍', nan, '남창1길', '20']\n",
      "['울산광역시', '남구', nan, '갈밭로', '49']\n",
      "['울산광역시', '남구', nan, nan, '갈밭로', '49']\n",
      "['울산광역시', '남구', nan, '삼산로35번길', '25']\n",
      "['울산광역시', '남구', nan, nan, '삼산로35번길', '25']\n",
      "['부산광역시', '사상구', nan, '학감대로', '264']\n",
      "['부산광역시', '사상구', nan, nan, '학감대로', '264']\n",
      "['경상남도', '합천군', '청덕면', nan, '중회1길', '4']\n",
      "['경상남도', '합천군', nan, '황강체육공원로', '67']\n",
      "['경상남도', '합천군', nan, nan, '황강체육공원로', '67']\n",
      "['부산광역시', '동구', nan, '중앙대로', '387']\n",
      "['부산광역시', '동구', nan, nan, '중앙대로', '387']\n",
      "['경상남도', '하동군', '하동읍', nan, '송림1길', '12']\n",
      "['울산광역시', '울주군', '청량읍', nan, '군청2길', '8 3']\n",
      "['울산광역시', '울주군', '범서읍', nan, '천상길', '25']\n",
      "['경상북도', '포항시 북구', '송라면', nan, '동해대로3218번길', '34']\n",
      "['경상북도', '칠곡군', '왜관읍', nan, '관문로', '99']\n",
      "['경상북도', '영덕군', '영덕읍', nan, '영덕로', '135']\n",
      "['경상북도', '안동시', '풍산읍', nan, '풍산태사로', '1913 54']\n",
      "['경상북도', '군위군', '효령면', nan, '중리길', '7 34']\n",
      "['경상북도', '군위군', '군위읍', nan, '동서1길', '13']\n",
      "['서울특별시', '서대문구', nan, '통일로', '97']\n",
      "['서울특별시', '서대문구', nan, nan, '통일로', '97']\n",
      "['경상북도', '경산시', '진량읍', nan, '대학로', '1089']\n",
      "['경상북도', '경산시', nan, '원효로', '68']\n",
      "['경상북도', '경산시', nan, nan, '원효로', '68']\n",
      "['경상북도', '경산시', '와촌면', nan, '강학길', '103']\n",
      "['경상북도', '경산시', '하양읍', nan, '대학로', '1544']\n",
      "['경상북도', '경주시', '건천읍', nan, '경부고속도로', '76 1']\n",
      "['충청남도', '홍성군', '홍북읍', nan, '충남대로', '45']\n",
      "['대구광역시', '달성군', '논공읍', nan, '광주대구고속도로', '169']\n",
      "['충청남도', '아산시', nan, '은행나무길', '223']\n",
      "['충청남도', '아산시', nan, nan, '은행나무길', '223']\n",
      "['충청남도', '서천군', '서천읍', nan, '서천로', '105']\n",
      "['충청남도', '서천군', '비인면', nan, '서해안고속도로', '168']\n",
      "['강원도', '원주시', '신림면', nan, '다리실2길', '32']\n",
      "['충청남도', '천안시 동남구', nan, '청수6로', '73']\n",
      "['충청남도', '천안시 동남구', nan, nan, '청수6로', '73']\n",
      "['충청남도', '천안시 동남구', nan, '용곡2길', '141']\n",
      "['충청남도', '천안시 동남구', nan, nan, '용곡2길', '141']\n",
      "['충청북도', '괴산군', '장연면', nan, '중부내륙고속도로', '204']\n",
      "['충청북도', '청주시 청원구', nan, '중부고속도로', '19']\n",
      "['충청북도', '청주시 청원구', nan, nan, '중부고속도로', '19']\n",
      "['충청북도', '단양군', '단양읍', nan, '중앙1로', '3']\n",
      "['충청북도', '청주시 흥덕구', '강내면', nan, '청주역로', '71']\n",
      "['울산광역시', '울주군', '상북면', nan, '자수정로', '320']\n",
      "['전라남도', '무안군', '무안읍', nan, '무안로', '482']\n",
      "['전라남도', '여수시', '돌산읍', nan, '대복길', '160']\n",
      "['전라남도', '장흥군', '장동면', nan, '신북1길', '35']\n",
      "['광주광역시', '광산구', nan, '내상로', '10']\n",
      "['광주광역시', '광산구', nan, nan, '내상로', '10']\n",
      "['광주광역시', '광산구', nan, '무진대로', '255']\n",
      "['광주광역시', '광산구', nan, nan, '무진대로', '255']\n",
      "['광주광역시', '광산구', nan, '월곡중앙로', '59 21']\n",
      "['광주광역시', '광산구', nan, nan, '월곡중앙로', '59 21']\n",
      "['전라북도', '고창군', '고창읍', nan, '보릿골로', '175']\n",
      "['전라북도', '군산시', nan, '큰샘길', '47']\n",
      "['전라북도', '군산시', nan, nan, '큰샘길', '47']\n",
      "['전라북도', '순창군', '순창읍', nan, '광암로', '13']\n",
      "['전라북도', '익산시', nan, '무왕로', '975']\n",
      "['전라북도', '익산시', nan, nan, '무왕로', '975']\n",
      "['전라북도', '익산시', '여산면', nan, '호남고속도로', '191']\n",
      "['경기도', '김포시', '고촌읍', nan, '아라육로270번길', '74']\n",
      "['경기도', '안성시', '원곡면', nan, '남북대로', '1201 4']\n",
      "['경기도', '김포시', '고촌읍', nan, '김포대로319번길', '209 23']\n",
      "['경기도', '과천시', nan, '통영로', '20']\n",
      "['경기도', '과천시', nan, nan, '통영로', '20']\n",
      "['강원도', '홍천군', '홍천읍', nan, '번영로', '9']\n",
      "['경기도', '과천시', nan, '아랫배랭이로', '35']\n",
      "['경기도', '과천시', nan, nan, '아랫배랭이로', '35']\n",
      "['강원도', '춘천시', nan, '춘천로', '61']\n",
      "['강원도', '춘천시', nan, nan, '춘천로', '61']\n",
      "['강원도', '양양군', '양양읍', nan, '안산1길', '36']\n",
      "['강원도', '동해시', nan, '천곡로', '107']\n",
      "['강원도', '동해시', nan, nan, '천곡로', '107']\n",
      "['강원도', '강릉시', nan, '하평2길', '29']\n",
      "['강원도', '강릉시', nan, nan, '하평2길', '29']\n",
      "['강원도', '강릉시', nan, '노암등길', '39']\n",
      "['강원도', '강릉시', nan, nan, '노암등길', '39']\n",
      "['전라북도', '정읍시', '신태인읍', nan, '정신로', '1163']\n",
      "['전라북도', '정읍시', '북면', nan, '하북1길', '227 23']\n",
      "['전라북도', '익산시', '낭산면', nan, '함낭로', '949']\n",
      "['경기도', '부천시', nan, '옥산로10번길', '16']\n",
      "['경기도', '부천시', nan, nan, '옥산로10번길', '16']\n",
      "['경기도', '성남시 수정구', nan, '논골로', '40']\n",
      "['경기도', '성남시 수정구', nan, nan, '논골로', '40']\n",
      "['경기도', '성남시 중원구', nan, '박석로', '42']\n",
      "['경기도', '성남시 중원구', nan, nan, '박석로', '42']\n",
      "['경기도', '성남시 중원구', nan, '광명로256번길', '36']\n",
      "['경기도', '성남시 중원구', nan, nan, '광명로256번길', '36']\n",
      "['경기도', '시흥시', nan, '배곧4로', '94 41']\n",
      "['경기도', '시흥시', nan, nan, '배곧4로', '94 41']\n",
      "['경기도', '수원시 장안구', nan, '창룡대로207번길', '82 12']\n",
      "['경기도', '수원시 장안구', nan, nan, '창룡대로207번길', '82 12']\n",
      "['경기도', '수원시 장안구', nan, '정자천로', '199']\n",
      "['경기도', '수원시 장안구', nan, nan, '정자천로', '199']\n",
      "['경기도', '시흥시', nan, '호현로49번길', '21']\n",
      "['경기도', '시흥시', nan, nan, '호현로49번길', '21']\n",
      "['경기도', '안산시 단원구', nan, '엠티브이22로', '120']\n",
      "['경기도', '안산시 단원구', nan, nan, '엠티브이22로', '120']\n",
      "['경기도', '안산시 상록구', nan, '이동로', '46']\n",
      "['경기도', '안산시 상록구', nan, nan, '이동로', '46']\n",
      "['경기도', '안성시', '공도읍', nan, '공도4로', '8']\n",
      "['경기도', '안양시 동안구', nan, '동안로159번길', '43']\n",
      "['경기도', '안양시 동안구', nan, nan, '동안로159번길', '43']\n",
      "['경기도', '안성시', nan, '남파로', '95']\n",
      "['경기도', '안성시', nan, nan, '남파로', '95']\n",
      "['경기도', '안성시', '공도읍', nan, '고무다리길', '13 11']\n",
      "['경기도', '의왕시', nan, '오봉로', '10']\n",
      "['경기도', '의왕시', nan, nan, '오봉로', '10']\n",
      "['경기도', '의왕시', nan, '오전로', '18']\n",
      "['경기도', '의왕시', nan, nan, '오전로', '18']\n",
      "['경기도', '용인시 기흥구', nan, '용구대로2469번길', '32']\n",
      "['경기도', '용인시 기흥구', nan, nan, '용구대로2469번길', '32']\n",
      "['경기도', '평택시', '안중읍', nan, '안현로서3길', '32']\n",
      "['경기도', '평택시', nan, '통복시장로22번길', '43']\n",
      "['경기도', '평택시', nan, nan, '통복시장로22번길', '43']\n",
      "['경기도', '평택시', nan, '지산2로', '86']\n",
      "['경기도', '평택시', nan, nan, '지산2로', '86']\n",
      "['경기도', '평택시', nan, '송탄로', '432 1']\n",
      "['경기도', '평택시', nan, nan, '송탄로', '432 1']\n",
      "['경기도', '평택시', nan, '경기대로', '1414']\n",
      "['경기도', '평택시', nan, nan, '경기대로', '1414']\n",
      "['서울특별시', '강남구', nan, '테헤란로114길', '11']\n",
      "['서울특별시', '강남구', nan, nan, '테헤란로114길', '11']\n",
      "['서울특별시', '강북구', nan, '오현로21길', '84']\n",
      "['서울특별시', '강북구', nan, nan, '오현로21길', '84']\n",
      "['서울특별시', '강서구', nan, '우장산로', '114']\n",
      "['서울특별시', '강서구', nan, nan, '우장산로', '114']\n",
      "['서울특별시', '강서구', nan, '까치산로4길', '22']\n",
      "['서울특별시', '강서구', nan, nan, '까치산로4길', '22']\n",
      "['서울특별시', '강서구', nan, '초록마을로', '126']\n",
      "['서울특별시', '강서구', nan, nan, '초록마을로', '126']\n",
      "['서울특별시', '강서구', nan, '양천로', '550']\n",
      "['서울특별시', '강서구', nan, nan, '양천로', '550']\n",
      "['서울특별시', '광진구', nan, '뚝섬로52길', '74 1']\n",
      "['서울특별시', '광진구', nan, nan, '뚝섬로52길', '74 1']\n",
      "['서울특별시', '금천구', nan, '금하로', '764']\n",
      "['서울특별시', '금천구', nan, nan, '금하로', '764']\n",
      "['서울특별시', '동대문구', nan, '장한로', '34']\n",
      "['서울특별시', '동대문구', nan, nan, '장한로', '34']\n",
      "['서울특별시', '동작구', nan, '여의대방로10길', '97']\n",
      "['서울특별시', '동작구', nan, nan, '여의대방로10길', '97']\n",
      "['서울특별시', '종로구', nan, '사직로8길', '31']\n",
      "['서울특별시', '종로구', nan, nan, '사직로8길', '31']\n",
      "['서울특별시', '성북구', nan, '화랑로', '296']\n",
      "['서울특별시', '성북구', nan, nan, '화랑로', '296']\n",
      "['서울특별시', '은평구', nan, '진흥로', '58']\n",
      "['서울특별시', '은평구', nan, nan, '진흥로', '58']\n",
      "['서울특별시', '마포구', nan, '마포대로', '183']\n",
      "['서울특별시', '마포구', nan, nan, '마포대로', '183']\n",
      "['대구광역시', '북구', nan, '동암로', '130']\n",
      "['대구광역시', '북구', nan, nan, '동암로', '130']\n",
      "['인천광역시', '서구', nan, '청라대로', '26']\n",
      "['인천광역시', '서구', nan, nan, '청라대로', '26']\n",
      "['인천광역시', '부평구', nan, '열우물로', '8']\n",
      "['인천광역시', '부평구', nan, nan, '열우물로', '8']\n",
      "['인천광역시', '부평구', nan, '굴포로', '104']\n",
      "['인천광역시', '부평구', nan, nan, '굴포로', '104']\n",
      "['인천광역시', '서구', nan, '탁옥로', '77']\n",
      "['인천광역시', '서구', nan, nan, '탁옥로', '77']\n",
      "['인천광역시', '부평구', nan, '부영로', '23']\n",
      "['인천광역시', '부평구', nan, nan, '부영로', '23']\n",
      "['경기도', '안성시', '보개면', nan, '보개원삼로', '219']\n",
      "['경기도', '안산시 단원구', nan, '화랑로', '387']\n",
      "['경기도', '안산시 단원구', nan, nan, '화랑로', '387']\n",
      "['경기도', '시흥시', nan, '은계중앙로', '192']\n",
      "['경기도', '시흥시', nan, nan, '은계중앙로', '192']\n",
      "['서울특별시', '동대문구', nan, '사가정로', '30']\n",
      "['서울특별시', '동대문구', nan, nan, '사가정로', '30']\n",
      "['인천광역시', '부평구', nan, '무네미로', '446']\n",
      "['인천광역시', '부평구', nan, nan, '무네미로', '446']\n",
      "['인천광역시', '서구', nan, '봉오재1로', '120']\n",
      "['인천광역시', '서구', nan, nan, '봉오재1로', '120']\n",
      "['대구광역시', '북구', nan, '학정로', '515']\n",
      "['대구광역시', '북구', nan, nan, '학정로', '515']\n",
      "['전라남도', '무안군', '해제면', nan, '만송로', '916']\n",
      "['전라북도', '전주시 덕진구', nan, '중동로', '63']\n",
      "['전라북도', '전주시 덕진구', nan, nan, '중동로', '63']\n",
      "['전라북도', '전주시 덕진구', nan, '오공로', '131']\n",
      "['전라북도', '전주시 덕진구', nan, nan, '오공로', '131']\n",
      "['경상남도', '진주시', '정촌면', nan, '연꽃로165번길', '25']\n",
      "['경상남도', '진주시', nan, '진주대로', '685']\n",
      "['경상남도', '진주시', nan, nan, '진주대로', '685']\n",
      "['경상남도', '양산시', '상북면', nan, '봉수대길', '29 10']\n",
      "['전라북도', '무주군', '무주읍', nan, '무학로', '153 36']\n",
      "['울산광역시', '남구', nan, '삼산중로', '132']\n",
      "['울산광역시', '남구', nan, nan, '삼산중로', '132']\n",
      "['울산광역시', '동구', nan, '방어진순환도로', '875']\n",
      "['울산광역시', '동구', nan, nan, '방어진순환도로', '875']\n",
      "['충청남도', '부여군', '부여읍', nan, '가탑로', '75']\n",
      "['충청남도', '공주시', nan, '백제문화로', '2148 15']\n",
      "['충청남도', '공주시', nan, nan, '백제문화로', '2148 15']\n",
      "['경기도', '안성시', '보개면', nan, '보개원삼로', '220']\n",
      "['경상북도', '안동시', '남후면', nan, '남일로', '1463']\n",
      "['경기도', '용인시 처인구', nan, '묵동로', '73 1']\n",
      "['경기도', '용인시 처인구', nan, nan, '묵동로', '73 1']\n",
      "['경기도', '성남시 중원구', nan, '제일로', '36']\n",
      "['경기도', '성남시 중원구', nan, nan, '제일로', '36']\n",
      "['충청북도', '충주시', nan, '목행산단7로', '45']\n",
      "['충청북도', '충주시', nan, nan, '목행산단7로', '45']\n",
      "['충청북도', '진천군', '덕산읍', nan, '정통로', '18']\n",
      "['경기도', '안양시 만안구', nan, '냉천로', '63']\n",
      "['경기도', '안양시 만안구', nan, nan, '냉천로', '63']\n",
      "['경기도', '남양주시', nan, '평내로', '25']\n",
      "['경기도', '남양주시', nan, nan, '평내로', '25']\n",
      "['서울특별시', '강서구', nan, '화곡로', '308']\n",
      "['서울특별시', '강서구', nan, nan, '화곡로', '308']\n",
      "['경기도', '의정부시', nan, '금오로23번길', '22 49']\n",
      "['경기도', '의정부시', nan, nan, '금오로23번길', '22 49']\n",
      "['충청북도', '제천시', '금성면', nan, '청풍호로', '1480']\n",
      "['충청남도', '천안시 동남구', '병천면', nan, '충절로', '1872']\n",
      "['충청남도', '서천군', '장항읍', nan, '신창동로', '15']\n",
      "['충청북도', '음성군', '음성읍', nan, '음성로', '114']\n",
      "['충청북도', '음성군', '음성읍', nan, '용광로', '81 5']\n",
      "['전라남도', '장성군', '장성읍', nan, '영천로', '164']\n",
      "['광주광역시', '광산구', nan, '왕버들로', '291']\n",
      "['광주광역시', '광산구', nan, nan, '왕버들로', '291']\n",
      "['충청북도', '충주시', '금가면', nan, '강수로', '331']\n",
      "['광주광역시', '광산구', nan, '용아로', '112']\n",
      "['광주광역시', '광산구', nan, nan, '용아로', '112']\n",
      "['충청남도', '아산시', nan, '남부로', '370 15']\n",
      "['충청남도', '아산시', nan, nan, '남부로', '370 15']\n",
      "['대구광역시', '수성구', nan, '달구벌대로', '2460']\n",
      "['대구광역시', '수성구', nan, nan, '달구벌대로', '2460']\n",
      "['대구광역시', '달서구', nan, '성서공단로', '217']\n",
      "['대구광역시', '달서구', nan, nan, '성서공단로', '217']\n",
      "['경상남도', '진주시', nan, '소호로', '96']\n",
      "['경상남도', '진주시', nan, nan, '소호로', '96']\n",
      "['경상남도', '진주시', nan, '사들로', '137']\n",
      "['경상남도', '진주시', nan, nan, '사들로', '137']\n",
      "['경상남도', '고성군', '고성읍', nan, '기월2길', '51']\n",
      "['대전광역시', '유성구', nan, '동서대로', '621']\n",
      "['대전광역시', '유성구', nan, nan, '동서대로', '621']\n",
      "['경상남도', '함안군', '가야읍', nan, '가야로', '85']\n",
      "['경상남도', '함안군', '함안면', nan, '성산로', '15']\n",
      "['대전광역시', '유성구', nan, '수통골로', '39']\n",
      "['대전광역시', '유성구', nan, nan, '수통골로', '39']\n",
      "['경상남도', '김해시', '주촌면', nan, '소망길', '88']\n",
      "['부산광역시', '사하구', nan, '낙동남로', '1191']\n",
      "['부산광역시', '사하구', nan, nan, '낙동남로', '1191']\n",
      "['충청남도', '공주시', nan, '연수원길', '83']\n",
      "['충청남도', '공주시', nan, nan, '연수원길', '83']\n",
      "['부산광역시', '영도구', nan, '태종로', '46']\n",
      "['부산광역시', '영도구', nan, nan, '태종로', '46']\n",
      "['경상남도', '양산시', '물금읍', nan, '신주4길', '8']\n",
      "['경상남도', '양산시', nan, '삽량로', '169']\n",
      "['경상남도', '양산시', nan, nan, '삽량로', '169']\n",
      "['충청북도', '청주시 청원구', nan, '항군로', '60']\n",
      "['충청북도', '청주시 청원구', nan, nan, '항군로', '60']\n",
      "['경상북도', '구미시', nan, '수출대로', '127']\n",
      "['경상북도', '구미시', nan, nan, '수출대로', '127']\n",
      "['경상북도', '김천시', '농소면', nan, '경부고속도로', '193']\n",
      "['충청남도', '홍성군', '홍성읍', nan, '조양로', '224']\n",
      "['전라남도', '담양군', '담양읍', nan, '삼거리길', '12 27']\n",
      "['전라남도', '무안군', '일로읍', nan, '일로로', '38 10']\n",
      "['대전광역시', '유성구', nan, '대학로', '417']\n",
      "['대전광역시', '유성구', nan, nan, '대학로', '417']\n",
      "['대전광역시', '대덕구', nan, '계족로', '670']\n",
      "['대전광역시', '대덕구', nan, nan, '계족로', '670']\n",
      "['전라남도', '목포시', nan, '해안로127번길', '7']\n",
      "['전라남도', '목포시', nan, nan, '해안로127번길', '7']\n",
      "['전라남도', '목포시', nan, '수강로12번길', '24']\n",
      "['전라남도', '목포시', nan, nan, '수강로12번길', '24']\n",
      "['전라남도', '목포시', nan, '자유로20번길', '27']\n",
      "['전라남도', '목포시', nan, nan, '자유로20번길', '27']\n",
      "['전라남도', '강진군', '성전면', nan, '예향로', '664']\n",
      "['전라남도', '무안군', '해제면', nan, '해제중앙로', '13']\n",
      "['전라남도', '구례군', '구례읍', nan, '봉성로', '5 14']\n",
      "['전라남도', '함평군', '신광면', nan, '신광중앙길', '63']\n",
      "['대전광역시', '서구', nan, '둔산로', '89']\n",
      "['대전광역시', '서구', nan, nan, '둔산로', '89']\n",
      "['전라남도', '여수시', nan, '하멜로', '2']\n",
      "['전라남도', '여수시', nan, nan, '하멜로', '2']\n",
      "['전라북도', '임실군', '삼계면', nan, '충효로', '1281']\n",
      "['전라북도', '임실군', '덕치면', nan, '인덕로', '1401']\n",
      "['전라북도', '임실군', '강진면', nan, '호국로', '47']\n",
      "['전라북도', '전주시 덕진구', nan, '기지로', '170']\n",
      "['전라북도', '전주시 덕진구', nan, nan, '기지로', '170']\n",
      "['전라북도', '완주군', '이서면', nan, '농생명로', '245']\n",
      "['전라북도', '부안군', '하서면', nan, '신재생에너지로', '10']\n",
      "['충청남도', '서산시', nan, '고운로', '353']\n",
      "['충청남도', '서산시', nan, nan, '고운로', '353']\n",
      "['경상남도', '창원시 의창구', nan, '창원대로363번길', '11']\n",
      "['경상남도', '창원시 의창구', nan, nan, '창원대로363번길', '11']\n",
      "['경기도', '김포시', nan, '태장로795번길', '65']\n",
      "['경기도', '김포시', nan, nan, '태장로795번길', '65']\n",
      "['경상남도', '함안군', '산인면', nan, '가야로', '217']\n",
      "['경상남도', '통영시', '광도면', nan, '죽림3로', '53']\n",
      "['경상남도', '고성군', '고성읍', nan, '중앙로', '113']\n",
      "['경상남도', '사천시', nan, '사천대로', '3 16']\n",
      "['경상남도', '사천시', nan, nan, '사천대로', '3 16']\n",
      "['경기도', '안산시 상록구', nan, '충장로', '312']\n",
      "['경기도', '안산시 상록구', nan, nan, '충장로', '312']\n",
      "['경상남도', '진주시', '집현면', nan, '진산로', '697']\n",
      "['경기도', '연천군', '미산면', nan, '유노로', '110']\n",
      "['경상남도', '사천시', '용현면', nan, '진삼로', '902']\n",
      "['충청남도', '천안시 동남구', '병천면', nan, '충절로', '1600']\n",
      "['충청남도', '천안시 동남구', '성남면', nan, '종합휴양지로', '200']\n",
      "['충청남도', '천안시 서북구', nan, '신당새터1길', '1']\n",
      "['충청남도', '천안시 서북구', nan, nan, '신당새터1길', '1']\n",
      "['충청북도', '제천시', nan, '내토로', '295']\n",
      "['충청북도', '제천시', nan, nan, '내토로', '295']\n",
      "['충청남도', '서산시', nan, '남부순환로', '11']\n",
      "['충청남도', '서산시', nan, nan, '남부순환로', '11']\n",
      "['경상북도', '김천시', '봉산면', nan, '경부고속도로', '214 1']\n",
      "['경상북도', '김천시', '봉산면', nan, '경부고속도로', '213']\n",
      "['대전광역시', '동구', nan, '충무로', '222']\n",
      "['대전광역시', '동구', nan, nan, '충무로', '222']\n",
      "['경상북도', '포항시 남구', nan, '연일로', '55']\n",
      "['경상북도', '포항시 남구', nan, nan, '연일로', '55']\n",
      "['대전광역시', '서구', nan, '한밭대로', '733']\n",
      "['대전광역시', '서구', nan, nan, '한밭대로', '733']\n",
      "['경상북도', '경주시', nan, '보문로', '338']\n",
      "['경상북도', '경주시', nan, nan, '보문로', '338']\n",
      "['경상북도', '문경시', nan, '매봉로', '45']\n",
      "['경상북도', '문경시', nan, nan, '매봉로', '45']\n",
      "['경상북도', '문경시', nan, '매봉로', '35']\n",
      "['경상북도', '문경시', nan, nan, '매봉로', '35']\n",
      "['충청남도', '서산시', '운산면', nan, '운암로', '1016']\n",
      "['충청남도', '천안시 동남구', '목천읍', nan, '독립기념관로', '1']\n",
      "['경상북도', '안동시', nan, '보현로', '12']\n",
      "['경상북도', '안동시', nan, nan, '보현로', '12']\n",
      "['충청남도', '아산시', '배방읍', nan, '연화로', '29']\n",
      "['충청남도', '서산시', nan, '호수공원6로', '6']\n",
      "['충청남도', '서산시', nan, nan, '호수공원6로', '6']\n",
      "['경상북도', '영양군', '영양읍', nan, '영양창수로', '135']\n",
      "['충청남도', '태안군', '고남면', nan, '안면대로', '4254 12']\n",
      "['강원도', '삼척시', '도계읍', nan, '도계우회로', '48 18']\n",
      "['강원도', '동해시', nan, '하평로', '11']\n",
      "['강원도', '동해시', nan, nan, '하평로', '11']\n",
      "['충청남도', '서산시', nan, '고운로', '106']\n",
      "['충청남도', '서산시', nan, nan, '고운로', '106']\n",
      "['충청남도', '서산시', '성연면', nan, '마루들길', '15']\n",
      "['경기도', '구리시', nan, '동구릉로136번길', '57']\n",
      "['경기도', '구리시', nan, nan, '동구릉로136번길', '57']\n",
      "['충청북도', '단양군', '단성면', nan, '하방3길', '100']\n",
      "['충청북도', '충주시', '산척면', nan, '평택제천고속도로', '106']\n",
      "['경기도', '하남시', nan, '미사강변한강로', '229']\n",
      "['경기도', '하남시', nan, nan, '미사강변한강로', '229']\n",
      "['충청북도', '충주시', '산척면', nan, '평택제천고속도로', '109']\n",
      "['경기도', '과천시', nan, '중앙로', '지하100']\n",
      "['경기도', '과천시', nan, nan, '중앙로', '지하100']\n",
      "['전라북도', '부안군', '하서면', nan, '불등길', '58 85']\n",
      "['전라남도', '완도군', '청산면', nan, '도청4길', '19 3']\n",
      "['전라북도', '진안군', '진안읍', nan, '익산장수고속도로', '41']\n",
      "['경상남도', '창원시 의창구', nan, '중앙대로', '300']\n",
      "['경상남도', '창원시 의창구', nan, nan, '중앙대로', '300']\n",
      "['경상남도', '창원시 진해구', nan, '속촌로', '8 18']\n",
      "['경상남도', '창원시 진해구', nan, nan, '속촌로', '8 18']\n",
      "['경상남도', '창원시 진해구', nan, '용재로', '46']\n",
      "['경상남도', '창원시 진해구', nan, nan, '용재로', '46']\n",
      "['경상남도', '창원시 의창구', '북면', nan, '천주로1173번길', '30']\n",
      "['전라남도', '나주시', nan, '풍물시장2길', '57 32']\n",
      "['전라남도', '나주시', nan, nan, '풍물시장2길', '57 32']\n",
      "['강원도', '동해시', nan, '한섬로', '135']\n",
      "['강원도', '동해시', nan, nan, '한섬로', '135']\n",
      "['전라남도', '화순군', '화순읍', nan, '자치샘로', '29']\n",
      "['강원도', '강릉시', '사천면', nan, '봉화길', '63']\n",
      "['광주광역시', '서구', nan, '경열로', '33']\n",
      "['광주광역시', '서구', nan, nan, '경열로', '33']\n",
      "['광주광역시', '북구', nan, '서하로', '172']\n",
      "['광주광역시', '북구', nan, nan, '서하로', '172']\n",
      "['전라남도', '해남군', '해남읍', nan, '영빈로', '61']\n",
      "['전라남도', '나주시', '공산면', nan, '공산로', '96 1']\n",
      "['경상남도', '창원시 성산구', nan, '상남로', '177']\n",
      "['경상남도', '창원시 성산구', nan, nan, '상남로', '177']\n",
      "['전라남도', '나주시', '공산면', nan, '공산로', '113 2']\n",
      "['전라남도', '나주시', nan, '이창1길', '39']\n",
      "['전라남도', '나주시', nan, nan, '이창1길', '39']\n",
      "['강원도', '화천군', '화천읍', nan, '화천새싹길', '45']\n",
      "['전라남도', '나주시', nan, '영산로', '5415 22']\n",
      "['전라남도', '나주시', nan, nan, '영산로', '5415 22']\n",
      "['전라남도', '광양시', '광양읍', nan, '순광로', '660']\n",
      "['경상북도', '성주군', '수륜면', nan, '참별로', '1363']\n",
      "['전라남도', '화순군', '능주면', nan, '학포로', '2000']\n",
      "['충청남도', '보령시', '오천면', nan, '솟재길', '281']\n",
      "['전라북도', '진안군', '진안읍', nan, '우화2길', '47 9']\n",
      "['전라남도', '곡성군', '옥과면', nan, '대학로', '145']\n",
      "['전라북도', '전주시 완산구', nan, '효자로', '225']\n",
      "['전라북도', '전주시 완산구', nan, nan, '효자로', '225']\n",
      "['강원도', '원주시', '문막읍', nan, '문막시장1길', '9']\n",
      "['광주광역시', '북구', nan, '서하로183번길', '29']\n",
      "['광주광역시', '북구', nan, nan, '서하로183번길', '29']\n",
      "['강원도', '원주시', nan, '만대공원길', '14 6']\n",
      "['강원도', '원주시', nan, nan, '만대공원길', '14 6']\n",
      "['전라북도', '완주군', '이서면', nan, '이서남로', '328']\n",
      "['강원도', '원주시', nan, '입춘로', '50']\n",
      "['강원도', '원주시', nan, nan, '입춘로', '50']\n",
      "['충청남도', '서산시', nan, '안견로', '327']\n",
      "['충청남도', '서산시', nan, nan, '안견로', '327']\n",
      "['서울특별시', '구로구', nan, '경인로', '113']\n",
      "['서울특별시', '구로구', nan, nan, '경인로', '113']\n",
      "['인천광역시', '강화군', '강화읍', nan, '강화대로', '591']\n",
      "['인천광역시', '미추홀구', nan, '매소홀로290번길', '32']\n",
      "['인천광역시', '미추홀구', nan, nan, '매소홀로290번길', '32']\n",
      "['경상북도', '구미시', nan, '대학로', '61']\n",
      "['경상북도', '구미시', nan, nan, '대학로', '61']\n",
      "['경상남도', '창원시 성산구', nan, '창원대로', '721']\n",
      "['경상남도', '창원시 성산구', nan, nan, '창원대로', '721']\n",
      "['경기도', '성남시 분당구', nan, '정자일로', '165']\n",
      "['경기도', '성남시 분당구', nan, nan, '정자일로', '165']\n",
      "['경기도', '성남시 분당구', nan, '내정로173번길', '21']\n",
      "['경기도', '성남시 분당구', nan, nan, '내정로173번길', '21']\n",
      "['경상북도', '구미시', '옥성면', nan, '중부내륙고속도로', '129 1']\n",
      "['경기도', '성남시 수정구', nan, '제일로', '114']\n",
      "['경기도', '성남시 수정구', nan, nan, '제일로', '114']\n",
      "['경기도', '성남시 수정구', nan, '복정로118번길', '7']\n",
      "['경기도', '성남시 수정구', nan, nan, '복정로118번길', '7']\n",
      "['경기도', '남양주시', nan, '경춘로', '532']\n",
      "['경기도', '남양주시', nan, nan, '경춘로', '532']\n",
      "['경상북도', '상주시', nan, '중앙로', '230']\n",
      "['경상북도', '상주시', nan, nan, '중앙로', '230']\n",
      "['강원도', '영월군', '영월읍', nan, '단종로', '48 8']\n",
      "['경상북도', '안동시', nan, '경동로', '1375']\n",
      "['경상북도', '안동시', nan, nan, '경동로', '1375']\n",
      "['경기도', '남양주시', nan, '경춘로2192번길', '8 11']\n",
      "['경기도', '남양주시', nan, nan, '경춘로2192번길', '8 11']\n",
      "['강원도', '강릉시', nan, '율곡로3139번길', '24']\n",
      "['강원도', '강릉시', nan, nan, '율곡로3139번길', '24']\n",
      "['경기도', '동두천시', nan, '정장로', '78']\n",
      "['경기도', '동두천시', nan, nan, '정장로', '78']\n",
      "['경기도', '동두천시', nan, '상패로', '89']\n",
      "['경기도', '동두천시', nan, nan, '상패로', '89']\n",
      "['경기도', '파주시', '파주읍', nan, '통일로', '1564']\n",
      "['강원도', '태백시', nan, '장성로', '26']\n",
      "['강원도', '태백시', nan, nan, '장성로', '26']\n",
      "['경기도', '파주시', '광탄면', nan, '혜음로', '1114']\n",
      "['강원도', '홍천군', '홍천읍', nan, '설악로', '1265']\n",
      "['강원도', '고성군', '간성읍', nan, '고성중앙길', '9']\n",
      "['경기도', '파주시', nan, '쇠재로', '140']\n",
      "['경기도', '파주시', nan, nan, '쇠재로', '140']\n",
      "['경기도', '용인시 기흥구', nan, '진산로', '116', '4층', '31', '정비소', '옆']\n",
      "['경기도', '용인시 기흥구', nan, nan, '진산로', '116', '4층', '31', '정비소', '옆']\n",
      "['서울특별시', '강남구', nan, '개포로', '509']\n",
      "['서울특별시', '강남구', nan, nan, '개포로', '509']\n",
      "['충청북도', '충주시', '중앙탑면', nan, '중부내륙고속도로', '230']\n",
      "['충청북도', '충주시', '중앙탑면', nan, '중부내륙고속도로', '231']\n",
      "['경기도', '안성시', '서운면', nan, '평택제천고속도로', '41']\n",
      "['전라남도', '화순군', '동면', nan, '충의로', '1064']\n",
      "['충청북도', '단양군', '단양읍', nan, '수변로', '111']\n",
      "['광주광역시', '동구', nan, '백서로189번길', '13']\n",
      "['광주광역시', '동구', nan, nan, '백서로189번길', '13']\n",
      "['충청북도', '충주시', '신니면', nan, '모남1길', '180']\n",
      "['광주광역시', '광산구', nan, '하남산단4번로', '132']\n",
      "['광주광역시', '광산구', nan, nan, '하남산단4번로', '132']\n",
      "['강원도', '화천군', '상서면', nan, '영서로', '7725 3']\n",
      "['전라북도', '고창군', '고창읍', nan, '운동장길', '36']\n",
      "['전라북도', '고창군', '아산면', nan, '중촌길', '10']\n",
      "['경기도', '포천시', '창수면', nan, '메치골로', '178']\n",
      "['세종특별자치시', nan, '조치원읍', '조치원6길', '38']\n",
      "['세종특별자치시', nan, '조치원읍', nan, '조치원6길', '38']\n",
      "['충청남도', '보령시', nan, '죽성로', '94 19']\n",
      "['충청남도', '보령시', nan, nan, '죽성로', '94 19']\n",
      "['충청남도', '금산군', '금산읍', nan, '비호로', '69']\n",
      "['세종특별자치시', nan, '장군면', '정자말길', '6']\n",
      "['세종특별자치시', nan, '장군면', nan, '정자말길', '6']\n",
      "['경기도', '양평군', '양평읍', nan, '중앙로', '133']\n",
      "['세종특별자치시', nan, '금남면', '산림박물관길', '110']\n",
      "['세종특별자치시', nan, '금남면', nan, '산림박물관길', '110']\n",
      "['경기도', '여주시', nan, '소양로', '7']\n",
      "['경기도', '여주시', nan, nan, '소양로', '7']\n",
      "['경기도', '이천시', nan, '증신로', '65']\n",
      "['경기도', '이천시', nan, nan, '증신로', '65']\n",
      "['울산광역시', '동구', nan, '봉수로', '285']\n",
      "['울산광역시', '동구', nan, nan, '봉수로', '285']\n",
      "['울산광역시', '중구', nan, '염포로', '85']\n",
      "['울산광역시', '중구', nan, nan, '염포로', '85']\n",
      "['충청북도', '괴산군', '감물면', nan, '감물로', '40']\n",
      "['충청북도', '괴산군', '괴산읍', nan, '임꺽정로', '169']\n",
      "['울산광역시', '울주군', '서생면', nan, '해맞이로', '894']\n",
      "['경기도', '광주시', nan, '포돌이로', '135']\n",
      "['경기도', '광주시', nan, nan, '포돌이로', '135']\n",
      "['충청북도', '청주시 청원구', '오창읍', nan, '연구단지로', '161']\n",
      "['경기도', '군포시', nan, '산본로324번길', '16']\n",
      "['경기도', '군포시', nan, nan, '산본로324번길', '16']\n",
      "['경기도', '이천시', '마장면', nan, '중부고속도로', '82', '지하', '1층', '주차장']\n",
      "['인천광역시', '연수구', nan, '송도과학로51번길', '80']\n",
      "['인천광역시', '연수구', nan, nan, '송도과학로51번길', '80']\n",
      "['전라북도', '군산시', nan, '의료원로', '27']\n",
      "['전라북도', '군산시', nan, nan, '의료원로', '27']\n",
      "['전라북도', '군산시', '옥도면', nan, '무녀도2길', '42']\n",
      "['전라북도', '김제시', nan, '도작로', '71']\n",
      "['전라북도', '김제시', nan, nan, '도작로', '71']\n",
      "['전라북도', '고창군', '신림면', nan, '서해안고속도로', '81']\n",
      "['제주특별자치도', '제주시', nan, '동광로', '66']\n",
      "['제주특별자치도', '제주시', nan, nan, '동광로', '66']\n",
      "['전라북도', '남원시', nan, '향단로', '45']\n",
      "['전라북도', '남원시', nan, nan, '향단로', '45']\n",
      "['제주특별자치도', '서귀포시', '대정읍', nan, '동일하모로149번길', '21 8']\n",
      "['제주특별자치도', '서귀포시', nan, '일주서로', '669']\n",
      "['제주특별자치도', '서귀포시', nan, nan, '일주서로', '669']\n",
      "['제주특별자치도', '서귀포시', nan, '신중로', '27']\n",
      "['제주특별자치도', '서귀포시', nan, nan, '신중로', '27']\n",
      "['제주특별자치도', '서귀포시', nan, '이어도로', '901']\n",
      "['제주특별자치도', '서귀포시', nan, nan, '이어도로', '901']\n",
      "['인천광역시', '계양구', nan, '봉오대로', '679 1']\n",
      "['인천광역시', '계양구', nan, nan, '봉오대로', '679 1']\n",
      "['경기도', '성남시 분당구', nan, '서현로', '459']\n",
      "['경기도', '성남시 분당구', nan, nan, '서현로', '459']\n",
      "['충청남도', '보령시', nan, '성주산로', '77']\n",
      "['충청남도', '보령시', nan, nan, '성주산로', '77']\n",
      "['서울특별시', '금천구', nan, '범안로12가길', '65']\n",
      "['서울특별시', '금천구', nan, nan, '범안로12가길', '65']\n",
      "['서울특별시', '마포구', nan, '마포대로1길', '19', '지상주차장']\n",
      "['서울특별시', '마포구', nan, nan, '마포대로1길', '19', '지상주차장']\n",
      "['강원도', '삼척시', nan, '정상로', '53']\n",
      "['강원도', '삼척시', nan, nan, '정상로', '53']\n",
      "['경기도', '하남시', nan, '서울외곽순환고속도로', '19']\n",
      "['경기도', '하남시', nan, nan, '서울외곽순환고속도로', '19']\n",
      "['강원도', '평창군', '평창읍', nan, '후평길', '74']\n",
      "['경기도', '양평군', nan, '마유산로', '3']\n",
      "['경기도', '양평군', nan, nan, '마유산로', '3']\n",
      "['경상북도', '포항시 북구', '흥해읍', nan, '동해대로', '1511']\n",
      "['경기도', '안산시 단원구', nan, '화랑로', '312']\n",
      "['경기도', '안산시 단원구', nan, nan, '화랑로', '312']\n",
      "['부산광역시', '금정구', nan, '중앙대로', '2030']\n",
      "['부산광역시', '금정구', nan, nan, '중앙대로', '2030']\n",
      "['부산광역시', '금정구', nan, '오시게로', '20']\n",
      "['부산광역시', '금정구', nan, nan, '오시게로', '20']\n",
      "['충청남도', '태안군', '안면읍', nan, '장터로', '149']\n",
      "['부산광역시', '사상구', nan, '가야대로', '309']\n",
      "['부산광역시', '사상구', nan, nan, '가야대로', '309']\n",
      "['부산광역시', '강서구', nan, '명지오션시티13로', '12 11']\n",
      "['부산광역시', '강서구', nan, nan, '명지오션시티13로', '12 11']\n",
      "['경상북도', '포항시 북구', nan, '삼호로', '31']\n",
      "['경상북도', '포항시 북구', nan, nan, '삼호로', '31']\n",
      "['부산광역시', '사하구', nan, '하신중앙로', '313']\n",
      "['부산광역시', '사하구', nan, nan, '하신중앙로', '313']\n",
      "['경상남도', '김해시', '장유면', nan, '계동로', '175']\n",
      "['전라남도', '진도군', '진도읍', nan, '남산2길', '33']\n",
      "['전라남도', '진도군', '진도읍', nan, '남산2길', '44']\n",
      "['광주광역시', '북구', nan, '첨단과기로176번길', '27']\n",
      "['광주광역시', '북구', nan, nan, '첨단과기로176번길', '27']\n",
      "['전라남도', '강진군', '강진읍', nan, '영랑로', '44']\n",
      "['전라남도', '강진군', '강진읍', nan, '초지길', '24']\n",
      "['충청북도', '괴산군', '사리면', nan, '모래재로', '941']\n",
      "['전라남도', '장흥군', '관산읍', nan, '관산우회로', '104']\n",
      "['경기도', '안산시 단원구', nan, '돈지섬1길', '10']\n",
      "['경기도', '안산시 단원구', nan, nan, '돈지섬1길', '10']\n",
      "['전라북도', '장수군', '장수읍', nan, '장천로', '247']\n",
      "['인천광역시', '서구', nan, '정서진1로', '41']\n",
      "['인천광역시', '서구', nan, nan, '정서진1로', '41']\n",
      "['제주특별자치도', '제주시', nan, '천수로', '72']\n",
      "['제주특별자치도', '제주시', nan, nan, '천수로', '72']\n",
      "['경기도', '용인시 처인구', nan, '동백죽전대로', '61']\n",
      "['경기도', '용인시 처인구', nan, nan, '동백죽전대로', '61']\n"
     ]
    },
    {
     "name": "stderr",
     "output_type": "stream",
     "text": [
      "\n"
     ]
    }
   ],
   "source": [
    "for i, adrs in tqdm(enumerate(new_adr_address_unique_split2)):\n",
    "    for j, one in enumerate(adrs):\n",
    "        if j == 0:\n",
    "            if ad1_p.search(one):\n",
    "                pass\n",
    "            else:\n",
    "                print(new_adr_address_unique_split2[i])\n",
    "        elif j == 1:\n",
    "            if ad2_p.search(one):\n",
    "                pass\n",
    "            else:\n",
    "                adrs.insert(j, np.nan)\n",
    "                print(new_adr_address_unique_split2[i])\n",
    "        elif j == 2:\n",
    "            if ad3_p.search(one):\n",
    "                pass\n",
    "            else:\n",
    "                adrs.insert(j, np.nan)\n",
    "                print(new_adr_address_unique_split2[i])\n",
    "        elif j == 3:\n",
    "            if ad4_p.search(one):\n",
    "                pass\n",
    "            else:\n",
    "                adrs.insert(j, np.nan)\n",
    "                print(new_adr_address_unique_split2[i])"
   ]
  },
  {
   "cell_type": "code",
   "execution_count": 642,
   "metadata": {},
   "outputs": [
    {
     "data": {
      "text/plain": [
       "[['경기도', '안산시 단원구', nan, nan, '돈지섬1길', '10'],\n",
       " ['전라북도', '장수군', '장수읍', nan, '장천로', '247'],\n",
       " ['인천광역시', '서구', nan, nan, '정서진1로', '41'],\n",
       " ['제주특별자치도', '제주시', nan, nan, '천수로', '72'],\n",
       " ['경기도', '용인시 처인구', nan, nan, '동백죽전대로', '61']]"
      ]
     },
     "execution_count": 642,
     "metadata": {},
     "output_type": "execute_result"
    }
   ],
   "source": [
    "new_adr_address_unique_split2[-5:]"
   ]
  },
  {
   "cell_type": "code",
   "execution_count": 643,
   "metadata": {},
   "outputs": [
    {
     "data": {
      "text/plain": [
       "[['강원도', '고성군', '죽왕면', nan, '심층수길', '14'],\n",
       " ['제주특별자치도', '제주시', nan, nan, '수목원길', '72'],\n",
       " ['경상남도', '거제시', nan, nan, '계룡로', '125', '민원인', '주차', '건물', '출구', '앞'],\n",
       " ['경상북도', '영천시', '임고면', nan, '운주로', '777'],\n",
       " ['제주특별자치도', '서귀포시', nan, nan, '돈내코로', '114', '본관주차장']]"
      ]
     },
     "execution_count": 643,
     "metadata": {},
     "output_type": "execute_result"
    }
   ],
   "source": [
    "new_adr_address_unique_split2[100:105]"
   ]
  },
  {
   "cell_type": "code",
   "execution_count": 644,
   "metadata": {},
   "outputs": [
    {
     "data": {
      "text/plain": [
       "[['경상북도', '영덕군', '영덕읍', nan, '군청길', '116'],\n",
       " ['충청남도', '청양군', '정산면', nan, '칠갑산로', '1857'],\n",
       " ['세종특별자치시', nan, '연기면', nan, '정안세종로', '1527', '은하수공원', '화장시설', '주차장'],\n",
       " ['전라북도', '진안군', '진안읍', nan, '진무로', '1189'],\n",
       " ['울산광역시', '북구', nan, nan, '산업로', '970']]"
      ]
     },
     "execution_count": 644,
     "metadata": {},
     "output_type": "execute_result"
    }
   ],
   "source": [
    "new_adr_address_unique_split2[1010:1015]"
   ]
  },
  {
   "cell_type": "code",
   "execution_count": 645,
   "metadata": {},
   "outputs": [
    {
     "data": {
      "text/plain": [
       "(14,\n",
       " ['경상북도',\n",
       "  '경산시',\n",
       "  '진량읍',\n",
       "  nan,\n",
       "  '경부고속도로',\n",
       "  '105',\n",
       "  '휴게소',\n",
       "  '정면',\n",
       "  '우측',\n",
       "  '현수막',\n",
       "  '걸이대',\n",
       "  '앞',\n",
       "  '옥외',\n",
       "  '주차장'])"
      ]
     },
     "execution_count": 645,
     "metadata": {},
     "output_type": "execute_result"
    }
   ],
   "source": [
    "m = []\n",
    "for one in new_adr_address_unique_split2:\n",
    "    if len(one) >= len(m):\n",
    "        m = one\n",
    "len(m), m"
   ]
  },
  {
   "cell_type": "code",
   "execution_count": 651,
   "metadata": {},
   "outputs": [
    {
     "name": "stdout",
     "output_type": "stream",
     "text": [
      "906 ['경기도', '부천시', nan, nan, '원미구', '석천로', '188', '지상주차장', '2층', 'D구역', '창고', '오른쪽']\n"
     ]
    }
   ],
   "source": [
    "# 6번째 구분에 4, 5번째 구분 주소 존재 여부 체크\n",
    "for i, one in enumerate(new_adr_address_unique_split2):\n",
    "    try:\n",
    "        if ad4_p.search(one[5]) or ad5_p.search(one[5]):\n",
    "            print(i, one)\n",
    "    except:\n",
    "        pass"
   ]
  },
  {
   "cell_type": "code",
   "execution_count": 652,
   "metadata": {},
   "outputs": [
    {
     "name": "stdout",
     "output_type": "stream",
     "text": [
      "150 ['전라남도', '순천시', nan, nan, '남승룡로', '66', '국가정원1호길', '47', '서문', '주차장', '우측']\n"
     ]
    }
   ],
   "source": [
    "# 7번째 구분에 4, 5번째 구분 주소 존재 여부 체크\n",
    "for i, one in enumerate(new_adr_address_unique_split2):\n",
    "    try:\n",
    "        if ad4_p.search(one[6]) or ad5_p.search(one[6]):\n",
    "            print(i, one)\n",
    "    except:\n",
    "        pass"
   ]
  },
  {
   "cell_type": "markdown",
   "metadata": {},
   "source": [
    "#### 분리 주소 동일한 리스트 길이로 맞추기\n",
    "- 최대 리스트 길이 : 13\n",
    "- 필요한 리스트 길이 : 5"
   ]
  },
  {
   "cell_type": "code",
   "execution_count": 653,
   "metadata": {},
   "outputs": [
    {
     "data": {
      "text/plain": [
       "14"
      ]
     },
     "execution_count": 653,
     "metadata": {},
     "output_type": "execute_result"
    }
   ],
   "source": [
    "len(m)"
   ]
  },
  {
   "cell_type": "code",
   "execution_count": 654,
   "metadata": {},
   "outputs": [
    {
     "data": {
      "text/plain": [
       "[['경상남도', '김해시', '진영읍', nan, '하계로96번길'],\n",
       " ['제주특별자치도', '제주시', nan, nan, '삼성로'],\n",
       " ['제주특별자치도', '제주시', nan, nan, '노형9길'],\n",
       " ['경상북도', '포항시 북구', nan, nan, '해안로'],\n",
       " ['강원도', '양양군', '현북면', nan, '동해대로']]"
      ]
     },
     "execution_count": 654,
     "metadata": {},
     "output_type": "execute_result"
    }
   ],
   "source": [
    "sliced_new_adrs = [one[:5] for one in new_adr_address_unique_split2]\n",
    "sliced_new_adrs[:5]"
   ]
  },
  {
   "cell_type": "code",
   "execution_count": 655,
   "metadata": {},
   "outputs": [
    {
     "name": "stdout",
     "output_type": "stream",
     "text": [
      "경상남도 김해시 진영읍 하계로96번길 94-4 주유소 옆 주차장 : ['경상남도', '김해시', '진영읍', nan, '하계로96번길']\n",
      "제주특별자치도 제주시 삼성로 40 민속자연사박물관 : ['제주특별자치도', '제주시', nan, nan, '삼성로']\n",
      "제주특별자치도 제주시 노형9길 9-4 주차장 : ['제주특별자치도', '제주시', nan, nan, '노형9길']\n",
      "경상북도 포항시 북구 해안로 82 : ['경상북도', '포항시 북구', nan, nan, '해안로']\n",
      "강원도 양양군 현북면 동해대로 1242 : ['강원도', '양양군', '현북면', nan, '동해대로']\n"
     ]
    }
   ],
   "source": [
    "n = 5\n",
    "for a, b in zip(new_adr_address_unique[:n], sliced_new_adrs[:n]):\n",
    "    print(a, ':', b)"
   ]
  },
  {
   "cell_type": "markdown",
   "metadata": {},
   "source": [
    "#### 신주소 세분류 저장"
   ]
  },
  {
   "cell_type": "code",
   "execution_count": 656,
   "metadata": {},
   "outputs": [
    {
     "data": {
      "text/html": [
       "<div>\n",
       "<style scoped>\n",
       "    .dataframe tbody tr th:only-of-type {\n",
       "        vertical-align: middle;\n",
       "    }\n",
       "\n",
       "    .dataframe tbody tr th {\n",
       "        vertical-align: top;\n",
       "    }\n",
       "\n",
       "    .dataframe thead th {\n",
       "        text-align: right;\n",
       "    }\n",
       "</style>\n",
       "<table border=\"1\" class=\"dataframe\">\n",
       "  <thead>\n",
       "    <tr style=\"text-align: right;\">\n",
       "      <th></th>\n",
       "      <th>지역</th>\n",
       "      <th>시군구</th>\n",
       "      <th>읍면동</th>\n",
       "      <th>리</th>\n",
       "      <th>도로명</th>\n",
       "    </tr>\n",
       "  </thead>\n",
       "  <tbody>\n",
       "    <tr>\n",
       "      <th>0</th>\n",
       "      <td>경상남도</td>\n",
       "      <td>김해시</td>\n",
       "      <td>진영읍</td>\n",
       "      <td>NaN</td>\n",
       "      <td>하계로96번길</td>\n",
       "    </tr>\n",
       "    <tr>\n",
       "      <th>1</th>\n",
       "      <td>제주특별자치도</td>\n",
       "      <td>제주시</td>\n",
       "      <td>NaN</td>\n",
       "      <td>NaN</td>\n",
       "      <td>삼성로</td>\n",
       "    </tr>\n",
       "    <tr>\n",
       "      <th>2</th>\n",
       "      <td>제주특별자치도</td>\n",
       "      <td>제주시</td>\n",
       "      <td>NaN</td>\n",
       "      <td>NaN</td>\n",
       "      <td>노형9길</td>\n",
       "    </tr>\n",
       "    <tr>\n",
       "      <th>3</th>\n",
       "      <td>경상북도</td>\n",
       "      <td>포항시 북구</td>\n",
       "      <td>NaN</td>\n",
       "      <td>NaN</td>\n",
       "      <td>해안로</td>\n",
       "    </tr>\n",
       "    <tr>\n",
       "      <th>4</th>\n",
       "      <td>강원도</td>\n",
       "      <td>양양군</td>\n",
       "      <td>현북면</td>\n",
       "      <td>NaN</td>\n",
       "      <td>동해대로</td>\n",
       "    </tr>\n",
       "  </tbody>\n",
       "</table>\n",
       "</div>"
      ],
      "text/plain": [
       "        지역     시군구  읍면동   리      도로명\n",
       "0     경상남도     김해시  진영읍 NaN  하계로96번길\n",
       "1  제주특별자치도     제주시  NaN NaN      삼성로\n",
       "2  제주특별자치도     제주시  NaN NaN     노형9길\n",
       "3     경상북도  포항시 북구  NaN NaN      해안로\n",
       "4      강원도     양양군  현북면 NaN     동해대로"
      ]
     },
     "execution_count": 656,
     "metadata": {},
     "output_type": "execute_result"
    }
   ],
   "source": [
    "sliced_new_df = pd.DataFrame(sliced_new_adrs, columns=['지역', '시군구', '읍면동', '리', '도로명'])\n",
    "sliced_new_df.head()"
   ]
  },
  {
   "cell_type": "code",
   "execution_count": 657,
   "metadata": {},
   "outputs": [
    {
     "data": {
      "text/html": [
       "<div>\n",
       "<style scoped>\n",
       "    .dataframe tbody tr th:only-of-type {\n",
       "        vertical-align: middle;\n",
       "    }\n",
       "\n",
       "    .dataframe tbody tr th {\n",
       "        vertical-align: top;\n",
       "    }\n",
       "\n",
       "    .dataframe thead th {\n",
       "        text-align: right;\n",
       "    }\n",
       "</style>\n",
       "<table border=\"1\" class=\"dataframe\">\n",
       "  <thead>\n",
       "    <tr style=\"text-align: right;\">\n",
       "      <th></th>\n",
       "      <th>지역</th>\n",
       "      <th>시군구</th>\n",
       "      <th>읍면동</th>\n",
       "      <th>리</th>\n",
       "      <th>도로명</th>\n",
       "      <th>주소</th>\n",
       "    </tr>\n",
       "  </thead>\n",
       "  <tbody>\n",
       "    <tr>\n",
       "      <th>0</th>\n",
       "      <td>경상남도</td>\n",
       "      <td>김해시</td>\n",
       "      <td>진영읍</td>\n",
       "      <td>NaN</td>\n",
       "      <td>하계로96번길</td>\n",
       "      <td>경상남도 김해시 진영읍 하계로96번길 94-4 주유소 옆 주차장</td>\n",
       "    </tr>\n",
       "    <tr>\n",
       "      <th>1</th>\n",
       "      <td>제주특별자치도</td>\n",
       "      <td>제주시</td>\n",
       "      <td>NaN</td>\n",
       "      <td>NaN</td>\n",
       "      <td>삼성로</td>\n",
       "      <td>제주특별자치도 제주시 삼성로 40 민속자연사박물관</td>\n",
       "    </tr>\n",
       "    <tr>\n",
       "      <th>2</th>\n",
       "      <td>제주특별자치도</td>\n",
       "      <td>제주시</td>\n",
       "      <td>NaN</td>\n",
       "      <td>NaN</td>\n",
       "      <td>노형9길</td>\n",
       "      <td>제주특별자치도 제주시 노형9길 9-4 주차장</td>\n",
       "    </tr>\n",
       "    <tr>\n",
       "      <th>3</th>\n",
       "      <td>경상북도</td>\n",
       "      <td>포항시 북구</td>\n",
       "      <td>NaN</td>\n",
       "      <td>NaN</td>\n",
       "      <td>해안로</td>\n",
       "      <td>경상북도 포항시 북구 해안로 82</td>\n",
       "    </tr>\n",
       "    <tr>\n",
       "      <th>4</th>\n",
       "      <td>강원도</td>\n",
       "      <td>양양군</td>\n",
       "      <td>현북면</td>\n",
       "      <td>NaN</td>\n",
       "      <td>동해대로</td>\n",
       "      <td>강원도 양양군 현북면 동해대로 1242</td>\n",
       "    </tr>\n",
       "  </tbody>\n",
       "</table>\n",
       "</div>"
      ],
      "text/plain": [
       "        지역     시군구  읍면동   리      도로명                                   주소\n",
       "0     경상남도     김해시  진영읍 NaN  하계로96번길  경상남도 김해시 진영읍 하계로96번길 94-4 주유소 옆 주차장\n",
       "1  제주특별자치도     제주시  NaN NaN      삼성로          제주특별자치도 제주시 삼성로 40 민속자연사박물관\n",
       "2  제주특별자치도     제주시  NaN NaN     노형9길             제주특별자치도 제주시 노형9길 9-4 주차장\n",
       "3     경상북도  포항시 북구  NaN NaN      해안로                   경상북도 포항시 북구 해안로 82\n",
       "4      강원도     양양군  현북면 NaN     동해대로                강원도 양양군 현북면 동해대로 1242"
      ]
     },
     "execution_count": 657,
     "metadata": {},
     "output_type": "execute_result"
    }
   ],
   "source": [
    "sliced_new_df['주소'] = new_adr_address_unique\n",
    "sliced_new_df.head()"
   ]
  },
  {
   "cell_type": "code",
   "execution_count": 658,
   "metadata": {},
   "outputs": [
    {
     "data": {
      "text/html": [
       "<div>\n",
       "<style scoped>\n",
       "    .dataframe tbody tr th:only-of-type {\n",
       "        vertical-align: middle;\n",
       "    }\n",
       "\n",
       "    .dataframe tbody tr th {\n",
       "        vertical-align: top;\n",
       "    }\n",
       "\n",
       "    .dataframe thead th {\n",
       "        text-align: right;\n",
       "    }\n",
       "</style>\n",
       "<table border=\"1\" class=\"dataframe\">\n",
       "  <thead>\n",
       "    <tr style=\"text-align: right;\">\n",
       "      <th></th>\n",
       "      <th>주소</th>\n",
       "      <th>지역</th>\n",
       "      <th>시군구</th>\n",
       "      <th>읍면동</th>\n",
       "      <th>리</th>\n",
       "      <th>도로명</th>\n",
       "    </tr>\n",
       "  </thead>\n",
       "  <tbody>\n",
       "    <tr>\n",
       "      <th>0</th>\n",
       "      <td>경상남도 김해시 진영읍 하계로96번길 94-4 주유소 옆 주차장</td>\n",
       "      <td>경상남도</td>\n",
       "      <td>김해시</td>\n",
       "      <td>진영읍</td>\n",
       "      <td>NaN</td>\n",
       "      <td>하계로96번길</td>\n",
       "    </tr>\n",
       "    <tr>\n",
       "      <th>1</th>\n",
       "      <td>제주특별자치도 제주시 삼성로 40 민속자연사박물관</td>\n",
       "      <td>제주특별자치도</td>\n",
       "      <td>제주시</td>\n",
       "      <td>NaN</td>\n",
       "      <td>NaN</td>\n",
       "      <td>삼성로</td>\n",
       "    </tr>\n",
       "    <tr>\n",
       "      <th>2</th>\n",
       "      <td>제주특별자치도 제주시 노형9길 9-4 주차장</td>\n",
       "      <td>제주특별자치도</td>\n",
       "      <td>제주시</td>\n",
       "      <td>NaN</td>\n",
       "      <td>NaN</td>\n",
       "      <td>노형9길</td>\n",
       "    </tr>\n",
       "    <tr>\n",
       "      <th>3</th>\n",
       "      <td>경상북도 포항시 북구 해안로 82</td>\n",
       "      <td>경상북도</td>\n",
       "      <td>포항시 북구</td>\n",
       "      <td>NaN</td>\n",
       "      <td>NaN</td>\n",
       "      <td>해안로</td>\n",
       "    </tr>\n",
       "    <tr>\n",
       "      <th>4</th>\n",
       "      <td>강원도 양양군 현북면 동해대로 1242</td>\n",
       "      <td>강원도</td>\n",
       "      <td>양양군</td>\n",
       "      <td>현북면</td>\n",
       "      <td>NaN</td>\n",
       "      <td>동해대로</td>\n",
       "    </tr>\n",
       "  </tbody>\n",
       "</table>\n",
       "</div>"
      ],
      "text/plain": [
       "                                    주소       지역     시군구  읍면동   리      도로명\n",
       "0  경상남도 김해시 진영읍 하계로96번길 94-4 주유소 옆 주차장     경상남도     김해시  진영읍 NaN  하계로96번길\n",
       "1          제주특별자치도 제주시 삼성로 40 민속자연사박물관  제주특별자치도     제주시  NaN NaN      삼성로\n",
       "2             제주특별자치도 제주시 노형9길 9-4 주차장  제주특별자치도     제주시  NaN NaN     노형9길\n",
       "3                   경상북도 포항시 북구 해안로 82     경상북도  포항시 북구  NaN NaN      해안로\n",
       "4                강원도 양양군 현북면 동해대로 1242      강원도     양양군  현북면 NaN     동해대로"
      ]
     },
     "execution_count": 658,
     "metadata": {},
     "output_type": "execute_result"
    }
   ],
   "source": [
    "total_sliced_new_df = sliced_new_df[['주소', '지역', '시군구', '읍면동', '리', '도로명']]\n",
    "total_sliced_new_df.head()"
   ]
  },
  {
   "cell_type": "code",
   "execution_count": 659,
   "metadata": {},
   "outputs": [
    {
     "name": "stderr",
     "output_type": "stream",
     "text": [
      "C:\\Users\\kbj\\AppData\\Local\\Temp\\ipykernel_12280\\1523701932.py:1: SettingWithCopyWarning: \n",
      "A value is trying to be set on a copy of a slice from a DataFrame.\n",
      "Try using .loc[row_indexer,col_indexer] = value instead\n",
      "\n",
      "See the caveats in the documentation: https://pandas.pydata.org/pandas-docs/stable/user_guide/indexing.html#returning-a-view-versus-a-copy\n",
      "  total_sliced_new_df['주소분류'] = 'new'\n"
     ]
    },
    {
     "data": {
      "text/html": [
       "<div>\n",
       "<style scoped>\n",
       "    .dataframe tbody tr th:only-of-type {\n",
       "        vertical-align: middle;\n",
       "    }\n",
       "\n",
       "    .dataframe tbody tr th {\n",
       "        vertical-align: top;\n",
       "    }\n",
       "\n",
       "    .dataframe thead th {\n",
       "        text-align: right;\n",
       "    }\n",
       "</style>\n",
       "<table border=\"1\" class=\"dataframe\">\n",
       "  <thead>\n",
       "    <tr style=\"text-align: right;\">\n",
       "      <th></th>\n",
       "      <th>주소</th>\n",
       "      <th>지역</th>\n",
       "      <th>시군구</th>\n",
       "      <th>읍면동</th>\n",
       "      <th>리</th>\n",
       "      <th>도로명</th>\n",
       "      <th>주소분류</th>\n",
       "    </tr>\n",
       "  </thead>\n",
       "  <tbody>\n",
       "    <tr>\n",
       "      <th>0</th>\n",
       "      <td>경상남도 김해시 진영읍 하계로96번길 94-4 주유소 옆 주차장</td>\n",
       "      <td>경상남도</td>\n",
       "      <td>김해시</td>\n",
       "      <td>진영읍</td>\n",
       "      <td>NaN</td>\n",
       "      <td>하계로96번길</td>\n",
       "      <td>new</td>\n",
       "    </tr>\n",
       "    <tr>\n",
       "      <th>1</th>\n",
       "      <td>제주특별자치도 제주시 삼성로 40 민속자연사박물관</td>\n",
       "      <td>제주특별자치도</td>\n",
       "      <td>제주시</td>\n",
       "      <td>NaN</td>\n",
       "      <td>NaN</td>\n",
       "      <td>삼성로</td>\n",
       "      <td>new</td>\n",
       "    </tr>\n",
       "    <tr>\n",
       "      <th>2</th>\n",
       "      <td>제주특별자치도 제주시 노형9길 9-4 주차장</td>\n",
       "      <td>제주특별자치도</td>\n",
       "      <td>제주시</td>\n",
       "      <td>NaN</td>\n",
       "      <td>NaN</td>\n",
       "      <td>노형9길</td>\n",
       "      <td>new</td>\n",
       "    </tr>\n",
       "    <tr>\n",
       "      <th>3</th>\n",
       "      <td>경상북도 포항시 북구 해안로 82</td>\n",
       "      <td>경상북도</td>\n",
       "      <td>포항시 북구</td>\n",
       "      <td>NaN</td>\n",
       "      <td>NaN</td>\n",
       "      <td>해안로</td>\n",
       "      <td>new</td>\n",
       "    </tr>\n",
       "    <tr>\n",
       "      <th>4</th>\n",
       "      <td>강원도 양양군 현북면 동해대로 1242</td>\n",
       "      <td>강원도</td>\n",
       "      <td>양양군</td>\n",
       "      <td>현북면</td>\n",
       "      <td>NaN</td>\n",
       "      <td>동해대로</td>\n",
       "      <td>new</td>\n",
       "    </tr>\n",
       "  </tbody>\n",
       "</table>\n",
       "</div>"
      ],
      "text/plain": [
       "                                    주소       지역     시군구  읍면동   리      도로명 주소분류\n",
       "0  경상남도 김해시 진영읍 하계로96번길 94-4 주유소 옆 주차장     경상남도     김해시  진영읍 NaN  하계로96번길  new\n",
       "1          제주특별자치도 제주시 삼성로 40 민속자연사박물관  제주특별자치도     제주시  NaN NaN      삼성로  new\n",
       "2             제주특별자치도 제주시 노형9길 9-4 주차장  제주특별자치도     제주시  NaN NaN     노형9길  new\n",
       "3                   경상북도 포항시 북구 해안로 82     경상북도  포항시 북구  NaN NaN      해안로  new\n",
       "4                강원도 양양군 현북면 동해대로 1242      강원도     양양군  현북면 NaN     동해대로  new"
      ]
     },
     "execution_count": 659,
     "metadata": {},
     "output_type": "execute_result"
    }
   ],
   "source": [
    "total_sliced_new_df['주소분류'] = 'new'\n",
    "total_sliced_new_df.head()"
   ]
  },
  {
   "cell_type": "markdown",
   "metadata": {},
   "source": [
    "### 구주소 확인\n",
    "- 구도시 지역명 구분\n",
    "    - 지역\n",
    "    - 시군구\n",
    "    - 읍면동\n",
    "    - 리"
   ]
  },
  {
   "cell_type": "code",
   "execution_count": 542,
   "metadata": {},
   "outputs": [
    {
     "data": {
      "text/plain": [
       "1577"
      ]
     },
     "execution_count": 542,
     "metadata": {},
     "output_type": "execute_result"
    }
   ],
   "source": [
    "old_adr_address_unique = old_adr_df['주소'].unique()\n",
    "len(old_adr_address_unique)"
   ]
  },
  {
   "cell_type": "code",
   "execution_count": 543,
   "metadata": {},
   "outputs": [
    {
     "data": {
      "text/plain": [
       "array(['경상남도 김해시 진영읍 우동리 289-1  주차장', '경상남도 거창군 가조면 도리 산189-1',\n",
       "       '강원도 인제군 기린면 현리 634-7', '경상북도 의성군 단밀면 낙정리',\n",
       "       '경기도 양평군 양동면 단석리 506-7', '전라북도 임실군 오수면 대명리',\n",
       "       '대구광역시 북구 서변동 1792 입구 좌측', '제주특별자치도 서귀포시 성산읍 성산리 347-9 주차타워 앞',\n",
       "       '서울특별시 성북구 장위2동 65-154', '전라남도 순천시 왕지동 853-2  왕지 제2공영주차장'],\n",
       "      dtype=object)"
      ]
     },
     "execution_count": 543,
     "metadata": {},
     "output_type": "execute_result"
    }
   ],
   "source": [
    "old_adr_address_unique[20:30]"
   ]
  },
  {
   "cell_type": "code",
   "execution_count": 544,
   "metadata": {},
   "outputs": [
    {
     "data": {
      "text/plain": [
       "array(['서울특별시 구로구 오류동 174-10  천왕역 환승주차장 1층', '경상남도 통영시 광도면 죽림리 292-33',\n",
       "       '전라북도 완주군 봉동읍 둔산리 881', '충청남도 공주시 정안면 석송리', '충청북도 단양군 적성면 기동리'],\n",
       "      dtype=object)"
      ]
     },
     "execution_count": 544,
     "metadata": {},
     "output_type": "execute_result"
    }
   ],
   "source": [
    "old_adr_address_unique[:5]"
   ]
  },
  {
   "cell_type": "code",
   "execution_count": 545,
   "metadata": {},
   "outputs": [
    {
     "data": {
      "text/plain": [
       "array(['세종특별자치시 어진동 621 입구 우측', '울산광역시 울주군 온산읍 덕신리 430',\n",
       "       '경기도 수원시 권선구 장지동 45-1', '경기도 안산시 단원구 원곡동 381-2',\n",
       "       '경상북도 포항시 남구 대송면 제내리 630-5'], dtype=object)"
      ]
     },
     "execution_count": 545,
     "metadata": {},
     "output_type": "execute_result"
    }
   ],
   "source": [
    "old_adr_address_unique[300:305]"
   ]
  },
  {
   "cell_type": "markdown",
   "metadata": {},
   "source": [
    "#### 특이 주소 처리\n",
    "- 147 ['울산광역시', '울주군', '언양읍', nan, '언동', '3길', '20 48']\n",
    "- 353 ['충청북도', '단양군', '적성면', nan, '기동', '2길', '32 37', '(기동리)']\n",
    "- 480 ['충청북도', '청주시 서원구', '현도면', nan, '선동', '1길', '9']\n",
    "- 1427 ['경상남도', '고성군', '거류면', nan, '당동', '3길', '5']\n",
    "- 1438 ['전라남도', '영암군', '신북면', nan, '황금동', '1길', '5 1']\n",
    "- 1459 ['충청북도', '청주시 서원구', '현도면', nan, '선동', '2길', '232 9']\n",
    "- 1503 ['충청북도', '단양군', '적성면', nan, '기동', '2길', '32 37']"
   ]
  },
  {
   "cell_type": "code",
   "execution_count": 766,
   "metadata": {},
   "outputs": [
    {
     "name": "stdout",
     "output_type": "stream",
     "text": [
      "154 울산광역시 울주군 언양읍 언동 3길 20-48\n",
      "364 충청북도 단양군 적성면 기동 2길 32-37 (기동리)\n",
      "496 충청북도 청주시 서원구 현도면 선동 1길 9\n",
      "1451 경상남도 고성군 거류면 당동 3길 5\n",
      "1463 전라남도 영암군 신북면 황금동 1길 5-1\n",
      "1484 충청북도 청주시 서원구 현도면 선동 2길 232-9\n",
      "1528 충청북도 단양군 적성면 기동 2길 32-37\n"
     ]
    }
   ],
   "source": [
    "for i, one in enumerate(old_adr_address_unique):\n",
    "    if '언동 3길' in one:\n",
    "        print(i, one)\n",
    "    elif '기동 2길' in one:\n",
    "        print(i, one)\n",
    "    elif '선동 1길' in one:\n",
    "        print(i, one)\n",
    "    elif '당동 3길' in one:\n",
    "        print(i, one)\n",
    "    elif '황금동 1길' in one:\n",
    "        print(i, one)\n",
    "    elif '선동 2길' in one:\n",
    "        print(i, one)\n",
    "    elif '기동 2길' in one:\n",
    "        print(i, one)"
   ]
  },
  {
   "cell_type": "code",
   "execution_count": 767,
   "metadata": {},
   "outputs": [],
   "source": [
    "for i, one in enumerate(old_adr_address_unique):\n",
    "    if '언동 3길' in one:\n",
    "        old_adr_address_unique[i] = one.replace('언동 3길', '언동3길')\n",
    "    elif '기동 2길' in one:\n",
    "        old_adr_address_unique[i] = one.replace('기동 2길', '기동2길')\n",
    "    elif '선동 1길' in one:\n",
    "        old_adr_address_unique[i] = one.replace('선동 1길', '선동1길')\n",
    "    elif '당동 3길' in one:\n",
    "        old_adr_address_unique[i] = one.replace('당동 3길', '당동3길')\n",
    "    elif '황금동 1길' in one:\n",
    "        old_adr_address_unique[i] = one.replace('황금동 1길', '황금동1길')\n",
    "    elif '선동 2길' in one:\n",
    "        old_adr_address_unique[i] = one.replace('선동 2길', '선동2길')\n",
    "    elif '기동 2길' in one:\n",
    "        old_adr_address_unique[i] = one.replace('기동 2길', '기동2길')"
   ]
  },
  {
   "cell_type": "markdown",
   "metadata": {},
   "source": [
    "#### 신주소 추출"
   ]
  },
  {
   "cell_type": "code",
   "execution_count": 768,
   "metadata": {},
   "outputs": [
    {
     "name": "stdout",
     "output_type": "stream",
     "text": [
      "울산광역시 북구 연암동 산업로 1010 북구청\n",
      "제주특별자치도 제주시 만덕로 18 건입동 주민센터\n",
      "세종특별자치시 나성남로 7-7 BRT환승센터 B주차장 B1 (나성동 531)\n",
      "제주특별자치도 제주시 일주서로 7350 외도동 주민센터\n",
      "전라남도 여수시 학동 168(시청로 1번지)\n",
      "서울특별시 마포구 상암동 월드컵북로 58길 15 지하4층 18\n",
      "경상남도 창원시 진해구 용재로 46  웅동 2동 주민센터 주차장 내\n",
      "울산광역시 울주군 언양읍 언동3길 20-48\n",
      "대전광역시 중구 중앙로 100 (대흥동 499-1)\n",
      "서울특별시 양천구 목동 중앙본로 120\n",
      "경상북도 구미시 인동 14길 14\n",
      "충청남도 당진시 무수동 2길 25-21\n",
      "대전광역시 서구 청사로 189  정부대전청사 후생동 지하주차장 입구 근처\n",
      "충청남도 계룡시 두마면 팥거리 2길 14\n",
      "경상남도 창원시 마산합포구 신마산시장길 33 (창포동 3가)\n",
      "경상북도 성주군 수륜면 가야산식물원길 49 (백운리 1282-16)\n",
      "경기도 양평군 양동면 단석리 513-2 (여양3로 384-27)\n",
      "충청북도 단양군 적성면 기동2길 32-37 (기동리)\n",
      "경상남도 함양군 함양읍 고운로 161-51 (신관리 820-10)\n",
      "충청남도 아산시 충무로 25(온천동 94-10) 1층\n",
      "경상남도 창원시 의창구 중앙대로 178(신월동 97-1)\n",
      "경기도 남양주시 화도읍 묵현로 91 천마산군립공원 공영주차장 (묵현리 211-2)\n",
      "서울특별시 종로구 인사동 5길 29  지상주차장\n",
      "전라북도 남원시 향교동 춘향로 96 (향교동)\n",
      "충청북도 청주시 서원구 현도면 선동1길 9\n",
      "강원도 삼척시 당저동 1길 17-9\n",
      "울산광역시 남구 남부순환도로 209 숙소동 앞\n",
      "충청북도 청주시 흥덕구 오송읍 봉산리 370-1  KTX 오송역 공영주차장 A출구 바로 옆(지상)\n",
      "전라남도 고흥군 점암면 성기리 능가사로 386-2\n",
      "서울특별시 금천구 범안로12가길 65  독산1동 공영주차장 옥상\n",
      "충청북도 제천시 내토로 295 건설 민원봉사실 옆 제2주차장 입구 왼쪽(천남동 12-2)\n",
      "경상북도 영주시 본현면 소백로 1809\n",
      "경상남도 창원시 마산회원구 석전동 4길 52\n",
      "경상남도 사천시 용현면 시청로 77 (덕곡리 501)\n",
      "경상남도 함양군 함양읍 함양남서로 996-166\n",
      "강원도 강릉시 홍제동 강릉대로 33\n",
      "전라북도 전주시 덕진구 가련산로 26-3 (송천동 1가)\n",
      "전라남도 여수시 삼동 3길 13\n",
      "경상북도 의성군 안계면 양곡리 새못안길 45-49\n",
      "경상남도 고성군 거류면 당동3길 5\n",
      "충청남도 보령시 대천동 중앙로 236\n",
      "전라남도 여수시 학동 2길 7\n",
      "전라남도 영암군 신북면 황금동1길 5-1\n",
      "충청북도 청주시 서원구 현도면 선동2길 232-9\n",
      "충청북도 단양군 적성면 기동2길 32-37\n",
      "전라남도 여수시 관문동 1길 39\n",
      "경상남도 김해시 진영읍 하계리 96번길 68\n",
      "제주특별자치도 제주시 조천읍 교래리 남조로 2023\n"
     ]
    }
   ],
   "source": [
    "wrong_sort_address_idx = []\n",
    "wrong_p = re.compile('[가-힣0-9]+로\\s|[가-힣0-9]+길\\s')\n",
    "for i, one in enumerate(old_adr_address_unique):\n",
    "    if wrong_p.search(one):\n",
    "        wrong_sort_address_idx.append(i)\n",
    "        print(one)"
   ]
  },
  {
   "cell_type": "code",
   "execution_count": 769,
   "metadata": {},
   "outputs": [
    {
     "data": {
      "text/plain": [
       "48"
      ]
     },
     "execution_count": 769,
     "metadata": {},
     "output_type": "execute_result"
    }
   ],
   "source": [
    "len(wrong_sort_address_idx)"
   ]
  },
  {
   "cell_type": "code",
   "execution_count": 771,
   "metadata": {},
   "outputs": [
    {
     "data": {
      "text/plain": [
       "566"
      ]
     },
     "execution_count": 771,
     "metadata": {},
     "output_type": "execute_result"
    }
   ],
   "source": [
    "wrong_sort_address_idx[27]"
   ]
  },
  {
   "cell_type": "code",
   "execution_count": 772,
   "metadata": {},
   "outputs": [
    {
     "data": {
      "text/plain": [
       "'충청북도 청주시 흥덕구 오송읍 봉산리 370-1  KTX 오송역 공영주차장 A출구 바로 옆(지상)'"
      ]
     },
     "execution_count": 772,
     "metadata": {},
     "output_type": "execute_result"
    }
   ],
   "source": [
    "old_adr_address_unique[566]"
   ]
  },
  {
   "cell_type": "code",
   "execution_count": 773,
   "metadata": {},
   "outputs": [
    {
     "data": {
      "text/plain": [
       "'울산광역시 울주군 언양읍 언동3길 20-48'"
      ]
     },
     "execution_count": 773,
     "metadata": {},
     "output_type": "execute_result"
    }
   ],
   "source": [
    "pick_new_adrs = old_adr_address_unique[wrong_sort_address_idx]\n",
    "pick_new_adrs[7]"
   ]
  },
  {
   "cell_type": "code",
   "execution_count": 774,
   "metadata": {},
   "outputs": [
    {
     "data": {
      "text/plain": [
       "'충청북도 청주시 흥덕구 오송읍 봉산리 370-1  KTX 오송역 공영주차장 A출구 바로 옆(지상)'"
      ]
     },
     "execution_count": 774,
     "metadata": {},
     "output_type": "execute_result"
    }
   ],
   "source": [
    "pick_new_adrs[27]"
   ]
  },
  {
   "cell_type": "code",
   "execution_count": 775,
   "metadata": {},
   "outputs": [],
   "source": [
    "# 빈칸 처리\n",
    "for i, one in enumerate(pick_new_adrs):\n",
    "    if '  ' in one:\n",
    "        pick_new_adrs[i] = one.replace('  ', ' ')"
   ]
  },
  {
   "cell_type": "code",
   "execution_count": 776,
   "metadata": {},
   "outputs": [
    {
     "data": {
      "text/plain": [
       "'울산광역시 울주군 언양읍 언동3길 20-48'"
      ]
     },
     "execution_count": 776,
     "metadata": {},
     "output_type": "execute_result"
    }
   ],
   "source": [
    "pick_new_adrs[7]"
   ]
  },
  {
   "cell_type": "code",
   "execution_count": 777,
   "metadata": {},
   "outputs": [
    {
     "name": "stderr",
     "output_type": "stream",
     "text": [
      "100%|██████████| 48/48 [00:00<00:00, 24070.61it/s]\n"
     ]
    }
   ],
   "source": [
    "pick_new_adrs_split = []\n",
    "for ad in tqdm(pick_new_adrs):\n",
    "    for k, v in split_dict.items():\n",
    "        ad = ad.replace(k, v)\n",
    "    ad = ad.replace(' ', '$')\n",
    "    ad = ad.replace('-', ' ')\n",
    "    pick_new_adrs_split.append(ad.split('$'))"
   ]
  },
  {
   "cell_type": "code",
   "execution_count": 778,
   "metadata": {},
   "outputs": [
    {
     "data": {
      "text/plain": [
       "[['울산광역시', '울주군', '언양읍', '언동3길', '20 48'],\n",
       " ['대전광역시', '중구', '중앙로', '100', '(대흥동', '499 1)'],\n",
       " ['서울특별시', '양천구', '목동', '중앙본로', '120'],\n",
       " ['경상북도', '구미시', '인동', '14길', '14'],\n",
       " ['충청남도', '당진시', '무수동', '2길', '25 21']]"
      ]
     },
     "execution_count": 778,
     "metadata": {},
     "output_type": "execute_result"
    }
   ],
   "source": [
    "pick_new_adrs_split[7:12]"
   ]
  },
  {
   "cell_type": "code",
   "execution_count": 779,
   "metadata": {},
   "outputs": [
    {
     "name": "stderr",
     "output_type": "stream",
     "text": [
      "48it [00:00, 48233.49it/s]"
     ]
    },
    {
     "name": "stdout",
     "output_type": "stream",
     "text": [
      "['울산광역시', '북구', '연암동', nan, '산업로', '1010', '북구청']\n",
      "['제주특별자치도', '제주시', nan, '만덕로', '18', '건입동', '주민센터']\n",
      "['제주특별자치도', '제주시', nan, nan, '만덕로', '18', '건입동', '주민센터']\n",
      "['세종특별자치시', nan, '나성남로', '7 7', 'BRT환승센터', 'B주차장', 'B1', '(나성동', '531)']\n",
      "['세종특별자치시', nan, nan, '나성남로', '7 7', 'BRT환승센터', 'B주차장', 'B1', '(나성동', '531)']\n",
      "['세종특별자치시', nan, nan, nan, '나성남로', '7 7', 'BRT환승센터', 'B주차장', 'B1', '(나성동', '531)']\n",
      "['제주특별자치도', '제주시', nan, '일주서로', '7350', '외도동', '주민센터']\n",
      "['제주특별자치도', '제주시', nan, nan, '일주서로', '7350', '외도동', '주민센터']\n",
      "['전라남도', '여수시', '학동', nan, '168(시청로', '1번지)']\n",
      "['서울특별시', '마포구', '상암동', nan, '월드컵북로', '58길', '15', '지하4층', '18']\n",
      "['경상남도', '창원시 진해구', nan, '용재로', '46', '웅동', '2동', '주민센터', '주차장', '내']\n",
      "['경상남도', '창원시 진해구', nan, nan, '용재로', '46', '웅동', '2동', '주민센터', '주차장', '내']\n",
      "['울산광역시', '울주군', '언양읍', nan, '언동3길', '20 48']\n",
      "['대전광역시', '중구', nan, '중앙로', '100', '(대흥동', '499 1)']\n",
      "['대전광역시', '중구', nan, nan, '중앙로', '100', '(대흥동', '499 1)']\n",
      "['서울특별시', '양천구', '목동', nan, '중앙본로', '120']\n",
      "['경상북도', '구미시', '인동', nan, '14길', '14']\n",
      "['충청남도', '당진시', '무수동', nan, '2길', '25 21']\n",
      "['대전광역시', '서구', nan, '청사로', '189', '정부대전청사', '후생동', '지하주차장', '입구', '근처']\n",
      "['대전광역시', '서구', nan, nan, '청사로', '189', '정부대전청사', '후생동', '지하주차장', '입구', '근처']\n",
      "['경상남도', '창원시 마산합포구', nan, '신마산시장길', '33', '(창포동', '3가)']\n",
      "['경상남도', '창원시 마산합포구', nan, nan, '신마산시장길', '33', '(창포동', '3가)']\n",
      "['경상북도', '성주군', '수륜면', nan, '가야산식물원길', '49', '(백운리', '1282 16)']\n",
      "['충청북도', '단양군', '적성면', nan, '기동2길', '32 37', '(기동리)']\n",
      "['경상남도', '함양군', '함양읍', nan, '고운로', '161 51', '(신관리', '820 10)']\n",
      "['충청남도', '아산시', nan, '충무로', '25(온천동', '94 10)', '1층']\n",
      "['충청남도', '아산시', nan, nan, '충무로', '25(온천동', '94 10)', '1층']\n",
      "['경상남도', '창원시 의창구', nan, '중앙대로', '178(신월동', '97 1)']\n",
      "['경상남도', '창원시 의창구', nan, nan, '중앙대로', '178(신월동', '97 1)']\n",
      "['경기도', '남양주시', '화도읍', nan, '묵현로', '91', '천마산군립공원', '공영주차장', '(묵현리', '211 2)']\n",
      "['서울특별시', '종로구', '인사동', nan, '5길', '29', '지상주차장']\n",
      "['전라북도', '남원시', '향교동', nan, '춘향로', '96', '(향교동)']\n",
      "['충청북도', '청주시 서원구', '현도면', nan, '선동1길', '9']\n",
      "['강원도', '삼척시', '당저동', nan, '1길', '17 9']\n",
      "['울산광역시', '남구', nan, '남부순환도로', '209', '숙소동', '앞']\n",
      "['울산광역시', '남구', nan, nan, '남부순환도로', '209', '숙소동', '앞']\n",
      "['서울특별시', '금천구', nan, '범안로12가길', '65', '독산1동', '공영주차장', '옥상']\n",
      "['서울특별시', '금천구', nan, nan, '범안로12가길', '65', '독산1동', '공영주차장', '옥상']\n",
      "['충청북도', '제천시', nan, '내토로', '295', '건설', '민원봉사실', '옆', '제2주차장', '입구', '왼쪽(천남동', '12 2)']\n",
      "['충청북도', '제천시', nan, nan, '내토로', '295', '건설', '민원봉사실', '옆', '제2주차장', '입구', '왼쪽(천남동', '12 2)']\n",
      "['경상북도', '영주시', '본현면', nan, '소백로', '1809']\n",
      "['경상남도', '창원시 마산회원구', '석전동', nan, '4길', '52']\n",
      "['경상남도', '사천시', '용현면', nan, '시청로', '77', '(덕곡리', '501)']\n",
      "['경상남도', '함양군', '함양읍', nan, '함양남서로', '996 166']\n",
      "['강원도', '강릉시', '홍제동', nan, '강릉대로', '33']\n",
      "['전라북도', '전주시 덕진구', nan, '가련산로', '26 3', '(송천동', '1가)']\n",
      "['전라북도', '전주시 덕진구', nan, nan, '가련산로', '26 3', '(송천동', '1가)']\n",
      "['전라남도', '여수시', '삼동', nan, '3길', '13']\n",
      "['경상남도', '고성군', '거류면', nan, '당동3길', '5']\n",
      "['충청남도', '보령시', '대천동', nan, '중앙로', '236']\n",
      "['전라남도', '여수시', '학동', nan, '2길', '7']\n",
      "['전라남도', '영암군', '신북면', nan, '황금동1길', '5 1']\n",
      "['충청북도', '청주시 서원구', '현도면', nan, '선동2길', '232 9']\n",
      "['충청북도', '단양군', '적성면', nan, '기동2길', '32 37']\n",
      "['전라남도', '여수시', '관문동', nan, '1길', '39']\n"
     ]
    },
    {
     "name": "stderr",
     "output_type": "stream",
     "text": [
      "\n"
     ]
    }
   ],
   "source": [
    "for i, adrs in tqdm(enumerate(pick_new_adrs_split)):\n",
    "    for j, one in enumerate(adrs):\n",
    "        if j == 0:\n",
    "            if ad1_p.search(one):\n",
    "                pass\n",
    "            else:\n",
    "                print(pick_new_adrs_split[i])\n",
    "        elif j == 1:\n",
    "            if ad2_p.search(one):\n",
    "                pass\n",
    "            else:\n",
    "                adrs.insert(j, np.nan)\n",
    "                print(pick_new_adrs_split[i])\n",
    "        elif j == 2:\n",
    "            if ad3_p.search(one):\n",
    "                pass\n",
    "            else:\n",
    "                adrs.insert(j, np.nan)\n",
    "                print(pick_new_adrs_split[i])\n",
    "        elif j == 3:\n",
    "            if ad4_p.search(one):\n",
    "                pass\n",
    "            else:\n",
    "                adrs.insert(j, np.nan)\n",
    "                print(pick_new_adrs_split[i])"
   ]
  },
  {
   "cell_type": "markdown",
   "metadata": {},
   "source": [
    "##### 하나씩 확인"
   ]
  },
  {
   "cell_type": "code",
   "execution_count": 780,
   "metadata": {},
   "outputs": [
    {
     "data": {
      "text/plain": [
       "48"
      ]
     },
     "execution_count": 780,
     "metadata": {},
     "output_type": "execute_result"
    }
   ],
   "source": [
    "len(pick_new_adrs_split)"
   ]
  },
  {
   "cell_type": "code",
   "execution_count": 781,
   "metadata": {},
   "outputs": [
    {
     "data": {
      "text/plain": [
       "['울산광역시', '북구', '연암동', nan, '산업로', '1010', '북구청']"
      ]
     },
     "execution_count": 781,
     "metadata": {},
     "output_type": "execute_result"
    }
   ],
   "source": [
    "pick_new_adrs_split[0]"
   ]
  },
  {
   "cell_type": "code",
   "execution_count": 782,
   "metadata": {},
   "outputs": [
    {
     "data": {
      "text/plain": [
       "['제주특별자치도', '제주시', nan, nan, '만덕로', '18', '건입동', '주민센터']"
      ]
     },
     "execution_count": 782,
     "metadata": {},
     "output_type": "execute_result"
    }
   ],
   "source": [
    "pick_new_adrs_split[1]"
   ]
  },
  {
   "cell_type": "code",
   "execution_count": 783,
   "metadata": {},
   "outputs": [
    {
     "data": {
      "text/plain": [
       "['제주특별자치도', '제주시', '건입동', nan, '만덕로', '18', '건입동', '주민센터']"
      ]
     },
     "execution_count": 783,
     "metadata": {},
     "output_type": "execute_result"
    }
   ],
   "source": [
    "pick_new_adrs_split[1][2] = pick_new_adrs_split[1][-2]\n",
    "pick_new_adrs_split[1]"
   ]
  },
  {
   "cell_type": "code",
   "execution_count": 784,
   "metadata": {},
   "outputs": [
    {
     "data": {
      "text/plain": [
       "['세종특별자치시',\n",
       " nan,\n",
       " nan,\n",
       " nan,\n",
       " '나성남로',\n",
       " '7 7',\n",
       " 'BRT환승센터',\n",
       " 'B주차장',\n",
       " 'B1',\n",
       " '(나성동',\n",
       " '531)']"
      ]
     },
     "execution_count": 784,
     "metadata": {},
     "output_type": "execute_result"
    }
   ],
   "source": [
    "pick_new_adrs_split[2]"
   ]
  },
  {
   "cell_type": "code",
   "execution_count": 785,
   "metadata": {},
   "outputs": [
    {
     "data": {
      "text/plain": [
       "['세종특별자치시',\n",
       " nan,\n",
       " '나성동',\n",
       " nan,\n",
       " '나성남로',\n",
       " '7 7',\n",
       " 'BRT환승센터',\n",
       " 'B주차장',\n",
       " 'B1',\n",
       " '(나성동',\n",
       " '531)']"
      ]
     },
     "execution_count": 785,
     "metadata": {},
     "output_type": "execute_result"
    }
   ],
   "source": [
    "pick_new_adrs_split[2][2] = '나성동'\n",
    "pick_new_adrs_split[2]"
   ]
  },
  {
   "cell_type": "code",
   "execution_count": 786,
   "metadata": {},
   "outputs": [
    {
     "data": {
      "text/plain": [
       "['제주특별자치도', '제주시', nan, nan, '일주서로', '7350', '외도동', '주민센터']"
      ]
     },
     "execution_count": 786,
     "metadata": {},
     "output_type": "execute_result"
    }
   ],
   "source": [
    "pick_new_adrs_split[3]"
   ]
  },
  {
   "cell_type": "code",
   "execution_count": 787,
   "metadata": {},
   "outputs": [
    {
     "data": {
      "text/plain": [
       "['제주특별자치도', '제주시', '외도동', nan, '일주서로', '7350', '외도동', '주민센터']"
      ]
     },
     "execution_count": 787,
     "metadata": {},
     "output_type": "execute_result"
    }
   ],
   "source": [
    "pick_new_adrs_split[3][2] = '외도동'\n",
    "pick_new_adrs_split[3]"
   ]
  },
  {
   "cell_type": "code",
   "execution_count": 788,
   "metadata": {},
   "outputs": [
    {
     "data": {
      "text/plain": [
       "['전라남도', '여수시', '학동', nan, '168(시청로', '1번지)']"
      ]
     },
     "execution_count": 788,
     "metadata": {},
     "output_type": "execute_result"
    }
   ],
   "source": [
    "pick_new_adrs_split[4]"
   ]
  },
  {
   "cell_type": "code",
   "execution_count": 789,
   "metadata": {},
   "outputs": [
    {
     "data": {
      "text/plain": [
       "['전라남도', '여수시', '학동', nan, '시청로', '1번지)']"
      ]
     },
     "execution_count": 789,
     "metadata": {},
     "output_type": "execute_result"
    }
   ],
   "source": [
    "pick_new_adrs_split[4][4] = '시청로'\n",
    "pick_new_adrs_split[4]"
   ]
  },
  {
   "cell_type": "code",
   "execution_count": 790,
   "metadata": {},
   "outputs": [
    {
     "data": {
      "text/plain": [
       "['서울특별시', '마포구', '상암동', nan, '월드컵북로', '58길', '15', '지하4층', '18']"
      ]
     },
     "execution_count": 790,
     "metadata": {},
     "output_type": "execute_result"
    }
   ],
   "source": [
    "pick_new_adrs_split[5]"
   ]
  },
  {
   "cell_type": "code",
   "execution_count": 791,
   "metadata": {},
   "outputs": [
    {
     "data": {
      "text/plain": [
       "['서울특별시', '마포구', '상암동', nan, '월드컵북로58길', '15', '지하4층', '18']"
      ]
     },
     "execution_count": 791,
     "metadata": {},
     "output_type": "execute_result"
    }
   ],
   "source": [
    "pick_new_adrs_split[5][4] = '월드컵북로58길'\n",
    "del pick_new_adrs_split[5][5]\n",
    "pick_new_adrs_split[5]"
   ]
  },
  {
   "cell_type": "code",
   "execution_count": 792,
   "metadata": {},
   "outputs": [
    {
     "data": {
      "text/plain": [
       "['경상남도', '창원시 진해구', nan, nan, '용재로', '46', '웅동', '2동', '주민센터', '주차장', '내']"
      ]
     },
     "execution_count": 792,
     "metadata": {},
     "output_type": "execute_result"
    }
   ],
   "source": [
    "pick_new_adrs_split[6]"
   ]
  },
  {
   "cell_type": "code",
   "execution_count": 793,
   "metadata": {},
   "outputs": [
    {
     "data": {
      "text/plain": [
       "['경상남도', '창원시 진해구', '용원동', nan, '용재로', '46', '웅동', '2동', '주민센터', '주차장', '내']"
      ]
     },
     "execution_count": 793,
     "metadata": {},
     "output_type": "execute_result"
    }
   ],
   "source": [
    "pick_new_adrs_split[6][2] = '용원동'\n",
    "pick_new_adrs_split[6]"
   ]
  },
  {
   "cell_type": "code",
   "execution_count": 794,
   "metadata": {},
   "outputs": [
    {
     "data": {
      "text/plain": [
       "['울산광역시', '울주군', '언양읍', nan, '언동3길', '20 48']"
      ]
     },
     "execution_count": 794,
     "metadata": {},
     "output_type": "execute_result"
    }
   ],
   "source": [
    "pick_new_adrs_split[7]"
   ]
  },
  {
   "cell_type": "code",
   "execution_count": 795,
   "metadata": {},
   "outputs": [
    {
     "data": {
      "text/plain": [
       "['대전광역시', '중구', nan, nan, '중앙로', '100', '(대흥동', '499 1)']"
      ]
     },
     "execution_count": 795,
     "metadata": {},
     "output_type": "execute_result"
    }
   ],
   "source": [
    "pick_new_adrs_split[8]"
   ]
  },
  {
   "cell_type": "code",
   "execution_count": 796,
   "metadata": {},
   "outputs": [
    {
     "data": {
      "text/plain": [
       "['대전광역시', '중구', '대흥동', nan, '중앙로', '100', '(대흥동', '499 1)']"
      ]
     },
     "execution_count": 796,
     "metadata": {},
     "output_type": "execute_result"
    }
   ],
   "source": [
    "pick_new_adrs_split[8][2] = '대흥동'\n",
    "pick_new_adrs_split[8]"
   ]
  },
  {
   "cell_type": "code",
   "execution_count": 797,
   "metadata": {},
   "outputs": [
    {
     "data": {
      "text/plain": [
       "['서울특별시', '양천구', '목동', nan, '중앙본로', '120']"
      ]
     },
     "execution_count": 797,
     "metadata": {},
     "output_type": "execute_result"
    }
   ],
   "source": [
    "pick_new_adrs_split[9]"
   ]
  },
  {
   "cell_type": "code",
   "execution_count": 798,
   "metadata": {},
   "outputs": [
    {
     "data": {
      "text/plain": [
       "['경상북도', '구미시', '인동', nan, '14길', '14']"
      ]
     },
     "execution_count": 798,
     "metadata": {},
     "output_type": "execute_result"
    }
   ],
   "source": [
    "pick_new_adrs_split[10]"
   ]
  },
  {
   "cell_type": "code",
   "execution_count": 800,
   "metadata": {},
   "outputs": [
    {
     "data": {
      "text/plain": [
       "['경상북도', '구미시', '인동', nan, '인동14길', '14']"
      ]
     },
     "execution_count": 800,
     "metadata": {},
     "output_type": "execute_result"
    }
   ],
   "source": [
    "pick_new_adrs_split[10][4] = '인동14길'\n",
    "pick_new_adrs_split[10]"
   ]
  },
  {
   "cell_type": "code",
   "execution_count": 799,
   "metadata": {},
   "outputs": [
    {
     "data": {
      "text/plain": [
       "['충청남도', '당진시', '무수동', nan, '2길', '25 21']"
      ]
     },
     "execution_count": 799,
     "metadata": {},
     "output_type": "execute_result"
    }
   ],
   "source": [
    "pick_new_adrs_split[11]"
   ]
  },
  {
   "cell_type": "code",
   "execution_count": 801,
   "metadata": {},
   "outputs": [
    {
     "data": {
      "text/plain": [
       "['충청남도', '당진시', '무수동', nan, '무수동2길', '25 21']"
      ]
     },
     "execution_count": 801,
     "metadata": {},
     "output_type": "execute_result"
    }
   ],
   "source": [
    "pick_new_adrs_split[11][4] = '무수동2길'\n",
    "pick_new_adrs_split[11]"
   ]
  },
  {
   "cell_type": "code",
   "execution_count": 802,
   "metadata": {},
   "outputs": [
    {
     "data": {
      "text/plain": [
       "['대전광역시', '서구', nan, nan, '청사로', '189', '정부대전청사', '후생동', '지하주차장', '입구', '근처']"
      ]
     },
     "execution_count": 802,
     "metadata": {},
     "output_type": "execute_result"
    }
   ],
   "source": [
    "pick_new_adrs_split[12]"
   ]
  },
  {
   "cell_type": "code",
   "execution_count": 803,
   "metadata": {},
   "outputs": [
    {
     "data": {
      "text/plain": [
       "['대전광역시', '서구', '후생동', nan, '청사로', '189', '정부대전청사', '후생동', '지하주차장', '입구', '근처']"
      ]
     },
     "execution_count": 803,
     "metadata": {},
     "output_type": "execute_result"
    }
   ],
   "source": [
    "pick_new_adrs_split[12][2] = '후생동'\n",
    "pick_new_adrs_split[12]"
   ]
  },
  {
   "cell_type": "code",
   "execution_count": 804,
   "metadata": {},
   "outputs": [
    {
     "data": {
      "text/plain": [
       "['충청남도', '계룡시', '두마면', '팥거리', '2길', '14']"
      ]
     },
     "execution_count": 804,
     "metadata": {},
     "output_type": "execute_result"
    }
   ],
   "source": [
    "pick_new_adrs_split[13]"
   ]
  },
  {
   "cell_type": "code",
   "execution_count": 805,
   "metadata": {},
   "outputs": [
    {
     "data": {
      "text/plain": [
       "['충청남도', '계룡시', '두마면', '팥거리', '팥거리2길', '14']"
      ]
     },
     "execution_count": 805,
     "metadata": {},
     "output_type": "execute_result"
    }
   ],
   "source": [
    "pick_new_adrs_split[13][4] = '팥거리2길'\n",
    "pick_new_adrs_split[13]"
   ]
  },
  {
   "cell_type": "code",
   "execution_count": 806,
   "metadata": {},
   "outputs": [
    {
     "data": {
      "text/plain": [
       "['경상남도', '창원시 마산합포구', nan, nan, '신마산시장길', '33', '(창포동', '3가)']"
      ]
     },
     "execution_count": 806,
     "metadata": {},
     "output_type": "execute_result"
    }
   ],
   "source": [
    "pick_new_adrs_split[14]"
   ]
  },
  {
   "cell_type": "code",
   "execution_count": 807,
   "metadata": {},
   "outputs": [
    {
     "data": {
      "text/plain": [
       "['경상남도', '창원시 마산합포구', '창포동', nan, '신마산시장길', '33', '(창포동', '3가)']"
      ]
     },
     "execution_count": 807,
     "metadata": {},
     "output_type": "execute_result"
    }
   ],
   "source": [
    "pick_new_adrs_split[14][2] = '창포동'\n",
    "pick_new_adrs_split[14]"
   ]
  },
  {
   "cell_type": "code",
   "execution_count": 808,
   "metadata": {},
   "outputs": [
    {
     "data": {
      "text/plain": [
       "['경상북도', '성주군', '수륜면', nan, '가야산식물원길', '49', '(백운리', '1282 16)']"
      ]
     },
     "execution_count": 808,
     "metadata": {},
     "output_type": "execute_result"
    }
   ],
   "source": [
    "pick_new_adrs_split[15]"
   ]
  },
  {
   "cell_type": "code",
   "execution_count": 809,
   "metadata": {},
   "outputs": [
    {
     "data": {
      "text/plain": [
       "['경상북도', '성주군', '수륜면', '백운리', '가야산식물원길', '49', '(백운리', '1282 16)']"
      ]
     },
     "execution_count": 809,
     "metadata": {},
     "output_type": "execute_result"
    }
   ],
   "source": [
    "pick_new_adrs_split[15][3] = '백운리'\n",
    "pick_new_adrs_split[15]"
   ]
  },
  {
   "cell_type": "code",
   "execution_count": 810,
   "metadata": {},
   "outputs": [
    {
     "data": {
      "text/plain": [
       "['경기도', '양평군', '양동면', '단석리', '513 2', '(여양3로', '384 27)']"
      ]
     },
     "execution_count": 810,
     "metadata": {},
     "output_type": "execute_result"
    }
   ],
   "source": [
    "pick_new_adrs_split[16]"
   ]
  },
  {
   "cell_type": "code",
   "execution_count": 811,
   "metadata": {},
   "outputs": [
    {
     "data": {
      "text/plain": [
       "['경기도', '양평군', '양동면', '단석리', '여양3로', '(여양3로', '384 27)']"
      ]
     },
     "execution_count": 811,
     "metadata": {},
     "output_type": "execute_result"
    }
   ],
   "source": [
    "pick_new_adrs_split[16][4] = '여양3로'\n",
    "pick_new_adrs_split[16]"
   ]
  },
  {
   "cell_type": "code",
   "execution_count": 813,
   "metadata": {},
   "outputs": [
    {
     "data": {
      "text/plain": [
       "['충청북도', '단양군', '적성면', nan, '기동2길', '32 37', '(기동리)']"
      ]
     },
     "execution_count": 813,
     "metadata": {},
     "output_type": "execute_result"
    }
   ],
   "source": [
    "pick_new_adrs_split[17]"
   ]
  },
  {
   "cell_type": "code",
   "execution_count": 814,
   "metadata": {},
   "outputs": [
    {
     "data": {
      "text/plain": [
       "['충청북도', '단양군', '적성면', '기동리', '기동2길', '32 37', '(기동리)']"
      ]
     },
     "execution_count": 814,
     "metadata": {},
     "output_type": "execute_result"
    }
   ],
   "source": [
    "pick_new_adrs_split[17][3] = '기동리'\n",
    "pick_new_adrs_split[17]"
   ]
  },
  {
   "cell_type": "code",
   "execution_count": 815,
   "metadata": {},
   "outputs": [
    {
     "data": {
      "text/plain": [
       "['경상남도', '함양군', '함양읍', nan, '고운로', '161 51', '(신관리', '820 10)']"
      ]
     },
     "execution_count": 815,
     "metadata": {},
     "output_type": "execute_result"
    }
   ],
   "source": [
    "pick_new_adrs_split[18]"
   ]
  },
  {
   "cell_type": "code",
   "execution_count": 816,
   "metadata": {},
   "outputs": [
    {
     "data": {
      "text/plain": [
       "['경상남도', '함양군', '함양읍', '신관리', '고운로', '161 51', '(신관리', '820 10)']"
      ]
     },
     "execution_count": 816,
     "metadata": {},
     "output_type": "execute_result"
    }
   ],
   "source": [
    "pick_new_adrs_split[18][3] = '신관리'\n",
    "pick_new_adrs_split[18]"
   ]
  },
  {
   "cell_type": "code",
   "execution_count": 817,
   "metadata": {},
   "outputs": [
    {
     "data": {
      "text/plain": [
       "['충청남도', '아산시', nan, nan, '충무로', '25(온천동', '94 10)', '1층']"
      ]
     },
     "execution_count": 817,
     "metadata": {},
     "output_type": "execute_result"
    }
   ],
   "source": [
    "pick_new_adrs_split[19]"
   ]
  },
  {
   "cell_type": "code",
   "execution_count": 818,
   "metadata": {},
   "outputs": [
    {
     "data": {
      "text/plain": [
       "['충청남도', '아산시', '온천동', nan, '충무로', '25(온천동', '94 10)', '1층']"
      ]
     },
     "execution_count": 818,
     "metadata": {},
     "output_type": "execute_result"
    }
   ],
   "source": [
    "pick_new_adrs_split[19][2] = '온천동'\n",
    "pick_new_adrs_split[19]"
   ]
  },
  {
   "cell_type": "code",
   "execution_count": 819,
   "metadata": {},
   "outputs": [
    {
     "data": {
      "text/plain": [
       "['경상남도', '창원시 의창구', nan, nan, '중앙대로', '178(신월동', '97 1)']"
      ]
     },
     "execution_count": 819,
     "metadata": {},
     "output_type": "execute_result"
    }
   ],
   "source": [
    "pick_new_adrs_split[20]"
   ]
  },
  {
   "cell_type": "code",
   "execution_count": 820,
   "metadata": {},
   "outputs": [
    {
     "data": {
      "text/plain": [
       "['경상남도', '창원시 의창구', '신월동', nan, '중앙대로', '178(신월동', '97 1)']"
      ]
     },
     "execution_count": 820,
     "metadata": {},
     "output_type": "execute_result"
    }
   ],
   "source": [
    "pick_new_adrs_split[20][2] = '신월동'\n",
    "pick_new_adrs_split[20]"
   ]
  },
  {
   "cell_type": "code",
   "execution_count": 821,
   "metadata": {},
   "outputs": [
    {
     "data": {
      "text/plain": [
       "['경기도', '남양주시', '화도읍', nan, '묵현로', '91', '천마산군립공원', '공영주차장', '(묵현리', '211 2)']"
      ]
     },
     "execution_count": 821,
     "metadata": {},
     "output_type": "execute_result"
    }
   ],
   "source": [
    "pick_new_adrs_split[21]"
   ]
  },
  {
   "cell_type": "code",
   "execution_count": 822,
   "metadata": {},
   "outputs": [
    {
     "data": {
      "text/plain": [
       "['경기도',\n",
       " '남양주시',\n",
       " '화도읍',\n",
       " '묵현리',\n",
       " '묵현로',\n",
       " '91',\n",
       " '천마산군립공원',\n",
       " '공영주차장',\n",
       " '(묵현리',\n",
       " '211 2)']"
      ]
     },
     "execution_count": 822,
     "metadata": {},
     "output_type": "execute_result"
    }
   ],
   "source": [
    "pick_new_adrs_split[21][3] = '묵현리'\n",
    "pick_new_adrs_split[21]"
   ]
  },
  {
   "cell_type": "code",
   "execution_count": 823,
   "metadata": {},
   "outputs": [
    {
     "data": {
      "text/plain": [
       "['서울특별시', '종로구', '인사동', nan, '5길', '29', '지상주차장']"
      ]
     },
     "execution_count": 823,
     "metadata": {},
     "output_type": "execute_result"
    }
   ],
   "source": [
    "pick_new_adrs_split[22]"
   ]
  },
  {
   "cell_type": "code",
   "execution_count": 824,
   "metadata": {},
   "outputs": [
    {
     "data": {
      "text/plain": [
       "['서울특별시', '종로구', '인사동', nan, '인사동5길', '29', '지상주차장']"
      ]
     },
     "execution_count": 824,
     "metadata": {},
     "output_type": "execute_result"
    }
   ],
   "source": [
    "pick_new_adrs_split[22][4] = '인사동5길'\n",
    "pick_new_adrs_split[22]"
   ]
  },
  {
   "cell_type": "code",
   "execution_count": 825,
   "metadata": {},
   "outputs": [
    {
     "data": {
      "text/plain": [
       "['전라북도', '남원시', '향교동', nan, '춘향로', '96', '(향교동)']"
      ]
     },
     "execution_count": 825,
     "metadata": {},
     "output_type": "execute_result"
    }
   ],
   "source": [
    "pick_new_adrs_split[23]"
   ]
  },
  {
   "cell_type": "code",
   "execution_count": 826,
   "metadata": {},
   "outputs": [
    {
     "data": {
      "text/plain": [
       "['충청북도', '청주시 서원구', '현도면', nan, '선동1길', '9']"
      ]
     },
     "execution_count": 826,
     "metadata": {},
     "output_type": "execute_result"
    }
   ],
   "source": [
    "pick_new_adrs_split[24]"
   ]
  },
  {
   "cell_type": "code",
   "execution_count": 827,
   "metadata": {},
   "outputs": [
    {
     "data": {
      "text/plain": [
       "['강원도', '삼척시', '당저동', nan, '1길', '17 9']"
      ]
     },
     "execution_count": 827,
     "metadata": {},
     "output_type": "execute_result"
    }
   ],
   "source": [
    "pick_new_adrs_split[25]"
   ]
  },
  {
   "cell_type": "code",
   "execution_count": 828,
   "metadata": {},
   "outputs": [
    {
     "data": {
      "text/plain": [
       "['강원도', '삼척시', '당저동', nan, '당저동1길', '17 9']"
      ]
     },
     "execution_count": 828,
     "metadata": {},
     "output_type": "execute_result"
    }
   ],
   "source": [
    "pick_new_adrs_split[25][4] = '당저동1길'\n",
    "pick_new_adrs_split[25]"
   ]
  },
  {
   "cell_type": "code",
   "execution_count": 829,
   "metadata": {},
   "outputs": [
    {
     "data": {
      "text/plain": [
       "['울산광역시', '남구', nan, nan, '남부순환도로', '209', '숙소동', '앞']"
      ]
     },
     "execution_count": 829,
     "metadata": {},
     "output_type": "execute_result"
    }
   ],
   "source": [
    "pick_new_adrs_split[26]"
   ]
  },
  {
   "cell_type": "code",
   "execution_count": 833,
   "metadata": {},
   "outputs": [
    {
     "data": {
      "text/plain": [
       "['울산광역시', '남구', '숙소동', nan, '남부순환도로', '209', '숙소동', '앞']"
      ]
     },
     "execution_count": 833,
     "metadata": {},
     "output_type": "execute_result"
    }
   ],
   "source": [
    "pick_new_adrs_split[26][2] = '숙소동'\n",
    "pick_new_adrs_split[26]"
   ]
  },
  {
   "cell_type": "code",
   "execution_count": 834,
   "metadata": {},
   "outputs": [
    {
     "data": {
      "text/plain": [
       "['충청북도',\n",
       " '청주시 흥덕구',\n",
       " '오송읍',\n",
       " '봉산리',\n",
       " '370 1',\n",
       " 'KTX',\n",
       " '오송역',\n",
       " '공영주차장',\n",
       " 'A출구',\n",
       " '바로',\n",
       " '옆(지상)']"
      ]
     },
     "execution_count": 834,
     "metadata": {},
     "output_type": "execute_result"
    }
   ],
   "source": [
    "pick_new_adrs_split[27]"
   ]
  },
  {
   "cell_type": "code",
   "execution_count": 835,
   "metadata": {},
   "outputs": [
    {
     "data": {
      "text/plain": [
       "['전라남도', '고흥군', '점암면', '성기리', '능가사로', '386 2']"
      ]
     },
     "execution_count": 835,
     "metadata": {},
     "output_type": "execute_result"
    }
   ],
   "source": [
    "pick_new_adrs_split[28]"
   ]
  },
  {
   "cell_type": "code",
   "execution_count": 836,
   "metadata": {},
   "outputs": [
    {
     "data": {
      "text/plain": [
       "['서울특별시', '금천구', nan, nan, '범안로12가길', '65', '독산1동', '공영주차장', '옥상']"
      ]
     },
     "execution_count": 836,
     "metadata": {},
     "output_type": "execute_result"
    }
   ],
   "source": [
    "pick_new_adrs_split[29]"
   ]
  },
  {
   "cell_type": "code",
   "execution_count": 837,
   "metadata": {},
   "outputs": [
    {
     "data": {
      "text/plain": [
       "['서울특별시', '금천구', '독산1동', nan, '범안로12가길', '65', '독산1동', '공영주차장', '옥상']"
      ]
     },
     "execution_count": 837,
     "metadata": {},
     "output_type": "execute_result"
    }
   ],
   "source": [
    "pick_new_adrs_split[29][2] = '독산1동'\n",
    "pick_new_adrs_split[29]"
   ]
  },
  {
   "cell_type": "code",
   "execution_count": 839,
   "metadata": {},
   "outputs": [
    {
     "data": {
      "text/plain": [
       "['충청북도',\n",
       " '제천시',\n",
       " nan,\n",
       " nan,\n",
       " '내토로',\n",
       " '295',\n",
       " '건설',\n",
       " '민원봉사실',\n",
       " '옆',\n",
       " '제2주차장',\n",
       " '입구',\n",
       " '왼쪽(천남동',\n",
       " '12 2)']"
      ]
     },
     "execution_count": 839,
     "metadata": {},
     "output_type": "execute_result"
    }
   ],
   "source": [
    "pick_new_adrs_split[30]"
   ]
  },
  {
   "cell_type": "code",
   "execution_count": 840,
   "metadata": {},
   "outputs": [
    {
     "data": {
      "text/plain": [
       "['충청북도',\n",
       " '제천시',\n",
       " '천남동',\n",
       " nan,\n",
       " '내토로',\n",
       " '295',\n",
       " '건설',\n",
       " '민원봉사실',\n",
       " '옆',\n",
       " '제2주차장',\n",
       " '입구',\n",
       " '왼쪽(천남동',\n",
       " '12 2)']"
      ]
     },
     "execution_count": 840,
     "metadata": {},
     "output_type": "execute_result"
    }
   ],
   "source": [
    "pick_new_adrs_split[30][2] = '천남동'\n",
    "pick_new_adrs_split[30]"
   ]
  },
  {
   "cell_type": "code",
   "execution_count": 841,
   "metadata": {},
   "outputs": [
    {
     "data": {
      "text/plain": [
       "['경상북도', '영주시', '본현면', nan, '소백로', '1809']"
      ]
     },
     "execution_count": 841,
     "metadata": {},
     "output_type": "execute_result"
    }
   ],
   "source": [
    "pick_new_adrs_split[31]"
   ]
  },
  {
   "cell_type": "code",
   "execution_count": 842,
   "metadata": {},
   "outputs": [
    {
     "data": {
      "text/plain": [
       "['경상남도', '창원시 마산회원구', '석전동', nan, '4길', '52']"
      ]
     },
     "execution_count": 842,
     "metadata": {},
     "output_type": "execute_result"
    }
   ],
   "source": [
    "pick_new_adrs_split[32]"
   ]
  },
  {
   "cell_type": "code",
   "execution_count": 843,
   "metadata": {},
   "outputs": [
    {
     "data": {
      "text/plain": [
       "['경상남도', '창원시 마산회원구', '석전동', nan, '석전동4길', '52']"
      ]
     },
     "execution_count": 843,
     "metadata": {},
     "output_type": "execute_result"
    }
   ],
   "source": [
    "pick_new_adrs_split[32][4] = '석전동4길'\n",
    "pick_new_adrs_split[32]"
   ]
  },
  {
   "cell_type": "code",
   "execution_count": 844,
   "metadata": {},
   "outputs": [
    {
     "data": {
      "text/plain": [
       "['경상남도', '사천시', '용현면', nan, '시청로', '77', '(덕곡리', '501)']"
      ]
     },
     "execution_count": 844,
     "metadata": {},
     "output_type": "execute_result"
    }
   ],
   "source": [
    "pick_new_adrs_split[33]"
   ]
  },
  {
   "cell_type": "code",
   "execution_count": 845,
   "metadata": {},
   "outputs": [
    {
     "data": {
      "text/plain": [
       "['경상남도', '사천시', '용현면', '덕곡리', '시청로', '77', '(덕곡리', '501)']"
      ]
     },
     "execution_count": 845,
     "metadata": {},
     "output_type": "execute_result"
    }
   ],
   "source": [
    "pick_new_adrs_split[33][3] = '덕곡리'\n",
    "pick_new_adrs_split[33]"
   ]
  },
  {
   "cell_type": "code",
   "execution_count": 846,
   "metadata": {},
   "outputs": [
    {
     "data": {
      "text/plain": [
       "['경상남도', '함양군', '함양읍', nan, '함양남서로', '996 166']"
      ]
     },
     "execution_count": 846,
     "metadata": {},
     "output_type": "execute_result"
    }
   ],
   "source": [
    "pick_new_adrs_split[34]"
   ]
  },
  {
   "cell_type": "code",
   "execution_count": 847,
   "metadata": {},
   "outputs": [
    {
     "data": {
      "text/plain": [
       "['강원도', '강릉시', '홍제동', nan, '강릉대로', '33']"
      ]
     },
     "execution_count": 847,
     "metadata": {},
     "output_type": "execute_result"
    }
   ],
   "source": [
    "pick_new_adrs_split[35]"
   ]
  },
  {
   "cell_type": "code",
   "execution_count": 848,
   "metadata": {},
   "outputs": [
    {
     "data": {
      "text/plain": [
       "['전라북도', '전주시 덕진구', nan, nan, '가련산로', '26 3', '(송천동', '1가)']"
      ]
     },
     "execution_count": 848,
     "metadata": {},
     "output_type": "execute_result"
    }
   ],
   "source": [
    "pick_new_adrs_split[36]"
   ]
  },
  {
   "cell_type": "code",
   "execution_count": 849,
   "metadata": {},
   "outputs": [
    {
     "data": {
      "text/plain": [
       "['전라북도', '전주시 덕진구', '송천동1가', nan, '가련산로', '26 3', '(송천동', '1가)']"
      ]
     },
     "execution_count": 849,
     "metadata": {},
     "output_type": "execute_result"
    }
   ],
   "source": [
    "pick_new_adrs_split[36][2] = '송천동1가'\n",
    "pick_new_adrs_split[36]"
   ]
  },
  {
   "cell_type": "code",
   "execution_count": 851,
   "metadata": {},
   "outputs": [
    {
     "data": {
      "text/plain": [
       "['전라남도', '여수시', '삼동', nan, '3길', '13']"
      ]
     },
     "execution_count": 851,
     "metadata": {},
     "output_type": "execute_result"
    }
   ],
   "source": [
    "pick_new_adrs_split[37]"
   ]
  },
  {
   "cell_type": "code",
   "execution_count": 852,
   "metadata": {},
   "outputs": [
    {
     "data": {
      "text/plain": [
       "['전라남도', '여수시', '삼동', nan, '삼동3길', '13']"
      ]
     },
     "execution_count": 852,
     "metadata": {},
     "output_type": "execute_result"
    }
   ],
   "source": [
    "pick_new_adrs_split[37][4] = '삼동3길'\n",
    "pick_new_adrs_split[37]"
   ]
  },
  {
   "cell_type": "code",
   "execution_count": 853,
   "metadata": {},
   "outputs": [
    {
     "data": {
      "text/plain": [
       "['경상북도', '의성군', '안계면', '양곡리', '새못안길', '45 49']"
      ]
     },
     "execution_count": 853,
     "metadata": {},
     "output_type": "execute_result"
    }
   ],
   "source": [
    "pick_new_adrs_split[38]"
   ]
  },
  {
   "cell_type": "code",
   "execution_count": 854,
   "metadata": {},
   "outputs": [
    {
     "data": {
      "text/plain": [
       "['경상남도', '고성군', '거류면', nan, '당동3길', '5']"
      ]
     },
     "execution_count": 854,
     "metadata": {},
     "output_type": "execute_result"
    }
   ],
   "source": [
    "pick_new_adrs_split[39]"
   ]
  },
  {
   "cell_type": "code",
   "execution_count": 855,
   "metadata": {},
   "outputs": [
    {
     "data": {
      "text/plain": [
       "['충청남도', '보령시', '대천동', nan, '중앙로', '236']"
      ]
     },
     "execution_count": 855,
     "metadata": {},
     "output_type": "execute_result"
    }
   ],
   "source": [
    "pick_new_adrs_split[40]"
   ]
  },
  {
   "cell_type": "code",
   "execution_count": 856,
   "metadata": {},
   "outputs": [
    {
     "data": {
      "text/plain": [
       "['전라남도', '여수시', '학동', nan, '2길', '7']"
      ]
     },
     "execution_count": 856,
     "metadata": {},
     "output_type": "execute_result"
    }
   ],
   "source": [
    "pick_new_adrs_split[41]"
   ]
  },
  {
   "cell_type": "code",
   "execution_count": 859,
   "metadata": {},
   "outputs": [
    {
     "data": {
      "text/plain": [
       "['전라남도', '여수시', '학동', nan, '학동2길', '7']"
      ]
     },
     "execution_count": 859,
     "metadata": {},
     "output_type": "execute_result"
    }
   ],
   "source": [
    "pick_new_adrs_split[41][4] = '학동2길'\n",
    "pick_new_adrs_split[41]"
   ]
  },
  {
   "cell_type": "code",
   "execution_count": 860,
   "metadata": {},
   "outputs": [
    {
     "data": {
      "text/plain": [
       "['전라남도', '영암군', '신북면', nan, '황금동1길', '5 1']"
      ]
     },
     "execution_count": 860,
     "metadata": {},
     "output_type": "execute_result"
    }
   ],
   "source": [
    "pick_new_adrs_split[42]"
   ]
  },
  {
   "cell_type": "code",
   "execution_count": 861,
   "metadata": {},
   "outputs": [
    {
     "data": {
      "text/plain": [
       "['충청북도', '청주시 서원구', '현도면', nan, '선동2길', '232 9']"
      ]
     },
     "execution_count": 861,
     "metadata": {},
     "output_type": "execute_result"
    }
   ],
   "source": [
    "pick_new_adrs_split[43]"
   ]
  },
  {
   "cell_type": "code",
   "execution_count": 862,
   "metadata": {},
   "outputs": [
    {
     "data": {
      "text/plain": [
       "['충청북도', '단양군', '적성면', nan, '기동2길', '32 37']"
      ]
     },
     "execution_count": 862,
     "metadata": {},
     "output_type": "execute_result"
    }
   ],
   "source": [
    "pick_new_adrs_split[44]"
   ]
  },
  {
   "cell_type": "code",
   "execution_count": 863,
   "metadata": {},
   "outputs": [
    {
     "data": {
      "text/plain": [
       "['전라남도', '여수시', '관문동', nan, '1길', '39']"
      ]
     },
     "execution_count": 863,
     "metadata": {},
     "output_type": "execute_result"
    }
   ],
   "source": [
    "pick_new_adrs_split[45]"
   ]
  },
  {
   "cell_type": "code",
   "execution_count": 864,
   "metadata": {},
   "outputs": [
    {
     "data": {
      "text/plain": [
       "['경상남도', '김해시', '진영읍', '하계리', '96번길', '68']"
      ]
     },
     "execution_count": 864,
     "metadata": {},
     "output_type": "execute_result"
    }
   ],
   "source": [
    "pick_new_adrs_split[46]"
   ]
  },
  {
   "cell_type": "code",
   "execution_count": 868,
   "metadata": {},
   "outputs": [
    {
     "data": {
      "text/plain": [
       "['경상남도', '김해시', '진영읍', '하계리', '하계로96번길', '68']"
      ]
     },
     "execution_count": 868,
     "metadata": {},
     "output_type": "execute_result"
    }
   ],
   "source": [
    "pick_new_adrs_split[46][4] = '하계로96번길'\n",
    "pick_new_adrs_split[46]"
   ]
  },
  {
   "cell_type": "code",
   "execution_count": 866,
   "metadata": {},
   "outputs": [
    {
     "data": {
      "text/plain": [
       "['제주특별자치도', '제주시', '조천읍', '교래리', '남조로', '2023']"
      ]
     },
     "execution_count": 866,
     "metadata": {},
     "output_type": "execute_result"
    }
   ],
   "source": [
    "pick_new_adrs_split[47]"
   ]
  },
  {
   "cell_type": "markdown",
   "metadata": {},
   "source": [
    "##### 27번 구주소 제거"
   ]
  },
  {
   "cell_type": "code",
   "execution_count": 869,
   "metadata": {},
   "outputs": [
    {
     "data": {
      "text/plain": [
       "['충청북도',\n",
       " '청주시 흥덕구',\n",
       " '오송읍',\n",
       " '봉산리',\n",
       " '370 1',\n",
       " 'KTX',\n",
       " '오송역',\n",
       " '공영주차장',\n",
       " 'A출구',\n",
       " '바로',\n",
       " '옆(지상)']"
      ]
     },
     "execution_count": 869,
     "metadata": {},
     "output_type": "execute_result"
    }
   ],
   "source": [
    "pick_new_adrs_split[27]"
   ]
  },
  {
   "cell_type": "code",
   "execution_count": 870,
   "metadata": {},
   "outputs": [
    {
     "data": {
      "text/plain": [
       "[['울산광역시', '북구', '연암동', nan, '산업로', '1010', '북구청'],\n",
       " ['제주특별자치도', '제주시', '건입동', nan, '만덕로', '18', '건입동', '주민센터'],\n",
       " ['세종특별자치시',\n",
       "  nan,\n",
       "  '나성동',\n",
       "  nan,\n",
       "  '나성남로',\n",
       "  '7 7',\n",
       "  'BRT환승센터',\n",
       "  'B주차장',\n",
       "  'B1',\n",
       "  '(나성동',\n",
       "  '531)'],\n",
       " ['제주특별자치도', '제주시', '외도동', nan, '일주서로', '7350', '외도동', '주민센터'],\n",
       " ['전라남도', '여수시', '학동', nan, '시청로', '1번지)'],\n",
       " ['서울특별시', '마포구', '상암동', nan, '월드컵북로58길', '15', '지하4층', '18'],\n",
       " ['경상남도', '창원시 진해구', '용원동', nan, '용재로', '46', '웅동', '2동', '주민센터', '주차장', '내'],\n",
       " ['울산광역시', '울주군', '언양읍', nan, '언동3길', '20 48'],\n",
       " ['대전광역시', '중구', '대흥동', nan, '중앙로', '100', '(대흥동', '499 1)'],\n",
       " ['서울특별시', '양천구', '목동', nan, '중앙본로', '120'],\n",
       " ['경상북도', '구미시', '인동', nan, '인동14길', '14'],\n",
       " ['충청남도', '당진시', '무수동', nan, '무수동2길', '25 21'],\n",
       " ['대전광역시',\n",
       "  '서구',\n",
       "  '후생동',\n",
       "  nan,\n",
       "  '청사로',\n",
       "  '189',\n",
       "  '정부대전청사',\n",
       "  '후생동',\n",
       "  '지하주차장',\n",
       "  '입구',\n",
       "  '근처'],\n",
       " ['충청남도', '계룡시', '두마면', '팥거리', '팥거리2길', '14'],\n",
       " ['경상남도', '창원시 마산합포구', '창포동', nan, '신마산시장길', '33', '(창포동', '3가)'],\n",
       " ['경상북도', '성주군', '수륜면', '백운리', '가야산식물원길', '49', '(백운리', '1282 16)'],\n",
       " ['경기도', '양평군', '양동면', '단석리', '여양3로', '(여양3로', '384 27)'],\n",
       " ['충청북도', '단양군', '적성면', '기동리', '기동2길', '32 37', '(기동리)'],\n",
       " ['경상남도', '함양군', '함양읍', '신관리', '고운로', '161 51', '(신관리', '820 10)'],\n",
       " ['충청남도', '아산시', '온천동', nan, '충무로', '25(온천동', '94 10)', '1층'],\n",
       " ['경상남도', '창원시 의창구', '신월동', nan, '중앙대로', '178(신월동', '97 1)'],\n",
       " ['경기도',\n",
       "  '남양주시',\n",
       "  '화도읍',\n",
       "  '묵현리',\n",
       "  '묵현로',\n",
       "  '91',\n",
       "  '천마산군립공원',\n",
       "  '공영주차장',\n",
       "  '(묵현리',\n",
       "  '211 2)'],\n",
       " ['서울특별시', '종로구', '인사동', nan, '인사동5길', '29', '지상주차장'],\n",
       " ['전라북도', '남원시', '향교동', nan, '춘향로', '96', '(향교동)'],\n",
       " ['충청북도', '청주시 서원구', '현도면', nan, '선동1길', '9'],\n",
       " ['강원도', '삼척시', '당저동', nan, '당저동1길', '17 9'],\n",
       " ['울산광역시', '남구', '숙소동', nan, '남부순환도로', '209', '숙소동', '앞'],\n",
       " ['전라남도', '고흥군', '점암면', '성기리', '능가사로', '386 2'],\n",
       " ['서울특별시', '금천구', '독산1동', nan, '범안로12가길', '65', '독산1동', '공영주차장', '옥상'],\n",
       " ['충청북도',\n",
       "  '제천시',\n",
       "  '천남동',\n",
       "  nan,\n",
       "  '내토로',\n",
       "  '295',\n",
       "  '건설',\n",
       "  '민원봉사실',\n",
       "  '옆',\n",
       "  '제2주차장',\n",
       "  '입구',\n",
       "  '왼쪽(천남동',\n",
       "  '12 2)'],\n",
       " ['경상북도', '영주시', '본현면', nan, '소백로', '1809'],\n",
       " ['경상남도', '창원시 마산회원구', '석전동', nan, '석전동4길', '52'],\n",
       " ['경상남도', '사천시', '용현면', '덕곡리', '시청로', '77', '(덕곡리', '501)'],\n",
       " ['경상남도', '함양군', '함양읍', nan, '함양남서로', '996 166'],\n",
       " ['강원도', '강릉시', '홍제동', nan, '강릉대로', '33'],\n",
       " ['전라북도', '전주시 덕진구', '송천동1가', nan, '가련산로', '26 3', '(송천동', '1가)'],\n",
       " ['전라남도', '여수시', '삼동', nan, '삼동3길', '13'],\n",
       " ['경상북도', '의성군', '안계면', '양곡리', '새못안길', '45 49'],\n",
       " ['경상남도', '고성군', '거류면', nan, '당동3길', '5'],\n",
       " ['충청남도', '보령시', '대천동', nan, '중앙로', '236'],\n",
       " ['전라남도', '여수시', '학동', nan, '학동2길', '7'],\n",
       " ['전라남도', '영암군', '신북면', nan, '황금동1길', '5 1'],\n",
       " ['충청북도', '청주시 서원구', '현도면', nan, '선동2길', '232 9'],\n",
       " ['충청북도', '단양군', '적성면', nan, '기동2길', '32 37'],\n",
       " ['전라남도', '여수시', '관문동', nan, '1길', '39'],\n",
       " ['경상남도', '김해시', '진영읍', '하계리', '하계로96번길', '68'],\n",
       " ['제주특별자치도', '제주시', '조천읍', '교래리', '남조로', '2023']]"
      ]
     },
     "execution_count": 870,
     "metadata": {},
     "output_type": "execute_result"
    }
   ],
   "source": [
    "del pick_new_adrs_split[27]\n",
    "pick_new_adrs_split"
   ]
  },
  {
   "cell_type": "code",
   "execution_count": 871,
   "metadata": {},
   "outputs": [],
   "source": [
    "sliced_pick_new_adrs = [one[:5] for one in pick_new_adrs_split]"
   ]
  },
  {
   "cell_type": "markdown",
   "metadata": {},
   "source": [
    "##### df 출력"
   ]
  },
  {
   "cell_type": "code",
   "execution_count": 872,
   "metadata": {},
   "outputs": [
    {
     "data": {
      "text/html": [
       "<div>\n",
       "<style scoped>\n",
       "    .dataframe tbody tr th:only-of-type {\n",
       "        vertical-align: middle;\n",
       "    }\n",
       "\n",
       "    .dataframe tbody tr th {\n",
       "        vertical-align: top;\n",
       "    }\n",
       "\n",
       "    .dataframe thead th {\n",
       "        text-align: right;\n",
       "    }\n",
       "</style>\n",
       "<table border=\"1\" class=\"dataframe\">\n",
       "  <thead>\n",
       "    <tr style=\"text-align: right;\">\n",
       "      <th></th>\n",
       "      <th>지역</th>\n",
       "      <th>시군구</th>\n",
       "      <th>읍면동</th>\n",
       "      <th>리</th>\n",
       "      <th>도로명</th>\n",
       "    </tr>\n",
       "  </thead>\n",
       "  <tbody>\n",
       "    <tr>\n",
       "      <th>0</th>\n",
       "      <td>울산광역시</td>\n",
       "      <td>북구</td>\n",
       "      <td>연암동</td>\n",
       "      <td>NaN</td>\n",
       "      <td>산업로</td>\n",
       "    </tr>\n",
       "    <tr>\n",
       "      <th>1</th>\n",
       "      <td>제주특별자치도</td>\n",
       "      <td>제주시</td>\n",
       "      <td>건입동</td>\n",
       "      <td>NaN</td>\n",
       "      <td>만덕로</td>\n",
       "    </tr>\n",
       "    <tr>\n",
       "      <th>2</th>\n",
       "      <td>세종특별자치시</td>\n",
       "      <td>NaN</td>\n",
       "      <td>나성동</td>\n",
       "      <td>NaN</td>\n",
       "      <td>나성남로</td>\n",
       "    </tr>\n",
       "    <tr>\n",
       "      <th>3</th>\n",
       "      <td>제주특별자치도</td>\n",
       "      <td>제주시</td>\n",
       "      <td>외도동</td>\n",
       "      <td>NaN</td>\n",
       "      <td>일주서로</td>\n",
       "    </tr>\n",
       "    <tr>\n",
       "      <th>4</th>\n",
       "      <td>전라남도</td>\n",
       "      <td>여수시</td>\n",
       "      <td>학동</td>\n",
       "      <td>NaN</td>\n",
       "      <td>시청로</td>\n",
       "    </tr>\n",
       "  </tbody>\n",
       "</table>\n",
       "</div>"
      ],
      "text/plain": [
       "        지역  시군구  읍면동    리   도로명\n",
       "0    울산광역시   북구  연암동  NaN   산업로\n",
       "1  제주특별자치도  제주시  건입동  NaN   만덕로\n",
       "2  세종특별자치시  NaN  나성동  NaN  나성남로\n",
       "3  제주특별자치도  제주시  외도동  NaN  일주서로\n",
       "4     전라남도  여수시   학동  NaN   시청로"
      ]
     },
     "execution_count": 872,
     "metadata": {},
     "output_type": "execute_result"
    }
   ],
   "source": [
    "pick_new_adr_df = pd.DataFrame(sliced_pick_new_adrs, columns=['지역', '시군구', '읍면동', '리', '도로명'])\n",
    "pick_new_adr_df.head()"
   ]
  },
  {
   "cell_type": "code",
   "execution_count": 873,
   "metadata": {},
   "outputs": [
    {
     "data": {
      "text/plain": [
       "numpy.ndarray"
      ]
     },
     "execution_count": 873,
     "metadata": {},
     "output_type": "execute_result"
    }
   ],
   "source": [
    "type(pick_new_adrs)"
   ]
  },
  {
   "cell_type": "code",
   "execution_count": 874,
   "metadata": {},
   "outputs": [
    {
     "data": {
      "text/plain": [
       "'충청북도 청주시 흥덕구 오송읍 봉산리 370-1 KTX 오송역 공영주차장 A출구 바로 옆(지상)'"
      ]
     },
     "execution_count": 874,
     "metadata": {},
     "output_type": "execute_result"
    }
   ],
   "source": [
    "pick_new_adrs[27]"
   ]
  },
  {
   "cell_type": "code",
   "execution_count": 875,
   "metadata": {},
   "outputs": [],
   "source": [
    "mod_pick_new_adrs = np.delete(pick_new_adrs, 27)"
   ]
  },
  {
   "cell_type": "code",
   "execution_count": 876,
   "metadata": {},
   "outputs": [
    {
     "data": {
      "text/plain": [
       "'전라남도 고흥군 점암면 성기리 능가사로 386-2'"
      ]
     },
     "execution_count": 876,
     "metadata": {},
     "output_type": "execute_result"
    }
   ],
   "source": [
    "mod_pick_new_adrs[27]"
   ]
  },
  {
   "cell_type": "code",
   "execution_count": 877,
   "metadata": {},
   "outputs": [
    {
     "data": {
      "text/plain": [
       "47"
      ]
     },
     "execution_count": 877,
     "metadata": {},
     "output_type": "execute_result"
    }
   ],
   "source": [
    "len(mod_pick_new_adrs)"
   ]
  },
  {
   "cell_type": "code",
   "execution_count": 878,
   "metadata": {},
   "outputs": [
    {
     "data": {
      "text/html": [
       "<div>\n",
       "<style scoped>\n",
       "    .dataframe tbody tr th:only-of-type {\n",
       "        vertical-align: middle;\n",
       "    }\n",
       "\n",
       "    .dataframe tbody tr th {\n",
       "        vertical-align: top;\n",
       "    }\n",
       "\n",
       "    .dataframe thead th {\n",
       "        text-align: right;\n",
       "    }\n",
       "</style>\n",
       "<table border=\"1\" class=\"dataframe\">\n",
       "  <thead>\n",
       "    <tr style=\"text-align: right;\">\n",
       "      <th></th>\n",
       "      <th>지역</th>\n",
       "      <th>시군구</th>\n",
       "      <th>읍면동</th>\n",
       "      <th>리</th>\n",
       "      <th>도로명</th>\n",
       "      <th>주소</th>\n",
       "    </tr>\n",
       "  </thead>\n",
       "  <tbody>\n",
       "    <tr>\n",
       "      <th>0</th>\n",
       "      <td>울산광역시</td>\n",
       "      <td>북구</td>\n",
       "      <td>연암동</td>\n",
       "      <td>NaN</td>\n",
       "      <td>산업로</td>\n",
       "      <td>울산광역시 북구 연암동 산업로 1010 북구청</td>\n",
       "    </tr>\n",
       "    <tr>\n",
       "      <th>1</th>\n",
       "      <td>제주특별자치도</td>\n",
       "      <td>제주시</td>\n",
       "      <td>건입동</td>\n",
       "      <td>NaN</td>\n",
       "      <td>만덕로</td>\n",
       "      <td>제주특별자치도 제주시 만덕로 18 건입동 주민센터</td>\n",
       "    </tr>\n",
       "    <tr>\n",
       "      <th>2</th>\n",
       "      <td>세종특별자치시</td>\n",
       "      <td>NaN</td>\n",
       "      <td>나성동</td>\n",
       "      <td>NaN</td>\n",
       "      <td>나성남로</td>\n",
       "      <td>세종특별자치시 나성남로 7-7 BRT환승센터 B주차장 B1 (나성동 531)</td>\n",
       "    </tr>\n",
       "    <tr>\n",
       "      <th>3</th>\n",
       "      <td>제주특별자치도</td>\n",
       "      <td>제주시</td>\n",
       "      <td>외도동</td>\n",
       "      <td>NaN</td>\n",
       "      <td>일주서로</td>\n",
       "      <td>제주특별자치도 제주시 일주서로 7350 외도동 주민센터</td>\n",
       "    </tr>\n",
       "    <tr>\n",
       "      <th>4</th>\n",
       "      <td>전라남도</td>\n",
       "      <td>여수시</td>\n",
       "      <td>학동</td>\n",
       "      <td>NaN</td>\n",
       "      <td>시청로</td>\n",
       "      <td>전라남도 여수시 학동 168(시청로 1번지)</td>\n",
       "    </tr>\n",
       "  </tbody>\n",
       "</table>\n",
       "</div>"
      ],
      "text/plain": [
       "        지역  시군구  읍면동    리   도로명                                          주소\n",
       "0    울산광역시   북구  연암동  NaN   산업로                   울산광역시 북구 연암동 산업로 1010 북구청\n",
       "1  제주특별자치도  제주시  건입동  NaN   만덕로                 제주특별자치도 제주시 만덕로 18 건입동 주민센터\n",
       "2  세종특별자치시  NaN  나성동  NaN  나성남로  세종특별자치시 나성남로 7-7 BRT환승센터 B주차장 B1 (나성동 531)\n",
       "3  제주특별자치도  제주시  외도동  NaN  일주서로              제주특별자치도 제주시 일주서로 7350 외도동 주민센터\n",
       "4     전라남도  여수시   학동  NaN   시청로                    전라남도 여수시 학동 168(시청로 1번지)"
      ]
     },
     "execution_count": 878,
     "metadata": {},
     "output_type": "execute_result"
    }
   ],
   "source": [
    "pick_new_adr_df['주소'] = mod_pick_new_adrs\n",
    "pick_new_adr_df.head()"
   ]
  },
  {
   "cell_type": "code",
   "execution_count": 879,
   "metadata": {},
   "outputs": [
    {
     "name": "stderr",
     "output_type": "stream",
     "text": [
      "C:\\Users\\kbj\\AppData\\Local\\Temp\\ipykernel_12280\\4126113164.py:2: SettingWithCopyWarning: \n",
      "A value is trying to be set on a copy of a slice from a DataFrame.\n",
      "Try using .loc[row_indexer,col_indexer] = value instead\n",
      "\n",
      "See the caveats in the documentation: https://pandas.pydata.org/pandas-docs/stable/user_guide/indexing.html#returning-a-view-versus-a-copy\n",
      "  total_pick_new_adr_df['주소분류'] = 'new'\n"
     ]
    },
    {
     "data": {
      "text/html": [
       "<div>\n",
       "<style scoped>\n",
       "    .dataframe tbody tr th:only-of-type {\n",
       "        vertical-align: middle;\n",
       "    }\n",
       "\n",
       "    .dataframe tbody tr th {\n",
       "        vertical-align: top;\n",
       "    }\n",
       "\n",
       "    .dataframe thead th {\n",
       "        text-align: right;\n",
       "    }\n",
       "</style>\n",
       "<table border=\"1\" class=\"dataframe\">\n",
       "  <thead>\n",
       "    <tr style=\"text-align: right;\">\n",
       "      <th></th>\n",
       "      <th>주소</th>\n",
       "      <th>지역</th>\n",
       "      <th>시군구</th>\n",
       "      <th>읍면동</th>\n",
       "      <th>리</th>\n",
       "      <th>도로명</th>\n",
       "      <th>주소분류</th>\n",
       "    </tr>\n",
       "  </thead>\n",
       "  <tbody>\n",
       "    <tr>\n",
       "      <th>0</th>\n",
       "      <td>울산광역시 북구 연암동 산업로 1010 북구청</td>\n",
       "      <td>울산광역시</td>\n",
       "      <td>북구</td>\n",
       "      <td>연암동</td>\n",
       "      <td>NaN</td>\n",
       "      <td>산업로</td>\n",
       "      <td>new</td>\n",
       "    </tr>\n",
       "    <tr>\n",
       "      <th>1</th>\n",
       "      <td>제주특별자치도 제주시 만덕로 18 건입동 주민센터</td>\n",
       "      <td>제주특별자치도</td>\n",
       "      <td>제주시</td>\n",
       "      <td>건입동</td>\n",
       "      <td>NaN</td>\n",
       "      <td>만덕로</td>\n",
       "      <td>new</td>\n",
       "    </tr>\n",
       "    <tr>\n",
       "      <th>2</th>\n",
       "      <td>세종특별자치시 나성남로 7-7 BRT환승센터 B주차장 B1 (나성동 531)</td>\n",
       "      <td>세종특별자치시</td>\n",
       "      <td>NaN</td>\n",
       "      <td>나성동</td>\n",
       "      <td>NaN</td>\n",
       "      <td>나성남로</td>\n",
       "      <td>new</td>\n",
       "    </tr>\n",
       "    <tr>\n",
       "      <th>3</th>\n",
       "      <td>제주특별자치도 제주시 일주서로 7350 외도동 주민센터</td>\n",
       "      <td>제주특별자치도</td>\n",
       "      <td>제주시</td>\n",
       "      <td>외도동</td>\n",
       "      <td>NaN</td>\n",
       "      <td>일주서로</td>\n",
       "      <td>new</td>\n",
       "    </tr>\n",
       "    <tr>\n",
       "      <th>4</th>\n",
       "      <td>전라남도 여수시 학동 168(시청로 1번지)</td>\n",
       "      <td>전라남도</td>\n",
       "      <td>여수시</td>\n",
       "      <td>학동</td>\n",
       "      <td>NaN</td>\n",
       "      <td>시청로</td>\n",
       "      <td>new</td>\n",
       "    </tr>\n",
       "  </tbody>\n",
       "</table>\n",
       "</div>"
      ],
      "text/plain": [
       "                                           주소       지역  시군구  읍면동    리   도로명  \\\n",
       "0                   울산광역시 북구 연암동 산업로 1010 북구청    울산광역시   북구  연암동  NaN   산업로   \n",
       "1                 제주특별자치도 제주시 만덕로 18 건입동 주민센터  제주특별자치도  제주시  건입동  NaN   만덕로   \n",
       "2  세종특별자치시 나성남로 7-7 BRT환승센터 B주차장 B1 (나성동 531)  세종특별자치시  NaN  나성동  NaN  나성남로   \n",
       "3              제주특별자치도 제주시 일주서로 7350 외도동 주민센터  제주특별자치도  제주시  외도동  NaN  일주서로   \n",
       "4                    전라남도 여수시 학동 168(시청로 1번지)     전라남도  여수시   학동  NaN   시청로   \n",
       "\n",
       "  주소분류  \n",
       "0  new  \n",
       "1  new  \n",
       "2  new  \n",
       "3  new  \n",
       "4  new  "
      ]
     },
     "execution_count": 879,
     "metadata": {},
     "output_type": "execute_result"
    }
   ],
   "source": [
    "total_pick_new_adr_df = pick_new_adr_df[['주소', '지역', '시군구', '읍면동', '리', '도로명']]\n",
    "total_pick_new_adr_df['주소분류'] = 'new'\n",
    "total_pick_new_adr_df.head()"
   ]
  },
  {
   "cell_type": "markdown",
   "metadata": {},
   "source": [
    "#### 기존 신주소와 골라낸 신주소 합치기"
   ]
  },
  {
   "cell_type": "code",
   "execution_count": 880,
   "metadata": {},
   "outputs": [
    {
     "data": {
      "text/html": [
       "<div>\n",
       "<style scoped>\n",
       "    .dataframe tbody tr th:only-of-type {\n",
       "        vertical-align: middle;\n",
       "    }\n",
       "\n",
       "    .dataframe tbody tr th {\n",
       "        vertical-align: top;\n",
       "    }\n",
       "\n",
       "    .dataframe thead th {\n",
       "        text-align: right;\n",
       "    }\n",
       "</style>\n",
       "<table border=\"1\" class=\"dataframe\">\n",
       "  <thead>\n",
       "    <tr style=\"text-align: right;\">\n",
       "      <th></th>\n",
       "      <th>주소</th>\n",
       "      <th>지역</th>\n",
       "      <th>시군구</th>\n",
       "      <th>읍면동</th>\n",
       "      <th>리</th>\n",
       "      <th>도로명</th>\n",
       "      <th>주소분류</th>\n",
       "    </tr>\n",
       "  </thead>\n",
       "  <tbody>\n",
       "    <tr>\n",
       "      <th>0</th>\n",
       "      <td>경상남도 김해시 진영읍 하계로96번길 94-4 주유소 옆 주차장</td>\n",
       "      <td>경상남도</td>\n",
       "      <td>김해시</td>\n",
       "      <td>진영읍</td>\n",
       "      <td>NaN</td>\n",
       "      <td>하계로96번길</td>\n",
       "      <td>new</td>\n",
       "    </tr>\n",
       "    <tr>\n",
       "      <th>1</th>\n",
       "      <td>제주특별자치도 제주시 삼성로 40 민속자연사박물관</td>\n",
       "      <td>제주특별자치도</td>\n",
       "      <td>제주시</td>\n",
       "      <td>NaN</td>\n",
       "      <td>NaN</td>\n",
       "      <td>삼성로</td>\n",
       "      <td>new</td>\n",
       "    </tr>\n",
       "    <tr>\n",
       "      <th>2</th>\n",
       "      <td>제주특별자치도 제주시 노형9길 9-4 주차장</td>\n",
       "      <td>제주특별자치도</td>\n",
       "      <td>제주시</td>\n",
       "      <td>NaN</td>\n",
       "      <td>NaN</td>\n",
       "      <td>노형9길</td>\n",
       "      <td>new</td>\n",
       "    </tr>\n",
       "    <tr>\n",
       "      <th>3</th>\n",
       "      <td>경상북도 포항시 북구 해안로 82</td>\n",
       "      <td>경상북도</td>\n",
       "      <td>포항시 북구</td>\n",
       "      <td>NaN</td>\n",
       "      <td>NaN</td>\n",
       "      <td>해안로</td>\n",
       "      <td>new</td>\n",
       "    </tr>\n",
       "    <tr>\n",
       "      <th>4</th>\n",
       "      <td>강원도 양양군 현북면 동해대로 1242</td>\n",
       "      <td>강원도</td>\n",
       "      <td>양양군</td>\n",
       "      <td>현북면</td>\n",
       "      <td>NaN</td>\n",
       "      <td>동해대로</td>\n",
       "      <td>new</td>\n",
       "    </tr>\n",
       "  </tbody>\n",
       "</table>\n",
       "</div>"
      ],
      "text/plain": [
       "                                    주소       지역     시군구  읍면동    리      도로명  \\\n",
       "0  경상남도 김해시 진영읍 하계로96번길 94-4 주유소 옆 주차장     경상남도     김해시  진영읍  NaN  하계로96번길   \n",
       "1          제주특별자치도 제주시 삼성로 40 민속자연사박물관  제주특별자치도     제주시  NaN  NaN      삼성로   \n",
       "2             제주특별자치도 제주시 노형9길 9-4 주차장  제주특별자치도     제주시  NaN  NaN     노형9길   \n",
       "3                   경상북도 포항시 북구 해안로 82     경상북도  포항시 북구  NaN  NaN      해안로   \n",
       "4                강원도 양양군 현북면 동해대로 1242      강원도     양양군  현북면  NaN     동해대로   \n",
       "\n",
       "  주소분류  \n",
       "0  new  \n",
       "1  new  \n",
       "2  new  \n",
       "3  new  \n",
       "4  new  "
      ]
     },
     "execution_count": 880,
     "metadata": {},
     "output_type": "execute_result"
    }
   ],
   "source": [
    "total_new_df = pd.concat([total_sliced_new_df, total_pick_new_adr_df], ignore_index=True)\n",
    "total_new_df.head()"
   ]
  },
  {
   "cell_type": "code",
   "execution_count": 881,
   "metadata": {},
   "outputs": [
    {
     "name": "stdout",
     "output_type": "stream",
     "text": [
      "<class 'pandas.core.frame.DataFrame'>\n",
      "RangeIndex: 2810 entries, 0 to 2809\n",
      "Data columns (total 7 columns):\n",
      " #   Column  Non-Null Count  Dtype \n",
      "---  ------  --------------  ----- \n",
      " 0   주소      2810 non-null   object\n",
      " 1   지역      2810 non-null   object\n",
      " 2   시군구     2789 non-null   object\n",
      " 3   읍면동     1430 non-null   object\n",
      " 4   리       11 non-null     object\n",
      " 5   도로명     2810 non-null   object\n",
      " 6   주소분류    2810 non-null   object\n",
      "dtypes: object(7)\n",
      "memory usage: 153.8+ KB\n"
     ]
    }
   ],
   "source": [
    "total_new_df.info()"
   ]
  },
  {
   "cell_type": "markdown",
   "metadata": {},
   "source": [
    "#### 신주소에서 구주소 추출"
   ]
  },
  {
   "cell_type": "code",
   "execution_count": 882,
   "metadata": {},
   "outputs": [
    {
     "data": {
      "text/plain": [
       "566"
      ]
     },
     "execution_count": 882,
     "metadata": {},
     "output_type": "execute_result"
    }
   ],
   "source": [
    "wrong_sort_address_idx[27]"
   ]
  },
  {
   "cell_type": "code",
   "execution_count": 883,
   "metadata": {},
   "outputs": [
    {
     "data": {
      "text/plain": [
       "'충청북도 청주시 흥덕구 오송읍 봉산리 370-1  KTX 오송역 공영주차장 A출구 바로 옆(지상)'"
      ]
     },
     "execution_count": 883,
     "metadata": {},
     "output_type": "execute_result"
    }
   ],
   "source": [
    "temp = old_adr_address_unique[566]\n",
    "temp"
   ]
  },
  {
   "cell_type": "code",
   "execution_count": 884,
   "metadata": {},
   "outputs": [
    {
     "data": {
      "text/plain": [
       "582"
      ]
     },
     "execution_count": 884,
     "metadata": {},
     "output_type": "execute_result"
    }
   ],
   "source": [
    "wrong_sort_address_idx2 = np.delete(wrong_sort_address_idx, 27)\n",
    "wrong_sort_address_idx2[27]"
   ]
  },
  {
   "cell_type": "markdown",
   "metadata": {},
   "source": [
    "#### 순수 구주소만 추출"
   ]
  },
  {
   "cell_type": "code",
   "execution_count": 885,
   "metadata": {},
   "outputs": [
    {
     "data": {
      "text/plain": [
       "1577"
      ]
     },
     "execution_count": 885,
     "metadata": {},
     "output_type": "execute_result"
    }
   ],
   "source": [
    "len(old_adr_address_unique)"
   ]
  },
  {
   "cell_type": "code",
   "execution_count": 886,
   "metadata": {},
   "outputs": [
    {
     "data": {
      "text/plain": [
       "'제주특별자치도 서귀포시 성산읍 성산리 347-9 주차타워 앞'"
      ]
     },
     "execution_count": 886,
     "metadata": {},
     "output_type": "execute_result"
    }
   ],
   "source": [
    "pick_old_adrs = np.delete(old_adr_address_unique, wrong_sort_address_idx2)\n",
    "pick_old_adrs[27]"
   ]
  },
  {
   "cell_type": "code",
   "execution_count": 887,
   "metadata": {},
   "outputs": [
    {
     "data": {
      "text/plain": [
       "1530"
      ]
     },
     "execution_count": 887,
     "metadata": {},
     "output_type": "execute_result"
    }
   ],
   "source": [
    "len(pick_old_adrs)"
   ]
  },
  {
   "cell_type": "markdown",
   "metadata": {},
   "source": [
    "#### 빈칸 정리"
   ]
  },
  {
   "cell_type": "code",
   "execution_count": 888,
   "metadata": {},
   "outputs": [],
   "source": [
    "for i, one in enumerate(pick_old_adrs):\n",
    "    if '  ' in one:\n",
    "        pick_old_adrs[i] = one.replace('  ', ' ')"
   ]
  },
  {
   "cell_type": "code",
   "execution_count": 889,
   "metadata": {},
   "outputs": [
    {
     "data": {
      "text/plain": [
       "array(['서울특별시 구로구 오류동 174-10 천왕역 환승주차장 1층', '경상남도 통영시 광도면 죽림리 292-33',\n",
       "       '전라북도 완주군 봉동읍 둔산리 881', '충청남도 공주시 정안면 석송리', '충청북도 단양군 적성면 기동리'],\n",
       "      dtype=object)"
      ]
     },
     "execution_count": 889,
     "metadata": {},
     "output_type": "execute_result"
    }
   ],
   "source": [
    "pick_old_adrs[:5]"
   ]
  },
  {
   "cell_type": "code",
   "execution_count": 890,
   "metadata": {},
   "outputs": [
    {
     "data": {
      "text/plain": [
       "(1530,)"
      ]
     },
     "execution_count": 890,
     "metadata": {},
     "output_type": "execute_result"
    }
   ],
   "source": [
    "pick_old_adrs.shape"
   ]
  },
  {
   "cell_type": "markdown",
   "metadata": {},
   "source": [
    "#### 시-구 같은 구분지역 처리"
   ]
  },
  {
   "cell_type": "code",
   "execution_count": 891,
   "metadata": {},
   "outputs": [],
   "source": [
    "split_dict = {' 고양시 덕양구 ':'$고양시-덕양구$', ' 고양시 일산동구 ':'$고양시-일산동구$', ' 고양시 일산서구 ':'$고양시-일산서구$', ' 성남시 분당구 ':'$성남시-분당구$', ' 성남시 수정구 ':'$성남시-수정구$', \n",
    "              ' 성남시 중원구 ':'$성남시-중원구$', ' 성남시 권선구 ':'$성남시-권선구$', ' 성남시 영통구 ':'$성남시-영통구$', ' 성남시 장안구 ':'$성남시-장안구$', ' 성남시 팔달구 ':'$성남시-팔달구$',\n",
    "              ' 수원시 권선구 ':'$수원시-권선구$', ' 수원시 영통구 ':'$수원시-영통구$', ' 수원시 장안구 ':'$수원시-장안구$', ' 수원시 팔달구 ':'$수원시-팔달구$', ' 안산시 단원구 ':'$안산시-단원구$', \n",
    "              ' 안산시 상록구 ':'$안산시-상록구$', ' 안양시 동안구 ':'$안양시-동안구$', ' 안양시 만안구 ':'$안양시-만안구$', ' 용인시 기흥구 ':'$용인시-기흥구$', ' 용인시 수지구 ':'$용인시-수지구$', \n",
    "              ' 용인시 처인구 ':'$용인시-처인구$', ' 청주시 상당구 ':'$청주시-상당구$', ' 청주시 서원구 ':'$청주시-서원구$', ' 청주시 청원구 ':'$청주시-청원구$', ' 청주시 흥덕구 ':'$청주시-흥덕구$', \n",
    "              ' 천안시 동남구 ':'$천안시-동남구$', ' 천안시 서북구 ':'$천안시-서북구$', ' 전주시 덕진구 ':'$전주시-덕진구$', ' 전주시 완산구 ':'$전주시-완산구$', ' 창원시 마산합포구 ':'$창원시-마산합포구$', \n",
    "              ' 창원시 마산회원구 ':'$창원시-마산회원구$', ' 창원시 성산구 ':'$창원시-성산구$', ' 창원시 의창구 ':'$창원시-의창구$', ' 창원시 진해구 ':'$창원시-진해구$', ' 포항시 남구 ':'$포항시-남구$', \n",
    "              ' 포항시 북구 ':'$포항시-북구$'}"
   ]
  },
  {
   "cell_type": "code",
   "execution_count": 892,
   "metadata": {},
   "outputs": [
    {
     "data": {
      "text/plain": [
       "36"
      ]
     },
     "execution_count": 892,
     "metadata": {},
     "output_type": "execute_result"
    }
   ],
   "source": [
    "len(split_dict)"
   ]
  },
  {
   "cell_type": "code",
   "execution_count": 893,
   "metadata": {},
   "outputs": [
    {
     "name": "stderr",
     "output_type": "stream",
     "text": [
      "100%|██████████| 1530/1530 [00:00<00:00, 73055.69it/s]\n"
     ]
    }
   ],
   "source": [
    "old_adr_address_unique_split = []\n",
    "for ad in tqdm(pick_old_adrs):\n",
    "    for k, v in split_dict.items():\n",
    "        ad = ad.replace(k, v)\n",
    "    ad = ad.replace(' ', '$')\n",
    "    ad = ad.replace('-', ' ')\n",
    "    old_adr_address_unique_split.append(ad.split('$'))"
   ]
  },
  {
   "cell_type": "code",
   "execution_count": 894,
   "metadata": {},
   "outputs": [
    {
     "data": {
      "text/plain": [
       "[['서울특별시', '구로구', '오류동', '174 10', '천왕역', '환승주차장', '1층'],\n",
       " ['경상남도', '통영시', '광도면', '죽림리', '292 33'],\n",
       " ['전라북도', '완주군', '봉동읍', '둔산리', '881'],\n",
       " ['충청남도', '공주시', '정안면', '석송리'],\n",
       " ['충청북도', '단양군', '적성면', '기동리']]"
      ]
     },
     "execution_count": 894,
     "metadata": {},
     "output_type": "execute_result"
    }
   ],
   "source": [
    "old_adr_address_unique_split[:5]"
   ]
  },
  {
   "cell_type": "code",
   "execution_count": 895,
   "metadata": {},
   "outputs": [
    {
     "data": {
      "text/plain": [
       "[['강원도', '춘천시', '사농동', '277 3'],\n",
       " ['전라북도', '전주시 완산구', '효자동', '3가', '1712 10'],\n",
       " ['제주특별자치도', '서귀포시', '서귀동', '291 63(3)'],\n",
       " ['광주광역시', '동구', '계림동', '280'],\n",
       " ['인천광역시', '서구', '가좌동', '30 105']]"
      ]
     },
     "execution_count": 895,
     "metadata": {},
     "output_type": "execute_result"
    }
   ],
   "source": [
    "old_adr_address_unique_split[300:305]"
   ]
  },
  {
   "cell_type": "markdown",
   "metadata": {},
   "source": [
    "#### 동일 지역명 정리"
   ]
  },
  {
   "cell_type": "code",
   "execution_count": 896,
   "metadata": {},
   "outputs": [
    {
     "name": "stderr",
     "output_type": "stream",
     "text": [
      "100%|██████████| 1530/1530 [00:00<00:00, 305062.04it/s]\n"
     ]
    }
   ],
   "source": [
    "old_adr_address_unique_split2 = []\n",
    "for one in tqdm(old_adr_address_unique_split):\n",
    "    temp = []\n",
    "    for two in one:\n",
    "        if two not in temp:\n",
    "            temp.append(two)\n",
    "    old_adr_address_unique_split2.append(temp)"
   ]
  },
  {
   "cell_type": "markdown",
   "metadata": {},
   "source": [
    "#### 지역 구분으로 주소 분리\n",
    "- 신도시 지역명 구분\n",
    "    - 지역\n",
    "    - 시군구\n",
    "    - 읍면동\n",
    "    - 리"
   ]
  },
  {
   "cell_type": "code",
   "execution_count": 897,
   "metadata": {},
   "outputs": [],
   "source": [
    "ad1_p = re.compile('[가-힣]+도$|[가-힣]+시$')\n",
    "ad2_p = re.compile('[가-힣]+시$|[가-힣]+군$|[가-힣]+구$|[가-힣]+시 [가-힣]+구$')\n",
    "ad3_p = re.compile('[가-힣0-9]+읍$|[가-힣0-9]+면$|[가-힣0-9]+동$')\n",
    "ad4_p = re.compile('[가-힣0-9]+리$')"
   ]
  },
  {
   "cell_type": "code",
   "execution_count": 898,
   "metadata": {},
   "outputs": [
    {
     "name": "stderr",
     "output_type": "stream",
     "text": [
      "1530it [00:00, 95747.51it/s]"
     ]
    },
    {
     "name": "stdout",
     "output_type": "stream",
     "text": [
      "0 3 ['서울특별시', '구로구', '오류동', nan, '174 10', '천왕역', '환승주차장', '1층']\n",
      "9 3 ['서울특별시', '성동구', '마장동', nan, '808']\n",
      "12 3 ['서울특별시', '강남구', '일원동', nan, '4 49', '주차장', '입구', '오른쪽']\n",
      "14 3 ['대구광역시', '동구', '신천3동', nan, '146 15']\n",
      "18 3 ['경기도', '안양시 동안구', '관앙동', nan, '1590']\n",
      "26 3 ['대구광역시', '북구', '서변동', nan, '1792', '입구', '좌측']\n",
      "28 3 ['서울특별시', '성북구', '장위2동', nan, '65 154']\n",
      "29 3 ['전라남도', '순천시', '왕지동', nan, '853 2', '왕지', '제2공영주차장']\n",
      "31 3 ['경기도', '수원시 장안구', '파장동', nan, '585 4']\n",
      "33 3 ['서울특별시', '노원구', '하계동', nan, '251 8']\n",
      "34 3 ['인천광역시', '남동구', '서창동', nan, '558 3']\n",
      "36 3 ['경기도', '평택시', '비전동', nan, '629 1', '주차장', '안쪽', '끝']\n",
      "38 3 ['제주특별자치도', '제주시', '화북1동', nan, '1976 6']\n",
      "39 3 ['경상북도', '문경시', '모전동', nan, '220', '입구', '우측']\n",
      "43 3 ['경상북도', '경주시', '사정동', nan, '172 1']\n",
      "44 2 ['부산광역시', '기장군', nan, '대라리', '70 1']\n",
      "45 3 ['서울특별시', '도봉구', '창3동', nan, '504 21', '좌측', '안쪽']\n",
      "48 3 ['인천광역시', '서구', '경서동', nan, '산', '257 4', '지상', '버스주차장', '옆']\n",
      "49 3 ['대전광역시', '유성구', '반석동', nan, '665 2', '전시장', '뒤편', '사무실', '입구', '주차장']\n",
      "50 3 ['제주특별자치도', '서귀포시', '서홍동', nan, '666 1']\n",
      "59 3 ['전라남도', '여수시', '소호동', nan, '505 2', '입구', '우측']\n",
      "60 3 ['충청북도', '충주시', '안림동', nan, '1073']\n",
      "64 3 ['경기도', '하남시', '신장동', nan, '281']\n",
      "65 3 ['제주특별자치도', '서귀포시', '법환동', nan, '870']\n",
      "71 3 ['충청남도', '공주시', '웅진동', nan, '354 6']\n",
      "80 3 ['경상북도', '구미시', '송정동', nan, '505']\n",
      "81 3 ['강원도', '속초시', '조양동', nan, '1544 3']\n",
      "83 3 ['전라북도', '전주시 덕진구', '덕진동', nan, '2가', '179 6']\n",
      "85 3 ['전라남도', '순천시', '금곡동', nan, '60 6', '안쪽', '주차장']\n",
      "88 3 ['울산광역시', '북구', '창평동', nan, '1052 1']\n",
      "91 3 ['충청남도', '공주시', '봉황동', nan, '304 6']\n",
      "93 3 ['대전광역시', '유성구', '관평동', nan, '887', '옥외주차장', '검품장', '근처']\n",
      "94 3 ['대전광역시', '서구', '도마동', nan, '413 5']\n",
      "95 3 ['서울특별시', '성동구', '용답동', nan, '4 1']\n",
      "96 3 ['인천광역시', '서구', '경서동', nan, '638 5']\n",
      "97 3 ['제주특별자치도', '서귀포시', '색달동', nan, '2889 1', '중문색달해변', '북측', '증설주차장']\n",
      "98 3 ['강원도', '태백시', '황지동', nan, '244 3']\n",
      "99 3 ['서울특별시', '송파구', '잠실동', nan, '84', '우측', '끝']\n",
      "100 3 ['제주특별자치도', '제주시', '아라동', nan, '6140 4']\n",
      "103 3 ['경기도', '성남시 분당구', '삼평동', nan, '741', '지하', '2층', 'E01번']\n",
      "104 3 ['경기도', '안산시 단원구', '대부북동', nan, '1849 30', '주차장', '맨끝쪽']\n",
      "105 3 ['제주특별자치도', '서귀포시', '서귀동', nan, '600 3']\n",
      "107 3 ['충청남도', '논산시', '내동', nan, '825', '시청앞', '새마을금고', '맞은편', '공영주차장']\n",
      "108 3 ['경기도', '부천시', '춘의동', nan, '8', '24', '필지', '주차장', '입구', '오른쪽']\n",
      "109 3 ['서울특별시', '마포구', '상암동', nan, '482 116', '주차장', '입구', '정면']\n",
      "112 3 ['제주특별자치도', '제주시', '도남동', nan, '574 3']\n",
      "113 3 ['경상남도', '창원시', '장군동', nan, '4가', '3 6']\n",
      "114 3 ['경기도', '고양시 덕양구', '화정동', nan, '982', '2층주차장', '입구', '정면']\n",
      "117 3 ['제주특별자치도', '제주시', '일도2동', nan, '488 1']\n",
      "119 3 ['강원도', '태백시', '소도동', nan, '326']\n",
      "120 3 ['제주특별자치도', '제주시', '아라동', nan, '3008 1']\n",
      "122 3 ['경기도', '성남시 중원구', '중앙동', nan, '1175']\n",
      "123 2 ['제주특별자치도', '제주시', nan, '하귀1리', '176 3']\n",
      "126 3 ['서울특별시', '마포구', '노고산동', nan, '33 1', 'B3', '28']\n",
      "128 3 ['인천광역시', '부평구', '부평동', nan, '341 193', '주차장', '입구', '오른쪽']\n",
      "129 3 ['충청북도', '청주시 서원구', '분평동', nan, '1252']\n",
      "130 3 ['충청남도', '보령시', '신흑동', nan, '1437 3']\n",
      "136 3 ['강원도', '속초시', '중앙동', nan, '468 12']\n",
      "142 3 ['전라남도', '순천시', '왕지동', nan, '852 1']\n",
      "143 3 ['제주특별자치도', '제주시', '이도1동', nan, '1293 1']\n",
      "145 3 ['제주특별자치도', '서귀포시', '서귀동', nan, '291 2', '북쪽', '입구']\n",
      "146 3 ['경상남도', '창원시 진해구', '제황산동', nan, '24 55', '주차장']\n",
      "148 3 ['전라북도', '정읍시', '상동', nan, '258 4']\n",
      "149 3 ['경기도', '안양시 만안구', '안양동', nan, '530', '구청', '건물입구', '앞']\n",
      "151 3 ['제주특별자치도', '제주시', '봉개동', nan, '2750 2']\n",
      "152 3 ['대구광역시', '남구', '봉덕동', nan, '1272 18']\n",
      "154 3 ['인천광역시', '남동구', '논현동', nan, '754 4']\n",
      "155 3 ['경기도', '하남시', '망월동', nan, '728 9']\n",
      "157 3 ['전라남도', '순천시', '장천동', nan, '62 1', '순천시청', '주차장']\n",
      "163 3 ['경상남도', '밀양시', '삼문동', nan, '24 40']\n",
      "164 2 ['전라남도', '고흥군', nan, '등암리', '186 11']\n",
      "165 3 ['제주특별자치도', '서귀포시', '서귀동', nan, '312 6', '312 19']\n",
      "166 3 ['전라북도', '군산시', '오식도동', nan, '1010']\n",
      "167 3 ['경상남도', '창원시 진해구', '풍호동', nan, '305 21']\n",
      "168 3 ['전라북도', '정읍시', '내장동', nan, '52']\n",
      "169 3 ['대구광역시', '동구', '율암동', nan, '524 416', '번지']\n",
      "170 3 ['대구광역시', '달서구', '도원동', nan, '668 10']\n",
      "171 3 ['울산광역시', '중구', '성남동', nan, '190 200']\n",
      "172 3 ['전라남도', '여수시', '중앙동', nan, '505']\n",
      "173 3 ['서울특별시', '영등포구', '신길동', nan, '3203']\n",
      "174 3 ['제주특별자치도', '제주시', '봉개동', nan, '1854 1']\n",
      "178 3 ['경기도', '안산시 상록구', '사동', nan, '1271 11']\n",
      "179 3 ['경기도', '오산시', '수청동', nan, '610', '옥상주차장', '4층매장입구옆']\n",
      "181 3 ['제주특별자치도', '서귀포시', '동홍동', nan, '1480 6']\n",
      "183 3 ['울산광역시', '동구', '일산동', nan, '948 4']\n",
      "184 3 ['전라북도', '전주시 덕진구', '산정동', nan, '862']\n",
      "186 3 ['경기도', '양주시', '옥정동', nan, '580']\n",
      "188 3 ['경상북도', '경주시', '충효동', nan, '540 1']\n",
      "189 3 ['인천광역시', '미추홀구', '주안동', nan, '1311 17']\n",
      "190 3 ['대전광역시', '대덕구', '오정동', nan, '45 1']\n",
      "191 3 ['경상북도', '김천시', '신음동', nan, '1284', '입구', '우측']\n",
      "192 3 ['경기도', '오산시', '지곶동', nan, '산60']\n",
      "193 3 ['울산광역시', '남구', '삼산동', nan, '1572']\n",
      "194 3 ['경상남도', '밀양시', '교동', nan, '556번지']\n",
      "196 3 ['서울특별시', '관악구', '신림동', nan, '571 6']\n",
      "197 3 ['제주특별자치도', '서귀포시', '동홍동', nan, '470 1']\n",
      "199 3 ['대전광역시', '유성구', '장대동', nan, '263 2']\n",
      "201 3 ['광주광역시', '남구', '주월동', nan, '1284 7']\n",
      "202 3 ['울산광역시', '남구', '야음동', nan, '338 1', '입구', '좌측']\n",
      "203 3 ['경상북도', '포항시 북구', '환호동', nan, '365']\n",
      "204 3 ['대전광역시', '서구', '갈마동', nan, '427 20']\n",
      "206 3 ['대전광역시', '서구', '관저동', nan, '1104']\n",
      "208 3 ['강원도', '춘천시', '석사동', nan, '805']\n",
      "211 3 ['경상남도', '김해시', '대청동', nan, '산112 130']\n",
      "213 3 ['충청북도', '청주시 흥덕구', '원평동', nan, '590 14']\n",
      "214 3 ['인천광역시', '계양구', '서운동', nan, '207']\n",
      "215 1 ['세종특별자치시', nan, '연기면', '세종리', '659 30']\n",
      "220 3 ['제주특별자치도', '서귀포시', '회수동', nan, '788 2']\n",
      "221 3 ['경기도', '수원시 영통구', '하동', nan, '864 10']\n",
      "223 3 ['경기도', '수원시 권선구', '곡반정동', nan, '553']\n",
      "224 3 ['인천광역시', '계양구', '계산동', nan, '1060', '구두수선방', '옆']\n",
      "228 3 ['부산광역시', '북구', '덕천동', nan, '457 1']\n",
      "230 3 ['대전광역시', '서구', '복수동', nan, '613']\n",
      "231 3 ['서울특별시', '성북구', '정릉동', nan, '829 1']\n",
      "232 3 ['울산광역시', '남구', '옥동', nan, '97 3']\n",
      "234 3 ['대전광역시', '대덕구', '신대동', nan, '169 1']\n",
      "236 3 ['대전광역시', '서구', '정림동', nan, '127 1']\n",
      "237 3 ['대전광역시', '서구', '월평동', nan, '1184']\n",
      "240 3 ['충청남도', '아산시', '모종동', nan, '562 4']\n",
      "243 3 ['경기도', '양주시', '옥정동', nan, '1039']\n",
      "244 3 ['강원도', '원주시', '반곡동', nan, '2049 4']\n",
      "245 3 ['경기도', '안산시 상록구', '이동', nan, '620']\n",
      "247 3 ['제주특별자치도', '제주시', '외도1동', nan, '482 1']\n",
      "249 3 ['강원도', '속초시', '노학동', nan, '298 2']\n",
      "251 3 ['충청남도', '공주시', '금학동', nan, '106']\n",
      "252 3 ['대전광역시', '서구', '관저동', nan, '1510']\n",
      "253 3 ['대전광역시', '동구', '가양동', nan, '709']\n",
      "254 3 ['경기도', '광주시', '장지동', nan, '92 5']\n",
      "259 3 ['광주광역시', '남구', '진월동', nan, '314 1']\n",
      "261 3 ['전라북도', '전주시', '덕진동', nan, '2가', '694 1']\n",
      "262 3 ['대구광역시', '북구', '침산동', nan, '402 3']\n",
      "263 3 ['경기도', '용인시 처인구', '삼가동', nan, '28 6']\n",
      "264 3 ['제주특별자치도', '서귀포시', '서호동', nan, '1603', '주차장', '안쪽']\n",
      "266 3 ['충청북도', '충주시', '봉방동', nan, '170 5']\n",
      "267 3 ['전라남도', '순천시', '연향동', nan, '771']\n",
      "269 3 ['서울특별시', '영등포구', '신길1동', nan, '116 15']\n",
      "270 3 ['경상북도', '영주시', '가흥동', nan, '1622']\n",
      "271 3 ['경기도', '구리시', '교문동', nan, '390 1', '구청', '본관', '흡연실', '옆']\n",
      "272 3 ['인천광역시', '서구', '당하동', nan, '1097 5', '검단4동', '주민센터', '옆']\n",
      "273 3 ['경기도', '안산시 단원구', '건건동', nan, '535 14']\n",
      "274 3 ['대전광역시', '유성구', '노은동', nan, '566']\n",
      "275 3 ['울산광역시', '남구', '매암동', nan, '243']\n",
      "276 3 ['충청남도', '아산시', '배미동', nan, '3 6']\n",
      "277 2 ['제주특별자치도', '서귀포시', nan, '상효로39', '(상효동', '754 1)']\n",
      "277 3 ['제주특별자치도', '서귀포시', nan, nan, '상효로39', '(상효동', '754 1)']\n",
      "278 3 ['대구광역시', '동구', '용계동', nan, '923 3']\n",
      "279 3 ['인천광역시', '남동구', '구월3동', nan, '1111 6', '중부지방고용노동청', '별관', '앞']\n",
      "280 3 ['전라남도', '광양시', '중동', nan, '1732 3']\n",
      "284 1 ['세종특별자치시', nan, '어진동', '621', '입구', '우측']\n",
      "284 3 ['세종특별자치시', nan, '어진동', nan, '621', '입구', '우측']\n",
      "286 3 ['경기도', '수원시 권선구', '장지동', nan, '45 1']\n",
      "287 3 ['경기도', '안산시 단원구', '원곡동', nan, '381 2']\n",
      "292 3 ['대전광역시', '대덕구', '중리동', nan, '20 3']\n",
      "293 3 ['대구광역시', '달서구', '호산동', nan, '714 1', '입구', '우측']\n",
      "295 3 ['경기도', '오산시', '금암동', nan, '41 2']\n",
      "296 3 ['울산광역시', '남구', '달동', nan, '1345 6', '입구', '우측']\n",
      "297 3 ['경기도', '안양시 만안구', '석수1동', nan, '110 26', '입구', '맨끝', '왼쪽']\n",
      "298 3 ['광주광역시', '북구', '충효동', nan, '805번지']\n",
      "299 3 ['경기도', '평택시', '장당동', nan, '390 1', '주차장옥상', '마트입구', '옆']\n",
      "300 3 ['강원도', '춘천시', '사농동', nan, '277 3']\n",
      "301 3 ['전라북도', '전주시 완산구', '효자동', nan, '3가', '1712 10']\n",
      "302 3 ['제주특별자치도', '서귀포시', '서귀동', nan, '291 63(3)']\n",
      "303 3 ['광주광역시', '동구', '계림동', nan, '280']\n",
      "304 3 ['인천광역시', '서구', '가좌동', nan, '30 105']\n",
      "307 3 ['경기도', '부천시', '오정동', nan, '129', '지상주차장', '입구', '왼쪽']\n",
      "308 3 ['전라남도', '나주시', '송월동', nan, '1106 2', '1층']\n",
      "310 3 ['대구광역시', '달서구', '장기동', nan, '810 4', '입구', '좌측']\n",
      "312 3 ['경상북도', '포항시 남구', '지곡동', nan, '166 29']\n",
      "314 3 ['서울특별시', '강남구', '압구정동', nan, '453']\n",
      "316 3 ['경상북도', '포항시 북구', '용흥동', nan, '4 9']\n",
      "317 3 ['서울특별시', '은평구', '진관동', nan, '66 30', '지하주차장', '1층', '20구역']\n",
      "318 3 ['충청남도', '보령시', '궁촌동', nan, '43 2']\n",
      "319 3 ['제주특별자치도', '제주시', '연동', nan, '2334 4']\n",
      "320 3 ['부산광역시', '북구', '만덕동', nan, '934']\n",
      "325 3 ['경기도', '안산시 상록구', '성도동', nan, '590', '지상2층', '287기둥옆']\n",
      "327 3 ['전라북도', '전주시 완산구', '대성동', nan, '343 1']\n",
      "328 3 ['인천광역시', '남동구', '수산동', nan, '394 54']\n",
      "329 3 ['전라남도', '여수시', '시전동', nan, '64']\n",
      "330 3 ['울산광역시', '남구', '옥동', nan, '산1112']\n",
      "331 3 ['전라북도', '전주시 덕진구', '인후동', nan, '1가', '807 6']\n",
      "332 3 ['울산광역시', '남구', '삼산동', nan, '1554 1']\n",
      "333 3 ['부산광역시', '연제구', '거제동', nan, '1312']\n",
      "334 3 ['경상남도', '양산시', '남부동', nan, '876 1', '양산문화회관', '건너편', '주차장']\n",
      "335 3 ['경상북도', '영주시', '영주동', nan, '27 2']\n",
      "336 3 ['인천광역시', '서구', '연희동', nan, '187 8']\n",
      "337 3 ['경상북도', '문경시', '모전동', nan, '30 2']\n",
      "339 3 ['인천광역시', '부평구', '갈산동', nan, '192']\n",
      "342 3 ['대전광역시', '서구', '탄방동', nan, '1084']\n",
      "343 3 ['인천광역시', '부평구', '청천동', nan, '125 3']\n",
      "344 3 ['경상남도', '양산시', '평산동', nan, '283', '축구장', '옆']\n",
      "345 3 ['대전광역시', '중구', '석교동', nan, '12 4']\n",
      "348 3 ['인천광역시', '연수구', '송도동', nan, '162 1', '포스코', '그린빌딩', '앞', '주차장']\n",
      "350 3 ['충청북도', '청주시 흥덕구', '휴암동', nan, '338']\n",
      "351 3 ['대구광역시', '북구', '산격동', nan, '산79 13']\n",
      "353 3 ['인천광역시', '부평구', '십정동', nan, '109 2']\n",
      "354 3 ['경기도', '하남시', '학암동', nan, '90 33']\n",
      "355 3 ['대전광역시', '유성구', '하기동', nan, '519', '지상4층', '주차장', '430기둥', '옆']\n",
      "356 3 ['충청남도', '서산시', '수석동', nan, '204 19']\n",
      "357 3 ['대구광역시', '달서구', '진천동', nan, '493 7']\n",
      "358 3 ['인천광역시', '중구', '도원동', nan, '5 7', '주차장', '입구']\n",
      "360 3 ['경기도', '하남시', '풍산동', nan, '118 2']\n",
      "362 3 ['전라북도', '정읍시', '내장동', nan, '169 1']\n",
      "366 3 ['대구광역시', '동구', '용수동', nan, '907 1']\n",
      "367 3 ['서울특별시', '구로구', '개봉동', nan, '134 8']\n",
      "369 3 ['경기도', '하남시', '풍산동', nan, '148 3']\n",
      "370 3 ['전라남도', '나주시', '빛가람동', nan, '346 1']\n",
      "371 3 ['서울특별시', '동작구', '대방동', nan, '70 5']\n",
      "372 3 ['경상남도', '양산시', '덕계동', nan, '1039 5']\n",
      "374 3 ['충청남도', '천안시 동남구', '삼룡동', nan, '401 17', '입구', '좌측', '주차장']\n",
      "378 1 ['세종특별자치시', nan, '새롬동', '341 72']\n",
      "378 3 ['세종특별자치시', nan, '새롬동', nan, '341 72']\n",
      "379 3 ['대구광역시', '달서구', '용산동', nan, '507', '입구', '우측']\n",
      "383 3 ['경상남도', '창원시 성산구', '사파동', nan, '64 2']\n",
      "385 3 ['대전광역시', '중구', '대사동', nan, '145 2']\n",
      "389 3 ['울산광역시', '남구', '신정동', nan, '34 80']\n",
      "391 3 ['울산광역시', '북구', '매곡동', nan, '349 3']\n",
      "394 3 ['대구광역시', '북구', '노원동', nan, '2가', '214']\n",
      "395 3 ['인천광역시', '계양구', '동양동', nan, '607 1']\n",
      "396 3 ['경기도', '남양주시', '금곡동', nan, '185 10', '옥외', '주차장']\n",
      "400 3 ['경기도', '안산시 상록구', '사동', nan, '1513']\n",
      "401 2 ['경상남도', '창원시 의창구', nan, '월계리', '162 4', '골프장', '밑', '주차장']\n",
      "403 3 ['강원도', '태백시', '혈동', nan, '260 68']\n",
      "405 3 ['경상북도', '구미시', '오태동', nan, '659 13']\n",
      "406 3 ['경기도', '부천시', '상동', nan, '549번지']\n",
      "408 3 ['경상북도', '포항시 북구', '용흥동', nan, '산', '24 3']\n",
      "411 3 ['전라북도', '전주시 완산구', '효자동', nan, '2가', '1234 3', '5층']\n",
      "412 2 ['대구광역시', '서구', nan, '평리', '3동', '729 2']\n",
      "413 3 ['경기도', '안산시 상록구', '본오동', nan, '876 8']\n",
      "415 3 ['대전광역시', '중구', '사정동', nan, '403번지']\n",
      "416 3 ['경상북도', '경주시', '황성동', nan, '435 4']\n",
      "417 3 ['경상북도', '상주시', '계산동', nan, '474 1']\n",
      "418 3 ['경상북도', '김천시', '부곡동', nan, '1533 1']\n",
      "420 3 ['전라남도', '순천시', '덕암동', nan, '220']\n",
      "421 3 ['서울특별시', '노원구', '상계2동', nan, '373 13']\n",
      "422 3 ['부산광역시', '수영구', '망미동', nan, '979 73']\n",
      "423 3 ['대전광역시', '서구', '만년동', nan, '74']\n",
      "425 3 ['충청북도', '충주시', '용탄동', nan, '1137']\n",
      "427 3 ['대전광역시', '동구', '용운동', nan, '423 22']\n",
      "429 3 ['울산광역시', '중구', '성안동', nan, '244']\n",
      "430 3 ['대구광역시', '동구', '방촌동', nan, '126 2번지']\n",
      "431 3 ['대전광역시', '유성구', '덕진동', nan, '453']\n",
      "432 3 ['울산광역시', '북구', '매곡동', nan, '884 5']\n",
      "433 3 ['서울특별시', '도봉구', '쌍문3동', nan, '315 62', '지하', '1층', '안쪽']\n",
      "434 3 ['충청남도', '아산시', '용화동', nan, '1143']\n",
      "435 3 ['전라북도', '김제시', '검산동', nan, '433 21']\n",
      "436 3 ['경기도', '과천시', '갈현동', nan, '679', '주민센터', '입구앞']\n",
      "438 3 ['대구광역시', '북구', '침산동', nan, '1192 1']\n",
      "440 3 ['대구광역시', '달서구', '대곡동', nan, '1035']\n",
      "442 3 ['경상남도', '사천시', '향촌동', nan, '631 6']\n",
      "443 3 ['경기도', '의정부시', '호원동', nan, '229 160']\n",
      "444 3 ['대전광역시', '서구', '월평동', nan, '1275']\n",
      "445 3 ['제주특별자치도', '제주시', '용담2동', nan, '2002']\n",
      "446 3 ['서울특별시', '강남구', '개포동', nan, '13 2']\n",
      "448 3 ['서울특별시', '도봉구', '쌍문2동', nan, '710 4']\n",
      "449 3 ['대전광역시', '동구', '홍도동', nan, '92 3']\n",
      "453 3 ['대전광역시', '서구', '도마동', nan, '155 16']\n",
      "454 3 ['광주광역시', '광산구', '운남동', nan, '524 3']\n",
      "455 3 ['전라남도', '광양시', '중동', nan, '1358 1']\n",
      "456 3 ['대전광역시', '중구', '사정동', nan, '142', '플라워랜드', '주차장']\n",
      "462 3 ['서울특별시', '용산구', '한남동', nan, '산10 84', '지상실외주차장']\n",
      "463 1 ['세종특별자치시', nan, '보람동', '624 1']\n",
      "463 3 ['세종특별자치시', nan, '보람동', nan, '624 1']\n",
      "468 2 ['부산광역시', '중구', nan, '중앙대로2', '(중앙동', '7가)']\n",
      "468 3 ['부산광역시', '중구', nan, nan, '중앙대로2', '(중앙동', '7가)']\n",
      "469 3 ['서울특별시', '금천구', '가산동', nan, '239 27']\n",
      "470 3 ['충청남도', '보령시', '신흑동', nan, '2279', '입구', '우측', '안쪽']\n",
      "472 3 ['서울특별시', '동작구', '대방동', nan, '70 1']\n",
      "474 3 ['대구광역시', '달서구', '송현동', nan, '산56번지']\n",
      "481 3 ['전라북도', '정읍시', '상평동', nan, '62 3', '？']\n",
      "483 3 ['울산광역시', '남구', '삼산동', nan, '1627 3', '입구', '좌측']\n",
      "485 1 ['세종특별자치시', nan, '반곡동', '234 10']\n",
      "485 3 ['세종특별자치시', nan, '반곡동', nan, '234 10']\n",
      "487 3 ['인천광역시', '남동구', '논현동', nan, '762 3']\n",
      "488 3 ['경상북도', '안동시', '상아동', nan, '266 2']\n",
      "491 3 ['충청북도', '청주시 서원구', '성화동', nan, '936']\n",
      "492 3 ['강원도', '춘천시', '퇴계동', nan, '864']\n",
      "493 3 ['경기도', '용인시 처인구', '삼가동', nan, '556', '지하1층', '가03', '기둥옆']\n",
      "496 3 ['광주광역시', '남구', '서동', nan, '147 22']\n",
      "497 3 ['서울특별시', '구로구', '구로동', nan, '136 14']\n",
      "498 3 ['경기도', '수원시 영통구', '영통동', nan, '960 1']\n",
      "499 3 ['전라북도', '남원시', '금동', nan, '437 6']\n",
      "502 3 ['인천광역시', '서구', '연희동', nan, '산150 5']\n",
      "503 3 ['전라남도', '순천시', '조례동', nan, '1258']\n",
      "505 3 ['광주광역시', '광산구', '비아동', nan, '66 6']\n",
      "506 3 ['경상남도', '창원시 진해구', '명동', nan, '580', '좌측', '주차장']\n",
      "507 3 ['서울특별시', '도봉구', '도봉동', nan, '341 1']\n",
      "512 3 ['경상북도', '상주시', '계산동', nan, '189 6']\n",
      "517 3 ['경기도', '하남시', '망월동', nan, '1 1']\n",
      "518 3 ['서울특별시', '은평구', '진관동', nan, '278']\n",
      "519 3 ['울산광역시', '동구', '동부동', nan, '425 1']\n",
      "520 3 ['울산광역시', '북구', '화봉동', nan, '1469 1']\n",
      "522 3 ['울산광역시', '북구', '화봉동', nan, '365']\n",
      "526 3 ['울산광역시', '북구', '효문동', nan, '986']\n",
      "527 3 ['강원도', '원주시', '태장동', nan, '산35 1']\n",
      "531 3 ['울산광역시', '동구', '화정동', nan, '198']\n",
      "534 3 ['부산광역시', '금정구', '장전1동', nan, '242']\n",
      "535 3 ['인천광역시', '중구', '북성동', nan, '1가', '97 32']\n",
      "538 3 ['대구광역시', '북구', '서변동', nan, '1290 4', '입구', '좌측', '주차구역']\n",
      "550 3 ['서울특별시', '강남구', '수서동', nan, '735', '지상주차장', '북주차장(우측)']\n",
      "551 3 ['전라북도', '정읍시', '내장동', nan, '673 1']\n",
      "557 3 ['경기도', '시흥시', '장곡동', nan, '724 32', '오른쪽', '주차장', '입구', '끝부지']\n",
      "558 3 ['경상남도', '김해시', '부원동', nan, '625 1']\n",
      "563 3 ['부산광역시', '부산진구', '부전1동', nan, '46']\n",
      "565 3 ['경기도', '안산시 단원구', '원시동', nan, '772 6']\n",
      "566 3 ['울산광역시', '북구', '연암동', nan, '1372']\n",
      "576 3 ['인천광역시', '동구', '송림동', nan, '49 172']\n",
      "582 3 ['전라북도', '군산시', '지곡동', nan, '286 8']\n",
      "584 3 ['서울특별시', '은평구', '진관동', nan, '66 30', '지상', '3층']\n",
      "586 3 ['대전광역시', '중구', '안영동', nan, '71 2']\n",
      "591 3 ['대전광역시', '대덕구', '목상동', nan, '산6 2']\n",
      "594 3 ['서울특별시', '도봉구', '창2동', nan, '582 22']\n",
      "595 3 ['경상남도', '창원시 진해구', '풍호동', nan, '27 3']\n",
      "597 3 ['대구광역시', '수성구', '지산동', nan, '880 2']\n",
      "599 3 ['경상남도', '창원시 진해구', '남문동', nan, '1190 1']\n",
      "601 3 ['경상북도', '구미시', '선기동', nan, '458 1']\n",
      "602 3 ['전라북도', '군산시', '미장동', nan, '525']\n",
      "603 3 ['대전광역시', '서구', '용문동', nan, '263 9']\n",
      "604 3 ['대구광역시', '북구', '구암동', nan, '771 2']\n",
      "605 3 ['전라북도', '남원시', '노암동', nan, '612 7']\n",
      "606 3 ['대전광역시', '중구', '안영동', nan, '697']\n",
      "607 3 ['대전광역시', '서구', '흑석동', nan, '966']\n",
      "608 3 ['대전광역시', '서구', '복수동', nan, '781']\n",
      "609 3 ['대전광역시', '서구', '변동', nan, '47 32']\n",
      "611 3 ['대전광역시', '중구', '안영동', nan, '663']\n",
      "612 3 ['광주광역시', '동구', '서석동', nan, '24 2']\n",
      "613 3 ['강원도', '동해시', '묵호진동', nan, '13 64']\n",
      "615 3 ['전라남도', '목포시', '상동', nan, '32']\n",
      "617 3 ['충청남도', '천안시 동남구', '신부동', nan, '132 8']\n",
      "618 3 ['전라남도', '목포시', '남교동', nan, '57']\n",
      "620 3 ['충청남도', '천안시 동남구', '청수동', nan, '270']\n",
      "621 3 ['전라북도', '전주시 덕진구', '만성동', nan, '1165']\n",
      "622 3 ['충청남도', '보령시', '대천동', nan, '460 137']\n",
      "623 3 ['대전광역시', '대덕구', '장동', nan, '210 14']\n",
      "624 3 ['대전광역시', '대덕구', '장동', nan, '326 17']\n",
      "626 3 ['대전광역시', '대덕구', '장동', nan, '366 11']\n",
      "627 3 ['전라남도', '목포시', '측후동', nan, '4']\n",
      "630 3 ['대전광역시', '서구', '복수동', nan, '690']\n",
      "632 3 ['대전광역시', '유성구', '교촌동', nan, '568 1']\n",
      "633 3 ['전라남도', '목포시', '용당동', nan, '993 2']\n",
      "635 3 ['대전광역시', '서구', '탄방동', nan, '1379']\n",
      "636 3 ['충청북도', '청주시 서원구', '모충동', nan, '404']\n",
      "638 3 ['강원도', '동해시', '망상동', nan, '393 14']\n",
      "639 3 ['경기도', '하남시', '신장동', nan, '27']\n",
      "640 3 ['충청남도', '논산시', '취암동', nan, '822']\n",
      "641 3 ['울산광역시', '남구', '두왕동', nan, '761 12']\n",
      "646 3 ['부산광역시', '동래구', '명장동', nan, '538']\n",
      "647 3 ['부산광역시', '서구', '암남동', nan, '89 1']\n",
      "663 3 ['경상남도', '통영시', '무전동', nan, '357']\n",
      "664 3 ['경상남도', '창원시 성산구', '성주동', nan, '178']\n",
      "665 3 ['경상남도', '김해시', '불암동', nan, '220 17']\n",
      "666 3 ['경상남도', '김해시', '외동', nan, '산', '28 1']\n",
      "670 3 ['경상북도', '구미시', '거의동', nan, '468']\n",
      "671 3 ['전라남도', '나주시', '송월동', nan, '1100']\n",
      "673 3 ['전라남도', '순천시', '남정동', nan, '256 6']\n",
      "678 3 ['충청남도', '서산시', '잠홍동', nan, '344']\n",
      "685 3 ['충청북도', '제천시', '동현동', nan, '321']\n",
      "690 3 ['경상남도', '창원시 성산구', '중앙동', nan, '92']\n",
      "691 3 ['경상남도', '양산시', '다방동', nan, '572 1']\n",
      "693 3 ['경상북도', '포항시 남구', '대잠동', nan, '780 230']\n",
      "699 3 ['충청남도', '보령시', '동대동', nan, '576 1']\n",
      "700 3 ['경상북도', '포항시 남구', '지곡동', nan, '964 12']\n",
      "701 3 ['경상북도', '포항시 남구', '대잠동', nan, '780 196']\n",
      "703 3 ['경상북도', '포항시 남구', '대잠동', nan, '780 78']\n",
      "706 3 ['전라남도', '나주시', '송월동', nan, '1356']\n",
      "707 3 ['충청북도', '청주시 상당구', '수동', nan, '138 8']\n",
      "708 3 ['전라남도', '나주시', '송월동', nan, '1078 2']\n",
      "716 3 ['광주광역시', '남구', '주월동', nan, '974 145']\n",
      "717 3 ['경기도', '광주시', '역동', nan, '27 15외', '6']\n",
      "718 3 ['울산광역시', '남구', '무거동', nan, '759']\n",
      "719 3 ['울산광역시', '남구', '삼산동', nan, '1622 4']\n",
      "722 3 ['경상북도', '영천시', '문외동', nan, '245 3']\n",
      "729 3 ['경상북도', '영주시', '가흥동', nan, '3 19']\n",
      "737 3 ['전라남도', '나주시', '삼도동', nan, '1386 3']\n",
      "738 3 ['경기도', '안산시 상록구', '사동', nan, '1466 16']\n",
      "739 3 ['경상북도', '구미시', '거의동', nan, '612 4']\n",
      "740 3 ['경기도', '안산시 단원구', '와동', nan, '94']\n",
      "741 3 ['경상북도', '구미시', '봉곡동', nan, '419']\n",
      "746 3 ['경상북도', '김천시', '평화동', nan, '374 1']\n",
      "752 3 ['경상남도', '진주시', '충무공동', nan, '15 4']\n",
      "754 3 ['경상북도', '포항시 남구', '청림동', nan, '517 1']\n",
      "755 3 ['서울특별시', '서초구', '양재동', nan, '237']\n",
      "756 3 ['경기도', '안산시 상록구', '본오동', nan, '1080']\n",
      "757 3 ['경기도', '안산시 단원구', '와동', nan, '608']\n",
      "758 3 ['경기도', '안산시 단원구', '선부동', nan, '703 2']\n",
      "759 3 ['경기도', '안산시 단원구', '원곡동', nan, '990 1']\n",
      "760 3 ['서울특별시', '서초구', '반포동', nan, '49 8']\n",
      "762 3 ['서울특별시', '양천구', '신정6동', nan, '322 5']\n",
      "764 1 ['세종특별자치시', nan, '한솔동', '961']\n",
      "764 3 ['세종특별자치시', nan, '한솔동', nan, '961']\n",
      "765 3 ['전라남도', '나주시', '성북동', nan, '207']\n",
      "766 3 ['충청북도', '충주시', '금릉동', nan, '699']\n",
      "767 1 ['세종특별자치시', nan, '연서면', '용암리', '208 5']\n",
      "771 3 ['강원도', '속초시', '금호동', nan, '488 408']\n",
      "773 3 ['대전광역시', '서구', '관저동', nan, '1199']\n",
      "774 3 ['전라남도', '여수시', '화장동', nan, '945 1']\n",
      "775 3 ['경기도', '구리시', '토평동', nan, '810']\n",
      "776 3 ['전라남도', '순천시', '교량동', nan, '624 1']\n",
      "780 3 ['경기도', '안산시', '월피동', nan, '483 10']\n",
      "781 3 ['경상북도', '안동시', '성곡동', nan, '781']\n",
      "782 3 ['전라남도', '여수시', '오림동', nan, '104']\n",
      "783 3 ['제주특별자치도', '제주시', '삼양1동', nan, '1637 1']\n",
      "788 3 ['부산광역시', '강서구', '대저2동', nan, '2764']\n",
      "792 3 ['경상남도', '창원시 진해구', '남양동', nan, '166 1']\n",
      "795 3 ['대구광역시', '달서구', '도원동', nan, '928']\n",
      "801 3 ['경상북도', '포항시 남구', '지곡동', nan, '482']\n",
      "803 3 ['경상남도', '창원시 진해구', '태백동', nan, '104']\n",
      "805 3 ['경기도', '안산시 상록구', '팔곡이동', nan, '608']\n",
      "806 3 ['경기도', '안산시 단원구', '고잔동', nan, '44 1']\n",
      "807 3 ['경기도', '안산시 단원구', '와동', nan, '320 9']\n",
      "808 3 ['경기도', '안산시 상록구', '사동', nan, '854 2']\n",
      "811 3 ['제주특별자치도', '제주시', '외도일동', nan, '632 7']\n",
      "816 3 ['대구광역시', '수성구', '지산동', nan, '산', '136']\n",
      "822 3 ['충청남도', '아산시', '온천동', nan, '1880']\n",
      "828 3 ['강원도', '원주시', '학성동', nan, '1023 100']\n",
      "834 3 ['전라북도', '전주시 덕진구', '송천동', nan, '2가', '1316']\n",
      "836 3 ['전라북도', '전주시 덕진구', '송천동', nan, '2가', '1257']\n",
      "842 3 ['전라남도', '목포시', '석현동', nan, '1175']\n",
      "846 3 ['경상북도', '김천시', '신음동', nan, '1015 2']\n",
      "855 3 ['인천광역시', '중구', '을왕동', nan, '808 5']\n",
      "857 3 ['인천광역시', '미추홀구', '관교동', nan, '12']\n",
      "862 3 ['충청남도', '아산시', '방축동', nan, '5']\n",
      "872 3 ['울산광역시', '남구', '선암동', nan, '584 8번지']\n",
      "874 3 ['경상남도', '김해시', '삼방동', nan, '840 2']\n",
      "885 3 ['울산광역시', '중구', '반구동', nan, '582 6']\n",
      "886 3 ['울산광역시', '중구', '반구동', nan, '46 2']\n",
      "889 3 ['대전광역시', '동구', '가양동', nan, '65']\n",
      "890 3 ['대구광역시', '수성구', '범어동', nan, '415 4']\n",
      "892 3 ['강원도', '강릉시', '포남동', nan, '892 7']\n",
      "893 3 ['강원도', '삼척시', '정상동', nan, '376 17']\n",
      "897 3 ['강원도', '삼척시', '남양동', nan, '39 25']\n",
      "907 3 ['서울특별시', '서대문구', '남가좌2동', nan, '3 75']\n",
      "916 3 ['경상남도', '거제시', '능포동', nan, '401 4']\n",
      "920 3 ['경기도', '의정부시', '가능동', nan, '628']\n",
      "921 3 ['경기도', '의정부시', '장암동', nan, '159']\n",
      "923 3 ['경상남도', '진주시', '남성동', nan, '3 1']\n",
      "924 3 ['경상남도', '김해시', '관동동', nan, '332']\n",
      "926 3 ['경상북도', '구미시', '옥계동', nan, '941']\n",
      "930 2 ['강원도', '화천군', nan, '하리', '51 8']\n",
      "932 3 ['충청남도', '보령시', '명천동', nan, '269 4']\n",
      "934 3 ['경상북도', '김천시', '부곡동', nan, '1330']\n",
      "946 3 ['경상남도', '창원시 진해구', '자은동', nan, '401 2']\n",
      "958 3 ['경상남도', '창원시 성산구', '반송동', nan, '201']\n",
      "960 2 ['경상남도', '하동군', nan, '중평리', '763']\n",
      "966 3 ['광주광역시', '광산구', '남산동', nan, '698 20']\n",
      "983 3 ['광주광역시', '북구', '월출동', nan, '987']\n",
      "984 3 ['강원도', '춘천시', '퇴계동', nan, '1072']\n",
      "996 1 ['세종특별자치시', nan, '연기면', '세종리', '548 88']\n",
      "1002 3 ['경상북도', '구미시', '광평동', nan, '366 4']\n",
      "1012 3 ['충청남도', '보령시', '신흑동', nan, '2285', '2286']\n",
      "1013 3 ['충청남도', '서산시', '동문동', nan, '800번지', ' ']\n",
      "1017 3 ['강원도', '강릉시', '안현동', nan, '868 6']\n",
      "1020 3 ['대구광역시', '동구', '둔산동', nan, '934 3']\n",
      "1021 3 ['대구광역시', '동구', '효목동', nan, '1042']\n",
      "1022 3 ['부산광역시', '남구', '용당동', nan, '454 2']\n",
      "1023 2 ['경상남도', '진주시', nan, '속사리', '175']\n",
      "1027 3 ['부산광역시', '남구', '용호동', nan, '947 1']\n",
      "1028 3 ['대구광역시', '동구', '봉무동', nan, '산', '138 5']\n",
      "1029 3 ['경상북도', '포항시 남구', '대잠동', nan, '969']\n",
      "1030 3 ['강원도', '춘천시', '송암동', nan, '357 1']\n",
      "1031 3 ['광주광역시', '광산구', '황룡동', nan, '1 4']\n",
      "1032 3 ['경기도', '구리시', '갈매동', nan, '53 44']\n",
      "1035 3 ['강원도', '동해시', '천곡동', nan, '996']\n",
      "1036 3 ['경상남도', '창원시 의창구', '사림동', nan, '70']\n",
      "1039 3 ['강원도', '강릉시', '남항진동', nan, '산', '7 7']\n",
      "1041 3 ['충청남도', '아산시', '온천동', nan, '1926']\n",
      "1045 3 ['제주특별자치도', '제주시', '노형동', nan, '2517 1']\n",
      "1046 3 ['제주특별자치도', '제주시', '노형동', nan, '2534 3']\n",
      "1053 3 ['경상북도', '포항시 북구', '죽도동', nan, '557 7']\n",
      "1056 3 ['인천광역시', '중구', '송월동', nan, '2가', '4']\n",
      "1057 3 ['인천광역시', '중구', '운북동', nan, '464']\n",
      "1061 3 ['경기도', '시흥시', '정왕동', nan, '2402']\n",
      "1062 3 ['경상남도', '창원시 마산합포구', '현동', nan, '7길27']\n",
      "1063 3 ['경기도', '시흥시', '정왕동', nan, '2446']\n",
      "1064 3 ['경기도', '시흥시', '정왕동', nan, '2421']\n",
      "1065 3 ['경기도', '안산시 단원구', '초지동', nan, '43 6']\n",
      "1068 3 ['경기도', '안산시 상록구', '부곡동', nan, '719 1']\n",
      "1070 3 ['울산광역시', '남구', '옥동', nan, '363 1']\n",
      "1074 3 ['울산광역시', '남구', '옥동', nan, '95']\n",
      "1075 3 ['경기도', '안양시 동안구', '관양동', nan, '1709']\n",
      "1077 3 ['전라남도', '여수시', '시전동', nan, '684']\n",
      "1078 3 ['경상남도', '합천군', '합천읍', nan, '교동', '1길33']\n",
      "1083 3 ['경기도', '고양시 덕양구', '용두동', nan, '2 71']\n",
      "1090 3 ['경기도', '안산시 단원구', '고잔동', nan, '556 1']\n",
      "1093 3 ['강원도', '속초시', '대포동', nan, '976']\n",
      "1096 3 ['강원도', '속초시', '대포동', nan, '993 1']\n",
      "1099 2 ['강원도', '양양군', nan, '포월리', '262']\n",
      "1103 3 ['전라북도', '익산시', '남중동', nan, '12 1']\n",
      "1104 3 ['서울특별시', '영등포구', '여의도동', nan, '1']\n",
      "1106 3 ['전라북도', '군산시', '수송동', nan, '851']\n",
      "1107 3 ['서울특별시', '서초구', '원지동', nan, '361 1']\n",
      "1108 3 ['경기도', '안산시 단원구', '고잔동', nan, '654 19']\n",
      "1109 3 ['서울특별시', '중랑구', '중화동', nan, '73 10']\n",
      "1110 3 ['광주광역시', '서구', '치평동', nan, '1162']\n",
      "1111 3 ['서울특별시', '중랑구', '중화동', nan, '73 5']\n",
      "1113 3 ['경기도', '여주시', '창동', nan, '46']\n",
      "1115 3 ['경기도', '안산시 단원구', '와동', nan, '227']\n",
      "1116 3 ['경기도', '안산시 단원구', '선부동', nan, '677 6']\n",
      "1117 3 ['경기도', '안산시 상록구', '부곡동', nan, '705']\n",
      "1119 3 ['경기도', '하남시', '천현동', nan, '507 3']\n",
      "1120 3 ['경기도', '평택시', '통복동', nan, '69 1']\n",
      "1121 3 ['경기도', '과천시', '갈현동', nan, '산', '31 1']\n",
      "1122 3 ['경기도', '화성시', '영천동', nan, '120 5']\n",
      "1124 3 ['경기도', '안산시 단원구', '대부동동', nan, '산148 4']\n",
      "1125 3 ['광주광역시', '동구', '내남동', nan, '284']\n",
      "1126 3 ['경기도', '시흥시', '정왕동', nan, '2579']\n",
      "1127 3 ['광주광역시', '남구', '진월동', nan, '330 49']\n",
      "1128 3 ['경기도', '시흥시', '조남동', nan, '656']\n",
      "1129 3 ['경기도', '안산시 단원구', '와동', nan, '515 4']\n",
      "1132 3 ['경기도', '성남시 중원구', '성남동', nan, '4596']\n",
      "1133 3 ['경기도', '성남시 중원구', '중앙동', nan, '2169']\n",
      "1134 3 ['경기도', '성남시 수정구', '산성동', nan, '508']\n",
      "1135 3 ['충청북도', '영동군', '황간면', nan, '원촌동', '1길54 8']\n",
      "1136 3 ['경기도', '성남시 수정구', '단대동', nan, '27 1']\n",
      "1137 3 ['경기도', '성남시 수정구', '단대동', nan, '산', '164 3']\n",
      "1141 3 ['경기도', '안산시 단원구', '선부동', nan, '1121 14']\n",
      "1149 3 ['경기도', '시흥시', '정왕동', nan, '2394']\n",
      "1156 2 ['전라북도', '부안군', nan, '중계리', '190 8']\n",
      "1157 3 ['경기도', '성남시 중원구', '은행2동', nan, '1789']\n",
      "1158 3 ['경기도', '시흥시', '정왕동', nan, '2466']\n",
      "1160 3 ['경기도', '시흥시', '정왕동', nan, '1771 23']\n",
      "1162 3 ['전라북도', '군산시', '구암동', nan, '613']\n",
      "1163 3 ['전라북도', '군산시', '미장동', nan, '500 1']\n",
      "1165 3 ['경기도', '안산시 상록구', '팔곡이동', nan, '508 4']\n",
      "1166 3 ['전라북도', '군산시', '나운동', nan, '156 1']\n",
      "1172 3 ['경기도', '여주시', '창동', nan, '138 7']\n",
      "1173 3 ['경기도', '안성시', '옥산동', nan, '596']\n",
      "1175 3 ['강원도', '강릉시', '홍제동', nan, '101']\n",
      "1177 2 ['전라북도', '정읍시', nan, '신태인리', '260 1']\n",
      "1185 3 ['인천광역시', '연수구', '연수동', nan, '587']\n",
      "1190 3 ['경기도', '동두천시', '동두천동', nan, '289 2']\n",
      "1193 3 ['전라북도', '남원시', '노암동', nan, '839 1']\n",
      "1194 3 ['전라남도', '순천시', '조례동', nan, '138']\n",
      "1195 3 ['경기도', '고양시 일산서구', '탄현동', nan, '1596']\n",
      "1196 3 ['전라북도', '남원시', '용정동', nan, '75 14']\n",
      "1197 2 ['전라북도', '정읍시', nan, '신태인리', '214 2']\n",
      "1199 3 ['전라북도', '남원시', '광치동', nan, '195 15']\n",
      "1211 3 ['전라북도', '익산시', '인화동', nan, '2가', '7']\n",
      "1213 3 ['전라북도', '익산시', '팔봉동', nan, '883']\n",
      "1217 3 ['충청북도', '충주시', '지현동', nan, '696']\n",
      "1224 2 ['충청남도', '천안시 동남구', nan, '병천리', '211 1']\n",
      "1226 3 ['전라남도', '순천시', '가곡동', nan, '236 1']\n",
      "1240 3 ['경기도', '안산시 단원구', '원시동', nan, '782 16']\n",
      "1241 3 ['전라남도', '여수시', '웅천동', nan, '1865 1']\n",
      "1242 1 ['세종특별자치시', nan, '연동면', '응암리', '916']\n",
      "1244 1 ['세종특별자치시', nan, '연동면', '내판리', '713']\n",
      "1245 3 ['전라남도', '광양시', '마동', nan, '1188']\n",
      "1247 3 ['대구광역시', '달서구', '두류동', nan, '1252 4']\n",
      "1249 3 ['광주광역시', '남구', '임암동', nan, '986']\n",
      "1250 3 ['대전광역시', '대덕구', '송촌동', nan, '458']\n",
      "1251 3 ['전라북도', '전주시 완산구', '서서학동', nan, '986 6']\n",
      "1254 3 ['경상북도', '경산시', '임당동', nan, '860']\n",
      "1256 3 ['경상북도', '경산시', '계양동', nan, '732']\n",
      "1268 3 ['전라남도', '순천시', '연향동', nan, '1686 6']\n",
      "1270 3 ['경상남도', '거제시', '양정동', nan, '665 1']\n",
      "1280 3 ['경상북도', '경주시', '신평동', nan, '375 7']\n",
      "1288 3 ['경기도', '안양시 만안구', '안양동', nan, '1041 1']\n",
      "1294 3 ['울산광역시', '중구', '우정동', nan, '277 4']\n",
      "1295 3 ['경기도', '화성시', '송동', nan, '727']\n",
      "1297 2 ['경상북도', '영주시', nan, '옥대리', '164 4']\n",
      "1298 3 ['서울특별시', '강남구', '개포동', nan, '1273']\n",
      "1299 3 ['서울특별시', '강남구', '도곡동', nan, '922']\n",
      "1300 3 ['경상남도', '김해시', '봉황동', nan, '465']\n",
      "1301 3 ['경상남도', '사천시', '동림동', nan, '200']\n",
      "1303 3 ['서울특별시', '중랑구', '중화동', nan, '73 6']\n",
      "1315 3 ['충청남도', '천안시 동남구', '안서동', nan, '526 39']\n",
      "1316 3 ['충청남도', '천안시 서북구', '두정동', nan, '91 1']\n",
      "1319 3 ['경상남도', '진주시', '신안동', nan, '9 3']\n",
      "1320 3 ['경상남도', '진주시', '평거동', nan, '202 1']\n",
      "1322 3 ['부산광역시', '사상구', '덕포동', nan, '415 2']\n",
      "1324 3 ['경기도', '고양시 일산동구', '식사동', nan, '425 4']\n",
      "1325 3 ['경상북도', '포항시 북구', '장성동', nan, '1365']\n",
      "1327 3 ['인천광역시', '서구', '경서동', nan, '673 6']\n",
      "1335 3 ['부산광역시', '해운대구', '좌동', nan, '사서함', '321 16호']\n",
      "1339 3 ['인천광역시', '계양구', '서운동', nan, '207 1']\n",
      "1340 3 ['충청남도', '공주시', '신관동', nan, '4']\n",
      "1348 3 ['부산광역시', '강서구', '대저1동', nan, '1619']\n",
      "1352 3 ['경상남도', '통영시', '도남동', nan, '354']\n",
      "1360 3 ['충청남도', '아산시', '방축동', nan, '655 5']\n",
      "1364 3 ['경기도', '남양주시', '다산동', nan, '6148']\n",
      "1366 3 ['경기도', '화성시', '석우동', nan, '60']\n",
      "1368 3 ['경기도', '안산시 단원구', '대부북동', nan, '1870 201']\n",
      "1369 3 ['경상북도', '김천시', '부곡동', nan, '899 2']\n",
      "1374 3 ['강원도', '춘천시', '삼천동', nan, '22 15']\n",
      "1375 3 ['경상남도', '진주시', '호탄동', nan, '769']\n",
      "1376 3 ['경상남도', '사천시', '대방동', nan, '765 3']\n",
      "1377 3 ['경상남도', '통영시', '도남동', nan, '635']\n",
      "1378 3 ['경상북도', '경주시', '신평동', nan, '480 1']\n",
      "1379 3 ['충청남도', '천안시 서북구', '불당동', nan, '910']\n",
      "1380 3 ['경상남도', '양산시', '덕계동', nan, '989']\n",
      "1381 3 ['경상북도', '경주시', '북군동', nan, '8 28']\n",
      "1382 3 ['경상북도', '경주시', '동천동', nan, '800']\n",
      "1384 3 ['대구광역시', '북구', '읍내동', nan, '660 2']\n",
      "1386 3 ['경상북도', '안동시', '성곡동', nan, '1560']\n",
      "1387 3 ['서울특별시', '강남구', '수서동', nan, '718']\n",
      "1389 3 ['충청남도', '공주시', '송선동', nan, '320 16']\n",
      "1390 3 ['경상북도', '경주시', '황성동', nan, '1053 231']\n",
      "1392 3 ['경상북도', '구미시', '구포동', nan, '1168']\n",
      "1398 3 ['충청북도', '청주시 청원구', '오동동', nan, '339 1']\n",
      "1403 3 ['울산광역시', '남구', '옥동', nan, '635 3']\n",
      "1407 3 ['경상북도', '상주시', '성동동', nan, '67 1']\n",
      "1408 3 ['경상북도', '경주시', '신평동', nan, '485 4']\n",
      "1409 3 ['경상북도', '경주시', '신평동', nan, '719 216']\n",
      "1411 3 ['경상북도', '경주시', '신평동', nan, '417 6']\n",
      "1412 3 ['경상북도', '경주시', '신평동', nan, '391 2']\n",
      "1413 3 ['충청남도', '보령시', '대천동', nan, '406 6']\n",
      "1415 3 ['충청남도', '아산시', '온천동', nan, '1906']\n",
      "1416 3 ['충청남도', '천안시 동남구', '구성동', nan, '153 77']\n",
      "1418 3 ['전라남도', '순천시', '조례동', nan, '1114']\n",
      "1419 3 ['전라남도', '순천시', '야흥동', nan, '268 3']\n",
      "1422 3 ['광주광역시', '북구', '삼각동', nan, '산148 1']\n",
      "1427 3 ['경기도', '안산시 상록구', '장하동', nan, '산8 1']\n",
      "1428 3 ['경기도', '안산시 단원구', '성곡동', nan, '696']\n",
      "1429 3 ['경기도', '안성시', '석정동', nan, '377']\n",
      "1433 3 ['서울특별시', '강북구', '우이동', nan, '산101 5']\n",
      "1434 3 ['서울특별시', '도봉구', '쌍문1동', nan, '378 35']\n",
      "1435 3 ['서울특별시', '마포구', '염리동', nan, '61 4']\n",
      "1441 3 ['대전광역시', '서구', '변동', nan, '57 1']\n",
      "1443 3 ['충청북도', '충주시', '교현동', nan, '357 4']\n",
      "1445 3 ['광주광역시', '광산구', '송정동', nan, '1007 4']\n",
      "1449 3 ['대전광역시', '서구', '변동', nan, '18 1']\n",
      "1452 3 ['대전광역시', '유성구', '덕명동', nan, '513']\n",
      "1453 3 ['대전광역시', '유성구', '교촌동', nan, '636 1']\n",
      "1454 3 ['대전광역시', '서구', '관저동', nan, '843 16']\n",
      "1456 3 ['대전광역시', '유성구', '신성동', nan, '211 2']\n",
      "1461 3 ['대전광역시', '유성구', '송강동', nan, '36 8']\n",
      "1462 3 ['대전광역시', '유성구', '송강동', nan, '16 1']\n",
      "1463 3 ['전라남도', '목포시', '옥암동', nan, '1100']\n",
      "1467 3 ['대전광역시', '서구', '복수동', nan, '292 25']\n",
      "1470 3 ['경기도', '고양시 덕양구', '행주외동', nan, '60 10']\n",
      "1471 3 ['경기도', '시흥시', '정왕동', nan, '876 537']\n",
      "1472 3 ['경기도', '안산시 단원구', '초지동', nan, '674 1']\n",
      "1473 3 ['경상남도', '사천시', '실안동', nan, '1234 1']\n",
      "1474 3 ['경기도', '안산시 단원구', '고잔동', nan, '679 1']\n",
      "1478 3 ['충청남도', '서산시', '예천동', nan, '1277 3']\n",
      "1479 3 ['충청남도', '서산시', '동문동', nan, '982 4']\n",
      "1480 3 ['충청남도', '서산시', '동문동', nan, '934 9']\n",
      "1487 3 ['전라남도', '나주시', '빛가람동', nan, '891 2']\n",
      "1490 3 ['광주광역시', '북구', '운암동', nan, '1582']\n",
      "1492 3 ['인천광역시', '연수구', '청학동', nan, '466 1']\n",
      "1493 3 ['인천광역시', '연수구', '청학동', nan, '90 5']\n",
      "1496 3 ['경기도', '남양주시', '평내동', nan, '588 3']\n",
      "1500 3 ['서울특별시', '강남구', '일원동', nan, '4 49']\n",
      "1519 3 ['제주특별자치도', '서귀포시', '신효동', nan, '881 8']\n",
      "1525 3 ['충청남도', '서산시', '읍내동', nan, '472 5']\n",
      "1526 3 ['경상남도', '김해시', '대청동', nan, '산63 2']\n"
     ]
    },
    {
     "name": "stderr",
     "output_type": "stream",
     "text": [
      "\n"
     ]
    }
   ],
   "source": [
    "for i, adrs in tqdm(enumerate(old_adr_address_unique_split2)):\n",
    "    for j, one in enumerate(adrs):\n",
    "        if j == 0:\n",
    "            if ad1_p.search(one):\n",
    "                pass\n",
    "            else:\n",
    "                print(i, j, old_adr_address_unique_split2[i])\n",
    "        elif j == 1:\n",
    "            if ad2_p.search(one):\n",
    "                pass\n",
    "            else:\n",
    "                adrs.insert(j, np.nan)\n",
    "                print(i, j, old_adr_address_unique_split2[i])\n",
    "        elif j == 2:\n",
    "            if ad3_p.search(one):\n",
    "                pass\n",
    "            else:\n",
    "                adrs.insert(j, np.nan)\n",
    "                print(i, j, old_adr_address_unique_split2[i])\n",
    "        elif j == 3:\n",
    "            if ad4_p.search(one):\n",
    "                pass\n",
    "            else:\n",
    "                adrs.insert(j, np.nan)\n",
    "                print(i, j, old_adr_address_unique_split2[i])\n"
   ]
  },
  {
   "cell_type": "code",
   "execution_count": 899,
   "metadata": {},
   "outputs": [
    {
     "name": "stdout",
     "output_type": "stream",
     "text": [
      "588 ['충청남도', '당진시', '정미면', '천의리', '245 4', '천의삼거리', '주차장', '내']\n"
     ]
    }
   ],
   "source": [
    "# 6번째 구분에 4, 5번째 구분 주소 존재 여부 체크\n",
    "for i, one in enumerate(old_adr_address_unique_split2):\n",
    "    try:\n",
    "        if ad4_p.search(one[5]) or ad5_p.search(one[5]):\n",
    "            print(i, one)\n",
    "    except:\n",
    "        pass"
   ]
  },
  {
   "cell_type": "code",
   "execution_count": 900,
   "metadata": {},
   "outputs": [],
   "source": [
    "# 7번째 구분에 4, 5번째 구분 주소 존재 여부 체크\n",
    "for i, one in enumerate(old_adr_address_unique_split2):\n",
    "    try:\n",
    "        if ad4_p.search(one[6]) or ad5_p.search(one[6]):\n",
    "            print(i, one)\n",
    "    except:\n",
    "        pass"
   ]
  },
  {
   "cell_type": "markdown",
   "metadata": {},
   "source": [
    "#### 분리 주소 동일한 리스트 길이로 맞추기"
   ]
  },
  {
   "cell_type": "code",
   "execution_count": 901,
   "metadata": {},
   "outputs": [],
   "source": [
    "sliced_old_adrs = [one[:5] for one in old_adr_address_unique_split2]"
   ]
  },
  {
   "cell_type": "markdown",
   "metadata": {},
   "source": [
    "#### 구주소 세분류 저장"
   ]
  },
  {
   "cell_type": "code",
   "execution_count": 902,
   "metadata": {},
   "outputs": [
    {
     "data": {
      "text/html": [
       "<div>\n",
       "<style scoped>\n",
       "    .dataframe tbody tr th:only-of-type {\n",
       "        vertical-align: middle;\n",
       "    }\n",
       "\n",
       "    .dataframe tbody tr th {\n",
       "        vertical-align: top;\n",
       "    }\n",
       "\n",
       "    .dataframe thead th {\n",
       "        text-align: right;\n",
       "    }\n",
       "</style>\n",
       "<table border=\"1\" class=\"dataframe\">\n",
       "  <thead>\n",
       "    <tr style=\"text-align: right;\">\n",
       "      <th></th>\n",
       "      <th>지역</th>\n",
       "      <th>시군구</th>\n",
       "      <th>읍면동</th>\n",
       "      <th>리</th>\n",
       "      <th>도로명</th>\n",
       "    </tr>\n",
       "  </thead>\n",
       "  <tbody>\n",
       "    <tr>\n",
       "      <th>0</th>\n",
       "      <td>서울특별시</td>\n",
       "      <td>구로구</td>\n",
       "      <td>오류동</td>\n",
       "      <td>NaN</td>\n",
       "      <td>174 10</td>\n",
       "    </tr>\n",
       "    <tr>\n",
       "      <th>1</th>\n",
       "      <td>경상남도</td>\n",
       "      <td>통영시</td>\n",
       "      <td>광도면</td>\n",
       "      <td>죽림리</td>\n",
       "      <td>292 33</td>\n",
       "    </tr>\n",
       "    <tr>\n",
       "      <th>2</th>\n",
       "      <td>전라북도</td>\n",
       "      <td>완주군</td>\n",
       "      <td>봉동읍</td>\n",
       "      <td>둔산리</td>\n",
       "      <td>881</td>\n",
       "    </tr>\n",
       "    <tr>\n",
       "      <th>3</th>\n",
       "      <td>충청남도</td>\n",
       "      <td>공주시</td>\n",
       "      <td>정안면</td>\n",
       "      <td>석송리</td>\n",
       "      <td>None</td>\n",
       "    </tr>\n",
       "    <tr>\n",
       "      <th>4</th>\n",
       "      <td>충청북도</td>\n",
       "      <td>단양군</td>\n",
       "      <td>적성면</td>\n",
       "      <td>기동리</td>\n",
       "      <td>None</td>\n",
       "    </tr>\n",
       "  </tbody>\n",
       "</table>\n",
       "</div>"
      ],
      "text/plain": [
       "      지역  시군구  읍면동    리     도로명\n",
       "0  서울특별시  구로구  오류동  NaN  174 10\n",
       "1   경상남도  통영시  광도면  죽림리  292 33\n",
       "2   전라북도  완주군  봉동읍  둔산리     881\n",
       "3   충청남도  공주시  정안면  석송리    None\n",
       "4   충청북도  단양군  적성면  기동리    None"
      ]
     },
     "execution_count": 902,
     "metadata": {},
     "output_type": "execute_result"
    }
   ],
   "source": [
    "sliced_old_df = pd.DataFrame(sliced_old_adrs, columns=['지역', '시군구', '읍면동', '리', '도로명'])\n",
    "sliced_old_df.head()"
   ]
  },
  {
   "cell_type": "code",
   "execution_count": 903,
   "metadata": {},
   "outputs": [
    {
     "data": {
      "text/html": [
       "<div>\n",
       "<style scoped>\n",
       "    .dataframe tbody tr th:only-of-type {\n",
       "        vertical-align: middle;\n",
       "    }\n",
       "\n",
       "    .dataframe tbody tr th {\n",
       "        vertical-align: top;\n",
       "    }\n",
       "\n",
       "    .dataframe thead th {\n",
       "        text-align: right;\n",
       "    }\n",
       "</style>\n",
       "<table border=\"1\" class=\"dataframe\">\n",
       "  <thead>\n",
       "    <tr style=\"text-align: right;\">\n",
       "      <th></th>\n",
       "      <th>지역</th>\n",
       "      <th>시군구</th>\n",
       "      <th>읍면동</th>\n",
       "      <th>리</th>\n",
       "      <th>도로명</th>\n",
       "      <th>주소</th>\n",
       "    </tr>\n",
       "  </thead>\n",
       "  <tbody>\n",
       "    <tr>\n",
       "      <th>0</th>\n",
       "      <td>서울특별시</td>\n",
       "      <td>구로구</td>\n",
       "      <td>오류동</td>\n",
       "      <td>NaN</td>\n",
       "      <td>174 10</td>\n",
       "      <td>서울특별시 구로구 오류동 174-10 천왕역 환승주차장 1층</td>\n",
       "    </tr>\n",
       "    <tr>\n",
       "      <th>1</th>\n",
       "      <td>경상남도</td>\n",
       "      <td>통영시</td>\n",
       "      <td>광도면</td>\n",
       "      <td>죽림리</td>\n",
       "      <td>292 33</td>\n",
       "      <td>경상남도 통영시 광도면 죽림리 292-33</td>\n",
       "    </tr>\n",
       "    <tr>\n",
       "      <th>2</th>\n",
       "      <td>전라북도</td>\n",
       "      <td>완주군</td>\n",
       "      <td>봉동읍</td>\n",
       "      <td>둔산리</td>\n",
       "      <td>881</td>\n",
       "      <td>전라북도 완주군 봉동읍 둔산리 881</td>\n",
       "    </tr>\n",
       "    <tr>\n",
       "      <th>3</th>\n",
       "      <td>충청남도</td>\n",
       "      <td>공주시</td>\n",
       "      <td>정안면</td>\n",
       "      <td>석송리</td>\n",
       "      <td>None</td>\n",
       "      <td>충청남도 공주시 정안면 석송리</td>\n",
       "    </tr>\n",
       "    <tr>\n",
       "      <th>4</th>\n",
       "      <td>충청북도</td>\n",
       "      <td>단양군</td>\n",
       "      <td>적성면</td>\n",
       "      <td>기동리</td>\n",
       "      <td>None</td>\n",
       "      <td>충청북도 단양군 적성면 기동리</td>\n",
       "    </tr>\n",
       "  </tbody>\n",
       "</table>\n",
       "</div>"
      ],
      "text/plain": [
       "      지역  시군구  읍면동    리     도로명                                 주소\n",
       "0  서울특별시  구로구  오류동  NaN  174 10  서울특별시 구로구 오류동 174-10 천왕역 환승주차장 1층\n",
       "1   경상남도  통영시  광도면  죽림리  292 33            경상남도 통영시 광도면 죽림리 292-33\n",
       "2   전라북도  완주군  봉동읍  둔산리     881               전라북도 완주군 봉동읍 둔산리 881\n",
       "3   충청남도  공주시  정안면  석송리    None                   충청남도 공주시 정안면 석송리\n",
       "4   충청북도  단양군  적성면  기동리    None                   충청북도 단양군 적성면 기동리"
      ]
     },
     "execution_count": 903,
     "metadata": {},
     "output_type": "execute_result"
    }
   ],
   "source": [
    "sliced_old_df['주소'] = pick_old_adrs\n",
    "sliced_old_df.head()"
   ]
  },
  {
   "cell_type": "code",
   "execution_count": 904,
   "metadata": {},
   "outputs": [
    {
     "data": {
      "text/html": [
       "<div>\n",
       "<style scoped>\n",
       "    .dataframe tbody tr th:only-of-type {\n",
       "        vertical-align: middle;\n",
       "    }\n",
       "\n",
       "    .dataframe tbody tr th {\n",
       "        vertical-align: top;\n",
       "    }\n",
       "\n",
       "    .dataframe thead th {\n",
       "        text-align: right;\n",
       "    }\n",
       "</style>\n",
       "<table border=\"1\" class=\"dataframe\">\n",
       "  <thead>\n",
       "    <tr style=\"text-align: right;\">\n",
       "      <th></th>\n",
       "      <th>주소</th>\n",
       "      <th>지역</th>\n",
       "      <th>시군구</th>\n",
       "      <th>읍면동</th>\n",
       "      <th>리</th>\n",
       "      <th>도로명</th>\n",
       "    </tr>\n",
       "  </thead>\n",
       "  <tbody>\n",
       "    <tr>\n",
       "      <th>0</th>\n",
       "      <td>서울특별시 구로구 오류동 174-10 천왕역 환승주차장 1층</td>\n",
       "      <td>서울특별시</td>\n",
       "      <td>구로구</td>\n",
       "      <td>오류동</td>\n",
       "      <td>NaN</td>\n",
       "      <td>174 10</td>\n",
       "    </tr>\n",
       "    <tr>\n",
       "      <th>1</th>\n",
       "      <td>경상남도 통영시 광도면 죽림리 292-33</td>\n",
       "      <td>경상남도</td>\n",
       "      <td>통영시</td>\n",
       "      <td>광도면</td>\n",
       "      <td>죽림리</td>\n",
       "      <td>292 33</td>\n",
       "    </tr>\n",
       "    <tr>\n",
       "      <th>2</th>\n",
       "      <td>전라북도 완주군 봉동읍 둔산리 881</td>\n",
       "      <td>전라북도</td>\n",
       "      <td>완주군</td>\n",
       "      <td>봉동읍</td>\n",
       "      <td>둔산리</td>\n",
       "      <td>881</td>\n",
       "    </tr>\n",
       "    <tr>\n",
       "      <th>3</th>\n",
       "      <td>충청남도 공주시 정안면 석송리</td>\n",
       "      <td>충청남도</td>\n",
       "      <td>공주시</td>\n",
       "      <td>정안면</td>\n",
       "      <td>석송리</td>\n",
       "      <td>None</td>\n",
       "    </tr>\n",
       "    <tr>\n",
       "      <th>4</th>\n",
       "      <td>충청북도 단양군 적성면 기동리</td>\n",
       "      <td>충청북도</td>\n",
       "      <td>단양군</td>\n",
       "      <td>적성면</td>\n",
       "      <td>기동리</td>\n",
       "      <td>None</td>\n",
       "    </tr>\n",
       "  </tbody>\n",
       "</table>\n",
       "</div>"
      ],
      "text/plain": [
       "                                  주소     지역  시군구  읍면동    리     도로명\n",
       "0  서울특별시 구로구 오류동 174-10 천왕역 환승주차장 1층  서울특별시  구로구  오류동  NaN  174 10\n",
       "1            경상남도 통영시 광도면 죽림리 292-33   경상남도  통영시  광도면  죽림리  292 33\n",
       "2               전라북도 완주군 봉동읍 둔산리 881   전라북도  완주군  봉동읍  둔산리     881\n",
       "3                   충청남도 공주시 정안면 석송리   충청남도  공주시  정안면  석송리    None\n",
       "4                   충청북도 단양군 적성면 기동리   충청북도  단양군  적성면  기동리    None"
      ]
     },
     "execution_count": 904,
     "metadata": {},
     "output_type": "execute_result"
    }
   ],
   "source": [
    "total_sliced_old_df = sliced_old_df[['주소', '지역', '시군구', '읍면동', '리', '도로명']]\n",
    "total_sliced_old_df.head()"
   ]
  },
  {
   "cell_type": "code",
   "execution_count": 905,
   "metadata": {},
   "outputs": [
    {
     "name": "stderr",
     "output_type": "stream",
     "text": [
      "C:\\Users\\kbj\\AppData\\Local\\Temp\\ipykernel_12280\\2911272037.py:1: SettingWithCopyWarning: \n",
      "A value is trying to be set on a copy of a slice from a DataFrame.\n",
      "Try using .loc[row_indexer,col_indexer] = value instead\n",
      "\n",
      "See the caveats in the documentation: https://pandas.pydata.org/pandas-docs/stable/user_guide/indexing.html#returning-a-view-versus-a-copy\n",
      "  total_sliced_old_df['주소분류'] = 'old'\n"
     ]
    },
    {
     "data": {
      "text/html": [
       "<div>\n",
       "<style scoped>\n",
       "    .dataframe tbody tr th:only-of-type {\n",
       "        vertical-align: middle;\n",
       "    }\n",
       "\n",
       "    .dataframe tbody tr th {\n",
       "        vertical-align: top;\n",
       "    }\n",
       "\n",
       "    .dataframe thead th {\n",
       "        text-align: right;\n",
       "    }\n",
       "</style>\n",
       "<table border=\"1\" class=\"dataframe\">\n",
       "  <thead>\n",
       "    <tr style=\"text-align: right;\">\n",
       "      <th></th>\n",
       "      <th>주소</th>\n",
       "      <th>지역</th>\n",
       "      <th>시군구</th>\n",
       "      <th>읍면동</th>\n",
       "      <th>리</th>\n",
       "      <th>도로명</th>\n",
       "      <th>주소분류</th>\n",
       "    </tr>\n",
       "  </thead>\n",
       "  <tbody>\n",
       "    <tr>\n",
       "      <th>0</th>\n",
       "      <td>서울특별시 구로구 오류동 174-10 천왕역 환승주차장 1층</td>\n",
       "      <td>서울특별시</td>\n",
       "      <td>구로구</td>\n",
       "      <td>오류동</td>\n",
       "      <td>NaN</td>\n",
       "      <td>174 10</td>\n",
       "      <td>old</td>\n",
       "    </tr>\n",
       "    <tr>\n",
       "      <th>1</th>\n",
       "      <td>경상남도 통영시 광도면 죽림리 292-33</td>\n",
       "      <td>경상남도</td>\n",
       "      <td>통영시</td>\n",
       "      <td>광도면</td>\n",
       "      <td>죽림리</td>\n",
       "      <td>292 33</td>\n",
       "      <td>old</td>\n",
       "    </tr>\n",
       "    <tr>\n",
       "      <th>2</th>\n",
       "      <td>전라북도 완주군 봉동읍 둔산리 881</td>\n",
       "      <td>전라북도</td>\n",
       "      <td>완주군</td>\n",
       "      <td>봉동읍</td>\n",
       "      <td>둔산리</td>\n",
       "      <td>881</td>\n",
       "      <td>old</td>\n",
       "    </tr>\n",
       "    <tr>\n",
       "      <th>3</th>\n",
       "      <td>충청남도 공주시 정안면 석송리</td>\n",
       "      <td>충청남도</td>\n",
       "      <td>공주시</td>\n",
       "      <td>정안면</td>\n",
       "      <td>석송리</td>\n",
       "      <td>None</td>\n",
       "      <td>old</td>\n",
       "    </tr>\n",
       "    <tr>\n",
       "      <th>4</th>\n",
       "      <td>충청북도 단양군 적성면 기동리</td>\n",
       "      <td>충청북도</td>\n",
       "      <td>단양군</td>\n",
       "      <td>적성면</td>\n",
       "      <td>기동리</td>\n",
       "      <td>None</td>\n",
       "      <td>old</td>\n",
       "    </tr>\n",
       "  </tbody>\n",
       "</table>\n",
       "</div>"
      ],
      "text/plain": [
       "                                  주소     지역  시군구  읍면동    리     도로명 주소분류\n",
       "0  서울특별시 구로구 오류동 174-10 천왕역 환승주차장 1층  서울특별시  구로구  오류동  NaN  174 10  old\n",
       "1            경상남도 통영시 광도면 죽림리 292-33   경상남도  통영시  광도면  죽림리  292 33  old\n",
       "2               전라북도 완주군 봉동읍 둔산리 881   전라북도  완주군  봉동읍  둔산리     881  old\n",
       "3                   충청남도 공주시 정안면 석송리   충청남도  공주시  정안면  석송리    None  old\n",
       "4                   충청북도 단양군 적성면 기동리   충청북도  단양군  적성면  기동리    None  old"
      ]
     },
     "execution_count": 905,
     "metadata": {},
     "output_type": "execute_result"
    }
   ],
   "source": [
    "total_sliced_old_df['주소분류'] = 'old'\n",
    "total_sliced_old_df.head()"
   ]
  },
  {
   "cell_type": "markdown",
   "metadata": {},
   "source": [
    "### [unique]신주소, 구주소 출력"
   ]
  },
  {
   "cell_type": "code",
   "execution_count": 907,
   "metadata": {},
   "outputs": [
    {
     "name": "stdout",
     "output_type": "stream",
     "text": [
      "<class 'pandas.core.frame.DataFrame'>\n",
      "RangeIndex: 4340 entries, 0 to 4339\n",
      "Data columns (total 7 columns):\n",
      " #   Column  Non-Null Count  Dtype \n",
      "---  ------  --------------  ----- \n",
      " 0   주소      4340 non-null   object\n",
      " 1   지역      4340 non-null   object\n",
      " 2   시군구     4309 non-null   object\n",
      " 3   읍면동     2944 non-null   object\n",
      " 4   리       921 non-null    object\n",
      " 5   도로명     4313 non-null   object\n",
      " 6   주소분류    4340 non-null   object\n",
      "dtypes: object(7)\n",
      "memory usage: 237.5+ KB\n"
     ]
    }
   ],
   "source": [
    "total_df = pd.concat([total_new_df, total_sliced_old_df], ignore_index=True)\n",
    "total_df.info()"
   ]
  },
  {
   "cell_type": "code",
   "execution_count": 908,
   "metadata": {},
   "outputs": [],
   "source": [
    "total_df.to_excel('분석/2020-22년_급속충전_주소_분류.xlsx', encoding='utf-8')"
   ]
  },
  {
   "cell_type": "markdown",
   "metadata": {},
   "source": [
    "## 주소 분리"
   ]
  },
  {
   "cell_type": "code",
   "execution_count": null,
   "metadata": {},
   "outputs": [],
   "source": []
  },
  {
   "cell_type": "code",
   "execution_count": null,
   "metadata": {},
   "outputs": [],
   "source": []
  },
  {
   "cell_type": "code",
   "execution_count": null,
   "metadata": {},
   "outputs": [],
   "source": []
  },
  {
   "cell_type": "code",
   "execution_count": null,
   "metadata": {},
   "outputs": [],
   "source": []
  },
  {
   "cell_type": "markdown",
   "metadata": {},
   "source": [
    "### 신주소 상세 분리"
   ]
  },
  {
   "cell_type": "markdown",
   "metadata": {},
   "source": [
    "#### 상세 분리"
   ]
  },
  {
   "cell_type": "code",
   "execution_count": 11,
   "metadata": {},
   "outputs": [
    {
     "data": {
      "text/html": [
       "<div>\n",
       "<style scoped>\n",
       "    .dataframe tbody tr th:only-of-type {\n",
       "        vertical-align: middle;\n",
       "    }\n",
       "\n",
       "    .dataframe tbody tr th {\n",
       "        vertical-align: top;\n",
       "    }\n",
       "\n",
       "    .dataframe thead th {\n",
       "        text-align: right;\n",
       "    }\n",
       "</style>\n",
       "<table border=\"1\" class=\"dataframe\">\n",
       "  <thead>\n",
       "    <tr style=\"text-align: right;\">\n",
       "      <th></th>\n",
       "      <th>0</th>\n",
       "      <th>1</th>\n",
       "      <th>2</th>\n",
       "      <th>3</th>\n",
       "      <th>4</th>\n",
       "      <th>5</th>\n",
       "      <th>6</th>\n",
       "      <th>7</th>\n",
       "      <th>8</th>\n",
       "      <th>9</th>\n",
       "      <th>10</th>\n",
       "      <th>11</th>\n",
       "      <th>12</th>\n",
       "    </tr>\n",
       "  </thead>\n",
       "  <tbody>\n",
       "    <tr>\n",
       "      <th>0</th>\n",
       "      <td>경상남도</td>\n",
       "      <td>김해시</td>\n",
       "      <td>진영읍</td>\n",
       "      <td>하계로96번길</td>\n",
       "      <td>94-4</td>\n",
       "      <td>주유소</td>\n",
       "      <td>옆</td>\n",
       "      <td>주차장</td>\n",
       "      <td>None</td>\n",
       "      <td>None</td>\n",
       "      <td>None</td>\n",
       "      <td>None</td>\n",
       "      <td>None</td>\n",
       "    </tr>\n",
       "    <tr>\n",
       "      <th>1</th>\n",
       "      <td>제주특별자치도</td>\n",
       "      <td>제주시</td>\n",
       "      <td>삼성로</td>\n",
       "      <td>40</td>\n",
       "      <td>민속자연사박물관</td>\n",
       "      <td>None</td>\n",
       "      <td>None</td>\n",
       "      <td>None</td>\n",
       "      <td>None</td>\n",
       "      <td>None</td>\n",
       "      <td>None</td>\n",
       "      <td>None</td>\n",
       "      <td>None</td>\n",
       "    </tr>\n",
       "    <tr>\n",
       "      <th>2</th>\n",
       "      <td>제주특별자치도</td>\n",
       "      <td>제주시</td>\n",
       "      <td>노형9길</td>\n",
       "      <td>9-4</td>\n",
       "      <td>주차장</td>\n",
       "      <td>None</td>\n",
       "      <td>None</td>\n",
       "      <td>None</td>\n",
       "      <td>None</td>\n",
       "      <td>None</td>\n",
       "      <td>None</td>\n",
       "      <td>None</td>\n",
       "      <td>None</td>\n",
       "    </tr>\n",
       "    <tr>\n",
       "      <th>3</th>\n",
       "      <td>경상북도</td>\n",
       "      <td>포항시</td>\n",
       "      <td>북구</td>\n",
       "      <td>해안로</td>\n",
       "      <td>82</td>\n",
       "      <td>None</td>\n",
       "      <td>None</td>\n",
       "      <td>None</td>\n",
       "      <td>None</td>\n",
       "      <td>None</td>\n",
       "      <td>None</td>\n",
       "      <td>None</td>\n",
       "      <td>None</td>\n",
       "    </tr>\n",
       "    <tr>\n",
       "      <th>4</th>\n",
       "      <td>강원도</td>\n",
       "      <td>양양군</td>\n",
       "      <td>현북면</td>\n",
       "      <td>동해대로</td>\n",
       "      <td>1242</td>\n",
       "      <td>None</td>\n",
       "      <td>None</td>\n",
       "      <td>None</td>\n",
       "      <td>None</td>\n",
       "      <td>None</td>\n",
       "      <td>None</td>\n",
       "      <td>None</td>\n",
       "      <td>None</td>\n",
       "    </tr>\n",
       "  </tbody>\n",
       "</table>\n",
       "</div>"
      ],
      "text/plain": [
       "        0    1     2        3         4     5     6     7     8     9     10  \\\n",
       "0     경상남도  김해시   진영읍  하계로96번길      94-4   주유소     옆   주차장  None  None  None   \n",
       "1  제주특별자치도  제주시   삼성로       40  민속자연사박물관  None  None  None  None  None  None   \n",
       "2  제주특별자치도  제주시  노형9길      9-4       주차장  None  None  None  None  None  None   \n",
       "3     경상북도  포항시    북구      해안로        82  None  None  None  None  None  None   \n",
       "4      강원도  양양군   현북면     동해대로      1242  None  None  None  None  None  None   \n",
       "\n",
       "     11    12  \n",
       "0  None  None  \n",
       "1  None  None  \n",
       "2  None  None  \n",
       "3  None  None  \n",
       "4  None  None  "
      ]
     },
     "execution_count": 11,
     "metadata": {},
     "output_type": "execute_result"
    }
   ],
   "source": [
    "new_adr_split_temp = new_adr_df['주소'].str.split(expand=True)\n",
    "new_adr_split_temp.head()"
   ]
  },
  {
   "cell_type": "code",
   "execution_count": 12,
   "metadata": {},
   "outputs": [
    {
     "data": {
      "text/plain": [
       "(7755902, 13)"
      ]
     },
     "execution_count": 12,
     "metadata": {},
     "output_type": "execute_result"
    }
   ],
   "source": [
    "new_adr_split_temp.shape"
   ]
  },
  {
   "cell_type": "code",
   "execution_count": 13,
   "metadata": {},
   "outputs": [
    {
     "name": "stdout",
     "output_type": "stream",
     "text": [
      "3 : Yes\n",
      "4 : Yes\n",
      "5 : No\n",
      "6 : No\n",
      "7 : No\n",
      "8 : No\n",
      "9 : No\n",
      "10 : No\n",
      "11 : No\n",
      "12 : No\n"
     ]
    }
   ],
   "source": [
    "# 5번컬럼까지 -길, -로, -번길 존재\n",
    "# 6번부터 없음\n",
    "check_p = re.compile('로$|길$|번길$')\n",
    "for one in range(3, 13):\n",
    "    print(f'{one}', end=' : ')\n",
    "    uni = new_adr_split_temp[new_adr_split_temp[one].notnull() == True][one].unique()\n",
    "    # print(uni)\n",
    "    count = 0\n",
    "    for two in uni:\n",
    "        if check_p.search(two):\n",
    "            count += 1\n",
    "            break\n",
    "    if count != 0:\n",
    "        print('Yes')\n",
    "    else:\n",
    "        print('No')"
   ]
  },
  {
   "cell_type": "code",
   "execution_count": 14,
   "metadata": {},
   "outputs": [
    {
     "name": "stdout",
     "output_type": "stream",
     "text": [
      "경부고속도로\n",
      "신서촌로, 성남로, 동해대로, 해맞이로, 연곡길, 돌다리길, 국가정원1호길, 봉주로, 수신로, 중부고속도로\n",
      "동해안로, 남북대로, 호미로, 동읍로, 성진로, 근면길, 문화로, 신덕로, 구산로, 초곡길36번길\n",
      "냉천로320번길, 새마을로, 단재로, 두릉유리로, 오창대로, 포곡로, 보청대로, 가곡길, 경남대로, 마산3길\n",
      "아울렛로, 가술산단동로, 유통단지로, 금어로, 읍내길, 병천2로, 산성로, 성곡서로32번길, 신흥로, 구룡포길117번길\n",
      "덕암길, 오송생명2로, 동해대로3218번길, 청주역로, 충절로, 종합휴양지로, 독립기념관로, 천주로1173번길, 연구단지로, "
     ]
    }
   ],
   "source": [
    "n = 0\n",
    "for one in new_adr_split_temp[4].unique():\n",
    "    if one != None:\n",
    "        if (check_p.search(one)) and n % 10 != 0:\n",
    "            print(one, end=', ')\n",
    "            n += 1\n",
    "        elif (check_p.search(one)) and n % 10 == 0:\n",
    "            print(one)\n",
    "            n += 1"
   ]
  },
  {
   "cell_type": "code",
   "execution_count": 15,
   "metadata": {},
   "outputs": [
    {
     "data": {
      "text/plain": [
       "'315'"
      ]
     },
     "execution_count": 15,
     "metadata": {},
     "output_type": "execute_result"
    }
   ],
   "source": [
    "new_adr_split_temp[3].unique()[221]"
   ]
  },
  {
   "cell_type": "code",
   "execution_count": null,
   "metadata": {},
   "outputs": [],
   "source": [
    "len(new_adr_split_temp[3].unique())"
   ]
  },
  {
   "cell_type": "code",
   "execution_count": 16,
   "metadata": {},
   "outputs": [],
   "source": [
    "# check_p.search(315)"
   ]
  },
  {
   "cell_type": "code",
   "execution_count": 20,
   "metadata": {},
   "outputs": [],
   "source": [
    "# # 516로, 1길, 9로, 동3길, 2순환로, 13로\n",
    "# for three in tqdm(new_adr_split_temp[3].unique()):\n",
    "#     uni1 = new_adr_split_temp[new_adr_split_temp[3] == three][1].unique()\n",
    "#     uni2 = new_adr_split_temp[new_adr_split_temp[3] == three][2].unique()\n",
    "#     if (len(uni1) == 0) and (len(uni2) == 0):\n",
    "#         if three != None:\n",
    "#             if type(three) != 'str':\n",
    "#                 pass\n",
    "#             else:\n",
    "#                 if check_p.search(three):\n",
    "#                     print(np.nan, np.nan, three)\n",
    "#     elif (len(uni1) != 0) and (len(uni2) == 0):\n",
    "#         one =  uni1[0]\n",
    "#         if three != None:\n",
    "#             if type(three) != 'str':\n",
    "#                 pass\n",
    "#             else:\n",
    "#                 if check_p.search(three):\n",
    "#                     print(one, np.nan, three)\n",
    "#     elif (len(uni1) == 0) and (len(uni2) != 0):\n",
    "#         two =  uni2[0]\n",
    "#         if three != None:\n",
    "#             if type(three) != 'str':\n",
    "#                 pass\n",
    "#             else:\n",
    "#                 if check_p.search(three):\n",
    "#                      print(np.nan, two, three)\n",
    "#     elif (len(uni1) != 0) and (len(uni2) != 0):\n",
    "#         one =  uni1[0]\n",
    "#         two =  uni2[0]\n",
    "#         if three != None:\n",
    "#             if type(three) != 'str':\n",
    "#                 pass\n",
    "#             else:\n",
    "#                 if check_p.search(three):\n",
    "#                     print(one, two, three)"
   ]
  },
  {
   "cell_type": "code",
   "execution_count": 21,
   "metadata": {},
   "outputs": [
    {
     "name": "stderr",
     "output_type": "stream",
     "text": [
      "100%|██████████| 1731/1731 [24:17<00:00,  1.19it/s]\n"
     ]
    }
   ],
   "source": [
    "# # \n",
    "# for three in tqdm(new_adr_split_temp[3].unique()):\n",
    "#     uni2 = new_adr_split_temp[new_adr_split_temp[3] == three][2].unique()\n",
    "#     if len(uni2) == 0:\n",
    "#         if three != None:\n",
    "#             if type(three) != 'str':\n",
    "#                 pass\n",
    "#             else:\n",
    "#                 if check_p.search(three):\n",
    "#                     print(np.nan, three)\n",
    "#     else:\n",
    "#         two =  uni2[0]\n",
    "#         if three != None:\n",
    "#             if type(three) != 'str':\n",
    "#                 pass\n",
    "#             else:\n",
    "#                 if check_p.search(three):\n",
    "#                     print(two, three)"
   ]
  },
  {
   "cell_type": "code",
   "execution_count": 234,
   "metadata": {},
   "outputs": [],
   "source": [
    "new_adr_split_temp = new_adr_split_temp.fillna(np.nan)"
   ]
  },
  {
   "cell_type": "code",
   "execution_count": 235,
   "metadata": {},
   "outputs": [
    {
     "data": {
      "text/html": [
       "<div>\n",
       "<style scoped>\n",
       "    .dataframe tbody tr th:only-of-type {\n",
       "        vertical-align: middle;\n",
       "    }\n",
       "\n",
       "    .dataframe tbody tr th {\n",
       "        vertical-align: top;\n",
       "    }\n",
       "\n",
       "    .dataframe thead th {\n",
       "        text-align: right;\n",
       "    }\n",
       "</style>\n",
       "<table border=\"1\" class=\"dataframe\">\n",
       "  <thead>\n",
       "    <tr style=\"text-align: right;\">\n",
       "      <th></th>\n",
       "      <th>0</th>\n",
       "      <th>1</th>\n",
       "      <th>2</th>\n",
       "      <th>3</th>\n",
       "      <th>4</th>\n",
       "      <th>5</th>\n",
       "      <th>6</th>\n",
       "      <th>7</th>\n",
       "      <th>8</th>\n",
       "      <th>9</th>\n",
       "      <th>10</th>\n",
       "      <th>11</th>\n",
       "      <th>12</th>\n",
       "    </tr>\n",
       "  </thead>\n",
       "  <tbody>\n",
       "    <tr>\n",
       "      <th>0</th>\n",
       "      <td>경상남도</td>\n",
       "      <td>김해시</td>\n",
       "      <td>진영읍</td>\n",
       "      <td>하계로96번길</td>\n",
       "      <td>94-4</td>\n",
       "      <td>주유소</td>\n",
       "      <td>옆</td>\n",
       "      <td>주차장</td>\n",
       "      <td>NaN</td>\n",
       "      <td>NaN</td>\n",
       "      <td>NaN</td>\n",
       "      <td>NaN</td>\n",
       "      <td>NaN</td>\n",
       "    </tr>\n",
       "    <tr>\n",
       "      <th>1</th>\n",
       "      <td>제주특별자치도</td>\n",
       "      <td>제주시</td>\n",
       "      <td>삼성로</td>\n",
       "      <td>40</td>\n",
       "      <td>민속자연사박물관</td>\n",
       "      <td>NaN</td>\n",
       "      <td>NaN</td>\n",
       "      <td>NaN</td>\n",
       "      <td>NaN</td>\n",
       "      <td>NaN</td>\n",
       "      <td>NaN</td>\n",
       "      <td>NaN</td>\n",
       "      <td>NaN</td>\n",
       "    </tr>\n",
       "    <tr>\n",
       "      <th>2</th>\n",
       "      <td>제주특별자치도</td>\n",
       "      <td>제주시</td>\n",
       "      <td>노형9길</td>\n",
       "      <td>9-4</td>\n",
       "      <td>주차장</td>\n",
       "      <td>NaN</td>\n",
       "      <td>NaN</td>\n",
       "      <td>NaN</td>\n",
       "      <td>NaN</td>\n",
       "      <td>NaN</td>\n",
       "      <td>NaN</td>\n",
       "      <td>NaN</td>\n",
       "      <td>NaN</td>\n",
       "    </tr>\n",
       "    <tr>\n",
       "      <th>3</th>\n",
       "      <td>경상북도</td>\n",
       "      <td>포항시</td>\n",
       "      <td>북구</td>\n",
       "      <td>해안로</td>\n",
       "      <td>82</td>\n",
       "      <td>NaN</td>\n",
       "      <td>NaN</td>\n",
       "      <td>NaN</td>\n",
       "      <td>NaN</td>\n",
       "      <td>NaN</td>\n",
       "      <td>NaN</td>\n",
       "      <td>NaN</td>\n",
       "      <td>NaN</td>\n",
       "    </tr>\n",
       "    <tr>\n",
       "      <th>4</th>\n",
       "      <td>강원도</td>\n",
       "      <td>양양군</td>\n",
       "      <td>현북면</td>\n",
       "      <td>동해대로</td>\n",
       "      <td>1242</td>\n",
       "      <td>NaN</td>\n",
       "      <td>NaN</td>\n",
       "      <td>NaN</td>\n",
       "      <td>NaN</td>\n",
       "      <td>NaN</td>\n",
       "      <td>NaN</td>\n",
       "      <td>NaN</td>\n",
       "      <td>NaN</td>\n",
       "    </tr>\n",
       "  </tbody>\n",
       "</table>\n",
       "</div>"
      ],
      "text/plain": [
       "        0    1     2        3         4    5    6    7    8    9    10   11  \\\n",
       "0     경상남도  김해시   진영읍  하계로96번길      94-4  주유소    옆  주차장  NaN  NaN  NaN  NaN   \n",
       "1  제주특별자치도  제주시   삼성로       40  민속자연사박물관  NaN  NaN  NaN  NaN  NaN  NaN  NaN   \n",
       "2  제주특별자치도  제주시  노형9길      9-4       주차장  NaN  NaN  NaN  NaN  NaN  NaN  NaN   \n",
       "3     경상북도  포항시    북구      해안로        82  NaN  NaN  NaN  NaN  NaN  NaN  NaN   \n",
       "4      강원도  양양군   현북면     동해대로      1242  NaN  NaN  NaN  NaN  NaN  NaN  NaN   \n",
       "\n",
       "    12  \n",
       "0  NaN  \n",
       "1  NaN  \n",
       "2  NaN  \n",
       "3  NaN  \n",
       "4  NaN  "
      ]
     },
     "execution_count": 235,
     "metadata": {},
     "output_type": "execute_result"
    }
   ],
   "source": [
    "new_adr_split_temp.head()"
   ]
  },
  {
   "cell_type": "code",
   "execution_count": 236,
   "metadata": {},
   "outputs": [
    {
     "data": {
      "text/plain": [
       "(7755902, 13)"
      ]
     },
     "execution_count": 236,
     "metadata": {},
     "output_type": "execute_result"
    }
   ],
   "source": [
    "new_adr_split_temp.shape"
   ]
  },
  {
   "cell_type": "code",
   "execution_count": 237,
   "metadata": {},
   "outputs": [
    {
     "data": {
      "text/html": [
       "<div>\n",
       "<style scoped>\n",
       "    .dataframe tbody tr th:only-of-type {\n",
       "        vertical-align: middle;\n",
       "    }\n",
       "\n",
       "    .dataframe tbody tr th {\n",
       "        vertical-align: top;\n",
       "    }\n",
       "\n",
       "    .dataframe thead th {\n",
       "        text-align: right;\n",
       "    }\n",
       "</style>\n",
       "<table border=\"1\" class=\"dataframe\">\n",
       "  <thead>\n",
       "    <tr style=\"text-align: right;\">\n",
       "      <th></th>\n",
       "      <th>충전소명</th>\n",
       "      <th>충전기ID</th>\n",
       "      <th>지역</th>\n",
       "      <th>시군구</th>\n",
       "      <th>주소</th>\n",
       "      <th>충전기타입</th>\n",
       "      <th>충전시작일시</th>\n",
       "      <th>충전종료일시</th>\n",
       "      <th>충전시간</th>\n",
       "      <th>충전량</th>\n",
       "      <th>...</th>\n",
       "      <th>3</th>\n",
       "      <th>4</th>\n",
       "      <th>5</th>\n",
       "      <th>6</th>\n",
       "      <th>7</th>\n",
       "      <th>8</th>\n",
       "      <th>9</th>\n",
       "      <th>10</th>\n",
       "      <th>11</th>\n",
       "      <th>12</th>\n",
       "    </tr>\n",
       "  </thead>\n",
       "  <tbody>\n",
       "    <tr>\n",
       "      <th>0</th>\n",
       "      <td>진영휴게소(부산방향)</td>\n",
       "      <td>1</td>\n",
       "      <td>경상남도</td>\n",
       "      <td>김해시</td>\n",
       "      <td>경상남도 김해시 진영읍 하계로96번길 94-4  주유소 옆 주차장</td>\n",
       "      <td>DC차데모+AC3상+DC콤보</td>\n",
       "      <td>20200101000244</td>\n",
       "      <td>20200101004215</td>\n",
       "      <td>0 days 00:39:25</td>\n",
       "      <td>20.22000</td>\n",
       "      <td>...</td>\n",
       "      <td>하계로96번길</td>\n",
       "      <td>94-4</td>\n",
       "      <td>주유소</td>\n",
       "      <td>옆</td>\n",
       "      <td>주차장</td>\n",
       "      <td>NaN</td>\n",
       "      <td>NaN</td>\n",
       "      <td>NaN</td>\n",
       "      <td>NaN</td>\n",
       "      <td>NaN</td>\n",
       "    </tr>\n",
       "    <tr>\n",
       "      <th>1</th>\n",
       "      <td>민속자연사박물관</td>\n",
       "      <td>1</td>\n",
       "      <td>제주특별자치도</td>\n",
       "      <td>제주시</td>\n",
       "      <td>제주특별자치도 제주시 삼성로 40 민속자연사박물관</td>\n",
       "      <td>DC차데모+AC3상+DC콤보</td>\n",
       "      <td>20200101000745</td>\n",
       "      <td>20200101003703</td>\n",
       "      <td>0 days 00:29:13</td>\n",
       "      <td>16.04000</td>\n",
       "      <td>...</td>\n",
       "      <td>40</td>\n",
       "      <td>민속자연사박물관</td>\n",
       "      <td>NaN</td>\n",
       "      <td>NaN</td>\n",
       "      <td>NaN</td>\n",
       "      <td>NaN</td>\n",
       "      <td>NaN</td>\n",
       "      <td>NaN</td>\n",
       "      <td>NaN</td>\n",
       "      <td>NaN</td>\n",
       "    </tr>\n",
       "    <tr>\n",
       "      <th>2</th>\n",
       "      <td>노형동주민센터</td>\n",
       "      <td>1</td>\n",
       "      <td>제주특별자치도</td>\n",
       "      <td>제주시</td>\n",
       "      <td>제주특별자치도 제주시 노형9길 9-4  주차장</td>\n",
       "      <td>DC차데모+AC3상+DC콤보</td>\n",
       "      <td>20200101000748</td>\n",
       "      <td>20200101001659</td>\n",
       "      <td>0 days 00:09:07</td>\n",
       "      <td>5.80000</td>\n",
       "      <td>...</td>\n",
       "      <td>9-4</td>\n",
       "      <td>주차장</td>\n",
       "      <td>NaN</td>\n",
       "      <td>NaN</td>\n",
       "      <td>NaN</td>\n",
       "      <td>NaN</td>\n",
       "      <td>NaN</td>\n",
       "      <td>NaN</td>\n",
       "      <td>NaN</td>\n",
       "      <td>NaN</td>\n",
       "    </tr>\n",
       "    <tr>\n",
       "      <th>3</th>\n",
       "      <td>영일대1주차장</td>\n",
       "      <td>1</td>\n",
       "      <td>경상북도</td>\n",
       "      <td>포항시</td>\n",
       "      <td>경상북도 포항시 북구 해안로 82</td>\n",
       "      <td>DC차데모+AC3상+DC콤보</td>\n",
       "      <td>20200101000851</td>\n",
       "      <td>20200101004220</td>\n",
       "      <td>0 days 00:33:29</td>\n",
       "      <td>13.32000</td>\n",
       "      <td>...</td>\n",
       "      <td>해안로</td>\n",
       "      <td>82</td>\n",
       "      <td>NaN</td>\n",
       "      <td>NaN</td>\n",
       "      <td>NaN</td>\n",
       "      <td>NaN</td>\n",
       "      <td>NaN</td>\n",
       "      <td>NaN</td>\n",
       "      <td>NaN</td>\n",
       "      <td>NaN</td>\n",
       "    </tr>\n",
       "    <tr>\n",
       "      <th>4</th>\n",
       "      <td>38선 휴게소</td>\n",
       "      <td>1</td>\n",
       "      <td>강원도</td>\n",
       "      <td>양양군</td>\n",
       "      <td>강원도 양양군 현북면 동해대로 1242</td>\n",
       "      <td>DC차데모+AC3상+DC콤보</td>\n",
       "      <td>20200101001042</td>\n",
       "      <td>20200101005123</td>\n",
       "      <td>0 days 00:40:41</td>\n",
       "      <td>29.23000</td>\n",
       "      <td>...</td>\n",
       "      <td>동해대로</td>\n",
       "      <td>1242</td>\n",
       "      <td>NaN</td>\n",
       "      <td>NaN</td>\n",
       "      <td>NaN</td>\n",
       "      <td>NaN</td>\n",
       "      <td>NaN</td>\n",
       "      <td>NaN</td>\n",
       "      <td>NaN</td>\n",
       "      <td>NaN</td>\n",
       "    </tr>\n",
       "  </tbody>\n",
       "</table>\n",
       "<p>5 rows × 40 columns</p>\n",
       "</div>"
      ],
      "text/plain": [
       "          충전소명  충전기ID       지역  시군구                                    주소  \\\n",
       "0  진영휴게소(부산방향)      1     경상남도  김해시  경상남도 김해시 진영읍 하계로96번길 94-4  주유소 옆 주차장   \n",
       "1     민속자연사박물관      1  제주특별자치도  제주시           제주특별자치도 제주시 삼성로 40 민속자연사박물관   \n",
       "2      노형동주민센터      1  제주특별자치도  제주시             제주특별자치도 제주시 노형9길 9-4  주차장   \n",
       "3      영일대1주차장      1     경상북도  포항시                    경상북도 포항시 북구 해안로 82   \n",
       "4      38선 휴게소      1      강원도  양양군                 강원도 양양군 현북면 동해대로 1242   \n",
       "\n",
       "             충전기타입          충전시작일시          충전종료일시            충전시간      충전량  \\\n",
       "0  DC차데모+AC3상+DC콤보  20200101000244  20200101004215 0 days 00:39:25 20.22000   \n",
       "1  DC차데모+AC3상+DC콤보  20200101000745  20200101003703 0 days 00:29:13 16.04000   \n",
       "2  DC차데모+AC3상+DC콤보  20200101000748  20200101001659 0 days 00:09:07  5.80000   \n",
       "3  DC차데모+AC3상+DC콤보  20200101000851  20200101004220 0 days 00:33:29 13.32000   \n",
       "4  DC차데모+AC3상+DC콤보  20200101001042  20200101005123 0 days 00:40:41 29.23000   \n",
       "\n",
       "   ...        3         4    5    6    7    8    9   10   11   12  \n",
       "0  ...  하계로96번길      94-4  주유소    옆  주차장  NaN  NaN  NaN  NaN  NaN  \n",
       "1  ...       40  민속자연사박물관  NaN  NaN  NaN  NaN  NaN  NaN  NaN  NaN  \n",
       "2  ...      9-4       주차장  NaN  NaN  NaN  NaN  NaN  NaN  NaN  NaN  \n",
       "3  ...      해안로        82  NaN  NaN  NaN  NaN  NaN  NaN  NaN  NaN  \n",
       "4  ...     동해대로      1242  NaN  NaN  NaN  NaN  NaN  NaN  NaN  NaN  \n",
       "\n",
       "[5 rows x 40 columns]"
      ]
     },
     "execution_count": 237,
     "metadata": {},
     "output_type": "execute_result"
    }
   ],
   "source": [
    "new_adr_df2 = pd.concat([new_adr_df, new_adr_split_temp], axis=1)\n",
    "new_adr_df2.head()"
   ]
  },
  {
   "cell_type": "code",
   "execution_count": 238,
   "metadata": {},
   "outputs": [
    {
     "data": {
      "text/html": [
       "<div>\n",
       "<style scoped>\n",
       "    .dataframe tbody tr th:only-of-type {\n",
       "        vertical-align: middle;\n",
       "    }\n",
       "\n",
       "    .dataframe tbody tr th {\n",
       "        vertical-align: top;\n",
       "    }\n",
       "\n",
       "    .dataframe thead th {\n",
       "        text-align: right;\n",
       "    }\n",
       "</style>\n",
       "<table border=\"1\" class=\"dataframe\">\n",
       "  <thead>\n",
       "    <tr style=\"text-align: right;\">\n",
       "      <th></th>\n",
       "      <th>충전소명</th>\n",
       "      <th>충전기ID</th>\n",
       "      <th>지역</th>\n",
       "      <th>시군구</th>\n",
       "      <th>주소</th>\n",
       "      <th>충전기타입</th>\n",
       "      <th>충전시작일시</th>\n",
       "      <th>충전종료일시</th>\n",
       "      <th>충전시간</th>\n",
       "      <th>충전량</th>\n",
       "      <th>...</th>\n",
       "      <th>3</th>\n",
       "      <th>4</th>\n",
       "      <th>5</th>\n",
       "      <th>6</th>\n",
       "      <th>7</th>\n",
       "      <th>8</th>\n",
       "      <th>9</th>\n",
       "      <th>10</th>\n",
       "      <th>11</th>\n",
       "      <th>12</th>\n",
       "    </tr>\n",
       "  </thead>\n",
       "  <tbody>\n",
       "  </tbody>\n",
       "</table>\n",
       "<p>0 rows × 40 columns</p>\n",
       "</div>"
      ],
      "text/plain": [
       "Empty DataFrame\n",
       "Columns: [충전소명, 충전기ID, 지역, 시군구, 주소, 충전기타입, 충전시작일시, 충전종료일시, 충전시간, 충전량, 충전용량, 충전시작_년도, 충전시작_월, 충전시작_일, 충전시작_시, 충전시작_분, 충전시작_초, 충전시작일시(변환), 충전종료_년도, 충전종료_월, 충전종료_일, 충전종료_시, 충전종료_분, 충전종료_초, 충전종료일시(변환), 충전시간(계산), raw값과_계산값_차이, 0, 1, 2, 3, 4, 5, 6, 7, 8, 9, 10, 11, 12]\n",
       "Index: []\n",
       "\n",
       "[0 rows x 40 columns]"
      ]
     },
     "execution_count": 238,
     "metadata": {},
     "output_type": "execute_result"
    }
   ],
   "source": [
    "new_adr_df2[(new_adr_df2['지역'] != '서울특별시') & (new_adr_df2['주소'] == '강남구 양재대로31길')]"
   ]
  },
  {
   "cell_type": "code",
   "execution_count": 239,
   "metadata": {},
   "outputs": [
    {
     "data": {
      "text/plain": [
       "array([], dtype=object)"
      ]
     },
     "execution_count": 239,
     "metadata": {},
     "output_type": "execute_result"
    }
   ],
   "source": [
    "new_adr_df2[new_adr_df2[4] == '2길']['주소'].unique()"
   ]
  },
  {
   "cell_type": "code",
   "execution_count": null,
   "metadata": {},
   "outputs": [],
   "source": []
  },
  {
   "cell_type": "code",
   "execution_count": null,
   "metadata": {},
   "outputs": [],
   "source": []
  },
  {
   "cell_type": "markdown",
   "metadata": {},
   "source": [
    "##### 신주소 상세 분리 확인"
   ]
  },
  {
   "cell_type": "code",
   "execution_count": 193,
   "metadata": {},
   "outputs": [
    {
     "data": {
      "text/html": [
       "<div>\n",
       "<style scoped>\n",
       "    .dataframe tbody tr th:only-of-type {\n",
       "        vertical-align: middle;\n",
       "    }\n",
       "\n",
       "    .dataframe tbody tr th {\n",
       "        vertical-align: top;\n",
       "    }\n",
       "\n",
       "    .dataframe thead th {\n",
       "        text-align: right;\n",
       "    }\n",
       "</style>\n",
       "<table border=\"1\" class=\"dataframe\">\n",
       "  <thead>\n",
       "    <tr style=\"text-align: right;\">\n",
       "      <th></th>\n",
       "      <th>주소</th>\n",
       "      <th>0</th>\n",
       "      <th>1</th>\n",
       "      <th>2</th>\n",
       "      <th>3</th>\n",
       "      <th>4</th>\n",
       "    </tr>\n",
       "  </thead>\n",
       "  <tbody>\n",
       "    <tr>\n",
       "      <th>7755897</th>\n",
       "      <td>경기도 구리시 체육관로 74</td>\n",
       "      <td>경기도</td>\n",
       "      <td>구리시</td>\n",
       "      <td>체육관로</td>\n",
       "      <td>74</td>\n",
       "      <td>NaN</td>\n",
       "    </tr>\n",
       "    <tr>\n",
       "      <th>7755898</th>\n",
       "      <td>서울특별시 성동구 둘레길 47-5</td>\n",
       "      <td>서울특별시</td>\n",
       "      <td>성동구</td>\n",
       "      <td>둘레길</td>\n",
       "      <td>47-5</td>\n",
       "      <td>NaN</td>\n",
       "    </tr>\n",
       "    <tr>\n",
       "      <th>7755899</th>\n",
       "      <td>경기도 용인시 수지구 경부고속도로 400 (죽전동)</td>\n",
       "      <td>경기도</td>\n",
       "      <td>용인시</td>\n",
       "      <td>수지구</td>\n",
       "      <td>경부고속도로</td>\n",
       "      <td>400</td>\n",
       "    </tr>\n",
       "    <tr>\n",
       "      <th>7755900</th>\n",
       "      <td>강원도 원주시 단구로 150</td>\n",
       "      <td>강원도</td>\n",
       "      <td>원주시</td>\n",
       "      <td>단구로</td>\n",
       "      <td>150</td>\n",
       "      <td>NaN</td>\n",
       "    </tr>\n",
       "    <tr>\n",
       "      <th>7755901</th>\n",
       "      <td>서울특별시 송파구 성내천로 299-7</td>\n",
       "      <td>서울특별시</td>\n",
       "      <td>송파구</td>\n",
       "      <td>성내천로</td>\n",
       "      <td>299-7</td>\n",
       "      <td>NaN</td>\n",
       "    </tr>\n",
       "  </tbody>\n",
       "</table>\n",
       "</div>"
      ],
      "text/plain": [
       "                                   주소      0    1     2       3    4\n",
       "7755897               경기도 구리시 체육관로 74    경기도  구리시  체육관로      74  NaN\n",
       "7755898            서울특별시 성동구 둘레길 47-5  서울특별시  성동구   둘레길    47-5  NaN\n",
       "7755899  경기도 용인시 수지구 경부고속도로 400 (죽전동)    경기도  용인시   수지구  경부고속도로  400\n",
       "7755900               강원도 원주시 단구로 150    강원도  원주시   단구로     150  NaN\n",
       "7755901          서울특별시 송파구 성내천로 299-7  서울특별시  송파구  성내천로   299-7  NaN"
      ]
     },
     "execution_count": 193,
     "metadata": {},
     "output_type": "execute_result"
    }
   ],
   "source": [
    "new_adr_df2[['주소', 0, 1, 2, 3, 4]].tail()"
   ]
  },
  {
   "cell_type": "code",
   "execution_count": 194,
   "metadata": {},
   "outputs": [
    {
     "data": {
      "text/html": [
       "<div>\n",
       "<style scoped>\n",
       "    .dataframe tbody tr th:only-of-type {\n",
       "        vertical-align: middle;\n",
       "    }\n",
       "\n",
       "    .dataframe tbody tr th {\n",
       "        vertical-align: top;\n",
       "    }\n",
       "\n",
       "    .dataframe thead th {\n",
       "        text-align: right;\n",
       "    }\n",
       "</style>\n",
       "<table border=\"1\" class=\"dataframe\">\n",
       "  <thead>\n",
       "    <tr style=\"text-align: right;\">\n",
       "      <th></th>\n",
       "      <th>주소</th>\n",
       "      <th>0</th>\n",
       "      <th>1</th>\n",
       "      <th>2</th>\n",
       "      <th>3</th>\n",
       "      <th>4</th>\n",
       "    </tr>\n",
       "  </thead>\n",
       "  <tbody>\n",
       "    <tr>\n",
       "      <th>0</th>\n",
       "      <td>경상남도 김해시 진영읍 하계로96번길 94-4  주유소 옆 주차장</td>\n",
       "      <td>경상남도</td>\n",
       "      <td>김해시</td>\n",
       "      <td>진영읍</td>\n",
       "      <td>하계로96번길</td>\n",
       "      <td>94-4</td>\n",
       "    </tr>\n",
       "    <tr>\n",
       "      <th>1</th>\n",
       "      <td>제주특별자치도 제주시 삼성로 40 민속자연사박물관</td>\n",
       "      <td>제주특별자치도</td>\n",
       "      <td>제주시</td>\n",
       "      <td>삼성로</td>\n",
       "      <td>40</td>\n",
       "      <td>민속자연사박물관</td>\n",
       "    </tr>\n",
       "    <tr>\n",
       "      <th>2</th>\n",
       "      <td>제주특별자치도 제주시 노형9길 9-4  주차장</td>\n",
       "      <td>제주특별자치도</td>\n",
       "      <td>제주시</td>\n",
       "      <td>노형9길</td>\n",
       "      <td>9-4</td>\n",
       "      <td>주차장</td>\n",
       "    </tr>\n",
       "    <tr>\n",
       "      <th>3</th>\n",
       "      <td>경상북도 포항시 북구 해안로 82</td>\n",
       "      <td>경상북도</td>\n",
       "      <td>포항시</td>\n",
       "      <td>북구</td>\n",
       "      <td>해안로</td>\n",
       "      <td>82</td>\n",
       "    </tr>\n",
       "    <tr>\n",
       "      <th>4</th>\n",
       "      <td>강원도 양양군 현북면 동해대로 1242</td>\n",
       "      <td>강원도</td>\n",
       "      <td>양양군</td>\n",
       "      <td>현북면</td>\n",
       "      <td>동해대로</td>\n",
       "      <td>1242</td>\n",
       "    </tr>\n",
       "  </tbody>\n",
       "</table>\n",
       "</div>"
      ],
      "text/plain": [
       "                                     주소        0    1     2        3         4\n",
       "0  경상남도 김해시 진영읍 하계로96번길 94-4  주유소 옆 주차장     경상남도  김해시   진영읍  하계로96번길      94-4\n",
       "1           제주특별자치도 제주시 삼성로 40 민속자연사박물관  제주특별자치도  제주시   삼성로       40  민속자연사박물관\n",
       "2             제주특별자치도 제주시 노형9길 9-4  주차장  제주특별자치도  제주시  노형9길      9-4       주차장\n",
       "3                    경상북도 포항시 북구 해안로 82     경상북도  포항시    북구      해안로        82\n",
       "4                 강원도 양양군 현북면 동해대로 1242      강원도  양양군   현북면     동해대로      1242"
      ]
     },
     "execution_count": 194,
     "metadata": {},
     "output_type": "execute_result"
    }
   ],
   "source": [
    "new_adr_df2[['주소', 0, 1, 2, 3, 4]].head()"
   ]
  },
  {
   "cell_type": "markdown",
   "metadata": {},
   "source": [
    "##### 신주소 상세 분리 파일 출력"
   ]
  },
  {
   "cell_type": "code",
   "execution_count": 195,
   "metadata": {},
   "outputs": [],
   "source": [
    "new_adr_df2.to_csv('2020-22년_급속충전_신주소_상세분리.csv', encoding='utf-8')"
   ]
  },
  {
   "cell_type": "markdown",
   "metadata": {},
   "source": [
    "### 구주소 상세분리"
   ]
  },
  {
   "cell_type": "markdown",
   "metadata": {},
   "source": [
    "#### 상세분리"
   ]
  },
  {
   "cell_type": "code",
   "execution_count": 196,
   "metadata": {},
   "outputs": [
    {
     "data": {
      "text/html": [
       "<div>\n",
       "<style scoped>\n",
       "    .dataframe tbody tr th:only-of-type {\n",
       "        vertical-align: middle;\n",
       "    }\n",
       "\n",
       "    .dataframe tbody tr th {\n",
       "        vertical-align: top;\n",
       "    }\n",
       "\n",
       "    .dataframe thead th {\n",
       "        text-align: right;\n",
       "    }\n",
       "</style>\n",
       "<table border=\"1\" class=\"dataframe\">\n",
       "  <thead>\n",
       "    <tr style=\"text-align: right;\">\n",
       "      <th></th>\n",
       "      <th>0</th>\n",
       "      <th>1</th>\n",
       "      <th>2</th>\n",
       "      <th>3</th>\n",
       "      <th>4</th>\n",
       "      <th>5</th>\n",
       "      <th>6</th>\n",
       "      <th>7</th>\n",
       "      <th>8</th>\n",
       "      <th>9</th>\n",
       "      <th>10</th>\n",
       "      <th>11</th>\n",
       "    </tr>\n",
       "  </thead>\n",
       "  <tbody>\n",
       "    <tr>\n",
       "      <th>0</th>\n",
       "      <td>서울특별시</td>\n",
       "      <td>구로구</td>\n",
       "      <td>오류동</td>\n",
       "      <td>174-10</td>\n",
       "      <td>천왕역</td>\n",
       "      <td>환승주차장</td>\n",
       "      <td>1층</td>\n",
       "      <td>None</td>\n",
       "      <td>None</td>\n",
       "      <td>None</td>\n",
       "      <td>None</td>\n",
       "      <td>None</td>\n",
       "    </tr>\n",
       "    <tr>\n",
       "      <th>1</th>\n",
       "      <td>경상남도</td>\n",
       "      <td>통영시</td>\n",
       "      <td>광도면</td>\n",
       "      <td>죽림리</td>\n",
       "      <td>292-33</td>\n",
       "      <td>None</td>\n",
       "      <td>None</td>\n",
       "      <td>None</td>\n",
       "      <td>None</td>\n",
       "      <td>None</td>\n",
       "      <td>None</td>\n",
       "      <td>None</td>\n",
       "    </tr>\n",
       "    <tr>\n",
       "      <th>2</th>\n",
       "      <td>전라북도</td>\n",
       "      <td>완주군</td>\n",
       "      <td>봉동읍</td>\n",
       "      <td>둔산리</td>\n",
       "      <td>881</td>\n",
       "      <td>None</td>\n",
       "      <td>None</td>\n",
       "      <td>None</td>\n",
       "      <td>None</td>\n",
       "      <td>None</td>\n",
       "      <td>None</td>\n",
       "      <td>None</td>\n",
       "    </tr>\n",
       "    <tr>\n",
       "      <th>3</th>\n",
       "      <td>충청남도</td>\n",
       "      <td>공주시</td>\n",
       "      <td>정안면</td>\n",
       "      <td>석송리</td>\n",
       "      <td>None</td>\n",
       "      <td>None</td>\n",
       "      <td>None</td>\n",
       "      <td>None</td>\n",
       "      <td>None</td>\n",
       "      <td>None</td>\n",
       "      <td>None</td>\n",
       "      <td>None</td>\n",
       "    </tr>\n",
       "    <tr>\n",
       "      <th>4</th>\n",
       "      <td>충청북도</td>\n",
       "      <td>단양군</td>\n",
       "      <td>적성면</td>\n",
       "      <td>기동리</td>\n",
       "      <td>None</td>\n",
       "      <td>None</td>\n",
       "      <td>None</td>\n",
       "      <td>None</td>\n",
       "      <td>None</td>\n",
       "      <td>None</td>\n",
       "      <td>None</td>\n",
       "      <td>None</td>\n",
       "    </tr>\n",
       "  </tbody>\n",
       "</table>\n",
       "</div>"
      ],
      "text/plain": [
       "      0    1    2       3       4      5     6     7     8     9     10    11\n",
       "0  서울특별시  구로구  오류동  174-10     천왕역  환승주차장    1층  None  None  None  None  None\n",
       "1   경상남도  통영시  광도면     죽림리  292-33   None  None  None  None  None  None  None\n",
       "2   전라북도  완주군  봉동읍     둔산리     881   None  None  None  None  None  None  None\n",
       "3   충청남도  공주시  정안면     석송리    None   None  None  None  None  None  None  None\n",
       "4   충청북도  단양군  적성면     기동리    None   None  None  None  None  None  None  None"
      ]
     },
     "execution_count": 196,
     "metadata": {},
     "output_type": "execute_result"
    }
   ],
   "source": [
    "temp = old_adr_df['주소'].str.split(expand=True)\n",
    "temp.head()"
   ]
  },
  {
   "cell_type": "code",
   "execution_count": 197,
   "metadata": {},
   "outputs": [
    {
     "name": "stdout",
     "output_type": "stream",
     "text": [
      "4 : Yes\n",
      "5 : Yes\n",
      "6 : Yes\n",
      "7 : Yes\n",
      "8 : No\n",
      "9 : Yes\n",
      "10 : No\n",
      "11 : No\n"
     ]
    }
   ],
   "source": [
    "# 5번컬럼까지 -동, -리 존재\n",
    "# 6번부터 없음\n",
    "check_p = re.compile('동$|리$')\n",
    "for one in range(4, 12):\n",
    "    print(f'{one}', end=' : ')\n",
    "    uni = temp[temp[one].notnull() == True][one].unique()\n",
    "    # print(uni)\n",
    "    count = 0\n",
    "    for two in uni:\n",
    "        if check_p.search(two):\n",
    "            count += 1\n",
    "            break\n",
    "    if count != 0:\n",
    "        print('Yes')\n",
    "    else:\n",
    "        print('No')"
   ]
  },
  {
   "cell_type": "code",
   "execution_count": 198,
   "metadata": {},
   "outputs": [
    {
     "data": {
      "text/plain": [
       "array([None, '옆', '입구', '장애인', '531)', '사이', '18', '주차장', 'E01번', '공영주차장',\n",
       "       '정면', '주민센터', '앞', '좌측', '우측', '근처', '왼쪽', '대형주차장', '(묵현리', '내',\n",
       "       '기둥옆', '오송역', '제2공구', '오른쪽', '제2주차장'], dtype=object)"
      ]
     },
     "execution_count": 198,
     "metadata": {},
     "output_type": "execute_result"
    }
   ],
   "source": [
    "temp[7].unique()"
   ]
  },
  {
   "cell_type": "code",
   "execution_count": 199,
   "metadata": {},
   "outputs": [
    {
     "data": {
      "text/plain": [
       "array(['1층', None, '오른쪽', '앞', '끝', '버스주차장', '사무실', '우측', '옆', '주차장',\n",
       "       '(나성동', '뒤', '관리사무소', 'LPG충전소', '지하4층', '근처', '증설주차장', '입구', '2층',\n",
       "       '맨끝쪽', '맞은편', '정면', '좌측', '2동', '건물입구', '건물', '후면', '지하주차장', '3가)',\n",
       "       '흡연실', '1282-16)', '맨끝', '384-27)', '왼쪽', '20구역', '287기둥옆',\n",
       "       '(기동리)', '430기둥', '820-10)', '사업단', '공영주차장', '밑', '5층', '안쪽', '9',\n",
       "       '산업단지', '매표소앞', '가03', '주차구역', 'KTX', '마금산온천', '옥상', '501)', '1가)',\n",
       "       '2', '232-9'], dtype=object)"
      ]
     },
     "execution_count": 199,
     "metadata": {},
     "output_type": "execute_result"
    }
   ],
   "source": [
    "temp[6].unique()"
   ]
  },
  {
   "cell_type": "code",
   "execution_count": 200,
   "metadata": {},
   "outputs": [
    {
     "data": {
      "text/plain": [
       "array(['환승주차장', None, '입구', '주차장', '좌측', '주차타워', '제2공영주차장', '안쪽', '우측',\n",
       "       '북구청', '지상', '뒤편', '주민센터', '공중화장실', '산방산', 'B1', '485', '온정종합터미널',\n",
       "       '정문', '휴게소와', '무릉문화의집', '179-6', '15', '검품장', '북측', '끝', '제주현대미술관',\n",
       "       '지하', '새마을금고', '필지', '2층주차장', '28', '44', '재릉종합관광안내센터', '웅동',\n",
       "       '20-48', '구청', '고엽제전우회', '753', '499-1)', '군청', '4층매장입구옆', '번지',\n",
       "       '옆', '후생동', '14', '정면', '604-3', '(창포동', '본관', '(백운리', '별관',\n",
       "       '630-5', '마트입구', '1712-10', '(여양3로', '1층', '지상2층', '807-6', '건너편',\n",
       "       '32-37', '그린빌딩', '230-1', '2-15', '건물', '(신관리', '스포츠', '97-1)',\n",
       "       '사랑방', '천마산군립공원', '보조경기장', '골프장', '지상주차장', '24-3', '(향교동)', '일원',\n",
       "       '1234-3', '입구앞', '1길', '대마전기차', '182-131', '영암국제카트장', '지하1층', '대형',\n",
       "       '앞', '소형주차장', '26', '370-1', '북주차장(우측)', '403-3', '386-2', '407-1',\n",
       "       '인근', '16-1', '공영주차장', '3층', '천의삼거리', '307', '312', '57-26',\n",
       "       '954-4', '292-5', '30-2', '679', '1316', '1257', '7-10', '664-5',\n",
       "       '민원봉사실', '42', '11', '391-3', '30-1', '353', '376-1', '52',\n",
       "       '765-161', '577-2', '23-1', '(덕곡리', '35-4', '1127-28', '(송천동',\n",
       "       '140-1', '6', '7-6', '164-3', '271-22', '343-4', '49-10', '-',\n",
       "       '4-7', '1430', '940', '123', '69-2', '45-49', '103-5(상)', '5',\n",
       "       '산8-12', '5-1', '산44-13', '2길', '285-4', '5-2', '68', '2023'],\n",
       "      dtype=object)"
      ]
     },
     "execution_count": 200,
     "metadata": {},
     "output_type": "execute_result"
    }
   ],
   "source": [
    "temp[5].unique()"
   ]
  },
  {
   "cell_type": "code",
   "execution_count": 201,
   "metadata": {},
   "outputs": [],
   "source": [
    "temp = temp.fillna(np.nan)"
   ]
  },
  {
   "cell_type": "code",
   "execution_count": 202,
   "metadata": {},
   "outputs": [
    {
     "data": {
      "text/html": [
       "<div>\n",
       "<style scoped>\n",
       "    .dataframe tbody tr th:only-of-type {\n",
       "        vertical-align: middle;\n",
       "    }\n",
       "\n",
       "    .dataframe tbody tr th {\n",
       "        vertical-align: top;\n",
       "    }\n",
       "\n",
       "    .dataframe thead th {\n",
       "        text-align: right;\n",
       "    }\n",
       "</style>\n",
       "<table border=\"1\" class=\"dataframe\">\n",
       "  <thead>\n",
       "    <tr style=\"text-align: right;\">\n",
       "      <th></th>\n",
       "      <th>0</th>\n",
       "      <th>1</th>\n",
       "      <th>2</th>\n",
       "      <th>3</th>\n",
       "      <th>4</th>\n",
       "      <th>5</th>\n",
       "      <th>6</th>\n",
       "      <th>7</th>\n",
       "      <th>8</th>\n",
       "      <th>9</th>\n",
       "      <th>10</th>\n",
       "      <th>11</th>\n",
       "    </tr>\n",
       "  </thead>\n",
       "  <tbody>\n",
       "    <tr>\n",
       "      <th>0</th>\n",
       "      <td>서울특별시</td>\n",
       "      <td>구로구</td>\n",
       "      <td>오류동</td>\n",
       "      <td>174-10</td>\n",
       "      <td>천왕역</td>\n",
       "      <td>환승주차장</td>\n",
       "      <td>1층</td>\n",
       "      <td>NaN</td>\n",
       "      <td>NaN</td>\n",
       "      <td>NaN</td>\n",
       "      <td>NaN</td>\n",
       "      <td>NaN</td>\n",
       "    </tr>\n",
       "    <tr>\n",
       "      <th>1</th>\n",
       "      <td>경상남도</td>\n",
       "      <td>통영시</td>\n",
       "      <td>광도면</td>\n",
       "      <td>죽림리</td>\n",
       "      <td>292-33</td>\n",
       "      <td>NaN</td>\n",
       "      <td>NaN</td>\n",
       "      <td>NaN</td>\n",
       "      <td>NaN</td>\n",
       "      <td>NaN</td>\n",
       "      <td>NaN</td>\n",
       "      <td>NaN</td>\n",
       "    </tr>\n",
       "    <tr>\n",
       "      <th>2</th>\n",
       "      <td>전라북도</td>\n",
       "      <td>완주군</td>\n",
       "      <td>봉동읍</td>\n",
       "      <td>둔산리</td>\n",
       "      <td>881</td>\n",
       "      <td>NaN</td>\n",
       "      <td>NaN</td>\n",
       "      <td>NaN</td>\n",
       "      <td>NaN</td>\n",
       "      <td>NaN</td>\n",
       "      <td>NaN</td>\n",
       "      <td>NaN</td>\n",
       "    </tr>\n",
       "    <tr>\n",
       "      <th>3</th>\n",
       "      <td>충청남도</td>\n",
       "      <td>공주시</td>\n",
       "      <td>정안면</td>\n",
       "      <td>석송리</td>\n",
       "      <td>NaN</td>\n",
       "      <td>NaN</td>\n",
       "      <td>NaN</td>\n",
       "      <td>NaN</td>\n",
       "      <td>NaN</td>\n",
       "      <td>NaN</td>\n",
       "      <td>NaN</td>\n",
       "      <td>NaN</td>\n",
       "    </tr>\n",
       "    <tr>\n",
       "      <th>4</th>\n",
       "      <td>충청북도</td>\n",
       "      <td>단양군</td>\n",
       "      <td>적성면</td>\n",
       "      <td>기동리</td>\n",
       "      <td>NaN</td>\n",
       "      <td>NaN</td>\n",
       "      <td>NaN</td>\n",
       "      <td>NaN</td>\n",
       "      <td>NaN</td>\n",
       "      <td>NaN</td>\n",
       "      <td>NaN</td>\n",
       "      <td>NaN</td>\n",
       "    </tr>\n",
       "  </tbody>\n",
       "</table>\n",
       "</div>"
      ],
      "text/plain": [
       "      0    1    2       3       4      5    6    7    8    9    10   11\n",
       "0  서울특별시  구로구  오류동  174-10     천왕역  환승주차장   1층  NaN  NaN  NaN  NaN  NaN\n",
       "1   경상남도  통영시  광도면     죽림리  292-33    NaN  NaN  NaN  NaN  NaN  NaN  NaN\n",
       "2   전라북도  완주군  봉동읍     둔산리     881    NaN  NaN  NaN  NaN  NaN  NaN  NaN\n",
       "3   충청남도  공주시  정안면     석송리     NaN    NaN  NaN  NaN  NaN  NaN  NaN  NaN\n",
       "4   충청북도  단양군  적성면     기동리     NaN    NaN  NaN  NaN  NaN  NaN  NaN  NaN"
      ]
     },
     "execution_count": 202,
     "metadata": {},
     "output_type": "execute_result"
    }
   ],
   "source": [
    "temp.head()"
   ]
  },
  {
   "cell_type": "code",
   "execution_count": 203,
   "metadata": {},
   "outputs": [
    {
     "data": {
      "text/html": [
       "<div>\n",
       "<style scoped>\n",
       "    .dataframe tbody tr th:only-of-type {\n",
       "        vertical-align: middle;\n",
       "    }\n",
       "\n",
       "    .dataframe tbody tr th {\n",
       "        vertical-align: top;\n",
       "    }\n",
       "\n",
       "    .dataframe thead th {\n",
       "        text-align: right;\n",
       "    }\n",
       "</style>\n",
       "<table border=\"1\" class=\"dataframe\">\n",
       "  <thead>\n",
       "    <tr style=\"text-align: right;\">\n",
       "      <th></th>\n",
       "      <th>충전소명</th>\n",
       "      <th>충전기ID</th>\n",
       "      <th>지역</th>\n",
       "      <th>시군구</th>\n",
       "      <th>주소</th>\n",
       "      <th>충전기타입</th>\n",
       "      <th>충전시작일시</th>\n",
       "      <th>충전종료일시</th>\n",
       "      <th>충전시간</th>\n",
       "      <th>충전량</th>\n",
       "      <th>...</th>\n",
       "      <th>2</th>\n",
       "      <th>3</th>\n",
       "      <th>4</th>\n",
       "      <th>5</th>\n",
       "      <th>6</th>\n",
       "      <th>7</th>\n",
       "      <th>8</th>\n",
       "      <th>9</th>\n",
       "      <th>10</th>\n",
       "      <th>11</th>\n",
       "    </tr>\n",
       "  </thead>\n",
       "  <tbody>\n",
       "    <tr>\n",
       "      <th>0</th>\n",
       "      <td>천왕역 환승주차장</td>\n",
       "      <td>1</td>\n",
       "      <td>서울특별시</td>\n",
       "      <td>구로구</td>\n",
       "      <td>서울특별시 구로구 오류동 174-10  천왕역 환승주차장 1층</td>\n",
       "      <td>DC차데모+AC3상</td>\n",
       "      <td>20200101000457</td>\n",
       "      <td>20200101004534</td>\n",
       "      <td>0 days 00:40:37</td>\n",
       "      <td>18.87</td>\n",
       "      <td>...</td>\n",
       "      <td>오류동</td>\n",
       "      <td>174-10</td>\n",
       "      <td>천왕역</td>\n",
       "      <td>환승주차장</td>\n",
       "      <td>1층</td>\n",
       "      <td>NaN</td>\n",
       "      <td>NaN</td>\n",
       "      <td>NaN</td>\n",
       "      <td>NaN</td>\n",
       "      <td>NaN</td>\n",
       "    </tr>\n",
       "    <tr>\n",
       "      <th>1</th>\n",
       "      <td>신세계종합정비</td>\n",
       "      <td>1</td>\n",
       "      <td>경상남도</td>\n",
       "      <td>통영시</td>\n",
       "      <td>경상남도 통영시 광도면 죽림리 292-33</td>\n",
       "      <td>DC차데모+AC3상+DC콤보</td>\n",
       "      <td>20200101000906</td>\n",
       "      <td>20200101004945</td>\n",
       "      <td>0 days 00:40:39</td>\n",
       "      <td>27.96</td>\n",
       "      <td>...</td>\n",
       "      <td>광도면</td>\n",
       "      <td>죽림리</td>\n",
       "      <td>292-33</td>\n",
       "      <td>NaN</td>\n",
       "      <td>NaN</td>\n",
       "      <td>NaN</td>\n",
       "      <td>NaN</td>\n",
       "      <td>NaN</td>\n",
       "      <td>NaN</td>\n",
       "      <td>NaN</td>\n",
       "    </tr>\n",
       "    <tr>\n",
       "      <th>2</th>\n",
       "      <td>근로자종합복지관</td>\n",
       "      <td>1</td>\n",
       "      <td>전라북도</td>\n",
       "      <td>완주군</td>\n",
       "      <td>전라북도 완주군 봉동읍 둔산리 881</td>\n",
       "      <td>DC차데모+AC3상+DC콤보</td>\n",
       "      <td>20200101001519</td>\n",
       "      <td>20200101005604</td>\n",
       "      <td>0 days 00:40:45</td>\n",
       "      <td>25.64</td>\n",
       "      <td>...</td>\n",
       "      <td>봉동읍</td>\n",
       "      <td>둔산리</td>\n",
       "      <td>881</td>\n",
       "      <td>NaN</td>\n",
       "      <td>NaN</td>\n",
       "      <td>NaN</td>\n",
       "      <td>NaN</td>\n",
       "      <td>NaN</td>\n",
       "      <td>NaN</td>\n",
       "      <td>NaN</td>\n",
       "    </tr>\n",
       "    <tr>\n",
       "      <th>3</th>\n",
       "      <td>정안휴게소(순천방향)</td>\n",
       "      <td>1</td>\n",
       "      <td>충청남도</td>\n",
       "      <td>공주시</td>\n",
       "      <td>충청남도 공주시 정안면 석송리</td>\n",
       "      <td>DC차데모+AC3상+DC콤보</td>\n",
       "      <td>20200101002014</td>\n",
       "      <td>20200101002652</td>\n",
       "      <td>0 days 00:06:38</td>\n",
       "      <td>1.17</td>\n",
       "      <td>...</td>\n",
       "      <td>정안면</td>\n",
       "      <td>석송리</td>\n",
       "      <td>NaN</td>\n",
       "      <td>NaN</td>\n",
       "      <td>NaN</td>\n",
       "      <td>NaN</td>\n",
       "      <td>NaN</td>\n",
       "      <td>NaN</td>\n",
       "      <td>NaN</td>\n",
       "      <td>NaN</td>\n",
       "    </tr>\n",
       "    <tr>\n",
       "      <th>4</th>\n",
       "      <td>단양휴게소(부산방향)</td>\n",
       "      <td>1</td>\n",
       "      <td>충청북도</td>\n",
       "      <td>단양군</td>\n",
       "      <td>충청북도 단양군 적성면 기동리</td>\n",
       "      <td>DC차데모+AC3상+DC콤보</td>\n",
       "      <td>20200101003527</td>\n",
       "      <td>20200101004937</td>\n",
       "      <td>0 days 00:14:06</td>\n",
       "      <td>8.64</td>\n",
       "      <td>...</td>\n",
       "      <td>적성면</td>\n",
       "      <td>기동리</td>\n",
       "      <td>NaN</td>\n",
       "      <td>NaN</td>\n",
       "      <td>NaN</td>\n",
       "      <td>NaN</td>\n",
       "      <td>NaN</td>\n",
       "      <td>NaN</td>\n",
       "      <td>NaN</td>\n",
       "      <td>NaN</td>\n",
       "    </tr>\n",
       "  </tbody>\n",
       "</table>\n",
       "<p>5 rows × 39 columns</p>\n",
       "</div>"
      ],
      "text/plain": [
       "          충전소명  충전기ID     지역  시군구                                  주소  \\\n",
       "0    천왕역 환승주차장      1  서울특별시  구로구  서울특별시 구로구 오류동 174-10  천왕역 환승주차장 1층   \n",
       "1      신세계종합정비      1   경상남도  통영시             경상남도 통영시 광도면 죽림리 292-33   \n",
       "2     근로자종합복지관      1   전라북도  완주군                전라북도 완주군 봉동읍 둔산리 881   \n",
       "3  정안휴게소(순천방향)      1   충청남도  공주시                    충청남도 공주시 정안면 석송리   \n",
       "4  단양휴게소(부산방향)      1   충청북도  단양군                    충청북도 단양군 적성면 기동리   \n",
       "\n",
       "             충전기타입          충전시작일시          충전종료일시            충전시간    충전량  \\\n",
       "0       DC차데모+AC3상  20200101000457  20200101004534 0 days 00:40:37  18.87   \n",
       "1  DC차데모+AC3상+DC콤보  20200101000906  20200101004945 0 days 00:40:39  27.96   \n",
       "2  DC차데모+AC3상+DC콤보  20200101001519  20200101005604 0 days 00:40:45  25.64   \n",
       "3  DC차데모+AC3상+DC콤보  20200101002014  20200101002652 0 days 00:06:38   1.17   \n",
       "4  DC차데모+AC3상+DC콤보  20200101003527  20200101004937 0 days 00:14:06   8.64   \n",
       "\n",
       "   ...    2       3       4      5    6    7    8    9   10   11  \n",
       "0  ...  오류동  174-10     천왕역  환승주차장   1층  NaN  NaN  NaN  NaN  NaN  \n",
       "1  ...  광도면     죽림리  292-33    NaN  NaN  NaN  NaN  NaN  NaN  NaN  \n",
       "2  ...  봉동읍     둔산리     881    NaN  NaN  NaN  NaN  NaN  NaN  NaN  \n",
       "3  ...  정안면     석송리     NaN    NaN  NaN  NaN  NaN  NaN  NaN  NaN  \n",
       "4  ...  적성면     기동리     NaN    NaN  NaN  NaN  NaN  NaN  NaN  NaN  \n",
       "\n",
       "[5 rows x 39 columns]"
      ]
     },
     "execution_count": 203,
     "metadata": {},
     "output_type": "execute_result"
    }
   ],
   "source": [
    "old_adr_df2 = pd.concat([old_adr_df, temp], axis=1)\n",
    "old_adr_df2.head()"
   ]
  },
  {
   "cell_type": "markdown",
   "metadata": {},
   "source": [
    "##### 주소 상세 분리 확인"
   ]
  },
  {
   "cell_type": "code",
   "execution_count": 204,
   "metadata": {},
   "outputs": [
    {
     "data": {
      "text/html": [
       "<div>\n",
       "<style scoped>\n",
       "    .dataframe tbody tr th:only-of-type {\n",
       "        vertical-align: middle;\n",
       "    }\n",
       "\n",
       "    .dataframe tbody tr th {\n",
       "        vertical-align: top;\n",
       "    }\n",
       "\n",
       "    .dataframe thead th {\n",
       "        text-align: right;\n",
       "    }\n",
       "</style>\n",
       "<table border=\"1\" class=\"dataframe\">\n",
       "  <thead>\n",
       "    <tr style=\"text-align: right;\">\n",
       "      <th></th>\n",
       "      <th>주소</th>\n",
       "      <th>0</th>\n",
       "      <th>1</th>\n",
       "      <th>2</th>\n",
       "      <th>3</th>\n",
       "      <th>4</th>\n",
       "    </tr>\n",
       "  </thead>\n",
       "  <tbody>\n",
       "    <tr>\n",
       "      <th>3857542</th>\n",
       "      <td>경기도 안산시 상록구 사동 1271-11</td>\n",
       "      <td>경기도</td>\n",
       "      <td>안산시</td>\n",
       "      <td>상록구</td>\n",
       "      <td>사동</td>\n",
       "      <td>1271-11</td>\n",
       "    </tr>\n",
       "    <tr>\n",
       "      <th>3857543</th>\n",
       "      <td>경기도 의정부시 호원동 229-160</td>\n",
       "      <td>경기도</td>\n",
       "      <td>의정부시</td>\n",
       "      <td>호원동</td>\n",
       "      <td>229-160</td>\n",
       "      <td>NaN</td>\n",
       "    </tr>\n",
       "    <tr>\n",
       "      <th>3857544</th>\n",
       "      <td>서울특별시 서초구 반포동 49-8</td>\n",
       "      <td>서울특별시</td>\n",
       "      <td>서초구</td>\n",
       "      <td>반포동</td>\n",
       "      <td>49-8</td>\n",
       "      <td>NaN</td>\n",
       "    </tr>\n",
       "    <tr>\n",
       "      <th>3857545</th>\n",
       "      <td>인천광역시 서구 당하동 1097-5  검단4동 주민센터 옆</td>\n",
       "      <td>인천광역시</td>\n",
       "      <td>서구</td>\n",
       "      <td>당하동</td>\n",
       "      <td>1097-5</td>\n",
       "      <td>검단4동</td>\n",
       "    </tr>\n",
       "    <tr>\n",
       "      <th>3857546</th>\n",
       "      <td>대구광역시 남구 봉덕동 1272-18</td>\n",
       "      <td>대구광역시</td>\n",
       "      <td>남구</td>\n",
       "      <td>봉덕동</td>\n",
       "      <td>1272-18</td>\n",
       "      <td>NaN</td>\n",
       "    </tr>\n",
       "  </tbody>\n",
       "</table>\n",
       "</div>"
      ],
      "text/plain": [
       "                                       주소      0     1    2        3        4\n",
       "3857542            경기도 안산시 상록구 사동 1271-11    경기도   안산시  상록구       사동  1271-11\n",
       "3857543              경기도 의정부시 호원동 229-160    경기도  의정부시  호원동  229-160      NaN\n",
       "3857544                서울특별시 서초구 반포동 49-8  서울특별시   서초구  반포동     49-8      NaN\n",
       "3857545  인천광역시 서구 당하동 1097-5  검단4동 주민센터 옆  인천광역시    서구  당하동   1097-5     검단4동\n",
       "3857546              대구광역시 남구 봉덕동 1272-18  대구광역시    남구  봉덕동  1272-18      NaN"
      ]
     },
     "execution_count": 204,
     "metadata": {},
     "output_type": "execute_result"
    }
   ],
   "source": [
    "old_adr_df2[['주소', 0, 1, 2, 3, 4]].tail()"
   ]
  },
  {
   "cell_type": "code",
   "execution_count": 205,
   "metadata": {},
   "outputs": [
    {
     "data": {
      "text/html": [
       "<div>\n",
       "<style scoped>\n",
       "    .dataframe tbody tr th:only-of-type {\n",
       "        vertical-align: middle;\n",
       "    }\n",
       "\n",
       "    .dataframe tbody tr th {\n",
       "        vertical-align: top;\n",
       "    }\n",
       "\n",
       "    .dataframe thead th {\n",
       "        text-align: right;\n",
       "    }\n",
       "</style>\n",
       "<table border=\"1\" class=\"dataframe\">\n",
       "  <thead>\n",
       "    <tr style=\"text-align: right;\">\n",
       "      <th></th>\n",
       "      <th>주소</th>\n",
       "      <th>0</th>\n",
       "      <th>1</th>\n",
       "      <th>2</th>\n",
       "      <th>3</th>\n",
       "      <th>4</th>\n",
       "    </tr>\n",
       "  </thead>\n",
       "  <tbody>\n",
       "    <tr>\n",
       "      <th>0</th>\n",
       "      <td>서울특별시 구로구 오류동 174-10  천왕역 환승주차장 1층</td>\n",
       "      <td>서울특별시</td>\n",
       "      <td>구로구</td>\n",
       "      <td>오류동</td>\n",
       "      <td>174-10</td>\n",
       "      <td>천왕역</td>\n",
       "    </tr>\n",
       "    <tr>\n",
       "      <th>1</th>\n",
       "      <td>경상남도 통영시 광도면 죽림리 292-33</td>\n",
       "      <td>경상남도</td>\n",
       "      <td>통영시</td>\n",
       "      <td>광도면</td>\n",
       "      <td>죽림리</td>\n",
       "      <td>292-33</td>\n",
       "    </tr>\n",
       "    <tr>\n",
       "      <th>2</th>\n",
       "      <td>전라북도 완주군 봉동읍 둔산리 881</td>\n",
       "      <td>전라북도</td>\n",
       "      <td>완주군</td>\n",
       "      <td>봉동읍</td>\n",
       "      <td>둔산리</td>\n",
       "      <td>881</td>\n",
       "    </tr>\n",
       "    <tr>\n",
       "      <th>3</th>\n",
       "      <td>충청남도 공주시 정안면 석송리</td>\n",
       "      <td>충청남도</td>\n",
       "      <td>공주시</td>\n",
       "      <td>정안면</td>\n",
       "      <td>석송리</td>\n",
       "      <td>NaN</td>\n",
       "    </tr>\n",
       "    <tr>\n",
       "      <th>4</th>\n",
       "      <td>충청북도 단양군 적성면 기동리</td>\n",
       "      <td>충청북도</td>\n",
       "      <td>단양군</td>\n",
       "      <td>적성면</td>\n",
       "      <td>기동리</td>\n",
       "      <td>NaN</td>\n",
       "    </tr>\n",
       "  </tbody>\n",
       "</table>\n",
       "</div>"
      ],
      "text/plain": [
       "                                   주소      0    1    2       3       4\n",
       "0  서울특별시 구로구 오류동 174-10  천왕역 환승주차장 1층  서울특별시  구로구  오류동  174-10     천왕역\n",
       "1             경상남도 통영시 광도면 죽림리 292-33   경상남도  통영시  광도면     죽림리  292-33\n",
       "2                전라북도 완주군 봉동읍 둔산리 881   전라북도  완주군  봉동읍     둔산리     881\n",
       "3                    충청남도 공주시 정안면 석송리   충청남도  공주시  정안면     석송리     NaN\n",
       "4                    충청북도 단양군 적성면 기동리   충청북도  단양군  적성면     기동리     NaN"
      ]
     },
     "execution_count": 205,
     "metadata": {},
     "output_type": "execute_result"
    }
   ],
   "source": [
    "old_adr_df2[['주소', 0, 1, 2, 3, 4]].head()"
   ]
  },
  {
   "cell_type": "markdown",
   "metadata": {},
   "source": [
    "##### 구주소 상세 분리 파일 출력"
   ]
  },
  {
   "cell_type": "code",
   "execution_count": 206,
   "metadata": {},
   "outputs": [],
   "source": [
    "old_adr_df2.to_csv('2020-22년_급속충전_구주소_상세분리.csv', encoding='utf-8')"
   ]
  },
  {
   "cell_type": "code",
   "execution_count": 207,
   "metadata": {},
   "outputs": [
    {
     "name": "stdout",
     "output_type": "stream",
     "text": [
      "제주특별자치도 서귀포시 성산읍 성산리 347-9 주차타워 앞\n"
     ]
    }
   ],
   "source": [
    "for one in old_adr_df2['주소'].to_list():\n",
    "    if ('제주' in one):\n",
    "        print(one)\n",
    "        break"
   ]
  },
  {
   "cell_type": "markdown",
   "metadata": {},
   "source": [
    "## 파일 로드(다시 시작)"
   ]
  },
  {
   "cell_type": "code",
   "execution_count": 208,
   "metadata": {},
   "outputs": [],
   "source": [
    "# new_adr_df2 = pd.read_csv('2020-22년_급속충전_신주소_상세분리.csv', index_col=0, dtype={'충전시작_년도':np.int16, '충전종료_년도':np.int16, '충전시작_월':np.int8,  '충전시작_일':np.int8, '충전시작_시':np.int8, '충전시작_분':np.int8, '충전시작_초':np.int8, '충전종료_월':np.int8, '충전종료_일':np.int8, '충전종료_시':np.int8, '충전종료_분':np.int8, '충전종료_초':np.int8, '충전기ID':np.int8})\n",
    "# new_adr_df2['충전시간'] = pd.to_timedelta(new_adr_df2['충전시간'])\n",
    "# new_adr_df2['충전시간(계산)'] = pd.to_timedelta(new_adr_df2['충전시간(계산)'])\n",
    "# new_adr_df2 = new_adr_df2.reset_index(drop=True)\n",
    "# new_adr_df2.info()"
   ]
  },
  {
   "cell_type": "code",
   "execution_count": 209,
   "metadata": {},
   "outputs": [],
   "source": [
    "# old_adr_df2 = pd.read_csv('2020-22년_급속충전_구주소_상세분리.csv', index_col=0, dtype={'충전시작_년도':np.int16, '충전종료_년도':np.int16, '충전시작_월':np.int8,  '충전시작_일':np.int8, '충전시작_시':np.int8, '충전시작_분':np.int8, '충전시작_초':np.int8, '충전종료_월':np.int8, '충전종료_일':np.int8, '충전종료_시':np.int8, '충전종료_분':np.int8, '충전종료_초':np.int8, '충전기ID':np.int8})\n",
    "# old_adr_df2['충전시간'] = pd.to_timedelta(old_adr_df2['충전시간'])\n",
    "# old_adr_df2['충전시간(계산)'] = pd.to_timedelta(old_adr_df2['충전시간(계산)'])\n",
    "# old_adr_df2 = old_adr_df2.reset_index(drop=True)\n",
    "# old_adr_df2.info()"
   ]
  },
  {
   "cell_type": "code",
   "execution_count": 210,
   "metadata": {},
   "outputs": [],
   "source": [
    "# # [주의!]신/구주소 파일 불러올시 실행\n",
    "# df2 = pd.concat([new_adr_df2, old_adr_df2], ignore_index=True)\n",
    "# df2.info()"
   ]
  },
  {
   "cell_type": "markdown",
   "metadata": {},
   "source": [
    "## 분석2"
   ]
  },
  {
   "cell_type": "code",
   "execution_count": 211,
   "metadata": {},
   "outputs": [
    {
     "name": "stdout",
     "output_type": "stream",
     "text": [
      "<class 'pandas.core.frame.DataFrame'>\n",
      "RangeIndex: 7755902 entries, 0 to 7755901\n",
      "Data columns (total 40 columns):\n",
      " #   Column        Dtype          \n",
      "---  ------        -----          \n",
      " 0   충전소명          object         \n",
      " 1   충전기ID         int8           \n",
      " 2   지역            object         \n",
      " 3   시군구           object         \n",
      " 4   주소            object         \n",
      " 5   충전기타입         object         \n",
      " 6   충전시작일시        int64          \n",
      " 7   충전종료일시        int64          \n",
      " 8   충전시간          timedelta64[ns]\n",
      " 9   충전량           float64        \n",
      " 10  충전용량          object         \n",
      " 11  충전시작_년도       int16          \n",
      " 12  충전시작_월        int8           \n",
      " 13  충전시작_일        int8           \n",
      " 14  충전시작_시        int8           \n",
      " 15  충전시작_분        int8           \n",
      " 16  충전시작_초        int8           \n",
      " 17  충전시작일시(변환)    object         \n",
      " 18  충전종료_년도       int16          \n",
      " 19  충전종료_월        int8           \n",
      " 20  충전종료_일        int8           \n",
      " 21  충전종료_시        int8           \n",
      " 22  충전종료_분        int8           \n",
      " 23  충전종료_초        int8           \n",
      " 24  충전종료일시(변환)    object         \n",
      " 25  충전시간(계산)      timedelta64[ns]\n",
      " 26  raw값과_계산값_차이  object         \n",
      " 27  0             object         \n",
      " 28  1             object         \n",
      " 29  2             object         \n",
      " 30  3             object         \n",
      " 31  4             object         \n",
      " 32  5             object         \n",
      " 33  6             object         \n",
      " 34  7             object         \n",
      " 35  8             object         \n",
      " 36  9             object         \n",
      " 37  10            object         \n",
      " 38  11            object         \n",
      " 39  12            object         \n",
      "dtypes: float64(1), int16(2), int64(2), int8(11), object(22), timedelta64[ns](2)\n",
      "memory usage: 1.7+ GB\n"
     ]
    }
   ],
   "source": [
    "new_adr_df2.info()"
   ]
  },
  {
   "cell_type": "code",
   "execution_count": 212,
   "metadata": {},
   "outputs": [
    {
     "name": "stdout",
     "output_type": "stream",
     "text": [
      "<class 'pandas.core.frame.DataFrame'>\n",
      "RangeIndex: 3857547 entries, 0 to 3857546\n",
      "Data columns (total 39 columns):\n",
      " #   Column        Dtype          \n",
      "---  ------        -----          \n",
      " 0   충전소명          object         \n",
      " 1   충전기ID         int8           \n",
      " 2   지역            object         \n",
      " 3   시군구           object         \n",
      " 4   주소            object         \n",
      " 5   충전기타입         object         \n",
      " 6   충전시작일시        int64          \n",
      " 7   충전종료일시        int64          \n",
      " 8   충전시간          timedelta64[ns]\n",
      " 9   충전량           float64        \n",
      " 10  충전용량          object         \n",
      " 11  충전시작_년도       int16          \n",
      " 12  충전시작_월        int8           \n",
      " 13  충전시작_일        int8           \n",
      " 14  충전시작_시        int8           \n",
      " 15  충전시작_분        int8           \n",
      " 16  충전시작_초        int8           \n",
      " 17  충전시작일시(변환)    object         \n",
      " 18  충전종료_년도       int16          \n",
      " 19  충전종료_월        int8           \n",
      " 20  충전종료_일        int8           \n",
      " 21  충전종료_시        int8           \n",
      " 22  충전종료_분        int8           \n",
      " 23  충전종료_초        int8           \n",
      " 24  충전종료일시(변환)    object         \n",
      " 25  충전시간(계산)      timedelta64[ns]\n",
      " 26  raw값과_계산값_차이  object         \n",
      " 27  0             object         \n",
      " 28  1             object         \n",
      " 29  2             object         \n",
      " 30  3             object         \n",
      " 31  4             object         \n",
      " 32  5             object         \n",
      " 33  6             object         \n",
      " 34  7             object         \n",
      " 35  8             object         \n",
      " 36  9             object         \n",
      " 37  10            object         \n",
      " 38  11            object         \n",
      "dtypes: float64(1), int16(2), int64(2), int8(11), object(21), timedelta64[ns](2)\n",
      "memory usage: 820.4+ MB\n"
     ]
    }
   ],
   "source": [
    "old_adr_df2.info()"
   ]
  },
  {
   "cell_type": "markdown",
   "metadata": {},
   "source": [
    "#### 분석 이슈\n",
    "- 1번 지역(시군구) : 세종특별자치시 주소는 시군구가 없이 바로 도로명 주소나 2번 지역명(읍면동)이 있는 경우가 있음\n",
    "- 2번 지역(읍면동) : 3번 지역명(리)의 주소가 있는 샘플 존재.\n",
    "    - 샘플 주소 : 강원도 화천군 하리\n",
    "    - 실제 주소 : 강원도 화천군 화천읍 하리"
   ]
  },
  {
   "cell_type": "markdown",
   "metadata": {},
   "source": [
    "#### 이슈 해결 방안\n",
    "- 1\\. 신주소, 구주소 나누어 분석\n",
    "- 2\\. 주소에서 빠진 지역구분명은 검색을 통해 주소 값 입력\n",
    "- 3\\. 해당 주소 다시 지역구분으로 분리"
   ]
  },
  {
   "cell_type": "markdown",
   "metadata": {},
   "source": [
    "### 지역별 유니크 값 확인\n",
    "- 지역 분류에 맞는 주소 들어갔는지 확인"
   ]
  },
  {
   "cell_type": "code",
   "execution_count": 13,
   "metadata": {},
   "outputs": [
    {
     "name": "stdout",
     "output_type": "stream",
     "text": [
      "진영읍, 삼성로, 노형9길, 북구, 현북면, 산천단동길, 양산대로, 동명면, 강릉대로, 우평로\n",
      "월드컵대로, 용평면, 신평면, 애월읍, 문막읍, 서원구, 강구면, 성산읍, 안흥면, 장안읍\n",
      "송산면, 문내면, 안면읍, 선원로, 봉개북1길, 문연로, 효동로2길, 일산서구, 남문로, 청도읍\n",
      "화서면, 남구, 지양로, 봉수로, 기자길, 광양읍, 오전로, 서광로2길, 단원구, 팔달로\n",
      "중원구, 동호로, 세종대로, 서생면, 지석13길, 설악면, 성산면, 단성면, 북한강변길, 흥덕구\n",
      "장연면, 조천읍, 칠서면, 구정면, 건천읍, 마산합포구, 덕양구, 연천읍, 진량읍, 안성면\n",
      "비인면, 내산면, 청석로3길, 팔탄면, 낙성대로4가길, 농소면, 보성읍, 선소로, 중앙탑면, 옥천읍\n",
      "동남구, 중문관광로, 부발읍, 하신중앙로, 와촌면, 능주면, 선덕로8길, 호저면, 망운면, 수지구\n",
      "죽변면, 옥성면, 현풍면, 문산읍, 안계면, 송지면, 분당구, 청송읍, 대가면, 죽왕면\n",
      "수목원길, 계룡로, 임고면, 돈내코로, 신림면, 지곡면, 구지면, 내토로, 동홍로, 왜관읍\n",
      "율촌면, 이월면, 현충로, 의사당대로, 장안로, 연희로, 서북구, 동진5길, 중앙로, 중부내륙고속도로\n",
      "표선면, 진월면, 한림읍, 가조면, 북성로, 관아문길, 양남면, 함평읍, 삼동길, 군위읍\n",
      "대관령면, 벌곡면, 무학로, 추암길, 영중로, 소보리당로164번길, 장충단로, 평원로, 큰발개, 해안마을서2길\n",
      "남승룡로, 미시령로, 기흥구, 해미면, 원효로35길, 화양읍, 하북면, 남성중로, 추자면, 봉오대로\n",
      "중부고속도로, 돌산읍, 해운대로, 군북면, 석문면, 보목로64번길, 서면, 강현면, 석봉로38번길, 부두로\n",
      "용현면, 후포면, 무왕로, 정안면, 새천년도로, 합천읍, 병곡면, 퇴계로, 성주읍, 부곡로\n",
      "근덕면, 산척면, 영암읍, 봉은사로, 오남로, 으뜸로, 중앙대로, 대강면, 한경면, 동해대로\n",
      "화도읍, 첨단로, 동문대로, 가정북로, 의창구, 고창읍, 매송면, 가정로, 혁신6로, 문화회관4길\n",
      "이동면, 남매로, 계북면, 영동읍, 황간면, 망우로, 구이면, 구좌읍, 시민공원로, 홍북읍\n",
      "소홀읍, 군동면, 곤지암읍, 오운로, 무주읍, 내방로, 별내3로, 장흥읍, 가야대로, 경안로\n",
      "거창읍, 옥서면, 청원구, 처인구, 홍천읍, 천수로, 영광읍, 청통면, 첨단과기로208번길, 산업단지로\n",
      "남부순환로340길, 은하면, 516로, 목동서로, 꽃대나리로, 명지오션시티13로, 순창읍, 청평면, 염전로, 대가야읍\n",
      "선사로, 시청1로, 부흥로, 권선구, 1100로, 쇠소깍로, 옥계면, 곤양면, 삼양로, 진황도로29길\n",
      "삼향읍, 낙동대로, 장항읍, 천호대로, 화곡로, 간동면, 신포로27번길, 태안로, 시청로, 한울로\n",
      "영산면, 이서면, 동진로, 영중로3길, 의당면, 도안북로, 영월읍, 동이면, 양평읍, 금강송면\n",
      "엄다면, 금화로, 신양면, 화순읍, 가남읍, 토정로, 시종면, 단계동길, 과역면, 명림로\n",
      "공항진입로, 연북로, 수송로, 장곡로, 정각로, 첨단벤처로108번길, 약령중앙로, 주교면, 마장면, 국채보상로\n",
      "남강로, 나포면, 평화로, 북면, 외동읍, 이태원로, 남양읍, 회동길, 송정대로, 대정읍\n",
      "하늘길, 좌동순환로, 청라, 진안읍, 완도읍, 내동길, 신흥2길, 서울대학로278번길, 내남면, 강동면\n",
      "오수면, 마들로, 남해고속도로, 태성탑연로, 평택5로, 흥업면, 원곡면, 중앙로25길, 마로면, 양북면\n",
      "풍산읍, 흰바위로, 주암면, 일운면, 은척면, 삼호1길, 부계면, 일주동로, 삼성면, 당하길\n",
      "을숙도대로, 겸백면, 금왕읍, 당진영덕고속도로, 덕진구, 장유로116번길, 현경면, 가평읍, 덕풍서로, 계대동문로\n",
      "조성면, 예술로, 국포1로, 과천대로, 남원읍, 효돈로152번길, 정관읍, 청학로, 염포로, 대청로116번길\n",
      "인중로, 금성로, 양양읍, 청계면, 장명로, 서울외곽순환고속도로, 거제대로, 충의로, 홍성읍, 봉화로\n",
      "삼봉로, 남부순환로, 김포한강7로, 하서로, 찬샘1길, 연산면, 진관1로, 달구벌대로637길, 김포한강2로, 서운면\n",
      "창의문로, 동강면, 수로부인길, 세실로, 논산대로, 일산동구, 가야테마길, 삼산로, 영중면, 신녕면\n",
      "구미대로22길, 방림면, 대학로, 능허대로, 원인재로, 용두대로11길, 탄천면, 양산로, 수동면, 봉선로\n",
      "중대로, 경감로, 겸면, 천북남로, 반석로12번길, 무전대로, 풍천면, 연무로166번길, 오송읍, 화곡로4길\n",
      "신내로, 옥산면, 공도읍, 남면, 의성읍, 오일장서길, 청능대로, 삽교읍, 완산구, 동서로\n",
      "다사읍, 지평면, 402, 사천읍, 고성읍, 원당대로, 봉곡로15길, 상록구, 정안로, 운암면\n",
      "봉천로21길, 북이면, 임실읍, 산단로76번길, 양재대로12길, 횡성읍, 로봇랜드로, 경산시, 연수로, 구암로\n",
      "예산읍, 테헤란로, 3로, 환선로, 도산면, 충정로, 방송길, 성내천로33가길, 평동로, 태평로\n",
      "한밭대로, 성산구, 의림대로42길, 양림길, 을지로, 마음밭길, 광장로, 노작로, 백수읍, 중앙로62번길\n",
      "연암로, 테크노, 양구읍, 산천단, 평화로2910번길, 무선로, 독산로36나길, 용마산로, 탕정면, 기장읍\n",
      "양천로61길, 죽산면, 동내면, 용방면, 도계읍, 소양로, 아양로37길, 청양읍, 단월면, 군내면\n",
      "원형서로, 소하로, 백호로, 북방면, 칠원읍, 성지곡로, 산록남로1241번길, 율하2로, 둔산중로, 계원대학로\n",
      "금산로, 종로, 동홍중앙로7번길, 동서대로, 탄현면, 안덕면, 통진읍, 서원대로, 사천대로, 우장산로\n",
      "선돌목동길, 고경면, 경인로, 성주산로, 아트센터대로, 경인옛로, 개군면, 칠십리로, 소공로, 낙동대로1518번길\n",
      "영남대로, 호저로, 장신로, 아영면, 봉계1길, 신탄진로, 달서구, 첨단강변로99번길, 경열로17번길, 칠보면\n",
      "마포대로1길, 연곡면, 지정면, 장흥면, 소성로, 온산읍, 양지길, 유가면, 산록북로, 청운면\n",
      "상당구, 오현로21길, 번화1로56번길, 은평로, 옥과면, 북부순환도로, 두서면, 와석순환로, 늘을2로, 대화면\n",
      "가창면, 노원로, 강서로5길, 함창로, 번영로, 우천면, 경기대로, 와부읍, 가로공원로, 국채보상로131길\n",
      "의령읍, 창녕읍, 두류공원로, 사암로, 능서면, 삭주로, 산동면, 안남면, 공원순환로, 종합운동장길\n",
      "불갑면, 지석로, 축동면, 청수로31길, 유성대로, 의재로109번길, 관천로, 봉수대로, 매헌로, 운봉읍\n",
      "시청길, 수성1로, 다산중앙로, 광산로68번길, 우석로, 연동로, 금산읍, 백포서길, 탄현1로, 장안구\n",
      "빛가람로, 11, 북문대로, 동안구, 양천로, 규암면, 백강로, 마산회원구, 유덕로, 천문로\n",
      "물금읍, 덕연로, 도봉로61길, 효창목길, 철마면, 토평로, 연일로, 이인면, 홍제내길, 창경궁로\n",
      "연풍면, 시민로, 담양읍, 입춘로, 목장길, 북안면, 수정구, 미사강변, 진장유통로, 원덕읍\n",
      "채운면, 부안읍, 선산대로, 개포로, 틀모시로, 북원로, 매월2로, 한방로, 정산면, 서간도길\n",
      "남성중로153번길, 사등면, 가회면, 익산대로, 여흥로160번길, 고한읍, 태종로, 무안면, 불정면, 새문안로\n",
      "달서대로, 당산로, 영신로, 원미구, 동일로204가길, 민락수변로, 복현로8길, 앞산순환로, 청일면, 화랑로\n",
      "신길로40길, 평산로, 정림서로, 삼양로107길, 내오산로, 화남면, 광나루로4가길, 임계면, 미탄면, 울진읍\n",
      "덕릉로, 경명로, 김해대로, 꽃바위로, 상화로, 오금로68길, 방화대로, 진천읍, 증평읍, 천원2길\n",
      "봉양면, 해남읍, 동탄면, 난곡로, 양정로, 단장골길, 가곡면, 영통구, 생극면, 철원읍\n",
      "손불면, 능동로, 두산로, 미음산단로295번길, 평화로2169번길, 아포읍, 신천대로, 충효로, 남부순환로88길, 흑석로\n",
      "성내로, 전포대로91번길, 문화로, 청량읍, 대산면, 선유로, 가락대로, 고덕로28길, 센트럴로, 황전면\n",
      "시흥대로, 송악읍, 임항로, 영북로, 줄포면, 흥덕면, 웅촌면, 여의대방로53길, 고산자로26길, 팔달구\n",
      "공영로, 정우남로, 영덕읍, 정안세종로, 산업로, 논공읍, 해양로, 면천로, 운동장길, 갈말읍\n",
      "봉래면, 신평강변8길, 좌수영로, 광양9길, 호명면, 가야읍, 내장산로, 청안면, 종가로, 강림면\n",
      "화명대로, 백석읍, 동대로, 회나무로, 광산로29번길, 시민로19번길, 진성8길, 무룡로, 공항로, 쌍백면\n",
      "유통단지로, 장수로, 하남대로, 쌍림면, 속리산면, 청성면, 합덕읍, 함양읍, 선남면, 조례신대길\n",
      "혁신8로, 주덕읍, 동계천로, 원창로, 화천읍, 영흥면, 운문면, 마산면, 소양면, 대전면\n",
      "양동면, 삼랑진읍, 삼성1로, 장수읍, 천년로, 까치산로4길, 원삭로, 다도면, 영남제일로, 토성면\n",
      "요천로, 오송생명2로, 알파시티1로, 수영로, 청라면, 일로읍, 다산면, 신안면, 은현면, 월드컵로\n",
      "현리길, 지범로, 고봉로, 동서대로1322번길, 화지로, 신기면, 매봉산로, 진도읍, 설악산로, 공항로424번길\n",
      "어상천면, 호계2길, 성동새싹길, 천천면, 곡성읍, 안강읍, 관산읍, 구룡달전로, 관문로, 승주읍\n",
      "화양면, 소촌로152번길, 강원남부로, 동문대로456번길, 장대로, 눌재로, 신풍면, 송암로, 금호읍, 용산면\n",
      "수색로, 온양읍, 유림로5번길, 해룡면, 화북면, 가정로151번길, 성북로, 체육관로, 방산면, 축산면\n",
      "영산로, 희망공원로, 공항동로296번길, 개포로25길, 수륜면, 다시면, 중산간서로, 주천면, 살미면, 군포로609번안길\n",
      "무안로, 동일로, 평창읍, 운남면, 월아산로, 학산면, 예천읍, 주포면, 청천면, 석성면\n",
      "엄궁로191번길, 한수면, 가야면, 우성면, 역전광장1길, 도봉로69길, 대송로, 서곶로, 종합운동장로, 첨단과기로\n",
      "과학로, 위천면, 반남면, 시초면, 금이진말길, 벚꽃로, 탁옥로51번길, 올림픽로, 대치면, 밀양대로\n",
      "경원대로, 청사로, 진해구, 상북면, 대교로14번길, 진광로, 화정면, 이섭대천로, 도농로, 성내천로\n",
      "하동읍, 동면, 동송읍, 청리면, 회암사길, 풍기읍, 백곡면, 풍무로, 두왕로, 오곡면\n",
      "난곡로34나길, 광천읍, 수산면, 적성면, 법성면, 테크노10로, 노곡면, 어곡터널로, 서화면, 상관면\n",
      "성산로, 방어진순환도로, 이문로, 산서면, 서수면, 내동면, 환경로, 천변좌로222번길, 삼천포대교로, 필문대로205번길\n",
      "송광면, 배방읍, 내촌면, 동탄공원로2길, 복흥면, 안의면, 하장면, 칠성면, 고덕로, 고암면\n",
      "영남, 화곡로65길, 군서면, 신둔면, 초평면, 왕산로, 금지면, 서부면, 238-1, 조리읍\n",
      "중앙로32길, 무주로, 단구로, 소성면, 대청호수로545번길, 용봉로138번길, 무안읍, 화정로, 오포읍, 진남로\n",
      "포승읍, 문화로234번길, 부용로41번길, 영산포로, 상보안윗길, 동산면, 우두상리길, 진부면, 예향로, 재신길\n",
      "유치면, 용당로, 압해읍, 강원대학길, 서하남로, 수암로, 상무대로1223번길, 신답로, 풍영로, 이백면\n",
      "사매면, 김화읍, 학교면, 신북면, 해보면, 태안읍, 통일로, 동복면, 신지면, 만안구\n",
      "봉선중앙로123번길, 호법면, 용면, 혁신로, 덕골길, 태장로795번길, 대곶면, 사우중로, 장릉로, 장안웃길\n",
      "화산면, 압구정로, 성덕정길, 독서당로63길, 무학봉15길, 옥길로, 앵고개로, 성산길, 목동중앙로, 산본로\n",
      "김치로, 목동동로, 오리로, 염전로333번길, 강남대로120길, 영신로10길, 진접읍, 중앙로29길, 곰달래로10길, 다산지금로\n",
      "선릉로108길, 진흥길, 근남면, 서석면, 청계천로, 반달로, 암태면, 무네미로, 조례2길, 삼화로\n",
      "16, 파천면, 계산새로, 석정로, 삼육사로2186번길, 회천면, 서독로104번길, 백제고분로, 광적면, 성암로\n",
      "동광로, 용남3길, 강화읍, 중봉대로, 산성길, 말질로, 영종해안북로, 칠십리로72번길, 구례읍, 13(나성동)\n",
      "20, 평천로, 부일로, 상무대로, 중앙로101번길, 토평공단로, 탑동로, 영춘면, 마령면, 영종해안북로1204번길\n",
      "청량로, 477, 부산면, 화원면, 북평면, 군외면, 약사고개길, 화목원길, 상암3길, 몽탄면\n",
      "한강대로62다길, 현내면, 칠전동길, 춘천로17번길, 광평로, 갓바위, 둘레길, 조례1길, 오산면, 수송동로\n",
      "자은면, 무진대로, 안골로, 노성로, 부량면, 별내면, 거제중앙로, 골든루트로, 산내면, 대청로176번길\n",
      "남산초교길, 전하로176번길, 고서면, 맹동면, 삼계면, 다인면, 효령면, 황산면, 비안면, 범서읍\n",
      "벌말로, 벌교읍, 언양읍, 수목원로, 장생포로, 각남면, 청량면, 대학길, 세계로, 신광면\n",
      "송악면, 강진읍, 수도권제2순환고속도로, 가례면, 고아읍, 3공단1로, 하나로, 옥도면, 안견로, 고대면\n",
      "김포한강11로, 미로면, 매화면, 인제읍, 공지로, 운동장로, 장기면, 유니버시아드로, 금산면, 칠산로\n",
      "사직산21길, 숭의로, 시청1길, 마유로238번길, 진장, 팔마로, 가마산로, 엑스포로, 변산면, 진성면\n",
      "망경남길, 설죽로436번길, 쌍봉로, 공항진입로42번길, 소래로, 안천면, 왕산면, 탄천로, 인산로, 정동로42번길\n",
      "용두암길, 신서귀로51번길, 국가정원1호길, 용성면, 경춘로, 동교로1길, 상사면, 95(어진동), 94(어진동), 408(어진동)\n",
      "8-14(나성동), 양산역6길, 명지국제6로, 광도면, 신암남로, 이곡동로, 이계북로, 오천면, 센텀동로, 388(어진동)\n",
      "갑천면, 공원2길, 용성로, 수지면, 송동면, 붕맛1길, 한누리로, 첨단2로, 향남읍, 시묘길\n",
      "동안로, 삼선산수목원길, 김포대로, 김포한강8로, 대성길, 선화로, 함열중앙로, 성주면, 대천항1길, 의재로\n",
      "중앙2길, 태장로, 동곡로, 김포한강1로, 신덕면, 대천로, 온천대로, 고남면, 강상면, 상서면\n",
      "이원면, 민락로, 전곡읍, 보안면, 장남면, 음봉로681번길, 대산읍, 장계면, 서원면, 김삿갓면\n",
      "설천면, 굴거랑길, 무석1로, 무령로, 보드미길, 청산면, 261, 신평로, 삼일로265번길, 법전면\n",
      "인월면, 덕산면, 신례원로, 함라면, 장호원읍, 의림대로, 구억말길, 덕풍로, 괴산읍, 부남면\n",
      "웅천읍, 관촉로, 구시1길, 내평봉성길, 발산로, 송암로143번길, 의병대로34길, 양재대로, 앙성면, 동탄중앙로\n",
      "강하면, 옥구읍, 남한강로, 남산1길, 소수면, 사리면, 봉동읍, 관창공단길, 무극로244번길, 번영로224번길\n",
      "신두해변길, 대청로, 통물길, 강당로, 연못1길, 하성면, 컨벤시아대로, 낙서면, 통영해안로, 하우3길\n",
      "남동서로, 구룡16, 부림면, 길곡면, 중면, 관광단지로, 산양읍, 회기로, 첨단로8길, 대양면\n",
      "용주면, 형곡로, 장수면, 묘산면, 경부고속도로, 초계면, 엄사면, 신성로, 노은동로87번길, 송림로19번길\n",
      "진보면, 산양1길, 세도면, 천북면, 주왕산면, 적중면, 삼안로112번길, 삼동면, 도개면, 왕버들로322번길\n",
      "매곡면, 삼계로, 신원면, 유곡면, 영서로, 선산읍, 봉성면, 유어면, 박정희로, 삼호읍\n",
      "충화면, 양화면, 내면, 방배로23길, 사평대로28길, 공단2대로, 가학로, 영양읍, 상운면, 미력면\n",
      "용문길, 비봉면, 신서면, 은산면, 파주읍, 고북면, 외암로, 병영면, 신북읍, 고산면\n",
      "원롱면, 동림로, 와석순환로172번길, 유등면, 입암면, 468-65, 만경읍, 세남로, 대림로, 신길로60길\n",
      "초월읍, 오현로, 겸재로23길, 계수로, 대월면, 양사면, 안남로, 양도면, 문헌공로, 춘양면\n",
      "양일로, 용화면, 남동대로916번길, 소래역로, 입면, 아암대로253번길, 현서면, 석곡면, 사평면, 내토로16안길\n",
      "세명로, 백산면, 익산대로52길, 상무자유로, 이백로, 원주시, 광평길, 금성면, 변산해변로, 두촌면\n",
      "송선로, 해룡로, 신동읍, 서울대학로264번길, 사북읍, 태백로, 서초대로54길, 공단9로, 조촌5길, 사북면\n",
      "계화면, 일출로, 미장8길, 동산로, 광탄면, 여량면, 녹송4길, 장자대로, 가좌길29번길, 설림길\n",
      "산단남북로, 해마루공원로, 영주로, 온정면, 창길, 효자면, 강변로74번길, 대흥신림로, 새만금북로, 미원로\n",
      "설림안4길, 금성산길, 화부산로40번길, 늦은맛재길, 내장호반로, 사곡면, 안사면, 중앙로63번길, 가음면, 시흥대로268번길\n",
      "동일로197길, 아리랑로, 교동면, 월롱면, 남악로162번길, 법원읍, 덕진면, 청호로, 고수면, 함박안로\n",
      "상하면, 영북면, 교룡로, 성황단길, 외서면, 동일면, 함열읍, 이양면, 도암면, 웅포면\n",
      "팔금면, 보석로, 왕궁면, 동화면, 제2바이오밸리로3길, 정선읍, 신니면, 산외면, 장성읍, 북하면\n",
      "임회면, 신월로, 수석1길, 장천면, 해평면, 부귀면, 상전면, 약산면, 구미대로, 성수면\n",
      "백운면, 단일면, 소라면, 대덕대로989번길, 백아면, 석적읍, 자유무역길, 가르뱅이로, 당산로41길, 대덕대로\n",
      "송현로8안길, 충장로, 갈마중로30번길, 운천로31번길, 가수원로, 천변우하로, 하양읍, 서변남로, 양호길, 가천면\n",
      "목사동면, 상산로, 연삼로, 복지로, 송이길, 청운로, 월정서로, 도순남로29번길, 하귀동남1길, 금곡면\n",
      "이반성면, 오봉산로, 서신면, 오이도로, 삼남면, 부석로, 학가산온천길, 마도면, 진동면, 신어산길\n",
      "소흘읍, 대신면, 고금면, 화암면, 추암로, 모종북로76번길, 곡교천로27번길, 삼장면, 실옥로, 입장면\n",
      "화원읍, 덕천면, 혁신대로, 사내면, 봉방2길, 금마면, 충효천길, 북문로, 횡천면, 시천면\n",
      "신등면, 가은읍, 밀양대공원로, 진해대로, 남해읍, 기성면, 명지오션시티, 분포로, 장생포고래로, 상월면\n",
      "산청읍, 친환경로, 회화면, 구만면, 삼산면, 상리면, 하일면, 하이면, 공근면, 불은면\n",
      "개천면, 성서공단로, 우정읍, 안심1길, 주촌면, 동량면, 첨복로, 장대로43번길, 이방면, 현풍읍\n",
      "옥대로, 부여읍, 마서면, 천곡남로, 갈밭로, 삼산로35번길, 학감대로, 청덕면, 황강체육공원로, 원효로\n",
      "은행나무길, 서천읍, 단양읍, 장동면, 내상로, 월곡중앙로, 큰샘길, 여산면, 고촌읍, 통영로\n",
      "아랫배랭이로, 춘천로, 천곡로, 하평2길, 노암등길, 신태인읍, 낭산면, 옥산로10번길, 배곧4로, 호현로49번길\n",
      "남파로, 오봉로, 안중읍, 통복시장로22번길, 지산2로, 송탄로, 테헤란로114길, 초록마을로, 뚝섬로52길, 금하로\n",
      "장한로, 여의대방로10길, 사직로8길, 진흥로, 마포대로, 동암로, 청라대로, 열우물로, 굴포로, 탁옥로\n",
      "부영로, 보개면, 은계중앙로, 사가정로, 봉오재1로, 학정로, 해제면, 정촌면, 진주대로, 삼산중로\n",
      "백제문화로, 남후면, 목행산단7로, 덕산읍, 평내로, 금오로23번길, 음성읍, 왕버들로, 금가면, 용아로\n",
      "남부로, 달구벌대로, 소호로, 사들로, 함안면, 수통골로, 낙동남로, 연수원길, 삽량로, 수출대로\n",
      "계족로, 해안로127번길, 수강로12번길, 자유로20번길, 성전면, 둔산로, 하멜로, 덕치면, 강진면, 하서면\n",
      "고운로, 산인면, 집현면, 미산면, 봉산면, 충무로, 보문로, 매봉로, 운산면, 보현로\n",
      "호수공원6로, 하평로, 성연면, 동구릉로136번길, 미사강변한강로, 풍물시장2길, 한섬로, 사천면, 경열로, 서하로\n",
      "공산면, 이창1길, 서하로183번길, 만대공원길, 매소홀로290번길, 경동로, 경춘로2192번길, 율곡로3139번길, 정장로, 상패로\n",
      "장성로, 간성읍, 쇠재로, 백서로189번길, 하남산단4번로, 아산면, 창수면, 조치원6길, 죽성로, 정자말길\n",
      "산림박물관길, 증신로, 감물면, 포돌이로, 산본로324번길, 송도과학로51번길, 의료원로, 도작로, 향단로, 일주서로\n",
      "신중로, 이어도로, 범안로12가길, 정상로, 마유산로, 오시게로, 장유면, 첨단과기로176번길, 정서진1로, 오류동\n",
      "마장동, 일원동, 신천3동, 대동면, 화촌면, 기린면, 단밀면, 서변동, 장위2동, 왕지동\n",
      "하계동, 서창동, 감포읍, 비전동, 화북1동, 모전동, 사정동, 대라리, 창3동, 연암동\n",
      "용암면, 경서동, 반석동, 서홍동, 상주면, 남정면, 만덕로, 산성면, 소호동, 7-7\n",
      "안림동, 봉화군, 길상면, 신장동, 법환동, 조남동, 진서면, 웅진동, 송정동, 조양동\n",
      "금곡동, 창평동, 봉황동, 고현면, 학동, 상암동, 관평동, 도마동, 용답동, 색달동\n",
      "황지동, 잠실동, 아라동, 도양읍, 서귀동, 내동, 춘의동, 상남면, 도남동, 장군동\n",
      "일도2동, 소도동, 하귀1리, 노고산동, 양촌읍, 부평동, 신흑동, 유가읍, 중앙동, 둔포면\n",
      "이도1동, 동부면, 상동, 봉개동, 봉덕동, 논현동, 망월동, 장천동, 둔내면, 삼문동\n",
      "등암리, 오식도동, 내장동, 율암동, 도원동, 성남동, 신길동, 목동, 수청동, 동홍동\n",
      "운주면, 일산동, 옥정동, 인동, 충효동, 주안동, 오정동, 무수동, 신음동, 지곶동\n",
      "삼산동, 교동, 신림동, 장대동, 주월동, 야음동, 갈마동, 관저동, 초전면, 석사동\n",
      "대청동, 서운동, 세종리, 문경읍, 회수동, 계산동, 덕천동, 복수동, 정릉동, 옥동\n",
      "신대동, 정림동, 월평동, 두마면, 감곡면, 모종동, 반곡동, 외도1동, 노학동, 금학동\n",
      "가양동, 장지동, 진월동, 덕진동, 침산동, 서호동, 거진읍, 봉방동, 연향동, 신길1동\n",
      "가흥동, 교문동, 당하동, 노은동, 매암동, 배미동, 상효로39, 용계동, 구월3동, 중동\n",
      "621, 중리동, 호산동, 현곡면, 금암동, 달동, 장당동, 사농동, 계림동, 가좌동\n",
      "송월동, 장기동, 압구정동, 영순면, 진관동, 궁촌동, 연동, 만덕동, 수산동, 시전동\n",
      "거제동, 남부동, 영주동, 연희동, 대항면, 갈산동, 탄방동, 청천동, 평산동, 석교동\n",
      "송도동, 십정동, 학암동, 하기동, 수석동, 진천동, 풍산동, 용수동, 개봉동, 빛가람동\n",
      "대방동, 덕계동, 한산면, 341-72, 용산동, 보은읍, 대사동, 수북면, 신정동, 매곡동\n",
      "노원동, 동양동, 내가면, 혈동, 오태동, 인사동, 양서면, 향교동, 일광면, 남지읍\n",
      "평리, 부동면, 황성동, 부곡동, 덕암동, 상계2동, 망미동, 만년동, 용탄동, 용운동\n",
      "대소원면, 성안동, 방촌동, 쌍문3동, 용화동, 검산동, 갈현동, 대곡동, 용문면, 향촌동\n",
      "호원동, 용담2동, 개포동, 부석면, 쌍문2동, 홍도동, 근흥면, 운남동, 소초면, 한남동\n",
      "624-1, 봉화읍, 중앙대로2, 가산동, 대마면, 판교면, 정곡면, 상평동, 234-10, 상아동\n",
      "북산면, 퇴계동, 인주면, 당저동, 서동, 구로동, 금동, 단장면, 조례동, 비아동\n",
      "도봉동, 해안면, 남부순환도로, 주생면, 미조면, 동부동, 화봉동, 순흥면, 효문동, 태장동\n",
      "청풍면, 남산면, 원북면, 화정동, 장전1동, 북성동, 상면, 보문면, 수서동, 심천면\n",
      "염산면, 점암면, 장곡동, 부원동, 웅양면, 봉담읍, 부전1동, 진교면, 화개면, 단산면\n",
      "판부면, 송림동, 무정면, 의흥면, 지곡동, 안영동, 정미면, 고흥읍, 목상동, 창2동\n",
      "지산동, 선기동, 미장동, 용문동, 구암동, 노암동, 흑석동, 변동, 삼례읍, 서석동\n",
      "묵호진동, 홍농읍, 남교동, 대천동, 장동, 연무읍, 측후동, 신도안면, 교촌동, 용당동\n",
      "도곡면, 망상동, 취암동, 두왕동, 명장동, 암남동, 하남읍, 부곡면, 대지면, 무전동\n",
      "불암동, 외동, 오가면, 거의동, 남정동, 신창면, 남평읍, 잠홍동, 차황면, 칠곡면\n",
      "동현동, 연초면, 다방동, 광혜원면, 현동면, 동대동, 주산면, 왕곡면, 유구읍, 역동\n",
      "무거동, 월야면, 문외동, 소보면, 명호면, 영해면, 삼도동, 봉곡동, 벽진면, 금수면\n",
      "평화동, 구성면, 운수면, 충무공동, 생초면, 양재동, 반포동, 신정6동, 961, 성북동\n",
      "금릉동, 용암리, 일직면, 금호동, 화장동, 토평동, 교량동, 월피동, 성곡동, 오림동\n",
      "삼양1동, 임천면, 도고면, 남한산성면, 대저2동, 복내면, 고도면, 원동면, 감천면, 수한면\n",
      "남선면, 외도일동, 봉현면, 하청면, 온천동, 학성동, 석현동, 주상면, 회남면, 을왕동\n",
      "관교동, 대술면, 녹전면, 염치읍, 방축동, 광시면, 임동면, 남상면, 청도면, 지도읍\n",
      "선암동, 삼방동, 관촌면, 고로면, 궁류면, 번암면, 홍산면, 우곡면, 반구동, 범어동\n",
      "포남동, 정상동, 점곡면, 남양동, 풍산면, 상촌면, 고덕면, 둔덕면, 동해면, 남가좌2동\n",
      "한림면, 창선면, 청소면, 남부면, 능포동, 가능동, 장암동, 남성동, 관동동, 옥계동\n",
      "계성면, 하리, 월항면, 명천동, 지례면, 대합면, 삼가면, 옥종면, 석보면, 봉강면\n",
      "문덕면, 중평리, 용남면, 금남면, 적량면, 남산동, 소원면, 득량면, 양산면, 외산면\n",
      "양강면, 옥룡면, 제원면, 월출동, 본현면, 용궁면, 약목면, 쌍책면, 영주시, 광평동\n",
      "쌍치면, 동문동, 안현동, 마성면, 둔산동, 효목동, 속사리, 용호동, 봉무동, 송암동\n",
      "황룡동, 갈매동, 천곡동, 남항진동, 유천면, 노형동, 홍제동, 운북동, 군남면, 정왕동\n",
      "선원면, 마량면, 대구면, 대포동, 포월리, 손양면, 남중동, 여의도동, 수송동, 원지동\n",
      "중화동, 치평동, 창동, 천현동, 통복동, 영천동, 내남동, 옥천면, 산이면, 상동읍\n",
      "중계리, 나운동, 행안면, 옥산동, 신태인리, 금정면, 해리면, 연수동, 신전면, 동두천동\n",
      "용정동, 광치동, 봉평면, 용동면, 황등면, 한천면, 안좌면, 인화동, 팔봉동, 지현동\n",
      "정우면, 가곡동, 현산면, 북일면, 무풍면, 계곡면, 용담면, 임자면, 웅천동, 삼동\n",
      "응암리, 내판리, 마동, 두류동, 임암동, 송촌동, 팔덕면, 웅치면, 임당동, 계양동\n",
      "계남면, 두동면, 부항면, 풍양면, 율어면, 양정동, 수곡면, 증도면, 야로면, 신평동\n",
      "달산면, 석포면, 우정동, 송동, 옥대리, 도곡동, 동림동, 양보면, 금서면, 마천면\n",
      "안정면, 신안동, 평거동, 덕포동, 좌동, 신관동, 문수면, 평해읍, 대저1동, 생림면\n",
      "영현면, 면천면, 관인면, 다산동, 석우동, 토지면, 삼천동, 호탄동, 북군동, 동천동\n",
      "읍내동, 거제면, 송선동, 연일읍, 구포동, 성동동, 거류면, 야흥동, 미암면, 삼각동\n",
      "석정동, 우이동, 쌍문1동, 염리동, 함창읍, 교현동, 마암면, 덕명동, 신성동, 송강동\n",
      "옥암동, 삼서면, 현남면, 실안동, 예천동, 음암면, 관문동, 운암동, 청학동, 평내동\n",
      "대흥면, 황룡면, 백사면, 신효동, 무릉도원면, "
     ]
    }
   ],
   "source": [
    "n = 1\n",
    "for one in list(df2['2'].unique()):\n",
    "    if n % 10 == 0:\n",
    "        print(one)\n",
    "    else:\n",
    "        print(one, end=', ')\n",
    "    n += 1"
   ]
  },
  {
   "cell_type": "markdown",
   "metadata": {},
   "source": [
    "### 신주소 분석"
   ]
  },
  {
   "cell_type": "code",
   "execution_count": 214,
   "metadata": {},
   "outputs": [
    {
     "data": {
      "text/plain": [
       "array(['경상남도', '제주특별자치도', '경상북도', '강원도', '대전광역시', '충청남도', '충청북도', '부산광역시',\n",
       "       '경기도', '전라남도', '대구광역시', '광주광역시', '서울특별시', '울산광역시', '전라북도', '인천광역시',\n",
       "       '세종특별자치시'], dtype=object)"
      ]
     },
     "execution_count": 214,
     "metadata": {},
     "output_type": "execute_result"
    }
   ],
   "source": [
    "new_adr_df2[0].unique()"
   ]
  },
  {
   "cell_type": "code",
   "execution_count": 215,
   "metadata": {},
   "outputs": [
    {
     "data": {
      "text/plain": [
       "array(['김해시', '제주시', '포항시', '양양군', '양산시', '칠곡군', '강릉시', '유성구', '평창군',\n",
       "       '당진시', '원주시', '청주시', '영덕군', '서귀포시', '횡성군', '기장군', '화성시', '해남군',\n",
       "       '태안군', '달서구', '동구', '고양시', '청도군', '상주시', '양천구', '광양시', '의왕시',\n",
       "       '안산시', '북구', '성남시', '중구', '종로구', '울주군', '가평군', '산청군', '춘천시', '괴산군',\n",
       "       '함안군', '경주시', '창원시', '연천군', '경산시', '무주군', '서천군', '부여군', '삼척시',\n",
       "       '관악구', '김천시', '보성군', '여수시', '충주시', '옥천군', '천안시', '이천시', '사하구',\n",
       "       '화순군', '무안군', '용인시', '울진군', '구미시', '달성군', '진주시', '의성군', '청송군',\n",
       "       '고성군', '거제시', '영천시', '함양군', '제천시', '진천군', '동작구', '영등포구', '계룡시',\n",
       "       '서대문구', '문경시', '거창군', '서산시', '함평군', '군위군', '논산시', '수성구', '동해시',\n",
       "       '통영시', '순천시', '속초시', '용산구', '계양구', '하남시', '해운대구', '금산군', '대덕구',\n",
       "       '사천시', '익산시', '공주시', '합천군', '안동시', '성주군', '영암군', '강남구', '동래구',\n",
       "       '단양군', '남양주시', '고창군', '남해군', '군산시', '장수군', '영동군', '중랑구', '완주군',\n",
       "       '부산진구', '홍성군', '포천시', '강진군', '광주시', '광산구', '서구', '장흥군', '사상구',\n",
       "       '홍천군', '영광군', '서초구', '남구', '강서구', '순창군', '고령군', '강동구', '부평구',\n",
       "       '수원시', '강북구', '동대문구', '화천군', '파주시', '창녕군', '영월군', '양평군', '예산군',\n",
       "       '여주시', '마포구', '고흥군', '의정부시', '남동구', '보령시', '양주시', '정읍시', '연제구',\n",
       "       '진안군', '완도군', '나주시', '시흥시', '임실군', '도봉구', '평택시', '안성시', '보은군',\n",
       "       '음성군', '전주시', '하동군', '김포시', '은평구', '연수구', '송파구', '곡성군', '인제군',\n",
       "       '한누리대로', '장성군', '김제시', '다솜3로', '철원군', '남원시', '양구군', '동두천시', '금천구',\n",
       "       '아산시', '구례군', '청양군', '목포시', '광명시', '구로구', '부천시', '미추홀구', '노원구',\n",
       "       '군포시', '의령군', '오산시', '도움6로', '안양시', '담양군', '부안군', '정선군', '영도구',\n",
       "       '밀양시', '수영구', '성북구', '성동구', '증평군', '구리시', '광진구', '금정구', '과천시',\n",
       "       '연기면', '예천군', '영주시', '옹진군', '진도군', '태백시', '다솜2로', '가름로', '울릉군',\n",
       "       '신안군', '보듬6로', '강화군', '정부2청사로', '도움5로', '갈매로', '국세청로', '다솜로',\n",
       "       '봉화군', '영양군', '조치원읍', '장군면', '금남면'], dtype=object)"
      ]
     },
     "execution_count": 215,
     "metadata": {},
     "output_type": "execute_result"
    }
   ],
   "source": [
    "new_adr_df2[1].unique()"
   ]
  },
  {
   "cell_type": "code",
   "execution_count": 217,
   "metadata": {},
   "outputs": [
    {
     "name": "stdout",
     "output_type": "stream",
     "text": [
      "한누리대로\n",
      "다솜3로\n",
      "도움6로\n",
      "연기면\n",
      "다솜2로\n",
      "가름로\n",
      "보듬6로\n",
      "정부2청사로\n",
      "도움5로\n",
      "갈매로\n",
      "국세청로\n",
      "다솜로\n",
      "조치원읍\n",
      "장군면\n",
      "금남면\n"
     ]
    }
   ],
   "source": [
    "sort_ad2 = re.compile('[가-힣]+시$|[가-힣]+군$|[가-힣]+구$')\n",
    "strange_ad2s = []\n",
    "for one in new_adr_df2[1].unique():\n",
    "    if sort_ad2.search(one) == None:\n",
    "        strange_ad2s.append(one)\n",
    "        print(one)"
   ]
  },
  {
   "cell_type": "code",
   "execution_count": 218,
   "metadata": {},
   "outputs": [
    {
     "name": "stdout",
     "output_type": "stream",
     "text": [
      "지역2 : 한누리대로\n",
      "['세종특별자치시']\n",
      "['한누리대로']\n",
      "['402']\n",
      "\n",
      "지역2 : 다솜3로\n",
      "['세종특별자치시']\n",
      "['다솜3로']\n",
      "['66' '95(어진동)']\n",
      "\n",
      "지역2 : 도움6로\n",
      "['세종특별자치시']\n",
      "['도움6로']\n",
      "['11']\n",
      "\n",
      "지역2 : 연기면\n",
      "['세종특별자치시']\n",
      "['연기면']\n",
      "['정안세종로' '수목원로']\n",
      "\n",
      "지역2 : 다솜2로\n",
      "['세종특별자치시']\n",
      "['다솜2로']\n",
      "['11' '94(어진동)']\n",
      "\n",
      "지역2 : 가름로\n",
      "['세종특별자치시']\n",
      "['가름로']\n",
      "['238-1']\n",
      "\n",
      "지역2 : 보듬6로\n",
      "['세종특별자치시']\n",
      "['보듬6로']\n",
      "['16']\n",
      "\n",
      "지역2 : 정부2청사로\n",
      "['세종특별자치시']\n",
      "['정부2청사로']\n",
      "['13(나성동)']\n",
      "\n",
      "지역2 : 도움5로\n",
      "['세종특별자치시']\n",
      "['도움5로']\n",
      "['20']\n",
      "\n",
      "지역2 : 갈매로\n",
      "['세종특별자치시']\n",
      "['갈매로']\n",
      "['477' '408(어진동)' '388(어진동)']\n",
      "\n",
      "지역2 : 국세청로\n",
      "['세종특별자치시']\n",
      "['국세청로']\n",
      "['8-14(나성동)']\n",
      "\n",
      "지역2 : 다솜로\n",
      "['세종특별자치시']\n",
      "['다솜로']\n",
      "['261']\n",
      "\n",
      "지역2 : 조치원읍\n",
      "['세종특별자치시']\n",
      "['조치원읍']\n",
      "['조치원6길']\n",
      "\n",
      "지역2 : 장군면\n",
      "['세종특별자치시']\n",
      "['장군면']\n",
      "['정자말길']\n",
      "\n",
      "지역2 : 금남면\n",
      "['세종특별자치시']\n",
      "['금남면']\n",
      "['산림박물관길']\n",
      "\n"
     ]
    }
   ],
   "source": [
    "for one in strange_ad2s:\n",
    "    print(f'지역2 : {one}')\n",
    "    print(new_adr_df2[new_adr_df2[1] == one][0].unique())\n",
    "    print(new_adr_df2[new_adr_df2[1] == one][1].unique())\n",
    "    print(new_adr_df2[new_adr_df2[1] == one][2].unique())\n",
    "    print()"
   ]
  },
  {
   "cell_type": "code",
   "execution_count": 18,
   "metadata": {},
   "outputs": [
    {
     "data": {
      "text/html": [
       "<div>\n",
       "<style scoped>\n",
       "    .dataframe tbody tr th:only-of-type {\n",
       "        vertical-align: middle;\n",
       "    }\n",
       "\n",
       "    .dataframe tbody tr th {\n",
       "        vertical-align: top;\n",
       "    }\n",
       "\n",
       "    .dataframe thead th {\n",
       "        text-align: right;\n",
       "    }\n",
       "</style>\n",
       "<table border=\"1\" class=\"dataframe\">\n",
       "  <thead>\n",
       "    <tr style=\"text-align: right;\">\n",
       "      <th></th>\n",
       "      <th>충전소명</th>\n",
       "      <th>충전기ID</th>\n",
       "      <th>지역</th>\n",
       "      <th>시군구</th>\n",
       "      <th>주소</th>\n",
       "      <th>충전기타입</th>\n",
       "      <th>충전시작일시</th>\n",
       "      <th>충전종료일시</th>\n",
       "      <th>충전시간</th>\n",
       "      <th>충전량</th>\n",
       "      <th>...</th>\n",
       "      <th>3</th>\n",
       "      <th>4</th>\n",
       "      <th>5</th>\n",
       "      <th>6</th>\n",
       "      <th>7</th>\n",
       "      <th>8</th>\n",
       "      <th>9</th>\n",
       "      <th>10</th>\n",
       "      <th>11</th>\n",
       "      <th>12</th>\n",
       "    </tr>\n",
       "  </thead>\n",
       "  <tbody>\n",
       "    <tr>\n",
       "      <th>0</th>\n",
       "      <td>진영휴게소(부산방향)</td>\n",
       "      <td>1</td>\n",
       "      <td>경상남도</td>\n",
       "      <td>김해시</td>\n",
       "      <td>경상남도 김해시 진영읍 하계로96번길 94-4  주유소 옆 주차장</td>\n",
       "      <td>DC차데모+AC3상+DC콤보</td>\n",
       "      <td>20200101000244</td>\n",
       "      <td>20200101004215</td>\n",
       "      <td>0 days 00:39:25</td>\n",
       "      <td>20.22</td>\n",
       "      <td>...</td>\n",
       "      <td>하계로96번길</td>\n",
       "      <td>94-4</td>\n",
       "      <td>주유소</td>\n",
       "      <td>옆</td>\n",
       "      <td>주차장</td>\n",
       "      <td>NaN</td>\n",
       "      <td>NaN</td>\n",
       "      <td>NaN</td>\n",
       "      <td>NaN</td>\n",
       "      <td>NaN</td>\n",
       "    </tr>\n",
       "    <tr>\n",
       "      <th>126</th>\n",
       "      <td>진영휴게소(부산방향)</td>\n",
       "      <td>1</td>\n",
       "      <td>경상남도</td>\n",
       "      <td>김해시</td>\n",
       "      <td>경상남도 김해시 진영읍 하계로96번길 94-4  주유소 옆 주차장</td>\n",
       "      <td>DC차데모+AC3상+DC콤보</td>\n",
       "      <td>20200101035452</td>\n",
       "      <td>20200101043311</td>\n",
       "      <td>0 days 00:38:14</td>\n",
       "      <td>20.43</td>\n",
       "      <td>...</td>\n",
       "      <td>하계로96번길</td>\n",
       "      <td>94-4</td>\n",
       "      <td>주유소</td>\n",
       "      <td>옆</td>\n",
       "      <td>주차장</td>\n",
       "      <td>NaN</td>\n",
       "      <td>NaN</td>\n",
       "      <td>NaN</td>\n",
       "      <td>NaN</td>\n",
       "      <td>NaN</td>\n",
       "    </tr>\n",
       "    <tr>\n",
       "      <th>172</th>\n",
       "      <td>진영휴게소(부산방향)</td>\n",
       "      <td>1</td>\n",
       "      <td>경상남도</td>\n",
       "      <td>김해시</td>\n",
       "      <td>경상남도 김해시 진영읍 하계로96번길 94-4  주유소 옆 주차장</td>\n",
       "      <td>DC차데모+AC3상+DC콤보</td>\n",
       "      <td>20200101044506</td>\n",
       "      <td>20200101045533</td>\n",
       "      <td>0 days 00:10:23</td>\n",
       "      <td>6.01</td>\n",
       "      <td>...</td>\n",
       "      <td>하계로96번길</td>\n",
       "      <td>94-4</td>\n",
       "      <td>주유소</td>\n",
       "      <td>옆</td>\n",
       "      <td>주차장</td>\n",
       "      <td>NaN</td>\n",
       "      <td>NaN</td>\n",
       "      <td>NaN</td>\n",
       "      <td>NaN</td>\n",
       "      <td>NaN</td>\n",
       "    </tr>\n",
       "    <tr>\n",
       "      <th>189</th>\n",
       "      <td>진영휴게소(부산방향)</td>\n",
       "      <td>1</td>\n",
       "      <td>경상남도</td>\n",
       "      <td>김해시</td>\n",
       "      <td>경상남도 김해시 진영읍 하계로96번길 94-4  주유소 옆 주차장</td>\n",
       "      <td>DC차데모+AC3상+DC콤보</td>\n",
       "      <td>20200101045932</td>\n",
       "      <td>20200101053939</td>\n",
       "      <td>0 days 00:40:00</td>\n",
       "      <td>23.40</td>\n",
       "      <td>...</td>\n",
       "      <td>하계로96번길</td>\n",
       "      <td>94-4</td>\n",
       "      <td>주유소</td>\n",
       "      <td>옆</td>\n",
       "      <td>주차장</td>\n",
       "      <td>NaN</td>\n",
       "      <td>NaN</td>\n",
       "      <td>NaN</td>\n",
       "      <td>NaN</td>\n",
       "      <td>NaN</td>\n",
       "    </tr>\n",
       "    <tr>\n",
       "      <th>226</th>\n",
       "      <td>진영휴게소(부산방향)</td>\n",
       "      <td>1</td>\n",
       "      <td>경상남도</td>\n",
       "      <td>김해시</td>\n",
       "      <td>경상남도 김해시 진영읍 하계로96번길 94-4  주유소 옆 주차장</td>\n",
       "      <td>DC차데모+AC3상+DC콤보</td>\n",
       "      <td>20200101054056</td>\n",
       "      <td>20200101060749</td>\n",
       "      <td>0 days 00:26:47</td>\n",
       "      <td>15.97</td>\n",
       "      <td>...</td>\n",
       "      <td>하계로96번길</td>\n",
       "      <td>94-4</td>\n",
       "      <td>주유소</td>\n",
       "      <td>옆</td>\n",
       "      <td>주차장</td>\n",
       "      <td>NaN</td>\n",
       "      <td>NaN</td>\n",
       "      <td>NaN</td>\n",
       "      <td>NaN</td>\n",
       "      <td>NaN</td>\n",
       "    </tr>\n",
       "  </tbody>\n",
       "</table>\n",
       "<p>5 rows × 40 columns</p>\n",
       "</div>"
      ],
      "text/plain": [
       "            충전소명  충전기ID    지역  시군구                                    주소  \\\n",
       "0    진영휴게소(부산방향)      1  경상남도  김해시  경상남도 김해시 진영읍 하계로96번길 94-4  주유소 옆 주차장   \n",
       "126  진영휴게소(부산방향)      1  경상남도  김해시  경상남도 김해시 진영읍 하계로96번길 94-4  주유소 옆 주차장   \n",
       "172  진영휴게소(부산방향)      1  경상남도  김해시  경상남도 김해시 진영읍 하계로96번길 94-4  주유소 옆 주차장   \n",
       "189  진영휴게소(부산방향)      1  경상남도  김해시  경상남도 김해시 진영읍 하계로96번길 94-4  주유소 옆 주차장   \n",
       "226  진영휴게소(부산방향)      1  경상남도  김해시  경상남도 김해시 진영읍 하계로96번길 94-4  주유소 옆 주차장   \n",
       "\n",
       "               충전기타입          충전시작일시          충전종료일시            충전시간    충전량  \\\n",
       "0    DC차데모+AC3상+DC콤보  20200101000244  20200101004215 0 days 00:39:25  20.22   \n",
       "126  DC차데모+AC3상+DC콤보  20200101035452  20200101043311 0 days 00:38:14  20.43   \n",
       "172  DC차데모+AC3상+DC콤보  20200101044506  20200101045533 0 days 00:10:23   6.01   \n",
       "189  DC차데모+AC3상+DC콤보  20200101045932  20200101053939 0 days 00:40:00  23.40   \n",
       "226  DC차데모+AC3상+DC콤보  20200101054056  20200101060749 0 days 00:26:47  15.97   \n",
       "\n",
       "     ...        3     4    5  6    7    8    9   10   11   12  \n",
       "0    ...  하계로96번길  94-4  주유소  옆  주차장  NaN  NaN  NaN  NaN  NaN  \n",
       "126  ...  하계로96번길  94-4  주유소  옆  주차장  NaN  NaN  NaN  NaN  NaN  \n",
       "172  ...  하계로96번길  94-4  주유소  옆  주차장  NaN  NaN  NaN  NaN  NaN  \n",
       "189  ...  하계로96번길  94-4  주유소  옆  주차장  NaN  NaN  NaN  NaN  NaN  \n",
       "226  ...  하계로96번길  94-4  주유소  옆  주차장  NaN  NaN  NaN  NaN  NaN  \n",
       "\n",
       "[5 rows x 40 columns]"
      ]
     },
     "execution_count": 18,
     "metadata": {},
     "output_type": "execute_result"
    }
   ],
   "source": [
    "new_adr_df2[new_adr_df2['2'] == '진영읍'].head()"
   ]
  },
  {
   "cell_type": "code",
   "execution_count": 19,
   "metadata": {},
   "outputs": [
    {
     "data": {
      "text/plain": [
       "(33856, 40)"
      ]
     },
     "execution_count": 19,
     "metadata": {},
     "output_type": "execute_result"
    }
   ],
   "source": [
    "new_adr_df2[new_adr_df2['2'] == '진영읍'].shape"
   ]
  },
  {
   "cell_type": "code",
   "execution_count": 24,
   "metadata": {},
   "outputs": [
    {
     "data": {
      "text/html": [
       "<div>\n",
       "<style scoped>\n",
       "    .dataframe tbody tr th:only-of-type {\n",
       "        vertical-align: middle;\n",
       "    }\n",
       "\n",
       "    .dataframe tbody tr th {\n",
       "        vertical-align: top;\n",
       "    }\n",
       "\n",
       "    .dataframe thead th {\n",
       "        text-align: right;\n",
       "    }\n",
       "</style>\n",
       "<table border=\"1\" class=\"dataframe\">\n",
       "  <thead>\n",
       "    <tr style=\"text-align: right;\">\n",
       "      <th></th>\n",
       "      <th>충전소명</th>\n",
       "      <th>충전기ID</th>\n",
       "      <th>지역</th>\n",
       "      <th>시군구</th>\n",
       "      <th>주소</th>\n",
       "      <th>충전기타입</th>\n",
       "      <th>충전시작일시</th>\n",
       "      <th>충전종료일시</th>\n",
       "      <th>충전시간</th>\n",
       "      <th>충전량</th>\n",
       "      <th>...</th>\n",
       "      <th>3</th>\n",
       "      <th>4</th>\n",
       "      <th>5</th>\n",
       "      <th>6</th>\n",
       "      <th>7</th>\n",
       "      <th>8</th>\n",
       "      <th>9</th>\n",
       "      <th>10</th>\n",
       "      <th>11</th>\n",
       "      <th>12</th>\n",
       "    </tr>\n",
       "  </thead>\n",
       "  <tbody>\n",
       "  </tbody>\n",
       "</table>\n",
       "<p>0 rows × 40 columns</p>\n",
       "</div>"
      ],
      "text/plain": [
       "Empty DataFrame\n",
       "Columns: [충전소명, 충전기ID, 지역, 시군구, 주소, 충전기타입, 충전시작일시, 충전종료일시, 충전시간, 충전량, 충전용량, 충전시작_년도, 충전시작_월, 충전시작_일, 충전시작_시, 충전시작_분, 충전시작_초, 충전시작일시(변환), 충전종료_년도, 충전종료_월, 충전종료_일, 충전종료_시, 충전종료_분, 충전종료_초, 충전종료일시(변환), 충전시간(계산), raw값과_계산값_차이, 0, 1, 2, 3, 4, 5, 6, 7, 8, 9, 10, 11, 12]\n",
       "Index: []\n",
       "\n",
       "[0 rows x 40 columns]"
      ]
     },
     "execution_count": 24,
     "metadata": {},
     "output_type": "execute_result"
    }
   ],
   "source": [
    "new_adr_df2[(new_adr_df2['충전시간'] != '0') & (new_adr_df2['충전량'] == 0)]"
   ]
  },
  {
   "cell_type": "code",
   "execution_count": 26,
   "metadata": {},
   "outputs": [
    {
     "data": {
      "text/plain": [
       "(3192, 40)"
      ]
     },
     "execution_count": 26,
     "metadata": {},
     "output_type": "execute_result"
    }
   ],
   "source": [
    "new_adr_df2[(new_adr_df2['충전시간'] == '0') & (new_adr_df2['충전량'] != 0)].shape"
   ]
  },
  {
   "cell_type": "code",
   "execution_count": 27,
   "metadata": {},
   "outputs": [
    {
     "data": {
      "text/html": [
       "<div>\n",
       "<style scoped>\n",
       "    .dataframe tbody tr th:only-of-type {\n",
       "        vertical-align: middle;\n",
       "    }\n",
       "\n",
       "    .dataframe tbody tr th {\n",
       "        vertical-align: top;\n",
       "    }\n",
       "\n",
       "    .dataframe thead th {\n",
       "        text-align: right;\n",
       "    }\n",
       "</style>\n",
       "<table border=\"1\" class=\"dataframe\">\n",
       "  <thead>\n",
       "    <tr style=\"text-align: right;\">\n",
       "      <th></th>\n",
       "      <th>충전소명</th>\n",
       "      <th>충전기ID</th>\n",
       "      <th>지역</th>\n",
       "      <th>시군구</th>\n",
       "      <th>주소</th>\n",
       "      <th>충전기타입</th>\n",
       "      <th>충전시작일시</th>\n",
       "      <th>충전종료일시</th>\n",
       "      <th>충전시간</th>\n",
       "      <th>충전량</th>\n",
       "      <th>...</th>\n",
       "      <th>3</th>\n",
       "      <th>4</th>\n",
       "      <th>5</th>\n",
       "      <th>6</th>\n",
       "      <th>7</th>\n",
       "      <th>8</th>\n",
       "      <th>9</th>\n",
       "      <th>10</th>\n",
       "      <th>11</th>\n",
       "      <th>12</th>\n",
       "    </tr>\n",
       "  </thead>\n",
       "  <tbody>\n",
       "    <tr>\n",
       "      <th>0</th>\n",
       "      <td>진영휴게소(부산방향)</td>\n",
       "      <td>1</td>\n",
       "      <td>경상남도</td>\n",
       "      <td>김해시</td>\n",
       "      <td>경상남도 김해시 진영읍 하계로96번길 94-4  주유소 옆 주차장</td>\n",
       "      <td>DC차데모+AC3상+DC콤보</td>\n",
       "      <td>20200101000244</td>\n",
       "      <td>20200101004215</td>\n",
       "      <td>0 days 00:39:25</td>\n",
       "      <td>20.22</td>\n",
       "      <td>...</td>\n",
       "      <td>하계로96번길</td>\n",
       "      <td>94-4</td>\n",
       "      <td>주유소</td>\n",
       "      <td>옆</td>\n",
       "      <td>주차장</td>\n",
       "      <td>NaN</td>\n",
       "      <td>NaN</td>\n",
       "      <td>NaN</td>\n",
       "      <td>NaN</td>\n",
       "      <td>NaN</td>\n",
       "    </tr>\n",
       "    <tr>\n",
       "      <th>1</th>\n",
       "      <td>민속자연사박물관</td>\n",
       "      <td>1</td>\n",
       "      <td>제주특별자치도</td>\n",
       "      <td>제주시</td>\n",
       "      <td>제주특별자치도 제주시 삼성로 40 민속자연사박물관</td>\n",
       "      <td>DC차데모+AC3상+DC콤보</td>\n",
       "      <td>20200101000745</td>\n",
       "      <td>20200101003703</td>\n",
       "      <td>0 days 00:29:13</td>\n",
       "      <td>16.04</td>\n",
       "      <td>...</td>\n",
       "      <td>40</td>\n",
       "      <td>민속자연사박물관</td>\n",
       "      <td>NaN</td>\n",
       "      <td>NaN</td>\n",
       "      <td>NaN</td>\n",
       "      <td>NaN</td>\n",
       "      <td>NaN</td>\n",
       "      <td>NaN</td>\n",
       "      <td>NaN</td>\n",
       "      <td>NaN</td>\n",
       "    </tr>\n",
       "    <tr>\n",
       "      <th>2</th>\n",
       "      <td>노형동주민센터</td>\n",
       "      <td>1</td>\n",
       "      <td>제주특별자치도</td>\n",
       "      <td>제주시</td>\n",
       "      <td>제주특별자치도 제주시 노형9길 9-4  주차장</td>\n",
       "      <td>DC차데모+AC3상+DC콤보</td>\n",
       "      <td>20200101000748</td>\n",
       "      <td>20200101001659</td>\n",
       "      <td>0 days 00:09:07</td>\n",
       "      <td>5.80</td>\n",
       "      <td>...</td>\n",
       "      <td>9-4</td>\n",
       "      <td>주차장</td>\n",
       "      <td>NaN</td>\n",
       "      <td>NaN</td>\n",
       "      <td>NaN</td>\n",
       "      <td>NaN</td>\n",
       "      <td>NaN</td>\n",
       "      <td>NaN</td>\n",
       "      <td>NaN</td>\n",
       "      <td>NaN</td>\n",
       "    </tr>\n",
       "    <tr>\n",
       "      <th>3</th>\n",
       "      <td>영일대1주차장</td>\n",
       "      <td>1</td>\n",
       "      <td>경상북도</td>\n",
       "      <td>포항시</td>\n",
       "      <td>경상북도 포항시 북구 해안로 82</td>\n",
       "      <td>DC차데모+AC3상+DC콤보</td>\n",
       "      <td>20200101000851</td>\n",
       "      <td>20200101004220</td>\n",
       "      <td>0 days 00:33:29</td>\n",
       "      <td>13.32</td>\n",
       "      <td>...</td>\n",
       "      <td>해안로</td>\n",
       "      <td>82</td>\n",
       "      <td>NaN</td>\n",
       "      <td>NaN</td>\n",
       "      <td>NaN</td>\n",
       "      <td>NaN</td>\n",
       "      <td>NaN</td>\n",
       "      <td>NaN</td>\n",
       "      <td>NaN</td>\n",
       "      <td>NaN</td>\n",
       "    </tr>\n",
       "    <tr>\n",
       "      <th>4</th>\n",
       "      <td>38선 휴게소</td>\n",
       "      <td>1</td>\n",
       "      <td>강원도</td>\n",
       "      <td>양양군</td>\n",
       "      <td>강원도 양양군 현북면 동해대로 1242</td>\n",
       "      <td>DC차데모+AC3상+DC콤보</td>\n",
       "      <td>20200101001042</td>\n",
       "      <td>20200101005123</td>\n",
       "      <td>0 days 00:40:41</td>\n",
       "      <td>29.23</td>\n",
       "      <td>...</td>\n",
       "      <td>동해대로</td>\n",
       "      <td>1242</td>\n",
       "      <td>NaN</td>\n",
       "      <td>NaN</td>\n",
       "      <td>NaN</td>\n",
       "      <td>NaN</td>\n",
       "      <td>NaN</td>\n",
       "      <td>NaN</td>\n",
       "      <td>NaN</td>\n",
       "      <td>NaN</td>\n",
       "    </tr>\n",
       "  </tbody>\n",
       "</table>\n",
       "<p>5 rows × 40 columns</p>\n",
       "</div>"
      ],
      "text/plain": [
       "          충전소명  충전기ID       지역  시군구                                    주소  \\\n",
       "0  진영휴게소(부산방향)      1     경상남도  김해시  경상남도 김해시 진영읍 하계로96번길 94-4  주유소 옆 주차장   \n",
       "1     민속자연사박물관      1  제주특별자치도  제주시           제주특별자치도 제주시 삼성로 40 민속자연사박물관   \n",
       "2      노형동주민센터      1  제주특별자치도  제주시             제주특별자치도 제주시 노형9길 9-4  주차장   \n",
       "3      영일대1주차장      1     경상북도  포항시                    경상북도 포항시 북구 해안로 82   \n",
       "4      38선 휴게소      1      강원도  양양군                 강원도 양양군 현북면 동해대로 1242   \n",
       "\n",
       "             충전기타입          충전시작일시          충전종료일시            충전시간    충전량  \\\n",
       "0  DC차데모+AC3상+DC콤보  20200101000244  20200101004215 0 days 00:39:25  20.22   \n",
       "1  DC차데모+AC3상+DC콤보  20200101000745  20200101003703 0 days 00:29:13  16.04   \n",
       "2  DC차데모+AC3상+DC콤보  20200101000748  20200101001659 0 days 00:09:07   5.80   \n",
       "3  DC차데모+AC3상+DC콤보  20200101000851  20200101004220 0 days 00:33:29  13.32   \n",
       "4  DC차데모+AC3상+DC콤보  20200101001042  20200101005123 0 days 00:40:41  29.23   \n",
       "\n",
       "   ...        3         4    5    6    7    8    9   10   11   12  \n",
       "0  ...  하계로96번길      94-4  주유소    옆  주차장  NaN  NaN  NaN  NaN  NaN  \n",
       "1  ...       40  민속자연사박물관  NaN  NaN  NaN  NaN  NaN  NaN  NaN  NaN  \n",
       "2  ...      9-4       주차장  NaN  NaN  NaN  NaN  NaN  NaN  NaN  NaN  \n",
       "3  ...      해안로        82  NaN  NaN  NaN  NaN  NaN  NaN  NaN  NaN  \n",
       "4  ...     동해대로      1242  NaN  NaN  NaN  NaN  NaN  NaN  NaN  NaN  \n",
       "\n",
       "[5 rows x 40 columns]"
      ]
     },
     "execution_count": 27,
     "metadata": {},
     "output_type": "execute_result"
    }
   ],
   "source": [
    "new_adr_df2.head()"
   ]
  },
  {
   "cell_type": "code",
   "execution_count": 28,
   "metadata": {},
   "outputs": [
    {
     "data": {
      "text/plain": [
       "array([['진영휴게소(부산방향)', 1, '경상남도', '김해시',\n",
       "        '경상남도 김해시 진영읍 하계로96번길 94-4  주유소 옆 주차장', 'DC차데모+AC3상+DC콤보',\n",
       "        20200101000244, 20200101004215, Timedelta('0 days 00:39:25'),\n",
       "        20.22, 50.0, 2020, 1, 1, 0, 2, 44, '2020-01-01 00:02:44', 2020,\n",
       "        1, 1, 0, 42, 15, '2020-01-01 00:42:15',\n",
       "        Timedelta('0 days 00:39:31'), '0 days 00:00:06', '경상남도', '김해시',\n",
       "        '진영읍', '하계로96번길', '94-4', '주유소', '옆', '주차장', nan, nan, nan, nan,\n",
       "        nan],\n",
       "       ['민속자연사박물관', 1, '제주특별자치도', '제주시', '제주특별자치도 제주시 삼성로 40 민속자연사박물관',\n",
       "        'DC차데모+AC3상+DC콤보', 20200101000745, 20200101003703,\n",
       "        Timedelta('0 days 00:29:13'), 16.04, 50.0, 2020, 1, 1, 0, 7, 45,\n",
       "        '2020-01-01 00:07:45', 2020, 1, 1, 0, 37, 3,\n",
       "        '2020-01-01 00:37:03', Timedelta('0 days 00:29:18'),\n",
       "        '0 days 00:00:05', '제주특별자치도', '제주시', '삼성로', '40', '민속자연사박물관',\n",
       "        nan, nan, nan, nan, nan, nan, nan, nan],\n",
       "       ['노형동주민센터', 1, '제주특별자치도', '제주시', '제주특별자치도 제주시 노형9길 9-4  주차장',\n",
       "        'DC차데모+AC3상+DC콤보', 20200101000748, 20200101001659,\n",
       "        Timedelta('0 days 00:09:07'), 5.8, 50.0, 2020, 1, 1, 0, 7, 48,\n",
       "        '2020-01-01 00:07:48', 2020, 1, 1, 0, 16, 59,\n",
       "        '2020-01-01 00:16:59', Timedelta('0 days 00:09:11'),\n",
       "        '0 days 00:00:04', '제주특별자치도', '제주시', '노형9길', '9-4', '주차장', nan,\n",
       "        nan, nan, nan, nan, nan, nan, nan],\n",
       "       ['영일대1주차장', 1, '경상북도', '포항시', '경상북도 포항시 북구 해안로 82',\n",
       "        'DC차데모+AC3상+DC콤보', 20200101000851, 20200101004220,\n",
       "        Timedelta('0 days 00:33:29'), 13.32, 50.0, 2020, 1, 1, 0, 8, 51,\n",
       "        '2020-01-01 00:08:51', 2020, 1, 1, 0, 42, 20,\n",
       "        '2020-01-01 00:42:20', Timedelta('0 days 00:33:29'),\n",
       "        '0 days 00:00:00', '경상북도', '포항시', '북구', '해안로', '82', nan, nan,\n",
       "        nan, nan, nan, nan, nan, nan],\n",
       "       ['38선 휴게소', 1, '강원도', '양양군', '강원도 양양군 현북면 동해대로 1242',\n",
       "        'DC차데모+AC3상+DC콤보', 20200101001042, 20200101005123,\n",
       "        Timedelta('0 days 00:40:41'), 29.23, 50.0, 2020, 1, 1, 0, 10, 42,\n",
       "        '2020-01-01 00:10:42', 2020, 1, 1, 0, 51, 23,\n",
       "        '2020-01-01 00:51:23', Timedelta('0 days 00:40:41'),\n",
       "        '0 days 00:00:00', '강원도', '양양군', '현북면', '동해대로', '1242', nan, nan,\n",
       "        nan, nan, nan, nan, nan, nan]], dtype=object)"
      ]
     },
     "execution_count": 28,
     "metadata": {},
     "output_type": "execute_result"
    }
   ],
   "source": [
    "new_adr_df2.to_numpy()[:5]"
   ]
  },
  {
   "cell_type": "code",
   "execution_count": 29,
   "metadata": {},
   "outputs": [
    {
     "data": {
      "text/html": [
       "<div>\n",
       "<style scoped>\n",
       "    .dataframe tbody tr th:only-of-type {\n",
       "        vertical-align: middle;\n",
       "    }\n",
       "\n",
       "    .dataframe tbody tr th {\n",
       "        vertical-align: top;\n",
       "    }\n",
       "\n",
       "    .dataframe thead th {\n",
       "        text-align: right;\n",
       "    }\n",
       "</style>\n",
       "<table border=\"1\" class=\"dataframe\">\n",
       "  <thead>\n",
       "    <tr style=\"text-align: right;\">\n",
       "      <th></th>\n",
       "      <th>충전소명</th>\n",
       "      <th>충전기ID</th>\n",
       "      <th>지역</th>\n",
       "      <th>시군구</th>\n",
       "      <th>주소</th>\n",
       "      <th>충전기타입</th>\n",
       "      <th>충전시작일시</th>\n",
       "      <th>충전종료일시</th>\n",
       "      <th>충전시간</th>\n",
       "      <th>충전량</th>\n",
       "      <th>...</th>\n",
       "      <th>3</th>\n",
       "      <th>4</th>\n",
       "      <th>5</th>\n",
       "      <th>6</th>\n",
       "      <th>7</th>\n",
       "      <th>8</th>\n",
       "      <th>9</th>\n",
       "      <th>10</th>\n",
       "      <th>11</th>\n",
       "      <th>12</th>\n",
       "    </tr>\n",
       "  </thead>\n",
       "  <tbody>\n",
       "    <tr>\n",
       "      <th>2</th>\n",
       "      <td>노형동주민센터</td>\n",
       "      <td>1</td>\n",
       "      <td>제주특별자치도</td>\n",
       "      <td>제주시</td>\n",
       "      <td>제주특별자치도 제주시 노형9길 9-4  주차장</td>\n",
       "      <td>DC차데모+AC3상+DC콤보</td>\n",
       "      <td>20200101000748</td>\n",
       "      <td>20200101001659</td>\n",
       "      <td>0 days 00:09:07</td>\n",
       "      <td>5.80</td>\n",
       "      <td>...</td>\n",
       "      <td>9-4</td>\n",
       "      <td>주차장</td>\n",
       "      <td>NaN</td>\n",
       "      <td>NaN</td>\n",
       "      <td>NaN</td>\n",
       "      <td>NaN</td>\n",
       "      <td>NaN</td>\n",
       "      <td>NaN</td>\n",
       "      <td>NaN</td>\n",
       "      <td>NaN</td>\n",
       "    </tr>\n",
       "    <tr>\n",
       "      <th>54</th>\n",
       "      <td>노형동주민센터</td>\n",
       "      <td>1</td>\n",
       "      <td>제주특별자치도</td>\n",
       "      <td>제주시</td>\n",
       "      <td>제주특별자치도 제주시 노형9길 9-4  주차장</td>\n",
       "      <td>DC차데모+AC3상+DC콤보</td>\n",
       "      <td>20200101020012</td>\n",
       "      <td>20200101021303</td>\n",
       "      <td>0 days 00:12:46</td>\n",
       "      <td>8.47</td>\n",
       "      <td>...</td>\n",
       "      <td>9-4</td>\n",
       "      <td>주차장</td>\n",
       "      <td>NaN</td>\n",
       "      <td>NaN</td>\n",
       "      <td>NaN</td>\n",
       "      <td>NaN</td>\n",
       "      <td>NaN</td>\n",
       "      <td>NaN</td>\n",
       "      <td>NaN</td>\n",
       "      <td>NaN</td>\n",
       "    </tr>\n",
       "    <tr>\n",
       "      <th>139</th>\n",
       "      <td>노형동주민센터</td>\n",
       "      <td>1</td>\n",
       "      <td>제주특별자치도</td>\n",
       "      <td>제주시</td>\n",
       "      <td>제주특별자치도 제주시 노형9길 9-4  주차장</td>\n",
       "      <td>DC차데모+AC3상+DC콤보</td>\n",
       "      <td>20200101040618</td>\n",
       "      <td>20200101043457</td>\n",
       "      <td>0 days 00:28:33</td>\n",
       "      <td>16.21</td>\n",
       "      <td>...</td>\n",
       "      <td>9-4</td>\n",
       "      <td>주차장</td>\n",
       "      <td>NaN</td>\n",
       "      <td>NaN</td>\n",
       "      <td>NaN</td>\n",
       "      <td>NaN</td>\n",
       "      <td>NaN</td>\n",
       "      <td>NaN</td>\n",
       "      <td>NaN</td>\n",
       "      <td>NaN</td>\n",
       "    </tr>\n",
       "    <tr>\n",
       "      <th>273</th>\n",
       "      <td>노형동주민센터</td>\n",
       "      <td>1</td>\n",
       "      <td>제주특별자치도</td>\n",
       "      <td>제주시</td>\n",
       "      <td>제주특별자치도 제주시 노형9길 9-4  주차장</td>\n",
       "      <td>DC차데모+AC3상+DC콤보</td>\n",
       "      <td>20200101063025</td>\n",
       "      <td>20200101070141</td>\n",
       "      <td>0 days 00:31:10</td>\n",
       "      <td>17.77</td>\n",
       "      <td>...</td>\n",
       "      <td>9-4</td>\n",
       "      <td>주차장</td>\n",
       "      <td>NaN</td>\n",
       "      <td>NaN</td>\n",
       "      <td>NaN</td>\n",
       "      <td>NaN</td>\n",
       "      <td>NaN</td>\n",
       "      <td>NaN</td>\n",
       "      <td>NaN</td>\n",
       "      <td>NaN</td>\n",
       "    </tr>\n",
       "    <tr>\n",
       "      <th>393</th>\n",
       "      <td>노형동주민센터</td>\n",
       "      <td>3</td>\n",
       "      <td>제주특별자치도</td>\n",
       "      <td>제주시</td>\n",
       "      <td>제주특별자치도 제주시 노형9길 9-4  주차장</td>\n",
       "      <td>DC차데모+AC3상+DC콤보</td>\n",
       "      <td>20200101081007</td>\n",
       "      <td>20200101084309</td>\n",
       "      <td>0 days 00:33:02</td>\n",
       "      <td>23.14</td>\n",
       "      <td>...</td>\n",
       "      <td>9-4</td>\n",
       "      <td>주차장</td>\n",
       "      <td>NaN</td>\n",
       "      <td>NaN</td>\n",
       "      <td>NaN</td>\n",
       "      <td>NaN</td>\n",
       "      <td>NaN</td>\n",
       "      <td>NaN</td>\n",
       "      <td>NaN</td>\n",
       "      <td>NaN</td>\n",
       "    </tr>\n",
       "    <tr>\n",
       "      <th>...</th>\n",
       "      <td>...</td>\n",
       "      <td>...</td>\n",
       "      <td>...</td>\n",
       "      <td>...</td>\n",
       "      <td>...</td>\n",
       "      <td>...</td>\n",
       "      <td>...</td>\n",
       "      <td>...</td>\n",
       "      <td>...</td>\n",
       "      <td>...</td>\n",
       "      <td>...</td>\n",
       "      <td>...</td>\n",
       "      <td>...</td>\n",
       "      <td>...</td>\n",
       "      <td>...</td>\n",
       "      <td>...</td>\n",
       "      <td>...</td>\n",
       "      <td>...</td>\n",
       "      <td>...</td>\n",
       "      <td>...</td>\n",
       "      <td>...</td>\n",
       "    </tr>\n",
       "    <tr>\n",
       "      <th>3777078</th>\n",
       "      <td>노형동주민센터</td>\n",
       "      <td>3</td>\n",
       "      <td>제주특별자치도</td>\n",
       "      <td>제주시</td>\n",
       "      <td>제주특별자치도 제주시 노형9길 9-4  주차장</td>\n",
       "      <td>DC차데모+AC3상+DC콤보</td>\n",
       "      <td>20211011152225</td>\n",
       "      <td>20211011153712</td>\n",
       "      <td>0 days 00:14:47</td>\n",
       "      <td>6.85</td>\n",
       "      <td>...</td>\n",
       "      <td>9-4</td>\n",
       "      <td>주차장</td>\n",
       "      <td>NaN</td>\n",
       "      <td>NaN</td>\n",
       "      <td>NaN</td>\n",
       "      <td>NaN</td>\n",
       "      <td>NaN</td>\n",
       "      <td>NaN</td>\n",
       "      <td>NaN</td>\n",
       "      <td>NaN</td>\n",
       "    </tr>\n",
       "    <tr>\n",
       "      <th>3779180</th>\n",
       "      <td>노형동주민센터</td>\n",
       "      <td>3</td>\n",
       "      <td>제주특별자치도</td>\n",
       "      <td>제주시</td>\n",
       "      <td>제주특별자치도 제주시 노형9길 9-4  주차장</td>\n",
       "      <td>DC차데모+AC3상+DC콤보</td>\n",
       "      <td>20211011185309</td>\n",
       "      <td>20211011190921</td>\n",
       "      <td>0 days 00:16:12</td>\n",
       "      <td>7.53</td>\n",
       "      <td>...</td>\n",
       "      <td>9-4</td>\n",
       "      <td>주차장</td>\n",
       "      <td>NaN</td>\n",
       "      <td>NaN</td>\n",
       "      <td>NaN</td>\n",
       "      <td>NaN</td>\n",
       "      <td>NaN</td>\n",
       "      <td>NaN</td>\n",
       "      <td>NaN</td>\n",
       "      <td>NaN</td>\n",
       "    </tr>\n",
       "    <tr>\n",
       "      <th>3781894</th>\n",
       "      <td>노형동주민센터</td>\n",
       "      <td>3</td>\n",
       "      <td>제주특별자치도</td>\n",
       "      <td>제주시</td>\n",
       "      <td>제주특별자치도 제주시 노형9길 9-4  주차장</td>\n",
       "      <td>DC차데모+AC3상+DC콤보</td>\n",
       "      <td>20211012085626</td>\n",
       "      <td>20211012092624</td>\n",
       "      <td>0 days 00:29:58</td>\n",
       "      <td>8.72</td>\n",
       "      <td>...</td>\n",
       "      <td>9-4</td>\n",
       "      <td>주차장</td>\n",
       "      <td>NaN</td>\n",
       "      <td>NaN</td>\n",
       "      <td>NaN</td>\n",
       "      <td>NaN</td>\n",
       "      <td>NaN</td>\n",
       "      <td>NaN</td>\n",
       "      <td>NaN</td>\n",
       "      <td>NaN</td>\n",
       "    </tr>\n",
       "    <tr>\n",
       "      <th>3782574</th>\n",
       "      <td>노형동주민센터</td>\n",
       "      <td>3</td>\n",
       "      <td>제주특별자치도</td>\n",
       "      <td>제주시</td>\n",
       "      <td>제주특별자치도 제주시 노형9길 9-4  주차장</td>\n",
       "      <td>DC차데모+AC3상+DC콤보</td>\n",
       "      <td>20211012102941</td>\n",
       "      <td>20211012104212</td>\n",
       "      <td>0 days 00:12:31</td>\n",
       "      <td>7.82</td>\n",
       "      <td>...</td>\n",
       "      <td>9-4</td>\n",
       "      <td>주차장</td>\n",
       "      <td>NaN</td>\n",
       "      <td>NaN</td>\n",
       "      <td>NaN</td>\n",
       "      <td>NaN</td>\n",
       "      <td>NaN</td>\n",
       "      <td>NaN</td>\n",
       "      <td>NaN</td>\n",
       "      <td>NaN</td>\n",
       "    </tr>\n",
       "    <tr>\n",
       "      <th>3784964</th>\n",
       "      <td>노형동주민센터</td>\n",
       "      <td>3</td>\n",
       "      <td>제주특별자치도</td>\n",
       "      <td>제주시</td>\n",
       "      <td>제주특별자치도 제주시 노형9길 9-4  주차장</td>\n",
       "      <td>DC차데모+AC3상+DC콤보</td>\n",
       "      <td>20211012142457</td>\n",
       "      <td>20211012150531</td>\n",
       "      <td>0 days 00:40:34</td>\n",
       "      <td>8.37</td>\n",
       "      <td>...</td>\n",
       "      <td>9-4</td>\n",
       "      <td>주차장</td>\n",
       "      <td>NaN</td>\n",
       "      <td>NaN</td>\n",
       "      <td>NaN</td>\n",
       "      <td>NaN</td>\n",
       "      <td>NaN</td>\n",
       "      <td>NaN</td>\n",
       "      <td>NaN</td>\n",
       "      <td>NaN</td>\n",
       "    </tr>\n",
       "  </tbody>\n",
       "</table>\n",
       "<p>11817 rows × 40 columns</p>\n",
       "</div>"
      ],
      "text/plain": [
       "            충전소명  충전기ID       지역  시군구                         주소  \\\n",
       "2        노형동주민센터      1  제주특별자치도  제주시  제주특별자치도 제주시 노형9길 9-4  주차장   \n",
       "54       노형동주민센터      1  제주특별자치도  제주시  제주특별자치도 제주시 노형9길 9-4  주차장   \n",
       "139      노형동주민센터      1  제주특별자치도  제주시  제주특별자치도 제주시 노형9길 9-4  주차장   \n",
       "273      노형동주민센터      1  제주특별자치도  제주시  제주특별자치도 제주시 노형9길 9-4  주차장   \n",
       "393      노형동주민센터      3  제주특별자치도  제주시  제주특별자치도 제주시 노형9길 9-4  주차장   \n",
       "...          ...    ...      ...  ...                        ...   \n",
       "3777078  노형동주민센터      3  제주특별자치도  제주시  제주특별자치도 제주시 노형9길 9-4  주차장   \n",
       "3779180  노형동주민센터      3  제주특별자치도  제주시  제주특별자치도 제주시 노형9길 9-4  주차장   \n",
       "3781894  노형동주민센터      3  제주특별자치도  제주시  제주특별자치도 제주시 노형9길 9-4  주차장   \n",
       "3782574  노형동주민센터      3  제주특별자치도  제주시  제주특별자치도 제주시 노형9길 9-4  주차장   \n",
       "3784964  노형동주민센터      3  제주특별자치도  제주시  제주특별자치도 제주시 노형9길 9-4  주차장   \n",
       "\n",
       "                   충전기타입          충전시작일시          충전종료일시            충전시간  \\\n",
       "2        DC차데모+AC3상+DC콤보  20200101000748  20200101001659 0 days 00:09:07   \n",
       "54       DC차데모+AC3상+DC콤보  20200101020012  20200101021303 0 days 00:12:46   \n",
       "139      DC차데모+AC3상+DC콤보  20200101040618  20200101043457 0 days 00:28:33   \n",
       "273      DC차데모+AC3상+DC콤보  20200101063025  20200101070141 0 days 00:31:10   \n",
       "393      DC차데모+AC3상+DC콤보  20200101081007  20200101084309 0 days 00:33:02   \n",
       "...                  ...             ...             ...             ...   \n",
       "3777078  DC차데모+AC3상+DC콤보  20211011152225  20211011153712 0 days 00:14:47   \n",
       "3779180  DC차데모+AC3상+DC콤보  20211011185309  20211011190921 0 days 00:16:12   \n",
       "3781894  DC차데모+AC3상+DC콤보  20211012085626  20211012092624 0 days 00:29:58   \n",
       "3782574  DC차데모+AC3상+DC콤보  20211012102941  20211012104212 0 days 00:12:31   \n",
       "3784964  DC차데모+AC3상+DC콤보  20211012142457  20211012150531 0 days 00:40:34   \n",
       "\n",
       "           충전량  ...    3    4    5    6    7    8    9   10   11   12  \n",
       "2         5.80  ...  9-4  주차장  NaN  NaN  NaN  NaN  NaN  NaN  NaN  NaN  \n",
       "54        8.47  ...  9-4  주차장  NaN  NaN  NaN  NaN  NaN  NaN  NaN  NaN  \n",
       "139      16.21  ...  9-4  주차장  NaN  NaN  NaN  NaN  NaN  NaN  NaN  NaN  \n",
       "273      17.77  ...  9-4  주차장  NaN  NaN  NaN  NaN  NaN  NaN  NaN  NaN  \n",
       "393      23.14  ...  9-4  주차장  NaN  NaN  NaN  NaN  NaN  NaN  NaN  NaN  \n",
       "...        ...  ...  ...  ...  ...  ...  ...  ...  ...  ...  ...  ...  \n",
       "3777078   6.85  ...  9-4  주차장  NaN  NaN  NaN  NaN  NaN  NaN  NaN  NaN  \n",
       "3779180   7.53  ...  9-4  주차장  NaN  NaN  NaN  NaN  NaN  NaN  NaN  NaN  \n",
       "3781894   8.72  ...  9-4  주차장  NaN  NaN  NaN  NaN  NaN  NaN  NaN  NaN  \n",
       "3782574   7.82  ...  9-4  주차장  NaN  NaN  NaN  NaN  NaN  NaN  NaN  NaN  \n",
       "3784964   8.37  ...  9-4  주차장  NaN  NaN  NaN  NaN  NaN  NaN  NaN  NaN  \n",
       "\n",
       "[11817 rows x 40 columns]"
      ]
     },
     "execution_count": 29,
     "metadata": {},
     "output_type": "execute_result"
    }
   ],
   "source": [
    "new_adr_df2[new_adr_df2['2'] == '노형9길']"
   ]
  },
  {
   "cell_type": "code",
   "execution_count": 36,
   "metadata": {},
   "outputs": [
    {
     "data": {
      "text/plain": [
       "array(['제주특별자치도'], dtype=object)"
      ]
     },
     "execution_count": 36,
     "metadata": {},
     "output_type": "execute_result"
    }
   ],
   "source": [
    "new_adr_df2[new_adr_df2['2'] == '노형9길']['0'].unique()"
   ]
  },
  {
   "cell_type": "code",
   "execution_count": null,
   "metadata": {},
   "outputs": [],
   "source": []
  },
  {
   "cell_type": "code",
   "execution_count": null,
   "metadata": {},
   "outputs": [],
   "source": []
  },
  {
   "cell_type": "code",
   "execution_count": null,
   "metadata": {},
   "outputs": [],
   "source": []
  },
  {
   "cell_type": "code",
   "execution_count": null,
   "metadata": {},
   "outputs": [],
   "source": []
  },
  {
   "cell_type": "code",
   "execution_count": null,
   "metadata": {},
   "outputs": [],
   "source": []
  },
  {
   "cell_type": "code",
   "execution_count": null,
   "metadata": {},
   "outputs": [],
   "source": []
  },
  {
   "cell_type": "code",
   "execution_count": null,
   "metadata": {},
   "outputs": [],
   "source": []
  },
  {
   "cell_type": "code",
   "execution_count": null,
   "metadata": {},
   "outputs": [],
   "source": []
  },
  {
   "cell_type": "markdown",
   "metadata": {},
   "source": [
    "### 교체 충전기 수 예측\n",
    "- 충전기 별 충전량/충전시간 데이터 활용\n",
    "- 같은 지역내에 동일한 \"충전기ID\" 존재"
   ]
  },
  {
   "cell_type": "code",
   "execution_count": 5,
   "metadata": {},
   "outputs": [
    {
     "data": {
      "text/plain": [
       "Index(['충전소명', '충전기ID', '지역', '시군구', '주소', '충전기타입', '충전시작일시', '충전종료일시', '충전시간',\n",
       "       '충전량', '충전용량', '충전시작_년도', '충전시작_월', '충전시작_일', '충전시작_시', '충전시작_분',\n",
       "       '충전시작_초', '충전시작일시(변환)', '충전종료_년도', '충전종료_월', '충전종료_일', '충전종료_시',\n",
       "       '충전종료_분', '충전종료_초', '충전종료일시(변환)', '충전시간(계산)', 'raw값과_계산값_차이', '0', '1',\n",
       "       '2', '3', '4', '5', '6', '7', '8', '9', '10', '11', '12'],\n",
       "      dtype='object')"
      ]
     },
     "execution_count": 5,
     "metadata": {},
     "output_type": "execute_result"
    }
   ],
   "source": [
    "new_adr_df2.columns"
   ]
  },
  {
   "cell_type": "code",
   "execution_count": 6,
   "metadata": {},
   "outputs": [
    {
     "data": {
      "text/html": [
       "<div>\n",
       "<style scoped>\n",
       "    .dataframe tbody tr th:only-of-type {\n",
       "        vertical-align: middle;\n",
       "    }\n",
       "\n",
       "    .dataframe tbody tr th {\n",
       "        vertical-align: top;\n",
       "    }\n",
       "\n",
       "    .dataframe thead th {\n",
       "        text-align: right;\n",
       "    }\n",
       "</style>\n",
       "<table border=\"1\" class=\"dataframe\">\n",
       "  <thead>\n",
       "    <tr style=\"text-align: right;\">\n",
       "      <th></th>\n",
       "      <th>충전기ID</th>\n",
       "      <th>지역</th>\n",
       "      <th>시군구</th>\n",
       "      <th>충전기타입</th>\n",
       "      <th>충전시간</th>\n",
       "      <th>충전량</th>\n",
       "    </tr>\n",
       "  </thead>\n",
       "  <tbody>\n",
       "    <tr>\n",
       "      <th>0</th>\n",
       "      <td>1</td>\n",
       "      <td>경상남도</td>\n",
       "      <td>김해시</td>\n",
       "      <td>DC차데모+AC3상+DC콤보</td>\n",
       "      <td>0 days 00:39:25</td>\n",
       "      <td>20.22000</td>\n",
       "    </tr>\n",
       "    <tr>\n",
       "      <th>1</th>\n",
       "      <td>1</td>\n",
       "      <td>제주특별자치도</td>\n",
       "      <td>제주시</td>\n",
       "      <td>DC차데모+AC3상+DC콤보</td>\n",
       "      <td>0 days 00:29:13</td>\n",
       "      <td>16.04000</td>\n",
       "    </tr>\n",
       "    <tr>\n",
       "      <th>2</th>\n",
       "      <td>1</td>\n",
       "      <td>제주특별자치도</td>\n",
       "      <td>제주시</td>\n",
       "      <td>DC차데모+AC3상+DC콤보</td>\n",
       "      <td>0 days 00:09:07</td>\n",
       "      <td>5.80000</td>\n",
       "    </tr>\n",
       "    <tr>\n",
       "      <th>3</th>\n",
       "      <td>1</td>\n",
       "      <td>경상북도</td>\n",
       "      <td>포항시</td>\n",
       "      <td>DC차데모+AC3상+DC콤보</td>\n",
       "      <td>0 days 00:33:29</td>\n",
       "      <td>13.32000</td>\n",
       "    </tr>\n",
       "    <tr>\n",
       "      <th>4</th>\n",
       "      <td>1</td>\n",
       "      <td>강원도</td>\n",
       "      <td>양양군</td>\n",
       "      <td>DC차데모+AC3상+DC콤보</td>\n",
       "      <td>0 days 00:40:41</td>\n",
       "      <td>29.23000</td>\n",
       "    </tr>\n",
       "  </tbody>\n",
       "</table>\n",
       "</div>"
      ],
      "text/plain": [
       "   충전기ID       지역  시군구            충전기타입            충전시간      충전량\n",
       "0      1     경상남도  김해시  DC차데모+AC3상+DC콤보 0 days 00:39:25 20.22000\n",
       "1      1  제주특별자치도  제주시  DC차데모+AC3상+DC콤보 0 days 00:29:13 16.04000\n",
       "2      1  제주특별자치도  제주시  DC차데모+AC3상+DC콤보 0 days 00:09:07  5.80000\n",
       "3      1     경상북도  포항시  DC차데모+AC3상+DC콤보 0 days 00:33:29 13.32000\n",
       "4      1      강원도  양양군  DC차데모+AC3상+DC콤보 0 days 00:40:41 29.23000"
      ]
     },
     "execution_count": 6,
     "metadata": {},
     "output_type": "execute_result"
    }
   ],
   "source": [
    "temp = new_adr_df2[['충전기ID', '지역', '시군구', '충전기타입', '충전시간', '충전량']]\n",
    "temp.head()"
   ]
  },
  {
   "cell_type": "code",
   "execution_count": 7,
   "metadata": {},
   "outputs": [
    {
     "data": {
      "text/plain": [
       "array(['경상남도', '제주특별자치도', '경상북도', '강원도', '대전광역시', '충청남도', '충청북도', '부산광역시',\n",
       "       '경기도', '전라남도', '대구광역시', '광주광역시', '서울특별시', '울산광역시', '전라북도', '인천광역시',\n",
       "       '세종특별자치시'], dtype=object)"
      ]
     },
     "execution_count": 7,
     "metadata": {},
     "output_type": "execute_result"
    }
   ],
   "source": [
    "temp['지역'].unique()"
   ]
  },
  {
   "cell_type": "code",
   "execution_count": 8,
   "metadata": {},
   "outputs": [
    {
     "data": {
      "text/plain": [
       "array([ 1,  4,  2,  5, 52, 12,  3, 11,  6, 14, 13, 10, 51,  8, 15, 18, 17,\n",
       "       42, 41, 44, 43, 22, 21, 24, 23, 16,  7, 91, 80, 89, 83, 88, 84, 86,\n",
       "       85, 82, 87, 45, 46, 47, 81, 25, 26, 92, 28, 27, 93, 94, 97, 95, 98,\n",
       "       96], dtype=int8)"
      ]
     },
     "execution_count": 8,
     "metadata": {},
     "output_type": "execute_result"
    }
   ],
   "source": [
    "temp['충전기ID'].unique()"
   ]
  },
  {
   "cell_type": "code",
   "execution_count": 9,
   "metadata": {},
   "outputs": [
    {
     "data": {
      "text/plain": [
       "array([ 1,  2, 11, 52,  6, 12,  3,  4,  5, 13, 14, 22, 21,  8,  7, 45, 41,\n",
       "       43, 44, 42, 24, 25, 23, 26], dtype=int8)"
      ]
     },
     "execution_count": 9,
     "metadata": {},
     "output_type": "execute_result"
    }
   ],
   "source": [
    "temp[temp['지역'] == '서울특별시']['충전기ID'].unique()"
   ]
  },
  {
   "cell_type": "code",
   "execution_count": 10,
   "metadata": {},
   "outputs": [
    {
     "data": {
      "text/plain": [
       "1     404482\n",
       "2      52729\n",
       "22     42123\n",
       "21     37271\n",
       "12     28079\n",
       "11     26816\n",
       "41     11340\n",
       "45      8639\n",
       "44      8049\n",
       "3       7917\n",
       "4       7459\n",
       "42      6339\n",
       "43      6216\n",
       "23      5414\n",
       "52      5070\n",
       "24      5002\n",
       "5       3903\n",
       "26      3707\n",
       "6       3336\n",
       "8       3249\n",
       "25      2697\n",
       "7       2221\n",
       "13       961\n",
       "14       214\n",
       "Name: 충전기ID, dtype: int64"
      ]
     },
     "execution_count": 10,
     "metadata": {},
     "output_type": "execute_result"
    }
   ],
   "source": [
    "temp[temp['지역'] == '서울특별시']['충전기ID'].value_counts()"
   ]
  },
  {
   "cell_type": "code",
   "execution_count": 11,
   "metadata": {},
   "outputs": [
    {
     "data": {
      "text/plain": [
       "array([ 1,  5, 12, 11,  2, 52, 51,  3, 14, 13, 21, 22,  8,  4,  7,  6, 23,\n",
       "       24, 43, 41, 42, 44, 80, 89, 83, 88, 84, 86, 85, 82, 87, 81, 45, 46,\n",
       "       91, 26, 25, 28, 27, 92, 94, 97, 95, 93, 98, 96], dtype=int8)"
      ]
     },
     "execution_count": 11,
     "metadata": {},
     "output_type": "execute_result"
    }
   ],
   "source": [
    "temp[temp['지역'] == '경기도']['충전기ID'].unique()"
   ]
  },
  {
   "cell_type": "code",
   "execution_count": 12,
   "metadata": {},
   "outputs": [
    {
     "data": {
      "text/html": [
       "<div>\n",
       "<style scoped>\n",
       "    .dataframe tbody tr th:only-of-type {\n",
       "        vertical-align: middle;\n",
       "    }\n",
       "\n",
       "    .dataframe tbody tr th {\n",
       "        vertical-align: top;\n",
       "    }\n",
       "\n",
       "    .dataframe thead th {\n",
       "        text-align: right;\n",
       "    }\n",
       "</style>\n",
       "<table border=\"1\" class=\"dataframe\">\n",
       "  <thead>\n",
       "    <tr style=\"text-align: right;\">\n",
       "      <th></th>\n",
       "      <th>충전기ID</th>\n",
       "      <th>지역</th>\n",
       "      <th>시군구</th>\n",
       "      <th>충전기타입</th>\n",
       "      <th>충전시간</th>\n",
       "      <th>충전량</th>\n",
       "    </tr>\n",
       "  </thead>\n",
       "  <tbody>\n",
       "    <tr>\n",
       "      <th>55</th>\n",
       "      <td>1</td>\n",
       "      <td>서울특별시</td>\n",
       "      <td>양천구</td>\n",
       "      <td>DC차데모+AC3상+DC콤보</td>\n",
       "      <td>0 days 00:35:51</td>\n",
       "      <td>17.36000</td>\n",
       "    </tr>\n",
       "    <tr>\n",
       "      <th>72</th>\n",
       "      <td>1</td>\n",
       "      <td>서울특별시</td>\n",
       "      <td>중구</td>\n",
       "      <td>DC차데모+AC3상+DC콤보</td>\n",
       "      <td>0 days 00:11:38</td>\n",
       "      <td>6.16000</td>\n",
       "    </tr>\n",
       "    <tr>\n",
       "      <th>74</th>\n",
       "      <td>1</td>\n",
       "      <td>서울특별시</td>\n",
       "      <td>종로구</td>\n",
       "      <td>DC차데모+AC3상+DC콤보</td>\n",
       "      <td>0 days 00:25:34</td>\n",
       "      <td>15.18000</td>\n",
       "    </tr>\n",
       "    <tr>\n",
       "      <th>121</th>\n",
       "      <td>1</td>\n",
       "      <td>서울특별시</td>\n",
       "      <td>관악구</td>\n",
       "      <td>DC차데모+AC3상+DC콤보</td>\n",
       "      <td>0 days 00:14:38</td>\n",
       "      <td>6.63000</td>\n",
       "    </tr>\n",
       "    <tr>\n",
       "      <th>150</th>\n",
       "      <td>1</td>\n",
       "      <td>서울특별시</td>\n",
       "      <td>관악구</td>\n",
       "      <td>DC차데모+AC3상+DC콤보</td>\n",
       "      <td>0 days 00:05:47</td>\n",
       "      <td>1.88000</td>\n",
       "    </tr>\n",
       "  </tbody>\n",
       "</table>\n",
       "</div>"
      ],
      "text/plain": [
       "     충전기ID     지역  시군구            충전기타입            충전시간      충전량\n",
       "55       1  서울특별시  양천구  DC차데모+AC3상+DC콤보 0 days 00:35:51 17.36000\n",
       "72       1  서울특별시   중구  DC차데모+AC3상+DC콤보 0 days 00:11:38  6.16000\n",
       "74       1  서울특별시  종로구  DC차데모+AC3상+DC콤보 0 days 00:25:34 15.18000\n",
       "121      1  서울특별시  관악구  DC차데모+AC3상+DC콤보 0 days 00:14:38  6.63000\n",
       "150      1  서울특별시  관악구  DC차데모+AC3상+DC콤보 0 days 00:05:47  1.88000"
      ]
     },
     "execution_count": 12,
     "metadata": {},
     "output_type": "execute_result"
    }
   ],
   "source": [
    "seoul = temp[temp['지역'] == '서울특별시']\n",
    "seoul.head()"
   ]
  },
  {
   "cell_type": "code",
   "execution_count": 13,
   "metadata": {},
   "outputs": [
    {
     "data": {
      "text/plain": [
       "array(['양천구', '중구', '종로구', '관악구', '동작구', '영등포구', '서대문구', '용산구', '강남구',\n",
       "       '중랑구', '서초구', '강동구', '강북구', '동대문구', '강서구', '마포구', '도봉구', '은평구',\n",
       "       '송파구', '금천구', '구로구', '노원구', '성북구', '성동구', '광진구'], dtype=object)"
      ]
     },
     "execution_count": 13,
     "metadata": {},
     "output_type": "execute_result"
    }
   ],
   "source": [
    "seoul['시군구'].unique()"
   ]
  },
  {
   "cell_type": "code",
   "execution_count": 14,
   "metadata": {},
   "outputs": [
    {
     "data": {
      "text/plain": [
       "array([ 1,  2, 52,  6,  4,  5,  3], dtype=int8)"
      ]
     },
     "execution_count": 14,
     "metadata": {},
     "output_type": "execute_result"
    }
   ],
   "source": [
    "seoul[seoul['시군구'] == '영등포구']['충전기ID'].unique()"
   ]
  },
  {
   "cell_type": "code",
   "execution_count": 15,
   "metadata": {},
   "outputs": [
    {
     "data": {
      "text/plain": [
       "1     48225\n",
       "2     11116\n",
       "52     5070\n",
       "5      1853\n",
       "4      1849\n",
       "6      1391\n",
       "3      1379\n",
       "Name: 충전기ID, dtype: int64"
      ]
     },
     "execution_count": 15,
     "metadata": {},
     "output_type": "execute_result"
    }
   ],
   "source": [
    "seoul[seoul['시군구'] == '영등포구']['충전기ID'].value_counts()"
   ]
  },
  {
   "cell_type": "code",
   "execution_count": 16,
   "metadata": {},
   "outputs": [
    {
     "data": {
      "text/plain": [
       "array([ 1,  2, 44, 41, 43, 42, 45, 21, 23, 25, 26, 24, 22], dtype=int8)"
      ]
     },
     "execution_count": 16,
     "metadata": {},
     "output_type": "execute_result"
    }
   ],
   "source": [
    "seoul[seoul['시군구'] == '송파구']['충전기ID'].unique()"
   ]
  },
  {
   "cell_type": "markdown",
   "metadata": {},
   "source": [
    "##### 특정 지역 충전기 확인\n",
    "- '강원도 강릉시 성산면 영동고속도로 231 (보광리)'"
   ]
  },
  {
   "cell_type": "code",
   "execution_count": 17,
   "metadata": {},
   "outputs": [
    {
     "data": {
      "text/plain": [
       "236          서울특별시 영등포구 의사당대로 1 국회도서관 앞\n",
       "780     서울특별시 영등포구 영중로3길 7  지하1층 여성전용구역\n",
       "805     서울특별시 영등포구 영중로 125 지상주차장(외부 1F)\n",
       "1243    서울특별시 영등포구 영중로 125 지상주차장(외부 1F)\n",
       "1414      서울특별시 영등포구 양산로 111  왼쪽 끝편 주차장\n",
       "Name: 주소, dtype: object"
      ]
     },
     "execution_count": 17,
     "metadata": {},
     "output_type": "execute_result"
    }
   ],
   "source": [
    "new_adr_df2[(new_adr_df2['시군구'] == '영등포구') & (new_adr_df2['충전기ID'] == 1)]['주소'].head()"
   ]
  },
  {
   "cell_type": "code",
   "execution_count": 18,
   "metadata": {},
   "outputs": [
    {
     "data": {
      "text/plain": [
       "85     강원도 강릉시 성산면 영동고속도로 231 (보광리)\n",
       "133    강원도 강릉시 성산면 영동고속도로 231 (보광리)\n",
       "174    강원도 강릉시 성산면 영동고속도로 231 (보광리)\n",
       "215    강원도 강릉시 성산면 영동고속도로 231 (보광리)\n",
       "254    강원도 강릉시 성산면 영동고속도로 231 (보광리)\n",
       "Name: 주소, dtype: object"
      ]
     },
     "execution_count": 18,
     "metadata": {},
     "output_type": "execute_result"
    }
   ],
   "source": [
    "new_adr_df2[(new_adr_df2['시군구'] == '강릉시') & (new_adr_df2['충전기ID'] == 1)]['주소'].head()"
   ]
  },
  {
   "cell_type": "code",
   "execution_count": 19,
   "metadata": {},
   "outputs": [
    {
     "data": {
      "text/html": [
       "<div>\n",
       "<style scoped>\n",
       "    .dataframe tbody tr th:only-of-type {\n",
       "        vertical-align: middle;\n",
       "    }\n",
       "\n",
       "    .dataframe tbody tr th {\n",
       "        vertical-align: top;\n",
       "    }\n",
       "\n",
       "    .dataframe thead tr th {\n",
       "        text-align: left;\n",
       "    }\n",
       "\n",
       "    .dataframe thead tr:last-of-type th {\n",
       "        text-align: right;\n",
       "    }\n",
       "</style>\n",
       "<table border=\"1\" class=\"dataframe\">\n",
       "  <thead>\n",
       "    <tr>\n",
       "      <th></th>\n",
       "      <th colspan=\"2\" halign=\"left\">충전시간</th>\n",
       "      <th colspan=\"2\" halign=\"left\">충전량</th>\n",
       "    </tr>\n",
       "    <tr>\n",
       "      <th></th>\n",
       "      <th>sum</th>\n",
       "      <th>mean</th>\n",
       "      <th>sum</th>\n",
       "      <th>mean</th>\n",
       "    </tr>\n",
       "    <tr>\n",
       "      <th>충전기ID</th>\n",
       "      <th></th>\n",
       "      <th></th>\n",
       "      <th></th>\n",
       "      <th></th>\n",
       "    </tr>\n",
       "  </thead>\n",
       "  <tbody>\n",
       "    <tr>\n",
       "      <th>1</th>\n",
       "      <td>106 days 01:21:20</td>\n",
       "      <td>0 days 00:27:53.047288661</td>\n",
       "      <td>95304.53000</td>\n",
       "      <td>17.40086</td>\n",
       "    </tr>\n",
       "    <tr>\n",
       "      <th>2</th>\n",
       "      <td>66 days 13:39:36</td>\n",
       "      <td>0 days 00:26:23.583700440</td>\n",
       "      <td>62449.30000</td>\n",
       "      <td>17.19419</td>\n",
       "    </tr>\n",
       "    <tr>\n",
       "      <th>3</th>\n",
       "      <td>89 days 05:15:44</td>\n",
       "      <td>0 days 00:26:49.299373695</td>\n",
       "      <td>83053.01000</td>\n",
       "      <td>17.33883</td>\n",
       "    </tr>\n",
       "  </tbody>\n",
       "</table>\n",
       "</div>"
      ],
      "text/plain": [
       "                   충전시간                                   충전량         \n",
       "                    sum                      mean         sum     mean\n",
       "충전기ID                                                                 \n",
       "1     106 days 01:21:20 0 days 00:27:53.047288661 95304.53000 17.40086\n",
       "2      66 days 13:39:36 0 days 00:26:23.583700440 62449.30000 17.19419\n",
       "3      89 days 05:15:44 0 days 00:26:49.299373695 83053.01000 17.33883"
      ]
     },
     "execution_count": 19,
     "metadata": {},
     "output_type": "execute_result"
    }
   ],
   "source": [
    "new_adr_df2[(new_adr_df2['시군구'] == '강릉시') & (new_adr_df2['주소'] == '강원도 강릉시 성산면 영동고속도로 231 (보광리)')].groupby(['충전기ID'])[['충전시간', '충전량']].agg(['sum', 'mean'])"
   ]
  },
  {
   "cell_type": "code",
   "execution_count": 20,
   "metadata": {},
   "outputs": [
    {
     "data": {
      "text/html": [
       "<div>\n",
       "<style scoped>\n",
       "    .dataframe tbody tr th:only-of-type {\n",
       "        vertical-align: middle;\n",
       "    }\n",
       "\n",
       "    .dataframe tbody tr th {\n",
       "        vertical-align: top;\n",
       "    }\n",
       "\n",
       "    .dataframe thead th {\n",
       "        text-align: right;\n",
       "    }\n",
       "</style>\n",
       "<table border=\"1\" class=\"dataframe\">\n",
       "  <thead>\n",
       "    <tr style=\"text-align: right;\">\n",
       "      <th></th>\n",
       "      <th>충전시간</th>\n",
       "      <th>충전량</th>\n",
       "    </tr>\n",
       "  </thead>\n",
       "  <tbody>\n",
       "    <tr>\n",
       "      <th>sum</th>\n",
       "      <td>261 days 20:16:40</td>\n",
       "      <td>240806.84000</td>\n",
       "    </tr>\n",
       "    <tr>\n",
       "      <th>mean</th>\n",
       "      <td>0 days 00:27:07.699834520</td>\n",
       "      <td>17.32548</td>\n",
       "    </tr>\n",
       "  </tbody>\n",
       "</table>\n",
       "</div>"
      ],
      "text/plain": [
       "                          충전시간          충전량\n",
       "sum          261 days 20:16:40 240806.84000\n",
       "mean 0 days 00:27:07.699834520     17.32548"
      ]
     },
     "execution_count": 20,
     "metadata": {},
     "output_type": "execute_result"
    }
   ],
   "source": [
    "new_adr_df2[(new_adr_df2['시군구'] == '강릉시') & (new_adr_df2['주소'] == '강원도 강릉시 성산면 영동고속도로 231 (보광리)')][['충전시간', '충전량']].agg(['sum', 'mean'])"
   ]
  },
  {
   "cell_type": "markdown",
   "metadata": {},
   "source": [
    "#### 지역, 시군구, 충전기ID 별 통계"
   ]
  },
  {
   "cell_type": "code",
   "execution_count": 21,
   "metadata": {},
   "outputs": [],
   "source": [
    "# statis = temp.groupby(['지역', '시군구', '충전기ID'])[['충전시간', '충전량']].agg(['sum', 'mean'])\n",
    "# statis"
   ]
  },
  {
   "cell_type": "code",
   "execution_count": 22,
   "metadata": {},
   "outputs": [],
   "source": [
    "# statis.to_excel('분석/2020-22년_신주소_지역_시군구_충전기ID_충전시간_충전량_통계.xlsx', encoding='utf-8')"
   ]
  },
  {
   "cell_type": "markdown",
   "metadata": {},
   "source": [
    "### 특정 지역/기간별 충전량"
   ]
  },
  {
   "cell_type": "code",
   "execution_count": 23,
   "metadata": {},
   "outputs": [
    {
     "data": {
      "text/plain": [
       "Index(['충전소명', '충전기ID', '지역', '시군구', '주소', '충전기타입', '충전시작일시', '충전종료일시', '충전시간',\n",
       "       '충전량', '충전용량', '충전시작_년도', '충전시작_월', '충전시작_일', '충전시작_시', '충전시작_분',\n",
       "       '충전시작_초', '충전시작일시(변환)', '충전종료_년도', '충전종료_월', '충전종료_일', '충전종료_시',\n",
       "       '충전종료_분', '충전종료_초', '충전종료일시(변환)', '충전시간(계산)', 'raw값과_계산값_차이', '0', '1',\n",
       "       '2', '3', '4', '5', '6', '7', '8', '9', '10', '11', '12'],\n",
       "      dtype='object')"
      ]
     },
     "execution_count": 23,
     "metadata": {},
     "output_type": "execute_result"
    }
   ],
   "source": [
    "new_adr_df2.columns"
   ]
  },
  {
   "cell_type": "code",
   "execution_count": 24,
   "metadata": {},
   "outputs": [
    {
     "name": "stdout",
     "output_type": "stream",
     "text": [
      "<class 'pandas.core.frame.DataFrame'>\n",
      "RangeIndex: 7755902 entries, 0 to 7755901\n",
      "Data columns (total 5 columns):\n",
      " #   Column   Dtype  \n",
      "---  ------   -----  \n",
      " 0   지역       object \n",
      " 1   시군구      object \n",
      " 2   충전시작_년도  int16  \n",
      " 3   충전시작_월   int8   \n",
      " 4   충전량      float64\n",
      "dtypes: float64(1), int16(1), int8(1), object(2)\n",
      "memory usage: 199.7+ MB\n"
     ]
    }
   ],
   "source": [
    "temp = new_adr_df2[['지역', '시군구', '충전시작_년도', '충전시작_월', '충전량']]\n",
    "temp.info()"
   ]
  },
  {
   "cell_type": "code",
   "execution_count": 25,
   "metadata": {},
   "outputs": [
    {
     "data": {
      "text/html": [
       "<div>\n",
       "<style scoped>\n",
       "    .dataframe tbody tr th:only-of-type {\n",
       "        vertical-align: middle;\n",
       "    }\n",
       "\n",
       "    .dataframe tbody tr th {\n",
       "        vertical-align: top;\n",
       "    }\n",
       "\n",
       "    .dataframe thead tr th {\n",
       "        text-align: left;\n",
       "    }\n",
       "\n",
       "    .dataframe thead tr:last-of-type th {\n",
       "        text-align: right;\n",
       "    }\n",
       "</style>\n",
       "<table border=\"1\" class=\"dataframe\">\n",
       "  <thead>\n",
       "    <tr>\n",
       "      <th></th>\n",
       "      <th></th>\n",
       "      <th></th>\n",
       "      <th></th>\n",
       "      <th colspan=\"2\" halign=\"left\">충전량</th>\n",
       "    </tr>\n",
       "    <tr>\n",
       "      <th></th>\n",
       "      <th></th>\n",
       "      <th></th>\n",
       "      <th></th>\n",
       "      <th>sum</th>\n",
       "      <th>mean</th>\n",
       "    </tr>\n",
       "    <tr>\n",
       "      <th>지역</th>\n",
       "      <th>시군구</th>\n",
       "      <th>충전시작_년도</th>\n",
       "      <th>충전시작_월</th>\n",
       "      <th></th>\n",
       "      <th></th>\n",
       "    </tr>\n",
       "  </thead>\n",
       "  <tbody>\n",
       "    <tr>\n",
       "      <th rowspan=\"5\" valign=\"top\">강원도</th>\n",
       "      <th rowspan=\"5\" valign=\"top\">강릉시</th>\n",
       "      <th rowspan=\"5\" valign=\"top\">2020</th>\n",
       "      <th>1</th>\n",
       "      <td>24097.21000</td>\n",
       "      <td>15.61712</td>\n",
       "    </tr>\n",
       "    <tr>\n",
       "      <th>2</th>\n",
       "      <td>19731.80000</td>\n",
       "      <td>15.63534</td>\n",
       "    </tr>\n",
       "    <tr>\n",
       "      <th>3</th>\n",
       "      <td>19599.25000</td>\n",
       "      <td>16.17100</td>\n",
       "    </tr>\n",
       "    <tr>\n",
       "      <th>4</th>\n",
       "      <td>20738.49000</td>\n",
       "      <td>17.02667</td>\n",
       "    </tr>\n",
       "    <tr>\n",
       "      <th>5</th>\n",
       "      <td>23248.08000</td>\n",
       "      <td>16.48800</td>\n",
       "    </tr>\n",
       "    <tr>\n",
       "      <th>...</th>\n",
       "      <th>...</th>\n",
       "      <th>...</th>\n",
       "      <th>...</th>\n",
       "      <td>...</td>\n",
       "      <td>...</td>\n",
       "    </tr>\n",
       "    <tr>\n",
       "      <th rowspan=\"5\" valign=\"top\">충청북도</th>\n",
       "      <th rowspan=\"5\" valign=\"top\">충주시</th>\n",
       "      <th rowspan=\"5\" valign=\"top\">2022</th>\n",
       "      <th>4</th>\n",
       "      <td>108623.48000</td>\n",
       "      <td>19.98592</td>\n",
       "    </tr>\n",
       "    <tr>\n",
       "      <th>5</th>\n",
       "      <td>115388.01000</td>\n",
       "      <td>19.89105</td>\n",
       "    </tr>\n",
       "    <tr>\n",
       "      <th>6</th>\n",
       "      <td>106327.68000</td>\n",
       "      <td>20.13019</td>\n",
       "    </tr>\n",
       "    <tr>\n",
       "      <th>7</th>\n",
       "      <td>139095.34000</td>\n",
       "      <td>21.49518</td>\n",
       "    </tr>\n",
       "    <tr>\n",
       "      <th>8</th>\n",
       "      <td>199168.47000</td>\n",
       "      <td>23.55908</td>\n",
       "    </tr>\n",
       "  </tbody>\n",
       "</table>\n",
       "<p>7513 rows × 2 columns</p>\n",
       "</div>"
      ],
      "text/plain": [
       "                                 충전량         \n",
       "                                 sum     mean\n",
       "지역   시군구 충전시작_년도 충전시작_월                      \n",
       "강원도  강릉시 2020    1       24097.21000 15.61712\n",
       "                 2       19731.80000 15.63534\n",
       "                 3       19599.25000 16.17100\n",
       "                 4       20738.49000 17.02667\n",
       "                 5       23248.08000 16.48800\n",
       "...                              ...      ...\n",
       "충청북도 충주시 2022    4      108623.48000 19.98592\n",
       "                 5      115388.01000 19.89105\n",
       "                 6      106327.68000 20.13019\n",
       "                 7      139095.34000 21.49518\n",
       "                 8      199168.47000 23.55908\n",
       "\n",
       "[7513 rows x 2 columns]"
      ]
     },
     "execution_count": 25,
     "metadata": {},
     "output_type": "execute_result"
    }
   ],
   "source": [
    "statis = temp.groupby(['지역', '시군구', '충전시작_년도', '충전시작_월'])[['충전량']].agg(['sum', 'mean'])\n",
    "statis"
   ]
  },
  {
   "cell_type": "code",
   "execution_count": 27,
   "metadata": {},
   "outputs": [],
   "source": [
    "statis.to_excel('분석/2020-22년_신주소_지역_시군구_년도_월_충전량_통계.xlsx', encoding='utf-8')"
   ]
  },
  {
   "cell_type": "markdown",
   "metadata": {},
   "source": [
    "### 연도/분기/시간대별 충전기 대수\n",
    "- 예시) 2020년/1분기(1-3월)/00-01시 충전기 대수"
   ]
  },
  {
   "cell_type": "code",
   "execution_count": 9,
   "metadata": {},
   "outputs": [
    {
     "name": "stdout",
     "output_type": "stream",
     "text": [
      "<class 'pandas.core.frame.DataFrame'>\n",
      "RangeIndex: 11613449 entries, 0 to 11613448\n",
      "Data columns (total 40 columns):\n",
      " #   Column        Dtype          \n",
      "---  ------        -----          \n",
      " 0   충전소명          object         \n",
      " 1   충전기ID         int8           \n",
      " 2   지역            object         \n",
      " 3   시군구           object         \n",
      " 4   주소            object         \n",
      " 5   충전기타입         object         \n",
      " 6   충전시작일시        int64          \n",
      " 7   충전종료일시        int64          \n",
      " 8   충전시간          timedelta64[ns]\n",
      " 9   충전량           float64        \n",
      " 10  충전용량          object         \n",
      " 11  충전시작_년도       int16          \n",
      " 12  충전시작_월        int8           \n",
      " 13  충전시작_일        int8           \n",
      " 14  충전시작_시        int8           \n",
      " 15  충전시작_분        int8           \n",
      " 16  충전시작_초        int8           \n",
      " 17  충전시작일시(변환)    object         \n",
      " 18  충전종료_년도       int16          \n",
      " 19  충전종료_월        int8           \n",
      " 20  충전종료_일        int8           \n",
      " 21  충전종료_시        int8           \n",
      " 22  충전종료_분        int8           \n",
      " 23  충전종료_초        int8           \n",
      " 24  충전종료일시(변환)    object         \n",
      " 25  충전시간(계산)      timedelta64[ns]\n",
      " 26  raw값과_계산값_차이  object         \n",
      " 27  0             object         \n",
      " 28  1             object         \n",
      " 29  2             object         \n",
      " 30  3             object         \n",
      " 31  4             object         \n",
      " 32  5             object         \n",
      " 33  6             object         \n",
      " 34  7             object         \n",
      " 35  8             object         \n",
      " 36  9             object         \n",
      " 37  10            object         \n",
      " 38  11            object         \n",
      " 39  12            object         \n",
      "dtypes: float64(1), int16(2), int64(2), int8(11), object(22), timedelta64[ns](2)\n",
      "memory usage: 2.5+ GB\n"
     ]
    }
   ],
   "source": [
    "df2.info()"
   ]
  },
  {
   "cell_type": "code",
   "execution_count": 10,
   "metadata": {},
   "outputs": [
    {
     "data": {
      "text/html": [
       "<div>\n",
       "<style scoped>\n",
       "    .dataframe tbody tr th:only-of-type {\n",
       "        vertical-align: middle;\n",
       "    }\n",
       "\n",
       "    .dataframe tbody tr th {\n",
       "        vertical-align: top;\n",
       "    }\n",
       "\n",
       "    .dataframe thead th {\n",
       "        text-align: right;\n",
       "    }\n",
       "</style>\n",
       "<table border=\"1\" class=\"dataframe\">\n",
       "  <thead>\n",
       "    <tr style=\"text-align: right;\">\n",
       "      <th></th>\n",
       "      <th>충전소명</th>\n",
       "      <th>충전기ID</th>\n",
       "      <th>지역</th>\n",
       "      <th>시군구</th>\n",
       "      <th>주소</th>\n",
       "      <th>충전기타입</th>\n",
       "      <th>충전시작일시</th>\n",
       "    </tr>\n",
       "  </thead>\n",
       "  <tbody>\n",
       "    <tr>\n",
       "      <th>7765000</th>\n",
       "      <td>내린천휴게소 양양방향</td>\n",
       "      <td>1</td>\n",
       "      <td>강원도</td>\n",
       "      <td>인제군</td>\n",
       "      <td>강원도 인제군 상남면 하남리 339-7(양양방향)</td>\n",
       "      <td>DC차데모+AC3상+DC콤보</td>\n",
       "      <td>20200105005728</td>\n",
       "    </tr>\n",
       "    <tr>\n",
       "      <th>7883070</th>\n",
       "      <td>내린천휴게소 양양방향</td>\n",
       "      <td>1</td>\n",
       "      <td>강원도</td>\n",
       "      <td>인제군</td>\n",
       "      <td>강원도 인제군 상남면 하남리 339-7(양양방향)</td>\n",
       "      <td>DC차데모+AC3상+DC콤보</td>\n",
       "      <td>20200305000732</td>\n",
       "    </tr>\n",
       "  </tbody>\n",
       "</table>\n",
       "</div>"
      ],
      "text/plain": [
       "                충전소명  충전기ID   지역  시군구                           주소  \\\n",
       "7765000  내린천휴게소 양양방향      1  강원도  인제군  강원도 인제군 상남면 하남리 339-7(양양방향)   \n",
       "7883070  내린천휴게소 양양방향      1  강원도  인제군  강원도 인제군 상남면 하남리 339-7(양양방향)   \n",
       "\n",
       "                   충전기타입          충전시작일시  \n",
       "7765000  DC차데모+AC3상+DC콤보  20200105005728  \n",
       "7883070  DC차데모+AC3상+DC콤보  20200305000732  "
      ]
     },
     "execution_count": 10,
     "metadata": {},
     "output_type": "execute_result"
    }
   ],
   "source": [
    "df2[(df2['충전시작_년도'] == 2020) & \n",
    "    (df2['충전시작_월'] >= 1) & (df2['충전시작_월'] <= 3) & (df2['충전시작_일'] == 5) &\n",
    "    (df2['충전시작_시'] >= 0) & (df2['충전시작_시'] < 1) & (df2['충전소명'] == '내린천휴게소 양양방향')].iloc[:10, :7]"
   ]
  },
  {
   "cell_type": "code",
   "execution_count": 11,
   "metadata": {},
   "outputs": [
    {
     "data": {
      "text/plain": [
       "array([1], dtype=int8)"
      ]
     },
     "execution_count": 11,
     "metadata": {},
     "output_type": "execute_result"
    }
   ],
   "source": [
    "df2[(df2['충전시작_년도'] == 2020) & \n",
    "    (df2['충전시작_월'] >= 1) & (df2['충전시작_월'] <= 3) & (df2['충전시작_일'] == 5) &\n",
    "    (df2['충전시작_시'] >= 0) & (df2['충전시작_시'] < 1) & (df2['충전소명'] == '내린천휴게소 양양방향')]['충전기ID'].unique()"
   ]
  },
  {
   "cell_type": "code",
   "execution_count": 12,
   "metadata": {},
   "outputs": [],
   "source": [
    "# 시간 오래걸림\n",
    "    # 53분동안 2020년도 처리 안됨\n",
    "# num_charger_by_hours = pd.DataFrame(columns=['년도', '월', '일', '시간', '충전기대수'])\n",
    "# for y in tqdm(range(2020, 2023)):\n",
    "#     temp_y = df2[df2['충전시작_년도'] == y].reset_index(drop=True)\n",
    "#     for m in range(1, 11, 3):\n",
    "#         temp_m = temp_y[(temp_y['충전시작_월'] >= m) & (temp_y['충전시작_월'] <= m+2)].reset_index(drop=True)\n",
    "#         for d in temp_m['충전시작_일'].unique():\n",
    "#             temp_d = temp_m[temp_m['충전시작_일'] == d].reset_index(drop=True)\n",
    "#             for h in range(24):\n",
    "#                 temp_h = temp_m[(temp_m['충전시작_시'] >= h) & (temp_m['충전시작_시'] < h+1)].reset_index(drop=True)\n",
    "#                 count = 0\n",
    "#                 for one in temp_h['충전소명'].unique():\n",
    "#                     num_charger = len(temp_h[temp_h['충전소명'] == one]['충전기ID'].unique())\n",
    "#                     count += num_charger\n",
    "#                 num_charger_by_hours.loc[len(num_charger_by_hours)] = [y, m, d, h, count]"
   ]
  },
  {
   "cell_type": "code",
   "execution_count": 32,
   "metadata": {},
   "outputs": [
    {
     "name": "stdout",
     "output_type": "stream",
     "text": [
      "<class 'pandas.core.frame.DataFrame'>\n",
      "RangeIndex: 10192033 entries, 0 to 10192032\n",
      "Data columns (total 40 columns):\n",
      " #   Column        Dtype          \n",
      "---  ------        -----          \n",
      " 0   충전소명          object         \n",
      " 1   충전기ID         int8           \n",
      " 2   지역            object         \n",
      " 3   시군구           object         \n",
      " 4   주소            object         \n",
      " 5   충전기타입         object         \n",
      " 6   충전시작일시        int64          \n",
      " 7   충전종료일시        int64          \n",
      " 8   충전시간          timedelta64[ns]\n",
      " 9   충전량           float64        \n",
      " 10  충전용량          object         \n",
      " 11  충전시작_년도       int16          \n",
      " 12  충전시작_월        int8           \n",
      " 13  충전시작_일        int8           \n",
      " 14  충전시작_시        int8           \n",
      " 15  충전시작_분        int8           \n",
      " 16  충전시작_초        int8           \n",
      " 17  충전시작일시(변환)    object         \n",
      " 18  충전종료_년도       int16          \n",
      " 19  충전종료_월        int8           \n",
      " 20  충전종료_일        int8           \n",
      " 21  충전종료_시        int8           \n",
      " 22  충전종료_분        int8           \n",
      " 23  충전종료_초        int8           \n",
      " 24  충전종료일시(변환)    object         \n",
      " 25  충전시간(계산)      timedelta64[ns]\n",
      " 26  raw값과_계산값_차이  object         \n",
      " 27  0             object         \n",
      " 28  1             object         \n",
      " 29  2             object         \n",
      " 30  3             object         \n",
      " 31  4             object         \n",
      " 32  5             object         \n",
      " 33  6             object         \n",
      " 34  7             object         \n",
      " 35  8             object         \n",
      " 36  9             object         \n",
      " 37  10            object         \n",
      " 38  11            object         \n",
      " 39  12            object         \n",
      "dtypes: float64(1), int16(2), int64(2), int8(11), object(22), timedelta64[ns](2)\n",
      "memory usage: 2.2+ GB\n"
     ]
    }
   ],
   "source": [
    "ymdh_col = ['충전시작_년도', '충전시작_월', '충전시작_일', '충전시작_시', '충전소명', '충전기ID']\n",
    "ymdh = df2.drop_duplicates(ymdh_col, keep='first').reset_index(drop=True)\n",
    "ymdh.info()"
   ]
  },
  {
   "cell_type": "markdown",
   "metadata": {},
   "source": [
    "#### 분기 컬럼 생성"
   ]
  },
  {
   "cell_type": "code",
   "execution_count": 33,
   "metadata": {},
   "outputs": [
    {
     "name": "stderr",
     "output_type": "stream",
     "text": [
      "100%|██████████| 10192033/10192033 [00:04<00:00, 2060263.56it/s]\n"
     ]
    },
    {
     "data": {
      "text/plain": [
       "True"
      ]
     },
     "execution_count": 33,
     "metadata": {},
     "output_type": "execute_result"
    }
   ],
   "source": [
    "div_month = []\n",
    "for i in tqdm(ymdh['충전시작_월'].to_list()):\n",
    "    if (i >= 1) and (i <= 3):\n",
    "        div_month.append(1)\n",
    "    elif (i >= 4) and (i <= 6):\n",
    "        div_month.append(2)\n",
    "    elif (i >= 7) and (i <= 9):\n",
    "        div_month.append(3)\n",
    "    else:\n",
    "        div_month.append(4)\n",
    "len(div_month) == 10192033"
   ]
  },
  {
   "cell_type": "code",
   "execution_count": 34,
   "metadata": {},
   "outputs": [
    {
     "data": {
      "text/html": [
       "<div>\n",
       "<style scoped>\n",
       "    .dataframe tbody tr th:only-of-type {\n",
       "        vertical-align: middle;\n",
       "    }\n",
       "\n",
       "    .dataframe tbody tr th {\n",
       "        vertical-align: top;\n",
       "    }\n",
       "\n",
       "    .dataframe thead th {\n",
       "        text-align: right;\n",
       "    }\n",
       "</style>\n",
       "<table border=\"1\" class=\"dataframe\">\n",
       "  <thead>\n",
       "    <tr style=\"text-align: right;\">\n",
       "      <th></th>\n",
       "      <th>충전시작일시</th>\n",
       "      <th>충전종료일시</th>\n",
       "      <th>충전시간</th>\n",
       "      <th>충전량</th>\n",
       "      <th>충전용량</th>\n",
       "      <th>충전시작_년도</th>\n",
       "      <th>충전시작_월</th>\n",
       "      <th>충전시작_일</th>\n",
       "      <th>충전시작_시</th>\n",
       "      <th>충전시작_분</th>\n",
       "      <th>...</th>\n",
       "      <th>4</th>\n",
       "      <th>5</th>\n",
       "      <th>6</th>\n",
       "      <th>7</th>\n",
       "      <th>8</th>\n",
       "      <th>9</th>\n",
       "      <th>10</th>\n",
       "      <th>11</th>\n",
       "      <th>12</th>\n",
       "      <th>충전시작_분기</th>\n",
       "    </tr>\n",
       "  </thead>\n",
       "  <tbody>\n",
       "    <tr>\n",
       "      <th>0</th>\n",
       "      <td>20200101000244</td>\n",
       "      <td>20200101004215</td>\n",
       "      <td>0 days 00:39:25</td>\n",
       "      <td>20.22000</td>\n",
       "      <td>50.00000</td>\n",
       "      <td>2020</td>\n",
       "      <td>1</td>\n",
       "      <td>1</td>\n",
       "      <td>0</td>\n",
       "      <td>2</td>\n",
       "      <td>...</td>\n",
       "      <td>94-4</td>\n",
       "      <td>주유소</td>\n",
       "      <td>옆</td>\n",
       "      <td>주차장</td>\n",
       "      <td>NaN</td>\n",
       "      <td>NaN</td>\n",
       "      <td>NaN</td>\n",
       "      <td>NaN</td>\n",
       "      <td>NaN</td>\n",
       "      <td>1</td>\n",
       "    </tr>\n",
       "    <tr>\n",
       "      <th>1</th>\n",
       "      <td>20200101000745</td>\n",
       "      <td>20200101003703</td>\n",
       "      <td>0 days 00:29:13</td>\n",
       "      <td>16.04000</td>\n",
       "      <td>50.00000</td>\n",
       "      <td>2020</td>\n",
       "      <td>1</td>\n",
       "      <td>1</td>\n",
       "      <td>0</td>\n",
       "      <td>7</td>\n",
       "      <td>...</td>\n",
       "      <td>민속자연사박물관</td>\n",
       "      <td>NaN</td>\n",
       "      <td>NaN</td>\n",
       "      <td>NaN</td>\n",
       "      <td>NaN</td>\n",
       "      <td>NaN</td>\n",
       "      <td>NaN</td>\n",
       "      <td>NaN</td>\n",
       "      <td>NaN</td>\n",
       "      <td>1</td>\n",
       "    </tr>\n",
       "    <tr>\n",
       "      <th>2</th>\n",
       "      <td>20200101000748</td>\n",
       "      <td>20200101001659</td>\n",
       "      <td>0 days 00:09:07</td>\n",
       "      <td>5.80000</td>\n",
       "      <td>50.00000</td>\n",
       "      <td>2020</td>\n",
       "      <td>1</td>\n",
       "      <td>1</td>\n",
       "      <td>0</td>\n",
       "      <td>7</td>\n",
       "      <td>...</td>\n",
       "      <td>주차장</td>\n",
       "      <td>NaN</td>\n",
       "      <td>NaN</td>\n",
       "      <td>NaN</td>\n",
       "      <td>NaN</td>\n",
       "      <td>NaN</td>\n",
       "      <td>NaN</td>\n",
       "      <td>NaN</td>\n",
       "      <td>NaN</td>\n",
       "      <td>1</td>\n",
       "    </tr>\n",
       "  </tbody>\n",
       "</table>\n",
       "<p>3 rows × 35 columns</p>\n",
       "</div>"
      ],
      "text/plain": [
       "           충전시작일시          충전종료일시            충전시간      충전량     충전용량  충전시작_년도  \\\n",
       "0  20200101000244  20200101004215 0 days 00:39:25 20.22000 50.00000     2020   \n",
       "1  20200101000745  20200101003703 0 days 00:29:13 16.04000 50.00000     2020   \n",
       "2  20200101000748  20200101001659 0 days 00:09:07  5.80000 50.00000     2020   \n",
       "\n",
       "   충전시작_월  충전시작_일  충전시작_시  충전시작_분  ...         4    5    6    7    8    9  \\\n",
       "0       1       1       0       2  ...      94-4  주유소    옆  주차장  NaN  NaN   \n",
       "1       1       1       0       7  ...  민속자연사박물관  NaN  NaN  NaN  NaN  NaN   \n",
       "2       1       1       0       7  ...       주차장  NaN  NaN  NaN  NaN  NaN   \n",
       "\n",
       "    10   11   12 충전시작_분기  \n",
       "0  NaN  NaN  NaN       1  \n",
       "1  NaN  NaN  NaN       1  \n",
       "2  NaN  NaN  NaN       1  \n",
       "\n",
       "[3 rows x 35 columns]"
      ]
     },
     "execution_count": 34,
     "metadata": {},
     "output_type": "execute_result"
    }
   ],
   "source": [
    "ymdh['충전시작_분기'] = div_month\n",
    "ymdh.iloc[:3, 6:]"
   ]
  },
  {
   "cell_type": "code",
   "execution_count": 35,
   "metadata": {},
   "outputs": [
    {
     "data": {
      "text/html": [
       "<div>\n",
       "<style scoped>\n",
       "    .dataframe tbody tr th:only-of-type {\n",
       "        vertical-align: middle;\n",
       "    }\n",
       "\n",
       "    .dataframe tbody tr th {\n",
       "        vertical-align: top;\n",
       "    }\n",
       "\n",
       "    .dataframe thead th {\n",
       "        text-align: right;\n",
       "    }\n",
       "</style>\n",
       "<table border=\"1\" class=\"dataframe\">\n",
       "  <thead>\n",
       "    <tr style=\"text-align: right;\">\n",
       "      <th></th>\n",
       "      <th>충전시작일시</th>\n",
       "      <th>충전종료일시</th>\n",
       "      <th>충전시간</th>\n",
       "      <th>충전량</th>\n",
       "      <th>충전용량</th>\n",
       "      <th>충전시작_년도</th>\n",
       "      <th>충전시작_월</th>\n",
       "      <th>충전시작_일</th>\n",
       "      <th>충전시작_시</th>\n",
       "      <th>충전시작_분</th>\n",
       "      <th>...</th>\n",
       "      <th>4</th>\n",
       "      <th>5</th>\n",
       "      <th>6</th>\n",
       "      <th>7</th>\n",
       "      <th>8</th>\n",
       "      <th>9</th>\n",
       "      <th>10</th>\n",
       "      <th>11</th>\n",
       "      <th>12</th>\n",
       "      <th>충전시작_분기</th>\n",
       "    </tr>\n",
       "  </thead>\n",
       "  <tbody>\n",
       "    <tr>\n",
       "      <th>10192028</th>\n",
       "      <td>20220831235823</td>\n",
       "      <td>20220901001839</td>\n",
       "      <td>0 days 00:20:01</td>\n",
       "      <td>19.22000</td>\n",
       "      <td>급속(200kW동시)</td>\n",
       "      <td>2022</td>\n",
       "      <td>8</td>\n",
       "      <td>31</td>\n",
       "      <td>23</td>\n",
       "      <td>58</td>\n",
       "      <td>...</td>\n",
       "      <td>1271-11</td>\n",
       "      <td>NaN</td>\n",
       "      <td>NaN</td>\n",
       "      <td>NaN</td>\n",
       "      <td>NaN</td>\n",
       "      <td>NaN</td>\n",
       "      <td>NaN</td>\n",
       "      <td>NaN</td>\n",
       "      <td>NaN</td>\n",
       "      <td>3</td>\n",
       "    </tr>\n",
       "    <tr>\n",
       "      <th>10192029</th>\n",
       "      <td>20220831235909</td>\n",
       "      <td>20220901000721</td>\n",
       "      <td>0 days 00:04:53</td>\n",
       "      <td>3.35000</td>\n",
       "      <td>급속(50kW)</td>\n",
       "      <td>2022</td>\n",
       "      <td>8</td>\n",
       "      <td>31</td>\n",
       "      <td>23</td>\n",
       "      <td>59</td>\n",
       "      <td>...</td>\n",
       "      <td>NaN</td>\n",
       "      <td>NaN</td>\n",
       "      <td>NaN</td>\n",
       "      <td>NaN</td>\n",
       "      <td>NaN</td>\n",
       "      <td>NaN</td>\n",
       "      <td>NaN</td>\n",
       "      <td>NaN</td>\n",
       "      <td>NaN</td>\n",
       "      <td>3</td>\n",
       "    </tr>\n",
       "    <tr>\n",
       "      <th>10192030</th>\n",
       "      <td>20220831235914</td>\n",
       "      <td>20220901002120</td>\n",
       "      <td>0 days 00:22:06</td>\n",
       "      <td>30.14000</td>\n",
       "      <td>급속(100kW멀티)</td>\n",
       "      <td>2022</td>\n",
       "      <td>8</td>\n",
       "      <td>31</td>\n",
       "      <td>23</td>\n",
       "      <td>59</td>\n",
       "      <td>...</td>\n",
       "      <td>NaN</td>\n",
       "      <td>NaN</td>\n",
       "      <td>NaN</td>\n",
       "      <td>NaN</td>\n",
       "      <td>NaN</td>\n",
       "      <td>NaN</td>\n",
       "      <td>NaN</td>\n",
       "      <td>NaN</td>\n",
       "      <td>NaN</td>\n",
       "      <td>3</td>\n",
       "    </tr>\n",
       "    <tr>\n",
       "      <th>10192031</th>\n",
       "      <td>20220831235931</td>\n",
       "      <td>20220901004251</td>\n",
       "      <td>0 days 00:40:00</td>\n",
       "      <td>21.97000</td>\n",
       "      <td>급속(50kW)</td>\n",
       "      <td>2022</td>\n",
       "      <td>8</td>\n",
       "      <td>31</td>\n",
       "      <td>23</td>\n",
       "      <td>59</td>\n",
       "      <td>...</td>\n",
       "      <td>검단4동</td>\n",
       "      <td>주민센터</td>\n",
       "      <td>옆</td>\n",
       "      <td>NaN</td>\n",
       "      <td>NaN</td>\n",
       "      <td>NaN</td>\n",
       "      <td>NaN</td>\n",
       "      <td>NaN</td>\n",
       "      <td>NaN</td>\n",
       "      <td>3</td>\n",
       "    </tr>\n",
       "    <tr>\n",
       "      <th>10192032</th>\n",
       "      <td>20220831235934</td>\n",
       "      <td>20220901004057</td>\n",
       "      <td>0 days 00:40:00</td>\n",
       "      <td>27.60000</td>\n",
       "      <td>급속(50kW)</td>\n",
       "      <td>2022</td>\n",
       "      <td>8</td>\n",
       "      <td>31</td>\n",
       "      <td>23</td>\n",
       "      <td>59</td>\n",
       "      <td>...</td>\n",
       "      <td>NaN</td>\n",
       "      <td>NaN</td>\n",
       "      <td>NaN</td>\n",
       "      <td>NaN</td>\n",
       "      <td>NaN</td>\n",
       "      <td>NaN</td>\n",
       "      <td>NaN</td>\n",
       "      <td>NaN</td>\n",
       "      <td>NaN</td>\n",
       "      <td>3</td>\n",
       "    </tr>\n",
       "  </tbody>\n",
       "</table>\n",
       "<p>5 rows × 35 columns</p>\n",
       "</div>"
      ],
      "text/plain": [
       "                  충전시작일시          충전종료일시            충전시간      충전량  \\\n",
       "10192028  20220831235823  20220901001839 0 days 00:20:01 19.22000   \n",
       "10192029  20220831235909  20220901000721 0 days 00:04:53  3.35000   \n",
       "10192030  20220831235914  20220901002120 0 days 00:22:06 30.14000   \n",
       "10192031  20220831235931  20220901004251 0 days 00:40:00 21.97000   \n",
       "10192032  20220831235934  20220901004057 0 days 00:40:00 27.60000   \n",
       "\n",
       "                 충전용량  충전시작_년도  충전시작_월  충전시작_일  충전시작_시  충전시작_분  ...        4  \\\n",
       "10192028  급속(200kW동시)     2022       8      31      23      58  ...  1271-11   \n",
       "10192029     급속(50kW)     2022       8      31      23      59  ...      NaN   \n",
       "10192030  급속(100kW멀티)     2022       8      31      23      59  ...      NaN   \n",
       "10192031     급속(50kW)     2022       8      31      23      59  ...     검단4동   \n",
       "10192032     급속(50kW)     2022       8      31      23      59  ...      NaN   \n",
       "\n",
       "             5    6    7    8    9   10   11   12 충전시작_분기  \n",
       "10192028   NaN  NaN  NaN  NaN  NaN  NaN  NaN  NaN       3  \n",
       "10192029   NaN  NaN  NaN  NaN  NaN  NaN  NaN  NaN       3  \n",
       "10192030   NaN  NaN  NaN  NaN  NaN  NaN  NaN  NaN       3  \n",
       "10192031  주민센터    옆  NaN  NaN  NaN  NaN  NaN  NaN       3  \n",
       "10192032   NaN  NaN  NaN  NaN  NaN  NaN  NaN  NaN       3  \n",
       "\n",
       "[5 rows x 35 columns]"
      ]
     },
     "execution_count": 35,
     "metadata": {},
     "output_type": "execute_result"
    }
   ],
   "source": [
    "ymdh.iloc[-5:, 6:]"
   ]
  },
  {
   "cell_type": "code",
   "execution_count": 36,
   "metadata": {},
   "outputs": [
    {
     "data": {
      "text/plain": [
       "충전시작_년도  충전시작_월  충전시작_일  충전시작_시\n",
       "2020     1       1       0           29\n",
       "                         1           27\n",
       "                         2           29\n",
       "                         3           58\n",
       "                         4           57\n",
       "                                   ... \n",
       "2022     8       31      19        1062\n",
       "                         20         931\n",
       "                         21         731\n",
       "                         22         516\n",
       "                         23         387\n",
       "Name: 충전기_수(대), Length: 23376, dtype: int64"
      ]
     },
     "execution_count": 36,
     "metadata": {},
     "output_type": "execute_result"
    }
   ],
   "source": [
    "group_ymdh = ymdh.groupby(['충전시작_년도', '충전시작_월', '충전시작_일', '충전시작_시'])['충전기ID'].count().rename('충전기_수(대)')\n",
    "group_ymdh"
   ]
  },
  {
   "cell_type": "code",
   "execution_count": 37,
   "metadata": {},
   "outputs": [
    {
     "data": {
      "text/plain": [
       "충전시작_년도  충전시작_분기  충전시작_시\n",
       "2020     1        0          6395\n",
       "                  1          4578\n",
       "                  2          3370\n",
       "                  3          2813\n",
       "                  4          2871\n",
       "                            ...  \n",
       "2022     3        19        63619\n",
       "                  20        52697\n",
       "                  21        42154\n",
       "                  22        30622\n",
       "                  23        21767\n",
       "Name: 충전기_수(대), Length: 264, dtype: int64"
      ]
     },
     "execution_count": 37,
     "metadata": {},
     "output_type": "execute_result"
    }
   ],
   "source": [
    "group_div = ymdh.groupby(['충전시작_년도', '충전시작_분기', '충전시작_시'])['충전기ID'].count().rename('충전기_수(대)')\n",
    "group_div"
   ]
  },
  {
   "cell_type": "code",
   "execution_count": 38,
   "metadata": {},
   "outputs": [
    {
     "data": {
      "text/plain": [
       "충전시작_월  충전시작_시\n",
       "1       0         11834\n",
       "        1          8327\n",
       "        2          6264\n",
       "        3          5245\n",
       "        4          5920\n",
       "                  ...  \n",
       "12      19        38803\n",
       "        20        32514\n",
       "        21        26057\n",
       "        22        19559\n",
       "        23        13514\n",
       "Name: 충전기_수(대), Length: 288, dtype: int64"
      ]
     },
     "execution_count": 38,
     "metadata": {},
     "output_type": "execute_result"
    }
   ],
   "source": [
    "group_m = ymdh.groupby(['충전시작_월', '충전시작_시'])['충전기ID'].count().rename('충전기_수(대)')\n",
    "group_m"
   ]
  },
  {
   "cell_type": "code",
   "execution_count": 39,
   "metadata": {},
   "outputs": [
    {
     "data": {
      "text/plain": [
       "충전시작_시\n",
       "0     130386\n",
       "1      97321\n",
       "2      74491\n",
       "3      64911\n",
       "4      77421\n",
       "5     127063\n",
       "6     214952\n",
       "7     305332\n",
       "8     424905\n",
       "9     512267\n",
       "10    591077\n",
       "11    664360\n",
       "12    738851\n",
       "13    721442\n",
       "14    738600\n",
       "15    759144\n",
       "16    760384\n",
       "17    715055\n",
       "18    641412\n",
       "19    549712\n",
       "20    459797\n",
       "21    367166\n",
       "22    269420\n",
       "23    186564\n",
       "Name: 충전기_수(대), dtype: int64"
      ]
     },
     "execution_count": 39,
     "metadata": {},
     "output_type": "execute_result"
    }
   ],
   "source": [
    "group_h = ymdh.groupby(['충전시작_시'])['충전기ID'].count().rename('충전기_수(대)')\n",
    "group_h"
   ]
  },
  {
   "cell_type": "code",
   "execution_count": 40,
   "metadata": {},
   "outputs": [],
   "source": [
    "ymdh_file = pd.ExcelWriter('분석/2020-22년_년월일시간별_충전시간.xlsx')\n",
    "group_h.to_excel(ymdh_file, sheet_name='시간')\n",
    "group_m.to_excel(ymdh_file, sheet_name='월')\n",
    "group_div.to_excel(ymdh_file, sheet_name='분기')\n",
    "group_ymdh.to_excel(ymdh_file, sheet_name='년월일시간')\n",
    "ymdh_file.save()"
   ]
  },
  {
   "cell_type": "markdown",
   "metadata": {},
   "source": [
    "### 년도/지역별 충전기 수 통계"
   ]
  },
  {
   "cell_type": "code",
   "execution_count": 13,
   "metadata": {},
   "outputs": [
    {
     "name": "stdout",
     "output_type": "stream",
     "text": [
      "<class 'pandas.core.frame.DataFrame'>\n",
      "RangeIndex: 5 entries, 0 to 4\n",
      "Data columns (total 13 columns):\n",
      " #   Column  Non-Null Count  Dtype \n",
      "---  ------  --------------  ----- \n",
      " 0   0       5 non-null      object\n",
      " 1   1       5 non-null      object\n",
      " 2   2       5 non-null      object\n",
      " 3   3       5 non-null      object\n",
      " 4   4       5 non-null      object\n",
      " 5   5       1 non-null      object\n",
      " 6   6       1 non-null      object\n",
      " 7   7       1 non-null      object\n",
      " 8   8       0 non-null      object\n",
      " 9   9       0 non-null      object\n",
      " 10  10      0 non-null      object\n",
      " 11  11      0 non-null      object\n",
      " 12  12      0 non-null      object\n",
      "dtypes: object(13)\n",
      "memory usage: 648.0+ bytes\n"
     ]
    }
   ],
   "source": [
    "df2.iloc[:5, 27:].info()"
   ]
  },
  {
   "cell_type": "code",
   "execution_count": 14,
   "metadata": {},
   "outputs": [
    {
     "data": {
      "text/plain": [
       "array(['경상남도', '제주특별자치도', '경상북도', '강원도', '대전광역시', '충청남도', '충청북도', '부산광역시',\n",
       "       '경기도', '전라남도', '대구광역시', '광주광역시', '서울특별시', '울산광역시', '전라북도', '인천광역시',\n",
       "       '세종특별자치시'], dtype=object)"
      ]
     },
     "execution_count": 14,
     "metadata": {},
     "output_type": "execute_result"
    }
   ],
   "source": [
    "df2['0'].unique()"
   ]
  },
  {
   "cell_type": "code",
   "execution_count": 15,
   "metadata": {},
   "outputs": [
    {
     "data": {
      "text/plain": [
       "(17585, 40)"
      ]
     },
     "execution_count": 15,
     "metadata": {},
     "output_type": "execute_result"
    }
   ],
   "source": [
    "# 3.8s\n",
    "numch_col = ['충전시작_년도', '충전소명', '충전기ID']\n",
    "numch = df2.drop_duplicates(numch_col, keep='first').reset_index(drop=True)\n",
    "numch.shape"
   ]
  },
  {
   "cell_type": "code",
   "execution_count": 16,
   "metadata": {},
   "outputs": [
    {
     "data": {
      "text/plain": [
       "충전시작_년도  0      \n",
       "2020     강원도        428\n",
       "         경기도        552\n",
       "         경상남도       407\n",
       "         경상북도       571\n",
       "         광주광역시       84\n",
       "         대구광역시      147\n",
       "         대전광역시       97\n",
       "         부산광역시       96\n",
       "         서울특별시      258\n",
       "         세종특별자치시     46\n",
       "         울산광역시      133\n",
       "         인천광역시      128\n",
       "         전라남도       419\n",
       "         전라북도       304\n",
       "         제주특별자치도    250\n",
       "         충청남도       382\n",
       "         충청북도       270\n",
       "2021     강원도        542\n",
       "         경기도        763\n",
       "         경상남도       604\n",
       "         경상북도       803\n",
       "         광주광역시      112\n",
       "         대구광역시      176\n",
       "         대전광역시      115\n",
       "         부산광역시       96\n",
       "         서울특별시      300\n",
       "         세종특별자치시     49\n",
       "         울산광역시      158\n",
       "         인천광역시      163\n",
       "         전라남도       608\n",
       "         전라북도       499\n",
       "         제주특별자치도    249\n",
       "         충청남도       501\n",
       "         충청북도       353\n",
       "2022     강원도        596\n",
       "         경기도        880\n",
       "         경상남도       687\n",
       "         경상북도       903\n",
       "         광주광역시      133\n",
       "         대구광역시      187\n",
       "         대전광역시      134\n",
       "         부산광역시      108\n",
       "         서울특별시      316\n",
       "         세종특별자치시     57\n",
       "         울산광역시      173\n",
       "         인천광역시      184\n",
       "         전라남도       680\n",
       "         전라북도       583\n",
       "         제주특별자치도    261\n",
       "         충청남도       601\n",
       "         충청북도       439\n",
       "Name: 충전기 수, dtype: int64"
      ]
     },
     "execution_count": 16,
     "metadata": {},
     "output_type": "execute_result"
    }
   ],
   "source": [
    "numch_group_ad1 = numch.groupby(['충전시작_년도', '0'])['충전기ID'].count().rename('충전기 수')\n",
    "numch_group_ad1"
   ]
  },
  {
   "cell_type": "code",
   "execution_count": 17,
   "metadata": {},
   "outputs": [
    {
     "data": {
      "text/plain": [
       "충전시작_년도  0     1  \n",
       "2020     강원도   강릉시     40\n",
       "               고성군     14\n",
       "               동해시     15\n",
       "               삼척시     43\n",
       "               속초시     16\n",
       "                     ... \n",
       "2022     충청북도  제천시     33\n",
       "               증평군      6\n",
       "               진천군     27\n",
       "               청주시    107\n",
       "               충주시     73\n",
       "Name: 충전기 수, Length: 744, dtype: int64"
      ]
     },
     "execution_count": 17,
     "metadata": {},
     "output_type": "execute_result"
    }
   ],
   "source": [
    "numch_group_ad2 = numch.groupby(['충전시작_년도', '0', '1'])['충전기ID'].count().rename('충전기 수')\n",
    "numch_group_ad2"
   ]
  },
  {
   "cell_type": "code",
   "execution_count": 18,
   "metadata": {},
   "outputs": [
    {
     "data": {
      "text/plain": [
       "충전시작_년도  0     1    2    \n",
       "2020     강원도   강릉시  강동면       4\n",
       "                    강릉대로      1\n",
       "                    구정면       6\n",
       "                    남산초교길     2\n",
       "                    남항진동      2\n",
       "                             ..\n",
       "2022     충청북도  충주시  용탄동       1\n",
       "                    으뜸로       1\n",
       "                    주덕읍       1\n",
       "                    중앙탑면     12\n",
       "                    지현동       1\n",
       "Name: 충전기 수, Length: 6310, dtype: int64"
      ]
     },
     "execution_count": 18,
     "metadata": {},
     "output_type": "execute_result"
    }
   ],
   "source": [
    "numch_group_ad3 = numch.groupby(['충전시작_년도', '0', '1', '2'])['충전기ID'].count().rename('충전기 수')\n",
    "numch_group_ad3"
   ]
  },
  {
   "cell_type": "code",
   "execution_count": 19,
   "metadata": {},
   "outputs": [
    {
     "data": {
      "text/plain": [
       "충전시작_년도  0     1    2     3       \n",
       "2020     강원도   강릉시  강동면   와천로          3\n",
       "                          정동역길         1\n",
       "                    강릉대로  33           1\n",
       "                    구정면   동해고속도로       3\n",
       "                          회산로          3\n",
       "                                      ..\n",
       "2022     충청북도  충주시  으뜸로   21           1\n",
       "                    주덕읍   신덕로          1\n",
       "                    중앙탑면  중부내륙고속도로    11\n",
       "                          탑평리          1\n",
       "                    지현동   696          1\n",
       "Name: 충전기 수, Length: 9496, dtype: int64"
      ]
     },
     "execution_count": 19,
     "metadata": {},
     "output_type": "execute_result"
    }
   ],
   "source": [
    "numch_group_ad4 = numch.groupby(['충전시작_년도', '0', '1', '2', '3'])['충전기ID'].count().rename('충전기 수')\n",
    "numch_group_ad4"
   ]
  },
  {
   "cell_type": "code",
   "execution_count": 55,
   "metadata": {},
   "outputs": [],
   "source": [
    "numch_group_file = pd.ExcelWriter('분석/2020-22년_년도_지역별_충전기_수.xlsx')\n",
    "numch_group_ad1.to_excel(numch_group_file, sheet_name='지역')\n",
    "numch_group_ad2.to_excel(numch_group_file, sheet_name='시군구')\n",
    "numch_group_ad3.to_excel(numch_group_file, sheet_name='읍면동')\n",
    "numch_group_ad4.to_excel(numch_group_file, sheet_name='리')\n",
    "numch_group_file.save()"
   ]
  },
  {
   "cell_type": "markdown",
   "metadata": {},
   "source": [
    "### 연도/지역별 충전기ID 개수"
   ]
  },
  {
   "cell_type": "code",
   "execution_count": 24,
   "metadata": {},
   "outputs": [
    {
     "data": {
      "text/plain": [
       "충전시작_년도  지역    시군구  충전기ID\n",
       "2020     강원도   강릉시  1        15\n",
       "                    2        11\n",
       "                    3         5\n",
       "                    4         1\n",
       "                    21        1\n",
       "                             ..\n",
       "2022     충청북도  충주시  44        2\n",
       "                    45        1\n",
       "                    81        1\n",
       "                    82        1\n",
       "                    91        1\n",
       "Name: 충전기ID 수, Length: 5040, dtype: int64"
      ]
     },
     "execution_count": 24,
     "metadata": {},
     "output_type": "execute_result"
    }
   ],
   "source": [
    "numch_group_chargerID = numch.groupby(['충전시작_년도', '지역', '시군구', '충전기ID'])['주소'].count().rename('충전기ID 수')\n",
    "numch_group_chargerID"
   ]
  },
  {
   "cell_type": "code",
   "execution_count": 28,
   "metadata": {},
   "outputs": [
    {
     "data": {
      "text/plain": [
       "지역    시군구  충전기ID  충전시작_년도\n",
       "강원도   강릉시  1      2020       15\n",
       "                  2021       17\n",
       "                  2022       20\n",
       "           2      2020       11\n",
       "                  2021       11\n",
       "                             ..\n",
       "충청북도  충주시  81     2022        1\n",
       "           82     2022        1\n",
       "           91     2020        1\n",
       "                  2021        1\n",
       "                  2022        1\n",
       "Name: 충전기ID 수, Length: 5040, dtype: int64"
      ]
     },
     "execution_count": 28,
     "metadata": {},
     "output_type": "execute_result"
    }
   ],
   "source": [
    "numch_group_chargerID_y = numch.groupby(['지역', '시군구', '충전기ID', '충전시작_년도'])['주소'].count().rename('충전기ID 수')\n",
    "numch_group_chargerID_y"
   ]
  },
  {
   "cell_type": "code",
   "execution_count": 49,
   "metadata": {},
   "outputs": [
    {
     "data": {
      "text/plain": [
       "지역    시군구  충전시작_년도\n",
       "강원도   강릉시  2020                [4, 1, 3, 2, 52, 42, 41, 43, 44, 21, 22]\n",
       "           2021            [3, 1, 52, 2, 4, 42, 43, 41, 22, 21, 44, 45]\n",
       "           2022               [1, 2, 3, 52, 22, 21, 42, 45, 43, 41, 44]\n",
       "      고성군  2020                                          [12, 11, 1, 2]\n",
       "           2021                                          [12, 2, 1, 11]\n",
       "                                            ...                        \n",
       "충청북도  청주시  2021          [1, 43, 2, 12, 11, 42, 52, 41, 45, 22, 21, 44]\n",
       "           2022       [1, 12, 41, 11, 2, 21, 22, 52, 44, 42, 45, 43,...\n",
       "      충주시  2020          [1, 11, 12, 2, 91, 41, 42, 45, 44, 43, 21, 22]\n",
       "           2021       [1, 12, 42, 41, 2, 43, 11, 44, 45, 91, 22, 21,...\n",
       "           2022       [1, 12, 21, 22, 91, 2, 44, 42, 45, 24, 43, 11,...\n",
       "Name: 충전기ID 값, Length: 744, dtype: object"
      ]
     },
     "execution_count": 49,
     "metadata": {},
     "output_type": "execute_result"
    }
   ],
   "source": [
    "numch_group_chargerID_y_u = numch.groupby(['지역', '시군구', '충전시작_년도'])['충전기ID'].unique().rename('충전기ID 값')\n",
    "numch_group_chargerID_y_u"
   ]
  },
  {
   "cell_type": "code",
   "execution_count": 50,
   "metadata": {},
   "outputs": [
    {
     "data": {
      "text/plain": [
       "(744,)"
      ]
     },
     "execution_count": 50,
     "metadata": {},
     "output_type": "execute_result"
    }
   ],
   "source": [
    "numch_group_chargerID_y_u.shape"
   ]
  },
  {
   "cell_type": "code",
   "execution_count": 51,
   "metadata": {},
   "outputs": [
    {
     "data": {
      "text/plain": [
       "array([ 4,  1,  3,  2, 52, 42, 41, 43, 44, 21, 22], dtype=int8)"
      ]
     },
     "execution_count": 51,
     "metadata": {},
     "output_type": "execute_result"
    }
   ],
   "source": [
    "numch_group_chargerID_y_u.iloc[0]"
   ]
  },
  {
   "cell_type": "code",
   "execution_count": 52,
   "metadata": {},
   "outputs": [],
   "source": [
    "for i, one in enumerate(numch_group_chargerID_y_u):\n",
    "    numch_group_chargerID_y_u.iloc[i] = sorted(one)"
   ]
  },
  {
   "cell_type": "code",
   "execution_count": 53,
   "metadata": {},
   "outputs": [
    {
     "data": {
      "text/plain": [
       "지역    시군구  충전시작_년도\n",
       "강원도   강릉시  2020                [1, 2, 3, 4, 21, 22, 41, 42, 43, 44, 52]\n",
       "           2021            [1, 2, 3, 4, 21, 22, 41, 42, 43, 44, 45, 52]\n",
       "           2022               [1, 2, 3, 21, 22, 41, 42, 43, 44, 45, 52]\n",
       "      고성군  2020                                          [1, 2, 11, 12]\n",
       "           2021                                          [1, 2, 11, 12]\n",
       "                                            ...                        \n",
       "충청북도  청주시  2021          [1, 2, 11, 12, 21, 22, 41, 42, 43, 44, 45, 52]\n",
       "           2022       [1, 2, 3, 11, 12, 21, 22, 23, 24, 41, 42, 43, ...\n",
       "      충주시  2020          [1, 2, 11, 12, 21, 22, 41, 42, 43, 44, 45, 91]\n",
       "           2021       [1, 2, 11, 12, 21, 22, 23, 24, 41, 42, 43, 44,...\n",
       "           2022       [1, 2, 3, 4, 11, 12, 21, 22, 23, 24, 41, 42, 4...\n",
       "Name: 충전기ID 값, Length: 744, dtype: object"
      ]
     },
     "execution_count": 53,
     "metadata": {},
     "output_type": "execute_result"
    }
   ],
   "source": [
    "numch_group_chargerID_y_u"
   ]
  },
  {
   "cell_type": "code",
   "execution_count": 54,
   "metadata": {},
   "outputs": [
    {
     "data": {
      "text/plain": [
       "지역    시군구  충전시작_년도\n",
       "강원도   강릉시  2020       11\n",
       "           2021       12\n",
       "           2022       11\n",
       "      고성군  2020        4\n",
       "           2021        4\n",
       "                      ..\n",
       "충청북도  청주시  2021       12\n",
       "           2022       15\n",
       "      충주시  2020       12\n",
       "           2021       14\n",
       "           2022       18\n",
       "Name: 충전기ID 개수, Length: 744, dtype: int64"
      ]
     },
     "execution_count": 54,
     "metadata": {},
     "output_type": "execute_result"
    }
   ],
   "source": [
    "numch_group_chargerID_y_nu = numch.groupby(['지역', '시군구', '충전시작_년도'])['충전기ID'].nunique().rename('충전기ID 개수')\n",
    "numch_group_chargerID_y_nu"
   ]
  },
  {
   "cell_type": "code",
   "execution_count": 55,
   "metadata": {},
   "outputs": [],
   "source": [
    "numch_group_chargerID_file = pd.ExcelWriter('분석/2020-22년_년도_지역별_충전기ID_수.xlsx')\n",
    "numch_group_chargerID.to_excel(numch_group_chargerID_file, sheet_name='sheet1')\n",
    "numch_group_chargerID_y.to_excel(numch_group_chargerID_file, sheet_name='sheet2')\n",
    "numch_group_chargerID_y_u.to_excel(numch_group_chargerID_file, sheet_name='sheet3')\n",
    "numch_group_chargerID_y_nu.to_excel(numch_group_chargerID_file, sheet_name='sheet4')\n",
    "numch_group_chargerID_file.save()"
   ]
  },
  {
   "cell_type": "markdown",
   "metadata": {},
   "source": [
    "# 코드 마지막"
   ]
  }
 ],
 "metadata": {
  "kernelspec": {
   "display_name": "Python 3.9.13 ('base')",
   "language": "python",
   "name": "python3"
  },
  "language_info": {
   "codemirror_mode": {
    "name": "ipython",
    "version": 3
   },
   "file_extension": ".py",
   "mimetype": "text/x-python",
   "name": "python",
   "nbconvert_exporter": "python",
   "pygments_lexer": "ipython3",
   "version": "3.9.13"
  },
  "orig_nbformat": 4,
  "vscode": {
   "interpreter": {
    "hash": "ad2bdc8ecc057115af97d19610ffacc2b4e99fae6737bb82f5d7fb13d2f2c186"
   }
  }
 },
 "nbformat": 4,
 "nbformat_minor": 2
}
