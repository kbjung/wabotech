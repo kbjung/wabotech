{
 "cells": [
  {
   "cell_type": "markdown",
   "metadata": {},
   "source": [
    "# 자동차 환경 빅데이터 3차\n",
    "- 과제2 : 건설기계 배출가스 관리 체게 구축\n",
    "- 과제4 : 배출가스 전문정비제도 관리체계 구축\n",
    "- 과제5 : 자동차 환경 빅데이터 제작사 공동 활용체게 구축"
   ]
  },
  {
   "cell_type": "code",
   "execution_count": null,
   "metadata": {},
   "outputs": [],
   "source": []
  }
 ],
 "metadata": {
  "language_info": {
   "name": "python"
  }
 },
 "nbformat": 4,
 "nbformat_minor": 2
}
