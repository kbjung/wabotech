{
 "cells": [
  {
   "attachments": {},
   "cell_type": "markdown",
   "metadata": {},
   "source": [
    "# Library"
   ]
  },
  {
   "cell_type": "code",
   "execution_count": 28,
   "metadata": {},
   "outputs": [],
   "source": [
    "import pandas as pd\n",
    "import numpy as np\n",
    "from tqdm import tqdm\n",
    "import os\n",
    "from datetime import datetime"
   ]
  },
  {
   "attachments": {},
   "cell_type": "markdown",
   "metadata": {},
   "source": [
    "# path"
   ]
  },
  {
   "cell_type": "code",
   "execution_count": 4,
   "metadata": {},
   "outputs": [],
   "source": [
    "drive = 'D'"
   ]
  },
  {
   "cell_type": "code",
   "execution_count": 94,
   "metadata": {},
   "outputs": [],
   "source": [
    "bd1_raw_fold = f'{drive}:/data/big2/BD1/raw'\n",
    "bd1_an_fold = f'{drive}:/data/big2/BD1/an'\n",
    "ods_fold = f'{drive}:/data/big2/ODS'\n",
    "big2_fold = 'D:/data/big2'"
   ]
  },
  {
   "attachments": {},
   "cell_type": "markdown",
   "metadata": {},
   "source": [
    "# 수정\n",
    "- 최초 result 파일에 있는 컬럼만 유지\n",
    "- 추가한 컬럼명 알기 쉽게 수정\n",
    "- 컬럼명 표준용어정의서에 따라 수정"
   ]
  },
  {
   "attachments": {},
   "cell_type": "markdown",
   "metadata": {},
   "source": [
    "## result 전체"
   ]
  },
  {
   "cell_type": "code",
   "execution_count": 56,
   "metadata": {},
   "outputs": [
    {
     "name": "stdout",
     "output_type": "stream",
     "text": [
      "<class 'pandas.core.frame.DataFrame'>\n",
      "RangeIndex: 1502235 entries, 0 to 1502234\n",
      "Data columns (total 44 columns):\n",
      " #   Column         Non-Null Count    Dtype  \n",
      "---  ------         --------------    -----  \n",
      " 0   차대번호           1502235 non-null  object \n",
      " 1   차량번호           1502235 non-null  object \n",
      " 2   제원관리번호         1502235 non-null  object \n",
      " 3   차종             1502235 non-null  object \n",
      " 4   용도             1502235 non-null  object \n",
      " 5   최초등록일          1502235 non-null  int64  \n",
      " 6   연식             1502235 non-null  int64  \n",
      " 7   제작일자           1335178 non-null  float64\n",
      " 8   검사유효일          1502223 non-null  float64\n",
      " 9   배출가스인증번호       1384783 non-null  object \n",
      " 10  등급             1502235 non-null  int64  \n",
      " 11  차명             1502235 non-null  object \n",
      " 12  차종분류           1502235 non-null  object \n",
      " 13  차종유형           1502235 non-null  object \n",
      " 14  자동차형식          1501958 non-null  object \n",
      " 15  제작사명           1492590 non-null  object \n",
      " 16  연료             1502235 non-null  object \n",
      " 17  엔진형식           1500400 non-null  object \n",
      " 18  총중량            1502234 non-null  float64\n",
      " 19  적재중량           1501728 non-null  float64\n",
      " 20  엔진출력           1501882 non-null  object \n",
      " 21  배기량            1502231 non-null  float64\n",
      " 22  법정동코드          1502235 non-null  int64  \n",
      " 23  시도명            1502235 non-null  object \n",
      " 24  시군구명           1502235 non-null  object \n",
      " 25  소유자구분          1502235 non-null  object \n",
      " 26  말소여부           1502235 non-null  object \n",
      " 27  일치유무           1153813 non-null  object \n",
      " 28  인증번호 수정 유무     1151141 non-null  object \n",
      " 29  배인번호_수정        1153813 non-null  object \n",
      " 30  등급_수정          1502235 non-null  float64\n",
      " 31  DPF유무_수정       1153813 non-null  object \n",
      " 32  배출가스           1151141 non-null  object \n",
      " 33  등급2            1151141 non-null  object \n",
      " 34  DPF            1144315 non-null  object \n",
      " 35  비고             46494 non-null    object \n",
      " 36  Grade          1497711 non-null  object \n",
      " 37  시군구명_수정        1494113 non-null  object \n",
      " 38  dong_code      1502235 non-null  int64  \n",
      " 39  E_CO_total     1497708 non-null  float64\n",
      " 40  E_HC_total     1497708 non-null  float64\n",
      " 41  E_NOx_total    1497708 non-null  float64\n",
      " 42  E_PM10_total   1497708 non-null  float64\n",
      " 43  E_PM2_5_total  1497708 non-null  float64\n",
      "dtypes: float64(11), int64(5), object(28)\n",
      "memory usage: 504.3+ MB\n"
     ]
    }
   ],
   "source": [
    "# about \n",
    "name = 'result(전체)_CAPSS_배출량(Grade추가)(dong_code추가)(2023.05.15)'\n",
    "file_name = f'{name}.csv'\n",
    "df = pd.read_csv(os.path.join(bd1_raw_fold, file_name), low_memory=False)\n",
    "df.info()"
   ]
  },
  {
   "cell_type": "code",
   "execution_count": 57,
   "metadata": {},
   "outputs": [
    {
     "data": {
      "text/plain": [
       "Index(['차대번호', '차량번호', '제원관리번호', '차종', '용도', '최초등록일', '연식', '제작일자', '검사유효일',\n",
       "       '배출가스인증번호', '등급', '차명', '차종분류', '차종유형', '자동차형식', '제작사명', '연료', '엔진형식',\n",
       "       '총중량', '적재중량', '엔진출력', '배기량', '법정동코드', '시도명', '시군구명', '소유자구분', '말소여부',\n",
       "       '일치유무', '인증번호 수정 유무', '배인번호_수정', '등급_수정', 'DPF유무_수정', '배출가스', '등급2',\n",
       "       'DPF', '비고', 'Grade', '시군구명_수정', 'dong_code', 'E_CO_total',\n",
       "       'E_HC_total', 'E_NOx_total', 'E_PM10_total', 'E_PM2_5_total'],\n",
       "      dtype='object')"
      ]
     },
     "execution_count": 57,
     "metadata": {},
     "output_type": "execute_result"
    }
   ],
   "source": [
    "df.columns"
   ]
  },
  {
   "attachments": {},
   "cell_type": "markdown",
   "metadata": {},
   "source": [
    "## 저감장치부착이력"
   ]
  },
  {
   "cell_type": "code",
   "execution_count": 48,
   "metadata": {},
   "outputs": [
    {
     "name": "stdout",
     "output_type": "stream",
     "text": [
      "<class 'pandas.core.frame.DataFrame'>\n",
      "RangeIndex: 810777 entries, 0 to 810776\n",
      "Data columns (total 16 columns):\n",
      " #   Column      Non-Null Count   Dtype  \n",
      "---  ------      --------------   -----  \n",
      " 0   저감장치종류      586898 non-null  object \n",
      " 1   PM최종저감효율    84460 non-null   float64\n",
      " 2   TDMS부착여부    204951 non-null  object \n",
      " 3   구조변경일자      810777 non-null  int64  \n",
      " 4   부착업체명       801632 non-null  object \n",
      " 5   부착일자        810775 non-null  float64\n",
      " 6   탈거승인일       178 non-null     float64\n",
      " 7   차량번호        810777 non-null  object \n",
      " 8   차대번호        810777 non-null  object \n",
      " 9   주행거리        796828 non-null  float64\n",
      " 10  저감장치반납여부    326030 non-null  object \n",
      " 11  저감장치구분      810777 non-null  object \n",
      " 12  저감등록번호      810777 non-null  int64  \n",
      " 13  재장착확인일자     441 non-null     float64\n",
      " 14  장치일련번호      682711 non-null  object \n",
      " 15  삼원촉매장치반납여부  13694 non-null   object \n",
      "dtypes: float64(5), int64(2), object(9)\n",
      "memory usage: 99.0+ MB\n"
     ]
    }
   ],
   "source": [
    "# about 4.4s\n",
    "name = '[ODS]저감장치부착이력(2022.12.28)'\n",
    "file_name = f'{name}.csv'\n",
    "att = pd.read_csv(os.path.join(ods_fold, file_name), low_memory=False, encoding='cp949')\n",
    "att.info()"
   ]
  },
  {
   "attachments": {},
   "cell_type": "markdown",
   "metadata": {},
   "source": [
    "### DPF유무 제작사 확인전 컬럼 추가"
   ]
  },
  {
   "cell_type": "code",
   "execution_count": 49,
   "metadata": {},
   "outputs": [
    {
     "data": {
      "text/plain": [
       "array(['엔진개조', '3종', '1종', '2종', '1종+SCR', '엔진교체', '삼원촉매'], dtype=object)"
      ]
     },
     "execution_count": 49,
     "metadata": {},
     "output_type": "execute_result"
    }
   ],
   "source": [
    "att['저감장치구분'].unique()"
   ]
  },
  {
   "cell_type": "code",
   "execution_count": 50,
   "metadata": {},
   "outputs": [
    {
     "data": {
      "text/plain": [
       "(296906, 16)"
      ]
     },
     "execution_count": 50,
     "metadata": {},
     "output_type": "execute_result"
    }
   ],
   "source": [
    "att.loc[(att['저감장치구분'] == '1종') | (att['저감장치구분'] == '1종+SCR')].shape"
   ]
  },
  {
   "cell_type": "code",
   "execution_count": 51,
   "metadata": {},
   "outputs": [],
   "source": [
    "att.loc[(att['저감장치구분'] == '1종') | (att['저감장치구분'] == '1종+SCR'), 'DPF유무_확인전'] = '유'\n",
    "att.loc[(att['저감장치구분'] != '1종') & (att['저감장치구분'] != '1종+SCR'), 'DPF유무_확인전'] = '무'"
   ]
  },
  {
   "cell_type": "code",
   "execution_count": 52,
   "metadata": {},
   "outputs": [
    {
     "data": {
      "text/plain": [
       "Index(['저감장치종류', 'PM최종저감효율', 'TDMS부착여부', '구조변경일자', '부착업체명', '부착일자', '탈거승인일',\n",
       "       '차량번호', '차대번호', '주행거리', '저감장치반납여부', '저감장치구분', '저감등록번호', '재장착확인일자',\n",
       "       '장치일련번호', '삼원촉매장치반납여부', 'DPF유무_확인전'],\n",
       "      dtype='object')"
      ]
     },
     "execution_count": 52,
     "metadata": {},
     "output_type": "execute_result"
    }
   ],
   "source": [
    "att.columns"
   ]
  },
  {
   "cell_type": "code",
   "execution_count": 53,
   "metadata": {},
   "outputs": [
    {
     "data": {
      "text/plain": [
       "저감장치구분\n",
       "1종        294602\n",
       "엔진개조      198590\n",
       "2종        156370\n",
       "3종        148308\n",
       "엔진교체        8528\n",
       "1종+SCR      2304\n",
       "삼원촉매        2075\n",
       "Name: count, dtype: int64"
      ]
     },
     "execution_count": 53,
     "metadata": {},
     "output_type": "execute_result"
    }
   ],
   "source": [
    "att['저감장치구분'].value_counts(dropna=False)"
   ]
  },
  {
   "cell_type": "code",
   "execution_count": 55,
   "metadata": {},
   "outputs": [
    {
     "data": {
      "text/plain": [
       "DPF유무_확인전\n",
       "무    513871\n",
       "유    296906\n",
       "Name: count, dtype: int64"
      ]
     },
     "execution_count": 55,
     "metadata": {},
     "output_type": "execute_result"
    }
   ],
   "source": [
    "att['DPF유무_확인전'].value_counts(dropna=False)"
   ]
  },
  {
   "cell_type": "code",
   "execution_count": 59,
   "metadata": {},
   "outputs": [
    {
     "data": {
      "text/plain": [
       "Index(['저감장치종류', 'PM최종저감효율', 'TDMS부착여부', '구조변경일자', '부착업체명', '부착일자', '탈거승인일',\n",
       "       '차량번호', '차대번호', '주행거리', '저감장치반납여부', '저감장치구분', '저감등록번호', '재장착확인일자',\n",
       "       '장치일련번호', '삼원촉매장치반납여부', 'DPF유무_확인전'],\n",
       "      dtype='object')"
      ]
     },
     "execution_count": 59,
     "metadata": {},
     "output_type": "execute_result"
    }
   ],
   "source": [
    "att.columns"
   ]
  },
  {
   "attachments": {},
   "cell_type": "markdown",
   "metadata": {},
   "source": [
    "## result에 확인전 DPF 유무 정보 추가"
   ]
  },
  {
   "cell_type": "code",
   "execution_count": 58,
   "metadata": {},
   "outputs": [
    {
     "data": {
      "text/plain": [
       "(1502235, 44)"
      ]
     },
     "execution_count": 58,
     "metadata": {},
     "output_type": "execute_result"
    }
   ],
   "source": [
    "df.shape"
   ]
  },
  {
   "cell_type": "code",
   "execution_count": 60,
   "metadata": {},
   "outputs": [
    {
     "data": {
      "text/plain": [
       "(1502235, 45)"
      ]
     },
     "execution_count": 60,
     "metadata": {},
     "output_type": "execute_result"
    }
   ],
   "source": [
    "df = df.merge(att[['차대번호', 'DPF유무_확인전']], on='차대번호', how='left')\n",
    "df.shape"
   ]
  },
  {
   "cell_type": "code",
   "execution_count": 61,
   "metadata": {},
   "outputs": [
    {
     "data": {
      "text/plain": [
       "DPF유무_확인전\n",
       "NaN    1502200\n",
       "유           33\n",
       "무            2\n",
       "Name: count, dtype: int64"
      ]
     },
     "execution_count": 61,
     "metadata": {},
     "output_type": "execute_result"
    }
   ],
   "source": [
    "df['DPF유무_확인전'].value_counts(dropna=False)"
   ]
  },
  {
   "attachments": {},
   "cell_type": "markdown",
   "metadata": {},
   "source": [
    "## 유로4 인증대장 자료로 dpf 장착 유무 확인"
   ]
  },
  {
   "cell_type": "code",
   "execution_count": 63,
   "metadata": {},
   "outputs": [
    {
     "name": "stdout",
     "output_type": "stream",
     "text": [
      "<class 'pandas.core.frame.DataFrame'>\n",
      "RangeIndex: 82 entries, 0 to 81\n",
      "Data columns (total 2 columns):\n",
      " #   Column    Non-Null Count  Dtype \n",
      "---  ------    --------------  ----- \n",
      " 0   배출가스인증번호  82 non-null     object\n",
      " 1   DPF유무     82 non-null     object\n",
      "dtypes: object(2)\n",
      "memory usage: 1.4+ KB\n"
     ]
    }
   ],
   "source": [
    "# about 0.5s\n",
    "name = 'dpf'\n",
    "file_name = f'{name}.xlsx'\n",
    "dpf = pd.read_excel(os.path.join(big2_fold, file_name))\n",
    "dpf.info()"
   ]
  },
  {
   "cell_type": "code",
   "execution_count": 65,
   "metadata": {},
   "outputs": [
    {
     "data": {
      "text/plain": [
       "(1502235, 45)"
      ]
     },
     "execution_count": 65,
     "metadata": {},
     "output_type": "execute_result"
    }
   ],
   "source": [
    "df.shape"
   ]
  },
  {
   "cell_type": "code",
   "execution_count": 66,
   "metadata": {},
   "outputs": [
    {
     "data": {
      "text/plain": [
       "(1502235, 46)"
      ]
     },
     "execution_count": 66,
     "metadata": {},
     "output_type": "execute_result"
    }
   ],
   "source": [
    "df = df.merge(dpf, on='배출가스인증번호', how='left')\n",
    "df.shape"
   ]
  },
  {
   "cell_type": "code",
   "execution_count": 69,
   "metadata": {},
   "outputs": [
    {
     "data": {
      "text/plain": [
       "DPF유무\n",
       "무      701209\n",
       "NaN    502086\n",
       "유      298940\n",
       "Name: count, dtype: int64"
      ]
     },
     "execution_count": 69,
     "metadata": {},
     "output_type": "execute_result"
    }
   ],
   "source": [
    "df['DPF유무'].value_counts(dropna=False)"
   ]
  },
  {
   "cell_type": "code",
   "execution_count": 67,
   "metadata": {},
   "outputs": [
    {
     "data": {
      "text/plain": [
       "Index(['차대번호', '차량번호', '제원관리번호', '차종', '용도', '최초등록일', '연식', '제작일자', '검사유효일',\n",
       "       '배출가스인증번호', '등급', '차명', '차종분류', '차종유형', '자동차형식', '제작사명', '연료', '엔진형식',\n",
       "       '총중량', '적재중량', '엔진출력', '배기량', '법정동코드', '시도명', '시군구명', '소유자구분', '말소여부',\n",
       "       '일치유무', '인증번호 수정 유무', '배인번호_수정', '등급_수정', 'DPF유무_수정', '배출가스', '등급2',\n",
       "       'DPF', '비고', 'Grade', '시군구명_수정', 'dong_code', 'E_CO_total',\n",
       "       'E_HC_total', 'E_NOx_total', 'E_PM10_total', 'E_PM2_5_total',\n",
       "       'DPF유무_확인전', 'DPF유무'],\n",
       "      dtype='object')"
      ]
     },
     "execution_count": 67,
     "metadata": {},
     "output_type": "execute_result"
    }
   ],
   "source": [
    "df.columns"
   ]
  },
  {
   "cell_type": "code",
   "execution_count": 70,
   "metadata": {},
   "outputs": [
    {
     "data": {
      "text/plain": [
       "(20, 46)"
      ]
     },
     "execution_count": 70,
     "metadata": {},
     "output_type": "execute_result"
    }
   ],
   "source": [
    "df.loc[(df['DPF유무_확인전'] == '유') & ((df['DPF유무'] == '무') | (df['DPF유무'].isnull() == True))].shape"
   ]
  },
  {
   "attachments": {},
   "cell_type": "markdown",
   "metadata": {},
   "source": [
    "### 저감장치 부착이력과 유로4 내용 다른 결과 정리\n",
    "+ 저감 / 유로4\n",
    "- [❌] 유 / 유, 무, nan -> 유\n",
    "- [⭕] 무 / 유 -> 유\n",
    "- [❌] 무 / 무, nan - > 무\n",
    "- [⭕] nan / 유, 무 - > 유, 무\n",
    "- [❌] nan / nan - > nan"
   ]
  },
  {
   "cell_type": "code",
   "execution_count": 71,
   "metadata": {},
   "outputs": [
    {
     "data": {
      "text/plain": [
       "DPF유무_확인전\n",
       "NaN    1502200\n",
       "유           33\n",
       "무            2\n",
       "Name: count, dtype: int64"
      ]
     },
     "execution_count": 71,
     "metadata": {},
     "output_type": "execute_result"
    }
   ],
   "source": [
    "df['DPF유무_확인전'].value_counts(dropna=False)"
   ]
  },
  {
   "cell_type": "code",
   "execution_count": 72,
   "metadata": {},
   "outputs": [],
   "source": [
    "df.loc[(df['DPF유무_확인전'] == '무') & (df['DPF유무'] == '유'), 'DPF유무_확인전'] = '유'\n",
    "df.loc[(df['DPF유무_확인전'].isnull() == True) & (df['DPF유무'] == '유'), 'DPF유무_확인전'] = '유'\n",
    "df.loc[(df['DPF유무_확인전'].isnull() == True) & (df['DPF유무'] == '무'), 'DPF유무_확인전'] = '무'"
   ]
  },
  {
   "cell_type": "code",
   "execution_count": 73,
   "metadata": {},
   "outputs": [
    {
     "data": {
      "text/plain": [
       "DPF유무_확인전\n",
       "무      701209\n",
       "NaN    502066\n",
       "유      298960\n",
       "Name: count, dtype: int64"
      ]
     },
     "execution_count": 73,
     "metadata": {},
     "output_type": "execute_result"
    }
   ],
   "source": [
    "df['DPF유무_확인전'].value_counts(dropna=False)"
   ]
  },
  {
   "attachments": {},
   "cell_type": "markdown",
   "metadata": {},
   "source": [
    "## 기존 result에 있던 컬럼만 추출"
   ]
  },
  {
   "cell_type": "code",
   "execution_count": 74,
   "metadata": {},
   "outputs": [
    {
     "data": {
      "text/plain": [
       "Index(['차대번호', '차량번호', '제원관리번호', '차종', '용도', '최초등록일', '연식', '제작일자', '검사유효일',\n",
       "       '배출가스인증번호', '등급', '차명', '차종분류', '차종유형', '자동차형식', '제작사명', '연료', '엔진형식',\n",
       "       '총중량', '적재중량', '엔진출력', '배기량', '법정동코드', '시도명', '시군구명', '소유자구분', '말소여부',\n",
       "       '일치유무', '인증번호 수정 유무', '배인번호_수정', '등급_수정', 'DPF유무_수정', '배출가스', '등급2',\n",
       "       'DPF', '비고', 'Grade', '시군구명_수정', 'dong_code', 'E_CO_total',\n",
       "       'E_HC_total', 'E_NOx_total', 'E_PM10_total', 'E_PM2_5_total',\n",
       "       'DPF유무_확인전', 'DPF유무'],\n",
       "      dtype='object')"
      ]
     },
     "execution_count": 74,
     "metadata": {},
     "output_type": "execute_result"
    }
   ],
   "source": [
    "df.columns"
   ]
  },
  {
   "cell_type": "code",
   "execution_count": 75,
   "metadata": {},
   "outputs": [],
   "source": [
    "df = df[[\n",
    "    '차대번호',\n",
    "    '차량번호',\n",
    "    '제원관리번호',\n",
    "    '차종',\n",
    "    '용도',\n",
    "    '최초등록일',\n",
    "    '연식',\n",
    "    '제작일자',\n",
    "    '검사유효일',\n",
    "    '배출가스인증번호',\n",
    "    '등급',\n",
    "    '차명',\n",
    "    '차종분류',\n",
    "    '차종유형',\n",
    "    '자동차형식',\n",
    "    '제작사명',\n",
    "    '연료',\n",
    "    '엔진형식',\n",
    "    '총중량',\n",
    "    '적재중량',\n",
    "    '엔진출력',\n",
    "    '배기량',\n",
    "    '법정동코드',\n",
    "    '시도명',\n",
    "    '시군구명',\n",
    "    '소유자구분',\n",
    "    '말소여부',\n",
    "\n",
    "    '배인번호_수정',\n",
    "    '등급_수정',\n",
    "    'DPF유무_확인전',\n",
    "    'DPF유무_수정',\n",
    "    'Grade',\n",
    "    ]]"
   ]
  },
  {
   "cell_type": "code",
   "execution_count": 76,
   "metadata": {},
   "outputs": [
    {
     "data": {
      "text/plain": [
       "Index(['차대번호', '차량번호', '제원관리번호', '차종', '용도', '최초등록일', '연식', '제작일자', '검사유효일',\n",
       "       '배출가스인증번호', '등급', '차명', '차종분류', '차종유형', '자동차형식', '제작사명', '연료', '엔진형식',\n",
       "       '총중량', '적재중량', '엔진출력', '배기량', '법정동코드', '시도명', '시군구명', '소유자구분', '말소여부',\n",
       "       '배출가스인증번호_제작사확인', '배출가스등급_제작사확인', 'DPF유무_확인전', 'DPF유무_제작사확인',\n",
       "       'Emission_Grade'],\n",
       "      dtype='object')"
      ]
     },
     "execution_count": 76,
     "metadata": {},
     "output_type": "execute_result"
    }
   ],
   "source": [
    "df = df.rename(columns={'배인번호_수정':'배출가스인증번호_제작사확인', '등급_수정':'배출가스등급_제작사확인', 'DPF_확인전':'DPF유무_확인전', 'DPF유무_수정':'DPF유무_제작사확인', 'Grade':'Emission_Grade'})\n",
    "df.columns"
   ]
  },
  {
   "cell_type": "code",
   "execution_count": 77,
   "metadata": {},
   "outputs": [
    {
     "data": {
      "text/plain": [
       "(1502235, 32)"
      ]
     },
     "execution_count": 77,
     "metadata": {},
     "output_type": "execute_result"
    }
   ],
   "source": [
    "df.shape"
   ]
  },
  {
   "cell_type": "code",
   "execution_count": 78,
   "metadata": {},
   "outputs": [
    {
     "data": {
      "text/plain": [
       "배출가스등급_제작사확인\n",
       "4.0    1497678\n",
       "3.0       4397\n",
       "5.0        160\n",
       "Name: count, dtype: int64"
      ]
     },
     "execution_count": 78,
     "metadata": {},
     "output_type": "execute_result"
    }
   ],
   "source": [
    "df['배출가스등급_제작사확인'].value_counts(dropna=False)"
   ]
  },
  {
   "attachments": {},
   "cell_type": "markdown",
   "metadata": {},
   "source": [
    "### 출력(제출용)"
   ]
  },
  {
   "cell_type": "code",
   "execution_count": 32,
   "metadata": {},
   "outputs": [
    {
     "data": {
      "text/plain": [
       "'2023.05.17'"
      ]
     },
     "execution_count": 32,
     "metadata": {},
     "output_type": "execute_result"
    }
   ],
   "source": [
    "today_date = datetime.today().strftime(\"%Y.%m.%d\")\n",
    "today_date"
   ]
  },
  {
   "cell_type": "code",
   "execution_count": 33,
   "metadata": {},
   "outputs": [],
   "source": [
    "# about 13m 24.3s\n",
    "n = 800000\n",
    "df.iloc[:n].to_excel(os.path.join(bd1_raw_fold, f'result(전체)({today_date})01.xlsx'), index=False)\n",
    "df.iloc[n:].to_excel(os.path.join(bd1_raw_fold, f'result(전체)({today_date})02.xlsx'), index=False)"
   ]
  },
  {
   "attachments": {},
   "cell_type": "markdown",
   "metadata": {},
   "source": [
    "## 4등급 경유차\n",
    "- 등급 : 4\n",
    "- 행 : 1,153,813"
   ]
  },
  {
   "cell_type": "code",
   "execution_count": 97,
   "metadata": {},
   "outputs": [
    {
     "data": {
      "text/plain": [
       "(1153813, 32)"
      ]
     },
     "execution_count": 97,
     "metadata": {},
     "output_type": "execute_result"
    }
   ],
   "source": [
    "df[df['연료'] == '경유'].shape"
   ]
  },
  {
   "cell_type": "code",
   "execution_count": 99,
   "metadata": {},
   "outputs": [
    {
     "data": {
      "text/plain": [
       "(1153813, 32)"
      ]
     },
     "execution_count": 99,
     "metadata": {},
     "output_type": "execute_result"
    }
   ],
   "source": [
    "g4 = df[df['연료'] == '경유'].reset_index(drop=True)\n",
    "g4.shape"
   ]
  },
  {
   "attachments": {},
   "cell_type": "markdown",
   "metadata": {},
   "source": [
    "### 출력(제출용)"
   ]
  },
  {
   "cell_type": "code",
   "execution_count": null,
   "metadata": {},
   "outputs": [],
   "source": [
    "today_date = datetime.today().strftime(\"%Y.%m.%d\")\n",
    "today_date"
   ]
  },
  {
   "cell_type": "code",
   "execution_count": null,
   "metadata": {},
   "outputs": [],
   "source": [
    "# about 13m 24.3s\n",
    "n = 800000\n",
    "g4.iloc[:n].to_excel(os.path.join(bd1_raw_fold, f'result(경유)({today_date})01.xlsx'), index=False)\n",
    "g4.iloc[n:].to_excel(os.path.join(bd1_raw_fold, f'result(경유))({today_date})02.xlsx'), index=False)"
   ]
  },
  {
   "attachments": {},
   "cell_type": "markdown",
   "metadata": {},
   "source": [
    "# 분석"
   ]
  },
  {
   "attachments": {},
   "cell_type": "markdown",
   "metadata": {},
   "source": [
    "## DPF 부착 확인 내역"
   ]
  },
  {
   "attachments": {},
   "cell_type": "markdown",
   "metadata": {},
   "source": [
    "### 유 -> 무"
   ]
  },
  {
   "cell_type": "code",
   "execution_count": 100,
   "metadata": {},
   "outputs": [
    {
     "data": {
      "text/plain": [
       "Index(['차대번호', '차량번호', '제원관리번호', '차종', '용도', '최초등록일', '연식', '제작일자', '검사유효일',\n",
       "       '배출가스인증번호', '등급', '차명', '차종분류', '차종유형', '자동차형식', '제작사명', '연료', '엔진형식',\n",
       "       '총중량', '적재중량', '엔진출력', '배기량', '법정동코드', '시도명', '시군구명', '소유자구분', '말소여부',\n",
       "       '배출가스인증번호_제작사확인', '배출가스등급_제작사확인', 'DPF유무_확인전', 'DPF유무_제작사확인',\n",
       "       'Emission_Grade'],\n",
       "      dtype='object')"
      ]
     },
     "execution_count": 100,
     "metadata": {},
     "output_type": "execute_result"
    }
   ],
   "source": [
    "g4.columns"
   ]
  },
  {
   "cell_type": "code",
   "execution_count": 101,
   "metadata": {},
   "outputs": [
    {
     "data": {
      "text/plain": [
       "DPF유무_확인전\n",
       "무      701208\n",
       "유      298960\n",
       "NaN    153645\n",
       "Name: count, dtype: int64"
      ]
     },
     "execution_count": 101,
     "metadata": {},
     "output_type": "execute_result"
    }
   ],
   "source": [
    "g4['DPF유무_확인전'].value_counts(dropna=False)"
   ]
  },
  {
   "cell_type": "code",
   "execution_count": 102,
   "metadata": {},
   "outputs": [
    {
     "data": {
      "text/plain": [
       "DPF유무_제작사확인\n",
       "무       879481\n",
       "유       257809\n",
       "확인불가     16523\n",
       "Name: count, dtype: int64"
      ]
     },
     "execution_count": 102,
     "metadata": {},
     "output_type": "execute_result"
    }
   ],
   "source": [
    "g4['DPF유무_제작사확인'].value_counts(dropna=False)"
   ]
  },
  {
   "cell_type": "code",
   "execution_count": 103,
   "metadata": {},
   "outputs": [
    {
     "data": {
      "text/plain": [
       "(124557, 32)"
      ]
     },
     "execution_count": 103,
     "metadata": {},
     "output_type": "execute_result"
    }
   ],
   "source": [
    "g4.loc[(g4['DPF유무_확인전'] == '유') & (g4['DPF유무_제작사확인'] == '무')].shape"
   ]
  },
  {
   "cell_type": "code",
   "execution_count": 104,
   "metadata": {},
   "outputs": [
    {
     "data": {
      "text/html": [
       "<div>\n",
       "<style scoped>\n",
       "    .dataframe tbody tr th:only-of-type {\n",
       "        vertical-align: middle;\n",
       "    }\n",
       "\n",
       "    .dataframe tbody tr th {\n",
       "        vertical-align: top;\n",
       "    }\n",
       "\n",
       "    .dataframe thead th {\n",
       "        text-align: right;\n",
       "    }\n",
       "</style>\n",
       "<table border=\"1\" class=\"dataframe\">\n",
       "  <thead>\n",
       "    <tr style=\"text-align: right;\">\n",
       "      <th></th>\n",
       "      <th>배출가스인증번호_제작사확인</th>\n",
       "      <th>제작사명</th>\n",
       "      <th>차명</th>\n",
       "      <th>차량대수</th>\n",
       "    </tr>\n",
       "  </thead>\n",
       "  <tbody>\n",
       "    <tr>\n",
       "      <th>0</th>\n",
       "      <td>4MY-KM-06</td>\n",
       "      <td>기아자동차(주)</td>\n",
       "      <td>봉고Ⅲ 1톤</td>\n",
       "      <td>1</td>\n",
       "    </tr>\n",
       "    <tr>\n",
       "      <th>1</th>\n",
       "      <td>4MY-KM-06</td>\n",
       "      <td>기아자동차(주)</td>\n",
       "      <td>봉고Ⅲ 냉동차</td>\n",
       "      <td>7</td>\n",
       "    </tr>\n",
       "    <tr>\n",
       "      <th>2</th>\n",
       "      <td>4MY-KM-06</td>\n",
       "      <td>기아자동차(주)</td>\n",
       "      <td>봉고Ⅲ 원박스냉동차</td>\n",
       "      <td>3</td>\n",
       "    </tr>\n",
       "    <tr>\n",
       "      <th>3</th>\n",
       "      <td>4MY-KM-06</td>\n",
       "      <td>기아자동차(주)</td>\n",
       "      <td>봉고Ⅲ 윙바디</td>\n",
       "      <td>7</td>\n",
       "    </tr>\n",
       "    <tr>\n",
       "      <th>4</th>\n",
       "      <td>4MY-KM-06</td>\n",
       "      <td>기아자동차(주)</td>\n",
       "      <td>봉고Ⅲ 일반덤프</td>\n",
       "      <td>53</td>\n",
       "    </tr>\n",
       "    <tr>\n",
       "      <th>5</th>\n",
       "      <td>4MY-KM-06</td>\n",
       "      <td>기아자동차(주)</td>\n",
       "      <td>봉고Ⅲ 파워게이트</td>\n",
       "      <td>3</td>\n",
       "    </tr>\n",
       "    <tr>\n",
       "      <th>6</th>\n",
       "      <td>4MY-KM-06</td>\n",
       "      <td>기아자동차(주)</td>\n",
       "      <td>봉고Ⅲ 플러스내장차</td>\n",
       "      <td>1</td>\n",
       "    </tr>\n",
       "    <tr>\n",
       "      <th>7</th>\n",
       "      <td>4MY-KM-06</td>\n",
       "      <td>기아자동차(주)</td>\n",
       "      <td>봉고Ⅲ 플러스냉동차</td>\n",
       "      <td>2</td>\n",
       "    </tr>\n",
       "    <tr>\n",
       "      <th>8</th>\n",
       "      <td>4MY-KM-06</td>\n",
       "      <td>기아자동차(주)</td>\n",
       "      <td>봉고Ⅲ활어수송차</td>\n",
       "      <td>6</td>\n",
       "    </tr>\n",
       "    <tr>\n",
       "      <th>9</th>\n",
       "      <td>5MY-AD-14-18</td>\n",
       "      <td>아우디폭스바겐코리아(주)</td>\n",
       "      <td>Golf 2.0 TDI</td>\n",
       "      <td>1129</td>\n",
       "    </tr>\n",
       "    <tr>\n",
       "      <th>10</th>\n",
       "      <td>5MY-AD-14-18</td>\n",
       "      <td>아우디폭스바겐코리아(주)</td>\n",
       "      <td>Jetta 2.0 TDI</td>\n",
       "      <td>301</td>\n",
       "    </tr>\n",
       "    <tr>\n",
       "      <th>11</th>\n",
       "      <td>5MY-AD-14-18</td>\n",
       "      <td>자기인증면제차량</td>\n",
       "      <td>GOLF PLUS</td>\n",
       "      <td>1</td>\n",
       "    </tr>\n",
       "    <tr>\n",
       "      <th>12</th>\n",
       "      <td>5MY-AD-14-18</td>\n",
       "      <td>자기인증면제차량</td>\n",
       "      <td>GOLF PLUS TDI</td>\n",
       "      <td>1</td>\n",
       "    </tr>\n",
       "    <tr>\n",
       "      <th>13</th>\n",
       "      <td>5MY-AD-14-18</td>\n",
       "      <td>자기인증면제차량</td>\n",
       "      <td>Golf 2.0 TDI</td>\n",
       "      <td>1</td>\n",
       "    </tr>\n",
       "    <tr>\n",
       "      <th>14</th>\n",
       "      <td>5MY-AD-14-18</td>\n",
       "      <td>자기인증면제차량</td>\n",
       "      <td>Golf2.0TDI</td>\n",
       "      <td>1</td>\n",
       "    </tr>\n",
       "    <tr>\n",
       "      <th>15</th>\n",
       "      <td>5MY-AD-14-18</td>\n",
       "      <td>자기인증면제차량</td>\n",
       "      <td>Jetta 2.0 TDI</td>\n",
       "      <td>1</td>\n",
       "    </tr>\n",
       "    <tr>\n",
       "      <th>16</th>\n",
       "      <td>5MY-AD-14-18</td>\n",
       "      <td>자기인증면제차량</td>\n",
       "      <td>VOLKSWAGEN GOLF</td>\n",
       "      <td>2</td>\n",
       "    </tr>\n",
       "    <tr>\n",
       "      <th>17</th>\n",
       "      <td>5MY-AD-14-18</td>\n",
       "      <td>자기인증면제차량</td>\n",
       "      <td>골프TDI</td>\n",
       "      <td>1</td>\n",
       "    </tr>\n",
       "    <tr>\n",
       "      <th>18</th>\n",
       "      <td>5MY-AD-14-19</td>\n",
       "      <td>아우디폭스바겐코리아(주)</td>\n",
       "      <td>Golf 2.0 GT TDI</td>\n",
       "      <td>231</td>\n",
       "    </tr>\n",
       "    <tr>\n",
       "      <th>19</th>\n",
       "      <td>5MY-AD-14-19</td>\n",
       "      <td>아우디폭스바겐코리아(주)</td>\n",
       "      <td>Passat 2.0 TDI</td>\n",
       "      <td>152</td>\n",
       "    </tr>\n",
       "    <tr>\n",
       "      <th>20</th>\n",
       "      <td>5MY-AD-14-19</td>\n",
       "      <td>아우디폭스바겐코리아(주)</td>\n",
       "      <td>Passat Variant 2.0 TDI</td>\n",
       "      <td>48</td>\n",
       "    </tr>\n",
       "    <tr>\n",
       "      <th>21</th>\n",
       "      <td>5MY-PA-14-17</td>\n",
       "      <td>(주)볼보자동차코리아</td>\n",
       "      <td>볼보 S60D5</td>\n",
       "      <td>55</td>\n",
       "    </tr>\n",
       "    <tr>\n",
       "      <th>22</th>\n",
       "      <td>6MY-DB-24-24</td>\n",
       "      <td>자일대우상용차 주식회사</td>\n",
       "      <td>BX212</td>\n",
       "      <td>3</td>\n",
       "    </tr>\n",
       "    <tr>\n",
       "      <th>23</th>\n",
       "      <td>6MY-HD-24-100</td>\n",
       "      <td>자기인증면제차량</td>\n",
       "      <td>HYUNDAI SANTA FE</td>\n",
       "      <td>1</td>\n",
       "    </tr>\n",
       "    <tr>\n",
       "      <th>24</th>\n",
       "      <td>6MY-HD-24-100</td>\n",
       "      <td>자기인증면제차량</td>\n",
       "      <td>SANTAFE</td>\n",
       "      <td>6</td>\n",
       "    </tr>\n",
       "    <tr>\n",
       "      <th>25</th>\n",
       "      <td>6MY-HD-24-100</td>\n",
       "      <td>자기인증면제차량</td>\n",
       "      <td>산타페</td>\n",
       "      <td>1</td>\n",
       "    </tr>\n",
       "    <tr>\n",
       "      <th>26</th>\n",
       "      <td>6MY-HD-24-100</td>\n",
       "      <td>자기인증면제차량</td>\n",
       "      <td>싼타페</td>\n",
       "      <td>3</td>\n",
       "    </tr>\n",
       "    <tr>\n",
       "      <th>27</th>\n",
       "      <td>6MY-HD-24-100</td>\n",
       "      <td>자기인증면제차량</td>\n",
       "      <td>싼타페(SANTAFE)</td>\n",
       "      <td>14</td>\n",
       "    </tr>\n",
       "    <tr>\n",
       "      <th>28</th>\n",
       "      <td>6MY-HD-24-100</td>\n",
       "      <td>현대자동차(주)</td>\n",
       "      <td>싼타페(SANTAFE)</td>\n",
       "      <td>26059</td>\n",
       "    </tr>\n",
       "    <tr>\n",
       "      <th>29</th>\n",
       "      <td>6MY-PA-14-4</td>\n",
       "      <td>(주)볼보자동차코리아</td>\n",
       "      <td>볼보 S80D5</td>\n",
       "      <td>896</td>\n",
       "    </tr>\n",
       "    <tr>\n",
       "      <th>30</th>\n",
       "      <td>7MY-HD-14-57</td>\n",
       "      <td>현대자동차(주)</td>\n",
       "      <td>싼타페(SANTAFE)</td>\n",
       "      <td>6121</td>\n",
       "    </tr>\n",
       "    <tr>\n",
       "      <th>31</th>\n",
       "      <td>7MY-KM-14-65</td>\n",
       "      <td>기아자동차(주)</td>\n",
       "      <td>봉고Ⅲ 1톤</td>\n",
       "      <td>53779</td>\n",
       "    </tr>\n",
       "    <tr>\n",
       "      <th>32</th>\n",
       "      <td>7MY-KM-14-65</td>\n",
       "      <td>기아자동차(주)</td>\n",
       "      <td>봉고Ⅲ 3방덤프</td>\n",
       "      <td>438</td>\n",
       "    </tr>\n",
       "    <tr>\n",
       "      <th>33</th>\n",
       "      <td>7MY-KM-14-65</td>\n",
       "      <td>기아자동차(주)</td>\n",
       "      <td>봉고Ⅲ 4륜구동</td>\n",
       "      <td>20070</td>\n",
       "    </tr>\n",
       "    <tr>\n",
       "      <th>34</th>\n",
       "      <td>7MY-KM-14-65</td>\n",
       "      <td>기아자동차(주)</td>\n",
       "      <td>봉고Ⅲ 내장차</td>\n",
       "      <td>1552</td>\n",
       "    </tr>\n",
       "    <tr>\n",
       "      <th>35</th>\n",
       "      <td>7MY-KM-14-65</td>\n",
       "      <td>기아자동차(주)</td>\n",
       "      <td>봉고Ⅲ 냉동차</td>\n",
       "      <td>2635</td>\n",
       "    </tr>\n",
       "    <tr>\n",
       "      <th>36</th>\n",
       "      <td>7MY-KM-14-65</td>\n",
       "      <td>기아자동차(주)</td>\n",
       "      <td>봉고Ⅲ 냉온장차</td>\n",
       "      <td>17</td>\n",
       "    </tr>\n",
       "    <tr>\n",
       "      <th>37</th>\n",
       "      <td>7MY-KM-14-65</td>\n",
       "      <td>기아자동차(주)</td>\n",
       "      <td>봉고Ⅲ 냉장차</td>\n",
       "      <td>71</td>\n",
       "    </tr>\n",
       "    <tr>\n",
       "      <th>38</th>\n",
       "      <td>7MY-KM-14-65</td>\n",
       "      <td>기아자동차(주)</td>\n",
       "      <td>봉고Ⅲ 다용도탑차</td>\n",
       "      <td>103</td>\n",
       "    </tr>\n",
       "    <tr>\n",
       "      <th>39</th>\n",
       "      <td>7MY-KM-14-65</td>\n",
       "      <td>기아자동차(주)</td>\n",
       "      <td>봉고Ⅲ 보냉차</td>\n",
       "      <td>51</td>\n",
       "    </tr>\n",
       "    <tr>\n",
       "      <th>40</th>\n",
       "      <td>7MY-KM-14-65</td>\n",
       "      <td>기아자동차(주)</td>\n",
       "      <td>봉고Ⅲ 운교차</td>\n",
       "      <td>319</td>\n",
       "    </tr>\n",
       "    <tr>\n",
       "      <th>41</th>\n",
       "      <td>7MY-KM-14-65</td>\n",
       "      <td>기아자동차(주)</td>\n",
       "      <td>봉고Ⅲ 워크스루밴</td>\n",
       "      <td>377</td>\n",
       "    </tr>\n",
       "    <tr>\n",
       "      <th>42</th>\n",
       "      <td>7MY-KM-14-65</td>\n",
       "      <td>기아자동차(주)</td>\n",
       "      <td>봉고Ⅲ 원박스냉동차</td>\n",
       "      <td>6</td>\n",
       "    </tr>\n",
       "    <tr>\n",
       "      <th>43</th>\n",
       "      <td>7MY-KM-14-65</td>\n",
       "      <td>기아자동차(주)</td>\n",
       "      <td>봉고Ⅲ 윙바디</td>\n",
       "      <td>947</td>\n",
       "    </tr>\n",
       "    <tr>\n",
       "      <th>44</th>\n",
       "      <td>7MY-KM-14-65</td>\n",
       "      <td>기아자동차(주)</td>\n",
       "      <td>봉고Ⅲ 일반덤프</td>\n",
       "      <td>4192</td>\n",
       "    </tr>\n",
       "    <tr>\n",
       "      <th>45</th>\n",
       "      <td>7MY-KM-14-65</td>\n",
       "      <td>기아자동차(주)</td>\n",
       "      <td>봉고Ⅲ 파워게이트</td>\n",
       "      <td>572</td>\n",
       "    </tr>\n",
       "    <tr>\n",
       "      <th>46</th>\n",
       "      <td>7MY-KM-14-65</td>\n",
       "      <td>기아자동차(주)</td>\n",
       "      <td>봉고Ⅲ 플러스내장차</td>\n",
       "      <td>2533</td>\n",
       "    </tr>\n",
       "    <tr>\n",
       "      <th>47</th>\n",
       "      <td>7MY-KM-14-65</td>\n",
       "      <td>기아자동차(주)</td>\n",
       "      <td>봉고Ⅲ 플러스냉동차</td>\n",
       "      <td>1040</td>\n",
       "    </tr>\n",
       "    <tr>\n",
       "      <th>48</th>\n",
       "      <td>7MY-KM-14-65</td>\n",
       "      <td>기아자동차(주)</td>\n",
       "      <td>봉고Ⅲ 홈로리</td>\n",
       "      <td>457</td>\n",
       "    </tr>\n",
       "    <tr>\n",
       "      <th>49</th>\n",
       "      <td>7MY-KM-14-65</td>\n",
       "      <td>기아자동차(주)</td>\n",
       "      <td>봉고Ⅲ 활어수송차</td>\n",
       "      <td>104</td>\n",
       "    </tr>\n",
       "    <tr>\n",
       "      <th>50</th>\n",
       "      <td>7MY-KM-14-65</td>\n",
       "      <td>기아자동차(주)</td>\n",
       "      <td>봉고Ⅲ크레인</td>\n",
       "      <td>8</td>\n",
       "    </tr>\n",
       "    <tr>\n",
       "      <th>51</th>\n",
       "      <td>7MY-KM-14-65</td>\n",
       "      <td>기아자동차(주)</td>\n",
       "      <td>봉고Ⅲ활어수송차</td>\n",
       "      <td>170</td>\n",
       "    </tr>\n",
       "    <tr>\n",
       "      <th>52</th>\n",
       "      <td>7MY-KM-14-65</td>\n",
       "      <td>자기인증면제차량</td>\n",
       "      <td>봉고Ⅲ 4륜구동</td>\n",
       "      <td>1</td>\n",
       "    </tr>\n",
       "    <tr>\n",
       "      <th>53</th>\n",
       "      <td>7MY-KM-14-65</td>\n",
       "      <td>자기인증면제차량</td>\n",
       "      <td>봉고Ⅲ 운교차</td>\n",
       "      <td>2</td>\n",
       "    </tr>\n",
       "    <tr>\n",
       "      <th>54</th>\n",
       "      <td>7MY-SY-14-60</td>\n",
       "      <td>쌍용자동차(주)</td>\n",
       "      <td>액티언스포츠</td>\n",
       "      <td>2</td>\n",
       "    </tr>\n",
       "  </tbody>\n",
       "</table>\n",
       "</div>"
      ],
      "text/plain": [
       "   배출가스인증번호_제작사확인           제작사명                      차명   차량대수\n",
       "0       4MY-KM-06       기아자동차(주)                  봉고Ⅲ 1톤      1\n",
       "1       4MY-KM-06       기아자동차(주)                 봉고Ⅲ 냉동차      7\n",
       "2       4MY-KM-06       기아자동차(주)              봉고Ⅲ 원박스냉동차      3\n",
       "3       4MY-KM-06       기아자동차(주)                 봉고Ⅲ 윙바디      7\n",
       "4       4MY-KM-06       기아자동차(주)                봉고Ⅲ 일반덤프     53\n",
       "5       4MY-KM-06       기아자동차(주)               봉고Ⅲ 파워게이트      3\n",
       "6       4MY-KM-06       기아자동차(주)              봉고Ⅲ 플러스내장차      1\n",
       "7       4MY-KM-06       기아자동차(주)              봉고Ⅲ 플러스냉동차      2\n",
       "8       4MY-KM-06       기아자동차(주)                봉고Ⅲ활어수송차      6\n",
       "9    5MY-AD-14-18  아우디폭스바겐코리아(주)            Golf 2.0 TDI   1129\n",
       "10   5MY-AD-14-18  아우디폭스바겐코리아(주)           Jetta 2.0 TDI    301\n",
       "11   5MY-AD-14-18       자기인증면제차량               GOLF PLUS      1\n",
       "12   5MY-AD-14-18       자기인증면제차량           GOLF PLUS TDI      1\n",
       "13   5MY-AD-14-18       자기인증면제차량            Golf 2.0 TDI      1\n",
       "14   5MY-AD-14-18       자기인증면제차량              Golf2.0TDI      1\n",
       "15   5MY-AD-14-18       자기인증면제차량           Jetta 2.0 TDI      1\n",
       "16   5MY-AD-14-18       자기인증면제차량         VOLKSWAGEN GOLF      2\n",
       "17   5MY-AD-14-18       자기인증면제차량                   골프TDI      1\n",
       "18   5MY-AD-14-19  아우디폭스바겐코리아(주)         Golf 2.0 GT TDI    231\n",
       "19   5MY-AD-14-19  아우디폭스바겐코리아(주)          Passat 2.0 TDI    152\n",
       "20   5MY-AD-14-19  아우디폭스바겐코리아(주)  Passat Variant 2.0 TDI     48\n",
       "21   5MY-PA-14-17    (주)볼보자동차코리아                볼보 S60D5     55\n",
       "22   6MY-DB-24-24   자일대우상용차 주식회사                   BX212      3\n",
       "23  6MY-HD-24-100       자기인증면제차량        HYUNDAI SANTA FE      1\n",
       "24  6MY-HD-24-100       자기인증면제차량                 SANTAFE      6\n",
       "25  6MY-HD-24-100       자기인증면제차량                     산타페      1\n",
       "26  6MY-HD-24-100       자기인증면제차량                     싼타페      3\n",
       "27  6MY-HD-24-100       자기인증면제차량            싼타페(SANTAFE)     14\n",
       "28  6MY-HD-24-100       현대자동차(주)            싼타페(SANTAFE)  26059\n",
       "29    6MY-PA-14-4    (주)볼보자동차코리아                볼보 S80D5    896\n",
       "30   7MY-HD-14-57       현대자동차(주)            싼타페(SANTAFE)   6121\n",
       "31   7MY-KM-14-65       기아자동차(주)                  봉고Ⅲ 1톤  53779\n",
       "32   7MY-KM-14-65       기아자동차(주)                봉고Ⅲ 3방덤프    438\n",
       "33   7MY-KM-14-65       기아자동차(주)                봉고Ⅲ 4륜구동  20070\n",
       "34   7MY-KM-14-65       기아자동차(주)                 봉고Ⅲ 내장차   1552\n",
       "35   7MY-KM-14-65       기아자동차(주)                 봉고Ⅲ 냉동차   2635\n",
       "36   7MY-KM-14-65       기아자동차(주)                봉고Ⅲ 냉온장차     17\n",
       "37   7MY-KM-14-65       기아자동차(주)                 봉고Ⅲ 냉장차     71\n",
       "38   7MY-KM-14-65       기아자동차(주)               봉고Ⅲ 다용도탑차    103\n",
       "39   7MY-KM-14-65       기아자동차(주)                 봉고Ⅲ 보냉차     51\n",
       "40   7MY-KM-14-65       기아자동차(주)                 봉고Ⅲ 운교차    319\n",
       "41   7MY-KM-14-65       기아자동차(주)               봉고Ⅲ 워크스루밴    377\n",
       "42   7MY-KM-14-65       기아자동차(주)              봉고Ⅲ 원박스냉동차      6\n",
       "43   7MY-KM-14-65       기아자동차(주)                 봉고Ⅲ 윙바디    947\n",
       "44   7MY-KM-14-65       기아자동차(주)                봉고Ⅲ 일반덤프   4192\n",
       "45   7MY-KM-14-65       기아자동차(주)               봉고Ⅲ 파워게이트    572\n",
       "46   7MY-KM-14-65       기아자동차(주)              봉고Ⅲ 플러스내장차   2533\n",
       "47   7MY-KM-14-65       기아자동차(주)              봉고Ⅲ 플러스냉동차   1040\n",
       "48   7MY-KM-14-65       기아자동차(주)                 봉고Ⅲ 홈로리    457\n",
       "49   7MY-KM-14-65       기아자동차(주)               봉고Ⅲ 활어수송차    104\n",
       "50   7MY-KM-14-65       기아자동차(주)                  봉고Ⅲ크레인      8\n",
       "51   7MY-KM-14-65       기아자동차(주)                봉고Ⅲ활어수송차    170\n",
       "52   7MY-KM-14-65       자기인증면제차량                봉고Ⅲ 4륜구동      1\n",
       "53   7MY-KM-14-65       자기인증면제차량                 봉고Ⅲ 운교차      2\n",
       "54   7MY-SY-14-60       쌍용자동차(주)                  액티언스포츠      2"
      ]
     },
     "execution_count": 104,
     "metadata": {},
     "output_type": "execute_result"
    }
   ],
   "source": [
    "chk_dpf_yn_group = g4.loc[(g4['DPF유무_확인전'] == '유') & (g4['DPF유무_제작사확인'] == '무')].groupby(['배출가스인증번호_제작사확인', '제작사명', '차명'])['차대번호'].count().reset_index()\n",
    "chk_dpf_yn_group = chk_dpf_yn_group.rename(columns={'차대번호':'차량대수'})\n",
    "chk_dpf_yn_group"
   ]
  },
  {
   "attachments": {},
   "cell_type": "markdown",
   "metadata": {},
   "source": [
    "### 결측 -> 무"
   ]
  },
  {
   "cell_type": "code",
   "execution_count": 105,
   "metadata": {},
   "outputs": [
    {
     "data": {
      "text/plain": [
       "(56600, 32)"
      ]
     },
     "execution_count": 105,
     "metadata": {},
     "output_type": "execute_result"
    }
   ],
   "source": [
    "g4.loc[(g4['DPF유무_확인전'].isnull() == True) & (g4['DPF유무_제작사확인'] == '무')].shape"
   ]
  },
  {
   "cell_type": "code",
   "execution_count": 106,
   "metadata": {},
   "outputs": [
    {
     "data": {
      "text/html": [
       "<div>\n",
       "<style scoped>\n",
       "    .dataframe tbody tr th:only-of-type {\n",
       "        vertical-align: middle;\n",
       "    }\n",
       "\n",
       "    .dataframe tbody tr th {\n",
       "        vertical-align: top;\n",
       "    }\n",
       "\n",
       "    .dataframe thead th {\n",
       "        text-align: right;\n",
       "    }\n",
       "</style>\n",
       "<table border=\"1\" class=\"dataframe\">\n",
       "  <thead>\n",
       "    <tr style=\"text-align: right;\">\n",
       "      <th></th>\n",
       "      <th>배출가스인증번호_제작사확인</th>\n",
       "      <th>제작사명</th>\n",
       "      <th>차명</th>\n",
       "      <th>차량대수</th>\n",
       "    </tr>\n",
       "  </thead>\n",
       "  <tbody>\n",
       "    <tr>\n",
       "      <th>0</th>\n",
       "      <td>3MY-HD-14</td>\n",
       "      <td>자기인증면제차량</td>\n",
       "      <td>포터2</td>\n",
       "      <td>2</td>\n",
       "    </tr>\n",
       "    <tr>\n",
       "      <th>1</th>\n",
       "      <td>3MY-HD-14</td>\n",
       "      <td>자기인증면제차량</td>\n",
       "      <td>포터Ⅱ(PORTERⅡ)</td>\n",
       "      <td>4</td>\n",
       "    </tr>\n",
       "    <tr>\n",
       "      <th>2</th>\n",
       "      <td>3MY-HD-14</td>\n",
       "      <td>현대자동차(주)</td>\n",
       "      <td>포터Ⅱ(PORTERⅡ)</td>\n",
       "      <td>2</td>\n",
       "    </tr>\n",
       "    <tr>\n",
       "      <th>3</th>\n",
       "      <td>4MY-AD-20</td>\n",
       "      <td>아우디폭스바겐코리아(주)</td>\n",
       "      <td>아우디 A6 3.0 TDI Quattro</td>\n",
       "      <td>29</td>\n",
       "    </tr>\n",
       "    <tr>\n",
       "      <th>4</th>\n",
       "      <td>4MY-AD-20</td>\n",
       "      <td>자기인증면제차량</td>\n",
       "      <td>AUDI A6</td>\n",
       "      <td>1</td>\n",
       "    </tr>\n",
       "    <tr>\n",
       "      <th>...</th>\n",
       "      <td>...</td>\n",
       "      <td>...</td>\n",
       "      <td>...</td>\n",
       "      <td>...</td>\n",
       "    </tr>\n",
       "    <tr>\n",
       "      <th>182</th>\n",
       "      <td>8MY-DC-24-27</td>\n",
       "      <td>타타대우상용차(주)</td>\n",
       "      <td>대우9.5톤극초장축저상카고트럭</td>\n",
       "      <td>8</td>\n",
       "    </tr>\n",
       "    <tr>\n",
       "      <th>183</th>\n",
       "      <td>8MY-DC-24-27</td>\n",
       "      <td>타타대우상용차(주)</td>\n",
       "      <td>대우9.5톤장축저상카고트럭</td>\n",
       "      <td>1</td>\n",
       "    </tr>\n",
       "    <tr>\n",
       "      <th>184</th>\n",
       "      <td>8MY-DC-24-27</td>\n",
       "      <td>타타대우상용차(주)</td>\n",
       "      <td>대우9.5톤초장축저상카고트럭</td>\n",
       "      <td>4</td>\n",
       "    </tr>\n",
       "    <tr>\n",
       "      <th>185</th>\n",
       "      <td>확인불가</td>\n",
       "      <td>기아자동차(주)</td>\n",
       "      <td>기아뉴복사17</td>\n",
       "      <td>1</td>\n",
       "    </tr>\n",
       "    <tr>\n",
       "      <th>186</th>\n",
       "      <td>확인불가</td>\n",
       "      <td>쌍용자동차(주)</td>\n",
       "      <td>코란도KJ</td>\n",
       "      <td>1</td>\n",
       "    </tr>\n",
       "  </tbody>\n",
       "</table>\n",
       "<p>187 rows × 4 columns</p>\n",
       "</div>"
      ],
      "text/plain": [
       "    배출가스인증번호_제작사확인           제작사명                      차명  차량대수\n",
       "0        3MY-HD-14       자기인증면제차량                     포터2     2\n",
       "1        3MY-HD-14       자기인증면제차량            포터Ⅱ(PORTERⅡ)     4\n",
       "2        3MY-HD-14       현대자동차(주)            포터Ⅱ(PORTERⅡ)     2\n",
       "3        4MY-AD-20  아우디폭스바겐코리아(주)  아우디 A6 3.0 TDI Quattro    29\n",
       "4        4MY-AD-20       자기인증면제차량                 AUDI A6     1\n",
       "..             ...            ...                     ...   ...\n",
       "182   8MY-DC-24-27     타타대우상용차(주)        대우9.5톤극초장축저상카고트럭     8\n",
       "183   8MY-DC-24-27     타타대우상용차(주)          대우9.5톤장축저상카고트럭     1\n",
       "184   8MY-DC-24-27     타타대우상용차(주)         대우9.5톤초장축저상카고트럭     4\n",
       "185           확인불가       기아자동차(주)                 기아뉴복사17     1\n",
       "186           확인불가       쌍용자동차(주)                   코란도KJ     1\n",
       "\n",
       "[187 rows x 4 columns]"
      ]
     },
     "execution_count": 106,
     "metadata": {},
     "output_type": "execute_result"
    }
   ],
   "source": [
    "chk_dpf_nann_group = g4.loc[(g4['DPF유무_확인전'].isnull() == True) & (g4['DPF유무_제작사확인'] == '무')].groupby(['배출가스인증번호_제작사확인', '제작사명', '차명'])['차대번호'].count().reset_index()\n",
    "chk_dpf_nann_group = chk_dpf_nann_group.rename(columns={'차대번호':'차량대수'})\n",
    "chk_dpf_nann_group"
   ]
  },
  {
   "attachments": {},
   "cell_type": "markdown",
   "metadata": {},
   "source": [
    "### 무 -> 유"
   ]
  },
  {
   "cell_type": "code",
   "execution_count": 107,
   "metadata": {},
   "outputs": [
    {
     "data": {
      "text/plain": [
       "(1053, 32)"
      ]
     },
     "execution_count": 107,
     "metadata": {},
     "output_type": "execute_result"
    }
   ],
   "source": [
    "g4.loc[(g4['DPF유무_확인전'] == '무') & (g4['DPF유무_제작사확인'] == '유')].shape"
   ]
  },
  {
   "cell_type": "code",
   "execution_count": 108,
   "metadata": {},
   "outputs": [
    {
     "data": {
      "text/html": [
       "<div>\n",
       "<style scoped>\n",
       "    .dataframe tbody tr th:only-of-type {\n",
       "        vertical-align: middle;\n",
       "    }\n",
       "\n",
       "    .dataframe tbody tr th {\n",
       "        vertical-align: top;\n",
       "    }\n",
       "\n",
       "    .dataframe thead th {\n",
       "        text-align: right;\n",
       "    }\n",
       "</style>\n",
       "<table border=\"1\" class=\"dataframe\">\n",
       "  <thead>\n",
       "    <tr style=\"text-align: right;\">\n",
       "      <th></th>\n",
       "      <th>배출가스인증번호_제작사확인</th>\n",
       "      <th>제작사명</th>\n",
       "      <th>차명</th>\n",
       "      <th>차량대수</th>\n",
       "    </tr>\n",
       "  </thead>\n",
       "  <tbody>\n",
       "    <tr>\n",
       "      <th>0</th>\n",
       "      <td>5MY-KM-24-64</td>\n",
       "      <td>기아자동차(주)</td>\n",
       "      <td>쎄라토</td>\n",
       "      <td>1050</td>\n",
       "    </tr>\n",
       "    <tr>\n",
       "      <th>1</th>\n",
       "      <td>6MY-BK-13-08</td>\n",
       "      <td>비엠더블유코리아(주)</td>\n",
       "      <td>BMW X5 3.0d</td>\n",
       "      <td>1</td>\n",
       "    </tr>\n",
       "    <tr>\n",
       "      <th>2</th>\n",
       "      <td>7MY-HD-24-28</td>\n",
       "      <td>현대자동차(주)</td>\n",
       "      <td>이-마이티</td>\n",
       "      <td>2</td>\n",
       "    </tr>\n",
       "  </tbody>\n",
       "</table>\n",
       "</div>"
      ],
      "text/plain": [
       "  배출가스인증번호_제작사확인         제작사명           차명  차량대수\n",
       "0   5MY-KM-24-64     기아자동차(주)          쎄라토  1050\n",
       "1   6MY-BK-13-08  비엠더블유코리아(주)  BMW X5 3.0d     1\n",
       "2   7MY-HD-24-28     현대자동차(주)        이-마이티     2"
      ]
     },
     "execution_count": 108,
     "metadata": {},
     "output_type": "execute_result"
    }
   ],
   "source": [
    "chk_dpf_ny_group = g4.loc[(g4['DPF유무_확인전'] == '무') & (g4['DPF유무_제작사확인'] == '유')].groupby(['배출가스인증번호_제작사확인', '제작사명', '차명'])['차대번호'].count().reset_index()\n",
    "chk_dpf_ny_group = chk_dpf_ny_group.rename(columns={'차대번호':'차량대수'})\n",
    "chk_dpf_ny_group"
   ]
  },
  {
   "attachments": {},
   "cell_type": "markdown",
   "metadata": {},
   "source": [
    "### 결측 -> 유"
   ]
  },
  {
   "cell_type": "code",
   "execution_count": 109,
   "metadata": {},
   "outputs": [
    {
     "data": {
      "text/plain": [
       "(82796, 32)"
      ]
     },
     "execution_count": 109,
     "metadata": {},
     "output_type": "execute_result"
    }
   ],
   "source": [
    "g4.loc[(g4['DPF유무_확인전'].isnull() == True) & (g4['DPF유무_제작사확인'] == '유')].shape"
   ]
  },
  {
   "cell_type": "code",
   "execution_count": 110,
   "metadata": {},
   "outputs": [
    {
     "data": {
      "text/html": [
       "<div>\n",
       "<style scoped>\n",
       "    .dataframe tbody tr th:only-of-type {\n",
       "        vertical-align: middle;\n",
       "    }\n",
       "\n",
       "    .dataframe tbody tr th {\n",
       "        vertical-align: top;\n",
       "    }\n",
       "\n",
       "    .dataframe thead th {\n",
       "        text-align: right;\n",
       "    }\n",
       "</style>\n",
       "<table border=\"1\" class=\"dataframe\">\n",
       "  <thead>\n",
       "    <tr style=\"text-align: right;\">\n",
       "      <th></th>\n",
       "      <th>배출가스인증번호_제작사확인</th>\n",
       "      <th>제작사명</th>\n",
       "      <th>차명</th>\n",
       "      <th>차량대수</th>\n",
       "    </tr>\n",
       "  </thead>\n",
       "  <tbody>\n",
       "    <tr>\n",
       "      <th>0</th>\n",
       "      <td>5MY-AD-13-07</td>\n",
       "      <td>아우디폭스바겐코리아(주)</td>\n",
       "      <td>Touareg 3.0 TDI</td>\n",
       "      <td>118</td>\n",
       "    </tr>\n",
       "    <tr>\n",
       "      <th>1</th>\n",
       "      <td>5MY-AD-13-13</td>\n",
       "      <td>아우디폭스바겐코리아(주)</td>\n",
       "      <td>A8 4.2 TDI Quattro</td>\n",
       "      <td>50</td>\n",
       "    </tr>\n",
       "    <tr>\n",
       "      <th>2</th>\n",
       "      <td>5MY-AD-13-13</td>\n",
       "      <td>아우디폭스바겐코리아(주)</td>\n",
       "      <td>A8 LWB 4.2 TDI Quattro</td>\n",
       "      <td>1</td>\n",
       "    </tr>\n",
       "    <tr>\n",
       "      <th>3</th>\n",
       "      <td>5MY-BK-14-07</td>\n",
       "      <td>비엠더블유코리아(주)</td>\n",
       "      <td>BMW X3 3.0d</td>\n",
       "      <td>8</td>\n",
       "    </tr>\n",
       "    <tr>\n",
       "      <th>4</th>\n",
       "      <td>5MY-BK-14-07</td>\n",
       "      <td>자기인증면제차량</td>\n",
       "      <td>BMW X3 3.0d</td>\n",
       "      <td>1</td>\n",
       "    </tr>\n",
       "    <tr>\n",
       "      <th>...</th>\n",
       "      <td>...</td>\n",
       "      <td>...</td>\n",
       "      <td>...</td>\n",
       "      <td>...</td>\n",
       "    </tr>\n",
       "    <tr>\n",
       "      <th>184</th>\n",
       "      <td>FMY-VTK-14-3</td>\n",
       "      <td>볼보트럭코리아(주)</td>\n",
       "      <td>FE 카고</td>\n",
       "      <td>1</td>\n",
       "    </tr>\n",
       "    <tr>\n",
       "      <th>185</th>\n",
       "      <td>FMY-VTK-14-3</td>\n",
       "      <td>볼보트럭코리아(주)</td>\n",
       "      <td>FL 카고</td>\n",
       "      <td>68</td>\n",
       "    </tr>\n",
       "    <tr>\n",
       "      <th>186</th>\n",
       "      <td>FMY-VTK-14-3</td>\n",
       "      <td>볼보트럭코리아(주)</td>\n",
       "      <td>FL4X2카고트럭</td>\n",
       "      <td>6</td>\n",
       "    </tr>\n",
       "    <tr>\n",
       "      <th>187</th>\n",
       "      <td>FMY-VTK-14-4</td>\n",
       "      <td>볼보트럭코리아(주)</td>\n",
       "      <td>FH 트랙터</td>\n",
       "      <td>49</td>\n",
       "    </tr>\n",
       "    <tr>\n",
       "      <th>188</th>\n",
       "      <td>확인불가</td>\n",
       "      <td>현대자동차(주)</td>\n",
       "      <td>뉴파워트럭</td>\n",
       "      <td>3</td>\n",
       "    </tr>\n",
       "  </tbody>\n",
       "</table>\n",
       "<p>189 rows × 4 columns</p>\n",
       "</div>"
      ],
      "text/plain": [
       "    배출가스인증번호_제작사확인           제작사명                      차명  차량대수\n",
       "0     5MY-AD-13-07  아우디폭스바겐코리아(주)         Touareg 3.0 TDI   118\n",
       "1     5MY-AD-13-13  아우디폭스바겐코리아(주)      A8 4.2 TDI Quattro    50\n",
       "2     5MY-AD-13-13  아우디폭스바겐코리아(주)  A8 LWB 4.2 TDI Quattro     1\n",
       "3     5MY-BK-14-07    비엠더블유코리아(주)             BMW X3 3.0d     8\n",
       "4     5MY-BK-14-07       자기인증면제차량             BMW X3 3.0d     1\n",
       "..             ...            ...                     ...   ...\n",
       "184   FMY-VTK-14-3     볼보트럭코리아(주)                   FE 카고     1\n",
       "185   FMY-VTK-14-3     볼보트럭코리아(주)                   FL 카고    68\n",
       "186   FMY-VTK-14-3     볼보트럭코리아(주)               FL4X2카고트럭     6\n",
       "187   FMY-VTK-14-4     볼보트럭코리아(주)                  FH 트랙터    49\n",
       "188           확인불가       현대자동차(주)                   뉴파워트럭     3\n",
       "\n",
       "[189 rows x 4 columns]"
      ]
     },
     "execution_count": 110,
     "metadata": {},
     "output_type": "execute_result"
    }
   ],
   "source": [
    "chk_dpf_nany_group = g4.loc[(g4['DPF유무_확인전'].isnull() == True) & (g4['DPF유무_제작사확인'] == '유')].groupby(['배출가스인증번호_제작사확인', '제작사명', '차명'])['차대번호'].count().reset_index()\n",
    "chk_dpf_nany_group = chk_dpf_nany_group.rename(columns={'차대번호':'차량대수'})\n",
    "chk_dpf_nany_group"
   ]
  },
  {
   "attachments": {},
   "cell_type": "markdown",
   "metadata": {},
   "source": [
    "## 출력"
   ]
  },
  {
   "cell_type": "code",
   "execution_count": 112,
   "metadata": {},
   "outputs": [],
   "source": [
    "with pd.ExcelWriter(os.path.join(bd1_an_fold, 'result(경유)_DPF_부착_확인_내역.xlsx')) as writer:\n",
    "    chk_dpf_yn_group.to_excel(writer, sheet_name='유-무', index=False)\n",
    "    chk_dpf_nann_group.to_excel(writer, sheet_name='결측-무', index=False)\n",
    "    chk_dpf_ny_group.to_excel(writer, sheet_name='무-유', index=False)\n",
    "    chk_dpf_nany_group.to_excel(writer, sheet_name='결측-유', index=False)"
   ]
  },
  {
   "attachments": {},
   "cell_type": "markdown",
   "metadata": {},
   "source": [
    "# Code End"
   ]
  }
 ],
 "metadata": {
  "kernelspec": {
   "display_name": "base",
   "language": "python",
   "name": "python3"
  },
  "language_info": {
   "codemirror_mode": {
    "name": "ipython",
    "version": 3
   },
   "file_extension": ".py",
   "mimetype": "text/x-python",
   "name": "python",
   "nbconvert_exporter": "python",
   "pygments_lexer": "ipython3",
   "version": "3.9.13"
  },
  "orig_nbformat": 4,
  "vscode": {
   "interpreter": {
    "hash": "ad2bdc8ecc057115af97d19610ffacc2b4e99fae6737bb82f5d7fb13d2f2c186"
   }
  }
 },
 "nbformat": 4,
 "nbformat_minor": 2
}
