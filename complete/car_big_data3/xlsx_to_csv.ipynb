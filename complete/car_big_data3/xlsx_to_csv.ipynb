{
 "cells": [
  {
   "cell_type": "markdown",
   "metadata": {},
   "source": [
    "# Library"
   ]
  },
  {
   "cell_type": "code",
   "execution_count": 1,
   "metadata": {},
   "outputs": [],
   "source": [
    "import pandas as pd\n",
    "import os\n",
    "from glob import glob\n",
    "from datetime import datetime"
   ]
  },
  {
   "attachments": {},
   "cell_type": "markdown",
   "metadata": {},
   "source": [
    "# FOLD"
   ]
  },
  {
   "cell_type": "code",
   "execution_count": 2,
   "metadata": {},
   "outputs": [],
   "source": [
    "drive = 'D'"
   ]
  },
  {
   "cell_type": "code",
   "execution_count": 3,
   "metadata": {},
   "outputs": [],
   "source": [
    "ods_fold = f'{drive}:/data/complete/big2/ods'\n",
    "\n",
    "raw1_fold = f'{drive}:/data/complete/big2/BD1/raw'\n",
    "df1_fold = f'{drive}:/data/complete/big2/BD1/df'\n",
    "\n",
    "raw3_fold = f'{drive}:/data/complete/big2/BD3/raw'\n",
    "df3_fold = f'{drive}:/data/complete/big2/BD3/df'"
   ]
  },
  {
   "cell_type": "code",
   "execution_count": 2,
   "metadata": {},
   "outputs": [],
   "source": [
    "upload_fold = 'C:/Users/kbjoo/Downloads/2023.11.02(자동차 현황 환경부 보고 자료)/완료'"
   ]
  },
  {
   "cell_type": "code",
   "execution_count": 4,
   "metadata": {},
   "outputs": [],
   "source": [
    "def etoc(name, fold):\n",
    "    file_name = f'{name}.xlsx'\n",
    "    df = pd.read_excel(os.path.join(fold, file_name))\n",
    "    df.to_csv(os.path.join(fold, f'{name}.csv'), index=False)\n",
    "    print(os.path.join(fold, f'{name}.csv 출력완료.'))"
   ]
  },
  {
   "cell_type": "code",
   "execution_count": 5,
   "metadata": {},
   "outputs": [],
   "source": [
    "def ctoc(name, fold):\n",
    "    file_name = f'{name}.csv'\n",
    "    df = pd.read_csv(os.path.join(fold, file_name), encoding='cp949')\n",
    "    df.to_csv(os.path.join(fold, f'{name}.csv'), index=False)\n",
    "    print(os.path.join(fold, f'{name}.csv 출력완료.'))"
   ]
  },
  {
   "cell_type": "code",
   "execution_count": 6,
   "metadata": {},
   "outputs": [],
   "source": [
    "def multi_etoc(fold):\n",
    "    for file_name in glob(os.path.join(fold, '*.xlsx')):\n",
    "        name = file_name.split('\\\\')[-1]\n",
    "        csv_name = name.split('.')[0] + '.csv'\n",
    "        df = pd.read_excel(os.path.join(fold, name))\n",
    "        df.to_csv(os.path.join(fold, csv_name), index=False)\n",
    "        print(os.path.join(fold, csv_name), '출력완료.')"
   ]
  },
  {
   "cell_type": "code",
   "execution_count": 13,
   "metadata": {},
   "outputs": [
    {
     "name": "stdout",
     "output_type": "stream",
     "text": [
      "D:/data/big2/BD3/raw\\STD_BD_CAR_CURSTT_MOD.csv 출력완료.\n"
     ]
    }
   ],
   "source": [
    "name = 'STD_BD_CAR_CURSTT_MOD'\n",
    "fold = raw3_fold\n",
    "etoc(name, fold)"
   ]
  },
  {
   "cell_type": "code",
   "execution_count": 10,
   "metadata": {},
   "outputs": [
    {
     "name": "stdout",
     "output_type": "stream",
     "text": [
      "D:/data/big2/BD3/raw\\5등급_저공해미조치.csv 출력완료.\n"
     ]
    }
   ],
   "source": [
    "name = '5등급_저공해미조치'\n",
    "fold = raw3_fold\n",
    "etoc(name, fold)"
   ]
  },
  {
   "cell_type": "code",
   "execution_count": 22,
   "metadata": {},
   "outputs": [
    {
     "name": "stdout",
     "output_type": "stream",
     "text": [
      "D:/data/big2/BD1/raw\\용도별_차종별_시군구별_자동차1일평균주행거리(2021).csv 출력완료.\n"
     ]
    }
   ],
   "source": [
    "name = '용도별_차종별_시군구별_자동차1일평균주행거리(2021)'\n",
    "fold = raw1_fold\n",
    "etoc(name, fold)"
   ]
  },
  {
   "cell_type": "code",
   "execution_count": 8,
   "metadata": {},
   "outputs": [
    {
     "name": "stdout",
     "output_type": "stream",
     "text": [
      "D:/data/big2/BD3/df\\STD_BD_ECO_CAR_PRET.csv 출력완료.\n"
     ]
    }
   ],
   "source": [
    "name = 'STD_BD_ECO_CAR_PRET'\n",
    "fold = df3_fold\n",
    "ctoc(name, fold)"
   ]
  },
  {
   "cell_type": "code",
   "execution_count": 22,
   "metadata": {},
   "outputs": [
    {
     "name": "stdout",
     "output_type": "stream",
     "text": [
      "D:/data/big2/BD3/df\\STD_BD_CAR_CURSTT_MOD.csv 출력완료.\n",
      "D:/data/big2/BD3/df\\STD_BD_CAR_CURSTT_MOD2.csv 출력완료.\n",
      "D:/data/big2/BD3/df\\STD_BD_CAR_PRET.csv 출력완료.\n",
      "D:/data/big2/BD3/df\\STD_BD_CAR_REG_MKCNT.csv 출력완료.\n",
      "D:/data/big2/BD3/df\\STD_BD_ECO_CAR_PRET.csv 출력완료.\n",
      "D:/data/big2/BD3/df\\STD_BD_GRD4_DS_CRRLTN_CFFCNT.csv 출력완료.\n",
      "D:/data/big2/BD3/df\\STD_BD_GRD5_DS_DPF_CRRLTN_CFFCNT.csv 출력완료.\n",
      "D:/data/big2/BD3/df\\STD_BD_GRD5_DS_ELPDSRC_CRRLTN_CFFCNT.csv 출력완료.\n",
      "D:/data/big2/BD3/df\\STD_BD_GRD5_ELPDSRC_CURSTT.csv 출력완료.\n",
      "D:/data/big2/BD3/df\\STD_BD_GRD5_LEM_N_MOD.csv 출력완료.\n"
     ]
    }
   ],
   "source": [
    "multi_etoc(df3_fold)"
   ]
  },
  {
   "cell_type": "markdown",
   "metadata": {},
   "source": [
    "## STD_BD_CAR_CURSTT_MOD"
   ]
  },
  {
   "cell_type": "code",
   "execution_count": 7,
   "metadata": {},
   "outputs": [
    {
     "data": {
      "text/plain": [
       "'2023.11.02'"
      ]
     },
     "execution_count": 7,
     "metadata": {},
     "output_type": "execute_result"
    }
   ],
   "source": [
    "today_date = datetime.today().strftime('%Y.%m.%d')\n",
    "today_date"
   ]
  },
  {
   "cell_type": "code",
   "execution_count": 4,
   "metadata": {},
   "outputs": [
    {
     "name": "stdout",
     "output_type": "stream",
     "text": [
      "<class 'pandas.core.frame.DataFrame'>\n",
      "RangeIndex: 5202 entries, 0 to 5201\n",
      "Data columns (total 7 columns):\n",
      " #   Column            Non-Null Count  Dtype \n",
      "---  ------            --------------  ----- \n",
      " 0   CRTR_YM           5202 non-null   int64 \n",
      " 1   YR                5202 non-null   int64 \n",
      " 2   RGN               5202 non-null   object\n",
      " 3   CTPV_NM           5202 non-null   object\n",
      " 4   EXHST_GAS_GRD_CD  5202 non-null   object\n",
      " 5   VHCL_MKCNT        5202 non-null   int64 \n",
      " 6   LOAD_DT           5202 non-null   int64 \n",
      "dtypes: int64(4), object(3)\n",
      "memory usage: 284.6+ KB\n"
     ]
    }
   ],
   "source": [
    "# about \n",
    "name = f'STD_BD_CAR_CURSTT_MOD_20231211'\n",
    "file_name = f'{name}.xlsx'\n",
    "df = pd.read_excel(os.path.join(upload_fold, file_name))\n",
    "df.info()"
   ]
  },
  {
   "cell_type": "code",
   "execution_count": 10,
   "metadata": {},
   "outputs": [
    {
     "data": {
      "text/html": [
       "<div>\n",
       "<style scoped>\n",
       "    .dataframe tbody tr th:only-of-type {\n",
       "        vertical-align: middle;\n",
       "    }\n",
       "\n",
       "    .dataframe tbody tr th {\n",
       "        vertical-align: top;\n",
       "    }\n",
       "\n",
       "    .dataframe thead th {\n",
       "        text-align: right;\n",
       "    }\n",
       "</style>\n",
       "<table border=\"1\" class=\"dataframe\">\n",
       "  <thead>\n",
       "    <tr style=\"text-align: right;\">\n",
       "      <th></th>\n",
       "      <th>CRTR_YM</th>\n",
       "      <th>YR</th>\n",
       "      <th>RGN</th>\n",
       "      <th>CTPV_NM</th>\n",
       "      <th>EXHST_GAS_GRD_CD</th>\n",
       "      <th>VHCL_MKCNT</th>\n",
       "      <th>LOAD_DT</th>\n",
       "    </tr>\n",
       "  </thead>\n",
       "  <tbody>\n",
       "    <tr>\n",
       "      <th>0</th>\n",
       "      <td>201907</td>\n",
       "      <td>2019</td>\n",
       "      <td>수도권</td>\n",
       "      <td>서울특별시</td>\n",
       "      <td>1</td>\n",
       "      <td>245668</td>\n",
       "      <td>20231103</td>\n",
       "    </tr>\n",
       "    <tr>\n",
       "      <th>1</th>\n",
       "      <td>201907</td>\n",
       "      <td>2019</td>\n",
       "      <td>수도권</td>\n",
       "      <td>서울특별시</td>\n",
       "      <td>2</td>\n",
       "      <td>1283202</td>\n",
       "      <td>20231103</td>\n",
       "    </tr>\n",
       "    <tr>\n",
       "      <th>2</th>\n",
       "      <td>201907</td>\n",
       "      <td>2019</td>\n",
       "      <td>수도권</td>\n",
       "      <td>서울특별시</td>\n",
       "      <td>3</td>\n",
       "      <td>1101919</td>\n",
       "      <td>20231103</td>\n",
       "    </tr>\n",
       "    <tr>\n",
       "      <th>3</th>\n",
       "      <td>201907</td>\n",
       "      <td>2019</td>\n",
       "      <td>수도권</td>\n",
       "      <td>서울특별시</td>\n",
       "      <td>4</td>\n",
       "      <td>244329</td>\n",
       "      <td>20231103</td>\n",
       "    </tr>\n",
       "    <tr>\n",
       "      <th>4</th>\n",
       "      <td>201907</td>\n",
       "      <td>2019</td>\n",
       "      <td>수도권</td>\n",
       "      <td>서울특별시</td>\n",
       "      <td>5</td>\n",
       "      <td>215777</td>\n",
       "      <td>20231103</td>\n",
       "    </tr>\n",
       "  </tbody>\n",
       "</table>\n",
       "</div>"
      ],
      "text/plain": [
       "   CRTR_YM    YR  RGN CTPV_NM EXHST_GAS_GRD_CD  VHCL_MKCNT   LOAD_DT\n",
       "0   201907  2019  수도권   서울특별시                1      245668  20231103\n",
       "1   201907  2019  수도권   서울특별시                2     1283202  20231103\n",
       "2   201907  2019  수도권   서울특별시                3     1101919  20231103\n",
       "3   201907  2019  수도권   서울특별시                4      244329  20231103\n",
       "4   201907  2019  수도권   서울특별시                5      215777  20231103"
      ]
     },
     "execution_count": 10,
     "metadata": {},
     "output_type": "execute_result"
    }
   ],
   "source": [
    "df.head()"
   ]
  },
  {
   "cell_type": "code",
   "execution_count": 5,
   "metadata": {},
   "outputs": [
    {
     "data": {
      "text/html": [
       "<div>\n",
       "<style scoped>\n",
       "    .dataframe tbody tr th:only-of-type {\n",
       "        vertical-align: middle;\n",
       "    }\n",
       "\n",
       "    .dataframe tbody tr th {\n",
       "        vertical-align: top;\n",
       "    }\n",
       "\n",
       "    .dataframe thead th {\n",
       "        text-align: right;\n",
       "    }\n",
       "</style>\n",
       "<table border=\"1\" class=\"dataframe\">\n",
       "  <thead>\n",
       "    <tr style=\"text-align: right;\">\n",
       "      <th></th>\n",
       "      <th>CRTR_YM</th>\n",
       "      <th>YR</th>\n",
       "      <th>RGN</th>\n",
       "      <th>CTPV_NM</th>\n",
       "      <th>EXHST_GAS_GRD_CD</th>\n",
       "      <th>VHCL_MKCNT</th>\n",
       "      <th>LOAD_DT</th>\n",
       "    </tr>\n",
       "  </thead>\n",
       "  <tbody>\n",
       "    <tr>\n",
       "      <th>5197</th>\n",
       "      <td>202311</td>\n",
       "      <td>2023</td>\n",
       "      <td>비수도권</td>\n",
       "      <td>제주특별자치도</td>\n",
       "      <td>2</td>\n",
       "      <td>318925</td>\n",
       "      <td>20231211</td>\n",
       "    </tr>\n",
       "    <tr>\n",
       "      <th>5198</th>\n",
       "      <td>202311</td>\n",
       "      <td>2023</td>\n",
       "      <td>비수도권</td>\n",
       "      <td>제주특별자치도</td>\n",
       "      <td>3</td>\n",
       "      <td>207375</td>\n",
       "      <td>20231211</td>\n",
       "    </tr>\n",
       "    <tr>\n",
       "      <th>5199</th>\n",
       "      <td>202311</td>\n",
       "      <td>2023</td>\n",
       "      <td>비수도권</td>\n",
       "      <td>제주특별자치도</td>\n",
       "      <td>4</td>\n",
       "      <td>24281</td>\n",
       "      <td>20231211</td>\n",
       "    </tr>\n",
       "    <tr>\n",
       "      <th>5200</th>\n",
       "      <td>202311</td>\n",
       "      <td>2023</td>\n",
       "      <td>비수도권</td>\n",
       "      <td>제주특별자치도</td>\n",
       "      <td>5</td>\n",
       "      <td>18871</td>\n",
       "      <td>20231211</td>\n",
       "    </tr>\n",
       "    <tr>\n",
       "      <th>5201</th>\n",
       "      <td>202311</td>\n",
       "      <td>2023</td>\n",
       "      <td>비수도권</td>\n",
       "      <td>제주특별자치도</td>\n",
       "      <td>X</td>\n",
       "      <td>1059</td>\n",
       "      <td>20231211</td>\n",
       "    </tr>\n",
       "  </tbody>\n",
       "</table>\n",
       "</div>"
      ],
      "text/plain": [
       "      CRTR_YM    YR   RGN  CTPV_NM EXHST_GAS_GRD_CD  VHCL_MKCNT   LOAD_DT\n",
       "5197   202311  2023  비수도권  제주특별자치도                2      318925  20231211\n",
       "5198   202311  2023  비수도권  제주특별자치도                3      207375  20231211\n",
       "5199   202311  2023  비수도권  제주특별자치도                4       24281  20231211\n",
       "5200   202311  2023  비수도권  제주특별자치도                5       18871  20231211\n",
       "5201   202311  2023  비수도권  제주특별자치도                X        1059  20231211"
      ]
     },
     "execution_count": 5,
     "metadata": {},
     "output_type": "execute_result"
    }
   ],
   "source": [
    "df.tail()"
   ]
  },
  {
   "cell_type": "code",
   "execution_count": 6,
   "metadata": {},
   "outputs": [],
   "source": [
    "# df.LOAD_DT = int(today_date)\n",
    "# df.head()"
   ]
  },
  {
   "cell_type": "code",
   "execution_count": 7,
   "metadata": {},
   "outputs": [
    {
     "name": "stdout",
     "output_type": "stream",
     "text": [
      "<class 'pandas.core.frame.DataFrame'>\n",
      "RangeIndex: 5202 entries, 0 to 5201\n",
      "Data columns (total 7 columns):\n",
      " #   Column            Non-Null Count  Dtype \n",
      "---  ------            --------------  ----- \n",
      " 0   CRTR_YM           5202 non-null   int64 \n",
      " 1   YR                5202 non-null   int64 \n",
      " 2   RGN               5202 non-null   object\n",
      " 3   CTPV_NM           5202 non-null   object\n",
      " 4   EXHST_GAS_GRD_CD  5202 non-null   object\n",
      " 5   VHCL_MKCNT        5202 non-null   int64 \n",
      " 6   LOAD_DT           5202 non-null   int64 \n",
      "dtypes: int64(4), object(3)\n",
      "memory usage: 284.6+ KB\n"
     ]
    }
   ],
   "source": [
    "df.info()"
   ]
  },
  {
   "cell_type": "code",
   "execution_count": 8,
   "metadata": {},
   "outputs": [
    {
     "data": {
      "text/plain": [
       "array([1, 2, 3, 4, 5, 'X'], dtype=object)"
      ]
     },
     "execution_count": 8,
     "metadata": {},
     "output_type": "execute_result"
    }
   ],
   "source": [
    "df.EXHST_GAS_GRD_CD.unique()"
   ]
  },
  {
   "cell_type": "code",
   "execution_count": 9,
   "metadata": {},
   "outputs": [
    {
     "data": {
      "text/plain": [
       "array(['1', '2', '3', '4', '5', '미분류'], dtype=object)"
      ]
     },
     "execution_count": 9,
     "metadata": {},
     "output_type": "execute_result"
    }
   ],
   "source": [
    "grd_dict = {\n",
    "    1:'1', \n",
    "    2:'2', \n",
    "    3:'3', \n",
    "    4:'4', \n",
    "    5:'5', \n",
    "    'X':'미분류', \n",
    "}\n",
    "df.EXHST_GAS_GRD_CD = df.EXHST_GAS_GRD_CD.replace(grd_dict)\n",
    "df.EXHST_GAS_GRD_CD.unique()"
   ]
  },
  {
   "cell_type": "markdown",
   "metadata": {},
   "source": [
    "### [출력] csv"
   ]
  },
  {
   "cell_type": "code",
   "execution_count": 11,
   "metadata": {},
   "outputs": [],
   "source": [
    "# 0.1s\n",
    "df.to_csv(os.path.join(upload_fold, f'{name}.csv'), index=False)"
   ]
  },
  {
   "cell_type": "markdown",
   "metadata": {},
   "source": [
    "## STD_BD_CAR_CURSTT_MOD2"
   ]
  },
  {
   "cell_type": "code",
   "execution_count": 15,
   "metadata": {},
   "outputs": [
    {
     "data": {
      "text/plain": [
       "'2023.11.02'"
      ]
     },
     "execution_count": 15,
     "metadata": {},
     "output_type": "execute_result"
    }
   ],
   "source": [
    "today_date = datetime.today().strftime('%Y.%m.%d')\n",
    "today_date"
   ]
  },
  {
   "cell_type": "code",
   "execution_count": 13,
   "metadata": {},
   "outputs": [
    {
     "name": "stdout",
     "output_type": "stream",
     "text": [
      "<class 'pandas.core.frame.DataFrame'>\n",
      "RangeIndex: 867 entries, 0 to 866\n",
      "Data columns (total 6 columns):\n",
      " #   Column            Non-Null Count  Dtype \n",
      "---  ------            --------------  ----- \n",
      " 0   CRTR_YM           867 non-null    int64 \n",
      " 1   YR                867 non-null    int64 \n",
      " 2   FUEL_CD           867 non-null    object\n",
      " 3   EXHST_GAS_GRD_CD  867 non-null    int64 \n",
      " 4   VHCL_MKCNT        867 non-null    int64 \n",
      " 5   LOAD_DT           867 non-null    int64 \n",
      "dtypes: int64(5), object(1)\n",
      "memory usage: 40.8+ KB\n"
     ]
    }
   ],
   "source": [
    "# about \n",
    "name = f'STD_BD_CAR_CURSTT_MOD2_20231211'\n",
    "file_name = f'{name}.xlsx'\n",
    "df = pd.read_excel(os.path.join(upload_fold, file_name))\n",
    "df.info()"
   ]
  },
  {
   "cell_type": "code",
   "execution_count": 14,
   "metadata": {},
   "outputs": [
    {
     "data": {
      "text/plain": [
       "array([1, 2, 3, 4, 5], dtype=int64)"
      ]
     },
     "execution_count": 14,
     "metadata": {},
     "output_type": "execute_result"
    }
   ],
   "source": [
    "df.EXHST_GAS_GRD_CD.unique()"
   ]
  },
  {
   "cell_type": "code",
   "execution_count": 16,
   "metadata": {},
   "outputs": [
    {
     "data": {
      "text/html": [
       "<div>\n",
       "<style scoped>\n",
       "    .dataframe tbody tr th:only-of-type {\n",
       "        vertical-align: middle;\n",
       "    }\n",
       "\n",
       "    .dataframe tbody tr th {\n",
       "        vertical-align: top;\n",
       "    }\n",
       "\n",
       "    .dataframe thead th {\n",
       "        text-align: right;\n",
       "    }\n",
       "</style>\n",
       "<table border=\"1\" class=\"dataframe\">\n",
       "  <thead>\n",
       "    <tr style=\"text-align: right;\">\n",
       "      <th></th>\n",
       "      <th>CRTR_YM</th>\n",
       "      <th>YR</th>\n",
       "      <th>FUEL_CD</th>\n",
       "      <th>EXHST_GAS_GRD_CD</th>\n",
       "      <th>VHCL_MKCNT</th>\n",
       "      <th>LOAD_DT</th>\n",
       "    </tr>\n",
       "  </thead>\n",
       "  <tbody>\n",
       "    <tr>\n",
       "      <th>0</th>\n",
       "      <td>201907</td>\n",
       "      <td>2019</td>\n",
       "      <td>휘발유</td>\n",
       "      <td>1</td>\n",
       "      <td>925978</td>\n",
       "      <td>20231103</td>\n",
       "    </tr>\n",
       "    <tr>\n",
       "      <th>1</th>\n",
       "      <td>201907</td>\n",
       "      <td>2019</td>\n",
       "      <td>휘발유</td>\n",
       "      <td>2</td>\n",
       "      <td>8273839</td>\n",
       "      <td>20231103</td>\n",
       "    </tr>\n",
       "    <tr>\n",
       "      <th>2</th>\n",
       "      <td>201907</td>\n",
       "      <td>2019</td>\n",
       "      <td>휘발유</td>\n",
       "      <td>3</td>\n",
       "      <td>1612221</td>\n",
       "      <td>20231103</td>\n",
       "    </tr>\n",
       "    <tr>\n",
       "      <th>3</th>\n",
       "      <td>201907</td>\n",
       "      <td>2019</td>\n",
       "      <td>휘발유</td>\n",
       "      <td>4</td>\n",
       "      <td>437692</td>\n",
       "      <td>20231103</td>\n",
       "    </tr>\n",
       "    <tr>\n",
       "      <th>4</th>\n",
       "      <td>201907</td>\n",
       "      <td>2019</td>\n",
       "      <td>휘발유</td>\n",
       "      <td>5</td>\n",
       "      <td>30425</td>\n",
       "      <td>20231103</td>\n",
       "    </tr>\n",
       "  </tbody>\n",
       "</table>\n",
       "</div>"
      ],
      "text/plain": [
       "   CRTR_YM    YR FUEL_CD  EXHST_GAS_GRD_CD  VHCL_MKCNT   LOAD_DT\n",
       "0   201907  2019     휘발유                 1      925978  20231103\n",
       "1   201907  2019     휘발유                 2     8273839  20231103\n",
       "2   201907  2019     휘발유                 3     1612221  20231103\n",
       "3   201907  2019     휘발유                 4      437692  20231103\n",
       "4   201907  2019     휘발유                 5       30425  20231103"
      ]
     },
     "execution_count": 16,
     "metadata": {},
     "output_type": "execute_result"
    }
   ],
   "source": [
    "df.head()"
   ]
  },
  {
   "cell_type": "code",
   "execution_count": 15,
   "metadata": {},
   "outputs": [
    {
     "data": {
      "text/html": [
       "<div>\n",
       "<style scoped>\n",
       "    .dataframe tbody tr th:only-of-type {\n",
       "        vertical-align: middle;\n",
       "    }\n",
       "\n",
       "    .dataframe tbody tr th {\n",
       "        vertical-align: top;\n",
       "    }\n",
       "\n",
       "    .dataframe thead th {\n",
       "        text-align: right;\n",
       "    }\n",
       "</style>\n",
       "<table border=\"1\" class=\"dataframe\">\n",
       "  <thead>\n",
       "    <tr style=\"text-align: right;\">\n",
       "      <th></th>\n",
       "      <th>CRTR_YM</th>\n",
       "      <th>YR</th>\n",
       "      <th>FUEL_CD</th>\n",
       "      <th>EXHST_GAS_GRD_CD</th>\n",
       "      <th>VHCL_MKCNT</th>\n",
       "      <th>LOAD_DT</th>\n",
       "    </tr>\n",
       "  </thead>\n",
       "  <tbody>\n",
       "    <tr>\n",
       "      <th>862</th>\n",
       "      <td>202311</td>\n",
       "      <td>2023</td>\n",
       "      <td>LPG(액화석유가스)</td>\n",
       "      <td>5</td>\n",
       "      <td>436</td>\n",
       "      <td>20231211</td>\n",
       "    </tr>\n",
       "    <tr>\n",
       "      <th>863</th>\n",
       "      <td>202311</td>\n",
       "      <td>2023</td>\n",
       "      <td>전기수소</td>\n",
       "      <td>1</td>\n",
       "      <td>565821</td>\n",
       "      <td>20231211</td>\n",
       "    </tr>\n",
       "    <tr>\n",
       "      <th>864</th>\n",
       "      <td>202311</td>\n",
       "      <td>2023</td>\n",
       "      <td>기타</td>\n",
       "      <td>3</td>\n",
       "      <td>3</td>\n",
       "      <td>20231211</td>\n",
       "    </tr>\n",
       "    <tr>\n",
       "      <th>865</th>\n",
       "      <td>202311</td>\n",
       "      <td>2023</td>\n",
       "      <td>기타</td>\n",
       "      <td>4</td>\n",
       "      <td>36</td>\n",
       "      <td>20231211</td>\n",
       "    </tr>\n",
       "    <tr>\n",
       "      <th>866</th>\n",
       "      <td>202311</td>\n",
       "      <td>2023</td>\n",
       "      <td>기타</td>\n",
       "      <td>5</td>\n",
       "      <td>26</td>\n",
       "      <td>20231211</td>\n",
       "    </tr>\n",
       "  </tbody>\n",
       "</table>\n",
       "</div>"
      ],
      "text/plain": [
       "     CRTR_YM    YR      FUEL_CD  EXHST_GAS_GRD_CD  VHCL_MKCNT   LOAD_DT\n",
       "862   202311  2023  LPG(액화석유가스)                 5         436  20231211\n",
       "863   202311  2023         전기수소                 1      565821  20231211\n",
       "864   202311  2023           기타                 3           3  20231211\n",
       "865   202311  2023           기타                 4          36  20231211\n",
       "866   202311  2023           기타                 5          26  20231211"
      ]
     },
     "execution_count": 15,
     "metadata": {},
     "output_type": "execute_result"
    }
   ],
   "source": [
    "df.tail()"
   ]
  },
  {
   "cell_type": "code",
   "execution_count": 19,
   "metadata": {},
   "outputs": [],
   "source": [
    "# df.LOAD_DT = int(today_date)\n",
    "# df.head()"
   ]
  },
  {
   "cell_type": "markdown",
   "metadata": {},
   "source": [
    "### [출력] csv"
   ]
  },
  {
   "cell_type": "code",
   "execution_count": 17,
   "metadata": {},
   "outputs": [],
   "source": [
    "# 0.1s\n",
    "df.to_csv(os.path.join(upload_fold, f'{name}.csv'), index=False)"
   ]
  },
  {
   "cell_type": "markdown",
   "metadata": {},
   "source": [
    "## STD_BD_CAR_CURSTT_MOD_4RD_INS"
   ]
  },
  {
   "cell_type": "code",
   "execution_count": 21,
   "metadata": {},
   "outputs": [
    {
     "data": {
      "text/plain": [
       "'2023.11.02'"
      ]
     },
     "execution_count": 21,
     "metadata": {},
     "output_type": "execute_result"
    }
   ],
   "source": [
    "today_date = datetime.today().strftime('%Y.%m.%d')\n",
    "today_date"
   ]
  },
  {
   "cell_type": "code",
   "execution_count": 18,
   "metadata": {},
   "outputs": [
    {
     "name": "stdout",
     "output_type": "stream",
     "text": [
      "<class 'pandas.core.frame.DataFrame'>\n",
      "RangeIndex: 612 entries, 0 to 611\n",
      "Data columns (total 7 columns):\n",
      " #   Column      Non-Null Count  Dtype         \n",
      "---  ------      --------------  -----         \n",
      " 0   YR          612 non-null    int64         \n",
      " 1   CRTR_YM     612 non-null    int64         \n",
      " 2   FUEL_CD     612 non-null    object        \n",
      " 3   RGN         612 non-null    object        \n",
      " 4   CTPV_NM     612 non-null    object        \n",
      " 5   VHCL_MKCNT  612 non-null    int64         \n",
      " 6   LOAD_DT     612 non-null    datetime64[ns]\n",
      "dtypes: datetime64[ns](1), int64(3), object(3)\n",
      "memory usage: 33.6+ KB\n"
     ]
    }
   ],
   "source": [
    "# about \n",
    "name = f'STD_BD_CAR_CURSTT_MOD_4RD_INS_20231211'\n",
    "file_name = f'{name}.xlsx'\n",
    "df = pd.read_excel(os.path.join(upload_fold, file_name))\n",
    "df.info()"
   ]
  },
  {
   "cell_type": "code",
   "execution_count": 20,
   "metadata": {},
   "outputs": [
    {
     "data": {
      "text/html": [
       "<div>\n",
       "<style scoped>\n",
       "    .dataframe tbody tr th:only-of-type {\n",
       "        vertical-align: middle;\n",
       "    }\n",
       "\n",
       "    .dataframe tbody tr th {\n",
       "        vertical-align: top;\n",
       "    }\n",
       "\n",
       "    .dataframe thead th {\n",
       "        text-align: right;\n",
       "    }\n",
       "</style>\n",
       "<table border=\"1\" class=\"dataframe\">\n",
       "  <thead>\n",
       "    <tr style=\"text-align: right;\">\n",
       "      <th></th>\n",
       "      <th>YR</th>\n",
       "      <th>CRTR_YM</th>\n",
       "      <th>FUEL_CD</th>\n",
       "      <th>RGN</th>\n",
       "      <th>CTPV_NM</th>\n",
       "      <th>VHCL_MKCNT</th>\n",
       "      <th>LOAD_DT</th>\n",
       "    </tr>\n",
       "  </thead>\n",
       "  <tbody>\n",
       "    <tr>\n",
       "      <th>0</th>\n",
       "      <td>2023</td>\n",
       "      <td>202306</td>\n",
       "      <td>경유</td>\n",
       "      <td>수도권</td>\n",
       "      <td>서울</td>\n",
       "      <td>99250</td>\n",
       "      <td>2023-10-23</td>\n",
       "    </tr>\n",
       "    <tr>\n",
       "      <th>1</th>\n",
       "      <td>2023</td>\n",
       "      <td>202306</td>\n",
       "      <td>경유</td>\n",
       "      <td>수도권</td>\n",
       "      <td>인천</td>\n",
       "      <td>54184</td>\n",
       "      <td>2023-10-23</td>\n",
       "    </tr>\n",
       "    <tr>\n",
       "      <th>2</th>\n",
       "      <td>2023</td>\n",
       "      <td>202306</td>\n",
       "      <td>경유</td>\n",
       "      <td>수도권</td>\n",
       "      <td>경기</td>\n",
       "      <td>237064</td>\n",
       "      <td>2023-10-23</td>\n",
       "    </tr>\n",
       "    <tr>\n",
       "      <th>3</th>\n",
       "      <td>2023</td>\n",
       "      <td>202306</td>\n",
       "      <td>경유</td>\n",
       "      <td>비수도권</td>\n",
       "      <td>부산</td>\n",
       "      <td>52885</td>\n",
       "      <td>2023-10-23</td>\n",
       "    </tr>\n",
       "    <tr>\n",
       "      <th>4</th>\n",
       "      <td>2023</td>\n",
       "      <td>202306</td>\n",
       "      <td>경유</td>\n",
       "      <td>비수도권</td>\n",
       "      <td>대구</td>\n",
       "      <td>47224</td>\n",
       "      <td>2023-10-23</td>\n",
       "    </tr>\n",
       "  </tbody>\n",
       "</table>\n",
       "</div>"
      ],
      "text/plain": [
       "     YR  CRTR_YM FUEL_CD   RGN CTPV_NM  VHCL_MKCNT    LOAD_DT\n",
       "0  2023   202306      경유   수도권      서울       99250 2023-10-23\n",
       "1  2023   202306      경유   수도권      인천       54184 2023-10-23\n",
       "2  2023   202306      경유   수도권      경기      237064 2023-10-23\n",
       "3  2023   202306      경유  비수도권      부산       52885 2023-10-23\n",
       "4  2023   202306      경유  비수도권      대구       47224 2023-10-23"
      ]
     },
     "execution_count": 20,
     "metadata": {},
     "output_type": "execute_result"
    }
   ],
   "source": [
    "df.head()"
   ]
  },
  {
   "cell_type": "code",
   "execution_count": 19,
   "metadata": {},
   "outputs": [
    {
     "data": {
      "text/html": [
       "<div>\n",
       "<style scoped>\n",
       "    .dataframe tbody tr th:only-of-type {\n",
       "        vertical-align: middle;\n",
       "    }\n",
       "\n",
       "    .dataframe tbody tr th {\n",
       "        vertical-align: top;\n",
       "    }\n",
       "\n",
       "    .dataframe thead th {\n",
       "        text-align: right;\n",
       "    }\n",
       "</style>\n",
       "<table border=\"1\" class=\"dataframe\">\n",
       "  <thead>\n",
       "    <tr style=\"text-align: right;\">\n",
       "      <th></th>\n",
       "      <th>YR</th>\n",
       "      <th>CRTR_YM</th>\n",
       "      <th>FUEL_CD</th>\n",
       "      <th>RGN</th>\n",
       "      <th>CTPV_NM</th>\n",
       "      <th>VHCL_MKCNT</th>\n",
       "      <th>LOAD_DT</th>\n",
       "    </tr>\n",
       "  </thead>\n",
       "  <tbody>\n",
       "    <tr>\n",
       "      <th>607</th>\n",
       "      <td>2023</td>\n",
       "      <td>202311</td>\n",
       "      <td>LPG</td>\n",
       "      <td>비수도권</td>\n",
       "      <td>전북</td>\n",
       "      <td>96</td>\n",
       "      <td>2023-12-08</td>\n",
       "    </tr>\n",
       "    <tr>\n",
       "      <th>608</th>\n",
       "      <td>2023</td>\n",
       "      <td>202311</td>\n",
       "      <td>LPG</td>\n",
       "      <td>비수도권</td>\n",
       "      <td>전남</td>\n",
       "      <td>87</td>\n",
       "      <td>2023-12-08</td>\n",
       "    </tr>\n",
       "    <tr>\n",
       "      <th>609</th>\n",
       "      <td>2023</td>\n",
       "      <td>202311</td>\n",
       "      <td>LPG</td>\n",
       "      <td>비수도권</td>\n",
       "      <td>경북</td>\n",
       "      <td>176</td>\n",
       "      <td>2023-12-08</td>\n",
       "    </tr>\n",
       "    <tr>\n",
       "      <th>610</th>\n",
       "      <td>2023</td>\n",
       "      <td>202311</td>\n",
       "      <td>LPG</td>\n",
       "      <td>비수도권</td>\n",
       "      <td>경남</td>\n",
       "      <td>192</td>\n",
       "      <td>2023-12-08</td>\n",
       "    </tr>\n",
       "    <tr>\n",
       "      <th>611</th>\n",
       "      <td>2023</td>\n",
       "      <td>202311</td>\n",
       "      <td>LPG</td>\n",
       "      <td>비수도권</td>\n",
       "      <td>제주</td>\n",
       "      <td>40</td>\n",
       "      <td>2023-12-08</td>\n",
       "    </tr>\n",
       "  </tbody>\n",
       "</table>\n",
       "</div>"
      ],
      "text/plain": [
       "       YR  CRTR_YM FUEL_CD   RGN CTPV_NM  VHCL_MKCNT    LOAD_DT\n",
       "607  2023   202311     LPG  비수도권      전북          96 2023-12-08\n",
       "608  2023   202311     LPG  비수도권      전남          87 2023-12-08\n",
       "609  2023   202311     LPG  비수도권      경북         176 2023-12-08\n",
       "610  2023   202311     LPG  비수도권      경남         192 2023-12-08\n",
       "611  2023   202311     LPG  비수도권      제주          40 2023-12-08"
      ]
     },
     "execution_count": 19,
     "metadata": {},
     "output_type": "execute_result"
    }
   ],
   "source": [
    "df.tail()"
   ]
  },
  {
   "cell_type": "code",
   "execution_count": 21,
   "metadata": {},
   "outputs": [],
   "source": [
    "# 0.1s\n",
    "df.to_csv(os.path.join(upload_fold, f'{name}.csv'), index=False)"
   ]
  },
  {
   "cell_type": "markdown",
   "metadata": {},
   "source": [
    "## STD_BD_CAR_CURSTT_MOD2_4RD_INS"
   ]
  },
  {
   "cell_type": "code",
   "execution_count": 26,
   "metadata": {},
   "outputs": [
    {
     "data": {
      "text/plain": [
       "'2023.11.02'"
      ]
     },
     "execution_count": 26,
     "metadata": {},
     "output_type": "execute_result"
    }
   ],
   "source": [
    "today_date = datetime.today().strftime('%Y.%m.%d')\n",
    "today_date"
   ]
  },
  {
   "cell_type": "code",
   "execution_count": 22,
   "metadata": {},
   "outputs": [
    {
     "name": "stdout",
     "output_type": "stream",
     "text": [
      "<class 'pandas.core.frame.DataFrame'>\n",
      "RangeIndex: 192 entries, 0 to 191\n",
      "Data columns (total 6 columns):\n",
      " #   Column       Non-Null Count  Dtype         \n",
      "---  ------       --------------  -----         \n",
      " 0   YR           192 non-null    int64         \n",
      " 1   CRTR_YM      192 non-null    int64         \n",
      " 2   VHCTY_CD_NM  192 non-null    object        \n",
      " 3   FUEL_CD      192 non-null    object        \n",
      " 4   VHCL_MKCNT   168 non-null    float64       \n",
      " 5   LOAD_DT      192 non-null    datetime64[ns]\n",
      "dtypes: datetime64[ns](1), float64(1), int64(2), object(2)\n",
      "memory usage: 9.1+ KB\n"
     ]
    }
   ],
   "source": [
    "# about \n",
    "name = f'STD_BD_CAR_CURSTT_MOD2_4RD_INS_20231211'\n",
    "file_name = f'{name}.xlsx'\n",
    "df = pd.read_excel(os.path.join(upload_fold, file_name))\n",
    "df.info()"
   ]
  },
  {
   "cell_type": "code",
   "execution_count": 23,
   "metadata": {},
   "outputs": [
    {
     "data": {
      "text/html": [
       "<div>\n",
       "<style scoped>\n",
       "    .dataframe tbody tr th:only-of-type {\n",
       "        vertical-align: middle;\n",
       "    }\n",
       "\n",
       "    .dataframe tbody tr th {\n",
       "        vertical-align: top;\n",
       "    }\n",
       "\n",
       "    .dataframe thead th {\n",
       "        text-align: right;\n",
       "    }\n",
       "</style>\n",
       "<table border=\"1\" class=\"dataframe\">\n",
       "  <thead>\n",
       "    <tr style=\"text-align: right;\">\n",
       "      <th></th>\n",
       "      <th>YR</th>\n",
       "      <th>CRTR_YM</th>\n",
       "      <th>VHCTY_CD_NM</th>\n",
       "      <th>FUEL_CD</th>\n",
       "      <th>VHCL_MKCNT</th>\n",
       "      <th>LOAD_DT</th>\n",
       "    </tr>\n",
       "  </thead>\n",
       "  <tbody>\n",
       "    <tr>\n",
       "      <th>0</th>\n",
       "      <td>2023</td>\n",
       "      <td>202306</td>\n",
       "      <td>승용</td>\n",
       "      <td>경유</td>\n",
       "      <td>476669.0</td>\n",
       "      <td>2023-10-23</td>\n",
       "    </tr>\n",
       "    <tr>\n",
       "      <th>1</th>\n",
       "      <td>2023</td>\n",
       "      <td>202306</td>\n",
       "      <td>승합</td>\n",
       "      <td>경유</td>\n",
       "      <td>118636.0</td>\n",
       "      <td>2023-10-23</td>\n",
       "    </tr>\n",
       "    <tr>\n",
       "      <th>2</th>\n",
       "      <td>2023</td>\n",
       "      <td>202306</td>\n",
       "      <td>화물</td>\n",
       "      <td>경유</td>\n",
       "      <td>447152.0</td>\n",
       "      <td>2023-10-23</td>\n",
       "    </tr>\n",
       "    <tr>\n",
       "      <th>3</th>\n",
       "      <td>2023</td>\n",
       "      <td>202306</td>\n",
       "      <td>특수</td>\n",
       "      <td>경유</td>\n",
       "      <td>5955.0</td>\n",
       "      <td>2023-10-23</td>\n",
       "    </tr>\n",
       "    <tr>\n",
       "      <th>4</th>\n",
       "      <td>2023</td>\n",
       "      <td>202306</td>\n",
       "      <td>승용</td>\n",
       "      <td>휘발유</td>\n",
       "      <td>47012.0</td>\n",
       "      <td>2023-10-23</td>\n",
       "    </tr>\n",
       "  </tbody>\n",
       "</table>\n",
       "</div>"
      ],
      "text/plain": [
       "     YR  CRTR_YM VHCTY_CD_NM FUEL_CD  VHCL_MKCNT    LOAD_DT\n",
       "0  2023   202306          승용      경유    476669.0 2023-10-23\n",
       "1  2023   202306          승합      경유    118636.0 2023-10-23\n",
       "2  2023   202306          화물      경유    447152.0 2023-10-23\n",
       "3  2023   202306          특수      경유      5955.0 2023-10-23\n",
       "4  2023   202306          승용     휘발유     47012.0 2023-10-23"
      ]
     },
     "execution_count": 23,
     "metadata": {},
     "output_type": "execute_result"
    }
   ],
   "source": [
    "df.head()"
   ]
  },
  {
   "cell_type": "code",
   "execution_count": 24,
   "metadata": {},
   "outputs": [
    {
     "data": {
      "text/html": [
       "<div>\n",
       "<style scoped>\n",
       "    .dataframe tbody tr th:only-of-type {\n",
       "        vertical-align: middle;\n",
       "    }\n",
       "\n",
       "    .dataframe tbody tr th {\n",
       "        vertical-align: top;\n",
       "    }\n",
       "\n",
       "    .dataframe thead th {\n",
       "        text-align: right;\n",
       "    }\n",
       "</style>\n",
       "<table border=\"1\" class=\"dataframe\">\n",
       "  <thead>\n",
       "    <tr style=\"text-align: right;\">\n",
       "      <th></th>\n",
       "      <th>YR</th>\n",
       "      <th>CRTR_YM</th>\n",
       "      <th>VHCTY_CD_NM</th>\n",
       "      <th>FUEL_CD</th>\n",
       "      <th>VHCL_MKCNT</th>\n",
       "      <th>LOAD_DT</th>\n",
       "    </tr>\n",
       "  </thead>\n",
       "  <tbody>\n",
       "    <tr>\n",
       "      <th>187</th>\n",
       "      <td>2023</td>\n",
       "      <td>202311</td>\n",
       "      <td>특수</td>\n",
       "      <td>LPG</td>\n",
       "      <td>3.0</td>\n",
       "      <td>2023-12-08</td>\n",
       "    </tr>\n",
       "    <tr>\n",
       "      <th>188</th>\n",
       "      <td>2023</td>\n",
       "      <td>202311</td>\n",
       "      <td>승용</td>\n",
       "      <td>기타</td>\n",
       "      <td>2.0</td>\n",
       "      <td>2023-12-08</td>\n",
       "    </tr>\n",
       "    <tr>\n",
       "      <th>189</th>\n",
       "      <td>2023</td>\n",
       "      <td>202311</td>\n",
       "      <td>승합</td>\n",
       "      <td>기타</td>\n",
       "      <td>NaN</td>\n",
       "      <td>2023-12-08</td>\n",
       "    </tr>\n",
       "    <tr>\n",
       "      <th>190</th>\n",
       "      <td>2023</td>\n",
       "      <td>202311</td>\n",
       "      <td>화물</td>\n",
       "      <td>기타</td>\n",
       "      <td>1.0</td>\n",
       "      <td>2023-12-08</td>\n",
       "    </tr>\n",
       "    <tr>\n",
       "      <th>191</th>\n",
       "      <td>2023</td>\n",
       "      <td>202311</td>\n",
       "      <td>특수</td>\n",
       "      <td>기타</td>\n",
       "      <td>NaN</td>\n",
       "      <td>2023-12-08</td>\n",
       "    </tr>\n",
       "  </tbody>\n",
       "</table>\n",
       "</div>"
      ],
      "text/plain": [
       "       YR  CRTR_YM VHCTY_CD_NM FUEL_CD  VHCL_MKCNT    LOAD_DT\n",
       "187  2023   202311          특수     LPG         3.0 2023-12-08\n",
       "188  2023   202311          승용      기타         2.0 2023-12-08\n",
       "189  2023   202311          승합      기타         NaN 2023-12-08\n",
       "190  2023   202311          화물      기타         1.0 2023-12-08\n",
       "191  2023   202311          특수      기타         NaN 2023-12-08"
      ]
     },
     "execution_count": 24,
     "metadata": {},
     "output_type": "execute_result"
    }
   ],
   "source": [
    "df.tail()"
   ]
  },
  {
   "cell_type": "code",
   "execution_count": 25,
   "metadata": {},
   "outputs": [],
   "source": [
    "# 0.1s\n",
    "df.to_csv(os.path.join(upload_fold, f'{name}.csv'), index=False)"
   ]
  },
  {
   "cell_type": "code",
   "execution_count": null,
   "metadata": {},
   "outputs": [],
   "source": []
  }
 ],
 "metadata": {
  "interpreter": {
   "hash": "569b4317022eb29baeafb3d0f1f739310808ea28ce83ca127a35db1c01070585"
  },
  "kernelspec": {
   "display_name": "Python 3.9.12 ('base')",
   "language": "python",
   "name": "python3"
  },
  "language_info": {
   "codemirror_mode": {
    "name": "ipython",
    "version": 3
   },
   "file_extension": ".py",
   "mimetype": "text/x-python",
   "name": "python",
   "nbconvert_exporter": "python",
   "pygments_lexer": "ipython3",
   "version": "3.9.12"
  },
  "orig_nbformat": 4
 },
 "nbformat": 4,
 "nbformat_minor": 2
}
