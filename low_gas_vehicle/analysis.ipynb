{
 "cells": [
  {
   "cell_type": "markdown",
   "metadata": {},
   "source": [
    "# \"저공해차 보급촉진을 위한 제도운영 지원 및 개선방안 마련\" 데이터 분석"
   ]
  },
  {
   "cell_type": "markdown",
   "metadata": {},
   "source": [
    "## library"
   ]
  },
  {
   "cell_type": "code",
   "execution_count": 2,
   "metadata": {},
   "outputs": [],
   "source": [
    "import pandas as pd\n",
    "import numpy as np\n",
    "import matplotlib.pyplot as plt\n",
    "import re"
   ]
  },
  {
   "cell_type": "markdown",
   "metadata": {},
   "source": [
    "### data load"
   ]
  },
  {
   "cell_type": "code",
   "execution_count": 235,
   "metadata": {},
   "outputs": [],
   "source": [
    "total_data = pd.DataFrame()\n",
    "# 2020년\n",
    "count = 0\n",
    "for m in range(1, 13):\n",
    "    y = 20\n",
    "    s = f'raw/{y}년/20{y}년{m:0>2}월.xlsx'\n",
    "    m_data = pd.read_excel(s)\n",
    "    count += m_data.shape[0]\n",
    "    total_data = pd.concat([total_data, m_data], ignore_index=True)\n",
    "# 2021년\n",
    "for m in range(1, 13):\n",
    "    y = 21\n",
    "    s = f'raw/{y}년/{y}년{m:0>2}월.xlsx'\n",
    "    m_data = pd.read_excel(s)\n",
    "    count += m_data.shape[0]\n",
    "    total_data = pd.concat([total_data, m_data], ignore_index=True)\n",
    "# 2022년\n",
    "for m in range(1, 9):\n",
    "    y = 22\n",
    "    s = f'raw/{y}년/{y}년{m:0>2}월.xlsx'\n",
    "    m_data = pd.read_excel(s)\n",
    "    count += m_data.shape[0]\n",
    "    total_data = pd.concat([total_data, m_data], ignore_index=True)"
   ]
  },
  {
   "cell_type": "code",
   "execution_count": 236,
   "metadata": {},
   "outputs": [
    {
     "name": "stdout",
     "output_type": "stream",
     "text": [
      "개별 데이터 개수 합산 : 11665822\n",
      "총 데이터 개수 : 11665822\n"
     ]
    }
   ],
   "source": [
    "print(f'개별 데이터 개수 합산 : {count}')\n",
    "print(f'총 데이터 개수 : {total_data.shape[0]}')"
   ]
  },
  {
   "cell_type": "code",
   "execution_count": 78,
   "metadata": {},
   "outputs": [
    {
     "name": "stdout",
     "output_type": "stream",
     "text": [
      "<class 'pandas.core.frame.DataFrame'>\n",
      "RangeIndex: 11665822 entries, 0 to 11665821\n",
      "Data columns (total 12 columns):\n",
      " #   Column     Dtype  \n",
      "---  ------     -----  \n",
      " 0   충전소명       object \n",
      " 1   충전기ID      int64  \n",
      " 2   지역         object \n",
      " 3   시군구        object \n",
      " 4   주소         object \n",
      " 5   충전기용량(kW)  float64\n",
      " 6   충전기타입      object \n",
      " 7   충전시작일시     int64  \n",
      " 8   충전종료일시     int64  \n",
      " 9   충전시간       object \n",
      " 10  충전량        float64\n",
      " 11  충전용량       object \n",
      "dtypes: float64(2), int64(3), object(7)\n",
      "memory usage: 1.0+ GB\n"
     ]
    }
   ],
   "source": [
    "total_data.info()"
   ]
  },
  {
   "cell_type": "markdown",
   "metadata": {},
   "source": [
    "##### 20-22년 병합 데이터 출력"
   ]
  },
  {
   "cell_type": "code",
   "execution_count": 80,
   "metadata": {},
   "outputs": [],
   "source": [
    "total_data.to_csv('2020-22년_급속충전.csv', encoding='utf-8')"
   ]
  },
  {
   "cell_type": "markdown",
   "metadata": {},
   "source": [
    "##### 20-22년 병합 데이터 로드(다시 시작)"
   ]
  },
  {
   "cell_type": "code",
   "execution_count": 638,
   "metadata": {},
   "outputs": [
    {
     "name": "stderr",
     "output_type": "stream",
     "text": [
      "C:\\Users\\kbj\\AppData\\Local\\Temp\\ipykernel_17248\\1573190630.py:1: DtypeWarning: Columns (12) have mixed types. Specify dtype option on import or set low_memory=False.\n",
      "  total_data = pd.read_csv('2020-22년_급속충전.csv')\n"
     ]
    }
   ],
   "source": [
    "# total_data = pd.read_csv('2020-22년_급속충전.csv', index_col=0)\n",
    "# total_data.info()"
   ]
  },
  {
   "cell_type": "code",
   "execution_count": 639,
   "metadata": {},
   "outputs": [
    {
     "name": "stdout",
     "output_type": "stream",
     "text": [
      "<class 'pandas.core.frame.DataFrame'>\n",
      "RangeIndex: 11665822 entries, 0 to 11665821\n",
      "Data columns (total 13 columns):\n",
      " #   Column      Dtype  \n",
      "---  ------      -----  \n",
      " 0   Unnamed: 0  int64  \n",
      " 1   충전소명        object \n",
      " 2   충전기ID       int64  \n",
      " 3   지역          object \n",
      " 4   시군구         object \n",
      " 5   주소          object \n",
      " 6   충전기용량(kW)   float64\n",
      " 7   충전기타입       object \n",
      " 8   충전시작일시      int64  \n",
      " 9   충전종료일시      int64  \n",
      " 10  충전시간        object \n",
      " 11  충전량         float64\n",
      " 12  충전용량        object \n",
      "dtypes: float64(2), int64(4), object(7)\n",
      "memory usage: 1.1+ GB\n"
     ]
    }
   ],
   "source": [
    "df = total_data.copy()\n",
    "df.info()"
   ]
  },
  {
   "cell_type": "code",
   "execution_count": 640,
   "metadata": {},
   "outputs": [],
   "source": [
    "df = df.drop(['Unnamed: 0'], axis=1)"
   ]
  },
  {
   "cell_type": "markdown",
   "metadata": {},
   "source": [
    "## 전처리\n",
    "- 충전소명 : O\n",
    "- 충전기ID : int64\n",
    "- 지역 : O\n",
    "- 시군구 : O\n",
    "- 주소 : O\n",
    "- 충전기용량(kW) : float64\n",
    "- 충전기타입 : object \n",
    "- 충전시작일시 : int64  \n",
    "- 충전종료일시 : int64  \n",
    "- 충전시간 : object \n",
    "- 충전량 : float64\n",
    "- 충전용량 : object "
   ]
  },
  {
   "cell_type": "markdown",
   "metadata": {},
   "source": [
    "### 특이사항\n",
    "- 2020년 12월까지 충전기용량(kW)가 2021년 1월부터 충전용량으로 변경\n",
    "    - 2020년 12월까지 데이터의 충전기용량(kW) 값을 충전용량으로 이동\n",
    "- 충전용량 표기방법 변경\n",
    "    - 2022년 3월까지 충전용량이 \"100\"으로 , 4월부터 \"급속(100kW멀티)\"으로 입력"
   ]
  },
  {
   "cell_type": "code",
   "execution_count": 641,
   "metadata": {},
   "outputs": [
    {
     "name": "stdout",
     "output_type": "stream",
     "text": [
      "<class 'pandas.core.frame.DataFrame'>\n",
      "RangeIndex: 11665822 entries, 0 to 11665821\n",
      "Data columns (total 12 columns):\n",
      " #   Column     Dtype  \n",
      "---  ------     -----  \n",
      " 0   충전소명       object \n",
      " 1   충전기ID      int64  \n",
      " 2   지역         object \n",
      " 3   시군구        object \n",
      " 4   주소         object \n",
      " 5   충전기용량(kW)  float64\n",
      " 6   충전기타입      object \n",
      " 7   충전시작일시     int64  \n",
      " 8   충전종료일시     int64  \n",
      " 9   충전시간       object \n",
      " 10  충전량        float64\n",
      " 11  충전용량       object \n",
      "dtypes: float64(2), int64(3), object(7)\n",
      "memory usage: 1.0+ GB\n"
     ]
    }
   ],
   "source": [
    "df.info()"
   ]
  },
  {
   "cell_type": "code",
   "execution_count": 642,
   "metadata": {},
   "outputs": [
    {
     "data": {
      "text/html": [
       "<div>\n",
       "<style scoped>\n",
       "    .dataframe tbody tr th:only-of-type {\n",
       "        vertical-align: middle;\n",
       "    }\n",
       "\n",
       "    .dataframe tbody tr th {\n",
       "        vertical-align: top;\n",
       "    }\n",
       "\n",
       "    .dataframe thead th {\n",
       "        text-align: right;\n",
       "    }\n",
       "</style>\n",
       "<table border=\"1\" class=\"dataframe\">\n",
       "  <thead>\n",
       "    <tr style=\"text-align: right;\">\n",
       "      <th></th>\n",
       "      <th>충전소명</th>\n",
       "      <th>충전기ID</th>\n",
       "      <th>지역</th>\n",
       "      <th>시군구</th>\n",
       "      <th>주소</th>\n",
       "      <th>충전기용량(kW)</th>\n",
       "      <th>충전기타입</th>\n",
       "      <th>충전시작일시</th>\n",
       "      <th>충전종료일시</th>\n",
       "      <th>충전시간</th>\n",
       "      <th>충전량</th>\n",
       "      <th>충전용량</th>\n",
       "    </tr>\n",
       "  </thead>\n",
       "  <tbody>\n",
       "    <tr>\n",
       "      <th>0</th>\n",
       "      <td>내린천휴게소 양양방향</td>\n",
       "      <td>1</td>\n",
       "      <td>강원도</td>\n",
       "      <td>인제군</td>\n",
       "      <td>강원도 인제군 상남면 하남리 339-7(양양방향)</td>\n",
       "      <td>50.0</td>\n",
       "      <td>DC차데모+AC3상+DC콤보</td>\n",
       "      <td>20200117193331</td>\n",
       "      <td>20200117201417</td>\n",
       "      <td>00:40:00</td>\n",
       "      <td>25.47</td>\n",
       "      <td>NaN</td>\n",
       "    </tr>\n",
       "    <tr>\n",
       "      <th>1</th>\n",
       "      <td>내린천휴게소 양양방향</td>\n",
       "      <td>1</td>\n",
       "      <td>강원도</td>\n",
       "      <td>인제군</td>\n",
       "      <td>강원도 인제군 상남면 하남리 339-7(양양방향)</td>\n",
       "      <td>50.0</td>\n",
       "      <td>DC차데모+AC3상+DC콤보</td>\n",
       "      <td>20200130143545</td>\n",
       "      <td>20200130150645</td>\n",
       "      <td>00:30:31</td>\n",
       "      <td>17.57</td>\n",
       "      <td>NaN</td>\n",
       "    </tr>\n",
       "    <tr>\n",
       "      <th>2</th>\n",
       "      <td>내린천휴게소 양양방향</td>\n",
       "      <td>1</td>\n",
       "      <td>강원도</td>\n",
       "      <td>인제군</td>\n",
       "      <td>강원도 인제군 상남면 하남리 339-7(양양방향)</td>\n",
       "      <td>50.0</td>\n",
       "      <td>DC차데모+AC3상+DC콤보</td>\n",
       "      <td>20200105005728</td>\n",
       "      <td>20200105011329</td>\n",
       "      <td>00:15:35</td>\n",
       "      <td>6.98</td>\n",
       "      <td>NaN</td>\n",
       "    </tr>\n",
       "    <tr>\n",
       "      <th>3</th>\n",
       "      <td>내린천휴게소 양양방향</td>\n",
       "      <td>3</td>\n",
       "      <td>강원도</td>\n",
       "      <td>인제군</td>\n",
       "      <td>강원도 인제군 상남면 하남리 339-7(양양방향)</td>\n",
       "      <td>100.0</td>\n",
       "      <td>DC콤보</td>\n",
       "      <td>20200120120215</td>\n",
       "      <td>20200120124708</td>\n",
       "      <td>00:41:00</td>\n",
       "      <td>15.30</td>\n",
       "      <td>NaN</td>\n",
       "    </tr>\n",
       "    <tr>\n",
       "      <th>4</th>\n",
       "      <td>한국광기술원</td>\n",
       "      <td>1</td>\n",
       "      <td>광주광역시</td>\n",
       "      <td>북구</td>\n",
       "      <td>광주광역시 북구 첨단 벤처로 108번길 9</td>\n",
       "      <td>50.0</td>\n",
       "      <td>DC차데모+AC3상+DC콤보</td>\n",
       "      <td>20200123085417</td>\n",
       "      <td>20200123092554</td>\n",
       "      <td>00:31:14</td>\n",
       "      <td>21.92</td>\n",
       "      <td>NaN</td>\n",
       "    </tr>\n",
       "  </tbody>\n",
       "</table>\n",
       "</div>"
      ],
      "text/plain": [
       "          충전소명  충전기ID     지역  시군구                           주소  충전기용량(kW)  \\\n",
       "0  내린천휴게소 양양방향      1    강원도  인제군  강원도 인제군 상남면 하남리 339-7(양양방향)       50.0   \n",
       "1  내린천휴게소 양양방향      1    강원도  인제군  강원도 인제군 상남면 하남리 339-7(양양방향)       50.0   \n",
       "2  내린천휴게소 양양방향      1    강원도  인제군  강원도 인제군 상남면 하남리 339-7(양양방향)       50.0   \n",
       "3  내린천휴게소 양양방향      3    강원도  인제군  강원도 인제군 상남면 하남리 339-7(양양방향)      100.0   \n",
       "4       한국광기술원      1  광주광역시   북구      광주광역시 북구 첨단 벤처로 108번길 9       50.0   \n",
       "\n",
       "             충전기타입          충전시작일시          충전종료일시      충전시간    충전량 충전용량  \n",
       "0  DC차데모+AC3상+DC콤보  20200117193331  20200117201417  00:40:00  25.47  NaN  \n",
       "1  DC차데모+AC3상+DC콤보  20200130143545  20200130150645  00:30:31  17.57  NaN  \n",
       "2  DC차데모+AC3상+DC콤보  20200105005728  20200105011329  00:15:35   6.98  NaN  \n",
       "3             DC콤보  20200120120215  20200120124708  00:41:00  15.30  NaN  \n",
       "4  DC차데모+AC3상+DC콤보  20200123085417  20200123092554  00:31:14  21.92  NaN  "
      ]
     },
     "execution_count": 642,
     "metadata": {},
     "output_type": "execute_result"
    }
   ],
   "source": [
    "df.head()"
   ]
  },
  {
   "cell_type": "code",
   "execution_count": 645,
   "metadata": {},
   "outputs": [
    {
     "data": {
      "text/html": [
       "<div>\n",
       "<style scoped>\n",
       "    .dataframe tbody tr th:only-of-type {\n",
       "        vertical-align: middle;\n",
       "    }\n",
       "\n",
       "    .dataframe tbody tr th {\n",
       "        vertical-align: top;\n",
       "    }\n",
       "\n",
       "    .dataframe thead th {\n",
       "        text-align: right;\n",
       "    }\n",
       "</style>\n",
       "<table border=\"1\" class=\"dataframe\">\n",
       "  <thead>\n",
       "    <tr style=\"text-align: right;\">\n",
       "      <th></th>\n",
       "      <th>충전소명</th>\n",
       "      <th>충전기ID</th>\n",
       "      <th>지역</th>\n",
       "      <th>시군구</th>\n",
       "      <th>주소</th>\n",
       "      <th>충전기용량(kW)</th>\n",
       "      <th>충전기타입</th>\n",
       "      <th>충전시작일시</th>\n",
       "      <th>충전종료일시</th>\n",
       "      <th>충전시간</th>\n",
       "      <th>충전량</th>\n",
       "      <th>충전용량</th>\n",
       "    </tr>\n",
       "  </thead>\n",
       "  <tbody>\n",
       "    <tr>\n",
       "      <th>2796614</th>\n",
       "      <td>군위휴게소(부산방향)</td>\n",
       "      <td>1</td>\n",
       "      <td>경상북도</td>\n",
       "      <td>군위군</td>\n",
       "      <td>경상북도 군위군 군위읍 경북대로 4084 (오곡리)</td>\n",
       "      <td>NaN</td>\n",
       "      <td>DC차데모+AC3상+DC콤보</td>\n",
       "      <td>20210101092250</td>\n",
       "      <td>20210101095816</td>\n",
       "      <td>00:29:24</td>\n",
       "      <td>11.95</td>\n",
       "      <td>50.0</td>\n",
       "    </tr>\n",
       "    <tr>\n",
       "      <th>2796615</th>\n",
       "      <td>충주휴게소(마산방향)</td>\n",
       "      <td>1</td>\n",
       "      <td>충청북도</td>\n",
       "      <td>충주시</td>\n",
       "      <td>충청북도 충주시 중앙탑면 중부내륙고속도로 231 (용전리)</td>\n",
       "      <td>NaN</td>\n",
       "      <td>DC차데모+AC3상+DC콤보</td>\n",
       "      <td>20210101095126</td>\n",
       "      <td>20210101095818</td>\n",
       "      <td>00:06:48</td>\n",
       "      <td>4.86</td>\n",
       "      <td>50.0</td>\n",
       "    </tr>\n",
       "    <tr>\n",
       "      <th>2796616</th>\n",
       "      <td>내서읍스포츠센터</td>\n",
       "      <td>1</td>\n",
       "      <td>경상남도</td>\n",
       "      <td>창원시</td>\n",
       "      <td>경상남도 창원시 마산회원구 내서읍 중리 391-3</td>\n",
       "      <td>NaN</td>\n",
       "      <td>DC콤보</td>\n",
       "      <td>20210101094752</td>\n",
       "      <td>20210101095819</td>\n",
       "      <td>00:10:27</td>\n",
       "      <td>3.29</td>\n",
       "      <td>100.0</td>\n",
       "    </tr>\n",
       "    <tr>\n",
       "      <th>2796617</th>\n",
       "      <td>삼성혈 인근 공영주차장</td>\n",
       "      <td>1</td>\n",
       "      <td>제주특별자치도</td>\n",
       "      <td>제주시</td>\n",
       "      <td>제주특별자치도 제주시 이도1동 1293-1</td>\n",
       "      <td>NaN</td>\n",
       "      <td>DC차데모+AC3상+DC콤보</td>\n",
       "      <td>20210101091323</td>\n",
       "      <td>20210101095819</td>\n",
       "      <td>00:40:00</td>\n",
       "      <td>7.52</td>\n",
       "      <td>50.0</td>\n",
       "    </tr>\n",
       "    <tr>\n",
       "      <th>2796618</th>\n",
       "      <td>본오1동행정복지센터</td>\n",
       "      <td>1</td>\n",
       "      <td>경기도</td>\n",
       "      <td>안산시</td>\n",
       "      <td>경기도 안산시 상록구 샘골로 16</td>\n",
       "      <td>NaN</td>\n",
       "      <td>DC콤보</td>\n",
       "      <td>20210101091559</td>\n",
       "      <td>20210101095835</td>\n",
       "      <td>00:40:00</td>\n",
       "      <td>21.66</td>\n",
       "      <td>100.0</td>\n",
       "    </tr>\n",
       "  </tbody>\n",
       "</table>\n",
       "</div>"
      ],
      "text/plain": [
       "                 충전소명  충전기ID       지역  시군구                                주소  \\\n",
       "2796614   군위휴게소(부산방향)      1     경상북도  군위군      경상북도 군위군 군위읍 경북대로 4084 (오곡리)   \n",
       "2796615   충주휴게소(마산방향)      1     충청북도  충주시  충청북도 충주시 중앙탑면 중부내륙고속도로 231 (용전리)   \n",
       "2796616      내서읍스포츠센터      1     경상남도  창원시       경상남도 창원시 마산회원구 내서읍 중리 391-3   \n",
       "2796617  삼성혈 인근 공영주차장      1  제주특별자치도  제주시           제주특별자치도 제주시 이도1동 1293-1   \n",
       "2796618    본오1동행정복지센터      1      경기도  안산시                경기도 안산시 상록구 샘골로 16   \n",
       "\n",
       "         충전기용량(kW)            충전기타입          충전시작일시          충전종료일시      충전시간  \\\n",
       "2796614        NaN  DC차데모+AC3상+DC콤보  20210101092250  20210101095816  00:29:24   \n",
       "2796615        NaN  DC차데모+AC3상+DC콤보  20210101095126  20210101095818  00:06:48   \n",
       "2796616        NaN             DC콤보  20210101094752  20210101095819  00:10:27   \n",
       "2796617        NaN  DC차데모+AC3상+DC콤보  20210101091323  20210101095819  00:40:00   \n",
       "2796618        NaN             DC콤보  20210101091559  20210101095835  00:40:00   \n",
       "\n",
       "           충전량   충전용량  \n",
       "2796614  11.95   50.0  \n",
       "2796615   4.86   50.0  \n",
       "2796616   3.29  100.0  \n",
       "2796617   7.52   50.0  \n",
       "2796618  21.66  100.0  "
      ]
     },
     "execution_count": 645,
     "metadata": {},
     "output_type": "execute_result"
    }
   ],
   "source": [
    "df[df['충전용량'].notnull() == True].head()"
   ]
  },
  {
   "cell_type": "markdown",
   "metadata": {},
   "source": [
    "### 충전시작시간 정리"
   ]
  },
  {
   "cell_type": "code",
   "execution_count": 646,
   "metadata": {},
   "outputs": [
    {
     "name": "stdout",
     "output_type": "stream",
     "text": [
      "0\n"
     ]
    }
   ],
   "source": [
    "# 충전시작일시의 데이터는 년~초 까지 모두 존재\n",
    "temp = df['충전시작일시'].to_list()\n",
    "temp2 = [str(i) for i in temp]\n",
    "count = 0\n",
    "for one in temp2:\n",
    "    if len(one) == 8:\n",
    "        count += 1\n",
    "print(count)"
   ]
  },
  {
   "cell_type": "code",
   "execution_count": 647,
   "metadata": {},
   "outputs": [
    {
     "data": {
      "text/html": [
       "<div>\n",
       "<style scoped>\n",
       "    .dataframe tbody tr th:only-of-type {\n",
       "        vertical-align: middle;\n",
       "    }\n",
       "\n",
       "    .dataframe tbody tr th {\n",
       "        vertical-align: top;\n",
       "    }\n",
       "\n",
       "    .dataframe thead th {\n",
       "        text-align: right;\n",
       "    }\n",
       "</style>\n",
       "<table border=\"1\" class=\"dataframe\">\n",
       "  <thead>\n",
       "    <tr style=\"text-align: right;\">\n",
       "      <th></th>\n",
       "      <th>충전소명</th>\n",
       "      <th>충전기ID</th>\n",
       "      <th>지역</th>\n",
       "      <th>시군구</th>\n",
       "      <th>주소</th>\n",
       "      <th>충전기용량(kW)</th>\n",
       "      <th>충전기타입</th>\n",
       "      <th>충전시작일시</th>\n",
       "      <th>충전종료일시</th>\n",
       "      <th>충전시간</th>\n",
       "      <th>충전량</th>\n",
       "      <th>충전용량</th>\n",
       "      <th>충전시작_년도</th>\n",
       "      <th>충전시작_월</th>\n",
       "      <th>충전시작_일</th>\n",
       "      <th>충전시작_시</th>\n",
       "      <th>충전시작_분</th>\n",
       "      <th>충전시작_초</th>\n",
       "    </tr>\n",
       "  </thead>\n",
       "  <tbody>\n",
       "    <tr>\n",
       "      <th>0</th>\n",
       "      <td>내린천휴게소 양양방향</td>\n",
       "      <td>1</td>\n",
       "      <td>강원도</td>\n",
       "      <td>인제군</td>\n",
       "      <td>강원도 인제군 상남면 하남리 339-7(양양방향)</td>\n",
       "      <td>50.0</td>\n",
       "      <td>DC차데모+AC3상+DC콤보</td>\n",
       "      <td>20200117193331</td>\n",
       "      <td>20200117201417</td>\n",
       "      <td>00:40:00</td>\n",
       "      <td>25.47</td>\n",
       "      <td>NaN</td>\n",
       "      <td>2020</td>\n",
       "      <td>1</td>\n",
       "      <td>17</td>\n",
       "      <td>19</td>\n",
       "      <td>33</td>\n",
       "      <td>31</td>\n",
       "    </tr>\n",
       "    <tr>\n",
       "      <th>1</th>\n",
       "      <td>내린천휴게소 양양방향</td>\n",
       "      <td>1</td>\n",
       "      <td>강원도</td>\n",
       "      <td>인제군</td>\n",
       "      <td>강원도 인제군 상남면 하남리 339-7(양양방향)</td>\n",
       "      <td>50.0</td>\n",
       "      <td>DC차데모+AC3상+DC콤보</td>\n",
       "      <td>20200130143545</td>\n",
       "      <td>20200130150645</td>\n",
       "      <td>00:30:31</td>\n",
       "      <td>17.57</td>\n",
       "      <td>NaN</td>\n",
       "      <td>2020</td>\n",
       "      <td>1</td>\n",
       "      <td>30</td>\n",
       "      <td>14</td>\n",
       "      <td>35</td>\n",
       "      <td>45</td>\n",
       "    </tr>\n",
       "    <tr>\n",
       "      <th>2</th>\n",
       "      <td>내린천휴게소 양양방향</td>\n",
       "      <td>1</td>\n",
       "      <td>강원도</td>\n",
       "      <td>인제군</td>\n",
       "      <td>강원도 인제군 상남면 하남리 339-7(양양방향)</td>\n",
       "      <td>50.0</td>\n",
       "      <td>DC차데모+AC3상+DC콤보</td>\n",
       "      <td>20200105005728</td>\n",
       "      <td>20200105011329</td>\n",
       "      <td>00:15:35</td>\n",
       "      <td>6.98</td>\n",
       "      <td>NaN</td>\n",
       "      <td>2020</td>\n",
       "      <td>1</td>\n",
       "      <td>5</td>\n",
       "      <td>0</td>\n",
       "      <td>57</td>\n",
       "      <td>28</td>\n",
       "    </tr>\n",
       "    <tr>\n",
       "      <th>3</th>\n",
       "      <td>내린천휴게소 양양방향</td>\n",
       "      <td>3</td>\n",
       "      <td>강원도</td>\n",
       "      <td>인제군</td>\n",
       "      <td>강원도 인제군 상남면 하남리 339-7(양양방향)</td>\n",
       "      <td>100.0</td>\n",
       "      <td>DC콤보</td>\n",
       "      <td>20200120120215</td>\n",
       "      <td>20200120124708</td>\n",
       "      <td>00:41:00</td>\n",
       "      <td>15.30</td>\n",
       "      <td>NaN</td>\n",
       "      <td>2020</td>\n",
       "      <td>1</td>\n",
       "      <td>20</td>\n",
       "      <td>12</td>\n",
       "      <td>2</td>\n",
       "      <td>15</td>\n",
       "    </tr>\n",
       "    <tr>\n",
       "      <th>4</th>\n",
       "      <td>한국광기술원</td>\n",
       "      <td>1</td>\n",
       "      <td>광주광역시</td>\n",
       "      <td>북구</td>\n",
       "      <td>광주광역시 북구 첨단 벤처로 108번길 9</td>\n",
       "      <td>50.0</td>\n",
       "      <td>DC차데모+AC3상+DC콤보</td>\n",
       "      <td>20200123085417</td>\n",
       "      <td>20200123092554</td>\n",
       "      <td>00:31:14</td>\n",
       "      <td>21.92</td>\n",
       "      <td>NaN</td>\n",
       "      <td>2020</td>\n",
       "      <td>1</td>\n",
       "      <td>23</td>\n",
       "      <td>8</td>\n",
       "      <td>54</td>\n",
       "      <td>17</td>\n",
       "    </tr>\n",
       "  </tbody>\n",
       "</table>\n",
       "</div>"
      ],
      "text/plain": [
       "          충전소명  충전기ID     지역  시군구                           주소  충전기용량(kW)  \\\n",
       "0  내린천휴게소 양양방향      1    강원도  인제군  강원도 인제군 상남면 하남리 339-7(양양방향)       50.0   \n",
       "1  내린천휴게소 양양방향      1    강원도  인제군  강원도 인제군 상남면 하남리 339-7(양양방향)       50.0   \n",
       "2  내린천휴게소 양양방향      1    강원도  인제군  강원도 인제군 상남면 하남리 339-7(양양방향)       50.0   \n",
       "3  내린천휴게소 양양방향      3    강원도  인제군  강원도 인제군 상남면 하남리 339-7(양양방향)      100.0   \n",
       "4       한국광기술원      1  광주광역시   북구      광주광역시 북구 첨단 벤처로 108번길 9       50.0   \n",
       "\n",
       "             충전기타입          충전시작일시          충전종료일시      충전시간    충전량 충전용량  \\\n",
       "0  DC차데모+AC3상+DC콤보  20200117193331  20200117201417  00:40:00  25.47  NaN   \n",
       "1  DC차데모+AC3상+DC콤보  20200130143545  20200130150645  00:30:31  17.57  NaN   \n",
       "2  DC차데모+AC3상+DC콤보  20200105005728  20200105011329  00:15:35   6.98  NaN   \n",
       "3             DC콤보  20200120120215  20200120124708  00:41:00  15.30  NaN   \n",
       "4  DC차데모+AC3상+DC콤보  20200123085417  20200123092554  00:31:14  21.92  NaN   \n",
       "\n",
       "   충전시작_년도  충전시작_월  충전시작_일  충전시작_시  충전시작_분  충전시작_초  \n",
       "0     2020       1      17      19      33      31  \n",
       "1     2020       1      30      14      35      45  \n",
       "2     2020       1       5       0      57      28  \n",
       "3     2020       1      20      12       2      15  \n",
       "4     2020       1      23       8      54      17  "
      ]
     },
     "execution_count": 647,
     "metadata": {},
     "output_type": "execute_result"
    }
   ],
   "source": [
    "ch_start = df['충전시작일시'].copy()\n",
    "df['충전시작_년도'] = ch_start.astype(str).str[:4].astype(int)\n",
    "df['충전시작_월'] = df['충전시작일시'].astype(str).str[4:6].astype(int)\n",
    "df['충전시작_일'] = df['충전시작일시'].astype(str).str[6:8].astype(int)\n",
    "df['충전시작_시'] = df['충전시작일시'].astype(str).str[8:10].astype(int)\n",
    "df['충전시작_분'] = df['충전시작일시'].astype(str).str[10:12].astype(int)\n",
    "df['충전시작_초'] = df['충전시작일시'].astype(str).str[12:14].astype(int)\n",
    "df.head()"
   ]
  },
  {
   "cell_type": "code",
   "execution_count": 648,
   "metadata": {},
   "outputs": [
    {
     "data": {
      "text/html": [
       "<div>\n",
       "<style scoped>\n",
       "    .dataframe tbody tr th:only-of-type {\n",
       "        vertical-align: middle;\n",
       "    }\n",
       "\n",
       "    .dataframe tbody tr th {\n",
       "        vertical-align: top;\n",
       "    }\n",
       "\n",
       "    .dataframe thead th {\n",
       "        text-align: right;\n",
       "    }\n",
       "</style>\n",
       "<table border=\"1\" class=\"dataframe\">\n",
       "  <thead>\n",
       "    <tr style=\"text-align: right;\">\n",
       "      <th></th>\n",
       "      <th>충전소명</th>\n",
       "      <th>충전기ID</th>\n",
       "      <th>지역</th>\n",
       "      <th>시군구</th>\n",
       "      <th>주소</th>\n",
       "      <th>충전기용량(kW)</th>\n",
       "      <th>충전기타입</th>\n",
       "      <th>충전시작일시</th>\n",
       "      <th>충전종료일시</th>\n",
       "      <th>충전시간</th>\n",
       "      <th>충전량</th>\n",
       "      <th>충전용량</th>\n",
       "      <th>충전시작_년도</th>\n",
       "      <th>충전시작_월</th>\n",
       "      <th>충전시작_일</th>\n",
       "      <th>충전시작_시</th>\n",
       "      <th>충전시작_분</th>\n",
       "      <th>충전시작_초</th>\n",
       "      <th>충전시작일시(변환)</th>\n",
       "    </tr>\n",
       "  </thead>\n",
       "  <tbody>\n",
       "    <tr>\n",
       "      <th>0</th>\n",
       "      <td>내린천휴게소 양양방향</td>\n",
       "      <td>1</td>\n",
       "      <td>강원도</td>\n",
       "      <td>인제군</td>\n",
       "      <td>강원도 인제군 상남면 하남리 339-7(양양방향)</td>\n",
       "      <td>50.0</td>\n",
       "      <td>DC차데모+AC3상+DC콤보</td>\n",
       "      <td>20200117193331</td>\n",
       "      <td>20200117201417</td>\n",
       "      <td>00:40:00</td>\n",
       "      <td>25.47</td>\n",
       "      <td>NaN</td>\n",
       "      <td>2020</td>\n",
       "      <td>1</td>\n",
       "      <td>17</td>\n",
       "      <td>19</td>\n",
       "      <td>33</td>\n",
       "      <td>31</td>\n",
       "      <td>2020-1-17 19:33:31</td>\n",
       "    </tr>\n",
       "    <tr>\n",
       "      <th>1</th>\n",
       "      <td>내린천휴게소 양양방향</td>\n",
       "      <td>1</td>\n",
       "      <td>강원도</td>\n",
       "      <td>인제군</td>\n",
       "      <td>강원도 인제군 상남면 하남리 339-7(양양방향)</td>\n",
       "      <td>50.0</td>\n",
       "      <td>DC차데모+AC3상+DC콤보</td>\n",
       "      <td>20200130143545</td>\n",
       "      <td>20200130150645</td>\n",
       "      <td>00:30:31</td>\n",
       "      <td>17.57</td>\n",
       "      <td>NaN</td>\n",
       "      <td>2020</td>\n",
       "      <td>1</td>\n",
       "      <td>30</td>\n",
       "      <td>14</td>\n",
       "      <td>35</td>\n",
       "      <td>45</td>\n",
       "      <td>2020-1-30 14:35:45</td>\n",
       "    </tr>\n",
       "    <tr>\n",
       "      <th>2</th>\n",
       "      <td>내린천휴게소 양양방향</td>\n",
       "      <td>1</td>\n",
       "      <td>강원도</td>\n",
       "      <td>인제군</td>\n",
       "      <td>강원도 인제군 상남면 하남리 339-7(양양방향)</td>\n",
       "      <td>50.0</td>\n",
       "      <td>DC차데모+AC3상+DC콤보</td>\n",
       "      <td>20200105005728</td>\n",
       "      <td>20200105011329</td>\n",
       "      <td>00:15:35</td>\n",
       "      <td>6.98</td>\n",
       "      <td>NaN</td>\n",
       "      <td>2020</td>\n",
       "      <td>1</td>\n",
       "      <td>5</td>\n",
       "      <td>0</td>\n",
       "      <td>57</td>\n",
       "      <td>28</td>\n",
       "      <td>2020-1-5 0:57:28</td>\n",
       "    </tr>\n",
       "    <tr>\n",
       "      <th>3</th>\n",
       "      <td>내린천휴게소 양양방향</td>\n",
       "      <td>3</td>\n",
       "      <td>강원도</td>\n",
       "      <td>인제군</td>\n",
       "      <td>강원도 인제군 상남면 하남리 339-7(양양방향)</td>\n",
       "      <td>100.0</td>\n",
       "      <td>DC콤보</td>\n",
       "      <td>20200120120215</td>\n",
       "      <td>20200120124708</td>\n",
       "      <td>00:41:00</td>\n",
       "      <td>15.30</td>\n",
       "      <td>NaN</td>\n",
       "      <td>2020</td>\n",
       "      <td>1</td>\n",
       "      <td>20</td>\n",
       "      <td>12</td>\n",
       "      <td>2</td>\n",
       "      <td>15</td>\n",
       "      <td>2020-1-20 12:2:15</td>\n",
       "    </tr>\n",
       "    <tr>\n",
       "      <th>4</th>\n",
       "      <td>한국광기술원</td>\n",
       "      <td>1</td>\n",
       "      <td>광주광역시</td>\n",
       "      <td>북구</td>\n",
       "      <td>광주광역시 북구 첨단 벤처로 108번길 9</td>\n",
       "      <td>50.0</td>\n",
       "      <td>DC차데모+AC3상+DC콤보</td>\n",
       "      <td>20200123085417</td>\n",
       "      <td>20200123092554</td>\n",
       "      <td>00:31:14</td>\n",
       "      <td>21.92</td>\n",
       "      <td>NaN</td>\n",
       "      <td>2020</td>\n",
       "      <td>1</td>\n",
       "      <td>23</td>\n",
       "      <td>8</td>\n",
       "      <td>54</td>\n",
       "      <td>17</td>\n",
       "      <td>2020-1-23 8:54:17</td>\n",
       "    </tr>\n",
       "  </tbody>\n",
       "</table>\n",
       "</div>"
      ],
      "text/plain": [
       "          충전소명  충전기ID     지역  시군구                           주소  충전기용량(kW)  \\\n",
       "0  내린천휴게소 양양방향      1    강원도  인제군  강원도 인제군 상남면 하남리 339-7(양양방향)       50.0   \n",
       "1  내린천휴게소 양양방향      1    강원도  인제군  강원도 인제군 상남면 하남리 339-7(양양방향)       50.0   \n",
       "2  내린천휴게소 양양방향      1    강원도  인제군  강원도 인제군 상남면 하남리 339-7(양양방향)       50.0   \n",
       "3  내린천휴게소 양양방향      3    강원도  인제군  강원도 인제군 상남면 하남리 339-7(양양방향)      100.0   \n",
       "4       한국광기술원      1  광주광역시   북구      광주광역시 북구 첨단 벤처로 108번길 9       50.0   \n",
       "\n",
       "             충전기타입          충전시작일시          충전종료일시      충전시간    충전량 충전용량  \\\n",
       "0  DC차데모+AC3상+DC콤보  20200117193331  20200117201417  00:40:00  25.47  NaN   \n",
       "1  DC차데모+AC3상+DC콤보  20200130143545  20200130150645  00:30:31  17.57  NaN   \n",
       "2  DC차데모+AC3상+DC콤보  20200105005728  20200105011329  00:15:35   6.98  NaN   \n",
       "3             DC콤보  20200120120215  20200120124708  00:41:00  15.30  NaN   \n",
       "4  DC차데모+AC3상+DC콤보  20200123085417  20200123092554  00:31:14  21.92  NaN   \n",
       "\n",
       "   충전시작_년도  충전시작_월  충전시작_일  충전시작_시  충전시작_분  충전시작_초          충전시작일시(변환)  \n",
       "0     2020       1      17      19      33      31  2020-1-17 19:33:31  \n",
       "1     2020       1      30      14      35      45  2020-1-30 14:35:45  \n",
       "2     2020       1       5       0      57      28    2020-1-5 0:57:28  \n",
       "3     2020       1      20      12       2      15   2020-1-20 12:2:15  \n",
       "4     2020       1      23       8      54      17   2020-1-23 8:54:17  "
      ]
     },
     "execution_count": 648,
     "metadata": {},
     "output_type": "execute_result"
    }
   ],
   "source": [
    "df['충전시작일시(변환)'] = df['충전시작_년도'].astype(str) + '-' +  df['충전시작_월'].astype(str) + '-' + df['충전시작_일'].astype(str) + ' ' + df['충전시작_시'].astype(str) + ':' + df['충전시작_분'].astype(str) + ':' + df['충전시작_초'].astype(str)\n",
    "df.head()"
   ]
  },
  {
   "cell_type": "code",
   "execution_count": 649,
   "metadata": {},
   "outputs": [
    {
     "data": {
      "text/html": [
       "<div>\n",
       "<style scoped>\n",
       "    .dataframe tbody tr th:only-of-type {\n",
       "        vertical-align: middle;\n",
       "    }\n",
       "\n",
       "    .dataframe tbody tr th {\n",
       "        vertical-align: top;\n",
       "    }\n",
       "\n",
       "    .dataframe thead th {\n",
       "        text-align: right;\n",
       "    }\n",
       "</style>\n",
       "<table border=\"1\" class=\"dataframe\">\n",
       "  <thead>\n",
       "    <tr style=\"text-align: right;\">\n",
       "      <th></th>\n",
       "      <th>충전소명</th>\n",
       "      <th>충전기ID</th>\n",
       "      <th>지역</th>\n",
       "      <th>시군구</th>\n",
       "      <th>주소</th>\n",
       "      <th>충전기용량(kW)</th>\n",
       "      <th>충전기타입</th>\n",
       "      <th>충전시작일시</th>\n",
       "      <th>충전종료일시</th>\n",
       "      <th>충전시간</th>\n",
       "      <th>충전량</th>\n",
       "      <th>충전용량</th>\n",
       "      <th>충전시작_년도</th>\n",
       "      <th>충전시작_월</th>\n",
       "      <th>충전시작_일</th>\n",
       "      <th>충전시작_시</th>\n",
       "      <th>충전시작_분</th>\n",
       "      <th>충전시작_초</th>\n",
       "      <th>충전시작일시(변환)</th>\n",
       "    </tr>\n",
       "  </thead>\n",
       "  <tbody>\n",
       "    <tr>\n",
       "      <th>0</th>\n",
       "      <td>내린천휴게소 양양방향</td>\n",
       "      <td>1</td>\n",
       "      <td>강원도</td>\n",
       "      <td>인제군</td>\n",
       "      <td>강원도 인제군 상남면 하남리 339-7(양양방향)</td>\n",
       "      <td>50.0</td>\n",
       "      <td>DC차데모+AC3상+DC콤보</td>\n",
       "      <td>20200117193331</td>\n",
       "      <td>20200117201417</td>\n",
       "      <td>00:40:00</td>\n",
       "      <td>25.47</td>\n",
       "      <td>NaN</td>\n",
       "      <td>2020</td>\n",
       "      <td>1</td>\n",
       "      <td>17</td>\n",
       "      <td>19</td>\n",
       "      <td>33</td>\n",
       "      <td>31</td>\n",
       "      <td>2020-01-17 19:33:31</td>\n",
       "    </tr>\n",
       "    <tr>\n",
       "      <th>1</th>\n",
       "      <td>내린천휴게소 양양방향</td>\n",
       "      <td>1</td>\n",
       "      <td>강원도</td>\n",
       "      <td>인제군</td>\n",
       "      <td>강원도 인제군 상남면 하남리 339-7(양양방향)</td>\n",
       "      <td>50.0</td>\n",
       "      <td>DC차데모+AC3상+DC콤보</td>\n",
       "      <td>20200130143545</td>\n",
       "      <td>20200130150645</td>\n",
       "      <td>00:30:31</td>\n",
       "      <td>17.57</td>\n",
       "      <td>NaN</td>\n",
       "      <td>2020</td>\n",
       "      <td>1</td>\n",
       "      <td>30</td>\n",
       "      <td>14</td>\n",
       "      <td>35</td>\n",
       "      <td>45</td>\n",
       "      <td>2020-01-30 14:35:45</td>\n",
       "    </tr>\n",
       "    <tr>\n",
       "      <th>2</th>\n",
       "      <td>내린천휴게소 양양방향</td>\n",
       "      <td>1</td>\n",
       "      <td>강원도</td>\n",
       "      <td>인제군</td>\n",
       "      <td>강원도 인제군 상남면 하남리 339-7(양양방향)</td>\n",
       "      <td>50.0</td>\n",
       "      <td>DC차데모+AC3상+DC콤보</td>\n",
       "      <td>20200105005728</td>\n",
       "      <td>20200105011329</td>\n",
       "      <td>00:15:35</td>\n",
       "      <td>6.98</td>\n",
       "      <td>NaN</td>\n",
       "      <td>2020</td>\n",
       "      <td>1</td>\n",
       "      <td>5</td>\n",
       "      <td>0</td>\n",
       "      <td>57</td>\n",
       "      <td>28</td>\n",
       "      <td>2020-01-05 00:57:28</td>\n",
       "    </tr>\n",
       "    <tr>\n",
       "      <th>3</th>\n",
       "      <td>내린천휴게소 양양방향</td>\n",
       "      <td>3</td>\n",
       "      <td>강원도</td>\n",
       "      <td>인제군</td>\n",
       "      <td>강원도 인제군 상남면 하남리 339-7(양양방향)</td>\n",
       "      <td>100.0</td>\n",
       "      <td>DC콤보</td>\n",
       "      <td>20200120120215</td>\n",
       "      <td>20200120124708</td>\n",
       "      <td>00:41:00</td>\n",
       "      <td>15.30</td>\n",
       "      <td>NaN</td>\n",
       "      <td>2020</td>\n",
       "      <td>1</td>\n",
       "      <td>20</td>\n",
       "      <td>12</td>\n",
       "      <td>2</td>\n",
       "      <td>15</td>\n",
       "      <td>2020-01-20 12:02:15</td>\n",
       "    </tr>\n",
       "    <tr>\n",
       "      <th>4</th>\n",
       "      <td>한국광기술원</td>\n",
       "      <td>1</td>\n",
       "      <td>광주광역시</td>\n",
       "      <td>북구</td>\n",
       "      <td>광주광역시 북구 첨단 벤처로 108번길 9</td>\n",
       "      <td>50.0</td>\n",
       "      <td>DC차데모+AC3상+DC콤보</td>\n",
       "      <td>20200123085417</td>\n",
       "      <td>20200123092554</td>\n",
       "      <td>00:31:14</td>\n",
       "      <td>21.92</td>\n",
       "      <td>NaN</td>\n",
       "      <td>2020</td>\n",
       "      <td>1</td>\n",
       "      <td>23</td>\n",
       "      <td>8</td>\n",
       "      <td>54</td>\n",
       "      <td>17</td>\n",
       "      <td>2020-01-23 08:54:17</td>\n",
       "    </tr>\n",
       "  </tbody>\n",
       "</table>\n",
       "</div>"
      ],
      "text/plain": [
       "          충전소명  충전기ID     지역  시군구                           주소  충전기용량(kW)  \\\n",
       "0  내린천휴게소 양양방향      1    강원도  인제군  강원도 인제군 상남면 하남리 339-7(양양방향)       50.0   \n",
       "1  내린천휴게소 양양방향      1    강원도  인제군  강원도 인제군 상남면 하남리 339-7(양양방향)       50.0   \n",
       "2  내린천휴게소 양양방향      1    강원도  인제군  강원도 인제군 상남면 하남리 339-7(양양방향)       50.0   \n",
       "3  내린천휴게소 양양방향      3    강원도  인제군  강원도 인제군 상남면 하남리 339-7(양양방향)      100.0   \n",
       "4       한국광기술원      1  광주광역시   북구      광주광역시 북구 첨단 벤처로 108번길 9       50.0   \n",
       "\n",
       "             충전기타입          충전시작일시          충전종료일시      충전시간    충전량 충전용량  \\\n",
       "0  DC차데모+AC3상+DC콤보  20200117193331  20200117201417  00:40:00  25.47  NaN   \n",
       "1  DC차데모+AC3상+DC콤보  20200130143545  20200130150645  00:30:31  17.57  NaN   \n",
       "2  DC차데모+AC3상+DC콤보  20200105005728  20200105011329  00:15:35   6.98  NaN   \n",
       "3             DC콤보  20200120120215  20200120124708  00:41:00  15.30  NaN   \n",
       "4  DC차데모+AC3상+DC콤보  20200123085417  20200123092554  00:31:14  21.92  NaN   \n",
       "\n",
       "   충전시작_년도  충전시작_월  충전시작_일  충전시작_시  충전시작_분  충전시작_초          충전시작일시(변환)  \n",
       "0     2020       1      17      19      33      31 2020-01-17 19:33:31  \n",
       "1     2020       1      30      14      35      45 2020-01-30 14:35:45  \n",
       "2     2020       1       5       0      57      28 2020-01-05 00:57:28  \n",
       "3     2020       1      20      12       2      15 2020-01-20 12:02:15  \n",
       "4     2020       1      23       8      54      17 2020-01-23 08:54:17  "
      ]
     },
     "execution_count": 649,
     "metadata": {},
     "output_type": "execute_result"
    }
   ],
   "source": [
    "df['충전시작일시(변환)'] = pd.to_datetime(df['충전시작일시(변환)'])\n",
    "df.head()"
   ]
  },
  {
   "cell_type": "markdown",
   "metadata": {},
   "source": [
    "### 충전종료시간 정리"
   ]
  },
  {
   "cell_type": "code",
   "execution_count": 650,
   "metadata": {},
   "outputs": [
    {
     "data": {
      "text/html": [
       "<div>\n",
       "<style scoped>\n",
       "    .dataframe tbody tr th:only-of-type {\n",
       "        vertical-align: middle;\n",
       "    }\n",
       "\n",
       "    .dataframe tbody tr th {\n",
       "        vertical-align: top;\n",
       "    }\n",
       "\n",
       "    .dataframe thead th {\n",
       "        text-align: right;\n",
       "    }\n",
       "</style>\n",
       "<table border=\"1\" class=\"dataframe\">\n",
       "  <thead>\n",
       "    <tr style=\"text-align: right;\">\n",
       "      <th></th>\n",
       "      <th>충전소명</th>\n",
       "      <th>충전기ID</th>\n",
       "      <th>지역</th>\n",
       "      <th>시군구</th>\n",
       "      <th>주소</th>\n",
       "      <th>충전기용량(kW)</th>\n",
       "      <th>충전기타입</th>\n",
       "      <th>충전시작일시</th>\n",
       "      <th>충전종료일시</th>\n",
       "      <th>충전시간</th>\n",
       "      <th>충전량</th>\n",
       "      <th>충전용량</th>\n",
       "      <th>충전시작_년도</th>\n",
       "      <th>충전시작_월</th>\n",
       "      <th>충전시작_일</th>\n",
       "      <th>충전시작_시</th>\n",
       "      <th>충전시작_분</th>\n",
       "      <th>충전시작_초</th>\n",
       "      <th>충전시작일시(변환)</th>\n",
       "    </tr>\n",
       "  </thead>\n",
       "  <tbody>\n",
       "  </tbody>\n",
       "</table>\n",
       "</div>"
      ],
      "text/plain": [
       "Empty DataFrame\n",
       "Columns: [충전소명, 충전기ID, 지역, 시군구, 주소, 충전기용량(kW), 충전기타입, 충전시작일시, 충전종료일시, 충전시간, 충전량, 충전용량, 충전시작_년도, 충전시작_월, 충전시작_일, 충전시작_시, 충전시작_분, 충전시작_초, 충전시작일시(변환)]\n",
       "Index: []"
      ]
     },
     "execution_count": 650,
     "metadata": {},
     "output_type": "execute_result"
    }
   ],
   "source": [
    "df[df['충전종료일시'] == ' ']"
   ]
  },
  {
   "cell_type": "code",
   "execution_count": 651,
   "metadata": {},
   "outputs": [
    {
     "name": "stdout",
     "output_type": "stream",
     "text": [
      "71311\n"
     ]
    }
   ],
   "source": [
    "# 충전종료일시의 데이터는 년~일까지만 있는 데이터가 71311개 존재\n",
    "    # 해당 데이터 뒤에 시분초를 '000000'으로 추가하는 작업 필요함.\n",
    "temp = df['충전종료일시'].to_list()\n",
    "temp2 = [str(i) for i in temp]\n",
    "count = 0\n",
    "for one in temp2:\n",
    "    if len(one) == 8:\n",
    "        count += 1\n",
    "print(count)"
   ]
  },
  {
   "cell_type": "code",
   "execution_count": 652,
   "metadata": {},
   "outputs": [
    {
     "data": {
      "text/html": [
       "<div>\n",
       "<style scoped>\n",
       "    .dataframe tbody tr th:only-of-type {\n",
       "        vertical-align: middle;\n",
       "    }\n",
       "\n",
       "    .dataframe tbody tr th {\n",
       "        vertical-align: top;\n",
       "    }\n",
       "\n",
       "    .dataframe thead th {\n",
       "        text-align: right;\n",
       "    }\n",
       "</style>\n",
       "<table border=\"1\" class=\"dataframe\">\n",
       "  <thead>\n",
       "    <tr style=\"text-align: right;\">\n",
       "      <th></th>\n",
       "      <th>충전소명</th>\n",
       "      <th>충전기ID</th>\n",
       "      <th>지역</th>\n",
       "      <th>시군구</th>\n",
       "      <th>주소</th>\n",
       "      <th>충전기용량(kW)</th>\n",
       "      <th>충전기타입</th>\n",
       "      <th>충전시작일시</th>\n",
       "      <th>충전종료일시</th>\n",
       "      <th>충전시간</th>\n",
       "      <th>충전량</th>\n",
       "      <th>충전용량</th>\n",
       "      <th>충전시작_년도</th>\n",
       "      <th>충전시작_월</th>\n",
       "      <th>충전시작_일</th>\n",
       "      <th>충전시작_시</th>\n",
       "      <th>충전시작_분</th>\n",
       "      <th>충전시작_초</th>\n",
       "      <th>충전시작일시(변환)</th>\n",
       "    </tr>\n",
       "  </thead>\n",
       "  <tbody>\n",
       "    <tr>\n",
       "      <th>11665817</th>\n",
       "      <td>죽전휴게소(서울방향)</td>\n",
       "      <td>1</td>\n",
       "      <td>경기도</td>\n",
       "      <td>용인시</td>\n",
       "      <td>경기도 용인시 수지구 경부고속도로 400 (죽전동)</td>\n",
       "      <td>NaN</td>\n",
       "      <td>DC차데모+AC3상+DC콤보</td>\n",
       "      <td>20220831235918</td>\n",
       "      <td>20220901004034</td>\n",
       "      <td>00:40:00</td>\n",
       "      <td>31.09</td>\n",
       "      <td>급속(50kW)</td>\n",
       "      <td>2022</td>\n",
       "      <td>8</td>\n",
       "      <td>31</td>\n",
       "      <td>23</td>\n",
       "      <td>59</td>\n",
       "      <td>18</td>\n",
       "      <td>2022-08-31 23:59:18</td>\n",
       "    </tr>\n",
       "    <tr>\n",
       "      <th>11665818</th>\n",
       "      <td>원주모범운전자회</td>\n",
       "      <td>21</td>\n",
       "      <td>강원도</td>\n",
       "      <td>원주시</td>\n",
       "      <td>강원도 원주시 단구로 150</td>\n",
       "      <td>NaN</td>\n",
       "      <td>DC콤보</td>\n",
       "      <td>20220831235920</td>\n",
       "      <td>20220901001904</td>\n",
       "      <td>00:19:43</td>\n",
       "      <td>46.51</td>\n",
       "      <td>급속(200kW동시)</td>\n",
       "      <td>2022</td>\n",
       "      <td>8</td>\n",
       "      <td>31</td>\n",
       "      <td>23</td>\n",
       "      <td>59</td>\n",
       "      <td>20</td>\n",
       "      <td>2022-08-31 23:59:20</td>\n",
       "    </tr>\n",
       "    <tr>\n",
       "      <th>11665819</th>\n",
       "      <td>검단2공영주차장</td>\n",
       "      <td>1</td>\n",
       "      <td>인천광역시</td>\n",
       "      <td>서구</td>\n",
       "      <td>인천광역시 서구 당하동 1097-5  검단4동 주민센터 옆</td>\n",
       "      <td>NaN</td>\n",
       "      <td>DC차데모+AC3상+DC콤보</td>\n",
       "      <td>20220831235931</td>\n",
       "      <td>20220901004251</td>\n",
       "      <td>00:40:00</td>\n",
       "      <td>21.97</td>\n",
       "      <td>급속(50kW)</td>\n",
       "      <td>2022</td>\n",
       "      <td>8</td>\n",
       "      <td>31</td>\n",
       "      <td>23</td>\n",
       "      <td>59</td>\n",
       "      <td>31</td>\n",
       "      <td>2022-08-31 23:59:31</td>\n",
       "    </tr>\n",
       "    <tr>\n",
       "      <th>11665820</th>\n",
       "      <td>강당골 공영주차장</td>\n",
       "      <td>1</td>\n",
       "      <td>대구광역시</td>\n",
       "      <td>남구</td>\n",
       "      <td>대구광역시 남구 봉덕동 1272-18</td>\n",
       "      <td>NaN</td>\n",
       "      <td>DC차데모+AC3상+DC콤보</td>\n",
       "      <td>20220831235934</td>\n",
       "      <td>20220901004057</td>\n",
       "      <td>00:40:00</td>\n",
       "      <td>27.60</td>\n",
       "      <td>급속(50kW)</td>\n",
       "      <td>2022</td>\n",
       "      <td>8</td>\n",
       "      <td>31</td>\n",
       "      <td>23</td>\n",
       "      <td>59</td>\n",
       "      <td>34</td>\n",
       "      <td>2022-08-31 23:59:34</td>\n",
       "    </tr>\n",
       "    <tr>\n",
       "      <th>11665821</th>\n",
       "      <td>마천동2공영주차장</td>\n",
       "      <td>1</td>\n",
       "      <td>서울특별시</td>\n",
       "      <td>송파구</td>\n",
       "      <td>서울특별시 송파구 성내천로299-7</td>\n",
       "      <td>NaN</td>\n",
       "      <td>DC차데모+AC3상+DC콤보</td>\n",
       "      <td>20220831235946</td>\n",
       "      <td>20220901003700</td>\n",
       "      <td>00:34:09</td>\n",
       "      <td>9.77</td>\n",
       "      <td>급속(100kW멀티)</td>\n",
       "      <td>2022</td>\n",
       "      <td>8</td>\n",
       "      <td>31</td>\n",
       "      <td>23</td>\n",
       "      <td>59</td>\n",
       "      <td>46</td>\n",
       "      <td>2022-08-31 23:59:46</td>\n",
       "    </tr>\n",
       "  </tbody>\n",
       "</table>\n",
       "</div>"
      ],
      "text/plain": [
       "                 충전소명  충전기ID     지역  시군구                                주소  \\\n",
       "11665817  죽전휴게소(서울방향)      1    경기도  용인시      경기도 용인시 수지구 경부고속도로 400 (죽전동)   \n",
       "11665818     원주모범운전자회     21    강원도  원주시                   강원도 원주시 단구로 150   \n",
       "11665819     검단2공영주차장      1  인천광역시   서구  인천광역시 서구 당하동 1097-5  검단4동 주민센터 옆   \n",
       "11665820    강당골 공영주차장      1  대구광역시   남구              대구광역시 남구 봉덕동 1272-18   \n",
       "11665821    마천동2공영주차장      1  서울특별시  송파구               서울특별시 송파구 성내천로299-7   \n",
       "\n",
       "          충전기용량(kW)            충전기타입          충전시작일시          충전종료일시  \\\n",
       "11665817        NaN  DC차데모+AC3상+DC콤보  20220831235918  20220901004034   \n",
       "11665818        NaN             DC콤보  20220831235920  20220901001904   \n",
       "11665819        NaN  DC차데모+AC3상+DC콤보  20220831235931  20220901004251   \n",
       "11665820        NaN  DC차데모+AC3상+DC콤보  20220831235934  20220901004057   \n",
       "11665821        NaN  DC차데모+AC3상+DC콤보  20220831235946  20220901003700   \n",
       "\n",
       "              충전시간    충전량         충전용량  충전시작_년도  충전시작_월  충전시작_일  충전시작_시  \\\n",
       "11665817  00:40:00  31.09     급속(50kW)     2022       8      31      23   \n",
       "11665818  00:19:43  46.51  급속(200kW동시)     2022       8      31      23   \n",
       "11665819  00:40:00  21.97     급속(50kW)     2022       8      31      23   \n",
       "11665820  00:40:00  27.60     급속(50kW)     2022       8      31      23   \n",
       "11665821  00:34:09   9.77  급속(100kW멀티)     2022       8      31      23   \n",
       "\n",
       "          충전시작_분  충전시작_초          충전시작일시(변환)  \n",
       "11665817      59      18 2022-08-31 23:59:18  \n",
       "11665818      59      20 2022-08-31 23:59:20  \n",
       "11665819      59      31 2022-08-31 23:59:31  \n",
       "11665820      59      34 2022-08-31 23:59:34  \n",
       "11665821      59      46 2022-08-31 23:59:46  "
      ]
     },
     "execution_count": 652,
     "metadata": {},
     "output_type": "execute_result"
    }
   ],
   "source": [
    "df.tail()"
   ]
  },
  {
   "cell_type": "code",
   "execution_count": 653,
   "metadata": {},
   "outputs": [],
   "source": [
    "temp = df['충전종료일시'].to_list()"
   ]
  },
  {
   "cell_type": "code",
   "execution_count": 654,
   "metadata": {},
   "outputs": [
    {
     "name": "stdout",
     "output_type": "stream",
     "text": [
      "1578\n"
     ]
    }
   ],
   "source": [
    "for i, one in enumerate(temp):\n",
    "    if len(str(one)) == 8:\n",
    "        print(i)\n",
    "        break"
   ]
  },
  {
   "cell_type": "code",
   "execution_count": 655,
   "metadata": {},
   "outputs": [
    {
     "data": {
      "text/plain": [
       "20200118"
      ]
     },
     "execution_count": 655,
     "metadata": {},
     "output_type": "execute_result"
    }
   ],
   "source": [
    "temp[1578]"
   ]
  },
  {
   "cell_type": "code",
   "execution_count": 656,
   "metadata": {},
   "outputs": [
    {
     "data": {
      "text/plain": [
       "'20200118'"
      ]
     },
     "execution_count": 656,
     "metadata": {},
     "output_type": "execute_result"
    }
   ],
   "source": [
    "temp2 = [str(i) for i in temp]\n",
    "temp2[1578]"
   ]
  },
  {
   "cell_type": "code",
   "execution_count": 657,
   "metadata": {},
   "outputs": [],
   "source": [
    "for i, one in enumerate(temp2):\n",
    "    if len(one) == 8:\n",
    "        temp = one + '000000'\n",
    "        temp2[i] = temp"
   ]
  },
  {
   "cell_type": "code",
   "execution_count": 658,
   "metadata": {},
   "outputs": [
    {
     "data": {
      "text/plain": [
       "'20200118000000'"
      ]
     },
     "execution_count": 658,
     "metadata": {},
     "output_type": "execute_result"
    }
   ],
   "source": [
    "temp2[1578]"
   ]
  },
  {
   "cell_type": "code",
   "execution_count": 659,
   "metadata": {},
   "outputs": [
    {
     "data": {
      "text/html": [
       "<div>\n",
       "<style scoped>\n",
       "    .dataframe tbody tr th:only-of-type {\n",
       "        vertical-align: middle;\n",
       "    }\n",
       "\n",
       "    .dataframe tbody tr th {\n",
       "        vertical-align: top;\n",
       "    }\n",
       "\n",
       "    .dataframe thead th {\n",
       "        text-align: right;\n",
       "    }\n",
       "</style>\n",
       "<table border=\"1\" class=\"dataframe\">\n",
       "  <thead>\n",
       "    <tr style=\"text-align: right;\">\n",
       "      <th></th>\n",
       "      <th>충전소명</th>\n",
       "      <th>충전기ID</th>\n",
       "      <th>지역</th>\n",
       "      <th>시군구</th>\n",
       "      <th>주소</th>\n",
       "      <th>충전기용량(kW)</th>\n",
       "      <th>충전기타입</th>\n",
       "      <th>충전시작일시</th>\n",
       "      <th>충전종료일시</th>\n",
       "      <th>충전시간</th>\n",
       "      <th>충전량</th>\n",
       "      <th>충전용량</th>\n",
       "      <th>충전시작_년도</th>\n",
       "      <th>충전시작_월</th>\n",
       "      <th>충전시작_일</th>\n",
       "      <th>충전시작_시</th>\n",
       "      <th>충전시작_분</th>\n",
       "      <th>충전시작_초</th>\n",
       "      <th>충전시작일시(변환)</th>\n",
       "    </tr>\n",
       "  </thead>\n",
       "  <tbody>\n",
       "    <tr>\n",
       "      <th>0</th>\n",
       "      <td>내린천휴게소 양양방향</td>\n",
       "      <td>1</td>\n",
       "      <td>강원도</td>\n",
       "      <td>인제군</td>\n",
       "      <td>강원도 인제군 상남면 하남리 339-7(양양방향)</td>\n",
       "      <td>50.0</td>\n",
       "      <td>DC차데모+AC3상+DC콤보</td>\n",
       "      <td>20200117193331</td>\n",
       "      <td>20200117201417</td>\n",
       "      <td>00:40:00</td>\n",
       "      <td>25.47</td>\n",
       "      <td>NaN</td>\n",
       "      <td>2020</td>\n",
       "      <td>1</td>\n",
       "      <td>17</td>\n",
       "      <td>19</td>\n",
       "      <td>33</td>\n",
       "      <td>31</td>\n",
       "      <td>2020-01-17 19:33:31</td>\n",
       "    </tr>\n",
       "    <tr>\n",
       "      <th>1</th>\n",
       "      <td>내린천휴게소 양양방향</td>\n",
       "      <td>1</td>\n",
       "      <td>강원도</td>\n",
       "      <td>인제군</td>\n",
       "      <td>강원도 인제군 상남면 하남리 339-7(양양방향)</td>\n",
       "      <td>50.0</td>\n",
       "      <td>DC차데모+AC3상+DC콤보</td>\n",
       "      <td>20200130143545</td>\n",
       "      <td>20200130150645</td>\n",
       "      <td>00:30:31</td>\n",
       "      <td>17.57</td>\n",
       "      <td>NaN</td>\n",
       "      <td>2020</td>\n",
       "      <td>1</td>\n",
       "      <td>30</td>\n",
       "      <td>14</td>\n",
       "      <td>35</td>\n",
       "      <td>45</td>\n",
       "      <td>2020-01-30 14:35:45</td>\n",
       "    </tr>\n",
       "    <tr>\n",
       "      <th>2</th>\n",
       "      <td>내린천휴게소 양양방향</td>\n",
       "      <td>1</td>\n",
       "      <td>강원도</td>\n",
       "      <td>인제군</td>\n",
       "      <td>강원도 인제군 상남면 하남리 339-7(양양방향)</td>\n",
       "      <td>50.0</td>\n",
       "      <td>DC차데모+AC3상+DC콤보</td>\n",
       "      <td>20200105005728</td>\n",
       "      <td>20200105011329</td>\n",
       "      <td>00:15:35</td>\n",
       "      <td>6.98</td>\n",
       "      <td>NaN</td>\n",
       "      <td>2020</td>\n",
       "      <td>1</td>\n",
       "      <td>5</td>\n",
       "      <td>0</td>\n",
       "      <td>57</td>\n",
       "      <td>28</td>\n",
       "      <td>2020-01-05 00:57:28</td>\n",
       "    </tr>\n",
       "    <tr>\n",
       "      <th>3</th>\n",
       "      <td>내린천휴게소 양양방향</td>\n",
       "      <td>3</td>\n",
       "      <td>강원도</td>\n",
       "      <td>인제군</td>\n",
       "      <td>강원도 인제군 상남면 하남리 339-7(양양방향)</td>\n",
       "      <td>100.0</td>\n",
       "      <td>DC콤보</td>\n",
       "      <td>20200120120215</td>\n",
       "      <td>20200120124708</td>\n",
       "      <td>00:41:00</td>\n",
       "      <td>15.30</td>\n",
       "      <td>NaN</td>\n",
       "      <td>2020</td>\n",
       "      <td>1</td>\n",
       "      <td>20</td>\n",
       "      <td>12</td>\n",
       "      <td>2</td>\n",
       "      <td>15</td>\n",
       "      <td>2020-01-20 12:02:15</td>\n",
       "    </tr>\n",
       "    <tr>\n",
       "      <th>4</th>\n",
       "      <td>한국광기술원</td>\n",
       "      <td>1</td>\n",
       "      <td>광주광역시</td>\n",
       "      <td>북구</td>\n",
       "      <td>광주광역시 북구 첨단 벤처로 108번길 9</td>\n",
       "      <td>50.0</td>\n",
       "      <td>DC차데모+AC3상+DC콤보</td>\n",
       "      <td>20200123085417</td>\n",
       "      <td>20200123092554</td>\n",
       "      <td>00:31:14</td>\n",
       "      <td>21.92</td>\n",
       "      <td>NaN</td>\n",
       "      <td>2020</td>\n",
       "      <td>1</td>\n",
       "      <td>23</td>\n",
       "      <td>8</td>\n",
       "      <td>54</td>\n",
       "      <td>17</td>\n",
       "      <td>2020-01-23 08:54:17</td>\n",
       "    </tr>\n",
       "  </tbody>\n",
       "</table>\n",
       "</div>"
      ],
      "text/plain": [
       "          충전소명  충전기ID     지역  시군구                           주소  충전기용량(kW)  \\\n",
       "0  내린천휴게소 양양방향      1    강원도  인제군  강원도 인제군 상남면 하남리 339-7(양양방향)       50.0   \n",
       "1  내린천휴게소 양양방향      1    강원도  인제군  강원도 인제군 상남면 하남리 339-7(양양방향)       50.0   \n",
       "2  내린천휴게소 양양방향      1    강원도  인제군  강원도 인제군 상남면 하남리 339-7(양양방향)       50.0   \n",
       "3  내린천휴게소 양양방향      3    강원도  인제군  강원도 인제군 상남면 하남리 339-7(양양방향)      100.0   \n",
       "4       한국광기술원      1  광주광역시   북구      광주광역시 북구 첨단 벤처로 108번길 9       50.0   \n",
       "\n",
       "             충전기타입          충전시작일시          충전종료일시      충전시간    충전량 충전용량  \\\n",
       "0  DC차데모+AC3상+DC콤보  20200117193331  20200117201417  00:40:00  25.47  NaN   \n",
       "1  DC차데모+AC3상+DC콤보  20200130143545  20200130150645  00:30:31  17.57  NaN   \n",
       "2  DC차데모+AC3상+DC콤보  20200105005728  20200105011329  00:15:35   6.98  NaN   \n",
       "3             DC콤보  20200120120215  20200120124708  00:41:00  15.30  NaN   \n",
       "4  DC차데모+AC3상+DC콤보  20200123085417  20200123092554  00:31:14  21.92  NaN   \n",
       "\n",
       "   충전시작_년도  충전시작_월  충전시작_일  충전시작_시  충전시작_분  충전시작_초          충전시작일시(변환)  \n",
       "0     2020       1      17      19      33      31 2020-01-17 19:33:31  \n",
       "1     2020       1      30      14      35      45 2020-01-30 14:35:45  \n",
       "2     2020       1       5       0      57      28 2020-01-05 00:57:28  \n",
       "3     2020       1      20      12       2      15 2020-01-20 12:02:15  \n",
       "4     2020       1      23       8      54      17 2020-01-23 08:54:17  "
      ]
     },
     "execution_count": 659,
     "metadata": {},
     "output_type": "execute_result"
    }
   ],
   "source": [
    "df['충전종료일시'] = temp2\n",
    "df.head()"
   ]
  },
  {
   "cell_type": "code",
   "execution_count": 660,
   "metadata": {},
   "outputs": [
    {
     "data": {
      "text/plain": [
       "충전소명                동해웰빙레포츠타운 주차장\n",
       "충전기ID                          21\n",
       "지역                            강원도\n",
       "시군구                           동해시\n",
       "주소                 강원도 동해시 덕골길 10\n",
       "충전기용량(kW)                   200.0\n",
       "충전기타입                        DC콤보\n",
       "충전시작일시             20200118162253\n",
       "충전종료일시             20200118000000\n",
       "충전시간                     00:06:49\n",
       "충전량                          1.91\n",
       "충전용량                          NaN\n",
       "충전시작_년도                      2020\n",
       "충전시작_월                          1\n",
       "충전시작_일                         18\n",
       "충전시작_시                         16\n",
       "충전시작_분                         22\n",
       "충전시작_초                         53\n",
       "충전시작일시(변환)    2020-01-18 16:22:53\n",
       "Name: 1578, dtype: object"
      ]
     },
     "execution_count": 660,
     "metadata": {},
     "output_type": "execute_result"
    }
   ],
   "source": [
    "df.iloc[1578, :]"
   ]
  },
  {
   "cell_type": "code",
   "execution_count": 661,
   "metadata": {},
   "outputs": [
    {
     "data": {
      "text/html": [
       "<div>\n",
       "<style scoped>\n",
       "    .dataframe tbody tr th:only-of-type {\n",
       "        vertical-align: middle;\n",
       "    }\n",
       "\n",
       "    .dataframe tbody tr th {\n",
       "        vertical-align: top;\n",
       "    }\n",
       "\n",
       "    .dataframe thead th {\n",
       "        text-align: right;\n",
       "    }\n",
       "</style>\n",
       "<table border=\"1\" class=\"dataframe\">\n",
       "  <thead>\n",
       "    <tr style=\"text-align: right;\">\n",
       "      <th></th>\n",
       "      <th>충전소명</th>\n",
       "      <th>충전기ID</th>\n",
       "      <th>지역</th>\n",
       "      <th>시군구</th>\n",
       "      <th>주소</th>\n",
       "      <th>충전기용량(kW)</th>\n",
       "      <th>충전기타입</th>\n",
       "      <th>충전시작일시</th>\n",
       "      <th>충전종료일시</th>\n",
       "      <th>충전시간</th>\n",
       "      <th>...</th>\n",
       "      <th>충전시작_시</th>\n",
       "      <th>충전시작_분</th>\n",
       "      <th>충전시작_초</th>\n",
       "      <th>충전시작일시(변환)</th>\n",
       "      <th>충전종료_년도</th>\n",
       "      <th>충전종료_월</th>\n",
       "      <th>충전종료_일</th>\n",
       "      <th>충전종료_시</th>\n",
       "      <th>충전종료_분</th>\n",
       "      <th>충전종료_초</th>\n",
       "    </tr>\n",
       "  </thead>\n",
       "  <tbody>\n",
       "    <tr>\n",
       "      <th>0</th>\n",
       "      <td>내린천휴게소 양양방향</td>\n",
       "      <td>1</td>\n",
       "      <td>강원도</td>\n",
       "      <td>인제군</td>\n",
       "      <td>강원도 인제군 상남면 하남리 339-7(양양방향)</td>\n",
       "      <td>50.0</td>\n",
       "      <td>DC차데모+AC3상+DC콤보</td>\n",
       "      <td>20200117193331</td>\n",
       "      <td>20200117201417</td>\n",
       "      <td>00:40:00</td>\n",
       "      <td>...</td>\n",
       "      <td>19</td>\n",
       "      <td>33</td>\n",
       "      <td>31</td>\n",
       "      <td>2020-01-17 19:33:31</td>\n",
       "      <td>2020</td>\n",
       "      <td>1</td>\n",
       "      <td>17</td>\n",
       "      <td>20</td>\n",
       "      <td>14</td>\n",
       "      <td>17</td>\n",
       "    </tr>\n",
       "    <tr>\n",
       "      <th>1</th>\n",
       "      <td>내린천휴게소 양양방향</td>\n",
       "      <td>1</td>\n",
       "      <td>강원도</td>\n",
       "      <td>인제군</td>\n",
       "      <td>강원도 인제군 상남면 하남리 339-7(양양방향)</td>\n",
       "      <td>50.0</td>\n",
       "      <td>DC차데모+AC3상+DC콤보</td>\n",
       "      <td>20200130143545</td>\n",
       "      <td>20200130150645</td>\n",
       "      <td>00:30:31</td>\n",
       "      <td>...</td>\n",
       "      <td>14</td>\n",
       "      <td>35</td>\n",
       "      <td>45</td>\n",
       "      <td>2020-01-30 14:35:45</td>\n",
       "      <td>2020</td>\n",
       "      <td>1</td>\n",
       "      <td>30</td>\n",
       "      <td>15</td>\n",
       "      <td>6</td>\n",
       "      <td>45</td>\n",
       "    </tr>\n",
       "    <tr>\n",
       "      <th>2</th>\n",
       "      <td>내린천휴게소 양양방향</td>\n",
       "      <td>1</td>\n",
       "      <td>강원도</td>\n",
       "      <td>인제군</td>\n",
       "      <td>강원도 인제군 상남면 하남리 339-7(양양방향)</td>\n",
       "      <td>50.0</td>\n",
       "      <td>DC차데모+AC3상+DC콤보</td>\n",
       "      <td>20200105005728</td>\n",
       "      <td>20200105011329</td>\n",
       "      <td>00:15:35</td>\n",
       "      <td>...</td>\n",
       "      <td>0</td>\n",
       "      <td>57</td>\n",
       "      <td>28</td>\n",
       "      <td>2020-01-05 00:57:28</td>\n",
       "      <td>2020</td>\n",
       "      <td>1</td>\n",
       "      <td>5</td>\n",
       "      <td>1</td>\n",
       "      <td>13</td>\n",
       "      <td>29</td>\n",
       "    </tr>\n",
       "    <tr>\n",
       "      <th>3</th>\n",
       "      <td>내린천휴게소 양양방향</td>\n",
       "      <td>3</td>\n",
       "      <td>강원도</td>\n",
       "      <td>인제군</td>\n",
       "      <td>강원도 인제군 상남면 하남리 339-7(양양방향)</td>\n",
       "      <td>100.0</td>\n",
       "      <td>DC콤보</td>\n",
       "      <td>20200120120215</td>\n",
       "      <td>20200120124708</td>\n",
       "      <td>00:41:00</td>\n",
       "      <td>...</td>\n",
       "      <td>12</td>\n",
       "      <td>2</td>\n",
       "      <td>15</td>\n",
       "      <td>2020-01-20 12:02:15</td>\n",
       "      <td>2020</td>\n",
       "      <td>1</td>\n",
       "      <td>20</td>\n",
       "      <td>12</td>\n",
       "      <td>47</td>\n",
       "      <td>8</td>\n",
       "    </tr>\n",
       "    <tr>\n",
       "      <th>4</th>\n",
       "      <td>한국광기술원</td>\n",
       "      <td>1</td>\n",
       "      <td>광주광역시</td>\n",
       "      <td>북구</td>\n",
       "      <td>광주광역시 북구 첨단 벤처로 108번길 9</td>\n",
       "      <td>50.0</td>\n",
       "      <td>DC차데모+AC3상+DC콤보</td>\n",
       "      <td>20200123085417</td>\n",
       "      <td>20200123092554</td>\n",
       "      <td>00:31:14</td>\n",
       "      <td>...</td>\n",
       "      <td>8</td>\n",
       "      <td>54</td>\n",
       "      <td>17</td>\n",
       "      <td>2020-01-23 08:54:17</td>\n",
       "      <td>2020</td>\n",
       "      <td>1</td>\n",
       "      <td>23</td>\n",
       "      <td>9</td>\n",
       "      <td>25</td>\n",
       "      <td>54</td>\n",
       "    </tr>\n",
       "  </tbody>\n",
       "</table>\n",
       "<p>5 rows × 25 columns</p>\n",
       "</div>"
      ],
      "text/plain": [
       "          충전소명  충전기ID     지역  시군구                           주소  충전기용량(kW)  \\\n",
       "0  내린천휴게소 양양방향      1    강원도  인제군  강원도 인제군 상남면 하남리 339-7(양양방향)       50.0   \n",
       "1  내린천휴게소 양양방향      1    강원도  인제군  강원도 인제군 상남면 하남리 339-7(양양방향)       50.0   \n",
       "2  내린천휴게소 양양방향      1    강원도  인제군  강원도 인제군 상남면 하남리 339-7(양양방향)       50.0   \n",
       "3  내린천휴게소 양양방향      3    강원도  인제군  강원도 인제군 상남면 하남리 339-7(양양방향)      100.0   \n",
       "4       한국광기술원      1  광주광역시   북구      광주광역시 북구 첨단 벤처로 108번길 9       50.0   \n",
       "\n",
       "             충전기타입          충전시작일시          충전종료일시      충전시간  ...  충전시작_시  \\\n",
       "0  DC차데모+AC3상+DC콤보  20200117193331  20200117201417  00:40:00  ...      19   \n",
       "1  DC차데모+AC3상+DC콤보  20200130143545  20200130150645  00:30:31  ...      14   \n",
       "2  DC차데모+AC3상+DC콤보  20200105005728  20200105011329  00:15:35  ...       0   \n",
       "3             DC콤보  20200120120215  20200120124708  00:41:00  ...      12   \n",
       "4  DC차데모+AC3상+DC콤보  20200123085417  20200123092554  00:31:14  ...       8   \n",
       "\n",
       "  충전시작_분  충전시작_초          충전시작일시(변환)  충전종료_년도  충전종료_월  충전종료_일  충전종료_시 충전종료_분  \\\n",
       "0     33      31 2020-01-17 19:33:31     2020       1      17      20     14   \n",
       "1     35      45 2020-01-30 14:35:45     2020       1      30      15      6   \n",
       "2     57      28 2020-01-05 00:57:28     2020       1       5       1     13   \n",
       "3      2      15 2020-01-20 12:02:15     2020       1      20      12     47   \n",
       "4     54      17 2020-01-23 08:54:17     2020       1      23       9     25   \n",
       "\n",
       "   충전종료_초  \n",
       "0      17  \n",
       "1      45  \n",
       "2      29  \n",
       "3       8  \n",
       "4      54  \n",
       "\n",
       "[5 rows x 25 columns]"
      ]
     },
     "execution_count": 661,
     "metadata": {},
     "output_type": "execute_result"
    }
   ],
   "source": [
    "ch_time = df['충전종료일시'].copy()\n",
    "df['충전종료_년도'] = ch_time.astype(str).str[:4].astype(int)\n",
    "df['충전종료_월'] = ch_time.astype(str).str[4:6].astype(int)\n",
    "df['충전종료_일'] = ch_time.astype(str).str[6:8].astype(int)\n",
    "df['충전종료_시'] = ch_time.astype(str).str[8:10].astype(int)\n",
    "df['충전종료_분'] = ch_time.astype(str).str[10:12].astype(int)\n",
    "df['충전종료_초'] = ch_time.astype(str).str[12:14].astype(int)\n",
    "df.head()"
   ]
  },
  {
   "cell_type": "code",
   "execution_count": 662,
   "metadata": {},
   "outputs": [
    {
     "data": {
      "text/html": [
       "<div>\n",
       "<style scoped>\n",
       "    .dataframe tbody tr th:only-of-type {\n",
       "        vertical-align: middle;\n",
       "    }\n",
       "\n",
       "    .dataframe tbody tr th {\n",
       "        vertical-align: top;\n",
       "    }\n",
       "\n",
       "    .dataframe thead th {\n",
       "        text-align: right;\n",
       "    }\n",
       "</style>\n",
       "<table border=\"1\" class=\"dataframe\">\n",
       "  <thead>\n",
       "    <tr style=\"text-align: right;\">\n",
       "      <th></th>\n",
       "      <th>충전소명</th>\n",
       "      <th>충전기ID</th>\n",
       "      <th>지역</th>\n",
       "      <th>시군구</th>\n",
       "      <th>주소</th>\n",
       "      <th>충전기용량(kW)</th>\n",
       "      <th>충전기타입</th>\n",
       "      <th>충전시작일시</th>\n",
       "      <th>충전종료일시</th>\n",
       "      <th>충전시간</th>\n",
       "      <th>...</th>\n",
       "      <th>충전시작_시</th>\n",
       "      <th>충전시작_분</th>\n",
       "      <th>충전시작_초</th>\n",
       "      <th>충전시작일시(변환)</th>\n",
       "      <th>충전종료_년도</th>\n",
       "      <th>충전종료_월</th>\n",
       "      <th>충전종료_일</th>\n",
       "      <th>충전종료_시</th>\n",
       "      <th>충전종료_분</th>\n",
       "      <th>충전종료_초</th>\n",
       "    </tr>\n",
       "  </thead>\n",
       "  <tbody>\n",
       "    <tr>\n",
       "      <th>11665817</th>\n",
       "      <td>죽전휴게소(서울방향)</td>\n",
       "      <td>1</td>\n",
       "      <td>경기도</td>\n",
       "      <td>용인시</td>\n",
       "      <td>경기도 용인시 수지구 경부고속도로 400 (죽전동)</td>\n",
       "      <td>NaN</td>\n",
       "      <td>DC차데모+AC3상+DC콤보</td>\n",
       "      <td>20220831235918</td>\n",
       "      <td>20220901004034</td>\n",
       "      <td>00:40:00</td>\n",
       "      <td>...</td>\n",
       "      <td>23</td>\n",
       "      <td>59</td>\n",
       "      <td>18</td>\n",
       "      <td>2022-08-31 23:59:18</td>\n",
       "      <td>2022</td>\n",
       "      <td>9</td>\n",
       "      <td>1</td>\n",
       "      <td>0</td>\n",
       "      <td>40</td>\n",
       "      <td>34</td>\n",
       "    </tr>\n",
       "    <tr>\n",
       "      <th>11665818</th>\n",
       "      <td>원주모범운전자회</td>\n",
       "      <td>21</td>\n",
       "      <td>강원도</td>\n",
       "      <td>원주시</td>\n",
       "      <td>강원도 원주시 단구로 150</td>\n",
       "      <td>NaN</td>\n",
       "      <td>DC콤보</td>\n",
       "      <td>20220831235920</td>\n",
       "      <td>20220901001904</td>\n",
       "      <td>00:19:43</td>\n",
       "      <td>...</td>\n",
       "      <td>23</td>\n",
       "      <td>59</td>\n",
       "      <td>20</td>\n",
       "      <td>2022-08-31 23:59:20</td>\n",
       "      <td>2022</td>\n",
       "      <td>9</td>\n",
       "      <td>1</td>\n",
       "      <td>0</td>\n",
       "      <td>19</td>\n",
       "      <td>4</td>\n",
       "    </tr>\n",
       "    <tr>\n",
       "      <th>11665819</th>\n",
       "      <td>검단2공영주차장</td>\n",
       "      <td>1</td>\n",
       "      <td>인천광역시</td>\n",
       "      <td>서구</td>\n",
       "      <td>인천광역시 서구 당하동 1097-5  검단4동 주민센터 옆</td>\n",
       "      <td>NaN</td>\n",
       "      <td>DC차데모+AC3상+DC콤보</td>\n",
       "      <td>20220831235931</td>\n",
       "      <td>20220901004251</td>\n",
       "      <td>00:40:00</td>\n",
       "      <td>...</td>\n",
       "      <td>23</td>\n",
       "      <td>59</td>\n",
       "      <td>31</td>\n",
       "      <td>2022-08-31 23:59:31</td>\n",
       "      <td>2022</td>\n",
       "      <td>9</td>\n",
       "      <td>1</td>\n",
       "      <td>0</td>\n",
       "      <td>42</td>\n",
       "      <td>51</td>\n",
       "    </tr>\n",
       "    <tr>\n",
       "      <th>11665820</th>\n",
       "      <td>강당골 공영주차장</td>\n",
       "      <td>1</td>\n",
       "      <td>대구광역시</td>\n",
       "      <td>남구</td>\n",
       "      <td>대구광역시 남구 봉덕동 1272-18</td>\n",
       "      <td>NaN</td>\n",
       "      <td>DC차데모+AC3상+DC콤보</td>\n",
       "      <td>20220831235934</td>\n",
       "      <td>20220901004057</td>\n",
       "      <td>00:40:00</td>\n",
       "      <td>...</td>\n",
       "      <td>23</td>\n",
       "      <td>59</td>\n",
       "      <td>34</td>\n",
       "      <td>2022-08-31 23:59:34</td>\n",
       "      <td>2022</td>\n",
       "      <td>9</td>\n",
       "      <td>1</td>\n",
       "      <td>0</td>\n",
       "      <td>40</td>\n",
       "      <td>57</td>\n",
       "    </tr>\n",
       "    <tr>\n",
       "      <th>11665821</th>\n",
       "      <td>마천동2공영주차장</td>\n",
       "      <td>1</td>\n",
       "      <td>서울특별시</td>\n",
       "      <td>송파구</td>\n",
       "      <td>서울특별시 송파구 성내천로299-7</td>\n",
       "      <td>NaN</td>\n",
       "      <td>DC차데모+AC3상+DC콤보</td>\n",
       "      <td>20220831235946</td>\n",
       "      <td>20220901003700</td>\n",
       "      <td>00:34:09</td>\n",
       "      <td>...</td>\n",
       "      <td>23</td>\n",
       "      <td>59</td>\n",
       "      <td>46</td>\n",
       "      <td>2022-08-31 23:59:46</td>\n",
       "      <td>2022</td>\n",
       "      <td>9</td>\n",
       "      <td>1</td>\n",
       "      <td>0</td>\n",
       "      <td>37</td>\n",
       "      <td>0</td>\n",
       "    </tr>\n",
       "  </tbody>\n",
       "</table>\n",
       "<p>5 rows × 25 columns</p>\n",
       "</div>"
      ],
      "text/plain": [
       "                 충전소명  충전기ID     지역  시군구                                주소  \\\n",
       "11665817  죽전휴게소(서울방향)      1    경기도  용인시      경기도 용인시 수지구 경부고속도로 400 (죽전동)   \n",
       "11665818     원주모범운전자회     21    강원도  원주시                   강원도 원주시 단구로 150   \n",
       "11665819     검단2공영주차장      1  인천광역시   서구  인천광역시 서구 당하동 1097-5  검단4동 주민센터 옆   \n",
       "11665820    강당골 공영주차장      1  대구광역시   남구              대구광역시 남구 봉덕동 1272-18   \n",
       "11665821    마천동2공영주차장      1  서울특별시  송파구               서울특별시 송파구 성내천로299-7   \n",
       "\n",
       "          충전기용량(kW)            충전기타입          충전시작일시          충전종료일시  \\\n",
       "11665817        NaN  DC차데모+AC3상+DC콤보  20220831235918  20220901004034   \n",
       "11665818        NaN             DC콤보  20220831235920  20220901001904   \n",
       "11665819        NaN  DC차데모+AC3상+DC콤보  20220831235931  20220901004251   \n",
       "11665820        NaN  DC차데모+AC3상+DC콤보  20220831235934  20220901004057   \n",
       "11665821        NaN  DC차데모+AC3상+DC콤보  20220831235946  20220901003700   \n",
       "\n",
       "              충전시간  ...  충전시작_시 충전시작_분  충전시작_초          충전시작일시(변환)  충전종료_년도  \\\n",
       "11665817  00:40:00  ...      23     59      18 2022-08-31 23:59:18     2022   \n",
       "11665818  00:19:43  ...      23     59      20 2022-08-31 23:59:20     2022   \n",
       "11665819  00:40:00  ...      23     59      31 2022-08-31 23:59:31     2022   \n",
       "11665820  00:40:00  ...      23     59      34 2022-08-31 23:59:34     2022   \n",
       "11665821  00:34:09  ...      23     59      46 2022-08-31 23:59:46     2022   \n",
       "\n",
       "          충전종료_월  충전종료_일  충전종료_시 충전종료_분  충전종료_초  \n",
       "11665817       9       1       0     40      34  \n",
       "11665818       9       1       0     19       4  \n",
       "11665819       9       1       0     42      51  \n",
       "11665820       9       1       0     40      57  \n",
       "11665821       9       1       0     37       0  \n",
       "\n",
       "[5 rows x 25 columns]"
      ]
     },
     "execution_count": 662,
     "metadata": {},
     "output_type": "execute_result"
    }
   ],
   "source": [
    "df.tail()"
   ]
  },
  {
   "cell_type": "markdown",
   "metadata": {},
   "source": [
    "#### 충전종료일시-초 오류 데이터\n",
    "- 1495개"
   ]
  },
  {
   "cell_type": "code",
   "execution_count": 663,
   "metadata": {},
   "outputs": [
    {
     "data": {
      "text/plain": [
       "(1495, 25)"
      ]
     },
     "execution_count": 663,
     "metadata": {},
     "output_type": "execute_result"
    }
   ],
   "source": [
    "df[df['충전종료_초'] >= 60].shape"
   ]
  },
  {
   "cell_type": "code",
   "execution_count": 664,
   "metadata": {},
   "outputs": [
    {
     "data": {
      "text/plain": [
       "1495"
      ]
     },
     "execution_count": 664,
     "metadata": {},
     "output_type": "execute_result"
    }
   ],
   "source": [
    "over_s_idx = df[df['충전종료_초'] >= 60].index\n",
    "len(over_s_idx)"
   ]
  },
  {
   "cell_type": "code",
   "execution_count": 665,
   "metadata": {},
   "outputs": [],
   "source": [
    "for i in over_s_idx:\n",
    "    df.loc[i, '충전종료_분'] += 1\n",
    "    df.loc[i, '충전종료_초'] -= 60"
   ]
  },
  {
   "cell_type": "code",
   "execution_count": 666,
   "metadata": {},
   "outputs": [
    {
     "data": {
      "text/plain": [
       "충전소명                  포천시의회 야외주차장\n",
       "충전기ID                          44\n",
       "지역                            경기도\n",
       "시군구                           포천시\n",
       "주소                 경기도 포천시 중앙로 87\n",
       "충전기용량(kW)                   100.0\n",
       "충전기타입                        DC콤보\n",
       "충전시작일시             20201023102909\n",
       "충전종료일시             20201023103099\n",
       "충전시간                     00:03:10\n",
       "충전량                          2.36\n",
       "충전용량                          NaN\n",
       "충전시작_년도                      2020\n",
       "충전시작_월                         10\n",
       "충전시작_일                         23\n",
       "충전시작_시                         10\n",
       "충전시작_분                         29\n",
       "충전시작_초                          9\n",
       "충전시작일시(변환)    2020-10-23 10:29:09\n",
       "충전종료_년도                      2020\n",
       "충전종료_월                         10\n",
       "충전종료_일                         23\n",
       "충전종료_시                         10\n",
       "충전종료_분                         31\n",
       "충전종료_초                         39\n",
       "Name: 1960560, dtype: object"
      ]
     },
     "execution_count": 666,
     "metadata": {},
     "output_type": "execute_result"
    }
   ],
   "source": [
    "df.iloc[1960560, :]"
   ]
  },
  {
   "cell_type": "markdown",
   "metadata": {},
   "source": [
    "#### 충전종료일시-분 오류 데이터\n",
    "- 3270개"
   ]
  },
  {
   "cell_type": "code",
   "execution_count": 667,
   "metadata": {},
   "outputs": [
    {
     "data": {
      "text/plain": [
       "(3270, 25)"
      ]
     },
     "execution_count": 667,
     "metadata": {},
     "output_type": "execute_result"
    }
   ],
   "source": [
    "df[df['충전종료_분'] >= 60].shape"
   ]
  },
  {
   "cell_type": "code",
   "execution_count": 668,
   "metadata": {},
   "outputs": [
    {
     "data": {
      "text/plain": [
       "3270"
      ]
     },
     "execution_count": 668,
     "metadata": {},
     "output_type": "execute_result"
    }
   ],
   "source": [
    "over_m_idx = df[df['충전종료_분'] >= 60].index\n",
    "len(over_m_idx)"
   ]
  },
  {
   "cell_type": "code",
   "execution_count": 669,
   "metadata": {},
   "outputs": [],
   "source": [
    "for i in over_m_idx:\n",
    "    df.loc[i, '충전종료_시'] += 1\n",
    "    df.loc[i, '충전종료_분'] -= 60"
   ]
  },
  {
   "cell_type": "code",
   "execution_count": 670,
   "metadata": {},
   "outputs": [
    {
     "data": {
      "text/plain": [
       "충전소명                  포천시의회 야외주차장\n",
       "충전기ID                          45\n",
       "지역                            경기도\n",
       "시군구                           포천시\n",
       "주소                 경기도 포천시 중앙로 87\n",
       "충전기용량(kW)                   100.0\n",
       "충전기타입                        DC콤보\n",
       "충전시작일시             20201023174301\n",
       "충전종료일시             20201023176497\n",
       "충전시간                     00:36:36\n",
       "충전량                         25.44\n",
       "충전용량                          NaN\n",
       "충전시작_년도                      2020\n",
       "충전시작_월                         10\n",
       "충전시작_일                         23\n",
       "충전시작_시                         17\n",
       "충전시작_분                         43\n",
       "충전시작_초                          1\n",
       "충전시작일시(변환)    2020-10-23 17:43:01\n",
       "충전종료_년도                      2020\n",
       "충전종료_월                         10\n",
       "충전종료_일                         23\n",
       "충전종료_시                         18\n",
       "충전종료_분                          5\n",
       "충전종료_초                         37\n",
       "Name: 1964993, dtype: object"
      ]
     },
     "execution_count": 670,
     "metadata": {},
     "output_type": "execute_result"
    }
   ],
   "source": [
    "df.iloc[1964993, :]"
   ]
  },
  {
   "cell_type": "markdown",
   "metadata": {},
   "source": [
    "#### 충전종료일시-시 오류 데이터\n",
    "- 71개"
   ]
  },
  {
   "cell_type": "code",
   "execution_count": 671,
   "metadata": {},
   "outputs": [
    {
     "data": {
      "text/plain": [
       "(71, 25)"
      ]
     },
     "execution_count": 671,
     "metadata": {},
     "output_type": "execute_result"
    }
   ],
   "source": [
    "df[df['충전종료_시'] >= 24].shape"
   ]
  },
  {
   "cell_type": "code",
   "execution_count": 672,
   "metadata": {},
   "outputs": [
    {
     "data": {
      "text/plain": [
       "71"
      ]
     },
     "execution_count": 672,
     "metadata": {},
     "output_type": "execute_result"
    }
   ],
   "source": [
    "over_h_idx = df[df['충전종료_시'] >= 24].index\n",
    "len(over_h_idx)"
   ]
  },
  {
   "cell_type": "code",
   "execution_count": 673,
   "metadata": {},
   "outputs": [],
   "source": [
    "for i in over_h_idx:\n",
    "    df.loc[i, '충전종료_일'] += 1\n",
    "    df.loc[i, '충전종료_시'] -= 24"
   ]
  },
  {
   "cell_type": "code",
   "execution_count": 674,
   "metadata": {},
   "outputs": [
    {
     "data": {
      "text/plain": [
       "충전소명             제천종합운동장 대형버스 주차장\n",
       "충전기ID                          41\n",
       "지역                           충청북도\n",
       "시군구                           제천시\n",
       "주소               충청북도 제천시 숭의로 101\n",
       "충전기용량(kW)                   100.0\n",
       "충전기타입                        DC콤보\n",
       "충전시작일시             20201030234823\n",
       "충전종료일시             20201030237223\n",
       "충전시간                     00:40:00\n",
       "충전량                         23.22\n",
       "충전용량                          NaN\n",
       "충전시작_년도                      2020\n",
       "충전시작_월                         10\n",
       "충전시작_일                         30\n",
       "충전시작_시                         23\n",
       "충전시작_분                         48\n",
       "충전시작_초                         23\n",
       "충전시작일시(변환)    2020-10-30 23:48:23\n",
       "충전종료_년도                      2020\n",
       "충전종료_월                         10\n",
       "충전종료_일                         31\n",
       "충전종료_시                          0\n",
       "충전종료_분                         12\n",
       "충전종료_초                         23\n",
       "Name: 2168170, dtype: object"
      ]
     },
     "execution_count": 674,
     "metadata": {},
     "output_type": "execute_result"
    }
   ],
   "source": [
    "df.iloc[2168170, :]"
   ]
  },
  {
   "cell_type": "markdown",
   "metadata": {},
   "source": [
    "#### 충전종료일시-일 오류 데이터\n",
    "- 3개(index) : 3232880, 2440150, 2775050"
   ]
  },
  {
   "cell_type": "code",
   "execution_count": 675,
   "metadata": {},
   "outputs": [
    {
     "data": {
      "text/plain": [
       "Int64Index([], dtype='int64')"
      ]
     },
     "execution_count": 675,
     "metadata": {},
     "output_type": "execute_result"
    }
   ],
   "source": [
    "df[(df['충전종료_월'] == 1) & (df['충전종료_일'] > 31)].index"
   ]
  },
  {
   "cell_type": "code",
   "execution_count": 676,
   "metadata": {},
   "outputs": [
    {
     "data": {
      "text/plain": [
       "Int64Index([3232880], dtype='int64')"
      ]
     },
     "execution_count": 676,
     "metadata": {},
     "output_type": "execute_result"
    }
   ],
   "source": [
    "df[(df['충전종료_년도'] == 2021) & (df['충전종료_월'] == 2) & (df['충전종료_일'] > 28)].index"
   ]
  },
  {
   "cell_type": "code",
   "execution_count": 677,
   "metadata": {},
   "outputs": [
    {
     "data": {
      "text/plain": [
       "Int64Index([], dtype='int64')"
      ]
     },
     "execution_count": 677,
     "metadata": {},
     "output_type": "execute_result"
    }
   ],
   "source": [
    "df[(df['충전종료_년도'] == 2022) & (df['충전종료_월'] == 2) & (df['충전종료_일'] > 28)].index"
   ]
  },
  {
   "cell_type": "code",
   "execution_count": 678,
   "metadata": {},
   "outputs": [
    {
     "data": {
      "text/plain": [
       "Int64Index([], dtype='int64')"
      ]
     },
     "execution_count": 678,
     "metadata": {},
     "output_type": "execute_result"
    }
   ],
   "source": [
    "# 2020년은 윤년\n",
    "df[(df['충전종료_년도'] == 2020) & (df['충전종료_월'] == 2) & (df['충전종료_일'] > 29)].index"
   ]
  },
  {
   "cell_type": "code",
   "execution_count": 679,
   "metadata": {},
   "outputs": [
    {
     "data": {
      "text/plain": [
       "Int64Index([], dtype='int64')"
      ]
     },
     "execution_count": 679,
     "metadata": {},
     "output_type": "execute_result"
    }
   ],
   "source": [
    "df[(df['충전종료_월'] == 3) & (df['충전종료_일'] > 31)].index"
   ]
  },
  {
   "cell_type": "code",
   "execution_count": 680,
   "metadata": {},
   "outputs": [
    {
     "data": {
      "text/plain": [
       "Int64Index([], dtype='int64')"
      ]
     },
     "execution_count": 680,
     "metadata": {},
     "output_type": "execute_result"
    }
   ],
   "source": [
    "df[(df['충전종료_월'] == 4) & (df['충전종료_일'] > 30)].index"
   ]
  },
  {
   "cell_type": "code",
   "execution_count": 681,
   "metadata": {},
   "outputs": [
    {
     "data": {
      "text/plain": [
       "Int64Index([], dtype='int64')"
      ]
     },
     "execution_count": 681,
     "metadata": {},
     "output_type": "execute_result"
    }
   ],
   "source": [
    "df[(df['충전종료_월'] == 5) & (df['충전종료_일'] > 31)].index"
   ]
  },
  {
   "cell_type": "code",
   "execution_count": 682,
   "metadata": {},
   "outputs": [
    {
     "data": {
      "text/plain": [
       "Int64Index([], dtype='int64')"
      ]
     },
     "execution_count": 682,
     "metadata": {},
     "output_type": "execute_result"
    }
   ],
   "source": [
    "df[(df['충전종료_월'] == 6) & (df['충전종료_일'] > 31)].index"
   ]
  },
  {
   "cell_type": "code",
   "execution_count": 683,
   "metadata": {},
   "outputs": [
    {
     "data": {
      "text/plain": [
       "Int64Index([], dtype='int64')"
      ]
     },
     "execution_count": 683,
     "metadata": {},
     "output_type": "execute_result"
    }
   ],
   "source": [
    "df[(df['충전종료_월'] == 7) & (df['충전종료_일'] > 31)].index"
   ]
  },
  {
   "cell_type": "code",
   "execution_count": 684,
   "metadata": {},
   "outputs": [
    {
     "data": {
      "text/plain": [
       "Int64Index([], dtype='int64')"
      ]
     },
     "execution_count": 684,
     "metadata": {},
     "output_type": "execute_result"
    }
   ],
   "source": [
    "df[(df['충전종료_월'] == 8) & (df['충전종료_일'] > 31)].index"
   ]
  },
  {
   "cell_type": "code",
   "execution_count": 685,
   "metadata": {},
   "outputs": [
    {
     "data": {
      "text/plain": [
       "Int64Index([], dtype='int64')"
      ]
     },
     "execution_count": 685,
     "metadata": {},
     "output_type": "execute_result"
    }
   ],
   "source": [
    "df[(df['충전종료_월'] == 9) & (df['충전종료_일'] > 30)].index"
   ]
  },
  {
   "cell_type": "code",
   "execution_count": 686,
   "metadata": {},
   "outputs": [
    {
     "data": {
      "text/plain": [
       "Int64Index([], dtype='int64')"
      ]
     },
     "execution_count": 686,
     "metadata": {},
     "output_type": "execute_result"
    }
   ],
   "source": [
    "df[(df['충전종료_월'] == 10) & (df['충전종료_일'] > 31)].index"
   ]
  },
  {
   "cell_type": "code",
   "execution_count": 687,
   "metadata": {},
   "outputs": [
    {
     "data": {
      "text/plain": [
       "Int64Index([2440150], dtype='int64')"
      ]
     },
     "execution_count": 687,
     "metadata": {},
     "output_type": "execute_result"
    }
   ],
   "source": [
    "df[(df['충전종료_월'] == 11) & (df['충전종료_일'] > 30)].index"
   ]
  },
  {
   "cell_type": "code",
   "execution_count": 688,
   "metadata": {},
   "outputs": [
    {
     "data": {
      "text/plain": [
       "Int64Index([2775050], dtype='int64')"
      ]
     },
     "execution_count": 688,
     "metadata": {},
     "output_type": "execute_result"
    }
   ],
   "source": [
    "df[(df['충전종료_월'] == 12) & (df['충전종료_일'] > 31)].index"
   ]
  },
  {
   "cell_type": "code",
   "execution_count": 689,
   "metadata": {},
   "outputs": [
    {
     "data": {
      "text/plain": [
       "충전종료_년도    2021\n",
       "충전종료_월        2\n",
       "충전종료_일       29\n",
       "Name: 3232880, dtype: object"
      ]
     },
     "execution_count": 689,
     "metadata": {},
     "output_type": "execute_result"
    }
   ],
   "source": [
    "check_col = ['충전종료_년도', '충전종료_월', '충전종료_일']\n",
    "df.loc[3232880, check_col]"
   ]
  },
  {
   "cell_type": "code",
   "execution_count": 690,
   "metadata": {},
   "outputs": [
    {
     "data": {
      "text/plain": [
       "충전종료_년도    2021\n",
       "충전종료_월        3\n",
       "충전종료_일        1\n",
       "Name: 3232880, dtype: object"
      ]
     },
     "execution_count": 690,
     "metadata": {},
     "output_type": "execute_result"
    }
   ],
   "source": [
    "df.loc[3232880, '충전종료_월'] = 3\n",
    "df.loc[3232880, '충전종료_일'] = 1\n",
    "df.loc[3232880, check_col]"
   ]
  },
  {
   "cell_type": "code",
   "execution_count": 691,
   "metadata": {},
   "outputs": [
    {
     "data": {
      "text/plain": [
       "충전종료_년도    2020\n",
       "충전종료_월       11\n",
       "충전종료_일       31\n",
       "Name: 2440150, dtype: object"
      ]
     },
     "execution_count": 691,
     "metadata": {},
     "output_type": "execute_result"
    }
   ],
   "source": [
    "df.loc[2440150, check_col]"
   ]
  },
  {
   "cell_type": "code",
   "execution_count": 692,
   "metadata": {},
   "outputs": [
    {
     "data": {
      "text/plain": [
       "충전종료_년도    2020\n",
       "충전종료_월       12\n",
       "충전종료_일        1\n",
       "Name: 2440150, dtype: object"
      ]
     },
     "execution_count": 692,
     "metadata": {},
     "output_type": "execute_result"
    }
   ],
   "source": [
    "df.loc[2440150, '충전종료_월'] = 12\n",
    "df.loc[2440150, '충전종료_일'] = 1\n",
    "df.loc[2440150, check_col]"
   ]
  },
  {
   "cell_type": "code",
   "execution_count": 693,
   "metadata": {},
   "outputs": [
    {
     "data": {
      "text/plain": [
       "충전종료_년도    2020\n",
       "충전종료_월       12\n",
       "충전종료_일       32\n",
       "Name: 2775050, dtype: object"
      ]
     },
     "execution_count": 693,
     "metadata": {},
     "output_type": "execute_result"
    }
   ],
   "source": [
    "df.loc[2775050, check_col]"
   ]
  },
  {
   "cell_type": "code",
   "execution_count": 694,
   "metadata": {},
   "outputs": [
    {
     "data": {
      "text/plain": [
       "충전종료_년도    2021\n",
       "충전종료_월        1\n",
       "충전종료_일        1\n",
       "Name: 2775050, dtype: object"
      ]
     },
     "execution_count": 694,
     "metadata": {},
     "output_type": "execute_result"
    }
   ],
   "source": [
    "df.loc[2775050, '충전종료_년도'] = 2021\n",
    "df.loc[2775050, '충전종료_월'] = 1\n",
    "df.loc[2775050, '충전종료_일'] = 1\n",
    "df.loc[2775050, check_col]"
   ]
  },
  {
   "cell_type": "markdown",
   "metadata": {},
   "source": [
    "#### 충전종료시간(변환)"
   ]
  },
  {
   "cell_type": "code",
   "execution_count": 695,
   "metadata": {},
   "outputs": [
    {
     "data": {
      "text/html": [
       "<div>\n",
       "<style scoped>\n",
       "    .dataframe tbody tr th:only-of-type {\n",
       "        vertical-align: middle;\n",
       "    }\n",
       "\n",
       "    .dataframe tbody tr th {\n",
       "        vertical-align: top;\n",
       "    }\n",
       "\n",
       "    .dataframe thead th {\n",
       "        text-align: right;\n",
       "    }\n",
       "</style>\n",
       "<table border=\"1\" class=\"dataframe\">\n",
       "  <thead>\n",
       "    <tr style=\"text-align: right;\">\n",
       "      <th></th>\n",
       "      <th>충전소명</th>\n",
       "      <th>충전기ID</th>\n",
       "      <th>지역</th>\n",
       "      <th>시군구</th>\n",
       "      <th>주소</th>\n",
       "      <th>충전기용량(kW)</th>\n",
       "      <th>충전기타입</th>\n",
       "      <th>충전시작일시</th>\n",
       "      <th>충전종료일시</th>\n",
       "      <th>충전시간</th>\n",
       "      <th>...</th>\n",
       "      <th>충전시작_분</th>\n",
       "      <th>충전시작_초</th>\n",
       "      <th>충전시작일시(변환)</th>\n",
       "      <th>충전종료_년도</th>\n",
       "      <th>충전종료_월</th>\n",
       "      <th>충전종료_일</th>\n",
       "      <th>충전종료_시</th>\n",
       "      <th>충전종료_분</th>\n",
       "      <th>충전종료_초</th>\n",
       "      <th>충전종료일시(변환)</th>\n",
       "    </tr>\n",
       "  </thead>\n",
       "  <tbody>\n",
       "    <tr>\n",
       "      <th>0</th>\n",
       "      <td>내린천휴게소 양양방향</td>\n",
       "      <td>1</td>\n",
       "      <td>강원도</td>\n",
       "      <td>인제군</td>\n",
       "      <td>강원도 인제군 상남면 하남리 339-7(양양방향)</td>\n",
       "      <td>50.0</td>\n",
       "      <td>DC차데모+AC3상+DC콤보</td>\n",
       "      <td>20200117193331</td>\n",
       "      <td>20200117201417</td>\n",
       "      <td>00:40:00</td>\n",
       "      <td>...</td>\n",
       "      <td>33</td>\n",
       "      <td>31</td>\n",
       "      <td>2020-01-17 19:33:31</td>\n",
       "      <td>2020</td>\n",
       "      <td>1</td>\n",
       "      <td>17</td>\n",
       "      <td>20</td>\n",
       "      <td>14</td>\n",
       "      <td>17</td>\n",
       "      <td>2020-1-17 20:14:17</td>\n",
       "    </tr>\n",
       "    <tr>\n",
       "      <th>1</th>\n",
       "      <td>내린천휴게소 양양방향</td>\n",
       "      <td>1</td>\n",
       "      <td>강원도</td>\n",
       "      <td>인제군</td>\n",
       "      <td>강원도 인제군 상남면 하남리 339-7(양양방향)</td>\n",
       "      <td>50.0</td>\n",
       "      <td>DC차데모+AC3상+DC콤보</td>\n",
       "      <td>20200130143545</td>\n",
       "      <td>20200130150645</td>\n",
       "      <td>00:30:31</td>\n",
       "      <td>...</td>\n",
       "      <td>35</td>\n",
       "      <td>45</td>\n",
       "      <td>2020-01-30 14:35:45</td>\n",
       "      <td>2020</td>\n",
       "      <td>1</td>\n",
       "      <td>30</td>\n",
       "      <td>15</td>\n",
       "      <td>6</td>\n",
       "      <td>45</td>\n",
       "      <td>2020-1-30 15:6:45</td>\n",
       "    </tr>\n",
       "    <tr>\n",
       "      <th>2</th>\n",
       "      <td>내린천휴게소 양양방향</td>\n",
       "      <td>1</td>\n",
       "      <td>강원도</td>\n",
       "      <td>인제군</td>\n",
       "      <td>강원도 인제군 상남면 하남리 339-7(양양방향)</td>\n",
       "      <td>50.0</td>\n",
       "      <td>DC차데모+AC3상+DC콤보</td>\n",
       "      <td>20200105005728</td>\n",
       "      <td>20200105011329</td>\n",
       "      <td>00:15:35</td>\n",
       "      <td>...</td>\n",
       "      <td>57</td>\n",
       "      <td>28</td>\n",
       "      <td>2020-01-05 00:57:28</td>\n",
       "      <td>2020</td>\n",
       "      <td>1</td>\n",
       "      <td>5</td>\n",
       "      <td>1</td>\n",
       "      <td>13</td>\n",
       "      <td>29</td>\n",
       "      <td>2020-1-5 1:13:29</td>\n",
       "    </tr>\n",
       "    <tr>\n",
       "      <th>3</th>\n",
       "      <td>내린천휴게소 양양방향</td>\n",
       "      <td>3</td>\n",
       "      <td>강원도</td>\n",
       "      <td>인제군</td>\n",
       "      <td>강원도 인제군 상남면 하남리 339-7(양양방향)</td>\n",
       "      <td>100.0</td>\n",
       "      <td>DC콤보</td>\n",
       "      <td>20200120120215</td>\n",
       "      <td>20200120124708</td>\n",
       "      <td>00:41:00</td>\n",
       "      <td>...</td>\n",
       "      <td>2</td>\n",
       "      <td>15</td>\n",
       "      <td>2020-01-20 12:02:15</td>\n",
       "      <td>2020</td>\n",
       "      <td>1</td>\n",
       "      <td>20</td>\n",
       "      <td>12</td>\n",
       "      <td>47</td>\n",
       "      <td>8</td>\n",
       "      <td>2020-1-20 12:47:8</td>\n",
       "    </tr>\n",
       "    <tr>\n",
       "      <th>4</th>\n",
       "      <td>한국광기술원</td>\n",
       "      <td>1</td>\n",
       "      <td>광주광역시</td>\n",
       "      <td>북구</td>\n",
       "      <td>광주광역시 북구 첨단 벤처로 108번길 9</td>\n",
       "      <td>50.0</td>\n",
       "      <td>DC차데모+AC3상+DC콤보</td>\n",
       "      <td>20200123085417</td>\n",
       "      <td>20200123092554</td>\n",
       "      <td>00:31:14</td>\n",
       "      <td>...</td>\n",
       "      <td>54</td>\n",
       "      <td>17</td>\n",
       "      <td>2020-01-23 08:54:17</td>\n",
       "      <td>2020</td>\n",
       "      <td>1</td>\n",
       "      <td>23</td>\n",
       "      <td>9</td>\n",
       "      <td>25</td>\n",
       "      <td>54</td>\n",
       "      <td>2020-1-23 9:25:54</td>\n",
       "    </tr>\n",
       "  </tbody>\n",
       "</table>\n",
       "<p>5 rows × 26 columns</p>\n",
       "</div>"
      ],
      "text/plain": [
       "          충전소명  충전기ID     지역  시군구                           주소  충전기용량(kW)  \\\n",
       "0  내린천휴게소 양양방향      1    강원도  인제군  강원도 인제군 상남면 하남리 339-7(양양방향)       50.0   \n",
       "1  내린천휴게소 양양방향      1    강원도  인제군  강원도 인제군 상남면 하남리 339-7(양양방향)       50.0   \n",
       "2  내린천휴게소 양양방향      1    강원도  인제군  강원도 인제군 상남면 하남리 339-7(양양방향)       50.0   \n",
       "3  내린천휴게소 양양방향      3    강원도  인제군  강원도 인제군 상남면 하남리 339-7(양양방향)      100.0   \n",
       "4       한국광기술원      1  광주광역시   북구      광주광역시 북구 첨단 벤처로 108번길 9       50.0   \n",
       "\n",
       "             충전기타입          충전시작일시          충전종료일시      충전시간  ...  충전시작_분  \\\n",
       "0  DC차데모+AC3상+DC콤보  20200117193331  20200117201417  00:40:00  ...      33   \n",
       "1  DC차데모+AC3상+DC콤보  20200130143545  20200130150645  00:30:31  ...      35   \n",
       "2  DC차데모+AC3상+DC콤보  20200105005728  20200105011329  00:15:35  ...      57   \n",
       "3             DC콤보  20200120120215  20200120124708  00:41:00  ...       2   \n",
       "4  DC차데모+AC3상+DC콤보  20200123085417  20200123092554  00:31:14  ...      54   \n",
       "\n",
       "  충전시작_초          충전시작일시(변환)  충전종료_년도  충전종료_월  충전종료_일  충전종료_시  충전종료_분 충전종료_초  \\\n",
       "0     31 2020-01-17 19:33:31     2020       1      17      20      14     17   \n",
       "1     45 2020-01-30 14:35:45     2020       1      30      15       6     45   \n",
       "2     28 2020-01-05 00:57:28     2020       1       5       1      13     29   \n",
       "3     15 2020-01-20 12:02:15     2020       1      20      12      47      8   \n",
       "4     17 2020-01-23 08:54:17     2020       1      23       9      25     54   \n",
       "\n",
       "           충전종료일시(변환)  \n",
       "0  2020-1-17 20:14:17  \n",
       "1   2020-1-30 15:6:45  \n",
       "2    2020-1-5 1:13:29  \n",
       "3   2020-1-20 12:47:8  \n",
       "4   2020-1-23 9:25:54  \n",
       "\n",
       "[5 rows x 26 columns]"
      ]
     },
     "execution_count": 695,
     "metadata": {},
     "output_type": "execute_result"
    }
   ],
   "source": [
    "df['충전종료일시(변환)'] = df['충전종료_년도'].astype(str) + '-' +  df['충전종료_월'].astype(str) + '-' + df['충전종료_일'].astype(str) + ' ' + df['충전종료_시'].astype(str) + ':' + df['충전종료_분'].astype(str) + ':' + df['충전종료_초'].astype(str)\n",
    "df.head()"
   ]
  },
  {
   "cell_type": "code",
   "execution_count": 696,
   "metadata": {},
   "outputs": [],
   "source": [
    "df['충전종료일시(변환)'] = pd.to_datetime(df['충전종료일시(변환)'])"
   ]
  },
  {
   "cell_type": "code",
   "execution_count": 697,
   "metadata": {},
   "outputs": [
    {
     "data": {
      "text/html": [
       "<div>\n",
       "<style scoped>\n",
       "    .dataframe tbody tr th:only-of-type {\n",
       "        vertical-align: middle;\n",
       "    }\n",
       "\n",
       "    .dataframe tbody tr th {\n",
       "        vertical-align: top;\n",
       "    }\n",
       "\n",
       "    .dataframe thead th {\n",
       "        text-align: right;\n",
       "    }\n",
       "</style>\n",
       "<table border=\"1\" class=\"dataframe\">\n",
       "  <thead>\n",
       "    <tr style=\"text-align: right;\">\n",
       "      <th></th>\n",
       "      <th>충전소명</th>\n",
       "      <th>충전기ID</th>\n",
       "      <th>지역</th>\n",
       "      <th>시군구</th>\n",
       "      <th>주소</th>\n",
       "      <th>충전기용량(kW)</th>\n",
       "      <th>충전기타입</th>\n",
       "      <th>충전시작일시</th>\n",
       "      <th>충전종료일시</th>\n",
       "      <th>충전시간</th>\n",
       "      <th>...</th>\n",
       "      <th>충전시작_초</th>\n",
       "      <th>충전시작일시(변환)</th>\n",
       "      <th>충전종료_년도</th>\n",
       "      <th>충전종료_월</th>\n",
       "      <th>충전종료_일</th>\n",
       "      <th>충전종료_시</th>\n",
       "      <th>충전종료_분</th>\n",
       "      <th>충전종료_초</th>\n",
       "      <th>충전종료일시(변환)</th>\n",
       "      <th>충전시간(계산)</th>\n",
       "    </tr>\n",
       "  </thead>\n",
       "  <tbody>\n",
       "    <tr>\n",
       "      <th>0</th>\n",
       "      <td>내린천휴게소 양양방향</td>\n",
       "      <td>1</td>\n",
       "      <td>강원도</td>\n",
       "      <td>인제군</td>\n",
       "      <td>강원도 인제군 상남면 하남리 339-7(양양방향)</td>\n",
       "      <td>50.0</td>\n",
       "      <td>DC차데모+AC3상+DC콤보</td>\n",
       "      <td>20200117193331</td>\n",
       "      <td>20200117201417</td>\n",
       "      <td>00:40:00</td>\n",
       "      <td>...</td>\n",
       "      <td>31</td>\n",
       "      <td>2020-01-17 19:33:31</td>\n",
       "      <td>2020</td>\n",
       "      <td>1</td>\n",
       "      <td>17</td>\n",
       "      <td>20</td>\n",
       "      <td>14</td>\n",
       "      <td>17</td>\n",
       "      <td>2020-01-17 20:14:17</td>\n",
       "      <td>0 days 00:40:46</td>\n",
       "    </tr>\n",
       "    <tr>\n",
       "      <th>1</th>\n",
       "      <td>내린천휴게소 양양방향</td>\n",
       "      <td>1</td>\n",
       "      <td>강원도</td>\n",
       "      <td>인제군</td>\n",
       "      <td>강원도 인제군 상남면 하남리 339-7(양양방향)</td>\n",
       "      <td>50.0</td>\n",
       "      <td>DC차데모+AC3상+DC콤보</td>\n",
       "      <td>20200130143545</td>\n",
       "      <td>20200130150645</td>\n",
       "      <td>00:30:31</td>\n",
       "      <td>...</td>\n",
       "      <td>45</td>\n",
       "      <td>2020-01-30 14:35:45</td>\n",
       "      <td>2020</td>\n",
       "      <td>1</td>\n",
       "      <td>30</td>\n",
       "      <td>15</td>\n",
       "      <td>6</td>\n",
       "      <td>45</td>\n",
       "      <td>2020-01-30 15:06:45</td>\n",
       "      <td>0 days 00:31:00</td>\n",
       "    </tr>\n",
       "    <tr>\n",
       "      <th>2</th>\n",
       "      <td>내린천휴게소 양양방향</td>\n",
       "      <td>1</td>\n",
       "      <td>강원도</td>\n",
       "      <td>인제군</td>\n",
       "      <td>강원도 인제군 상남면 하남리 339-7(양양방향)</td>\n",
       "      <td>50.0</td>\n",
       "      <td>DC차데모+AC3상+DC콤보</td>\n",
       "      <td>20200105005728</td>\n",
       "      <td>20200105011329</td>\n",
       "      <td>00:15:35</td>\n",
       "      <td>...</td>\n",
       "      <td>28</td>\n",
       "      <td>2020-01-05 00:57:28</td>\n",
       "      <td>2020</td>\n",
       "      <td>1</td>\n",
       "      <td>5</td>\n",
       "      <td>1</td>\n",
       "      <td>13</td>\n",
       "      <td>29</td>\n",
       "      <td>2020-01-05 01:13:29</td>\n",
       "      <td>0 days 00:16:01</td>\n",
       "    </tr>\n",
       "    <tr>\n",
       "      <th>3</th>\n",
       "      <td>내린천휴게소 양양방향</td>\n",
       "      <td>3</td>\n",
       "      <td>강원도</td>\n",
       "      <td>인제군</td>\n",
       "      <td>강원도 인제군 상남면 하남리 339-7(양양방향)</td>\n",
       "      <td>100.0</td>\n",
       "      <td>DC콤보</td>\n",
       "      <td>20200120120215</td>\n",
       "      <td>20200120124708</td>\n",
       "      <td>00:41:00</td>\n",
       "      <td>...</td>\n",
       "      <td>15</td>\n",
       "      <td>2020-01-20 12:02:15</td>\n",
       "      <td>2020</td>\n",
       "      <td>1</td>\n",
       "      <td>20</td>\n",
       "      <td>12</td>\n",
       "      <td>47</td>\n",
       "      <td>8</td>\n",
       "      <td>2020-01-20 12:47:08</td>\n",
       "      <td>0 days 00:44:53</td>\n",
       "    </tr>\n",
       "    <tr>\n",
       "      <th>4</th>\n",
       "      <td>한국광기술원</td>\n",
       "      <td>1</td>\n",
       "      <td>광주광역시</td>\n",
       "      <td>북구</td>\n",
       "      <td>광주광역시 북구 첨단 벤처로 108번길 9</td>\n",
       "      <td>50.0</td>\n",
       "      <td>DC차데모+AC3상+DC콤보</td>\n",
       "      <td>20200123085417</td>\n",
       "      <td>20200123092554</td>\n",
       "      <td>00:31:14</td>\n",
       "      <td>...</td>\n",
       "      <td>17</td>\n",
       "      <td>2020-01-23 08:54:17</td>\n",
       "      <td>2020</td>\n",
       "      <td>1</td>\n",
       "      <td>23</td>\n",
       "      <td>9</td>\n",
       "      <td>25</td>\n",
       "      <td>54</td>\n",
       "      <td>2020-01-23 09:25:54</td>\n",
       "      <td>0 days 00:31:37</td>\n",
       "    </tr>\n",
       "  </tbody>\n",
       "</table>\n",
       "<p>5 rows × 27 columns</p>\n",
       "</div>"
      ],
      "text/plain": [
       "          충전소명  충전기ID     지역  시군구                           주소  충전기용량(kW)  \\\n",
       "0  내린천휴게소 양양방향      1    강원도  인제군  강원도 인제군 상남면 하남리 339-7(양양방향)       50.0   \n",
       "1  내린천휴게소 양양방향      1    강원도  인제군  강원도 인제군 상남면 하남리 339-7(양양방향)       50.0   \n",
       "2  내린천휴게소 양양방향      1    강원도  인제군  강원도 인제군 상남면 하남리 339-7(양양방향)       50.0   \n",
       "3  내린천휴게소 양양방향      3    강원도  인제군  강원도 인제군 상남면 하남리 339-7(양양방향)      100.0   \n",
       "4       한국광기술원      1  광주광역시   북구      광주광역시 북구 첨단 벤처로 108번길 9       50.0   \n",
       "\n",
       "             충전기타입          충전시작일시          충전종료일시      충전시간  ...  충전시작_초  \\\n",
       "0  DC차데모+AC3상+DC콤보  20200117193331  20200117201417  00:40:00  ...      31   \n",
       "1  DC차데모+AC3상+DC콤보  20200130143545  20200130150645  00:30:31  ...      45   \n",
       "2  DC차데모+AC3상+DC콤보  20200105005728  20200105011329  00:15:35  ...      28   \n",
       "3             DC콤보  20200120120215  20200120124708  00:41:00  ...      15   \n",
       "4  DC차데모+AC3상+DC콤보  20200123085417  20200123092554  00:31:14  ...      17   \n",
       "\n",
       "           충전시작일시(변환)  충전종료_년도  충전종료_월  충전종료_일  충전종료_시  충전종료_분  충전종료_초  \\\n",
       "0 2020-01-17 19:33:31     2020       1      17      20      14      17   \n",
       "1 2020-01-30 14:35:45     2020       1      30      15       6      45   \n",
       "2 2020-01-05 00:57:28     2020       1       5       1      13      29   \n",
       "3 2020-01-20 12:02:15     2020       1      20      12      47       8   \n",
       "4 2020-01-23 08:54:17     2020       1      23       9      25      54   \n",
       "\n",
       "           충전종료일시(변환)        충전시간(계산)  \n",
       "0 2020-01-17 20:14:17 0 days 00:40:46  \n",
       "1 2020-01-30 15:06:45 0 days 00:31:00  \n",
       "2 2020-01-05 01:13:29 0 days 00:16:01  \n",
       "3 2020-01-20 12:47:08 0 days 00:44:53  \n",
       "4 2020-01-23 09:25:54 0 days 00:31:37  \n",
       "\n",
       "[5 rows x 27 columns]"
      ]
     },
     "execution_count": 697,
     "metadata": {},
     "output_type": "execute_result"
    }
   ],
   "source": [
    "df['충전시간(계산)'] = df['충전종료일시(변환)'] - df['충전시작일시(변환)']\n",
    "df.head()"
   ]
  },
  {
   "cell_type": "markdown",
   "metadata": {},
   "source": [
    "### 충전기용량과 충전용량 합치기"
   ]
  },
  {
   "cell_type": "code",
   "execution_count": 698,
   "metadata": {},
   "outputs": [
    {
     "data": {
      "text/html": [
       "<div>\n",
       "<style scoped>\n",
       "    .dataframe tbody tr th:only-of-type {\n",
       "        vertical-align: middle;\n",
       "    }\n",
       "\n",
       "    .dataframe tbody tr th {\n",
       "        vertical-align: top;\n",
       "    }\n",
       "\n",
       "    .dataframe thead th {\n",
       "        text-align: right;\n",
       "    }\n",
       "</style>\n",
       "<table border=\"1\" class=\"dataframe\">\n",
       "  <thead>\n",
       "    <tr style=\"text-align: right;\">\n",
       "      <th></th>\n",
       "      <th>충전소명</th>\n",
       "      <th>충전기ID</th>\n",
       "      <th>지역</th>\n",
       "      <th>시군구</th>\n",
       "      <th>주소</th>\n",
       "      <th>충전기용량(kW)</th>\n",
       "      <th>충전기타입</th>\n",
       "      <th>충전시작일시</th>\n",
       "      <th>충전종료일시</th>\n",
       "      <th>충전시간</th>\n",
       "      <th>...</th>\n",
       "      <th>충전시작_초</th>\n",
       "      <th>충전시작일시(변환)</th>\n",
       "      <th>충전종료_년도</th>\n",
       "      <th>충전종료_월</th>\n",
       "      <th>충전종료_일</th>\n",
       "      <th>충전종료_시</th>\n",
       "      <th>충전종료_분</th>\n",
       "      <th>충전종료_초</th>\n",
       "      <th>충전종료일시(변환)</th>\n",
       "      <th>충전시간(계산)</th>\n",
       "    </tr>\n",
       "  </thead>\n",
       "  <tbody>\n",
       "    <tr>\n",
       "      <th>2796609</th>\n",
       "      <td>탄천제2호 공영주차장</td>\n",
       "      <td>1</td>\n",
       "      <td>서울특별시</td>\n",
       "      <td>강남구</td>\n",
       "      <td>서울특별시 강남구 일원동 4-49 , 주차장 입구 오른쪽</td>\n",
       "      <td>50.0</td>\n",
       "      <td>DC차데모+AC3상+DC콤보</td>\n",
       "      <td>20201219120138</td>\n",
       "      <td>20201219124144</td>\n",
       "      <td>00:40:00</td>\n",
       "      <td>...</td>\n",
       "      <td>38</td>\n",
       "      <td>2020-12-19 12:01:38</td>\n",
       "      <td>2020</td>\n",
       "      <td>12</td>\n",
       "      <td>19</td>\n",
       "      <td>12</td>\n",
       "      <td>41</td>\n",
       "      <td>44</td>\n",
       "      <td>2020-12-19 12:41:44</td>\n",
       "      <td>0 days 00:40:06</td>\n",
       "    </tr>\n",
       "    <tr>\n",
       "      <th>2796610</th>\n",
       "      <td>온천장역 공영주차장</td>\n",
       "      <td>1</td>\n",
       "      <td>부산광역시</td>\n",
       "      <td>동래구</td>\n",
       "      <td>부산광역시 동래구 중앙대로 1495-10 공영주차장</td>\n",
       "      <td>50.0</td>\n",
       "      <td>DC차데모+AC3상+DC콤보</td>\n",
       "      <td>20201219120210</td>\n",
       "      <td>20201219124217</td>\n",
       "      <td>00:40:00</td>\n",
       "      <td>...</td>\n",
       "      <td>10</td>\n",
       "      <td>2020-12-19 12:02:10</td>\n",
       "      <td>2020</td>\n",
       "      <td>12</td>\n",
       "      <td>19</td>\n",
       "      <td>12</td>\n",
       "      <td>42</td>\n",
       "      <td>17</td>\n",
       "      <td>2020-12-19 12:42:17</td>\n",
       "      <td>0 days 00:40:07</td>\n",
       "    </tr>\n",
       "    <tr>\n",
       "      <th>2796611</th>\n",
       "      <td>화서휴게소(상주방향)</td>\n",
       "      <td>1</td>\n",
       "      <td>경상북도</td>\n",
       "      <td>상주시</td>\n",
       "      <td>경상북도 상주시 화서면 터골길 51-25</td>\n",
       "      <td>50.0</td>\n",
       "      <td>DC차데모+AC3상+DC콤보</td>\n",
       "      <td>20201219120513</td>\n",
       "      <td>20201219124254</td>\n",
       "      <td>00:37:28</td>\n",
       "      <td>...</td>\n",
       "      <td>13</td>\n",
       "      <td>2020-12-19 12:05:13</td>\n",
       "      <td>2020</td>\n",
       "      <td>12</td>\n",
       "      <td>19</td>\n",
       "      <td>12</td>\n",
       "      <td>42</td>\n",
       "      <td>54</td>\n",
       "      <td>2020-12-19 12:42:54</td>\n",
       "      <td>0 days 00:37:41</td>\n",
       "    </tr>\n",
       "    <tr>\n",
       "      <th>2796612</th>\n",
       "      <td>삼양동주민센터</td>\n",
       "      <td>1</td>\n",
       "      <td>제주특별자치도</td>\n",
       "      <td>제주시</td>\n",
       "      <td>제주특별자치도 제주시 지석13길 6 , 주차장</td>\n",
       "      <td>50.0</td>\n",
       "      <td>DC차데모+AC3상+DC콤보</td>\n",
       "      <td>20201219121419</td>\n",
       "      <td>20201219124313</td>\n",
       "      <td>00:28:47</td>\n",
       "      <td>...</td>\n",
       "      <td>19</td>\n",
       "      <td>2020-12-19 12:14:19</td>\n",
       "      <td>2020</td>\n",
       "      <td>12</td>\n",
       "      <td>19</td>\n",
       "      <td>12</td>\n",
       "      <td>43</td>\n",
       "      <td>13</td>\n",
       "      <td>2020-12-19 12:43:13</td>\n",
       "      <td>0 days 00:28:54</td>\n",
       "    </tr>\n",
       "    <tr>\n",
       "      <th>2796613</th>\n",
       "      <td>거창휴게소(옥포방향)</td>\n",
       "      <td>1</td>\n",
       "      <td>경상남도</td>\n",
       "      <td>거창군</td>\n",
       "      <td>경상남도 거창군 가조면 도리</td>\n",
       "      <td>50.0</td>\n",
       "      <td>DC차데모+AC3상+DC콤보</td>\n",
       "      <td>20201219120725</td>\n",
       "      <td>20201219124405</td>\n",
       "      <td>00:36:34</td>\n",
       "      <td>...</td>\n",
       "      <td>25</td>\n",
       "      <td>2020-12-19 12:07:25</td>\n",
       "      <td>2020</td>\n",
       "      <td>12</td>\n",
       "      <td>19</td>\n",
       "      <td>12</td>\n",
       "      <td>44</td>\n",
       "      <td>5</td>\n",
       "      <td>2020-12-19 12:44:05</td>\n",
       "      <td>0 days 00:36:40</td>\n",
       "    </tr>\n",
       "  </tbody>\n",
       "</table>\n",
       "<p>5 rows × 27 columns</p>\n",
       "</div>"
      ],
      "text/plain": [
       "                충전소명  충전기ID       지역  시군구                               주소  \\\n",
       "2796609  탄천제2호 공영주차장      1    서울특별시  강남구  서울특별시 강남구 일원동 4-49 , 주차장 입구 오른쪽   \n",
       "2796610   온천장역 공영주차장      1    부산광역시  동래구     부산광역시 동래구 중앙대로 1495-10 공영주차장   \n",
       "2796611  화서휴게소(상주방향)      1     경상북도  상주시           경상북도 상주시 화서면 터골길 51-25   \n",
       "2796612      삼양동주민센터      1  제주특별자치도  제주시        제주특별자치도 제주시 지석13길 6 , 주차장   \n",
       "2796613  거창휴게소(옥포방향)      1     경상남도  거창군                  경상남도 거창군 가조면 도리   \n",
       "\n",
       "         충전기용량(kW)            충전기타입          충전시작일시          충전종료일시      충전시간  \\\n",
       "2796609       50.0  DC차데모+AC3상+DC콤보  20201219120138  20201219124144  00:40:00   \n",
       "2796610       50.0  DC차데모+AC3상+DC콤보  20201219120210  20201219124217  00:40:00   \n",
       "2796611       50.0  DC차데모+AC3상+DC콤보  20201219120513  20201219124254  00:37:28   \n",
       "2796612       50.0  DC차데모+AC3상+DC콤보  20201219121419  20201219124313  00:28:47   \n",
       "2796613       50.0  DC차데모+AC3상+DC콤보  20201219120725  20201219124405  00:36:34   \n",
       "\n",
       "         ...  충전시작_초          충전시작일시(변환)  충전종료_년도  충전종료_월  충전종료_일  충전종료_시  \\\n",
       "2796609  ...      38 2020-12-19 12:01:38     2020      12      19      12   \n",
       "2796610  ...      10 2020-12-19 12:02:10     2020      12      19      12   \n",
       "2796611  ...      13 2020-12-19 12:05:13     2020      12      19      12   \n",
       "2796612  ...      19 2020-12-19 12:14:19     2020      12      19      12   \n",
       "2796613  ...      25 2020-12-19 12:07:25     2020      12      19      12   \n",
       "\n",
       "         충전종료_분  충전종료_초          충전종료일시(변환)        충전시간(계산)  \n",
       "2796609      41      44 2020-12-19 12:41:44 0 days 00:40:06  \n",
       "2796610      42      17 2020-12-19 12:42:17 0 days 00:40:07  \n",
       "2796611      42      54 2020-12-19 12:42:54 0 days 00:37:41  \n",
       "2796612      43      13 2020-12-19 12:43:13 0 days 00:28:54  \n",
       "2796613      44       5 2020-12-19 12:44:05 0 days 00:36:40  \n",
       "\n",
       "[5 rows x 27 columns]"
      ]
     },
     "execution_count": 698,
     "metadata": {},
     "output_type": "execute_result"
    }
   ],
   "source": [
    "df[df['충전시작_년도'] == 2020].tail()"
   ]
  },
  {
   "cell_type": "code",
   "execution_count": 699,
   "metadata": {},
   "outputs": [
    {
     "data": {
      "text/html": [
       "<div>\n",
       "<style scoped>\n",
       "    .dataframe tbody tr th:only-of-type {\n",
       "        vertical-align: middle;\n",
       "    }\n",
       "\n",
       "    .dataframe tbody tr th {\n",
       "        vertical-align: top;\n",
       "    }\n",
       "\n",
       "    .dataframe thead th {\n",
       "        text-align: right;\n",
       "    }\n",
       "</style>\n",
       "<table border=\"1\" class=\"dataframe\">\n",
       "  <thead>\n",
       "    <tr style=\"text-align: right;\">\n",
       "      <th></th>\n",
       "      <th>충전소명</th>\n",
       "      <th>충전기ID</th>\n",
       "      <th>지역</th>\n",
       "      <th>시군구</th>\n",
       "      <th>주소</th>\n",
       "      <th>충전기용량(kW)</th>\n",
       "      <th>충전기타입</th>\n",
       "      <th>충전시작일시</th>\n",
       "      <th>충전종료일시</th>\n",
       "      <th>충전시간</th>\n",
       "      <th>...</th>\n",
       "      <th>충전시작_초</th>\n",
       "      <th>충전시작일시(변환)</th>\n",
       "      <th>충전종료_년도</th>\n",
       "      <th>충전종료_월</th>\n",
       "      <th>충전종료_일</th>\n",
       "      <th>충전종료_시</th>\n",
       "      <th>충전종료_분</th>\n",
       "      <th>충전종료_초</th>\n",
       "      <th>충전종료일시(변환)</th>\n",
       "      <th>충전시간(계산)</th>\n",
       "    </tr>\n",
       "  </thead>\n",
       "  <tbody>\n",
       "    <tr>\n",
       "      <th>2796614</th>\n",
       "      <td>군위휴게소(부산방향)</td>\n",
       "      <td>1</td>\n",
       "      <td>경상북도</td>\n",
       "      <td>군위군</td>\n",
       "      <td>경상북도 군위군 군위읍 경북대로 4084 (오곡리)</td>\n",
       "      <td>NaN</td>\n",
       "      <td>DC차데모+AC3상+DC콤보</td>\n",
       "      <td>20210101092250</td>\n",
       "      <td>20210101095816</td>\n",
       "      <td>00:29:24</td>\n",
       "      <td>...</td>\n",
       "      <td>50</td>\n",
       "      <td>2021-01-01 09:22:50</td>\n",
       "      <td>2021</td>\n",
       "      <td>1</td>\n",
       "      <td>1</td>\n",
       "      <td>9</td>\n",
       "      <td>58</td>\n",
       "      <td>16</td>\n",
       "      <td>2021-01-01 09:58:16</td>\n",
       "      <td>0 days 00:35:26</td>\n",
       "    </tr>\n",
       "    <tr>\n",
       "      <th>2796615</th>\n",
       "      <td>충주휴게소(마산방향)</td>\n",
       "      <td>1</td>\n",
       "      <td>충청북도</td>\n",
       "      <td>충주시</td>\n",
       "      <td>충청북도 충주시 중앙탑면 중부내륙고속도로 231 (용전리)</td>\n",
       "      <td>NaN</td>\n",
       "      <td>DC차데모+AC3상+DC콤보</td>\n",
       "      <td>20210101095126</td>\n",
       "      <td>20210101095818</td>\n",
       "      <td>00:06:48</td>\n",
       "      <td>...</td>\n",
       "      <td>26</td>\n",
       "      <td>2021-01-01 09:51:26</td>\n",
       "      <td>2021</td>\n",
       "      <td>1</td>\n",
       "      <td>1</td>\n",
       "      <td>9</td>\n",
       "      <td>58</td>\n",
       "      <td>18</td>\n",
       "      <td>2021-01-01 09:58:18</td>\n",
       "      <td>0 days 00:06:52</td>\n",
       "    </tr>\n",
       "    <tr>\n",
       "      <th>2796616</th>\n",
       "      <td>내서읍스포츠센터</td>\n",
       "      <td>1</td>\n",
       "      <td>경상남도</td>\n",
       "      <td>창원시</td>\n",
       "      <td>경상남도 창원시 마산회원구 내서읍 중리 391-3</td>\n",
       "      <td>NaN</td>\n",
       "      <td>DC콤보</td>\n",
       "      <td>20210101094752</td>\n",
       "      <td>20210101095819</td>\n",
       "      <td>00:10:27</td>\n",
       "      <td>...</td>\n",
       "      <td>52</td>\n",
       "      <td>2021-01-01 09:47:52</td>\n",
       "      <td>2021</td>\n",
       "      <td>1</td>\n",
       "      <td>1</td>\n",
       "      <td>9</td>\n",
       "      <td>58</td>\n",
       "      <td>19</td>\n",
       "      <td>2021-01-01 09:58:19</td>\n",
       "      <td>0 days 00:10:27</td>\n",
       "    </tr>\n",
       "    <tr>\n",
       "      <th>2796617</th>\n",
       "      <td>삼성혈 인근 공영주차장</td>\n",
       "      <td>1</td>\n",
       "      <td>제주특별자치도</td>\n",
       "      <td>제주시</td>\n",
       "      <td>제주특별자치도 제주시 이도1동 1293-1</td>\n",
       "      <td>NaN</td>\n",
       "      <td>DC차데모+AC3상+DC콤보</td>\n",
       "      <td>20210101091323</td>\n",
       "      <td>20210101095819</td>\n",
       "      <td>00:40:00</td>\n",
       "      <td>...</td>\n",
       "      <td>23</td>\n",
       "      <td>2021-01-01 09:13:23</td>\n",
       "      <td>2021</td>\n",
       "      <td>1</td>\n",
       "      <td>1</td>\n",
       "      <td>9</td>\n",
       "      <td>58</td>\n",
       "      <td>19</td>\n",
       "      <td>2021-01-01 09:58:19</td>\n",
       "      <td>0 days 00:44:56</td>\n",
       "    </tr>\n",
       "    <tr>\n",
       "      <th>2796618</th>\n",
       "      <td>본오1동행정복지센터</td>\n",
       "      <td>1</td>\n",
       "      <td>경기도</td>\n",
       "      <td>안산시</td>\n",
       "      <td>경기도 안산시 상록구 샘골로 16</td>\n",
       "      <td>NaN</td>\n",
       "      <td>DC콤보</td>\n",
       "      <td>20210101091559</td>\n",
       "      <td>20210101095835</td>\n",
       "      <td>00:40:00</td>\n",
       "      <td>...</td>\n",
       "      <td>59</td>\n",
       "      <td>2021-01-01 09:15:59</td>\n",
       "      <td>2021</td>\n",
       "      <td>1</td>\n",
       "      <td>1</td>\n",
       "      <td>9</td>\n",
       "      <td>58</td>\n",
       "      <td>35</td>\n",
       "      <td>2021-01-01 09:58:35</td>\n",
       "      <td>0 days 00:42:36</td>\n",
       "    </tr>\n",
       "  </tbody>\n",
       "</table>\n",
       "<p>5 rows × 27 columns</p>\n",
       "</div>"
      ],
      "text/plain": [
       "                 충전소명  충전기ID       지역  시군구                                주소  \\\n",
       "2796614   군위휴게소(부산방향)      1     경상북도  군위군      경상북도 군위군 군위읍 경북대로 4084 (오곡리)   \n",
       "2796615   충주휴게소(마산방향)      1     충청북도  충주시  충청북도 충주시 중앙탑면 중부내륙고속도로 231 (용전리)   \n",
       "2796616      내서읍스포츠센터      1     경상남도  창원시       경상남도 창원시 마산회원구 내서읍 중리 391-3   \n",
       "2796617  삼성혈 인근 공영주차장      1  제주특별자치도  제주시           제주특별자치도 제주시 이도1동 1293-1   \n",
       "2796618    본오1동행정복지센터      1      경기도  안산시                경기도 안산시 상록구 샘골로 16   \n",
       "\n",
       "         충전기용량(kW)            충전기타입          충전시작일시          충전종료일시      충전시간  \\\n",
       "2796614        NaN  DC차데모+AC3상+DC콤보  20210101092250  20210101095816  00:29:24   \n",
       "2796615        NaN  DC차데모+AC3상+DC콤보  20210101095126  20210101095818  00:06:48   \n",
       "2796616        NaN             DC콤보  20210101094752  20210101095819  00:10:27   \n",
       "2796617        NaN  DC차데모+AC3상+DC콤보  20210101091323  20210101095819  00:40:00   \n",
       "2796618        NaN             DC콤보  20210101091559  20210101095835  00:40:00   \n",
       "\n",
       "         ...  충전시작_초          충전시작일시(변환)  충전종료_년도  충전종료_월  충전종료_일  충전종료_시  \\\n",
       "2796614  ...      50 2021-01-01 09:22:50     2021       1       1       9   \n",
       "2796615  ...      26 2021-01-01 09:51:26     2021       1       1       9   \n",
       "2796616  ...      52 2021-01-01 09:47:52     2021       1       1       9   \n",
       "2796617  ...      23 2021-01-01 09:13:23     2021       1       1       9   \n",
       "2796618  ...      59 2021-01-01 09:15:59     2021       1       1       9   \n",
       "\n",
       "         충전종료_분  충전종료_초          충전종료일시(변환)        충전시간(계산)  \n",
       "2796614      58      16 2021-01-01 09:58:16 0 days 00:35:26  \n",
       "2796615      58      18 2021-01-01 09:58:18 0 days 00:06:52  \n",
       "2796616      58      19 2021-01-01 09:58:19 0 days 00:10:27  \n",
       "2796617      58      19 2021-01-01 09:58:19 0 days 00:44:56  \n",
       "2796618      58      35 2021-01-01 09:58:35 0 days 00:42:36  \n",
       "\n",
       "[5 rows x 27 columns]"
      ]
     },
     "execution_count": 699,
     "metadata": {},
     "output_type": "execute_result"
    }
   ],
   "source": [
    "df[df['충전시작_년도'] == 2021].head()"
   ]
  },
  {
   "cell_type": "code",
   "execution_count": 701,
   "metadata": {},
   "outputs": [
    {
     "data": {
      "text/plain": [
       "[50.0, 50.0, 50.0, 50.0, 50.0]"
      ]
     },
     "execution_count": 701,
     "metadata": {},
     "output_type": "execute_result"
    }
   ],
   "source": [
    "temp = df[df['충전시작_년도'] == 2020]['충전기용량(kW)'].to_list()\n",
    "temp[-5:]"
   ]
  },
  {
   "cell_type": "code",
   "execution_count": 702,
   "metadata": {},
   "outputs": [
    {
     "data": {
      "text/plain": [
       "2796614"
      ]
     },
     "execution_count": 702,
     "metadata": {},
     "output_type": "execute_result"
    }
   ],
   "source": [
    "len(temp)"
   ]
  },
  {
   "cell_type": "code",
   "execution_count": 703,
   "metadata": {},
   "outputs": [
    {
     "data": {
      "text/plain": [
       "[50.0, 50.0, 50.0, 50.0, 50.0]"
      ]
     },
     "execution_count": 703,
     "metadata": {},
     "output_type": "execute_result"
    }
   ],
   "source": [
    "temp2 = df[df['충전시작_년도'] == 2021]['충전용량'].to_list()\n",
    "temp2[-5:]"
   ]
  },
  {
   "cell_type": "code",
   "execution_count": 704,
   "metadata": {},
   "outputs": [
    {
     "data": {
      "text/plain": [
       "4259845"
      ]
     },
     "execution_count": 704,
     "metadata": {},
     "output_type": "execute_result"
    }
   ],
   "source": [
    "len(temp2)"
   ]
  },
  {
   "cell_type": "code",
   "execution_count": 705,
   "metadata": {},
   "outputs": [
    {
     "data": {
      "text/plain": [
       "['급속(50kW)', '급속(200kW동시)', '급속(50kW)', '급속(50kW)', '급속(100kW멀티)']"
      ]
     },
     "execution_count": 705,
     "metadata": {},
     "output_type": "execute_result"
    }
   ],
   "source": [
    "temp3 = df[df['충전시작_년도'] == 2022]['충전용량'].to_list()\n",
    "temp3[-5:]"
   ]
  },
  {
   "cell_type": "code",
   "execution_count": 706,
   "metadata": {},
   "outputs": [
    {
     "data": {
      "text/plain": [
       "4609363"
      ]
     },
     "execution_count": 706,
     "metadata": {},
     "output_type": "execute_result"
    }
   ],
   "source": [
    "len(temp3)"
   ]
  },
  {
   "cell_type": "code",
   "execution_count": 707,
   "metadata": {},
   "outputs": [
    {
     "data": {
      "text/plain": [
       "11665822"
      ]
     },
     "execution_count": 707,
     "metadata": {},
     "output_type": "execute_result"
    }
   ],
   "source": [
    "len(temp + temp2 + temp3)"
   ]
  },
  {
   "cell_type": "code",
   "execution_count": 708,
   "metadata": {},
   "outputs": [
    {
     "data": {
      "text/html": [
       "<div>\n",
       "<style scoped>\n",
       "    .dataframe tbody tr th:only-of-type {\n",
       "        vertical-align: middle;\n",
       "    }\n",
       "\n",
       "    .dataframe tbody tr th {\n",
       "        vertical-align: top;\n",
       "    }\n",
       "\n",
       "    .dataframe thead th {\n",
       "        text-align: right;\n",
       "    }\n",
       "</style>\n",
       "<table border=\"1\" class=\"dataframe\">\n",
       "  <thead>\n",
       "    <tr style=\"text-align: right;\">\n",
       "      <th></th>\n",
       "      <th>충전소명</th>\n",
       "      <th>충전기ID</th>\n",
       "      <th>지역</th>\n",
       "      <th>시군구</th>\n",
       "      <th>주소</th>\n",
       "      <th>충전기용량(kW)</th>\n",
       "      <th>충전기타입</th>\n",
       "      <th>충전시작일시</th>\n",
       "      <th>충전종료일시</th>\n",
       "      <th>충전시간</th>\n",
       "      <th>...</th>\n",
       "      <th>충전시작_초</th>\n",
       "      <th>충전시작일시(변환)</th>\n",
       "      <th>충전종료_년도</th>\n",
       "      <th>충전종료_월</th>\n",
       "      <th>충전종료_일</th>\n",
       "      <th>충전종료_시</th>\n",
       "      <th>충전종료_분</th>\n",
       "      <th>충전종료_초</th>\n",
       "      <th>충전종료일시(변환)</th>\n",
       "      <th>충전시간(계산)</th>\n",
       "    </tr>\n",
       "  </thead>\n",
       "  <tbody>\n",
       "    <tr>\n",
       "      <th>0</th>\n",
       "      <td>내린천휴게소 양양방향</td>\n",
       "      <td>1</td>\n",
       "      <td>강원도</td>\n",
       "      <td>인제군</td>\n",
       "      <td>강원도 인제군 상남면 하남리 339-7(양양방향)</td>\n",
       "      <td>50.0</td>\n",
       "      <td>DC차데모+AC3상+DC콤보</td>\n",
       "      <td>20200117193331</td>\n",
       "      <td>20200117201417</td>\n",
       "      <td>00:40:00</td>\n",
       "      <td>...</td>\n",
       "      <td>31</td>\n",
       "      <td>2020-01-17 19:33:31</td>\n",
       "      <td>2020</td>\n",
       "      <td>1</td>\n",
       "      <td>17</td>\n",
       "      <td>20</td>\n",
       "      <td>14</td>\n",
       "      <td>17</td>\n",
       "      <td>2020-01-17 20:14:17</td>\n",
       "      <td>0 days 00:40:46</td>\n",
       "    </tr>\n",
       "    <tr>\n",
       "      <th>1</th>\n",
       "      <td>내린천휴게소 양양방향</td>\n",
       "      <td>1</td>\n",
       "      <td>강원도</td>\n",
       "      <td>인제군</td>\n",
       "      <td>강원도 인제군 상남면 하남리 339-7(양양방향)</td>\n",
       "      <td>50.0</td>\n",
       "      <td>DC차데모+AC3상+DC콤보</td>\n",
       "      <td>20200130143545</td>\n",
       "      <td>20200130150645</td>\n",
       "      <td>00:30:31</td>\n",
       "      <td>...</td>\n",
       "      <td>45</td>\n",
       "      <td>2020-01-30 14:35:45</td>\n",
       "      <td>2020</td>\n",
       "      <td>1</td>\n",
       "      <td>30</td>\n",
       "      <td>15</td>\n",
       "      <td>6</td>\n",
       "      <td>45</td>\n",
       "      <td>2020-01-30 15:06:45</td>\n",
       "      <td>0 days 00:31:00</td>\n",
       "    </tr>\n",
       "    <tr>\n",
       "      <th>2</th>\n",
       "      <td>내린천휴게소 양양방향</td>\n",
       "      <td>1</td>\n",
       "      <td>강원도</td>\n",
       "      <td>인제군</td>\n",
       "      <td>강원도 인제군 상남면 하남리 339-7(양양방향)</td>\n",
       "      <td>50.0</td>\n",
       "      <td>DC차데모+AC3상+DC콤보</td>\n",
       "      <td>20200105005728</td>\n",
       "      <td>20200105011329</td>\n",
       "      <td>00:15:35</td>\n",
       "      <td>...</td>\n",
       "      <td>28</td>\n",
       "      <td>2020-01-05 00:57:28</td>\n",
       "      <td>2020</td>\n",
       "      <td>1</td>\n",
       "      <td>5</td>\n",
       "      <td>1</td>\n",
       "      <td>13</td>\n",
       "      <td>29</td>\n",
       "      <td>2020-01-05 01:13:29</td>\n",
       "      <td>0 days 00:16:01</td>\n",
       "    </tr>\n",
       "    <tr>\n",
       "      <th>3</th>\n",
       "      <td>내린천휴게소 양양방향</td>\n",
       "      <td>3</td>\n",
       "      <td>강원도</td>\n",
       "      <td>인제군</td>\n",
       "      <td>강원도 인제군 상남면 하남리 339-7(양양방향)</td>\n",
       "      <td>100.0</td>\n",
       "      <td>DC콤보</td>\n",
       "      <td>20200120120215</td>\n",
       "      <td>20200120124708</td>\n",
       "      <td>00:41:00</td>\n",
       "      <td>...</td>\n",
       "      <td>15</td>\n",
       "      <td>2020-01-20 12:02:15</td>\n",
       "      <td>2020</td>\n",
       "      <td>1</td>\n",
       "      <td>20</td>\n",
       "      <td>12</td>\n",
       "      <td>47</td>\n",
       "      <td>8</td>\n",
       "      <td>2020-01-20 12:47:08</td>\n",
       "      <td>0 days 00:44:53</td>\n",
       "    </tr>\n",
       "    <tr>\n",
       "      <th>4</th>\n",
       "      <td>한국광기술원</td>\n",
       "      <td>1</td>\n",
       "      <td>광주광역시</td>\n",
       "      <td>북구</td>\n",
       "      <td>광주광역시 북구 첨단 벤처로 108번길 9</td>\n",
       "      <td>50.0</td>\n",
       "      <td>DC차데모+AC3상+DC콤보</td>\n",
       "      <td>20200123085417</td>\n",
       "      <td>20200123092554</td>\n",
       "      <td>00:31:14</td>\n",
       "      <td>...</td>\n",
       "      <td>17</td>\n",
       "      <td>2020-01-23 08:54:17</td>\n",
       "      <td>2020</td>\n",
       "      <td>1</td>\n",
       "      <td>23</td>\n",
       "      <td>9</td>\n",
       "      <td>25</td>\n",
       "      <td>54</td>\n",
       "      <td>2020-01-23 09:25:54</td>\n",
       "      <td>0 days 00:31:37</td>\n",
       "    </tr>\n",
       "  </tbody>\n",
       "</table>\n",
       "<p>5 rows × 27 columns</p>\n",
       "</div>"
      ],
      "text/plain": [
       "          충전소명  충전기ID     지역  시군구                           주소  충전기용량(kW)  \\\n",
       "0  내린천휴게소 양양방향      1    강원도  인제군  강원도 인제군 상남면 하남리 339-7(양양방향)       50.0   \n",
       "1  내린천휴게소 양양방향      1    강원도  인제군  강원도 인제군 상남면 하남리 339-7(양양방향)       50.0   \n",
       "2  내린천휴게소 양양방향      1    강원도  인제군  강원도 인제군 상남면 하남리 339-7(양양방향)       50.0   \n",
       "3  내린천휴게소 양양방향      3    강원도  인제군  강원도 인제군 상남면 하남리 339-7(양양방향)      100.0   \n",
       "4       한국광기술원      1  광주광역시   북구      광주광역시 북구 첨단 벤처로 108번길 9       50.0   \n",
       "\n",
       "             충전기타입          충전시작일시          충전종료일시      충전시간  ...  충전시작_초  \\\n",
       "0  DC차데모+AC3상+DC콤보  20200117193331  20200117201417  00:40:00  ...      31   \n",
       "1  DC차데모+AC3상+DC콤보  20200130143545  20200130150645  00:30:31  ...      45   \n",
       "2  DC차데모+AC3상+DC콤보  20200105005728  20200105011329  00:15:35  ...      28   \n",
       "3             DC콤보  20200120120215  20200120124708  00:41:00  ...      15   \n",
       "4  DC차데모+AC3상+DC콤보  20200123085417  20200123092554  00:31:14  ...      17   \n",
       "\n",
       "           충전시작일시(변환)  충전종료_년도  충전종료_월  충전종료_일  충전종료_시  충전종료_분  충전종료_초  \\\n",
       "0 2020-01-17 19:33:31     2020       1      17      20      14      17   \n",
       "1 2020-01-30 14:35:45     2020       1      30      15       6      45   \n",
       "2 2020-01-05 00:57:28     2020       1       5       1      13      29   \n",
       "3 2020-01-20 12:02:15     2020       1      20      12      47       8   \n",
       "4 2020-01-23 08:54:17     2020       1      23       9      25      54   \n",
       "\n",
       "           충전종료일시(변환)        충전시간(계산)  \n",
       "0 2020-01-17 20:14:17 0 days 00:40:46  \n",
       "1 2020-01-30 15:06:45 0 days 00:31:00  \n",
       "2 2020-01-05 01:13:29 0 days 00:16:01  \n",
       "3 2020-01-20 12:47:08 0 days 00:44:53  \n",
       "4 2020-01-23 09:25:54 0 days 00:31:37  \n",
       "\n",
       "[5 rows x 27 columns]"
      ]
     },
     "execution_count": 708,
     "metadata": {},
     "output_type": "execute_result"
    }
   ],
   "source": [
    "df['충전용량'] = temp + temp2 + temp3\n",
    "df.head()"
   ]
  },
  {
   "cell_type": "code",
   "execution_count": 709,
   "metadata": {},
   "outputs": [
    {
     "data": {
      "text/html": [
       "<div>\n",
       "<style scoped>\n",
       "    .dataframe tbody tr th:only-of-type {\n",
       "        vertical-align: middle;\n",
       "    }\n",
       "\n",
       "    .dataframe tbody tr th {\n",
       "        vertical-align: top;\n",
       "    }\n",
       "\n",
       "    .dataframe thead th {\n",
       "        text-align: right;\n",
       "    }\n",
       "</style>\n",
       "<table border=\"1\" class=\"dataframe\">\n",
       "  <thead>\n",
       "    <tr style=\"text-align: right;\">\n",
       "      <th></th>\n",
       "      <th>충전소명</th>\n",
       "      <th>충전기ID</th>\n",
       "      <th>지역</th>\n",
       "      <th>시군구</th>\n",
       "      <th>주소</th>\n",
       "      <th>충전기용량(kW)</th>\n",
       "      <th>충전기타입</th>\n",
       "      <th>충전시작일시</th>\n",
       "      <th>충전종료일시</th>\n",
       "      <th>충전시간</th>\n",
       "      <th>충전량</th>\n",
       "      <th>충전용량</th>\n",
       "    </tr>\n",
       "  </thead>\n",
       "  <tbody>\n",
       "    <tr>\n",
       "      <th>0</th>\n",
       "      <td>내린천휴게소 양양방향</td>\n",
       "      <td>1</td>\n",
       "      <td>강원도</td>\n",
       "      <td>인제군</td>\n",
       "      <td>강원도 인제군 상남면 하남리 339-7(양양방향)</td>\n",
       "      <td>50.0</td>\n",
       "      <td>DC차데모+AC3상+DC콤보</td>\n",
       "      <td>20200117193331</td>\n",
       "      <td>20200117201417</td>\n",
       "      <td>00:40:00</td>\n",
       "      <td>25.47</td>\n",
       "      <td>50.0</td>\n",
       "    </tr>\n",
       "    <tr>\n",
       "      <th>1</th>\n",
       "      <td>내린천휴게소 양양방향</td>\n",
       "      <td>1</td>\n",
       "      <td>강원도</td>\n",
       "      <td>인제군</td>\n",
       "      <td>강원도 인제군 상남면 하남리 339-7(양양방향)</td>\n",
       "      <td>50.0</td>\n",
       "      <td>DC차데모+AC3상+DC콤보</td>\n",
       "      <td>20200130143545</td>\n",
       "      <td>20200130150645</td>\n",
       "      <td>00:30:31</td>\n",
       "      <td>17.57</td>\n",
       "      <td>50.0</td>\n",
       "    </tr>\n",
       "    <tr>\n",
       "      <th>2</th>\n",
       "      <td>내린천휴게소 양양방향</td>\n",
       "      <td>1</td>\n",
       "      <td>강원도</td>\n",
       "      <td>인제군</td>\n",
       "      <td>강원도 인제군 상남면 하남리 339-7(양양방향)</td>\n",
       "      <td>50.0</td>\n",
       "      <td>DC차데모+AC3상+DC콤보</td>\n",
       "      <td>20200105005728</td>\n",
       "      <td>20200105011329</td>\n",
       "      <td>00:15:35</td>\n",
       "      <td>6.98</td>\n",
       "      <td>50.0</td>\n",
       "    </tr>\n",
       "    <tr>\n",
       "      <th>3</th>\n",
       "      <td>내린천휴게소 양양방향</td>\n",
       "      <td>3</td>\n",
       "      <td>강원도</td>\n",
       "      <td>인제군</td>\n",
       "      <td>강원도 인제군 상남면 하남리 339-7(양양방향)</td>\n",
       "      <td>100.0</td>\n",
       "      <td>DC콤보</td>\n",
       "      <td>20200120120215</td>\n",
       "      <td>20200120124708</td>\n",
       "      <td>00:41:00</td>\n",
       "      <td>15.30</td>\n",
       "      <td>100.0</td>\n",
       "    </tr>\n",
       "    <tr>\n",
       "      <th>4</th>\n",
       "      <td>한국광기술원</td>\n",
       "      <td>1</td>\n",
       "      <td>광주광역시</td>\n",
       "      <td>북구</td>\n",
       "      <td>광주광역시 북구 첨단 벤처로 108번길 9</td>\n",
       "      <td>50.0</td>\n",
       "      <td>DC차데모+AC3상+DC콤보</td>\n",
       "      <td>20200123085417</td>\n",
       "      <td>20200123092554</td>\n",
       "      <td>00:31:14</td>\n",
       "      <td>21.92</td>\n",
       "      <td>50.0</td>\n",
       "    </tr>\n",
       "  </tbody>\n",
       "</table>\n",
       "</div>"
      ],
      "text/plain": [
       "          충전소명  충전기ID     지역  시군구                           주소  충전기용량(kW)  \\\n",
       "0  내린천휴게소 양양방향      1    강원도  인제군  강원도 인제군 상남면 하남리 339-7(양양방향)       50.0   \n",
       "1  내린천휴게소 양양방향      1    강원도  인제군  강원도 인제군 상남면 하남리 339-7(양양방향)       50.0   \n",
       "2  내린천휴게소 양양방향      1    강원도  인제군  강원도 인제군 상남면 하남리 339-7(양양방향)       50.0   \n",
       "3  내린천휴게소 양양방향      3    강원도  인제군  강원도 인제군 상남면 하남리 339-7(양양방향)      100.0   \n",
       "4       한국광기술원      1  광주광역시   북구      광주광역시 북구 첨단 벤처로 108번길 9       50.0   \n",
       "\n",
       "             충전기타입          충전시작일시          충전종료일시      충전시간    충전량   충전용량  \n",
       "0  DC차데모+AC3상+DC콤보  20200117193331  20200117201417  00:40:00  25.47   50.0  \n",
       "1  DC차데모+AC3상+DC콤보  20200130143545  20200130150645  00:30:31  17.57   50.0  \n",
       "2  DC차데모+AC3상+DC콤보  20200105005728  20200105011329  00:15:35   6.98   50.0  \n",
       "3             DC콤보  20200120120215  20200120124708  00:41:00  15.30  100.0  \n",
       "4  DC차데모+AC3상+DC콤보  20200123085417  20200123092554  00:31:14  21.92   50.0  "
      ]
     },
     "execution_count": 709,
     "metadata": {},
     "output_type": "execute_result"
    }
   ],
   "source": [
    "df.iloc[:5, :12]"
   ]
  },
  {
   "cell_type": "markdown",
   "metadata": {},
   "source": [
    "##### 일시 분리 데이터 출력"
   ]
  },
  {
   "cell_type": "code",
   "execution_count": 710,
   "metadata": {},
   "outputs": [],
   "source": [
    "df.to_csv('2020-22년_급속충전_일시분리.csv', encoding='utf-8')"
   ]
  },
  {
   "cell_type": "markdown",
   "metadata": {},
   "source": [
    "##### 일시 분리 데이터 로드(다시 시작)"
   ]
  },
  {
   "cell_type": "code",
   "execution_count": 5,
   "metadata": {},
   "outputs": [
    {
     "name": "stderr",
     "output_type": "stream",
     "text": [
      "C:\\Users\\kbj\\AppData\\Local\\Temp\\ipykernel_7780\\927583139.py:1: DtypeWarning: Columns (12) have mixed types. Specify dtype option on import or set low_memory=False.\n",
      "  df = pd.read_csv('2020-22년_급속충전_일시분리.csv')\n"
     ]
    }
   ],
   "source": [
    "# df = pd.read_csv('2020-22년_급속충전_일시분리.csv', index_col=0)\n",
    "# df.info()"
   ]
  },
  {
   "cell_type": "code",
   "execution_count": 6,
   "metadata": {},
   "outputs": [
    {
     "name": "stdout",
     "output_type": "stream",
     "text": [
      "<class 'pandas.core.frame.DataFrame'>\n",
      "RangeIndex: 11665822 entries, 0 to 11665821\n",
      "Data columns (total 28 columns):\n",
      " #   Column      Dtype  \n",
      "---  ------      -----  \n",
      " 0   Unnamed: 0  int64  \n",
      " 1   충전소명        object \n",
      " 2   충전기ID       int64  \n",
      " 3   지역          object \n",
      " 4   시군구         object \n",
      " 5   주소          object \n",
      " 6   충전기용량(kW)   float64\n",
      " 7   충전기타입       object \n",
      " 8   충전시작일시      int64  \n",
      " 9   충전종료일시      int64  \n",
      " 10  충전시간        object \n",
      " 11  충전량         float64\n",
      " 12  충전용량        object \n",
      " 13  충전시작_년도     int64  \n",
      " 14  충전시작_월      int64  \n",
      " 15  충전시작_일      int64  \n",
      " 16  충전시작_시      int64  \n",
      " 17  충전시작_분      int64  \n",
      " 18  충전시작_초      int64  \n",
      " 19  충전시작일시(변환)  object \n",
      " 20  충전종료_년도     int64  \n",
      " 21  충전종료_월      int64  \n",
      " 22  충전종료_일      int64  \n",
      " 23  충전종료_시      int64  \n",
      " 24  충전종료_분      int64  \n",
      " 25  충전종료_초      int64  \n",
      " 26  충전종료일시(변환)  object \n",
      " 27  충전시간(계산)    object \n",
      "dtypes: float64(2), int64(16), object(10)\n",
      "memory usage: 2.4+ GB\n"
     ]
    }
   ],
   "source": [
    "df.info()"
   ]
  },
  {
   "cell_type": "code",
   "execution_count": 7,
   "metadata": {},
   "outputs": [
    {
     "name": "stdout",
     "output_type": "stream",
     "text": [
      "<class 'pandas.core.frame.DataFrame'>\n",
      "RangeIndex: 11665822 entries, 0 to 11665821\n",
      "Data columns (total 27 columns):\n",
      " #   Column      Dtype  \n",
      "---  ------      -----  \n",
      " 0   충전소명        object \n",
      " 1   충전기ID       int64  \n",
      " 2   지역          object \n",
      " 3   시군구         object \n",
      " 4   주소          object \n",
      " 5   충전기용량(kW)   float64\n",
      " 6   충전기타입       object \n",
      " 7   충전시작일시      int64  \n",
      " 8   충전종료일시      int64  \n",
      " 9   충전시간        object \n",
      " 10  충전량         float64\n",
      " 11  충전용량        object \n",
      " 12  충전시작_년도     int64  \n",
      " 13  충전시작_월      int64  \n",
      " 14  충전시작_일      int64  \n",
      " 15  충전시작_시      int64  \n",
      " 16  충전시작_분      int64  \n",
      " 17  충전시작_초      int64  \n",
      " 18  충전시작일시(변환)  object \n",
      " 19  충전종료_년도     int64  \n",
      " 20  충전종료_월      int64  \n",
      " 21  충전종료_일      int64  \n",
      " 22  충전종료_시      int64  \n",
      " 23  충전종료_분      int64  \n",
      " 24  충전종료_초      int64  \n",
      " 25  충전종료일시(변환)  object \n",
      " 26  충전시간(계산)    object \n",
      "dtypes: float64(2), int64(15), object(10)\n",
      "memory usage: 2.3+ GB\n"
     ]
    }
   ],
   "source": [
    "df = df.drop(['Unnamed: 0'], axis=1)\n",
    "df.info()"
   ]
  },
  {
   "cell_type": "markdown",
   "metadata": {},
   "source": [
    "### 필요없는 열 제거"
   ]
  },
  {
   "cell_type": "code",
   "execution_count": 8,
   "metadata": {},
   "outputs": [],
   "source": [
    "# mod_df = df.drop(['충전기용량(kW)', '충전시작_년도', '충전시작_월', '충전시작_일', '충전시작_시', '충전시작_월', '충전시작_일', '충전시작_시', '충전시작_분', '충전시작_초', \n",
    "#          '충전종료_년도', '충전종료_월', '충전종료_일', '충전종료_시', '충전종료_월', '충전종료_일', '충전종료_시', '충전종료_분', '충전종료_초'], axis=1)\n",
    "# mod_df.head()"
   ]
  },
  {
   "cell_type": "markdown",
   "metadata": {},
   "source": [
    "### raw 충전시간과 계산값 비교"
   ]
  },
  {
   "cell_type": "code",
   "execution_count": 9,
   "metadata": {},
   "outputs": [
    {
     "data": {
      "text/plain": [
       "0    00:40:00\n",
       "1    00:30:31\n",
       "2    00:15:35\n",
       "3    00:41:00\n",
       "4    00:31:14\n",
       "Name: 충전시간, dtype: object"
      ]
     },
     "execution_count": 9,
     "metadata": {},
     "output_type": "execute_result"
    }
   ],
   "source": [
    "df['충전시간'].head()"
   ]
  },
  {
   "cell_type": "code",
   "execution_count": 10,
   "metadata": {},
   "outputs": [
    {
     "data": {
      "text/plain": [
       "dtype('O')"
      ]
     },
     "execution_count": 10,
     "metadata": {},
     "output_type": "execute_result"
    }
   ],
   "source": [
    "df['충전시간'].dtype"
   ]
  },
  {
   "cell_type": "markdown",
   "metadata": {},
   "source": [
    "#### 충전시간 오류 값 처리\n",
    "- 7개 제거"
   ]
  },
  {
   "cell_type": "code",
   "execution_count": 11,
   "metadata": {},
   "outputs": [],
   "source": [
    "# temp = pd.to_timedelta(df['충전시간']) # only leading negative signs are allowed 에러 발생\n",
    "temp = pd.to_timedelta(df['충전시간'], errors='coerce')"
   ]
  },
  {
   "cell_type": "code",
   "execution_count": 12,
   "metadata": {},
   "outputs": [
    {
     "data": {
      "text/plain": [
       "7"
      ]
     },
     "execution_count": 12,
     "metadata": {},
     "output_type": "execute_result"
    }
   ],
   "source": [
    "temp.isnull().sum()"
   ]
  },
  {
   "cell_type": "code",
   "execution_count": 13,
   "metadata": {},
   "outputs": [],
   "source": [
    "temp = temp.to_frame()"
   ]
  },
  {
   "cell_type": "code",
   "execution_count": 14,
   "metadata": {},
   "outputs": [
    {
     "data": {
      "text/html": [
       "<div>\n",
       "<style scoped>\n",
       "    .dataframe tbody tr th:only-of-type {\n",
       "        vertical-align: middle;\n",
       "    }\n",
       "\n",
       "    .dataframe tbody tr th {\n",
       "        vertical-align: top;\n",
       "    }\n",
       "\n",
       "    .dataframe thead th {\n",
       "        text-align: right;\n",
       "    }\n",
       "</style>\n",
       "<table border=\"1\" class=\"dataframe\">\n",
       "  <thead>\n",
       "    <tr style=\"text-align: right;\">\n",
       "      <th></th>\n",
       "      <th>충전시간</th>\n",
       "    </tr>\n",
       "  </thead>\n",
       "  <tbody>\n",
       "    <tr>\n",
       "      <th>1207828</th>\n",
       "      <td>NaT</td>\n",
       "    </tr>\n",
       "    <tr>\n",
       "      <th>1352351</th>\n",
       "      <td>NaT</td>\n",
       "    </tr>\n",
       "    <tr>\n",
       "      <th>1362905</th>\n",
       "      <td>NaT</td>\n",
       "    </tr>\n",
       "    <tr>\n",
       "      <th>1372346</th>\n",
       "      <td>NaT</td>\n",
       "    </tr>\n",
       "    <tr>\n",
       "      <th>6796417</th>\n",
       "      <td>NaT</td>\n",
       "    </tr>\n",
       "    <tr>\n",
       "      <th>7111195</th>\n",
       "      <td>NaT</td>\n",
       "    </tr>\n",
       "    <tr>\n",
       "      <th>11392158</th>\n",
       "      <td>NaT</td>\n",
       "    </tr>\n",
       "  </tbody>\n",
       "</table>\n",
       "</div>"
      ],
      "text/plain": [
       "         충전시간\n",
       "1207828   NaT\n",
       "1352351   NaT\n",
       "1362905   NaT\n",
       "1372346   NaT\n",
       "6796417   NaT\n",
       "7111195   NaT\n",
       "11392158  NaT"
      ]
     },
     "execution_count": 14,
     "metadata": {},
     "output_type": "execute_result"
    }
   ],
   "source": [
    "temp[temp['충전시간'].isnull() == True]"
   ]
  },
  {
   "cell_type": "code",
   "execution_count": 15,
   "metadata": {},
   "outputs": [
    {
     "name": "stdout",
     "output_type": "stream",
     "text": [
      "00:-1:-4 2020-07-06 09:05:47\n",
      "00:-4:-1 2020-07-05 15:39:18\n",
      "00:-1:-2 2020-07-06 09:05:47\n",
      "-6:-2:-5 2020-07-01 19:35:59\n",
      "00:-4:-2 2021-12-30 17:18:27\n",
      "00:-1:-3 2022-01-14 17:53:48\n",
      "-1:-4:-4 2022-08-19 03:00:11\n"
     ]
    }
   ],
   "source": [
    "null_idx = temp[temp['충전시간'].isnull() == True].index\n",
    "for i in null_idx:\n",
    "    print(df.loc[i, '충전시간'], df.loc[i, '충전시작일시(변환)'])"
   ]
  },
  {
   "cell_type": "code",
   "execution_count": 16,
   "metadata": {},
   "outputs": [
    {
     "data": {
      "text/plain": [
       "(11665822, 27)"
      ]
     },
     "execution_count": 16,
     "metadata": {},
     "output_type": "execute_result"
    }
   ],
   "source": [
    "df.shape"
   ]
  },
  {
   "cell_type": "code",
   "execution_count": 17,
   "metadata": {},
   "outputs": [
    {
     "data": {
      "text/plain": [
       "(11665815, 27)"
      ]
     },
     "execution_count": 17,
     "metadata": {},
     "output_type": "execute_result"
    }
   ],
   "source": [
    "df2 = df.drop(null_idx, axis=0)\n",
    "df2.shape"
   ]
  },
  {
   "cell_type": "code",
   "execution_count": 18,
   "metadata": {},
   "outputs": [
    {
     "data": {
      "text/plain": [
       "0   0 days 00:40:00\n",
       "1   0 days 00:30:31\n",
       "2   0 days 00:15:35\n",
       "3   0 days 00:41:00\n",
       "4   0 days 00:31:14\n",
       "Name: 충전시간, dtype: timedelta64[ns]"
      ]
     },
     "execution_count": 18,
     "metadata": {},
     "output_type": "execute_result"
    }
   ],
   "source": [
    "temp = pd.to_timedelta(df2['충전시간'])\n",
    "temp.head()"
   ]
  },
  {
   "cell_type": "code",
   "execution_count": 19,
   "metadata": {},
   "outputs": [
    {
     "name": "stdout",
     "output_type": "stream",
     "text": [
      "<class 'pandas.core.frame.DataFrame'>\n",
      "Int64Index: 11665815 entries, 0 to 11665821\n",
      "Data columns (total 27 columns):\n",
      " #   Column      Dtype          \n",
      "---  ------      -----          \n",
      " 0   충전소명        object         \n",
      " 1   충전기ID       int64          \n",
      " 2   지역          object         \n",
      " 3   시군구         object         \n",
      " 4   주소          object         \n",
      " 5   충전기용량(kW)   float64        \n",
      " 6   충전기타입       object         \n",
      " 7   충전시작일시      int64          \n",
      " 8   충전종료일시      int64          \n",
      " 9   충전시간        timedelta64[ns]\n",
      " 10  충전량         float64        \n",
      " 11  충전용량        object         \n",
      " 12  충전시작_년도     int64          \n",
      " 13  충전시작_월      int64          \n",
      " 14  충전시작_일      int64          \n",
      " 15  충전시작_시      int64          \n",
      " 16  충전시작_분      int64          \n",
      " 17  충전시작_초      int64          \n",
      " 18  충전시작일시(변환)  object         \n",
      " 19  충전종료_년도     int64          \n",
      " 20  충전종료_월      int64          \n",
      " 21  충전종료_일      int64          \n",
      " 22  충전종료_시      int64          \n",
      " 23  충전종료_분      int64          \n",
      " 24  충전종료_초      int64          \n",
      " 25  충전종료일시(변환)  object         \n",
      " 26  충전시간(계산)    timedelta64[ns]\n",
      "dtypes: float64(2), int64(15), object(8), timedelta64[ns](2)\n",
      "memory usage: 2.4+ GB\n"
     ]
    }
   ],
   "source": [
    "df2['충전시간'] = pd.to_timedelta(df2['충전시간'])\n",
    "df2['충전시간(계산)'] = pd.to_timedelta(df2['충전시간(계산)'])\n",
    "df2.info()"
   ]
  },
  {
   "cell_type": "code",
   "execution_count": 20,
   "metadata": {},
   "outputs": [
    {
     "data": {
      "text/plain": [
       "count                     11665815\n",
       "mean     0 days 00:34:21.381945453\n",
       "std      0 days 01:20:05.913477577\n",
       "min                0 days 00:00:00\n",
       "25%                0 days 00:20:55\n",
       "50%                0 days 00:34:07\n",
       "75%                0 days 00:40:00\n",
       "max                4 days 03:56:55\n",
       "Name: 충전시간, dtype: object"
      ]
     },
     "execution_count": 20,
     "metadata": {},
     "output_type": "execute_result"
    }
   ],
   "source": [
    "df2['충전시간'].describe()"
   ]
  },
  {
   "cell_type": "code",
   "execution_count": 21,
   "metadata": {},
   "outputs": [
    {
     "data": {
      "text/plain": [
       "count                     11665815\n",
       "mean     0 days 00:29:18.506520633\n",
       "std      4 days 08:44:42.009406092\n",
       "min          -14905 days +09:10:08\n",
       "25%                0 days 00:21:28\n",
       "50%                0 days 00:34:49\n",
       "75%                0 days 00:40:24\n",
       "max               14 days 08:40:25\n",
       "Name: 충전시간(계산), dtype: object"
      ]
     },
     "execution_count": 21,
     "metadata": {},
     "output_type": "execute_result"
    }
   ],
   "source": [
    "df2['충전시간(계산)'].describe()"
   ]
  },
  {
   "cell_type": "code",
   "execution_count": 22,
   "metadata": {},
   "outputs": [
    {
     "data": {
      "text/html": [
       "<div>\n",
       "<style scoped>\n",
       "    .dataframe tbody tr th:only-of-type {\n",
       "        vertical-align: middle;\n",
       "    }\n",
       "\n",
       "    .dataframe tbody tr th {\n",
       "        vertical-align: top;\n",
       "    }\n",
       "\n",
       "    .dataframe thead th {\n",
       "        text-align: right;\n",
       "    }\n",
       "</style>\n",
       "<table border=\"1\" class=\"dataframe\">\n",
       "  <thead>\n",
       "    <tr style=\"text-align: right;\">\n",
       "      <th></th>\n",
       "      <th>충전소명</th>\n",
       "      <th>충전기ID</th>\n",
       "      <th>지역</th>\n",
       "      <th>시군구</th>\n",
       "      <th>주소</th>\n",
       "      <th>충전기용량(kW)</th>\n",
       "      <th>충전기타입</th>\n",
       "      <th>충전시작일시</th>\n",
       "      <th>충전종료일시</th>\n",
       "      <th>충전시간</th>\n",
       "      <th>...</th>\n",
       "      <th>충전시작_초</th>\n",
       "      <th>충전시작일시(변환)</th>\n",
       "      <th>충전종료_년도</th>\n",
       "      <th>충전종료_월</th>\n",
       "      <th>충전종료_일</th>\n",
       "      <th>충전종료_시</th>\n",
       "      <th>충전종료_분</th>\n",
       "      <th>충전종료_초</th>\n",
       "      <th>충전종료일시(변환)</th>\n",
       "      <th>충전시간(계산)</th>\n",
       "    </tr>\n",
       "  </thead>\n",
       "  <tbody>\n",
       "    <tr>\n",
       "      <th>2120856</th>\n",
       "      <td>단양관광안내소(단양팔경)</td>\n",
       "      <td>1</td>\n",
       "      <td>충청북도</td>\n",
       "      <td>단양군</td>\n",
       "      <td>충청북도 단양군 단양읍 고수리 149-1</td>\n",
       "      <td>50.0</td>\n",
       "      <td>DC차데모+AC3상+DC콤보</td>\n",
       "      <td>20201030144953</td>\n",
       "      <td>19800110000001</td>\n",
       "      <td>3 days 10:47:44</td>\n",
       "      <td>...</td>\n",
       "      <td>53</td>\n",
       "      <td>2020-10-30 14:49:53</td>\n",
       "      <td>1980</td>\n",
       "      <td>1</td>\n",
       "      <td>10</td>\n",
       "      <td>0</td>\n",
       "      <td>0</td>\n",
       "      <td>1</td>\n",
       "      <td>1980-01-10 00:00:01</td>\n",
       "      <td>-14905 days +09:10:08</td>\n",
       "    </tr>\n",
       "  </tbody>\n",
       "</table>\n",
       "<p>1 rows × 27 columns</p>\n",
       "</div>"
      ],
      "text/plain": [
       "                  충전소명  충전기ID    지역  시군구                      주소  충전기용량(kW)  \\\n",
       "2120856  단양관광안내소(단양팔경)      1  충청북도  단양군  충청북도 단양군 단양읍 고수리 149-1       50.0   \n",
       "\n",
       "                   충전기타입          충전시작일시          충전종료일시            충전시간  ...  \\\n",
       "2120856  DC차데모+AC3상+DC콤보  20201030144953  19800110000001 3 days 10:47:44  ...   \n",
       "\n",
       "         충전시작_초           충전시작일시(변환)  충전종료_년도  충전종료_월  충전종료_일  충전종료_시  충전종료_분  \\\n",
       "2120856      53  2020-10-30 14:49:53     1980       1      10       0       0   \n",
       "\n",
       "         충전종료_초           충전종료일시(변환)              충전시간(계산)  \n",
       "2120856       1  1980-01-10 00:00:01 -14905 days +09:10:08  \n",
       "\n",
       "[1 rows x 27 columns]"
      ]
     },
     "execution_count": 22,
     "metadata": {},
     "output_type": "execute_result"
    }
   ],
   "source": [
    "df2[df2['충전시간(계산)'] == '-14905 days +09:10:08']"
   ]
  },
  {
   "cell_type": "markdown",
   "metadata": {},
   "source": [
    "#### 충전시간 데이터 확인"
   ]
  },
  {
   "cell_type": "code",
   "execution_count": 23,
   "metadata": {},
   "outputs": [
    {
     "data": {
      "text/html": [
       "<div>\n",
       "<style scoped>\n",
       "    .dataframe tbody tr th:only-of-type {\n",
       "        vertical-align: middle;\n",
       "    }\n",
       "\n",
       "    .dataframe tbody tr th {\n",
       "        vertical-align: top;\n",
       "    }\n",
       "\n",
       "    .dataframe thead th {\n",
       "        text-align: right;\n",
       "    }\n",
       "</style>\n",
       "<table border=\"1\" class=\"dataframe\">\n",
       "  <thead>\n",
       "    <tr style=\"text-align: right;\">\n",
       "      <th></th>\n",
       "      <th>충전소명</th>\n",
       "      <th>충전기ID</th>\n",
       "      <th>지역</th>\n",
       "      <th>시군구</th>\n",
       "      <th>주소</th>\n",
       "      <th>충전기용량(kW)</th>\n",
       "      <th>충전기타입</th>\n",
       "      <th>충전시작일시</th>\n",
       "      <th>충전종료일시</th>\n",
       "      <th>충전시간</th>\n",
       "      <th>...</th>\n",
       "      <th>충전시작_초</th>\n",
       "      <th>충전시작일시(변환)</th>\n",
       "      <th>충전종료_년도</th>\n",
       "      <th>충전종료_월</th>\n",
       "      <th>충전종료_일</th>\n",
       "      <th>충전종료_시</th>\n",
       "      <th>충전종료_분</th>\n",
       "      <th>충전종료_초</th>\n",
       "      <th>충전종료일시(변환)</th>\n",
       "      <th>충전시간(계산)</th>\n",
       "    </tr>\n",
       "  </thead>\n",
       "  <tbody>\n",
       "    <tr>\n",
       "      <th>31211</th>\n",
       "      <td>(재)문화엑스포</td>\n",
       "      <td>11</td>\n",
       "      <td>경상북도</td>\n",
       "      <td>경주시</td>\n",
       "      <td>경상북도 경주시 경감로 614</td>\n",
       "      <td>200.0</td>\n",
       "      <td>DC콤보</td>\n",
       "      <td>20200109145420</td>\n",
       "      <td>20200109145420</td>\n",
       "      <td>0 days</td>\n",
       "      <td>...</td>\n",
       "      <td>20</td>\n",
       "      <td>2020-01-09 14:54:20</td>\n",
       "      <td>2020</td>\n",
       "      <td>1</td>\n",
       "      <td>9</td>\n",
       "      <td>14</td>\n",
       "      <td>54</td>\n",
       "      <td>20</td>\n",
       "      <td>2020-01-09 14:54:20</td>\n",
       "      <td>0 days 00:00:00</td>\n",
       "    </tr>\n",
       "    <tr>\n",
       "      <th>61525</th>\n",
       "      <td>종합사회복지관</td>\n",
       "      <td>12</td>\n",
       "      <td>충청남도</td>\n",
       "      <td>공주시</td>\n",
       "      <td>충청남도 공주시 의당면 의당로 257</td>\n",
       "      <td>200.0</td>\n",
       "      <td>DC콤보</td>\n",
       "      <td>20200114192124</td>\n",
       "      <td>20200114192132</td>\n",
       "      <td>0 days</td>\n",
       "      <td>...</td>\n",
       "      <td>24</td>\n",
       "      <td>2020-01-14 19:21:24</td>\n",
       "      <td>2020</td>\n",
       "      <td>1</td>\n",
       "      <td>14</td>\n",
       "      <td>19</td>\n",
       "      <td>21</td>\n",
       "      <td>32</td>\n",
       "      <td>2020-01-14 19:21:32</td>\n",
       "      <td>0 days 00:00:08</td>\n",
       "    </tr>\n",
       "    <tr>\n",
       "      <th>96952</th>\n",
       "      <td>해남군청 주차장</td>\n",
       "      <td>12</td>\n",
       "      <td>전라남도</td>\n",
       "      <td>해남군</td>\n",
       "      <td>전라남도 해남군 해남읍 수성리 183-5</td>\n",
       "      <td>200.0</td>\n",
       "      <td>DC콤보</td>\n",
       "      <td>20200124160600</td>\n",
       "      <td>20200124160601</td>\n",
       "      <td>0 days</td>\n",
       "      <td>...</td>\n",
       "      <td>0</td>\n",
       "      <td>2020-01-24 16:06:00</td>\n",
       "      <td>2020</td>\n",
       "      <td>1</td>\n",
       "      <td>24</td>\n",
       "      <td>16</td>\n",
       "      <td>6</td>\n",
       "      <td>1</td>\n",
       "      <td>2020-01-24 16:06:01</td>\n",
       "      <td>0 days 00:00:01</td>\n",
       "    </tr>\n",
       "    <tr>\n",
       "      <th>118208</th>\n",
       "      <td>롯데 빅마켓</td>\n",
       "      <td>3</td>\n",
       "      <td>서울특별시</td>\n",
       "      <td>영등포구</td>\n",
       "      <td>서울특별시 영등포구 영중로 125, 지상주차장(외부 1F)</td>\n",
       "      <td>100.0</td>\n",
       "      <td>DC콤보</td>\n",
       "      <td>20200122012647</td>\n",
       "      <td>20200122012716</td>\n",
       "      <td>0 days</td>\n",
       "      <td>...</td>\n",
       "      <td>47</td>\n",
       "      <td>2020-01-22 01:26:47</td>\n",
       "      <td>2020</td>\n",
       "      <td>1</td>\n",
       "      <td>22</td>\n",
       "      <td>1</td>\n",
       "      <td>27</td>\n",
       "      <td>16</td>\n",
       "      <td>2020-01-22 01:27:16</td>\n",
       "      <td>0 days 00:00:29</td>\n",
       "    </tr>\n",
       "    <tr>\n",
       "      <th>174295</th>\n",
       "      <td>이마트 파주운정점</td>\n",
       "      <td>11</td>\n",
       "      <td>경기도</td>\n",
       "      <td>파주시</td>\n",
       "      <td>경기도 파주시 한울로 123</td>\n",
       "      <td>200.0</td>\n",
       "      <td>DC콤보</td>\n",
       "      <td>20200107165228</td>\n",
       "      <td>20200107165255</td>\n",
       "      <td>0 days</td>\n",
       "      <td>...</td>\n",
       "      <td>28</td>\n",
       "      <td>2020-01-07 16:52:28</td>\n",
       "      <td>2020</td>\n",
       "      <td>1</td>\n",
       "      <td>7</td>\n",
       "      <td>16</td>\n",
       "      <td>52</td>\n",
       "      <td>55</td>\n",
       "      <td>2020-01-07 16:52:55</td>\n",
       "      <td>0 days 00:00:27</td>\n",
       "    </tr>\n",
       "  </tbody>\n",
       "</table>\n",
       "<p>5 rows × 27 columns</p>\n",
       "</div>"
      ],
      "text/plain": [
       "             충전소명  충전기ID     지역   시군구                                주소  \\\n",
       "31211    (재)문화엑스포     11   경상북도   경주시                  경상북도 경주시 경감로 614   \n",
       "61525     종합사회복지관     12   충청남도   공주시              충청남도 공주시 의당면 의당로 257   \n",
       "96952    해남군청 주차장     12   전라남도   해남군            전라남도 해남군 해남읍 수성리 183-5   \n",
       "118208     롯데 빅마켓      3  서울특별시  영등포구  서울특별시 영등포구 영중로 125, 지상주차장(외부 1F)   \n",
       "174295  이마트 파주운정점     11    경기도   파주시                   경기도 파주시 한울로 123   \n",
       "\n",
       "        충전기용량(kW) 충전기타입          충전시작일시          충전종료일시   충전시간  ...  충전시작_초  \\\n",
       "31211       200.0  DC콤보  20200109145420  20200109145420 0 days  ...      20   \n",
       "61525       200.0  DC콤보  20200114192124  20200114192132 0 days  ...      24   \n",
       "96952       200.0  DC콤보  20200124160600  20200124160601 0 days  ...       0   \n",
       "118208      100.0  DC콤보  20200122012647  20200122012716 0 days  ...      47   \n",
       "174295      200.0  DC콤보  20200107165228  20200107165255 0 days  ...      28   \n",
       "\n",
       "                 충전시작일시(변환)  충전종료_년도  충전종료_월  충전종료_일  충전종료_시  충전종료_분  충전종료_초  \\\n",
       "31211   2020-01-09 14:54:20     2020       1       9      14      54      20   \n",
       "61525   2020-01-14 19:21:24     2020       1      14      19      21      32   \n",
       "96952   2020-01-24 16:06:00     2020       1      24      16       6       1   \n",
       "118208  2020-01-22 01:26:47     2020       1      22       1      27      16   \n",
       "174295  2020-01-07 16:52:28     2020       1       7      16      52      55   \n",
       "\n",
       "                 충전종료일시(변환)        충전시간(계산)  \n",
       "31211   2020-01-09 14:54:20 0 days 00:00:00  \n",
       "61525   2020-01-14 19:21:32 0 days 00:00:08  \n",
       "96952   2020-01-24 16:06:01 0 days 00:00:01  \n",
       "118208  2020-01-22 01:27:16 0 days 00:00:29  \n",
       "174295  2020-01-07 16:52:55 0 days 00:00:27  \n",
       "\n",
       "[5 rows x 27 columns]"
      ]
     },
     "execution_count": 23,
     "metadata": {},
     "output_type": "execute_result"
    }
   ],
   "source": [
    "df2[df2['충전시간'] == '0 days 00:00:00'].head()"
   ]
  },
  {
   "cell_type": "code",
   "execution_count": 24,
   "metadata": {},
   "outputs": [
    {
     "data": {
      "text/plain": [
       "(5702, 27)"
      ]
     },
     "execution_count": 24,
     "metadata": {},
     "output_type": "execute_result"
    }
   ],
   "source": [
    "df2[df2['충전시간'] == '0 days 00:00:00'].shape"
   ]
  },
  {
   "cell_type": "code",
   "execution_count": 25,
   "metadata": {},
   "outputs": [
    {
     "data": {
      "text/plain": [
       "dtype('float64')"
      ]
     },
     "execution_count": 25,
     "metadata": {},
     "output_type": "execute_result"
    }
   ],
   "source": [
    "df2['충전량'].dtype"
   ]
  },
  {
   "cell_type": "code",
   "execution_count": 26,
   "metadata": {},
   "outputs": [
    {
     "data": {
      "text/plain": [
       "0    25.47\n",
       "1    17.57\n",
       "2     6.98\n",
       "3    15.30\n",
       "4    21.92\n",
       "Name: 충전량, dtype: float64"
      ]
     },
     "execution_count": 26,
     "metadata": {},
     "output_type": "execute_result"
    }
   ],
   "source": [
    "df2['충전량'].head()"
   ]
  },
  {
   "cell_type": "code",
   "execution_count": 27,
   "metadata": {},
   "outputs": [
    {
     "data": {
      "text/html": [
       "<div>\n",
       "<style scoped>\n",
       "    .dataframe tbody tr th:only-of-type {\n",
       "        vertical-align: middle;\n",
       "    }\n",
       "\n",
       "    .dataframe tbody tr th {\n",
       "        vertical-align: top;\n",
       "    }\n",
       "\n",
       "    .dataframe thead th {\n",
       "        text-align: right;\n",
       "    }\n",
       "</style>\n",
       "<table border=\"1\" class=\"dataframe\">\n",
       "  <thead>\n",
       "    <tr style=\"text-align: right;\">\n",
       "      <th></th>\n",
       "      <th>충전시간</th>\n",
       "      <th>충전량</th>\n",
       "    </tr>\n",
       "  </thead>\n",
       "  <tbody>\n",
       "    <tr>\n",
       "      <th>31211</th>\n",
       "      <td>0 days</td>\n",
       "      <td>1.18</td>\n",
       "    </tr>\n",
       "    <tr>\n",
       "      <th>61525</th>\n",
       "      <td>0 days</td>\n",
       "      <td>14.58</td>\n",
       "    </tr>\n",
       "    <tr>\n",
       "      <th>96952</th>\n",
       "      <td>0 days</td>\n",
       "      <td>13.33</td>\n",
       "    </tr>\n",
       "    <tr>\n",
       "      <th>118208</th>\n",
       "      <td>0 days</td>\n",
       "      <td>15.79</td>\n",
       "    </tr>\n",
       "    <tr>\n",
       "      <th>174295</th>\n",
       "      <td>0 days</td>\n",
       "      <td>22.51</td>\n",
       "    </tr>\n",
       "    <tr>\n",
       "      <th>...</th>\n",
       "      <td>...</td>\n",
       "      <td>...</td>\n",
       "    </tr>\n",
       "    <tr>\n",
       "      <th>11571988</th>\n",
       "      <td>0 days</td>\n",
       "      <td>18.70</td>\n",
       "    </tr>\n",
       "    <tr>\n",
       "      <th>11572694</th>\n",
       "      <td>0 days</td>\n",
       "      <td>23.41</td>\n",
       "    </tr>\n",
       "    <tr>\n",
       "      <th>11607868</th>\n",
       "      <td>0 days</td>\n",
       "      <td>7.44</td>\n",
       "    </tr>\n",
       "    <tr>\n",
       "      <th>11618047</th>\n",
       "      <td>0 days</td>\n",
       "      <td>4.50</td>\n",
       "    </tr>\n",
       "    <tr>\n",
       "      <th>11619422</th>\n",
       "      <td>0 days</td>\n",
       "      <td>13.48</td>\n",
       "    </tr>\n",
       "  </tbody>\n",
       "</table>\n",
       "<p>5702 rows × 2 columns</p>\n",
       "</div>"
      ],
      "text/plain": [
       "           충전시간    충전량\n",
       "31211    0 days   1.18\n",
       "61525    0 days  14.58\n",
       "96952    0 days  13.33\n",
       "118208   0 days  15.79\n",
       "174295   0 days  22.51\n",
       "...         ...    ...\n",
       "11571988 0 days  18.70\n",
       "11572694 0 days  23.41\n",
       "11607868 0 days   7.44\n",
       "11618047 0 days   4.50\n",
       "11619422 0 days  13.48\n",
       "\n",
       "[5702 rows x 2 columns]"
      ]
     },
     "execution_count": 27,
     "metadata": {},
     "output_type": "execute_result"
    }
   ],
   "source": [
    "df2[ (df2['충전시간'] == '0 days 00:00:00') & (df2['충전량'] != 0) ][['충전시간', '충전량']]"
   ]
  },
  {
   "cell_type": "code",
   "execution_count": 28,
   "metadata": {},
   "outputs": [
    {
     "data": {
      "text/plain": [
       "(5702, 27)"
      ]
     },
     "execution_count": 28,
     "metadata": {},
     "output_type": "execute_result"
    }
   ],
   "source": [
    "df2[ (df2['충전시간'] == '0 days 00:00:00') & (df2['충전량'] != 0) ].shape"
   ]
  },
  {
   "cell_type": "markdown",
   "metadata": {},
   "source": [
    "#### 충전시간(계산) 음수 값 제거\n",
    "- 52366개"
   ]
  },
  {
   "cell_type": "code",
   "execution_count": 29,
   "metadata": {},
   "outputs": [
    {
     "data": {
      "text/plain": [
       "52366"
      ]
     },
     "execution_count": 29,
     "metadata": {},
     "output_type": "execute_result"
    }
   ],
   "source": [
    "n_ch_time_idx = df2[df2['충전시간(계산)'] < '0'].index\n",
    "len(n_ch_time_idx)"
   ]
  },
  {
   "cell_type": "code",
   "execution_count": 30,
   "metadata": {},
   "outputs": [],
   "source": [
    "df2 = df2.drop(n_ch_time_idx)"
   ]
  },
  {
   "cell_type": "code",
   "execution_count": 31,
   "metadata": {},
   "outputs": [
    {
     "data": {
      "text/plain": [
       "count                     11613449\n",
       "mean     0 days 00:33:51.200344617\n",
       "std      0 days 01:19:04.781739278\n",
       "min                0 days 00:00:00\n",
       "25%                0 days 00:20:53\n",
       "50%                0 days 00:34:02\n",
       "75%                0 days 00:40:00\n",
       "max                4 days 03:56:55\n",
       "Name: 충전시간, dtype: object"
      ]
     },
     "execution_count": 31,
     "metadata": {},
     "output_type": "execute_result"
    }
   ],
   "source": [
    "df2['충전시간'].describe()"
   ]
  },
  {
   "cell_type": "code",
   "execution_count": 32,
   "metadata": {},
   "outputs": [
    {
     "data": {
      "text/plain": [
       "count                     11613449\n",
       "mean     0 days 00:34:58.600275335\n",
       "std      0 days 01:23:19.668917229\n",
       "min                0 days 00:00:00\n",
       "25%                0 days 00:21:39\n",
       "50%                0 days 00:34:56\n",
       "75%                0 days 00:40:25\n",
       "max               14 days 08:40:25\n",
       "Name: 충전시간(계산), dtype: object"
      ]
     },
     "execution_count": 32,
     "metadata": {},
     "output_type": "execute_result"
    }
   ],
   "source": [
    "df2['충전시간(계산)'].describe()"
   ]
  },
  {
   "cell_type": "code",
   "execution_count": 33,
   "metadata": {},
   "outputs": [
    {
     "data": {
      "text/plain": [
       "0    0 days 00:40:46\n",
       "1    0 days 00:31:00\n",
       "2    0 days 00:16:01\n",
       "3    0 days 00:44:53\n",
       "4    0 days 00:31:37\n",
       "Name: 충전시간(계산), dtype: object"
      ]
     },
     "execution_count": 33,
     "metadata": {},
     "output_type": "execute_result"
    }
   ],
   "source": [
    "df2['충전시간(계산)'].astype(str)[:5]"
   ]
  },
  {
   "cell_type": "code",
   "execution_count": 34,
   "metadata": {},
   "outputs": [
    {
     "data": {
      "text/plain": [
       "0   0 days 00:40:00\n",
       "1   0 days 00:30:31\n",
       "2   0 days 00:15:35\n",
       "3   0 days 00:41:00\n",
       "4   0 days 00:31:14\n",
       "Name: 충전시간, dtype: timedelta64[ns]"
      ]
     },
     "execution_count": 34,
     "metadata": {},
     "output_type": "execute_result"
    }
   ],
   "source": [
    "df2['충전시간'][:5]"
   ]
  },
  {
   "cell_type": "code",
   "execution_count": 35,
   "metadata": {},
   "outputs": [
    {
     "data": {
      "text/plain": [
       "0    2400\n",
       "1    1831\n",
       "2     935\n",
       "3    2460\n",
       "4    1874\n",
       "Name: 충전시간, dtype: int64"
      ]
     },
     "execution_count": 35,
     "metadata": {},
     "output_type": "execute_result"
    }
   ],
   "source": [
    "df2['충전시간'].dt.seconds[:5]"
   ]
  },
  {
   "cell_type": "code",
   "execution_count": 36,
   "metadata": {},
   "outputs": [
    {
     "data": {
      "text/plain": [
       "count                     11613449\n",
       "mean     0 days 00:01:07.399930718\n",
       "std      0 days 01:01:06.908441070\n",
       "min              -1 days +00:00:23\n",
       "25%                0 days 00:00:00\n",
       "50%                0 days 00:00:13\n",
       "75%                0 days 00:01:42\n",
       "max               14 days 08:32:12\n",
       "dtype: object"
      ]
     },
     "execution_count": 36,
     "metadata": {},
     "output_type": "execute_result"
    }
   ],
   "source": [
    "temp = df2['충전시간(계산)'] - df2['충전시간']\n",
    "temp.describe()"
   ]
  },
  {
   "cell_type": "code",
   "execution_count": 37,
   "metadata": {},
   "outputs": [
    {
     "data": {
      "text/plain": [
       "(817340,)"
      ]
     },
     "execution_count": 37,
     "metadata": {},
     "output_type": "execute_result"
    }
   ],
   "source": [
    "temp[temp < '0'].shape"
   ]
  },
  {
   "cell_type": "code",
   "execution_count": 38,
   "metadata": {},
   "outputs": [],
   "source": [
    "df2['raw값과_계산값_차이'] = df2['충전시간(계산)'] - df2['충전시간']"
   ]
  },
  {
   "cell_type": "code",
   "execution_count": 39,
   "metadata": {},
   "outputs": [
    {
     "data": {
      "text/html": [
       "<div>\n",
       "<style scoped>\n",
       "    .dataframe tbody tr th:only-of-type {\n",
       "        vertical-align: middle;\n",
       "    }\n",
       "\n",
       "    .dataframe tbody tr th {\n",
       "        vertical-align: top;\n",
       "    }\n",
       "\n",
       "    .dataframe thead th {\n",
       "        text-align: right;\n",
       "    }\n",
       "</style>\n",
       "<table border=\"1\" class=\"dataframe\">\n",
       "  <thead>\n",
       "    <tr style=\"text-align: right;\">\n",
       "      <th></th>\n",
       "      <th>충전소명</th>\n",
       "      <th>충전기ID</th>\n",
       "      <th>지역</th>\n",
       "      <th>시군구</th>\n",
       "      <th>주소</th>\n",
       "      <th>충전기용량(kW)</th>\n",
       "      <th>충전기타입</th>\n",
       "      <th>충전시작일시</th>\n",
       "      <th>충전종료일시</th>\n",
       "      <th>충전시간</th>\n",
       "      <th>...</th>\n",
       "      <th>충전시작일시(변환)</th>\n",
       "      <th>충전종료_년도</th>\n",
       "      <th>충전종료_월</th>\n",
       "      <th>충전종료_일</th>\n",
       "      <th>충전종료_시</th>\n",
       "      <th>충전종료_분</th>\n",
       "      <th>충전종료_초</th>\n",
       "      <th>충전종료일시(변환)</th>\n",
       "      <th>충전시간(계산)</th>\n",
       "      <th>raw값과_계산값_차이</th>\n",
       "    </tr>\n",
       "  </thead>\n",
       "  <tbody>\n",
       "    <tr>\n",
       "      <th>8510493</th>\n",
       "      <td>포항실내사격장</td>\n",
       "      <td>11</td>\n",
       "      <td>경상북도</td>\n",
       "      <td>포항시</td>\n",
       "      <td>경상북도 포항시 북구 용흥동 4-9</td>\n",
       "      <td>NaN</td>\n",
       "      <td>DC콤보</td>\n",
       "      <td>20220305094551</td>\n",
       "      <td>20220319182616</td>\n",
       "      <td>0 days 00:08:13</td>\n",
       "      <td>...</td>\n",
       "      <td>2022-03-05 09:45:51</td>\n",
       "      <td>2022</td>\n",
       "      <td>3</td>\n",
       "      <td>19</td>\n",
       "      <td>18</td>\n",
       "      <td>26</td>\n",
       "      <td>16</td>\n",
       "      <td>2022-03-19 18:26:16</td>\n",
       "      <td>14 days 08:40:25</td>\n",
       "      <td>14 days 08:32:12</td>\n",
       "    </tr>\n",
       "  </tbody>\n",
       "</table>\n",
       "<p>1 rows × 28 columns</p>\n",
       "</div>"
      ],
      "text/plain": [
       "            충전소명  충전기ID    지역  시군구                   주소  충전기용량(kW) 충전기타입  \\\n",
       "8510493  포항실내사격장     11  경상북도  포항시  경상북도 포항시 북구 용흥동 4-9        NaN  DC콤보   \n",
       "\n",
       "                 충전시작일시          충전종료일시            충전시간  ...  \\\n",
       "8510493  20220305094551  20220319182616 0 days 00:08:13  ...   \n",
       "\n",
       "                  충전시작일시(변환) 충전종료_년도  충전종료_월  충전종료_일  충전종료_시  충전종료_분  충전종료_초  \\\n",
       "8510493  2022-03-05 09:45:51    2022       3      19      18      26      16   \n",
       "\n",
       "                  충전종료일시(변환)         충전시간(계산)     raw값과_계산값_차이  \n",
       "8510493  2022-03-19 18:26:16 14 days 08:40:25 14 days 08:32:12  \n",
       "\n",
       "[1 rows x 28 columns]"
      ]
     },
     "execution_count": 39,
     "metadata": {},
     "output_type": "execute_result"
    }
   ],
   "source": [
    "df2[df2['raw값과_계산값_차이'] > '14 days']"
   ]
  },
  {
   "cell_type": "code",
   "execution_count": 40,
   "metadata": {},
   "outputs": [],
   "source": [
    "# df2 = df2.drop(['raw값과_계산값_차이'], axis=1)"
   ]
  },
  {
   "cell_type": "code",
   "execution_count": 41,
   "metadata": {},
   "outputs": [
    {
     "name": "stdout",
     "output_type": "stream",
     "text": [
      "<class 'pandas.core.frame.DataFrame'>\n",
      "Int64Index: 11613449 entries, 0 to 11665821\n",
      "Data columns (total 28 columns):\n",
      " #   Column        Dtype          \n",
      "---  ------        -----          \n",
      " 0   충전소명          object         \n",
      " 1   충전기ID         int64          \n",
      " 2   지역            object         \n",
      " 3   시군구           object         \n",
      " 4   주소            object         \n",
      " 5   충전기용량(kW)     float64        \n",
      " 6   충전기타입         object         \n",
      " 7   충전시작일시        int64          \n",
      " 8   충전종료일시        int64          \n",
      " 9   충전시간          timedelta64[ns]\n",
      " 10  충전량           float64        \n",
      " 11  충전용량          object         \n",
      " 12  충전시작_년도       int64          \n",
      " 13  충전시작_월        int64          \n",
      " 14  충전시작_일        int64          \n",
      " 15  충전시작_시        int64          \n",
      " 16  충전시작_분        int64          \n",
      " 17  충전시작_초        int64          \n",
      " 18  충전시작일시(변환)    object         \n",
      " 19  충전종료_년도       int64          \n",
      " 20  충전종료_월        int64          \n",
      " 21  충전종료_일        int64          \n",
      " 22  충전종료_시        int64          \n",
      " 23  충전종료_분        int64          \n",
      " 24  충전종료_초        int64          \n",
      " 25  충전종료일시(변환)    object         \n",
      " 26  충전시간(계산)      timedelta64[ns]\n",
      " 27  raw값과_계산값_차이  timedelta64[ns]\n",
      "dtypes: float64(2), int64(15), object(8), timedelta64[ns](3)\n",
      "memory usage: 2.5+ GB\n"
     ]
    }
   ],
   "source": [
    "df2.info()"
   ]
  },
  {
   "cell_type": "code",
   "execution_count": 44,
   "metadata": {},
   "outputs": [
    {
     "name": "stdout",
     "output_type": "stream",
     "text": [
      "<class 'pandas.core.frame.DataFrame'>\n",
      "Int64Index: 11613449 entries, 0 to 11665821\n",
      "Data columns (total 14 columns):\n",
      " #   Column     Dtype          \n",
      "---  ------     -----          \n",
      " 0   충전소명       object         \n",
      " 1   충전기ID      int64          \n",
      " 2   지역         object         \n",
      " 3   시군구        object         \n",
      " 4   주소         object         \n",
      " 5   충전기용량(kW)  float64        \n",
      " 6   충전기타입      object         \n",
      " 7   충전시작일시     int64          \n",
      " 8   충전종료일시     int64          \n",
      " 9   충전시간       timedelta64[ns]\n",
      " 10  충전량        float64        \n",
      " 11  충전용량       object         \n",
      " 12  충전시작_년도    int64          \n",
      " 13  충전시작_월     int64          \n",
      "dtypes: float64(2), int64(5), object(6), timedelta64[ns](1)\n",
      "memory usage: 1.3+ GB\n"
     ]
    }
   ],
   "source": [
    "df2.iloc[:, :14].info()"
   ]
  },
  {
   "cell_type": "code",
   "execution_count": 45,
   "metadata": {},
   "outputs": [
    {
     "name": "stdout",
     "output_type": "stream",
     "text": [
      "<class 'pandas.core.frame.DataFrame'>\n",
      "Int64Index: 11613449 entries, 0 to 11665821\n",
      "Data columns (total 14 columns):\n",
      " #   Column        Dtype          \n",
      "---  ------        -----          \n",
      " 0   충전시작_일        int64          \n",
      " 1   충전시작_시        int64          \n",
      " 2   충전시작_분        int64          \n",
      " 3   충전시작_초        int64          \n",
      " 4   충전시작일시(변환)    object         \n",
      " 5   충전종료_년도       int64          \n",
      " 6   충전종료_월        int64          \n",
      " 7   충전종료_일        int64          \n",
      " 8   충전종료_시        int64          \n",
      " 9   충전종료_분        int64          \n",
      " 10  충전종료_초        int64          \n",
      " 11  충전종료일시(변환)    object         \n",
      " 12  충전시간(계산)      timedelta64[ns]\n",
      " 13  raw값과_계산값_차이  timedelta64[ns]\n",
      "dtypes: int64(10), object(2), timedelta64[ns](2)\n",
      "memory usage: 1.3+ GB\n"
     ]
    }
   ],
   "source": [
    "df2.iloc[:, 14:].info()"
   ]
  },
  {
   "cell_type": "markdown",
   "metadata": {},
   "source": [
    "### 데이터 절약"
   ]
  },
  {
   "cell_type": "code",
   "execution_count": 47,
   "metadata": {},
   "outputs": [],
   "source": [
    "pd.options.display.float_format = '{:.5f}'.format"
   ]
  },
  {
   "cell_type": "code",
   "execution_count": 49,
   "metadata": {},
   "outputs": [
    {
     "data": {
      "text/html": [
       "<div>\n",
       "<style scoped>\n",
       "    .dataframe tbody tr th:only-of-type {\n",
       "        vertical-align: middle;\n",
       "    }\n",
       "\n",
       "    .dataframe tbody tr th {\n",
       "        vertical-align: top;\n",
       "    }\n",
       "\n",
       "    .dataframe thead th {\n",
       "        text-align: right;\n",
       "    }\n",
       "</style>\n",
       "<table border=\"1\" class=\"dataframe\">\n",
       "  <thead>\n",
       "    <tr style=\"text-align: right;\">\n",
       "      <th></th>\n",
       "      <th>충전시작_년도</th>\n",
       "      <th>충전시작_월</th>\n",
       "      <th>충전시작_일</th>\n",
       "      <th>충전시작_시</th>\n",
       "      <th>충전시작_분</th>\n",
       "      <th>충전시작_초</th>\n",
       "      <th>충전종료_년도</th>\n",
       "      <th>충전종료_월</th>\n",
       "      <th>충전종료_일</th>\n",
       "      <th>충전종료_시</th>\n",
       "      <th>충전종료_분</th>\n",
       "      <th>충전종료_초</th>\n",
       "    </tr>\n",
       "  </thead>\n",
       "  <tbody>\n",
       "    <tr>\n",
       "      <th>count</th>\n",
       "      <td>11613449.00000</td>\n",
       "      <td>11613449.00000</td>\n",
       "      <td>11613449.00000</td>\n",
       "      <td>11613449.00000</td>\n",
       "      <td>11613449.00000</td>\n",
       "      <td>11613449.00000</td>\n",
       "      <td>11613449.00000</td>\n",
       "      <td>11613449.00000</td>\n",
       "      <td>11613449.00000</td>\n",
       "      <td>11613449.00000</td>\n",
       "      <td>11613449.00000</td>\n",
       "      <td>11613449.00000</td>\n",
       "    </tr>\n",
       "    <tr>\n",
       "      <th>mean</th>\n",
       "      <td>2021.16059</td>\n",
       "      <td>6.20425</td>\n",
       "      <td>15.80842</td>\n",
       "      <td>13.72640</td>\n",
       "      <td>29.47740</td>\n",
       "      <td>29.49963</td>\n",
       "      <td>2021.16062</td>\n",
       "      <td>6.20430</td>\n",
       "      <td>15.80841</td>\n",
       "      <td>14.01221</td>\n",
       "      <td>29.54277</td>\n",
       "      <td>29.45744</td>\n",
       "    </tr>\n",
       "    <tr>\n",
       "      <th>std</th>\n",
       "      <td>0.77937</td>\n",
       "      <td>3.33015</td>\n",
       "      <td>8.80106</td>\n",
       "      <td>4.95829</td>\n",
       "      <td>17.33414</td>\n",
       "      <td>17.31996</td>\n",
       "      <td>0.77937</td>\n",
       "      <td>3.33017</td>\n",
       "      <td>8.80110</td>\n",
       "      <td>5.07576</td>\n",
       "      <td>17.34527</td>\n",
       "      <td>17.33907</td>\n",
       "    </tr>\n",
       "    <tr>\n",
       "      <th>min</th>\n",
       "      <td>2020.00000</td>\n",
       "      <td>1.00000</td>\n",
       "      <td>1.00000</td>\n",
       "      <td>0.00000</td>\n",
       "      <td>0.00000</td>\n",
       "      <td>0.00000</td>\n",
       "      <td>2020.00000</td>\n",
       "      <td>1.00000</td>\n",
       "      <td>1.00000</td>\n",
       "      <td>0.00000</td>\n",
       "      <td>0.00000</td>\n",
       "      <td>0.00000</td>\n",
       "    </tr>\n",
       "    <tr>\n",
       "      <th>25%</th>\n",
       "      <td>2021.00000</td>\n",
       "      <td>3.00000</td>\n",
       "      <td>8.00000</td>\n",
       "      <td>10.00000</td>\n",
       "      <td>14.00000</td>\n",
       "      <td>14.00000</td>\n",
       "      <td>2021.00000</td>\n",
       "      <td>3.00000</td>\n",
       "      <td>8.00000</td>\n",
       "      <td>11.00000</td>\n",
       "      <td>15.00000</td>\n",
       "      <td>14.00000</td>\n",
       "    </tr>\n",
       "    <tr>\n",
       "      <th>50%</th>\n",
       "      <td>2021.00000</td>\n",
       "      <td>6.00000</td>\n",
       "      <td>16.00000</td>\n",
       "      <td>14.00000</td>\n",
       "      <td>29.00000</td>\n",
       "      <td>29.00000</td>\n",
       "      <td>2021.00000</td>\n",
       "      <td>6.00000</td>\n",
       "      <td>16.00000</td>\n",
       "      <td>14.00000</td>\n",
       "      <td>30.00000</td>\n",
       "      <td>29.00000</td>\n",
       "    </tr>\n",
       "    <tr>\n",
       "      <th>75%</th>\n",
       "      <td>2022.00000</td>\n",
       "      <td>9.00000</td>\n",
       "      <td>23.00000</td>\n",
       "      <td>17.00000</td>\n",
       "      <td>45.00000</td>\n",
       "      <td>45.00000</td>\n",
       "      <td>2022.00000</td>\n",
       "      <td>9.00000</td>\n",
       "      <td>23.00000</td>\n",
       "      <td>18.00000</td>\n",
       "      <td>45.00000</td>\n",
       "      <td>44.00000</td>\n",
       "    </tr>\n",
       "    <tr>\n",
       "      <th>max</th>\n",
       "      <td>2022.00000</td>\n",
       "      <td>12.00000</td>\n",
       "      <td>31.00000</td>\n",
       "      <td>23.00000</td>\n",
       "      <td>59.00000</td>\n",
       "      <td>59.00000</td>\n",
       "      <td>2022.00000</td>\n",
       "      <td>12.00000</td>\n",
       "      <td>31.00000</td>\n",
       "      <td>23.00000</td>\n",
       "      <td>59.00000</td>\n",
       "      <td>59.00000</td>\n",
       "    </tr>\n",
       "  </tbody>\n",
       "</table>\n",
       "</div>"
      ],
      "text/plain": [
       "             충전시작_년도         충전시작_월         충전시작_일         충전시작_시  \\\n",
       "count 11613449.00000 11613449.00000 11613449.00000 11613449.00000   \n",
       "mean      2021.16059        6.20425       15.80842       13.72640   \n",
       "std          0.77937        3.33015        8.80106        4.95829   \n",
       "min       2020.00000        1.00000        1.00000        0.00000   \n",
       "25%       2021.00000        3.00000        8.00000       10.00000   \n",
       "50%       2021.00000        6.00000       16.00000       14.00000   \n",
       "75%       2022.00000        9.00000       23.00000       17.00000   \n",
       "max       2022.00000       12.00000       31.00000       23.00000   \n",
       "\n",
       "              충전시작_분         충전시작_초        충전종료_년도         충전종료_월  \\\n",
       "count 11613449.00000 11613449.00000 11613449.00000 11613449.00000   \n",
       "mean        29.47740       29.49963     2021.16062        6.20430   \n",
       "std         17.33414       17.31996        0.77937        3.33017   \n",
       "min          0.00000        0.00000     2020.00000        1.00000   \n",
       "25%         14.00000       14.00000     2021.00000        3.00000   \n",
       "50%         29.00000       29.00000     2021.00000        6.00000   \n",
       "75%         45.00000       45.00000     2022.00000        9.00000   \n",
       "max         59.00000       59.00000     2022.00000       12.00000   \n",
       "\n",
       "              충전종료_일         충전종료_시         충전종료_분         충전종료_초  \n",
       "count 11613449.00000 11613449.00000 11613449.00000 11613449.00000  \n",
       "mean        15.80841       14.01221       29.54277       29.45744  \n",
       "std          8.80110        5.07576       17.34527       17.33907  \n",
       "min          1.00000        0.00000        0.00000        0.00000  \n",
       "25%          8.00000       11.00000       15.00000       14.00000  \n",
       "50%         16.00000       14.00000       30.00000       29.00000  \n",
       "75%         23.00000       18.00000       45.00000       44.00000  \n",
       "max         31.00000       23.00000       59.00000       59.00000  "
      ]
     },
     "execution_count": 49,
     "metadata": {},
     "output_type": "execute_result"
    }
   ],
   "source": [
    "time_cols = ['충전시작_년도', '충전시작_월',  '충전시작_일', '충전시작_시', '충전시작_분', '충전시작_초', '충전종료_년도', '충전종료_월', '충전종료_일', '충전종료_시', '충전종료_분', '충전종료_초']\n",
    "df2[time_cols].describe()"
   ]
  },
  {
   "cell_type": "code",
   "execution_count": 53,
   "metadata": {},
   "outputs": [],
   "source": [
    "df2[['충전시작_년도', '충전종료_년도']] = df2[['충전시작_년도', '충전종료_년도']].astype('int16')"
   ]
  },
  {
   "cell_type": "code",
   "execution_count": 54,
   "metadata": {},
   "outputs": [
    {
     "name": "stdout",
     "output_type": "stream",
     "text": [
      "<class 'pandas.core.frame.DataFrame'>\n",
      "Int64Index: 11613449 entries, 0 to 11665821\n",
      "Data columns (total 2 columns):\n",
      " #   Column   Dtype\n",
      "---  ------   -----\n",
      " 0   충전시작_년도  int16\n",
      " 1   충전종료_년도  int16\n",
      "dtypes: int16(2)\n",
      "memory usage: 132.9 MB\n"
     ]
    }
   ],
   "source": [
    "df2[['충전시작_년도', '충전종료_년도']].info()"
   ]
  },
  {
   "cell_type": "code",
   "execution_count": 55,
   "metadata": {},
   "outputs": [
    {
     "name": "stdout",
     "output_type": "stream",
     "text": [
      "<class 'pandas.core.frame.DataFrame'>\n",
      "Int64Index: 11613449 entries, 0 to 11665821\n",
      "Data columns (total 10 columns):\n",
      " #   Column  Dtype\n",
      "---  ------  -----\n",
      " 0   충전시작_월  int64\n",
      " 1   충전시작_일  int64\n",
      " 2   충전시작_시  int64\n",
      " 3   충전시작_분  int64\n",
      " 4   충전시작_초  int64\n",
      " 5   충전종료_월  int64\n",
      " 6   충전종료_일  int64\n",
      " 7   충전종료_시  int64\n",
      " 8   충전종료_분  int64\n",
      " 9   충전종료_초  int64\n",
      "dtypes: int64(10)\n",
      "memory usage: 974.6 MB\n"
     ]
    }
   ],
   "source": [
    "df2[['충전시작_월',  '충전시작_일', '충전시작_시', '충전시작_분', '충전시작_초', '충전종료_월', '충전종료_일', '충전종료_시', '충전종료_분', '충전종료_초']].info()"
   ]
  },
  {
   "cell_type": "code",
   "execution_count": 57,
   "metadata": {},
   "outputs": [
    {
     "name": "stdout",
     "output_type": "stream",
     "text": [
      "<class 'pandas.core.frame.DataFrame'>\n",
      "Int64Index: 11613449 entries, 0 to 11665821\n",
      "Data columns (total 10 columns):\n",
      " #   Column  Dtype\n",
      "---  ------  -----\n",
      " 0   충전시작_월  int8 \n",
      " 1   충전시작_일  int8 \n",
      " 2   충전시작_시  int8 \n",
      " 3   충전시작_분  int8 \n",
      " 4   충전시작_초  int8 \n",
      " 5   충전종료_월  int8 \n",
      " 6   충전종료_일  int8 \n",
      " 7   충전종료_시  int8 \n",
      " 8   충전종료_분  int8 \n",
      " 9   충전종료_초  int8 \n",
      "dtypes: int8(10)\n",
      "memory usage: 199.4 MB\n"
     ]
    }
   ],
   "source": [
    "df2[['충전시작_월',  '충전시작_일', '충전시작_시', '충전시작_분', '충전시작_초', '충전종료_월', '충전종료_일', '충전종료_시', '충전종료_분', '충전종료_초']] = df2[['충전시작_월',  '충전시작_일', '충전시작_시', '충전시작_분', '충전시작_초', '충전종료_월', '충전종료_일', '충전종료_시', '충전종료_분', '충전종료_초']].astype('int8')\n",
    "df2[['충전시작_월',  '충전시작_일', '충전시작_시', '충전시작_분', '충전시작_초', '충전종료_월', '충전종료_일', '충전종료_시', '충전종료_분', '충전종료_초']].info()"
   ]
  },
  {
   "cell_type": "code",
   "execution_count": 59,
   "metadata": {},
   "outputs": [
    {
     "name": "stdout",
     "output_type": "stream",
     "text": [
      "<class 'pandas.core.frame.DataFrame'>\n",
      "Int64Index: 11613449 entries, 0 to 11665821\n",
      "Data columns (total 28 columns):\n",
      " #   Column        Dtype          \n",
      "---  ------        -----          \n",
      " 0   충전소명          object         \n",
      " 1   충전기ID         int64          \n",
      " 2   지역            object         \n",
      " 3   시군구           object         \n",
      " 4   주소            object         \n",
      " 5   충전기용량(kW)     float64        \n",
      " 6   충전기타입         object         \n",
      " 7   충전시작일시        int64          \n",
      " 8   충전종료일시        int64          \n",
      " 9   충전시간          timedelta64[ns]\n",
      " 10  충전량           float64        \n",
      " 11  충전용량          object         \n",
      " 12  충전시작_년도       int16          \n",
      " 13  충전시작_월        int8           \n",
      " 14  충전시작_일        int8           \n",
      " 15  충전시작_시        int8           \n",
      " 16  충전시작_분        int8           \n",
      " 17  충전시작_초        int8           \n",
      " 18  충전시작일시(변환)    object         \n",
      " 19  충전종료_년도       int16          \n",
      " 20  충전종료_월        int8           \n",
      " 21  충전종료_일        int8           \n",
      " 22  충전종료_시        int8           \n",
      " 23  충전종료_분        int8           \n",
      " 24  충전종료_초        int8           \n",
      " 25  충전종료일시(변환)    object         \n",
      " 26  충전시간(계산)      timedelta64[ns]\n",
      " 27  raw값과_계산값_차이  timedelta64[ns]\n",
      "dtypes: float64(2), int16(2), int64(3), int8(10), object(8), timedelta64[ns](3)\n",
      "memory usage: 1.6+ GB\n"
     ]
    }
   ],
   "source": [
    "df2.info()"
   ]
  },
  {
   "cell_type": "code",
   "execution_count": 61,
   "metadata": {},
   "outputs": [
    {
     "data": {
      "text/plain": [
       "count   11613449.00000\n",
       "mean           8.59347\n",
       "std           15.08407\n",
       "min            1.00000\n",
       "25%            1.00000\n",
       "50%            1.00000\n",
       "75%           12.00000\n",
       "max           98.00000\n",
       "Name: 충전기ID, dtype: float64"
      ]
     },
     "execution_count": 61,
     "metadata": {},
     "output_type": "execute_result"
    }
   ],
   "source": [
    "df2['충전기ID'].describe()"
   ]
  },
  {
   "cell_type": "code",
   "execution_count": 62,
   "metadata": {},
   "outputs": [
    {
     "name": "stdout",
     "output_type": "stream",
     "text": [
      "<class 'pandas.core.series.Series'>\n",
      "Int64Index: 11613449 entries, 0 to 11665821\n",
      "Series name: 충전기ID\n",
      "Non-Null Count     Dtype\n",
      "--------------     -----\n",
      "11613449 non-null  int64\n",
      "dtypes: int64(1)\n",
      "memory usage: 177.2 MB\n"
     ]
    }
   ],
   "source": [
    "df2['충전기ID'].info()"
   ]
  },
  {
   "cell_type": "code",
   "execution_count": 63,
   "metadata": {},
   "outputs": [
    {
     "name": "stdout",
     "output_type": "stream",
     "text": [
      "<class 'pandas.core.series.Series'>\n",
      "Int64Index: 11613449 entries, 0 to 11665821\n",
      "Series name: 충전기ID\n",
      "Non-Null Count     Dtype\n",
      "--------------     -----\n",
      "11613449 non-null  int16\n",
      "dtypes: int16(1)\n",
      "memory usage: 110.8 MB\n"
     ]
    }
   ],
   "source": [
    "df2['충전기ID'] = df2['충전기ID'].astype('int16')\n",
    "df2['충전기ID'].info()"
   ]
  },
  {
   "cell_type": "code",
   "execution_count": 64,
   "metadata": {},
   "outputs": [
    {
     "data": {
      "text/plain": [
       "count                     11613449\n",
       "mean     0 days 00:33:51.200344617\n",
       "std      0 days 01:19:04.781739278\n",
       "min                0 days 00:00:00\n",
       "25%                0 days 00:20:53\n",
       "50%                0 days 00:34:02\n",
       "75%                0 days 00:40:00\n",
       "max                4 days 03:56:55\n",
       "Name: 충전시간, dtype: object"
      ]
     },
     "execution_count": 64,
     "metadata": {},
     "output_type": "execute_result"
    }
   ],
   "source": [
    "df2['충전시간'].describe()"
   ]
  },
  {
   "cell_type": "code",
   "execution_count": 65,
   "metadata": {},
   "outputs": [
    {
     "name": "stdout",
     "output_type": "stream",
     "text": [
      "<class 'pandas.core.frame.DataFrame'>\n",
      "Int64Index: 11613449 entries, 0 to 11665821\n",
      "Data columns (total 28 columns):\n",
      " #   Column        Dtype          \n",
      "---  ------        -----          \n",
      " 0   충전소명          object         \n",
      " 1   충전기ID         int16          \n",
      " 2   지역            object         \n",
      " 3   시군구           object         \n",
      " 4   주소            object         \n",
      " 5   충전기용량(kW)     float64        \n",
      " 6   충전기타입         object         \n",
      " 7   충전시작일시        int64          \n",
      " 8   충전종료일시        int64          \n",
      " 9   충전시간          timedelta64[ns]\n",
      " 10  충전량           float64        \n",
      " 11  충전용량          object         \n",
      " 12  충전시작_년도       int16          \n",
      " 13  충전시작_월        int8           \n",
      " 14  충전시작_일        int8           \n",
      " 15  충전시작_시        int8           \n",
      " 16  충전시작_분        int8           \n",
      " 17  충전시작_초        int8           \n",
      " 18  충전시작일시(변환)    object         \n",
      " 19  충전종료_년도       int16          \n",
      " 20  충전종료_월        int8           \n",
      " 21  충전종료_일        int8           \n",
      " 22  충전종료_시        int8           \n",
      " 23  충전종료_분        int8           \n",
      " 24  충전종료_초        int8           \n",
      " 25  충전종료일시(변환)    object         \n",
      " 26  충전시간(계산)      timedelta64[ns]\n",
      " 27  raw값과_계산값_차이  timedelta64[ns]\n",
      "dtypes: float64(2), int16(3), int64(2), int8(10), object(8), timedelta64[ns](3)\n",
      "memory usage: 1.6+ GB\n"
     ]
    }
   ],
   "source": [
    "df2.info()"
   ]
  },
  {
   "cell_type": "code",
   "execution_count": 73,
   "metadata": {},
   "outputs": [
    {
     "name": "stdout",
     "output_type": "stream",
     "text": [
      "<class 'pandas.core.frame.DataFrame'>\n",
      "Int64Index: 11613449 entries, 0 to 11665821\n",
      "Data columns (total 27 columns):\n",
      " #   Column        Dtype          \n",
      "---  ------        -----          \n",
      " 0   충전소명          object         \n",
      " 1   충전기ID         int16          \n",
      " 2   지역            object         \n",
      " 3   시군구           object         \n",
      " 4   주소            object         \n",
      " 5   충전기타입         object         \n",
      " 6   충전시작일시        int64          \n",
      " 7   충전종료일시        int64          \n",
      " 8   충전시간          timedelta64[ns]\n",
      " 9   충전량           float64        \n",
      " 10  충전용량          object         \n",
      " 11  충전시작_년도       int16          \n",
      " 12  충전시작_월        int8           \n",
      " 13  충전시작_일        int8           \n",
      " 14  충전시작_시        int8           \n",
      " 15  충전시작_분        int8           \n",
      " 16  충전시작_초        int8           \n",
      " 17  충전시작일시(변환)    object         \n",
      " 18  충전종료_년도       int16          \n",
      " 19  충전종료_월        int8           \n",
      " 20  충전종료_일        int8           \n",
      " 21  충전종료_시        int8           \n",
      " 22  충전종료_분        int8           \n",
      " 23  충전종료_초        int8           \n",
      " 24  충전종료일시(변환)    object         \n",
      " 25  충전시간(계산)      timedelta64[ns]\n",
      " 26  raw값과_계산값_차이  timedelta64[ns]\n",
      "dtypes: float64(1), int16(3), int64(2), int8(10), object(8), timedelta64[ns](3)\n",
      "memory usage: 1.5+ GB\n"
     ]
    }
   ],
   "source": [
    "df2 = df2.drop(['충전기용량(kW)'], axis=1)\n",
    "df2.info()"
   ]
  },
  {
   "cell_type": "markdown",
   "metadata": {},
   "source": [
    "#### 충전시간 정리 파일로 출력"
   ]
  },
  {
   "cell_type": "code",
   "execution_count": 90,
   "metadata": {},
   "outputs": [],
   "source": [
    "df2.to_csv('2020-22년_급속충전-충전시간정리.csv', encoding='utf-8')"
   ]
  },
  {
   "cell_type": "code",
   "execution_count": 93,
   "metadata": {},
   "outputs": [],
   "source": [
    "# df2.to_excel('2020-22년_급속충전-충전시간정리.xlsx', encoding='utf-8') # error : 파일 너무 커서 저장 실패"
   ]
  },
  {
   "cell_type": "markdown",
   "metadata": {},
   "source": [
    "##### 충전시간 정리 파일 로드(다시 시작)"
   ]
  },
  {
   "cell_type": "code",
   "execution_count": 24,
   "metadata": {},
   "outputs": [
    {
     "name": "stderr",
     "output_type": "stream",
     "text": [
      "C:\\Users\\kbj\\AppData\\Local\\Temp\\ipykernel_15028\\3254198657.py:1: DtypeWarning: Columns (11) have mixed types. Specify dtype option on import or set low_memory=False.\n",
      "  df2 = pd.read_csv('2020-22년_급속충전-충전시간정리.csv', index_col=0)\n"
     ]
    },
    {
     "name": "stdout",
     "output_type": "stream",
     "text": [
      "<class 'pandas.core.frame.DataFrame'>\n",
      "Int64Index: 11613449 entries, 0 to 11665821\n",
      "Data columns (total 27 columns):\n",
      " #   Column        Dtype  \n",
      "---  ------        -----  \n",
      " 0   충전소명          object \n",
      " 1   충전기ID         int64  \n",
      " 2   지역            object \n",
      " 3   시군구           object \n",
      " 4   주소            object \n",
      " 5   충전기타입         object \n",
      " 6   충전시작일시        int64  \n",
      " 7   충전종료일시        int64  \n",
      " 8   충전시간          object \n",
      " 9   충전량           float64\n",
      " 10  충전용량          object \n",
      " 11  충전시작_년도       int64  \n",
      " 12  충전시작_월        int64  \n",
      " 13  충전시작_일        int64  \n",
      " 14  충전시작_시        int64  \n",
      " 15  충전시작_분        int64  \n",
      " 16  충전시작_초        int64  \n",
      " 17  충전시작일시(변환)    object \n",
      " 18  충전종료_년도       int64  \n",
      " 19  충전종료_월        int64  \n",
      " 20  충전종료_일        int64  \n",
      " 21  충전종료_시        int64  \n",
      " 22  충전종료_분        int64  \n",
      " 23  충전종료_초        int64  \n",
      " 24  충전종료일시(변환)    object \n",
      " 25  충전시간(계산)      object \n",
      " 26  raw값과_계산값_차이  object \n",
      "dtypes: float64(1), int64(15), object(11)\n",
      "memory usage: 2.4+ GB\n"
     ]
    }
   ],
   "source": [
    "df2 = pd.read_csv('2020-22년_급속충전-충전시간정리.csv', index_col=0)\n",
    "df2.info()"
   ]
  },
  {
   "cell_type": "markdown",
   "metadata": {},
   "source": [
    "### 지역별 충전시간, 충전량 통계\n",
    "- 총 충전시간, 총 충전량"
   ]
  },
  {
   "cell_type": "code",
   "execution_count": 289,
   "metadata": {},
   "outputs": [
    {
     "data": {
      "text/plain": [
       "지역\n",
       "강원도       19394 days 08:15:45\n",
       "경기도       44943 days 22:18:50\n",
       "경상남도      19393 days 17:46:57\n",
       "경상북도      32622 days 19:07:20\n",
       "광주광역시      5026 days 00:52:54\n",
       "대구광역시      8859 days 12:04:57\n",
       "대전광역시      7934 days 13:38:40\n",
       "부산광역시      6641 days 06:56:50\n",
       "서울특별시     20686 days 09:17:13\n",
       "세종특별자치시    1547 days 10:32:37\n",
       "울산광역시      5049 days 12:17:23\n",
       "인천광역시     11199 days 13:48:21\n",
       "전라남도      15529 days 21:19:46\n",
       "전라북도      16610 days 18:03:36\n",
       "제주특별자치도   16986 days 01:29:37\n",
       "충청남도      21601 days 11:59:59\n",
       "충청북도      18996 days 07:16:06\n",
       "Name: 충전시간, dtype: timedelta64[ns]"
      ]
     },
     "execution_count": 289,
     "metadata": {},
     "output_type": "execute_result"
    }
   ],
   "source": [
    "ch_time_day_by_local = df2.groupby(['지역'])['충전시간'].sum()\n",
    "ch_time_day_by_local"
   ]
  },
  {
   "cell_type": "code",
   "execution_count": 290,
   "metadata": {},
   "outputs": [
    {
     "data": {
      "text/html": [
       "<div>\n",
       "<style scoped>\n",
       "    .dataframe tbody tr th:only-of-type {\n",
       "        vertical-align: middle;\n",
       "    }\n",
       "\n",
       "    .dataframe tbody tr th {\n",
       "        vertical-align: top;\n",
       "    }\n",
       "\n",
       "    .dataframe thead th {\n",
       "        text-align: right;\n",
       "    }\n",
       "</style>\n",
       "<table border=\"1\" class=\"dataframe\">\n",
       "  <thead>\n",
       "    <tr style=\"text-align: right;\">\n",
       "      <th></th>\n",
       "      <th>충전시간</th>\n",
       "    </tr>\n",
       "    <tr>\n",
       "      <th>지역</th>\n",
       "      <th></th>\n",
       "    </tr>\n",
       "  </thead>\n",
       "  <tbody>\n",
       "    <tr>\n",
       "      <th>강원도</th>\n",
       "      <td>19394 days 08:15:45</td>\n",
       "    </tr>\n",
       "    <tr>\n",
       "      <th>경기도</th>\n",
       "      <td>44943 days 22:18:50</td>\n",
       "    </tr>\n",
       "    <tr>\n",
       "      <th>경상남도</th>\n",
       "      <td>19393 days 17:46:57</td>\n",
       "    </tr>\n",
       "    <tr>\n",
       "      <th>경상북도</th>\n",
       "      <td>32622 days 19:07:20</td>\n",
       "    </tr>\n",
       "    <tr>\n",
       "      <th>광주광역시</th>\n",
       "      <td>5026 days 00:52:54</td>\n",
       "    </tr>\n",
       "    <tr>\n",
       "      <th>대구광역시</th>\n",
       "      <td>8859 days 12:04:57</td>\n",
       "    </tr>\n",
       "    <tr>\n",
       "      <th>대전광역시</th>\n",
       "      <td>7934 days 13:38:40</td>\n",
       "    </tr>\n",
       "    <tr>\n",
       "      <th>부산광역시</th>\n",
       "      <td>6641 days 06:56:50</td>\n",
       "    </tr>\n",
       "    <tr>\n",
       "      <th>서울특별시</th>\n",
       "      <td>20686 days 09:17:13</td>\n",
       "    </tr>\n",
       "    <tr>\n",
       "      <th>세종특별자치시</th>\n",
       "      <td>1547 days 10:32:37</td>\n",
       "    </tr>\n",
       "    <tr>\n",
       "      <th>울산광역시</th>\n",
       "      <td>5049 days 12:17:23</td>\n",
       "    </tr>\n",
       "    <tr>\n",
       "      <th>인천광역시</th>\n",
       "      <td>11199 days 13:48:21</td>\n",
       "    </tr>\n",
       "    <tr>\n",
       "      <th>전라남도</th>\n",
       "      <td>15529 days 21:19:46</td>\n",
       "    </tr>\n",
       "    <tr>\n",
       "      <th>전라북도</th>\n",
       "      <td>16610 days 18:03:36</td>\n",
       "    </tr>\n",
       "    <tr>\n",
       "      <th>제주특별자치도</th>\n",
       "      <td>16986 days 01:29:37</td>\n",
       "    </tr>\n",
       "    <tr>\n",
       "      <th>충청남도</th>\n",
       "      <td>21601 days 11:59:59</td>\n",
       "    </tr>\n",
       "    <tr>\n",
       "      <th>충청북도</th>\n",
       "      <td>18996 days 07:16:06</td>\n",
       "    </tr>\n",
       "  </tbody>\n",
       "</table>\n",
       "</div>"
      ],
      "text/plain": [
       "                       충전시간\n",
       "지역                         \n",
       "강원도     19394 days 08:15:45\n",
       "경기도     44943 days 22:18:50\n",
       "경상남도    19393 days 17:46:57\n",
       "경상북도    32622 days 19:07:20\n",
       "광주광역시    5026 days 00:52:54\n",
       "대구광역시    8859 days 12:04:57\n",
       "대전광역시    7934 days 13:38:40\n",
       "부산광역시    6641 days 06:56:50\n",
       "서울특별시   20686 days 09:17:13\n",
       "세종특별자치시  1547 days 10:32:37\n",
       "울산광역시    5049 days 12:17:23\n",
       "인천광역시   11199 days 13:48:21\n",
       "전라남도    15529 days 21:19:46\n",
       "전라북도    16610 days 18:03:36\n",
       "제주특별자치도 16986 days 01:29:37\n",
       "충청남도    21601 days 11:59:59\n",
       "충청북도    18996 days 07:16:06"
      ]
     },
     "execution_count": 290,
     "metadata": {},
     "output_type": "execute_result"
    }
   ],
   "source": [
    "ch_time_cal_day_by_local = ch_time_day_by_local.to_frame()\n",
    "ch_time_cal_day_by_local"
   ]
  },
  {
   "cell_type": "code",
   "execution_count": 291,
   "metadata": {},
   "outputs": [
    {
     "data": {
      "text/plain": [
       "745611"
      ]
     },
     "execution_count": 291,
     "metadata": {},
     "output_type": "execute_result"
    }
   ],
   "source": [
    "temp1 = ch_time_cal_day_by_local['충전시간'].dt.seconds.sum()\n",
    "temp1"
   ]
  },
  {
   "cell_type": "code",
   "execution_count": 292,
   "metadata": {},
   "outputs": [
    {
     "data": {
      "text/plain": [
       "273015"
      ]
     },
     "execution_count": 292,
     "metadata": {},
     "output_type": "execute_result"
    }
   ],
   "source": [
    "temp2 = ch_time_cal_day_by_local['충전시간'].dt.days.sum()\n",
    "temp2"
   ]
  },
  {
   "cell_type": "code",
   "execution_count": 293,
   "metadata": {},
   "outputs": [
    {
     "data": {
      "text/plain": [
       "numpy.int64"
      ]
     },
     "execution_count": 293,
     "metadata": {},
     "output_type": "execute_result"
    }
   ],
   "source": [
    "type(temp1)"
   ]
  },
  {
   "cell_type": "code",
   "execution_count": 294,
   "metadata": {},
   "outputs": [
    {
     "data": {
      "text/html": [
       "<div>\n",
       "<style scoped>\n",
       "    .dataframe tbody tr th:only-of-type {\n",
       "        vertical-align: middle;\n",
       "    }\n",
       "\n",
       "    .dataframe tbody tr th {\n",
       "        vertical-align: top;\n",
       "    }\n",
       "\n",
       "    .dataframe thead th {\n",
       "        text-align: right;\n",
       "    }\n",
       "</style>\n",
       "<table border=\"1\" class=\"dataframe\">\n",
       "  <thead>\n",
       "    <tr style=\"text-align: right;\">\n",
       "      <th></th>\n",
       "      <th>0</th>\n",
       "      <th>1</th>\n",
       "      <th>2</th>\n",
       "    </tr>\n",
       "    <tr>\n",
       "      <th>지역</th>\n",
       "      <th></th>\n",
       "      <th></th>\n",
       "      <th></th>\n",
       "    </tr>\n",
       "  </thead>\n",
       "  <tbody>\n",
       "    <tr>\n",
       "      <th>강원도</th>\n",
       "      <td>19394</td>\n",
       "      <td>days</td>\n",
       "      <td>08:15:45</td>\n",
       "    </tr>\n",
       "    <tr>\n",
       "      <th>경기도</th>\n",
       "      <td>44943</td>\n",
       "      <td>days</td>\n",
       "      <td>22:18:50</td>\n",
       "    </tr>\n",
       "    <tr>\n",
       "      <th>경상남도</th>\n",
       "      <td>19393</td>\n",
       "      <td>days</td>\n",
       "      <td>17:46:57</td>\n",
       "    </tr>\n",
       "    <tr>\n",
       "      <th>경상북도</th>\n",
       "      <td>32622</td>\n",
       "      <td>days</td>\n",
       "      <td>19:07:20</td>\n",
       "    </tr>\n",
       "    <tr>\n",
       "      <th>광주광역시</th>\n",
       "      <td>5026</td>\n",
       "      <td>days</td>\n",
       "      <td>00:52:54</td>\n",
       "    </tr>\n",
       "    <tr>\n",
       "      <th>대구광역시</th>\n",
       "      <td>8859</td>\n",
       "      <td>days</td>\n",
       "      <td>12:04:57</td>\n",
       "    </tr>\n",
       "    <tr>\n",
       "      <th>대전광역시</th>\n",
       "      <td>7934</td>\n",
       "      <td>days</td>\n",
       "      <td>13:38:40</td>\n",
       "    </tr>\n",
       "    <tr>\n",
       "      <th>부산광역시</th>\n",
       "      <td>6641</td>\n",
       "      <td>days</td>\n",
       "      <td>06:56:50</td>\n",
       "    </tr>\n",
       "    <tr>\n",
       "      <th>서울특별시</th>\n",
       "      <td>20686</td>\n",
       "      <td>days</td>\n",
       "      <td>09:17:13</td>\n",
       "    </tr>\n",
       "    <tr>\n",
       "      <th>세종특별자치시</th>\n",
       "      <td>1547</td>\n",
       "      <td>days</td>\n",
       "      <td>10:32:37</td>\n",
       "    </tr>\n",
       "    <tr>\n",
       "      <th>울산광역시</th>\n",
       "      <td>5049</td>\n",
       "      <td>days</td>\n",
       "      <td>12:17:23</td>\n",
       "    </tr>\n",
       "    <tr>\n",
       "      <th>인천광역시</th>\n",
       "      <td>11199</td>\n",
       "      <td>days</td>\n",
       "      <td>13:48:21</td>\n",
       "    </tr>\n",
       "    <tr>\n",
       "      <th>전라남도</th>\n",
       "      <td>15529</td>\n",
       "      <td>days</td>\n",
       "      <td>21:19:46</td>\n",
       "    </tr>\n",
       "    <tr>\n",
       "      <th>전라북도</th>\n",
       "      <td>16610</td>\n",
       "      <td>days</td>\n",
       "      <td>18:03:36</td>\n",
       "    </tr>\n",
       "    <tr>\n",
       "      <th>제주특별자치도</th>\n",
       "      <td>16986</td>\n",
       "      <td>days</td>\n",
       "      <td>01:29:37</td>\n",
       "    </tr>\n",
       "    <tr>\n",
       "      <th>충청남도</th>\n",
       "      <td>21601</td>\n",
       "      <td>days</td>\n",
       "      <td>11:59:59</td>\n",
       "    </tr>\n",
       "    <tr>\n",
       "      <th>충청북도</th>\n",
       "      <td>18996</td>\n",
       "      <td>days</td>\n",
       "      <td>07:16:06</td>\n",
       "    </tr>\n",
       "  </tbody>\n",
       "</table>\n",
       "</div>"
      ],
      "text/plain": [
       "             0     1         2\n",
       "지역                            \n",
       "강원도      19394  days  08:15:45\n",
       "경기도      44943  days  22:18:50\n",
       "경상남도     19393  days  17:46:57\n",
       "경상북도     32622  days  19:07:20\n",
       "광주광역시     5026  days  00:52:54\n",
       "대구광역시     8859  days  12:04:57\n",
       "대전광역시     7934  days  13:38:40\n",
       "부산광역시     6641  days  06:56:50\n",
       "서울특별시    20686  days  09:17:13\n",
       "세종특별자치시   1547  days  10:32:37\n",
       "울산광역시     5049  days  12:17:23\n",
       "인천광역시    11199  days  13:48:21\n",
       "전라남도     15529  days  21:19:46\n",
       "전라북도     16610  days  18:03:36\n",
       "제주특별자치도  16986  days  01:29:37\n",
       "충청남도     21601  days  11:59:59\n",
       "충청북도     18996  days  07:16:06"
      ]
     },
     "execution_count": 294,
     "metadata": {},
     "output_type": "execute_result"
    }
   ],
   "source": [
    "ch_time_cal_day_by_local['충전시간'] = ch_time_cal_day_by_local['충전시간'].astype(str)\n",
    "ch_time_cal_day_by_local = ch_time_cal_day_by_local['충전시간'].str.split(expand=True)\n",
    "ch_time_cal_day_by_local"
   ]
  },
  {
   "cell_type": "code",
   "execution_count": 295,
   "metadata": {},
   "outputs": [
    {
     "data": {
      "text/plain": [
       "(9100, 15, 207, 6, 51)"
      ]
     },
     "execution_count": 295,
     "metadata": {},
     "output_type": "execute_result"
    }
   ],
   "source": [
    "months = temp2 // 30\n",
    "days = temp2 % 30\n",
    "hours = temp1 // 3600\n",
    "minutes = (temp1 % 3600) // 60\n",
    "seconds = (temp1 % 3600) % 60\n",
    "months, days, hours, minutes, seconds"
   ]
  },
  {
   "cell_type": "code",
   "execution_count": 296,
   "metadata": {},
   "outputs": [
    {
     "data": {
      "text/plain": [
       "(23, 15)"
      ]
     },
     "execution_count": 296,
     "metadata": {},
     "output_type": "execute_result"
    }
   ],
   "source": [
    "days += hours // 24\n",
    "hours = hours % 24\n",
    "days, hours"
   ]
  },
  {
   "cell_type": "code",
   "execution_count": 297,
   "metadata": {},
   "outputs": [
    {
     "data": {
      "text/html": [
       "<div>\n",
       "<style scoped>\n",
       "    .dataframe tbody tr th:only-of-type {\n",
       "        vertical-align: middle;\n",
       "    }\n",
       "\n",
       "    .dataframe tbody tr th {\n",
       "        vertical-align: top;\n",
       "    }\n",
       "\n",
       "    .dataframe thead th {\n",
       "        text-align: right;\n",
       "    }\n",
       "</style>\n",
       "<table border=\"1\" class=\"dataframe\">\n",
       "  <thead>\n",
       "    <tr style=\"text-align: right;\">\n",
       "      <th></th>\n",
       "      <th>0</th>\n",
       "      <th>2</th>\n",
       "    </tr>\n",
       "    <tr>\n",
       "      <th>지역</th>\n",
       "      <th></th>\n",
       "      <th></th>\n",
       "    </tr>\n",
       "  </thead>\n",
       "  <tbody>\n",
       "    <tr>\n",
       "      <th>강원도</th>\n",
       "      <td>19394</td>\n",
       "      <td>08:15:45</td>\n",
       "    </tr>\n",
       "    <tr>\n",
       "      <th>경기도</th>\n",
       "      <td>44943</td>\n",
       "      <td>22:18:50</td>\n",
       "    </tr>\n",
       "    <tr>\n",
       "      <th>경상남도</th>\n",
       "      <td>19393</td>\n",
       "      <td>17:46:57</td>\n",
       "    </tr>\n",
       "    <tr>\n",
       "      <th>경상북도</th>\n",
       "      <td>32622</td>\n",
       "      <td>19:07:20</td>\n",
       "    </tr>\n",
       "    <tr>\n",
       "      <th>광주광역시</th>\n",
       "      <td>5026</td>\n",
       "      <td>00:52:54</td>\n",
       "    </tr>\n",
       "    <tr>\n",
       "      <th>대구광역시</th>\n",
       "      <td>8859</td>\n",
       "      <td>12:04:57</td>\n",
       "    </tr>\n",
       "    <tr>\n",
       "      <th>대전광역시</th>\n",
       "      <td>7934</td>\n",
       "      <td>13:38:40</td>\n",
       "    </tr>\n",
       "    <tr>\n",
       "      <th>부산광역시</th>\n",
       "      <td>6641</td>\n",
       "      <td>06:56:50</td>\n",
       "    </tr>\n",
       "    <tr>\n",
       "      <th>서울특별시</th>\n",
       "      <td>20686</td>\n",
       "      <td>09:17:13</td>\n",
       "    </tr>\n",
       "    <tr>\n",
       "      <th>세종특별자치시</th>\n",
       "      <td>1547</td>\n",
       "      <td>10:32:37</td>\n",
       "    </tr>\n",
       "    <tr>\n",
       "      <th>울산광역시</th>\n",
       "      <td>5049</td>\n",
       "      <td>12:17:23</td>\n",
       "    </tr>\n",
       "    <tr>\n",
       "      <th>인천광역시</th>\n",
       "      <td>11199</td>\n",
       "      <td>13:48:21</td>\n",
       "    </tr>\n",
       "    <tr>\n",
       "      <th>전라남도</th>\n",
       "      <td>15529</td>\n",
       "      <td>21:19:46</td>\n",
       "    </tr>\n",
       "    <tr>\n",
       "      <th>전라북도</th>\n",
       "      <td>16610</td>\n",
       "      <td>18:03:36</td>\n",
       "    </tr>\n",
       "    <tr>\n",
       "      <th>제주특별자치도</th>\n",
       "      <td>16986</td>\n",
       "      <td>01:29:37</td>\n",
       "    </tr>\n",
       "    <tr>\n",
       "      <th>충청남도</th>\n",
       "      <td>21601</td>\n",
       "      <td>11:59:59</td>\n",
       "    </tr>\n",
       "    <tr>\n",
       "      <th>충청북도</th>\n",
       "      <td>18996</td>\n",
       "      <td>07:16:06</td>\n",
       "    </tr>\n",
       "  </tbody>\n",
       "</table>\n",
       "</div>"
      ],
      "text/plain": [
       "             0         2\n",
       "지역                      \n",
       "강원도      19394  08:15:45\n",
       "경기도      44943  22:18:50\n",
       "경상남도     19393  17:46:57\n",
       "경상북도     32622  19:07:20\n",
       "광주광역시     5026  00:52:54\n",
       "대구광역시     8859  12:04:57\n",
       "대전광역시     7934  13:38:40\n",
       "부산광역시     6641  06:56:50\n",
       "서울특별시    20686  09:17:13\n",
       "세종특별자치시   1547  10:32:37\n",
       "울산광역시     5049  12:17:23\n",
       "인천광역시    11199  13:48:21\n",
       "전라남도     15529  21:19:46\n",
       "전라북도     16610  18:03:36\n",
       "제주특별자치도  16986  01:29:37\n",
       "충청남도     21601  11:59:59\n",
       "충청북도     18996  07:16:06"
      ]
     },
     "execution_count": 297,
     "metadata": {},
     "output_type": "execute_result"
    }
   ],
   "source": [
    "ch_time_cal_day_by_local = ch_time_cal_day_by_local.drop([1], axis=1)\n",
    "ch_time_cal_day_by_local"
   ]
  },
  {
   "cell_type": "code",
   "execution_count": 298,
   "metadata": {},
   "outputs": [
    {
     "data": {
      "text/html": [
       "<div>\n",
       "<style scoped>\n",
       "    .dataframe tbody tr th:only-of-type {\n",
       "        vertical-align: middle;\n",
       "    }\n",
       "\n",
       "    .dataframe tbody tr th {\n",
       "        vertical-align: top;\n",
       "    }\n",
       "\n",
       "    .dataframe thead th {\n",
       "        text-align: right;\n",
       "    }\n",
       "</style>\n",
       "<table border=\"1\" class=\"dataframe\">\n",
       "  <thead>\n",
       "    <tr style=\"text-align: right;\">\n",
       "      <th></th>\n",
       "      <th>days</th>\n",
       "      <th>time</th>\n",
       "    </tr>\n",
       "    <tr>\n",
       "      <th>지역</th>\n",
       "      <th></th>\n",
       "      <th></th>\n",
       "    </tr>\n",
       "  </thead>\n",
       "  <tbody>\n",
       "    <tr>\n",
       "      <th>강원도</th>\n",
       "      <td>19394</td>\n",
       "      <td>08:15:45</td>\n",
       "    </tr>\n",
       "    <tr>\n",
       "      <th>경기도</th>\n",
       "      <td>44943</td>\n",
       "      <td>22:18:50</td>\n",
       "    </tr>\n",
       "    <tr>\n",
       "      <th>경상남도</th>\n",
       "      <td>19393</td>\n",
       "      <td>17:46:57</td>\n",
       "    </tr>\n",
       "    <tr>\n",
       "      <th>경상북도</th>\n",
       "      <td>32622</td>\n",
       "      <td>19:07:20</td>\n",
       "    </tr>\n",
       "    <tr>\n",
       "      <th>광주광역시</th>\n",
       "      <td>5026</td>\n",
       "      <td>00:52:54</td>\n",
       "    </tr>\n",
       "    <tr>\n",
       "      <th>대구광역시</th>\n",
       "      <td>8859</td>\n",
       "      <td>12:04:57</td>\n",
       "    </tr>\n",
       "    <tr>\n",
       "      <th>대전광역시</th>\n",
       "      <td>7934</td>\n",
       "      <td>13:38:40</td>\n",
       "    </tr>\n",
       "    <tr>\n",
       "      <th>부산광역시</th>\n",
       "      <td>6641</td>\n",
       "      <td>06:56:50</td>\n",
       "    </tr>\n",
       "    <tr>\n",
       "      <th>서울특별시</th>\n",
       "      <td>20686</td>\n",
       "      <td>09:17:13</td>\n",
       "    </tr>\n",
       "    <tr>\n",
       "      <th>세종특별자치시</th>\n",
       "      <td>1547</td>\n",
       "      <td>10:32:37</td>\n",
       "    </tr>\n",
       "    <tr>\n",
       "      <th>울산광역시</th>\n",
       "      <td>5049</td>\n",
       "      <td>12:17:23</td>\n",
       "    </tr>\n",
       "    <tr>\n",
       "      <th>인천광역시</th>\n",
       "      <td>11199</td>\n",
       "      <td>13:48:21</td>\n",
       "    </tr>\n",
       "    <tr>\n",
       "      <th>전라남도</th>\n",
       "      <td>15529</td>\n",
       "      <td>21:19:46</td>\n",
       "    </tr>\n",
       "    <tr>\n",
       "      <th>전라북도</th>\n",
       "      <td>16610</td>\n",
       "      <td>18:03:36</td>\n",
       "    </tr>\n",
       "    <tr>\n",
       "      <th>제주특별자치도</th>\n",
       "      <td>16986</td>\n",
       "      <td>01:29:37</td>\n",
       "    </tr>\n",
       "    <tr>\n",
       "      <th>충청남도</th>\n",
       "      <td>21601</td>\n",
       "      <td>11:59:59</td>\n",
       "    </tr>\n",
       "    <tr>\n",
       "      <th>충청북도</th>\n",
       "      <td>18996</td>\n",
       "      <td>07:16:06</td>\n",
       "    </tr>\n",
       "  </tbody>\n",
       "</table>\n",
       "</div>"
      ],
      "text/plain": [
       "          days      time\n",
       "지역                      \n",
       "강원도      19394  08:15:45\n",
       "경기도      44943  22:18:50\n",
       "경상남도     19393  17:46:57\n",
       "경상북도     32622  19:07:20\n",
       "광주광역시     5026  00:52:54\n",
       "대구광역시     8859  12:04:57\n",
       "대전광역시     7934  13:38:40\n",
       "부산광역시     6641  06:56:50\n",
       "서울특별시    20686  09:17:13\n",
       "세종특별자치시   1547  10:32:37\n",
       "울산광역시     5049  12:17:23\n",
       "인천광역시    11199  13:48:21\n",
       "전라남도     15529  21:19:46\n",
       "전라북도     16610  18:03:36\n",
       "제주특별자치도  16986  01:29:37\n",
       "충청남도     21601  11:59:59\n",
       "충청북도     18996  07:16:06"
      ]
     },
     "execution_count": 298,
     "metadata": {},
     "output_type": "execute_result"
    }
   ],
   "source": [
    "ch_time_cal_day_by_local.columns = ['days', 'time']\n",
    "ch_time_cal_day_by_local"
   ]
  },
  {
   "cell_type": "code",
   "execution_count": 299,
   "metadata": {},
   "outputs": [],
   "source": [
    "ch_time_cal_day_by_local['days'] = ch_time_cal_day_by_local['days'].astype(int)"
   ]
  },
  {
   "cell_type": "code",
   "execution_count": 300,
   "metadata": {},
   "outputs": [
    {
     "data": {
      "text/html": [
       "<div>\n",
       "<style scoped>\n",
       "    .dataframe tbody tr th:only-of-type {\n",
       "        vertical-align: middle;\n",
       "    }\n",
       "\n",
       "    .dataframe tbody tr th {\n",
       "        vertical-align: top;\n",
       "    }\n",
       "\n",
       "    .dataframe thead th {\n",
       "        text-align: right;\n",
       "    }\n",
       "</style>\n",
       "<table border=\"1\" class=\"dataframe\">\n",
       "  <thead>\n",
       "    <tr style=\"text-align: right;\">\n",
       "      <th></th>\n",
       "      <th>days</th>\n",
       "      <th>time</th>\n",
       "      <th>months</th>\n",
       "    </tr>\n",
       "    <tr>\n",
       "      <th>지역</th>\n",
       "      <th></th>\n",
       "      <th></th>\n",
       "      <th></th>\n",
       "    </tr>\n",
       "  </thead>\n",
       "  <tbody>\n",
       "    <tr>\n",
       "      <th>강원도</th>\n",
       "      <td>14</td>\n",
       "      <td>08:15:45</td>\n",
       "      <td>646</td>\n",
       "    </tr>\n",
       "    <tr>\n",
       "      <th>경기도</th>\n",
       "      <td>3</td>\n",
       "      <td>22:18:50</td>\n",
       "      <td>1498</td>\n",
       "    </tr>\n",
       "    <tr>\n",
       "      <th>경상남도</th>\n",
       "      <td>13</td>\n",
       "      <td>17:46:57</td>\n",
       "      <td>646</td>\n",
       "    </tr>\n",
       "    <tr>\n",
       "      <th>경상북도</th>\n",
       "      <td>12</td>\n",
       "      <td>19:07:20</td>\n",
       "      <td>1087</td>\n",
       "    </tr>\n",
       "    <tr>\n",
       "      <th>광주광역시</th>\n",
       "      <td>16</td>\n",
       "      <td>00:52:54</td>\n",
       "      <td>167</td>\n",
       "    </tr>\n",
       "    <tr>\n",
       "      <th>대구광역시</th>\n",
       "      <td>9</td>\n",
       "      <td>12:04:57</td>\n",
       "      <td>295</td>\n",
       "    </tr>\n",
       "    <tr>\n",
       "      <th>대전광역시</th>\n",
       "      <td>14</td>\n",
       "      <td>13:38:40</td>\n",
       "      <td>264</td>\n",
       "    </tr>\n",
       "    <tr>\n",
       "      <th>부산광역시</th>\n",
       "      <td>11</td>\n",
       "      <td>06:56:50</td>\n",
       "      <td>221</td>\n",
       "    </tr>\n",
       "    <tr>\n",
       "      <th>서울특별시</th>\n",
       "      <td>16</td>\n",
       "      <td>09:17:13</td>\n",
       "      <td>689</td>\n",
       "    </tr>\n",
       "    <tr>\n",
       "      <th>세종특별자치시</th>\n",
       "      <td>17</td>\n",
       "      <td>10:32:37</td>\n",
       "      <td>51</td>\n",
       "    </tr>\n",
       "    <tr>\n",
       "      <th>울산광역시</th>\n",
       "      <td>9</td>\n",
       "      <td>12:17:23</td>\n",
       "      <td>168</td>\n",
       "    </tr>\n",
       "    <tr>\n",
       "      <th>인천광역시</th>\n",
       "      <td>9</td>\n",
       "      <td>13:48:21</td>\n",
       "      <td>373</td>\n",
       "    </tr>\n",
       "    <tr>\n",
       "      <th>전라남도</th>\n",
       "      <td>19</td>\n",
       "      <td>21:19:46</td>\n",
       "      <td>517</td>\n",
       "    </tr>\n",
       "    <tr>\n",
       "      <th>전라북도</th>\n",
       "      <td>20</td>\n",
       "      <td>18:03:36</td>\n",
       "      <td>553</td>\n",
       "    </tr>\n",
       "    <tr>\n",
       "      <th>제주특별자치도</th>\n",
       "      <td>6</td>\n",
       "      <td>01:29:37</td>\n",
       "      <td>566</td>\n",
       "    </tr>\n",
       "    <tr>\n",
       "      <th>충청남도</th>\n",
       "      <td>1</td>\n",
       "      <td>11:59:59</td>\n",
       "      <td>720</td>\n",
       "    </tr>\n",
       "    <tr>\n",
       "      <th>충청북도</th>\n",
       "      <td>6</td>\n",
       "      <td>07:16:06</td>\n",
       "      <td>633</td>\n",
       "    </tr>\n",
       "  </tbody>\n",
       "</table>\n",
       "</div>"
      ],
      "text/plain": [
       "         days      time  months\n",
       "지역                             \n",
       "강원도        14  08:15:45     646\n",
       "경기도         3  22:18:50    1498\n",
       "경상남도       13  17:46:57     646\n",
       "경상북도       12  19:07:20    1087\n",
       "광주광역시      16  00:52:54     167\n",
       "대구광역시       9  12:04:57     295\n",
       "대전광역시      14  13:38:40     264\n",
       "부산광역시      11  06:56:50     221\n",
       "서울특별시      16  09:17:13     689\n",
       "세종특별자치시    17  10:32:37      51\n",
       "울산광역시       9  12:17:23     168\n",
       "인천광역시       9  13:48:21     373\n",
       "전라남도       19  21:19:46     517\n",
       "전라북도       20  18:03:36     553\n",
       "제주특별자치도     6  01:29:37     566\n",
       "충청남도        1  11:59:59     720\n",
       "충청북도        6  07:16:06     633"
      ]
     },
     "execution_count": 300,
     "metadata": {},
     "output_type": "execute_result"
    }
   ],
   "source": [
    "ch_time_cal_day_by_local['months'] = ch_time_cal_day_by_local['days'] // 30\n",
    "ch_time_cal_day_by_local['days'] = ch_time_cal_day_by_local['days'] % 30\n",
    "ch_time_cal_day_by_local"
   ]
  },
  {
   "cell_type": "code",
   "execution_count": 301,
   "metadata": {},
   "outputs": [
    {
     "data": {
      "text/html": [
       "<div>\n",
       "<style scoped>\n",
       "    .dataframe tbody tr th:only-of-type {\n",
       "        vertical-align: middle;\n",
       "    }\n",
       "\n",
       "    .dataframe tbody tr th {\n",
       "        vertical-align: top;\n",
       "    }\n",
       "\n",
       "    .dataframe thead th {\n",
       "        text-align: right;\n",
       "    }\n",
       "</style>\n",
       "<table border=\"1\" class=\"dataframe\">\n",
       "  <thead>\n",
       "    <tr style=\"text-align: right;\">\n",
       "      <th></th>\n",
       "      <th>months</th>\n",
       "      <th>days</th>\n",
       "      <th>time</th>\n",
       "    </tr>\n",
       "    <tr>\n",
       "      <th>지역</th>\n",
       "      <th></th>\n",
       "      <th></th>\n",
       "      <th></th>\n",
       "    </tr>\n",
       "  </thead>\n",
       "  <tbody>\n",
       "    <tr>\n",
       "      <th>강원도</th>\n",
       "      <td>646</td>\n",
       "      <td>14</td>\n",
       "      <td>08:15:45</td>\n",
       "    </tr>\n",
       "    <tr>\n",
       "      <th>경기도</th>\n",
       "      <td>1498</td>\n",
       "      <td>3</td>\n",
       "      <td>22:18:50</td>\n",
       "    </tr>\n",
       "    <tr>\n",
       "      <th>경상남도</th>\n",
       "      <td>646</td>\n",
       "      <td>13</td>\n",
       "      <td>17:46:57</td>\n",
       "    </tr>\n",
       "    <tr>\n",
       "      <th>경상북도</th>\n",
       "      <td>1087</td>\n",
       "      <td>12</td>\n",
       "      <td>19:07:20</td>\n",
       "    </tr>\n",
       "    <tr>\n",
       "      <th>광주광역시</th>\n",
       "      <td>167</td>\n",
       "      <td>16</td>\n",
       "      <td>00:52:54</td>\n",
       "    </tr>\n",
       "    <tr>\n",
       "      <th>대구광역시</th>\n",
       "      <td>295</td>\n",
       "      <td>9</td>\n",
       "      <td>12:04:57</td>\n",
       "    </tr>\n",
       "    <tr>\n",
       "      <th>대전광역시</th>\n",
       "      <td>264</td>\n",
       "      <td>14</td>\n",
       "      <td>13:38:40</td>\n",
       "    </tr>\n",
       "    <tr>\n",
       "      <th>부산광역시</th>\n",
       "      <td>221</td>\n",
       "      <td>11</td>\n",
       "      <td>06:56:50</td>\n",
       "    </tr>\n",
       "    <tr>\n",
       "      <th>서울특별시</th>\n",
       "      <td>689</td>\n",
       "      <td>16</td>\n",
       "      <td>09:17:13</td>\n",
       "    </tr>\n",
       "    <tr>\n",
       "      <th>세종특별자치시</th>\n",
       "      <td>51</td>\n",
       "      <td>17</td>\n",
       "      <td>10:32:37</td>\n",
       "    </tr>\n",
       "    <tr>\n",
       "      <th>울산광역시</th>\n",
       "      <td>168</td>\n",
       "      <td>9</td>\n",
       "      <td>12:17:23</td>\n",
       "    </tr>\n",
       "    <tr>\n",
       "      <th>인천광역시</th>\n",
       "      <td>373</td>\n",
       "      <td>9</td>\n",
       "      <td>13:48:21</td>\n",
       "    </tr>\n",
       "    <tr>\n",
       "      <th>전라남도</th>\n",
       "      <td>517</td>\n",
       "      <td>19</td>\n",
       "      <td>21:19:46</td>\n",
       "    </tr>\n",
       "    <tr>\n",
       "      <th>전라북도</th>\n",
       "      <td>553</td>\n",
       "      <td>20</td>\n",
       "      <td>18:03:36</td>\n",
       "    </tr>\n",
       "    <tr>\n",
       "      <th>제주특별자치도</th>\n",
       "      <td>566</td>\n",
       "      <td>6</td>\n",
       "      <td>01:29:37</td>\n",
       "    </tr>\n",
       "    <tr>\n",
       "      <th>충청남도</th>\n",
       "      <td>720</td>\n",
       "      <td>1</td>\n",
       "      <td>11:59:59</td>\n",
       "    </tr>\n",
       "    <tr>\n",
       "      <th>충청북도</th>\n",
       "      <td>633</td>\n",
       "      <td>6</td>\n",
       "      <td>07:16:06</td>\n",
       "    </tr>\n",
       "  </tbody>\n",
       "</table>\n",
       "</div>"
      ],
      "text/plain": [
       "         months  days      time\n",
       "지역                             \n",
       "강원도         646    14  08:15:45\n",
       "경기도        1498     3  22:18:50\n",
       "경상남도        646    13  17:46:57\n",
       "경상북도       1087    12  19:07:20\n",
       "광주광역시       167    16  00:52:54\n",
       "대구광역시       295     9  12:04:57\n",
       "대전광역시       264    14  13:38:40\n",
       "부산광역시       221    11  06:56:50\n",
       "서울특별시       689    16  09:17:13\n",
       "세종특별자치시      51    17  10:32:37\n",
       "울산광역시       168     9  12:17:23\n",
       "인천광역시       373     9  13:48:21\n",
       "전라남도        517    19  21:19:46\n",
       "전라북도        553    20  18:03:36\n",
       "제주특별자치도     566     6  01:29:37\n",
       "충청남도        720     1  11:59:59\n",
       "충청북도        633     6  07:16:06"
      ]
     },
     "execution_count": 301,
     "metadata": {},
     "output_type": "execute_result"
    }
   ],
   "source": [
    "ch_time_cal_day_by_local = ch_time_cal_day_by_local[['months', 'days', 'time']]\n",
    "ch_time_cal_day_by_local"
   ]
  },
  {
   "cell_type": "code",
   "execution_count": 302,
   "metadata": {},
   "outputs": [
    {
     "data": {
      "text/plain": [
       "(17, 3)"
      ]
     },
     "execution_count": 302,
     "metadata": {},
     "output_type": "execute_result"
    }
   ],
   "source": [
    "ch_time_cal_day_by_local.shape"
   ]
  },
  {
   "cell_type": "code",
   "execution_count": 303,
   "metadata": {},
   "outputs": [
    {
     "data": {
      "text/plain": [
       "Index(['months', 'days', 'time'], dtype='object')"
      ]
     },
     "execution_count": 303,
     "metadata": {},
     "output_type": "execute_result"
    }
   ],
   "source": [
    "ch_time_cal_day_by_local.columns"
   ]
  },
  {
   "cell_type": "code",
   "execution_count": 304,
   "metadata": {},
   "outputs": [
    {
     "data": {
      "text/html": [
       "<div>\n",
       "<style scoped>\n",
       "    .dataframe tbody tr th:only-of-type {\n",
       "        vertical-align: middle;\n",
       "    }\n",
       "\n",
       "    .dataframe tbody tr th {\n",
       "        vertical-align: top;\n",
       "    }\n",
       "\n",
       "    .dataframe thead th {\n",
       "        text-align: right;\n",
       "    }\n",
       "</style>\n",
       "<table border=\"1\" class=\"dataframe\">\n",
       "  <thead>\n",
       "    <tr style=\"text-align: right;\">\n",
       "      <th></th>\n",
       "      <th>months</th>\n",
       "      <th>days</th>\n",
       "      <th>time</th>\n",
       "    </tr>\n",
       "  </thead>\n",
       "  <tbody>\n",
       "    <tr>\n",
       "      <th>0</th>\n",
       "      <td>9100</td>\n",
       "      <td>23</td>\n",
       "      <td>15:6:51</td>\n",
       "    </tr>\n",
       "  </tbody>\n",
       "</table>\n",
       "</div>"
      ],
      "text/plain": [
       "   months  days     time\n",
       "0    9100    23  15:6:51"
      ]
     },
     "execution_count": 304,
     "metadata": {},
     "output_type": "execute_result"
    }
   ],
   "source": [
    "temp = pd.DataFrame({'months':[months], 'days':[days], 'time':[f'{hours}:{minutes}:{seconds}']})\n",
    "temp"
   ]
  },
  {
   "cell_type": "code",
   "execution_count": 305,
   "metadata": {},
   "outputs": [
    {
     "data": {
      "text/html": [
       "<div>\n",
       "<style scoped>\n",
       "    .dataframe tbody tr th:only-of-type {\n",
       "        vertical-align: middle;\n",
       "    }\n",
       "\n",
       "    .dataframe tbody tr th {\n",
       "        vertical-align: top;\n",
       "    }\n",
       "\n",
       "    .dataframe thead th {\n",
       "        text-align: right;\n",
       "    }\n",
       "</style>\n",
       "<table border=\"1\" class=\"dataframe\">\n",
       "  <thead>\n",
       "    <tr style=\"text-align: right;\">\n",
       "      <th></th>\n",
       "      <th>months</th>\n",
       "      <th>days</th>\n",
       "      <th>time</th>\n",
       "    </tr>\n",
       "  </thead>\n",
       "  <tbody>\n",
       "    <tr>\n",
       "      <th>강원도</th>\n",
       "      <td>646</td>\n",
       "      <td>14</td>\n",
       "      <td>08:15:45</td>\n",
       "    </tr>\n",
       "    <tr>\n",
       "      <th>경기도</th>\n",
       "      <td>1498</td>\n",
       "      <td>3</td>\n",
       "      <td>22:18:50</td>\n",
       "    </tr>\n",
       "    <tr>\n",
       "      <th>경상남도</th>\n",
       "      <td>646</td>\n",
       "      <td>13</td>\n",
       "      <td>17:46:57</td>\n",
       "    </tr>\n",
       "    <tr>\n",
       "      <th>경상북도</th>\n",
       "      <td>1087</td>\n",
       "      <td>12</td>\n",
       "      <td>19:07:20</td>\n",
       "    </tr>\n",
       "    <tr>\n",
       "      <th>광주광역시</th>\n",
       "      <td>167</td>\n",
       "      <td>16</td>\n",
       "      <td>00:52:54</td>\n",
       "    </tr>\n",
       "    <tr>\n",
       "      <th>대구광역시</th>\n",
       "      <td>295</td>\n",
       "      <td>9</td>\n",
       "      <td>12:04:57</td>\n",
       "    </tr>\n",
       "    <tr>\n",
       "      <th>대전광역시</th>\n",
       "      <td>264</td>\n",
       "      <td>14</td>\n",
       "      <td>13:38:40</td>\n",
       "    </tr>\n",
       "    <tr>\n",
       "      <th>부산광역시</th>\n",
       "      <td>221</td>\n",
       "      <td>11</td>\n",
       "      <td>06:56:50</td>\n",
       "    </tr>\n",
       "    <tr>\n",
       "      <th>서울특별시</th>\n",
       "      <td>689</td>\n",
       "      <td>16</td>\n",
       "      <td>09:17:13</td>\n",
       "    </tr>\n",
       "    <tr>\n",
       "      <th>세종특별자치시</th>\n",
       "      <td>51</td>\n",
       "      <td>17</td>\n",
       "      <td>10:32:37</td>\n",
       "    </tr>\n",
       "    <tr>\n",
       "      <th>울산광역시</th>\n",
       "      <td>168</td>\n",
       "      <td>9</td>\n",
       "      <td>12:17:23</td>\n",
       "    </tr>\n",
       "    <tr>\n",
       "      <th>인천광역시</th>\n",
       "      <td>373</td>\n",
       "      <td>9</td>\n",
       "      <td>13:48:21</td>\n",
       "    </tr>\n",
       "    <tr>\n",
       "      <th>전라남도</th>\n",
       "      <td>517</td>\n",
       "      <td>19</td>\n",
       "      <td>21:19:46</td>\n",
       "    </tr>\n",
       "    <tr>\n",
       "      <th>전라북도</th>\n",
       "      <td>553</td>\n",
       "      <td>20</td>\n",
       "      <td>18:03:36</td>\n",
       "    </tr>\n",
       "    <tr>\n",
       "      <th>제주특별자치도</th>\n",
       "      <td>566</td>\n",
       "      <td>6</td>\n",
       "      <td>01:29:37</td>\n",
       "    </tr>\n",
       "    <tr>\n",
       "      <th>충청남도</th>\n",
       "      <td>720</td>\n",
       "      <td>1</td>\n",
       "      <td>11:59:59</td>\n",
       "    </tr>\n",
       "    <tr>\n",
       "      <th>충청북도</th>\n",
       "      <td>633</td>\n",
       "      <td>6</td>\n",
       "      <td>07:16:06</td>\n",
       "    </tr>\n",
       "    <tr>\n",
       "      <th>0</th>\n",
       "      <td>9100</td>\n",
       "      <td>23</td>\n",
       "      <td>15:6:51</td>\n",
       "    </tr>\n",
       "  </tbody>\n",
       "</table>\n",
       "</div>"
      ],
      "text/plain": [
       "         months  days      time\n",
       "강원도         646    14  08:15:45\n",
       "경기도        1498     3  22:18:50\n",
       "경상남도        646    13  17:46:57\n",
       "경상북도       1087    12  19:07:20\n",
       "광주광역시       167    16  00:52:54\n",
       "대구광역시       295     9  12:04:57\n",
       "대전광역시       264    14  13:38:40\n",
       "부산광역시       221    11  06:56:50\n",
       "서울특별시       689    16  09:17:13\n",
       "세종특별자치시      51    17  10:32:37\n",
       "울산광역시       168     9  12:17:23\n",
       "인천광역시       373     9  13:48:21\n",
       "전라남도        517    19  21:19:46\n",
       "전라북도        553    20  18:03:36\n",
       "제주특별자치도     566     6  01:29:37\n",
       "충청남도        720     1  11:59:59\n",
       "충청북도        633     6  07:16:06\n",
       "0          9100    23   15:6:51"
      ]
     },
     "execution_count": 305,
     "metadata": {},
     "output_type": "execute_result"
    }
   ],
   "source": [
    "ch_time_cal_day_by_local = pd.concat([ch_time_cal_day_by_local, temp])\n",
    "ch_time_cal_day_by_local"
   ]
  },
  {
   "cell_type": "code",
   "execution_count": 311,
   "metadata": {},
   "outputs": [
    {
     "data": {
      "text/html": [
       "<div>\n",
       "<style scoped>\n",
       "    .dataframe tbody tr th:only-of-type {\n",
       "        vertical-align: middle;\n",
       "    }\n",
       "\n",
       "    .dataframe tbody tr th {\n",
       "        vertical-align: top;\n",
       "    }\n",
       "\n",
       "    .dataframe thead tr th {\n",
       "        text-align: left;\n",
       "    }\n",
       "</style>\n",
       "<table border=\"1\" class=\"dataframe\">\n",
       "  <thead>\n",
       "    <tr>\n",
       "      <th></th>\n",
       "      <th colspan=\"3\" halign=\"left\">지역별 총 충전시간</th>\n",
       "    </tr>\n",
       "    <tr>\n",
       "      <th></th>\n",
       "      <th>months</th>\n",
       "      <th>days</th>\n",
       "      <th>time</th>\n",
       "    </tr>\n",
       "  </thead>\n",
       "  <tbody>\n",
       "    <tr>\n",
       "      <th>강원도</th>\n",
       "      <td>646</td>\n",
       "      <td>14</td>\n",
       "      <td>08:15:45</td>\n",
       "    </tr>\n",
       "    <tr>\n",
       "      <th>경기도</th>\n",
       "      <td>1498</td>\n",
       "      <td>3</td>\n",
       "      <td>22:18:50</td>\n",
       "    </tr>\n",
       "    <tr>\n",
       "      <th>경상남도</th>\n",
       "      <td>646</td>\n",
       "      <td>13</td>\n",
       "      <td>17:46:57</td>\n",
       "    </tr>\n",
       "    <tr>\n",
       "      <th>경상북도</th>\n",
       "      <td>1087</td>\n",
       "      <td>12</td>\n",
       "      <td>19:07:20</td>\n",
       "    </tr>\n",
       "    <tr>\n",
       "      <th>광주광역시</th>\n",
       "      <td>167</td>\n",
       "      <td>16</td>\n",
       "      <td>00:52:54</td>\n",
       "    </tr>\n",
       "    <tr>\n",
       "      <th>대구광역시</th>\n",
       "      <td>295</td>\n",
       "      <td>9</td>\n",
       "      <td>12:04:57</td>\n",
       "    </tr>\n",
       "    <tr>\n",
       "      <th>대전광역시</th>\n",
       "      <td>264</td>\n",
       "      <td>14</td>\n",
       "      <td>13:38:40</td>\n",
       "    </tr>\n",
       "    <tr>\n",
       "      <th>부산광역시</th>\n",
       "      <td>221</td>\n",
       "      <td>11</td>\n",
       "      <td>06:56:50</td>\n",
       "    </tr>\n",
       "    <tr>\n",
       "      <th>서울특별시</th>\n",
       "      <td>689</td>\n",
       "      <td>16</td>\n",
       "      <td>09:17:13</td>\n",
       "    </tr>\n",
       "    <tr>\n",
       "      <th>세종특별자치시</th>\n",
       "      <td>51</td>\n",
       "      <td>17</td>\n",
       "      <td>10:32:37</td>\n",
       "    </tr>\n",
       "    <tr>\n",
       "      <th>울산광역시</th>\n",
       "      <td>168</td>\n",
       "      <td>9</td>\n",
       "      <td>12:17:23</td>\n",
       "    </tr>\n",
       "    <tr>\n",
       "      <th>인천광역시</th>\n",
       "      <td>373</td>\n",
       "      <td>9</td>\n",
       "      <td>13:48:21</td>\n",
       "    </tr>\n",
       "    <tr>\n",
       "      <th>전라남도</th>\n",
       "      <td>517</td>\n",
       "      <td>19</td>\n",
       "      <td>21:19:46</td>\n",
       "    </tr>\n",
       "    <tr>\n",
       "      <th>전라북도</th>\n",
       "      <td>553</td>\n",
       "      <td>20</td>\n",
       "      <td>18:03:36</td>\n",
       "    </tr>\n",
       "    <tr>\n",
       "      <th>제주특별자치도</th>\n",
       "      <td>566</td>\n",
       "      <td>6</td>\n",
       "      <td>01:29:37</td>\n",
       "    </tr>\n",
       "    <tr>\n",
       "      <th>충청남도</th>\n",
       "      <td>720</td>\n",
       "      <td>1</td>\n",
       "      <td>11:59:59</td>\n",
       "    </tr>\n",
       "    <tr>\n",
       "      <th>충청북도</th>\n",
       "      <td>633</td>\n",
       "      <td>6</td>\n",
       "      <td>07:16:06</td>\n",
       "    </tr>\n",
       "    <tr>\n",
       "      <th>0</th>\n",
       "      <td>9100</td>\n",
       "      <td>23</td>\n",
       "      <td>15:6:51</td>\n",
       "    </tr>\n",
       "  </tbody>\n",
       "</table>\n",
       "</div>"
      ],
      "text/plain": [
       "        지역별 총 충전시간               \n",
       "            months days      time\n",
       "강원도            646   14  08:15:45\n",
       "경기도           1498    3  22:18:50\n",
       "경상남도           646   13  17:46:57\n",
       "경상북도          1087   12  19:07:20\n",
       "광주광역시          167   16  00:52:54\n",
       "대구광역시          295    9  12:04:57\n",
       "대전광역시          264   14  13:38:40\n",
       "부산광역시          221   11  06:56:50\n",
       "서울특별시          689   16  09:17:13\n",
       "세종특별자치시         51   17  10:32:37\n",
       "울산광역시          168    9  12:17:23\n",
       "인천광역시          373    9  13:48:21\n",
       "전라남도           517   19  21:19:46\n",
       "전라북도           553   20  18:03:36\n",
       "제주특별자치도        566    6  01:29:37\n",
       "충청남도           720    1  11:59:59\n",
       "충청북도           633    6  07:16:06\n",
       "0             9100   23   15:6:51"
      ]
     },
     "execution_count": 311,
     "metadata": {},
     "output_type": "execute_result"
    }
   ],
   "source": [
    "ch_time_cal_day_by_local.columns = [['지역별 총 충전시간']*3, ['months', 'days', 'time']]\n",
    "ch_time_cal_day_by_local"
   ]
  },
  {
   "cell_type": "code",
   "execution_count": 312,
   "metadata": {},
   "outputs": [],
   "source": [
    "ch_time_cal_day_by_local.to_excel('2020-22년_급속충전_지역별_총_충전시간.xlsx', encoding='utf-8')"
   ]
  },
  {
   "cell_type": "markdown",
   "metadata": {},
   "source": [
    "#### 총 충전시간(계산)"
   ]
  },
  {
   "cell_type": "code",
   "execution_count": 327,
   "metadata": {},
   "outputs": [
    {
     "data": {
      "text/plain": [
       "지역\n",
       "강원도       20379 days 13:42:02\n",
       "경기도       46362 days 07:47:30\n",
       "경상남도      20375 days 03:50:30\n",
       "경상북도      34057 days 10:27:05\n",
       "광주광역시      5125 days 22:19:49\n",
       "대구광역시      9433 days 15:16:10\n",
       "대전광역시      8068 days 03:05:12\n",
       "부산광역시      6848 days 11:00:24\n",
       "서울특별시     21362 days 05:17:37\n",
       "세종특별자치시    1607 days 02:52:01\n",
       "울산광역시      5269 days 06:06:50\n",
       "인천광역시     11007 days 01:44:22\n",
       "전라남도      16178 days 02:20:27\n",
       "전라북도      16372 days 14:46:27\n",
       "제주특별자치도   17992 days 11:34:50\n",
       "충청남도      22417 days 11:17:12\n",
       "충청북도      19226 days 04:59:21\n",
       "Name: 충전시간(계산), dtype: timedelta64[ns]"
      ]
     },
     "execution_count": 327,
     "metadata": {},
     "output_type": "execute_result"
    }
   ],
   "source": [
    "col = '충전시간(계산)'\n",
    "ch_time_by_local = df2.groupby(['지역'])[col].sum()\n",
    "ch_time_by_local"
   ]
  },
  {
   "cell_type": "code",
   "execution_count": 328,
   "metadata": {},
   "outputs": [
    {
     "data": {
      "text/html": [
       "<div>\n",
       "<style scoped>\n",
       "    .dataframe tbody tr th:only-of-type {\n",
       "        vertical-align: middle;\n",
       "    }\n",
       "\n",
       "    .dataframe tbody tr th {\n",
       "        vertical-align: top;\n",
       "    }\n",
       "\n",
       "    .dataframe thead th {\n",
       "        text-align: right;\n",
       "    }\n",
       "</style>\n",
       "<table border=\"1\" class=\"dataframe\">\n",
       "  <thead>\n",
       "    <tr style=\"text-align: right;\">\n",
       "      <th></th>\n",
       "      <th>충전시간(계산)</th>\n",
       "    </tr>\n",
       "    <tr>\n",
       "      <th>지역</th>\n",
       "      <th></th>\n",
       "    </tr>\n",
       "  </thead>\n",
       "  <tbody>\n",
       "    <tr>\n",
       "      <th>강원도</th>\n",
       "      <td>20379 days 13:42:02</td>\n",
       "    </tr>\n",
       "    <tr>\n",
       "      <th>경기도</th>\n",
       "      <td>46362 days 07:47:30</td>\n",
       "    </tr>\n",
       "    <tr>\n",
       "      <th>경상남도</th>\n",
       "      <td>20375 days 03:50:30</td>\n",
       "    </tr>\n",
       "    <tr>\n",
       "      <th>경상북도</th>\n",
       "      <td>34057 days 10:27:05</td>\n",
       "    </tr>\n",
       "    <tr>\n",
       "      <th>광주광역시</th>\n",
       "      <td>5125 days 22:19:49</td>\n",
       "    </tr>\n",
       "    <tr>\n",
       "      <th>대구광역시</th>\n",
       "      <td>9433 days 15:16:10</td>\n",
       "    </tr>\n",
       "    <tr>\n",
       "      <th>대전광역시</th>\n",
       "      <td>8068 days 03:05:12</td>\n",
       "    </tr>\n",
       "    <tr>\n",
       "      <th>부산광역시</th>\n",
       "      <td>6848 days 11:00:24</td>\n",
       "    </tr>\n",
       "    <tr>\n",
       "      <th>서울특별시</th>\n",
       "      <td>21362 days 05:17:37</td>\n",
       "    </tr>\n",
       "    <tr>\n",
       "      <th>세종특별자치시</th>\n",
       "      <td>1607 days 02:52:01</td>\n",
       "    </tr>\n",
       "    <tr>\n",
       "      <th>울산광역시</th>\n",
       "      <td>5269 days 06:06:50</td>\n",
       "    </tr>\n",
       "    <tr>\n",
       "      <th>인천광역시</th>\n",
       "      <td>11007 days 01:44:22</td>\n",
       "    </tr>\n",
       "    <tr>\n",
       "      <th>전라남도</th>\n",
       "      <td>16178 days 02:20:27</td>\n",
       "    </tr>\n",
       "    <tr>\n",
       "      <th>전라북도</th>\n",
       "      <td>16372 days 14:46:27</td>\n",
       "    </tr>\n",
       "    <tr>\n",
       "      <th>제주특별자치도</th>\n",
       "      <td>17992 days 11:34:50</td>\n",
       "    </tr>\n",
       "    <tr>\n",
       "      <th>충청남도</th>\n",
       "      <td>22417 days 11:17:12</td>\n",
       "    </tr>\n",
       "    <tr>\n",
       "      <th>충청북도</th>\n",
       "      <td>19226 days 04:59:21</td>\n",
       "    </tr>\n",
       "  </tbody>\n",
       "</table>\n",
       "</div>"
      ],
      "text/plain": [
       "                   충전시간(계산)\n",
       "지역                         \n",
       "강원도     20379 days 13:42:02\n",
       "경기도     46362 days 07:47:30\n",
       "경상남도    20375 days 03:50:30\n",
       "경상북도    34057 days 10:27:05\n",
       "광주광역시    5125 days 22:19:49\n",
       "대구광역시    9433 days 15:16:10\n",
       "대전광역시    8068 days 03:05:12\n",
       "부산광역시    6848 days 11:00:24\n",
       "서울특별시   21362 days 05:17:37\n",
       "세종특별자치시  1607 days 02:52:01\n",
       "울산광역시    5269 days 06:06:50\n",
       "인천광역시   11007 days 01:44:22\n",
       "전라남도    16178 days 02:20:27\n",
       "전라북도    16372 days 14:46:27\n",
       "제주특별자치도 17992 days 11:34:50\n",
       "충청남도    22417 days 11:17:12\n",
       "충청북도    19226 days 04:59:21"
      ]
     },
     "execution_count": 328,
     "metadata": {},
     "output_type": "execute_result"
    }
   ],
   "source": [
    "temp = ch_time_by_local.to_frame()\n",
    "temp"
   ]
  },
  {
   "cell_type": "code",
   "execution_count": 329,
   "metadata": {},
   "outputs": [
    {
     "data": {
      "text/plain": [
       "534469"
      ]
     },
     "execution_count": 329,
     "metadata": {},
     "output_type": "execute_result"
    }
   ],
   "source": [
    "temp1 = temp[col].dt.seconds.sum()\n",
    "temp1"
   ]
  },
  {
   "cell_type": "code",
   "execution_count": 330,
   "metadata": {},
   "outputs": [
    {
     "data": {
      "text/plain": [
       "282077"
      ]
     },
     "execution_count": 330,
     "metadata": {},
     "output_type": "execute_result"
    }
   ],
   "source": [
    "temp2 = temp[col].dt.days.sum()\n",
    "temp2"
   ]
  },
  {
   "cell_type": "code",
   "execution_count": 331,
   "metadata": {},
   "outputs": [
    {
     "data": {
      "text/html": [
       "<div>\n",
       "<style scoped>\n",
       "    .dataframe tbody tr th:only-of-type {\n",
       "        vertical-align: middle;\n",
       "    }\n",
       "\n",
       "    .dataframe tbody tr th {\n",
       "        vertical-align: top;\n",
       "    }\n",
       "\n",
       "    .dataframe thead th {\n",
       "        text-align: right;\n",
       "    }\n",
       "</style>\n",
       "<table border=\"1\" class=\"dataframe\">\n",
       "  <thead>\n",
       "    <tr style=\"text-align: right;\">\n",
       "      <th></th>\n",
       "      <th>0</th>\n",
       "      <th>1</th>\n",
       "      <th>2</th>\n",
       "    </tr>\n",
       "    <tr>\n",
       "      <th>지역</th>\n",
       "      <th></th>\n",
       "      <th></th>\n",
       "      <th></th>\n",
       "    </tr>\n",
       "  </thead>\n",
       "  <tbody>\n",
       "    <tr>\n",
       "      <th>강원도</th>\n",
       "      <td>20379</td>\n",
       "      <td>days</td>\n",
       "      <td>13:42:02</td>\n",
       "    </tr>\n",
       "    <tr>\n",
       "      <th>경기도</th>\n",
       "      <td>46362</td>\n",
       "      <td>days</td>\n",
       "      <td>07:47:30</td>\n",
       "    </tr>\n",
       "    <tr>\n",
       "      <th>경상남도</th>\n",
       "      <td>20375</td>\n",
       "      <td>days</td>\n",
       "      <td>03:50:30</td>\n",
       "    </tr>\n",
       "    <tr>\n",
       "      <th>경상북도</th>\n",
       "      <td>34057</td>\n",
       "      <td>days</td>\n",
       "      <td>10:27:05</td>\n",
       "    </tr>\n",
       "    <tr>\n",
       "      <th>광주광역시</th>\n",
       "      <td>5125</td>\n",
       "      <td>days</td>\n",
       "      <td>22:19:49</td>\n",
       "    </tr>\n",
       "    <tr>\n",
       "      <th>대구광역시</th>\n",
       "      <td>9433</td>\n",
       "      <td>days</td>\n",
       "      <td>15:16:10</td>\n",
       "    </tr>\n",
       "    <tr>\n",
       "      <th>대전광역시</th>\n",
       "      <td>8068</td>\n",
       "      <td>days</td>\n",
       "      <td>03:05:12</td>\n",
       "    </tr>\n",
       "    <tr>\n",
       "      <th>부산광역시</th>\n",
       "      <td>6848</td>\n",
       "      <td>days</td>\n",
       "      <td>11:00:24</td>\n",
       "    </tr>\n",
       "    <tr>\n",
       "      <th>서울특별시</th>\n",
       "      <td>21362</td>\n",
       "      <td>days</td>\n",
       "      <td>05:17:37</td>\n",
       "    </tr>\n",
       "    <tr>\n",
       "      <th>세종특별자치시</th>\n",
       "      <td>1607</td>\n",
       "      <td>days</td>\n",
       "      <td>02:52:01</td>\n",
       "    </tr>\n",
       "    <tr>\n",
       "      <th>울산광역시</th>\n",
       "      <td>5269</td>\n",
       "      <td>days</td>\n",
       "      <td>06:06:50</td>\n",
       "    </tr>\n",
       "    <tr>\n",
       "      <th>인천광역시</th>\n",
       "      <td>11007</td>\n",
       "      <td>days</td>\n",
       "      <td>01:44:22</td>\n",
       "    </tr>\n",
       "    <tr>\n",
       "      <th>전라남도</th>\n",
       "      <td>16178</td>\n",
       "      <td>days</td>\n",
       "      <td>02:20:27</td>\n",
       "    </tr>\n",
       "    <tr>\n",
       "      <th>전라북도</th>\n",
       "      <td>16372</td>\n",
       "      <td>days</td>\n",
       "      <td>14:46:27</td>\n",
       "    </tr>\n",
       "    <tr>\n",
       "      <th>제주특별자치도</th>\n",
       "      <td>17992</td>\n",
       "      <td>days</td>\n",
       "      <td>11:34:50</td>\n",
       "    </tr>\n",
       "    <tr>\n",
       "      <th>충청남도</th>\n",
       "      <td>22417</td>\n",
       "      <td>days</td>\n",
       "      <td>11:17:12</td>\n",
       "    </tr>\n",
       "    <tr>\n",
       "      <th>충청북도</th>\n",
       "      <td>19226</td>\n",
       "      <td>days</td>\n",
       "      <td>04:59:21</td>\n",
       "    </tr>\n",
       "  </tbody>\n",
       "</table>\n",
       "</div>"
      ],
      "text/plain": [
       "             0     1         2\n",
       "지역                            \n",
       "강원도      20379  days  13:42:02\n",
       "경기도      46362  days  07:47:30\n",
       "경상남도     20375  days  03:50:30\n",
       "경상북도     34057  days  10:27:05\n",
       "광주광역시     5125  days  22:19:49\n",
       "대구광역시     9433  days  15:16:10\n",
       "대전광역시     8068  days  03:05:12\n",
       "부산광역시     6848  days  11:00:24\n",
       "서울특별시    21362  days  05:17:37\n",
       "세종특별자치시   1607  days  02:52:01\n",
       "울산광역시     5269  days  06:06:50\n",
       "인천광역시    11007  days  01:44:22\n",
       "전라남도     16178  days  02:20:27\n",
       "전라북도     16372  days  14:46:27\n",
       "제주특별자치도  17992  days  11:34:50\n",
       "충청남도     22417  days  11:17:12\n",
       "충청북도     19226  days  04:59:21"
      ]
     },
     "execution_count": 331,
     "metadata": {},
     "output_type": "execute_result"
    }
   ],
   "source": [
    "temp[col] = temp[col].astype(str)\n",
    "temp = temp[col].str.split(expand=True)\n",
    "temp"
   ]
  },
  {
   "cell_type": "code",
   "execution_count": 332,
   "metadata": {},
   "outputs": [
    {
     "data": {
      "text/plain": [
       "(9402, 17, 148, 27, 49)"
      ]
     },
     "execution_count": 332,
     "metadata": {},
     "output_type": "execute_result"
    }
   ],
   "source": [
    "months = temp2 // 30\n",
    "days = temp2 % 30\n",
    "hours = temp1 // 3600\n",
    "minutes = (temp1 % 3600) // 60\n",
    "seconds = (temp1 % 3600) % 60\n",
    "months, days, hours, minutes, seconds"
   ]
  },
  {
   "cell_type": "code",
   "execution_count": 333,
   "metadata": {},
   "outputs": [
    {
     "data": {
      "text/plain": [
       "(23, 4)"
      ]
     },
     "execution_count": 333,
     "metadata": {},
     "output_type": "execute_result"
    }
   ],
   "source": [
    "days += hours // 24\n",
    "hours = hours % 24\n",
    "days, hours"
   ]
  },
  {
   "cell_type": "code",
   "execution_count": 334,
   "metadata": {},
   "outputs": [
    {
     "data": {
      "text/html": [
       "<div>\n",
       "<style scoped>\n",
       "    .dataframe tbody tr th:only-of-type {\n",
       "        vertical-align: middle;\n",
       "    }\n",
       "\n",
       "    .dataframe tbody tr th {\n",
       "        vertical-align: top;\n",
       "    }\n",
       "\n",
       "    .dataframe thead th {\n",
       "        text-align: right;\n",
       "    }\n",
       "</style>\n",
       "<table border=\"1\" class=\"dataframe\">\n",
       "  <thead>\n",
       "    <tr style=\"text-align: right;\">\n",
       "      <th></th>\n",
       "      <th>0</th>\n",
       "      <th>2</th>\n",
       "    </tr>\n",
       "    <tr>\n",
       "      <th>지역</th>\n",
       "      <th></th>\n",
       "      <th></th>\n",
       "    </tr>\n",
       "  </thead>\n",
       "  <tbody>\n",
       "    <tr>\n",
       "      <th>강원도</th>\n",
       "      <td>20379</td>\n",
       "      <td>13:42:02</td>\n",
       "    </tr>\n",
       "    <tr>\n",
       "      <th>경기도</th>\n",
       "      <td>46362</td>\n",
       "      <td>07:47:30</td>\n",
       "    </tr>\n",
       "    <tr>\n",
       "      <th>경상남도</th>\n",
       "      <td>20375</td>\n",
       "      <td>03:50:30</td>\n",
       "    </tr>\n",
       "    <tr>\n",
       "      <th>경상북도</th>\n",
       "      <td>34057</td>\n",
       "      <td>10:27:05</td>\n",
       "    </tr>\n",
       "    <tr>\n",
       "      <th>광주광역시</th>\n",
       "      <td>5125</td>\n",
       "      <td>22:19:49</td>\n",
       "    </tr>\n",
       "    <tr>\n",
       "      <th>대구광역시</th>\n",
       "      <td>9433</td>\n",
       "      <td>15:16:10</td>\n",
       "    </tr>\n",
       "    <tr>\n",
       "      <th>대전광역시</th>\n",
       "      <td>8068</td>\n",
       "      <td>03:05:12</td>\n",
       "    </tr>\n",
       "    <tr>\n",
       "      <th>부산광역시</th>\n",
       "      <td>6848</td>\n",
       "      <td>11:00:24</td>\n",
       "    </tr>\n",
       "    <tr>\n",
       "      <th>서울특별시</th>\n",
       "      <td>21362</td>\n",
       "      <td>05:17:37</td>\n",
       "    </tr>\n",
       "    <tr>\n",
       "      <th>세종특별자치시</th>\n",
       "      <td>1607</td>\n",
       "      <td>02:52:01</td>\n",
       "    </tr>\n",
       "    <tr>\n",
       "      <th>울산광역시</th>\n",
       "      <td>5269</td>\n",
       "      <td>06:06:50</td>\n",
       "    </tr>\n",
       "    <tr>\n",
       "      <th>인천광역시</th>\n",
       "      <td>11007</td>\n",
       "      <td>01:44:22</td>\n",
       "    </tr>\n",
       "    <tr>\n",
       "      <th>전라남도</th>\n",
       "      <td>16178</td>\n",
       "      <td>02:20:27</td>\n",
       "    </tr>\n",
       "    <tr>\n",
       "      <th>전라북도</th>\n",
       "      <td>16372</td>\n",
       "      <td>14:46:27</td>\n",
       "    </tr>\n",
       "    <tr>\n",
       "      <th>제주특별자치도</th>\n",
       "      <td>17992</td>\n",
       "      <td>11:34:50</td>\n",
       "    </tr>\n",
       "    <tr>\n",
       "      <th>충청남도</th>\n",
       "      <td>22417</td>\n",
       "      <td>11:17:12</td>\n",
       "    </tr>\n",
       "    <tr>\n",
       "      <th>충청북도</th>\n",
       "      <td>19226</td>\n",
       "      <td>04:59:21</td>\n",
       "    </tr>\n",
       "  </tbody>\n",
       "</table>\n",
       "</div>"
      ],
      "text/plain": [
       "             0         2\n",
       "지역                      \n",
       "강원도      20379  13:42:02\n",
       "경기도      46362  07:47:30\n",
       "경상남도     20375  03:50:30\n",
       "경상북도     34057  10:27:05\n",
       "광주광역시     5125  22:19:49\n",
       "대구광역시     9433  15:16:10\n",
       "대전광역시     8068  03:05:12\n",
       "부산광역시     6848  11:00:24\n",
       "서울특별시    21362  05:17:37\n",
       "세종특별자치시   1607  02:52:01\n",
       "울산광역시     5269  06:06:50\n",
       "인천광역시    11007  01:44:22\n",
       "전라남도     16178  02:20:27\n",
       "전라북도     16372  14:46:27\n",
       "제주특별자치도  17992  11:34:50\n",
       "충청남도     22417  11:17:12\n",
       "충청북도     19226  04:59:21"
      ]
     },
     "execution_count": 334,
     "metadata": {},
     "output_type": "execute_result"
    }
   ],
   "source": [
    "temp = temp.drop([1], axis=1)\n",
    "temp"
   ]
  },
  {
   "cell_type": "code",
   "execution_count": 335,
   "metadata": {},
   "outputs": [
    {
     "data": {
      "text/html": [
       "<div>\n",
       "<style scoped>\n",
       "    .dataframe tbody tr th:only-of-type {\n",
       "        vertical-align: middle;\n",
       "    }\n",
       "\n",
       "    .dataframe tbody tr th {\n",
       "        vertical-align: top;\n",
       "    }\n",
       "\n",
       "    .dataframe thead th {\n",
       "        text-align: right;\n",
       "    }\n",
       "</style>\n",
       "<table border=\"1\" class=\"dataframe\">\n",
       "  <thead>\n",
       "    <tr style=\"text-align: right;\">\n",
       "      <th></th>\n",
       "      <th>days</th>\n",
       "      <th>time</th>\n",
       "    </tr>\n",
       "    <tr>\n",
       "      <th>지역</th>\n",
       "      <th></th>\n",
       "      <th></th>\n",
       "    </tr>\n",
       "  </thead>\n",
       "  <tbody>\n",
       "    <tr>\n",
       "      <th>강원도</th>\n",
       "      <td>20379</td>\n",
       "      <td>13:42:02</td>\n",
       "    </tr>\n",
       "    <tr>\n",
       "      <th>경기도</th>\n",
       "      <td>46362</td>\n",
       "      <td>07:47:30</td>\n",
       "    </tr>\n",
       "    <tr>\n",
       "      <th>경상남도</th>\n",
       "      <td>20375</td>\n",
       "      <td>03:50:30</td>\n",
       "    </tr>\n",
       "    <tr>\n",
       "      <th>경상북도</th>\n",
       "      <td>34057</td>\n",
       "      <td>10:27:05</td>\n",
       "    </tr>\n",
       "    <tr>\n",
       "      <th>광주광역시</th>\n",
       "      <td>5125</td>\n",
       "      <td>22:19:49</td>\n",
       "    </tr>\n",
       "    <tr>\n",
       "      <th>대구광역시</th>\n",
       "      <td>9433</td>\n",
       "      <td>15:16:10</td>\n",
       "    </tr>\n",
       "    <tr>\n",
       "      <th>대전광역시</th>\n",
       "      <td>8068</td>\n",
       "      <td>03:05:12</td>\n",
       "    </tr>\n",
       "    <tr>\n",
       "      <th>부산광역시</th>\n",
       "      <td>6848</td>\n",
       "      <td>11:00:24</td>\n",
       "    </tr>\n",
       "    <tr>\n",
       "      <th>서울특별시</th>\n",
       "      <td>21362</td>\n",
       "      <td>05:17:37</td>\n",
       "    </tr>\n",
       "    <tr>\n",
       "      <th>세종특별자치시</th>\n",
       "      <td>1607</td>\n",
       "      <td>02:52:01</td>\n",
       "    </tr>\n",
       "    <tr>\n",
       "      <th>울산광역시</th>\n",
       "      <td>5269</td>\n",
       "      <td>06:06:50</td>\n",
       "    </tr>\n",
       "    <tr>\n",
       "      <th>인천광역시</th>\n",
       "      <td>11007</td>\n",
       "      <td>01:44:22</td>\n",
       "    </tr>\n",
       "    <tr>\n",
       "      <th>전라남도</th>\n",
       "      <td>16178</td>\n",
       "      <td>02:20:27</td>\n",
       "    </tr>\n",
       "    <tr>\n",
       "      <th>전라북도</th>\n",
       "      <td>16372</td>\n",
       "      <td>14:46:27</td>\n",
       "    </tr>\n",
       "    <tr>\n",
       "      <th>제주특별자치도</th>\n",
       "      <td>17992</td>\n",
       "      <td>11:34:50</td>\n",
       "    </tr>\n",
       "    <tr>\n",
       "      <th>충청남도</th>\n",
       "      <td>22417</td>\n",
       "      <td>11:17:12</td>\n",
       "    </tr>\n",
       "    <tr>\n",
       "      <th>충청북도</th>\n",
       "      <td>19226</td>\n",
       "      <td>04:59:21</td>\n",
       "    </tr>\n",
       "  </tbody>\n",
       "</table>\n",
       "</div>"
      ],
      "text/plain": [
       "          days      time\n",
       "지역                      \n",
       "강원도      20379  13:42:02\n",
       "경기도      46362  07:47:30\n",
       "경상남도     20375  03:50:30\n",
       "경상북도     34057  10:27:05\n",
       "광주광역시     5125  22:19:49\n",
       "대구광역시     9433  15:16:10\n",
       "대전광역시     8068  03:05:12\n",
       "부산광역시     6848  11:00:24\n",
       "서울특별시    21362  05:17:37\n",
       "세종특별자치시   1607  02:52:01\n",
       "울산광역시     5269  06:06:50\n",
       "인천광역시    11007  01:44:22\n",
       "전라남도     16178  02:20:27\n",
       "전라북도     16372  14:46:27\n",
       "제주특별자치도  17992  11:34:50\n",
       "충청남도     22417  11:17:12\n",
       "충청북도     19226  04:59:21"
      ]
     },
     "execution_count": 335,
     "metadata": {},
     "output_type": "execute_result"
    }
   ],
   "source": [
    "temp.columns = ['days', 'time']\n",
    "temp"
   ]
  },
  {
   "cell_type": "code",
   "execution_count": 336,
   "metadata": {},
   "outputs": [],
   "source": [
    "temp['days'] = temp['days'].astype(int)"
   ]
  },
  {
   "cell_type": "code",
   "execution_count": 337,
   "metadata": {},
   "outputs": [
    {
     "data": {
      "text/html": [
       "<div>\n",
       "<style scoped>\n",
       "    .dataframe tbody tr th:only-of-type {\n",
       "        vertical-align: middle;\n",
       "    }\n",
       "\n",
       "    .dataframe tbody tr th {\n",
       "        vertical-align: top;\n",
       "    }\n",
       "\n",
       "    .dataframe thead th {\n",
       "        text-align: right;\n",
       "    }\n",
       "</style>\n",
       "<table border=\"1\" class=\"dataframe\">\n",
       "  <thead>\n",
       "    <tr style=\"text-align: right;\">\n",
       "      <th></th>\n",
       "      <th>days</th>\n",
       "      <th>time</th>\n",
       "      <th>months</th>\n",
       "    </tr>\n",
       "    <tr>\n",
       "      <th>지역</th>\n",
       "      <th></th>\n",
       "      <th></th>\n",
       "      <th></th>\n",
       "    </tr>\n",
       "  </thead>\n",
       "  <tbody>\n",
       "    <tr>\n",
       "      <th>강원도</th>\n",
       "      <td>9</td>\n",
       "      <td>13:42:02</td>\n",
       "      <td>679</td>\n",
       "    </tr>\n",
       "    <tr>\n",
       "      <th>경기도</th>\n",
       "      <td>12</td>\n",
       "      <td>07:47:30</td>\n",
       "      <td>1545</td>\n",
       "    </tr>\n",
       "    <tr>\n",
       "      <th>경상남도</th>\n",
       "      <td>5</td>\n",
       "      <td>03:50:30</td>\n",
       "      <td>679</td>\n",
       "    </tr>\n",
       "    <tr>\n",
       "      <th>경상북도</th>\n",
       "      <td>7</td>\n",
       "      <td>10:27:05</td>\n",
       "      <td>1135</td>\n",
       "    </tr>\n",
       "    <tr>\n",
       "      <th>광주광역시</th>\n",
       "      <td>25</td>\n",
       "      <td>22:19:49</td>\n",
       "      <td>170</td>\n",
       "    </tr>\n",
       "    <tr>\n",
       "      <th>대구광역시</th>\n",
       "      <td>13</td>\n",
       "      <td>15:16:10</td>\n",
       "      <td>314</td>\n",
       "    </tr>\n",
       "    <tr>\n",
       "      <th>대전광역시</th>\n",
       "      <td>28</td>\n",
       "      <td>03:05:12</td>\n",
       "      <td>268</td>\n",
       "    </tr>\n",
       "    <tr>\n",
       "      <th>부산광역시</th>\n",
       "      <td>8</td>\n",
       "      <td>11:00:24</td>\n",
       "      <td>228</td>\n",
       "    </tr>\n",
       "    <tr>\n",
       "      <th>서울특별시</th>\n",
       "      <td>2</td>\n",
       "      <td>05:17:37</td>\n",
       "      <td>712</td>\n",
       "    </tr>\n",
       "    <tr>\n",
       "      <th>세종특별자치시</th>\n",
       "      <td>17</td>\n",
       "      <td>02:52:01</td>\n",
       "      <td>53</td>\n",
       "    </tr>\n",
       "    <tr>\n",
       "      <th>울산광역시</th>\n",
       "      <td>19</td>\n",
       "      <td>06:06:50</td>\n",
       "      <td>175</td>\n",
       "    </tr>\n",
       "    <tr>\n",
       "      <th>인천광역시</th>\n",
       "      <td>27</td>\n",
       "      <td>01:44:22</td>\n",
       "      <td>366</td>\n",
       "    </tr>\n",
       "    <tr>\n",
       "      <th>전라남도</th>\n",
       "      <td>8</td>\n",
       "      <td>02:20:27</td>\n",
       "      <td>539</td>\n",
       "    </tr>\n",
       "    <tr>\n",
       "      <th>전라북도</th>\n",
       "      <td>22</td>\n",
       "      <td>14:46:27</td>\n",
       "      <td>545</td>\n",
       "    </tr>\n",
       "    <tr>\n",
       "      <th>제주특별자치도</th>\n",
       "      <td>22</td>\n",
       "      <td>11:34:50</td>\n",
       "      <td>599</td>\n",
       "    </tr>\n",
       "    <tr>\n",
       "      <th>충청남도</th>\n",
       "      <td>7</td>\n",
       "      <td>11:17:12</td>\n",
       "      <td>747</td>\n",
       "    </tr>\n",
       "    <tr>\n",
       "      <th>충청북도</th>\n",
       "      <td>26</td>\n",
       "      <td>04:59:21</td>\n",
       "      <td>640</td>\n",
       "    </tr>\n",
       "  </tbody>\n",
       "</table>\n",
       "</div>"
      ],
      "text/plain": [
       "         days      time  months\n",
       "지역                             \n",
       "강원도         9  13:42:02     679\n",
       "경기도        12  07:47:30    1545\n",
       "경상남도        5  03:50:30     679\n",
       "경상북도        7  10:27:05    1135\n",
       "광주광역시      25  22:19:49     170\n",
       "대구광역시      13  15:16:10     314\n",
       "대전광역시      28  03:05:12     268\n",
       "부산광역시       8  11:00:24     228\n",
       "서울특별시       2  05:17:37     712\n",
       "세종특별자치시    17  02:52:01      53\n",
       "울산광역시      19  06:06:50     175\n",
       "인천광역시      27  01:44:22     366\n",
       "전라남도        8  02:20:27     539\n",
       "전라북도       22  14:46:27     545\n",
       "제주특별자치도    22  11:34:50     599\n",
       "충청남도        7  11:17:12     747\n",
       "충청북도       26  04:59:21     640"
      ]
     },
     "execution_count": 337,
     "metadata": {},
     "output_type": "execute_result"
    }
   ],
   "source": [
    "temp['months'] = temp['days'] // 30\n",
    "temp['days'] = temp['days'] % 30\n",
    "temp"
   ]
  },
  {
   "cell_type": "code",
   "execution_count": 338,
   "metadata": {},
   "outputs": [
    {
     "data": {
      "text/html": [
       "<div>\n",
       "<style scoped>\n",
       "    .dataframe tbody tr th:only-of-type {\n",
       "        vertical-align: middle;\n",
       "    }\n",
       "\n",
       "    .dataframe tbody tr th {\n",
       "        vertical-align: top;\n",
       "    }\n",
       "\n",
       "    .dataframe thead th {\n",
       "        text-align: right;\n",
       "    }\n",
       "</style>\n",
       "<table border=\"1\" class=\"dataframe\">\n",
       "  <thead>\n",
       "    <tr style=\"text-align: right;\">\n",
       "      <th></th>\n",
       "      <th>months</th>\n",
       "      <th>days</th>\n",
       "      <th>time</th>\n",
       "    </tr>\n",
       "    <tr>\n",
       "      <th>지역</th>\n",
       "      <th></th>\n",
       "      <th></th>\n",
       "      <th></th>\n",
       "    </tr>\n",
       "  </thead>\n",
       "  <tbody>\n",
       "    <tr>\n",
       "      <th>강원도</th>\n",
       "      <td>679</td>\n",
       "      <td>9</td>\n",
       "      <td>13:42:02</td>\n",
       "    </tr>\n",
       "    <tr>\n",
       "      <th>경기도</th>\n",
       "      <td>1545</td>\n",
       "      <td>12</td>\n",
       "      <td>07:47:30</td>\n",
       "    </tr>\n",
       "    <tr>\n",
       "      <th>경상남도</th>\n",
       "      <td>679</td>\n",
       "      <td>5</td>\n",
       "      <td>03:50:30</td>\n",
       "    </tr>\n",
       "    <tr>\n",
       "      <th>경상북도</th>\n",
       "      <td>1135</td>\n",
       "      <td>7</td>\n",
       "      <td>10:27:05</td>\n",
       "    </tr>\n",
       "    <tr>\n",
       "      <th>광주광역시</th>\n",
       "      <td>170</td>\n",
       "      <td>25</td>\n",
       "      <td>22:19:49</td>\n",
       "    </tr>\n",
       "    <tr>\n",
       "      <th>대구광역시</th>\n",
       "      <td>314</td>\n",
       "      <td>13</td>\n",
       "      <td>15:16:10</td>\n",
       "    </tr>\n",
       "    <tr>\n",
       "      <th>대전광역시</th>\n",
       "      <td>268</td>\n",
       "      <td>28</td>\n",
       "      <td>03:05:12</td>\n",
       "    </tr>\n",
       "    <tr>\n",
       "      <th>부산광역시</th>\n",
       "      <td>228</td>\n",
       "      <td>8</td>\n",
       "      <td>11:00:24</td>\n",
       "    </tr>\n",
       "    <tr>\n",
       "      <th>서울특별시</th>\n",
       "      <td>712</td>\n",
       "      <td>2</td>\n",
       "      <td>05:17:37</td>\n",
       "    </tr>\n",
       "    <tr>\n",
       "      <th>세종특별자치시</th>\n",
       "      <td>53</td>\n",
       "      <td>17</td>\n",
       "      <td>02:52:01</td>\n",
       "    </tr>\n",
       "    <tr>\n",
       "      <th>울산광역시</th>\n",
       "      <td>175</td>\n",
       "      <td>19</td>\n",
       "      <td>06:06:50</td>\n",
       "    </tr>\n",
       "    <tr>\n",
       "      <th>인천광역시</th>\n",
       "      <td>366</td>\n",
       "      <td>27</td>\n",
       "      <td>01:44:22</td>\n",
       "    </tr>\n",
       "    <tr>\n",
       "      <th>전라남도</th>\n",
       "      <td>539</td>\n",
       "      <td>8</td>\n",
       "      <td>02:20:27</td>\n",
       "    </tr>\n",
       "    <tr>\n",
       "      <th>전라북도</th>\n",
       "      <td>545</td>\n",
       "      <td>22</td>\n",
       "      <td>14:46:27</td>\n",
       "    </tr>\n",
       "    <tr>\n",
       "      <th>제주특별자치도</th>\n",
       "      <td>599</td>\n",
       "      <td>22</td>\n",
       "      <td>11:34:50</td>\n",
       "    </tr>\n",
       "    <tr>\n",
       "      <th>충청남도</th>\n",
       "      <td>747</td>\n",
       "      <td>7</td>\n",
       "      <td>11:17:12</td>\n",
       "    </tr>\n",
       "    <tr>\n",
       "      <th>충청북도</th>\n",
       "      <td>640</td>\n",
       "      <td>26</td>\n",
       "      <td>04:59:21</td>\n",
       "    </tr>\n",
       "  </tbody>\n",
       "</table>\n",
       "</div>"
      ],
      "text/plain": [
       "         months  days      time\n",
       "지역                             \n",
       "강원도         679     9  13:42:02\n",
       "경기도        1545    12  07:47:30\n",
       "경상남도        679     5  03:50:30\n",
       "경상북도       1135     7  10:27:05\n",
       "광주광역시       170    25  22:19:49\n",
       "대구광역시       314    13  15:16:10\n",
       "대전광역시       268    28  03:05:12\n",
       "부산광역시       228     8  11:00:24\n",
       "서울특별시       712     2  05:17:37\n",
       "세종특별자치시      53    17  02:52:01\n",
       "울산광역시       175    19  06:06:50\n",
       "인천광역시       366    27  01:44:22\n",
       "전라남도        539     8  02:20:27\n",
       "전라북도        545    22  14:46:27\n",
       "제주특별자치도     599    22  11:34:50\n",
       "충청남도        747     7  11:17:12\n",
       "충청북도        640    26  04:59:21"
      ]
     },
     "execution_count": 338,
     "metadata": {},
     "output_type": "execute_result"
    }
   ],
   "source": [
    "temp = temp[['months', 'days', 'time']]\n",
    "temp"
   ]
  },
  {
   "cell_type": "code",
   "execution_count": 339,
   "metadata": {},
   "outputs": [
    {
     "data": {
      "text/plain": [
       "Index(['months', 'days', 'time'], dtype='object')"
      ]
     },
     "execution_count": 339,
     "metadata": {},
     "output_type": "execute_result"
    }
   ],
   "source": [
    "temp.columns"
   ]
  },
  {
   "cell_type": "code",
   "execution_count": 340,
   "metadata": {},
   "outputs": [
    {
     "data": {
      "text/html": [
       "<div>\n",
       "<style scoped>\n",
       "    .dataframe tbody tr th:only-of-type {\n",
       "        vertical-align: middle;\n",
       "    }\n",
       "\n",
       "    .dataframe tbody tr th {\n",
       "        vertical-align: top;\n",
       "    }\n",
       "\n",
       "    .dataframe thead th {\n",
       "        text-align: right;\n",
       "    }\n",
       "</style>\n",
       "<table border=\"1\" class=\"dataframe\">\n",
       "  <thead>\n",
       "    <tr style=\"text-align: right;\">\n",
       "      <th></th>\n",
       "      <th>months</th>\n",
       "      <th>days</th>\n",
       "      <th>time</th>\n",
       "    </tr>\n",
       "  </thead>\n",
       "  <tbody>\n",
       "    <tr>\n",
       "      <th>0</th>\n",
       "      <td>9402</td>\n",
       "      <td>23</td>\n",
       "      <td>4:27:49</td>\n",
       "    </tr>\n",
       "  </tbody>\n",
       "</table>\n",
       "</div>"
      ],
      "text/plain": [
       "   months  days     time\n",
       "0    9402    23  4:27:49"
      ]
     },
     "execution_count": 340,
     "metadata": {},
     "output_type": "execute_result"
    }
   ],
   "source": [
    "total = pd.DataFrame({'months':[months], 'days':[days], 'time':[f'{hours}:{minutes}:{seconds}']})\n",
    "total"
   ]
  },
  {
   "cell_type": "code",
   "execution_count": 341,
   "metadata": {},
   "outputs": [
    {
     "data": {
      "text/html": [
       "<div>\n",
       "<style scoped>\n",
       "    .dataframe tbody tr th:only-of-type {\n",
       "        vertical-align: middle;\n",
       "    }\n",
       "\n",
       "    .dataframe tbody tr th {\n",
       "        vertical-align: top;\n",
       "    }\n",
       "\n",
       "    .dataframe thead th {\n",
       "        text-align: right;\n",
       "    }\n",
       "</style>\n",
       "<table border=\"1\" class=\"dataframe\">\n",
       "  <thead>\n",
       "    <tr style=\"text-align: right;\">\n",
       "      <th></th>\n",
       "      <th>months</th>\n",
       "      <th>days</th>\n",
       "      <th>time</th>\n",
       "    </tr>\n",
       "  </thead>\n",
       "  <tbody>\n",
       "    <tr>\n",
       "      <th>강원도</th>\n",
       "      <td>679</td>\n",
       "      <td>9</td>\n",
       "      <td>13:42:02</td>\n",
       "    </tr>\n",
       "    <tr>\n",
       "      <th>경기도</th>\n",
       "      <td>1545</td>\n",
       "      <td>12</td>\n",
       "      <td>07:47:30</td>\n",
       "    </tr>\n",
       "    <tr>\n",
       "      <th>경상남도</th>\n",
       "      <td>679</td>\n",
       "      <td>5</td>\n",
       "      <td>03:50:30</td>\n",
       "    </tr>\n",
       "    <tr>\n",
       "      <th>경상북도</th>\n",
       "      <td>1135</td>\n",
       "      <td>7</td>\n",
       "      <td>10:27:05</td>\n",
       "    </tr>\n",
       "    <tr>\n",
       "      <th>광주광역시</th>\n",
       "      <td>170</td>\n",
       "      <td>25</td>\n",
       "      <td>22:19:49</td>\n",
       "    </tr>\n",
       "    <tr>\n",
       "      <th>대구광역시</th>\n",
       "      <td>314</td>\n",
       "      <td>13</td>\n",
       "      <td>15:16:10</td>\n",
       "    </tr>\n",
       "    <tr>\n",
       "      <th>대전광역시</th>\n",
       "      <td>268</td>\n",
       "      <td>28</td>\n",
       "      <td>03:05:12</td>\n",
       "    </tr>\n",
       "    <tr>\n",
       "      <th>부산광역시</th>\n",
       "      <td>228</td>\n",
       "      <td>8</td>\n",
       "      <td>11:00:24</td>\n",
       "    </tr>\n",
       "    <tr>\n",
       "      <th>서울특별시</th>\n",
       "      <td>712</td>\n",
       "      <td>2</td>\n",
       "      <td>05:17:37</td>\n",
       "    </tr>\n",
       "    <tr>\n",
       "      <th>세종특별자치시</th>\n",
       "      <td>53</td>\n",
       "      <td>17</td>\n",
       "      <td>02:52:01</td>\n",
       "    </tr>\n",
       "    <tr>\n",
       "      <th>울산광역시</th>\n",
       "      <td>175</td>\n",
       "      <td>19</td>\n",
       "      <td>06:06:50</td>\n",
       "    </tr>\n",
       "    <tr>\n",
       "      <th>인천광역시</th>\n",
       "      <td>366</td>\n",
       "      <td>27</td>\n",
       "      <td>01:44:22</td>\n",
       "    </tr>\n",
       "    <tr>\n",
       "      <th>전라남도</th>\n",
       "      <td>539</td>\n",
       "      <td>8</td>\n",
       "      <td>02:20:27</td>\n",
       "    </tr>\n",
       "    <tr>\n",
       "      <th>전라북도</th>\n",
       "      <td>545</td>\n",
       "      <td>22</td>\n",
       "      <td>14:46:27</td>\n",
       "    </tr>\n",
       "    <tr>\n",
       "      <th>제주특별자치도</th>\n",
       "      <td>599</td>\n",
       "      <td>22</td>\n",
       "      <td>11:34:50</td>\n",
       "    </tr>\n",
       "    <tr>\n",
       "      <th>충청남도</th>\n",
       "      <td>747</td>\n",
       "      <td>7</td>\n",
       "      <td>11:17:12</td>\n",
       "    </tr>\n",
       "    <tr>\n",
       "      <th>충청북도</th>\n",
       "      <td>640</td>\n",
       "      <td>26</td>\n",
       "      <td>04:59:21</td>\n",
       "    </tr>\n",
       "    <tr>\n",
       "      <th>0</th>\n",
       "      <td>9402</td>\n",
       "      <td>23</td>\n",
       "      <td>4:27:49</td>\n",
       "    </tr>\n",
       "  </tbody>\n",
       "</table>\n",
       "</div>"
      ],
      "text/plain": [
       "         months  days      time\n",
       "강원도         679     9  13:42:02\n",
       "경기도        1545    12  07:47:30\n",
       "경상남도        679     5  03:50:30\n",
       "경상북도       1135     7  10:27:05\n",
       "광주광역시       170    25  22:19:49\n",
       "대구광역시       314    13  15:16:10\n",
       "대전광역시       268    28  03:05:12\n",
       "부산광역시       228     8  11:00:24\n",
       "서울특별시       712     2  05:17:37\n",
       "세종특별자치시      53    17  02:52:01\n",
       "울산광역시       175    19  06:06:50\n",
       "인천광역시       366    27  01:44:22\n",
       "전라남도        539     8  02:20:27\n",
       "전라북도        545    22  14:46:27\n",
       "제주특별자치도     599    22  11:34:50\n",
       "충청남도        747     7  11:17:12\n",
       "충청북도        640    26  04:59:21\n",
       "0          9402    23   4:27:49"
      ]
     },
     "execution_count": 341,
     "metadata": {},
     "output_type": "execute_result"
    }
   ],
   "source": [
    "temp = pd.concat([temp, total])\n",
    "temp"
   ]
  },
  {
   "cell_type": "code",
   "execution_count": 342,
   "metadata": {},
   "outputs": [
    {
     "data": {
      "text/html": [
       "<div>\n",
       "<style scoped>\n",
       "    .dataframe tbody tr th:only-of-type {\n",
       "        vertical-align: middle;\n",
       "    }\n",
       "\n",
       "    .dataframe tbody tr th {\n",
       "        vertical-align: top;\n",
       "    }\n",
       "\n",
       "    .dataframe thead tr th {\n",
       "        text-align: left;\n",
       "    }\n",
       "</style>\n",
       "<table border=\"1\" class=\"dataframe\">\n",
       "  <thead>\n",
       "    <tr>\n",
       "      <th></th>\n",
       "      <th colspan=\"3\" halign=\"left\">지역별 총 충전시간(계산)</th>\n",
       "    </tr>\n",
       "    <tr>\n",
       "      <th></th>\n",
       "      <th>months</th>\n",
       "      <th>days</th>\n",
       "      <th>time</th>\n",
       "    </tr>\n",
       "  </thead>\n",
       "  <tbody>\n",
       "    <tr>\n",
       "      <th>강원도</th>\n",
       "      <td>679</td>\n",
       "      <td>9</td>\n",
       "      <td>13:42:02</td>\n",
       "    </tr>\n",
       "    <tr>\n",
       "      <th>경기도</th>\n",
       "      <td>1545</td>\n",
       "      <td>12</td>\n",
       "      <td>07:47:30</td>\n",
       "    </tr>\n",
       "    <tr>\n",
       "      <th>경상남도</th>\n",
       "      <td>679</td>\n",
       "      <td>5</td>\n",
       "      <td>03:50:30</td>\n",
       "    </tr>\n",
       "    <tr>\n",
       "      <th>경상북도</th>\n",
       "      <td>1135</td>\n",
       "      <td>7</td>\n",
       "      <td>10:27:05</td>\n",
       "    </tr>\n",
       "    <tr>\n",
       "      <th>광주광역시</th>\n",
       "      <td>170</td>\n",
       "      <td>25</td>\n",
       "      <td>22:19:49</td>\n",
       "    </tr>\n",
       "    <tr>\n",
       "      <th>대구광역시</th>\n",
       "      <td>314</td>\n",
       "      <td>13</td>\n",
       "      <td>15:16:10</td>\n",
       "    </tr>\n",
       "    <tr>\n",
       "      <th>대전광역시</th>\n",
       "      <td>268</td>\n",
       "      <td>28</td>\n",
       "      <td>03:05:12</td>\n",
       "    </tr>\n",
       "    <tr>\n",
       "      <th>부산광역시</th>\n",
       "      <td>228</td>\n",
       "      <td>8</td>\n",
       "      <td>11:00:24</td>\n",
       "    </tr>\n",
       "    <tr>\n",
       "      <th>서울특별시</th>\n",
       "      <td>712</td>\n",
       "      <td>2</td>\n",
       "      <td>05:17:37</td>\n",
       "    </tr>\n",
       "    <tr>\n",
       "      <th>세종특별자치시</th>\n",
       "      <td>53</td>\n",
       "      <td>17</td>\n",
       "      <td>02:52:01</td>\n",
       "    </tr>\n",
       "    <tr>\n",
       "      <th>울산광역시</th>\n",
       "      <td>175</td>\n",
       "      <td>19</td>\n",
       "      <td>06:06:50</td>\n",
       "    </tr>\n",
       "    <tr>\n",
       "      <th>인천광역시</th>\n",
       "      <td>366</td>\n",
       "      <td>27</td>\n",
       "      <td>01:44:22</td>\n",
       "    </tr>\n",
       "    <tr>\n",
       "      <th>전라남도</th>\n",
       "      <td>539</td>\n",
       "      <td>8</td>\n",
       "      <td>02:20:27</td>\n",
       "    </tr>\n",
       "    <tr>\n",
       "      <th>전라북도</th>\n",
       "      <td>545</td>\n",
       "      <td>22</td>\n",
       "      <td>14:46:27</td>\n",
       "    </tr>\n",
       "    <tr>\n",
       "      <th>제주특별자치도</th>\n",
       "      <td>599</td>\n",
       "      <td>22</td>\n",
       "      <td>11:34:50</td>\n",
       "    </tr>\n",
       "    <tr>\n",
       "      <th>충청남도</th>\n",
       "      <td>747</td>\n",
       "      <td>7</td>\n",
       "      <td>11:17:12</td>\n",
       "    </tr>\n",
       "    <tr>\n",
       "      <th>충청북도</th>\n",
       "      <td>640</td>\n",
       "      <td>26</td>\n",
       "      <td>04:59:21</td>\n",
       "    </tr>\n",
       "    <tr>\n",
       "      <th>0</th>\n",
       "      <td>9402</td>\n",
       "      <td>23</td>\n",
       "      <td>4:27:49</td>\n",
       "    </tr>\n",
       "  </tbody>\n",
       "</table>\n",
       "</div>"
      ],
      "text/plain": [
       "        지역별 총 충전시간(계산)               \n",
       "                months days      time\n",
       "강원도                679    9  13:42:02\n",
       "경기도               1545   12  07:47:30\n",
       "경상남도               679    5  03:50:30\n",
       "경상북도              1135    7  10:27:05\n",
       "광주광역시              170   25  22:19:49\n",
       "대구광역시              314   13  15:16:10\n",
       "대전광역시              268   28  03:05:12\n",
       "부산광역시              228    8  11:00:24\n",
       "서울특별시              712    2  05:17:37\n",
       "세종특별자치시             53   17  02:52:01\n",
       "울산광역시              175   19  06:06:50\n",
       "인천광역시              366   27  01:44:22\n",
       "전라남도               539    8  02:20:27\n",
       "전라북도               545   22  14:46:27\n",
       "제주특별자치도            599   22  11:34:50\n",
       "충청남도               747    7  11:17:12\n",
       "충청북도               640   26  04:59:21\n",
       "0                 9402   23   4:27:49"
      ]
     },
     "execution_count": 342,
     "metadata": {},
     "output_type": "execute_result"
    }
   ],
   "source": [
    "temp.columns = [['지역별 총 충전시간(계산)']*3, ['months', 'days', 'time']]\n",
    "temp"
   ]
  },
  {
   "cell_type": "code",
   "execution_count": 343,
   "metadata": {},
   "outputs": [],
   "source": [
    "temp.to_excel('2020-22년_급속충전_지역별_총_충전시간(계산).xlsx', encoding='utf-8')"
   ]
  },
  {
   "cell_type": "markdown",
   "metadata": {},
   "source": [
    "#### 충전량"
   ]
  },
  {
   "cell_type": "code",
   "execution_count": 147,
   "metadata": {},
   "outputs": [
    {
     "data": {
      "text/plain": [
       "지역\n",
       "강원도        16232572.48\n",
       "경기도        37043650.51\n",
       "경상남도       17777425.02\n",
       "경상북도       27188951.50\n",
       "광주광역시       3935268.34\n",
       "대구광역시       7842277.45\n",
       "대전광역시       6176372.79\n",
       "부산광역시       5405663.34\n",
       "서울특별시      16046052.85\n",
       "세종특별자치시     1298904.64\n",
       "울산광역시       4329300.12\n",
       "인천광역시       8821079.64\n",
       "전라남도       12601306.22\n",
       "전라북도       14003630.09\n",
       "제주특별자치도    12207723.80\n",
       "충청남도       18808718.07\n",
       "충청북도       15520247.58\n",
       "Name: 충전량, dtype: float64"
      ]
     },
     "execution_count": 147,
     "metadata": {},
     "output_type": "execute_result"
    }
   ],
   "source": [
    "ch_vol_by_local = df2.groupby(['지역'])['충전량'].sum()\n",
    "ch_vol_by_local"
   ]
  },
  {
   "cell_type": "code",
   "execution_count": 33,
   "metadata": {},
   "outputs": [],
   "source": [
    "ch_vol_by_local.to_excel('2020-22년_급속충전_지역별_총_충전량.xlsx', encoding='utf-8')"
   ]
  },
  {
   "cell_type": "markdown",
   "metadata": {},
   "source": [
    "### 년도별 충전시간, 충전량 통계\n",
    "- 총 충전시간, 충전량"
   ]
  },
  {
   "cell_type": "code",
   "execution_count": 71,
   "metadata": {},
   "outputs": [
    {
     "data": {
      "text/plain": [
       "충전시작_년도\n",
       "2020             89296 days 01:56:46\n",
       "2021             88766 days 15:01:20\n",
       "2022   94960 days 22:08:44.999999488\n",
       "Name: 충전시간, dtype: timedelta64[ns]"
      ]
     },
     "execution_count": 71,
     "metadata": {},
     "output_type": "execute_result"
    }
   ],
   "source": [
    "ch_time_day_by_year = df2.groupby(['충전시작_년도'])['충전시간'].sum()\n",
    "ch_time_day_by_year"
   ]
  },
  {
   "cell_type": "code",
   "execution_count": 72,
   "metadata": {},
   "outputs": [],
   "source": [
    "ch_time_day_by_year.to_excel('2020-22년_급속충전_년도별_총_충전시간.xlsx', encoding='utf-8')"
   ]
  },
  {
   "cell_type": "markdown",
   "metadata": {},
   "source": [
    "### 년도, 월별 충전시간, 충전량 통계\n",
    "- 총 충전시간, 총 충전량"
   ]
  },
  {
   "cell_type": "markdown",
   "metadata": {},
   "source": [
    "#### 총 충전시간"
   ]
  },
  {
   "cell_type": "code",
   "execution_count": 568,
   "metadata": {},
   "outputs": [
    {
     "data": {
      "text/plain": [
       "충전시작_년도  충전시작_월\n",
       "2020     1        4844 days 06:04:49\n",
       "         2        3807 days 14:53:40\n",
       "         3        4220 days 18:42:13\n",
       "         4        5200 days 19:02:23\n",
       "         5        6698 days 16:05:39\n",
       "Name: 충전시간, dtype: timedelta64[ns]"
      ]
     },
     "execution_count": 568,
     "metadata": {},
     "output_type": "execute_result"
    }
   ],
   "source": [
    "col = '충전시간'\n",
    "ch_cal_time_by_ym = df2.groupby(['충전시작_년도', '충전시작_월'])[col].sum()\n",
    "ch_cal_time_by_ym.head()"
   ]
  },
  {
   "cell_type": "code",
   "execution_count": 569,
   "metadata": {},
   "outputs": [
    {
     "data": {
      "text/html": [
       "<div>\n",
       "<style scoped>\n",
       "    .dataframe tbody tr th:only-of-type {\n",
       "        vertical-align: middle;\n",
       "    }\n",
       "\n",
       "    .dataframe tbody tr th {\n",
       "        vertical-align: top;\n",
       "    }\n",
       "\n",
       "    .dataframe thead th {\n",
       "        text-align: right;\n",
       "    }\n",
       "</style>\n",
       "<table border=\"1\" class=\"dataframe\">\n",
       "  <thead>\n",
       "    <tr style=\"text-align: right;\">\n",
       "      <th></th>\n",
       "      <th></th>\n",
       "      <th>충전시간</th>\n",
       "    </tr>\n",
       "    <tr>\n",
       "      <th>충전시작_년도</th>\n",
       "      <th>충전시작_월</th>\n",
       "      <th></th>\n",
       "    </tr>\n",
       "  </thead>\n",
       "  <tbody>\n",
       "    <tr>\n",
       "      <th rowspan=\"5\" valign=\"top\">2020</th>\n",
       "      <th>1</th>\n",
       "      <td>4844 days 06:04:49</td>\n",
       "    </tr>\n",
       "    <tr>\n",
       "      <th>2</th>\n",
       "      <td>3807 days 14:53:40</td>\n",
       "    </tr>\n",
       "    <tr>\n",
       "      <th>3</th>\n",
       "      <td>4220 days 18:42:13</td>\n",
       "    </tr>\n",
       "    <tr>\n",
       "      <th>4</th>\n",
       "      <td>5200 days 19:02:23</td>\n",
       "    </tr>\n",
       "    <tr>\n",
       "      <th>5</th>\n",
       "      <td>6698 days 16:05:39</td>\n",
       "    </tr>\n",
       "  </tbody>\n",
       "</table>\n",
       "</div>"
      ],
      "text/plain": [
       "                             충전시간\n",
       "충전시작_년도 충전시작_월                   \n",
       "2020    1      4844 days 06:04:49\n",
       "        2      3807 days 14:53:40\n",
       "        3      4220 days 18:42:13\n",
       "        4      5200 days 19:02:23\n",
       "        5      6698 days 16:05:39"
      ]
     },
     "execution_count": 569,
     "metadata": {},
     "output_type": "execute_result"
    }
   ],
   "source": [
    "ch_cal_time_by_ym = ch_cal_time_by_ym.to_frame()\n",
    "ch_cal_time_by_ym.head()"
   ]
  },
  {
   "cell_type": "code",
   "execution_count": 570,
   "metadata": {},
   "outputs": [
    {
     "data": {
      "text/plain": [
       "1264011"
      ]
     },
     "execution_count": 570,
     "metadata": {},
     "output_type": "execute_result"
    }
   ],
   "source": [
    "temp1 = ch_cal_time_by_ym[col].dt.seconds.sum()\n",
    "temp1"
   ]
  },
  {
   "cell_type": "code",
   "execution_count": 571,
   "metadata": {},
   "outputs": [
    {
     "data": {
      "text/plain": [
       "273009"
      ]
     },
     "execution_count": 571,
     "metadata": {},
     "output_type": "execute_result"
    }
   ],
   "source": [
    "temp2 = ch_cal_time_by_ym[col].dt.days.sum()\n",
    "temp2"
   ]
  },
  {
   "cell_type": "code",
   "execution_count": 572,
   "metadata": {},
   "outputs": [
    {
     "data": {
      "text/plain": [
       "(9100, 9, 351, 6, 51)"
      ]
     },
     "execution_count": 572,
     "metadata": {},
     "output_type": "execute_result"
    }
   ],
   "source": [
    "months = temp2 // 30\n",
    "days = temp2 % 30\n",
    "hours = temp1 // 3600\n",
    "minutes = (temp1 % 3600) // 60\n",
    "seconds = (temp1 % 3600) % 60\n",
    "months, days, hours, minutes, seconds"
   ]
  },
  {
   "cell_type": "code",
   "execution_count": 573,
   "metadata": {},
   "outputs": [
    {
     "data": {
      "text/plain": [
       "(23, 15)"
      ]
     },
     "execution_count": 573,
     "metadata": {},
     "output_type": "execute_result"
    }
   ],
   "source": [
    "days += hours // 24\n",
    "hours = hours % 24\n",
    "days, hours"
   ]
  },
  {
   "cell_type": "code",
   "execution_count": 574,
   "metadata": {},
   "outputs": [
    {
     "data": {
      "text/html": [
       "<div>\n",
       "<style scoped>\n",
       "    .dataframe tbody tr th:only-of-type {\n",
       "        vertical-align: middle;\n",
       "    }\n",
       "\n",
       "    .dataframe tbody tr th {\n",
       "        vertical-align: top;\n",
       "    }\n",
       "\n",
       "    .dataframe thead th {\n",
       "        text-align: right;\n",
       "    }\n",
       "</style>\n",
       "<table border=\"1\" class=\"dataframe\">\n",
       "  <thead>\n",
       "    <tr style=\"text-align: right;\">\n",
       "      <th></th>\n",
       "      <th></th>\n",
       "      <th>0</th>\n",
       "      <th>1</th>\n",
       "      <th>2</th>\n",
       "    </tr>\n",
       "    <tr>\n",
       "      <th>충전시작_년도</th>\n",
       "      <th>충전시작_월</th>\n",
       "      <th></th>\n",
       "      <th></th>\n",
       "      <th></th>\n",
       "    </tr>\n",
       "  </thead>\n",
       "  <tbody>\n",
       "    <tr>\n",
       "      <th rowspan=\"12\" valign=\"top\">2020</th>\n",
       "      <th>1</th>\n",
       "      <td>4844</td>\n",
       "      <td>days</td>\n",
       "      <td>06:04:49</td>\n",
       "    </tr>\n",
       "    <tr>\n",
       "      <th>2</th>\n",
       "      <td>3807</td>\n",
       "      <td>days</td>\n",
       "      <td>14:53:40</td>\n",
       "    </tr>\n",
       "    <tr>\n",
       "      <th>3</th>\n",
       "      <td>4220</td>\n",
       "      <td>days</td>\n",
       "      <td>18:42:13</td>\n",
       "    </tr>\n",
       "    <tr>\n",
       "      <th>4</th>\n",
       "      <td>5200</td>\n",
       "      <td>days</td>\n",
       "      <td>19:02:23</td>\n",
       "    </tr>\n",
       "    <tr>\n",
       "      <th>5</th>\n",
       "      <td>6698</td>\n",
       "      <td>days</td>\n",
       "      <td>16:05:39</td>\n",
       "    </tr>\n",
       "    <tr>\n",
       "      <th>6</th>\n",
       "      <td>8425</td>\n",
       "      <td>days</td>\n",
       "      <td>07:42:45</td>\n",
       "    </tr>\n",
       "    <tr>\n",
       "      <th>7</th>\n",
       "      <td>9948</td>\n",
       "      <td>days</td>\n",
       "      <td>17:47:42</td>\n",
       "    </tr>\n",
       "    <tr>\n",
       "      <th>8</th>\n",
       "      <td>9994</td>\n",
       "      <td>days</td>\n",
       "      <td>13:12:00</td>\n",
       "    </tr>\n",
       "    <tr>\n",
       "      <th>9</th>\n",
       "      <td>7887</td>\n",
       "      <td>days</td>\n",
       "      <td>09:02:08</td>\n",
       "    </tr>\n",
       "    <tr>\n",
       "      <th>10</th>\n",
       "      <td>9809</td>\n",
       "      <td>days</td>\n",
       "      <td>02:56:50</td>\n",
       "    </tr>\n",
       "    <tr>\n",
       "      <th>11</th>\n",
       "      <td>9686</td>\n",
       "      <td>days</td>\n",
       "      <td>05:46:34</td>\n",
       "    </tr>\n",
       "    <tr>\n",
       "      <th>12</th>\n",
       "      <td>8772</td>\n",
       "      <td>days</td>\n",
       "      <td>14:40:03</td>\n",
       "    </tr>\n",
       "    <tr>\n",
       "      <th rowspan=\"12\" valign=\"top\">2021</th>\n",
       "      <th>1</th>\n",
       "      <td>6700</td>\n",
       "      <td>days</td>\n",
       "      <td>00:31:35</td>\n",
       "    </tr>\n",
       "    <tr>\n",
       "      <th>2</th>\n",
       "      <td>5972</td>\n",
       "      <td>days</td>\n",
       "      <td>01:10:01</td>\n",
       "    </tr>\n",
       "    <tr>\n",
       "      <th>3</th>\n",
       "      <td>6318</td>\n",
       "      <td>days</td>\n",
       "      <td>03:25:10</td>\n",
       "    </tr>\n",
       "    <tr>\n",
       "      <th>4</th>\n",
       "      <td>5981</td>\n",
       "      <td>days</td>\n",
       "      <td>18:18:29</td>\n",
       "    </tr>\n",
       "    <tr>\n",
       "      <th>5</th>\n",
       "      <td>5934</td>\n",
       "      <td>days</td>\n",
       "      <td>01:30:44</td>\n",
       "    </tr>\n",
       "    <tr>\n",
       "      <th>6</th>\n",
       "      <td>5927</td>\n",
       "      <td>days</td>\n",
       "      <td>10:26:42</td>\n",
       "    </tr>\n",
       "    <tr>\n",
       "      <th>7</th>\n",
       "      <td>6999</td>\n",
       "      <td>days</td>\n",
       "      <td>08:35:22</td>\n",
       "    </tr>\n",
       "    <tr>\n",
       "      <th>8</th>\n",
       "      <td>7217</td>\n",
       "      <td>days</td>\n",
       "      <td>06:09:09</td>\n",
       "    </tr>\n",
       "    <tr>\n",
       "      <th>9</th>\n",
       "      <td>7222</td>\n",
       "      <td>days</td>\n",
       "      <td>08:48:45</td>\n",
       "    </tr>\n",
       "    <tr>\n",
       "      <th>10</th>\n",
       "      <td>8611</td>\n",
       "      <td>days</td>\n",
       "      <td>17:43:58</td>\n",
       "    </tr>\n",
       "    <tr>\n",
       "      <th>11</th>\n",
       "      <td>10017</td>\n",
       "      <td>days</td>\n",
       "      <td>21:16:40</td>\n",
       "    </tr>\n",
       "    <tr>\n",
       "      <th>12</th>\n",
       "      <td>11864</td>\n",
       "      <td>days</td>\n",
       "      <td>13:04:45</td>\n",
       "    </tr>\n",
       "    <tr>\n",
       "      <th rowspan=\"8\" valign=\"top\">2022</th>\n",
       "      <th>1</th>\n",
       "      <td>11766</td>\n",
       "      <td>days</td>\n",
       "      <td>19:03:00</td>\n",
       "    </tr>\n",
       "    <tr>\n",
       "      <th>2</th>\n",
       "      <td>9909</td>\n",
       "      <td>days</td>\n",
       "      <td>20:56:47</td>\n",
       "    </tr>\n",
       "    <tr>\n",
       "      <th>3</th>\n",
       "      <td>10833</td>\n",
       "      <td>days</td>\n",
       "      <td>12:08:33</td>\n",
       "    </tr>\n",
       "    <tr>\n",
       "      <th>4</th>\n",
       "      <td>11210</td>\n",
       "      <td>days</td>\n",
       "      <td>01:08:59</td>\n",
       "    </tr>\n",
       "    <tr>\n",
       "      <th>5</th>\n",
       "      <td>12025</td>\n",
       "      <td>days</td>\n",
       "      <td>11:31:03</td>\n",
       "    </tr>\n",
       "    <tr>\n",
       "      <th>6</th>\n",
       "      <td>12032</td>\n",
       "      <td>days</td>\n",
       "      <td>13:22:44</td>\n",
       "    </tr>\n",
       "    <tr>\n",
       "      <th>7</th>\n",
       "      <td>13605</td>\n",
       "      <td>days</td>\n",
       "      <td>05:53:35</td>\n",
       "    </tr>\n",
       "    <tr>\n",
       "      <th>8</th>\n",
       "      <td>13577</td>\n",
       "      <td>days</td>\n",
       "      <td>10:04:04</td>\n",
       "    </tr>\n",
       "  </tbody>\n",
       "</table>\n",
       "</div>"
      ],
      "text/plain": [
       "                    0     1         2\n",
       "충전시작_년도 충전시작_월                       \n",
       "2020    1        4844  days  06:04:49\n",
       "        2        3807  days  14:53:40\n",
       "        3        4220  days  18:42:13\n",
       "        4        5200  days  19:02:23\n",
       "        5        6698  days  16:05:39\n",
       "        6        8425  days  07:42:45\n",
       "        7        9948  days  17:47:42\n",
       "        8        9994  days  13:12:00\n",
       "        9        7887  days  09:02:08\n",
       "        10       9809  days  02:56:50\n",
       "        11       9686  days  05:46:34\n",
       "        12       8772  days  14:40:03\n",
       "2021    1        6700  days  00:31:35\n",
       "        2        5972  days  01:10:01\n",
       "        3        6318  days  03:25:10\n",
       "        4        5981  days  18:18:29\n",
       "        5        5934  days  01:30:44\n",
       "        6        5927  days  10:26:42\n",
       "        7        6999  days  08:35:22\n",
       "        8        7217  days  06:09:09\n",
       "        9        7222  days  08:48:45\n",
       "        10       8611  days  17:43:58\n",
       "        11      10017  days  21:16:40\n",
       "        12      11864  days  13:04:45\n",
       "2022    1       11766  days  19:03:00\n",
       "        2        9909  days  20:56:47\n",
       "        3       10833  days  12:08:33\n",
       "        4       11210  days  01:08:59\n",
       "        5       12025  days  11:31:03\n",
       "        6       12032  days  13:22:44\n",
       "        7       13605  days  05:53:35\n",
       "        8       13577  days  10:04:04"
      ]
     },
     "execution_count": 574,
     "metadata": {},
     "output_type": "execute_result"
    }
   ],
   "source": [
    "ch_cal_time_by_ym[col] = ch_cal_time_by_ym[col].astype(str)\n",
    "temp = ch_cal_time_by_ym[col].str.split(expand=True)\n",
    "temp"
   ]
  },
  {
   "cell_type": "code",
   "execution_count": 575,
   "metadata": {},
   "outputs": [
    {
     "data": {
      "text/html": [
       "<div>\n",
       "<style scoped>\n",
       "    .dataframe tbody tr th:only-of-type {\n",
       "        vertical-align: middle;\n",
       "    }\n",
       "\n",
       "    .dataframe tbody tr th {\n",
       "        vertical-align: top;\n",
       "    }\n",
       "\n",
       "    .dataframe thead th {\n",
       "        text-align: right;\n",
       "    }\n",
       "</style>\n",
       "<table border=\"1\" class=\"dataframe\">\n",
       "  <thead>\n",
       "    <tr style=\"text-align: right;\">\n",
       "      <th></th>\n",
       "      <th></th>\n",
       "      <th>days</th>\n",
       "      <th>time</th>\n",
       "      <th>months</th>\n",
       "    </tr>\n",
       "    <tr>\n",
       "      <th>충전시작_년도</th>\n",
       "      <th>충전시작_월</th>\n",
       "      <th></th>\n",
       "      <th></th>\n",
       "      <th></th>\n",
       "    </tr>\n",
       "  </thead>\n",
       "  <tbody>\n",
       "    <tr>\n",
       "      <th rowspan=\"12\" valign=\"top\">2020</th>\n",
       "      <th>1</th>\n",
       "      <td>14</td>\n",
       "      <td>06:04:49</td>\n",
       "      <td>161</td>\n",
       "    </tr>\n",
       "    <tr>\n",
       "      <th>2</th>\n",
       "      <td>27</td>\n",
       "      <td>14:53:40</td>\n",
       "      <td>126</td>\n",
       "    </tr>\n",
       "    <tr>\n",
       "      <th>3</th>\n",
       "      <td>20</td>\n",
       "      <td>18:42:13</td>\n",
       "      <td>140</td>\n",
       "    </tr>\n",
       "    <tr>\n",
       "      <th>4</th>\n",
       "      <td>10</td>\n",
       "      <td>19:02:23</td>\n",
       "      <td>173</td>\n",
       "    </tr>\n",
       "    <tr>\n",
       "      <th>5</th>\n",
       "      <td>8</td>\n",
       "      <td>16:05:39</td>\n",
       "      <td>223</td>\n",
       "    </tr>\n",
       "    <tr>\n",
       "      <th>6</th>\n",
       "      <td>25</td>\n",
       "      <td>07:42:45</td>\n",
       "      <td>280</td>\n",
       "    </tr>\n",
       "    <tr>\n",
       "      <th>7</th>\n",
       "      <td>18</td>\n",
       "      <td>17:47:42</td>\n",
       "      <td>331</td>\n",
       "    </tr>\n",
       "    <tr>\n",
       "      <th>8</th>\n",
       "      <td>4</td>\n",
       "      <td>13:12:00</td>\n",
       "      <td>333</td>\n",
       "    </tr>\n",
       "    <tr>\n",
       "      <th>9</th>\n",
       "      <td>27</td>\n",
       "      <td>09:02:08</td>\n",
       "      <td>262</td>\n",
       "    </tr>\n",
       "    <tr>\n",
       "      <th>10</th>\n",
       "      <td>29</td>\n",
       "      <td>02:56:50</td>\n",
       "      <td>326</td>\n",
       "    </tr>\n",
       "    <tr>\n",
       "      <th>11</th>\n",
       "      <td>26</td>\n",
       "      <td>05:46:34</td>\n",
       "      <td>322</td>\n",
       "    </tr>\n",
       "    <tr>\n",
       "      <th>12</th>\n",
       "      <td>12</td>\n",
       "      <td>14:40:03</td>\n",
       "      <td>292</td>\n",
       "    </tr>\n",
       "    <tr>\n",
       "      <th rowspan=\"12\" valign=\"top\">2021</th>\n",
       "      <th>1</th>\n",
       "      <td>10</td>\n",
       "      <td>00:31:35</td>\n",
       "      <td>223</td>\n",
       "    </tr>\n",
       "    <tr>\n",
       "      <th>2</th>\n",
       "      <td>2</td>\n",
       "      <td>01:10:01</td>\n",
       "      <td>199</td>\n",
       "    </tr>\n",
       "    <tr>\n",
       "      <th>3</th>\n",
       "      <td>18</td>\n",
       "      <td>03:25:10</td>\n",
       "      <td>210</td>\n",
       "    </tr>\n",
       "    <tr>\n",
       "      <th>4</th>\n",
       "      <td>11</td>\n",
       "      <td>18:18:29</td>\n",
       "      <td>199</td>\n",
       "    </tr>\n",
       "    <tr>\n",
       "      <th>5</th>\n",
       "      <td>24</td>\n",
       "      <td>01:30:44</td>\n",
       "      <td>197</td>\n",
       "    </tr>\n",
       "    <tr>\n",
       "      <th>6</th>\n",
       "      <td>17</td>\n",
       "      <td>10:26:42</td>\n",
       "      <td>197</td>\n",
       "    </tr>\n",
       "    <tr>\n",
       "      <th>7</th>\n",
       "      <td>9</td>\n",
       "      <td>08:35:22</td>\n",
       "      <td>233</td>\n",
       "    </tr>\n",
       "    <tr>\n",
       "      <th>8</th>\n",
       "      <td>17</td>\n",
       "      <td>06:09:09</td>\n",
       "      <td>240</td>\n",
       "    </tr>\n",
       "    <tr>\n",
       "      <th>9</th>\n",
       "      <td>22</td>\n",
       "      <td>08:48:45</td>\n",
       "      <td>240</td>\n",
       "    </tr>\n",
       "    <tr>\n",
       "      <th>10</th>\n",
       "      <td>1</td>\n",
       "      <td>17:43:58</td>\n",
       "      <td>287</td>\n",
       "    </tr>\n",
       "    <tr>\n",
       "      <th>11</th>\n",
       "      <td>27</td>\n",
       "      <td>21:16:40</td>\n",
       "      <td>333</td>\n",
       "    </tr>\n",
       "    <tr>\n",
       "      <th>12</th>\n",
       "      <td>14</td>\n",
       "      <td>13:04:45</td>\n",
       "      <td>395</td>\n",
       "    </tr>\n",
       "    <tr>\n",
       "      <th rowspan=\"8\" valign=\"top\">2022</th>\n",
       "      <th>1</th>\n",
       "      <td>6</td>\n",
       "      <td>19:03:00</td>\n",
       "      <td>392</td>\n",
       "    </tr>\n",
       "    <tr>\n",
       "      <th>2</th>\n",
       "      <td>9</td>\n",
       "      <td>20:56:47</td>\n",
       "      <td>330</td>\n",
       "    </tr>\n",
       "    <tr>\n",
       "      <th>3</th>\n",
       "      <td>3</td>\n",
       "      <td>12:08:33</td>\n",
       "      <td>361</td>\n",
       "    </tr>\n",
       "    <tr>\n",
       "      <th>4</th>\n",
       "      <td>20</td>\n",
       "      <td>01:08:59</td>\n",
       "      <td>373</td>\n",
       "    </tr>\n",
       "    <tr>\n",
       "      <th>5</th>\n",
       "      <td>25</td>\n",
       "      <td>11:31:03</td>\n",
       "      <td>400</td>\n",
       "    </tr>\n",
       "    <tr>\n",
       "      <th>6</th>\n",
       "      <td>2</td>\n",
       "      <td>13:22:44</td>\n",
       "      <td>401</td>\n",
       "    </tr>\n",
       "    <tr>\n",
       "      <th>7</th>\n",
       "      <td>15</td>\n",
       "      <td>05:53:35</td>\n",
       "      <td>453</td>\n",
       "    </tr>\n",
       "    <tr>\n",
       "      <th>8</th>\n",
       "      <td>17</td>\n",
       "      <td>10:04:04</td>\n",
       "      <td>452</td>\n",
       "    </tr>\n",
       "  </tbody>\n",
       "</table>\n",
       "</div>"
      ],
      "text/plain": [
       "                days      time  months\n",
       "충전시작_년도 충전시작_월                        \n",
       "2020    1         14  06:04:49     161\n",
       "        2         27  14:53:40     126\n",
       "        3         20  18:42:13     140\n",
       "        4         10  19:02:23     173\n",
       "        5          8  16:05:39     223\n",
       "        6         25  07:42:45     280\n",
       "        7         18  17:47:42     331\n",
       "        8          4  13:12:00     333\n",
       "        9         27  09:02:08     262\n",
       "        10        29  02:56:50     326\n",
       "        11        26  05:46:34     322\n",
       "        12        12  14:40:03     292\n",
       "2021    1         10  00:31:35     223\n",
       "        2          2  01:10:01     199\n",
       "        3         18  03:25:10     210\n",
       "        4         11  18:18:29     199\n",
       "        5         24  01:30:44     197\n",
       "        6         17  10:26:42     197\n",
       "        7          9  08:35:22     233\n",
       "        8         17  06:09:09     240\n",
       "        9         22  08:48:45     240\n",
       "        10         1  17:43:58     287\n",
       "        11        27  21:16:40     333\n",
       "        12        14  13:04:45     395\n",
       "2022    1          6  19:03:00     392\n",
       "        2          9  20:56:47     330\n",
       "        3          3  12:08:33     361\n",
       "        4         20  01:08:59     373\n",
       "        5         25  11:31:03     400\n",
       "        6          2  13:22:44     401\n",
       "        7         15  05:53:35     453\n",
       "        8         17  10:04:04     452"
      ]
     },
     "execution_count": 575,
     "metadata": {},
     "output_type": "execute_result"
    }
   ],
   "source": [
    "temp = temp.drop([1], axis=1)\n",
    "temp.columns = ['days', 'time']\n",
    "temp['months'] = temp['days'].astype(int) // 30\n",
    "temp['days'] = temp['days'].astype(int) % 30\n",
    "temp"
   ]
  },
  {
   "cell_type": "code",
   "execution_count": 576,
   "metadata": {},
   "outputs": [
    {
     "data": {
      "text/plain": [
       "Index(['days', 'time', 'months'], dtype='object')"
      ]
     },
     "execution_count": 576,
     "metadata": {},
     "output_type": "execute_result"
    }
   ],
   "source": [
    "temp.columns"
   ]
  },
  {
   "cell_type": "code",
   "execution_count": 577,
   "metadata": {},
   "outputs": [
    {
     "data": {
      "text/html": [
       "<div>\n",
       "<style scoped>\n",
       "    .dataframe tbody tr th:only-of-type {\n",
       "        vertical-align: middle;\n",
       "    }\n",
       "\n",
       "    .dataframe tbody tr th {\n",
       "        vertical-align: top;\n",
       "    }\n",
       "\n",
       "    .dataframe thead th {\n",
       "        text-align: right;\n",
       "    }\n",
       "</style>\n",
       "<table border=\"1\" class=\"dataframe\">\n",
       "  <thead>\n",
       "    <tr style=\"text-align: right;\">\n",
       "      <th></th>\n",
       "      <th></th>\n",
       "      <th>days</th>\n",
       "      <th>time</th>\n",
       "      <th>months</th>\n",
       "    </tr>\n",
       "    <tr>\n",
       "      <th>충전시작_년도</th>\n",
       "      <th>충전시작_월</th>\n",
       "      <th></th>\n",
       "      <th></th>\n",
       "      <th></th>\n",
       "    </tr>\n",
       "  </thead>\n",
       "  <tbody>\n",
       "    <tr>\n",
       "      <th rowspan=\"12\" valign=\"top\">2020</th>\n",
       "      <th>1</th>\n",
       "      <td>14</td>\n",
       "      <td>06:04:49</td>\n",
       "      <td>161</td>\n",
       "    </tr>\n",
       "    <tr>\n",
       "      <th>2</th>\n",
       "      <td>27</td>\n",
       "      <td>14:53:40</td>\n",
       "      <td>126</td>\n",
       "    </tr>\n",
       "    <tr>\n",
       "      <th>3</th>\n",
       "      <td>20</td>\n",
       "      <td>18:42:13</td>\n",
       "      <td>140</td>\n",
       "    </tr>\n",
       "    <tr>\n",
       "      <th>4</th>\n",
       "      <td>10</td>\n",
       "      <td>19:02:23</td>\n",
       "      <td>173</td>\n",
       "    </tr>\n",
       "    <tr>\n",
       "      <th>5</th>\n",
       "      <td>8</td>\n",
       "      <td>16:05:39</td>\n",
       "      <td>223</td>\n",
       "    </tr>\n",
       "    <tr>\n",
       "      <th>6</th>\n",
       "      <td>25</td>\n",
       "      <td>07:42:45</td>\n",
       "      <td>280</td>\n",
       "    </tr>\n",
       "    <tr>\n",
       "      <th>7</th>\n",
       "      <td>18</td>\n",
       "      <td>17:47:42</td>\n",
       "      <td>331</td>\n",
       "    </tr>\n",
       "    <tr>\n",
       "      <th>8</th>\n",
       "      <td>4</td>\n",
       "      <td>13:12:00</td>\n",
       "      <td>333</td>\n",
       "    </tr>\n",
       "    <tr>\n",
       "      <th>9</th>\n",
       "      <td>27</td>\n",
       "      <td>09:02:08</td>\n",
       "      <td>262</td>\n",
       "    </tr>\n",
       "    <tr>\n",
       "      <th>10</th>\n",
       "      <td>29</td>\n",
       "      <td>02:56:50</td>\n",
       "      <td>326</td>\n",
       "    </tr>\n",
       "    <tr>\n",
       "      <th>11</th>\n",
       "      <td>26</td>\n",
       "      <td>05:46:34</td>\n",
       "      <td>322</td>\n",
       "    </tr>\n",
       "    <tr>\n",
       "      <th>12</th>\n",
       "      <td>12</td>\n",
       "      <td>14:40:03</td>\n",
       "      <td>292</td>\n",
       "    </tr>\n",
       "  </tbody>\n",
       "</table>\n",
       "</div>"
      ],
      "text/plain": [
       "                days      time  months\n",
       "충전시작_년도 충전시작_월                        \n",
       "2020    1         14  06:04:49     161\n",
       "        2         27  14:53:40     126\n",
       "        3         20  18:42:13     140\n",
       "        4         10  19:02:23     173\n",
       "        5          8  16:05:39     223\n",
       "        6         25  07:42:45     280\n",
       "        7         18  17:47:42     331\n",
       "        8          4  13:12:00     333\n",
       "        9         27  09:02:08     262\n",
       "        10        29  02:56:50     326\n",
       "        11        26  05:46:34     322\n",
       "        12        12  14:40:03     292"
      ]
     },
     "execution_count": 577,
     "metadata": {},
     "output_type": "execute_result"
    }
   ],
   "source": [
    "sp1 = temp.iloc[:12, :]\n",
    "sp1"
   ]
  },
  {
   "cell_type": "code",
   "execution_count": 578,
   "metadata": {},
   "outputs": [
    {
     "data": {
      "text/html": [
       "<div>\n",
       "<style scoped>\n",
       "    .dataframe tbody tr th:only-of-type {\n",
       "        vertical-align: middle;\n",
       "    }\n",
       "\n",
       "    .dataframe tbody tr th {\n",
       "        vertical-align: top;\n",
       "    }\n",
       "\n",
       "    .dataframe thead th {\n",
       "        text-align: right;\n",
       "    }\n",
       "</style>\n",
       "<table border=\"1\" class=\"dataframe\">\n",
       "  <thead>\n",
       "    <tr style=\"text-align: right;\">\n",
       "      <th></th>\n",
       "      <th></th>\n",
       "      <th>days</th>\n",
       "      <th>time</th>\n",
       "      <th>months</th>\n",
       "    </tr>\n",
       "    <tr>\n",
       "      <th>충전시작_년도</th>\n",
       "      <th>충전시작_월</th>\n",
       "      <th></th>\n",
       "      <th></th>\n",
       "      <th></th>\n",
       "    </tr>\n",
       "  </thead>\n",
       "  <tbody>\n",
       "    <tr>\n",
       "      <th rowspan=\"12\" valign=\"top\">2021</th>\n",
       "      <th>1</th>\n",
       "      <td>10</td>\n",
       "      <td>00:31:35</td>\n",
       "      <td>223</td>\n",
       "    </tr>\n",
       "    <tr>\n",
       "      <th>2</th>\n",
       "      <td>2</td>\n",
       "      <td>01:10:01</td>\n",
       "      <td>199</td>\n",
       "    </tr>\n",
       "    <tr>\n",
       "      <th>3</th>\n",
       "      <td>18</td>\n",
       "      <td>03:25:10</td>\n",
       "      <td>210</td>\n",
       "    </tr>\n",
       "    <tr>\n",
       "      <th>4</th>\n",
       "      <td>11</td>\n",
       "      <td>18:18:29</td>\n",
       "      <td>199</td>\n",
       "    </tr>\n",
       "    <tr>\n",
       "      <th>5</th>\n",
       "      <td>24</td>\n",
       "      <td>01:30:44</td>\n",
       "      <td>197</td>\n",
       "    </tr>\n",
       "    <tr>\n",
       "      <th>6</th>\n",
       "      <td>17</td>\n",
       "      <td>10:26:42</td>\n",
       "      <td>197</td>\n",
       "    </tr>\n",
       "    <tr>\n",
       "      <th>7</th>\n",
       "      <td>9</td>\n",
       "      <td>08:35:22</td>\n",
       "      <td>233</td>\n",
       "    </tr>\n",
       "    <tr>\n",
       "      <th>8</th>\n",
       "      <td>17</td>\n",
       "      <td>06:09:09</td>\n",
       "      <td>240</td>\n",
       "    </tr>\n",
       "    <tr>\n",
       "      <th>9</th>\n",
       "      <td>22</td>\n",
       "      <td>08:48:45</td>\n",
       "      <td>240</td>\n",
       "    </tr>\n",
       "    <tr>\n",
       "      <th>10</th>\n",
       "      <td>1</td>\n",
       "      <td>17:43:58</td>\n",
       "      <td>287</td>\n",
       "    </tr>\n",
       "    <tr>\n",
       "      <th>11</th>\n",
       "      <td>27</td>\n",
       "      <td>21:16:40</td>\n",
       "      <td>333</td>\n",
       "    </tr>\n",
       "    <tr>\n",
       "      <th>12</th>\n",
       "      <td>14</td>\n",
       "      <td>13:04:45</td>\n",
       "      <td>395</td>\n",
       "    </tr>\n",
       "  </tbody>\n",
       "</table>\n",
       "</div>"
      ],
      "text/plain": [
       "                days      time  months\n",
       "충전시작_년도 충전시작_월                        \n",
       "2021    1         10  00:31:35     223\n",
       "        2          2  01:10:01     199\n",
       "        3         18  03:25:10     210\n",
       "        4         11  18:18:29     199\n",
       "        5         24  01:30:44     197\n",
       "        6         17  10:26:42     197\n",
       "        7          9  08:35:22     233\n",
       "        8         17  06:09:09     240\n",
       "        9         22  08:48:45     240\n",
       "        10         1  17:43:58     287\n",
       "        11        27  21:16:40     333\n",
       "        12        14  13:04:45     395"
      ]
     },
     "execution_count": 578,
     "metadata": {},
     "output_type": "execute_result"
    }
   ],
   "source": [
    "sp2 = temp.iloc[12:24, :]\n",
    "sp2"
   ]
  },
  {
   "cell_type": "code",
   "execution_count": 579,
   "metadata": {},
   "outputs": [
    {
     "data": {
      "text/html": [
       "<div>\n",
       "<style scoped>\n",
       "    .dataframe tbody tr th:only-of-type {\n",
       "        vertical-align: middle;\n",
       "    }\n",
       "\n",
       "    .dataframe tbody tr th {\n",
       "        vertical-align: top;\n",
       "    }\n",
       "\n",
       "    .dataframe thead th {\n",
       "        text-align: right;\n",
       "    }\n",
       "</style>\n",
       "<table border=\"1\" class=\"dataframe\">\n",
       "  <thead>\n",
       "    <tr style=\"text-align: right;\">\n",
       "      <th></th>\n",
       "      <th></th>\n",
       "      <th>days</th>\n",
       "      <th>time</th>\n",
       "      <th>months</th>\n",
       "    </tr>\n",
       "    <tr>\n",
       "      <th>충전시작_년도</th>\n",
       "      <th>충전시작_월</th>\n",
       "      <th></th>\n",
       "      <th></th>\n",
       "      <th></th>\n",
       "    </tr>\n",
       "  </thead>\n",
       "  <tbody>\n",
       "    <tr>\n",
       "      <th rowspan=\"8\" valign=\"top\">2022</th>\n",
       "      <th>1</th>\n",
       "      <td>6</td>\n",
       "      <td>19:03:00</td>\n",
       "      <td>392</td>\n",
       "    </tr>\n",
       "    <tr>\n",
       "      <th>2</th>\n",
       "      <td>9</td>\n",
       "      <td>20:56:47</td>\n",
       "      <td>330</td>\n",
       "    </tr>\n",
       "    <tr>\n",
       "      <th>3</th>\n",
       "      <td>3</td>\n",
       "      <td>12:08:33</td>\n",
       "      <td>361</td>\n",
       "    </tr>\n",
       "    <tr>\n",
       "      <th>4</th>\n",
       "      <td>20</td>\n",
       "      <td>01:08:59</td>\n",
       "      <td>373</td>\n",
       "    </tr>\n",
       "    <tr>\n",
       "      <th>5</th>\n",
       "      <td>25</td>\n",
       "      <td>11:31:03</td>\n",
       "      <td>400</td>\n",
       "    </tr>\n",
       "    <tr>\n",
       "      <th>6</th>\n",
       "      <td>2</td>\n",
       "      <td>13:22:44</td>\n",
       "      <td>401</td>\n",
       "    </tr>\n",
       "    <tr>\n",
       "      <th>7</th>\n",
       "      <td>15</td>\n",
       "      <td>05:53:35</td>\n",
       "      <td>453</td>\n",
       "    </tr>\n",
       "    <tr>\n",
       "      <th>8</th>\n",
       "      <td>17</td>\n",
       "      <td>10:04:04</td>\n",
       "      <td>452</td>\n",
       "    </tr>\n",
       "  </tbody>\n",
       "</table>\n",
       "</div>"
      ],
      "text/plain": [
       "                days      time  months\n",
       "충전시작_년도 충전시작_월                        \n",
       "2022    1          6  19:03:00     392\n",
       "        2          9  20:56:47     330\n",
       "        3          3  12:08:33     361\n",
       "        4         20  01:08:59     373\n",
       "        5         25  11:31:03     400\n",
       "        6          2  13:22:44     401\n",
       "        7         15  05:53:35     453\n",
       "        8         17  10:04:04     452"
      ]
     },
     "execution_count": 579,
     "metadata": {},
     "output_type": "execute_result"
    }
   ],
   "source": [
    "sp3 = temp.iloc[24:, :]\n",
    "sp3"
   ]
  },
  {
   "cell_type": "code",
   "execution_count": 580,
   "metadata": {},
   "outputs": [
    {
     "data": {
      "text/plain": [
       "충전시작_년도\n",
       "2020             89296 days 01:56:46\n",
       "2021             88766 days 15:01:20\n",
       "2022   94960 days 22:08:44.999999488\n",
       "Name: 충전시간, dtype: timedelta64[ns]"
      ]
     },
     "execution_count": 580,
     "metadata": {},
     "output_type": "execute_result"
    }
   ],
   "source": [
    "ch_cal_time_by_y = df2.groupby(['충전시작_년도'])[col].sum()\n",
    "ch_cal_time_by_y.head()"
   ]
  },
  {
   "cell_type": "code",
   "execution_count": 581,
   "metadata": {},
   "outputs": [
    {
     "data": {
      "text/html": [
       "<div>\n",
       "<style scoped>\n",
       "    .dataframe tbody tr th:only-of-type {\n",
       "        vertical-align: middle;\n",
       "    }\n",
       "\n",
       "    .dataframe tbody tr th {\n",
       "        vertical-align: top;\n",
       "    }\n",
       "\n",
       "    .dataframe thead th {\n",
       "        text-align: right;\n",
       "    }\n",
       "</style>\n",
       "<table border=\"1\" class=\"dataframe\">\n",
       "  <thead>\n",
       "    <tr style=\"text-align: right;\">\n",
       "      <th></th>\n",
       "      <th>충전시간</th>\n",
       "    </tr>\n",
       "    <tr>\n",
       "      <th>충전시작_년도</th>\n",
       "      <th></th>\n",
       "    </tr>\n",
       "  </thead>\n",
       "  <tbody>\n",
       "    <tr>\n",
       "      <th>2020</th>\n",
       "      <td>89296 days 01:56:46</td>\n",
       "    </tr>\n",
       "    <tr>\n",
       "      <th>2021</th>\n",
       "      <td>88766 days 15:01:20</td>\n",
       "    </tr>\n",
       "    <tr>\n",
       "      <th>2022</th>\n",
       "      <td>94960 days 22:08:44.999999488</td>\n",
       "    </tr>\n",
       "  </tbody>\n",
       "</table>\n",
       "</div>"
      ],
      "text/plain": [
       "                                  충전시간\n",
       "충전시작_년도                               \n",
       "2020               89296 days 01:56:46\n",
       "2021               88766 days 15:01:20\n",
       "2022     94960 days 22:08:44.999999488"
      ]
     },
     "execution_count": 581,
     "metadata": {},
     "output_type": "execute_result"
    }
   ],
   "source": [
    "ch_cal_time_by_y = ch_cal_time_by_y.to_frame()\n",
    "ch_cal_time_by_y[col] = ch_cal_time_by_y[col].astype(str)\n",
    "ch_cal_time_by_y"
   ]
  },
  {
   "cell_type": "code",
   "execution_count": 582,
   "metadata": {},
   "outputs": [
    {
     "data": {
      "text/html": [
       "<div>\n",
       "<style scoped>\n",
       "    .dataframe tbody tr th:only-of-type {\n",
       "        vertical-align: middle;\n",
       "    }\n",
       "\n",
       "    .dataframe tbody tr th {\n",
       "        vertical-align: top;\n",
       "    }\n",
       "\n",
       "    .dataframe thead th {\n",
       "        text-align: right;\n",
       "    }\n",
       "</style>\n",
       "<table border=\"1\" class=\"dataframe\">\n",
       "  <thead>\n",
       "    <tr style=\"text-align: right;\">\n",
       "      <th></th>\n",
       "      <th>0</th>\n",
       "      <th>1</th>\n",
       "      <th>2</th>\n",
       "    </tr>\n",
       "    <tr>\n",
       "      <th>충전시작_년도</th>\n",
       "      <th></th>\n",
       "      <th></th>\n",
       "      <th></th>\n",
       "    </tr>\n",
       "  </thead>\n",
       "  <tbody>\n",
       "    <tr>\n",
       "      <th>2020</th>\n",
       "      <td>89296</td>\n",
       "      <td>days</td>\n",
       "      <td>01:56:46</td>\n",
       "    </tr>\n",
       "    <tr>\n",
       "      <th>2021</th>\n",
       "      <td>88766</td>\n",
       "      <td>days</td>\n",
       "      <td>15:01:20</td>\n",
       "    </tr>\n",
       "    <tr>\n",
       "      <th>2022</th>\n",
       "      <td>94960</td>\n",
       "      <td>days</td>\n",
       "      <td>22:08:44.999999488</td>\n",
       "    </tr>\n",
       "  </tbody>\n",
       "</table>\n",
       "</div>"
      ],
      "text/plain": [
       "             0     1                   2\n",
       "충전시작_년도                                 \n",
       "2020     89296  days            01:56:46\n",
       "2021     88766  days            15:01:20\n",
       "2022     94960  days  22:08:44.999999488"
      ]
     },
     "execution_count": 582,
     "metadata": {},
     "output_type": "execute_result"
    }
   ],
   "source": [
    "ch_cal_time_by_y = ch_cal_time_by_y[col].str.split(expand=True)\n",
    "ch_cal_time_by_y"
   ]
  },
  {
   "cell_type": "code",
   "execution_count": 583,
   "metadata": {},
   "outputs": [
    {
     "data": {
      "text/html": [
       "<div>\n",
       "<style scoped>\n",
       "    .dataframe tbody tr th:only-of-type {\n",
       "        vertical-align: middle;\n",
       "    }\n",
       "\n",
       "    .dataframe tbody tr th {\n",
       "        vertical-align: top;\n",
       "    }\n",
       "\n",
       "    .dataframe thead th {\n",
       "        text-align: right;\n",
       "    }\n",
       "</style>\n",
       "<table border=\"1\" class=\"dataframe\">\n",
       "  <thead>\n",
       "    <tr style=\"text-align: right;\">\n",
       "      <th></th>\n",
       "      <th>0</th>\n",
       "      <th>2</th>\n",
       "    </tr>\n",
       "    <tr>\n",
       "      <th>충전시작_년도</th>\n",
       "      <th></th>\n",
       "      <th></th>\n",
       "    </tr>\n",
       "  </thead>\n",
       "  <tbody>\n",
       "    <tr>\n",
       "      <th>2020</th>\n",
       "      <td>89296</td>\n",
       "      <td>01:56:46</td>\n",
       "    </tr>\n",
       "    <tr>\n",
       "      <th>2021</th>\n",
       "      <td>88766</td>\n",
       "      <td>15:01:20</td>\n",
       "    </tr>\n",
       "    <tr>\n",
       "      <th>2022</th>\n",
       "      <td>94960</td>\n",
       "      <td>22:08:44.999999488</td>\n",
       "    </tr>\n",
       "  </tbody>\n",
       "</table>\n",
       "</div>"
      ],
      "text/plain": [
       "             0                   2\n",
       "충전시작_년도                           \n",
       "2020     89296            01:56:46\n",
       "2021     88766            15:01:20\n",
       "2022     94960  22:08:44.999999488"
      ]
     },
     "execution_count": 583,
     "metadata": {},
     "output_type": "execute_result"
    }
   ],
   "source": [
    "ch_cal_time_by_y = ch_cal_time_by_y.drop([1], axis=1)\n",
    "ch_cal_time_by_y"
   ]
  },
  {
   "cell_type": "code",
   "execution_count": 584,
   "metadata": {},
   "outputs": [
    {
     "name": "stdout",
     "output_type": "stream",
     "text": [
      "<class 'pandas.core.frame.DataFrame'>\n",
      "Int64Index: 3 entries, 2020 to 2022\n",
      "Data columns (total 2 columns):\n",
      " #   Column  Non-Null Count  Dtype \n",
      "---  ------  --------------  ----- \n",
      " 0   0       3 non-null      int32 \n",
      " 1   2       3 non-null      object\n",
      "dtypes: int32(1), object(1)\n",
      "memory usage: 60.0+ bytes\n"
     ]
    }
   ],
   "source": [
    "ch_cal_time_by_y[0] = ch_cal_time_by_y[0].astype(int)\n",
    "ch_cal_time_by_y.info()"
   ]
  },
  {
   "cell_type": "code",
   "execution_count": 585,
   "metadata": {},
   "outputs": [],
   "source": [
    "temp20 = ch_cal_time_by_y.iloc[0]\n",
    "temp21 = ch_cal_time_by_y.iloc[1]\n",
    "temp22 = ch_cal_time_by_y.iloc[2]"
   ]
  },
  {
   "cell_type": "code",
   "execution_count": 586,
   "metadata": {},
   "outputs": [
    {
     "data": {
      "text/plain": [
       "(2976, 16, '01:56:46')"
      ]
     },
     "execution_count": 586,
     "metadata": {},
     "output_type": "execute_result"
    }
   ],
   "source": [
    "d20, t20 = temp20[0], temp20[2]\n",
    "months20 = d20 // 30\n",
    "days20 = d20 % 30\n",
    "months20, days20, t20"
   ]
  },
  {
   "cell_type": "code",
   "execution_count": 587,
   "metadata": {},
   "outputs": [
    {
     "data": {
      "text/plain": [
       "(2958, 26, '15:01:20')"
      ]
     },
     "execution_count": 587,
     "metadata": {},
     "output_type": "execute_result"
    }
   ],
   "source": [
    "d21, t21 = temp21[0], temp21[2]\n",
    "months21 = d21 // 30\n",
    "days21 = d21 % 30\n",
    "months21, days21, t21"
   ]
  },
  {
   "cell_type": "code",
   "execution_count": 588,
   "metadata": {},
   "outputs": [
    {
     "data": {
      "text/plain": [
       "(3165, 10, '22:08:44.999999488')"
      ]
     },
     "execution_count": 588,
     "metadata": {},
     "output_type": "execute_result"
    }
   ],
   "source": [
    "d22,t22 = temp22[0], temp22[2]\n",
    "months22 = d22 // 30\n",
    "days22 = d22 % 30\n",
    "months22, days22, t22"
   ]
  },
  {
   "cell_type": "code",
   "execution_count": 589,
   "metadata": {},
   "outputs": [
    {
     "data": {
      "text/plain": [
       "Index(['days', 'time', 'months'], dtype='object')"
      ]
     },
     "execution_count": 589,
     "metadata": {},
     "output_type": "execute_result"
    }
   ],
   "source": [
    "sp1.columns"
   ]
  },
  {
   "cell_type": "code",
   "execution_count": 590,
   "metadata": {},
   "outputs": [
    {
     "data": {
      "text/html": [
       "<div>\n",
       "<style scoped>\n",
       "    .dataframe tbody tr th:only-of-type {\n",
       "        vertical-align: middle;\n",
       "    }\n",
       "\n",
       "    .dataframe tbody tr th {\n",
       "        vertical-align: top;\n",
       "    }\n",
       "\n",
       "    .dataframe thead th {\n",
       "        text-align: right;\n",
       "    }\n",
       "</style>\n",
       "<table border=\"1\" class=\"dataframe\">\n",
       "  <thead>\n",
       "    <tr style=\"text-align: right;\">\n",
       "      <th></th>\n",
       "      <th>days</th>\n",
       "      <th>time</th>\n",
       "      <th>months</th>\n",
       "    </tr>\n",
       "  </thead>\n",
       "  <tbody>\n",
       "    <tr>\n",
       "      <th>0</th>\n",
       "      <td>16</td>\n",
       "      <td>01:56:46</td>\n",
       "      <td>2976</td>\n",
       "    </tr>\n",
       "  </tbody>\n",
       "</table>\n",
       "</div>"
      ],
      "text/plain": [
       "   days      time  months\n",
       "0    16  01:56:46    2976"
      ]
     },
     "execution_count": 590,
     "metadata": {},
     "output_type": "execute_result"
    }
   ],
   "source": [
    "total20 = pd.DataFrame({'days':[days20], 'time':[t20], 'months':[months20]})\n",
    "total20"
   ]
  },
  {
   "cell_type": "code",
   "execution_count": 591,
   "metadata": {},
   "outputs": [
    {
     "data": {
      "text/html": [
       "<div>\n",
       "<style scoped>\n",
       "    .dataframe tbody tr th:only-of-type {\n",
       "        vertical-align: middle;\n",
       "    }\n",
       "\n",
       "    .dataframe tbody tr th {\n",
       "        vertical-align: top;\n",
       "    }\n",
       "\n",
       "    .dataframe thead th {\n",
       "        text-align: right;\n",
       "    }\n",
       "</style>\n",
       "<table border=\"1\" class=\"dataframe\">\n",
       "  <thead>\n",
       "    <tr style=\"text-align: right;\">\n",
       "      <th></th>\n",
       "      <th>days</th>\n",
       "      <th>time</th>\n",
       "      <th>months</th>\n",
       "    </tr>\n",
       "  </thead>\n",
       "  <tbody>\n",
       "    <tr>\n",
       "      <th>0</th>\n",
       "      <td>26</td>\n",
       "      <td>15:01:20</td>\n",
       "      <td>2958</td>\n",
       "    </tr>\n",
       "  </tbody>\n",
       "</table>\n",
       "</div>"
      ],
      "text/plain": [
       "   days      time  months\n",
       "0    26  15:01:20    2958"
      ]
     },
     "execution_count": 591,
     "metadata": {},
     "output_type": "execute_result"
    }
   ],
   "source": [
    "total21 = pd.DataFrame({'days':[days21], 'time':[t21], 'months':[months21]})\n",
    "total21"
   ]
  },
  {
   "cell_type": "code",
   "execution_count": 592,
   "metadata": {},
   "outputs": [
    {
     "data": {
      "text/html": [
       "<div>\n",
       "<style scoped>\n",
       "    .dataframe tbody tr th:only-of-type {\n",
       "        vertical-align: middle;\n",
       "    }\n",
       "\n",
       "    .dataframe tbody tr th {\n",
       "        vertical-align: top;\n",
       "    }\n",
       "\n",
       "    .dataframe thead th {\n",
       "        text-align: right;\n",
       "    }\n",
       "</style>\n",
       "<table border=\"1\" class=\"dataframe\">\n",
       "  <thead>\n",
       "    <tr style=\"text-align: right;\">\n",
       "      <th></th>\n",
       "      <th>days</th>\n",
       "      <th>time</th>\n",
       "      <th>months</th>\n",
       "    </tr>\n",
       "  </thead>\n",
       "  <tbody>\n",
       "    <tr>\n",
       "      <th>0</th>\n",
       "      <td>10</td>\n",
       "      <td>22:08:44.999999488</td>\n",
       "      <td>3165</td>\n",
       "    </tr>\n",
       "  </tbody>\n",
       "</table>\n",
       "</div>"
      ],
      "text/plain": [
       "   days                time  months\n",
       "0    10  22:08:44.999999488    3165"
      ]
     },
     "execution_count": 592,
     "metadata": {},
     "output_type": "execute_result"
    }
   ],
   "source": [
    "total22 = pd.DataFrame({'days':[days22], 'time':[t22], 'months':[months22]})\n",
    "total22"
   ]
  },
  {
   "cell_type": "code",
   "execution_count": 593,
   "metadata": {},
   "outputs": [
    {
     "data": {
      "text/html": [
       "<div>\n",
       "<style scoped>\n",
       "    .dataframe tbody tr th:only-of-type {\n",
       "        vertical-align: middle;\n",
       "    }\n",
       "\n",
       "    .dataframe tbody tr th {\n",
       "        vertical-align: top;\n",
       "    }\n",
       "\n",
       "    .dataframe thead th {\n",
       "        text-align: right;\n",
       "    }\n",
       "</style>\n",
       "<table border=\"1\" class=\"dataframe\">\n",
       "  <thead>\n",
       "    <tr style=\"text-align: right;\">\n",
       "      <th></th>\n",
       "      <th>days</th>\n",
       "      <th>time</th>\n",
       "      <th>months</th>\n",
       "    </tr>\n",
       "  </thead>\n",
       "  <tbody>\n",
       "    <tr>\n",
       "      <th>(2020, 1)</th>\n",
       "      <td>14</td>\n",
       "      <td>06:04:49</td>\n",
       "      <td>161</td>\n",
       "    </tr>\n",
       "    <tr>\n",
       "      <th>(2020, 2)</th>\n",
       "      <td>27</td>\n",
       "      <td>14:53:40</td>\n",
       "      <td>126</td>\n",
       "    </tr>\n",
       "    <tr>\n",
       "      <th>(2020, 3)</th>\n",
       "      <td>20</td>\n",
       "      <td>18:42:13</td>\n",
       "      <td>140</td>\n",
       "    </tr>\n",
       "    <tr>\n",
       "      <th>(2020, 4)</th>\n",
       "      <td>10</td>\n",
       "      <td>19:02:23</td>\n",
       "      <td>173</td>\n",
       "    </tr>\n",
       "    <tr>\n",
       "      <th>(2020, 5)</th>\n",
       "      <td>8</td>\n",
       "      <td>16:05:39</td>\n",
       "      <td>223</td>\n",
       "    </tr>\n",
       "    <tr>\n",
       "      <th>(2020, 6)</th>\n",
       "      <td>25</td>\n",
       "      <td>07:42:45</td>\n",
       "      <td>280</td>\n",
       "    </tr>\n",
       "    <tr>\n",
       "      <th>(2020, 7)</th>\n",
       "      <td>18</td>\n",
       "      <td>17:47:42</td>\n",
       "      <td>331</td>\n",
       "    </tr>\n",
       "    <tr>\n",
       "      <th>(2020, 8)</th>\n",
       "      <td>4</td>\n",
       "      <td>13:12:00</td>\n",
       "      <td>333</td>\n",
       "    </tr>\n",
       "    <tr>\n",
       "      <th>(2020, 9)</th>\n",
       "      <td>27</td>\n",
       "      <td>09:02:08</td>\n",
       "      <td>262</td>\n",
       "    </tr>\n",
       "    <tr>\n",
       "      <th>(2020, 10)</th>\n",
       "      <td>29</td>\n",
       "      <td>02:56:50</td>\n",
       "      <td>326</td>\n",
       "    </tr>\n",
       "    <tr>\n",
       "      <th>(2020, 11)</th>\n",
       "      <td>26</td>\n",
       "      <td>05:46:34</td>\n",
       "      <td>322</td>\n",
       "    </tr>\n",
       "    <tr>\n",
       "      <th>(2020, 12)</th>\n",
       "      <td>12</td>\n",
       "      <td>14:40:03</td>\n",
       "      <td>292</td>\n",
       "    </tr>\n",
       "    <tr>\n",
       "      <th>0</th>\n",
       "      <td>16</td>\n",
       "      <td>01:56:46</td>\n",
       "      <td>2976</td>\n",
       "    </tr>\n",
       "  </tbody>\n",
       "</table>\n",
       "</div>"
      ],
      "text/plain": [
       "            days      time  months\n",
       "(2020, 1)     14  06:04:49     161\n",
       "(2020, 2)     27  14:53:40     126\n",
       "(2020, 3)     20  18:42:13     140\n",
       "(2020, 4)     10  19:02:23     173\n",
       "(2020, 5)      8  16:05:39     223\n",
       "(2020, 6)     25  07:42:45     280\n",
       "(2020, 7)     18  17:47:42     331\n",
       "(2020, 8)      4  13:12:00     333\n",
       "(2020, 9)     27  09:02:08     262\n",
       "(2020, 10)    29  02:56:50     326\n",
       "(2020, 11)    26  05:46:34     322\n",
       "(2020, 12)    12  14:40:03     292\n",
       "0             16  01:56:46    2976"
      ]
     },
     "execution_count": 593,
     "metadata": {},
     "output_type": "execute_result"
    }
   ],
   "source": [
    "temp20 = pd.concat([sp1, total20])\n",
    "temp20"
   ]
  },
  {
   "cell_type": "code",
   "execution_count": 594,
   "metadata": {},
   "outputs": [
    {
     "data": {
      "text/html": [
       "<div>\n",
       "<style scoped>\n",
       "    .dataframe tbody tr th:only-of-type {\n",
       "        vertical-align: middle;\n",
       "    }\n",
       "\n",
       "    .dataframe tbody tr th {\n",
       "        vertical-align: top;\n",
       "    }\n",
       "\n",
       "    .dataframe thead th {\n",
       "        text-align: right;\n",
       "    }\n",
       "</style>\n",
       "<table border=\"1\" class=\"dataframe\">\n",
       "  <thead>\n",
       "    <tr style=\"text-align: right;\">\n",
       "      <th></th>\n",
       "      <th>days</th>\n",
       "      <th>time</th>\n",
       "      <th>months</th>\n",
       "    </tr>\n",
       "  </thead>\n",
       "  <tbody>\n",
       "    <tr>\n",
       "      <th>(2021, 1)</th>\n",
       "      <td>10</td>\n",
       "      <td>00:31:35</td>\n",
       "      <td>223</td>\n",
       "    </tr>\n",
       "    <tr>\n",
       "      <th>(2021, 2)</th>\n",
       "      <td>2</td>\n",
       "      <td>01:10:01</td>\n",
       "      <td>199</td>\n",
       "    </tr>\n",
       "    <tr>\n",
       "      <th>(2021, 3)</th>\n",
       "      <td>18</td>\n",
       "      <td>03:25:10</td>\n",
       "      <td>210</td>\n",
       "    </tr>\n",
       "    <tr>\n",
       "      <th>(2021, 4)</th>\n",
       "      <td>11</td>\n",
       "      <td>18:18:29</td>\n",
       "      <td>199</td>\n",
       "    </tr>\n",
       "    <tr>\n",
       "      <th>(2021, 5)</th>\n",
       "      <td>24</td>\n",
       "      <td>01:30:44</td>\n",
       "      <td>197</td>\n",
       "    </tr>\n",
       "    <tr>\n",
       "      <th>(2021, 6)</th>\n",
       "      <td>17</td>\n",
       "      <td>10:26:42</td>\n",
       "      <td>197</td>\n",
       "    </tr>\n",
       "    <tr>\n",
       "      <th>(2021, 7)</th>\n",
       "      <td>9</td>\n",
       "      <td>08:35:22</td>\n",
       "      <td>233</td>\n",
       "    </tr>\n",
       "    <tr>\n",
       "      <th>(2021, 8)</th>\n",
       "      <td>17</td>\n",
       "      <td>06:09:09</td>\n",
       "      <td>240</td>\n",
       "    </tr>\n",
       "    <tr>\n",
       "      <th>(2021, 9)</th>\n",
       "      <td>22</td>\n",
       "      <td>08:48:45</td>\n",
       "      <td>240</td>\n",
       "    </tr>\n",
       "    <tr>\n",
       "      <th>(2021, 10)</th>\n",
       "      <td>1</td>\n",
       "      <td>17:43:58</td>\n",
       "      <td>287</td>\n",
       "    </tr>\n",
       "    <tr>\n",
       "      <th>(2021, 11)</th>\n",
       "      <td>27</td>\n",
       "      <td>21:16:40</td>\n",
       "      <td>333</td>\n",
       "    </tr>\n",
       "    <tr>\n",
       "      <th>(2021, 12)</th>\n",
       "      <td>14</td>\n",
       "      <td>13:04:45</td>\n",
       "      <td>395</td>\n",
       "    </tr>\n",
       "    <tr>\n",
       "      <th>0</th>\n",
       "      <td>26</td>\n",
       "      <td>15:01:20</td>\n",
       "      <td>2958</td>\n",
       "    </tr>\n",
       "  </tbody>\n",
       "</table>\n",
       "</div>"
      ],
      "text/plain": [
       "            days      time  months\n",
       "(2021, 1)     10  00:31:35     223\n",
       "(2021, 2)      2  01:10:01     199\n",
       "(2021, 3)     18  03:25:10     210\n",
       "(2021, 4)     11  18:18:29     199\n",
       "(2021, 5)     24  01:30:44     197\n",
       "(2021, 6)     17  10:26:42     197\n",
       "(2021, 7)      9  08:35:22     233\n",
       "(2021, 8)     17  06:09:09     240\n",
       "(2021, 9)     22  08:48:45     240\n",
       "(2021, 10)     1  17:43:58     287\n",
       "(2021, 11)    27  21:16:40     333\n",
       "(2021, 12)    14  13:04:45     395\n",
       "0             26  15:01:20    2958"
      ]
     },
     "execution_count": 594,
     "metadata": {},
     "output_type": "execute_result"
    }
   ],
   "source": [
    "temp21 = pd.concat([sp2, total21])\n",
    "temp21"
   ]
  },
  {
   "cell_type": "code",
   "execution_count": 595,
   "metadata": {},
   "outputs": [
    {
     "data": {
      "text/html": [
       "<div>\n",
       "<style scoped>\n",
       "    .dataframe tbody tr th:only-of-type {\n",
       "        vertical-align: middle;\n",
       "    }\n",
       "\n",
       "    .dataframe tbody tr th {\n",
       "        vertical-align: top;\n",
       "    }\n",
       "\n",
       "    .dataframe thead th {\n",
       "        text-align: right;\n",
       "    }\n",
       "</style>\n",
       "<table border=\"1\" class=\"dataframe\">\n",
       "  <thead>\n",
       "    <tr style=\"text-align: right;\">\n",
       "      <th></th>\n",
       "      <th>days</th>\n",
       "      <th>time</th>\n",
       "      <th>months</th>\n",
       "    </tr>\n",
       "  </thead>\n",
       "  <tbody>\n",
       "    <tr>\n",
       "      <th>(2022, 1)</th>\n",
       "      <td>6</td>\n",
       "      <td>19:03:00</td>\n",
       "      <td>392</td>\n",
       "    </tr>\n",
       "    <tr>\n",
       "      <th>(2022, 2)</th>\n",
       "      <td>9</td>\n",
       "      <td>20:56:47</td>\n",
       "      <td>330</td>\n",
       "    </tr>\n",
       "    <tr>\n",
       "      <th>(2022, 3)</th>\n",
       "      <td>3</td>\n",
       "      <td>12:08:33</td>\n",
       "      <td>361</td>\n",
       "    </tr>\n",
       "    <tr>\n",
       "      <th>(2022, 4)</th>\n",
       "      <td>20</td>\n",
       "      <td>01:08:59</td>\n",
       "      <td>373</td>\n",
       "    </tr>\n",
       "    <tr>\n",
       "      <th>(2022, 5)</th>\n",
       "      <td>25</td>\n",
       "      <td>11:31:03</td>\n",
       "      <td>400</td>\n",
       "    </tr>\n",
       "    <tr>\n",
       "      <th>(2022, 6)</th>\n",
       "      <td>2</td>\n",
       "      <td>13:22:44</td>\n",
       "      <td>401</td>\n",
       "    </tr>\n",
       "    <tr>\n",
       "      <th>(2022, 7)</th>\n",
       "      <td>15</td>\n",
       "      <td>05:53:35</td>\n",
       "      <td>453</td>\n",
       "    </tr>\n",
       "    <tr>\n",
       "      <th>(2022, 8)</th>\n",
       "      <td>17</td>\n",
       "      <td>10:04:04</td>\n",
       "      <td>452</td>\n",
       "    </tr>\n",
       "    <tr>\n",
       "      <th>0</th>\n",
       "      <td>10</td>\n",
       "      <td>22:08:44.999999488</td>\n",
       "      <td>3165</td>\n",
       "    </tr>\n",
       "  </tbody>\n",
       "</table>\n",
       "</div>"
      ],
      "text/plain": [
       "           days                time  months\n",
       "(2022, 1)     6            19:03:00     392\n",
       "(2022, 2)     9            20:56:47     330\n",
       "(2022, 3)     3            12:08:33     361\n",
       "(2022, 4)    20            01:08:59     373\n",
       "(2022, 5)    25            11:31:03     400\n",
       "(2022, 6)     2            13:22:44     401\n",
       "(2022, 7)    15            05:53:35     453\n",
       "(2022, 8)    17            10:04:04     452\n",
       "0            10  22:08:44.999999488    3165"
      ]
     },
     "execution_count": 595,
     "metadata": {},
     "output_type": "execute_result"
    }
   ],
   "source": [
    "temp22 = pd.concat([sp3, total22])\n",
    "temp22"
   ]
  },
  {
   "cell_type": "code",
   "execution_count": 596,
   "metadata": {},
   "outputs": [
    {
     "data": {
      "text/html": [
       "<div>\n",
       "<style scoped>\n",
       "    .dataframe tbody tr th:only-of-type {\n",
       "        vertical-align: middle;\n",
       "    }\n",
       "\n",
       "    .dataframe tbody tr th {\n",
       "        vertical-align: top;\n",
       "    }\n",
       "\n",
       "    .dataframe thead th {\n",
       "        text-align: right;\n",
       "    }\n",
       "</style>\n",
       "<table border=\"1\" class=\"dataframe\">\n",
       "  <thead>\n",
       "    <tr style=\"text-align: right;\">\n",
       "      <th></th>\n",
       "      <th>days</th>\n",
       "      <th>time</th>\n",
       "      <th>months</th>\n",
       "    </tr>\n",
       "  </thead>\n",
       "  <tbody>\n",
       "    <tr>\n",
       "      <th>(2020, 1)</th>\n",
       "      <td>14</td>\n",
       "      <td>06:04:49</td>\n",
       "      <td>161</td>\n",
       "    </tr>\n",
       "    <tr>\n",
       "      <th>(2020, 2)</th>\n",
       "      <td>27</td>\n",
       "      <td>14:53:40</td>\n",
       "      <td>126</td>\n",
       "    </tr>\n",
       "    <tr>\n",
       "      <th>(2020, 3)</th>\n",
       "      <td>20</td>\n",
       "      <td>18:42:13</td>\n",
       "      <td>140</td>\n",
       "    </tr>\n",
       "    <tr>\n",
       "      <th>(2020, 4)</th>\n",
       "      <td>10</td>\n",
       "      <td>19:02:23</td>\n",
       "      <td>173</td>\n",
       "    </tr>\n",
       "    <tr>\n",
       "      <th>(2020, 5)</th>\n",
       "      <td>8</td>\n",
       "      <td>16:05:39</td>\n",
       "      <td>223</td>\n",
       "    </tr>\n",
       "    <tr>\n",
       "      <th>(2020, 6)</th>\n",
       "      <td>25</td>\n",
       "      <td>07:42:45</td>\n",
       "      <td>280</td>\n",
       "    </tr>\n",
       "    <tr>\n",
       "      <th>(2020, 7)</th>\n",
       "      <td>18</td>\n",
       "      <td>17:47:42</td>\n",
       "      <td>331</td>\n",
       "    </tr>\n",
       "    <tr>\n",
       "      <th>(2020, 8)</th>\n",
       "      <td>4</td>\n",
       "      <td>13:12:00</td>\n",
       "      <td>333</td>\n",
       "    </tr>\n",
       "    <tr>\n",
       "      <th>(2020, 9)</th>\n",
       "      <td>27</td>\n",
       "      <td>09:02:08</td>\n",
       "      <td>262</td>\n",
       "    </tr>\n",
       "    <tr>\n",
       "      <th>(2020, 10)</th>\n",
       "      <td>29</td>\n",
       "      <td>02:56:50</td>\n",
       "      <td>326</td>\n",
       "    </tr>\n",
       "    <tr>\n",
       "      <th>(2020, 11)</th>\n",
       "      <td>26</td>\n",
       "      <td>05:46:34</td>\n",
       "      <td>322</td>\n",
       "    </tr>\n",
       "    <tr>\n",
       "      <th>(2020, 12)</th>\n",
       "      <td>12</td>\n",
       "      <td>14:40:03</td>\n",
       "      <td>292</td>\n",
       "    </tr>\n",
       "    <tr>\n",
       "      <th>0</th>\n",
       "      <td>16</td>\n",
       "      <td>01:56:46</td>\n",
       "      <td>2976</td>\n",
       "    </tr>\n",
       "    <tr>\n",
       "      <th>(2021, 1)</th>\n",
       "      <td>10</td>\n",
       "      <td>00:31:35</td>\n",
       "      <td>223</td>\n",
       "    </tr>\n",
       "    <tr>\n",
       "      <th>(2021, 2)</th>\n",
       "      <td>2</td>\n",
       "      <td>01:10:01</td>\n",
       "      <td>199</td>\n",
       "    </tr>\n",
       "    <tr>\n",
       "      <th>(2021, 3)</th>\n",
       "      <td>18</td>\n",
       "      <td>03:25:10</td>\n",
       "      <td>210</td>\n",
       "    </tr>\n",
       "    <tr>\n",
       "      <th>(2021, 4)</th>\n",
       "      <td>11</td>\n",
       "      <td>18:18:29</td>\n",
       "      <td>199</td>\n",
       "    </tr>\n",
       "    <tr>\n",
       "      <th>(2021, 5)</th>\n",
       "      <td>24</td>\n",
       "      <td>01:30:44</td>\n",
       "      <td>197</td>\n",
       "    </tr>\n",
       "    <tr>\n",
       "      <th>(2021, 6)</th>\n",
       "      <td>17</td>\n",
       "      <td>10:26:42</td>\n",
       "      <td>197</td>\n",
       "    </tr>\n",
       "    <tr>\n",
       "      <th>(2021, 7)</th>\n",
       "      <td>9</td>\n",
       "      <td>08:35:22</td>\n",
       "      <td>233</td>\n",
       "    </tr>\n",
       "    <tr>\n",
       "      <th>(2021, 8)</th>\n",
       "      <td>17</td>\n",
       "      <td>06:09:09</td>\n",
       "      <td>240</td>\n",
       "    </tr>\n",
       "    <tr>\n",
       "      <th>(2021, 9)</th>\n",
       "      <td>22</td>\n",
       "      <td>08:48:45</td>\n",
       "      <td>240</td>\n",
       "    </tr>\n",
       "    <tr>\n",
       "      <th>(2021, 10)</th>\n",
       "      <td>1</td>\n",
       "      <td>17:43:58</td>\n",
       "      <td>287</td>\n",
       "    </tr>\n",
       "    <tr>\n",
       "      <th>(2021, 11)</th>\n",
       "      <td>27</td>\n",
       "      <td>21:16:40</td>\n",
       "      <td>333</td>\n",
       "    </tr>\n",
       "    <tr>\n",
       "      <th>(2021, 12)</th>\n",
       "      <td>14</td>\n",
       "      <td>13:04:45</td>\n",
       "      <td>395</td>\n",
       "    </tr>\n",
       "    <tr>\n",
       "      <th>0</th>\n",
       "      <td>26</td>\n",
       "      <td>15:01:20</td>\n",
       "      <td>2958</td>\n",
       "    </tr>\n",
       "    <tr>\n",
       "      <th>(2022, 1)</th>\n",
       "      <td>6</td>\n",
       "      <td>19:03:00</td>\n",
       "      <td>392</td>\n",
       "    </tr>\n",
       "    <tr>\n",
       "      <th>(2022, 2)</th>\n",
       "      <td>9</td>\n",
       "      <td>20:56:47</td>\n",
       "      <td>330</td>\n",
       "    </tr>\n",
       "    <tr>\n",
       "      <th>(2022, 3)</th>\n",
       "      <td>3</td>\n",
       "      <td>12:08:33</td>\n",
       "      <td>361</td>\n",
       "    </tr>\n",
       "    <tr>\n",
       "      <th>(2022, 4)</th>\n",
       "      <td>20</td>\n",
       "      <td>01:08:59</td>\n",
       "      <td>373</td>\n",
       "    </tr>\n",
       "    <tr>\n",
       "      <th>(2022, 5)</th>\n",
       "      <td>25</td>\n",
       "      <td>11:31:03</td>\n",
       "      <td>400</td>\n",
       "    </tr>\n",
       "    <tr>\n",
       "      <th>(2022, 6)</th>\n",
       "      <td>2</td>\n",
       "      <td>13:22:44</td>\n",
       "      <td>401</td>\n",
       "    </tr>\n",
       "    <tr>\n",
       "      <th>(2022, 7)</th>\n",
       "      <td>15</td>\n",
       "      <td>05:53:35</td>\n",
       "      <td>453</td>\n",
       "    </tr>\n",
       "    <tr>\n",
       "      <th>(2022, 8)</th>\n",
       "      <td>17</td>\n",
       "      <td>10:04:04</td>\n",
       "      <td>452</td>\n",
       "    </tr>\n",
       "    <tr>\n",
       "      <th>0</th>\n",
       "      <td>10</td>\n",
       "      <td>22:08:44.999999488</td>\n",
       "      <td>3165</td>\n",
       "    </tr>\n",
       "  </tbody>\n",
       "</table>\n",
       "</div>"
      ],
      "text/plain": [
       "            days                time  months\n",
       "(2020, 1)     14            06:04:49     161\n",
       "(2020, 2)     27            14:53:40     126\n",
       "(2020, 3)     20            18:42:13     140\n",
       "(2020, 4)     10            19:02:23     173\n",
       "(2020, 5)      8            16:05:39     223\n",
       "(2020, 6)     25            07:42:45     280\n",
       "(2020, 7)     18            17:47:42     331\n",
       "(2020, 8)      4            13:12:00     333\n",
       "(2020, 9)     27            09:02:08     262\n",
       "(2020, 10)    29            02:56:50     326\n",
       "(2020, 11)    26            05:46:34     322\n",
       "(2020, 12)    12            14:40:03     292\n",
       "0             16            01:56:46    2976\n",
       "(2021, 1)     10            00:31:35     223\n",
       "(2021, 2)      2            01:10:01     199\n",
       "(2021, 3)     18            03:25:10     210\n",
       "(2021, 4)     11            18:18:29     199\n",
       "(2021, 5)     24            01:30:44     197\n",
       "(2021, 6)     17            10:26:42     197\n",
       "(2021, 7)      9            08:35:22     233\n",
       "(2021, 8)     17            06:09:09     240\n",
       "(2021, 9)     22            08:48:45     240\n",
       "(2021, 10)     1            17:43:58     287\n",
       "(2021, 11)    27            21:16:40     333\n",
       "(2021, 12)    14            13:04:45     395\n",
       "0             26            15:01:20    2958\n",
       "(2022, 1)      6            19:03:00     392\n",
       "(2022, 2)      9            20:56:47     330\n",
       "(2022, 3)      3            12:08:33     361\n",
       "(2022, 4)     20            01:08:59     373\n",
       "(2022, 5)     25            11:31:03     400\n",
       "(2022, 6)      2            13:22:44     401\n",
       "(2022, 7)     15            05:53:35     453\n",
       "(2022, 8)     17            10:04:04     452\n",
       "0             10  22:08:44.999999488    3165"
      ]
     },
     "execution_count": 596,
     "metadata": {},
     "output_type": "execute_result"
    }
   ],
   "source": [
    "temp01 = pd.concat([temp20, temp21])\n",
    "temp02 = pd.concat([temp01, temp22])\n",
    "temp02"
   ]
  },
  {
   "cell_type": "code",
   "execution_count": 597,
   "metadata": {},
   "outputs": [
    {
     "data": {
      "text/html": [
       "<div>\n",
       "<style scoped>\n",
       "    .dataframe tbody tr th:only-of-type {\n",
       "        vertical-align: middle;\n",
       "    }\n",
       "\n",
       "    .dataframe tbody tr th {\n",
       "        vertical-align: top;\n",
       "    }\n",
       "\n",
       "    .dataframe thead th {\n",
       "        text-align: right;\n",
       "    }\n",
       "</style>\n",
       "<table border=\"1\" class=\"dataframe\">\n",
       "  <thead>\n",
       "    <tr style=\"text-align: right;\">\n",
       "      <th></th>\n",
       "      <th>days</th>\n",
       "      <th>time</th>\n",
       "      <th>months</th>\n",
       "    </tr>\n",
       "  </thead>\n",
       "  <tbody>\n",
       "    <tr>\n",
       "      <th>(2020, 1)</th>\n",
       "      <td>14</td>\n",
       "      <td>06:04:49</td>\n",
       "      <td>161</td>\n",
       "    </tr>\n",
       "    <tr>\n",
       "      <th>(2020, 2)</th>\n",
       "      <td>27</td>\n",
       "      <td>14:53:40</td>\n",
       "      <td>126</td>\n",
       "    </tr>\n",
       "    <tr>\n",
       "      <th>(2020, 3)</th>\n",
       "      <td>20</td>\n",
       "      <td>18:42:13</td>\n",
       "      <td>140</td>\n",
       "    </tr>\n",
       "    <tr>\n",
       "      <th>(2020, 4)</th>\n",
       "      <td>10</td>\n",
       "      <td>19:02:23</td>\n",
       "      <td>173</td>\n",
       "    </tr>\n",
       "    <tr>\n",
       "      <th>(2020, 5)</th>\n",
       "      <td>8</td>\n",
       "      <td>16:05:39</td>\n",
       "      <td>223</td>\n",
       "    </tr>\n",
       "    <tr>\n",
       "      <th>(2020, 6)</th>\n",
       "      <td>25</td>\n",
       "      <td>07:42:45</td>\n",
       "      <td>280</td>\n",
       "    </tr>\n",
       "    <tr>\n",
       "      <th>(2020, 7)</th>\n",
       "      <td>18</td>\n",
       "      <td>17:47:42</td>\n",
       "      <td>331</td>\n",
       "    </tr>\n",
       "    <tr>\n",
       "      <th>(2020, 8)</th>\n",
       "      <td>4</td>\n",
       "      <td>13:12:00</td>\n",
       "      <td>333</td>\n",
       "    </tr>\n",
       "    <tr>\n",
       "      <th>(2020, 9)</th>\n",
       "      <td>27</td>\n",
       "      <td>09:02:08</td>\n",
       "      <td>262</td>\n",
       "    </tr>\n",
       "    <tr>\n",
       "      <th>(2020, 10)</th>\n",
       "      <td>29</td>\n",
       "      <td>02:56:50</td>\n",
       "      <td>326</td>\n",
       "    </tr>\n",
       "    <tr>\n",
       "      <th>(2020, 11)</th>\n",
       "      <td>26</td>\n",
       "      <td>05:46:34</td>\n",
       "      <td>322</td>\n",
       "    </tr>\n",
       "    <tr>\n",
       "      <th>(2020, 12)</th>\n",
       "      <td>12</td>\n",
       "      <td>14:40:03</td>\n",
       "      <td>292</td>\n",
       "    </tr>\n",
       "    <tr>\n",
       "      <th>0</th>\n",
       "      <td>16</td>\n",
       "      <td>01:56:46</td>\n",
       "      <td>2976</td>\n",
       "    </tr>\n",
       "    <tr>\n",
       "      <th>(2021, 1)</th>\n",
       "      <td>10</td>\n",
       "      <td>00:31:35</td>\n",
       "      <td>223</td>\n",
       "    </tr>\n",
       "    <tr>\n",
       "      <th>(2021, 2)</th>\n",
       "      <td>2</td>\n",
       "      <td>01:10:01</td>\n",
       "      <td>199</td>\n",
       "    </tr>\n",
       "    <tr>\n",
       "      <th>(2021, 3)</th>\n",
       "      <td>18</td>\n",
       "      <td>03:25:10</td>\n",
       "      <td>210</td>\n",
       "    </tr>\n",
       "    <tr>\n",
       "      <th>(2021, 4)</th>\n",
       "      <td>11</td>\n",
       "      <td>18:18:29</td>\n",
       "      <td>199</td>\n",
       "    </tr>\n",
       "    <tr>\n",
       "      <th>(2021, 5)</th>\n",
       "      <td>24</td>\n",
       "      <td>01:30:44</td>\n",
       "      <td>197</td>\n",
       "    </tr>\n",
       "    <tr>\n",
       "      <th>(2021, 6)</th>\n",
       "      <td>17</td>\n",
       "      <td>10:26:42</td>\n",
       "      <td>197</td>\n",
       "    </tr>\n",
       "    <tr>\n",
       "      <th>(2021, 7)</th>\n",
       "      <td>9</td>\n",
       "      <td>08:35:22</td>\n",
       "      <td>233</td>\n",
       "    </tr>\n",
       "    <tr>\n",
       "      <th>(2021, 8)</th>\n",
       "      <td>17</td>\n",
       "      <td>06:09:09</td>\n",
       "      <td>240</td>\n",
       "    </tr>\n",
       "    <tr>\n",
       "      <th>(2021, 9)</th>\n",
       "      <td>22</td>\n",
       "      <td>08:48:45</td>\n",
       "      <td>240</td>\n",
       "    </tr>\n",
       "    <tr>\n",
       "      <th>(2021, 10)</th>\n",
       "      <td>1</td>\n",
       "      <td>17:43:58</td>\n",
       "      <td>287</td>\n",
       "    </tr>\n",
       "    <tr>\n",
       "      <th>(2021, 11)</th>\n",
       "      <td>27</td>\n",
       "      <td>21:16:40</td>\n",
       "      <td>333</td>\n",
       "    </tr>\n",
       "    <tr>\n",
       "      <th>(2021, 12)</th>\n",
       "      <td>14</td>\n",
       "      <td>13:04:45</td>\n",
       "      <td>395</td>\n",
       "    </tr>\n",
       "    <tr>\n",
       "      <th>0</th>\n",
       "      <td>26</td>\n",
       "      <td>15:01:20</td>\n",
       "      <td>2958</td>\n",
       "    </tr>\n",
       "    <tr>\n",
       "      <th>(2022, 1)</th>\n",
       "      <td>6</td>\n",
       "      <td>19:03:00</td>\n",
       "      <td>392</td>\n",
       "    </tr>\n",
       "    <tr>\n",
       "      <th>(2022, 2)</th>\n",
       "      <td>9</td>\n",
       "      <td>20:56:47</td>\n",
       "      <td>330</td>\n",
       "    </tr>\n",
       "    <tr>\n",
       "      <th>(2022, 3)</th>\n",
       "      <td>3</td>\n",
       "      <td>12:08:33</td>\n",
       "      <td>361</td>\n",
       "    </tr>\n",
       "    <tr>\n",
       "      <th>(2022, 4)</th>\n",
       "      <td>20</td>\n",
       "      <td>01:08:59</td>\n",
       "      <td>373</td>\n",
       "    </tr>\n",
       "    <tr>\n",
       "      <th>(2022, 5)</th>\n",
       "      <td>25</td>\n",
       "      <td>11:31:03</td>\n",
       "      <td>400</td>\n",
       "    </tr>\n",
       "    <tr>\n",
       "      <th>(2022, 6)</th>\n",
       "      <td>2</td>\n",
       "      <td>13:22:44</td>\n",
       "      <td>401</td>\n",
       "    </tr>\n",
       "    <tr>\n",
       "      <th>(2022, 7)</th>\n",
       "      <td>15</td>\n",
       "      <td>05:53:35</td>\n",
       "      <td>453</td>\n",
       "    </tr>\n",
       "    <tr>\n",
       "      <th>(2022, 8)</th>\n",
       "      <td>17</td>\n",
       "      <td>10:04:04</td>\n",
       "      <td>452</td>\n",
       "    </tr>\n",
       "    <tr>\n",
       "      <th>0</th>\n",
       "      <td>10</td>\n",
       "      <td>22:08:44.999999488</td>\n",
       "      <td>3165</td>\n",
       "    </tr>\n",
       "  </tbody>\n",
       "</table>\n",
       "</div>"
      ],
      "text/plain": [
       "            days                time  months\n",
       "(2020, 1)     14            06:04:49     161\n",
       "(2020, 2)     27            14:53:40     126\n",
       "(2020, 3)     20            18:42:13     140\n",
       "(2020, 4)     10            19:02:23     173\n",
       "(2020, 5)      8            16:05:39     223\n",
       "(2020, 6)     25            07:42:45     280\n",
       "(2020, 7)     18            17:47:42     331\n",
       "(2020, 8)      4            13:12:00     333\n",
       "(2020, 9)     27            09:02:08     262\n",
       "(2020, 10)    29            02:56:50     326\n",
       "(2020, 11)    26            05:46:34     322\n",
       "(2020, 12)    12            14:40:03     292\n",
       "0             16            01:56:46    2976\n",
       "(2021, 1)     10            00:31:35     223\n",
       "(2021, 2)      2            01:10:01     199\n",
       "(2021, 3)     18            03:25:10     210\n",
       "(2021, 4)     11            18:18:29     199\n",
       "(2021, 5)     24            01:30:44     197\n",
       "(2021, 6)     17            10:26:42     197\n",
       "(2021, 7)      9            08:35:22     233\n",
       "(2021, 8)     17            06:09:09     240\n",
       "(2021, 9)     22            08:48:45     240\n",
       "(2021, 10)     1            17:43:58     287\n",
       "(2021, 11)    27            21:16:40     333\n",
       "(2021, 12)    14            13:04:45     395\n",
       "0             26            15:01:20    2958\n",
       "(2022, 1)      6            19:03:00     392\n",
       "(2022, 2)      9            20:56:47     330\n",
       "(2022, 3)      3            12:08:33     361\n",
       "(2022, 4)     20            01:08:59     373\n",
       "(2022, 5)     25            11:31:03     400\n",
       "(2022, 6)      2            13:22:44     401\n",
       "(2022, 7)     15            05:53:35     453\n",
       "(2022, 8)     17            10:04:04     452\n",
       "0             10  22:08:44.999999488    3165"
      ]
     },
     "execution_count": 597,
     "metadata": {},
     "output_type": "execute_result"
    }
   ],
   "source": [
    "temp = temp02.copy()\n",
    "temp"
   ]
  },
  {
   "cell_type": "code",
   "execution_count": 598,
   "metadata": {},
   "outputs": [
    {
     "data": {
      "text/plain": [
       "Index(['days', 'time', 'months'], dtype='object')"
      ]
     },
     "execution_count": 598,
     "metadata": {},
     "output_type": "execute_result"
    }
   ],
   "source": [
    "temp.columns"
   ]
  },
  {
   "cell_type": "code",
   "execution_count": 599,
   "metadata": {},
   "outputs": [
    {
     "data": {
      "text/html": [
       "<div>\n",
       "<style scoped>\n",
       "    .dataframe tbody tr th:only-of-type {\n",
       "        vertical-align: middle;\n",
       "    }\n",
       "\n",
       "    .dataframe tbody tr th {\n",
       "        vertical-align: top;\n",
       "    }\n",
       "\n",
       "    .dataframe thead th {\n",
       "        text-align: right;\n",
       "    }\n",
       "</style>\n",
       "<table border=\"1\" class=\"dataframe\">\n",
       "  <thead>\n",
       "    <tr style=\"text-align: right;\">\n",
       "      <th></th>\n",
       "      <th>months</th>\n",
       "      <th>days</th>\n",
       "      <th>time</th>\n",
       "    </tr>\n",
       "  </thead>\n",
       "  <tbody>\n",
       "    <tr>\n",
       "      <th>(2020, 1)</th>\n",
       "      <td>161</td>\n",
       "      <td>14</td>\n",
       "      <td>06:04:49</td>\n",
       "    </tr>\n",
       "    <tr>\n",
       "      <th>(2020, 2)</th>\n",
       "      <td>126</td>\n",
       "      <td>27</td>\n",
       "      <td>14:53:40</td>\n",
       "    </tr>\n",
       "    <tr>\n",
       "      <th>(2020, 3)</th>\n",
       "      <td>140</td>\n",
       "      <td>20</td>\n",
       "      <td>18:42:13</td>\n",
       "    </tr>\n",
       "    <tr>\n",
       "      <th>(2020, 4)</th>\n",
       "      <td>173</td>\n",
       "      <td>10</td>\n",
       "      <td>19:02:23</td>\n",
       "    </tr>\n",
       "    <tr>\n",
       "      <th>(2020, 5)</th>\n",
       "      <td>223</td>\n",
       "      <td>8</td>\n",
       "      <td>16:05:39</td>\n",
       "    </tr>\n",
       "    <tr>\n",
       "      <th>(2020, 6)</th>\n",
       "      <td>280</td>\n",
       "      <td>25</td>\n",
       "      <td>07:42:45</td>\n",
       "    </tr>\n",
       "    <tr>\n",
       "      <th>(2020, 7)</th>\n",
       "      <td>331</td>\n",
       "      <td>18</td>\n",
       "      <td>17:47:42</td>\n",
       "    </tr>\n",
       "    <tr>\n",
       "      <th>(2020, 8)</th>\n",
       "      <td>333</td>\n",
       "      <td>4</td>\n",
       "      <td>13:12:00</td>\n",
       "    </tr>\n",
       "    <tr>\n",
       "      <th>(2020, 9)</th>\n",
       "      <td>262</td>\n",
       "      <td>27</td>\n",
       "      <td>09:02:08</td>\n",
       "    </tr>\n",
       "    <tr>\n",
       "      <th>(2020, 10)</th>\n",
       "      <td>326</td>\n",
       "      <td>29</td>\n",
       "      <td>02:56:50</td>\n",
       "    </tr>\n",
       "    <tr>\n",
       "      <th>(2020, 11)</th>\n",
       "      <td>322</td>\n",
       "      <td>26</td>\n",
       "      <td>05:46:34</td>\n",
       "    </tr>\n",
       "    <tr>\n",
       "      <th>(2020, 12)</th>\n",
       "      <td>292</td>\n",
       "      <td>12</td>\n",
       "      <td>14:40:03</td>\n",
       "    </tr>\n",
       "    <tr>\n",
       "      <th>0</th>\n",
       "      <td>2976</td>\n",
       "      <td>16</td>\n",
       "      <td>01:56:46</td>\n",
       "    </tr>\n",
       "    <tr>\n",
       "      <th>(2021, 1)</th>\n",
       "      <td>223</td>\n",
       "      <td>10</td>\n",
       "      <td>00:31:35</td>\n",
       "    </tr>\n",
       "    <tr>\n",
       "      <th>(2021, 2)</th>\n",
       "      <td>199</td>\n",
       "      <td>2</td>\n",
       "      <td>01:10:01</td>\n",
       "    </tr>\n",
       "    <tr>\n",
       "      <th>(2021, 3)</th>\n",
       "      <td>210</td>\n",
       "      <td>18</td>\n",
       "      <td>03:25:10</td>\n",
       "    </tr>\n",
       "    <tr>\n",
       "      <th>(2021, 4)</th>\n",
       "      <td>199</td>\n",
       "      <td>11</td>\n",
       "      <td>18:18:29</td>\n",
       "    </tr>\n",
       "    <tr>\n",
       "      <th>(2021, 5)</th>\n",
       "      <td>197</td>\n",
       "      <td>24</td>\n",
       "      <td>01:30:44</td>\n",
       "    </tr>\n",
       "    <tr>\n",
       "      <th>(2021, 6)</th>\n",
       "      <td>197</td>\n",
       "      <td>17</td>\n",
       "      <td>10:26:42</td>\n",
       "    </tr>\n",
       "    <tr>\n",
       "      <th>(2021, 7)</th>\n",
       "      <td>233</td>\n",
       "      <td>9</td>\n",
       "      <td>08:35:22</td>\n",
       "    </tr>\n",
       "    <tr>\n",
       "      <th>(2021, 8)</th>\n",
       "      <td>240</td>\n",
       "      <td>17</td>\n",
       "      <td>06:09:09</td>\n",
       "    </tr>\n",
       "    <tr>\n",
       "      <th>(2021, 9)</th>\n",
       "      <td>240</td>\n",
       "      <td>22</td>\n",
       "      <td>08:48:45</td>\n",
       "    </tr>\n",
       "    <tr>\n",
       "      <th>(2021, 10)</th>\n",
       "      <td>287</td>\n",
       "      <td>1</td>\n",
       "      <td>17:43:58</td>\n",
       "    </tr>\n",
       "    <tr>\n",
       "      <th>(2021, 11)</th>\n",
       "      <td>333</td>\n",
       "      <td>27</td>\n",
       "      <td>21:16:40</td>\n",
       "    </tr>\n",
       "    <tr>\n",
       "      <th>(2021, 12)</th>\n",
       "      <td>395</td>\n",
       "      <td>14</td>\n",
       "      <td>13:04:45</td>\n",
       "    </tr>\n",
       "    <tr>\n",
       "      <th>0</th>\n",
       "      <td>2958</td>\n",
       "      <td>26</td>\n",
       "      <td>15:01:20</td>\n",
       "    </tr>\n",
       "    <tr>\n",
       "      <th>(2022, 1)</th>\n",
       "      <td>392</td>\n",
       "      <td>6</td>\n",
       "      <td>19:03:00</td>\n",
       "    </tr>\n",
       "    <tr>\n",
       "      <th>(2022, 2)</th>\n",
       "      <td>330</td>\n",
       "      <td>9</td>\n",
       "      <td>20:56:47</td>\n",
       "    </tr>\n",
       "    <tr>\n",
       "      <th>(2022, 3)</th>\n",
       "      <td>361</td>\n",
       "      <td>3</td>\n",
       "      <td>12:08:33</td>\n",
       "    </tr>\n",
       "    <tr>\n",
       "      <th>(2022, 4)</th>\n",
       "      <td>373</td>\n",
       "      <td>20</td>\n",
       "      <td>01:08:59</td>\n",
       "    </tr>\n",
       "    <tr>\n",
       "      <th>(2022, 5)</th>\n",
       "      <td>400</td>\n",
       "      <td>25</td>\n",
       "      <td>11:31:03</td>\n",
       "    </tr>\n",
       "    <tr>\n",
       "      <th>(2022, 6)</th>\n",
       "      <td>401</td>\n",
       "      <td>2</td>\n",
       "      <td>13:22:44</td>\n",
       "    </tr>\n",
       "    <tr>\n",
       "      <th>(2022, 7)</th>\n",
       "      <td>453</td>\n",
       "      <td>15</td>\n",
       "      <td>05:53:35</td>\n",
       "    </tr>\n",
       "    <tr>\n",
       "      <th>(2022, 8)</th>\n",
       "      <td>452</td>\n",
       "      <td>17</td>\n",
       "      <td>10:04:04</td>\n",
       "    </tr>\n",
       "    <tr>\n",
       "      <th>0</th>\n",
       "      <td>3165</td>\n",
       "      <td>10</td>\n",
       "      <td>22:08:44.999999488</td>\n",
       "    </tr>\n",
       "  </tbody>\n",
       "</table>\n",
       "</div>"
      ],
      "text/plain": [
       "            months  days                time\n",
       "(2020, 1)      161    14            06:04:49\n",
       "(2020, 2)      126    27            14:53:40\n",
       "(2020, 3)      140    20            18:42:13\n",
       "(2020, 4)      173    10            19:02:23\n",
       "(2020, 5)      223     8            16:05:39\n",
       "(2020, 6)      280    25            07:42:45\n",
       "(2020, 7)      331    18            17:47:42\n",
       "(2020, 8)      333     4            13:12:00\n",
       "(2020, 9)      262    27            09:02:08\n",
       "(2020, 10)     326    29            02:56:50\n",
       "(2020, 11)     322    26            05:46:34\n",
       "(2020, 12)     292    12            14:40:03\n",
       "0             2976    16            01:56:46\n",
       "(2021, 1)      223    10            00:31:35\n",
       "(2021, 2)      199     2            01:10:01\n",
       "(2021, 3)      210    18            03:25:10\n",
       "(2021, 4)      199    11            18:18:29\n",
       "(2021, 5)      197    24            01:30:44\n",
       "(2021, 6)      197    17            10:26:42\n",
       "(2021, 7)      233     9            08:35:22\n",
       "(2021, 8)      240    17            06:09:09\n",
       "(2021, 9)      240    22            08:48:45\n",
       "(2021, 10)     287     1            17:43:58\n",
       "(2021, 11)     333    27            21:16:40\n",
       "(2021, 12)     395    14            13:04:45\n",
       "0             2958    26            15:01:20\n",
       "(2022, 1)      392     6            19:03:00\n",
       "(2022, 2)      330     9            20:56:47\n",
       "(2022, 3)      361     3            12:08:33\n",
       "(2022, 4)      373    20            01:08:59\n",
       "(2022, 5)      400    25            11:31:03\n",
       "(2022, 6)      401     2            13:22:44\n",
       "(2022, 7)      453    15            05:53:35\n",
       "(2022, 8)      452    17            10:04:04\n",
       "0             3165    10  22:08:44.999999488"
      ]
     },
     "execution_count": 599,
     "metadata": {},
     "output_type": "execute_result"
    }
   ],
   "source": [
    "temp = temp[['months', 'days', 'time']]\n",
    "temp"
   ]
  },
  {
   "cell_type": "code",
   "execution_count": 600,
   "metadata": {},
   "outputs": [
    {
     "data": {
      "text/html": [
       "<div>\n",
       "<style scoped>\n",
       "    .dataframe tbody tr th:only-of-type {\n",
       "        vertical-align: middle;\n",
       "    }\n",
       "\n",
       "    .dataframe tbody tr th {\n",
       "        vertical-align: top;\n",
       "    }\n",
       "\n",
       "    .dataframe thead th {\n",
       "        text-align: right;\n",
       "    }\n",
       "</style>\n",
       "<table border=\"1\" class=\"dataframe\">\n",
       "  <thead>\n",
       "    <tr style=\"text-align: right;\">\n",
       "      <th></th>\n",
       "      <th>months</th>\n",
       "      <th>days</th>\n",
       "      <th>time</th>\n",
       "    </tr>\n",
       "  </thead>\n",
       "  <tbody>\n",
       "    <tr>\n",
       "      <th>0</th>\n",
       "      <td>9100</td>\n",
       "      <td>23</td>\n",
       "      <td>15:6:51</td>\n",
       "    </tr>\n",
       "  </tbody>\n",
       "</table>\n",
       "</div>"
      ],
      "text/plain": [
       "   months  days     time\n",
       "0    9100    23  15:6:51"
      ]
     },
     "execution_count": 600,
     "metadata": {},
     "output_type": "execute_result"
    }
   ],
   "source": [
    "time = f'{hours}:{minutes}:{seconds}'\n",
    "total = pd.DataFrame({'months':[months], 'days':[days], 'time':[time]})\n",
    "total"
   ]
  },
  {
   "cell_type": "code",
   "execution_count": 601,
   "metadata": {},
   "outputs": [
    {
     "data": {
      "text/html": [
       "<div>\n",
       "<style scoped>\n",
       "    .dataframe tbody tr th:only-of-type {\n",
       "        vertical-align: middle;\n",
       "    }\n",
       "\n",
       "    .dataframe tbody tr th {\n",
       "        vertical-align: top;\n",
       "    }\n",
       "\n",
       "    .dataframe thead th {\n",
       "        text-align: right;\n",
       "    }\n",
       "</style>\n",
       "<table border=\"1\" class=\"dataframe\">\n",
       "  <thead>\n",
       "    <tr style=\"text-align: right;\">\n",
       "      <th></th>\n",
       "      <th>months</th>\n",
       "      <th>days</th>\n",
       "      <th>time</th>\n",
       "    </tr>\n",
       "  </thead>\n",
       "  <tbody>\n",
       "    <tr>\n",
       "      <th>(2020, 1)</th>\n",
       "      <td>161</td>\n",
       "      <td>14</td>\n",
       "      <td>06:04:49</td>\n",
       "    </tr>\n",
       "    <tr>\n",
       "      <th>(2020, 2)</th>\n",
       "      <td>126</td>\n",
       "      <td>27</td>\n",
       "      <td>14:53:40</td>\n",
       "    </tr>\n",
       "    <tr>\n",
       "      <th>(2020, 3)</th>\n",
       "      <td>140</td>\n",
       "      <td>20</td>\n",
       "      <td>18:42:13</td>\n",
       "    </tr>\n",
       "    <tr>\n",
       "      <th>(2020, 4)</th>\n",
       "      <td>173</td>\n",
       "      <td>10</td>\n",
       "      <td>19:02:23</td>\n",
       "    </tr>\n",
       "    <tr>\n",
       "      <th>(2020, 5)</th>\n",
       "      <td>223</td>\n",
       "      <td>8</td>\n",
       "      <td>16:05:39</td>\n",
       "    </tr>\n",
       "    <tr>\n",
       "      <th>(2020, 6)</th>\n",
       "      <td>280</td>\n",
       "      <td>25</td>\n",
       "      <td>07:42:45</td>\n",
       "    </tr>\n",
       "    <tr>\n",
       "      <th>(2020, 7)</th>\n",
       "      <td>331</td>\n",
       "      <td>18</td>\n",
       "      <td>17:47:42</td>\n",
       "    </tr>\n",
       "    <tr>\n",
       "      <th>(2020, 8)</th>\n",
       "      <td>333</td>\n",
       "      <td>4</td>\n",
       "      <td>13:12:00</td>\n",
       "    </tr>\n",
       "    <tr>\n",
       "      <th>(2020, 9)</th>\n",
       "      <td>262</td>\n",
       "      <td>27</td>\n",
       "      <td>09:02:08</td>\n",
       "    </tr>\n",
       "    <tr>\n",
       "      <th>(2020, 10)</th>\n",
       "      <td>326</td>\n",
       "      <td>29</td>\n",
       "      <td>02:56:50</td>\n",
       "    </tr>\n",
       "    <tr>\n",
       "      <th>(2020, 11)</th>\n",
       "      <td>322</td>\n",
       "      <td>26</td>\n",
       "      <td>05:46:34</td>\n",
       "    </tr>\n",
       "    <tr>\n",
       "      <th>(2020, 12)</th>\n",
       "      <td>292</td>\n",
       "      <td>12</td>\n",
       "      <td>14:40:03</td>\n",
       "    </tr>\n",
       "    <tr>\n",
       "      <th>0</th>\n",
       "      <td>2976</td>\n",
       "      <td>16</td>\n",
       "      <td>01:56:46</td>\n",
       "    </tr>\n",
       "    <tr>\n",
       "      <th>(2021, 1)</th>\n",
       "      <td>223</td>\n",
       "      <td>10</td>\n",
       "      <td>00:31:35</td>\n",
       "    </tr>\n",
       "    <tr>\n",
       "      <th>(2021, 2)</th>\n",
       "      <td>199</td>\n",
       "      <td>2</td>\n",
       "      <td>01:10:01</td>\n",
       "    </tr>\n",
       "    <tr>\n",
       "      <th>(2021, 3)</th>\n",
       "      <td>210</td>\n",
       "      <td>18</td>\n",
       "      <td>03:25:10</td>\n",
       "    </tr>\n",
       "    <tr>\n",
       "      <th>(2021, 4)</th>\n",
       "      <td>199</td>\n",
       "      <td>11</td>\n",
       "      <td>18:18:29</td>\n",
       "    </tr>\n",
       "    <tr>\n",
       "      <th>(2021, 5)</th>\n",
       "      <td>197</td>\n",
       "      <td>24</td>\n",
       "      <td>01:30:44</td>\n",
       "    </tr>\n",
       "    <tr>\n",
       "      <th>(2021, 6)</th>\n",
       "      <td>197</td>\n",
       "      <td>17</td>\n",
       "      <td>10:26:42</td>\n",
       "    </tr>\n",
       "    <tr>\n",
       "      <th>(2021, 7)</th>\n",
       "      <td>233</td>\n",
       "      <td>9</td>\n",
       "      <td>08:35:22</td>\n",
       "    </tr>\n",
       "    <tr>\n",
       "      <th>(2021, 8)</th>\n",
       "      <td>240</td>\n",
       "      <td>17</td>\n",
       "      <td>06:09:09</td>\n",
       "    </tr>\n",
       "    <tr>\n",
       "      <th>(2021, 9)</th>\n",
       "      <td>240</td>\n",
       "      <td>22</td>\n",
       "      <td>08:48:45</td>\n",
       "    </tr>\n",
       "    <tr>\n",
       "      <th>(2021, 10)</th>\n",
       "      <td>287</td>\n",
       "      <td>1</td>\n",
       "      <td>17:43:58</td>\n",
       "    </tr>\n",
       "    <tr>\n",
       "      <th>(2021, 11)</th>\n",
       "      <td>333</td>\n",
       "      <td>27</td>\n",
       "      <td>21:16:40</td>\n",
       "    </tr>\n",
       "    <tr>\n",
       "      <th>(2021, 12)</th>\n",
       "      <td>395</td>\n",
       "      <td>14</td>\n",
       "      <td>13:04:45</td>\n",
       "    </tr>\n",
       "    <tr>\n",
       "      <th>0</th>\n",
       "      <td>2958</td>\n",
       "      <td>26</td>\n",
       "      <td>15:01:20</td>\n",
       "    </tr>\n",
       "    <tr>\n",
       "      <th>(2022, 1)</th>\n",
       "      <td>392</td>\n",
       "      <td>6</td>\n",
       "      <td>19:03:00</td>\n",
       "    </tr>\n",
       "    <tr>\n",
       "      <th>(2022, 2)</th>\n",
       "      <td>330</td>\n",
       "      <td>9</td>\n",
       "      <td>20:56:47</td>\n",
       "    </tr>\n",
       "    <tr>\n",
       "      <th>(2022, 3)</th>\n",
       "      <td>361</td>\n",
       "      <td>3</td>\n",
       "      <td>12:08:33</td>\n",
       "    </tr>\n",
       "    <tr>\n",
       "      <th>(2022, 4)</th>\n",
       "      <td>373</td>\n",
       "      <td>20</td>\n",
       "      <td>01:08:59</td>\n",
       "    </tr>\n",
       "    <tr>\n",
       "      <th>(2022, 5)</th>\n",
       "      <td>400</td>\n",
       "      <td>25</td>\n",
       "      <td>11:31:03</td>\n",
       "    </tr>\n",
       "    <tr>\n",
       "      <th>(2022, 6)</th>\n",
       "      <td>401</td>\n",
       "      <td>2</td>\n",
       "      <td>13:22:44</td>\n",
       "    </tr>\n",
       "    <tr>\n",
       "      <th>(2022, 7)</th>\n",
       "      <td>453</td>\n",
       "      <td>15</td>\n",
       "      <td>05:53:35</td>\n",
       "    </tr>\n",
       "    <tr>\n",
       "      <th>(2022, 8)</th>\n",
       "      <td>452</td>\n",
       "      <td>17</td>\n",
       "      <td>10:04:04</td>\n",
       "    </tr>\n",
       "    <tr>\n",
       "      <th>0</th>\n",
       "      <td>3165</td>\n",
       "      <td>10</td>\n",
       "      <td>22:08:44.999999488</td>\n",
       "    </tr>\n",
       "    <tr>\n",
       "      <th>0</th>\n",
       "      <td>9100</td>\n",
       "      <td>23</td>\n",
       "      <td>15:6:51</td>\n",
       "    </tr>\n",
       "  </tbody>\n",
       "</table>\n",
       "</div>"
      ],
      "text/plain": [
       "            months  days                time\n",
       "(2020, 1)      161    14            06:04:49\n",
       "(2020, 2)      126    27            14:53:40\n",
       "(2020, 3)      140    20            18:42:13\n",
       "(2020, 4)      173    10            19:02:23\n",
       "(2020, 5)      223     8            16:05:39\n",
       "(2020, 6)      280    25            07:42:45\n",
       "(2020, 7)      331    18            17:47:42\n",
       "(2020, 8)      333     4            13:12:00\n",
       "(2020, 9)      262    27            09:02:08\n",
       "(2020, 10)     326    29            02:56:50\n",
       "(2020, 11)     322    26            05:46:34\n",
       "(2020, 12)     292    12            14:40:03\n",
       "0             2976    16            01:56:46\n",
       "(2021, 1)      223    10            00:31:35\n",
       "(2021, 2)      199     2            01:10:01\n",
       "(2021, 3)      210    18            03:25:10\n",
       "(2021, 4)      199    11            18:18:29\n",
       "(2021, 5)      197    24            01:30:44\n",
       "(2021, 6)      197    17            10:26:42\n",
       "(2021, 7)      233     9            08:35:22\n",
       "(2021, 8)      240    17            06:09:09\n",
       "(2021, 9)      240    22            08:48:45\n",
       "(2021, 10)     287     1            17:43:58\n",
       "(2021, 11)     333    27            21:16:40\n",
       "(2021, 12)     395    14            13:04:45\n",
       "0             2958    26            15:01:20\n",
       "(2022, 1)      392     6            19:03:00\n",
       "(2022, 2)      330     9            20:56:47\n",
       "(2022, 3)      361     3            12:08:33\n",
       "(2022, 4)      373    20            01:08:59\n",
       "(2022, 5)      400    25            11:31:03\n",
       "(2022, 6)      401     2            13:22:44\n",
       "(2022, 7)      453    15            05:53:35\n",
       "(2022, 8)      452    17            10:04:04\n",
       "0             3165    10  22:08:44.999999488\n",
       "0             9100    23             15:6:51"
      ]
     },
     "execution_count": 601,
     "metadata": {},
     "output_type": "execute_result"
    }
   ],
   "source": [
    "temp = pd.concat([temp, total])\n",
    "temp"
   ]
  },
  {
   "cell_type": "code",
   "execution_count": 602,
   "metadata": {},
   "outputs": [],
   "source": [
    "temp.to_excel('2020-22년_급속충전_년월별_총_충전시간.xlsx', encoding=True)"
   ]
  },
  {
   "cell_type": "markdown",
   "metadata": {},
   "source": [
    "#### 년, 월별 총 충전시간"
   ]
  },
  {
   "cell_type": "code",
   "execution_count": 403,
   "metadata": {},
   "outputs": [
    {
     "data": {
      "text/plain": [
       "충전시작_년도  충전시작_월\n",
       "2020     1         4844 days 06:04:49\n",
       "         2         3807 days 14:53:40\n",
       "         3         4220 days 18:42:13\n",
       "         4         5200 days 19:02:23\n",
       "         5         6698 days 16:05:39\n",
       "         6         8425 days 07:42:45\n",
       "         7         9948 days 17:47:42\n",
       "         8         9994 days 13:12:00\n",
       "         9         7887 days 09:02:08\n",
       "         10        9809 days 02:56:50\n",
       "         11        9686 days 05:46:34\n",
       "         12        8772 days 14:40:03\n",
       "2021     1         6700 days 00:31:35\n",
       "         2         5972 days 01:10:01\n",
       "         3         6318 days 03:25:10\n",
       "         4         5981 days 18:18:29\n",
       "         5         5934 days 01:30:44\n",
       "         6         5927 days 10:26:42\n",
       "         7         6999 days 08:35:22\n",
       "         8         7217 days 06:09:09\n",
       "         9         7222 days 08:48:45\n",
       "         10        8611 days 17:43:58\n",
       "         11       10017 days 21:16:40\n",
       "         12       11864 days 13:04:45\n",
       "2022     1        11766 days 19:03:00\n",
       "         2         9909 days 20:56:47\n",
       "         3        10833 days 12:08:33\n",
       "         4        11210 days 01:08:59\n",
       "         5        12025 days 11:31:03\n",
       "         6        12032 days 13:22:44\n",
       "         7        13605 days 05:53:35\n",
       "         8        13577 days 10:04:04\n",
       "Name: 충전시간, dtype: timedelta64[ns]"
      ]
     },
     "execution_count": 403,
     "metadata": {},
     "output_type": "execute_result"
    }
   ],
   "source": [
    "col = '충전시간'\n",
    "ch_cal_time_by_ym = df2.groupby(['충전시작_년도', '충전시작_월'])[col].sum()\n",
    "ch_cal_time_by_ym"
   ]
  },
  {
   "cell_type": "code",
   "execution_count": 427,
   "metadata": {},
   "outputs": [
    {
     "data": {
      "text/plain": [
       "충전시작_년도\n",
       "2020             89296 days 01:56:46\n",
       "2021             88766 days 15:01:20\n",
       "2022   94960 days 22:08:44.999999488\n",
       "Name: 충전시간, dtype: timedelta64[ns]"
      ]
     },
     "execution_count": 427,
     "metadata": {},
     "output_type": "execute_result"
    }
   ],
   "source": [
    "col = '충전시간'\n",
    "ch_cal_time_by_y = df2.groupby(['충전시작_년도'])[col].sum()\n",
    "ch_cal_time_by_y"
   ]
  },
  {
   "cell_type": "code",
   "execution_count": 428,
   "metadata": {},
   "outputs": [
    {
     "data": {
      "text/html": [
       "<div>\n",
       "<style scoped>\n",
       "    .dataframe tbody tr th:only-of-type {\n",
       "        vertical-align: middle;\n",
       "    }\n",
       "\n",
       "    .dataframe tbody tr th {\n",
       "        vertical-align: top;\n",
       "    }\n",
       "\n",
       "    .dataframe thead th {\n",
       "        text-align: right;\n",
       "    }\n",
       "</style>\n",
       "<table border=\"1\" class=\"dataframe\">\n",
       "  <thead>\n",
       "    <tr style=\"text-align: right;\">\n",
       "      <th></th>\n",
       "      <th>충전시간</th>\n",
       "    </tr>\n",
       "    <tr>\n",
       "      <th>충전시작_년도</th>\n",
       "      <th></th>\n",
       "    </tr>\n",
       "  </thead>\n",
       "  <tbody>\n",
       "    <tr>\n",
       "      <th>2020</th>\n",
       "      <td>89296 days 01:56:46</td>\n",
       "    </tr>\n",
       "    <tr>\n",
       "      <th>2021</th>\n",
       "      <td>88766 days 15:01:20</td>\n",
       "    </tr>\n",
       "    <tr>\n",
       "      <th>2022</th>\n",
       "      <td>94960 days 22:08:44.999999488</td>\n",
       "    </tr>\n",
       "  </tbody>\n",
       "</table>\n",
       "</div>"
      ],
      "text/plain": [
       "                                 충전시간\n",
       "충전시작_년도                              \n",
       "2020              89296 days 01:56:46\n",
       "2021              88766 days 15:01:20\n",
       "2022    94960 days 22:08:44.999999488"
      ]
     },
     "execution_count": 428,
     "metadata": {},
     "output_type": "execute_result"
    }
   ],
   "source": [
    "ch_cal_time_by_y = ch_cal_time_by_y.to_frame()\n",
    "ch_cal_time_by_y"
   ]
  },
  {
   "cell_type": "code",
   "execution_count": 434,
   "metadata": {},
   "outputs": [
    {
     "data": {
      "text/html": [
       "<div>\n",
       "<style scoped>\n",
       "    .dataframe tbody tr th:only-of-type {\n",
       "        vertical-align: middle;\n",
       "    }\n",
       "\n",
       "    .dataframe tbody tr th {\n",
       "        vertical-align: top;\n",
       "    }\n",
       "\n",
       "    .dataframe thead th {\n",
       "        text-align: right;\n",
       "    }\n",
       "</style>\n",
       "<table border=\"1\" class=\"dataframe\">\n",
       "  <thead>\n",
       "    <tr style=\"text-align: right;\">\n",
       "      <th></th>\n",
       "      <th>충전시간</th>\n",
       "    </tr>\n",
       "    <tr>\n",
       "      <th>충전시작_년도</th>\n",
       "      <th></th>\n",
       "    </tr>\n",
       "  </thead>\n",
       "  <tbody>\n",
       "    <tr>\n",
       "      <th>2020</th>\n",
       "      <td>89296 days 01:56:46</td>\n",
       "    </tr>\n",
       "    <tr>\n",
       "      <th>2021</th>\n",
       "      <td>88766 days 15:01:20</td>\n",
       "    </tr>\n",
       "    <tr>\n",
       "      <th>2022</th>\n",
       "      <td>94960 days 22:08:44.999999488</td>\n",
       "    </tr>\n",
       "  </tbody>\n",
       "</table>\n",
       "</div>"
      ],
      "text/plain": [
       "                                  충전시간\n",
       "충전시작_년도                               \n",
       "2020               89296 days 01:56:46\n",
       "2021               88766 days 15:01:20\n",
       "2022     94960 days 22:08:44.999999488"
      ]
     },
     "execution_count": 434,
     "metadata": {},
     "output_type": "execute_result"
    }
   ],
   "source": [
    "ch_cal_time_by_y['충전시간'] = ch_cal_time_by_y['충전시간'].astype(str)\n",
    "ch_cal_time_by_y"
   ]
  },
  {
   "cell_type": "code",
   "execution_count": 435,
   "metadata": {},
   "outputs": [
    {
     "name": "stdout",
     "output_type": "stream",
     "text": [
      "<class 'pandas.core.frame.DataFrame'>\n",
      "Int64Index: 3 entries, 2020 to 2022\n",
      "Data columns (total 1 columns):\n",
      " #   Column  Non-Null Count  Dtype \n",
      "---  ------  --------------  ----- \n",
      " 0   충전시간    3 non-null      object\n",
      "dtypes: object(1)\n",
      "memory usage: 48.0+ bytes\n"
     ]
    }
   ],
   "source": [
    "ch_cal_time_by_y.info()"
   ]
  },
  {
   "cell_type": "code",
   "execution_count": 438,
   "metadata": {},
   "outputs": [
    {
     "data": {
      "text/html": [
       "<div>\n",
       "<style scoped>\n",
       "    .dataframe tbody tr th:only-of-type {\n",
       "        vertical-align: middle;\n",
       "    }\n",
       "\n",
       "    .dataframe tbody tr th {\n",
       "        vertical-align: top;\n",
       "    }\n",
       "\n",
       "    .dataframe thead th {\n",
       "        text-align: right;\n",
       "    }\n",
       "</style>\n",
       "<table border=\"1\" class=\"dataframe\">\n",
       "  <thead>\n",
       "    <tr style=\"text-align: right;\">\n",
       "      <th></th>\n",
       "      <th>0</th>\n",
       "      <th>1</th>\n",
       "      <th>2</th>\n",
       "    </tr>\n",
       "    <tr>\n",
       "      <th>충전시작_년도</th>\n",
       "      <th></th>\n",
       "      <th></th>\n",
       "      <th></th>\n",
       "    </tr>\n",
       "  </thead>\n",
       "  <tbody>\n",
       "    <tr>\n",
       "      <th>2020</th>\n",
       "      <td>89296</td>\n",
       "      <td>days</td>\n",
       "      <td>01:56:46</td>\n",
       "    </tr>\n",
       "    <tr>\n",
       "      <th>2021</th>\n",
       "      <td>88766</td>\n",
       "      <td>days</td>\n",
       "      <td>15:01:20</td>\n",
       "    </tr>\n",
       "    <tr>\n",
       "      <th>2022</th>\n",
       "      <td>94960</td>\n",
       "      <td>days</td>\n",
       "      <td>22:08:44.999999488</td>\n",
       "    </tr>\n",
       "  </tbody>\n",
       "</table>\n",
       "</div>"
      ],
      "text/plain": [
       "             0     1                   2\n",
       "충전시작_년도                                 \n",
       "2020     89296  days            01:56:46\n",
       "2021     88766  days            15:01:20\n",
       "2022     94960  days  22:08:44.999999488"
      ]
     },
     "execution_count": 438,
     "metadata": {},
     "output_type": "execute_result"
    }
   ],
   "source": [
    "ch_cal_time_by_y = ch_cal_time_by_y['충전시간'].str.split(expand=True)\n",
    "ch_cal_time_by_y"
   ]
  },
  {
   "cell_type": "code",
   "execution_count": 440,
   "metadata": {},
   "outputs": [
    {
     "data": {
      "text/html": [
       "<div>\n",
       "<style scoped>\n",
       "    .dataframe tbody tr th:only-of-type {\n",
       "        vertical-align: middle;\n",
       "    }\n",
       "\n",
       "    .dataframe tbody tr th {\n",
       "        vertical-align: top;\n",
       "    }\n",
       "\n",
       "    .dataframe thead th {\n",
       "        text-align: right;\n",
       "    }\n",
       "</style>\n",
       "<table border=\"1\" class=\"dataframe\">\n",
       "  <thead>\n",
       "    <tr style=\"text-align: right;\">\n",
       "      <th></th>\n",
       "      <th>0</th>\n",
       "      <th>2</th>\n",
       "    </tr>\n",
       "    <tr>\n",
       "      <th>충전시작_년도</th>\n",
       "      <th></th>\n",
       "      <th></th>\n",
       "    </tr>\n",
       "  </thead>\n",
       "  <tbody>\n",
       "    <tr>\n",
       "      <th>2020</th>\n",
       "      <td>89296</td>\n",
       "      <td>01:56:46</td>\n",
       "    </tr>\n",
       "    <tr>\n",
       "      <th>2021</th>\n",
       "      <td>88766</td>\n",
       "      <td>15:01:20</td>\n",
       "    </tr>\n",
       "    <tr>\n",
       "      <th>2022</th>\n",
       "      <td>94960</td>\n",
       "      <td>22:08:44.999999488</td>\n",
       "    </tr>\n",
       "  </tbody>\n",
       "</table>\n",
       "</div>"
      ],
      "text/plain": [
       "             0                   2\n",
       "충전시작_년도                           \n",
       "2020     89296            01:56:46\n",
       "2021     88766            15:01:20\n",
       "2022     94960  22:08:44.999999488"
      ]
     },
     "execution_count": 440,
     "metadata": {},
     "output_type": "execute_result"
    }
   ],
   "source": [
    "ch_cal_time_by_y = ch_cal_time_by_y.drop([1], axis=1)\n",
    "ch_cal_time_by_y"
   ]
  },
  {
   "cell_type": "code",
   "execution_count": 443,
   "metadata": {},
   "outputs": [
    {
     "name": "stdout",
     "output_type": "stream",
     "text": [
      "<class 'pandas.core.frame.DataFrame'>\n",
      "Int64Index: 3 entries, 2020 to 2022\n",
      "Data columns (total 2 columns):\n",
      " #   Column  Non-Null Count  Dtype \n",
      "---  ------  --------------  ----- \n",
      " 0   0       3 non-null      int32 \n",
      " 1   2       3 non-null      object\n",
      "dtypes: int32(1), object(1)\n",
      "memory usage: 60.0+ bytes\n"
     ]
    }
   ],
   "source": [
    "ch_cal_time_by_y[0] = ch_cal_time_by_y[0].astype(int)\n",
    "ch_cal_time_by_y.info()"
   ]
  },
  {
   "cell_type": "code",
   "execution_count": 444,
   "metadata": {},
   "outputs": [],
   "source": [
    "temp2020 = ch_cal_time_by_y.iloc[0]\n",
    "temp2021 = ch_cal_time_by_y.iloc[1]\n",
    "temp2022 = ch_cal_time_by_y.iloc[2]"
   ]
  },
  {
   "cell_type": "code",
   "execution_count": 448,
   "metadata": {},
   "outputs": [
    {
     "data": {
      "text/plain": [
       "(3165, 10)"
      ]
     },
     "execution_count": 448,
     "metadata": {},
     "output_type": "execute_result"
    }
   ],
   "source": [
    "d = temp2022[0]\n",
    "months = d // 30\n",
    "days = d % 30\n",
    "months, days"
   ]
  },
  {
   "cell_type": "code",
   "execution_count": 404,
   "metadata": {},
   "outputs": [
    {
     "data": {
      "text/html": [
       "<div>\n",
       "<style scoped>\n",
       "    .dataframe tbody tr th:only-of-type {\n",
       "        vertical-align: middle;\n",
       "    }\n",
       "\n",
       "    .dataframe tbody tr th {\n",
       "        vertical-align: top;\n",
       "    }\n",
       "\n",
       "    .dataframe thead th {\n",
       "        text-align: right;\n",
       "    }\n",
       "</style>\n",
       "<table border=\"1\" class=\"dataframe\">\n",
       "  <thead>\n",
       "    <tr style=\"text-align: right;\">\n",
       "      <th></th>\n",
       "      <th></th>\n",
       "      <th>충전시간</th>\n",
       "    </tr>\n",
       "    <tr>\n",
       "      <th>충전시작_년도</th>\n",
       "      <th>충전시작_월</th>\n",
       "      <th></th>\n",
       "    </tr>\n",
       "  </thead>\n",
       "  <tbody>\n",
       "    <tr>\n",
       "      <th rowspan=\"12\" valign=\"top\">2020</th>\n",
       "      <th>1</th>\n",
       "      <td>4844 days 06:04:49</td>\n",
       "    </tr>\n",
       "    <tr>\n",
       "      <th>2</th>\n",
       "      <td>3807 days 14:53:40</td>\n",
       "    </tr>\n",
       "    <tr>\n",
       "      <th>3</th>\n",
       "      <td>4220 days 18:42:13</td>\n",
       "    </tr>\n",
       "    <tr>\n",
       "      <th>4</th>\n",
       "      <td>5200 days 19:02:23</td>\n",
       "    </tr>\n",
       "    <tr>\n",
       "      <th>5</th>\n",
       "      <td>6698 days 16:05:39</td>\n",
       "    </tr>\n",
       "    <tr>\n",
       "      <th>6</th>\n",
       "      <td>8425 days 07:42:45</td>\n",
       "    </tr>\n",
       "    <tr>\n",
       "      <th>7</th>\n",
       "      <td>9948 days 17:47:42</td>\n",
       "    </tr>\n",
       "    <tr>\n",
       "      <th>8</th>\n",
       "      <td>9994 days 13:12:00</td>\n",
       "    </tr>\n",
       "    <tr>\n",
       "      <th>9</th>\n",
       "      <td>7887 days 09:02:08</td>\n",
       "    </tr>\n",
       "    <tr>\n",
       "      <th>10</th>\n",
       "      <td>9809 days 02:56:50</td>\n",
       "    </tr>\n",
       "    <tr>\n",
       "      <th>11</th>\n",
       "      <td>9686 days 05:46:34</td>\n",
       "    </tr>\n",
       "    <tr>\n",
       "      <th>12</th>\n",
       "      <td>8772 days 14:40:03</td>\n",
       "    </tr>\n",
       "    <tr>\n",
       "      <th rowspan=\"12\" valign=\"top\">2021</th>\n",
       "      <th>1</th>\n",
       "      <td>6700 days 00:31:35</td>\n",
       "    </tr>\n",
       "    <tr>\n",
       "      <th>2</th>\n",
       "      <td>5972 days 01:10:01</td>\n",
       "    </tr>\n",
       "    <tr>\n",
       "      <th>3</th>\n",
       "      <td>6318 days 03:25:10</td>\n",
       "    </tr>\n",
       "    <tr>\n",
       "      <th>4</th>\n",
       "      <td>5981 days 18:18:29</td>\n",
       "    </tr>\n",
       "    <tr>\n",
       "      <th>5</th>\n",
       "      <td>5934 days 01:30:44</td>\n",
       "    </tr>\n",
       "    <tr>\n",
       "      <th>6</th>\n",
       "      <td>5927 days 10:26:42</td>\n",
       "    </tr>\n",
       "    <tr>\n",
       "      <th>7</th>\n",
       "      <td>6999 days 08:35:22</td>\n",
       "    </tr>\n",
       "    <tr>\n",
       "      <th>8</th>\n",
       "      <td>7217 days 06:09:09</td>\n",
       "    </tr>\n",
       "    <tr>\n",
       "      <th>9</th>\n",
       "      <td>7222 days 08:48:45</td>\n",
       "    </tr>\n",
       "    <tr>\n",
       "      <th>10</th>\n",
       "      <td>8611 days 17:43:58</td>\n",
       "    </tr>\n",
       "    <tr>\n",
       "      <th>11</th>\n",
       "      <td>10017 days 21:16:40</td>\n",
       "    </tr>\n",
       "    <tr>\n",
       "      <th>12</th>\n",
       "      <td>11864 days 13:04:45</td>\n",
       "    </tr>\n",
       "    <tr>\n",
       "      <th rowspan=\"8\" valign=\"top\">2022</th>\n",
       "      <th>1</th>\n",
       "      <td>11766 days 19:03:00</td>\n",
       "    </tr>\n",
       "    <tr>\n",
       "      <th>2</th>\n",
       "      <td>9909 days 20:56:47</td>\n",
       "    </tr>\n",
       "    <tr>\n",
       "      <th>3</th>\n",
       "      <td>10833 days 12:08:33</td>\n",
       "    </tr>\n",
       "    <tr>\n",
       "      <th>4</th>\n",
       "      <td>11210 days 01:08:59</td>\n",
       "    </tr>\n",
       "    <tr>\n",
       "      <th>5</th>\n",
       "      <td>12025 days 11:31:03</td>\n",
       "    </tr>\n",
       "    <tr>\n",
       "      <th>6</th>\n",
       "      <td>12032 days 13:22:44</td>\n",
       "    </tr>\n",
       "    <tr>\n",
       "      <th>7</th>\n",
       "      <td>13605 days 05:53:35</td>\n",
       "    </tr>\n",
       "    <tr>\n",
       "      <th>8</th>\n",
       "      <td>13577 days 10:04:04</td>\n",
       "    </tr>\n",
       "  </tbody>\n",
       "</table>\n",
       "</div>"
      ],
      "text/plain": [
       "                              충전시간\n",
       "충전시작_년도 충전시작_월                    \n",
       "2020    1       4844 days 06:04:49\n",
       "        2       3807 days 14:53:40\n",
       "        3       4220 days 18:42:13\n",
       "        4       5200 days 19:02:23\n",
       "        5       6698 days 16:05:39\n",
       "        6       8425 days 07:42:45\n",
       "        7       9948 days 17:47:42\n",
       "        8       9994 days 13:12:00\n",
       "        9       7887 days 09:02:08\n",
       "        10      9809 days 02:56:50\n",
       "        11      9686 days 05:46:34\n",
       "        12      8772 days 14:40:03\n",
       "2021    1       6700 days 00:31:35\n",
       "        2       5972 days 01:10:01\n",
       "        3       6318 days 03:25:10\n",
       "        4       5981 days 18:18:29\n",
       "        5       5934 days 01:30:44\n",
       "        6       5927 days 10:26:42\n",
       "        7       6999 days 08:35:22\n",
       "        8       7217 days 06:09:09\n",
       "        9       7222 days 08:48:45\n",
       "        10      8611 days 17:43:58\n",
       "        11     10017 days 21:16:40\n",
       "        12     11864 days 13:04:45\n",
       "2022    1      11766 days 19:03:00\n",
       "        2       9909 days 20:56:47\n",
       "        3      10833 days 12:08:33\n",
       "        4      11210 days 01:08:59\n",
       "        5      12025 days 11:31:03\n",
       "        6      12032 days 13:22:44\n",
       "        7      13605 days 05:53:35\n",
       "        8      13577 days 10:04:04"
      ]
     },
     "execution_count": 404,
     "metadata": {},
     "output_type": "execute_result"
    }
   ],
   "source": [
    "ch_cal_time_by_ym = ch_cal_time_by_ym.to_frame()\n",
    "ch_cal_time_by_ym"
   ]
  },
  {
   "cell_type": "code",
   "execution_count": 405,
   "metadata": {},
   "outputs": [
    {
     "data": {
      "text/plain": [
       "1264011"
      ]
     },
     "execution_count": 405,
     "metadata": {},
     "output_type": "execute_result"
    }
   ],
   "source": [
    "temp1 = ch_cal_time_by_ym[col].dt.seconds.sum()\n",
    "temp1"
   ]
  },
  {
   "cell_type": "code",
   "execution_count": 406,
   "metadata": {},
   "outputs": [
    {
     "data": {
      "text/plain": [
       "273009"
      ]
     },
     "execution_count": 406,
     "metadata": {},
     "output_type": "execute_result"
    }
   ],
   "source": [
    "temp2 = ch_cal_time_by_ym[col].dt.days.sum()\n",
    "temp2"
   ]
  },
  {
   "cell_type": "code",
   "execution_count": 407,
   "metadata": {},
   "outputs": [
    {
     "data": {
      "text/plain": [
       "(9100, 9, 351, 6, 51)"
      ]
     },
     "execution_count": 407,
     "metadata": {},
     "output_type": "execute_result"
    }
   ],
   "source": [
    "months = temp2 // 30\n",
    "days = temp2 % 30\n",
    "hours = temp1 // 3600\n",
    "minutes = (temp1 % 3600) // 60\n",
    "seconds = (temp1 % 3600) % 60\n",
    "months, days, hours, minutes, seconds"
   ]
  },
  {
   "cell_type": "code",
   "execution_count": 408,
   "metadata": {},
   "outputs": [
    {
     "data": {
      "text/plain": [
       "(23, 15)"
      ]
     },
     "execution_count": 408,
     "metadata": {},
     "output_type": "execute_result"
    }
   ],
   "source": [
    "days += hours // 24\n",
    "hours = hours % 24\n",
    "days, hours"
   ]
  },
  {
   "cell_type": "code",
   "execution_count": 409,
   "metadata": {},
   "outputs": [
    {
     "data": {
      "text/html": [
       "<div>\n",
       "<style scoped>\n",
       "    .dataframe tbody tr th:only-of-type {\n",
       "        vertical-align: middle;\n",
       "    }\n",
       "\n",
       "    .dataframe tbody tr th {\n",
       "        vertical-align: top;\n",
       "    }\n",
       "\n",
       "    .dataframe thead th {\n",
       "        text-align: right;\n",
       "    }\n",
       "</style>\n",
       "<table border=\"1\" class=\"dataframe\">\n",
       "  <thead>\n",
       "    <tr style=\"text-align: right;\">\n",
       "      <th></th>\n",
       "      <th></th>\n",
       "      <th>충전시간</th>\n",
       "    </tr>\n",
       "    <tr>\n",
       "      <th>충전시작_년도</th>\n",
       "      <th>충전시작_월</th>\n",
       "      <th></th>\n",
       "    </tr>\n",
       "  </thead>\n",
       "  <tbody>\n",
       "    <tr>\n",
       "      <th rowspan=\"12\" valign=\"top\">2020</th>\n",
       "      <th>1</th>\n",
       "      <td>4844 days 06:04:49</td>\n",
       "    </tr>\n",
       "    <tr>\n",
       "      <th>2</th>\n",
       "      <td>3807 days 14:53:40</td>\n",
       "    </tr>\n",
       "    <tr>\n",
       "      <th>3</th>\n",
       "      <td>4220 days 18:42:13</td>\n",
       "    </tr>\n",
       "    <tr>\n",
       "      <th>4</th>\n",
       "      <td>5200 days 19:02:23</td>\n",
       "    </tr>\n",
       "    <tr>\n",
       "      <th>5</th>\n",
       "      <td>6698 days 16:05:39</td>\n",
       "    </tr>\n",
       "    <tr>\n",
       "      <th>6</th>\n",
       "      <td>8425 days 07:42:45</td>\n",
       "    </tr>\n",
       "    <tr>\n",
       "      <th>7</th>\n",
       "      <td>9948 days 17:47:42</td>\n",
       "    </tr>\n",
       "    <tr>\n",
       "      <th>8</th>\n",
       "      <td>9994 days 13:12:00</td>\n",
       "    </tr>\n",
       "    <tr>\n",
       "      <th>9</th>\n",
       "      <td>7887 days 09:02:08</td>\n",
       "    </tr>\n",
       "    <tr>\n",
       "      <th>10</th>\n",
       "      <td>9809 days 02:56:50</td>\n",
       "    </tr>\n",
       "    <tr>\n",
       "      <th>11</th>\n",
       "      <td>9686 days 05:46:34</td>\n",
       "    </tr>\n",
       "    <tr>\n",
       "      <th>12</th>\n",
       "      <td>8772 days 14:40:03</td>\n",
       "    </tr>\n",
       "    <tr>\n",
       "      <th rowspan=\"12\" valign=\"top\">2021</th>\n",
       "      <th>1</th>\n",
       "      <td>6700 days 00:31:35</td>\n",
       "    </tr>\n",
       "    <tr>\n",
       "      <th>2</th>\n",
       "      <td>5972 days 01:10:01</td>\n",
       "    </tr>\n",
       "    <tr>\n",
       "      <th>3</th>\n",
       "      <td>6318 days 03:25:10</td>\n",
       "    </tr>\n",
       "    <tr>\n",
       "      <th>4</th>\n",
       "      <td>5981 days 18:18:29</td>\n",
       "    </tr>\n",
       "    <tr>\n",
       "      <th>5</th>\n",
       "      <td>5934 days 01:30:44</td>\n",
       "    </tr>\n",
       "    <tr>\n",
       "      <th>6</th>\n",
       "      <td>5927 days 10:26:42</td>\n",
       "    </tr>\n",
       "    <tr>\n",
       "      <th>7</th>\n",
       "      <td>6999 days 08:35:22</td>\n",
       "    </tr>\n",
       "    <tr>\n",
       "      <th>8</th>\n",
       "      <td>7217 days 06:09:09</td>\n",
       "    </tr>\n",
       "    <tr>\n",
       "      <th>9</th>\n",
       "      <td>7222 days 08:48:45</td>\n",
       "    </tr>\n",
       "    <tr>\n",
       "      <th>10</th>\n",
       "      <td>8611 days 17:43:58</td>\n",
       "    </tr>\n",
       "    <tr>\n",
       "      <th>11</th>\n",
       "      <td>10017 days 21:16:40</td>\n",
       "    </tr>\n",
       "    <tr>\n",
       "      <th>12</th>\n",
       "      <td>11864 days 13:04:45</td>\n",
       "    </tr>\n",
       "    <tr>\n",
       "      <th rowspan=\"8\" valign=\"top\">2022</th>\n",
       "      <th>1</th>\n",
       "      <td>11766 days 19:03:00</td>\n",
       "    </tr>\n",
       "    <tr>\n",
       "      <th>2</th>\n",
       "      <td>9909 days 20:56:47</td>\n",
       "    </tr>\n",
       "    <tr>\n",
       "      <th>3</th>\n",
       "      <td>10833 days 12:08:33</td>\n",
       "    </tr>\n",
       "    <tr>\n",
       "      <th>4</th>\n",
       "      <td>11210 days 01:08:59</td>\n",
       "    </tr>\n",
       "    <tr>\n",
       "      <th>5</th>\n",
       "      <td>12025 days 11:31:03</td>\n",
       "    </tr>\n",
       "    <tr>\n",
       "      <th>6</th>\n",
       "      <td>12032 days 13:22:44</td>\n",
       "    </tr>\n",
       "    <tr>\n",
       "      <th>7</th>\n",
       "      <td>13605 days 05:53:35</td>\n",
       "    </tr>\n",
       "    <tr>\n",
       "      <th>8</th>\n",
       "      <td>13577 days 10:04:04</td>\n",
       "    </tr>\n",
       "  </tbody>\n",
       "</table>\n",
       "</div>"
      ],
      "text/plain": [
       "                               충전시간\n",
       "충전시작_년도 충전시작_월                     \n",
       "2020    1        4844 days 06:04:49\n",
       "        2        3807 days 14:53:40\n",
       "        3        4220 days 18:42:13\n",
       "        4        5200 days 19:02:23\n",
       "        5        6698 days 16:05:39\n",
       "        6        8425 days 07:42:45\n",
       "        7        9948 days 17:47:42\n",
       "        8        9994 days 13:12:00\n",
       "        9        7887 days 09:02:08\n",
       "        10       9809 days 02:56:50\n",
       "        11       9686 days 05:46:34\n",
       "        12       8772 days 14:40:03\n",
       "2021    1        6700 days 00:31:35\n",
       "        2        5972 days 01:10:01\n",
       "        3        6318 days 03:25:10\n",
       "        4        5981 days 18:18:29\n",
       "        5        5934 days 01:30:44\n",
       "        6        5927 days 10:26:42\n",
       "        7        6999 days 08:35:22\n",
       "        8        7217 days 06:09:09\n",
       "        9        7222 days 08:48:45\n",
       "        10       8611 days 17:43:58\n",
       "        11      10017 days 21:16:40\n",
       "        12      11864 days 13:04:45\n",
       "2022    1       11766 days 19:03:00\n",
       "        2        9909 days 20:56:47\n",
       "        3       10833 days 12:08:33\n",
       "        4       11210 days 01:08:59\n",
       "        5       12025 days 11:31:03\n",
       "        6       12032 days 13:22:44\n",
       "        7       13605 days 05:53:35\n",
       "        8       13577 days 10:04:04"
      ]
     },
     "execution_count": 409,
     "metadata": {},
     "output_type": "execute_result"
    }
   ],
   "source": [
    "ch_cal_time_by_ym[col] = ch_cal_time_by_ym[col].astype(str)\n",
    "ch_cal_time_by_ym"
   ]
  },
  {
   "cell_type": "code",
   "execution_count": 410,
   "metadata": {},
   "outputs": [
    {
     "data": {
      "text/html": [
       "<div>\n",
       "<style scoped>\n",
       "    .dataframe tbody tr th:only-of-type {\n",
       "        vertical-align: middle;\n",
       "    }\n",
       "\n",
       "    .dataframe tbody tr th {\n",
       "        vertical-align: top;\n",
       "    }\n",
       "\n",
       "    .dataframe thead th {\n",
       "        text-align: right;\n",
       "    }\n",
       "</style>\n",
       "<table border=\"1\" class=\"dataframe\">\n",
       "  <thead>\n",
       "    <tr style=\"text-align: right;\">\n",
       "      <th></th>\n",
       "      <th></th>\n",
       "      <th>0</th>\n",
       "      <th>1</th>\n",
       "      <th>2</th>\n",
       "    </tr>\n",
       "    <tr>\n",
       "      <th>충전시작_년도</th>\n",
       "      <th>충전시작_월</th>\n",
       "      <th></th>\n",
       "      <th></th>\n",
       "      <th></th>\n",
       "    </tr>\n",
       "  </thead>\n",
       "  <tbody>\n",
       "    <tr>\n",
       "      <th rowspan=\"12\" valign=\"top\">2020</th>\n",
       "      <th>1</th>\n",
       "      <td>4844</td>\n",
       "      <td>days</td>\n",
       "      <td>06:04:49</td>\n",
       "    </tr>\n",
       "    <tr>\n",
       "      <th>2</th>\n",
       "      <td>3807</td>\n",
       "      <td>days</td>\n",
       "      <td>14:53:40</td>\n",
       "    </tr>\n",
       "    <tr>\n",
       "      <th>3</th>\n",
       "      <td>4220</td>\n",
       "      <td>days</td>\n",
       "      <td>18:42:13</td>\n",
       "    </tr>\n",
       "    <tr>\n",
       "      <th>4</th>\n",
       "      <td>5200</td>\n",
       "      <td>days</td>\n",
       "      <td>19:02:23</td>\n",
       "    </tr>\n",
       "    <tr>\n",
       "      <th>5</th>\n",
       "      <td>6698</td>\n",
       "      <td>days</td>\n",
       "      <td>16:05:39</td>\n",
       "    </tr>\n",
       "    <tr>\n",
       "      <th>6</th>\n",
       "      <td>8425</td>\n",
       "      <td>days</td>\n",
       "      <td>07:42:45</td>\n",
       "    </tr>\n",
       "    <tr>\n",
       "      <th>7</th>\n",
       "      <td>9948</td>\n",
       "      <td>days</td>\n",
       "      <td>17:47:42</td>\n",
       "    </tr>\n",
       "    <tr>\n",
       "      <th>8</th>\n",
       "      <td>9994</td>\n",
       "      <td>days</td>\n",
       "      <td>13:12:00</td>\n",
       "    </tr>\n",
       "    <tr>\n",
       "      <th>9</th>\n",
       "      <td>7887</td>\n",
       "      <td>days</td>\n",
       "      <td>09:02:08</td>\n",
       "    </tr>\n",
       "    <tr>\n",
       "      <th>10</th>\n",
       "      <td>9809</td>\n",
       "      <td>days</td>\n",
       "      <td>02:56:50</td>\n",
       "    </tr>\n",
       "    <tr>\n",
       "      <th>11</th>\n",
       "      <td>9686</td>\n",
       "      <td>days</td>\n",
       "      <td>05:46:34</td>\n",
       "    </tr>\n",
       "    <tr>\n",
       "      <th>12</th>\n",
       "      <td>8772</td>\n",
       "      <td>days</td>\n",
       "      <td>14:40:03</td>\n",
       "    </tr>\n",
       "    <tr>\n",
       "      <th rowspan=\"12\" valign=\"top\">2021</th>\n",
       "      <th>1</th>\n",
       "      <td>6700</td>\n",
       "      <td>days</td>\n",
       "      <td>00:31:35</td>\n",
       "    </tr>\n",
       "    <tr>\n",
       "      <th>2</th>\n",
       "      <td>5972</td>\n",
       "      <td>days</td>\n",
       "      <td>01:10:01</td>\n",
       "    </tr>\n",
       "    <tr>\n",
       "      <th>3</th>\n",
       "      <td>6318</td>\n",
       "      <td>days</td>\n",
       "      <td>03:25:10</td>\n",
       "    </tr>\n",
       "    <tr>\n",
       "      <th>4</th>\n",
       "      <td>5981</td>\n",
       "      <td>days</td>\n",
       "      <td>18:18:29</td>\n",
       "    </tr>\n",
       "    <tr>\n",
       "      <th>5</th>\n",
       "      <td>5934</td>\n",
       "      <td>days</td>\n",
       "      <td>01:30:44</td>\n",
       "    </tr>\n",
       "    <tr>\n",
       "      <th>6</th>\n",
       "      <td>5927</td>\n",
       "      <td>days</td>\n",
       "      <td>10:26:42</td>\n",
       "    </tr>\n",
       "    <tr>\n",
       "      <th>7</th>\n",
       "      <td>6999</td>\n",
       "      <td>days</td>\n",
       "      <td>08:35:22</td>\n",
       "    </tr>\n",
       "    <tr>\n",
       "      <th>8</th>\n",
       "      <td>7217</td>\n",
       "      <td>days</td>\n",
       "      <td>06:09:09</td>\n",
       "    </tr>\n",
       "    <tr>\n",
       "      <th>9</th>\n",
       "      <td>7222</td>\n",
       "      <td>days</td>\n",
       "      <td>08:48:45</td>\n",
       "    </tr>\n",
       "    <tr>\n",
       "      <th>10</th>\n",
       "      <td>8611</td>\n",
       "      <td>days</td>\n",
       "      <td>17:43:58</td>\n",
       "    </tr>\n",
       "    <tr>\n",
       "      <th>11</th>\n",
       "      <td>10017</td>\n",
       "      <td>days</td>\n",
       "      <td>21:16:40</td>\n",
       "    </tr>\n",
       "    <tr>\n",
       "      <th>12</th>\n",
       "      <td>11864</td>\n",
       "      <td>days</td>\n",
       "      <td>13:04:45</td>\n",
       "    </tr>\n",
       "    <tr>\n",
       "      <th rowspan=\"8\" valign=\"top\">2022</th>\n",
       "      <th>1</th>\n",
       "      <td>11766</td>\n",
       "      <td>days</td>\n",
       "      <td>19:03:00</td>\n",
       "    </tr>\n",
       "    <tr>\n",
       "      <th>2</th>\n",
       "      <td>9909</td>\n",
       "      <td>days</td>\n",
       "      <td>20:56:47</td>\n",
       "    </tr>\n",
       "    <tr>\n",
       "      <th>3</th>\n",
       "      <td>10833</td>\n",
       "      <td>days</td>\n",
       "      <td>12:08:33</td>\n",
       "    </tr>\n",
       "    <tr>\n",
       "      <th>4</th>\n",
       "      <td>11210</td>\n",
       "      <td>days</td>\n",
       "      <td>01:08:59</td>\n",
       "    </tr>\n",
       "    <tr>\n",
       "      <th>5</th>\n",
       "      <td>12025</td>\n",
       "      <td>days</td>\n",
       "      <td>11:31:03</td>\n",
       "    </tr>\n",
       "    <tr>\n",
       "      <th>6</th>\n",
       "      <td>12032</td>\n",
       "      <td>days</td>\n",
       "      <td>13:22:44</td>\n",
       "    </tr>\n",
       "    <tr>\n",
       "      <th>7</th>\n",
       "      <td>13605</td>\n",
       "      <td>days</td>\n",
       "      <td>05:53:35</td>\n",
       "    </tr>\n",
       "    <tr>\n",
       "      <th>8</th>\n",
       "      <td>13577</td>\n",
       "      <td>days</td>\n",
       "      <td>10:04:04</td>\n",
       "    </tr>\n",
       "  </tbody>\n",
       "</table>\n",
       "</div>"
      ],
      "text/plain": [
       "                    0     1         2\n",
       "충전시작_년도 충전시작_월                       \n",
       "2020    1        4844  days  06:04:49\n",
       "        2        3807  days  14:53:40\n",
       "        3        4220  days  18:42:13\n",
       "        4        5200  days  19:02:23\n",
       "        5        6698  days  16:05:39\n",
       "        6        8425  days  07:42:45\n",
       "        7        9948  days  17:47:42\n",
       "        8        9994  days  13:12:00\n",
       "        9        7887  days  09:02:08\n",
       "        10       9809  days  02:56:50\n",
       "        11       9686  days  05:46:34\n",
       "        12       8772  days  14:40:03\n",
       "2021    1        6700  days  00:31:35\n",
       "        2        5972  days  01:10:01\n",
       "        3        6318  days  03:25:10\n",
       "        4        5981  days  18:18:29\n",
       "        5        5934  days  01:30:44\n",
       "        6        5927  days  10:26:42\n",
       "        7        6999  days  08:35:22\n",
       "        8        7217  days  06:09:09\n",
       "        9        7222  days  08:48:45\n",
       "        10       8611  days  17:43:58\n",
       "        11      10017  days  21:16:40\n",
       "        12      11864  days  13:04:45\n",
       "2022    1       11766  days  19:03:00\n",
       "        2        9909  days  20:56:47\n",
       "        3       10833  days  12:08:33\n",
       "        4       11210  days  01:08:59\n",
       "        5       12025  days  11:31:03\n",
       "        6       12032  days  13:22:44\n",
       "        7       13605  days  05:53:35\n",
       "        8       13577  days  10:04:04"
      ]
     },
     "execution_count": 410,
     "metadata": {},
     "output_type": "execute_result"
    }
   ],
   "source": [
    "temp = ch_cal_time_by_ym[col].str.split(expand=True)\n",
    "temp"
   ]
  },
  {
   "cell_type": "code",
   "execution_count": 411,
   "metadata": {},
   "outputs": [
    {
     "data": {
      "text/html": [
       "<div>\n",
       "<style scoped>\n",
       "    .dataframe tbody tr th:only-of-type {\n",
       "        vertical-align: middle;\n",
       "    }\n",
       "\n",
       "    .dataframe tbody tr th {\n",
       "        vertical-align: top;\n",
       "    }\n",
       "\n",
       "    .dataframe thead th {\n",
       "        text-align: right;\n",
       "    }\n",
       "</style>\n",
       "<table border=\"1\" class=\"dataframe\">\n",
       "  <thead>\n",
       "    <tr style=\"text-align: right;\">\n",
       "      <th></th>\n",
       "      <th></th>\n",
       "      <th>0</th>\n",
       "      <th>2</th>\n",
       "    </tr>\n",
       "    <tr>\n",
       "      <th>충전시작_년도</th>\n",
       "      <th>충전시작_월</th>\n",
       "      <th></th>\n",
       "      <th></th>\n",
       "    </tr>\n",
       "  </thead>\n",
       "  <tbody>\n",
       "    <tr>\n",
       "      <th rowspan=\"12\" valign=\"top\">2020</th>\n",
       "      <th>1</th>\n",
       "      <td>4844</td>\n",
       "      <td>06:04:49</td>\n",
       "    </tr>\n",
       "    <tr>\n",
       "      <th>2</th>\n",
       "      <td>3807</td>\n",
       "      <td>14:53:40</td>\n",
       "    </tr>\n",
       "    <tr>\n",
       "      <th>3</th>\n",
       "      <td>4220</td>\n",
       "      <td>18:42:13</td>\n",
       "    </tr>\n",
       "    <tr>\n",
       "      <th>4</th>\n",
       "      <td>5200</td>\n",
       "      <td>19:02:23</td>\n",
       "    </tr>\n",
       "    <tr>\n",
       "      <th>5</th>\n",
       "      <td>6698</td>\n",
       "      <td>16:05:39</td>\n",
       "    </tr>\n",
       "    <tr>\n",
       "      <th>6</th>\n",
       "      <td>8425</td>\n",
       "      <td>07:42:45</td>\n",
       "    </tr>\n",
       "    <tr>\n",
       "      <th>7</th>\n",
       "      <td>9948</td>\n",
       "      <td>17:47:42</td>\n",
       "    </tr>\n",
       "    <tr>\n",
       "      <th>8</th>\n",
       "      <td>9994</td>\n",
       "      <td>13:12:00</td>\n",
       "    </tr>\n",
       "    <tr>\n",
       "      <th>9</th>\n",
       "      <td>7887</td>\n",
       "      <td>09:02:08</td>\n",
       "    </tr>\n",
       "    <tr>\n",
       "      <th>10</th>\n",
       "      <td>9809</td>\n",
       "      <td>02:56:50</td>\n",
       "    </tr>\n",
       "    <tr>\n",
       "      <th>11</th>\n",
       "      <td>9686</td>\n",
       "      <td>05:46:34</td>\n",
       "    </tr>\n",
       "    <tr>\n",
       "      <th>12</th>\n",
       "      <td>8772</td>\n",
       "      <td>14:40:03</td>\n",
       "    </tr>\n",
       "    <tr>\n",
       "      <th rowspan=\"12\" valign=\"top\">2021</th>\n",
       "      <th>1</th>\n",
       "      <td>6700</td>\n",
       "      <td>00:31:35</td>\n",
       "    </tr>\n",
       "    <tr>\n",
       "      <th>2</th>\n",
       "      <td>5972</td>\n",
       "      <td>01:10:01</td>\n",
       "    </tr>\n",
       "    <tr>\n",
       "      <th>3</th>\n",
       "      <td>6318</td>\n",
       "      <td>03:25:10</td>\n",
       "    </tr>\n",
       "    <tr>\n",
       "      <th>4</th>\n",
       "      <td>5981</td>\n",
       "      <td>18:18:29</td>\n",
       "    </tr>\n",
       "    <tr>\n",
       "      <th>5</th>\n",
       "      <td>5934</td>\n",
       "      <td>01:30:44</td>\n",
       "    </tr>\n",
       "    <tr>\n",
       "      <th>6</th>\n",
       "      <td>5927</td>\n",
       "      <td>10:26:42</td>\n",
       "    </tr>\n",
       "    <tr>\n",
       "      <th>7</th>\n",
       "      <td>6999</td>\n",
       "      <td>08:35:22</td>\n",
       "    </tr>\n",
       "    <tr>\n",
       "      <th>8</th>\n",
       "      <td>7217</td>\n",
       "      <td>06:09:09</td>\n",
       "    </tr>\n",
       "    <tr>\n",
       "      <th>9</th>\n",
       "      <td>7222</td>\n",
       "      <td>08:48:45</td>\n",
       "    </tr>\n",
       "    <tr>\n",
       "      <th>10</th>\n",
       "      <td>8611</td>\n",
       "      <td>17:43:58</td>\n",
       "    </tr>\n",
       "    <tr>\n",
       "      <th>11</th>\n",
       "      <td>10017</td>\n",
       "      <td>21:16:40</td>\n",
       "    </tr>\n",
       "    <tr>\n",
       "      <th>12</th>\n",
       "      <td>11864</td>\n",
       "      <td>13:04:45</td>\n",
       "    </tr>\n",
       "    <tr>\n",
       "      <th rowspan=\"8\" valign=\"top\">2022</th>\n",
       "      <th>1</th>\n",
       "      <td>11766</td>\n",
       "      <td>19:03:00</td>\n",
       "    </tr>\n",
       "    <tr>\n",
       "      <th>2</th>\n",
       "      <td>9909</td>\n",
       "      <td>20:56:47</td>\n",
       "    </tr>\n",
       "    <tr>\n",
       "      <th>3</th>\n",
       "      <td>10833</td>\n",
       "      <td>12:08:33</td>\n",
       "    </tr>\n",
       "    <tr>\n",
       "      <th>4</th>\n",
       "      <td>11210</td>\n",
       "      <td>01:08:59</td>\n",
       "    </tr>\n",
       "    <tr>\n",
       "      <th>5</th>\n",
       "      <td>12025</td>\n",
       "      <td>11:31:03</td>\n",
       "    </tr>\n",
       "    <tr>\n",
       "      <th>6</th>\n",
       "      <td>12032</td>\n",
       "      <td>13:22:44</td>\n",
       "    </tr>\n",
       "    <tr>\n",
       "      <th>7</th>\n",
       "      <td>13605</td>\n",
       "      <td>05:53:35</td>\n",
       "    </tr>\n",
       "    <tr>\n",
       "      <th>8</th>\n",
       "      <td>13577</td>\n",
       "      <td>10:04:04</td>\n",
       "    </tr>\n",
       "  </tbody>\n",
       "</table>\n",
       "</div>"
      ],
      "text/plain": [
       "                    0         2\n",
       "충전시작_년도 충전시작_월                 \n",
       "2020    1        4844  06:04:49\n",
       "        2        3807  14:53:40\n",
       "        3        4220  18:42:13\n",
       "        4        5200  19:02:23\n",
       "        5        6698  16:05:39\n",
       "        6        8425  07:42:45\n",
       "        7        9948  17:47:42\n",
       "        8        9994  13:12:00\n",
       "        9        7887  09:02:08\n",
       "        10       9809  02:56:50\n",
       "        11       9686  05:46:34\n",
       "        12       8772  14:40:03\n",
       "2021    1        6700  00:31:35\n",
       "        2        5972  01:10:01\n",
       "        3        6318  03:25:10\n",
       "        4        5981  18:18:29\n",
       "        5        5934  01:30:44\n",
       "        6        5927  10:26:42\n",
       "        7        6999  08:35:22\n",
       "        8        7217  06:09:09\n",
       "        9        7222  08:48:45\n",
       "        10       8611  17:43:58\n",
       "        11      10017  21:16:40\n",
       "        12      11864  13:04:45\n",
       "2022    1       11766  19:03:00\n",
       "        2        9909  20:56:47\n",
       "        3       10833  12:08:33\n",
       "        4       11210  01:08:59\n",
       "        5       12025  11:31:03\n",
       "        6       12032  13:22:44\n",
       "        7       13605  05:53:35\n",
       "        8       13577  10:04:04"
      ]
     },
     "execution_count": 411,
     "metadata": {},
     "output_type": "execute_result"
    }
   ],
   "source": [
    "temp = temp.drop([1], axis=1)\n",
    "temp"
   ]
  },
  {
   "cell_type": "code",
   "execution_count": 412,
   "metadata": {},
   "outputs": [
    {
     "data": {
      "text/html": [
       "<div>\n",
       "<style scoped>\n",
       "    .dataframe tbody tr th:only-of-type {\n",
       "        vertical-align: middle;\n",
       "    }\n",
       "\n",
       "    .dataframe tbody tr th {\n",
       "        vertical-align: top;\n",
       "    }\n",
       "\n",
       "    .dataframe thead th {\n",
       "        text-align: right;\n",
       "    }\n",
       "</style>\n",
       "<table border=\"1\" class=\"dataframe\">\n",
       "  <thead>\n",
       "    <tr style=\"text-align: right;\">\n",
       "      <th></th>\n",
       "      <th></th>\n",
       "      <th>days</th>\n",
       "      <th>time</th>\n",
       "    </tr>\n",
       "    <tr>\n",
       "      <th>충전시작_년도</th>\n",
       "      <th>충전시작_월</th>\n",
       "      <th></th>\n",
       "      <th></th>\n",
       "    </tr>\n",
       "  </thead>\n",
       "  <tbody>\n",
       "    <tr>\n",
       "      <th rowspan=\"12\" valign=\"top\">2020</th>\n",
       "      <th>1</th>\n",
       "      <td>4844</td>\n",
       "      <td>06:04:49</td>\n",
       "    </tr>\n",
       "    <tr>\n",
       "      <th>2</th>\n",
       "      <td>3807</td>\n",
       "      <td>14:53:40</td>\n",
       "    </tr>\n",
       "    <tr>\n",
       "      <th>3</th>\n",
       "      <td>4220</td>\n",
       "      <td>18:42:13</td>\n",
       "    </tr>\n",
       "    <tr>\n",
       "      <th>4</th>\n",
       "      <td>5200</td>\n",
       "      <td>19:02:23</td>\n",
       "    </tr>\n",
       "    <tr>\n",
       "      <th>5</th>\n",
       "      <td>6698</td>\n",
       "      <td>16:05:39</td>\n",
       "    </tr>\n",
       "    <tr>\n",
       "      <th>6</th>\n",
       "      <td>8425</td>\n",
       "      <td>07:42:45</td>\n",
       "    </tr>\n",
       "    <tr>\n",
       "      <th>7</th>\n",
       "      <td>9948</td>\n",
       "      <td>17:47:42</td>\n",
       "    </tr>\n",
       "    <tr>\n",
       "      <th>8</th>\n",
       "      <td>9994</td>\n",
       "      <td>13:12:00</td>\n",
       "    </tr>\n",
       "    <tr>\n",
       "      <th>9</th>\n",
       "      <td>7887</td>\n",
       "      <td>09:02:08</td>\n",
       "    </tr>\n",
       "    <tr>\n",
       "      <th>10</th>\n",
       "      <td>9809</td>\n",
       "      <td>02:56:50</td>\n",
       "    </tr>\n",
       "    <tr>\n",
       "      <th>11</th>\n",
       "      <td>9686</td>\n",
       "      <td>05:46:34</td>\n",
       "    </tr>\n",
       "    <tr>\n",
       "      <th>12</th>\n",
       "      <td>8772</td>\n",
       "      <td>14:40:03</td>\n",
       "    </tr>\n",
       "    <tr>\n",
       "      <th rowspan=\"12\" valign=\"top\">2021</th>\n",
       "      <th>1</th>\n",
       "      <td>6700</td>\n",
       "      <td>00:31:35</td>\n",
       "    </tr>\n",
       "    <tr>\n",
       "      <th>2</th>\n",
       "      <td>5972</td>\n",
       "      <td>01:10:01</td>\n",
       "    </tr>\n",
       "    <tr>\n",
       "      <th>3</th>\n",
       "      <td>6318</td>\n",
       "      <td>03:25:10</td>\n",
       "    </tr>\n",
       "    <tr>\n",
       "      <th>4</th>\n",
       "      <td>5981</td>\n",
       "      <td>18:18:29</td>\n",
       "    </tr>\n",
       "    <tr>\n",
       "      <th>5</th>\n",
       "      <td>5934</td>\n",
       "      <td>01:30:44</td>\n",
       "    </tr>\n",
       "    <tr>\n",
       "      <th>6</th>\n",
       "      <td>5927</td>\n",
       "      <td>10:26:42</td>\n",
       "    </tr>\n",
       "    <tr>\n",
       "      <th>7</th>\n",
       "      <td>6999</td>\n",
       "      <td>08:35:22</td>\n",
       "    </tr>\n",
       "    <tr>\n",
       "      <th>8</th>\n",
       "      <td>7217</td>\n",
       "      <td>06:09:09</td>\n",
       "    </tr>\n",
       "    <tr>\n",
       "      <th>9</th>\n",
       "      <td>7222</td>\n",
       "      <td>08:48:45</td>\n",
       "    </tr>\n",
       "    <tr>\n",
       "      <th>10</th>\n",
       "      <td>8611</td>\n",
       "      <td>17:43:58</td>\n",
       "    </tr>\n",
       "    <tr>\n",
       "      <th>11</th>\n",
       "      <td>10017</td>\n",
       "      <td>21:16:40</td>\n",
       "    </tr>\n",
       "    <tr>\n",
       "      <th>12</th>\n",
       "      <td>11864</td>\n",
       "      <td>13:04:45</td>\n",
       "    </tr>\n",
       "    <tr>\n",
       "      <th rowspan=\"8\" valign=\"top\">2022</th>\n",
       "      <th>1</th>\n",
       "      <td>11766</td>\n",
       "      <td>19:03:00</td>\n",
       "    </tr>\n",
       "    <tr>\n",
       "      <th>2</th>\n",
       "      <td>9909</td>\n",
       "      <td>20:56:47</td>\n",
       "    </tr>\n",
       "    <tr>\n",
       "      <th>3</th>\n",
       "      <td>10833</td>\n",
       "      <td>12:08:33</td>\n",
       "    </tr>\n",
       "    <tr>\n",
       "      <th>4</th>\n",
       "      <td>11210</td>\n",
       "      <td>01:08:59</td>\n",
       "    </tr>\n",
       "    <tr>\n",
       "      <th>5</th>\n",
       "      <td>12025</td>\n",
       "      <td>11:31:03</td>\n",
       "    </tr>\n",
       "    <tr>\n",
       "      <th>6</th>\n",
       "      <td>12032</td>\n",
       "      <td>13:22:44</td>\n",
       "    </tr>\n",
       "    <tr>\n",
       "      <th>7</th>\n",
       "      <td>13605</td>\n",
       "      <td>05:53:35</td>\n",
       "    </tr>\n",
       "    <tr>\n",
       "      <th>8</th>\n",
       "      <td>13577</td>\n",
       "      <td>10:04:04</td>\n",
       "    </tr>\n",
       "  </tbody>\n",
       "</table>\n",
       "</div>"
      ],
      "text/plain": [
       "                 days      time\n",
       "충전시작_년도 충전시작_월                 \n",
       "2020    1        4844  06:04:49\n",
       "        2        3807  14:53:40\n",
       "        3        4220  18:42:13\n",
       "        4        5200  19:02:23\n",
       "        5        6698  16:05:39\n",
       "        6        8425  07:42:45\n",
       "        7        9948  17:47:42\n",
       "        8        9994  13:12:00\n",
       "        9        7887  09:02:08\n",
       "        10       9809  02:56:50\n",
       "        11       9686  05:46:34\n",
       "        12       8772  14:40:03\n",
       "2021    1        6700  00:31:35\n",
       "        2        5972  01:10:01\n",
       "        3        6318  03:25:10\n",
       "        4        5981  18:18:29\n",
       "        5        5934  01:30:44\n",
       "        6        5927  10:26:42\n",
       "        7        6999  08:35:22\n",
       "        8        7217  06:09:09\n",
       "        9        7222  08:48:45\n",
       "        10       8611  17:43:58\n",
       "        11      10017  21:16:40\n",
       "        12      11864  13:04:45\n",
       "2022    1       11766  19:03:00\n",
       "        2        9909  20:56:47\n",
       "        3       10833  12:08:33\n",
       "        4       11210  01:08:59\n",
       "        5       12025  11:31:03\n",
       "        6       12032  13:22:44\n",
       "        7       13605  05:53:35\n",
       "        8       13577  10:04:04"
      ]
     },
     "execution_count": 412,
     "metadata": {},
     "output_type": "execute_result"
    }
   ],
   "source": [
    "temp.columns = ['days', 'time']\n",
    "temp"
   ]
  },
  {
   "cell_type": "code",
   "execution_count": 413,
   "metadata": {},
   "outputs": [
    {
     "data": {
      "text/html": [
       "<div>\n",
       "<style scoped>\n",
       "    .dataframe tbody tr th:only-of-type {\n",
       "        vertical-align: middle;\n",
       "    }\n",
       "\n",
       "    .dataframe tbody tr th {\n",
       "        vertical-align: top;\n",
       "    }\n",
       "\n",
       "    .dataframe thead th {\n",
       "        text-align: right;\n",
       "    }\n",
       "</style>\n",
       "<table border=\"1\" class=\"dataframe\">\n",
       "  <thead>\n",
       "    <tr style=\"text-align: right;\">\n",
       "      <th></th>\n",
       "      <th></th>\n",
       "      <th>days</th>\n",
       "      <th>time</th>\n",
       "      <th>months</th>\n",
       "    </tr>\n",
       "    <tr>\n",
       "      <th>충전시작_년도</th>\n",
       "      <th>충전시작_월</th>\n",
       "      <th></th>\n",
       "      <th></th>\n",
       "      <th></th>\n",
       "    </tr>\n",
       "  </thead>\n",
       "  <tbody>\n",
       "    <tr>\n",
       "      <th rowspan=\"12\" valign=\"top\">2020</th>\n",
       "      <th>1</th>\n",
       "      <td>14</td>\n",
       "      <td>06:04:49</td>\n",
       "      <td>161</td>\n",
       "    </tr>\n",
       "    <tr>\n",
       "      <th>2</th>\n",
       "      <td>27</td>\n",
       "      <td>14:53:40</td>\n",
       "      <td>126</td>\n",
       "    </tr>\n",
       "    <tr>\n",
       "      <th>3</th>\n",
       "      <td>20</td>\n",
       "      <td>18:42:13</td>\n",
       "      <td>140</td>\n",
       "    </tr>\n",
       "    <tr>\n",
       "      <th>4</th>\n",
       "      <td>10</td>\n",
       "      <td>19:02:23</td>\n",
       "      <td>173</td>\n",
       "    </tr>\n",
       "    <tr>\n",
       "      <th>5</th>\n",
       "      <td>8</td>\n",
       "      <td>16:05:39</td>\n",
       "      <td>223</td>\n",
       "    </tr>\n",
       "    <tr>\n",
       "      <th>6</th>\n",
       "      <td>25</td>\n",
       "      <td>07:42:45</td>\n",
       "      <td>280</td>\n",
       "    </tr>\n",
       "    <tr>\n",
       "      <th>7</th>\n",
       "      <td>18</td>\n",
       "      <td>17:47:42</td>\n",
       "      <td>331</td>\n",
       "    </tr>\n",
       "    <tr>\n",
       "      <th>8</th>\n",
       "      <td>4</td>\n",
       "      <td>13:12:00</td>\n",
       "      <td>333</td>\n",
       "    </tr>\n",
       "    <tr>\n",
       "      <th>9</th>\n",
       "      <td>27</td>\n",
       "      <td>09:02:08</td>\n",
       "      <td>262</td>\n",
       "    </tr>\n",
       "    <tr>\n",
       "      <th>10</th>\n",
       "      <td>29</td>\n",
       "      <td>02:56:50</td>\n",
       "      <td>326</td>\n",
       "    </tr>\n",
       "    <tr>\n",
       "      <th>11</th>\n",
       "      <td>26</td>\n",
       "      <td>05:46:34</td>\n",
       "      <td>322</td>\n",
       "    </tr>\n",
       "    <tr>\n",
       "      <th>12</th>\n",
       "      <td>12</td>\n",
       "      <td>14:40:03</td>\n",
       "      <td>292</td>\n",
       "    </tr>\n",
       "    <tr>\n",
       "      <th rowspan=\"12\" valign=\"top\">2021</th>\n",
       "      <th>1</th>\n",
       "      <td>10</td>\n",
       "      <td>00:31:35</td>\n",
       "      <td>223</td>\n",
       "    </tr>\n",
       "    <tr>\n",
       "      <th>2</th>\n",
       "      <td>2</td>\n",
       "      <td>01:10:01</td>\n",
       "      <td>199</td>\n",
       "    </tr>\n",
       "    <tr>\n",
       "      <th>3</th>\n",
       "      <td>18</td>\n",
       "      <td>03:25:10</td>\n",
       "      <td>210</td>\n",
       "    </tr>\n",
       "    <tr>\n",
       "      <th>4</th>\n",
       "      <td>11</td>\n",
       "      <td>18:18:29</td>\n",
       "      <td>199</td>\n",
       "    </tr>\n",
       "    <tr>\n",
       "      <th>5</th>\n",
       "      <td>24</td>\n",
       "      <td>01:30:44</td>\n",
       "      <td>197</td>\n",
       "    </tr>\n",
       "    <tr>\n",
       "      <th>6</th>\n",
       "      <td>17</td>\n",
       "      <td>10:26:42</td>\n",
       "      <td>197</td>\n",
       "    </tr>\n",
       "    <tr>\n",
       "      <th>7</th>\n",
       "      <td>9</td>\n",
       "      <td>08:35:22</td>\n",
       "      <td>233</td>\n",
       "    </tr>\n",
       "    <tr>\n",
       "      <th>8</th>\n",
       "      <td>17</td>\n",
       "      <td>06:09:09</td>\n",
       "      <td>240</td>\n",
       "    </tr>\n",
       "    <tr>\n",
       "      <th>9</th>\n",
       "      <td>22</td>\n",
       "      <td>08:48:45</td>\n",
       "      <td>240</td>\n",
       "    </tr>\n",
       "    <tr>\n",
       "      <th>10</th>\n",
       "      <td>1</td>\n",
       "      <td>17:43:58</td>\n",
       "      <td>287</td>\n",
       "    </tr>\n",
       "    <tr>\n",
       "      <th>11</th>\n",
       "      <td>27</td>\n",
       "      <td>21:16:40</td>\n",
       "      <td>333</td>\n",
       "    </tr>\n",
       "    <tr>\n",
       "      <th>12</th>\n",
       "      <td>14</td>\n",
       "      <td>13:04:45</td>\n",
       "      <td>395</td>\n",
       "    </tr>\n",
       "    <tr>\n",
       "      <th rowspan=\"8\" valign=\"top\">2022</th>\n",
       "      <th>1</th>\n",
       "      <td>6</td>\n",
       "      <td>19:03:00</td>\n",
       "      <td>392</td>\n",
       "    </tr>\n",
       "    <tr>\n",
       "      <th>2</th>\n",
       "      <td>9</td>\n",
       "      <td>20:56:47</td>\n",
       "      <td>330</td>\n",
       "    </tr>\n",
       "    <tr>\n",
       "      <th>3</th>\n",
       "      <td>3</td>\n",
       "      <td>12:08:33</td>\n",
       "      <td>361</td>\n",
       "    </tr>\n",
       "    <tr>\n",
       "      <th>4</th>\n",
       "      <td>20</td>\n",
       "      <td>01:08:59</td>\n",
       "      <td>373</td>\n",
       "    </tr>\n",
       "    <tr>\n",
       "      <th>5</th>\n",
       "      <td>25</td>\n",
       "      <td>11:31:03</td>\n",
       "      <td>400</td>\n",
       "    </tr>\n",
       "    <tr>\n",
       "      <th>6</th>\n",
       "      <td>2</td>\n",
       "      <td>13:22:44</td>\n",
       "      <td>401</td>\n",
       "    </tr>\n",
       "    <tr>\n",
       "      <th>7</th>\n",
       "      <td>15</td>\n",
       "      <td>05:53:35</td>\n",
       "      <td>453</td>\n",
       "    </tr>\n",
       "    <tr>\n",
       "      <th>8</th>\n",
       "      <td>17</td>\n",
       "      <td>10:04:04</td>\n",
       "      <td>452</td>\n",
       "    </tr>\n",
       "  </tbody>\n",
       "</table>\n",
       "</div>"
      ],
      "text/plain": [
       "                days      time  months\n",
       "충전시작_년도 충전시작_월                        \n",
       "2020    1         14  06:04:49     161\n",
       "        2         27  14:53:40     126\n",
       "        3         20  18:42:13     140\n",
       "        4         10  19:02:23     173\n",
       "        5          8  16:05:39     223\n",
       "        6         25  07:42:45     280\n",
       "        7         18  17:47:42     331\n",
       "        8          4  13:12:00     333\n",
       "        9         27  09:02:08     262\n",
       "        10        29  02:56:50     326\n",
       "        11        26  05:46:34     322\n",
       "        12        12  14:40:03     292\n",
       "2021    1         10  00:31:35     223\n",
       "        2          2  01:10:01     199\n",
       "        3         18  03:25:10     210\n",
       "        4         11  18:18:29     199\n",
       "        5         24  01:30:44     197\n",
       "        6         17  10:26:42     197\n",
       "        7          9  08:35:22     233\n",
       "        8         17  06:09:09     240\n",
       "        9         22  08:48:45     240\n",
       "        10         1  17:43:58     287\n",
       "        11        27  21:16:40     333\n",
       "        12        14  13:04:45     395\n",
       "2022    1          6  19:03:00     392\n",
       "        2          9  20:56:47     330\n",
       "        3          3  12:08:33     361\n",
       "        4         20  01:08:59     373\n",
       "        5         25  11:31:03     400\n",
       "        6          2  13:22:44     401\n",
       "        7         15  05:53:35     453\n",
       "        8         17  10:04:04     452"
      ]
     },
     "execution_count": 413,
     "metadata": {},
     "output_type": "execute_result"
    }
   ],
   "source": [
    "temp['months'] = temp['days'].astype(int) // 30\n",
    "temp['days'] = temp['days'].astype(int) % 30\n",
    "temp"
   ]
  },
  {
   "cell_type": "code",
   "execution_count": 414,
   "metadata": {},
   "outputs": [
    {
     "data": {
      "text/plain": [
       "Index(['days', 'time', 'months'], dtype='object')"
      ]
     },
     "execution_count": 414,
     "metadata": {},
     "output_type": "execute_result"
    }
   ],
   "source": [
    "temp.columns"
   ]
  },
  {
   "cell_type": "code",
   "execution_count": 415,
   "metadata": {},
   "outputs": [
    {
     "data": {
      "text/html": [
       "<div>\n",
       "<style scoped>\n",
       "    .dataframe tbody tr th:only-of-type {\n",
       "        vertical-align: middle;\n",
       "    }\n",
       "\n",
       "    .dataframe tbody tr th {\n",
       "        vertical-align: top;\n",
       "    }\n",
       "\n",
       "    .dataframe thead th {\n",
       "        text-align: right;\n",
       "    }\n",
       "</style>\n",
       "<table border=\"1\" class=\"dataframe\">\n",
       "  <thead>\n",
       "    <tr style=\"text-align: right;\">\n",
       "      <th></th>\n",
       "      <th></th>\n",
       "      <th>months</th>\n",
       "      <th>days</th>\n",
       "      <th>time</th>\n",
       "    </tr>\n",
       "    <tr>\n",
       "      <th>충전시작_년도</th>\n",
       "      <th>충전시작_월</th>\n",
       "      <th></th>\n",
       "      <th></th>\n",
       "      <th></th>\n",
       "    </tr>\n",
       "  </thead>\n",
       "  <tbody>\n",
       "    <tr>\n",
       "      <th rowspan=\"12\" valign=\"top\">2020</th>\n",
       "      <th>1</th>\n",
       "      <td>161</td>\n",
       "      <td>14</td>\n",
       "      <td>06:04:49</td>\n",
       "    </tr>\n",
       "    <tr>\n",
       "      <th>2</th>\n",
       "      <td>126</td>\n",
       "      <td>27</td>\n",
       "      <td>14:53:40</td>\n",
       "    </tr>\n",
       "    <tr>\n",
       "      <th>3</th>\n",
       "      <td>140</td>\n",
       "      <td>20</td>\n",
       "      <td>18:42:13</td>\n",
       "    </tr>\n",
       "    <tr>\n",
       "      <th>4</th>\n",
       "      <td>173</td>\n",
       "      <td>10</td>\n",
       "      <td>19:02:23</td>\n",
       "    </tr>\n",
       "    <tr>\n",
       "      <th>5</th>\n",
       "      <td>223</td>\n",
       "      <td>8</td>\n",
       "      <td>16:05:39</td>\n",
       "    </tr>\n",
       "    <tr>\n",
       "      <th>6</th>\n",
       "      <td>280</td>\n",
       "      <td>25</td>\n",
       "      <td>07:42:45</td>\n",
       "    </tr>\n",
       "    <tr>\n",
       "      <th>7</th>\n",
       "      <td>331</td>\n",
       "      <td>18</td>\n",
       "      <td>17:47:42</td>\n",
       "    </tr>\n",
       "    <tr>\n",
       "      <th>8</th>\n",
       "      <td>333</td>\n",
       "      <td>4</td>\n",
       "      <td>13:12:00</td>\n",
       "    </tr>\n",
       "    <tr>\n",
       "      <th>9</th>\n",
       "      <td>262</td>\n",
       "      <td>27</td>\n",
       "      <td>09:02:08</td>\n",
       "    </tr>\n",
       "    <tr>\n",
       "      <th>10</th>\n",
       "      <td>326</td>\n",
       "      <td>29</td>\n",
       "      <td>02:56:50</td>\n",
       "    </tr>\n",
       "    <tr>\n",
       "      <th>11</th>\n",
       "      <td>322</td>\n",
       "      <td>26</td>\n",
       "      <td>05:46:34</td>\n",
       "    </tr>\n",
       "    <tr>\n",
       "      <th>12</th>\n",
       "      <td>292</td>\n",
       "      <td>12</td>\n",
       "      <td>14:40:03</td>\n",
       "    </tr>\n",
       "    <tr>\n",
       "      <th rowspan=\"12\" valign=\"top\">2021</th>\n",
       "      <th>1</th>\n",
       "      <td>223</td>\n",
       "      <td>10</td>\n",
       "      <td>00:31:35</td>\n",
       "    </tr>\n",
       "    <tr>\n",
       "      <th>2</th>\n",
       "      <td>199</td>\n",
       "      <td>2</td>\n",
       "      <td>01:10:01</td>\n",
       "    </tr>\n",
       "    <tr>\n",
       "      <th>3</th>\n",
       "      <td>210</td>\n",
       "      <td>18</td>\n",
       "      <td>03:25:10</td>\n",
       "    </tr>\n",
       "    <tr>\n",
       "      <th>4</th>\n",
       "      <td>199</td>\n",
       "      <td>11</td>\n",
       "      <td>18:18:29</td>\n",
       "    </tr>\n",
       "    <tr>\n",
       "      <th>5</th>\n",
       "      <td>197</td>\n",
       "      <td>24</td>\n",
       "      <td>01:30:44</td>\n",
       "    </tr>\n",
       "    <tr>\n",
       "      <th>6</th>\n",
       "      <td>197</td>\n",
       "      <td>17</td>\n",
       "      <td>10:26:42</td>\n",
       "    </tr>\n",
       "    <tr>\n",
       "      <th>7</th>\n",
       "      <td>233</td>\n",
       "      <td>9</td>\n",
       "      <td>08:35:22</td>\n",
       "    </tr>\n",
       "    <tr>\n",
       "      <th>8</th>\n",
       "      <td>240</td>\n",
       "      <td>17</td>\n",
       "      <td>06:09:09</td>\n",
       "    </tr>\n",
       "    <tr>\n",
       "      <th>9</th>\n",
       "      <td>240</td>\n",
       "      <td>22</td>\n",
       "      <td>08:48:45</td>\n",
       "    </tr>\n",
       "    <tr>\n",
       "      <th>10</th>\n",
       "      <td>287</td>\n",
       "      <td>1</td>\n",
       "      <td>17:43:58</td>\n",
       "    </tr>\n",
       "    <tr>\n",
       "      <th>11</th>\n",
       "      <td>333</td>\n",
       "      <td>27</td>\n",
       "      <td>21:16:40</td>\n",
       "    </tr>\n",
       "    <tr>\n",
       "      <th>12</th>\n",
       "      <td>395</td>\n",
       "      <td>14</td>\n",
       "      <td>13:04:45</td>\n",
       "    </tr>\n",
       "    <tr>\n",
       "      <th rowspan=\"8\" valign=\"top\">2022</th>\n",
       "      <th>1</th>\n",
       "      <td>392</td>\n",
       "      <td>6</td>\n",
       "      <td>19:03:00</td>\n",
       "    </tr>\n",
       "    <tr>\n",
       "      <th>2</th>\n",
       "      <td>330</td>\n",
       "      <td>9</td>\n",
       "      <td>20:56:47</td>\n",
       "    </tr>\n",
       "    <tr>\n",
       "      <th>3</th>\n",
       "      <td>361</td>\n",
       "      <td>3</td>\n",
       "      <td>12:08:33</td>\n",
       "    </tr>\n",
       "    <tr>\n",
       "      <th>4</th>\n",
       "      <td>373</td>\n",
       "      <td>20</td>\n",
       "      <td>01:08:59</td>\n",
       "    </tr>\n",
       "    <tr>\n",
       "      <th>5</th>\n",
       "      <td>400</td>\n",
       "      <td>25</td>\n",
       "      <td>11:31:03</td>\n",
       "    </tr>\n",
       "    <tr>\n",
       "      <th>6</th>\n",
       "      <td>401</td>\n",
       "      <td>2</td>\n",
       "      <td>13:22:44</td>\n",
       "    </tr>\n",
       "    <tr>\n",
       "      <th>7</th>\n",
       "      <td>453</td>\n",
       "      <td>15</td>\n",
       "      <td>05:53:35</td>\n",
       "    </tr>\n",
       "    <tr>\n",
       "      <th>8</th>\n",
       "      <td>452</td>\n",
       "      <td>17</td>\n",
       "      <td>10:04:04</td>\n",
       "    </tr>\n",
       "  </tbody>\n",
       "</table>\n",
       "</div>"
      ],
      "text/plain": [
       "                months  days      time\n",
       "충전시작_년도 충전시작_월                        \n",
       "2020    1          161    14  06:04:49\n",
       "        2          126    27  14:53:40\n",
       "        3          140    20  18:42:13\n",
       "        4          173    10  19:02:23\n",
       "        5          223     8  16:05:39\n",
       "        6          280    25  07:42:45\n",
       "        7          331    18  17:47:42\n",
       "        8          333     4  13:12:00\n",
       "        9          262    27  09:02:08\n",
       "        10         326    29  02:56:50\n",
       "        11         322    26  05:46:34\n",
       "        12         292    12  14:40:03\n",
       "2021    1          223    10  00:31:35\n",
       "        2          199     2  01:10:01\n",
       "        3          210    18  03:25:10\n",
       "        4          199    11  18:18:29\n",
       "        5          197    24  01:30:44\n",
       "        6          197    17  10:26:42\n",
       "        7          233     9  08:35:22\n",
       "        8          240    17  06:09:09\n",
       "        9          240    22  08:48:45\n",
       "        10         287     1  17:43:58\n",
       "        11         333    27  21:16:40\n",
       "        12         395    14  13:04:45\n",
       "2022    1          392     6  19:03:00\n",
       "        2          330     9  20:56:47\n",
       "        3          361     3  12:08:33\n",
       "        4          373    20  01:08:59\n",
       "        5          400    25  11:31:03\n",
       "        6          401     2  13:22:44\n",
       "        7          453    15  05:53:35\n",
       "        8          452    17  10:04:04"
      ]
     },
     "execution_count": 415,
     "metadata": {},
     "output_type": "execute_result"
    }
   ],
   "source": [
    "temp = temp[['months', 'days', 'time']]\n",
    "temp"
   ]
  },
  {
   "cell_type": "code",
   "execution_count": 416,
   "metadata": {},
   "outputs": [
    {
     "data": {
      "text/plain": [
       "Index(['months', 'days', 'time'], dtype='object')"
      ]
     },
     "execution_count": 416,
     "metadata": {},
     "output_type": "execute_result"
    }
   ],
   "source": [
    "temp.columns"
   ]
  },
  {
   "cell_type": "code",
   "execution_count": 417,
   "metadata": {},
   "outputs": [
    {
     "data": {
      "text/html": [
       "<div>\n",
       "<style scoped>\n",
       "    .dataframe tbody tr th:only-of-type {\n",
       "        vertical-align: middle;\n",
       "    }\n",
       "\n",
       "    .dataframe tbody tr th {\n",
       "        vertical-align: top;\n",
       "    }\n",
       "\n",
       "    .dataframe thead th {\n",
       "        text-align: right;\n",
       "    }\n",
       "</style>\n",
       "<table border=\"1\" class=\"dataframe\">\n",
       "  <thead>\n",
       "    <tr style=\"text-align: right;\">\n",
       "      <th></th>\n",
       "      <th>months</th>\n",
       "      <th>days</th>\n",
       "      <th>time</th>\n",
       "    </tr>\n",
       "  </thead>\n",
       "  <tbody>\n",
       "    <tr>\n",
       "      <th>0</th>\n",
       "      <td>9100</td>\n",
       "      <td>23</td>\n",
       "      <td>15:6:51</td>\n",
       "    </tr>\n",
       "  </tbody>\n",
       "</table>\n",
       "</div>"
      ],
      "text/plain": [
       "   months  days     time\n",
       "0    9100    23  15:6:51"
      ]
     },
     "execution_count": 417,
     "metadata": {},
     "output_type": "execute_result"
    }
   ],
   "source": [
    "total = pd.DataFrame({'months':[months], 'days':[days], 'time':[f'{hours}:{minutes}:{seconds}']})\n",
    "total"
   ]
  },
  {
   "cell_type": "code",
   "execution_count": 418,
   "metadata": {},
   "outputs": [],
   "source": [
    "temp.to_excel('2020-22년_급속충전_년월별_총_충전시간.xlsx', encoding='utf-8')"
   ]
  },
  {
   "cell_type": "markdown",
   "metadata": {},
   "source": [
    "#### 총 충전시간(계산)"
   ]
  },
  {
   "cell_type": "code",
   "execution_count": 603,
   "metadata": {},
   "outputs": [
    {
     "data": {
      "text/plain": [
       "충전시작_년도  충전시작_월\n",
       "2020     1        5111 days 07:36:54\n",
       "         2        4030 days 10:04:17\n",
       "         3        4128 days 11:36:27\n",
       "         4        4900 days 20:11:06\n",
       "         5        6183 days 22:26:24\n",
       "Name: 충전시간(계산), dtype: timedelta64[ns]"
      ]
     },
     "execution_count": 603,
     "metadata": {},
     "output_type": "execute_result"
    }
   ],
   "source": [
    "col = '충전시간(계산)'\n",
    "ch_cal_time_by_ym = df2.groupby(['충전시작_년도', '충전시작_월'])[col].sum()\n",
    "ch_cal_time_by_ym.head()"
   ]
  },
  {
   "cell_type": "code",
   "execution_count": 604,
   "metadata": {},
   "outputs": [
    {
     "data": {
      "text/html": [
       "<div>\n",
       "<style scoped>\n",
       "    .dataframe tbody tr th:only-of-type {\n",
       "        vertical-align: middle;\n",
       "    }\n",
       "\n",
       "    .dataframe tbody tr th {\n",
       "        vertical-align: top;\n",
       "    }\n",
       "\n",
       "    .dataframe thead th {\n",
       "        text-align: right;\n",
       "    }\n",
       "</style>\n",
       "<table border=\"1\" class=\"dataframe\">\n",
       "  <thead>\n",
       "    <tr style=\"text-align: right;\">\n",
       "      <th></th>\n",
       "      <th></th>\n",
       "      <th>충전시간(계산)</th>\n",
       "    </tr>\n",
       "    <tr>\n",
       "      <th>충전시작_년도</th>\n",
       "      <th>충전시작_월</th>\n",
       "      <th></th>\n",
       "    </tr>\n",
       "  </thead>\n",
       "  <tbody>\n",
       "    <tr>\n",
       "      <th rowspan=\"5\" valign=\"top\">2020</th>\n",
       "      <th>1</th>\n",
       "      <td>5111 days 07:36:54</td>\n",
       "    </tr>\n",
       "    <tr>\n",
       "      <th>2</th>\n",
       "      <td>4030 days 10:04:17</td>\n",
       "    </tr>\n",
       "    <tr>\n",
       "      <th>3</th>\n",
       "      <td>4128 days 11:36:27</td>\n",
       "    </tr>\n",
       "    <tr>\n",
       "      <th>4</th>\n",
       "      <td>4900 days 20:11:06</td>\n",
       "    </tr>\n",
       "    <tr>\n",
       "      <th>5</th>\n",
       "      <td>6183 days 22:26:24</td>\n",
       "    </tr>\n",
       "  </tbody>\n",
       "</table>\n",
       "</div>"
      ],
      "text/plain": [
       "                         충전시간(계산)\n",
       "충전시작_년도 충전시작_월                   \n",
       "2020    1      5111 days 07:36:54\n",
       "        2      4030 days 10:04:17\n",
       "        3      4128 days 11:36:27\n",
       "        4      4900 days 20:11:06\n",
       "        5      6183 days 22:26:24"
      ]
     },
     "execution_count": 604,
     "metadata": {},
     "output_type": "execute_result"
    }
   ],
   "source": [
    "ch_cal_time_by_ym = ch_cal_time_by_ym.to_frame()\n",
    "ch_cal_time_by_ym.head()"
   ]
  },
  {
   "cell_type": "code",
   "execution_count": 605,
   "metadata": {},
   "outputs": [
    {
     "data": {
      "text/plain": [
       "1398469"
      ]
     },
     "execution_count": 605,
     "metadata": {},
     "output_type": "execute_result"
    }
   ],
   "source": [
    "temp1 = ch_cal_time_by_ym[col].dt.seconds.sum()\n",
    "temp1"
   ]
  },
  {
   "cell_type": "code",
   "execution_count": 606,
   "metadata": {},
   "outputs": [
    {
     "data": {
      "text/plain": [
       "282067"
      ]
     },
     "execution_count": 606,
     "metadata": {},
     "output_type": "execute_result"
    }
   ],
   "source": [
    "temp2 = ch_cal_time_by_ym[col].dt.days.sum()\n",
    "temp2"
   ]
  },
  {
   "cell_type": "code",
   "execution_count": 607,
   "metadata": {},
   "outputs": [
    {
     "data": {
      "text/plain": [
       "(9402, 7, 388, 27, 49)"
      ]
     },
     "execution_count": 607,
     "metadata": {},
     "output_type": "execute_result"
    }
   ],
   "source": [
    "months = temp2 // 30\n",
    "days = temp2 % 30\n",
    "hours = temp1 // 3600\n",
    "minutes = (temp1 % 3600) // 60\n",
    "seconds = (temp1 % 3600) % 60\n",
    "months, days, hours, minutes, seconds"
   ]
  },
  {
   "cell_type": "code",
   "execution_count": 608,
   "metadata": {},
   "outputs": [
    {
     "data": {
      "text/plain": [
       "(23, 4)"
      ]
     },
     "execution_count": 608,
     "metadata": {},
     "output_type": "execute_result"
    }
   ],
   "source": [
    "days += hours // 24\n",
    "hours = hours % 24\n",
    "days, hours"
   ]
  },
  {
   "cell_type": "code",
   "execution_count": 609,
   "metadata": {},
   "outputs": [],
   "source": [
    "ch_cal_time_by_ym[col] = ch_cal_time_by_ym[col].astype(str)\n",
    "temp = ch_cal_time_by_ym[col].str.split(expand=True)"
   ]
  },
  {
   "cell_type": "code",
   "execution_count": 610,
   "metadata": {},
   "outputs": [],
   "source": [
    "temp = temp.drop([1], axis=1)\n",
    "temp.columns = ['days', 'time']\n",
    "temp['months'] = temp['days'].astype(int) // 30\n",
    "temp['days'] = temp['days'].astype(int) % 30"
   ]
  },
  {
   "cell_type": "code",
   "execution_count": 611,
   "metadata": {},
   "outputs": [
    {
     "data": {
      "text/plain": [
       "Index(['days', 'time', 'months'], dtype='object')"
      ]
     },
     "execution_count": 611,
     "metadata": {},
     "output_type": "execute_result"
    }
   ],
   "source": [
    "temp.columns"
   ]
  },
  {
   "cell_type": "code",
   "execution_count": 612,
   "metadata": {},
   "outputs": [
    {
     "data": {
      "text/html": [
       "<div>\n",
       "<style scoped>\n",
       "    .dataframe tbody tr th:only-of-type {\n",
       "        vertical-align: middle;\n",
       "    }\n",
       "\n",
       "    .dataframe tbody tr th {\n",
       "        vertical-align: top;\n",
       "    }\n",
       "\n",
       "    .dataframe thead th {\n",
       "        text-align: right;\n",
       "    }\n",
       "</style>\n",
       "<table border=\"1\" class=\"dataframe\">\n",
       "  <thead>\n",
       "    <tr style=\"text-align: right;\">\n",
       "      <th></th>\n",
       "      <th></th>\n",
       "      <th>days</th>\n",
       "      <th>time</th>\n",
       "      <th>months</th>\n",
       "    </tr>\n",
       "    <tr>\n",
       "      <th>충전시작_년도</th>\n",
       "      <th>충전시작_월</th>\n",
       "      <th></th>\n",
       "      <th></th>\n",
       "      <th></th>\n",
       "    </tr>\n",
       "  </thead>\n",
       "  <tbody>\n",
       "    <tr>\n",
       "      <th rowspan=\"12\" valign=\"top\">2020</th>\n",
       "      <th>1</th>\n",
       "      <td>11</td>\n",
       "      <td>07:36:54</td>\n",
       "      <td>170</td>\n",
       "    </tr>\n",
       "    <tr>\n",
       "      <th>2</th>\n",
       "      <td>10</td>\n",
       "      <td>10:04:17</td>\n",
       "      <td>134</td>\n",
       "    </tr>\n",
       "    <tr>\n",
       "      <th>3</th>\n",
       "      <td>18</td>\n",
       "      <td>11:36:27</td>\n",
       "      <td>137</td>\n",
       "    </tr>\n",
       "    <tr>\n",
       "      <th>4</th>\n",
       "      <td>10</td>\n",
       "      <td>20:11:06</td>\n",
       "      <td>163</td>\n",
       "    </tr>\n",
       "    <tr>\n",
       "      <th>5</th>\n",
       "      <td>3</td>\n",
       "      <td>22:26:24</td>\n",
       "      <td>206</td>\n",
       "    </tr>\n",
       "    <tr>\n",
       "      <th>6</th>\n",
       "      <td>11</td>\n",
       "      <td>18:02:20</td>\n",
       "      <td>251</td>\n",
       "    </tr>\n",
       "    <tr>\n",
       "      <th>7</th>\n",
       "      <td>3</td>\n",
       "      <td>12:15:12</td>\n",
       "      <td>292</td>\n",
       "    </tr>\n",
       "    <tr>\n",
       "      <th>8</th>\n",
       "      <td>29</td>\n",
       "      <td>04:45:22</td>\n",
       "      <td>296</td>\n",
       "    </tr>\n",
       "    <tr>\n",
       "      <th>9</th>\n",
       "      <td>6</td>\n",
       "      <td>07:09:15</td>\n",
       "      <td>237</td>\n",
       "    </tr>\n",
       "    <tr>\n",
       "      <th>10</th>\n",
       "      <td>12</td>\n",
       "      <td>04:42:48</td>\n",
       "      <td>301</td>\n",
       "    </tr>\n",
       "    <tr>\n",
       "      <th>11</th>\n",
       "      <td>23</td>\n",
       "      <td>08:37:36</td>\n",
       "      <td>316</td>\n",
       "    </tr>\n",
       "    <tr>\n",
       "      <th>12</th>\n",
       "      <td>28</td>\n",
       "      <td>17:01:32</td>\n",
       "      <td>293</td>\n",
       "    </tr>\n",
       "  </tbody>\n",
       "</table>\n",
       "</div>"
      ],
      "text/plain": [
       "                days      time  months\n",
       "충전시작_년도 충전시작_월                        \n",
       "2020    1         11  07:36:54     170\n",
       "        2         10  10:04:17     134\n",
       "        3         18  11:36:27     137\n",
       "        4         10  20:11:06     163\n",
       "        5          3  22:26:24     206\n",
       "        6         11  18:02:20     251\n",
       "        7          3  12:15:12     292\n",
       "        8         29  04:45:22     296\n",
       "        9          6  07:09:15     237\n",
       "        10        12  04:42:48     301\n",
       "        11        23  08:37:36     316\n",
       "        12        28  17:01:32     293"
      ]
     },
     "execution_count": 612,
     "metadata": {},
     "output_type": "execute_result"
    }
   ],
   "source": [
    "sp1 = temp.iloc[:12, :]\n",
    "sp1"
   ]
  },
  {
   "cell_type": "code",
   "execution_count": 613,
   "metadata": {},
   "outputs": [
    {
     "data": {
      "text/html": [
       "<div>\n",
       "<style scoped>\n",
       "    .dataframe tbody tr th:only-of-type {\n",
       "        vertical-align: middle;\n",
       "    }\n",
       "\n",
       "    .dataframe tbody tr th {\n",
       "        vertical-align: top;\n",
       "    }\n",
       "\n",
       "    .dataframe thead th {\n",
       "        text-align: right;\n",
       "    }\n",
       "</style>\n",
       "<table border=\"1\" class=\"dataframe\">\n",
       "  <thead>\n",
       "    <tr style=\"text-align: right;\">\n",
       "      <th></th>\n",
       "      <th></th>\n",
       "      <th>days</th>\n",
       "      <th>time</th>\n",
       "      <th>months</th>\n",
       "    </tr>\n",
       "    <tr>\n",
       "      <th>충전시작_년도</th>\n",
       "      <th>충전시작_월</th>\n",
       "      <th></th>\n",
       "      <th></th>\n",
       "      <th></th>\n",
       "    </tr>\n",
       "  </thead>\n",
       "  <tbody>\n",
       "    <tr>\n",
       "      <th rowspan=\"12\" valign=\"top\">2021</th>\n",
       "      <th>1</th>\n",
       "      <td>10</td>\n",
       "      <td>17:06:06</td>\n",
       "      <td>232</td>\n",
       "    </tr>\n",
       "    <tr>\n",
       "      <th>2</th>\n",
       "      <td>8</td>\n",
       "      <td>23:23:36</td>\n",
       "      <td>209</td>\n",
       "    </tr>\n",
       "    <tr>\n",
       "      <th>3</th>\n",
       "      <td>27</td>\n",
       "      <td>16:40:25</td>\n",
       "      <td>219</td>\n",
       "    </tr>\n",
       "    <tr>\n",
       "      <th>4</th>\n",
       "      <td>27</td>\n",
       "      <td>11:25:41</td>\n",
       "      <td>208</td>\n",
       "    </tr>\n",
       "    <tr>\n",
       "      <th>5</th>\n",
       "      <td>19</td>\n",
       "      <td>08:51:42</td>\n",
       "      <td>207</td>\n",
       "    </tr>\n",
       "    <tr>\n",
       "      <th>6</th>\n",
       "      <td>23</td>\n",
       "      <td>16:48:38</td>\n",
       "      <td>207</td>\n",
       "    </tr>\n",
       "    <tr>\n",
       "      <th>7</th>\n",
       "      <td>0</td>\n",
       "      <td>13:25:41</td>\n",
       "      <td>245</td>\n",
       "    </tr>\n",
       "    <tr>\n",
       "      <th>8</th>\n",
       "      <td>21</td>\n",
       "      <td>11:25:24</td>\n",
       "      <td>264</td>\n",
       "    </tr>\n",
       "    <tr>\n",
       "      <th>9</th>\n",
       "      <td>16</td>\n",
       "      <td>00:14:44</td>\n",
       "      <td>268</td>\n",
       "    </tr>\n",
       "    <tr>\n",
       "      <th>10</th>\n",
       "      <td>22</td>\n",
       "      <td>22:42:28</td>\n",
       "      <td>319</td>\n",
       "    </tr>\n",
       "    <tr>\n",
       "      <th>11</th>\n",
       "      <td>14</td>\n",
       "      <td>09:48:00</td>\n",
       "      <td>366</td>\n",
       "    </tr>\n",
       "    <tr>\n",
       "      <th>12</th>\n",
       "      <td>3</td>\n",
       "      <td>17:25:22</td>\n",
       "      <td>430</td>\n",
       "    </tr>\n",
       "  </tbody>\n",
       "</table>\n",
       "</div>"
      ],
      "text/plain": [
       "                days      time  months\n",
       "충전시작_년도 충전시작_월                        \n",
       "2021    1         10  17:06:06     232\n",
       "        2          8  23:23:36     209\n",
       "        3         27  16:40:25     219\n",
       "        4         27  11:25:41     208\n",
       "        5         19  08:51:42     207\n",
       "        6         23  16:48:38     207\n",
       "        7          0  13:25:41     245\n",
       "        8         21  11:25:24     264\n",
       "        9         16  00:14:44     268\n",
       "        10        22  22:42:28     319\n",
       "        11        14  09:48:00     366\n",
       "        12         3  17:25:22     430"
      ]
     },
     "execution_count": 613,
     "metadata": {},
     "output_type": "execute_result"
    }
   ],
   "source": [
    "sp2 = temp.iloc[12:24, :]\n",
    "sp2"
   ]
  },
  {
   "cell_type": "code",
   "execution_count": 614,
   "metadata": {},
   "outputs": [
    {
     "data": {
      "text/html": [
       "<div>\n",
       "<style scoped>\n",
       "    .dataframe tbody tr th:only-of-type {\n",
       "        vertical-align: middle;\n",
       "    }\n",
       "\n",
       "    .dataframe tbody tr th {\n",
       "        vertical-align: top;\n",
       "    }\n",
       "\n",
       "    .dataframe thead th {\n",
       "        text-align: right;\n",
       "    }\n",
       "</style>\n",
       "<table border=\"1\" class=\"dataframe\">\n",
       "  <thead>\n",
       "    <tr style=\"text-align: right;\">\n",
       "      <th></th>\n",
       "      <th></th>\n",
       "      <th>days</th>\n",
       "      <th>time</th>\n",
       "      <th>months</th>\n",
       "    </tr>\n",
       "    <tr>\n",
       "      <th>충전시작_년도</th>\n",
       "      <th>충전시작_월</th>\n",
       "      <th></th>\n",
       "      <th></th>\n",
       "      <th></th>\n",
       "    </tr>\n",
       "  </thead>\n",
       "  <tbody>\n",
       "    <tr>\n",
       "      <th rowspan=\"8\" valign=\"top\">2022</th>\n",
       "      <th>1</th>\n",
       "      <td>16</td>\n",
       "      <td>06:53:00</td>\n",
       "      <td>425</td>\n",
       "    </tr>\n",
       "    <tr>\n",
       "      <th>2</th>\n",
       "      <td>20</td>\n",
       "      <td>18:15:50</td>\n",
       "      <td>358</td>\n",
       "    </tr>\n",
       "    <tr>\n",
       "      <th>3</th>\n",
       "      <td>0</td>\n",
       "      <td>02:18:10</td>\n",
       "      <td>394</td>\n",
       "    </tr>\n",
       "    <tr>\n",
       "      <th>4</th>\n",
       "      <td>7</td>\n",
       "      <td>02:13:02</td>\n",
       "      <td>406</td>\n",
       "    </tr>\n",
       "    <tr>\n",
       "      <th>5</th>\n",
       "      <td>16</td>\n",
       "      <td>15:54:21</td>\n",
       "      <td>437</td>\n",
       "    </tr>\n",
       "    <tr>\n",
       "      <th>6</th>\n",
       "      <td>26</td>\n",
       "      <td>21:10:27</td>\n",
       "      <td>435</td>\n",
       "    </tr>\n",
       "    <tr>\n",
       "      <th>7</th>\n",
       "      <td>12</td>\n",
       "      <td>02:56:44</td>\n",
       "      <td>483</td>\n",
       "    </tr>\n",
       "    <tr>\n",
       "      <th>8</th>\n",
       "      <td>6</td>\n",
       "      <td>04:59:15</td>\n",
       "      <td>479</td>\n",
       "    </tr>\n",
       "  </tbody>\n",
       "</table>\n",
       "</div>"
      ],
      "text/plain": [
       "                days      time  months\n",
       "충전시작_년도 충전시작_월                        \n",
       "2022    1         16  06:53:00     425\n",
       "        2         20  18:15:50     358\n",
       "        3          0  02:18:10     394\n",
       "        4          7  02:13:02     406\n",
       "        5         16  15:54:21     437\n",
       "        6         26  21:10:27     435\n",
       "        7         12  02:56:44     483\n",
       "        8          6  04:59:15     479"
      ]
     },
     "execution_count": 614,
     "metadata": {},
     "output_type": "execute_result"
    }
   ],
   "source": [
    "sp3 = temp.iloc[24:, :]\n",
    "sp3"
   ]
  },
  {
   "cell_type": "code",
   "execution_count": 615,
   "metadata": {},
   "outputs": [
    {
     "data": {
      "text/plain": [
       "충전시작_년도\n",
       "2020    84050 days 00:29:12.999999488\n",
       "2021    95417 days 01:17:47.000000512\n",
       "2022   102616 days 02:40:48.999999488\n",
       "Name: 충전시간(계산), dtype: timedelta64[ns]"
      ]
     },
     "execution_count": 615,
     "metadata": {},
     "output_type": "execute_result"
    }
   ],
   "source": [
    "ch_cal_time_by_y = df2.groupby(['충전시작_년도'])[col].sum()\n",
    "ch_cal_time_by_y.head()"
   ]
  },
  {
   "cell_type": "code",
   "execution_count": 616,
   "metadata": {},
   "outputs": [
    {
     "data": {
      "text/html": [
       "<div>\n",
       "<style scoped>\n",
       "    .dataframe tbody tr th:only-of-type {\n",
       "        vertical-align: middle;\n",
       "    }\n",
       "\n",
       "    .dataframe tbody tr th {\n",
       "        vertical-align: top;\n",
       "    }\n",
       "\n",
       "    .dataframe thead th {\n",
       "        text-align: right;\n",
       "    }\n",
       "</style>\n",
       "<table border=\"1\" class=\"dataframe\">\n",
       "  <thead>\n",
       "    <tr style=\"text-align: right;\">\n",
       "      <th></th>\n",
       "      <th>충전시간(계산)</th>\n",
       "    </tr>\n",
       "    <tr>\n",
       "      <th>충전시작_년도</th>\n",
       "      <th></th>\n",
       "    </tr>\n",
       "  </thead>\n",
       "  <tbody>\n",
       "    <tr>\n",
       "      <th>2020</th>\n",
       "      <td>84050 days 00:29:12.999999488</td>\n",
       "    </tr>\n",
       "    <tr>\n",
       "      <th>2021</th>\n",
       "      <td>95417 days 01:17:47.000000512</td>\n",
       "    </tr>\n",
       "    <tr>\n",
       "      <th>2022</th>\n",
       "      <td>102616 days 02:40:48.999999488</td>\n",
       "    </tr>\n",
       "  </tbody>\n",
       "</table>\n",
       "</div>"
      ],
      "text/plain": [
       "                               충전시간(계산)\n",
       "충전시작_년도                                \n",
       "2020      84050 days 00:29:12.999999488\n",
       "2021      95417 days 01:17:47.000000512\n",
       "2022     102616 days 02:40:48.999999488"
      ]
     },
     "execution_count": 616,
     "metadata": {},
     "output_type": "execute_result"
    }
   ],
   "source": [
    "ch_cal_time_by_y = ch_cal_time_by_y.to_frame()\n",
    "ch_cal_time_by_y[col] = ch_cal_time_by_y[col].astype(str)\n",
    "ch_cal_time_by_y"
   ]
  },
  {
   "cell_type": "code",
   "execution_count": 617,
   "metadata": {},
   "outputs": [
    {
     "data": {
      "text/html": [
       "<div>\n",
       "<style scoped>\n",
       "    .dataframe tbody tr th:only-of-type {\n",
       "        vertical-align: middle;\n",
       "    }\n",
       "\n",
       "    .dataframe tbody tr th {\n",
       "        vertical-align: top;\n",
       "    }\n",
       "\n",
       "    .dataframe thead th {\n",
       "        text-align: right;\n",
       "    }\n",
       "</style>\n",
       "<table border=\"1\" class=\"dataframe\">\n",
       "  <thead>\n",
       "    <tr style=\"text-align: right;\">\n",
       "      <th></th>\n",
       "      <th>0</th>\n",
       "      <th>1</th>\n",
       "      <th>2</th>\n",
       "    </tr>\n",
       "    <tr>\n",
       "      <th>충전시작_년도</th>\n",
       "      <th></th>\n",
       "      <th></th>\n",
       "      <th></th>\n",
       "    </tr>\n",
       "  </thead>\n",
       "  <tbody>\n",
       "    <tr>\n",
       "      <th>2020</th>\n",
       "      <td>84050</td>\n",
       "      <td>days</td>\n",
       "      <td>00:29:12.999999488</td>\n",
       "    </tr>\n",
       "    <tr>\n",
       "      <th>2021</th>\n",
       "      <td>95417</td>\n",
       "      <td>days</td>\n",
       "      <td>01:17:47.000000512</td>\n",
       "    </tr>\n",
       "    <tr>\n",
       "      <th>2022</th>\n",
       "      <td>102616</td>\n",
       "      <td>days</td>\n",
       "      <td>02:40:48.999999488</td>\n",
       "    </tr>\n",
       "  </tbody>\n",
       "</table>\n",
       "</div>"
      ],
      "text/plain": [
       "              0     1                   2\n",
       "충전시작_년도                                  \n",
       "2020      84050  days  00:29:12.999999488\n",
       "2021      95417  days  01:17:47.000000512\n",
       "2022     102616  days  02:40:48.999999488"
      ]
     },
     "execution_count": 617,
     "metadata": {},
     "output_type": "execute_result"
    }
   ],
   "source": [
    "ch_cal_time_by_y = ch_cal_time_by_y[col].str.split(expand=True)\n",
    "ch_cal_time_by_y"
   ]
  },
  {
   "cell_type": "code",
   "execution_count": 618,
   "metadata": {},
   "outputs": [
    {
     "data": {
      "text/html": [
       "<div>\n",
       "<style scoped>\n",
       "    .dataframe tbody tr th:only-of-type {\n",
       "        vertical-align: middle;\n",
       "    }\n",
       "\n",
       "    .dataframe tbody tr th {\n",
       "        vertical-align: top;\n",
       "    }\n",
       "\n",
       "    .dataframe thead th {\n",
       "        text-align: right;\n",
       "    }\n",
       "</style>\n",
       "<table border=\"1\" class=\"dataframe\">\n",
       "  <thead>\n",
       "    <tr style=\"text-align: right;\">\n",
       "      <th></th>\n",
       "      <th>0</th>\n",
       "      <th>2</th>\n",
       "    </tr>\n",
       "    <tr>\n",
       "      <th>충전시작_년도</th>\n",
       "      <th></th>\n",
       "      <th></th>\n",
       "    </tr>\n",
       "  </thead>\n",
       "  <tbody>\n",
       "    <tr>\n",
       "      <th>2020</th>\n",
       "      <td>84050</td>\n",
       "      <td>00:29:12.999999488</td>\n",
       "    </tr>\n",
       "    <tr>\n",
       "      <th>2021</th>\n",
       "      <td>95417</td>\n",
       "      <td>01:17:47.000000512</td>\n",
       "    </tr>\n",
       "    <tr>\n",
       "      <th>2022</th>\n",
       "      <td>102616</td>\n",
       "      <td>02:40:48.999999488</td>\n",
       "    </tr>\n",
       "  </tbody>\n",
       "</table>\n",
       "</div>"
      ],
      "text/plain": [
       "              0                   2\n",
       "충전시작_년도                            \n",
       "2020      84050  00:29:12.999999488\n",
       "2021      95417  01:17:47.000000512\n",
       "2022     102616  02:40:48.999999488"
      ]
     },
     "execution_count": 618,
     "metadata": {},
     "output_type": "execute_result"
    }
   ],
   "source": [
    "ch_cal_time_by_y = ch_cal_time_by_y.drop([1], axis=1)\n",
    "ch_cal_time_by_y"
   ]
  },
  {
   "cell_type": "code",
   "execution_count": 619,
   "metadata": {},
   "outputs": [
    {
     "name": "stdout",
     "output_type": "stream",
     "text": [
      "<class 'pandas.core.frame.DataFrame'>\n",
      "Int64Index: 3 entries, 2020 to 2022\n",
      "Data columns (total 2 columns):\n",
      " #   Column  Non-Null Count  Dtype \n",
      "---  ------  --------------  ----- \n",
      " 0   0       3 non-null      int32 \n",
      " 1   2       3 non-null      object\n",
      "dtypes: int32(1), object(1)\n",
      "memory usage: 60.0+ bytes\n"
     ]
    }
   ],
   "source": [
    "ch_cal_time_by_y[0] = ch_cal_time_by_y[0].astype(int)\n",
    "ch_cal_time_by_y.info()"
   ]
  },
  {
   "cell_type": "code",
   "execution_count": 620,
   "metadata": {},
   "outputs": [],
   "source": [
    "temp20 = ch_cal_time_by_y.iloc[0]\n",
    "temp21 = ch_cal_time_by_y.iloc[1]\n",
    "temp22 = ch_cal_time_by_y.iloc[2]"
   ]
  },
  {
   "cell_type": "code",
   "execution_count": 621,
   "metadata": {},
   "outputs": [
    {
     "data": {
      "text/plain": [
       "(2801, 20, '00:29:12.999999488')"
      ]
     },
     "execution_count": 621,
     "metadata": {},
     "output_type": "execute_result"
    }
   ],
   "source": [
    "d20, t20 = temp20[0], temp20[2]\n",
    "months20 = d20 // 30\n",
    "days20 = d20 % 30\n",
    "months20, days20, t20"
   ]
  },
  {
   "cell_type": "code",
   "execution_count": 622,
   "metadata": {},
   "outputs": [
    {
     "data": {
      "text/plain": [
       "(3180, 17, '01:17:47.000000512')"
      ]
     },
     "execution_count": 622,
     "metadata": {},
     "output_type": "execute_result"
    }
   ],
   "source": [
    "d21, t21 = temp21[0], temp21[2]\n",
    "months21 = d21 // 30\n",
    "days21 = d21 % 30\n",
    "months21, days21, t21"
   ]
  },
  {
   "cell_type": "code",
   "execution_count": 623,
   "metadata": {},
   "outputs": [
    {
     "data": {
      "text/plain": [
       "(3420, 16, '02:40:48.999999488')"
      ]
     },
     "execution_count": 623,
     "metadata": {},
     "output_type": "execute_result"
    }
   ],
   "source": [
    "d22,t22 = temp22[0], temp22[2]\n",
    "months22 = d22 // 30\n",
    "days22 = d22 % 30\n",
    "months22, days22, t22"
   ]
  },
  {
   "cell_type": "code",
   "execution_count": 624,
   "metadata": {},
   "outputs": [
    {
     "data": {
      "text/plain": [
       "Index(['days', 'time', 'months'], dtype='object')"
      ]
     },
     "execution_count": 624,
     "metadata": {},
     "output_type": "execute_result"
    }
   ],
   "source": [
    "sp1.columns"
   ]
  },
  {
   "cell_type": "code",
   "execution_count": 625,
   "metadata": {},
   "outputs": [
    {
     "data": {
      "text/html": [
       "<div>\n",
       "<style scoped>\n",
       "    .dataframe tbody tr th:only-of-type {\n",
       "        vertical-align: middle;\n",
       "    }\n",
       "\n",
       "    .dataframe tbody tr th {\n",
       "        vertical-align: top;\n",
       "    }\n",
       "\n",
       "    .dataframe thead th {\n",
       "        text-align: right;\n",
       "    }\n",
       "</style>\n",
       "<table border=\"1\" class=\"dataframe\">\n",
       "  <thead>\n",
       "    <tr style=\"text-align: right;\">\n",
       "      <th></th>\n",
       "      <th>days</th>\n",
       "      <th>time</th>\n",
       "      <th>months</th>\n",
       "    </tr>\n",
       "  </thead>\n",
       "  <tbody>\n",
       "    <tr>\n",
       "      <th>0</th>\n",
       "      <td>20</td>\n",
       "      <td>00:29:12.999999488</td>\n",
       "      <td>2801</td>\n",
       "    </tr>\n",
       "  </tbody>\n",
       "</table>\n",
       "</div>"
      ],
      "text/plain": [
       "   days                time  months\n",
       "0    20  00:29:12.999999488    2801"
      ]
     },
     "execution_count": 625,
     "metadata": {},
     "output_type": "execute_result"
    }
   ],
   "source": [
    "total20 = pd.DataFrame({'days':[days20], 'time':[t20], 'months':[months20]})\n",
    "total20"
   ]
  },
  {
   "cell_type": "code",
   "execution_count": 626,
   "metadata": {},
   "outputs": [
    {
     "data": {
      "text/html": [
       "<div>\n",
       "<style scoped>\n",
       "    .dataframe tbody tr th:only-of-type {\n",
       "        vertical-align: middle;\n",
       "    }\n",
       "\n",
       "    .dataframe tbody tr th {\n",
       "        vertical-align: top;\n",
       "    }\n",
       "\n",
       "    .dataframe thead th {\n",
       "        text-align: right;\n",
       "    }\n",
       "</style>\n",
       "<table border=\"1\" class=\"dataframe\">\n",
       "  <thead>\n",
       "    <tr style=\"text-align: right;\">\n",
       "      <th></th>\n",
       "      <th>days</th>\n",
       "      <th>time</th>\n",
       "      <th>months</th>\n",
       "    </tr>\n",
       "  </thead>\n",
       "  <tbody>\n",
       "    <tr>\n",
       "      <th>0</th>\n",
       "      <td>17</td>\n",
       "      <td>01:17:47.000000512</td>\n",
       "      <td>3180</td>\n",
       "    </tr>\n",
       "  </tbody>\n",
       "</table>\n",
       "</div>"
      ],
      "text/plain": [
       "   days                time  months\n",
       "0    17  01:17:47.000000512    3180"
      ]
     },
     "execution_count": 626,
     "metadata": {},
     "output_type": "execute_result"
    }
   ],
   "source": [
    "total21 = pd.DataFrame({'days':[days21], 'time':[t21], 'months':[months21]})\n",
    "total21"
   ]
  },
  {
   "cell_type": "code",
   "execution_count": 627,
   "metadata": {},
   "outputs": [
    {
     "data": {
      "text/html": [
       "<div>\n",
       "<style scoped>\n",
       "    .dataframe tbody tr th:only-of-type {\n",
       "        vertical-align: middle;\n",
       "    }\n",
       "\n",
       "    .dataframe tbody tr th {\n",
       "        vertical-align: top;\n",
       "    }\n",
       "\n",
       "    .dataframe thead th {\n",
       "        text-align: right;\n",
       "    }\n",
       "</style>\n",
       "<table border=\"1\" class=\"dataframe\">\n",
       "  <thead>\n",
       "    <tr style=\"text-align: right;\">\n",
       "      <th></th>\n",
       "      <th>days</th>\n",
       "      <th>time</th>\n",
       "      <th>months</th>\n",
       "    </tr>\n",
       "  </thead>\n",
       "  <tbody>\n",
       "    <tr>\n",
       "      <th>0</th>\n",
       "      <td>16</td>\n",
       "      <td>02:40:48.999999488</td>\n",
       "      <td>3420</td>\n",
       "    </tr>\n",
       "  </tbody>\n",
       "</table>\n",
       "</div>"
      ],
      "text/plain": [
       "   days                time  months\n",
       "0    16  02:40:48.999999488    3420"
      ]
     },
     "execution_count": 627,
     "metadata": {},
     "output_type": "execute_result"
    }
   ],
   "source": [
    "total22 = pd.DataFrame({'days':[days22], 'time':[t22], 'months':[months22]})\n",
    "total22"
   ]
  },
  {
   "cell_type": "code",
   "execution_count": 628,
   "metadata": {},
   "outputs": [
    {
     "data": {
      "text/html": [
       "<div>\n",
       "<style scoped>\n",
       "    .dataframe tbody tr th:only-of-type {\n",
       "        vertical-align: middle;\n",
       "    }\n",
       "\n",
       "    .dataframe tbody tr th {\n",
       "        vertical-align: top;\n",
       "    }\n",
       "\n",
       "    .dataframe thead th {\n",
       "        text-align: right;\n",
       "    }\n",
       "</style>\n",
       "<table border=\"1\" class=\"dataframe\">\n",
       "  <thead>\n",
       "    <tr style=\"text-align: right;\">\n",
       "      <th></th>\n",
       "      <th>days</th>\n",
       "      <th>time</th>\n",
       "      <th>months</th>\n",
       "    </tr>\n",
       "  </thead>\n",
       "  <tbody>\n",
       "    <tr>\n",
       "      <th>(2020, 1)</th>\n",
       "      <td>11</td>\n",
       "      <td>07:36:54</td>\n",
       "      <td>170</td>\n",
       "    </tr>\n",
       "    <tr>\n",
       "      <th>(2020, 2)</th>\n",
       "      <td>10</td>\n",
       "      <td>10:04:17</td>\n",
       "      <td>134</td>\n",
       "    </tr>\n",
       "    <tr>\n",
       "      <th>(2020, 3)</th>\n",
       "      <td>18</td>\n",
       "      <td>11:36:27</td>\n",
       "      <td>137</td>\n",
       "    </tr>\n",
       "    <tr>\n",
       "      <th>(2020, 4)</th>\n",
       "      <td>10</td>\n",
       "      <td>20:11:06</td>\n",
       "      <td>163</td>\n",
       "    </tr>\n",
       "    <tr>\n",
       "      <th>(2020, 5)</th>\n",
       "      <td>3</td>\n",
       "      <td>22:26:24</td>\n",
       "      <td>206</td>\n",
       "    </tr>\n",
       "    <tr>\n",
       "      <th>(2020, 6)</th>\n",
       "      <td>11</td>\n",
       "      <td>18:02:20</td>\n",
       "      <td>251</td>\n",
       "    </tr>\n",
       "    <tr>\n",
       "      <th>(2020, 7)</th>\n",
       "      <td>3</td>\n",
       "      <td>12:15:12</td>\n",
       "      <td>292</td>\n",
       "    </tr>\n",
       "    <tr>\n",
       "      <th>(2020, 8)</th>\n",
       "      <td>29</td>\n",
       "      <td>04:45:22</td>\n",
       "      <td>296</td>\n",
       "    </tr>\n",
       "    <tr>\n",
       "      <th>(2020, 9)</th>\n",
       "      <td>6</td>\n",
       "      <td>07:09:15</td>\n",
       "      <td>237</td>\n",
       "    </tr>\n",
       "    <tr>\n",
       "      <th>(2020, 10)</th>\n",
       "      <td>12</td>\n",
       "      <td>04:42:48</td>\n",
       "      <td>301</td>\n",
       "    </tr>\n",
       "    <tr>\n",
       "      <th>(2020, 11)</th>\n",
       "      <td>23</td>\n",
       "      <td>08:37:36</td>\n",
       "      <td>316</td>\n",
       "    </tr>\n",
       "    <tr>\n",
       "      <th>(2020, 12)</th>\n",
       "      <td>28</td>\n",
       "      <td>17:01:32</td>\n",
       "      <td>293</td>\n",
       "    </tr>\n",
       "    <tr>\n",
       "      <th>0</th>\n",
       "      <td>20</td>\n",
       "      <td>00:29:12.999999488</td>\n",
       "      <td>2801</td>\n",
       "    </tr>\n",
       "  </tbody>\n",
       "</table>\n",
       "</div>"
      ],
      "text/plain": [
       "            days                time  months\n",
       "(2020, 1)     11            07:36:54     170\n",
       "(2020, 2)     10            10:04:17     134\n",
       "(2020, 3)     18            11:36:27     137\n",
       "(2020, 4)     10            20:11:06     163\n",
       "(2020, 5)      3            22:26:24     206\n",
       "(2020, 6)     11            18:02:20     251\n",
       "(2020, 7)      3            12:15:12     292\n",
       "(2020, 8)     29            04:45:22     296\n",
       "(2020, 9)      6            07:09:15     237\n",
       "(2020, 10)    12            04:42:48     301\n",
       "(2020, 11)    23            08:37:36     316\n",
       "(2020, 12)    28            17:01:32     293\n",
       "0             20  00:29:12.999999488    2801"
      ]
     },
     "execution_count": 628,
     "metadata": {},
     "output_type": "execute_result"
    }
   ],
   "source": [
    "temp20 = pd.concat([sp1, total20])\n",
    "temp20"
   ]
  },
  {
   "cell_type": "code",
   "execution_count": 629,
   "metadata": {},
   "outputs": [
    {
     "data": {
      "text/html": [
       "<div>\n",
       "<style scoped>\n",
       "    .dataframe tbody tr th:only-of-type {\n",
       "        vertical-align: middle;\n",
       "    }\n",
       "\n",
       "    .dataframe tbody tr th {\n",
       "        vertical-align: top;\n",
       "    }\n",
       "\n",
       "    .dataframe thead th {\n",
       "        text-align: right;\n",
       "    }\n",
       "</style>\n",
       "<table border=\"1\" class=\"dataframe\">\n",
       "  <thead>\n",
       "    <tr style=\"text-align: right;\">\n",
       "      <th></th>\n",
       "      <th>days</th>\n",
       "      <th>time</th>\n",
       "      <th>months</th>\n",
       "    </tr>\n",
       "  </thead>\n",
       "  <tbody>\n",
       "    <tr>\n",
       "      <th>(2021, 1)</th>\n",
       "      <td>10</td>\n",
       "      <td>17:06:06</td>\n",
       "      <td>232</td>\n",
       "    </tr>\n",
       "    <tr>\n",
       "      <th>(2021, 2)</th>\n",
       "      <td>8</td>\n",
       "      <td>23:23:36</td>\n",
       "      <td>209</td>\n",
       "    </tr>\n",
       "    <tr>\n",
       "      <th>(2021, 3)</th>\n",
       "      <td>27</td>\n",
       "      <td>16:40:25</td>\n",
       "      <td>219</td>\n",
       "    </tr>\n",
       "    <tr>\n",
       "      <th>(2021, 4)</th>\n",
       "      <td>27</td>\n",
       "      <td>11:25:41</td>\n",
       "      <td>208</td>\n",
       "    </tr>\n",
       "    <tr>\n",
       "      <th>(2021, 5)</th>\n",
       "      <td>19</td>\n",
       "      <td>08:51:42</td>\n",
       "      <td>207</td>\n",
       "    </tr>\n",
       "    <tr>\n",
       "      <th>(2021, 6)</th>\n",
       "      <td>23</td>\n",
       "      <td>16:48:38</td>\n",
       "      <td>207</td>\n",
       "    </tr>\n",
       "    <tr>\n",
       "      <th>(2021, 7)</th>\n",
       "      <td>0</td>\n",
       "      <td>13:25:41</td>\n",
       "      <td>245</td>\n",
       "    </tr>\n",
       "    <tr>\n",
       "      <th>(2021, 8)</th>\n",
       "      <td>21</td>\n",
       "      <td>11:25:24</td>\n",
       "      <td>264</td>\n",
       "    </tr>\n",
       "    <tr>\n",
       "      <th>(2021, 9)</th>\n",
       "      <td>16</td>\n",
       "      <td>00:14:44</td>\n",
       "      <td>268</td>\n",
       "    </tr>\n",
       "    <tr>\n",
       "      <th>(2021, 10)</th>\n",
       "      <td>22</td>\n",
       "      <td>22:42:28</td>\n",
       "      <td>319</td>\n",
       "    </tr>\n",
       "    <tr>\n",
       "      <th>(2021, 11)</th>\n",
       "      <td>14</td>\n",
       "      <td>09:48:00</td>\n",
       "      <td>366</td>\n",
       "    </tr>\n",
       "    <tr>\n",
       "      <th>(2021, 12)</th>\n",
       "      <td>3</td>\n",
       "      <td>17:25:22</td>\n",
       "      <td>430</td>\n",
       "    </tr>\n",
       "    <tr>\n",
       "      <th>0</th>\n",
       "      <td>17</td>\n",
       "      <td>01:17:47.000000512</td>\n",
       "      <td>3180</td>\n",
       "    </tr>\n",
       "  </tbody>\n",
       "</table>\n",
       "</div>"
      ],
      "text/plain": [
       "            days                time  months\n",
       "(2021, 1)     10            17:06:06     232\n",
       "(2021, 2)      8            23:23:36     209\n",
       "(2021, 3)     27            16:40:25     219\n",
       "(2021, 4)     27            11:25:41     208\n",
       "(2021, 5)     19            08:51:42     207\n",
       "(2021, 6)     23            16:48:38     207\n",
       "(2021, 7)      0            13:25:41     245\n",
       "(2021, 8)     21            11:25:24     264\n",
       "(2021, 9)     16            00:14:44     268\n",
       "(2021, 10)    22            22:42:28     319\n",
       "(2021, 11)    14            09:48:00     366\n",
       "(2021, 12)     3            17:25:22     430\n",
       "0             17  01:17:47.000000512    3180"
      ]
     },
     "execution_count": 629,
     "metadata": {},
     "output_type": "execute_result"
    }
   ],
   "source": [
    "temp21 = pd.concat([sp2, total21])\n",
    "temp21"
   ]
  },
  {
   "cell_type": "code",
   "execution_count": 630,
   "metadata": {},
   "outputs": [
    {
     "data": {
      "text/html": [
       "<div>\n",
       "<style scoped>\n",
       "    .dataframe tbody tr th:only-of-type {\n",
       "        vertical-align: middle;\n",
       "    }\n",
       "\n",
       "    .dataframe tbody tr th {\n",
       "        vertical-align: top;\n",
       "    }\n",
       "\n",
       "    .dataframe thead th {\n",
       "        text-align: right;\n",
       "    }\n",
       "</style>\n",
       "<table border=\"1\" class=\"dataframe\">\n",
       "  <thead>\n",
       "    <tr style=\"text-align: right;\">\n",
       "      <th></th>\n",
       "      <th>days</th>\n",
       "      <th>time</th>\n",
       "      <th>months</th>\n",
       "    </tr>\n",
       "  </thead>\n",
       "  <tbody>\n",
       "    <tr>\n",
       "      <th>(2022, 1)</th>\n",
       "      <td>16</td>\n",
       "      <td>06:53:00</td>\n",
       "      <td>425</td>\n",
       "    </tr>\n",
       "    <tr>\n",
       "      <th>(2022, 2)</th>\n",
       "      <td>20</td>\n",
       "      <td>18:15:50</td>\n",
       "      <td>358</td>\n",
       "    </tr>\n",
       "    <tr>\n",
       "      <th>(2022, 3)</th>\n",
       "      <td>0</td>\n",
       "      <td>02:18:10</td>\n",
       "      <td>394</td>\n",
       "    </tr>\n",
       "    <tr>\n",
       "      <th>(2022, 4)</th>\n",
       "      <td>7</td>\n",
       "      <td>02:13:02</td>\n",
       "      <td>406</td>\n",
       "    </tr>\n",
       "    <tr>\n",
       "      <th>(2022, 5)</th>\n",
       "      <td>16</td>\n",
       "      <td>15:54:21</td>\n",
       "      <td>437</td>\n",
       "    </tr>\n",
       "    <tr>\n",
       "      <th>(2022, 6)</th>\n",
       "      <td>26</td>\n",
       "      <td>21:10:27</td>\n",
       "      <td>435</td>\n",
       "    </tr>\n",
       "    <tr>\n",
       "      <th>(2022, 7)</th>\n",
       "      <td>12</td>\n",
       "      <td>02:56:44</td>\n",
       "      <td>483</td>\n",
       "    </tr>\n",
       "    <tr>\n",
       "      <th>(2022, 8)</th>\n",
       "      <td>6</td>\n",
       "      <td>04:59:15</td>\n",
       "      <td>479</td>\n",
       "    </tr>\n",
       "    <tr>\n",
       "      <th>0</th>\n",
       "      <td>16</td>\n",
       "      <td>02:40:48.999999488</td>\n",
       "      <td>3420</td>\n",
       "    </tr>\n",
       "  </tbody>\n",
       "</table>\n",
       "</div>"
      ],
      "text/plain": [
       "           days                time  months\n",
       "(2022, 1)    16            06:53:00     425\n",
       "(2022, 2)    20            18:15:50     358\n",
       "(2022, 3)     0            02:18:10     394\n",
       "(2022, 4)     7            02:13:02     406\n",
       "(2022, 5)    16            15:54:21     437\n",
       "(2022, 6)    26            21:10:27     435\n",
       "(2022, 7)    12            02:56:44     483\n",
       "(2022, 8)     6            04:59:15     479\n",
       "0            16  02:40:48.999999488    3420"
      ]
     },
     "execution_count": 630,
     "metadata": {},
     "output_type": "execute_result"
    }
   ],
   "source": [
    "temp22 = pd.concat([sp3, total22])\n",
    "temp22"
   ]
  },
  {
   "cell_type": "code",
   "execution_count": 631,
   "metadata": {},
   "outputs": [
    {
     "data": {
      "text/html": [
       "<div>\n",
       "<style scoped>\n",
       "    .dataframe tbody tr th:only-of-type {\n",
       "        vertical-align: middle;\n",
       "    }\n",
       "\n",
       "    .dataframe tbody tr th {\n",
       "        vertical-align: top;\n",
       "    }\n",
       "\n",
       "    .dataframe thead th {\n",
       "        text-align: right;\n",
       "    }\n",
       "</style>\n",
       "<table border=\"1\" class=\"dataframe\">\n",
       "  <thead>\n",
       "    <tr style=\"text-align: right;\">\n",
       "      <th></th>\n",
       "      <th>days</th>\n",
       "      <th>time</th>\n",
       "      <th>months</th>\n",
       "    </tr>\n",
       "  </thead>\n",
       "  <tbody>\n",
       "    <tr>\n",
       "      <th>(2020, 1)</th>\n",
       "      <td>11</td>\n",
       "      <td>07:36:54</td>\n",
       "      <td>170</td>\n",
       "    </tr>\n",
       "    <tr>\n",
       "      <th>(2020, 2)</th>\n",
       "      <td>10</td>\n",
       "      <td>10:04:17</td>\n",
       "      <td>134</td>\n",
       "    </tr>\n",
       "    <tr>\n",
       "      <th>(2020, 3)</th>\n",
       "      <td>18</td>\n",
       "      <td>11:36:27</td>\n",
       "      <td>137</td>\n",
       "    </tr>\n",
       "    <tr>\n",
       "      <th>(2020, 4)</th>\n",
       "      <td>10</td>\n",
       "      <td>20:11:06</td>\n",
       "      <td>163</td>\n",
       "    </tr>\n",
       "    <tr>\n",
       "      <th>(2020, 5)</th>\n",
       "      <td>3</td>\n",
       "      <td>22:26:24</td>\n",
       "      <td>206</td>\n",
       "    </tr>\n",
       "    <tr>\n",
       "      <th>(2020, 6)</th>\n",
       "      <td>11</td>\n",
       "      <td>18:02:20</td>\n",
       "      <td>251</td>\n",
       "    </tr>\n",
       "    <tr>\n",
       "      <th>(2020, 7)</th>\n",
       "      <td>3</td>\n",
       "      <td>12:15:12</td>\n",
       "      <td>292</td>\n",
       "    </tr>\n",
       "    <tr>\n",
       "      <th>(2020, 8)</th>\n",
       "      <td>29</td>\n",
       "      <td>04:45:22</td>\n",
       "      <td>296</td>\n",
       "    </tr>\n",
       "    <tr>\n",
       "      <th>(2020, 9)</th>\n",
       "      <td>6</td>\n",
       "      <td>07:09:15</td>\n",
       "      <td>237</td>\n",
       "    </tr>\n",
       "    <tr>\n",
       "      <th>(2020, 10)</th>\n",
       "      <td>12</td>\n",
       "      <td>04:42:48</td>\n",
       "      <td>301</td>\n",
       "    </tr>\n",
       "    <tr>\n",
       "      <th>(2020, 11)</th>\n",
       "      <td>23</td>\n",
       "      <td>08:37:36</td>\n",
       "      <td>316</td>\n",
       "    </tr>\n",
       "    <tr>\n",
       "      <th>(2020, 12)</th>\n",
       "      <td>28</td>\n",
       "      <td>17:01:32</td>\n",
       "      <td>293</td>\n",
       "    </tr>\n",
       "    <tr>\n",
       "      <th>0</th>\n",
       "      <td>20</td>\n",
       "      <td>00:29:12.999999488</td>\n",
       "      <td>2801</td>\n",
       "    </tr>\n",
       "    <tr>\n",
       "      <th>(2021, 1)</th>\n",
       "      <td>10</td>\n",
       "      <td>17:06:06</td>\n",
       "      <td>232</td>\n",
       "    </tr>\n",
       "    <tr>\n",
       "      <th>(2021, 2)</th>\n",
       "      <td>8</td>\n",
       "      <td>23:23:36</td>\n",
       "      <td>209</td>\n",
       "    </tr>\n",
       "    <tr>\n",
       "      <th>(2021, 3)</th>\n",
       "      <td>27</td>\n",
       "      <td>16:40:25</td>\n",
       "      <td>219</td>\n",
       "    </tr>\n",
       "    <tr>\n",
       "      <th>(2021, 4)</th>\n",
       "      <td>27</td>\n",
       "      <td>11:25:41</td>\n",
       "      <td>208</td>\n",
       "    </tr>\n",
       "    <tr>\n",
       "      <th>(2021, 5)</th>\n",
       "      <td>19</td>\n",
       "      <td>08:51:42</td>\n",
       "      <td>207</td>\n",
       "    </tr>\n",
       "    <tr>\n",
       "      <th>(2021, 6)</th>\n",
       "      <td>23</td>\n",
       "      <td>16:48:38</td>\n",
       "      <td>207</td>\n",
       "    </tr>\n",
       "    <tr>\n",
       "      <th>(2021, 7)</th>\n",
       "      <td>0</td>\n",
       "      <td>13:25:41</td>\n",
       "      <td>245</td>\n",
       "    </tr>\n",
       "    <tr>\n",
       "      <th>(2021, 8)</th>\n",
       "      <td>21</td>\n",
       "      <td>11:25:24</td>\n",
       "      <td>264</td>\n",
       "    </tr>\n",
       "    <tr>\n",
       "      <th>(2021, 9)</th>\n",
       "      <td>16</td>\n",
       "      <td>00:14:44</td>\n",
       "      <td>268</td>\n",
       "    </tr>\n",
       "    <tr>\n",
       "      <th>(2021, 10)</th>\n",
       "      <td>22</td>\n",
       "      <td>22:42:28</td>\n",
       "      <td>319</td>\n",
       "    </tr>\n",
       "    <tr>\n",
       "      <th>(2021, 11)</th>\n",
       "      <td>14</td>\n",
       "      <td>09:48:00</td>\n",
       "      <td>366</td>\n",
       "    </tr>\n",
       "    <tr>\n",
       "      <th>(2021, 12)</th>\n",
       "      <td>3</td>\n",
       "      <td>17:25:22</td>\n",
       "      <td>430</td>\n",
       "    </tr>\n",
       "    <tr>\n",
       "      <th>0</th>\n",
       "      <td>17</td>\n",
       "      <td>01:17:47.000000512</td>\n",
       "      <td>3180</td>\n",
       "    </tr>\n",
       "    <tr>\n",
       "      <th>(2022, 1)</th>\n",
       "      <td>16</td>\n",
       "      <td>06:53:00</td>\n",
       "      <td>425</td>\n",
       "    </tr>\n",
       "    <tr>\n",
       "      <th>(2022, 2)</th>\n",
       "      <td>20</td>\n",
       "      <td>18:15:50</td>\n",
       "      <td>358</td>\n",
       "    </tr>\n",
       "    <tr>\n",
       "      <th>(2022, 3)</th>\n",
       "      <td>0</td>\n",
       "      <td>02:18:10</td>\n",
       "      <td>394</td>\n",
       "    </tr>\n",
       "    <tr>\n",
       "      <th>(2022, 4)</th>\n",
       "      <td>7</td>\n",
       "      <td>02:13:02</td>\n",
       "      <td>406</td>\n",
       "    </tr>\n",
       "    <tr>\n",
       "      <th>(2022, 5)</th>\n",
       "      <td>16</td>\n",
       "      <td>15:54:21</td>\n",
       "      <td>437</td>\n",
       "    </tr>\n",
       "    <tr>\n",
       "      <th>(2022, 6)</th>\n",
       "      <td>26</td>\n",
       "      <td>21:10:27</td>\n",
       "      <td>435</td>\n",
       "    </tr>\n",
       "    <tr>\n",
       "      <th>(2022, 7)</th>\n",
       "      <td>12</td>\n",
       "      <td>02:56:44</td>\n",
       "      <td>483</td>\n",
       "    </tr>\n",
       "    <tr>\n",
       "      <th>(2022, 8)</th>\n",
       "      <td>6</td>\n",
       "      <td>04:59:15</td>\n",
       "      <td>479</td>\n",
       "    </tr>\n",
       "    <tr>\n",
       "      <th>0</th>\n",
       "      <td>16</td>\n",
       "      <td>02:40:48.999999488</td>\n",
       "      <td>3420</td>\n",
       "    </tr>\n",
       "  </tbody>\n",
       "</table>\n",
       "</div>"
      ],
      "text/plain": [
       "            days                time  months\n",
       "(2020, 1)     11            07:36:54     170\n",
       "(2020, 2)     10            10:04:17     134\n",
       "(2020, 3)     18            11:36:27     137\n",
       "(2020, 4)     10            20:11:06     163\n",
       "(2020, 5)      3            22:26:24     206\n",
       "(2020, 6)     11            18:02:20     251\n",
       "(2020, 7)      3            12:15:12     292\n",
       "(2020, 8)     29            04:45:22     296\n",
       "(2020, 9)      6            07:09:15     237\n",
       "(2020, 10)    12            04:42:48     301\n",
       "(2020, 11)    23            08:37:36     316\n",
       "(2020, 12)    28            17:01:32     293\n",
       "0             20  00:29:12.999999488    2801\n",
       "(2021, 1)     10            17:06:06     232\n",
       "(2021, 2)      8            23:23:36     209\n",
       "(2021, 3)     27            16:40:25     219\n",
       "(2021, 4)     27            11:25:41     208\n",
       "(2021, 5)     19            08:51:42     207\n",
       "(2021, 6)     23            16:48:38     207\n",
       "(2021, 7)      0            13:25:41     245\n",
       "(2021, 8)     21            11:25:24     264\n",
       "(2021, 9)     16            00:14:44     268\n",
       "(2021, 10)    22            22:42:28     319\n",
       "(2021, 11)    14            09:48:00     366\n",
       "(2021, 12)     3            17:25:22     430\n",
       "0             17  01:17:47.000000512    3180\n",
       "(2022, 1)     16            06:53:00     425\n",
       "(2022, 2)     20            18:15:50     358\n",
       "(2022, 3)      0            02:18:10     394\n",
       "(2022, 4)      7            02:13:02     406\n",
       "(2022, 5)     16            15:54:21     437\n",
       "(2022, 6)     26            21:10:27     435\n",
       "(2022, 7)     12            02:56:44     483\n",
       "(2022, 8)      6            04:59:15     479\n",
       "0             16  02:40:48.999999488    3420"
      ]
     },
     "execution_count": 631,
     "metadata": {},
     "output_type": "execute_result"
    }
   ],
   "source": [
    "temp01 = pd.concat([temp20, temp21])\n",
    "temp02 = pd.concat([temp01, temp22])\n",
    "temp02"
   ]
  },
  {
   "cell_type": "code",
   "execution_count": 632,
   "metadata": {},
   "outputs": [
    {
     "data": {
      "text/html": [
       "<div>\n",
       "<style scoped>\n",
       "    .dataframe tbody tr th:only-of-type {\n",
       "        vertical-align: middle;\n",
       "    }\n",
       "\n",
       "    .dataframe tbody tr th {\n",
       "        vertical-align: top;\n",
       "    }\n",
       "\n",
       "    .dataframe thead th {\n",
       "        text-align: right;\n",
       "    }\n",
       "</style>\n",
       "<table border=\"1\" class=\"dataframe\">\n",
       "  <thead>\n",
       "    <tr style=\"text-align: right;\">\n",
       "      <th></th>\n",
       "      <th>days</th>\n",
       "      <th>time</th>\n",
       "      <th>months</th>\n",
       "    </tr>\n",
       "  </thead>\n",
       "  <tbody>\n",
       "    <tr>\n",
       "      <th>(2020, 1)</th>\n",
       "      <td>11</td>\n",
       "      <td>07:36:54</td>\n",
       "      <td>170</td>\n",
       "    </tr>\n",
       "    <tr>\n",
       "      <th>(2020, 2)</th>\n",
       "      <td>10</td>\n",
       "      <td>10:04:17</td>\n",
       "      <td>134</td>\n",
       "    </tr>\n",
       "    <tr>\n",
       "      <th>(2020, 3)</th>\n",
       "      <td>18</td>\n",
       "      <td>11:36:27</td>\n",
       "      <td>137</td>\n",
       "    </tr>\n",
       "    <tr>\n",
       "      <th>(2020, 4)</th>\n",
       "      <td>10</td>\n",
       "      <td>20:11:06</td>\n",
       "      <td>163</td>\n",
       "    </tr>\n",
       "    <tr>\n",
       "      <th>(2020, 5)</th>\n",
       "      <td>3</td>\n",
       "      <td>22:26:24</td>\n",
       "      <td>206</td>\n",
       "    </tr>\n",
       "    <tr>\n",
       "      <th>(2020, 6)</th>\n",
       "      <td>11</td>\n",
       "      <td>18:02:20</td>\n",
       "      <td>251</td>\n",
       "    </tr>\n",
       "    <tr>\n",
       "      <th>(2020, 7)</th>\n",
       "      <td>3</td>\n",
       "      <td>12:15:12</td>\n",
       "      <td>292</td>\n",
       "    </tr>\n",
       "    <tr>\n",
       "      <th>(2020, 8)</th>\n",
       "      <td>29</td>\n",
       "      <td>04:45:22</td>\n",
       "      <td>296</td>\n",
       "    </tr>\n",
       "    <tr>\n",
       "      <th>(2020, 9)</th>\n",
       "      <td>6</td>\n",
       "      <td>07:09:15</td>\n",
       "      <td>237</td>\n",
       "    </tr>\n",
       "    <tr>\n",
       "      <th>(2020, 10)</th>\n",
       "      <td>12</td>\n",
       "      <td>04:42:48</td>\n",
       "      <td>301</td>\n",
       "    </tr>\n",
       "    <tr>\n",
       "      <th>(2020, 11)</th>\n",
       "      <td>23</td>\n",
       "      <td>08:37:36</td>\n",
       "      <td>316</td>\n",
       "    </tr>\n",
       "    <tr>\n",
       "      <th>(2020, 12)</th>\n",
       "      <td>28</td>\n",
       "      <td>17:01:32</td>\n",
       "      <td>293</td>\n",
       "    </tr>\n",
       "    <tr>\n",
       "      <th>0</th>\n",
       "      <td>20</td>\n",
       "      <td>00:29:12.999999488</td>\n",
       "      <td>2801</td>\n",
       "    </tr>\n",
       "    <tr>\n",
       "      <th>(2021, 1)</th>\n",
       "      <td>10</td>\n",
       "      <td>17:06:06</td>\n",
       "      <td>232</td>\n",
       "    </tr>\n",
       "    <tr>\n",
       "      <th>(2021, 2)</th>\n",
       "      <td>8</td>\n",
       "      <td>23:23:36</td>\n",
       "      <td>209</td>\n",
       "    </tr>\n",
       "    <tr>\n",
       "      <th>(2021, 3)</th>\n",
       "      <td>27</td>\n",
       "      <td>16:40:25</td>\n",
       "      <td>219</td>\n",
       "    </tr>\n",
       "    <tr>\n",
       "      <th>(2021, 4)</th>\n",
       "      <td>27</td>\n",
       "      <td>11:25:41</td>\n",
       "      <td>208</td>\n",
       "    </tr>\n",
       "    <tr>\n",
       "      <th>(2021, 5)</th>\n",
       "      <td>19</td>\n",
       "      <td>08:51:42</td>\n",
       "      <td>207</td>\n",
       "    </tr>\n",
       "    <tr>\n",
       "      <th>(2021, 6)</th>\n",
       "      <td>23</td>\n",
       "      <td>16:48:38</td>\n",
       "      <td>207</td>\n",
       "    </tr>\n",
       "    <tr>\n",
       "      <th>(2021, 7)</th>\n",
       "      <td>0</td>\n",
       "      <td>13:25:41</td>\n",
       "      <td>245</td>\n",
       "    </tr>\n",
       "    <tr>\n",
       "      <th>(2021, 8)</th>\n",
       "      <td>21</td>\n",
       "      <td>11:25:24</td>\n",
       "      <td>264</td>\n",
       "    </tr>\n",
       "    <tr>\n",
       "      <th>(2021, 9)</th>\n",
       "      <td>16</td>\n",
       "      <td>00:14:44</td>\n",
       "      <td>268</td>\n",
       "    </tr>\n",
       "    <tr>\n",
       "      <th>(2021, 10)</th>\n",
       "      <td>22</td>\n",
       "      <td>22:42:28</td>\n",
       "      <td>319</td>\n",
       "    </tr>\n",
       "    <tr>\n",
       "      <th>(2021, 11)</th>\n",
       "      <td>14</td>\n",
       "      <td>09:48:00</td>\n",
       "      <td>366</td>\n",
       "    </tr>\n",
       "    <tr>\n",
       "      <th>(2021, 12)</th>\n",
       "      <td>3</td>\n",
       "      <td>17:25:22</td>\n",
       "      <td>430</td>\n",
       "    </tr>\n",
       "    <tr>\n",
       "      <th>0</th>\n",
       "      <td>17</td>\n",
       "      <td>01:17:47.000000512</td>\n",
       "      <td>3180</td>\n",
       "    </tr>\n",
       "    <tr>\n",
       "      <th>(2022, 1)</th>\n",
       "      <td>16</td>\n",
       "      <td>06:53:00</td>\n",
       "      <td>425</td>\n",
       "    </tr>\n",
       "    <tr>\n",
       "      <th>(2022, 2)</th>\n",
       "      <td>20</td>\n",
       "      <td>18:15:50</td>\n",
       "      <td>358</td>\n",
       "    </tr>\n",
       "    <tr>\n",
       "      <th>(2022, 3)</th>\n",
       "      <td>0</td>\n",
       "      <td>02:18:10</td>\n",
       "      <td>394</td>\n",
       "    </tr>\n",
       "    <tr>\n",
       "      <th>(2022, 4)</th>\n",
       "      <td>7</td>\n",
       "      <td>02:13:02</td>\n",
       "      <td>406</td>\n",
       "    </tr>\n",
       "    <tr>\n",
       "      <th>(2022, 5)</th>\n",
       "      <td>16</td>\n",
       "      <td>15:54:21</td>\n",
       "      <td>437</td>\n",
       "    </tr>\n",
       "    <tr>\n",
       "      <th>(2022, 6)</th>\n",
       "      <td>26</td>\n",
       "      <td>21:10:27</td>\n",
       "      <td>435</td>\n",
       "    </tr>\n",
       "    <tr>\n",
       "      <th>(2022, 7)</th>\n",
       "      <td>12</td>\n",
       "      <td>02:56:44</td>\n",
       "      <td>483</td>\n",
       "    </tr>\n",
       "    <tr>\n",
       "      <th>(2022, 8)</th>\n",
       "      <td>6</td>\n",
       "      <td>04:59:15</td>\n",
       "      <td>479</td>\n",
       "    </tr>\n",
       "    <tr>\n",
       "      <th>0</th>\n",
       "      <td>16</td>\n",
       "      <td>02:40:48.999999488</td>\n",
       "      <td>3420</td>\n",
       "    </tr>\n",
       "  </tbody>\n",
       "</table>\n",
       "</div>"
      ],
      "text/plain": [
       "            days                time  months\n",
       "(2020, 1)     11            07:36:54     170\n",
       "(2020, 2)     10            10:04:17     134\n",
       "(2020, 3)     18            11:36:27     137\n",
       "(2020, 4)     10            20:11:06     163\n",
       "(2020, 5)      3            22:26:24     206\n",
       "(2020, 6)     11            18:02:20     251\n",
       "(2020, 7)      3            12:15:12     292\n",
       "(2020, 8)     29            04:45:22     296\n",
       "(2020, 9)      6            07:09:15     237\n",
       "(2020, 10)    12            04:42:48     301\n",
       "(2020, 11)    23            08:37:36     316\n",
       "(2020, 12)    28            17:01:32     293\n",
       "0             20  00:29:12.999999488    2801\n",
       "(2021, 1)     10            17:06:06     232\n",
       "(2021, 2)      8            23:23:36     209\n",
       "(2021, 3)     27            16:40:25     219\n",
       "(2021, 4)     27            11:25:41     208\n",
       "(2021, 5)     19            08:51:42     207\n",
       "(2021, 6)     23            16:48:38     207\n",
       "(2021, 7)      0            13:25:41     245\n",
       "(2021, 8)     21            11:25:24     264\n",
       "(2021, 9)     16            00:14:44     268\n",
       "(2021, 10)    22            22:42:28     319\n",
       "(2021, 11)    14            09:48:00     366\n",
       "(2021, 12)     3            17:25:22     430\n",
       "0             17  01:17:47.000000512    3180\n",
       "(2022, 1)     16            06:53:00     425\n",
       "(2022, 2)     20            18:15:50     358\n",
       "(2022, 3)      0            02:18:10     394\n",
       "(2022, 4)      7            02:13:02     406\n",
       "(2022, 5)     16            15:54:21     437\n",
       "(2022, 6)     26            21:10:27     435\n",
       "(2022, 7)     12            02:56:44     483\n",
       "(2022, 8)      6            04:59:15     479\n",
       "0             16  02:40:48.999999488    3420"
      ]
     },
     "execution_count": 632,
     "metadata": {},
     "output_type": "execute_result"
    }
   ],
   "source": [
    "temp = temp02.copy()\n",
    "temp"
   ]
  },
  {
   "cell_type": "code",
   "execution_count": 633,
   "metadata": {},
   "outputs": [
    {
     "data": {
      "text/plain": [
       "Index(['days', 'time', 'months'], dtype='object')"
      ]
     },
     "execution_count": 633,
     "metadata": {},
     "output_type": "execute_result"
    }
   ],
   "source": [
    "temp.columns"
   ]
  },
  {
   "cell_type": "code",
   "execution_count": 634,
   "metadata": {},
   "outputs": [],
   "source": [
    "temp = temp[['months', 'days', 'time']]"
   ]
  },
  {
   "cell_type": "code",
   "execution_count": 635,
   "metadata": {},
   "outputs": [
    {
     "data": {
      "text/html": [
       "<div>\n",
       "<style scoped>\n",
       "    .dataframe tbody tr th:only-of-type {\n",
       "        vertical-align: middle;\n",
       "    }\n",
       "\n",
       "    .dataframe tbody tr th {\n",
       "        vertical-align: top;\n",
       "    }\n",
       "\n",
       "    .dataframe thead th {\n",
       "        text-align: right;\n",
       "    }\n",
       "</style>\n",
       "<table border=\"1\" class=\"dataframe\">\n",
       "  <thead>\n",
       "    <tr style=\"text-align: right;\">\n",
       "      <th></th>\n",
       "      <th>months</th>\n",
       "      <th>days</th>\n",
       "      <th>time</th>\n",
       "    </tr>\n",
       "  </thead>\n",
       "  <tbody>\n",
       "    <tr>\n",
       "      <th>0</th>\n",
       "      <td>9402</td>\n",
       "      <td>23</td>\n",
       "      <td>4:27:49</td>\n",
       "    </tr>\n",
       "  </tbody>\n",
       "</table>\n",
       "</div>"
      ],
      "text/plain": [
       "   months  days     time\n",
       "0    9402    23  4:27:49"
      ]
     },
     "execution_count": 635,
     "metadata": {},
     "output_type": "execute_result"
    }
   ],
   "source": [
    "time = f'{hours}:{minutes}:{seconds}'\n",
    "total = pd.DataFrame({'months':[months], 'days':[days], 'time':[time]})\n",
    "total"
   ]
  },
  {
   "cell_type": "code",
   "execution_count": 636,
   "metadata": {},
   "outputs": [
    {
     "data": {
      "text/html": [
       "<div>\n",
       "<style scoped>\n",
       "    .dataframe tbody tr th:only-of-type {\n",
       "        vertical-align: middle;\n",
       "    }\n",
       "\n",
       "    .dataframe tbody tr th {\n",
       "        vertical-align: top;\n",
       "    }\n",
       "\n",
       "    .dataframe thead th {\n",
       "        text-align: right;\n",
       "    }\n",
       "</style>\n",
       "<table border=\"1\" class=\"dataframe\">\n",
       "  <thead>\n",
       "    <tr style=\"text-align: right;\">\n",
       "      <th></th>\n",
       "      <th>months</th>\n",
       "      <th>days</th>\n",
       "      <th>time</th>\n",
       "    </tr>\n",
       "  </thead>\n",
       "  <tbody>\n",
       "    <tr>\n",
       "      <th>(2020, 1)</th>\n",
       "      <td>170</td>\n",
       "      <td>11</td>\n",
       "      <td>07:36:54</td>\n",
       "    </tr>\n",
       "    <tr>\n",
       "      <th>(2020, 2)</th>\n",
       "      <td>134</td>\n",
       "      <td>10</td>\n",
       "      <td>10:04:17</td>\n",
       "    </tr>\n",
       "    <tr>\n",
       "      <th>(2020, 3)</th>\n",
       "      <td>137</td>\n",
       "      <td>18</td>\n",
       "      <td>11:36:27</td>\n",
       "    </tr>\n",
       "    <tr>\n",
       "      <th>(2020, 4)</th>\n",
       "      <td>163</td>\n",
       "      <td>10</td>\n",
       "      <td>20:11:06</td>\n",
       "    </tr>\n",
       "    <tr>\n",
       "      <th>(2020, 5)</th>\n",
       "      <td>206</td>\n",
       "      <td>3</td>\n",
       "      <td>22:26:24</td>\n",
       "    </tr>\n",
       "    <tr>\n",
       "      <th>(2020, 6)</th>\n",
       "      <td>251</td>\n",
       "      <td>11</td>\n",
       "      <td>18:02:20</td>\n",
       "    </tr>\n",
       "    <tr>\n",
       "      <th>(2020, 7)</th>\n",
       "      <td>292</td>\n",
       "      <td>3</td>\n",
       "      <td>12:15:12</td>\n",
       "    </tr>\n",
       "    <tr>\n",
       "      <th>(2020, 8)</th>\n",
       "      <td>296</td>\n",
       "      <td>29</td>\n",
       "      <td>04:45:22</td>\n",
       "    </tr>\n",
       "    <tr>\n",
       "      <th>(2020, 9)</th>\n",
       "      <td>237</td>\n",
       "      <td>6</td>\n",
       "      <td>07:09:15</td>\n",
       "    </tr>\n",
       "    <tr>\n",
       "      <th>(2020, 10)</th>\n",
       "      <td>301</td>\n",
       "      <td>12</td>\n",
       "      <td>04:42:48</td>\n",
       "    </tr>\n",
       "    <tr>\n",
       "      <th>(2020, 11)</th>\n",
       "      <td>316</td>\n",
       "      <td>23</td>\n",
       "      <td>08:37:36</td>\n",
       "    </tr>\n",
       "    <tr>\n",
       "      <th>(2020, 12)</th>\n",
       "      <td>293</td>\n",
       "      <td>28</td>\n",
       "      <td>17:01:32</td>\n",
       "    </tr>\n",
       "    <tr>\n",
       "      <th>0</th>\n",
       "      <td>2801</td>\n",
       "      <td>20</td>\n",
       "      <td>00:29:12.999999488</td>\n",
       "    </tr>\n",
       "    <tr>\n",
       "      <th>(2021, 1)</th>\n",
       "      <td>232</td>\n",
       "      <td>10</td>\n",
       "      <td>17:06:06</td>\n",
       "    </tr>\n",
       "    <tr>\n",
       "      <th>(2021, 2)</th>\n",
       "      <td>209</td>\n",
       "      <td>8</td>\n",
       "      <td>23:23:36</td>\n",
       "    </tr>\n",
       "    <tr>\n",
       "      <th>(2021, 3)</th>\n",
       "      <td>219</td>\n",
       "      <td>27</td>\n",
       "      <td>16:40:25</td>\n",
       "    </tr>\n",
       "    <tr>\n",
       "      <th>(2021, 4)</th>\n",
       "      <td>208</td>\n",
       "      <td>27</td>\n",
       "      <td>11:25:41</td>\n",
       "    </tr>\n",
       "    <tr>\n",
       "      <th>(2021, 5)</th>\n",
       "      <td>207</td>\n",
       "      <td>19</td>\n",
       "      <td>08:51:42</td>\n",
       "    </tr>\n",
       "    <tr>\n",
       "      <th>(2021, 6)</th>\n",
       "      <td>207</td>\n",
       "      <td>23</td>\n",
       "      <td>16:48:38</td>\n",
       "    </tr>\n",
       "    <tr>\n",
       "      <th>(2021, 7)</th>\n",
       "      <td>245</td>\n",
       "      <td>0</td>\n",
       "      <td>13:25:41</td>\n",
       "    </tr>\n",
       "    <tr>\n",
       "      <th>(2021, 8)</th>\n",
       "      <td>264</td>\n",
       "      <td>21</td>\n",
       "      <td>11:25:24</td>\n",
       "    </tr>\n",
       "    <tr>\n",
       "      <th>(2021, 9)</th>\n",
       "      <td>268</td>\n",
       "      <td>16</td>\n",
       "      <td>00:14:44</td>\n",
       "    </tr>\n",
       "    <tr>\n",
       "      <th>(2021, 10)</th>\n",
       "      <td>319</td>\n",
       "      <td>22</td>\n",
       "      <td>22:42:28</td>\n",
       "    </tr>\n",
       "    <tr>\n",
       "      <th>(2021, 11)</th>\n",
       "      <td>366</td>\n",
       "      <td>14</td>\n",
       "      <td>09:48:00</td>\n",
       "    </tr>\n",
       "    <tr>\n",
       "      <th>(2021, 12)</th>\n",
       "      <td>430</td>\n",
       "      <td>3</td>\n",
       "      <td>17:25:22</td>\n",
       "    </tr>\n",
       "    <tr>\n",
       "      <th>0</th>\n",
       "      <td>3180</td>\n",
       "      <td>17</td>\n",
       "      <td>01:17:47.000000512</td>\n",
       "    </tr>\n",
       "    <tr>\n",
       "      <th>(2022, 1)</th>\n",
       "      <td>425</td>\n",
       "      <td>16</td>\n",
       "      <td>06:53:00</td>\n",
       "    </tr>\n",
       "    <tr>\n",
       "      <th>(2022, 2)</th>\n",
       "      <td>358</td>\n",
       "      <td>20</td>\n",
       "      <td>18:15:50</td>\n",
       "    </tr>\n",
       "    <tr>\n",
       "      <th>(2022, 3)</th>\n",
       "      <td>394</td>\n",
       "      <td>0</td>\n",
       "      <td>02:18:10</td>\n",
       "    </tr>\n",
       "    <tr>\n",
       "      <th>(2022, 4)</th>\n",
       "      <td>406</td>\n",
       "      <td>7</td>\n",
       "      <td>02:13:02</td>\n",
       "    </tr>\n",
       "    <tr>\n",
       "      <th>(2022, 5)</th>\n",
       "      <td>437</td>\n",
       "      <td>16</td>\n",
       "      <td>15:54:21</td>\n",
       "    </tr>\n",
       "    <tr>\n",
       "      <th>(2022, 6)</th>\n",
       "      <td>435</td>\n",
       "      <td>26</td>\n",
       "      <td>21:10:27</td>\n",
       "    </tr>\n",
       "    <tr>\n",
       "      <th>(2022, 7)</th>\n",
       "      <td>483</td>\n",
       "      <td>12</td>\n",
       "      <td>02:56:44</td>\n",
       "    </tr>\n",
       "    <tr>\n",
       "      <th>(2022, 8)</th>\n",
       "      <td>479</td>\n",
       "      <td>6</td>\n",
       "      <td>04:59:15</td>\n",
       "    </tr>\n",
       "    <tr>\n",
       "      <th>0</th>\n",
       "      <td>3420</td>\n",
       "      <td>16</td>\n",
       "      <td>02:40:48.999999488</td>\n",
       "    </tr>\n",
       "    <tr>\n",
       "      <th>0</th>\n",
       "      <td>9402</td>\n",
       "      <td>23</td>\n",
       "      <td>4:27:49</td>\n",
       "    </tr>\n",
       "  </tbody>\n",
       "</table>\n",
       "</div>"
      ],
      "text/plain": [
       "            months  days                time\n",
       "(2020, 1)      170    11            07:36:54\n",
       "(2020, 2)      134    10            10:04:17\n",
       "(2020, 3)      137    18            11:36:27\n",
       "(2020, 4)      163    10            20:11:06\n",
       "(2020, 5)      206     3            22:26:24\n",
       "(2020, 6)      251    11            18:02:20\n",
       "(2020, 7)      292     3            12:15:12\n",
       "(2020, 8)      296    29            04:45:22\n",
       "(2020, 9)      237     6            07:09:15\n",
       "(2020, 10)     301    12            04:42:48\n",
       "(2020, 11)     316    23            08:37:36\n",
       "(2020, 12)     293    28            17:01:32\n",
       "0             2801    20  00:29:12.999999488\n",
       "(2021, 1)      232    10            17:06:06\n",
       "(2021, 2)      209     8            23:23:36\n",
       "(2021, 3)      219    27            16:40:25\n",
       "(2021, 4)      208    27            11:25:41\n",
       "(2021, 5)      207    19            08:51:42\n",
       "(2021, 6)      207    23            16:48:38\n",
       "(2021, 7)      245     0            13:25:41\n",
       "(2021, 8)      264    21            11:25:24\n",
       "(2021, 9)      268    16            00:14:44\n",
       "(2021, 10)     319    22            22:42:28\n",
       "(2021, 11)     366    14            09:48:00\n",
       "(2021, 12)     430     3            17:25:22\n",
       "0             3180    17  01:17:47.000000512\n",
       "(2022, 1)      425    16            06:53:00\n",
       "(2022, 2)      358    20            18:15:50\n",
       "(2022, 3)      394     0            02:18:10\n",
       "(2022, 4)      406     7            02:13:02\n",
       "(2022, 5)      437    16            15:54:21\n",
       "(2022, 6)      435    26            21:10:27\n",
       "(2022, 7)      483    12            02:56:44\n",
       "(2022, 8)      479     6            04:59:15\n",
       "0             3420    16  02:40:48.999999488\n",
       "0             9402    23             4:27:49"
      ]
     },
     "execution_count": 636,
     "metadata": {},
     "output_type": "execute_result"
    }
   ],
   "source": [
    "temp = pd.concat([temp, total])\n",
    "temp"
   ]
  },
  {
   "cell_type": "code",
   "execution_count": 637,
   "metadata": {},
   "outputs": [],
   "source": [
    "temp.to_excel('2020-22년_급속충전_년월별_총_충전시간(계산).xlsx', encoding=True)"
   ]
  },
  {
   "cell_type": "markdown",
   "metadata": {},
   "source": [
    "## 주소 분리\n",
    "- 샘플수\n",
    "    - 신주소 : 7,749,439개\n",
    "    - 구주소 : 3,864,010개\n",
    "- 한 주소에 2개 다른 주소가 입력\n",
    "    - 동일 지역\n",
    "        - 신주소 : 20,837개\n",
    "        - 구주소 : 99,756개\n",
    "    - 다른 지역\n",
    "        - 신주소 : 0개\n",
    "        - 구주소 : 5,427개\n",
    "    - raw데이터의 입력값 지역이 있는 주소로 병합\n",
    "        - 예시) 전라남도 무안군 청계면 영산로 1854-16 전라남도 무안군 청계면 영산로 1854-16 -> 전라남도 무안군 청계면 영산로 1854-16\n",
    "        - 예시) 충청남도 청양군 청양읍 군량리 533 충청남도 태안군 소원면 신덕리 272 -> 충청남도 청양군 청양읍 군량리 533\n",
    "        - 예시) 전라북도 순창군 풍산면 반월리 12-4 충청남도 공주시 탄천면 삼각리 523-2 -> 전라북도 순창군 풍산면 반월리 12-4\n",
    "- 도로명 수정\n",
    "    - \"도로명주소 안내\" 참고하여 지역 코드와 맞추기위해\n",
    "        - 예시) 첨단 벤처로 108번길 -> 첨단벤처로108번길"
   ]
  },
  {
   "cell_type": "code",
   "execution_count": 25,
   "metadata": {},
   "outputs": [
    {
     "name": "stdout",
     "output_type": "stream",
     "text": [
      "<class 'pandas.core.frame.DataFrame'>\n",
      "Int64Index: 11613449 entries, 0 to 11665821\n",
      "Data columns (total 27 columns):\n",
      " #   Column        Dtype  \n",
      "---  ------        -----  \n",
      " 0   충전소명          object \n",
      " 1   충전기ID         int64  \n",
      " 2   지역            object \n",
      " 3   시군구           object \n",
      " 4   주소            object \n",
      " 5   충전기타입         object \n",
      " 6   충전시작일시        int64  \n",
      " 7   충전종료일시        int64  \n",
      " 8   충전시간          object \n",
      " 9   충전량           float64\n",
      " 10  충전용량          object \n",
      " 11  충전시작_년도       int64  \n",
      " 12  충전시작_월        int64  \n",
      " 13  충전시작_일        int64  \n",
      " 14  충전시작_시        int64  \n",
      " 15  충전시작_분        int64  \n",
      " 16  충전시작_초        int64  \n",
      " 17  충전시작일시(변환)    object \n",
      " 18  충전종료_년도       int64  \n",
      " 19  충전종료_월        int64  \n",
      " 20  충전종료_일        int64  \n",
      " 21  충전종료_시        int64  \n",
      " 22  충전종료_분        int64  \n",
      " 23  충전종료_초        int64  \n",
      " 24  충전종료일시(변환)    object \n",
      " 25  충전시간(계산)      object \n",
      " 26  raw값과_계산값_차이  object \n",
      "dtypes: float64(1), int64(15), object(11)\n",
      "memory usage: 2.4+ GB\n"
     ]
    }
   ],
   "source": [
    "df2.info()"
   ]
  },
  {
   "cell_type": "code",
   "execution_count": 220,
   "metadata": {},
   "outputs": [],
   "source": [
    "ad = df2['주소'].copy()"
   ]
  },
  {
   "cell_type": "code",
   "execution_count": 221,
   "metadata": {},
   "outputs": [
    {
     "data": {
      "text/plain": [
       "11613449"
      ]
     },
     "execution_count": 221,
     "metadata": {},
     "output_type": "execute_result"
    }
   ],
   "source": [
    "temp = ad.to_list()\n",
    "len(temp)"
   ]
  },
  {
   "cell_type": "code",
   "execution_count": 222,
   "metadata": {},
   "outputs": [
    {
     "name": "stdout",
     "output_type": "stream",
     "text": [
      "<re.Match object; span=(12, 17), match='외도1동 '>\n"
     ]
    }
   ],
   "source": [
    "old_p = re.compile('[가-힣0-9]+동 |[가-힣0-9]+동^[가-힣]|[가-힣0-9]+동[0-9]+|[가-힣0-9]+동$|[가-힣0-9]+리 |[가-힣0-9]+리[0-9]+|[가-힣0-9]+리^[가-힣]|[가-힣0-9]+리$')\n",
    "s = '제주특별자치도 제주시 외도1동 482-1'\n",
    "print(old_p.search(s))"
   ]
  },
  {
   "cell_type": "code",
   "execution_count": 223,
   "metadata": {},
   "outputs": [
    {
     "name": "stdout",
     "output_type": "stream",
     "text": [
      "<re.Match object; span=(8, 11), match='조남동'>\n"
     ]
    }
   ],
   "source": [
    "s = '경기도 시흥시 조남동'\n",
    "print(old_p.search(s))"
   ]
  },
  {
   "cell_type": "code",
   "execution_count": 224,
   "metadata": {},
   "outputs": [
    {
     "name": "stdout",
     "output_type": "stream",
     "text": [
      "<re.Match object; span=(12, 19), match='외도1동482'>\n"
     ]
    }
   ],
   "source": [
    "s = '제주특별자치도 제주시 외도1동482-1'\n",
    "print(old_p.search(s))"
   ]
  },
  {
   "cell_type": "code",
   "execution_count": 225,
   "metadata": {},
   "outputs": [
    {
     "name": "stdout",
     "output_type": "stream",
     "text": [
      "None\n"
     ]
    }
   ],
   "source": [
    "s = '강원도 평창군 용평면 탑거리길 63 , 내고장 으뜸상품 판매장 앞'\n",
    "print(old_p.search(s))"
   ]
  },
  {
   "cell_type": "code",
   "execution_count": 226,
   "metadata": {},
   "outputs": [
    {
     "name": "stdout",
     "output_type": "stream",
     "text": [
      "<re.Match object; span=(13, 17), match='덕동리 '>\n"
     ]
    }
   ],
   "source": [
    "s = '전라북도 남원시 산내면 덕동리 406'\n",
    "print(old_p.search(s))"
   ]
  },
  {
   "cell_type": "code",
   "execution_count": 227,
   "metadata": {},
   "outputs": [
    {
     "name": "stdout",
     "output_type": "stream",
     "text": [
      "<re.Match object; span=(13, 19), match='덕동리406'>\n"
     ]
    }
   ],
   "source": [
    "s = '전라북도 남원시 산내면 덕동리406'\n",
    "print(old_p.search(s))"
   ]
  },
  {
   "cell_type": "code",
   "execution_count": 228,
   "metadata": {},
   "outputs": [
    {
     "name": "stdout",
     "output_type": "stream",
     "text": [
      "<re.Match object; span=(13, 16), match='적암리'>\n"
     ]
    }
   ],
   "source": [
    "s = '충청북도 보은군 마로면 적암리'\n",
    "print(old_p.search(s))"
   ]
  },
  {
   "cell_type": "code",
   "execution_count": 230,
   "metadata": {},
   "outputs": [
    {
     "name": "stdout",
     "output_type": "stream",
     "text": [
      "7749439\n",
      "3864010\n",
      "11613449\n",
      "True\n"
     ]
    }
   ],
   "source": [
    "# 오류 주소\n",
    "    # 신 : 충청북도 단양군 적성면 기동리\n",
    "    # 신 : 제주특별자치도 제주시 외도1동 482-1\n",
    "    # 구 : 강원도 평창군 용평면 탑거리길 63 , 내고장 으뜸상품 판매장 앞\n",
    "    # 신 : 경기도 시흥시 조남동\n",
    "    # 신 : 7802945\n",
    "old_adr = []\n",
    "old_idx = []\n",
    "new_adr = []\n",
    "new_idx = []\n",
    "# new_p = re.compile('[가-힣]+로{1}|[가-힣]+로[0-9]+|[가-힣]+길|[가-힣0-9]+번길')\n",
    "old_p = re.compile('[가-힣0-9]+동 |[가-힣0-9]+동^[가-힣]|[가-힣0-9]+동[0-9]+|[가-힣0-9]+동$|[가-힣0-9]+리 |[가-힣0-9]+리[0-9]+|[가-힣0-9]+리^[가-힣]|[가-힣0-9]+리$')\n",
    "for i, s in enumerate(temp):\n",
    "    # if new_p.search(s):\n",
    "    if old_p.search(s):\n",
    "        old_adr.append(s)\n",
    "        old_idx.append(i)\n",
    "    else:\n",
    "        new_adr.append(s)\n",
    "        new_idx.append(i)\n",
    "\n",
    "print(len(new_idx))\n",
    "print(len(old_idx))\n",
    "print(len(temp))\n",
    "print(len(new_idx) + len(old_idx) == len(temp))"
   ]
  },
  {
   "cell_type": "code",
   "execution_count": 231,
   "metadata": {},
   "outputs": [
    {
     "data": {
      "text/plain": [
       "['광주광역시 북구 첨단 벤처로 108번길 9',\n",
       " '전라남도 구례군 산동면 산업로 2319',\n",
       " '전라남도 구례군 산동면 산업로 2319',\n",
       " '전라남도 구례군 산동면 노고단로1068',\n",
       " '전라남도 무안군 망운면 공항로 970-260',\n",
       " '전라남도 무안군 삼향읍 오룡1길 (E주차장-전라남도관광안내소)',\n",
       " '전라남도 무안군 삼향읍 오룡1길 (E주차장-전라남도관광안내소)',\n",
       " '전라북도 전주시 완산구 신촌3길24번지',\n",
       " '전라북도 전주시 완산구 신촌3길24번지',\n",
       " '전라북도 전주시 완산구 신촌3길24번지']"
      ]
     },
     "execution_count": 231,
     "metadata": {},
     "output_type": "execute_result"
    }
   ],
   "source": [
    "start_idx = 10*0\n",
    "new_adr[start_idx:start_idx+10]"
   ]
  },
  {
   "cell_type": "code",
   "execution_count": 232,
   "metadata": {},
   "outputs": [
    {
     "name": "stdout",
     "output_type": "stream",
     "text": [
      "서울특별시 구로구 경인로 661  지하2층 L\n"
     ]
    }
   ],
   "source": [
    "for i in new_adr:\n",
    "    if '구로구' in i:\n",
    "        print(i)\n",
    "        break"
   ]
  },
  {
   "cell_type": "code",
   "execution_count": 233,
   "metadata": {},
   "outputs": [],
   "source": [
    "# 빈칸 2개 있는것 1개로 변환\n",
    "for i, s in enumerate(new_adr):\n",
    "    if '  ' in s:\n",
    "        new_adr[i] = s.replace('  ', ' ')"
   ]
  },
  {
   "cell_type": "code",
   "execution_count": 234,
   "metadata": {},
   "outputs": [
    {
     "name": "stdout",
     "output_type": "stream",
     "text": [
      "서울특별시 구로구 경인로 661 지하2층 L\n"
     ]
    }
   ],
   "source": [
    "for i in new_adr:\n",
    "    if '구로구' in i:\n",
    "        print(i)\n",
    "        break"
   ]
  },
  {
   "cell_type": "code",
   "execution_count": 235,
   "metadata": {},
   "outputs": [],
   "source": [
    "for i in new_adr:\n",
    "    if '구로구 개봉동' in i:\n",
    "        print(i)\n",
    "        break"
   ]
  },
  {
   "cell_type": "code",
   "execution_count": 236,
   "metadata": {},
   "outputs": [
    {
     "data": {
      "text/plain": [
       "['제주특별자치도 제주시 오일장서길 26',\n",
       " '제주특별자치도 제주시 오일장서길 26',\n",
       " '제주특별자치도 제주시 오일장서길 26',\n",
       " '제주특별자치도 제주시 오일장서길 26',\n",
       " '제주특별자치도 제주시 오일장서길 26',\n",
       " '제주특별자치도 제주시 중앙로25길 17',\n",
       " '제주특별자치도 제주시 중앙로25길 17',\n",
       " '제주특별자치도 제주시 조천읍 중산간동로 601',\n",
       " '제주특별자치도 제주시 조천읍 중산간동로 601',\n",
       " '제주특별자치도 제주시 조천읍 중산간동로 601']"
      ]
     },
     "execution_count": 236,
     "metadata": {},
     "output_type": "execute_result"
    }
   ],
   "source": [
    "start_idx = 100\n",
    "new_adr[start_idx:start_idx + 10]"
   ]
  },
  {
   "cell_type": "code",
   "execution_count": 237,
   "metadata": {},
   "outputs": [
    {
     "data": {
      "text/plain": [
       "['경상남도 김해시 대동면 월촌리 770',\n",
       " '경상남도 김해시 대동면 월촌리 770',\n",
       " '경상남도 김해시 대동면 월촌리 770',\n",
       " '경상남도 김해시 대동면 월촌리 770',\n",
       " '경상북도 성주군 초전면 용봉리 129-5',\n",
       " '경상북도 성주군 초전면 용봉리 129-5',\n",
       " '강원도 인제군 기린면 현리 634-7',\n",
       " '강원도 정선군 남면 무릉리 784-4',\n",
       " '강원도 정선군 남면 무릉리 784-4',\n",
       " '강원도 정선군 남면 무릉리 784-4']"
      ]
     },
     "execution_count": 237,
     "metadata": {},
     "output_type": "execute_result"
    }
   ],
   "source": [
    "start_idx = 100\n",
    "old_adr[start_idx:start_idx + 10]"
   ]
  },
  {
   "cell_type": "markdown",
   "metadata": {},
   "source": [
    "### 신주소, 구주소 데이터 프레임 지정"
   ]
  },
  {
   "cell_type": "code",
   "execution_count": 810,
   "metadata": {},
   "outputs": [],
   "source": [
    "new_adr_df = df2.iloc[new_idx]\n",
    "old_adr_df = df2.iloc[old_idx]"
   ]
  },
  {
   "cell_type": "code",
   "execution_count": 811,
   "metadata": {},
   "outputs": [
    {
     "name": "stdout",
     "output_type": "stream",
     "text": [
      "<class 'pandas.core.frame.DataFrame'>\n",
      "Int64Index: 7749439 entries, 4 to 11665821\n",
      "Data columns (total 27 columns):\n",
      " #   Column        Dtype  \n",
      "---  ------        -----  \n",
      " 0   충전소명          object \n",
      " 1   충전기ID         int64  \n",
      " 2   지역            object \n",
      " 3   시군구           object \n",
      " 4   주소            object \n",
      " 5   충전기타입         object \n",
      " 6   충전시작일시        int64  \n",
      " 7   충전종료일시        int64  \n",
      " 8   충전시간          object \n",
      " 9   충전량           float64\n",
      " 10  충전용량          object \n",
      " 11  충전시작_년도       int64  \n",
      " 12  충전시작_월        int64  \n",
      " 13  충전시작_일        int64  \n",
      " 14  충전시작_시        int64  \n",
      " 15  충전시작_분        int64  \n",
      " 16  충전시작_초        int64  \n",
      " 17  충전시작일시(변환)    object \n",
      " 18  충전종료_년도       int64  \n",
      " 19  충전종료_월        int64  \n",
      " 20  충전종료_일        int64  \n",
      " 21  충전종료_시        int64  \n",
      " 22  충전종료_분        int64  \n",
      " 23  충전종료_초        int64  \n",
      " 24  충전종료일시(변환)    object \n",
      " 25  충전시간(계산)      object \n",
      " 26  raw값과_계산값_차이  object \n",
      "dtypes: float64(1), int64(15), object(11)\n",
      "memory usage: 1.6+ GB\n"
     ]
    }
   ],
   "source": [
    "new_adr_df.info()"
   ]
  },
  {
   "cell_type": "code",
   "execution_count": 812,
   "metadata": {},
   "outputs": [
    {
     "name": "stdout",
     "output_type": "stream",
     "text": [
      "<class 'pandas.core.frame.DataFrame'>\n",
      "Int64Index: 3864010 entries, 0 to 11665820\n",
      "Data columns (total 27 columns):\n",
      " #   Column        Dtype  \n",
      "---  ------        -----  \n",
      " 0   충전소명          object \n",
      " 1   충전기ID         int64  \n",
      " 2   지역            object \n",
      " 3   시군구           object \n",
      " 4   주소            object \n",
      " 5   충전기타입         object \n",
      " 6   충전시작일시        int64  \n",
      " 7   충전종료일시        int64  \n",
      " 8   충전시간          object \n",
      " 9   충전량           float64\n",
      " 10  충전용량          object \n",
      " 11  충전시작_년도       int64  \n",
      " 12  충전시작_월        int64  \n",
      " 13  충전시작_일        int64  \n",
      " 14  충전시작_시        int64  \n",
      " 15  충전시작_분        int64  \n",
      " 16  충전시작_초        int64  \n",
      " 17  충전시작일시(변환)    object \n",
      " 18  충전종료_년도       int64  \n",
      " 19  충전종료_월        int64  \n",
      " 20  충전종료_일        int64  \n",
      " 21  충전종료_시        int64  \n",
      " 22  충전종료_분        int64  \n",
      " 23  충전종료_초        int64  \n",
      " 24  충전종료일시(변환)    object \n",
      " 25  충전시간(계산)      object \n",
      " 26  raw값과_계산값_차이  object \n",
      "dtypes: float64(1), int64(15), object(11)\n",
      "memory usage: 825.4+ MB\n"
     ]
    }
   ],
   "source": [
    "old_adr_df.info()"
   ]
  },
  {
   "cell_type": "markdown",
   "metadata": {},
   "source": [
    "### 신주소 정리\n",
    "- 7749439 개"
   ]
  },
  {
   "cell_type": "code",
   "execution_count": 813,
   "metadata": {},
   "outputs": [
    {
     "data": {
      "text/plain": [
       "['광주광역시 북구 첨단 벤처로 108번길 9',\n",
       " '전라남도 구례군 산동면 산업로 2319',\n",
       " '전라남도 구례군 산동면 산업로 2319',\n",
       " '전라남도 구례군 산동면 노고단로1068',\n",
       " '전라남도 무안군 망운면 공항로 970-260',\n",
       " '전라남도 무안군 삼향읍 오룡1길 (E주차장-전라남도관광안내소)',\n",
       " '전라남도 무안군 삼향읍 오룡1길 (E주차장-전라남도관광안내소)',\n",
       " '전라북도 전주시 완산구 신촌3길24번지',\n",
       " '전라북도 전주시 완산구 신촌3길24번지',\n",
       " '전라북도 전주시 완산구 신촌3길24번지']"
      ]
     },
     "execution_count": 813,
     "metadata": {},
     "output_type": "execute_result"
    }
   ],
   "source": [
    "temp = new_adr_df['주소'].to_list()\n",
    "temp[:10]"
   ]
  },
  {
   "cell_type": "code",
   "execution_count": 814,
   "metadata": {},
   "outputs": [
    {
     "data": {
      "text/plain": [
       "7749439"
      ]
     },
     "execution_count": 814,
     "metadata": {},
     "output_type": "execute_result"
    }
   ],
   "source": [
    "len(temp)"
   ]
  },
  {
   "cell_type": "markdown",
   "metadata": {},
   "source": [
    "#### 주소 표기 수정\n",
    "- \"전국 도로명 부여사유 조회(2022.08.31기준)\" 파일 참고"
   ]
  },
  {
   "cell_type": "markdown",
   "metadata": {},
   "source": [
    "##### 컴마(,) 제거"
   ]
  },
  {
   "cell_type": "code",
   "execution_count": 815,
   "metadata": {},
   "outputs": [
    {
     "name": "stdout",
     "output_type": "stream",
     "text": [
      "세종특별자치시 연기면 정안세종로 1527 은하수공원, 화장시설 주차장\n"
     ]
    }
   ],
   "source": [
    "for i, s in enumerate(temp):\n",
    "    if ',' in s:\n",
    "        print(s)\n",
    "        break"
   ]
  },
  {
   "cell_type": "code",
   "execution_count": 816,
   "metadata": {},
   "outputs": [],
   "source": [
    "for i, s in enumerate(temp):\n",
    "    if ',' in s:\n",
    "        temp[i] = s.replace(',', '')"
   ]
  },
  {
   "cell_type": "code",
   "execution_count": 817,
   "metadata": {},
   "outputs": [],
   "source": [
    "for i, s in enumerate(temp):\n",
    "    if ',' in s:\n",
    "        print(s)\n",
    "        break"
   ]
  },
  {
   "cell_type": "markdown",
   "metadata": {},
   "source": [
    "##### 도로명 형식에 맞게 수정"
   ]
  },
  {
   "cell_type": "code",
   "execution_count": 818,
   "metadata": {},
   "outputs": [
    {
     "data": {
      "text/plain": [
       "['광주광역시 북구 첨단 벤처로 108번길 9',\n",
       " '전라남도 구례군 산동면 산업로 2319',\n",
       " '전라남도 구례군 산동면 산업로 2319',\n",
       " '전라남도 구례군 산동면 노고단로1068',\n",
       " '전라남도 무안군 망운면 공항로 970-260']"
      ]
     },
     "execution_count": 818,
     "metadata": {},
     "output_type": "execute_result"
    }
   ],
   "source": [
    "temp[:5]"
   ]
  },
  {
   "cell_type": "code",
   "execution_count": 819,
   "metadata": {},
   "outputs": [
    {
     "data": {
      "text/plain": [
       "'광주광역시 북구 첨단벤처로 108번길 9'"
      ]
     },
     "execution_count": 819,
     "metadata": {},
     "output_type": "execute_result"
    }
   ],
   "source": [
    "'광주광역시 북구 첨단 벤처로 108번길 9'.replace('첨단 벤처로', '첨단벤처로')"
   ]
  },
  {
   "cell_type": "code",
   "execution_count": 820,
   "metadata": {},
   "outputs": [],
   "source": [
    "for i, one in enumerate(temp):\n",
    "    if '첨단 벤처로' in one:\n",
    "        temp[i] = one.replace('첨단 벤처로', '첨단벤처로')"
   ]
  },
  {
   "cell_type": "code",
   "execution_count": 821,
   "metadata": {},
   "outputs": [
    {
     "data": {
      "text/plain": [
       "['광주광역시 북구 첨단벤처로 108번길 9',\n",
       " '전라남도 구례군 산동면 산업로 2319',\n",
       " '전라남도 구례군 산동면 산업로 2319',\n",
       " '전라남도 구례군 산동면 노고단로1068',\n",
       " '전라남도 무안군 망운면 공항로 970-260',\n",
       " '전라남도 무안군 삼향읍 오룡1길 (E주차장-전라남도관광안내소)',\n",
       " '전라남도 무안군 삼향읍 오룡1길 (E주차장-전라남도관광안내소)',\n",
       " '전라북도 전주시 완산구 신촌3길24번지',\n",
       " '전라북도 전주시 완산구 신촌3길24번지',\n",
       " '전라북도 전주시 완산구 신촌3길24번지']"
      ]
     },
     "execution_count": 821,
     "metadata": {},
     "output_type": "execute_result"
    }
   ],
   "source": [
    "temp[:10]"
   ]
  },
  {
   "cell_type": "markdown",
   "metadata": {},
   "source": [
    "##### -길과 숫자 띄어쓰기"
   ]
  },
  {
   "cell_type": "code",
   "execution_count": 822,
   "metadata": {},
   "outputs": [
    {
     "name": "stdout",
     "output_type": "stream",
     "text": [
      "전라북도 전주시 완산구 신촌3길 24번지\n"
     ]
    }
   ],
   "source": [
    "n_p = re.compile('([가-힣0-9]+길)([0-9]+)')\n",
    "s = '전라북도 전주시 완산구 신촌3길24번지'\n",
    "print(n_p.sub('\\g<1> \\g<2>', s))"
   ]
  },
  {
   "cell_type": "code",
   "execution_count": 823,
   "metadata": {},
   "outputs": [
    {
     "name": "stdout",
     "output_type": "stream",
     "text": [
      "전라남도 무안군 삼향읍 오룡1길 (E주차장-전라남도관광안내소)\n"
     ]
    }
   ],
   "source": [
    "s = '전라남도 무안군 삼향읍 오룡1길 (E주차장-전라남도관광안내소)'\n",
    "print(n_p.sub('\\g<1> \\g<2>', s))"
   ]
  },
  {
   "cell_type": "code",
   "execution_count": 824,
   "metadata": {},
   "outputs": [],
   "source": [
    "# -길과 숫자 띄어쓰기\n",
    "n_p = re.compile('([가-힣0-9]+길)([0-9]+)')\n",
    "\n",
    "for i, one in enumerate(temp):\n",
    "    if n_p.search(one):\n",
    "        temp[i] = n_p.sub('\\g<1> \\g<2>', s)"
   ]
  },
  {
   "cell_type": "code",
   "execution_count": 825,
   "metadata": {},
   "outputs": [
    {
     "data": {
      "text/plain": [
       "['강원도 강릉시 성산면 영동고속도로 231 (보광리)',\n",
       " '강원도 강릉시 성산면 영동고속도로 231 (보광리)',\n",
       " '강원도 강릉시 성산면 영동고속도로 231 (보광리)',\n",
       " '강원도 강릉시 성산면 영동고속도로 231 (보광리)',\n",
       " '강원도 강릉시 성산면 영동고속도로 232 (보광리)',\n",
       " '강원도 강릉시 성산면 영동고속도로 232 (보광리)',\n",
       " '강원도 강릉시 성산면 영동고속도로 232 (보광리)',\n",
       " '강원도 강릉시 성산면 영동고속도로 232 (보광리)',\n",
       " '경기도 이천시 마장면 중부고속도로82',\n",
       " '경기도 여주시 가남읍 여주남로 722 (본두리)']"
      ]
     },
     "execution_count": 825,
     "metadata": {},
     "output_type": "execute_result"
    }
   ],
   "source": [
    "start_idx = 10*11\n",
    "temp[start_idx:start_idx+10]"
   ]
  },
  {
   "cell_type": "markdown",
   "metadata": {},
   "source": [
    "##### -로와 숫자 띄어쓰기"
   ]
  },
  {
   "cell_type": "code",
   "execution_count": 826,
   "metadata": {},
   "outputs": [
    {
     "name": "stdout",
     "output_type": "stream",
     "text": [
      "경기도 이천시 마장면 중부고속도로 82\n"
     ]
    }
   ],
   "source": [
    "n_p = re.compile('([가-힣0-9]+로)([0-9]+)')\n",
    "s = '경기도 이천시 마장면 중부고속도로82'\n",
    "print(n_p.sub('\\g<1> \\g<2>', s))"
   ]
  },
  {
   "cell_type": "code",
   "execution_count": 827,
   "metadata": {},
   "outputs": [
    {
     "name": "stdout",
     "output_type": "stream",
     "text": [
      "강원도 강릉시 성산면 영동고속도로 232 (보광리)\n"
     ]
    }
   ],
   "source": [
    "s = '강원도 강릉시 성산면 영동고속도로 232 (보광리)'\n",
    "print(n_p.sub('\\g<1> \\g<2>', s))"
   ]
  },
  {
   "cell_type": "code",
   "execution_count": 828,
   "metadata": {},
   "outputs": [],
   "source": [
    "# -로와 숫자 띄어쓰기\n",
    "n_p = re.compile('([가-힣0-9]+로)([0-9]+)')\n",
    "\n",
    "for i, one in enumerate(temp):\n",
    "    if n_p.search(one):\n",
    "        temp[i] = n_p.sub('\\g<1> \\g<2>', s)"
   ]
  },
  {
   "cell_type": "code",
   "execution_count": 829,
   "metadata": {},
   "outputs": [
    {
     "data": {
      "text/plain": [
       "['강원도 강릉시 성산면 영동고속도로 231 (보광리)',\n",
       " '강원도 강릉시 성산면 영동고속도로 231 (보광리)',\n",
       " '강원도 강릉시 성산면 영동고속도로 231 (보광리)',\n",
       " '강원도 강릉시 성산면 영동고속도로 231 (보광리)',\n",
       " '강원도 강릉시 성산면 영동고속도로 232 (보광리)',\n",
       " '강원도 강릉시 성산면 영동고속도로 232 (보광리)',\n",
       " '강원도 강릉시 성산면 영동고속도로 232 (보광리)',\n",
       " '강원도 강릉시 성산면 영동고속도로 232 (보광리)',\n",
       " '강원도 강릉시 성산면 영동고속도로 232 (보광리)',\n",
       " '경기도 여주시 가남읍 여주남로 722 (본두리)']"
      ]
     },
     "execution_count": 829,
     "metadata": {},
     "output_type": "execute_result"
    }
   ],
   "source": [
    "start_idx = 10*11\n",
    "temp[start_idx:start_idx+10]"
   ]
  },
  {
   "cell_type": "code",
   "execution_count": 830,
   "metadata": {},
   "outputs": [
    {
     "data": {
      "text/plain": [
       "['경상북도 상주시 화서면 터골길 51-25',\n",
       " '강원도 강릉시 성산면 영동고속도로 232 (보광리)',\n",
       " '경상북도 안동시 풍산읍 풍산태사로 1903-27',\n",
       " '경상북도 안동시 풍산읍 풍산태사로 1903-27',\n",
       " '경상북도 안동시 풍산읍 풍산태사로 1903-27',\n",
       " '경상북도 안동시 풍산읍 풍산태사로 1913-40',\n",
       " '경상북도 안동시 풍산읍 풍산태사로 1913-40',\n",
       " '전라남도 순천시 남승룡로 66  국가정원1호길 47 서문 주차장 우측',\n",
       " '전라남도 고흥군 과역면 무궁화길 12',\n",
       " '전라남도 고흥군 과역면 무궁화길 12']"
      ]
     },
     "execution_count": 830,
     "metadata": {},
     "output_type": "execute_result"
    }
   ],
   "source": [
    "start_idx = 10*1000\n",
    "temp[start_idx:start_idx+10]"
   ]
  },
  {
   "cell_type": "markdown",
   "metadata": {},
   "source": [
    "##### -로-번-길 붙이기"
   ]
  },
  {
   "cell_type": "code",
   "execution_count": 831,
   "metadata": {},
   "outputs": [
    {
     "name": "stdout",
     "output_type": "stream",
     "text": [
      "<re.Match object; span=(9, 20), match='첨단벤처로 108번길'>\n",
      "광주광역시 북구 첨단벤처로108번길 9\n"
     ]
    }
   ],
   "source": [
    "n_p = re.compile('([가-힣0-9]+로) ([0-9]+번[가-힣]*길)')\n",
    "s = '광주광역시 북구 첨단벤처로 108번길 9'\n",
    "print(n_p.search(s))\n",
    "print(n_p.sub('\\g<1>\\g<2>', s))"
   ]
  },
  {
   "cell_type": "code",
   "execution_count": 832,
   "metadata": {},
   "outputs": [],
   "source": [
    "# -로-번-길 붙이기\n",
    "n_p = re.compile('([가-힣0-9]+로) ([0-9]+번[가-힣]*길)')\n",
    "\n",
    "for i, one in enumerate(temp):\n",
    "    if n_p.search(one):\n",
    "        temp[i] = n_p.sub('\\g<1>\\g<2>', s)"
   ]
  },
  {
   "cell_type": "code",
   "execution_count": 833,
   "metadata": {},
   "outputs": [
    {
     "name": "stdout",
     "output_type": "stream",
     "text": [
      "전라남도 무안군 망운면 공항로 970-260\n"
     ]
    }
   ],
   "source": [
    "for one in temp:\n",
    "    if '공항로' in one:\n",
    "        print(one)\n",
    "        break"
   ]
  },
  {
   "cell_type": "code",
   "execution_count": 834,
   "metadata": {},
   "outputs": [
    {
     "name": "stdout",
     "output_type": "stream",
     "text": [
      "대구광역시 남구 앞산순환로 574-110\n"
     ]
    }
   ],
   "source": [
    "for one in temp:\n",
    "    if '앞산순환로' in one:\n",
    "        print(one)\n",
    "        break"
   ]
  },
  {
   "cell_type": "code",
   "execution_count": 835,
   "metadata": {},
   "outputs": [
    {
     "name": "stdout",
     "output_type": "stream",
     "text": [
      "<re.Match object; span=(4, 12), match='양재대로 31길'>\n",
      "강남구 양재대로31길\n"
     ]
    }
   ],
   "source": [
    "n_p = re.compile('([가-힣0-9]+로) ([0-9]+[가-힣]*길)')\n",
    "s = '강남구 양재대로 31길'\n",
    "print(n_p.search(s))\n",
    "print(n_p.sub('\\g<1>\\g<2>', s))"
   ]
  },
  {
   "cell_type": "code",
   "execution_count": 836,
   "metadata": {},
   "outputs": [
    {
     "name": "stdout",
     "output_type": "stream",
     "text": [
      "None\n",
      "강남구 양재대로\n"
     ]
    }
   ],
   "source": [
    "s = '강남구 양재대로'\n",
    "print(n_p.search(s))\n",
    "print(n_p.sub('\\g<1>\\g<2>', s))"
   ]
  },
  {
   "cell_type": "code",
   "execution_count": 837,
   "metadata": {},
   "outputs": [
    {
     "name": "stdout",
     "output_type": "stream",
     "text": [
      "None\n",
      "강남구 양재대로31길\n"
     ]
    }
   ],
   "source": [
    "s = '강남구 양재대로31길'\n",
    "print(n_p.search(s))\n",
    "print(n_p.sub('\\g<1>\\g<2>', s))"
   ]
  },
  {
   "cell_type": "code",
   "execution_count": 838,
   "metadata": {},
   "outputs": [],
   "source": [
    "# -로-길 붙이기\n",
    "n_p = re.compile('([가-힣0-9]+로) ([0-9]+[가-힣]*길)')\n",
    "\n",
    "for i, one in enumerate(temp):\n",
    "    if n_p.search(one):\n",
    "        temp[i] = n_p.sub('\\g<1>\\g<2>', s)"
   ]
  },
  {
   "cell_type": "markdown",
   "metadata": {},
   "source": [
    "##### -앙-길 붙이기"
   ]
  },
  {
   "cell_type": "code",
   "execution_count": 839,
   "metadata": {},
   "outputs": [
    {
     "name": "stdout",
     "output_type": "stream",
     "text": [
      "<re.Match object; span=(10, 17), match='창리중앙 3길'>\n",
      "대구광역시 달성군 창리중앙3길\n"
     ]
    }
   ],
   "source": [
    "n_p = re.compile('([가-힣0-9]+앙) ([0-9]+[가-힣]*길)')\n",
    "s = '대구광역시 달성군 창리중앙 3길'\n",
    "print(n_p.search(s))\n",
    "print(n_p.sub('\\g<1>\\g<2>', s))"
   ]
  },
  {
   "cell_type": "code",
   "execution_count": 840,
   "metadata": {},
   "outputs": [
    {
     "name": "stdout",
     "output_type": "stream",
     "text": [
      "None\n",
      "대구광역시 달성군 창리중앙3길\n"
     ]
    }
   ],
   "source": [
    "s = '대구광역시 달성군 창리중앙3길'\n",
    "print(n_p.search(s))\n",
    "print(n_p.sub('\\g<1>\\g<2>', s))"
   ]
  },
  {
   "cell_type": "code",
   "execution_count": 841,
   "metadata": {},
   "outputs": [
    {
     "name": "stdout",
     "output_type": "stream",
     "text": [
      "None\n",
      "대구광역시 달성군 창리중앙\n"
     ]
    }
   ],
   "source": [
    "s = '대구광역시 달성군 창리중앙'\n",
    "print(n_p.search(s))\n",
    "print(n_p.sub('\\g<1>\\g<2>', s))"
   ]
  },
  {
   "cell_type": "code",
   "execution_count": 842,
   "metadata": {},
   "outputs": [],
   "source": [
    "# -앙-길 붙이기\n",
    "n_p = re.compile('([가-힣0-9]+앙) ([0-9]+[가-힣]*길)')\n",
    "\n",
    "for i, one in enumerate(temp):\n",
    "    if n_p.search(one):\n",
    "        temp[i] = n_p.sub('\\g<1>\\g<2>', s)"
   ]
  },
  {
   "cell_type": "markdown",
   "metadata": {},
   "source": [
    "##### -장-길 붙이기"
   ]
  },
  {
   "cell_type": "code",
   "execution_count": 843,
   "metadata": {},
   "outputs": [
    {
     "name": "stdout",
     "output_type": "stream",
     "text": [
      "<re.Match object; span=(9, 16), match='관문시장 1길'>\n",
      "대구광역시 남구 관문시장1길\n"
     ]
    }
   ],
   "source": [
    "n_p = re.compile('([가-힣0-9]+장) ([0-9]+[가-힣]*길)')\n",
    "s = '대구광역시 남구 관문시장 1길'\n",
    "print(n_p.search(s))\n",
    "print(n_p.sub('\\g<1>\\g<2>', s))"
   ]
  },
  {
   "cell_type": "code",
   "execution_count": 844,
   "metadata": {},
   "outputs": [
    {
     "name": "stdout",
     "output_type": "stream",
     "text": [
      "None\n",
      "대구광역시 남구 관문시장1길\n"
     ]
    }
   ],
   "source": [
    "s = '대구광역시 남구 관문시장1길'\n",
    "print(n_p.search(s))\n",
    "print(n_p.sub('\\g<1>\\g<2>', s))"
   ]
  },
  {
   "cell_type": "code",
   "execution_count": 845,
   "metadata": {},
   "outputs": [
    {
     "name": "stdout",
     "output_type": "stream",
     "text": [
      "None\n",
      "대구광역시 남구 관문시장\n"
     ]
    }
   ],
   "source": [
    "s = '대구광역시 남구 관문시장'\n",
    "print(n_p.search(s))\n",
    "print(n_p.sub('\\g<1>\\g<2>', s))"
   ]
  },
  {
   "cell_type": "code",
   "execution_count": 846,
   "metadata": {},
   "outputs": [],
   "source": [
    "# -장-길 붙이기\n",
    "n_p = re.compile('([가-힣0-9]+장) ([0-9]+[가-힣]*길)')\n",
    "\n",
    "for i, one in enumerate(temp):\n",
    "    if n_p.search(one):\n",
    "        temp[i] = n_p.sub('\\g<1>\\g<2>', s)"
   ]
  },
  {
   "cell_type": "code",
   "execution_count": 847,
   "metadata": {},
   "outputs": [],
   "source": [
    "for one in temp:\n",
    "    if '대경' in one:\n",
    "        print(one)\n",
    "        break"
   ]
  },
  {
   "cell_type": "code",
   "execution_count": 848,
   "metadata": {},
   "outputs": [],
   "source": [
    "for one in temp:\n",
    "    if '빛그린' in one:\n",
    "        print(one)\n",
    "        break"
   ]
  },
  {
   "cell_type": "code",
   "execution_count": 849,
   "metadata": {},
   "outputs": [],
   "source": [
    "for one in temp:\n",
    "    if '빛동' in one:\n",
    "        print(one)\n",
    "        break"
   ]
  },
  {
   "cell_type": "code",
   "execution_count": 850,
   "metadata": {},
   "outputs": [],
   "source": [
    "for one in temp:\n",
    "    if '둥지' in one:\n",
    "        print(one)\n",
    "        break"
   ]
  },
  {
   "cell_type": "markdown",
   "metadata": {},
   "source": [
    "#### 복수 주소 오류\n",
    "- 한 주소에 2개 주소 들어있는 것 처리"
   ]
  },
  {
   "cell_type": "markdown",
   "metadata": {},
   "source": [
    "##### 동일지역\n",
    "- index(new_adr_df) : 1446642"
   ]
  },
  {
   "cell_type": "code",
   "execution_count": 851,
   "metadata": {},
   "outputs": [
    {
     "data": {
      "text/plain": [
       "'전라남도 무안군 청계면 영산로 1854-16 전라남도 무안군 청계면 영산로 1854-16'"
      ]
     },
     "execution_count": 851,
     "metadata": {},
     "output_type": "execute_result"
    }
   ],
   "source": [
    "new_adr_df.loc[1446642, '주소']"
   ]
  },
  {
   "cell_type": "code",
   "execution_count": 852,
   "metadata": {},
   "outputs": [
    {
     "data": {
      "text/plain": [
       "['전라남도 무안군 망운면 운해로 1436-10']"
      ]
     },
     "execution_count": 852,
     "metadata": {},
     "output_type": "execute_result"
    }
   ],
   "source": [
    "'전라남도 무안군 망운면 운해로 1436-10'.replace(' 전라남도', '$전라남도').split('$')"
   ]
  },
  {
   "cell_type": "code",
   "execution_count": 853,
   "metadata": {},
   "outputs": [
    {
     "data": {
      "text/plain": [
       "850930"
      ]
     },
     "execution_count": 853,
     "metadata": {},
     "output_type": "execute_result"
    }
   ],
   "source": [
    "temp.index('전라남도 무안군 망운면 운해로 1436-10 전라남도 함평군 신광면 학동로 1398-9')"
   ]
  },
  {
   "cell_type": "code",
   "execution_count": 854,
   "metadata": {},
   "outputs": [
    {
     "data": {
      "text/plain": [
       "'전라남도 무안군 망운면 운해로 1436-10 전라남도 함평군 신광면 학동로 1398-9'"
      ]
     },
     "execution_count": 854,
     "metadata": {},
     "output_type": "execute_result"
    }
   ],
   "source": [
    "temp[850930]"
   ]
  },
  {
   "cell_type": "code",
   "execution_count": 855,
   "metadata": {},
   "outputs": [
    {
     "data": {
      "text/plain": [
       "['북구', '구례군', '구례군', '구례군', '무안군']"
      ]
     },
     "execution_count": 855,
     "metadata": {},
     "output_type": "execute_result"
    }
   ],
   "source": [
    "temp_si = new_adr_df['시군구'].to_list()\n",
    "temp_si[:5]"
   ]
  },
  {
   "cell_type": "code",
   "execution_count": 856,
   "metadata": {},
   "outputs": [],
   "source": [
    "count = 0\n",
    "for i, one in enumerate(temp):\n",
    "    si = list(one.split())[0]\n",
    "    one = one.replace(' ' + si, '$' + si)\n",
    "    multi_adr = list(one.split('$'))\n",
    "    if len(multi_adr) == 2:\n",
    "        count += 1\n",
    "    for j, two in enumerate(multi_adr):\n",
    "        if temp_si[i] in two:\n",
    "            temp[i] = multi_adr[j]"
   ]
  },
  {
   "cell_type": "code",
   "execution_count": 857,
   "metadata": {},
   "outputs": [
    {
     "data": {
      "text/plain": [
       "'전라남도 무안군 망운면 운해로 1436-10'"
      ]
     },
     "execution_count": 857,
     "metadata": {},
     "output_type": "execute_result"
    }
   ],
   "source": [
    "temp[850930]"
   ]
  },
  {
   "cell_type": "code",
   "execution_count": 858,
   "metadata": {},
   "outputs": [
    {
     "data": {
      "text/plain": [
       "20837"
      ]
     },
     "execution_count": 858,
     "metadata": {},
     "output_type": "execute_result"
    }
   ],
   "source": [
    "count"
   ]
  },
  {
   "cell_type": "markdown",
   "metadata": {},
   "source": [
    "##### 다른지역\n",
    "- index(new_adr_df) : "
   ]
  },
  {
   "cell_type": "code",
   "execution_count": 859,
   "metadata": {},
   "outputs": [
    {
     "data": {
      "text/plain": [
       "array(['광주광역시', '전라남도', '전라북도', '제주특별자치도', '세종특별자치시', '서울특별시', '대전광역시',\n",
       "       '경기도', '인천광역시', '경상남도', '강원도', '충청북도', '경상북도', '충청남도', '울산광역시',\n",
       "       '대구광역시', '부산광역시'], dtype=object)"
      ]
     },
     "execution_count": 859,
     "metadata": {},
     "output_type": "execute_result"
    }
   ],
   "source": [
    "new_adr_df['지역'].unique()"
   ]
  },
  {
   "cell_type": "code",
   "execution_count": 879,
   "metadata": {},
   "outputs": [],
   "source": [
    "sep = ' 광주광역시| 전라남도| 전라북도| 제주특별자치도| 세종특별자치시| 서울특별시| 대전광역시| 경기도| 인천광역시| 경상남도| 강원도| 충청북도| 경상북도| 충청남도| 울산광역시| 대구광역시| 부산광역시'"
   ]
  },
  {
   "cell_type": "code",
   "execution_count": 959,
   "metadata": {},
   "outputs": [
    {
     "data": {
      "text/plain": [
       "['광주광역시 북구']"
      ]
     },
     "execution_count": 959,
     "metadata": {},
     "output_type": "execute_result"
    }
   ],
   "source": [
    "re.split(sep, '광주광역시 북구')"
   ]
  },
  {
   "cell_type": "code",
   "execution_count": 960,
   "metadata": {},
   "outputs": [
    {
     "data": {
      "text/plain": [
       "1"
      ]
     },
     "execution_count": 960,
     "metadata": {},
     "output_type": "execute_result"
    }
   ],
   "source": [
    "len(re.split(sep, '광주광역시 북구'))"
   ]
  },
  {
   "cell_type": "code",
   "execution_count": 957,
   "metadata": {},
   "outputs": [
    {
     "data": {
      "text/plain": [
       "['광주광역시', '']"
      ]
     },
     "execution_count": 957,
     "metadata": {},
     "output_type": "execute_result"
    }
   ],
   "source": [
    "re.split(sep, '광주광역시 충청북도')"
   ]
  },
  {
   "cell_type": "code",
   "execution_count": 958,
   "metadata": {},
   "outputs": [
    {
     "data": {
      "text/plain": [
       "2"
      ]
     },
     "execution_count": 958,
     "metadata": {},
     "output_type": "execute_result"
    }
   ],
   "source": [
    "len(re.split(sep, '광주광역시 충청북도'))"
   ]
  },
  {
   "cell_type": "code",
   "execution_count": 882,
   "metadata": {},
   "outputs": [],
   "source": [
    "count = 0\n",
    "for i, one in enumerate(temp):\n",
    "    multi_local = list(re.split(sep, one))\n",
    "    if len(multi_local) == 2:\n",
    "        count += 1"
   ]
  },
  {
   "cell_type": "code",
   "execution_count": 883,
   "metadata": {},
   "outputs": [
    {
     "data": {
      "text/plain": [
       "0"
      ]
     },
     "execution_count": 883,
     "metadata": {},
     "output_type": "execute_result"
    }
   ],
   "source": [
    "count"
   ]
  },
  {
   "cell_type": "code",
   "execution_count": 886,
   "metadata": {},
   "outputs": [
    {
     "name": "stderr",
     "output_type": "stream",
     "text": [
      "C:\\Users\\kbj\\AppData\\Local\\Temp\\ipykernel_15028\\2793901220.py:1: SettingWithCopyWarning: \n",
      "A value is trying to be set on a copy of a slice from a DataFrame.\n",
      "Try using .loc[row_indexer,col_indexer] = value instead\n",
      "\n",
      "See the caveats in the documentation: https://pandas.pydata.org/pandas-docs/stable/user_guide/indexing.html#returning-a-view-versus-a-copy\n",
      "  new_adr_df['주소'] = temp\n"
     ]
    }
   ],
   "source": [
    "new_adr_df['주소'] = temp"
   ]
  },
  {
   "cell_type": "code",
   "execution_count": 887,
   "metadata": {},
   "outputs": [
    {
     "data": {
      "text/plain": [
       "4            광주광역시 북구 첨단벤처로108번길 9\n",
       "8            전라남도 구례군 산동면 산업로 2319\n",
       "9            전라남도 구례군 산동면 산업로 2319\n",
       "10    강원도 강릉시 성산면 영동고속도로 232 (보광리)\n",
       "15        전라남도 무안군 망운면 공항로 970-260\n",
       "Name: 주소, dtype: object"
      ]
     },
     "execution_count": 887,
     "metadata": {},
     "output_type": "execute_result"
    }
   ],
   "source": [
    "new_adr_df['주소'].head()"
   ]
  },
  {
   "cell_type": "code",
   "execution_count": 888,
   "metadata": {},
   "outputs": [
    {
     "name": "stdout",
     "output_type": "stream",
     "text": [
      "<class 'pandas.core.series.Series'>\n",
      "Int64Index: 7749439 entries, 4 to 11665821\n",
      "Series name: 주소\n",
      "Non-Null Count    Dtype \n",
      "--------------    ----- \n",
      "7749439 non-null  object\n",
      "dtypes: object(1)\n",
      "memory usage: 376.2+ MB\n"
     ]
    }
   ],
   "source": [
    "# data : 7749439 개\n",
    "new_adr_df['주소'].info()"
   ]
  },
  {
   "cell_type": "markdown",
   "metadata": {},
   "source": [
    "### 구주소 정리\n",
    "- 3810504 개"
   ]
  },
  {
   "cell_type": "code",
   "execution_count": 889,
   "metadata": {},
   "outputs": [
    {
     "data": {
      "text/plain": [
       "['강원도 인제군 상남면 하남리 339-7(양양방향)',\n",
       " '강원도 인제군 상남면 하남리 339-7(양양방향)',\n",
       " '강원도 인제군 상남면 하남리 339-7(양양방향)',\n",
       " '강원도 인제군 상남면 하남리 339-7(양양방향)',\n",
       " '전라남도 순천시 해룡면 남가리 733-73',\n",
       " '전라남도 순천시 해룡면 남가리 733-73',\n",
       " '전라남도 순천시 해룡면 남가리 733-73',\n",
       " '전라남도 장성군 북하면 약수리 252-6',\n",
       " '전라남도 장성군 북하면 신성리 427-2',\n",
       " '전라북도 부안군 변산면 격포리 283-1']"
      ]
     },
     "execution_count": 889,
     "metadata": {},
     "output_type": "execute_result"
    }
   ],
   "source": [
    "temp = old_adr_df['주소'].to_list()\n",
    "temp[:10]"
   ]
  },
  {
   "cell_type": "markdown",
   "metadata": {},
   "source": [
    "##### 컴마(,) 제거"
   ]
  },
  {
   "cell_type": "code",
   "execution_count": 890,
   "metadata": {},
   "outputs": [
    {
     "name": "stdout",
     "output_type": "stream",
     "text": [
      "전라남도 화순군 화순읍 훈리 31, 군청 후면 주차장\n"
     ]
    }
   ],
   "source": [
    "for i, s in enumerate(temp):\n",
    "    if ',' in s:\n",
    "        print(s)\n",
    "        break"
   ]
  },
  {
   "cell_type": "code",
   "execution_count": 891,
   "metadata": {},
   "outputs": [],
   "source": [
    "for i, s in enumerate(temp):\n",
    "    if ',' in s:\n",
    "        temp[i] = s.replace(',', '')"
   ]
  },
  {
   "cell_type": "code",
   "execution_count": 892,
   "metadata": {},
   "outputs": [],
   "source": [
    "for i, s in enumerate(temp):\n",
    "    if ',' in s:\n",
    "        print(s)\n",
    "        break"
   ]
  },
  {
   "cell_type": "markdown",
   "metadata": {},
   "source": [
    "##### -동과 숫자 띄어쓰기"
   ]
  },
  {
   "cell_type": "code",
   "execution_count": 893,
   "metadata": {},
   "outputs": [
    {
     "name": "stdout",
     "output_type": "stream",
     "text": [
      "제주특별자치도 제주시 연동 2334-4\n"
     ]
    }
   ],
   "source": [
    "n_p = re.compile('([가-힣0-9]+동)([0-9]+)')\n",
    "s = '제주특별자치도 제주시 연동2334-4'\n",
    "print(n_p.sub('\\g<1> \\g<2>', s))"
   ]
  },
  {
   "cell_type": "code",
   "execution_count": 894,
   "metadata": {},
   "outputs": [
    {
     "name": "stdout",
     "output_type": "stream",
     "text": [
      "전라북도 정읍시 내장동 52\n"
     ]
    }
   ],
   "source": [
    "s = '전라북도 정읍시 내장동 52'\n",
    "print(n_p.sub('\\g<1> \\g<2>', s))"
   ]
  },
  {
   "cell_type": "code",
   "execution_count": 895,
   "metadata": {},
   "outputs": [],
   "source": [
    "# -동과 숫자 띄어쓰기\n",
    "n_p = re.compile('([가-힣0-9]+동)([0-9]+)')\n",
    "\n",
    "for i, one in enumerate(temp):\n",
    "    if n_p.search(one):\n",
    "        temp[i] = n_p.sub('\\g<1> \\g<2>', s)"
   ]
  },
  {
   "cell_type": "code",
   "execution_count": 896,
   "metadata": {},
   "outputs": [
    {
     "data": {
      "text/plain": [
       "['전라남도 영암군 영암읍 개신리 484-47',\n",
       " '전라북도 남원시 산내면 덕동리 406',\n",
       " '전라북도 정읍시 내장동 52',\n",
       " '전라북도 정읍시 내장동 169-1',\n",
       " '전라북도 무주군 설천면 삼공리 411',\n",
       " '전라북도 무주군 설천면 삼공리 411',\n",
       " '전라북도 무주군 설천면 삼공리 411',\n",
       " '전라북도 정읍시 내장동 52',\n",
       " '전라북도 정읍시 내장동 52',\n",
       " '전라북도 정읍시 내장동 52']"
      ]
     },
     "execution_count": 896,
     "metadata": {},
     "output_type": "execute_result"
    }
   ],
   "source": [
    "start_idx = 10*1\n",
    "temp[start_idx:start_idx+10]"
   ]
  },
  {
   "cell_type": "markdown",
   "metadata": {},
   "source": [
    "##### -리과 숫자 띄어쓰기"
   ]
  },
  {
   "cell_type": "code",
   "execution_count": 897,
   "metadata": {},
   "outputs": [
    {
     "name": "stdout",
     "output_type": "stream",
     "text": [
      "전라남도 영암군 영암읍 개신리 484-47\n"
     ]
    }
   ],
   "source": [
    "n_p = re.compile('([가-힣0-9]+리)([0-9]+)')\n",
    "s = '전라남도 영암군 영암읍 개신리484-47'\n",
    "print(n_p.sub('\\g<1> \\g<2>', s))"
   ]
  },
  {
   "cell_type": "code",
   "execution_count": 898,
   "metadata": {},
   "outputs": [
    {
     "name": "stdout",
     "output_type": "stream",
     "text": [
      "충청북도 단양군 적성면 기동리\n"
     ]
    }
   ],
   "source": [
    "s = '충청북도 단양군 적성면 기동리'\n",
    "print(n_p.sub('\\g<1> \\g<2>', s))"
   ]
  },
  {
   "cell_type": "code",
   "execution_count": 899,
   "metadata": {},
   "outputs": [
    {
     "name": "stdout",
     "output_type": "stream",
     "text": [
      "충청북도 괴산군 괴산읍 서부리 654\n"
     ]
    }
   ],
   "source": [
    "s = '충청북도 괴산군 괴산읍 서부리 654'\n",
    "print(n_p.sub('\\g<1> \\g<2>', s))"
   ]
  },
  {
   "cell_type": "code",
   "execution_count": 900,
   "metadata": {},
   "outputs": [
    {
     "name": "stdout",
     "output_type": "stream",
     "text": [
      "전라북도 익산시 함열읍 와리164\n"
     ]
    }
   ],
   "source": [
    "for i, one in enumerate(temp):\n",
    "    if n_p.search(one):\n",
    "        print(one)\n",
    "        break"
   ]
  },
  {
   "cell_type": "code",
   "execution_count": 901,
   "metadata": {},
   "outputs": [],
   "source": [
    "# -리과 숫자 띄어쓰기\n",
    "n_p = re.compile('([가-힣0-9]+리)([0-9]+)')\n",
    "\n",
    "for i, one in enumerate(temp):\n",
    "    if n_p.search(one):\n",
    "        temp[i] = n_p.sub('\\g<1> \\g<2>', s)"
   ]
  },
  {
   "cell_type": "code",
   "execution_count": 902,
   "metadata": {},
   "outputs": [],
   "source": [
    "for i, one in enumerate(temp):\n",
    "    if n_p.search(one):\n",
    "        print(one)\n",
    "        break"
   ]
  },
  {
   "cell_type": "markdown",
   "metadata": {},
   "source": [
    "#### 복수 주소 정리\n",
    "- 한 주소에 2개 들어있는 것 처리"
   ]
  },
  {
   "cell_type": "markdown",
   "metadata": {},
   "source": [
    "##### 동일 지역"
   ]
  },
  {
   "cell_type": "code",
   "execution_count": 903,
   "metadata": {},
   "outputs": [
    {
     "name": "stdout",
     "output_type": "stream",
     "text": [
      "<class 'pandas.core.series.Series'>\n",
      "Int64Index: 3864010 entries, 0 to 11665820\n",
      "Series name: 주소\n",
      "Non-Null Count    Dtype \n",
      "--------------    ----- \n",
      "3864010 non-null  object\n",
      "dtypes: object(1)\n",
      "memory usage: 59.0+ MB\n"
     ]
    }
   ],
   "source": [
    "old_adr_df['주소'].info()"
   ]
  },
  {
   "cell_type": "code",
   "execution_count": 904,
   "metadata": {},
   "outputs": [
    {
     "name": "stdout",
     "output_type": "stream",
     "text": [
      "382258\n"
     ]
    }
   ],
   "source": [
    "for i, s in enumerate(old_adr_df['주소']):\n",
    "    if ('청양군' in s) and ('태안군' in s):\n",
    "        print(i)\n",
    "        break"
   ]
  },
  {
   "cell_type": "code",
   "execution_count": 905,
   "metadata": {},
   "outputs": [
    {
     "data": {
      "text/plain": [
       "'충청남도 청양군 청양읍 군량리 533 충청남도 태안군 소원면 신덕리 272'"
      ]
     },
     "execution_count": 905,
     "metadata": {},
     "output_type": "execute_result"
    }
   ],
   "source": [
    "old_adr_df['주소'].to_list()[382258]"
   ]
  },
  {
   "cell_type": "code",
   "execution_count": 906,
   "metadata": {},
   "outputs": [
    {
     "data": {
      "text/plain": [
       "382258"
      ]
     },
     "execution_count": 906,
     "metadata": {},
     "output_type": "execute_result"
    }
   ],
   "source": [
    "temp.index('충청남도 청양군 청양읍 군량리 533 충청남도 태안군 소원면 신덕리 272')"
   ]
  },
  {
   "cell_type": "code",
   "execution_count": 907,
   "metadata": {},
   "outputs": [
    {
     "data": {
      "text/plain": [
       "'충청남도 청양군 청양읍 군량리 533 충청남도 태안군 소원면 신덕리 272'"
      ]
     },
     "execution_count": 907,
     "metadata": {},
     "output_type": "execute_result"
    }
   ],
   "source": [
    "temp[382258]"
   ]
  },
  {
   "cell_type": "code",
   "execution_count": 908,
   "metadata": {},
   "outputs": [
    {
     "data": {
      "text/plain": [
       "['인제군', '인제군', '인제군', '인제군', '순천시']"
      ]
     },
     "execution_count": 908,
     "metadata": {},
     "output_type": "execute_result"
    }
   ],
   "source": [
    "temp_si = old_adr_df['시군구'].to_list()\n",
    "temp_si[:5]"
   ]
  },
  {
   "cell_type": "code",
   "execution_count": 909,
   "metadata": {},
   "outputs": [],
   "source": [
    "count = 0\n",
    "for i, one in enumerate(temp):\n",
    "    si = list(one.split())[0]\n",
    "    one = one.replace(' ' + si, '$' + si)\n",
    "    multi_adr = list(one.split('$'))\n",
    "    if len(multi_adr) == 2:\n",
    "        count += 1\n",
    "    for j, two in enumerate(multi_adr):\n",
    "        if temp_si[i] in two:\n",
    "            temp[i] = multi_adr[j]"
   ]
  },
  {
   "cell_type": "code",
   "execution_count": 910,
   "metadata": {},
   "outputs": [
    {
     "data": {
      "text/plain": [
       "'충청남도 청양군 청양읍 군량리 533'"
      ]
     },
     "execution_count": 910,
     "metadata": {},
     "output_type": "execute_result"
    }
   ],
   "source": [
    "temp[382258]"
   ]
  },
  {
   "cell_type": "code",
   "execution_count": 911,
   "metadata": {},
   "outputs": [
    {
     "data": {
      "text/plain": [
       "99756"
      ]
     },
     "execution_count": 911,
     "metadata": {},
     "output_type": "execute_result"
    }
   ],
   "source": [
    "count"
   ]
  },
  {
   "cell_type": "markdown",
   "metadata": {},
   "source": [
    "##### 다른 지역"
   ]
  },
  {
   "cell_type": "code",
   "execution_count": 912,
   "metadata": {},
   "outputs": [],
   "source": [
    "rep_dict = {\" 광주광역시\":\"$광주광역시\" ,\" 전라남도\":\"$전라남도\",\" 전라북도\":\"$전라북도\",\" 제주특별자치도\":\"$제주특별자치도\",\" 세종특별자치시\":\"$세종특별자치시\",\" 서울특별시\":\"$서울특별시\",\" 대전광역시\":\"$대전광역시\",\" 경기도\":\"$경기도\",\" 인천광역시\":\"$인천광역시\",\" 경상남도\":\"$경상남도\",\" 강원도\":\"$강원도\",\" 충청북도\":\"$충청북도\",\" 경상북도\":\"$경상북도\",\" 충청남도\":\"$충청남도\",\" 울산광역시\":\"$울산광역시\",\" 대구광역시\":\"$대구광역시\",\" 부산광역시\":\"$부산광역시\"}"
   ]
  },
  {
   "cell_type": "code",
   "execution_count": 913,
   "metadata": {},
   "outputs": [
    {
     "name": "stdout",
     "output_type": "stream",
     "text": [
      " 광주광역시 $광주광역시\n",
      " 전라남도 $전라남도\n",
      " 전라북도 $전라북도\n",
      " 제주특별자치도 $제주특별자치도\n",
      " 세종특별자치시 $세종특별자치시\n",
      " 서울특별시 $서울특별시\n",
      " 대전광역시 $대전광역시\n",
      " 경기도 $경기도\n",
      " 인천광역시 $인천광역시\n",
      " 경상남도 $경상남도\n",
      " 강원도 $강원도\n",
      " 충청북도 $충청북도\n",
      " 경상북도 $경상북도\n",
      " 충청남도 $충청남도\n",
      " 울산광역시 $울산광역시\n",
      " 대구광역시 $대구광역시\n",
      " 부산광역시 $부산광역시\n"
     ]
    }
   ],
   "source": [
    "for k, v in rep_dict.items():\n",
    "    print(k, v)"
   ]
  },
  {
   "cell_type": "code",
   "execution_count": 914,
   "metadata": {},
   "outputs": [
    {
     "data": {
      "text/plain": [
       "'전라북도 순창군 풍산면 반월리 12-4$충청남도 공주시 탄천면 삼각리 523-2'"
      ]
     },
     "execution_count": 914,
     "metadata": {},
     "output_type": "execute_result"
    }
   ],
   "source": [
    "s = '전라북도 순창군 풍산면 반월리 12-4 충청남도 공주시 탄천면 삼각리 523-2'\n",
    "for k, v in rep_dict.items():\n",
    "    s = s.replace(k, v)\n",
    "s"
   ]
  },
  {
   "cell_type": "code",
   "execution_count": 915,
   "metadata": {},
   "outputs": [],
   "source": [
    "sep = ' 광주광역시| 전라남도| 전라북도| 제주특별자치도| 세종특별자치시| 서울특별시| 대전광역시| 경기도| 인천광역시| 경상남도| 강원도| 충청북도| 경상북도| 충청남도| 울산광역시| 대구광역시| 부산광역시'"
   ]
  },
  {
   "cell_type": "code",
   "execution_count": 918,
   "metadata": {},
   "outputs": [],
   "source": [
    "count = 0\n",
    "multi_adr_old_indx = []\n",
    "for i, one in enumerate(temp):\n",
    "    multi_local = list(re.split(sep, one))\n",
    "    if len(multi_local) == 2:\n",
    "        multi_adr_old_indx.append(i)\n",
    "        count += 1"
   ]
  },
  {
   "cell_type": "code",
   "execution_count": 919,
   "metadata": {},
   "outputs": [
    {
     "data": {
      "text/plain": [
       "5427"
      ]
     },
     "execution_count": 919,
     "metadata": {},
     "output_type": "execute_result"
    }
   ],
   "source": [
    "count"
   ]
  },
  {
   "cell_type": "code",
   "execution_count": 920,
   "metadata": {},
   "outputs": [
    {
     "data": {
      "text/plain": [
       "[296880, 339425, 564676, 656400, 662447]"
      ]
     },
     "execution_count": 920,
     "metadata": {},
     "output_type": "execute_result"
    }
   ],
   "source": [
    "multi_adr_old_indx[:5]"
   ]
  },
  {
   "cell_type": "code",
   "execution_count": 921,
   "metadata": {},
   "outputs": [
    {
     "data": {
      "text/plain": [
       "'전라북도 순창군 풍산면 반월리 12-4 충청남도 공주시 탄천면 삼각리 523-2'"
      ]
     },
     "execution_count": 921,
     "metadata": {},
     "output_type": "execute_result"
    }
   ],
   "source": [
    "temp[296880]"
   ]
  },
  {
   "cell_type": "code",
   "execution_count": 922,
   "metadata": {},
   "outputs": [],
   "source": [
    "count = 0\n",
    "for i, one in enumerate(temp):\n",
    "    for k, v in rep_dict.items():\n",
    "        one = one.replace(k, v)\n",
    "    multi_adr = list(one.split('$'))\n",
    "    if len(multi_adr) == 2:\n",
    "        count += 1\n",
    "    for j, two in enumerate(multi_adr):\n",
    "        if temp_si[i] in two:\n",
    "            temp[i] = multi_adr[j]"
   ]
  },
  {
   "cell_type": "code",
   "execution_count": 923,
   "metadata": {},
   "outputs": [
    {
     "data": {
      "text/plain": [
       "5427"
      ]
     },
     "execution_count": 923,
     "metadata": {},
     "output_type": "execute_result"
    }
   ],
   "source": [
    "count"
   ]
  },
  {
   "cell_type": "code",
   "execution_count": 924,
   "metadata": {},
   "outputs": [
    {
     "data": {
      "text/plain": [
       "'전라북도 순창군 풍산면 반월리 12-4'"
      ]
     },
     "execution_count": 924,
     "metadata": {},
     "output_type": "execute_result"
    }
   ],
   "source": [
    "temp[296880]"
   ]
  },
  {
   "cell_type": "code",
   "execution_count": 925,
   "metadata": {},
   "outputs": [
    {
     "data": {
      "text/plain": [
       "'전라북도 순창군 풍산면 반월리 12-4'"
      ]
     },
     "execution_count": 925,
     "metadata": {},
     "output_type": "execute_result"
    }
   ],
   "source": [
    "temp[339425]"
   ]
  },
  {
   "cell_type": "code",
   "execution_count": 926,
   "metadata": {},
   "outputs": [
    {
     "name": "stderr",
     "output_type": "stream",
     "text": [
      "C:\\Users\\kbj\\AppData\\Local\\Temp\\ipykernel_15028\\1619837769.py:1: SettingWithCopyWarning: \n",
      "A value is trying to be set on a copy of a slice from a DataFrame.\n",
      "Try using .loc[row_indexer,col_indexer] = value instead\n",
      "\n",
      "See the caveats in the documentation: https://pandas.pydata.org/pandas-docs/stable/user_guide/indexing.html#returning-a-view-versus-a-copy\n",
      "  old_adr_df['주소'] = temp\n"
     ]
    }
   ],
   "source": [
    "old_adr_df['주소'] = temp"
   ]
  },
  {
   "cell_type": "code",
   "execution_count": 927,
   "metadata": {},
   "outputs": [
    {
     "data": {
      "text/plain": [
       "0    강원도 인제군 상남면 하남리 339-7(양양방향)\n",
       "1    강원도 인제군 상남면 하남리 339-7(양양방향)\n",
       "2    강원도 인제군 상남면 하남리 339-7(양양방향)\n",
       "3    강원도 인제군 상남면 하남리 339-7(양양방향)\n",
       "5        전라남도 순천시 해룡면 남가리 733-73\n",
       "Name: 주소, dtype: object"
      ]
     },
     "execution_count": 927,
     "metadata": {},
     "output_type": "execute_result"
    }
   ],
   "source": [
    "old_adr_df['주소'].head()"
   ]
  },
  {
   "cell_type": "code",
   "execution_count": 928,
   "metadata": {},
   "outputs": [
    {
     "name": "stdout",
     "output_type": "stream",
     "text": [
      "<class 'pandas.core.series.Series'>\n",
      "Int64Index: 3864010 entries, 0 to 11665820\n",
      "Series name: 주소\n",
      "Non-Null Count    Dtype \n",
      "--------------    ----- \n",
      "3864010 non-null  object\n",
      "dtypes: object(1)\n",
      "memory usage: 59.0+ MB\n"
     ]
    }
   ],
   "source": [
    "# data : 3864010 개\n",
    "old_adr_df['주소'].info()"
   ]
  },
  {
   "cell_type": "markdown",
   "metadata": {},
   "source": [
    "##### 신주소, 구주소 분리 파일 출력"
   ]
  },
  {
   "cell_type": "code",
   "execution_count": 929,
   "metadata": {},
   "outputs": [],
   "source": [
    "new_adr_df.to_csv('2020-22년_급속충전_신주소.csv', encoding='utf-8')"
   ]
  },
  {
   "cell_type": "code",
   "execution_count": 930,
   "metadata": {},
   "outputs": [],
   "source": [
    "old_adr_df.to_csv('2020-22년_급속충전_구주소.csv', encoding='utf-8')"
   ]
  },
  {
   "cell_type": "markdown",
   "metadata": {},
   "source": [
    "##### 신주소, 구주소 로드(다시 시작)"
   ]
  },
  {
   "cell_type": "code",
   "execution_count": 931,
   "metadata": {},
   "outputs": [],
   "source": [
    "# new_adr_df = pd.read_csv('2020-22년_급속충전_신주소.csv', index_col=0)\n",
    "# old_adr_df = pd.read_csv('2020-22년_급속충전_구주소.csv', index_col=0)"
   ]
  },
  {
   "cell_type": "markdown",
   "metadata": {},
   "source": [
    "### 신주소 상세 분리"
   ]
  },
  {
   "cell_type": "markdown",
   "metadata": {},
   "source": [
    "#### 상세 분리"
   ]
  },
  {
   "cell_type": "code",
   "execution_count": 932,
   "metadata": {},
   "outputs": [
    {
     "data": {
      "text/html": [
       "<div>\n",
       "<style scoped>\n",
       "    .dataframe tbody tr th:only-of-type {\n",
       "        vertical-align: middle;\n",
       "    }\n",
       "\n",
       "    .dataframe tbody tr th {\n",
       "        vertical-align: top;\n",
       "    }\n",
       "\n",
       "    .dataframe thead th {\n",
       "        text-align: right;\n",
       "    }\n",
       "</style>\n",
       "<table border=\"1\" class=\"dataframe\">\n",
       "  <thead>\n",
       "    <tr style=\"text-align: right;\">\n",
       "      <th></th>\n",
       "      <th>0</th>\n",
       "      <th>1</th>\n",
       "      <th>2</th>\n",
       "      <th>3</th>\n",
       "      <th>4</th>\n",
       "      <th>5</th>\n",
       "      <th>6</th>\n",
       "      <th>7</th>\n",
       "      <th>8</th>\n",
       "      <th>9</th>\n",
       "      <th>10</th>\n",
       "      <th>11</th>\n",
       "      <th>12</th>\n",
       "    </tr>\n",
       "  </thead>\n",
       "  <tbody>\n",
       "    <tr>\n",
       "      <th>4</th>\n",
       "      <td>광주광역시</td>\n",
       "      <td>북구</td>\n",
       "      <td>첨단벤처로108번길</td>\n",
       "      <td>9</td>\n",
       "      <td>None</td>\n",
       "      <td>None</td>\n",
       "      <td>None</td>\n",
       "      <td>None</td>\n",
       "      <td>None</td>\n",
       "      <td>None</td>\n",
       "      <td>None</td>\n",
       "      <td>None</td>\n",
       "      <td>None</td>\n",
       "    </tr>\n",
       "    <tr>\n",
       "      <th>8</th>\n",
       "      <td>전라남도</td>\n",
       "      <td>구례군</td>\n",
       "      <td>산동면</td>\n",
       "      <td>산업로</td>\n",
       "      <td>2319</td>\n",
       "      <td>None</td>\n",
       "      <td>None</td>\n",
       "      <td>None</td>\n",
       "      <td>None</td>\n",
       "      <td>None</td>\n",
       "      <td>None</td>\n",
       "      <td>None</td>\n",
       "      <td>None</td>\n",
       "    </tr>\n",
       "    <tr>\n",
       "      <th>9</th>\n",
       "      <td>전라남도</td>\n",
       "      <td>구례군</td>\n",
       "      <td>산동면</td>\n",
       "      <td>산업로</td>\n",
       "      <td>2319</td>\n",
       "      <td>None</td>\n",
       "      <td>None</td>\n",
       "      <td>None</td>\n",
       "      <td>None</td>\n",
       "      <td>None</td>\n",
       "      <td>None</td>\n",
       "      <td>None</td>\n",
       "      <td>None</td>\n",
       "    </tr>\n",
       "    <tr>\n",
       "      <th>10</th>\n",
       "      <td>강원도</td>\n",
       "      <td>강릉시</td>\n",
       "      <td>성산면</td>\n",
       "      <td>영동고속도로</td>\n",
       "      <td>232</td>\n",
       "      <td>(보광리)</td>\n",
       "      <td>None</td>\n",
       "      <td>None</td>\n",
       "      <td>None</td>\n",
       "      <td>None</td>\n",
       "      <td>None</td>\n",
       "      <td>None</td>\n",
       "      <td>None</td>\n",
       "    </tr>\n",
       "    <tr>\n",
       "      <th>15</th>\n",
       "      <td>전라남도</td>\n",
       "      <td>무안군</td>\n",
       "      <td>망운면</td>\n",
       "      <td>공항로</td>\n",
       "      <td>970-260</td>\n",
       "      <td>None</td>\n",
       "      <td>None</td>\n",
       "      <td>None</td>\n",
       "      <td>None</td>\n",
       "      <td>None</td>\n",
       "      <td>None</td>\n",
       "      <td>None</td>\n",
       "      <td>None</td>\n",
       "    </tr>\n",
       "  </tbody>\n",
       "</table>\n",
       "</div>"
      ],
      "text/plain": [
       "       0    1           2       3        4      5     6     7     8     9   \\\n",
       "4   광주광역시   북구  첨단벤처로108번길       9     None   None  None  None  None  None   \n",
       "8    전라남도  구례군         산동면     산업로     2319   None  None  None  None  None   \n",
       "9    전라남도  구례군         산동면     산업로     2319   None  None  None  None  None   \n",
       "10    강원도  강릉시         성산면  영동고속도로      232  (보광리)  None  None  None  None   \n",
       "15   전라남도  무안군         망운면     공항로  970-260   None  None  None  None  None   \n",
       "\n",
       "      10    11    12  \n",
       "4   None  None  None  \n",
       "8   None  None  None  \n",
       "9   None  None  None  \n",
       "10  None  None  None  \n",
       "15  None  None  None  "
      ]
     },
     "execution_count": 932,
     "metadata": {},
     "output_type": "execute_result"
    }
   ],
   "source": [
    "temp = new_adr_df['주소'].str.split(expand=True)\n",
    "temp.head()"
   ]
  },
  {
   "cell_type": "code",
   "execution_count": 933,
   "metadata": {},
   "outputs": [
    {
     "name": "stdout",
     "output_type": "stream",
     "text": [
      "5 : Yes\n",
      "6 : No\n",
      "7 : No\n",
      "8 : No\n",
      "9 : No\n",
      "10 : No\n",
      "11 : No\n",
      "12 : No\n"
     ]
    }
   ],
   "source": [
    "# 5번컬럼까지 -길, -로, -번길 존재\n",
    "# 6번부터 없음\n",
    "check_p = re.compile('로$|길$|번길$')\n",
    "for one in range(5, 13):\n",
    "    print(f'{one}', end=' : ')\n",
    "    uni = temp[temp[one].notnull() == True][one].unique()\n",
    "    # print(uni)\n",
    "    count = 0\n",
    "    for two in uni:\n",
    "        if check_p.search(two):\n",
    "            count += 1\n",
    "            break\n",
    "    if count != 0:\n",
    "        print('Yes')\n",
    "    else:\n",
    "        print('No')"
   ]
  },
  {
   "cell_type": "code",
   "execution_count": 934,
   "metadata": {},
   "outputs": [
    {
     "data": {
      "text/plain": [
       "array([None, '(보광리)', '화장시설', '1F)', '휴게소', '주차장', '농축산물판매장', '휴게소와',\n",
       "       '알펜시아', '내고장', '민원봉사실', '(본두리)', '(고림동)', '입구', '지하2층', '수원도시공사',\n",
       "       '수영장', '본관', '매표소', '표선생활체육관', '곶자왈', '서귀포농업기술센터', '모구리야영장',\n",
       "       '(외부리)', '(보산리)', '(매류리)', '(신제리)', '(오가리)', '(계내리)', '마리나요트클럽',\n",
       "       '소형차', '앞', '후포문화복지센터', '복지센터', '14', '우측', '옆', '추자면사무소',\n",
       "       '환경성질환예방관리센터', '애월읍도서관', '지원사무소', '(가정리)', '(박산리)', '(비월리)',\n",
       "       '(은교리)', '(남산리)', '(신양리)', '(양덕리)', '(방내리)', '36', '왼편',\n",
       "       '행담도휴게소(서울방향)', '행담도휴게소(목포방향)', '지하주차장', '뒤편', '(수진동)', '(율암리)',\n",
       "       '가평휴게소', '정면', '좌측', '23-37', '제2소형주차장', '2616', '136', '1182',\n",
       "       '자치경찰대', '05', '24', '01', '후문주차장', '매장', '(성하리)', '(용전리)',\n",
       "       '(오곡리)', '(가천리)', '(옥산리)', '206', '후문', '28', '매표소앞', '(송계리)',\n",
       "       '(신전리)', '(방목리)', '(양악리)', '(공진리)', '47', '공영주차장', '알뜰휴게소',\n",
       "       '화성시청사', '주차', '주유소', '지상주차장', '13', '외부화장실', '차량경정비', '고분군', '4층',\n",
       "       '옥외주차장', '계단쪽', '좌측편', '(하방리)', '(금창리)', '(소매곡리)', '(제비리)',\n",
       "       '(망상동)', '(주수리)', '(묵곡리)', '(수남리)', '(유현리)', '(도리)', '(화양리)',\n",
       "       '(아곡리)', '(백산리)', '(명포리)', '1층', '2층', '옥상층', '후면', '진입후', '1511',\n",
       "       '포항시립', '(모현리)', '농산물매장', '정문', '지하3층', '3층', '왼쪽', 'H01', '(석계리)',\n",
       "       '(강학리)', '(우천리)', '(단양리)', '(양곡리)', '(적암리)', '북주차장(우측)', '출구', 'L',\n",
       "       'C8', '쉼터', '258', '주차빌딩', '(이의동)', '5층', '(본오동)', '맞은편', '시계탑',\n",
       "       '보성군청', '파고라', '(청룡리)', '(송선동)', '(서계양리)', '(용계리)', '(영덕리)', '옥상',\n",
       "       '2번', '체육관', 'D1', '133', '오른쪽', '(월산리)', '(죽전동)', '(공세동)',\n",
       "       '(신촌리)', '(덕소리)', '프리미엄', '(두대동)', '불갑저수지', '장흥군청', '서문주차장',\n",
       "       '임실군청', '뒷편', '구좌체육관', '지하', '성남시청', '율동자연공원', '공중화장실', '88',\n",
       "       '출연자', '대형주차장', '안내소', '건물', '플랜카드', '옥상주차장', '지하1층', '15', '75',\n",
       "       '도로쪽', '장애인주차장', '끝', '제주농업기술센터', '236-1', '407', '(양덕동)', '(지곡동)',\n",
       "       '(쌍용2동)', '출구방향', '289', '충전소', '290', 'LPG', '로즈홀', '상관면주민자치센터',\n",
       "       'D15', '576', '793-40', '46', '20', '554', '만장굴', '성판악휴게소',\n",
       "       '교래자연휴양림', '(삼룡동)173-1', '(조령리)', '(순지리)', '309', '466', '4646',\n",
       "       '2472', '북쪽주차장', '318', '민원인', '(회포리)', '(장교리)', '(벽송리)', '(신월리)',\n",
       "       '(주교리)', '(삼송리)', '(성산리)', '(매화리)', '(금국리)', '60', '제2청사)',\n",
       "       '법성면사무소', '포항시청', '980', '(농협)', '경비실', '927', '화장실', '사랑나눔복지회관',\n",
       "       '영암군청', '소형주차장', '(죽암리)', '3610', '서생면사무소', '차량정비소', '복지회관',\n",
       "       '제2청사', '황소주차장', '(삼양리)', '라면공방', 'B01', '영광', '진해해양공원', '어상천면사무소',\n",
       "       '울릉군', '49', '177-74', '율포해수녹차탕주차장', '온달평강3로', '10', '317', '33',\n",
       "       '99', '대강면사무소', '증평군청', '제일오투마트', '57', '아우라지', '1143', '572',\n",
       "       '501', '153', '187', '242', '21', '71', '1872', '1600', '200', '1',\n",
       "       '161'], dtype=object)"
      ]
     },
     "execution_count": 934,
     "metadata": {},
     "output_type": "execute_result"
    }
   ],
   "source": [
    "temp[5].unique()"
   ]
  },
  {
   "cell_type": "code",
   "execution_count": 935,
   "metadata": {},
   "outputs": [
    {
     "data": {
      "text/html": [
       "<div>\n",
       "<style scoped>\n",
       "    .dataframe tbody tr th:only-of-type {\n",
       "        vertical-align: middle;\n",
       "    }\n",
       "\n",
       "    .dataframe tbody tr th {\n",
       "        vertical-align: top;\n",
       "    }\n",
       "\n",
       "    .dataframe thead th {\n",
       "        text-align: right;\n",
       "    }\n",
       "</style>\n",
       "<table border=\"1\" class=\"dataframe\">\n",
       "  <thead>\n",
       "    <tr style=\"text-align: right;\">\n",
       "      <th></th>\n",
       "      <th>0</th>\n",
       "      <th>1</th>\n",
       "      <th>2</th>\n",
       "      <th>3</th>\n",
       "      <th>4</th>\n",
       "      <th>5</th>\n",
       "      <th>6</th>\n",
       "      <th>7</th>\n",
       "      <th>8</th>\n",
       "      <th>9</th>\n",
       "      <th>10</th>\n",
       "      <th>11</th>\n",
       "      <th>12</th>\n",
       "    </tr>\n",
       "  </thead>\n",
       "  <tbody>\n",
       "    <tr>\n",
       "      <th>822932</th>\n",
       "      <td>충청북도</td>\n",
       "      <td>단양군</td>\n",
       "      <td>영춘면</td>\n",
       "      <td>온달평강3로</td>\n",
       "      <td>9</td>\n",
       "      <td>온달평강3로</td>\n",
       "      <td>9-1</td>\n",
       "      <td>None</td>\n",
       "      <td>None</td>\n",
       "      <td>None</td>\n",
       "      <td>None</td>\n",
       "      <td>None</td>\n",
       "      <td>None</td>\n",
       "    </tr>\n",
       "    <tr>\n",
       "      <th>825340</th>\n",
       "      <td>충청북도</td>\n",
       "      <td>단양군</td>\n",
       "      <td>영춘면</td>\n",
       "      <td>온달평강3로</td>\n",
       "      <td>9</td>\n",
       "      <td>온달평강3로</td>\n",
       "      <td>9-1</td>\n",
       "      <td>None</td>\n",
       "      <td>None</td>\n",
       "      <td>None</td>\n",
       "      <td>None</td>\n",
       "      <td>None</td>\n",
       "      <td>None</td>\n",
       "    </tr>\n",
       "    <tr>\n",
       "      <th>909454</th>\n",
       "      <td>충청북도</td>\n",
       "      <td>단양군</td>\n",
       "      <td>영춘면</td>\n",
       "      <td>온달평강3로</td>\n",
       "      <td>9</td>\n",
       "      <td>온달평강3로</td>\n",
       "      <td>9-1</td>\n",
       "      <td>None</td>\n",
       "      <td>None</td>\n",
       "      <td>None</td>\n",
       "      <td>None</td>\n",
       "      <td>None</td>\n",
       "      <td>None</td>\n",
       "    </tr>\n",
       "    <tr>\n",
       "      <th>938599</th>\n",
       "      <td>충청북도</td>\n",
       "      <td>단양군</td>\n",
       "      <td>영춘면</td>\n",
       "      <td>온달평강3로</td>\n",
       "      <td>9</td>\n",
       "      <td>온달평강3로</td>\n",
       "      <td>9-1</td>\n",
       "      <td>None</td>\n",
       "      <td>None</td>\n",
       "      <td>None</td>\n",
       "      <td>None</td>\n",
       "      <td>None</td>\n",
       "      <td>None</td>\n",
       "    </tr>\n",
       "    <tr>\n",
       "      <th>954186</th>\n",
       "      <td>충청북도</td>\n",
       "      <td>단양군</td>\n",
       "      <td>영춘면</td>\n",
       "      <td>온달평강3로</td>\n",
       "      <td>9</td>\n",
       "      <td>온달평강3로</td>\n",
       "      <td>9-1</td>\n",
       "      <td>None</td>\n",
       "      <td>None</td>\n",
       "      <td>None</td>\n",
       "      <td>None</td>\n",
       "      <td>None</td>\n",
       "      <td>None</td>\n",
       "    </tr>\n",
       "  </tbody>\n",
       "</table>\n",
       "</div>"
      ],
      "text/plain": [
       "          0    1    2       3  4       5    6     7     8     9     10    11  \\\n",
       "822932  충청북도  단양군  영춘면  온달평강3로  9  온달평강3로  9-1  None  None  None  None  None   \n",
       "825340  충청북도  단양군  영춘면  온달평강3로  9  온달평강3로  9-1  None  None  None  None  None   \n",
       "909454  충청북도  단양군  영춘면  온달평강3로  9  온달평강3로  9-1  None  None  None  None  None   \n",
       "938599  충청북도  단양군  영춘면  온달평강3로  9  온달평강3로  9-1  None  None  None  None  None   \n",
       "954186  충청북도  단양군  영춘면  온달평강3로  9  온달평강3로  9-1  None  None  None  None  None   \n",
       "\n",
       "          12  \n",
       "822932  None  \n",
       "825340  None  \n",
       "909454  None  \n",
       "938599  None  \n",
       "954186  None  "
      ]
     },
     "execution_count": 935,
     "metadata": {},
     "output_type": "execute_result"
    }
   ],
   "source": [
    "temp[temp[5] == '온달평강3로'].head()"
   ]
  },
  {
   "cell_type": "code",
   "execution_count": 936,
   "metadata": {},
   "outputs": [
    {
     "data": {
      "text/plain": [
       "(808, 13)"
      ]
     },
     "execution_count": 936,
     "metadata": {},
     "output_type": "execute_result"
    }
   ],
   "source": [
    "temp[temp[5] == '온달평강3로'].shape"
   ]
  },
  {
   "cell_type": "code",
   "execution_count": 937,
   "metadata": {},
   "outputs": [],
   "source": [
    "temp = temp.fillna(np.nan)"
   ]
  },
  {
   "cell_type": "code",
   "execution_count": 938,
   "metadata": {},
   "outputs": [
    {
     "data": {
      "text/html": [
       "<div>\n",
       "<style scoped>\n",
       "    .dataframe tbody tr th:only-of-type {\n",
       "        vertical-align: middle;\n",
       "    }\n",
       "\n",
       "    .dataframe tbody tr th {\n",
       "        vertical-align: top;\n",
       "    }\n",
       "\n",
       "    .dataframe thead th {\n",
       "        text-align: right;\n",
       "    }\n",
       "</style>\n",
       "<table border=\"1\" class=\"dataframe\">\n",
       "  <thead>\n",
       "    <tr style=\"text-align: right;\">\n",
       "      <th></th>\n",
       "      <th>0</th>\n",
       "      <th>1</th>\n",
       "      <th>2</th>\n",
       "      <th>3</th>\n",
       "      <th>4</th>\n",
       "      <th>5</th>\n",
       "      <th>6</th>\n",
       "      <th>7</th>\n",
       "      <th>8</th>\n",
       "      <th>9</th>\n",
       "      <th>10</th>\n",
       "      <th>11</th>\n",
       "      <th>12</th>\n",
       "    </tr>\n",
       "  </thead>\n",
       "  <tbody>\n",
       "    <tr>\n",
       "      <th>4</th>\n",
       "      <td>광주광역시</td>\n",
       "      <td>북구</td>\n",
       "      <td>첨단벤처로108번길</td>\n",
       "      <td>9</td>\n",
       "      <td>NaN</td>\n",
       "      <td>NaN</td>\n",
       "      <td>NaN</td>\n",
       "      <td>NaN</td>\n",
       "      <td>NaN</td>\n",
       "      <td>NaN</td>\n",
       "      <td>NaN</td>\n",
       "      <td>NaN</td>\n",
       "      <td>NaN</td>\n",
       "    </tr>\n",
       "    <tr>\n",
       "      <th>8</th>\n",
       "      <td>전라남도</td>\n",
       "      <td>구례군</td>\n",
       "      <td>산동면</td>\n",
       "      <td>산업로</td>\n",
       "      <td>2319</td>\n",
       "      <td>NaN</td>\n",
       "      <td>NaN</td>\n",
       "      <td>NaN</td>\n",
       "      <td>NaN</td>\n",
       "      <td>NaN</td>\n",
       "      <td>NaN</td>\n",
       "      <td>NaN</td>\n",
       "      <td>NaN</td>\n",
       "    </tr>\n",
       "    <tr>\n",
       "      <th>9</th>\n",
       "      <td>전라남도</td>\n",
       "      <td>구례군</td>\n",
       "      <td>산동면</td>\n",
       "      <td>산업로</td>\n",
       "      <td>2319</td>\n",
       "      <td>NaN</td>\n",
       "      <td>NaN</td>\n",
       "      <td>NaN</td>\n",
       "      <td>NaN</td>\n",
       "      <td>NaN</td>\n",
       "      <td>NaN</td>\n",
       "      <td>NaN</td>\n",
       "      <td>NaN</td>\n",
       "    </tr>\n",
       "    <tr>\n",
       "      <th>10</th>\n",
       "      <td>강원도</td>\n",
       "      <td>강릉시</td>\n",
       "      <td>성산면</td>\n",
       "      <td>영동고속도로</td>\n",
       "      <td>232</td>\n",
       "      <td>(보광리)</td>\n",
       "      <td>NaN</td>\n",
       "      <td>NaN</td>\n",
       "      <td>NaN</td>\n",
       "      <td>NaN</td>\n",
       "      <td>NaN</td>\n",
       "      <td>NaN</td>\n",
       "      <td>NaN</td>\n",
       "    </tr>\n",
       "    <tr>\n",
       "      <th>15</th>\n",
       "      <td>전라남도</td>\n",
       "      <td>무안군</td>\n",
       "      <td>망운면</td>\n",
       "      <td>공항로</td>\n",
       "      <td>970-260</td>\n",
       "      <td>NaN</td>\n",
       "      <td>NaN</td>\n",
       "      <td>NaN</td>\n",
       "      <td>NaN</td>\n",
       "      <td>NaN</td>\n",
       "      <td>NaN</td>\n",
       "      <td>NaN</td>\n",
       "      <td>NaN</td>\n",
       "    </tr>\n",
       "  </tbody>\n",
       "</table>\n",
       "</div>"
      ],
      "text/plain": [
       "       0    1           2       3        4      5    6    7    8    9    10  \\\n",
       "4   광주광역시   북구  첨단벤처로108번길       9      NaN    NaN  NaN  NaN  NaN  NaN  NaN   \n",
       "8    전라남도  구례군         산동면     산업로     2319    NaN  NaN  NaN  NaN  NaN  NaN   \n",
       "9    전라남도  구례군         산동면     산업로     2319    NaN  NaN  NaN  NaN  NaN  NaN   \n",
       "10    강원도  강릉시         성산면  영동고속도로      232  (보광리)  NaN  NaN  NaN  NaN  NaN   \n",
       "15   전라남도  무안군         망운면     공항로  970-260    NaN  NaN  NaN  NaN  NaN  NaN   \n",
       "\n",
       "     11   12  \n",
       "4   NaN  NaN  \n",
       "8   NaN  NaN  \n",
       "9   NaN  NaN  \n",
       "10  NaN  NaN  \n",
       "15  NaN  NaN  "
      ]
     },
     "execution_count": 938,
     "metadata": {},
     "output_type": "execute_result"
    }
   ],
   "source": [
    "temp.head()"
   ]
  },
  {
   "cell_type": "code",
   "execution_count": 939,
   "metadata": {},
   "outputs": [
    {
     "data": {
      "text/html": [
       "<div>\n",
       "<style scoped>\n",
       "    .dataframe tbody tr th:only-of-type {\n",
       "        vertical-align: middle;\n",
       "    }\n",
       "\n",
       "    .dataframe tbody tr th {\n",
       "        vertical-align: top;\n",
       "    }\n",
       "\n",
       "    .dataframe thead th {\n",
       "        text-align: right;\n",
       "    }\n",
       "</style>\n",
       "<table border=\"1\" class=\"dataframe\">\n",
       "  <thead>\n",
       "    <tr style=\"text-align: right;\">\n",
       "      <th></th>\n",
       "      <th>충전소명</th>\n",
       "      <th>충전기ID</th>\n",
       "      <th>지역</th>\n",
       "      <th>시군구</th>\n",
       "      <th>주소</th>\n",
       "      <th>충전기타입</th>\n",
       "      <th>충전시작일시</th>\n",
       "      <th>충전종료일시</th>\n",
       "      <th>충전시간</th>\n",
       "      <th>충전량</th>\n",
       "      <th>...</th>\n",
       "      <th>3</th>\n",
       "      <th>4</th>\n",
       "      <th>5</th>\n",
       "      <th>6</th>\n",
       "      <th>7</th>\n",
       "      <th>8</th>\n",
       "      <th>9</th>\n",
       "      <th>10</th>\n",
       "      <th>11</th>\n",
       "      <th>12</th>\n",
       "    </tr>\n",
       "  </thead>\n",
       "  <tbody>\n",
       "    <tr>\n",
       "      <th>4</th>\n",
       "      <td>한국광기술원</td>\n",
       "      <td>1</td>\n",
       "      <td>광주광역시</td>\n",
       "      <td>북구</td>\n",
       "      <td>광주광역시 북구 첨단벤처로108번길 9</td>\n",
       "      <td>DC차데모+AC3상+DC콤보</td>\n",
       "      <td>20200123085417</td>\n",
       "      <td>20200123092554</td>\n",
       "      <td>0 days 00:31:14</td>\n",
       "      <td>21.92</td>\n",
       "      <td>...</td>\n",
       "      <td>9</td>\n",
       "      <td>NaN</td>\n",
       "      <td>NaN</td>\n",
       "      <td>NaN</td>\n",
       "      <td>NaN</td>\n",
       "      <td>NaN</td>\n",
       "      <td>NaN</td>\n",
       "      <td>NaN</td>\n",
       "      <td>NaN</td>\n",
       "      <td>NaN</td>\n",
       "    </tr>\n",
       "    <tr>\n",
       "      <th>8</th>\n",
       "      <td>SK 산동2주유소</td>\n",
       "      <td>1</td>\n",
       "      <td>전라남도</td>\n",
       "      <td>구례군</td>\n",
       "      <td>전라남도 구례군 산동면 산업로 2319</td>\n",
       "      <td>DC차데모+AC3상+DC콤보</td>\n",
       "      <td>20200115135355</td>\n",
       "      <td>20200115141450</td>\n",
       "      <td>0 days 00:20:28</td>\n",
       "      <td>14.05</td>\n",
       "      <td>...</td>\n",
       "      <td>산업로</td>\n",
       "      <td>2319</td>\n",
       "      <td>NaN</td>\n",
       "      <td>NaN</td>\n",
       "      <td>NaN</td>\n",
       "      <td>NaN</td>\n",
       "      <td>NaN</td>\n",
       "      <td>NaN</td>\n",
       "      <td>NaN</td>\n",
       "      <td>NaN</td>\n",
       "    </tr>\n",
       "    <tr>\n",
       "      <th>9</th>\n",
       "      <td>SK 산동2주유소</td>\n",
       "      <td>1</td>\n",
       "      <td>전라남도</td>\n",
       "      <td>구례군</td>\n",
       "      <td>전라남도 구례군 산동면 산업로 2319</td>\n",
       "      <td>DC차데모+AC3상+DC콤보</td>\n",
       "      <td>20200101145057</td>\n",
       "      <td>20200101151847</td>\n",
       "      <td>0 days 00:27:25</td>\n",
       "      <td>18.95</td>\n",
       "      <td>...</td>\n",
       "      <td>산업로</td>\n",
       "      <td>2319</td>\n",
       "      <td>NaN</td>\n",
       "      <td>NaN</td>\n",
       "      <td>NaN</td>\n",
       "      <td>NaN</td>\n",
       "      <td>NaN</td>\n",
       "      <td>NaN</td>\n",
       "      <td>NaN</td>\n",
       "      <td>NaN</td>\n",
       "    </tr>\n",
       "    <tr>\n",
       "      <th>10</th>\n",
       "      <td>지리산국립공원 남부 성삼재 주차장</td>\n",
       "      <td>2</td>\n",
       "      <td>전라남도</td>\n",
       "      <td>구례군</td>\n",
       "      <td>강원도 강릉시 성산면 영동고속도로 232 (보광리)</td>\n",
       "      <td>DC차데모+AC3상+DC콤보</td>\n",
       "      <td>20200126112202</td>\n",
       "      <td>20200126113312</td>\n",
       "      <td>0 days 00:10:47</td>\n",
       "      <td>6.16</td>\n",
       "      <td>...</td>\n",
       "      <td>영동고속도로</td>\n",
       "      <td>232</td>\n",
       "      <td>(보광리)</td>\n",
       "      <td>NaN</td>\n",
       "      <td>NaN</td>\n",
       "      <td>NaN</td>\n",
       "      <td>NaN</td>\n",
       "      <td>NaN</td>\n",
       "      <td>NaN</td>\n",
       "      <td>NaN</td>\n",
       "    </tr>\n",
       "    <tr>\n",
       "      <th>15</th>\n",
       "      <td>무안공항</td>\n",
       "      <td>1</td>\n",
       "      <td>전라남도</td>\n",
       "      <td>무안군</td>\n",
       "      <td>전라남도 무안군 망운면 공항로 970-260</td>\n",
       "      <td>DC차데모+AC3상+DC콤보</td>\n",
       "      <td>20200101090653</td>\n",
       "      <td>20200101094311</td>\n",
       "      <td>0 days 00:35:56</td>\n",
       "      <td>25.44</td>\n",
       "      <td>...</td>\n",
       "      <td>공항로</td>\n",
       "      <td>970-260</td>\n",
       "      <td>NaN</td>\n",
       "      <td>NaN</td>\n",
       "      <td>NaN</td>\n",
       "      <td>NaN</td>\n",
       "      <td>NaN</td>\n",
       "      <td>NaN</td>\n",
       "      <td>NaN</td>\n",
       "      <td>NaN</td>\n",
       "    </tr>\n",
       "  </tbody>\n",
       "</table>\n",
       "<p>5 rows × 40 columns</p>\n",
       "</div>"
      ],
      "text/plain": [
       "                  충전소명  충전기ID     지역  시군구                            주소  \\\n",
       "4               한국광기술원      1  광주광역시   북구         광주광역시 북구 첨단벤처로108번길 9   \n",
       "8            SK 산동2주유소      1   전라남도  구례군         전라남도 구례군 산동면 산업로 2319   \n",
       "9            SK 산동2주유소      1   전라남도  구례군         전라남도 구례군 산동면 산업로 2319   \n",
       "10  지리산국립공원 남부 성삼재 주차장      2   전라남도  구례군  강원도 강릉시 성산면 영동고속도로 232 (보광리)   \n",
       "15                무안공항      1   전라남도  무안군      전라남도 무안군 망운면 공항로 970-260   \n",
       "\n",
       "              충전기타입          충전시작일시          충전종료일시             충전시간    충전량  \\\n",
       "4   DC차데모+AC3상+DC콤보  20200123085417  20200123092554  0 days 00:31:14  21.92   \n",
       "8   DC차데모+AC3상+DC콤보  20200115135355  20200115141450  0 days 00:20:28  14.05   \n",
       "9   DC차데모+AC3상+DC콤보  20200101145057  20200101151847  0 days 00:27:25  18.95   \n",
       "10  DC차데모+AC3상+DC콤보  20200126112202  20200126113312  0 days 00:10:47   6.16   \n",
       "15  DC차데모+AC3상+DC콤보  20200101090653  20200101094311  0 days 00:35:56  25.44   \n",
       "\n",
       "    ...       3        4      5    6    7    8    9   10   11   12  \n",
       "4   ...       9      NaN    NaN  NaN  NaN  NaN  NaN  NaN  NaN  NaN  \n",
       "8   ...     산업로     2319    NaN  NaN  NaN  NaN  NaN  NaN  NaN  NaN  \n",
       "9   ...     산업로     2319    NaN  NaN  NaN  NaN  NaN  NaN  NaN  NaN  \n",
       "10  ...  영동고속도로      232  (보광리)  NaN  NaN  NaN  NaN  NaN  NaN  NaN  \n",
       "15  ...     공항로  970-260    NaN  NaN  NaN  NaN  NaN  NaN  NaN  NaN  \n",
       "\n",
       "[5 rows x 40 columns]"
      ]
     },
     "execution_count": 939,
     "metadata": {},
     "output_type": "execute_result"
    }
   ],
   "source": [
    "new_adr_df2 = pd.concat([new_adr_df, temp], axis=1)\n",
    "new_adr_df2.head()"
   ]
  },
  {
   "cell_type": "markdown",
   "metadata": {},
   "source": [
    "##### 신주소 상세 분리 확인"
   ]
  },
  {
   "cell_type": "code",
   "execution_count": 940,
   "metadata": {},
   "outputs": [
    {
     "data": {
      "text/html": [
       "<div>\n",
       "<style scoped>\n",
       "    .dataframe tbody tr th:only-of-type {\n",
       "        vertical-align: middle;\n",
       "    }\n",
       "\n",
       "    .dataframe tbody tr th {\n",
       "        vertical-align: top;\n",
       "    }\n",
       "\n",
       "    .dataframe thead th {\n",
       "        text-align: right;\n",
       "    }\n",
       "</style>\n",
       "<table border=\"1\" class=\"dataframe\">\n",
       "  <thead>\n",
       "    <tr style=\"text-align: right;\">\n",
       "      <th></th>\n",
       "      <th>주소</th>\n",
       "      <th>0</th>\n",
       "      <th>1</th>\n",
       "      <th>2</th>\n",
       "      <th>3</th>\n",
       "      <th>4</th>\n",
       "    </tr>\n",
       "  </thead>\n",
       "  <tbody>\n",
       "    <tr>\n",
       "      <th>11665815</th>\n",
       "      <td>경기도 구리시 체육관로 74</td>\n",
       "      <td>경기도</td>\n",
       "      <td>구리시</td>\n",
       "      <td>체육관로</td>\n",
       "      <td>74</td>\n",
       "      <td>NaN</td>\n",
       "    </tr>\n",
       "    <tr>\n",
       "      <th>11665816</th>\n",
       "      <td>서울특별시 성동구 둘레길 47-5</td>\n",
       "      <td>서울특별시</td>\n",
       "      <td>성동구</td>\n",
       "      <td>둘레길</td>\n",
       "      <td>47-5</td>\n",
       "      <td>NaN</td>\n",
       "    </tr>\n",
       "    <tr>\n",
       "      <th>11665817</th>\n",
       "      <td>경기도 용인시 수지구 경부고속도로 400 (죽전동)</td>\n",
       "      <td>경기도</td>\n",
       "      <td>용인시</td>\n",
       "      <td>수지구</td>\n",
       "      <td>경부고속도로</td>\n",
       "      <td>400</td>\n",
       "    </tr>\n",
       "    <tr>\n",
       "      <th>11665818</th>\n",
       "      <td>강원도 원주시 단구로 150</td>\n",
       "      <td>강원도</td>\n",
       "      <td>원주시</td>\n",
       "      <td>단구로</td>\n",
       "      <td>150</td>\n",
       "      <td>NaN</td>\n",
       "    </tr>\n",
       "    <tr>\n",
       "      <th>11665821</th>\n",
       "      <td>강원도 강릉시 성산면 영동고속도로 232 (보광리)</td>\n",
       "      <td>강원도</td>\n",
       "      <td>강릉시</td>\n",
       "      <td>성산면</td>\n",
       "      <td>영동고속도로</td>\n",
       "      <td>232</td>\n",
       "    </tr>\n",
       "  </tbody>\n",
       "</table>\n",
       "</div>"
      ],
      "text/plain": [
       "                                    주소      0    1     2       3    4\n",
       "11665815               경기도 구리시 체육관로 74    경기도  구리시  체육관로      74  NaN\n",
       "11665816            서울특별시 성동구 둘레길 47-5  서울특별시  성동구   둘레길    47-5  NaN\n",
       "11665817  경기도 용인시 수지구 경부고속도로 400 (죽전동)    경기도  용인시   수지구  경부고속도로  400\n",
       "11665818               강원도 원주시 단구로 150    강원도  원주시   단구로     150  NaN\n",
       "11665821  강원도 강릉시 성산면 영동고속도로 232 (보광리)    강원도  강릉시   성산면  영동고속도로  232"
      ]
     },
     "execution_count": 940,
     "metadata": {},
     "output_type": "execute_result"
    }
   ],
   "source": [
    "new_adr_df2[['주소', 0, 1, 2, 3, 4]].tail()"
   ]
  },
  {
   "cell_type": "code",
   "execution_count": 956,
   "metadata": {},
   "outputs": [
    {
     "data": {
      "text/html": [
       "<div>\n",
       "<style scoped>\n",
       "    .dataframe tbody tr th:only-of-type {\n",
       "        vertical-align: middle;\n",
       "    }\n",
       "\n",
       "    .dataframe tbody tr th {\n",
       "        vertical-align: top;\n",
       "    }\n",
       "\n",
       "    .dataframe thead th {\n",
       "        text-align: right;\n",
       "    }\n",
       "</style>\n",
       "<table border=\"1\" class=\"dataframe\">\n",
       "  <thead>\n",
       "    <tr style=\"text-align: right;\">\n",
       "      <th></th>\n",
       "      <th>주소</th>\n",
       "      <th>0</th>\n",
       "      <th>1</th>\n",
       "      <th>2</th>\n",
       "      <th>3</th>\n",
       "      <th>4</th>\n",
       "    </tr>\n",
       "  </thead>\n",
       "  <tbody>\n",
       "    <tr>\n",
       "      <th>4</th>\n",
       "      <td>광주광역시 북구 첨단벤처로108번길 9</td>\n",
       "      <td>광주광역시</td>\n",
       "      <td>북구</td>\n",
       "      <td>첨단벤처로108번길</td>\n",
       "      <td>9</td>\n",
       "      <td>NaN</td>\n",
       "    </tr>\n",
       "    <tr>\n",
       "      <th>8</th>\n",
       "      <td>전라남도 구례군 산동면 산업로 2319</td>\n",
       "      <td>전라남도</td>\n",
       "      <td>구례군</td>\n",
       "      <td>산동면</td>\n",
       "      <td>산업로</td>\n",
       "      <td>2319</td>\n",
       "    </tr>\n",
       "    <tr>\n",
       "      <th>9</th>\n",
       "      <td>전라남도 구례군 산동면 산업로 2319</td>\n",
       "      <td>전라남도</td>\n",
       "      <td>구례군</td>\n",
       "      <td>산동면</td>\n",
       "      <td>산업로</td>\n",
       "      <td>2319</td>\n",
       "    </tr>\n",
       "    <tr>\n",
       "      <th>10</th>\n",
       "      <td>강원도 강릉시 성산면 영동고속도로 232 (보광리)</td>\n",
       "      <td>강원도</td>\n",
       "      <td>강릉시</td>\n",
       "      <td>성산면</td>\n",
       "      <td>영동고속도로</td>\n",
       "      <td>232</td>\n",
       "    </tr>\n",
       "    <tr>\n",
       "      <th>15</th>\n",
       "      <td>전라남도 무안군 망운면 공항로 970-260</td>\n",
       "      <td>전라남도</td>\n",
       "      <td>무안군</td>\n",
       "      <td>망운면</td>\n",
       "      <td>공항로</td>\n",
       "      <td>970-260</td>\n",
       "    </tr>\n",
       "  </tbody>\n",
       "</table>\n",
       "</div>"
      ],
      "text/plain": [
       "                              주소      0    1           2       3        4\n",
       "4          광주광역시 북구 첨단벤처로108번길 9  광주광역시   북구  첨단벤처로108번길       9      NaN\n",
       "8          전라남도 구례군 산동면 산업로 2319   전라남도  구례군         산동면     산업로     2319\n",
       "9          전라남도 구례군 산동면 산업로 2319   전라남도  구례군         산동면     산업로     2319\n",
       "10  강원도 강릉시 성산면 영동고속도로 232 (보광리)    강원도  강릉시         성산면  영동고속도로      232\n",
       "15      전라남도 무안군 망운면 공항로 970-260   전라남도  무안군         망운면     공항로  970-260"
      ]
     },
     "execution_count": 956,
     "metadata": {},
     "output_type": "execute_result"
    }
   ],
   "source": [
    "new_adr_df2[['주소', 0, 1, 2, 3, 4]].head()"
   ]
  },
  {
   "cell_type": "markdown",
   "metadata": {},
   "source": [
    "##### 신주소 상세 분리 파일 출력"
   ]
  },
  {
   "cell_type": "code",
   "execution_count": 941,
   "metadata": {},
   "outputs": [],
   "source": [
    "new_adr_df2.to_csv('2020-22년_급속충전_신주소_상세분리.csv', encoding='utf-8')"
   ]
  },
  {
   "cell_type": "markdown",
   "metadata": {},
   "source": [
    "### 구주소 상세분리"
   ]
  },
  {
   "cell_type": "markdown",
   "metadata": {},
   "source": [
    "#### 상세분리"
   ]
  },
  {
   "cell_type": "code",
   "execution_count": 942,
   "metadata": {},
   "outputs": [
    {
     "data": {
      "text/html": [
       "<div>\n",
       "<style scoped>\n",
       "    .dataframe tbody tr th:only-of-type {\n",
       "        vertical-align: middle;\n",
       "    }\n",
       "\n",
       "    .dataframe tbody tr th {\n",
       "        vertical-align: top;\n",
       "    }\n",
       "\n",
       "    .dataframe thead th {\n",
       "        text-align: right;\n",
       "    }\n",
       "</style>\n",
       "<table border=\"1\" class=\"dataframe\">\n",
       "  <thead>\n",
       "    <tr style=\"text-align: right;\">\n",
       "      <th></th>\n",
       "      <th>0</th>\n",
       "      <th>1</th>\n",
       "      <th>2</th>\n",
       "      <th>3</th>\n",
       "      <th>4</th>\n",
       "      <th>5</th>\n",
       "      <th>6</th>\n",
       "      <th>7</th>\n",
       "      <th>8</th>\n",
       "      <th>9</th>\n",
       "      <th>10</th>\n",
       "      <th>11</th>\n",
       "    </tr>\n",
       "  </thead>\n",
       "  <tbody>\n",
       "    <tr>\n",
       "      <th>0</th>\n",
       "      <td>강원도</td>\n",
       "      <td>인제군</td>\n",
       "      <td>상남면</td>\n",
       "      <td>하남리</td>\n",
       "      <td>339-7(양양방향)</td>\n",
       "      <td>None</td>\n",
       "      <td>None</td>\n",
       "      <td>None</td>\n",
       "      <td>None</td>\n",
       "      <td>None</td>\n",
       "      <td>None</td>\n",
       "      <td>None</td>\n",
       "    </tr>\n",
       "    <tr>\n",
       "      <th>1</th>\n",
       "      <td>강원도</td>\n",
       "      <td>인제군</td>\n",
       "      <td>상남면</td>\n",
       "      <td>하남리</td>\n",
       "      <td>339-7(양양방향)</td>\n",
       "      <td>None</td>\n",
       "      <td>None</td>\n",
       "      <td>None</td>\n",
       "      <td>None</td>\n",
       "      <td>None</td>\n",
       "      <td>None</td>\n",
       "      <td>None</td>\n",
       "    </tr>\n",
       "    <tr>\n",
       "      <th>2</th>\n",
       "      <td>강원도</td>\n",
       "      <td>인제군</td>\n",
       "      <td>상남면</td>\n",
       "      <td>하남리</td>\n",
       "      <td>339-7(양양방향)</td>\n",
       "      <td>None</td>\n",
       "      <td>None</td>\n",
       "      <td>None</td>\n",
       "      <td>None</td>\n",
       "      <td>None</td>\n",
       "      <td>None</td>\n",
       "      <td>None</td>\n",
       "    </tr>\n",
       "    <tr>\n",
       "      <th>3</th>\n",
       "      <td>강원도</td>\n",
       "      <td>인제군</td>\n",
       "      <td>상남면</td>\n",
       "      <td>하남리</td>\n",
       "      <td>339-7(양양방향)</td>\n",
       "      <td>None</td>\n",
       "      <td>None</td>\n",
       "      <td>None</td>\n",
       "      <td>None</td>\n",
       "      <td>None</td>\n",
       "      <td>None</td>\n",
       "      <td>None</td>\n",
       "    </tr>\n",
       "    <tr>\n",
       "      <th>5</th>\n",
       "      <td>전라남도</td>\n",
       "      <td>순천시</td>\n",
       "      <td>해룡면</td>\n",
       "      <td>남가리</td>\n",
       "      <td>733-73</td>\n",
       "      <td>None</td>\n",
       "      <td>None</td>\n",
       "      <td>None</td>\n",
       "      <td>None</td>\n",
       "      <td>None</td>\n",
       "      <td>None</td>\n",
       "      <td>None</td>\n",
       "    </tr>\n",
       "  </tbody>\n",
       "</table>\n",
       "</div>"
      ],
      "text/plain": [
       "     0    1    2    3            4     5     6     7     8     9     10    11\n",
       "0   강원도  인제군  상남면  하남리  339-7(양양방향)  None  None  None  None  None  None  None\n",
       "1   강원도  인제군  상남면  하남리  339-7(양양방향)  None  None  None  None  None  None  None\n",
       "2   강원도  인제군  상남면  하남리  339-7(양양방향)  None  None  None  None  None  None  None\n",
       "3   강원도  인제군  상남면  하남리  339-7(양양방향)  None  None  None  None  None  None  None\n",
       "5  전라남도  순천시  해룡면  남가리       733-73  None  None  None  None  None  None  None"
      ]
     },
     "execution_count": 942,
     "metadata": {},
     "output_type": "execute_result"
    }
   ],
   "source": [
    "temp = old_adr_df['주소'].str.split(expand=True)\n",
    "temp.head()"
   ]
  },
  {
   "cell_type": "code",
   "execution_count": 943,
   "metadata": {},
   "outputs": [
    {
     "name": "stdout",
     "output_type": "stream",
     "text": [
      "4 : Yes\n",
      "5 : Yes\n",
      "6 : Yes\n",
      "7 : Yes\n",
      "8 : No\n",
      "9 : Yes\n",
      "10 : No\n",
      "11 : No\n"
     ]
    }
   ],
   "source": [
    "# 5번컬럼까지 -길, -로, -번길 존재\n",
    "# 6번부터 없음\n",
    "check_p = re.compile('동$|리$')\n",
    "for one in range(4, 12):\n",
    "    print(f'{one}', end=' : ')\n",
    "    uni = temp[temp[one].notnull() == True][one].unique()\n",
    "    # print(uni)\n",
    "    count = 0\n",
    "    for two in uni:\n",
    "        if check_p.search(two):\n",
    "            count += 1\n",
    "            break\n",
    "    if count != 0:\n",
    "        print('Yes')\n",
    "    else:\n",
    "        print('No')"
   ]
  },
  {
   "cell_type": "code",
   "execution_count": 946,
   "metadata": {},
   "outputs": [
    {
     "data": {
      "text/plain": [
       "array([None, '후면', '주차장', '좌측', '우측', '앞', '옆', '384-27)', '뒤', '맞은편',\n",
       "       '사업단', '건물', '오른쪽', '20구역', '증설주차장', 'LPG충전소', '교동', '입구', '흡연실',\n",
       "       '왼쪽', '2층', '맨끝쪽', '287기둥옆', '맨끝', '건물입구', '가03', '공영주차장', '산업단지',\n",
       "       '(나성동', '지하주차장', '근처', '사무실', '430기둥', '끝', '안쪽', '지하4층', '관리사무소',\n",
       "       '버스주차장', '1282-16)', '마금산온천', '밑', '820-10)', '매표소앞', '정면', '옥상',\n",
       "       'KTX', '주차구역', '1층', '501)', '2'], dtype=object)"
      ]
     },
     "execution_count": 946,
     "metadata": {},
     "output_type": "execute_result"
    }
   ],
   "source": [
    "temp[6].unique()"
   ]
  },
  {
   "cell_type": "code",
   "execution_count": 947,
   "metadata": {},
   "outputs": [
    {
     "data": {
      "text/plain": [
       "array([None, '군청', '산방산', '무릉문화의집', '좌측', '우측', '630-5', '소형주차장', '입구',\n",
       "       '(향교동)', '28', '안쪽', '일원', '179-6', '재릉종합관광안내센터', '604-3', '주차타워',\n",
       "       '뒤편', '보조경기장', '(여양3로', '끝', '온정종합터미널', '주차장', '1층', '새마을금고',\n",
       "       '스포츠', '고엽제전우회', '별관', '주민센터', '그린빌딩', '북측', '북주차장(우측)', '휴게소와',\n",
       "       '건너편', '앞', '경주시', '499-1)', '97-1)', '공중화장실', '2층주차장', '입구앞',\n",
       "       '본관', '필지', '지하', '지상2층', '구청', '4층매장입구옆', '지하1층', '천마산군립공원',\n",
       "       '사랑방', '제2공영주차장', '대마전기차', '182-131', '북구청', 'B1', '2-15', '마트입구',\n",
       "       '후생동', '검품장', '753', '정면', '230-1', '44', '인근', '15', '26', '옆',\n",
       "       '정문', '지상', '번지', '(백운리', '407-1', '골프장', '16-1', '제주현대미술관',\n",
       "       '(신관리', '403-3', '영암국제카트장', '3층', '24-3', '건물', '485', '공영주차장',\n",
       "       '370-1', '386-2', '대형', '환승주차장', '천의삼거리', '292-5', '30-2', '57-26',\n",
       "       '312', '307', '954-4', '679', '7-10', '664-5', '민원봉사실', '42',\n",
       "       '353', '391-3', '30-1', '376-1', '11', '765-161', '(덕곡리', '577-2',\n",
       "       '23-1', '35-4', '1127-28', '6', '140-1', '164-3', '7-6', '271-22',\n",
       "       '343-4', '49-10', '4-7', '-', '940', '1430', '123', '69-2',\n",
       "       '103-5(상)', '45-49', '산8-12', '산44-13', '285-4', '5-2', '68',\n",
       "       '2023'], dtype=object)"
      ]
     },
     "execution_count": 947,
     "metadata": {},
     "output_type": "execute_result"
    }
   ],
   "source": [
    "temp[5].unique()"
   ]
  },
  {
   "cell_type": "code",
   "execution_count": 950,
   "metadata": {},
   "outputs": [],
   "source": [
    "temp = temp.fillna(np.nan)"
   ]
  },
  {
   "cell_type": "code",
   "execution_count": 951,
   "metadata": {},
   "outputs": [
    {
     "data": {
      "text/html": [
       "<div>\n",
       "<style scoped>\n",
       "    .dataframe tbody tr th:only-of-type {\n",
       "        vertical-align: middle;\n",
       "    }\n",
       "\n",
       "    .dataframe tbody tr th {\n",
       "        vertical-align: top;\n",
       "    }\n",
       "\n",
       "    .dataframe thead th {\n",
       "        text-align: right;\n",
       "    }\n",
       "</style>\n",
       "<table border=\"1\" class=\"dataframe\">\n",
       "  <thead>\n",
       "    <tr style=\"text-align: right;\">\n",
       "      <th></th>\n",
       "      <th>0</th>\n",
       "      <th>1</th>\n",
       "      <th>2</th>\n",
       "      <th>3</th>\n",
       "      <th>4</th>\n",
       "      <th>5</th>\n",
       "      <th>6</th>\n",
       "      <th>7</th>\n",
       "      <th>8</th>\n",
       "      <th>9</th>\n",
       "      <th>10</th>\n",
       "      <th>11</th>\n",
       "    </tr>\n",
       "  </thead>\n",
       "  <tbody>\n",
       "    <tr>\n",
       "      <th>0</th>\n",
       "      <td>강원도</td>\n",
       "      <td>인제군</td>\n",
       "      <td>상남면</td>\n",
       "      <td>하남리</td>\n",
       "      <td>339-7(양양방향)</td>\n",
       "      <td>NaN</td>\n",
       "      <td>NaN</td>\n",
       "      <td>NaN</td>\n",
       "      <td>NaN</td>\n",
       "      <td>NaN</td>\n",
       "      <td>NaN</td>\n",
       "      <td>NaN</td>\n",
       "    </tr>\n",
       "    <tr>\n",
       "      <th>1</th>\n",
       "      <td>강원도</td>\n",
       "      <td>인제군</td>\n",
       "      <td>상남면</td>\n",
       "      <td>하남리</td>\n",
       "      <td>339-7(양양방향)</td>\n",
       "      <td>NaN</td>\n",
       "      <td>NaN</td>\n",
       "      <td>NaN</td>\n",
       "      <td>NaN</td>\n",
       "      <td>NaN</td>\n",
       "      <td>NaN</td>\n",
       "      <td>NaN</td>\n",
       "    </tr>\n",
       "    <tr>\n",
       "      <th>2</th>\n",
       "      <td>강원도</td>\n",
       "      <td>인제군</td>\n",
       "      <td>상남면</td>\n",
       "      <td>하남리</td>\n",
       "      <td>339-7(양양방향)</td>\n",
       "      <td>NaN</td>\n",
       "      <td>NaN</td>\n",
       "      <td>NaN</td>\n",
       "      <td>NaN</td>\n",
       "      <td>NaN</td>\n",
       "      <td>NaN</td>\n",
       "      <td>NaN</td>\n",
       "    </tr>\n",
       "    <tr>\n",
       "      <th>3</th>\n",
       "      <td>강원도</td>\n",
       "      <td>인제군</td>\n",
       "      <td>상남면</td>\n",
       "      <td>하남리</td>\n",
       "      <td>339-7(양양방향)</td>\n",
       "      <td>NaN</td>\n",
       "      <td>NaN</td>\n",
       "      <td>NaN</td>\n",
       "      <td>NaN</td>\n",
       "      <td>NaN</td>\n",
       "      <td>NaN</td>\n",
       "      <td>NaN</td>\n",
       "    </tr>\n",
       "    <tr>\n",
       "      <th>5</th>\n",
       "      <td>전라남도</td>\n",
       "      <td>순천시</td>\n",
       "      <td>해룡면</td>\n",
       "      <td>남가리</td>\n",
       "      <td>733-73</td>\n",
       "      <td>NaN</td>\n",
       "      <td>NaN</td>\n",
       "      <td>NaN</td>\n",
       "      <td>NaN</td>\n",
       "      <td>NaN</td>\n",
       "      <td>NaN</td>\n",
       "      <td>NaN</td>\n",
       "    </tr>\n",
       "  </tbody>\n",
       "</table>\n",
       "</div>"
      ],
      "text/plain": [
       "     0    1    2    3            4    5    6    7    8    9    10   11\n",
       "0   강원도  인제군  상남면  하남리  339-7(양양방향)  NaN  NaN  NaN  NaN  NaN  NaN  NaN\n",
       "1   강원도  인제군  상남면  하남리  339-7(양양방향)  NaN  NaN  NaN  NaN  NaN  NaN  NaN\n",
       "2   강원도  인제군  상남면  하남리  339-7(양양방향)  NaN  NaN  NaN  NaN  NaN  NaN  NaN\n",
       "3   강원도  인제군  상남면  하남리  339-7(양양방향)  NaN  NaN  NaN  NaN  NaN  NaN  NaN\n",
       "5  전라남도  순천시  해룡면  남가리       733-73  NaN  NaN  NaN  NaN  NaN  NaN  NaN"
      ]
     },
     "execution_count": 951,
     "metadata": {},
     "output_type": "execute_result"
    }
   ],
   "source": [
    "temp.head()"
   ]
  },
  {
   "cell_type": "code",
   "execution_count": 952,
   "metadata": {},
   "outputs": [
    {
     "data": {
      "text/html": [
       "<div>\n",
       "<style scoped>\n",
       "    .dataframe tbody tr th:only-of-type {\n",
       "        vertical-align: middle;\n",
       "    }\n",
       "\n",
       "    .dataframe tbody tr th {\n",
       "        vertical-align: top;\n",
       "    }\n",
       "\n",
       "    .dataframe thead th {\n",
       "        text-align: right;\n",
       "    }\n",
       "</style>\n",
       "<table border=\"1\" class=\"dataframe\">\n",
       "  <thead>\n",
       "    <tr style=\"text-align: right;\">\n",
       "      <th></th>\n",
       "      <th>충전소명</th>\n",
       "      <th>충전기ID</th>\n",
       "      <th>지역</th>\n",
       "      <th>시군구</th>\n",
       "      <th>주소</th>\n",
       "      <th>충전기타입</th>\n",
       "      <th>충전시작일시</th>\n",
       "      <th>충전종료일시</th>\n",
       "      <th>충전시간</th>\n",
       "      <th>충전량</th>\n",
       "      <th>...</th>\n",
       "      <th>2</th>\n",
       "      <th>3</th>\n",
       "      <th>4</th>\n",
       "      <th>5</th>\n",
       "      <th>6</th>\n",
       "      <th>7</th>\n",
       "      <th>8</th>\n",
       "      <th>9</th>\n",
       "      <th>10</th>\n",
       "      <th>11</th>\n",
       "    </tr>\n",
       "  </thead>\n",
       "  <tbody>\n",
       "    <tr>\n",
       "      <th>0</th>\n",
       "      <td>내린천휴게소 양양방향</td>\n",
       "      <td>1</td>\n",
       "      <td>강원도</td>\n",
       "      <td>인제군</td>\n",
       "      <td>강원도 인제군 상남면 하남리 339-7(양양방향)</td>\n",
       "      <td>DC차데모+AC3상+DC콤보</td>\n",
       "      <td>20200117193331</td>\n",
       "      <td>20200117201417</td>\n",
       "      <td>0 days 00:40:00</td>\n",
       "      <td>25.47</td>\n",
       "      <td>...</td>\n",
       "      <td>상남면</td>\n",
       "      <td>하남리</td>\n",
       "      <td>339-7(양양방향)</td>\n",
       "      <td>NaN</td>\n",
       "      <td>NaN</td>\n",
       "      <td>NaN</td>\n",
       "      <td>NaN</td>\n",
       "      <td>NaN</td>\n",
       "      <td>NaN</td>\n",
       "      <td>NaN</td>\n",
       "    </tr>\n",
       "    <tr>\n",
       "      <th>1</th>\n",
       "      <td>내린천휴게소 양양방향</td>\n",
       "      <td>1</td>\n",
       "      <td>강원도</td>\n",
       "      <td>인제군</td>\n",
       "      <td>강원도 인제군 상남면 하남리 339-7(양양방향)</td>\n",
       "      <td>DC차데모+AC3상+DC콤보</td>\n",
       "      <td>20200130143545</td>\n",
       "      <td>20200130150645</td>\n",
       "      <td>0 days 00:30:31</td>\n",
       "      <td>17.57</td>\n",
       "      <td>...</td>\n",
       "      <td>상남면</td>\n",
       "      <td>하남리</td>\n",
       "      <td>339-7(양양방향)</td>\n",
       "      <td>NaN</td>\n",
       "      <td>NaN</td>\n",
       "      <td>NaN</td>\n",
       "      <td>NaN</td>\n",
       "      <td>NaN</td>\n",
       "      <td>NaN</td>\n",
       "      <td>NaN</td>\n",
       "    </tr>\n",
       "    <tr>\n",
       "      <th>2</th>\n",
       "      <td>내린천휴게소 양양방향</td>\n",
       "      <td>1</td>\n",
       "      <td>강원도</td>\n",
       "      <td>인제군</td>\n",
       "      <td>강원도 인제군 상남면 하남리 339-7(양양방향)</td>\n",
       "      <td>DC차데모+AC3상+DC콤보</td>\n",
       "      <td>20200105005728</td>\n",
       "      <td>20200105011329</td>\n",
       "      <td>0 days 00:15:35</td>\n",
       "      <td>6.98</td>\n",
       "      <td>...</td>\n",
       "      <td>상남면</td>\n",
       "      <td>하남리</td>\n",
       "      <td>339-7(양양방향)</td>\n",
       "      <td>NaN</td>\n",
       "      <td>NaN</td>\n",
       "      <td>NaN</td>\n",
       "      <td>NaN</td>\n",
       "      <td>NaN</td>\n",
       "      <td>NaN</td>\n",
       "      <td>NaN</td>\n",
       "    </tr>\n",
       "    <tr>\n",
       "      <th>3</th>\n",
       "      <td>내린천휴게소 양양방향</td>\n",
       "      <td>3</td>\n",
       "      <td>강원도</td>\n",
       "      <td>인제군</td>\n",
       "      <td>강원도 인제군 상남면 하남리 339-7(양양방향)</td>\n",
       "      <td>DC콤보</td>\n",
       "      <td>20200120120215</td>\n",
       "      <td>20200120124708</td>\n",
       "      <td>0 days 00:41:00</td>\n",
       "      <td>15.30</td>\n",
       "      <td>...</td>\n",
       "      <td>상남면</td>\n",
       "      <td>하남리</td>\n",
       "      <td>339-7(양양방향)</td>\n",
       "      <td>NaN</td>\n",
       "      <td>NaN</td>\n",
       "      <td>NaN</td>\n",
       "      <td>NaN</td>\n",
       "      <td>NaN</td>\n",
       "      <td>NaN</td>\n",
       "      <td>NaN</td>\n",
       "    </tr>\n",
       "    <tr>\n",
       "      <th>5</th>\n",
       "      <td>현대블루핸즈 지봉점</td>\n",
       "      <td>1</td>\n",
       "      <td>전라남도</td>\n",
       "      <td>순천시</td>\n",
       "      <td>전라남도 순천시 해룡면 남가리 733-73</td>\n",
       "      <td>DC차데모+AC3상+DC콤보</td>\n",
       "      <td>20200112150247</td>\n",
       "      <td>20200112154347</td>\n",
       "      <td>0 days 00:40:00</td>\n",
       "      <td>28.72</td>\n",
       "      <td>...</td>\n",
       "      <td>해룡면</td>\n",
       "      <td>남가리</td>\n",
       "      <td>733-73</td>\n",
       "      <td>NaN</td>\n",
       "      <td>NaN</td>\n",
       "      <td>NaN</td>\n",
       "      <td>NaN</td>\n",
       "      <td>NaN</td>\n",
       "      <td>NaN</td>\n",
       "      <td>NaN</td>\n",
       "    </tr>\n",
       "  </tbody>\n",
       "</table>\n",
       "<p>5 rows × 39 columns</p>\n",
       "</div>"
      ],
      "text/plain": [
       "          충전소명  충전기ID    지역  시군구                           주소  \\\n",
       "0  내린천휴게소 양양방향      1   강원도  인제군  강원도 인제군 상남면 하남리 339-7(양양방향)   \n",
       "1  내린천휴게소 양양방향      1   강원도  인제군  강원도 인제군 상남면 하남리 339-7(양양방향)   \n",
       "2  내린천휴게소 양양방향      1   강원도  인제군  강원도 인제군 상남면 하남리 339-7(양양방향)   \n",
       "3  내린천휴게소 양양방향      3   강원도  인제군  강원도 인제군 상남면 하남리 339-7(양양방향)   \n",
       "5   현대블루핸즈 지봉점      1  전라남도  순천시      전라남도 순천시 해룡면 남가리 733-73   \n",
       "\n",
       "             충전기타입          충전시작일시          충전종료일시             충전시간    충전량  \\\n",
       "0  DC차데모+AC3상+DC콤보  20200117193331  20200117201417  0 days 00:40:00  25.47   \n",
       "1  DC차데모+AC3상+DC콤보  20200130143545  20200130150645  0 days 00:30:31  17.57   \n",
       "2  DC차데모+AC3상+DC콤보  20200105005728  20200105011329  0 days 00:15:35   6.98   \n",
       "3             DC콤보  20200120120215  20200120124708  0 days 00:41:00  15.30   \n",
       "5  DC차데모+AC3상+DC콤보  20200112150247  20200112154347  0 days 00:40:00  28.72   \n",
       "\n",
       "   ...    2    3            4    5    6    7    8    9   10   11  \n",
       "0  ...  상남면  하남리  339-7(양양방향)  NaN  NaN  NaN  NaN  NaN  NaN  NaN  \n",
       "1  ...  상남면  하남리  339-7(양양방향)  NaN  NaN  NaN  NaN  NaN  NaN  NaN  \n",
       "2  ...  상남면  하남리  339-7(양양방향)  NaN  NaN  NaN  NaN  NaN  NaN  NaN  \n",
       "3  ...  상남면  하남리  339-7(양양방향)  NaN  NaN  NaN  NaN  NaN  NaN  NaN  \n",
       "5  ...  해룡면  남가리       733-73  NaN  NaN  NaN  NaN  NaN  NaN  NaN  \n",
       "\n",
       "[5 rows x 39 columns]"
      ]
     },
     "execution_count": 952,
     "metadata": {},
     "output_type": "execute_result"
    }
   ],
   "source": [
    "old_adr_df2 = pd.concat([old_adr_df, temp], axis=1)\n",
    "old_adr_df2.head()"
   ]
  },
  {
   "cell_type": "markdown",
   "metadata": {},
   "source": [
    "##### 주소 상세 분리 확인"
   ]
  },
  {
   "cell_type": "code",
   "execution_count": 953,
   "metadata": {},
   "outputs": [
    {
     "data": {
      "text/html": [
       "<div>\n",
       "<style scoped>\n",
       "    .dataframe tbody tr th:only-of-type {\n",
       "        vertical-align: middle;\n",
       "    }\n",
       "\n",
       "    .dataframe tbody tr th {\n",
       "        vertical-align: top;\n",
       "    }\n",
       "\n",
       "    .dataframe thead th {\n",
       "        text-align: right;\n",
       "    }\n",
       "</style>\n",
       "<table border=\"1\" class=\"dataframe\">\n",
       "  <thead>\n",
       "    <tr style=\"text-align: right;\">\n",
       "      <th></th>\n",
       "      <th>주소</th>\n",
       "      <th>0</th>\n",
       "      <th>1</th>\n",
       "      <th>2</th>\n",
       "      <th>3</th>\n",
       "      <th>4</th>\n",
       "    </tr>\n",
       "  </thead>\n",
       "  <tbody>\n",
       "    <tr>\n",
       "      <th>11665807</th>\n",
       "      <td>경기도 안산시 상록구 사동 1271-11</td>\n",
       "      <td>경기도</td>\n",
       "      <td>안산시</td>\n",
       "      <td>상록구</td>\n",
       "      <td>사동</td>\n",
       "      <td>1271-11</td>\n",
       "    </tr>\n",
       "    <tr>\n",
       "      <th>11665811</th>\n",
       "      <td>경기도 의정부시 호원동 229-160</td>\n",
       "      <td>경기도</td>\n",
       "      <td>의정부시</td>\n",
       "      <td>호원동</td>\n",
       "      <td>229-160</td>\n",
       "      <td>NaN</td>\n",
       "    </tr>\n",
       "    <tr>\n",
       "      <th>11665813</th>\n",
       "      <td>서울특별시 서초구 반포동 49-8</td>\n",
       "      <td>서울특별시</td>\n",
       "      <td>서초구</td>\n",
       "      <td>반포동</td>\n",
       "      <td>49-8</td>\n",
       "      <td>NaN</td>\n",
       "    </tr>\n",
       "    <tr>\n",
       "      <th>11665819</th>\n",
       "      <td>인천광역시 서구 당하동 1097-5  검단4동 주민센터 옆</td>\n",
       "      <td>인천광역시</td>\n",
       "      <td>서구</td>\n",
       "      <td>당하동</td>\n",
       "      <td>1097-5</td>\n",
       "      <td>검단4동</td>\n",
       "    </tr>\n",
       "    <tr>\n",
       "      <th>11665820</th>\n",
       "      <td>대구광역시 남구 봉덕동 1272-18</td>\n",
       "      <td>대구광역시</td>\n",
       "      <td>남구</td>\n",
       "      <td>봉덕동</td>\n",
       "      <td>1272-18</td>\n",
       "      <td>NaN</td>\n",
       "    </tr>\n",
       "  </tbody>\n",
       "</table>\n",
       "</div>"
      ],
      "text/plain": [
       "                                        주소      0     1    2        3        4\n",
       "11665807            경기도 안산시 상록구 사동 1271-11    경기도   안산시  상록구       사동  1271-11\n",
       "11665811              경기도 의정부시 호원동 229-160    경기도  의정부시  호원동  229-160      NaN\n",
       "11665813                서울특별시 서초구 반포동 49-8  서울특별시   서초구  반포동     49-8      NaN\n",
       "11665819  인천광역시 서구 당하동 1097-5  검단4동 주민센터 옆  인천광역시    서구  당하동   1097-5     검단4동\n",
       "11665820              대구광역시 남구 봉덕동 1272-18  대구광역시    남구  봉덕동  1272-18      NaN"
      ]
     },
     "execution_count": 953,
     "metadata": {},
     "output_type": "execute_result"
    }
   ],
   "source": [
    "old_adr_df2[['주소', 0, 1, 2, 3, 4]].tail()"
   ]
  },
  {
   "cell_type": "code",
   "execution_count": 955,
   "metadata": {},
   "outputs": [
    {
     "data": {
      "text/html": [
       "<div>\n",
       "<style scoped>\n",
       "    .dataframe tbody tr th:only-of-type {\n",
       "        vertical-align: middle;\n",
       "    }\n",
       "\n",
       "    .dataframe tbody tr th {\n",
       "        vertical-align: top;\n",
       "    }\n",
       "\n",
       "    .dataframe thead th {\n",
       "        text-align: right;\n",
       "    }\n",
       "</style>\n",
       "<table border=\"1\" class=\"dataframe\">\n",
       "  <thead>\n",
       "    <tr style=\"text-align: right;\">\n",
       "      <th></th>\n",
       "      <th>주소</th>\n",
       "      <th>0</th>\n",
       "      <th>1</th>\n",
       "      <th>2</th>\n",
       "      <th>3</th>\n",
       "      <th>4</th>\n",
       "    </tr>\n",
       "  </thead>\n",
       "  <tbody>\n",
       "    <tr>\n",
       "      <th>0</th>\n",
       "      <td>강원도 인제군 상남면 하남리 339-7(양양방향)</td>\n",
       "      <td>강원도</td>\n",
       "      <td>인제군</td>\n",
       "      <td>상남면</td>\n",
       "      <td>하남리</td>\n",
       "      <td>339-7(양양방향)</td>\n",
       "    </tr>\n",
       "    <tr>\n",
       "      <th>1</th>\n",
       "      <td>강원도 인제군 상남면 하남리 339-7(양양방향)</td>\n",
       "      <td>강원도</td>\n",
       "      <td>인제군</td>\n",
       "      <td>상남면</td>\n",
       "      <td>하남리</td>\n",
       "      <td>339-7(양양방향)</td>\n",
       "    </tr>\n",
       "    <tr>\n",
       "      <th>2</th>\n",
       "      <td>강원도 인제군 상남면 하남리 339-7(양양방향)</td>\n",
       "      <td>강원도</td>\n",
       "      <td>인제군</td>\n",
       "      <td>상남면</td>\n",
       "      <td>하남리</td>\n",
       "      <td>339-7(양양방향)</td>\n",
       "    </tr>\n",
       "    <tr>\n",
       "      <th>3</th>\n",
       "      <td>강원도 인제군 상남면 하남리 339-7(양양방향)</td>\n",
       "      <td>강원도</td>\n",
       "      <td>인제군</td>\n",
       "      <td>상남면</td>\n",
       "      <td>하남리</td>\n",
       "      <td>339-7(양양방향)</td>\n",
       "    </tr>\n",
       "    <tr>\n",
       "      <th>5</th>\n",
       "      <td>전라남도 순천시 해룡면 남가리 733-73</td>\n",
       "      <td>전라남도</td>\n",
       "      <td>순천시</td>\n",
       "      <td>해룡면</td>\n",
       "      <td>남가리</td>\n",
       "      <td>733-73</td>\n",
       "    </tr>\n",
       "  </tbody>\n",
       "</table>\n",
       "</div>"
      ],
      "text/plain": [
       "                            주소     0    1    2    3            4\n",
       "0  강원도 인제군 상남면 하남리 339-7(양양방향)   강원도  인제군  상남면  하남리  339-7(양양방향)\n",
       "1  강원도 인제군 상남면 하남리 339-7(양양방향)   강원도  인제군  상남면  하남리  339-7(양양방향)\n",
       "2  강원도 인제군 상남면 하남리 339-7(양양방향)   강원도  인제군  상남면  하남리  339-7(양양방향)\n",
       "3  강원도 인제군 상남면 하남리 339-7(양양방향)   강원도  인제군  상남면  하남리  339-7(양양방향)\n",
       "5      전라남도 순천시 해룡면 남가리 733-73  전라남도  순천시  해룡면  남가리       733-73"
      ]
     },
     "execution_count": 955,
     "metadata": {},
     "output_type": "execute_result"
    }
   ],
   "source": [
    "old_adr_df2[['주소', 0, 1, 2, 3, 4]].head()"
   ]
  },
  {
   "cell_type": "markdown",
   "metadata": {},
   "source": [
    "##### 구주소 상세 분리 파일 출력"
   ]
  },
  {
   "cell_type": "code",
   "execution_count": 954,
   "metadata": {},
   "outputs": [],
   "source": [
    "old_adr_df2.to_csv('2020-22년_급속충전_구주소_상세분리.csv', encoding='utf-8')"
   ]
  },
  {
   "cell_type": "markdown",
   "metadata": {},
   "source": [
    "## 분석"
   ]
  },
  {
   "cell_type": "markdown",
   "metadata": {},
   "source": [
    "##### 신, 구주소 상세분리 파일 로드(다시 시작)"
   ]
  },
  {
   "cell_type": "code",
   "execution_count": 3,
   "metadata": {},
   "outputs": [
    {
     "name": "stderr",
     "output_type": "stream",
     "text": [
      "C:\\Users\\kbj\\AppData\\Local\\Temp\\ipykernel_1120\\2564991263.py:1: DtypeWarning: Columns (11,40) have mixed types. Specify dtype option on import or set low_memory=False.\n",
      "  new_adr_df2 = pd.read_csv('2020-22년_급속충전_신주소_상세분리.csv', index_col=0)\n",
      "C:\\Users\\kbj\\AppData\\Local\\Temp\\ipykernel_1120\\2564991263.py:2: DtypeWarning: Columns (11,39) have mixed types. Specify dtype option on import or set low_memory=False.\n",
      "  old_adr_df2 = pd.read_csv('2020-22년_급속충전_구주소_상세분리.csv', index_col=0)\n"
     ]
    }
   ],
   "source": [
    "new_adr_df2 = pd.read_csv('2020-22년_급속충전_신주소_상세분리.csv', index_col=0)\n",
    "old_adr_df2 = pd.read_csv('2020-22년_급속충전_구주소_상세분리.csv', index_col=0)"
   ]
  },
  {
   "cell_type": "code",
   "execution_count": 4,
   "metadata": {},
   "outputs": [
    {
     "name": "stdout",
     "output_type": "stream",
     "text": [
      "<class 'pandas.core.frame.DataFrame'>\n",
      "Int64Index: 7749439 entries, 4 to 11665821\n",
      "Data columns (total 40 columns):\n",
      " #   Column        Dtype  \n",
      "---  ------        -----  \n",
      " 0   충전소명          object \n",
      " 1   충전기ID         int64  \n",
      " 2   지역            object \n",
      " 3   시군구           object \n",
      " 4   주소            object \n",
      " 5   충전기타입         object \n",
      " 6   충전시작일시        int64  \n",
      " 7   충전종료일시        int64  \n",
      " 8   충전시간          object \n",
      " 9   충전량           float64\n",
      " 10  충전용량          object \n",
      " 11  충전시작_년도       int64  \n",
      " 12  충전시작_월        int64  \n",
      " 13  충전시작_일        int64  \n",
      " 14  충전시작_시        int64  \n",
      " 15  충전시작_분        int64  \n",
      " 16  충전시작_초        int64  \n",
      " 17  충전시작일시(변환)    object \n",
      " 18  충전종료_년도       int64  \n",
      " 19  충전종료_월        int64  \n",
      " 20  충전종료_일        int64  \n",
      " 21  충전종료_시        int64  \n",
      " 22  충전종료_분        int64  \n",
      " 23  충전종료_초        int64  \n",
      " 24  충전종료일시(변환)    object \n",
      " 25  충전시간(계산)      object \n",
      " 26  raw값과_계산값_차이  object \n",
      " 27  0             object \n",
      " 28  1             object \n",
      " 29  2             object \n",
      " 30  3             object \n",
      " 31  4             object \n",
      " 32  5             object \n",
      " 33  6             object \n",
      " 34  7             object \n",
      " 35  8             object \n",
      " 36  9             object \n",
      " 37  10            object \n",
      " 38  11            object \n",
      " 39  12            object \n",
      "dtypes: float64(1), int64(15), object(24)\n",
      "memory usage: 2.4+ GB\n"
     ]
    }
   ],
   "source": [
    "new_adr_df2.info()"
   ]
  },
  {
   "cell_type": "code",
   "execution_count": 5,
   "metadata": {},
   "outputs": [
    {
     "name": "stdout",
     "output_type": "stream",
     "text": [
      "<class 'pandas.core.frame.DataFrame'>\n",
      "Int64Index: 3864010 entries, 0 to 11665820\n",
      "Data columns (total 39 columns):\n",
      " #   Column        Dtype  \n",
      "---  ------        -----  \n",
      " 0   충전소명          object \n",
      " 1   충전기ID         int64  \n",
      " 2   지역            object \n",
      " 3   시군구           object \n",
      " 4   주소            object \n",
      " 5   충전기타입         object \n",
      " 6   충전시작일시        int64  \n",
      " 7   충전종료일시        int64  \n",
      " 8   충전시간          object \n",
      " 9   충전량           float64\n",
      " 10  충전용량          object \n",
      " 11  충전시작_년도       int64  \n",
      " 12  충전시작_월        int64  \n",
      " 13  충전시작_일        int64  \n",
      " 14  충전시작_시        int64  \n",
      " 15  충전시작_분        int64  \n",
      " 16  충전시작_초        int64  \n",
      " 17  충전시작일시(변환)    object \n",
      " 18  충전종료_년도       int64  \n",
      " 19  충전종료_월        int64  \n",
      " 20  충전종료_일        int64  \n",
      " 21  충전종료_시        int64  \n",
      " 22  충전종료_분        int64  \n",
      " 23  충전종료_초        int64  \n",
      " 24  충전종료일시(변환)    object \n",
      " 25  충전시간(계산)      object \n",
      " 26  raw값과_계산값_차이  object \n",
      " 27  0             object \n",
      " 28  1             object \n",
      " 29  2             object \n",
      " 30  3             object \n",
      " 31  4             object \n",
      " 32  5             object \n",
      " 33  6             object \n",
      " 34  7             object \n",
      " 35  8             object \n",
      " 36  9             object \n",
      " 37  10            object \n",
      " 38  11            object \n",
      "dtypes: float64(1), int64(15), object(23)\n",
      "memory usage: 1.2+ GB\n"
     ]
    }
   ],
   "source": [
    "old_adr_df2.info()"
   ]
  },
  {
   "cell_type": "markdown",
   "metadata": {},
   "source": [
    "##### reset index"
   ]
  },
  {
   "cell_type": "code",
   "execution_count": 6,
   "metadata": {},
   "outputs": [],
   "source": [
    "new_adr_df2 = new_adr_df2.reset_index(drop=True)\n",
    "old_adr_df2 = old_adr_df2.reset_index(drop=True)"
   ]
  },
  {
   "cell_type": "code",
   "execution_count": 7,
   "metadata": {},
   "outputs": [
    {
     "name": "stdout",
     "output_type": "stream",
     "text": [
      "<class 'pandas.core.frame.DataFrame'>\n",
      "RangeIndex: 7749439 entries, 0 to 7749438\n",
      "Data columns (total 40 columns):\n",
      " #   Column        Dtype  \n",
      "---  ------        -----  \n",
      " 0   충전소명          object \n",
      " 1   충전기ID         int64  \n",
      " 2   지역            object \n",
      " 3   시군구           object \n",
      " 4   주소            object \n",
      " 5   충전기타입         object \n",
      " 6   충전시작일시        int64  \n",
      " 7   충전종료일시        int64  \n",
      " 8   충전시간          object \n",
      " 9   충전량           float64\n",
      " 10  충전용량          object \n",
      " 11  충전시작_년도       int64  \n",
      " 12  충전시작_월        int64  \n",
      " 13  충전시작_일        int64  \n",
      " 14  충전시작_시        int64  \n",
      " 15  충전시작_분        int64  \n",
      " 16  충전시작_초        int64  \n",
      " 17  충전시작일시(변환)    object \n",
      " 18  충전종료_년도       int64  \n",
      " 19  충전종료_월        int64  \n",
      " 20  충전종료_일        int64  \n",
      " 21  충전종료_시        int64  \n",
      " 22  충전종료_분        int64  \n",
      " 23  충전종료_초        int64  \n",
      " 24  충전종료일시(변환)    object \n",
      " 25  충전시간(계산)      object \n",
      " 26  raw값과_계산값_차이  object \n",
      " 27  0             object \n",
      " 28  1             object \n",
      " 29  2             object \n",
      " 30  3             object \n",
      " 31  4             object \n",
      " 32  5             object \n",
      " 33  6             object \n",
      " 34  7             object \n",
      " 35  8             object \n",
      " 36  9             object \n",
      " 37  10            object \n",
      " 38  11            object \n",
      " 39  12            object \n",
      "dtypes: float64(1), int64(15), object(24)\n",
      "memory usage: 2.3+ GB\n"
     ]
    }
   ],
   "source": [
    "new_adr_df2.info()"
   ]
  },
  {
   "cell_type": "code",
   "execution_count": 8,
   "metadata": {},
   "outputs": [
    {
     "name": "stdout",
     "output_type": "stream",
     "text": [
      "<class 'pandas.core.frame.DataFrame'>\n",
      "RangeIndex: 3864010 entries, 0 to 3864009\n",
      "Data columns (total 39 columns):\n",
      " #   Column        Dtype  \n",
      "---  ------        -----  \n",
      " 0   충전소명          object \n",
      " 1   충전기ID         int64  \n",
      " 2   지역            object \n",
      " 3   시군구           object \n",
      " 4   주소            object \n",
      " 5   충전기타입         object \n",
      " 6   충전시작일시        int64  \n",
      " 7   충전종료일시        int64  \n",
      " 8   충전시간          object \n",
      " 9   충전량           float64\n",
      " 10  충전용량          object \n",
      " 11  충전시작_년도       int64  \n",
      " 12  충전시작_월        int64  \n",
      " 13  충전시작_일        int64  \n",
      " 14  충전시작_시        int64  \n",
      " 15  충전시작_분        int64  \n",
      " 16  충전시작_초        int64  \n",
      " 17  충전시작일시(변환)    object \n",
      " 18  충전종료_년도       int64  \n",
      " 19  충전종료_월        int64  \n",
      " 20  충전종료_일        int64  \n",
      " 21  충전종료_시        int64  \n",
      " 22  충전종료_분        int64  \n",
      " 23  충전종료_초        int64  \n",
      " 24  충전종료일시(변환)    object \n",
      " 25  충전시간(계산)      object \n",
      " 26  raw값과_계산값_차이  object \n",
      " 27  0             object \n",
      " 28  1             object \n",
      " 29  2             object \n",
      " 30  3             object \n",
      " 31  4             object \n",
      " 32  5             object \n",
      " 33  6             object \n",
      " 34  7             object \n",
      " 35  8             object \n",
      " 36  9             object \n",
      " 37  10            object \n",
      " 38  11            object \n",
      "dtypes: float64(1), int64(15), object(23)\n",
      "memory usage: 1.1+ GB\n"
     ]
    }
   ],
   "source": [
    "old_adr_df2.info()"
   ]
  },
  {
   "cell_type": "markdown",
   "metadata": {},
   "source": [
    "##### 충전시간 타입 변경"
   ]
  },
  {
   "cell_type": "code",
   "execution_count": 18,
   "metadata": {},
   "outputs": [
    {
     "name": "stdout",
     "output_type": "stream",
     "text": [
      "<class 'pandas.core.series.Series'>\n",
      "RangeIndex: 7749439 entries, 0 to 7749438\n",
      "Series name: 충전시간\n",
      "Non-Null Count    Dtype          \n",
      "--------------    -----          \n",
      "7749439 non-null  timedelta64[ns]\n",
      "dtypes: timedelta64[ns](1)\n",
      "memory usage: 59.1 MB\n"
     ]
    }
   ],
   "source": [
    "new_adr_df2['충전시간'] = pd.to_timedelta(new_adr_df2['충전시간'])\n",
    "new_adr_df2['충전시간'].info()"
   ]
  },
  {
   "cell_type": "markdown",
   "metadata": {},
   "source": [
    "### 교체 충전기 수 예측\n",
    "- 충전기 별 충전량/충전시간 데이터 활용\n",
    "- 같은 지역내에 동일한 \"충전기ID\" 존재"
   ]
  },
  {
   "cell_type": "code",
   "execution_count": 20,
   "metadata": {},
   "outputs": [
    {
     "data": {
      "text/plain": [
       "Index(['충전소명', '충전기ID', '지역', '시군구', '주소', '충전기타입', '충전시작일시', '충전종료일시', '충전시간',\n",
       "       '충전량', '충전용량', '충전시작_년도', '충전시작_월', '충전시작_일', '충전시작_시', '충전시작_분',\n",
       "       '충전시작_초', '충전시작일시(변환)', '충전종료_년도', '충전종료_월', '충전종료_일', '충전종료_시',\n",
       "       '충전종료_분', '충전종료_초', '충전종료일시(변환)', '충전시간(계산)', 'raw값과_계산값_차이', '0', '1',\n",
       "       '2', '3', '4', '5', '6', '7', '8', '9', '10', '11', '12'],\n",
       "      dtype='object')"
      ]
     },
     "execution_count": 20,
     "metadata": {},
     "output_type": "execute_result"
    }
   ],
   "source": [
    "new_adr_df2.columns"
   ]
  },
  {
   "cell_type": "code",
   "execution_count": 21,
   "metadata": {},
   "outputs": [
    {
     "data": {
      "text/html": [
       "<div>\n",
       "<style scoped>\n",
       "    .dataframe tbody tr th:only-of-type {\n",
       "        vertical-align: middle;\n",
       "    }\n",
       "\n",
       "    .dataframe tbody tr th {\n",
       "        vertical-align: top;\n",
       "    }\n",
       "\n",
       "    .dataframe thead th {\n",
       "        text-align: right;\n",
       "    }\n",
       "</style>\n",
       "<table border=\"1\" class=\"dataframe\">\n",
       "  <thead>\n",
       "    <tr style=\"text-align: right;\">\n",
       "      <th></th>\n",
       "      <th>충전기ID</th>\n",
       "      <th>지역</th>\n",
       "      <th>시군구</th>\n",
       "      <th>충전기타입</th>\n",
       "      <th>충전시간</th>\n",
       "      <th>충전량</th>\n",
       "    </tr>\n",
       "  </thead>\n",
       "  <tbody>\n",
       "    <tr>\n",
       "      <th>0</th>\n",
       "      <td>1</td>\n",
       "      <td>광주광역시</td>\n",
       "      <td>북구</td>\n",
       "      <td>DC차데모+AC3상+DC콤보</td>\n",
       "      <td>0 days 00:31:14</td>\n",
       "      <td>21.92</td>\n",
       "    </tr>\n",
       "    <tr>\n",
       "      <th>1</th>\n",
       "      <td>1</td>\n",
       "      <td>전라남도</td>\n",
       "      <td>구례군</td>\n",
       "      <td>DC차데모+AC3상+DC콤보</td>\n",
       "      <td>0 days 00:20:28</td>\n",
       "      <td>14.05</td>\n",
       "    </tr>\n",
       "    <tr>\n",
       "      <th>2</th>\n",
       "      <td>1</td>\n",
       "      <td>전라남도</td>\n",
       "      <td>구례군</td>\n",
       "      <td>DC차데모+AC3상+DC콤보</td>\n",
       "      <td>0 days 00:27:25</td>\n",
       "      <td>18.95</td>\n",
       "    </tr>\n",
       "    <tr>\n",
       "      <th>3</th>\n",
       "      <td>2</td>\n",
       "      <td>전라남도</td>\n",
       "      <td>구례군</td>\n",
       "      <td>DC차데모+AC3상+DC콤보</td>\n",
       "      <td>0 days 00:10:47</td>\n",
       "      <td>6.16</td>\n",
       "    </tr>\n",
       "    <tr>\n",
       "      <th>4</th>\n",
       "      <td>1</td>\n",
       "      <td>전라남도</td>\n",
       "      <td>무안군</td>\n",
       "      <td>DC차데모+AC3상+DC콤보</td>\n",
       "      <td>0 days 00:35:56</td>\n",
       "      <td>25.44</td>\n",
       "    </tr>\n",
       "  </tbody>\n",
       "</table>\n",
       "</div>"
      ],
      "text/plain": [
       "   충전기ID     지역  시군구            충전기타입            충전시간    충전량\n",
       "0      1  광주광역시   북구  DC차데모+AC3상+DC콤보 0 days 00:31:14  21.92\n",
       "1      1   전라남도  구례군  DC차데모+AC3상+DC콤보 0 days 00:20:28  14.05\n",
       "2      1   전라남도  구례군  DC차데모+AC3상+DC콤보 0 days 00:27:25  18.95\n",
       "3      2   전라남도  구례군  DC차데모+AC3상+DC콤보 0 days 00:10:47   6.16\n",
       "4      1   전라남도  무안군  DC차데모+AC3상+DC콤보 0 days 00:35:56  25.44"
      ]
     },
     "execution_count": 21,
     "metadata": {},
     "output_type": "execute_result"
    }
   ],
   "source": [
    "temp = new_adr_df2[['충전기ID', '지역', '시군구', '충전기타입', '충전시간', '충전량']]\n",
    "temp.head()"
   ]
  },
  {
   "cell_type": "code",
   "execution_count": 22,
   "metadata": {},
   "outputs": [
    {
     "data": {
      "text/plain": [
       "array(['광주광역시', '전라남도', '전라북도', '제주특별자치도', '세종특별자치시', '서울특별시', '대전광역시',\n",
       "       '경기도', '인천광역시', '경상남도', '강원도', '충청북도', '경상북도', '충청남도', '울산광역시',\n",
       "       '대구광역시', '부산광역시'], dtype=object)"
      ]
     },
     "execution_count": 22,
     "metadata": {},
     "output_type": "execute_result"
    }
   ],
   "source": [
    "temp['지역'].unique()"
   ]
  },
  {
   "cell_type": "code",
   "execution_count": 23,
   "metadata": {},
   "outputs": [
    {
     "data": {
      "text/plain": [
       "array([ 1,  2, 11,  3,  4,  5, 12, 52, 14, 18, 51, 10, 13,  6,  8, 15, 17,\n",
       "       42, 21, 41, 44, 43, 22, 24, 23, 16,  7, 91, 88, 80, 89, 86, 83, 85,\n",
       "       84, 87, 45, 81, 82, 46, 47, 26, 25, 92, 28, 27, 95, 98, 96, 97, 93,\n",
       "       94], dtype=int64)"
      ]
     },
     "execution_count": 23,
     "metadata": {},
     "output_type": "execute_result"
    }
   ],
   "source": [
    "temp['충전기ID'].unique()"
   ]
  },
  {
   "cell_type": "code",
   "execution_count": 24,
   "metadata": {},
   "outputs": [
    {
     "data": {
      "text/plain": [
       "array([ 1,  3,  4,  5,  2, 52, 12, 13, 11,  6, 14, 21, 22,  8,  7, 41, 42,\n",
       "       44, 45, 43, 24, 23, 26, 25], dtype=int64)"
      ]
     },
     "execution_count": 24,
     "metadata": {},
     "output_type": "execute_result"
    }
   ],
   "source": [
    "temp[temp['지역'] == '서울특별시']['충전기ID'].unique()"
   ]
  },
  {
   "cell_type": "code",
   "execution_count": 28,
   "metadata": {},
   "outputs": [
    {
     "data": {
      "text/plain": [
       "1     404482\n",
       "2      52729\n",
       "22     42123\n",
       "21     37271\n",
       "12     28079\n",
       "11     26816\n",
       "41     11340\n",
       "45      8639\n",
       "44      8049\n",
       "3       7917\n",
       "4       7459\n",
       "42      6339\n",
       "43      6216\n",
       "23      5414\n",
       "52      5070\n",
       "24      5002\n",
       "5       3903\n",
       "26      3707\n",
       "6       3336\n",
       "8       3249\n",
       "25      2697\n",
       "7       2221\n",
       "13       961\n",
       "14       214\n",
       "Name: 충전기ID, dtype: int64"
      ]
     },
     "execution_count": 28,
     "metadata": {},
     "output_type": "execute_result"
    }
   ],
   "source": [
    "temp[temp['지역'] == '서울특별시']['충전기ID'].value_counts()"
   ]
  },
  {
   "cell_type": "code",
   "execution_count": 25,
   "metadata": {},
   "outputs": [
    {
     "data": {
      "text/plain": [
       "array([12,  1,  2, 11, 52, 51,  5,  3, 14, 13, 22, 21,  4,  8,  7, 41, 42,\n",
       "       23,  6, 43, 44, 24, 88, 80, 89, 86, 83, 85, 84, 87, 45, 81, 82, 46,\n",
       "       91, 26, 28, 27, 25, 95, 98, 96, 97, 93, 92, 94], dtype=int64)"
      ]
     },
     "execution_count": 25,
     "metadata": {},
     "output_type": "execute_result"
    }
   ],
   "source": [
    "temp[temp['지역'] == '경기도']['충전기ID'].unique()"
   ]
  },
  {
   "cell_type": "code",
   "execution_count": 26,
   "metadata": {},
   "outputs": [
    {
     "data": {
      "text/html": [
       "<div>\n",
       "<style scoped>\n",
       "    .dataframe tbody tr th:only-of-type {\n",
       "        vertical-align: middle;\n",
       "    }\n",
       "\n",
       "    .dataframe tbody tr th {\n",
       "        vertical-align: top;\n",
       "    }\n",
       "\n",
       "    .dataframe thead th {\n",
       "        text-align: right;\n",
       "    }\n",
       "</style>\n",
       "<table border=\"1\" class=\"dataframe\">\n",
       "  <thead>\n",
       "    <tr style=\"text-align: right;\">\n",
       "      <th></th>\n",
       "      <th>충전기ID</th>\n",
       "      <th>지역</th>\n",
       "      <th>시군구</th>\n",
       "      <th>충전기타입</th>\n",
       "      <th>충전시간</th>\n",
       "      <th>충전량</th>\n",
       "    </tr>\n",
       "  </thead>\n",
       "  <tbody>\n",
       "    <tr>\n",
       "      <th>19</th>\n",
       "      <td>1</td>\n",
       "      <td>서울특별시</td>\n",
       "      <td>영등포구</td>\n",
       "      <td>DC차데모+AC3상+DC콤보</td>\n",
       "      <td>0 days 00:18:50</td>\n",
       "      <td>11.43</td>\n",
       "    </tr>\n",
       "    <tr>\n",
       "      <th>20</th>\n",
       "      <td>1</td>\n",
       "      <td>서울특별시</td>\n",
       "      <td>영등포구</td>\n",
       "      <td>DC차데모+AC3상+DC콤보</td>\n",
       "      <td>0 days 00:25:58</td>\n",
       "      <td>6.99</td>\n",
       "    </tr>\n",
       "    <tr>\n",
       "      <th>21</th>\n",
       "      <td>3</td>\n",
       "      <td>서울특별시</td>\n",
       "      <td>영등포구</td>\n",
       "      <td>DC콤보</td>\n",
       "      <td>0 days 00:26:40</td>\n",
       "      <td>5.77</td>\n",
       "    </tr>\n",
       "    <tr>\n",
       "      <th>22</th>\n",
       "      <td>3</td>\n",
       "      <td>서울특별시</td>\n",
       "      <td>영등포구</td>\n",
       "      <td>DC콤보</td>\n",
       "      <td>0 days 00:41:00</td>\n",
       "      <td>21.72</td>\n",
       "    </tr>\n",
       "    <tr>\n",
       "      <th>23</th>\n",
       "      <td>4</td>\n",
       "      <td>서울특별시</td>\n",
       "      <td>영등포구</td>\n",
       "      <td>DC콤보</td>\n",
       "      <td>0 days 00:18:41</td>\n",
       "      <td>8.06</td>\n",
       "    </tr>\n",
       "  </tbody>\n",
       "</table>\n",
       "</div>"
      ],
      "text/plain": [
       "    충전기ID     지역   시군구            충전기타입            충전시간    충전량\n",
       "19      1  서울특별시  영등포구  DC차데모+AC3상+DC콤보 0 days 00:18:50  11.43\n",
       "20      1  서울특별시  영등포구  DC차데모+AC3상+DC콤보 0 days 00:25:58   6.99\n",
       "21      3  서울특별시  영등포구             DC콤보 0 days 00:26:40   5.77\n",
       "22      3  서울특별시  영등포구             DC콤보 0 days 00:41:00  21.72\n",
       "23      4  서울특별시  영등포구             DC콤보 0 days 00:18:41   8.06"
      ]
     },
     "execution_count": 26,
     "metadata": {},
     "output_type": "execute_result"
    }
   ],
   "source": [
    "seoul = temp[temp['지역'] == '서울특별시']\n",
    "seoul.head()"
   ]
  },
  {
   "cell_type": "code",
   "execution_count": 29,
   "metadata": {},
   "outputs": [
    {
     "data": {
      "text/plain": [
       "array(['영등포구', '마포구', '성동구', '강서구', '관악구', '강남구', '강동구', '광진구', '노원구',\n",
       "       '강북구', '서초구', '종로구', '송파구', '중구', '동대문구', '동작구', '서대문구', '용산구',\n",
       "       '양천구', '은평구', '성북구', '중랑구', '구로구', '금천구', '도봉구'], dtype=object)"
      ]
     },
     "execution_count": 29,
     "metadata": {},
     "output_type": "execute_result"
    }
   ],
   "source": [
    "seoul['시군구'].unique()"
   ]
  },
  {
   "cell_type": "code",
   "execution_count": 30,
   "metadata": {},
   "outputs": [
    {
     "data": {
      "text/plain": [
       "array([ 1,  3,  4,  5, 52,  2,  6], dtype=int64)"
      ]
     },
     "execution_count": 30,
     "metadata": {},
     "output_type": "execute_result"
    }
   ],
   "source": [
    "seoul[seoul['시군구'] == '영등포구']['충전기ID'].unique()"
   ]
  },
  {
   "cell_type": "code",
   "execution_count": 40,
   "metadata": {},
   "outputs": [
    {
     "data": {
      "text/plain": [
       "1     48225\n",
       "2     11116\n",
       "52     5070\n",
       "5      1853\n",
       "4      1849\n",
       "6      1391\n",
       "3      1379\n",
       "Name: 충전기ID, dtype: int64"
      ]
     },
     "execution_count": 40,
     "metadata": {},
     "output_type": "execute_result"
    }
   ],
   "source": [
    "seoul[seoul['시군구'] == '영등포구']['충전기ID'].value_counts()"
   ]
  },
  {
   "cell_type": "markdown",
   "metadata": {},
   "source": [
    "##### 특정 지역 충전기 확인\n",
    "- '강원도 강릉시 성산면 영동고속도로 231 (보광리)'"
   ]
  },
  {
   "cell_type": "code",
   "execution_count": 44,
   "metadata": {},
   "outputs": [
    {
     "data": {
      "text/plain": [
       "19         서울특별시 영등포구 영중로 125 지상주차장(외부 1F)\n",
       "20         서울특별시 영등포구 영중로 125 지상주차장(외부 1F)\n",
       "173           강원도 강릉시 성산면 영동고속도로 232 (보광리)\n",
       "1107                           강남구 양재대로31길\n",
       "1143                    서울특별시 영등포구 영신로 183\n",
       "                        ...               \n",
       "7748975                 서울특별시 영등포구 영신로 183\n",
       "7749022                 서울특별시 영등포구 대림로 244\n",
       "7749136                        강남구 양재대로31길\n",
       "7749195                 서울특별시 영등포구 영신로 183\n",
       "7749384    서울특별시 영등포구 영중로 125 지상주차장(외부 1F)\n",
       "Name: 주소, Length: 48225, dtype: object"
      ]
     },
     "execution_count": 44,
     "metadata": {},
     "output_type": "execute_result"
    }
   ],
   "source": [
    "new_adr_df2[(new_adr_df2['시군구'] == '영등포구') & (new_adr_df2['충전기ID'] == 1)]['주소']"
   ]
  },
  {
   "cell_type": "code",
   "execution_count": 49,
   "metadata": {},
   "outputs": [
    {
     "data": {
      "text/plain": [
       "110        강원도 강릉시 성산면 영동고속도로 231 (보광리)\n",
       "114        강원도 강릉시 성산면 영동고속도로 232 (보광리)\n",
       "176                   강원도 강릉시 종합운동장길 69\n",
       "177                   강원도 강릉시 종합운동장길 69\n",
       "1163        강원도 강릉시 구정면 회산로 88-35 (제비리)\n",
       "                       ...             \n",
       "7748566    강원도 강릉시 성산면 영동고속도로 231 (보광리)\n",
       "7748640             강원도 강릉시 연곡면 연주로 188\n",
       "7748773    강원도 강릉시 옥계면 동해고속도로 320 (주수리)\n",
       "7748956               강원도 강릉시 남산초교길 121\n",
       "7749179    강원도 강릉시 성산면 영동고속도로 231 (보광리)\n",
       "Name: 주소, Length: 30582, dtype: object"
      ]
     },
     "execution_count": 49,
     "metadata": {},
     "output_type": "execute_result"
    }
   ],
   "source": [
    "new_adr_df2[(new_adr_df2['시군구'] == '강릉시') & (new_adr_df2['충전기ID'] == 1)]['주소']"
   ]
  },
  {
   "cell_type": "code",
   "execution_count": 47,
   "metadata": {},
   "outputs": [
    {
     "data": {
      "text/html": [
       "<div>\n",
       "<style scoped>\n",
       "    .dataframe tbody tr th:only-of-type {\n",
       "        vertical-align: middle;\n",
       "    }\n",
       "\n",
       "    .dataframe tbody tr th {\n",
       "        vertical-align: top;\n",
       "    }\n",
       "\n",
       "    .dataframe thead th {\n",
       "        text-align: right;\n",
       "    }\n",
       "</style>\n",
       "<table border=\"1\" class=\"dataframe\">\n",
       "  <thead>\n",
       "    <tr style=\"text-align: right;\">\n",
       "      <th></th>\n",
       "      <th>충전시간</th>\n",
       "      <th>충전량</th>\n",
       "    </tr>\n",
       "  </thead>\n",
       "  <tbody>\n",
       "    <tr>\n",
       "      <th>sum</th>\n",
       "      <td>106 days 01:21:20</td>\n",
       "      <td>95304.530000</td>\n",
       "    </tr>\n",
       "    <tr>\n",
       "      <th>mean</th>\n",
       "      <td>0 days 00:27:53.047288661</td>\n",
       "      <td>17.400864</td>\n",
       "    </tr>\n",
       "  </tbody>\n",
       "</table>\n",
       "</div>"
      ],
      "text/plain": [
       "                          충전시간           충전량\n",
       "sum          106 days 01:21:20  95304.530000\n",
       "mean 0 days 00:27:53.047288661     17.400864"
      ]
     },
     "execution_count": 47,
     "metadata": {},
     "output_type": "execute_result"
    }
   ],
   "source": [
    "new_adr_df2[(new_adr_df2['시군구'] == '강릉시') & (new_adr_df2['충전기ID'] == 1) & (new_adr_df2['주소'] == '강원도 강릉시 성산면 영동고속도로 231 (보광리)')][['충전시간', '충전량']].agg(['sum', 'mean'])"
   ]
  },
  {
   "cell_type": "code",
   "execution_count": 60,
   "metadata": {},
   "outputs": [
    {
     "name": "stdout",
     "output_type": "stream",
     "text": [
      "<class 'pandas.core.frame.DataFrame'>\n",
      "RangeIndex: 7749439 entries, 0 to 7749438\n",
      "Data columns (total 40 columns):\n",
      " #   Column        Dtype          \n",
      "---  ------        -----          \n",
      " 0   충전소명          object         \n",
      " 1   충전기ID         int64          \n",
      " 2   지역            object         \n",
      " 3   시군구           object         \n",
      " 4   주소            object         \n",
      " 5   충전기타입         object         \n",
      " 6   충전시작일시        int64          \n",
      " 7   충전종료일시        int64          \n",
      " 8   충전시간          timedelta64[ns]\n",
      " 9   충전량           float64        \n",
      " 10  충전용량          object         \n",
      " 11  충전시작_년도       int64          \n",
      " 12  충전시작_월        int64          \n",
      " 13  충전시작_일        int64          \n",
      " 14  충전시작_시        int64          \n",
      " 15  충전시작_분        int64          \n",
      " 16  충전시작_초        int64          \n",
      " 17  충전시작일시(변환)    object         \n",
      " 18  충전종료_년도       int64          \n",
      " 19  충전종료_월        int64          \n",
      " 20  충전종료_일        int64          \n",
      " 21  충전종료_시        int64          \n",
      " 22  충전종료_분        int64          \n",
      " 23  충전종료_초        int64          \n",
      " 24  충전종료일시(변환)    object         \n",
      " 25  충전시간(계산)      object         \n",
      " 26  raw값과_계산값_차이  object         \n",
      " 27  0             object         \n",
      " 28  1             object         \n",
      " 29  2             object         \n",
      " 30  3             object         \n",
      " 31  4             object         \n",
      " 32  5             object         \n",
      " 33  6             object         \n",
      " 34  7             object         \n",
      " 35  8             object         \n",
      " 36  9             object         \n",
      " 37  10            object         \n",
      " 38  11            object         \n",
      " 39  12            object         \n",
      "dtypes: float64(1), int64(15), object(23), timedelta64[ns](1)\n",
      "memory usage: 2.3+ GB\n"
     ]
    }
   ],
   "source": [
    "new_adr_df2.info()"
   ]
  },
  {
   "cell_type": "code",
   "execution_count": 61,
   "metadata": {},
   "outputs": [
    {
     "data": {
      "text/html": [
       "<div>\n",
       "<style scoped>\n",
       "    .dataframe tbody tr th:only-of-type {\n",
       "        vertical-align: middle;\n",
       "    }\n",
       "\n",
       "    .dataframe tbody tr th {\n",
       "        vertical-align: top;\n",
       "    }\n",
       "\n",
       "    .dataframe thead th {\n",
       "        text-align: right;\n",
       "    }\n",
       "</style>\n",
       "<table border=\"1\" class=\"dataframe\">\n",
       "  <thead>\n",
       "    <tr style=\"text-align: right;\">\n",
       "      <th></th>\n",
       "      <th>충전소명</th>\n",
       "      <th>충전기ID</th>\n",
       "      <th>지역</th>\n",
       "      <th>시군구</th>\n",
       "    </tr>\n",
       "  </thead>\n",
       "  <tbody>\n",
       "    <tr>\n",
       "      <th>110</th>\n",
       "      <td>강릉휴게소(강릉방향)</td>\n",
       "      <td>1</td>\n",
       "      <td>강원도</td>\n",
       "      <td>강릉시</td>\n",
       "    </tr>\n",
       "    <tr>\n",
       "      <th>1966</th>\n",
       "      <td>강릉휴게소(강릉방향)</td>\n",
       "      <td>1</td>\n",
       "      <td>강원도</td>\n",
       "      <td>강릉시</td>\n",
       "    </tr>\n",
       "    <tr>\n",
       "      <th>1967</th>\n",
       "      <td>강릉휴게소(강릉방향)</td>\n",
       "      <td>1</td>\n",
       "      <td>강원도</td>\n",
       "      <td>강릉시</td>\n",
       "    </tr>\n",
       "    <tr>\n",
       "      <th>1968</th>\n",
       "      <td>강릉휴게소(강릉방향)</td>\n",
       "      <td>1</td>\n",
       "      <td>강원도</td>\n",
       "      <td>강릉시</td>\n",
       "    </tr>\n",
       "    <tr>\n",
       "      <th>3009</th>\n",
       "      <td>강릉휴게소(강릉방향)</td>\n",
       "      <td>1</td>\n",
       "      <td>강원도</td>\n",
       "      <td>강릉시</td>\n",
       "    </tr>\n",
       "    <tr>\n",
       "      <th>...</th>\n",
       "      <td>...</td>\n",
       "      <td>...</td>\n",
       "      <td>...</td>\n",
       "      <td>...</td>\n",
       "    </tr>\n",
       "    <tr>\n",
       "      <th>7740134</th>\n",
       "      <td>강릉휴게소(강릉방향)</td>\n",
       "      <td>1</td>\n",
       "      <td>강원도</td>\n",
       "      <td>강릉시</td>\n",
       "    </tr>\n",
       "    <tr>\n",
       "      <th>7743069</th>\n",
       "      <td>강릉휴게소(강릉방향)</td>\n",
       "      <td>1</td>\n",
       "      <td>강원도</td>\n",
       "      <td>강릉시</td>\n",
       "    </tr>\n",
       "    <tr>\n",
       "      <th>7745693</th>\n",
       "      <td>강릉휴게소(강릉방향)</td>\n",
       "      <td>1</td>\n",
       "      <td>강원도</td>\n",
       "      <td>강릉시</td>\n",
       "    </tr>\n",
       "    <tr>\n",
       "      <th>7748566</th>\n",
       "      <td>강릉휴게소(강릉방향)</td>\n",
       "      <td>1</td>\n",
       "      <td>강원도</td>\n",
       "      <td>강릉시</td>\n",
       "    </tr>\n",
       "    <tr>\n",
       "      <th>7749179</th>\n",
       "      <td>강릉휴게소(강릉방향)</td>\n",
       "      <td>1</td>\n",
       "      <td>강원도</td>\n",
       "      <td>강릉시</td>\n",
       "    </tr>\n",
       "  </tbody>\n",
       "</table>\n",
       "<p>5477 rows × 4 columns</p>\n",
       "</div>"
      ],
      "text/plain": [
       "                충전소명  충전기ID   지역  시군구\n",
       "110      강릉휴게소(강릉방향)      1  강원도  강릉시\n",
       "1966     강릉휴게소(강릉방향)      1  강원도  강릉시\n",
       "1967     강릉휴게소(강릉방향)      1  강원도  강릉시\n",
       "1968     강릉휴게소(강릉방향)      1  강원도  강릉시\n",
       "3009     강릉휴게소(강릉방향)      1  강원도  강릉시\n",
       "...              ...    ...  ...  ...\n",
       "7740134  강릉휴게소(강릉방향)      1  강원도  강릉시\n",
       "7743069  강릉휴게소(강릉방향)      1  강원도  강릉시\n",
       "7745693  강릉휴게소(강릉방향)      1  강원도  강릉시\n",
       "7748566  강릉휴게소(강릉방향)      1  강원도  강릉시\n",
       "7749179  강릉휴게소(강릉방향)      1  강원도  강릉시\n",
       "\n",
       "[5477 rows x 4 columns]"
      ]
     },
     "execution_count": 61,
     "metadata": {},
     "output_type": "execute_result"
    }
   ],
   "source": [
    "new_adr_df2[(new_adr_df2['시군구'] == '강릉시') & (new_adr_df2['충전기ID'] == 1) & (new_adr_df2['주소'] == '강원도 강릉시 성산면 영동고속도로 231 (보광리)')][['충전소명', '충전기ID', '지역', '시군구']]"
   ]
  },
  {
   "cell_type": "code",
   "execution_count": 50,
   "metadata": {},
   "outputs": [
    {
     "data": {
      "text/plain": [
       "111        강원도 강릉시 성산면 영동고속도로 231 (보광리)\n",
       "112        강원도 강릉시 성산면 영동고속도로 231 (보광리)\n",
       "113        강원도 강릉시 성산면 영동고속도로 231 (보광리)\n",
       "115        강원도 강릉시 성산면 영동고속도로 232 (보광리)\n",
       "1969       강원도 강릉시 성산면 영동고속도로 231 (보광리)\n",
       "                       ...             \n",
       "7746628    강원도 강릉시 성산면 영동고속도로 232 (보광리)\n",
       "7746781             강원도 강릉시 강동면 와천로 463\n",
       "7747123    강원도 강릉시 성산면 영동고속도로 231 (보광리)\n",
       "7747384           강원도 강릉시 연곡면 진고개로 2742\n",
       "7747713    강원도 강릉시 구정면 동해고속도로 345 (제비리)\n",
       "Name: 주소, Length: 20678, dtype: object"
      ]
     },
     "execution_count": 50,
     "metadata": {},
     "output_type": "execute_result"
    }
   ],
   "source": [
    "new_adr_df2[(new_adr_df2['시군구'] == '강릉시') & (new_adr_df2['충전기ID'] == 2)]['주소']"
   ]
  },
  {
   "cell_type": "code",
   "execution_count": 51,
   "metadata": {},
   "outputs": [
    {
     "data": {
      "text/html": [
       "<div>\n",
       "<style scoped>\n",
       "    .dataframe tbody tr th:only-of-type {\n",
       "        vertical-align: middle;\n",
       "    }\n",
       "\n",
       "    .dataframe tbody tr th {\n",
       "        vertical-align: top;\n",
       "    }\n",
       "\n",
       "    .dataframe thead th {\n",
       "        text-align: right;\n",
       "    }\n",
       "</style>\n",
       "<table border=\"1\" class=\"dataframe\">\n",
       "  <thead>\n",
       "    <tr style=\"text-align: right;\">\n",
       "      <th></th>\n",
       "      <th>충전시간</th>\n",
       "      <th>충전량</th>\n",
       "    </tr>\n",
       "  </thead>\n",
       "  <tbody>\n",
       "    <tr>\n",
       "      <th>sum</th>\n",
       "      <td>66 days 13:39:36</td>\n",
       "      <td>62449.300000</td>\n",
       "    </tr>\n",
       "    <tr>\n",
       "      <th>mean</th>\n",
       "      <td>0 days 00:26:23.583700440</td>\n",
       "      <td>17.194191</td>\n",
       "    </tr>\n",
       "  </tbody>\n",
       "</table>\n",
       "</div>"
      ],
      "text/plain": [
       "                          충전시간           충전량\n",
       "sum           66 days 13:39:36  62449.300000\n",
       "mean 0 days 00:26:23.583700440     17.194191"
      ]
     },
     "execution_count": 51,
     "metadata": {},
     "output_type": "execute_result"
    }
   ],
   "source": [
    "new_adr_df2[(new_adr_df2['시군구'] == '강릉시') & (new_adr_df2['충전기ID'] == 2) & (new_adr_df2['주소'] == '강원도 강릉시 성산면 영동고속도로 231 (보광리)')][['충전시간', '충전량']].agg(['sum', 'mean'])"
   ]
  },
  {
   "cell_type": "code",
   "execution_count": 52,
   "metadata": {},
   "outputs": [
    {
     "data": {
      "text/plain": [
       "116        강원도 강릉시 성산면 영동고속도로 232 (보광리)\n",
       "117        강원도 강릉시 성산면 영동고속도로 232 (보광리)\n",
       "1167       강원도 강릉시 옥계면 동해고속도로 320 (주수리)\n",
       "1972       강원도 강릉시 성산면 영동고속도로 231 (보광리)\n",
       "1973       강원도 강릉시 성산면 영동고속도로 231 (보광리)\n",
       "                       ...             \n",
       "7745859    강원도 강릉시 옥계면 동해고속도로 320 (주수리)\n",
       "7746548    강원도 강릉시 옥계면 동해고속도로 320 (주수리)\n",
       "7747029    강원도 강릉시 성산면 영동고속도로 232 (보광리)\n",
       "7747161    강원도 강릉시 옥계면 동해고속도로 320 (주수리)\n",
       "7748078    강원도 강릉시 성산면 영동고속도로 232 (보광리)\n",
       "Name: 주소, Length: 14657, dtype: object"
      ]
     },
     "execution_count": 52,
     "metadata": {},
     "output_type": "execute_result"
    }
   ],
   "source": [
    "new_adr_df2[(new_adr_df2['시군구'] == '강릉시') & (new_adr_df2['충전기ID'] == 3)]['주소']"
   ]
  },
  {
   "cell_type": "code",
   "execution_count": 53,
   "metadata": {},
   "outputs": [
    {
     "data": {
      "text/html": [
       "<div>\n",
       "<style scoped>\n",
       "    .dataframe tbody tr th:only-of-type {\n",
       "        vertical-align: middle;\n",
       "    }\n",
       "\n",
       "    .dataframe tbody tr th {\n",
       "        vertical-align: top;\n",
       "    }\n",
       "\n",
       "    .dataframe thead th {\n",
       "        text-align: right;\n",
       "    }\n",
       "</style>\n",
       "<table border=\"1\" class=\"dataframe\">\n",
       "  <thead>\n",
       "    <tr style=\"text-align: right;\">\n",
       "      <th></th>\n",
       "      <th>충전시간</th>\n",
       "      <th>충전량</th>\n",
       "    </tr>\n",
       "  </thead>\n",
       "  <tbody>\n",
       "    <tr>\n",
       "      <th>sum</th>\n",
       "      <td>89 days 05:15:44</td>\n",
       "      <td>83053.010000</td>\n",
       "    </tr>\n",
       "    <tr>\n",
       "      <th>mean</th>\n",
       "      <td>0 days 00:26:49.299373695</td>\n",
       "      <td>17.338833</td>\n",
       "    </tr>\n",
       "  </tbody>\n",
       "</table>\n",
       "</div>"
      ],
      "text/plain": [
       "                          충전시간           충전량\n",
       "sum           89 days 05:15:44  83053.010000\n",
       "mean 0 days 00:26:49.299373695     17.338833"
      ]
     },
     "execution_count": 53,
     "metadata": {},
     "output_type": "execute_result"
    }
   ],
   "source": [
    "new_adr_df2[(new_adr_df2['시군구'] == '강릉시') & (new_adr_df2['충전기ID'] == 3) & (new_adr_df2['주소'] == '강원도 강릉시 성산면 영동고속도로 231 (보광리)')][['충전시간', '충전량']].agg(['sum', 'mean'])"
   ]
  },
  {
   "cell_type": "code",
   "execution_count": 31,
   "metadata": {},
   "outputs": [
    {
     "data": {
      "text/plain": [
       "array([ 3,  1,  2,  4, 21, 22, 24, 23, 26, 25], dtype=int64)"
      ]
     },
     "execution_count": 31,
     "metadata": {},
     "output_type": "execute_result"
    }
   ],
   "source": [
    "seoul[seoul['시군구'] == '마포구']['충전기ID'].unique()"
   ]
  },
  {
   "cell_type": "code",
   "execution_count": 41,
   "metadata": {},
   "outputs": [
    {
     "data": {
      "text/plain": [
       "1     17867\n",
       "22    10008\n",
       "21     9157\n",
       "23     3422\n",
       "24     3311\n",
       "3      3114\n",
       "4      2595\n",
       "2      2394\n",
       "26     1077\n",
       "25      883\n",
       "Name: 충전기ID, dtype: int64"
      ]
     },
     "execution_count": 41,
     "metadata": {},
     "output_type": "execute_result"
    }
   ],
   "source": [
    "seoul[seoul['시군구'] == '마포구']['충전기ID'].value_counts()"
   ]
  },
  {
   "cell_type": "code",
   "execution_count": 27,
   "metadata": {},
   "outputs": [
    {
     "data": {
      "text/plain": [
       "Timedelta('16691 days 03:18:28')"
      ]
     },
     "execution_count": 27,
     "metadata": {},
     "output_type": "execute_result"
    }
   ],
   "source": [
    "temp[temp['지역'] == '서울특별시'].sum()"
   ]
  },
  {
   "cell_type": "markdown",
   "metadata": {},
   "source": [
    "#### 지역, 시군구, 충전기ID 별 통계"
   ]
  },
  {
   "cell_type": "code",
   "execution_count": 32,
   "metadata": {},
   "outputs": [
    {
     "data": {
      "text/html": [
       "<div>\n",
       "<style scoped>\n",
       "    .dataframe tbody tr th:only-of-type {\n",
       "        vertical-align: middle;\n",
       "    }\n",
       "\n",
       "    .dataframe tbody tr th {\n",
       "        vertical-align: top;\n",
       "    }\n",
       "\n",
       "    .dataframe thead tr th {\n",
       "        text-align: left;\n",
       "    }\n",
       "\n",
       "    .dataframe thead tr:last-of-type th {\n",
       "        text-align: right;\n",
       "    }\n",
       "</style>\n",
       "<table border=\"1\" class=\"dataframe\">\n",
       "  <thead>\n",
       "    <tr>\n",
       "      <th></th>\n",
       "      <th></th>\n",
       "      <th></th>\n",
       "      <th colspan=\"2\" halign=\"left\">충전시간</th>\n",
       "      <th colspan=\"2\" halign=\"left\">충전량</th>\n",
       "    </tr>\n",
       "    <tr>\n",
       "      <th></th>\n",
       "      <th></th>\n",
       "      <th></th>\n",
       "      <th>sum</th>\n",
       "      <th>mean</th>\n",
       "      <th>sum</th>\n",
       "      <th>mean</th>\n",
       "    </tr>\n",
       "    <tr>\n",
       "      <th>지역</th>\n",
       "      <th>시군구</th>\n",
       "      <th>충전기ID</th>\n",
       "      <th></th>\n",
       "      <th></th>\n",
       "      <th></th>\n",
       "      <th></th>\n",
       "    </tr>\n",
       "  </thead>\n",
       "  <tbody>\n",
       "    <tr>\n",
       "      <th rowspan=\"5\" valign=\"top\">강원도</th>\n",
       "      <th rowspan=\"5\" valign=\"top\">강릉시</th>\n",
       "      <th>1</th>\n",
       "      <td>634 days 18:21:12</td>\n",
       "      <td>0 days 00:29:53.331763782</td>\n",
       "      <td>534969.56</td>\n",
       "      <td>17.492955</td>\n",
       "    </tr>\n",
       "    <tr>\n",
       "      <th>2</th>\n",
       "      <td>407 days 14:50:52</td>\n",
       "      <td>0 days 00:28:23.174968565</td>\n",
       "      <td>393614.71</td>\n",
       "      <td>19.035434</td>\n",
       "    </tr>\n",
       "    <tr>\n",
       "      <th>3</th>\n",
       "      <td>280 days 17:32:14</td>\n",
       "      <td>0 days 00:27:34.849832844</td>\n",
       "      <td>258075.40</td>\n",
       "      <td>17.607655</td>\n",
       "    </tr>\n",
       "    <tr>\n",
       "      <th>4</th>\n",
       "      <td>37 days 18:15:31</td>\n",
       "      <td>0 days 00:30:53.710795454</td>\n",
       "      <td>30046.87</td>\n",
       "      <td>17.072085</td>\n",
       "    </tr>\n",
       "    <tr>\n",
       "      <th>21</th>\n",
       "      <td>2 days 16:08:10</td>\n",
       "      <td>0 days 00:28:43.059701492</td>\n",
       "      <td>3948.74</td>\n",
       "      <td>29.468209</td>\n",
       "    </tr>\n",
       "    <tr>\n",
       "      <th>...</th>\n",
       "      <th>...</th>\n",
       "      <th>...</th>\n",
       "      <td>...</td>\n",
       "      <td>...</td>\n",
       "      <td>...</td>\n",
       "      <td>...</td>\n",
       "    </tr>\n",
       "    <tr>\n",
       "      <th rowspan=\"5\" valign=\"top\">충청북도</th>\n",
       "      <th rowspan=\"5\" valign=\"top\">충주시</th>\n",
       "      <th>44</th>\n",
       "      <td>24 days 07:06:59</td>\n",
       "      <td>0 days 00:31:41.466485507</td>\n",
       "      <td>22005.70</td>\n",
       "      <td>19.932699</td>\n",
       "    </tr>\n",
       "    <tr>\n",
       "      <th>45</th>\n",
       "      <td>39 days 02:42:16</td>\n",
       "      <td>0 days 00:33:45.980815347</td>\n",
       "      <td>31799.03</td>\n",
       "      <td>19.064167</td>\n",
       "    </tr>\n",
       "    <tr>\n",
       "      <th>81</th>\n",
       "      <td>11 days 19:52:03</td>\n",
       "      <td>0 days 00:25:27.538116591</td>\n",
       "      <td>18351.61</td>\n",
       "      <td>27.431405</td>\n",
       "    </tr>\n",
       "    <tr>\n",
       "      <th>82</th>\n",
       "      <td>7 days 05:05:06</td>\n",
       "      <td>0 days 00:25:08.731234866</td>\n",
       "      <td>11535.28</td>\n",
       "      <td>27.930460</td>\n",
       "    </tr>\n",
       "    <tr>\n",
       "      <th>91</th>\n",
       "      <td>113 days 03:08:14</td>\n",
       "      <td>0 days 00:29:09.193629205</td>\n",
       "      <td>110505.32</td>\n",
       "      <td>19.775469</td>\n",
       "    </tr>\n",
       "  </tbody>\n",
       "</table>\n",
       "<p>1569 rows × 4 columns</p>\n",
       "</div>"
      ],
      "text/plain": [
       "                            충전시간                                  충전량  \\\n",
       "                             sum                      mean        sum   \n",
       "지역   시군구 충전기ID                                                          \n",
       "강원도  강릉시 1     634 days 18:21:12 0 days 00:29:53.331763782  534969.56   \n",
       "         2     407 days 14:50:52 0 days 00:28:23.174968565  393614.71   \n",
       "         3     280 days 17:32:14 0 days 00:27:34.849832844  258075.40   \n",
       "         4      37 days 18:15:31 0 days 00:30:53.710795454   30046.87   \n",
       "         21      2 days 16:08:10 0 days 00:28:43.059701492    3948.74   \n",
       "...                          ...                       ...        ...   \n",
       "충청북도 충주시 44     24 days 07:06:59 0 days 00:31:41.466485507   22005.70   \n",
       "         45     39 days 02:42:16 0 days 00:33:45.980815347   31799.03   \n",
       "         81     11 days 19:52:03 0 days 00:25:27.538116591   18351.61   \n",
       "         82      7 days 05:05:06 0 days 00:25:08.731234866   11535.28   \n",
       "         91    113 days 03:08:14 0 days 00:29:09.193629205  110505.32   \n",
       "\n",
       "                           \n",
       "                     mean  \n",
       "지역   시군구 충전기ID             \n",
       "강원도  강릉시 1      17.492955  \n",
       "         2      19.035434  \n",
       "         3      17.607655  \n",
       "         4      17.072085  \n",
       "         21     29.468209  \n",
       "...                   ...  \n",
       "충청북도 충주시 44     19.932699  \n",
       "         45     19.064167  \n",
       "         81     27.431405  \n",
       "         82     27.930460  \n",
       "         91     19.775469  \n",
       "\n",
       "[1569 rows x 4 columns]"
      ]
     },
     "execution_count": 32,
     "metadata": {},
     "output_type": "execute_result"
    }
   ],
   "source": [
    "statis = temp.groupby(['지역', '시군구', '충전기ID'])[['충전시간', '충전량']].agg(['sum', 'mean'])\n",
    "statis"
   ]
  },
  {
   "cell_type": "code",
   "execution_count": 33,
   "metadata": {},
   "outputs": [],
   "source": [
    "statis.to_excel('분석/2020-22년_신주소_지역_시군구_충전기ID_충전시간_충전량_통계.xlsx', encoding='utf-8')"
   ]
  },
  {
   "cell_type": "markdown",
   "metadata": {},
   "source": [
    "### 특정 지역/기간별 충전량"
   ]
  },
  {
   "cell_type": "code",
   "execution_count": 54,
   "metadata": {},
   "outputs": [
    {
     "data": {
      "text/plain": [
       "Index(['충전소명', '충전기ID', '지역', '시군구', '주소', '충전기타입', '충전시작일시', '충전종료일시', '충전시간',\n",
       "       '충전량', '충전용량', '충전시작_년도', '충전시작_월', '충전시작_일', '충전시작_시', '충전시작_분',\n",
       "       '충전시작_초', '충전시작일시(변환)', '충전종료_년도', '충전종료_월', '충전종료_일', '충전종료_시',\n",
       "       '충전종료_분', '충전종료_초', '충전종료일시(변환)', '충전시간(계산)', 'raw값과_계산값_차이', '0', '1',\n",
       "       '2', '3', '4', '5', '6', '7', '8', '9', '10', '11', '12'],\n",
       "      dtype='object')"
      ]
     },
     "execution_count": 54,
     "metadata": {},
     "output_type": "execute_result"
    }
   ],
   "source": [
    "new_adr_df2.columns"
   ]
  },
  {
   "cell_type": "code",
   "execution_count": 55,
   "metadata": {},
   "outputs": [
    {
     "name": "stdout",
     "output_type": "stream",
     "text": [
      "<class 'pandas.core.frame.DataFrame'>\n",
      "RangeIndex: 7749439 entries, 0 to 7749438\n",
      "Data columns (total 5 columns):\n",
      " #   Column   Dtype  \n",
      "---  ------   -----  \n",
      " 0   지역       object \n",
      " 1   시군구      object \n",
      " 2   충전시작_년도  int64  \n",
      " 3   충전시작_월   int64  \n",
      " 4   충전량      float64\n",
      "dtypes: float64(1), int64(2), object(2)\n",
      "memory usage: 295.6+ MB\n"
     ]
    }
   ],
   "source": [
    "temp = new_adr_df2[['지역', '시군구', '충전시작_년도', '충전시작_월', '충전량']]\n",
    "temp.info()"
   ]
  },
  {
   "cell_type": "code",
   "execution_count": 56,
   "metadata": {},
   "outputs": [
    {
     "data": {
      "text/html": [
       "<div>\n",
       "<style scoped>\n",
       "    .dataframe tbody tr th:only-of-type {\n",
       "        vertical-align: middle;\n",
       "    }\n",
       "\n",
       "    .dataframe tbody tr th {\n",
       "        vertical-align: top;\n",
       "    }\n",
       "\n",
       "    .dataframe thead tr th {\n",
       "        text-align: left;\n",
       "    }\n",
       "\n",
       "    .dataframe thead tr:last-of-type th {\n",
       "        text-align: right;\n",
       "    }\n",
       "</style>\n",
       "<table border=\"1\" class=\"dataframe\">\n",
       "  <thead>\n",
       "    <tr>\n",
       "      <th></th>\n",
       "      <th></th>\n",
       "      <th></th>\n",
       "      <th></th>\n",
       "      <th colspan=\"2\" halign=\"left\">충전량</th>\n",
       "    </tr>\n",
       "    <tr>\n",
       "      <th></th>\n",
       "      <th></th>\n",
       "      <th></th>\n",
       "      <th></th>\n",
       "      <th>sum</th>\n",
       "      <th>mean</th>\n",
       "    </tr>\n",
       "    <tr>\n",
       "      <th>지역</th>\n",
       "      <th>시군구</th>\n",
       "      <th>충전시작_년도</th>\n",
       "      <th>충전시작_월</th>\n",
       "      <th></th>\n",
       "      <th></th>\n",
       "    </tr>\n",
       "  </thead>\n",
       "  <tbody>\n",
       "    <tr>\n",
       "      <th rowspan=\"5\" valign=\"top\">강원도</th>\n",
       "      <th rowspan=\"5\" valign=\"top\">강릉시</th>\n",
       "      <th rowspan=\"5\" valign=\"top\">2020</th>\n",
       "      <th>1</th>\n",
       "      <td>24097.21</td>\n",
       "      <td>15.617116</td>\n",
       "    </tr>\n",
       "    <tr>\n",
       "      <th>2</th>\n",
       "      <td>19731.80</td>\n",
       "      <td>15.635341</td>\n",
       "    </tr>\n",
       "    <tr>\n",
       "      <th>3</th>\n",
       "      <td>19599.25</td>\n",
       "      <td>16.170998</td>\n",
       "    </tr>\n",
       "    <tr>\n",
       "      <th>4</th>\n",
       "      <td>20738.49</td>\n",
       "      <td>17.026675</td>\n",
       "    </tr>\n",
       "    <tr>\n",
       "      <th>5</th>\n",
       "      <td>23248.08</td>\n",
       "      <td>16.488000</td>\n",
       "    </tr>\n",
       "    <tr>\n",
       "      <th>...</th>\n",
       "      <th>...</th>\n",
       "      <th>...</th>\n",
       "      <th>...</th>\n",
       "      <td>...</td>\n",
       "      <td>...</td>\n",
       "    </tr>\n",
       "    <tr>\n",
       "      <th rowspan=\"5\" valign=\"top\">충청북도</th>\n",
       "      <th rowspan=\"5\" valign=\"top\">충주시</th>\n",
       "      <th rowspan=\"5\" valign=\"top\">2022</th>\n",
       "      <th>4</th>\n",
       "      <td>108623.48</td>\n",
       "      <td>19.985921</td>\n",
       "    </tr>\n",
       "    <tr>\n",
       "      <th>5</th>\n",
       "      <td>115388.01</td>\n",
       "      <td>19.891055</td>\n",
       "    </tr>\n",
       "    <tr>\n",
       "      <th>6</th>\n",
       "      <td>106327.68</td>\n",
       "      <td>20.130193</td>\n",
       "    </tr>\n",
       "    <tr>\n",
       "      <th>7</th>\n",
       "      <td>139095.34</td>\n",
       "      <td>21.495185</td>\n",
       "    </tr>\n",
       "    <tr>\n",
       "      <th>8</th>\n",
       "      <td>199168.47</td>\n",
       "      <td>23.559081</td>\n",
       "    </tr>\n",
       "  </tbody>\n",
       "</table>\n",
       "<p>7513 rows × 2 columns</p>\n",
       "</div>"
      ],
      "text/plain": [
       "                               충전량           \n",
       "                               sum       mean\n",
       "지역   시군구 충전시작_년도 충전시작_월                      \n",
       "강원도  강릉시 2020    1        24097.21  15.617116\n",
       "                 2        19731.80  15.635341\n",
       "                 3        19599.25  16.170998\n",
       "                 4        20738.49  17.026675\n",
       "                 5        23248.08  16.488000\n",
       "...                            ...        ...\n",
       "충청북도 충주시 2022    4       108623.48  19.985921\n",
       "                 5       115388.01  19.891055\n",
       "                 6       106327.68  20.130193\n",
       "                 7       139095.34  21.495185\n",
       "                 8       199168.47  23.559081\n",
       "\n",
       "[7513 rows x 2 columns]"
      ]
     },
     "execution_count": 56,
     "metadata": {},
     "output_type": "execute_result"
    }
   ],
   "source": [
    "statis = temp.groupby(['지역', '시군구', '충전시작_년도', '충전시작_월'])[['충전량']].agg(['sum', 'mean'])\n",
    "statis"
   ]
  },
  {
   "cell_type": "code",
   "execution_count": 39,
   "metadata": {},
   "outputs": [],
   "source": [
    "statis.to_excel('분석/2020-22년_신주소_지역_시군구_년도_월_충전량_통계.xlsx', encoding='utf-8')"
   ]
  },
  {
   "cell_type": "markdown",
   "metadata": {},
   "source": [
    "# 코드 마지막"
   ]
  }
 ],
 "metadata": {
  "kernelspec": {
   "display_name": "Python 3.9.13 ('base')",
   "language": "python",
   "name": "python3"
  },
  "language_info": {
   "codemirror_mode": {
    "name": "ipython",
    "version": 3
   },
   "file_extension": ".py",
   "mimetype": "text/x-python",
   "name": "python",
   "nbconvert_exporter": "python",
   "pygments_lexer": "ipython3",
   "version": "3.9.13"
  },
  "orig_nbformat": 4,
  "vscode": {
   "interpreter": {
    "hash": "ad2bdc8ecc057115af97d19610ffacc2b4e99fae6737bb82f5d7fb13d2f2c186"
   }
  }
 },
 "nbformat": 4,
 "nbformat_minor": 2
}
