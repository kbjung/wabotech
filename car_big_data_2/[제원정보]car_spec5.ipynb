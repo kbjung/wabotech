{
 "cells": [
  {
   "cell_type": "markdown",
   "metadata": {},
   "source": [
    "# [제원정보]5등급 차량"
   ]
  },
  {
   "cell_type": "markdown",
   "metadata": {},
   "source": [
    "## Library"
   ]
  },
  {
   "cell_type": "code",
   "execution_count": 1,
   "metadata": {},
   "outputs": [],
   "source": [
    "from tqdm import tqdm\n",
    "import numpy as np\n",
    "import re"
   ]
  },
  {
   "cell_type": "code",
   "execution_count": 2,
   "metadata": {},
   "outputs": [],
   "source": [
    "import pandas as pd"
   ]
  },
  {
   "cell_type": "markdown",
   "metadata": {},
   "source": [
    "## data load"
   ]
  },
  {
   "cell_type": "code",
   "execution_count": 3,
   "metadata": {},
   "outputs": [
    {
     "data": {
      "text/html": [
       "<div>\n",
       "<style scoped>\n",
       "    .dataframe tbody tr th:only-of-type {\n",
       "        vertical-align: middle;\n",
       "    }\n",
       "\n",
       "    .dataframe tbody tr th {\n",
       "        vertical-align: top;\n",
       "    }\n",
       "\n",
       "    .dataframe thead th {\n",
       "        text-align: right;\n",
       "    }\n",
       "</style>\n",
       "<table border=\"1\" class=\"dataframe\">\n",
       "  <thead>\n",
       "    <tr style=\"text-align: right;\">\n",
       "      <th></th>\n",
       "      <th>col</th>\n",
       "    </tr>\n",
       "  </thead>\n",
       "  <tbody>\n",
       "    <tr>\n",
       "      <th>0</th>\n",
       "      <td>차량관리번호</td>\n",
       "    </tr>\n",
       "    <tr>\n",
       "      <th>1</th>\n",
       "      <td>차량등록번호</td>\n",
       "    </tr>\n",
       "    <tr>\n",
       "      <th>2</th>\n",
       "      <td>본거지법정동코드</td>\n",
       "    </tr>\n",
       "    <tr>\n",
       "      <th>3</th>\n",
       "      <td>소유자구분</td>\n",
       "    </tr>\n",
       "    <tr>\n",
       "      <th>4</th>\n",
       "      <td>차종_등록정보</td>\n",
       "    </tr>\n",
       "    <tr>\n",
       "      <th>5</th>\n",
       "      <td>용도</td>\n",
       "    </tr>\n",
       "    <tr>\n",
       "      <th>6</th>\n",
       "      <td>차대번호</td>\n",
       "    </tr>\n",
       "    <tr>\n",
       "      <th>7</th>\n",
       "      <td>최초등록일자</td>\n",
       "    </tr>\n",
       "    <tr>\n",
       "      <th>8</th>\n",
       "      <td>차량연식</td>\n",
       "    </tr>\n",
       "    <tr>\n",
       "      <th>9</th>\n",
       "      <td>차량제작일자</td>\n",
       "    </tr>\n",
       "    <tr>\n",
       "      <th>10</th>\n",
       "      <td>검사유효일</td>\n",
       "    </tr>\n",
       "    <tr>\n",
       "      <th>11</th>\n",
       "      <td>제원관리번호</td>\n",
       "    </tr>\n",
       "    <tr>\n",
       "      <th>12</th>\n",
       "      <td>배출가스인증번호</td>\n",
       "    </tr>\n",
       "    <tr>\n",
       "      <th>13</th>\n",
       "      <td>배출가스등급</td>\n",
       "    </tr>\n",
       "    <tr>\n",
       "      <th>14</th>\n",
       "      <td>저공해조치종류</td>\n",
       "    </tr>\n",
       "    <tr>\n",
       "      <th>15</th>\n",
       "      <td>저공해조치구조변경YN</td>\n",
       "    </tr>\n",
       "    <tr>\n",
       "      <th>16</th>\n",
       "      <td>차량말소YN</td>\n",
       "    </tr>\n",
       "    <tr>\n",
       "      <th>17</th>\n",
       "      <td>취득일자</td>\n",
       "    </tr>\n",
       "    <tr>\n",
       "      <th>18</th>\n",
       "      <td>취득금액</td>\n",
       "    </tr>\n",
       "    <tr>\n",
       "      <th>19</th>\n",
       "      <td>차명</td>\n",
       "    </tr>\n",
       "    <tr>\n",
       "      <th>20</th>\n",
       "      <td>차종_제원정보</td>\n",
       "    </tr>\n",
       "    <tr>\n",
       "      <th>21</th>\n",
       "      <td>차종분류</td>\n",
       "    </tr>\n",
       "    <tr>\n",
       "      <th>22</th>\n",
       "      <td>차종유형</td>\n",
       "    </tr>\n",
       "    <tr>\n",
       "      <th>23</th>\n",
       "      <td>자동차형식</td>\n",
       "    </tr>\n",
       "    <tr>\n",
       "      <th>24</th>\n",
       "      <td>제작사명</td>\n",
       "    </tr>\n",
       "    <tr>\n",
       "      <th>25</th>\n",
       "      <td>연료</td>\n",
       "    </tr>\n",
       "    <tr>\n",
       "      <th>26</th>\n",
       "      <td>엔진형식</td>\n",
       "    </tr>\n",
       "    <tr>\n",
       "      <th>27</th>\n",
       "      <td>총중량</td>\n",
       "    </tr>\n",
       "    <tr>\n",
       "      <th>28</th>\n",
       "      <td>적재중량</td>\n",
       "    </tr>\n",
       "    <tr>\n",
       "      <th>29</th>\n",
       "      <td>엔진출력</td>\n",
       "    </tr>\n",
       "    <tr>\n",
       "      <th>30</th>\n",
       "      <td>배기량</td>\n",
       "    </tr>\n",
       "    <tr>\n",
       "      <th>31</th>\n",
       "      <td>승차인원</td>\n",
       "    </tr>\n",
       "    <tr>\n",
       "      <th>32</th>\n",
       "      <td>차량길이</td>\n",
       "    </tr>\n",
       "    <tr>\n",
       "      <th>33</th>\n",
       "      <td>차량너비</td>\n",
       "    </tr>\n",
       "    <tr>\n",
       "      <th>34</th>\n",
       "      <td>차량높이</td>\n",
       "    </tr>\n",
       "    <tr>\n",
       "      <th>35</th>\n",
       "      <td>원산지명</td>\n",
       "    </tr>\n",
       "    <tr>\n",
       "      <th>36</th>\n",
       "      <td>삭제YN</td>\n",
       "    </tr>\n",
       "    <tr>\n",
       "      <th>37</th>\n",
       "      <td>제원승인일자</td>\n",
       "    </tr>\n",
       "    <tr>\n",
       "      <th>38</th>\n",
       "      <td>구동형식</td>\n",
       "    </tr>\n",
       "    <tr>\n",
       "      <th>39</th>\n",
       "      <td>변속기종류</td>\n",
       "    </tr>\n",
       "  </tbody>\n",
       "</table>\n",
       "</div>"
      ],
      "text/plain": [
       "            col\n",
       "0        차량관리번호\n",
       "1        차량등록번호\n",
       "2      본거지법정동코드\n",
       "3         소유자구분\n",
       "4       차종_등록정보\n",
       "5            용도\n",
       "6          차대번호\n",
       "7        최초등록일자\n",
       "8          차량연식\n",
       "9        차량제작일자\n",
       "10        검사유효일\n",
       "11       제원관리번호\n",
       "12     배출가스인증번호\n",
       "13       배출가스등급\n",
       "14      저공해조치종류\n",
       "15  저공해조치구조변경YN\n",
       "16       차량말소YN\n",
       "17         취득일자\n",
       "18         취득금액\n",
       "19           차명\n",
       "20      차종_제원정보\n",
       "21         차종분류\n",
       "22         차종유형\n",
       "23        자동차형식\n",
       "24         제작사명\n",
       "25           연료\n",
       "26         엔진형식\n",
       "27          총중량\n",
       "28         적재중량\n",
       "29         엔진출력\n",
       "30          배기량\n",
       "31         승차인원\n",
       "32         차량길이\n",
       "33         차량너비\n",
       "34         차량높이\n",
       "35         원산지명\n",
       "36         삭제YN\n",
       "37       제원승인일자\n",
       "38         구동형식\n",
       "39        변속기종류"
      ]
     },
     "execution_count": 3,
     "metadata": {},
     "output_type": "execute_result"
    }
   ],
   "source": [
    "col = pd.read_excel('data/220819_22.06월_제원정보_컬럼명.xlsx')\n",
    "col"
   ]
  },
  {
   "cell_type": "code",
   "execution_count": 4,
   "metadata": {},
   "outputs": [
    {
     "data": {
      "text/plain": [
       "['차량관리번호',\n",
       " '차량등록번호',\n",
       " '본거지법정동코드',\n",
       " '소유자구분',\n",
       " '차종_등록정보',\n",
       " '용도',\n",
       " '차대번호',\n",
       " '최초등록일자',\n",
       " '차량연식',\n",
       " '차량제작일자',\n",
       " '검사유효일',\n",
       " '제원관리번호',\n",
       " '배출가스인증번호',\n",
       " '배출가스등급',\n",
       " '저공해조치종류',\n",
       " '저공해조치구조변경YN',\n",
       " '차량말소YN',\n",
       " '취득일자',\n",
       " '취득금액',\n",
       " '차명',\n",
       " '차종_제원정보',\n",
       " '차종분류',\n",
       " '차종유형',\n",
       " '자동차형식',\n",
       " '제작사명',\n",
       " '연료',\n",
       " '엔진형식',\n",
       " '총중량',\n",
       " '적재중량',\n",
       " '엔진출력',\n",
       " '배기량',\n",
       " '승차인원',\n",
       " '차량길이',\n",
       " '차량너비',\n",
       " '차량높이',\n",
       " '원산지명',\n",
       " '삭제YN',\n",
       " '제원승인일자',\n",
       " '구동형식',\n",
       " '변속기종류']"
      ]
     },
     "execution_count": 4,
     "metadata": {},
     "output_type": "execute_result"
    }
   ],
   "source": [
    "col['col'].to_list()"
   ]
  },
  {
   "cell_type": "code",
   "execution_count": 5,
   "metadata": {},
   "outputs": [
    {
     "name": "stderr",
     "output_type": "stream",
     "text": [
      "C:\\Users\\kbj\\AppData\\Local\\Temp\\ipykernel_3920\\2541624834.py:2: DtypeWarning: Columns (7,9,29,37,38) have mixed types. Specify dtype option on import or set low_memory=False.\n",
      "  df = pd.read_table('data/220819_22.06월기준_5등급.txt', encoding='cp949', header=40, names=col['col'].to_list())\n"
     ]
    },
    {
     "name": "stdout",
     "output_type": "stream",
     "text": [
      "<class 'pandas.core.frame.DataFrame'>\n",
      "RangeIndex: 1186488 entries, 0 to 1186487\n",
      "Data columns (total 40 columns):\n",
      " #   Column       Non-Null Count    Dtype  \n",
      "---  ------       --------------    -----  \n",
      " 0   차량관리번호       1186488 non-null  object \n",
      " 1   차량등록번호       1186488 non-null  object \n",
      " 2   본거지법정동코드     1186488 non-null  int64  \n",
      " 3   소유자구분        1186488 non-null  object \n",
      " 4   차종_등록정보      1186476 non-null  object \n",
      " 5   용도           1186488 non-null  object \n",
      " 6   차대번호         1186488 non-null  object \n",
      " 7   최초등록일자       1186488 non-null  object \n",
      " 8   차량연식         1186488 non-null  int64  \n",
      " 9   차량제작일자       989593 non-null   object \n",
      " 10  검사유효일        1185981 non-null  float64\n",
      " 11  제원관리번호       1186488 non-null  object \n",
      " 12  배출가스인증번호     560317 non-null   object \n",
      " 13  배출가스등급       1186488 non-null  int64  \n",
      " 14  저공해조치종류      363785 non-null   object \n",
      " 15  저공해조치구조변경YN  1186488 non-null  object \n",
      " 16  차량말소YN       1186488 non-null  object \n",
      " 17  취득일자         1044935 non-null  float64\n",
      " 18  취득금액         1070799 non-null  float64\n",
      " 19  차명           1186487 non-null  object \n",
      " 20  차종_제원정보      1186488 non-null  object \n",
      " 21  차종분류         1186488 non-null  object \n",
      " 22  차종유형         1186488 non-null  object \n",
      " 23  자동차형식        1185965 non-null  object \n",
      " 24  제작사명         1183245 non-null  object \n",
      " 25  연료           1186488 non-null  object \n",
      " 26  엔진형식         1182990 non-null  object \n",
      " 27  총중량          1186487 non-null  float64\n",
      " 28  적재중량         1186478 non-null  float64\n",
      " 29  엔진출력         1186201 non-null  object \n",
      " 30  배기량          1186486 non-null  float64\n",
      " 31  승차인원         1186487 non-null  float64\n",
      " 32  차량길이         1186487 non-null  float64\n",
      " 33  차량너비         1186487 non-null  float64\n",
      " 34  차량높이         1186487 non-null  float64\n",
      " 35  원산지명         1144734 non-null  object \n",
      " 36  삭제YN         1186488 non-null  object \n",
      " 37  제원승인일자       1185300 non-null  object \n",
      " 38  구동형식         3 non-null        object \n",
      " 39  변속기종류        1186486 non-null  object \n",
      "dtypes: float64(10), int64(3), object(27)\n",
      "memory usage: 362.1+ MB\n"
     ]
    }
   ],
   "source": [
    "# 23.4s\n",
    "df = pd.read_table('data/220819_22.06월기준_5등급.txt', encoding='cp949', header=40, names=col['col'].to_list())\n",
    "df.info()"
   ]
  },
  {
   "cell_type": "code",
   "execution_count": 6,
   "metadata": {},
   "outputs": [
    {
     "data": {
      "text/html": [
       "<div>\n",
       "<style scoped>\n",
       "    .dataframe tbody tr th:only-of-type {\n",
       "        vertical-align: middle;\n",
       "    }\n",
       "\n",
       "    .dataframe tbody tr th {\n",
       "        vertical-align: top;\n",
       "    }\n",
       "\n",
       "    .dataframe thead th {\n",
       "        text-align: right;\n",
       "    }\n",
       "</style>\n",
       "<table border=\"1\" class=\"dataframe\">\n",
       "  <thead>\n",
       "    <tr style=\"text-align: right;\">\n",
       "      <th></th>\n",
       "      <th>차량관리번호</th>\n",
       "      <th>차량등록번호</th>\n",
       "      <th>본거지법정동코드</th>\n",
       "      <th>소유자구분</th>\n",
       "      <th>차종_등록정보</th>\n",
       "      <th>용도</th>\n",
       "      <th>차대번호</th>\n",
       "      <th>최초등록일자</th>\n",
       "      <th>차량연식</th>\n",
       "      <th>차량제작일자</th>\n",
       "      <th>...</th>\n",
       "      <th>배기량</th>\n",
       "      <th>승차인원</th>\n",
       "      <th>차량길이</th>\n",
       "      <th>차량너비</th>\n",
       "      <th>차량높이</th>\n",
       "      <th>원산지명</th>\n",
       "      <th>삭제YN</th>\n",
       "      <th>제원승인일자</th>\n",
       "      <th>구동형식</th>\n",
       "      <th>변속기종류</th>\n",
       "    </tr>\n",
       "  </thead>\n",
       "  <tbody>\n",
       "    <tr>\n",
       "      <th>0</th>\n",
       "      <td>KMFXKS7BP2U559698-01</td>\n",
       "      <td>경기91다3109</td>\n",
       "      <td>4111113000</td>\n",
       "      <td>주민</td>\n",
       "      <td>화물</td>\n",
       "      <td>자가용</td>\n",
       "      <td>KMFXKS7BP2U559698</td>\n",
       "      <td>20020201</td>\n",
       "      <td>2002</td>\n",
       "      <td>20020125.0</td>\n",
       "      <td>...</td>\n",
       "      <td>2607.0</td>\n",
       "      <td>3.0</td>\n",
       "      <td>5075.0</td>\n",
       "      <td>1690.0</td>\n",
       "      <td>1930.0</td>\n",
       "      <td>대한민국</td>\n",
       "      <td>N</td>\n",
       "      <td>20010517.0</td>\n",
       "      <td>NaN</td>\n",
       "      <td>수동</td>\n",
       "    </tr>\n",
       "    <tr>\n",
       "      <th>1</th>\n",
       "      <td>KMHSJ81WP6U036607-01</td>\n",
       "      <td>05나8578</td>\n",
       "      <td>2820010300</td>\n",
       "      <td>주민</td>\n",
       "      <td>승용</td>\n",
       "      <td>자가용</td>\n",
       "      <td>KMHSJ81WP6U036607</td>\n",
       "      <td>20060310</td>\n",
       "      <td>2006</td>\n",
       "      <td>20060306.0</td>\n",
       "      <td>...</td>\n",
       "      <td>2188.0</td>\n",
       "      <td>7.0</td>\n",
       "      <td>4675.0</td>\n",
       "      <td>1890.0</td>\n",
       "      <td>1795.0</td>\n",
       "      <td>대한민국</td>\n",
       "      <td>N</td>\n",
       "      <td>20050921.0</td>\n",
       "      <td>NaN</td>\n",
       "      <td>자동</td>\n",
       "    </tr>\n",
       "    <tr>\n",
       "      <th>2</th>\n",
       "      <td>KN3HNP6D15K117795-01</td>\n",
       "      <td>95가6292</td>\n",
       "      <td>4519011100</td>\n",
       "      <td>주민</td>\n",
       "      <td>화물</td>\n",
       "      <td>자가용</td>\n",
       "      <td>KN3HNP6D15K117795</td>\n",
       "      <td>20051018</td>\n",
       "      <td>2005</td>\n",
       "      <td>20051014.0</td>\n",
       "      <td>...</td>\n",
       "      <td>2476.0</td>\n",
       "      <td>3.0</td>\n",
       "      <td>5120.0</td>\n",
       "      <td>1740.0</td>\n",
       "      <td>1995.0</td>\n",
       "      <td>대한민국</td>\n",
       "      <td>N</td>\n",
       "      <td>20050427.0</td>\n",
       "      <td>NaN</td>\n",
       "      <td>수동</td>\n",
       "    </tr>\n",
       "    <tr>\n",
       "      <th>3</th>\n",
       "      <td>KPBFA2AD12P043282-01</td>\n",
       "      <td>09어5181</td>\n",
       "      <td>4833025321</td>\n",
       "      <td>주민</td>\n",
       "      <td>승용</td>\n",
       "      <td>자가용</td>\n",
       "      <td>KPBFA2AD12P043282</td>\n",
       "      <td>20020809</td>\n",
       "      <td>2002</td>\n",
       "      <td>20020808.0</td>\n",
       "      <td>...</td>\n",
       "      <td>2874.0</td>\n",
       "      <td>7.0</td>\n",
       "      <td>4745.0</td>\n",
       "      <td>1870.0</td>\n",
       "      <td>1780.0</td>\n",
       "      <td>대한민국</td>\n",
       "      <td>N</td>\n",
       "      <td>20020502.0</td>\n",
       "      <td>NaN</td>\n",
       "      <td>자동</td>\n",
       "    </tr>\n",
       "    <tr>\n",
       "      <th>4</th>\n",
       "      <td>KNCSD0112XS452905-01</td>\n",
       "      <td>경기94도2820</td>\n",
       "      <td>4159035029</td>\n",
       "      <td>주민</td>\n",
       "      <td>화물</td>\n",
       "      <td>자가용</td>\n",
       "      <td>KNCSD0112XS452905</td>\n",
       "      <td>19990909</td>\n",
       "      <td>1999</td>\n",
       "      <td>19990828.0</td>\n",
       "      <td>...</td>\n",
       "      <td>2665.0</td>\n",
       "      <td>3.0</td>\n",
       "      <td>5030.0</td>\n",
       "      <td>1750.0</td>\n",
       "      <td>1970.0</td>\n",
       "      <td>대한민국</td>\n",
       "      <td>N</td>\n",
       "      <td>19970526.0</td>\n",
       "      <td>NaN</td>\n",
       "      <td>수동</td>\n",
       "    </tr>\n",
       "  </tbody>\n",
       "</table>\n",
       "<p>5 rows × 40 columns</p>\n",
       "</div>"
      ],
      "text/plain": [
       "                 차량관리번호     차량등록번호    본거지법정동코드 소유자구분 차종_등록정보   용도  \\\n",
       "0  KMFXKS7BP2U559698-01  경기91다3109  4111113000    주민      화물  자가용   \n",
       "1  KMHSJ81WP6U036607-01    05나8578  2820010300    주민      승용  자가용   \n",
       "2  KN3HNP6D15K117795-01    95가6292  4519011100    주민      화물  자가용   \n",
       "3  KPBFA2AD12P043282-01    09어5181  4833025321    주민      승용  자가용   \n",
       "4  KNCSD0112XS452905-01  경기94도2820  4159035029    주민      화물  자가용   \n",
       "\n",
       "                차대번호    최초등록일자  차량연식      차량제작일자  ...     배기량 승차인원    차량길이  \\\n",
       "0  KMFXKS7BP2U559698  20020201  2002  20020125.0  ...  2607.0  3.0  5075.0   \n",
       "1  KMHSJ81WP6U036607  20060310  2006  20060306.0  ...  2188.0  7.0  4675.0   \n",
       "2  KN3HNP6D15K117795  20051018  2005  20051014.0  ...  2476.0  3.0  5120.0   \n",
       "3  KPBFA2AD12P043282  20020809  2002  20020808.0  ...  2874.0  7.0  4745.0   \n",
       "4  KNCSD0112XS452905  19990909  1999  19990828.0  ...  2665.0  3.0  5030.0   \n",
       "\n",
       "     차량너비    차량높이  원산지명 삭제YN      제원승인일자  구동형식 변속기종류  \n",
       "0  1690.0  1930.0  대한민국    N  20010517.0   NaN    수동  \n",
       "1  1890.0  1795.0  대한민국    N  20050921.0   NaN    자동  \n",
       "2  1740.0  1995.0  대한민국    N  20050427.0   NaN    수동  \n",
       "3  1870.0  1780.0  대한민국    N  20020502.0   NaN    자동  \n",
       "4  1750.0  1970.0  대한민국    N  19970526.0   NaN    수동  \n",
       "\n",
       "[5 rows x 40 columns]"
      ]
     },
     "execution_count": 6,
     "metadata": {},
     "output_type": "execute_result"
    }
   ],
   "source": [
    "df.head()"
   ]
  },
  {
   "cell_type": "markdown",
   "metadata": {},
   "source": [
    "### [출력]기본 파일 csv로 출력"
   ]
  },
  {
   "cell_type": "code",
   "execution_count": 7,
   "metadata": {},
   "outputs": [],
   "source": [
    "# 27.8s\n",
    "df.to_csv('data/220819_22.06월기준_5등급.csv', encoding='cp949')"
   ]
  },
  {
   "cell_type": "markdown",
   "metadata": {},
   "source": [
    "### [로드]파일"
   ]
  },
  {
   "cell_type": "code",
   "execution_count": 4,
   "metadata": {},
   "outputs": [
    {
     "name": "stderr",
     "output_type": "stream",
     "text": [
      "C:\\Users\\kbj\\AppData\\Local\\Temp\\ipykernel_15548\\4060601969.py:2: DtypeWarning: Columns (15,18,30,38,39) have mixed types. Specify dtype option on import or set low_memory=False.\n",
      "  df = pd.read_csv('data/220819_22.06월기준_4등급.csv', encoding='cp949', index_col=0)\n"
     ]
    },
    {
     "name": "stdout",
     "output_type": "stream",
     "text": [
      "<class 'pandas.core.frame.DataFrame'>\n",
      "Int64Index: 1528586 entries, 0 to 1528585\n",
      "Data columns (total 40 columns):\n",
      " #   Column       Non-Null Count    Dtype  \n",
      "---  ------       --------------    -----  \n",
      " 0   차량관리번호       1528586 non-null  object \n",
      " 1   차량등록번호       1528586 non-null  object \n",
      " 2   본거지법정동코드     1528586 non-null  int64  \n",
      " 3   소유자구분        1528586 non-null  object \n",
      " 4   차종_등록정보      1528584 non-null  object \n",
      " 5   용도           1528586 non-null  object \n",
      " 6   차대번호         1528586 non-null  object \n",
      " 7   최초등록일자       1528586 non-null  int64  \n",
      " 8   차량연식         1528586 non-null  int64  \n",
      " 9   차량제작일자       1358925 non-null  float64\n",
      " 10  검사유효일        1528574 non-null  float64\n",
      " 11  제원관리번호       1528586 non-null  object \n",
      " 12  배출가스인증번호     1405585 non-null  object \n",
      " 13  배출가스등급       1528586 non-null  int64  \n",
      " 14  저공해조치종류      195 non-null      object \n",
      " 15  저공해조치구조변경YN  1528586 non-null  object \n",
      " 16  차량말소YN       1528586 non-null  object \n",
      " 17  취득일자         1435514 non-null  object \n",
      " 18  취득금액         1453613 non-null  float64\n",
      " 19  차명           1528586 non-null  object \n",
      " 20  차종_제원정보      1528586 non-null  object \n",
      " 21  차종분류         1528586 non-null  object \n",
      " 22  차종유형         1528586 non-null  object \n",
      " 23  자동차형식        1528302 non-null  object \n",
      " 24  제작사명         1518694 non-null  object \n",
      " 25  연료           1528586 non-null  object \n",
      " 26  엔진형식         1526740 non-null  object \n",
      " 27  총중량          1528585 non-null  float64\n",
      " 28  적재중량         1528075 non-null  float64\n",
      " 29  엔진출력         1528227 non-null  object \n",
      " 30  배기량          1528582 non-null  float64\n",
      " 31  승차인원         1528586 non-null  int64  \n",
      " 32  차량길이         1528585 non-null  float64\n",
      " 33  차량너비         1528585 non-null  float64\n",
      " 34  차량높이         1528583 non-null  float64\n",
      " 35  원산지명         1509499 non-null  object \n",
      " 36  삭제YN         1528586 non-null  object \n",
      " 37  제원승인일자       1528155 non-null  object \n",
      " 38  구동형식         41 non-null       object \n",
      " 39  변속기종류        1528426 non-null  object \n",
      "dtypes: float64(9), int64(5), object(26)\n",
      "memory usage: 478.1+ MB\n"
     ]
    }
   ],
   "source": [
    "# # \n",
    "# df = pd.read_csv('data/220819_22.06월기준_5등급.csv', encoding='cp949', index_col=0)\n",
    "# df.info()"
   ]
  },
  {
   "cell_type": "markdown",
   "metadata": {},
   "source": [
    "### 0\\. [e]차량관리번호"
   ]
  },
  {
   "cell_type": "code",
   "execution_count": null,
   "metadata": {},
   "outputs": [],
   "source": [
    "# - 오류\n",
    "#     - null 값 : 0\n",
    "#     - 영문과 숫자가 아닌 값 : 13936"
   ]
  },
  {
   "cell_type": "code",
   "execution_count": 8,
   "metadata": {},
   "outputs": [
    {
     "data": {
      "text/plain": [
       "0"
      ]
     },
     "execution_count": 8,
     "metadata": {},
     "output_type": "execute_result"
    }
   ],
   "source": [
    "df.iloc[:, 0].isnull().sum()"
   ]
  },
  {
   "cell_type": "code",
   "execution_count": 9,
   "metadata": {},
   "outputs": [
    {
     "data": {
      "text/plain": [
       "KMFXKS7BP2U559698-01    1\n",
       "KMFZAS7JP7U238362-01    1\n",
       "KLKFR2431LB016548-01    1\n",
       "KMCLB17JPNU008801-01    1\n",
       "KPBFA2AF16P223677-01    1\n",
       "                       ..\n",
       "KMFZCD7JP4U041297-01    1\n",
       "2799대구90가8081           1\n",
       "KMHSD81VP5U959815-01    1\n",
       "KMFZCS7JP8U345342-01    1\n",
       "KMFFA17XPPU005700-01    1\n",
       "Name: 차량관리번호, Length: 1186488, dtype: int64"
      ]
     },
     "execution_count": 9,
     "metadata": {},
     "output_type": "execute_result"
    }
   ],
   "source": [
    "df.iloc[:, 0].value_counts()"
   ]
  },
  {
   "cell_type": "code",
   "execution_count": 10,
   "metadata": {},
   "outputs": [
    {
     "data": {
      "text/html": [
       "<div>\n",
       "<style scoped>\n",
       "    .dataframe tbody tr th:only-of-type {\n",
       "        vertical-align: middle;\n",
       "    }\n",
       "\n",
       "    .dataframe tbody tr th {\n",
       "        vertical-align: top;\n",
       "    }\n",
       "\n",
       "    .dataframe thead th {\n",
       "        text-align: right;\n",
       "    }\n",
       "</style>\n",
       "<table border=\"1\" class=\"dataframe\">\n",
       "  <thead>\n",
       "    <tr style=\"text-align: right;\">\n",
       "      <th></th>\n",
       "      <th>차량관리번호</th>\n",
       "      <th>차대번호</th>\n",
       "    </tr>\n",
       "  </thead>\n",
       "  <tbody>\n",
       "    <tr>\n",
       "      <th>0</th>\n",
       "      <td>KMFXKS7BP2U559698-01</td>\n",
       "      <td>KMFXKS7BP2U559698</td>\n",
       "    </tr>\n",
       "    <tr>\n",
       "      <th>1</th>\n",
       "      <td>KMHSJ81WP6U036607-01</td>\n",
       "      <td>KMHSJ81WP6U036607</td>\n",
       "    </tr>\n",
       "    <tr>\n",
       "      <th>2</th>\n",
       "      <td>KN3HNP6D15K117795-01</td>\n",
       "      <td>KN3HNP6D15K117795</td>\n",
       "    </tr>\n",
       "    <tr>\n",
       "      <th>3</th>\n",
       "      <td>KPBFA2AD12P043282-01</td>\n",
       "      <td>KPBFA2AD12P043282</td>\n",
       "    </tr>\n",
       "    <tr>\n",
       "      <th>4</th>\n",
       "      <td>KNCSD0112XS452905-01</td>\n",
       "      <td>KNCSD0112XS452905</td>\n",
       "    </tr>\n",
       "  </tbody>\n",
       "</table>\n",
       "</div>"
      ],
      "text/plain": [
       "                 차량관리번호               차대번호\n",
       "0  KMFXKS7BP2U559698-01  KMFXKS7BP2U559698\n",
       "1  KMHSJ81WP6U036607-01  KMHSJ81WP6U036607\n",
       "2  KN3HNP6D15K117795-01  KN3HNP6D15K117795\n",
       "3  KPBFA2AD12P043282-01  KPBFA2AD12P043282\n",
       "4  KNCSD0112XS452905-01  KNCSD0112XS452905"
      ]
     },
     "execution_count": 10,
     "metadata": {},
     "output_type": "execute_result"
    }
   ],
   "source": [
    "df.iloc[:5, [0, 6]]"
   ]
  },
  {
   "cell_type": "code",
   "execution_count": 11,
   "metadata": {},
   "outputs": [
    {
     "name": "stderr",
     "output_type": "stream",
     "text": [
      "1186488it [00:00, 1290388.43it/s]\n"
     ]
    },
    {
     "data": {
      "text/plain": [
       "13936"
      ]
     },
     "execution_count": 11,
     "metadata": {},
     "output_type": "execute_result"
    }
   ],
   "source": [
    "count = 0\n",
    "p01 = re.compile('\\w+[-]\\d+')\n",
    "idx01 = []\n",
    "for i, one in tqdm(enumerate(df.iloc[:, 0].to_numpy())):\n",
    "    temp = one.split('-')\n",
    "    if len(temp) != 2 and str(one).count('-') != 1:\n",
    "        idx01.append(i)\n",
    "        count += 1\n",
    "count"
   ]
  },
  {
   "cell_type": "code",
   "execution_count": 12,
   "metadata": {},
   "outputs": [
    {
     "data": {
      "text/plain": [
       "[43, 226, 297, 536, 544]"
      ]
     },
     "execution_count": 12,
     "metadata": {},
     "output_type": "execute_result"
    }
   ],
   "source": [
    "idx01[:5]"
   ]
  },
  {
   "cell_type": "code",
   "execution_count": 15,
   "metadata": {},
   "outputs": [
    {
     "data": {
      "text/plain": [
       "2"
      ]
     },
     "execution_count": 15,
     "metadata": {},
     "output_type": "execute_result"
    }
   ],
   "source": [
    "idx01.index(297)"
   ]
  },
  {
   "cell_type": "code",
   "execution_count": 16,
   "metadata": {},
   "outputs": [
    {
     "data": {
      "text/plain": [
       "<re.Match object; span=(0, 5), match='28-88'>"
      ]
     },
     "execution_count": 16,
     "metadata": {},
     "output_type": "execute_result"
    }
   ],
   "source": [
    "p01.search('28-88-112-06218-01')"
   ]
  },
  {
   "cell_type": "code",
   "execution_count": 17,
   "metadata": {},
   "outputs": [
    {
     "data": {
      "text/plain": [
       "4"
      ]
     },
     "execution_count": 17,
     "metadata": {},
     "output_type": "execute_result"
    }
   ],
   "source": [
    "'28-88-112-06218-01'.count('-')"
   ]
  },
  {
   "cell_type": "code",
   "execution_count": 18,
   "metadata": {},
   "outputs": [
    {
     "data": {
      "text/html": [
       "<div>\n",
       "<style scoped>\n",
       "    .dataframe tbody tr th:only-of-type {\n",
       "        vertical-align: middle;\n",
       "    }\n",
       "\n",
       "    .dataframe tbody tr th {\n",
       "        vertical-align: top;\n",
       "    }\n",
       "\n",
       "    .dataframe thead th {\n",
       "        text-align: right;\n",
       "    }\n",
       "</style>\n",
       "<table border=\"1\" class=\"dataframe\">\n",
       "  <thead>\n",
       "    <tr style=\"text-align: right;\">\n",
       "      <th></th>\n",
       "      <th>차량관리번호</th>\n",
       "      <th>차량등록번호</th>\n",
       "      <th>차대번호</th>\n",
       "    </tr>\n",
       "  </thead>\n",
       "  <tbody>\n",
       "    <tr>\n",
       "      <th>43</th>\n",
       "      <td>4899경남1누8987</td>\n",
       "      <td>경남1누8987</td>\n",
       "      <td>10792213224</td>\n",
       "    </tr>\n",
       "    <tr>\n",
       "      <th>226</th>\n",
       "      <td>4199경기99바1784</td>\n",
       "      <td>인천98바7227</td>\n",
       "      <td>WDB9542413K820948</td>\n",
       "    </tr>\n",
       "    <tr>\n",
       "      <th>297</th>\n",
       "      <td>1199서울5로2248</td>\n",
       "      <td>서울5로2248</td>\n",
       "      <td>KNHTP7322JS071203</td>\n",
       "    </tr>\n",
       "    <tr>\n",
       "      <th>536</th>\n",
       "      <td>4199경기6가5004</td>\n",
       "      <td>경기6가5004</td>\n",
       "      <td>03821121571</td>\n",
       "    </tr>\n",
       "    <tr>\n",
       "      <th>544</th>\n",
       "      <td>4199경기7르7435</td>\n",
       "      <td>경기7르7435</td>\n",
       "      <td>KMFFA17XPHU008187</td>\n",
       "    </tr>\n",
       "  </tbody>\n",
       "</table>\n",
       "</div>"
      ],
      "text/plain": [
       "            차량관리번호     차량등록번호               차대번호\n",
       "43    4899경남1누8987   경남1누8987        10792213224\n",
       "226  4199경기99바1784  인천98바7227  WDB9542413K820948\n",
       "297   1199서울5로2248   서울5로2248  KNHTP7322JS071203\n",
       "536   4199경기6가5004   경기6가5004        03821121571\n",
       "544   4199경기7르7435   경기7르7435  KMFFA17XPHU008187"
      ]
     },
     "execution_count": 18,
     "metadata": {},
     "output_type": "execute_result"
    }
   ],
   "source": [
    "temp = df[['차량관리번호', '차량등록번호', '차대번호']].reindex(idx01)\n",
    "temp.head()"
   ]
  },
  {
   "cell_type": "code",
   "execution_count": 19,
   "metadata": {},
   "outputs": [
    {
     "data": {
      "text/html": [
       "<div>\n",
       "<style scoped>\n",
       "    .dataframe tbody tr th:only-of-type {\n",
       "        vertical-align: middle;\n",
       "    }\n",
       "\n",
       "    .dataframe tbody tr th {\n",
       "        vertical-align: top;\n",
       "    }\n",
       "\n",
       "    .dataframe thead th {\n",
       "        text-align: right;\n",
       "    }\n",
       "</style>\n",
       "<table border=\"1\" class=\"dataframe\">\n",
       "  <thead>\n",
       "    <tr style=\"text-align: right;\">\n",
       "      <th></th>\n",
       "      <th>차량관리번호</th>\n",
       "      <th>차량등록번호</th>\n",
       "      <th>차대번호</th>\n",
       "    </tr>\n",
       "  </thead>\n",
       "  <tbody>\n",
       "    <tr>\n",
       "      <th>1186162</th>\n",
       "      <td>1199서울1초8887</td>\n",
       "      <td>서울1초8887</td>\n",
       "      <td>KMHLA11FPGU042651</td>\n",
       "    </tr>\n",
       "    <tr>\n",
       "      <th>1186171</th>\n",
       "      <td>489979머2903</td>\n",
       "      <td>79머2903</td>\n",
       "      <td>KLBUR59SGRP001150</td>\n",
       "    </tr>\n",
       "    <tr>\n",
       "      <th>1186319</th>\n",
       "      <td>319940서3764</td>\n",
       "      <td>40서3764</td>\n",
       "      <td>KNAJC52437A711963</td>\n",
       "    </tr>\n",
       "    <tr>\n",
       "      <th>1186320</th>\n",
       "      <td>4799경북7보2477</td>\n",
       "      <td>경북7보2477</td>\n",
       "      <td>KNCSA9132JS124808</td>\n",
       "    </tr>\n",
       "    <tr>\n",
       "      <th>1186364</th>\n",
       "      <td>4499충남7르2361</td>\n",
       "      <td>충남7르2361</td>\n",
       "      <td>KNCSB1114KS042163</td>\n",
       "    </tr>\n",
       "  </tbody>\n",
       "</table>\n",
       "</div>"
      ],
      "text/plain": [
       "               차량관리번호    차량등록번호               차대번호\n",
       "1186162  1199서울1초8887  서울1초8887  KMHLA11FPGU042651\n",
       "1186171   489979머2903   79머2903  KLBUR59SGRP001150\n",
       "1186319   319940서3764   40서3764  KNAJC52437A711963\n",
       "1186320  4799경북7보2477  경북7보2477  KNCSA9132JS124808\n",
       "1186364  4499충남7르2361  충남7르2361  KNCSB1114KS042163"
      ]
     },
     "execution_count": 19,
     "metadata": {},
     "output_type": "execute_result"
    }
   ],
   "source": [
    "temp.tail()"
   ]
  },
  {
   "cell_type": "code",
   "execution_count": 20,
   "metadata": {},
   "outputs": [
    {
     "data": {
      "text/plain": [
       "13936"
      ]
     },
     "execution_count": 20,
     "metadata": {},
     "output_type": "execute_result"
    }
   ],
   "source": [
    "len(temp)"
   ]
  },
  {
   "cell_type": "code",
   "execution_count": 21,
   "metadata": {},
   "outputs": [
    {
     "name": "stderr",
     "output_type": "stream",
     "text": [
      "13936it [00:00, 481814.60it/s]\n"
     ]
    }
   ],
   "source": [
    "# 정상 차량관리번호가 아닌 데이터 중 차대번호가 숫자로만 이루어진 데이터 추출\n",
    "p02 = re.compile('\\D+')\n",
    "idx02 = []\n",
    "for i, one in tqdm(enumerate(temp['차대번호'])):\n",
    "    if not p02.search(str(one)):\n",
    "        idx02.append(temp.index[i])"
   ]
  },
  {
   "cell_type": "code",
   "execution_count": 22,
   "metadata": {},
   "outputs": [
    {
     "data": {
      "text/html": [
       "<div>\n",
       "<style scoped>\n",
       "    .dataframe tbody tr th:only-of-type {\n",
       "        vertical-align: middle;\n",
       "    }\n",
       "\n",
       "    .dataframe tbody tr th {\n",
       "        vertical-align: top;\n",
       "    }\n",
       "\n",
       "    .dataframe thead th {\n",
       "        text-align: right;\n",
       "    }\n",
       "</style>\n",
       "<table border=\"1\" class=\"dataframe\">\n",
       "  <thead>\n",
       "    <tr style=\"text-align: right;\">\n",
       "      <th></th>\n",
       "      <th>차량관리번호</th>\n",
       "      <th>차량등록번호</th>\n",
       "      <th>차대번호</th>\n",
       "    </tr>\n",
       "  </thead>\n",
       "  <tbody>\n",
       "    <tr>\n",
       "      <th>43</th>\n",
       "      <td>4899경남1누8987</td>\n",
       "      <td>경남1누8987</td>\n",
       "      <td>10792213224</td>\n",
       "    </tr>\n",
       "    <tr>\n",
       "      <th>536</th>\n",
       "      <td>4199경기6가5004</td>\n",
       "      <td>경기6가5004</td>\n",
       "      <td>03821121571</td>\n",
       "    </tr>\n",
       "    <tr>\n",
       "      <th>1377</th>\n",
       "      <td>4199경기8누5366</td>\n",
       "      <td>경기8누5366</td>\n",
       "      <td>03812124383</td>\n",
       "    </tr>\n",
       "    <tr>\n",
       "      <th>2430</th>\n",
       "      <td>1199서울1루3857</td>\n",
       "      <td>서울1루3857</td>\n",
       "      <td>10812247800</td>\n",
       "    </tr>\n",
       "    <tr>\n",
       "      <th>2459</th>\n",
       "      <td>4599전북7가6379</td>\n",
       "      <td>전북7가6379</td>\n",
       "      <td>13822102056</td>\n",
       "    </tr>\n",
       "    <tr>\n",
       "      <th>...</th>\n",
       "      <td>...</td>\n",
       "      <td>...</td>\n",
       "      <td>...</td>\n",
       "    </tr>\n",
       "    <tr>\n",
       "      <th>1183200</th>\n",
       "      <td>4599전북1라9198</td>\n",
       "      <td>전북1라9198</td>\n",
       "      <td>03812211738</td>\n",
       "    </tr>\n",
       "    <tr>\n",
       "      <th>1183849</th>\n",
       "      <td>2699부산2마1364</td>\n",
       "      <td>부산2마1364</td>\n",
       "      <td>10822218921</td>\n",
       "    </tr>\n",
       "    <tr>\n",
       "      <th>1184277</th>\n",
       "      <td>2899인천1다5445</td>\n",
       "      <td>인천1다5445</td>\n",
       "      <td>13821314935</td>\n",
       "    </tr>\n",
       "    <tr>\n",
       "      <th>1184716</th>\n",
       "      <td>279996고9549</td>\n",
       "      <td>96고9549</td>\n",
       "      <td>440134311315</td>\n",
       "    </tr>\n",
       "    <tr>\n",
       "      <th>1186066</th>\n",
       "      <td>1199서울3머9722</td>\n",
       "      <td>서울3머9722</td>\n",
       "      <td>10792253171</td>\n",
       "    </tr>\n",
       "  </tbody>\n",
       "</table>\n",
       "<p>2701 rows × 3 columns</p>\n",
       "</div>"
      ],
      "text/plain": [
       "               차량관리번호    차량등록번호          차대번호\n",
       "43       4899경남1누8987  경남1누8987   10792213224\n",
       "536      4199경기6가5004  경기6가5004   03821121571\n",
       "1377     4199경기8누5366  경기8누5366   03812124383\n",
       "2430     1199서울1루3857  서울1루3857   10812247800\n",
       "2459     4599전북7가6379  전북7가6379   13822102056\n",
       "...               ...       ...           ...\n",
       "1183200  4599전북1라9198  전북1라9198   03812211738\n",
       "1183849  2699부산2마1364  부산2마1364   10822218921\n",
       "1184277  2899인천1다5445  인천1다5445   13821314935\n",
       "1184716   279996고9549   96고9549  440134311315\n",
       "1186066  1199서울3머9722  서울3머9722   10792253171\n",
       "\n",
       "[2701 rows x 3 columns]"
      ]
     },
     "execution_count": 22,
     "metadata": {},
     "output_type": "execute_result"
    }
   ],
   "source": [
    "df[['차량관리번호', '차량등록번호', '차대번호']].reindex(idx02)"
   ]
  },
  {
   "cell_type": "code",
   "execution_count": 23,
   "metadata": {},
   "outputs": [
    {
     "data": {
      "text/html": [
       "<div>\n",
       "<style scoped>\n",
       "    .dataframe tbody tr th:only-of-type {\n",
       "        vertical-align: middle;\n",
       "    }\n",
       "\n",
       "    .dataframe tbody tr th {\n",
       "        vertical-align: top;\n",
       "    }\n",
       "\n",
       "    .dataframe thead th {\n",
       "        text-align: right;\n",
       "    }\n",
       "</style>\n",
       "<table border=\"1\" class=\"dataframe\">\n",
       "  <thead>\n",
       "    <tr style=\"text-align: right;\">\n",
       "      <th></th>\n",
       "      <th>차량관리번호</th>\n",
       "      <th>차량등록번호</th>\n",
       "      <th>차대번호</th>\n",
       "    </tr>\n",
       "  </thead>\n",
       "  <tbody>\n",
       "    <tr>\n",
       "      <th>19514</th>\n",
       "      <td>KMFZCS7JP5U063851-01</td>\n",
       "      <td>90로1396</td>\n",
       "      <td>KMFZCS7JP5U063851</td>\n",
       "    </tr>\n",
       "    <tr>\n",
       "      <th>23971</th>\n",
       "      <td>KNAJC52136A539358-01</td>\n",
       "      <td>04노9883</td>\n",
       "      <td>KNAJC52136A539358</td>\n",
       "    </tr>\n",
       "  </tbody>\n",
       "</table>\n",
       "</div>"
      ],
      "text/plain": [
       "                     차량관리번호   차량등록번호               차대번호\n",
       "19514  KMFZCS7JP5U063851-01  90로1396  KMFZCS7JP5U063851\n",
       "23971  KNAJC52136A539358-01  04노9883  KNAJC52136A539358"
      ]
     },
     "execution_count": 23,
     "metadata": {},
     "output_type": "execute_result"
    }
   ],
   "source": [
    "# 정상 차량관리번호 확인\n",
    "df.loc[[19514, 23971], ['차량관리번호', '차량등록번호', '차대번호']]"
   ]
  },
  {
   "cell_type": "markdown",
   "metadata": {},
   "source": [
    "#### [출력]차량관리번호 오류 값의 차대번호"
   ]
  },
  {
   "cell_type": "code",
   "execution_count": 24,
   "metadata": {},
   "outputs": [],
   "source": [
    "temp.to_csv('analysis/[제원정보][5등급][차량관리번호]오류샘플의_차대번호.csv', encoding='cp949')"
   ]
  },
  {
   "cell_type": "code",
   "execution_count": 20,
   "metadata": {},
   "outputs": [
    {
     "data": {
      "text/plain": [
       "1"
      ]
     },
     "execution_count": 20,
     "metadata": {},
     "output_type": "execute_result"
    }
   ],
   "source": [
    "len('439906마8829'.split('-'))"
   ]
  },
  {
   "cell_type": "markdown",
   "metadata": {},
   "source": [
    "#### 차량관리번호 뒷번호 확인"
   ]
  },
  {
   "cell_type": "code",
   "execution_count": 25,
   "metadata": {},
   "outputs": [
    {
     "name": "stderr",
     "output_type": "stream",
     "text": [
      "1186488it [00:01, 891548.11it/s]\n"
     ]
    }
   ],
   "source": [
    "num_list = []\n",
    "rest_list = []\n",
    "for i, one in tqdm(enumerate(df.iloc[:, 0])):\n",
    "    temp = str(one).split('-')\n",
    "    if len(temp) == 2:\n",
    "        num_list.append(temp[-1])\n",
    "    else:\n",
    "        num_list.append(np.nan)\n",
    "        rest_list.append(i)"
   ]
  },
  {
   "cell_type": "code",
   "execution_count": 26,
   "metadata": {},
   "outputs": [
    {
     "data": {
      "text/plain": [
       "13936"
      ]
     },
     "execution_count": 26,
     "metadata": {},
     "output_type": "execute_result"
    }
   ],
   "source": [
    "len(rest_list)"
   ]
  },
  {
   "cell_type": "code",
   "execution_count": 28,
   "metadata": {},
   "outputs": [
    {
     "data": {
      "text/plain": [
       "11235"
      ]
     },
     "execution_count": 28,
     "metadata": {},
     "output_type": "execute_result"
    }
   ],
   "source": [
    "# 뒷번호 나머지에서 차량관리번호 오류 값 제거\n",
    "len(set(rest_list) - set(idx02))"
   ]
  },
  {
   "cell_type": "code",
   "execution_count": 29,
   "metadata": {},
   "outputs": [
    {
     "data": {
      "text/plain": [
       "4"
      ]
     },
     "execution_count": 29,
     "metadata": {},
     "output_type": "execute_result"
    }
   ],
   "source": [
    "len(set(num_list))"
   ]
  },
  {
   "cell_type": "code",
   "execution_count": 30,
   "metadata": {},
   "outputs": [
    {
     "data": {
      "text/plain": [
       "{'01', '02', '03', nan}"
      ]
     },
     "execution_count": 30,
     "metadata": {},
     "output_type": "execute_result"
    }
   ],
   "source": [
    "set(num_list)"
   ]
  },
  {
   "cell_type": "code",
   "execution_count": 31,
   "metadata": {},
   "outputs": [
    {
     "data": {
      "text/plain": [
       "1186488"
      ]
     },
     "execution_count": 31,
     "metadata": {},
     "output_type": "execute_result"
    }
   ],
   "source": [
    "len(num_list)"
   ]
  },
  {
   "cell_type": "code",
   "execution_count": 32,
   "metadata": {},
   "outputs": [
    {
     "data": {
      "text/plain": [
       "1171365"
      ]
     },
     "execution_count": 32,
     "metadata": {},
     "output_type": "execute_result"
    }
   ],
   "source": [
    "num_list.count('01')"
   ]
  },
  {
   "cell_type": "code",
   "execution_count": 33,
   "metadata": {},
   "outputs": [
    {
     "data": {
      "text/plain": [
       "1170"
      ]
     },
     "execution_count": 33,
     "metadata": {},
     "output_type": "execute_result"
    }
   ],
   "source": [
    "num_list.count('02')"
   ]
  },
  {
   "cell_type": "code",
   "execution_count": 34,
   "metadata": {},
   "outputs": [
    {
     "data": {
      "text/plain": [
       "17"
      ]
     },
     "execution_count": 34,
     "metadata": {},
     "output_type": "execute_result"
    }
   ],
   "source": [
    "num_list.count('03')"
   ]
  },
  {
   "cell_type": "code",
   "execution_count": 35,
   "metadata": {},
   "outputs": [
    {
     "name": "stdout",
     "output_type": "stream",
     "text": [
      "차량관리번호 \"-\" 뒤 숫자 :01\n",
      "예시)\n",
      "0    KMFXKS7BP2U559698-01\n",
      "1    KMHSJ81WP6U036607-01\n",
      "2    KN3HNP6D15K117795-01\n",
      "Name: 차량관리번호, dtype: object\n",
      "\n",
      "차량관리번호 \"-\" 뒤 숫자 :02\n",
      "예시)\n",
      "651     KMHLA11FPGU065911-02\n",
      "2279    KNCSA9132JS139190-02\n",
      "2379    KN2DAM8A1JK001418-02\n",
      "Name: 차량관리번호, dtype: object\n",
      "\n",
      "차량관리번호 \"-\" 뒤 숫자 :03\n",
      "예시)\n",
      "226765    1G6KS5182HU807373-03\n",
      "255369    KMHPA21EPEU124185-03\n",
      "288592    KMHJN81VP4U056566-03\n",
      "Name: 차량관리번호, dtype: object\n",
      "\n"
     ]
    }
   ],
   "source": [
    "for n in ['01', '02', '03']:\n",
    "    idx = []\n",
    "    for i, one in enumerate(df.iloc[:, 0].to_numpy()):\n",
    "        temp = str(one).split('-')\n",
    "        if len(temp) == 2 and temp[-1] == n:\n",
    "            idx.append(i)\n",
    "    print(f'차량관리번호 \"-\" 뒤 숫자 :{n}')\n",
    "    print('예시)')\n",
    "    print(df.iloc[idx[:3], 0])\n",
    "    print()"
   ]
  },
  {
   "cell_type": "code",
   "execution_count": 38,
   "metadata": {},
   "outputs": [
    {
     "name": "stdout",
     "output_type": "stream",
     "text": [
      "KMFXKS7BP2U559698-01\n"
     ]
    }
   ],
   "source": [
    "for one in df.iloc[:, 0].to_numpy():\n",
    "    temp = one.split('-')\n",
    "    if len(temp) == 2:\n",
    "        if 'KMFXKS7BP2U559698' in one:\n",
    "            print(one)"
   ]
  },
  {
   "cell_type": "code",
   "execution_count": 39,
   "metadata": {},
   "outputs": [
    {
     "name": "stdout",
     "output_type": "stream",
     "text": [
      "KMHLA11FPGU065911-02\n"
     ]
    }
   ],
   "source": [
    "for one in df.iloc[:, 0].to_numpy():\n",
    "    temp = one.split('-')\n",
    "    if len(temp) == 2:\n",
    "        if 'KMHLA11FPGU065911' in one:\n",
    "            print(one)"
   ]
  },
  {
   "cell_type": "code",
   "execution_count": 40,
   "metadata": {},
   "outputs": [
    {
     "name": "stdout",
     "output_type": "stream",
     "text": [
      "1G6KS5182HU807373-03\n"
     ]
    }
   ],
   "source": [
    "for one in df.iloc[:, 0].to_numpy():\n",
    "    temp = one.split('-')\n",
    "    if len(temp) == 2:\n",
    "        if '1G6KS5182HU807373' in one:\n",
    "            print(one)"
   ]
  },
  {
   "cell_type": "markdown",
   "metadata": {},
   "source": [
    "##### 차량관리번호 앞번호(차대번호) 중복 여부 확인"
   ]
  },
  {
   "cell_type": "code",
   "execution_count": 41,
   "metadata": {},
   "outputs": [],
   "source": [
    "# 차량관리번호 앞번호(차대번호) 중복 여부 체크\n",
    "list03 = []\n",
    "idx03 = []\n",
    "for i, one in enumerate(df.iloc[:, 0].to_numpy()):\n",
    "    temp = str(one).split('-')\n",
    "    if len(temp) == 2:\n",
    "        list03.append(temp[0])\n",
    "        idx03.append(i)"
   ]
  },
  {
   "cell_type": "code",
   "execution_count": 42,
   "metadata": {},
   "outputs": [
    {
     "data": {
      "text/plain": [
       "([1, 2, 3], [1, 2])"
      ]
     },
     "execution_count": 42,
     "metadata": {},
     "output_type": "execute_result"
    }
   ],
   "source": [
    "a = [1, 2, 3]\n",
    "b = a.copy()\n",
    "b.remove(3)\n",
    "a, b"
   ]
  },
  {
   "cell_type": "code",
   "execution_count": 43,
   "metadata": {},
   "outputs": [],
   "source": [
    "dict03_1 = dict()\n",
    "for one in set(list03):\n",
    "    dict03_1[one] = 0"
   ]
  },
  {
   "cell_type": "code",
   "execution_count": 44,
   "metadata": {},
   "outputs": [
    {
     "data": {
      "text/plain": [
       "{1: 0, 2: 0, 3: 0, 4: 0, 5: 0}"
      ]
     },
     "execution_count": 44,
     "metadata": {},
     "output_type": "execute_result"
    }
   ],
   "source": [
    "test_list = [1, 2, 3, 2, 3, 3, 4, 5]\n",
    "test_dict = dict()\n",
    "for one in set(test_list):\n",
    "    test_dict[one] = 0\n",
    "test_dict"
   ]
  },
  {
   "cell_type": "code",
   "execution_count": 45,
   "metadata": {},
   "outputs": [
    {
     "data": {
      "text/plain": [
       "{1: 1, 2: 2, 3: 3, 4: 1, 5: 1}"
      ]
     },
     "execution_count": 45,
     "metadata": {},
     "output_type": "execute_result"
    }
   ],
   "source": [
    "for one in test_list:\n",
    "    test_dict[one] += 1\n",
    "test_dict"
   ]
  },
  {
   "cell_type": "code",
   "execution_count": 46,
   "metadata": {},
   "outputs": [],
   "source": [
    "for one in list03:\n",
    "    dict03_1[one] += 1"
   ]
  },
  {
   "cell_type": "code",
   "execution_count": 47,
   "metadata": {},
   "outputs": [
    {
     "data": {
      "text/plain": [
       "24"
      ]
     },
     "execution_count": 47,
     "metadata": {},
     "output_type": "execute_result"
    }
   ],
   "source": [
    "# 중복 앞번호 : 24 개\n",
    "keys = []\n",
    "for k, v in dict03_1.items():\n",
    "    if v >= 2:\n",
    "        keys.append(k)\n",
    "len(keys)"
   ]
  },
  {
   "cell_type": "code",
   "execution_count": 48,
   "metadata": {},
   "outputs": [
    {
     "data": {
      "text/plain": [
       "['KNCSD0322VS315866',\n",
       " 'KN5MFT7X1MK000146',\n",
       " '449934294852',\n",
       " '2GAFG35L5G4135703',\n",
       " '10792153054EOGUS']"
      ]
     },
     "execution_count": 48,
     "metadata": {},
     "output_type": "execute_result"
    }
   ],
   "source": [
    "keys[:5]"
   ]
  },
  {
   "cell_type": "code",
   "execution_count": 49,
   "metadata": {},
   "outputs": [
    {
     "data": {
      "text/plain": [
       "2"
      ]
     },
     "execution_count": 49,
     "metadata": {},
     "output_type": "execute_result"
    }
   ],
   "source": [
    "dict03_1['KNCSD0322VS315866']"
   ]
  },
  {
   "cell_type": "code",
   "execution_count": 50,
   "metadata": {},
   "outputs": [],
   "source": [
    "keys = sorted(keys)"
   ]
  },
  {
   "cell_type": "code",
   "execution_count": 51,
   "metadata": {},
   "outputs": [
    {
     "data": {
      "text/plain": [
       "['10782112705',\n",
       " '10792153054EOGUS',\n",
       " '10792214743',\n",
       " '10832247422',\n",
       " '2GAFG35L5G4135703']"
      ]
     },
     "execution_count": 51,
     "metadata": {},
     "output_type": "execute_result"
    }
   ],
   "source": [
    "keys[:5]"
   ]
  },
  {
   "cell_type": "code",
   "execution_count": 52,
   "metadata": {},
   "outputs": [
    {
     "data": {
      "text/plain": [
       "1"
      ]
     },
     "execution_count": 52,
     "metadata": {},
     "output_type": "execute_result"
    }
   ],
   "source": [
    "a = [1, 2, 3, 2]\n",
    "a.index(2)"
   ]
  },
  {
   "cell_type": "code",
   "execution_count": 53,
   "metadata": {},
   "outputs": [],
   "source": [
    "# 중복 뒷번호 샘플 추출 : 48 개\n",
    "idx03_1 = []\n",
    "for k in keys:\n",
    "    for i, one in enumerate(df.iloc[:, 0].to_numpy()):\n",
    "        if k in one:\n",
    "            idx03_1.append(i)"
   ]
  },
  {
   "cell_type": "code",
   "execution_count": 54,
   "metadata": {},
   "outputs": [
    {
     "data": {
      "text/plain": [
       "48"
      ]
     },
     "execution_count": 54,
     "metadata": {},
     "output_type": "execute_result"
    }
   ],
   "source": [
    "len(idx03_1)"
   ]
  },
  {
   "cell_type": "code",
   "execution_count": 55,
   "metadata": {},
   "outputs": [
    {
     "data": {
      "text/plain": [
       "532743           10782112705-01\n",
       "844797           10782112705-02\n",
       "698415      10792153054EOGUS-01\n",
       "728487      10792153054EOGUS-02\n",
       "477858           10792214743-02\n",
       "751902           10792214743-01\n",
       "559524           10832247422-02\n",
       "1079422          10832247422-01\n",
       "281460     2GAFG35L5G4135703-02\n",
       "310138     2GAFG35L5G4135703-01\n",
       "422041          419734297854-01\n",
       "427959          419734297854-02\n",
       "969157          419934399332-02\n",
       "1169539         419934399332-01\n",
       "23034           419934399356-01\n",
       "831324          419934399356-02\n",
       "596017          420234203244-01\n",
       "894184          420234203244-02\n",
       "356043          449934294852-02\n",
       "1036418         449934294852-01\n",
       "291513          449934294855-01\n",
       "1056322         449934294855-02\n",
       "69200      KMFAA19RPJU002468-01\n",
       "593306     KMFAA19RPJU002468-02\n",
       "16429      KMFFA17APRU142377-01\n",
       "1119730    KMFFA17APRU142377-02\n",
       "886734     KMFGA17AP4C206251-01\n",
       "1035451    KMFGA17AP4C206251-02\n",
       "681691     KMFGA17LP2C165003-02\n",
       "749017     KMFGA17LP2C165003-01\n",
       "74002      KMFLA19JPTC109807-02\n",
       "399639     KMFLA19JPTC109807-01\n",
       "865542     KMFXKS7APTU035880-01\n",
       "908267     KMFXKS7APTU035880-02\n",
       "69481      KMFZCS7HP7U223169-02\n",
       "1095909    KMFZCS7HP7U223169-01\n",
       "254741     KMHSF31EPEU030266-01\n",
       "655176     KMHSF31EPEU030266-02\n",
       "70563      KN5MFT7X1MK000146-02\n",
       "259764     KN5MFT7X1MK000146-01\n",
       "59821      KNAMC75137S168063-01\n",
       "1158886    KNAMC75137S168063-02\n",
       "496975     KNCSC9132MS233886-02\n",
       "661662     KNCSC9132MS233886-01\n",
       "146033     KNCSD0322VS315866-02\n",
       "594049     KNCSD0322VS315866-01\n",
       "254937     KPBFA2AF16P231090-02\n",
       "537373     KPBFA2AF16P231090-01\n",
       "Name: 차량관리번호, dtype: object"
      ]
     },
     "execution_count": 55,
     "metadata": {},
     "output_type": "execute_result"
    }
   ],
   "source": [
    "df.iloc[idx03_1, 0]"
   ]
  },
  {
   "cell_type": "code",
   "execution_count": 56,
   "metadata": {},
   "outputs": [
    {
     "data": {
      "text/plain": [
       "2"
      ]
     },
     "execution_count": 56,
     "metadata": {},
     "output_type": "execute_result"
    }
   ],
   "source": [
    "# 중복 뒷번호 중복 최대 횟수 : 2 번\n",
    "m = 0\n",
    "for k, v in dict03_1.items():\n",
    "    if m <= v:\n",
    "        m = v\n",
    "m"
   ]
  },
  {
   "cell_type": "markdown",
   "metadata": {},
   "source": [
    "#### [출력]앞번호 중복 예시"
   ]
  },
  {
   "cell_type": "code",
   "execution_count": 57,
   "metadata": {},
   "outputs": [
    {
     "name": "stderr",
     "output_type": "stream",
     "text": [
      "C:\\Users\\kbj\\AppData\\Roaming\\Python\\Python39\\site-packages\\pandas\\util\\_decorators.py:211: FutureWarning: the 'encoding' keyword is deprecated and will be removed in a future version. Please take steps to stop the use of 'encoding'\n",
      "  return func(*args, **kwargs)\n"
     ]
    }
   ],
   "source": [
    "temp03_1 = df.iloc[idx03_1, 0]\n",
    "temp03_1.to_excel('analysis/[제원정보][5등급][차량관리번호]앞번호_중복_예시.xlsx', encoding='utf-8')"
   ]
  },
  {
   "cell_type": "markdown",
   "metadata": {},
   "source": [
    "### 1\\. 차량등록번호"
   ]
  },
  {
   "cell_type": "code",
   "execution_count": null,
   "metadata": {},
   "outputs": [],
   "source": [
    "# - 오류\n",
    "#     - null 값 : 0\n",
    "#     - 오류 값 : 1"
   ]
  },
  {
   "cell_type": "code",
   "execution_count": 58,
   "metadata": {},
   "outputs": [
    {
     "data": {
      "text/plain": [
       "0"
      ]
     },
     "execution_count": 58,
     "metadata": {},
     "output_type": "execute_result"
    }
   ],
   "source": [
    "df.iloc[:, 1].isnull().sum()"
   ]
  },
  {
   "cell_type": "code",
   "execution_count": 59,
   "metadata": {},
   "outputs": [
    {
     "data": {
      "text/plain": [
       "경기91다3109    1\n",
       "82구5659      1\n",
       "인천7머5543     1\n",
       "80거2009      1\n",
       "06어4006      1\n",
       "            ..\n",
       "90어2229      1\n",
       "대구90가8081    1\n",
       "16구4948      1\n",
       "89서3963      1\n",
       "충북90가2032    1\n",
       "Name: 차량등록번호, Length: 1186488, dtype: int64"
      ]
     },
     "execution_count": 59,
     "metadata": {},
     "output_type": "execute_result"
    }
   ],
   "source": [
    "df.iloc[:, 1].value_counts()"
   ]
  },
  {
   "cell_type": "code",
   "execution_count": 60,
   "metadata": {},
   "outputs": [
    {
     "name": "stderr",
     "output_type": "stream",
     "text": [
      "1186488it [00:01, 1109586.83it/s]\n"
     ]
    },
    {
     "data": {
      "text/plain": [
       "1"
      ]
     },
     "execution_count": 60,
     "metadata": {},
     "output_type": "execute_result"
    }
   ],
   "source": [
    "count = 0\n",
    "p11 = re.compile('\\d+[가-힣]+')\n",
    "idx11 = []\n",
    "for i, one in tqdm(enumerate(df.iloc[:, 1].to_numpy())):\n",
    "    if not p11.search(one):\n",
    "        idx11.append(i)\n",
    "        count += 1\n",
    "count"
   ]
  },
  {
   "cell_type": "code",
   "execution_count": 61,
   "metadata": {},
   "outputs": [
    {
     "data": {
      "text/plain": [
       "389132    서울703**575\n",
       "Name: 차량등록번호, dtype: object"
      ]
     },
     "execution_count": 61,
     "metadata": {},
     "output_type": "execute_result"
    }
   ],
   "source": [
    "df.iloc[:, 1].reindex(idx11)"
   ]
  },
  {
   "cell_type": "code",
   "execution_count": 68,
   "metadata": {},
   "outputs": [
    {
     "data": {
      "text/html": [
       "<div>\n",
       "<style scoped>\n",
       "    .dataframe tbody tr th:only-of-type {\n",
       "        vertical-align: middle;\n",
       "    }\n",
       "\n",
       "    .dataframe tbody tr th {\n",
       "        vertical-align: top;\n",
       "    }\n",
       "\n",
       "    .dataframe thead th {\n",
       "        text-align: right;\n",
       "    }\n",
       "</style>\n",
       "<table border=\"1\" class=\"dataframe\">\n",
       "  <thead>\n",
       "    <tr style=\"text-align: right;\">\n",
       "      <th></th>\n",
       "      <th>차량관리번호</th>\n",
       "      <th>차량등록번호</th>\n",
       "      <th>차대번호</th>\n",
       "    </tr>\n",
       "  </thead>\n",
       "  <tbody>\n",
       "    <tr>\n",
       "      <th>389132</th>\n",
       "      <td>1199서울703**575</td>\n",
       "      <td>서울703**575</td>\n",
       "      <td>03821215031</td>\n",
       "    </tr>\n",
       "  </tbody>\n",
       "</table>\n",
       "</div>"
      ],
      "text/plain": [
       "                차량관리번호      차량등록번호         차대번호\n",
       "389132  1199서울703**575  서울703**575  03821215031"
      ]
     },
     "execution_count": 68,
     "metadata": {},
     "output_type": "execute_result"
    }
   ],
   "source": [
    "df.iloc[idx11, [0, 1, 6]]"
   ]
  },
  {
   "cell_type": "code",
   "execution_count": 65,
   "metadata": {},
   "outputs": [
    {
     "name": "stderr",
     "output_type": "stream",
     "text": [
      "1186488it [00:01, 1081075.33it/s]\n"
     ]
    },
    {
     "data": {
      "text/plain": [
       "1"
      ]
     },
     "execution_count": 65,
     "metadata": {},
     "output_type": "execute_result"
    }
   ],
   "source": [
    "# [숫자][한글][숫자] 형식이 아닌 값 : 1\n",
    "count = 0\n",
    "p12 = re.compile('\\d+[가-힣]+\\d+')\n",
    "idx12 = []\n",
    "for i, one in tqdm(enumerate(df.iloc[:, 1].to_numpy())):\n",
    "    if not p12.search(one):\n",
    "        idx12.append(i)\n",
    "        count += 1\n",
    "count"
   ]
  },
  {
   "cell_type": "code",
   "execution_count": 66,
   "metadata": {},
   "outputs": [
    {
     "data": {
      "text/plain": [
       "389132    서울703**575\n",
       "Name: 차량등록번호, dtype: object"
      ]
     },
     "execution_count": 66,
     "metadata": {},
     "output_type": "execute_result"
    }
   ],
   "source": [
    "df.iloc[:, 1].reindex(idx12)"
   ]
  },
  {
   "cell_type": "code",
   "execution_count": 67,
   "metadata": {},
   "outputs": [
    {
     "data": {
      "text/html": [
       "<div>\n",
       "<style scoped>\n",
       "    .dataframe tbody tr th:only-of-type {\n",
       "        vertical-align: middle;\n",
       "    }\n",
       "\n",
       "    .dataframe tbody tr th {\n",
       "        vertical-align: top;\n",
       "    }\n",
       "\n",
       "    .dataframe thead th {\n",
       "        text-align: right;\n",
       "    }\n",
       "</style>\n",
       "<table border=\"1\" class=\"dataframe\">\n",
       "  <thead>\n",
       "    <tr style=\"text-align: right;\">\n",
       "      <th></th>\n",
       "      <th>차량관리번호</th>\n",
       "      <th>차량등록번호</th>\n",
       "      <th>차대번호</th>\n",
       "    </tr>\n",
       "  </thead>\n",
       "  <tbody>\n",
       "    <tr>\n",
       "      <th>389132</th>\n",
       "      <td>1199서울703**575</td>\n",
       "      <td>서울703**575</td>\n",
       "      <td>03821215031</td>\n",
       "    </tr>\n",
       "  </tbody>\n",
       "</table>\n",
       "</div>"
      ],
      "text/plain": [
       "                차량관리번호      차량등록번호         차대번호\n",
       "389132  1199서울703**575  서울703**575  03821215031"
      ]
     },
     "execution_count": 67,
     "metadata": {},
     "output_type": "execute_result"
    }
   ],
   "source": [
    "df.iloc[idx12, [0, 1, 6]]"
   ]
  },
  {
   "cell_type": "markdown",
   "metadata": {},
   "source": [
    "### 2\\. 본거지법정동코드"
   ]
  },
  {
   "cell_type": "code",
   "execution_count": null,
   "metadata": {},
   "outputs": [],
   "source": [
    "# - 오류\n",
    "#     - null 값 :  개\n",
    "#     - 숫자가 아닌 값 :  개\n",
    "#     - 길이가 10이 아닌 값 :  개"
   ]
  },
  {
   "cell_type": "code",
   "execution_count": 69,
   "metadata": {},
   "outputs": [
    {
     "data": {
      "text/plain": [
       "0"
      ]
     },
     "execution_count": 69,
     "metadata": {},
     "output_type": "execute_result"
    }
   ],
   "source": [
    "df.iloc[:, 2].isnull().sum()"
   ]
  },
  {
   "cell_type": "code",
   "execution_count": 71,
   "metadata": {},
   "outputs": [
    {
     "data": {
      "text/plain": [
       "4139013200    4114\n",
       "2647010200    2996\n",
       "1150010300    2940\n",
       "1162010200    2923\n",
       "1147010300    2785\n",
       "              ... \n",
       "4613035025       1\n",
       "4272033000       1\n",
       "4679039533       1\n",
       "4729025633       1\n",
       "4571000000       1\n",
       "Name: 본거지법정동코드, Length: 20187, dtype: int64"
      ]
     },
     "execution_count": 71,
     "metadata": {},
     "output_type": "execute_result"
    }
   ],
   "source": [
    "df.iloc[:, 2].value_counts()"
   ]
  },
  {
   "cell_type": "code",
   "execution_count": 72,
   "metadata": {},
   "outputs": [
    {
     "name": "stderr",
     "output_type": "stream",
     "text": [
      "1186488it [00:02, 548766.16it/s]\n"
     ]
    },
    {
     "data": {
      "text/plain": [
       "0"
      ]
     },
     "execution_count": 72,
     "metadata": {},
     "output_type": "execute_result"
    }
   ],
   "source": [
    "# 숫자가 아닌 값\n",
    "count = 0\n",
    "p2 = re.compile('\\D+')\n",
    "idx2 = []\n",
    "for i, one in tqdm(enumerate(df.iloc[:, 2].to_numpy())):\n",
    "    if p2.search(str(one)):\n",
    "        idx2.append(i)\n",
    "        count += 1\n",
    "count"
   ]
  },
  {
   "cell_type": "code",
   "execution_count": 73,
   "metadata": {},
   "outputs": [
    {
     "data": {
      "text/plain": [
       "<re.Match object; span=(1, 7), match='b안녕하세요'>"
      ]
     },
     "execution_count": 73,
     "metadata": {},
     "output_type": "execute_result"
    }
   ],
   "source": [
    "p2.search('2b안녕하세요1a')"
   ]
  },
  {
   "cell_type": "code",
   "execution_count": 74,
   "metadata": {},
   "outputs": [
    {
     "name": "stderr",
     "output_type": "stream",
     "text": [
      "1186488it [00:01, 800876.91it/s]\n"
     ]
    },
    {
     "data": {
      "text/plain": [
       "0"
      ]
     },
     "execution_count": 74,
     "metadata": {},
     "output_type": "execute_result"
    }
   ],
   "source": [
    "count = 0\n",
    "idx21 = []\n",
    "for i, one in tqdm(enumerate(df.iloc[:, 2].to_numpy())):\n",
    "    if len(str(one)) != 10:\n",
    "        idx21.append(i)\n",
    "        count += 1\n",
    "count"
   ]
  },
  {
   "cell_type": "markdown",
   "metadata": {},
   "source": [
    "### 3\\. 소유자구분"
   ]
  },
  {
   "cell_type": "code",
   "execution_count": 75,
   "metadata": {},
   "outputs": [
    {
     "data": {
      "text/plain": [
       "주민     967066\n",
       "법인     145775\n",
       "사업자     50809\n",
       "기타      15302\n",
       "외국인      7536\n",
       "Name: 소유자구분, dtype: int64"
      ]
     },
     "execution_count": 75,
     "metadata": {},
     "output_type": "execute_result"
    }
   ],
   "source": [
    "df.iloc[:, 3].value_counts()"
   ]
  },
  {
   "cell_type": "markdown",
   "metadata": {},
   "source": [
    "### 4\\. 차종_등록정보"
   ]
  },
  {
   "cell_type": "code",
   "execution_count": 76,
   "metadata": {},
   "outputs": [
    {
     "data": {
      "text/plain": [
       "화물    696381\n",
       "승용    370580\n",
       "승합    102885\n",
       "특수     16630\n",
       "Name: 차종_등록정보, dtype: int64"
      ]
     },
     "execution_count": 76,
     "metadata": {},
     "output_type": "execute_result"
    }
   ],
   "source": [
    "df.iloc[:, 4].value_counts()"
   ]
  },
  {
   "cell_type": "markdown",
   "metadata": {},
   "source": [
    "### 5\\. 용도"
   ]
  },
  {
   "cell_type": "code",
   "execution_count": 77,
   "metadata": {},
   "outputs": [
    {
     "data": {
      "text/plain": [
       "자가용    1124666\n",
       "영업용      60265\n",
       "관용        1557\n",
       "Name: 용도, dtype: int64"
      ]
     },
     "execution_count": 77,
     "metadata": {},
     "output_type": "execute_result"
    }
   ],
   "source": [
    "df.iloc[:, 5].value_counts()"
   ]
  },
  {
   "cell_type": "markdown",
   "metadata": {},
   "source": [
    "### 6\\. [e]차대번호    "
   ]
  },
  {
   "cell_type": "code",
   "execution_count": 78,
   "metadata": {},
   "outputs": [],
   "source": [
    "# - 오류\n",
    "#     - null 값 : 0\n",
    "#     - 차대번호 길이별 통계"
   ]
  },
  {
   "cell_type": "code",
   "execution_count": 79,
   "metadata": {},
   "outputs": [],
   "source": [
    "df2 = df.copy()"
   ]
  },
  {
   "cell_type": "code",
   "execution_count": 80,
   "metadata": {},
   "outputs": [
    {
     "name": "stdout",
     "output_type": "stream",
     "text": [
      "<class 'pandas.core.frame.DataFrame'>\n",
      "RangeIndex: 1186488 entries, 0 to 1186487\n",
      "Data columns (total 40 columns):\n",
      " #   Column       Non-Null Count    Dtype  \n",
      "---  ------       --------------    -----  \n",
      " 0   차량관리번호       1186488 non-null  object \n",
      " 1   차량등록번호       1186488 non-null  object \n",
      " 2   본거지법정동코드     1186488 non-null  int64  \n",
      " 3   소유자구분        1186488 non-null  object \n",
      " 4   차종_등록정보      1186476 non-null  object \n",
      " 5   용도           1186488 non-null  object \n",
      " 6   차대번호         1186488 non-null  object \n",
      " 7   최초등록일자       1186488 non-null  object \n",
      " 8   차량연식         1186488 non-null  int64  \n",
      " 9   차량제작일자       989593 non-null   object \n",
      " 10  검사유효일        1185981 non-null  float64\n",
      " 11  제원관리번호       1186488 non-null  object \n",
      " 12  배출가스인증번호     560317 non-null   object \n",
      " 13  배출가스등급       1186488 non-null  int64  \n",
      " 14  저공해조치종류      363785 non-null   object \n",
      " 15  저공해조치구조변경YN  1186488 non-null  object \n",
      " 16  차량말소YN       1186488 non-null  object \n",
      " 17  취득일자         1044935 non-null  float64\n",
      " 18  취득금액         1070799 non-null  float64\n",
      " 19  차명           1186487 non-null  object \n",
      " 20  차종_제원정보      1186488 non-null  object \n",
      " 21  차종분류         1186488 non-null  object \n",
      " 22  차종유형         1186488 non-null  object \n",
      " 23  자동차형식        1185965 non-null  object \n",
      " 24  제작사명         1183245 non-null  object \n",
      " 25  연료           1186488 non-null  object \n",
      " 26  엔진형식         1182990 non-null  object \n",
      " 27  총중량          1186487 non-null  float64\n",
      " 28  적재중량         1186478 non-null  float64\n",
      " 29  엔진출력         1186201 non-null  object \n",
      " 30  배기량          1186486 non-null  float64\n",
      " 31  승차인원         1186487 non-null  float64\n",
      " 32  차량길이         1186487 non-null  float64\n",
      " 33  차량너비         1186487 non-null  float64\n",
      " 34  차량높이         1186487 non-null  float64\n",
      " 35  원산지명         1144734 non-null  object \n",
      " 36  삭제YN         1186488 non-null  object \n",
      " 37  제원승인일자       1185300 non-null  object \n",
      " 38  구동형식         3 non-null        object \n",
      " 39  변속기종류        1186486 non-null  object \n",
      "dtypes: float64(10), int64(3), object(27)\n",
      "memory usage: 362.1+ MB\n"
     ]
    }
   ],
   "source": [
    "df2.info()"
   ]
  },
  {
   "cell_type": "code",
   "execution_count": 81,
   "metadata": {},
   "outputs": [
    {
     "data": {
      "text/plain": [
       "17"
      ]
     },
     "execution_count": 81,
     "metadata": {},
     "output_type": "execute_result"
    }
   ],
   "source": [
    "len('KMFZCY7JBCU784032')"
   ]
  },
  {
   "cell_type": "markdown",
   "metadata": {},
   "source": [
    "#### 동일 차대번호 확인\n",
    "- 19개(차량등록번호 다름)\n",
    "    - KMHCF21DPSU000012\n",
    "    - KLAVM69H1JB075787\n",
    "    - KMHMF21FPPU018261\n",
    "    - KMHVF21JPKU161128\n",
    "    - KLY7T51BBNC011472\n",
    "    - KLATF19T1NB526286\n",
    "    - KMHNF21SPLU031911\n",
    "    - KLASM69F1JB054053\n",
    "    - KMHNF21SPLU049507\n",
    "    - KNAGC2213SA102715\n",
    "    - KLAEM19W1NB116889\n",
    "    - KNAGA2222KS130454\n",
    "    - KNALA2233RA822260\n",
    "    - KNADA2322JS052345\n",
    "    - 1GBEL19W3XB192382\n",
    "    - KLATF19T1LB267581\n",
    "    - KMHBF31FPNU489190\n",
    "    - KNAGC2282YA382041\n",
    "    - KMHBF31FPKU143334"
   ]
  },
  {
   "cell_type": "code",
   "execution_count": 82,
   "metadata": {},
   "outputs": [
    {
     "data": {
      "text/plain": [
       "0"
      ]
     },
     "execution_count": 82,
     "metadata": {},
     "output_type": "execute_result"
    }
   ],
   "source": [
    "df2.iloc[:, 6].isnull().sum()"
   ]
  },
  {
   "cell_type": "code",
   "execution_count": 83,
   "metadata": {},
   "outputs": [
    {
     "data": {
      "text/plain": [
       "KN1ADA1W1NK013714    3\n",
       "KLAPM69E1HB026296    2\n",
       "10792214743          2\n",
       "KNCSA9612HS162574    2\n",
       "KMHNF21FPGU000135    2\n",
       "                    ..\n",
       "KMHSJ81WP6U002262    1\n",
       "KNCSB1114KS042653    1\n",
       "KMHSJ81WP6U080077    1\n",
       "KPBFA2AF14P141262    1\n",
       "KMFFA17XPPU005700    1\n",
       "Name: 차대번호, Length: 1186453, dtype: int64"
      ]
     },
     "execution_count": 83,
     "metadata": {},
     "output_type": "execute_result"
    }
   ],
   "source": [
    "df2.iloc[:, 6].value_counts()"
   ]
  },
  {
   "cell_type": "code",
   "execution_count": 84,
   "metadata": {},
   "outputs": [
    {
     "data": {
      "text/plain": [
       "(1186488, 40)"
      ]
     },
     "execution_count": 84,
     "metadata": {},
     "output_type": "execute_result"
    }
   ],
   "source": [
    "df2.shape"
   ]
  },
  {
   "cell_type": "code",
   "execution_count": 86,
   "metadata": {},
   "outputs": [
    {
     "data": {
      "text/html": [
       "<div>\n",
       "<style scoped>\n",
       "    .dataframe tbody tr th:only-of-type {\n",
       "        vertical-align: middle;\n",
       "    }\n",
       "\n",
       "    .dataframe tbody tr th {\n",
       "        vertical-align: top;\n",
       "    }\n",
       "\n",
       "    .dataframe thead th {\n",
       "        text-align: right;\n",
       "    }\n",
       "</style>\n",
       "<table border=\"1\" class=\"dataframe\">\n",
       "  <thead>\n",
       "    <tr style=\"text-align: right;\">\n",
       "      <th></th>\n",
       "      <th>차대번호</th>\n",
       "      <th>개수</th>\n",
       "    </tr>\n",
       "  </thead>\n",
       "  <tbody>\n",
       "    <tr>\n",
       "      <th>0</th>\n",
       "      <td>KN1ADA1W1NK013714</td>\n",
       "      <td>3</td>\n",
       "    </tr>\n",
       "    <tr>\n",
       "      <th>1</th>\n",
       "      <td>KLAPM69E1HB026296</td>\n",
       "      <td>2</td>\n",
       "    </tr>\n",
       "    <tr>\n",
       "      <th>2</th>\n",
       "      <td>10792214743</td>\n",
       "      <td>2</td>\n",
       "    </tr>\n",
       "    <tr>\n",
       "      <th>3</th>\n",
       "      <td>KNCSA9612HS162574</td>\n",
       "      <td>2</td>\n",
       "    </tr>\n",
       "    <tr>\n",
       "      <th>4</th>\n",
       "      <td>KMHNF21FPGU000135</td>\n",
       "      <td>2</td>\n",
       "    </tr>\n",
       "  </tbody>\n",
       "</table>\n",
       "</div>"
      ],
      "text/plain": [
       "                차대번호  개수\n",
       "0  KN1ADA1W1NK013714   3\n",
       "1  KLAPM69E1HB026296   2\n",
       "2        10792214743   2\n",
       "3  KNCSA9612HS162574   2\n",
       "4  KMHNF21FPGU000135   2"
      ]
     },
     "execution_count": 86,
     "metadata": {},
     "output_type": "execute_result"
    }
   ],
   "source": [
    "dup_vin_df = df2.iloc[:, 6].value_counts().reset_index()\n",
    "dup_vin_df.columns = ['차대번호', '개수']\n",
    "dup_vin_df.head()"
   ]
  },
  {
   "cell_type": "code",
   "execution_count": 87,
   "metadata": {},
   "outputs": [
    {
     "data": {
      "text/plain": [
       "(1186453, 2)"
      ]
     },
     "execution_count": 87,
     "metadata": {},
     "output_type": "execute_result"
    }
   ],
   "source": [
    "dup_vin_df.shape"
   ]
  },
  {
   "cell_type": "code",
   "execution_count": 89,
   "metadata": {},
   "outputs": [
    {
     "data": {
      "text/plain": [
       "(34, 2)"
      ]
     },
     "execution_count": 89,
     "metadata": {},
     "output_type": "execute_result"
    }
   ],
   "source": [
    "# 중복 차대번호 추출\n",
    "dup_vin_df2 = dup_vin_df[dup_vin_df['개수'] > 1].reset_index(drop=True)\n",
    "dup_vin_df2.shape"
   ]
  },
  {
   "cell_type": "code",
   "execution_count": 92,
   "metadata": {},
   "outputs": [
    {
     "data": {
      "text/plain": [
       "0    KN1ADA1W1NK013714\n",
       "1    KLAPM69E1HB026296\n",
       "2          10792214743\n",
       "3    KNCSA9612HS162574\n",
       "4    KMHNF21FPGU000135\n",
       "Name: 차대번호, dtype: object"
      ]
     },
     "execution_count": 92,
     "metadata": {},
     "output_type": "execute_result"
    }
   ],
   "source": [
    "dup_vin_df2['차대번호'].head()"
   ]
  },
  {
   "cell_type": "markdown",
   "metadata": {},
   "source": [
    "##### 동일 차대번호 예시\n",
    "- 차량등록번호는 다름"
   ]
  },
  {
   "cell_type": "code",
   "execution_count": 104,
   "metadata": {},
   "outputs": [
    {
     "name": "stdout",
     "output_type": "stream",
     "text": [
      "0번째 차대번호\n",
      "           차량등록번호               차대번호\n",
      "446896   서울4주4101  KN1ADA1W1NK013714\n",
      "943454   서울4주4187  KN1ADA1W1NK013714\n",
      "1017794  서울4주4149  KN1ADA1W1NK013714\n",
      "\n",
      "1번째 차대번호\n",
      "           차량등록번호               차대번호\n",
      "446896   서울4주4101  KN1ADA1W1NK013714\n",
      "943454   서울4주4187  KN1ADA1W1NK013714\n",
      "1017794  서울4주4149  KN1ADA1W1NK013714\n",
      "\n",
      "2번째 차대번호\n",
      "           차량등록번호               차대번호\n",
      "446896   서울4주4101  KN1ADA1W1NK013714\n",
      "943454   서울4주4187  KN1ADA1W1NK013714\n",
      "1017794  서울4주4149  KN1ADA1W1NK013714\n",
      "\n",
      "3번째 차대번호\n",
      "           차량등록번호               차대번호\n",
      "446896   서울4주4101  KN1ADA1W1NK013714\n",
      "943454   서울4주4187  KN1ADA1W1NK013714\n",
      "1017794  서울4주4149  KN1ADA1W1NK013714\n",
      "\n",
      "4번째 차대번호\n",
      "           차량등록번호               차대번호\n",
      "446896   서울4주4101  KN1ADA1W1NK013714\n",
      "943454   서울4주4187  KN1ADA1W1NK013714\n",
      "1017794  서울4주4149  KN1ADA1W1NK013714\n",
      "\n",
      "5번째 차대번호\n",
      "           차량등록번호               차대번호\n",
      "446896   서울4주4101  KN1ADA1W1NK013714\n",
      "943454   서울4주4187  KN1ADA1W1NK013714\n",
      "1017794  서울4주4149  KN1ADA1W1NK013714\n",
      "\n",
      "6번째 차대번호\n",
      "           차량등록번호               차대번호\n",
      "446896   서울4주4101  KN1ADA1W1NK013714\n",
      "943454   서울4주4187  KN1ADA1W1NK013714\n",
      "1017794  서울4주4149  KN1ADA1W1NK013714\n",
      "\n",
      "7번째 차대번호\n",
      "           차량등록번호               차대번호\n",
      "446896   서울4주4101  KN1ADA1W1NK013714\n",
      "943454   서울4주4187  KN1ADA1W1NK013714\n",
      "1017794  서울4주4149  KN1ADA1W1NK013714\n",
      "\n",
      "8번째 차대번호\n",
      "           차량등록번호               차대번호\n",
      "446896   서울4주4101  KN1ADA1W1NK013714\n",
      "943454   서울4주4187  KN1ADA1W1NK013714\n",
      "1017794  서울4주4149  KN1ADA1W1NK013714\n",
      "\n",
      "9번째 차대번호\n",
      "           차량등록번호               차대번호\n",
      "446896   서울4주4101  KN1ADA1W1NK013714\n",
      "943454   서울4주4187  KN1ADA1W1NK013714\n",
      "1017794  서울4주4149  KN1ADA1W1NK013714\n",
      "\n",
      "10번째 차대번호\n",
      "           차량등록번호               차대번호\n",
      "446896   서울4주4101  KN1ADA1W1NK013714\n",
      "943454   서울4주4187  KN1ADA1W1NK013714\n",
      "1017794  서울4주4149  KN1ADA1W1NK013714\n",
      "\n",
      "11번째 차대번호\n",
      "           차량등록번호               차대번호\n",
      "446896   서울4주4101  KN1ADA1W1NK013714\n",
      "943454   서울4주4187  KN1ADA1W1NK013714\n",
      "1017794  서울4주4149  KN1ADA1W1NK013714\n",
      "\n",
      "12번째 차대번호\n",
      "           차량등록번호               차대번호\n",
      "446896   서울4주4101  KN1ADA1W1NK013714\n",
      "943454   서울4주4187  KN1ADA1W1NK013714\n",
      "1017794  서울4주4149  KN1ADA1W1NK013714\n",
      "\n",
      "13번째 차대번호\n",
      "           차량등록번호               차대번호\n",
      "446896   서울4주4101  KN1ADA1W1NK013714\n",
      "943454   서울4주4187  KN1ADA1W1NK013714\n",
      "1017794  서울4주4149  KN1ADA1W1NK013714\n",
      "\n",
      "14번째 차대번호\n",
      "           차량등록번호               차대번호\n",
      "446896   서울4주4101  KN1ADA1W1NK013714\n",
      "943454   서울4주4187  KN1ADA1W1NK013714\n",
      "1017794  서울4주4149  KN1ADA1W1NK013714\n",
      "\n",
      "15번째 차대번호\n",
      "           차량등록번호               차대번호\n",
      "446896   서울4주4101  KN1ADA1W1NK013714\n",
      "943454   서울4주4187  KN1ADA1W1NK013714\n",
      "1017794  서울4주4149  KN1ADA1W1NK013714\n",
      "\n",
      "16번째 차대번호\n",
      "           차량등록번호               차대번호\n",
      "446896   서울4주4101  KN1ADA1W1NK013714\n",
      "943454   서울4주4187  KN1ADA1W1NK013714\n",
      "1017794  서울4주4149  KN1ADA1W1NK013714\n",
      "\n",
      "17번째 차대번호\n",
      "           차량등록번호               차대번호\n",
      "446896   서울4주4101  KN1ADA1W1NK013714\n",
      "943454   서울4주4187  KN1ADA1W1NK013714\n",
      "1017794  서울4주4149  KN1ADA1W1NK013714\n",
      "\n",
      "18번째 차대번호\n",
      "           차량등록번호               차대번호\n",
      "446896   서울4주4101  KN1ADA1W1NK013714\n",
      "943454   서울4주4187  KN1ADA1W1NK013714\n",
      "1017794  서울4주4149  KN1ADA1W1NK013714\n",
      "\n",
      "19번째 차대번호\n",
      "           차량등록번호               차대번호\n",
      "446896   서울4주4101  KN1ADA1W1NK013714\n",
      "943454   서울4주4187  KN1ADA1W1NK013714\n",
      "1017794  서울4주4149  KN1ADA1W1NK013714\n",
      "\n",
      "20번째 차대번호\n",
      "           차량등록번호               차대번호\n",
      "446896   서울4주4101  KN1ADA1W1NK013714\n",
      "943454   서울4주4187  KN1ADA1W1NK013714\n",
      "1017794  서울4주4149  KN1ADA1W1NK013714\n",
      "\n",
      "21번째 차대번호\n",
      "           차량등록번호               차대번호\n",
      "446896   서울4주4101  KN1ADA1W1NK013714\n",
      "943454   서울4주4187  KN1ADA1W1NK013714\n",
      "1017794  서울4주4149  KN1ADA1W1NK013714\n",
      "\n",
      "22번째 차대번호\n",
      "           차량등록번호               차대번호\n",
      "446896   서울4주4101  KN1ADA1W1NK013714\n",
      "943454   서울4주4187  KN1ADA1W1NK013714\n",
      "1017794  서울4주4149  KN1ADA1W1NK013714\n",
      "\n",
      "23번째 차대번호\n",
      "           차량등록번호               차대번호\n",
      "446896   서울4주4101  KN1ADA1W1NK013714\n",
      "943454   서울4주4187  KN1ADA1W1NK013714\n",
      "1017794  서울4주4149  KN1ADA1W1NK013714\n",
      "\n",
      "24번째 차대번호\n",
      "           차량등록번호               차대번호\n",
      "446896   서울4주4101  KN1ADA1W1NK013714\n",
      "943454   서울4주4187  KN1ADA1W1NK013714\n",
      "1017794  서울4주4149  KN1ADA1W1NK013714\n",
      "\n",
      "25번째 차대번호\n",
      "           차량등록번호               차대번호\n",
      "446896   서울4주4101  KN1ADA1W1NK013714\n",
      "943454   서울4주4187  KN1ADA1W1NK013714\n",
      "1017794  서울4주4149  KN1ADA1W1NK013714\n",
      "\n",
      "26번째 차대번호\n",
      "           차량등록번호               차대번호\n",
      "446896   서울4주4101  KN1ADA1W1NK013714\n",
      "943454   서울4주4187  KN1ADA1W1NK013714\n",
      "1017794  서울4주4149  KN1ADA1W1NK013714\n",
      "\n",
      "27번째 차대번호\n",
      "           차량등록번호               차대번호\n",
      "446896   서울4주4101  KN1ADA1W1NK013714\n",
      "943454   서울4주4187  KN1ADA1W1NK013714\n",
      "1017794  서울4주4149  KN1ADA1W1NK013714\n",
      "\n",
      "28번째 차대번호\n",
      "           차량등록번호               차대번호\n",
      "446896   서울4주4101  KN1ADA1W1NK013714\n",
      "943454   서울4주4187  KN1ADA1W1NK013714\n",
      "1017794  서울4주4149  KN1ADA1W1NK013714\n",
      "\n",
      "29번째 차대번호\n",
      "           차량등록번호               차대번호\n",
      "446896   서울4주4101  KN1ADA1W1NK013714\n",
      "943454   서울4주4187  KN1ADA1W1NK013714\n",
      "1017794  서울4주4149  KN1ADA1W1NK013714\n",
      "\n",
      "30번째 차대번호\n",
      "           차량등록번호               차대번호\n",
      "446896   서울4주4101  KN1ADA1W1NK013714\n",
      "943454   서울4주4187  KN1ADA1W1NK013714\n",
      "1017794  서울4주4149  KN1ADA1W1NK013714\n",
      "\n",
      "31번째 차대번호\n",
      "           차량등록번호               차대번호\n",
      "446896   서울4주4101  KN1ADA1W1NK013714\n",
      "943454   서울4주4187  KN1ADA1W1NK013714\n",
      "1017794  서울4주4149  KN1ADA1W1NK013714\n",
      "\n",
      "32번째 차대번호\n",
      "           차량등록번호               차대번호\n",
      "446896   서울4주4101  KN1ADA1W1NK013714\n",
      "943454   서울4주4187  KN1ADA1W1NK013714\n",
      "1017794  서울4주4149  KN1ADA1W1NK013714\n",
      "\n",
      "33번째 차대번호\n",
      "           차량등록번호               차대번호\n",
      "446896   서울4주4101  KN1ADA1W1NK013714\n",
      "943454   서울4주4187  KN1ADA1W1NK013714\n",
      "1017794  서울4주4149  KN1ADA1W1NK013714\n",
      "\n"
     ]
    }
   ],
   "source": [
    "for i in range(dup_vin_df2['차대번호'].shape[0]):\n",
    "    print(f'{i}번째 차대번호')\n",
    "    print(df2.loc[df2['차대번호'] == dup_vin_df2['차대번호'][0], ['차량등록번호', '차대번호']])\n",
    "    print()"
   ]
  },
  {
   "cell_type": "markdown",
   "metadata": {},
   "source": [
    "#### 차대번호 정상 확인"
   ]
  },
  {
   "cell_type": "code",
   "execution_count": 105,
   "metadata": {},
   "outputs": [
    {
     "name": "stderr",
     "output_type": "stream",
     "text": [
      "1186488it [00:01, 671384.52it/s]\n"
     ]
    },
    {
     "data": {
      "text/plain": [
       "1160578"
      ]
     },
     "execution_count": 105,
     "metadata": {},
     "output_type": "execute_result"
    }
   ],
   "source": [
    "# 17자리, 영문 -> 정상 : 1160578\n",
    "count = 0\n",
    "p61 = re.compile('[a-zA-Z]+')\n",
    "idx61 = []\n",
    "for i, one in tqdm(enumerate(df2.iloc[:, 6].to_numpy())):\n",
    "    if len(str(one)) == 17 and p61.search(str(one)):\n",
    "        idx61.append(i)\n",
    "        count += 1\n",
    "count"
   ]
  },
  {
   "cell_type": "code",
   "execution_count": 106,
   "metadata": {},
   "outputs": [
    {
     "name": "stderr",
     "output_type": "stream",
     "text": [
      "1160578it [00:00, 1959047.19it/s]\n"
     ]
    },
    {
     "data": {
      "text/plain": [
       "873"
      ]
     },
     "execution_count": 106,
     "metadata": {},
     "output_type": "execute_result"
    }
   ],
   "source": [
    "# 정상에서 \"I, O, Q\" 포함한 값 : 873\n",
    "temp61 = df2.iloc[idx61, 6].to_numpy()\n",
    "idx61_1 = []\n",
    "for i, one in tqdm(enumerate(temp61)):\n",
    "    if ('I' in one) or ('O' in one) or ('Q' in one):\n",
    "        idx61_1.append(idx61[i])\n",
    "len(idx61_1)"
   ]
  },
  {
   "cell_type": "code",
   "execution_count": 107,
   "metadata": {},
   "outputs": [
    {
     "name": "stderr",
     "output_type": "stream",
     "text": [
      "C:\\Users\\kbj\\AppData\\Local\\Temp\\ipykernel_3920\\2435097354.py:1: FutureWarning: The behavior of `series[i:j]` with an integer-dtype index is deprecated. In a future version, this will be treated as *label-based* indexing, consistent with e.g. `series[i]` lookups. To retain the old behavior, use `series.iloc[i:j]`. To get the future behavior, use `series.loc[i:j]`.\n",
      "  df2.iloc[idx61_1, 6][:5]\n"
     ]
    },
    {
     "data": {
      "text/plain": [
       "5851     KLBUD65OHPP000214\n",
       "6293     KPAHB6CM2JPO22324\n",
       "6905     KN4XFWOH3VK001844\n",
       "8076     KPAMCOCM1TP111859\n",
       "10211    IMECM53U3LA620299\n",
       "Name: 차대번호, dtype: object"
      ]
     },
     "execution_count": 107,
     "metadata": {},
     "output_type": "execute_result"
    }
   ],
   "source": [
    "df2.iloc[idx61_1, 6][:5]"
   ]
  },
  {
   "cell_type": "code",
   "execution_count": 109,
   "metadata": {},
   "outputs": [
    {
     "name": "stderr",
     "output_type": "stream",
     "text": [
      "1186488it [00:10, 114888.44it/s]\n"
     ]
    },
    {
     "data": {
      "text/plain": [
       "34"
      ]
     },
     "execution_count": 109,
     "metadata": {},
     "output_type": "execute_result"
    }
   ],
   "source": [
    "# 17자리, 영문X => 숫자만 : 34\n",
    "count = 0\n",
    "p62 = re.compile('[a-zA-Z]+')\n",
    "idx62 = []\n",
    "for i, one in tqdm(enumerate(df2.iloc[:, 6].to_numpy())):\n",
    "    n = 0\n",
    "    for j in str(one):\n",
    "        if p62.search(j):\n",
    "            n += 1\n",
    "    if len(str(one)) == 17 and n == 0:\n",
    "        idx62.append(i)\n",
    "        count += 1\n",
    "count"
   ]
  },
  {
   "cell_type": "code",
   "execution_count": 111,
   "metadata": {},
   "outputs": [
    {
     "data": {
      "text/plain": [
       "4221       01761300880111111\n",
       "26434      10842129027005018\n",
       "31644      10772236638111111\n",
       "49186      19027006811310333\n",
       "69034      10822238671000000\n",
       "131347     03831122925000000\n",
       "150568     10822240201111111\n",
       "176487     01831320373000000\n",
       "185793     03841200269000000\n",
       "209740     10792248208111111\n",
       "213097     03831136717000000\n",
       "255834     03782258475111111\n",
       "314909     10831372297111111\n",
       "315679     03801315475000000\n",
       "355310     10792278447038085\n",
       "403301     10831358444111111\n",
       "422490     01691300579111111\n",
       "423410     03841111420000000\n",
       "454200     03782229540111111\n",
       "506412     10822239805111111\n",
       "560882     03791244098000000\n",
       "641354     10802217777000000\n",
       "644372     10782213821111111\n",
       "742629     02831184011111111\n",
       "853258     03832148696138133\n",
       "914668     03811300527000000\n",
       "926517     02821180606111111\n",
       "1004664    10812237826000000\n",
       "1029271    13821304026000000\n",
       "1030074    03841201607000000\n",
       "1043622    02841188023111111\n",
       "1091015    01871105754000000\n",
       "1100037    01791302162111111\n",
       "1179317    03831216992111111\n",
       "Name: 차대번호, dtype: object"
      ]
     },
     "execution_count": 111,
     "metadata": {},
     "output_type": "execute_result"
    }
   ],
   "source": [
    "df2.iloc[:, 6].reindex(idx62)"
   ]
  },
  {
   "cell_type": "code",
   "execution_count": 112,
   "metadata": {},
   "outputs": [
    {
     "name": "stderr",
     "output_type": "stream",
     "text": [
      "1186488it [00:00, 1560303.04it/s]\n"
     ]
    },
    {
     "data": {
      "text/plain": [
       "777"
      ]
     },
     "execution_count": 112,
     "metadata": {},
     "output_type": "execute_result"
    }
   ],
   "source": [
    "# 17자리 X, 영문 : 777\n",
    "count = 0\n",
    "p63 = re.compile('[a-zA-Z]+')\n",
    "idx63 = []\n",
    "for i, one in tqdm(enumerate(df2.iloc[:, 6].to_numpy())):\n",
    "    if len(str(one)) != 17 and p63.search(one):\n",
    "        idx63.append(i)\n",
    "        count += 1\n",
    "count"
   ]
  },
  {
   "cell_type": "code",
   "execution_count": 113,
   "metadata": {},
   "outputs": [
    {
     "name": "stderr",
     "output_type": "stream",
     "text": [
      "C:\\Users\\kbj\\AppData\\Local\\Temp\\ipykernel_3920\\2206251045.py:1: FutureWarning: The behavior of `series[i:j]` with an integer-dtype index is deprecated. In a future version, this will be treated as *label-based* indexing, consistent with e.g. `series[i]` lookups. To retain the old behavior, use `series.iloc[i:j]`. To get the future behavior, use `series.loc[i:j]`.\n",
      "  df2.iloc[:, 6].reindex(idx63)[:5]\n"
     ]
    },
    {
     "data": {
      "text/plain": [
       "107      10802119965EOGUS\n",
       "4954          KB45C005021\n",
       "5157          KB45C006663\n",
       "5600     10822273090EOGUS\n",
       "10611     13831318396EOWL\n",
       "Name: 차대번호, dtype: object"
      ]
     },
     "execution_count": 113,
     "metadata": {},
     "output_type": "execute_result"
    }
   ],
   "source": [
    "df2.iloc[:, 6].reindex(idx63)[:5]"
   ]
  },
  {
   "cell_type": "code",
   "execution_count": 114,
   "metadata": {},
   "outputs": [
    {
     "name": "stderr",
     "output_type": "stream",
     "text": [
      "1186488it [00:10, 114728.50it/s]\n"
     ]
    },
    {
     "data": {
      "text/plain": [
       "25099"
      ]
     },
     "execution_count": 114,
     "metadata": {},
     "output_type": "execute_result"
    }
   ],
   "source": [
    "# 17자리 X, 영문X : 25099\n",
    "count = 0\n",
    "p64 = re.compile('[a-zA-Z]+')\n",
    "idx64 = []\n",
    "for i, one in tqdm(enumerate(df2.iloc[:, 6].to_numpy())):\n",
    "    n = 0\n",
    "    for j in one:\n",
    "        if p64.search(j):\n",
    "            n += 1\n",
    "    if len(str(one)) != 17 and n == 0:\n",
    "        idx64.append(i)\n",
    "        count += 1\n",
    "count"
   ]
  },
  {
   "cell_type": "code",
   "execution_count": 115,
   "metadata": {},
   "outputs": [
    {
     "name": "stderr",
     "output_type": "stream",
     "text": [
      "C:\\Users\\kbj\\AppData\\Local\\Temp\\ipykernel_3920\\1133880624.py:1: FutureWarning: The behavior of `series[i:j]` with an integer-dtype index is deprecated. In a future version, this will be treated as *label-based* indexing, consistent with e.g. `series[i]` lookups. To retain the old behavior, use `series.iloc[i:j]`. To get the future behavior, use `series.loc[i:j]`.\n",
      "  df2.iloc[:, 6].reindex(idx64)[:5]\n"
     ]
    },
    {
     "data": {
      "text/plain": [
       "31      03791237974\n",
       "43      10792213224\n",
       "165     10831378565\n",
       "193     03802220195\n",
       "300    290234302789\n",
       "Name: 차대번호, dtype: object"
      ]
     },
     "execution_count": 115,
     "metadata": {},
     "output_type": "execute_result"
    }
   ],
   "source": [
    "df2.iloc[:, 6].reindex(idx64)[:5]"
   ]
  },
  {
   "cell_type": "code",
   "execution_count": 116,
   "metadata": {},
   "outputs": [
    {
     "name": "stderr",
     "output_type": "stream",
     "text": [
      "1186488it [00:00, 1416241.10it/s]\n"
     ]
    },
    {
     "data": {
      "text/plain": [
       "{7, 8, 9, 10, 11, 12, 13, 14, 15, 16, 17, 18}"
      ]
     },
     "execution_count": 116,
     "metadata": {},
     "output_type": "execute_result"
    }
   ],
   "source": [
    "# 차대번호 길이 종류 확인\n",
    "len_vin = []\n",
    "for i, one in tqdm(enumerate(df2.iloc[:, 6].to_numpy())):\n",
    "    len_vin.append(len(str(one)))\n",
    "set(len_vin)"
   ]
  },
  {
   "cell_type": "code",
   "execution_count": 117,
   "metadata": {},
   "outputs": [],
   "source": [
    "df2['VIN_length'] = [ len(one) for one in df2['차대번호'] ]"
   ]
  },
  {
   "cell_type": "code",
   "execution_count": 118,
   "metadata": {},
   "outputs": [
    {
     "data": {
      "text/plain": [
       "array([17, 11, 16, 12, 15, 13, 14, 10,  9, 18,  8,  7], dtype=int64)"
      ]
     },
     "execution_count": 118,
     "metadata": {},
     "output_type": "execute_result"
    }
   ],
   "source": [
    "df2['VIN_length'].unique()"
   ]
  },
  {
   "cell_type": "code",
   "execution_count": 119,
   "metadata": {},
   "outputs": [],
   "source": [
    "IOQ = []\n",
    "for one in df2['차대번호']:\n",
    "    if ('I' in one) or ('O' in one) or ('Q' in one):\n",
    "        IOQ.append('Y')\n",
    "    else:\n",
    "        IOQ.append('N')\n",
    "df2['IOQ'] = IOQ"
   ]
  },
  {
   "cell_type": "code",
   "execution_count": 120,
   "metadata": {},
   "outputs": [
    {
     "data": {
      "text/plain": [
       "array(['N', 'Y'], dtype=object)"
      ]
     },
     "execution_count": 120,
     "metadata": {},
     "output_type": "execute_result"
    }
   ],
   "source": [
    "df2['IOQ'].unique()"
   ]
  },
  {
   "cell_type": "code",
   "execution_count": 121,
   "metadata": {},
   "outputs": [
    {
     "name": "stderr",
     "output_type": "stream",
     "text": [
      "1186488it [00:10, 117169.99it/s]\n"
     ]
    },
    {
     "data": {
      "text/plain": [
       "25133"
      ]
     },
     "execution_count": 121,
     "metadata": {},
     "output_type": "execute_result"
    }
   ],
   "source": [
    "# 알파벳 포함\n",
    "included_alpha = []\n",
    "count = 0\n",
    "p65 = re.compile('[a-zA-Z]+')\n",
    "for i, one in tqdm(enumerate(df2.iloc[:, 6].to_numpy())):\n",
    "    n = 0\n",
    "    for j in one:\n",
    "        if p65.search(j):\n",
    "            n += 1\n",
    "    if n == 0:\n",
    "        included_alpha.append('N')\n",
    "        count += 1\n",
    "    else:\n",
    "        included_alpha.append('Y')\n",
    "count"
   ]
  },
  {
   "cell_type": "code",
   "execution_count": 122,
   "metadata": {},
   "outputs": [],
   "source": [
    "df2['alpha'] = included_alpha"
   ]
  },
  {
   "cell_type": "code",
   "execution_count": 123,
   "metadata": {},
   "outputs": [
    {
     "data": {
      "text/plain": [
       "VIN_length  alpha  IOQ\n",
       "7           Y      N            1\n",
       "8           Y      N            1\n",
       "9           N      N            1\n",
       "            Y      N            3\n",
       "10          N      N           18\n",
       "            Y      N            2\n",
       "11          N      N        21117\n",
       "            Y      N          157\n",
       "                   Y            2\n",
       "12          N      N         3710\n",
       "            Y      N           14\n",
       "13          N      N           93\n",
       "            Y      N            1\n",
       "14          N      N          107\n",
       "            Y      N           10\n",
       "                   Y            1\n",
       "15          N      N           42\n",
       "            Y      N           11\n",
       "                   Y          194\n",
       "16          N      N           11\n",
       "            Y      N          147\n",
       "                   Y          232\n",
       "17          N      N           34\n",
       "            Y      N      1159705\n",
       "                   Y          873\n",
       "18          Y      N            1\n",
       "Name: 차대번호, dtype: int64"
      ]
     },
     "execution_count": 123,
     "metadata": {},
     "output_type": "execute_result"
    }
   ],
   "source": [
    "df2.groupby(['VIN_length', 'alpha', 'IOQ'])['차대번호'].count()"
   ]
  },
  {
   "cell_type": "code",
   "execution_count": 124,
   "metadata": {},
   "outputs": [
    {
     "data": {
      "text/plain": [
       "VIN_length  IOQ\n",
       "7           N            1\n",
       "8           N            1\n",
       "9           N            4\n",
       "10          N           20\n",
       "11          N        21274\n",
       "            Y            2\n",
       "12          N         3724\n",
       "13          N           94\n",
       "14          N          117\n",
       "            Y            1\n",
       "15          N           53\n",
       "            Y          194\n",
       "16          N          158\n",
       "            Y          232\n",
       "17          N      1159739\n",
       "            Y          873\n",
       "18          N            1\n",
       "Name: 차대번호, dtype: int64"
      ]
     },
     "execution_count": 124,
     "metadata": {},
     "output_type": "execute_result"
    }
   ],
   "source": [
    "df2.groupby(['VIN_length', 'IOQ'])['차대번호'].count()"
   ]
  },
  {
   "cell_type": "code",
   "execution_count": 125,
   "metadata": {},
   "outputs": [],
   "source": [
    "V_I_dict = df2.groupby(['VIN_length', 'IOQ'])['차대번호'].groups"
   ]
  },
  {
   "cell_type": "code",
   "execution_count": 126,
   "metadata": {},
   "outputs": [
    {
     "data": {
      "text/plain": [
       "dict_keys([(7, 'N'), (8, 'N'), (9, 'N'), (10, 'N'), (11, 'N'), (11, 'Y'), (12, 'N'), (13, 'N'), (14, 'N'), (14, 'Y'), (15, 'N'), (15, 'Y'), (16, 'N'), (16, 'Y'), (17, 'N'), (17, 'Y'), (18, 'N')])"
      ]
     },
     "execution_count": 126,
     "metadata": {},
     "output_type": "execute_result"
    }
   ],
   "source": [
    "V_I_dict.keys()"
   ]
  },
  {
   "cell_type": "code",
   "execution_count": 127,
   "metadata": {},
   "outputs": [
    {
     "data": {
      "text/html": [
       "<div>\n",
       "<style scoped>\n",
       "    .dataframe tbody tr th:only-of-type {\n",
       "        vertical-align: middle;\n",
       "    }\n",
       "\n",
       "    .dataframe tbody tr th {\n",
       "        vertical-align: top;\n",
       "    }\n",
       "\n",
       "    .dataframe thead th {\n",
       "        text-align: right;\n",
       "    }\n",
       "</style>\n",
       "<table border=\"1\" class=\"dataframe\">\n",
       "  <thead>\n",
       "    <tr style=\"text-align: right;\">\n",
       "      <th></th>\n",
       "      <th>VIN_length</th>\n",
       "      <th>IOQ</th>\n",
       "      <th>차대번호</th>\n",
       "    </tr>\n",
       "  </thead>\n",
       "  <tbody>\n",
       "    <tr>\n",
       "      <th>0</th>\n",
       "      <td>7</td>\n",
       "      <td>N</td>\n",
       "      <td>1</td>\n",
       "    </tr>\n",
       "    <tr>\n",
       "      <th>1</th>\n",
       "      <td>8</td>\n",
       "      <td>N</td>\n",
       "      <td>1</td>\n",
       "    </tr>\n",
       "    <tr>\n",
       "      <th>2</th>\n",
       "      <td>9</td>\n",
       "      <td>N</td>\n",
       "      <td>4</td>\n",
       "    </tr>\n",
       "    <tr>\n",
       "      <th>3</th>\n",
       "      <td>10</td>\n",
       "      <td>N</td>\n",
       "      <td>20</td>\n",
       "    </tr>\n",
       "    <tr>\n",
       "      <th>4</th>\n",
       "      <td>11</td>\n",
       "      <td>N</td>\n",
       "      <td>21274</td>\n",
       "    </tr>\n",
       "    <tr>\n",
       "      <th>5</th>\n",
       "      <td>11</td>\n",
       "      <td>Y</td>\n",
       "      <td>2</td>\n",
       "    </tr>\n",
       "    <tr>\n",
       "      <th>6</th>\n",
       "      <td>12</td>\n",
       "      <td>N</td>\n",
       "      <td>3724</td>\n",
       "    </tr>\n",
       "    <tr>\n",
       "      <th>7</th>\n",
       "      <td>13</td>\n",
       "      <td>N</td>\n",
       "      <td>94</td>\n",
       "    </tr>\n",
       "    <tr>\n",
       "      <th>8</th>\n",
       "      <td>14</td>\n",
       "      <td>N</td>\n",
       "      <td>117</td>\n",
       "    </tr>\n",
       "    <tr>\n",
       "      <th>9</th>\n",
       "      <td>14</td>\n",
       "      <td>Y</td>\n",
       "      <td>1</td>\n",
       "    </tr>\n",
       "    <tr>\n",
       "      <th>10</th>\n",
       "      <td>15</td>\n",
       "      <td>N</td>\n",
       "      <td>53</td>\n",
       "    </tr>\n",
       "    <tr>\n",
       "      <th>11</th>\n",
       "      <td>15</td>\n",
       "      <td>Y</td>\n",
       "      <td>194</td>\n",
       "    </tr>\n",
       "    <tr>\n",
       "      <th>12</th>\n",
       "      <td>16</td>\n",
       "      <td>N</td>\n",
       "      <td>158</td>\n",
       "    </tr>\n",
       "    <tr>\n",
       "      <th>13</th>\n",
       "      <td>16</td>\n",
       "      <td>Y</td>\n",
       "      <td>232</td>\n",
       "    </tr>\n",
       "    <tr>\n",
       "      <th>14</th>\n",
       "      <td>17</td>\n",
       "      <td>N</td>\n",
       "      <td>1159739</td>\n",
       "    </tr>\n",
       "    <tr>\n",
       "      <th>15</th>\n",
       "      <td>17</td>\n",
       "      <td>Y</td>\n",
       "      <td>873</td>\n",
       "    </tr>\n",
       "    <tr>\n",
       "      <th>16</th>\n",
       "      <td>18</td>\n",
       "      <td>N</td>\n",
       "      <td>1</td>\n",
       "    </tr>\n",
       "  </tbody>\n",
       "</table>\n",
       "</div>"
      ],
      "text/plain": [
       "    VIN_length IOQ     차대번호\n",
       "0            7   N        1\n",
       "1            8   N        1\n",
       "2            9   N        4\n",
       "3           10   N       20\n",
       "4           11   N    21274\n",
       "5           11   Y        2\n",
       "6           12   N     3724\n",
       "7           13   N       94\n",
       "8           14   N      117\n",
       "9           14   Y        1\n",
       "10          15   N       53\n",
       "11          15   Y      194\n",
       "12          16   N      158\n",
       "13          16   Y      232\n",
       "14          17   N  1159739\n",
       "15          17   Y      873\n",
       "16          18   N        1"
      ]
     },
     "execution_count": 127,
     "metadata": {},
     "output_type": "execute_result"
    }
   ],
   "source": [
    "g = df2.groupby(['VIN_length', 'IOQ'], as_index=False)['차대번호'].count()\n",
    "g"
   ]
  },
  {
   "cell_type": "code",
   "execution_count": 128,
   "metadata": {},
   "outputs": [
    {
     "data": {
      "text/html": [
       "<div>\n",
       "<style scoped>\n",
       "    .dataframe tbody tr th:only-of-type {\n",
       "        vertical-align: middle;\n",
       "    }\n",
       "\n",
       "    .dataframe tbody tr th {\n",
       "        vertical-align: top;\n",
       "    }\n",
       "\n",
       "    .dataframe thead th {\n",
       "        text-align: right;\n",
       "    }\n",
       "</style>\n",
       "<table border=\"1\" class=\"dataframe\">\n",
       "  <thead>\n",
       "    <tr style=\"text-align: right;\">\n",
       "      <th></th>\n",
       "      <th>VIN_length</th>\n",
       "      <th>IOQ</th>\n",
       "      <th>차대번호</th>\n",
       "    </tr>\n",
       "  </thead>\n",
       "  <tbody>\n",
       "    <tr>\n",
       "      <th>0</th>\n",
       "      <td>7</td>\n",
       "      <td>N</td>\n",
       "      <td>1</td>\n",
       "    </tr>\n",
       "    <tr>\n",
       "      <th>1</th>\n",
       "      <td>8</td>\n",
       "      <td>N</td>\n",
       "      <td>1</td>\n",
       "    </tr>\n",
       "    <tr>\n",
       "      <th>2</th>\n",
       "      <td>9</td>\n",
       "      <td>N</td>\n",
       "      <td>4</td>\n",
       "    </tr>\n",
       "    <tr>\n",
       "      <th>3</th>\n",
       "      <td>10</td>\n",
       "      <td>N</td>\n",
       "      <td>20</td>\n",
       "    </tr>\n",
       "    <tr>\n",
       "      <th>5</th>\n",
       "      <td>11</td>\n",
       "      <td>Y</td>\n",
       "      <td>2</td>\n",
       "    </tr>\n",
       "    <tr>\n",
       "      <th>4</th>\n",
       "      <td>11</td>\n",
       "      <td>N</td>\n",
       "      <td>21274</td>\n",
       "    </tr>\n",
       "    <tr>\n",
       "      <th>6</th>\n",
       "      <td>12</td>\n",
       "      <td>N</td>\n",
       "      <td>3724</td>\n",
       "    </tr>\n",
       "    <tr>\n",
       "      <th>7</th>\n",
       "      <td>13</td>\n",
       "      <td>N</td>\n",
       "      <td>94</td>\n",
       "    </tr>\n",
       "    <tr>\n",
       "      <th>9</th>\n",
       "      <td>14</td>\n",
       "      <td>Y</td>\n",
       "      <td>1</td>\n",
       "    </tr>\n",
       "    <tr>\n",
       "      <th>8</th>\n",
       "      <td>14</td>\n",
       "      <td>N</td>\n",
       "      <td>117</td>\n",
       "    </tr>\n",
       "    <tr>\n",
       "      <th>11</th>\n",
       "      <td>15</td>\n",
       "      <td>Y</td>\n",
       "      <td>194</td>\n",
       "    </tr>\n",
       "    <tr>\n",
       "      <th>10</th>\n",
       "      <td>15</td>\n",
       "      <td>N</td>\n",
       "      <td>53</td>\n",
       "    </tr>\n",
       "    <tr>\n",
       "      <th>13</th>\n",
       "      <td>16</td>\n",
       "      <td>Y</td>\n",
       "      <td>232</td>\n",
       "    </tr>\n",
       "    <tr>\n",
       "      <th>12</th>\n",
       "      <td>16</td>\n",
       "      <td>N</td>\n",
       "      <td>158</td>\n",
       "    </tr>\n",
       "    <tr>\n",
       "      <th>15</th>\n",
       "      <td>17</td>\n",
       "      <td>Y</td>\n",
       "      <td>873</td>\n",
       "    </tr>\n",
       "    <tr>\n",
       "      <th>14</th>\n",
       "      <td>17</td>\n",
       "      <td>N</td>\n",
       "      <td>1159739</td>\n",
       "    </tr>\n",
       "    <tr>\n",
       "      <th>16</th>\n",
       "      <td>18</td>\n",
       "      <td>N</td>\n",
       "      <td>1</td>\n",
       "    </tr>\n",
       "  </tbody>\n",
       "</table>\n",
       "</div>"
      ],
      "text/plain": [
       "    VIN_length IOQ     차대번호\n",
       "0            7   N        1\n",
       "1            8   N        1\n",
       "2            9   N        4\n",
       "3           10   N       20\n",
       "5           11   Y        2\n",
       "4           11   N    21274\n",
       "6           12   N     3724\n",
       "7           13   N       94\n",
       "9           14   Y        1\n",
       "8           14   N      117\n",
       "11          15   Y      194\n",
       "10          15   N       53\n",
       "13          16   Y      232\n",
       "12          16   N      158\n",
       "15          17   Y      873\n",
       "14          17   N  1159739\n",
       "16          18   N        1"
      ]
     },
     "execution_count": 128,
     "metadata": {},
     "output_type": "execute_result"
    }
   ],
   "source": [
    "V_I_df = g.sort_values(['VIN_length', 'IOQ'], ascending=[True, False])\n",
    "V_I_df"
   ]
  },
  {
   "cell_type": "code",
   "execution_count": 129,
   "metadata": {},
   "outputs": [
    {
     "name": "stdout",
     "output_type": "stream",
     "text": [
      "[VIN_length : 10, \"IOQ\"포함 : N]\n",
      "예시)\n",
      "47754    0283118691\n",
      "61908    1332942254\n",
      "75272    SL68806025\n",
      "Name: 차대번호, dtype: object\n",
      "\n",
      "[VIN_length : 11, \"IOQ\"포함 : N]\n",
      "예시)\n",
      "31     03791237974\n",
      "43     10792213224\n",
      "165    10831378565\n",
      "Name: 차대번호, dtype: object\n",
      "\n",
      "[VIN_length : 11, \"IOQ\"포함 : Y]\n",
      "예시)\n",
      "385830    SL67CO32925\n",
      "749701    OC72T064502\n",
      "Name: 차대번호, dtype: object\n",
      "\n",
      "[VIN_length : 12, \"IOQ\"포함 : N]\n",
      "예시)\n",
      "300    290234302789\n",
      "456    289934206482\n",
      "871    270224201850\n",
      "Name: 차대번호, dtype: object\n",
      "\n",
      "[VIN_length : 13, \"IOQ\"포함 : N]\n",
      "예시)\n",
      "1119     03872120482대인\n",
      "1833     119411325784라\n",
      "36791    119134210022나\n",
      "Name: 차대번호, dtype: object\n",
      "\n",
      "[VIN_length : 14, \"IOQ\"포함 : N]\n",
      "예시)\n",
      "16134    21018721100220\n",
      "37901    14861141341대동규\n",
      "43763    KB-43-C-005729\n",
      "Name: 차대번호, dtype: object\n",
      "\n",
      "[VIN_length : 14, \"IOQ\"포함 : Y]\n",
      "예시)\n",
      "1044123    0383213487EORL\n",
      "Name: 차대번호, dtype: object\n",
      "\n",
      "[VIN_length : 15, \"IOQ\"포함 : N]\n",
      "예시)\n",
      "608      43-95-433-03092\n",
      "26625    29-99-342-01697\n",
      "33600    42-95-342-01943\n",
      "Name: 차대번호, dtype: object\n",
      "\n",
      "[VIN_length : 15, \"IOQ\"포함 : Y]\n",
      "예시)\n",
      "10611    13831318396EOWL\n",
      "12825    03832101713EOWL\n",
      "23510    13831317505EOWL\n",
      "Name: 차대번호, dtype: object\n",
      "\n",
      "[VIN_length : 16, \"IOQ\"포함 : N]\n",
      "예시)\n",
      "10614    KN2GAB2N2K001920\n",
      "18976    KN3MAP7M2J000193\n",
      "19720    KLAPM69A1GB02292\n",
      "Name: 차대번호, dtype: object\n",
      "\n",
      "[VIN_length : 16, \"IOQ\"포함 : Y]\n",
      "예시)\n",
      "107      10802119965EOGUS\n",
      "5600     10822273090EOGUS\n",
      "18595    10842117345EOGUS\n",
      "Name: 차대번호, dtype: object\n",
      "\n",
      "[VIN_length : 17, \"IOQ\"포함 : N]\n",
      "예시)\n",
      "0    KMFXKS7BP2U559698\n",
      "1    KMHSJ81WP6U036607\n",
      "2    KN3HNP6D15K117795\n",
      "Name: 차대번호, dtype: object\n",
      "\n",
      "[VIN_length : 17, \"IOQ\"포함 : Y]\n",
      "예시)\n",
      "5851    KLBUD65OHPP000214\n",
      "6293    KPAHB6CM2JPO22324\n",
      "6905    KN4XFWOH3VK001844\n",
      "Name: 차대번호, dtype: object\n",
      "\n"
     ]
    }
   ],
   "source": [
    "for v in range(10, 18):\n",
    "    for i in ['N', 'Y']:\n",
    "        try:\n",
    "            idx = V_I_dict[(v, i)]\n",
    "            print(f'[VIN_length : {v}, \"IOQ\"포함 : {i}]')\n",
    "            print('예시)')\n",
    "            print(df2.iloc[idx[:3], 6])\n",
    "            print()\n",
    "        except:\n",
    "            pass"
   ]
  },
  {
   "cell_type": "markdown",
   "metadata": {},
   "source": [
    "##### [출력]번호길이, IOQ포함 통계"
   ]
  },
  {
   "cell_type": "code",
   "execution_count": 130,
   "metadata": {},
   "outputs": [],
   "source": [
    "V_I_df.to_csv('analysis/[차대번호][5등급]번호길이_IOQ포함_통계.csv', index=False, encoding='cp949')"
   ]
  },
  {
   "cell_type": "markdown",
   "metadata": {},
   "source": [
    "#### WMI 코드 분류 제작사 통계"
   ]
  },
  {
   "cell_type": "code",
   "execution_count": 131,
   "metadata": {},
   "outputs": [
    {
     "name": "stdout",
     "output_type": "stream",
     "text": [
      "<class 'pandas.core.frame.DataFrame'>\n",
      "RangeIndex: 690 entries, 0 to 689\n",
      "Data columns (total 8 columns):\n",
      " #   Column         Non-Null Count  Dtype  \n",
      "---  ------         --------------  -----  \n",
      " 0   WMI            690 non-null    object \n",
      " 1   MF CODE        690 non-null    object \n",
      " 2   Identifier     690 non-null    object \n",
      " 3   Manufacturer   690 non-null    object \n",
      " 4   Country        688 non-null    object \n",
      " 5   Vehicle Types  249 non-null    object \n",
      " 6   Description    54 non-null     object \n",
      " 7   참고             0 non-null      float64\n",
      "dtypes: float64(1), object(7)\n",
      "memory usage: 43.2+ KB\n"
     ]
    }
   ],
   "source": [
    "wmi = pd.read_excel('data/20190730_WMI CODE.xlsx', sheet_name='WMI CODE')\n",
    "wmi.info()"
   ]
  },
  {
   "cell_type": "code",
   "execution_count": 132,
   "metadata": {},
   "outputs": [
    {
     "data": {
      "text/plain": [
       "0    KMFXKS7BP2U559698\n",
       "1    KMHSJ81WP6U036607\n",
       "2    KN3HNP6D15K117795\n",
       "3    KPBFA2AD12P043282\n",
       "4    KNCSD0112XS452905\n",
       "Name: 차대번호, dtype: object"
      ]
     },
     "execution_count": 132,
     "metadata": {},
     "output_type": "execute_result"
    }
   ],
   "source": [
    "df2['차대번호'].head()"
   ]
  },
  {
   "cell_type": "code",
   "execution_count": 133,
   "metadata": {},
   "outputs": [],
   "source": [
    "df2['wmi'] = df2['차대번호'].str[:3]"
   ]
  },
  {
   "cell_type": "code",
   "execution_count": 134,
   "metadata": {},
   "outputs": [
    {
     "data": {
      "text/plain": [
       "0    KMF\n",
       "1    KMH\n",
       "2    KN3\n",
       "3    KPB\n",
       "4    KNC\n",
       "Name: wmi, dtype: object"
      ]
     },
     "execution_count": 134,
     "metadata": {},
     "output_type": "execute_result"
    }
   ],
   "source": [
    "df2['wmi'].head()"
   ]
  },
  {
   "cell_type": "code",
   "execution_count": 135,
   "metadata": {},
   "outputs": [
    {
     "data": {
      "text/html": [
       "<div>\n",
       "<style scoped>\n",
       "    .dataframe tbody tr th:only-of-type {\n",
       "        vertical-align: middle;\n",
       "    }\n",
       "\n",
       "    .dataframe tbody tr th {\n",
       "        vertical-align: top;\n",
       "    }\n",
       "\n",
       "    .dataframe thead th {\n",
       "        text-align: right;\n",
       "    }\n",
       "</style>\n",
       "<table border=\"1\" class=\"dataframe\">\n",
       "  <thead>\n",
       "    <tr style=\"text-align: right;\">\n",
       "      <th></th>\n",
       "      <th>차대번호</th>\n",
       "      <th>wmi</th>\n",
       "      <th>WMI</th>\n",
       "    </tr>\n",
       "  </thead>\n",
       "  <tbody>\n",
       "    <tr>\n",
       "      <th>0</th>\n",
       "      <td>KMFXKS7BP2U559698</td>\n",
       "      <td>KMF</td>\n",
       "      <td>KMF</td>\n",
       "    </tr>\n",
       "    <tr>\n",
       "      <th>1</th>\n",
       "      <td>KMHSJ81WP6U036607</td>\n",
       "      <td>KMH</td>\n",
       "      <td>KMH</td>\n",
       "    </tr>\n",
       "    <tr>\n",
       "      <th>2</th>\n",
       "      <td>KN3HNP6D15K117795</td>\n",
       "      <td>KN3</td>\n",
       "      <td>NaN</td>\n",
       "    </tr>\n",
       "    <tr>\n",
       "      <th>3</th>\n",
       "      <td>KPBFA2AD12P043282</td>\n",
       "      <td>KPB</td>\n",
       "      <td>NaN</td>\n",
       "    </tr>\n",
       "    <tr>\n",
       "      <th>4</th>\n",
       "      <td>KNCSD0112XS452905</td>\n",
       "      <td>KNC</td>\n",
       "      <td>KNC</td>\n",
       "    </tr>\n",
       "  </tbody>\n",
       "</table>\n",
       "</div>"
      ],
      "text/plain": [
       "                차대번호  wmi  WMI\n",
       "0  KMFXKS7BP2U559698  KMF  KMF\n",
       "1  KMHSJ81WP6U036607  KMH  KMH\n",
       "2  KN3HNP6D15K117795  KN3  NaN\n",
       "3  KPBFA2AD12P043282  KPB  NaN\n",
       "4  KNCSD0112XS452905  KNC  KNC"
      ]
     },
     "execution_count": 135,
     "metadata": {},
     "output_type": "execute_result"
    }
   ],
   "source": [
    "df2 = df2.merge(wmi, left_on='wmi', right_on='WMI', how='left')\n",
    "df2[['차대번호', 'wmi', 'WMI']].head()"
   ]
  },
  {
   "cell_type": "code",
   "execution_count": 136,
   "metadata": {},
   "outputs": [
    {
     "data": {
      "text/plain": [
       "(1186488, 52)"
      ]
     },
     "execution_count": 136,
     "metadata": {},
     "output_type": "execute_result"
    }
   ],
   "source": [
    "df2.shape"
   ]
  },
  {
   "cell_type": "code",
   "execution_count": 137,
   "metadata": {},
   "outputs": [
    {
     "data": {
      "text/html": [
       "<div>\n",
       "<style scoped>\n",
       "    .dataframe tbody tr th:only-of-type {\n",
       "        vertical-align: middle;\n",
       "    }\n",
       "\n",
       "    .dataframe tbody tr th {\n",
       "        vertical-align: top;\n",
       "    }\n",
       "\n",
       "    .dataframe thead th {\n",
       "        text-align: right;\n",
       "    }\n",
       "</style>\n",
       "<table border=\"1\" class=\"dataframe\">\n",
       "  <thead>\n",
       "    <tr style=\"text-align: right;\">\n",
       "      <th></th>\n",
       "      <th>차대번호</th>\n",
       "      <th>wmi</th>\n",
       "      <th>WMI</th>\n",
       "      <th>Manufacturer</th>\n",
       "    </tr>\n",
       "  </thead>\n",
       "  <tbody>\n",
       "    <tr>\n",
       "      <th>0</th>\n",
       "      <td>KMFXKS7BP2U559698</td>\n",
       "      <td>KMF</td>\n",
       "      <td>KMF</td>\n",
       "      <td>Hyundai</td>\n",
       "    </tr>\n",
       "    <tr>\n",
       "      <th>1</th>\n",
       "      <td>KMHSJ81WP6U036607</td>\n",
       "      <td>KMH</td>\n",
       "      <td>KMH</td>\n",
       "      <td>Hyundai</td>\n",
       "    </tr>\n",
       "    <tr>\n",
       "      <th>2</th>\n",
       "      <td>KN3HNP6D15K117795</td>\n",
       "      <td>KN3</td>\n",
       "      <td>NaN</td>\n",
       "      <td>NaN</td>\n",
       "    </tr>\n",
       "    <tr>\n",
       "      <th>3</th>\n",
       "      <td>KPBFA2AD12P043282</td>\n",
       "      <td>KPB</td>\n",
       "      <td>NaN</td>\n",
       "      <td>NaN</td>\n",
       "    </tr>\n",
       "    <tr>\n",
       "      <th>4</th>\n",
       "      <td>KNCSD0112XS452905</td>\n",
       "      <td>KNC</td>\n",
       "      <td>KNC</td>\n",
       "      <td>Kia</td>\n",
       "    </tr>\n",
       "  </tbody>\n",
       "</table>\n",
       "</div>"
      ],
      "text/plain": [
       "                차대번호  wmi  WMI Manufacturer\n",
       "0  KMFXKS7BP2U559698  KMF  KMF      Hyundai\n",
       "1  KMHSJ81WP6U036607  KMH  KMH      Hyundai\n",
       "2  KN3HNP6D15K117795  KN3  NaN          NaN\n",
       "3  KPBFA2AD12P043282  KPB  NaN          NaN\n",
       "4  KNCSD0112XS452905  KNC  KNC          Kia"
      ]
     },
     "execution_count": 137,
     "metadata": {},
     "output_type": "execute_result"
    }
   ],
   "source": [
    "df2[['차대번호', 'wmi', 'WMI', 'Manufacturer']].head()"
   ]
  },
  {
   "cell_type": "code",
   "execution_count": 138,
   "metadata": {},
   "outputs": [
    {
     "data": {
      "text/plain": [
       "0"
      ]
     },
     "execution_count": 138,
     "metadata": {},
     "output_type": "execute_result"
    }
   ],
   "source": [
    "df2.iloc[:, 6].isnull().sum()"
   ]
  },
  {
   "cell_type": "markdown",
   "metadata": {},
   "source": [
    "##### 차대번호 길이 조건 전부 포함"
   ]
  },
  {
   "cell_type": "code",
   "execution_count": 139,
   "metadata": {},
   "outputs": [],
   "source": [
    "# 차대번호 개수(WMI 코드와 매칭되는 데이터) : 1186488 개"
   ]
  },
  {
   "cell_type": "code",
   "execution_count": 140,
   "metadata": {},
   "outputs": [
    {
     "name": "stdout",
     "output_type": "stream",
     "text": [
      "<class 'pandas.core.series.Series'>\n",
      "Int64Index: 1186488 entries, 0 to 1186487\n",
      "Series name: WMI\n",
      "Non-Null Count   Dtype \n",
      "--------------   ----- \n",
      "900759 non-null  object\n",
      "dtypes: object(1)\n",
      "memory usage: 18.1+ MB\n"
     ]
    }
   ],
   "source": [
    "# 차대번호 길이 조건 전부 포함\n",
    "df2['WMI'].info()"
   ]
  },
  {
   "cell_type": "code",
   "execution_count": 141,
   "metadata": {},
   "outputs": [
    {
     "data": {
      "text/html": [
       "<div>\n",
       "<style scoped>\n",
       "    .dataframe tbody tr th:only-of-type {\n",
       "        vertical-align: middle;\n",
       "    }\n",
       "\n",
       "    .dataframe tbody tr th {\n",
       "        vertical-align: top;\n",
       "    }\n",
       "\n",
       "    .dataframe thead th {\n",
       "        text-align: right;\n",
       "    }\n",
       "</style>\n",
       "<table border=\"1\" class=\"dataframe\">\n",
       "  <thead>\n",
       "    <tr style=\"text-align: right;\">\n",
       "      <th></th>\n",
       "      <th>차량관리번호</th>\n",
       "      <th>차대번호</th>\n",
       "      <th>wmi</th>\n",
       "      <th>WMI</th>\n",
       "      <th>Identifier</th>\n",
       "    </tr>\n",
       "  </thead>\n",
       "  <tbody>\n",
       "    <tr>\n",
       "      <th>0</th>\n",
       "      <td>KMFXKS7BP2U559698-01</td>\n",
       "      <td>KMFXKS7BP2U559698</td>\n",
       "      <td>KMF</td>\n",
       "      <td>KMF</td>\n",
       "      <td>Hyundai</td>\n",
       "    </tr>\n",
       "    <tr>\n",
       "      <th>1</th>\n",
       "      <td>KMHSJ81WP6U036607-01</td>\n",
       "      <td>KMHSJ81WP6U036607</td>\n",
       "      <td>KMH</td>\n",
       "      <td>KMH</td>\n",
       "      <td>Hyundai</td>\n",
       "    </tr>\n",
       "    <tr>\n",
       "      <th>4</th>\n",
       "      <td>KNCSD0112XS452905-01</td>\n",
       "      <td>KNCSD0112XS452905</td>\n",
       "      <td>KNC</td>\n",
       "      <td>KNC</td>\n",
       "      <td>Kia</td>\n",
       "    </tr>\n",
       "    <tr>\n",
       "      <th>5</th>\n",
       "      <td>KLACM19F1GB001687-01</td>\n",
       "      <td>KLACM19F1GB001687</td>\n",
       "      <td>KLA</td>\n",
       "      <td>KLA</td>\n",
       "      <td>GM Daewoo</td>\n",
       "    </tr>\n",
       "    <tr>\n",
       "      <th>7</th>\n",
       "      <td>KMHSD81VP5U083757-01</td>\n",
       "      <td>KMHSD81VP5U083757</td>\n",
       "      <td>KMH</td>\n",
       "      <td>KMH</td>\n",
       "      <td>Hyundai</td>\n",
       "    </tr>\n",
       "  </tbody>\n",
       "</table>\n",
       "</div>"
      ],
      "text/plain": [
       "                 차량관리번호               차대번호  wmi  WMI Identifier\n",
       "0  KMFXKS7BP2U559698-01  KMFXKS7BP2U559698  KMF  KMF    Hyundai\n",
       "1  KMHSJ81WP6U036607-01  KMHSJ81WP6U036607  KMH  KMH    Hyundai\n",
       "4  KNCSD0112XS452905-01  KNCSD0112XS452905  KNC  KNC        Kia\n",
       "5  KLACM19F1GB001687-01  KLACM19F1GB001687  KLA  KLA  GM Daewoo\n",
       "7  KMHSD81VP5U083757-01  KMHSD81VP5U083757  KMH  KMH    Hyundai"
      ]
     },
     "execution_count": 141,
     "metadata": {},
     "output_type": "execute_result"
    }
   ],
   "source": [
    "# wmi 코드와 매칭되는 데이터\n",
    "nor_iden = df2.loc[df2['WMI'].isnull() == False, ['차량관리번호', '차대번호', 'wmi', 'WMI', 'Identifier']]\n",
    "nor_iden.head()"
   ]
  },
  {
   "cell_type": "code",
   "execution_count": 142,
   "metadata": {},
   "outputs": [
    {
     "data": {
      "text/plain": [
       "(900759, 5)"
      ]
     },
     "execution_count": 142,
     "metadata": {},
     "output_type": "execute_result"
    }
   ],
   "source": [
    "# WMI 코드와 매칭되는 샘플 수 : 900759 개\n",
    "nor_iden.shape"
   ]
  },
  {
   "cell_type": "code",
   "execution_count": 143,
   "metadata": {},
   "outputs": [
    {
     "data": {
      "text/plain": [
       "88"
      ]
     },
     "execution_count": 143,
     "metadata": {},
     "output_type": "execute_result"
    }
   ],
   "source": [
    "# wmi 유니크 개수 : 88\n",
    "len(nor_iden['wmi'].unique())"
   ]
  },
  {
   "cell_type": "code",
   "execution_count": 144,
   "metadata": {},
   "outputs": [
    {
     "data": {
      "text/plain": [
       "57"
      ]
     },
     "execution_count": 144,
     "metadata": {},
     "output_type": "execute_result"
    }
   ],
   "source": [
    "# 제작사 유니크 개수 : 57\n",
    "len(nor_iden['Identifier'].unique())"
   ]
  },
  {
   "cell_type": "code",
   "execution_count": 145,
   "metadata": {},
   "outputs": [
    {
     "data": {
      "text/html": [
       "<div>\n",
       "<style scoped>\n",
       "    .dataframe tbody tr th:only-of-type {\n",
       "        vertical-align: middle;\n",
       "    }\n",
       "\n",
       "    .dataframe tbody tr th {\n",
       "        vertical-align: top;\n",
       "    }\n",
       "\n",
       "    .dataframe thead th {\n",
       "        text-align: right;\n",
       "    }\n",
       "</style>\n",
       "<table border=\"1\" class=\"dataframe\">\n",
       "  <thead>\n",
       "    <tr style=\"text-align: right;\">\n",
       "      <th></th>\n",
       "      <th>차량관리번호</th>\n",
       "      <th>차대번호</th>\n",
       "      <th>wmi</th>\n",
       "      <th>WMI</th>\n",
       "      <th>Identifier</th>\n",
       "    </tr>\n",
       "  </thead>\n",
       "  <tbody>\n",
       "    <tr>\n",
       "      <th>2</th>\n",
       "      <td>KN3HNP6D15K117795-01</td>\n",
       "      <td>KN3HNP6D15K117795</td>\n",
       "      <td>KN3</td>\n",
       "      <td>NaN</td>\n",
       "      <td>NaN</td>\n",
       "    </tr>\n",
       "    <tr>\n",
       "      <th>3</th>\n",
       "      <td>KPBFA2AD12P043282-01</td>\n",
       "      <td>KPBFA2AD12P043282</td>\n",
       "      <td>KPB</td>\n",
       "      <td>NaN</td>\n",
       "      <td>NaN</td>\n",
       "    </tr>\n",
       "    <tr>\n",
       "      <th>6</th>\n",
       "      <td>KMCLK18EP6C013610-01</td>\n",
       "      <td>KMCLK18EP6C013610</td>\n",
       "      <td>KMC</td>\n",
       "      <td>NaN</td>\n",
       "      <td>NaN</td>\n",
       "    </tr>\n",
       "    <tr>\n",
       "      <th>9</th>\n",
       "      <td>KN3HAP53C1K775583-01</td>\n",
       "      <td>KN3HAP53C1K775583</td>\n",
       "      <td>KN3</td>\n",
       "      <td>NaN</td>\n",
       "      <td>NaN</td>\n",
       "    </tr>\n",
       "    <tr>\n",
       "      <th>13</th>\n",
       "      <td>KMCGK17AP4C195950-01</td>\n",
       "      <td>KMCGK17AP4C195950</td>\n",
       "      <td>KMC</td>\n",
       "      <td>NaN</td>\n",
       "      <td>NaN</td>\n",
       "    </tr>\n",
       "  </tbody>\n",
       "</table>\n",
       "</div>"
      ],
      "text/plain": [
       "                  차량관리번호               차대번호  wmi  WMI Identifier\n",
       "2   KN3HNP6D15K117795-01  KN3HNP6D15K117795  KN3  NaN        NaN\n",
       "3   KPBFA2AD12P043282-01  KPBFA2AD12P043282  KPB  NaN        NaN\n",
       "6   KMCLK18EP6C013610-01  KMCLK18EP6C013610  KMC  NaN        NaN\n",
       "9   KN3HAP53C1K775583-01  KN3HAP53C1K775583  KN3  NaN        NaN\n",
       "13  KMCGK17AP4C195950-01  KMCGK17AP4C195950  KMC  NaN        NaN"
      ]
     },
     "execution_count": 145,
     "metadata": {},
     "output_type": "execute_result"
    }
   ],
   "source": [
    "# wmi 코드와 매칭 안되는 데이터\n",
    "error_iden = df2.loc[df2['WMI'].isnull() == True, ['차량관리번호', '차대번호', 'wmi', 'WMI', 'Identifier']]\n",
    "error_iden.head()"
   ]
  },
  {
   "cell_type": "code",
   "execution_count": 146,
   "metadata": {},
   "outputs": [
    {
     "data": {
      "text/plain": [
       "(285729, 5)"
      ]
     },
     "execution_count": 146,
     "metadata": {},
     "output_type": "execute_result"
    }
   ],
   "source": [
    "# wmi 코드 매칭 안되는 샘플 수 : 285729\n",
    "error_iden.shape"
   ]
  },
  {
   "cell_type": "code",
   "execution_count": 148,
   "metadata": {},
   "outputs": [
    {
     "data": {
      "text/plain": [
       "412"
      ]
     },
     "execution_count": 148,
     "metadata": {},
     "output_type": "execute_result"
    }
   ],
   "source": [
    "len(error_iden['wmi'].unique())"
   ]
  },
  {
   "cell_type": "markdown",
   "metadata": {},
   "source": [
    "###### [출력]오류 wmi코드 예시"
   ]
  },
  {
   "cell_type": "code",
   "execution_count": 149,
   "metadata": {},
   "outputs": [],
   "source": [
    "# error_iden.to_excel('analysis/[차대번호][5등급]오류_WMI코드_데이터예시.xlsx',index=False, encoding='cp949')"
   ]
  },
  {
   "cell_type": "code",
   "execution_count": 150,
   "metadata": {},
   "outputs": [
    {
     "data": {
      "text/html": [
       "<div>\n",
       "<style scoped>\n",
       "    .dataframe tbody tr th:only-of-type {\n",
       "        vertical-align: middle;\n",
       "    }\n",
       "\n",
       "    .dataframe tbody tr th {\n",
       "        vertical-align: top;\n",
       "    }\n",
       "\n",
       "    .dataframe thead th {\n",
       "        text-align: right;\n",
       "    }\n",
       "</style>\n",
       "<table border=\"1\" class=\"dataframe\">\n",
       "  <thead>\n",
       "    <tr style=\"text-align: right;\">\n",
       "      <th></th>\n",
       "      <th>Identifier</th>\n",
       "      <th>차대번호</th>\n",
       "    </tr>\n",
       "  </thead>\n",
       "  <tbody>\n",
       "    <tr>\n",
       "      <th>16</th>\n",
       "      <td>Hyundai</td>\n",
       "      <td>601406</td>\n",
       "    </tr>\n",
       "    <tr>\n",
       "      <th>24</th>\n",
       "      <td>Kia</td>\n",
       "      <td>207766</td>\n",
       "    </tr>\n",
       "    <tr>\n",
       "      <th>50</th>\n",
       "      <td>SsangYong</td>\n",
       "      <td>50939</td>\n",
       "    </tr>\n",
       "    <tr>\n",
       "      <th>29</th>\n",
       "      <td>K화물</td>\n",
       "      <td>13927</td>\n",
       "    </tr>\n",
       "    <tr>\n",
       "      <th>11</th>\n",
       "      <td>GM Daewoo</td>\n",
       "      <td>7093</td>\n",
       "    </tr>\n",
       "    <tr>\n",
       "      <th>26</th>\n",
       "      <td>K승용</td>\n",
       "      <td>6239</td>\n",
       "    </tr>\n",
       "    <tr>\n",
       "      <th>6</th>\n",
       "      <td>Daelim</td>\n",
       "      <td>4262</td>\n",
       "    </tr>\n",
       "    <tr>\n",
       "      <th>28</th>\n",
       "      <td>K특수</td>\n",
       "      <td>1841</td>\n",
       "    </tr>\n",
       "    <tr>\n",
       "      <th>55</th>\n",
       "      <td>Volvo</td>\n",
       "      <td>1612</td>\n",
       "    </tr>\n",
       "    <tr>\n",
       "      <th>49</th>\n",
       "      <td>Scania</td>\n",
       "      <td>1355</td>\n",
       "    </tr>\n",
       "    <tr>\n",
       "      <th>5</th>\n",
       "      <td>Chevrolet</td>\n",
       "      <td>826</td>\n",
       "    </tr>\n",
       "    <tr>\n",
       "      <th>48</th>\n",
       "      <td>Scania</td>\n",
       "      <td>800</td>\n",
       "    </tr>\n",
       "    <tr>\n",
       "      <th>34</th>\n",
       "      <td>Mercedes-Benz</td>\n",
       "      <td>618</td>\n",
       "    </tr>\n",
       "    <tr>\n",
       "      <th>22</th>\n",
       "      <td>Jeep</td>\n",
       "      <td>517</td>\n",
       "    </tr>\n",
       "    <tr>\n",
       "      <th>27</th>\n",
       "      <td>K승합</td>\n",
       "      <td>326</td>\n",
       "    </tr>\n",
       "    <tr>\n",
       "      <th>32</th>\n",
       "      <td>MAN</td>\n",
       "      <td>270</td>\n",
       "    </tr>\n",
       "    <tr>\n",
       "      <th>30</th>\n",
       "      <td>Land Rover</td>\n",
       "      <td>260</td>\n",
       "    </tr>\n",
       "    <tr>\n",
       "      <th>20</th>\n",
       "      <td>Iveco Magirus</td>\n",
       "      <td>198</td>\n",
       "    </tr>\n",
       "    <tr>\n",
       "      <th>13</th>\n",
       "      <td>Hino</td>\n",
       "      <td>144</td>\n",
       "    </tr>\n",
       "    <tr>\n",
       "      <th>47</th>\n",
       "      <td>Saturn</td>\n",
       "      <td>66</td>\n",
       "    </tr>\n",
       "    <tr>\n",
       "      <th>9</th>\n",
       "      <td>Ford</td>\n",
       "      <td>54</td>\n",
       "    </tr>\n",
       "    <tr>\n",
       "      <th>0</th>\n",
       "      <td>Audi</td>\n",
       "      <td>45</td>\n",
       "    </tr>\n",
       "    <tr>\n",
       "      <th>54</th>\n",
       "      <td>Volkswagen</td>\n",
       "      <td>40</td>\n",
       "    </tr>\n",
       "    <tr>\n",
       "      <th>35</th>\n",
       "      <td>Mercury</td>\n",
       "      <td>28</td>\n",
       "    </tr>\n",
       "    <tr>\n",
       "      <th>2</th>\n",
       "      <td>BMW</td>\n",
       "      <td>18</td>\n",
       "    </tr>\n",
       "    <tr>\n",
       "      <th>39</th>\n",
       "      <td>Peugeot</td>\n",
       "      <td>17</td>\n",
       "    </tr>\n",
       "    <tr>\n",
       "      <th>3</th>\n",
       "      <td>Buick</td>\n",
       "      <td>8</td>\n",
       "    </tr>\n",
       "    <tr>\n",
       "      <th>4</th>\n",
       "      <td>Cadillac</td>\n",
       "      <td>8</td>\n",
       "    </tr>\n",
       "    <tr>\n",
       "      <th>41</th>\n",
       "      <td>Pontiac</td>\n",
       "      <td>6</td>\n",
       "    </tr>\n",
       "    <tr>\n",
       "      <th>31</th>\n",
       "      <td>Lincoln</td>\n",
       "      <td>5</td>\n",
       "    </tr>\n",
       "    <tr>\n",
       "      <th>37</th>\n",
       "      <td>Nissan</td>\n",
       "      <td>5</td>\n",
       "    </tr>\n",
       "    <tr>\n",
       "      <th>25</th>\n",
       "      <td>Koenigsegg / Carvia</td>\n",
       "      <td>4</td>\n",
       "    </tr>\n",
       "    <tr>\n",
       "      <th>18</th>\n",
       "      <td>International Truck and Engine</td>\n",
       "      <td>4</td>\n",
       "    </tr>\n",
       "    <tr>\n",
       "      <th>40</th>\n",
       "      <td>Plymouth</td>\n",
       "      <td>4</td>\n",
       "    </tr>\n",
       "    <tr>\n",
       "      <th>23</th>\n",
       "      <td>Kenworth</td>\n",
       "      <td>3</td>\n",
       "    </tr>\n",
       "    <tr>\n",
       "      <th>52</th>\n",
       "      <td>Suzuki</td>\n",
       "      <td>3</td>\n",
       "    </tr>\n",
       "    <tr>\n",
       "      <th>8</th>\n",
       "      <td>Fiat</td>\n",
       "      <td>3</td>\n",
       "    </tr>\n",
       "    <tr>\n",
       "      <th>44</th>\n",
       "      <td>Renault Samsung</td>\n",
       "      <td>3</td>\n",
       "    </tr>\n",
       "    <tr>\n",
       "      <th>21</th>\n",
       "      <td>Jaguar</td>\n",
       "      <td>3</td>\n",
       "    </tr>\n",
       "    <tr>\n",
       "      <th>14</th>\n",
       "      <td>Honda</td>\n",
       "      <td>3</td>\n",
       "    </tr>\n",
       "    <tr>\n",
       "      <th>10</th>\n",
       "      <td>Freightliner</td>\n",
       "      <td>3</td>\n",
       "    </tr>\n",
       "    <tr>\n",
       "      <th>19</th>\n",
       "      <td>Isuzu</td>\n",
       "      <td>3</td>\n",
       "    </tr>\n",
       "    <tr>\n",
       "      <th>33</th>\n",
       "      <td>Mazda</td>\n",
       "      <td>3</td>\n",
       "    </tr>\n",
       "    <tr>\n",
       "      <th>38</th>\n",
       "      <td>Oldsmobile</td>\n",
       "      <td>2</td>\n",
       "    </tr>\n",
       "    <tr>\n",
       "      <th>17</th>\n",
       "      <td>Infiniti</td>\n",
       "      <td>2</td>\n",
       "    </tr>\n",
       "    <tr>\n",
       "      <th>53</th>\n",
       "      <td>Toyota</td>\n",
       "      <td>2</td>\n",
       "    </tr>\n",
       "    <tr>\n",
       "      <th>15</th>\n",
       "      <td>Hyosung</td>\n",
       "      <td>2</td>\n",
       "    </tr>\n",
       "    <tr>\n",
       "      <th>7</th>\n",
       "      <td>Dodge</td>\n",
       "      <td>2</td>\n",
       "    </tr>\n",
       "    <tr>\n",
       "      <th>46</th>\n",
       "      <td>Saab</td>\n",
       "      <td>2</td>\n",
       "    </tr>\n",
       "    <tr>\n",
       "      <th>42</th>\n",
       "      <td>Porsche</td>\n",
       "      <td>2</td>\n",
       "    </tr>\n",
       "    <tr>\n",
       "      <th>36</th>\n",
       "      <td>Mitsubishi</td>\n",
       "      <td>1</td>\n",
       "    </tr>\n",
       "    <tr>\n",
       "      <th>12</th>\n",
       "      <td>General Motors</td>\n",
       "      <td>1</td>\n",
       "    </tr>\n",
       "    <tr>\n",
       "      <th>51</th>\n",
       "      <td>Subaru</td>\n",
       "      <td>1</td>\n",
       "    </tr>\n",
       "    <tr>\n",
       "      <th>1</th>\n",
       "      <td>Austin-Rover</td>\n",
       "      <td>1</td>\n",
       "    </tr>\n",
       "    <tr>\n",
       "      <th>45</th>\n",
       "      <td>Rolls Royce</td>\n",
       "      <td>1</td>\n",
       "    </tr>\n",
       "    <tr>\n",
       "      <th>43</th>\n",
       "      <td>Renault</td>\n",
       "      <td>1</td>\n",
       "    </tr>\n",
       "    <tr>\n",
       "      <th>56</th>\n",
       "      <td>smart</td>\n",
       "      <td>1</td>\n",
       "    </tr>\n",
       "  </tbody>\n",
       "</table>\n",
       "</div>"
      ],
      "text/plain": [
       "                        Identifier    차대번호\n",
       "16                         Hyundai  601406\n",
       "24                             Kia  207766\n",
       "50                       SsangYong   50939\n",
       "29                             K화물   13927\n",
       "11                       GM Daewoo    7093\n",
       "26                             K승용    6239\n",
       "6                           Daelim    4262\n",
       "28                             K특수    1841\n",
       "55                           Volvo    1612\n",
       "49                         Scania     1355\n",
       "5                        Chevrolet     826\n",
       "48                          Scania     800\n",
       "34                   Mercedes-Benz     618\n",
       "22                            Jeep     517\n",
       "27                             K승합     326\n",
       "32                             MAN     270\n",
       "30                      Land Rover     260\n",
       "20                   Iveco Magirus     198\n",
       "13                            Hino     144\n",
       "47                          Saturn      66\n",
       "9                             Ford      54\n",
       "0                             Audi      45\n",
       "54                      Volkswagen      40\n",
       "35                         Mercury      28\n",
       "2                              BMW      18\n",
       "39                         Peugeot      17\n",
       "3                            Buick       8\n",
       "4                         Cadillac       8\n",
       "41                         Pontiac       6\n",
       "31                         Lincoln       5\n",
       "37                          Nissan       5\n",
       "25             Koenigsegg / Carvia       4\n",
       "18  International Truck and Engine       4\n",
       "40                        Plymouth       4\n",
       "23                        Kenworth       3\n",
       "52                          Suzuki       3\n",
       "8                             Fiat       3\n",
       "44                 Renault Samsung       3\n",
       "21                          Jaguar       3\n",
       "14                           Honda       3\n",
       "10                    Freightliner       3\n",
       "19                           Isuzu       3\n",
       "33                           Mazda       3\n",
       "38                      Oldsmobile       2\n",
       "17                        Infiniti       2\n",
       "53                         Toyota        2\n",
       "15                         Hyosung       2\n",
       "7                            Dodge       2\n",
       "46                            Saab       2\n",
       "42                         Porsche       2\n",
       "36                      Mitsubishi       1\n",
       "12                  General Motors       1\n",
       "51                          Subaru       1\n",
       "1                     Austin-Rover       1\n",
       "45                     Rolls Royce       1\n",
       "43                         Renault       1\n",
       "56                           smart       1"
      ]
     },
     "execution_count": 150,
     "metadata": {},
     "output_type": "execute_result"
    }
   ],
   "source": [
    "# wmi 코드와 매칭되는 데이터 통계\n",
    "nor_iden_group = nor_iden.groupby(['Identifier'], as_index=False)['차대번호'].count().sort_values('차대번호', ascending=False)\n",
    "nor_iden_group"
   ]
  },
  {
   "cell_type": "markdown",
   "metadata": {},
   "source": [
    "###### [출력]제작사별 통계"
   ]
  },
  {
   "cell_type": "code",
   "execution_count": 151,
   "metadata": {},
   "outputs": [
    {
     "name": "stderr",
     "output_type": "stream",
     "text": [
      "C:\\Users\\kbj\\AppData\\Roaming\\Python\\Python39\\site-packages\\pandas\\util\\_decorators.py:211: FutureWarning: the 'encoding' keyword is deprecated and will be removed in a future version. Please take steps to stop the use of 'encoding'\n",
      "  return func(*args, **kwargs)\n"
     ]
    }
   ],
   "source": [
    "nor_iden_group.to_excel('analysis/[차대번호][5등급]제작사별_통계.xlsx', index=False, encoding='cp949')"
   ]
  },
  {
   "cell_type": "markdown",
   "metadata": {},
   "source": [
    "##### 차대번호 정상"
   ]
  },
  {
   "cell_type": "code",
   "execution_count": 152,
   "metadata": {},
   "outputs": [],
   "source": [
    "# - 길이 17자리, IOQ 문자 미포함\n",
    "# - 차대번호 개수(정상 WMI 코드) : 1159739 개"
   ]
  },
  {
   "cell_type": "code",
   "execution_count": 153,
   "metadata": {},
   "outputs": [
    {
     "data": {
      "text/html": [
       "<div>\n",
       "<style scoped>\n",
       "    .dataframe tbody tr th:only-of-type {\n",
       "        vertical-align: middle;\n",
       "    }\n",
       "\n",
       "    .dataframe tbody tr th {\n",
       "        vertical-align: top;\n",
       "    }\n",
       "\n",
       "    .dataframe thead th {\n",
       "        text-align: right;\n",
       "    }\n",
       "</style>\n",
       "<table border=\"1\" class=\"dataframe\">\n",
       "  <thead>\n",
       "    <tr style=\"text-align: right;\">\n",
       "      <th></th>\n",
       "      <th>차량관리번호</th>\n",
       "      <th>차량등록번호</th>\n",
       "      <th>본거지법정동코드</th>\n",
       "      <th>소유자구분</th>\n",
       "      <th>차종_등록정보</th>\n",
       "      <th>용도</th>\n",
       "      <th>차대번호</th>\n",
       "      <th>최초등록일자</th>\n",
       "      <th>차량연식</th>\n",
       "      <th>차량제작일자</th>\n",
       "      <th>...</th>\n",
       "      <th>alpha</th>\n",
       "      <th>wmi</th>\n",
       "      <th>WMI</th>\n",
       "      <th>MF CODE</th>\n",
       "      <th>Identifier</th>\n",
       "      <th>Manufacturer</th>\n",
       "      <th>Country</th>\n",
       "      <th>Vehicle Types</th>\n",
       "      <th>Description</th>\n",
       "      <th>참고</th>\n",
       "    </tr>\n",
       "  </thead>\n",
       "  <tbody>\n",
       "    <tr>\n",
       "      <th>0</th>\n",
       "      <td>KMFXKS7BP2U559698-01</td>\n",
       "      <td>경기91다3109</td>\n",
       "      <td>4111113000</td>\n",
       "      <td>주민</td>\n",
       "      <td>화물</td>\n",
       "      <td>자가용</td>\n",
       "      <td>KMFXKS7BP2U559698</td>\n",
       "      <td>20020201</td>\n",
       "      <td>2002</td>\n",
       "      <td>20020125.0</td>\n",
       "      <td>...</td>\n",
       "      <td>Y</td>\n",
       "      <td>KMF</td>\n",
       "      <td>KMF</td>\n",
       "      <td>HYUN</td>\n",
       "      <td>Hyundai</td>\n",
       "      <td>Hyundai</td>\n",
       "      <td>Korea</td>\n",
       "      <td>Commercail vehicle</td>\n",
       "      <td>NaN</td>\n",
       "      <td>NaN</td>\n",
       "    </tr>\n",
       "    <tr>\n",
       "      <th>1</th>\n",
       "      <td>KMHSJ81WP6U036607-01</td>\n",
       "      <td>05나8578</td>\n",
       "      <td>2820010300</td>\n",
       "      <td>주민</td>\n",
       "      <td>승용</td>\n",
       "      <td>자가용</td>\n",
       "      <td>KMHSJ81WP6U036607</td>\n",
       "      <td>20060310</td>\n",
       "      <td>2006</td>\n",
       "      <td>20060306.0</td>\n",
       "      <td>...</td>\n",
       "      <td>Y</td>\n",
       "      <td>KMH</td>\n",
       "      <td>KMH</td>\n",
       "      <td>HYUN</td>\n",
       "      <td>Hyundai</td>\n",
       "      <td>Hyundai</td>\n",
       "      <td>Korea</td>\n",
       "      <td>Passenger &amp; multi-purpose vehicle</td>\n",
       "      <td>NaN</td>\n",
       "      <td>NaN</td>\n",
       "    </tr>\n",
       "    <tr>\n",
       "      <th>2</th>\n",
       "      <td>KN3HNP6D15K117795-01</td>\n",
       "      <td>95가6292</td>\n",
       "      <td>4519011100</td>\n",
       "      <td>주민</td>\n",
       "      <td>화물</td>\n",
       "      <td>자가용</td>\n",
       "      <td>KN3HNP6D15K117795</td>\n",
       "      <td>20051018</td>\n",
       "      <td>2005</td>\n",
       "      <td>20051014.0</td>\n",
       "      <td>...</td>\n",
       "      <td>Y</td>\n",
       "      <td>KN3</td>\n",
       "      <td>NaN</td>\n",
       "      <td>NaN</td>\n",
       "      <td>NaN</td>\n",
       "      <td>NaN</td>\n",
       "      <td>NaN</td>\n",
       "      <td>NaN</td>\n",
       "      <td>NaN</td>\n",
       "      <td>NaN</td>\n",
       "    </tr>\n",
       "    <tr>\n",
       "      <th>3</th>\n",
       "      <td>KPBFA2AD12P043282-01</td>\n",
       "      <td>09어5181</td>\n",
       "      <td>4833025321</td>\n",
       "      <td>주민</td>\n",
       "      <td>승용</td>\n",
       "      <td>자가용</td>\n",
       "      <td>KPBFA2AD12P043282</td>\n",
       "      <td>20020809</td>\n",
       "      <td>2002</td>\n",
       "      <td>20020808.0</td>\n",
       "      <td>...</td>\n",
       "      <td>Y</td>\n",
       "      <td>KPB</td>\n",
       "      <td>NaN</td>\n",
       "      <td>NaN</td>\n",
       "      <td>NaN</td>\n",
       "      <td>NaN</td>\n",
       "      <td>NaN</td>\n",
       "      <td>NaN</td>\n",
       "      <td>NaN</td>\n",
       "      <td>NaN</td>\n",
       "    </tr>\n",
       "    <tr>\n",
       "      <th>4</th>\n",
       "      <td>KNCSD0112XS452905-01</td>\n",
       "      <td>경기94도2820</td>\n",
       "      <td>4159035029</td>\n",
       "      <td>주민</td>\n",
       "      <td>화물</td>\n",
       "      <td>자가용</td>\n",
       "      <td>KNCSD0112XS452905</td>\n",
       "      <td>19990909</td>\n",
       "      <td>1999</td>\n",
       "      <td>19990828.0</td>\n",
       "      <td>...</td>\n",
       "      <td>Y</td>\n",
       "      <td>KNC</td>\n",
       "      <td>KNC</td>\n",
       "      <td>KIA</td>\n",
       "      <td>Kia</td>\n",
       "      <td>Kia</td>\n",
       "      <td>Korea</td>\n",
       "      <td>Truck</td>\n",
       "      <td>NaN</td>\n",
       "      <td>NaN</td>\n",
       "    </tr>\n",
       "  </tbody>\n",
       "</table>\n",
       "<p>5 rows × 52 columns</p>\n",
       "</div>"
      ],
      "text/plain": [
       "                 차량관리번호     차량등록번호    본거지법정동코드 소유자구분 차종_등록정보   용도  \\\n",
       "0  KMFXKS7BP2U559698-01  경기91다3109  4111113000    주민      화물  자가용   \n",
       "1  KMHSJ81WP6U036607-01    05나8578  2820010300    주민      승용  자가용   \n",
       "2  KN3HNP6D15K117795-01    95가6292  4519011100    주민      화물  자가용   \n",
       "3  KPBFA2AD12P043282-01    09어5181  4833025321    주민      승용  자가용   \n",
       "4  KNCSD0112XS452905-01  경기94도2820  4159035029    주민      화물  자가용   \n",
       "\n",
       "                차대번호    최초등록일자  차량연식      차량제작일자  ...  alpha  wmi  WMI  \\\n",
       "0  KMFXKS7BP2U559698  20020201  2002  20020125.0  ...      Y  KMF  KMF   \n",
       "1  KMHSJ81WP6U036607  20060310  2006  20060306.0  ...      Y  KMH  KMH   \n",
       "2  KN3HNP6D15K117795  20051018  2005  20051014.0  ...      Y  KN3  NaN   \n",
       "3  KPBFA2AD12P043282  20020809  2002  20020808.0  ...      Y  KPB  NaN   \n",
       "4  KNCSD0112XS452905  19990909  1999  19990828.0  ...      Y  KNC  KNC   \n",
       "\n",
       "   MF CODE Identifier Manufacturer Country                      Vehicle Types  \\\n",
       "0     HYUN    Hyundai      Hyundai   Korea                 Commercail vehicle   \n",
       "1     HYUN    Hyundai      Hyundai   Korea  Passenger & multi-purpose vehicle   \n",
       "2      NaN        NaN          NaN     NaN                                NaN   \n",
       "3      NaN        NaN          NaN     NaN                                NaN   \n",
       "4      KIA        Kia          Kia   Korea                              Truck   \n",
       "\n",
       "   Description  참고  \n",
       "0          NaN NaN  \n",
       "1          NaN NaN  \n",
       "2          NaN NaN  \n",
       "3          NaN NaN  \n",
       "4          NaN NaN  \n",
       "\n",
       "[5 rows x 52 columns]"
      ]
     },
     "execution_count": 153,
     "metadata": {},
     "output_type": "execute_result"
    }
   ],
   "source": [
    "nor_vin = df2.loc[(df2['VIN_length'] == 17) & (df2['IOQ'] == 'N')]\n",
    "nor_vin.head()"
   ]
  },
  {
   "cell_type": "code",
   "execution_count": 154,
   "metadata": {},
   "outputs": [
    {
     "data": {
      "text/plain": [
       "(1159739, 52)"
      ]
     },
     "execution_count": 154,
     "metadata": {},
     "output_type": "execute_result"
    }
   ],
   "source": [
    "nor_vin.shape"
   ]
  },
  {
   "cell_type": "code",
   "execution_count": 155,
   "metadata": {},
   "outputs": [
    {
     "data": {
      "text/plain": [
       "(900169, 52)"
      ]
     },
     "execution_count": 155,
     "metadata": {},
     "output_type": "execute_result"
    }
   ],
   "source": [
    "# wmi 코드와 매칭된 데이터\n",
    "nor_iden_by_nor_vin = nor_vin.loc[nor_vin['WMI'].isnull() == False]\n",
    "nor_iden_by_nor_vin.shape"
   ]
  },
  {
   "cell_type": "code",
   "execution_count": 156,
   "metadata": {},
   "outputs": [
    {
     "data": {
      "text/plain": [
       "(259570, 52)"
      ]
     },
     "execution_count": 156,
     "metadata": {},
     "output_type": "execute_result"
    }
   ],
   "source": [
    "# wmi 코드와 매칭안된 데이터\n",
    "nor_vin.loc[nor_vin['WMI'].isnull() == True].shape"
   ]
  },
  {
   "cell_type": "code",
   "execution_count": 157,
   "metadata": {},
   "outputs": [
    {
     "data": {
      "text/plain": [
       "55"
      ]
     },
     "execution_count": 157,
     "metadata": {},
     "output_type": "execute_result"
    }
   ],
   "source": [
    "# wmi 코드와 매칭된 데이터, 제작사 유니크 값 \n",
    "len(nor_iden_by_nor_vin['Identifier'].unique())"
   ]
  },
  {
   "cell_type": "code",
   "execution_count": 158,
   "metadata": {},
   "outputs": [
    {
     "data": {
      "text/plain": [
       "85"
      ]
     },
     "execution_count": 158,
     "metadata": {},
     "output_type": "execute_result"
    }
   ],
   "source": [
    "# wmi 코드와 매칭된 데이터, wmi 유니크 값\n",
    "len(nor_iden_by_nor_vin['WMI'].unique())"
   ]
  },
  {
   "cell_type": "code",
   "execution_count": 159,
   "metadata": {},
   "outputs": [
    {
     "data": {
      "text/html": [
       "<div>\n",
       "<style scoped>\n",
       "    .dataframe tbody tr th:only-of-type {\n",
       "        vertical-align: middle;\n",
       "    }\n",
       "\n",
       "    .dataframe tbody tr th {\n",
       "        vertical-align: top;\n",
       "    }\n",
       "\n",
       "    .dataframe thead th {\n",
       "        text-align: right;\n",
       "    }\n",
       "</style>\n",
       "<table border=\"1\" class=\"dataframe\">\n",
       "  <thead>\n",
       "    <tr style=\"text-align: right;\">\n",
       "      <th></th>\n",
       "      <th>Identifier</th>\n",
       "      <th>차대번호</th>\n",
       "    </tr>\n",
       "  </thead>\n",
       "  <tbody>\n",
       "    <tr>\n",
       "      <th>16</th>\n",
       "      <td>Hyundai</td>\n",
       "      <td>601281</td>\n",
       "    </tr>\n",
       "    <tr>\n",
       "      <th>24</th>\n",
       "      <td>Kia</td>\n",
       "      <td>207664</td>\n",
       "    </tr>\n",
       "    <tr>\n",
       "      <th>48</th>\n",
       "      <td>SsangYong</td>\n",
       "      <td>50785</td>\n",
       "    </tr>\n",
       "    <tr>\n",
       "      <th>28</th>\n",
       "      <td>K화물</td>\n",
       "      <td>13915</td>\n",
       "    </tr>\n",
       "    <tr>\n",
       "      <th>11</th>\n",
       "      <td>GM Daewoo</td>\n",
       "      <td>6983</td>\n",
       "    </tr>\n",
       "    <tr>\n",
       "      <th>25</th>\n",
       "      <td>K승용</td>\n",
       "      <td>6239</td>\n",
       "    </tr>\n",
       "    <tr>\n",
       "      <th>6</th>\n",
       "      <td>Daelim</td>\n",
       "      <td>4257</td>\n",
       "    </tr>\n",
       "    <tr>\n",
       "      <th>27</th>\n",
       "      <td>K특수</td>\n",
       "      <td>1840</td>\n",
       "    </tr>\n",
       "    <tr>\n",
       "      <th>53</th>\n",
       "      <td>Volvo</td>\n",
       "      <td>1573</td>\n",
       "    </tr>\n",
       "    <tr>\n",
       "      <th>47</th>\n",
       "      <td>Scania</td>\n",
       "      <td>1349</td>\n",
       "    </tr>\n",
       "    <tr>\n",
       "      <th>5</th>\n",
       "      <td>Chevrolet</td>\n",
       "      <td>821</td>\n",
       "    </tr>\n",
       "    <tr>\n",
       "      <th>46</th>\n",
       "      <td>Scania</td>\n",
       "      <td>799</td>\n",
       "    </tr>\n",
       "    <tr>\n",
       "      <th>33</th>\n",
       "      <td>Mercedes-Benz</td>\n",
       "      <td>615</td>\n",
       "    </tr>\n",
       "    <tr>\n",
       "      <th>22</th>\n",
       "      <td>Jeep</td>\n",
       "      <td>517</td>\n",
       "    </tr>\n",
       "    <tr>\n",
       "      <th>26</th>\n",
       "      <td>K승합</td>\n",
       "      <td>325</td>\n",
       "    </tr>\n",
       "    <tr>\n",
       "      <th>31</th>\n",
       "      <td>MAN</td>\n",
       "      <td>268</td>\n",
       "    </tr>\n",
       "    <tr>\n",
       "      <th>29</th>\n",
       "      <td>Land Rover</td>\n",
       "      <td>260</td>\n",
       "    </tr>\n",
       "    <tr>\n",
       "      <th>20</th>\n",
       "      <td>Iveco Magirus</td>\n",
       "      <td>197</td>\n",
       "    </tr>\n",
       "    <tr>\n",
       "      <th>13</th>\n",
       "      <td>Hino</td>\n",
       "      <td>144</td>\n",
       "    </tr>\n",
       "    <tr>\n",
       "      <th>45</th>\n",
       "      <td>Saturn</td>\n",
       "      <td>60</td>\n",
       "    </tr>\n",
       "    <tr>\n",
       "      <th>9</th>\n",
       "      <td>Ford</td>\n",
       "      <td>51</td>\n",
       "    </tr>\n",
       "    <tr>\n",
       "      <th>0</th>\n",
       "      <td>Audi</td>\n",
       "      <td>44</td>\n",
       "    </tr>\n",
       "    <tr>\n",
       "      <th>52</th>\n",
       "      <td>Volkswagen</td>\n",
       "      <td>40</td>\n",
       "    </tr>\n",
       "    <tr>\n",
       "      <th>34</th>\n",
       "      <td>Mercury</td>\n",
       "      <td>28</td>\n",
       "    </tr>\n",
       "    <tr>\n",
       "      <th>38</th>\n",
       "      <td>Peugeot</td>\n",
       "      <td>17</td>\n",
       "    </tr>\n",
       "    <tr>\n",
       "      <th>2</th>\n",
       "      <td>BMW</td>\n",
       "      <td>17</td>\n",
       "    </tr>\n",
       "    <tr>\n",
       "      <th>3</th>\n",
       "      <td>Buick</td>\n",
       "      <td>8</td>\n",
       "    </tr>\n",
       "    <tr>\n",
       "      <th>4</th>\n",
       "      <td>Cadillac</td>\n",
       "      <td>8</td>\n",
       "    </tr>\n",
       "    <tr>\n",
       "      <th>40</th>\n",
       "      <td>Pontiac</td>\n",
       "      <td>6</td>\n",
       "    </tr>\n",
       "    <tr>\n",
       "      <th>36</th>\n",
       "      <td>Nissan</td>\n",
       "      <td>5</td>\n",
       "    </tr>\n",
       "    <tr>\n",
       "      <th>30</th>\n",
       "      <td>Lincoln</td>\n",
       "      <td>5</td>\n",
       "    </tr>\n",
       "    <tr>\n",
       "      <th>50</th>\n",
       "      <td>Suzuki</td>\n",
       "      <td>3</td>\n",
       "    </tr>\n",
       "    <tr>\n",
       "      <th>8</th>\n",
       "      <td>Fiat</td>\n",
       "      <td>3</td>\n",
       "    </tr>\n",
       "    <tr>\n",
       "      <th>42</th>\n",
       "      <td>Renault Samsung</td>\n",
       "      <td>3</td>\n",
       "    </tr>\n",
       "    <tr>\n",
       "      <th>39</th>\n",
       "      <td>Plymouth</td>\n",
       "      <td>3</td>\n",
       "    </tr>\n",
       "    <tr>\n",
       "      <th>21</th>\n",
       "      <td>Jaguar</td>\n",
       "      <td>3</td>\n",
       "    </tr>\n",
       "    <tr>\n",
       "      <th>19</th>\n",
       "      <td>Isuzu</td>\n",
       "      <td>3</td>\n",
       "    </tr>\n",
       "    <tr>\n",
       "      <th>10</th>\n",
       "      <td>Freightliner</td>\n",
       "      <td>3</td>\n",
       "    </tr>\n",
       "    <tr>\n",
       "      <th>32</th>\n",
       "      <td>Mazda</td>\n",
       "      <td>3</td>\n",
       "    </tr>\n",
       "    <tr>\n",
       "      <th>18</th>\n",
       "      <td>International Truck and Engine</td>\n",
       "      <td>3</td>\n",
       "    </tr>\n",
       "    <tr>\n",
       "      <th>14</th>\n",
       "      <td>Honda</td>\n",
       "      <td>2</td>\n",
       "    </tr>\n",
       "    <tr>\n",
       "      <th>51</th>\n",
       "      <td>Toyota</td>\n",
       "      <td>2</td>\n",
       "    </tr>\n",
       "    <tr>\n",
       "      <th>44</th>\n",
       "      <td>Saab</td>\n",
       "      <td>2</td>\n",
       "    </tr>\n",
       "    <tr>\n",
       "      <th>37</th>\n",
       "      <td>Oldsmobile</td>\n",
       "      <td>2</td>\n",
       "    </tr>\n",
       "    <tr>\n",
       "      <th>7</th>\n",
       "      <td>Dodge</td>\n",
       "      <td>2</td>\n",
       "    </tr>\n",
       "    <tr>\n",
       "      <th>15</th>\n",
       "      <td>Hyosung</td>\n",
       "      <td>2</td>\n",
       "    </tr>\n",
       "    <tr>\n",
       "      <th>49</th>\n",
       "      <td>Subaru</td>\n",
       "      <td>1</td>\n",
       "    </tr>\n",
       "    <tr>\n",
       "      <th>17</th>\n",
       "      <td>Infiniti</td>\n",
       "      <td>1</td>\n",
       "    </tr>\n",
       "    <tr>\n",
       "      <th>35</th>\n",
       "      <td>Mitsubishi</td>\n",
       "      <td>1</td>\n",
       "    </tr>\n",
       "    <tr>\n",
       "      <th>1</th>\n",
       "      <td>Austin-Rover</td>\n",
       "      <td>1</td>\n",
       "    </tr>\n",
       "    <tr>\n",
       "      <th>43</th>\n",
       "      <td>Rolls Royce</td>\n",
       "      <td>1</td>\n",
       "    </tr>\n",
       "    <tr>\n",
       "      <th>12</th>\n",
       "      <td>General Motors</td>\n",
       "      <td>1</td>\n",
       "    </tr>\n",
       "    <tr>\n",
       "      <th>41</th>\n",
       "      <td>Renault</td>\n",
       "      <td>1</td>\n",
       "    </tr>\n",
       "    <tr>\n",
       "      <th>23</th>\n",
       "      <td>Kenworth</td>\n",
       "      <td>1</td>\n",
       "    </tr>\n",
       "    <tr>\n",
       "      <th>54</th>\n",
       "      <td>smart</td>\n",
       "      <td>1</td>\n",
       "    </tr>\n",
       "  </tbody>\n",
       "</table>\n",
       "</div>"
      ],
      "text/plain": [
       "                        Identifier    차대번호\n",
       "16                         Hyundai  601281\n",
       "24                             Kia  207664\n",
       "48                       SsangYong   50785\n",
       "28                             K화물   13915\n",
       "11                       GM Daewoo    6983\n",
       "25                             K승용    6239\n",
       "6                           Daelim    4257\n",
       "27                             K특수    1840\n",
       "53                           Volvo    1573\n",
       "47                         Scania     1349\n",
       "5                        Chevrolet     821\n",
       "46                          Scania     799\n",
       "33                   Mercedes-Benz     615\n",
       "22                            Jeep     517\n",
       "26                             K승합     325\n",
       "31                             MAN     268\n",
       "29                      Land Rover     260\n",
       "20                   Iveco Magirus     197\n",
       "13                            Hino     144\n",
       "45                          Saturn      60\n",
       "9                             Ford      51\n",
       "0                             Audi      44\n",
       "52                      Volkswagen      40\n",
       "34                         Mercury      28\n",
       "38                         Peugeot      17\n",
       "2                              BMW      17\n",
       "3                            Buick       8\n",
       "4                         Cadillac       8\n",
       "40                         Pontiac       6\n",
       "36                          Nissan       5\n",
       "30                         Lincoln       5\n",
       "50                          Suzuki       3\n",
       "8                             Fiat       3\n",
       "42                 Renault Samsung       3\n",
       "39                        Plymouth       3\n",
       "21                          Jaguar       3\n",
       "19                           Isuzu       3\n",
       "10                    Freightliner       3\n",
       "32                           Mazda       3\n",
       "18  International Truck and Engine       3\n",
       "14                           Honda       2\n",
       "51                         Toyota        2\n",
       "44                            Saab       2\n",
       "37                      Oldsmobile       2\n",
       "7                            Dodge       2\n",
       "15                         Hyosung       2\n",
       "49                          Subaru       1\n",
       "17                        Infiniti       1\n",
       "35                      Mitsubishi       1\n",
       "1                     Austin-Rover       1\n",
       "43                     Rolls Royce       1\n",
       "12                  General Motors       1\n",
       "41                         Renault       1\n",
       "23                        Kenworth       1\n",
       "54                           smart       1"
      ]
     },
     "execution_count": 159,
     "metadata": {},
     "output_type": "execute_result"
    }
   ],
   "source": [
    "# wmi 코드와 매칭된 데이터 통계\n",
    "nor_iden_by_nor_vin_group = nor_iden_by_nor_vin.groupby('Identifier', as_index=False)['차대번호'].count().sort_values('차대번호', ascending=False)\n",
    "nor_iden_by_nor_vin_group"
   ]
  },
  {
   "cell_type": "markdown",
   "metadata": {},
   "source": [
    "###### [출력]제작사별 통계(정상차대번호)"
   ]
  },
  {
   "cell_type": "code",
   "execution_count": 160,
   "metadata": {},
   "outputs": [],
   "source": [
    "# nor_iden_by_nor_vin_group.to_excel('analysis/[차대번호][5등급]제작사별_통계(정상차대번호).xlsx', encoding='cp949')"
   ]
  },
  {
   "cell_type": "markdown",
   "metadata": {},
   "source": [
    "### 7\\. [e]최초등록일자"
   ]
  },
  {
   "cell_type": "code",
   "execution_count": 161,
   "metadata": {},
   "outputs": [],
   "source": [
    "# - 오류\n",
    "#     - null 값 : 0\n",
    "#     - 숫자가 아닌 값 : 0\n",
    "#     - 길이가 8이 아닌 값 : 1"
   ]
  },
  {
   "cell_type": "code",
   "execution_count": 162,
   "metadata": {},
   "outputs": [
    {
     "data": {
      "text/plain": [
       "20060102    3160\n",
       "20070102    2280\n",
       "20040102    2089\n",
       "20050103    2051\n",
       "20060103    1734\n",
       "            ... \n",
       "20000318       1\n",
       "19930706       1\n",
       "19960930       1\n",
       "19840416       1\n",
       "19801222       1\n",
       "Name: 최초등록일자, Length: 15154, dtype: int64"
      ]
     },
     "execution_count": 162,
     "metadata": {},
     "output_type": "execute_result"
    }
   ],
   "source": [
    "df.iloc[:, 7].value_counts()"
   ]
  },
  {
   "cell_type": "code",
   "execution_count": 163,
   "metadata": {},
   "outputs": [
    {
     "data": {
      "text/plain": [
       "0"
      ]
     },
     "execution_count": 163,
     "metadata": {},
     "output_type": "execute_result"
    }
   ],
   "source": [
    "df.iloc[:, 7].isnull().sum()"
   ]
  },
  {
   "cell_type": "code",
   "execution_count": 164,
   "metadata": {},
   "outputs": [
    {
     "name": "stderr",
     "output_type": "stream",
     "text": [
      "1186488it [00:01, 846603.82it/s]\n"
     ]
    },
    {
     "data": {
      "text/plain": [
       "0"
      ]
     },
     "execution_count": 164,
     "metadata": {},
     "output_type": "execute_result"
    }
   ],
   "source": [
    "# 숫자가 포함되지 않은 샘플\n",
    "count = 0\n",
    "p7 = re.compile('\\d+')\n",
    "idx7 = []\n",
    "for i, one in tqdm(enumerate(df.iloc[:, 7].to_numpy())):\n",
    "    if not p7.search(str(one)):\n",
    "        idx7.append(i)\n",
    "        count += 1\n",
    "count"
   ]
  },
  {
   "cell_type": "code",
   "execution_count": 165,
   "metadata": {},
   "outputs": [
    {
     "name": "stderr",
     "output_type": "stream",
     "text": [
      "1186488it [00:00, 1361089.42it/s]\n"
     ]
    },
    {
     "data": {
      "text/plain": [
       "1"
      ]
     },
     "execution_count": 165,
     "metadata": {},
     "output_type": "execute_result"
    }
   ],
   "source": [
    "# 길이가 8이 아닌 샘플\n",
    "count = 0\n",
    "idx71 = []\n",
    "for i, one in tqdm(enumerate(df.iloc[:, 7].to_numpy())):\n",
    "    if len(str(one)) != 8:\n",
    "        idx71.append(i)\n",
    "        count += 1\n",
    "count"
   ]
  },
  {
   "cell_type": "code",
   "execution_count": 166,
   "metadata": {},
   "outputs": [
    {
     "data": {
      "text/plain": [
       "174352    21227\n",
       "Name: 최초등록일자, dtype: object"
      ]
     },
     "execution_count": 166,
     "metadata": {},
     "output_type": "execute_result"
    }
   ],
   "source": [
    "# 길이가 8이 아닌 샘플 예시\n",
    "df.iloc[:, 7].reindex(idx71)"
   ]
  },
  {
   "cell_type": "markdown",
   "metadata": {},
   "source": [
    "### 8\\. 차량연식"
   ]
  },
  {
   "cell_type": "code",
   "execution_count": 167,
   "metadata": {},
   "outputs": [],
   "source": [
    "# - 오류\n",
    "#     - null 값 : 0\n",
    "#     - 길이 4 아닌 값 : 0\n",
    "#     - 숫자가 아닌 값 : 0"
   ]
  },
  {
   "cell_type": "code",
   "execution_count": 168,
   "metadata": {},
   "outputs": [
    {
     "data": {
      "text/plain": [
       "2007    137416\n",
       "2005    136679\n",
       "2006    124402\n",
       "2004    116163\n",
       "2002     99242\n",
       "         ...  \n",
       "1907         1\n",
       "1905         1\n",
       "2016         1\n",
       "1913         1\n",
       "1900         1\n",
       "Name: 차량연식, Length: 75, dtype: int64"
      ]
     },
     "execution_count": 168,
     "metadata": {},
     "output_type": "execute_result"
    }
   ],
   "source": [
    "df.iloc[:, 8].value_counts()"
   ]
  },
  {
   "cell_type": "code",
   "execution_count": 169,
   "metadata": {},
   "outputs": [
    {
     "data": {
      "text/plain": [
       "0"
      ]
     },
     "execution_count": 169,
     "metadata": {},
     "output_type": "execute_result"
    }
   ],
   "source": [
    "df.iloc[:, 8].isnull().sum()"
   ]
  },
  {
   "cell_type": "code",
   "execution_count": 170,
   "metadata": {},
   "outputs": [
    {
     "name": "stderr",
     "output_type": "stream",
     "text": [
      "1186488it [00:01, 832592.68it/s]\n"
     ]
    },
    {
     "data": {
      "text/plain": [
       "0"
      ]
     },
     "execution_count": 170,
     "metadata": {},
     "output_type": "execute_result"
    }
   ],
   "source": [
    "count = 0\n",
    "idx8 = []\n",
    "for i, one in tqdm(enumerate(df.iloc[:, 8].to_numpy())):\n",
    "    if len(str(one)) != 4:\n",
    "        idx8.append(i)\n",
    "        count += 1\n",
    "count"
   ]
  },
  {
   "cell_type": "code",
   "execution_count": 171,
   "metadata": {},
   "outputs": [
    {
     "name": "stderr",
     "output_type": "stream",
     "text": [
      "1186488it [00:01, 627094.95it/s]\n"
     ]
    },
    {
     "data": {
      "text/plain": [
       "0"
      ]
     },
     "execution_count": 171,
     "metadata": {},
     "output_type": "execute_result"
    }
   ],
   "source": [
    "# 숫자가 포함되지 않은 샘플\n",
    "count = 0\n",
    "p81 = re.compile('\\d+')\n",
    "idx81 = []\n",
    "for i, one in tqdm(enumerate(df.iloc[:, 8].to_numpy())):\n",
    "    if not p81.search(str(one)):\n",
    "        idx81.append(i)\n",
    "        count += 1\n",
    "count"
   ]
  },
  {
   "cell_type": "markdown",
   "metadata": {},
   "source": [
    "### 9\\. [e]차량제작일자"
   ]
  },
  {
   "cell_type": "code",
   "execution_count": 172,
   "metadata": {},
   "outputs": [],
   "source": [
    "# - 오류\n",
    "#     - null : 196895\n",
    "#     - 8자리 아닌 값(null값 제외) : \n",
    "#     - 숫자가 아닌 값(null값 제외) : "
   ]
  },
  {
   "cell_type": "code",
   "execution_count": 173,
   "metadata": {},
   "outputs": [
    {
     "data": {
      "text/plain": [
       "196895"
      ]
     },
     "execution_count": 173,
     "metadata": {},
     "output_type": "execute_result"
    }
   ],
   "source": [
    "df.iloc[:, 9].isnull().sum()"
   ]
  },
  {
   "cell_type": "code",
   "execution_count": 174,
   "metadata": {},
   "outputs": [
    {
     "data": {
      "text/plain": [
       "20040202.0    1295\n",
       "20011201.0    1294\n",
       "20060701.0    1293\n",
       "20040630.0     880\n",
       "20060425.0     856\n",
       "              ... \n",
       "19830124.0       1\n",
       "19980715         1\n",
       "19670902.0       1\n",
       "19970612         1\n",
       "19880930.0       1\n",
       "Name: 차량제작일자, Length: 11510, dtype: int64"
      ]
     },
     "execution_count": 174,
     "metadata": {},
     "output_type": "execute_result"
    }
   ],
   "source": [
    "df.iloc[:, 9].value_counts()"
   ]
  },
  {
   "cell_type": "code",
   "execution_count": 199,
   "metadata": {},
   "outputs": [
    {
     "ename": "ValueError",
     "evalue": "invalid literal for int() with base 10: '1996 308'",
     "output_type": "error",
     "traceback": [
      "\u001b[1;31m---------------------------------------------------------------------------\u001b[0m",
      "\u001b[1;31mValueError\u001b[0m                                Traceback (most recent call last)",
      "\u001b[1;32m~\\AppData\\Local\\Temp\\ipykernel_3920\\1336780639.py\u001b[0m in \u001b[0;36m<module>\u001b[1;34m\u001b[0m\n\u001b[1;32m----> 1\u001b[1;33m \u001b[0mdf\u001b[0m\u001b[1;33m.\u001b[0m\u001b[0miloc\u001b[0m\u001b[1;33m[\u001b[0m\u001b[1;33m:\u001b[0m\u001b[1;33m,\u001b[0m \u001b[1;36m9\u001b[0m\u001b[1;33m]\u001b[0m\u001b[1;33m.\u001b[0m\u001b[0mfillna\u001b[0m\u001b[1;33m(\u001b[0m\u001b[1;36m0\u001b[0m\u001b[1;33m)\u001b[0m\u001b[1;33m.\u001b[0m\u001b[0mastype\u001b[0m\u001b[1;33m(\u001b[0m\u001b[1;34m'int'\u001b[0m\u001b[1;33m)\u001b[0m\u001b[1;33m\u001b[0m\u001b[1;33m\u001b[0m\u001b[0m\n\u001b[0m",
      "\u001b[1;32m~\\AppData\\Roaming\\Python\\Python39\\site-packages\\pandas\\core\\generic.py\u001b[0m in \u001b[0;36mastype\u001b[1;34m(self, dtype, copy, errors)\u001b[0m\n\u001b[0;32m   6238\u001b[0m         \u001b[1;32melse\u001b[0m\u001b[1;33m:\u001b[0m\u001b[1;33m\u001b[0m\u001b[1;33m\u001b[0m\u001b[0m\n\u001b[0;32m   6239\u001b[0m             \u001b[1;31m# else, only a single dtype is given\u001b[0m\u001b[1;33m\u001b[0m\u001b[1;33m\u001b[0m\u001b[0m\n\u001b[1;32m-> 6240\u001b[1;33m             \u001b[0mnew_data\u001b[0m \u001b[1;33m=\u001b[0m \u001b[0mself\u001b[0m\u001b[1;33m.\u001b[0m\u001b[0m_mgr\u001b[0m\u001b[1;33m.\u001b[0m\u001b[0mastype\u001b[0m\u001b[1;33m(\u001b[0m\u001b[0mdtype\u001b[0m\u001b[1;33m=\u001b[0m\u001b[0mdtype\u001b[0m\u001b[1;33m,\u001b[0m \u001b[0mcopy\u001b[0m\u001b[1;33m=\u001b[0m\u001b[0mcopy\u001b[0m\u001b[1;33m,\u001b[0m \u001b[0merrors\u001b[0m\u001b[1;33m=\u001b[0m\u001b[0merrors\u001b[0m\u001b[1;33m)\u001b[0m\u001b[1;33m\u001b[0m\u001b[1;33m\u001b[0m\u001b[0m\n\u001b[0m\u001b[0;32m   6241\u001b[0m             \u001b[1;32mreturn\u001b[0m \u001b[0mself\u001b[0m\u001b[1;33m.\u001b[0m\u001b[0m_constructor\u001b[0m\u001b[1;33m(\u001b[0m\u001b[0mnew_data\u001b[0m\u001b[1;33m)\u001b[0m\u001b[1;33m.\u001b[0m\u001b[0m__finalize__\u001b[0m\u001b[1;33m(\u001b[0m\u001b[0mself\u001b[0m\u001b[1;33m,\u001b[0m \u001b[0mmethod\u001b[0m\u001b[1;33m=\u001b[0m\u001b[1;34m\"astype\"\u001b[0m\u001b[1;33m)\u001b[0m\u001b[1;33m\u001b[0m\u001b[1;33m\u001b[0m\u001b[0m\n\u001b[0;32m   6242\u001b[0m \u001b[1;33m\u001b[0m\u001b[0m\n",
      "\u001b[1;32m~\\AppData\\Roaming\\Python\\Python39\\site-packages\\pandas\\core\\internals\\managers.py\u001b[0m in \u001b[0;36mastype\u001b[1;34m(self, dtype, copy, errors)\u001b[0m\n\u001b[0;32m    443\u001b[0m \u001b[1;33m\u001b[0m\u001b[0m\n\u001b[0;32m    444\u001b[0m     \u001b[1;32mdef\u001b[0m \u001b[0mastype\u001b[0m\u001b[1;33m(\u001b[0m\u001b[0mself\u001b[0m\u001b[1;33m:\u001b[0m \u001b[0mT\u001b[0m\u001b[1;33m,\u001b[0m \u001b[0mdtype\u001b[0m\u001b[1;33m,\u001b[0m \u001b[0mcopy\u001b[0m\u001b[1;33m:\u001b[0m \u001b[0mbool\u001b[0m \u001b[1;33m=\u001b[0m \u001b[1;32mFalse\u001b[0m\u001b[1;33m,\u001b[0m \u001b[0merrors\u001b[0m\u001b[1;33m:\u001b[0m \u001b[0mstr\u001b[0m \u001b[1;33m=\u001b[0m \u001b[1;34m\"raise\"\u001b[0m\u001b[1;33m)\u001b[0m \u001b[1;33m->\u001b[0m \u001b[0mT\u001b[0m\u001b[1;33m:\u001b[0m\u001b[1;33m\u001b[0m\u001b[1;33m\u001b[0m\u001b[0m\n\u001b[1;32m--> 445\u001b[1;33m         \u001b[1;32mreturn\u001b[0m \u001b[0mself\u001b[0m\u001b[1;33m.\u001b[0m\u001b[0mapply\u001b[0m\u001b[1;33m(\u001b[0m\u001b[1;34m\"astype\"\u001b[0m\u001b[1;33m,\u001b[0m \u001b[0mdtype\u001b[0m\u001b[1;33m=\u001b[0m\u001b[0mdtype\u001b[0m\u001b[1;33m,\u001b[0m \u001b[0mcopy\u001b[0m\u001b[1;33m=\u001b[0m\u001b[0mcopy\u001b[0m\u001b[1;33m,\u001b[0m \u001b[0merrors\u001b[0m\u001b[1;33m=\u001b[0m\u001b[0merrors\u001b[0m\u001b[1;33m)\u001b[0m\u001b[1;33m\u001b[0m\u001b[1;33m\u001b[0m\u001b[0m\n\u001b[0m\u001b[0;32m    446\u001b[0m \u001b[1;33m\u001b[0m\u001b[0m\n\u001b[0;32m    447\u001b[0m     def convert(\n",
      "\u001b[1;32m~\\AppData\\Roaming\\Python\\Python39\\site-packages\\pandas\\core\\internals\\managers.py\u001b[0m in \u001b[0;36mapply\u001b[1;34m(self, f, align_keys, ignore_failures, **kwargs)\u001b[0m\n\u001b[0;32m    345\u001b[0m                     \u001b[0mapplied\u001b[0m \u001b[1;33m=\u001b[0m \u001b[0mb\u001b[0m\u001b[1;33m.\u001b[0m\u001b[0mapply\u001b[0m\u001b[1;33m(\u001b[0m\u001b[0mf\u001b[0m\u001b[1;33m,\u001b[0m \u001b[1;33m**\u001b[0m\u001b[0mkwargs\u001b[0m\u001b[1;33m)\u001b[0m\u001b[1;33m\u001b[0m\u001b[1;33m\u001b[0m\u001b[0m\n\u001b[0;32m    346\u001b[0m                 \u001b[1;32melse\u001b[0m\u001b[1;33m:\u001b[0m\u001b[1;33m\u001b[0m\u001b[1;33m\u001b[0m\u001b[0m\n\u001b[1;32m--> 347\u001b[1;33m                     \u001b[0mapplied\u001b[0m \u001b[1;33m=\u001b[0m \u001b[0mgetattr\u001b[0m\u001b[1;33m(\u001b[0m\u001b[0mb\u001b[0m\u001b[1;33m,\u001b[0m \u001b[0mf\u001b[0m\u001b[1;33m)\u001b[0m\u001b[1;33m(\u001b[0m\u001b[1;33m**\u001b[0m\u001b[0mkwargs\u001b[0m\u001b[1;33m)\u001b[0m\u001b[1;33m\u001b[0m\u001b[1;33m\u001b[0m\u001b[0m\n\u001b[0m\u001b[0;32m    348\u001b[0m             \u001b[1;32mexcept\u001b[0m \u001b[1;33m(\u001b[0m\u001b[0mTypeError\u001b[0m\u001b[1;33m,\u001b[0m \u001b[0mNotImplementedError\u001b[0m\u001b[1;33m)\u001b[0m\u001b[1;33m:\u001b[0m\u001b[1;33m\u001b[0m\u001b[1;33m\u001b[0m\u001b[0m\n\u001b[0;32m    349\u001b[0m                 \u001b[1;32mif\u001b[0m \u001b[1;32mnot\u001b[0m \u001b[0mignore_failures\u001b[0m\u001b[1;33m:\u001b[0m\u001b[1;33m\u001b[0m\u001b[1;33m\u001b[0m\u001b[0m\n",
      "\u001b[1;32m~\\AppData\\Roaming\\Python\\Python39\\site-packages\\pandas\\core\\internals\\blocks.py\u001b[0m in \u001b[0;36mastype\u001b[1;34m(self, dtype, copy, errors)\u001b[0m\n\u001b[0;32m    524\u001b[0m         \u001b[0mvalues\u001b[0m \u001b[1;33m=\u001b[0m \u001b[0mself\u001b[0m\u001b[1;33m.\u001b[0m\u001b[0mvalues\u001b[0m\u001b[1;33m\u001b[0m\u001b[1;33m\u001b[0m\u001b[0m\n\u001b[0;32m    525\u001b[0m \u001b[1;33m\u001b[0m\u001b[0m\n\u001b[1;32m--> 526\u001b[1;33m         \u001b[0mnew_values\u001b[0m \u001b[1;33m=\u001b[0m \u001b[0mastype_array_safe\u001b[0m\u001b[1;33m(\u001b[0m\u001b[0mvalues\u001b[0m\u001b[1;33m,\u001b[0m \u001b[0mdtype\u001b[0m\u001b[1;33m,\u001b[0m \u001b[0mcopy\u001b[0m\u001b[1;33m=\u001b[0m\u001b[0mcopy\u001b[0m\u001b[1;33m,\u001b[0m \u001b[0merrors\u001b[0m\u001b[1;33m=\u001b[0m\u001b[0merrors\u001b[0m\u001b[1;33m)\u001b[0m\u001b[1;33m\u001b[0m\u001b[1;33m\u001b[0m\u001b[0m\n\u001b[0m\u001b[0;32m    527\u001b[0m \u001b[1;33m\u001b[0m\u001b[0m\n\u001b[0;32m    528\u001b[0m         \u001b[0mnew_values\u001b[0m \u001b[1;33m=\u001b[0m \u001b[0mmaybe_coerce_values\u001b[0m\u001b[1;33m(\u001b[0m\u001b[0mnew_values\u001b[0m\u001b[1;33m)\u001b[0m\u001b[1;33m\u001b[0m\u001b[1;33m\u001b[0m\u001b[0m\n",
      "\u001b[1;32m~\\AppData\\Roaming\\Python\\Python39\\site-packages\\pandas\\core\\dtypes\\astype.py\u001b[0m in \u001b[0;36mastype_array_safe\u001b[1;34m(values, dtype, copy, errors)\u001b[0m\n\u001b[0;32m    297\u001b[0m \u001b[1;33m\u001b[0m\u001b[0m\n\u001b[0;32m    298\u001b[0m     \u001b[1;32mtry\u001b[0m\u001b[1;33m:\u001b[0m\u001b[1;33m\u001b[0m\u001b[1;33m\u001b[0m\u001b[0m\n\u001b[1;32m--> 299\u001b[1;33m         \u001b[0mnew_values\u001b[0m \u001b[1;33m=\u001b[0m \u001b[0mastype_array\u001b[0m\u001b[1;33m(\u001b[0m\u001b[0mvalues\u001b[0m\u001b[1;33m,\u001b[0m \u001b[0mdtype\u001b[0m\u001b[1;33m,\u001b[0m \u001b[0mcopy\u001b[0m\u001b[1;33m=\u001b[0m\u001b[0mcopy\u001b[0m\u001b[1;33m)\u001b[0m\u001b[1;33m\u001b[0m\u001b[1;33m\u001b[0m\u001b[0m\n\u001b[0m\u001b[0;32m    300\u001b[0m     \u001b[1;32mexcept\u001b[0m \u001b[1;33m(\u001b[0m\u001b[0mValueError\u001b[0m\u001b[1;33m,\u001b[0m \u001b[0mTypeError\u001b[0m\u001b[1;33m)\u001b[0m\u001b[1;33m:\u001b[0m\u001b[1;33m\u001b[0m\u001b[1;33m\u001b[0m\u001b[0m\n\u001b[0;32m    301\u001b[0m         \u001b[1;31m# e.g. astype_nansafe can fail on object-dtype of strings\u001b[0m\u001b[1;33m\u001b[0m\u001b[1;33m\u001b[0m\u001b[0m\n",
      "\u001b[1;32m~\\AppData\\Roaming\\Python\\Python39\\site-packages\\pandas\\core\\dtypes\\astype.py\u001b[0m in \u001b[0;36mastype_array\u001b[1;34m(values, dtype, copy)\u001b[0m\n\u001b[0;32m    228\u001b[0m \u001b[1;33m\u001b[0m\u001b[0m\n\u001b[0;32m    229\u001b[0m     \u001b[1;32melse\u001b[0m\u001b[1;33m:\u001b[0m\u001b[1;33m\u001b[0m\u001b[1;33m\u001b[0m\u001b[0m\n\u001b[1;32m--> 230\u001b[1;33m         \u001b[0mvalues\u001b[0m \u001b[1;33m=\u001b[0m \u001b[0mastype_nansafe\u001b[0m\u001b[1;33m(\u001b[0m\u001b[0mvalues\u001b[0m\u001b[1;33m,\u001b[0m \u001b[0mdtype\u001b[0m\u001b[1;33m,\u001b[0m \u001b[0mcopy\u001b[0m\u001b[1;33m=\u001b[0m\u001b[0mcopy\u001b[0m\u001b[1;33m)\u001b[0m\u001b[1;33m\u001b[0m\u001b[1;33m\u001b[0m\u001b[0m\n\u001b[0m\u001b[0;32m    231\u001b[0m \u001b[1;33m\u001b[0m\u001b[0m\n\u001b[0;32m    232\u001b[0m     \u001b[1;31m# in pandas we don't store numpy str dtypes, so convert to object\u001b[0m\u001b[1;33m\u001b[0m\u001b[1;33m\u001b[0m\u001b[0m\n",
      "\u001b[1;32m~\\AppData\\Roaming\\Python\\Python39\\site-packages\\pandas\\core\\dtypes\\astype.py\u001b[0m in \u001b[0;36mastype_nansafe\u001b[1;34m(arr, dtype, copy, skipna)\u001b[0m\n\u001b[0;32m    168\u001b[0m     \u001b[1;32mif\u001b[0m \u001b[0mcopy\u001b[0m \u001b[1;32mor\u001b[0m \u001b[0mis_object_dtype\u001b[0m\u001b[1;33m(\u001b[0m\u001b[0marr\u001b[0m\u001b[1;33m.\u001b[0m\u001b[0mdtype\u001b[0m\u001b[1;33m)\u001b[0m \u001b[1;32mor\u001b[0m \u001b[0mis_object_dtype\u001b[0m\u001b[1;33m(\u001b[0m\u001b[0mdtype\u001b[0m\u001b[1;33m)\u001b[0m\u001b[1;33m:\u001b[0m\u001b[1;33m\u001b[0m\u001b[1;33m\u001b[0m\u001b[0m\n\u001b[0;32m    169\u001b[0m         \u001b[1;31m# Explicit copy, or required since NumPy can't view from / to object.\u001b[0m\u001b[1;33m\u001b[0m\u001b[1;33m\u001b[0m\u001b[0m\n\u001b[1;32m--> 170\u001b[1;33m         \u001b[1;32mreturn\u001b[0m \u001b[0marr\u001b[0m\u001b[1;33m.\u001b[0m\u001b[0mastype\u001b[0m\u001b[1;33m(\u001b[0m\u001b[0mdtype\u001b[0m\u001b[1;33m,\u001b[0m \u001b[0mcopy\u001b[0m\u001b[1;33m=\u001b[0m\u001b[1;32mTrue\u001b[0m\u001b[1;33m)\u001b[0m\u001b[1;33m\u001b[0m\u001b[1;33m\u001b[0m\u001b[0m\n\u001b[0m\u001b[0;32m    171\u001b[0m \u001b[1;33m\u001b[0m\u001b[0m\n\u001b[0;32m    172\u001b[0m     \u001b[1;32mreturn\u001b[0m \u001b[0marr\u001b[0m\u001b[1;33m.\u001b[0m\u001b[0mastype\u001b[0m\u001b[1;33m(\u001b[0m\u001b[0mdtype\u001b[0m\u001b[1;33m,\u001b[0m \u001b[0mcopy\u001b[0m\u001b[1;33m=\u001b[0m\u001b[0mcopy\u001b[0m\u001b[1;33m)\u001b[0m\u001b[1;33m\u001b[0m\u001b[1;33m\u001b[0m\u001b[0m\n",
      "\u001b[1;31mValueError\u001b[0m: invalid literal for int() with base 10: '1996 308'"
     ]
    }
   ],
   "source": [
    "# df.iloc[:, 9].fillna(0).astype('int')"
   ]
  },
  {
   "cell_type": "code",
   "execution_count": 195,
   "metadata": {},
   "outputs": [
    {
     "data": {
      "text/plain": [
       "0    20020125.0\n",
       "1    20060306.0\n",
       "2    20051014.0\n",
       "3    20020808.0\n",
       "4    19990828.0\n",
       "Name: 차량제작일자, dtype: float64"
      ]
     },
     "execution_count": 195,
     "metadata": {},
     "output_type": "execute_result"
    }
   ],
   "source": [
    "temp9 = pd.to_numeric(df.iloc[:, 9], errors='coerce').fillna(0)\n",
    "temp9[:5]"
   ]
  },
  {
   "cell_type": "code",
   "execution_count": 178,
   "metadata": {},
   "outputs": [
    {
     "data": {
      "text/html": [
       "<div>\n",
       "<style scoped>\n",
       "    .dataframe tbody tr th:only-of-type {\n",
       "        vertical-align: middle;\n",
       "    }\n",
       "\n",
       "    .dataframe tbody tr th {\n",
       "        vertical-align: top;\n",
       "    }\n",
       "\n",
       "    .dataframe thead th {\n",
       "        text-align: right;\n",
       "    }\n",
       "</style>\n",
       "<table border=\"1\" class=\"dataframe\">\n",
       "  <thead>\n",
       "    <tr style=\"text-align: right;\">\n",
       "      <th></th>\n",
       "      <th>차량관리번호</th>\n",
       "      <th>차량등록번호</th>\n",
       "      <th>차대번호</th>\n",
       "      <th>차량제작일자</th>\n",
       "    </tr>\n",
       "  </thead>\n",
       "  <tbody>\n",
       "    <tr>\n",
       "      <th>998881</th>\n",
       "      <td>KNAJA5265TA751541-01</td>\n",
       "      <td>인천32나6035</td>\n",
       "      <td>KNAJA5265TA751541</td>\n",
       "      <td>1996 308</td>\n",
       "    </tr>\n",
       "  </tbody>\n",
       "</table>\n",
       "</div>"
      ],
      "text/plain": [
       "                      차량관리번호     차량등록번호               차대번호    차량제작일자\n",
       "998881  KNAJA5265TA751541-01  인천32나6035  KNAJA5265TA751541  1996 308"
      ]
     },
     "execution_count": 178,
     "metadata": {},
     "output_type": "execute_result"
    }
   ],
   "source": [
    "df.loc[df['차량제작일자'] == '1996 308', ['차량관리번호', '차량등록번호', '차대번호', '차량제작일자']]"
   ]
  },
  {
   "cell_type": "code",
   "execution_count": 187,
   "metadata": {},
   "outputs": [
    {
     "data": {
      "text/plain": [
       "17"
      ]
     },
     "execution_count": 187,
     "metadata": {},
     "output_type": "execute_result"
    }
   ],
   "source": [
    "len(df.loc[df['차량제작일자'] == '1996 308', '차대번호'].values[0])"
   ]
  },
  {
   "cell_type": "code",
   "execution_count": 188,
   "metadata": {},
   "outputs": [
    {
     "data": {
      "text/plain": [
       "'T'"
      ]
     },
     "execution_count": 188,
     "metadata": {},
     "output_type": "execute_result"
    }
   ],
   "source": [
    "df.loc[df['차량제작일자'] == '1996 308', '차대번호'].values[0][9]"
   ]
  },
  {
   "cell_type": "code",
   "execution_count": 190,
   "metadata": {},
   "outputs": [],
   "source": [
    "# 차대번호 10번째 자리 값으로 차량연식 확인 가능\n",
    "# 예시) T -> 1996년"
   ]
  },
  {
   "cell_type": "code",
   "execution_count": 200,
   "metadata": {},
   "outputs": [
    {
     "name": "stderr",
     "output_type": "stream",
     "text": [
      "1186488it [00:01, 712303.41it/s]\n"
     ]
    },
    {
     "data": {
      "text/plain": [
       "1186488"
      ]
     },
     "execution_count": 200,
     "metadata": {},
     "output_type": "execute_result"
    }
   ],
   "source": [
    "# 길이가 8이 아닌 값 : 1186488\n",
    "count = 0\n",
    "idx91 = []\n",
    "for i, one in tqdm(enumerate(temp9.to_numpy())):\n",
    "    if len(str(one)) != 8:\n",
    "        idx91.append(i)\n",
    "        count += 1\n",
    "count"
   ]
  },
  {
   "cell_type": "code",
   "execution_count": 54,
   "metadata": {},
   "outputs": [
    {
     "name": "stderr",
     "output_type": "stream",
     "text": [
      "1528586it [00:00, 1665677.09it/s]\n"
     ]
    },
    {
     "data": {
      "text/plain": [
       "169661"
      ]
     },
     "execution_count": 54,
     "metadata": {},
     "output_type": "execute_result"
    }
   ],
   "source": [
    "# null 값 :  개\n",
    "count = 0\n",
    "idx92 = []\n",
    "for i, one in tqdm(enumerate(temp9.to_numpy())):\n",
    "    if one == 0:\n",
    "        idx92.append(i)\n",
    "        count += 1\n",
    "count"
   ]
  },
  {
   "cell_type": "code",
   "execution_count": 55,
   "metadata": {},
   "outputs": [
    {
     "data": {
      "text/plain": [
       "4"
      ]
     },
     "execution_count": 55,
     "metadata": {},
     "output_type": "execute_result"
    }
   ],
   "source": [
    "# 길이가 8이 아닌 값 중 null 값 제외 값 :  개\n",
    "len(list(set(idx91)^set(idx92)))"
   ]
  },
  {
   "cell_type": "code",
   "execution_count": 56,
   "metadata": {},
   "outputs": [
    {
     "data": {
      "text/plain": [
       "110669        1993\n",
       "1202200    2100819\n",
       "777510     9950407\n",
       "489146     9960617\n",
       "Name: 차량제작일자, dtype: int32"
      ]
     },
     "execution_count": 56,
     "metadata": {},
     "output_type": "execute_result"
    }
   ],
   "source": [
    "temp9.reindex(list(set(idx91)^set(idx92)))"
   ]
  },
  {
   "cell_type": "code",
   "execution_count": 57,
   "metadata": {},
   "outputs": [
    {
     "name": "stderr",
     "output_type": "stream",
     "text": [
      "1528586it [00:02, 673383.50it/s]\n"
     ]
    },
    {
     "data": {
      "text/plain": [
       "0"
      ]
     },
     "execution_count": 57,
     "metadata": {},
     "output_type": "execute_result"
    }
   ],
   "source": [
    "# 숫자가 아닌 값 :  개\n",
    "count = 0\n",
    "p93 = re.compile('\\d+')\n",
    "idx93 = []\n",
    "for i, one in tqdm(enumerate(temp9.to_numpy())):\n",
    "    if not p93.search(str(one)):\n",
    "        idx93.append(i)\n",
    "        count += 1\n",
    "count"
   ]
  },
  {
   "cell_type": "markdown",
   "metadata": {},
   "source": [
    "### 10\\. [e]검사유효일"
   ]
  },
  {
   "cell_type": "code",
   "execution_count": null,
   "metadata": {},
   "outputs": [],
   "source": [
    "# - 오류\n",
    "#     - null :  개\n",
    "#     - 8자리 아닌 값 :  개\n",
    "#     - 숫자가 아닌 값(nan값 제외) :  개"
   ]
  },
  {
   "cell_type": "code",
   "execution_count": 58,
   "metadata": {},
   "outputs": [
    {
     "data": {
      "text/plain": [
       "12"
      ]
     },
     "execution_count": 58,
     "metadata": {},
     "output_type": "execute_result"
    }
   ],
   "source": [
    "df.iloc[:, 10].isnull().sum()"
   ]
  },
  {
   "cell_type": "code",
   "execution_count": 59,
   "metadata": {},
   "outputs": [
    {
     "data": {
      "text/plain": [
       "20200103.0    3335\n",
       "20200101.0    3304\n",
       "20200102.0    3132\n",
       "20210101.0    3017\n",
       "20190831.0    2346\n",
       "              ... \n",
       "21060605.0       1\n",
       "19901201.0       1\n",
       "19900208.0       1\n",
       "19900510.0       1\n",
       "20250908.0       1\n",
       "Name: 검사유효일, Length: 12510, dtype: int64"
      ]
     },
     "execution_count": 59,
     "metadata": {},
     "output_type": "execute_result"
    }
   ],
   "source": [
    "df.iloc[:, 10].value_counts()"
   ]
  },
  {
   "cell_type": "code",
   "execution_count": 60,
   "metadata": {},
   "outputs": [
    {
     "data": {
      "text/plain": [
       "0    20200508\n",
       "1    20210101\n",
       "2    20230130\n",
       "3    20210211\n",
       "4    20221231\n",
       "Name: 검사유효일, dtype: int32"
      ]
     },
     "execution_count": 60,
     "metadata": {},
     "output_type": "execute_result"
    }
   ],
   "source": [
    "temp10 = df.iloc[:, 10].fillna(0).astype('int')\n",
    "temp10[:5]"
   ]
  },
  {
   "cell_type": "code",
   "execution_count": 61,
   "metadata": {},
   "outputs": [
    {
     "name": "stderr",
     "output_type": "stream",
     "text": [
      "1528586it [00:01, 903427.18it/s]\n"
     ]
    },
    {
     "data": {
      "text/plain": [
       "12"
      ]
     },
     "execution_count": 61,
     "metadata": {},
     "output_type": "execute_result"
    }
   ],
   "source": [
    "# 길이가 8이 아닌 값 :  개\n",
    "count = 0\n",
    "idx101 = []\n",
    "for i, one in tqdm(enumerate(temp10.to_numpy())):\n",
    "    if len(str(one)) != 8:\n",
    "        idx101.append(i)\n",
    "        count += 1\n",
    "count"
   ]
  },
  {
   "cell_type": "code",
   "execution_count": 62,
   "metadata": {},
   "outputs": [
    {
     "name": "stderr",
     "output_type": "stream",
     "text": [
      "1528586it [00:00, 1756496.47it/s]\n"
     ]
    },
    {
     "data": {
      "text/plain": [
       "12"
      ]
     },
     "execution_count": 62,
     "metadata": {},
     "output_type": "execute_result"
    }
   ],
   "source": [
    "# null 값 :  개\n",
    "count = 0\n",
    "idx102 = []\n",
    "for i, one in tqdm(enumerate(temp10.to_numpy())):\n",
    "    if one == 0:\n",
    "        idx102.append(i)\n",
    "        count += 1\n",
    "count"
   ]
  },
  {
   "cell_type": "code",
   "execution_count": 63,
   "metadata": {},
   "outputs": [
    {
     "data": {
      "text/plain": [
       "0"
      ]
     },
     "execution_count": 63,
     "metadata": {},
     "output_type": "execute_result"
    }
   ],
   "source": [
    "# 길이가 8이 아닌 값 중 null 값 제외 값 :  개\n",
    "    # => 길이가 8이 아닌 값은 전부 null 값\n",
    "len(list(set(idx101)^set(idx102)))"
   ]
  },
  {
   "cell_type": "code",
   "execution_count": 64,
   "metadata": {},
   "outputs": [
    {
     "name": "stderr",
     "output_type": "stream",
     "text": [
      "1528586it [00:02, 659985.82it/s]\n"
     ]
    },
    {
     "data": {
      "text/plain": [
       "0"
      ]
     },
     "execution_count": 64,
     "metadata": {},
     "output_type": "execute_result"
    }
   ],
   "source": [
    "# 숫자가 아닌 값 :  개\n",
    "count = 0\n",
    "p103 = re.compile('\\d+')\n",
    "idx103 = []\n",
    "for i, one in tqdm(enumerate(temp10.to_numpy())):\n",
    "    if not p103.search(str(one)):\n",
    "        idx103.append(i)\n",
    "        count += 1\n",
    "count"
   ]
  },
  {
   "cell_type": "markdown",
   "metadata": {},
   "source": [
    "### 11\\. [e]제원관리번호"
   ]
  },
  {
   "cell_type": "code",
   "execution_count": null,
   "metadata": {},
   "outputs": [],
   "source": [
    "# - 오류\n",
    "#     - null : 0 개\n",
    "#     - 17자리X :  개\n",
    "#     - 17자리X, 숫자X :  개"
   ]
  },
  {
   "cell_type": "code",
   "execution_count": 65,
   "metadata": {},
   "outputs": [
    {
     "data": {
      "text/plain": [
       "A0810006801591209    36231\n",
       "A0110003400441206    22730\n",
       "A0810006209233110    19414\n",
       "A0810007402962210    16877\n",
       "A0810006801661210    16186\n",
       "                     ...  \n",
       "B2F10014200003307        1\n",
       "00032701002631207        1\n",
       "30290100000046           1\n",
       "20465900000000           1\n",
       "A0810005209353308        1\n",
       "Name: 제원관리번호, Length: 15315, dtype: int64"
      ]
     },
     "execution_count": 65,
     "metadata": {},
     "output_type": "execute_result"
    }
   ],
   "source": [
    "df.iloc[:, 11].value_counts()"
   ]
  },
  {
   "cell_type": "code",
   "execution_count": 66,
   "metadata": {},
   "outputs": [
    {
     "data": {
      "text/plain": [
       "0"
      ]
     },
     "execution_count": 66,
     "metadata": {},
     "output_type": "execute_result"
    }
   ],
   "source": [
    "df.iloc[:, 11].isnull().sum()"
   ]
  },
  {
   "cell_type": "code",
   "execution_count": 67,
   "metadata": {},
   "outputs": [
    {
     "name": "stderr",
     "output_type": "stream",
     "text": [
      "1528586it [00:01, 1460306.81it/s]\n"
     ]
    },
    {
     "data": {
      "text/plain": [
       "356933"
      ]
     },
     "execution_count": 67,
     "metadata": {},
     "output_type": "execute_result"
    }
   ],
   "source": [
    "# 17자리X : \n",
    "count = 0\n",
    "idx111 = []\n",
    "for i, one in tqdm(enumerate(df.iloc[:, 11].to_numpy())):\n",
    "    if len(str(one)) != 17:\n",
    "        idx111.append(i)\n",
    "        count += 1\n",
    "count"
   ]
  },
  {
   "cell_type": "code",
   "execution_count": 68,
   "metadata": {},
   "outputs": [
    {
     "name": "stderr",
     "output_type": "stream",
     "text": [
      "1528586it [00:01, 1321963.35it/s]\n"
     ]
    },
    {
     "data": {
      "text/plain": [
       "30"
      ]
     },
     "execution_count": 68,
     "metadata": {},
     "output_type": "execute_result"
    }
   ],
   "source": [
    "# 17자리X, 숫자이외 값 : \n",
    "count = 0\n",
    "p112 = re.compile('[a-zA-Z가-힣]+')\n",
    "idx112 = []\n",
    "for i, one in tqdm(enumerate(df.iloc[:, 11].to_numpy())):\n",
    "    if len(str(one)) != 17 and p112.search(one):\n",
    "        idx112.append(i)\n",
    "        count += 1\n",
    "count"
   ]
  },
  {
   "cell_type": "markdown",
   "metadata": {},
   "source": [
    "### 12\\. [e]배출가스인증번호"
   ]
  },
  {
   "cell_type": "code",
   "execution_count": null,
   "metadata": {},
   "outputs": [],
   "source": [
    "# - 오류\n",
    "#     - null :  개\n",
    "#     - 정상\n",
    "#         - 2005.01.04 이전 표기 방식([숫자문자]-[문자]-[숫자], 9자리) :  개\n",
    "#         - 2005.01.04 이후 표기 방식([숫자문자]-[문자]-[숫자]-[숫자], 12자리) :  개\n",
    "#     - 오류(null 값 제외) :  개"
   ]
  },
  {
   "cell_type": "code",
   "execution_count": 99,
   "metadata": {},
   "outputs": [
    {
     "data": {
      "text/plain": [
       "7MY-HD-14-68      268972\n",
       "8MY-KM-13-19       93969\n",
       "6MY-KM-14-61       76371\n",
       "9MY-KM-14-41       67493\n",
       "7MY-HD-14-46       60364\n",
       "                   ...  \n",
       "8MY-WI-0M-24           1\n",
       "AMY-PPE-14-225         1\n",
       "8MY-SN-0M-24           1\n",
       "7MY-SK-24-03           1\n",
       "AMY-PPE-14-800         1\n",
       "Name: 배출가스인증번호, Length: 304, dtype: int64"
      ]
     },
     "execution_count": 99,
     "metadata": {},
     "output_type": "execute_result"
    }
   ],
   "source": [
    "df.iloc[:, 12].value_counts()"
   ]
  },
  {
   "cell_type": "code",
   "execution_count": 100,
   "metadata": {},
   "outputs": [
    {
     "data": {
      "text/plain": [
       "123001"
      ]
     },
     "execution_count": 100,
     "metadata": {},
     "output_type": "execute_result"
    }
   ],
   "source": [
    "df.iloc[:, 12].isnull().sum()"
   ]
  },
  {
   "cell_type": "code",
   "execution_count": 101,
   "metadata": {},
   "outputs": [
    {
     "name": "stderr",
     "output_type": "stream",
     "text": [
      "1528586it [00:01, 806880.16it/s]\n"
     ]
    },
    {
     "data": {
      "text/plain": [
       "1152680"
      ]
     },
     "execution_count": 101,
     "metadata": {},
     "output_type": "execute_result"
    }
   ],
   "source": [
    "# 정상 : \n",
    "count = 0\n",
    "p121 = re.compile('[a-zA-Z0-9]{3}[-][a-zA-Z]{2}[-][0-9]{2}[-][0-9]{2}')\n",
    "idx121 = []\n",
    "for i, one in tqdm(enumerate(df.iloc[:, 12].to_numpy())):\n",
    "    if p121.search(str(one)):\n",
    "        idx121.append(i)\n",
    "        count += 1\n",
    "count"
   ]
  },
  {
   "cell_type": "code",
   "execution_count": 102,
   "metadata": {},
   "outputs": [
    {
     "name": "stderr",
     "output_type": "stream",
     "text": [
      "1528586it [00:01, 855895.55it/s]\n"
     ]
    },
    {
     "data": {
      "text/plain": [
       "375906"
      ]
     },
     "execution_count": 102,
     "metadata": {},
     "output_type": "execute_result"
    }
   ],
   "source": [
    "# 오류값 : \n",
    "count = 0\n",
    "idx122 = []\n",
    "for i, one in tqdm(enumerate(df.iloc[:, 12].to_numpy())):\n",
    "    if not p121.search(str(one)):\n",
    "        idx122.append(i)\n",
    "        count += 1\n",
    "count"
   ]
  },
  {
   "cell_type": "code",
   "execution_count": 103,
   "metadata": {},
   "outputs": [
    {
     "name": "stderr",
     "output_type": "stream",
     "text": [
      "375906it [00:00, 756850.81it/s]\n"
     ]
    },
    {
     "data": {
      "text/plain": [
       "230867"
      ]
     },
     "execution_count": 103,
     "metadata": {},
     "output_type": "execute_result"
    }
   ],
   "source": [
    "# 2005.01.04 이전 배출가스 표기 방식 \n",
    "count = 0\n",
    "p123 = re.compile('[a-zA-Z0-9]{3}[-][a-zA-Z]{2}[-][0-9]{2}')\n",
    "idx123 = []\n",
    "for i, one in tqdm(enumerate(df.iloc[idx122, 12].to_numpy())):\n",
    "    if p123.search(str(one)):\n",
    "        idx123.append(idx122[i])\n",
    "        count += 1\n",
    "count"
   ]
  },
  {
   "cell_type": "code",
   "execution_count": 104,
   "metadata": {},
   "outputs": [
    {
     "name": "stderr",
     "output_type": "stream",
     "text": [
      "C:\\Users\\kbj\\AppData\\Local\\Temp\\ipykernel_17576\\4092535168.py:1: FutureWarning: The behavior of `series[i:j]` with an integer-dtype index is deprecated. In a future version, this will be treated as *label-based* indexing, consistent with e.g. `series[i]` lookups. To retain the old behavior, use `series.iloc[i:j]`. To get the future behavior, use `series.loc[i:j]`.\n",
      "  df.iloc[:, 12].reindex(idx122)[:5]\n"
     ]
    },
    {
     "data": {
      "text/plain": [
       "5     VMY-KM-38\n",
       "21    RMY-HD-20\n",
       "28    KMY-HD-03\n",
       "29          NaN\n",
       "36          NaN\n",
       "Name: 배출가스인증번호, dtype: object"
      ]
     },
     "execution_count": 104,
     "metadata": {},
     "output_type": "execute_result"
    }
   ],
   "source": [
    "df.iloc[:, 12].reindex(idx122)[:5]"
   ]
  },
  {
   "cell_type": "code",
   "execution_count": 105,
   "metadata": {},
   "outputs": [
    {
     "data": {
      "text/plain": [
       "Int64Index([     29,      36,      42,      63,      67,      92,      98,\n",
       "                108,     128,     147,\n",
       "            ...\n",
       "            1528534, 1528535, 1528536, 1528538, 1528539, 1528540, 1528548,\n",
       "            1528561, 1528583, 1528584],\n",
       "           dtype='int64', length=123001)"
      ]
     },
     "execution_count": 105,
     "metadata": {},
     "output_type": "execute_result"
    }
   ],
   "source": [
    "df[df['배출가스인증번호'].isnull() == True]['배출가스인증번호'].index"
   ]
  },
  {
   "cell_type": "code",
   "execution_count": 106,
   "metadata": {},
   "outputs": [
    {
     "data": {
      "text/plain": [
       "123001"
      ]
     },
     "execution_count": 106,
     "metadata": {},
     "output_type": "execute_result"
    }
   ],
   "source": [
    "idx124 = df[df['배출가스인증번호'].isnull() == True]['배출가스인증번호'].index\n",
    "len(idx124)"
   ]
  },
  {
   "cell_type": "code",
   "execution_count": 107,
   "metadata": {},
   "outputs": [
    {
     "name": "stderr",
     "output_type": "stream",
     "text": [
      "C:\\Users\\kbj\\AppData\\Local\\Temp\\ipykernel_17576\\828939027.py:1: FutureWarning: The behavior of `series[i:j]` with an integer-dtype index is deprecated. In a future version, this will be treated as *label-based* indexing, consistent with e.g. `series[i]` lookups. To retain the old behavior, use `series.iloc[i:j]`. To get the future behavior, use `series.loc[i:j]`.\n",
      "  df.iloc[:, 12].reindex(idx124)[:5]\n"
     ]
    },
    {
     "data": {
      "text/plain": [
       "29    NaN\n",
       "36    NaN\n",
       "42    NaN\n",
       "63    NaN\n",
       "67    NaN\n",
       "Name: 배출가스인증번호, dtype: object"
      ]
     },
     "execution_count": 107,
     "metadata": {},
     "output_type": "execute_result"
    }
   ],
   "source": [
    "df.iloc[:, 12].reindex(idx124)[:5]"
   ]
  },
  {
   "cell_type": "code",
   "execution_count": 108,
   "metadata": {},
   "outputs": [
    {
     "data": {
      "text/plain": [
       "252905"
      ]
     },
     "execution_count": 108,
     "metadata": {},
     "output_type": "execute_result"
    }
   ],
   "source": [
    "# null 값 제외한 오류 값 : \n",
    "len(set(idx122) - set(idx124))"
   ]
  },
  {
   "cell_type": "code",
   "execution_count": 109,
   "metadata": {},
   "outputs": [
    {
     "name": "stderr",
     "output_type": "stream",
     "text": [
      "C:\\Users\\kbj\\AppData\\Local\\Temp\\ipykernel_17576\\2414504646.py:1: FutureWarning: The behavior of `series[i:j]` with an integer-dtype index is deprecated. In a future version, this will be treated as *label-based* indexing, consistent with e.g. `series[i]` lookups. To retain the old behavior, use `series.iloc[i:j]`. To get the future behavior, use `series.loc[i:j]`.\n",
      "  df.iloc[:, 12].reindex(sorted(set(idx122) - set(idx124)))[:5]\n"
     ]
    },
    {
     "data": {
      "text/plain": [
       "5     VMY-KM-38\n",
       "21    RMY-HD-20\n",
       "28    KMY-HD-03\n",
       "46    RMY-HD-20\n",
       "62    MMY-HD-11\n",
       "Name: 배출가스인증번호, dtype: object"
      ]
     },
     "execution_count": 109,
     "metadata": {},
     "output_type": "execute_result"
    }
   ],
   "source": [
    "df.iloc[:, 12].reindex(sorted(set(idx122) - set(idx124)))[:5]"
   ]
  },
  {
   "cell_type": "code",
   "execution_count": 111,
   "metadata": {},
   "outputs": [
    {
     "data": {
      "text/html": [
       "<div>\n",
       "<style scoped>\n",
       "    .dataframe tbody tr th:only-of-type {\n",
       "        vertical-align: middle;\n",
       "    }\n",
       "\n",
       "    .dataframe tbody tr th {\n",
       "        vertical-align: top;\n",
       "    }\n",
       "\n",
       "    .dataframe thead th {\n",
       "        text-align: right;\n",
       "    }\n",
       "</style>\n",
       "<table border=\"1\" class=\"dataframe\">\n",
       "  <thead>\n",
       "    <tr style=\"text-align: right;\">\n",
       "      <th></th>\n",
       "      <th>최초등록일자</th>\n",
       "      <th>차량연식</th>\n",
       "      <th>차량제작일자</th>\n",
       "      <th>취득일자</th>\n",
       "      <th>배출가스인증번호</th>\n",
       "    </tr>\n",
       "  </thead>\n",
       "  <tbody>\n",
       "    <tr>\n",
       "      <th>5</th>\n",
       "      <td>20000609</td>\n",
       "      <td>2000</td>\n",
       "      <td>20000529.0</td>\n",
       "      <td>20030219.0</td>\n",
       "      <td>VMY-KM-38</td>\n",
       "    </tr>\n",
       "    <tr>\n",
       "      <th>21</th>\n",
       "      <td>19990608</td>\n",
       "      <td>1999</td>\n",
       "      <td>19990513.0</td>\n",
       "      <td>20040401.0</td>\n",
       "      <td>RMY-HD-20</td>\n",
       "    </tr>\n",
       "    <tr>\n",
       "      <th>28</th>\n",
       "      <td>19910820</td>\n",
       "      <td>1991</td>\n",
       "      <td>NaN</td>\n",
       "      <td>NaN</td>\n",
       "      <td>KMY-HD-03</td>\n",
       "    </tr>\n",
       "    <tr>\n",
       "      <th>46</th>\n",
       "      <td>19991213</td>\n",
       "      <td>2000</td>\n",
       "      <td>19991202.0</td>\n",
       "      <td>20150914.0</td>\n",
       "      <td>RMY-HD-20</td>\n",
       "    </tr>\n",
       "    <tr>\n",
       "      <th>62</th>\n",
       "      <td>19970522</td>\n",
       "      <td>1997</td>\n",
       "      <td>19970310.0</td>\n",
       "      <td>NaN</td>\n",
       "      <td>MMY-HD-11</td>\n",
       "    </tr>\n",
       "  </tbody>\n",
       "</table>\n",
       "</div>"
      ],
      "text/plain": [
       "      최초등록일자  차량연식      차량제작일자        취득일자   배출가스인증번호\n",
       "5   20000609  2000  20000529.0  20030219.0  VMY-KM-38\n",
       "21  19990608  1999  19990513.0  20040401.0  RMY-HD-20\n",
       "28  19910820  1991         NaN         NaN  KMY-HD-03\n",
       "46  19991213  2000  19991202.0  20150914.0  RMY-HD-20\n",
       "62  19970522  1997  19970310.0         NaN  MMY-HD-11"
      ]
     },
     "execution_count": 111,
     "metadata": {},
     "output_type": "execute_result"
    }
   ],
   "source": [
    "df.iloc[idx123, [7, 8, 9, 17, 12]][:5]"
   ]
  },
  {
   "cell_type": "code",
   "execution_count": 116,
   "metadata": {},
   "outputs": [
    {
     "data": {
      "text/html": [
       "<div>\n",
       "<style scoped>\n",
       "    .dataframe tbody tr th:only-of-type {\n",
       "        vertical-align: middle;\n",
       "    }\n",
       "\n",
       "    .dataframe tbody tr th {\n",
       "        vertical-align: top;\n",
       "    }\n",
       "\n",
       "    .dataframe thead th {\n",
       "        text-align: right;\n",
       "    }\n",
       "</style>\n",
       "<table border=\"1\" class=\"dataframe\">\n",
       "  <thead>\n",
       "    <tr style=\"text-align: right;\">\n",
       "      <th></th>\n",
       "      <th>최초등록일자</th>\n",
       "      <th>차량연식</th>\n",
       "      <th>차량제작일자</th>\n",
       "      <th>취득일자</th>\n",
       "      <th>배출가스인증번호</th>\n",
       "    </tr>\n",
       "  </thead>\n",
       "  <tbody>\n",
       "    <tr>\n",
       "      <th>582</th>\n",
       "      <td>20100209</td>\n",
       "      <td>2010</td>\n",
       "      <td>20100205.0</td>\n",
       "      <td>20120910.0</td>\n",
       "      <td>AMY-JL-13-9</td>\n",
       "    </tr>\n",
       "    <tr>\n",
       "      <th>810</th>\n",
       "      <td>20070816</td>\n",
       "      <td>2007</td>\n",
       "      <td>20070816.0</td>\n",
       "      <td>20100423.0</td>\n",
       "      <td>6MY-PA-14-4</td>\n",
       "    </tr>\n",
       "    <tr>\n",
       "      <th>1629</th>\n",
       "      <td>20100409</td>\n",
       "      <td>2010</td>\n",
       "      <td>20100205.0</td>\n",
       "      <td>20180423.0</td>\n",
       "      <td>AMY-JL-13-9</td>\n",
       "    </tr>\n",
       "    <tr>\n",
       "      <th>2087</th>\n",
       "      <td>20100511</td>\n",
       "      <td>2010</td>\n",
       "      <td>20100506.0</td>\n",
       "      <td>20190611.0</td>\n",
       "      <td>AMY-JL-13-9</td>\n",
       "    </tr>\n",
       "    <tr>\n",
       "      <th>2142</th>\n",
       "      <td>20100504</td>\n",
       "      <td>2010</td>\n",
       "      <td>20091207.0</td>\n",
       "      <td>20180430.0</td>\n",
       "      <td>8MY-PA-14-3</td>\n",
       "    </tr>\n",
       "    <tr>\n",
       "      <th>...</th>\n",
       "      <td>...</td>\n",
       "      <td>...</td>\n",
       "      <td>...</td>\n",
       "      <td>...</td>\n",
       "      <td>...</td>\n",
       "    </tr>\n",
       "    <tr>\n",
       "      <th>1524691</th>\n",
       "      <td>20100409</td>\n",
       "      <td>2010</td>\n",
       "      <td>20100212.0</td>\n",
       "      <td>20191108.0</td>\n",
       "      <td>9MY-JL-14-4</td>\n",
       "    </tr>\n",
       "    <tr>\n",
       "      <th>1524870</th>\n",
       "      <td>20100108</td>\n",
       "      <td>2010</td>\n",
       "      <td>20091102.0</td>\n",
       "      <td>20110119.0</td>\n",
       "      <td>AMY-JL-13-9</td>\n",
       "    </tr>\n",
       "    <tr>\n",
       "      <th>1525658</th>\n",
       "      <td>20090415</td>\n",
       "      <td>2009</td>\n",
       "      <td>20081208.0</td>\n",
       "      <td>20190930.0</td>\n",
       "      <td>8MY-PA-14-3</td>\n",
       "    </tr>\n",
       "    <tr>\n",
       "      <th>1527579</th>\n",
       "      <td>20100108</td>\n",
       "      <td>2010</td>\n",
       "      <td>20091223.0</td>\n",
       "      <td>20100405.0</td>\n",
       "      <td>6MY-PA-14-4</td>\n",
       "    </tr>\n",
       "    <tr>\n",
       "      <th>1528353</th>\n",
       "      <td>20080805</td>\n",
       "      <td>2009</td>\n",
       "      <td>20080725.0</td>\n",
       "      <td>20080805.0</td>\n",
       "      <td>8MY-PA-14-3</td>\n",
       "    </tr>\n",
       "  </tbody>\n",
       "</table>\n",
       "<p>3018 rows × 5 columns</p>\n",
       "</div>"
      ],
      "text/plain": [
       "           최초등록일자  차량연식      차량제작일자        취득일자     배출가스인증번호\n",
       "582      20100209  2010  20100205.0  20120910.0  AMY-JL-13-9\n",
       "810      20070816  2007  20070816.0  20100423.0  6MY-PA-14-4\n",
       "1629     20100409  2010  20100205.0  20180423.0  AMY-JL-13-9\n",
       "2087     20100511  2010  20100506.0  20190611.0  AMY-JL-13-9\n",
       "2142     20100504  2010  20091207.0  20180430.0  8MY-PA-14-3\n",
       "...           ...   ...         ...         ...          ...\n",
       "1524691  20100409  2010  20100212.0  20191108.0  9MY-JL-14-4\n",
       "1524870  20100108  2010  20091102.0  20110119.0  AMY-JL-13-9\n",
       "1525658  20090415  2009  20081208.0  20190930.0  8MY-PA-14-3\n",
       "1527579  20100108  2010  20091223.0  20100405.0  6MY-PA-14-4\n",
       "1528353  20080805  2009  20080725.0  20080805.0  8MY-PA-14-3\n",
       "\n",
       "[3018 rows x 5 columns]"
      ]
     },
     "execution_count": 116,
     "metadata": {},
     "output_type": "execute_result"
    }
   ],
   "source": [
    "temp = df.iloc[idx123, [7, 8, 9, 17, 12]]\n",
    "temp[temp['차량연식'] >= 2005]"
   ]
  },
  {
   "cell_type": "code",
   "execution_count": 117,
   "metadata": {},
   "outputs": [
    {
     "data": {
      "text/html": [
       "<div>\n",
       "<style scoped>\n",
       "    .dataframe tbody tr th:only-of-type {\n",
       "        vertical-align: middle;\n",
       "    }\n",
       "\n",
       "    .dataframe tbody tr th {\n",
       "        vertical-align: top;\n",
       "    }\n",
       "\n",
       "    .dataframe thead th {\n",
       "        text-align: right;\n",
       "    }\n",
       "</style>\n",
       "<table border=\"1\" class=\"dataframe\">\n",
       "  <thead>\n",
       "    <tr style=\"text-align: right;\">\n",
       "      <th></th>\n",
       "      <th>최초등록일자</th>\n",
       "      <th>차량연식</th>\n",
       "      <th>차량제작일자</th>\n",
       "      <th>취득일자</th>\n",
       "      <th>배출가스인증번호</th>\n",
       "    </tr>\n",
       "  </thead>\n",
       "  <tbody>\n",
       "    <tr>\n",
       "      <th>7024</th>\n",
       "      <td>20050720</td>\n",
       "      <td>2005</td>\n",
       "      <td>20050421.0</td>\n",
       "      <td>20220408.0</td>\n",
       "      <td>4MY-AD-20</td>\n",
       "    </tr>\n",
       "    <tr>\n",
       "      <th>12139</th>\n",
       "      <td>20060208</td>\n",
       "      <td>2006</td>\n",
       "      <td>20060119.0</td>\n",
       "      <td>20140710.0</td>\n",
       "      <td>4MY-AD-20</td>\n",
       "    </tr>\n",
       "    <tr>\n",
       "      <th>103021</th>\n",
       "      <td>20061017</td>\n",
       "      <td>2007</td>\n",
       "      <td>20060929.0</td>\n",
       "      <td>20220128.0</td>\n",
       "      <td>4MY-DC-33</td>\n",
       "    </tr>\n",
       "    <tr>\n",
       "      <th>106341</th>\n",
       "      <td>20051104</td>\n",
       "      <td>2005</td>\n",
       "      <td>20050905.0</td>\n",
       "      <td>20060327.0</td>\n",
       "      <td>4MY-PA-06</td>\n",
       "    </tr>\n",
       "    <tr>\n",
       "      <th>119764</th>\n",
       "      <td>20060228</td>\n",
       "      <td>2006</td>\n",
       "      <td>20060116.0</td>\n",
       "      <td>20200720.0</td>\n",
       "      <td>4MY-AD-20</td>\n",
       "    </tr>\n",
       "    <tr>\n",
       "      <th>124247</th>\n",
       "      <td>20061017</td>\n",
       "      <td>2007</td>\n",
       "      <td>20060929.0</td>\n",
       "      <td>20220411.0</td>\n",
       "      <td>4MY-DC-33</td>\n",
       "    </tr>\n",
       "    <tr>\n",
       "      <th>142443</th>\n",
       "      <td>20051208</td>\n",
       "      <td>2006</td>\n",
       "      <td>20051202.0</td>\n",
       "      <td>20171106.0</td>\n",
       "      <td>4MY-PA-06</td>\n",
       "    </tr>\n",
       "    <tr>\n",
       "      <th>145601</th>\n",
       "      <td>20051208</td>\n",
       "      <td>2006</td>\n",
       "      <td>20051205.0</td>\n",
       "      <td>20190802.0</td>\n",
       "      <td>4MY-PA-06</td>\n",
       "    </tr>\n",
       "    <tr>\n",
       "      <th>187641</th>\n",
       "      <td>20060105</td>\n",
       "      <td>2006</td>\n",
       "      <td>20051212.0</td>\n",
       "      <td>20170910.0</td>\n",
       "      <td>4MY-AD-20</td>\n",
       "    </tr>\n",
       "    <tr>\n",
       "      <th>200655</th>\n",
       "      <td>20060120</td>\n",
       "      <td>2006</td>\n",
       "      <td>20051221.0</td>\n",
       "      <td>20080909.0</td>\n",
       "      <td>4MY-PA-06</td>\n",
       "    </tr>\n",
       "    <tr>\n",
       "      <th>205166</th>\n",
       "      <td>20060105</td>\n",
       "      <td>2006</td>\n",
       "      <td>20051206.0</td>\n",
       "      <td>NaN</td>\n",
       "      <td>4MY-AD-20</td>\n",
       "    </tr>\n",
       "    <tr>\n",
       "      <th>214893</th>\n",
       "      <td>20051125</td>\n",
       "      <td>2006</td>\n",
       "      <td>20051115.0</td>\n",
       "      <td>20170605.0</td>\n",
       "      <td>4MY-PA-06</td>\n",
       "    </tr>\n",
       "    <tr>\n",
       "      <th>215221</th>\n",
       "      <td>20061017</td>\n",
       "      <td>2007</td>\n",
       "      <td>20060929.0</td>\n",
       "      <td>20201104.0</td>\n",
       "      <td>4MY-DC-33</td>\n",
       "    </tr>\n",
       "    <tr>\n",
       "      <th>231476</th>\n",
       "      <td>20060630</td>\n",
       "      <td>2006</td>\n",
       "      <td>20060612.0</td>\n",
       "      <td>20090629.0</td>\n",
       "      <td>4MY-AD-20</td>\n",
       "    </tr>\n",
       "    <tr>\n",
       "      <th>233228</th>\n",
       "      <td>20061017</td>\n",
       "      <td>2007</td>\n",
       "      <td>20060929.0</td>\n",
       "      <td>20181030.0</td>\n",
       "      <td>4MY-DC-33</td>\n",
       "    </tr>\n",
       "    <tr>\n",
       "      <th>274979</th>\n",
       "      <td>20060710</td>\n",
       "      <td>2006</td>\n",
       "      <td>20060710.0</td>\n",
       "      <td>20060710.0</td>\n",
       "      <td>4MY-AD-20</td>\n",
       "    </tr>\n",
       "    <tr>\n",
       "      <th>326770</th>\n",
       "      <td>20060322</td>\n",
       "      <td>2006</td>\n",
       "      <td>20060104.0</td>\n",
       "      <td>20080129.0</td>\n",
       "      <td>4MY-AD-20</td>\n",
       "    </tr>\n",
       "    <tr>\n",
       "      <th>341853</th>\n",
       "      <td>20060418</td>\n",
       "      <td>2006</td>\n",
       "      <td>20060411.0</td>\n",
       "      <td>20200818.0</td>\n",
       "      <td>4MY-AD-20</td>\n",
       "    </tr>\n",
       "    <tr>\n",
       "      <th>413232</th>\n",
       "      <td>20050823</td>\n",
       "      <td>2005</td>\n",
       "      <td>20050421.0</td>\n",
       "      <td>20200511.0</td>\n",
       "      <td>4MY-AD-20</td>\n",
       "    </tr>\n",
       "    <tr>\n",
       "      <th>415374</th>\n",
       "      <td>20051108</td>\n",
       "      <td>2006</td>\n",
       "      <td>20051102.0</td>\n",
       "      <td>20191119.0</td>\n",
       "      <td>4MY-PA-06</td>\n",
       "    </tr>\n",
       "    <tr>\n",
       "      <th>462151</th>\n",
       "      <td>20061017</td>\n",
       "      <td>2007</td>\n",
       "      <td>20060929.0</td>\n",
       "      <td>20160809.0</td>\n",
       "      <td>4MY-DC-33</td>\n",
       "    </tr>\n",
       "    <tr>\n",
       "      <th>484064</th>\n",
       "      <td>20060210</td>\n",
       "      <td>2006</td>\n",
       "      <td>20060116.0</td>\n",
       "      <td>20200103.0</td>\n",
       "      <td>4MY-AD-20</td>\n",
       "    </tr>\n",
       "    <tr>\n",
       "      <th>491202</th>\n",
       "      <td>20051216</td>\n",
       "      <td>2006</td>\n",
       "      <td>20051212.0</td>\n",
       "      <td>20200807.0</td>\n",
       "      <td>4MY-AD-20</td>\n",
       "    </tr>\n",
       "    <tr>\n",
       "      <th>498049</th>\n",
       "      <td>20060502</td>\n",
       "      <td>2006</td>\n",
       "      <td>20060502.0</td>\n",
       "      <td>20191204.0</td>\n",
       "      <td>4MY-AD-20</td>\n",
       "    </tr>\n",
       "    <tr>\n",
       "      <th>555269</th>\n",
       "      <td>20060320</td>\n",
       "      <td>2006</td>\n",
       "      <td>20060119.0</td>\n",
       "      <td>20200827.0</td>\n",
       "      <td>4MY-AD-20</td>\n",
       "    </tr>\n",
       "    <tr>\n",
       "      <th>570232</th>\n",
       "      <td>20060406</td>\n",
       "      <td>2006</td>\n",
       "      <td>20060405.0</td>\n",
       "      <td>20090415.0</td>\n",
       "      <td>4MY-AD-20</td>\n",
       "    </tr>\n",
       "    <tr>\n",
       "      <th>598285</th>\n",
       "      <td>20060331</td>\n",
       "      <td>2006</td>\n",
       "      <td>20060131.0</td>\n",
       "      <td>20090107.0</td>\n",
       "      <td>4MY-AD-20</td>\n",
       "    </tr>\n",
       "    <tr>\n",
       "      <th>608426</th>\n",
       "      <td>20060811</td>\n",
       "      <td>2006</td>\n",
       "      <td>20060113.0</td>\n",
       "      <td>20220421.0</td>\n",
       "      <td>4MY-AD-20</td>\n",
       "    </tr>\n",
       "    <tr>\n",
       "      <th>619036</th>\n",
       "      <td>20060104</td>\n",
       "      <td>2005</td>\n",
       "      <td>20051118.0</td>\n",
       "      <td>20210617.0</td>\n",
       "      <td>4MY-PA-06</td>\n",
       "    </tr>\n",
       "    <tr>\n",
       "      <th>633188</th>\n",
       "      <td>20051104</td>\n",
       "      <td>2005</td>\n",
       "      <td>20051024.0</td>\n",
       "      <td>20051104.0</td>\n",
       "      <td>4MY-PA-06</td>\n",
       "    </tr>\n",
       "    <tr>\n",
       "      <th>634356</th>\n",
       "      <td>20060526</td>\n",
       "      <td>2006</td>\n",
       "      <td>20060523.0</td>\n",
       "      <td>20210329.0</td>\n",
       "      <td>4MY-AD-20</td>\n",
       "    </tr>\n",
       "    <tr>\n",
       "      <th>639946</th>\n",
       "      <td>20061017</td>\n",
       "      <td>2007</td>\n",
       "      <td>20060929.0</td>\n",
       "      <td>20201013.0</td>\n",
       "      <td>4MY-DC-33</td>\n",
       "    </tr>\n",
       "    <tr>\n",
       "      <th>668947</th>\n",
       "      <td>20060919</td>\n",
       "      <td>2006</td>\n",
       "      <td>20060116.0</td>\n",
       "      <td>20181115.0</td>\n",
       "      <td>4MY-AD-20</td>\n",
       "    </tr>\n",
       "    <tr>\n",
       "      <th>760911</th>\n",
       "      <td>20060103</td>\n",
       "      <td>2006</td>\n",
       "      <td>20051212.0</td>\n",
       "      <td>20090108.0</td>\n",
       "      <td>4MY-AD-20</td>\n",
       "    </tr>\n",
       "    <tr>\n",
       "      <th>779293</th>\n",
       "      <td>20060623</td>\n",
       "      <td>2006</td>\n",
       "      <td>20060620.0</td>\n",
       "      <td>20211103.0</td>\n",
       "      <td>4MY-AD-20</td>\n",
       "    </tr>\n",
       "    <tr>\n",
       "      <th>788779</th>\n",
       "      <td>20060127</td>\n",
       "      <td>2006</td>\n",
       "      <td>20060101.0</td>\n",
       "      <td>20160503.0</td>\n",
       "      <td>4MY-AD-20</td>\n",
       "    </tr>\n",
       "    <tr>\n",
       "      <th>792661</th>\n",
       "      <td>20060621</td>\n",
       "      <td>2006</td>\n",
       "      <td>20060612.0</td>\n",
       "      <td>20190326.0</td>\n",
       "      <td>4MY-AD-20</td>\n",
       "    </tr>\n",
       "    <tr>\n",
       "      <th>816532</th>\n",
       "      <td>20061031</td>\n",
       "      <td>2006</td>\n",
       "      <td>20060414.0</td>\n",
       "      <td>20090112.0</td>\n",
       "      <td>4MY-AD-20</td>\n",
       "    </tr>\n",
       "    <tr>\n",
       "      <th>847726</th>\n",
       "      <td>20060616</td>\n",
       "      <td>2006</td>\n",
       "      <td>20060612.0</td>\n",
       "      <td>20060616.0</td>\n",
       "      <td>4MY-AD-20</td>\n",
       "    </tr>\n",
       "    <tr>\n",
       "      <th>849611</th>\n",
       "      <td>20060117</td>\n",
       "      <td>2006</td>\n",
       "      <td>20060101.0</td>\n",
       "      <td>20150715.0</td>\n",
       "      <td>4MY-AD-20</td>\n",
       "    </tr>\n",
       "    <tr>\n",
       "      <th>856660</th>\n",
       "      <td>20060707</td>\n",
       "      <td>2006</td>\n",
       "      <td>20060125.0</td>\n",
       "      <td>20110117.0</td>\n",
       "      <td>4MY-AD-20</td>\n",
       "    </tr>\n",
       "    <tr>\n",
       "      <th>886125</th>\n",
       "      <td>20060626</td>\n",
       "      <td>2006</td>\n",
       "      <td>20060405.0</td>\n",
       "      <td>20180524.0</td>\n",
       "      <td>4MY-AD-20</td>\n",
       "    </tr>\n",
       "    <tr>\n",
       "      <th>943091</th>\n",
       "      <td>20061017</td>\n",
       "      <td>2007</td>\n",
       "      <td>20060929.0</td>\n",
       "      <td>20210630.0</td>\n",
       "      <td>4MY-DC-33</td>\n",
       "    </tr>\n",
       "    <tr>\n",
       "      <th>1033065</th>\n",
       "      <td>20051226</td>\n",
       "      <td>2005</td>\n",
       "      <td>20050929.0</td>\n",
       "      <td>20201029.0</td>\n",
       "      <td>4MY-PA-06</td>\n",
       "    </tr>\n",
       "    <tr>\n",
       "      <th>1090741</th>\n",
       "      <td>20060612</td>\n",
       "      <td>2006</td>\n",
       "      <td>20060405.0</td>\n",
       "      <td>20190705.0</td>\n",
       "      <td>4MY-AD-20</td>\n",
       "    </tr>\n",
       "    <tr>\n",
       "      <th>1131159</th>\n",
       "      <td>20060627</td>\n",
       "      <td>2006</td>\n",
       "      <td>20060621.0</td>\n",
       "      <td>20210811.0</td>\n",
       "      <td>4MY-AD-20</td>\n",
       "    </tr>\n",
       "    <tr>\n",
       "      <th>1162786</th>\n",
       "      <td>20060106</td>\n",
       "      <td>2006</td>\n",
       "      <td>20051229.0</td>\n",
       "      <td>20201102.0</td>\n",
       "      <td>4MY-AD-20</td>\n",
       "    </tr>\n",
       "    <tr>\n",
       "      <th>1173919</th>\n",
       "      <td>20060120</td>\n",
       "      <td>2006</td>\n",
       "      <td>20060101.0</td>\n",
       "      <td>20090126.0</td>\n",
       "      <td>4MY-AD-20</td>\n",
       "    </tr>\n",
       "    <tr>\n",
       "      <th>1183650</th>\n",
       "      <td>20051215</td>\n",
       "      <td>2005</td>\n",
       "      <td>20051018.0</td>\n",
       "      <td>20200917.0</td>\n",
       "      <td>4MY-PA-06</td>\n",
       "    </tr>\n",
       "    <tr>\n",
       "      <th>1202869</th>\n",
       "      <td>20060227</td>\n",
       "      <td>2005</td>\n",
       "      <td>20051019.0</td>\n",
       "      <td>20190827.0</td>\n",
       "      <td>4MY-PA-06</td>\n",
       "    </tr>\n",
       "    <tr>\n",
       "      <th>1213404</th>\n",
       "      <td>20061031</td>\n",
       "      <td>2006</td>\n",
       "      <td>20060119.0</td>\n",
       "      <td>20190509.0</td>\n",
       "      <td>4MY-AD-20</td>\n",
       "    </tr>\n",
       "    <tr>\n",
       "      <th>1296007</th>\n",
       "      <td>20060208</td>\n",
       "      <td>2006</td>\n",
       "      <td>20051206.0</td>\n",
       "      <td>20210708.0</td>\n",
       "      <td>4MY-AD-20</td>\n",
       "    </tr>\n",
       "    <tr>\n",
       "      <th>1338420</th>\n",
       "      <td>20060208</td>\n",
       "      <td>2006</td>\n",
       "      <td>20060109.0</td>\n",
       "      <td>20190527.0</td>\n",
       "      <td>4MY-AD-20</td>\n",
       "    </tr>\n",
       "    <tr>\n",
       "      <th>1445334</th>\n",
       "      <td>20060127</td>\n",
       "      <td>2006</td>\n",
       "      <td>20051229.0</td>\n",
       "      <td>20210423.0</td>\n",
       "      <td>4MY-AD-20</td>\n",
       "    </tr>\n",
       "    <tr>\n",
       "      <th>1446826</th>\n",
       "      <td>20051103</td>\n",
       "      <td>2005</td>\n",
       "      <td>20051024.0</td>\n",
       "      <td>20081030.0</td>\n",
       "      <td>4MY-PA-06</td>\n",
       "    </tr>\n",
       "    <tr>\n",
       "      <th>1452988</th>\n",
       "      <td>20061031</td>\n",
       "      <td>2006</td>\n",
       "      <td>20060414.0</td>\n",
       "      <td>20220627.0</td>\n",
       "      <td>4MY-AD-20</td>\n",
       "    </tr>\n",
       "    <tr>\n",
       "      <th>1457523</th>\n",
       "      <td>20051014</td>\n",
       "      <td>2005</td>\n",
       "      <td>20050903.0</td>\n",
       "      <td>20191022.0</td>\n",
       "      <td>4MY-PA-06</td>\n",
       "    </tr>\n",
       "    <tr>\n",
       "      <th>1486921</th>\n",
       "      <td>20060118</td>\n",
       "      <td>2006</td>\n",
       "      <td>20060116.0</td>\n",
       "      <td>20150506.0</td>\n",
       "      <td>4MY-AD-20</td>\n",
       "    </tr>\n",
       "  </tbody>\n",
       "</table>\n",
       "</div>"
      ],
      "text/plain": [
       "           최초등록일자  차량연식      차량제작일자        취득일자   배출가스인증번호\n",
       "7024     20050720  2005  20050421.0  20220408.0  4MY-AD-20\n",
       "12139    20060208  2006  20060119.0  20140710.0  4MY-AD-20\n",
       "103021   20061017  2007  20060929.0  20220128.0  4MY-DC-33\n",
       "106341   20051104  2005  20050905.0  20060327.0  4MY-PA-06\n",
       "119764   20060228  2006  20060116.0  20200720.0  4MY-AD-20\n",
       "124247   20061017  2007  20060929.0  20220411.0  4MY-DC-33\n",
       "142443   20051208  2006  20051202.0  20171106.0  4MY-PA-06\n",
       "145601   20051208  2006  20051205.0  20190802.0  4MY-PA-06\n",
       "187641   20060105  2006  20051212.0  20170910.0  4MY-AD-20\n",
       "200655   20060120  2006  20051221.0  20080909.0  4MY-PA-06\n",
       "205166   20060105  2006  20051206.0         NaN  4MY-AD-20\n",
       "214893   20051125  2006  20051115.0  20170605.0  4MY-PA-06\n",
       "215221   20061017  2007  20060929.0  20201104.0  4MY-DC-33\n",
       "231476   20060630  2006  20060612.0  20090629.0  4MY-AD-20\n",
       "233228   20061017  2007  20060929.0  20181030.0  4MY-DC-33\n",
       "274979   20060710  2006  20060710.0  20060710.0  4MY-AD-20\n",
       "326770   20060322  2006  20060104.0  20080129.0  4MY-AD-20\n",
       "341853   20060418  2006  20060411.0  20200818.0  4MY-AD-20\n",
       "413232   20050823  2005  20050421.0  20200511.0  4MY-AD-20\n",
       "415374   20051108  2006  20051102.0  20191119.0  4MY-PA-06\n",
       "462151   20061017  2007  20060929.0  20160809.0  4MY-DC-33\n",
       "484064   20060210  2006  20060116.0  20200103.0  4MY-AD-20\n",
       "491202   20051216  2006  20051212.0  20200807.0  4MY-AD-20\n",
       "498049   20060502  2006  20060502.0  20191204.0  4MY-AD-20\n",
       "555269   20060320  2006  20060119.0  20200827.0  4MY-AD-20\n",
       "570232   20060406  2006  20060405.0  20090415.0  4MY-AD-20\n",
       "598285   20060331  2006  20060131.0  20090107.0  4MY-AD-20\n",
       "608426   20060811  2006  20060113.0  20220421.0  4MY-AD-20\n",
       "619036   20060104  2005  20051118.0  20210617.0  4MY-PA-06\n",
       "633188   20051104  2005  20051024.0  20051104.0  4MY-PA-06\n",
       "634356   20060526  2006  20060523.0  20210329.0  4MY-AD-20\n",
       "639946   20061017  2007  20060929.0  20201013.0  4MY-DC-33\n",
       "668947   20060919  2006  20060116.0  20181115.0  4MY-AD-20\n",
       "760911   20060103  2006  20051212.0  20090108.0  4MY-AD-20\n",
       "779293   20060623  2006  20060620.0  20211103.0  4MY-AD-20\n",
       "788779   20060127  2006  20060101.0  20160503.0  4MY-AD-20\n",
       "792661   20060621  2006  20060612.0  20190326.0  4MY-AD-20\n",
       "816532   20061031  2006  20060414.0  20090112.0  4MY-AD-20\n",
       "847726   20060616  2006  20060612.0  20060616.0  4MY-AD-20\n",
       "849611   20060117  2006  20060101.0  20150715.0  4MY-AD-20\n",
       "856660   20060707  2006  20060125.0  20110117.0  4MY-AD-20\n",
       "886125   20060626  2006  20060405.0  20180524.0  4MY-AD-20\n",
       "943091   20061017  2007  20060929.0  20210630.0  4MY-DC-33\n",
       "1033065  20051226  2005  20050929.0  20201029.0  4MY-PA-06\n",
       "1090741  20060612  2006  20060405.0  20190705.0  4MY-AD-20\n",
       "1131159  20060627  2006  20060621.0  20210811.0  4MY-AD-20\n",
       "1162786  20060106  2006  20051229.0  20201102.0  4MY-AD-20\n",
       "1173919  20060120  2006  20060101.0  20090126.0  4MY-AD-20\n",
       "1183650  20051215  2005  20051018.0  20200917.0  4MY-PA-06\n",
       "1202869  20060227  2005  20051019.0  20190827.0  4MY-PA-06\n",
       "1213404  20061031  2006  20060119.0  20190509.0  4MY-AD-20\n",
       "1296007  20060208  2006  20051206.0  20210708.0  4MY-AD-20\n",
       "1338420  20060208  2006  20060109.0  20190527.0  4MY-AD-20\n",
       "1445334  20060127  2006  20051229.0  20210423.0  4MY-AD-20\n",
       "1446826  20051103  2005  20051024.0  20081030.0  4MY-PA-06\n",
       "1452988  20061031  2006  20060414.0  20220627.0  4MY-AD-20\n",
       "1457523  20051014  2005  20050903.0  20191022.0  4MY-PA-06\n",
       "1486921  20060118  2006  20060116.0  20150506.0  4MY-AD-20"
      ]
     },
     "execution_count": 117,
     "metadata": {},
     "output_type": "execute_result"
    }
   ],
   "source": [
    "# 2005년 이상년도에서 맞지않는 배출가스인증번호 샘플 : \n",
    "temp.loc[(temp['차량연식'] >= 2005) & (temp['배출가스인증번호'].str.len() < 11 )]"
   ]
  },
  {
   "cell_type": "code",
   "execution_count": 118,
   "metadata": {},
   "outputs": [
    {
     "data": {
      "text/plain": [
       "(58, 5)"
      ]
     },
     "execution_count": 118,
     "metadata": {},
     "output_type": "execute_result"
    }
   ],
   "source": [
    "temp.loc[(temp['차량연식'] >= 2005) & (temp['배출가스인증번호'].str.len() < 11 )].shape"
   ]
  },
  {
   "cell_type": "code",
   "execution_count": 119,
   "metadata": {},
   "outputs": [
    {
     "data": {
      "text/html": [
       "<div>\n",
       "<style scoped>\n",
       "    .dataframe tbody tr th:only-of-type {\n",
       "        vertical-align: middle;\n",
       "    }\n",
       "\n",
       "    .dataframe tbody tr th {\n",
       "        vertical-align: top;\n",
       "    }\n",
       "\n",
       "    .dataframe thead th {\n",
       "        text-align: right;\n",
       "    }\n",
       "</style>\n",
       "<table border=\"1\" class=\"dataframe\">\n",
       "  <thead>\n",
       "    <tr style=\"text-align: right;\">\n",
       "      <th></th>\n",
       "      <th>최초등록일자</th>\n",
       "      <th>차량연식</th>\n",
       "      <th>차량제작일자</th>\n",
       "      <th>취득일자</th>\n",
       "      <th>배출가스인증번호</th>\n",
       "    </tr>\n",
       "  </thead>\n",
       "  <tbody>\n",
       "    <tr>\n",
       "      <th>747837</th>\n",
       "      <td>20091013</td>\n",
       "      <td>1999</td>\n",
       "      <td>19991231.0</td>\n",
       "      <td>10091009.0</td>\n",
       "      <td>9MY-PP-14-W38</td>\n",
       "    </tr>\n",
       "    <tr>\n",
       "      <th>1424917</th>\n",
       "      <td>20090917</td>\n",
       "      <td>1999</td>\n",
       "      <td>20081124.0</td>\n",
       "      <td>20201106.0</td>\n",
       "      <td>9MY-PP-14-W38</td>\n",
       "    </tr>\n",
       "  </tbody>\n",
       "</table>\n",
       "</div>"
      ],
      "text/plain": [
       "           최초등록일자  차량연식      차량제작일자        취득일자       배출가스인증번호\n",
       "747837   20091013  1999  19991231.0  10091009.0  9MY-PP-14-W38\n",
       "1424917  20090917  1999  20081124.0  20201106.0  9MY-PP-14-W38"
      ]
     },
     "execution_count": 119,
     "metadata": {},
     "output_type": "execute_result"
    }
   ],
   "source": [
    "# 2005년 미만년도에서 맞지않는 배출가스인증번호 샘플 : \n",
    "temp.loc[(temp['차량연식'] < 2005) & (temp['배출가스인증번호'].str.len() > 9 )]"
   ]
  },
  {
   "cell_type": "markdown",
   "metadata": {},
   "source": [
    "### 13\\. 배출가스등급\n",
    "- 오류\n",
    "    - null :  개"
   ]
  },
  {
   "cell_type": "code",
   "execution_count": 95,
   "metadata": {},
   "outputs": [
    {
     "data": {
      "text/plain": [
       "4    1528586\n",
       "Name: 배출가스등급, dtype: int64"
      ]
     },
     "execution_count": 95,
     "metadata": {},
     "output_type": "execute_result"
    }
   ],
   "source": [
    "df.iloc[:, 13].value_counts()"
   ]
  },
  {
   "cell_type": "code",
   "execution_count": 96,
   "metadata": {},
   "outputs": [
    {
     "data": {
      "text/plain": [
       "0"
      ]
     },
     "execution_count": 96,
     "metadata": {},
     "output_type": "execute_result"
    }
   ],
   "source": [
    "df.iloc[:, 13].isnull().sum()"
   ]
  },
  {
   "cell_type": "markdown",
   "metadata": {},
   "source": [
    "### 14\\. [e]저공해조치종류"
   ]
  },
  {
   "cell_type": "code",
   "execution_count": null,
   "metadata": {},
   "outputs": [],
   "source": [
    "# - 오류\n",
    "#     - null :  개"
   ]
  },
  {
   "cell_type": "code",
   "execution_count": 97,
   "metadata": {},
   "outputs": [
    {
     "data": {
      "text/plain": [
       "2종 저감장치 부착    115\n",
       "1종 저감장치 부착     71\n",
       "엔진개조            4\n",
       "3종 저감장치 부착      4\n",
       "동시저감장치 부착       1\n",
       "Name: 저공해조치종류, dtype: int64"
      ]
     },
     "execution_count": 97,
     "metadata": {},
     "output_type": "execute_result"
    }
   ],
   "source": [
    "df.iloc[:, 14].value_counts()"
   ]
  },
  {
   "cell_type": "code",
   "execution_count": 98,
   "metadata": {},
   "outputs": [
    {
     "data": {
      "text/plain": [
       "1528391"
      ]
     },
     "execution_count": 98,
     "metadata": {},
     "output_type": "execute_result"
    }
   ],
   "source": [
    "df.iloc[:, 14].isnull().sum()"
   ]
  },
  {
   "cell_type": "markdown",
   "metadata": {},
   "source": [
    "### 15\\. 저공해조치구조변경YN"
   ]
  },
  {
   "cell_type": "code",
   "execution_count": null,
   "metadata": {},
   "outputs": [],
   "source": [
    "# - 오류\n",
    "#     - null :  개"
   ]
  },
  {
   "cell_type": "code",
   "execution_count": 99,
   "metadata": {},
   "outputs": [
    {
     "data": {
      "text/plain": [
       "N    1215924\n",
       "Y     312662\n",
       "Name: 저공해조치구조변경YN, dtype: int64"
      ]
     },
     "execution_count": 99,
     "metadata": {},
     "output_type": "execute_result"
    }
   ],
   "source": [
    "df.iloc[:, 15].value_counts()"
   ]
  },
  {
   "cell_type": "code",
   "execution_count": 100,
   "metadata": {},
   "outputs": [
    {
     "data": {
      "text/plain": [
       "0"
      ]
     },
     "execution_count": 100,
     "metadata": {},
     "output_type": "execute_result"
    }
   ],
   "source": [
    "df.iloc[:, 15].isnull().sum()"
   ]
  },
  {
   "cell_type": "markdown",
   "metadata": {},
   "source": [
    "### 16\\. 차량말소YN"
   ]
  },
  {
   "cell_type": "code",
   "execution_count": null,
   "metadata": {},
   "outputs": [],
   "source": [
    "# - 오류\n",
    "#     - null :  개"
   ]
  },
  {
   "cell_type": "code",
   "execution_count": 101,
   "metadata": {},
   "outputs": [
    {
     "data": {
      "text/plain": [
       "N    1528586\n",
       "Name: 차량말소YN, dtype: int64"
      ]
     },
     "execution_count": 101,
     "metadata": {},
     "output_type": "execute_result"
    }
   ],
   "source": [
    "df.iloc[:, 16].value_counts()"
   ]
  },
  {
   "cell_type": "code",
   "execution_count": 102,
   "metadata": {},
   "outputs": [
    {
     "data": {
      "text/plain": [
       "0"
      ]
     },
     "execution_count": 102,
     "metadata": {},
     "output_type": "execute_result"
    }
   ],
   "source": [
    "df.iloc[:, 16].isnull().sum()"
   ]
  },
  {
   "cell_type": "markdown",
   "metadata": {},
   "source": [
    "### 17\\. [e]취득일자"
   ]
  },
  {
   "cell_type": "code",
   "execution_count": null,
   "metadata": {},
   "outputs": [],
   "source": [
    "# - 오류\n",
    "#     - null :  개\n",
    "#     - 8자리 아닌 값 :  개\n",
    "#     - 숫자가 아닌 값(nan값 제외) :   개"
   ]
  },
  {
   "cell_type": "code",
   "execution_count": 103,
   "metadata": {},
   "outputs": [
    {
     "data": {
      "text/plain": [
       "20220607.0    1008\n",
       "20220627.0     901\n",
       "20220602.0     883\n",
       "20220620.0     844\n",
       "20220530.0     833\n",
       "              ... \n",
       "20070221         1\n",
       "20110306         1\n",
       "20020628         1\n",
       "20150415         1\n",
       "20051218.0       1\n",
       "Name: 취득일자, Length: 16929, dtype: int64"
      ]
     },
     "execution_count": 103,
     "metadata": {},
     "output_type": "execute_result"
    }
   ],
   "source": [
    "df.iloc[:, 17].value_counts()"
   ]
  },
  {
   "cell_type": "code",
   "execution_count": 104,
   "metadata": {},
   "outputs": [
    {
     "data": {
      "text/plain": [
       "93072"
      ]
     },
     "execution_count": 104,
     "metadata": {},
     "output_type": "execute_result"
    }
   ],
   "source": [
    "df.iloc[:, 17].isnull().sum()"
   ]
  },
  {
   "cell_type": "code",
   "execution_count": 111,
   "metadata": {},
   "outputs": [
    {
     "data": {
      "text/plain": [
       "dtype('O')"
      ]
     },
     "execution_count": 111,
     "metadata": {},
     "output_type": "execute_result"
    }
   ],
   "source": [
    "df['취득일자'].dtype"
   ]
  },
  {
   "cell_type": "code",
   "execution_count": 113,
   "metadata": {},
   "outputs": [],
   "source": [
    "idx171 = []\n",
    "for i, one in enumerate(df['취득일자'].to_numpy()):\n",
    "    try:\n",
    "        int(one)\n",
    "    except:\n",
    "        idx171.append(i)"
   ]
  },
  {
   "cell_type": "code",
   "execution_count": 114,
   "metadata": {},
   "outputs": [
    {
     "data": {
      "text/plain": [
       "93074"
      ]
     },
     "execution_count": 114,
     "metadata": {},
     "output_type": "execute_result"
    }
   ],
   "source": [
    "len(idx171)"
   ]
  },
  {
   "cell_type": "code",
   "execution_count": 115,
   "metadata": {},
   "outputs": [
    {
     "data": {
      "text/plain": [
       "93072"
      ]
     },
     "execution_count": 115,
     "metadata": {},
     "output_type": "execute_result"
    }
   ],
   "source": [
    "idx172 = df[df['취득일자'].isnull() == True]['취득일자'].index\n",
    "len(idx172)"
   ]
  },
  {
   "cell_type": "code",
   "execution_count": 116,
   "metadata": {},
   "outputs": [
    {
     "data": {
      "text/plain": [
       "735987     200109 9\n",
       "1372039    2001 412\n",
       "Name: 취득일자, dtype: object"
      ]
     },
     "execution_count": 116,
     "metadata": {},
     "output_type": "execute_result"
    }
   ],
   "source": [
    "df.iloc[sorted(set(idx171) - set(idx172)), 17]"
   ]
  },
  {
   "cell_type": "markdown",
   "metadata": {},
   "source": [
    "### 18\\. [e]취득금액"
   ]
  },
  {
   "cell_type": "code",
   "execution_count": null,
   "metadata": {},
   "outputs": [],
   "source": [
    "# - 오류\n",
    "#     - null :  개\n",
    "#     - 숫자가 아닌 값 :  개"
   ]
  },
  {
   "cell_type": "code",
   "execution_count": 117,
   "metadata": {},
   "outputs": [
    {
     "data": {
      "text/plain": [
       "0.0            258676\n",
       "1000000.0       43125\n",
       "500000.0        29818\n",
       "2000000.0       28457\n",
       "100000.0        27958\n",
       "                ...  \n",
       "62790.0             1\n",
       "100761818.0         1\n",
       "26188580.0          1\n",
       "17523047.0          1\n",
       "20240.0             1\n",
       "Name: 취득금액, Length: 159946, dtype: int64"
      ]
     },
     "execution_count": 117,
     "metadata": {},
     "output_type": "execute_result"
    }
   ],
   "source": [
    "df.iloc[:, 18].value_counts()"
   ]
  },
  {
   "cell_type": "code",
   "execution_count": 118,
   "metadata": {},
   "outputs": [
    {
     "data": {
      "text/plain": [
       "74973"
      ]
     },
     "execution_count": 118,
     "metadata": {},
     "output_type": "execute_result"
    }
   ],
   "source": [
    "df.iloc[:, 18].isnull().sum()"
   ]
  },
  {
   "cell_type": "code",
   "execution_count": 122,
   "metadata": {},
   "outputs": [
    {
     "name": "stderr",
     "output_type": "stream",
     "text": [
      "1528586it [00:02, 690456.77it/s]\n"
     ]
    },
    {
     "data": {
      "text/plain": [
       "74973"
      ]
     },
     "execution_count": 122,
     "metadata": {},
     "output_type": "execute_result"
    }
   ],
   "source": [
    "p18 = re.compile('\\D+')\n",
    "idx181 = []\n",
    "idx182 = []\n",
    "count = 0\n",
    "for i, one in tqdm(enumerate(df.iloc[:, 18].to_numpy())):\n",
    "    try:\n",
    "        if p18.search(str(int(one))):\n",
    "            idx181.append(i)\n",
    "            count += 1\n",
    "    except:\n",
    "        idx182.append(i)\n",
    "        count += 1\n",
    "count"
   ]
  },
  {
   "cell_type": "code",
   "execution_count": 125,
   "metadata": {},
   "outputs": [
    {
     "data": {
      "text/plain": [
       "(0, 74973)"
      ]
     },
     "execution_count": 125,
     "metadata": {},
     "output_type": "execute_result"
    }
   ],
   "source": [
    "len(idx181), len(idx182)"
   ]
  },
  {
   "cell_type": "code",
   "execution_count": 123,
   "metadata": {},
   "outputs": [
    {
     "name": "stderr",
     "output_type": "stream",
     "text": [
      "C:\\Users\\kbj\\AppData\\Local\\Temp\\ipykernel_18336\\2151798388.py:1: FutureWarning: The behavior of `series[i:j]` with an integer-dtype index is deprecated. In a future version, this will be treated as *label-based* indexing, consistent with e.g. `series[i]` lookups. To retain the old behavior, use `series.iloc[i:j]`. To get the future behavior, use `series.loc[i:j]`.\n",
      "  df.iloc[:, 18].reindex(idx182)[:5]\n"
     ]
    },
    {
     "data": {
      "text/plain": [
       "62    NaN\n",
       "98    NaN\n",
       "128   NaN\n",
       "146   NaN\n",
       "156   NaN\n",
       "Name: 취득금액, dtype: float64"
      ]
     },
     "execution_count": 123,
     "metadata": {},
     "output_type": "execute_result"
    }
   ],
   "source": [
    "df.iloc[:, 18].reindex(idx182)[:5]"
   ]
  },
  {
   "cell_type": "markdown",
   "metadata": {},
   "source": [
    "### 19\\. 차명"
   ]
  },
  {
   "cell_type": "code",
   "execution_count": null,
   "metadata": {},
   "outputs": [],
   "source": [
    "# - 오류\n",
    "#     - null :  개"
   ]
  },
  {
   "cell_type": "code",
   "execution_count": 126,
   "metadata": {},
   "outputs": [
    {
     "data": {
      "text/plain": [
       "포터Ⅱ(PORTERⅡ)              180795\n",
       "싼타페(SANTAFE)              138850\n",
       "스포티지                       76497\n",
       "그랜드 스타렉스(GRAND STAREX)     74977\n",
       "투싼(TUCSON)                 58687\n",
       "                           ...  \n",
       "CIVIC SiR                      1\n",
       "TACOMA3.4                      1\n",
       "미니브리티시오픈                       1\n",
       "BMW 525itA                     1\n",
       "메가트럭군물자수송                      1\n",
       "Name: 차명, Length: 3572, dtype: int64"
      ]
     },
     "execution_count": 126,
     "metadata": {},
     "output_type": "execute_result"
    }
   ],
   "source": [
    "df.iloc[:, 19].value_counts()"
   ]
  },
  {
   "cell_type": "code",
   "execution_count": 127,
   "metadata": {},
   "outputs": [
    {
     "data": {
      "text/plain": [
       "0"
      ]
     },
     "execution_count": 127,
     "metadata": {},
     "output_type": "execute_result"
    }
   ],
   "source": [
    "df.iloc[:, 19].isnull().sum()"
   ]
  },
  {
   "cell_type": "markdown",
   "metadata": {},
   "source": [
    "### 20\\. 차종_제원정보"
   ]
  },
  {
   "cell_type": "code",
   "execution_count": null,
   "metadata": {},
   "outputs": [],
   "source": [
    "# - 오류\n",
    "#     - null :  개"
   ]
  },
  {
   "cell_type": "code",
   "execution_count": 128,
   "metadata": {},
   "outputs": [
    {
     "data": {
      "text/plain": [
       "승용    843902\n",
       "화물    521971\n",
       "승합    155705\n",
       "특수      7008\n",
       "Name: 차종_제원정보, dtype: int64"
      ]
     },
     "execution_count": 128,
     "metadata": {},
     "output_type": "execute_result"
    }
   ],
   "source": [
    "df.iloc[:, 20].value_counts()"
   ]
  },
  {
   "cell_type": "code",
   "execution_count": 129,
   "metadata": {},
   "outputs": [
    {
     "data": {
      "text/plain": [
       "0"
      ]
     },
     "execution_count": 129,
     "metadata": {},
     "output_type": "execute_result"
    }
   ],
   "source": [
    "df.iloc[:, 20].isnull().sum()"
   ]
  },
  {
   "cell_type": "markdown",
   "metadata": {},
   "source": [
    "### 21\\. 차종분류"
   ]
  },
  {
   "cell_type": "code",
   "execution_count": null,
   "metadata": {},
   "outputs": [],
   "source": [
    "# - 오류\n",
    "#     - null :  개"
   ]
  },
  {
   "cell_type": "code",
   "execution_count": 130,
   "metadata": {},
   "outputs": [
    {
     "data": {
      "text/plain": [
       "일반             540536\n",
       "다목적            439052\n",
       "일반형-카고         370138\n",
       "밴               63114\n",
       "특수용도형-특수용도형     51196\n",
       "일반형-픽업          31406\n",
       "기타              18027\n",
       "덤프               5965\n",
       "견인               5446\n",
       "특수               1725\n",
       "특수작업형             854\n",
       "구난                708\n",
       "승용겸화물             267\n",
       "특수용도형-탱크로리        151\n",
       "특수용도형-피견인           1\n",
       "Name: 차종분류, dtype: int64"
      ]
     },
     "execution_count": 130,
     "metadata": {},
     "output_type": "execute_result"
    }
   ],
   "source": [
    "df.iloc[:, 21].value_counts()"
   ]
  },
  {
   "cell_type": "code",
   "execution_count": 131,
   "metadata": {},
   "outputs": [
    {
     "data": {
      "text/plain": [
       "0"
      ]
     },
     "execution_count": 131,
     "metadata": {},
     "output_type": "execute_result"
    }
   ],
   "source": [
    "df.iloc[:, 21].isnull().sum()"
   ]
  },
  {
   "cell_type": "markdown",
   "metadata": {},
   "source": [
    "### 22\\. 차종유형"
   ]
  },
  {
   "cell_type": "code",
   "execution_count": null,
   "metadata": {},
   "outputs": [],
   "source": [
    "# - 오류\n",
    "#     - null :  개"
   ]
  },
  {
   "cell_type": "code",
   "execution_count": 132,
   "metadata": {},
   "outputs": [
    {
     "data": {
      "text/plain": [
       "중형    698798\n",
       "소형    582232\n",
       "대형    219531\n",
       "경형     28025\n",
       "Name: 차종유형, dtype: int64"
      ]
     },
     "execution_count": 132,
     "metadata": {},
     "output_type": "execute_result"
    }
   ],
   "source": [
    "df.iloc[:, 22].value_counts()"
   ]
  },
  {
   "cell_type": "code",
   "execution_count": 134,
   "metadata": {},
   "outputs": [
    {
     "data": {
      "text/plain": [
       "0"
      ]
     },
     "execution_count": 134,
     "metadata": {},
     "output_type": "execute_result"
    }
   ],
   "source": [
    "df.iloc[:, 22].isnull().sum()"
   ]
  },
  {
   "cell_type": "markdown",
   "metadata": {},
   "source": [
    "### 23\\. [e]자동차형식"
   ]
  },
  {
   "cell_type": "code",
   "execution_count": null,
   "metadata": {},
   "outputs": [],
   "source": [
    "# - 오류\n",
    "#     - null :  개"
   ]
  },
  {
   "cell_type": "code",
   "execution_count": 135,
   "metadata": {},
   "outputs": [
    {
     "data": {
      "text/plain": [
       "CM7UBA               36235\n",
       "CA26R                23887\n",
       "JE553G-HG            22730\n",
       "HRQJA-DX-B           19414\n",
       "TQ-12JAB-1           16880\n",
       "                     ...  \n",
       "HD2-42-10Le-BEIT1        1\n",
       "EN-7NS3DAF8-2            1\n",
       "HBSV-VD138               1\n",
       "KTH-18L14.5-410          1\n",
       "HD050-8MT2-LGc-A         1\n",
       "Name: 자동차형식, Length: 8114, dtype: int64"
      ]
     },
     "execution_count": 135,
     "metadata": {},
     "output_type": "execute_result"
    }
   ],
   "source": [
    "df.iloc[:, 23].value_counts()"
   ]
  },
  {
   "cell_type": "code",
   "execution_count": 136,
   "metadata": {},
   "outputs": [
    {
     "data": {
      "text/plain": [
       "284"
      ]
     },
     "execution_count": 136,
     "metadata": {},
     "output_type": "execute_result"
    }
   ],
   "source": [
    "df.iloc[:, 23].isnull().sum()"
   ]
  },
  {
   "cell_type": "markdown",
   "metadata": {},
   "source": [
    "### 24\\. [e]제작사명"
   ]
  },
  {
   "cell_type": "code",
   "execution_count": null,
   "metadata": {},
   "outputs": [],
   "source": [
    "# - 오류\n",
    "#     - null :  개"
   ]
  },
  {
   "cell_type": "code",
   "execution_count": 137,
   "metadata": {},
   "outputs": [
    {
     "data": {
      "text/plain": [
       "현대자동차(주)       891178\n",
       "기아자동차(주)       377792\n",
       "대우자동차(주)        62506\n",
       "한국지엠주식회사        53957\n",
       "쌍용자동차(주)        41016\n",
       "                ...  \n",
       "(주) 미래교통렌트카         1\n",
       "마이웨이                1\n",
       "고랜드코리아              1\n",
       "백상 CTC              1\n",
       "서울시티투어버스(주)         1\n",
       "Name: 제작사명, Length: 669, dtype: int64"
      ]
     },
     "execution_count": 137,
     "metadata": {},
     "output_type": "execute_result"
    }
   ],
   "source": [
    "df.iloc[:, 24].value_counts()"
   ]
  },
  {
   "cell_type": "code",
   "execution_count": 138,
   "metadata": {},
   "outputs": [
    {
     "data": {
      "text/plain": [
       "9892"
      ]
     },
     "execution_count": 138,
     "metadata": {},
     "output_type": "execute_result"
    }
   ],
   "source": [
    "df.iloc[:, 24].isnull().sum()"
   ]
  },
  {
   "cell_type": "markdown",
   "metadata": {},
   "source": [
    "### 25\\. 연료"
   ]
  },
  {
   "cell_type": "code",
   "execution_count": null,
   "metadata": {},
   "outputs": [],
   "source": [
    "# - 오류\n",
    "#     - null :  개"
   ]
  },
  {
   "cell_type": "code",
   "execution_count": 139,
   "metadata": {},
   "outputs": [
    {
     "data": {
      "text/plain": [
       "경유             1167610\n",
       "휘발유             334517\n",
       "LPG(액화석유가스)      26419\n",
       "기타연료                38\n",
       "알코올                  1\n",
       "CNG(압축천연가스)          1\n",
       "Name: 연료, dtype: int64"
      ]
     },
     "execution_count": 139,
     "metadata": {},
     "output_type": "execute_result"
    }
   ],
   "source": [
    "df.iloc[:, 25].value_counts()"
   ]
  },
  {
   "cell_type": "code",
   "execution_count": 140,
   "metadata": {},
   "outputs": [
    {
     "data": {
      "text/plain": [
       "0"
      ]
     },
     "execution_count": 140,
     "metadata": {},
     "output_type": "execute_result"
    }
   ],
   "source": [
    "df.iloc[:, 25].isnull().sum()"
   ]
  },
  {
   "cell_type": "markdown",
   "metadata": {},
   "source": [
    "### 26\\. [e]엔진형식"
   ]
  },
  {
   "cell_type": "code",
   "execution_count": null,
   "metadata": {},
   "outputs": [],
   "source": [
    "# - 오류\n",
    "#     - null :  개"
   ]
  },
  {
   "cell_type": "code",
   "execution_count": 141,
   "metadata": {},
   "outputs": [
    {
     "data": {
      "text/plain": [
       "D4CB           407006\n",
       "D4EA           190781\n",
       "J3             139727\n",
       "D6EA            75036\n",
       "Z20S            53958\n",
       "                ...  \n",
       "12A2DJ01            1\n",
       "AR01544             1\n",
       "LT-1                1\n",
       "J3-8-VF-F           1\n",
       "D2676 LOH02         1\n",
       "Name: 엔진형식, Length: 1428, dtype: int64"
      ]
     },
     "execution_count": 141,
     "metadata": {},
     "output_type": "execute_result"
    }
   ],
   "source": [
    "df.iloc[:, 26].value_counts()"
   ]
  },
  {
   "cell_type": "code",
   "execution_count": 142,
   "metadata": {},
   "outputs": [
    {
     "data": {
      "text/plain": [
       "1846"
      ]
     },
     "execution_count": 142,
     "metadata": {},
     "output_type": "execute_result"
    }
   ],
   "source": [
    "df.iloc[:, 26].isnull().sum()"
   ]
  },
  {
   "cell_type": "markdown",
   "metadata": {},
   "source": [
    "### 27\\. [e]총중량"
   ]
  },
  {
   "cell_type": "code",
   "execution_count": null,
   "metadata": {},
   "outputs": [],
   "source": [
    "# - 오류\n",
    "#     - null :  개\n",
    "#     - 숫자가 아닌 값 :  개"
   ]
  },
  {
   "cell_type": "code",
   "execution_count": 143,
   "metadata": {},
   "outputs": [
    {
     "data": {
      "text/plain": [
       "2925.0     66420\n",
       "2285.0     53732\n",
       "2950.0     51480\n",
       "2955.0     47126\n",
       "2345.0     39729\n",
       "           ...  \n",
       "6960.0         1\n",
       "10570.0        1\n",
       "35180.0        1\n",
       "5435.0         1\n",
       "21690.0        1\n",
       "Name: 총중량, Length: 2121, dtype: int64"
      ]
     },
     "execution_count": 143,
     "metadata": {},
     "output_type": "execute_result"
    }
   ],
   "source": [
    "df.iloc[:, 27].value_counts()"
   ]
  },
  {
   "cell_type": "code",
   "execution_count": 144,
   "metadata": {},
   "outputs": [
    {
     "data": {
      "text/plain": [
       "1"
      ]
     },
     "execution_count": 144,
     "metadata": {},
     "output_type": "execute_result"
    }
   ],
   "source": [
    "df.iloc[:, 27].isnull().sum()"
   ]
  },
  {
   "cell_type": "code",
   "execution_count": 145,
   "metadata": {},
   "outputs": [
    {
     "name": "stderr",
     "output_type": "stream",
     "text": [
      "1528586it [00:02, 662307.08it/s]\n"
     ]
    },
    {
     "data": {
      "text/plain": [
       "1"
      ]
     },
     "execution_count": 145,
     "metadata": {},
     "output_type": "execute_result"
    }
   ],
   "source": [
    "p27 = re.compile('\\D+')\n",
    "idx271 = []\n",
    "idx272 = []\n",
    "count = 0\n",
    "for i, one in tqdm(enumerate(df.iloc[:, 27].to_numpy())):\n",
    "    try:\n",
    "        if p27.search(str(int(one))):\n",
    "            idx271.append(i)\n",
    "            count += 1\n",
    "    except:\n",
    "        idx272.append(i)\n",
    "        count += 1\n",
    "count"
   ]
  },
  {
   "cell_type": "code",
   "execution_count": 146,
   "metadata": {},
   "outputs": [
    {
     "data": {
      "text/plain": [
       "(0, 1)"
      ]
     },
     "execution_count": 146,
     "metadata": {},
     "output_type": "execute_result"
    }
   ],
   "source": [
    "len(idx271), len(idx272)"
   ]
  },
  {
   "cell_type": "markdown",
   "metadata": {},
   "source": [
    "### 28\\. [e]적재중량\n",
    "- 오류\n",
    "    - null :  개\n",
    "    - 숫자가 아닌 값 :  개"
   ]
  },
  {
   "cell_type": "code",
   "execution_count": 149,
   "metadata": {},
   "outputs": [
    {
     "data": {
      "text/plain": [
       "0.0         999646\n",
       "1000.0      351435\n",
       "600.0        41249\n",
       "400.0        31382\n",
       "800.0        24526\n",
       "             ...  \n",
       "9400.0           1\n",
       "10200.0          1\n",
       "450000.0         1\n",
       "14200.0          1\n",
       "800000.0         1\n",
       "Name: 적재중량, Length: 164, dtype: int64"
      ]
     },
     "execution_count": 149,
     "metadata": {},
     "output_type": "execute_result"
    }
   ],
   "source": [
    "df.iloc[:, 28].value_counts()"
   ]
  },
  {
   "cell_type": "code",
   "execution_count": 150,
   "metadata": {},
   "outputs": [
    {
     "data": {
      "text/plain": [
       "511"
      ]
     },
     "execution_count": 150,
     "metadata": {},
     "output_type": "execute_result"
    }
   ],
   "source": [
    "df.iloc[:, 28].isnull().sum()"
   ]
  },
  {
   "cell_type": "code",
   "execution_count": 151,
   "metadata": {},
   "outputs": [
    {
     "name": "stderr",
     "output_type": "stream",
     "text": [
      "1528586it [00:02, 690660.57it/s]\n"
     ]
    },
    {
     "data": {
      "text/plain": [
       "511"
      ]
     },
     "execution_count": 151,
     "metadata": {},
     "output_type": "execute_result"
    }
   ],
   "source": [
    "p28 = re.compile('\\D+')\n",
    "idx281 = []\n",
    "idx282 = []\n",
    "count = 0\n",
    "for i, one in tqdm(enumerate(df.iloc[:, 28].to_numpy())):\n",
    "    try:\n",
    "        if p28.search(str(int(one))):\n",
    "            idx281.append(i)\n",
    "            count += 1\n",
    "    except:\n",
    "        idx282.append(i)\n",
    "        count += 1\n",
    "count"
   ]
  },
  {
   "cell_type": "code",
   "execution_count": 152,
   "metadata": {},
   "outputs": [
    {
     "data": {
      "text/plain": [
       "(0, 511)"
      ]
     },
     "execution_count": 152,
     "metadata": {},
     "output_type": "execute_result"
    }
   ],
   "source": [
    "len(idx281), len(idx282)"
   ]
  },
  {
   "cell_type": "markdown",
   "metadata": {},
   "source": [
    "### 19\\. [e]엔진출력\n",
    "- 오류\n",
    "    - null :  개\n",
    "    - 숫자가 아닌 값 :  개"
   ]
  },
  {
   "cell_type": "code",
   "execution_count": 153,
   "metadata": {},
   "outputs": [
    {
     "data": {
      "text/plain": [
       "126.0       289953\n",
       "174.0       104789\n",
       "151.0        91306\n",
       "150.0        77553\n",
       "126          64775\n",
       "             ...  \n",
       "280-6400         1\n",
       "4                1\n",
       "34.0             1\n",
       "273.0            1\n",
       "436.0            1\n",
       "Name: 엔진출력, Length: 662, dtype: int64"
      ]
     },
     "execution_count": 153,
     "metadata": {},
     "output_type": "execute_result"
    }
   ],
   "source": [
    "df.iloc[:, 29].value_counts()"
   ]
  },
  {
   "cell_type": "code",
   "execution_count": 154,
   "metadata": {},
   "outputs": [
    {
     "data": {
      "text/plain": [
       "359"
      ]
     },
     "execution_count": 154,
     "metadata": {},
     "output_type": "execute_result"
    }
   ],
   "source": [
    "df.iloc[:, 29].isnull().sum()"
   ]
  },
  {
   "cell_type": "code",
   "execution_count": 160,
   "metadata": {},
   "outputs": [
    {
     "name": "stderr",
     "output_type": "stream",
     "text": [
      "1528586it [00:02, 708461.06it/s]\n"
     ]
    },
    {
     "data": {
      "text/plain": [
       "377"
      ]
     },
     "execution_count": 160,
     "metadata": {},
     "output_type": "execute_result"
    }
   ],
   "source": [
    "p29 = re.compile('\\d+[.]\\d+')\n",
    "idx291 = []\n",
    "idx292 = []\n",
    "count = 0\n",
    "for i, one in tqdm(enumerate(df.iloc[:, 29].to_numpy())):\n",
    "    try:\n",
    "        if not p29.search(str(float(one))):\n",
    "            idx291.append(i)\n",
    "            count += 1\n",
    "    except:\n",
    "        idx292.append(i)\n",
    "        count += 1\n",
    "count"
   ]
  },
  {
   "cell_type": "code",
   "execution_count": 161,
   "metadata": {},
   "outputs": [
    {
     "data": {
      "text/plain": [
       "(359, 18)"
      ]
     },
     "execution_count": 161,
     "metadata": {},
     "output_type": "execute_result"
    }
   ],
   "source": [
    "len(idx291), len(idx292)"
   ]
  },
  {
   "cell_type": "code",
   "execution_count": 162,
   "metadata": {},
   "outputs": [
    {
     "data": {
      "text/plain": [
       "359"
      ]
     },
     "execution_count": 162,
     "metadata": {},
     "output_type": "execute_result"
    }
   ],
   "source": [
    "idx293 = df[df['엔진출력'].isnull() == True]['엔진출력'].index\n",
    "len(idx293)"
   ]
  },
  {
   "cell_type": "code",
   "execution_count": 163,
   "metadata": {},
   "outputs": [
    {
     "name": "stderr",
     "output_type": "stream",
     "text": [
      "C:\\Users\\kbj\\AppData\\Local\\Temp\\ipykernel_18336\\2791330140.py:1: FutureWarning: The behavior of `series[i:j]` with an integer-dtype index is deprecated. In a future version, this will be treated as *label-based* indexing, consistent with e.g. `series[i]` lookups. To retain the old behavior, use `series.iloc[i:j]`. To get the future behavior, use `series.loc[i:j]`.\n",
      "  df.iloc[idx291, 29][:5]\n"
     ]
    },
    {
     "data": {
      "text/plain": [
       "12060    NaN\n",
       "16761    NaN\n",
       "19514    NaN\n",
       "22845    NaN\n",
       "25508    NaN\n",
       "Name: 엔진출력, dtype: object"
      ]
     },
     "execution_count": 163,
     "metadata": {},
     "output_type": "execute_result"
    }
   ],
   "source": [
    "df.iloc[idx291, 29][:5]"
   ]
  },
  {
   "cell_type": "code",
   "execution_count": 164,
   "metadata": {},
   "outputs": [
    {
     "name": "stderr",
     "output_type": "stream",
     "text": [
      "C:\\Users\\kbj\\AppData\\Local\\Temp\\ipykernel_18336\\491642684.py:1: FutureWarning: The behavior of `series[i:j]` with an integer-dtype index is deprecated. In a future version, this will be treated as *label-based* indexing, consistent with e.g. `series[i]` lookups. To retain the old behavior, use `series.iloc[i:j]`. To get the future behavior, use `series.loc[i:j]`.\n",
      "  df.iloc[idx292, 29][:5]\n"
     ]
    },
    {
     "data": {
      "text/plain": [
       "50704        114PS\n",
       "114636       113ps\n",
       "162707      0140PS\n",
       "195884    105-5800\n",
       "205207       195HP\n",
       "Name: 엔진출력, dtype: object"
      ]
     },
     "execution_count": 164,
     "metadata": {},
     "output_type": "execute_result"
    }
   ],
   "source": [
    "df.iloc[idx292, 29][:5]"
   ]
  },
  {
   "cell_type": "code",
   "execution_count": 167,
   "metadata": {},
   "outputs": [
    {
     "name": "stderr",
     "output_type": "stream",
     "text": [
      "C:\\Users\\kbj\\AppData\\Local\\Temp\\ipykernel_18336\\2073082367.py:1: FutureWarning: The behavior of `series[i:j]` with an integer-dtype index is deprecated. In a future version, this will be treated as *label-based* indexing, consistent with e.g. `series[i]` lookups. To retain the old behavior, use `series.iloc[i:j]`. To get the future behavior, use `series.loc[i:j]`.\n",
      "  df.iloc[idx293, 29][:5]\n"
     ]
    },
    {
     "data": {
      "text/plain": [
       "12060    NaN\n",
       "16761    NaN\n",
       "19514    NaN\n",
       "22845    NaN\n",
       "25508    NaN\n",
       "Name: 엔진출력, dtype: object"
      ]
     },
     "execution_count": 167,
     "metadata": {},
     "output_type": "execute_result"
    }
   ],
   "source": [
    "df.iloc[idx293, 29][:5]"
   ]
  },
  {
   "cell_type": "markdown",
   "metadata": {},
   "source": [
    "### 30\\. [e]배기량\n",
    "- error\n",
    "    - null : \n",
    "    - 숫자가 아닌 값 : "
   ]
  },
  {
   "cell_type": "code",
   "execution_count": 169,
   "metadata": {},
   "outputs": [
    {
     "data": {
      "text/plain": [
       "2497.0     412725\n",
       "1991.0     245078\n",
       "2902.0     139727\n",
       "2959.0      75053\n",
       "1995.0      68705\n",
       "            ...  \n",
       "4701.0          1\n",
       "3803.0          1\n",
       "5958.0          1\n",
       "15607.0         1\n",
       "12412.0         1\n",
       "Name: 배기량, Length: 627, dtype: int64"
      ]
     },
     "execution_count": 169,
     "metadata": {},
     "output_type": "execute_result"
    }
   ],
   "source": [
    "df.iloc[:, 30].value_counts()"
   ]
  },
  {
   "cell_type": "code",
   "execution_count": 170,
   "metadata": {},
   "outputs": [
    {
     "data": {
      "text/plain": [
       "4"
      ]
     },
     "execution_count": 170,
     "metadata": {},
     "output_type": "execute_result"
    }
   ],
   "source": [
    "df.iloc[:, 30].isnull().sum()"
   ]
  },
  {
   "cell_type": "code",
   "execution_count": 171,
   "metadata": {},
   "outputs": [
    {
     "name": "stderr",
     "output_type": "stream",
     "text": [
      "1528586it [00:02, 619306.55it/s]\n"
     ]
    },
    {
     "data": {
      "text/plain": [
       "4"
      ]
     },
     "execution_count": 171,
     "metadata": {},
     "output_type": "execute_result"
    }
   ],
   "source": [
    "p30 = re.compile('\\D+')\n",
    "idx301 = []\n",
    "idx302 = []\n",
    "count = 0\n",
    "for i, one in tqdm(enumerate(df.iloc[:, 30].to_numpy())):\n",
    "    try:\n",
    "        if p30.search(str(int(one))):\n",
    "            idx301.append(i)\n",
    "            count += 1\n",
    "    except:\n",
    "        idx302.append(i)\n",
    "        count += 1\n",
    "count"
   ]
  },
  {
   "cell_type": "code",
   "execution_count": 172,
   "metadata": {},
   "outputs": [
    {
     "data": {
      "text/plain": [
       "(0, 4)"
      ]
     },
     "execution_count": 172,
     "metadata": {},
     "output_type": "execute_result"
    }
   ],
   "source": [
    "len(idx301), len(idx302)"
   ]
  },
  {
   "cell_type": "markdown",
   "metadata": {},
   "source": [
    "### 31\\. 승차인원\n",
    "- error\n",
    "    - null : "
   ]
  },
  {
   "cell_type": "code",
   "execution_count": 173,
   "metadata": {},
   "outputs": [
    {
     "data": {
      "text/plain": [
       "5     625751\n",
       "3     338761\n",
       "7     271132\n",
       "6      92585\n",
       "11     72915\n",
       "12     58829\n",
       "2      27413\n",
       "9      20963\n",
       "4       9575\n",
       "25      4045\n",
       "47      1446\n",
       "34      1115\n",
       "46       901\n",
       "0        852\n",
       "39       460\n",
       "29       410\n",
       "15       275\n",
       "43       229\n",
       "38       186\n",
       "42       147\n",
       "30       139\n",
       "8         91\n",
       "45        58\n",
       "16        48\n",
       "41        41\n",
       "18        32\n",
       "59        22\n",
       "33        21\n",
       "21        18\n",
       "20        17\n",
       "19        14\n",
       "28        13\n",
       "35        12\n",
       "10         9\n",
       "1          8\n",
       "32         7\n",
       "26         6\n",
       "63         4\n",
       "40         4\n",
       "56         4\n",
       "23         4\n",
       "14         4\n",
       "31         3\n",
       "22         3\n",
       "37         2\n",
       "62         2\n",
       "51         2\n",
       "67         2\n",
       "44         2\n",
       "50         1\n",
       "27         1\n",
       "36         1\n",
       "64         1\n",
       "Name: 승차인원, dtype: int64"
      ]
     },
     "execution_count": 173,
     "metadata": {},
     "output_type": "execute_result"
    }
   ],
   "source": [
    "df.iloc[:, 31].value_counts()"
   ]
  },
  {
   "cell_type": "code",
   "execution_count": 174,
   "metadata": {},
   "outputs": [
    {
     "data": {
      "text/plain": [
       "0"
      ]
     },
     "execution_count": 174,
     "metadata": {},
     "output_type": "execute_result"
    }
   ],
   "source": [
    "df.iloc[:, 31].isnull().sum()"
   ]
  },
  {
   "cell_type": "code",
   "execution_count": 180,
   "metadata": {},
   "outputs": [
    {
     "name": "stderr",
     "output_type": "stream",
     "text": [
      "1528586it [00:02, 756812.66it/s]\n"
     ]
    },
    {
     "data": {
      "text/plain": [
       "0"
      ]
     },
     "execution_count": 180,
     "metadata": {},
     "output_type": "execute_result"
    }
   ],
   "source": [
    "p31 = re.compile('\\D+')\n",
    "idx311 = []\n",
    "idx312 = []\n",
    "count = 0\n",
    "for i, one in tqdm(enumerate(df.iloc[:, 31].to_numpy())):\n",
    "    try:\n",
    "        if p31.search(str(int(one))):\n",
    "            idx311.append(i)\n",
    "            count += 1\n",
    "    except:\n",
    "        idx312.append(i)\n",
    "        count += 1\n",
    "count"
   ]
  },
  {
   "cell_type": "markdown",
   "metadata": {},
   "source": [
    "### 32\\. [e]차량길이\n",
    "- error\n",
    "    - null : \n",
    "    - 숫자 아닌 값 : "
   ]
  },
  {
   "cell_type": "code",
   "execution_count": 175,
   "metadata": {},
   "outputs": [
    {
     "data": {
      "text/plain": [
       "4675.0     139634\n",
       "5125.0     138323\n",
       "5085.0     126095\n",
       "5120.0      76767\n",
       "4350.0      76260\n",
       "            ...  \n",
       "11970.0         1\n",
       "4593.0          1\n",
       "8285.0          1\n",
       "5940.0          1\n",
       "5435.0          1\n",
       "Name: 차량길이, Length: 1247, dtype: int64"
      ]
     },
     "execution_count": 175,
     "metadata": {},
     "output_type": "execute_result"
    }
   ],
   "source": [
    "df.iloc[:, 32].value_counts()"
   ]
  },
  {
   "cell_type": "code",
   "execution_count": 176,
   "metadata": {},
   "outputs": [
    {
     "data": {
      "text/plain": [
       "1"
      ]
     },
     "execution_count": 176,
     "metadata": {},
     "output_type": "execute_result"
    }
   ],
   "source": [
    "df.iloc[:, 32].isnull().sum()"
   ]
  },
  {
   "cell_type": "code",
   "execution_count": 177,
   "metadata": {},
   "outputs": [
    {
     "name": "stderr",
     "output_type": "stream",
     "text": [
      "1528586it [00:02, 701730.27it/s]\n"
     ]
    },
    {
     "data": {
      "text/plain": [
       "1"
      ]
     },
     "execution_count": 177,
     "metadata": {},
     "output_type": "execute_result"
    }
   ],
   "source": [
    "p32 = re.compile('\\D+')\n",
    "idx321 = []\n",
    "idx322 = []\n",
    "count = 0\n",
    "for i, one in tqdm(enumerate(df.iloc[:, 32].to_numpy())):\n",
    "    try:\n",
    "        if p32.search(str(int(one))):\n",
    "            idx321.append(i)\n",
    "            count += 1\n",
    "    except:\n",
    "        idx322.append(i)\n",
    "        count += 1\n",
    "count"
   ]
  },
  {
   "cell_type": "code",
   "execution_count": 178,
   "metadata": {},
   "outputs": [
    {
     "data": {
      "text/plain": [
       "(0, 1)"
      ]
     },
     "execution_count": 178,
     "metadata": {},
     "output_type": "execute_result"
    }
   ],
   "source": [
    "len(idx321), len(idx322)"
   ]
  },
  {
   "cell_type": "markdown",
   "metadata": {},
   "source": [
    "### 33\\. [e]차량너비\n",
    "- error\n",
    "    - null : \n",
    "    - 숫자 아닌 값 : "
   ]
  },
  {
   "cell_type": "code",
   "execution_count": 206,
   "metadata": {},
   "outputs": [
    {
     "data": {
      "text/plain": [
       "1740.0    326413\n",
       "1890.0    143036\n",
       "1920.0    127426\n",
       "1985.0     74746\n",
       "1840.0     53628\n",
       "           ...  \n",
       "175.0          1\n",
       "2465.0         1\n",
       "1834.0         1\n",
       "1633.0         1\n",
       "1610.0         1\n",
       "Name: 차량너비, Length: 318, dtype: int64"
      ]
     },
     "execution_count": 206,
     "metadata": {},
     "output_type": "execute_result"
    }
   ],
   "source": [
    "df.iloc[:, 33].value_counts()"
   ]
  },
  {
   "cell_type": "code",
   "execution_count": 207,
   "metadata": {},
   "outputs": [
    {
     "data": {
      "text/plain": [
       "1"
      ]
     },
     "execution_count": 207,
     "metadata": {},
     "output_type": "execute_result"
    }
   ],
   "source": [
    "df.iloc[:, 33].isnull().sum()"
   ]
  },
  {
   "cell_type": "code",
   "execution_count": 208,
   "metadata": {},
   "outputs": [
    {
     "name": "stderr",
     "output_type": "stream",
     "text": [
      "1528586it [00:02, 685335.39it/s]\n"
     ]
    },
    {
     "data": {
      "text/plain": [
       "1"
      ]
     },
     "execution_count": 208,
     "metadata": {},
     "output_type": "execute_result"
    }
   ],
   "source": [
    "p33 = re.compile('\\D+')\n",
    "idx331 = []\n",
    "idx332 = []\n",
    "count = 0\n",
    "for i, one in tqdm(enumerate(df.iloc[:, 33].to_numpy())):\n",
    "    try:\n",
    "        if p33.search(str(int(one))):\n",
    "            idx331.append(i)\n",
    "            count += 1\n",
    "    except:\n",
    "        idx332.append(i)\n",
    "        count += 1\n",
    "count"
   ]
  },
  {
   "cell_type": "markdown",
   "metadata": {},
   "source": [
    "### 34\\. [e]차량높이\n",
    "- error\n",
    "    - null : \n",
    "    - 숫자 아닌 값 : "
   ]
  },
  {
   "cell_type": "code",
   "execution_count": 181,
   "metadata": {},
   "outputs": [
    {
     "data": {
      "text/plain": [
       "1965.0    229617\n",
       "1695.0     72455\n",
       "1925.0     67094\n",
       "1995.0     58511\n",
       "1935.0     56907\n",
       "           ...  \n",
       "2210.0         1\n",
       "1717.0         1\n",
       "2615.0         1\n",
       "1529.0         1\n",
       "4000.0         1\n",
       "Name: 차량높이, Length: 604, dtype: int64"
      ]
     },
     "execution_count": 181,
     "metadata": {},
     "output_type": "execute_result"
    }
   ],
   "source": [
    "df.iloc[:, 34].value_counts()"
   ]
  },
  {
   "cell_type": "code",
   "execution_count": 182,
   "metadata": {},
   "outputs": [
    {
     "data": {
      "text/plain": [
       "3"
      ]
     },
     "execution_count": 182,
     "metadata": {},
     "output_type": "execute_result"
    }
   ],
   "source": [
    "df.iloc[:, 34].isnull().sum()"
   ]
  },
  {
   "cell_type": "code",
   "execution_count": 183,
   "metadata": {},
   "outputs": [
    {
     "name": "stderr",
     "output_type": "stream",
     "text": [
      "1528586it [00:02, 618882.59it/s]\n"
     ]
    },
    {
     "data": {
      "text/plain": [
       "3"
      ]
     },
     "execution_count": 183,
     "metadata": {},
     "output_type": "execute_result"
    }
   ],
   "source": [
    "p34 = re.compile('\\D+')\n",
    "idx341 = []\n",
    "idx342 = []\n",
    "count = 0\n",
    "for i, one in tqdm(enumerate(df.iloc[:, 34].to_numpy())):\n",
    "    try:\n",
    "        if p34.search(str(int(one))):\n",
    "            idx341.append(i)\n",
    "            count += 1\n",
    "    except:\n",
    "        idx342.append(i)\n",
    "        count += 1\n",
    "count"
   ]
  },
  {
   "cell_type": "markdown",
   "metadata": {},
   "source": [
    "### 35\\. [e]원산지명\n",
    "- error\n",
    "    - null : \n",
    "    - 문자 아닌 값 : "
   ]
  },
  {
   "cell_type": "code",
   "execution_count": 184,
   "metadata": {},
   "outputs": [
    {
     "data": {
      "text/plain": [
       "대한민국           1467579\n",
       "독일               16650\n",
       "미국                7363\n",
       "스웨덴               6916\n",
       "프랑스               5140\n",
       "영국                2990\n",
       "일본                1476\n",
       "네덜란드               676\n",
       "오스트리아              298\n",
       "이탈리아               209\n",
       "기타                  78\n",
       "캐나다                 31\n",
       "벨기에                 27\n",
       "멕시코                 24\n",
       "대만                  13\n",
       "중국                   9\n",
       "가나                   5\n",
       "스페인                  4\n",
       "스위스                  3\n",
       "괌                    2\n",
       "덴마크                  2\n",
       "기니비사우                1\n",
       "감비아                  1\n",
       "가봉                   1\n",
       "독립국연합 (CIS)          1\n",
       "Name: 원산지명, dtype: int64"
      ]
     },
     "execution_count": 184,
     "metadata": {},
     "output_type": "execute_result"
    }
   ],
   "source": [
    "df.iloc[:, 35].value_counts()"
   ]
  },
  {
   "cell_type": "code",
   "execution_count": 185,
   "metadata": {},
   "outputs": [
    {
     "data": {
      "text/plain": [
       "19087"
      ]
     },
     "execution_count": 185,
     "metadata": {},
     "output_type": "execute_result"
    }
   ],
   "source": [
    "df.iloc[:, 35].isnull().sum()"
   ]
  },
  {
   "cell_type": "code",
   "execution_count": 187,
   "metadata": {},
   "outputs": [
    {
     "name": "stderr",
     "output_type": "stream",
     "text": [
      "1528586it [00:01, 1136214.58it/s]\n"
     ]
    },
    {
     "data": {
      "text/plain": [
       "19087"
      ]
     },
     "execution_count": 187,
     "metadata": {},
     "output_type": "execute_result"
    }
   ],
   "source": [
    "p35 = re.compile('\\D+')\n",
    "idx351 = []\n",
    "idx352 = []\n",
    "count = 0\n",
    "for i, one in tqdm(enumerate(df.iloc[:, 35].to_numpy())):\n",
    "    try:\n",
    "        if not p35.search(one):\n",
    "            idx351.append(i)\n",
    "            count += 1\n",
    "    except:\n",
    "        idx352.append(i)\n",
    "        count += 1\n",
    "count"
   ]
  },
  {
   "cell_type": "code",
   "execution_count": 188,
   "metadata": {},
   "outputs": [
    {
     "data": {
      "text/plain": [
       "(0, 19087)"
      ]
     },
     "execution_count": 188,
     "metadata": {},
     "output_type": "execute_result"
    }
   ],
   "source": [
    "len(idx351), len(idx352)"
   ]
  },
  {
   "cell_type": "markdown",
   "metadata": {},
   "source": [
    "### 36\\. 삭제YN\n",
    "- error\n",
    "    - null : "
   ]
  },
  {
   "cell_type": "code",
   "execution_count": 189,
   "metadata": {},
   "outputs": [
    {
     "data": {
      "text/plain": [
       "N    1528586\n",
       "Name: 삭제YN, dtype: int64"
      ]
     },
     "execution_count": 189,
     "metadata": {},
     "output_type": "execute_result"
    }
   ],
   "source": [
    "df.iloc[:, 36].value_counts()"
   ]
  },
  {
   "cell_type": "code",
   "execution_count": 190,
   "metadata": {},
   "outputs": [
    {
     "data": {
      "text/plain": [
       "0"
      ]
     },
     "execution_count": 190,
     "metadata": {},
     "output_type": "execute_result"
    }
   ],
   "source": [
    "df.iloc[:, 36].isnull().sum()"
   ]
  },
  {
   "cell_type": "markdown",
   "metadata": {},
   "source": [
    "### 37\\. [e]제원승인일자\n",
    "- error\n",
    "    - null : \n",
    "    - 형식에 맞지 않는 값 : "
   ]
  },
  {
   "cell_type": "code",
   "execution_count": 191,
   "metadata": {},
   "outputs": [
    {
     "data": {
      "text/plain": [
       "20100326      78288\n",
       "20090622      35879\n",
       "20100326.0    35819\n",
       "20110524      29346\n",
       "20090520      24716\n",
       "              ...  \n",
       "20160427          1\n",
       "20151216          1\n",
       "20121101          1\n",
       "20050422          1\n",
       "20070529.0        1\n",
       "Name: 제원승인일자, Length: 5958, dtype: int64"
      ]
     },
     "execution_count": 191,
     "metadata": {},
     "output_type": "execute_result"
    }
   ],
   "source": [
    "df.iloc[:, 37].value_counts()"
   ]
  },
  {
   "cell_type": "code",
   "execution_count": 192,
   "metadata": {},
   "outputs": [
    {
     "data": {
      "text/plain": [
       "431"
      ]
     },
     "execution_count": 192,
     "metadata": {},
     "output_type": "execute_result"
    }
   ],
   "source": [
    "df.iloc[:, 37].isnull().sum()"
   ]
  },
  {
   "cell_type": "code",
   "execution_count": 193,
   "metadata": {},
   "outputs": [
    {
     "name": "stderr",
     "output_type": "stream",
     "text": [
      "1528586it [00:02, 596189.99it/s]\n"
     ]
    },
    {
     "data": {
      "text/plain": [
       "539"
      ]
     },
     "execution_count": 193,
     "metadata": {},
     "output_type": "execute_result"
    }
   ],
   "source": [
    "p37 = re.compile('\\D+')\n",
    "idx371 = []\n",
    "idx372 = []\n",
    "count = 0\n",
    "for i, one in tqdm(enumerate(df.iloc[:, 37].to_numpy())):\n",
    "    try:\n",
    "        if p37.search(str(int(one))):\n",
    "            idx371.append(i)\n",
    "            count += 1\n",
    "    except:\n",
    "        idx372.append(i)\n",
    "        count += 1\n",
    "count"
   ]
  },
  {
   "cell_type": "code",
   "execution_count": 194,
   "metadata": {},
   "outputs": [
    {
     "data": {
      "text/plain": [
       "(0, 539)"
      ]
     },
     "execution_count": 194,
     "metadata": {},
     "output_type": "execute_result"
    }
   ],
   "source": [
    "len(idx371), len(idx372)"
   ]
  },
  {
   "cell_type": "code",
   "execution_count": 195,
   "metadata": {},
   "outputs": [
    {
     "name": "stderr",
     "output_type": "stream",
     "text": [
      "C:\\Users\\kbj\\AppData\\Local\\Temp\\ipykernel_18336\\829264895.py:1: FutureWarning: The behavior of `series[i:j]` with an integer-dtype index is deprecated. In a future version, this will be treated as *label-based* indexing, consistent with e.g. `series[i]` lookups. To retain the old behavior, use `series.iloc[i:j]`. To get the future behavior, use `series.loc[i:j]`.\n",
      "  df.iloc[:, 37].reindex(idx372)[:5]\n"
     ]
    },
    {
     "data": {
      "text/plain": [
       "1544         NaN\n",
       "3888         NaN\n",
       "4231    1991 112\n",
       "6957         NaN\n",
       "7069         NaN\n",
       "Name: 제원승인일자, dtype: object"
      ]
     },
     "execution_count": 195,
     "metadata": {},
     "output_type": "execute_result"
    }
   ],
   "source": [
    "df.iloc[:, 37].reindex(idx372)[:5]"
   ]
  },
  {
   "cell_type": "code",
   "execution_count": 196,
   "metadata": {},
   "outputs": [
    {
     "data": {
      "text/plain": [
       "431"
      ]
     },
     "execution_count": 196,
     "metadata": {},
     "output_type": "execute_result"
    }
   ],
   "source": [
    "idx373 = df[df['제원승인일자'].isnull() == True]['제원승인일자'].index\n",
    "len(idx373)"
   ]
  },
  {
   "cell_type": "code",
   "execution_count": 197,
   "metadata": {},
   "outputs": [
    {
     "data": {
      "text/plain": [
       "108"
      ]
     },
     "execution_count": 197,
     "metadata": {},
     "output_type": "execute_result"
    }
   ],
   "source": [
    "len(list(set(idx372) - set(idx373)))"
   ]
  },
  {
   "cell_type": "code",
   "execution_count": 198,
   "metadata": {},
   "outputs": [
    {
     "name": "stderr",
     "output_type": "stream",
     "text": [
      "C:\\Users\\kbj\\AppData\\Local\\Temp\\ipykernel_18336\\4017740081.py:1: FutureWarning: The behavior of `series[i:j]` with an integer-dtype index is deprecated. In a future version, this will be treated as *label-based* indexing, consistent with e.g. `series[i]` lookups. To retain the old behavior, use `series.iloc[i:j]`. To get the future behavior, use `series.loc[i:j]`.\n",
      "  df.iloc[sorted(set(idx372) - set(idx373)), 37][:5]\n"
     ]
    },
    {
     "data": {
      "text/plain": [
       "4231     1991 112\n",
       "8926     1991 123\n",
       "21579    1991 112\n",
       "29975    1991 123\n",
       "38288    1991 112\n",
       "Name: 제원승인일자, dtype: object"
      ]
     },
     "execution_count": 198,
     "metadata": {},
     "output_type": "execute_result"
    }
   ],
   "source": [
    "df.iloc[sorted(set(idx372) - set(idx373)), 37][:5]"
   ]
  },
  {
   "cell_type": "markdown",
   "metadata": {},
   "source": [
    "### 38\\. [e]구동형식\n",
    "- error\n",
    "    - null : "
   ]
  },
  {
   "cell_type": "code",
   "execution_count": 199,
   "metadata": {},
   "outputs": [
    {
     "data": {
      "text/plain": [
       "4x2         18\n",
       "6x2          9\n",
       "10x4         5\n",
       "후륜구동         4\n",
       "4륜구동(선택)     1\n",
       "4x4          1\n",
       "기타           1\n",
       "전륜구동         1\n",
       "4륜구동(상시)     1\n",
       "Name: 구동형식, dtype: int64"
      ]
     },
     "execution_count": 199,
     "metadata": {},
     "output_type": "execute_result"
    }
   ],
   "source": [
    "df.iloc[:, 38].value_counts()"
   ]
  },
  {
   "cell_type": "code",
   "execution_count": 200,
   "metadata": {},
   "outputs": [
    {
     "data": {
      "text/plain": [
       "1528545"
      ]
     },
     "execution_count": 200,
     "metadata": {},
     "output_type": "execute_result"
    }
   ],
   "source": [
    "df.iloc[:, 38].isnull().sum()"
   ]
  },
  {
   "cell_type": "markdown",
   "metadata": {},
   "source": [
    "### 39\\. [e]변속기종류\n",
    "- error\n",
    "    - null : \n",
    "    - 문자가 아닌 값 : "
   ]
  },
  {
   "cell_type": "code",
   "execution_count": 201,
   "metadata": {},
   "outputs": [
    {
     "data": {
      "text/plain": [
       "자동        963870\n",
       "수동        563865\n",
       "기타           500\n",
       "무단           158\n",
       "반자동           32\n",
       "변속기 없음         1\n",
       "Name: 변속기종류, dtype: int64"
      ]
     },
     "execution_count": 201,
     "metadata": {},
     "output_type": "execute_result"
    }
   ],
   "source": [
    "df.iloc[:, 39].value_counts()"
   ]
  },
  {
   "cell_type": "code",
   "execution_count": 202,
   "metadata": {},
   "outputs": [
    {
     "data": {
      "text/plain": [
       "160"
      ]
     },
     "execution_count": 202,
     "metadata": {},
     "output_type": "execute_result"
    }
   ],
   "source": [
    "df.iloc[:, 39].isnull().sum()"
   ]
  },
  {
   "cell_type": "code",
   "execution_count": 203,
   "metadata": {},
   "outputs": [
    {
     "name": "stderr",
     "output_type": "stream",
     "text": [
      "1528586it [00:01, 956223.37it/s]\n"
     ]
    },
    {
     "data": {
      "text/plain": [
       "160"
      ]
     },
     "execution_count": 203,
     "metadata": {},
     "output_type": "execute_result"
    }
   ],
   "source": [
    "p39 = re.compile('[가-힣]+')\n",
    "idx391 = []\n",
    "idx392 = []\n",
    "count = 0\n",
    "for i, one in tqdm(enumerate(df.iloc[:, 39].to_numpy())):\n",
    "    try:\n",
    "        if not p39.search(one):\n",
    "            idx391.append(i)\n",
    "            count += 1\n",
    "    except:\n",
    "        idx392.append(i)\n",
    "        count += 1\n",
    "count"
   ]
  },
  {
   "cell_type": "code",
   "execution_count": 204,
   "metadata": {},
   "outputs": [
    {
     "data": {
      "text/plain": [
       "(0, 160)"
      ]
     },
     "execution_count": 204,
     "metadata": {},
     "output_type": "execute_result"
    }
   ],
   "source": [
    "len(idx391), len(idx392)"
   ]
  },
  {
   "cell_type": "markdown",
   "metadata": {},
   "source": [
    "# 코드 마지막"
   ]
  }
 ],
 "metadata": {
  "kernelspec": {
   "display_name": "Python 3.9.13 ('base')",
   "language": "python",
   "name": "python3"
  },
  "language_info": {
   "codemirror_mode": {
    "name": "ipython",
    "version": 3
   },
   "file_extension": ".py",
   "mimetype": "text/x-python",
   "name": "python",
   "nbconvert_exporter": "python",
   "pygments_lexer": "ipython3",
   "version": "3.9.13"
  },
  "orig_nbformat": 4,
  "vscode": {
   "interpreter": {
    "hash": "ad2bdc8ecc057115af97d19610ffacc2b4e99fae6737bb82f5d7fb13d2f2c186"
   }
  }
 },
 "nbformat": 4,
 "nbformat_minor": 2
}
