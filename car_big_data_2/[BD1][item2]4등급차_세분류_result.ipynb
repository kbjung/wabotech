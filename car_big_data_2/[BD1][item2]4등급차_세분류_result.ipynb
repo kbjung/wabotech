{
 "cells": [
  {
   "attachments": {},
   "cell_type": "markdown",
   "metadata": {},
   "source": [
    "# Library"
   ]
  },
  {
   "cell_type": "code",
   "execution_count": 1,
   "metadata": {},
   "outputs": [],
   "source": [
    "import pandas as pd\n",
    "import numpy as np\n",
    "import os\n",
    "from tqdm import tqdm\n",
    "from datetime import datetime"
   ]
  },
  {
   "cell_type": "code",
   "execution_count": 2,
   "metadata": {},
   "outputs": [],
   "source": [
    "# 소수점 옵션\n",
    "pd.options.display.float_format = '{:.2f}'.format\n",
    "# pd.reset_option('display.float_format')"
   ]
  },
  {
   "attachments": {},
   "cell_type": "markdown",
   "metadata": {},
   "source": [
    "# 수정사항\n",
    "- 2023.03.21\n",
    "    - item 2 : EG\n",
    "        - 1. 개별 차량에 대한 지역코드를 부여하여, 지역마다 얼마나 차량들이 존재하는지 구분이 필요한 것 같음\n",
    "\n",
    "    이 외에도 내일 오전에 동양에서 가시화와 관련된 회의에서 추가적으로 필요하다고 판단되는 사항에 대해 추가적으로 분석이 필요할 것 같음\n",
    "\n",
    "- 2023.03.22\n",
    "    - result파일에 'EG' 컬럼 추가\n",
    "\n",
    "- 2023.03.24\n",
    "    - result파일에 '배인번호_수정', '등급_수정', 'DPF유무_수정' 컬럼 추가"
   ]
  },
  {
   "attachments": {},
   "cell_type": "markdown",
   "metadata": {},
   "source": [
    "# fold path"
   ]
  },
  {
   "cell_type": "code",
   "execution_count": 3,
   "metadata": {},
   "outputs": [],
   "source": [
    "raw_fold = 'D:/data/big2/BD1/raw'\n",
    "ods_fold = 'D:/data/big2/ODS'\n",
    "sample_fold = 'D:/data/big2/BD1/sample'\n",
    "analysis_fold = 'D:/data/big2/BD1/an'"
   ]
  },
  {
   "attachments": {},
   "cell_type": "markdown",
   "metadata": {},
   "source": [
    "# Load"
   ]
  },
  {
   "attachments": {},
   "cell_type": "markdown",
   "metadata": {},
   "source": [
    "## 병합 result 최종 파일"
   ]
  },
  {
   "cell_type": "code",
   "execution_count": 4,
   "metadata": {},
   "outputs": [
    {
     "name": "stdout",
     "output_type": "stream",
     "text": [
      "<class 'pandas.core.frame.DataFrame'>\n",
      "RangeIndex: 1153813 entries, 0 to 1153812\n",
      "Data columns (total 31 columns):\n",
      " #   Column    Non-Null Count    Dtype  \n",
      "---  ------    --------------    -----  \n",
      " 0   차대번호      1153813 non-null  object \n",
      " 1   차량번호      1153813 non-null  object \n",
      " 2   제원관리번호    1153813 non-null  object \n",
      " 3   차종        1153813 non-null  object \n",
      " 4   용도        1153813 non-null  object \n",
      " 5   최초등록일     1153813 non-null  int64  \n",
      " 6   연식        1153813 non-null  int64  \n",
      " 7   제작일자      1153809 non-null  float64\n",
      " 8   검사유효일     1153810 non-null  float64\n",
      " 9   배출가스인증번호  1146663 non-null  object \n",
      " 10  등급        1153813 non-null  int64  \n",
      " 11  차명        1153813 non-null  object \n",
      " 12  차종분류      1153813 non-null  object \n",
      " 13  차종유형      1153813 non-null  object \n",
      " 14  자동차형식     1153812 non-null  object \n",
      " 15  제작사명      1153795 non-null  object \n",
      " 16  연료        1153813 non-null  object \n",
      " 17  엔진형식      1153813 non-null  object \n",
      " 18  총중량       1153813 non-null  int64  \n",
      " 19  적재중량      1153589 non-null  float64\n",
      " 20  엔진출력      1153811 non-null  float64\n",
      " 21  배기량       1153813 non-null  int64  \n",
      " 22  법정동코드     1153813 non-null  int64  \n",
      " 23  시도명       1153813 non-null  object \n",
      " 24  시군구명      1153813 non-null  object \n",
      " 25  소유자구분     1153813 non-null  object \n",
      " 26  말소여부      1153813 non-null  object \n",
      " 27  일치유무      1153813 non-null  object \n",
      " 28  배인번호_수정   1153813 non-null  object \n",
      " 29  등급_수정     1153813 non-null  int64  \n",
      " 30  DPF유무_수정  1153813 non-null  object \n",
      "dtypes: float64(4), int64(7), object(20)\n",
      "memory usage: 272.9+ MB\n"
     ]
    }
   ],
   "source": [
    "# about 11.4s\n",
    "name = '4등급_차량_리스트_양식_result_최종(2023.03.31_PM.07.30.15)'\n",
    "file_name = f'{name}.csv'\n",
    "result = pd.read_csv(os.path.join(raw_fold, file_name), low_memory=False, encoding='cp949')\n",
    "result.info()"
   ]
  },
  {
   "cell_type": "code",
   "execution_count": 5,
   "metadata": {},
   "outputs": [
    {
     "data": {
      "text/plain": [
       "02420011500011209    584\n",
       "02420011500031210    208\n",
       "02420011500001209    184\n",
       "Name: 제원관리번호, dtype: int64"
      ]
     },
     "execution_count": 5,
     "metadata": {},
     "output_type": "execute_result"
    }
   ],
   "source": [
    "result.loc[result['배출가스인증번호'] == '9MY-AD-14-04', '제원관리번호'].value_counts()"
   ]
  },
  {
   "cell_type": "code",
   "execution_count": 6,
   "metadata": {},
   "outputs": [
    {
     "data": {
      "text/html": [
       "<div>\n",
       "<style scoped>\n",
       "    .dataframe tbody tr th:only-of-type {\n",
       "        vertical-align: middle;\n",
       "    }\n",
       "\n",
       "    .dataframe tbody tr th {\n",
       "        vertical-align: top;\n",
       "    }\n",
       "\n",
       "    .dataframe thead th {\n",
       "        text-align: right;\n",
       "    }\n",
       "</style>\n",
       "<table border=\"1\" class=\"dataframe\">\n",
       "  <thead>\n",
       "    <tr style=\"text-align: right;\">\n",
       "      <th></th>\n",
       "      <th>제원관리번호</th>\n",
       "      <th>등급_수정</th>\n",
       "    </tr>\n",
       "  </thead>\n",
       "  <tbody>\n",
       "    <tr>\n",
       "      <th>1005471</th>\n",
       "      <td>02420011500001209</td>\n",
       "      <td>4</td>\n",
       "    </tr>\n",
       "    <tr>\n",
       "      <th>1005472</th>\n",
       "      <td>02420011500011209</td>\n",
       "      <td>4</td>\n",
       "    </tr>\n",
       "    <tr>\n",
       "      <th>1005473</th>\n",
       "      <td>02420011500011209</td>\n",
       "      <td>4</td>\n",
       "    </tr>\n",
       "    <tr>\n",
       "      <th>1005474</th>\n",
       "      <td>02420011500011209</td>\n",
       "      <td>4</td>\n",
       "    </tr>\n",
       "    <tr>\n",
       "      <th>1005475</th>\n",
       "      <td>02420011500001209</td>\n",
       "      <td>4</td>\n",
       "    </tr>\n",
       "  </tbody>\n",
       "</table>\n",
       "</div>"
      ],
      "text/plain": [
       "                    제원관리번호  등급_수정\n",
       "1005471  02420011500001209      4\n",
       "1005472  02420011500011209      4\n",
       "1005473  02420011500011209      4\n",
       "1005474  02420011500011209      4\n",
       "1005475  02420011500001209      4"
      ]
     },
     "execution_count": 6,
     "metadata": {},
     "output_type": "execute_result"
    }
   ],
   "source": [
    "result.loc[result['배출가스인증번호'] == '9MY-AD-14-04', ['제원관리번호', '등급_수정']].head()"
   ]
  },
  {
   "attachments": {},
   "cell_type": "markdown",
   "metadata": {},
   "source": [
    "## 병합 result 원본 파일"
   ]
  },
  {
   "cell_type": "code",
   "execution_count": 7,
   "metadata": {},
   "outputs": [
    {
     "name": "stdout",
     "output_type": "stream",
     "text": [
      "<class 'pandas.core.frame.DataFrame'>\n",
      "RangeIndex: 1502235 entries, 0 to 1502234\n",
      "Data columns (total 28 columns):\n",
      " #   Column  Non-Null Count    Dtype  \n",
      "---  ------  --------------    -----  \n",
      " 0   차대번호    1502235 non-null  object \n",
      " 1   차량번호    1502235 non-null  object \n",
      " 2   제원관리번호  1502235 non-null  object \n",
      " 3   차종      1502235 non-null  object \n",
      " 4   용도      1502235 non-null  object \n",
      " 5   최초등록일   1502235 non-null  int64  \n",
      " 6   연식      1502235 non-null  int64  \n",
      " 7   제작일자    1335178 non-null  float64\n",
      " 8   검사유효일   1502223 non-null  float64\n",
      " 9   인증번호    1382225 non-null  object \n",
      " 10  등급      1502235 non-null  int64  \n",
      " 11  차명      1502235 non-null  object \n",
      " 12  차종분류    1502235 non-null  object \n",
      " 13  차종유형    1502235 non-null  object \n",
      " 14  자동차형식   1501958 non-null  object \n",
      " 15  제작사명    1492590 non-null  object \n",
      " 16  연료      1502235 non-null  object \n",
      " 17  엔진형식    1500400 non-null  object \n",
      " 18  총중량     1502234 non-null  float64\n",
      " 19  적재중량    1501728 non-null  float64\n",
      " 20  엔진출력    1501882 non-null  object \n",
      " 21  배기량     1502231 non-null  float64\n",
      " 22  법정동코드   1502235 non-null  int64  \n",
      " 23  시도명     1502235 non-null  object \n",
      " 24  시군구명    1502235 non-null  object \n",
      " 25  소유자구분   1502235 non-null  object \n",
      " 26  말소여부    1502235 non-null  object \n",
      " 27  일치유무    1153813 non-null  object \n",
      "dtypes: float64(5), int64(4), object(19)\n",
      "memory usage: 320.9+ MB\n"
     ]
    }
   ],
   "source": [
    "# about 10.3s\n",
    "name = '4등급_차량_리스트_양식_result'\n",
    "file_name = f'{name}.csv'\n",
    "rw = pd.read_csv(os.path.join(raw_fold, file_name), low_memory=False, encoding='cp949')\n",
    "rw.info()"
   ]
  },
  {
   "cell_type": "code",
   "execution_count": 8,
   "metadata": {},
   "outputs": [
    {
     "data": {
      "text/plain": [
       "02420011500011209    584\n",
       "02420011500031210    208\n",
       "02420011500001209    184\n",
       "Name: 제원관리번호, dtype: int64"
      ]
     },
     "execution_count": 8,
     "metadata": {},
     "output_type": "execute_result"
    }
   ],
   "source": [
    "rw.loc[rw['인증번호'] == '9MY-AD-14-04', '제원관리번호'].value_counts()"
   ]
  },
  {
   "attachments": {},
   "cell_type": "markdown",
   "metadata": {},
   "source": [
    "# 전처리"
   ]
  },
  {
   "attachments": {},
   "cell_type": "markdown",
   "metadata": {},
   "source": [
    "## 컬럼명 수정"
   ]
  },
  {
   "cell_type": "code",
   "execution_count": 9,
   "metadata": {},
   "outputs": [
    {
     "data": {
      "text/plain": [
       "Index(['차대번호', '차량번호', '제원관리번호', '차종', '용도', '최초등록일', '연식', '제작일자', '검사유효일',\n",
       "       '배출가스인증번호', '등급', '차명', '차종분류', '차종유형', '자동차형식', '제작사명', '연료', '엔진형식',\n",
       "       '총중량', '적재중량', '엔진출력', '배기량', '법정동코드', '시도명', '시군구명', '소유자구분', '말소여부',\n",
       "       '일치유무', '배인번호_수정', '등급_수정', 'DPF유무_수정'],\n",
       "      dtype='object')"
      ]
     },
     "execution_count": 9,
     "metadata": {},
     "output_type": "execute_result"
    }
   ],
   "source": [
    "result.columns"
   ]
  },
  {
   "cell_type": "code",
   "execution_count": 10,
   "metadata": {},
   "outputs": [
    {
     "data": {
      "text/plain": [
       "Index(['차대번호', '차량번호', '제원관리번호', '차종', '용도', '최초등록일', '연식', '제작일자', '검사유효일',\n",
       "       '인증번호', '등급', '차명', '차종분류', '차종유형', '자동차형식', '제작사명', '연료', '엔진형식',\n",
       "       '총중량', '적재중량', '엔진출력', '배기량', '법정동코드', '시도명', '시군구명', '소유자구분', '말소여부',\n",
       "       '일치유무'],\n",
       "      dtype='object')"
      ]
     },
     "execution_count": 10,
     "metadata": {},
     "output_type": "execute_result"
    }
   ],
   "source": [
    "rw.columns"
   ]
  },
  {
   "cell_type": "code",
   "execution_count": 11,
   "metadata": {},
   "outputs": [],
   "source": [
    "rw = rw.rename(columns={'인증번호':'배출가스인증번호'})"
   ]
  },
  {
   "attachments": {},
   "cell_type": "markdown",
   "metadata": {},
   "source": [
    "## 9MY-AD-14-04"
   ]
  },
  {
   "cell_type": "code",
   "execution_count": 12,
   "metadata": {},
   "outputs": [
    {
     "data": {
      "text/plain": [
       "(976,)"
      ]
     },
     "execution_count": 12,
     "metadata": {},
     "output_type": "execute_result"
    }
   ],
   "source": [
    "result.loc[result['배출가스인증번호'] == '9MY-AD-14-04', '등급_수정'].shape"
   ]
  },
  {
   "cell_type": "code",
   "execution_count": 13,
   "metadata": {},
   "outputs": [],
   "source": [
    "result.loc[result['배출가스인증번호'] == '9MY-AD-14-04', '등급_수정'] = 4"
   ]
  },
  {
   "attachments": {},
   "cell_type": "markdown",
   "metadata": {},
   "source": [
    "## 유니목1200 5등급으로 수정"
   ]
  },
  {
   "cell_type": "code",
   "execution_count": 14,
   "metadata": {},
   "outputs": [
    {
     "data": {
      "text/plain": [
       "1153460    5\n",
       "Name: 등급_수정, dtype: int64"
      ]
     },
     "execution_count": 14,
     "metadata": {},
     "output_type": "execute_result"
    }
   ],
   "source": [
    "result.loc[result['차대번호'] =='WDB1260251A480232', '등급_수정']"
   ]
  },
  {
   "cell_type": "code",
   "execution_count": 15,
   "metadata": {},
   "outputs": [],
   "source": [
    "result.loc[result['차대번호'] =='WDB1260251A480232', '등급_수정'] = 5"
   ]
  },
  {
   "attachments": {},
   "cell_type": "markdown",
   "metadata": {},
   "source": [
    "## 4등급 차량만"
   ]
  },
  {
   "cell_type": "code",
   "execution_count": 16,
   "metadata": {},
   "outputs": [
    {
     "data": {
      "text/plain": [
       "4    1149290\n",
       "3       4396\n",
       "5        127\n",
       "Name: 등급_수정, dtype: int64"
      ]
     },
     "execution_count": 16,
     "metadata": {},
     "output_type": "execute_result"
    }
   ],
   "source": [
    "result['등급_수정'].value_counts(dropna=False)"
   ]
  },
  {
   "cell_type": "code",
   "execution_count": 17,
   "metadata": {},
   "outputs": [
    {
     "data": {
      "text/plain": [
       "(1149290, 31)"
      ]
     },
     "execution_count": 17,
     "metadata": {},
     "output_type": "execute_result"
    }
   ],
   "source": [
    "result1 = result.loc[result['등급_수정'] == 4]\n",
    "result1.shape"
   ]
  },
  {
   "cell_type": "code",
   "execution_count": 18,
   "metadata": {},
   "outputs": [
    {
     "data": {
      "text/plain": [
       "(4523, 31)"
      ]
     },
     "execution_count": 18,
     "metadata": {},
     "output_type": "execute_result"
    }
   ],
   "source": [
    "g3_g5 = result.loc[result['등급_수정'] != 4]\n",
    "g3_g5.shape"
   ]
  },
  {
   "attachments": {},
   "cell_type": "markdown",
   "metadata": {},
   "source": [
    "## 중복 차대번호 확인\n",
    "- 최종등록일자, 배출가스검사유효일자 최신 데이터 사용"
   ]
  },
  {
   "cell_type": "code",
   "execution_count": 19,
   "metadata": {},
   "outputs": [
    {
     "data": {
      "text/plain": [
       "1149290"
      ]
     },
     "execution_count": 19,
     "metadata": {},
     "output_type": "execute_result"
    }
   ],
   "source": [
    "len(result1['차대번호'].unique())"
   ]
  },
  {
   "attachments": {},
   "cell_type": "markdown",
   "metadata": {},
   "source": [
    "## 연료 확인"
   ]
  },
  {
   "cell_type": "code",
   "execution_count": 20,
   "metadata": {},
   "outputs": [
    {
     "data": {
      "text/plain": [
       "경유    1149290\n",
       "Name: 연료, dtype: int64"
      ]
     },
     "execution_count": 20,
     "metadata": {},
     "output_type": "execute_result"
    }
   ],
   "source": [
    "result1['연료'].value_counts(dropna=False)"
   ]
  },
  {
   "attachments": {},
   "cell_type": "markdown",
   "metadata": {},
   "source": [
    "## 원본 데이터에서 4등급 휘발유_가스 차량 추출"
   ]
  },
  {
   "cell_type": "code",
   "execution_count": 21,
   "metadata": {},
   "outputs": [
    {
     "data": {
      "text/plain": [
       "(1502235, 28)"
      ]
     },
     "execution_count": 21,
     "metadata": {},
     "output_type": "execute_result"
    }
   ],
   "source": [
    "rw.shape"
   ]
  },
  {
   "cell_type": "code",
   "execution_count": 22,
   "metadata": {},
   "outputs": [
    {
     "data": {
      "text/plain": [
       "경유             1153813\n",
       "휘발유             322983\n",
       "LPG(액화석유가스)      25400\n",
       "기타연료                37\n",
       "알코올                  1\n",
       "CNG(압축천연가스)          1\n",
       "Name: 연료, dtype: int64"
      ]
     },
     "execution_count": 22,
     "metadata": {},
     "output_type": "execute_result"
    }
   ],
   "source": [
    "# 연료 확인\n",
    "rw['연료'].value_counts(dropna=False)"
   ]
  },
  {
   "cell_type": "code",
   "execution_count": 23,
   "metadata": {},
   "outputs": [
    {
     "data": {
      "text/plain": [
       "4    1502235\n",
       "Name: 등급, dtype: int64"
      ]
     },
     "execution_count": 23,
     "metadata": {},
     "output_type": "execute_result"
    }
   ],
   "source": [
    "# 등급 확인\n",
    "rw['등급'].value_counts()"
   ]
  },
  {
   "cell_type": "code",
   "execution_count": 24,
   "metadata": {},
   "outputs": [
    {
     "data": {
      "text/plain": [
       "(348383, 28)"
      ]
     },
     "execution_count": 24,
     "metadata": {},
     "output_type": "execute_result"
    }
   ],
   "source": [
    "# 348383\n",
    "rw1 = rw.loc[(rw['연료'] == '휘발유') | (rw['연료'] == 'LPG(액화석유가스)')].reset_index(drop=True)\n",
    "rw1.shape"
   ]
  },
  {
   "cell_type": "code",
   "execution_count": 25,
   "metadata": {},
   "outputs": [
    {
     "data": {
      "text/plain": [
       "(39, 28)"
      ]
     },
     "execution_count": 25,
     "metadata": {},
     "output_type": "execute_result"
    }
   ],
   "source": [
    "# 39\n",
    "rw_rest = rw.loc[(rw['연료'] == '알코올') | (rw['연료'] == 'CNG(압축천연가스)') | (rw['연료'] == '기타연료')].reset_index(drop=True)\n",
    "rw_rest.shape"
   ]
  },
  {
   "cell_type": "code",
   "execution_count": 26,
   "metadata": {},
   "outputs": [
    {
     "data": {
      "text/plain": [
       "1497673"
      ]
     },
     "execution_count": 26,
     "metadata": {},
     "output_type": "execute_result"
    }
   ],
   "source": [
    "result1.shape[0] + rw1.shape[0]"
   ]
  },
  {
   "cell_type": "code",
   "execution_count": 27,
   "metadata": {},
   "outputs": [
    {
     "name": "stderr",
     "output_type": "stream",
     "text": [
      "C:\\Users\\kbjung\\AppData\\Local\\Temp\\ipykernel_16036\\3367011894.py:1: SettingWithCopyWarning: \n",
      "A value is trying to be set on a copy of a slice from a DataFrame.\n",
      "Try using .loc[row_indexer,col_indexer] = value instead\n",
      "\n",
      "See the caveats in the documentation: https://pandas.pydata.org/pandas-docs/stable/user_guide/indexing.html#returning-a-view-versus-a-copy\n",
      "  result1['fuel'] = '경유'\n"
     ]
    }
   ],
   "source": [
    "result1['fuel'] = '경유'\n",
    "rw1['fuel'] = '휘발유_가스'"
   ]
  },
  {
   "cell_type": "code",
   "execution_count": 28,
   "metadata": {},
   "outputs": [
    {
     "data": {
      "text/plain": [
       "경유    1149290\n",
       "Name: fuel, dtype: int64"
      ]
     },
     "execution_count": 28,
     "metadata": {},
     "output_type": "execute_result"
    }
   ],
   "source": [
    "result1['fuel'].value_counts()"
   ]
  },
  {
   "cell_type": "code",
   "execution_count": 29,
   "metadata": {},
   "outputs": [
    {
     "data": {
      "text/plain": [
       "휘발유_가스    348383\n",
       "Name: fuel, dtype: int64"
      ]
     },
     "execution_count": 29,
     "metadata": {},
     "output_type": "execute_result"
    }
   ],
   "source": [
    "rw1['fuel'].value_counts()"
   ]
  },
  {
   "attachments": {},
   "cell_type": "markdown",
   "metadata": {},
   "source": [
    "## 경유와 휘발유_가스 병합"
   ]
  },
  {
   "cell_type": "code",
   "execution_count": 30,
   "metadata": {},
   "outputs": [
    {
     "data": {
      "text/plain": [
       "Index(['차대번호', '차량번호', '제원관리번호', '차종', '용도', '최초등록일', '연식', '제작일자', '검사유효일',\n",
       "       '배출가스인증번호', '등급', '차명', '차종분류', '차종유형', '자동차형식', '제작사명', '연료', '엔진형식',\n",
       "       '총중량', '적재중량', '엔진출력', '배기량', '법정동코드', '시도명', '시군구명', '소유자구분', '말소여부',\n",
       "       '일치유무', '배인번호_수정', '등급_수정', 'DPF유무_수정', 'fuel'],\n",
       "      dtype='object')"
      ]
     },
     "execution_count": 30,
     "metadata": {},
     "output_type": "execute_result"
    }
   ],
   "source": [
    "result1.columns"
   ]
  },
  {
   "cell_type": "code",
   "execution_count": 31,
   "metadata": {},
   "outputs": [
    {
     "data": {
      "text/plain": [
       "Index(['차대번호', '차량번호', '제원관리번호', '차종', '용도', '최초등록일', '연식', '제작일자', '검사유효일',\n",
       "       '배출가스인증번호', '등급', '차명', '차종분류', '차종유형', '자동차형식', '제작사명', '연료', '엔진형식',\n",
       "       '총중량', '적재중량', '엔진출력', '배기량', '법정동코드', '시도명', '시군구명', '소유자구분', '말소여부',\n",
       "       '일치유무', 'fuel'],\n",
       "      dtype='object')"
      ]
     },
     "execution_count": 31,
     "metadata": {},
     "output_type": "execute_result"
    }
   ],
   "source": [
    "rw1.columns"
   ]
  },
  {
   "cell_type": "code",
   "execution_count": 32,
   "metadata": {},
   "outputs": [
    {
     "data": {
      "text/plain": [
       "(1497673, 32)"
      ]
     },
     "execution_count": 32,
     "metadata": {},
     "output_type": "execute_result"
    }
   ],
   "source": [
    "df = pd.concat([result1, rw1], ignore_index=True)\n",
    "df.shape"
   ]
  },
  {
   "cell_type": "code",
   "execution_count": 33,
   "metadata": {},
   "outputs": [
    {
     "data": {
      "text/plain": [
       "경유        1149290\n",
       "휘발유_가스     348383\n",
       "Name: fuel, dtype: int64"
      ]
     },
     "execution_count": 33,
     "metadata": {},
     "output_type": "execute_result"
    }
   ],
   "source": [
    "df['fuel'].value_counts()"
   ]
  },
  {
   "cell_type": "code",
   "execution_count": 34,
   "metadata": {},
   "outputs": [
    {
     "data": {
      "text/plain": [
       "무       879463\n",
       "NaN     348383\n",
       "유       251010\n",
       "확인불가     18817\n",
       "Name: DPF유무_수정, dtype: int64"
      ]
     },
     "execution_count": 34,
     "metadata": {},
     "output_type": "execute_result"
    }
   ],
   "source": [
    "df['DPF유무_수정'].value_counts(dropna=False)"
   ]
  },
  {
   "cell_type": "code",
   "execution_count": 35,
   "metadata": {},
   "outputs": [],
   "source": [
    "# df['DPF유무_수정'] = df['DPF유무_수정'].fillna('무')\n",
    "# df.loc[df['DPF유무_수정'] == '확인불가', 'DPF유무_수정'] = '무'"
   ]
  },
  {
   "cell_type": "code",
   "execution_count": 36,
   "metadata": {},
   "outputs": [
    {
     "data": {
      "text/plain": [
       "무       879463\n",
       "NaN     348383\n",
       "유       251010\n",
       "확인불가     18817\n",
       "Name: DPF유무_수정, dtype: int64"
      ]
     },
     "execution_count": 36,
     "metadata": {},
     "output_type": "execute_result"
    }
   ],
   "source": [
    "df['DPF유무_수정'].value_counts(dropna=False)"
   ]
  },
  {
   "attachments": {},
   "cell_type": "markdown",
   "metadata": {},
   "source": [
    "# 분석"
   ]
  },
  {
   "cell_type": "code",
   "execution_count": 37,
   "metadata": {},
   "outputs": [
    {
     "name": "stderr",
     "output_type": "stream",
     "text": [
      "100%|██████████| 1497673/1497673 [00:02<00:00, 525947.00it/s]\n"
     ]
    },
    {
     "data": {
      "text/plain": [
       "1497673"
      ]
     },
     "execution_count": 37,
     "metadata": {},
     "output_type": "execute_result"
    }
   ],
   "source": [
    "grade_list = []\n",
    "for f, y, cy, e in tqdm(df[['fuel', '제작일자', '연식', 'DPF유무_수정']].values):\n",
    "    if (f == '휘발유_가스') and ( (19980101 <= y <= 20001231) or (1998 <= cy <= 2000) ):\n",
    "        grade_list.append('A')\n",
    "    elif (f == '휘발유_가스') and ( (y <= 19971231) or (cy <= 1997) ):\n",
    "        grade_list.append('B')\n",
    "    elif (f == '경유') and ( (y >= 20080101) or (cy >= 2008) ) and (e == '유'):\n",
    "        grade_list.append('A')\n",
    "    elif (f == '경유') and ( (y <= 20071231) or (cy <= 2007) )and (e == '유'):\n",
    "        grade_list.append('B')\n",
    "    elif (f == '경유') and ( (y >= 20080101) or (cy >= 2008) ) and (e == '무'):\n",
    "        grade_list.append('C')\n",
    "    elif (f == '경유') and ( (y <= 20071231) or (cy <= 2007) ) and (e == '무'):\n",
    "        grade_list.append('D')\n",
    "    else:\n",
    "        grade_list.append('X')\n",
    "len(grade_list)"
   ]
  },
  {
   "cell_type": "code",
   "execution_count": 38,
   "metadata": {},
   "outputs": [
    {
     "data": {
      "text/plain": [
       "['D', 'D', 'D', 'D', 'D']"
      ]
     },
     "execution_count": 38,
     "metadata": {},
     "output_type": "execute_result"
    }
   ],
   "source": [
    "grade_list[:5]"
   ]
  },
  {
   "cell_type": "code",
   "execution_count": 39,
   "metadata": {},
   "outputs": [
    {
     "data": {
      "text/plain": [
       "['C', 'D', 'C', 'D', 'C', 'C', 'D', 'D', 'C', 'C']"
      ]
     },
     "execution_count": 39,
     "metadata": {},
     "output_type": "execute_result"
    }
   ],
   "source": [
    "num = 85420\n",
    "grade_list[num:num+10]"
   ]
  },
  {
   "cell_type": "code",
   "execution_count": 40,
   "metadata": {},
   "outputs": [
    {
     "data": {
      "text/plain": [
       "['B', 'B', 'B', 'A', 'B']"
      ]
     },
     "execution_count": 40,
     "metadata": {},
     "output_type": "execute_result"
    }
   ],
   "source": [
    "grade_list[-5:]"
   ]
  },
  {
   "cell_type": "code",
   "execution_count": 41,
   "metadata": {},
   "outputs": [],
   "source": [
    "df['Grade'] = grade_list"
   ]
  },
  {
   "cell_type": "code",
   "execution_count": 42,
   "metadata": {},
   "outputs": [
    {
     "data": {
      "text/html": [
       "<div>\n",
       "<style scoped>\n",
       "    .dataframe tbody tr th:only-of-type {\n",
       "        vertical-align: middle;\n",
       "    }\n",
       "\n",
       "    .dataframe tbody tr th {\n",
       "        vertical-align: top;\n",
       "    }\n",
       "\n",
       "    .dataframe thead th {\n",
       "        text-align: right;\n",
       "    }\n",
       "</style>\n",
       "<table border=\"1\" class=\"dataframe\">\n",
       "  <thead>\n",
       "    <tr style=\"text-align: right;\">\n",
       "      <th></th>\n",
       "      <th>fuel</th>\n",
       "      <th>대수</th>\n",
       "    </tr>\n",
       "  </thead>\n",
       "  <tbody>\n",
       "    <tr>\n",
       "      <th>0</th>\n",
       "      <td>경유</td>\n",
       "      <td>1149290</td>\n",
       "    </tr>\n",
       "    <tr>\n",
       "      <th>1</th>\n",
       "      <td>휘발유_가스</td>\n",
       "      <td>348383</td>\n",
       "    </tr>\n",
       "  </tbody>\n",
       "</table>\n",
       "</div>"
      ],
      "text/plain": [
       "     fuel       대수\n",
       "0      경유  1149290\n",
       "1  휘발유_가스   348383"
      ]
     },
     "execution_count": 42,
     "metadata": {},
     "output_type": "execute_result"
    }
   ],
   "source": [
    "num_by_fuel = df.groupby(['fuel'])['차대번호'].count().reset_index().sort_values('차대번호', ascending=False)\n",
    "num_by_fuel = num_by_fuel.rename(columns={'차대번호':'대수'})\n",
    "num_by_fuel"
   ]
  },
  {
   "cell_type": "code",
   "execution_count": 43,
   "metadata": {},
   "outputs": [
    {
     "data": {
      "text/html": [
       "<div>\n",
       "<style scoped>\n",
       "    .dataframe tbody tr th:only-of-type {\n",
       "        vertical-align: middle;\n",
       "    }\n",
       "\n",
       "    .dataframe tbody tr th {\n",
       "        vertical-align: top;\n",
       "    }\n",
       "\n",
       "    .dataframe thead th {\n",
       "        text-align: right;\n",
       "    }\n",
       "</style>\n",
       "<table border=\"1\" class=\"dataframe\">\n",
       "  <thead>\n",
       "    <tr style=\"text-align: right;\">\n",
       "      <th>Grade</th>\n",
       "      <th>A</th>\n",
       "      <th>B</th>\n",
       "      <th>C</th>\n",
       "      <th>D</th>\n",
       "      <th>X</th>\n",
       "    </tr>\n",
       "    <tr>\n",
       "      <th>fuel</th>\n",
       "      <th></th>\n",
       "      <th></th>\n",
       "      <th></th>\n",
       "      <th></th>\n",
       "      <th></th>\n",
       "    </tr>\n",
       "  </thead>\n",
       "  <tbody>\n",
       "    <tr>\n",
       "      <th>경유</th>\n",
       "      <td>165289.00</td>\n",
       "      <td>85721.00</td>\n",
       "      <td>840425.00</td>\n",
       "      <td>39038.00</td>\n",
       "      <td>18817.00</td>\n",
       "    </tr>\n",
       "    <tr>\n",
       "      <th>휘발유_가스</th>\n",
       "      <td>40729.00</td>\n",
       "      <td>291903.00</td>\n",
       "      <td>NaN</td>\n",
       "      <td>NaN</td>\n",
       "      <td>15751.00</td>\n",
       "    </tr>\n",
       "  </tbody>\n",
       "</table>\n",
       "</div>"
      ],
      "text/plain": [
       "Grade          A         B         C        D        X\n",
       "fuel                                                  \n",
       "경유     165289.00  85721.00 840425.00 39038.00 18817.00\n",
       "휘발유_가스  40729.00 291903.00       NaN      NaN 15751.00"
      ]
     },
     "execution_count": 43,
     "metadata": {},
     "output_type": "execute_result"
    }
   ],
   "source": [
    "num_by_grade = df.groupby(['fuel', 'Grade'])['차대번호'].count().unstack()\n",
    "# num_by_grade = num_by_grade.rename('대수')\n",
    "num_by_grade"
   ]
  },
  {
   "cell_type": "code",
   "execution_count": 44,
   "metadata": {},
   "outputs": [
    {
     "data": {
      "text/html": [
       "<div>\n",
       "<style scoped>\n",
       "    .dataframe tbody tr th:only-of-type {\n",
       "        vertical-align: middle;\n",
       "    }\n",
       "\n",
       "    .dataframe tbody tr th {\n",
       "        vertical-align: top;\n",
       "    }\n",
       "\n",
       "    .dataframe thead th {\n",
       "        text-align: right;\n",
       "    }\n",
       "</style>\n",
       "<table border=\"1\" class=\"dataframe\">\n",
       "  <thead>\n",
       "    <tr style=\"text-align: right;\">\n",
       "      <th>Grade</th>\n",
       "      <th>A</th>\n",
       "      <th>B</th>\n",
       "      <th>C</th>\n",
       "      <th>D</th>\n",
       "      <th>X</th>\n",
       "    </tr>\n",
       "    <tr>\n",
       "      <th>시도명</th>\n",
       "      <th></th>\n",
       "      <th></th>\n",
       "      <th></th>\n",
       "      <th></th>\n",
       "      <th></th>\n",
       "    </tr>\n",
       "  </thead>\n",
       "  <tbody>\n",
       "    <tr>\n",
       "      <th>강원도</th>\n",
       "      <td>7469</td>\n",
       "      <td>10757</td>\n",
       "      <td>34963</td>\n",
       "      <td>1682</td>\n",
       "      <td>1054</td>\n",
       "    </tr>\n",
       "    <tr>\n",
       "      <th>경기도</th>\n",
       "      <td>51786</td>\n",
       "      <td>99665</td>\n",
       "      <td>189687</td>\n",
       "      <td>9851</td>\n",
       "      <td>8529</td>\n",
       "    </tr>\n",
       "    <tr>\n",
       "      <th>경상남도</th>\n",
       "      <td>15982</td>\n",
       "      <td>23194</td>\n",
       "      <td>71293</td>\n",
       "      <td>3030</td>\n",
       "      <td>2453</td>\n",
       "    </tr>\n",
       "    <tr>\n",
       "      <th>경상북도</th>\n",
       "      <td>14075</td>\n",
       "      <td>23448</td>\n",
       "      <td>73252</td>\n",
       "      <td>2905</td>\n",
       "      <td>2319</td>\n",
       "    </tr>\n",
       "    <tr>\n",
       "      <th>광주광역시</th>\n",
       "      <td>5677</td>\n",
       "      <td>10059</td>\n",
       "      <td>21859</td>\n",
       "      <td>1006</td>\n",
       "      <td>793</td>\n",
       "    </tr>\n",
       "    <tr>\n",
       "      <th>대구광역시</th>\n",
       "      <td>9970</td>\n",
       "      <td>18532</td>\n",
       "      <td>36183</td>\n",
       "      <td>1933</td>\n",
       "      <td>1873</td>\n",
       "    </tr>\n",
       "    <tr>\n",
       "      <th>대전광역시</th>\n",
       "      <td>5729</td>\n",
       "      <td>11700</td>\n",
       "      <td>21701</td>\n",
       "      <td>1097</td>\n",
       "      <td>1049</td>\n",
       "    </tr>\n",
       "    <tr>\n",
       "      <th>부산광역시</th>\n",
       "      <td>11348</td>\n",
       "      <td>19490</td>\n",
       "      <td>41171</td>\n",
       "      <td>1781</td>\n",
       "      <td>1778</td>\n",
       "    </tr>\n",
       "    <tr>\n",
       "      <th>서울특별시</th>\n",
       "      <td>25125</td>\n",
       "      <td>62526</td>\n",
       "      <td>77485</td>\n",
       "      <td>4308</td>\n",
       "      <td>5884</td>\n",
       "    </tr>\n",
       "    <tr>\n",
       "      <th>세종특별자치시</th>\n",
       "      <td>1181</td>\n",
       "      <td>1673</td>\n",
       "      <td>4818</td>\n",
       "      <td>255</td>\n",
       "      <td>175</td>\n",
       "    </tr>\n",
       "    <tr>\n",
       "      <th>울산광역시</th>\n",
       "      <td>4409</td>\n",
       "      <td>6886</td>\n",
       "      <td>18977</td>\n",
       "      <td>999</td>\n",
       "      <td>763</td>\n",
       "    </tr>\n",
       "    <tr>\n",
       "      <th>인천광역시</th>\n",
       "      <td>12273</td>\n",
       "      <td>21774</td>\n",
       "      <td>42143</td>\n",
       "      <td>2046</td>\n",
       "      <td>1843</td>\n",
       "    </tr>\n",
       "    <tr>\n",
       "      <th>전라남도</th>\n",
       "      <td>9518</td>\n",
       "      <td>16125</td>\n",
       "      <td>56631</td>\n",
       "      <td>1934</td>\n",
       "      <td>1448</td>\n",
       "    </tr>\n",
       "    <tr>\n",
       "      <th>전라북도</th>\n",
       "      <td>9083</td>\n",
       "      <td>14504</td>\n",
       "      <td>45586</td>\n",
       "      <td>1874</td>\n",
       "      <td>1376</td>\n",
       "    </tr>\n",
       "    <tr>\n",
       "      <th>제주특별자치도</th>\n",
       "      <td>3884</td>\n",
       "      <td>5668</td>\n",
       "      <td>15813</td>\n",
       "      <td>583</td>\n",
       "      <td>503</td>\n",
       "    </tr>\n",
       "    <tr>\n",
       "      <th>충청남도</th>\n",
       "      <td>10534</td>\n",
       "      <td>17893</td>\n",
       "      <td>52746</td>\n",
       "      <td>2169</td>\n",
       "      <td>1577</td>\n",
       "    </tr>\n",
       "    <tr>\n",
       "      <th>충청북도</th>\n",
       "      <td>7975</td>\n",
       "      <td>13730</td>\n",
       "      <td>36117</td>\n",
       "      <td>1585</td>\n",
       "      <td>1151</td>\n",
       "    </tr>\n",
       "  </tbody>\n",
       "</table>\n",
       "</div>"
      ],
      "text/plain": [
       "Grade        A      B       C     D     X\n",
       "시도명                                      \n",
       "강원도       7469  10757   34963  1682  1054\n",
       "경기도      51786  99665  189687  9851  8529\n",
       "경상남도     15982  23194   71293  3030  2453\n",
       "경상북도     14075  23448   73252  2905  2319\n",
       "광주광역시     5677  10059   21859  1006   793\n",
       "대구광역시     9970  18532   36183  1933  1873\n",
       "대전광역시     5729  11700   21701  1097  1049\n",
       "부산광역시    11348  19490   41171  1781  1778\n",
       "서울특별시    25125  62526   77485  4308  5884\n",
       "세종특별자치시   1181   1673    4818   255   175\n",
       "울산광역시     4409   6886   18977   999   763\n",
       "인천광역시    12273  21774   42143  2046  1843\n",
       "전라남도      9518  16125   56631  1934  1448\n",
       "전라북도      9083  14504   45586  1874  1376\n",
       "제주특별자치도   3884   5668   15813   583   503\n",
       "충청남도     10534  17893   52746  2169  1577\n",
       "충청북도      7975  13730   36117  1585  1151"
      ]
     },
     "execution_count": 44,
     "metadata": {},
     "output_type": "execute_result"
    }
   ],
   "source": [
    "num_by_grade_by_local = df.groupby(['시도명', 'Grade'])['차대번호'].count().unstack()\n",
    "# num_by_grade_by_local = num_by_grade_by_local.rename('대수')\n",
    "num_by_grade_by_local"
   ]
  },
  {
   "cell_type": "code",
   "execution_count": 45,
   "metadata": {},
   "outputs": [
    {
     "data": {
      "text/plain": [
       "Index(['A', 'B', 'C', 'D', 'X'], dtype='object', name='Grade')"
      ]
     },
     "execution_count": 45,
     "metadata": {},
     "output_type": "execute_result"
    }
   ],
   "source": [
    "num_by_grade_by_local.columns"
   ]
  },
  {
   "cell_type": "code",
   "execution_count": 46,
   "metadata": {},
   "outputs": [
    {
     "data": {
      "text/plain": [
       "Index(['강원도', '경기도', '경상남도', '경상북도', '광주광역시', '대구광역시', '대전광역시', '부산광역시',\n",
       "       '서울특별시', '세종특별자치시', '울산광역시', '인천광역시', '전라남도', '전라북도', '제주특별자치도', '충청남도',\n",
       "       '충청북도'],\n",
       "      dtype='object', name='시도명')"
      ]
     },
     "execution_count": 46,
     "metadata": {},
     "output_type": "execute_result"
    }
   ],
   "source": [
    "num_by_grade_by_local.index"
   ]
  },
  {
   "cell_type": "code",
   "execution_count": 47,
   "metadata": {},
   "outputs": [
    {
     "data": {
      "text/plain": [
       "Index(['차대번호', '차량번호', '제원관리번호', '차종', '용도', '최초등록일', '연식', '제작일자', '검사유효일',\n",
       "       '배출가스인증번호', '등급', '차명', '차종분류', '차종유형', '자동차형식', '제작사명', '연료', '엔진형식',\n",
       "       '총중량', '적재중량', '엔진출력', '배기량', '법정동코드', '시도명', '시군구명', '소유자구분', '말소여부',\n",
       "       '일치유무', '배인번호_수정', '등급_수정', 'DPF유무_수정', 'fuel', 'Grade'],\n",
       "      dtype='object')"
      ]
     },
     "execution_count": 47,
     "metadata": {},
     "output_type": "execute_result"
    }
   ],
   "source": [
    "df.columns"
   ]
  },
  {
   "attachments": {},
   "cell_type": "markdown",
   "metadata": {},
   "source": [
    "## [출력] df1"
   ]
  },
  {
   "cell_type": "code",
   "execution_count": 48,
   "metadata": {},
   "outputs": [
    {
     "data": {
      "text/plain": [
       "Index(['차대번호', '차량번호', '제원관리번호', '차종', '용도', '최초등록일', '연식', '제작일자', '검사유효일',\n",
       "       '배출가스인증번호', '등급', '차명', '차종분류', '차종유형', '자동차형식', '제작사명', '연료', '엔진형식',\n",
       "       '총중량', '적재중량', '엔진출력', '배기량', '법정동코드', '시도명', '시군구명', '소유자구분', '말소여부',\n",
       "       '일치유무', '배인번호_수정', '등급_수정', 'DPF유무_수정', 'fuel', 'Grade'],\n",
       "      dtype='object')"
      ]
     },
     "execution_count": 48,
     "metadata": {},
     "output_type": "execute_result"
    }
   ],
   "source": [
    "df.columns"
   ]
  },
  {
   "cell_type": "code",
   "execution_count": 49,
   "metadata": {},
   "outputs": [
    {
     "data": {
      "text/plain": [
       "Index(['차대번호', '차량번호', '제원관리번호', '차종', '용도', '최초등록일', '연식', '제작일자', '검사유효일',\n",
       "       '배출가스인증번호', '등급', '차명', '차종분류', '차종유형', '자동차형식', '제작사명', '연료', '엔진형식',\n",
       "       '총중량', '적재중량', '엔진출력', '배기량', '법정동코드', '시도명', '시군구명', '소유자구분', '말소여부',\n",
       "       '일치유무', '배인번호_수정', '등급_수정', 'DPF유무_수정', 'Grade'],\n",
       "      dtype='object')"
      ]
     },
     "execution_count": 49,
     "metadata": {},
     "output_type": "execute_result"
    }
   ],
   "source": [
    "df1 = df.drop('fuel', axis=1)\n",
    "df1.columns"
   ]
  },
  {
   "cell_type": "code",
   "execution_count": 50,
   "metadata": {},
   "outputs": [
    {
     "name": "stdout",
     "output_type": "stream",
     "text": [
      "<class 'pandas.core.frame.DataFrame'>\n",
      "RangeIndex: 1497673 entries, 0 to 1497672\n",
      "Data columns (total 32 columns):\n",
      " #   Column    Non-Null Count    Dtype  \n",
      "---  ------    --------------    -----  \n",
      " 0   차대번호      1497673 non-null  object \n",
      " 1   차량번호      1497673 non-null  object \n",
      " 2   제원관리번호    1497673 non-null  object \n",
      " 3   차종        1497673 non-null  object \n",
      " 4   용도        1497673 non-null  object \n",
      " 5   최초등록일     1497673 non-null  int64  \n",
      " 6   연식        1497673 non-null  int64  \n",
      " 7   제작일자      1330652 non-null  float64\n",
      " 8   검사유효일     1497661 non-null  float64\n",
      " 9   배출가스인증번호  1377718 non-null  object \n",
      " 10  등급        1497673 non-null  int64  \n",
      " 11  차명        1497673 non-null  object \n",
      " 12  차종분류      1497673 non-null  object \n",
      " 13  차종유형      1497673 non-null  object \n",
      " 14  자동차형식     1497398 non-null  object \n",
      " 15  제작사명      1488034 non-null  object \n",
      " 16  연료        1497673 non-null  object \n",
      " 17  엔진형식      1495841 non-null  object \n",
      " 18  총중량       1497672 non-null  float64\n",
      " 19  적재중량      1497331 non-null  float64\n",
      " 20  엔진출력      1497322 non-null  object \n",
      " 21  배기량       1497670 non-null  float64\n",
      " 22  법정동코드     1497673 non-null  int64  \n",
      " 23  시도명       1497673 non-null  object \n",
      " 24  시군구명      1497673 non-null  object \n",
      " 25  소유자구분     1497673 non-null  object \n",
      " 26  말소여부      1497673 non-null  object \n",
      " 27  일치유무      1149290 non-null  object \n",
      " 28  배인번호_수정   1149290 non-null  object \n",
      " 29  등급_수정     1149290 non-null  float64\n",
      " 30  DPF유무_수정  1149290 non-null  object \n",
      " 31  Grade     1497673 non-null  object \n",
      "dtypes: float64(6), int64(4), object(22)\n",
      "memory usage: 365.6+ MB\n"
     ]
    }
   ],
   "source": [
    "df1.info()"
   ]
  },
  {
   "cell_type": "code",
   "execution_count": 51,
   "metadata": {},
   "outputs": [
    {
     "data": {
      "text/html": [
       "<div>\n",
       "<style scoped>\n",
       "    .dataframe tbody tr th:only-of-type {\n",
       "        vertical-align: middle;\n",
       "    }\n",
       "\n",
       "    .dataframe tbody tr th {\n",
       "        vertical-align: top;\n",
       "    }\n",
       "\n",
       "    .dataframe thead th {\n",
       "        text-align: right;\n",
       "    }\n",
       "</style>\n",
       "<table border=\"1\" class=\"dataframe\">\n",
       "  <thead>\n",
       "    <tr style=\"text-align: right;\">\n",
       "      <th></th>\n",
       "      <th>배출가스인증번호</th>\n",
       "      <th>제원관리번호</th>\n",
       "    </tr>\n",
       "  </thead>\n",
       "  <tbody>\n",
       "    <tr>\n",
       "      <th>0</th>\n",
       "      <td>4MY-AD-20</td>\n",
       "      <td>02420000100031305</td>\n",
       "    </tr>\n",
       "    <tr>\n",
       "      <th>1</th>\n",
       "      <td>4MY-AD-20</td>\n",
       "      <td>02420000100031305</td>\n",
       "    </tr>\n",
       "    <tr>\n",
       "      <th>2</th>\n",
       "      <td>4MY-AD-20</td>\n",
       "      <td>02420000100031305</td>\n",
       "    </tr>\n",
       "    <tr>\n",
       "      <th>3</th>\n",
       "      <td>4MY-AD-20</td>\n",
       "      <td>02420000100031305</td>\n",
       "    </tr>\n",
       "    <tr>\n",
       "      <th>4</th>\n",
       "      <td>4MY-AD-20</td>\n",
       "      <td>02420000100031305</td>\n",
       "    </tr>\n",
       "  </tbody>\n",
       "</table>\n",
       "</div>"
      ],
      "text/plain": [
       "    배출가스인증번호             제원관리번호\n",
       "0  4MY-AD-20  02420000100031305\n",
       "1  4MY-AD-20  02420000100031305\n",
       "2  4MY-AD-20  02420000100031305\n",
       "3  4MY-AD-20  02420000100031305\n",
       "4  4MY-AD-20  02420000100031305"
      ]
     },
     "execution_count": 51,
     "metadata": {},
     "output_type": "execute_result"
    }
   ],
   "source": [
    "df1[['배출가스인증번호', '제원관리번호']].head()"
   ]
  },
  {
   "cell_type": "code",
   "execution_count": 52,
   "metadata": {},
   "outputs": [
    {
     "data": {
      "text/plain": [
       "'2023.04.13_PM.01.23.01'"
      ]
     },
     "execution_count": 52,
     "metadata": {},
     "output_type": "execute_result"
    }
   ],
   "source": [
    "today_date = datetime.today().strftime(\"%Y.%m.%d_%p.%I.%M.%S\")\n",
    "today_date"
   ]
  },
  {
   "cell_type": "code",
   "execution_count": 53,
   "metadata": {},
   "outputs": [],
   "source": [
    "# about 20.8s\n",
    "today_date = datetime.today().strftime(\"%Y.%m.%d_%p.%I.%M.%S\")\n",
    "df1.to_csv(os.path.join(raw_fold, f'4등급 차량 리스트 양식(경유, 휘발유, LPG) result 최종 Grade 추가({today_date}).csv'), index=False, encoding='cp949')"
   ]
  },
  {
   "cell_type": "code",
   "execution_count": 100,
   "metadata": {},
   "outputs": [],
   "source": [
    "# # about 20.6s\n",
    "# today_date = datetime.today().strftime(\"%Y.%m.%d_%p.%I.%M.%S\")\n",
    "# df1.to_csv(os.path.join(raw_fold, f'4등급 차량 리스트 양식 result 최종 Grade 추가({today_date}).txt'), index=False, encoding='cp949')"
   ]
  },
  {
   "cell_type": "code",
   "execution_count": 101,
   "metadata": {},
   "outputs": [],
   "source": [
    "# # about 20.5s\n",
    "# today_date = datetime.today().strftime(\"%Y.%m.%d_%p.%I.%M.%S\")\n",
    "# df1.iloc[:500000].to_csv(os.path.join(raw_fold, f'4등급 차량 리스트 양식 result 최종 Grade 추가({today_date})01.csv'), index=False, encoding='cp949')\n",
    "# df1.iloc[500000:].to_csv(os.path.join(raw_fold, f'4등급 차량 리스트 양식 result 최종 Grade 추가({today_date})02.csv'), index=False, encoding='cp949')"
   ]
  },
  {
   "cell_type": "code",
   "execution_count": 102,
   "metadata": {},
   "outputs": [],
   "source": [
    "# # about 20.5s\n",
    "# today_date = datetime.today().strftime(\"%Y.%m.%d_%p.%I.%M.%S\")\n",
    "# df1.iloc[:500000].to_csv(os.path.join(raw_fold, f'4등급 차량 리스트 양식 result 최종 Grade 추가({today_date})01.txt'), index=False, encoding='cp949')\n",
    "# df1.iloc[500000:].to_csv(os.path.join(raw_fold, f'4등급 차량 리스트 양식 result 최종 Grade 추가({today_date})02.txt'), index=False, encoding='cp949')"
   ]
  },
  {
   "cell_type": "code",
   "execution_count": 103,
   "metadata": {},
   "outputs": [],
   "source": [
    "# # about 12m 39.8s\n",
    "# today_date = datetime.today().strftime(\"%Y.%m.%d_%p.%I.%M.%S\")\n",
    "# df1.iloc[:500000].to_excel(os.path.join(raw_fold, f'4등급 차량 리스트 양식 result 최종 Grade 추가({today_date})01.xlsx'), index=False)\n",
    "# df1.iloc[500000:].to_excel(os.path.join(raw_fold, f'4등급 차량 리스트 양식 result 최종 Grade 추가({today_date})02.xlsx'), index=False)"
   ]
  },
  {
   "cell_type": "code",
   "execution_count": 104,
   "metadata": {},
   "outputs": [],
   "source": [
    "# # about 12m 35.7s\n",
    "# # xlsxwriter\n",
    "#     # 속도 차이 없음\n",
    "#     # 기본과 파일 용량 차이 없음\n",
    "# today_date = datetime.today().strftime(\"%Y.%m.%d_%p.%H.%M.%S\")\n",
    "# df1.iloc[:500000].to_excel(os.path.join(raw_fold, f'4등급 차량 리스트 양식 result 최종 Grade 추가({today_date})01.xlsx'), index=False, engine='xlsxwriter')\n",
    "# df1.iloc[500000:].to_excel(os.path.join(raw_fold, f'4등급 차량 리스트 양식 result 최종 Grade 추가({today_date})02.xlsx'), index=False, engine='xlsxwriter')"
   ]
  },
  {
   "cell_type": "code",
   "execution_count": 105,
   "metadata": {},
   "outputs": [],
   "source": [
    "# # about \n",
    "# # openpyxl\n",
    "#     # 속도 조금 느림\n",
    "#     # 기본보다 용량 큼\n",
    "# today_date = datetime.today().strftime(\"%Y.%m.%d_%p.%H.%M.%S\")\n",
    "# df1.iloc[:500000].to_excel(os.path.join(raw_fold, f'4등급 차량 리스트 양식 result 최종 Grade 추가({today_date})01.xlsx'), index=False, engine='openpyxl')\n",
    "# df1.iloc[500000:].to_excel(os.path.join(raw_fold, f'4등급 차량 리스트 양식 result 최종 Grade 추가({today_date})02.xlsx'), index=False, engine='openpyxl')"
   ]
  },
  {
   "attachments": {},
   "cell_type": "markdown",
   "metadata": {},
   "source": [
    "## [출력] 4등급 경유, 4등급 휘발유_가스, 3등급 경유, 5등급 경유 병합"
   ]
  },
  {
   "cell_type": "code",
   "execution_count": 54,
   "metadata": {},
   "outputs": [
    {
     "data": {
      "text/plain": [
       "(1502235, 28)"
      ]
     },
     "execution_count": 54,
     "metadata": {},
     "output_type": "execute_result"
    }
   ],
   "source": [
    "rw.shape"
   ]
  },
  {
   "cell_type": "code",
   "execution_count": 55,
   "metadata": {},
   "outputs": [
    {
     "data": {
      "text/plain": [
       "1502235"
      ]
     },
     "execution_count": 55,
     "metadata": {},
     "output_type": "execute_result"
    }
   ],
   "source": [
    "df.shape[0] + g3_g5.shape[0] + rw_rest.shape[0]"
   ]
  },
  {
   "cell_type": "code",
   "execution_count": 56,
   "metadata": {},
   "outputs": [
    {
     "data": {
      "text/plain": [
       "(1502235, 33)"
      ]
     },
     "execution_count": 56,
     "metadata": {},
     "output_type": "execute_result"
    }
   ],
   "source": [
    "total = pd.concat([df, g3_g5, rw_rest], ignore_index=True)\n",
    "total.shape"
   ]
  },
  {
   "cell_type": "code",
   "execution_count": 57,
   "metadata": {},
   "outputs": [
    {
     "data": {
      "text/plain": [
       "Index(['차대번호', '차량번호', '제원관리번호', '차종', '용도', '최초등록일', '연식', '제작일자', '검사유효일',\n",
       "       '배출가스인증번호', '등급', '차명', '차종분류', '차종유형', '자동차형식', '제작사명', '연료', '엔진형식',\n",
       "       '총중량', '적재중량', '엔진출력', '배기량', '법정동코드', '시도명', '시군구명', '소유자구분', '말소여부',\n",
       "       '일치유무', '배인번호_수정', '등급_수정', 'DPF유무_수정', 'fuel', 'Grade'],\n",
       "      dtype='object')"
      ]
     },
     "execution_count": 57,
     "metadata": {},
     "output_type": "execute_result"
    }
   ],
   "source": [
    "total.columns"
   ]
  },
  {
   "cell_type": "code",
   "execution_count": 59,
   "metadata": {},
   "outputs": [
    {
     "data": {
      "text/plain": [
       "'2023.04.13_PM.01.24.45'"
      ]
     },
     "execution_count": 59,
     "metadata": {},
     "output_type": "execute_result"
    }
   ],
   "source": [
    "today_date = datetime.today().strftime(\"%Y.%m.%d_%p.%I.%M.%S\")\n",
    "today_date"
   ]
  },
  {
   "cell_type": "code",
   "execution_count": 58,
   "metadata": {},
   "outputs": [],
   "source": [
    "# about 21.1s\n",
    "total.to_csv(os.path.join(raw_fold, f'4등급 차량 리스트 양식(전체) result 최종 Grade 추가({today_date}).csv'), index=False, encoding='cp949')"
   ]
  },
  {
   "cell_type": "code",
   "execution_count": 60,
   "metadata": {},
   "outputs": [],
   "source": [
    "# about 13m 7.6s\n",
    "total.iloc[:700000].to_excel(os.path.join(raw_fold, f'4등급 차량 리스트 양식(전체) result 최종 Grade 추가01({today_date}).xlsx'), index=False)\n",
    "total.iloc[700000:].to_excel(os.path.join(raw_fold, f'4등급 차량 리스트 양식(전체) result 최종 Grade 추가02({today_date}).xlsx'), index=False)"
   ]
  },
  {
   "attachments": {},
   "cell_type": "markdown",
   "metadata": {},
   "source": [
    "## [출력] EG 통계"
   ]
  },
  {
   "cell_type": "code",
   "execution_count": 106,
   "metadata": {},
   "outputs": [
    {
     "data": {
      "text/plain": [
       "'D:/data/big2/BD1/an'"
      ]
     },
     "execution_count": 106,
     "metadata": {},
     "output_type": "execute_result"
    }
   ],
   "source": [
    "analysis_fold"
   ]
  },
  {
   "cell_type": "code",
   "execution_count": 107,
   "metadata": {},
   "outputs": [],
   "source": [
    "today_date = datetime.today().strftime(\"%Y.%m.%d_%p.%I.%M.%S\")\n",
    "with pd.ExcelWriter(os.path.join(analysis_fold, f'G4_통계_EG_{today_date}.xlsx')) as writer:\n",
    "    num_by_fuel.to_excel(writer, sheet_name='연료별', index=False)\n",
    "    num_by_grade.to_excel(writer, sheet_name='등급별')\n",
    "    num_by_grade_by_local.to_excel(writer, sheet_name='지역별')"
   ]
  },
  {
   "attachments": {},
   "cell_type": "markdown",
   "metadata": {},
   "source": [
    "## [출력] 지역별 샘플"
   ]
  },
  {
   "cell_type": "code",
   "execution_count": 54,
   "metadata": {},
   "outputs": [
    {
     "data": {
      "text/plain": [
       "Index(['차대번호', '차량번호', '제원관리번호', '차종', '용도', '최초등록일', '연식', '제작일자', '검사유효일',\n",
       "       '배출가스인증번호', '등급', '차명', '차종분류', '차종유형', '자동차형식', '제작사명', '연료', '엔진형식',\n",
       "       '총중량', '적재중량', '엔진출력', '배기량', '법정동코드', '시도명', '시군구명', '소유자구분', '말소여부',\n",
       "       '일치유무', '배인번호_수정', '등급_수정', 'DPF유무_수정', 'fuel', 'Grade'],\n",
       "      dtype='object')"
      ]
     },
     "execution_count": 54,
     "metadata": {},
     "output_type": "execute_result"
    }
   ],
   "source": [
    "df.columns"
   ]
  },
  {
   "cell_type": "code",
   "execution_count": 55,
   "metadata": {},
   "outputs": [
    {
     "data": {
      "text/html": [
       "<div>\n",
       "<style scoped>\n",
       "    .dataframe tbody tr th:only-of-type {\n",
       "        vertical-align: middle;\n",
       "    }\n",
       "\n",
       "    .dataframe tbody tr th {\n",
       "        vertical-align: top;\n",
       "    }\n",
       "\n",
       "    .dataframe thead th {\n",
       "        text-align: right;\n",
       "    }\n",
       "</style>\n",
       "<table border=\"1\" class=\"dataframe\">\n",
       "  <thead>\n",
       "    <tr style=\"text-align: right;\">\n",
       "      <th></th>\n",
       "      <th>법정동코드</th>\n",
       "      <th>시도명</th>\n",
       "      <th>시군구명</th>\n",
       "      <th>Grade</th>\n",
       "      <th>차량번호</th>\n",
       "      <th>DPF유무_수정</th>\n",
       "      <th>연식</th>\n",
       "    </tr>\n",
       "  </thead>\n",
       "  <tbody>\n",
       "    <tr>\n",
       "      <th>0</th>\n",
       "      <td>3017011600</td>\n",
       "      <td>대전광역시</td>\n",
       "      <td>서구</td>\n",
       "      <td>D</td>\n",
       "      <td>21로7811</td>\n",
       "      <td>무</td>\n",
       "      <td>2006</td>\n",
       "    </tr>\n",
       "    <tr>\n",
       "      <th>1</th>\n",
       "      <td>2635010700</td>\n",
       "      <td>부산광역시</td>\n",
       "      <td>해운대구</td>\n",
       "      <td>D</td>\n",
       "      <td>23거2347</td>\n",
       "      <td>무</td>\n",
       "      <td>2006</td>\n",
       "    </tr>\n",
       "    <tr>\n",
       "      <th>2</th>\n",
       "      <td>4148012200</td>\n",
       "      <td>경기도</td>\n",
       "      <td>파주시</td>\n",
       "      <td>D</td>\n",
       "      <td>04어9316</td>\n",
       "      <td>무</td>\n",
       "      <td>2006</td>\n",
       "    </tr>\n",
       "    <tr>\n",
       "      <th>3</th>\n",
       "      <td>2623010900</td>\n",
       "      <td>부산광역시</td>\n",
       "      <td>부산진구</td>\n",
       "      <td>D</td>\n",
       "      <td>14우2622</td>\n",
       "      <td>무</td>\n",
       "      <td>2006</td>\n",
       "    </tr>\n",
       "    <tr>\n",
       "      <th>4</th>\n",
       "      <td>5013010300</td>\n",
       "      <td>제주특별자치도</td>\n",
       "      <td>서귀포시</td>\n",
       "      <td>D</td>\n",
       "      <td>07머3269</td>\n",
       "      <td>무</td>\n",
       "      <td>2006</td>\n",
       "    </tr>\n",
       "    <tr>\n",
       "      <th>5</th>\n",
       "      <td>4150031021</td>\n",
       "      <td>경기도</td>\n",
       "      <td>이천시</td>\n",
       "      <td>D</td>\n",
       "      <td>58거7827</td>\n",
       "      <td>무</td>\n",
       "      <td>2006</td>\n",
       "    </tr>\n",
       "    <tr>\n",
       "      <th>6</th>\n",
       "      <td>4817012100</td>\n",
       "      <td>경상남도</td>\n",
       "      <td>진주시</td>\n",
       "      <td>D</td>\n",
       "      <td>64보3244</td>\n",
       "      <td>무</td>\n",
       "      <td>2006</td>\n",
       "    </tr>\n",
       "    <tr>\n",
       "      <th>7</th>\n",
       "      <td>4167025035</td>\n",
       "      <td>경기도</td>\n",
       "      <td>여주시</td>\n",
       "      <td>D</td>\n",
       "      <td>69가2031</td>\n",
       "      <td>무</td>\n",
       "      <td>2006</td>\n",
       "    </tr>\n",
       "    <tr>\n",
       "      <th>8</th>\n",
       "      <td>4213010300</td>\n",
       "      <td>강원도</td>\n",
       "      <td>원주시</td>\n",
       "      <td>D</td>\n",
       "      <td>06주6090</td>\n",
       "      <td>무</td>\n",
       "      <td>2006</td>\n",
       "    </tr>\n",
       "    <tr>\n",
       "      <th>9</th>\n",
       "      <td>4684035021</td>\n",
       "      <td>전라남도</td>\n",
       "      <td>무안군</td>\n",
       "      <td>D</td>\n",
       "      <td>32어5631</td>\n",
       "      <td>무</td>\n",
       "      <td>2006</td>\n",
       "    </tr>\n",
       "  </tbody>\n",
       "</table>\n",
       "</div>"
      ],
      "text/plain": [
       "        법정동코드      시도명  시군구명 Grade     차량번호 DPF유무_수정    연식\n",
       "0  3017011600    대전광역시    서구     D  21로7811        무  2006\n",
       "1  2635010700    부산광역시  해운대구     D  23거2347        무  2006\n",
       "2  4148012200      경기도   파주시     D  04어9316        무  2006\n",
       "3  2623010900    부산광역시  부산진구     D  14우2622        무  2006\n",
       "4  5013010300  제주특별자치도  서귀포시     D  07머3269        무  2006\n",
       "5  4150031021      경기도   이천시     D  58거7827        무  2006\n",
       "6  4817012100     경상남도   진주시     D  64보3244        무  2006\n",
       "7  4167025035      경기도   여주시     D  69가2031        무  2006\n",
       "8  4213010300      강원도   원주시     D  06주6090        무  2006\n",
       "9  4684035021     전라남도   무안군     D  32어5631        무  2006"
      ]
     },
     "execution_count": 55,
     "metadata": {},
     "output_type": "execute_result"
    }
   ],
   "source": [
    "df[['법정동코드', '시도명', '시군구명', 'Grade', '차량번호', 'DPF유무_수정', '연식']].head(10)"
   ]
  },
  {
   "cell_type": "code",
   "execution_count": 74,
   "metadata": {},
   "outputs": [],
   "source": [
    "# df[['법정동코드', '시도명', '시군구명', 'Grade', '차량번호', 'DPF유무_수정', '연식']].head(10).to_excel(os.path.join(analysis_fold, f'샘플_법정동코드_지역_{today_date}.xlsx'), index=False)"
   ]
  },
  {
   "cell_type": "code",
   "execution_count": 56,
   "metadata": {},
   "outputs": [
    {
     "data": {
      "text/plain": [
       "시도명   시군구명  Grade  DPF유무_수정\n",
       "강원도   강릉시   A      유            928\n",
       "                   NaN          117\n",
       "            B      유            459\n",
       "                   NaN          981\n",
       "            C      무           4221\n",
       "                               ... \n",
       "충청북도  충주시   B      NaN         1425\n",
       "            C      무           4999\n",
       "            D      무            218\n",
       "            X      확인불가         103\n",
       "                   NaN           49\n",
       "Name: 차대번호, Length: 2006, dtype: int64"
      ]
     },
     "execution_count": 56,
     "metadata": {},
     "output_type": "execute_result"
    }
   ],
   "source": [
    "df.groupby(['시도명', '시군구명', 'Grade', 'DPF유무_수정'], dropna=False)['차대번호'].count()"
   ]
  },
  {
   "attachments": {},
   "cell_type": "markdown",
   "metadata": {},
   "source": [
    "# LPG 만 추출"
   ]
  },
  {
   "cell_type": "code",
   "execution_count": 11,
   "metadata": {},
   "outputs": [
    {
     "data": {
      "text/plain": [
       "경유             1153813\n",
       "휘발유             322983\n",
       "LPG(액화석유가스)      25400\n",
       "기타연료                37\n",
       "알코올                  1\n",
       "CNG(압축천연가스)          1\n",
       "Name: 연료, dtype: int64"
      ]
     },
     "execution_count": 11,
     "metadata": {},
     "output_type": "execute_result"
    }
   ],
   "source": [
    "rw['연료'].value_counts()"
   ]
  },
  {
   "cell_type": "code",
   "execution_count": 12,
   "metadata": {},
   "outputs": [
    {
     "data": {
      "text/plain": [
       "(25400, 28)"
      ]
     },
     "execution_count": 12,
     "metadata": {},
     "output_type": "execute_result"
    }
   ],
   "source": [
    "# 25400\n",
    "rw_lpg = rw.loc[rw['연료'] == 'LPG(액화석유가스)']\n",
    "rw_lpg.shape"
   ]
  },
  {
   "cell_type": "code",
   "execution_count": 13,
   "metadata": {},
   "outputs": [
    {
     "data": {
      "text/plain": [
       "Index(['차대번호', '차량번호', '제원관리번호', '차종', '용도', '최초등록일', '연식', '제작일자', '검사유효일',\n",
       "       '배출가스인증번호', '등급', '차명', '차종분류', '차종유형', '자동차형식', '제작사명', '연료', '엔진형식',\n",
       "       '총중량', '적재중량', '엔진출력', '배기량', '법정동코드', '시도명', '시군구명', '소유자구분', '말소여부',\n",
       "       '일치유무'],\n",
       "      dtype='object')"
      ]
     },
     "execution_count": 13,
     "metadata": {},
     "output_type": "execute_result"
    }
   ],
   "source": [
    "rw_lpg.columns"
   ]
  },
  {
   "cell_type": "code",
   "execution_count": 14,
   "metadata": {},
   "outputs": [
    {
     "name": "stderr",
     "output_type": "stream",
     "text": [
      "100%|██████████| 25400/25400 [00:00<00:00, 528947.53it/s]\n"
     ]
    },
    {
     "data": {
      "text/plain": [
       "25400"
      ]
     },
     "execution_count": 14,
     "metadata": {},
     "output_type": "execute_result"
    }
   ],
   "source": [
    "grade_list = []\n",
    "for f, y, cy in tqdm(rw_lpg[['연료', '제작일자', '연식']].values):\n",
    "    if (f == 'LPG(액화석유가스)') and ( (19980101 <= y <= 20001231) or (1998 <= cy <= 2000) ):\n",
    "        grade_list.append('A')\n",
    "    elif (f == 'LPG(액화석유가스)') and ( (y <= 19971231) or (cy <= 1997) ):\n",
    "        grade_list.append('B')\n",
    "    else:\n",
    "        grade_list.append('X')\n",
    "len(grade_list)"
   ]
  },
  {
   "cell_type": "code",
   "execution_count": 15,
   "metadata": {},
   "outputs": [
    {
     "name": "stderr",
     "output_type": "stream",
     "text": [
      "C:\\Users\\kbjung\\AppData\\Local\\Temp\\ipykernel_7388\\3232022228.py:1: SettingWithCopyWarning: \n",
      "A value is trying to be set on a copy of a slice from a DataFrame.\n",
      "Try using .loc[row_indexer,col_indexer] = value instead\n",
      "\n",
      "See the caveats in the documentation: https://pandas.pydata.org/pandas-docs/stable/user_guide/indexing.html#returning-a-view-versus-a-copy\n",
      "  rw_lpg['Grade'] = grade_list\n"
     ]
    }
   ],
   "source": [
    "rw_lpg['Grade'] = grade_list"
   ]
  },
  {
   "cell_type": "code",
   "execution_count": 25,
   "metadata": {},
   "outputs": [
    {
     "data": {
      "text/plain": [
       "0"
      ]
     },
     "execution_count": 25,
     "metadata": {},
     "output_type": "execute_result"
    }
   ],
   "source": [
    "rw_lpg['Grade'].isnull().sum()"
   ]
  },
  {
   "attachments": {},
   "cell_type": "markdown",
   "metadata": {},
   "source": [
    "## [출력] 샘플"
   ]
  },
  {
   "cell_type": "code",
   "execution_count": 22,
   "metadata": {},
   "outputs": [
    {
     "data": {
      "text/plain": [
       "Index(['차대번호', '차량번호', '제원관리번호', '차종', '용도', '최초등록일', '연식', '제작일자', '검사유효일',\n",
       "       '배출가스인증번호', '등급', '차명', '차종분류', '차종유형', '자동차형식', '제작사명', '연료', '엔진형식',\n",
       "       '총중량', '적재중량', '엔진출력', '배기량', '법정동코드', '시도명', '시군구명', '소유자구분', '말소여부',\n",
       "       '일치유무', 'Grade'],\n",
       "      dtype='object')"
      ]
     },
     "execution_count": 22,
     "metadata": {},
     "output_type": "execute_result"
    }
   ],
   "source": [
    "rw_lpg.columns"
   ]
  },
  {
   "cell_type": "code",
   "execution_count": 23,
   "metadata": {},
   "outputs": [
    {
     "data": {
      "text/plain": [
       "'2023.03.30_AM.09.54.55'"
      ]
     },
     "execution_count": 23,
     "metadata": {},
     "output_type": "execute_result"
    }
   ],
   "source": [
    "today_date = datetime.today().strftime(\"%Y.%m.%d_%p.%H.%M.%S\")\n",
    "today_date"
   ]
  },
  {
   "cell_type": "code",
   "execution_count": 24,
   "metadata": {},
   "outputs": [],
   "source": [
    "rw_lpg.to_csv(os.path.join(raw_fold, f'4등급 차량 리스트 양식 result(LPG) Grade 추가({today_date}).csv'), index=False, encoding='cp949')"
   ]
  },
  {
   "cell_type": "code",
   "execution_count": 16,
   "metadata": {},
   "outputs": [
    {
     "data": {
      "text/html": [
       "<div>\n",
       "<style scoped>\n",
       "    .dataframe tbody tr th:only-of-type {\n",
       "        vertical-align: middle;\n",
       "    }\n",
       "\n",
       "    .dataframe tbody tr th {\n",
       "        vertical-align: top;\n",
       "    }\n",
       "\n",
       "    .dataframe thead th {\n",
       "        text-align: right;\n",
       "    }\n",
       "</style>\n",
       "<table border=\"1\" class=\"dataframe\">\n",
       "  <thead>\n",
       "    <tr style=\"text-align: right;\">\n",
       "      <th></th>\n",
       "      <th>연료</th>\n",
       "      <th>대수</th>\n",
       "    </tr>\n",
       "  </thead>\n",
       "  <tbody>\n",
       "    <tr>\n",
       "      <th>0</th>\n",
       "      <td>LPG(액화석유가스)</td>\n",
       "      <td>25400</td>\n",
       "    </tr>\n",
       "  </tbody>\n",
       "</table>\n",
       "</div>"
      ],
      "text/plain": [
       "            연료     대수\n",
       "0  LPG(액화석유가스)  25400"
      ]
     },
     "execution_count": 16,
     "metadata": {},
     "output_type": "execute_result"
    }
   ],
   "source": [
    "num_by_fuel = rw_lpg.groupby(['연료'])['차대번호'].count().reset_index().sort_values('차대번호', ascending=False)\n",
    "num_by_fuel = num_by_fuel.rename(columns={'차대번호':'대수'})\n",
    "num_by_fuel"
   ]
  },
  {
   "cell_type": "code",
   "execution_count": 17,
   "metadata": {},
   "outputs": [
    {
     "data": {
      "text/html": [
       "<div>\n",
       "<style scoped>\n",
       "    .dataframe tbody tr th:only-of-type {\n",
       "        vertical-align: middle;\n",
       "    }\n",
       "\n",
       "    .dataframe tbody tr th {\n",
       "        vertical-align: top;\n",
       "    }\n",
       "\n",
       "    .dataframe thead th {\n",
       "        text-align: right;\n",
       "    }\n",
       "</style>\n",
       "<table border=\"1\" class=\"dataframe\">\n",
       "  <thead>\n",
       "    <tr style=\"text-align: right;\">\n",
       "      <th>Grade</th>\n",
       "      <th>A</th>\n",
       "      <th>B</th>\n",
       "      <th>X</th>\n",
       "    </tr>\n",
       "    <tr>\n",
       "      <th>연료</th>\n",
       "      <th></th>\n",
       "      <th></th>\n",
       "      <th></th>\n",
       "    </tr>\n",
       "  </thead>\n",
       "  <tbody>\n",
       "    <tr>\n",
       "      <th>LPG(액화석유가스)</th>\n",
       "      <td>11806</td>\n",
       "      <td>11832</td>\n",
       "      <td>1762</td>\n",
       "    </tr>\n",
       "  </tbody>\n",
       "</table>\n",
       "</div>"
      ],
      "text/plain": [
       "Grade            A      B     X\n",
       "연료                             \n",
       "LPG(액화석유가스)  11806  11832  1762"
      ]
     },
     "execution_count": 17,
     "metadata": {},
     "output_type": "execute_result"
    }
   ],
   "source": [
    "num_by_grade = rw_lpg.groupby(['연료', 'Grade'])['차대번호'].count().unstack()\n",
    "# num_by_grade = num_by_grade.rename('대수')\n",
    "num_by_grade"
   ]
  },
  {
   "cell_type": "code",
   "execution_count": 18,
   "metadata": {},
   "outputs": [
    {
     "data": {
      "text/html": [
       "<div>\n",
       "<style scoped>\n",
       "    .dataframe tbody tr th:only-of-type {\n",
       "        vertical-align: middle;\n",
       "    }\n",
       "\n",
       "    .dataframe tbody tr th {\n",
       "        vertical-align: top;\n",
       "    }\n",
       "\n",
       "    .dataframe thead th {\n",
       "        text-align: right;\n",
       "    }\n",
       "</style>\n",
       "<table border=\"1\" class=\"dataframe\">\n",
       "  <thead>\n",
       "    <tr style=\"text-align: right;\">\n",
       "      <th>Grade</th>\n",
       "      <th>A</th>\n",
       "      <th>B</th>\n",
       "      <th>X</th>\n",
       "    </tr>\n",
       "    <tr>\n",
       "      <th>시도명</th>\n",
       "      <th></th>\n",
       "      <th></th>\n",
       "      <th></th>\n",
       "    </tr>\n",
       "  </thead>\n",
       "  <tbody>\n",
       "    <tr>\n",
       "      <th>강원도</th>\n",
       "      <td>266</td>\n",
       "      <td>449</td>\n",
       "      <td>48</td>\n",
       "    </tr>\n",
       "    <tr>\n",
       "      <th>경기도</th>\n",
       "      <td>3067</td>\n",
       "      <td>3239</td>\n",
       "      <td>404</td>\n",
       "    </tr>\n",
       "    <tr>\n",
       "      <th>경상남도</th>\n",
       "      <td>499</td>\n",
       "      <td>408</td>\n",
       "      <td>99</td>\n",
       "    </tr>\n",
       "    <tr>\n",
       "      <th>경상북도</th>\n",
       "      <td>618</td>\n",
       "      <td>722</td>\n",
       "      <td>86</td>\n",
       "    </tr>\n",
       "    <tr>\n",
       "      <th>광주광역시</th>\n",
       "      <td>320</td>\n",
       "      <td>312</td>\n",
       "      <td>53</td>\n",
       "    </tr>\n",
       "    <tr>\n",
       "      <th>대구광역시</th>\n",
       "      <td>795</td>\n",
       "      <td>738</td>\n",
       "      <td>79</td>\n",
       "    </tr>\n",
       "    <tr>\n",
       "      <th>대전광역시</th>\n",
       "      <td>564</td>\n",
       "      <td>594</td>\n",
       "      <td>45</td>\n",
       "    </tr>\n",
       "    <tr>\n",
       "      <th>부산광역시</th>\n",
       "      <td>725</td>\n",
       "      <td>656</td>\n",
       "      <td>76</td>\n",
       "    </tr>\n",
       "    <tr>\n",
       "      <th>서울특별시</th>\n",
       "      <td>2237</td>\n",
       "      <td>1524</td>\n",
       "      <td>450</td>\n",
       "    </tr>\n",
       "    <tr>\n",
       "      <th>세종특별자치시</th>\n",
       "      <td>30</td>\n",
       "      <td>25</td>\n",
       "      <td>8</td>\n",
       "    </tr>\n",
       "    <tr>\n",
       "      <th>울산광역시</th>\n",
       "      <td>139</td>\n",
       "      <td>97</td>\n",
       "      <td>21</td>\n",
       "    </tr>\n",
       "    <tr>\n",
       "      <th>인천광역시</th>\n",
       "      <td>579</td>\n",
       "      <td>583</td>\n",
       "      <td>95</td>\n",
       "    </tr>\n",
       "    <tr>\n",
       "      <th>전라남도</th>\n",
       "      <td>474</td>\n",
       "      <td>705</td>\n",
       "      <td>78</td>\n",
       "    </tr>\n",
       "    <tr>\n",
       "      <th>전라북도</th>\n",
       "      <td>405</td>\n",
       "      <td>477</td>\n",
       "      <td>66</td>\n",
       "    </tr>\n",
       "    <tr>\n",
       "      <th>제주특별자치도</th>\n",
       "      <td>161</td>\n",
       "      <td>163</td>\n",
       "      <td>42</td>\n",
       "    </tr>\n",
       "    <tr>\n",
       "      <th>충청남도</th>\n",
       "      <td>429</td>\n",
       "      <td>479</td>\n",
       "      <td>59</td>\n",
       "    </tr>\n",
       "    <tr>\n",
       "      <th>충청북도</th>\n",
       "      <td>498</td>\n",
       "      <td>661</td>\n",
       "      <td>53</td>\n",
       "    </tr>\n",
       "  </tbody>\n",
       "</table>\n",
       "</div>"
      ],
      "text/plain": [
       "Grade       A     B    X\n",
       "시도명                     \n",
       "강원도       266   449   48\n",
       "경기도      3067  3239  404\n",
       "경상남도      499   408   99\n",
       "경상북도      618   722   86\n",
       "광주광역시     320   312   53\n",
       "대구광역시     795   738   79\n",
       "대전광역시     564   594   45\n",
       "부산광역시     725   656   76\n",
       "서울특별시    2237  1524  450\n",
       "세종특별자치시    30    25    8\n",
       "울산광역시     139    97   21\n",
       "인천광역시     579   583   95\n",
       "전라남도      474   705   78\n",
       "전라북도      405   477   66\n",
       "제주특별자치도   161   163   42\n",
       "충청남도      429   479   59\n",
       "충청북도      498   661   53"
      ]
     },
     "execution_count": 18,
     "metadata": {},
     "output_type": "execute_result"
    }
   ],
   "source": [
    "num_by_grade_by_local = rw_lpg.groupby(['시도명', 'Grade'])['차대번호'].count().unstack()\n",
    "# num_by_grade_by_local = num_by_grade_by_local.rename('대수')\n",
    "num_by_grade_by_local"
   ]
  },
  {
   "attachments": {},
   "cell_type": "markdown",
   "metadata": {},
   "source": [
    "## [출력] LPG EG 통계"
   ]
  },
  {
   "cell_type": "code",
   "execution_count": 19,
   "metadata": {},
   "outputs": [
    {
     "data": {
      "text/plain": [
       "'D:/data/big2/BD1/an'"
      ]
     },
     "execution_count": 19,
     "metadata": {},
     "output_type": "execute_result"
    }
   ],
   "source": [
    "analysis_fold"
   ]
  },
  {
   "cell_type": "code",
   "execution_count": 20,
   "metadata": {},
   "outputs": [
    {
     "data": {
      "text/plain": [
       "'2023.03.30_AM.09.51.45'"
      ]
     },
     "execution_count": 20,
     "metadata": {},
     "output_type": "execute_result"
    }
   ],
   "source": [
    "today_date = datetime.today().strftime(\"%Y.%m.%d_%p.%H.%M.%S\")\n",
    "today_date"
   ]
  },
  {
   "cell_type": "code",
   "execution_count": 21,
   "metadata": {},
   "outputs": [],
   "source": [
    "with pd.ExcelWriter(os.path.join(analysis_fold, f'G4_LPG_통계_EG_{today_date}.xlsx')) as writer:\n",
    "    num_by_fuel.to_excel(writer, sheet_name='연료별', index=False)\n",
    "    num_by_grade.to_excel(writer, sheet_name='등급별')\n",
    "    num_by_grade_by_local.to_excel(writer, sheet_name='지역별')"
   ]
  },
  {
   "cell_type": "markdown",
   "metadata": {},
   "source": [
    "# 배인번호 HB 포함한 샘플 출력"
   ]
  },
  {
   "cell_type": "code",
   "execution_count": 108,
   "metadata": {},
   "outputs": [
    {
     "data": {
      "text/plain": [
       "Index(['차대번호', '차량번호', '제원관리번호', '차종', '용도', '최초등록일', '연식', '제작일자', '검사유효일',\n",
       "       '배출가스인증번호', '등급', '차명', '차종분류', '차종유형', '자동차형식', '제작사명', '연료', '엔진형식',\n",
       "       '총중량', '적재중량', '엔진출력', '배기량', '법정동코드', '시도명', '시군구명', '소유자구분', '말소여부',\n",
       "       '일치유무', '배인번호_수정', '등급_수정', 'DPF유무_수정', 'Grade'],\n",
       "      dtype='object')"
      ]
     },
     "execution_count": 108,
     "metadata": {},
     "output_type": "execute_result"
    }
   ],
   "source": [
    "df1.columns"
   ]
  },
  {
   "cell_type": "code",
   "execution_count": 114,
   "metadata": {},
   "outputs": [],
   "source": [
    "hb = df1.copy()"
   ]
  },
  {
   "cell_type": "code",
   "execution_count": 115,
   "metadata": {},
   "outputs": [],
   "source": [
    "hb['배출가스인증번호'] = hb['배출가스인증번호'].astype('str')\n",
    "hb['배인번호_수정'] = hb['배인번호_수정'].astype('str')"
   ]
  },
  {
   "cell_type": "code",
   "execution_count": 116,
   "metadata": {},
   "outputs": [
    {
     "data": {
      "text/plain": [
       "(2672, 32)"
      ]
     },
     "execution_count": 116,
     "metadata": {},
     "output_type": "execute_result"
    }
   ],
   "source": [
    "temp = hb.loc[hb['배인번호_수정'].str.contains('HB')].reset_index(drop=True)\n",
    "temp.shape"
   ]
  },
  {
   "attachments": {},
   "cell_type": "markdown",
   "metadata": {},
   "source": [
    "## [출력] 샘플"
   ]
  },
  {
   "cell_type": "code",
   "execution_count": 117,
   "metadata": {},
   "outputs": [],
   "source": [
    "# about 1.5s\n",
    "temp.to_excel(os.path.join(raw_fold, '샘플_배인번호_수정에_HB포함.xlsx'), index=False)"
   ]
  },
  {
   "attachments": {},
   "cell_type": "markdown",
   "metadata": {},
   "source": [
    "# 코드 마지막"
   ]
  }
 ],
 "metadata": {
  "kernelspec": {
   "display_name": "base",
   "language": "python",
   "name": "python3"
  },
  "language_info": {
   "codemirror_mode": {
    "name": "ipython",
    "version": 3
   },
   "file_extension": ".py",
   "mimetype": "text/x-python",
   "name": "python",
   "nbconvert_exporter": "python",
   "pygments_lexer": "ipython3",
   "version": "3.9.13"
  },
  "orig_nbformat": 4,
  "vscode": {
   "interpreter": {
    "hash": "ad2bdc8ecc057115af97d19610ffacc2b4e99fae6737bb82f5d7fb13d2f2c186"
   }
  }
 },
 "nbformat": 4,
 "nbformat_minor": 2
}
