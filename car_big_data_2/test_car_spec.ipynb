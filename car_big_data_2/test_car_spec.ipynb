{
 "cells": [
  {
   "cell_type": "markdown",
   "metadata": {},
   "source": [
    "# Library"
   ]
  },
  {
   "cell_type": "code",
   "execution_count": 24,
   "metadata": {},
   "outputs": [],
   "source": [
    "from tqdm import tqdm\n",
    "import numpy as np\n",
    "import re"
   ]
  },
  {
   "cell_type": "code",
   "execution_count": 3,
   "metadata": {},
   "outputs": [],
   "source": [
    "import pandas as pd\n",
    "import modin.pandas as mpd"
   ]
  },
  {
   "cell_type": "code",
   "execution_count": 4,
   "metadata": {},
   "outputs": [
    {
     "name": "stderr",
     "output_type": "stream",
     "text": [
      "2022-11-25 15:35:09,897\tINFO worker.py:1509 -- Started a local Ray instance. View the dashboard at \u001b[1m\u001b[32m127.0.0.1:8266 \u001b[39m\u001b[22m\n"
     ]
    },
    {
     "data": {
      "text/html": [
       "<div>\n",
       "    <div style=\"margin-left: 50px;display: flex;flex-direction: row;align-items: center\">\n",
       "        <h3 style=\"color: var(--jp-ui-font-color0)\">Ray</h3>\n",
       "        <svg version=\"1.1\" id=\"ray\" width=\"3em\" viewBox=\"0 0 144.5 144.6\" style=\"margin-left: 3em;margin-right: 3em\">\n",
       "            <g id=\"layer-1\">\n",
       "                <path fill=\"#00a2e9\" class=\"st0\" d=\"M97.3,77.2c-3.8-1.1-6.2,0.9-8.3,5.1c-3.5,6.8-9.9,9.9-17.4,9.6S58,88.1,54.8,81.2c-1.4-3-3-4-6.3-4.1\n",
       "                    c-5.6-0.1-9.9,0.1-13.1,6.4c-3.8,7.6-13.6,10.2-21.8,7.6C5.2,88.4-0.4,80.5,0,71.7c0.1-8.4,5.7-15.8,13.8-18.2\n",
       "                    c8.4-2.6,17.5,0.7,22.3,8c1.3,1.9,1.3,5.2,3.6,5.6c3.9,0.6,8,0.2,12,0.2c1.8,0,1.9-1.6,2.4-2.8c3.5-7.8,9.7-11.8,18-11.9\n",
       "                    c8.2-0.1,14.4,3.9,17.8,11.4c1.3,2.8,2.9,3.6,5.7,3.3c1-0.1,2,0.1,3,0c2.8-0.5,6.4,1.7,8.1-2.7s-2.3-5.5-4.1-7.5\n",
       "                    c-5.1-5.7-10.9-10.8-16.1-16.3C84,38,81.9,37.1,78,38.3C66.7,42,56.2,35.7,53,24.1C50.3,14,57.3,2.8,67.7,0.5\n",
       "                    C78.4-2,89,4.7,91.5,15.3c0.1,0.3,0.1,0.5,0.2,0.8c0.7,3.4,0.7,6.9-0.8,9.8c-1.7,3.2-0.8,5,1.5,7.2c6.7,6.5,13.3,13,19.8,19.7\n",
       "                    c1.8,1.8,3,2.1,5.5,1.2c9.1-3.4,17.9-0.6,23.4,7c4.8,6.9,4.6,16.1-0.4,22.9c-5.4,7.2-14.2,9.9-23.1,6.5c-2.3-0.9-3.5-0.6-5.1,1.1\n",
       "                    c-6.7,6.9-13.6,13.7-20.5,20.4c-1.8,1.8-2.5,3.2-1.4,5.9c3.5,8.7,0.3,18.6-7.7,23.6c-7.9,5-18.2,3.8-24.8-2.9\n",
       "                    c-6.4-6.4-7.4-16.2-2.5-24.3c4.9-7.8,14.5-11,23.1-7.8c3,1.1,4.7,0.5,6.9-1.7C91.7,98.4,98,92.3,104.2,86c1.6-1.6,4.1-2.7,2.6-6.2\n",
       "                    c-1.4-3.3-3.8-2.5-6.2-2.6C99.8,77.2,98.9,77.2,97.3,77.2z M72.1,29.7c5.5,0.1,9.9-4.3,10-9.8c0-0.1,0-0.2,0-0.3\n",
       "                    C81.8,14,77,9.8,71.5,10.2c-5,0.3-9,4.2-9.3,9.2c-0.2,5.5,4,10.1,9.5,10.3C71.8,29.7,72,29.7,72.1,29.7z M72.3,62.3\n",
       "                    c-5.4-0.1-9.9,4.2-10.1,9.7c0,0.2,0,0.3,0,0.5c0.2,5.4,4.5,9.7,9.9,10c5.1,0.1,9.9-4.7,10.1-9.8c0.2-5.5-4-10-9.5-10.3\n",
       "                    C72.6,62.3,72.4,62.3,72.3,62.3z M115,72.5c0.1,5.4,4.5,9.7,9.8,9.9c5.6-0.2,10-4.8,10-10.4c-0.2-5.4-4.6-9.7-10-9.7\n",
       "                    c-5.3-0.1-9.8,4.2-9.9,9.5C115,72.1,115,72.3,115,72.5z M19.5,62.3c-5.4,0.1-9.8,4.4-10,9.8c-0.1,5.1,5.2,10.4,10.2,10.3\n",
       "                    c5.6-0.2,10-4.9,9.8-10.5c-0.1-5.4-4.5-9.7-9.9-9.6C19.6,62.3,19.5,62.3,19.5,62.3z M71.8,134.6c5.9,0.2,10.3-3.9,10.4-9.6\n",
       "                    c0.5-5.5-3.6-10.4-9.1-10.8c-5.5-0.5-10.4,3.6-10.8,9.1c0,0.5,0,0.9,0,1.4c-0.2,5.3,4,9.8,9.3,10\n",
       "                    C71.6,134.6,71.7,134.6,71.8,134.6z\"/>\n",
       "            </g>\n",
       "        </svg>\n",
       "        <table>\n",
       "            <tr>\n",
       "                <td style=\"text-align: left\"><b>Python version:</b></td>\n",
       "                <td style=\"text-align: left\"><b>3.9.13</b></td>\n",
       "            </tr>\n",
       "            <tr>\n",
       "                <td style=\"text-align: left\"><b>Ray version:</b></td>\n",
       "                <td style=\"text-align: left\"><b> 2.0.1</b></td>\n",
       "            </tr>\n",
       "            <tr>\n",
       "    <td style=\"text-align: left\"><b>Dashboard:</b></td>\n",
       "    <td style=\"text-align: left\"><b><a href=\"http://127.0.0.1:8266\" target=\"_blank\">http://127.0.0.1:8266</a></b></td>\n",
       "</tr>\n",
       "\n",
       "        </table>\n",
       "    </div>\n",
       "</div>\n"
      ],
      "text/plain": [
       "RayContext(dashboard_url='127.0.0.1:8266', python_version='3.9.13', ray_version='2.0.1', ray_commit='03b6bc7b5a305877501110ec04710a9c57011479', address_info={'node_ip_address': '127.0.0.1', 'raylet_ip_address': '127.0.0.1', 'redis_address': None, 'object_store_address': 'tcp://127.0.0.1:65007', 'raylet_socket_name': 'tcp://127.0.0.1:65323', 'webui_url': '127.0.0.1:8266', 'session_dir': 'C:\\\\Users\\\\kbj\\\\AppData\\\\Local\\\\Temp\\\\ray\\\\session_2022-11-25_15-35-05_065752_15496', 'metrics_export_port': 64413, 'gcs_address': '127.0.0.1:65177', 'address': '127.0.0.1:65177', 'dashboard_agent_listen_port': 52365, 'node_id': 'e219b3f3705f097904bdc9809bb58470c633f19ad72e824db306f620'})"
      ]
     },
     "execution_count": 4,
     "metadata": {},
     "output_type": "execute_result"
    }
   ],
   "source": [
    "import ray\n",
    "ray.init(runtime_env={'env_vars': {'__MODIN_AUTOIMPORT_PANDAS__': '1'}})"
   ]
  },
  {
   "cell_type": "markdown",
   "metadata": {},
   "source": [
    "## data load"
   ]
  },
  {
   "cell_type": "code",
   "execution_count": 10,
   "metadata": {},
   "outputs": [
    {
     "data": {
      "text/html": [
       "<div>\n",
       "<style scoped>\n",
       "    .dataframe tbody tr th:only-of-type {\n",
       "        vertical-align: middle;\n",
       "    }\n",
       "\n",
       "    .dataframe tbody tr th {\n",
       "        vertical-align: top;\n",
       "    }\n",
       "\n",
       "    .dataframe thead th {\n",
       "        text-align: right;\n",
       "    }\n",
       "</style>\n",
       "<table border=\"1\" class=\"dataframe\">\n",
       "  <thead>\n",
       "    <tr style=\"text-align: right;\">\n",
       "      <th></th>\n",
       "      <th>차량관리번호</th>\n",
       "      <th>차량등록번호</th>\n",
       "      <th>본거지법정동코드</th>\n",
       "      <th>소유자구분</th>\n",
       "      <th>차종_등록정보</th>\n",
       "      <th>용도</th>\n",
       "      <th>차대번호</th>\n",
       "      <th>최초등록일자</th>\n",
       "      <th>차량연식</th>\n",
       "      <th>차량제작일자</th>\n",
       "      <th>...</th>\n",
       "      <th>배기량</th>\n",
       "      <th>승차인원</th>\n",
       "      <th>차량길이</th>\n",
       "      <th>차량너비</th>\n",
       "      <th>차량높이</th>\n",
       "      <th>원산지명</th>\n",
       "      <th>삭제YN</th>\n",
       "      <th>제원승인일자</th>\n",
       "      <th>구동형식</th>\n",
       "      <th>변속기종류</th>\n",
       "    </tr>\n",
       "  </thead>\n",
       "  <tbody>\n",
       "  </tbody>\n",
       "</table>\n",
       "<p>0 rows × 40 columns</p>\n",
       "</div>"
      ],
      "text/plain": [
       "Empty DataFrame\n",
       "Columns: [차량관리번호, 차량등록번호, 본거지법정동코드, 소유자구분, 차종_등록정보, 용도, 차대번호, 최초등록일자, 차량연식, 차량제작일자, 검사유효일, 제원관리번호, 배출가스인증번호, 배출가스등급, 저공해조치종류, 저공해조치구조변경YN, 차량말소YN, 취득일자, 취득금액, 차명, 차종_제원정보, 차종분류, 차종유형, 자동차형식, 제작사명, 연료, 엔진형식, 총중량, 적재중량, 엔진출력, 배기량, 승차인원, 차량길이, 차량너비, 차량높이, 원산지명, 삭제YN, 제원승인일자, 구동형식, 변속기종류]\n",
       "Index: []\n",
       "\n",
       "[0 rows x 40 columns]"
      ]
     },
     "execution_count": 10,
     "metadata": {},
     "output_type": "execute_result"
    }
   ],
   "source": [
    "col = pd.read_table('data/컬럼명.txt', sep=',')\n",
    "col"
   ]
  },
  {
   "cell_type": "code",
   "execution_count": 11,
   "metadata": {},
   "outputs": [
    {
     "data": {
      "text/plain": [
       "Index(['차량관리번호', '차량등록번호', '본거지법정동코드', '소유자구분', '차종_등록정보', '용도', '차대번호',\n",
       "       '최초등록일자', '차량연식', '차량제작일자', '검사유효일', '제원관리번호', '배출가스인증번호', '배출가스등급',\n",
       "       '저공해조치종류', '저공해조치구조변경YN', '차량말소YN', '취득일자', '취득금액', '차명', '차종_제원정보',\n",
       "       '차종분류', '차종유형', '자동차형식', '제작사명', '연료', '엔진형식', '총중량', '적재중량', '엔진출력',\n",
       "       '배기량', '승차인원', '차량길이', '차량너비', '차량높이', '원산지명', '삭제YN', '제원승인일자', '구동형식',\n",
       "       '변속기종류'],\n",
       "      dtype='object')"
      ]
     },
     "execution_count": 11,
     "metadata": {},
     "output_type": "execute_result"
    }
   ],
   "source": [
    "col.columns"
   ]
  },
  {
   "cell_type": "code",
   "execution_count": 20,
   "metadata": {},
   "outputs": [
    {
     "name": "stderr",
     "output_type": "stream",
     "text": [
      "DtypeWarning: Columns (14,17,29,37,38) have mixed types. Specify dtype option on import or set low_memory=False.\n"
     ]
    },
    {
     "name": "stdout",
     "output_type": "stream",
     "text": [
      "<class 'pandas.core.frame.DataFrame'>\n",
      "RangeIndex: 1528586 entries, 0 to 1528585\n",
      "Data columns (total 40 columns):\n",
      " #   Column       Non-Null Count    Dtype  \n",
      "---  ------       --------------    -----  \n",
      " 0   차량관리번호       1528586 non-null  object \n",
      " 1   차량등록번호       1528586 non-null  object \n",
      " 2   본거지법정동코드     1528586 non-null  int64  \n",
      " 3   소유자구분        1528586 non-null  object \n",
      " 4   차종_등록정보      1528584 non-null  object \n",
      " 5   용도           1528586 non-null  object \n",
      " 6   차대번호         1528586 non-null  object \n",
      " 7   최초등록일자       1528586 non-null  int64  \n",
      " 8   차량연식         1528586 non-null  int64  \n",
      " 9   차량제작일자       1358925 non-null  float64\n",
      " 10  검사유효일        1528574 non-null  float64\n",
      " 11  제원관리번호       1528586 non-null  object \n",
      " 12  배출가스인증번호     1405585 non-null  object \n",
      " 13  배출가스등급       1528586 non-null  int64  \n",
      " 14  저공해조치종류      195 non-null      object \n",
      " 15  저공해조치구조변경YN  1528586 non-null  object \n",
      " 16  차량말소YN       1528586 non-null  object \n",
      " 17  취득일자         1435514 non-null  object \n",
      " 18  취득금액         1453613 non-null  float64\n",
      " 19  차명           1528586 non-null  object \n",
      " 20  차종_제원정보      1528586 non-null  object \n",
      " 21  차종분류         1528586 non-null  object \n",
      " 22  차종유형         1528586 non-null  object \n",
      " 23  자동차형식        1528302 non-null  object \n",
      " 24  제작사명         1518694 non-null  object \n",
      " 25  연료           1528586 non-null  object \n",
      " 26  엔진형식         1526740 non-null  object \n",
      " 27  총중량          1528585 non-null  float64\n",
      " 28  적재중량         1528075 non-null  float64\n",
      " 29  엔진출력         1528227 non-null  object \n",
      " 30  배기량          1528582 non-null  float64\n",
      " 31  승차인원         1528586 non-null  int64  \n",
      " 32  차량길이         1528585 non-null  float64\n",
      " 33  차량너비         1528585 non-null  float64\n",
      " 34  차량높이         1528583 non-null  float64\n",
      " 35  원산지명         1509499 non-null  object \n",
      " 36  삭제YN         1528586 non-null  object \n",
      " 37  제원승인일자       1528155 non-null  object \n",
      " 38  구동형식         41 non-null       object \n",
      " 39  변속기종류        1528426 non-null  object \n",
      "dtypes: float64(9), int64(5), object(26)\n",
      "memory usage: 466.5+ MB\n"
     ]
    }
   ],
   "source": [
    "df = pd.read_table('data/220819_22.06월기준_4등급.txt', encoding='cp949', header=40, names=col.columns)\n",
    "df.info()"
   ]
  },
  {
   "cell_type": "code",
   "execution_count": 21,
   "metadata": {},
   "outputs": [
    {
     "data": {
      "text/html": [
       "<div>\n",
       "<style scoped>\n",
       "    .dataframe tbody tr th:only-of-type {\n",
       "        vertical-align: middle;\n",
       "    }\n",
       "\n",
       "    .dataframe tbody tr th {\n",
       "        vertical-align: top;\n",
       "    }\n",
       "\n",
       "    .dataframe thead th {\n",
       "        text-align: right;\n",
       "    }\n",
       "</style>\n",
       "<table border=\"1\" class=\"dataframe\">\n",
       "  <thead>\n",
       "    <tr style=\"text-align: right;\">\n",
       "      <th></th>\n",
       "      <th>차량관리번호</th>\n",
       "      <th>차량등록번호</th>\n",
       "      <th>본거지법정동코드</th>\n",
       "      <th>소유자구분</th>\n",
       "      <th>차종_등록정보</th>\n",
       "      <th>용도</th>\n",
       "      <th>차대번호</th>\n",
       "      <th>최초등록일자</th>\n",
       "      <th>차량연식</th>\n",
       "      <th>차량제작일자</th>\n",
       "      <th>...</th>\n",
       "      <th>배기량</th>\n",
       "      <th>승차인원</th>\n",
       "      <th>차량길이</th>\n",
       "      <th>차량너비</th>\n",
       "      <th>차량높이</th>\n",
       "      <th>원산지명</th>\n",
       "      <th>삭제YN</th>\n",
       "      <th>제원승인일자</th>\n",
       "      <th>구동형식</th>\n",
       "      <th>변속기종류</th>\n",
       "    </tr>\n",
       "  </thead>\n",
       "  <tbody>\n",
       "    <tr>\n",
       "      <th>0</th>\n",
       "      <td>KMFZCY7JBCU784032-01</td>\n",
       "      <td>97구4490</td>\n",
       "      <td>1144010700</td>\n",
       "      <td>법인</td>\n",
       "      <td>화물</td>\n",
       "      <td>자가용</td>\n",
       "      <td>KMFZCY7JBCU784032</td>\n",
       "      <td>20110817</td>\n",
       "      <td>2012</td>\n",
       "      <td>20110811.0</td>\n",
       "      <td>...</td>\n",
       "      <td>2497.0</td>\n",
       "      <td>6</td>\n",
       "      <td>5120.0</td>\n",
       "      <td>1740.0</td>\n",
       "      <td>1965.0</td>\n",
       "      <td>대한민국</td>\n",
       "      <td>N</td>\n",
       "      <td>20110524</td>\n",
       "      <td>NaN</td>\n",
       "      <td>자동</td>\n",
       "    </tr>\n",
       "    <tr>\n",
       "      <th>1</th>\n",
       "      <td>KMHJN81VP7U578447-01</td>\n",
       "      <td>11너2154</td>\n",
       "      <td>2650010100</td>\n",
       "      <td>주민</td>\n",
       "      <td>승용</td>\n",
       "      <td>자가용</td>\n",
       "      <td>KMHJN81VP7U578447</td>\n",
       "      <td>20070102</td>\n",
       "      <td>2007</td>\n",
       "      <td>20061104.0</td>\n",
       "      <td>...</td>\n",
       "      <td>1991.0</td>\n",
       "      <td>5</td>\n",
       "      <td>4325.0</td>\n",
       "      <td>1800.0</td>\n",
       "      <td>1680.0</td>\n",
       "      <td>대한민국</td>\n",
       "      <td>N</td>\n",
       "      <td>20060621</td>\n",
       "      <td>NaN</td>\n",
       "      <td>자동</td>\n",
       "    </tr>\n",
       "    <tr>\n",
       "      <th>2</th>\n",
       "      <td>KPACE4AB1AP070600-01</td>\n",
       "      <td>96어5714</td>\n",
       "      <td>4729025024</td>\n",
       "      <td>주민</td>\n",
       "      <td>화물</td>\n",
       "      <td>자가용</td>\n",
       "      <td>KPACE4AB1AP070600</td>\n",
       "      <td>20091221</td>\n",
       "      <td>2010</td>\n",
       "      <td>20091210.0</td>\n",
       "      <td>...</td>\n",
       "      <td>1998.0</td>\n",
       "      <td>5</td>\n",
       "      <td>4965.0</td>\n",
       "      <td>1900.0</td>\n",
       "      <td>1755.0</td>\n",
       "      <td>대한민국</td>\n",
       "      <td>N</td>\n",
       "      <td>20090513</td>\n",
       "      <td>NaN</td>\n",
       "      <td>자동</td>\n",
       "    </tr>\n",
       "    <tr>\n",
       "      <th>3</th>\n",
       "      <td>KMHNU81WP7U009391-01</td>\n",
       "      <td>11가1154</td>\n",
       "      <td>4117110100</td>\n",
       "      <td>사업자</td>\n",
       "      <td>승용</td>\n",
       "      <td>자가용</td>\n",
       "      <td>KMHNU81WP7U009391</td>\n",
       "      <td>20070212</td>\n",
       "      <td>2007</td>\n",
       "      <td>20070207.0</td>\n",
       "      <td>...</td>\n",
       "      <td>2959.0</td>\n",
       "      <td>7</td>\n",
       "      <td>4840.0</td>\n",
       "      <td>1970.0</td>\n",
       "      <td>1805.0</td>\n",
       "      <td>대한민국</td>\n",
       "      <td>N</td>\n",
       "      <td>20060821</td>\n",
       "      <td>NaN</td>\n",
       "      <td>자동</td>\n",
       "    </tr>\n",
       "    <tr>\n",
       "      <th>4</th>\n",
       "      <td>KMHDT41TP9U638425-01</td>\n",
       "      <td>22보7099</td>\n",
       "      <td>4711331026</td>\n",
       "      <td>주민</td>\n",
       "      <td>승용</td>\n",
       "      <td>자가용</td>\n",
       "      <td>KMHDT41TP9U638425</td>\n",
       "      <td>20081128</td>\n",
       "      <td>2009</td>\n",
       "      <td>20081123.0</td>\n",
       "      <td>...</td>\n",
       "      <td>1582.0</td>\n",
       "      <td>5</td>\n",
       "      <td>4505.0</td>\n",
       "      <td>1775.0</td>\n",
       "      <td>1480.0</td>\n",
       "      <td>대한민국</td>\n",
       "      <td>N</td>\n",
       "      <td>20080729</td>\n",
       "      <td>NaN</td>\n",
       "      <td>수동</td>\n",
       "    </tr>\n",
       "  </tbody>\n",
       "</table>\n",
       "<p>5 rows × 40 columns</p>\n",
       "</div>"
      ],
      "text/plain": [
       "                 차량관리번호   차량등록번호    본거지법정동코드 소유자구분 차종_등록정보   용도  \\\n",
       "0  KMFZCY7JBCU784032-01  97구4490  1144010700    법인      화물  자가용   \n",
       "1  KMHJN81VP7U578447-01  11너2154  2650010100    주민      승용  자가용   \n",
       "2  KPACE4AB1AP070600-01  96어5714  4729025024    주민      화물  자가용   \n",
       "3  KMHNU81WP7U009391-01  11가1154  4117110100   사업자      승용  자가용   \n",
       "4  KMHDT41TP9U638425-01  22보7099  4711331026    주민      승용  자가용   \n",
       "\n",
       "                차대번호    최초등록일자  차량연식      차량제작일자  ...     배기량 승차인원    차량길이  \\\n",
       "0  KMFZCY7JBCU784032  20110817  2012  20110811.0  ...  2497.0    6  5120.0   \n",
       "1  KMHJN81VP7U578447  20070102  2007  20061104.0  ...  1991.0    5  4325.0   \n",
       "2  KPACE4AB1AP070600  20091221  2010  20091210.0  ...  1998.0    5  4965.0   \n",
       "3  KMHNU81WP7U009391  20070212  2007  20070207.0  ...  2959.0    7  4840.0   \n",
       "4  KMHDT41TP9U638425  20081128  2009  20081123.0  ...  1582.0    5  4505.0   \n",
       "\n",
       "     차량너비    차량높이  원산지명 삭제YN    제원승인일자  구동형식 변속기종류  \n",
       "0  1740.0  1965.0  대한민국    N  20110524   NaN    자동  \n",
       "1  1800.0  1680.0  대한민국    N  20060621   NaN    자동  \n",
       "2  1900.0  1755.0  대한민국    N  20090513   NaN    자동  \n",
       "3  1970.0  1805.0  대한민국    N  20060821   NaN    자동  \n",
       "4  1775.0  1480.0  대한민국    N  20080729   NaN    수동  \n",
       "\n",
       "[5 rows x 40 columns]"
      ]
     },
     "execution_count": 21,
     "metadata": {},
     "output_type": "execute_result"
    }
   ],
   "source": [
    "df.head()"
   ]
  },
  {
   "cell_type": "markdown",
   "metadata": {},
   "source": [
    "### [e]차량관리번호\n",
    "- 오류(영문과 숫자가 아닌 값) : 7038개"
   ]
  },
  {
   "cell_type": "code",
   "execution_count": 23,
   "metadata": {},
   "outputs": [
    {
     "data": {
      "text/plain": [
       "KMFZCY7JBCU784032-01    1\n",
       "KMHSH81VP9U467470-01    1\n",
       "KNAGA2263NA273801-01    1\n",
       "KNCSJX74BBK577862-01    1\n",
       "KNADG414AAS597155-01    1\n",
       "                       ..\n",
       "KNAFA2223PA131127-01    1\n",
       "KPACA4AB1BP099521-01    1\n",
       "KNCSJZ74BBK571321-01    1\n",
       "KNAGA2223MA251640-01    1\n",
       "KNME5C2MM8P008790-01    1\n",
       "Name: 차량관리번호, Length: 1528586, dtype: int64"
      ]
     },
     "execution_count": 23,
     "metadata": {},
     "output_type": "execute_result"
    }
   ],
   "source": [
    "df.iloc[:, 0].value_counts()"
   ]
  },
  {
   "cell_type": "code",
   "execution_count": 38,
   "metadata": {},
   "outputs": [
    {
     "name": "stderr",
     "output_type": "stream",
     "text": [
      "1528586it [00:01, 1026573.24it/s]\n"
     ]
    },
    {
     "data": {
      "text/plain": [
       "7038"
      ]
     },
     "execution_count": 38,
     "metadata": {},
     "output_type": "execute_result"
    }
   ],
   "source": [
    "count = 0\n",
    "p0 = re.compile('\\w+[-]\\d+')\n",
    "idx0 = []\n",
    "for i, one in tqdm(enumerate(df.iloc[:, 0].to_numpy())):\n",
    "    if not p0.search(one):\n",
    "        idx0.append(i)\n",
    "        count += 1\n",
    "count"
   ]
  },
  {
   "cell_type": "code",
   "execution_count": 39,
   "metadata": {},
   "outputs": [
    {
     "data": {
      "text/plain": [
       "[396, 586, 700, 821, 1227]"
      ]
     },
     "execution_count": 39,
     "metadata": {},
     "output_type": "execute_result"
    }
   ],
   "source": [
    "idx1[:5]"
   ]
  },
  {
   "cell_type": "code",
   "execution_count": 40,
   "metadata": {},
   "outputs": [
    {
     "data": {
      "text/html": [
       "<div>\n",
       "<style scoped>\n",
       "    .dataframe tbody tr th:only-of-type {\n",
       "        vertical-align: middle;\n",
       "    }\n",
       "\n",
       "    .dataframe tbody tr th {\n",
       "        vertical-align: top;\n",
       "    }\n",
       "\n",
       "    .dataframe thead th {\n",
       "        text-align: right;\n",
       "    }\n",
       "</style>\n",
       "<table border=\"1\" class=\"dataframe\">\n",
       "  <thead>\n",
       "    <tr style=\"text-align: right;\">\n",
       "      <th></th>\n",
       "      <th>차량관리번호</th>\n",
       "      <th>차량등록번호</th>\n",
       "    </tr>\n",
       "  </thead>\n",
       "  <tbody>\n",
       "    <tr>\n",
       "      <th>396</th>\n",
       "      <td>1199서울4브2371</td>\n",
       "      <td>서울4브2371</td>\n",
       "    </tr>\n",
       "    <tr>\n",
       "      <th>586</th>\n",
       "      <td>4599전북1우1923</td>\n",
       "      <td>전북1우1923</td>\n",
       "    </tr>\n",
       "    <tr>\n",
       "      <th>700</th>\n",
       "      <td>1199서울1즈5001</td>\n",
       "      <td>서울1즈5001</td>\n",
       "    </tr>\n",
       "    <tr>\n",
       "      <th>821</th>\n",
       "      <td>2799대구4수5818</td>\n",
       "      <td>대구4수5818</td>\n",
       "    </tr>\n",
       "    <tr>\n",
       "      <th>1227</th>\n",
       "      <td>4199경기59너9481</td>\n",
       "      <td>경기59너9481</td>\n",
       "    </tr>\n",
       "    <tr>\n",
       "      <th>...</th>\n",
       "      <td>...</td>\n",
       "      <td>...</td>\n",
       "    </tr>\n",
       "    <tr>\n",
       "      <th>1527680</th>\n",
       "      <td>1199서울52마5593</td>\n",
       "      <td>서울52마5593</td>\n",
       "    </tr>\n",
       "    <tr>\n",
       "      <th>1527890</th>\n",
       "      <td>4199경기3노8469</td>\n",
       "      <td>경기3노8469</td>\n",
       "    </tr>\n",
       "    <tr>\n",
       "      <th>1528062</th>\n",
       "      <td>3099대전1므5676</td>\n",
       "      <td>대전1므5676</td>\n",
       "    </tr>\n",
       "    <tr>\n",
       "      <th>1528409</th>\n",
       "      <td>1199서울2두4957</td>\n",
       "      <td>서울2두4957</td>\n",
       "    </tr>\n",
       "    <tr>\n",
       "      <th>1528555</th>\n",
       "      <td>4499충남1고3267</td>\n",
       "      <td>충남1고3267</td>\n",
       "    </tr>\n",
       "  </tbody>\n",
       "</table>\n",
       "<p>7038 rows × 2 columns</p>\n",
       "</div>"
      ],
      "text/plain": [
       "                차량관리번호     차량등록번호\n",
       "396       1199서울4브2371   서울4브2371\n",
       "586       4599전북1우1923   전북1우1923\n",
       "700       1199서울1즈5001   서울1즈5001\n",
       "821       2799대구4수5818   대구4수5818\n",
       "1227     4199경기59너9481  경기59너9481\n",
       "...                ...        ...\n",
       "1527680  1199서울52마5593  서울52마5593\n",
       "1527890   4199경기3노8469   경기3노8469\n",
       "1528062   3099대전1므5676   대전1므5676\n",
       "1528409   1199서울2두4957   서울2두4957\n",
       "1528555   4499충남1고3267   충남1고3267\n",
       "\n",
       "[7038 rows x 2 columns]"
      ]
     },
     "execution_count": 40,
     "metadata": {},
     "output_type": "execute_result"
    }
   ],
   "source": [
    "df[['차량관리번호', '차량등록번호']].reindex(idx0)"
   ]
  },
  {
   "cell_type": "markdown",
   "metadata": {},
   "source": [
    "### [e]차량등록번호\n",
    "- 오류\n",
    "    - [한글][숫자][한글][숫자] 형식에 맞지 않는 값 : 1,211,007개\n",
    "    - [숫자][한글][숫자] 형식에 맞지 않는 값 : 0개"
   ]
  },
  {
   "cell_type": "code",
   "execution_count": 41,
   "metadata": {},
   "outputs": [
    {
     "data": {
      "text/plain": [
       "97구4490      1\n",
       "27나1278      1\n",
       "인천1더9940     1\n",
       "83두1780      1\n",
       "12소2340      1\n",
       "            ..\n",
       "서울1러2561     1\n",
       "95마1880      1\n",
       "87마2994      1\n",
       "경기45마7935    1\n",
       "55고3109      1\n",
       "Name: 차량등록번호, Length: 1528586, dtype: int64"
      ]
     },
     "execution_count": 41,
     "metadata": {},
     "output_type": "execute_result"
    }
   ],
   "source": [
    "df.iloc[:, 1].value_counts()"
   ]
  },
  {
   "cell_type": "code",
   "execution_count": 42,
   "metadata": {},
   "outputs": [
    {
     "name": "stderr",
     "output_type": "stream",
     "text": [
      "1528586it [00:01, 1048910.52it/s]\n"
     ]
    },
    {
     "data": {
      "text/plain": [
       "0"
      ]
     },
     "execution_count": 42,
     "metadata": {},
     "output_type": "execute_result"
    }
   ],
   "source": [
    "count = 0\n",
    "p1 = re.compile('\\d+[가-힣]+')\n",
    "idx1 = []\n",
    "for i, one in tqdm(enumerate(df.iloc[:, 1].to_numpy())):\n",
    "    if not p1.search(one):\n",
    "        idx1.append(i)\n",
    "        count += 1\n",
    "count"
   ]
  },
  {
   "cell_type": "code",
   "execution_count": 43,
   "metadata": {},
   "outputs": [
    {
     "name": "stderr",
     "output_type": "stream",
     "text": [
      "1528586it [00:01, 822960.39it/s]\n"
     ]
    },
    {
     "data": {
      "text/plain": [
       "1211007"
      ]
     },
     "execution_count": 43,
     "metadata": {},
     "output_type": "execute_result"
    }
   ],
   "source": [
    "count = 0\n",
    "p11 = re.compile('[가-힣]+\\d+[가-힣]+\\d+')\n",
    "idx11 = []\n",
    "for i, one in tqdm(enumerate(df.iloc[:, 1].to_numpy())):\n",
    "    if not p11.search(one):\n",
    "        idx11.append(i)\n",
    "        count += 1\n",
    "count"
   ]
  },
  {
   "cell_type": "code",
   "execution_count": 44,
   "metadata": {},
   "outputs": [
    {
     "name": "stderr",
     "output_type": "stream",
     "text": [
      "1528586it [00:01, 1077454.89it/s]\n"
     ]
    },
    {
     "data": {
      "text/plain": [
       "0"
      ]
     },
     "execution_count": 44,
     "metadata": {},
     "output_type": "execute_result"
    }
   ],
   "source": [
    "count = 0\n",
    "p12 = re.compile('\\d+[가-힣]+\\d+')\n",
    "idx12 = []\n",
    "for i, one in tqdm(enumerate(df.iloc[:, 1].to_numpy())):\n",
    "    if not p12.search(one):\n",
    "        idx12.append(i)\n",
    "        count += 1\n",
    "count"
   ]
  },
  {
   "cell_type": "markdown",
   "metadata": {},
   "source": [
    "### 본거지법정동코드\n",
    "- 오류\n",
    "    - 숫자가 아닌 값 : 0개\n",
    "    - 길이가 10이 아닌 값 : 0개"
   ]
  },
  {
   "cell_type": "code",
   "execution_count": 37,
   "metadata": {},
   "outputs": [
    {
     "data": {
      "text/plain": [
       "4139013200    5442\n",
       "1150010300    4246\n",
       "1162010200    3960\n",
       "2817710500    3936\n",
       "1135010500    3513\n",
       "              ... \n",
       "4479039025       1\n",
       "4575039000       1\n",
       "4119710400       1\n",
       "4163055000       1\n",
       "4371025030       1\n",
       "Name: 본거지법정동코드, Length: 20119, dtype: int64"
      ]
     },
     "execution_count": 37,
     "metadata": {},
     "output_type": "execute_result"
    }
   ],
   "source": [
    "df.iloc[:, 2].value_counts()"
   ]
  },
  {
   "cell_type": "code",
   "execution_count": 46,
   "metadata": {},
   "outputs": [
    {
     "name": "stderr",
     "output_type": "stream",
     "text": [
      "1528586it [00:02, 612922.49it/s]\n"
     ]
    },
    {
     "data": {
      "text/plain": [
       "0"
      ]
     },
     "execution_count": 46,
     "metadata": {},
     "output_type": "execute_result"
    }
   ],
   "source": [
    "count = 0\n",
    "p2 = re.compile('\\d+')\n",
    "idx2 = []\n",
    "for i, one in tqdm(enumerate(df.iloc[:, 2].to_numpy())):\n",
    "    if not p2.search(str(one)):\n",
    "        idx2.append(i)\n",
    "        count += 1\n",
    "count"
   ]
  },
  {
   "cell_type": "code",
   "execution_count": 67,
   "metadata": {},
   "outputs": [
    {
     "name": "stderr",
     "output_type": "stream",
     "text": [
      "1528586it [00:01, 816483.62it/s]\n"
     ]
    },
    {
     "data": {
      "text/plain": [
       "0"
      ]
     },
     "execution_count": 67,
     "metadata": {},
     "output_type": "execute_result"
    }
   ],
   "source": [
    "count = 0\n",
    "idx21 = []\n",
    "for i, one in tqdm(enumerate(df.iloc[:, 2].to_numpy())):\n",
    "    if len(str(one)) != 10:\n",
    "        idx21.append(i)\n",
    "        count += 1\n",
    "count"
   ]
  },
  {
   "cell_type": "markdown",
   "metadata": {},
   "source": [
    "### 소유자구분\n",
    "- 오류 : 0개"
   ]
  },
  {
   "cell_type": "code",
   "execution_count": 47,
   "metadata": {},
   "outputs": [
    {
     "data": {
      "text/plain": [
       "주민     1320642\n",
       "법인      139402\n",
       "사업자      42860\n",
       "외국인      21568\n",
       "기타        4114\n",
       "Name: 소유자구분, dtype: int64"
      ]
     },
     "execution_count": 47,
     "metadata": {},
     "output_type": "execute_result"
    }
   ],
   "source": [
    "df.iloc[:, 3].value_counts()"
   ]
  },
  {
   "cell_type": "markdown",
   "metadata": {},
   "source": [
    "### 차종_등록정보"
   ]
  },
  {
   "cell_type": "code",
   "execution_count": 48,
   "metadata": {},
   "outputs": [
    {
     "data": {
      "text/plain": [
       "승용    850752\n",
       "화물    520825\n",
       "승합    148852\n",
       "특수      8155\n",
       "Name: 차종_등록정보, dtype: int64"
      ]
     },
     "execution_count": 48,
     "metadata": {},
     "output_type": "execute_result"
    }
   ],
   "source": [
    "df.iloc[:, 4].value_counts()"
   ]
  },
  {
   "cell_type": "markdown",
   "metadata": {},
   "source": [
    "### 용도"
   ]
  },
  {
   "cell_type": "code",
   "execution_count": 49,
   "metadata": {},
   "outputs": [
    {
     "data": {
      "text/plain": [
       "자가용    1481507\n",
       "영업용      41362\n",
       "관용        5717\n",
       "Name: 용도, dtype: int64"
      ]
     },
     "execution_count": 49,
     "metadata": {},
     "output_type": "execute_result"
    }
   ],
   "source": [
    "df.iloc[:, 5].value_counts()"
   ]
  },
  {
   "cell_type": "markdown",
   "metadata": {},
   "source": [
    "### [e]차대번호\n",
    "- 오류\n",
    "    - 1\\. 영문과 숫자가 아닌 값 : 0개\n",
    "    - 2\\. 길이가 17자리가 아닌 값 : 2,630개\n",
    "    - 3\\. 숫자만 있는 값 : 2,574개\n",
    "        - 위 두 조건사이에 겹치지 않는 값(조건2와 조건3의 XOR(대칭차집합)) : 58개\n",
    "        - 위 두 조건모두 만족하는 값(조건2와 조건3의 교집합) : 2,573개"
   ]
  },
  {
   "cell_type": "code",
   "execution_count": 57,
   "metadata": {},
   "outputs": [
    {
     "data": {
      "text/plain": [
       "17"
      ]
     },
     "execution_count": 57,
     "metadata": {},
     "output_type": "execute_result"
    }
   ],
   "source": [
    "len('KMHCF21DPSU000012')"
   ]
  },
  {
   "cell_type": "code",
   "execution_count": 50,
   "metadata": {},
   "outputs": [
    {
     "data": {
      "text/plain": [
       "KMHCF21DPSU000012    5\n",
       "KLAVM69H1JB075787    2\n",
       "KMHMF21FPPU018261    2\n",
       "KMHVF21JPKU161128    2\n",
       "KLY7T51BBNC011472    2\n",
       "                    ..\n",
       "KMFZCZ7JABU656518    1\n",
       "KNAFA2223PA131127    1\n",
       "KPACA4AB1BP099521    1\n",
       "KNCSJZ74BBK571321    1\n",
       "KNME5C2MM8P008790    1\n",
       "Name: 차대번호, Length: 1528564, dtype: int64"
      ]
     },
     "execution_count": 50,
     "metadata": {},
     "output_type": "execute_result"
    }
   ],
   "source": [
    "df.iloc[:, 6].value_counts()"
   ]
  },
  {
   "cell_type": "code",
   "execution_count": 51,
   "metadata": {},
   "outputs": [
    {
     "name": "stderr",
     "output_type": "stream",
     "text": [
      "1528586it [00:01, 1034382.21it/s]\n"
     ]
    },
    {
     "data": {
      "text/plain": [
       "0"
      ]
     },
     "execution_count": 51,
     "metadata": {},
     "output_type": "execute_result"
    }
   ],
   "source": [
    "count = 0\n",
    "p6 = re.compile('\\w+')\n",
    "idx6 = []\n",
    "for i, one in tqdm(enumerate(df.iloc[:, 6].to_numpy())):\n",
    "    if not p6.search(one):\n",
    "        idx6.append(i)\n",
    "        count += 1\n",
    "count"
   ]
  },
  {
   "cell_type": "code",
   "execution_count": 58,
   "metadata": {},
   "outputs": [
    {
     "name": "stderr",
     "output_type": "stream",
     "text": [
      "1528586it [00:00, 1966905.41it/s]\n"
     ]
    },
    {
     "data": {
      "text/plain": [
       "2630"
      ]
     },
     "execution_count": 58,
     "metadata": {},
     "output_type": "execute_result"
    }
   ],
   "source": [
    "count = 0\n",
    "idx61 = []\n",
    "for i, one in tqdm(enumerate(df.iloc[:, 6].to_numpy())):\n",
    "    if len(one) != 17:\n",
    "        idx61.append(i)\n",
    "        count += 1\n",
    "count"
   ]
  },
  {
   "cell_type": "code",
   "execution_count": 59,
   "metadata": {},
   "outputs": [
    {
     "name": "stderr",
     "output_type": "stream",
     "text": [
      "FutureWarning: The behavior of `series[i:j]` with an integer-dtype index is deprecated. In a future version, this will be treated as *label-based* indexing, consistent with e.g. `series[i]` lookups. To retain the old behavior, use `series.iloc[i:j]`. To get the future behavior, use `series.loc[i:j]`.\n"
     ]
    },
    {
     "data": {
      "text/plain": [
       "429       119811326107\n",
       "692     27931130152305\n",
       "1320      119111327184\n",
       "1475      119811229792\n",
       "1544      219211301625\n",
       "Name: 차대번호, dtype: object"
      ]
     },
     "execution_count": 59,
     "metadata": {},
     "output_type": "execute_result"
    }
   ],
   "source": [
    "df.iloc[:, 6].reindex(idx61)[:5]"
   ]
  },
  {
   "cell_type": "code",
   "execution_count": 60,
   "metadata": {},
   "outputs": [
    {
     "name": "stderr",
     "output_type": "stream",
     "text": [
      "1528586it [00:01, 1181152.42it/s]\n"
     ]
    },
    {
     "data": {
      "text/plain": [
       "2574"
      ]
     },
     "execution_count": 60,
     "metadata": {},
     "output_type": "execute_result"
    }
   ],
   "source": [
    "count = 0\n",
    "p62 = re.compile('[a-zA-Z]+')\n",
    "idx62 = []\n",
    "for i, one in tqdm(enumerate(df.iloc[:, 6].to_numpy())):\n",
    "    if not p62.search(one):\n",
    "        idx62.append(i)\n",
    "        count += 1\n",
    "count"
   ]
  },
  {
   "cell_type": "code",
   "execution_count": 61,
   "metadata": {},
   "outputs": [
    {
     "name": "stderr",
     "output_type": "stream",
     "text": [
      "FutureWarning: The behavior of `series[i:j]` with an integer-dtype index is deprecated. In a future version, this will be treated as *label-based* indexing, consistent with e.g. `series[i]` lookups. To retain the old behavior, use `series.iloc[i:j]`. To get the future behavior, use `series.loc[i:j]`.\n"
     ]
    },
    {
     "data": {
      "text/plain": [
       "429       119811326107\n",
       "692     27931130152305\n",
       "1320      119111327184\n",
       "1475      119811229792\n",
       "1544      219211301625\n",
       "Name: 차대번호, dtype: object"
      ]
     },
     "execution_count": 61,
     "metadata": {},
     "output_type": "execute_result"
    }
   ],
   "source": [
    "df.iloc[:, 6].reindex(idx62)[:5]"
   ]
  },
  {
   "cell_type": "code",
   "execution_count": 66,
   "metadata": {},
   "outputs": [
    {
     "data": {
      "text/plain": [
       "2573"
      ]
     },
     "execution_count": 66,
     "metadata": {},
     "output_type": "execute_result"
    }
   ],
   "source": [
    "inter_idx61_62 = list(set(idx61) & set(idx62))\n",
    "len(inter_idx61_62)"
   ]
  },
  {
   "cell_type": "code",
   "execution_count": 63,
   "metadata": {},
   "outputs": [
    {
     "data": {
      "text/plain": [
       "58"
      ]
     },
     "execution_count": 63,
     "metadata": {},
     "output_type": "execute_result"
    }
   ],
   "source": [
    "diff_idx61_62 = list(set(idx61) ^ set(idx62))\n",
    "len(diff_idx61_62)"
   ]
  },
  {
   "cell_type": "code",
   "execution_count": 64,
   "metadata": {},
   "outputs": [
    {
     "name": "stderr",
     "output_type": "stream",
     "text": [
      "FutureWarning: The behavior of `series[i:j]` with an integer-dtype index is deprecated. In a future version, this will be treated as *label-based* indexing, consistent with e.g. `series[i]` lookups. To retain the old behavior, use `series.iloc[i:j]`. To get the future behavior, use `series.loc[i:j]`.\n"
     ]
    },
    {
     "data": {
      "text/plain": [
       "278554     KN3HN8D3XK094667\n",
       "1343562    KNAGA2222HS01099\n",
       "360700     KLATF08G1JB08216\n",
       "303394           EU13315046\n",
       "1499532    KMHVF31JPKU06672\n",
       "Name: 차대번호, dtype: object"
      ]
     },
     "execution_count": 64,
     "metadata": {},
     "output_type": "execute_result"
    }
   ],
   "source": [
    "df.iloc[:, 6].reindex(diff_idx61_62)[:5]"
   ]
  },
  {
   "cell_type": "code",
   "execution_count": 65,
   "metadata": {},
   "outputs": [
    {
     "name": "stderr",
     "output_type": "stream",
     "text": [
      "FutureWarning: The behavior of `series[i:j]` with an integer-dtype index is deprecated. In a future version, this will be treated as *label-based* indexing, consistent with e.g. `series[i]` lookups. To retain the old behavior, use `series.iloc[i:j]`. To get the future behavior, use `series.loc[i:j]`.\n"
     ]
    },
    {
     "data": {
      "text/plain": [
       "1121413    KMBF32S4LU186819\n",
       "498940          018013212A7\n",
       "1228141     KNAGB22KS203406\n",
       "1359226    KNME5C2MM8P00423\n",
       "196218     KNAD2322JS055503\n",
       "Name: 차대번호, dtype: object"
      ]
     },
     "execution_count": 65,
     "metadata": {},
     "output_type": "execute_result"
    }
   ],
   "source": [
    "df.iloc[:, 6].reindex(diff_idx61_62)[-5:]"
   ]
  },
  {
   "cell_type": "markdown",
   "metadata": {},
   "source": [
    "### [e]최초등록일자\n",
    "- 오류\n",
    "    - 숫자가 아닌 값 : 0개\n",
    "    - 길이가 8이 아닌 값 : 2개"
   ]
  },
  {
   "cell_type": "code",
   "execution_count": 52,
   "metadata": {},
   "outputs": [
    {
     "data": {
      "text/plain": [
       "20080102    4651\n",
       "20110103    4609\n",
       "20090102    4263\n",
       "20080103    2707\n",
       "20100104    2634\n",
       "            ... \n",
       "20160127       1\n",
       "20130617       1\n",
       "20040716       1\n",
       "20130712       1\n",
       "20220614       1\n",
       "Name: 최초등록일자, Length: 8446, dtype: int64"
      ]
     },
     "execution_count": 52,
     "metadata": {},
     "output_type": "execute_result"
    }
   ],
   "source": [
    "df.iloc[:, 7].value_counts()"
   ]
  },
  {
   "cell_type": "code",
   "execution_count": 54,
   "metadata": {},
   "outputs": [
    {
     "name": "stderr",
     "output_type": "stream",
     "text": [
      "1528586it [00:02, 623283.23it/s]\n"
     ]
    },
    {
     "data": {
      "text/plain": [
       "0"
      ]
     },
     "execution_count": 54,
     "metadata": {},
     "output_type": "execute_result"
    }
   ],
   "source": [
    "count = 0\n",
    "p7 = re.compile('\\d+')\n",
    "idx7 = []\n",
    "for i, one in tqdm(enumerate(df.iloc[:, 7].to_numpy())):\n",
    "    if not p7.search(str(one)):\n",
    "        idx7.append(i)\n",
    "        count += 1\n",
    "count"
   ]
  },
  {
   "cell_type": "code",
   "execution_count": 55,
   "metadata": {},
   "outputs": [
    {
     "name": "stderr",
     "output_type": "stream",
     "text": [
      "1528586it [00:01, 788935.48it/s]\n"
     ]
    },
    {
     "data": {
      "text/plain": [
       "2"
      ]
     },
     "execution_count": 55,
     "metadata": {},
     "output_type": "execute_result"
    }
   ],
   "source": [
    "count = 0\n",
    "idx71 = []\n",
    "for i, one in tqdm(enumerate(df.iloc[:, 7].to_numpy())):\n",
    "    if len(str(one)) != 8:\n",
    "        idx71.append(i)\n",
    "        count += 1\n",
    "count"
   ]
  },
  {
   "cell_type": "code",
   "execution_count": 56,
   "metadata": {},
   "outputs": [
    {
     "data": {
      "text/plain": [
       "110669       1993\n",
       "489146    9960617\n",
       "Name: 최초등록일자, dtype: int64"
      ]
     },
     "execution_count": 56,
     "metadata": {},
     "output_type": "execute_result"
    }
   ],
   "source": [
    "df.iloc[:, 7].reindex(idx71)"
   ]
  },
  {
   "cell_type": "markdown",
   "metadata": {},
   "source": [
    "### 차량연식\n",
    "- 오류\n",
    "    - 길이 4 아닌 값 : 0개\n",
    "    - 숫자가 아닌 값 : 0개"
   ]
  },
  {
   "cell_type": "code",
   "execution_count": 68,
   "metadata": {},
   "outputs": [
    {
     "data": {
      "text/plain": [
       "2010    252711\n",
       "2011    237575\n",
       "2008    226868\n",
       "2009    213544\n",
       "2007    107029\n",
       "2012     94187\n",
       "1994     37783\n",
       "1996     36266\n",
       "1995     35395\n",
       "1993     34281\n",
       "2006     34010\n",
       "1992     33927\n",
       "1991     30328\n",
       "1997     29988\n",
       "1990     26704\n",
       "1989     20689\n",
       "1999     20030\n",
       "2000     13327\n",
       "1988     11854\n",
       "1998     10236\n",
       "2002      8971\n",
       "2001      7836\n",
       "1987      1278\n",
       "2005      1068\n",
       "2017       732\n",
       "2018       483\n",
       "2016       482\n",
       "2015       463\n",
       "2004       214\n",
       "2003       169\n",
       "2013        98\n",
       "2014        13\n",
       "2019        13\n",
       "1986        12\n",
       "1985         4\n",
       "2020         3\n",
       "1984         3\n",
       "1979         3\n",
       "1983         3\n",
       "1978         1\n",
       "1981         1\n",
       "1980         1\n",
       "1901         1\n",
       "1968         1\n",
       "1973         1\n",
       "Name: 차량연식, dtype: int64"
      ]
     },
     "execution_count": 68,
     "metadata": {},
     "output_type": "execute_result"
    }
   ],
   "source": [
    "df.iloc[:, 8].value_counts()"
   ]
  },
  {
   "cell_type": "code",
   "execution_count": 69,
   "metadata": {},
   "outputs": [
    {
     "name": "stderr",
     "output_type": "stream",
     "text": [
      "1528586it [00:01, 822583.55it/s]\n"
     ]
    },
    {
     "data": {
      "text/plain": [
       "0"
      ]
     },
     "execution_count": 69,
     "metadata": {},
     "output_type": "execute_result"
    }
   ],
   "source": [
    "count = 0\n",
    "idx8 = []\n",
    "for i, one in tqdm(enumerate(df.iloc[:, 8].to_numpy())):\n",
    "    if len(str(one)) != 4:\n",
    "        idx8.append(i)\n",
    "        count += 1\n",
    "count"
   ]
  },
  {
   "cell_type": "code",
   "execution_count": 70,
   "metadata": {},
   "outputs": [
    {
     "name": "stderr",
     "output_type": "stream",
     "text": [
      "1528586it [00:02, 627727.06it/s]\n"
     ]
    },
    {
     "data": {
      "text/plain": [
       "0"
      ]
     },
     "execution_count": 70,
     "metadata": {},
     "output_type": "execute_result"
    }
   ],
   "source": [
    "count = 0\n",
    "p81 = re.compile('\\d+')\n",
    "idx81 = []\n",
    "for i, one in tqdm(enumerate(df.iloc[:, 8].to_numpy())):\n",
    "    if not p81.search(str(one)):\n",
    "        idx81.append(i)\n",
    "        count += 1\n",
    "count"
   ]
  },
  {
   "cell_type": "markdown",
   "metadata": {},
   "source": [
    "### 차량제작일자\n",
    "- 오류\n",
    "    - 8자리 아닌 값 : 4개\n",
    "    - nan 값 : 169,661개\n",
    "    - 숫자가 아닌 값(nan값 제외) : 0개"
   ]
  },
  {
   "cell_type": "code",
   "execution_count": 77,
   "metadata": {},
   "outputs": [
    {
     "data": {
      "text/plain": [
       "20090629.0    1459\n",
       "20090612.0    1444\n",
       "20080219.0    1432\n",
       "20091201.0    1424\n",
       "20090702.0    1402\n",
       "              ... \n",
       "20140628.0       1\n",
       "20030407.0       1\n",
       "20060219.0       1\n",
       "20130128.0       1\n",
       "20190923.0       1\n",
       "Name: 차량제작일자, Length: 8299, dtype: int64"
      ]
     },
     "execution_count": 77,
     "metadata": {},
     "output_type": "execute_result"
    }
   ],
   "source": [
    "df.iloc[:, 9].value_counts()"
   ]
  },
  {
   "cell_type": "code",
   "execution_count": 78,
   "metadata": {},
   "outputs": [
    {
     "data": {
      "text/plain": [
       "0    20110811\n",
       "1    20061104\n",
       "2    20091210\n",
       "3    20070207\n",
       "4    20081123\n",
       "Name: 차량제작일자, dtype: int32"
      ]
     },
     "execution_count": 78,
     "metadata": {},
     "output_type": "execute_result"
    }
   ],
   "source": [
    "temp = df.iloc[:, 9].fillna(0).astype('int')\n",
    "temp[:5]"
   ]
  },
  {
   "cell_type": "code",
   "execution_count": 79,
   "metadata": {},
   "outputs": [
    {
     "name": "stderr",
     "output_type": "stream",
     "text": [
      "1528586it [00:01, 779094.54it/s]\n"
     ]
    },
    {
     "data": {
      "text/plain": [
       "169665"
      ]
     },
     "execution_count": 79,
     "metadata": {},
     "output_type": "execute_result"
    }
   ],
   "source": [
    "count = 0\n",
    "idx9 = []\n",
    "for i, one in tqdm(enumerate(temp.to_numpy())):\n",
    "    if len(str(one)) != 8:\n",
    "        idx9.append(i)\n",
    "        count += 1\n",
    "count"
   ]
  },
  {
   "cell_type": "code",
   "execution_count": 80,
   "metadata": {},
   "outputs": [
    {
     "name": "stderr",
     "output_type": "stream",
     "text": [
      "1528586it [00:00, 1530816.00it/s]\n"
     ]
    },
    {
     "data": {
      "text/plain": [
       "169661"
      ]
     },
     "execution_count": 80,
     "metadata": {},
     "output_type": "execute_result"
    }
   ],
   "source": [
    "count = 0\n",
    "idx91 = []\n",
    "for i, one in tqdm(enumerate(temp.to_numpy())):\n",
    "    if one == 0:\n",
    "        idx91.append(i)\n",
    "        count += 1\n",
    "count"
   ]
  },
  {
   "cell_type": "code",
   "execution_count": 81,
   "metadata": {},
   "outputs": [
    {
     "data": {
      "text/plain": [
       "4"
      ]
     },
     "execution_count": 81,
     "metadata": {},
     "output_type": "execute_result"
    }
   ],
   "source": [
    "len(list(set(idx9)^set(idx91)))"
   ]
  },
  {
   "cell_type": "code",
   "execution_count": 86,
   "metadata": {},
   "outputs": [
    {
     "name": "stderr",
     "output_type": "stream",
     "text": [
      "1528586it [00:02, 628080.16it/s]\n"
     ]
    },
    {
     "data": {
      "text/plain": [
       "0"
      ]
     },
     "execution_count": 86,
     "metadata": {},
     "output_type": "execute_result"
    }
   ],
   "source": [
    "count = 0\n",
    "p92 = re.compile('\\d+')\n",
    "idx92 = []\n",
    "for i, one in tqdm(enumerate(temp.to_numpy())):\n",
    "    if not p92.search(str(one)):\n",
    "        idx92.append(i)\n",
    "        count += 1\n",
    "count"
   ]
  },
  {
   "cell_type": "code",
   "execution_count": null,
   "metadata": {},
   "outputs": [],
   "source": []
  }
 ],
 "metadata": {
  "kernelspec": {
   "display_name": "Python 3.9.13 ('base')",
   "language": "python",
   "name": "python3"
  },
  "language_info": {
   "codemirror_mode": {
    "name": "ipython",
    "version": 3
   },
   "file_extension": ".py",
   "mimetype": "text/x-python",
   "name": "python",
   "nbconvert_exporter": "python",
   "pygments_lexer": "ipython3",
   "version": "3.9.13"
  },
  "orig_nbformat": 4,
  "vscode": {
   "interpreter": {
    "hash": "ad2bdc8ecc057115af97d19610ffacc2b4e99fae6737bb82f5d7fb13d2f2c186"
   }
  }
 },
 "nbformat": 4,
 "nbformat_minor": 2
}
