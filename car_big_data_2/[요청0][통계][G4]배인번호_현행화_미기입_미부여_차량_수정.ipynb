{
 "cells": [
  {
   "attachments": {},
   "cell_type": "markdown",
   "metadata": {},
   "source": [
    "# Library"
   ]
  },
  {
   "cell_type": "code",
   "execution_count": 1,
   "metadata": {},
   "outputs": [],
   "source": [
    "import pandas as pd\n",
    "import os\n",
    "from datetime import datetime\n",
    "import numpy as np\n",
    "from tqdm import tqdm\n",
    "from glob import glob"
   ]
  },
  {
   "attachments": {},
   "cell_type": "markdown",
   "metadata": {},
   "source": [
    "# fold path"
   ]
  },
  {
   "cell_type": "code",
   "execution_count": 159,
   "metadata": {},
   "outputs": [],
   "source": [
    "fold = 'D:/data/big2/BD1_4등급_데이터_점검1/emis'\n",
    "norm_fold = 'D:/data/big2/BD1_4등급_데이터_점검1/emis/norm'\n",
    "total_fold = 'D:/data/big2/BD1_4등급_데이터_점검1/emis/norm/total'\n",
    "error_fold = 'D:/data/big2/BD1_4등급_데이터_점검1/emis/error'\n",
    "total_error_fold = 'D:/data/big2/BD1_4등급_데이터_점검1/emis/error/total'\n",
    "weird_fold = 'D:/data/big2/BD1_4등급_데이터_점검1/emis/weird'\n",
    "nan_fold = 'D:/data/big2/BD1_4등급_데이터_점검1/emis/nan'\n",
    "nad_fold = 'D:/data/big2/BD1_4등급_데이터_점검1/emis/nan/nad'"
   ]
  },
  {
   "attachments": {},
   "cell_type": "markdown",
   "metadata": {},
   "source": [
    "# File Load\n",
    "- 정상 배인번호 파일\n",
    "- 비정상 배인번호 파일\n",
    "- 제작사 이상 파일"
   ]
  },
  {
   "attachments": {},
   "cell_type": "markdown",
   "metadata": {},
   "source": [
    "## 정상 배인번호 파일"
   ]
  },
  {
   "cell_type": "code",
   "execution_count": 162,
   "metadata": {},
   "outputs": [
    {
     "name": "stderr",
     "output_type": "stream",
     "text": [
      "100%|██████████| 134/134 [00:40<00:00,  3.34it/s]\n"
     ]
    }
   ],
   "source": [
    "# about 41s\n",
    "norm = pd.DataFrame()\n",
    "for addr in tqdm(glob(os.path.join(norm_fold, '*.csv'))):\n",
    "    temp = pd.read_csv(addr, encoding='cp949', low_memory=False)\n",
    "    norm = pd.concat([norm, temp], ignore_index=True)"
   ]
  },
  {
   "cell_type": "code",
   "execution_count": 4,
   "metadata": {},
   "outputs": [
    {
     "name": "stdout",
     "output_type": "stream",
     "text": [
      "<class 'pandas.core.frame.DataFrame'>\n",
      "RangeIndex: 1140505 entries, 0 to 1140504\n",
      "Data columns (total 69 columns):\n",
      " #   Column     Non-Null Count    Dtype  \n",
      "---  ------     --------------    -----  \n",
      " 0   차대번호       1140505 non-null  object \n",
      " 1   차량번호_x     1140505 non-null  object \n",
      " 2   제원관리번호     1140505 non-null  object \n",
      " 3   차종_원본      1140505 non-null  object \n",
      " 4   용도         1140505 non-null  object \n",
      " 5   최초등록일      1140505 non-null  int64  \n",
      " 6   연식         1140505 non-null  int64  \n",
      " 7   제작일자       1140504 non-null  float64\n",
      " 8   검사유효일      1140503 non-null  float64\n",
      " 9   배출가스인증번호   1140505 non-null  object \n",
      " 10  등급         1140505 non-null  int64  \n",
      " 11  차명_x       1140505 non-null  object \n",
      " 12  차종분류       1140505 non-null  object \n",
      " 13  차종유형       1140505 non-null  object \n",
      " 14  자동차형식      1140505 non-null  object \n",
      " 15  제작사명       1140505 non-null  object \n",
      " 16  연료         1140505 non-null  object \n",
      " 17  엔진형식_x     1140505 non-null  object \n",
      " 18  총중량        1140505 non-null  float64\n",
      " 19  적재중량       1140302 non-null  float64\n",
      " 20  엔진출력       1140504 non-null  float64\n",
      " 21  배기량        1140505 non-null  float64\n",
      " 22  법정동코드      1140505 non-null  int64  \n",
      " 23  시도명        1140505 non-null  object \n",
      " 24  시군구명       1140505 non-null  object \n",
      " 25  소유자구분      1140505 non-null  object \n",
      " 26  말소여부       1140505 non-null  object \n",
      " 27  일치유무       1140505 non-null  object \n",
      " 28  사용연료       1118618 non-null  object \n",
      " 29  주행거리       1118509 non-null  float64\n",
      " 30  차명_y       1118618 non-null  object \n",
      " 31  차량번호_y     1118618 non-null  object \n",
      " 32  차종         1118618 non-null  object \n",
      " 33  차량연식       1118618 non-null  float64\n",
      " 34  엔진형식_y     1118610 non-null  object \n",
      " 35  검사방법       1118618 non-null  object \n",
      " 36  검사일자       1118618 non-null  float64\n",
      " 37  검사종류       1118618 non-null  object \n",
      " 38  검사판정시각     1110009 non-null  object \n",
      " 39  검사판정       1118618 non-null  object \n",
      " 40  산소값        807935 non-null   float64\n",
      " 41  이산화탄소값     807935 non-null   float64\n",
      " 42  무부하매연판정1   1110005 non-null  object \n",
      " 43  무부하매연판정2   40959 non-null    object \n",
      " 44  무부하매연판정3   40068 non-null    object \n",
      " 45  무부하매연판정4   40066 non-null    object \n",
      " 46  무부하매연판정5   40066 non-null    object \n",
      " 47  무부하매연판정6   41 non-null       object \n",
      " 48  무부하매연허용치1  1110005 non-null  float64\n",
      " 49  무부하매연허용치2  327683 non-null   float64\n",
      " 50  무부하매연허용치3  327682 non-null   float64\n",
      " 51  무부하매연허용치4  327680 non-null   float64\n",
      " 52  무부하매연허용치5  327680 non-null   float64\n",
      " 53  무부하매연허용치6  298265 non-null   float64\n",
      " 54  무부하매연측정치1  1110009 non-null  float64\n",
      " 55  무부하매연측정치2  361021 non-null   float64\n",
      " 56  무부하매연측정치3  327684 non-null   float64\n",
      " 57  무부하매연측정치4  327682 non-null   float64\n",
      " 58  무부하매연측정치5  327682 non-null   float64\n",
      " 59  무부하매연측정치6  298265 non-null   float64\n",
      " 60  정기정밀       1118618 non-null  object \n",
      " 61  vin10      1140505 non-null  object \n",
      " 62  vin_year   1140502 non-null  float64\n",
      " 63  DPF유무      1140505 non-null  object \n",
      " 64  배인번호_수정    1140505 non-null  object \n",
      " 65  등급_수정      1140505 non-null  object \n",
      " 66  DPF유무_수정   1140316 non-null  object \n",
      " 67  확인유무       1140316 non-null  object \n",
      " 68  비고         0 non-null        float64\n",
      "dtypes: float64(25), int64(4), object(40)\n",
      "memory usage: 600.4+ MB\n"
     ]
    }
   ],
   "source": [
    "norm.info()"
   ]
  },
  {
   "attachments": {},
   "cell_type": "markdown",
   "metadata": {},
   "source": [
    "### [출력] 정상 병합 파일"
   ]
  },
  {
   "cell_type": "code",
   "execution_count": 158,
   "metadata": {},
   "outputs": [],
   "source": [
    "# about 33s\n",
    "norm.to_csv(os.path.join(total_fold, 'total_norm.csv'), encoding='cp949', index=False)"
   ]
  },
  {
   "attachments": {},
   "cell_type": "markdown",
   "metadata": {},
   "source": [
    "## 비정상 배인번호 파일"
   ]
  },
  {
   "cell_type": "code",
   "execution_count": 5,
   "metadata": {},
   "outputs": [
    {
     "name": "stderr",
     "output_type": "stream",
     "text": [
      "100%|██████████| 71/71 [00:00<00:00, 84.67it/s]\n"
     ]
    }
   ],
   "source": [
    "error = pd.DataFrame()\n",
    "for addr in tqdm(glob(os.path.join(error_fold, '*.csv'))):\n",
    "    temp = pd.read_csv(addr, encoding='cp949', low_memory=False)\n",
    "    error = pd.concat([error, temp], ignore_index=True)"
   ]
  },
  {
   "cell_type": "code",
   "execution_count": 6,
   "metadata": {},
   "outputs": [
    {
     "name": "stdout",
     "output_type": "stream",
     "text": [
      "<class 'pandas.core.frame.DataFrame'>\n",
      "RangeIndex: 1309 entries, 0 to 1308\n",
      "Data columns (total 69 columns):\n",
      " #   Column     Non-Null Count  Dtype  \n",
      "---  ------     --------------  -----  \n",
      " 0   차대번호       1309 non-null   object \n",
      " 1   차량번호_x     1309 non-null   object \n",
      " 2   제원관리번호     1309 non-null   object \n",
      " 3   차종_원본      1309 non-null   object \n",
      " 4   용도         1309 non-null   object \n",
      " 5   최초등록일      1309 non-null   int64  \n",
      " 6   연식         1309 non-null   int64  \n",
      " 7   제작일자       1309 non-null   float64\n",
      " 8   검사유효일      1309 non-null   float64\n",
      " 9   배출가스인증번호   1309 non-null   object \n",
      " 10  등급         1309 non-null   int64  \n",
      " 11  차명_x       1309 non-null   object \n",
      " 12  차종분류       1309 non-null   object \n",
      " 13  차종유형       1309 non-null   object \n",
      " 14  자동차형식      1309 non-null   object \n",
      " 15  제작사명       1304 non-null   object \n",
      " 16  연료         1309 non-null   object \n",
      " 17  엔진형식_x     1309 non-null   object \n",
      " 18  총중량        1309 non-null   float64\n",
      " 19  적재중량       1309 non-null   float64\n",
      " 20  엔진출력       1309 non-null   float64\n",
      " 21  배기량        1309 non-null   float64\n",
      " 22  법정동코드      1309 non-null   int64  \n",
      " 23  시도명        1309 non-null   object \n",
      " 24  시군구명       1309 non-null   object \n",
      " 25  소유자구분      1309 non-null   object \n",
      " 26  말소여부       1309 non-null   object \n",
      " 27  일치유무       1309 non-null   object \n",
      " 28  사용연료       1223 non-null   object \n",
      " 29  주행거리       1223 non-null   float64\n",
      " 30  차명_y       1223 non-null   object \n",
      " 31  차량번호_y     1223 non-null   object \n",
      " 32  차종         1223 non-null   object \n",
      " 33  차량연식       1223 non-null   float64\n",
      " 34  엔진형식_y     1223 non-null   object \n",
      " 35  검사방법       1223 non-null   object \n",
      " 36  검사일자       1223 non-null   float64\n",
      " 37  검사종류       1223 non-null   object \n",
      " 38  검사판정시각     1212 non-null   object \n",
      " 39  검사판정       1223 non-null   object \n",
      " 40  산소값        785 non-null    float64\n",
      " 41  이산화탄소값     785 non-null    float64\n",
      " 42  무부하매연판정1   1212 non-null   object \n",
      " 43  무부하매연판정2   685 non-null    object \n",
      " 44  무부하매연판정3   685 non-null    object \n",
      " 45  무부하매연판정4   685 non-null    object \n",
      " 46  무부하매연판정5   685 non-null    object \n",
      " 47  무부하매연판정6   0 non-null      float64\n",
      " 48  무부하매연허용치1  1212 non-null   float64\n",
      " 49  무부하매연허용치2  747 non-null    float64\n",
      " 50  무부하매연허용치3  747 non-null    float64\n",
      " 51  무부하매연허용치4  747 non-null    float64\n",
      " 52  무부하매연허용치5  747 non-null    float64\n",
      " 53  무부하매연허용치6  252 non-null    float64\n",
      " 54  무부하매연측정치1  1212 non-null   float64\n",
      " 55  무부하매연측정치2  768 non-null    float64\n",
      " 56  무부하매연측정치3  747 non-null    float64\n",
      " 57  무부하매연측정치4  747 non-null    float64\n",
      " 58  무부하매연측정치5  747 non-null    float64\n",
      " 59  무부하매연측정치6  252 non-null    float64\n",
      " 60  정기정밀       1223 non-null   object \n",
      " 61  vin10      1309 non-null   int64  \n",
      " 62  vin_year   1309 non-null   float64\n",
      " 63  DPF유무      1309 non-null   object \n",
      " 64  배인번호_수정    1309 non-null   object \n",
      " 65  등급_수정      1309 non-null   int64  \n",
      " 66  DPF유무_수정   2 non-null      object \n",
      " 67  확인유무       2 non-null      object \n",
      " 68  비고         0 non-null      float64\n",
      "dtypes: float64(26), int64(6), object(37)\n",
      "memory usage: 705.8+ KB\n"
     ]
    }
   ],
   "source": [
    "error.info()"
   ]
  },
  {
   "attachments": {},
   "cell_type": "markdown",
   "metadata": {},
   "source": [
    "### [출력] 배인번호 비정상 병합 파일"
   ]
  },
  {
   "cell_type": "code",
   "execution_count": 160,
   "metadata": {},
   "outputs": [],
   "source": [
    "error.to_csv(os.path.join(total_error_fold, 'total_error.csv'), index=False, encoding='cp949')"
   ]
  },
  {
   "attachments": {},
   "cell_type": "markdown",
   "metadata": {},
   "source": [
    "## 제작사 이상 파일"
   ]
  },
  {
   "cell_type": "code",
   "execution_count": 127,
   "metadata": {},
   "outputs": [
    {
     "name": "stderr",
     "output_type": "stream",
     "text": [
      "100%|██████████| 1/1 [00:03<00:00,  3.39s/it]\n"
     ]
    }
   ],
   "source": [
    "weird = pd.DataFrame()\n",
    "for addr in tqdm(glob(os.path.join(weird_fold, '*.xlsx'))):\n",
    "    temp = pd.read_excel(addr)\n",
    "    weird = pd.concat([weird, temp], ignore_index=True)"
   ]
  },
  {
   "cell_type": "code",
   "execution_count": 128,
   "metadata": {},
   "outputs": [
    {
     "name": "stdout",
     "output_type": "stream",
     "text": [
      "<class 'pandas.core.frame.DataFrame'>\n",
      "RangeIndex: 4849 entries, 0 to 4848\n",
      "Data columns (total 69 columns):\n",
      " #   Column     Non-Null Count  Dtype  \n",
      "---  ------     --------------  -----  \n",
      " 0   차대번호       4849 non-null   object \n",
      " 1   차량번호_x     4849 non-null   object \n",
      " 2   제원관리번호     4849 non-null   object \n",
      " 3   차종_원본      4849 non-null   object \n",
      " 4   용도         4849 non-null   object \n",
      " 5   최초등록일      4849 non-null   int64  \n",
      " 6   연식         4849 non-null   int64  \n",
      " 7   제작일자       4849 non-null   int64  \n",
      " 8   검사유효일      4849 non-null   int64  \n",
      " 9   배출가스인증번호   4849 non-null   object \n",
      " 10  등급         4849 non-null   int64  \n",
      " 11  차명_x       4849 non-null   object \n",
      " 12  차종분류       4849 non-null   object \n",
      " 13  차종유형       4849 non-null   object \n",
      " 14  자동차형식      4849 non-null   object \n",
      " 15  제작사명       4837 non-null   object \n",
      " 16  연료         4849 non-null   object \n",
      " 17  엔진형식_x     4849 non-null   object \n",
      " 18  총중량        4849 non-null   int64  \n",
      " 19  적재중량       4849 non-null   int64  \n",
      " 20  엔진출력       4849 non-null   int64  \n",
      " 21  배기량        4849 non-null   int64  \n",
      " 22  법정동코드      4849 non-null   int64  \n",
      " 23  시도명        4849 non-null   object \n",
      " 24  시군구명       4849 non-null   object \n",
      " 25  소유자구분      4849 non-null   object \n",
      " 26  말소여부       4849 non-null   object \n",
      " 27  일치유무       4849 non-null   object \n",
      " 28  사용연료       4563 non-null   object \n",
      " 29  주행거리       4561 non-null   float64\n",
      " 30  차명_y       4563 non-null   object \n",
      " 31  차량번호_y     4563 non-null   object \n",
      " 32  차종         4563 non-null   object \n",
      " 33  차량연식       4563 non-null   float64\n",
      " 34  엔진형식_y     4561 non-null   object \n",
      " 35  검사방법       4563 non-null   object \n",
      " 36  검사일자       4563 non-null   float64\n",
      " 37  검사종류       4563 non-null   object \n",
      " 38  검사판정시각     4538 non-null   object \n",
      " 39  검사판정       4563 non-null   object \n",
      " 40  산소값        3086 non-null   float64\n",
      " 41  이산화탄소값     3086 non-null   float64\n",
      " 42  무부하매연판정1   4538 non-null   object \n",
      " 43  무부하매연판정2   2471 non-null   object \n",
      " 44  무부하매연판정3   2471 non-null   object \n",
      " 45  무부하매연판정4   2471 non-null   object \n",
      " 46  무부하매연판정5   2471 non-null   object \n",
      " 47  무부하매연판정6   2 non-null      object \n",
      " 48  무부하매연허용치1  4538 non-null   float64\n",
      " 49  무부하매연허용치2  2742 non-null   float64\n",
      " 50  무부하매연허용치3  2742 non-null   float64\n",
      " 51  무부하매연허용치4  2742 non-null   float64\n",
      " 52  무부하매연허용치5  2742 non-null   float64\n",
      " 53  무부하매연허용치6  1016 non-null   float64\n",
      " 54  무부하매연측정치1  4538 non-null   float64\n",
      " 55  무부하매연측정치2  2794 non-null   float64\n",
      " 56  무부하매연측정치3  2742 non-null   float64\n",
      " 57  무부하매연측정치4  2742 non-null   float64\n",
      " 58  무부하매연측정치5  2742 non-null   float64\n",
      " 59  무부하매연측정치6  1016 non-null   float64\n",
      " 60  정기정밀       4563 non-null   object \n",
      " 61  vin10      4849 non-null   object \n",
      " 62  vin_year   4849 non-null   int64  \n",
      " 63  DPF유무      4849 non-null   object \n",
      " 64  배인번호_수정    4849 non-null   object \n",
      " 65  등급_수정      4849 non-null   int64  \n",
      " 66  DPF유무_수정   3 non-null      object \n",
      " 67  확인유무       3 non-null      object \n",
      " 68  비고         0 non-null      float64\n",
      "dtypes: float64(18), int64(12), object(39)\n",
      "memory usage: 2.6+ MB\n"
     ]
    }
   ],
   "source": [
    "weird.info()"
   ]
  },
  {
   "cell_type": "code",
   "execution_count": 129,
   "metadata": {},
   "outputs": [
    {
     "data": {
      "text/plain": [
       "0"
      ]
     },
     "execution_count": 129,
     "metadata": {},
     "output_type": "execute_result"
    }
   ],
   "source": [
    "weird['배인번호_수정'].isnull().sum()"
   ]
  },
  {
   "cell_type": "code",
   "execution_count": 130,
   "metadata": {},
   "outputs": [],
   "source": [
    "weird['배인번호_수정'] = np.nan"
   ]
  },
  {
   "attachments": {},
   "cell_type": "markdown",
   "metadata": {},
   "source": [
    "## 미부여"
   ]
  },
  {
   "cell_type": "code",
   "execution_count": 11,
   "metadata": {},
   "outputs": [
    {
     "name": "stderr",
     "output_type": "stream",
     "text": [
      "100%|██████████| 1/1 [00:00<00:00, 10.20it/s]\n"
     ]
    }
   ],
   "source": [
    "nad = pd.DataFrame()\n",
    "for addr in tqdm(glob(os.path.join(nan_fold, '*.csv'))):\n",
    "    temp = pd.read_csv(addr, encoding='cp949', low_memory=False)\n",
    "    nad = pd.concat([nad, temp], ignore_index=True)"
   ]
  },
  {
   "cell_type": "code",
   "execution_count": 12,
   "metadata": {},
   "outputs": [
    {
     "name": "stdout",
     "output_type": "stream",
     "text": [
      "<class 'pandas.core.frame.DataFrame'>\n",
      "RangeIndex: 7150 entries, 0 to 7149\n",
      "Data columns (total 69 columns):\n",
      " #   Column     Non-Null Count  Dtype  \n",
      "---  ------     --------------  -----  \n",
      " 0   차대번호       7150 non-null   object \n",
      " 1   차량번호_x     7150 non-null   object \n",
      " 2   제원관리번호     7150 non-null   object \n",
      " 3   차종_원본      7150 non-null   object \n",
      " 4   용도         7150 non-null   object \n",
      " 5   최초등록일      7150 non-null   int64  \n",
      " 6   연식         7150 non-null   int64  \n",
      " 7   제작일자       7147 non-null   float64\n",
      " 8   검사유효일      7149 non-null   float64\n",
      " 9   배출가스인증번호   0 non-null      float64\n",
      " 10  등급         7150 non-null   int64  \n",
      " 11  차명_x       7150 non-null   object \n",
      " 12  차종분류       7150 non-null   object \n",
      " 13  차종유형       7150 non-null   object \n",
      " 14  자동차형식      7149 non-null   object \n",
      " 15  제작사명       7149 non-null   object \n",
      " 16  연료         7150 non-null   object \n",
      " 17  엔진형식_x     7150 non-null   object \n",
      " 18  총중량        7150 non-null   float64\n",
      " 19  적재중량       7129 non-null   float64\n",
      " 20  엔진출력       7149 non-null   float64\n",
      " 21  배기량        7150 non-null   float64\n",
      " 22  법정동코드      7150 non-null   int64  \n",
      " 23  시도명        7150 non-null   object \n",
      " 24  시군구명       7150 non-null   object \n",
      " 25  소유자구분      7150 non-null   object \n",
      " 26  말소여부       7150 non-null   object \n",
      " 27  일치유무       7150 non-null   object \n",
      " 28  사용연료       6772 non-null   object \n",
      " 29  주행거리       6770 non-null   float64\n",
      " 30  차명_y       6772 non-null   object \n",
      " 31  차량번호_y     6772 non-null   object \n",
      " 32  차종         6772 non-null   object \n",
      " 33  차량연식       6772 non-null   float64\n",
      " 34  엔진형식_y     6771 non-null   object \n",
      " 35  검사방법       6772 non-null   object \n",
      " 36  검사일자       6772 non-null   float64\n",
      " 37  검사종류       6772 non-null   object \n",
      " 38  검사판정시각     6742 non-null   object \n",
      " 39  검사판정       6772 non-null   object \n",
      " 40  산소값        5493 non-null   float64\n",
      " 41  이산화탄소값     5493 non-null   float64\n",
      " 42  무부하매연판정1   6742 non-null   object \n",
      " 43  무부하매연판정2   320 non-null    object \n",
      " 44  무부하매연판정3   310 non-null    object \n",
      " 45  무부하매연판정4   310 non-null    object \n",
      " 46  무부하매연판정5   310 non-null    object \n",
      " 47  무부하매연판정6   3 non-null      object \n",
      " 48  무부하매연허용치1  6742 non-null   float64\n",
      " 49  무부하매연허용치2  2440 non-null   float64\n",
      " 50  무부하매연허용치3  2440 non-null   float64\n",
      " 51  무부하매연허용치4  2440 non-null   float64\n",
      " 52  무부하매연허용치5  2440 non-null   float64\n",
      " 53  무부하매연허용치6  2181 non-null   float64\n",
      " 54  무부하매연측정치1  6742 non-null   float64\n",
      " 55  무부하매연측정치2  3090 non-null   float64\n",
      " 56  무부하매연측정치3  2440 non-null   float64\n",
      " 57  무부하매연측정치4  2440 non-null   float64\n",
      " 58  무부하매연측정치5  2440 non-null   float64\n",
      " 59  무부하매연측정치6  2181 non-null   float64\n",
      " 60  정기정밀       6772 non-null   object \n",
      " 61  vin10      7150 non-null   object \n",
      " 62  vin_year   7150 non-null   float64\n",
      " 63  DPF유무      7150 non-null   object \n",
      " 64  배인번호_수정    0 non-null      float64\n",
      " 65  등급_수정      7150 non-null   int64  \n",
      " 66  DPF유무_수정   0 non-null      float64\n",
      " 67  확인유무       0 non-null      float64\n",
      " 68  비고         0 non-null      float64\n",
      "dtypes: float64(29), int64(5), object(35)\n",
      "memory usage: 3.8+ MB\n"
     ]
    }
   ],
   "source": [
    "nad.info()"
   ]
  },
  {
   "cell_type": "code",
   "execution_count": 13,
   "metadata": {},
   "outputs": [
    {
     "data": {
      "text/plain": [
       "((1140505, 69), (1309, 69), (4849, 69), (7150, 69))"
      ]
     },
     "execution_count": 13,
     "metadata": {},
     "output_type": "execute_result"
    }
   ],
   "source": [
    "norm.shape, error.shape, weird.shape, nad.shape"
   ]
  },
  {
   "cell_type": "code",
   "execution_count": 14,
   "metadata": {},
   "outputs": [
    {
     "data": {
      "text/plain": [
       "1153813"
      ]
     },
     "execution_count": 14,
     "metadata": {},
     "output_type": "execute_result"
    }
   ],
   "source": [
    "# 1153813\n",
    "norm.shape[0] + error.shape[0] + weird.shape[0] + nad.shape[0]"
   ]
  },
  {
   "attachments": {},
   "cell_type": "markdown",
   "metadata": {},
   "source": [
    "# 정제"
   ]
  },
  {
   "attachments": {},
   "cell_type": "markdown",
   "metadata": {},
   "source": [
    "## 미부여"
   ]
  },
  {
   "attachments": {},
   "cell_type": "markdown",
   "metadata": {},
   "source": [
    "### 1\\. 유로4인증대장 매칭"
   ]
  },
  {
   "cell_type": "code",
   "execution_count": 15,
   "metadata": {},
   "outputs": [],
   "source": [
    "# 유로4 / result파일\n",
    "# 제작사명 : 크라이슬러 / 에프씨에이코리아(주)\n",
    "# 차명으로 매칭\n",
    "# {'300C' : '6MY-DK-14-1', '짚 커맨더' : '6MY-DK-14-2', '니트로' : '7MY-DK-14-4', '짚 니트로' : '7MY-DK-14-4', '짚 랭글러' : '7MY-DK-14-5', '짚그랜드체로키' : '8MY-DK-14-01, '짚 그랜드 체로키' : '8MY-DK-14-01', '그랜드 보이저' : '8MY-DK-14-02', '세브링' : '8MY-DK-14-06'}"
   ]
  },
  {
   "cell_type": "code",
   "execution_count": 16,
   "metadata": {},
   "outputs": [],
   "source": [
    "# 유로4 / result파일\n",
    "# 제작사명 : 볼보 / (주)볼보자동차코리아\n",
    "# 차명으로 매칭\n",
    "# {'볼보 S60D5' : '5MY-PA-14-17', '볼보 S80D5' : '6MY-PA-14-4', '볼보 XC70D5' : '8MY-PA-14-03', '볼보 XC60D5' : '9MY-PA-13-01'}"
   ]
  },
  {
   "cell_type": "code",
   "execution_count": 17,
   "metadata": {},
   "outputs": [],
   "source": [
    "# 유로4 / result파일\n",
    "# 제작사명 : 랜드로버 / (주)재규어랜드로버코리아\n",
    "# 차명으로 매칭\n",
    "# {'레인지로버 스포츠 TDV6' : '7MY-PA-14-2'}"
   ]
  },
  {
   "cell_type": "code",
   "execution_count": 18,
   "metadata": {},
   "outputs": [],
   "source": [
    "# 유로4 / result파일\n",
    "# 제작사명 : 재규어 / (주)재규어랜드로버코리아\n",
    "# 차명으로 매칭\n",
    "# {'재규어 XJ 2.7D' : '7MY-PA-14-7', '재규어 X-TYPE 2.2D' : '8MY-PA-14-04', '재규어 XF 2.7D' : '8MY-PA-14-05'}"
   ]
  },
  {
   "cell_type": "code",
   "execution_count": 19,
   "metadata": {},
   "outputs": [],
   "source": [
    "# 유로4 / result파일\n",
    "# 제작사명 : 재규어 / (주)볼보자동차코리아\n",
    "# 차명으로 매칭\n",
    "# {'재규어 XJ 2.7D' : '7MY-PA-14-7', '재규어 X-TYPE 2.2D' : '8MY-PA-14-04', '재규어 XF 2.7D' : '8MY-PA-14-05'}"
   ]
  },
  {
   "cell_type": "code",
   "execution_count": 20,
   "metadata": {},
   "outputs": [],
   "source": [
    "# 유로4 / result파일\n",
    "# 제작사명 : 포드 / 포드세일즈서비스코리아(유)\n",
    "# 차명으로 매칭\n",
    "# {'에스맥스' : '8MY-FK-14-1', '몬데오' : '8MY-FK-14-2'}"
   ]
  },
  {
   "cell_type": "code",
   "execution_count": 21,
   "metadata": {},
   "outputs": [],
   "source": [
    "# 유로4 / result파일\n",
    "# 제작사명 : 푸조 / 한불모터스(주)\n",
    "# 배기량\n",
    "# {1997 : '5MY-HB-14-1', 2721 : '5MY-HB-14-4', 1560 : '8MY-HB-14-1'}"
   ]
  },
  {
   "cell_type": "code",
   "execution_count": 22,
   "metadata": {},
   "outputs": [
    {
     "data": {
      "text/plain": [
       "array([1560., 1997., 2721.])"
      ]
     },
     "execution_count": 22,
     "metadata": {},
     "output_type": "execute_result"
    }
   ],
   "source": [
    "nad.loc[nad['제작사명'] == '한불모터스(주)', '배기량'].unique()"
   ]
  },
  {
   "cell_type": "code",
   "execution_count": 23,
   "metadata": {},
   "outputs": [
    {
     "data": {
      "text/plain": [
       "array(['주식회사 카셈(KASEM Co.,Ltd)', '에프씨에이코리아(주)', '한불모터스(주)', '한국상용차(주)',\n",
       "       '(주)볼보자동차코리아', '자기인증면제차량', '한국특장기술(주)', '(주)재규어랜드로버코리아',\n",
       "       '더유니코오토(주)', '포드세일즈서비스코리아(유)', '비엠더블유코리아(주)', '(주)무빙애드', '(주) 오텍',\n",
       "       '주식회사 유아이테크', '동우인더스(주)', '(주) 대진에스티씨', '한아에스에스(주)', '(주)세인이엔지',\n",
       "       '(주)크린텍', '부커셰링코리아 (주)', '라인호(주)', '한국오토모빌얼라이언스(주)', '(주)중평',\n",
       "       '스카니아코리아그룹(주)', '(주)한국토미', '(주) 메인모터스', '현대자동차(주)', '(주)함코',\n",
       "       '볼보트럭코리아(주)', '주식회사 평강비아이엠(B.I.M)', '녹산대진특장차', '대덕',\n",
       "       'SK에너지(주)울산COMPLEX', '디에스아이코리아피티와이엘티디', '씨엔에스코퍼레이션(주)', '영원과학(주)',\n",
       "       '(주)동해기계항공', '네오플란오토모빌코리아(주)', '(주)케이지비고려골든박스', '한국도로공사',\n",
       "       '(주)에버다임', '(주)나노메딕스', '대동안전(주)', '(주)한일', '(주)동진특수', '(주)뉴테크특장',\n",
       "       '한국공항공사', '(주)포멕특장', '지에스칼텍스(주)', '에스티에이컴퍼니(주)', '건민특장 주식회사',\n",
       "       '(주)방원테크', '주식회사 우레아텍', '쌍용자동차(주)', '한국아이비금융(주)', '이텍산업 주식회사', nan,\n",
       "       '로쏘엠', '해광산업사', '(주)화이어텍', '대지정공(주)', '(주)세기통운', '강원도청',\n",
       "       '한성자동차(주)', '(주)우성특장', '(주) 골드밴', '서울특별시소방재난본부', '충청남도청',\n",
       "       '주식회사 한서정공', '전라남도소방본부', '(주)우리특장', '비스너코리아 주식회사', '한국상용트럭(주)',\n",
       "       '디앨 주식회사', '(주)호룡', '성진지오텍(주)', '서울시보건환경연구원', '신아특장', '(주)지엠케이',\n",
       "       '(주)프로덕션툴즈', '정부쓰리축', '(주)동방', '기아자동차(주)', '대한예수교장로회평강제일교회',\n",
       "       '한빛테크원(주)', '타타대우상용차(주)', '길우상사(주)', '르노삼성자동차(주)', '한국지엠주식회사',\n",
       "       '서울시티투어버스(주)', '신정개발특장차 주식회사'], dtype=object)"
      ]
     },
     "execution_count": 23,
     "metadata": {},
     "output_type": "execute_result"
    }
   ],
   "source": [
    "nad['제작사명'].unique()"
   ]
  },
  {
   "cell_type": "code",
   "execution_count": 24,
   "metadata": {},
   "outputs": [],
   "source": [
    "# 2129, 5021 (y, n)\n",
    "productor = '에프씨에이코리아(주)'\n",
    "dict1 = {'300C' : '6MY-DK-14-1', '짚 커맨더' : '6MY-DK-14-2', '니트로' : '7MY-DK-14-4', '짚 니트로' : '7MY-DK-14-4', '짚 랭글러' : '7MY-DK-14-5', \n",
    "         '짚그랜드체로키' : '8MY-DK-14-01', '짚 그랜드 체로키' : '8MY-DK-14-01', '그랜드 보이저' : '8MY-DK-14-02', '세브링' : '8MY-DK-14-06'}\n",
    "for k, v in dict1.items():\n",
    "    nad.loc[(nad['제작사명'] == productor) & (nad['차명_x'] == k), '배인번호_수정'] = v"
   ]
  },
  {
   "cell_type": "code",
   "execution_count": 26,
   "metadata": {},
   "outputs": [],
   "source": [
    "# 3265, 3885\n",
    "productor = '(주)볼보자동차코리아'\n",
    "dict2 = {'볼보 S60D5' : '5MY-PA-14-17', '볼보 S80D5' : '6MY-PA-14-4', '볼보 XC70D5' : '8MY-PA-14-03', '볼보 XC60D5' : '9MY-PA-13-01'}\n",
    "for k, v in dict2.items():\n",
    "    nad.loc[(nad['제작사명'] == productor) & (nad['차명_x'] == k), '배인번호_수정'] = v"
   ]
  },
  {
   "cell_type": "code",
   "execution_count": 28,
   "metadata": {},
   "outputs": [],
   "source": [
    "# 3268, 3882\n",
    "productor = '(주)재규어랜드로버코리아'\n",
    "dict3 = {'레인지로버 스포츠 TDV6' : '7MY-PA-14-2'}\n",
    "for k, v in dict3.items():\n",
    "    nad.loc[(nad['제작사명'] == productor) & (nad['차명_x'] == k), '배인번호_수정'] = v"
   ]
  },
  {
   "cell_type": "code",
   "execution_count": 30,
   "metadata": {},
   "outputs": [],
   "source": [
    "# 3539, 3611\n",
    "productor = '(주)재규어랜드로버코리아'\n",
    "dict4 = {'재규어 XJ 2.7D' : '7MY-PA-14-7', '재규어 X-TYPE 2.2D' : '8MY-PA-14-04', '재규어 XF 2.7D' : '8MY-PA-14-05'}\n",
    "for k, v in dict4.items():\n",
    "    nad.loc[(nad['제작사명'] == productor) & (nad['차명_x'] == k), '배인번호_수정'] = v"
   ]
  },
  {
   "cell_type": "code",
   "execution_count": 32,
   "metadata": {},
   "outputs": [],
   "source": [
    "# 3637, 3513\n",
    "productor = '(주)볼보자동차코리아'\n",
    "dict5 = {'재규어 XJ 2.7D' : '7MY-PA-14-7', '재규어 X-TYPE 2.2D' : '8MY-PA-14-04', '재규어 XF 2.7D' : '8MY-PA-14-05'}\n",
    "for k, v in dict5.items():\n",
    "    nad.loc[(nad['제작사명'] == productor) & (nad['차명_x'] == k), '배인번호_수정'] = v"
   ]
  },
  {
   "cell_type": "code",
   "execution_count": 34,
   "metadata": {},
   "outputs": [],
   "source": [
    "# 3736, 3414\n",
    "productor = '포드세일즈서비스코리아(유)'\n",
    "dict6 = {'에스맥스' : '8MY-FK-14-1', '몬데오' : '8MY-FK-14-2'}\n",
    "for k, v in dict6.items():\n",
    "    nad.loc[(nad['제작사명'] == productor) & (nad['차명_x'] == k), '배인번호_수정'] = v"
   ]
  },
  {
   "cell_type": "code",
   "execution_count": 36,
   "metadata": {},
   "outputs": [],
   "source": [
    "# 6294, 856\n",
    "productor = '한불모터스(주)'\n",
    "dict7 = {1997 : '5MY-HB-14-1', 2721 : '5MY-HB-14-4', 1560 : '8MY-HB-14-1'}\n",
    "for k, v in dict7.items():\n",
    "    nad.loc[(nad['제작사명'] == productor) & (nad['배기량'] == k), '배인번호_수정'] = v"
   ]
  },
  {
   "cell_type": "code",
   "execution_count": 37,
   "metadata": {},
   "outputs": [
    {
     "data": {
      "text/plain": [
       "((6294, 69), (856, 69))"
      ]
     },
     "execution_count": 37,
     "metadata": {},
     "output_type": "execute_result"
    }
   ],
   "source": [
    "nad1y = nad.loc[nad['배인번호_수정'].isnull() == False].reset_index(drop=True)\n",
    "nad1n = nad.loc[nad['배인번호_수정'].isnull() == True].reset_index(drop=True)\n",
    "nad1y.shape, nad1n.shape"
   ]
  },
  {
   "attachments": {},
   "cell_type": "markdown",
   "metadata": {},
   "source": [
    "#### [출력] 처리된 미기입 차량1"
   ]
  },
  {
   "cell_type": "code",
   "execution_count": 38,
   "metadata": {},
   "outputs": [],
   "source": [
    "nad1y.to_csv(os.path.join(nad_fold, 'nad1y.csv'), index=False, encoding='cp949')\n",
    "nad1n.to_csv(os.path.join(nad_fold, 'nad1n.csv'), index=False, encoding='cp949')"
   ]
  },
  {
   "attachments": {},
   "cell_type": "markdown",
   "metadata": {},
   "source": [
    "### 2\\. 정상 데이터와 비교\n",
    "- 동일 제번, 자동차형식, 엔진형식으로 매칭 : 5개 매칭\n",
    "- 동일 자동차형식, 엔진형식으로 매칭 : 1917개 매칭"
   ]
  },
  {
   "cell_type": "code",
   "execution_count": 39,
   "metadata": {},
   "outputs": [
    {
     "data": {
      "text/plain": [
       "(4461, 69)"
      ]
     },
     "execution_count": 39,
     "metadata": {},
     "output_type": "execute_result"
    }
   ],
   "source": [
    "norm.drop_duplicates(['배출가스인증번호', '제원관리번호', '자동차형식', '엔진형식_x']).shape"
   ]
  },
  {
   "cell_type": "code",
   "execution_count": 40,
   "metadata": {},
   "outputs": [
    {
     "data": {
      "text/plain": [
       "array([['4MY-AD-20', 2420000100031305, '4F', 'BMK'],\n",
       "       ['4MY-DC-33', 'A0310006701423306', 'K9ARF5', 'DV11'],\n",
       "       ['4MY-PA-06', 920000300131205, '2.0LN5DR', '204D']], dtype=object)"
      ]
     },
     "execution_count": 40,
     "metadata": {},
     "output_type": "execute_result"
    }
   ],
   "source": [
    "match_data = norm.drop_duplicates(['배출가스인증번호', '제원관리번호', '자동차형식', '엔진형식_x'])[['배출가스인증번호', '제원관리번호', '자동차형식', '엔진형식_x']].values\n",
    "match_data[:3]"
   ]
  },
  {
   "cell_type": "code",
   "execution_count": 41,
   "metadata": {},
   "outputs": [
    {
     "name": "stderr",
     "output_type": "stream",
     "text": [
      "100%|██████████| 4461/4461 [00:02<00:00, 1784.18it/s]\n"
     ]
    }
   ],
   "source": [
    "for emis, no, car, engine in tqdm(match_data):\n",
    "    # nad1n.loc[(nad1n['제원관리번호'] == no) & (nad1n['자동차형식'] == car) & (nad1n['엔진형식_x'] == engine), '배출가스인증번호'] = emis\n",
    "    nad1n.loc[(nad1n['자동차형식'] == car) & (nad1n['엔진형식_x'] == engine), '배인번호_수정'] = emis"
   ]
  },
  {
   "cell_type": "code",
   "execution_count": 42,
   "metadata": {},
   "outputs": [
    {
     "data": {
      "text/plain": [
       "((141, 69), (715, 69))"
      ]
     },
     "execution_count": 42,
     "metadata": {},
     "output_type": "execute_result"
    }
   ],
   "source": [
    "nad2y = nad1n.loc[nad1n['배인번호_수정'].isnull() == False].reset_index(drop=True)\n",
    "nad2n = nad1n.loc[nad1n['배인번호_수정'].isnull() == True].reset_index(drop=True)\n",
    "nad2y.shape, nad2n.shape"
   ]
  },
  {
   "cell_type": "code",
   "execution_count": 43,
   "metadata": {},
   "outputs": [
    {
     "data": {
      "text/plain": [
       "array(['(주)볼보자동차코리아', '비엠더블유코리아(주)', '자기인증면제차량', '볼보트럭코리아(주)',\n",
       "       '르노삼성자동차(주)', '현대자동차(주)', '한국지엠주식회사', '기아자동차(주)'], dtype=object)"
      ]
     },
     "execution_count": 43,
     "metadata": {},
     "output_type": "execute_result"
    }
   ],
   "source": [
    "nad2y['제작사명'].unique()"
   ]
  },
  {
   "attachments": {},
   "cell_type": "markdown",
   "metadata": {},
   "source": [
    "#### [출력] 처리된 미기입 차량2"
   ]
  },
  {
   "cell_type": "code",
   "execution_count": 44,
   "metadata": {},
   "outputs": [],
   "source": [
    "nad2y.to_csv(os.path.join(nad_fold, 'nad2y.csv'), index=False, encoding='cp949')\n",
    "nad2n.to_csv(os.path.join(nad_fold, 'nad2n.csv'), index=False, encoding='cp949')"
   ]
  },
  {
   "attachments": {},
   "cell_type": "markdown",
   "metadata": {},
   "source": [
    "### 매칭과정 후 남은 데이터 확인"
   ]
  },
  {
   "cell_type": "code",
   "execution_count": 45,
   "metadata": {},
   "outputs": [
    {
     "data": {
      "text/plain": [
       "array(['주식회사 카셈(KASEM Co.,Ltd)', '한국상용차(주)', '자기인증면제차량', '한국특장기술(주)',\n",
       "       '더유니코오토(주)', '(주)재규어랜드로버코리아', '비엠더블유코리아(주)', '(주)무빙애드', '(주) 오텍',\n",
       "       '주식회사 유아이테크', '(주)볼보자동차코리아', '동우인더스(주)', '(주) 대진에스티씨', '한아에스에스(주)',\n",
       "       '(주)세인이엔지', '(주)크린텍', '부커셰링코리아 (주)', '라인호(주)', '한국오토모빌얼라이언스(주)',\n",
       "       '(주)중평', '스카니아코리아그룹(주)', '(주)한국토미', '(주) 메인모터스', '현대자동차(주)',\n",
       "       '(주)함코', '주식회사 평강비아이엠(B.I.M)', '녹산대진특장차', '대덕',\n",
       "       'SK에너지(주)울산COMPLEX', '디에스아이코리아피티와이엘티디', '씨엔에스코퍼레이션(주)', '영원과학(주)',\n",
       "       '(주)동해기계항공', '네오플란오토모빌코리아(주)', '(주)케이지비고려골든박스', '한국도로공사',\n",
       "       '(주)에버다임', '(주)나노메딕스', '대동안전(주)', '(주)한일', '(주)동진특수', '(주)뉴테크특장',\n",
       "       '한국공항공사', '(주)포멕특장', '지에스칼텍스(주)', '에스티에이컴퍼니(주)', '건민특장 주식회사',\n",
       "       '(주)방원테크', '주식회사 우레아텍', '쌍용자동차(주)', '한국아이비금융(주)', '볼보트럭코리아(주)',\n",
       "       '이텍산업 주식회사', nan, '로쏘엠', '해광산업사', '(주)화이어텍', '대지정공(주)', '(주)세기통운',\n",
       "       '강원도청', '한성자동차(주)', '(주)우성특장', '(주) 골드밴', '서울특별시소방재난본부', '충청남도청',\n",
       "       '주식회사 한서정공', '전라남도소방본부', '(주)우리특장', '비스너코리아 주식회사', '한국상용트럭(주)',\n",
       "       '에프씨에이코리아(주)', '디앨 주식회사', '(주)호룡', '성진지오텍(주)', '서울시보건환경연구원',\n",
       "       '신아특장', '(주)지엠케이', '(주)프로덕션툴즈', '정부쓰리축', '(주)동방', '기아자동차(주)',\n",
       "       '대한예수교장로회평강제일교회', '한빛테크원(주)', '타타대우상용차(주)', '길우상사(주)',\n",
       "       '서울시티투어버스(주)', '신정개발특장차 주식회사'], dtype=object)"
      ]
     },
     "execution_count": 45,
     "metadata": {},
     "output_type": "execute_result"
    }
   ],
   "source": [
    "nad2n['제작사명'].unique()"
   ]
  },
  {
   "cell_type": "code",
   "execution_count": 46,
   "metadata": {},
   "outputs": [],
   "source": [
    "productor = '비엠더블유코리아(주)'"
   ]
  },
  {
   "cell_type": "code",
   "execution_count": 47,
   "metadata": {},
   "outputs": [
    {
     "data": {
      "text/html": [
       "<div>\n",
       "<style scoped>\n",
       "    .dataframe tbody tr th:only-of-type {\n",
       "        vertical-align: middle;\n",
       "    }\n",
       "\n",
       "    .dataframe tbody tr th {\n",
       "        vertical-align: top;\n",
       "    }\n",
       "\n",
       "    .dataframe thead th {\n",
       "        text-align: right;\n",
       "    }\n",
       "</style>\n",
       "<table border=\"1\" class=\"dataframe\">\n",
       "  <thead>\n",
       "    <tr style=\"text-align: right;\">\n",
       "      <th></th>\n",
       "      <th>제원관리번호</th>\n",
       "      <th>자동차형식</th>\n",
       "      <th>엔진형식_x</th>\n",
       "      <th>차명_x</th>\n",
       "    </tr>\n",
       "  </thead>\n",
       "  <tbody>\n",
       "    <tr>\n",
       "      <th>13</th>\n",
       "      <td>00120002500001308</td>\n",
       "      <td>FG61</td>\n",
       "      <td>306D3</td>\n",
       "      <td>BMW X6 3.0d</td>\n",
       "    </tr>\n",
       "    <tr>\n",
       "      <th>38</th>\n",
       "      <td>00120002500001308</td>\n",
       "      <td>FG61</td>\n",
       "      <td>306D3</td>\n",
       "      <td>BMW X6 3.0d</td>\n",
       "    </tr>\n",
       "    <tr>\n",
       "      <th>39</th>\n",
       "      <td>00120002500001308</td>\n",
       "      <td>FG61</td>\n",
       "      <td>306D3</td>\n",
       "      <td>BMW X6 3.0d</td>\n",
       "    </tr>\n",
       "    <tr>\n",
       "      <th>40</th>\n",
       "      <td>00120002500001308</td>\n",
       "      <td>FG61</td>\n",
       "      <td>306D3</td>\n",
       "      <td>BMW X6 3.0d</td>\n",
       "    </tr>\n",
       "    <tr>\n",
       "      <th>76</th>\n",
       "      <td>00120002500001308</td>\n",
       "      <td>FG61</td>\n",
       "      <td>306D3</td>\n",
       "      <td>BMW X6 3.0d</td>\n",
       "    </tr>\n",
       "    <tr>\n",
       "      <th>...</th>\n",
       "      <td>...</td>\n",
       "      <td>...</td>\n",
       "      <td>...</td>\n",
       "      <td>...</td>\n",
       "    </tr>\n",
       "    <tr>\n",
       "      <th>664</th>\n",
       "      <td>00120002500001308</td>\n",
       "      <td>FG61</td>\n",
       "      <td>306D3</td>\n",
       "      <td>BMW X6 3.0d</td>\n",
       "    </tr>\n",
       "    <tr>\n",
       "      <th>670</th>\n",
       "      <td>00120002500001308</td>\n",
       "      <td>FG61</td>\n",
       "      <td>306D3</td>\n",
       "      <td>BMW X6 3.0d</td>\n",
       "    </tr>\n",
       "    <tr>\n",
       "      <th>681</th>\n",
       "      <td>00120002500001308</td>\n",
       "      <td>FG61</td>\n",
       "      <td>306D3</td>\n",
       "      <td>BMW X6 3.0d</td>\n",
       "    </tr>\n",
       "    <tr>\n",
       "      <th>685</th>\n",
       "      <td>00120002500001308</td>\n",
       "      <td>FG61</td>\n",
       "      <td>306D3</td>\n",
       "      <td>BMW X6 3.0d</td>\n",
       "    </tr>\n",
       "    <tr>\n",
       "      <th>692</th>\n",
       "      <td>00120002500001308</td>\n",
       "      <td>FG61</td>\n",
       "      <td>306D3</td>\n",
       "      <td>BMW X6 3.0d</td>\n",
       "    </tr>\n",
       "  </tbody>\n",
       "</table>\n",
       "<p>71 rows × 4 columns</p>\n",
       "</div>"
      ],
      "text/plain": [
       "                제원관리번호 자동차형식 엔진형식_x         차명_x\n",
       "13   00120002500001308  FG61  306D3  BMW X6 3.0d\n",
       "38   00120002500001308  FG61  306D3  BMW X6 3.0d\n",
       "39   00120002500001308  FG61  306D3  BMW X6 3.0d\n",
       "40   00120002500001308  FG61  306D3  BMW X6 3.0d\n",
       "76   00120002500001308  FG61  306D3  BMW X6 3.0d\n",
       "..                 ...   ...    ...          ...\n",
       "664  00120002500001308  FG61  306D3  BMW X6 3.0d\n",
       "670  00120002500001308  FG61  306D3  BMW X6 3.0d\n",
       "681  00120002500001308  FG61  306D3  BMW X6 3.0d\n",
       "685  00120002500001308  FG61  306D3  BMW X6 3.0d\n",
       "692  00120002500001308  FG61  306D3  BMW X6 3.0d\n",
       "\n",
       "[71 rows x 4 columns]"
      ]
     },
     "execution_count": 47,
     "metadata": {},
     "output_type": "execute_result"
    }
   ],
   "source": [
    "nad2n.loc[nad2n['제작사명'] == productor, ['제원관리번호', '자동차형식', '엔진형식_x', '차명_x']]"
   ]
  },
  {
   "cell_type": "code",
   "execution_count": 48,
   "metadata": {},
   "outputs": [],
   "source": [
    "# nad2n에서 정상 파일과 제원관리번호로 매칭되는지 여부 확인\n",
    "for one in nad2n.loc[nad2n['제작사명'] == productor, ['제원관리번호', '자동차형식', '엔진형식_x', '차명_x']]['제원관리번호'].unique():\n",
    "    if norm.loc[norm['제원관리번호'] == one, ['자동차형식', '엔진형식_x', '차명_x']].shape[0] != 0:\n",
    "        print(one)"
   ]
  },
  {
   "cell_type": "code",
   "execution_count": 49,
   "metadata": {},
   "outputs": [],
   "source": [
    "# nad2n에서 정상 파일과 자동차형식 매칭되는지 여부 확인\n",
    "for one in nad2n.loc[nad2n['제작사명'] == productor, ['제원관리번호', '자동차형식', '엔진형식_x', '차명_x']]['자동차형식'].unique():\n",
    "    if norm.loc[norm['자동차형식'] == one, ['자동차형식', '엔진형식_x', '차명_x']].shape[0] != 0:\n",
    "        print(one)"
   ]
  },
  {
   "cell_type": "code",
   "execution_count": 50,
   "metadata": {},
   "outputs": [
    {
     "name": "stdout",
     "output_type": "stream",
     "text": [
      "306D3\n"
     ]
    }
   ],
   "source": [
    "# nad2n에서 정상 파일과 엔진형식 매칭되는지 여부 확인\n",
    "for one in nad2n.loc[nad2n['제작사명'] == productor, ['제원관리번호', '자동차형식', '엔진형식_x', '차명_x']]['엔진형식_x'].unique():\n",
    "    if norm.loc[norm['엔진형식_x'] == one, ['자동차형식', '엔진형식_x', '차명_x']].shape[0] != 0:\n",
    "        print(one)"
   ]
  },
  {
   "cell_type": "code",
   "execution_count": 51,
   "metadata": {},
   "outputs": [
    {
     "data": {
      "text/plain": [
       "(71, 4)"
      ]
     },
     "execution_count": 51,
     "metadata": {},
     "output_type": "execute_result"
    }
   ],
   "source": [
    "nad2n.loc[(nad2n['제작사명'] == productor) & (nad2n['엔진형식_x'] == '306D3'), ['제원관리번호', '자동차형식', '엔진형식_x', '차명_x']].shape"
   ]
  },
  {
   "cell_type": "code",
   "execution_count": 52,
   "metadata": {},
   "outputs": [],
   "source": [
    "productor = '스카니아코리아그룹(주)'"
   ]
  },
  {
   "cell_type": "code",
   "execution_count": 53,
   "metadata": {},
   "outputs": [
    {
     "data": {
      "text/plain": [
       "(30, 4)"
      ]
     },
     "execution_count": 53,
     "metadata": {},
     "output_type": "execute_result"
    }
   ],
   "source": [
    "nad2n.loc[nad2n['제작사명'] == productor, ['제원관리번호', '자동차형식', '엔진형식_x', '차명_x']].shape"
   ]
  },
  {
   "cell_type": "code",
   "execution_count": 54,
   "metadata": {},
   "outputs": [],
   "source": [
    "# nad2n(스카니아코리아그룹(주))에서 정상 파일과 제원관리번호로 매칭되는지 여부 확인\n",
    "for one in nad2n.loc[nad2n['제작사명'] == productor, ['제원관리번호', '자동차형식', '엔진형식_x', '차명_x']]['제원관리번호'].unique():\n",
    "    if norm.loc[norm['제원관리번호'] == one, ['자동차형식', '엔진형식_x', '차명_x']].shape[0] != 0:\n",
    "        print(one)"
   ]
  },
  {
   "cell_type": "code",
   "execution_count": 55,
   "metadata": {},
   "outputs": [],
   "source": [
    "# nad2n(스카니아코리아그룹(주))에서 정상 파일과 자동차형식 매칭되는지 여부 확인\n",
    "for one in nad2n.loc[nad2n['제작사명'] == productor, ['제원관리번호', '자동차형식', '엔진형식_x', '차명_x']]['자동차형식'].unique():\n",
    "    if norm.loc[norm['자동차형식'] == one, ['자동차형식', '엔진형식_x', '차명_x']].shape[0] != 0:\n",
    "        print(one)"
   ]
  },
  {
   "cell_type": "code",
   "execution_count": 56,
   "metadata": {},
   "outputs": [],
   "source": [
    "# nad2n(스카니아코리아그룹(주))에서 정상 파일과 엔진형식 매칭되는지 여부 확인\n",
    "for one in nad2n.loc[nad2n['제작사명'] == productor, ['제원관리번호', '자동차형식', '엔진형식_x', '차명_x']]['엔진형식_x'].unique():\n",
    "    if norm.loc[norm['엔진형식_x'] == one, ['자동차형식', '엔진형식_x', '차명_x']].shape[0] != 0:\n",
    "        print(one)"
   ]
  },
  {
   "cell_type": "code",
   "execution_count": 57,
   "metadata": {},
   "outputs": [],
   "source": [
    "productor = '현대자동차(주)'"
   ]
  },
  {
   "cell_type": "code",
   "execution_count": 58,
   "metadata": {},
   "outputs": [
    {
     "data": {
      "text/plain": [
       "(9, 4)"
      ]
     },
     "execution_count": 58,
     "metadata": {},
     "output_type": "execute_result"
    }
   ],
   "source": [
    "nad2n.loc[nad2n['제작사명'] == productor, ['제원관리번호', '자동차형식', '엔진형식_x', '차명_x']].shape"
   ]
  },
  {
   "cell_type": "code",
   "execution_count": 59,
   "metadata": {},
   "outputs": [],
   "source": [
    "# nad2n에서 정상 파일과 제원관리번호로 매칭되는지 여부 확인\n",
    "for one in nad2n.loc[nad2n['제작사명'] == productor, ['제원관리번호', '자동차형식', '엔진형식_x', '차명_x']]['제원관리번호'].unique():\n",
    "    if norm.loc[norm['제원관리번호'] == one, ['자동차형식', '엔진형식_x', '차명_x']].shape[0] != 0:\n",
    "        print(one)"
   ]
  },
  {
   "cell_type": "code",
   "execution_count": 60,
   "metadata": {},
   "outputs": [],
   "source": [
    "# nad2n에서 정상 파일과 자동차형식 매칭되는지 여부 확인\n",
    "for one in nad2n.loc[nad2n['제작사명'] == productor, ['제원관리번호', '자동차형식', '엔진형식_x', '차명_x']]['자동차형식'].unique():\n",
    "    if norm.loc[norm['자동차형식'] == one, ['자동차형식', '엔진형식_x', '차명_x']].shape[0] != 0:\n",
    "        print(one)"
   ]
  },
  {
   "cell_type": "code",
   "execution_count": 61,
   "metadata": {},
   "outputs": [
    {
     "name": "stdout",
     "output_type": "stream",
     "text": [
      "D4CB\n",
      "D6CC\n",
      "D4DD\n",
      "D6GA\n"
     ]
    }
   ],
   "source": [
    "# nad2n에서 정상 파일과 엔진형식 매칭되는지 여부 확인\n",
    "for one in nad2n.loc[nad2n['제작사명'] == productor, ['제원관리번호', '자동차형식', '엔진형식_x', '차명_x']]['엔진형식_x'].unique():\n",
    "    if norm.loc[norm['엔진형식_x'] == one, ['자동차형식', '엔진형식_x', '차명_x']].shape[0] != 0:\n",
    "        print(one)"
   ]
  },
  {
   "cell_type": "code",
   "execution_count": 62,
   "metadata": {},
   "outputs": [
    {
     "data": {
      "text/plain": [
       "(6, 4)"
      ]
     },
     "execution_count": 62,
     "metadata": {},
     "output_type": "execute_result"
    }
   ],
   "source": [
    "nad2n.loc[(nad2n['제작사명'] == productor) & ( (nad2n['엔진형식_x'] == 'D4CB') | (nad2n['엔진형식_x'] == 'D6CC') | (nad2n['엔진형식_x'] == 'D4DD') | (nad2n['엔진형식_x'] == 'D6GA')), ['제원관리번호', '자동차형식', '엔진형식_x', '차명_x']].shape"
   ]
  },
  {
   "cell_type": "code",
   "execution_count": 63,
   "metadata": {},
   "outputs": [],
   "source": [
    "productor = '쌍용자동차(주)'"
   ]
  },
  {
   "cell_type": "code",
   "execution_count": 64,
   "metadata": {},
   "outputs": [
    {
     "data": {
      "text/html": [
       "<div>\n",
       "<style scoped>\n",
       "    .dataframe tbody tr th:only-of-type {\n",
       "        vertical-align: middle;\n",
       "    }\n",
       "\n",
       "    .dataframe tbody tr th {\n",
       "        vertical-align: top;\n",
       "    }\n",
       "\n",
       "    .dataframe thead th {\n",
       "        text-align: right;\n",
       "    }\n",
       "</style>\n",
       "<table border=\"1\" class=\"dataframe\">\n",
       "  <thead>\n",
       "    <tr style=\"text-align: right;\">\n",
       "      <th></th>\n",
       "      <th>제원관리번호</th>\n",
       "      <th>자동차형식</th>\n",
       "      <th>엔진형식_x</th>\n",
       "      <th>차명_x</th>\n",
       "    </tr>\n",
       "  </thead>\n",
       "  <tbody>\n",
       "    <tr>\n",
       "      <th>254</th>\n",
       "      <td>10038800020000</td>\n",
       "      <td>KJ-DMB2-5</td>\n",
       "      <td>662</td>\n",
       "      <td>코란도KJ</td>\n",
       "    </tr>\n",
       "  </tbody>\n",
       "</table>\n",
       "</div>"
      ],
      "text/plain": [
       "             제원관리번호      자동차형식 엔진형식_x   차명_x\n",
       "254  10038800020000  KJ-DMB2-5    662  코란도KJ"
      ]
     },
     "execution_count": 64,
     "metadata": {},
     "output_type": "execute_result"
    }
   ],
   "source": [
    "nad2n.loc[nad2n['제작사명'] == productor, ['제원관리번호', '자동차형식', '엔진형식_x', '차명_x']]"
   ]
  },
  {
   "cell_type": "code",
   "execution_count": 65,
   "metadata": {},
   "outputs": [],
   "source": [
    "# nad2n에서 정상 파일과 제원관리번호로 매칭되는지 여부 확인\n",
    "for one in nad2n.loc[nad2n['제작사명'] == productor, ['제원관리번호', '자동차형식', '엔진형식_x', '차명_x']]['제원관리번호'].unique():\n",
    "    if norm.loc[norm['제원관리번호'] == one, ['자동차형식', '엔진형식_x', '차명_x']].shape[0] != 0:\n",
    "        print(one)"
   ]
  },
  {
   "cell_type": "code",
   "execution_count": 66,
   "metadata": {},
   "outputs": [],
   "source": [
    "# nad2n에서 정상 파일과 자동차형식 매칭되는지 여부 확인\n",
    "for one in nad2n.loc[nad2n['제작사명'] == productor, ['제원관리번호', '자동차형식', '엔진형식_x', '차명_x']]['자동차형식'].unique():\n",
    "    if norm.loc[norm['자동차형식'] == one, ['자동차형식', '엔진형식_x', '차명_x']].shape[0] != 0:\n",
    "        print(one)"
   ]
  },
  {
   "cell_type": "code",
   "execution_count": 67,
   "metadata": {},
   "outputs": [],
   "source": [
    "# nad2n에서 정상 파일과 엔진형식 매칭되는지 여부 확인\n",
    "for one in nad2n.loc[nad2n['제작사명'] == productor, ['제원관리번호', '자동차형식', '엔진형식_x', '차명_x']]['엔진형식_x'].unique():\n",
    "    if norm.loc[norm['엔진형식_x'] == str(one), ['자동차형식', '엔진형식_x', '차명_x']].shape[0] != 0:\n",
    "        print(one)"
   ]
  },
  {
   "cell_type": "code",
   "execution_count": 68,
   "metadata": {},
   "outputs": [],
   "source": [
    "productor = '한성자동차(주)'"
   ]
  },
  {
   "cell_type": "code",
   "execution_count": 69,
   "metadata": {},
   "outputs": [
    {
     "data": {
      "text/html": [
       "<div>\n",
       "<style scoped>\n",
       "    .dataframe tbody tr th:only-of-type {\n",
       "        vertical-align: middle;\n",
       "    }\n",
       "\n",
       "    .dataframe tbody tr th {\n",
       "        vertical-align: top;\n",
       "    }\n",
       "\n",
       "    .dataframe thead th {\n",
       "        text-align: right;\n",
       "    }\n",
       "</style>\n",
       "<table border=\"1\" class=\"dataframe\">\n",
       "  <thead>\n",
       "    <tr style=\"text-align: right;\">\n",
       "      <th></th>\n",
       "      <th>제원관리번호</th>\n",
       "      <th>자동차형식</th>\n",
       "      <th>엔진형식_x</th>\n",
       "      <th>차명_x</th>\n",
       "    </tr>\n",
       "  </thead>\n",
       "  <tbody>\n",
       "    <tr>\n",
       "      <th>357</th>\n",
       "      <td>00031124018881309</td>\n",
       "      <td>211 020</td>\n",
       "      <td>642 920</td>\n",
       "      <td>벤츠E280</td>\n",
       "    </tr>\n",
       "  </tbody>\n",
       "</table>\n",
       "</div>"
      ],
      "text/plain": [
       "                제원관리번호    자동차형식   엔진형식_x    차명_x\n",
       "357  00031124018881309  211 020  642 920  벤츠E280"
      ]
     },
     "execution_count": 69,
     "metadata": {},
     "output_type": "execute_result"
    }
   ],
   "source": [
    "nad2n.loc[nad2n['제작사명'] == productor, ['제원관리번호', '자동차형식', '엔진형식_x', '차명_x']]"
   ]
  },
  {
   "cell_type": "code",
   "execution_count": 70,
   "metadata": {},
   "outputs": [],
   "source": [
    "# nad2n에서 정상 파일과 제원관리번호로 매칭되는지 여부 확인\n",
    "for one in nad2n.loc[nad2n['제작사명'] == productor, ['제원관리번호', '자동차형식', '엔진형식_x', '차명_x']]['제원관리번호'].unique():\n",
    "    if norm.loc[norm['제원관리번호'] == one, ['자동차형식', '엔진형식_x', '차명_x']].shape[0] != 0:\n",
    "        print(one)"
   ]
  },
  {
   "cell_type": "code",
   "execution_count": 71,
   "metadata": {},
   "outputs": [],
   "source": [
    "# nad2n에서 정상 파일과 자동차형식 매칭되는지 여부 확인\n",
    "for one in nad2n.loc[nad2n['제작사명'] == productor, ['제원관리번호', '자동차형식', '엔진형식_x', '차명_x']]['자동차형식'].unique():\n",
    "    if norm.loc[norm['자동차형식'] == one, ['자동차형식', '엔진형식_x', '차명_x']].shape[0] != 0:\n",
    "        print(one)"
   ]
  },
  {
   "cell_type": "code",
   "execution_count": 72,
   "metadata": {},
   "outputs": [],
   "source": [
    "# nad2n에서 정상 파일과 엔진형식 매칭되는지 여부 확인\n",
    "for one in nad2n.loc[nad2n['제작사명'] == productor, ['제원관리번호', '자동차형식', '엔진형식_x', '차명_x']]['엔진형식_x'].unique():\n",
    "    if norm.loc[norm['엔진형식_x'] == one, ['자동차형식', '엔진형식_x', '차명_x']].shape[0] != 0:\n",
    "        print(one)"
   ]
  },
  {
   "cell_type": "code",
   "execution_count": 73,
   "metadata": {},
   "outputs": [],
   "source": [
    "productor = '기아자동차(주)'"
   ]
  },
  {
   "cell_type": "code",
   "execution_count": 74,
   "metadata": {},
   "outputs": [
    {
     "data": {
      "text/html": [
       "<div>\n",
       "<style scoped>\n",
       "    .dataframe tbody tr th:only-of-type {\n",
       "        vertical-align: middle;\n",
       "    }\n",
       "\n",
       "    .dataframe tbody tr th {\n",
       "        vertical-align: top;\n",
       "    }\n",
       "\n",
       "    .dataframe thead th {\n",
       "        text-align: right;\n",
       "    }\n",
       "</style>\n",
       "<table border=\"1\" class=\"dataframe\">\n",
       "  <thead>\n",
       "    <tr style=\"text-align: right;\">\n",
       "      <th></th>\n",
       "      <th>제원관리번호</th>\n",
       "      <th>자동차형식</th>\n",
       "      <th>엔진형식_x</th>\n",
       "      <th>차명_x</th>\n",
       "    </tr>\n",
       "  </thead>\n",
       "  <tbody>\n",
       "    <tr>\n",
       "      <th>660</th>\n",
       "      <td>10000600210000</td>\n",
       "      <td>EZB-75S</td>\n",
       "      <td>ZB</td>\n",
       "      <td>기아뉴복사17</td>\n",
       "    </tr>\n",
       "    <tr>\n",
       "      <th>709</th>\n",
       "      <td>A0110003107913106</td>\n",
       "      <td>SET22E-DRV7</td>\n",
       "      <td>D4BH</td>\n",
       "      <td>봉고Ⅲ 운교차</td>\n",
       "    </tr>\n",
       "  </tbody>\n",
       "</table>\n",
       "</div>"
      ],
      "text/plain": [
       "                제원관리번호        자동차형식 엔진형식_x     차명_x\n",
       "660     10000600210000      EZB-75S     ZB  기아뉴복사17\n",
       "709  A0110003107913106  SET22E-DRV7   D4BH  봉고Ⅲ 운교차"
      ]
     },
     "execution_count": 74,
     "metadata": {},
     "output_type": "execute_result"
    }
   ],
   "source": [
    "nad2n.loc[nad2n['제작사명'] == productor, ['제원관리번호', '자동차형식', '엔진형식_x', '차명_x']]"
   ]
  },
  {
   "cell_type": "code",
   "execution_count": 75,
   "metadata": {},
   "outputs": [],
   "source": [
    "# nad2n에서 정상 파일과 제원관리번호로 매칭되는지 여부 확인\n",
    "for one in nad2n.loc[nad2n['제작사명'] == productor, ['제원관리번호', '자동차형식', '엔진형식_x', '차명_x']]['제원관리번호'].unique():\n",
    "    if norm.loc[norm['제원관리번호'] == one, ['자동차형식', '엔진형식_x', '차명_x']].shape[0] != 0:\n",
    "        print(one)"
   ]
  },
  {
   "cell_type": "code",
   "execution_count": 76,
   "metadata": {},
   "outputs": [],
   "source": [
    "# nad2n에서 정상 파일과 자동차형식 매칭되는지 여부 확인\n",
    "for one in nad2n.loc[nad2n['제작사명'] == productor, ['제원관리번호', '자동차형식', '엔진형식_x', '차명_x']]['자동차형식'].unique():\n",
    "    if norm.loc[norm['자동차형식'] == one, ['자동차형식', '엔진형식_x', '차명_x']].shape[0] != 0:\n",
    "        print(one)"
   ]
  },
  {
   "cell_type": "code",
   "execution_count": 77,
   "metadata": {},
   "outputs": [],
   "source": [
    "# nad2n에서 정상 파일과 엔진형식 매칭되는지 여부 확인\n",
    "for one in nad2n.loc[nad2n['제작사명'] == productor, ['제원관리번호', '자동차형식', '엔진형식_x', '차명_x']]['엔진형식_x'].unique():\n",
    "    if norm.loc[norm['엔진형식_x'] == one, ['자동차형식', '엔진형식_x', '차명_x']].shape[0] != 0:\n",
    "        print(one)"
   ]
  },
  {
   "cell_type": "code",
   "execution_count": 78,
   "metadata": {},
   "outputs": [],
   "source": [
    "productor = '타타대우상용차(주)'"
   ]
  },
  {
   "cell_type": "code",
   "execution_count": 79,
   "metadata": {},
   "outputs": [
    {
     "data": {
      "text/html": [
       "<div>\n",
       "<style scoped>\n",
       "    .dataframe tbody tr th:only-of-type {\n",
       "        vertical-align: middle;\n",
       "    }\n",
       "\n",
       "    .dataframe tbody tr th {\n",
       "        vertical-align: top;\n",
       "    }\n",
       "\n",
       "    .dataframe thead th {\n",
       "        text-align: right;\n",
       "    }\n",
       "</style>\n",
       "<table border=\"1\" class=\"dataframe\">\n",
       "  <thead>\n",
       "    <tr style=\"text-align: right;\">\n",
       "      <th></th>\n",
       "      <th>제원관리번호</th>\n",
       "      <th>자동차형식</th>\n",
       "      <th>엔진형식_x</th>\n",
       "      <th>차명_x</th>\n",
       "    </tr>\n",
       "  </thead>\n",
       "  <tbody>\n",
       "    <tr>\n",
       "      <th>704</th>\n",
       "      <td>A0310007200663306</td>\n",
       "      <td>C3AHF2</td>\n",
       "      <td>F4AE0681B</td>\n",
       "      <td>대우5톤장축카고트럭</td>\n",
       "    </tr>\n",
       "    <tr>\n",
       "      <th>710</th>\n",
       "      <td>A0310007000643306</td>\n",
       "      <td>F7CJF5</td>\n",
       "      <td>DL08</td>\n",
       "      <td>대우9.5톤장축카고트럭</td>\n",
       "    </tr>\n",
       "    <tr>\n",
       "      <th>711</th>\n",
       "      <td>A0310007001823307</td>\n",
       "      <td>F7CKF5</td>\n",
       "      <td>DL08</td>\n",
       "      <td>대우9.5톤장축카고트럭</td>\n",
       "    </tr>\n",
       "  </tbody>\n",
       "</table>\n",
       "</div>"
      ],
      "text/plain": [
       "                제원관리번호   자동차형식     엔진형식_x          차명_x\n",
       "704  A0310007200663306  C3AHF2  F4AE0681B    대우5톤장축카고트럭\n",
       "710  A0310007000643306  F7CJF5       DL08  대우9.5톤장축카고트럭\n",
       "711  A0310007001823307  F7CKF5       DL08  대우9.5톤장축카고트럭"
      ]
     },
     "execution_count": 79,
     "metadata": {},
     "output_type": "execute_result"
    }
   ],
   "source": [
    "nad2n.loc[nad2n['제작사명'] == productor, ['제원관리번호', '자동차형식', '엔진형식_x', '차명_x']]"
   ]
  },
  {
   "cell_type": "code",
   "execution_count": 80,
   "metadata": {},
   "outputs": [],
   "source": [
    "# nad2n에서 정상 파일과 제원관리번호로 매칭되는지 여부 확인\n",
    "for one in nad2n.loc[nad2n['제작사명'] == productor, ['제원관리번호', '자동차형식', '엔진형식_x', '차명_x']]['제원관리번호'].unique():\n",
    "    if norm.loc[norm['제원관리번호'] == one, ['자동차형식', '엔진형식_x', '차명_x']].shape[0] != 0:\n",
    "        print(one)"
   ]
  },
  {
   "cell_type": "code",
   "execution_count": 81,
   "metadata": {},
   "outputs": [],
   "source": [
    "# nad2n에서 정상 파일과 자동차형식 매칭되는지 여부 확인\n",
    "for one in nad2n.loc[nad2n['제작사명'] == productor, ['제원관리번호', '자동차형식', '엔진형식_x', '차명_x']]['자동차형식'].unique():\n",
    "    if norm.loc[norm['자동차형식'] == one, ['자동차형식', '엔진형식_x', '차명_x']].shape[0] != 0:\n",
    "        print(one)"
   ]
  },
  {
   "cell_type": "code",
   "execution_count": 82,
   "metadata": {},
   "outputs": [
    {
     "name": "stdout",
     "output_type": "stream",
     "text": [
      "DL08\n"
     ]
    }
   ],
   "source": [
    "# nad2n에서 정상 파일과 엔진형식 매칭되는지 여부 확인\n",
    "for one in nad2n.loc[nad2n['제작사명'] == productor, ['제원관리번호', '자동차형식', '엔진형식_x', '차명_x']]['엔진형식_x'].unique():\n",
    "    if norm.loc[norm['엔진형식_x'] == one, ['자동차형식', '엔진형식_x', '차명_x']].shape[0] != 0:\n",
    "        print(one)"
   ]
  },
  {
   "cell_type": "code",
   "execution_count": 83,
   "metadata": {},
   "outputs": [
    {
     "data": {
      "text/plain": [
       "(2, 4)"
      ]
     },
     "execution_count": 83,
     "metadata": {},
     "output_type": "execute_result"
    }
   ],
   "source": [
    "nad2n.loc[(nad2n['제작사명'] == productor) & (nad2n['엔진형식_x'] == 'DL08'), ['제원관리번호', '자동차형식', '엔진형식_x', '차명_x']].shape"
   ]
  },
  {
   "attachments": {},
   "cell_type": "markdown",
   "metadata": {},
   "source": [
    "#### 제작사 이상 차량 배인번호 확인"
   ]
  },
  {
   "cell_type": "code",
   "execution_count": 84,
   "metadata": {},
   "outputs": [
    {
     "data": {
      "text/plain": [
       "Index(['차대번호', '차량번호_x', '제원관리번호', '차종_원본', '용도', '최초등록일', '연식', '제작일자',\n",
       "       '검사유효일', '배출가스인증번호', '등급', '차명_x', '차종분류', '차종유형', '자동차형식', '제작사명',\n",
       "       '연료', '엔진형식_x', '총중량', '적재중량', '엔진출력', '배기량', '법정동코드', '시도명', '시군구명',\n",
       "       '소유자구분', '말소여부', '일치유무', '사용연료', '주행거리', '차명_y', '차량번호_y', '차종', '차량연식',\n",
       "       '엔진형식_y', '검사방법', '검사일자', '검사종류', '검사판정시각', '검사판정', '산소값', '이산화탄소값',\n",
       "       '무부하매연판정1', '무부하매연판정2', '무부하매연판정3', '무부하매연판정4', '무부하매연판정5', '무부하매연판정6',\n",
       "       '무부하매연허용치1', '무부하매연허용치2', '무부하매연허용치3', '무부하매연허용치4', '무부하매연허용치5',\n",
       "       '무부하매연허용치6', '무부하매연측정치1', '무부하매연측정치2', '무부하매연측정치3', '무부하매연측정치4',\n",
       "       '무부하매연측정치5', '무부하매연측정치6', '정기정밀', 'vin10', 'vin_year', 'DPF유무',\n",
       "       '배인번호_수정', '등급_수정', 'DPF유무_수정', '확인유무', '비고'],\n",
       "      dtype='object')"
      ]
     },
     "execution_count": 84,
     "metadata": {},
     "output_type": "execute_result"
    }
   ],
   "source": [
    "norm.columns"
   ]
  },
  {
   "cell_type": "code",
   "execution_count": 85,
   "metadata": {},
   "outputs": [
    {
     "data": {
      "text/html": [
       "<div>\n",
       "<style scoped>\n",
       "    .dataframe tbody tr th:only-of-type {\n",
       "        vertical-align: middle;\n",
       "    }\n",
       "\n",
       "    .dataframe tbody tr th {\n",
       "        vertical-align: top;\n",
       "    }\n",
       "\n",
       "    .dataframe thead th {\n",
       "        text-align: right;\n",
       "    }\n",
       "</style>\n",
       "<table border=\"1\" class=\"dataframe\">\n",
       "  <thead>\n",
       "    <tr style=\"text-align: right;\">\n",
       "      <th></th>\n",
       "      <th>차량번호_x</th>\n",
       "      <th>배출가스인증번호</th>\n",
       "      <th>배인번호_수정</th>\n",
       "      <th>차명_x</th>\n",
       "      <th>배기량</th>\n",
       "    </tr>\n",
       "  </thead>\n",
       "  <tbody>\n",
       "  </tbody>\n",
       "</table>\n",
       "</div>"
      ],
      "text/plain": [
       "Empty DataFrame\n",
       "Columns: [차량번호_x, 배출가스인증번호, 배인번호_수정, 차명_x, 배기량]\n",
       "Index: []"
      ]
     },
     "execution_count": 85,
     "metadata": {},
     "output_type": "execute_result"
    }
   ],
   "source": [
    "norm.loc[norm['차량번호_x'] == '97머1186', ['차량번호_x', '배출가스인증번호', '배인번호_수정', '차명_x', '배기량']]"
   ]
  },
  {
   "cell_type": "code",
   "execution_count": 86,
   "metadata": {},
   "outputs": [
    {
     "data": {
      "text/html": [
       "<div>\n",
       "<style scoped>\n",
       "    .dataframe tbody tr th:only-of-type {\n",
       "        vertical-align: middle;\n",
       "    }\n",
       "\n",
       "    .dataframe tbody tr th {\n",
       "        vertical-align: top;\n",
       "    }\n",
       "\n",
       "    .dataframe thead th {\n",
       "        text-align: right;\n",
       "    }\n",
       "</style>\n",
       "<table border=\"1\" class=\"dataframe\">\n",
       "  <thead>\n",
       "    <tr style=\"text-align: right;\">\n",
       "      <th></th>\n",
       "      <th>차량번호_x</th>\n",
       "      <th>배출가스인증번호</th>\n",
       "      <th>배인번호_수정</th>\n",
       "      <th>차명_x</th>\n",
       "      <th>배기량</th>\n",
       "      <th>제작사명</th>\n",
       "    </tr>\n",
       "  </thead>\n",
       "  <tbody>\n",
       "    <tr>\n",
       "      <th>4007</th>\n",
       "      <td>97머1186</td>\n",
       "      <td>7MY-HD-24-31</td>\n",
       "      <td>NaN</td>\n",
       "      <td>부커셰링노면청소차</td>\n",
       "      <td>9960</td>\n",
       "      <td>부커셰링코리아 (주)</td>\n",
       "    </tr>\n",
       "  </tbody>\n",
       "</table>\n",
       "</div>"
      ],
      "text/plain": [
       "       차량번호_x      배출가스인증번호  배인번호_수정       차명_x   배기량         제작사명\n",
       "4007  97머1186  7MY-HD-24-31      NaN  부커셰링노면청소차  9960  부커셰링코리아 (주)"
      ]
     },
     "execution_count": 86,
     "metadata": {},
     "output_type": "execute_result"
    }
   ],
   "source": [
    "weird.loc[weird['차량번호_x'] == '97머1186', ['차량번호_x', '배출가스인증번호', '배인번호_수정', '차명_x', '배기량', '제작사명']]"
   ]
  },
  {
   "cell_type": "code",
   "execution_count": 87,
   "metadata": {},
   "outputs": [
    {
     "data": {
      "text/html": [
       "<div>\n",
       "<style scoped>\n",
       "    .dataframe tbody tr th:only-of-type {\n",
       "        vertical-align: middle;\n",
       "    }\n",
       "\n",
       "    .dataframe tbody tr th {\n",
       "        vertical-align: top;\n",
       "    }\n",
       "\n",
       "    .dataframe thead th {\n",
       "        text-align: right;\n",
       "    }\n",
       "</style>\n",
       "<table border=\"1\" class=\"dataframe\">\n",
       "  <thead>\n",
       "    <tr style=\"text-align: right;\">\n",
       "      <th></th>\n",
       "      <th>차량번호_x</th>\n",
       "      <th>배출가스인증번호</th>\n",
       "      <th>배인번호_수정</th>\n",
       "      <th>차명_x</th>\n",
       "      <th>배기량</th>\n",
       "      <th>제작사명</th>\n",
       "    </tr>\n",
       "  </thead>\n",
       "  <tbody>\n",
       "    <tr>\n",
       "      <th>0</th>\n",
       "      <td>49서0454</td>\n",
       "      <td>5MY-HD-24-59</td>\n",
       "      <td>NaN</td>\n",
       "      <td>푸조 407SW HDi FAP A6</td>\n",
       "      <td>1997</td>\n",
       "      <td>한불모터스(주)</td>\n",
       "    </tr>\n",
       "    <tr>\n",
       "      <th>1</th>\n",
       "      <td>18고1834</td>\n",
       "      <td>5MY-HD-24-59</td>\n",
       "      <td>NaN</td>\n",
       "      <td>푸조 407SW HDi FAP A6</td>\n",
       "      <td>1997</td>\n",
       "      <td>한불모터스(주)</td>\n",
       "    </tr>\n",
       "    <tr>\n",
       "      <th>2</th>\n",
       "      <td>48무1069</td>\n",
       "      <td>5MY-HD-24-59</td>\n",
       "      <td>NaN</td>\n",
       "      <td>푸조 407SW HDi FAP A6</td>\n",
       "      <td>1997</td>\n",
       "      <td>한불모터스(주)</td>\n",
       "    </tr>\n",
       "    <tr>\n",
       "      <th>3</th>\n",
       "      <td>08가7994</td>\n",
       "      <td>5MY-HD-24-59</td>\n",
       "      <td>NaN</td>\n",
       "      <td>푸조 407SW HDi FAP A6</td>\n",
       "      <td>1997</td>\n",
       "      <td>한불모터스(주)</td>\n",
       "    </tr>\n",
       "    <tr>\n",
       "      <th>4</th>\n",
       "      <td>11더6069</td>\n",
       "      <td>5MY-HD-24-59</td>\n",
       "      <td>NaN</td>\n",
       "      <td>푸조 407SW HDi FAP A6</td>\n",
       "      <td>1997</td>\n",
       "      <td>한불모터스(주)</td>\n",
       "    </tr>\n",
       "    <tr>\n",
       "      <th>5</th>\n",
       "      <td>39거7049</td>\n",
       "      <td>5MY-HD-24-59</td>\n",
       "      <td>NaN</td>\n",
       "      <td>푸조 407SW HDi FAP A6</td>\n",
       "      <td>1997</td>\n",
       "      <td>한불모터스(주)</td>\n",
       "    </tr>\n",
       "    <tr>\n",
       "      <th>6</th>\n",
       "      <td>17우0145</td>\n",
       "      <td>5MY-HD-24-59</td>\n",
       "      <td>NaN</td>\n",
       "      <td>푸조 407SW HDi FAP A6</td>\n",
       "      <td>1997</td>\n",
       "      <td>한불모터스(주)</td>\n",
       "    </tr>\n",
       "    <tr>\n",
       "      <th>7</th>\n",
       "      <td>43마3375</td>\n",
       "      <td>5MY-HD-24-59</td>\n",
       "      <td>NaN</td>\n",
       "      <td>푸조 407SW HDi FAP A6</td>\n",
       "      <td>1997</td>\n",
       "      <td>한불모터스(주)</td>\n",
       "    </tr>\n",
       "  </tbody>\n",
       "</table>\n",
       "</div>"
      ],
      "text/plain": [
       "    차량번호_x      배출가스인증번호  배인번호_수정                 차명_x   배기량      제작사명\n",
       "0  49서0454  5MY-HD-24-59      NaN  푸조 407SW HDi FAP A6  1997  한불모터스(주)\n",
       "1  18고1834  5MY-HD-24-59      NaN  푸조 407SW HDi FAP A6  1997  한불모터스(주)\n",
       "2  48무1069  5MY-HD-24-59      NaN  푸조 407SW HDi FAP A6  1997  한불모터스(주)\n",
       "3  08가7994  5MY-HD-24-59      NaN  푸조 407SW HDi FAP A6  1997  한불모터스(주)\n",
       "4  11더6069  5MY-HD-24-59      NaN  푸조 407SW HDi FAP A6  1997  한불모터스(주)\n",
       "5  39거7049  5MY-HD-24-59      NaN  푸조 407SW HDi FAP A6  1997  한불모터스(주)\n",
       "6  17우0145  5MY-HD-24-59      NaN  푸조 407SW HDi FAP A6  1997  한불모터스(주)\n",
       "7  43마3375  5MY-HD-24-59      NaN  푸조 407SW HDi FAP A6  1997  한불모터스(주)"
      ]
     },
     "execution_count": 87,
     "metadata": {},
     "output_type": "execute_result"
    }
   ],
   "source": [
    "weird.loc[weird['제작사명'] == '한불모터스(주)', ['차량번호_x', '배출가스인증번호', '배인번호_수정', '차명_x', '배기량', '제작사명']]"
   ]
  },
  {
   "cell_type": "code",
   "execution_count": 88,
   "metadata": {},
   "outputs": [
    {
     "data": {
      "text/html": [
       "<div>\n",
       "<style scoped>\n",
       "    .dataframe tbody tr th:only-of-type {\n",
       "        vertical-align: middle;\n",
       "    }\n",
       "\n",
       "    .dataframe tbody tr th {\n",
       "        vertical-align: top;\n",
       "    }\n",
       "\n",
       "    .dataframe thead th {\n",
       "        text-align: right;\n",
       "    }\n",
       "</style>\n",
       "<table border=\"1\" class=\"dataframe\">\n",
       "  <thead>\n",
       "    <tr style=\"text-align: right;\">\n",
       "      <th></th>\n",
       "      <th>차량번호_x</th>\n",
       "      <th>배출가스인증번호</th>\n",
       "      <th>배인번호_수정</th>\n",
       "      <th>차명_x</th>\n",
       "    </tr>\n",
       "  </thead>\n",
       "  <tbody>\n",
       "  </tbody>\n",
       "</table>\n",
       "</div>"
      ],
      "text/plain": [
       "Empty DataFrame\n",
       "Columns: [차량번호_x, 배출가스인증번호, 배인번호_수정, 차명_x]\n",
       "Index: []"
      ]
     },
     "execution_count": 88,
     "metadata": {},
     "output_type": "execute_result"
    }
   ],
   "source": [
    "norm.loc[(norm['배출가스인증번호'] == '7MY-KM-14-63') & (norm['차명_x'] == '짚 랭글러'), ['차량번호_x', '배출가스인증번호', '배인번호_수정', '차명_x']]"
   ]
  },
  {
   "cell_type": "code",
   "execution_count": 89,
   "metadata": {},
   "outputs": [
    {
     "data": {
      "text/html": [
       "<div>\n",
       "<style scoped>\n",
       "    .dataframe tbody tr th:only-of-type {\n",
       "        vertical-align: middle;\n",
       "    }\n",
       "\n",
       "    .dataframe tbody tr th {\n",
       "        vertical-align: top;\n",
       "    }\n",
       "\n",
       "    .dataframe thead th {\n",
       "        text-align: right;\n",
       "    }\n",
       "</style>\n",
       "<table border=\"1\" class=\"dataframe\">\n",
       "  <thead>\n",
       "    <tr style=\"text-align: right;\">\n",
       "      <th></th>\n",
       "      <th>차량번호_x</th>\n",
       "      <th>배출가스인증번호</th>\n",
       "      <th>배인번호_수정</th>\n",
       "      <th>차명_x</th>\n",
       "    </tr>\n",
       "  </thead>\n",
       "  <tbody>\n",
       "    <tr>\n",
       "      <th>4117</th>\n",
       "      <td>67너1717</td>\n",
       "      <td>7MY-KM-14-63</td>\n",
       "      <td>NaN</td>\n",
       "      <td>짚 랭글러</td>\n",
       "    </tr>\n",
       "    <tr>\n",
       "      <th>4118</th>\n",
       "      <td>38고9685</td>\n",
       "      <td>7MY-KM-14-63</td>\n",
       "      <td>NaN</td>\n",
       "      <td>짚 랭글러</td>\n",
       "    </tr>\n",
       "    <tr>\n",
       "      <th>4119</th>\n",
       "      <td>58부2620</td>\n",
       "      <td>7MY-KM-14-63</td>\n",
       "      <td>NaN</td>\n",
       "      <td>짚 랭글러</td>\n",
       "    </tr>\n",
       "    <tr>\n",
       "      <th>4120</th>\n",
       "      <td>28가2625</td>\n",
       "      <td>7MY-KM-14-63</td>\n",
       "      <td>NaN</td>\n",
       "      <td>짚 랭글러</td>\n",
       "    </tr>\n",
       "    <tr>\n",
       "      <th>4121</th>\n",
       "      <td>13어3961</td>\n",
       "      <td>7MY-KM-14-63</td>\n",
       "      <td>NaN</td>\n",
       "      <td>짚 랭글러</td>\n",
       "    </tr>\n",
       "    <tr>\n",
       "      <th>...</th>\n",
       "      <td>...</td>\n",
       "      <td>...</td>\n",
       "      <td>...</td>\n",
       "      <td>...</td>\n",
       "    </tr>\n",
       "    <tr>\n",
       "      <th>4238</th>\n",
       "      <td>37너6849</td>\n",
       "      <td>7MY-KM-14-63</td>\n",
       "      <td>NaN</td>\n",
       "      <td>짚 랭글러</td>\n",
       "    </tr>\n",
       "    <tr>\n",
       "      <th>4239</th>\n",
       "      <td>35로2361</td>\n",
       "      <td>7MY-KM-14-63</td>\n",
       "      <td>NaN</td>\n",
       "      <td>짚 랭글러</td>\n",
       "    </tr>\n",
       "    <tr>\n",
       "      <th>4240</th>\n",
       "      <td>27소2023</td>\n",
       "      <td>7MY-KM-14-63</td>\n",
       "      <td>NaN</td>\n",
       "      <td>짚 랭글러</td>\n",
       "    </tr>\n",
       "    <tr>\n",
       "      <th>4241</th>\n",
       "      <td>26누9305</td>\n",
       "      <td>7MY-KM-14-63</td>\n",
       "      <td>NaN</td>\n",
       "      <td>짚 랭글러</td>\n",
       "    </tr>\n",
       "    <tr>\n",
       "      <th>4242</th>\n",
       "      <td>37버3066</td>\n",
       "      <td>7MY-KM-14-63</td>\n",
       "      <td>NaN</td>\n",
       "      <td>짚 랭글러</td>\n",
       "    </tr>\n",
       "  </tbody>\n",
       "</table>\n",
       "<p>124 rows × 4 columns</p>\n",
       "</div>"
      ],
      "text/plain": [
       "       차량번호_x      배출가스인증번호  배인번호_수정   차명_x\n",
       "4117  67너1717  7MY-KM-14-63      NaN  짚 랭글러\n",
       "4118  38고9685  7MY-KM-14-63      NaN  짚 랭글러\n",
       "4119  58부2620  7MY-KM-14-63      NaN  짚 랭글러\n",
       "4120  28가2625  7MY-KM-14-63      NaN  짚 랭글러\n",
       "4121  13어3961  7MY-KM-14-63      NaN  짚 랭글러\n",
       "...       ...           ...      ...    ...\n",
       "4238  37너6849  7MY-KM-14-63      NaN  짚 랭글러\n",
       "4239  35로2361  7MY-KM-14-63      NaN  짚 랭글러\n",
       "4240  27소2023  7MY-KM-14-63      NaN  짚 랭글러\n",
       "4241  26누9305  7MY-KM-14-63      NaN  짚 랭글러\n",
       "4242  37버3066  7MY-KM-14-63      NaN  짚 랭글러\n",
       "\n",
       "[124 rows x 4 columns]"
      ]
     },
     "execution_count": 89,
     "metadata": {},
     "output_type": "execute_result"
    }
   ],
   "source": [
    "weird.loc[(weird['배출가스인증번호'] == '7MY-KM-14-63') & (weird['차명_x'] == '짚 랭글러'), ['차량번호_x', '배출가스인증번호', '배인번호_수정', '차명_x']]"
   ]
  },
  {
   "cell_type": "code",
   "execution_count": 90,
   "metadata": {},
   "outputs": [
    {
     "data": {
      "text/html": [
       "<div>\n",
       "<style scoped>\n",
       "    .dataframe tbody tr th:only-of-type {\n",
       "        vertical-align: middle;\n",
       "    }\n",
       "\n",
       "    .dataframe tbody tr th {\n",
       "        vertical-align: top;\n",
       "    }\n",
       "\n",
       "    .dataframe thead th {\n",
       "        text-align: right;\n",
       "    }\n",
       "</style>\n",
       "<table border=\"1\" class=\"dataframe\">\n",
       "  <thead>\n",
       "    <tr style=\"text-align: right;\">\n",
       "      <th></th>\n",
       "      <th>배출가스인증번호</th>\n",
       "      <th>배인번호_수정</th>\n",
       "    </tr>\n",
       "  </thead>\n",
       "  <tbody>\n",
       "  </tbody>\n",
       "</table>\n",
       "</div>"
      ],
      "text/plain": [
       "Empty DataFrame\n",
       "Columns: [배출가스인증번호, 배인번호_수정]\n",
       "Index: []"
      ]
     },
     "execution_count": 90,
     "metadata": {},
     "output_type": "execute_result"
    }
   ],
   "source": [
    "nad1y.loc[nad1y['차량번호_x'] == '42오6988', ['배출가스인증번호', '배인번호_수정']]"
   ]
  },
  {
   "cell_type": "code",
   "execution_count": 91,
   "metadata": {},
   "outputs": [
    {
     "data": {
      "text/html": [
       "<div>\n",
       "<style scoped>\n",
       "    .dataframe tbody tr th:only-of-type {\n",
       "        vertical-align: middle;\n",
       "    }\n",
       "\n",
       "    .dataframe tbody tr th {\n",
       "        vertical-align: top;\n",
       "    }\n",
       "\n",
       "    .dataframe thead th {\n",
       "        text-align: right;\n",
       "    }\n",
       "</style>\n",
       "<table border=\"1\" class=\"dataframe\">\n",
       "  <thead>\n",
       "    <tr style=\"text-align: right;\">\n",
       "      <th></th>\n",
       "      <th>배출가스인증번호</th>\n",
       "      <th>배인번호_수정</th>\n",
       "    </tr>\n",
       "  </thead>\n",
       "  <tbody>\n",
       "  </tbody>\n",
       "</table>\n",
       "</div>"
      ],
      "text/plain": [
       "Empty DataFrame\n",
       "Columns: [배출가스인증번호, 배인번호_수정]\n",
       "Index: []"
      ]
     },
     "execution_count": 91,
     "metadata": {},
     "output_type": "execute_result"
    }
   ],
   "source": [
    "nad2y.loc[nad2y['차량번호_x'] == '48누2889', ['배출가스인증번호', '배인번호_수정']]"
   ]
  },
  {
   "attachments": {},
   "cell_type": "markdown",
   "metadata": {},
   "source": [
    "## 제작사 이상\n",
    "- 4849 -> 4704, 145 개 처리 "
   ]
  },
  {
   "attachments": {},
   "cell_type": "markdown",
   "metadata": {},
   "source": [
    "### [출력] weird 파일"
   ]
  },
  {
   "cell_type": "code",
   "execution_count": 131,
   "metadata": {},
   "outputs": [],
   "source": [
    "weird.to_csv(os.path.join(weird_fold, 'weird.csv'), index=False, encoding='cp949')"
   ]
  },
  {
   "cell_type": "code",
   "execution_count": 132,
   "metadata": {},
   "outputs": [
    {
     "data": {
      "text/plain": [
       "Index(['차대번호', '차량번호_x', '제원관리번호', '차종_원본', '용도', '최초등록일', '연식', '제작일자',\n",
       "       '검사유효일', '배출가스인증번호', '등급', '차명_x', '차종분류', '차종유형', '자동차형식', '제작사명',\n",
       "       '연료', '엔진형식_x', '총중량', '적재중량', '엔진출력', '배기량', '법정동코드', '시도명', '시군구명',\n",
       "       '소유자구분', '말소여부', '일치유무', '사용연료', '주행거리', '차명_y', '차량번호_y', '차종', '차량연식',\n",
       "       '엔진형식_y', '검사방법', '검사일자', '검사종류', '검사판정시각', '검사판정', '산소값', '이산화탄소값',\n",
       "       '무부하매연판정1', '무부하매연판정2', '무부하매연판정3', '무부하매연판정4', '무부하매연판정5', '무부하매연판정6',\n",
       "       '무부하매연허용치1', '무부하매연허용치2', '무부하매연허용치3', '무부하매연허용치4', '무부하매연허용치5',\n",
       "       '무부하매연허용치6', '무부하매연측정치1', '무부하매연측정치2', '무부하매연측정치3', '무부하매연측정치4',\n",
       "       '무부하매연측정치5', '무부하매연측정치6', '정기정밀', 'vin10', 'vin_year', 'DPF유무',\n",
       "       '배인번호_수정', '등급_수정', 'DPF유무_수정', '확인유무', '비고'],\n",
       "      dtype='object')"
      ]
     },
     "execution_count": 132,
     "metadata": {},
     "output_type": "execute_result"
    }
   ],
   "source": [
    "weird.columns"
   ]
  },
  {
   "attachments": {},
   "cell_type": "markdown",
   "metadata": {},
   "source": [
    "### 1\\. 유로4인증대장과 매칭"
   ]
  },
  {
   "cell_type": "code",
   "execution_count": 133,
   "metadata": {},
   "outputs": [
    {
     "data": {
      "text/plain": [
       "array(['한불모터스(주)', '(주)팔도', '비엠더블유코리아(주)', '영일특장(주)', '한국쓰리축공업(주)',\n",
       "       '한국특장기술(주)', '(주)한국토미', '(주)함코', '(주)한국메리트특장', '(주)한국쓰리축', '정부쓰리축',\n",
       "       '(주)방원테크', '(주)화이어텍', '(주) 에이엠특장', '원천특장공업주식회사', '(주)새한에어서스펜션',\n",
       "       '(주)동양특장', '(주)포멕특장', '한빛테크원(주)', '(유)삼능기계', '(주)부성특장', '(주)우양',\n",
       "       '(주)나노메딕스', '(주)수산중공업', '(주) 두성하-드텍', '한신특장', '(주)대양특장',\n",
       "       '(주) 강남기공', '(주)지엠케이', '(주)광림', '(주) 진화이앤씨', '(주)에이엔디오토모빌',\n",
       "       '(주)우리특장', '정우정공 (주)', '탱크코리아(주)', '한국특장 (주)', '대지정공(주)',\n",
       "       '(주) 삼오특장자동차', '부커셰링코리아 (주)', '(주) 골드밴', '삼우중공업(주)', '한국후3축',\n",
       "       '베스텍특장', '(주)호룡', '(주)신광테크놀러지', '신정개발특장차 주식회사', '(주)화인특장',\n",
       "       '고려특장(주)', '(주)우성특장', '주식회사 씨엔에스티', '해광산업사', '일성산업', '(주)서보테크',\n",
       "       '건민특장 주식회사', '대경특장(주)', '에스알(주)', '(주)노바스코리아', '동양자동차공업(주)',\n",
       "       '수성특장(주)', '선진정공(주)', '(주)태경이엔지', '(주)드림티엔에스', '동아탑정비공업사',\n",
       "       '(주)한국차체', '카고텍코리아(주)', '광림특장차 주식회사', '(주)수산씨에스엠', '(주)세인이엔지',\n",
       "       '주식회사 유아이테크', '씨제이대한통운(주)', '코리아특장', '형제특장 주식회사',\n",
       "       '주식회사 카셈(KASEM Co.,Ltd)', '대흥특장정공 (주)', '유비통상(주)', '계백자동차(주)',\n",
       "       '남영코리아화이어트럭(주)', '(주) 고호산업', '대한특장', '카써스(주)', '(유)대원오토',\n",
       "       '르노삼성자동차(주)', '(주) 맥써버모터스', '로쏘엠', '(주)알텍', '에프씨에이코리아(주)',\n",
       "       '기아자동차(주)', '(주) 오텍', '창림모아츠(주)', '세화자동차', '(주)마노', '(주)맥스리무진',\n",
       "       '고려에스티엠(주)', '카올넷', '(주)세정모터스', '(주)엘위포투', nan, '(주)성진테크',\n",
       "       '(주)밴텍캠핑카', '(주)애드터치', '해양산업', '씨엔라인', '원진(주)',\n",
       "       '주식회사 평강비아이엠(B.I.M)', '엠에스특장공업(주)', '(주)동해기계항공', '(주)다산중공업',\n",
       "       '신제일정공(주)', '주식회사 한서정공', '(주)삼성특장', '녹산대진특장차', '신성엔지니어링',\n",
       "       '반도특장(주)', '(주)진우에스엠씨', '(주)에코카', '(주)뉴텍티앤엠', '주식회사 천하',\n",
       "       '이텍산업 주식회사', '한아에스에스(주)', '제일F.R.P산업', '(주)가이젠캠핑카', '디앨 주식회사',\n",
       "       '우림특장산업', '(주)화성특장', '(주)케이지비고려골든박스', '(주)에버다임', '(주)대진정공',\n",
       "       '도원자동차공업 (주)', '한국상용트럭(주)', '(주)한성특장', '(주)미동이엔씨', '(주)뉴테크특장',\n",
       "       '쌍용자동차(주)', '(주)사자후', '(주)무빙애드', '대구시소방본부', '(주)승신', '(주)에이엠티코리아',\n",
       "       '드림특장(주)', '제이에스이엔지', '(주)용진특장', '(주)엠뱅크', '라헬(주)', '동아특장공업사',\n",
       "       '현대자동차(주)', '(주)삼부'], dtype=object)"
      ]
     },
     "execution_count": 133,
     "metadata": {},
     "output_type": "execute_result"
    }
   ],
   "source": [
    "weird['제작사명'].unique()"
   ]
  },
  {
   "cell_type": "code",
   "execution_count": 134,
   "metadata": {},
   "outputs": [],
   "source": [
    "# 한불모터스(주)\n",
    "# 비엠더블유코리아(주)\n",
    "# 르노삼성자동차(주)\n",
    "# 에프씨에이코리아(주)\n",
    "# 기아자동차(주)\n",
    "# 쌍용자동차(주)\n",
    "# 현대자동차(주)"
   ]
  },
  {
   "cell_type": "code",
   "execution_count": 135,
   "metadata": {},
   "outputs": [],
   "source": [
    "# 유로4 / result파일\n",
    "# 제작사명 : 푸조 / 한불모터스(주)\n",
    "# 배기량\n",
    "# {1997 : '5MY-HB-14-1', 2721 : '5MY-HB-14-4', 1560 : '8MY-HB-14-1'}"
   ]
  },
  {
   "cell_type": "code",
   "execution_count": 136,
   "metadata": {},
   "outputs": [],
   "source": [
    "# 유로4 / result파일\n",
    "# 제작사명 : 크라이슬러 / 에프씨에이코리아(주)\n",
    "# 차명으로 매칭\n",
    "# {'300C' : '6MY-DK-14-1', '짚 커맨더' : '6MY-DK-14-2', '니트로' : '7MY-DK-14-4', '짚 니트로' : '7MY-DK-14-4', '짚 랭글러' : '7MY-DK-14-5', '짚그랜드체로키' : '8MY-DK-14-01, '짚 그랜드 체로키' : '8MY-DK-14-01', '그랜드 보이저' : '8MY-DK-14-02', '세브링' : '8MY-DK-14-06'}"
   ]
  },
  {
   "cell_type": "code",
   "execution_count": 137,
   "metadata": {},
   "outputs": [],
   "source": [
    "# 8, 4841(y, n)\n",
    "productor = '한불모터스(주)'\n",
    "dict1 = {1997 : '5MY-HB-14-1', 2721 : '5MY-HB-14-4', 1560 : '8MY-HB-14-1'}\n",
    "for k, v in dict1.items():\n",
    "    weird.loc[(weird['제작사명'] == productor) & (weird['배기량'] == k), '배인번호_수정'] = v"
   ]
  },
  {
   "cell_type": "code",
   "execution_count": 139,
   "metadata": {},
   "outputs": [],
   "source": [
    "# 132, 4717\n",
    "productor = '에프씨에이코리아(주)'\n",
    "dict2 = {'300C' : '6MY-DK-14-1', '짚 커맨더' : '6MY-DK-14-2', '니트로' : '7MY-DK-14-4', '짚 니트로' : '7MY-DK-14-4', '짚 랭글러' : '7MY-DK-14-5', \n",
    "         '짚그랜드체로키' : '8MY-DK-14-01', '짚 그랜드 체로키' : '8MY-DK-14-01', '그랜드 보이저' : '8MY-DK-14-02', '세브링' : '8MY-DK-14-06'}\n",
    "for k, v in dict2.items():\n",
    "    weird.loc[(weird['제작사명'] == productor) & (weird['차명_x'] == k), '배인번호_수정'] = v"
   ]
  },
  {
   "cell_type": "code",
   "execution_count": 140,
   "metadata": {},
   "outputs": [
    {
     "data": {
      "text/plain": [
       "((132, 69), (4717, 69))"
      ]
     },
     "execution_count": 140,
     "metadata": {},
     "output_type": "execute_result"
    }
   ],
   "source": [
    "weird1y = weird.loc[weird['배인번호_수정'].isnull() == False].reset_index(drop=True)\n",
    "weird1n = weird.loc[weird['배인번호_수정'].isnull() == True].reset_index(drop=True)\n",
    "weird1y.shape, weird1n.shape"
   ]
  },
  {
   "cell_type": "code",
   "execution_count": 141,
   "metadata": {},
   "outputs": [
    {
     "data": {
      "text/plain": [
       "(8, 3)"
      ]
     },
     "execution_count": 141,
     "metadata": {},
     "output_type": "execute_result"
    }
   ],
   "source": [
    "weird.loc[weird['제작사명'] == '한불모터스(주)', ['배출가스인증번호', '배인번호_수정', '제작사명']].shape"
   ]
  },
  {
   "cell_type": "code",
   "execution_count": 142,
   "metadata": {},
   "outputs": [
    {
     "data": {
      "text/plain": [
       "(127, 4)"
      ]
     },
     "execution_count": 142,
     "metadata": {},
     "output_type": "execute_result"
    }
   ],
   "source": [
    "weird.loc[weird['제작사명'] == '에프씨에이코리아(주)', ['배출가스인증번호', '배인번호_수정', '제작사명', '차명_x']].shape"
   ]
  },
  {
   "cell_type": "code",
   "execution_count": 143,
   "metadata": {},
   "outputs": [
    {
     "data": {
      "text/plain": [
       "(124, 4)"
      ]
     },
     "execution_count": 143,
     "metadata": {},
     "output_type": "execute_result"
    }
   ],
   "source": [
    "weird.loc[(weird['제작사명'] == '에프씨에이코리아(주)') & (weird['차명_x'] == '짚 랭글러'), ['배출가스인증번호', '배인번호_수정', '제작사명', '차명_x']].shape"
   ]
  },
  {
   "cell_type": "code",
   "execution_count": 144,
   "metadata": {},
   "outputs": [
    {
     "data": {
      "text/plain": [
       "4717"
      ]
     },
     "execution_count": 144,
     "metadata": {},
     "output_type": "execute_result"
    }
   ],
   "source": [
    "weird['배인번호_수정'].isnull().sum()"
   ]
  },
  {
   "attachments": {},
   "cell_type": "markdown",
   "metadata": {},
   "source": [
    "#### [출력] 처리된 제작사 이상 차량1"
   ]
  },
  {
   "cell_type": "code",
   "execution_count": 145,
   "metadata": {},
   "outputs": [],
   "source": [
    "weird1y.to_csv(os.path.join(weird_fold, 'weird1y.csv'), index=False, encoding='cp949')\n",
    "weird1n.to_csv(os.path.join(weird_fold, 'weird1n.csv'), index=False, encoding='cp949')"
   ]
  },
  {
   "attachments": {},
   "cell_type": "markdown",
   "metadata": {},
   "source": [
    "### 2\\. 정상 데이터와 비교\n",
    "- 총 4717\n",
    "- 제번, 자형, 엔형 매칭 : \n",
    "- 자형, 엔형 매칭 : 13"
   ]
  },
  {
   "cell_type": "code",
   "execution_count": 146,
   "metadata": {},
   "outputs": [
    {
     "name": "stderr",
     "output_type": "stream",
     "text": [
      "100%|██████████| 4461/4461 [00:04<00:00, 989.79it/s] \n"
     ]
    }
   ],
   "source": [
    "for emis, no, car, engine in tqdm(match_data):\n",
    "    # weird1n.loc[(weird1n['제원관리번호'] == no) & (weird1n['자동차형식'] == car) & (weird1n['엔진형식_x'] == engine), '배인번호_수정'] = emis\n",
    "    weird1n.loc[(weird1n['자동차형식'] == car) & (weird1n['엔진형식_x'] == engine), '배인번호_수정'] = emis"
   ]
  },
  {
   "cell_type": "code",
   "execution_count": 147,
   "metadata": {},
   "outputs": [
    {
     "data": {
      "text/plain": [
       "((13, 69), (4704, 69))"
      ]
     },
     "execution_count": 147,
     "metadata": {},
     "output_type": "execute_result"
    }
   ],
   "source": [
    "weird2y = weird1n.loc[weird1n['배인번호_수정'].isnull() == False].reset_index(drop=True)\n",
    "weird2n = weird1n.loc[weird1n['배인번호_수정'].isnull() == True].reset_index(drop=True)\n",
    "weird2y.shape, weird2n.shape"
   ]
  },
  {
   "attachments": {},
   "cell_type": "markdown",
   "metadata": {},
   "source": [
    "#### [출력] 처리된 제작사 이상 차량2"
   ]
  },
  {
   "cell_type": "code",
   "execution_count": 148,
   "metadata": {},
   "outputs": [],
   "source": [
    "weird2y.to_csv(os.path.join(weird_fold, 'weird2y.csv'), index=False, encoding='cp949')\n",
    "weird2n.to_csv(os.path.join(weird_fold, 'weird2n.csv'), index=False, encoding='cp949')"
   ]
  },
  {
   "attachments": {},
   "cell_type": "markdown",
   "metadata": {},
   "source": [
    "### 남은 차량 중 메이저 제작사 확인\n",
    "- 에프씨에이코리아(주), 기아자동차(주)"
   ]
  },
  {
   "cell_type": "code",
   "execution_count": 149,
   "metadata": {},
   "outputs": [
    {
     "data": {
      "text/plain": [
       "array(['(주)팔도', '영일특장(주)', '한국쓰리축공업(주)', '한국특장기술(주)', '(주)한국토미', '(주)함코',\n",
       "       '(주)한국메리트특장', '(주)한국쓰리축', '정부쓰리축', '(주)방원테크', '(주)화이어텍',\n",
       "       '(주) 에이엠특장', '원천특장공업주식회사', '(주)새한에어서스펜션', '(주)동양특장', '(주)포멕특장',\n",
       "       '한빛테크원(주)', '(유)삼능기계', '(주)부성특장', '(주)우양', '(주)나노메딕스', '(주)수산중공업',\n",
       "       '(주) 두성하-드텍', '한신특장', '(주)대양특장', '(주) 강남기공', '(주)지엠케이', '(주)광림',\n",
       "       '(주) 진화이앤씨', '(주)에이엔디오토모빌', '(주)우리특장', '정우정공 (주)', '탱크코리아(주)',\n",
       "       '한국특장 (주)', '대지정공(주)', '(주) 삼오특장자동차', '부커셰링코리아 (주)', '(주) 골드밴',\n",
       "       '삼우중공업(주)', '한국후3축', '베스텍특장', '(주)호룡', '(주)신광테크놀러지',\n",
       "       '신정개발특장차 주식회사', '(주)화인특장', '고려특장(주)', '(주)우성특장', '주식회사 씨엔에스티',\n",
       "       '해광산업사', '일성산업', '(주)서보테크', '건민특장 주식회사', '대경특장(주)', '에스알(주)',\n",
       "       '(주)노바스코리아', '동양자동차공업(주)', '수성특장(주)', '선진정공(주)', '(주)태경이엔지',\n",
       "       '(주)드림티엔에스', '동아탑정비공업사', '(주)한국차체', '카고텍코리아(주)', '광림특장차 주식회사',\n",
       "       '(주)수산씨에스엠', '(주)세인이엔지', '주식회사 유아이테크', '씨제이대한통운(주)', '코리아특장',\n",
       "       '형제특장 주식회사', '주식회사 카셈(KASEM Co.,Ltd)', '대흥특장정공 (주)', '유비통상(주)',\n",
       "       '계백자동차(주)', '남영코리아화이어트럭(주)', '(주) 고호산업', '대한특장', '카써스(주)',\n",
       "       '(유)대원오토', '(주) 맥써버모터스', '로쏘엠', '(주)알텍', '에프씨에이코리아(주)', '(주) 오텍',\n",
       "       '창림모아츠(주)', '세화자동차', '(주)마노', '고려에스티엠(주)', '카올넷', '(주)세정모터스',\n",
       "       '(주)엘위포투', nan, '(주)성진테크', '(주)밴텍캠핑카', '(주)애드터치', '기아자동차(주)',\n",
       "       '해양산업', '씨엔라인', '원진(주)', '주식회사 평강비아이엠(B.I.M)', '엠에스특장공업(주)',\n",
       "       '(주)동해기계항공', '(주)다산중공업', '신제일정공(주)', '주식회사 한서정공', '(주)삼성특장',\n",
       "       '녹산대진특장차', '신성엔지니어링', '반도특장(주)', '(주)진우에스엠씨', '(주)에코카', '(주)뉴텍티앤엠',\n",
       "       '주식회사 천하', '이텍산업 주식회사', '한아에스에스(주)', '제일F.R.P산업', '(주)가이젠캠핑카',\n",
       "       '디앨 주식회사', '우림특장산업', '(주)화성특장', '(주)케이지비고려골든박스', '(주)에버다임',\n",
       "       '(주)대진정공', '도원자동차공업 (주)', '한국상용트럭(주)', '(주)한성특장', '(주)미동이엔씨',\n",
       "       '(주)뉴테크특장', '(주)사자후', '(주)무빙애드', '대구시소방본부', '(주)승신', '(주)에이엠티코리아',\n",
       "       '드림특장(주)', '제이에스이엔지', '(주)용진특장', '(주)엠뱅크', '라헬(주)', '동아특장공업사'],\n",
       "      dtype=object)"
      ]
     },
     "execution_count": 149,
     "metadata": {},
     "output_type": "execute_result"
    }
   ],
   "source": [
    "weird2n['제작사명'].unique()"
   ]
  },
  {
   "cell_type": "code",
   "execution_count": 150,
   "metadata": {},
   "outputs": [
    {
     "data": {
      "text/html": [
       "<div>\n",
       "<style scoped>\n",
       "    .dataframe tbody tr th:only-of-type {\n",
       "        vertical-align: middle;\n",
       "    }\n",
       "\n",
       "    .dataframe tbody tr th {\n",
       "        vertical-align: top;\n",
       "    }\n",
       "\n",
       "    .dataframe thead th {\n",
       "        text-align: right;\n",
       "    }\n",
       "</style>\n",
       "<table border=\"1\" class=\"dataframe\">\n",
       "  <thead>\n",
       "    <tr style=\"text-align: right;\">\n",
       "      <th></th>\n",
       "      <th>배출가스인증번호</th>\n",
       "      <th>배인번호_수정</th>\n",
       "      <th>제원관리번호</th>\n",
       "      <th>자동차형식</th>\n",
       "      <th>엔진형식_x</th>\n",
       "      <th>차명_x</th>\n",
       "    </tr>\n",
       "  </thead>\n",
       "  <tbody>\n",
       "    <tr>\n",
       "      <th>2104</th>\n",
       "      <td>7MY-DK-24-04</td>\n",
       "      <td>NaN</td>\n",
       "      <td>220003500014305</td>\n",
       "      <td>1844LS</td>\n",
       "      <td>OM501LA</td>\n",
       "      <td>Actros</td>\n",
       "    </tr>\n",
       "    <tr>\n",
       "      <th>2105</th>\n",
       "      <td>7MY-DK-24-04</td>\n",
       "      <td>NaN</td>\n",
       "      <td>220003500014305</td>\n",
       "      <td>1844LS</td>\n",
       "      <td>OM501LA</td>\n",
       "      <td>Actros</td>\n",
       "    </tr>\n",
       "    <tr>\n",
       "      <th>2106</th>\n",
       "      <td>7MY-DK-24-04</td>\n",
       "      <td>NaN</td>\n",
       "      <td>220003500014305</td>\n",
       "      <td>1844LS</td>\n",
       "      <td>OM501LA</td>\n",
       "      <td>Actros</td>\n",
       "    </tr>\n",
       "  </tbody>\n",
       "</table>\n",
       "</div>"
      ],
      "text/plain": [
       "          배출가스인증번호 배인번호_수정           제원관리번호   자동차형식   엔진형식_x    차명_x\n",
       "2104  7MY-DK-24-04     NaN  220003500014305  1844LS  OM501LA  Actros\n",
       "2105  7MY-DK-24-04     NaN  220003500014305  1844LS  OM501LA  Actros\n",
       "2106  7MY-DK-24-04     NaN  220003500014305  1844LS  OM501LA  Actros"
      ]
     },
     "execution_count": 150,
     "metadata": {},
     "output_type": "execute_result"
    }
   ],
   "source": [
    "weird2n.loc[weird2n['제작사명'] == '에프씨에이코리아(주)', ['배출가스인증번호', '배인번호_수정', '제원관리번호', '자동차형식', '엔진형식_x', '차명_x']]"
   ]
  },
  {
   "cell_type": "code",
   "execution_count": 151,
   "metadata": {},
   "outputs": [
    {
     "data": {
      "text/html": [
       "<div>\n",
       "<style scoped>\n",
       "    .dataframe tbody tr th:only-of-type {\n",
       "        vertical-align: middle;\n",
       "    }\n",
       "\n",
       "    .dataframe tbody tr th {\n",
       "        vertical-align: top;\n",
       "    }\n",
       "\n",
       "    .dataframe thead th {\n",
       "        text-align: right;\n",
       "    }\n",
       "</style>\n",
       "<table border=\"1\" class=\"dataframe\">\n",
       "  <thead>\n",
       "    <tr style=\"text-align: right;\">\n",
       "      <th></th>\n",
       "      <th>배출가스인증번호</th>\n",
       "      <th>배인번호_수정</th>\n",
       "      <th>제원관리번호</th>\n",
       "      <th>자동차형식</th>\n",
       "      <th>엔진형식_x</th>\n",
       "      <th>차명_x</th>\n",
       "    </tr>\n",
       "  </thead>\n",
       "  <tbody>\n",
       "    <tr>\n",
       "      <th>2656</th>\n",
       "      <td>7MY-HD-14-68</td>\n",
       "      <td>NaN</td>\n",
       "      <td>A0110003121643212</td>\n",
       "      <td>PUL6BD-L9-LFT</td>\n",
       "      <td>D4CB</td>\n",
       "      <td>봉고Ⅲ 활어수송차</td>\n",
       "    </tr>\n",
       "  </tbody>\n",
       "</table>\n",
       "</div>"
      ],
      "text/plain": [
       "          배출가스인증번호 배인번호_수정             제원관리번호          자동차형식 엔진형식_x       차명_x\n",
       "2656  7MY-HD-14-68     NaN  A0110003121643212  PUL6BD-L9-LFT   D4CB  봉고Ⅲ 활어수송차"
      ]
     },
     "execution_count": 151,
     "metadata": {},
     "output_type": "execute_result"
    }
   ],
   "source": [
    "weird2n.loc[weird2n['제작사명'] == '기아자동차(주)', ['배출가스인증번호', '배인번호_수정', '제원관리번호', '자동차형식', '엔진형식_x', '차명_x']]"
   ]
  },
  {
   "attachments": {},
   "cell_type": "markdown",
   "metadata": {},
   "source": [
    "# 처리한 데이터 병합\n",
    "- norm, error, nad1y, nad2y, nad2n, weird1y, weird2y, weird2n\n",
    "\n",
    "- 파일 처리 과정\n",
    "    - nad\n",
    "        - nad1y\n",
    "        - nad1n\n",
    "            - nad2y\n",
    "            - nad2n\n",
    "    - weird\n",
    "        - weird1y\n",
    "        - weird1n\n",
    "            - weird2y\n",
    "            - weird2n"
   ]
  },
  {
   "cell_type": "code",
   "execution_count": 163,
   "metadata": {},
   "outputs": [
    {
     "data": {
      "text/plain": [
       "(1153813, 69)"
      ]
     },
     "execution_count": 163,
     "metadata": {},
     "output_type": "execute_result"
    }
   ],
   "source": [
    "df = pd.concat([norm, error, nad1y, nad2y, nad2n, weird1y, weird2y, weird2n], ignore_index=True)\n",
    "df.shape"
   ]
  },
  {
   "attachments": {},
   "cell_type": "markdown",
   "metadata": {},
   "source": [
    "## [출력] 처리된 병합 파일"
   ]
  },
  {
   "cell_type": "code",
   "execution_count": 164,
   "metadata": {},
   "outputs": [
    {
     "data": {
      "text/plain": [
       "'2023.03.10_AM_10.56.28'"
      ]
     },
     "execution_count": 164,
     "metadata": {},
     "output_type": "execute_result"
    }
   ],
   "source": [
    "today_date = datetime.today().strftime(\"%Y.%m.%d_%p_%I.%M.%S\")\n",
    "today_date"
   ]
  },
  {
   "cell_type": "code",
   "execution_count": 165,
   "metadata": {},
   "outputs": [],
   "source": [
    "# about 33s\n",
    "df.to_csv(os.path.join(fold, f'4등급_차량_리스트_양식_result_처리_{today_date}.csv'), index=False, encoding='cp949')"
   ]
  },
  {
   "attachments": {},
   "cell_type": "markdown",
   "metadata": {},
   "source": [
    "# 조건별 파일 출력"
   ]
  },
  {
   "attachments": {},
   "cell_type": "markdown",
   "metadata": {},
   "source": [
    "## 3, 5 등급으로 등급 변경 차량\n",
    "- 정상(norm)"
   ]
  },
  {
   "cell_type": "code",
   "execution_count": 166,
   "metadata": {},
   "outputs": [
    {
     "data": {
      "text/plain": [
       "Index(['차대번호', '차량번호_x', '제원관리번호', '차종_원본', '용도', '최초등록일', '연식', '제작일자',\n",
       "       '검사유효일', '배출가스인증번호', '등급', '차명_x', '차종분류', '차종유형', '자동차형식', '제작사명',\n",
       "       '연료', '엔진형식_x', '총중량', '적재중량', '엔진출력', '배기량', '법정동코드', '시도명', '시군구명',\n",
       "       '소유자구분', '말소여부', '일치유무', '사용연료', '주행거리', '차명_y', '차량번호_y', '차종', '차량연식',\n",
       "       '엔진형식_y', '검사방법', '검사일자', '검사종류', '검사판정시각', '검사판정', '산소값', '이산화탄소값',\n",
       "       '무부하매연판정1', '무부하매연판정2', '무부하매연판정3', '무부하매연판정4', '무부하매연판정5', '무부하매연판정6',\n",
       "       '무부하매연허용치1', '무부하매연허용치2', '무부하매연허용치3', '무부하매연허용치4', '무부하매연허용치5',\n",
       "       '무부하매연허용치6', '무부하매연측정치1', '무부하매연측정치2', '무부하매연측정치3', '무부하매연측정치4',\n",
       "       '무부하매연측정치5', '무부하매연측정치6', '정기정밀', 'vin10', 'vin_year', 'DPF유무',\n",
       "       '배인번호_수정', '등급_수정', 'DPF유무_수정', '확인유무', '비고'],\n",
       "      dtype='object')"
      ]
     },
     "execution_count": 166,
     "metadata": {},
     "output_type": "execute_result"
    }
   ],
   "source": [
    "norm.columns"
   ]
  },
  {
   "cell_type": "code",
   "execution_count": 202,
   "metadata": {},
   "outputs": [],
   "source": [
    "select_col = ['차대번호', '차량번호_x', '제원관리번호', '차종_원본', '용도', '최초등록일', '연식', '제작일자',\n",
    "       '검사유효일', '배출가스인증번호', '배인번호_수정', '등급', '등급_수정', '차명_x', '차종분류', '차종유형', '자동차형식', '제작사명',\n",
    "       '연료', '엔진형식_x', '총중량', '적재중량', '엔진출력', '배기량', '법정동코드', '시도명', '시군구명',\n",
    "       '소유자구분', '말소여부', '일치유무']"
   ]
  },
  {
   "cell_type": "code",
   "execution_count": 205,
   "metadata": {},
   "outputs": [
    {
     "data": {
      "text/plain": [
       "(4383, 69)"
      ]
     },
     "execution_count": 205,
     "metadata": {},
     "output_type": "execute_result"
    }
   ],
   "source": [
    "grade_chaneged = norm.loc[(norm['등급_수정'] == 3) | (norm['등급_수정'] == 5)]\n",
    "grade_chaneged.shape"
   ]
  },
  {
   "cell_type": "code",
   "execution_count": 206,
   "metadata": {},
   "outputs": [
    {
     "data": {
      "text/plain": [
       "Index(['차대번호', '차량번호', '제원관리번호', '차종', '용도', '최초등록일', '연식', '제작일자', '검사유효일',\n",
       "       '배출가스인증번호', '배인번호_수정', '등급', '등급_수정', '차명', '차종분류', '차종유형', '자동차형식',\n",
       "       '제작사명', '연료', '엔진형식', '총중량', '적재중량', '엔진출력', '배기량', '법정동코드', '시도명',\n",
       "       '시군구명', '소유자구분', '말소여부', '일치유무'],\n",
       "      dtype='object')"
      ]
     },
     "execution_count": 206,
     "metadata": {},
     "output_type": "execute_result"
    }
   ],
   "source": [
    "grade_chaneged = grade_chaneged[select_col]\n",
    "grade_chaneged = grade_chaneged.rename(columns={'차량번호_x':'차량번호', '차명_x':'차명', '엔진형식_x':'엔진형식', '차종_원본':'차종'})\n",
    "grade_chaneged.columns"
   ]
  },
  {
   "attachments": {},
   "cell_type": "markdown",
   "metadata": {},
   "source": [
    "### [출력] 3, 5 등급 변경 차량"
   ]
  },
  {
   "cell_type": "code",
   "execution_count": 208,
   "metadata": {},
   "outputs": [
    {
     "data": {
      "text/plain": [
       "'2023.03.10_PM_12.39.34'"
      ]
     },
     "execution_count": 208,
     "metadata": {},
     "output_type": "execute_result"
    }
   ],
   "source": [
    "today_date = datetime.today().strftime(\"%Y.%m.%d_%p_%I.%M.%S\")\n",
    "today_date"
   ]
  },
  {
   "cell_type": "code",
   "execution_count": 209,
   "metadata": {},
   "outputs": [],
   "source": [
    "grade_chaneged.to_csv(os.path.join(total_fold, f'3,5등급변경차량_{today_date}.csv'), index=False, encoding='cp949')"
   ]
  },
  {
   "attachments": {},
   "cell_type": "markdown",
   "metadata": {},
   "source": [
    "## 배인번호 변경된 차량\n",
    "- 정상(norm)\n",
    "- 미부여(nad) : nad1y, nad2y, nad2n\n",
    "- 제작사이상(weird) : weird1y, weird2y, weird2n"
   ]
  },
  {
   "cell_type": "code",
   "execution_count": 210,
   "metadata": {},
   "outputs": [
    {
     "data": {
      "text/plain": [
       "(127823, 69)"
      ]
     },
     "execution_count": 210,
     "metadata": {},
     "output_type": "execute_result"
    }
   ],
   "source": [
    "norm_ch = norm.loc[norm['배출가스인증번호'] != norm['배인번호_수정']]\n",
    "norm_ch.shape"
   ]
  },
  {
   "cell_type": "code",
   "execution_count": 211,
   "metadata": {},
   "outputs": [
    {
     "data": {
      "text/plain": [
       "((6294, 69), (141, 69), (132, 69), (13, 69))"
      ]
     },
     "execution_count": 211,
     "metadata": {},
     "output_type": "execute_result"
    }
   ],
   "source": [
    "nad1y.shape, nad2y.shape, weird1y.shape, weird2y.shape"
   ]
  },
  {
   "cell_type": "code",
   "execution_count": 212,
   "metadata": {},
   "outputs": [
    {
     "data": {
      "text/plain": [
       "(134403, 69)"
      ]
     },
     "execution_count": 212,
     "metadata": {},
     "output_type": "execute_result"
    }
   ],
   "source": [
    "emis_ch = pd.concat([norm_ch, nad1y, nad2y, weird1y, weird2y], ignore_index=True)\n",
    "emis_ch.shape"
   ]
  },
  {
   "cell_type": "code",
   "execution_count": 213,
   "metadata": {},
   "outputs": [
    {
     "data": {
      "text/plain": [
       "Index(['차대번호', '차량번호', '제원관리번호', '차종', '용도', '최초등록일', '연식', '제작일자', '검사유효일',\n",
       "       '배출가스인증번호', '배인번호_수정', '등급', '등급_수정', '차명', '차종분류', '차종유형', '자동차형식',\n",
       "       '제작사명', '연료', '엔진형식', '총중량', '적재중량', '엔진출력', '배기량', '법정동코드', '시도명',\n",
       "       '시군구명', '소유자구분', '말소여부', '일치유무'],\n",
       "      dtype='object')"
      ]
     },
     "execution_count": 213,
     "metadata": {},
     "output_type": "execute_result"
    }
   ],
   "source": [
    "emis_ch1 = emis_ch[select_col]\n",
    "emis_ch1 = emis_ch1.rename(columns={'차량번호_x':'차량번호', '차명_x':'차명', '엔진형식_x':'엔진형식', '차종_원본':'차종'})\n",
    "emis_ch1.columns"
   ]
  },
  {
   "attachments": {},
   "cell_type": "markdown",
   "metadata": {},
   "source": [
    "### [출력] 배인번호 변경된 차량"
   ]
  },
  {
   "cell_type": "code",
   "execution_count": 214,
   "metadata": {},
   "outputs": [
    {
     "data": {
      "text/plain": [
       "'2023.03.10_PM_12.39.59'"
      ]
     },
     "execution_count": 214,
     "metadata": {},
     "output_type": "execute_result"
    }
   ],
   "source": [
    "today_date = datetime.today().strftime(\"%Y.%m.%d_%p_%I.%M.%S\")\n",
    "today_date"
   ]
  },
  {
   "cell_type": "code",
   "execution_count": 215,
   "metadata": {},
   "outputs": [],
   "source": [
    "emis_ch.to_csv(os.path.join(total_fold, f'배인번호_변경된_차량_{today_date}.csv'), index=False, encoding='cp949')"
   ]
  },
  {
   "cell_type": "code",
   "execution_count": 216,
   "metadata": {},
   "outputs": [],
   "source": [
    "emis_ch1.to_csv(os.path.join(total_fold, f'배인번호_변경된_차량_{today_date}.csv'), index=False, encoding='cp949')"
   ]
  },
  {
   "attachments": {},
   "cell_type": "markdown",
   "metadata": {},
   "source": [
    "## 나머지 차량\n",
    "- 제작사이상(weird) : weird2n\n",
    "- 미부여(nad) : nad2n\n",
    "- 비정상(error)"
   ]
  },
  {
   "cell_type": "code",
   "execution_count": 217,
   "metadata": {},
   "outputs": [
    {
     "data": {
      "text/plain": [
       "((4704, 69), (715, 69), (1309, 69))"
      ]
     },
     "execution_count": 217,
     "metadata": {},
     "output_type": "execute_result"
    }
   ],
   "source": [
    "weird2n.shape, nad2n.shape, error.shape"
   ]
  },
  {
   "cell_type": "code",
   "execution_count": 218,
   "metadata": {},
   "outputs": [
    {
     "data": {
      "text/plain": [
       "(6728, 69)"
      ]
     },
     "execution_count": 218,
     "metadata": {},
     "output_type": "execute_result"
    }
   ],
   "source": [
    "rest = pd.concat([nad2n, error, weird2n], ignore_index=True)\n",
    "rest.shape"
   ]
  },
  {
   "cell_type": "code",
   "execution_count": 219,
   "metadata": {},
   "outputs": [
    {
     "data": {
      "text/plain": [
       "Index(['차대번호', '차량번호', '제원관리번호', '차종', '용도', '최초등록일', '연식', '제작일자', '검사유효일',\n",
       "       '배출가스인증번호', '배인번호_수정', '등급', '등급_수정', '차명', '차종분류', '차종유형', '자동차형식',\n",
       "       '제작사명', '연료', '엔진형식', '총중량', '적재중량', '엔진출력', '배기량', '법정동코드', '시도명',\n",
       "       '시군구명', '소유자구분', '말소여부', '일치유무'],\n",
       "      dtype='object')"
      ]
     },
     "execution_count": 219,
     "metadata": {},
     "output_type": "execute_result"
    }
   ],
   "source": [
    "rest1 = rest[select_col]\n",
    "rest1 = rest1.rename(columns={'차량번호_x':'차량번호', '차명_x':'차명', '엔진형식_x':'엔진형식', '차종_원본':'차종'})\n",
    "rest1.columns"
   ]
  },
  {
   "attachments": {},
   "cell_type": "markdown",
   "metadata": {},
   "source": [
    "### [출력] 나머지 차량"
   ]
  },
  {
   "cell_type": "code",
   "execution_count": 220,
   "metadata": {},
   "outputs": [
    {
     "data": {
      "text/plain": [
       "'2023.03.10_PM_12.40.05'"
      ]
     },
     "execution_count": 220,
     "metadata": {},
     "output_type": "execute_result"
    }
   ],
   "source": [
    "today_date = datetime.today().strftime(\"%Y.%m.%d_%p_%I.%M.%S\")\n",
    "today_date"
   ]
  },
  {
   "cell_type": "code",
   "execution_count": 221,
   "metadata": {},
   "outputs": [],
   "source": [
    "rest1.to_csv(os.path.join(total_fold, f'나머지_미부여_비정상_제작사이상_차량_{today_date}.csv'), index=False, encoding='cp949')"
   ]
  },
  {
   "attachments": {},
   "cell_type": "markdown",
   "metadata": {},
   "source": [
    "## 최종 차량 수 확인"
   ]
  },
  {
   "cell_type": "code",
   "execution_count": 222,
   "metadata": {},
   "outputs": [
    {
     "data": {
      "text/plain": [
       "1153813"
      ]
     },
     "execution_count": 222,
     "metadata": {},
     "output_type": "execute_result"
    }
   ],
   "source": [
    "norm.loc[norm['배출가스인증번호'] == norm['배인번호_수정']].shape[0] + emis_ch.shape[0] + rest.shape[0]"
   ]
  },
  {
   "attachments": {},
   "cell_type": "markdown",
   "metadata": {},
   "source": [
    "# CODE End"
   ]
  }
 ],
 "metadata": {
  "kernelspec": {
   "display_name": "base",
   "language": "python",
   "name": "python3"
  },
  "language_info": {
   "codemirror_mode": {
    "name": "ipython",
    "version": 3
   },
   "file_extension": ".py",
   "mimetype": "text/x-python",
   "name": "python",
   "nbconvert_exporter": "python",
   "pygments_lexer": "ipython3",
   "version": "3.9.13"
  },
  "orig_nbformat": 4,
  "vscode": {
   "interpreter": {
    "hash": "ad2bdc8ecc057115af97d19610ffacc2b4e99fae6737bb82f5d7fb13d2f2c186"
   }
  }
 },
 "nbformat": 4,
 "nbformat_minor": 2
}
