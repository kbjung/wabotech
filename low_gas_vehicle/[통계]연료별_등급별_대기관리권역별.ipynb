{
 "cells": [
  {
   "attachments": {},
   "cell_type": "markdown",
   "metadata": {},
   "source": [
    "# Library"
   ]
  },
  {
   "cell_type": "code",
   "execution_count": 1,
   "metadata": {},
   "outputs": [],
   "source": [
    "import pandas as pd\n",
    "import numpy as np\n",
    "from tqdm import tqdm\n",
    "import os"
   ]
  },
  {
   "cell_type": "markdown",
   "metadata": {},
   "source": [
    "# [로드] 등록&제원 정보 2022.12.28 기준 "
   ]
  },
  {
   "cell_type": "code",
   "execution_count": 2,
   "metadata": {},
   "outputs": [],
   "source": [
    "ods_fold = 'D:/data/big2/ODS'"
   ]
  },
  {
   "cell_type": "code",
   "execution_count": 3,
   "metadata": {},
   "outputs": [
    {
     "name": "stdout",
     "output_type": "stream",
     "text": [
      "<class 'pandas.core.frame.DataFrame'>\n",
      "RangeIndex: 29534047 entries, 0 to 29534046\n",
      "Data columns (total 49 columns):\n",
      " #   Column        Dtype  \n",
      "---  ------        -----  \n",
      " 0   차량관리번호        object \n",
      " 1   차량등록번호        object \n",
      " 2   본거지법정동코드      int64  \n",
      " 3   소유자구분         object \n",
      " 4   차종_등록정보       object \n",
      " 5   용도            object \n",
      " 6   현재회원번호        object \n",
      " 7   차대번호          object \n",
      " 8   최초등록일자        int64  \n",
      " 9   차량연식          int64  \n",
      " 10  차량제작일자        float64\n",
      " 11  배출가스검사유효일자    float64\n",
      " 12  제원관리번호        object \n",
      " 13  배출가스인증번호      object \n",
      " 14  배출가스등급        object \n",
      " 15  저공해조치YN(미사용)  object \n",
      " 16  저공해조치종류       float64\n",
      " 17  저공해조치구조변경YN   object \n",
      " 18  차량등록번호숫자정보    int64  \n",
      " 19  차량말소YN        object \n",
      " 20  최초회원번호        object \n",
      " 21  취득일자          object \n",
      " 22  취득금액          float64\n",
      " 23  생성일시_등록정보     object \n",
      " 24  수정일시_등록정보     object \n",
      " 25  차명            object \n",
      " 26  차종_제원정보       object \n",
      " 27  차종분류          object \n",
      " 28  차종유형(소분류)     object \n",
      " 29  자동차형식         object \n",
      " 30  제작사명          object \n",
      " 31  연료            object \n",
      " 32  엔진형식          object \n",
      " 33  공차중량          float64\n",
      " 34  총중량           float64\n",
      " 35  적재중량          float64\n",
      " 36  엔진출력          float64\n",
      " 37  배기량           float64\n",
      " 38  승차인원          float64\n",
      " 39  차량길이          float64\n",
      " 40  차량너비          float64\n",
      " 41  차량높이          float64\n",
      " 42  원산지명          object \n",
      " 43  삭제YN          object \n",
      " 44  승인일자          object \n",
      " 45  구동형식          float64\n",
      " 46  변속기종류         object \n",
      " 47  생성일시_제원정보     object \n",
      " 48  수정일시_제원정보     object \n",
      "dtypes: float64(14), int64(4), object(31)\n",
      "memory usage: 10.8+ GB\n"
     ]
    }
   ],
   "source": [
    "# about 8m 42s\n",
    "file_name = '[ODS]등록정보&제원정보(2022.12.29).csv'\n",
    "df = pd.read_csv(os.path.join(ods_fold, file_name), encoding='cp949', low_memory=False)\n",
    "df.info()"
   ]
  },
  {
   "cell_type": "code",
   "execution_count": 4,
   "metadata": {},
   "outputs": [
    {
     "data": {
      "text/plain": [
       "0    1165010700\n",
       "1    2711010500\n",
       "2    2820010300\n",
       "3    4213011200\n",
       "4    4812110500\n",
       "Name: 본거지법정동코드, dtype: int64"
      ]
     },
     "execution_count": 4,
     "metadata": {},
     "output_type": "execute_result"
    }
   ],
   "source": [
    "df['본거지법정동코드'].head()"
   ]
  },
  {
   "attachments": {},
   "cell_type": "markdown",
   "metadata": {},
   "source": [
    "# [로드] 본거지법정동코드"
   ]
  },
  {
   "cell_type": "code",
   "execution_count": 5,
   "metadata": {},
   "outputs": [],
   "source": [
    "fold = 'D:/data/big2'"
   ]
  },
  {
   "cell_type": "code",
   "execution_count": 6,
   "metadata": {},
   "outputs": [
    {
     "name": "stdout",
     "output_type": "stream",
     "text": [
      "<class 'pandas.core.frame.DataFrame'>\n",
      "RangeIndex: 46340 entries, 0 to 46339\n",
      "Data columns (total 9 columns):\n",
      " #   Column    Non-Null Count  Dtype  \n",
      "---  ------    --------------  -----  \n",
      " 0   법정동코드     46340 non-null  int64  \n",
      " 1   시도        46340 non-null  object \n",
      " 2   시구군       46317 non-null  object \n",
      " 3   읍면동       45847 non-null  object \n",
      " 4   리         33682 non-null  object \n",
      " 5   지역3       0 non-null      float64\n",
      " 6   폐지여부      46340 non-null  object \n",
      " 7   대기관리권역    46340 non-null  object \n",
      " 8   대기관리권역YN  46334 non-null  object \n",
      "dtypes: float64(1), int64(1), object(7)\n",
      "memory usage: 3.2+ MB\n"
     ]
    }
   ],
   "source": [
    "file_name = '법정동코드_2022.10.14.xlsx'\n",
    "code = pd.read_excel(os.path.join(fold, file_name))\n",
    "code.info()"
   ]
  },
  {
   "cell_type": "code",
   "execution_count": 7,
   "metadata": {},
   "outputs": [
    {
     "data": {
      "text/plain": [
       "0    1100000000\n",
       "1    1111000000\n",
       "2    1111010100\n",
       "3    1111010200\n",
       "4    1111010300\n",
       "Name: 법정동코드, dtype: int64"
      ]
     },
     "execution_count": 7,
     "metadata": {},
     "output_type": "execute_result"
    }
   ],
   "source": [
    "code['법정동코드'].head()"
   ]
  },
  {
   "attachments": {},
   "cell_type": "markdown",
   "metadata": {},
   "source": [
    "# [merge] 법정동코드 기준"
   ]
  },
  {
   "cell_type": "code",
   "execution_count": 8,
   "metadata": {},
   "outputs": [
    {
     "data": {
      "text/plain": [
       "0"
      ]
     },
     "execution_count": 8,
     "metadata": {},
     "output_type": "execute_result"
    }
   ],
   "source": [
    "# '본거지법정도코드'열 데이터 확인\n",
    "df['본거지법정동코드'].isnull().sum()"
   ]
  },
  {
   "cell_type": "code",
   "execution_count": 9,
   "metadata": {},
   "outputs": [
    {
     "data": {
      "text/plain": [
       "(29534047, 49)"
      ]
     },
     "execution_count": 9,
     "metadata": {},
     "output_type": "execute_result"
    }
   ],
   "source": [
    "df.shape"
   ]
  },
  {
   "cell_type": "code",
   "execution_count": 11,
   "metadata": {},
   "outputs": [
    {
     "data": {
      "text/plain": [
       "(29534047, 58)"
      ]
     },
     "execution_count": 11,
     "metadata": {},
     "output_type": "execute_result"
    }
   ],
   "source": [
    "# about 39s\n",
    "tot = df.merge(code, left_on='본거지법정동코드', right_on='법정동코드', how='left')\n",
    "tot.shape"
   ]
  },
  {
   "cell_type": "code",
   "execution_count": 12,
   "metadata": {},
   "outputs": [
    {
     "data": {
      "text/plain": [
       "29521505"
      ]
     },
     "execution_count": 12,
     "metadata": {},
     "output_type": "execute_result"
    }
   ],
   "source": [
    "len(tot['차대번호'].unique())"
   ]
  },
  {
   "cell_type": "code",
   "execution_count": 13,
   "metadata": {},
   "outputs": [
    {
     "data": {
      "text/plain": [
       "0"
      ]
     },
     "execution_count": 13,
     "metadata": {},
     "output_type": "execute_result"
    }
   ],
   "source": [
    "tot['차대번호'].isnull().sum()"
   ]
  },
  {
   "attachments": {},
   "cell_type": "markdown",
   "metadata": {},
   "source": [
    "# 전처리"
   ]
  },
  {
   "attachments": {},
   "cell_type": "markdown",
   "metadata": {},
   "source": [
    "## 말소제거\n",
    "- 차량말소YN"
   ]
  },
  {
   "cell_type": "code",
   "execution_count": 16,
   "metadata": {},
   "outputs": [
    {
     "data": {
      "text/plain": [
       "(25693532, 58)"
      ]
     },
     "execution_count": 16,
     "metadata": {},
     "output_type": "execute_result"
    }
   ],
   "source": [
    "# about \n",
    "tot1 = tot[tot['차량말소YN'] == 'N'].reset_index(drop=True)\n",
    "tot1.shape"
   ]
  },
  {
   "cell_type": "code",
   "execution_count": 59,
   "metadata": {},
   "outputs": [
    {
     "data": {
      "text/plain": [
       "Index(['차량관리번호', '차량등록번호', '본거지법정동코드', '소유자구분', '차종_등록정보', '용도', '현재회원번호',\n",
       "       '차대번호', '최초등록일자', '차량연식', '차량제작일자', '배출가스검사유효일자', '제원관리번호', '배출가스인증번호',\n",
       "       '배출가스등급', '저공해조치YN(미사용)', '저공해조치종류', '저공해조치구조변경YN', '차량등록번호숫자정보',\n",
       "       '차량말소YN', '최초회원번호', '취득일자', '취득금액', '생성일시_등록정보', '수정일시_등록정보', '차명',\n",
       "       '차종_제원정보', '차종분류', '차종유형(소분류)', '자동차형식', '제작사명', '연료', '엔진형식', '공차중량',\n",
       "       '총중량', '적재중량', '엔진출력', '배기량', '승차인원', '차량길이', '차량너비', '차량높이', '원산지명',\n",
       "       '삭제YN', '승인일자', '구동형식', '변속기종류', '생성일시_제원정보', '수정일시_제원정보', '법정동코드',\n",
       "       '시도', '시구군', '읍면동', '리', '지역3', '폐지여부', '대기관리권역', '대기관리권역YN'],\n",
       "      dtype='object')"
      ]
     },
     "execution_count": 59,
     "metadata": {},
     "output_type": "execute_result"
    }
   ],
   "source": [
    "tot1.columns"
   ]
  },
  {
   "cell_type": "code",
   "execution_count": 60,
   "metadata": {},
   "outputs": [
    {
     "data": {
      "text/plain": [
       "(25692512, 58)"
      ]
     },
     "execution_count": 60,
     "metadata": {},
     "output_type": "execute_result"
    }
   ],
   "source": [
    "tot1_1 = tot1.sort_values(['최초등록일자', '배출가스검사유효일자'], ascending=[False, False]).drop_duplicates(['차대번호']).reset_index(drop=True)\n",
    "tot1_1.shape"
   ]
  },
  {
   "cell_type": "code",
   "execution_count": null,
   "metadata": {},
   "outputs": [],
   "source": [
    "tot1_1['배출가스등급'].value_counts(dropna=False)"
   ]
  },
  {
   "attachments": {},
   "cell_type": "markdown",
   "metadata": {},
   "source": [
    "## 폐지여부 확인"
   ]
  },
  {
   "cell_type": "code",
   "execution_count": 17,
   "metadata": {},
   "outputs": [
    {
     "data": {
      "text/plain": [
       "존재     25611213\n",
       "폐지        82317\n",
       "NaN           2\n",
       "Name: 폐지여부, dtype: int64"
      ]
     },
     "execution_count": 17,
     "metadata": {},
     "output_type": "execute_result"
    }
   ],
   "source": [
    "tot1['폐지여부'].value_counts(dropna=False)"
   ]
  },
  {
   "cell_type": "code",
   "execution_count": 18,
   "metadata": {},
   "outputs": [
    {
     "data": {
      "text/plain": [
       "(25611213, 58)"
      ]
     },
     "execution_count": 18,
     "metadata": {},
     "output_type": "execute_result"
    }
   ],
   "source": [
    "tot2 = tot1[tot1['폐지여부'] == '존재'].reset_index(drop=True)\n",
    "tot2.shape"
   ]
  },
  {
   "attachments": {},
   "cell_type": "markdown",
   "metadata": {},
   "source": [
    "## 법정동코드 확인"
   ]
  },
  {
   "cell_type": "code",
   "execution_count": 19,
   "metadata": {},
   "outputs": [
    {
     "data": {
      "text/plain": [
       "0"
      ]
     },
     "execution_count": 19,
     "metadata": {},
     "output_type": "execute_result"
    }
   ],
   "source": [
    "tot2['법정동코드'].isnull().sum()"
   ]
  },
  {
   "attachments": {},
   "cell_type": "markdown",
   "metadata": {},
   "source": [
    "## 연료 확인"
   ]
  },
  {
   "cell_type": "code",
   "execution_count": null,
   "metadata": {},
   "outputs": [
    {
     "data": {
      "text/plain": [
       "146468"
      ]
     },
     "metadata": {},
     "output_type": "display_data"
    }
   ],
   "source": [
    "tot2['연료'].isnull().sum()"
   ]
  },
  {
   "cell_type": "code",
   "execution_count": 43,
   "metadata": {},
   "outputs": [
    {
     "data": {
      "text/plain": [
       "휘발유            12138821\n",
       "경유              9855813\n",
       "LPG(액화석유가스)     1899359\n",
       "휘발유 하이브리드       1092740\n",
       "전기               368150\n",
       "NaN              146468\n",
       "경유 하이브리드          35727\n",
       "CNG(압축천연가스)       30372\n",
       "수소                28199\n",
       "LPG 하이브리드         14301\n",
       "기타연료                926\n",
       "CNG 하이브리드           304\n",
       "LNG(액화천연가스)          27\n",
       "알코올                   3\n",
       "태양열                   2\n",
       "등유                    1\n",
       "Name: 연료, dtype: int64"
      ]
     },
     "execution_count": 43,
     "metadata": {},
     "output_type": "execute_result"
    }
   ],
   "source": [
    "tot2['연료'].value_counts(dropna=False)"
   ]
  },
  {
   "cell_type": "code",
   "execution_count": 45,
   "metadata": {},
   "outputs": [
    {
     "data": {
      "text/plain": [
       "array([nan, '3304124', '08784250915', '09801220246', '10784203005',\n",
       "       '10784203004', 'LNS', '0', '01821300581', 'G4AJ', 'G15CF', 'B5',\n",
       "       'H20MR', 'G16SF', 'MSV3', 'ZB', '-', '1NZ', '2AZ', 'RW-300',\n",
       "       'M1082', '.'], dtype=object)"
      ]
     },
     "execution_count": 45,
     "metadata": {},
     "output_type": "execute_result"
    }
   ],
   "source": [
    "tot2.loc[tot2['연료'] == '기타연료', '엔진형식'].unique()"
   ]
  },
  {
   "cell_type": "code",
   "execution_count": null,
   "metadata": {},
   "outputs": [],
   "source": [
    "# '3304124' : -\n",
    "# '08784250915' : -\n",
    "# '09801220246' : -\n",
    "# '10784203005' : -\n",
    "# '10784203004' : -\n",
    "# 'LNS' : -\n",
    "# '0' : -\n",
    "# '01821300581' : -\n",
    "# 'G4AJ' : 휘발유\n",
    "# 'G15CF' : 휘발유\n",
    "# 'B5' : 휘발유\n",
    "# 'H20MR' : 휘발유\n",
    "# 'G16SF' : 휘발유\n",
    "# 'MSV3' : 휘발유\n",
    "# 'ZB' : 디젤\n",
    "# '-' : -\n",
    "# '1NZ' : 휘발유\n",
    "# '2AZ' : 휘발유\n",
    "# 'RW-300' : -\n",
    "# 'M1082' : -\n",
    "# '.' : -"
   ]
  },
  {
   "cell_type": "code",
   "execution_count": 47,
   "metadata": {},
   "outputs": [
    {
     "data": {
      "text/plain": [
       "9"
      ]
     },
     "execution_count": 47,
     "metadata": {},
     "output_type": "execute_result"
    }
   ],
   "source": [
    "engine_form = ['G4AJ', 'G15CF', 'B5', 'H20MR', 'G16SF', 'MSV3', 'ZB', '1NZ', '2AZ']\n",
    "len(engine_form)"
   ]
  },
  {
   "cell_type": "code",
   "execution_count": 48,
   "metadata": {},
   "outputs": [
    {
     "name": "stdout",
     "output_type": "stream",
     "text": [
      "(5031, 58)\n",
      "(3235, 58)\n",
      "(16029, 58)\n",
      "(2896, 58)\n",
      "(46, 58)\n",
      "(1091, 58)\n",
      "(5834, 58)\n",
      "(2352, 58)\n",
      "(1358, 58)\n"
     ]
    }
   ],
   "source": [
    "for one in engine_form:\n",
    "    print(tot2[tot2['엔진형식'] == one].shape)"
   ]
  },
  {
   "cell_type": "code",
   "execution_count": null,
   "metadata": {},
   "outputs": [],
   "source": [
    "tot2.loc[tot2['엔진형식'] == 'G4AJ', '연료'] = '휘발유'\n",
    "tot2.loc[tot2['엔진형식'] == 'G15CF', '연료'] = '휘발유'\n",
    "tot2.loc[tot2['엔진형식'] == 'B5', '연료'] = '휘발유'\n",
    "tot2.loc[tot2['엔진형식'] == 'H20MR', '연료'] = '휘발유'\n",
    "tot2.loc[tot2['엔진형식'] == 'G16SF', '연료'] = '휘발유'\n",
    "tot2.loc[tot2['엔진형식'] == 'MSV3', '연료'] = '휘발유'\n",
    "tot2.loc[tot2['엔진형식'] == 'ZB', '연료'] = '경유'\n",
    "tot2.loc[tot2['엔진형식'] == '1NZ', '연료'] = '경유'\n",
    "tot2.loc[tot2['엔진형식'] == '2AZ', '연료'] = '경유'"
   ]
  },
  {
   "cell_type": "code",
   "execution_count": 50,
   "metadata": {},
   "outputs": [
    {
     "data": {
      "text/plain": [
       "4"
      ]
     },
     "execution_count": 50,
     "metadata": {},
     "output_type": "execute_result"
    }
   ],
   "source": [
    "car_name = ['도요다크라운로얄싸롱', '스텔라오토매틱', '벤즈 230E', '벤즈230E']\n",
    "len(car_name)"
   ]
  },
  {
   "cell_type": "code",
   "execution_count": 51,
   "metadata": {},
   "outputs": [
    {
     "name": "stdout",
     "output_type": "stream",
     "text": [
      "(20, 58)\n",
      "(76, 58)\n",
      "(1, 58)\n",
      "(5, 58)\n"
     ]
    }
   ],
   "source": [
    "for one in car_name:\n",
    "    print(tot2[tot2['차명'] == one].shape)"
   ]
  },
  {
   "cell_type": "code",
   "execution_count": 53,
   "metadata": {},
   "outputs": [
    {
     "data": {
      "text/plain": [
       "휘발유            12138821\n",
       "경유              9855813\n",
       "LPG(액화석유가스)     1899359\n",
       "휘발유 하이브리드       1092740\n",
       "전기               368150\n",
       "NaN              146468\n",
       "경유 하이브리드          35727\n",
       "CNG(압축천연가스)       30372\n",
       "수소                28199\n",
       "LPG 하이브리드         14301\n",
       "기타연료                926\n",
       "CNG 하이브리드           304\n",
       "LNG(액화천연가스)          27\n",
       "알코올                   3\n",
       "태양열                   2\n",
       "등유                    1\n",
       "Name: 연료, dtype: int64"
      ]
     },
     "execution_count": 53,
     "metadata": {},
     "output_type": "execute_result"
    }
   ],
   "source": [
    "tot2['연료'].value_counts(dropna=False)"
   ]
  },
  {
   "cell_type": "code",
   "execution_count": 52,
   "metadata": {},
   "outputs": [
    {
     "data": {
      "text/plain": [
       "array(['미스비시샤시(세미트레일러)', '다이아몬드(추레라)피견인차', '트레라', '세미트레라', '트레일러',\n",
       "       '세미트레일러', '쎄미트레라', '일산 육륜', '히노 트레라', '피견인차(탱크로리)', '히노탱크로리트레라',\n",
       "       '히노탱크로리', '코티나마크IV', '후소트레일러', '가와사끼샤시(세미트레일러)', '도큐트레일러',\n",
       "       '세미 트레일러', '콘테이너샤시콤바인', '콘테이너샤시트레일러', '인터내쇼날트레일러', '추레라',\n",
       "       '프렛트홈트레일러콤바인', '프렛트홈트레라콤바인', '제너럴트레일러', '아시아AM707중형버스',\n",
       "       '훌러하프탱크추레라', '후루하프트레라', '드라어  추레라', '현대708콘테이너전용트레일러', '인타담프',\n",
       "       '동아저상식트레일러', '저상식트레일러', '브리샤2', '추레라(피견인차)', '도큐사요트레러', '새한버스',\n",
       "       '다이하스웨곤', '스트리크트레일러샤시', '프랫트홈트레일러콤바인', '세미25톤트레일러', '탱크로리트레라',\n",
       "       '도요다웨곤엠브란스', '도요다크라운', '추례라', '진도콤비네이션콘테너샤시', '쎄미트레일러', '로얄살롱',\n",
       "       '도요다코로나', '스텔라', '스텔라1.6CXL', '골드호퍼트레일러', '대우11톤카고',\n",
       "       '현대401드롭배드트레일러', '대우8톤카고', '맥스디젤삼방', '현대리어엔진버스', '대우26톤드롭베스트레일러',\n",
       "       '포니2', '동아덤프트레일러', '도요다크라운로얄싸롱', '현대구즈넥콘테이너트레일러', '현대평판트레일러',\n",
       "       '현대20KL스텐탱크트레일러', '23톤구즈넥덤프트레일러', '구즈넥콘테이너샤시', '26톤드톱베드트레일러',\n",
       "       '구급차(도요다)', '현대콘테이너트레일러', '동아콘테이너샤시', '진도구즈넥콘테이너샤시', '진도프레트폼트레일러',\n",
       "       '진도20피드콘테이저샤시', '25M3벌크시멘트트레일러', \"현대45'익스텐션콘테이너트\", '벤즈230E',\n",
       "       '진도구즈넥슬라이더콤비샤시', '프레스토오토매틱', '르망펜타-5', '진도콤비네이션콘테이너샤시', '스텔라오토매틱',\n",
       "       '엑셀', '벤즈 230E', '진도구즈넥슬라이더콘테이너', '동아콘테이너샤시콤바인', '캐피탈',\n",
       "       '로얄살롱2.0AT', '르망', '현대45`익스텐션콘테이너트', '현대45,익스텐션콘테이너트',\n",
       "       '25M3벌크트레일러', '23M3 벌크트레일러', '머큐리 세이블', '트레일러  프렛홈형',\n",
       "       '디엠티 탱크 트레일러', '복사14', 'HYUNDAI PRESTO', '미래40피트콤비네이션콘테이너샤시',\n",
       "       '도요타 프리우스(하이브리드)', 'TOYOTA CAMRY하이브리드', '보트트레일러', '장보고 보트 트레일러',\n",
       "       '동우 가변형 평판트레일러', 'XW300', '대한평판트레일러', '대한콤비컨테이너트레일러',\n",
       "       '바인스베르크400LK캠핑트레일러', '미래40피트틸팅컨테이너샤시', '소노마캠팡트레일러',\n",
       "       '에어스트림탐지견수송트레일러', '이보1850캠핑트레일러', 'RW300', 'WSR레저장비운송트레일러',\n",
       "       '트레일마스터보트트레일러', '제니스5캠핑트레일러', 'ALTEA542캠핑트레일러', '트레일러-LMTV',\n",
       "       '카고 트레일러', 'TRAILER CARGO LMTV', 'D.K트레일러', 'FEISHEN일반화물운송트레일러',\n",
       "       'SID 500 F1', '카라반KUS2960평판트레일러', '밤챔버용 트레일러', '아우토니드이동가축관리트레일러',\n",
       "       '렉스온캠핑트레일러', '포레스트리버캠핑트레일러', '홍성푸드트레일러', '펜트(FENDT)캠핑트레일러',\n",
       "       '밀폐형 방폭트레일러(DynaSEALR X10 LTR on Trailer)', '홍성캠핑트레일러',\n",
       "       '아드리아(ADRIA)캠핑트레일러', '트리가노(TRIGANO)스탈렛캠핑트레일러', '엘디스(ELDDIS)캠핑트레일러',\n",
       "       '베일리(BAILEY)캠핑트레일러', '바인스버그(WEINSBERG) 캠핑트레일러', '미래40피트평판트레일러',\n",
       "       '타버트(TABBERT)캠핑트레일러', '씨티인터내셔널캠핑트레일러'], dtype=object)"
      ]
     },
     "execution_count": 52,
     "metadata": {},
     "output_type": "execute_result"
    }
   ],
   "source": [
    "tot2.loc[tot2['연료'] == '기타연료', '차명'].unique()"
   ]
  },
  {
   "cell_type": "code",
   "execution_count": 56,
   "metadata": {},
   "outputs": [
    {
     "data": {
      "text/plain": [
       "['미스비시샤시(세미트레일러)',\n",
       " '다이아몬드(추레라)피견인차',\n",
       " '트레라',\n",
       " '세미트레라',\n",
       " '트레일러',\n",
       " '세미트레일러',\n",
       " '쎄미트레라',\n",
       " '일산 육륜',\n",
       " '히노 트레라',\n",
       " '피견인차(탱크로리)',\n",
       " '히노탱크로리트레라',\n",
       " '히노탱크로리',\n",
       " '코티나마크IV',\n",
       " '후소트레일러',\n",
       " '가와사끼샤시(세미트레일러)',\n",
       " '도큐트레일러',\n",
       " '세미 트레일러',\n",
       " '콘테이너샤시콤바인',\n",
       " '콘테이너샤시트레일러',\n",
       " '인터내쇼날트레일러',\n",
       " '추레라',\n",
       " '프렛트홈트레일러콤바인',\n",
       " '프렛트홈트레라콤바인',\n",
       " '제너럴트레일러',\n",
       " '아시아AM707중형버스',\n",
       " '훌러하프탱크추레라',\n",
       " '후루하프트레라',\n",
       " '드라어  추레라',\n",
       " '현대708콘테이너전용트레일러',\n",
       " '인타담프',\n",
       " '동아저상식트레일러',\n",
       " '저상식트레일러',\n",
       " '브리샤2',\n",
       " '추레라(피견인차)',\n",
       " '도큐사요트레러',\n",
       " '새한버스',\n",
       " '다이하스웨곤',\n",
       " '스트리크트레일러샤시',\n",
       " '프랫트홈트레일러콤바인',\n",
       " '세미25톤트레일러',\n",
       " '탱크로리트레라',\n",
       " '도요다웨곤엠브란스',\n",
       " '도요다크라운',\n",
       " '추례라',\n",
       " '진도콤비네이션콘테너샤시',\n",
       " '쎄미트레일러',\n",
       " '로얄살롱',\n",
       " '도요다코로나',\n",
       " '스텔라',\n",
       " '스텔라1.6CXL',\n",
       " '골드호퍼트레일러',\n",
       " '대우11톤카고',\n",
       " '현대401드롭배드트레일러',\n",
       " '대우8톤카고',\n",
       " '맥스디젤삼방',\n",
       " '현대리어엔진버스',\n",
       " '대우26톤드롭베스트레일러',\n",
       " '포니2',\n",
       " '동아덤프트레일러',\n",
       " '도요다크라운로얄싸롱',\n",
       " '현대구즈넥콘테이너트레일러',\n",
       " '현대평판트레일러',\n",
       " '현대20KL스텐탱크트레일러',\n",
       " '23톤구즈넥덤프트레일러',\n",
       " '구즈넥콘테이너샤시',\n",
       " '26톤드톱베드트레일러',\n",
       " '구급차(도요다)',\n",
       " '현대콘테이너트레일러',\n",
       " '동아콘테이너샤시',\n",
       " '진도구즈넥콘테이너샤시',\n",
       " '진도프레트폼트레일러',\n",
       " '진도20피드콘테이저샤시',\n",
       " '25M3벌크시멘트트레일러',\n",
       " \"현대45'익스텐션콘테이너트\",\n",
       " '벤즈230E',\n",
       " '진도구즈넥슬라이더콤비샤시',\n",
       " '프레스토오토매틱',\n",
       " '르망펜타-5',\n",
       " '진도콤비네이션콘테이너샤시',\n",
       " '스텔라오토매틱',\n",
       " '엑셀',\n",
       " '벤즈 230E',\n",
       " '진도구즈넥슬라이더콘테이너',\n",
       " '동아콘테이너샤시콤바인',\n",
       " '캐피탈',\n",
       " '로얄살롱2.0AT',\n",
       " '르망',\n",
       " '현대45`익스텐션콘테이너트',\n",
       " '현대45,익스텐션콘테이너트',\n",
       " '25M3벌크트레일러',\n",
       " '23M3 벌크트레일러',\n",
       " '머큐리 세이블',\n",
       " '트레일러  프렛홈형',\n",
       " '디엠티 탱크 트레일러',\n",
       " '복사14',\n",
       " 'HYUNDAI PRESTO',\n",
       " '미래40피트콤비네이션콘테이너샤시',\n",
       " '도요타 프리우스(하이브리드)',\n",
       " 'TOYOTA CAMRY하이브리드',\n",
       " '보트트레일러',\n",
       " '장보고 보트 트레일러',\n",
       " '동우 가변형 평판트레일러',\n",
       " 'XW300',\n",
       " '대한평판트레일러',\n",
       " '대한콤비컨테이너트레일러',\n",
       " '바인스베르크400LK캠핑트레일러',\n",
       " '미래40피트틸팅컨테이너샤시',\n",
       " '소노마캠팡트레일러',\n",
       " '에어스트림탐지견수송트레일러',\n",
       " '이보1850캠핑트레일러',\n",
       " 'RW300',\n",
       " 'WSR레저장비운송트레일러',\n",
       " '트레일마스터보트트레일러',\n",
       " '제니스5캠핑트레일러',\n",
       " 'ALTEA542캠핑트레일러',\n",
       " '트레일러-LMTV',\n",
       " '카고 트레일러',\n",
       " 'TRAILER CARGO LMTV',\n",
       " 'D.K트레일러',\n",
       " 'FEISHEN일반화물운송트레일러',\n",
       " 'SID 500 F1',\n",
       " '카라반KUS2960평판트레일러',\n",
       " '밤챔버용 트레일러',\n",
       " '아우토니드이동가축관리트레일러',\n",
       " '렉스온캠핑트레일러',\n",
       " '포레스트리버캠핑트레일러',\n",
       " '홍성푸드트레일러',\n",
       " '펜트(FENDT)캠핑트레일러',\n",
       " '밀폐형 방폭트레일러(DynaSEALR X10 LTR on Trailer)',\n",
       " '홍성캠핑트레일러',\n",
       " '아드리아(ADRIA)캠핑트레일러',\n",
       " '트리가노(TRIGANO)스탈렛캠핑트레일러',\n",
       " '엘디스(ELDDIS)캠핑트레일러',\n",
       " '베일리(BAILEY)캠핑트레일러',\n",
       " '바인스버그(WEINSBERG) 캠핑트레일러',\n",
       " '미래40피트평판트레일러',\n",
       " '타버트(TABBERT)캠핑트레일러',\n",
       " '씨티인터내셔널캠핑트레일러']"
      ]
     },
     "execution_count": 56,
     "metadata": {},
     "output_type": "execute_result"
    }
   ],
   "source": [
    "[\n",
    "    '미스비시샤시(세미트레일러)', #\n",
    "    '다이아몬드(추레라)피견인차', #\n",
    "    '트레라', #\n",
    "    '세미트레라', #\n",
    "    '트레일러', #\n",
    "    '세미트레일러', #\n",
    "    '쎄미트레라', #\n",
    "    '일산 육륜', \n",
    "    '히노 트레라', #\n",
    "    '피견인차(탱크로리)', #\n",
    "    '히노탱크로리트레라', #\n",
    "    '히노탱크로리', # 경유\n",
    "    '코티나마크IV', # 휘발유\n",
    "    '후소트레일러', #\n",
    "    '가와사끼샤시(세미트레일러)', #\n",
    "    '도큐트레일러', #\n",
    "    '세미 트레일러', #\n",
    "    '콘테이너샤시콤바인', #\n",
    "    '콘테이너샤시트레일러', #\n",
    "    '인터내쇼날트레일러', #\n",
    "    '추레라', #\n",
    "    '프렛트홈트레일러콤바인', #\n",
    "    '프렛트홈트레라콤바인', #\n",
    "    '제너럴트레일러', #\n",
    "    '아시아AM707중형버스',\n",
    "    '훌러하프탱크추레라',  #\n",
    "    '후루하프트레라', #\n",
    "    '드라어  추레라', #\n",
    "    '현대708콘테이너전용트레일러', #\n",
    "    '인타담프', # 경유\n",
    "    '동아저상식트레일러', #\n",
    "    '저상식트레일러', #\n",
    "    '브리샤2', # 휘발유\n",
    "    '추레라(피견인차)', #\n",
    "    '도큐사요트레러', #\n",
    "    '새한버스', # 경유\n",
    "    '다이하스웨곤', # 휘발유\n",
    "    '스트리크트레일러샤시', #\n",
    "    '프랫트홈트레일러콤바인', #\n",
    "    '세미25톤트레일러', #\n",
    "    '탱크로리트레라', #\n",
    "    '도요다웨곤엠브란스', \n",
    "    '도요다크라운', # 휘발유\n",
    "    '추례라', #\n",
    "    '진도콤비네이션콘테너샤시', #\n",
    "    '쎄미트레일러', #\n",
    "    '로얄살롱', # 휘발유\n",
    "    '도요다코로나', # 휘발유\n",
    "    '스텔라', # 휘발유\n",
    "    '스텔라1.6CXL', \n",
    "    '골드호퍼트레일러', \n",
    "    '대우11톤카고',\n",
    "    '현대401드롭배드트레일러', \n",
    "    '대우8톤카고', \n",
    "    '맥스디젤삼방', \n",
    "    '현대리어엔진버스', \n",
    "    '대우26톤드롭베스트레일러',\n",
    "    '포니2', \n",
    "    '동아덤프트레일러', \n",
    "    '도요다크라운로얄싸롱', \n",
    "    '현대구즈넥콘테이너트레일러', \n",
    "    '현대평판트레일러',\n",
    "    '현대20KL스텐탱크트레일러', \n",
    "    '23톤구즈넥덤프트레일러', \n",
    "    '구즈넥콘테이너샤시', \n",
    "    '26톤드톱베드트레일러',\n",
    "    '구급차(도요다)', \n",
    "    '현대콘테이너트레일러', \n",
    "    '동아콘테이너샤시', \n",
    "    '진도구즈넥콘테이너샤시', \n",
    "    '진도프레트폼트레일러',\n",
    "    '진도20피드콘테이저샤시', \n",
    "    '25M3벌크시멘트트레일러', \n",
    "    \"현대45'익스텐션콘테이너트\", \n",
    "    '벤즈230E',\n",
    "    '진도구즈넥슬라이더콤비샤시', \n",
    "    '프레스토오토매틱', \n",
    "    '르망펜타-5', \n",
    "    '진도콤비네이션콘테이너샤시', \n",
    "    '스텔라오토매틱',\n",
    "    '엑셀', \n",
    "    '벤즈 230E', \n",
    "    '진도구즈넥슬라이더콘테이너', \n",
    "    '동아콘테이너샤시콤바인', \n",
    "    '캐피탈',\n",
    "    '로얄살롱2.0AT', \n",
    "    '르망', \n",
    "    '현대45`익스텐션콘테이너트', \n",
    "    '현대45,익스텐션콘테이너트',\n",
    "    '25M3벌크트레일러', \n",
    "    '23M3 벌크트레일러', \n",
    "    '머큐리 세이블', \n",
    "    '트레일러  프렛홈형',\n",
    "    '디엠티 탱크 트레일러', \n",
    "    '복사14', \n",
    "    'HYUNDAI PRESTO', \n",
    "    '미래40피트콤비네이션콘테이너샤시',\n",
    "    '도요타 프리우스(하이브리드)', \n",
    "    'TOYOTA CAMRY하이브리드', \n",
    "    '보트트레일러', \n",
    "    '장보고 보트 트레일러',\n",
    "    '동우 가변형 평판트레일러', \n",
    "    'XW300', \n",
    "    '대한평판트레일러', \n",
    "    '대한콤비컨테이너트레일러',\n",
    "    '바인스베르크400LK캠핑트레일러', \n",
    "    '미래40피트틸팅컨테이너샤시', \n",
    "    '소노마캠팡트레일러',\n",
    "    '에어스트림탐지견수송트레일러', \n",
    "    '이보1850캠핑트레일러', \n",
    "    'RW300', \n",
    "    'WSR레저장비운송트레일러',\n",
    "    '트레일마스터보트트레일러', \n",
    "    '제니스5캠핑트레일러', \n",
    "    'ALTEA542캠핑트레일러', \n",
    "    '트레일러-LMTV',\n",
    "    '카고 트레일러',\n",
    "    'TRAILER CARGO LMTV', \n",
    "    'D.K트레일러', \n",
    "    'FEISHEN일반화물운송트레일러',\n",
    "    'SID 500 F1', \n",
    "    '카라반KUS2960평판트레일러', \n",
    "    '밤챔버용 트레일러', \n",
    "    '아우토니드이동가축관리트레일러',\n",
    "    '렉스온캠핑트레일러', \n",
    "    '포레스트리버캠핑트레일러', \n",
    "    '홍성푸드트레일러', \n",
    "    '펜트(FENDT)캠핑트레일러',\n",
    "    '밀폐형 방폭트레일러(DynaSEALR X10 LTR on Trailer)', \n",
    "    '홍성캠핑트레일러',\n",
    "    '아드리아(ADRIA)캠핑트레일러', \n",
    "    '트리가노(TRIGANO)스탈렛캠핑트레일러', \n",
    "    '엘디스(ELDDIS)캠핑트레일러',\n",
    "    '베일리(BAILEY)캠핑트레일러', \n",
    "    '바인스버그(WEINSBERG) 캠핑트레일러', \n",
    "    '미래40피트평판트레일러',\n",
    "    '타버트(TABBERT)캠핑트레일러', \n",
    "    '씨티인터내셔널캠핑트레일러'\n",
    "]"
   ]
  },
  {
   "cell_type": "code",
   "execution_count": null,
   "metadata": {},
   "outputs": [],
   "source": [
    "tot2.loc[tot2['차명'] == '도요다크라운로얄싸롱', '연료'] = '휘발유'\n",
    "tot2.loc[tot2['차명'] == '스텔라오토매틱', '연료'] = '휘발유'\n",
    "tot2.loc[tot2['차명'] == '벤즈 230E', '연료'] = '휘발유'\n",
    "tot2.loc[tot2['차명'] == '벤즈230E', '연료'] = '휘발유'"
   ]
  },
  {
   "attachments": {},
   "cell_type": "markdown",
   "metadata": {},
   "source": [
    "## 2022년 6월 기준으로 X등급 샘플"
   ]
  },
  {
   "cell_type": "code",
   "execution_count": null,
   "metadata": {},
   "outputs": [],
   "source": []
  },
  {
   "cell_type": "code",
   "execution_count": null,
   "metadata": {},
   "outputs": [],
   "source": []
  },
  {
   "cell_type": "code",
   "execution_count": null,
   "metadata": {},
   "outputs": [],
   "source": []
  },
  {
   "cell_type": "code",
   "execution_count": null,
   "metadata": {},
   "outputs": [],
   "source": []
  },
  {
   "attachments": {},
   "cell_type": "markdown",
   "metadata": {},
   "source": [
    "# 분석"
   ]
  },
  {
   "attachments": {},
   "cell_type": "markdown",
   "metadata": {},
   "source": [
    "##  연료별 통계"
   ]
  },
  {
   "cell_type": "code",
   "execution_count": 20,
   "metadata": {},
   "outputs": [
    {
     "data": {
      "text/plain": [
       "Index(['차량관리번호', '차량등록번호', '본거지법정동코드', '소유자구분', '차종_등록정보', '용도', '현재회원번호',\n",
       "       '차대번호', '최초등록일자', '차량연식', '차량제작일자', '배출가스검사유효일자', '제원관리번호', '배출가스인증번호',\n",
       "       '배출가스등급', '저공해조치YN(미사용)', '저공해조치종류', '저공해조치구조변경YN', '차량등록번호숫자정보',\n",
       "       '차량말소YN', '최초회원번호', '취득일자', '취득금액', '생성일시_등록정보', '수정일시_등록정보', '차명',\n",
       "       '차종_제원정보', '차종분류', '차종유형(소분류)', '자동차형식', '제작사명', '연료', '엔진형식', '공차중량',\n",
       "       '총중량', '적재중량', '엔진출력', '배기량', '승차인원', '차량길이', '차량너비', '차량높이', '원산지명',\n",
       "       '삭제YN', '승인일자', '구동형식', '변속기종류', '생성일시_제원정보', '수정일시_제원정보', '법정동코드',\n",
       "       '시도', '시구군', '읍면동', '리', '지역3', '폐지여부', '대기관리권역', '대기관리권역YN'],\n",
       "      dtype='object')"
      ]
     },
     "execution_count": 20,
     "metadata": {},
     "output_type": "execute_result"
    }
   ],
   "source": [
    "tot2.columns"
   ]
  },
  {
   "cell_type": "code",
   "execution_count": 21,
   "metadata": {},
   "outputs": [
    {
     "data": {
      "text/plain": [
       "연료           배출가스등급\n",
       "CNG 하이브리드    1            287\n",
       "             2             17\n",
       "CNG(압축천연가스)  2          23282\n",
       "             3           5989\n",
       "             4              1\n",
       "                        ...  \n",
       "NaN          2             26\n",
       "             3            138\n",
       "             4             71\n",
       "             5             29\n",
       "             X         146204\n",
       "Name: 차대번호, Length: 65, dtype: int64"
      ]
     },
     "execution_count": 21,
     "metadata": {},
     "output_type": "execute_result"
    }
   ],
   "source": [
    "tot2.groupby(['연료', '배출가스등급'], dropna=False)['차대번호'].count()"
   ]
  },
  {
   "cell_type": "code",
   "execution_count": 34,
   "metadata": {},
   "outputs": [
    {
     "data": {
      "text/plain": [
       "0"
      ]
     },
     "execution_count": 34,
     "metadata": {},
     "output_type": "execute_result"
    }
   ],
   "source": [
    "tot2['배출가스등급'].isnull().sum()"
   ]
  },
  {
   "cell_type": "code",
   "execution_count": 57,
   "metadata": {},
   "outputs": [
    {
     "data": {
      "text/plain": [
       "(288615, 58)"
      ]
     },
     "execution_count": 57,
     "metadata": {},
     "output_type": "execute_result"
    }
   ],
   "source": [
    "tot2[tot2['배출가스등급'] == 'X'].shape"
   ]
  },
  {
   "cell_type": "code",
   "execution_count": 22,
   "metadata": {},
   "outputs": [
    {
     "data": {
      "text/html": [
       "<div>\n",
       "<style scoped>\n",
       "    .dataframe tbody tr th:only-of-type {\n",
       "        vertical-align: middle;\n",
       "    }\n",
       "\n",
       "    .dataframe tbody tr th {\n",
       "        vertical-align: top;\n",
       "    }\n",
       "\n",
       "    .dataframe thead th {\n",
       "        text-align: right;\n",
       "    }\n",
       "</style>\n",
       "<table border=\"1\" class=\"dataframe\">\n",
       "  <thead>\n",
       "    <tr style=\"text-align: right;\">\n",
       "      <th>배출가스등급</th>\n",
       "      <th>1</th>\n",
       "      <th>2</th>\n",
       "      <th>3</th>\n",
       "      <th>4</th>\n",
       "      <th>5</th>\n",
       "      <th>T2</th>\n",
       "      <th>T3</th>\n",
       "      <th>T4</th>\n",
       "      <th>T5</th>\n",
       "      <th>X</th>\n",
       "    </tr>\n",
       "    <tr>\n",
       "      <th>연료</th>\n",
       "      <th></th>\n",
       "      <th></th>\n",
       "      <th></th>\n",
       "      <th></th>\n",
       "      <th></th>\n",
       "      <th></th>\n",
       "      <th></th>\n",
       "      <th></th>\n",
       "      <th></th>\n",
       "      <th></th>\n",
       "    </tr>\n",
       "  </thead>\n",
       "  <tbody>\n",
       "    <tr>\n",
       "      <th>CNG 하이브리드</th>\n",
       "      <td>287.0</td>\n",
       "      <td>17.0</td>\n",
       "      <td>NaN</td>\n",
       "      <td>NaN</td>\n",
       "      <td>NaN</td>\n",
       "      <td>NaN</td>\n",
       "      <td>NaN</td>\n",
       "      <td>NaN</td>\n",
       "      <td>NaN</td>\n",
       "      <td>NaN</td>\n",
       "    </tr>\n",
       "    <tr>\n",
       "      <th>CNG(압축천연가스)</th>\n",
       "      <td>NaN</td>\n",
       "      <td>23282.0</td>\n",
       "      <td>5989.0</td>\n",
       "      <td>1.0</td>\n",
       "      <td>5.0</td>\n",
       "      <td>945.0</td>\n",
       "      <td>NaN</td>\n",
       "      <td>NaN</td>\n",
       "      <td>NaN</td>\n",
       "      <td>150.0</td>\n",
       "    </tr>\n",
       "    <tr>\n",
       "      <th>LNG(액화천연가스)</th>\n",
       "      <td>NaN</td>\n",
       "      <td>2.0</td>\n",
       "      <td>NaN</td>\n",
       "      <td>NaN</td>\n",
       "      <td>NaN</td>\n",
       "      <td>23.0</td>\n",
       "      <td>NaN</td>\n",
       "      <td>NaN</td>\n",
       "      <td>NaN</td>\n",
       "      <td>2.0</td>\n",
       "    </tr>\n",
       "    <tr>\n",
       "      <th>LPG 하이브리드</th>\n",
       "      <td>14298.0</td>\n",
       "      <td>NaN</td>\n",
       "      <td>NaN</td>\n",
       "      <td>NaN</td>\n",
       "      <td>NaN</td>\n",
       "      <td>1.0</td>\n",
       "      <td>NaN</td>\n",
       "      <td>NaN</td>\n",
       "      <td>NaN</td>\n",
       "      <td>2.0</td>\n",
       "    </tr>\n",
       "    <tr>\n",
       "      <th>LPG(액화석유가스)</th>\n",
       "      <td>460969.0</td>\n",
       "      <td>1161049.0</td>\n",
       "      <td>235912.0</td>\n",
       "      <td>26018.0</td>\n",
       "      <td>433.0</td>\n",
       "      <td>7395.0</td>\n",
       "      <td>NaN</td>\n",
       "      <td>NaN</td>\n",
       "      <td>NaN</td>\n",
       "      <td>7583.0</td>\n",
       "    </tr>\n",
       "    <tr>\n",
       "      <th>경유</th>\n",
       "      <td>NaN</td>\n",
       "      <td>NaN</td>\n",
       "      <td>7437223.0</td>\n",
       "      <td>1148915.0</td>\n",
       "      <td>1119808.0</td>\n",
       "      <td>NaN</td>\n",
       "      <td>119825.0</td>\n",
       "      <td>29.0</td>\n",
       "      <td>18.0</td>\n",
       "      <td>29995.0</td>\n",
       "    </tr>\n",
       "    <tr>\n",
       "      <th>경유 하이브리드</th>\n",
       "      <td>NaN</td>\n",
       "      <td>NaN</td>\n",
       "      <td>18039.0</td>\n",
       "      <td>NaN</td>\n",
       "      <td>NaN</td>\n",
       "      <td>NaN</td>\n",
       "      <td>16100.0</td>\n",
       "      <td>NaN</td>\n",
       "      <td>NaN</td>\n",
       "      <td>1588.0</td>\n",
       "    </tr>\n",
       "    <tr>\n",
       "      <th>기타연료</th>\n",
       "      <td>NaN</td>\n",
       "      <td>NaN</td>\n",
       "      <td>3.0</td>\n",
       "      <td>36.0</td>\n",
       "      <td>20.0</td>\n",
       "      <td>NaN</td>\n",
       "      <td>NaN</td>\n",
       "      <td>3.0</td>\n",
       "      <td>5.0</td>\n",
       "      <td>859.0</td>\n",
       "    </tr>\n",
       "    <tr>\n",
       "      <th>등유</th>\n",
       "      <td>NaN</td>\n",
       "      <td>NaN</td>\n",
       "      <td>NaN</td>\n",
       "      <td>NaN</td>\n",
       "      <td>NaN</td>\n",
       "      <td>NaN</td>\n",
       "      <td>NaN</td>\n",
       "      <td>NaN</td>\n",
       "      <td>NaN</td>\n",
       "      <td>1.0</td>\n",
       "    </tr>\n",
       "    <tr>\n",
       "      <th>수소</th>\n",
       "      <td>28074.0</td>\n",
       "      <td>NaN</td>\n",
       "      <td>NaN</td>\n",
       "      <td>NaN</td>\n",
       "      <td>NaN</td>\n",
       "      <td>NaN</td>\n",
       "      <td>NaN</td>\n",
       "      <td>NaN</td>\n",
       "      <td>NaN</td>\n",
       "      <td>125.0</td>\n",
       "    </tr>\n",
       "    <tr>\n",
       "      <th>알코올</th>\n",
       "      <td>NaN</td>\n",
       "      <td>NaN</td>\n",
       "      <td>NaN</td>\n",
       "      <td>1.0</td>\n",
       "      <td>1.0</td>\n",
       "      <td>NaN</td>\n",
       "      <td>NaN</td>\n",
       "      <td>NaN</td>\n",
       "      <td>NaN</td>\n",
       "      <td>1.0</td>\n",
       "    </tr>\n",
       "    <tr>\n",
       "      <th>전기</th>\n",
       "      <td>366265.0</td>\n",
       "      <td>NaN</td>\n",
       "      <td>NaN</td>\n",
       "      <td>NaN</td>\n",
       "      <td>NaN</td>\n",
       "      <td>NaN</td>\n",
       "      <td>NaN</td>\n",
       "      <td>NaN</td>\n",
       "      <td>NaN</td>\n",
       "      <td>1885.0</td>\n",
       "    </tr>\n",
       "    <tr>\n",
       "      <th>태양열</th>\n",
       "      <td>NaN</td>\n",
       "      <td>NaN</td>\n",
       "      <td>NaN</td>\n",
       "      <td>NaN</td>\n",
       "      <td>NaN</td>\n",
       "      <td>NaN</td>\n",
       "      <td>NaN</td>\n",
       "      <td>NaN</td>\n",
       "      <td>NaN</td>\n",
       "      <td>2.0</td>\n",
       "    </tr>\n",
       "    <tr>\n",
       "      <th>휘발유</th>\n",
       "      <td>966493.0</td>\n",
       "      <td>9685656.0</td>\n",
       "      <td>895656.0</td>\n",
       "      <td>330853.0</td>\n",
       "      <td>29835.0</td>\n",
       "      <td>154411.0</td>\n",
       "      <td>48.0</td>\n",
       "      <td>5.0</td>\n",
       "      <td>5.0</td>\n",
       "      <td>75859.0</td>\n",
       "    </tr>\n",
       "    <tr>\n",
       "      <th>휘발유 하이브리드</th>\n",
       "      <td>928223.0</td>\n",
       "      <td>55941.0</td>\n",
       "      <td>NaN</td>\n",
       "      <td>NaN</td>\n",
       "      <td>NaN</td>\n",
       "      <td>84217.0</td>\n",
       "      <td>NaN</td>\n",
       "      <td>NaN</td>\n",
       "      <td>NaN</td>\n",
       "      <td>24359.0</td>\n",
       "    </tr>\n",
       "    <tr>\n",
       "      <th>NaN</th>\n",
       "      <td>NaN</td>\n",
       "      <td>26.0</td>\n",
       "      <td>138.0</td>\n",
       "      <td>71.0</td>\n",
       "      <td>29.0</td>\n",
       "      <td>NaN</td>\n",
       "      <td>NaN</td>\n",
       "      <td>NaN</td>\n",
       "      <td>NaN</td>\n",
       "      <td>146204.0</td>\n",
       "    </tr>\n",
       "  </tbody>\n",
       "</table>\n",
       "</div>"
      ],
      "text/plain": [
       "배출가스등급              1          2          3          4          5        T2  \\\n",
       "연료                                                                            \n",
       "CNG 하이브리드       287.0       17.0        NaN        NaN        NaN       NaN   \n",
       "CNG(압축천연가스)       NaN    23282.0     5989.0        1.0        5.0     945.0   \n",
       "LNG(액화천연가스)       NaN        2.0        NaN        NaN        NaN      23.0   \n",
       "LPG 하이브리드     14298.0        NaN        NaN        NaN        NaN       1.0   \n",
       "LPG(액화석유가스)  460969.0  1161049.0   235912.0    26018.0      433.0    7395.0   \n",
       "경유                NaN        NaN  7437223.0  1148915.0  1119808.0       NaN   \n",
       "경유 하이브리드          NaN        NaN    18039.0        NaN        NaN       NaN   \n",
       "기타연료              NaN        NaN        3.0       36.0       20.0       NaN   \n",
       "등유                NaN        NaN        NaN        NaN        NaN       NaN   \n",
       "수소            28074.0        NaN        NaN        NaN        NaN       NaN   \n",
       "알코올               NaN        NaN        NaN        1.0        1.0       NaN   \n",
       "전기           366265.0        NaN        NaN        NaN        NaN       NaN   \n",
       "태양열               NaN        NaN        NaN        NaN        NaN       NaN   \n",
       "휘발유          966493.0  9685656.0   895656.0   330853.0    29835.0  154411.0   \n",
       "휘발유 하이브리드    928223.0    55941.0        NaN        NaN        NaN   84217.0   \n",
       "NaN               NaN       26.0      138.0       71.0       29.0       NaN   \n",
       "\n",
       "배출가스등급             T3    T4    T5         X  \n",
       "연료                                           \n",
       "CNG 하이브리드         NaN   NaN   NaN       NaN  \n",
       "CNG(압축천연가스)       NaN   NaN   NaN     150.0  \n",
       "LNG(액화천연가스)       NaN   NaN   NaN       2.0  \n",
       "LPG 하이브리드         NaN   NaN   NaN       2.0  \n",
       "LPG(액화석유가스)       NaN   NaN   NaN    7583.0  \n",
       "경유           119825.0  29.0  18.0   29995.0  \n",
       "경유 하이브리드      16100.0   NaN   NaN    1588.0  \n",
       "기타연료              NaN   3.0   5.0     859.0  \n",
       "등유                NaN   NaN   NaN       1.0  \n",
       "수소                NaN   NaN   NaN     125.0  \n",
       "알코올               NaN   NaN   NaN       1.0  \n",
       "전기                NaN   NaN   NaN    1885.0  \n",
       "태양열               NaN   NaN   NaN       2.0  \n",
       "휘발유              48.0   5.0   5.0   75859.0  \n",
       "휘발유 하이브리드         NaN   NaN   NaN   24359.0  \n",
       "NaN               NaN   NaN   NaN  146204.0  "
      ]
     },
     "execution_count": 22,
     "metadata": {},
     "output_type": "execute_result"
    }
   ],
   "source": [
    "tot2.groupby(['연료', '배출가스등급'], dropna=False)['차대번호'].count().unstack()"
   ]
  },
  {
   "cell_type": "code",
   "execution_count": 39,
   "metadata": {},
   "outputs": [
    {
     "data": {
      "text/plain": [
       "(10925973, 58)"
      ]
     },
     "execution_count": 39,
     "metadata": {},
     "output_type": "execute_result"
    }
   ],
   "source": [
    "tot2[tot2['배출가스등급'] == '2'].shape"
   ]
  },
  {
   "cell_type": "code",
   "execution_count": 35,
   "metadata": {},
   "outputs": [
    {
     "data": {
      "text/plain": [
       "(246992, 58)"
      ]
     },
     "execution_count": 35,
     "metadata": {},
     "output_type": "execute_result"
    }
   ],
   "source": [
    "tot2[tot2['배출가스등급'] == 'T2'].shape"
   ]
  },
  {
   "cell_type": "code",
   "execution_count": 40,
   "metadata": {},
   "outputs": [
    {
     "data": {
      "text/plain": [
       "(8592960, 58)"
      ]
     },
     "execution_count": 40,
     "metadata": {},
     "output_type": "execute_result"
    }
   ],
   "source": [
    "tot2[tot2['배출가스등급'] == '3'].shape"
   ]
  },
  {
   "cell_type": "code",
   "execution_count": 36,
   "metadata": {},
   "outputs": [
    {
     "data": {
      "text/plain": [
       "(135973, 58)"
      ]
     },
     "execution_count": 36,
     "metadata": {},
     "output_type": "execute_result"
    }
   ],
   "source": [
    "tot2[tot2['배출가스등급'] == 'T3'].shape"
   ]
  },
  {
   "cell_type": "code",
   "execution_count": 41,
   "metadata": {},
   "outputs": [
    {
     "data": {
      "text/plain": [
       "(1505895, 58)"
      ]
     },
     "execution_count": 41,
     "metadata": {},
     "output_type": "execute_result"
    }
   ],
   "source": [
    "tot2[tot2['배출가스등급'] == '4'].shape"
   ]
  },
  {
   "cell_type": "code",
   "execution_count": 37,
   "metadata": {},
   "outputs": [
    {
     "data": {
      "text/plain": [
       "(37, 58)"
      ]
     },
     "execution_count": 37,
     "metadata": {},
     "output_type": "execute_result"
    }
   ],
   "source": [
    "tot2[tot2['배출가스등급'] == 'T4'].shape"
   ]
  },
  {
   "cell_type": "code",
   "execution_count": 42,
   "metadata": {},
   "outputs": [
    {
     "data": {
      "text/plain": [
       "(1150131, 58)"
      ]
     },
     "execution_count": 42,
     "metadata": {},
     "output_type": "execute_result"
    }
   ],
   "source": [
    "tot2[tot2['배출가스등급'] == '5'].shape"
   ]
  },
  {
   "cell_type": "code",
   "execution_count": 38,
   "metadata": {},
   "outputs": [
    {
     "data": {
      "text/plain": [
       "(28, 58)"
      ]
     },
     "execution_count": 38,
     "metadata": {},
     "output_type": "execute_result"
    }
   ],
   "source": [
    "tot2[tot2['배출가스등급'] == 'T5'].shape"
   ]
  },
  {
   "cell_type": "code",
   "execution_count": 23,
   "metadata": {},
   "outputs": [
    {
     "data": {
      "text/plain": [
       "array(['서울', '대구', '인천', '강원', '경남', '전북', '충북', '경기', '부산', '대전', '울산',\n",
       "       '경북', '제주', '전남', '광주', '충남', '세종'], dtype=object)"
      ]
     },
     "execution_count": 23,
     "metadata": {},
     "output_type": "execute_result"
    }
   ],
   "source": [
    "tot2['시도'].unique()"
   ]
  },
  {
   "cell_type": "code",
   "execution_count": 24,
   "metadata": {},
   "outputs": [
    {
     "data": {
      "text/plain": [
       "0"
      ]
     },
     "execution_count": 24,
     "metadata": {},
     "output_type": "execute_result"
    }
   ],
   "source": [
    "tot2['시도'].isnull().sum()"
   ]
  },
  {
   "cell_type": "code",
   "execution_count": 25,
   "metadata": {},
   "outputs": [
    {
     "data": {
      "text/plain": [
       "array(['수도권', '동남권', '그 외', '중부권', '남부권'], dtype=object)"
      ]
     },
     "execution_count": 25,
     "metadata": {},
     "output_type": "execute_result"
    }
   ],
   "source": [
    "tot2['대기관리권역'].unique()"
   ]
  },
  {
   "cell_type": "code",
   "execution_count": 26,
   "metadata": {},
   "outputs": [
    {
     "data": {
      "text/plain": [
       "0"
      ]
     },
     "execution_count": 26,
     "metadata": {},
     "output_type": "execute_result"
    }
   ],
   "source": [
    "tot2['대기관리권역'].isnull().sum()"
   ]
  },
  {
   "cell_type": "code",
   "execution_count": 27,
   "metadata": {},
   "outputs": [
    {
     "data": {
      "text/plain": [
       "array(['Y', 'N', nan], dtype=object)"
      ]
     },
     "execution_count": 27,
     "metadata": {},
     "output_type": "execute_result"
    }
   ],
   "source": [
    "tot2['대기관리권역YN'].unique()"
   ]
  },
  {
   "cell_type": "code",
   "execution_count": 28,
   "metadata": {},
   "outputs": [
    {
     "data": {
      "text/plain": [
       "1"
      ]
     },
     "execution_count": 28,
     "metadata": {},
     "output_type": "execute_result"
    }
   ],
   "source": [
    "tot2['대기관리권역YN'].isnull().sum()"
   ]
  },
  {
   "cell_type": "code",
   "execution_count": 31,
   "metadata": {},
   "outputs": [
    {
     "data": {
      "text/html": [
       "<div>\n",
       "<style scoped>\n",
       "    .dataframe tbody tr th:only-of-type {\n",
       "        vertical-align: middle;\n",
       "    }\n",
       "\n",
       "    .dataframe tbody tr th {\n",
       "        vertical-align: top;\n",
       "    }\n",
       "\n",
       "    .dataframe thead th {\n",
       "        text-align: right;\n",
       "    }\n",
       "</style>\n",
       "<table border=\"1\" class=\"dataframe\">\n",
       "  <thead>\n",
       "    <tr style=\"text-align: right;\">\n",
       "      <th></th>\n",
       "      <th>대기관리권역</th>\n",
       "      <th>시도</th>\n",
       "      <th>시구군</th>\n",
       "      <th>읍면동</th>\n",
       "      <th>리</th>\n",
       "      <th>지역3</th>\n",
       "    </tr>\n",
       "  </thead>\n",
       "  <tbody>\n",
       "    <tr>\n",
       "      <th>6139</th>\n",
       "      <td>수도권</td>\n",
       "      <td>경기</td>\n",
       "      <td>NaN</td>\n",
       "      <td>NaN</td>\n",
       "      <td>NaN</td>\n",
       "      <td>NaN</td>\n",
       "    </tr>\n",
       "  </tbody>\n",
       "</table>\n",
       "</div>"
      ],
      "text/plain": [
       "     대기관리권역  시도  시구군  읍면동    리  지역3\n",
       "6139    수도권  경기  NaN  NaN  NaN  NaN"
      ]
     },
     "execution_count": 31,
     "metadata": {},
     "output_type": "execute_result"
    }
   ],
   "source": [
    "tot2.loc[tot2['대기관리권역YN'].isnull() == True, ['대기관리권역', '시도', '시구군', '읍면동', '리', '지역3']]"
   ]
  },
  {
   "cell_type": "code",
   "execution_count": null,
   "metadata": {},
   "outputs": [],
   "source": []
  }
 ],
 "metadata": {
  "kernelspec": {
   "display_name": "base",
   "language": "python",
   "name": "python3"
  },
  "language_info": {
   "codemirror_mode": {
    "name": "ipython",
    "version": 3
   },
   "file_extension": ".py",
   "mimetype": "text/x-python",
   "name": "python",
   "nbconvert_exporter": "python",
   "pygments_lexer": "ipython3",
   "version": "3.9.13"
  },
  "orig_nbformat": 4,
  "vscode": {
   "interpreter": {
    "hash": "ad2bdc8ecc057115af97d19610ffacc2b4e99fae6737bb82f5d7fb13d2f2c186"
   }
  }
 },
 "nbformat": 4,
 "nbformat_minor": 2
}
