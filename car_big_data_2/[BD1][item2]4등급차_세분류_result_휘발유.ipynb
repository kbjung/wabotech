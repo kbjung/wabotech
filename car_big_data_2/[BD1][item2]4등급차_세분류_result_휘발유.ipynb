{
 "cells": [
  {
   "attachments": {},
   "cell_type": "markdown",
   "metadata": {},
   "source": [
    "# Library"
   ]
  },
  {
   "cell_type": "code",
   "execution_count": 1,
   "metadata": {},
   "outputs": [],
   "source": [
    "import pandas as pd\n",
    "import numpy as np\n",
    "import os\n",
    "from tqdm import tqdm\n",
    "from datetime import datetime"
   ]
  },
  {
   "cell_type": "code",
   "execution_count": 2,
   "metadata": {},
   "outputs": [],
   "source": [
    "# 소수점 옵션\n",
    "pd.options.display.float_format = '{:.2f}'.format\n",
    "# pd.reset_option('display.float_format')"
   ]
  },
  {
   "attachments": {},
   "cell_type": "markdown",
   "metadata": {},
   "source": [
    "# 수정사항\n",
    "- 2023.03.21\n",
    "    - item 2 : EG\n",
    "        - 1. 개별 차량에 대한 지역코드를 부여하여, 지역마다 얼마나 차량들이 존재하는지 구분이 필요한 것 같음\n",
    "\n",
    "    이 외에도 내일 오전에 동양에서 가시화와 관련된 회의에서 추가적으로 필요하다고 판단되는 사항에 대해 추가적으로 분석이 필요할 것 같음\n",
    "\n",
    "- 2023.03.22\n",
    "    - item2 : EG \n",
    "        - result파일에 'EG' 컬럼 추가"
   ]
  },
  {
   "attachments": {},
   "cell_type": "markdown",
   "metadata": {},
   "source": [
    "# fold path"
   ]
  },
  {
   "cell_type": "code",
   "execution_count": 3,
   "metadata": {},
   "outputs": [],
   "source": [
    "raw_fold = 'D:/data/big2/BD1/raw'\n",
    "ods_fold = 'D:/data/big2/ODS'\n",
    "sample_fold = 'D:/data/big2/BD1/sample'\n",
    "analysis_fold = 'D:/data/big2/BD1/an'"
   ]
  },
  {
   "attachments": {},
   "cell_type": "markdown",
   "metadata": {},
   "source": [
    "# Load"
   ]
  },
  {
   "attachments": {},
   "cell_type": "markdown",
   "metadata": {},
   "source": [
    "## 병합 result 최종 파일"
   ]
  },
  {
   "cell_type": "code",
   "execution_count": 4,
   "metadata": {},
   "outputs": [
    {
     "name": "stdout",
     "output_type": "stream",
     "text": [
      "<class 'pandas.core.frame.DataFrame'>\n",
      "RangeIndex: 1153813 entries, 0 to 1153812\n",
      "Data columns (total 31 columns):\n",
      " #   Column    Non-Null Count    Dtype  \n",
      "---  ------    --------------    -----  \n",
      " 0   차대번호      1153813 non-null  object \n",
      " 1   차량번호      1153813 non-null  object \n",
      " 2   제원관리번호    1153813 non-null  object \n",
      " 3   차종_원본     1153813 non-null  object \n",
      " 4   용도        1153813 non-null  object \n",
      " 5   최초등록일     1153813 non-null  int64  \n",
      " 6   연식        1153813 non-null  int64  \n",
      " 7   제작일자      1153809 non-null  float64\n",
      " 8   검사유효일     1153810 non-null  float64\n",
      " 9   배출가스인증번호  1146663 non-null  object \n",
      " 10  등급        1153813 non-null  int64  \n",
      " 11  차명        1153813 non-null  object \n",
      " 12  차종분류      1153813 non-null  object \n",
      " 13  차종유형      1153813 non-null  object \n",
      " 14  자동차형식     1153812 non-null  object \n",
      " 15  제작사명      1153795 non-null  object \n",
      " 16  연료        1153813 non-null  object \n",
      " 17  엔진형식      1153813 non-null  object \n",
      " 18  총중량       1153813 non-null  int64  \n",
      " 19  적재중량      1153589 non-null  float64\n",
      " 20  엔진출력      1153811 non-null  float64\n",
      " 21  배기량       1153813 non-null  int64  \n",
      " 22  법정동코드     1153813 non-null  int64  \n",
      " 23  시도명       1153813 non-null  object \n",
      " 24  시군구명      1153813 non-null  object \n",
      " 25  소유자구분     1153813 non-null  object \n",
      " 26  말소여부      1153813 non-null  object \n",
      " 27  일치유무      1153813 non-null  object \n",
      " 28  배인번호_수정   1153813 non-null  object \n",
      " 29  등급_수정     1153813 non-null  int64  \n",
      " 30  DPF유무_수정  1153813 non-null  object \n",
      "dtypes: float64(4), int64(7), object(20)\n",
      "memory usage: 272.9+ MB\n"
     ]
    }
   ],
   "source": [
    "# about 12s\n",
    "name = '4등급 차량 리스트 양식 result 최종(2023.03.22)'\n",
    "file_name = f'{name}.csv'\n",
    "result = pd.read_csv(os.path.join(raw_fold, file_name), low_memory=False, encoding='cp949')\n",
    "result.info()"
   ]
  },
  {
   "attachments": {},
   "cell_type": "markdown",
   "metadata": {},
   "source": [
    "## 본거지법정동코드"
   ]
  },
  {
   "cell_type": "code",
   "execution_count": 5,
   "metadata": {},
   "outputs": [
    {
     "name": "stdout",
     "output_type": "stream",
     "text": [
      "<class 'pandas.core.frame.DataFrame'>\n",
      "RangeIndex: 46340 entries, 0 to 46339\n",
      "Data columns (total 9 columns):\n",
      " #   Column    Non-Null Count  Dtype  \n",
      "---  ------    --------------  -----  \n",
      " 0   법정동코드     46340 non-null  int64  \n",
      " 1   시도        46340 non-null  object \n",
      " 2   시구군       46317 non-null  object \n",
      " 3   읍면동       45847 non-null  object \n",
      " 4   리         33682 non-null  object \n",
      " 5   지역3       0 non-null      float64\n",
      " 6   폐지여부      46340 non-null  object \n",
      " 7   대기관리권역    46340 non-null  object \n",
      " 8   대기관리권역YN  46334 non-null  object \n",
      "dtypes: float64(1), int64(1), object(7)\n",
      "memory usage: 3.2+ MB\n"
     ]
    }
   ],
   "source": [
    "code = pd.read_excel('D:/data/big2/법정동코드_2022.10.14.xlsx')\n",
    "code.info()"
   ]
  },
  {
   "attachments": {},
   "cell_type": "markdown",
   "metadata": {},
   "source": [
    "# 전처리"
   ]
  },
  {
   "attachments": {},
   "cell_type": "markdown",
   "metadata": {},
   "source": [
    "## 4등급 차량만"
   ]
  },
  {
   "cell_type": "code",
   "execution_count": 6,
   "metadata": {},
   "outputs": [
    {
     "data": {
      "text/plain": [
       "4    1148315\n",
       "3       5372\n",
       "5        126\n",
       "Name: 등급_수정, dtype: int64"
      ]
     },
     "execution_count": 6,
     "metadata": {},
     "output_type": "execute_result"
    }
   ],
   "source": [
    "result['등급_수정'].value_counts(dropna=False)"
   ]
  },
  {
   "cell_type": "code",
   "execution_count": 7,
   "metadata": {},
   "outputs": [
    {
     "data": {
      "text/plain": [
       "(1148315, 31)"
      ]
     },
     "execution_count": 7,
     "metadata": {},
     "output_type": "execute_result"
    }
   ],
   "source": [
    "result1 = result.loc[result['등급_수정'] == 4]\n",
    "result1.shape"
   ]
  },
  {
   "cell_type": "code",
   "execution_count": 8,
   "metadata": {},
   "outputs": [
    {
     "data": {
      "text/plain": [
       "(5498, 31)"
      ]
     },
     "execution_count": 8,
     "metadata": {},
     "output_type": "execute_result"
    }
   ],
   "source": [
    "g3_g5 = result.loc[result['등급_수정'] != 4]\n",
    "g3_g5.shape"
   ]
  },
  {
   "attachments": {},
   "cell_type": "markdown",
   "metadata": {},
   "source": [
    "## 중복 차대번호 제거\n",
    "- 최종등록일자, 배출가스검사유효일자 최신 데이터 사용"
   ]
  },
  {
   "cell_type": "code",
   "execution_count": 9,
   "metadata": {},
   "outputs": [
    {
     "data": {
      "text/plain": [
       "1148315"
      ]
     },
     "execution_count": 9,
     "metadata": {},
     "output_type": "execute_result"
    }
   ],
   "source": [
    "len(result1['차대번호'].unique())"
   ]
  },
  {
   "attachments": {},
   "cell_type": "markdown",
   "metadata": {},
   "source": [
    "## 기타연료 처리\n",
    "- '제원관리번호'로 매칭\n",
    "- '자동차형식' 으로 매칭\n",
    "- '엔진형식' 으로 매칭"
   ]
  },
  {
   "cell_type": "code",
   "execution_count": 10,
   "metadata": {},
   "outputs": [
    {
     "data": {
      "text/plain": [
       "경유    1148315\n",
       "Name: 연료, dtype: int64"
      ]
     },
     "execution_count": 10,
     "metadata": {},
     "output_type": "execute_result"
    }
   ],
   "source": [
    "result1['연료'].value_counts(dropna=False)"
   ]
  },
  {
   "attachments": {},
   "cell_type": "markdown",
   "metadata": {},
   "source": [
    "## 본거지법정동 코드 병합\n",
    "- 본거지법정동코드, 법정동코드 기준"
   ]
  },
  {
   "cell_type": "code",
   "execution_count": 11,
   "metadata": {},
   "outputs": [
    {
     "data": {
      "text/plain": [
       "Index(['차대번호', '차량번호', '제원관리번호', '차종_원본', '용도', '최초등록일', '연식', '제작일자', '검사유효일',\n",
       "       '배출가스인증번호', '등급', '차명', '차종분류', '차종유형', '자동차형식', '제작사명', '연료', '엔진형식',\n",
       "       '총중량', '적재중량', '엔진출력', '배기량', '법정동코드', '시도명', '시군구명', '소유자구분', '말소여부',\n",
       "       '일치유무', '배인번호_수정', '등급_수정', 'DPF유무_수정'],\n",
       "      dtype='object')"
      ]
     },
     "execution_count": 11,
     "metadata": {},
     "output_type": "execute_result"
    }
   ],
   "source": [
    "result1.columns"
   ]
  },
  {
   "cell_type": "code",
   "execution_count": 12,
   "metadata": {},
   "outputs": [
    {
     "data": {
      "text/plain": [
       "Index(['법정동코드', '시도', '시구군', '읍면동', '리', '지역3', '폐지여부', '대기관리권역', '대기관리권역YN'], dtype='object')"
      ]
     },
     "execution_count": 12,
     "metadata": {},
     "output_type": "execute_result"
    }
   ],
   "source": [
    "code.columns"
   ]
  },
  {
   "cell_type": "code",
   "execution_count": 13,
   "metadata": {},
   "outputs": [
    {
     "data": {
      "text/html": [
       "<div>\n",
       "<style scoped>\n",
       "    .dataframe tbody tr th:only-of-type {\n",
       "        vertical-align: middle;\n",
       "    }\n",
       "\n",
       "    .dataframe tbody tr th {\n",
       "        vertical-align: top;\n",
       "    }\n",
       "\n",
       "    .dataframe thead th {\n",
       "        text-align: right;\n",
       "    }\n",
       "</style>\n",
       "<table border=\"1\" class=\"dataframe\">\n",
       "  <thead>\n",
       "    <tr style=\"text-align: right;\">\n",
       "      <th></th>\n",
       "      <th>법정동코드</th>\n",
       "      <th>시도명</th>\n",
       "      <th>시군구명</th>\n",
       "      <th>말소여부</th>\n",
       "    </tr>\n",
       "  </thead>\n",
       "  <tbody>\n",
       "    <tr>\n",
       "      <th>0</th>\n",
       "      <td>3017011600</td>\n",
       "      <td>대전광역시</td>\n",
       "      <td>서구</td>\n",
       "      <td>N</td>\n",
       "    </tr>\n",
       "    <tr>\n",
       "      <th>1</th>\n",
       "      <td>2635010700</td>\n",
       "      <td>부산광역시</td>\n",
       "      <td>해운대구</td>\n",
       "      <td>N</td>\n",
       "    </tr>\n",
       "    <tr>\n",
       "      <th>2</th>\n",
       "      <td>4148012200</td>\n",
       "      <td>경기도</td>\n",
       "      <td>파주시</td>\n",
       "      <td>N</td>\n",
       "    </tr>\n",
       "    <tr>\n",
       "      <th>3</th>\n",
       "      <td>2623010900</td>\n",
       "      <td>부산광역시</td>\n",
       "      <td>부산진구</td>\n",
       "      <td>N</td>\n",
       "    </tr>\n",
       "    <tr>\n",
       "      <th>4</th>\n",
       "      <td>5013010300</td>\n",
       "      <td>제주특별자치도</td>\n",
       "      <td>서귀포시</td>\n",
       "      <td>N</td>\n",
       "    </tr>\n",
       "  </tbody>\n",
       "</table>\n",
       "</div>"
      ],
      "text/plain": [
       "        법정동코드      시도명  시군구명 말소여부\n",
       "0  3017011600    대전광역시    서구    N\n",
       "1  2635010700    부산광역시  해운대구    N\n",
       "2  4148012200      경기도   파주시    N\n",
       "3  2623010900    부산광역시  부산진구    N\n",
       "4  5013010300  제주특별자치도  서귀포시    N"
      ]
     },
     "execution_count": 13,
     "metadata": {},
     "output_type": "execute_result"
    }
   ],
   "source": [
    "result1[['법정동코드', '시도명', '시군구명', '말소여부']].head()"
   ]
  },
  {
   "cell_type": "code",
   "execution_count": 14,
   "metadata": {},
   "outputs": [
    {
     "data": {
      "text/html": [
       "<div>\n",
       "<style scoped>\n",
       "    .dataframe tbody tr th:only-of-type {\n",
       "        vertical-align: middle;\n",
       "    }\n",
       "\n",
       "    .dataframe tbody tr th {\n",
       "        vertical-align: top;\n",
       "    }\n",
       "\n",
       "    .dataframe thead th {\n",
       "        text-align: right;\n",
       "    }\n",
       "</style>\n",
       "<table border=\"1\" class=\"dataframe\">\n",
       "  <thead>\n",
       "    <tr style=\"text-align: right;\">\n",
       "      <th></th>\n",
       "      <th>법정동코드</th>\n",
       "      <th>시도</th>\n",
       "      <th>시구군</th>\n",
       "      <th>읍면동</th>\n",
       "      <th>리</th>\n",
       "      <th>지역3</th>\n",
       "      <th>폐지여부</th>\n",
       "      <th>대기관리권역</th>\n",
       "      <th>대기관리권역YN</th>\n",
       "    </tr>\n",
       "  </thead>\n",
       "  <tbody>\n",
       "    <tr>\n",
       "      <th>0</th>\n",
       "      <td>1100000000</td>\n",
       "      <td>서울</td>\n",
       "      <td>NaN</td>\n",
       "      <td>NaN</td>\n",
       "      <td>NaN</td>\n",
       "      <td>NaN</td>\n",
       "      <td>존재</td>\n",
       "      <td>수도권</td>\n",
       "      <td>Y</td>\n",
       "    </tr>\n",
       "    <tr>\n",
       "      <th>1</th>\n",
       "      <td>1111000000</td>\n",
       "      <td>서울</td>\n",
       "      <td>종로구</td>\n",
       "      <td>NaN</td>\n",
       "      <td>NaN</td>\n",
       "      <td>NaN</td>\n",
       "      <td>존재</td>\n",
       "      <td>수도권</td>\n",
       "      <td>Y</td>\n",
       "    </tr>\n",
       "    <tr>\n",
       "      <th>2</th>\n",
       "      <td>1111010100</td>\n",
       "      <td>서울</td>\n",
       "      <td>종로구</td>\n",
       "      <td>청운동</td>\n",
       "      <td>NaN</td>\n",
       "      <td>NaN</td>\n",
       "      <td>존재</td>\n",
       "      <td>수도권</td>\n",
       "      <td>Y</td>\n",
       "    </tr>\n",
       "    <tr>\n",
       "      <th>3</th>\n",
       "      <td>1111010200</td>\n",
       "      <td>서울</td>\n",
       "      <td>종로구</td>\n",
       "      <td>신교동</td>\n",
       "      <td>NaN</td>\n",
       "      <td>NaN</td>\n",
       "      <td>존재</td>\n",
       "      <td>수도권</td>\n",
       "      <td>Y</td>\n",
       "    </tr>\n",
       "    <tr>\n",
       "      <th>4</th>\n",
       "      <td>1111010300</td>\n",
       "      <td>서울</td>\n",
       "      <td>종로구</td>\n",
       "      <td>궁정동</td>\n",
       "      <td>NaN</td>\n",
       "      <td>NaN</td>\n",
       "      <td>존재</td>\n",
       "      <td>수도권</td>\n",
       "      <td>Y</td>\n",
       "    </tr>\n",
       "  </tbody>\n",
       "</table>\n",
       "</div>"
      ],
      "text/plain": [
       "        법정동코드  시도  시구군  읍면동    리  지역3 폐지여부 대기관리권역 대기관리권역YN\n",
       "0  1100000000  서울  NaN  NaN  NaN  NaN   존재    수도권        Y\n",
       "1  1111000000  서울  종로구  NaN  NaN  NaN   존재    수도권        Y\n",
       "2  1111010100  서울  종로구  청운동  NaN  NaN   존재    수도권        Y\n",
       "3  1111010200  서울  종로구  신교동  NaN  NaN   존재    수도권        Y\n",
       "4  1111010300  서울  종로구  궁정동  NaN  NaN   존재    수도권        Y"
      ]
     },
     "execution_count": 14,
     "metadata": {},
     "output_type": "execute_result"
    }
   ],
   "source": [
    "code.head()"
   ]
  },
  {
   "cell_type": "code",
   "execution_count": 15,
   "metadata": {},
   "outputs": [
    {
     "data": {
      "text/plain": [
       "(1148315, 31)"
      ]
     },
     "execution_count": 15,
     "metadata": {},
     "output_type": "execute_result"
    }
   ],
   "source": [
    "result1.shape"
   ]
  },
  {
   "cell_type": "code",
   "execution_count": 16,
   "metadata": {},
   "outputs": [
    {
     "data": {
      "text/plain": [
       "(1148315, 39)"
      ]
     },
     "execution_count": 16,
     "metadata": {},
     "output_type": "execute_result"
    }
   ],
   "source": [
    "df = result1.merge(code, on='법정동코드', how='left')\n",
    "df.shape"
   ]
  },
  {
   "attachments": {},
   "cell_type": "markdown",
   "metadata": {},
   "source": [
    "# 분석"
   ]
  },
  {
   "cell_type": "code",
   "execution_count": 17,
   "metadata": {},
   "outputs": [
    {
     "name": "stderr",
     "output_type": "stream",
     "text": [
      "100%|██████████| 1148315/1148315 [00:02<00:00, 520616.01it/s]\n"
     ]
    },
    {
     "data": {
      "text/plain": [
       "1148315"
      ]
     },
     "execution_count": 17,
     "metadata": {},
     "output_type": "execute_result"
    }
   ],
   "source": [
    "grade_list = []\n",
    "for f, y, cy, e in tqdm(result1[['연료', '제작일자', '연식', 'DPF유무_수정']].values):\n",
    "    if (f == '휘발유_가스') and ( (19980101 <= y <= 20001231) or (1998 <= cy <= 2000) ):\n",
    "        grade_list.append('A')\n",
    "    elif (f == '휘발유_가스') and ( (y <= 19971231) or (cy <= 1997) ):\n",
    "        grade_list.append('B')\n",
    "    elif (f == '경유') and ( (y >= 20080101) or (cy >= 2008) ) and (e == '유'):\n",
    "        grade_list.append('A')\n",
    "    elif (f == '경유') and ( (y <= 20071231) or (cy <= 2007) )and (e == '유'):\n",
    "        grade_list.append('B')\n",
    "    elif (f == '경유') and ( (y >= 20080101) or (cy >= 2008) ) and (e == '무'):\n",
    "        grade_list.append('C')\n",
    "    elif (f == '경유') and ( (y <= 20071231) or (cy <= 2007) ) and (e == '무'):\n",
    "        grade_list.append('D')\n",
    "    else:\n",
    "        grade_list.append('X')\n",
    "len(grade_list)"
   ]
  },
  {
   "cell_type": "code",
   "execution_count": 18,
   "metadata": {},
   "outputs": [
    {
     "data": {
      "text/plain": [
       "['D', 'D', 'D', 'D', 'D']"
      ]
     },
     "execution_count": 18,
     "metadata": {},
     "output_type": "execute_result"
    }
   ],
   "source": [
    "grade_list[:5]"
   ]
  },
  {
   "cell_type": "code",
   "execution_count": 19,
   "metadata": {},
   "outputs": [
    {
     "data": {
      "text/plain": [
       "['C', 'D', 'C', 'D', 'C', 'C', 'D', 'D', 'C', 'C']"
      ]
     },
     "execution_count": 19,
     "metadata": {},
     "output_type": "execute_result"
    }
   ],
   "source": [
    "num = 85420\n",
    "grade_list[num:num+10]"
   ]
  },
  {
   "cell_type": "code",
   "execution_count": 20,
   "metadata": {},
   "outputs": [
    {
     "data": {
      "text/plain": [
       "['X', 'X', 'X', 'X', 'X']"
      ]
     },
     "execution_count": 20,
     "metadata": {},
     "output_type": "execute_result"
    }
   ],
   "source": [
    "grade_list[-5:]"
   ]
  },
  {
   "cell_type": "code",
   "execution_count": 21,
   "metadata": {},
   "outputs": [],
   "source": [
    "df['Grade'] = grade_list"
   ]
  },
  {
   "cell_type": "code",
   "execution_count": 22,
   "metadata": {},
   "outputs": [
    {
     "data": {
      "text/html": [
       "<div>\n",
       "<style scoped>\n",
       "    .dataframe tbody tr th:only-of-type {\n",
       "        vertical-align: middle;\n",
       "    }\n",
       "\n",
       "    .dataframe tbody tr th {\n",
       "        vertical-align: top;\n",
       "    }\n",
       "\n",
       "    .dataframe thead th {\n",
       "        text-align: right;\n",
       "    }\n",
       "</style>\n",
       "<table border=\"1\" class=\"dataframe\">\n",
       "  <thead>\n",
       "    <tr style=\"text-align: right;\">\n",
       "      <th></th>\n",
       "      <th>연료</th>\n",
       "      <th>대수</th>\n",
       "    </tr>\n",
       "  </thead>\n",
       "  <tbody>\n",
       "    <tr>\n",
       "      <th>0</th>\n",
       "      <td>경유</td>\n",
       "      <td>1148315</td>\n",
       "    </tr>\n",
       "  </tbody>\n",
       "</table>\n",
       "</div>"
      ],
      "text/plain": [
       "   연료       대수\n",
       "0  경유  1148315"
      ]
     },
     "execution_count": 22,
     "metadata": {},
     "output_type": "execute_result"
    }
   ],
   "source": [
    "num_by_fuel = df.groupby(['연료'])['차대번호'].count().reset_index().sort_values('차대번호', ascending=False)\n",
    "num_by_fuel = num_by_fuel.rename(columns={'차대번호':'대수'})\n",
    "num_by_fuel"
   ]
  },
  {
   "cell_type": "code",
   "execution_count": 23,
   "metadata": {},
   "outputs": [
    {
     "data": {
      "text/plain": [
       "연료  Grade\n",
       "경유  A        164313\n",
       "    B         85721\n",
       "    C        840425\n",
       "    D         39038\n",
       "    X         18818\n",
       "Name: 대수, dtype: int64"
      ]
     },
     "execution_count": 23,
     "metadata": {},
     "output_type": "execute_result"
    }
   ],
   "source": [
    "num_by_grade = df.groupby(['연료', 'Grade'])['차대번호'].count()\n",
    "num_by_grade = num_by_grade.rename('대수')\n",
    "num_by_grade"
   ]
  },
  {
   "cell_type": "code",
   "execution_count": 24,
   "metadata": {},
   "outputs": [
    {
     "data": {
      "text/plain": [
       "대기관리권역  시도명   시군구명  Grade\n",
       "그 외     강원도   강릉시   A         928\n",
       "                    B         459\n",
       "                    C        4221\n",
       "                    D         213\n",
       "                    X          90\n",
       "                             ... \n",
       "중부권     충청북도  충주시   A         880\n",
       "                    B         416\n",
       "                    C        4999\n",
       "                    D         218\n",
       "                    X         103\n",
       "Name: 대수, Length: 1250, dtype: int64"
      ]
     },
     "execution_count": 24,
     "metadata": {},
     "output_type": "execute_result"
    }
   ],
   "source": [
    "num_by_grade_by_local = df.groupby(['대기관리권역', '시도명', '시군구명', 'Grade'])['차대번호'].count()\n",
    "num_by_grade_by_local = num_by_grade_by_local.rename('대수')\n",
    "num_by_grade_by_local"
   ]
  },
  {
   "attachments": {},
   "cell_type": "markdown",
   "metadata": {},
   "source": [
    "## [출력] df + g3_g5"
   ]
  },
  {
   "cell_type": "code",
   "execution_count": 64,
   "metadata": {},
   "outputs": [
    {
     "data": {
      "text/plain": [
       "(1153813, 40)"
      ]
     },
     "execution_count": 64,
     "metadata": {},
     "output_type": "execute_result"
    }
   ],
   "source": [
    "total = pd.concat([df, g3_g5], ignore_index=True)\n",
    "total.shape"
   ]
  },
  {
   "cell_type": "code",
   "execution_count": 65,
   "metadata": {},
   "outputs": [
    {
     "data": {
      "text/plain": [
       "Index(['차대번호', '차량번호', '제원관리번호', '차종_원본', '용도', '최초등록일', '연식', '제작일자', '검사유효일',\n",
       "       '배출가스인증번호', '등급', '차명', '차종분류', '차종유형', '자동차형식', '제작사명', '연료', '엔진형식',\n",
       "       '총중량', '적재중량', '엔진출력', '배기량', '법정동코드', '시도명', '시군구명', '소유자구분', '말소여부',\n",
       "       '일치유무', '배인번호_수정', '등급_수정', 'DPF유무_수정', '시도', '시구군', '읍면동', '리', '지역3',\n",
       "       '폐지여부', '대기관리권역', '대기관리권역YN', 'Grade'],\n",
       "      dtype='object')"
      ]
     },
     "execution_count": 65,
     "metadata": {},
     "output_type": "execute_result"
    }
   ],
   "source": [
    "total.columns"
   ]
  },
  {
   "cell_type": "code",
   "execution_count": 66,
   "metadata": {},
   "outputs": [
    {
     "data": {
      "text/plain": [
       "Index(['차대번호', '차량번호', '제원관리번호', '차종', '용도', '최초등록일', '연식', '제작일자', '검사유효일',\n",
       "       '배출가스인증번호', '등급', '차명', '차종분류', '차종유형', '자동차형식', '제작사명', '연료', '엔진형식',\n",
       "       '총중량', '적재중량', '엔진출력', '배기량', '법정동코드', '시도명', '시군구명', '소유자구분', '말소여부',\n",
       "       'EG'],\n",
       "      dtype='object')"
      ]
     },
     "execution_count": 66,
     "metadata": {},
     "output_type": "execute_result"
    }
   ],
   "source": [
    "total = total[['차대번호', '차량번호', '제원관리번호', '차종_원본', '용도', '최초등록일', '연식', '제작일자', '검사유효일',\n",
    "       '배출가스인증번호', '등급', '차명', '차종분류', '차종유형', '자동차형식', '제작사명', '연료', '엔진형식',\n",
    "       '총중량', '적재중량', '엔진출력', '배기량', '법정동코드', '시도명', '시군구명', '소유자구분', '말소여부',\n",
    "       'Grade']]\n",
    "total = total.rename(columns={'차종_원본':'차종', 'Grade':'EG'})\n",
    "total.columns"
   ]
  },
  {
   "cell_type": "code",
   "execution_count": 76,
   "metadata": {},
   "outputs": [
    {
     "data": {
      "text/plain": [
       "'2023.03.23'"
      ]
     },
     "execution_count": 76,
     "metadata": {},
     "output_type": "execute_result"
    }
   ],
   "source": [
    "today_date = datetime.today().strftime(\"%Y.%m.%d\")\n",
    "today_date"
   ]
  },
  {
   "cell_type": "code",
   "execution_count": 67,
   "metadata": {},
   "outputs": [],
   "source": [
    "# # about 14s\n",
    "# total.iloc[:500000].to_csv(os.path.join(raw_fold, f'4등급 차량 리스트 양식 result 최종 Grade 추가({today_date})01.csv'), index=False, encoding='cp949')\n",
    "# total.iloc[500000:].to_csv(os.path.join(raw_fold, f'4등급 차량 리스트 양식 result 최종 Grade 추가({today_date})02.csv'), index=False, encoding='cp949')"
   ]
  },
  {
   "cell_type": "code",
   "execution_count": 68,
   "metadata": {},
   "outputs": [],
   "source": [
    "# # about 14s\n",
    "# total.to_csv(os.path.join(raw_fold, f'4등급 차량 리스트 양식 result 최종 Grade 추가({today_date}).csv'), index=False, encoding='cp949')"
   ]
  },
  {
   "attachments": {},
   "cell_type": "markdown",
   "metadata": {},
   "source": [
    "## [출력] EG 통계"
   ]
  },
  {
   "cell_type": "code",
   "execution_count": 69,
   "metadata": {},
   "outputs": [
    {
     "data": {
      "text/plain": [
       "'D:/data/big2/BD1/an'"
      ]
     },
     "execution_count": 69,
     "metadata": {},
     "output_type": "execute_result"
    }
   ],
   "source": [
    "analysis_fold"
   ]
  },
  {
   "cell_type": "code",
   "execution_count": 70,
   "metadata": {},
   "outputs": [
    {
     "data": {
      "text/plain": [
       "'2023.03.23_AM.09.29.10'"
      ]
     },
     "execution_count": 70,
     "metadata": {},
     "output_type": "execute_result"
    }
   ],
   "source": [
    "today_date = datetime.today().strftime(\"%Y.%m.%d_%p.%H.%M.%S\")\n",
    "today_date"
   ]
  },
  {
   "cell_type": "code",
   "execution_count": 71,
   "metadata": {},
   "outputs": [],
   "source": [
    "grade = 4\n",
    "with pd.ExcelWriter(os.path.join(analysis_fold, f'BD1_G{grade}_통계_EG_{today_date}.xlsx')) as writer:\n",
    "    num_by_fuel.to_excel(writer, sheet_name='연료별', index=False)\n",
    "    num_by_grade.to_excel(writer, sheet_name='등급별')\n",
    "    num_by_grade_by_local.to_excel(writer, sheet_name='지역별')"
   ]
  },
  {
   "attachments": {},
   "cell_type": "markdown",
   "metadata": {},
   "source": [
    "## [출력] 지역별 샘플"
   ]
  },
  {
   "cell_type": "code",
   "execution_count": 72,
   "metadata": {},
   "outputs": [
    {
     "data": {
      "text/plain": [
       "Index(['차대번호', '차량번호', '제원관리번호', '차종_원본', '용도', '최초등록일', '연식', '제작일자', '검사유효일',\n",
       "       '배출가스인증번호', '등급', '차명', '차종분류', '차종유형', '자동차형식', '제작사명', '연료', '엔진형식',\n",
       "       '총중량', '적재중량', '엔진출력', '배기량', '법정동코드', '시도명', '시군구명', '소유자구분', '말소여부',\n",
       "       '일치유무', '배인번호_수정', '등급_수정', 'DPF유무_수정', '시도', '시구군', '읍면동', '리', '지역3',\n",
       "       '폐지여부', '대기관리권역', '대기관리권역YN', 'Grade'],\n",
       "      dtype='object')"
      ]
     },
     "execution_count": 72,
     "metadata": {},
     "output_type": "execute_result"
    }
   ],
   "source": [
    "df.columns"
   ]
  },
  {
   "cell_type": "code",
   "execution_count": 73,
   "metadata": {},
   "outputs": [
    {
     "data": {
      "text/html": [
       "<div>\n",
       "<style scoped>\n",
       "    .dataframe tbody tr th:only-of-type {\n",
       "        vertical-align: middle;\n",
       "    }\n",
       "\n",
       "    .dataframe tbody tr th {\n",
       "        vertical-align: top;\n",
       "    }\n",
       "\n",
       "    .dataframe thead th {\n",
       "        text-align: right;\n",
       "    }\n",
       "</style>\n",
       "<table border=\"1\" class=\"dataframe\">\n",
       "  <thead>\n",
       "    <tr style=\"text-align: right;\">\n",
       "      <th></th>\n",
       "      <th>법정동코드</th>\n",
       "      <th>시도명</th>\n",
       "      <th>시군구명</th>\n",
       "      <th>Grade</th>\n",
       "      <th>차량번호</th>\n",
       "      <th>DPF유무_수정</th>\n",
       "      <th>연식</th>\n",
       "    </tr>\n",
       "  </thead>\n",
       "  <tbody>\n",
       "    <tr>\n",
       "      <th>0</th>\n",
       "      <td>3017011600</td>\n",
       "      <td>대전광역시</td>\n",
       "      <td>서구</td>\n",
       "      <td>D</td>\n",
       "      <td>21로7811</td>\n",
       "      <td>무</td>\n",
       "      <td>2006</td>\n",
       "    </tr>\n",
       "    <tr>\n",
       "      <th>1</th>\n",
       "      <td>2635010700</td>\n",
       "      <td>부산광역시</td>\n",
       "      <td>해운대구</td>\n",
       "      <td>D</td>\n",
       "      <td>23거2347</td>\n",
       "      <td>무</td>\n",
       "      <td>2006</td>\n",
       "    </tr>\n",
       "    <tr>\n",
       "      <th>2</th>\n",
       "      <td>4148012200</td>\n",
       "      <td>경기도</td>\n",
       "      <td>파주시</td>\n",
       "      <td>D</td>\n",
       "      <td>04어9316</td>\n",
       "      <td>무</td>\n",
       "      <td>2006</td>\n",
       "    </tr>\n",
       "    <tr>\n",
       "      <th>3</th>\n",
       "      <td>2623010900</td>\n",
       "      <td>부산광역시</td>\n",
       "      <td>부산진구</td>\n",
       "      <td>D</td>\n",
       "      <td>14우2622</td>\n",
       "      <td>무</td>\n",
       "      <td>2006</td>\n",
       "    </tr>\n",
       "    <tr>\n",
       "      <th>4</th>\n",
       "      <td>5013010300</td>\n",
       "      <td>제주특별자치도</td>\n",
       "      <td>서귀포시</td>\n",
       "      <td>D</td>\n",
       "      <td>07머3269</td>\n",
       "      <td>무</td>\n",
       "      <td>2006</td>\n",
       "    </tr>\n",
       "    <tr>\n",
       "      <th>5</th>\n",
       "      <td>4150031021</td>\n",
       "      <td>경기도</td>\n",
       "      <td>이천시</td>\n",
       "      <td>D</td>\n",
       "      <td>58거7827</td>\n",
       "      <td>무</td>\n",
       "      <td>2006</td>\n",
       "    </tr>\n",
       "    <tr>\n",
       "      <th>6</th>\n",
       "      <td>4817012100</td>\n",
       "      <td>경상남도</td>\n",
       "      <td>진주시</td>\n",
       "      <td>D</td>\n",
       "      <td>64보3244</td>\n",
       "      <td>무</td>\n",
       "      <td>2006</td>\n",
       "    </tr>\n",
       "    <tr>\n",
       "      <th>7</th>\n",
       "      <td>4167025035</td>\n",
       "      <td>경기도</td>\n",
       "      <td>여주시</td>\n",
       "      <td>D</td>\n",
       "      <td>69가2031</td>\n",
       "      <td>무</td>\n",
       "      <td>2006</td>\n",
       "    </tr>\n",
       "    <tr>\n",
       "      <th>8</th>\n",
       "      <td>4213010300</td>\n",
       "      <td>강원도</td>\n",
       "      <td>원주시</td>\n",
       "      <td>D</td>\n",
       "      <td>06주6090</td>\n",
       "      <td>무</td>\n",
       "      <td>2006</td>\n",
       "    </tr>\n",
       "    <tr>\n",
       "      <th>9</th>\n",
       "      <td>4684035021</td>\n",
       "      <td>전라남도</td>\n",
       "      <td>무안군</td>\n",
       "      <td>D</td>\n",
       "      <td>32어5631</td>\n",
       "      <td>무</td>\n",
       "      <td>2006</td>\n",
       "    </tr>\n",
       "  </tbody>\n",
       "</table>\n",
       "</div>"
      ],
      "text/plain": [
       "        법정동코드      시도명  시군구명 Grade     차량번호 DPF유무_수정    연식\n",
       "0  3017011600    대전광역시    서구     D  21로7811        무  2006\n",
       "1  2635010700    부산광역시  해운대구     D  23거2347        무  2006\n",
       "2  4148012200      경기도   파주시     D  04어9316        무  2006\n",
       "3  2623010900    부산광역시  부산진구     D  14우2622        무  2006\n",
       "4  5013010300  제주특별자치도  서귀포시     D  07머3269        무  2006\n",
       "5  4150031021      경기도   이천시     D  58거7827        무  2006\n",
       "6  4817012100     경상남도   진주시     D  64보3244        무  2006\n",
       "7  4167025035      경기도   여주시     D  69가2031        무  2006\n",
       "8  4213010300      강원도   원주시     D  06주6090        무  2006\n",
       "9  4684035021     전라남도   무안군     D  32어5631        무  2006"
      ]
     },
     "execution_count": 73,
     "metadata": {},
     "output_type": "execute_result"
    }
   ],
   "source": [
    "df[['법정동코드', '시도명', '시군구명', 'Grade', '차량번호', 'DPF유무_수정', '연식']].head(10)"
   ]
  },
  {
   "cell_type": "code",
   "execution_count": 74,
   "metadata": {},
   "outputs": [],
   "source": [
    "df[['법정동코드', '시도명', '시군구명', 'Grade', '차량번호', 'DPF유무_수정', '연식']].head(10).to_excel(os.path.join(analysis_fold, f'샘플_법정동코드_지역_{today_date}.xlsx'), index=False)"
   ]
  },
  {
   "cell_type": "code",
   "execution_count": 75,
   "metadata": {},
   "outputs": [
    {
     "data": {
      "text/plain": [
       "시도명   시군구명  Grade  DPF유무_수정\n",
       "강원도   강릉시   A      유            928\n",
       "            B      유            459\n",
       "            C      무           4221\n",
       "            D      무            213\n",
       "            X      확인불가          90\n",
       "                               ... \n",
       "충청북도  충주시   A      유            880\n",
       "            B      유            416\n",
       "            C      무           4999\n",
       "            D      무            218\n",
       "            X      확인불가         103\n",
       "Name: 차대번호, Length: 1250, dtype: int64"
      ]
     },
     "execution_count": 75,
     "metadata": {},
     "output_type": "execute_result"
    }
   ],
   "source": [
    "df.groupby(['시도명', '시군구명', 'Grade', 'DPF유무_수정'], dropna=False)['차대번호'].count()"
   ]
  },
  {
   "attachments": {},
   "cell_type": "markdown",
   "metadata": {},
   "source": [
    "# 코드 마지막"
   ]
  }
 ],
 "metadata": {
  "kernelspec": {
   "display_name": "base",
   "language": "python",
   "name": "python3"
  },
  "language_info": {
   "codemirror_mode": {
    "name": "ipython",
    "version": 3
   },
   "file_extension": ".py",
   "mimetype": "text/x-python",
   "name": "python",
   "nbconvert_exporter": "python",
   "pygments_lexer": "ipython3",
   "version": "3.9.13"
  },
  "orig_nbformat": 4,
  "vscode": {
   "interpreter": {
    "hash": "ad2bdc8ecc057115af97d19610ffacc2b4e99fae6737bb82f5d7fb13d2f2c186"
   }
  }
 },
 "nbformat": 4,
 "nbformat_minor": 2
}
