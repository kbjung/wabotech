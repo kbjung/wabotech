{
 "cells": [
  {
   "attachments": {},
   "cell_type": "markdown",
   "metadata": {},
   "source": [
    "# Library"
   ]
  },
  {
   "cell_type": "code",
   "execution_count": 1,
   "metadata": {},
   "outputs": [],
   "source": [
    "import pandas as pd\n",
    "import numpy as np\n",
    "import os\n",
    "from tqdm import tqdm\n",
    "from datetime import datetime\n",
    "import math\n",
    "import xlsxwriter"
   ]
  },
  {
   "cell_type": "code",
   "execution_count": 2,
   "metadata": {},
   "outputs": [],
   "source": [
    "# 소수점 옵션\n",
    "pd.options.display.float_format = '{:.2f}'.format\n",
    "# pd.reset_option('display.float_format')"
   ]
  },
  {
   "attachments": {},
   "cell_type": "markdown",
   "metadata": {},
   "source": [
    "# fold path"
   ]
  },
  {
   "cell_type": "code",
   "execution_count": 3,
   "metadata": {},
   "outputs": [],
   "source": [
    "drive = 'D'\n",
    "raw_fold = f'{drive}:/data/big2/BD1/raw'\n",
    "ods_fold = f'{drive}:/data/big2/ODS'\n",
    "sample_fold = f'{drive}:/data/big2/BD1/sample'\n",
    "analysis_fold = f'{drive}:/data/big2/BD1/an'"
   ]
  },
  {
   "attachments": {},
   "cell_type": "markdown",
   "metadata": {},
   "source": [
    "# Load"
   ]
  },
  {
   "attachments": {},
   "cell_type": "markdown",
   "metadata": {},
   "source": [
    "## 병합 result 최종 파일"
   ]
  },
  {
   "cell_type": "code",
   "execution_count": 4,
   "metadata": {},
   "outputs": [
    {
     "name": "stdout",
     "output_type": "stream",
     "text": [
      "<class 'pandas.core.frame.DataFrame'>\n",
      "RangeIndex: 1502235 entries, 0 to 1502234\n",
      "Data columns (total 37 columns):\n",
      " #   Column      Non-Null Count    Dtype  \n",
      "---  ------      --------------    -----  \n",
      " 0   차대번호        1502235 non-null  object \n",
      " 1   차량번호        1502235 non-null  object \n",
      " 2   제원관리번호      1502235 non-null  object \n",
      " 3   차종          1502235 non-null  object \n",
      " 4   용도          1502235 non-null  object \n",
      " 5   최초등록일       1502235 non-null  int64  \n",
      " 6   연식          1502235 non-null  int64  \n",
      " 7   제작일자        1335178 non-null  float64\n",
      " 8   검사유효일       1502223 non-null  float64\n",
      " 9   배출가스인증번호    1384783 non-null  object \n",
      " 10  등급          1502235 non-null  int64  \n",
      " 11  차명          1502235 non-null  object \n",
      " 12  차종분류        1502235 non-null  object \n",
      " 13  차종유형        1502235 non-null  object \n",
      " 14  자동차형식       1501958 non-null  object \n",
      " 15  제작사명        1492590 non-null  object \n",
      " 16  연료          1502235 non-null  object \n",
      " 17  엔진형식        1500400 non-null  object \n",
      " 18  총중량         1502234 non-null  float64\n",
      " 19  적재중량        1501728 non-null  float64\n",
      " 20  엔진출력        1501882 non-null  object \n",
      " 21  배기량         1502231 non-null  float64\n",
      " 22  법정동코드       1502235 non-null  int64  \n",
      " 23  시도명         1502235 non-null  object \n",
      " 24  시군구명        1502235 non-null  object \n",
      " 25  소유자구분       1502235 non-null  object \n",
      " 26  말소여부        1502235 non-null  object \n",
      " 27  일치유무        1153813 non-null  object \n",
      " 28  인증번호 수정 유무  1151141 non-null  object \n",
      " 29  배인번호_수정     1153813 non-null  object \n",
      " 30  등급_수정       1502235 non-null  float64\n",
      " 31  DPF유무_수정    1153813 non-null  object \n",
      " 32  배출가스        1151141 non-null  object \n",
      " 33  등급2         1151141 non-null  object \n",
      " 34  DPF         1144315 non-null  object \n",
      " 35  비고          46494 non-null    object \n",
      " 36  Grade       1497711 non-null  object \n",
      "dtypes: float64(6), int64(4), object(27)\n",
      "memory usage: 424.1+ MB\n"
     ]
    }
   ],
   "source": [
    "# about 18.9s\n",
    "name = '4등급_차량_리스트_양식_result(전체)_Grade_추가(2023.04.18_PM.03.07.04)'\n",
    "file_name = f'{name}.csv'\n",
    "df = pd.read_csv(os.path.join(raw_fold, file_name), low_memory=False, encoding='cp949')\n",
    "df.info()"
   ]
  },
  {
   "attachments": {},
   "cell_type": "markdown",
   "metadata": {},
   "source": [
    "# 전처리"
   ]
  },
  {
   "cell_type": "code",
   "execution_count": 5,
   "metadata": {},
   "outputs": [
    {
     "data": {
      "text/plain": [
       "Index(['차대번호', '차량번호', '제원관리번호', '차종', '용도', '최초등록일', '연식', '제작일자', '검사유효일',\n",
       "       '배출가스인증번호', '등급', '차명', '차종분류', '차종유형', '자동차형식', '제작사명', '연료', '엔진형식',\n",
       "       '총중량', '적재중량', '엔진출력', '배기량', '법정동코드', '시도명', '시군구명', '소유자구분', '말소여부',\n",
       "       '일치유무', '인증번호 수정 유무', '배인번호_수정', '등급_수정', 'DPF유무_수정', '배출가스', '등급2',\n",
       "       'DPF', '비고', 'Grade'],\n",
       "      dtype='object')"
      ]
     },
     "execution_count": 5,
     "metadata": {},
     "output_type": "execute_result"
    }
   ],
   "source": [
    "df.columns"
   ]
  },
  {
   "cell_type": "code",
   "execution_count": 6,
   "metadata": {},
   "outputs": [
    {
     "data": {
      "text/plain": [
       "경유             1153813\n",
       "휘발유             323019\n",
       "LPG(액화석유가스)      25400\n",
       "알코올                  1\n",
       "기타연료                 1\n",
       "CNG(압축천연가스)          1\n",
       "Name: 연료, dtype: int64"
      ]
     },
     "execution_count": 6,
     "metadata": {},
     "output_type": "execute_result"
    }
   ],
   "source": [
    "df['연료'].value_counts(dropna=False)"
   ]
  },
  {
   "cell_type": "code",
   "execution_count": 7,
   "metadata": {},
   "outputs": [
    {
     "data": {
      "text/plain": [
       "4.00    1497711\n",
       "3.00       4397\n",
       "5.00        127\n",
       "Name: 등급_수정, dtype: int64"
      ]
     },
     "execution_count": 7,
     "metadata": {},
     "output_type": "execute_result"
    }
   ],
   "source": [
    "# 한불모터스에서 확인 한 1대 3등급으로 변경\n",
    "# 3등급 : 4396 + 1 = 4397\n",
    "df['등급_수정'].value_counts(dropna=False)"
   ]
  },
  {
   "cell_type": "code",
   "execution_count": 8,
   "metadata": {},
   "outputs": [
    {
     "data": {
      "text/plain": [
       "array(['5MY-HD-24-35', '6MY-HD-14-62', '5MY-HD-24-56', '5MY-HD-24-59',\n",
       "       '6MY-HD-14-63', '6MY-HD-14-64', '5MY-HD-24-55', '6MY-HD-14-96',\n",
       "       '6MY-HD-14-97', '7MY-HD-14-57', '6MY-HD-24-100', '6MY-HD-24-12',\n",
       "       '7MY-HD-14-45', '6MY-HD-24-44', '7MY-HD-13-58', '7MY-HD-14-46',\n",
       "       '7MY-HD-14-47', '7MY-HD-14-68', '7MY-HD-23-01', '7MY-HD-24-08',\n",
       "       '7MY-HD-24-09', '7MY-HD-24-28', '7MY-HD-24-29', '7MY-HD-24-30',\n",
       "       '7MY-HD-24-31', '9MY-HD-14-21', '확인불가', nan, 'CMY-HD-14-11',\n",
       "       '6MY-HD-23-55', '3MY-HD-14', '3MY-HD-15'], dtype=object)"
      ]
     },
     "execution_count": 8,
     "metadata": {},
     "output_type": "execute_result"
    }
   ],
   "source": [
    "df.loc[df['제작사명'] == '현대자동차(주)', '배인번호_수정'].unique()"
   ]
  },
  {
   "cell_type": "code",
   "execution_count": 9,
   "metadata": {},
   "outputs": [
    {
     "data": {
      "text/plain": [
       "32"
      ]
     },
     "execution_count": 9,
     "metadata": {},
     "output_type": "execute_result"
    }
   ],
   "source": [
    "len(df.loc[df['제작사명'] == '현대자동차(주)', '배인번호_수정'].unique())"
   ]
  },
  {
   "cell_type": "code",
   "execution_count": 10,
   "metadata": {},
   "outputs": [
    {
     "data": {
      "text/plain": [
       "array(['5MY-KM-24-17', '5MY-KM-24-57', '5MY-KM-24-64', '6MY-KM-14-57',\n",
       "       '6MY-KM-14-58', '6MY-KM-14-59', '6MY-KM-14-61', '6MY-KM-14-60',\n",
       "       '6MY-KM-24-06', '6MY-KM-24-81', '7MY-KM-14-52', '4MY-KM-08',\n",
       "       '7MY-KM-14-63', '7MY-KM-14-64', '7MY-KM-14-65', '7MY-KM-24-32',\n",
       "       '8MY-KM-13-19', '8MY-KM-14-21', '8MY-KM-14-29', '9MY-KM-14-22',\n",
       "       '9MY-KM-14-41', '7MY-KM-24-33', '확인불가', nan, '4MY-KM-06',\n",
       "       '4MY-KM-07', '5MY-KM-24-32'], dtype=object)"
      ]
     },
     "execution_count": 10,
     "metadata": {},
     "output_type": "execute_result"
    }
   ],
   "source": [
    "df.loc[df['제작사명'] == '기아자동차(주)', '배인번호_수정'].unique()"
   ]
  },
  {
   "cell_type": "code",
   "execution_count": 12,
   "metadata": {},
   "outputs": [
    {
     "data": {
      "text/plain": [
       "27"
      ]
     },
     "execution_count": 12,
     "metadata": {},
     "output_type": "execute_result"
    }
   ],
   "source": [
    "len(df.loc[df['제작사명'] == '기아자동차(주)', '배인번호_수정'].unique())"
   ]
  },
  {
   "cell_type": "code",
   "execution_count": null,
   "metadata": {},
   "outputs": [],
   "source": []
  },
  {
   "cell_type": "code",
   "execution_count": null,
   "metadata": {},
   "outputs": [],
   "source": []
  },
  {
   "cell_type": "code",
   "execution_count": null,
   "metadata": {},
   "outputs": [],
   "source": []
  },
  {
   "attachments": {},
   "cell_type": "markdown",
   "metadata": {},
   "source": [
    "# 코드 마지막"
   ]
  }
 ],
 "metadata": {
  "kernelspec": {
   "display_name": "base",
   "language": "python",
   "name": "python3"
  },
  "language_info": {
   "codemirror_mode": {
    "name": "ipython",
    "version": 3
   },
   "file_extension": ".py",
   "mimetype": "text/x-python",
   "name": "python",
   "nbconvert_exporter": "python",
   "pygments_lexer": "ipython3",
   "version": "3.9.13"
  },
  "orig_nbformat": 4,
  "vscode": {
   "interpreter": {
    "hash": "ad2bdc8ecc057115af97d19610ffacc2b4e99fae6737bb82f5d7fb13d2f2c186"
   }
  }
 },
 "nbformat": 4,
 "nbformat_minor": 2
}
