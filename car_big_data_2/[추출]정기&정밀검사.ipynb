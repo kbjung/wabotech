{
 "cells": [
  {
   "attachments": {},
   "cell_type": "markdown",
   "metadata": {},
   "source": [
    "# Library"
   ]
  },
  {
   "cell_type": "code",
   "execution_count": 1,
   "metadata": {},
   "outputs": [],
   "source": [
    "import pandas as pd\n",
    "import numpy as np\n",
    "import os\n",
    "from tqdm import tqdm"
   ]
  },
  {
   "cell_type": "code",
   "execution_count": 2,
   "metadata": {},
   "outputs": [],
   "source": [
    "# ODS 폴더 경로\n",
    "ods_fold = 'D:/data/big2/ODS'"
   ]
  },
  {
   "attachments": {},
   "cell_type": "markdown",
   "metadata": {},
   "source": [
    "## 정기검사"
   ]
  },
  {
   "attachments": {},
   "cell_type": "markdown",
   "metadata": {},
   "source": [
    "### columns"
   ]
  },
  {
   "cell_type": "code",
   "execution_count": 3,
   "metadata": {},
   "outputs": [],
   "source": [
    "name = 'TB_JGT_HIS'\n",
    "file_name = f'[정제]{name}.xlsx'\n",
    "col_exc = pd.read_excel(f'analysis/ODSvsSTD/{file_name}', sheet_name='ODS_col')"
   ]
  },
  {
   "cell_type": "code",
   "execution_count": 4,
   "metadata": {},
   "outputs": [],
   "source": [
    "# 필요한 컬럼만 추출\n",
    "col_exc = col_exc.loc[:38]\n",
    "col = col_exc['컬럼'].to_list()\n",
    "col_dict = {a:b for a, b in zip(col_exc['컬럼'], col_exc['내용'])}"
   ]
  },
  {
   "attachments": {},
   "cell_type": "markdown",
   "metadata": {},
   "source": [
    "### [로드] 정기검사"
   ]
  },
  {
   "cell_type": "code",
   "execution_count": 5,
   "metadata": {},
   "outputs": [
    {
     "name": "stdout",
     "output_type": "stream",
     "text": [
      "<class 'pandas.core.frame.DataFrame'>\n",
      "RangeIndex: 22006426 entries, 0 to 22006425\n",
      "Data columns (total 39 columns):\n",
      " #   Column             Dtype  \n",
      "---  ------             -----  \n",
      " 0   JG_ORG_NM          object \n",
      " 1   JG_CHK_DATE        int64  \n",
      " 2   JG_CHK_TYPE        object \n",
      " 3   JEBSU_NO           object \n",
      " 4   CAR_REG_NO         object \n",
      " 5   CAR_SER_NO         object \n",
      " 6   CAR_NM             object \n",
      " 7   CAR_TYPE_NM        object \n",
      " 8   USAGE              object \n",
      " 9   CAR_YEAR           int64  \n",
      " 10  CAR_FUEL_NM        object \n",
      " 11  CAR_MILE           object \n",
      " 12  ENGINE_TYPE        object \n",
      " 13  CHK_METHOD         object \n",
      " 14  UNLOAD_SMO_VAL1    float64\n",
      " 15  UNLOAD_SMO_LIM1    float64\n",
      " 16  UNLOAD_SMO_JUDGE1  object \n",
      " 17  UNLOAD_SMO_VAL2    float64\n",
      " 18  UNLOAD_SMO_LIM2    float64\n",
      " 19  UNLOAD_SMO_JUDGE2  object \n",
      " 20  UNLOAD_SMO_VAL3    float64\n",
      " 21  UNLOAD_SMO_LIM3    float64\n",
      " 22  UNLOAD_SMO_JUDGE3  object \n",
      " 23  UNLOAD_SMO_VAL4    float64\n",
      " 24  UNLOAD_SMO_LIM4    float64\n",
      " 25  UNLOAD_SMO_JUDGE4  object \n",
      " 26  UNLOAD_SMO_VAL5    float64\n",
      " 27  UNLOAD_SMO_LIM5    float64\n",
      " 28  UNLOAD_SMO_JUDGE5  object \n",
      " 29  UNLOAD_SMO_VAL6    float64\n",
      " 30  UNLOAD_SMO_LIM6    float64\n",
      " 31  UNLOAD_SMO_JUDGE6  object \n",
      " 32  CO2_VAL            float64\n",
      " 33  ENGINE_TOR_LIM     float64\n",
      " 34  ENGINE_TOR_VAL     float64\n",
      " 35  O2_VAL             float64\n",
      " 36  JUDGE_YN           object \n",
      " 37  RE_CHK_DATE        object \n",
      " 38  JUDGE_DATE         object \n",
      "dtypes: float64(16), int64(2), object(21)\n",
      "memory usage: 6.4+ GB\n"
     ]
    }
   ],
   "source": [
    "# about 4m 50s\n",
    "file_name = f'ODS_{name}.csv'\n",
    "ins = pd.read_csv(os.path.join(ods_fold, file_name), usecols=col, low_memory=False)\n",
    "ins.info()"
   ]
  },
  {
   "cell_type": "code",
   "execution_count": 6,
   "metadata": {},
   "outputs": [
    {
     "name": "stdout",
     "output_type": "stream",
     "text": [
      "<class 'pandas.core.frame.DataFrame'>\n",
      "RangeIndex: 22006426 entries, 0 to 22006425\n",
      "Data columns (total 39 columns):\n",
      " #   Column             Dtype  \n",
      "---  ------             -----  \n",
      " 0   CAR_FUEL_NM        object \n",
      " 1   CAR_MILE           object \n",
      " 2   CAR_NM             object \n",
      " 3   CAR_REG_NO         object \n",
      " 4   CAR_SER_NO         object \n",
      " 5   CAR_TYPE_NM        object \n",
      " 6   CAR_YEAR           int64  \n",
      " 7   CHK_METHOD         object \n",
      " 8   CO2_VAL            float64\n",
      " 9   ENGINE_TOR_LIM     float64\n",
      " 10  ENGINE_TOR_VAL     float64\n",
      " 11  ENGINE_TYPE        object \n",
      " 12  JEBSU_NO           object \n",
      " 13  JG_CHK_DATE        int64  \n",
      " 14  JG_CHK_TYPE        object \n",
      " 15  JG_ORG_NM          object \n",
      " 16  JUDGE_DATE         object \n",
      " 17  JUDGE_YN           object \n",
      " 18  O2_VAL             float64\n",
      " 19  RE_CHK_DATE        object \n",
      " 20  UNLOAD_SMO_JUDGE1  object \n",
      " 21  UNLOAD_SMO_JUDGE2  object \n",
      " 22  UNLOAD_SMO_JUDGE3  object \n",
      " 23  UNLOAD_SMO_JUDGE4  object \n",
      " 24  UNLOAD_SMO_JUDGE5  object \n",
      " 25  UNLOAD_SMO_JUDGE6  object \n",
      " 26  UNLOAD_SMO_LIM1    float64\n",
      " 27  UNLOAD_SMO_LIM2    float64\n",
      " 28  UNLOAD_SMO_LIM3    float64\n",
      " 29  UNLOAD_SMO_LIM4    float64\n",
      " 30  UNLOAD_SMO_LIM5    float64\n",
      " 31  UNLOAD_SMO_LIM6    float64\n",
      " 32  UNLOAD_SMO_VAL1    float64\n",
      " 33  UNLOAD_SMO_VAL2    float64\n",
      " 34  UNLOAD_SMO_VAL3    float64\n",
      " 35  UNLOAD_SMO_VAL4    float64\n",
      " 36  UNLOAD_SMO_VAL5    float64\n",
      " 37  UNLOAD_SMO_VAL6    float64\n",
      " 38  USAGE              object \n",
      "dtypes: float64(16), int64(2), object(21)\n",
      "memory usage: 6.4+ GB\n"
     ]
    }
   ],
   "source": [
    "ins = ins[col]\n",
    "ins.info()"
   ]
  },
  {
   "cell_type": "code",
   "execution_count": 7,
   "metadata": {},
   "outputs": [],
   "source": [
    "ins.columns = [col_dict[x] for x in ins.columns]"
   ]
  },
  {
   "cell_type": "code",
   "execution_count": 8,
   "metadata": {},
   "outputs": [
    {
     "data": {
      "text/plain": [
       "Index(['사용연료', '주행거리', '차명', '차량번호', '차대번호', '차종', '차량연식', '검사방법', '이산화탄소값',\n",
       "       '최대출력허용치', '최대출력측정값', '엔진형식', '검사접수번호', '정기검사일자', '검사종류', '검사소명',\n",
       "       '검사판정시각', '정기검사판정', '산소값', '재검사기간', '무부하매연판정1', '무부하매연판정2', '무부하매연판정3',\n",
       "       '무부하매연판정4', '무부하매연판정5', '무부하매연판정6', '무부하매연허용치1', '무부하매연허용치2',\n",
       "       '무부하매연허용치3', '무부하매연허용치4', '무부하매연허용치5', '무부하매연허용치6', '무부하매연측정치1',\n",
       "       '무부하매연측정치2', '무부하매연측정치3', '무부하매연측정치4', '무부하매연측정치5', '무부하매연측정치6',\n",
       "       '차량용도'],\n",
       "      dtype='object')"
      ]
     },
     "execution_count": 8,
     "metadata": {},
     "output_type": "execute_result"
    }
   ],
   "source": [
    "ins.columns"
   ]
  },
  {
   "attachments": {},
   "cell_type": "markdown",
   "metadata": {},
   "source": [
    "### [출력] 정기검사"
   ]
  },
  {
   "cell_type": "code",
   "execution_count": 9,
   "metadata": {},
   "outputs": [],
   "source": [
    "# about 5m 50s\n",
    "ins.to_csv(os.path.join(ods_fold, f'[ODS]정기검사(2022.12.29).csv'), index=False)"
   ]
  },
  {
   "attachments": {},
   "cell_type": "markdown",
   "metadata": {},
   "source": [
    "## 정밀검사"
   ]
  },
  {
   "attachments": {},
   "cell_type": "markdown",
   "metadata": {},
   "source": [
    "### columns"
   ]
  },
  {
   "cell_type": "code",
   "execution_count": 10,
   "metadata": {},
   "outputs": [],
   "source": [
    "name = 'TB_EET_HIS_ME'\n",
    "file_name = f'[정제]{name}.xlsx'\n",
    "col_exc = pd.read_excel(f'analysis/ODSvsSTD/{file_name}', sheet_name='ODS_col')"
   ]
  },
  {
   "cell_type": "code",
   "execution_count": 11,
   "metadata": {},
   "outputs": [],
   "source": [
    "# 필요한 컬럼만 추출\n",
    "col_exc = col_exc.loc[:38]\n",
    "col = col_exc['컬럼'].to_list()\n",
    "col_dict = {a:b for a, b in zip(col_exc['컬럼'], col_exc['내용'])}"
   ]
  },
  {
   "attachments": {},
   "cell_type": "markdown",
   "metadata": {},
   "source": [
    "### [로드] 정밀검사"
   ]
  },
  {
   "cell_type": "code",
   "execution_count": 12,
   "metadata": {},
   "outputs": [
    {
     "name": "stdout",
     "output_type": "stream",
     "text": [
      "<class 'pandas.core.frame.DataFrame'>\n",
      "RangeIndex: 28682228 entries, 0 to 28682227\n",
      "Data columns (total 39 columns):\n",
      " #   Column              Dtype  \n",
      "---  ------              -----  \n",
      " 0   SMO_CHK_ORG_NM      object \n",
      " 1   SMO_CHK_DATE        int64  \n",
      " 2   SMO_CHK_TYPE        object \n",
      " 3   SMO_CHK_REG_NO      object \n",
      " 4   CAR_REG_NO          object \n",
      " 5   CAR_SER_NO          object \n",
      " 6   CAR_NM              object \n",
      " 7   CAR_TYPE_NM         object \n",
      " 8   CAR_YEAR            int64  \n",
      " 9   CAR_FUEL_NM         object \n",
      " 10  CAR_MILE            float64\n",
      " 11  ENGINE_TYPE         object \n",
      " 12  SMO_CHK_METHOD      object \n",
      " 13  UNLOAD_SMO_VAL1     float64\n",
      " 14  UNLOAD_SMO_LIM1     float64\n",
      " 15  UNLOAD_SMO_JUDGE1   object \n",
      " 16  UNLOAD_SMO_VAL2     float64\n",
      " 17  UNLOAD_SMO_LIM2     float64\n",
      " 18  UNLOAD_SMO_JUDGE2   object \n",
      " 19  UNLOAD_SMO_VAL3     float64\n",
      " 20  UNLOAD_SMO_LIM3     float64\n",
      " 21  UNLOAD_SMO_JUDGE3   object \n",
      " 22  UNLOAD_SMO_VAL4     float64\n",
      " 23  UNLOAD_SMO_LIM4     float64\n",
      " 24  UNLOAD_SMO_JUDGE4   object \n",
      " 25  UNLOAD_SMO_VAL5     float64\n",
      " 26  UNLOAD_SMO_LIM5     float64\n",
      " 27  UNLOAD_SMO_JUDGE5   object \n",
      " 28  CO2_VAL             float64\n",
      " 29  ENGINE_TOR_LIM      float64\n",
      " 30  ENGINE_TOR_VAL      float64\n",
      " 31  O2_VAL              float64\n",
      " 32  SMO_CHK_JUDGE_YN    object \n",
      " 33  RE_INS_DATE2        object \n",
      " 34  SMO_CLOCK_INFO      object \n",
      " 35  CMB_SMO_CHK_REG_NO  object \n",
      " 36  UNLOAD_SMO_VAL6     float64\n",
      " 37  UNLOAD_SMO_LIM6     float64\n",
      " 38  UNLOAD_SMO_JUDGE6   object \n",
      "dtypes: float64(17), int64(2), object(20)\n",
      "memory usage: 8.3+ GB\n"
     ]
    }
   ],
   "source": [
    "# about 8m 40s\n",
    "file_name = f'ODS_{name}.csv'\n",
    "ins = pd.read_csv(os.path.join(ods_fold, file_name), usecols=col, low_memory=False)\n",
    "ins.info()"
   ]
  },
  {
   "cell_type": "code",
   "execution_count": 13,
   "metadata": {},
   "outputs": [
    {
     "name": "stdout",
     "output_type": "stream",
     "text": [
      "<class 'pandas.core.frame.DataFrame'>\n",
      "RangeIndex: 28682228 entries, 0 to 28682227\n",
      "Data columns (total 39 columns):\n",
      " #   Column              Dtype  \n",
      "---  ------              -----  \n",
      " 0   CAR_FUEL_NM         object \n",
      " 1   CAR_MILE            float64\n",
      " 2   CAR_NM              object \n",
      " 3   CAR_REG_NO          object \n",
      " 4   CAR_SER_NO          object \n",
      " 5   CAR_TYPE_NM         object \n",
      " 6   CAR_YEAR            int64  \n",
      " 7   CMB_SMO_CHK_REG_NO  object \n",
      " 8   CO2_VAL             float64\n",
      " 9   ENGINE_TOR_LIM      float64\n",
      " 10  ENGINE_TOR_VAL      float64\n",
      " 11  ENGINE_TYPE         object \n",
      " 12  O2_VAL              float64\n",
      " 13  RE_INS_DATE2        object \n",
      " 14  SMO_CHK_DATE        int64  \n",
      " 15  SMO_CHK_JUDGE_YN    object \n",
      " 16  SMO_CHK_METHOD      object \n",
      " 17  SMO_CHK_ORG_NM      object \n",
      " 18  SMO_CHK_REG_NO      object \n",
      " 19  SMO_CHK_TYPE        object \n",
      " 20  SMO_CLOCK_INFO      object \n",
      " 21  UNLOAD_SMO_JUDGE1   object \n",
      " 22  UNLOAD_SMO_JUDGE2   object \n",
      " 23  UNLOAD_SMO_JUDGE3   object \n",
      " 24  UNLOAD_SMO_JUDGE4   object \n",
      " 25  UNLOAD_SMO_JUDGE5   object \n",
      " 26  UNLOAD_SMO_JUDGE6   object \n",
      " 27  UNLOAD_SMO_LIM1     float64\n",
      " 28  UNLOAD_SMO_LIM2     float64\n",
      " 29  UNLOAD_SMO_LIM3     float64\n",
      " 30  UNLOAD_SMO_LIM4     float64\n",
      " 31  UNLOAD_SMO_LIM5     float64\n",
      " 32  UNLOAD_SMO_LIM6     float64\n",
      " 33  UNLOAD_SMO_VAL1     float64\n",
      " 34  UNLOAD_SMO_VAL2     float64\n",
      " 35  UNLOAD_SMO_VAL3     float64\n",
      " 36  UNLOAD_SMO_VAL4     float64\n",
      " 37  UNLOAD_SMO_VAL5     float64\n",
      " 38  UNLOAD_SMO_VAL6     float64\n",
      "dtypes: float64(17), int64(2), object(20)\n",
      "memory usage: 8.3+ GB\n"
     ]
    }
   ],
   "source": [
    "ins = ins[col]\n",
    "ins.info()"
   ]
  },
  {
   "cell_type": "code",
   "execution_count": 14,
   "metadata": {},
   "outputs": [],
   "source": [
    "ins.columns = [col_dict[x] for x in ins.columns]"
   ]
  },
  {
   "cell_type": "code",
   "execution_count": 15,
   "metadata": {},
   "outputs": [
    {
     "data": {
      "text/plain": [
       "Index(['사용연료', '주행거리', '차명', '차량번호', '차대번호', '차종', '차량연식', '정밀검사 검사소코드',\n",
       "       '이산화탄소값', '최대출력허용치', '최대출력측정값', '엔진형식', '산소값', '재검사기간', '정밀검사일자',\n",
       "       '정밀검사판정', '정밀검사측정방법', '정밀검사소명', '정밀검사접수번호', '정밀검사종류', '정밀검사시각정보',\n",
       "       '무부하매연판정1', '무부하매연판정2', '무부하매연판정3', '무부하매연판정4', '무부하매연판정5', '무부하매연판정6',\n",
       "       '무부하매연허용치1', '무부하매연허용치2', '무부하매연허용치3', '무부하매연허용치4', '무부하매연허용치5',\n",
       "       '무부하매연허용치6', '무부하매연측정치1', '무부하매연측정치2', '무부하매연측정치3', '무부하매연측정치4',\n",
       "       '무부하매연측정치5', '무부하매연측정치6'],\n",
       "      dtype='object')"
      ]
     },
     "execution_count": 15,
     "metadata": {},
     "output_type": "execute_result"
    }
   ],
   "source": [
    "ins.columns"
   ]
  },
  {
   "attachments": {},
   "cell_type": "markdown",
   "metadata": {},
   "source": [
    "### [출력] 정밀검사"
   ]
  },
  {
   "cell_type": "code",
   "execution_count": 16,
   "metadata": {},
   "outputs": [],
   "source": [
    "# about 8m 50s\n",
    "ins.to_csv(os.path.join(ods_fold, f'[ODS]정밀검사(2022.12.29).csv'), index=False)"
   ]
  },
  {
   "attachments": {},
   "cell_type": "markdown",
   "metadata": {},
   "source": [
    "# 코드 마지막"
   ]
  }
 ],
 "metadata": {
  "kernelspec": {
   "display_name": "base",
   "language": "python",
   "name": "python3"
  },
  "language_info": {
   "codemirror_mode": {
    "name": "ipython",
    "version": 3
   },
   "file_extension": ".py",
   "mimetype": "text/x-python",
   "name": "python",
   "nbconvert_exporter": "python",
   "pygments_lexer": "ipython3",
   "version": "3.9.13"
  },
  "orig_nbformat": 4,
  "vscode": {
   "interpreter": {
    "hash": "ad2bdc8ecc057115af97d19610ffacc2b4e99fae6737bb82f5d7fb13d2f2c186"
   }
  }
 },
 "nbformat": 4,
 "nbformat_minor": 2
}
