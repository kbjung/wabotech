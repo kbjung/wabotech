{
 "cells": [
  {
   "attachments": {},
   "cell_type": "markdown",
   "metadata": {},
   "source": [
    "# Library\n"
   ]
  },
  {
   "cell_type": "code",
   "execution_count": 1,
   "metadata": {},
   "outputs": [],
   "source": [
    "# modin 테스트\n",
    "    # merge에서 오류 발생\n",
    "    # 장점 : 파일로드 속도 2배 이상 향상\n",
    "    # 단점 : 불안정\n",
    "    # 결과 : 기존 pandas 사용\n",
    "\n",
    "# import modin.pandas as pd\n",
    "# import ray\n",
    "# ray.init()"
   ]
  },
  {
   "cell_type": "code",
   "execution_count": 2,
   "metadata": {},
   "outputs": [],
   "source": [
    "import pandas as pd\n",
    "import numpy as np\n",
    "import os\n",
    "from tqdm import tqdm\n",
    "from datetime import datetime\n",
    "from glob import glob"
   ]
  },
  {
   "cell_type": "code",
   "execution_count": 3,
   "metadata": {},
   "outputs": [],
   "source": [
    "# 소수점 옵션\n",
    "pd.options.display.float_format = '{:.2f}'.format\n",
    "# pd.reset_option('display.float_format')"
   ]
  },
  {
   "attachments": {},
   "cell_type": "markdown",
   "metadata": {},
   "source": [
    "# 수정사항\n",
    "- 2023.03.21\n",
    "    - item 1 : 배출가스인증번호별 매연 통계\n",
    "        - 1. 3등급 및 5등급으로 변경 보고한 차량에 대한 통계 제외\n",
    "        - 2. 검사판정비율이 무엇인지 의미하는 바를 정확히 표현해야할 것 같음\n",
    "        - 3. 분석에 적용된 결과가 몇 대이고, 몇 대가 추출이 되지 않는지 표현이 필요한 것 같음\n",
    "\n",
    "    이 외에도 내일 오전에 동양에서 가시화와 관련된 회의에서 추가적으로 필요하다고 판단되는 사항에 대해 추가적으로 분석이 필요할 것 같음"
   ]
  },
  {
   "attachments": {},
   "cell_type": "markdown",
   "metadata": {},
   "source": [
    "# fold path"
   ]
  },
  {
   "cell_type": "code",
   "execution_count": 4,
   "metadata": {},
   "outputs": [],
   "source": [
    "raw_fold = 'D:/data/big2/BD1/raw'\n",
    "ods_fold = 'D:/data/big2/ODS'\n",
    "sample_fold = 'D:/data/big2/BD1/sample'\n",
    "analysis_fold = 'D:/data/big2/BD1/an'"
   ]
  },
  {
   "attachments": {},
   "cell_type": "markdown",
   "metadata": {},
   "source": [
    "# Load"
   ]
  },
  {
   "attachments": {},
   "cell_type": "markdown",
   "metadata": {},
   "source": [
    "## 4등급 경유 result"
   ]
  },
  {
   "cell_type": "code",
   "execution_count": 5,
   "metadata": {},
   "outputs": [
    {
     "name": "stdout",
     "output_type": "stream",
     "text": [
      "<class 'pandas.core.frame.DataFrame'>\n",
      "RangeIndex: 1153813 entries, 0 to 1153812\n",
      "Data columns (total 31 columns):\n",
      " #   Column    Non-Null Count    Dtype  \n",
      "---  ------    --------------    -----  \n",
      " 0   차대번호      1153813 non-null  object \n",
      " 1   차량번호      1153813 non-null  object \n",
      " 2   제원관리번호    1153813 non-null  object \n",
      " 3   차종        1153813 non-null  object \n",
      " 4   용도        1153813 non-null  object \n",
      " 5   최초등록일     1153813 non-null  int64  \n",
      " 6   연식        1153813 non-null  int64  \n",
      " 7   제작일자      1153809 non-null  float64\n",
      " 8   검사유효일     1153810 non-null  float64\n",
      " 9   배출가스인증번호  1146663 non-null  object \n",
      " 10  등급        1153813 non-null  int64  \n",
      " 11  차명        1153813 non-null  object \n",
      " 12  차종분류      1153813 non-null  object \n",
      " 13  차종유형      1153813 non-null  object \n",
      " 14  자동차형식     1153812 non-null  object \n",
      " 15  제작사명      1153795 non-null  object \n",
      " 16  연료        1153813 non-null  object \n",
      " 17  엔진형식      1153813 non-null  object \n",
      " 18  총중량       1153813 non-null  int64  \n",
      " 19  적재중량      1153589 non-null  float64\n",
      " 20  엔진출력      1153811 non-null  float64\n",
      " 21  배기량       1153813 non-null  int64  \n",
      " 22  법정동코드     1153813 non-null  int64  \n",
      " 23  시도명       1153813 non-null  object \n",
      " 24  시군구명      1153813 non-null  object \n",
      " 25  소유자구분     1153813 non-null  object \n",
      " 26  말소여부      1153813 non-null  object \n",
      " 27  일치유무      1153813 non-null  object \n",
      " 28  배인번호_수정   1153813 non-null  object \n",
      " 29  등급_수정     1153813 non-null  int64  \n",
      " 30  DPF유무_수정  1153813 non-null  object \n",
      "dtypes: float64(4), int64(7), object(20)\n",
      "memory usage: 272.9+ MB\n"
     ]
    }
   ],
   "source": [
    "# about 12s\n",
    "# modin : about 5.7s\n",
    "name = '4등급_차량_리스트_양식_result_최종(2023.03.31)'\n",
    "file_name = f'{name}.csv'\n",
    "result = pd.read_csv(os.path.join(raw_fold, file_name), low_memory=False, encoding='cp949')\n",
    "result.info()"
   ]
  },
  {
   "cell_type": "code",
   "execution_count": 6,
   "metadata": {},
   "outputs": [
    {
     "data": {
      "text/plain": [
       "Index(['차대번호', '차량번호', '제원관리번호', '차종', '용도', '최초등록일', '연식', '제작일자', '검사유효일',\n",
       "       '배출가스인증번호', '등급', '차명', '차종분류', '차종유형', '자동차형식', '제작사명', '연료', '엔진형식',\n",
       "       '총중량', '적재중량', '엔진출력', '배기량', '법정동코드', '시도명', '시군구명', '소유자구분', '말소여부',\n",
       "       '일치유무', '배인번호_수정', '등급_수정', 'DPF유무_수정'],\n",
       "      dtype='object')"
      ]
     },
     "execution_count": 6,
     "metadata": {},
     "output_type": "execute_result"
    }
   ],
   "source": [
    "result.columns"
   ]
  },
  {
   "cell_type": "code",
   "execution_count": 7,
   "metadata": {},
   "outputs": [
    {
     "data": {
      "text/plain": [
       "4    1148315\n",
       "3       5372\n",
       "5        126\n",
       "Name: 등급_수정, dtype: int64"
      ]
     },
     "execution_count": 7,
     "metadata": {},
     "output_type": "execute_result"
    }
   ],
   "source": [
    "result['등급_수정'].value_counts(dropna=False)"
   ]
  },
  {
   "cell_type": "code",
   "execution_count": 8,
   "metadata": {},
   "outputs": [
    {
     "data": {
      "text/plain": [
       "4    1153813\n",
       "Name: 등급, dtype: int64"
      ]
     },
     "execution_count": 8,
     "metadata": {},
     "output_type": "execute_result"
    }
   ],
   "source": [
    "result['등급'].value_counts(dropna=False)"
   ]
  },
  {
   "cell_type": "code",
   "execution_count": 9,
   "metadata": {},
   "outputs": [
    {
     "data": {
      "text/plain": [
       "경유    1153813\n",
       "Name: 연료, dtype: int64"
      ]
     },
     "execution_count": 9,
     "metadata": {},
     "output_type": "execute_result"
    }
   ],
   "source": [
    "result['연료'].value_counts(dropna=False)"
   ]
  },
  {
   "cell_type": "code",
   "execution_count": 10,
   "metadata": {},
   "outputs": [
    {
     "data": {
      "text/plain": [
       "N    1153813\n",
       "Name: 말소여부, dtype: int64"
      ]
     },
     "execution_count": 10,
     "metadata": {},
     "output_type": "execute_result"
    }
   ],
   "source": [
    "result['말소여부'].value_counts(dropna=False)"
   ]
  },
  {
   "cell_type": "code",
   "execution_count": 11,
   "metadata": {},
   "outputs": [
    {
     "data": {
      "text/plain": [
       "배인번호_수정     0\n",
       "등급_수정       0\n",
       "DPF유무_수정    0\n",
       "dtype: int64"
      ]
     },
     "execution_count": 11,
     "metadata": {},
     "output_type": "execute_result"
    }
   ],
   "source": [
    "result[['배인번호_수정', '등급_수정', 'DPF유무_수정']].isnull().sum()"
   ]
  },
  {
   "attachments": {},
   "cell_type": "markdown",
   "metadata": {},
   "source": [
    "## 정기&정밀검사 최신"
   ]
  },
  {
   "cell_type": "code",
   "execution_count": 12,
   "metadata": {},
   "outputs": [
    {
     "name": "stdout",
     "output_type": "stream",
     "text": [
      "<class 'pandas.core.frame.DataFrame'>\n",
      "RangeIndex: 22044208 entries, 0 to 22044207\n",
      "Data columns (total 42 columns):\n",
      " #   Column     Dtype  \n",
      "---  ------     -----  \n",
      " 0   사용연료       object \n",
      " 1   주행거리       object \n",
      " 2   차명         object \n",
      " 3   차량번호       object \n",
      " 4   차대번호       object \n",
      " 5   차종         object \n",
      " 6   차량연식       int64  \n",
      " 7   엔진형식       object \n",
      " 8   검사방법       object \n",
      " 9   검사일자       int64  \n",
      " 10  검사종류       object \n",
      " 11  검사판정시각     object \n",
      " 12  검사판정       object \n",
      " 13  산소값        float64\n",
      " 14  이산화탄소값     float64\n",
      " 15  무부하매연판정1   object \n",
      " 16  무부하매연판정2   object \n",
      " 17  무부하매연판정3   object \n",
      " 18  무부하매연판정4   object \n",
      " 19  무부하매연판정5   object \n",
      " 20  무부하매연판정6   object \n",
      " 21  무부하매연허용치1  float64\n",
      " 22  무부하매연허용치2  float64\n",
      " 23  무부하매연허용치3  float64\n",
      " 24  무부하매연허용치4  float64\n",
      " 25  무부하매연허용치5  float64\n",
      " 26  무부하매연허용치6  float64\n",
      " 27  무부하매연측정치1  float64\n",
      " 28  무부하매연측정치2  float64\n",
      " 29  무부하매연측정치3  float64\n",
      " 30  무부하매연측정치4  float64\n",
      " 31  무부하매연측정치5  float64\n",
      " 32  무부하매연측정치6  float64\n",
      " 33  차량용도       object \n",
      " 34  최대출력허용치    float64\n",
      " 35  최대출력측정값    float64\n",
      " 36  검사접수번호     object \n",
      " 37  검사소명       object \n",
      " 38  재검사기간      object \n",
      " 39  정기정밀       object \n",
      " 40  검사 검사소코드   object \n",
      " 41  검사유효기간     float64\n",
      "dtypes: float64(17), int64(2), object(23)\n",
      "memory usage: 6.9+ GB\n"
     ]
    }
   ],
   "source": [
    "# about 4m 21s\n",
    "# modin about : 49s\n",
    "name = '[ODS]정기&정밀검사(최신검사만)(2022.12.28)'\n",
    "file_name = f'{name}.csv'\n",
    "tin = pd.read_csv(os.path.join(ods_fold, file_name), low_memory=False)\n",
    "tin.info()"
   ]
  },
  {
   "attachments": {},
   "cell_type": "markdown",
   "metadata": {},
   "source": [
    "# 전처리"
   ]
  },
  {
   "attachments": {},
   "cell_type": "markdown",
   "metadata": {},
   "source": [
    "## Issue\n",
    "- result : 병합_4등급_차량_리스트_양식_result_최종(2023.03.20).csv\n",
    "    - [해결] 7MY-DB-23-40 : 샘플 없음 -> 통계 코드에 조건문 설정\n",
    "    - [해결] FMY-DB-14-54 : 전부 차대번호10자리 연식과 연식 다른 문제 -> 통계 코드에 조건문 설정\n",
    "    - [해결] 7MY-DB-23-40 : 샘플 없음 -> 통계 코드에 조건문 설정\n",
    "    - [해결] 8MY-PA-14-3 : 결과정리 파일에 없는 배인번호 -> 8MY-PA-14-03 로 수정\n",
    "    - [해결] 9MY-AD-14-04 : 등급 오류, 현재 4등급 -> 3등급\n",
    "    - 3등급 차량 중 배인번호_수정이'확인불가'인 차량 3대 존재, 샘플 출력 ->\n",
    "- check : [BD1] 4등급 검증 결과 정리(23.03.20).xlsx\n",
    "    - [해결] 6MK-DK-14-1 : 잘못된 배인번호 -> 6MY-DK-14-1로 수정"
   ]
  },
  {
   "attachments": {},
   "cell_type": "markdown",
   "metadata": {},
   "source": [
    "### 8MY-PA-14-3 배인번호 수정\n",
    "- 8MY-PA-14-3 -> 8MY-PA-14-03"
   ]
  },
  {
   "cell_type": "code",
   "execution_count": 13,
   "metadata": {},
   "outputs": [
    {
     "data": {
      "text/plain": [
       "(0, 31)"
      ]
     },
     "execution_count": 13,
     "metadata": {},
     "output_type": "execute_result"
    }
   ],
   "source": [
    "result.loc[result['배인번호_수정'] == '8MY-PA-14-3'].shape"
   ]
  },
  {
   "cell_type": "code",
   "execution_count": 14,
   "metadata": {},
   "outputs": [],
   "source": [
    "# result1 = result.copy()"
   ]
  },
  {
   "cell_type": "code",
   "execution_count": 15,
   "metadata": {},
   "outputs": [
    {
     "data": {
      "text/plain": [
       "(1153813, 31)"
      ]
     },
     "execution_count": 15,
     "metadata": {},
     "output_type": "execute_result"
    }
   ],
   "source": [
    "# result1.loc[result1['배인번호_수정'] == '8MY-PA-14-3', '배인번호_수정'] = '8MY-PA-14-03'\n",
    "# result1.shape"
   ]
  },
  {
   "attachments": {},
   "cell_type": "markdown",
   "metadata": {},
   "source": [
    "### 9MY-AD-14-04 등급 수정\n",
    "- 9MY-AD-14-04 : 등급_수정 오류, 현재 4등급 -> 3등급"
   ]
  },
  {
   "cell_type": "code",
   "execution_count": 14,
   "metadata": {},
   "outputs": [
    {
     "data": {
      "text/plain": [
       "array([3], dtype=int64)"
      ]
     },
     "execution_count": 14,
     "metadata": {},
     "output_type": "execute_result"
    }
   ],
   "source": [
    "# result1.loc[result1['배인번호_수정'] == '9MY-AD-14-04', '등급_수정'].unique()\n",
    "result.loc[result['배인번호_수정'] == '9MY-AD-14-04', '등급_수정'].unique()"
   ]
  },
  {
   "cell_type": "code",
   "execution_count": 17,
   "metadata": {},
   "outputs": [
    {
     "data": {
      "text/plain": [
       "(976, 31)"
      ]
     },
     "execution_count": 17,
     "metadata": {},
     "output_type": "execute_result"
    }
   ],
   "source": [
    "# result1.loc[result1['배인번호_수정'] == '9MY-AD-14-04'].shape"
   ]
  },
  {
   "cell_type": "code",
   "execution_count": 18,
   "metadata": {},
   "outputs": [],
   "source": [
    "# result2 = result1.copy()"
   ]
  },
  {
   "cell_type": "code",
   "execution_count": 19,
   "metadata": {},
   "outputs": [],
   "source": [
    "# result2.loc[result2['배인번호_수정'] == '9MY-AD-14-04', '등급_수정'] = 3"
   ]
  },
  {
   "cell_type": "code",
   "execution_count": 20,
   "metadata": {},
   "outputs": [
    {
     "data": {
      "text/plain": [
       "array([3], dtype=int64)"
      ]
     },
     "execution_count": 20,
     "metadata": {},
     "output_type": "execute_result"
    }
   ],
   "source": [
    "# result2.loc[result2['배인번호_수정'] == '9MY-AD-14-04', '등급_수정'].unique()"
   ]
  },
  {
   "attachments": {},
   "cell_type": "markdown",
   "metadata": {},
   "source": [
    "### 3등급 차량 중 이상한 차량 샘플"
   ]
  },
  {
   "cell_type": "code",
   "execution_count": 15,
   "metadata": {},
   "outputs": [
    {
     "data": {
      "text/plain": [
       "(3, 31)"
      ]
     },
     "execution_count": 15,
     "metadata": {},
     "output_type": "execute_result"
    }
   ],
   "source": [
    "# result2.loc[(result2['등급_수정'] == 3) & (result2['배인번호_수정'] == '확인불가')].shape\n",
    "result.loc[(result['등급_수정'] == 3) & (result['배인번호_수정'] == '확인불가')].shape"
   ]
  },
  {
   "cell_type": "code",
   "execution_count": 16,
   "metadata": {},
   "outputs": [
    {
     "data": {
      "text/html": [
       "<div>\n",
       "<style scoped>\n",
       "    .dataframe tbody tr th:only-of-type {\n",
       "        vertical-align: middle;\n",
       "    }\n",
       "\n",
       "    .dataframe tbody tr th {\n",
       "        vertical-align: top;\n",
       "    }\n",
       "\n",
       "    .dataframe thead th {\n",
       "        text-align: right;\n",
       "    }\n",
       "</style>\n",
       "<table border=\"1\" class=\"dataframe\">\n",
       "  <thead>\n",
       "    <tr style=\"text-align: right;\">\n",
       "      <th></th>\n",
       "      <th>배인번호_수정</th>\n",
       "      <th>차명</th>\n",
       "      <th>제작사명</th>\n",
       "      <th>자동차형식</th>\n",
       "      <th>엔진형식</th>\n",
       "    </tr>\n",
       "  </thead>\n",
       "  <tbody>\n",
       "    <tr>\n",
       "      <th>1147742</th>\n",
       "      <td>확인불가</td>\n",
       "      <td>뉴파워트럭</td>\n",
       "      <td>현대자동차(주)</td>\n",
       "      <td>HD8CT-20ESHa-T6</td>\n",
       "      <td>D6HC</td>\n",
       "    </tr>\n",
       "    <tr>\n",
       "      <th>1147743</th>\n",
       "      <td>확인불가</td>\n",
       "      <td>뉴파워트럭</td>\n",
       "      <td>현대자동차(주)</td>\n",
       "      <td>HD8CT-20ESHa-T6</td>\n",
       "      <td>D6HC</td>\n",
       "    </tr>\n",
       "    <tr>\n",
       "      <th>1147744</th>\n",
       "      <td>확인불가</td>\n",
       "      <td>뉴파워트럭</td>\n",
       "      <td>현대자동차(주)</td>\n",
       "      <td>HD8CT-20ESHa-T6</td>\n",
       "      <td>D6HC</td>\n",
       "    </tr>\n",
       "  </tbody>\n",
       "</table>\n",
       "</div>"
      ],
      "text/plain": [
       "        배인번호_수정     차명      제작사명            자동차형식  엔진형식\n",
       "1147742    확인불가  뉴파워트럭  현대자동차(주)  HD8CT-20ESHa-T6  D6HC\n",
       "1147743    확인불가  뉴파워트럭  현대자동차(주)  HD8CT-20ESHa-T6  D6HC\n",
       "1147744    확인불가  뉴파워트럭  현대자동차(주)  HD8CT-20ESHa-T6  D6HC"
      ]
     },
     "execution_count": 16,
     "metadata": {},
     "output_type": "execute_result"
    }
   ],
   "source": [
    "# result2.loc[(result2['등급_수정'] == 3) & (result2['배인번호_수정'] == '확인불가'), ['배인번호_수정', '차명', '제작사명', '자동차형식', '엔진형식']]\n",
    "result.loc[(result['등급_수정'] == 3) & (result['배인번호_수정'] == '확인불가'), ['배인번호_수정', '차명', '제작사명', '자동차형식', '엔진형식']]"
   ]
  },
  {
   "attachments": {},
   "cell_type": "markdown",
   "metadata": {},
   "source": [
    "#### 샘플 출력"
   ]
  },
  {
   "cell_type": "code",
   "execution_count": 23,
   "metadata": {},
   "outputs": [],
   "source": [
    "# result2.loc[(result2['등급_수정'] == 3) & (result2['배인번호_수정'] == '확인불가')].to_excel(os.path.join(raw_fold, '샘플_3등급_확인불가_차량.xlsx'), index=False)"
   ]
  },
  {
   "attachments": {},
   "cell_type": "markdown",
   "metadata": {},
   "source": [
    "### [출력] result2"
   ]
  },
  {
   "cell_type": "code",
   "execution_count": 26,
   "metadata": {},
   "outputs": [
    {
     "data": {
      "text/plain": [
       "'D:/data/big2/BD1/raw'"
      ]
     },
     "execution_count": 26,
     "metadata": {},
     "output_type": "execute_result"
    }
   ],
   "source": [
    "# raw_fold"
   ]
  },
  {
   "cell_type": "code",
   "execution_count": 24,
   "metadata": {},
   "outputs": [
    {
     "data": {
      "text/plain": [
       "'2023.03.30'"
      ]
     },
     "execution_count": 24,
     "metadata": {},
     "output_type": "execute_result"
    }
   ],
   "source": [
    "# today_date = datetime.today().strftime(\"%Y.%m.%d\")\n",
    "# today_date"
   ]
  },
  {
   "cell_type": "code",
   "execution_count": 25,
   "metadata": {},
   "outputs": [],
   "source": [
    "# # about 15s\n",
    "# result2.to_csv(os.path.join(raw_fold, f'4등급 차량 리스트 양식 result 최종({today_date}).csv'), index=False, encoding='cp949')"
   ]
  },
  {
   "attachments": {},
   "cell_type": "markdown",
   "metadata": {},
   "source": [
    "## 등급_수정 4등급만 추출"
   ]
  },
  {
   "cell_type": "code",
   "execution_count": 17,
   "metadata": {},
   "outputs": [
    {
     "data": {
      "text/plain": [
       "4    1148315\n",
       "3       5372\n",
       "5        126\n",
       "Name: 등급_수정, dtype: int64"
      ]
     },
     "execution_count": 17,
     "metadata": {},
     "output_type": "execute_result"
    }
   ],
   "source": [
    "# result2['등급_수정'].value_counts(dropna=False)\n",
    "result['등급_수정'].value_counts(dropna=False)"
   ]
  },
  {
   "cell_type": "code",
   "execution_count": 28,
   "metadata": {},
   "outputs": [
    {
     "data": {
      "text/plain": [
       "(1148315, 31)"
      ]
     },
     "execution_count": 28,
     "metadata": {},
     "output_type": "execute_result"
    }
   ],
   "source": [
    "# result3 = result2.loc[result2['등급_수정'] == 4]\n",
    "# result3.shape"
   ]
  },
  {
   "cell_type": "code",
   "execution_count": 18,
   "metadata": {},
   "outputs": [
    {
     "data": {
      "text/plain": [
       "(1148315, 31)"
      ]
     },
     "execution_count": 18,
     "metadata": {},
     "output_type": "execute_result"
    }
   ],
   "source": [
    "result1 = result.loc[result['등급_수정'] == 4]\n",
    "result1.shape"
   ]
  },
  {
   "attachments": {},
   "cell_type": "markdown",
   "metadata": {},
   "source": [
    "## 정기&정밀 검사 특정 기간 데이터 추출"
   ]
  },
  {
   "cell_type": "code",
   "execution_count": 19,
   "metadata": {},
   "outputs": [
    {
     "data": {
      "text/plain": [
       "dtype('int64')"
      ]
     },
     "execution_count": 19,
     "metadata": {},
     "output_type": "execute_result"
    }
   ],
   "source": [
    "tin['검사일자'].dtype"
   ]
  },
  {
   "cell_type": "code",
   "execution_count": 20,
   "metadata": {},
   "outputs": [
    {
     "data": {
      "text/plain": [
       "(20714502, 42)"
      ]
     },
     "execution_count": 20,
     "metadata": {},
     "output_type": "execute_result"
    }
   ],
   "source": [
    "# about 6.9s\n",
    "tin1 = tin.loc[(tin['검사일자'] >= 20200108) & (tin['검사일자'] <= 20230107)]\n",
    "tin1.shape"
   ]
  },
  {
   "cell_type": "code",
   "execution_count": 21,
   "metadata": {},
   "outputs": [
    {
     "data": {
      "text/plain": [
       "count   20714502.00\n",
       "mean    20215015.93\n",
       "std         6694.21\n",
       "min     20200108.00\n",
       "25%     20210614.00\n",
       "50%     20220117.00\n",
       "75%     20220623.00\n",
       "max     20230107.00\n",
       "Name: 검사일자, dtype: float64"
      ]
     },
     "execution_count": 21,
     "metadata": {},
     "output_type": "execute_result"
    }
   ],
   "source": [
    "tin1['검사일자'].describe()"
   ]
  },
  {
   "attachments": {},
   "cell_type": "markdown",
   "metadata": {},
   "source": [
    "## result와 정기&정밀 검사 파일 병합"
   ]
  },
  {
   "cell_type": "code",
   "execution_count": 32,
   "metadata": {},
   "outputs": [
    {
     "data": {
      "text/plain": [
       "(1148315, 72)"
      ]
     },
     "execution_count": 32,
     "metadata": {},
     "output_type": "execute_result"
    }
   ],
   "source": [
    "# # about 45s\n",
    "# # modin about error\n",
    "# df = result3.merge(tin1, on='차대번호', how='left')\n",
    "# df.shape"
   ]
  },
  {
   "cell_type": "code",
   "execution_count": 29,
   "metadata": {},
   "outputs": [
    {
     "data": {
      "text/plain": [
       "(1148315, 72)"
      ]
     },
     "execution_count": 29,
     "metadata": {},
     "output_type": "execute_result"
    }
   ],
   "source": [
    "# about 45s\n",
    "# modin about error\n",
    "df = result1.merge(tin1, on='차대번호', how='left')\n",
    "df.shape"
   ]
  },
  {
   "cell_type": "code",
   "execution_count": 30,
   "metadata": {},
   "outputs": [
    {
     "data": {
      "text/plain": [
       "Index(['차대번호', '차량번호_x', '제원관리번호', '차종_x', '용도', '최초등록일', '연식', '제작일자',\n",
       "       '검사유효일', '배출가스인증번호', '등급', '차명_x', '차종분류', '차종유형', '자동차형식', '제작사명',\n",
       "       '연료', '엔진형식_x', '총중량', '적재중량', '엔진출력', '배기량', '법정동코드', '시도명', '시군구명',\n",
       "       '소유자구분', '말소여부', '일치유무', '배인번호_수정', '등급_수정', 'DPF유무_수정', '사용연료', '주행거리',\n",
       "       '차명_y', '차량번호_y', '차종_y', '차량연식', '엔진형식_y', '검사방법', '검사일자', '검사종류',\n",
       "       '검사판정시각', '검사판정', '산소값', '이산화탄소값', '무부하매연판정1', '무부하매연판정2', '무부하매연판정3',\n",
       "       '무부하매연판정4', '무부하매연판정5', '무부하매연판정6', '무부하매연허용치1', '무부하매연허용치2',\n",
       "       '무부하매연허용치3', '무부하매연허용치4', '무부하매연허용치5', '무부하매연허용치6', '무부하매연측정치1',\n",
       "       '무부하매연측정치2', '무부하매연측정치3', '무부하매연측정치4', '무부하매연측정치5', '무부하매연측정치6', '차량용도',\n",
       "       '최대출력허용치', '최대출력측정값', '검사접수번호', '검사소명', '재검사기간', '정기정밀', '검사 검사소코드',\n",
       "       '검사유효기간'],\n",
       "      dtype='object')"
      ]
     },
     "execution_count": 30,
     "metadata": {},
     "output_type": "execute_result"
    }
   ],
   "source": [
    "df.columns"
   ]
  },
  {
   "cell_type": "code",
   "execution_count": 31,
   "metadata": {},
   "outputs": [
    {
     "data": {
      "text/plain": [
       "Index(['차대번호', '차량번호', '제원관리번호', '차종', '용도', '최초등록일', '연식', '제작일자', '검사유효일',\n",
       "       '배출가스인증번호', '등급', '차명', '차종분류', '차종유형', '자동차형식', '제작사명', '연료', '엔진형식',\n",
       "       '총중량', '적재중량', '엔진출력', '배기량', '법정동코드', '시도명', '시군구명', '소유자구분', '말소여부',\n",
       "       '일치유무', '배인번호_수정', '등급_수정', 'DPF유무_수정', '주행거리', '차량연식', '검사방법', '검사일자',\n",
       "       '검사종류', '검사판정시각', '검사판정', '산소값', '이산화탄소값', '무부하매연판정1', '무부하매연판정2',\n",
       "       '무부하매연판정3', '무부하매연판정4', '무부하매연판정5', '무부하매연판정6', '무부하매연허용치1',\n",
       "       '무부하매연허용치2', '무부하매연허용치3', '무부하매연허용치4', '무부하매연허용치5', '무부하매연허용치6',\n",
       "       '무부하매연측정치1', '무부하매연측정치2', '무부하매연측정치3', '무부하매연측정치4', '무부하매연측정치5',\n",
       "       '무부하매연측정치6', '정기정밀'],\n",
       "      dtype='object')"
      ]
     },
     "execution_count": 31,
     "metadata": {},
     "output_type": "execute_result"
    }
   ],
   "source": [
    "df = df[['차대번호', '차량번호_x', '제원관리번호', '차종_x', '용도', '최초등록일', '연식', '제작일자',\n",
    "       '검사유효일', '배출가스인증번호', '등급', '차명_x', '차종분류', '차종유형', '자동차형식', '제작사명',\n",
    "       '연료', '엔진형식_x', '총중량', '적재중량', '엔진출력', '배기량', '법정동코드', '시도명', '시군구명',\n",
    "       '소유자구분', '말소여부', '일치유무', '배인번호_수정', '등급_수정', 'DPF유무_수정', \n",
    "       '주행거리', '차량연식', '검사방법', '검사일자', '검사종류', '검사판정시각', '검사판정', '산소값', '이산화탄소값', \n",
    "       '무부하매연판정1', '무부하매연판정2', '무부하매연판정3', '무부하매연판정4', '무부하매연판정5', '무부하매연판정6', \n",
    "       '무부하매연허용치1', '무부하매연허용치2', '무부하매연허용치3', '무부하매연허용치4', '무부하매연허용치5', '무부하매연허용치6', \n",
    "       '무부하매연측정치1', '무부하매연측정치2', '무부하매연측정치3', '무부하매연측정치4', '무부하매연측정치5', '무부하매연측정치6', \n",
    "       '정기정밀']]\n",
    "df = df.rename(columns={'차량번호_x':'차량번호', '차종_x':'차종', '차명_x':'차명', '엔진형식_x':'엔진형식'})\n",
    "df.columns"
   ]
  },
  {
   "cell_type": "code",
   "execution_count": 32,
   "metadata": {},
   "outputs": [
    {
     "data": {
      "text/plain": [
       "(1148315, 59)"
      ]
     },
     "execution_count": 32,
     "metadata": {},
     "output_type": "execute_result"
    }
   ],
   "source": [
    "df.shape"
   ]
  },
  {
   "cell_type": "code",
   "execution_count": 33,
   "metadata": {},
   "outputs": [
    {
     "data": {
      "text/plain": [
       "count    1120201.00\n",
       "mean    20217159.00\n",
       "std         5579.48\n",
       "min     20200108.00\n",
       "25%     20211101.00\n",
       "50%     20220330.00\n",
       "75%     20220730.00\n",
       "max     20230107.00\n",
       "Name: 검사일자, dtype: float64"
      ]
     },
     "execution_count": 33,
     "metadata": {},
     "output_type": "execute_result"
    }
   ],
   "source": [
    "df['검사일자'].describe()"
   ]
  },
  {
   "attachments": {},
   "cell_type": "markdown",
   "metadata": {},
   "source": [
    "### [출력] result와 정기&정밀(최신검사)"
   ]
  },
  {
   "cell_type": "code",
   "execution_count": 34,
   "metadata": {},
   "outputs": [
    {
     "data": {
      "text/plain": [
       "'2023.03.31'"
      ]
     },
     "execution_count": 34,
     "metadata": {},
     "output_type": "execute_result"
    }
   ],
   "source": [
    "today_date = datetime.today().strftime(\"%Y.%m.%d\")\n",
    "today_date"
   ]
  },
  {
   "cell_type": "code",
   "execution_count": 35,
   "metadata": {},
   "outputs": [],
   "source": [
    "# about 27.3s\n",
    "df.to_csv(os.path.join(raw_fold, f'result(4등급_경유)&정기&정밀(최신검사)({today_date}).csv'), index=False, encoding='cp949')"
   ]
  },
  {
   "attachments": {},
   "cell_type": "markdown",
   "metadata": {},
   "source": [
    "## str 타입으로 변경\n",
    "- 배인번호_수정\n",
    "- 엔진형식\n",
    "- 검사판정"
   ]
  },
  {
   "cell_type": "code",
   "execution_count": 223,
   "metadata": {},
   "outputs": [
    {
     "data": {
      "text/plain": [
       "제작사명           0\n",
       "배인번호_수정        0\n",
       "자동차형식          0\n",
       "엔진형식           0\n",
       "연식             0\n",
       "검사판정           0\n",
       "검사방법       28114\n",
       "dtype: int64"
      ]
     },
     "execution_count": 223,
     "metadata": {},
     "output_type": "execute_result"
    }
   ],
   "source": [
    "# df[['제작사명', '배인번호_수정', '자동차형식', '엔진형식', '연식', '검사판정', '검사방법']].isnull().sum()"
   ]
  },
  {
   "cell_type": "code",
   "execution_count": 224,
   "metadata": {},
   "outputs": [],
   "source": [
    "# df['제작사명'] = df['제작사명'].astype('str')\n",
    "# df['배인번호_수정'] = df['배인번호_수정'].astype('str')\n",
    "# df['자동차형식'] = df['자동차형식'].astype('str')\n",
    "# df['엔진형식'] = df['엔진형식'].astype('str')\n",
    "# df['검사판정'] = df['검사판정'].astype('str')\n",
    "# df['검사방법'] = df['검사방법'].astype('str')"
   ]
  },
  {
   "cell_type": "code",
   "execution_count": 225,
   "metadata": {},
   "outputs": [
    {
     "data": {
      "text/plain": [
       "제작사명       0\n",
       "배인번호_수정    0\n",
       "자동차형식      0\n",
       "엔진형식       0\n",
       "검사판정       0\n",
       "검사방법       0\n",
       "dtype: int64"
      ]
     },
     "execution_count": 225,
     "metadata": {},
     "output_type": "execute_result"
    }
   ],
   "source": [
    "# df[['제작사명', '배인번호_수정', '자동차형식', '엔진형식', '검사판정', '검사방법']].isnull().sum()"
   ]
  },
  {
   "attachments": {},
   "cell_type": "markdown",
   "metadata": {},
   "source": [
    "## 차대번호 10자리 연식"
   ]
  },
  {
   "cell_type": "code",
   "execution_count": 36,
   "metadata": {},
   "outputs": [],
   "source": [
    "df1 = df.copy()"
   ]
  },
  {
   "cell_type": "code",
   "execution_count": 37,
   "metadata": {},
   "outputs": [],
   "source": [
    "df1['vin10'] = df1['차대번호'].str[9]"
   ]
  },
  {
   "cell_type": "code",
   "execution_count": 38,
   "metadata": {},
   "outputs": [],
   "source": [
    "vin10_dict = {'J':1988, 'K':1989, 'L':1990, 'M':1991, 'N':1992, 'P':1993, 'R':1994, 'S':1995, 'T':1996, 'V':1997, 'W':1998, 'X':1999, 'Y':2000, '1':2001, '2':2002, '3':2003, '4':2004, '5':2005, '6':2006, '7':2007, '8':2008, '9':2009, 'A':2010, 'B':2011, 'C':2012, 'D':2013, 'E':2014, 'F':2015, 'G':2016, 'H':2017}"
   ]
  },
  {
   "cell_type": "code",
   "execution_count": 39,
   "metadata": {},
   "outputs": [],
   "source": [
    "df1['vin10_year'] = df1['vin10'].map(vin10_dict, na_action='ignore')"
   ]
  },
  {
   "attachments": {},
   "cell_type": "markdown",
   "metadata": {},
   "source": [
    "## 배인번호 17자리 샘플"
   ]
  },
  {
   "cell_type": "code",
   "execution_count": 40,
   "metadata": {},
   "outputs": [
    {
     "data": {
      "text/plain": [
       "((1148306, 61), (9, 61))"
      ]
     },
     "execution_count": 40,
     "metadata": {},
     "output_type": "execute_result"
    }
   ],
   "source": [
    "df2y = df1.loc[df1['차대번호'].str.len() == 17].reset_index(drop=True)\n",
    "df2n = df1.loc[df1['차대번호'].str.len() != 17].reset_index(drop=True)\n",
    "df2y.shape, df2n.shape"
   ]
  },
  {
   "attachments": {},
   "cell_type": "markdown",
   "metadata": {},
   "source": [
    "### [출력] 샘플-배인번호17자리 아닌"
   ]
  },
  {
   "cell_type": "code",
   "execution_count": 41,
   "metadata": {},
   "outputs": [],
   "source": [
    "today_date = datetime.today().strftime(\"%Y.%m.%d_%p.%I.%M.%S\")\n",
    "df2n.to_excel(os.path.join(sample_fold, f'통합_샘플_차대번호17자리아닌_{today_date}.xlsx'), index=False)"
   ]
  },
  {
   "attachments": {},
   "cell_type": "markdown",
   "metadata": {},
   "source": [
    "## 배인 연식과 연식 동일한 샘플"
   ]
  },
  {
   "cell_type": "code",
   "execution_count": 42,
   "metadata": {},
   "outputs": [
    {
     "data": {
      "text/plain": [
       "((1148246, 61), (60, 61))"
      ]
     },
     "execution_count": 42,
     "metadata": {},
     "output_type": "execute_result"
    }
   ],
   "source": [
    "df3y = df2y.loc[df2y['vin10_year'] == df2y['연식']].reset_index(drop=True)\n",
    "df3n = df2y.loc[df2y['vin10_year'] != df2y['연식']].reset_index(drop=True)\n",
    "df3y.shape, df3n.shape"
   ]
  },
  {
   "attachments": {},
   "cell_type": "markdown",
   "metadata": {},
   "source": [
    "### [출력] 샘플-배인연식 다른"
   ]
  },
  {
   "cell_type": "code",
   "execution_count": 43,
   "metadata": {},
   "outputs": [],
   "source": [
    "today_date = datetime.today().strftime(\"%Y.%m.%d_%p.%I.%M.%S\")\n",
    "df3n.to_excel(os.path.join(sample_fold, f'통합_샘플_차대번호17자리_차량연식다른_{today_date}.xlsx'), index=False)"
   ]
  },
  {
   "attachments": {},
   "cell_type": "markdown",
   "metadata": {},
   "source": [
    "# 4등급 경유 result&정기&정밀(최신검사)"
   ]
  },
  {
   "cell_type": "code",
   "execution_count": null,
   "metadata": {},
   "outputs": [
    {
     "name": "stdout",
     "output_type": "stream",
     "text": [
      "<class 'pandas.core.frame.DataFrame'>\n",
      "RangeIndex: 1148315 entries, 0 to 1148314\n",
      "Data columns (total 59 columns):\n",
      " #   Column     Non-Null Count    Dtype  \n",
      "---  ------     --------------    -----  \n",
      " 0   차대번호       1148315 non-null  object \n",
      " 1   차량번호       1148315 non-null  object \n",
      " 2   제원관리번호     1148315 non-null  object \n",
      " 3   차종         1148315 non-null  object \n",
      " 4   용도         1148315 non-null  object \n",
      " 5   최초등록일      1148315 non-null  int64  \n",
      " 6   연식         1148315 non-null  int64  \n",
      " 7   제작일자       1148313 non-null  float64\n",
      " 8   검사유효일      1148312 non-null  float64\n",
      " 9   배출가스인증번호   1141202 non-null  object \n",
      " 10  등급         1148315 non-null  int64  \n",
      " 11  차명         1148315 non-null  object \n",
      " 12  차종분류       1148315 non-null  object \n",
      " 13  차종유형       1148315 non-null  object \n",
      " 14  자동차형식      1148314 non-null  object \n",
      " 15  제작사명       1148297 non-null  object \n",
      " 16  연료         1148315 non-null  object \n",
      " 17  엔진형식       1148315 non-null  object \n",
      " 18  총중량        1148315 non-null  int64  \n",
      " 19  적재중량       1148256 non-null  float64\n",
      " 20  엔진출력       1148313 non-null  float64\n",
      " 21  배기량        1148315 non-null  int64  \n",
      " 22  법정동코드      1148315 non-null  int64  \n",
      " 23  시도명        1148315 non-null  object \n",
      " 24  시군구명       1148315 non-null  object \n",
      " 25  소유자구분      1148315 non-null  object \n",
      " 26  말소여부       1148315 non-null  object \n",
      " 27  일치유무       1148315 non-null  object \n",
      " 28  배인번호_수정    1148315 non-null  object \n",
      " 29  등급_수정      1148315 non-null  int64  \n",
      " 30  DPF유무_수정   1148315 non-null  object \n",
      " 31  주행거리       1120111 non-null  float64\n",
      " 32  차량연식       1120201 non-null  float64\n",
      " 33  검사방법       1120201 non-null  object \n",
      " 34  검사일자       1120201 non-null  float64\n",
      " 35  검사종류       1120201 non-null  object \n",
      " 36  검사판정시각     1111586 non-null  object \n",
      " 37  검사판정       1120201 non-null  object \n",
      " 38  산소값        810387 non-null   float64\n",
      " 39  이산화탄소값     810387 non-null   float64\n",
      " 40  무부하매연판정1   1111582 non-null  object \n",
      " 41  무부하매연판정2   42468 non-null    object \n",
      " 42  무부하매연판정3   41567 non-null    object \n",
      " 43  무부하매연판정4   41565 non-null    object \n",
      " 44  무부하매연판정5   41565 non-null    object \n",
      " 45  무부하매연판정6   39 non-null       object \n",
      " 46  무부하매연허용치1  1111582 non-null  float64\n",
      " 47  무부하매연허용치2  329713 non-null   float64\n",
      " 48  무부하매연허용치3  329712 non-null   float64\n",
      " 49  무부하매연허용치4  329710 non-null   float64\n",
      " 50  무부하매연허용치5  329710 non-null   float64\n",
      " 51  무부하매연허용치6  299269 non-null   float64\n",
      " 52  무부하매연측정치1  1111586 non-null  float64\n",
      " 53  무부하매연측정치2  362420 non-null   float64\n",
      " 54  무부하매연측정치3  329714 non-null   float64\n",
      " 55  무부하매연측정치4  329712 non-null   float64\n",
      " 56  무부하매연측정치5  329712 non-null   float64\n",
      " 57  무부하매연측정치6  299269 non-null   float64\n",
      " 58  정기정밀       1120201 non-null  object \n",
      "dtypes: float64(21), int64(7), object(31)\n",
      "memory usage: 516.9+ MB\n"
     ]
    }
   ],
   "source": [
    "# # about 20.4s\n",
    "# name = 'result(4등급_경유)&정기&정밀(최신검사)(2023.03.31)'\n",
    "# file_name = f'{name}.csv'\n",
    "# df = pd.read_csv(os.path.join(raw_fold, file_name), low_memory=False, encoding='cp949')\n",
    "# df.info()"
   ]
  },
  {
   "cell_type": "code",
   "execution_count": 44,
   "metadata": {},
   "outputs": [
    {
     "data": {
      "text/plain": [
       "Index(['차대번호', '차량번호', '제원관리번호', '차종', '용도', '최초등록일', '연식', '제작일자', '검사유효일',\n",
       "       '배출가스인증번호', '등급', '차명', '차종분류', '차종유형', '자동차형식', '제작사명', '연료', '엔진형식',\n",
       "       '총중량', '적재중량', '엔진출력', '배기량', '법정동코드', '시도명', '시군구명', '소유자구분', '말소여부',\n",
       "       '일치유무', '배인번호_수정', '등급_수정', 'DPF유무_수정', '주행거리', '차량연식', '검사방법', '검사일자',\n",
       "       '검사종류', '검사판정시각', '검사판정', '산소값', '이산화탄소값', '무부하매연판정1', '무부하매연판정2',\n",
       "       '무부하매연판정3', '무부하매연판정4', '무부하매연판정5', '무부하매연판정6', '무부하매연허용치1',\n",
       "       '무부하매연허용치2', '무부하매연허용치3', '무부하매연허용치4', '무부하매연허용치5', '무부하매연허용치6',\n",
       "       '무부하매연측정치1', '무부하매연측정치2', '무부하매연측정치3', '무부하매연측정치4', '무부하매연측정치5',\n",
       "       '무부하매연측정치6', '정기정밀'],\n",
       "      dtype='object')"
      ]
     },
     "execution_count": 44,
     "metadata": {},
     "output_type": "execute_result"
    }
   ],
   "source": [
    "df.columns"
   ]
  },
  {
   "cell_type": "code",
   "execution_count": 45,
   "metadata": {},
   "outputs": [
    {
     "data": {
      "text/plain": [
       "4    1148315\n",
       "Name: 등급_수정, dtype: int64"
      ]
     },
     "execution_count": 45,
     "metadata": {},
     "output_type": "execute_result"
    }
   ],
   "source": [
    "df['등급_수정'].value_counts(dropna=False)"
   ]
  },
  {
   "cell_type": "code",
   "execution_count": 46,
   "metadata": {},
   "outputs": [
    {
     "data": {
      "text/plain": [
       "경유    1148315\n",
       "Name: 연료, dtype: int64"
      ]
     },
     "execution_count": 46,
     "metadata": {},
     "output_type": "execute_result"
    }
   ],
   "source": [
    "df['연료'].value_counts(dropna=False)"
   ]
  },
  {
   "cell_type": "code",
   "execution_count": 47,
   "metadata": {},
   "outputs": [
    {
     "data": {
      "text/plain": [
       "N    1148315\n",
       "Name: 말소여부, dtype: int64"
      ]
     },
     "execution_count": 47,
     "metadata": {},
     "output_type": "execute_result"
    }
   ],
   "source": [
    "df['말소여부'].value_counts(dropna=False)"
   ]
  },
  {
   "cell_type": "code",
   "execution_count": 48,
   "metadata": {},
   "outputs": [
    {
     "data": {
      "text/plain": [
       "array(['무부하검사(급가속)', nan, '부하검사(KD-147)', '부하검사(LUG DOWN)',\n",
       "       '부하검사(ASM-Idling)', '무부하검사(정지가동)'], dtype=object)"
      ]
     },
     "execution_count": 48,
     "metadata": {},
     "output_type": "execute_result"
    }
   ],
   "source": [
    "df['검사방법'].unique()"
   ]
  },
  {
   "cell_type": "code",
   "execution_count": 49,
   "metadata": {},
   "outputs": [
    {
     "data": {
      "text/plain": [
       "array(['종합검사', nan, '재검사(2부재검사)', '정기검사', '정기(경과)검사', '종합검사(경과)',\n",
       "       '재검사(1부재검사)', '2부재검사(종합)', '1부재검사(종합)'], dtype=object)"
      ]
     },
     "execution_count": 49,
     "metadata": {},
     "output_type": "execute_result"
    }
   ],
   "source": [
    "df['검사종류'].unique()"
   ]
  },
  {
   "cell_type": "markdown",
   "metadata": {},
   "source": [
    "## 통계(검사종류별, 검사방법별, 측정치 개수)"
   ]
  },
  {
   "cell_type": "code",
   "execution_count": 50,
   "metadata": {},
   "outputs": [
    {
     "data": {
      "text/html": [
       "<div>\n",
       "<style scoped>\n",
       "    .dataframe tbody tr th:only-of-type {\n",
       "        vertical-align: middle;\n",
       "    }\n",
       "\n",
       "    .dataframe tbody tr th {\n",
       "        vertical-align: top;\n",
       "    }\n",
       "\n",
       "    .dataframe thead th {\n",
       "        text-align: right;\n",
       "    }\n",
       "</style>\n",
       "<table border=\"1\" class=\"dataframe\">\n",
       "  <thead>\n",
       "    <tr style=\"text-align: right;\">\n",
       "      <th></th>\n",
       "      <th></th>\n",
       "      <th>무부하매연측정치1</th>\n",
       "      <th>무부하매연측정치2</th>\n",
       "      <th>무부하매연측정치3</th>\n",
       "      <th>무부하매연측정치4</th>\n",
       "      <th>무부하매연측정치5</th>\n",
       "      <th>무부하매연측정치6</th>\n",
       "    </tr>\n",
       "    <tr>\n",
       "      <th>검사종류</th>\n",
       "      <th>검사방법</th>\n",
       "      <th></th>\n",
       "      <th></th>\n",
       "      <th></th>\n",
       "      <th></th>\n",
       "      <th></th>\n",
       "      <th></th>\n",
       "    </tr>\n",
       "  </thead>\n",
       "  <tbody>\n",
       "    <tr>\n",
       "      <th rowspan=\"3\" valign=\"top\">1부재검사(종합)</th>\n",
       "      <th>무부하검사(급가속)</th>\n",
       "      <td>707</td>\n",
       "      <td>707</td>\n",
       "      <td>333</td>\n",
       "      <td>333</td>\n",
       "      <td>333</td>\n",
       "      <td>333</td>\n",
       "    </tr>\n",
       "    <tr>\n",
       "      <th>부하검사(KD-147)</th>\n",
       "      <td>16768</td>\n",
       "      <td>6486</td>\n",
       "      <td>6486</td>\n",
       "      <td>6486</td>\n",
       "      <td>6486</td>\n",
       "      <td>6486</td>\n",
       "    </tr>\n",
       "    <tr>\n",
       "      <th>부하검사(LUG DOWN)</th>\n",
       "      <td>1171</td>\n",
       "      <td>1171</td>\n",
       "      <td>1171</td>\n",
       "      <td>1171</td>\n",
       "      <td>1171</td>\n",
       "      <td>338</td>\n",
       "    </tr>\n",
       "    <tr>\n",
       "      <th rowspan=\"3\" valign=\"top\">2부재검사(종합)</th>\n",
       "      <th>무부하검사(급가속)</th>\n",
       "      <td>2587</td>\n",
       "      <td>2587</td>\n",
       "      <td>998</td>\n",
       "      <td>998</td>\n",
       "      <td>998</td>\n",
       "      <td>998</td>\n",
       "    </tr>\n",
       "    <tr>\n",
       "      <th>부하검사(KD-147)</th>\n",
       "      <td>77914</td>\n",
       "      <td>26469</td>\n",
       "      <td>26468</td>\n",
       "      <td>26468</td>\n",
       "      <td>26468</td>\n",
       "      <td>26467</td>\n",
       "    </tr>\n",
       "    <tr>\n",
       "      <th>부하검사(LUG DOWN)</th>\n",
       "      <td>6409</td>\n",
       "      <td>6409</td>\n",
       "      <td>6409</td>\n",
       "      <td>6409</td>\n",
       "      <td>6409</td>\n",
       "      <td>1506</td>\n",
       "    </tr>\n",
       "    <tr>\n",
       "      <th>재검사(1부재검사)</th>\n",
       "      <th>무부하검사(급가속)</th>\n",
       "      <td>18140</td>\n",
       "      <td>0</td>\n",
       "      <td>0</td>\n",
       "      <td>0</td>\n",
       "      <td>0</td>\n",
       "      <td>0</td>\n",
       "    </tr>\n",
       "    <tr>\n",
       "      <th>재검사(2부재검사)</th>\n",
       "      <th>무부하검사(급가속)</th>\n",
       "      <td>30943</td>\n",
       "      <td>0</td>\n",
       "      <td>0</td>\n",
       "      <td>0</td>\n",
       "      <td>0</td>\n",
       "      <td>0</td>\n",
       "    </tr>\n",
       "    <tr>\n",
       "      <th>정기(경과)검사</th>\n",
       "      <th>무부하검사(급가속)</th>\n",
       "      <td>11248</td>\n",
       "      <td>0</td>\n",
       "      <td>0</td>\n",
       "      <td>0</td>\n",
       "      <td>0</td>\n",
       "      <td>0</td>\n",
       "    </tr>\n",
       "    <tr>\n",
       "      <th rowspan=\"2\" valign=\"top\">정기검사</th>\n",
       "      <th>무부하검사(급가속)</th>\n",
       "      <td>168781</td>\n",
       "      <td>0</td>\n",
       "      <td>0</td>\n",
       "      <td>0</td>\n",
       "      <td>0</td>\n",
       "      <td>0</td>\n",
       "    </tr>\n",
       "    <tr>\n",
       "      <th>무부하검사(정지가동)</th>\n",
       "      <td>2</td>\n",
       "      <td>2</td>\n",
       "      <td>2</td>\n",
       "      <td>0</td>\n",
       "      <td>0</td>\n",
       "      <td>0</td>\n",
       "    </tr>\n",
       "    <tr>\n",
       "      <th rowspan=\"4\" valign=\"top\">종합검사</th>\n",
       "      <th>무부하검사(급가속)</th>\n",
       "      <td>47338</td>\n",
       "      <td>47338</td>\n",
       "      <td>18994</td>\n",
       "      <td>18994</td>\n",
       "      <td>18994</td>\n",
       "      <td>18994</td>\n",
       "    </tr>\n",
       "    <tr>\n",
       "      <th>부하검사(ASM-Idling)</th>\n",
       "      <td>3</td>\n",
       "      <td>3</td>\n",
       "      <td>3</td>\n",
       "      <td>3</td>\n",
       "      <td>3</td>\n",
       "      <td>3</td>\n",
       "    </tr>\n",
       "    <tr>\n",
       "      <th>부하검사(KD-147)</th>\n",
       "      <td>640907</td>\n",
       "      <td>219338</td>\n",
       "      <td>219336</td>\n",
       "      <td>219336</td>\n",
       "      <td>219336</td>\n",
       "      <td>219334</td>\n",
       "    </tr>\n",
       "    <tr>\n",
       "      <th>부하검사(LUG DOWN)</th>\n",
       "      <td>30143</td>\n",
       "      <td>30143</td>\n",
       "      <td>30143</td>\n",
       "      <td>30143</td>\n",
       "      <td>30143</td>\n",
       "      <td>8234</td>\n",
       "    </tr>\n",
       "    <tr>\n",
       "      <th rowspan=\"3\" valign=\"top\">종합검사(경과)</th>\n",
       "      <th>무부하검사(급가속)</th>\n",
       "      <td>3496</td>\n",
       "      <td>3496</td>\n",
       "      <td>1100</td>\n",
       "      <td>1100</td>\n",
       "      <td>1100</td>\n",
       "      <td>1100</td>\n",
       "    </tr>\n",
       "    <tr>\n",
       "      <th>부하검사(KD-147)</th>\n",
       "      <td>51191</td>\n",
       "      <td>14433</td>\n",
       "      <td>14433</td>\n",
       "      <td>14433</td>\n",
       "      <td>14433</td>\n",
       "      <td>14433</td>\n",
       "    </tr>\n",
       "    <tr>\n",
       "      <th>부하검사(LUG DOWN)</th>\n",
       "      <td>3838</td>\n",
       "      <td>3838</td>\n",
       "      <td>3838</td>\n",
       "      <td>3838</td>\n",
       "      <td>3838</td>\n",
       "      <td>1043</td>\n",
       "    </tr>\n",
       "  </tbody>\n",
       "</table>\n",
       "</div>"
      ],
      "text/plain": [
       "                             무부하매연측정치1  무부하매연측정치2  무부하매연측정치3  무부하매연측정치4  \\\n",
       "검사종류       검사방법                                                           \n",
       "1부재검사(종합)  무부하검사(급가속)              707        707        333        333   \n",
       "           부하검사(KD-147)          16768       6486       6486       6486   \n",
       "           부하검사(LUG DOWN)         1171       1171       1171       1171   \n",
       "2부재검사(종합)  무부하검사(급가속)             2587       2587        998        998   \n",
       "           부하검사(KD-147)          77914      26469      26468      26468   \n",
       "           부하검사(LUG DOWN)         6409       6409       6409       6409   \n",
       "재검사(1부재검사) 무부하검사(급가속)            18140          0          0          0   \n",
       "재검사(2부재검사) 무부하검사(급가속)            30943          0          0          0   \n",
       "정기(경과)검사   무부하검사(급가속)            11248          0          0          0   \n",
       "정기검사       무부하검사(급가속)           168781          0          0          0   \n",
       "           무부하검사(정지가동)               2          2          2          0   \n",
       "종합검사       무부하검사(급가속)            47338      47338      18994      18994   \n",
       "           부하검사(ASM-Idling)          3          3          3          3   \n",
       "           부하검사(KD-147)         640907     219338     219336     219336   \n",
       "           부하검사(LUG DOWN)        30143      30143      30143      30143   \n",
       "종합검사(경과)   무부하검사(급가속)             3496       3496       1100       1100   \n",
       "           부하검사(KD-147)          51191      14433      14433      14433   \n",
       "           부하검사(LUG DOWN)         3838       3838       3838       3838   \n",
       "\n",
       "                             무부하매연측정치5  무부하매연측정치6  \n",
       "검사종류       검사방법                                    \n",
       "1부재검사(종합)  무부하검사(급가속)              333        333  \n",
       "           부하검사(KD-147)           6486       6486  \n",
       "           부하검사(LUG DOWN)         1171        338  \n",
       "2부재검사(종합)  무부하검사(급가속)              998        998  \n",
       "           부하검사(KD-147)          26468      26467  \n",
       "           부하검사(LUG DOWN)         6409       1506  \n",
       "재검사(1부재검사) 무부하검사(급가속)                0          0  \n",
       "재검사(2부재검사) 무부하검사(급가속)                0          0  \n",
       "정기(경과)검사   무부하검사(급가속)                0          0  \n",
       "정기검사       무부하검사(급가속)                0          0  \n",
       "           무부하검사(정지가동)               0          0  \n",
       "종합검사       무부하검사(급가속)            18994      18994  \n",
       "           부하검사(ASM-Idling)          3          3  \n",
       "           부하검사(KD-147)         219336     219334  \n",
       "           부하검사(LUG DOWN)        30143       8234  \n",
       "종합검사(경과)   무부하검사(급가속)             1100       1100  \n",
       "           부하검사(KD-147)          14433      14433  \n",
       "           부하검사(LUG DOWN)         3838       1043  "
      ]
     },
     "execution_count": 50,
     "metadata": {},
     "output_type": "execute_result"
    }
   ],
   "source": [
    "col = '무부하매연측정치'\n",
    "agg = 'count'\n",
    "statics = df.groupby(['검사종류', '검사방법']).agg({f'{col}1':agg, f'{col}2':agg, f'{col}3':agg, f'{col}4':agg, f'{col}5':agg, f'{col}6':agg})\n",
    "statics"
   ]
  },
  {
   "cell_type": "code",
   "execution_count": 51,
   "metadata": {},
   "outputs": [
    {
     "data": {
      "text/plain": [
       "'2023.03.31_AM.10.34.47'"
      ]
     },
     "execution_count": 51,
     "metadata": {},
     "output_type": "execute_result"
    }
   ],
   "source": [
    "today_date = datetime.today().strftime(\"%Y.%m.%d_%p.%I.%M.%S\")\n",
    "today_date"
   ]
  },
  {
   "cell_type": "markdown",
   "metadata": {},
   "source": [
    "### [출력] 통계"
   ]
  },
  {
   "cell_type": "code",
   "execution_count": 52,
   "metadata": {},
   "outputs": [],
   "source": [
    "statics.to_excel(os.path.join(analysis_fold, f'통계 result(4등급_경유) 검사종류 검사방법별 측정치 개수({today_date}).xlsx'))"
   ]
  },
  {
   "cell_type": "markdown",
   "metadata": {},
   "source": [
    "### 제원관리번호 오류 확인"
   ]
  },
  {
   "cell_type": "code",
   "execution_count": 53,
   "metadata": {},
   "outputs": [
    {
     "data": {
      "text/plain": [
       "02420000100031305    29\n",
       "Name: 제원관리번호, dtype: int64"
      ]
     },
     "execution_count": 53,
     "metadata": {},
     "output_type": "execute_result"
    }
   ],
   "source": [
    "df.loc[df['배출가스인증번호'] == '4MY-AD-20', '제원관리번호'].value_counts()"
   ]
  },
  {
   "attachments": {},
   "cell_type": "markdown",
   "metadata": {},
   "source": [
    "# [test] 배출가스 인증번호별 분석\n",
    "- [해결] issue\n",
    "    - 배인번호 없음 : 9MY-KM-14-22\n",
    "        - 차명 : 쏘렌토\n",
    "        - 등급변경 : 3 -> 4"
   ]
  },
  {
   "attachments": {},
   "cell_type": "markdown",
   "metadata": {},
   "source": [
    "## [로드] 배인번호 파일"
   ]
  },
  {
   "cell_type": "code",
   "execution_count": 54,
   "metadata": {},
   "outputs": [],
   "source": [
    "# 4MY-AD-20\n",
    "# 5MY-BK-14-07\n",
    "# 6MY-BK-13-08\n",
    "# 6MY-MK-14-02\n",
    "\n",
    "# 5MY-HD-24-35\n",
    "# 8MY-PA-14-03"
   ]
  },
  {
   "cell_type": "code",
   "execution_count": 55,
   "metadata": {},
   "outputs": [],
   "source": [
    "test_df = pd.DataFrame()"
   ]
  },
  {
   "cell_type": "code",
   "execution_count": 56,
   "metadata": {},
   "outputs": [
    {
     "data": {
      "text/plain": [
       "(30, 61)"
      ]
     },
     "execution_count": 56,
     "metadata": {},
     "output_type": "execute_result"
    }
   ],
   "source": [
    "emis_no = '4MY-AD-20'\n",
    "gas_df = df1.loc[df1['배인번호_수정'] == emis_no]\n",
    "gas_df.shape"
   ]
  },
  {
   "attachments": {},
   "cell_type": "markdown",
   "metadata": {},
   "source": [
    "### 전처리\n",
    "- 제거\n",
    "    - 차대번호 17자리 아닌 샘플\n",
    "    - 차대번호 10자리와 차량연식이 다른 샘플"
   ]
  },
  {
   "attachments": {},
   "cell_type": "markdown",
   "metadata": {},
   "source": [
    "#### [출력] 차대번호17자리 아닌 샘플"
   ]
  },
  {
   "cell_type": "code",
   "execution_count": 57,
   "metadata": {},
   "outputs": [
    {
     "data": {
      "text/plain": [
       "((30, 61), (0, 61))"
      ]
     },
     "execution_count": 57,
     "metadata": {},
     "output_type": "execute_result"
    }
   ],
   "source": [
    "vin17y = gas_df[(gas_df['차대번호'].str.len() == 17)].reset_index(drop=True)\n",
    "vin17n = gas_df[(gas_df['차대번호'].str.len() != 17)].reset_index(drop=True)\n",
    "vin17y.shape, vin17n.shape"
   ]
  },
  {
   "cell_type": "code",
   "execution_count": 58,
   "metadata": {},
   "outputs": [],
   "source": [
    "# vin17n.to_excel(os.path.join(sample_fold, f'샘플_차대번호17자리아닌_{emis_no}.xlsx'), index=False)"
   ]
  },
  {
   "attachments": {},
   "cell_type": "markdown",
   "metadata": {},
   "source": [
    "#### [출력] 차대번호10자리 연도와 차량연식 다른 샘플"
   ]
  },
  {
   "cell_type": "code",
   "execution_count": 59,
   "metadata": {},
   "outputs": [
    {
     "data": {
      "text/plain": [
       "((30, 61), (0, 61))"
      ]
     },
     "execution_count": 59,
     "metadata": {},
     "output_type": "execute_result"
    }
   ],
   "source": [
    "vin17y_vin10y = vin17y[vin17y['vin10_year'] == vin17y['연식']].reset_index(drop=True)\n",
    "vin17y_vin10n = vin17y[vin17y['vin10_year'] != vin17y['연식']].reset_index(drop=True)\n",
    "vin17y_vin10y.shape, vin17y_vin10n.shape"
   ]
  },
  {
   "cell_type": "code",
   "execution_count": 60,
   "metadata": {},
   "outputs": [],
   "source": [
    "# vin17y_vin10n.to_excel(os.path.join(sample_fold, f'샘플_차대번호17자리_차량연식다른_{emis_no}.xlsx'), index=False)"
   ]
  },
  {
   "attachments": {},
   "cell_type": "markdown",
   "metadata": {},
   "source": [
    "### 분석\n",
    "- 제원관리번호별, 자동차형식별, 엔진형식별, 검사판정별 무부하매연측정치1 통계"
   ]
  },
  {
   "cell_type": "code",
   "execution_count": 61,
   "metadata": {},
   "outputs": [
    {
     "data": {
      "text/plain": [
       "dtype('float64')"
      ]
     },
     "execution_count": 61,
     "metadata": {},
     "output_type": "execute_result"
    }
   ],
   "source": [
    "vin17y_vin10y['무부하매연측정치1'].dtype"
   ]
  },
  {
   "cell_type": "code",
   "execution_count": 62,
   "metadata": {},
   "outputs": [
    {
     "data": {
      "text/plain": [
       "3"
      ]
     },
     "execution_count": 62,
     "metadata": {},
     "output_type": "execute_result"
    }
   ],
   "source": [
    "vin17y_vin10y['무부하매연측정치1'].isnull().sum()"
   ]
  },
  {
   "cell_type": "code",
   "execution_count": 63,
   "metadata": {},
   "outputs": [],
   "source": [
    "def flat_cols(df):\n",
    "    df.columns = ['/'.join(x) for x in df.columns.to_flat_index()]\n",
    "    return df"
   ]
  },
  {
   "cell_type": "code",
   "execution_count": 64,
   "metadata": {},
   "outputs": [
    {
     "data": {
      "text/plain": [
       "Index(['차대번호', '차량번호', '제원관리번호', '차종', '용도', '최초등록일', '연식', '제작일자', '검사유효일',\n",
       "       '배출가스인증번호', '등급', '차명', '차종분류', '차종유형', '자동차형식', '제작사명', '연료', '엔진형식',\n",
       "       '총중량', '적재중량', '엔진출력', '배기량', '법정동코드', '시도명', '시군구명', '소유자구분', '말소여부',\n",
       "       '일치유무', '배인번호_수정', '등급_수정', 'DPF유무_수정', '주행거리', '차량연식', '검사방법', '검사일자',\n",
       "       '검사종류', '검사판정시각', '검사판정', '산소값', '이산화탄소값', '무부하매연판정1', '무부하매연판정2',\n",
       "       '무부하매연판정3', '무부하매연판정4', '무부하매연판정5', '무부하매연판정6', '무부하매연허용치1',\n",
       "       '무부하매연허용치2', '무부하매연허용치3', '무부하매연허용치4', '무부하매연허용치5', '무부하매연허용치6',\n",
       "       '무부하매연측정치1', '무부하매연측정치2', '무부하매연측정치3', '무부하매연측정치4', '무부하매연측정치5',\n",
       "       '무부하매연측정치6', '정기정밀', 'vin10', 'vin10_year'],\n",
       "      dtype='object')"
      ]
     },
     "execution_count": 64,
     "metadata": {},
     "output_type": "execute_result"
    }
   ],
   "source": [
    "vin17y_vin10y.columns"
   ]
  },
  {
   "cell_type": "code",
   "execution_count": 65,
   "metadata": {},
   "outputs": [
    {
     "data": {
      "text/plain": [
       "array(['무부하검사(급가속)', nan], dtype=object)"
      ]
     },
     "execution_count": 65,
     "metadata": {},
     "output_type": "execute_result"
    }
   ],
   "source": [
    "vin17y_vin10y['검사방법'].unique()"
   ]
  },
  {
   "cell_type": "code",
   "execution_count": 66,
   "metadata": {},
   "outputs": [
    {
     "data": {
      "text/plain": [
       "array(['종합검사', nan, '재검사(2부재검사)', '정기검사', '정기(경과)검사', '종합검사(경과)'],\n",
       "      dtype=object)"
      ]
     },
     "execution_count": 66,
     "metadata": {},
     "output_type": "execute_result"
    }
   ],
   "source": [
    "vin17y_vin10y['검사종류'].unique()"
   ]
  },
  {
   "cell_type": "code",
   "execution_count": 67,
   "metadata": {},
   "outputs": [],
   "source": [
    "groupby_col1 = ['제작사명', '배인번호_수정', '제원관리번호', '자동차형식', '엔진형식', '검사종류', '검사방법', '검사판정']\n",
    "g = vin17y_vin10y.groupby(groupby_col1).agg({'차대번호':'count', '무부하매연측정치1':['mean', 'min', 'max']}).pipe(flat_cols).round(2).reset_index()\n",
    "g = g.rename(columns={'배인번호_수정':'배출가스인증번호', '차대번호/count':'대수', '무부하매연측정치1/mean':'mean', '무부하매연측정치1/min':'min', '무부하매연측정치1/max':'max'})"
   ]
  },
  {
   "cell_type": "code",
   "execution_count": 68,
   "metadata": {},
   "outputs": [
    {
     "data": {
      "text/html": [
       "<div>\n",
       "<style scoped>\n",
       "    .dataframe tbody tr th:only-of-type {\n",
       "        vertical-align: middle;\n",
       "    }\n",
       "\n",
       "    .dataframe tbody tr th {\n",
       "        vertical-align: top;\n",
       "    }\n",
       "\n",
       "    .dataframe thead th {\n",
       "        text-align: right;\n",
       "    }\n",
       "</style>\n",
       "<table border=\"1\" class=\"dataframe\">\n",
       "  <thead>\n",
       "    <tr style=\"text-align: right;\">\n",
       "      <th></th>\n",
       "      <th>제작사명</th>\n",
       "      <th>배출가스인증번호</th>\n",
       "      <th>제원관리번호</th>\n",
       "      <th>자동차형식</th>\n",
       "      <th>엔진형식</th>\n",
       "      <th>검사종류</th>\n",
       "      <th>검사방법</th>\n",
       "      <th>검사판정</th>\n",
       "      <th>대수</th>\n",
       "      <th>mean</th>\n",
       "      <th>min</th>\n",
       "      <th>max</th>\n",
       "    </tr>\n",
       "  </thead>\n",
       "  <tbody>\n",
       "    <tr>\n",
       "      <th>0</th>\n",
       "      <td>아우디폭스바겐코리아(주)</td>\n",
       "      <td>4MY-AD-20</td>\n",
       "      <td>02420000100031305</td>\n",
       "      <td>4F</td>\n",
       "      <td>BMK</td>\n",
       "      <td>재검사(2부재검사)</td>\n",
       "      <td>무부하검사(급가속)</td>\n",
       "      <td>Y</td>\n",
       "      <td>1</td>\n",
       "      <td>19.00</td>\n",
       "      <td>19.00</td>\n",
       "      <td>19.00</td>\n",
       "    </tr>\n",
       "    <tr>\n",
       "      <th>1</th>\n",
       "      <td>아우디폭스바겐코리아(주)</td>\n",
       "      <td>4MY-AD-20</td>\n",
       "      <td>02420000100031305</td>\n",
       "      <td>4F</td>\n",
       "      <td>BMK</td>\n",
       "      <td>정기(경과)검사</td>\n",
       "      <td>무부하검사(급가속)</td>\n",
       "      <td>Y</td>\n",
       "      <td>2</td>\n",
       "      <td>6.00</td>\n",
       "      <td>0.00</td>\n",
       "      <td>12.00</td>\n",
       "    </tr>\n",
       "    <tr>\n",
       "      <th>2</th>\n",
       "      <td>아우디폭스바겐코리아(주)</td>\n",
       "      <td>4MY-AD-20</td>\n",
       "      <td>02420000100031305</td>\n",
       "      <td>4F</td>\n",
       "      <td>BMK</td>\n",
       "      <td>정기검사</td>\n",
       "      <td>무부하검사(급가속)</td>\n",
       "      <td>N</td>\n",
       "      <td>1</td>\n",
       "      <td>21.00</td>\n",
       "      <td>21.00</td>\n",
       "      <td>21.00</td>\n",
       "    </tr>\n",
       "    <tr>\n",
       "      <th>3</th>\n",
       "      <td>아우디폭스바겐코리아(주)</td>\n",
       "      <td>4MY-AD-20</td>\n",
       "      <td>02420000100031305</td>\n",
       "      <td>4F</td>\n",
       "      <td>BMK</td>\n",
       "      <td>정기검사</td>\n",
       "      <td>무부하검사(급가속)</td>\n",
       "      <td>Y</td>\n",
       "      <td>2</td>\n",
       "      <td>23.00</td>\n",
       "      <td>20.00</td>\n",
       "      <td>26.00</td>\n",
       "    </tr>\n",
       "    <tr>\n",
       "      <th>4</th>\n",
       "      <td>아우디폭스바겐코리아(주)</td>\n",
       "      <td>4MY-AD-20</td>\n",
       "      <td>02420000100031305</td>\n",
       "      <td>4F</td>\n",
       "      <td>BMK</td>\n",
       "      <td>종합검사</td>\n",
       "      <td>무부하검사(급가속)</td>\n",
       "      <td>N</td>\n",
       "      <td>1</td>\n",
       "      <td>51.00</td>\n",
       "      <td>51.00</td>\n",
       "      <td>51.00</td>\n",
       "    </tr>\n",
       "    <tr>\n",
       "      <th>5</th>\n",
       "      <td>아우디폭스바겐코리아(주)</td>\n",
       "      <td>4MY-AD-20</td>\n",
       "      <td>02420000100031305</td>\n",
       "      <td>4F</td>\n",
       "      <td>BMK</td>\n",
       "      <td>종합검사</td>\n",
       "      <td>무부하검사(급가속)</td>\n",
       "      <td>Y</td>\n",
       "      <td>15</td>\n",
       "      <td>12.33</td>\n",
       "      <td>0.00</td>\n",
       "      <td>31.00</td>\n",
       "    </tr>\n",
       "    <tr>\n",
       "      <th>6</th>\n",
       "      <td>아우디폭스바겐코리아(주)</td>\n",
       "      <td>4MY-AD-20</td>\n",
       "      <td>02420000100031305</td>\n",
       "      <td>4F</td>\n",
       "      <td>BMK</td>\n",
       "      <td>종합검사(경과)</td>\n",
       "      <td>무부하검사(급가속)</td>\n",
       "      <td>Y</td>\n",
       "      <td>4</td>\n",
       "      <td>15.00</td>\n",
       "      <td>11.00</td>\n",
       "      <td>17.00</td>\n",
       "    </tr>\n",
       "    <tr>\n",
       "      <th>7</th>\n",
       "      <td>자기인증면제차량</td>\n",
       "      <td>4MY-AD-20</td>\n",
       "      <td>00031124022261309</td>\n",
       "      <td>4F</td>\n",
       "      <td>BMK</td>\n",
       "      <td>종합검사</td>\n",
       "      <td>무부하검사(급가속)</td>\n",
       "      <td>Y</td>\n",
       "      <td>1</td>\n",
       "      <td>2.00</td>\n",
       "      <td>2.00</td>\n",
       "      <td>2.00</td>\n",
       "    </tr>\n",
       "  </tbody>\n",
       "</table>\n",
       "</div>"
      ],
      "text/plain": [
       "            제작사명   배출가스인증번호             제원관리번호 자동차형식 엔진형식        검사종류  \\\n",
       "0  아우디폭스바겐코리아(주)  4MY-AD-20  02420000100031305    4F  BMK  재검사(2부재검사)   \n",
       "1  아우디폭스바겐코리아(주)  4MY-AD-20  02420000100031305    4F  BMK    정기(경과)검사   \n",
       "2  아우디폭스바겐코리아(주)  4MY-AD-20  02420000100031305    4F  BMK        정기검사   \n",
       "3  아우디폭스바겐코리아(주)  4MY-AD-20  02420000100031305    4F  BMK        정기검사   \n",
       "4  아우디폭스바겐코리아(주)  4MY-AD-20  02420000100031305    4F  BMK        종합검사   \n",
       "5  아우디폭스바겐코리아(주)  4MY-AD-20  02420000100031305    4F  BMK        종합검사   \n",
       "6  아우디폭스바겐코리아(주)  4MY-AD-20  02420000100031305    4F  BMK    종합검사(경과)   \n",
       "7       자기인증면제차량  4MY-AD-20  00031124022261309    4F  BMK        종합검사   \n",
       "\n",
       "         검사방법 검사판정  대수  mean   min   max  \n",
       "0  무부하검사(급가속)    Y   1 19.00 19.00 19.00  \n",
       "1  무부하검사(급가속)    Y   2  6.00  0.00 12.00  \n",
       "2  무부하검사(급가속)    N   1 21.00 21.00 21.00  \n",
       "3  무부하검사(급가속)    Y   2 23.00 20.00 26.00  \n",
       "4  무부하검사(급가속)    N   1 51.00 51.00 51.00  \n",
       "5  무부하검사(급가속)    Y  15 12.33  0.00 31.00  \n",
       "6  무부하검사(급가속)    Y   4 15.00 11.00 17.00  \n",
       "7  무부하검사(급가속)    Y   1  2.00  2.00  2.00  "
      ]
     },
     "execution_count": 68,
     "metadata": {},
     "output_type": "execute_result"
    }
   ],
   "source": [
    "g"
   ]
  },
  {
   "cell_type": "code",
   "execution_count": 69,
   "metadata": {},
   "outputs": [
    {
     "data": {
      "text/plain": [
       "0     1\n",
       "1     2\n",
       "2     3\n",
       "3     3\n",
       "4    16\n",
       "5    16\n",
       "6     4\n",
       "7     1\n",
       "Name: 대수, dtype: int64"
      ]
     },
     "execution_count": 69,
     "metadata": {},
     "output_type": "execute_result"
    }
   ],
   "source": [
    "groupby_col2 = ['제작사명', '배출가스인증번호', '제원관리번호', '자동차형식', '엔진형식', '검사종류', '검사방법']\n",
    "g.groupby(groupby_col2)['대수'].transform('sum')"
   ]
  },
  {
   "cell_type": "code",
   "execution_count": 70,
   "metadata": {},
   "outputs": [
    {
     "data": {
      "text/html": [
       "<div>\n",
       "<style scoped>\n",
       "    .dataframe tbody tr th:only-of-type {\n",
       "        vertical-align: middle;\n",
       "    }\n",
       "\n",
       "    .dataframe tbody tr th {\n",
       "        vertical-align: top;\n",
       "    }\n",
       "\n",
       "    .dataframe thead th {\n",
       "        text-align: right;\n",
       "    }\n",
       "</style>\n",
       "<table border=\"1\" class=\"dataframe\">\n",
       "  <thead>\n",
       "    <tr style=\"text-align: right;\">\n",
       "      <th></th>\n",
       "      <th>제작사명</th>\n",
       "      <th>배출가스인증번호</th>\n",
       "      <th>제원관리번호</th>\n",
       "      <th>자동차형식</th>\n",
       "      <th>엔진형식</th>\n",
       "      <th>검사종류</th>\n",
       "      <th>검사방법</th>\n",
       "      <th>검사판정</th>\n",
       "      <th>대수</th>\n",
       "      <th>mean</th>\n",
       "      <th>min</th>\n",
       "      <th>max</th>\n",
       "      <th>합격률(%)</th>\n",
       "    </tr>\n",
       "  </thead>\n",
       "  <tbody>\n",
       "    <tr>\n",
       "      <th>0</th>\n",
       "      <td>아우디폭스바겐코리아(주)</td>\n",
       "      <td>4MY-AD-20</td>\n",
       "      <td>02420000100031305</td>\n",
       "      <td>4F</td>\n",
       "      <td>BMK</td>\n",
       "      <td>재검사(2부재검사)</td>\n",
       "      <td>무부하검사(급가속)</td>\n",
       "      <td>Y</td>\n",
       "      <td>1</td>\n",
       "      <td>19.00</td>\n",
       "      <td>19.00</td>\n",
       "      <td>19.00</td>\n",
       "      <td>100.00</td>\n",
       "    </tr>\n",
       "    <tr>\n",
       "      <th>1</th>\n",
       "      <td>아우디폭스바겐코리아(주)</td>\n",
       "      <td>4MY-AD-20</td>\n",
       "      <td>02420000100031305</td>\n",
       "      <td>4F</td>\n",
       "      <td>BMK</td>\n",
       "      <td>정기(경과)검사</td>\n",
       "      <td>무부하검사(급가속)</td>\n",
       "      <td>Y</td>\n",
       "      <td>2</td>\n",
       "      <td>6.00</td>\n",
       "      <td>0.00</td>\n",
       "      <td>12.00</td>\n",
       "      <td>100.00</td>\n",
       "    </tr>\n",
       "    <tr>\n",
       "      <th>2</th>\n",
       "      <td>아우디폭스바겐코리아(주)</td>\n",
       "      <td>4MY-AD-20</td>\n",
       "      <td>02420000100031305</td>\n",
       "      <td>4F</td>\n",
       "      <td>BMK</td>\n",
       "      <td>정기검사</td>\n",
       "      <td>무부하검사(급가속)</td>\n",
       "      <td>N</td>\n",
       "      <td>1</td>\n",
       "      <td>21.00</td>\n",
       "      <td>21.00</td>\n",
       "      <td>21.00</td>\n",
       "      <td>33.33</td>\n",
       "    </tr>\n",
       "    <tr>\n",
       "      <th>3</th>\n",
       "      <td>아우디폭스바겐코리아(주)</td>\n",
       "      <td>4MY-AD-20</td>\n",
       "      <td>02420000100031305</td>\n",
       "      <td>4F</td>\n",
       "      <td>BMK</td>\n",
       "      <td>정기검사</td>\n",
       "      <td>무부하검사(급가속)</td>\n",
       "      <td>Y</td>\n",
       "      <td>2</td>\n",
       "      <td>23.00</td>\n",
       "      <td>20.00</td>\n",
       "      <td>26.00</td>\n",
       "      <td>66.67</td>\n",
       "    </tr>\n",
       "    <tr>\n",
       "      <th>4</th>\n",
       "      <td>아우디폭스바겐코리아(주)</td>\n",
       "      <td>4MY-AD-20</td>\n",
       "      <td>02420000100031305</td>\n",
       "      <td>4F</td>\n",
       "      <td>BMK</td>\n",
       "      <td>종합검사</td>\n",
       "      <td>무부하검사(급가속)</td>\n",
       "      <td>N</td>\n",
       "      <td>1</td>\n",
       "      <td>51.00</td>\n",
       "      <td>51.00</td>\n",
       "      <td>51.00</td>\n",
       "      <td>6.25</td>\n",
       "    </tr>\n",
       "    <tr>\n",
       "      <th>5</th>\n",
       "      <td>아우디폭스바겐코리아(주)</td>\n",
       "      <td>4MY-AD-20</td>\n",
       "      <td>02420000100031305</td>\n",
       "      <td>4F</td>\n",
       "      <td>BMK</td>\n",
       "      <td>종합검사</td>\n",
       "      <td>무부하검사(급가속)</td>\n",
       "      <td>Y</td>\n",
       "      <td>15</td>\n",
       "      <td>12.33</td>\n",
       "      <td>0.00</td>\n",
       "      <td>31.00</td>\n",
       "      <td>93.75</td>\n",
       "    </tr>\n",
       "    <tr>\n",
       "      <th>6</th>\n",
       "      <td>아우디폭스바겐코리아(주)</td>\n",
       "      <td>4MY-AD-20</td>\n",
       "      <td>02420000100031305</td>\n",
       "      <td>4F</td>\n",
       "      <td>BMK</td>\n",
       "      <td>종합검사(경과)</td>\n",
       "      <td>무부하검사(급가속)</td>\n",
       "      <td>Y</td>\n",
       "      <td>4</td>\n",
       "      <td>15.00</td>\n",
       "      <td>11.00</td>\n",
       "      <td>17.00</td>\n",
       "      <td>100.00</td>\n",
       "    </tr>\n",
       "    <tr>\n",
       "      <th>7</th>\n",
       "      <td>자기인증면제차량</td>\n",
       "      <td>4MY-AD-20</td>\n",
       "      <td>00031124022261309</td>\n",
       "      <td>4F</td>\n",
       "      <td>BMK</td>\n",
       "      <td>종합검사</td>\n",
       "      <td>무부하검사(급가속)</td>\n",
       "      <td>Y</td>\n",
       "      <td>1</td>\n",
       "      <td>2.00</td>\n",
       "      <td>2.00</td>\n",
       "      <td>2.00</td>\n",
       "      <td>100.00</td>\n",
       "    </tr>\n",
       "  </tbody>\n",
       "</table>\n",
       "</div>"
      ],
      "text/plain": [
       "            제작사명   배출가스인증번호             제원관리번호 자동차형식 엔진형식        검사종류  \\\n",
       "0  아우디폭스바겐코리아(주)  4MY-AD-20  02420000100031305    4F  BMK  재검사(2부재검사)   \n",
       "1  아우디폭스바겐코리아(주)  4MY-AD-20  02420000100031305    4F  BMK    정기(경과)검사   \n",
       "2  아우디폭스바겐코리아(주)  4MY-AD-20  02420000100031305    4F  BMK        정기검사   \n",
       "3  아우디폭스바겐코리아(주)  4MY-AD-20  02420000100031305    4F  BMK        정기검사   \n",
       "4  아우디폭스바겐코리아(주)  4MY-AD-20  02420000100031305    4F  BMK        종합검사   \n",
       "5  아우디폭스바겐코리아(주)  4MY-AD-20  02420000100031305    4F  BMK        종합검사   \n",
       "6  아우디폭스바겐코리아(주)  4MY-AD-20  02420000100031305    4F  BMK    종합검사(경과)   \n",
       "7       자기인증면제차량  4MY-AD-20  00031124022261309    4F  BMK        종합검사   \n",
       "\n",
       "         검사방법 검사판정  대수  mean   min   max  합격률(%)  \n",
       "0  무부하검사(급가속)    Y   1 19.00 19.00 19.00  100.00  \n",
       "1  무부하검사(급가속)    Y   2  6.00  0.00 12.00  100.00  \n",
       "2  무부하검사(급가속)    N   1 21.00 21.00 21.00   33.33  \n",
       "3  무부하검사(급가속)    Y   2 23.00 20.00 26.00   66.67  \n",
       "4  무부하검사(급가속)    N   1 51.00 51.00 51.00    6.25  \n",
       "5  무부하검사(급가속)    Y  15 12.33  0.00 31.00   93.75  \n",
       "6  무부하검사(급가속)    Y   4 15.00 11.00 17.00  100.00  \n",
       "7  무부하검사(급가속)    Y   1  2.00  2.00  2.00  100.00  "
      ]
     },
     "execution_count": 70,
     "metadata": {},
     "output_type": "execute_result"
    }
   ],
   "source": [
    "g['합격률(%)'] = round(g['대수'] / g.groupby(groupby_col2)['대수'].transform('sum') * 100, 2)\n",
    "g"
   ]
  },
  {
   "cell_type": "code",
   "execution_count": 71,
   "metadata": {},
   "outputs": [],
   "source": [
    "test_df = pd.concat([test_df, g], ignore_index=True)"
   ]
  },
  {
   "cell_type": "code",
   "execution_count": 72,
   "metadata": {},
   "outputs": [
    {
     "data": {
      "text/html": [
       "<div>\n",
       "<style scoped>\n",
       "    .dataframe tbody tr th:only-of-type {\n",
       "        vertical-align: middle;\n",
       "    }\n",
       "\n",
       "    .dataframe tbody tr th {\n",
       "        vertical-align: top;\n",
       "    }\n",
       "\n",
       "    .dataframe thead th {\n",
       "        text-align: right;\n",
       "    }\n",
       "</style>\n",
       "<table border=\"1\" class=\"dataframe\">\n",
       "  <thead>\n",
       "    <tr style=\"text-align: right;\">\n",
       "      <th></th>\n",
       "      <th>제작사명</th>\n",
       "      <th>배출가스인증번호</th>\n",
       "      <th>제원관리번호</th>\n",
       "      <th>자동차형식</th>\n",
       "      <th>엔진형식</th>\n",
       "      <th>검사종류</th>\n",
       "      <th>검사방법</th>\n",
       "      <th>검사판정</th>\n",
       "      <th>대수</th>\n",
       "      <th>mean</th>\n",
       "      <th>min</th>\n",
       "      <th>max</th>\n",
       "      <th>합격률(%)</th>\n",
       "    </tr>\n",
       "  </thead>\n",
       "  <tbody>\n",
       "    <tr>\n",
       "      <th>0</th>\n",
       "      <td>아우디폭스바겐코리아(주)</td>\n",
       "      <td>4MY-AD-20</td>\n",
       "      <td>02420000100031305</td>\n",
       "      <td>4F</td>\n",
       "      <td>BMK</td>\n",
       "      <td>재검사(2부재검사)</td>\n",
       "      <td>무부하검사(급가속)</td>\n",
       "      <td>Y</td>\n",
       "      <td>1</td>\n",
       "      <td>19.00</td>\n",
       "      <td>19.00</td>\n",
       "      <td>19.00</td>\n",
       "      <td>100.00</td>\n",
       "    </tr>\n",
       "    <tr>\n",
       "      <th>1</th>\n",
       "      <td>아우디폭스바겐코리아(주)</td>\n",
       "      <td>4MY-AD-20</td>\n",
       "      <td>02420000100031305</td>\n",
       "      <td>4F</td>\n",
       "      <td>BMK</td>\n",
       "      <td>정기(경과)검사</td>\n",
       "      <td>무부하검사(급가속)</td>\n",
       "      <td>Y</td>\n",
       "      <td>2</td>\n",
       "      <td>6.00</td>\n",
       "      <td>0.00</td>\n",
       "      <td>12.00</td>\n",
       "      <td>100.00</td>\n",
       "    </tr>\n",
       "    <tr>\n",
       "      <th>2</th>\n",
       "      <td>아우디폭스바겐코리아(주)</td>\n",
       "      <td>4MY-AD-20</td>\n",
       "      <td>02420000100031305</td>\n",
       "      <td>4F</td>\n",
       "      <td>BMK</td>\n",
       "      <td>정기검사</td>\n",
       "      <td>무부하검사(급가속)</td>\n",
       "      <td>N</td>\n",
       "      <td>1</td>\n",
       "      <td>21.00</td>\n",
       "      <td>21.00</td>\n",
       "      <td>21.00</td>\n",
       "      <td>33.33</td>\n",
       "    </tr>\n",
       "    <tr>\n",
       "      <th>3</th>\n",
       "      <td>아우디폭스바겐코리아(주)</td>\n",
       "      <td>4MY-AD-20</td>\n",
       "      <td>02420000100031305</td>\n",
       "      <td>4F</td>\n",
       "      <td>BMK</td>\n",
       "      <td>정기검사</td>\n",
       "      <td>무부하검사(급가속)</td>\n",
       "      <td>Y</td>\n",
       "      <td>2</td>\n",
       "      <td>23.00</td>\n",
       "      <td>20.00</td>\n",
       "      <td>26.00</td>\n",
       "      <td>66.67</td>\n",
       "    </tr>\n",
       "    <tr>\n",
       "      <th>4</th>\n",
       "      <td>아우디폭스바겐코리아(주)</td>\n",
       "      <td>4MY-AD-20</td>\n",
       "      <td>02420000100031305</td>\n",
       "      <td>4F</td>\n",
       "      <td>BMK</td>\n",
       "      <td>종합검사</td>\n",
       "      <td>무부하검사(급가속)</td>\n",
       "      <td>N</td>\n",
       "      <td>1</td>\n",
       "      <td>51.00</td>\n",
       "      <td>51.00</td>\n",
       "      <td>51.00</td>\n",
       "      <td>6.25</td>\n",
       "    </tr>\n",
       "    <tr>\n",
       "      <th>5</th>\n",
       "      <td>아우디폭스바겐코리아(주)</td>\n",
       "      <td>4MY-AD-20</td>\n",
       "      <td>02420000100031305</td>\n",
       "      <td>4F</td>\n",
       "      <td>BMK</td>\n",
       "      <td>종합검사</td>\n",
       "      <td>무부하검사(급가속)</td>\n",
       "      <td>Y</td>\n",
       "      <td>15</td>\n",
       "      <td>12.33</td>\n",
       "      <td>0.00</td>\n",
       "      <td>31.00</td>\n",
       "      <td>93.75</td>\n",
       "    </tr>\n",
       "    <tr>\n",
       "      <th>6</th>\n",
       "      <td>아우디폭스바겐코리아(주)</td>\n",
       "      <td>4MY-AD-20</td>\n",
       "      <td>02420000100031305</td>\n",
       "      <td>4F</td>\n",
       "      <td>BMK</td>\n",
       "      <td>종합검사(경과)</td>\n",
       "      <td>무부하검사(급가속)</td>\n",
       "      <td>Y</td>\n",
       "      <td>4</td>\n",
       "      <td>15.00</td>\n",
       "      <td>11.00</td>\n",
       "      <td>17.00</td>\n",
       "      <td>100.00</td>\n",
       "    </tr>\n",
       "    <tr>\n",
       "      <th>7</th>\n",
       "      <td>자기인증면제차량</td>\n",
       "      <td>4MY-AD-20</td>\n",
       "      <td>00031124022261309</td>\n",
       "      <td>4F</td>\n",
       "      <td>BMK</td>\n",
       "      <td>종합검사</td>\n",
       "      <td>무부하검사(급가속)</td>\n",
       "      <td>Y</td>\n",
       "      <td>1</td>\n",
       "      <td>2.00</td>\n",
       "      <td>2.00</td>\n",
       "      <td>2.00</td>\n",
       "      <td>100.00</td>\n",
       "    </tr>\n",
       "  </tbody>\n",
       "</table>\n",
       "</div>"
      ],
      "text/plain": [
       "            제작사명   배출가스인증번호             제원관리번호 자동차형식 엔진형식        검사종류  \\\n",
       "0  아우디폭스바겐코리아(주)  4MY-AD-20  02420000100031305    4F  BMK  재검사(2부재검사)   \n",
       "1  아우디폭스바겐코리아(주)  4MY-AD-20  02420000100031305    4F  BMK    정기(경과)검사   \n",
       "2  아우디폭스바겐코리아(주)  4MY-AD-20  02420000100031305    4F  BMK        정기검사   \n",
       "3  아우디폭스바겐코리아(주)  4MY-AD-20  02420000100031305    4F  BMK        정기검사   \n",
       "4  아우디폭스바겐코리아(주)  4MY-AD-20  02420000100031305    4F  BMK        종합검사   \n",
       "5  아우디폭스바겐코리아(주)  4MY-AD-20  02420000100031305    4F  BMK        종합검사   \n",
       "6  아우디폭스바겐코리아(주)  4MY-AD-20  02420000100031305    4F  BMK    종합검사(경과)   \n",
       "7       자기인증면제차량  4MY-AD-20  00031124022261309    4F  BMK        종합검사   \n",
       "\n",
       "         검사방법 검사판정  대수  mean   min   max  합격률(%)  \n",
       "0  무부하검사(급가속)    Y   1 19.00 19.00 19.00  100.00  \n",
       "1  무부하검사(급가속)    Y   2  6.00  0.00 12.00  100.00  \n",
       "2  무부하검사(급가속)    N   1 21.00 21.00 21.00   33.33  \n",
       "3  무부하검사(급가속)    Y   2 23.00 20.00 26.00   66.67  \n",
       "4  무부하검사(급가속)    N   1 51.00 51.00 51.00    6.25  \n",
       "5  무부하검사(급가속)    Y  15 12.33  0.00 31.00   93.75  \n",
       "6  무부하검사(급가속)    Y   4 15.00 11.00 17.00  100.00  \n",
       "7  무부하검사(급가속)    Y   1  2.00  2.00  2.00  100.00  "
      ]
     },
     "execution_count": 72,
     "metadata": {},
     "output_type": "execute_result"
    }
   ],
   "source": [
    "test_df"
   ]
  },
  {
   "cell_type": "code",
   "execution_count": 160,
   "metadata": {},
   "outputs": [],
   "source": [
    "# # 방법1\n",
    "# concat_two = pd.DataFrame()\n",
    "# for two in g['제원관리번호'].unique():\n",
    "#     for three in g['엔진형식'].unique():\n",
    "#         for four in g['검사방법'].unique():\n",
    "#             temp = g[(g['제원관리번호'] == two) & (g['엔진형식'] == three) & (g['검사방법'] == four)].copy()\n",
    "#             temp['sum'] = temp['대수'].sum()\n",
    "#             temp['검사판정비율'] = temp['대수'] / temp['sum']\n",
    "#             concat_two = pd.concat([concat_two, temp], ignore_index=True)"
   ]
  },
  {
   "cell_type": "code",
   "execution_count": 161,
   "metadata": {},
   "outputs": [
    {
     "data": {
      "text/html": [
       "<div>\n",
       "<style scoped>\n",
       "    .dataframe tbody tr th:only-of-type {\n",
       "        vertical-align: middle;\n",
       "    }\n",
       "\n",
       "    .dataframe tbody tr th {\n",
       "        vertical-align: top;\n",
       "    }\n",
       "\n",
       "    .dataframe thead th {\n",
       "        text-align: right;\n",
       "    }\n",
       "</style>\n",
       "<table border=\"1\" class=\"dataframe\">\n",
       "  <thead>\n",
       "    <tr style=\"text-align: right;\">\n",
       "      <th></th>\n",
       "      <th>제작사명</th>\n",
       "      <th>배출가스인증번호</th>\n",
       "      <th>제원관리번호</th>\n",
       "      <th>자동차형식</th>\n",
       "      <th>엔진형식</th>\n",
       "      <th>검사방법</th>\n",
       "      <th>검사판정</th>\n",
       "      <th>대수</th>\n",
       "      <th>mean</th>\n",
       "      <th>min</th>\n",
       "      <th>max</th>\n",
       "      <th>sum</th>\n",
       "      <th>검사판정비율</th>\n",
       "    </tr>\n",
       "  </thead>\n",
       "  <tbody>\n",
       "    <tr>\n",
       "      <th>0</th>\n",
       "      <td>(주)볼보자동차코리아</td>\n",
       "      <td>8MY-PA-14-03</td>\n",
       "      <td>920003000001308</td>\n",
       "      <td>B71</td>\n",
       "      <td>D5244T</td>\n",
       "      <td>무부하검사(급가속)</td>\n",
       "      <td>N</td>\n",
       "      <td>1</td>\n",
       "      <td>0.00</td>\n",
       "      <td>0.00</td>\n",
       "      <td>0.00</td>\n",
       "      <td>50</td>\n",
       "      <td>0.02</td>\n",
       "    </tr>\n",
       "    <tr>\n",
       "      <th>1</th>\n",
       "      <td>(주)볼보자동차코리아</td>\n",
       "      <td>8MY-PA-14-03</td>\n",
       "      <td>920003000001308</td>\n",
       "      <td>B71</td>\n",
       "      <td>D5244T</td>\n",
       "      <td>무부하검사(급가속)</td>\n",
       "      <td>Y</td>\n",
       "      <td>49</td>\n",
       "      <td>1.73</td>\n",
       "      <td>0.00</td>\n",
       "      <td>21.00</td>\n",
       "      <td>50</td>\n",
       "      <td>0.98</td>\n",
       "    </tr>\n",
       "    <tr>\n",
       "      <th>2</th>\n",
       "      <td>(주)볼보자동차코리아</td>\n",
       "      <td>8MY-PA-14-03</td>\n",
       "      <td>920003000011308</td>\n",
       "      <td>B71</td>\n",
       "      <td>D5244T</td>\n",
       "      <td>무부하검사(급가속)</td>\n",
       "      <td>N</td>\n",
       "      <td>1</td>\n",
       "      <td>0.00</td>\n",
       "      <td>0.00</td>\n",
       "      <td>0.00</td>\n",
       "      <td>137</td>\n",
       "      <td>0.01</td>\n",
       "    </tr>\n",
       "    <tr>\n",
       "      <th>3</th>\n",
       "      <td>(주)볼보자동차코리아</td>\n",
       "      <td>8MY-PA-14-03</td>\n",
       "      <td>920003000011308</td>\n",
       "      <td>B71</td>\n",
       "      <td>D5244T</td>\n",
       "      <td>무부하검사(급가속)</td>\n",
       "      <td>Y</td>\n",
       "      <td>136</td>\n",
       "      <td>0.66</td>\n",
       "      <td>0.00</td>\n",
       "      <td>25.00</td>\n",
       "      <td>137</td>\n",
       "      <td>0.99</td>\n",
       "    </tr>\n",
       "    <tr>\n",
       "      <th>4</th>\n",
       "      <td>(주)볼보자동차코리아</td>\n",
       "      <td>8MY-PA-14-03</td>\n",
       "      <td>920003000021309</td>\n",
       "      <td>B70</td>\n",
       "      <td>D5244T</td>\n",
       "      <td>무부하검사(급가속)</td>\n",
       "      <td>Y</td>\n",
       "      <td>86</td>\n",
       "      <td>0.34</td>\n",
       "      <td>0.00</td>\n",
       "      <td>6.00</td>\n",
       "      <td>86</td>\n",
       "      <td>1.00</td>\n",
       "    </tr>\n",
       "    <tr>\n",
       "      <th>5</th>\n",
       "      <td>(주)볼보자동차코리아</td>\n",
       "      <td>8MY-PA-14-03</td>\n",
       "      <td>920003000031310</td>\n",
       "      <td>B70</td>\n",
       "      <td>D5244T</td>\n",
       "      <td>무부하검사(급가속)</td>\n",
       "      <td>N</td>\n",
       "      <td>1</td>\n",
       "      <td>0.00</td>\n",
       "      <td>0.00</td>\n",
       "      <td>0.00</td>\n",
       "      <td>185</td>\n",
       "      <td>0.01</td>\n",
       "    </tr>\n",
       "    <tr>\n",
       "      <th>6</th>\n",
       "      <td>(주)볼보자동차코리아</td>\n",
       "      <td>8MY-PA-14-03</td>\n",
       "      <td>920003000031310</td>\n",
       "      <td>B70</td>\n",
       "      <td>D5244T</td>\n",
       "      <td>무부하검사(급가속)</td>\n",
       "      <td>Y</td>\n",
       "      <td>184</td>\n",
       "      <td>0.21</td>\n",
       "      <td>0.00</td>\n",
       "      <td>15.00</td>\n",
       "      <td>185</td>\n",
       "      <td>0.99</td>\n",
       "    </tr>\n",
       "  </tbody>\n",
       "</table>\n",
       "</div>"
      ],
      "text/plain": [
       "          제작사명      배출가스인증번호            제원관리번호 자동차형식    엔진형식        검사방법 검사판정  \\\n",
       "0  (주)볼보자동차코리아  8MY-PA-14-03  920003000001308    B71  D5244T  무부하검사(급가속)    N   \n",
       "1  (주)볼보자동차코리아  8MY-PA-14-03  920003000001308    B71  D5244T  무부하검사(급가속)    Y   \n",
       "2  (주)볼보자동차코리아  8MY-PA-14-03  920003000011308    B71  D5244T  무부하검사(급가속)    N   \n",
       "3  (주)볼보자동차코리아  8MY-PA-14-03  920003000011308    B71  D5244T  무부하검사(급가속)    Y   \n",
       "4  (주)볼보자동차코리아  8MY-PA-14-03  920003000021309    B70  D5244T  무부하검사(급가속)    Y   \n",
       "5  (주)볼보자동차코리아  8MY-PA-14-03  920003000031310    B70  D5244T  무부하검사(급가속)    N   \n",
       "6  (주)볼보자동차코리아  8MY-PA-14-03  920003000031310    B70  D5244T  무부하검사(급가속)    Y   \n",
       "\n",
       "    대수  mean  min   max  sum  검사판정비율  \n",
       "0    1  0.00 0.00  0.00   50    0.02  \n",
       "1   49  1.73 0.00 21.00   50    0.98  \n",
       "2    1  0.00 0.00  0.00  137    0.01  \n",
       "3  136  0.66 0.00 25.00  137    0.99  \n",
       "4   86  0.34 0.00  6.00   86    1.00  \n",
       "5    1  0.00 0.00  0.00  185    0.01  \n",
       "6  184  0.21 0.00 15.00  185    0.99  "
      ]
     },
     "execution_count": 161,
     "metadata": {},
     "output_type": "execute_result"
    }
   ],
   "source": [
    "# concat_two"
   ]
  },
  {
   "cell_type": "code",
   "execution_count": 162,
   "metadata": {},
   "outputs": [],
   "source": [
    "# test_df = pd.concat([test_df, concat_two], ignore_index=True)"
   ]
  },
  {
   "cell_type": "code",
   "execution_count": 163,
   "metadata": {},
   "outputs": [
    {
     "data": {
      "text/html": [
       "<div>\n",
       "<style scoped>\n",
       "    .dataframe tbody tr th:only-of-type {\n",
       "        vertical-align: middle;\n",
       "    }\n",
       "\n",
       "    .dataframe tbody tr th {\n",
       "        vertical-align: top;\n",
       "    }\n",
       "\n",
       "    .dataframe thead th {\n",
       "        text-align: right;\n",
       "    }\n",
       "</style>\n",
       "<table border=\"1\" class=\"dataframe\">\n",
       "  <thead>\n",
       "    <tr style=\"text-align: right;\">\n",
       "      <th></th>\n",
       "      <th>제작사명</th>\n",
       "      <th>배출가스인증번호</th>\n",
       "      <th>제원관리번호</th>\n",
       "      <th>자동차형식</th>\n",
       "      <th>엔진형식</th>\n",
       "      <th>검사방법</th>\n",
       "      <th>검사판정</th>\n",
       "      <th>대수</th>\n",
       "      <th>mean</th>\n",
       "      <th>min</th>\n",
       "      <th>max</th>\n",
       "      <th>sum</th>\n",
       "      <th>검사판정비율</th>\n",
       "    </tr>\n",
       "  </thead>\n",
       "  <tbody>\n",
       "    <tr>\n",
       "      <th>0</th>\n",
       "      <td>현대자동차(주)</td>\n",
       "      <td>5MY-HD-24-35</td>\n",
       "      <td>A0810006700341105</td>\n",
       "      <td>MC-D15-A1A</td>\n",
       "      <td>D4FA</td>\n",
       "      <td>무부하검사(급가속)</td>\n",
       "      <td>N</td>\n",
       "      <td>16</td>\n",
       "      <td>32.88</td>\n",
       "      <td>6.00</td>\n",
       "      <td>66.00</td>\n",
       "      <td>109</td>\n",
       "      <td>0.15</td>\n",
       "    </tr>\n",
       "    <tr>\n",
       "      <th>1</th>\n",
       "      <td>현대자동차(주)</td>\n",
       "      <td>5MY-HD-24-35</td>\n",
       "      <td>A0810006700341105</td>\n",
       "      <td>MC-D15-A1A</td>\n",
       "      <td>D4FA</td>\n",
       "      <td>무부하검사(급가속)</td>\n",
       "      <td>Y</td>\n",
       "      <td>93</td>\n",
       "      <td>12.45</td>\n",
       "      <td>0.00</td>\n",
       "      <td>39.00</td>\n",
       "      <td>109</td>\n",
       "      <td>0.85</td>\n",
       "    </tr>\n",
       "    <tr>\n",
       "      <th>2</th>\n",
       "      <td>현대자동차(주)</td>\n",
       "      <td>5MY-HD-24-35</td>\n",
       "      <td>A0810006700341105</td>\n",
       "      <td>MC-D15-A1A</td>\n",
       "      <td>D4FA</td>\n",
       "      <td>부하검사(KD-147)</td>\n",
       "      <td>N</td>\n",
       "      <td>41</td>\n",
       "      <td>48.08</td>\n",
       "      <td>26.00</td>\n",
       "      <td>89.00</td>\n",
       "      <td>376</td>\n",
       "      <td>0.11</td>\n",
       "    </tr>\n",
       "    <tr>\n",
       "      <th>3</th>\n",
       "      <td>현대자동차(주)</td>\n",
       "      <td>5MY-HD-24-35</td>\n",
       "      <td>A0810006700341105</td>\n",
       "      <td>MC-D15-A1A</td>\n",
       "      <td>D4FA</td>\n",
       "      <td>부하검사(KD-147)</td>\n",
       "      <td>Y</td>\n",
       "      <td>335</td>\n",
       "      <td>11.80</td>\n",
       "      <td>0.00</td>\n",
       "      <td>25.00</td>\n",
       "      <td>376</td>\n",
       "      <td>0.89</td>\n",
       "    </tr>\n",
       "    <tr>\n",
       "      <th>4</th>\n",
       "      <td>현대자동차(주)</td>\n",
       "      <td>5MY-HD-24-35</td>\n",
       "      <td>A0810006700351105</td>\n",
       "      <td>MC-D15-M1A</td>\n",
       "      <td>D4FA</td>\n",
       "      <td>무부하검사(급가속)</td>\n",
       "      <td>N</td>\n",
       "      <td>3</td>\n",
       "      <td>15.33</td>\n",
       "      <td>0.00</td>\n",
       "      <td>36.00</td>\n",
       "      <td>8</td>\n",
       "      <td>0.38</td>\n",
       "    </tr>\n",
       "    <tr>\n",
       "      <th>5</th>\n",
       "      <td>현대자동차(주)</td>\n",
       "      <td>5MY-HD-24-35</td>\n",
       "      <td>A0810006700351105</td>\n",
       "      <td>MC-D15-M1A</td>\n",
       "      <td>D4FA</td>\n",
       "      <td>무부하검사(급가속)</td>\n",
       "      <td>Y</td>\n",
       "      <td>5</td>\n",
       "      <td>8.80</td>\n",
       "      <td>0.00</td>\n",
       "      <td>21.00</td>\n",
       "      <td>8</td>\n",
       "      <td>0.62</td>\n",
       "    </tr>\n",
       "    <tr>\n",
       "      <th>6</th>\n",
       "      <td>현대자동차(주)</td>\n",
       "      <td>5MY-HD-24-35</td>\n",
       "      <td>A0810006700351105</td>\n",
       "      <td>MC-D15-M1A</td>\n",
       "      <td>D4FA</td>\n",
       "      <td>부하검사(KD-147)</td>\n",
       "      <td>Y</td>\n",
       "      <td>24</td>\n",
       "      <td>12.33</td>\n",
       "      <td>0.00</td>\n",
       "      <td>24.00</td>\n",
       "      <td>24</td>\n",
       "      <td>1.00</td>\n",
       "    </tr>\n",
       "    <tr>\n",
       "      <th>7</th>\n",
       "      <td>현대자동차(주)</td>\n",
       "      <td>5MY-HD-24-35</td>\n",
       "      <td>A0810006700381105</td>\n",
       "      <td>MC-D15-A1SA</td>\n",
       "      <td>D4FA</td>\n",
       "      <td>부하검사(KD-147)</td>\n",
       "      <td>Y</td>\n",
       "      <td>1</td>\n",
       "      <td>9.00</td>\n",
       "      <td>9.00</td>\n",
       "      <td>9.00</td>\n",
       "      <td>1</td>\n",
       "      <td>1.00</td>\n",
       "    </tr>\n",
       "    <tr>\n",
       "      <th>8</th>\n",
       "      <td>현대자동차(주)</td>\n",
       "      <td>5MY-HD-24-35</td>\n",
       "      <td>A0810006700421105</td>\n",
       "      <td>MC-D15GS-A1A</td>\n",
       "      <td>D4FA</td>\n",
       "      <td>무부하검사(급가속)</td>\n",
       "      <td>N</td>\n",
       "      <td>9</td>\n",
       "      <td>37.22</td>\n",
       "      <td>8.00</td>\n",
       "      <td>96.00</td>\n",
       "      <td>70</td>\n",
       "      <td>0.13</td>\n",
       "    </tr>\n",
       "    <tr>\n",
       "      <th>9</th>\n",
       "      <td>현대자동차(주)</td>\n",
       "      <td>5MY-HD-24-35</td>\n",
       "      <td>A0810006700421105</td>\n",
       "      <td>MC-D15GS-A1A</td>\n",
       "      <td>D4FA</td>\n",
       "      <td>무부하검사(급가속)</td>\n",
       "      <td>Y</td>\n",
       "      <td>61</td>\n",
       "      <td>12.79</td>\n",
       "      <td>0.00</td>\n",
       "      <td>41.00</td>\n",
       "      <td>70</td>\n",
       "      <td>0.87</td>\n",
       "    </tr>\n",
       "    <tr>\n",
       "      <th>10</th>\n",
       "      <td>현대자동차(주)</td>\n",
       "      <td>5MY-HD-24-35</td>\n",
       "      <td>A0810006700421105</td>\n",
       "      <td>MC-D15GS-A1A</td>\n",
       "      <td>D4FA</td>\n",
       "      <td>부하검사(KD-147)</td>\n",
       "      <td>N</td>\n",
       "      <td>32</td>\n",
       "      <td>45.66</td>\n",
       "      <td>26.00</td>\n",
       "      <td>90.00</td>\n",
       "      <td>271</td>\n",
       "      <td>0.12</td>\n",
       "    </tr>\n",
       "    <tr>\n",
       "      <th>11</th>\n",
       "      <td>현대자동차(주)</td>\n",
       "      <td>5MY-HD-24-35</td>\n",
       "      <td>A0810006700421105</td>\n",
       "      <td>MC-D15GS-A1A</td>\n",
       "      <td>D4FA</td>\n",
       "      <td>부하검사(KD-147)</td>\n",
       "      <td>Y</td>\n",
       "      <td>239</td>\n",
       "      <td>11.82</td>\n",
       "      <td>0.00</td>\n",
       "      <td>25.00</td>\n",
       "      <td>271</td>\n",
       "      <td>0.88</td>\n",
       "    </tr>\n",
       "    <tr>\n",
       "      <th>12</th>\n",
       "      <td>현대자동차(주)</td>\n",
       "      <td>5MY-HD-24-35</td>\n",
       "      <td>A0810006700431105</td>\n",
       "      <td>MC-D15GS-M1A</td>\n",
       "      <td>D4FA</td>\n",
       "      <td>무부하검사(급가속)</td>\n",
       "      <td>Y</td>\n",
       "      <td>1</td>\n",
       "      <td>29.00</td>\n",
       "      <td>29.00</td>\n",
       "      <td>29.00</td>\n",
       "      <td>1</td>\n",
       "      <td>1.00</td>\n",
       "    </tr>\n",
       "    <tr>\n",
       "      <th>13</th>\n",
       "      <td>현대자동차(주)</td>\n",
       "      <td>5MY-HD-24-35</td>\n",
       "      <td>A0810006700431105</td>\n",
       "      <td>MC-D15GS-M1A</td>\n",
       "      <td>D4FA</td>\n",
       "      <td>부하검사(KD-147)</td>\n",
       "      <td>N</td>\n",
       "      <td>4</td>\n",
       "      <td>53.67</td>\n",
       "      <td>41.00</td>\n",
       "      <td>74.00</td>\n",
       "      <td>26</td>\n",
       "      <td>0.15</td>\n",
       "    </tr>\n",
       "    <tr>\n",
       "      <th>14</th>\n",
       "      <td>현대자동차(주)</td>\n",
       "      <td>5MY-HD-24-35</td>\n",
       "      <td>A0810006700431105</td>\n",
       "      <td>MC-D15GS-M1A</td>\n",
       "      <td>D4FA</td>\n",
       "      <td>부하검사(KD-147)</td>\n",
       "      <td>Y</td>\n",
       "      <td>22</td>\n",
       "      <td>15.73</td>\n",
       "      <td>2.00</td>\n",
       "      <td>25.00</td>\n",
       "      <td>26</td>\n",
       "      <td>0.85</td>\n",
       "    </tr>\n",
       "    <tr>\n",
       "      <th>15</th>\n",
       "      <td>현대자동차(주)</td>\n",
       "      <td>5MY-HD-24-35</td>\n",
       "      <td>A0810006700461105</td>\n",
       "      <td>MC-D15GS-A1SA</td>\n",
       "      <td>D4FA</td>\n",
       "      <td>부하검사(KD-147)</td>\n",
       "      <td>Y</td>\n",
       "      <td>9</td>\n",
       "      <td>10.78</td>\n",
       "      <td>0.00</td>\n",
       "      <td>25.00</td>\n",
       "      <td>9</td>\n",
       "      <td>1.00</td>\n",
       "    </tr>\n",
       "    <tr>\n",
       "      <th>16</th>\n",
       "      <td>현대자동차(주)</td>\n",
       "      <td>5MY-HD-24-35</td>\n",
       "      <td>A0810006700471105</td>\n",
       "      <td>MC-D15GS-M1SA</td>\n",
       "      <td>D4FA</td>\n",
       "      <td>부하검사(KD-147)</td>\n",
       "      <td>Y</td>\n",
       "      <td>1</td>\n",
       "      <td>24.00</td>\n",
       "      <td>24.00</td>\n",
       "      <td>24.00</td>\n",
       "      <td>1</td>\n",
       "      <td>1.00</td>\n",
       "    </tr>\n",
       "    <tr>\n",
       "      <th>17</th>\n",
       "      <td>현대자동차(주)</td>\n",
       "      <td>5MY-HD-24-35</td>\n",
       "      <td>A0810006701721106</td>\n",
       "      <td>MC-D15-M3A</td>\n",
       "      <td>D4FA</td>\n",
       "      <td>무부하검사(급가속)</td>\n",
       "      <td>Y</td>\n",
       "      <td>4</td>\n",
       "      <td>14.75</td>\n",
       "      <td>6.00</td>\n",
       "      <td>35.00</td>\n",
       "      <td>4</td>\n",
       "      <td>1.00</td>\n",
       "    </tr>\n",
       "    <tr>\n",
       "      <th>18</th>\n",
       "      <td>현대자동차(주)</td>\n",
       "      <td>5MY-HD-24-35</td>\n",
       "      <td>A0810006701721106</td>\n",
       "      <td>MC-D15-M3A</td>\n",
       "      <td>D4FA</td>\n",
       "      <td>부하검사(KD-147)</td>\n",
       "      <td>Y</td>\n",
       "      <td>4</td>\n",
       "      <td>12.25</td>\n",
       "      <td>3.00</td>\n",
       "      <td>23.00</td>\n",
       "      <td>4</td>\n",
       "      <td>1.00</td>\n",
       "    </tr>\n",
       "    <tr>\n",
       "      <th>19</th>\n",
       "      <td>현대자동차(주)</td>\n",
       "      <td>5MY-HD-24-35</td>\n",
       "      <td>A0810006701731106</td>\n",
       "      <td>MC-D15-A3A</td>\n",
       "      <td>D4FA</td>\n",
       "      <td>무부하검사(급가속)</td>\n",
       "      <td>N</td>\n",
       "      <td>1</td>\n",
       "      <td>51.00</td>\n",
       "      <td>51.00</td>\n",
       "      <td>51.00</td>\n",
       "      <td>21</td>\n",
       "      <td>0.05</td>\n",
       "    </tr>\n",
       "    <tr>\n",
       "      <th>20</th>\n",
       "      <td>현대자동차(주)</td>\n",
       "      <td>5MY-HD-24-35</td>\n",
       "      <td>A0810006701731106</td>\n",
       "      <td>MC-D15-A3A</td>\n",
       "      <td>D4FA</td>\n",
       "      <td>무부하검사(급가속)</td>\n",
       "      <td>Y</td>\n",
       "      <td>20</td>\n",
       "      <td>16.30</td>\n",
       "      <td>0.00</td>\n",
       "      <td>44.00</td>\n",
       "      <td>21</td>\n",
       "      <td>0.95</td>\n",
       "    </tr>\n",
       "    <tr>\n",
       "      <th>21</th>\n",
       "      <td>현대자동차(주)</td>\n",
       "      <td>5MY-HD-24-35</td>\n",
       "      <td>A0810006701731106</td>\n",
       "      <td>MC-D15-A3A</td>\n",
       "      <td>D4FA</td>\n",
       "      <td>부하검사(KD-147)</td>\n",
       "      <td>N</td>\n",
       "      <td>9</td>\n",
       "      <td>45.38</td>\n",
       "      <td>28.00</td>\n",
       "      <td>64.00</td>\n",
       "      <td>81</td>\n",
       "      <td>0.11</td>\n",
       "    </tr>\n",
       "    <tr>\n",
       "      <th>22</th>\n",
       "      <td>현대자동차(주)</td>\n",
       "      <td>5MY-HD-24-35</td>\n",
       "      <td>A0810006701731106</td>\n",
       "      <td>MC-D15-A3A</td>\n",
       "      <td>D4FA</td>\n",
       "      <td>부하검사(KD-147)</td>\n",
       "      <td>Y</td>\n",
       "      <td>72</td>\n",
       "      <td>12.51</td>\n",
       "      <td>0.00</td>\n",
       "      <td>25.00</td>\n",
       "      <td>81</td>\n",
       "      <td>0.89</td>\n",
       "    </tr>\n",
       "    <tr>\n",
       "      <th>23</th>\n",
       "      <td>현대자동차(주)</td>\n",
       "      <td>5MY-HD-24-35</td>\n",
       "      <td>A0810006701801106</td>\n",
       "      <td>MC-D15GS-M3A</td>\n",
       "      <td>D4FA</td>\n",
       "      <td>무부하검사(급가속)</td>\n",
       "      <td>N</td>\n",
       "      <td>1</td>\n",
       "      <td>1.00</td>\n",
       "      <td>1.00</td>\n",
       "      <td>1.00</td>\n",
       "      <td>4</td>\n",
       "      <td>0.25</td>\n",
       "    </tr>\n",
       "    <tr>\n",
       "      <th>24</th>\n",
       "      <td>현대자동차(주)</td>\n",
       "      <td>5MY-HD-24-35</td>\n",
       "      <td>A0810006701801106</td>\n",
       "      <td>MC-D15GS-M3A</td>\n",
       "      <td>D4FA</td>\n",
       "      <td>무부하검사(급가속)</td>\n",
       "      <td>Y</td>\n",
       "      <td>3</td>\n",
       "      <td>19.00</td>\n",
       "      <td>8.00</td>\n",
       "      <td>39.00</td>\n",
       "      <td>4</td>\n",
       "      <td>0.75</td>\n",
       "    </tr>\n",
       "    <tr>\n",
       "      <th>25</th>\n",
       "      <td>현대자동차(주)</td>\n",
       "      <td>5MY-HD-24-35</td>\n",
       "      <td>A0810006701801106</td>\n",
       "      <td>MC-D15GS-M3A</td>\n",
       "      <td>D4FA</td>\n",
       "      <td>부하검사(KD-147)</td>\n",
       "      <td>Y</td>\n",
       "      <td>1</td>\n",
       "      <td>15.00</td>\n",
       "      <td>15.00</td>\n",
       "      <td>15.00</td>\n",
       "      <td>1</td>\n",
       "      <td>1.00</td>\n",
       "    </tr>\n",
       "    <tr>\n",
       "      <th>26</th>\n",
       "      <td>현대자동차(주)</td>\n",
       "      <td>5MY-HD-24-35</td>\n",
       "      <td>A0810006701811106</td>\n",
       "      <td>MC-D15GS-A3A</td>\n",
       "      <td>D4FA</td>\n",
       "      <td>무부하검사(급가속)</td>\n",
       "      <td>Y</td>\n",
       "      <td>3</td>\n",
       "      <td>15.67</td>\n",
       "      <td>8.00</td>\n",
       "      <td>24.00</td>\n",
       "      <td>3</td>\n",
       "      <td>1.00</td>\n",
       "    </tr>\n",
       "    <tr>\n",
       "      <th>27</th>\n",
       "      <td>현대자동차(주)</td>\n",
       "      <td>5MY-HD-24-35</td>\n",
       "      <td>A0810006701811106</td>\n",
       "      <td>MC-D15GS-A3A</td>\n",
       "      <td>D4FA</td>\n",
       "      <td>부하검사(KD-147)</td>\n",
       "      <td>N</td>\n",
       "      <td>3</td>\n",
       "      <td>45.67</td>\n",
       "      <td>37.00</td>\n",
       "      <td>53.00</td>\n",
       "      <td>27</td>\n",
       "      <td>0.11</td>\n",
       "    </tr>\n",
       "    <tr>\n",
       "      <th>28</th>\n",
       "      <td>현대자동차(주)</td>\n",
       "      <td>5MY-HD-24-35</td>\n",
       "      <td>A0810006701811106</td>\n",
       "      <td>MC-D15GS-A3A</td>\n",
       "      <td>D4FA</td>\n",
       "      <td>부하검사(KD-147)</td>\n",
       "      <td>Y</td>\n",
       "      <td>24</td>\n",
       "      <td>9.29</td>\n",
       "      <td>0.00</td>\n",
       "      <td>25.00</td>\n",
       "      <td>27</td>\n",
       "      <td>0.89</td>\n",
       "    </tr>\n",
       "    <tr>\n",
       "      <th>29</th>\n",
       "      <td>(주)볼보자동차코리아</td>\n",
       "      <td>8MY-PA-14-03</td>\n",
       "      <td>920003000001308</td>\n",
       "      <td>B71</td>\n",
       "      <td>D5244T</td>\n",
       "      <td>무부하검사(급가속)</td>\n",
       "      <td>N</td>\n",
       "      <td>1</td>\n",
       "      <td>0.00</td>\n",
       "      <td>0.00</td>\n",
       "      <td>0.00</td>\n",
       "      <td>50</td>\n",
       "      <td>0.02</td>\n",
       "    </tr>\n",
       "    <tr>\n",
       "      <th>30</th>\n",
       "      <td>(주)볼보자동차코리아</td>\n",
       "      <td>8MY-PA-14-03</td>\n",
       "      <td>920003000001308</td>\n",
       "      <td>B71</td>\n",
       "      <td>D5244T</td>\n",
       "      <td>무부하검사(급가속)</td>\n",
       "      <td>Y</td>\n",
       "      <td>49</td>\n",
       "      <td>1.73</td>\n",
       "      <td>0.00</td>\n",
       "      <td>21.00</td>\n",
       "      <td>50</td>\n",
       "      <td>0.98</td>\n",
       "    </tr>\n",
       "    <tr>\n",
       "      <th>31</th>\n",
       "      <td>(주)볼보자동차코리아</td>\n",
       "      <td>8MY-PA-14-03</td>\n",
       "      <td>920003000011308</td>\n",
       "      <td>B71</td>\n",
       "      <td>D5244T</td>\n",
       "      <td>무부하검사(급가속)</td>\n",
       "      <td>N</td>\n",
       "      <td>1</td>\n",
       "      <td>0.00</td>\n",
       "      <td>0.00</td>\n",
       "      <td>0.00</td>\n",
       "      <td>137</td>\n",
       "      <td>0.01</td>\n",
       "    </tr>\n",
       "    <tr>\n",
       "      <th>32</th>\n",
       "      <td>(주)볼보자동차코리아</td>\n",
       "      <td>8MY-PA-14-03</td>\n",
       "      <td>920003000011308</td>\n",
       "      <td>B71</td>\n",
       "      <td>D5244T</td>\n",
       "      <td>무부하검사(급가속)</td>\n",
       "      <td>Y</td>\n",
       "      <td>136</td>\n",
       "      <td>0.66</td>\n",
       "      <td>0.00</td>\n",
       "      <td>25.00</td>\n",
       "      <td>137</td>\n",
       "      <td>0.99</td>\n",
       "    </tr>\n",
       "    <tr>\n",
       "      <th>33</th>\n",
       "      <td>(주)볼보자동차코리아</td>\n",
       "      <td>8MY-PA-14-03</td>\n",
       "      <td>920003000021309</td>\n",
       "      <td>B70</td>\n",
       "      <td>D5244T</td>\n",
       "      <td>무부하검사(급가속)</td>\n",
       "      <td>Y</td>\n",
       "      <td>86</td>\n",
       "      <td>0.34</td>\n",
       "      <td>0.00</td>\n",
       "      <td>6.00</td>\n",
       "      <td>86</td>\n",
       "      <td>1.00</td>\n",
       "    </tr>\n",
       "    <tr>\n",
       "      <th>34</th>\n",
       "      <td>(주)볼보자동차코리아</td>\n",
       "      <td>8MY-PA-14-03</td>\n",
       "      <td>920003000031310</td>\n",
       "      <td>B70</td>\n",
       "      <td>D5244T</td>\n",
       "      <td>무부하검사(급가속)</td>\n",
       "      <td>N</td>\n",
       "      <td>1</td>\n",
       "      <td>0.00</td>\n",
       "      <td>0.00</td>\n",
       "      <td>0.00</td>\n",
       "      <td>185</td>\n",
       "      <td>0.01</td>\n",
       "    </tr>\n",
       "    <tr>\n",
       "      <th>35</th>\n",
       "      <td>(주)볼보자동차코리아</td>\n",
       "      <td>8MY-PA-14-03</td>\n",
       "      <td>920003000031310</td>\n",
       "      <td>B70</td>\n",
       "      <td>D5244T</td>\n",
       "      <td>무부하검사(급가속)</td>\n",
       "      <td>Y</td>\n",
       "      <td>184</td>\n",
       "      <td>0.21</td>\n",
       "      <td>0.00</td>\n",
       "      <td>15.00</td>\n",
       "      <td>185</td>\n",
       "      <td>0.99</td>\n",
       "    </tr>\n",
       "  </tbody>\n",
       "</table>\n",
       "</div>"
      ],
      "text/plain": [
       "           제작사명      배출가스인증번호             제원관리번호          자동차형식    엔진형식  \\\n",
       "0      현대자동차(주)  5MY-HD-24-35  A0810006700341105     MC-D15-A1A    D4FA   \n",
       "1      현대자동차(주)  5MY-HD-24-35  A0810006700341105     MC-D15-A1A    D4FA   \n",
       "2      현대자동차(주)  5MY-HD-24-35  A0810006700341105     MC-D15-A1A    D4FA   \n",
       "3      현대자동차(주)  5MY-HD-24-35  A0810006700341105     MC-D15-A1A    D4FA   \n",
       "4      현대자동차(주)  5MY-HD-24-35  A0810006700351105     MC-D15-M1A    D4FA   \n",
       "5      현대자동차(주)  5MY-HD-24-35  A0810006700351105     MC-D15-M1A    D4FA   \n",
       "6      현대자동차(주)  5MY-HD-24-35  A0810006700351105     MC-D15-M1A    D4FA   \n",
       "7      현대자동차(주)  5MY-HD-24-35  A0810006700381105    MC-D15-A1SA    D4FA   \n",
       "8      현대자동차(주)  5MY-HD-24-35  A0810006700421105   MC-D15GS-A1A    D4FA   \n",
       "9      현대자동차(주)  5MY-HD-24-35  A0810006700421105   MC-D15GS-A1A    D4FA   \n",
       "10     현대자동차(주)  5MY-HD-24-35  A0810006700421105   MC-D15GS-A1A    D4FA   \n",
       "11     현대자동차(주)  5MY-HD-24-35  A0810006700421105   MC-D15GS-A1A    D4FA   \n",
       "12     현대자동차(주)  5MY-HD-24-35  A0810006700431105   MC-D15GS-M1A    D4FA   \n",
       "13     현대자동차(주)  5MY-HD-24-35  A0810006700431105   MC-D15GS-M1A    D4FA   \n",
       "14     현대자동차(주)  5MY-HD-24-35  A0810006700431105   MC-D15GS-M1A    D4FA   \n",
       "15     현대자동차(주)  5MY-HD-24-35  A0810006700461105  MC-D15GS-A1SA    D4FA   \n",
       "16     현대자동차(주)  5MY-HD-24-35  A0810006700471105  MC-D15GS-M1SA    D4FA   \n",
       "17     현대자동차(주)  5MY-HD-24-35  A0810006701721106     MC-D15-M3A    D4FA   \n",
       "18     현대자동차(주)  5MY-HD-24-35  A0810006701721106     MC-D15-M3A    D4FA   \n",
       "19     현대자동차(주)  5MY-HD-24-35  A0810006701731106     MC-D15-A3A    D4FA   \n",
       "20     현대자동차(주)  5MY-HD-24-35  A0810006701731106     MC-D15-A3A    D4FA   \n",
       "21     현대자동차(주)  5MY-HD-24-35  A0810006701731106     MC-D15-A3A    D4FA   \n",
       "22     현대자동차(주)  5MY-HD-24-35  A0810006701731106     MC-D15-A3A    D4FA   \n",
       "23     현대자동차(주)  5MY-HD-24-35  A0810006701801106   MC-D15GS-M3A    D4FA   \n",
       "24     현대자동차(주)  5MY-HD-24-35  A0810006701801106   MC-D15GS-M3A    D4FA   \n",
       "25     현대자동차(주)  5MY-HD-24-35  A0810006701801106   MC-D15GS-M3A    D4FA   \n",
       "26     현대자동차(주)  5MY-HD-24-35  A0810006701811106   MC-D15GS-A3A    D4FA   \n",
       "27     현대자동차(주)  5MY-HD-24-35  A0810006701811106   MC-D15GS-A3A    D4FA   \n",
       "28     현대자동차(주)  5MY-HD-24-35  A0810006701811106   MC-D15GS-A3A    D4FA   \n",
       "29  (주)볼보자동차코리아  8MY-PA-14-03   920003000001308             B71  D5244T   \n",
       "30  (주)볼보자동차코리아  8MY-PA-14-03   920003000001308             B71  D5244T   \n",
       "31  (주)볼보자동차코리아  8MY-PA-14-03   920003000011308             B71  D5244T   \n",
       "32  (주)볼보자동차코리아  8MY-PA-14-03   920003000011308             B71  D5244T   \n",
       "33  (주)볼보자동차코리아  8MY-PA-14-03   920003000021309             B70  D5244T   \n",
       "34  (주)볼보자동차코리아  8MY-PA-14-03   920003000031310             B70  D5244T   \n",
       "35  (주)볼보자동차코리아  8MY-PA-14-03   920003000031310             B70  D5244T   \n",
       "\n",
       "            검사방법 검사판정   대수  mean   min   max  sum  검사판정비율  \n",
       "0     무부하검사(급가속)    N   16 32.88  6.00 66.00  109    0.15  \n",
       "1     무부하검사(급가속)    Y   93 12.45  0.00 39.00  109    0.85  \n",
       "2   부하검사(KD-147)    N   41 48.08 26.00 89.00  376    0.11  \n",
       "3   부하검사(KD-147)    Y  335 11.80  0.00 25.00  376    0.89  \n",
       "4     무부하검사(급가속)    N    3 15.33  0.00 36.00    8    0.38  \n",
       "5     무부하검사(급가속)    Y    5  8.80  0.00 21.00    8    0.62  \n",
       "6   부하검사(KD-147)    Y   24 12.33  0.00 24.00   24    1.00  \n",
       "7   부하검사(KD-147)    Y    1  9.00  9.00  9.00    1    1.00  \n",
       "8     무부하검사(급가속)    N    9 37.22  8.00 96.00   70    0.13  \n",
       "9     무부하검사(급가속)    Y   61 12.79  0.00 41.00   70    0.87  \n",
       "10  부하검사(KD-147)    N   32 45.66 26.00 90.00  271    0.12  \n",
       "11  부하검사(KD-147)    Y  239 11.82  0.00 25.00  271    0.88  \n",
       "12    무부하검사(급가속)    Y    1 29.00 29.00 29.00    1    1.00  \n",
       "13  부하검사(KD-147)    N    4 53.67 41.00 74.00   26    0.15  \n",
       "14  부하검사(KD-147)    Y   22 15.73  2.00 25.00   26    0.85  \n",
       "15  부하검사(KD-147)    Y    9 10.78  0.00 25.00    9    1.00  \n",
       "16  부하검사(KD-147)    Y    1 24.00 24.00 24.00    1    1.00  \n",
       "17    무부하검사(급가속)    Y    4 14.75  6.00 35.00    4    1.00  \n",
       "18  부하검사(KD-147)    Y    4 12.25  3.00 23.00    4    1.00  \n",
       "19    무부하검사(급가속)    N    1 51.00 51.00 51.00   21    0.05  \n",
       "20    무부하검사(급가속)    Y   20 16.30  0.00 44.00   21    0.95  \n",
       "21  부하검사(KD-147)    N    9 45.38 28.00 64.00   81    0.11  \n",
       "22  부하검사(KD-147)    Y   72 12.51  0.00 25.00   81    0.89  \n",
       "23    무부하검사(급가속)    N    1  1.00  1.00  1.00    4    0.25  \n",
       "24    무부하검사(급가속)    Y    3 19.00  8.00 39.00    4    0.75  \n",
       "25  부하검사(KD-147)    Y    1 15.00 15.00 15.00    1    1.00  \n",
       "26    무부하검사(급가속)    Y    3 15.67  8.00 24.00    3    1.00  \n",
       "27  부하검사(KD-147)    N    3 45.67 37.00 53.00   27    0.11  \n",
       "28  부하검사(KD-147)    Y   24  9.29  0.00 25.00   27    0.89  \n",
       "29    무부하검사(급가속)    N    1  0.00  0.00  0.00   50    0.02  \n",
       "30    무부하검사(급가속)    Y   49  1.73  0.00 21.00   50    0.98  \n",
       "31    무부하검사(급가속)    N    1  0.00  0.00  0.00  137    0.01  \n",
       "32    무부하검사(급가속)    Y  136  0.66  0.00 25.00  137    0.99  \n",
       "33    무부하검사(급가속)    Y   86  0.34  0.00  6.00   86    1.00  \n",
       "34    무부하검사(급가속)    N    1  0.00  0.00  0.00  185    0.01  \n",
       "35    무부하검사(급가속)    Y  184  0.21  0.00 15.00  185    0.99  "
      ]
     },
     "execution_count": 163,
     "metadata": {},
     "output_type": "execute_result"
    }
   ],
   "source": [
    "# test_df"
   ]
  },
  {
   "cell_type": "code",
   "execution_count": 74,
   "metadata": {},
   "outputs": [],
   "source": [
    "# g.to_excel(os.path.join(analysis_fold, f'통계_제번별_차형식별_엔진형식별_검사판정별_무부하매연측정치1_{emis_no}.xlsx'))"
   ]
  },
  {
   "cell_type": "code",
   "execution_count": 76,
   "metadata": {},
   "outputs": [],
   "source": [
    "# gas_nm_list = check_df['배출가스인증번호'].unique()\n",
    "# len(gas_nm_list)"
   ]
  },
  {
   "cell_type": "code",
   "execution_count": 80,
   "metadata": {},
   "outputs": [],
   "source": [
    "# productor_dict = {\n",
    "#     'HD':'현대자동차(주)', \n",
    "#     'AD':'아우디폭스바겐코리아(주)', \n",
    "#     'PP':'아우디폭스바겐코리아(주)', \n",
    "#     'DB':'자일대우상용차 주식회사',\n",
    "#     'DK':'다임러트럭코리아(주)', \n",
    "#     'DK':'에프씨에이코리아(주)', \n",
    "#     'KM':'기아자동차(주)', \n",
    "#     'PA':'(주)볼보자동차코리아', \n",
    "#     'BK':'비엠더블유코리아(주)',\n",
    "#     'HB':'한불모터스(주)', \n",
    "#     'SK':'스카니아코리아그룹(주)', \n",
    "#     'SY':'쌍용자동차(주)', \n",
    "#     'VTK':'볼보트럭코리아(주)', \n",
    "#     'DC':'타타대우상용차(주)', \n",
    "#     'DW':'한국지엠주식회사', \n",
    "#     'GK':'지엠아시아퍼시픽지역본부 주식회사', \n",
    "#     'MK':'메르세데스벤츠코리아(주)', \n",
    "#     'MT':'만트럭버스코리아(주)', \n",
    "#     'SM':'르노삼성자동차(주)', \n",
    "#     'FK':'포드세일즈서비스코리아(유)', \n",
    "#     'JL':'(주)재규어랜드로버코리아', \n",
    "#     }"
   ]
  },
  {
   "attachments": {},
   "cell_type": "markdown",
   "metadata": {},
   "source": [
    "# 배인번호별 분석2"
   ]
  },
  {
   "cell_type": "code",
   "execution_count": 75,
   "metadata": {},
   "outputs": [],
   "source": [
    "# def flat_cols(df):\n",
    "#     df.columns = ['/'.join(x) for x in df.columns.to_flat_index()]\n",
    "#     return df"
   ]
  },
  {
   "cell_type": "code",
   "execution_count": 164,
   "metadata": {},
   "outputs": [
    {
     "name": "stderr",
     "output_type": "stream",
     "text": [
      "100%|██████████| 140/140 [24:51<00:00, 10.65s/it]  \n"
     ]
    }
   ],
   "source": [
    "# # about 24m 51s\n",
    "# total_g_df = pd.DataFrame()\n",
    "\n",
    "# for one in tqdm(df3y['배인번호_수정'].unique()):\n",
    "#     # 배인번호별 df\n",
    "#     gas_df = df3y.loc[df3y['배인번호_수정'] == str(one)].reset_index(drop=True)\n",
    "\n",
    "#     if gas_df.shape[0] != 0:\n",
    "#         # 제번별, 차형식별, 엔진형식별, 검사판정별 무부하매연측정치1 통계\n",
    "#         g = gas_df.groupby(['제작사명', '배인번호_수정', '제원관리번호', '자동차형식', '엔진형식', '검사방법', '검사판정'], dropna=False).agg({'차대번호':'count', '무부하매연측정치1':['mean', 'min', 'max']}).pipe(flat_cols).round(2).reset_index()\n",
    "#         g = g.rename(columns={'배인번호_수정':'배출가스인증번호', '차대번호/count':'대수', '무부하매연측정치1/mean':'mean', '무부하매연측정치1/min':'min', '무부하매연측정치1/max':'max'})\n",
    "#         # 하나의 배인번호에서 제번별 엔진형식별 비율 계산\n",
    "#         concat_two = pd.DataFrame()\n",
    "#         for two in g['제원관리번호'].unique():\n",
    "#             for three in g['엔진형식'].unique():\n",
    "#                 for four in g['검사방법'].unique():\n",
    "#                     temp = g[(g['제원관리번호'] == two) & (g['엔진형식'] == three) & (g['검사방법'] == four)].copy()\n",
    "#                     temp['sum'] = temp['대수'].sum()\n",
    "#                     temp['검사판정비율'] = temp['대수'] / temp['sum']\n",
    "#                     concat_two = pd.concat([concat_two, temp], ignore_index=True)\n",
    "#         # 종합 - 통계\n",
    "#         total_g_df = pd.concat([total_g_df, concat_two], ignore_index=True)\n",
    "#     else:\n",
    "#         print(f'오류 배인번호 : {one}')\n",
    "#         pass"
   ]
  },
  {
   "attachments": {},
   "cell_type": "markdown",
   "metadata": {},
   "source": [
    "# 배인번호별 분석3\n",
    "- 기존 '분석2' 알고리즘보다 비약적인 속도 향상\n",
    "    - 24분 51초 -> 약 12초(11.9초)\n",
    "        - 시간 99% 절감, 처리 속도 124배 향상"
   ]
  },
  {
   "cell_type": "code",
   "execution_count": 261,
   "metadata": {},
   "outputs": [],
   "source": [
    "def flat_cols(df):\n",
    "    df.columns = ['/'.join(x) for x in df.columns.to_flat_index()]\n",
    "    return df"
   ]
  },
  {
   "cell_type": "code",
   "execution_count": 73,
   "metadata": {},
   "outputs": [
    {
     "name": "stderr",
     "output_type": "stream",
     "text": [
      "100%|██████████| 140/140 [00:11<00:00, 11.68it/s]\n"
     ]
    }
   ],
   "source": [
    "# about 11.9s\n",
    "# 최적화 24m 51s -> 11.9s 시간 99% 절감, 처리 속도 124배 증가\n",
    "total_g_df = pd.DataFrame()\n",
    "groupby_col1 = ['제작사명', '배인번호_수정', '제원관리번호', '자동차형식', '엔진형식', '검사종류', '검사방법', '검사판정']\n",
    "groupby_col2 = ['제작사명', '배출가스인증번호', '제원관리번호', '자동차형식', '엔진형식', '검사종류', '검사방법']\n",
    "for one in tqdm(df3y['배인번호_수정'].unique()):\n",
    "    # 배인번호별 df\n",
    "    gas_df = df3y.loc[df3y['배인번호_수정'] == str(one)].reset_index(drop=True)\n",
    "\n",
    "    if gas_df.shape[0] != 0:\n",
    "        # 제번별, 차형식별, 엔진형식별, 검사판정별 무부하매연측정치1 통계\n",
    "        g = gas_df.groupby(groupby_col1).agg({'차대번호':'count', '무부하매연측정치1':['mean', 'min', 'max']}).pipe(flat_cols).round(2).reset_index()\n",
    "        g = g.rename(columns={'배인번호_수정':'배출가스인증번호', '차대번호/count':'대수', '무부하매연측정치1/mean':'mean', '무부하매연측정치1/min':'min', '무부하매연측정치1/max':'max'})\n",
    "        # 하나의 배인번호에서 제번별 엔진형식별 비율 계산\n",
    "        g['합격률(%)'] = round(g['대수'] / g.groupby(groupby_col2)['대수'].transform('sum') * 100, 2)\n",
    "        # 종합 - 통계\n",
    "        total_g_df = pd.concat([total_g_df, g], ignore_index=True)\n",
    "    else:\n",
    "        print(f'오류 배인번호 : {one}')\n",
    "        pass"
   ]
  },
  {
   "cell_type": "code",
   "execution_count": 74,
   "metadata": {},
   "outputs": [
    {
     "data": {
      "text/html": [
       "<div>\n",
       "<style scoped>\n",
       "    .dataframe tbody tr th:only-of-type {\n",
       "        vertical-align: middle;\n",
       "    }\n",
       "\n",
       "    .dataframe tbody tr th {\n",
       "        vertical-align: top;\n",
       "    }\n",
       "\n",
       "    .dataframe thead th {\n",
       "        text-align: right;\n",
       "    }\n",
       "</style>\n",
       "<table border=\"1\" class=\"dataframe\">\n",
       "  <thead>\n",
       "    <tr style=\"text-align: right;\">\n",
       "      <th></th>\n",
       "      <th>제작사명</th>\n",
       "      <th>배출가스인증번호</th>\n",
       "      <th>제원관리번호</th>\n",
       "      <th>자동차형식</th>\n",
       "      <th>엔진형식</th>\n",
       "      <th>검사종류</th>\n",
       "      <th>검사방법</th>\n",
       "      <th>검사판정</th>\n",
       "      <th>대수</th>\n",
       "      <th>mean</th>\n",
       "      <th>min</th>\n",
       "      <th>max</th>\n",
       "      <th>합격률(%)</th>\n",
       "    </tr>\n",
       "  </thead>\n",
       "  <tbody>\n",
       "    <tr>\n",
       "      <th>0</th>\n",
       "      <td>아우디폭스바겐코리아(주)</td>\n",
       "      <td>4MY-AD-20</td>\n",
       "      <td>02420000100031305</td>\n",
       "      <td>4F</td>\n",
       "      <td>BMK</td>\n",
       "      <td>재검사(2부재검사)</td>\n",
       "      <td>무부하검사(급가속)</td>\n",
       "      <td>Y</td>\n",
       "      <td>1</td>\n",
       "      <td>19.00</td>\n",
       "      <td>19.00</td>\n",
       "      <td>19.00</td>\n",
       "      <td>100.00</td>\n",
       "    </tr>\n",
       "    <tr>\n",
       "      <th>1</th>\n",
       "      <td>아우디폭스바겐코리아(주)</td>\n",
       "      <td>4MY-AD-20</td>\n",
       "      <td>02420000100031305</td>\n",
       "      <td>4F</td>\n",
       "      <td>BMK</td>\n",
       "      <td>정기(경과)검사</td>\n",
       "      <td>무부하검사(급가속)</td>\n",
       "      <td>Y</td>\n",
       "      <td>2</td>\n",
       "      <td>6.00</td>\n",
       "      <td>0.00</td>\n",
       "      <td>12.00</td>\n",
       "      <td>100.00</td>\n",
       "    </tr>\n",
       "    <tr>\n",
       "      <th>2</th>\n",
       "      <td>아우디폭스바겐코리아(주)</td>\n",
       "      <td>4MY-AD-20</td>\n",
       "      <td>02420000100031305</td>\n",
       "      <td>4F</td>\n",
       "      <td>BMK</td>\n",
       "      <td>정기검사</td>\n",
       "      <td>무부하검사(급가속)</td>\n",
       "      <td>N</td>\n",
       "      <td>1</td>\n",
       "      <td>21.00</td>\n",
       "      <td>21.00</td>\n",
       "      <td>21.00</td>\n",
       "      <td>33.33</td>\n",
       "    </tr>\n",
       "    <tr>\n",
       "      <th>3</th>\n",
       "      <td>아우디폭스바겐코리아(주)</td>\n",
       "      <td>4MY-AD-20</td>\n",
       "      <td>02420000100031305</td>\n",
       "      <td>4F</td>\n",
       "      <td>BMK</td>\n",
       "      <td>정기검사</td>\n",
       "      <td>무부하검사(급가속)</td>\n",
       "      <td>Y</td>\n",
       "      <td>2</td>\n",
       "      <td>23.00</td>\n",
       "      <td>20.00</td>\n",
       "      <td>26.00</td>\n",
       "      <td>66.67</td>\n",
       "    </tr>\n",
       "    <tr>\n",
       "      <th>4</th>\n",
       "      <td>아우디폭스바겐코리아(주)</td>\n",
       "      <td>4MY-AD-20</td>\n",
       "      <td>02420000100031305</td>\n",
       "      <td>4F</td>\n",
       "      <td>BMK</td>\n",
       "      <td>종합검사</td>\n",
       "      <td>무부하검사(급가속)</td>\n",
       "      <td>N</td>\n",
       "      <td>1</td>\n",
       "      <td>51.00</td>\n",
       "      <td>51.00</td>\n",
       "      <td>51.00</td>\n",
       "      <td>6.25</td>\n",
       "    </tr>\n",
       "  </tbody>\n",
       "</table>\n",
       "</div>"
      ],
      "text/plain": [
       "            제작사명   배출가스인증번호             제원관리번호 자동차형식 엔진형식        검사종류  \\\n",
       "0  아우디폭스바겐코리아(주)  4MY-AD-20  02420000100031305    4F  BMK  재검사(2부재검사)   \n",
       "1  아우디폭스바겐코리아(주)  4MY-AD-20  02420000100031305    4F  BMK    정기(경과)검사   \n",
       "2  아우디폭스바겐코리아(주)  4MY-AD-20  02420000100031305    4F  BMK        정기검사   \n",
       "3  아우디폭스바겐코리아(주)  4MY-AD-20  02420000100031305    4F  BMK        정기검사   \n",
       "4  아우디폭스바겐코리아(주)  4MY-AD-20  02420000100031305    4F  BMK        종합검사   \n",
       "\n",
       "         검사방법 검사판정  대수  mean   min   max  합격률(%)  \n",
       "0  무부하검사(급가속)    Y   1 19.00 19.00 19.00  100.00  \n",
       "1  무부하검사(급가속)    Y   2  6.00  0.00 12.00  100.00  \n",
       "2  무부하검사(급가속)    N   1 21.00 21.00 21.00   33.33  \n",
       "3  무부하검사(급가속)    Y   2 23.00 20.00 26.00   66.67  \n",
       "4  무부하검사(급가속)    N   1 51.00 51.00 51.00    6.25  "
      ]
     },
     "execution_count": 74,
     "metadata": {},
     "output_type": "execute_result"
    }
   ],
   "source": [
    "total_g_df.head()"
   ]
  },
  {
   "cell_type": "code",
   "execution_count": 75,
   "metadata": {},
   "outputs": [
    {
     "data": {
      "text/plain": [
       "(28212, 13)"
      ]
     },
     "execution_count": 75,
     "metadata": {},
     "output_type": "execute_result"
    }
   ],
   "source": [
    "total_g_df.shape"
   ]
  },
  {
   "cell_type": "code",
   "execution_count": 76,
   "metadata": {},
   "outputs": [
    {
     "data": {
      "text/plain": [
       "(25301, 13)"
      ]
     },
     "execution_count": 76,
     "metadata": {},
     "output_type": "execute_result"
    }
   ],
   "source": [
    "total_g_df1 = total_g_df.loc[total_g_df['배출가스인증번호'] != '확인불가']\n",
    "total_g_df1.shape"
   ]
  },
  {
   "attachments": {},
   "cell_type": "markdown",
   "metadata": {},
   "source": [
    "## [출력] 통계 배인번호별 매연값"
   ]
  },
  {
   "cell_type": "code",
   "execution_count": 77,
   "metadata": {},
   "outputs": [],
   "source": [
    "# about 2s\n",
    "today_date = datetime.today().strftime(\"%Y.%m.%d_%p.%I.%M.%S\")\n",
    "total_g_df1.to_excel(os.path.join(analysis_fold, f'통계_배인번호별_매연_{today_date}.xlsx'), index=False)"
   ]
  },
  {
   "cell_type": "code",
   "execution_count": 267,
   "metadata": {},
   "outputs": [
    {
     "data": {
      "text/plain": [
       "(1148246, 61)"
      ]
     },
     "execution_count": 267,
     "metadata": {},
     "output_type": "execute_result"
    }
   ],
   "source": [
    "df3y.shape"
   ]
  },
  {
   "cell_type": "code",
   "execution_count": 268,
   "metadata": {},
   "outputs": [
    {
     "data": {
      "text/plain": [
       "1141598"
      ]
     },
     "execution_count": 268,
     "metadata": {},
     "output_type": "execute_result"
    }
   ],
   "source": [
    "total_g_df1['대수'].sum()"
   ]
  },
  {
   "cell_type": "code",
   "execution_count": 269,
   "metadata": {},
   "outputs": [
    {
     "data": {
      "text/plain": [
       "(6648, 61)"
      ]
     },
     "execution_count": 269,
     "metadata": {},
     "output_type": "execute_result"
    }
   ],
   "source": [
    "df3y[df3y['배인번호_수정'] == '확인불가'].shape"
   ]
  },
  {
   "cell_type": "code",
   "execution_count": 270,
   "metadata": {},
   "outputs": [
    {
     "data": {
      "text/plain": [
       "(0, 61)"
      ]
     },
     "execution_count": 270,
     "metadata": {},
     "output_type": "execute_result"
    }
   ],
   "source": [
    "df2n[df2n['배인번호_수정'] == '확인불가'].shape"
   ]
  },
  {
   "cell_type": "code",
   "execution_count": 271,
   "metadata": {},
   "outputs": [
    {
     "data": {
      "text/plain": [
       "(8, 61)"
      ]
     },
     "execution_count": 271,
     "metadata": {},
     "output_type": "execute_result"
    }
   ],
   "source": [
    "df3n[df3n['배인번호_수정'] == '확인불가'].shape"
   ]
  },
  {
   "cell_type": "code",
   "execution_count": 272,
   "metadata": {},
   "outputs": [
    {
     "data": {
      "text/plain": [
       "(6656, 59)"
      ]
     },
     "execution_count": 272,
     "metadata": {},
     "output_type": "execute_result"
    }
   ],
   "source": [
    "df[df['배인번호_수정'] == '확인불가'].shape"
   ]
  },
  {
   "attachments": {},
   "cell_type": "markdown",
   "metadata": {},
   "source": [
    "## result 파일 통계"
   ]
  },
  {
   "cell_type": "code",
   "execution_count": 221,
   "metadata": {},
   "outputs": [
    {
     "data": {
      "text/plain": [
       "(462, 31)"
      ]
     },
     "execution_count": 221,
     "metadata": {},
     "output_type": "execute_result"
    }
   ],
   "source": [
    "result2.loc[result2['배인번호_수정'] == '8MY-PA-14-03'].shape"
   ]
  },
  {
   "cell_type": "code",
   "execution_count": 222,
   "metadata": {},
   "outputs": [
    {
     "data": {
      "text/plain": [
       "등급_수정  배인번호_수정     \n",
       "3      5MY-AD-13-07    118\n",
       "       5MY-AD-13-13     51\n",
       "       6MY-AD-13-11    493\n",
       "       7MY-AD-13-01    565\n",
       "       7MY-AD-13-05     26\n",
       "                      ... \n",
       "5      5MY-KM-24-32      6\n",
       "       5MY-SY-24-48      2\n",
       "       6MY-DC-23-17      7\n",
       "       6MY-HD-23-55      3\n",
       "       확인불가              2\n",
       "Name: 차대번호, Length: 172, dtype: int64"
      ]
     },
     "execution_count": 222,
     "metadata": {},
     "output_type": "execute_result"
    }
   ],
   "source": [
    "result2.groupby(['등급_수정', '배인번호_수정'])['차대번호'].count()"
   ]
  },
  {
   "attachments": {},
   "cell_type": "markdown",
   "metadata": {},
   "source": [
    "### [출력]"
   ]
  },
  {
   "cell_type": "code",
   "execution_count": 98,
   "metadata": {},
   "outputs": [],
   "source": [
    "today_date = datetime.today().strftime(\"%Y.%m.%d_%p.%I.%M.%S\")\n",
    "result2.groupby(['등급_수정', '배인번호_수정'])['차대번호'].count().to_excel(os.path.join(analysis_fold, f'통계_배인번호_수정_등급_수정_{today_date}.xlsx'))"
   ]
  },
  {
   "attachments": {},
   "cell_type": "markdown",
   "metadata": {},
   "source": [
    "# code end"
   ]
  }
 ],
 "metadata": {
  "kernelspec": {
   "display_name": "base",
   "language": "python",
   "name": "python3"
  },
  "language_info": {
   "codemirror_mode": {
    "name": "ipython",
    "version": 3
   },
   "file_extension": ".py",
   "mimetype": "text/x-python",
   "name": "python",
   "nbconvert_exporter": "python",
   "pygments_lexer": "ipython3",
   "version": "3.9.13"
  },
  "orig_nbformat": 4,
  "vscode": {
   "interpreter": {
    "hash": "ad2bdc8ecc057115af97d19610ffacc2b4e99fae6737bb82f5d7fb13d2f2c186"
   }
  }
 },
 "nbformat": 4,
 "nbformat_minor": 2
}
