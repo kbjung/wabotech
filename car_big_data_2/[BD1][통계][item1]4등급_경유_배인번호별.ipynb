{
 "cells": [
  {
   "attachments": {},
   "cell_type": "markdown",
   "metadata": {},
   "source": [
    "# Library\n"
   ]
  },
  {
   "cell_type": "code",
   "execution_count": 34,
   "metadata": {},
   "outputs": [],
   "source": [
    "import pandas as pd\n",
    "import numpy as np\n",
    "import os\n",
    "from tqdm import tqdm\n",
    "from datetime import datetime"
   ]
  },
  {
   "attachments": {},
   "cell_type": "markdown",
   "metadata": {},
   "source": [
    "# fold path"
   ]
  },
  {
   "cell_type": "code",
   "execution_count": 2,
   "metadata": {},
   "outputs": [],
   "source": [
    "ods_fold = 'D:/data/big2/ODS'\n",
    "g4_data_check_fold = 'D:/data/big2/BD1_4등급_데이터_점검1'\n",
    "gas_nm_fold = 'D:/data/big2/BD1_4등급_데이터_점검1/과제1'\n",
    "analysis_fold = 'C:/Users/kbjung/Documents/GitHub/wabotech/car_big_data_2/analysis2/4등급_데이터_점검/과제1'"
   ]
  },
  {
   "cell_type": "code",
   "execution_count": 36,
   "metadata": {},
   "outputs": [
    {
     "data": {
      "text/plain": [
       "'2023.03.08_PM.12.49.02'"
      ]
     },
     "execution_count": 36,
     "metadata": {},
     "output_type": "execute_result"
    }
   ],
   "source": [
    "today_date = datetime.today().strftime(\"%Y.%m.%d_%p.%H.%M.%S\")\n",
    "today_date"
   ]
  },
  {
   "attachments": {},
   "cell_type": "markdown",
   "metadata": {},
   "source": [
    "# Load"
   ]
  },
  {
   "attachments": {},
   "cell_type": "markdown",
   "metadata": {},
   "source": [
    "## 4등급 등록&제원정보"
   ]
  },
  {
   "cell_type": "code",
   "execution_count": 46,
   "metadata": {},
   "outputs": [
    {
     "name": "stderr",
     "output_type": "stream",
     "text": [
      "C:\\Users\\kbjung\\AppData\\Local\\Temp\\ipykernel_19208\\1303083448.py:3: DtypeWarning: Columns (12,14,21,44,48) have mixed types. Specify dtype option on import or set low_memory=False.\n",
      "  df = pd.read_csv(os.path.join(ods_fold, file_name), encoding='cp949')\n"
     ]
    },
    {
     "name": "stdout",
     "output_type": "stream",
     "text": [
      "<class 'pandas.core.frame.DataFrame'>\n",
      "RangeIndex: 1511251 entries, 0 to 1511250\n",
      "Data columns (total 49 columns):\n",
      " #   Column        Non-Null Count    Dtype  \n",
      "---  ------        --------------    -----  \n",
      " 0   차량관리번호        1511251 non-null  object \n",
      " 1   차량등록번호        1511251 non-null  object \n",
      " 2   본거지법정동코드      1511251 non-null  int64  \n",
      " 3   소유자구분         1511251 non-null  object \n",
      " 4   차종_등록정보       1511249 non-null  object \n",
      " 5   용도            1511251 non-null  object \n",
      " 6   현재회원번호        1510412 non-null  object \n",
      " 7   차대번호          1511251 non-null  object \n",
      " 8   최초등록일자        1511251 non-null  int64  \n",
      " 9   차량연식          1511251 non-null  int64  \n",
      " 10  차량제작일자        1342461 non-null  float64\n",
      " 11  배출가스검사유효일자    1511239 non-null  float64\n",
      " 12  제원관리번호        1511251 non-null  object \n",
      " 13  배출가스인증번호      1387530 non-null  object \n",
      " 14  배출가스등급        1511251 non-null  object \n",
      " 15  저공해조치YN(미사용)  1511096 non-null  object \n",
      " 16  저공해조치종류       189 non-null      float64\n",
      " 17  저공해조치구조변경YN   1511251 non-null  object \n",
      " 18  차량등록번호숫자정보    1511251 non-null  int64  \n",
      " 19  차량말소YN        1511251 non-null  object \n",
      " 20  최초회원번호        1506595 non-null  object \n",
      " 21  취득일자          1418010 non-null  object \n",
      " 22  취득금액          1436843 non-null  float64\n",
      " 23  생성일시_등록정보     1511251 non-null  object \n",
      " 24  수정일시_등록정보     915041 non-null   object \n",
      " 25  차명            1511251 non-null  object \n",
      " 26  차종_제원정보       1511251 non-null  object \n",
      " 27  차종분류          1511251 non-null  object \n",
      " 28  차종유형(소분류)     1511251 non-null  object \n",
      " 29  자동차형식         1510723 non-null  object \n",
      " 30  제작사명          1501221 non-null  object \n",
      " 31  연료            1511180 non-null  object \n",
      " 32  엔진형식          1509249 non-null  object \n",
      " 33  공차중량          0 non-null        float64\n",
      " 34  총중량           1511226 non-null  float64\n",
      " 35  적재중량          1510714 non-null  float64\n",
      " 36  엔진출력          1510623 non-null  float64\n",
      " 37  배기량           1511240 non-null  float64\n",
      " 38  승차인원          1511251 non-null  float64\n",
      " 39  차량길이          1511176 non-null  float64\n",
      " 40  차량너비          1511176 non-null  float64\n",
      " 41  차량높이          1511174 non-null  float64\n",
      " 42  원산지명          1492122 non-null  object \n",
      " 43  삭제YN          1511251 non-null  object \n",
      " 44  승인일자          1510704 non-null  object \n",
      " 45  구동형식          47 non-null       float64\n",
      " 46  변속기종류         1511091 non-null  object \n",
      " 47  생성일시_제원정보     1511251 non-null  object \n",
      " 48  수정일시_제원정보     497 non-null      object \n",
      "dtypes: float64(14), int64(4), object(31)\n",
      "memory usage: 565.0+ MB\n"
     ]
    }
   ],
   "source": [
    "# about 22s\n",
    "file_name = '[ODS][G4]등록정보&제원정보(말소제거)(2022.12.28).csv'\n",
    "df = pd.read_csv(os.path.join(ods_fold, file_name), encoding='cp949')\n",
    "df.info()"
   ]
  },
  {
   "cell_type": "code",
   "execution_count": 39,
   "metadata": {},
   "outputs": [
    {
     "data": {
      "text/plain": [
       "Index(['차량관리번호', '차량등록번호', '본거지법정동코드', '소유자구분', '차종_등록정보', '용도', '현재회원번호',\n",
       "       '차대번호', '최초등록일자', '차량연식', '차량제작일자', '배출가스검사유효일자', '제원관리번호', '배출가스인증번호',\n",
       "       '배출가스등급', '저공해조치YN(미사용)', '저공해조치종류', '저공해조치구조변경YN', '차량등록번호숫자정보',\n",
       "       '차량말소YN', '최초회원번호', '취득일자', '취득금액', '생성일시_등록정보', '수정일시_등록정보', '차명',\n",
       "       '차종_제원정보', '차종분류', '차종유형(소분류)', '자동차형식', '제작사명', '연료', '엔진형식', '공차중량',\n",
       "       '총중량', '적재중량', '엔진출력', '배기량', '승차인원', '차량길이', '차량너비', '차량높이', '원산지명',\n",
       "       '삭제YN', '승인일자', '구동형식', '변속기종류', '생성일시_제원정보', '수정일시_제원정보'],\n",
       "      dtype='object')"
      ]
     },
     "execution_count": 39,
     "metadata": {},
     "output_type": "execute_result"
    }
   ],
   "source": [
    "df.columns"
   ]
  },
  {
   "cell_type": "code",
   "execution_count": 40,
   "metadata": {},
   "outputs": [
    {
     "data": {
      "text/plain": [
       "경유             1152698\n",
       "휘발유             332351\n",
       "LPG(액화석유가스)      26090\n",
       "NaN                 71\n",
       "기타연료                39\n",
       "알코올                  1\n",
       "CNG(압축천연가스)          1\n",
       "Name: 연료, dtype: int64"
      ]
     },
     "execution_count": 40,
     "metadata": {},
     "output_type": "execute_result"
    }
   ],
   "source": [
    "df['연료'].value_counts(dropna=False)"
   ]
  },
  {
   "cell_type": "code",
   "execution_count": 41,
   "metadata": {},
   "outputs": [
    {
     "data": {
      "text/plain": [
       "N    1511251\n",
       "Name: 차량말소YN, dtype: int64"
      ]
     },
     "execution_count": 41,
     "metadata": {},
     "output_type": "execute_result"
    }
   ],
   "source": [
    "df['차량말소YN'].value_counts(dropna=False)"
   ]
  },
  {
   "attachments": {},
   "cell_type": "markdown",
   "metadata": {},
   "source": [
    "## 정기검사"
   ]
  },
  {
   "cell_type": "code",
   "execution_count": 21,
   "metadata": {},
   "outputs": [
    {
     "name": "stderr",
     "output_type": "stream",
     "text": [
      "C:\\Users\\kbjung\\AppData\\Local\\Temp\\ipykernel_17604\\1947711141.py:3: DtypeWarning: Columns (1) have mixed types. Specify dtype option on import or set low_memory=False.\n",
      "  ins = pd.read_csv(os.path.join(ods_fold, file_name))\n"
     ]
    },
    {
     "name": "stdout",
     "output_type": "stream",
     "text": [
      "<class 'pandas.core.frame.DataFrame'>\n",
      "RangeIndex: 22006426 entries, 0 to 22006425\n",
      "Data columns (total 39 columns):\n",
      " #   Column     Dtype  \n",
      "---  ------     -----  \n",
      " 0   사용연료       object \n",
      " 1   주행거리       object \n",
      " 2   차명         object \n",
      " 3   차량번호       object \n",
      " 4   차대번호       object \n",
      " 5   차종         object \n",
      " 6   차량연식       int64  \n",
      " 7   엔진형식       object \n",
      " 8   검사방법       object \n",
      " 9   검사일자       int64  \n",
      " 10  검사종류       object \n",
      " 11  검사판정시각     object \n",
      " 12  검사판정       object \n",
      " 13  산소값        float64\n",
      " 14  이산화탄소값     float64\n",
      " 15  무부하매연판정1   object \n",
      " 16  무부하매연판정2   object \n",
      " 17  무부하매연판정3   object \n",
      " 18  무부하매연판정4   object \n",
      " 19  무부하매연판정5   object \n",
      " 20  무부하매연판정6   object \n",
      " 21  무부하매연허용치1  float64\n",
      " 22  무부하매연허용치2  float64\n",
      " 23  무부하매연허용치3  float64\n",
      " 24  무부하매연허용치4  float64\n",
      " 25  무부하매연허용치5  float64\n",
      " 26  무부하매연허용치6  float64\n",
      " 27  무부하매연측정치1  float64\n",
      " 28  무부하매연측정치2  float64\n",
      " 29  무부하매연측정치3  float64\n",
      " 30  무부하매연측정치4  float64\n",
      " 31  무부하매연측정치5  float64\n",
      " 32  무부하매연측정치6  float64\n",
      " 33  차량용도       object \n",
      " 34  최대출력허용치    float64\n",
      " 35  최대출력측정값    float64\n",
      " 36  검사접수번호     object \n",
      " 37  검사소명       object \n",
      " 38  재검사기간      object \n",
      "dtypes: float64(16), int64(2), object(21)\n",
      "memory usage: 6.4+ GB\n"
     ]
    }
   ],
   "source": [
    "# about 2m 56s\n",
    "file_name = '[ODS]정기검사(2022.12.28).csv'\n",
    "ins = pd.read_csv(os.path.join(ods_fold, file_name))\n",
    "ins.info()"
   ]
  },
  {
   "attachments": {},
   "cell_type": "markdown",
   "metadata": {},
   "source": [
    "## 정밀검사"
   ]
  },
  {
   "cell_type": "code",
   "execution_count": 64,
   "metadata": {},
   "outputs": [
    {
     "name": "stdout",
     "output_type": "stream",
     "text": [
      "<class 'pandas.core.frame.DataFrame'>\n",
      "RangeIndex: 28682228 entries, 0 to 28682227\n",
      "Data columns (total 41 columns):\n",
      " #   Column     Dtype  \n",
      "---  ------     -----  \n",
      " 0   사용연료       object \n",
      " 1   주행거리       float64\n",
      " 2   차명         object \n",
      " 3   차량번호       object \n",
      " 4   차대번호       object \n",
      " 5   차종         object \n",
      " 6   차량연식       int64  \n",
      " 7   엔진형식       object \n",
      " 8   검사방법       object \n",
      " 9   검사일자       int64  \n",
      " 10  검사종류       object \n",
      " 11  검사판정시각     object \n",
      " 12  검사판정       object \n",
      " 13  산소값        float64\n",
      " 14  이산화탄소값     float64\n",
      " 15  무부하매연판정1   object \n",
      " 16  무부하매연판정2   object \n",
      " 17  무부하매연판정3   object \n",
      " 18  무부하매연판정4   object \n",
      " 19  무부하매연판정5   object \n",
      " 20  무부하매연판정6   object \n",
      " 21  무부하매연허용치1  float64\n",
      " 22  무부하매연허용치2  float64\n",
      " 23  무부하매연허용치3  float64\n",
      " 24  무부하매연허용치4  float64\n",
      " 25  무부하매연허용치5  float64\n",
      " 26  무부하매연허용치6  float64\n",
      " 27  무부하매연측정치1  float64\n",
      " 28  무부하매연측정치2  float64\n",
      " 29  무부하매연측정치3  float64\n",
      " 30  무부하매연측정치4  float64\n",
      " 31  무부하매연측정치5  float64\n",
      " 32  무부하매연측정치6  float64\n",
      " 33  차량용도       object \n",
      " 34  최대출력허용치    float64\n",
      " 35  최대출력측정값    float64\n",
      " 36  검사접수번호     object \n",
      " 37  검사소명       object \n",
      " 38  재검사기간      object \n",
      " 39  검사 검사소코드   object \n",
      " 40  검사유효기간     float64\n",
      "dtypes: float64(18), int64(2), object(21)\n",
      "memory usage: 8.8+ GB\n"
     ]
    }
   ],
   "source": [
    "# about 4m 38s\n",
    "file_name = '[ODS]정밀검사(2022.12.28).csv'\n",
    "dins = pd.read_csv(os.path.join(ods_fold, file_name))\n",
    "dins.info()"
   ]
  },
  {
   "cell_type": "code",
   "execution_count": 65,
   "metadata": {},
   "outputs": [],
   "source": [
    "# dins.head(10).to_excel('analysis2/4등급_데이터_점검/과제1/일부_정밀검사.xlsx', index=False)"
   ]
  },
  {
   "attachments": {},
   "cell_type": "markdown",
   "metadata": {},
   "source": [
    "## 4등급차 회신내역 정리(23.02.14.)(정리)"
   ]
  },
  {
   "cell_type": "code",
   "execution_count": 23,
   "metadata": {},
   "outputs": [
    {
     "name": "stdout",
     "output_type": "stream",
     "text": [
      "<class 'pandas.core.frame.DataFrame'>\n",
      "RangeIndex: 133 entries, 0 to 132\n",
      "Data columns (total 2 columns):\n",
      " #   Column    Non-Null Count  Dtype \n",
      "---  ------    --------------  ----- \n",
      " 0   배출가스인증번호  133 non-null    object\n",
      " 1   차량 대수(대)  133 non-null    int64 \n",
      "dtypes: int64(1), object(1)\n",
      "memory usage: 2.2+ KB\n"
     ]
    }
   ],
   "source": [
    "# about 1s\n",
    "file_name = '4등급차 회신내역 정리(23.02.14.)(정리).xlsx'\n",
    "check_df = pd.read_excel(os.path.join(g4_data_check_fold, file_name))\n",
    "check_df.info()"
   ]
  },
  {
   "attachments": {},
   "cell_type": "markdown",
   "metadata": {},
   "source": [
    "# 전처리\n",
    "    - 등록&제원정보\n",
    "        - 경유차만 추출\n",
    "        - 차대번호 중복 제거\n",
    "    - 정기, 정밀 검사\n",
    "        - 정기/정밀 검사 표기 컬럼 추가\n",
    "        - 병합\n",
    "        - 최신 검사만 추출\n",
    "    - 등록&제원, 정기&정밀 병합(차대번호 기준)"
   ]
  },
  {
   "attachments": {},
   "cell_type": "markdown",
   "metadata": {},
   "source": [
    "## 등록&제원정보\n"
   ]
  },
  {
   "attachments": {},
   "cell_type": "markdown",
   "metadata": {},
   "source": [
    "### 말소 제거"
   ]
  },
  {
   "cell_type": "code",
   "execution_count": 47,
   "metadata": {},
   "outputs": [
    {
     "data": {
      "text/plain": [
       "(1511251, 49)"
      ]
     },
     "execution_count": 47,
     "metadata": {},
     "output_type": "execute_result"
    }
   ],
   "source": [
    "df.shape"
   ]
  },
  {
   "cell_type": "code",
   "execution_count": 48,
   "metadata": {},
   "outputs": [
    {
     "data": {
      "text/plain": [
       "(1511251, 49)"
      ]
     },
     "execution_count": 48,
     "metadata": {},
     "output_type": "execute_result"
    }
   ],
   "source": [
    "df = df[df['차량말소YN'] == 'N']\n",
    "df.shape"
   ]
  },
  {
   "attachments": {},
   "cell_type": "markdown",
   "metadata": {},
   "source": [
    "### 경유차만 추출"
   ]
  },
  {
   "cell_type": "code",
   "execution_count": 49,
   "metadata": {},
   "outputs": [
    {
     "data": {
      "text/plain": [
       "(1511251, 49)"
      ]
     },
     "execution_count": 49,
     "metadata": {},
     "output_type": "execute_result"
    }
   ],
   "source": [
    "df.shape"
   ]
  },
  {
   "cell_type": "code",
   "execution_count": 50,
   "metadata": {},
   "outputs": [
    {
     "data": {
      "text/plain": [
       "(1152698, 49)"
      ]
     },
     "execution_count": 50,
     "metadata": {},
     "output_type": "execute_result"
    }
   ],
   "source": [
    "df1 = df[df['연료'] == '경유'].reset_index(drop=True)\n",
    "df1.shape"
   ]
  },
  {
   "attachments": {},
   "cell_type": "markdown",
   "metadata": {},
   "source": [
    "### 차대번호 중복 제거\n",
    "- '최초등록일자', '배출가스검사유효일자' 최신 순"
   ]
  },
  {
   "cell_type": "code",
   "execution_count": 51,
   "metadata": {},
   "outputs": [
    {
     "data": {
      "text/plain": [
       "(1152698, 49)"
      ]
     },
     "execution_count": 51,
     "metadata": {},
     "output_type": "execute_result"
    }
   ],
   "source": [
    "df2 = df1.sort_values(['최초등록일자', '배출가스검사유효일자'], ascending=[False, False]).drop_duplicates('차대번호').reset_index(drop=True)\n",
    "df2.shape"
   ]
  },
  {
   "attachments": {},
   "cell_type": "markdown",
   "metadata": {},
   "source": [
    "## 정기, 정밀 검사"
   ]
  },
  {
   "attachments": {},
   "cell_type": "markdown",
   "metadata": {},
   "source": [
    "### 정기, 정밀 검사 표기 컬럼 추가"
   ]
  },
  {
   "cell_type": "code",
   "execution_count": 47,
   "metadata": {},
   "outputs": [
    {
     "data": {
      "text/plain": [
       "((22006426, 40), (28682228, 42))"
      ]
     },
     "execution_count": 47,
     "metadata": {},
     "output_type": "execute_result"
    }
   ],
   "source": [
    "ins['정기정밀'] = '정기'\n",
    "dins['정기정밀'] = '정밀'\n",
    "ins.shape, dins.shape"
   ]
  },
  {
   "attachments": {},
   "cell_type": "markdown",
   "metadata": {},
   "source": [
    "### 병합"
   ]
  },
  {
   "cell_type": "code",
   "execution_count": 48,
   "metadata": {},
   "outputs": [
    {
     "data": {
      "text/plain": [
       "(50688654, 42)"
      ]
     },
     "execution_count": 48,
     "metadata": {},
     "output_type": "execute_result"
    }
   ],
   "source": [
    "# about 17s\n",
    "tin = pd.concat([ins, dins], ignore_index=True)\n",
    "tin.shape"
   ]
  },
  {
   "attachments": {},
   "cell_type": "markdown",
   "metadata": {},
   "source": [
    "### 최신 검사만 추출"
   ]
  },
  {
   "cell_type": "code",
   "execution_count": 49,
   "metadata": {},
   "outputs": [
    {
     "data": {
      "text/plain": [
       "(22044208, 42)"
      ]
     },
     "execution_count": 49,
     "metadata": {},
     "output_type": "execute_result"
    }
   ],
   "source": [
    "# about 6m 26s\n",
    "tin1 = tin.sort_values('검사일자', ascending=False).drop_duplicates('차대번호').reset_index(drop=True)\n",
    "tin1.shape"
   ]
  },
  {
   "attachments": {},
   "cell_type": "markdown",
   "metadata": {},
   "source": [
    "#### [출력] 정기&정밀검사"
   ]
  },
  {
   "cell_type": "code",
   "execution_count": 50,
   "metadata": {},
   "outputs": [],
   "source": [
    "# # about 16m 44s\n",
    "# tin.to_csv(os.path.join(ods_fold, '[ODS]정기&정밀검사(2022.12.28).csv'), index=False)"
   ]
  },
  {
   "attachments": {},
   "cell_type": "markdown",
   "metadata": {},
   "source": [
    "#### [출력] 정기&정밀검사(최신검사만)"
   ]
  },
  {
   "cell_type": "code",
   "execution_count": null,
   "metadata": {},
   "outputs": [],
   "source": [
    "# # about 7m 17s\n",
    "# tin1.to_csv(os.path.join(ods_fold, '[ODS]정기&정밀검사(최신검사만)(2022.12.28).csv'), index=False)"
   ]
  },
  {
   "attachments": {},
   "cell_type": "markdown",
   "metadata": {},
   "source": [
    "## [로드] 정기&정밀검사(최신검사만)"
   ]
  },
  {
   "cell_type": "code",
   "execution_count": 4,
   "metadata": {},
   "outputs": [
    {
     "name": "stderr",
     "output_type": "stream",
     "text": [
      "C:\\Users\\kbjung\\AppData\\Local\\Temp\\ipykernel_8664\\2047139476.py:2: DtypeWarning: Columns (1,40) have mixed types. Specify dtype option on import or set low_memory=False.\n",
      "  tin1 = pd.read_csv(os.path.join(ods_fold, '[ODS]정기&정밀검사(최신검사만)(2022.12.28).csv'))\n"
     ]
    }
   ],
   "source": [
    "# # about 3m 4s\n",
    "# tin1 = pd.read_csv(os.path.join(ods_fold, '[ODS]정기&정밀검사(최신검사만)(2022.12.28).csv'), low_memory=False)\n",
    "# tin1.info()"
   ]
  },
  {
   "attachments": {},
   "cell_type": "markdown",
   "metadata": {},
   "source": [
    "## [병합] 등록&제원 과 정기&정밀 데이터"
   ]
  },
  {
   "cell_type": "code",
   "execution_count": 12,
   "metadata": {},
   "outputs": [
    {
     "data": {
      "text/plain": [
       "(1152698, 49)"
      ]
     },
     "execution_count": 12,
     "metadata": {},
     "output_type": "execute_result"
    }
   ],
   "source": [
    "df2.shape"
   ]
  },
  {
   "cell_type": "code",
   "execution_count": 13,
   "metadata": {},
   "outputs": [
    {
     "data": {
      "text/plain": [
       "(1152698, 90)"
      ]
     },
     "execution_count": 13,
     "metadata": {},
     "output_type": "execute_result"
    }
   ],
   "source": [
    "# about \n",
    "total = df2.merge(tin1, on='차대번호', how='left')\n",
    "total.shape"
   ]
  },
  {
   "attachments": {},
   "cell_type": "markdown",
   "metadata": {},
   "source": [
    "### [출력] 등록&제원&정기&정밀 데이터 병합"
   ]
  },
  {
   "cell_type": "code",
   "execution_count": 14,
   "metadata": {},
   "outputs": [],
   "source": [
    "# # about 51s\n",
    "# total.to_csv(os.path.join(ods_fold, '[G4]등록&제원&정기&정밀(최신검사만).csv'), index=False)"
   ]
  },
  {
   "attachments": {},
   "cell_type": "markdown",
   "metadata": {},
   "source": [
    "# [로드] 등록&제원&정기&정밀 데이터"
   ]
  },
  {
   "cell_type": "code",
   "execution_count": 3,
   "metadata": {},
   "outputs": [
    {
     "name": "stdout",
     "output_type": "stream",
     "text": [
      "<class 'pandas.core.frame.DataFrame'>\n",
      "RangeIndex: 1152698 entries, 0 to 1152697\n",
      "Data columns (total 90 columns):\n",
      " #   Column        Non-Null Count    Dtype  \n",
      "---  ------        --------------    -----  \n",
      " 0   차량관리번호        1152698 non-null  object \n",
      " 1   차량등록번호        1152698 non-null  object \n",
      " 2   본거지법정동코드      1152698 non-null  int64  \n",
      " 3   소유자구분         1152698 non-null  object \n",
      " 4   차종_등록정보       1152698 non-null  object \n",
      " 5   용도            1152698 non-null  object \n",
      " 6   현재회원번호        1152698 non-null  object \n",
      " 7   차대번호          1152698 non-null  object \n",
      " 8   최초등록일자        1152698 non-null  int64  \n",
      " 9   차량연식_x        1152698 non-null  int64  \n",
      " 10  차량제작일자        1152694 non-null  float64\n",
      " 11  배출가스검사유효일자    1152696 non-null  float64\n",
      " 12  제원관리번호        1152698 non-null  object \n",
      " 13  배출가스인증번호      1145077 non-null  object \n",
      " 14  배출가스등급        1152698 non-null  object \n",
      " 15  저공해조치YN(미사용)  1152552 non-null  object \n",
      " 16  저공해조치종류       187 non-null      float64\n",
      " 17  저공해조치구조변경YN   1152698 non-null  object \n",
      " 18  차량등록번호숫자정보    1152698 non-null  int64  \n",
      " 19  차량말소YN        1152698 non-null  object \n",
      " 20  최초회원번호        1152697 non-null  object \n",
      " 21  취득일자          1141098 non-null  float64\n",
      " 22  취득금액          1140992 non-null  float64\n",
      " 23  생성일시_등록정보     1152698 non-null  object \n",
      " 24  수정일시_등록정보     768029 non-null   object \n",
      " 25  차명_x          1152698 non-null  object \n",
      " 26  차종_제원정보       1152698 non-null  object \n",
      " 27  차종분류          1152698 non-null  object \n",
      " 28  차종유형(소분류)     1152698 non-null  object \n",
      " 29  자동차형식         1152696 non-null  object \n",
      " 30  제작사명          1152680 non-null  object \n",
      " 31  연료            1152698 non-null  object \n",
      " 32  엔진형식_x        1152697 non-null  object \n",
      " 33  공차중량          0 non-null        float64\n",
      " 34  총중량           1152698 non-null  float64\n",
      " 35  적재중량          1152467 non-null  float64\n",
      " 36  엔진출력          1152695 non-null  float64\n",
      " 37  배기량           1152698 non-null  float64\n",
      " 38  승차인원          1152698 non-null  float64\n",
      " 39  차량길이          1152697 non-null  float64\n",
      " 40  차량너비          1152697 non-null  float64\n",
      " 41  차량높이          1152697 non-null  float64\n",
      " 42  원산지명          1152698 non-null  object \n",
      " 43  삭제YN          1152698 non-null  object \n",
      " 44  승인일자          1152698 non-null  float64\n",
      " 45  구동형식          36 non-null       float64\n",
      " 46  변속기종류         1152671 non-null  object \n",
      " 47  생성일시_제원정보     1152698 non-null  object \n",
      " 48  수정일시_제원정보     420 non-null      object \n",
      " 49  사용연료          1129094 non-null  object \n",
      " 50  주행거리          1128973 non-null  float64\n",
      " 51  차명_y          1129094 non-null  object \n",
      " 52  차량번호          1129094 non-null  object \n",
      " 53  차종            1129094 non-null  object \n",
      " 54  차량연식_y        1129094 non-null  float64\n",
      " 55  엔진형식_y        1129083 non-null  object \n",
      " 56  검사방법          1129094 non-null  object \n",
      " 57  검사일자          1129094 non-null  float64\n",
      " 58  검사종류          1129094 non-null  object \n",
      " 59  검사판정시각        1120141 non-null  object \n",
      " 60  검사판정          1129094 non-null  object \n",
      " 61  산소값           812617 non-null   float64\n",
      " 62  이산화탄소값        812617 non-null   float64\n",
      " 63  무부하매연판정1      1120136 non-null  object \n",
      " 64  무부하매연판정2      44900 non-null    object \n",
      " 65  무부하매연판정3      43983 non-null    object \n",
      " 66  무부하매연판정4      43981 non-null    object \n",
      " 67  무부하매연판정5      43981 non-null    object \n",
      " 68  무부하매연판정6      46 non-null       object \n",
      " 69  무부하매연허용치1     1120136 non-null  float64\n",
      " 70  무부하매연허용치2     329792 non-null   float64\n",
      " 71  무부하매연허용치3     329791 non-null   float64\n",
      " 72  무부하매연허용치4     329789 non-null   float64\n",
      " 73  무부하매연허용치5     329789 non-null   float64\n",
      " 74  무부하매연허용치6     297589 non-null   float64\n",
      " 75  무부하매연측정치1     1120141 non-null  float64\n",
      " 76  무부하매연측정치2     364613 non-null   float64\n",
      " 77  무부하매연측정치3     329793 non-null   float64\n",
      " 78  무부하매연측정치4     329791 non-null   float64\n",
      " 79  무부하매연측정치5     329791 non-null   float64\n",
      " 80  무부하매연측정치6     297589 non-null   float64\n",
      " 81  차량용도          1129094 non-null  object \n",
      " 82  최대출력허용치       32207 non-null    float64\n",
      " 83  최대출력측정값       0 non-null        float64\n",
      " 84  검사접수번호        1129094 non-null  object \n",
      " 85  검사소명          1129094 non-null  object \n",
      " 86  재검사기간         1129094 non-null  object \n",
      " 87  정기정밀          1129094 non-null  object \n",
      " 88  검사 검사소코드      894215 non-null   object \n",
      " 89  검사유효기간        894215 non-null   float64\n",
      "dtypes: float64(36), int64(4), object(50)\n",
      "memory usage: 791.5+ MB\n"
     ]
    }
   ],
   "source": [
    "# about 36s\n",
    "total = pd.read_csv(os.path.join(ods_fold, '[G4]등록&제원&정기&정밀(최신검사만).csv'), low_memory=False)\n",
    "total.info()"
   ]
  },
  {
   "cell_type": "code",
   "execution_count": 4,
   "metadata": {},
   "outputs": [
    {
     "data": {
      "text/plain": [
       "Index(['차량관리번호', '차량등록번호', '본거지법정동코드', '소유자구분', '차종_등록정보', '용도', '현재회원번호',\n",
       "       '차대번호', '최초등록일자', '차량연식_x', '차량제작일자', '배출가스검사유효일자', '제원관리번호',\n",
       "       '배출가스인증번호', '배출가스등급', '저공해조치YN(미사용)', '저공해조치종류', '저공해조치구조변경YN',\n",
       "       '차량등록번호숫자정보', '차량말소YN', '최초회원번호', '취득일자', '취득금액', '생성일시_등록정보',\n",
       "       '수정일시_등록정보', '차명_x', '차종_제원정보', '차종분류', '차종유형(소분류)', '자동차형식', '제작사명',\n",
       "       '연료', '엔진형식_x', '공차중량', '총중량', '적재중량', '엔진출력', '배기량', '승차인원', '차량길이',\n",
       "       '차량너비', '차량높이', '원산지명', '삭제YN', '승인일자', '구동형식', '변속기종류', '생성일시_제원정보',\n",
       "       '수정일시_제원정보', '사용연료', '주행거리', '차명_y', '차량번호', '차종', '차량연식_y', '엔진형식_y',\n",
       "       '검사방법', '검사일자', '검사종류', '검사판정시각', '검사판정', '산소값', '이산화탄소값', '무부하매연판정1',\n",
       "       '무부하매연판정2', '무부하매연판정3', '무부하매연판정4', '무부하매연판정5', '무부하매연판정6', '무부하매연허용치1',\n",
       "       '무부하매연허용치2', '무부하매연허용치3', '무부하매연허용치4', '무부하매연허용치5', '무부하매연허용치6',\n",
       "       '무부하매연측정치1', '무부하매연측정치2', '무부하매연측정치3', '무부하매연측정치4', '무부하매연측정치5',\n",
       "       '무부하매연측정치6', '차량용도', '최대출력허용치', '최대출력측정값', '검사접수번호', '검사소명', '재검사기간',\n",
       "       '정기정밀', '검사 검사소코드', '검사유효기간'],\n",
       "      dtype='object')"
      ]
     },
     "execution_count": 4,
     "metadata": {},
     "output_type": "execute_result"
    }
   ],
   "source": [
    "total.columns"
   ]
  },
  {
   "attachments": {},
   "cell_type": "markdown",
   "metadata": {},
   "source": [
    "## 차량연식과 차대번호10자리 연식 다른 데이터 제거"
   ]
  },
  {
   "cell_type": "code",
   "execution_count": 5,
   "metadata": {},
   "outputs": [
    {
     "data": {
      "text/html": [
       "<div>\n",
       "<style scoped>\n",
       "    .dataframe tbody tr th:only-of-type {\n",
       "        vertical-align: middle;\n",
       "    }\n",
       "\n",
       "    .dataframe tbody tr th {\n",
       "        vertical-align: top;\n",
       "    }\n",
       "\n",
       "    .dataframe thead th {\n",
       "        text-align: right;\n",
       "    }\n",
       "</style>\n",
       "<table border=\"1\" class=\"dataframe\">\n",
       "  <thead>\n",
       "    <tr style=\"text-align: right;\">\n",
       "      <th></th>\n",
       "      <th>차대번호</th>\n",
       "      <th>vin10</th>\n",
       "    </tr>\n",
       "  </thead>\n",
       "  <tbody>\n",
       "    <tr>\n",
       "      <th>0</th>\n",
       "      <td>KMFLA18KP8C028585</td>\n",
       "      <td>8</td>\n",
       "    </tr>\n",
       "    <tr>\n",
       "      <th>1</th>\n",
       "      <td>KMCLK18KP8C035195</td>\n",
       "      <td>8</td>\n",
       "    </tr>\n",
       "    <tr>\n",
       "      <th>2</th>\n",
       "      <td>KMFLA18KP8C031274</td>\n",
       "      <td>8</td>\n",
       "    </tr>\n",
       "    <tr>\n",
       "      <th>3</th>\n",
       "      <td>KMCGK17HP9C112030</td>\n",
       "      <td>9</td>\n",
       "    </tr>\n",
       "    <tr>\n",
       "      <th>4</th>\n",
       "      <td>KLACA26RD8B226753</td>\n",
       "      <td>8</td>\n",
       "    </tr>\n",
       "  </tbody>\n",
       "</table>\n",
       "</div>"
      ],
      "text/plain": [
       "                차대번호 vin10\n",
       "0  KMFLA18KP8C028585     8\n",
       "1  KMCLK18KP8C035195     8\n",
       "2  KMFLA18KP8C031274     8\n",
       "3  KMCGK17HP9C112030     9\n",
       "4  KLACA26RD8B226753     8"
      ]
     },
     "execution_count": 5,
     "metadata": {},
     "output_type": "execute_result"
    }
   ],
   "source": [
    "total['vin10'] = total['차대번호'].str[9]\n",
    "total[['차대번호', 'vin10']].head()"
   ]
  },
  {
   "cell_type": "code",
   "execution_count": 6,
   "metadata": {},
   "outputs": [],
   "source": [
    "vin10_dict = {'J':1988, 'K':1989, 'L':1990, 'M':1991, 'N':1992, 'P':1993, 'R':1994, 'S':1995, 'T':1996, 'V':1997, 'W':1998, 'X':1999, 'Y':2000, '1':2001, '2':2002, '3':2003, '4':2004, '5':2005, '6':2006, '7':2007, '8':2008, '9':2009, 'A':2010, 'B':2011, 'C':2012, 'D':2013, 'E':2014, 'F':2015, 'G':2016, 'H':2017}"
   ]
  },
  {
   "cell_type": "code",
   "execution_count": 7,
   "metadata": {},
   "outputs": [],
   "source": [
    "total['vin10_year'] = total['vin10'].map(vin10_dict, na_action='ignore')"
   ]
  },
  {
   "cell_type": "code",
   "execution_count": 8,
   "metadata": {},
   "outputs": [
    {
     "data": {
      "text/plain": [
       "(1152698, 92)"
      ]
     },
     "execution_count": 8,
     "metadata": {},
     "output_type": "execute_result"
    }
   ],
   "source": [
    "total.shape"
   ]
  },
  {
   "cell_type": "code",
   "execution_count": 9,
   "metadata": {},
   "outputs": [
    {
     "data": {
      "text/plain": [
       "2010.0    250181\n",
       "2011.0    235847\n",
       "2008.0    222602\n",
       "2009.0    210822\n",
       "2007.0    103939\n",
       "2012.0     93535\n",
       "2006.0     32595\n",
       "2005.0       941\n",
       "2017.0       732\n",
       "1988.0       485\n",
       "2016.0       482\n",
       "2015.0       463\n",
       "2013.0        30\n",
       "1989.0        14\n",
       "2014.0        14\n",
       "1990.0         3\n",
       "NaN            3\n",
       "2002.0         2\n",
       "2001.0         2\n",
       "2004.0         1\n",
       "2003.0         1\n",
       "1994.0         1\n",
       "1992.0         1\n",
       "1993.0         1\n",
       "1996.0         1\n",
       "Name: vin10_year, dtype: int64"
      ]
     },
     "execution_count": 9,
     "metadata": {},
     "output_type": "execute_result"
    }
   ],
   "source": [
    "total['vin10_year'].value_counts(dropna=False)"
   ]
  },
  {
   "attachments": {},
   "cell_type": "markdown",
   "metadata": {},
   "source": [
    "## [출력] 배인번호별 파일 출력"
   ]
  },
  {
   "attachments": {},
   "cell_type": "markdown",
   "metadata": {},
   "source": [
    "### 배출가스인증번호 str 타입으로 변경"
   ]
  },
  {
   "cell_type": "code",
   "execution_count": 10,
   "metadata": {},
   "outputs": [
    {
     "data": {
      "text/plain": [
       "7621"
      ]
     },
     "execution_count": 10,
     "metadata": {},
     "output_type": "execute_result"
    }
   ],
   "source": [
    "total['배출가스인증번호'].isnull().sum()"
   ]
  },
  {
   "cell_type": "code",
   "execution_count": 11,
   "metadata": {},
   "outputs": [],
   "source": [
    "total['배출가스인증번호'] = total['배출가스인증번호'].astype('str')"
   ]
  },
  {
   "cell_type": "code",
   "execution_count": 12,
   "metadata": {},
   "outputs": [
    {
     "data": {
      "text/plain": [
       "0"
      ]
     },
     "execution_count": 12,
     "metadata": {},
     "output_type": "execute_result"
    }
   ],
   "source": [
    "total['배출가스인증번호'].isnull().sum()"
   ]
  },
  {
   "attachments": {},
   "cell_type": "markdown",
   "metadata": {},
   "source": [
    "### 엔진형식 str 타입으로 변경\n",
    "- nan 값 존재"
   ]
  },
  {
   "cell_type": "code",
   "execution_count": 13,
   "metadata": {},
   "outputs": [
    {
     "data": {
      "text/plain": [
       "23615"
      ]
     },
     "execution_count": 13,
     "metadata": {},
     "output_type": "execute_result"
    }
   ],
   "source": [
    "total['엔진형식_y'].isnull().sum()"
   ]
  },
  {
   "cell_type": "code",
   "execution_count": 14,
   "metadata": {},
   "outputs": [],
   "source": [
    "total['엔진형식_y'] = total['엔진형식_y'].astype('str')"
   ]
  },
  {
   "cell_type": "code",
   "execution_count": 15,
   "metadata": {},
   "outputs": [
    {
     "data": {
      "text/plain": [
       "0"
      ]
     },
     "execution_count": 15,
     "metadata": {},
     "output_type": "execute_result"
    }
   ],
   "source": [
    "total['엔진형식_y'].isnull().sum()"
   ]
  },
  {
   "attachments": {},
   "cell_type": "markdown",
   "metadata": {},
   "source": [
    "### 검사판정 str 타입으로 변경"
   ]
  },
  {
   "cell_type": "code",
   "execution_count": 16,
   "metadata": {},
   "outputs": [
    {
     "data": {
      "text/plain": [
       "23604"
      ]
     },
     "execution_count": 16,
     "metadata": {},
     "output_type": "execute_result"
    }
   ],
   "source": [
    "total['검사판정'].isnull().sum()"
   ]
  },
  {
   "cell_type": "code",
   "execution_count": 17,
   "metadata": {},
   "outputs": [],
   "source": [
    "total['검사판정'] = total['검사판정'].astype('str')"
   ]
  },
  {
   "cell_type": "code",
   "execution_count": 18,
   "metadata": {},
   "outputs": [
    {
     "data": {
      "text/plain": [
       "0"
      ]
     },
     "execution_count": 18,
     "metadata": {},
     "output_type": "execute_result"
    }
   ],
   "source": [
    "total['검사판정'].isnull().sum()"
   ]
  },
  {
   "attachments": {},
   "cell_type": "markdown",
   "metadata": {},
   "source": [
    "#### [출력] 배인번호별 csv"
   ]
  },
  {
   "cell_type": "code",
   "execution_count": 54,
   "metadata": {},
   "outputs": [
    {
     "name": "stderr",
     "output_type": "stream",
     "text": [
      "100%|██████████| 207/207 [01:06<00:00,  3.11it/s]\n"
     ]
    }
   ],
   "source": [
    "# # about 1m 15s\n",
    "# # csv\n",
    "# for one in tqdm(total['배출가스인증번호'].unique()):\n",
    "#     total[total['배출가스인증번호'] == one].reset_index(drop=True).to_csv(f'D:/data/big2/BD1_4등급_데이터_점검1/과제1/{one}.csv', index=False, encoding='cp949')"
   ]
  },
  {
   "attachments": {},
   "cell_type": "markdown",
   "metadata": {},
   "source": [
    "#### [출력] 배인번호별 excel"
   ]
  },
  {
   "cell_type": "code",
   "execution_count": 24,
   "metadata": {},
   "outputs": [
    {
     "name": "stderr",
     "output_type": "stream",
     "text": [
      "100%|██████████| 207/207 [26:49<00:00,  7.78s/it] \n"
     ]
    }
   ],
   "source": [
    "# # about 27m 48s\n",
    "# # excel\n",
    "# for one in tqdm(total['배출가스인증번호'].unique()):\n",
    "#     total[total['배출가스인증번호'] == one].reset_index(drop=True).to_excel(f'D:/data/big2/BD1_4등급_데이터_점검1/과제1/{one}.xlsx', index=False)"
   ]
  },
  {
   "cell_type": "code",
   "execution_count": 55,
   "metadata": {},
   "outputs": [
    {
     "data": {
      "text/plain": [
       "제작사명           0\n",
       "검사판정           0\n",
       "무부하매연판정1     145\n",
       "무부하매연측정치1    145\n",
       "dtype: int64"
      ]
     },
     "execution_count": 55,
     "metadata": {},
     "output_type": "execute_result"
    }
   ],
   "source": [
    "total.loc[total['제작사명'] == 'SOFA차량', ['제작사명' ,'검사판정', '무부하매연판정1', '무부하매연측정치1']].isnull().sum()"
   ]
  },
  {
   "cell_type": "code",
   "execution_count": 56,
   "metadata": {},
   "outputs": [
    {
     "data": {
      "text/plain": [
       "(159, 4)"
      ]
     },
     "execution_count": 56,
     "metadata": {},
     "output_type": "execute_result"
    }
   ],
   "source": [
    "total.loc[total['제작사명'] == 'SOFA차량', ['제작사명' ,'검사판정', '무부하매연판정1', '무부하매연측정치1']].shape"
   ]
  },
  {
   "attachments": {},
   "cell_type": "markdown",
   "metadata": {},
   "source": [
    "# 배출가스 인증번호별 분석\n",
    "- issue\n",
    "    - 배인번호 없음 : 9MY-KM-14-22\n",
    "        - 차명 : 쏘렌토\n",
    "        - 등급변경 : 3 -> 4\n",
    "        - 아직 보류"
   ]
  },
  {
   "cell_type": "code",
   "execution_count": 217,
   "metadata": {},
   "outputs": [],
   "source": [
    "# check_df['배출가스인증번호'].to_list()"
   ]
  },
  {
   "cell_type": "code",
   "execution_count": 20,
   "metadata": {},
   "outputs": [],
   "source": [
    "test_df = pd.DataFrame()"
   ]
  },
  {
   "attachments": {},
   "cell_type": "markdown",
   "metadata": {},
   "source": [
    "## [로드] 배인번호 파일"
   ]
  },
  {
   "cell_type": "code",
   "execution_count": 21,
   "metadata": {},
   "outputs": [],
   "source": [
    "# 5MY-BK-14-07\n",
    "# 6MY-BK-13-08\n",
    "# 6MY-MK-14-02\n",
    "# 5MY-HD-24-35"
   ]
  },
  {
   "cell_type": "code",
   "execution_count": 57,
   "metadata": {},
   "outputs": [],
   "source": [
    "gas_nm_fold = 'D:/data/big2/BD1_4등급_데이터_점검1/과제1'"
   ]
  },
  {
   "cell_type": "code",
   "execution_count": 86,
   "metadata": {},
   "outputs": [
    {
     "data": {
      "text/plain": [
       "(1190, 92)"
      ]
     },
     "execution_count": 86,
     "metadata": {},
     "output_type": "execute_result"
    }
   ],
   "source": [
    "gas_nm = '5MY-HD-24-35'\n",
    "file_name = f'{gas_nm}.xlsx'\n",
    "gas_df = pd.read_excel(os.path.join(gas_nm_fold, file_name))\n",
    "gas_df.shape"
   ]
  },
  {
   "cell_type": "code",
   "execution_count": 87,
   "metadata": {},
   "outputs": [],
   "source": [
    "# gas_df.columns"
   ]
  },
  {
   "attachments": {},
   "cell_type": "markdown",
   "metadata": {},
   "source": [
    "### 전처리\n",
    "- 제거\n",
    "    - 차대번호 17자리 아닌 샘플\n",
    "    - 차대번호 10자리와 차량연식이 다른 샘플"
   ]
  },
  {
   "attachments": {},
   "cell_type": "markdown",
   "metadata": {},
   "source": [
    "#### [출력] 차대번호17자리 아닌 샘플"
   ]
  },
  {
   "cell_type": "code",
   "execution_count": 19,
   "metadata": {},
   "outputs": [
    {
     "ename": "NameError",
     "evalue": "name 'gas_df' is not defined",
     "output_type": "error",
     "traceback": [
      "\u001b[1;31m---------------------------------------------------------------------------\u001b[0m",
      "\u001b[1;31mNameError\u001b[0m                                 Traceback (most recent call last)",
      "\u001b[1;32m~\\AppData\\Local\\Temp\\ipykernel_15588\\1584375812.py\u001b[0m in \u001b[0;36m<module>\u001b[1;34m\u001b[0m\n\u001b[1;32m----> 1\u001b[1;33m \u001b[0mgas_df_vin17_y\u001b[0m \u001b[1;33m=\u001b[0m \u001b[0mgas_df\u001b[0m\u001b[1;33m[\u001b[0m\u001b[1;33m(\u001b[0m\u001b[0mgas_df\u001b[0m\u001b[1;33m[\u001b[0m\u001b[1;34m'차대번호'\u001b[0m\u001b[1;33m]\u001b[0m\u001b[1;33m.\u001b[0m\u001b[0mstr\u001b[0m\u001b[1;33m.\u001b[0m\u001b[0mlen\u001b[0m\u001b[1;33m(\u001b[0m\u001b[1;33m)\u001b[0m \u001b[1;33m==\u001b[0m \u001b[1;36m17\u001b[0m\u001b[1;33m)\u001b[0m\u001b[1;33m]\u001b[0m\u001b[1;33m.\u001b[0m\u001b[0mreset_index\u001b[0m\u001b[1;33m(\u001b[0m\u001b[0mdrop\u001b[0m\u001b[1;33m=\u001b[0m\u001b[1;32mTrue\u001b[0m\u001b[1;33m)\u001b[0m\u001b[1;33m\u001b[0m\u001b[1;33m\u001b[0m\u001b[0m\n\u001b[0m\u001b[0;32m      2\u001b[0m \u001b[0mgas_df_vin17_n\u001b[0m \u001b[1;33m=\u001b[0m \u001b[0mgas_df\u001b[0m\u001b[1;33m[\u001b[0m\u001b[1;33m(\u001b[0m\u001b[0mgas_df\u001b[0m\u001b[1;33m[\u001b[0m\u001b[1;34m'차대번호'\u001b[0m\u001b[1;33m]\u001b[0m\u001b[1;33m.\u001b[0m\u001b[0mstr\u001b[0m\u001b[1;33m.\u001b[0m\u001b[0mlen\u001b[0m\u001b[1;33m(\u001b[0m\u001b[1;33m)\u001b[0m \u001b[1;33m!=\u001b[0m \u001b[1;36m17\u001b[0m\u001b[1;33m)\u001b[0m\u001b[1;33m]\u001b[0m\u001b[1;33m.\u001b[0m\u001b[0mreset_index\u001b[0m\u001b[1;33m(\u001b[0m\u001b[0mdrop\u001b[0m\u001b[1;33m=\u001b[0m\u001b[1;32mTrue\u001b[0m\u001b[1;33m)\u001b[0m\u001b[1;33m\u001b[0m\u001b[1;33m\u001b[0m\u001b[0m\n\u001b[0;32m      3\u001b[0m \u001b[0mgas_df_vin17_y\u001b[0m\u001b[1;33m.\u001b[0m\u001b[0mshape\u001b[0m\u001b[1;33m,\u001b[0m \u001b[0mgas_df_vin17_n\u001b[0m\u001b[1;33m.\u001b[0m\u001b[0mshape\u001b[0m\u001b[1;33m\u001b[0m\u001b[1;33m\u001b[0m\u001b[0m\n",
      "\u001b[1;31mNameError\u001b[0m: name 'gas_df' is not defined"
     ]
    }
   ],
   "source": [
    "gas_df_vin17_y = gas_df[(gas_df['차대번호'].str.len() == 17)].reset_index(drop=True)\n",
    "gas_df_vin17_n = gas_df[(gas_df['차대번호'].str.len() != 17)].reset_index(drop=True)\n",
    "gas_df_vin17_y.shape, gas_df_vin17_n.shape"
   ]
  },
  {
   "cell_type": "code",
   "execution_count": 20,
   "metadata": {},
   "outputs": [],
   "source": [
    "# gas_df_vin17_n.to_excel(os.path.join(gas_nm_fold, f'샘플_차대번호17자리아닌_{gas_nm}.xlsx'), index=False)"
   ]
  },
  {
   "attachments": {},
   "cell_type": "markdown",
   "metadata": {},
   "source": [
    "#### [출력] 차대번호10자리 연도와 차량연식 다른 샘플"
   ]
  },
  {
   "cell_type": "code",
   "execution_count": 90,
   "metadata": {},
   "outputs": [
    {
     "data": {
      "text/plain": [
       "((1146, 92), (44, 92))"
      ]
     },
     "execution_count": 90,
     "metadata": {},
     "output_type": "execute_result"
    }
   ],
   "source": [
    "gas_df_vin17_y_vin10_year_y = gas_df_vin17_y[gas_df_vin17_y['vin10_year'] == gas_df_vin17_y['차량연식_y']].reset_index(drop=True)\n",
    "gas_df_vin17_y_vin10_year_n = gas_df_vin17_y[gas_df_vin17_y['vin10_year'] != gas_df_vin17_y['차량연식_y']].reset_index(drop=True)\n",
    "gas_df_vin17_y_vin10_year_y.shape, gas_df_vin17_y_vin10_year_n.shape"
   ]
  },
  {
   "cell_type": "code",
   "execution_count": 91,
   "metadata": {},
   "outputs": [],
   "source": [
    "# gas_df_vin17_y_vin10_year_n.to_excel(os.path.join(gas_nm_fold, f'샘플_차대번호17자리_차량연식다른_{gas_nm}.xlsx'), index=False)"
   ]
  },
  {
   "attachments": {},
   "cell_type": "markdown",
   "metadata": {},
   "source": [
    "#### [출력] 배인번호 해당 제작사가 아닌 샘플\n",
    "- 자가인증면제차량과 SOFA차량 포함(검사 받지 않는 차량)\n",
    "    - SOFA차량은 따로 대수 통계"
   ]
  },
  {
   "cell_type": "code",
   "execution_count": 92,
   "metadata": {},
   "outputs": [
    {
     "data": {
      "text/plain": [
       "array(['현대자동차(주)'], dtype=object)"
      ]
     },
     "execution_count": 92,
     "metadata": {},
     "output_type": "execute_result"
    }
   ],
   "source": [
    "gas_df_vin17_y_vin10_year_y['제작사명'].unique()"
   ]
  },
  {
   "cell_type": "code",
   "execution_count": 93,
   "metadata": {},
   "outputs": [
    {
     "data": {
      "text/plain": [
       "'현대자동차(주)'"
      ]
     },
     "execution_count": 93,
     "metadata": {},
     "output_type": "execute_result"
    }
   ],
   "source": [
    "productor_name = gas_df_vin17_y_vin10_year_y['제작사명'].unique()[0]\n",
    "productor_name"
   ]
  },
  {
   "cell_type": "code",
   "execution_count": 94,
   "metadata": {},
   "outputs": [
    {
     "data": {
      "text/plain": [
       "((1146, 92), (0, 92))"
      ]
     },
     "execution_count": 94,
     "metadata": {},
     "output_type": "execute_result"
    }
   ],
   "source": [
    "gas_df_vin17_y_vin10_year_y_product_y = gas_df_vin17_y_vin10_year_y[(gas_df_vin17_y_vin10_year_y['제작사명'] == productor_name) | (gas_df_vin17_y_vin10_year_y['제작사명'] == '자가인증면제차량') | (gas_df_vin17_y_vin10_year_y['제작사명'] == 'SOFA차량')].reset_index(drop=True)\n",
    "gas_df_vin17_y_vin10_year_y_product_n = gas_df_vin17_y_vin10_year_y[(gas_df_vin17_y_vin10_year_y['제작사명'] != productor_name) & (gas_df_vin17_y_vin10_year_y['제작사명'] != '자가인증면제차량') & (gas_df_vin17_y_vin10_year_y['제작사명'] != 'SOFA차량')].reset_index(drop=True)\n",
    "gas_df_vin17_y_vin10_year_y_product_y.shape, gas_df_vin17_y_vin10_year_y_product_n.shape"
   ]
  },
  {
   "cell_type": "code",
   "execution_count": 95,
   "metadata": {},
   "outputs": [],
   "source": [
    "# gas_df_vin17_y_vin10_year_y_product_n.to_excel(os.path.join(gas_nm_fold, f'샘플_차대번호17자리_차량연식다른_해당제작사아닌_{gas_nm}.xlsx'), index=False)"
   ]
  },
  {
   "attachments": {},
   "cell_type": "markdown",
   "metadata": {},
   "source": [
    "### 분석\n",
    "- 제원관리번호별, 자동차형식별, 엔진형식별, 검사판정별 무부하매연측정치1 통계"
   ]
  },
  {
   "cell_type": "code",
   "execution_count": 96,
   "metadata": {},
   "outputs": [
    {
     "data": {
      "text/plain": [
       "dtype('float64')"
      ]
     },
     "execution_count": 96,
     "metadata": {},
     "output_type": "execute_result"
    }
   ],
   "source": [
    "gas_df_vin17_y_vin10_year_y_product_y['무부하매연측정치1'].dtype"
   ]
  },
  {
   "cell_type": "code",
   "execution_count": 97,
   "metadata": {},
   "outputs": [
    {
     "data": {
      "text/plain": [
       "9"
      ]
     },
     "execution_count": 97,
     "metadata": {},
     "output_type": "execute_result"
    }
   ],
   "source": [
    "gas_df_vin17_y_vin10_year_y_product_y['무부하매연측정치1'].isnull().sum()"
   ]
  },
  {
   "cell_type": "code",
   "execution_count": 98,
   "metadata": {},
   "outputs": [],
   "source": [
    "def flat_cols(df):\n",
    "    df.columns = ['/'.join(x) for x in df.columns.to_flat_index()]\n",
    "    return df"
   ]
  },
  {
   "cell_type": "code",
   "execution_count": 99,
   "metadata": {},
   "outputs": [
    {
     "data": {
      "text/html": [
       "<div>\n",
       "<style scoped>\n",
       "    .dataframe tbody tr th:only-of-type {\n",
       "        vertical-align: middle;\n",
       "    }\n",
       "\n",
       "    .dataframe tbody tr th {\n",
       "        vertical-align: top;\n",
       "    }\n",
       "\n",
       "    .dataframe thead th {\n",
       "        text-align: right;\n",
       "    }\n",
       "</style>\n",
       "<table border=\"1\" class=\"dataframe\">\n",
       "  <thead>\n",
       "    <tr style=\"text-align: right;\">\n",
       "      <th></th>\n",
       "      <th>제작사명</th>\n",
       "      <th>배출가스인증번호</th>\n",
       "      <th>제원관리번호</th>\n",
       "      <th>자동차형식</th>\n",
       "      <th>엔진형식</th>\n",
       "      <th>검사판정</th>\n",
       "      <th>대수</th>\n",
       "      <th>mean</th>\n",
       "      <th>min</th>\n",
       "      <th>max</th>\n",
       "    </tr>\n",
       "  </thead>\n",
       "  <tbody>\n",
       "    <tr>\n",
       "      <th>0</th>\n",
       "      <td>현대자동차(주)</td>\n",
       "      <td>5MY-HD-24-35</td>\n",
       "      <td>A0810006700341105</td>\n",
       "      <td>MC-D15-A1A</td>\n",
       "      <td>D4FA</td>\n",
       "      <td>N</td>\n",
       "      <td>69</td>\n",
       "      <td>47.12</td>\n",
       "      <td>6.0</td>\n",
       "      <td>92.0</td>\n",
       "    </tr>\n",
       "    <tr>\n",
       "      <th>1</th>\n",
       "      <td>현대자동차(주)</td>\n",
       "      <td>5MY-HD-24-35</td>\n",
       "      <td>A0810006700341105</td>\n",
       "      <td>MC-D15-A1A</td>\n",
       "      <td>D4FA</td>\n",
       "      <td>Y</td>\n",
       "      <td>467</td>\n",
       "      <td>12.12</td>\n",
       "      <td>0.0</td>\n",
       "      <td>41.0</td>\n",
       "    </tr>\n",
       "    <tr>\n",
       "      <th>2</th>\n",
       "      <td>현대자동차(주)</td>\n",
       "      <td>5MY-HD-24-35</td>\n",
       "      <td>A0810006700351105</td>\n",
       "      <td>MC-D15-M1A</td>\n",
       "      <td>D4FA</td>\n",
       "      <td>N</td>\n",
       "      <td>3</td>\n",
       "      <td>15.33</td>\n",
       "      <td>0.0</td>\n",
       "      <td>36.0</td>\n",
       "    </tr>\n",
       "    <tr>\n",
       "      <th>3</th>\n",
       "      <td>현대자동차(주)</td>\n",
       "      <td>5MY-HD-24-35</td>\n",
       "      <td>A0810006700351105</td>\n",
       "      <td>MC-D15-M1A</td>\n",
       "      <td>D4FA</td>\n",
       "      <td>Y</td>\n",
       "      <td>33</td>\n",
       "      <td>11.97</td>\n",
       "      <td>0.0</td>\n",
       "      <td>32.0</td>\n",
       "    </tr>\n",
       "    <tr>\n",
       "      <th>4</th>\n",
       "      <td>현대자동차(주)</td>\n",
       "      <td>5MY-HD-24-35</td>\n",
       "      <td>A0810006700381105</td>\n",
       "      <td>MC-D15-A1SA</td>\n",
       "      <td>D4FA</td>\n",
       "      <td>Y</td>\n",
       "      <td>1</td>\n",
       "      <td>9.00</td>\n",
       "      <td>9.0</td>\n",
       "      <td>9.0</td>\n",
       "    </tr>\n",
       "    <tr>\n",
       "      <th>5</th>\n",
       "      <td>현대자동차(주)</td>\n",
       "      <td>5MY-HD-24-35</td>\n",
       "      <td>A0810006700421105</td>\n",
       "      <td>MC-D15GS-A1A</td>\n",
       "      <td>D4FA</td>\n",
       "      <td>N</td>\n",
       "      <td>48</td>\n",
       "      <td>43.43</td>\n",
       "      <td>8.0</td>\n",
       "      <td>96.0</td>\n",
       "    </tr>\n",
       "    <tr>\n",
       "      <th>6</th>\n",
       "      <td>현대자동차(주)</td>\n",
       "      <td>5MY-HD-24-35</td>\n",
       "      <td>A0810006700421105</td>\n",
       "      <td>MC-D15GS-A1A</td>\n",
       "      <td>D4FA</td>\n",
       "      <td>Y</td>\n",
       "      <td>321</td>\n",
       "      <td>11.91</td>\n",
       "      <td>0.0</td>\n",
       "      <td>41.0</td>\n",
       "    </tr>\n",
       "    <tr>\n",
       "      <th>7</th>\n",
       "      <td>현대자동차(주)</td>\n",
       "      <td>5MY-HD-24-35</td>\n",
       "      <td>A0810006700431105</td>\n",
       "      <td>MC-D15GS-M1A</td>\n",
       "      <td>D4FA</td>\n",
       "      <td>N</td>\n",
       "      <td>4</td>\n",
       "      <td>53.67</td>\n",
       "      <td>41.0</td>\n",
       "      <td>74.0</td>\n",
       "    </tr>\n",
       "    <tr>\n",
       "      <th>8</th>\n",
       "      <td>현대자동차(주)</td>\n",
       "      <td>5MY-HD-24-35</td>\n",
       "      <td>A0810006700431105</td>\n",
       "      <td>MC-D15GS-M1A</td>\n",
       "      <td>D4FA</td>\n",
       "      <td>Y</td>\n",
       "      <td>28</td>\n",
       "      <td>15.43</td>\n",
       "      <td>2.0</td>\n",
       "      <td>29.0</td>\n",
       "    </tr>\n",
       "    <tr>\n",
       "      <th>9</th>\n",
       "      <td>현대자동차(주)</td>\n",
       "      <td>5MY-HD-24-35</td>\n",
       "      <td>A0810006700461105</td>\n",
       "      <td>MC-D15GS-A1SA</td>\n",
       "      <td>D4FA</td>\n",
       "      <td>N</td>\n",
       "      <td>1</td>\n",
       "      <td>51.00</td>\n",
       "      <td>51.0</td>\n",
       "      <td>51.0</td>\n",
       "    </tr>\n",
       "    <tr>\n",
       "      <th>10</th>\n",
       "      <td>현대자동차(주)</td>\n",
       "      <td>5MY-HD-24-35</td>\n",
       "      <td>A0810006700461105</td>\n",
       "      <td>MC-D15GS-A1SA</td>\n",
       "      <td>D4FA</td>\n",
       "      <td>Y</td>\n",
       "      <td>10</td>\n",
       "      <td>11.10</td>\n",
       "      <td>0.0</td>\n",
       "      <td>25.0</td>\n",
       "    </tr>\n",
       "    <tr>\n",
       "      <th>11</th>\n",
       "      <td>현대자동차(주)</td>\n",
       "      <td>5MY-HD-24-35</td>\n",
       "      <td>A0810006700471105</td>\n",
       "      <td>MC-D15GS-M1SA</td>\n",
       "      <td>D4FA</td>\n",
       "      <td>Y</td>\n",
       "      <td>1</td>\n",
       "      <td>24.00</td>\n",
       "      <td>24.0</td>\n",
       "      <td>24.0</td>\n",
       "    </tr>\n",
       "    <tr>\n",
       "      <th>12</th>\n",
       "      <td>현대자동차(주)</td>\n",
       "      <td>5MY-HD-24-35</td>\n",
       "      <td>A0810006701721106</td>\n",
       "      <td>MC-D15-M3A</td>\n",
       "      <td>D4FA</td>\n",
       "      <td>N</td>\n",
       "      <td>1</td>\n",
       "      <td>53.00</td>\n",
       "      <td>53.0</td>\n",
       "      <td>53.0</td>\n",
       "    </tr>\n",
       "    <tr>\n",
       "      <th>13</th>\n",
       "      <td>현대자동차(주)</td>\n",
       "      <td>5MY-HD-24-35</td>\n",
       "      <td>A0810006701721106</td>\n",
       "      <td>MC-D15-M3A</td>\n",
       "      <td>D4FA</td>\n",
       "      <td>Y</td>\n",
       "      <td>9</td>\n",
       "      <td>12.44</td>\n",
       "      <td>3.0</td>\n",
       "      <td>35.0</td>\n",
       "    </tr>\n",
       "    <tr>\n",
       "      <th>14</th>\n",
       "      <td>현대자동차(주)</td>\n",
       "      <td>5MY-HD-24-35</td>\n",
       "      <td>A0810006701731106</td>\n",
       "      <td>MC-D15-A3A</td>\n",
       "      <td>D4FA</td>\n",
       "      <td>N</td>\n",
       "      <td>12</td>\n",
       "      <td>43.00</td>\n",
       "      <td>27.0</td>\n",
       "      <td>64.0</td>\n",
       "    </tr>\n",
       "    <tr>\n",
       "      <th>15</th>\n",
       "      <td>현대자동차(주)</td>\n",
       "      <td>5MY-HD-24-35</td>\n",
       "      <td>A0810006701731106</td>\n",
       "      <td>MC-D15-A3A</td>\n",
       "      <td>D4FA</td>\n",
       "      <td>Y</td>\n",
       "      <td>101</td>\n",
       "      <td>13.42</td>\n",
       "      <td>0.0</td>\n",
       "      <td>44.0</td>\n",
       "    </tr>\n",
       "    <tr>\n",
       "      <th>16</th>\n",
       "      <td>현대자동차(주)</td>\n",
       "      <td>5MY-HD-24-35</td>\n",
       "      <td>A0810006701801106</td>\n",
       "      <td>MC-D15GS-M3A</td>\n",
       "      <td>D4FA</td>\n",
       "      <td>N</td>\n",
       "      <td>1</td>\n",
       "      <td>1.00</td>\n",
       "      <td>1.0</td>\n",
       "      <td>1.0</td>\n",
       "    </tr>\n",
       "    <tr>\n",
       "      <th>17</th>\n",
       "      <td>현대자동차(주)</td>\n",
       "      <td>5MY-HD-24-35</td>\n",
       "      <td>A0810006701801106</td>\n",
       "      <td>MC-D15GS-M3A</td>\n",
       "      <td>D4FA</td>\n",
       "      <td>Y</td>\n",
       "      <td>5</td>\n",
       "      <td>15.40</td>\n",
       "      <td>5.0</td>\n",
       "      <td>39.0</td>\n",
       "    </tr>\n",
       "    <tr>\n",
       "      <th>18</th>\n",
       "      <td>현대자동차(주)</td>\n",
       "      <td>5MY-HD-24-35</td>\n",
       "      <td>A0810006701811106</td>\n",
       "      <td>MC-D15GS-A3A</td>\n",
       "      <td>D4FA</td>\n",
       "      <td>N</td>\n",
       "      <td>3</td>\n",
       "      <td>45.67</td>\n",
       "      <td>37.0</td>\n",
       "      <td>53.0</td>\n",
       "    </tr>\n",
       "    <tr>\n",
       "      <th>19</th>\n",
       "      <td>현대자동차(주)</td>\n",
       "      <td>5MY-HD-24-35</td>\n",
       "      <td>A0810006701811106</td>\n",
       "      <td>MC-D15GS-A3A</td>\n",
       "      <td>D4FA</td>\n",
       "      <td>Y</td>\n",
       "      <td>28</td>\n",
       "      <td>10.29</td>\n",
       "      <td>0.0</td>\n",
       "      <td>25.0</td>\n",
       "    </tr>\n",
       "  </tbody>\n",
       "</table>\n",
       "</div>"
      ],
      "text/plain": [
       "        제작사명      배출가스인증번호             제원관리번호          자동차형식  엔진형식 검사판정   대수  \\\n",
       "0   현대자동차(주)  5MY-HD-24-35  A0810006700341105     MC-D15-A1A  D4FA    N   69   \n",
       "1   현대자동차(주)  5MY-HD-24-35  A0810006700341105     MC-D15-A1A  D4FA    Y  467   \n",
       "2   현대자동차(주)  5MY-HD-24-35  A0810006700351105     MC-D15-M1A  D4FA    N    3   \n",
       "3   현대자동차(주)  5MY-HD-24-35  A0810006700351105     MC-D15-M1A  D4FA    Y   33   \n",
       "4   현대자동차(주)  5MY-HD-24-35  A0810006700381105    MC-D15-A1SA  D4FA    Y    1   \n",
       "5   현대자동차(주)  5MY-HD-24-35  A0810006700421105   MC-D15GS-A1A  D4FA    N   48   \n",
       "6   현대자동차(주)  5MY-HD-24-35  A0810006700421105   MC-D15GS-A1A  D4FA    Y  321   \n",
       "7   현대자동차(주)  5MY-HD-24-35  A0810006700431105   MC-D15GS-M1A  D4FA    N    4   \n",
       "8   현대자동차(주)  5MY-HD-24-35  A0810006700431105   MC-D15GS-M1A  D4FA    Y   28   \n",
       "9   현대자동차(주)  5MY-HD-24-35  A0810006700461105  MC-D15GS-A1SA  D4FA    N    1   \n",
       "10  현대자동차(주)  5MY-HD-24-35  A0810006700461105  MC-D15GS-A1SA  D4FA    Y   10   \n",
       "11  현대자동차(주)  5MY-HD-24-35  A0810006700471105  MC-D15GS-M1SA  D4FA    Y    1   \n",
       "12  현대자동차(주)  5MY-HD-24-35  A0810006701721106     MC-D15-M3A  D4FA    N    1   \n",
       "13  현대자동차(주)  5MY-HD-24-35  A0810006701721106     MC-D15-M3A  D4FA    Y    9   \n",
       "14  현대자동차(주)  5MY-HD-24-35  A0810006701731106     MC-D15-A3A  D4FA    N   12   \n",
       "15  현대자동차(주)  5MY-HD-24-35  A0810006701731106     MC-D15-A3A  D4FA    Y  101   \n",
       "16  현대자동차(주)  5MY-HD-24-35  A0810006701801106   MC-D15GS-M3A  D4FA    N    1   \n",
       "17  현대자동차(주)  5MY-HD-24-35  A0810006701801106   MC-D15GS-M3A  D4FA    Y    5   \n",
       "18  현대자동차(주)  5MY-HD-24-35  A0810006701811106   MC-D15GS-A3A  D4FA    N    3   \n",
       "19  현대자동차(주)  5MY-HD-24-35  A0810006701811106   MC-D15GS-A3A  D4FA    Y   28   \n",
       "\n",
       "     mean   min   max  \n",
       "0   47.12   6.0  92.0  \n",
       "1   12.12   0.0  41.0  \n",
       "2   15.33   0.0  36.0  \n",
       "3   11.97   0.0  32.0  \n",
       "4    9.00   9.0   9.0  \n",
       "5   43.43   8.0  96.0  \n",
       "6   11.91   0.0  41.0  \n",
       "7   53.67  41.0  74.0  \n",
       "8   15.43   2.0  29.0  \n",
       "9   51.00  51.0  51.0  \n",
       "10  11.10   0.0  25.0  \n",
       "11  24.00  24.0  24.0  \n",
       "12  53.00  53.0  53.0  \n",
       "13  12.44   3.0  35.0  \n",
       "14  43.00  27.0  64.0  \n",
       "15  13.42   0.0  44.0  \n",
       "16   1.00   1.0   1.0  \n",
       "17  15.40   5.0  39.0  \n",
       "18  45.67  37.0  53.0  \n",
       "19  10.29   0.0  25.0  "
      ]
     },
     "execution_count": 99,
     "metadata": {},
     "output_type": "execute_result"
    }
   ],
   "source": [
    "g = gas_df_vin17_y_vin10_year_y_product_y.groupby(['제작사명', '배출가스인증번호', '제원관리번호', '자동차형식', '엔진형식_y', '검사판정'], dropna=False, ).agg({'차대번호':'count', '무부하매연측정치1':['mean', 'min', 'max']}).pipe(flat_cols).round(2).reset_index()\n",
    "g = g.rename(columns={'엔진형식_y':'엔진형식', '차대번호/count':'대수', '무부하매연측정치1/mean':'mean', '무부하매연측정치1/min':'min', '무부하매연측정치1/max':'max'})\n",
    "g"
   ]
  },
  {
   "cell_type": "code",
   "execution_count": 100,
   "metadata": {},
   "outputs": [
    {
     "data": {
      "text/plain": [
       "Index(['제작사명', '배출가스인증번호', '제원관리번호', '자동차형식', '엔진형식', '검사판정', '대수', 'mean',\n",
       "       'min', 'max'],\n",
       "      dtype='object')"
      ]
     },
     "execution_count": 100,
     "metadata": {},
     "output_type": "execute_result"
    }
   ],
   "source": [
    "g.columns"
   ]
  },
  {
   "cell_type": "code",
   "execution_count": 101,
   "metadata": {},
   "outputs": [
    {
     "data": {
      "text/plain": [
       "array(['A0810006700341105', 'A0810006700351105', 'A0810006700381105',\n",
       "       'A0810006700421105', 'A0810006700431105', 'A0810006700461105',\n",
       "       'A0810006700471105', 'A0810006701721106', 'A0810006701731106',\n",
       "       'A0810006701801106', 'A0810006701811106'], dtype=object)"
      ]
     },
     "execution_count": 101,
     "metadata": {},
     "output_type": "execute_result"
    }
   ],
   "source": [
    "g['제원관리번호'].unique()"
   ]
  },
  {
   "cell_type": "code",
   "execution_count": 102,
   "metadata": {},
   "outputs": [],
   "source": [
    "concat_two = pd.DataFrame()\n",
    "for two in g['제원관리번호'].unique():\n",
    "    for three in g['엔진형식'].unique():\n",
    "        temp = g[(g['제원관리번호'] == two) & (g['엔진형식'] == three)].copy()\n",
    "        temp['엔진형식/sum'] = temp['대수'].sum()\n",
    "        temp['검사판정비율'] = temp['대수'] / temp['엔진형식/sum']\n",
    "        concat_two = pd.concat([concat_two, temp], ignore_index=True)"
   ]
  },
  {
   "cell_type": "code",
   "execution_count": 103,
   "metadata": {},
   "outputs": [
    {
     "data": {
      "text/html": [
       "<div>\n",
       "<style scoped>\n",
       "    .dataframe tbody tr th:only-of-type {\n",
       "        vertical-align: middle;\n",
       "    }\n",
       "\n",
       "    .dataframe tbody tr th {\n",
       "        vertical-align: top;\n",
       "    }\n",
       "\n",
       "    .dataframe thead th {\n",
       "        text-align: right;\n",
       "    }\n",
       "</style>\n",
       "<table border=\"1\" class=\"dataframe\">\n",
       "  <thead>\n",
       "    <tr style=\"text-align: right;\">\n",
       "      <th></th>\n",
       "      <th>제작사명</th>\n",
       "      <th>배출가스인증번호</th>\n",
       "      <th>제원관리번호</th>\n",
       "      <th>자동차형식</th>\n",
       "      <th>엔진형식</th>\n",
       "      <th>검사판정</th>\n",
       "      <th>대수</th>\n",
       "      <th>mean</th>\n",
       "      <th>min</th>\n",
       "      <th>max</th>\n",
       "      <th>엔진형식/sum</th>\n",
       "      <th>검사판정비율</th>\n",
       "    </tr>\n",
       "  </thead>\n",
       "  <tbody>\n",
       "    <tr>\n",
       "      <th>0</th>\n",
       "      <td>현대자동차(주)</td>\n",
       "      <td>5MY-HD-24-35</td>\n",
       "      <td>A0810006700341105</td>\n",
       "      <td>MC-D15-A1A</td>\n",
       "      <td>D4FA</td>\n",
       "      <td>N</td>\n",
       "      <td>69</td>\n",
       "      <td>47.12</td>\n",
       "      <td>6.0</td>\n",
       "      <td>92.0</td>\n",
       "      <td>536</td>\n",
       "      <td>0.128731</td>\n",
       "    </tr>\n",
       "    <tr>\n",
       "      <th>1</th>\n",
       "      <td>현대자동차(주)</td>\n",
       "      <td>5MY-HD-24-35</td>\n",
       "      <td>A0810006700341105</td>\n",
       "      <td>MC-D15-A1A</td>\n",
       "      <td>D4FA</td>\n",
       "      <td>Y</td>\n",
       "      <td>467</td>\n",
       "      <td>12.12</td>\n",
       "      <td>0.0</td>\n",
       "      <td>41.0</td>\n",
       "      <td>536</td>\n",
       "      <td>0.871269</td>\n",
       "    </tr>\n",
       "    <tr>\n",
       "      <th>2</th>\n",
       "      <td>현대자동차(주)</td>\n",
       "      <td>5MY-HD-24-35</td>\n",
       "      <td>A0810006700351105</td>\n",
       "      <td>MC-D15-M1A</td>\n",
       "      <td>D4FA</td>\n",
       "      <td>N</td>\n",
       "      <td>3</td>\n",
       "      <td>15.33</td>\n",
       "      <td>0.0</td>\n",
       "      <td>36.0</td>\n",
       "      <td>36</td>\n",
       "      <td>0.083333</td>\n",
       "    </tr>\n",
       "    <tr>\n",
       "      <th>3</th>\n",
       "      <td>현대자동차(주)</td>\n",
       "      <td>5MY-HD-24-35</td>\n",
       "      <td>A0810006700351105</td>\n",
       "      <td>MC-D15-M1A</td>\n",
       "      <td>D4FA</td>\n",
       "      <td>Y</td>\n",
       "      <td>33</td>\n",
       "      <td>11.97</td>\n",
       "      <td>0.0</td>\n",
       "      <td>32.0</td>\n",
       "      <td>36</td>\n",
       "      <td>0.916667</td>\n",
       "    </tr>\n",
       "    <tr>\n",
       "      <th>4</th>\n",
       "      <td>현대자동차(주)</td>\n",
       "      <td>5MY-HD-24-35</td>\n",
       "      <td>A0810006700381105</td>\n",
       "      <td>MC-D15-A1SA</td>\n",
       "      <td>D4FA</td>\n",
       "      <td>Y</td>\n",
       "      <td>1</td>\n",
       "      <td>9.00</td>\n",
       "      <td>9.0</td>\n",
       "      <td>9.0</td>\n",
       "      <td>1</td>\n",
       "      <td>1.000000</td>\n",
       "    </tr>\n",
       "    <tr>\n",
       "      <th>5</th>\n",
       "      <td>현대자동차(주)</td>\n",
       "      <td>5MY-HD-24-35</td>\n",
       "      <td>A0810006700421105</td>\n",
       "      <td>MC-D15GS-A1A</td>\n",
       "      <td>D4FA</td>\n",
       "      <td>N</td>\n",
       "      <td>48</td>\n",
       "      <td>43.43</td>\n",
       "      <td>8.0</td>\n",
       "      <td>96.0</td>\n",
       "      <td>369</td>\n",
       "      <td>0.130081</td>\n",
       "    </tr>\n",
       "    <tr>\n",
       "      <th>6</th>\n",
       "      <td>현대자동차(주)</td>\n",
       "      <td>5MY-HD-24-35</td>\n",
       "      <td>A0810006700421105</td>\n",
       "      <td>MC-D15GS-A1A</td>\n",
       "      <td>D4FA</td>\n",
       "      <td>Y</td>\n",
       "      <td>321</td>\n",
       "      <td>11.91</td>\n",
       "      <td>0.0</td>\n",
       "      <td>41.0</td>\n",
       "      <td>369</td>\n",
       "      <td>0.869919</td>\n",
       "    </tr>\n",
       "    <tr>\n",
       "      <th>7</th>\n",
       "      <td>현대자동차(주)</td>\n",
       "      <td>5MY-HD-24-35</td>\n",
       "      <td>A0810006700431105</td>\n",
       "      <td>MC-D15GS-M1A</td>\n",
       "      <td>D4FA</td>\n",
       "      <td>N</td>\n",
       "      <td>4</td>\n",
       "      <td>53.67</td>\n",
       "      <td>41.0</td>\n",
       "      <td>74.0</td>\n",
       "      <td>32</td>\n",
       "      <td>0.125000</td>\n",
       "    </tr>\n",
       "    <tr>\n",
       "      <th>8</th>\n",
       "      <td>현대자동차(주)</td>\n",
       "      <td>5MY-HD-24-35</td>\n",
       "      <td>A0810006700431105</td>\n",
       "      <td>MC-D15GS-M1A</td>\n",
       "      <td>D4FA</td>\n",
       "      <td>Y</td>\n",
       "      <td>28</td>\n",
       "      <td>15.43</td>\n",
       "      <td>2.0</td>\n",
       "      <td>29.0</td>\n",
       "      <td>32</td>\n",
       "      <td>0.875000</td>\n",
       "    </tr>\n",
       "    <tr>\n",
       "      <th>9</th>\n",
       "      <td>현대자동차(주)</td>\n",
       "      <td>5MY-HD-24-35</td>\n",
       "      <td>A0810006700461105</td>\n",
       "      <td>MC-D15GS-A1SA</td>\n",
       "      <td>D4FA</td>\n",
       "      <td>N</td>\n",
       "      <td>1</td>\n",
       "      <td>51.00</td>\n",
       "      <td>51.0</td>\n",
       "      <td>51.0</td>\n",
       "      <td>11</td>\n",
       "      <td>0.090909</td>\n",
       "    </tr>\n",
       "    <tr>\n",
       "      <th>10</th>\n",
       "      <td>현대자동차(주)</td>\n",
       "      <td>5MY-HD-24-35</td>\n",
       "      <td>A0810006700461105</td>\n",
       "      <td>MC-D15GS-A1SA</td>\n",
       "      <td>D4FA</td>\n",
       "      <td>Y</td>\n",
       "      <td>10</td>\n",
       "      <td>11.10</td>\n",
       "      <td>0.0</td>\n",
       "      <td>25.0</td>\n",
       "      <td>11</td>\n",
       "      <td>0.909091</td>\n",
       "    </tr>\n",
       "    <tr>\n",
       "      <th>11</th>\n",
       "      <td>현대자동차(주)</td>\n",
       "      <td>5MY-HD-24-35</td>\n",
       "      <td>A0810006700471105</td>\n",
       "      <td>MC-D15GS-M1SA</td>\n",
       "      <td>D4FA</td>\n",
       "      <td>Y</td>\n",
       "      <td>1</td>\n",
       "      <td>24.00</td>\n",
       "      <td>24.0</td>\n",
       "      <td>24.0</td>\n",
       "      <td>1</td>\n",
       "      <td>1.000000</td>\n",
       "    </tr>\n",
       "    <tr>\n",
       "      <th>12</th>\n",
       "      <td>현대자동차(주)</td>\n",
       "      <td>5MY-HD-24-35</td>\n",
       "      <td>A0810006701721106</td>\n",
       "      <td>MC-D15-M3A</td>\n",
       "      <td>D4FA</td>\n",
       "      <td>N</td>\n",
       "      <td>1</td>\n",
       "      <td>53.00</td>\n",
       "      <td>53.0</td>\n",
       "      <td>53.0</td>\n",
       "      <td>10</td>\n",
       "      <td>0.100000</td>\n",
       "    </tr>\n",
       "    <tr>\n",
       "      <th>13</th>\n",
       "      <td>현대자동차(주)</td>\n",
       "      <td>5MY-HD-24-35</td>\n",
       "      <td>A0810006701721106</td>\n",
       "      <td>MC-D15-M3A</td>\n",
       "      <td>D4FA</td>\n",
       "      <td>Y</td>\n",
       "      <td>9</td>\n",
       "      <td>12.44</td>\n",
       "      <td>3.0</td>\n",
       "      <td>35.0</td>\n",
       "      <td>10</td>\n",
       "      <td>0.900000</td>\n",
       "    </tr>\n",
       "    <tr>\n",
       "      <th>14</th>\n",
       "      <td>현대자동차(주)</td>\n",
       "      <td>5MY-HD-24-35</td>\n",
       "      <td>A0810006701731106</td>\n",
       "      <td>MC-D15-A3A</td>\n",
       "      <td>D4FA</td>\n",
       "      <td>N</td>\n",
       "      <td>12</td>\n",
       "      <td>43.00</td>\n",
       "      <td>27.0</td>\n",
       "      <td>64.0</td>\n",
       "      <td>113</td>\n",
       "      <td>0.106195</td>\n",
       "    </tr>\n",
       "    <tr>\n",
       "      <th>15</th>\n",
       "      <td>현대자동차(주)</td>\n",
       "      <td>5MY-HD-24-35</td>\n",
       "      <td>A0810006701731106</td>\n",
       "      <td>MC-D15-A3A</td>\n",
       "      <td>D4FA</td>\n",
       "      <td>Y</td>\n",
       "      <td>101</td>\n",
       "      <td>13.42</td>\n",
       "      <td>0.0</td>\n",
       "      <td>44.0</td>\n",
       "      <td>113</td>\n",
       "      <td>0.893805</td>\n",
       "    </tr>\n",
       "    <tr>\n",
       "      <th>16</th>\n",
       "      <td>현대자동차(주)</td>\n",
       "      <td>5MY-HD-24-35</td>\n",
       "      <td>A0810006701801106</td>\n",
       "      <td>MC-D15GS-M3A</td>\n",
       "      <td>D4FA</td>\n",
       "      <td>N</td>\n",
       "      <td>1</td>\n",
       "      <td>1.00</td>\n",
       "      <td>1.0</td>\n",
       "      <td>1.0</td>\n",
       "      <td>6</td>\n",
       "      <td>0.166667</td>\n",
       "    </tr>\n",
       "    <tr>\n",
       "      <th>17</th>\n",
       "      <td>현대자동차(주)</td>\n",
       "      <td>5MY-HD-24-35</td>\n",
       "      <td>A0810006701801106</td>\n",
       "      <td>MC-D15GS-M3A</td>\n",
       "      <td>D4FA</td>\n",
       "      <td>Y</td>\n",
       "      <td>5</td>\n",
       "      <td>15.40</td>\n",
       "      <td>5.0</td>\n",
       "      <td>39.0</td>\n",
       "      <td>6</td>\n",
       "      <td>0.833333</td>\n",
       "    </tr>\n",
       "    <tr>\n",
       "      <th>18</th>\n",
       "      <td>현대자동차(주)</td>\n",
       "      <td>5MY-HD-24-35</td>\n",
       "      <td>A0810006701811106</td>\n",
       "      <td>MC-D15GS-A3A</td>\n",
       "      <td>D4FA</td>\n",
       "      <td>N</td>\n",
       "      <td>3</td>\n",
       "      <td>45.67</td>\n",
       "      <td>37.0</td>\n",
       "      <td>53.0</td>\n",
       "      <td>31</td>\n",
       "      <td>0.096774</td>\n",
       "    </tr>\n",
       "    <tr>\n",
       "      <th>19</th>\n",
       "      <td>현대자동차(주)</td>\n",
       "      <td>5MY-HD-24-35</td>\n",
       "      <td>A0810006701811106</td>\n",
       "      <td>MC-D15GS-A3A</td>\n",
       "      <td>D4FA</td>\n",
       "      <td>Y</td>\n",
       "      <td>28</td>\n",
       "      <td>10.29</td>\n",
       "      <td>0.0</td>\n",
       "      <td>25.0</td>\n",
       "      <td>31</td>\n",
       "      <td>0.903226</td>\n",
       "    </tr>\n",
       "  </tbody>\n",
       "</table>\n",
       "</div>"
      ],
      "text/plain": [
       "        제작사명      배출가스인증번호             제원관리번호          자동차형식  엔진형식 검사판정   대수  \\\n",
       "0   현대자동차(주)  5MY-HD-24-35  A0810006700341105     MC-D15-A1A  D4FA    N   69   \n",
       "1   현대자동차(주)  5MY-HD-24-35  A0810006700341105     MC-D15-A1A  D4FA    Y  467   \n",
       "2   현대자동차(주)  5MY-HD-24-35  A0810006700351105     MC-D15-M1A  D4FA    N    3   \n",
       "3   현대자동차(주)  5MY-HD-24-35  A0810006700351105     MC-D15-M1A  D4FA    Y   33   \n",
       "4   현대자동차(주)  5MY-HD-24-35  A0810006700381105    MC-D15-A1SA  D4FA    Y    1   \n",
       "5   현대자동차(주)  5MY-HD-24-35  A0810006700421105   MC-D15GS-A1A  D4FA    N   48   \n",
       "6   현대자동차(주)  5MY-HD-24-35  A0810006700421105   MC-D15GS-A1A  D4FA    Y  321   \n",
       "7   현대자동차(주)  5MY-HD-24-35  A0810006700431105   MC-D15GS-M1A  D4FA    N    4   \n",
       "8   현대자동차(주)  5MY-HD-24-35  A0810006700431105   MC-D15GS-M1A  D4FA    Y   28   \n",
       "9   현대자동차(주)  5MY-HD-24-35  A0810006700461105  MC-D15GS-A1SA  D4FA    N    1   \n",
       "10  현대자동차(주)  5MY-HD-24-35  A0810006700461105  MC-D15GS-A1SA  D4FA    Y   10   \n",
       "11  현대자동차(주)  5MY-HD-24-35  A0810006700471105  MC-D15GS-M1SA  D4FA    Y    1   \n",
       "12  현대자동차(주)  5MY-HD-24-35  A0810006701721106     MC-D15-M3A  D4FA    N    1   \n",
       "13  현대자동차(주)  5MY-HD-24-35  A0810006701721106     MC-D15-M3A  D4FA    Y    9   \n",
       "14  현대자동차(주)  5MY-HD-24-35  A0810006701731106     MC-D15-A3A  D4FA    N   12   \n",
       "15  현대자동차(주)  5MY-HD-24-35  A0810006701731106     MC-D15-A3A  D4FA    Y  101   \n",
       "16  현대자동차(주)  5MY-HD-24-35  A0810006701801106   MC-D15GS-M3A  D4FA    N    1   \n",
       "17  현대자동차(주)  5MY-HD-24-35  A0810006701801106   MC-D15GS-M3A  D4FA    Y    5   \n",
       "18  현대자동차(주)  5MY-HD-24-35  A0810006701811106   MC-D15GS-A3A  D4FA    N    3   \n",
       "19  현대자동차(주)  5MY-HD-24-35  A0810006701811106   MC-D15GS-A3A  D4FA    Y   28   \n",
       "\n",
       "     mean   min   max  엔진형식/sum    검사판정비율  \n",
       "0   47.12   6.0  92.0       536  0.128731  \n",
       "1   12.12   0.0  41.0       536  0.871269  \n",
       "2   15.33   0.0  36.0        36  0.083333  \n",
       "3   11.97   0.0  32.0        36  0.916667  \n",
       "4    9.00   9.0   9.0         1  1.000000  \n",
       "5   43.43   8.0  96.0       369  0.130081  \n",
       "6   11.91   0.0  41.0       369  0.869919  \n",
       "7   53.67  41.0  74.0        32  0.125000  \n",
       "8   15.43   2.0  29.0        32  0.875000  \n",
       "9   51.00  51.0  51.0        11  0.090909  \n",
       "10  11.10   0.0  25.0        11  0.909091  \n",
       "11  24.00  24.0  24.0         1  1.000000  \n",
       "12  53.00  53.0  53.0        10  0.100000  \n",
       "13  12.44   3.0  35.0        10  0.900000  \n",
       "14  43.00  27.0  64.0       113  0.106195  \n",
       "15  13.42   0.0  44.0       113  0.893805  \n",
       "16   1.00   1.0   1.0         6  0.166667  \n",
       "17  15.40   5.0  39.0         6  0.833333  \n",
       "18  45.67  37.0  53.0        31  0.096774  \n",
       "19  10.29   0.0  25.0        31  0.903226  "
      ]
     },
     "execution_count": 103,
     "metadata": {},
     "output_type": "execute_result"
    }
   ],
   "source": [
    "concat_two"
   ]
  },
  {
   "cell_type": "code",
   "execution_count": 76,
   "metadata": {},
   "outputs": [],
   "source": [
    "test_df = pd.concat([test_df, concat_two], ignore_index=True)"
   ]
  },
  {
   "cell_type": "code",
   "execution_count": 77,
   "metadata": {},
   "outputs": [
    {
     "data": {
      "text/html": [
       "<div>\n",
       "<style scoped>\n",
       "    .dataframe tbody tr th:only-of-type {\n",
       "        vertical-align: middle;\n",
       "    }\n",
       "\n",
       "    .dataframe tbody tr th {\n",
       "        vertical-align: top;\n",
       "    }\n",
       "\n",
       "    .dataframe thead th {\n",
       "        text-align: right;\n",
       "    }\n",
       "</style>\n",
       "<table border=\"1\" class=\"dataframe\">\n",
       "  <thead>\n",
       "    <tr style=\"text-align: right;\">\n",
       "      <th></th>\n",
       "      <th>제작사명</th>\n",
       "      <th>배출가스인증번호</th>\n",
       "      <th>제원관리번호</th>\n",
       "      <th>자동차형식</th>\n",
       "      <th>엔진형식</th>\n",
       "      <th>검사판정</th>\n",
       "      <th>대수</th>\n",
       "      <th>mean</th>\n",
       "      <th>min</th>\n",
       "      <th>max</th>\n",
       "      <th>엔진형식/sum</th>\n",
       "      <th>검사판정비율</th>\n",
       "    </tr>\n",
       "  </thead>\n",
       "  <tbody>\n",
       "    <tr>\n",
       "      <th>0</th>\n",
       "      <td>비엠더블유코리아(주)</td>\n",
       "      <td>6MY-BK-13-08</td>\n",
       "      <td>120002200001307</td>\n",
       "      <td>X5 3.0d</td>\n",
       "      <td>306D3</td>\n",
       "      <td>Y</td>\n",
       "      <td>503</td>\n",
       "      <td>2.79</td>\n",
       "      <td>0.0</td>\n",
       "      <td>43.0</td>\n",
       "      <td>503</td>\n",
       "      <td>1.000000</td>\n",
       "    </tr>\n",
       "    <tr>\n",
       "      <th>1</th>\n",
       "      <td>비엠더블유코리아(주)</td>\n",
       "      <td>6MY-BK-13-08</td>\n",
       "      <td>120002200001307</td>\n",
       "      <td>X5 3.0d</td>\n",
       "      <td>N57D30A</td>\n",
       "      <td>Y</td>\n",
       "      <td>1</td>\n",
       "      <td>6.00</td>\n",
       "      <td>6.0</td>\n",
       "      <td>6.0</td>\n",
       "      <td>1</td>\n",
       "      <td>1.000000</td>\n",
       "    </tr>\n",
       "    <tr>\n",
       "      <th>2</th>\n",
       "      <td>비엠더블유코리아(주)</td>\n",
       "      <td>6MY-BK-13-08</td>\n",
       "      <td>120002200031307</td>\n",
       "      <td>X5 3.0d</td>\n",
       "      <td>306D3</td>\n",
       "      <td>N</td>\n",
       "      <td>4</td>\n",
       "      <td>0.75</td>\n",
       "      <td>0.0</td>\n",
       "      <td>2.0</td>\n",
       "      <td>371</td>\n",
       "      <td>0.010782</td>\n",
       "    </tr>\n",
       "    <tr>\n",
       "      <th>3</th>\n",
       "      <td>비엠더블유코리아(주)</td>\n",
       "      <td>6MY-BK-13-08</td>\n",
       "      <td>120002200031307</td>\n",
       "      <td>X5 3.0d</td>\n",
       "      <td>306D3</td>\n",
       "      <td>Y</td>\n",
       "      <td>367</td>\n",
       "      <td>2.35</td>\n",
       "      <td>0.0</td>\n",
       "      <td>21.0</td>\n",
       "      <td>371</td>\n",
       "      <td>0.989218</td>\n",
       "    </tr>\n",
       "    <tr>\n",
       "      <th>4</th>\n",
       "      <td>비엠더블유코리아(주)</td>\n",
       "      <td>6MY-BK-13-08</td>\n",
       "      <td>120002200001307</td>\n",
       "      <td>X5 3.0d</td>\n",
       "      <td>306D3</td>\n",
       "      <td>Y</td>\n",
       "      <td>503</td>\n",
       "      <td>2.79</td>\n",
       "      <td>0.0</td>\n",
       "      <td>43.0</td>\n",
       "      <td>503</td>\n",
       "      <td>1.000000</td>\n",
       "    </tr>\n",
       "    <tr>\n",
       "      <th>5</th>\n",
       "      <td>비엠더블유코리아(주)</td>\n",
       "      <td>6MY-BK-13-08</td>\n",
       "      <td>120002200001307</td>\n",
       "      <td>X5 3.0d</td>\n",
       "      <td>N57D30A</td>\n",
       "      <td>Y</td>\n",
       "      <td>1</td>\n",
       "      <td>6.00</td>\n",
       "      <td>6.0</td>\n",
       "      <td>6.0</td>\n",
       "      <td>1</td>\n",
       "      <td>1.000000</td>\n",
       "    </tr>\n",
       "    <tr>\n",
       "      <th>6</th>\n",
       "      <td>비엠더블유코리아(주)</td>\n",
       "      <td>6MY-BK-13-08</td>\n",
       "      <td>120002200031307</td>\n",
       "      <td>X5 3.0d</td>\n",
       "      <td>306D3</td>\n",
       "      <td>N</td>\n",
       "      <td>4</td>\n",
       "      <td>0.75</td>\n",
       "      <td>0.0</td>\n",
       "      <td>2.0</td>\n",
       "      <td>371</td>\n",
       "      <td>0.010782</td>\n",
       "    </tr>\n",
       "    <tr>\n",
       "      <th>7</th>\n",
       "      <td>비엠더블유코리아(주)</td>\n",
       "      <td>6MY-BK-13-08</td>\n",
       "      <td>120002200031307</td>\n",
       "      <td>X5 3.0d</td>\n",
       "      <td>306D3</td>\n",
       "      <td>Y</td>\n",
       "      <td>367</td>\n",
       "      <td>2.35</td>\n",
       "      <td>0.0</td>\n",
       "      <td>21.0</td>\n",
       "      <td>371</td>\n",
       "      <td>0.989218</td>\n",
       "    </tr>\n",
       "  </tbody>\n",
       "</table>\n",
       "</div>"
      ],
      "text/plain": [
       "          제작사명      배출가스인증번호           제원관리번호    자동차형식     엔진형식 검사판정   대수  \\\n",
       "0  비엠더블유코리아(주)  6MY-BK-13-08  120002200001307  X5 3.0d    306D3    Y  503   \n",
       "1  비엠더블유코리아(주)  6MY-BK-13-08  120002200001307  X5 3.0d  N57D30A    Y    1   \n",
       "2  비엠더블유코리아(주)  6MY-BK-13-08  120002200031307  X5 3.0d    306D3    N    4   \n",
       "3  비엠더블유코리아(주)  6MY-BK-13-08  120002200031307  X5 3.0d    306D3    Y  367   \n",
       "4  비엠더블유코리아(주)  6MY-BK-13-08  120002200001307  X5 3.0d    306D3    Y  503   \n",
       "5  비엠더블유코리아(주)  6MY-BK-13-08  120002200001307  X5 3.0d  N57D30A    Y    1   \n",
       "6  비엠더블유코리아(주)  6MY-BK-13-08  120002200031307  X5 3.0d    306D3    N    4   \n",
       "7  비엠더블유코리아(주)  6MY-BK-13-08  120002200031307  X5 3.0d    306D3    Y  367   \n",
       "\n",
       "   mean  min   max  엔진형식/sum    검사판정비율  \n",
       "0  2.79  0.0  43.0       503  1.000000  \n",
       "1  6.00  6.0   6.0         1  1.000000  \n",
       "2  0.75  0.0   2.0       371  0.010782  \n",
       "3  2.35  0.0  21.0       371  0.989218  \n",
       "4  2.79  0.0  43.0       503  1.000000  \n",
       "5  6.00  6.0   6.0         1  1.000000  \n",
       "6  0.75  0.0   2.0       371  0.010782  \n",
       "7  2.35  0.0  21.0       371  0.989218  "
      ]
     },
     "execution_count": 77,
     "metadata": {},
     "output_type": "execute_result"
    }
   ],
   "source": [
    "test_df"
   ]
  },
  {
   "attachments": {},
   "cell_type": "markdown",
   "metadata": {},
   "source": [
    "#### [출력] 제번별, 자동차형식별, 엔진형식별 검사판정별 무부하매연측정치1 통계"
   ]
  },
  {
   "cell_type": "code",
   "execution_count": 78,
   "metadata": {},
   "outputs": [],
   "source": [
    "analysis_fold = 'C:/Users/kbjung/Documents/GitHub/wabotech/car_big_data_2/analysis2/4등급_데이터_점검/과제1'"
   ]
  },
  {
   "cell_type": "code",
   "execution_count": 30,
   "metadata": {},
   "outputs": [],
   "source": [
    "# g.to_excel(os.path.join(analysis_fold, f'통계_제번별_차형식별_엔진형식별_검사판정별_무부하매연측정치1_{gas_nm}.xlsx'))"
   ]
  },
  {
   "attachments": {},
   "cell_type": "markdown",
   "metadata": {},
   "source": [
    "## [출력] 배인번호별 분석1"
   ]
  },
  {
   "cell_type": "code",
   "execution_count": 32,
   "metadata": {},
   "outputs": [
    {
     "data": {
      "text/plain": [
       "133"
      ]
     },
     "execution_count": 32,
     "metadata": {},
     "output_type": "execute_result"
    }
   ],
   "source": [
    "gas_nm_list = check_df['배출가스인증번호'].unique()\n",
    "len(gas_nm_list)"
   ]
  },
  {
   "cell_type": "code",
   "execution_count": 206,
   "metadata": {},
   "outputs": [
    {
     "name": "stderr",
     "output_type": "stream",
     "text": [
      " 59%|█████▊    | 78/133 [01:06<01:37,  1.77s/it]"
     ]
    },
    {
     "name": "stdout",
     "output_type": "stream",
     "text": [
      "9MY-KM-14-22 파일 없음.\n"
     ]
    },
    {
     "name": "stderr",
     "output_type": "stream",
     "text": [
      "100%|██████████| 133/133 [01:35<00:00,  1.40it/s]\n"
     ]
    }
   ],
   "source": [
    "# 1m 33s\n",
    "gas_nm_fold = 'D:/data/big2/BD1_4등급_데이터_점검1/과제1'\n",
    "analysis_fold = 'D:/data/big2/BD1_4등급_데이터_점검1/과제1/통계'\n",
    "productor_dict = {\n",
    "    'HD':'현대자동차(주)', 'KM':'기아자동차(주)', 'JL':'(주)재규어랜드로버코리아', 'AD':'아우디폭스바겐코리아(주)', 'PP':'아우디폭스바겐코리아(주)', 'PA':'(주)볼보자동차코리아', 'BK':'비엠더블유코리아(주)',\n",
    "    'DC':'타타대우상용차(주)', 'DB':'자일대우상용차 주식회사', 'DW':'한국지엠주식회사', 'DK':'다임러트럭코리아(주)', 'HB':'한불모터스(주)', 'SK':'스카니아코리아그룹(주)', 'SY':'쌍용자동차(주)', \n",
    "    'VTK':'볼보트럭코리아(주)', 'GK':'지엠아시아퍼시픽지역본부 주식회사', 'MK':'메르세데스벤츠코리아(주)', 'MT':'만트럭버스코리아(주)', 'SM':'르노삼성자동차(주)',  }\n",
    "gas_ver_nm_list = []\n",
    "gas_ver_nm_no_list = []\n",
    "total_gas_df_vin17_y_vin10_year_n = pd.DataFrame()\n",
    "total_gas_df_vin17_y_vin10_year_y_product_n = pd.DataFrame()\n",
    "total_g_df = pd.DataFrame()\n",
    "for one in tqdm(gas_nm_list):\n",
    "    try:\n",
    "        # 파일 로드\n",
    "        file_name = f'{one}.csv'\n",
    "        gas_df = pd.read_csv(os.path.join(gas_nm_fold, file_name), low_memory=False, encoding='cp949')\n",
    "\n",
    "        # [출력] 차대번호 17자리 아닌 샘플\n",
    "        gas_df_vin17_y = gas_df[(gas_df['차대번호'].str.len() == 17)].reset_index(drop=True)\n",
    "        gas_df_vin17_n = gas_df[(gas_df['차대번호'].str.len() != 17)].reset_index(drop=True)\n",
    "        gas_df_vin17_n.to_excel(os.path.join(gas_nm_fold, f'샘플_차대번호17자리아닌_{one}.xlsx'), index=False)\n",
    "\n",
    "        # [출력] 차대번호 연식과 차량연식 다른 샘플\n",
    "        gas_df_vin17_y_vin10_year_y = gas_df_vin17_y[gas_df_vin17_y['vin10_year'] == gas_df_vin17_y['차량연식_y']].reset_index(drop=True)\n",
    "        gas_df_vin17_y_vin10_year_n = gas_df_vin17_y[gas_df_vin17_y['vin10_year'] != gas_df_vin17_y['차량연식_y']].reset_index(drop=True)\n",
    "        gas_df_vin17_y_vin10_year_n.to_excel(os.path.join(gas_nm_fold, f'샘플_차대번호17자리_차량연식다른_{one}.xlsx'), index=False)\n",
    "        # 종합 - 연식다른 샘플\n",
    "        total_gas_df_vin17_y_vin10_year_n = pd.concat([total_gas_df_vin17_y_vin10_year_n, gas_df_vin17_y_vin10_year_n], ignore_index=True)\n",
    "\n",
    "        # [출력] 배인번호 해당 제작사가 아닌 샘플\n",
    "        productors = gas_df_vin17_y_vin10_year_y['제작사명'].unique()\n",
    "        # 제작사명 조건에 따라 진행\n",
    "        if len(productors) == 1: # 제작사명 1개일 때\n",
    "            productor_name = gas_df_vin17_y_vin10_year_y['제작사명'].unique()[0]\n",
    "            num = 0\n",
    "            productor_name = gas_df_vin17_y_vin10_year_y['제작사명'].unique()[num]\n",
    "            gas_df_vin17_y_vin10_year_y_product_y = gas_df_vin17_y_vin10_year_y[(gas_df_vin17_y_vin10_year_y['제작사명'] == productor_name) | (gas_df_vin17_y_vin10_year_y['제작사명'] == '자기인증면제차량')].reset_index(drop=True)\n",
    "            gas_df_vin17_y_vin10_year_y_product_n = gas_df_vin17_y_vin10_year_y[(gas_df_vin17_y_vin10_year_y['제작사명'] != productor_name) & (gas_df_vin17_y_vin10_year_y['제작사명'] != '자기인증면제차량')].reset_index(drop=True)\n",
    "            gas_df_vin17_y_vin10_year_y_product_n.to_excel(os.path.join(gas_nm_fold, f'샘플_차대번호17자리_차량연식다른_해당제작사아닌_{one}.xlsx'), index=False)\n",
    "            # 종합 - 다른 제작사 샘플\n",
    "            total_gas_df_vin17_y_vin10_year_y_product_n = pd.concat([total_gas_df_vin17_y_vin10_year_y_product_n, gas_df_vin17_y_vin10_year_y_product_n], ignore_index=True)\n",
    "        else: # 제작사명이 여러개 일 때\n",
    "            temp = one.split('-')\n",
    "            if len(temp) == 1:\n",
    "                productor_name = one\n",
    "            else:\n",
    "                productor_name = productor_dict[temp[1]]\n",
    "            # print(one)\n",
    "            # print(gas_df_vin17_y_vin10_year_y['제작사명'].unique())\n",
    "            # productor_name = input('제작사명 : ')\n",
    "            gas_df_vin17_y_vin10_year_y_product_y = gas_df_vin17_y_vin10_year_y[(gas_df_vin17_y_vin10_year_y['제작사명'] == productor_name) | (gas_df_vin17_y_vin10_year_y['제작사명'] == '자가인증면제차량') | (gas_df_vin17_y_vin10_year_y['제작사명'] == 'SOFA차량')].reset_index(drop=True)\n",
    "            gas_df_vin17_y_vin10_year_y_product_n = gas_df_vin17_y_vin10_year_y[(gas_df_vin17_y_vin10_year_y['제작사명'] != productor_name) & (gas_df_vin17_y_vin10_year_y['제작사명'] != '자가인증면제차량') & (gas_df_vin17_y_vin10_year_y['제작사명'] != 'SOFA차량')].reset_index(drop=True)\n",
    "            gas_df_vin17_y_vin10_year_y_product_n.to_excel(os.path.join(gas_nm_fold, f'샘플_차대번호17자리_차량연식다른_해당제작사아닌_{one}.xlsx'), index=False)\n",
    "            # 종합 - 다른 제작사 샘플\n",
    "            total_gas_df_vin17_y_vin10_year_y_product_n = pd.concat([total_gas_df_vin17_y_vin10_year_y_product_n, gas_df_vin17_y_vin10_year_y_product_n], ignore_index=True)\n",
    "\n",
    "        # 제번별, 차형식별, 엔진형식별, 검사판정별 무부하매연측정치1 통계\n",
    "        g = gas_df_vin17_y_vin10_year_y_product_y.groupby(['배출가스인증번호', '제작사명', '제원관리번호', '자동차형식', '엔진형식_y', '검사판정'], dropna=False).agg({'차대번호':'count', '무부하매연측정치1':['mean', 'min', 'max']}).round(2).reset_index()\n",
    "        g = g.rename(columns={'엔진형식_y':'엔진형식', '차대번호':'대수'})\n",
    "        g.to_excel(os.path.join(analysis_fold, f'통계_제번별_차형식별_엔진형식별_검사판정별_무부하매연측정치1_{one}.xlsx'))\n",
    "        # 종합 - 통계\n",
    "        total_g_df = pd.concat([total_g_df, g], ignore_index=True)\n",
    "        gas_ver_nm_list.append(one)\n",
    "        gas_ver_nm_no_list.append(gas_df_vin17_y_vin10_year_y_product_y.shape[0])\n",
    "    except:\n",
    "        print(f'{one} 파일 없음.')\n",
    "        pass\n",
    "# 1m 33s"
   ]
  },
  {
   "cell_type": "code",
   "execution_count": 207,
   "metadata": {},
   "outputs": [
    {
     "data": {
      "text/plain": [
       "((23549, 92), (4863, 92), (6582, 10))"
      ]
     },
     "execution_count": 207,
     "metadata": {},
     "output_type": "execute_result"
    }
   ],
   "source": [
    "total_gas_df_vin17_y_vin10_year_n.shape, total_gas_df_vin17_y_vin10_year_y_product_n.shape, total_g_df.shape"
   ]
  },
  {
   "cell_type": "code",
   "execution_count": 208,
   "metadata": {},
   "outputs": [
    {
     "data": {
      "text/plain": [
       "(132, 132)"
      ]
     },
     "execution_count": 208,
     "metadata": {},
     "output_type": "execute_result"
    }
   ],
   "source": [
    "len(gas_ver_nm_list), len(gas_ver_nm_no_list)"
   ]
  },
  {
   "cell_type": "code",
   "execution_count": 209,
   "metadata": {},
   "outputs": [
    {
     "data": {
      "text/plain": [
       "133"
      ]
     },
     "execution_count": 209,
     "metadata": {},
     "output_type": "execute_result"
    }
   ],
   "source": [
    "len(gas_nm_list)"
   ]
  },
  {
   "cell_type": "code",
   "execution_count": 59,
   "metadata": {},
   "outputs": [
    {
     "data": {
      "text/plain": [
       "(132, 2)"
      ]
     },
     "execution_count": 59,
     "metadata": {},
     "output_type": "execute_result"
    }
   ],
   "source": [
    "gas_ver_nm_df = pd.DataFrame({'배출가스인증번호':gas_ver_nm_list, '개수':gas_ver_nm_no_list})\n",
    "gas_ver_nm_df.shape"
   ]
  },
  {
   "cell_type": "code",
   "execution_count": 40,
   "metadata": {},
   "outputs": [],
   "source": [
    "# about 37s\n",
    "total_gas_df_vin17_y_vin10_year_n.to_excel(os.path.join(gas_nm_fold, f'통합_샘플_차대번호17자리_차량연식다른.xlsx'), index=False)\n",
    "total_gas_df_vin17_y_vin10_year_y_product_n.to_excel(os.path.join(gas_nm_fold, f'통합_샘플_차대번호17자리_차량연식다른_해당제작사아닌.xlsx'), index=False)"
   ]
  },
  {
   "cell_type": "code",
   "execution_count": 211,
   "metadata": {},
   "outputs": [],
   "source": [
    "# about \n",
    "total_g_df.to_excel(os.path.join(analysis_fold, f'통합_통계_제번별_차형식별_엔진형식별_검사판정별_무부하매연측정치1.xlsx'))"
   ]
  },
  {
   "cell_type": "code",
   "execution_count": 60,
   "metadata": {},
   "outputs": [],
   "source": [
    "gas_ver_nm_df.to_excel(os.path.join(analysis_fold, f'통합_통계_배인번호별.xlsx'), index=False)"
   ]
  },
  {
   "attachments": {},
   "cell_type": "markdown",
   "metadata": {},
   "source": [
    "### 배인번호 확인"
   ]
  },
  {
   "cell_type": "code",
   "execution_count": 41,
   "metadata": {},
   "outputs": [
    {
     "data": {
      "text/plain": [
       "(133, 133)"
      ]
     },
     "execution_count": 41,
     "metadata": {},
     "output_type": "execute_result"
    }
   ],
   "source": [
    "len(set(gas_nm_list)), len(gas_nm_list)"
   ]
  },
  {
   "cell_type": "code",
   "execution_count": 42,
   "metadata": {},
   "outputs": [
    {
     "data": {
      "text/plain": [
       "207"
      ]
     },
     "execution_count": 42,
     "metadata": {},
     "output_type": "execute_result"
    }
   ],
   "source": [
    "total['배출가스인증번호'].nunique(dropna=False)"
   ]
  },
  {
   "cell_type": "code",
   "execution_count": 52,
   "metadata": {},
   "outputs": [
    {
     "data": {
      "text/plain": [
       "7621"
      ]
     },
     "execution_count": 52,
     "metadata": {},
     "output_type": "execute_result"
    }
   ],
   "source": [
    "df2['배출가스인증번호'].isnull().sum()"
   ]
  },
  {
   "attachments": {},
   "cell_type": "markdown",
   "metadata": {},
   "source": [
    "## [출력] 배인번호별 분석2"
   ]
  },
  {
   "cell_type": "code",
   "execution_count": null,
   "metadata": {},
   "outputs": [],
   "source": [
    "def flat_cols(df):\n",
    "    df.columns = ['/'.join(x) for x in df.columns.to_flat_index()]\n",
    "    return df"
   ]
  },
  {
   "cell_type": "code",
   "execution_count": 121,
   "metadata": {},
   "outputs": [
    {
     "name": "stderr",
     "output_type": "stream",
     "text": [
      " 59%|█████▊    | 78/133 [00:32<00:53,  1.03it/s]"
     ]
    },
    {
     "name": "stdout",
     "output_type": "stream",
     "text": [
      "9MY-KM-14-22 파일 없음.\n"
     ]
    },
    {
     "name": "stderr",
     "output_type": "stream",
     "text": [
      "100%|██████████| 133/133 [00:41<00:00,  3.18it/s]\n"
     ]
    }
   ],
   "source": [
    "# 1m 33s\n",
    "gas_nm_fold = 'D:/data/big2/BD1_4등급_데이터_점검1/과제1'\n",
    "analysis_fold = 'D:/data/big2/BD1_4등급_데이터_점검1/과제1/통계'\n",
    "productor_dict = {\n",
    "    'HD':'현대자동차(주)', 'KM':'기아자동차(주)', 'JL':'(주)재규어랜드로버코리아', 'AD':'아우디폭스바겐코리아(주)', 'PP':'아우디폭스바겐코리아(주)', 'PA':'(주)볼보자동차코리아', 'BK':'비엠더블유코리아(주)',\n",
    "    'DC':'타타대우상용차(주)', 'DB':'자일대우상용차 주식회사', 'DW':'한국지엠주식회사', 'DK':'다임러트럭코리아(주)', 'HB':'한불모터스(주)', 'SK':'스카니아코리아그룹(주)', 'SY':'쌍용자동차(주)', \n",
    "    'VTK':'볼보트럭코리아(주)', 'GK':'지엠아시아퍼시픽지역본부 주식회사', 'MK':'메르세데스벤츠코리아(주)', 'MT':'만트럭버스코리아(주)', 'SM':'르노삼성자동차(주)',  }\n",
    "\n",
    "total_gas_df_vin17_y_vin10_year_n = pd.DataFrame()\n",
    "total_gas_df_vin17_y_vin10_year_y_product_n = pd.DataFrame()\n",
    "total_g_df = pd.DataFrame()\n",
    "for one in tqdm(gas_nm_list):\n",
    "    try:\n",
    "        # 파일 로드\n",
    "        file_name = f'{one}.csv'\n",
    "        gas_df = pd.read_csv(os.path.join(gas_nm_fold, file_name), low_memory=False, encoding='cp949')\n",
    "\n",
    "        # [출력] 차대번호 17자리 아닌 샘플\n",
    "        gas_df_vin17_y = gas_df[(gas_df['차대번호'].str.len() == 17)].reset_index(drop=True)\n",
    "        gas_df_vin17_n = gas_df[(gas_df['차대번호'].str.len() != 17)].reset_index(drop=True)\n",
    "        # gas_df_vin17_n.to_excel(os.path.join(gas_nm_fold, f'샘플_차대번호17자리아닌_{one}.xlsx'), index=False)\n",
    "\n",
    "        # [출력] 차대번호 연식과 차량연식 다른 샘플\n",
    "        gas_df_vin17_y_vin10_year_y = gas_df_vin17_y[gas_df_vin17_y['vin10_year'] == gas_df_vin17_y['차량연식_y']].reset_index(drop=True)\n",
    "        gas_df_vin17_y_vin10_year_n = gas_df_vin17_y[gas_df_vin17_y['vin10_year'] != gas_df_vin17_y['차량연식_y']].reset_index(drop=True)\n",
    "        # gas_df_vin17_y_vin10_year_n.to_excel(os.path.join(gas_nm_fold, f'샘플_차대번호17자리_차량연식다른_{one}.xlsx'), index=False)\n",
    "        # 종합 - 연식다른 샘플\n",
    "        total_gas_df_vin17_y_vin10_year_n = pd.concat([total_gas_df_vin17_y_vin10_year_n, gas_df_vin17_y_vin10_year_n], ignore_index=True)\n",
    "\n",
    "        # [출력] 배인번호 해당 제작사가 아닌 샘플\n",
    "        productors = gas_df_vin17_y_vin10_year_y['제작사명'].unique()\n",
    "        # 제작사명 조건에 따라 진행\n",
    "        if len(productors) == 1: # 제작사명 1개일 때\n",
    "            productor_name = gas_df_vin17_y_vin10_year_y['제작사명'].unique()[0]\n",
    "            num = 0\n",
    "            productor_name = gas_df_vin17_y_vin10_year_y['제작사명'].unique()[num]\n",
    "            gas_df_vin17_y_vin10_year_y_product_y = gas_df_vin17_y_vin10_year_y[(gas_df_vin17_y_vin10_year_y['제작사명'] == productor_name) | (gas_df_vin17_y_vin10_year_y['제작사명'] == '자기인증면제차량')].reset_index(drop=True)\n",
    "            gas_df_vin17_y_vin10_year_y_product_n = gas_df_vin17_y_vin10_year_y[(gas_df_vin17_y_vin10_year_y['제작사명'] != productor_name) & (gas_df_vin17_y_vin10_year_y['제작사명'] != '자기인증면제차량')].reset_index(drop=True)\n",
    "            # gas_df_vin17_y_vin10_year_y_product_n.to_excel(os.path.join(gas_nm_fold, f'샘플_차대번호17자리_차량연식다른_해당제작사아닌_{one}.xlsx'), index=False)\n",
    "            # 종합 - 다른 제작사 샘플\n",
    "            total_gas_df_vin17_y_vin10_year_y_product_n = pd.concat([total_gas_df_vin17_y_vin10_year_y_product_n, gas_df_vin17_y_vin10_year_y_product_n], ignore_index=True)\n",
    "        else: # 제작사명이 여러개 일 때\n",
    "            temp = one.split('-')\n",
    "            if len(temp) == 1:\n",
    "                productor_name = one\n",
    "            else:\n",
    "                productor_name = productor_dict[temp[1]]\n",
    "            # print(one)\n",
    "            # print(gas_df_vin17_y_vin10_year_y['제작사명'].unique())\n",
    "            # productor_name = input('제작사명 : ')\n",
    "            gas_df_vin17_y_vin10_year_y_product_y = gas_df_vin17_y_vin10_year_y[(gas_df_vin17_y_vin10_year_y['제작사명'] == productor_name) | (gas_df_vin17_y_vin10_year_y['제작사명'] == '자가인증면제차량') | (gas_df_vin17_y_vin10_year_y['제작사명'] == 'SOFA차량')].reset_index(drop=True)\n",
    "            gas_df_vin17_y_vin10_year_y_product_n = gas_df_vin17_y_vin10_year_y[(gas_df_vin17_y_vin10_year_y['제작사명'] != productor_name) & (gas_df_vin17_y_vin10_year_y['제작사명'] != '자가인증면제차량') & (gas_df_vin17_y_vin10_year_y['제작사명'] != 'SOFA차량')].reset_index(drop=True)\n",
    "            # gas_df_vin17_y_vin10_year_y_product_n.to_excel(os.path.join(gas_nm_fold, f'샘플_차대번호17자리_차량연식다른_해당제작사아닌_{one}.xlsx'), index=False)\n",
    "            # 종합 - 다른 제작사 샘플\n",
    "            total_gas_df_vin17_y_vin10_year_y_product_n = pd.concat([total_gas_df_vin17_y_vin10_year_y_product_n, gas_df_vin17_y_vin10_year_y_product_n], ignore_index=True)\n",
    "\n",
    "        # 제번별, 차형식별, 엔진형식별, 검사판정별 무부하매연측정치1 통계\n",
    "        g = gas_df_vin17_y_vin10_year_y_product_y.groupby(['배출가스인증번호', '제작사명', '제원관리번호', '자동차형식', '엔진형식_y', '검사판정'], dropna=False).agg({'차대번호':'count', '무부하매연측정치1':['mean', 'min', 'max']}).pipe(flat_cols).round(2).reset_index()\n",
    "        g = g.rename(columns={'엔진형식_y':'엔진형식')\n",
    "        # g.to_excel(os.path.join(analysis_fold, f'통계_제번별_차형식별_엔진형식별_검사판정별_무부하매연측정치1_{one}.xlsx'))\n",
    "        g.loc[-1, ['차대번호/count']] = g['차대번호/count'].sum()\n",
    "        g = g.reset_index(drop=True)\n",
    "        # 종합 - 통계\n",
    "        total_g_df = pd.concat([total_g_df, g], ignore_index=True)\n",
    "\n",
    "    except:\n",
    "        print(f'{one} 파일 없음.')\n",
    "        pass\n",
    "# 1m 33s"
   ]
  },
  {
   "cell_type": "code",
   "execution_count": 122,
   "metadata": {},
   "outputs": [
    {
     "data": {
      "text/plain": [
       "(6714, 10)"
      ]
     },
     "execution_count": 122,
     "metadata": {},
     "output_type": "execute_result"
    }
   ],
   "source": [
    "total_g_df.shape"
   ]
  },
  {
   "cell_type": "code",
   "execution_count": 124,
   "metadata": {},
   "outputs": [],
   "source": [
    "total_g_df.to_excel(os.path.join(analysis_fold, f'통합2_통계_제번별_차형식별_엔진형식별_검사판정별_무부하매연측정치1.xlsx'), index=False)"
   ]
  },
  {
   "attachments": {},
   "cell_type": "markdown",
   "metadata": {},
   "source": [
    "## [출력] 배인번호별 분석3"
   ]
  },
  {
   "cell_type": "code",
   "execution_count": 24,
   "metadata": {},
   "outputs": [],
   "source": [
    "def flat_cols(df):\n",
    "    df.columns = ['/'.join(x) for x in df.columns.to_flat_index()]\n",
    "    return df"
   ]
  },
  {
   "cell_type": "code",
   "execution_count": 25,
   "metadata": {},
   "outputs": [
    {
     "data": {
      "text/plain": [
       "133"
      ]
     },
     "execution_count": 25,
     "metadata": {},
     "output_type": "execute_result"
    }
   ],
   "source": [
    "gas_nm_list = check_df['배출가스인증번호'].unique()\n",
    "len(gas_nm_list)"
   ]
  },
  {
   "cell_type": "code",
   "execution_count": 26,
   "metadata": {},
   "outputs": [],
   "source": [
    "# folder 설정\n",
    "gas_nm_fold = 'D:/data/big2/BD1_4등급_데이터_점검1/과제1'\n",
    "analysis_fold = 'C:/Users/kbjung/Documents/GitHub/wabotech/car_big_data_2/analysis2/4등급_데이터_점검/과제1'"
   ]
  },
  {
   "cell_type": "code",
   "execution_count": 27,
   "metadata": {},
   "outputs": [
    {
     "name": "stderr",
     "output_type": "stream",
     "text": [
      " 59%|█████▊    | 78/133 [01:10<01:45,  1.92s/it]"
     ]
    },
    {
     "name": "stdout",
     "output_type": "stream",
     "text": [
      "9MY-KM-14-22 파일 없음.\n"
     ]
    },
    {
     "name": "stderr",
     "output_type": "stream",
     "text": [
      "100%|██████████| 133/133 [01:44<00:00,  1.27it/s]\n"
     ]
    }
   ],
   "source": [
    "# 1m 40s\n",
    "\n",
    "productor_dict = {\n",
    "    'HD':'현대자동차(주)', 'KM':'기아자동차(주)', 'JL':'(주)재규어랜드로버코리아', 'AD':'아우디폭스바겐코리아(주)', 'PP':'아우디폭스바겐코리아(주)', 'PA':'(주)볼보자동차코리아', 'BK':'비엠더블유코리아(주)',\n",
    "    'DC':'타타대우상용차(주)', 'DB':'자일대우상용차 주식회사', 'DW':'한국지엠주식회사', 'DK':'다임러트럭코리아(주)', 'HB':'한불모터스(주)', 'SK':'스카니아코리아그룹(주)', 'SY':'쌍용자동차(주)', \n",
    "    'VTK':'볼보트럭코리아(주)', 'GK':'지엠아시아퍼시픽지역본부 주식회사', 'MK':'메르세데스벤츠코리아(주)', 'MT':'만트럭버스코리아(주)', 'SM':'르노삼성자동차(주)',  }\n",
    "\n",
    "total_gas_df_vin17_n = pd.DataFrame()\n",
    "total_gas_df_vin17_y_vin10_year_n = pd.DataFrame()\n",
    "total_gas_df_vin17_y_vin10_year_y_product_n = pd.DataFrame()\n",
    "total_g_df = pd.DataFrame()\n",
    "for one in tqdm(gas_nm_list):\n",
    "    try:\n",
    "        # 파일 로드\n",
    "        file_name = f'{one}.csv'\n",
    "        gas_df = pd.read_csv(os.path.join(gas_nm_fold, file_name), low_memory=False, encoding='cp949')\n",
    "\n",
    "        # [출력] 차대번호 17자리 아닌 샘플\n",
    "        gas_df_vin17_y = gas_df[(gas_df['차대번호'].str.len() == 17)].reset_index(drop=True)\n",
    "        gas_df_vin17_n = gas_df[(gas_df['차대번호'].str.len() != 17)].reset_index(drop=True)\n",
    "        gas_df_vin17_n.to_excel(os.path.join(gas_nm_fold, f'샘플_차대번호17자리아닌_{one}.xlsx'), index=False)\n",
    "        # 종합 - 17자리 아닌 샘플\n",
    "        total_gas_df_vin17_n = pd.concat([total_gas_df_vin17_n, gas_df_vin17_n], ignore_index=True)\n",
    "\n",
    "        # [출력] 차대번호 연식과 차량연식 다른 샘플\n",
    "        gas_df_vin17_y_vin10_year_y = gas_df_vin17_y[gas_df_vin17_y['vin10_year'] == gas_df_vin17_y['차량연식_y']].reset_index(drop=True)\n",
    "        gas_df_vin17_y_vin10_year_n = gas_df_vin17_y[gas_df_vin17_y['vin10_year'] != gas_df_vin17_y['차량연식_y']].reset_index(drop=True)\n",
    "        gas_df_vin17_y_vin10_year_n.to_excel(os.path.join(gas_nm_fold, f'샘플_차대번호17자리_차량연식다른_{one}.xlsx'), index=False)\n",
    "        # 종합 - 연식다른 샘플\n",
    "        total_gas_df_vin17_y_vin10_year_n = pd.concat([total_gas_df_vin17_y_vin10_year_n, gas_df_vin17_y_vin10_year_n], ignore_index=True)\n",
    "\n",
    "        # [출력] 배인번호 해당 제작사가 아닌 샘플\n",
    "        productors = gas_df_vin17_y_vin10_year_y['제작사명'].unique()\n",
    "        # 제작사명 조건에 따라 진행\n",
    "        if len(productors) == 1: # 제작사명 1개일 때\n",
    "            productor_name = gas_df_vin17_y_vin10_year_y['제작사명'].unique()[0]\n",
    "            num = 0\n",
    "            productor_name = gas_df_vin17_y_vin10_year_y['제작사명'].unique()[num]\n",
    "            gas_df_vin17_y_vin10_year_y_product_y = gas_df_vin17_y_vin10_year_y[(gas_df_vin17_y_vin10_year_y['제작사명'] == productor_name) | (gas_df_vin17_y_vin10_year_y['제작사명'] == '자기인증면제차량')].reset_index(drop=True)\n",
    "            gas_df_vin17_y_vin10_year_y_product_n = gas_df_vin17_y_vin10_year_y[(gas_df_vin17_y_vin10_year_y['제작사명'] != productor_name) & (gas_df_vin17_y_vin10_year_y['제작사명'] != '자기인증면제차량')].reset_index(drop=True)\n",
    "            gas_df_vin17_y_vin10_year_y_product_n.to_excel(os.path.join(gas_nm_fold, f'샘플_차대번호17자리_차량연식다른_해당제작사아닌_{one}.xlsx'), index=False)\n",
    "            # 종합 - 다른 제작사 샘플\n",
    "            total_gas_df_vin17_y_vin10_year_y_product_n = pd.concat([total_gas_df_vin17_y_vin10_year_y_product_n, gas_df_vin17_y_vin10_year_y_product_n], ignore_index=True)\n",
    "        else: # 제작사명이 여러개 일 때\n",
    "            temp = one.split('-')\n",
    "            if len(temp) == 1:\n",
    "                productor_name = one\n",
    "            else:\n",
    "                productor_name = productor_dict[temp[1]]\n",
    "            gas_df_vin17_y_vin10_year_y_product_y = gas_df_vin17_y_vin10_year_y[(gas_df_vin17_y_vin10_year_y['제작사명'] == productor_name) | (gas_df_vin17_y_vin10_year_y['제작사명'] == '자가인증면제차량') | (gas_df_vin17_y_vin10_year_y['제작사명'] == 'SOFA차량')].reset_index(drop=True)\n",
    "            gas_df_vin17_y_vin10_year_y_product_n = gas_df_vin17_y_vin10_year_y[(gas_df_vin17_y_vin10_year_y['제작사명'] != productor_name) & (gas_df_vin17_y_vin10_year_y['제작사명'] != '자가인증면제차량') & (gas_df_vin17_y_vin10_year_y['제작사명'] != 'SOFA차량')].reset_index(drop=True)\n",
    "            gas_df_vin17_y_vin10_year_y_product_n.to_excel(os.path.join(gas_nm_fold, f'샘플_차대번호17자리_차량연식다른_해당제작사아닌_{one}.xlsx'), index=False)\n",
    "            # 종합 - 다른 제작사 샘플\n",
    "            total_gas_df_vin17_y_vin10_year_y_product_n = pd.concat([total_gas_df_vin17_y_vin10_year_y_product_n, gas_df_vin17_y_vin10_year_y_product_n], ignore_index=True)\n",
    "\n",
    "        # 제번별, 차형식별, 엔진형식별, 검사판정별 무부하매연측정치1 통계\n",
    "        g = gas_df_vin17_y_vin10_year_y_product_y.groupby(['배출가스인증번호', '제작사명', '제원관리번호', '자동차형식', '엔진형식_y', '검사판정'], dropna=False).agg({'차대번호':'count', '무부하매연측정치1':['mean', 'min', 'max']}).pipe(flat_cols).round(2).reset_index()\n",
    "        g = g.rename(columns={'엔진형식_y':'엔진형식', '차대번호/count':'대수', '무부하매연측정치1/mean':'mean', '무부하매연측정치1/min':'min', '무부하매연측정치1/max':'max'})\n",
    "        # 하나의 배인번호에서 제번별 엔진형식별 비율 계산\n",
    "        concat_two = pd.DataFrame()\n",
    "        for two in g['제원관리번호'].unique():\n",
    "            for three in g['엔진형식'].unique():\n",
    "                temp = g[(g['제원관리번호'] == two) & (g['엔진형식'] == three)].copy()\n",
    "                temp['엔진형식/sum'] = temp['대수'].sum()\n",
    "                temp['검사판정비율'] = temp['대수'] / temp['엔진형식/sum']\n",
    "                concat_two = pd.concat([concat_two, temp], ignore_index=True)\n",
    "        # 종합 - 통계\n",
    "        total_g_df = pd.concat([total_g_df, concat_two], ignore_index=True)\n",
    "\n",
    "    except:\n",
    "        print(f'{one} 파일 없음.')\n",
    "        pass\n",
    "# 1m 40s"
   ]
  },
  {
   "cell_type": "code",
   "execution_count": 30,
   "metadata": {},
   "outputs": [
    {
     "data": {
      "text/html": [
       "<div>\n",
       "<style scoped>\n",
       "    .dataframe tbody tr th:only-of-type {\n",
       "        vertical-align: middle;\n",
       "    }\n",
       "\n",
       "    .dataframe tbody tr th {\n",
       "        vertical-align: top;\n",
       "    }\n",
       "\n",
       "    .dataframe thead th {\n",
       "        text-align: right;\n",
       "    }\n",
       "</style>\n",
       "<table border=\"1\" class=\"dataframe\">\n",
       "  <thead>\n",
       "    <tr style=\"text-align: right;\">\n",
       "      <th></th>\n",
       "      <th>배출가스인증번호</th>\n",
       "      <th>제작사명</th>\n",
       "      <th>제원관리번호</th>\n",
       "      <th>자동차형식</th>\n",
       "      <th>엔진형식</th>\n",
       "      <th>검사판정</th>\n",
       "      <th>대수</th>\n",
       "      <th>mean</th>\n",
       "      <th>min</th>\n",
       "      <th>max</th>\n",
       "      <th>엔진형식/sum</th>\n",
       "      <th>검사판정비율</th>\n",
       "    </tr>\n",
       "  </thead>\n",
       "  <tbody>\n",
       "    <tr>\n",
       "      <th>0</th>\n",
       "      <td>5MY-BK-14-07</td>\n",
       "      <td>비엠더블유코리아(주)</td>\n",
       "      <td>120001600041305</td>\n",
       "      <td>X3 3.0d</td>\n",
       "      <td>306D3</td>\n",
       "      <td>N</td>\n",
       "      <td>1</td>\n",
       "      <td>1.00</td>\n",
       "      <td>1.0</td>\n",
       "      <td>1.0</td>\n",
       "      <td>124</td>\n",
       "      <td>0.008065</td>\n",
       "    </tr>\n",
       "    <tr>\n",
       "      <th>1</th>\n",
       "      <td>5MY-BK-14-07</td>\n",
       "      <td>비엠더블유코리아(주)</td>\n",
       "      <td>120001600041305</td>\n",
       "      <td>X3 3.0d</td>\n",
       "      <td>306D3</td>\n",
       "      <td>Y</td>\n",
       "      <td>123</td>\n",
       "      <td>1.98</td>\n",
       "      <td>0.0</td>\n",
       "      <td>34.0</td>\n",
       "      <td>124</td>\n",
       "      <td>0.991935</td>\n",
       "    </tr>\n",
       "    <tr>\n",
       "      <th>2</th>\n",
       "      <td>5MY-BK-14-07</td>\n",
       "      <td>비엠더블유코리아(주)</td>\n",
       "      <td>120001600051307</td>\n",
       "      <td>X3 3.0d</td>\n",
       "      <td>306D3</td>\n",
       "      <td>N</td>\n",
       "      <td>1</td>\n",
       "      <td>NaN</td>\n",
       "      <td>NaN</td>\n",
       "      <td>NaN</td>\n",
       "      <td>86</td>\n",
       "      <td>0.011628</td>\n",
       "    </tr>\n",
       "    <tr>\n",
       "      <th>3</th>\n",
       "      <td>5MY-BK-14-07</td>\n",
       "      <td>비엠더블유코리아(주)</td>\n",
       "      <td>120001600051307</td>\n",
       "      <td>X3 3.0d</td>\n",
       "      <td>306D3</td>\n",
       "      <td>Y</td>\n",
       "      <td>85</td>\n",
       "      <td>2.98</td>\n",
       "      <td>0.0</td>\n",
       "      <td>38.0</td>\n",
       "      <td>86</td>\n",
       "      <td>0.988372</td>\n",
       "    </tr>\n",
       "    <tr>\n",
       "      <th>4</th>\n",
       "      <td>6MY-BK-13-08</td>\n",
       "      <td>비엠더블유코리아(주)</td>\n",
       "      <td>120002200001307</td>\n",
       "      <td>X5 3.0d</td>\n",
       "      <td>306D3</td>\n",
       "      <td>Y</td>\n",
       "      <td>503</td>\n",
       "      <td>2.79</td>\n",
       "      <td>0.0</td>\n",
       "      <td>43.0</td>\n",
       "      <td>503</td>\n",
       "      <td>1.000000</td>\n",
       "    </tr>\n",
       "  </tbody>\n",
       "</table>\n",
       "</div>"
      ],
      "text/plain": [
       "       배출가스인증번호         제작사명           제원관리번호    자동차형식   엔진형식 검사판정   대수  mean  \\\n",
       "0  5MY-BK-14-07  비엠더블유코리아(주)  120001600041305  X3 3.0d  306D3    N    1  1.00   \n",
       "1  5MY-BK-14-07  비엠더블유코리아(주)  120001600041305  X3 3.0d  306D3    Y  123  1.98   \n",
       "2  5MY-BK-14-07  비엠더블유코리아(주)  120001600051307  X3 3.0d  306D3    N    1   NaN   \n",
       "3  5MY-BK-14-07  비엠더블유코리아(주)  120001600051307  X3 3.0d  306D3    Y   85  2.98   \n",
       "4  6MY-BK-13-08  비엠더블유코리아(주)  120002200001307  X5 3.0d  306D3    Y  503  2.79   \n",
       "\n",
       "   min   max  엔진형식/sum    검사판정비율  \n",
       "0  1.0   1.0       124  0.008065  \n",
       "1  0.0  34.0       124  0.991935  \n",
       "2  NaN   NaN        86  0.011628  \n",
       "3  0.0  38.0        86  0.988372  \n",
       "4  0.0  43.0       503  1.000000  "
      ]
     },
     "execution_count": 30,
     "metadata": {},
     "output_type": "execute_result"
    }
   ],
   "source": [
    "total_g_df.head()"
   ]
  },
  {
   "cell_type": "code",
   "execution_count": 28,
   "metadata": {},
   "outputs": [
    {
     "data": {
      "text/plain": [
       "((10, 92), (23549, 92), (4863, 92), (6575, 12))"
      ]
     },
     "execution_count": 28,
     "metadata": {},
     "output_type": "execute_result"
    }
   ],
   "source": [
    "total_gas_df_vin17_n.shape, total_gas_df_vin17_y_vin10_year_n.shape, total_gas_df_vin17_y_vin10_year_y_product_n.shape, total_g_df.shape"
   ]
  },
  {
   "cell_type": "code",
   "execution_count": 106,
   "metadata": {},
   "outputs": [],
   "source": [
    "# about 0s\n",
    "total_gas_df_vin17_n.to_excel(os.path.join(gas_nm_fold, f'통합_샘플_차대번호17자리아닌.xlsx'), index=False)"
   ]
  },
  {
   "cell_type": "code",
   "execution_count": 83,
   "metadata": {},
   "outputs": [],
   "source": [
    "# about 28s\n",
    "total_gas_df_vin17_y_vin10_year_n.to_excel(os.path.join(gas_nm_fold, f'통합_샘플_차대번호17자리_차량연식다른.xlsx'), index=False)"
   ]
  },
  {
   "cell_type": "code",
   "execution_count": 84,
   "metadata": {},
   "outputs": [],
   "source": [
    "# about 8s\n",
    "total_gas_df_vin17_y_vin10_year_y_product_n.to_excel(os.path.join(gas_nm_fold, f'통합_샘플_차대번호17자리_차량연식다른_해당제작사아닌.xlsx'), index=False)"
   ]
  },
  {
   "cell_type": "code",
   "execution_count": 37,
   "metadata": {},
   "outputs": [],
   "source": [
    "# about 2s\n",
    "total_g_df.to_excel(os.path.join(analysis_fold, f'통합3_통계_제번별_차형식별_엔진형식별_검사판정별_무부하매연측정치1_{today_date}.xlsx'), index=False)"
   ]
  },
  {
   "attachments": {},
   "cell_type": "markdown",
   "metadata": {},
   "source": [
    "# 없는 배인번호 확인\n",
    "- 없는 배인번호 확인 : 9MY-KM-14-22\n",
    "- 차명 : 쏘렌토\n",
    "- 3등급에 존재 : 4등급으로 변경됨."
   ]
  },
  {
   "cell_type": "code",
   "execution_count": null,
   "metadata": {},
   "outputs": [
    {
     "data": {
      "text/plain": [
       "(0, 92)"
      ]
     },
     "metadata": {},
     "output_type": "display_data"
    }
   ],
   "source": [
    "total[total['배출가스인증번호'] == '9MY-KM-14-22'].shape"
   ]
  },
  {
   "cell_type": "code",
   "execution_count": null,
   "metadata": {},
   "outputs": [
    {
     "data": {
      "text/plain": [
       "(0, 49)"
      ]
     },
     "metadata": {},
     "output_type": "display_data"
    }
   ],
   "source": [
    "df[df['배출가스인증번호'] == '9MY-KM-14-22'].shape"
   ]
  },
  {
   "cell_type": "code",
   "execution_count": null,
   "metadata": {},
   "outputs": [
    {
     "data": {
      "text/plain": [
       "(9621, 49)"
      ]
     },
     "metadata": {},
     "output_type": "display_data"
    }
   ],
   "source": [
    "df[df['차명'] == '쏘렌토'].shape"
   ]
  },
  {
   "cell_type": "code",
   "execution_count": null,
   "metadata": {},
   "outputs": [
    {
     "data": {
      "text/plain": [
       "array(['6MY-KM-24-81', '7MY-KM-14-52', nan], dtype=object)"
      ]
     },
     "metadata": {},
     "output_type": "display_data"
    }
   ],
   "source": [
    "df.loc[df['차명'] == '쏘렌토', '배출가스인증번호'].unique()"
   ]
  },
  {
   "cell_type": "code",
   "execution_count": null,
   "metadata": {},
   "outputs": [
    {
     "data": {
      "text/plain": [
       "(9621, 49)"
      ]
     },
     "metadata": {},
     "output_type": "display_data"
    }
   ],
   "source": [
    "df1[df1['차명'] == '쏘렌토'].shape"
   ]
  },
  {
   "cell_type": "code",
   "execution_count": null,
   "metadata": {},
   "outputs": [
    {
     "data": {
      "text/plain": [
       "(9621, 49)"
      ]
     },
     "metadata": {},
     "output_type": "display_data"
    }
   ],
   "source": [
    "df2[df2['차명'] == '쏘렌토'].shape"
   ]
  },
  {
   "attachments": {},
   "cell_type": "markdown",
   "metadata": {},
   "source": [
    "# code end"
   ]
  }
 ],
 "metadata": {
  "kernelspec": {
   "display_name": "base",
   "language": "python",
   "name": "python3"
  },
  "language_info": {
   "codemirror_mode": {
    "name": "ipython",
    "version": 3
   },
   "file_extension": ".py",
   "mimetype": "text/x-python",
   "name": "python",
   "nbconvert_exporter": "python",
   "pygments_lexer": "ipython3",
   "version": "3.9.13"
  },
  "orig_nbformat": 4,
  "vscode": {
   "interpreter": {
    "hash": "ad2bdc8ecc057115af97d19610ffacc2b4e99fae6737bb82f5d7fb13d2f2c186"
   }
  }
 },
 "nbformat": 4,
 "nbformat_minor": 2
}
