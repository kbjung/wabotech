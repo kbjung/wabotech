{
 "cells": [
  {
   "cell_type": "markdown",
   "metadata": {},
   "source": [
    "# Library"
   ]
  },
  {
   "cell_type": "code",
   "execution_count": 3,
   "metadata": {},
   "outputs": [],
   "source": [
    "# Library\n",
    "import pandas as pd\n",
    "import numpy as np\n",
    "import pyexasol"
   ]
  },
  {
   "cell_type": "code",
   "execution_count": 4,
   "metadata": {},
   "outputs": [],
   "source": [
    "import os"
   ]
  },
  {
   "cell_type": "code",
   "execution_count": 7,
   "metadata": {},
   "outputs": [],
   "source": [
    "df1_fold = 'D:/data/big2/BD1/df'\n",
    "raw1_fold = 'D:/data/big2/BD1/raw'\n",
    "sys_fold = 'D:/data/big2/sys'"
   ]
  },
  {
   "cell_type": "code",
   "execution_count": 6,
   "metadata": {},
   "outputs": [],
   "source": [
    "# 소수점 옵션\n",
    "pd.options.display.float_format = '{:.2f}'.format\n",
    "# pd.reset_option('display.float_format')"
   ]
  },
  {
   "cell_type": "markdown",
   "metadata": {},
   "source": [
    "# Server"
   ]
  },
  {
   "cell_type": "code",
   "execution_count": 2,
   "metadata": {},
   "outputs": [],
   "source": [
    "# # insider db\n",
    "# wd = pyexasol.connect(dsn='172.29.135.35/F99FAB2444F86051A9A467F6313FAAB48AF7C4760663430958E3B89A9DC53361:8563', user='sys', password='exasol', compression=True, schema='VSYSD')\n",
    "# we = pyexasol.connect(dsn='172.29.135.35/F99FAB2444F86051A9A467F6313FAAB48AF7C4760663430958E3B89A9DC53361:8563', user='sys', password='exasol', compression=True, schema='vsyse')"
   ]
  },
  {
   "cell_type": "code",
   "execution_count": 8,
   "metadata": {},
   "outputs": [],
   "source": [
    "# # exasol db\n",
    "# ws = pyexasol.connect(dsn='dev.openankus.org:8563', user='sys', password='djslzja', compression=True, schema='VSYS')\n",
    "# wd = pyexasol.connect(dsn='dev.openankus.org:8563', user='sys', password='djslzja', compression=True, schema='VSYSD')\n",
    "# we = pyexasol.connect(dsn='dev.openankus.org:8563', user='sys', password='djslzja', compression=True, schema='VSYSE')"
   ]
  },
  {
   "cell_type": "markdown",
   "metadata": {},
   "source": [
    "# Data"
   ]
  },
  {
   "cell_type": "code",
   "execution_count": null,
   "metadata": {},
   "outputs": [],
   "source": [
    "# # 9.6s\n",
    "# df = we.export_to_pandas(\"SELECT * from STD_BD_GRD5_LEM_PRIO_ORD_SELCT_CURSTT;\")\n",
    "# df.info()"
   ]
  },
  {
   "cell_type": "code",
   "execution_count": 21,
   "metadata": {},
   "outputs": [],
   "source": [
    "name = 'STD_BD_GRD4_ELPDSRC_CURSTT'\n",
    "file_name = f'{name}.csv'\n",
    "df = pd.read_csv(os.path.join(sys_fold, file_name), low_memory=False)"
   ]
  },
  {
   "cell_type": "code",
   "execution_count": 22,
   "metadata": {},
   "outputs": [
    {
     "name": "stdout",
     "output_type": "stream",
     "text": [
      "<class 'pandas.core.frame.DataFrame'>\n",
      "RangeIndex: 1411482 entries, 0 to 1411481\n",
      "Data columns (total 13 columns):\n",
      " #   Column               Non-Null Count    Dtype  \n",
      "---  ------               --------------    -----  \n",
      " 0   IDX                  1411482 non-null  int64  \n",
      " 1   CRTR_YM              1411482 non-null  float64\n",
      " 2   VIN                  1411482 non-null  object \n",
      " 3   STDG_CD              1411482 non-null  int64  \n",
      " 4   VHCTY_CD             1411482 non-null  object \n",
      " 5   PURPS_CD2            1411482 non-null  object \n",
      " 6   FUEL_CD              1411482 non-null  object \n",
      " 7   VHCTY_TY             1411482 non-null  object \n",
      " 8   CTPV                 1411482 non-null  object \n",
      " 9   SGG                  1402796 non-null  object \n",
      " 10  ELPDSRC_STTS_CD      30783 non-null    object \n",
      " 11  ELPDSRC_LST_APRV_YN  30783 non-null    object \n",
      " 12  LOAD_DT              1411482 non-null  int64  \n",
      "dtypes: float64(1), int64(3), object(9)\n",
      "memory usage: 140.0+ MB\n"
     ]
    }
   ],
   "source": [
    "df.info()"
   ]
  },
  {
   "cell_type": "code",
   "execution_count": 23,
   "metadata": {},
   "outputs": [
    {
     "data": {
      "text/html": [
       "<div>\n",
       "<style scoped>\n",
       "    .dataframe tbody tr th:only-of-type {\n",
       "        vertical-align: middle;\n",
       "    }\n",
       "\n",
       "    .dataframe tbody tr th {\n",
       "        vertical-align: top;\n",
       "    }\n",
       "\n",
       "    .dataframe thead th {\n",
       "        text-align: right;\n",
       "    }\n",
       "</style>\n",
       "<table border=\"1\" class=\"dataframe\">\n",
       "  <thead>\n",
       "    <tr style=\"text-align: right;\">\n",
       "      <th></th>\n",
       "      <th>IDX</th>\n",
       "      <th>CRTR_YM</th>\n",
       "      <th>VIN</th>\n",
       "      <th>STDG_CD</th>\n",
       "      <th>VHCTY_CD</th>\n",
       "      <th>PURPS_CD2</th>\n",
       "      <th>FUEL_CD</th>\n",
       "      <th>VHCTY_TY</th>\n",
       "      <th>CTPV</th>\n",
       "      <th>SGG</th>\n",
       "      <th>ELPDSRC_STTS_CD</th>\n",
       "      <th>ELPDSRC_LST_APRV_YN</th>\n",
       "      <th>LOAD_DT</th>\n",
       "    </tr>\n",
       "  </thead>\n",
       "  <tbody>\n",
       "    <tr>\n",
       "      <th>0</th>\n",
       "      <td>1</td>\n",
       "      <td>2022.12</td>\n",
       "      <td>KMFZSZ7JACU824794</td>\n",
       "      <td>4127100000</td>\n",
       "      <td>화물</td>\n",
       "      <td>개인용</td>\n",
       "      <td>경유</td>\n",
       "      <td>소형</td>\n",
       "      <td>경기도</td>\n",
       "      <td>안산시</td>\n",
       "      <td>NaN</td>\n",
       "      <td>NaN</td>\n",
       "      <td>20230808</td>\n",
       "    </tr>\n",
       "    <tr>\n",
       "      <th>1</th>\n",
       "      <td>2</td>\n",
       "      <td>2022.12</td>\n",
       "      <td>KMFWBX7JACU443538</td>\n",
       "      <td>4519000000</td>\n",
       "      <td>화물</td>\n",
       "      <td>개인용</td>\n",
       "      <td>경유</td>\n",
       "      <td>소형</td>\n",
       "      <td>전라북도</td>\n",
       "      <td>남원시</td>\n",
       "      <td>NaN</td>\n",
       "      <td>NaN</td>\n",
       "      <td>20230808</td>\n",
       "    </tr>\n",
       "    <tr>\n",
       "      <th>2</th>\n",
       "      <td>3</td>\n",
       "      <td>2022.12</td>\n",
       "      <td>KMFZCZ7JBCU830660</td>\n",
       "      <td>4139000000</td>\n",
       "      <td>화물</td>\n",
       "      <td>개인용</td>\n",
       "      <td>경유</td>\n",
       "      <td>소형</td>\n",
       "      <td>경기도</td>\n",
       "      <td>시흥시</td>\n",
       "      <td>NaN</td>\n",
       "      <td>NaN</td>\n",
       "      <td>20230808</td>\n",
       "    </tr>\n",
       "    <tr>\n",
       "      <th>3</th>\n",
       "      <td>4</td>\n",
       "      <td>2022.12</td>\n",
       "      <td>KMFWBX7JBCU428593</td>\n",
       "      <td>2729000000</td>\n",
       "      <td>화물</td>\n",
       "      <td>개인용</td>\n",
       "      <td>경유</td>\n",
       "      <td>소형</td>\n",
       "      <td>대구광역시</td>\n",
       "      <td>달서구</td>\n",
       "      <td>NaN</td>\n",
       "      <td>NaN</td>\n",
       "      <td>20230808</td>\n",
       "    </tr>\n",
       "    <tr>\n",
       "      <th>4</th>\n",
       "      <td>5</td>\n",
       "      <td>2022.12</td>\n",
       "      <td>KMHNU81WBCU187191</td>\n",
       "      <td>4827000000</td>\n",
       "      <td>승용</td>\n",
       "      <td>개인용</td>\n",
       "      <td>경유</td>\n",
       "      <td>대형</td>\n",
       "      <td>경상남도</td>\n",
       "      <td>밀양시</td>\n",
       "      <td>NaN</td>\n",
       "      <td>NaN</td>\n",
       "      <td>20230808</td>\n",
       "    </tr>\n",
       "  </tbody>\n",
       "</table>\n",
       "</div>"
      ],
      "text/plain": [
       "   IDX  CRTR_YM                VIN     STDG_CD VHCTY_CD PURPS_CD2 FUEL_CD   \n",
       "0    1  2022.12  KMFZSZ7JACU824794  4127100000       화물       개인용      경유  \\\n",
       "1    2  2022.12  KMFWBX7JACU443538  4519000000       화물       개인용      경유   \n",
       "2    3  2022.12  KMFZCZ7JBCU830660  4139000000       화물       개인용      경유   \n",
       "3    4  2022.12  KMFWBX7JBCU428593  2729000000       화물       개인용      경유   \n",
       "4    5  2022.12  KMHNU81WBCU187191  4827000000       승용       개인용      경유   \n",
       "\n",
       "  VHCTY_TY   CTPV  SGG ELPDSRC_STTS_CD ELPDSRC_LST_APRV_YN   LOAD_DT  \n",
       "0       소형    경기도  안산시             NaN                 NaN  20230808  \n",
       "1       소형   전라북도  남원시             NaN                 NaN  20230808  \n",
       "2       소형    경기도  시흥시             NaN                 NaN  20230808  \n",
       "3       소형  대구광역시  달서구             NaN                 NaN  20230808  \n",
       "4       대형   경상남도  밀양시             NaN                 NaN  20230808  "
      ]
     },
     "execution_count": 23,
     "metadata": {},
     "output_type": "execute_result"
    }
   ],
   "source": [
    "df.head()"
   ]
  },
  {
   "cell_type": "code",
   "execution_count": 31,
   "metadata": {},
   "outputs": [
    {
     "data": {
      "text/plain": [
       "ELPDSRC_STTS_CD\n",
       "NaN    1380699\n",
       "Y        30704\n",
       "D           78\n",
       "M            1\n",
       "Name: count, dtype: int64"
      ]
     },
     "execution_count": 31,
     "metadata": {},
     "output_type": "execute_result"
    }
   ],
   "source": [
    "df['ELPDSRC_STTS_CD'].value_counts(dropna=False)"
   ]
  },
  {
   "cell_type": "code",
   "execution_count": 32,
   "metadata": {},
   "outputs": [
    {
     "data": {
      "text/plain": [
       "ELPDSRC_LST_APRV_YN\n",
       "NaN    1380699\n",
       "Y        30783\n",
       "Name: count, dtype: int64"
      ]
     },
     "execution_count": 32,
     "metadata": {},
     "output_type": "execute_result"
    }
   ],
   "source": [
    "df['ELPDSRC_LST_APRV_YN'].value_counts(dropna=False)"
   ]
  },
  {
   "cell_type": "code",
   "execution_count": 35,
   "metadata": {},
   "outputs": [
    {
     "data": {
      "text/html": [
       "<div>\n",
       "<style scoped>\n",
       "    .dataframe tbody tr th:only-of-type {\n",
       "        vertical-align: middle;\n",
       "    }\n",
       "\n",
       "    .dataframe tbody tr th {\n",
       "        vertical-align: top;\n",
       "    }\n",
       "\n",
       "    .dataframe thead th {\n",
       "        text-align: right;\n",
       "    }\n",
       "</style>\n",
       "<table border=\"1\" class=\"dataframe\">\n",
       "  <thead>\n",
       "    <tr style=\"text-align: right;\">\n",
       "      <th></th>\n",
       "      <th>IDX</th>\n",
       "      <th>CRTR_YM</th>\n",
       "      <th>VIN</th>\n",
       "      <th>STDG_CD</th>\n",
       "      <th>VHCTY_CD</th>\n",
       "      <th>PURPS_CD2</th>\n",
       "      <th>FUEL_CD</th>\n",
       "      <th>VHCTY_TY</th>\n",
       "      <th>CTPV</th>\n",
       "      <th>SGG</th>\n",
       "      <th>ELPDSRC_STTS_CD</th>\n",
       "      <th>ELPDSRC_LAST_APRV_YN</th>\n",
       "      <th>LOAD_DT</th>\n",
       "    </tr>\n",
       "  </thead>\n",
       "  <tbody>\n",
       "    <tr>\n",
       "      <th>0</th>\n",
       "      <td>1</td>\n",
       "      <td>2022.12</td>\n",
       "      <td>KMFZSZ7JACU824794</td>\n",
       "      <td>4127100000</td>\n",
       "      <td>화물</td>\n",
       "      <td>개인용</td>\n",
       "      <td>경유</td>\n",
       "      <td>소형</td>\n",
       "      <td>경기도</td>\n",
       "      <td>안산시</td>\n",
       "      <td>NaN</td>\n",
       "      <td>NaN</td>\n",
       "      <td>20230808</td>\n",
       "    </tr>\n",
       "    <tr>\n",
       "      <th>1</th>\n",
       "      <td>2</td>\n",
       "      <td>2022.12</td>\n",
       "      <td>KMFWBX7JACU443538</td>\n",
       "      <td>4519000000</td>\n",
       "      <td>화물</td>\n",
       "      <td>개인용</td>\n",
       "      <td>경유</td>\n",
       "      <td>소형</td>\n",
       "      <td>전라북도</td>\n",
       "      <td>남원시</td>\n",
       "      <td>NaN</td>\n",
       "      <td>NaN</td>\n",
       "      <td>20230808</td>\n",
       "    </tr>\n",
       "    <tr>\n",
       "      <th>2</th>\n",
       "      <td>3</td>\n",
       "      <td>2022.12</td>\n",
       "      <td>KMFZCZ7JBCU830660</td>\n",
       "      <td>4139000000</td>\n",
       "      <td>화물</td>\n",
       "      <td>개인용</td>\n",
       "      <td>경유</td>\n",
       "      <td>소형</td>\n",
       "      <td>경기도</td>\n",
       "      <td>시흥시</td>\n",
       "      <td>NaN</td>\n",
       "      <td>NaN</td>\n",
       "      <td>20230808</td>\n",
       "    </tr>\n",
       "    <tr>\n",
       "      <th>3</th>\n",
       "      <td>4</td>\n",
       "      <td>2022.12</td>\n",
       "      <td>KMFWBX7JBCU428593</td>\n",
       "      <td>2729000000</td>\n",
       "      <td>화물</td>\n",
       "      <td>개인용</td>\n",
       "      <td>경유</td>\n",
       "      <td>소형</td>\n",
       "      <td>대구광역시</td>\n",
       "      <td>달서구</td>\n",
       "      <td>NaN</td>\n",
       "      <td>NaN</td>\n",
       "      <td>20230808</td>\n",
       "    </tr>\n",
       "    <tr>\n",
       "      <th>4</th>\n",
       "      <td>5</td>\n",
       "      <td>2022.12</td>\n",
       "      <td>KMHNU81WBCU187191</td>\n",
       "      <td>4827000000</td>\n",
       "      <td>승용</td>\n",
       "      <td>개인용</td>\n",
       "      <td>경유</td>\n",
       "      <td>대형</td>\n",
       "      <td>경상남도</td>\n",
       "      <td>밀양시</td>\n",
       "      <td>NaN</td>\n",
       "      <td>NaN</td>\n",
       "      <td>20230808</td>\n",
       "    </tr>\n",
       "  </tbody>\n",
       "</table>\n",
       "</div>"
      ],
      "text/plain": [
       "   IDX  CRTR_YM                VIN     STDG_CD VHCTY_CD PURPS_CD2 FUEL_CD   \n",
       "0    1  2022.12  KMFZSZ7JACU824794  4127100000       화물       개인용      경유  \\\n",
       "1    2  2022.12  KMFWBX7JACU443538  4519000000       화물       개인용      경유   \n",
       "2    3  2022.12  KMFZCZ7JBCU830660  4139000000       화물       개인용      경유   \n",
       "3    4  2022.12  KMFWBX7JBCU428593  2729000000       화물       개인용      경유   \n",
       "4    5  2022.12  KMHNU81WBCU187191  4827000000       승용       개인용      경유   \n",
       "\n",
       "  VHCTY_TY   CTPV  SGG ELPDSRC_STTS_CD ELPDSRC_LAST_APRV_YN   LOAD_DT  \n",
       "0       소형    경기도  안산시             NaN                  NaN  20230808  \n",
       "1       소형   전라북도  남원시             NaN                  NaN  20230808  \n",
       "2       소형    경기도  시흥시             NaN                  NaN  20230808  \n",
       "3       소형  대구광역시  달서구             NaN                  NaN  20230808  \n",
       "4       대형   경상남도  밀양시             NaN                  NaN  20230808  "
      ]
     },
     "execution_count": 35,
     "metadata": {},
     "output_type": "execute_result"
    }
   ],
   "source": [
    "df = df.rename(columns={'ELPDSRC_LST_APRV_YN':'ELPDSRC_LAST_APRV_YN'})\n",
    "df.head()"
   ]
  },
  {
   "cell_type": "code",
   "execution_count": 36,
   "metadata": {},
   "outputs": [],
   "source": [
    "df.to_csv(os.path.join(sys_fold, 'STD_BD_GRD4_ELPDSRC_CURSTT.csv'), index=False)"
   ]
  },
  {
   "cell_type": "code",
   "execution_count": null,
   "metadata": {},
   "outputs": [],
   "source": []
  }
 ],
 "metadata": {
  "kernelspec": {
   "display_name": "base",
   "language": "python",
   "name": "python3"
  },
  "language_info": {
   "codemirror_mode": {
    "name": "ipython",
    "version": 3
   },
   "file_extension": ".py",
   "mimetype": "text/x-python",
   "name": "python",
   "nbconvert_exporter": "python",
   "pygments_lexer": "ipython3",
   "version": "3.9.13"
  },
  "orig_nbformat": 4
 },
 "nbformat": 4,
 "nbformat_minor": 2
}
