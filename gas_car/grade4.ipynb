{
 "cells": [
  {
   "cell_type": "markdown",
   "metadata": {},
   "source": [
    "# Library"
   ]
  },
  {
   "cell_type": "code",
   "execution_count": 206,
   "metadata": {},
   "outputs": [],
   "source": [
    "import pandas as pd\n",
    "import numpy as np\n",
    "import re\n",
    "from tqdm import tqdm"
   ]
  },
  {
   "cell_type": "markdown",
   "metadata": {},
   "source": [
    "## [로드] 말소 데이터"
   ]
  },
  {
   "cell_type": "code",
   "execution_count": 207,
   "metadata": {},
   "outputs": [
    {
     "name": "stdout",
     "output_type": "stream",
     "text": [
      "<class 'pandas.core.frame.DataFrame'>\n",
      "RangeIndex: 42 entries, 0 to 41\n",
      "Data columns (total 1 columns):\n",
      " #   Column  Non-Null Count  Dtype \n",
      "---  ------  --------------  ----- \n",
      " 0   컬럼명     42 non-null     object\n",
      "dtypes: object(1)\n",
      "memory usage: 464.0+ bytes\n"
     ]
    }
   ],
   "source": [
    "ex_col_df = pd.read_excel('data/220819_22.06월기준_말소_컬럼.xlsx')\n",
    "ex_col_df.info()"
   ]
  },
  {
   "cell_type": "code",
   "execution_count": 208,
   "metadata": {},
   "outputs": [
    {
     "data": {
      "text/html": [
       "<div>\n",
       "<style scoped>\n",
       "    .dataframe tbody tr th:only-of-type {\n",
       "        vertical-align: middle;\n",
       "    }\n",
       "\n",
       "    .dataframe tbody tr th {\n",
       "        vertical-align: top;\n",
       "    }\n",
       "\n",
       "    .dataframe thead th {\n",
       "        text-align: right;\n",
       "    }\n",
       "</style>\n",
       "<table border=\"1\" class=\"dataframe\">\n",
       "  <thead>\n",
       "    <tr style=\"text-align: right;\">\n",
       "      <th></th>\n",
       "      <th>컬럼명</th>\n",
       "    </tr>\n",
       "  </thead>\n",
       "  <tbody>\n",
       "    <tr>\n",
       "      <th>0</th>\n",
       "      <td>차량관리번호</td>\n",
       "    </tr>\n",
       "    <tr>\n",
       "      <th>1</th>\n",
       "      <td>차량등록번호</td>\n",
       "    </tr>\n",
       "    <tr>\n",
       "      <th>2</th>\n",
       "      <td>본거지법정동코드</td>\n",
       "    </tr>\n",
       "    <tr>\n",
       "      <th>3</th>\n",
       "      <td>소유자구분</td>\n",
       "    </tr>\n",
       "    <tr>\n",
       "      <th>4</th>\n",
       "      <td>차종_등록정보</td>\n",
       "    </tr>\n",
       "  </tbody>\n",
       "</table>\n",
       "</div>"
      ],
      "text/plain": [
       "        컬럼명\n",
       "0    차량관리번호\n",
       "1    차량등록번호\n",
       "2  본거지법정동코드\n",
       "3     소유자구분\n",
       "4   차종_등록정보"
      ]
     },
     "execution_count": 208,
     "metadata": {},
     "output_type": "execute_result"
    }
   ],
   "source": [
    "ex_col_df.head()"
   ]
  },
  {
   "cell_type": "code",
   "execution_count": 209,
   "metadata": {},
   "outputs": [
    {
     "data": {
      "text/plain": [
       "42"
      ]
     },
     "execution_count": 209,
     "metadata": {},
     "output_type": "execute_result"
    }
   ],
   "source": [
    "ex_col = ex_col_df['컬럼명']\n",
    "len(ex_col)"
   ]
  },
  {
   "cell_type": "code",
   "execution_count": 210,
   "metadata": {},
   "outputs": [
    {
     "data": {
      "text/plain": [
       "0          차량관리번호\n",
       "1          차량등록번호\n",
       "2        본거지법정동코드\n",
       "3           소유자구분\n",
       "4         차종_등록정보\n",
       "5              용도\n",
       "6            차대번호\n",
       "7          최초등록일자\n",
       "8            차량연식\n",
       "9          차량제작일자\n",
       "10          검사유효일\n",
       "11         제원관리번호\n",
       "12       배출가스인증번호\n",
       "13         배출가스등급\n",
       "14        저공해조치종류\n",
       "15    저공해조치구조변경YN\n",
       "16         차량말소YN\n",
       "17           취득일자\n",
       "18           취득금액\n",
       "19             차명\n",
       "20        차종_제원정보\n",
       "21           차종분류\n",
       "22           차종유형\n",
       "23          자동차형식\n",
       "24           제작사명\n",
       "25             연료\n",
       "26           엔진형식\n",
       "27            총중량\n",
       "28           적재중량\n",
       "29           엔진출력\n",
       "30            배기량\n",
       "31           승차인원\n",
       "32           차량길이\n",
       "33           차량너비\n",
       "34           차량높이\n",
       "35           원산지명\n",
       "36           삭제YN\n",
       "37         제원승인일자\n",
       "38           구동형식\n",
       "39          변속기종류\n",
       "40           말소일자\n",
       "41           말소코드\n",
       "Name: 컬럼명, dtype: object"
      ]
     },
     "execution_count": 210,
     "metadata": {},
     "output_type": "execute_result"
    }
   ],
   "source": [
    "ex_col"
   ]
  },
  {
   "cell_type": "code",
   "execution_count": 211,
   "metadata": {},
   "outputs": [
    {
     "data": {
      "text/plain": [
       "Index(['차대번호', '차량말소YN'], dtype='object')"
      ]
     },
     "execution_count": 211,
     "metadata": {},
     "output_type": "execute_result"
    }
   ],
   "source": [
    "# 20.8s\n",
    "ex = pd.read_table('data/220819_22.06월기준_말소.txt', header=42, names=ex_col, usecols=['차대번호', '차량말소YN'], encoding='cp949')\n",
    "ex.columns"
   ]
  },
  {
   "cell_type": "code",
   "execution_count": 212,
   "metadata": {},
   "outputs": [
    {
     "name": "stdout",
     "output_type": "stream",
     "text": [
      "<class 'pandas.core.frame.DataFrame'>\n",
      "RangeIndex: 3653054 entries, 0 to 3653053\n",
      "Data columns (total 2 columns):\n",
      " #   Column  Dtype \n",
      "---  ------  ----- \n",
      " 0   차대번호    object\n",
      " 1   차량말소YN  object\n",
      "dtypes: object(2)\n",
      "memory usage: 55.7+ MB\n"
     ]
    }
   ],
   "source": [
    "ex.info()"
   ]
  },
  {
   "cell_type": "code",
   "execution_count": 213,
   "metadata": {},
   "outputs": [
    {
     "data": {
      "text/plain": [
       "array(['Y'], dtype=object)"
      ]
     },
     "execution_count": 213,
     "metadata": {},
     "output_type": "execute_result"
    }
   ],
   "source": [
    "ex['차량말소YN'].unique()"
   ]
  },
  {
   "cell_type": "markdown",
   "metadata": {},
   "source": [
    "## [로드] 컬럼명 데이터"
   ]
  },
  {
   "cell_type": "code",
   "execution_count": 214,
   "metadata": {},
   "outputs": [],
   "source": [
    "col_df = pd.read_table('data/[제원정보]컬럼명.txt', sep=',')\n",
    "col= col_df.columns"
   ]
  },
  {
   "cell_type": "code",
   "execution_count": 215,
   "metadata": {},
   "outputs": [
    {
     "data": {
      "text/plain": [
       "Index(['차량관리번호', '차량등록번호', '본거지법정동코드', '소유자구분', '차종_등록정보', '용도', '차대번호',\n",
       "       '최초등록일자', '차량연식', '차량제작일자', '검사유효일', '제원관리번호', '배출가스인증번호', '배출가스등급',\n",
       "       '저공해조치종류', '저공해조치구조변경YN', '차량말소YN', '취득일자', '취득금액', '차명', '차종_제원정보',\n",
       "       '차종분류', '차종유형', '자동차형식', '제작사명', '연료', '엔진형식', '총중량', '적재중량', '엔진출력',\n",
       "       '배기량', '승차인원', '차량길이', '차량너비', '차량높이', '원산지명', '삭제YN', '제원승인일자', '구동형식',\n",
       "       '변속기종류'],\n",
       "      dtype='object')"
      ]
     },
     "execution_count": 215,
     "metadata": {},
     "output_type": "execute_result"
    }
   ],
   "source": [
    "col"
   ]
  },
  {
   "cell_type": "markdown",
   "metadata": {},
   "source": [
    "## [로드] 파일"
   ]
  },
  {
   "cell_type": "code",
   "execution_count": 216,
   "metadata": {},
   "outputs": [
    {
     "name": "stderr",
     "output_type": "stream",
     "text": [
      "C:\\Users\\kbjung\\AppData\\Local\\Temp\\ipykernel_15180\\3437007485.py:2: DtypeWarning: Columns (14,17,29,37,38) have mixed types. Specify dtype option on import or set low_memory=False.\n",
      "  df = pd.read_table('data/220819_22.06월기준_4등급.txt', encoding='cp949', header=40, names=col)\n"
     ]
    },
    {
     "name": "stdout",
     "output_type": "stream",
     "text": [
      "<class 'pandas.core.frame.DataFrame'>\n",
      "RangeIndex: 1528586 entries, 0 to 1528585\n",
      "Data columns (total 40 columns):\n",
      " #   Column       Non-Null Count    Dtype  \n",
      "---  ------       --------------    -----  \n",
      " 0   차량관리번호       1528586 non-null  object \n",
      " 1   차량등록번호       1528586 non-null  object \n",
      " 2   본거지법정동코드     1528586 non-null  int64  \n",
      " 3   소유자구분        1528586 non-null  object \n",
      " 4   차종_등록정보      1528584 non-null  object \n",
      " 5   용도           1528586 non-null  object \n",
      " 6   차대번호         1528586 non-null  object \n",
      " 7   최초등록일자       1528586 non-null  int64  \n",
      " 8   차량연식         1528586 non-null  int64  \n",
      " 9   차량제작일자       1358925 non-null  float64\n",
      " 10  검사유효일        1528574 non-null  float64\n",
      " 11  제원관리번호       1528586 non-null  object \n",
      " 12  배출가스인증번호     1405585 non-null  object \n",
      " 13  배출가스등급       1528586 non-null  int64  \n",
      " 14  저공해조치종류      195 non-null      object \n",
      " 15  저공해조치구조변경YN  1528586 non-null  object \n",
      " 16  차량말소YN       1528586 non-null  object \n",
      " 17  취득일자         1435514 non-null  object \n",
      " 18  취득금액         1453613 non-null  float64\n",
      " 19  차명           1528586 non-null  object \n",
      " 20  차종_제원정보      1528586 non-null  object \n",
      " 21  차종분류         1528586 non-null  object \n",
      " 22  차종유형         1528586 non-null  object \n",
      " 23  자동차형식        1528302 non-null  object \n",
      " 24  제작사명         1518694 non-null  object \n",
      " 25  연료           1528586 non-null  object \n",
      " 26  엔진형식         1526740 non-null  object \n",
      " 27  총중량          1528585 non-null  float64\n",
      " 28  적재중량         1528075 non-null  float64\n",
      " 29  엔진출력         1528227 non-null  object \n",
      " 30  배기량          1528582 non-null  float64\n",
      " 31  승차인원         1528586 non-null  int64  \n",
      " 32  차량길이         1528585 non-null  float64\n",
      " 33  차량너비         1528585 non-null  float64\n",
      " 34  차량높이         1528583 non-null  float64\n",
      " 35  원산지명         1509499 non-null  object \n",
      " 36  삭제YN         1528586 non-null  object \n",
      " 37  제원승인일자       1528155 non-null  object \n",
      " 38  구동형식         41 non-null       object \n",
      " 39  변속기종류        1528426 non-null  object \n",
      "dtypes: float64(9), int64(5), object(26)\n",
      "memory usage: 466.5+ MB\n"
     ]
    }
   ],
   "source": [
    "# 22.3s\n",
    "df = pd.read_table('data/220819_22.06월기준_4등급.txt', encoding='cp949', header=40, names=col)\n",
    "df.info()"
   ]
  },
  {
   "attachments": {},
   "cell_type": "markdown",
   "metadata": {},
   "source": [
    "# 전처리"
   ]
  },
  {
   "attachments": {},
   "cell_type": "markdown",
   "metadata": {},
   "source": [
    "## 차량말소 정보 추가"
   ]
  },
  {
   "cell_type": "code",
   "execution_count": 217,
   "metadata": {},
   "outputs": [
    {
     "data": {
      "text/plain": [
       "array(['N'], dtype=object)"
      ]
     },
     "execution_count": 217,
     "metadata": {},
     "output_type": "execute_result"
    }
   ],
   "source": [
    "df['차량말소YN'].unique()"
   ]
  },
  {
   "cell_type": "code",
   "execution_count": 218,
   "metadata": {},
   "outputs": [
    {
     "data": {
      "text/plain": [
       "array([nan, 'Y'], dtype=object)"
      ]
     },
     "execution_count": 218,
     "metadata": {},
     "output_type": "execute_result"
    }
   ],
   "source": [
    "df2 = df.merge(ex, on='차대번호', how='left')\n",
    "df2['차량말소YN_y'].unique()"
   ]
  },
  {
   "cell_type": "code",
   "execution_count": 219,
   "metadata": {},
   "outputs": [
    {
     "data": {
      "text/plain": [
       "(1528579, 41)"
      ]
     },
     "execution_count": 219,
     "metadata": {},
     "output_type": "execute_result"
    }
   ],
   "source": [
    "df3 = df2[df2['차량말소YN_y'].isnull() == True].copy()\n",
    "df3.shape"
   ]
  },
  {
   "cell_type": "code",
   "execution_count": 220,
   "metadata": {},
   "outputs": [
    {
     "data": {
      "text/plain": [
       "Index(['차량관리번호', '차량등록번호', '본거지법정동코드', '소유자구분', '차종_등록정보', '용도', '차대번호',\n",
       "       '최초등록일자', '차량연식', '차량제작일자', '검사유효일', '제원관리번호', '배출가스인증번호', '배출가스등급',\n",
       "       '저공해조치종류', '저공해조치구조변경YN', '차량말소YN_x', '취득일자', '취득금액', '차명', '차종_제원정보',\n",
       "       '차종분류', '차종유형', '자동차형식', '제작사명', '연료', '엔진형식', '총중량', '적재중량', '엔진출력',\n",
       "       '배기량', '승차인원', '차량길이', '차량너비', '차량높이', '원산지명', '삭제YN', '제원승인일자', '구동형식',\n",
       "       '변속기종류', '차량말소YN_y'],\n",
       "      dtype='object')"
      ]
     },
     "execution_count": 220,
     "metadata": {},
     "output_type": "execute_result"
    }
   ],
   "source": [
    "df3.columns"
   ]
  },
  {
   "cell_type": "code",
   "execution_count": 221,
   "metadata": {},
   "outputs": [
    {
     "data": {
      "text/plain": [
       "Index(['차량관리번호', '차량등록번호', '본거지법정동코드', '소유자구분', '차종_등록정보', '용도', '차대번호',\n",
       "       '최초등록일자', '차량연식', '차량제작일자', '검사유효일', '제원관리번호', '배출가스인증번호', '배출가스등급',\n",
       "       '저공해조치종류', '저공해조치구조변경YN', '취득일자', '취득금액', '차명', '차종_제원정보', '차종분류',\n",
       "       '차종유형', '자동차형식', '제작사명', '연료', '엔진형식', '총중량', '적재중량', '엔진출력', '배기량',\n",
       "       '승차인원', '차량길이', '차량너비', '차량높이', '원산지명', '삭제YN', '제원승인일자', '구동형식',\n",
       "       '변속기종류', '차량말소YN_y'],\n",
       "      dtype='object')"
      ]
     },
     "execution_count": 221,
     "metadata": {},
     "output_type": "execute_result"
    }
   ],
   "source": [
    "df3 = df3.drop('차량말소YN_x', axis=1)\n",
    "df3.columns"
   ]
  },
  {
   "cell_type": "code",
   "execution_count": 222,
   "metadata": {},
   "outputs": [],
   "source": [
    "df3.columns = ['차량관리번호', '차량등록번호', '본거지법정동코드', '소유자구분', '차종_등록정보', '용도', '차대번호',\n",
    "       '최초등록일자', '차량연식', '차량제작일자', '검사유효일', '제원관리번호', '배출가스인증번호', '배출가스등급',\n",
    "       '저공해조치종류', '저공해조치구조변경YN', '취득일자', '취득금액', '차명', '차종_제원정보', '차종분류',\n",
    "       '차종유형', '자동차형식', '제작사명', '연료', '엔진형식', '총중량', '적재중량', '엔진출력', '배기량',\n",
    "       '승차인원', '차량길이', '차량너비', '차량높이', '원산지명', '삭제YN', '제원승인일자', '구동형식',\n",
    "       '변속기종류', '차량말소YN']"
   ]
  },
  {
   "cell_type": "code",
   "execution_count": 223,
   "metadata": {},
   "outputs": [
    {
     "data": {
      "text/plain": [
       "Index(['차량관리번호', '차량등록번호', '본거지법정동코드', '소유자구분', '차종_등록정보', '용도', '차대번호',\n",
       "       '최초등록일자', '차량연식', '차량제작일자', '검사유효일', '제원관리번호', '배출가스인증번호', '배출가스등급',\n",
       "       '저공해조치종류', '저공해조치구조변경YN', '취득일자', '취득금액', '차명', '차종_제원정보', '차종분류',\n",
       "       '차종유형', '자동차형식', '제작사명', '연료', '엔진형식', '총중량', '적재중량', '엔진출력', '배기량',\n",
       "       '승차인원', '차량길이', '차량너비', '차량높이', '원산지명', '삭제YN', '제원승인일자', '구동형식',\n",
       "       '변속기종류', '차량말소YN'],\n",
       "      dtype='object')"
      ]
     },
     "execution_count": 223,
     "metadata": {},
     "output_type": "execute_result"
    }
   ],
   "source": [
    "df3.columns"
   ]
  },
  {
   "attachments": {},
   "cell_type": "markdown",
   "metadata": {},
   "source": [
    "## 차대번호 중복"
   ]
  },
  {
   "cell_type": "code",
   "execution_count": 224,
   "metadata": {},
   "outputs": [
    {
     "data": {
      "text/plain": [
       "1528557"
      ]
     },
     "execution_count": 224,
     "metadata": {},
     "output_type": "execute_result"
    }
   ],
   "source": [
    "len(df3['차대번호'].unique())"
   ]
  },
  {
   "cell_type": "code",
   "execution_count": 225,
   "metadata": {},
   "outputs": [
    {
     "data": {
      "text/plain": [
       "(1528579, 40)"
      ]
     },
     "execution_count": 225,
     "metadata": {},
     "output_type": "execute_result"
    }
   ],
   "source": [
    "df3.shape"
   ]
  },
  {
   "cell_type": "code",
   "execution_count": 226,
   "metadata": {},
   "outputs": [
    {
     "data": {
      "text/html": [
       "<div>\n",
       "<style scoped>\n",
       "    .dataframe tbody tr th:only-of-type {\n",
       "        vertical-align: middle;\n",
       "    }\n",
       "\n",
       "    .dataframe tbody tr th {\n",
       "        vertical-align: top;\n",
       "    }\n",
       "\n",
       "    .dataframe thead th {\n",
       "        text-align: right;\n",
       "    }\n",
       "</style>\n",
       "<table border=\"1\" class=\"dataframe\">\n",
       "  <thead>\n",
       "    <tr style=\"text-align: right;\">\n",
       "      <th></th>\n",
       "      <th>차량관리번호</th>\n",
       "      <th>차량등록번호</th>\n",
       "      <th>본거지법정동코드</th>\n",
       "      <th>소유자구분</th>\n",
       "      <th>차종_등록정보</th>\n",
       "      <th>용도</th>\n",
       "      <th>차대번호</th>\n",
       "      <th>최초등록일자</th>\n",
       "      <th>차량연식</th>\n",
       "      <th>차량제작일자</th>\n",
       "      <th>...</th>\n",
       "      <th>승차인원</th>\n",
       "      <th>차량길이</th>\n",
       "      <th>차량너비</th>\n",
       "      <th>차량높이</th>\n",
       "      <th>원산지명</th>\n",
       "      <th>삭제YN</th>\n",
       "      <th>제원승인일자</th>\n",
       "      <th>구동형식</th>\n",
       "      <th>변속기종류</th>\n",
       "      <th>차량말소YN</th>\n",
       "    </tr>\n",
       "  </thead>\n",
       "  <tbody>\n",
       "    <tr>\n",
       "      <th>747837</th>\n",
       "      <td>1GBEL19W3XB192382-02</td>\n",
       "      <td>39고6855</td>\n",
       "      <td>1141011800</td>\n",
       "      <td>주민</td>\n",
       "      <td>승용</td>\n",
       "      <td>자가용</td>\n",
       "      <td>1GBEL19W3XB192382</td>\n",
       "      <td>20091013</td>\n",
       "      <td>1999</td>\n",
       "      <td>19991231.0</td>\n",
       "      <td>...</td>\n",
       "      <td>6</td>\n",
       "      <td>4805.0</td>\n",
       "      <td>1980.0</td>\n",
       "      <td>1915.0</td>\n",
       "      <td>독일</td>\n",
       "      <td>N</td>\n",
       "      <td>20090805</td>\n",
       "      <td>NaN</td>\n",
       "      <td>자동</td>\n",
       "      <td>NaN</td>\n",
       "    </tr>\n",
       "    <tr>\n",
       "      <th>1424917</th>\n",
       "      <td>1GBEL19W3XB192382-01</td>\n",
       "      <td>36거2927</td>\n",
       "      <td>1111017500</td>\n",
       "      <td>주민</td>\n",
       "      <td>승용</td>\n",
       "      <td>자가용</td>\n",
       "      <td>1GBEL19W3XB192382</td>\n",
       "      <td>20090917</td>\n",
       "      <td>1999</td>\n",
       "      <td>20081124.0</td>\n",
       "      <td>...</td>\n",
       "      <td>6</td>\n",
       "      <td>4805.0</td>\n",
       "      <td>1980.0</td>\n",
       "      <td>1915.0</td>\n",
       "      <td>독일</td>\n",
       "      <td>N</td>\n",
       "      <td>20090805</td>\n",
       "      <td>NaN</td>\n",
       "      <td>자동</td>\n",
       "      <td>NaN</td>\n",
       "    </tr>\n",
       "    <tr>\n",
       "      <th>173765</th>\n",
       "      <td>2799대구2고2891</td>\n",
       "      <td>대구2고2891</td>\n",
       "      <td>2717010200</td>\n",
       "      <td>주민</td>\n",
       "      <td>승용</td>\n",
       "      <td>자가용</td>\n",
       "      <td>KLAEM19W1NB116889</td>\n",
       "      <td>19920127</td>\n",
       "      <td>1992</td>\n",
       "      <td>NaN</td>\n",
       "      <td>...</td>\n",
       "      <td>5</td>\n",
       "      <td>4800.0</td>\n",
       "      <td>1720.0</td>\n",
       "      <td>1417.0</td>\n",
       "      <td>대한민국</td>\n",
       "      <td>N</td>\n",
       "      <td>19910531</td>\n",
       "      <td>NaN</td>\n",
       "      <td>수동</td>\n",
       "      <td>NaN</td>\n",
       "    </tr>\n",
       "    <tr>\n",
       "      <th>1522531</th>\n",
       "      <td>1199서울2수2138</td>\n",
       "      <td>서울2수2138</td>\n",
       "      <td>2818510600</td>\n",
       "      <td>주민</td>\n",
       "      <td>승용</td>\n",
       "      <td>자가용</td>\n",
       "      <td>KLAEM19W1NB116889</td>\n",
       "      <td>19920127</td>\n",
       "      <td>1992</td>\n",
       "      <td>NaN</td>\n",
       "      <td>...</td>\n",
       "      <td>5</td>\n",
       "      <td>4800.0</td>\n",
       "      <td>1720.0</td>\n",
       "      <td>1417.0</td>\n",
       "      <td>대한민국</td>\n",
       "      <td>N</td>\n",
       "      <td>19910531.0</td>\n",
       "      <td>NaN</td>\n",
       "      <td>수동</td>\n",
       "      <td>NaN</td>\n",
       "    </tr>\n",
       "    <tr>\n",
       "      <th>639215</th>\n",
       "      <td>KLASM69F1JB054053-02</td>\n",
       "      <td>서울4모4528</td>\n",
       "      <td>1153010800</td>\n",
       "      <td>법인</td>\n",
       "      <td>승용</td>\n",
       "      <td>자가용</td>\n",
       "      <td>KLASM69F1JB054053</td>\n",
       "      <td>19880305</td>\n",
       "      <td>1988</td>\n",
       "      <td>NaN</td>\n",
       "      <td>...</td>\n",
       "      <td>5</td>\n",
       "      <td>4934.0</td>\n",
       "      <td>1720.0</td>\n",
       "      <td>1420.0</td>\n",
       "      <td>대한민국</td>\n",
       "      <td>N</td>\n",
       "      <td>19871205.0</td>\n",
       "      <td>NaN</td>\n",
       "      <td>수동</td>\n",
       "      <td>NaN</td>\n",
       "    </tr>\n",
       "    <tr>\n",
       "      <th>1022721</th>\n",
       "      <td>KLASM69F1JB054053-01</td>\n",
       "      <td>서울4수5512</td>\n",
       "      <td>1174010500</td>\n",
       "      <td>법인</td>\n",
       "      <td>승용</td>\n",
       "      <td>자가용</td>\n",
       "      <td>KLASM69F1JB054053</td>\n",
       "      <td>19880304</td>\n",
       "      <td>1988</td>\n",
       "      <td>NaN</td>\n",
       "      <td>...</td>\n",
       "      <td>5</td>\n",
       "      <td>4934.0</td>\n",
       "      <td>1720.0</td>\n",
       "      <td>1420.0</td>\n",
       "      <td>대한민국</td>\n",
       "      <td>N</td>\n",
       "      <td>19871205.0</td>\n",
       "      <td>NaN</td>\n",
       "      <td>수동</td>\n",
       "      <td>NaN</td>\n",
       "    </tr>\n",
       "    <tr>\n",
       "      <th>1486742</th>\n",
       "      <td>1199서울4드4983</td>\n",
       "      <td>서울4드4983</td>\n",
       "      <td>1138010300</td>\n",
       "      <td>주민</td>\n",
       "      <td>승용</td>\n",
       "      <td>자가용</td>\n",
       "      <td>KLATF19T1LB267581</td>\n",
       "      <td>19900124</td>\n",
       "      <td>1990</td>\n",
       "      <td>NaN</td>\n",
       "      <td>...</td>\n",
       "      <td>5</td>\n",
       "      <td>4390.0</td>\n",
       "      <td>1660.0</td>\n",
       "      <td>1360.0</td>\n",
       "      <td>NaN</td>\n",
       "      <td>N</td>\n",
       "      <td>19880805.0</td>\n",
       "      <td>NaN</td>\n",
       "      <td>수동</td>\n",
       "      <td>NaN</td>\n",
       "    </tr>\n",
       "    <tr>\n",
       "      <th>29276</th>\n",
       "      <td>1199서울4드4981</td>\n",
       "      <td>서울4드4981</td>\n",
       "      <td>1156010800</td>\n",
       "      <td>주민</td>\n",
       "      <td>승용</td>\n",
       "      <td>자가용</td>\n",
       "      <td>KLATF19T1LB267581</td>\n",
       "      <td>19900124</td>\n",
       "      <td>1990</td>\n",
       "      <td>NaN</td>\n",
       "      <td>...</td>\n",
       "      <td>5</td>\n",
       "      <td>4390.0</td>\n",
       "      <td>1660.0</td>\n",
       "      <td>1360.0</td>\n",
       "      <td>NaN</td>\n",
       "      <td>N</td>\n",
       "      <td>19880805</td>\n",
       "      <td>NaN</td>\n",
       "      <td>수동</td>\n",
       "      <td>NaN</td>\n",
       "    </tr>\n",
       "    <tr>\n",
       "      <th>659488</th>\n",
       "      <td>KLATF19T1NB526286-01</td>\n",
       "      <td>경남1우3305</td>\n",
       "      <td>4812515800</td>\n",
       "      <td>주민</td>\n",
       "      <td>승용</td>\n",
       "      <td>자가용</td>\n",
       "      <td>KLATF19T1NB526286</td>\n",
       "      <td>19920422</td>\n",
       "      <td>1992</td>\n",
       "      <td>NaN</td>\n",
       "      <td>...</td>\n",
       "      <td>5</td>\n",
       "      <td>4510.0</td>\n",
       "      <td>1663.0</td>\n",
       "      <td>1362.0</td>\n",
       "      <td>NaN</td>\n",
       "      <td>N</td>\n",
       "      <td>19910814.0</td>\n",
       "      <td>NaN</td>\n",
       "      <td>수동</td>\n",
       "      <td>NaN</td>\n",
       "    </tr>\n",
       "    <tr>\n",
       "      <th>682561</th>\n",
       "      <td>KLATF19T1NB526286-02</td>\n",
       "      <td>서울4쿠8476</td>\n",
       "      <td>1138011400</td>\n",
       "      <td>주민</td>\n",
       "      <td>승용</td>\n",
       "      <td>자가용</td>\n",
       "      <td>KLATF19T1NB526286</td>\n",
       "      <td>19930112</td>\n",
       "      <td>1992</td>\n",
       "      <td>NaN</td>\n",
       "      <td>...</td>\n",
       "      <td>5</td>\n",
       "      <td>4510.0</td>\n",
       "      <td>1663.0</td>\n",
       "      <td>1362.0</td>\n",
       "      <td>대한민국</td>\n",
       "      <td>N</td>\n",
       "      <td>19920605</td>\n",
       "      <td>NaN</td>\n",
       "      <td>수동</td>\n",
       "      <td>NaN</td>\n",
       "    </tr>\n",
       "    <tr>\n",
       "      <th>962845</th>\n",
       "      <td>KLAVM69H1JB075787-02</td>\n",
       "      <td>서울4무8010</td>\n",
       "      <td>1171010700</td>\n",
       "      <td>주민</td>\n",
       "      <td>승용</td>\n",
       "      <td>자가용</td>\n",
       "      <td>KLAVM69H1JB075787</td>\n",
       "      <td>19880804</td>\n",
       "      <td>1988</td>\n",
       "      <td>NaN</td>\n",
       "      <td>...</td>\n",
       "      <td>5</td>\n",
       "      <td>4796.0</td>\n",
       "      <td>1720.0</td>\n",
       "      <td>1420.0</td>\n",
       "      <td>NaN</td>\n",
       "      <td>N</td>\n",
       "      <td>19870317.0</td>\n",
       "      <td>NaN</td>\n",
       "      <td>수동</td>\n",
       "      <td>NaN</td>\n",
       "    </tr>\n",
       "    <tr>\n",
       "      <th>1137609</th>\n",
       "      <td>KLAVM69H1JB075787-01</td>\n",
       "      <td>전북1마4284</td>\n",
       "      <td>4514031024</td>\n",
       "      <td>주민</td>\n",
       "      <td>승용</td>\n",
       "      <td>자가용</td>\n",
       "      <td>KLAVM69H1JB075787</td>\n",
       "      <td>19880423</td>\n",
       "      <td>1988</td>\n",
       "      <td>NaN</td>\n",
       "      <td>...</td>\n",
       "      <td>5</td>\n",
       "      <td>4796.0</td>\n",
       "      <td>1720.0</td>\n",
       "      <td>1420.0</td>\n",
       "      <td>NaN</td>\n",
       "      <td>N</td>\n",
       "      <td>19861226</td>\n",
       "      <td>NaN</td>\n",
       "      <td>수동</td>\n",
       "      <td>NaN</td>\n",
       "    </tr>\n",
       "    <tr>\n",
       "      <th>1101310</th>\n",
       "      <td>1199서울7조7622</td>\n",
       "      <td>서울7조7622</td>\n",
       "      <td>1132010600</td>\n",
       "      <td>사업자</td>\n",
       "      <td>화물</td>\n",
       "      <td>자가용</td>\n",
       "      <td>KLY7T51BBNC011472</td>\n",
       "      <td>19921024</td>\n",
       "      <td>1992</td>\n",
       "      <td>NaN</td>\n",
       "      <td>...</td>\n",
       "      <td>2</td>\n",
       "      <td>3235.0</td>\n",
       "      <td>1400.0</td>\n",
       "      <td>1800.0</td>\n",
       "      <td>대한민국</td>\n",
       "      <td>N</td>\n",
       "      <td>19910824</td>\n",
       "      <td>NaN</td>\n",
       "      <td>수동</td>\n",
       "      <td>NaN</td>\n",
       "    </tr>\n",
       "    <tr>\n",
       "      <th>534318</th>\n",
       "      <td>4199경기7노6306</td>\n",
       "      <td>경기7노6306</td>\n",
       "      <td>4113110200</td>\n",
       "      <td>사업자</td>\n",
       "      <td>화물</td>\n",
       "      <td>자가용</td>\n",
       "      <td>KLY7T51BBNC011472</td>\n",
       "      <td>19921024</td>\n",
       "      <td>1992</td>\n",
       "      <td>NaN</td>\n",
       "      <td>...</td>\n",
       "      <td>2</td>\n",
       "      <td>3235.0</td>\n",
       "      <td>1400.0</td>\n",
       "      <td>1800.0</td>\n",
       "      <td>대한민국</td>\n",
       "      <td>N</td>\n",
       "      <td>19910824</td>\n",
       "      <td>NaN</td>\n",
       "      <td>수동</td>\n",
       "      <td>NaN</td>\n",
       "    </tr>\n",
       "    <tr>\n",
       "      <th>374296</th>\n",
       "      <td>4399충북1느1240</td>\n",
       "      <td>충북1느1240</td>\n",
       "      <td>4313025024</td>\n",
       "      <td>사업자</td>\n",
       "      <td>승용</td>\n",
       "      <td>자가용</td>\n",
       "      <td>KMHBF31FPKU143334</td>\n",
       "      <td>19891017</td>\n",
       "      <td>1989</td>\n",
       "      <td>NaN</td>\n",
       "      <td>...</td>\n",
       "      <td>5</td>\n",
       "      <td>4680.0</td>\n",
       "      <td>1750.0</td>\n",
       "      <td>1420.0</td>\n",
       "      <td>대한민국</td>\n",
       "      <td>N</td>\n",
       "      <td>19880415</td>\n",
       "      <td>NaN</td>\n",
       "      <td>수동</td>\n",
       "      <td>NaN</td>\n",
       "    </tr>\n",
       "    <tr>\n",
       "      <th>441948</th>\n",
       "      <td>1199서울1두8779</td>\n",
       "      <td>서울1두8779</td>\n",
       "      <td>1138010700</td>\n",
       "      <td>주민</td>\n",
       "      <td>승용</td>\n",
       "      <td>자가용</td>\n",
       "      <td>KMHBF31FPKU143334</td>\n",
       "      <td>19891017</td>\n",
       "      <td>1989</td>\n",
       "      <td>NaN</td>\n",
       "      <td>...</td>\n",
       "      <td>5</td>\n",
       "      <td>4680.0</td>\n",
       "      <td>1750.0</td>\n",
       "      <td>1420.0</td>\n",
       "      <td>대한민국</td>\n",
       "      <td>N</td>\n",
       "      <td>19880415</td>\n",
       "      <td>NaN</td>\n",
       "      <td>수동</td>\n",
       "      <td>NaN</td>\n",
       "    </tr>\n",
       "    <tr>\n",
       "      <th>571025</th>\n",
       "      <td>1199서울3라5389</td>\n",
       "      <td>서울3라5389</td>\n",
       "      <td>4145010800</td>\n",
       "      <td>주민</td>\n",
       "      <td>승용</td>\n",
       "      <td>자가용</td>\n",
       "      <td>KMHBF31FPNU489190</td>\n",
       "      <td>19921104</td>\n",
       "      <td>1992</td>\n",
       "      <td>NaN</td>\n",
       "      <td>...</td>\n",
       "      <td>5</td>\n",
       "      <td>4680.0</td>\n",
       "      <td>1750.0</td>\n",
       "      <td>1410.0</td>\n",
       "      <td>대한민국</td>\n",
       "      <td>N</td>\n",
       "      <td>19920328</td>\n",
       "      <td>NaN</td>\n",
       "      <td>자동</td>\n",
       "      <td>NaN</td>\n",
       "    </tr>\n",
       "    <tr>\n",
       "      <th>1134058</th>\n",
       "      <td>4199경기40마9079</td>\n",
       "      <td>경기40마9079</td>\n",
       "      <td>4119011100</td>\n",
       "      <td>주민</td>\n",
       "      <td>승용</td>\n",
       "      <td>자가용</td>\n",
       "      <td>KMHBF31FPNU489190</td>\n",
       "      <td>19921104</td>\n",
       "      <td>1992</td>\n",
       "      <td>19921104.0</td>\n",
       "      <td>...</td>\n",
       "      <td>5</td>\n",
       "      <td>4680.0</td>\n",
       "      <td>1750.0</td>\n",
       "      <td>1410.0</td>\n",
       "      <td>대한민국</td>\n",
       "      <td>N</td>\n",
       "      <td>19920328</td>\n",
       "      <td>NaN</td>\n",
       "      <td>자동</td>\n",
       "      <td>NaN</td>\n",
       "    </tr>\n",
       "    <tr>\n",
       "      <th>638521</th>\n",
       "      <td>4299강원28가5176</td>\n",
       "      <td>강원28가5176</td>\n",
       "      <td>4211010700</td>\n",
       "      <td>주민</td>\n",
       "      <td>승용</td>\n",
       "      <td>관용</td>\n",
       "      <td>KMHCF21DPSU000012</td>\n",
       "      <td>19961209</td>\n",
       "      <td>1995</td>\n",
       "      <td>NaN</td>\n",
       "      <td>...</td>\n",
       "      <td>5</td>\n",
       "      <td>4578.0</td>\n",
       "      <td>1756.0</td>\n",
       "      <td>1381.0</td>\n",
       "      <td>대한민국</td>\n",
       "      <td>N</td>\n",
       "      <td>19870122</td>\n",
       "      <td>NaN</td>\n",
       "      <td>자동</td>\n",
       "      <td>NaN</td>\n",
       "    </tr>\n",
       "    <tr>\n",
       "      <th>684755</th>\n",
       "      <td>4299강원28가5032</td>\n",
       "      <td>강원28가5032</td>\n",
       "      <td>4211010700</td>\n",
       "      <td>주민</td>\n",
       "      <td>승용</td>\n",
       "      <td>관용</td>\n",
       "      <td>KMHCF21DPSU000012</td>\n",
       "      <td>19961209</td>\n",
       "      <td>1995</td>\n",
       "      <td>NaN</td>\n",
       "      <td>...</td>\n",
       "      <td>5</td>\n",
       "      <td>4578.0</td>\n",
       "      <td>1756.0</td>\n",
       "      <td>1381.0</td>\n",
       "      <td>대한민국</td>\n",
       "      <td>N</td>\n",
       "      <td>19870122</td>\n",
       "      <td>NaN</td>\n",
       "      <td>자동</td>\n",
       "      <td>NaN</td>\n",
       "    </tr>\n",
       "    <tr>\n",
       "      <th>269828</th>\n",
       "      <td>4299강원28가5035</td>\n",
       "      <td>강원28가5035</td>\n",
       "      <td>4211010700</td>\n",
       "      <td>주민</td>\n",
       "      <td>승용</td>\n",
       "      <td>관용</td>\n",
       "      <td>KMHCF21DPSU000012</td>\n",
       "      <td>19961209</td>\n",
       "      <td>1995</td>\n",
       "      <td>NaN</td>\n",
       "      <td>...</td>\n",
       "      <td>5</td>\n",
       "      <td>4578.0</td>\n",
       "      <td>1756.0</td>\n",
       "      <td>1381.0</td>\n",
       "      <td>대한민국</td>\n",
       "      <td>N</td>\n",
       "      <td>19870122</td>\n",
       "      <td>NaN</td>\n",
       "      <td>자동</td>\n",
       "      <td>NaN</td>\n",
       "    </tr>\n",
       "    <tr>\n",
       "      <th>918344</th>\n",
       "      <td>4299강원28가5198</td>\n",
       "      <td>강원28가5198</td>\n",
       "      <td>4211010700</td>\n",
       "      <td>주민</td>\n",
       "      <td>승용</td>\n",
       "      <td>관용</td>\n",
       "      <td>KMHCF21DPSU000012</td>\n",
       "      <td>19961209</td>\n",
       "      <td>1995</td>\n",
       "      <td>NaN</td>\n",
       "      <td>...</td>\n",
       "      <td>5</td>\n",
       "      <td>4578.0</td>\n",
       "      <td>1756.0</td>\n",
       "      <td>1381.0</td>\n",
       "      <td>대한민국</td>\n",
       "      <td>N</td>\n",
       "      <td>19870122.0</td>\n",
       "      <td>NaN</td>\n",
       "      <td>자동</td>\n",
       "      <td>NaN</td>\n",
       "    </tr>\n",
       "    <tr>\n",
       "      <th>62086</th>\n",
       "      <td>4299강원28가5089</td>\n",
       "      <td>강원28가5089</td>\n",
       "      <td>4211010700</td>\n",
       "      <td>주민</td>\n",
       "      <td>승용</td>\n",
       "      <td>관용</td>\n",
       "      <td>KMHCF21DPSU000012</td>\n",
       "      <td>19961209</td>\n",
       "      <td>1995</td>\n",
       "      <td>NaN</td>\n",
       "      <td>...</td>\n",
       "      <td>5</td>\n",
       "      <td>4578.0</td>\n",
       "      <td>1756.0</td>\n",
       "      <td>1381.0</td>\n",
       "      <td>대한민국</td>\n",
       "      <td>N</td>\n",
       "      <td>19870122.0</td>\n",
       "      <td>NaN</td>\n",
       "      <td>자동</td>\n",
       "      <td>NaN</td>\n",
       "    </tr>\n",
       "    <tr>\n",
       "      <th>171100</th>\n",
       "      <td>KMHMF21FPPU018261-01</td>\n",
       "      <td>경기67머1913</td>\n",
       "      <td>4157034033</td>\n",
       "      <td>주민</td>\n",
       "      <td>승용</td>\n",
       "      <td>자가용</td>\n",
       "      <td>KMHMF21FPPU018261</td>\n",
       "      <td>19930413</td>\n",
       "      <td>1993</td>\n",
       "      <td>19930413.0</td>\n",
       "      <td>...</td>\n",
       "      <td>5</td>\n",
       "      <td>4980.0</td>\n",
       "      <td>1810.0</td>\n",
       "      <td>1435.0</td>\n",
       "      <td>대한민국</td>\n",
       "      <td>N</td>\n",
       "      <td>19920810</td>\n",
       "      <td>NaN</td>\n",
       "      <td>자동</td>\n",
       "      <td>NaN</td>\n",
       "    </tr>\n",
       "    <tr>\n",
       "      <th>222116</th>\n",
       "      <td>KMHMF21FPPU018261-02</td>\n",
       "      <td>서울2라2329</td>\n",
       "      <td>1168010700</td>\n",
       "      <td>사업자</td>\n",
       "      <td>승용</td>\n",
       "      <td>자가용</td>\n",
       "      <td>KMHMF21FPPU018261</td>\n",
       "      <td>19930520</td>\n",
       "      <td>1993</td>\n",
       "      <td>NaN</td>\n",
       "      <td>...</td>\n",
       "      <td>5</td>\n",
       "      <td>4980.0</td>\n",
       "      <td>1810.0</td>\n",
       "      <td>1435.0</td>\n",
       "      <td>대한민국</td>\n",
       "      <td>N</td>\n",
       "      <td>19920810</td>\n",
       "      <td>NaN</td>\n",
       "      <td>자동</td>\n",
       "      <td>NaN</td>\n",
       "    </tr>\n",
       "    <tr>\n",
       "      <th>1089157</th>\n",
       "      <td>1199서울2코3350</td>\n",
       "      <td>서울2코3350</td>\n",
       "      <td>1165010800</td>\n",
       "      <td>법인</td>\n",
       "      <td>승용</td>\n",
       "      <td>자가용</td>\n",
       "      <td>KMHNF21SPLU031911</td>\n",
       "      <td>19900327</td>\n",
       "      <td>1990</td>\n",
       "      <td>NaN</td>\n",
       "      <td>...</td>\n",
       "      <td>5</td>\n",
       "      <td>4865.0</td>\n",
       "      <td>1725.0</td>\n",
       "      <td>1430.0</td>\n",
       "      <td>NaN</td>\n",
       "      <td>N</td>\n",
       "      <td>19870618.0</td>\n",
       "      <td>NaN</td>\n",
       "      <td>자동</td>\n",
       "      <td>NaN</td>\n",
       "    </tr>\n",
       "    <tr>\n",
       "      <th>88506</th>\n",
       "      <td>4299강원31나9602</td>\n",
       "      <td>강원31나9602</td>\n",
       "      <td>4137010400</td>\n",
       "      <td>주민</td>\n",
       "      <td>승용</td>\n",
       "      <td>자가용</td>\n",
       "      <td>KMHNF21SPLU031911</td>\n",
       "      <td>19900327</td>\n",
       "      <td>1990</td>\n",
       "      <td>19900327.0</td>\n",
       "      <td>...</td>\n",
       "      <td>5</td>\n",
       "      <td>4865.0</td>\n",
       "      <td>1725.0</td>\n",
       "      <td>1430.0</td>\n",
       "      <td>NaN</td>\n",
       "      <td>N</td>\n",
       "      <td>19870618</td>\n",
       "      <td>NaN</td>\n",
       "      <td>자동</td>\n",
       "      <td>NaN</td>\n",
       "    </tr>\n",
       "    <tr>\n",
       "      <th>359524</th>\n",
       "      <td>4499충남35나8378</td>\n",
       "      <td>충남35나8378</td>\n",
       "      <td>4421010900</td>\n",
       "      <td>주민</td>\n",
       "      <td>승용</td>\n",
       "      <td>자가용</td>\n",
       "      <td>KMHNF21SPLU049507</td>\n",
       "      <td>19901102</td>\n",
       "      <td>1990</td>\n",
       "      <td>19901102.0</td>\n",
       "      <td>...</td>\n",
       "      <td>5</td>\n",
       "      <td>4865.0</td>\n",
       "      <td>1725.0</td>\n",
       "      <td>1430.0</td>\n",
       "      <td>대한민국</td>\n",
       "      <td>N</td>\n",
       "      <td>19900531</td>\n",
       "      <td>NaN</td>\n",
       "      <td>자동</td>\n",
       "      <td>NaN</td>\n",
       "    </tr>\n",
       "    <tr>\n",
       "      <th>1117906</th>\n",
       "      <td>1199서울4포5301</td>\n",
       "      <td>서울4포5301</td>\n",
       "      <td>1114016200</td>\n",
       "      <td>주민</td>\n",
       "      <td>승용</td>\n",
       "      <td>자가용</td>\n",
       "      <td>KMHNF21SPLU049507</td>\n",
       "      <td>19901102</td>\n",
       "      <td>1990</td>\n",
       "      <td>NaN</td>\n",
       "      <td>...</td>\n",
       "      <td>5</td>\n",
       "      <td>4865.0</td>\n",
       "      <td>1725.0</td>\n",
       "      <td>1430.0</td>\n",
       "      <td>대한민국</td>\n",
       "      <td>N</td>\n",
       "      <td>19900531</td>\n",
       "      <td>NaN</td>\n",
       "      <td>자동</td>\n",
       "      <td>NaN</td>\n",
       "    </tr>\n",
       "    <tr>\n",
       "      <th>1230186</th>\n",
       "      <td>4199경기1보4751</td>\n",
       "      <td>경기1보4751</td>\n",
       "      <td>4148031022</td>\n",
       "      <td>주민</td>\n",
       "      <td>승용</td>\n",
       "      <td>자가용</td>\n",
       "      <td>KMHVF21JPKU161128</td>\n",
       "      <td>19891226</td>\n",
       "      <td>1989</td>\n",
       "      <td>NaN</td>\n",
       "      <td>...</td>\n",
       "      <td>5</td>\n",
       "      <td>4275.0</td>\n",
       "      <td>1605.0</td>\n",
       "      <td>1385.0</td>\n",
       "      <td>대한민국</td>\n",
       "      <td>N</td>\n",
       "      <td>19890323</td>\n",
       "      <td>NaN</td>\n",
       "      <td>수동</td>\n",
       "      <td>NaN</td>\n",
       "    </tr>\n",
       "    <tr>\n",
       "      <th>885488</th>\n",
       "      <td>4199경기2노5243</td>\n",
       "      <td>경기2노5243</td>\n",
       "      <td>4148031022</td>\n",
       "      <td>주민</td>\n",
       "      <td>승용</td>\n",
       "      <td>자가용</td>\n",
       "      <td>KMHVF21JPKU161128</td>\n",
       "      <td>19891226</td>\n",
       "      <td>1989</td>\n",
       "      <td>NaN</td>\n",
       "      <td>...</td>\n",
       "      <td>5</td>\n",
       "      <td>4275.0</td>\n",
       "      <td>1605.0</td>\n",
       "      <td>1385.0</td>\n",
       "      <td>대한민국</td>\n",
       "      <td>N</td>\n",
       "      <td>19890323</td>\n",
       "      <td>NaN</td>\n",
       "      <td>수동</td>\n",
       "      <td>NaN</td>\n",
       "    </tr>\n",
       "    <tr>\n",
       "      <th>1427856</th>\n",
       "      <td>4199경기8러8034</td>\n",
       "      <td>경기8러8034</td>\n",
       "      <td>4139013200</td>\n",
       "      <td>주민</td>\n",
       "      <td>화물</td>\n",
       "      <td>자가용</td>\n",
       "      <td>KNADA2322JS052345</td>\n",
       "      <td>19880603</td>\n",
       "      <td>1988</td>\n",
       "      <td>NaN</td>\n",
       "      <td>...</td>\n",
       "      <td>3</td>\n",
       "      <td>7365.0</td>\n",
       "      <td>2160.0</td>\n",
       "      <td>2240.0</td>\n",
       "      <td>대한민국</td>\n",
       "      <td>N</td>\n",
       "      <td>19761224.0</td>\n",
       "      <td>NaN</td>\n",
       "      <td>수동</td>\n",
       "      <td>NaN</td>\n",
       "    </tr>\n",
       "    <tr>\n",
       "      <th>11161</th>\n",
       "      <td>4199경기3러8034</td>\n",
       "      <td>경기3러8034</td>\n",
       "      <td>4139013200</td>\n",
       "      <td>주민</td>\n",
       "      <td>승용</td>\n",
       "      <td>자가용</td>\n",
       "      <td>KNADA2322JS052345</td>\n",
       "      <td>19880603</td>\n",
       "      <td>1988</td>\n",
       "      <td>NaN</td>\n",
       "      <td>...</td>\n",
       "      <td>5</td>\n",
       "      <td>3565.0</td>\n",
       "      <td>1605.0</td>\n",
       "      <td>1460.0</td>\n",
       "      <td>NaN</td>\n",
       "      <td>N</td>\n",
       "      <td>19870127</td>\n",
       "      <td>NaN</td>\n",
       "      <td>수동</td>\n",
       "      <td>NaN</td>\n",
       "    </tr>\n",
       "    <tr>\n",
       "      <th>792448</th>\n",
       "      <td>2699부산29나1129</td>\n",
       "      <td>부산29나1129</td>\n",
       "      <td>2671025334</td>\n",
       "      <td>주민</td>\n",
       "      <td>승용</td>\n",
       "      <td>자가용</td>\n",
       "      <td>KNAGA2222KS130454</td>\n",
       "      <td>19891027</td>\n",
       "      <td>1989</td>\n",
       "      <td>19891027.0</td>\n",
       "      <td>...</td>\n",
       "      <td>5</td>\n",
       "      <td>4570.0</td>\n",
       "      <td>1720.0</td>\n",
       "      <td>1405.0</td>\n",
       "      <td>대한민국</td>\n",
       "      <td>N</td>\n",
       "      <td>19890818</td>\n",
       "      <td>NaN</td>\n",
       "      <td>수동</td>\n",
       "      <td>NaN</td>\n",
       "    </tr>\n",
       "    <tr>\n",
       "      <th>113296</th>\n",
       "      <td>2699부산29나1072</td>\n",
       "      <td>부산29나1072</td>\n",
       "      <td>2671025334</td>\n",
       "      <td>주민</td>\n",
       "      <td>승용</td>\n",
       "      <td>자가용</td>\n",
       "      <td>KNAGA2222KS130454</td>\n",
       "      <td>19891027</td>\n",
       "      <td>1989</td>\n",
       "      <td>19891027.0</td>\n",
       "      <td>...</td>\n",
       "      <td>5</td>\n",
       "      <td>4570.0</td>\n",
       "      <td>1720.0</td>\n",
       "      <td>1405.0</td>\n",
       "      <td>대한민국</td>\n",
       "      <td>N</td>\n",
       "      <td>19890818</td>\n",
       "      <td>NaN</td>\n",
       "      <td>수동</td>\n",
       "      <td>NaN</td>\n",
       "    </tr>\n",
       "    <tr>\n",
       "      <th>942582</th>\n",
       "      <td>KNAGC2213SA102715-01</td>\n",
       "      <td>전북32너9639</td>\n",
       "      <td>4514013400</td>\n",
       "      <td>주민</td>\n",
       "      <td>승용</td>\n",
       "      <td>자가용</td>\n",
       "      <td>KNAGC2213SA102715</td>\n",
       "      <td>19950718</td>\n",
       "      <td>1995</td>\n",
       "      <td>19950718.0</td>\n",
       "      <td>...</td>\n",
       "      <td>5</td>\n",
       "      <td>4710.0</td>\n",
       "      <td>1780.0</td>\n",
       "      <td>1400.0</td>\n",
       "      <td>대한민국</td>\n",
       "      <td>N</td>\n",
       "      <td>19950513.0</td>\n",
       "      <td>NaN</td>\n",
       "      <td>자동</td>\n",
       "      <td>NaN</td>\n",
       "    </tr>\n",
       "    <tr>\n",
       "      <th>41565</th>\n",
       "      <td>KNAGC2213SA102715-02</td>\n",
       "      <td>경기40다9656</td>\n",
       "      <td>4122011000</td>\n",
       "      <td>주민</td>\n",
       "      <td>승용</td>\n",
       "      <td>자가용</td>\n",
       "      <td>KNAGC2213SA102715</td>\n",
       "      <td>19950817</td>\n",
       "      <td>1995</td>\n",
       "      <td>NaN</td>\n",
       "      <td>...</td>\n",
       "      <td>5</td>\n",
       "      <td>4710.0</td>\n",
       "      <td>1780.0</td>\n",
       "      <td>1400.0</td>\n",
       "      <td>대한민국</td>\n",
       "      <td>N</td>\n",
       "      <td>19950513</td>\n",
       "      <td>NaN</td>\n",
       "      <td>자동</td>\n",
       "      <td>NaN</td>\n",
       "    </tr>\n",
       "    <tr>\n",
       "      <th>996810</th>\n",
       "      <td>439904거2562</td>\n",
       "      <td>04거2562</td>\n",
       "      <td>4374525030</td>\n",
       "      <td>사업자</td>\n",
       "      <td>승용</td>\n",
       "      <td>자가용</td>\n",
       "      <td>KNAGC2282YA382041</td>\n",
       "      <td>20000302</td>\n",
       "      <td>2000</td>\n",
       "      <td>20000302.0</td>\n",
       "      <td>...</td>\n",
       "      <td>5</td>\n",
       "      <td>4745.0</td>\n",
       "      <td>1780.0</td>\n",
       "      <td>1400.0</td>\n",
       "      <td>대한민국</td>\n",
       "      <td>N</td>\n",
       "      <td>19981117</td>\n",
       "      <td>NaN</td>\n",
       "      <td>수동</td>\n",
       "      <td>NaN</td>\n",
       "    </tr>\n",
       "    <tr>\n",
       "      <th>970693</th>\n",
       "      <td>419907서3394</td>\n",
       "      <td>07서3394</td>\n",
       "      <td>4165034022</td>\n",
       "      <td>사업자</td>\n",
       "      <td>승용</td>\n",
       "      <td>자가용</td>\n",
       "      <td>KNAGC2282YA382041</td>\n",
       "      <td>20000302</td>\n",
       "      <td>2000</td>\n",
       "      <td>20000302.0</td>\n",
       "      <td>...</td>\n",
       "      <td>5</td>\n",
       "      <td>4745.0</td>\n",
       "      <td>1780.0</td>\n",
       "      <td>1400.0</td>\n",
       "      <td>대한민국</td>\n",
       "      <td>N</td>\n",
       "      <td>19981117</td>\n",
       "      <td>NaN</td>\n",
       "      <td>수동</td>\n",
       "      <td>NaN</td>\n",
       "    </tr>\n",
       "    <tr>\n",
       "      <th>992169</th>\n",
       "      <td>KNALA2233RA822260-01</td>\n",
       "      <td>경남2나1865</td>\n",
       "      <td>4812125027</td>\n",
       "      <td>주민</td>\n",
       "      <td>승용</td>\n",
       "      <td>자가용</td>\n",
       "      <td>KNALA2233RA822260</td>\n",
       "      <td>19940613</td>\n",
       "      <td>1994</td>\n",
       "      <td>NaN</td>\n",
       "      <td>...</td>\n",
       "      <td>5</td>\n",
       "      <td>4925.0</td>\n",
       "      <td>1725.0</td>\n",
       "      <td>1430.0</td>\n",
       "      <td>대한민국</td>\n",
       "      <td>N</td>\n",
       "      <td>19931027</td>\n",
       "      <td>NaN</td>\n",
       "      <td>자동</td>\n",
       "      <td>NaN</td>\n",
       "    </tr>\n",
       "    <tr>\n",
       "      <th>1036719</th>\n",
       "      <td>KNALA2233RA822260-02</td>\n",
       "      <td>03노4790</td>\n",
       "      <td>4211012000</td>\n",
       "      <td>주민</td>\n",
       "      <td>승용</td>\n",
       "      <td>자가용</td>\n",
       "      <td>KNALA2233RA822260</td>\n",
       "      <td>19940622</td>\n",
       "      <td>1994</td>\n",
       "      <td>19940622.0</td>\n",
       "      <td>...</td>\n",
       "      <td>5</td>\n",
       "      <td>4925.0</td>\n",
       "      <td>1725.0</td>\n",
       "      <td>1430.0</td>\n",
       "      <td>대한민국</td>\n",
       "      <td>N</td>\n",
       "      <td>19931027</td>\n",
       "      <td>NaN</td>\n",
       "      <td>자동</td>\n",
       "      <td>NaN</td>\n",
       "    </tr>\n",
       "  </tbody>\n",
       "</table>\n",
       "<p>41 rows × 40 columns</p>\n",
       "</div>"
      ],
      "text/plain": [
       "                       차량관리번호     차량등록번호    본거지법정동코드 소유자구분 차종_등록정보   용도  \\\n",
       "747837   1GBEL19W3XB192382-02    39고6855  1141011800    주민      승용  자가용   \n",
       "1424917  1GBEL19W3XB192382-01    36거2927  1111017500    주민      승용  자가용   \n",
       "173765           2799대구2고2891   대구2고2891  2717010200    주민      승용  자가용   \n",
       "1522531          1199서울2수2138   서울2수2138  2818510600    주민      승용  자가용   \n",
       "639215   KLASM69F1JB054053-02   서울4모4528  1153010800    법인      승용  자가용   \n",
       "1022721  KLASM69F1JB054053-01   서울4수5512  1174010500    법인      승용  자가용   \n",
       "1486742          1199서울4드4983   서울4드4983  1138010300    주민      승용  자가용   \n",
       "29276            1199서울4드4981   서울4드4981  1156010800    주민      승용  자가용   \n",
       "659488   KLATF19T1NB526286-01   경남1우3305  4812515800    주민      승용  자가용   \n",
       "682561   KLATF19T1NB526286-02   서울4쿠8476  1138011400    주민      승용  자가용   \n",
       "962845   KLAVM69H1JB075787-02   서울4무8010  1171010700    주민      승용  자가용   \n",
       "1137609  KLAVM69H1JB075787-01   전북1마4284  4514031024    주민      승용  자가용   \n",
       "1101310          1199서울7조7622   서울7조7622  1132010600   사업자      화물  자가용   \n",
       "534318           4199경기7노6306   경기7노6306  4113110200   사업자      화물  자가용   \n",
       "374296           4399충북1느1240   충북1느1240  4313025024   사업자      승용  자가용   \n",
       "441948           1199서울1두8779   서울1두8779  1138010700    주민      승용  자가용   \n",
       "571025           1199서울3라5389   서울3라5389  4145010800    주민      승용  자가용   \n",
       "1134058         4199경기40마9079  경기40마9079  4119011100    주민      승용  자가용   \n",
       "638521          4299강원28가5176  강원28가5176  4211010700    주민      승용   관용   \n",
       "684755          4299강원28가5032  강원28가5032  4211010700    주민      승용   관용   \n",
       "269828          4299강원28가5035  강원28가5035  4211010700    주민      승용   관용   \n",
       "918344          4299강원28가5198  강원28가5198  4211010700    주민      승용   관용   \n",
       "62086           4299강원28가5089  강원28가5089  4211010700    주민      승용   관용   \n",
       "171100   KMHMF21FPPU018261-01  경기67머1913  4157034033    주민      승용  자가용   \n",
       "222116   KMHMF21FPPU018261-02   서울2라2329  1168010700   사업자      승용  자가용   \n",
       "1089157          1199서울2코3350   서울2코3350  1165010800    법인      승용  자가용   \n",
       "88506           4299강원31나9602  강원31나9602  4137010400    주민      승용  자가용   \n",
       "359524          4499충남35나8378  충남35나8378  4421010900    주민      승용  자가용   \n",
       "1117906          1199서울4포5301   서울4포5301  1114016200    주민      승용  자가용   \n",
       "1230186          4199경기1보4751   경기1보4751  4148031022    주민      승용  자가용   \n",
       "885488           4199경기2노5243   경기2노5243  4148031022    주민      승용  자가용   \n",
       "1427856          4199경기8러8034   경기8러8034  4139013200    주민      화물  자가용   \n",
       "11161            4199경기3러8034   경기3러8034  4139013200    주민      승용  자가용   \n",
       "792448          2699부산29나1129  부산29나1129  2671025334    주민      승용  자가용   \n",
       "113296          2699부산29나1072  부산29나1072  2671025334    주민      승용  자가용   \n",
       "942582   KNAGC2213SA102715-01  전북32너9639  4514013400    주민      승용  자가용   \n",
       "41565    KNAGC2213SA102715-02  경기40다9656  4122011000    주민      승용  자가용   \n",
       "996810            439904거2562    04거2562  4374525030   사업자      승용  자가용   \n",
       "970693            419907서3394    07서3394  4165034022   사업자      승용  자가용   \n",
       "992169   KNALA2233RA822260-01   경남2나1865  4812125027    주민      승용  자가용   \n",
       "1036719  KNALA2233RA822260-02    03노4790  4211012000    주민      승용  자가용   \n",
       "\n",
       "                      차대번호    최초등록일자  차량연식      차량제작일자  ...  승차인원    차량길이  \\\n",
       "747837   1GBEL19W3XB192382  20091013  1999  19991231.0  ...     6  4805.0   \n",
       "1424917  1GBEL19W3XB192382  20090917  1999  20081124.0  ...     6  4805.0   \n",
       "173765   KLAEM19W1NB116889  19920127  1992         NaN  ...     5  4800.0   \n",
       "1522531  KLAEM19W1NB116889  19920127  1992         NaN  ...     5  4800.0   \n",
       "639215   KLASM69F1JB054053  19880305  1988         NaN  ...     5  4934.0   \n",
       "1022721  KLASM69F1JB054053  19880304  1988         NaN  ...     5  4934.0   \n",
       "1486742  KLATF19T1LB267581  19900124  1990         NaN  ...     5  4390.0   \n",
       "29276    KLATF19T1LB267581  19900124  1990         NaN  ...     5  4390.0   \n",
       "659488   KLATF19T1NB526286  19920422  1992         NaN  ...     5  4510.0   \n",
       "682561   KLATF19T1NB526286  19930112  1992         NaN  ...     5  4510.0   \n",
       "962845   KLAVM69H1JB075787  19880804  1988         NaN  ...     5  4796.0   \n",
       "1137609  KLAVM69H1JB075787  19880423  1988         NaN  ...     5  4796.0   \n",
       "1101310  KLY7T51BBNC011472  19921024  1992         NaN  ...     2  3235.0   \n",
       "534318   KLY7T51BBNC011472  19921024  1992         NaN  ...     2  3235.0   \n",
       "374296   KMHBF31FPKU143334  19891017  1989         NaN  ...     5  4680.0   \n",
       "441948   KMHBF31FPKU143334  19891017  1989         NaN  ...     5  4680.0   \n",
       "571025   KMHBF31FPNU489190  19921104  1992         NaN  ...     5  4680.0   \n",
       "1134058  KMHBF31FPNU489190  19921104  1992  19921104.0  ...     5  4680.0   \n",
       "638521   KMHCF21DPSU000012  19961209  1995         NaN  ...     5  4578.0   \n",
       "684755   KMHCF21DPSU000012  19961209  1995         NaN  ...     5  4578.0   \n",
       "269828   KMHCF21DPSU000012  19961209  1995         NaN  ...     5  4578.0   \n",
       "918344   KMHCF21DPSU000012  19961209  1995         NaN  ...     5  4578.0   \n",
       "62086    KMHCF21DPSU000012  19961209  1995         NaN  ...     5  4578.0   \n",
       "171100   KMHMF21FPPU018261  19930413  1993  19930413.0  ...     5  4980.0   \n",
       "222116   KMHMF21FPPU018261  19930520  1993         NaN  ...     5  4980.0   \n",
       "1089157  KMHNF21SPLU031911  19900327  1990         NaN  ...     5  4865.0   \n",
       "88506    KMHNF21SPLU031911  19900327  1990  19900327.0  ...     5  4865.0   \n",
       "359524   KMHNF21SPLU049507  19901102  1990  19901102.0  ...     5  4865.0   \n",
       "1117906  KMHNF21SPLU049507  19901102  1990         NaN  ...     5  4865.0   \n",
       "1230186  KMHVF21JPKU161128  19891226  1989         NaN  ...     5  4275.0   \n",
       "885488   KMHVF21JPKU161128  19891226  1989         NaN  ...     5  4275.0   \n",
       "1427856  KNADA2322JS052345  19880603  1988         NaN  ...     3  7365.0   \n",
       "11161    KNADA2322JS052345  19880603  1988         NaN  ...     5  3565.0   \n",
       "792448   KNAGA2222KS130454  19891027  1989  19891027.0  ...     5  4570.0   \n",
       "113296   KNAGA2222KS130454  19891027  1989  19891027.0  ...     5  4570.0   \n",
       "942582   KNAGC2213SA102715  19950718  1995  19950718.0  ...     5  4710.0   \n",
       "41565    KNAGC2213SA102715  19950817  1995         NaN  ...     5  4710.0   \n",
       "996810   KNAGC2282YA382041  20000302  2000  20000302.0  ...     5  4745.0   \n",
       "970693   KNAGC2282YA382041  20000302  2000  20000302.0  ...     5  4745.0   \n",
       "992169   KNALA2233RA822260  19940613  1994         NaN  ...     5  4925.0   \n",
       "1036719  KNALA2233RA822260  19940622  1994  19940622.0  ...     5  4925.0   \n",
       "\n",
       "           차량너비    차량높이  원산지명 삭제YN      제원승인일자  구동형식 변속기종류 차량말소YN  \n",
       "747837   1980.0  1915.0    독일    N    20090805   NaN    자동    NaN  \n",
       "1424917  1980.0  1915.0    독일    N    20090805   NaN    자동    NaN  \n",
       "173765   1720.0  1417.0  대한민국    N    19910531   NaN    수동    NaN  \n",
       "1522531  1720.0  1417.0  대한민국    N  19910531.0   NaN    수동    NaN  \n",
       "639215   1720.0  1420.0  대한민국    N  19871205.0   NaN    수동    NaN  \n",
       "1022721  1720.0  1420.0  대한민국    N  19871205.0   NaN    수동    NaN  \n",
       "1486742  1660.0  1360.0   NaN    N  19880805.0   NaN    수동    NaN  \n",
       "29276    1660.0  1360.0   NaN    N    19880805   NaN    수동    NaN  \n",
       "659488   1663.0  1362.0   NaN    N  19910814.0   NaN    수동    NaN  \n",
       "682561   1663.0  1362.0  대한민국    N    19920605   NaN    수동    NaN  \n",
       "962845   1720.0  1420.0   NaN    N  19870317.0   NaN    수동    NaN  \n",
       "1137609  1720.0  1420.0   NaN    N    19861226   NaN    수동    NaN  \n",
       "1101310  1400.0  1800.0  대한민국    N    19910824   NaN    수동    NaN  \n",
       "534318   1400.0  1800.0  대한민국    N    19910824   NaN    수동    NaN  \n",
       "374296   1750.0  1420.0  대한민국    N    19880415   NaN    수동    NaN  \n",
       "441948   1750.0  1420.0  대한민국    N    19880415   NaN    수동    NaN  \n",
       "571025   1750.0  1410.0  대한민국    N    19920328   NaN    자동    NaN  \n",
       "1134058  1750.0  1410.0  대한민국    N    19920328   NaN    자동    NaN  \n",
       "638521   1756.0  1381.0  대한민국    N    19870122   NaN    자동    NaN  \n",
       "684755   1756.0  1381.0  대한민국    N    19870122   NaN    자동    NaN  \n",
       "269828   1756.0  1381.0  대한민국    N    19870122   NaN    자동    NaN  \n",
       "918344   1756.0  1381.0  대한민국    N  19870122.0   NaN    자동    NaN  \n",
       "62086    1756.0  1381.0  대한민국    N  19870122.0   NaN    자동    NaN  \n",
       "171100   1810.0  1435.0  대한민국    N    19920810   NaN    자동    NaN  \n",
       "222116   1810.0  1435.0  대한민국    N    19920810   NaN    자동    NaN  \n",
       "1089157  1725.0  1430.0   NaN    N  19870618.0   NaN    자동    NaN  \n",
       "88506    1725.0  1430.0   NaN    N    19870618   NaN    자동    NaN  \n",
       "359524   1725.0  1430.0  대한민국    N    19900531   NaN    자동    NaN  \n",
       "1117906  1725.0  1430.0  대한민국    N    19900531   NaN    자동    NaN  \n",
       "1230186  1605.0  1385.0  대한민국    N    19890323   NaN    수동    NaN  \n",
       "885488   1605.0  1385.0  대한민국    N    19890323   NaN    수동    NaN  \n",
       "1427856  2160.0  2240.0  대한민국    N  19761224.0   NaN    수동    NaN  \n",
       "11161    1605.0  1460.0   NaN    N    19870127   NaN    수동    NaN  \n",
       "792448   1720.0  1405.0  대한민국    N    19890818   NaN    수동    NaN  \n",
       "113296   1720.0  1405.0  대한민국    N    19890818   NaN    수동    NaN  \n",
       "942582   1780.0  1400.0  대한민국    N  19950513.0   NaN    자동    NaN  \n",
       "41565    1780.0  1400.0  대한민국    N    19950513   NaN    자동    NaN  \n",
       "996810   1780.0  1400.0  대한민국    N    19981117   NaN    수동    NaN  \n",
       "970693   1780.0  1400.0  대한민국    N    19981117   NaN    수동    NaN  \n",
       "992169   1725.0  1430.0  대한민국    N    19931027   NaN    자동    NaN  \n",
       "1036719  1725.0  1430.0  대한민국    N    19931027   NaN    자동    NaN  \n",
       "\n",
       "[41 rows x 40 columns]"
      ]
     },
     "execution_count": 226,
     "metadata": {},
     "output_type": "execute_result"
    }
   ],
   "source": [
    "df3.loc[df3.duplicated('차대번호', keep=False) == True].sort_values('차대번호')"
   ]
  },
  {
   "cell_type": "code",
   "execution_count": 227,
   "metadata": {},
   "outputs": [
    {
     "data": {
      "text/plain": [
       "Index(['차량관리번호', '차량등록번호', '본거지법정동코드', '소유자구분', '차종_등록정보', '용도', '차대번호',\n",
       "       '최초등록일자', '차량연식', '차량제작일자', '검사유효일', '제원관리번호', '배출가스인증번호', '배출가스등급',\n",
       "       '저공해조치종류', '저공해조치구조변경YN', '취득일자', '취득금액', '차명', '차종_제원정보', '차종분류',\n",
       "       '차종유형', '자동차형식', '제작사명', '연료', '엔진형식', '총중량', '적재중량', '엔진출력', '배기량',\n",
       "       '승차인원', '차량길이', '차량너비', '차량높이', '원산지명', '삭제YN', '제원승인일자', '구동형식',\n",
       "       '변속기종류', '차량말소YN'],\n",
       "      dtype='object')"
      ]
     },
     "execution_count": 227,
     "metadata": {},
     "output_type": "execute_result"
    }
   ],
   "source": [
    "df3.columns"
   ]
  },
  {
   "cell_type": "code",
   "execution_count": 228,
   "metadata": {},
   "outputs": [
    {
     "data": {
      "text/html": [
       "<div>\n",
       "<style scoped>\n",
       "    .dataframe tbody tr th:only-of-type {\n",
       "        vertical-align: middle;\n",
       "    }\n",
       "\n",
       "    .dataframe tbody tr th {\n",
       "        vertical-align: top;\n",
       "    }\n",
       "\n",
       "    .dataframe thead th {\n",
       "        text-align: right;\n",
       "    }\n",
       "</style>\n",
       "<table border=\"1\" class=\"dataframe\">\n",
       "  <thead>\n",
       "    <tr style=\"text-align: right;\">\n",
       "      <th></th>\n",
       "      <th>차량관리번호</th>\n",
       "      <th>차량등록번호</th>\n",
       "      <th>본거지법정동코드</th>\n",
       "      <th>소유자구분</th>\n",
       "      <th>차종_등록정보</th>\n",
       "      <th>용도</th>\n",
       "      <th>차대번호</th>\n",
       "      <th>최초등록일자</th>\n",
       "      <th>차량연식</th>\n",
       "      <th>차량제작일자</th>\n",
       "      <th>...</th>\n",
       "      <th>차명</th>\n",
       "      <th>차종_제원정보</th>\n",
       "      <th>차종분류</th>\n",
       "      <th>차종유형</th>\n",
       "      <th>자동차형식</th>\n",
       "      <th>제작사명</th>\n",
       "      <th>연료</th>\n",
       "      <th>엔진형식</th>\n",
       "      <th>원산지명</th>\n",
       "      <th>제원승인일자</th>\n",
       "    </tr>\n",
       "  </thead>\n",
       "  <tbody>\n",
       "    <tr>\n",
       "      <th>747837</th>\n",
       "      <td>1GBEL19W3XB192382-02</td>\n",
       "      <td>39고6855</td>\n",
       "      <td>1141011800</td>\n",
       "      <td>주민</td>\n",
       "      <td>승용</td>\n",
       "      <td>자가용</td>\n",
       "      <td>1GBEL19W3XB192382</td>\n",
       "      <td>20091013</td>\n",
       "      <td>1999</td>\n",
       "      <td>19991231.0</td>\n",
       "      <td>...</td>\n",
       "      <td>시보레 아스트로 벤</td>\n",
       "      <td>승용</td>\n",
       "      <td>기타</td>\n",
       "      <td>대형</td>\n",
       "      <td>EL19W</td>\n",
       "      <td>오토라인</td>\n",
       "      <td>휘발유</td>\n",
       "      <td>4G</td>\n",
       "      <td>독일</td>\n",
       "      <td>20090805</td>\n",
       "    </tr>\n",
       "    <tr>\n",
       "      <th>1424917</th>\n",
       "      <td>1GBEL19W3XB192382-01</td>\n",
       "      <td>36거2927</td>\n",
       "      <td>1111017500</td>\n",
       "      <td>주민</td>\n",
       "      <td>승용</td>\n",
       "      <td>자가용</td>\n",
       "      <td>1GBEL19W3XB192382</td>\n",
       "      <td>20090917</td>\n",
       "      <td>1999</td>\n",
       "      <td>20081124.0</td>\n",
       "      <td>...</td>\n",
       "      <td>시보레 아스트로 벤</td>\n",
       "      <td>승용</td>\n",
       "      <td>기타</td>\n",
       "      <td>대형</td>\n",
       "      <td>EL19W</td>\n",
       "      <td>오토라인</td>\n",
       "      <td>휘발유</td>\n",
       "      <td>4G</td>\n",
       "      <td>독일</td>\n",
       "      <td>20090805</td>\n",
       "    </tr>\n",
       "    <tr>\n",
       "      <th>173765</th>\n",
       "      <td>2799대구2고2891</td>\n",
       "      <td>대구2고2891</td>\n",
       "      <td>2717010200</td>\n",
       "      <td>주민</td>\n",
       "      <td>승용</td>\n",
       "      <td>자가용</td>\n",
       "      <td>KLAEM19W1NB116889</td>\n",
       "      <td>19920127</td>\n",
       "      <td>1992</td>\n",
       "      <td>NaN</td>\n",
       "      <td>...</td>\n",
       "      <td>로얄프린스2.0MT</td>\n",
       "      <td>승용</td>\n",
       "      <td>일반</td>\n",
       "      <td>중형</td>\n",
       "      <td>EM19W</td>\n",
       "      <td>대우자동차(주)</td>\n",
       "      <td>휘발유</td>\n",
       "      <td>C20LE</td>\n",
       "      <td>대한민국</td>\n",
       "      <td>19910531</td>\n",
       "    </tr>\n",
       "    <tr>\n",
       "      <th>1522531</th>\n",
       "      <td>1199서울2수2138</td>\n",
       "      <td>서울2수2138</td>\n",
       "      <td>2818510600</td>\n",
       "      <td>주민</td>\n",
       "      <td>승용</td>\n",
       "      <td>자가용</td>\n",
       "      <td>KLAEM19W1NB116889</td>\n",
       "      <td>19920127</td>\n",
       "      <td>1992</td>\n",
       "      <td>NaN</td>\n",
       "      <td>...</td>\n",
       "      <td>로얄프린스2.0MT</td>\n",
       "      <td>승용</td>\n",
       "      <td>일반</td>\n",
       "      <td>중형</td>\n",
       "      <td>EM19W</td>\n",
       "      <td>대우자동차(주)</td>\n",
       "      <td>휘발유</td>\n",
       "      <td>C20LE</td>\n",
       "      <td>대한민국</td>\n",
       "      <td>19910531.0</td>\n",
       "    </tr>\n",
       "    <tr>\n",
       "      <th>639215</th>\n",
       "      <td>KLASM69F1JB054053-02</td>\n",
       "      <td>서울4모4528</td>\n",
       "      <td>1153010800</td>\n",
       "      <td>법인</td>\n",
       "      <td>승용</td>\n",
       "      <td>자가용</td>\n",
       "      <td>KLASM69F1JB054053</td>\n",
       "      <td>19880305</td>\n",
       "      <td>1988</td>\n",
       "      <td>NaN</td>\n",
       "      <td>...</td>\n",
       "      <td>로얄살롱2.0MT</td>\n",
       "      <td>승용</td>\n",
       "      <td>일반</td>\n",
       "      <td>중형</td>\n",
       "      <td>SM69F</td>\n",
       "      <td>대우자동차(주)</td>\n",
       "      <td>휘발유</td>\n",
       "      <td>H20MR</td>\n",
       "      <td>대한민국</td>\n",
       "      <td>19871205.0</td>\n",
       "    </tr>\n",
       "    <tr>\n",
       "      <th>1022721</th>\n",
       "      <td>KLASM69F1JB054053-01</td>\n",
       "      <td>서울4수5512</td>\n",
       "      <td>1174010500</td>\n",
       "      <td>법인</td>\n",
       "      <td>승용</td>\n",
       "      <td>자가용</td>\n",
       "      <td>KLASM69F1JB054053</td>\n",
       "      <td>19880304</td>\n",
       "      <td>1988</td>\n",
       "      <td>NaN</td>\n",
       "      <td>...</td>\n",
       "      <td>로얄살롱2.0MT</td>\n",
       "      <td>승용</td>\n",
       "      <td>일반</td>\n",
       "      <td>중형</td>\n",
       "      <td>SM69F</td>\n",
       "      <td>대우자동차(주)</td>\n",
       "      <td>휘발유</td>\n",
       "      <td>H20MR</td>\n",
       "      <td>대한민국</td>\n",
       "      <td>19871205.0</td>\n",
       "    </tr>\n",
       "    <tr>\n",
       "      <th>1486742</th>\n",
       "      <td>1199서울4드4983</td>\n",
       "      <td>서울4드4983</td>\n",
       "      <td>1138010300</td>\n",
       "      <td>주민</td>\n",
       "      <td>승용</td>\n",
       "      <td>자가용</td>\n",
       "      <td>KLATF19T1LB267581</td>\n",
       "      <td>19900124</td>\n",
       "      <td>1990</td>\n",
       "      <td>NaN</td>\n",
       "      <td>...</td>\n",
       "      <td>르망</td>\n",
       "      <td>승용</td>\n",
       "      <td>일반</td>\n",
       "      <td>소형</td>\n",
       "      <td>TF19I</td>\n",
       "      <td>대우자동차(주)</td>\n",
       "      <td>휘발유</td>\n",
       "      <td>G15SF</td>\n",
       "      <td>NaN</td>\n",
       "      <td>19880805.0</td>\n",
       "    </tr>\n",
       "    <tr>\n",
       "      <th>29276</th>\n",
       "      <td>1199서울4드4981</td>\n",
       "      <td>서울4드4981</td>\n",
       "      <td>1156010800</td>\n",
       "      <td>주민</td>\n",
       "      <td>승용</td>\n",
       "      <td>자가용</td>\n",
       "      <td>KLATF19T1LB267581</td>\n",
       "      <td>19900124</td>\n",
       "      <td>1990</td>\n",
       "      <td>NaN</td>\n",
       "      <td>...</td>\n",
       "      <td>르망</td>\n",
       "      <td>승용</td>\n",
       "      <td>일반</td>\n",
       "      <td>소형</td>\n",
       "      <td>TF19I</td>\n",
       "      <td>대우자동차(주)</td>\n",
       "      <td>휘발유</td>\n",
       "      <td>G15SF</td>\n",
       "      <td>NaN</td>\n",
       "      <td>19880805</td>\n",
       "    </tr>\n",
       "    <tr>\n",
       "      <th>659488</th>\n",
       "      <td>KLATF19T1NB526286-01</td>\n",
       "      <td>경남1우3305</td>\n",
       "      <td>4812515800</td>\n",
       "      <td>주민</td>\n",
       "      <td>승용</td>\n",
       "      <td>자가용</td>\n",
       "      <td>KLATF19T1NB526286</td>\n",
       "      <td>19920422</td>\n",
       "      <td>1992</td>\n",
       "      <td>NaN</td>\n",
       "      <td>...</td>\n",
       "      <td>르망</td>\n",
       "      <td>승용</td>\n",
       "      <td>일반</td>\n",
       "      <td>소형</td>\n",
       "      <td>TF19I</td>\n",
       "      <td>대우자동차(주)</td>\n",
       "      <td>휘발유</td>\n",
       "      <td>G15SF</td>\n",
       "      <td>NaN</td>\n",
       "      <td>19910814.0</td>\n",
       "    </tr>\n",
       "    <tr>\n",
       "      <th>682561</th>\n",
       "      <td>KLATF19T1NB526286-02</td>\n",
       "      <td>서울4쿠8476</td>\n",
       "      <td>1138011400</td>\n",
       "      <td>주민</td>\n",
       "      <td>승용</td>\n",
       "      <td>자가용</td>\n",
       "      <td>KLATF19T1NB526286</td>\n",
       "      <td>19930112</td>\n",
       "      <td>1992</td>\n",
       "      <td>NaN</td>\n",
       "      <td>...</td>\n",
       "      <td>르망</td>\n",
       "      <td>승용</td>\n",
       "      <td>일반</td>\n",
       "      <td>소형</td>\n",
       "      <td>TF19I</td>\n",
       "      <td>대우자동차(주)</td>\n",
       "      <td>휘발유</td>\n",
       "      <td>G15SF</td>\n",
       "      <td>대한민국</td>\n",
       "      <td>19920605</td>\n",
       "    </tr>\n",
       "    <tr>\n",
       "      <th>962845</th>\n",
       "      <td>KLAVM69H1JB075787-02</td>\n",
       "      <td>서울4무8010</td>\n",
       "      <td>1171010700</td>\n",
       "      <td>주민</td>\n",
       "      <td>승용</td>\n",
       "      <td>자가용</td>\n",
       "      <td>KLAVM69H1JB075787</td>\n",
       "      <td>19880804</td>\n",
       "      <td>1988</td>\n",
       "      <td>NaN</td>\n",
       "      <td>...</td>\n",
       "      <td>로얄듀크</td>\n",
       "      <td>승용</td>\n",
       "      <td>일반</td>\n",
       "      <td>중형</td>\n",
       "      <td>VM69H</td>\n",
       "      <td>대우자동차(주)</td>\n",
       "      <td>휘발유</td>\n",
       "      <td>G15CR</td>\n",
       "      <td>NaN</td>\n",
       "      <td>19870317.0</td>\n",
       "    </tr>\n",
       "    <tr>\n",
       "      <th>1137609</th>\n",
       "      <td>KLAVM69H1JB075787-01</td>\n",
       "      <td>전북1마4284</td>\n",
       "      <td>4514031024</td>\n",
       "      <td>주민</td>\n",
       "      <td>승용</td>\n",
       "      <td>자가용</td>\n",
       "      <td>KLAVM69H1JB075787</td>\n",
       "      <td>19880423</td>\n",
       "      <td>1988</td>\n",
       "      <td>NaN</td>\n",
       "      <td>...</td>\n",
       "      <td>로얄듀크</td>\n",
       "      <td>승용</td>\n",
       "      <td>일반</td>\n",
       "      <td>중형</td>\n",
       "      <td>VM69H</td>\n",
       "      <td>대우자동차(주)</td>\n",
       "      <td>휘발유</td>\n",
       "      <td>G15CR</td>\n",
       "      <td>NaN</td>\n",
       "      <td>19861226</td>\n",
       "    </tr>\n",
       "    <tr>\n",
       "      <th>1101310</th>\n",
       "      <td>1199서울7조7622</td>\n",
       "      <td>서울7조7622</td>\n",
       "      <td>1132010600</td>\n",
       "      <td>사업자</td>\n",
       "      <td>화물</td>\n",
       "      <td>자가용</td>\n",
       "      <td>KLY7T51BBNC011472</td>\n",
       "      <td>19921024</td>\n",
       "      <td>1992</td>\n",
       "      <td>NaN</td>\n",
       "      <td>...</td>\n",
       "      <td>라보</td>\n",
       "      <td>화물</td>\n",
       "      <td>일반형-카고</td>\n",
       "      <td>경형</td>\n",
       "      <td>Y7T51</td>\n",
       "      <td>대우조선</td>\n",
       "      <td>휘발유</td>\n",
       "      <td>F8CB</td>\n",
       "      <td>대한민국</td>\n",
       "      <td>19910824</td>\n",
       "    </tr>\n",
       "    <tr>\n",
       "      <th>534318</th>\n",
       "      <td>4199경기7노6306</td>\n",
       "      <td>경기7노6306</td>\n",
       "      <td>4113110200</td>\n",
       "      <td>사업자</td>\n",
       "      <td>화물</td>\n",
       "      <td>자가용</td>\n",
       "      <td>KLY7T51BBNC011472</td>\n",
       "      <td>19921024</td>\n",
       "      <td>1992</td>\n",
       "      <td>NaN</td>\n",
       "      <td>...</td>\n",
       "      <td>라보</td>\n",
       "      <td>화물</td>\n",
       "      <td>일반형-카고</td>\n",
       "      <td>경형</td>\n",
       "      <td>Y7T51</td>\n",
       "      <td>대우조선</td>\n",
       "      <td>휘발유</td>\n",
       "      <td>F8CB</td>\n",
       "      <td>대한민국</td>\n",
       "      <td>19910824</td>\n",
       "    </tr>\n",
       "    <tr>\n",
       "      <th>374296</th>\n",
       "      <td>4399충북1느1240</td>\n",
       "      <td>충북1느1240</td>\n",
       "      <td>4313025024</td>\n",
       "      <td>사업자</td>\n",
       "      <td>승용</td>\n",
       "      <td>자가용</td>\n",
       "      <td>KMHBF31FPKU143334</td>\n",
       "      <td>19891017</td>\n",
       "      <td>1989</td>\n",
       "      <td>NaN</td>\n",
       "      <td>...</td>\n",
       "      <td>쏘나타</td>\n",
       "      <td>승용</td>\n",
       "      <td>일반</td>\n",
       "      <td>중형</td>\n",
       "      <td>YR</td>\n",
       "      <td>현대자동차(주)</td>\n",
       "      <td>휘발유</td>\n",
       "      <td>G4CP</td>\n",
       "      <td>대한민국</td>\n",
       "      <td>19880415</td>\n",
       "    </tr>\n",
       "    <tr>\n",
       "      <th>441948</th>\n",
       "      <td>1199서울1두8779</td>\n",
       "      <td>서울1두8779</td>\n",
       "      <td>1138010700</td>\n",
       "      <td>주민</td>\n",
       "      <td>승용</td>\n",
       "      <td>자가용</td>\n",
       "      <td>KMHBF31FPKU143334</td>\n",
       "      <td>19891017</td>\n",
       "      <td>1989</td>\n",
       "      <td>NaN</td>\n",
       "      <td>...</td>\n",
       "      <td>쏘나타</td>\n",
       "      <td>승용</td>\n",
       "      <td>일반</td>\n",
       "      <td>중형</td>\n",
       "      <td>YR</td>\n",
       "      <td>현대자동차(주)</td>\n",
       "      <td>휘발유</td>\n",
       "      <td>G4CP</td>\n",
       "      <td>대한민국</td>\n",
       "      <td>19880415</td>\n",
       "    </tr>\n",
       "    <tr>\n",
       "      <th>571025</th>\n",
       "      <td>1199서울3라5389</td>\n",
       "      <td>서울3라5389</td>\n",
       "      <td>4145010800</td>\n",
       "      <td>주민</td>\n",
       "      <td>승용</td>\n",
       "      <td>자가용</td>\n",
       "      <td>KMHBF31FPNU489190</td>\n",
       "      <td>19921104</td>\n",
       "      <td>1992</td>\n",
       "      <td>NaN</td>\n",
       "      <td>...</td>\n",
       "      <td>쏘나타오토매틱</td>\n",
       "      <td>승용</td>\n",
       "      <td>일반</td>\n",
       "      <td>중형</td>\n",
       "      <td>YS-S-A-3</td>\n",
       "      <td>현대자동차(주)</td>\n",
       "      <td>휘발유</td>\n",
       "      <td>G4CP</td>\n",
       "      <td>대한민국</td>\n",
       "      <td>19920328</td>\n",
       "    </tr>\n",
       "    <tr>\n",
       "      <th>1134058</th>\n",
       "      <td>4199경기40마9079</td>\n",
       "      <td>경기40마9079</td>\n",
       "      <td>4119011100</td>\n",
       "      <td>주민</td>\n",
       "      <td>승용</td>\n",
       "      <td>자가용</td>\n",
       "      <td>KMHBF31FPNU489190</td>\n",
       "      <td>19921104</td>\n",
       "      <td>1992</td>\n",
       "      <td>19921104.0</td>\n",
       "      <td>...</td>\n",
       "      <td>쏘나타오토매틱</td>\n",
       "      <td>승용</td>\n",
       "      <td>일반</td>\n",
       "      <td>중형</td>\n",
       "      <td>YS-S-A-3</td>\n",
       "      <td>현대자동차(주)</td>\n",
       "      <td>휘발유</td>\n",
       "      <td>G4CP</td>\n",
       "      <td>대한민국</td>\n",
       "      <td>19920328</td>\n",
       "    </tr>\n",
       "    <tr>\n",
       "      <th>638521</th>\n",
       "      <td>4299강원28가5176</td>\n",
       "      <td>강원28가5176</td>\n",
       "      <td>4211010700</td>\n",
       "      <td>주민</td>\n",
       "      <td>승용</td>\n",
       "      <td>관용</td>\n",
       "      <td>KMHCF21DPSU000012</td>\n",
       "      <td>19961209</td>\n",
       "      <td>1995</td>\n",
       "      <td>NaN</td>\n",
       "      <td>...</td>\n",
       "      <td>쏘나타2000오토메틱</td>\n",
       "      <td>승용</td>\n",
       "      <td>일반</td>\n",
       "      <td>중형</td>\n",
       "      <td>SN-5</td>\n",
       "      <td>현대자동차(주)</td>\n",
       "      <td>휘발유</td>\n",
       "      <td>4G63</td>\n",
       "      <td>대한민국</td>\n",
       "      <td>19870122</td>\n",
       "    </tr>\n",
       "    <tr>\n",
       "      <th>684755</th>\n",
       "      <td>4299강원28가5032</td>\n",
       "      <td>강원28가5032</td>\n",
       "      <td>4211010700</td>\n",
       "      <td>주민</td>\n",
       "      <td>승용</td>\n",
       "      <td>관용</td>\n",
       "      <td>KMHCF21DPSU000012</td>\n",
       "      <td>19961209</td>\n",
       "      <td>1995</td>\n",
       "      <td>NaN</td>\n",
       "      <td>...</td>\n",
       "      <td>쏘나타2000오토메틱</td>\n",
       "      <td>승용</td>\n",
       "      <td>일반</td>\n",
       "      <td>중형</td>\n",
       "      <td>SN-5</td>\n",
       "      <td>현대자동차(주)</td>\n",
       "      <td>휘발유</td>\n",
       "      <td>4G63</td>\n",
       "      <td>대한민국</td>\n",
       "      <td>19870122</td>\n",
       "    </tr>\n",
       "    <tr>\n",
       "      <th>269828</th>\n",
       "      <td>4299강원28가5035</td>\n",
       "      <td>강원28가5035</td>\n",
       "      <td>4211010700</td>\n",
       "      <td>주민</td>\n",
       "      <td>승용</td>\n",
       "      <td>관용</td>\n",
       "      <td>KMHCF21DPSU000012</td>\n",
       "      <td>19961209</td>\n",
       "      <td>1995</td>\n",
       "      <td>NaN</td>\n",
       "      <td>...</td>\n",
       "      <td>쏘나타2000오토메틱</td>\n",
       "      <td>승용</td>\n",
       "      <td>일반</td>\n",
       "      <td>중형</td>\n",
       "      <td>SN-5</td>\n",
       "      <td>현대자동차(주)</td>\n",
       "      <td>휘발유</td>\n",
       "      <td>4G63</td>\n",
       "      <td>대한민국</td>\n",
       "      <td>19870122</td>\n",
       "    </tr>\n",
       "    <tr>\n",
       "      <th>918344</th>\n",
       "      <td>4299강원28가5198</td>\n",
       "      <td>강원28가5198</td>\n",
       "      <td>4211010700</td>\n",
       "      <td>주민</td>\n",
       "      <td>승용</td>\n",
       "      <td>관용</td>\n",
       "      <td>KMHCF21DPSU000012</td>\n",
       "      <td>19961209</td>\n",
       "      <td>1995</td>\n",
       "      <td>NaN</td>\n",
       "      <td>...</td>\n",
       "      <td>쏘나타2000오토메틱</td>\n",
       "      <td>승용</td>\n",
       "      <td>일반</td>\n",
       "      <td>중형</td>\n",
       "      <td>SN-5</td>\n",
       "      <td>현대자동차(주)</td>\n",
       "      <td>휘발유</td>\n",
       "      <td>4G63</td>\n",
       "      <td>대한민국</td>\n",
       "      <td>19870122.0</td>\n",
       "    </tr>\n",
       "    <tr>\n",
       "      <th>62086</th>\n",
       "      <td>4299강원28가5089</td>\n",
       "      <td>강원28가5089</td>\n",
       "      <td>4211010700</td>\n",
       "      <td>주민</td>\n",
       "      <td>승용</td>\n",
       "      <td>관용</td>\n",
       "      <td>KMHCF21DPSU000012</td>\n",
       "      <td>19961209</td>\n",
       "      <td>1995</td>\n",
       "      <td>NaN</td>\n",
       "      <td>...</td>\n",
       "      <td>쏘나타2000오토메틱</td>\n",
       "      <td>승용</td>\n",
       "      <td>일반</td>\n",
       "      <td>중형</td>\n",
       "      <td>SN-5</td>\n",
       "      <td>현대자동차(주)</td>\n",
       "      <td>휘발유</td>\n",
       "      <td>4G63</td>\n",
       "      <td>대한민국</td>\n",
       "      <td>19870122.0</td>\n",
       "    </tr>\n",
       "    <tr>\n",
       "      <th>171100</th>\n",
       "      <td>KMHMF21FPPU018261-01</td>\n",
       "      <td>경기67머1913</td>\n",
       "      <td>4157034033</td>\n",
       "      <td>주민</td>\n",
       "      <td>승용</td>\n",
       "      <td>자가용</td>\n",
       "      <td>KMHMF21FPPU018261</td>\n",
       "      <td>19930413</td>\n",
       "      <td>1993</td>\n",
       "      <td>19930413.0</td>\n",
       "      <td>...</td>\n",
       "      <td>그랜저</td>\n",
       "      <td>승용</td>\n",
       "      <td>일반</td>\n",
       "      <td>중형</td>\n",
       "      <td>LX2DM-A</td>\n",
       "      <td>현대자동차(주)</td>\n",
       "      <td>휘발유</td>\n",
       "      <td>G4CP</td>\n",
       "      <td>대한민국</td>\n",
       "      <td>19920810</td>\n",
       "    </tr>\n",
       "    <tr>\n",
       "      <th>222116</th>\n",
       "      <td>KMHMF21FPPU018261-02</td>\n",
       "      <td>서울2라2329</td>\n",
       "      <td>1168010700</td>\n",
       "      <td>사업자</td>\n",
       "      <td>승용</td>\n",
       "      <td>자가용</td>\n",
       "      <td>KMHMF21FPPU018261</td>\n",
       "      <td>19930520</td>\n",
       "      <td>1993</td>\n",
       "      <td>NaN</td>\n",
       "      <td>...</td>\n",
       "      <td>그랜저</td>\n",
       "      <td>승용</td>\n",
       "      <td>일반</td>\n",
       "      <td>중형</td>\n",
       "      <td>LX2DM-A</td>\n",
       "      <td>현대자동차(주)</td>\n",
       "      <td>휘발유</td>\n",
       "      <td>G4CP</td>\n",
       "      <td>대한민국</td>\n",
       "      <td>19920810</td>\n",
       "    </tr>\n",
       "    <tr>\n",
       "      <th>1089157</th>\n",
       "      <td>1199서울2코3350</td>\n",
       "      <td>서울2코3350</td>\n",
       "      <td>1165010800</td>\n",
       "      <td>법인</td>\n",
       "      <td>승용</td>\n",
       "      <td>자가용</td>\n",
       "      <td>KMHNF21SPLU031911</td>\n",
       "      <td>19900327</td>\n",
       "      <td>1990</td>\n",
       "      <td>NaN</td>\n",
       "      <td>...</td>\n",
       "      <td>그랜저2.4</td>\n",
       "      <td>승용</td>\n",
       "      <td>일반</td>\n",
       "      <td>대형</td>\n",
       "      <td>GR4</td>\n",
       "      <td>현대자동차(주)</td>\n",
       "      <td>휘발유</td>\n",
       "      <td>4G64</td>\n",
       "      <td>NaN</td>\n",
       "      <td>19870618.0</td>\n",
       "    </tr>\n",
       "    <tr>\n",
       "      <th>88506</th>\n",
       "      <td>4299강원31나9602</td>\n",
       "      <td>강원31나9602</td>\n",
       "      <td>4137010400</td>\n",
       "      <td>주민</td>\n",
       "      <td>승용</td>\n",
       "      <td>자가용</td>\n",
       "      <td>KMHNF21SPLU031911</td>\n",
       "      <td>19900327</td>\n",
       "      <td>1990</td>\n",
       "      <td>19900327.0</td>\n",
       "      <td>...</td>\n",
       "      <td>그랜저2.4</td>\n",
       "      <td>승용</td>\n",
       "      <td>일반</td>\n",
       "      <td>대형</td>\n",
       "      <td>GR4</td>\n",
       "      <td>현대자동차(주)</td>\n",
       "      <td>휘발유</td>\n",
       "      <td>4G64</td>\n",
       "      <td>NaN</td>\n",
       "      <td>19870618</td>\n",
       "    </tr>\n",
       "    <tr>\n",
       "      <th>359524</th>\n",
       "      <td>4499충남35나8378</td>\n",
       "      <td>충남35나8378</td>\n",
       "      <td>4421010900</td>\n",
       "      <td>주민</td>\n",
       "      <td>승용</td>\n",
       "      <td>자가용</td>\n",
       "      <td>KMHNF21SPLU049507</td>\n",
       "      <td>19901102</td>\n",
       "      <td>1990</td>\n",
       "      <td>19901102.0</td>\n",
       "      <td>...</td>\n",
       "      <td>그랜저2.4</td>\n",
       "      <td>승용</td>\n",
       "      <td>일반</td>\n",
       "      <td>대형</td>\n",
       "      <td>GR4-P</td>\n",
       "      <td>현대자동차(주)</td>\n",
       "      <td>휘발유</td>\n",
       "      <td>G4CS</td>\n",
       "      <td>대한민국</td>\n",
       "      <td>19900531</td>\n",
       "    </tr>\n",
       "    <tr>\n",
       "      <th>1117906</th>\n",
       "      <td>1199서울4포5301</td>\n",
       "      <td>서울4포5301</td>\n",
       "      <td>1114016200</td>\n",
       "      <td>주민</td>\n",
       "      <td>승용</td>\n",
       "      <td>자가용</td>\n",
       "      <td>KMHNF21SPLU049507</td>\n",
       "      <td>19901102</td>\n",
       "      <td>1990</td>\n",
       "      <td>NaN</td>\n",
       "      <td>...</td>\n",
       "      <td>그랜저2.4</td>\n",
       "      <td>승용</td>\n",
       "      <td>일반</td>\n",
       "      <td>대형</td>\n",
       "      <td>GR4-P</td>\n",
       "      <td>현대자동차(주)</td>\n",
       "      <td>휘발유</td>\n",
       "      <td>G4CS</td>\n",
       "      <td>대한민국</td>\n",
       "      <td>19900531</td>\n",
       "    </tr>\n",
       "    <tr>\n",
       "      <th>1230186</th>\n",
       "      <td>4199경기1보4751</td>\n",
       "      <td>경기1보4751</td>\n",
       "      <td>4148031022</td>\n",
       "      <td>주민</td>\n",
       "      <td>승용</td>\n",
       "      <td>자가용</td>\n",
       "      <td>KMHVF21JPKU161128</td>\n",
       "      <td>19891226</td>\n",
       "      <td>1989</td>\n",
       "      <td>NaN</td>\n",
       "      <td>...</td>\n",
       "      <td>엑셀</td>\n",
       "      <td>승용</td>\n",
       "      <td>일반</td>\n",
       "      <td>소형</td>\n",
       "      <td>XT4-ML-1</td>\n",
       "      <td>현대자동차(주)</td>\n",
       "      <td>휘발유</td>\n",
       "      <td>G4DJ</td>\n",
       "      <td>대한민국</td>\n",
       "      <td>19890323</td>\n",
       "    </tr>\n",
       "    <tr>\n",
       "      <th>885488</th>\n",
       "      <td>4199경기2노5243</td>\n",
       "      <td>경기2노5243</td>\n",
       "      <td>4148031022</td>\n",
       "      <td>주민</td>\n",
       "      <td>승용</td>\n",
       "      <td>자가용</td>\n",
       "      <td>KMHVF21JPKU161128</td>\n",
       "      <td>19891226</td>\n",
       "      <td>1989</td>\n",
       "      <td>NaN</td>\n",
       "      <td>...</td>\n",
       "      <td>엑셀</td>\n",
       "      <td>승용</td>\n",
       "      <td>일반</td>\n",
       "      <td>소형</td>\n",
       "      <td>XT4-ML-1</td>\n",
       "      <td>현대자동차(주)</td>\n",
       "      <td>휘발유</td>\n",
       "      <td>G4DJ</td>\n",
       "      <td>대한민국</td>\n",
       "      <td>19890323</td>\n",
       "    </tr>\n",
       "    <tr>\n",
       "      <th>1427856</th>\n",
       "      <td>4199경기8러8034</td>\n",
       "      <td>경기8러8034</td>\n",
       "      <td>4139013200</td>\n",
       "      <td>주민</td>\n",
       "      <td>화물</td>\n",
       "      <td>자가용</td>\n",
       "      <td>KNADA2322JS052345</td>\n",
       "      <td>19880603</td>\n",
       "      <td>1988</td>\n",
       "      <td>NaN</td>\n",
       "      <td>...</td>\n",
       "      <td>기아뉴복사17</td>\n",
       "      <td>화물</td>\n",
       "      <td>일반형-카고</td>\n",
       "      <td>중형</td>\n",
       "      <td>EZB-75S</td>\n",
       "      <td>기아자동차(주)</td>\n",
       "      <td>경유</td>\n",
       "      <td>ZB</td>\n",
       "      <td>대한민국</td>\n",
       "      <td>19761224.0</td>\n",
       "    </tr>\n",
       "    <tr>\n",
       "      <th>11161</th>\n",
       "      <td>4199경기3러8034</td>\n",
       "      <td>경기3러8034</td>\n",
       "      <td>4139013200</td>\n",
       "      <td>주민</td>\n",
       "      <td>승용</td>\n",
       "      <td>자가용</td>\n",
       "      <td>KNADA2322JS052345</td>\n",
       "      <td>19880603</td>\n",
       "      <td>1988</td>\n",
       "      <td>NaN</td>\n",
       "      <td>...</td>\n",
       "      <td>프라이드</td>\n",
       "      <td>승용</td>\n",
       "      <td>일반</td>\n",
       "      <td>소형</td>\n",
       "      <td>B3-23DX</td>\n",
       "      <td>기아자동차(주)</td>\n",
       "      <td>휘발유</td>\n",
       "      <td>B3</td>\n",
       "      <td>NaN</td>\n",
       "      <td>19870127</td>\n",
       "    </tr>\n",
       "    <tr>\n",
       "      <th>792448</th>\n",
       "      <td>2699부산29나1129</td>\n",
       "      <td>부산29나1129</td>\n",
       "      <td>2671025334</td>\n",
       "      <td>주민</td>\n",
       "      <td>승용</td>\n",
       "      <td>자가용</td>\n",
       "      <td>KNAGA2222KS130454</td>\n",
       "      <td>19891027</td>\n",
       "      <td>1989</td>\n",
       "      <td>19891027.0</td>\n",
       "      <td>...</td>\n",
       "      <td>콩코드</td>\n",
       "      <td>승용</td>\n",
       "      <td>일반</td>\n",
       "      <td>중형</td>\n",
       "      <td>FE-25DX</td>\n",
       "      <td>기아자동차(주)</td>\n",
       "      <td>휘발유</td>\n",
       "      <td>FE</td>\n",
       "      <td>대한민국</td>\n",
       "      <td>19890818</td>\n",
       "    </tr>\n",
       "    <tr>\n",
       "      <th>113296</th>\n",
       "      <td>2699부산29나1072</td>\n",
       "      <td>부산29나1072</td>\n",
       "      <td>2671025334</td>\n",
       "      <td>주민</td>\n",
       "      <td>승용</td>\n",
       "      <td>자가용</td>\n",
       "      <td>KNAGA2222KS130454</td>\n",
       "      <td>19891027</td>\n",
       "      <td>1989</td>\n",
       "      <td>19891027.0</td>\n",
       "      <td>...</td>\n",
       "      <td>콩코드</td>\n",
       "      <td>승용</td>\n",
       "      <td>일반</td>\n",
       "      <td>중형</td>\n",
       "      <td>FE-25DX</td>\n",
       "      <td>기아자동차(주)</td>\n",
       "      <td>휘발유</td>\n",
       "      <td>FE</td>\n",
       "      <td>대한민국</td>\n",
       "      <td>19890818</td>\n",
       "    </tr>\n",
       "    <tr>\n",
       "      <th>942582</th>\n",
       "      <td>KNAGC2213SA102715-01</td>\n",
       "      <td>전북32너9639</td>\n",
       "      <td>4514013400</td>\n",
       "      <td>주민</td>\n",
       "      <td>승용</td>\n",
       "      <td>자가용</td>\n",
       "      <td>KNAGC2213SA102715</td>\n",
       "      <td>19950718</td>\n",
       "      <td>1995</td>\n",
       "      <td>19950718.0</td>\n",
       "      <td>...</td>\n",
       "      <td>크레도스</td>\n",
       "      <td>승용</td>\n",
       "      <td>일반</td>\n",
       "      <td>중형</td>\n",
       "      <td>FE-27GSA</td>\n",
       "      <td>기아자동차(주)</td>\n",
       "      <td>휘발유</td>\n",
       "      <td>FE</td>\n",
       "      <td>대한민국</td>\n",
       "      <td>19950513.0</td>\n",
       "    </tr>\n",
       "    <tr>\n",
       "      <th>41565</th>\n",
       "      <td>KNAGC2213SA102715-02</td>\n",
       "      <td>경기40다9656</td>\n",
       "      <td>4122011000</td>\n",
       "      <td>주민</td>\n",
       "      <td>승용</td>\n",
       "      <td>자가용</td>\n",
       "      <td>KNAGC2213SA102715</td>\n",
       "      <td>19950817</td>\n",
       "      <td>1995</td>\n",
       "      <td>NaN</td>\n",
       "      <td>...</td>\n",
       "      <td>크레도스</td>\n",
       "      <td>승용</td>\n",
       "      <td>일반</td>\n",
       "      <td>중형</td>\n",
       "      <td>FE-27GSA</td>\n",
       "      <td>기아자동차(주)</td>\n",
       "      <td>휘발유</td>\n",
       "      <td>FE</td>\n",
       "      <td>대한민국</td>\n",
       "      <td>19950513</td>\n",
       "    </tr>\n",
       "    <tr>\n",
       "      <th>996810</th>\n",
       "      <td>439904거2562</td>\n",
       "      <td>04거2562</td>\n",
       "      <td>4374525030</td>\n",
       "      <td>사업자</td>\n",
       "      <td>승용</td>\n",
       "      <td>자가용</td>\n",
       "      <td>KNAGC2282YA382041</td>\n",
       "      <td>20000302</td>\n",
       "      <td>2000</td>\n",
       "      <td>20000302.0</td>\n",
       "      <td>...</td>\n",
       "      <td>크레도스IILPG</td>\n",
       "      <td>승용</td>\n",
       "      <td>일반</td>\n",
       "      <td>중형</td>\n",
       "      <td>GCN82A</td>\n",
       "      <td>기아자동차(주)</td>\n",
       "      <td>LPG(액화석유가스)</td>\n",
       "      <td>FE</td>\n",
       "      <td>대한민국</td>\n",
       "      <td>19981117</td>\n",
       "    </tr>\n",
       "    <tr>\n",
       "      <th>970693</th>\n",
       "      <td>419907서3394</td>\n",
       "      <td>07서3394</td>\n",
       "      <td>4165034022</td>\n",
       "      <td>사업자</td>\n",
       "      <td>승용</td>\n",
       "      <td>자가용</td>\n",
       "      <td>KNAGC2282YA382041</td>\n",
       "      <td>20000302</td>\n",
       "      <td>2000</td>\n",
       "      <td>20000302.0</td>\n",
       "      <td>...</td>\n",
       "      <td>크레도스IILPG</td>\n",
       "      <td>승용</td>\n",
       "      <td>일반</td>\n",
       "      <td>중형</td>\n",
       "      <td>GCN82A</td>\n",
       "      <td>기아자동차(주)</td>\n",
       "      <td>LPG(액화석유가스)</td>\n",
       "      <td>FE</td>\n",
       "      <td>대한민국</td>\n",
       "      <td>19981117</td>\n",
       "    </tr>\n",
       "    <tr>\n",
       "      <th>992169</th>\n",
       "      <td>KNALA2233RA822260-01</td>\n",
       "      <td>경남2나1865</td>\n",
       "      <td>4812125027</td>\n",
       "      <td>주민</td>\n",
       "      <td>승용</td>\n",
       "      <td>자가용</td>\n",
       "      <td>KNALA2233RA822260</td>\n",
       "      <td>19940613</td>\n",
       "      <td>1994</td>\n",
       "      <td>NaN</td>\n",
       "      <td>...</td>\n",
       "      <td>포텐사오토</td>\n",
       "      <td>승용</td>\n",
       "      <td>일반</td>\n",
       "      <td>중형</td>\n",
       "      <td>FE-27DXA</td>\n",
       "      <td>기아자동차(주)</td>\n",
       "      <td>휘발유</td>\n",
       "      <td>FE</td>\n",
       "      <td>대한민국</td>\n",
       "      <td>19931027</td>\n",
       "    </tr>\n",
       "    <tr>\n",
       "      <th>1036719</th>\n",
       "      <td>KNALA2233RA822260-02</td>\n",
       "      <td>03노4790</td>\n",
       "      <td>4211012000</td>\n",
       "      <td>주민</td>\n",
       "      <td>승용</td>\n",
       "      <td>자가용</td>\n",
       "      <td>KNALA2233RA822260</td>\n",
       "      <td>19940622</td>\n",
       "      <td>1994</td>\n",
       "      <td>19940622.0</td>\n",
       "      <td>...</td>\n",
       "      <td>포텐사오토</td>\n",
       "      <td>승용</td>\n",
       "      <td>일반</td>\n",
       "      <td>중형</td>\n",
       "      <td>FE-27DXA</td>\n",
       "      <td>기아자동차(주)</td>\n",
       "      <td>휘발유</td>\n",
       "      <td>FE</td>\n",
       "      <td>대한민국</td>\n",
       "      <td>19931027</td>\n",
       "    </tr>\n",
       "  </tbody>\n",
       "</table>\n",
       "<p>41 rows × 25 columns</p>\n",
       "</div>"
      ],
      "text/plain": [
       "                       차량관리번호     차량등록번호    본거지법정동코드 소유자구분 차종_등록정보   용도  \\\n",
       "747837   1GBEL19W3XB192382-02    39고6855  1141011800    주민      승용  자가용   \n",
       "1424917  1GBEL19W3XB192382-01    36거2927  1111017500    주민      승용  자가용   \n",
       "173765           2799대구2고2891   대구2고2891  2717010200    주민      승용  자가용   \n",
       "1522531          1199서울2수2138   서울2수2138  2818510600    주민      승용  자가용   \n",
       "639215   KLASM69F1JB054053-02   서울4모4528  1153010800    법인      승용  자가용   \n",
       "1022721  KLASM69F1JB054053-01   서울4수5512  1174010500    법인      승용  자가용   \n",
       "1486742          1199서울4드4983   서울4드4983  1138010300    주민      승용  자가용   \n",
       "29276            1199서울4드4981   서울4드4981  1156010800    주민      승용  자가용   \n",
       "659488   KLATF19T1NB526286-01   경남1우3305  4812515800    주민      승용  자가용   \n",
       "682561   KLATF19T1NB526286-02   서울4쿠8476  1138011400    주민      승용  자가용   \n",
       "962845   KLAVM69H1JB075787-02   서울4무8010  1171010700    주민      승용  자가용   \n",
       "1137609  KLAVM69H1JB075787-01   전북1마4284  4514031024    주민      승용  자가용   \n",
       "1101310          1199서울7조7622   서울7조7622  1132010600   사업자      화물  자가용   \n",
       "534318           4199경기7노6306   경기7노6306  4113110200   사업자      화물  자가용   \n",
       "374296           4399충북1느1240   충북1느1240  4313025024   사업자      승용  자가용   \n",
       "441948           1199서울1두8779   서울1두8779  1138010700    주민      승용  자가용   \n",
       "571025           1199서울3라5389   서울3라5389  4145010800    주민      승용  자가용   \n",
       "1134058         4199경기40마9079  경기40마9079  4119011100    주민      승용  자가용   \n",
       "638521          4299강원28가5176  강원28가5176  4211010700    주민      승용   관용   \n",
       "684755          4299강원28가5032  강원28가5032  4211010700    주민      승용   관용   \n",
       "269828          4299강원28가5035  강원28가5035  4211010700    주민      승용   관용   \n",
       "918344          4299강원28가5198  강원28가5198  4211010700    주민      승용   관용   \n",
       "62086           4299강원28가5089  강원28가5089  4211010700    주민      승용   관용   \n",
       "171100   KMHMF21FPPU018261-01  경기67머1913  4157034033    주민      승용  자가용   \n",
       "222116   KMHMF21FPPU018261-02   서울2라2329  1168010700   사업자      승용  자가용   \n",
       "1089157          1199서울2코3350   서울2코3350  1165010800    법인      승용  자가용   \n",
       "88506           4299강원31나9602  강원31나9602  4137010400    주민      승용  자가용   \n",
       "359524          4499충남35나8378  충남35나8378  4421010900    주민      승용  자가용   \n",
       "1117906          1199서울4포5301   서울4포5301  1114016200    주민      승용  자가용   \n",
       "1230186          4199경기1보4751   경기1보4751  4148031022    주민      승용  자가용   \n",
       "885488           4199경기2노5243   경기2노5243  4148031022    주민      승용  자가용   \n",
       "1427856          4199경기8러8034   경기8러8034  4139013200    주민      화물  자가용   \n",
       "11161            4199경기3러8034   경기3러8034  4139013200    주민      승용  자가용   \n",
       "792448          2699부산29나1129  부산29나1129  2671025334    주민      승용  자가용   \n",
       "113296          2699부산29나1072  부산29나1072  2671025334    주민      승용  자가용   \n",
       "942582   KNAGC2213SA102715-01  전북32너9639  4514013400    주민      승용  자가용   \n",
       "41565    KNAGC2213SA102715-02  경기40다9656  4122011000    주민      승용  자가용   \n",
       "996810            439904거2562    04거2562  4374525030   사업자      승용  자가용   \n",
       "970693            419907서3394    07서3394  4165034022   사업자      승용  자가용   \n",
       "992169   KNALA2233RA822260-01   경남2나1865  4812125027    주민      승용  자가용   \n",
       "1036719  KNALA2233RA822260-02    03노4790  4211012000    주민      승용  자가용   \n",
       "\n",
       "                      차대번호    최초등록일자  차량연식      차량제작일자  ...           차명  \\\n",
       "747837   1GBEL19W3XB192382  20091013  1999  19991231.0  ...   시보레 아스트로 벤   \n",
       "1424917  1GBEL19W3XB192382  20090917  1999  20081124.0  ...   시보레 아스트로 벤   \n",
       "173765   KLAEM19W1NB116889  19920127  1992         NaN  ...   로얄프린스2.0MT   \n",
       "1522531  KLAEM19W1NB116889  19920127  1992         NaN  ...   로얄프린스2.0MT   \n",
       "639215   KLASM69F1JB054053  19880305  1988         NaN  ...    로얄살롱2.0MT   \n",
       "1022721  KLASM69F1JB054053  19880304  1988         NaN  ...    로얄살롱2.0MT   \n",
       "1486742  KLATF19T1LB267581  19900124  1990         NaN  ...           르망   \n",
       "29276    KLATF19T1LB267581  19900124  1990         NaN  ...           르망   \n",
       "659488   KLATF19T1NB526286  19920422  1992         NaN  ...           르망   \n",
       "682561   KLATF19T1NB526286  19930112  1992         NaN  ...           르망   \n",
       "962845   KLAVM69H1JB075787  19880804  1988         NaN  ...         로얄듀크   \n",
       "1137609  KLAVM69H1JB075787  19880423  1988         NaN  ...         로얄듀크   \n",
       "1101310  KLY7T51BBNC011472  19921024  1992         NaN  ...           라보   \n",
       "534318   KLY7T51BBNC011472  19921024  1992         NaN  ...           라보   \n",
       "374296   KMHBF31FPKU143334  19891017  1989         NaN  ...          쏘나타   \n",
       "441948   KMHBF31FPKU143334  19891017  1989         NaN  ...          쏘나타   \n",
       "571025   KMHBF31FPNU489190  19921104  1992         NaN  ...      쏘나타오토매틱   \n",
       "1134058  KMHBF31FPNU489190  19921104  1992  19921104.0  ...      쏘나타오토매틱   \n",
       "638521   KMHCF21DPSU000012  19961209  1995         NaN  ...  쏘나타2000오토메틱   \n",
       "684755   KMHCF21DPSU000012  19961209  1995         NaN  ...  쏘나타2000오토메틱   \n",
       "269828   KMHCF21DPSU000012  19961209  1995         NaN  ...  쏘나타2000오토메틱   \n",
       "918344   KMHCF21DPSU000012  19961209  1995         NaN  ...  쏘나타2000오토메틱   \n",
       "62086    KMHCF21DPSU000012  19961209  1995         NaN  ...  쏘나타2000오토메틱   \n",
       "171100   KMHMF21FPPU018261  19930413  1993  19930413.0  ...          그랜저   \n",
       "222116   KMHMF21FPPU018261  19930520  1993         NaN  ...          그랜저   \n",
       "1089157  KMHNF21SPLU031911  19900327  1990         NaN  ...       그랜저2.4   \n",
       "88506    KMHNF21SPLU031911  19900327  1990  19900327.0  ...       그랜저2.4   \n",
       "359524   KMHNF21SPLU049507  19901102  1990  19901102.0  ...       그랜저2.4   \n",
       "1117906  KMHNF21SPLU049507  19901102  1990         NaN  ...       그랜저2.4   \n",
       "1230186  KMHVF21JPKU161128  19891226  1989         NaN  ...           엑셀   \n",
       "885488   KMHVF21JPKU161128  19891226  1989         NaN  ...           엑셀   \n",
       "1427856  KNADA2322JS052345  19880603  1988         NaN  ...      기아뉴복사17   \n",
       "11161    KNADA2322JS052345  19880603  1988         NaN  ...         프라이드   \n",
       "792448   KNAGA2222KS130454  19891027  1989  19891027.0  ...          콩코드   \n",
       "113296   KNAGA2222KS130454  19891027  1989  19891027.0  ...          콩코드   \n",
       "942582   KNAGC2213SA102715  19950718  1995  19950718.0  ...         크레도스   \n",
       "41565    KNAGC2213SA102715  19950817  1995         NaN  ...         크레도스   \n",
       "996810   KNAGC2282YA382041  20000302  2000  20000302.0  ...    크레도스IILPG   \n",
       "970693   KNAGC2282YA382041  20000302  2000  20000302.0  ...    크레도스IILPG   \n",
       "992169   KNALA2233RA822260  19940613  1994         NaN  ...        포텐사오토   \n",
       "1036719  KNALA2233RA822260  19940622  1994  19940622.0  ...        포텐사오토   \n",
       "\n",
       "        차종_제원정보    차종분류 차종유형     자동차형식      제작사명           연료   엔진형식  원산지명  \\\n",
       "747837       승용      기타   대형     EL19W      오토라인          휘발유     4G    독일   \n",
       "1424917      승용      기타   대형     EL19W      오토라인          휘발유     4G    독일   \n",
       "173765       승용      일반   중형     EM19W  대우자동차(주)          휘발유  C20LE  대한민국   \n",
       "1522531      승용      일반   중형     EM19W  대우자동차(주)          휘발유  C20LE  대한민국   \n",
       "639215       승용      일반   중형     SM69F  대우자동차(주)          휘발유  H20MR  대한민국   \n",
       "1022721      승용      일반   중형     SM69F  대우자동차(주)          휘발유  H20MR  대한민국   \n",
       "1486742      승용      일반   소형     TF19I  대우자동차(주)          휘발유  G15SF   NaN   \n",
       "29276        승용      일반   소형     TF19I  대우자동차(주)          휘발유  G15SF   NaN   \n",
       "659488       승용      일반   소형     TF19I  대우자동차(주)          휘발유  G15SF   NaN   \n",
       "682561       승용      일반   소형     TF19I  대우자동차(주)          휘발유  G15SF  대한민국   \n",
       "962845       승용      일반   중형     VM69H  대우자동차(주)          휘발유  G15CR   NaN   \n",
       "1137609      승용      일반   중형     VM69H  대우자동차(주)          휘발유  G15CR   NaN   \n",
       "1101310      화물  일반형-카고   경형     Y7T51      대우조선          휘발유   F8CB  대한민국   \n",
       "534318       화물  일반형-카고   경형     Y7T51      대우조선          휘발유   F8CB  대한민국   \n",
       "374296       승용      일반   중형        YR  현대자동차(주)          휘발유   G4CP  대한민국   \n",
       "441948       승용      일반   중형        YR  현대자동차(주)          휘발유   G4CP  대한민국   \n",
       "571025       승용      일반   중형  YS-S-A-3  현대자동차(주)          휘발유   G4CP  대한민국   \n",
       "1134058      승용      일반   중형  YS-S-A-3  현대자동차(주)          휘발유   G4CP  대한민국   \n",
       "638521       승용      일반   중형      SN-5  현대자동차(주)          휘발유   4G63  대한민국   \n",
       "684755       승용      일반   중형      SN-5  현대자동차(주)          휘발유   4G63  대한민국   \n",
       "269828       승용      일반   중형      SN-5  현대자동차(주)          휘발유   4G63  대한민국   \n",
       "918344       승용      일반   중형      SN-5  현대자동차(주)          휘발유   4G63  대한민국   \n",
       "62086        승용      일반   중형      SN-5  현대자동차(주)          휘발유   4G63  대한민국   \n",
       "171100       승용      일반   중형   LX2DM-A  현대자동차(주)          휘발유   G4CP  대한민국   \n",
       "222116       승용      일반   중형   LX2DM-A  현대자동차(주)          휘발유   G4CP  대한민국   \n",
       "1089157      승용      일반   대형       GR4  현대자동차(주)          휘발유   4G64   NaN   \n",
       "88506        승용      일반   대형       GR4  현대자동차(주)          휘발유   4G64   NaN   \n",
       "359524       승용      일반   대형     GR4-P  현대자동차(주)          휘발유   G4CS  대한민국   \n",
       "1117906      승용      일반   대형     GR4-P  현대자동차(주)          휘발유   G4CS  대한민국   \n",
       "1230186      승용      일반   소형  XT4-ML-1  현대자동차(주)          휘발유   G4DJ  대한민국   \n",
       "885488       승용      일반   소형  XT4-ML-1  현대자동차(주)          휘발유   G4DJ  대한민국   \n",
       "1427856      화물  일반형-카고   중형   EZB-75S  기아자동차(주)           경유     ZB  대한민국   \n",
       "11161        승용      일반   소형   B3-23DX  기아자동차(주)          휘발유     B3   NaN   \n",
       "792448       승용      일반   중형   FE-25DX  기아자동차(주)          휘발유     FE  대한민국   \n",
       "113296       승용      일반   중형   FE-25DX  기아자동차(주)          휘발유     FE  대한민국   \n",
       "942582       승용      일반   중형  FE-27GSA  기아자동차(주)          휘발유     FE  대한민국   \n",
       "41565        승용      일반   중형  FE-27GSA  기아자동차(주)          휘발유     FE  대한민국   \n",
       "996810       승용      일반   중형    GCN82A  기아자동차(주)  LPG(액화석유가스)     FE  대한민국   \n",
       "970693       승용      일반   중형    GCN82A  기아자동차(주)  LPG(액화석유가스)     FE  대한민국   \n",
       "992169       승용      일반   중형  FE-27DXA  기아자동차(주)          휘발유     FE  대한민국   \n",
       "1036719      승용      일반   중형  FE-27DXA  기아자동차(주)          휘발유     FE  대한민국   \n",
       "\n",
       "             제원승인일자  \n",
       "747837     20090805  \n",
       "1424917    20090805  \n",
       "173765     19910531  \n",
       "1522531  19910531.0  \n",
       "639215   19871205.0  \n",
       "1022721  19871205.0  \n",
       "1486742  19880805.0  \n",
       "29276      19880805  \n",
       "659488   19910814.0  \n",
       "682561     19920605  \n",
       "962845   19870317.0  \n",
       "1137609    19861226  \n",
       "1101310    19910824  \n",
       "534318     19910824  \n",
       "374296     19880415  \n",
       "441948     19880415  \n",
       "571025     19920328  \n",
       "1134058    19920328  \n",
       "638521     19870122  \n",
       "684755     19870122  \n",
       "269828     19870122  \n",
       "918344   19870122.0  \n",
       "62086    19870122.0  \n",
       "171100     19920810  \n",
       "222116     19920810  \n",
       "1089157  19870618.0  \n",
       "88506      19870618  \n",
       "359524     19900531  \n",
       "1117906    19900531  \n",
       "1230186    19890323  \n",
       "885488     19890323  \n",
       "1427856  19761224.0  \n",
       "11161      19870127  \n",
       "792448     19890818  \n",
       "113296     19890818  \n",
       "942582   19950513.0  \n",
       "41565      19950513  \n",
       "996810     19981117  \n",
       "970693     19981117  \n",
       "992169     19931027  \n",
       "1036719    19931027  \n",
       "\n",
       "[41 rows x 25 columns]"
      ]
     },
     "execution_count": 228,
     "metadata": {},
     "output_type": "execute_result"
    }
   ],
   "source": [
    "df3.loc[df3.duplicated('차대번호', keep=False) == True, ['차량관리번호', '차량등록번호', '본거지법정동코드', '소유자구분', '차종_등록정보', '용도', '차대번호',\n",
    "       '최초등록일자', '차량연식', '차량제작일자', '검사유효일', '제원관리번호', '배출가스인증번호', '취득일자', '취득금액', '차명', '차종_제원정보', '차종분류',\n",
    "       '차종유형', '자동차형식', '제작사명', '연료', '엔진형식', '원산지명', '제원승인일자']].sort_values('차대번호')"
   ]
  },
  {
   "cell_type": "code",
   "execution_count": 229,
   "metadata": {},
   "outputs": [],
   "source": [
    "# 차대번호 중복 예시\n",
    "df3.loc[df3.duplicated('차대번호', keep=False) == True, ['차량관리번호', '차량등록번호', '본거지법정동코드', '소유자구분', '차종_등록정보', '용도', '차대번호',\n",
    "       '최초등록일자', '차량연식', '차량제작일자', '검사유효일', '제원관리번호', '배출가스인증번호', '취득일자', '취득금액', '차명', '차종_제원정보', '차종분류',\n",
    "       '차종유형', '자동차형식', '제작사명', '연료', '엔진형식', '원산지명', '제원승인일자']].sort_values('차대번호').to_excel('analysis/[G4][차대번호]중복_예시.xlsx')"
   ]
  },
  {
   "cell_type": "code",
   "execution_count": 230,
   "metadata": {},
   "outputs": [
    {
     "data": {
      "text/html": [
       "<div>\n",
       "<style scoped>\n",
       "    .dataframe tbody tr th:only-of-type {\n",
       "        vertical-align: middle;\n",
       "    }\n",
       "\n",
       "    .dataframe tbody tr th {\n",
       "        vertical-align: top;\n",
       "    }\n",
       "\n",
       "    .dataframe thead th {\n",
       "        text-align: right;\n",
       "    }\n",
       "</style>\n",
       "<table border=\"1\" class=\"dataframe\">\n",
       "  <thead>\n",
       "    <tr style=\"text-align: right;\">\n",
       "      <th></th>\n",
       "      <th>차량관리번호</th>\n",
       "      <th>차량등록번호</th>\n",
       "      <th>본거지법정동코드</th>\n",
       "      <th>소유자구분</th>\n",
       "      <th>차종_등록정보</th>\n",
       "      <th>용도</th>\n",
       "      <th>차대번호</th>\n",
       "      <th>최초등록일자</th>\n",
       "      <th>차량연식</th>\n",
       "      <th>차량제작일자</th>\n",
       "      <th>...</th>\n",
       "      <th>승차인원</th>\n",
       "      <th>차량길이</th>\n",
       "      <th>차량너비</th>\n",
       "      <th>차량높이</th>\n",
       "      <th>원산지명</th>\n",
       "      <th>삭제YN</th>\n",
       "      <th>제원승인일자</th>\n",
       "      <th>구동형식</th>\n",
       "      <th>변속기종류</th>\n",
       "      <th>차량말소YN</th>\n",
       "    </tr>\n",
       "  </thead>\n",
       "  <tbody>\n",
       "    <tr>\n",
       "      <th>1528583</th>\n",
       "      <td>KMCLK19KP8C035195-01</td>\n",
       "      <td>96부7399</td>\n",
       "      <td>4824034000</td>\n",
       "      <td>주민</td>\n",
       "      <td>화물</td>\n",
       "      <td>자가용</td>\n",
       "      <td>KMCLK18KP8C035195</td>\n",
       "      <td>20220614</td>\n",
       "      <td>2008</td>\n",
       "      <td>20080924.0</td>\n",
       "      <td>...</td>\n",
       "      <td>3</td>\n",
       "      <td>7710.0</td>\n",
       "      <td>2420.0</td>\n",
       "      <td>2960.0</td>\n",
       "      <td>대한민국</td>\n",
       "      <td>N</td>\n",
       "      <td>20080529.0</td>\n",
       "      <td>NaN</td>\n",
       "      <td>자동</td>\n",
       "      <td>NaN</td>\n",
       "    </tr>\n",
       "    <tr>\n",
       "      <th>1528561</th>\n",
       "      <td>KMFLA18KP8C031274-01</td>\n",
       "      <td>92도0997</td>\n",
       "      <td>4482533000</td>\n",
       "      <td>법인</td>\n",
       "      <td>화물</td>\n",
       "      <td>자가용</td>\n",
       "      <td>KMFLA18KP8C031274</td>\n",
       "      <td>20220419</td>\n",
       "      <td>2008</td>\n",
       "      <td>20080605.0</td>\n",
       "      <td>...</td>\n",
       "      <td>2</td>\n",
       "      <td>6675.0</td>\n",
       "      <td>2255.0</td>\n",
       "      <td>2950.0</td>\n",
       "      <td>대한민국</td>\n",
       "      <td>N</td>\n",
       "      <td>20080518.0</td>\n",
       "      <td>NaN</td>\n",
       "      <td>수동</td>\n",
       "      <td>NaN</td>\n",
       "    </tr>\n",
       "    <tr>\n",
       "      <th>1528540</th>\n",
       "      <td>KLACA26RD8B226753-01</td>\n",
       "      <td>153구6446</td>\n",
       "      <td>2826011000</td>\n",
       "      <td>주민</td>\n",
       "      <td>승용</td>\n",
       "      <td>자가용</td>\n",
       "      <td>KLACA26RD8B226753</td>\n",
       "      <td>20210909</td>\n",
       "      <td>2008</td>\n",
       "      <td>20080221.0</td>\n",
       "      <td>...</td>\n",
       "      <td>7</td>\n",
       "      <td>4635.0</td>\n",
       "      <td>1850.0</td>\n",
       "      <td>1720.0</td>\n",
       "      <td>대한민국</td>\n",
       "      <td>N</td>\n",
       "      <td>20070703.0</td>\n",
       "      <td>NaN</td>\n",
       "      <td>자동</td>\n",
       "      <td>NaN</td>\n",
       "    </tr>\n",
       "    <tr>\n",
       "      <th>1528538</th>\n",
       "      <td>KMCGK17HP8C086937-01</td>\n",
       "      <td>88조4842</td>\n",
       "      <td>4476032000</td>\n",
       "      <td>법인</td>\n",
       "      <td>화물</td>\n",
       "      <td>자가용</td>\n",
       "      <td>KMCGK17HP8C086937</td>\n",
       "      <td>20210830</td>\n",
       "      <td>2008</td>\n",
       "      <td>20080315.0</td>\n",
       "      <td>...</td>\n",
       "      <td>3</td>\n",
       "      <td>6180.0</td>\n",
       "      <td>2030.0</td>\n",
       "      <td>2920.0</td>\n",
       "      <td>대한민국</td>\n",
       "      <td>N</td>\n",
       "      <td>20070913.0</td>\n",
       "      <td>NaN</td>\n",
       "      <td>수동</td>\n",
       "      <td>NaN</td>\n",
       "    </tr>\n",
       "    <tr>\n",
       "      <th>1528539</th>\n",
       "      <td>KMCYSS7JP7U084697-01</td>\n",
       "      <td>99도4857</td>\n",
       "      <td>4423038028</td>\n",
       "      <td>주민</td>\n",
       "      <td>특수</td>\n",
       "      <td>자가용</td>\n",
       "      <td>KMCYSS7JP7U084697</td>\n",
       "      <td>20210826</td>\n",
       "      <td>2007</td>\n",
       "      <td>20070227.0</td>\n",
       "      <td>...</td>\n",
       "      <td>3</td>\n",
       "      <td>5435.0</td>\n",
       "      <td>1820.0</td>\n",
       "      <td>2060.0</td>\n",
       "      <td>대한민국</td>\n",
       "      <td>N</td>\n",
       "      <td>20060714.0</td>\n",
       "      <td>NaN</td>\n",
       "      <td>수동</td>\n",
       "      <td>NaN</td>\n",
       "    </tr>\n",
       "  </tbody>\n",
       "</table>\n",
       "<p>5 rows × 40 columns</p>\n",
       "</div>"
      ],
      "text/plain": [
       "                       차량관리번호    차량등록번호    본거지법정동코드 소유자구분 차종_등록정보   용도  \\\n",
       "1528583  KMCLK19KP8C035195-01   96부7399  4824034000    주민      화물  자가용   \n",
       "1528561  KMFLA18KP8C031274-01   92도0997  4482533000    법인      화물  자가용   \n",
       "1528540  KLACA26RD8B226753-01  153구6446  2826011000    주민      승용  자가용   \n",
       "1528538  KMCGK17HP8C086937-01   88조4842  4476032000    법인      화물  자가용   \n",
       "1528539  KMCYSS7JP7U084697-01   99도4857  4423038028    주민      특수  자가용   \n",
       "\n",
       "                      차대번호    최초등록일자  차량연식      차량제작일자  ...  승차인원    차량길이  \\\n",
       "1528583  KMCLK18KP8C035195  20220614  2008  20080924.0  ...     3  7710.0   \n",
       "1528561  KMFLA18KP8C031274  20220419  2008  20080605.0  ...     2  6675.0   \n",
       "1528540  KLACA26RD8B226753  20210909  2008  20080221.0  ...     7  4635.0   \n",
       "1528538  KMCGK17HP8C086937  20210830  2008  20080315.0  ...     3  6180.0   \n",
       "1528539  KMCYSS7JP7U084697  20210826  2007  20070227.0  ...     3  5435.0   \n",
       "\n",
       "           차량너비    차량높이  원산지명 삭제YN      제원승인일자  구동형식 변속기종류 차량말소YN  \n",
       "1528583  2420.0  2960.0  대한민국    N  20080529.0   NaN    자동    NaN  \n",
       "1528561  2255.0  2950.0  대한민국    N  20080518.0   NaN    수동    NaN  \n",
       "1528540  1850.0  1720.0  대한민국    N  20070703.0   NaN    자동    NaN  \n",
       "1528538  2030.0  2920.0  대한민국    N  20070913.0   NaN    수동    NaN  \n",
       "1528539  1820.0  2060.0  대한민국    N  20060714.0   NaN    수동    NaN  \n",
       "\n",
       "[5 rows x 40 columns]"
      ]
     },
     "execution_count": 230,
     "metadata": {},
     "output_type": "execute_result"
    }
   ],
   "source": [
    "df3.sort_values(['최초등록일자', '검사유효일', '차대번호'], ascending=False).head()"
   ]
  },
  {
   "cell_type": "code",
   "execution_count": 231,
   "metadata": {},
   "outputs": [
    {
     "data": {
      "text/plain": [
       "(1528579, 40)"
      ]
     },
     "execution_count": 231,
     "metadata": {},
     "output_type": "execute_result"
    }
   ],
   "source": [
    "df3.shape"
   ]
  },
  {
   "cell_type": "code",
   "execution_count": 232,
   "metadata": {},
   "outputs": [],
   "source": [
    "df3_1 = df3.sort_values(['최초등록일자', '검사유효일', '차대번호'], ascending=False).reset_index(drop=True)\n",
    "df3_2 = df3_1.drop_duplicates('차대번호', keep='first').reset_index(drop=True)"
   ]
  },
  {
   "cell_type": "code",
   "execution_count": 233,
   "metadata": {},
   "outputs": [
    {
     "data": {
      "text/plain": [
       "KMCLK18KP8C035195    1\n",
       "KMHJN81VP8U766322    1\n",
       "KNAJE55537K463438    1\n",
       "KNAJE55537K468980    1\n",
       "KNAJE55537K470819    1\n",
       "                    ..\n",
       "KMHNV81WBAU108544    1\n",
       "KMHNV81WDAU113985    1\n",
       "KMHSH81UBAU530489    1\n",
       "KMHSH81UBAU541710    1\n",
       "KMHJF31JPPU555457    1\n",
       "Name: 차대번호, Length: 1528557, dtype: int64"
      ]
     },
     "execution_count": 233,
     "metadata": {},
     "output_type": "execute_result"
    }
   ],
   "source": [
    "df3_2['차대번호'].value_counts()"
   ]
  },
  {
   "cell_type": "code",
   "execution_count": 234,
   "metadata": {},
   "outputs": [
    {
     "data": {
      "text/plain": [
       "1523727    프라이드\n",
       "Name: 차명, dtype: object"
      ]
     },
     "execution_count": 234,
     "metadata": {},
     "output_type": "execute_result"
    }
   ],
   "source": [
    "df3_2[df3_2['차대번호'] == 'KNADA2322JS052345']['차명']"
   ]
  },
  {
   "cell_type": "code",
   "execution_count": 235,
   "metadata": {},
   "outputs": [],
   "source": [
    "df4 = df3_2.copy()"
   ]
  },
  {
   "attachments": {},
   "cell_type": "markdown",
   "metadata": {},
   "source": [
    "## 연료 정보 수정\n",
    "- 엔진형식, 차명으로 확인"
   ]
  },
  {
   "cell_type": "code",
   "execution_count": 236,
   "metadata": {},
   "outputs": [
    {
     "data": {
      "text/html": [
       "<div>\n",
       "<style scoped>\n",
       "    .dataframe tbody tr th:only-of-type {\n",
       "        vertical-align: middle;\n",
       "    }\n",
       "\n",
       "    .dataframe tbody tr th {\n",
       "        vertical-align: top;\n",
       "    }\n",
       "\n",
       "    .dataframe thead th {\n",
       "        text-align: right;\n",
       "    }\n",
       "</style>\n",
       "<table border=\"1\" class=\"dataframe\">\n",
       "  <thead>\n",
       "    <tr style=\"text-align: right;\">\n",
       "      <th></th>\n",
       "      <th>연료</th>\n",
       "      <th>차대번호</th>\n",
       "    </tr>\n",
       "  </thead>\n",
       "  <tbody>\n",
       "    <tr>\n",
       "      <th>2</th>\n",
       "      <td>경유</td>\n",
       "      <td>1167605</td>\n",
       "    </tr>\n",
       "    <tr>\n",
       "      <th>5</th>\n",
       "      <td>휘발유</td>\n",
       "      <td>334494</td>\n",
       "    </tr>\n",
       "    <tr>\n",
       "      <th>1</th>\n",
       "      <td>LPG(액화석유가스)</td>\n",
       "      <td>26418</td>\n",
       "    </tr>\n",
       "    <tr>\n",
       "      <th>3</th>\n",
       "      <td>기타연료</td>\n",
       "      <td>38</td>\n",
       "    </tr>\n",
       "    <tr>\n",
       "      <th>0</th>\n",
       "      <td>CNG(압축천연가스)</td>\n",
       "      <td>1</td>\n",
       "    </tr>\n",
       "    <tr>\n",
       "      <th>4</th>\n",
       "      <td>알코올</td>\n",
       "      <td>1</td>\n",
       "    </tr>\n",
       "  </tbody>\n",
       "</table>\n",
       "</div>"
      ],
      "text/plain": [
       "            연료     차대번호\n",
       "2           경유  1167605\n",
       "5          휘발유   334494\n",
       "1  LPG(액화석유가스)    26418\n",
       "3         기타연료       38\n",
       "0  CNG(압축천연가스)        1\n",
       "4          알코올        1"
      ]
     },
     "execution_count": 236,
     "metadata": {},
     "output_type": "execute_result"
    }
   ],
   "source": [
    "f = df4.groupby('연료', as_index=False)['차대번호'].count().sort_values('차대번호', ascending=False)\n",
    "f"
   ]
  },
  {
   "cell_type": "code",
   "execution_count": 237,
   "metadata": {},
   "outputs": [
    {
     "data": {
      "text/plain": [
       "Int64Index([   3059, 1486836, 1498416, 1499706, 1501418, 1502065, 1502241,\n",
       "            1502591, 1503075, 1504853, 1506843, 1506983, 1507069, 1507214,\n",
       "            1507417, 1507583, 1507880, 1508213, 1508592, 1508820, 1509438,\n",
       "            1510445, 1511196, 1511799, 1513346, 1514189, 1516533, 1518320,\n",
       "            1519203, 1519358, 1519683, 1520041, 1521843, 1522798, 1522963,\n",
       "            1523260, 1524481, 1528151],\n",
       "           dtype='int64')"
      ]
     },
     "execution_count": 237,
     "metadata": {},
     "output_type": "execute_result"
    }
   ],
   "source": [
    "g = df4.groupby('연료', as_index=False)['차대번호'].groups\n",
    "g['기타연료']"
   ]
  },
  {
   "cell_type": "code",
   "execution_count": 238,
   "metadata": {},
   "outputs": [
    {
     "data": {
      "text/plain": [
       "array(['-', 'MSV3', 'B5', 'H20MR', 'G16SF', 'G4AJ', nan, 'G15CF',\n",
       "       '01821300581'], dtype=object)"
      ]
     },
     "execution_count": 238,
     "metadata": {},
     "output_type": "execute_result"
    }
   ],
   "source": [
    "# B5 : 휘발유\n",
    "# G16SF : 휘발유\n",
    "# H20MR : 휘발유\n",
    "# MSV3 : 휘발유\n",
    "# 01821300581 : \n",
    "# G15CF : 휘발유\n",
    "# G4AJ : 휘발유\n",
    "df4.loc[df4['연료'] == '기타연료', '엔진형식'].unique()"
   ]
  },
  {
   "cell_type": "code",
   "execution_count": 239,
   "metadata": {},
   "outputs": [
    {
     "data": {
      "text/html": [
       "<div>\n",
       "<style scoped>\n",
       "    .dataframe tbody tr th:only-of-type {\n",
       "        vertical-align: middle;\n",
       "    }\n",
       "\n",
       "    .dataframe tbody tr th {\n",
       "        vertical-align: top;\n",
       "    }\n",
       "\n",
       "    .dataframe thead th {\n",
       "        text-align: right;\n",
       "    }\n",
       "</style>\n",
       "<table border=\"1\" class=\"dataframe\">\n",
       "  <thead>\n",
       "    <tr style=\"text-align: right;\">\n",
       "      <th></th>\n",
       "      <th>차명</th>\n",
       "      <th>엔진형식</th>\n",
       "    </tr>\n",
       "  </thead>\n",
       "  <tbody>\n",
       "    <tr>\n",
       "      <th>3059</th>\n",
       "      <td>에어스트림탐지견수송트레일러</td>\n",
       "      <td>-</td>\n",
       "    </tr>\n",
       "    <tr>\n",
       "      <th>1516533</th>\n",
       "      <td>스텔라오토매틱</td>\n",
       "      <td>NaN</td>\n",
       "    </tr>\n",
       "    <tr>\n",
       "      <th>1518320</th>\n",
       "      <td>벤즈 230E</td>\n",
       "      <td>NaN</td>\n",
       "    </tr>\n",
       "    <tr>\n",
       "      <th>1524481</th>\n",
       "      <td>벤즈230E</td>\n",
       "      <td>01821300581</td>\n",
       "    </tr>\n",
       "    <tr>\n",
       "      <th>1528151</th>\n",
       "      <td>도요다크라운로얄싸롱</td>\n",
       "      <td>NaN</td>\n",
       "    </tr>\n",
       "  </tbody>\n",
       "</table>\n",
       "</div>"
      ],
      "text/plain": [
       "                     차명         엔진형식\n",
       "3059     에어스트림탐지견수송트레일러            -\n",
       "1516533         스텔라오토매틱          NaN\n",
       "1518320         벤즈 230E          NaN\n",
       "1524481          벤즈230E  01821300581\n",
       "1528151      도요다크라운로얄싸롱          NaN"
      ]
     },
     "execution_count": 239,
     "metadata": {},
     "output_type": "execute_result"
    }
   ],
   "source": [
    "df4.loc[df4['엔진형식'] == 'B5', '연료'] = '휘발유'\n",
    "df4.loc[df4['엔진형식'] == 'G16SF', '연료'] = '휘발유'\n",
    "df4.loc[df4['엔진형식'] == 'H20MR', '연료'] = '휘발유'\n",
    "df4.loc[df4['엔진형식'] == 'MSV3', '연료'] = '휘발유'\n",
    "df4.loc[df4['엔진형식'] == 'G15CF', '연료'] = '휘발유'\n",
    "df4.loc[df4['엔진형식'] == 'G4AJ', '연료'] = '휘발유'\n",
    "df4[df4['연료'] == '기타연료'][['차명', '엔진형식']]"
   ]
  },
  {
   "cell_type": "code",
   "execution_count": 240,
   "metadata": {},
   "outputs": [
    {
     "data": {
      "text/html": [
       "<div>\n",
       "<style scoped>\n",
       "    .dataframe tbody tr th:only-of-type {\n",
       "        vertical-align: middle;\n",
       "    }\n",
       "\n",
       "    .dataframe tbody tr th {\n",
       "        vertical-align: top;\n",
       "    }\n",
       "\n",
       "    .dataframe thead th {\n",
       "        text-align: right;\n",
       "    }\n",
       "</style>\n",
       "<table border=\"1\" class=\"dataframe\">\n",
       "  <thead>\n",
       "    <tr style=\"text-align: right;\">\n",
       "      <th></th>\n",
       "      <th>차명</th>\n",
       "      <th>엔진형식</th>\n",
       "    </tr>\n",
       "  </thead>\n",
       "  <tbody>\n",
       "    <tr>\n",
       "      <th>3059</th>\n",
       "      <td>에어스트림탐지견수송트레일러</td>\n",
       "      <td>-</td>\n",
       "    </tr>\n",
       "  </tbody>\n",
       "</table>\n",
       "</div>"
      ],
      "text/plain": [
       "                  차명 엔진형식\n",
       "3059  에어스트림탐지견수송트레일러    -"
      ]
     },
     "execution_count": 240,
     "metadata": {},
     "output_type": "execute_result"
    }
   ],
   "source": [
    "df4.loc[df4['차명'] == '도요다크라운로얄싸롱', '연료'] = '휘발유'\n",
    "df4.loc[df4['차명'] == '스텔라오토매틱', '연료'] = '휘발유'\n",
    "df4.loc[df4['차명'] == '벤즈 230E', '연료'] = '휘발유'\n",
    "df4.loc[df4['차명'] == '벤즈230E', '연료'] = '휘발유'\n",
    "df4[df4['연료'] == '기타연료'][['차명', '엔진형식']]"
   ]
  },
  {
   "cell_type": "code",
   "execution_count": 241,
   "metadata": {},
   "outputs": [
    {
     "data": {
      "text/html": [
       "<div>\n",
       "<style scoped>\n",
       "    .dataframe tbody tr th:only-of-type {\n",
       "        vertical-align: middle;\n",
       "    }\n",
       "\n",
       "    .dataframe tbody tr th {\n",
       "        vertical-align: top;\n",
       "    }\n",
       "\n",
       "    .dataframe thead th {\n",
       "        text-align: right;\n",
       "    }\n",
       "</style>\n",
       "<table border=\"1\" class=\"dataframe\">\n",
       "  <thead>\n",
       "    <tr style=\"text-align: right;\">\n",
       "      <th></th>\n",
       "      <th>연료</th>\n",
       "      <th>차대번호</th>\n",
       "    </tr>\n",
       "  </thead>\n",
       "  <tbody>\n",
       "    <tr>\n",
       "      <th>2</th>\n",
       "      <td>경유</td>\n",
       "      <td>1167605</td>\n",
       "    </tr>\n",
       "    <tr>\n",
       "      <th>5</th>\n",
       "      <td>휘발유</td>\n",
       "      <td>334531</td>\n",
       "    </tr>\n",
       "    <tr>\n",
       "      <th>1</th>\n",
       "      <td>LPG(액화석유가스)</td>\n",
       "      <td>26418</td>\n",
       "    </tr>\n",
       "    <tr>\n",
       "      <th>0</th>\n",
       "      <td>CNG(압축천연가스)</td>\n",
       "      <td>1</td>\n",
       "    </tr>\n",
       "    <tr>\n",
       "      <th>3</th>\n",
       "      <td>기타연료</td>\n",
       "      <td>1</td>\n",
       "    </tr>\n",
       "    <tr>\n",
       "      <th>4</th>\n",
       "      <td>알코올</td>\n",
       "      <td>1</td>\n",
       "    </tr>\n",
       "  </tbody>\n",
       "</table>\n",
       "</div>"
      ],
      "text/plain": [
       "            연료     차대번호\n",
       "2           경유  1167605\n",
       "5          휘발유   334531\n",
       "1  LPG(액화석유가스)    26418\n",
       "0  CNG(압축천연가스)        1\n",
       "3         기타연료        1\n",
       "4          알코올        1"
      ]
     },
     "execution_count": 241,
     "metadata": {},
     "output_type": "execute_result"
    }
   ],
   "source": [
    "f = df4.groupby('연료', as_index=False)['차대번호'].count().sort_values('차대번호', ascending=False)\n",
    "f"
   ]
  },
  {
   "cell_type": "code",
   "execution_count": 242,
   "metadata": {},
   "outputs": [
    {
     "data": {
      "text/html": [
       "<div>\n",
       "<style scoped>\n",
       "    .dataframe tbody tr th:only-of-type {\n",
       "        vertical-align: middle;\n",
       "    }\n",
       "\n",
       "    .dataframe tbody tr th {\n",
       "        vertical-align: top;\n",
       "    }\n",
       "\n",
       "    .dataframe thead th {\n",
       "        text-align: right;\n",
       "    }\n",
       "</style>\n",
       "<table border=\"1\" class=\"dataframe\">\n",
       "  <thead>\n",
       "    <tr style=\"text-align: right;\">\n",
       "      <th></th>\n",
       "      <th>연료</th>\n",
       "      <th>4등급</th>\n",
       "    </tr>\n",
       "  </thead>\n",
       "  <tbody>\n",
       "    <tr>\n",
       "      <th>2</th>\n",
       "      <td>경유</td>\n",
       "      <td>1167605</td>\n",
       "    </tr>\n",
       "    <tr>\n",
       "      <th>5</th>\n",
       "      <td>휘발유</td>\n",
       "      <td>334531</td>\n",
       "    </tr>\n",
       "    <tr>\n",
       "      <th>1</th>\n",
       "      <td>LPG(액화석유가스)</td>\n",
       "      <td>26418</td>\n",
       "    </tr>\n",
       "    <tr>\n",
       "      <th>0</th>\n",
       "      <td>CNG(압축천연가스)</td>\n",
       "      <td>1</td>\n",
       "    </tr>\n",
       "    <tr>\n",
       "      <th>3</th>\n",
       "      <td>기타연료</td>\n",
       "      <td>1</td>\n",
       "    </tr>\n",
       "    <tr>\n",
       "      <th>4</th>\n",
       "      <td>알코올</td>\n",
       "      <td>1</td>\n",
       "    </tr>\n",
       "  </tbody>\n",
       "</table>\n",
       "</div>"
      ],
      "text/plain": [
       "            연료      4등급\n",
       "2           경유  1167605\n",
       "5          휘발유   334531\n",
       "1  LPG(액화석유가스)    26418\n",
       "0  CNG(압축천연가스)        1\n",
       "3         기타연료        1\n",
       "4          알코올        1"
      ]
     },
     "execution_count": 242,
     "metadata": {},
     "output_type": "execute_result"
    }
   ],
   "source": [
    "f.columns = ['연료', '4등급']\n",
    "f"
   ]
  },
  {
   "cell_type": "markdown",
   "metadata": {},
   "source": [
    "## [excel] 연료별 통계"
   ]
  },
  {
   "cell_type": "code",
   "execution_count": 38,
   "metadata": {},
   "outputs": [],
   "source": [
    "f.to_excel('analysis/[G4]연료별_차대번호_통계.xlsx', index=False, encoding='utf-8')"
   ]
  },
  {
   "attachments": {},
   "cell_type": "markdown",
   "metadata": {},
   "source": [
    "## 지역별 수량 통계"
   ]
  },
  {
   "cell_type": "markdown",
   "metadata": {},
   "source": [
    "## [로드] 법정동코드"
   ]
  },
  {
   "cell_type": "code",
   "execution_count": 243,
   "metadata": {},
   "outputs": [
    {
     "name": "stdout",
     "output_type": "stream",
     "text": [
      "<class 'pandas.core.frame.DataFrame'>\n",
      "RangeIndex: 46340 entries, 0 to 46339\n",
      "Data columns (total 9 columns):\n",
      " #   Column    Non-Null Count  Dtype  \n",
      "---  ------    --------------  -----  \n",
      " 0   법정동코드     46340 non-null  int64  \n",
      " 1   시도        46340 non-null  object \n",
      " 2   시구군       46317 non-null  object \n",
      " 3   읍면동       45847 non-null  object \n",
      " 4   리         33682 non-null  object \n",
      " 5   지역3       0 non-null      float64\n",
      " 6   폐지여부      46340 non-null  object \n",
      " 7   대기관리권역    46340 non-null  object \n",
      " 8   대기관리권역YN  46334 non-null  object \n",
      "dtypes: float64(1), int64(1), object(7)\n",
      "memory usage: 3.2+ MB\n"
     ]
    }
   ],
   "source": [
    "code = pd.read_excel('data/법정동코드_2022.10.14.xlsx')\n",
    "code.info()"
   ]
  },
  {
   "cell_type": "code",
   "execution_count": 252,
   "metadata": {},
   "outputs": [
    {
     "data": {
      "text/html": [
       "<div>\n",
       "<style scoped>\n",
       "    .dataframe tbody tr th:only-of-type {\n",
       "        vertical-align: middle;\n",
       "    }\n",
       "\n",
       "    .dataframe tbody tr th {\n",
       "        vertical-align: top;\n",
       "    }\n",
       "\n",
       "    .dataframe thead th {\n",
       "        text-align: right;\n",
       "    }\n",
       "</style>\n",
       "<table border=\"1\" class=\"dataframe\">\n",
       "  <thead>\n",
       "    <tr style=\"text-align: right;\">\n",
       "      <th></th>\n",
       "      <th>법정동코드</th>\n",
       "      <th>시도</th>\n",
       "      <th>시구군</th>\n",
       "      <th>읍면동</th>\n",
       "      <th>리</th>\n",
       "      <th>지역3</th>\n",
       "      <th>폐지여부</th>\n",
       "      <th>대기관리권역</th>\n",
       "      <th>대기관리권역YN</th>\n",
       "    </tr>\n",
       "  </thead>\n",
       "  <tbody>\n",
       "    <tr>\n",
       "      <th>0</th>\n",
       "      <td>1100000000</td>\n",
       "      <td>서울</td>\n",
       "      <td>NaN</td>\n",
       "      <td>NaN</td>\n",
       "      <td>NaN</td>\n",
       "      <td>NaN</td>\n",
       "      <td>존재</td>\n",
       "      <td>수도권</td>\n",
       "      <td>Y</td>\n",
       "    </tr>\n",
       "    <tr>\n",
       "      <th>1</th>\n",
       "      <td>1111000000</td>\n",
       "      <td>서울</td>\n",
       "      <td>종로구</td>\n",
       "      <td>NaN</td>\n",
       "      <td>NaN</td>\n",
       "      <td>NaN</td>\n",
       "      <td>존재</td>\n",
       "      <td>수도권</td>\n",
       "      <td>Y</td>\n",
       "    </tr>\n",
       "    <tr>\n",
       "      <th>2</th>\n",
       "      <td>1111010100</td>\n",
       "      <td>서울</td>\n",
       "      <td>종로구</td>\n",
       "      <td>청운동</td>\n",
       "      <td>NaN</td>\n",
       "      <td>NaN</td>\n",
       "      <td>존재</td>\n",
       "      <td>수도권</td>\n",
       "      <td>Y</td>\n",
       "    </tr>\n",
       "    <tr>\n",
       "      <th>3</th>\n",
       "      <td>1111010200</td>\n",
       "      <td>서울</td>\n",
       "      <td>종로구</td>\n",
       "      <td>신교동</td>\n",
       "      <td>NaN</td>\n",
       "      <td>NaN</td>\n",
       "      <td>존재</td>\n",
       "      <td>수도권</td>\n",
       "      <td>Y</td>\n",
       "    </tr>\n",
       "    <tr>\n",
       "      <th>4</th>\n",
       "      <td>1111010300</td>\n",
       "      <td>서울</td>\n",
       "      <td>종로구</td>\n",
       "      <td>궁정동</td>\n",
       "      <td>NaN</td>\n",
       "      <td>NaN</td>\n",
       "      <td>존재</td>\n",
       "      <td>수도권</td>\n",
       "      <td>Y</td>\n",
       "    </tr>\n",
       "  </tbody>\n",
       "</table>\n",
       "</div>"
      ],
      "text/plain": [
       "        법정동코드  시도  시구군  읍면동    리  지역3 폐지여부 대기관리권역 대기관리권역YN\n",
       "0  1100000000  서울  NaN  NaN  NaN  NaN   존재    수도권        Y\n",
       "1  1111000000  서울  종로구  NaN  NaN  NaN   존재    수도권        Y\n",
       "2  1111010100  서울  종로구  청운동  NaN  NaN   존재    수도권        Y\n",
       "3  1111010200  서울  종로구  신교동  NaN  NaN   존재    수도권        Y\n",
       "4  1111010300  서울  종로구  궁정동  NaN  NaN   존재    수도권        Y"
      ]
     },
     "execution_count": 252,
     "metadata": {},
     "output_type": "execute_result"
    }
   ],
   "source": [
    "code.head()"
   ]
  },
  {
   "cell_type": "code",
   "execution_count": 41,
   "metadata": {},
   "outputs": [],
   "source": [
    "code['code1'] = code['법정동코드'].astype('str').str[:5]"
   ]
  },
  {
   "cell_type": "code",
   "execution_count": 42,
   "metadata": {},
   "outputs": [
    {
     "data": {
      "text/html": [
       "<div>\n",
       "<style scoped>\n",
       "    .dataframe tbody tr th:only-of-type {\n",
       "        vertical-align: middle;\n",
       "    }\n",
       "\n",
       "    .dataframe tbody tr th {\n",
       "        vertical-align: top;\n",
       "    }\n",
       "\n",
       "    .dataframe thead th {\n",
       "        text-align: right;\n",
       "    }\n",
       "</style>\n",
       "<table border=\"1\" class=\"dataframe\">\n",
       "  <thead>\n",
       "    <tr style=\"text-align: right;\">\n",
       "      <th></th>\n",
       "      <th>법정동코드</th>\n",
       "      <th>시도</th>\n",
       "      <th>시구군</th>\n",
       "      <th>읍면동</th>\n",
       "      <th>리</th>\n",
       "      <th>지역3</th>\n",
       "      <th>폐지여부</th>\n",
       "      <th>대기관리권역</th>\n",
       "      <th>대기관리권역YN</th>\n",
       "      <th>code1</th>\n",
       "    </tr>\n",
       "  </thead>\n",
       "  <tbody>\n",
       "    <tr>\n",
       "      <th>0</th>\n",
       "      <td>1100000000</td>\n",
       "      <td>서울</td>\n",
       "      <td>NaN</td>\n",
       "      <td>NaN</td>\n",
       "      <td>NaN</td>\n",
       "      <td>NaN</td>\n",
       "      <td>존재</td>\n",
       "      <td>수도권</td>\n",
       "      <td>Y</td>\n",
       "      <td>11000</td>\n",
       "    </tr>\n",
       "    <tr>\n",
       "      <th>1</th>\n",
       "      <td>1111000000</td>\n",
       "      <td>서울</td>\n",
       "      <td>종로구</td>\n",
       "      <td>NaN</td>\n",
       "      <td>NaN</td>\n",
       "      <td>NaN</td>\n",
       "      <td>존재</td>\n",
       "      <td>수도권</td>\n",
       "      <td>Y</td>\n",
       "      <td>11110</td>\n",
       "    </tr>\n",
       "    <tr>\n",
       "      <th>2</th>\n",
       "      <td>1111010100</td>\n",
       "      <td>서울</td>\n",
       "      <td>종로구</td>\n",
       "      <td>청운동</td>\n",
       "      <td>NaN</td>\n",
       "      <td>NaN</td>\n",
       "      <td>존재</td>\n",
       "      <td>수도권</td>\n",
       "      <td>Y</td>\n",
       "      <td>11110</td>\n",
       "    </tr>\n",
       "    <tr>\n",
       "      <th>3</th>\n",
       "      <td>1111010200</td>\n",
       "      <td>서울</td>\n",
       "      <td>종로구</td>\n",
       "      <td>신교동</td>\n",
       "      <td>NaN</td>\n",
       "      <td>NaN</td>\n",
       "      <td>존재</td>\n",
       "      <td>수도권</td>\n",
       "      <td>Y</td>\n",
       "      <td>11110</td>\n",
       "    </tr>\n",
       "    <tr>\n",
       "      <th>4</th>\n",
       "      <td>1111010300</td>\n",
       "      <td>서울</td>\n",
       "      <td>종로구</td>\n",
       "      <td>궁정동</td>\n",
       "      <td>NaN</td>\n",
       "      <td>NaN</td>\n",
       "      <td>존재</td>\n",
       "      <td>수도권</td>\n",
       "      <td>Y</td>\n",
       "      <td>11110</td>\n",
       "    </tr>\n",
       "  </tbody>\n",
       "</table>\n",
       "</div>"
      ],
      "text/plain": [
       "        법정동코드  시도  시구군  읍면동    리  지역3 폐지여부 대기관리권역 대기관리권역YN  code1\n",
       "0  1100000000  서울  NaN  NaN  NaN  NaN   존재    수도권        Y  11000\n",
       "1  1111000000  서울  종로구  NaN  NaN  NaN   존재    수도권        Y  11110\n",
       "2  1111010100  서울  종로구  청운동  NaN  NaN   존재    수도권        Y  11110\n",
       "3  1111010200  서울  종로구  신교동  NaN  NaN   존재    수도권        Y  11110\n",
       "4  1111010300  서울  종로구  궁정동  NaN  NaN   존재    수도권        Y  11110"
      ]
     },
     "execution_count": 42,
     "metadata": {},
     "output_type": "execute_result"
    }
   ],
   "source": [
    "code.head()"
   ]
  },
  {
   "cell_type": "code",
   "execution_count": 43,
   "metadata": {},
   "outputs": [
    {
     "data": {
      "text/plain": [
       "(46340, 10)"
      ]
     },
     "execution_count": 43,
     "metadata": {},
     "output_type": "execute_result"
    }
   ],
   "source": [
    "code.shape"
   ]
  },
  {
   "cell_type": "code",
   "execution_count": 44,
   "metadata": {},
   "outputs": [
    {
     "data": {
      "text/plain": [
       "(461, 10)"
      ]
     },
     "execution_count": 44,
     "metadata": {},
     "output_type": "execute_result"
    }
   ],
   "source": [
    "code2 = code.drop_duplicates(['시도', 'code1'], keep='first').reset_index(drop=True)\n",
    "code2.shape"
   ]
  },
  {
   "cell_type": "code",
   "execution_count": 45,
   "metadata": {},
   "outputs": [
    {
     "data": {
      "text/html": [
       "<div>\n",
       "<style scoped>\n",
       "    .dataframe tbody tr th:only-of-type {\n",
       "        vertical-align: middle;\n",
       "    }\n",
       "\n",
       "    .dataframe tbody tr th {\n",
       "        vertical-align: top;\n",
       "    }\n",
       "\n",
       "    .dataframe thead th {\n",
       "        text-align: right;\n",
       "    }\n",
       "</style>\n",
       "<table border=\"1\" class=\"dataframe\">\n",
       "  <thead>\n",
       "    <tr style=\"text-align: right;\">\n",
       "      <th></th>\n",
       "      <th>법정동코드</th>\n",
       "      <th>시도</th>\n",
       "      <th>시구군</th>\n",
       "      <th>읍면동</th>\n",
       "      <th>리</th>\n",
       "      <th>지역3</th>\n",
       "      <th>폐지여부</th>\n",
       "      <th>대기관리권역</th>\n",
       "      <th>대기관리권역YN</th>\n",
       "      <th>code1</th>\n",
       "    </tr>\n",
       "  </thead>\n",
       "  <tbody>\n",
       "    <tr>\n",
       "      <th>0</th>\n",
       "      <td>1100000000</td>\n",
       "      <td>서울</td>\n",
       "      <td>NaN</td>\n",
       "      <td>NaN</td>\n",
       "      <td>NaN</td>\n",
       "      <td>NaN</td>\n",
       "      <td>존재</td>\n",
       "      <td>수도권</td>\n",
       "      <td>Y</td>\n",
       "      <td>11000</td>\n",
       "    </tr>\n",
       "    <tr>\n",
       "      <th>1</th>\n",
       "      <td>1111000000</td>\n",
       "      <td>서울</td>\n",
       "      <td>종로구</td>\n",
       "      <td>NaN</td>\n",
       "      <td>NaN</td>\n",
       "      <td>NaN</td>\n",
       "      <td>존재</td>\n",
       "      <td>수도권</td>\n",
       "      <td>Y</td>\n",
       "      <td>11110</td>\n",
       "    </tr>\n",
       "    <tr>\n",
       "      <th>2</th>\n",
       "      <td>1114000000</td>\n",
       "      <td>서울</td>\n",
       "      <td>중구</td>\n",
       "      <td>NaN</td>\n",
       "      <td>NaN</td>\n",
       "      <td>NaN</td>\n",
       "      <td>존재</td>\n",
       "      <td>수도권</td>\n",
       "      <td>Y</td>\n",
       "      <td>11140</td>\n",
       "    </tr>\n",
       "    <tr>\n",
       "      <th>3</th>\n",
       "      <td>1117000000</td>\n",
       "      <td>서울</td>\n",
       "      <td>용산구</td>\n",
       "      <td>NaN</td>\n",
       "      <td>NaN</td>\n",
       "      <td>NaN</td>\n",
       "      <td>존재</td>\n",
       "      <td>수도권</td>\n",
       "      <td>Y</td>\n",
       "      <td>11170</td>\n",
       "    </tr>\n",
       "    <tr>\n",
       "      <th>4</th>\n",
       "      <td>1120000000</td>\n",
       "      <td>서울</td>\n",
       "      <td>성동구</td>\n",
       "      <td>NaN</td>\n",
       "      <td>NaN</td>\n",
       "      <td>NaN</td>\n",
       "      <td>존재</td>\n",
       "      <td>수도권</td>\n",
       "      <td>Y</td>\n",
       "      <td>11200</td>\n",
       "    </tr>\n",
       "  </tbody>\n",
       "</table>\n",
       "</div>"
      ],
      "text/plain": [
       "        법정동코드  시도  시구군  읍면동    리  지역3 폐지여부 대기관리권역 대기관리권역YN  code1\n",
       "0  1100000000  서울  NaN  NaN  NaN  NaN   존재    수도권        Y  11000\n",
       "1  1111000000  서울  종로구  NaN  NaN  NaN   존재    수도권        Y  11110\n",
       "2  1114000000  서울   중구  NaN  NaN  NaN   존재    수도권        Y  11140\n",
       "3  1117000000  서울  용산구  NaN  NaN  NaN   존재    수도권        Y  11170\n",
       "4  1120000000  서울  성동구  NaN  NaN  NaN   존재    수도권        Y  11200"
      ]
     },
     "execution_count": 45,
     "metadata": {},
     "output_type": "execute_result"
    }
   ],
   "source": [
    "code2.head()"
   ]
  },
  {
   "cell_type": "code",
   "execution_count": 46,
   "metadata": {},
   "outputs": [
    {
     "data": {
      "text/html": [
       "<div>\n",
       "<style scoped>\n",
       "    .dataframe tbody tr th:only-of-type {\n",
       "        vertical-align: middle;\n",
       "    }\n",
       "\n",
       "    .dataframe tbody tr th {\n",
       "        vertical-align: top;\n",
       "    }\n",
       "\n",
       "    .dataframe thead th {\n",
       "        text-align: right;\n",
       "    }\n",
       "</style>\n",
       "<table border=\"1\" class=\"dataframe\">\n",
       "  <thead>\n",
       "    <tr style=\"text-align: right;\">\n",
       "      <th></th>\n",
       "      <th>법정동코드</th>\n",
       "      <th>시도</th>\n",
       "      <th>시구군</th>\n",
       "      <th>읍면동</th>\n",
       "      <th>리</th>\n",
       "      <th>지역3</th>\n",
       "      <th>폐지여부</th>\n",
       "      <th>대기관리권역</th>\n",
       "      <th>대기관리권역YN</th>\n",
       "      <th>code1</th>\n",
       "    </tr>\n",
       "  </thead>\n",
       "  <tbody>\n",
       "    <tr>\n",
       "      <th>122</th>\n",
       "      <td>3611000000</td>\n",
       "      <td>세종</td>\n",
       "      <td>NaN</td>\n",
       "      <td>NaN</td>\n",
       "      <td>NaN</td>\n",
       "      <td>NaN</td>\n",
       "      <td>존재</td>\n",
       "      <td>중부권</td>\n",
       "      <td>Y</td>\n",
       "      <td>36110</td>\n",
       "    </tr>\n",
       "  </tbody>\n",
       "</table>\n",
       "</div>"
      ],
      "text/plain": [
       "          법정동코드  시도  시구군  읍면동    리  지역3 폐지여부 대기관리권역 대기관리권역YN  code1\n",
       "122  3611000000  세종  NaN  NaN  NaN  NaN   존재    중부권        Y  36110"
      ]
     },
     "execution_count": 46,
     "metadata": {},
     "output_type": "execute_result"
    }
   ],
   "source": [
    "code2[code2['시도'] == '세종']"
   ]
  },
  {
   "cell_type": "code",
   "execution_count": 47,
   "metadata": {},
   "outputs": [
    {
     "data": {
      "text/plain": [
       "dtype('O')"
      ]
     },
     "execution_count": 47,
     "metadata": {},
     "output_type": "execute_result"
    }
   ],
   "source": [
    "code2['code1'].dtype"
   ]
  },
  {
   "cell_type": "code",
   "execution_count": 48,
   "metadata": {},
   "outputs": [],
   "source": [
    "code2 = code2[['시도', '시구군', '폐지여부', '대기관리권역', '대기관리권역YN', 'code1']]"
   ]
  },
  {
   "cell_type": "code",
   "execution_count": 49,
   "metadata": {},
   "outputs": [
    {
     "data": {
      "text/html": [
       "<div>\n",
       "<style scoped>\n",
       "    .dataframe tbody tr th:only-of-type {\n",
       "        vertical-align: middle;\n",
       "    }\n",
       "\n",
       "    .dataframe tbody tr th {\n",
       "        vertical-align: top;\n",
       "    }\n",
       "\n",
       "    .dataframe thead th {\n",
       "        text-align: right;\n",
       "    }\n",
       "</style>\n",
       "<table border=\"1\" class=\"dataframe\">\n",
       "  <thead>\n",
       "    <tr style=\"text-align: right;\">\n",
       "      <th></th>\n",
       "      <th>시도</th>\n",
       "      <th>시구군</th>\n",
       "      <th>폐지여부</th>\n",
       "      <th>대기관리권역</th>\n",
       "      <th>대기관리권역YN</th>\n",
       "      <th>code1</th>\n",
       "    </tr>\n",
       "  </thead>\n",
       "  <tbody>\n",
       "    <tr>\n",
       "      <th>0</th>\n",
       "      <td>서울</td>\n",
       "      <td>NaN</td>\n",
       "      <td>존재</td>\n",
       "      <td>수도권</td>\n",
       "      <td>Y</td>\n",
       "      <td>11000</td>\n",
       "    </tr>\n",
       "    <tr>\n",
       "      <th>1</th>\n",
       "      <td>서울</td>\n",
       "      <td>종로구</td>\n",
       "      <td>존재</td>\n",
       "      <td>수도권</td>\n",
       "      <td>Y</td>\n",
       "      <td>11110</td>\n",
       "    </tr>\n",
       "    <tr>\n",
       "      <th>2</th>\n",
       "      <td>서울</td>\n",
       "      <td>중구</td>\n",
       "      <td>존재</td>\n",
       "      <td>수도권</td>\n",
       "      <td>Y</td>\n",
       "      <td>11140</td>\n",
       "    </tr>\n",
       "    <tr>\n",
       "      <th>3</th>\n",
       "      <td>서울</td>\n",
       "      <td>용산구</td>\n",
       "      <td>존재</td>\n",
       "      <td>수도권</td>\n",
       "      <td>Y</td>\n",
       "      <td>11170</td>\n",
       "    </tr>\n",
       "    <tr>\n",
       "      <th>4</th>\n",
       "      <td>서울</td>\n",
       "      <td>성동구</td>\n",
       "      <td>존재</td>\n",
       "      <td>수도권</td>\n",
       "      <td>Y</td>\n",
       "      <td>11200</td>\n",
       "    </tr>\n",
       "  </tbody>\n",
       "</table>\n",
       "</div>"
      ],
      "text/plain": [
       "   시도  시구군 폐지여부 대기관리권역 대기관리권역YN  code1\n",
       "0  서울  NaN   존재    수도권        Y  11000\n",
       "1  서울  종로구   존재    수도권        Y  11110\n",
       "2  서울   중구   존재    수도권        Y  11140\n",
       "3  서울  용산구   존재    수도권        Y  11170\n",
       "4  서울  성동구   존재    수도권        Y  11200"
      ]
     },
     "execution_count": 49,
     "metadata": {},
     "output_type": "execute_result"
    }
   ],
   "source": [
    "code2.head()"
   ]
  },
  {
   "attachments": {},
   "cell_type": "markdown",
   "metadata": {},
   "source": [
    "### 법정동 코드 추가"
   ]
  },
  {
   "cell_type": "code",
   "execution_count": 50,
   "metadata": {},
   "outputs": [
    {
     "data": {
      "text/plain": [
       "0    4824034000\n",
       "1    4482533000\n",
       "2    2826011000\n",
       "3    4476032000\n",
       "4    4423038028\n",
       "Name: 본거지법정동코드, dtype: int64"
      ]
     },
     "execution_count": 50,
     "metadata": {},
     "output_type": "execute_result"
    }
   ],
   "source": [
    "df4['본거지법정동코드'].head()"
   ]
  },
  {
   "cell_type": "code",
   "execution_count": 51,
   "metadata": {},
   "outputs": [
    {
     "data": {
      "text/plain": [
       "0"
      ]
     },
     "execution_count": 51,
     "metadata": {},
     "output_type": "execute_result"
    }
   ],
   "source": [
    "df4['본거지법정동코드'].isnull().sum()"
   ]
  },
  {
   "cell_type": "code",
   "execution_count": 52,
   "metadata": {},
   "outputs": [
    {
     "data": {
      "text/plain": [
       "0    48240\n",
       "1    44825\n",
       "2    28260\n",
       "3    44760\n",
       "4    44230\n",
       "Name: code1, dtype: object"
      ]
     },
     "execution_count": 52,
     "metadata": {},
     "output_type": "execute_result"
    }
   ],
   "source": [
    "df4['code1'] = df4['본거지법정동코드'].astype('str').str[:5]\n",
    "df4['code1'].head()"
   ]
  },
  {
   "cell_type": "code",
   "execution_count": 53,
   "metadata": {},
   "outputs": [
    {
     "data": {
      "text/html": [
       "<div>\n",
       "<style scoped>\n",
       "    .dataframe tbody tr th:only-of-type {\n",
       "        vertical-align: middle;\n",
       "    }\n",
       "\n",
       "    .dataframe tbody tr th {\n",
       "        vertical-align: top;\n",
       "    }\n",
       "\n",
       "    .dataframe thead th {\n",
       "        text-align: right;\n",
       "    }\n",
       "</style>\n",
       "<table border=\"1\" class=\"dataframe\">\n",
       "  <thead>\n",
       "    <tr style=\"text-align: right;\">\n",
       "      <th></th>\n",
       "      <th>code1</th>\n",
       "      <th>시도</th>\n",
       "      <th>시구군</th>\n",
       "      <th>폐지여부</th>\n",
       "      <th>대기관리권역</th>\n",
       "      <th>대기관리권역YN</th>\n",
       "    </tr>\n",
       "  </thead>\n",
       "  <tbody>\n",
       "    <tr>\n",
       "      <th>0</th>\n",
       "      <td>48240</td>\n",
       "      <td>경남</td>\n",
       "      <td>사천시</td>\n",
       "      <td>존재</td>\n",
       "      <td>동남권</td>\n",
       "      <td>N</td>\n",
       "    </tr>\n",
       "    <tr>\n",
       "      <th>1</th>\n",
       "      <td>44825</td>\n",
       "      <td>충남</td>\n",
       "      <td>태안군</td>\n",
       "      <td>존재</td>\n",
       "      <td>중부권</td>\n",
       "      <td>Y</td>\n",
       "    </tr>\n",
       "    <tr>\n",
       "      <th>2</th>\n",
       "      <td>28260</td>\n",
       "      <td>인천</td>\n",
       "      <td>서구</td>\n",
       "      <td>존재</td>\n",
       "      <td>수도권</td>\n",
       "      <td>Y</td>\n",
       "    </tr>\n",
       "    <tr>\n",
       "      <th>3</th>\n",
       "      <td>44760</td>\n",
       "      <td>충남</td>\n",
       "      <td>부여군</td>\n",
       "      <td>존재</td>\n",
       "      <td>중부권</td>\n",
       "      <td>Y</td>\n",
       "    </tr>\n",
       "    <tr>\n",
       "      <th>4</th>\n",
       "      <td>44230</td>\n",
       "      <td>충남</td>\n",
       "      <td>논산시</td>\n",
       "      <td>존재</td>\n",
       "      <td>중부권</td>\n",
       "      <td>Y</td>\n",
       "    </tr>\n",
       "  </tbody>\n",
       "</table>\n",
       "</div>"
      ],
      "text/plain": [
       "   code1  시도  시구군 폐지여부 대기관리권역 대기관리권역YN\n",
       "0  48240  경남  사천시   존재    동남권        N\n",
       "1  44825  충남  태안군   존재    중부권        Y\n",
       "2  28260  인천   서구   존재    수도권        Y\n",
       "3  44760  충남  부여군   존재    중부권        Y\n",
       "4  44230  충남  논산시   존재    중부권        Y"
      ]
     },
     "execution_count": 53,
     "metadata": {},
     "output_type": "execute_result"
    }
   ],
   "source": [
    "df5 = df4.merge(code2, on='code1', how='left')\n",
    "df5[['code1', '시도', '시구군', '폐지여부', '대기관리권역', '대기관리권역YN']].head()"
   ]
  },
  {
   "cell_type": "code",
   "execution_count": 54,
   "metadata": {},
   "outputs": [
    {
     "data": {
      "text/plain": [
       "(1528557, 46)"
      ]
     },
     "execution_count": 54,
     "metadata": {},
     "output_type": "execute_result"
    }
   ],
   "source": [
    "df5.shape"
   ]
  },
  {
   "cell_type": "code",
   "execution_count": 55,
   "metadata": {},
   "outputs": [
    {
     "data": {
      "text/plain": [
       "0"
      ]
     },
     "execution_count": 55,
     "metadata": {},
     "output_type": "execute_result"
    }
   ],
   "source": [
    "df5['시도'].isnull().sum()"
   ]
  },
  {
   "cell_type": "code",
   "execution_count": 56,
   "metadata": {},
   "outputs": [
    {
     "data": {
      "text/plain": [
       "array(['경남', '충남', '인천', '전북', '울산', '경북', '대전', '부산', '광주', '강원', '경기',\n",
       "       '전남', '충북', '대구', '서울', '제주', '세종'], dtype=object)"
      ]
     },
     "execution_count": 56,
     "metadata": {},
     "output_type": "execute_result"
    }
   ],
   "source": [
    "df5['시도'].unique()"
   ]
  },
  {
   "cell_type": "code",
   "execution_count": 57,
   "metadata": {},
   "outputs": [
    {
     "data": {
      "text/plain": [
       "8193"
      ]
     },
     "execution_count": 57,
     "metadata": {},
     "output_type": "execute_result"
    }
   ],
   "source": [
    "df5['시구군'].isnull().sum()"
   ]
  },
  {
   "cell_type": "code",
   "execution_count": 58,
   "metadata": {},
   "outputs": [
    {
     "data": {
      "text/plain": [
       "array(['사천시', '태안군', '서구', '부여군', '논산시', '김제시', '완주군', '울주군', '구미시',\n",
       "       '고성군', '거제시', '울진군', '대덕구', '중구', '원주시', '성남시 중원구', '목포시', '완도군',\n",
       "       '남양주시', '청주시 흥덕구', '춘천시', '단양군', '동구', '김천시', '전주시 덕진구', '함안군',\n",
       "       '영주시', '안성시', '남구', '칠곡군', '사하구', '김포시', '서산시', '달서구', '군산시',\n",
       "       '종로구', '성남시 수정구', '청주시 상당구', '인제군', '장성군', '광산구', '청도군', '경산시',\n",
       "       '여수시', '천안시 서북구', '고양시 일산동구', '아산시', '동대문구', '창원시 의창구', '부천시',\n",
       "       '홍성군', '구리시', '포천시', '철원군', '음성군', '창원시 진해구', '부평구', '양산시', '북구',\n",
       "       '보은군', '여주시', '용인시 기흥구', '평택시', '광양시', '서천군', '서초구', '당진시', '은평구',\n",
       "       '천안시 동남구', '고흥군', '달성군', '충주시', '양주시', '수원시 장안구', '파주시', '예산군',\n",
       "       '강릉시', '강화군', '성동구', '노원구', '안산시 상록구', '성북구', '영등포구', '구로구', '고령군',\n",
       "       '영동군', '제천시', '강남구', '강동구', '미추홀구', '광진구', '시흥시', '영암군', '연제구',\n",
       "       '창녕군', '해운대구', '광주시', '영천시', '진주시', '제주시', '공주시', '마포구', '사상구',\n",
       "       '용인시 처인구', '서대문구', '경주시', '화순군', '횡성군', '포항시 남구', '유성구', '나주시',\n",
       "       '금정구', '청주시 청원구', '연수구', '수성구', '산청군', '광명시', '용산구', '밀양시', '양양군',\n",
       "       '순천시', '보령시', '성주군', '강서구', '부산진구', '연천군', '창원시 성산구', '고양시 덕양구',\n",
       "       nan, '의왕시', '양천구', '의성군', '안양시 만안구', '문경시', '의령군', '거창군', '수영구',\n",
       "       '군포시', '수원시 권선구', '영도구', '함평군', '부안군', '오산시', '전주시 완산구', '담양군',\n",
       "       '화성시', '수원시 팔달구', '안동시', '하동군', '상주시', '창원시 마산회원구', '남동구',\n",
       "       '성남시 분당구', '익산시', '안산시 단원구', '함양군', '곡성군', '강북구', '이천시', '계양구',\n",
       "       '포항시 북구', '구례군', '김해시', '송파구', '중랑구', '청양군', '안양시 동안구', '수원시 영통구',\n",
       "       '동작구', '강진군', '과천시', '옥천군', '영월군', '창원시 마산합포구', '장수군', '의정부시',\n",
       "       '기장군', '동해시', '증평군', '용인시 수지구', '청주시 서원구', '동래구', '관악구', '정읍시',\n",
       "       '군위군', '무주군', '신안군', '보성군', '무안군', '괴산군', '장흥군', '하남시', '합천군',\n",
       "       '도봉구', '영광군', '동두천시', '양평군', '서귀포시', '통영시', '정선군', '진천군', '홍천군',\n",
       "       '가평군', '고양시 일산서구', '예천군', '금천구', '남해군', '해남군', '순창군', '남원시', '임실군',\n",
       "       '울릉군', '삼척시', '청송군', '평창군', '속초시', '영덕군', '옹진군', '양구군', '고창군',\n",
       "       '계룡시', '진도군', '영양군', '봉화군', '금산군', '태백시', '진안군', '화천군', '여주군',\n",
       "       '부천시 오정구', '청원군', '부천시 원미구', '부천시 소사구'], dtype=object)"
      ]
     },
     "execution_count": 58,
     "metadata": {},
     "output_type": "execute_result"
    }
   ],
   "source": [
    "df5['시구군'].unique()"
   ]
  },
  {
   "cell_type": "code",
   "execution_count": 59,
   "metadata": {},
   "outputs": [
    {
     "data": {
      "text/plain": [
       "Index(['차량관리번호', '차량등록번호', '본거지법정동코드', '소유자구분', '차종_등록정보', '용도', '차대번호',\n",
       "       '최초등록일자', '차량연식', '차량제작일자', '검사유효일', '제원관리번호', '배출가스인증번호', '배출가스등급',\n",
       "       '저공해조치종류', '저공해조치구조변경YN', '취득일자', '취득금액', '차명', '차종_제원정보', '차종분류',\n",
       "       '차종유형', '자동차형식', '제작사명', '연료', '엔진형식', '총중량', '적재중량', '엔진출력', '배기량',\n",
       "       '승차인원', '차량길이', '차량너비', '차량높이', '원산지명', '삭제YN', '제원승인일자', '구동형식',\n",
       "       '변속기종류', '차량말소YN', 'code1', '시도', '시구군', '폐지여부', '대기관리권역', '대기관리권역YN'],\n",
       "      dtype='object')"
      ]
     },
     "execution_count": 59,
     "metadata": {},
     "output_type": "execute_result"
    }
   ],
   "source": [
    "df5.columns"
   ]
  },
  {
   "cell_type": "code",
   "execution_count": 60,
   "metadata": {},
   "outputs": [
    {
     "data": {
      "text/plain": [
       "시도  대기관리권역YN  연료         \n",
       "강원  N         LPG(액화석유가스)      806\n",
       "              경유             47557\n",
       "              휘발유             8645\n",
       "경기  N         LPG(액화석유가스)      119\n",
       "              경유              8029\n",
       "                             ...  \n",
       "충북  N         경유              9380\n",
       "              휘발유             1603\n",
       "    Y         LPG(액화석유가스)     1071\n",
       "              경유             39955\n",
       "              휘발유             9639\n",
       "Name: 차대번호, Length: 78, dtype: int64"
      ]
     },
     "execution_count": 60,
     "metadata": {},
     "output_type": "execute_result"
    }
   ],
   "source": [
    "l = df5.groupby(['시도', '대기관리권역YN', '연료'])['차대번호'].count()\n",
    "l"
   ]
  },
  {
   "cell_type": "code",
   "execution_count": 61,
   "metadata": {},
   "outputs": [
    {
     "data": {
      "text/html": [
       "<div>\n",
       "<style scoped>\n",
       "    .dataframe tbody tr th:only-of-type {\n",
       "        vertical-align: middle;\n",
       "    }\n",
       "\n",
       "    .dataframe tbody tr th {\n",
       "        vertical-align: top;\n",
       "    }\n",
       "\n",
       "    .dataframe thead th {\n",
       "        text-align: right;\n",
       "    }\n",
       "</style>\n",
       "<table border=\"1\" class=\"dataframe\">\n",
       "  <thead>\n",
       "    <tr style=\"text-align: right;\">\n",
       "      <th></th>\n",
       "      <th>연료</th>\n",
       "      <th>CNG(압축천연가스)</th>\n",
       "      <th>LPG(액화석유가스)</th>\n",
       "      <th>경유</th>\n",
       "      <th>기타연료</th>\n",
       "      <th>알코올</th>\n",
       "      <th>휘발유</th>\n",
       "    </tr>\n",
       "    <tr>\n",
       "      <th>시도</th>\n",
       "      <th>대기관리권역YN</th>\n",
       "      <th></th>\n",
       "      <th></th>\n",
       "      <th></th>\n",
       "      <th></th>\n",
       "      <th></th>\n",
       "      <th></th>\n",
       "    </tr>\n",
       "  </thead>\n",
       "  <tbody>\n",
       "    <tr>\n",
       "      <th>강원</th>\n",
       "      <th>N</th>\n",
       "      <td>NaN</td>\n",
       "      <td>806.0</td>\n",
       "      <td>47557.0</td>\n",
       "      <td>NaN</td>\n",
       "      <td>NaN</td>\n",
       "      <td>8645.0</td>\n",
       "    </tr>\n",
       "    <tr>\n",
       "      <th rowspan=\"2\" valign=\"top\">경기</th>\n",
       "      <th>N</th>\n",
       "      <td>NaN</td>\n",
       "      <td>119.0</td>\n",
       "      <td>8029.0</td>\n",
       "      <td>NaN</td>\n",
       "      <td>NaN</td>\n",
       "      <td>2018.0</td>\n",
       "    </tr>\n",
       "    <tr>\n",
       "      <th>Y</th>\n",
       "      <td>NaN</td>\n",
       "      <td>6852.0</td>\n",
       "      <td>263413.0</td>\n",
       "      <td>NaN</td>\n",
       "      <td>NaN</td>\n",
       "      <td>87318.0</td>\n",
       "    </tr>\n",
       "    <tr>\n",
       "      <th rowspan=\"2\" valign=\"top\">경남</th>\n",
       "      <th>N</th>\n",
       "      <td>NaN</td>\n",
       "      <td>319.0</td>\n",
       "      <td>35671.0</td>\n",
       "      <td>1.0</td>\n",
       "      <td>NaN</td>\n",
       "      <td>5813.0</td>\n",
       "    </tr>\n",
       "    <tr>\n",
       "      <th>Y</th>\n",
       "      <td>NaN</td>\n",
       "      <td>725.0</td>\n",
       "      <td>62151.0</td>\n",
       "      <td>NaN</td>\n",
       "      <td>NaN</td>\n",
       "      <td>13147.0</td>\n",
       "    </tr>\n",
       "    <tr>\n",
       "      <th rowspan=\"2\" valign=\"top\">경북</th>\n",
       "      <th>N</th>\n",
       "      <td>NaN</td>\n",
       "      <td>457.0</td>\n",
       "      <td>46305.0</td>\n",
       "      <td>NaN</td>\n",
       "      <td>NaN</td>\n",
       "      <td>6766.0</td>\n",
       "    </tr>\n",
       "    <tr>\n",
       "      <th>Y</th>\n",
       "      <td>NaN</td>\n",
       "      <td>1014.0</td>\n",
       "      <td>50059.0</td>\n",
       "      <td>NaN</td>\n",
       "      <td>NaN</td>\n",
       "      <td>13076.0</td>\n",
       "    </tr>\n",
       "    <tr>\n",
       "      <th>광주</th>\n",
       "      <th>Y</th>\n",
       "      <td>NaN</td>\n",
       "      <td>721.0</td>\n",
       "      <td>30708.0</td>\n",
       "      <td>NaN</td>\n",
       "      <td>NaN</td>\n",
       "      <td>8419.0</td>\n",
       "    </tr>\n",
       "    <tr>\n",
       "      <th>대구</th>\n",
       "      <th>Y</th>\n",
       "      <td>NaN</td>\n",
       "      <td>1675.0</td>\n",
       "      <td>51173.0</td>\n",
       "      <td>NaN</td>\n",
       "      <td>NaN</td>\n",
       "      <td>16943.0</td>\n",
       "    </tr>\n",
       "    <tr>\n",
       "      <th>대전</th>\n",
       "      <th>Y</th>\n",
       "      <td>NaN</td>\n",
       "      <td>1248.0</td>\n",
       "      <td>30365.0</td>\n",
       "      <td>NaN</td>\n",
       "      <td>NaN</td>\n",
       "      <td>10577.0</td>\n",
       "    </tr>\n",
       "    <tr>\n",
       "      <th>부산</th>\n",
       "      <th>Y</th>\n",
       "      <td>NaN</td>\n",
       "      <td>1517.0</td>\n",
       "      <td>58875.0</td>\n",
       "      <td>NaN</td>\n",
       "      <td>NaN</td>\n",
       "      <td>17442.0</td>\n",
       "    </tr>\n",
       "    <tr>\n",
       "      <th>서울</th>\n",
       "      <th>Y</th>\n",
       "      <td>NaN</td>\n",
       "      <td>4439.0</td>\n",
       "      <td>112475.0</td>\n",
       "      <td>NaN</td>\n",
       "      <td>NaN</td>\n",
       "      <td>63609.0</td>\n",
       "    </tr>\n",
       "    <tr>\n",
       "      <th>세종</th>\n",
       "      <th>Y</th>\n",
       "      <td>NaN</td>\n",
       "      <td>66.0</td>\n",
       "      <td>6790.0</td>\n",
       "      <td>NaN</td>\n",
       "      <td>NaN</td>\n",
       "      <td>1337.0</td>\n",
       "    </tr>\n",
       "    <tr>\n",
       "      <th>울산</th>\n",
       "      <th>Y</th>\n",
       "      <td>NaN</td>\n",
       "      <td>273.0</td>\n",
       "      <td>26599.0</td>\n",
       "      <td>NaN</td>\n",
       "      <td>NaN</td>\n",
       "      <td>5964.0</td>\n",
       "    </tr>\n",
       "    <tr>\n",
       "      <th rowspan=\"2\" valign=\"top\">인천</th>\n",
       "      <th>N</th>\n",
       "      <td>NaN</td>\n",
       "      <td>14.0</td>\n",
       "      <td>1436.0</td>\n",
       "      <td>NaN</td>\n",
       "      <td>NaN</td>\n",
       "      <td>218.0</td>\n",
       "    </tr>\n",
       "    <tr>\n",
       "      <th>Y</th>\n",
       "      <td>NaN</td>\n",
       "      <td>1305.0</td>\n",
       "      <td>60230.0</td>\n",
       "      <td>NaN</td>\n",
       "      <td>1.0</td>\n",
       "      <td>18656.0</td>\n",
       "    </tr>\n",
       "    <tr>\n",
       "      <th rowspan=\"2\" valign=\"top\">전남</th>\n",
       "      <th>N</th>\n",
       "      <td>1.0</td>\n",
       "      <td>749.0</td>\n",
       "      <td>37746.0</td>\n",
       "      <td>NaN</td>\n",
       "      <td>NaN</td>\n",
       "      <td>5880.0</td>\n",
       "    </tr>\n",
       "    <tr>\n",
       "      <th>Y</th>\n",
       "      <td>NaN</td>\n",
       "      <td>532.0</td>\n",
       "      <td>34988.0</td>\n",
       "      <td>NaN</td>\n",
       "      <td>NaN</td>\n",
       "      <td>6761.0</td>\n",
       "    </tr>\n",
       "    <tr>\n",
       "      <th rowspan=\"2\" valign=\"top\">전북</th>\n",
       "      <th>N</th>\n",
       "      <td>NaN</td>\n",
       "      <td>399.0</td>\n",
       "      <td>29035.0</td>\n",
       "      <td>NaN</td>\n",
       "      <td>NaN</td>\n",
       "      <td>4261.0</td>\n",
       "    </tr>\n",
       "    <tr>\n",
       "      <th>Y</th>\n",
       "      <td>NaN</td>\n",
       "      <td>590.0</td>\n",
       "      <td>32030.0</td>\n",
       "      <td>NaN</td>\n",
       "      <td>NaN</td>\n",
       "      <td>7142.0</td>\n",
       "    </tr>\n",
       "    <tr>\n",
       "      <th>제주</th>\n",
       "      <th>N</th>\n",
       "      <td>NaN</td>\n",
       "      <td>379.0</td>\n",
       "      <td>22055.0</td>\n",
       "      <td>NaN</td>\n",
       "      <td>NaN</td>\n",
       "      <td>4402.0</td>\n",
       "    </tr>\n",
       "    <tr>\n",
       "      <th rowspan=\"2\" valign=\"top\">충남</th>\n",
       "      <th>N</th>\n",
       "      <td>NaN</td>\n",
       "      <td>33.0</td>\n",
       "      <td>2372.0</td>\n",
       "      <td>NaN</td>\n",
       "      <td>NaN</td>\n",
       "      <td>459.0</td>\n",
       "    </tr>\n",
       "    <tr>\n",
       "      <th>Y</th>\n",
       "      <td>NaN</td>\n",
       "      <td>957.0</td>\n",
       "      <td>68208.0</td>\n",
       "      <td>NaN</td>\n",
       "      <td>NaN</td>\n",
       "      <td>14436.0</td>\n",
       "    </tr>\n",
       "    <tr>\n",
       "      <th rowspan=\"2\" valign=\"top\">충북</th>\n",
       "      <th>N</th>\n",
       "      <td>NaN</td>\n",
       "      <td>158.0</td>\n",
       "      <td>9380.0</td>\n",
       "      <td>NaN</td>\n",
       "      <td>NaN</td>\n",
       "      <td>1603.0</td>\n",
       "    </tr>\n",
       "    <tr>\n",
       "      <th>Y</th>\n",
       "      <td>NaN</td>\n",
       "      <td>1071.0</td>\n",
       "      <td>39955.0</td>\n",
       "      <td>NaN</td>\n",
       "      <td>NaN</td>\n",
       "      <td>9639.0</td>\n",
       "    </tr>\n",
       "  </tbody>\n",
       "</table>\n",
       "</div>"
      ],
      "text/plain": [
       "연료           CNG(압축천연가스)  LPG(액화석유가스)        경유  기타연료  알코올      휘발유\n",
       "시도 대기관리권역YN                                                        \n",
       "강원 N                 NaN        806.0   47557.0   NaN  NaN   8645.0\n",
       "경기 N                 NaN        119.0    8029.0   NaN  NaN   2018.0\n",
       "   Y                 NaN       6852.0  263413.0   NaN  NaN  87318.0\n",
       "경남 N                 NaN        319.0   35671.0   1.0  NaN   5813.0\n",
       "   Y                 NaN        725.0   62151.0   NaN  NaN  13147.0\n",
       "경북 N                 NaN        457.0   46305.0   NaN  NaN   6766.0\n",
       "   Y                 NaN       1014.0   50059.0   NaN  NaN  13076.0\n",
       "광주 Y                 NaN        721.0   30708.0   NaN  NaN   8419.0\n",
       "대구 Y                 NaN       1675.0   51173.0   NaN  NaN  16943.0\n",
       "대전 Y                 NaN       1248.0   30365.0   NaN  NaN  10577.0\n",
       "부산 Y                 NaN       1517.0   58875.0   NaN  NaN  17442.0\n",
       "서울 Y                 NaN       4439.0  112475.0   NaN  NaN  63609.0\n",
       "세종 Y                 NaN         66.0    6790.0   NaN  NaN   1337.0\n",
       "울산 Y                 NaN        273.0   26599.0   NaN  NaN   5964.0\n",
       "인천 N                 NaN         14.0    1436.0   NaN  NaN    218.0\n",
       "   Y                 NaN       1305.0   60230.0   NaN  1.0  18656.0\n",
       "전남 N                 1.0        749.0   37746.0   NaN  NaN   5880.0\n",
       "   Y                 NaN        532.0   34988.0   NaN  NaN   6761.0\n",
       "전북 N                 NaN        399.0   29035.0   NaN  NaN   4261.0\n",
       "   Y                 NaN        590.0   32030.0   NaN  NaN   7142.0\n",
       "제주 N                 NaN        379.0   22055.0   NaN  NaN   4402.0\n",
       "충남 N                 NaN         33.0    2372.0   NaN  NaN    459.0\n",
       "   Y                 NaN        957.0   68208.0   NaN  NaN  14436.0\n",
       "충북 N                 NaN        158.0    9380.0   NaN  NaN   1603.0\n",
       "   Y                 NaN       1071.0   39955.0   NaN  NaN   9639.0"
      ]
     },
     "execution_count": 61,
     "metadata": {},
     "output_type": "execute_result"
    }
   ],
   "source": [
    "l.unstack()"
   ]
  },
  {
   "cell_type": "markdown",
   "metadata": {},
   "source": [
    "### [excel] 지역별 수량 통계"
   ]
  },
  {
   "cell_type": "code",
   "execution_count": 62,
   "metadata": {},
   "outputs": [],
   "source": [
    "l.unstack().to_excel('analysis/[G4]지역별_차대번호_통계.xlsx', encoding='utf-8')"
   ]
  },
  {
   "attachments": {},
   "cell_type": "markdown",
   "metadata": {},
   "source": [
    "# [출력] 4등급 제원정보(csv)\n",
    "- 차량말소 적용, 차대번호 중복제거, 연료정보 수정, 지역명 추가"
   ]
  },
  {
   "cell_type": "code",
   "execution_count": 63,
   "metadata": {},
   "outputs": [],
   "source": [
    "# 4등급 제원정보 수정(차량말소 적용, 차대번호 중복제거, 연료정보 수정, 지역명 추가)\n",
    "# 30.2s\n",
    "df5.to_csv('data/220819_22.06월기준_4등급(수정).csv', encoding='cp949')"
   ]
  },
  {
   "attachments": {},
   "cell_type": "markdown",
   "metadata": {},
   "source": [
    "## 지역별 연료별 통계"
   ]
  },
  {
   "cell_type": "code",
   "execution_count": 64,
   "metadata": {},
   "outputs": [
    {
     "data": {
      "text/plain": [
       "Index(['차량관리번호', '차량등록번호', '본거지법정동코드', '소유자구분', '차종_등록정보', '용도', '차대번호',\n",
       "       '최초등록일자', '차량연식', '차량제작일자', '검사유효일', '제원관리번호', '배출가스인증번호', '배출가스등급',\n",
       "       '저공해조치종류', '저공해조치구조변경YN', '취득일자', '취득금액', '차명', '차종_제원정보', '차종분류',\n",
       "       '차종유형', '자동차형식', '제작사명', '연료', '엔진형식', '총중량', '적재중량', '엔진출력', '배기량',\n",
       "       '승차인원', '차량길이', '차량너비', '차량높이', '원산지명', '삭제YN', '제원승인일자', '구동형식',\n",
       "       '변속기종류', '차량말소YN', 'code1', '시도', '시구군', '폐지여부', '대기관리권역', '대기관리권역YN'],\n",
       "      dtype='object')"
      ]
     },
     "execution_count": 64,
     "metadata": {},
     "output_type": "execute_result"
    }
   ],
   "source": [
    "df5.columns"
   ]
  },
  {
   "cell_type": "code",
   "execution_count": 66,
   "metadata": {},
   "outputs": [
    {
     "data": {
      "text/plain": [
       "시도  연료         \n",
       "강원  LPG(액화석유가스)       806\n",
       "    경유              47557\n",
       "    휘발유              8645\n",
       "경기  LPG(액화석유가스)      6971\n",
       "    경유             271442\n",
       "    휘발유             89336\n",
       "경남  LPG(액화석유가스)      1044\n",
       "    경유              97822\n",
       "    기타연료                1\n",
       "    휘발유             18960\n",
       "경북  LPG(액화석유가스)      1471\n",
       "    경유              96364\n",
       "    휘발유             19842\n",
       "광주  LPG(액화석유가스)       721\n",
       "    경유              30708\n",
       "    휘발유              8419\n",
       "대구  LPG(액화석유가스)      1675\n",
       "    경유              51173\n",
       "    휘발유             16943\n",
       "대전  LPG(액화석유가스)      1248\n",
       "    경유              30365\n",
       "    휘발유             10577\n",
       "부산  LPG(액화석유가스)      1517\n",
       "    경유              58875\n",
       "    휘발유             17442\n",
       "서울  LPG(액화석유가스)      4439\n",
       "    경유             112475\n",
       "    휘발유             63609\n",
       "세종  LPG(액화석유가스)        66\n",
       "    경유               6790\n",
       "    휘발유              1337\n",
       "울산  LPG(액화석유가스)       273\n",
       "    경유              26599\n",
       "    휘발유              5964\n",
       "인천  LPG(액화석유가스)      1319\n",
       "    경유              61666\n",
       "    알코올                 1\n",
       "    휘발유             18874\n",
       "전남  CNG(압축천연가스)         1\n",
       "    LPG(액화석유가스)      1281\n",
       "    경유              72734\n",
       "    휘발유             12641\n",
       "전북  LPG(액화석유가스)       989\n",
       "    경유              61065\n",
       "    휘발유             11403\n",
       "제주  LPG(액화석유가스)       379\n",
       "    경유              22055\n",
       "    휘발유              4402\n",
       "충남  LPG(액화석유가스)       990\n",
       "    경유              70580\n",
       "    휘발유             14895\n",
       "충북  LPG(액화석유가스)      1229\n",
       "    경유              49335\n",
       "    휘발유             11242\n",
       "Name: 차대번호, dtype: int64"
      ]
     },
     "execution_count": 66,
     "metadata": {},
     "output_type": "execute_result"
    }
   ],
   "source": [
    "statics_by_local_fuel = df5.groupby(['시도', '연료'])['차대번호'].count()\n",
    "statics_by_local_fuel"
   ]
  },
  {
   "cell_type": "code",
   "execution_count": 67,
   "metadata": {},
   "outputs": [
    {
     "data": {
      "text/html": [
       "<div>\n",
       "<style scoped>\n",
       "    .dataframe tbody tr th:only-of-type {\n",
       "        vertical-align: middle;\n",
       "    }\n",
       "\n",
       "    .dataframe tbody tr th {\n",
       "        vertical-align: top;\n",
       "    }\n",
       "\n",
       "    .dataframe thead th {\n",
       "        text-align: right;\n",
       "    }\n",
       "</style>\n",
       "<table border=\"1\" class=\"dataframe\">\n",
       "  <thead>\n",
       "    <tr style=\"text-align: right;\">\n",
       "      <th>연료</th>\n",
       "      <th>CNG(압축천연가스)</th>\n",
       "      <th>LPG(액화석유가스)</th>\n",
       "      <th>경유</th>\n",
       "      <th>기타연료</th>\n",
       "      <th>알코올</th>\n",
       "      <th>휘발유</th>\n",
       "    </tr>\n",
       "    <tr>\n",
       "      <th>시도</th>\n",
       "      <th></th>\n",
       "      <th></th>\n",
       "      <th></th>\n",
       "      <th></th>\n",
       "      <th></th>\n",
       "      <th></th>\n",
       "    </tr>\n",
       "  </thead>\n",
       "  <tbody>\n",
       "    <tr>\n",
       "      <th>강원</th>\n",
       "      <td>NaN</td>\n",
       "      <td>806.0</td>\n",
       "      <td>47557.0</td>\n",
       "      <td>NaN</td>\n",
       "      <td>NaN</td>\n",
       "      <td>8645.0</td>\n",
       "    </tr>\n",
       "    <tr>\n",
       "      <th>경기</th>\n",
       "      <td>NaN</td>\n",
       "      <td>6971.0</td>\n",
       "      <td>271442.0</td>\n",
       "      <td>NaN</td>\n",
       "      <td>NaN</td>\n",
       "      <td>89336.0</td>\n",
       "    </tr>\n",
       "    <tr>\n",
       "      <th>경남</th>\n",
       "      <td>NaN</td>\n",
       "      <td>1044.0</td>\n",
       "      <td>97822.0</td>\n",
       "      <td>1.0</td>\n",
       "      <td>NaN</td>\n",
       "      <td>18960.0</td>\n",
       "    </tr>\n",
       "    <tr>\n",
       "      <th>경북</th>\n",
       "      <td>NaN</td>\n",
       "      <td>1471.0</td>\n",
       "      <td>96364.0</td>\n",
       "      <td>NaN</td>\n",
       "      <td>NaN</td>\n",
       "      <td>19842.0</td>\n",
       "    </tr>\n",
       "    <tr>\n",
       "      <th>광주</th>\n",
       "      <td>NaN</td>\n",
       "      <td>721.0</td>\n",
       "      <td>30708.0</td>\n",
       "      <td>NaN</td>\n",
       "      <td>NaN</td>\n",
       "      <td>8419.0</td>\n",
       "    </tr>\n",
       "    <tr>\n",
       "      <th>대구</th>\n",
       "      <td>NaN</td>\n",
       "      <td>1675.0</td>\n",
       "      <td>51173.0</td>\n",
       "      <td>NaN</td>\n",
       "      <td>NaN</td>\n",
       "      <td>16943.0</td>\n",
       "    </tr>\n",
       "    <tr>\n",
       "      <th>대전</th>\n",
       "      <td>NaN</td>\n",
       "      <td>1248.0</td>\n",
       "      <td>30365.0</td>\n",
       "      <td>NaN</td>\n",
       "      <td>NaN</td>\n",
       "      <td>10577.0</td>\n",
       "    </tr>\n",
       "    <tr>\n",
       "      <th>부산</th>\n",
       "      <td>NaN</td>\n",
       "      <td>1517.0</td>\n",
       "      <td>58875.0</td>\n",
       "      <td>NaN</td>\n",
       "      <td>NaN</td>\n",
       "      <td>17442.0</td>\n",
       "    </tr>\n",
       "    <tr>\n",
       "      <th>서울</th>\n",
       "      <td>NaN</td>\n",
       "      <td>4439.0</td>\n",
       "      <td>112475.0</td>\n",
       "      <td>NaN</td>\n",
       "      <td>NaN</td>\n",
       "      <td>63609.0</td>\n",
       "    </tr>\n",
       "    <tr>\n",
       "      <th>세종</th>\n",
       "      <td>NaN</td>\n",
       "      <td>66.0</td>\n",
       "      <td>6790.0</td>\n",
       "      <td>NaN</td>\n",
       "      <td>NaN</td>\n",
       "      <td>1337.0</td>\n",
       "    </tr>\n",
       "    <tr>\n",
       "      <th>울산</th>\n",
       "      <td>NaN</td>\n",
       "      <td>273.0</td>\n",
       "      <td>26599.0</td>\n",
       "      <td>NaN</td>\n",
       "      <td>NaN</td>\n",
       "      <td>5964.0</td>\n",
       "    </tr>\n",
       "    <tr>\n",
       "      <th>인천</th>\n",
       "      <td>NaN</td>\n",
       "      <td>1319.0</td>\n",
       "      <td>61666.0</td>\n",
       "      <td>NaN</td>\n",
       "      <td>1.0</td>\n",
       "      <td>18874.0</td>\n",
       "    </tr>\n",
       "    <tr>\n",
       "      <th>전남</th>\n",
       "      <td>1.0</td>\n",
       "      <td>1281.0</td>\n",
       "      <td>72734.0</td>\n",
       "      <td>NaN</td>\n",
       "      <td>NaN</td>\n",
       "      <td>12641.0</td>\n",
       "    </tr>\n",
       "    <tr>\n",
       "      <th>전북</th>\n",
       "      <td>NaN</td>\n",
       "      <td>989.0</td>\n",
       "      <td>61065.0</td>\n",
       "      <td>NaN</td>\n",
       "      <td>NaN</td>\n",
       "      <td>11403.0</td>\n",
       "    </tr>\n",
       "    <tr>\n",
       "      <th>제주</th>\n",
       "      <td>NaN</td>\n",
       "      <td>379.0</td>\n",
       "      <td>22055.0</td>\n",
       "      <td>NaN</td>\n",
       "      <td>NaN</td>\n",
       "      <td>4402.0</td>\n",
       "    </tr>\n",
       "    <tr>\n",
       "      <th>충남</th>\n",
       "      <td>NaN</td>\n",
       "      <td>990.0</td>\n",
       "      <td>70580.0</td>\n",
       "      <td>NaN</td>\n",
       "      <td>NaN</td>\n",
       "      <td>14895.0</td>\n",
       "    </tr>\n",
       "    <tr>\n",
       "      <th>충북</th>\n",
       "      <td>NaN</td>\n",
       "      <td>1229.0</td>\n",
       "      <td>49335.0</td>\n",
       "      <td>NaN</td>\n",
       "      <td>NaN</td>\n",
       "      <td>11242.0</td>\n",
       "    </tr>\n",
       "  </tbody>\n",
       "</table>\n",
       "</div>"
      ],
      "text/plain": [
       "연료  CNG(압축천연가스)  LPG(액화석유가스)        경유  기타연료  알코올      휘발유\n",
       "시도                                                        \n",
       "강원          NaN        806.0   47557.0   NaN  NaN   8645.0\n",
       "경기          NaN       6971.0  271442.0   NaN  NaN  89336.0\n",
       "경남          NaN       1044.0   97822.0   1.0  NaN  18960.0\n",
       "경북          NaN       1471.0   96364.0   NaN  NaN  19842.0\n",
       "광주          NaN        721.0   30708.0   NaN  NaN   8419.0\n",
       "대구          NaN       1675.0   51173.0   NaN  NaN  16943.0\n",
       "대전          NaN       1248.0   30365.0   NaN  NaN  10577.0\n",
       "부산          NaN       1517.0   58875.0   NaN  NaN  17442.0\n",
       "서울          NaN       4439.0  112475.0   NaN  NaN  63609.0\n",
       "세종          NaN         66.0    6790.0   NaN  NaN   1337.0\n",
       "울산          NaN        273.0   26599.0   NaN  NaN   5964.0\n",
       "인천          NaN       1319.0   61666.0   NaN  1.0  18874.0\n",
       "전남          1.0       1281.0   72734.0   NaN  NaN  12641.0\n",
       "전북          NaN        989.0   61065.0   NaN  NaN  11403.0\n",
       "제주          NaN        379.0   22055.0   NaN  NaN   4402.0\n",
       "충남          NaN        990.0   70580.0   NaN  NaN  14895.0\n",
       "충북          NaN       1229.0   49335.0   NaN  NaN  11242.0"
      ]
     },
     "execution_count": 67,
     "metadata": {},
     "output_type": "execute_result"
    }
   ],
   "source": [
    "statics_by_local_fuel2 = statics_by_local_fuel.unstack(['연료'])\n",
    "statics_by_local_fuel2"
   ]
  },
  {
   "cell_type": "code",
   "execution_count": 68,
   "metadata": {},
   "outputs": [],
   "source": [
    "statics_by_local_fuel2.to_excel('analysis/[G4][법정동코드]지역_연료별_통계.xlsx', encoding='utf-8')"
   ]
  },
  {
   "attachments": {},
   "cell_type": "markdown",
   "metadata": {},
   "source": [
    "# 분석"
   ]
  },
  {
   "attachments": {},
   "cell_type": "markdown",
   "metadata": {},
   "source": [
    "## 배출가스"
   ]
  },
  {
   "attachments": {},
   "cell_type": "markdown",
   "metadata": {},
   "source": [
    "### 배출가스인증번호 내역 확인"
   ]
  },
  {
   "cell_type": "code",
   "execution_count": 69,
   "metadata": {},
   "outputs": [
    {
     "name": "stdout",
     "output_type": "stream",
     "text": [
      "<class 'pandas.core.series.Series'>\n",
      "Int64Index: 1528557 entries, 0 to 1528556\n",
      "Series name: 배출가스인증번호\n",
      "Non-Null Count    Dtype \n",
      "--------------    ----- \n",
      "1405566 non-null  object\n",
      "dtypes: object(1)\n",
      "memory usage: 23.3+ MB\n"
     ]
    }
   ],
   "source": [
    "df5['배출가스인증번호'].info()"
   ]
  },
  {
   "cell_type": "code",
   "execution_count": 70,
   "metadata": {},
   "outputs": [
    {
     "data": {
      "text/plain": [
       "122991"
      ]
     },
     "execution_count": 70,
     "metadata": {},
     "output_type": "execute_result"
    }
   ],
   "source": [
    "df5['배출가스인증번호'].isnull().sum()"
   ]
  },
  {
   "cell_type": "code",
   "execution_count": 71,
   "metadata": {},
   "outputs": [
    {
     "data": {
      "text/plain": [
       "7MY-HD-14-68     268972\n",
       "8MY-KM-13-19      93969\n",
       "6MY-KM-14-61      76370\n",
       "9MY-KM-14-41      67493\n",
       "7MY-HD-14-46      60364\n",
       "                  ...  \n",
       "5MY-DC-23-06          1\n",
       "8MY-DH-0M-24          1\n",
       " 7MY-DC-24-72         1\n",
       "8MY-WI-0M-24          1\n",
       "7MY-MM-0M-24          1\n",
       "Name: 배출가스인증번호, Length: 304, dtype: int64"
      ]
     },
     "execution_count": 71,
     "metadata": {},
     "output_type": "execute_result"
    }
   ],
   "source": [
    "df5['배출가스인증번호'].value_counts()"
   ]
  },
  {
   "cell_type": "code",
   "execution_count": 72,
   "metadata": {},
   "outputs": [
    {
     "data": {
      "text/html": [
       "<div>\n",
       "<style scoped>\n",
       "    .dataframe tbody tr th:only-of-type {\n",
       "        vertical-align: middle;\n",
       "    }\n",
       "\n",
       "    .dataframe tbody tr th {\n",
       "        vertical-align: top;\n",
       "    }\n",
       "\n",
       "    .dataframe thead th {\n",
       "        text-align: right;\n",
       "    }\n",
       "</style>\n",
       "<table border=\"1\" class=\"dataframe\">\n",
       "  <thead>\n",
       "    <tr style=\"text-align: right;\">\n",
       "      <th></th>\n",
       "      <th>index</th>\n",
       "      <th>배출가스인증번호</th>\n",
       "    </tr>\n",
       "  </thead>\n",
       "  <tbody>\n",
       "    <tr>\n",
       "      <th>0</th>\n",
       "      <td>7MY-HD-14-68</td>\n",
       "      <td>268972</td>\n",
       "    </tr>\n",
       "    <tr>\n",
       "      <th>1</th>\n",
       "      <td>8MY-KM-13-19</td>\n",
       "      <td>93969</td>\n",
       "    </tr>\n",
       "    <tr>\n",
       "      <th>2</th>\n",
       "      <td>6MY-KM-14-61</td>\n",
       "      <td>76370</td>\n",
       "    </tr>\n",
       "    <tr>\n",
       "      <th>3</th>\n",
       "      <td>9MY-KM-14-41</td>\n",
       "      <td>67493</td>\n",
       "    </tr>\n",
       "    <tr>\n",
       "      <th>4</th>\n",
       "      <td>7MY-HD-14-46</td>\n",
       "      <td>60364</td>\n",
       "    </tr>\n",
       "    <tr>\n",
       "      <th>...</th>\n",
       "      <td>...</td>\n",
       "      <td>...</td>\n",
       "    </tr>\n",
       "    <tr>\n",
       "      <th>299</th>\n",
       "      <td>5MY-DC-23-06</td>\n",
       "      <td>1</td>\n",
       "    </tr>\n",
       "    <tr>\n",
       "      <th>300</th>\n",
       "      <td>8MY-DH-0M-24</td>\n",
       "      <td>1</td>\n",
       "    </tr>\n",
       "    <tr>\n",
       "      <th>301</th>\n",
       "      <td>7MY-DC-24-72</td>\n",
       "      <td>1</td>\n",
       "    </tr>\n",
       "    <tr>\n",
       "      <th>302</th>\n",
       "      <td>8MY-WI-0M-24</td>\n",
       "      <td>1</td>\n",
       "    </tr>\n",
       "    <tr>\n",
       "      <th>303</th>\n",
       "      <td>7MY-MM-0M-24</td>\n",
       "      <td>1</td>\n",
       "    </tr>\n",
       "  </tbody>\n",
       "</table>\n",
       "<p>304 rows × 2 columns</p>\n",
       "</div>"
      ],
      "text/plain": [
       "             index  배출가스인증번호\n",
       "0     7MY-HD-14-68    268972\n",
       "1     8MY-KM-13-19     93969\n",
       "2     6MY-KM-14-61     76370\n",
       "3     9MY-KM-14-41     67493\n",
       "4     7MY-HD-14-46     60364\n",
       "..             ...       ...\n",
       "299   5MY-DC-23-06         1\n",
       "300   8MY-DH-0M-24         1\n",
       "301   7MY-DC-24-72         1\n",
       "302   8MY-WI-0M-24         1\n",
       "303   7MY-MM-0M-24         1\n",
       "\n",
       "[304 rows x 2 columns]"
      ]
     },
     "execution_count": 72,
     "metadata": {},
     "output_type": "execute_result"
    }
   ],
   "source": [
    "temp = df5['배출가스인증번호'].value_counts().reset_index()\n",
    "temp"
   ]
  },
  {
   "cell_type": "code",
   "execution_count": 73,
   "metadata": {},
   "outputs": [],
   "source": [
    "# 제원정보 배출가스인증번호 현황\n",
    "temp.to_csv('analysis/[G4][배출가스인증번호]유니크값_통계.csv', encoding='cp949')"
   ]
  },
  {
   "cell_type": "code",
   "execution_count": 74,
   "metadata": {},
   "outputs": [
    {
     "data": {
      "text/plain": [
       "(1528557, 46)"
      ]
     },
     "execution_count": 74,
     "metadata": {},
     "output_type": "execute_result"
    }
   ],
   "source": [
    "df5.shape"
   ]
  },
  {
   "attachments": {},
   "cell_type": "markdown",
   "metadata": {},
   "source": [
    "#### 12\\. [e]배출가스인증번호"
   ]
  },
  {
   "cell_type": "code",
   "execution_count": 75,
   "metadata": {},
   "outputs": [],
   "source": [
    "# - 정보\n",
    "#     - 총 : 1528557\n",
    "#     - null : 123003\n",
    "#     - 정상\n",
    "#         - 2005.01.04 이후 표기 방식([숫자문자]{3}-[문자]{2}-[숫자]{2}-[숫자]{2}, 12자리) : 1152678\n",
    "#         - 2005.01.04 이전 표기 방식([숫자문자]{3}-[문자]{2}-[숫자]{2}, 9자리) : 230866\n",
    "#     - 오류(null 값 제외) : 22024\n",
    "#       - 예시\n",
    "#           - 163      TY87-배K-02\n",
    "#           - 173    7MY-KJ-0M-24\n",
    "#           - 216      TY87-배K-03\n",
    "#           - 236      TY87-배K-10\n",
    "#           - 293      TY87-배K-03"
   ]
  },
  {
   "cell_type": "code",
   "execution_count": 76,
   "metadata": {},
   "outputs": [],
   "source": [
    "# 2005년 이후 표기 방식 중 길이가 12자리가 아닌 값 : 3018\n",
    "#     - [max] 차량연식 : 2011\n",
    "# 2005년 이전 표기 방식 중 길이가 9자리가 아닌 값 : 2"
   ]
  },
  {
   "attachments": {},
   "cell_type": "markdown",
   "metadata": {},
   "source": [
    "##### 빈칸 처리"
   ]
  },
  {
   "cell_type": "code",
   "execution_count": 77,
   "metadata": {},
   "outputs": [
    {
     "data": {
      "text/html": [
       "<div>\n",
       "<style scoped>\n",
       "    .dataframe tbody tr th:only-of-type {\n",
       "        vertical-align: middle;\n",
       "    }\n",
       "\n",
       "    .dataframe tbody tr th {\n",
       "        vertical-align: top;\n",
       "    }\n",
       "\n",
       "    .dataframe thead th {\n",
       "        text-align: right;\n",
       "    }\n",
       "</style>\n",
       "<table border=\"1\" class=\"dataframe\">\n",
       "  <thead>\n",
       "    <tr style=\"text-align: right;\">\n",
       "      <th></th>\n",
       "      <th>차량관리번호</th>\n",
       "      <th>차량등록번호</th>\n",
       "      <th>본거지법정동코드</th>\n",
       "      <th>소유자구분</th>\n",
       "      <th>차종_등록정보</th>\n",
       "      <th>용도</th>\n",
       "      <th>차대번호</th>\n",
       "      <th>최초등록일자</th>\n",
       "      <th>차량연식</th>\n",
       "      <th>차량제작일자</th>\n",
       "      <th>...</th>\n",
       "      <th>제원승인일자</th>\n",
       "      <th>구동형식</th>\n",
       "      <th>변속기종류</th>\n",
       "      <th>차량말소YN</th>\n",
       "      <th>code1</th>\n",
       "      <th>시도</th>\n",
       "      <th>시구군</th>\n",
       "      <th>폐지여부</th>\n",
       "      <th>대기관리권역</th>\n",
       "      <th>대기관리권역YN</th>\n",
       "    </tr>\n",
       "  </thead>\n",
       "  <tbody>\n",
       "    <tr>\n",
       "      <th>0</th>\n",
       "      <td>KMCLK19KP8C035195-01</td>\n",
       "      <td>96부7399</td>\n",
       "      <td>4824034000</td>\n",
       "      <td>주민</td>\n",
       "      <td>화물</td>\n",
       "      <td>자가용</td>\n",
       "      <td>KMCLK18KP8C035195</td>\n",
       "      <td>20220614</td>\n",
       "      <td>2008</td>\n",
       "      <td>20080924.0</td>\n",
       "      <td>...</td>\n",
       "      <td>20080529.0</td>\n",
       "      <td>NaN</td>\n",
       "      <td>자동</td>\n",
       "      <td>NaN</td>\n",
       "      <td>48240</td>\n",
       "      <td>경남</td>\n",
       "      <td>사천시</td>\n",
       "      <td>존재</td>\n",
       "      <td>동남권</td>\n",
       "      <td>N</td>\n",
       "    </tr>\n",
       "    <tr>\n",
       "      <th>1</th>\n",
       "      <td>KMFLA18KP8C031274-01</td>\n",
       "      <td>92도0997</td>\n",
       "      <td>4482533000</td>\n",
       "      <td>법인</td>\n",
       "      <td>화물</td>\n",
       "      <td>자가용</td>\n",
       "      <td>KMFLA18KP8C031274</td>\n",
       "      <td>20220419</td>\n",
       "      <td>2008</td>\n",
       "      <td>20080605.0</td>\n",
       "      <td>...</td>\n",
       "      <td>20080518.0</td>\n",
       "      <td>NaN</td>\n",
       "      <td>수동</td>\n",
       "      <td>NaN</td>\n",
       "      <td>44825</td>\n",
       "      <td>충남</td>\n",
       "      <td>태안군</td>\n",
       "      <td>존재</td>\n",
       "      <td>중부권</td>\n",
       "      <td>Y</td>\n",
       "    </tr>\n",
       "    <tr>\n",
       "      <th>2</th>\n",
       "      <td>KLACA26RD8B226753-01</td>\n",
       "      <td>153구6446</td>\n",
       "      <td>2826011000</td>\n",
       "      <td>주민</td>\n",
       "      <td>승용</td>\n",
       "      <td>자가용</td>\n",
       "      <td>KLACA26RD8B226753</td>\n",
       "      <td>20210909</td>\n",
       "      <td>2008</td>\n",
       "      <td>20080221.0</td>\n",
       "      <td>...</td>\n",
       "      <td>20070703.0</td>\n",
       "      <td>NaN</td>\n",
       "      <td>자동</td>\n",
       "      <td>NaN</td>\n",
       "      <td>28260</td>\n",
       "      <td>인천</td>\n",
       "      <td>서구</td>\n",
       "      <td>존재</td>\n",
       "      <td>수도권</td>\n",
       "      <td>Y</td>\n",
       "    </tr>\n",
       "    <tr>\n",
       "      <th>3</th>\n",
       "      <td>KMCGK17HP8C086937-01</td>\n",
       "      <td>88조4842</td>\n",
       "      <td>4476032000</td>\n",
       "      <td>법인</td>\n",
       "      <td>화물</td>\n",
       "      <td>자가용</td>\n",
       "      <td>KMCGK17HP8C086937</td>\n",
       "      <td>20210830</td>\n",
       "      <td>2008</td>\n",
       "      <td>20080315.0</td>\n",
       "      <td>...</td>\n",
       "      <td>20070913.0</td>\n",
       "      <td>NaN</td>\n",
       "      <td>수동</td>\n",
       "      <td>NaN</td>\n",
       "      <td>44760</td>\n",
       "      <td>충남</td>\n",
       "      <td>부여군</td>\n",
       "      <td>존재</td>\n",
       "      <td>중부권</td>\n",
       "      <td>Y</td>\n",
       "    </tr>\n",
       "    <tr>\n",
       "      <th>4</th>\n",
       "      <td>KMCYSS7JP7U084697-01</td>\n",
       "      <td>99도4857</td>\n",
       "      <td>4423038028</td>\n",
       "      <td>주민</td>\n",
       "      <td>특수</td>\n",
       "      <td>자가용</td>\n",
       "      <td>KMCYSS7JP7U084697</td>\n",
       "      <td>20210826</td>\n",
       "      <td>2007</td>\n",
       "      <td>20070227.0</td>\n",
       "      <td>...</td>\n",
       "      <td>20060714.0</td>\n",
       "      <td>NaN</td>\n",
       "      <td>수동</td>\n",
       "      <td>NaN</td>\n",
       "      <td>44230</td>\n",
       "      <td>충남</td>\n",
       "      <td>논산시</td>\n",
       "      <td>존재</td>\n",
       "      <td>중부권</td>\n",
       "      <td>Y</td>\n",
       "    </tr>\n",
       "  </tbody>\n",
       "</table>\n",
       "<p>5 rows × 46 columns</p>\n",
       "</div>"
      ],
      "text/plain": [
       "                 차량관리번호    차량등록번호    본거지법정동코드 소유자구분 차종_등록정보   용도  \\\n",
       "0  KMCLK19KP8C035195-01   96부7399  4824034000    주민      화물  자가용   \n",
       "1  KMFLA18KP8C031274-01   92도0997  4482533000    법인      화물  자가용   \n",
       "2  KLACA26RD8B226753-01  153구6446  2826011000    주민      승용  자가용   \n",
       "3  KMCGK17HP8C086937-01   88조4842  4476032000    법인      화물  자가용   \n",
       "4  KMCYSS7JP7U084697-01   99도4857  4423038028    주민      특수  자가용   \n",
       "\n",
       "                차대번호    최초등록일자  차량연식      차량제작일자  ...      제원승인일자 구동형식 변속기종류  \\\n",
       "0  KMCLK18KP8C035195  20220614  2008  20080924.0  ...  20080529.0  NaN    자동   \n",
       "1  KMFLA18KP8C031274  20220419  2008  20080605.0  ...  20080518.0  NaN    수동   \n",
       "2  KLACA26RD8B226753  20210909  2008  20080221.0  ...  20070703.0  NaN    자동   \n",
       "3  KMCGK17HP8C086937  20210830  2008  20080315.0  ...  20070913.0  NaN    수동   \n",
       "4  KMCYSS7JP7U084697  20210826  2007  20070227.0  ...  20060714.0  NaN    수동   \n",
       "\n",
       "   차량말소YN  code1  시도  시구군  폐지여부 대기관리권역 대기관리권역YN  \n",
       "0     NaN  48240  경남  사천시    존재    동남권        N  \n",
       "1     NaN  44825  충남  태안군    존재    중부권        Y  \n",
       "2     NaN  28260  인천   서구    존재    수도권        Y  \n",
       "3     NaN  44760  충남  부여군    존재    중부권        Y  \n",
       "4     NaN  44230  충남  논산시    존재    중부권        Y  \n",
       "\n",
       "[5 rows x 46 columns]"
      ]
     },
     "execution_count": 77,
     "metadata": {},
     "output_type": "execute_result"
    }
   ],
   "source": [
    "gas_df = df5.copy()\n",
    "gas_df.head()"
   ]
  },
  {
   "cell_type": "code",
   "execution_count": 78,
   "metadata": {},
   "outputs": [
    {
     "data": {
      "text/plain": [
       "8808        \n",
       "12687       \n",
       "1194061     \n",
       "1236423     \n",
       "1336420     \n",
       "1399623     \n",
       "1477301     \n",
       "1492213     \n",
       "1507852     \n",
       "1514578     \n",
       "1518320     \n",
       "1528151     \n",
       "Name: 배출가스인증번호, dtype: object"
      ]
     },
     "execution_count": 78,
     "metadata": {},
     "output_type": "execute_result"
    }
   ],
   "source": [
    "gas_df[gas_df['배출가스인증번호'] == ' ']['배출가스인증번호']"
   ]
  },
  {
   "cell_type": "code",
   "execution_count": 79,
   "metadata": {},
   "outputs": [
    {
     "data": {
      "text/plain": [
       "(12,)"
      ]
     },
     "execution_count": 79,
     "metadata": {},
     "output_type": "execute_result"
    }
   ],
   "source": [
    "gas_df[gas_df['배출가스인증번호'] == ' ']['배출가스인증번호'].shape"
   ]
  },
  {
   "cell_type": "code",
   "execution_count": 80,
   "metadata": {},
   "outputs": [
    {
     "data": {
      "text/plain": [
       "Int64Index([   8808,   12687, 1194061, 1236423, 1336420, 1399623, 1477301,\n",
       "            1492213, 1507852, 1514578, 1518320, 1528151],\n",
       "           dtype='int64')"
      ]
     },
     "execution_count": 80,
     "metadata": {},
     "output_type": "execute_result"
    }
   ],
   "source": [
    "blank_index = gas_df[gas_df['배출가스인증번호'] == ' ']['배출가스인증번호'].index\n",
    "blank_index"
   ]
  },
  {
   "cell_type": "code",
   "execution_count": 81,
   "metadata": {},
   "outputs": [
    {
     "data": {
      "text/plain": [
       "'7MY-HD-14-68'"
      ]
     },
     "execution_count": 81,
     "metadata": {},
     "output_type": "execute_result"
    }
   ],
   "source": [
    "# 빈칸을 포함한 예시\n",
    "gas_df.iloc[103131, 12]"
   ]
  },
  {
   "cell_type": "code",
   "execution_count": 82,
   "metadata": {},
   "outputs": [
    {
     "data": {
      "text/plain": [
       "'7MY-HD-14-68'"
      ]
     },
     "execution_count": 82,
     "metadata": {},
     "output_type": "execute_result"
    }
   ],
   "source": [
    "gas_df.loc[blank_index, '배출가스인증번호'] = np.nan\n",
    "gas_df.iloc[103131, 12]"
   ]
  },
  {
   "cell_type": "code",
   "execution_count": 83,
   "metadata": {},
   "outputs": [
    {
     "data": {
      "text/plain": [
       "123003"
      ]
     },
     "execution_count": 83,
     "metadata": {},
     "output_type": "execute_result"
    }
   ],
   "source": [
    "gas_df['배출가스인증번호'].isnull().sum()"
   ]
  },
  {
   "cell_type": "code",
   "execution_count": 84,
   "metadata": {},
   "outputs": [
    {
     "data": {
      "text/plain": [
       "7MY-HD-14-68     268972\n",
       "8MY-KM-13-19      93969\n",
       "6MY-KM-14-61      76370\n",
       "9MY-KM-14-41      67493\n",
       "7MY-HD-14-46      60364\n",
       "                  ...  \n",
       "5MY-DC-23-06          1\n",
       "8MY-DH-0M-24          1\n",
       " 7MY-DC-24-72         1\n",
       "8MY-WI-0M-24          1\n",
       "7MY-MM-0M-24          1\n",
       "Name: 배출가스인증번호, Length: 304, dtype: int64"
      ]
     },
     "execution_count": 84,
     "metadata": {},
     "output_type": "execute_result"
    }
   ],
   "source": [
    "df5.iloc[:, 12].value_counts()"
   ]
  },
  {
   "cell_type": "code",
   "execution_count": 85,
   "metadata": {},
   "outputs": [
    {
     "data": {
      "text/plain": [
       "122991"
      ]
     },
     "execution_count": 85,
     "metadata": {},
     "output_type": "execute_result"
    }
   ],
   "source": [
    "df5.iloc[:, 12].isnull().sum()"
   ]
  },
  {
   "cell_type": "code",
   "execution_count": 86,
   "metadata": {},
   "outputs": [
    {
     "data": {
      "text/plain": [
       "0    NaN\n",
       "1    NaN\n",
       "2    NaN\n",
       "3    NaN\n",
       "4    NaN\n",
       "Name: 배출가스인증번호, dtype: object"
      ]
     },
     "execution_count": 86,
     "metadata": {},
     "output_type": "execute_result"
    }
   ],
   "source": [
    "df5[df5['배출가스인증번호'].isnull() == True]['배출가스인증번호'].head()"
   ]
  },
  {
   "cell_type": "code",
   "execution_count": 87,
   "metadata": {},
   "outputs": [
    {
     "name": "stderr",
     "output_type": "stream",
     "text": [
      "1528557it [00:01, 859669.37it/s] \n"
     ]
    },
    {
     "data": {
      "text/plain": [
       "1152678"
      ]
     },
     "execution_count": 87,
     "metadata": {},
     "output_type": "execute_result"
    }
   ],
   "source": [
    "# 2005.01.04 이후 표기 방식 : 1152678\n",
    "count = 0\n",
    "p121 = re.compile('[a-zA-Z0-9]{3}[-][a-zA-Z]{2}[-][0-9]{2}[-][0-9]{2}')\n",
    "idx121 = []\n",
    "for i, one in tqdm(enumerate(gas_df.iloc[:, 12].to_numpy())):\n",
    "    if p121.search(str(one)):\n",
    "        idx121.append(i)\n",
    "        count += 1\n",
    "count"
   ]
  },
  {
   "cell_type": "code",
   "execution_count": 88,
   "metadata": {},
   "outputs": [
    {
     "name": "stderr",
     "output_type": "stream",
     "text": [
      "1528557it [00:01, 1020724.32it/s]\n"
     ]
    },
    {
     "data": {
      "text/plain": [
       "375879"
      ]
     },
     "execution_count": 88,
     "metadata": {},
     "output_type": "execute_result"
    }
   ],
   "source": [
    "# 2005.01.04 이후 표기 방식이 아닌 값 : 375879\n",
    "count = 0\n",
    "idx122 = []\n",
    "for i, one in tqdm(enumerate(gas_df.iloc[:, 12].to_numpy())):\n",
    "    if not p121.search(str(one)):\n",
    "        idx122.append(i)\n",
    "        count += 1\n",
    "count"
   ]
  },
  {
   "cell_type": "code",
   "execution_count": 89,
   "metadata": {},
   "outputs": [
    {
     "data": {
      "text/plain": [
       "0    NaN\n",
       "1    NaN\n",
       "2    NaN\n",
       "3    NaN\n",
       "4    NaN\n",
       "Name: 배출가스인증번호, dtype: object"
      ]
     },
     "execution_count": 89,
     "metadata": {},
     "output_type": "execute_result"
    }
   ],
   "source": [
    "gas_df.iloc[:, 12].reindex(idx122)[:5]"
   ]
  },
  {
   "cell_type": "code",
   "execution_count": 90,
   "metadata": {},
   "outputs": [
    {
     "name": "stderr",
     "output_type": "stream",
     "text": [
      "375879it [00:00, 842992.79it/s]\n"
     ]
    },
    {
     "data": {
      "text/plain": [
       "230852"
      ]
     },
     "execution_count": 90,
     "metadata": {},
     "output_type": "execute_result"
    }
   ],
   "source": [
    "# 2005.01.04 이전 배출가스 표기 방식 : 230852\n",
    "count = 0\n",
    "p123 = re.compile('[a-zA-Z0-9]{3}[-][a-zA-Z]{2}[-][0-9]{2}')\n",
    "idx123 = []\n",
    "for i, one in tqdm(enumerate(gas_df.iloc[idx122, 12].to_numpy())):\n",
    "    if p123.search(str(one)):\n",
    "        idx123.append(idx122[i])\n",
    "        count += 1\n",
    "count"
   ]
  },
  {
   "cell_type": "code",
   "execution_count": 91,
   "metadata": {},
   "outputs": [
    {
     "data": {
      "text/html": [
       "<div>\n",
       "<style scoped>\n",
       "    .dataframe tbody tr th:only-of-type {\n",
       "        vertical-align: middle;\n",
       "    }\n",
       "\n",
       "    .dataframe tbody tr th {\n",
       "        vertical-align: top;\n",
       "    }\n",
       "\n",
       "    .dataframe thead th {\n",
       "        text-align: right;\n",
       "    }\n",
       "</style>\n",
       "<table border=\"1\" class=\"dataframe\">\n",
       "  <thead>\n",
       "    <tr style=\"text-align: right;\">\n",
       "      <th></th>\n",
       "      <th>최초등록일자</th>\n",
       "      <th>차량연식</th>\n",
       "      <th>차량제작일자</th>\n",
       "      <th>취득금액</th>\n",
       "      <th>배출가스인증번호</th>\n",
       "    </tr>\n",
       "  </thead>\n",
       "  <tbody>\n",
       "    <tr>\n",
       "      <th>936</th>\n",
       "      <td>20171018</td>\n",
       "      <td>1997</td>\n",
       "      <td>19971231.0</td>\n",
       "      <td>116130.0</td>\n",
       "      <td>RMY-HD-20</td>\n",
       "    </tr>\n",
       "    <tr>\n",
       "      <th>970</th>\n",
       "      <td>20170918</td>\n",
       "      <td>1998</td>\n",
       "      <td>19981231.0</td>\n",
       "      <td>200000.0</td>\n",
       "      <td>VMY-HD-30</td>\n",
       "    </tr>\n",
       "    <tr>\n",
       "      <th>1061</th>\n",
       "      <td>20170721</td>\n",
       "      <td>1999</td>\n",
       "      <td>19991231.0</td>\n",
       "      <td>0.0</td>\n",
       "      <td>WMY-HD-32</td>\n",
       "    </tr>\n",
       "    <tr>\n",
       "      <th>1066</th>\n",
       "      <td>20170720</td>\n",
       "      <td>2002</td>\n",
       "      <td>20021231.0</td>\n",
       "      <td>700000.0</td>\n",
       "      <td>WMY-HD-32</td>\n",
       "    </tr>\n",
       "    <tr>\n",
       "      <th>2307</th>\n",
       "      <td>20150825</td>\n",
       "      <td>1999</td>\n",
       "      <td>19991231.0</td>\n",
       "      <td>1195300.0</td>\n",
       "      <td>VMY-HD-30</td>\n",
       "    </tr>\n",
       "  </tbody>\n",
       "</table>\n",
       "</div>"
      ],
      "text/plain": [
       "        최초등록일자  차량연식      차량제작일자       취득금액   배출가스인증번호\n",
       "936   20171018  1997  19971231.0   116130.0  RMY-HD-20\n",
       "970   20170918  1998  19981231.0   200000.0  VMY-HD-30\n",
       "1061  20170721  1999  19991231.0        0.0  WMY-HD-32\n",
       "1066  20170720  2002  20021231.0   700000.0  WMY-HD-32\n",
       "2307  20150825  1999  19991231.0  1195300.0  VMY-HD-30"
      ]
     },
     "execution_count": 91,
     "metadata": {},
     "output_type": "execute_result"
    }
   ],
   "source": [
    "gas_df.iloc[idx123, [7, 8, 9, 17, 12]][:5]"
   ]
  },
  {
   "cell_type": "code",
   "execution_count": 92,
   "metadata": {},
   "outputs": [
    {
     "data": {
      "text/plain": [
       "123003"
      ]
     },
     "execution_count": 92,
     "metadata": {},
     "output_type": "execute_result"
    }
   ],
   "source": [
    "# null 값 : 123003\n",
    "idx124 = gas_df[gas_df['배출가스인증번호'].isnull() == True]['배출가스인증번호'].index\n",
    "len(idx124)"
   ]
  },
  {
   "cell_type": "code",
   "execution_count": 93,
   "metadata": {},
   "outputs": [
    {
     "data": {
      "text/plain": [
       "0    NaN\n",
       "1    NaN\n",
       "2    NaN\n",
       "3    NaN\n",
       "4    NaN\n",
       "Name: 배출가스인증번호, dtype: object"
      ]
     },
     "execution_count": 93,
     "metadata": {},
     "output_type": "execute_result"
    }
   ],
   "source": [
    "gas_df.iloc[:, 12].reindex(idx124)[:5]"
   ]
  },
  {
   "cell_type": "code",
   "execution_count": 94,
   "metadata": {},
   "outputs": [
    {
     "data": {
      "text/plain": [
       "22024"
      ]
     },
     "execution_count": 94,
     "metadata": {},
     "output_type": "execute_result"
    }
   ],
   "source": [
    "# 2005.01.04 이후 표기 방식이 아닌 값 중 null 값 제외한 오류 값 : 22024\n",
    "idx125 = sorted(set(idx122) - set(idx124) - set(idx123))\n",
    "len(idx125)"
   ]
  },
  {
   "cell_type": "code",
   "execution_count": 95,
   "metadata": {},
   "outputs": [
    {
     "data": {
      "text/plain": [
       "30     6MY-SS-0M-24\n",
       "104    FMY-VTK-14-1\n",
       "131    FMY-VTK-14-1\n",
       "133    6MY-SS-0M-24\n",
       "134    FMY-VTK-14-1\n",
       "Name: 배출가스인증번호, dtype: object"
      ]
     },
     "execution_count": 95,
     "metadata": {},
     "output_type": "execute_result"
    }
   ],
   "source": [
    "gas_df.iloc[:, 12].reindex(idx125)[:5]"
   ]
  },
  {
   "cell_type": "code",
   "execution_count": 96,
   "metadata": {},
   "outputs": [
    {
     "data": {
      "text/html": [
       "<div>\n",
       "<style scoped>\n",
       "    .dataframe tbody tr th:only-of-type {\n",
       "        vertical-align: middle;\n",
       "    }\n",
       "\n",
       "    .dataframe tbody tr th {\n",
       "        vertical-align: top;\n",
       "    }\n",
       "\n",
       "    .dataframe thead th {\n",
       "        text-align: right;\n",
       "    }\n",
       "</style>\n",
       "<table border=\"1\" class=\"dataframe\">\n",
       "  <thead>\n",
       "    <tr style=\"text-align: right;\">\n",
       "      <th></th>\n",
       "      <th>최초등록일자</th>\n",
       "      <th>차량연식</th>\n",
       "      <th>차량제작일자</th>\n",
       "      <th>취득금액</th>\n",
       "      <th>배출가스인증번호</th>\n",
       "    </tr>\n",
       "  </thead>\n",
       "  <tbody>\n",
       "    <tr>\n",
       "      <th>8096</th>\n",
       "      <td>20120409</td>\n",
       "      <td>2011</td>\n",
       "      <td>20111219.0</td>\n",
       "      <td>46363636.0</td>\n",
       "      <td>8MY-PA-14-3</td>\n",
       "    </tr>\n",
       "    <tr>\n",
       "      <th>14866</th>\n",
       "      <td>20120111</td>\n",
       "      <td>2011</td>\n",
       "      <td>20111219.0</td>\n",
       "      <td>2040000.0</td>\n",
       "      <td>8MY-PA-14-3</td>\n",
       "    </tr>\n",
       "    <tr>\n",
       "      <th>15195</th>\n",
       "      <td>20120109</td>\n",
       "      <td>2011</td>\n",
       "      <td>20110517.0</td>\n",
       "      <td>16250000.0</td>\n",
       "      <td>8MY-PA-14-3</td>\n",
       "    </tr>\n",
       "    <tr>\n",
       "      <th>15745</th>\n",
       "      <td>20120106</td>\n",
       "      <td>2011</td>\n",
       "      <td>20110216.0</td>\n",
       "      <td>9545455.0</td>\n",
       "      <td>8MY-PA-14-3</td>\n",
       "    </tr>\n",
       "    <tr>\n",
       "      <th>19226</th>\n",
       "      <td>20120102</td>\n",
       "      <td>2011</td>\n",
       "      <td>20110516.0</td>\n",
       "      <td>46363636.0</td>\n",
       "      <td>8MY-PA-14-3</td>\n",
       "    </tr>\n",
       "  </tbody>\n",
       "</table>\n",
       "</div>"
      ],
      "text/plain": [
       "         최초등록일자  차량연식      차량제작일자        취득금액     배출가스인증번호\n",
       "8096   20120409  2011  20111219.0  46363636.0  8MY-PA-14-3\n",
       "14866  20120111  2011  20111219.0   2040000.0  8MY-PA-14-3\n",
       "15195  20120109  2011  20110517.0  16250000.0  8MY-PA-14-3\n",
       "15745  20120106  2011  20110216.0   9545455.0  8MY-PA-14-3\n",
       "19226  20120102  2011  20110516.0  46363636.0  8MY-PA-14-3"
      ]
     },
     "execution_count": 96,
     "metadata": {},
     "output_type": "execute_result"
    }
   ],
   "source": [
    "# 2005년 이상 배출가스인증번호 데이터\n",
    "gas_temp = gas_df.iloc[idx123, [7, 8, 9, 17, 12]]\n",
    "gas_temp[gas_temp['차량연식'] >= 2005].head()"
   ]
  },
  {
   "cell_type": "code",
   "execution_count": 97,
   "metadata": {},
   "outputs": [
    {
     "data": {
      "text/html": [
       "<div>\n",
       "<style scoped>\n",
       "    .dataframe tbody tr th:only-of-type {\n",
       "        vertical-align: middle;\n",
       "    }\n",
       "\n",
       "    .dataframe tbody tr th {\n",
       "        vertical-align: top;\n",
       "    }\n",
       "\n",
       "    .dataframe thead th {\n",
       "        text-align: right;\n",
       "    }\n",
       "</style>\n",
       "<table border=\"1\" class=\"dataframe\">\n",
       "  <thead>\n",
       "    <tr style=\"text-align: right;\">\n",
       "      <th></th>\n",
       "      <th>최초등록일자</th>\n",
       "      <th>차량연식</th>\n",
       "      <th>차량제작일자</th>\n",
       "      <th>취득금액</th>\n",
       "      <th>배출가스인증번호</th>\n",
       "    </tr>\n",
       "  </thead>\n",
       "  <tbody>\n",
       "    <tr>\n",
       "      <th>8096</th>\n",
       "      <td>20120409</td>\n",
       "      <td>2011</td>\n",
       "      <td>20111219.0</td>\n",
       "      <td>46363636.0</td>\n",
       "      <td>8MY-PA-14-3</td>\n",
       "    </tr>\n",
       "    <tr>\n",
       "      <th>14866</th>\n",
       "      <td>20120111</td>\n",
       "      <td>2011</td>\n",
       "      <td>20111219.0</td>\n",
       "      <td>2040000.0</td>\n",
       "      <td>8MY-PA-14-3</td>\n",
       "    </tr>\n",
       "    <tr>\n",
       "      <th>15195</th>\n",
       "      <td>20120109</td>\n",
       "      <td>2011</td>\n",
       "      <td>20110517.0</td>\n",
       "      <td>16250000.0</td>\n",
       "      <td>8MY-PA-14-3</td>\n",
       "    </tr>\n",
       "    <tr>\n",
       "      <th>15745</th>\n",
       "      <td>20120106</td>\n",
       "      <td>2011</td>\n",
       "      <td>20110216.0</td>\n",
       "      <td>9545455.0</td>\n",
       "      <td>8MY-PA-14-3</td>\n",
       "    </tr>\n",
       "    <tr>\n",
       "      <th>19226</th>\n",
       "      <td>20120102</td>\n",
       "      <td>2011</td>\n",
       "      <td>20110516.0</td>\n",
       "      <td>46363636.0</td>\n",
       "      <td>8MY-PA-14-3</td>\n",
       "    </tr>\n",
       "    <tr>\n",
       "      <th>...</th>\n",
       "      <td>...</td>\n",
       "      <td>...</td>\n",
       "      <td>...</td>\n",
       "      <td>...</td>\n",
       "      <td>...</td>\n",
       "    </tr>\n",
       "    <tr>\n",
       "      <th>1168976</th>\n",
       "      <td>20051104</td>\n",
       "      <td>2005</td>\n",
       "      <td>20050905.0</td>\n",
       "      <td>34545000.0</td>\n",
       "      <td>4MY-PA-06</td>\n",
       "    </tr>\n",
       "    <tr>\n",
       "      <th>1168984</th>\n",
       "      <td>20051103</td>\n",
       "      <td>2005</td>\n",
       "      <td>20051024.0</td>\n",
       "      <td>17660000.0</td>\n",
       "      <td>4MY-PA-06</td>\n",
       "    </tr>\n",
       "    <tr>\n",
       "      <th>1169185</th>\n",
       "      <td>20051014</td>\n",
       "      <td>2005</td>\n",
       "      <td>20050903.0</td>\n",
       "      <td>2983000.0</td>\n",
       "      <td>4MY-PA-06</td>\n",
       "    </tr>\n",
       "    <tr>\n",
       "      <th>1169636</th>\n",
       "      <td>20050823</td>\n",
       "      <td>2005</td>\n",
       "      <td>20050421.0</td>\n",
       "      <td>3100000.0</td>\n",
       "      <td>4MY-AD-20</td>\n",
       "    </tr>\n",
       "    <tr>\n",
       "      <th>1169945</th>\n",
       "      <td>20050720</td>\n",
       "      <td>2005</td>\n",
       "      <td>20050421.0</td>\n",
       "      <td>2801000.0</td>\n",
       "      <td>4MY-AD-20</td>\n",
       "    </tr>\n",
       "  </tbody>\n",
       "</table>\n",
       "<p>3018 rows × 5 columns</p>\n",
       "</div>"
      ],
      "text/plain": [
       "           최초등록일자  차량연식      차량제작일자        취득금액     배출가스인증번호\n",
       "8096     20120409  2011  20111219.0  46363636.0  8MY-PA-14-3\n",
       "14866    20120111  2011  20111219.0   2040000.0  8MY-PA-14-3\n",
       "15195    20120109  2011  20110517.0  16250000.0  8MY-PA-14-3\n",
       "15745    20120106  2011  20110216.0   9545455.0  8MY-PA-14-3\n",
       "19226    20120102  2011  20110516.0  46363636.0  8MY-PA-14-3\n",
       "...           ...   ...         ...         ...          ...\n",
       "1168976  20051104  2005  20050905.0  34545000.0    4MY-PA-06\n",
       "1168984  20051103  2005  20051024.0  17660000.0    4MY-PA-06\n",
       "1169185  20051014  2005  20050903.0   2983000.0    4MY-PA-06\n",
       "1169636  20050823  2005  20050421.0   3100000.0    4MY-AD-20\n",
       "1169945  20050720  2005  20050421.0   2801000.0    4MY-AD-20\n",
       "\n",
       "[3018 rows x 5 columns]"
      ]
     },
     "execution_count": 97,
     "metadata": {},
     "output_type": "execute_result"
    }
   ],
   "source": [
    "# 2005년 이상년도에서 맞지않는 배출가스인증번호 샘플 : 3018\n",
    "gas_temp.loc[(gas_temp['차량연식'] >= 2005) & (gas_temp['배출가스인증번호'].str.len() != 12)]"
   ]
  },
  {
   "cell_type": "code",
   "execution_count": 98,
   "metadata": {},
   "outputs": [
    {
     "data": {
      "text/plain": [
       "(3018, 5)"
      ]
     },
     "execution_count": 98,
     "metadata": {},
     "output_type": "execute_result"
    }
   ],
   "source": [
    "gas_temp.loc[(gas_temp['차량연식'] >= 2005) & (gas_temp['배출가스인증번호'].str.len() != 12 )].shape"
   ]
  },
  {
   "cell_type": "code",
   "execution_count": 99,
   "metadata": {},
   "outputs": [
    {
     "data": {
      "text/plain": [
       "2011"
      ]
     },
     "execution_count": 99,
     "metadata": {},
     "output_type": "execute_result"
    }
   ],
   "source": [
    "gas_temp.loc[(gas_temp['차량연식'] >= 2005) & (gas_temp['배출가스인증번호'].str.len() != 12 ), '차량연식'].max()"
   ]
  },
  {
   "cell_type": "code",
   "execution_count": 100,
   "metadata": {},
   "outputs": [
    {
     "data": {
      "text/html": [
       "<div>\n",
       "<style scoped>\n",
       "    .dataframe tbody tr th:only-of-type {\n",
       "        vertical-align: middle;\n",
       "    }\n",
       "\n",
       "    .dataframe tbody tr th {\n",
       "        vertical-align: top;\n",
       "    }\n",
       "\n",
       "    .dataframe thead th {\n",
       "        text-align: right;\n",
       "    }\n",
       "</style>\n",
       "<table border=\"1\" class=\"dataframe\">\n",
       "  <thead>\n",
       "    <tr style=\"text-align: right;\">\n",
       "      <th></th>\n",
       "      <th>최초등록일자</th>\n",
       "      <th>차량연식</th>\n",
       "      <th>차량제작일자</th>\n",
       "      <th>취득금액</th>\n",
       "      <th>배출가스인증번호</th>\n",
       "    </tr>\n",
       "  </thead>\n",
       "  <tbody>\n",
       "    <tr>\n",
       "      <th>534831</th>\n",
       "      <td>20091013</td>\n",
       "      <td>1999</td>\n",
       "      <td>19991231.0</td>\n",
       "      <td>5000000.0</td>\n",
       "      <td>9MY-PP-14-W38</td>\n",
       "    </tr>\n",
       "  </tbody>\n",
       "</table>\n",
       "</div>"
      ],
      "text/plain": [
       "          최초등록일자  차량연식      차량제작일자       취득금액       배출가스인증번호\n",
       "534831  20091013  1999  19991231.0  5000000.0  9MY-PP-14-W38"
      ]
     },
     "execution_count": 100,
     "metadata": {},
     "output_type": "execute_result"
    }
   ],
   "source": [
    "# 2005년 미만 년도에서 맞지않는 배출가스인증번호 샘플 : 2\n",
    "gas_temp.loc[(gas_temp['차량연식'] < 2005) & (gas_temp['배출가스인증번호'].str.len() != 9 )]"
   ]
  },
  {
   "cell_type": "code",
   "execution_count": 101,
   "metadata": {},
   "outputs": [
    {
     "data": {
      "text/html": [
       "<div>\n",
       "<style scoped>\n",
       "    .dataframe tbody tr th:only-of-type {\n",
       "        vertical-align: middle;\n",
       "    }\n",
       "\n",
       "    .dataframe tbody tr th {\n",
       "        vertical-align: top;\n",
       "    }\n",
       "\n",
       "    .dataframe thead th {\n",
       "        text-align: right;\n",
       "    }\n",
       "</style>\n",
       "<table border=\"1\" class=\"dataframe\">\n",
       "  <thead>\n",
       "    <tr style=\"text-align: right;\">\n",
       "      <th></th>\n",
       "      <th>배출가스인증번호</th>\n",
       "      <th>차대번호</th>\n",
       "    </tr>\n",
       "  </thead>\n",
       "  <tbody>\n",
       "    <tr>\n",
       "      <th>0</th>\n",
       "      <td>7MY-DC-24-72</td>\n",
       "      <td>1</td>\n",
       "    </tr>\n",
       "    <tr>\n",
       "      <th>1</th>\n",
       "      <td>7MY-HD-24-30</td>\n",
       "      <td>8</td>\n",
       "    </tr>\n",
       "    <tr>\n",
       "      <th>2</th>\n",
       "      <td>8MY-DC-24-12</td>\n",
       "      <td>1</td>\n",
       "    </tr>\n",
       "    <tr>\n",
       "      <th>3</th>\n",
       "      <td>3MY-FK-08</td>\n",
       "      <td>1067</td>\n",
       "    </tr>\n",
       "    <tr>\n",
       "      <th>4</th>\n",
       "      <td>4MY-AD-20</td>\n",
       "      <td>38</td>\n",
       "    </tr>\n",
       "    <tr>\n",
       "      <th>...</th>\n",
       "      <td>...</td>\n",
       "      <td>...</td>\n",
       "    </tr>\n",
       "    <tr>\n",
       "      <th>298</th>\n",
       "      <td>XMY-HD-47</td>\n",
       "      <td>924</td>\n",
       "    </tr>\n",
       "    <tr>\n",
       "      <th>299</th>\n",
       "      <td>XMY-HD-48</td>\n",
       "      <td>364</td>\n",
       "    </tr>\n",
       "    <tr>\n",
       "      <th>300</th>\n",
       "      <td>XMY-HD-55</td>\n",
       "      <td>2532</td>\n",
       "    </tr>\n",
       "    <tr>\n",
       "      <th>301</th>\n",
       "      <td>XMY-KM-47</td>\n",
       "      <td>3217</td>\n",
       "    </tr>\n",
       "    <tr>\n",
       "      <th>302</th>\n",
       "      <td>YKM-KM-12</td>\n",
       "      <td>70</td>\n",
       "    </tr>\n",
       "  </tbody>\n",
       "</table>\n",
       "<p>303 rows × 2 columns</p>\n",
       "</div>"
      ],
      "text/plain": [
       "          배출가스인증번호  차대번호\n",
       "0     7MY-DC-24-72     1\n",
       "1     7MY-HD-24-30     8\n",
       "2     8MY-DC-24-12     1\n",
       "3        3MY-FK-08  1067\n",
       "4        4MY-AD-20    38\n",
       "..             ...   ...\n",
       "298      XMY-HD-47   924\n",
       "299      XMY-HD-48   364\n",
       "300      XMY-HD-55  2532\n",
       "301      XMY-KM-47  3217\n",
       "302      YKM-KM-12    70\n",
       "\n",
       "[303 rows x 2 columns]"
      ]
     },
     "execution_count": 101,
     "metadata": {},
     "output_type": "execute_result"
    }
   ],
   "source": [
    "num_by_gas_num = gas_df.groupby('배출가스인증번호')['차대번호'].count().reset_index()\n",
    "num_by_gas_num"
   ]
  },
  {
   "cell_type": "code",
   "execution_count": 102,
   "metadata": {},
   "outputs": [],
   "source": [
    "num_by_gas_num.to_excel('analysis/[G4][배출가스인증번호]유니크값_통계.xlsx', encoding='utf-8')"
   ]
  },
  {
   "cell_type": "code",
   "execution_count": 103,
   "metadata": {},
   "outputs": [
    {
     "data": {
      "text/plain": [
       "123003"
      ]
     },
     "execution_count": 103,
     "metadata": {},
     "output_type": "execute_result"
    }
   ],
   "source": [
    "gas_df['배출가스인증번호'].isnull().sum()"
   ]
  },
  {
   "attachments": {},
   "cell_type": "markdown",
   "metadata": {},
   "source": [
    "##### 오류 배출가스인증번호 유형 통계"
   ]
  },
  {
   "cell_type": "code",
   "execution_count": 104,
   "metadata": {},
   "outputs": [],
   "source": [
    "# - 총 오류 샘플 수 : 22024\n",
    "#     - 1번째 부분 3자리가 아닌 경우 : 17840\n",
    "#         - 빈 값(' ')인 경우 : 0\n",
    "#         - 바('-') 기호가 없는 경우 : 6\n",
    "#         - 1번째 부분 1자리인 경우(n-XXX-XX-XX) : 0\n",
    "#         - 1번째 부분 2자리인 경우(nn-XXX-XX-XX) : 0\n",
    "#         - 1번째 부분 4자리인 경우(nnnn-XXX-XX-XX) : 17834(17840)\n",
    "#\n",
    "#     - 2번째 부분 2자리가 아닌 경우 : 2827\n",
    "#         - 2번째 부분 1자리인 경우(XXX-n-XX-XX) : 0\n",
    "#         - 2번째 부분 3자리인 경우(XXX-nnn-XX-XX) : 2827\n",
    "#\n",
    "#     - 2번째 부분 2자리이면서 숫자만 있는 경우 : 0\n",
    "#\n",
    "#     - 3번째 부분 2자리가 아닌 경우 : 1\n",
    "#         - 3번째 부분 1자리인 경우(XXX-XX-n-XX) : 1\n",
    "#\n",
    "#     - 3번째 부분 2자리이면서 문자가 있는 경우 : 1356(19191)\n",
    "#\n",
    "#     - 4번째 부분 2자리가 아닌 경우 : 0(1999)\n",
    "#         - 중복 오류 : 1999\n",
    "#     - 4번째 부분 2자리이면서 문자가 있는 경우 : 0(19191)\n",
    "#         - 중복 오류 : 19191"
   ]
  },
  {
   "cell_type": "code",
   "execution_count": 105,
   "metadata": {},
   "outputs": [
    {
     "data": {
      "text/plain": [
       "30     6MY-SS-0M-24\n",
       "104    FMY-VTK-14-1\n",
       "131    FMY-VTK-14-1\n",
       "133    6MY-SS-0M-24\n",
       "134    FMY-VTK-14-1\n",
       "Name: 배출가스인증번호, dtype: object"
      ]
     },
     "execution_count": 105,
     "metadata": {},
     "output_type": "execute_result"
    }
   ],
   "source": [
    "gas_df.iloc[idx125[:5], 12]"
   ]
  },
  {
   "cell_type": "code",
   "execution_count": 106,
   "metadata": {},
   "outputs": [
    {
     "data": {
      "text/plain": [
       "30     6MY-SS-0M-24\n",
       "104    FMY-VTK-14-1\n",
       "131    FMY-VTK-14-1\n",
       "133    6MY-SS-0M-24\n",
       "134    FMY-VTK-14-1\n",
       "Name: 배출가스인증번호, dtype: object"
      ]
     },
     "execution_count": 106,
     "metadata": {},
     "output_type": "execute_result"
    }
   ],
   "source": [
    "gas_temp2 = gas_df.iloc[idx125, 12]\n",
    "gas_temp2.head()"
   ]
  },
  {
   "attachments": {},
   "cell_type": "markdown",
   "metadata": {},
   "source": [
    "###### 1번째 자리 오류 유형"
   ]
  },
  {
   "cell_type": "code",
   "execution_count": 107,
   "metadata": {},
   "outputs": [],
   "source": [
    "# 1번째 부분 3자리가 아닌 경우 : 17840\n",
    "#     - 빈 값(' ')인 경우 : 0\n",
    "#     - 바('-') 기호가 없는 경우 : 6\n",
    "#     - 1자리인 경우 : 0\n",
    "#     - 2자리인 경우 : 0\n",
    "#     - 4자리인 경우 : 17836"
   ]
  },
  {
   "cell_type": "code",
   "execution_count": 108,
   "metadata": {},
   "outputs": [
    {
     "name": "stderr",
     "output_type": "stream",
     "text": [
      "22024it [00:00, 415502.52it/s]\n"
     ]
    },
    {
     "data": {
      "text/plain": [
       "17840"
      ]
     },
     "execution_count": 108,
     "metadata": {},
     "output_type": "execute_result"
    }
   ],
   "source": [
    "# 1번째 부분 3자리가 아닌 경우 : 17840\n",
    "idx126 = []\n",
    "count = 0\n",
    "for i, one in tqdm(enumerate(gas_temp2.to_numpy())):\n",
    "    try:\n",
    "        if len(str(one).split('-')[0]) != 3:\n",
    "            idx126.append(gas_temp2.index[i])\n",
    "            count += 1\n",
    "    except:\n",
    "        pass\n",
    "count"
   ]
  },
  {
   "cell_type": "code",
   "execution_count": 109,
   "metadata": {},
   "outputs": [
    {
     "data": {
      "text/plain": [
       "877898           C135\n",
       "891638           C135\n",
       "898807           C135\n",
       "915591           C135\n",
       "960831           C135\n",
       "              ...    \n",
       "1528547    TY87-배K-03\n",
       "1528548    TY87-배K-03\n",
       "1528549    TY87-배K-03\n",
       "1528551    TY87-배K-03\n",
       "1528552    TY87-배K-03\n",
       "Name: 배출가스인증번호, Length: 17840, dtype: object"
      ]
     },
     "execution_count": 109,
     "metadata": {},
     "output_type": "execute_result"
    }
   ],
   "source": [
    "gas_df.iloc[idx126, 12]"
   ]
  },
  {
   "cell_type": "code",
   "execution_count": 110,
   "metadata": {},
   "outputs": [
    {
     "data": {
      "text/plain": [
       "'C135'"
      ]
     },
     "execution_count": 110,
     "metadata": {},
     "output_type": "execute_result"
    }
   ],
   "source": [
    "gas_df.iloc[idx126[0], 12]"
   ]
  },
  {
   "cell_type": "code",
   "execution_count": 111,
   "metadata": {},
   "outputs": [
    {
     "data": {
      "text/plain": [
       "0"
      ]
     },
     "execution_count": 111,
     "metadata": {},
     "output_type": "execute_result"
    }
   ],
   "source": [
    "# 빈 값(' ')인 경우 : 0\n",
    "count = 0\n",
    "idx126_1 = []\n",
    "for i, one in enumerate(gas_df.iloc[idx126, 12]):\n",
    "    if one == ' ':\n",
    "        idx126_1.append(gas_df.iloc[idx126, 12].index[i])\n",
    "        count += 1\n",
    "count"
   ]
  },
  {
   "cell_type": "code",
   "execution_count": 112,
   "metadata": {},
   "outputs": [
    {
     "data": {
      "text/plain": [
       "Series([], Name: 배출가스인증번호, dtype: object)"
      ]
     },
     "execution_count": 112,
     "metadata": {},
     "output_type": "execute_result"
    }
   ],
   "source": [
    "gas_df.iloc[idx126_1, 12]"
   ]
  },
  {
   "cell_type": "code",
   "execution_count": 113,
   "metadata": {},
   "outputs": [
    {
     "data": {
      "text/plain": [
       "6"
      ]
     },
     "execution_count": 113,
     "metadata": {},
     "output_type": "execute_result"
    }
   ],
   "source": [
    "# 바('-') 기호가 없는 경우 : 6\n",
    "count = 0\n",
    "idx126_2 = []\n",
    "for i, one in enumerate(gas_df.iloc[idx126, 12]):\n",
    "    if '-' not in one:\n",
    "        idx126_2.append(gas_df.iloc[idx126, 12].index[i])\n",
    "        count += 1\n",
    "count"
   ]
  },
  {
   "cell_type": "code",
   "execution_count": 114,
   "metadata": {},
   "outputs": [
    {
     "data": {
      "text/plain": [
       "973286    C135\n",
       "915591    C135\n",
       "891638    C135\n",
       "877898    C135\n",
       "898807    C135\n",
       "960831    C135\n",
       "Name: 배출가스인증번호, dtype: object"
      ]
     },
     "execution_count": 114,
     "metadata": {},
     "output_type": "execute_result"
    }
   ],
   "source": [
    "gas_df.iloc[list(set(idx126_2) - set(idx126_1)), 12]"
   ]
  },
  {
   "cell_type": "code",
   "execution_count": 115,
   "metadata": {},
   "outputs": [
    {
     "data": {
      "text/plain": [
       "6"
      ]
     },
     "execution_count": 115,
     "metadata": {},
     "output_type": "execute_result"
    }
   ],
   "source": [
    "len(list(set(idx126_2) - set(idx126_1)))"
   ]
  },
  {
   "cell_type": "code",
   "execution_count": 116,
   "metadata": {},
   "outputs": [
    {
     "name": "stderr",
     "output_type": "stream",
     "text": [
      "22024it [00:00, 759316.03it/s]\n"
     ]
    },
    {
     "data": {
      "text/plain": [
       "0"
      ]
     },
     "execution_count": 116,
     "metadata": {},
     "output_type": "execute_result"
    }
   ],
   "source": [
    "# 1번째 부분 1자리인 경우(n-XXX-XX-XX) : 0\n",
    "idx126_3 = []\n",
    "count = 0\n",
    "for i, one in tqdm(enumerate(gas_temp2.to_numpy())):\n",
    "    try:\n",
    "        if len(str(one).split('-')[0]) == 1:\n",
    "            idx126_3.append(gas_temp2.index[i])\n",
    "            count += 1\n",
    "    except:\n",
    "        pass\n",
    "count"
   ]
  },
  {
   "cell_type": "code",
   "execution_count": 117,
   "metadata": {},
   "outputs": [
    {
     "data": {
      "text/plain": [
       "Series([], Name: 배출가스인증번호, dtype: object)"
      ]
     },
     "execution_count": 117,
     "metadata": {},
     "output_type": "execute_result"
    }
   ],
   "source": [
    "gas_df.iloc[idx126_3[:5], 12]"
   ]
  },
  {
   "cell_type": "code",
   "execution_count": 118,
   "metadata": {},
   "outputs": [
    {
     "data": {
      "text/plain": [
       "True"
      ]
     },
     "execution_count": 118,
     "metadata": {},
     "output_type": "execute_result"
    }
   ],
   "source": [
    "set(idx126_1) == set(idx126_3)"
   ]
  },
  {
   "cell_type": "code",
   "execution_count": 119,
   "metadata": {},
   "outputs": [
    {
     "name": "stderr",
     "output_type": "stream",
     "text": [
      "22024it [00:00, 917569.10it/s]\n"
     ]
    },
    {
     "data": {
      "text/plain": [
       "0"
      ]
     },
     "execution_count": 119,
     "metadata": {},
     "output_type": "execute_result"
    }
   ],
   "source": [
    "# 1번째 부분 2자리인 경우(nn-XXX-XX-XX) : 0\n",
    "idx126_4 = []\n",
    "count = 0\n",
    "for i, one in tqdm(enumerate(gas_temp2.to_numpy())):\n",
    "    try:\n",
    "        if len(str(one).split('-')[0]) == 2:\n",
    "            idx126_4.append(gas_temp2.index[i])\n",
    "            count += 1\n",
    "    except:\n",
    "        pass\n",
    "count"
   ]
  },
  {
   "cell_type": "code",
   "execution_count": 120,
   "metadata": {},
   "outputs": [
    {
     "name": "stderr",
     "output_type": "stream",
     "text": [
      "22024it [00:00, 454339.27it/s]\n"
     ]
    },
    {
     "data": {
      "text/plain": [
       "17840"
      ]
     },
     "execution_count": 120,
     "metadata": {},
     "output_type": "execute_result"
    }
   ],
   "source": [
    "# 1번째 부분 4자리인 경우(nnnn-XXX-XX-XX) : 17834(17840)\n",
    "idx126_5 = []\n",
    "count = 0\n",
    "for i, one in tqdm(enumerate(gas_temp2.to_numpy())):\n",
    "    try:\n",
    "        if len(str(one).split('-')[0]) == 4:\n",
    "            idx126_5.append(gas_temp2.index[i])\n",
    "            count += 1\n",
    "    except:\n",
    "        pass\n",
    "count"
   ]
  },
  {
   "cell_type": "code",
   "execution_count": 121,
   "metadata": {},
   "outputs": [
    {
     "data": {
      "text/plain": [
       "17834"
      ]
     },
     "execution_count": 121,
     "metadata": {},
     "output_type": "execute_result"
    }
   ],
   "source": [
    "# 4자리인 경우(앞에서 중복된 샘플 제거) : 17834\n",
    "len(set(idx126_5) - set(idx126_1) - set(idx126_2))"
   ]
  },
  {
   "attachments": {},
   "cell_type": "markdown",
   "metadata": {},
   "source": [
    "###### 2번째 자리 오류 유형"
   ]
  },
  {
   "cell_type": "code",
   "execution_count": 122,
   "metadata": {},
   "outputs": [],
   "source": [
    "# 2번째 부분 2자리가 아닌 경우 : 2827\n",
    "#   - 2번째 부분 1자리인 경우(XXX-n-XX-XX) : 0\n",
    "#   - 2번째 부분 3자리인 경우(XXX-nnn-XX-XX) : 2827\n",
    "# 2번째 부분 2자리이면서 숫자만 있는 경우 : 0"
   ]
  },
  {
   "cell_type": "code",
   "execution_count": 123,
   "metadata": {},
   "outputs": [
    {
     "name": "stderr",
     "output_type": "stream",
     "text": [
      "22024it [00:00, 667283.21it/s]\n"
     ]
    },
    {
     "data": {
      "text/plain": [
       "2827"
      ]
     },
     "execution_count": 123,
     "metadata": {},
     "output_type": "execute_result"
    }
   ],
   "source": [
    "# 2번째 부분 2자리가 아닌 경우 : 2827\n",
    "idx127 = []\n",
    "count = 0\n",
    "for i, one in tqdm(enumerate(gas_temp2.to_numpy())):\n",
    "    try:\n",
    "        if len(str(one).split('-')[1]) != 2:\n",
    "            idx127.append(gas_temp2.index[i])\n",
    "            count += 1\n",
    "    except:\n",
    "        pass\n",
    "count"
   ]
  },
  {
   "cell_type": "code",
   "execution_count": 124,
   "metadata": {},
   "outputs": [
    {
     "data": {
      "text/plain": [
       "2827"
      ]
     },
     "execution_count": 124,
     "metadata": {},
     "output_type": "execute_result"
    }
   ],
   "source": [
    "len(set(idx127) - set(idx126))"
   ]
  },
  {
   "cell_type": "code",
   "execution_count": 125,
   "metadata": {},
   "outputs": [
    {
     "data": {
      "text/plain": [
       "104    FMY-VTK-14-1\n",
       "131    FMY-VTK-14-1\n",
       "134    FMY-VTK-14-1\n",
       "135    FMY-VTK-14-1\n",
       "137    FMY-VTK-14-1\n",
       "Name: 배출가스인증번호, dtype: object"
      ]
     },
     "execution_count": 125,
     "metadata": {},
     "output_type": "execute_result"
    }
   ],
   "source": [
    "gas_df.iloc[idx127[:5], 12]"
   ]
  },
  {
   "cell_type": "code",
   "execution_count": 126,
   "metadata": {},
   "outputs": [
    {
     "name": "stderr",
     "output_type": "stream",
     "text": [
      "22024it [00:00, 956989.77it/s]\n"
     ]
    },
    {
     "data": {
      "text/plain": [
       "0"
      ]
     },
     "execution_count": 126,
     "metadata": {},
     "output_type": "execute_result"
    }
   ],
   "source": [
    "# 2번째 부분 1자리인 경우(XXX-n-XX-XX) : 0\n",
    "idx127_1 = []\n",
    "count = 0\n",
    "for i, one in tqdm(enumerate(gas_temp2.to_numpy())):\n",
    "    try:\n",
    "        if len(str(one).split('-')[1]) == 1:\n",
    "            idx127_1.append(gas_temp2.index[i])\n",
    "            count += 1\n",
    "    except:\n",
    "        pass\n",
    "count"
   ]
  },
  {
   "cell_type": "code",
   "execution_count": 127,
   "metadata": {},
   "outputs": [
    {
     "data": {
      "text/plain": [
       "Series([], Name: 배출가스인증번호, dtype: object)"
      ]
     },
     "execution_count": 127,
     "metadata": {},
     "output_type": "execute_result"
    }
   ],
   "source": [
    "gas_df.iloc[idx127_1[:5], 12]"
   ]
  },
  {
   "cell_type": "code",
   "execution_count": 128,
   "metadata": {},
   "outputs": [
    {
     "name": "stderr",
     "output_type": "stream",
     "text": [
      "22024it [00:00, 709902.49it/s]\n"
     ]
    },
    {
     "data": {
      "text/plain": [
       "2827"
      ]
     },
     "execution_count": 128,
     "metadata": {},
     "output_type": "execute_result"
    }
   ],
   "source": [
    "# 2번째 부분 3자리인 경우(XXX-nnn-XX-XX) : 2827\n",
    "idx127_3 = []\n",
    "count = 0\n",
    "for i, one in tqdm(enumerate(gas_temp2.to_numpy())):\n",
    "    try:\n",
    "        if len(str(one).split('-')[1]) == 3:\n",
    "            idx127_3.append(gas_temp2.index[i])\n",
    "            count += 1\n",
    "    except:\n",
    "        pass\n",
    "count"
   ]
  },
  {
   "cell_type": "code",
   "execution_count": 129,
   "metadata": {},
   "outputs": [
    {
     "data": {
      "text/plain": [
       "104    FMY-VTK-14-1\n",
       "131    FMY-VTK-14-1\n",
       "134    FMY-VTK-14-1\n",
       "135    FMY-VTK-14-1\n",
       "137    FMY-VTK-14-1\n",
       "Name: 배출가스인증번호, dtype: object"
      ]
     },
     "execution_count": 129,
     "metadata": {},
     "output_type": "execute_result"
    }
   ],
   "source": [
    "gas_df.iloc[idx127_3[:5], 12]"
   ]
  },
  {
   "cell_type": "code",
   "execution_count": 130,
   "metadata": {},
   "outputs": [
    {
     "name": "stderr",
     "output_type": "stream",
     "text": [
      "22024it [00:00, 760472.47it/s]\n"
     ]
    },
    {
     "data": {
      "text/plain": [
       "0"
      ]
     },
     "execution_count": 130,
     "metadata": {},
     "output_type": "execute_result"
    }
   ],
   "source": [
    "# 2번째 부분 4자리인 경우(XXX-nnnn-XX-XX) : 0\n",
    "idx127_4 = []\n",
    "count = 0\n",
    "for i, one in tqdm(enumerate(gas_temp2.to_numpy())):\n",
    "    try:\n",
    "        if len(str(one).split('-')[1]) == 4:\n",
    "            idx127_4.append(gas_temp2.index[i])\n",
    "            count += 1\n",
    "    except:\n",
    "        pass\n",
    "count"
   ]
  },
  {
   "cell_type": "code",
   "execution_count": 131,
   "metadata": {},
   "outputs": [
    {
     "name": "stderr",
     "output_type": "stream",
     "text": [
      "22024it [00:00, 564479.34it/s]\n"
     ]
    },
    {
     "data": {
      "text/plain": [
       "0"
      ]
     },
     "execution_count": 131,
     "metadata": {},
     "output_type": "execute_result"
    }
   ],
   "source": [
    "# 2번째 부분 2자리이면서 숫자만 있는 경우 : 0\n",
    "idx127_5 = []\n",
    "p127_5 = re.compile('[0-9]+')\n",
    "count = 0\n",
    "for i, one in tqdm(enumerate(gas_temp2.to_numpy())):\n",
    "    try:\n",
    "        if (len(str(one).split('-')[1]) == 2) and p127_5.search(str(one).split('-')[1]):\n",
    "            idx127_5.append(gas_temp2.index[i])\n",
    "            count += 1\n",
    "    except:\n",
    "        pass\n",
    "count"
   ]
  },
  {
   "attachments": {},
   "cell_type": "markdown",
   "metadata": {},
   "source": [
    "###### 3번째 자리 오류 유형"
   ]
  },
  {
   "cell_type": "code",
   "execution_count": 132,
   "metadata": {},
   "outputs": [],
   "source": [
    "# 3번째 부분 2자리가 아닌 경우 : 1\n",
    "#   - 3번째 부분 1자리인 경우(XXX-XX-n-XX) : 1\n",
    "# 3번째 부분 2자리이면서 문자가 있는 경우 : 1356"
   ]
  },
  {
   "cell_type": "code",
   "execution_count": 133,
   "metadata": {},
   "outputs": [
    {
     "name": "stderr",
     "output_type": "stream",
     "text": [
      "22024it [00:00, 917605.56it/s]\n"
     ]
    },
    {
     "data": {
      "text/plain": [
       "1"
      ]
     },
     "execution_count": 133,
     "metadata": {},
     "output_type": "execute_result"
    }
   ],
   "source": [
    "# 3번째 부분 2자리가 아닌 경우 : 1\n",
    "idx128 = []\n",
    "count = 0\n",
    "for i, one in tqdm(enumerate(gas_temp2.to_numpy())):\n",
    "    try:\n",
    "        if len(str(one).split('-')[2]) != 2:\n",
    "            idx128.append(gas_temp2.index[i])\n",
    "            count += 1\n",
    "    except:\n",
    "        pass\n",
    "count"
   ]
  },
  {
   "cell_type": "code",
   "execution_count": 134,
   "metadata": {},
   "outputs": [
    {
     "data": {
      "text/plain": [
       "1187545    NMY-JK-S-107\n",
       "Name: 배출가스인증번호, dtype: object"
      ]
     },
     "execution_count": 134,
     "metadata": {},
     "output_type": "execute_result"
    }
   ],
   "source": [
    "gas_df.iloc[idx128, 12]"
   ]
  },
  {
   "cell_type": "code",
   "execution_count": 135,
   "metadata": {},
   "outputs": [
    {
     "data": {
      "text/plain": [
       "1"
      ]
     },
     "execution_count": 135,
     "metadata": {},
     "output_type": "execute_result"
    }
   ],
   "source": [
    "len(set(idx128) - set(idx126) - set(idx127))"
   ]
  },
  {
   "cell_type": "code",
   "execution_count": 136,
   "metadata": {},
   "outputs": [
    {
     "name": "stderr",
     "output_type": "stream",
     "text": [
      "22024it [00:00, 311956.64it/s]\n"
     ]
    },
    {
     "data": {
      "text/plain": [
       "22017"
      ]
     },
     "execution_count": 136,
     "metadata": {},
     "output_type": "execute_result"
    }
   ],
   "source": [
    "# 3번째 부분 2자리이면서 문자가 있는 경우 : 1356(19191)\n",
    "idx128_1 = []\n",
    "p128_1 = re.compile('[a-zA-Z가-힣]+')\n",
    "count = 0\n",
    "for i, one in tqdm(enumerate(gas_temp2.to_numpy())):\n",
    "    try:\n",
    "        if (len(str(one).split('-')[2]) == 2) and p128_1.search(str(one).split('-')[1]):\n",
    "            idx128_1.append(gas_temp2.index[i])\n",
    "            count += 1\n",
    "    except:\n",
    "        pass\n",
    "count"
   ]
  },
  {
   "cell_type": "code",
   "execution_count": 137,
   "metadata": {},
   "outputs": [
    {
     "data": {
      "text/plain": [
       "1356"
      ]
     },
     "execution_count": 137,
     "metadata": {},
     "output_type": "execute_result"
    }
   ],
   "source": [
    "# 3번째 부분 2자리이면서 문자가 있는 경우(앞에서 중복된 샘플 제거) : 1356\n",
    "len(set(idx128_1) - set(idx126) - set(idx127) - set(idx128))"
   ]
  },
  {
   "cell_type": "code",
   "execution_count": 138,
   "metadata": {},
   "outputs": [
    {
     "data": {
      "text/plain": [
       "958464    7MY-HC-0M-24\n",
       "933891    8MY-HS-0M-24\n",
       "901127    7MY-CH-0M-24\n",
       "958472    6MY-SS-0M-24\n",
       "958477    8MY-HT-0M-24\n",
       "Name: 배출가스인증번호, dtype: object"
      ]
     },
     "execution_count": 138,
     "metadata": {},
     "output_type": "execute_result"
    }
   ],
   "source": [
    "gas_df.iloc[list(set(idx128_1) - set(idx126) - set(idx127) - set(idx128))[:5], 12]"
   ]
  },
  {
   "attachments": {},
   "cell_type": "markdown",
   "metadata": {},
   "source": [
    "###### 4번째 자리 오류 유형"
   ]
  },
  {
   "cell_type": "code",
   "execution_count": 139,
   "metadata": {},
   "outputs": [],
   "source": [
    "# 4번째 부분 2자리가 아닌 경우 : 0(1999)\n",
    "#   - 중복 오류 : 1999\n",
    "# 4번째 부분 2자리이면서 문자가 있는 경우 : 0(19191)"
   ]
  },
  {
   "cell_type": "code",
   "execution_count": 140,
   "metadata": {},
   "outputs": [
    {
     "name": "stderr",
     "output_type": "stream",
     "text": [
      "22024it [00:00, 733743.34it/s]\n"
     ]
    },
    {
     "data": {
      "text/plain": [
       "1999"
      ]
     },
     "execution_count": 140,
     "metadata": {},
     "output_type": "execute_result"
    }
   ],
   "source": [
    "# 4번째 부분 2자리가 아닌 경우 : 0(1999)\n",
    "idx129 = []\n",
    "count = 0\n",
    "for i, one in tqdm(enumerate(gas_temp2.to_numpy())):\n",
    "    try:\n",
    "        if len(str(one).split('-')[3]) != 2:\n",
    "            idx129.append(gas_temp2.index[i])\n",
    "            count += 1\n",
    "    except:\n",
    "        pass\n",
    "count"
   ]
  },
  {
   "cell_type": "code",
   "execution_count": 141,
   "metadata": {},
   "outputs": [
    {
     "data": {
      "text/plain": [
       "104    FMY-VTK-14-1\n",
       "131    FMY-VTK-14-1\n",
       "134    FMY-VTK-14-1\n",
       "135    FMY-VTK-14-1\n",
       "137    FMY-VTK-14-1\n",
       "Name: 배출가스인증번호, dtype: object"
      ]
     },
     "execution_count": 141,
     "metadata": {},
     "output_type": "execute_result"
    }
   ],
   "source": [
    "gas_df.iloc[idx129[:5], 12]"
   ]
  },
  {
   "cell_type": "code",
   "execution_count": 142,
   "metadata": {},
   "outputs": [
    {
     "data": {
      "text/plain": [
       "0"
      ]
     },
     "execution_count": 142,
     "metadata": {},
     "output_type": "execute_result"
    }
   ],
   "source": [
    "# 중복 추출된 샘플 제거\n",
    "len(set(idx129) - set(idx126) - set(idx127) - set(idx128))"
   ]
  },
  {
   "cell_type": "code",
   "execution_count": 143,
   "metadata": {},
   "outputs": [
    {
     "name": "stderr",
     "output_type": "stream",
     "text": [
      "22024it [00:00, 323770.73it/s]\n"
     ]
    },
    {
     "data": {
      "text/plain": [
       "19191"
      ]
     },
     "execution_count": 143,
     "metadata": {},
     "output_type": "execute_result"
    }
   ],
   "source": [
    "# 4번째 부분 2자리이면서 문자가 있는 경우 : 0(19191)\n",
    "idx129_1 = []\n",
    "p129_1 = re.compile('[a-zA-Z가-힣]+')\n",
    "count = 0\n",
    "for i, one in tqdm(enumerate(gas_temp2.to_numpy())):\n",
    "    try:\n",
    "        if (len(str(one).split('-')[1]) == 2) and p129_1.search(str(one).split('-')[1]):\n",
    "            idx129_1.append(gas_temp2.index[i])\n",
    "            count += 1\n",
    "    except:\n",
    "        pass\n",
    "count"
   ]
  },
  {
   "cell_type": "code",
   "execution_count": 144,
   "metadata": {},
   "outputs": [
    {
     "data": {
      "text/plain": [
       "1"
      ]
     },
     "execution_count": 144,
     "metadata": {},
     "output_type": "execute_result"
    }
   ],
   "source": [
    "len(set(idx129_1) - set(idx126) - set(idx127) - set(idx128_1))"
   ]
  },
  {
   "attachments": {},
   "cell_type": "markdown",
   "metadata": {},
   "source": [
    "###### 한글이 포함된 경우"
   ]
  },
  {
   "cell_type": "code",
   "execution_count": 145,
   "metadata": {},
   "outputs": [
    {
     "name": "stderr",
     "output_type": "stream",
     "text": [
      "22024it [00:00, 512084.04it/s]\n"
     ]
    },
    {
     "data": {
      "text/plain": [
       "17834"
      ]
     },
     "execution_count": 145,
     "metadata": {},
     "output_type": "execute_result"
    }
   ],
   "source": [
    "idx1210 = []\n",
    "p1210 = re.compile('[가-힣]')\n",
    "count = 0\n",
    "for i, one in tqdm(enumerate(gas_temp2.to_numpy())):\n",
    "    try:\n",
    "        if p1210.search(one):\n",
    "            idx1210.append(gas_temp2.index[i])\n",
    "            count += 1\n",
    "    except:\n",
    "        pass\n",
    "count"
   ]
  },
  {
   "cell_type": "code",
   "execution_count": 146,
   "metadata": {},
   "outputs": [
    {
     "data": {
      "text/plain": [
       "0"
      ]
     },
     "execution_count": 146,
     "metadata": {},
     "output_type": "execute_result"
    }
   ],
   "source": [
    "len(set(idx1210) - set(idx129) - set(idx126) - set(idx127) - set(idx128))"
   ]
  },
  {
   "attachments": {},
   "cell_type": "markdown",
   "metadata": {},
   "source": [
    "#### 배출가스인증번호 미부여 현황\n",
    "- 필요한 컬럼 : 배출가스인증번호, 차량연식, 차량제작일자, 차명, 차종_제원정보, 차종분류, 차종유형, 자동차형식, 제작사명, 연료"
   ]
  },
  {
   "cell_type": "code",
   "execution_count": 147,
   "metadata": {},
   "outputs": [
    {
     "data": {
      "text/plain": [
       "Index(['차량관리번호', '차량등록번호', '본거지법정동코드', '소유자구분', '차종_등록정보', '용도', '차대번호',\n",
       "       '최초등록일자', '차량연식', '차량제작일자', '검사유효일', '제원관리번호', '배출가스인증번호', '배출가스등급',\n",
       "       '저공해조치종류', '저공해조치구조변경YN', '취득일자', '취득금액', '차명', '차종_제원정보', '차종분류',\n",
       "       '차종유형', '자동차형식', '제작사명', '연료', '엔진형식', '총중량', '적재중량', '엔진출력', '배기량',\n",
       "       '승차인원', '차량길이', '차량너비', '차량높이', '원산지명', '삭제YN', '제원승인일자', '구동형식',\n",
       "       '변속기종류', '차량말소YN', 'code1', '시도', '시구군', '폐지여부', '대기관리권역', '대기관리권역YN'],\n",
       "      dtype='object')"
      ]
     },
     "execution_count": 147,
     "metadata": {},
     "output_type": "execute_result"
    }
   ],
   "source": [
    "gas_df.columns"
   ]
  },
  {
   "cell_type": "code",
   "execution_count": 148,
   "metadata": {},
   "outputs": [
    {
     "data": {
      "text/html": [
       "<div>\n",
       "<style scoped>\n",
       "    .dataframe tbody tr th:only-of-type {\n",
       "        vertical-align: middle;\n",
       "    }\n",
       "\n",
       "    .dataframe tbody tr th {\n",
       "        vertical-align: top;\n",
       "    }\n",
       "\n",
       "    .dataframe thead th {\n",
       "        text-align: right;\n",
       "    }\n",
       "</style>\n",
       "<table border=\"1\" class=\"dataframe\">\n",
       "  <thead>\n",
       "    <tr style=\"text-align: right;\">\n",
       "      <th></th>\n",
       "      <th>배출가스인증번호</th>\n",
       "      <th>차량연식</th>\n",
       "      <th>차량제작일자</th>\n",
       "      <th>차명</th>\n",
       "      <th>차종_제원정보</th>\n",
       "      <th>차종분류</th>\n",
       "      <th>차종유형</th>\n",
       "      <th>제작사명</th>\n",
       "      <th>연료</th>\n",
       "    </tr>\n",
       "  </thead>\n",
       "  <tbody>\n",
       "    <tr>\n",
       "      <th>0</th>\n",
       "      <td>NaN</td>\n",
       "      <td>2008</td>\n",
       "      <td>20080924.0</td>\n",
       "      <td>메가트럭군물자수송</td>\n",
       "      <td>화물</td>\n",
       "      <td>특수용도형-특수용도형</td>\n",
       "      <td>대형</td>\n",
       "      <td>현대자동차(주)</td>\n",
       "      <td>경유</td>\n",
       "    </tr>\n",
       "    <tr>\n",
       "      <th>1</th>\n",
       "      <td>NaN</td>\n",
       "      <td>2008</td>\n",
       "      <td>20080605.0</td>\n",
       "      <td>신정4㎥급진공노면총소차</td>\n",
       "      <td>화물</td>\n",
       "      <td>특수용도형-특수용도형</td>\n",
       "      <td>대형</td>\n",
       "      <td>신정개발특장차 주식회사</td>\n",
       "      <td>경유</td>\n",
       "    </tr>\n",
       "    <tr>\n",
       "      <th>2</th>\n",
       "      <td>NaN</td>\n",
       "      <td>2008</td>\n",
       "      <td>20080221.0</td>\n",
       "      <td>윈스톰2.0S디젤</td>\n",
       "      <td>승용</td>\n",
       "      <td>다목적</td>\n",
       "      <td>중형</td>\n",
       "      <td>한국지엠주식회사</td>\n",
       "      <td>경유</td>\n",
       "    </tr>\n",
       "    <tr>\n",
       "      <th>3</th>\n",
       "      <td>NaN</td>\n",
       "      <td>2008</td>\n",
       "      <td>20080315.0</td>\n",
       "      <td>마이티냉동차</td>\n",
       "      <td>화물</td>\n",
       "      <td>특수용도형-특수용도형</td>\n",
       "      <td>중형</td>\n",
       "      <td>현대자동차(주)</td>\n",
       "      <td>경유</td>\n",
       "    </tr>\n",
       "    <tr>\n",
       "      <th>4</th>\n",
       "      <td>NaN</td>\n",
       "      <td>2007</td>\n",
       "      <td>20070227.0</td>\n",
       "      <td>리베로슈퍼렉커(LIBERO)</td>\n",
       "      <td>특수</td>\n",
       "      <td>구난</td>\n",
       "      <td>중형</td>\n",
       "      <td>현대자동차(주)</td>\n",
       "      <td>경유</td>\n",
       "    </tr>\n",
       "  </tbody>\n",
       "</table>\n",
       "</div>"
      ],
      "text/plain": [
       "  배출가스인증번호  차량연식      차량제작일자               차명 차종_제원정보         차종분류 차종유형  \\\n",
       "0      NaN  2008  20080924.0        메가트럭군물자수송      화물  특수용도형-특수용도형   대형   \n",
       "1      NaN  2008  20080605.0     신정4㎥급진공노면총소차      화물  특수용도형-특수용도형   대형   \n",
       "2      NaN  2008  20080221.0        윈스톰2.0S디젤      승용          다목적   중형   \n",
       "3      NaN  2008  20080315.0           마이티냉동차      화물  특수용도형-특수용도형   중형   \n",
       "4      NaN  2007  20070227.0  리베로슈퍼렉커(LIBERO)      특수           구난   중형   \n",
       "\n",
       "           제작사명  연료  \n",
       "0      현대자동차(주)  경유  \n",
       "1  신정개발특장차 주식회사  경유  \n",
       "2      한국지엠주식회사  경유  \n",
       "3      현대자동차(주)  경유  \n",
       "4      현대자동차(주)  경유  "
      ]
     },
     "execution_count": 148,
     "metadata": {},
     "output_type": "execute_result"
    }
   ],
   "source": [
    "gas_df.loc[gas_df['배출가스인증번호'].isnull() == True, ['배출가스인증번호', '차량연식', '차량제작일자', '차명', '차종_제원정보', '차종분류', '차종유형', '제작사명', '연료']].head()"
   ]
  },
  {
   "cell_type": "code",
   "execution_count": 149,
   "metadata": {},
   "outputs": [
    {
     "data": {
      "text/plain": [
       "Index(['차량관리번호', '차량등록번호', '본거지법정동코드', '소유자구분', '차종_등록정보', '용도', '차대번호',\n",
       "       '최초등록일자', '차량연식', '차량제작일자', '검사유효일', '제원관리번호', '배출가스인증번호', '배출가스등급',\n",
       "       '저공해조치종류', '저공해조치구조변경YN', '취득일자', '취득금액', '차명', '차종_제원정보', '차종분류',\n",
       "       '차종유형', '자동차형식', '제작사명', '연료', '엔진형식', '총중량', '적재중량', '엔진출력', '배기량',\n",
       "       '승차인원', '차량길이', '차량너비', '차량높이', '원산지명', '삭제YN', '제원승인일자', '구동형식',\n",
       "       '변속기종류', '차량말소YN', 'code1', '시도', '시구군', '폐지여부', '대기관리권역', '대기관리권역YN'],\n",
       "      dtype='object')"
      ]
     },
     "execution_count": 149,
     "metadata": {},
     "output_type": "execute_result"
    }
   ],
   "source": [
    "gas_df.columns"
   ]
  },
  {
   "cell_type": "code",
   "execution_count": 150,
   "metadata": {},
   "outputs": [
    {
     "data": {
      "text/plain": [
       "(123003, 40)"
      ]
     },
     "execution_count": 150,
     "metadata": {},
     "output_type": "execute_result"
    }
   ],
   "source": [
    "gas_df.loc[gas_df['배출가스인증번호'].isnull() == True, ['차량관리번호', '차량등록번호', '본거지법정동코드', '소유자구분', '차종_등록정보', '용도', '차대번호',\n",
    "       '최초등록일자', '차량연식', '차량제작일자', '검사유효일', '제원관리번호', '배출가스인증번호', '배출가스등급',\n",
    "       '저공해조치종류', '저공해조치구조변경YN', '차량말소YN', '취득일자', '취득금액', '차명', '차종_제원정보',\n",
    "       '차종분류', '차종유형', '자동차형식', '제작사명', '연료', '엔진형식', '총중량', '적재중량', '엔진출력',\n",
    "       '배기량', '승차인원', '차량길이', '차량너비', '차량높이', '원산지명', '삭제YN', '제원승인일자', '구동형식',\n",
    "       '변속기종류']].shape"
   ]
  },
  {
   "cell_type": "code",
   "execution_count": 151,
   "metadata": {},
   "outputs": [],
   "source": [
    "null_num_df = gas_df.loc[gas_df['배출가스인증번호'].isnull() == True, ['차량관리번호', '차량등록번호', '본거지법정동코드', '소유자구분', '차종_등록정보', '용도', '차대번호',\n",
    "       '최초등록일자', '차량연식', '차량제작일자', '검사유효일', '제원관리번호', '배출가스인증번호', '배출가스등급',\n",
    "       '저공해조치종류', '저공해조치구조변경YN', '차량말소YN', '취득일자', '취득금액', '차명', '차종_제원정보',\n",
    "       '차종분류', '차종유형', '자동차형식', '제작사명', '연료', '엔진형식', '총중량', '적재중량', '엔진출력',\n",
    "       '배기량', '승차인원', '차량길이', '차량너비', '차량높이', '원산지명', '삭제YN', '제원승인일자', '구동형식',\n",
    "       '변속기종류']]"
   ]
  },
  {
   "cell_type": "code",
   "execution_count": 152,
   "metadata": {},
   "outputs": [],
   "source": [
    "# [출력]4등급 차량 배출가스인증번호 미부여 샘플\n",
    "null_num_df.to_csv('analysis/[G4][배출가스인증번호]미부여_샘플.csv', encoding='cp949')"
   ]
  },
  {
   "cell_type": "code",
   "execution_count": 153,
   "metadata": {},
   "outputs": [
    {
     "data": {
      "text/html": [
       "<div>\n",
       "<style scoped>\n",
       "    .dataframe tbody tr th:only-of-type {\n",
       "        vertical-align: middle;\n",
       "    }\n",
       "\n",
       "    .dataframe tbody tr th {\n",
       "        vertical-align: top;\n",
       "    }\n",
       "\n",
       "    .dataframe thead th {\n",
       "        text-align: right;\n",
       "    }\n",
       "</style>\n",
       "<table border=\"1\" class=\"dataframe\">\n",
       "  <thead>\n",
       "    <tr style=\"text-align: right;\">\n",
       "      <th></th>\n",
       "      <th>엔진형식</th>\n",
       "      <th>차명</th>\n",
       "      <th>차량연식</th>\n",
       "      <th>차대번호</th>\n",
       "    </tr>\n",
       "  </thead>\n",
       "  <tbody>\n",
       "    <tr>\n",
       "      <th>0</th>\n",
       "      <td>D6GA</td>\n",
       "      <td>메가트럭군물자수송</td>\n",
       "      <td>2008</td>\n",
       "      <td>KMCLK18KP8C035195</td>\n",
       "    </tr>\n",
       "    <tr>\n",
       "      <th>1</th>\n",
       "      <td>D6GA</td>\n",
       "      <td>신정4㎥급진공노면총소차</td>\n",
       "      <td>2008</td>\n",
       "      <td>KMFLA18KP8C031274</td>\n",
       "    </tr>\n",
       "    <tr>\n",
       "      <th>2</th>\n",
       "      <td>Z20S</td>\n",
       "      <td>윈스톰2.0S디젤</td>\n",
       "      <td>2008</td>\n",
       "      <td>KLACA26RD8B226753</td>\n",
       "    </tr>\n",
       "    <tr>\n",
       "      <th>3</th>\n",
       "      <td>D4GA</td>\n",
       "      <td>마이티냉동차</td>\n",
       "      <td>2008</td>\n",
       "      <td>KMCGK17HP8C086937</td>\n",
       "    </tr>\n",
       "    <tr>\n",
       "      <th>4</th>\n",
       "      <td>D4CB</td>\n",
       "      <td>리베로슈퍼렉커(LIBERO)</td>\n",
       "      <td>2007</td>\n",
       "      <td>KMCYSS7JP7U084697</td>\n",
       "    </tr>\n",
       "  </tbody>\n",
       "</table>\n",
       "</div>"
      ],
      "text/plain": [
       "   엔진형식               차명  차량연식               차대번호\n",
       "0  D6GA        메가트럭군물자수송  2008  KMCLK18KP8C035195\n",
       "1  D6GA     신정4㎥급진공노면총소차  2008  KMFLA18KP8C031274\n",
       "2  Z20S        윈스톰2.0S디젤  2008  KLACA26RD8B226753\n",
       "3  D4GA           마이티냉동차  2008  KMCGK17HP8C086937\n",
       "4  D4CB  리베로슈퍼렉커(LIBERO)  2007  KMCYSS7JP7U084697"
      ]
     },
     "execution_count": 153,
     "metadata": {},
     "output_type": "execute_result"
    }
   ],
   "source": [
    "null_num_df[['엔진형식', '차명', '차량연식','차대번호']].head()"
   ]
  },
  {
   "cell_type": "code",
   "execution_count": 154,
   "metadata": {},
   "outputs": [
    {
     "data": {
      "text/plain": [
       "엔진형식          차명                   \n",
       "B3            프라이드                     9885\n",
       "F8C           티코(TICO)                 9435\n",
       "A15MF         에스페로1.5MT                4941\n",
       "C18LE         프린스1.8AT                 4591\n",
       "              프린스1.8MT                 4277\n",
       "                                       ... \n",
       "62M           PORSCHE 911 CARRERA 2       1\n",
       "              PORSCHE 911카레라2             1\n",
       "              포르쉐911카레라                   1\n",
       "              포르쉐911카레라카브리올레              1\n",
       "vg30-858076a  닛산세드릭                       1\n",
       "Name: 차대번호, Length: 3103, dtype: int64"
      ]
     },
     "execution_count": 154,
     "metadata": {},
     "output_type": "execute_result"
    }
   ],
   "source": [
    "null_num_df.groupby(['엔진형식', '차명'])['차대번호'].count().sort_values(ascending=False)"
   ]
  },
  {
   "cell_type": "code",
   "execution_count": 155,
   "metadata": {},
   "outputs": [],
   "source": [
    "null_num_df.groupby(['엔진형식', '차명'])['차대번호'].count().sort_values(ascending=False).to_excel('analysis/[G4][배출가스인증번호]미부여샘플_통계.xlsx')"
   ]
  },
  {
   "attachments": {},
   "cell_type": "markdown",
   "metadata": {},
   "source": [
    "##### 배출가스인증번호 미부여 데이터 확인"
   ]
  },
  {
   "cell_type": "code",
   "execution_count": 156,
   "metadata": {},
   "outputs": [],
   "source": [
    "# 배출가스인증번호 미부여 데이터 중\n",
    "# - 동일 엔진형식 중 1천대 이상의 샘플만 배출가스인증번호 유무 확인"
   ]
  },
  {
   "cell_type": "code",
   "execution_count": 157,
   "metadata": {},
   "outputs": [
    {
     "data": {
      "text/html": [
       "<div>\n",
       "<style scoped>\n",
       "    .dataframe tbody tr th:only-of-type {\n",
       "        vertical-align: middle;\n",
       "    }\n",
       "\n",
       "    .dataframe tbody tr th {\n",
       "        vertical-align: top;\n",
       "    }\n",
       "\n",
       "    .dataframe thead th {\n",
       "        text-align: right;\n",
       "    }\n",
       "</style>\n",
       "<table border=\"1\" class=\"dataframe\">\n",
       "  <thead>\n",
       "    <tr style=\"text-align: right;\">\n",
       "      <th></th>\n",
       "      <th>엔진형식</th>\n",
       "      <th>차명</th>\n",
       "      <th>차대번호</th>\n",
       "    </tr>\n",
       "  </thead>\n",
       "  <tbody>\n",
       "    <tr>\n",
       "      <th>0</th>\n",
       "      <td>B3</td>\n",
       "      <td>프라이드</td>\n",
       "      <td>9885</td>\n",
       "    </tr>\n",
       "    <tr>\n",
       "      <th>1</th>\n",
       "      <td>F8C</td>\n",
       "      <td>티코(TICO)</td>\n",
       "      <td>9435</td>\n",
       "    </tr>\n",
       "    <tr>\n",
       "      <th>2</th>\n",
       "      <td>A15MF</td>\n",
       "      <td>에스페로1.5MT</td>\n",
       "      <td>4941</td>\n",
       "    </tr>\n",
       "    <tr>\n",
       "      <th>3</th>\n",
       "      <td>C18LE</td>\n",
       "      <td>프린스1.8AT</td>\n",
       "      <td>4591</td>\n",
       "    </tr>\n",
       "    <tr>\n",
       "      <th>4</th>\n",
       "      <td>C18LE</td>\n",
       "      <td>프린스1.8MT</td>\n",
       "      <td>4277</td>\n",
       "    </tr>\n",
       "    <tr>\n",
       "      <th>...</th>\n",
       "      <td>...</td>\n",
       "      <td>...</td>\n",
       "      <td>...</td>\n",
       "    </tr>\n",
       "    <tr>\n",
       "      <th>3098</th>\n",
       "      <td>62M</td>\n",
       "      <td>PORSCHE 911 CARRERA 2</td>\n",
       "      <td>1</td>\n",
       "    </tr>\n",
       "    <tr>\n",
       "      <th>3099</th>\n",
       "      <td>62M</td>\n",
       "      <td>PORSCHE 911카레라2</td>\n",
       "      <td>1</td>\n",
       "    </tr>\n",
       "    <tr>\n",
       "      <th>3100</th>\n",
       "      <td>62M</td>\n",
       "      <td>포르쉐911카레라</td>\n",
       "      <td>1</td>\n",
       "    </tr>\n",
       "    <tr>\n",
       "      <th>3101</th>\n",
       "      <td>62M</td>\n",
       "      <td>포르쉐911카레라카브리올레</td>\n",
       "      <td>1</td>\n",
       "    </tr>\n",
       "    <tr>\n",
       "      <th>3102</th>\n",
       "      <td>vg30-858076a</td>\n",
       "      <td>닛산세드릭</td>\n",
       "      <td>1</td>\n",
       "    </tr>\n",
       "  </tbody>\n",
       "</table>\n",
       "<p>3103 rows × 3 columns</p>\n",
       "</div>"
      ],
      "text/plain": [
       "              엔진형식                     차명  차대번호\n",
       "0               B3                   프라이드  9885\n",
       "1              F8C               티코(TICO)  9435\n",
       "2            A15MF              에스페로1.5MT  4941\n",
       "3            C18LE               프린스1.8AT  4591\n",
       "4            C18LE               프린스1.8MT  4277\n",
       "...            ...                    ...   ...\n",
       "3098           62M  PORSCHE 911 CARRERA 2     1\n",
       "3099           62M        PORSCHE 911카레라2     1\n",
       "3100           62M              포르쉐911카레라     1\n",
       "3101           62M         포르쉐911카레라카브리올레     1\n",
       "3102  vg30-858076a                  닛산세드릭     1\n",
       "\n",
       "[3103 rows x 3 columns]"
      ]
     },
     "execution_count": 157,
     "metadata": {},
     "output_type": "execute_result"
    }
   ],
   "source": [
    "miss_gas_num_df = null_num_df.groupby(['엔진형식', '차명'])['차대번호'].count().sort_values(ascending=False).reset_index()\n",
    "miss_gas_num_df"
   ]
  },
  {
   "cell_type": "code",
   "execution_count": 158,
   "metadata": {},
   "outputs": [
    {
     "data": {
      "text/html": [
       "<div>\n",
       "<style scoped>\n",
       "    .dataframe tbody tr th:only-of-type {\n",
       "        vertical-align: middle;\n",
       "    }\n",
       "\n",
       "    .dataframe tbody tr th {\n",
       "        vertical-align: top;\n",
       "    }\n",
       "\n",
       "    .dataframe thead th {\n",
       "        text-align: right;\n",
       "    }\n",
       "</style>\n",
       "<table border=\"1\" class=\"dataframe\">\n",
       "  <thead>\n",
       "    <tr style=\"text-align: right;\">\n",
       "      <th></th>\n",
       "      <th>엔진형식</th>\n",
       "      <th>차명</th>\n",
       "      <th>차대번호</th>\n",
       "    </tr>\n",
       "  </thead>\n",
       "  <tbody>\n",
       "    <tr>\n",
       "      <th>0</th>\n",
       "      <td>B3</td>\n",
       "      <td>프라이드</td>\n",
       "      <td>9885</td>\n",
       "    </tr>\n",
       "    <tr>\n",
       "      <th>1</th>\n",
       "      <td>F8C</td>\n",
       "      <td>티코(TICO)</td>\n",
       "      <td>9435</td>\n",
       "    </tr>\n",
       "    <tr>\n",
       "      <th>2</th>\n",
       "      <td>A15MF</td>\n",
       "      <td>에스페로1.5MT</td>\n",
       "      <td>4941</td>\n",
       "    </tr>\n",
       "    <tr>\n",
       "      <th>3</th>\n",
       "      <td>C18LE</td>\n",
       "      <td>프린스1.8AT</td>\n",
       "      <td>4591</td>\n",
       "    </tr>\n",
       "    <tr>\n",
       "      <th>4</th>\n",
       "      <td>C18LE</td>\n",
       "      <td>프린스1.8MT</td>\n",
       "      <td>4277</td>\n",
       "    </tr>\n",
       "    <tr>\n",
       "      <th>5</th>\n",
       "      <td>F8C</td>\n",
       "      <td>티코(TICO)오토</td>\n",
       "      <td>2710</td>\n",
       "    </tr>\n",
       "    <tr>\n",
       "      <th>6</th>\n",
       "      <td>G15SF</td>\n",
       "      <td>르망</td>\n",
       "      <td>2571</td>\n",
       "    </tr>\n",
       "    <tr>\n",
       "      <th>7</th>\n",
       "      <td>C20LE</td>\n",
       "      <td>수퍼살롱2.0AT</td>\n",
       "      <td>2299</td>\n",
       "    </tr>\n",
       "    <tr>\n",
       "      <th>8</th>\n",
       "      <td>A15DMS</td>\n",
       "      <td>누비라1.5</td>\n",
       "      <td>2122</td>\n",
       "    </tr>\n",
       "    <tr>\n",
       "      <th>9</th>\n",
       "      <td>G4AJ</td>\n",
       "      <td>프레스토</td>\n",
       "      <td>2074</td>\n",
       "    </tr>\n",
       "    <tr>\n",
       "      <th>10</th>\n",
       "      <td>C20LE</td>\n",
       "      <td>프린스2.0AT</td>\n",
       "      <td>2009</td>\n",
       "    </tr>\n",
       "    <tr>\n",
       "      <th>11</th>\n",
       "      <td>A15MF</td>\n",
       "      <td>에스페로1.5AT</td>\n",
       "      <td>1948</td>\n",
       "    </tr>\n",
       "    <tr>\n",
       "      <th>12</th>\n",
       "      <td>F8CV</td>\n",
       "      <td>마티즈(MATIZ)</td>\n",
       "      <td>1903</td>\n",
       "    </tr>\n",
       "    <tr>\n",
       "      <th>13</th>\n",
       "      <td>G15MF</td>\n",
       "      <td>르망</td>\n",
       "      <td>1776</td>\n",
       "    </tr>\n",
       "    <tr>\n",
       "      <th>14</th>\n",
       "      <td>F8CV</td>\n",
       "      <td>마티즈</td>\n",
       "      <td>1687</td>\n",
       "    </tr>\n",
       "    <tr>\n",
       "      <th>15</th>\n",
       "      <td>G4CS</td>\n",
       "      <td>그랜저2.4</td>\n",
       "      <td>1635</td>\n",
       "    </tr>\n",
       "    <tr>\n",
       "      <th>16</th>\n",
       "      <td>B3</td>\n",
       "      <td>아벨라</td>\n",
       "      <td>1544</td>\n",
       "    </tr>\n",
       "    <tr>\n",
       "      <th>17</th>\n",
       "      <td>B3</td>\n",
       "      <td>프라이드오토</td>\n",
       "      <td>1483</td>\n",
       "    </tr>\n",
       "    <tr>\n",
       "      <th>18</th>\n",
       "      <td>CD800</td>\n",
       "      <td>타우너</td>\n",
       "      <td>1432</td>\n",
       "    </tr>\n",
       "    <tr>\n",
       "      <th>19</th>\n",
       "      <td>C32A2</td>\n",
       "      <td>아카디아(ARCADIA)</td>\n",
       "      <td>1426</td>\n",
       "    </tr>\n",
       "    <tr>\n",
       "      <th>20</th>\n",
       "      <td>A15SMS</td>\n",
       "      <td>라노스1.5</td>\n",
       "      <td>1398</td>\n",
       "    </tr>\n",
       "    <tr>\n",
       "      <th>21</th>\n",
       "      <td>642982</td>\n",
       "      <td>300C</td>\n",
       "      <td>1104</td>\n",
       "    </tr>\n",
       "    <tr>\n",
       "      <th>22</th>\n",
       "      <td>D5244T</td>\n",
       "      <td>볼보 S80D5</td>\n",
       "      <td>1020</td>\n",
       "    </tr>\n",
       "  </tbody>\n",
       "</table>\n",
       "</div>"
      ],
      "text/plain": [
       "      엔진형식             차명  차대번호\n",
       "0       B3           프라이드  9885\n",
       "1      F8C       티코(TICO)  9435\n",
       "2    A15MF      에스페로1.5MT  4941\n",
       "3    C18LE       프린스1.8AT  4591\n",
       "4    C18LE       프린스1.8MT  4277\n",
       "5      F8C     티코(TICO)오토  2710\n",
       "6    G15SF             르망  2571\n",
       "7    C20LE      수퍼살롱2.0AT  2299\n",
       "8   A15DMS         누비라1.5  2122\n",
       "9     G4AJ           프레스토  2074\n",
       "10   C20LE       프린스2.0AT  2009\n",
       "11   A15MF      에스페로1.5AT  1948\n",
       "12    F8CV     마티즈(MATIZ)  1903\n",
       "13   G15MF             르망  1776\n",
       "14    F8CV            마티즈  1687\n",
       "15    G4CS         그랜저2.4  1635\n",
       "16      B3            아벨라  1544\n",
       "17      B3         프라이드오토  1483\n",
       "18   CD800            타우너  1432\n",
       "19   C32A2  아카디아(ARCADIA)  1426\n",
       "20  A15SMS         라노스1.5  1398\n",
       "21  642982           300C  1104\n",
       "22  D5244T       볼보 S80D5  1020"
      ]
     },
     "execution_count": 158,
     "metadata": {},
     "output_type": "execute_result"
    }
   ],
   "source": [
    "temp = miss_gas_num_df[miss_gas_num_df['차대번호'] >= 1000]\n",
    "temp"
   ]
  },
  {
   "cell_type": "code",
   "execution_count": 159,
   "metadata": {},
   "outputs": [
    {
     "name": "stdout",
     "output_type": "stream",
     "text": [
      "B3\n",
      "        엔진형식    배출가스인증번호    차명\n",
      "1480586   B3  TY87-배K-03  프라이드\n",
      "\n",
      "G15SF\n",
      "          엔진형식    배출가스인증번호  차명\n",
      "1349480  G15SF  TY87-배K-02  르망\n",
      "\n",
      "G4CS\n",
      "         엔진형식   배출가스인증번호      차명\n",
      "1223970  G4CS  LMY-HD-08  그랜저2.4\n",
      "\n",
      "B3\n",
      "        엔진형식   배출가스인증번호   차명\n",
      "1225014   B3  PMY-KM-20  아벨라\n",
      "\n",
      "CD800\n",
      "          엔진형식   배출가스인증번호   차명\n",
      "1264214  CD800  SMY-KM-04  타우너\n",
      "\n",
      "D5244T\n",
      "          엔진형식     배출가스인증번호        차명\n",
      "268522  D5244T  6MY-PA-14-4  볼보 S80D5\n",
      "\n"
     ]
    }
   ],
   "source": [
    "# 제원정보에서 해당 엔진형식을 통해 배출가스인증번호 확인 여부 확인\n",
    "count = 0\n",
    "for one, two in zip(temp['엔진형식'], temp['차명']):\n",
    "    if gas_df.loc[ (gas_df['엔진형식'] == one) & (gas_df['차명'] == two), ['엔진형식' ,'배출가스인증번호', '차명'] ].drop_duplicates(['배출가스인증번호', '차명'], keep='first').dropna(subset=['배출가스인증번호']).shape[0] != 0:\n",
    "        print(one)\n",
    "        print( gas_df.loc[ (gas_df['엔진형식'] == one) & (gas_df['차명'] == two), ['엔진형식' ,'배출가스인증번호', '차명'] ].drop_duplicates(['배출가스인증번호', '차명'], keep='first').dropna(subset=['배출가스인증번호']))\n",
    "        print()\n",
    "        count += 1 "
   ]
  },
  {
   "cell_type": "code",
   "execution_count": 160,
   "metadata": {},
   "outputs": [
    {
     "data": {
      "text/plain": [
       "6"
      ]
     },
     "execution_count": 160,
     "metadata": {},
     "output_type": "execute_result"
    }
   ],
   "source": [
    "count"
   ]
  },
  {
   "cell_type": "code",
   "execution_count": 161,
   "metadata": {},
   "outputs": [
    {
     "data": {
      "text/html": [
       "<div>\n",
       "<style scoped>\n",
       "    .dataframe tbody tr th:only-of-type {\n",
       "        vertical-align: middle;\n",
       "    }\n",
       "\n",
       "    .dataframe tbody tr th {\n",
       "        vertical-align: top;\n",
       "    }\n",
       "\n",
       "    .dataframe thead th {\n",
       "        text-align: right;\n",
       "    }\n",
       "</style>\n",
       "<table border=\"1\" class=\"dataframe\">\n",
       "  <thead>\n",
       "    <tr style=\"text-align: right;\">\n",
       "      <th></th>\n",
       "      <th>엔진형식</th>\n",
       "      <th>배출가스인증번호</th>\n",
       "      <th>차명</th>\n",
       "    </tr>\n",
       "  </thead>\n",
       "  <tbody>\n",
       "    <tr>\n",
       "      <th>211236</th>\n",
       "      <td>B3</td>\n",
       "      <td>PMY-KM-20</td>\n",
       "      <td>KIA AVELLA</td>\n",
       "    </tr>\n",
       "    <tr>\n",
       "      <th>1170976</th>\n",
       "      <td>B3</td>\n",
       "      <td>NaN</td>\n",
       "      <td>프라이드베타</td>\n",
       "    </tr>\n",
       "    <tr>\n",
       "      <th>1171409</th>\n",
       "      <td>B3</td>\n",
       "      <td>NaN</td>\n",
       "      <td>아벨라</td>\n",
       "    </tr>\n",
       "    <tr>\n",
       "      <th>1173517</th>\n",
       "      <td>B3</td>\n",
       "      <td>NaN</td>\n",
       "      <td>프라이드</td>\n",
       "    </tr>\n",
       "    <tr>\n",
       "      <th>1183908</th>\n",
       "      <td>B3</td>\n",
       "      <td>NaN</td>\n",
       "      <td>프라이드웨곤</td>\n",
       "    </tr>\n",
       "    <tr>\n",
       "      <th>1189503</th>\n",
       "      <td>B3</td>\n",
       "      <td>NaN</td>\n",
       "      <td>프라이드오토</td>\n",
       "    </tr>\n",
       "    <tr>\n",
       "      <th>1200996</th>\n",
       "      <td>B3</td>\n",
       "      <td>NaN</td>\n",
       "      <td>프라이드프렌드</td>\n",
       "    </tr>\n",
       "    <tr>\n",
       "      <th>1201892</th>\n",
       "      <td>B3</td>\n",
       "      <td>PMY-KM-20</td>\n",
       "      <td>델타</td>\n",
       "    </tr>\n",
       "    <tr>\n",
       "      <th>1205133</th>\n",
       "      <td>B3</td>\n",
       "      <td>NaN</td>\n",
       "      <td>프라이드밴</td>\n",
       "    </tr>\n",
       "    <tr>\n",
       "      <th>1212358</th>\n",
       "      <td>B3</td>\n",
       "      <td>NaN</td>\n",
       "      <td>프라이드장애자차</td>\n",
       "    </tr>\n",
       "    <tr>\n",
       "      <th>1217545</th>\n",
       "      <td>B3</td>\n",
       "      <td>NaN</td>\n",
       "      <td>프라이드웨곤방문보건용차</td>\n",
       "    </tr>\n",
       "    <tr>\n",
       "      <th>1219774</th>\n",
       "      <td>B3</td>\n",
       "      <td>NaN</td>\n",
       "      <td>프라이드베타오토</td>\n",
       "    </tr>\n",
       "    <tr>\n",
       "      <th>1225014</th>\n",
       "      <td>B3</td>\n",
       "      <td>PMY-KM-20</td>\n",
       "      <td>아벨라</td>\n",
       "    </tr>\n",
       "    <tr>\n",
       "      <th>1227811</th>\n",
       "      <td>B3</td>\n",
       "      <td>PMY-KM-20</td>\n",
       "      <td>아벨라운전교습차</td>\n",
       "    </tr>\n",
       "    <tr>\n",
       "      <th>1228534</th>\n",
       "      <td>B3</td>\n",
       "      <td>PMY-KM-20</td>\n",
       "      <td>아벨라델타운전교습차</td>\n",
       "    </tr>\n",
       "    <tr>\n",
       "      <th>1231660</th>\n",
       "      <td>B3</td>\n",
       "      <td>NaN</td>\n",
       "      <td>아벨라델타운전교습차</td>\n",
       "    </tr>\n",
       "    <tr>\n",
       "      <th>1238165</th>\n",
       "      <td>B3</td>\n",
       "      <td>NaN</td>\n",
       "      <td>프라이드베타장애자차</td>\n",
       "    </tr>\n",
       "    <tr>\n",
       "      <th>1261060</th>\n",
       "      <td>B3</td>\n",
       "      <td>NaN</td>\n",
       "      <td>아벨라운전교습차</td>\n",
       "    </tr>\n",
       "    <tr>\n",
       "      <th>1273347</th>\n",
       "      <td>B3</td>\n",
       "      <td>NaN</td>\n",
       "      <td>BT-57</td>\n",
       "    </tr>\n",
       "    <tr>\n",
       "      <th>1305234</th>\n",
       "      <td>B3</td>\n",
       "      <td>TY87-배K-03</td>\n",
       "      <td>프라이드베타오토</td>\n",
       "    </tr>\n",
       "    <tr>\n",
       "      <th>1373305</th>\n",
       "      <td>B3</td>\n",
       "      <td>RMY-KM-25</td>\n",
       "      <td>프라이드베타</td>\n",
       "    </tr>\n",
       "    <tr>\n",
       "      <th>1374552</th>\n",
       "      <td>B3</td>\n",
       "      <td>NaN</td>\n",
       "      <td>프라이드 오토</td>\n",
       "    </tr>\n",
       "    <tr>\n",
       "      <th>1376211</th>\n",
       "      <td>B3</td>\n",
       "      <td>TY87-배K-03</td>\n",
       "      <td>프라이드베타</td>\n",
       "    </tr>\n",
       "    <tr>\n",
       "      <th>1480586</th>\n",
       "      <td>B3</td>\n",
       "      <td>TY87-배K-03</td>\n",
       "      <td>프라이드</td>\n",
       "    </tr>\n",
       "  </tbody>\n",
       "</table>\n",
       "</div>"
      ],
      "text/plain": [
       "        엔진형식    배출가스인증번호            차명\n",
       "211236    B3   PMY-KM-20    KIA AVELLA\n",
       "1170976   B3         NaN        프라이드베타\n",
       "1171409   B3         NaN           아벨라\n",
       "1173517   B3         NaN          프라이드\n",
       "1183908   B3         NaN        프라이드웨곤\n",
       "1189503   B3         NaN        프라이드오토\n",
       "1200996   B3         NaN       프라이드프렌드\n",
       "1201892   B3   PMY-KM-20            델타\n",
       "1205133   B3         NaN         프라이드밴\n",
       "1212358   B3         NaN      프라이드장애자차\n",
       "1217545   B3         NaN  프라이드웨곤방문보건용차\n",
       "1219774   B3         NaN      프라이드베타오토\n",
       "1225014   B3   PMY-KM-20           아벨라\n",
       "1227811   B3   PMY-KM-20      아벨라운전교습차\n",
       "1228534   B3   PMY-KM-20    아벨라델타운전교습차\n",
       "1231660   B3         NaN    아벨라델타운전교습차\n",
       "1238165   B3         NaN    프라이드베타장애자차\n",
       "1261060   B3         NaN      아벨라운전교습차\n",
       "1273347   B3         NaN         BT-57\n",
       "1305234   B3  TY87-배K-03      프라이드베타오토\n",
       "1373305   B3   RMY-KM-25        프라이드베타\n",
       "1374552   B3         NaN       프라이드 오토\n",
       "1376211   B3  TY87-배K-03        프라이드베타\n",
       "1480586   B3  TY87-배K-03          프라이드"
      ]
     },
     "execution_count": 161,
     "metadata": {},
     "output_type": "execute_result"
    }
   ],
   "source": [
    "gas_df.loc[gas_df['엔진형식'] == 'B3', ['엔진형식' ,'배출가스인증번호', '차명']].drop_duplicates(['배출가스인증번호', '차명'])"
   ]
  },
  {
   "cell_type": "code",
   "execution_count": 162,
   "metadata": {},
   "outputs": [
    {
     "data": {
      "text/html": [
       "<div>\n",
       "<style scoped>\n",
       "    .dataframe tbody tr th:only-of-type {\n",
       "        vertical-align: middle;\n",
       "    }\n",
       "\n",
       "    .dataframe tbody tr th {\n",
       "        vertical-align: top;\n",
       "    }\n",
       "\n",
       "    .dataframe thead th {\n",
       "        text-align: right;\n",
       "    }\n",
       "</style>\n",
       "<table border=\"1\" class=\"dataframe\">\n",
       "  <thead>\n",
       "    <tr style=\"text-align: right;\">\n",
       "      <th></th>\n",
       "      <th>엔진형식</th>\n",
       "      <th>배출가스인증번호</th>\n",
       "      <th>차명</th>\n",
       "    </tr>\n",
       "  </thead>\n",
       "  <tbody>\n",
       "    <tr>\n",
       "      <th>211236</th>\n",
       "      <td>B3</td>\n",
       "      <td>PMY-KM-20</td>\n",
       "      <td>KIA AVELLA</td>\n",
       "    </tr>\n",
       "    <tr>\n",
       "      <th>1201892</th>\n",
       "      <td>B3</td>\n",
       "      <td>PMY-KM-20</td>\n",
       "      <td>델타</td>\n",
       "    </tr>\n",
       "    <tr>\n",
       "      <th>1225014</th>\n",
       "      <td>B3</td>\n",
       "      <td>PMY-KM-20</td>\n",
       "      <td>아벨라</td>\n",
       "    </tr>\n",
       "    <tr>\n",
       "      <th>1227811</th>\n",
       "      <td>B3</td>\n",
       "      <td>PMY-KM-20</td>\n",
       "      <td>아벨라운전교습차</td>\n",
       "    </tr>\n",
       "    <tr>\n",
       "      <th>1228534</th>\n",
       "      <td>B3</td>\n",
       "      <td>PMY-KM-20</td>\n",
       "      <td>아벨라델타운전교습차</td>\n",
       "    </tr>\n",
       "    <tr>\n",
       "      <th>1305234</th>\n",
       "      <td>B3</td>\n",
       "      <td>TY87-배K-03</td>\n",
       "      <td>프라이드베타오토</td>\n",
       "    </tr>\n",
       "    <tr>\n",
       "      <th>1373305</th>\n",
       "      <td>B3</td>\n",
       "      <td>RMY-KM-25</td>\n",
       "      <td>프라이드베타</td>\n",
       "    </tr>\n",
       "    <tr>\n",
       "      <th>1376211</th>\n",
       "      <td>B3</td>\n",
       "      <td>TY87-배K-03</td>\n",
       "      <td>프라이드베타</td>\n",
       "    </tr>\n",
       "    <tr>\n",
       "      <th>1480586</th>\n",
       "      <td>B3</td>\n",
       "      <td>TY87-배K-03</td>\n",
       "      <td>프라이드</td>\n",
       "    </tr>\n",
       "  </tbody>\n",
       "</table>\n",
       "</div>"
      ],
      "text/plain": [
       "        엔진형식    배출가스인증번호          차명\n",
       "211236    B3   PMY-KM-20  KIA AVELLA\n",
       "1201892   B3   PMY-KM-20          델타\n",
       "1225014   B3   PMY-KM-20         아벨라\n",
       "1227811   B3   PMY-KM-20    아벨라운전교습차\n",
       "1228534   B3   PMY-KM-20  아벨라델타운전교습차\n",
       "1305234   B3  TY87-배K-03    프라이드베타오토\n",
       "1373305   B3   RMY-KM-25      프라이드베타\n",
       "1376211   B3  TY87-배K-03      프라이드베타\n",
       "1480586   B3  TY87-배K-03        프라이드"
      ]
     },
     "execution_count": 162,
     "metadata": {},
     "output_type": "execute_result"
    }
   ],
   "source": [
    "gas_df.loc[gas_df['엔진형식'] == 'B3', ['엔진형식' ,'배출가스인증번호', '차명']].drop_duplicates(['배출가스인증번호', '차명']).dropna(subset=['배출가스인증번호'])"
   ]
  },
  {
   "cell_type": "code",
   "execution_count": 163,
   "metadata": {},
   "outputs": [],
   "source": [
    "# 제원정보에서 해당 엔진형식을 통해 배출가스인증번호 확인 여부 확인\n",
    "t_temp = pd.DataFrame()\n",
    "for one in temp['엔진형식']:\n",
    "    temp = gas_df.loc[gas_df['엔진형식'] == one, ['엔진형식' ,'배출가스인증번호', '차명']].drop_duplicates(['배출가스인증번호', '차명']).dropna(subset=['배출가스인증번호'])\n",
    "    if temp.shape[0] != 0:\n",
    "        t_temp = pd.concat([t_temp, temp], ignore_index=True)"
   ]
  },
  {
   "cell_type": "code",
   "execution_count": 164,
   "metadata": {},
   "outputs": [
    {
     "data": {
      "text/html": [
       "<div>\n",
       "<style scoped>\n",
       "    .dataframe tbody tr th:only-of-type {\n",
       "        vertical-align: middle;\n",
       "    }\n",
       "\n",
       "    .dataframe tbody tr th {\n",
       "        vertical-align: top;\n",
       "    }\n",
       "\n",
       "    .dataframe thead th {\n",
       "        text-align: right;\n",
       "    }\n",
       "</style>\n",
       "<table border=\"1\" class=\"dataframe\">\n",
       "  <thead>\n",
       "    <tr style=\"text-align: right;\">\n",
       "      <th></th>\n",
       "      <th>엔진형식</th>\n",
       "      <th>배출가스인증번호</th>\n",
       "      <th>차명</th>\n",
       "    </tr>\n",
       "  </thead>\n",
       "  <tbody>\n",
       "    <tr>\n",
       "      <th>0</th>\n",
       "      <td>B3</td>\n",
       "      <td>PMY-KM-20</td>\n",
       "      <td>KIA AVELLA</td>\n",
       "    </tr>\n",
       "    <tr>\n",
       "      <th>1</th>\n",
       "      <td>B3</td>\n",
       "      <td>PMY-KM-20</td>\n",
       "      <td>델타</td>\n",
       "    </tr>\n",
       "    <tr>\n",
       "      <th>2</th>\n",
       "      <td>B3</td>\n",
       "      <td>PMY-KM-20</td>\n",
       "      <td>아벨라</td>\n",
       "    </tr>\n",
       "    <tr>\n",
       "      <th>3</th>\n",
       "      <td>B3</td>\n",
       "      <td>PMY-KM-20</td>\n",
       "      <td>아벨라운전교습차</td>\n",
       "    </tr>\n",
       "    <tr>\n",
       "      <th>4</th>\n",
       "      <td>B3</td>\n",
       "      <td>PMY-KM-20</td>\n",
       "      <td>아벨라델타운전교습차</td>\n",
       "    </tr>\n",
       "    <tr>\n",
       "      <th>5</th>\n",
       "      <td>B3</td>\n",
       "      <td>TY87-배K-03</td>\n",
       "      <td>프라이드베타오토</td>\n",
       "    </tr>\n",
       "    <tr>\n",
       "      <th>6</th>\n",
       "      <td>B3</td>\n",
       "      <td>RMY-KM-25</td>\n",
       "      <td>프라이드베타</td>\n",
       "    </tr>\n",
       "    <tr>\n",
       "      <th>7</th>\n",
       "      <td>B3</td>\n",
       "      <td>TY87-배K-03</td>\n",
       "      <td>프라이드베타</td>\n",
       "    </tr>\n",
       "    <tr>\n",
       "      <th>8</th>\n",
       "      <td>B3</td>\n",
       "      <td>TY87-배K-03</td>\n",
       "      <td>프라이드</td>\n",
       "    </tr>\n",
       "    <tr>\n",
       "      <th>9</th>\n",
       "      <td>G15SF</td>\n",
       "      <td>TY87-배K-02</td>\n",
       "      <td>르망</td>\n",
       "    </tr>\n",
       "    <tr>\n",
       "      <th>10</th>\n",
       "      <td>G15SF</td>\n",
       "      <td>TY87-배K-02</td>\n",
       "      <td>르망 오토</td>\n",
       "    </tr>\n",
       "    <tr>\n",
       "      <th>11</th>\n",
       "      <td>G15SF</td>\n",
       "      <td>TY87-배K-02</td>\n",
       "      <td>르망오토</td>\n",
       "    </tr>\n",
       "    <tr>\n",
       "      <th>12</th>\n",
       "      <td>G15SF</td>\n",
       "      <td>TY87-배K-02</td>\n",
       "      <td>르망 레이서</td>\n",
       "    </tr>\n",
       "    <tr>\n",
       "      <th>13</th>\n",
       "      <td>G15SF</td>\n",
       "      <td>TY87-배K-02</td>\n",
       "      <td>르망살롱</td>\n",
       "    </tr>\n",
       "    <tr>\n",
       "      <th>14</th>\n",
       "      <td>G4AJ</td>\n",
       "      <td>KMY-HD-04</td>\n",
       "      <td>엑셀오토메틱</td>\n",
       "    </tr>\n",
       "    <tr>\n",
       "      <th>15</th>\n",
       "      <td>G4AJ</td>\n",
       "      <td>KMY-HD-02</td>\n",
       "      <td>엑셀</td>\n",
       "    </tr>\n",
       "    <tr>\n",
       "      <th>16</th>\n",
       "      <td>G4AJ</td>\n",
       "      <td>KMY-HD-01</td>\n",
       "      <td>엑셀</td>\n",
       "    </tr>\n",
       "    <tr>\n",
       "      <th>17</th>\n",
       "      <td>G4CS</td>\n",
       "      <td>TMY-HD-26</td>\n",
       "      <td>스타렉스9인승오토매틱</td>\n",
       "    </tr>\n",
       "    <tr>\n",
       "      <th>18</th>\n",
       "      <td>G4CS</td>\n",
       "      <td>TMY-HD-26</td>\n",
       "      <td>스타렉스7인승</td>\n",
       "    </tr>\n",
       "    <tr>\n",
       "      <th>19</th>\n",
       "      <td>G4CS</td>\n",
       "      <td>LMY-HD-08</td>\n",
       "      <td>그랜저2.4</td>\n",
       "    </tr>\n",
       "    <tr>\n",
       "      <th>20</th>\n",
       "      <td>G4CS</td>\n",
       "      <td>TMY-HD-26</td>\n",
       "      <td>스타렉스7인승오토매틱</td>\n",
       "    </tr>\n",
       "    <tr>\n",
       "      <th>21</th>\n",
       "      <td>G4CS</td>\n",
       "      <td>TMY-HD-26</td>\n",
       "      <td>스타렉스7인승오토메틱</td>\n",
       "    </tr>\n",
       "    <tr>\n",
       "      <th>22</th>\n",
       "      <td>G4CS</td>\n",
       "      <td>TMY-HD-26</td>\n",
       "      <td>스타렉스9인승오토메틱</td>\n",
       "    </tr>\n",
       "    <tr>\n",
       "      <th>23</th>\n",
       "      <td>G4CS</td>\n",
       "      <td>TMY-HD-26</td>\n",
       "      <td>스타렉스9인승</td>\n",
       "    </tr>\n",
       "    <tr>\n",
       "      <th>24</th>\n",
       "      <td>G4CS</td>\n",
       "      <td>LMY-HD-08</td>\n",
       "      <td>그랜져</td>\n",
       "    </tr>\n",
       "    <tr>\n",
       "      <th>25</th>\n",
       "      <td>G4CS</td>\n",
       "      <td>KMY-HD-03</td>\n",
       "      <td>쏘나타 오토매틱</td>\n",
       "    </tr>\n",
       "    <tr>\n",
       "      <th>26</th>\n",
       "      <td>G4CS</td>\n",
       "      <td>KMY-HD-03</td>\n",
       "      <td>쏘나타</td>\n",
       "    </tr>\n",
       "    <tr>\n",
       "      <th>27</th>\n",
       "      <td>B3</td>\n",
       "      <td>PMY-KM-20</td>\n",
       "      <td>KIA AVELLA</td>\n",
       "    </tr>\n",
       "    <tr>\n",
       "      <th>28</th>\n",
       "      <td>B3</td>\n",
       "      <td>PMY-KM-20</td>\n",
       "      <td>델타</td>\n",
       "    </tr>\n",
       "    <tr>\n",
       "      <th>29</th>\n",
       "      <td>B3</td>\n",
       "      <td>PMY-KM-20</td>\n",
       "      <td>아벨라</td>\n",
       "    </tr>\n",
       "    <tr>\n",
       "      <th>30</th>\n",
       "      <td>B3</td>\n",
       "      <td>PMY-KM-20</td>\n",
       "      <td>아벨라운전교습차</td>\n",
       "    </tr>\n",
       "    <tr>\n",
       "      <th>31</th>\n",
       "      <td>B3</td>\n",
       "      <td>PMY-KM-20</td>\n",
       "      <td>아벨라델타운전교습차</td>\n",
       "    </tr>\n",
       "    <tr>\n",
       "      <th>32</th>\n",
       "      <td>B3</td>\n",
       "      <td>TY87-배K-03</td>\n",
       "      <td>프라이드베타오토</td>\n",
       "    </tr>\n",
       "    <tr>\n",
       "      <th>33</th>\n",
       "      <td>B3</td>\n",
       "      <td>RMY-KM-25</td>\n",
       "      <td>프라이드베타</td>\n",
       "    </tr>\n",
       "    <tr>\n",
       "      <th>34</th>\n",
       "      <td>B3</td>\n",
       "      <td>TY87-배K-03</td>\n",
       "      <td>프라이드베타</td>\n",
       "    </tr>\n",
       "    <tr>\n",
       "      <th>35</th>\n",
       "      <td>B3</td>\n",
       "      <td>TY87-배K-03</td>\n",
       "      <td>프라이드</td>\n",
       "    </tr>\n",
       "    <tr>\n",
       "      <th>36</th>\n",
       "      <td>B3</td>\n",
       "      <td>PMY-KM-20</td>\n",
       "      <td>KIA AVELLA</td>\n",
       "    </tr>\n",
       "    <tr>\n",
       "      <th>37</th>\n",
       "      <td>B3</td>\n",
       "      <td>PMY-KM-20</td>\n",
       "      <td>델타</td>\n",
       "    </tr>\n",
       "    <tr>\n",
       "      <th>38</th>\n",
       "      <td>B3</td>\n",
       "      <td>PMY-KM-20</td>\n",
       "      <td>아벨라</td>\n",
       "    </tr>\n",
       "    <tr>\n",
       "      <th>39</th>\n",
       "      <td>B3</td>\n",
       "      <td>PMY-KM-20</td>\n",
       "      <td>아벨라운전교습차</td>\n",
       "    </tr>\n",
       "    <tr>\n",
       "      <th>40</th>\n",
       "      <td>B3</td>\n",
       "      <td>PMY-KM-20</td>\n",
       "      <td>아벨라델타운전교습차</td>\n",
       "    </tr>\n",
       "    <tr>\n",
       "      <th>41</th>\n",
       "      <td>B3</td>\n",
       "      <td>TY87-배K-03</td>\n",
       "      <td>프라이드베타오토</td>\n",
       "    </tr>\n",
       "    <tr>\n",
       "      <th>42</th>\n",
       "      <td>B3</td>\n",
       "      <td>RMY-KM-25</td>\n",
       "      <td>프라이드베타</td>\n",
       "    </tr>\n",
       "    <tr>\n",
       "      <th>43</th>\n",
       "      <td>B3</td>\n",
       "      <td>TY87-배K-03</td>\n",
       "      <td>프라이드베타</td>\n",
       "    </tr>\n",
       "    <tr>\n",
       "      <th>44</th>\n",
       "      <td>B3</td>\n",
       "      <td>TY87-배K-03</td>\n",
       "      <td>프라이드</td>\n",
       "    </tr>\n",
       "    <tr>\n",
       "      <th>45</th>\n",
       "      <td>CD800</td>\n",
       "      <td>SMY-KM-04</td>\n",
       "      <td>타우너</td>\n",
       "    </tr>\n",
       "    <tr>\n",
       "      <th>46</th>\n",
       "      <td>D5244T</td>\n",
       "      <td>8MY-PA-14-3</td>\n",
       "      <td>볼보 XC70D5</td>\n",
       "    </tr>\n",
       "    <tr>\n",
       "      <th>47</th>\n",
       "      <td>D5244T</td>\n",
       "      <td>6MY-PA-14-4</td>\n",
       "      <td>볼보 S80D5</td>\n",
       "    </tr>\n",
       "    <tr>\n",
       "      <th>48</th>\n",
       "      <td>D5244T</td>\n",
       "      <td>9MY-PA-13-1</td>\n",
       "      <td>볼보 XC60D5</td>\n",
       "    </tr>\n",
       "    <tr>\n",
       "      <th>49</th>\n",
       "      <td>D5244T</td>\n",
       "      <td>5MY-PA-13-20</td>\n",
       "      <td>볼보 XC90D5</td>\n",
       "    </tr>\n",
       "    <tr>\n",
       "      <th>50</th>\n",
       "      <td>D5244T</td>\n",
       "      <td>5MY-PA-14-20</td>\n",
       "      <td>볼보 XC90D5</td>\n",
       "    </tr>\n",
       "    <tr>\n",
       "      <th>51</th>\n",
       "      <td>D5244T</td>\n",
       "      <td>5MY-PA-14-19</td>\n",
       "      <td>볼보 XC70D5</td>\n",
       "    </tr>\n",
       "    <tr>\n",
       "      <th>52</th>\n",
       "      <td>D5244T</td>\n",
       "      <td>5MY-PA-14-17</td>\n",
       "      <td>볼보 S60D5</td>\n",
       "    </tr>\n",
       "    <tr>\n",
       "      <th>53</th>\n",
       "      <td>D5244T</td>\n",
       "      <td>5MY-PA-14-18</td>\n",
       "      <td>볼보 S60 2.4D</td>\n",
       "    </tr>\n",
       "  </tbody>\n",
       "</table>\n",
       "</div>"
      ],
      "text/plain": [
       "      엔진형식      배출가스인증번호           차명\n",
       "0       B3     PMY-KM-20   KIA AVELLA\n",
       "1       B3     PMY-KM-20           델타\n",
       "2       B3     PMY-KM-20          아벨라\n",
       "3       B3     PMY-KM-20     아벨라운전교습차\n",
       "4       B3     PMY-KM-20   아벨라델타운전교습차\n",
       "5       B3    TY87-배K-03     프라이드베타오토\n",
       "6       B3     RMY-KM-25       프라이드베타\n",
       "7       B3    TY87-배K-03       프라이드베타\n",
       "8       B3    TY87-배K-03         프라이드\n",
       "9    G15SF    TY87-배K-02           르망\n",
       "10   G15SF    TY87-배K-02        르망 오토\n",
       "11   G15SF    TY87-배K-02         르망오토\n",
       "12   G15SF    TY87-배K-02       르망 레이서\n",
       "13   G15SF    TY87-배K-02         르망살롱\n",
       "14    G4AJ     KMY-HD-04       엑셀오토메틱\n",
       "15    G4AJ     KMY-HD-02           엑셀\n",
       "16    G4AJ     KMY-HD-01           엑셀\n",
       "17    G4CS     TMY-HD-26  스타렉스9인승오토매틱\n",
       "18    G4CS     TMY-HD-26      스타렉스7인승\n",
       "19    G4CS     LMY-HD-08       그랜저2.4\n",
       "20    G4CS     TMY-HD-26  스타렉스7인승오토매틱\n",
       "21    G4CS     TMY-HD-26  스타렉스7인승오토메틱\n",
       "22    G4CS     TMY-HD-26  스타렉스9인승오토메틱\n",
       "23    G4CS     TMY-HD-26      스타렉스9인승\n",
       "24    G4CS     LMY-HD-08          그랜져\n",
       "25    G4CS     KMY-HD-03     쏘나타 오토매틱\n",
       "26    G4CS     KMY-HD-03          쏘나타\n",
       "27      B3     PMY-KM-20   KIA AVELLA\n",
       "28      B3     PMY-KM-20           델타\n",
       "29      B3     PMY-KM-20          아벨라\n",
       "30      B3     PMY-KM-20     아벨라운전교습차\n",
       "31      B3     PMY-KM-20   아벨라델타운전교습차\n",
       "32      B3    TY87-배K-03     프라이드베타오토\n",
       "33      B3     RMY-KM-25       프라이드베타\n",
       "34      B3    TY87-배K-03       프라이드베타\n",
       "35      B3    TY87-배K-03         프라이드\n",
       "36      B3     PMY-KM-20   KIA AVELLA\n",
       "37      B3     PMY-KM-20           델타\n",
       "38      B3     PMY-KM-20          아벨라\n",
       "39      B3     PMY-KM-20     아벨라운전교습차\n",
       "40      B3     PMY-KM-20   아벨라델타운전교습차\n",
       "41      B3    TY87-배K-03     프라이드베타오토\n",
       "42      B3     RMY-KM-25       프라이드베타\n",
       "43      B3    TY87-배K-03       프라이드베타\n",
       "44      B3    TY87-배K-03         프라이드\n",
       "45   CD800     SMY-KM-04          타우너\n",
       "46  D5244T   8MY-PA-14-3    볼보 XC70D5\n",
       "47  D5244T   6MY-PA-14-4     볼보 S80D5\n",
       "48  D5244T   9MY-PA-13-1    볼보 XC60D5\n",
       "49  D5244T  5MY-PA-13-20    볼보 XC90D5\n",
       "50  D5244T  5MY-PA-14-20    볼보 XC90D5\n",
       "51  D5244T  5MY-PA-14-19    볼보 XC70D5\n",
       "52  D5244T  5MY-PA-14-17     볼보 S60D5\n",
       "53  D5244T  5MY-PA-14-18  볼보 S60 2.4D"
      ]
     },
     "execution_count": 164,
     "metadata": {},
     "output_type": "execute_result"
    }
   ],
   "source": [
    "t_temp"
   ]
  },
  {
   "cell_type": "code",
   "execution_count": 165,
   "metadata": {},
   "outputs": [
    {
     "data": {
      "text/plain": [
       "(36, 3)"
      ]
     },
     "execution_count": 165,
     "metadata": {},
     "output_type": "execute_result"
    }
   ],
   "source": [
    "t_temp.drop_duplicates(['엔진형식', '배출가스인증번호', '차명']).shape"
   ]
  },
  {
   "cell_type": "code",
   "execution_count": 166,
   "metadata": {},
   "outputs": [
    {
     "data": {
      "text/html": [
       "<div>\n",
       "<style scoped>\n",
       "    .dataframe tbody tr th:only-of-type {\n",
       "        vertical-align: middle;\n",
       "    }\n",
       "\n",
       "    .dataframe tbody tr th {\n",
       "        vertical-align: top;\n",
       "    }\n",
       "\n",
       "    .dataframe thead th {\n",
       "        text-align: right;\n",
       "    }\n",
       "</style>\n",
       "<table border=\"1\" class=\"dataframe\">\n",
       "  <thead>\n",
       "    <tr style=\"text-align: right;\">\n",
       "      <th></th>\n",
       "      <th>엔진형식</th>\n",
       "      <th>배출가스인증번호</th>\n",
       "      <th>차명</th>\n",
       "    </tr>\n",
       "  </thead>\n",
       "  <tbody>\n",
       "    <tr>\n",
       "      <th>0</th>\n",
       "      <td>B3</td>\n",
       "      <td>PMY-KM-20</td>\n",
       "      <td>KIA AVELLA</td>\n",
       "    </tr>\n",
       "    <tr>\n",
       "      <th>1</th>\n",
       "      <td>B3</td>\n",
       "      <td>PMY-KM-20</td>\n",
       "      <td>델타</td>\n",
       "    </tr>\n",
       "    <tr>\n",
       "      <th>2</th>\n",
       "      <td>B3</td>\n",
       "      <td>PMY-KM-20</td>\n",
       "      <td>아벨라</td>\n",
       "    </tr>\n",
       "    <tr>\n",
       "      <th>3</th>\n",
       "      <td>B3</td>\n",
       "      <td>PMY-KM-20</td>\n",
       "      <td>아벨라운전교습차</td>\n",
       "    </tr>\n",
       "    <tr>\n",
       "      <th>4</th>\n",
       "      <td>B3</td>\n",
       "      <td>PMY-KM-20</td>\n",
       "      <td>아벨라델타운전교습차</td>\n",
       "    </tr>\n",
       "    <tr>\n",
       "      <th>5</th>\n",
       "      <td>B3</td>\n",
       "      <td>TY87-배K-03</td>\n",
       "      <td>프라이드베타오토</td>\n",
       "    </tr>\n",
       "    <tr>\n",
       "      <th>6</th>\n",
       "      <td>B3</td>\n",
       "      <td>RMY-KM-25</td>\n",
       "      <td>프라이드베타</td>\n",
       "    </tr>\n",
       "    <tr>\n",
       "      <th>7</th>\n",
       "      <td>B3</td>\n",
       "      <td>TY87-배K-03</td>\n",
       "      <td>프라이드베타</td>\n",
       "    </tr>\n",
       "    <tr>\n",
       "      <th>8</th>\n",
       "      <td>B3</td>\n",
       "      <td>TY87-배K-03</td>\n",
       "      <td>프라이드</td>\n",
       "    </tr>\n",
       "    <tr>\n",
       "      <th>9</th>\n",
       "      <td>G15SF</td>\n",
       "      <td>TY87-배K-02</td>\n",
       "      <td>르망</td>\n",
       "    </tr>\n",
       "    <tr>\n",
       "      <th>10</th>\n",
       "      <td>G15SF</td>\n",
       "      <td>TY87-배K-02</td>\n",
       "      <td>르망 오토</td>\n",
       "    </tr>\n",
       "    <tr>\n",
       "      <th>11</th>\n",
       "      <td>G15SF</td>\n",
       "      <td>TY87-배K-02</td>\n",
       "      <td>르망오토</td>\n",
       "    </tr>\n",
       "    <tr>\n",
       "      <th>12</th>\n",
       "      <td>G15SF</td>\n",
       "      <td>TY87-배K-02</td>\n",
       "      <td>르망 레이서</td>\n",
       "    </tr>\n",
       "    <tr>\n",
       "      <th>13</th>\n",
       "      <td>G15SF</td>\n",
       "      <td>TY87-배K-02</td>\n",
       "      <td>르망살롱</td>\n",
       "    </tr>\n",
       "    <tr>\n",
       "      <th>14</th>\n",
       "      <td>G4AJ</td>\n",
       "      <td>KMY-HD-04</td>\n",
       "      <td>엑셀오토메틱</td>\n",
       "    </tr>\n",
       "    <tr>\n",
       "      <th>15</th>\n",
       "      <td>G4AJ</td>\n",
       "      <td>KMY-HD-02</td>\n",
       "      <td>엑셀</td>\n",
       "    </tr>\n",
       "    <tr>\n",
       "      <th>16</th>\n",
       "      <td>G4AJ</td>\n",
       "      <td>KMY-HD-01</td>\n",
       "      <td>엑셀</td>\n",
       "    </tr>\n",
       "    <tr>\n",
       "      <th>17</th>\n",
       "      <td>G4CS</td>\n",
       "      <td>TMY-HD-26</td>\n",
       "      <td>스타렉스9인승오토매틱</td>\n",
       "    </tr>\n",
       "    <tr>\n",
       "      <th>18</th>\n",
       "      <td>G4CS</td>\n",
       "      <td>TMY-HD-26</td>\n",
       "      <td>스타렉스7인승</td>\n",
       "    </tr>\n",
       "    <tr>\n",
       "      <th>19</th>\n",
       "      <td>G4CS</td>\n",
       "      <td>LMY-HD-08</td>\n",
       "      <td>그랜저2.4</td>\n",
       "    </tr>\n",
       "    <tr>\n",
       "      <th>20</th>\n",
       "      <td>G4CS</td>\n",
       "      <td>TMY-HD-26</td>\n",
       "      <td>스타렉스7인승오토매틱</td>\n",
       "    </tr>\n",
       "    <tr>\n",
       "      <th>21</th>\n",
       "      <td>G4CS</td>\n",
       "      <td>TMY-HD-26</td>\n",
       "      <td>스타렉스7인승오토메틱</td>\n",
       "    </tr>\n",
       "    <tr>\n",
       "      <th>22</th>\n",
       "      <td>G4CS</td>\n",
       "      <td>TMY-HD-26</td>\n",
       "      <td>스타렉스9인승오토메틱</td>\n",
       "    </tr>\n",
       "    <tr>\n",
       "      <th>23</th>\n",
       "      <td>G4CS</td>\n",
       "      <td>TMY-HD-26</td>\n",
       "      <td>스타렉스9인승</td>\n",
       "    </tr>\n",
       "    <tr>\n",
       "      <th>24</th>\n",
       "      <td>G4CS</td>\n",
       "      <td>LMY-HD-08</td>\n",
       "      <td>그랜져</td>\n",
       "    </tr>\n",
       "    <tr>\n",
       "      <th>25</th>\n",
       "      <td>G4CS</td>\n",
       "      <td>KMY-HD-03</td>\n",
       "      <td>쏘나타 오토매틱</td>\n",
       "    </tr>\n",
       "    <tr>\n",
       "      <th>26</th>\n",
       "      <td>G4CS</td>\n",
       "      <td>KMY-HD-03</td>\n",
       "      <td>쏘나타</td>\n",
       "    </tr>\n",
       "    <tr>\n",
       "      <th>45</th>\n",
       "      <td>CD800</td>\n",
       "      <td>SMY-KM-04</td>\n",
       "      <td>타우너</td>\n",
       "    </tr>\n",
       "    <tr>\n",
       "      <th>46</th>\n",
       "      <td>D5244T</td>\n",
       "      <td>8MY-PA-14-3</td>\n",
       "      <td>볼보 XC70D5</td>\n",
       "    </tr>\n",
       "    <tr>\n",
       "      <th>47</th>\n",
       "      <td>D5244T</td>\n",
       "      <td>6MY-PA-14-4</td>\n",
       "      <td>볼보 S80D5</td>\n",
       "    </tr>\n",
       "    <tr>\n",
       "      <th>48</th>\n",
       "      <td>D5244T</td>\n",
       "      <td>9MY-PA-13-1</td>\n",
       "      <td>볼보 XC60D5</td>\n",
       "    </tr>\n",
       "    <tr>\n",
       "      <th>49</th>\n",
       "      <td>D5244T</td>\n",
       "      <td>5MY-PA-13-20</td>\n",
       "      <td>볼보 XC90D5</td>\n",
       "    </tr>\n",
       "    <tr>\n",
       "      <th>50</th>\n",
       "      <td>D5244T</td>\n",
       "      <td>5MY-PA-14-20</td>\n",
       "      <td>볼보 XC90D5</td>\n",
       "    </tr>\n",
       "    <tr>\n",
       "      <th>51</th>\n",
       "      <td>D5244T</td>\n",
       "      <td>5MY-PA-14-19</td>\n",
       "      <td>볼보 XC70D5</td>\n",
       "    </tr>\n",
       "    <tr>\n",
       "      <th>52</th>\n",
       "      <td>D5244T</td>\n",
       "      <td>5MY-PA-14-17</td>\n",
       "      <td>볼보 S60D5</td>\n",
       "    </tr>\n",
       "    <tr>\n",
       "      <th>53</th>\n",
       "      <td>D5244T</td>\n",
       "      <td>5MY-PA-14-18</td>\n",
       "      <td>볼보 S60 2.4D</td>\n",
       "    </tr>\n",
       "  </tbody>\n",
       "</table>\n",
       "</div>"
      ],
      "text/plain": [
       "      엔진형식      배출가스인증번호           차명\n",
       "0       B3     PMY-KM-20   KIA AVELLA\n",
       "1       B3     PMY-KM-20           델타\n",
       "2       B3     PMY-KM-20          아벨라\n",
       "3       B3     PMY-KM-20     아벨라운전교습차\n",
       "4       B3     PMY-KM-20   아벨라델타운전교습차\n",
       "5       B3    TY87-배K-03     프라이드베타오토\n",
       "6       B3     RMY-KM-25       프라이드베타\n",
       "7       B3    TY87-배K-03       프라이드베타\n",
       "8       B3    TY87-배K-03         프라이드\n",
       "9    G15SF    TY87-배K-02           르망\n",
       "10   G15SF    TY87-배K-02        르망 오토\n",
       "11   G15SF    TY87-배K-02         르망오토\n",
       "12   G15SF    TY87-배K-02       르망 레이서\n",
       "13   G15SF    TY87-배K-02         르망살롱\n",
       "14    G4AJ     KMY-HD-04       엑셀오토메틱\n",
       "15    G4AJ     KMY-HD-02           엑셀\n",
       "16    G4AJ     KMY-HD-01           엑셀\n",
       "17    G4CS     TMY-HD-26  스타렉스9인승오토매틱\n",
       "18    G4CS     TMY-HD-26      스타렉스7인승\n",
       "19    G4CS     LMY-HD-08       그랜저2.4\n",
       "20    G4CS     TMY-HD-26  스타렉스7인승오토매틱\n",
       "21    G4CS     TMY-HD-26  스타렉스7인승오토메틱\n",
       "22    G4CS     TMY-HD-26  스타렉스9인승오토메틱\n",
       "23    G4CS     TMY-HD-26      스타렉스9인승\n",
       "24    G4CS     LMY-HD-08          그랜져\n",
       "25    G4CS     KMY-HD-03     쏘나타 오토매틱\n",
       "26    G4CS     KMY-HD-03          쏘나타\n",
       "45   CD800     SMY-KM-04          타우너\n",
       "46  D5244T   8MY-PA-14-3    볼보 XC70D5\n",
       "47  D5244T   6MY-PA-14-4     볼보 S80D5\n",
       "48  D5244T   9MY-PA-13-1    볼보 XC60D5\n",
       "49  D5244T  5MY-PA-13-20    볼보 XC90D5\n",
       "50  D5244T  5MY-PA-14-20    볼보 XC90D5\n",
       "51  D5244T  5MY-PA-14-19    볼보 XC70D5\n",
       "52  D5244T  5MY-PA-14-17     볼보 S60D5\n",
       "53  D5244T  5MY-PA-14-18  볼보 S60 2.4D"
      ]
     },
     "execution_count": 166,
     "metadata": {},
     "output_type": "execute_result"
    }
   ],
   "source": [
    "t_temp = t_temp.drop_duplicates(['엔진형식', '배출가스인증번호', '차명'])\n",
    "t_temp"
   ]
  },
  {
   "cell_type": "code",
   "execution_count": 167,
   "metadata": {},
   "outputs": [],
   "source": [
    "# 미부여 데이터 처리 가능 샘플 추출\n",
    "t_temp.to_excel('analysis/[G4][배출가스인증번호]미부여_처리용_샘플.xlsx', index=False)"
   ]
  },
  {
   "attachments": {},
   "cell_type": "markdown",
   "metadata": {},
   "source": [
    "### 배출가스인증번호별 통계"
   ]
  },
  {
   "cell_type": "code",
   "execution_count": 168,
   "metadata": {},
   "outputs": [
    {
     "data": {
      "text/plain": [
       "Index(['차량관리번호', '차량등록번호', '본거지법정동코드', '소유자구분', '차종_등록정보', '용도', '차대번호',\n",
       "       '최초등록일자', '차량연식', '차량제작일자', '검사유효일', '제원관리번호', '배출가스인증번호', '배출가스등급',\n",
       "       '저공해조치종류', '저공해조치구조변경YN', '취득일자', '취득금액', '차명', '차종_제원정보', '차종분류',\n",
       "       '차종유형', '자동차형식', '제작사명', '연료', '엔진형식', '총중량', '적재중량', '엔진출력', '배기량',\n",
       "       '승차인원', '차량길이', '차량너비', '차량높이', '원산지명', '삭제YN', '제원승인일자', '구동형식',\n",
       "       '변속기종류', '차량말소YN', 'code1', '시도', '시구군', '폐지여부', '대기관리권역', '대기관리권역YN'],\n",
       "      dtype='object')"
      ]
     },
     "execution_count": 168,
     "metadata": {},
     "output_type": "execute_result"
    }
   ],
   "source": [
    "gas_df.columns"
   ]
  },
  {
   "cell_type": "code",
   "execution_count": 169,
   "metadata": {},
   "outputs": [
    {
     "data": {
      "text/plain": [
       "(1528557, 46)"
      ]
     },
     "execution_count": 169,
     "metadata": {},
     "output_type": "execute_result"
    }
   ],
   "source": [
    "gas_df.shape"
   ]
  },
  {
   "cell_type": "code",
   "execution_count": 170,
   "metadata": {},
   "outputs": [
    {
     "data": {
      "text/plain": [
       "1528557"
      ]
     },
     "execution_count": 170,
     "metadata": {},
     "output_type": "execute_result"
    }
   ],
   "source": [
    "len(gas_df['차대번호'].unique())"
   ]
  },
  {
   "cell_type": "code",
   "execution_count": 171,
   "metadata": {},
   "outputs": [
    {
     "data": {
      "text/html": [
       "<div>\n",
       "<style scoped>\n",
       "    .dataframe tbody tr th:only-of-type {\n",
       "        vertical-align: middle;\n",
       "    }\n",
       "\n",
       "    .dataframe tbody tr th {\n",
       "        vertical-align: top;\n",
       "    }\n",
       "\n",
       "    .dataframe thead th {\n",
       "        text-align: right;\n",
       "    }\n",
       "</style>\n",
       "<table border=\"1\" class=\"dataframe\">\n",
       "  <thead>\n",
       "    <tr style=\"text-align: right;\">\n",
       "      <th></th>\n",
       "      <th>차량관리번호</th>\n",
       "      <th>차량등록번호</th>\n",
       "      <th>차대번호</th>\n",
       "      <th>배출가스인증번호</th>\n",
       "    </tr>\n",
       "  </thead>\n",
       "  <tbody>\n",
       "  </tbody>\n",
       "</table>\n",
       "</div>"
      ],
      "text/plain": [
       "Empty DataFrame\n",
       "Columns: [차량관리번호, 차량등록번호, 차대번호, 배출가스인증번호]\n",
       "Index: []"
      ]
     },
     "execution_count": 171,
     "metadata": {},
     "output_type": "execute_result"
    }
   ],
   "source": [
    "gas_df.loc[gas_df.duplicated('차대번호', keep=False) == True, ['차량관리번호', '차량등록번호', '차대번호', '배출가스인증번호']].sort_values('차대번호')"
   ]
  },
  {
   "cell_type": "code",
   "execution_count": 172,
   "metadata": {},
   "outputs": [
    {
     "data": {
      "text/plain": [
       "배출가스인증번호\n",
       " 7MY-DC-24-72       1\n",
       " 7MY-HD-24-30       8\n",
       " 8MY-DC-24-12       1\n",
       "3MY-FK-08        1067\n",
       "4MY-AD-20          38\n",
       "                 ... \n",
       "XMY-HD-47         924\n",
       "XMY-HD-48         364\n",
       "XMY-HD-55        2532\n",
       "XMY-KM-47        3217\n",
       "YKM-KM-12          70\n",
       "Name: 차대번호, Length: 303, dtype: int64"
      ]
     },
     "execution_count": 172,
     "metadata": {},
     "output_type": "execute_result"
    }
   ],
   "source": [
    "gas_df.groupby('배출가스인증번호')['차대번호'].count()"
   ]
  },
  {
   "cell_type": "code",
   "execution_count": 173,
   "metadata": {},
   "outputs": [
    {
     "data": {
      "text/plain": [
       "123003"
      ]
     },
     "execution_count": 173,
     "metadata": {},
     "output_type": "execute_result"
    }
   ],
   "source": [
    "gas_df['배출가스인증번호'].isnull().sum()"
   ]
  },
  {
   "cell_type": "code",
   "execution_count": 174,
   "metadata": {},
   "outputs": [],
   "source": [
    "gas_df.groupby('배출가스인증번호')['차대번호'].count().to_excel('analysis/[G4][배출가스인증번호]번호별_통계.xlsx')"
   ]
  },
  {
   "attachments": {},
   "cell_type": "markdown",
   "metadata": {},
   "source": [
    "### 총중량으로 분류 현황"
   ]
  },
  {
   "cell_type": "code",
   "execution_count": 175,
   "metadata": {},
   "outputs": [
    {
     "data": {
      "text/plain": [
       "(1528557, 46)"
      ]
     },
     "execution_count": 175,
     "metadata": {},
     "output_type": "execute_result"
    }
   ],
   "source": [
    "gas_df.shape"
   ]
  },
  {
   "cell_type": "code",
   "execution_count": 176,
   "metadata": {},
   "outputs": [
    {
     "data": {
      "text/plain": [
       "array([10825., 11075.,  2215., ...,  1512.,  1197.,  1436.])"
      ]
     },
     "execution_count": 176,
     "metadata": {},
     "output_type": "execute_result"
    }
   ],
   "source": [
    "gas_df['총중량'].unique()"
   ]
  },
  {
   "cell_type": "code",
   "execution_count": 177,
   "metadata": {},
   "outputs": [
    {
     "data": {
      "text/plain": [
       "numpy.float64"
      ]
     },
     "execution_count": 177,
     "metadata": {},
     "output_type": "execute_result"
    }
   ],
   "source": [
    "type(gas_df['총중량'][0])"
   ]
  },
  {
   "cell_type": "code",
   "execution_count": 178,
   "metadata": {},
   "outputs": [
    {
     "data": {
      "text/plain": [
       "1"
      ]
     },
     "execution_count": 178,
     "metadata": {},
     "output_type": "execute_result"
    }
   ],
   "source": [
    "gas_df['총중량'].isnull().sum()"
   ]
  },
  {
   "cell_type": "code",
   "execution_count": 179,
   "metadata": {},
   "outputs": [],
   "source": [
    "gas_df['총중량'] = gas_df['총중량'].fillna(-1)"
   ]
  },
  {
   "cell_type": "code",
   "execution_count": 180,
   "metadata": {},
   "outputs": [
    {
     "data": {
      "text/plain": [
       "0"
      ]
     },
     "execution_count": 180,
     "metadata": {},
     "output_type": "execute_result"
    }
   ],
   "source": [
    "gas_df['총중량'].isnull().sum()"
   ]
  },
  {
   "cell_type": "code",
   "execution_count": 181,
   "metadata": {},
   "outputs": [
    {
     "name": "stderr",
     "output_type": "stream",
     "text": [
      "1528557it [00:01, 1057647.49it/s]\n"
     ]
    }
   ],
   "source": [
    "weight_list = []\n",
    "for i, one in tqdm(enumerate(gas_df['총중량'])):\n",
    "    if one == -1:\n",
    "        weight_list.append('미기입')\n",
    "    elif one < 1500:\n",
    "        weight_list.append('1.5ton 미만')\n",
    "    elif one >= 1500 and one < 2000:\n",
    "        weight_list.append('1.5ton 이상 2.0ton 미만')\n",
    "    elif one >= 2000 and one < 2500:\n",
    "        weight_list.append('2.0ton 이상 2.5ton 미만')\n",
    "    elif one >= 2500 and one < 3000:\n",
    "        weight_list.append('2.5ton 이상 3.0ton 미만')\n",
    "    elif one >= 3000 and one < 3500:\n",
    "        weight_list.append('3.0ton 이상 3.5ton 미만')\n",
    "    elif one >= 3500 and one < 4000:\n",
    "        weight_list.append('3.5ton 이상 4.0ton 미만')\n",
    "    elif one >= 4000 and one < 4500:\n",
    "        weight_list.append('4.0ton 이상 4.5ton 미만')\n",
    "    elif one >= 4500 and one < 5000:\n",
    "        weight_list.append('4.5ton 이상 5.0ton 미만')\n",
    "    elif one >= 5000 and one < 5500:\n",
    "        weight_list.append('5.0ton 이상 5.5ton 미만')\n",
    "    elif one >= 5500 and one < 6000:\n",
    "        weight_list.append('5.5ton 이상 6.0ton 미만')\n",
    "    elif one >= 6000 and one < 8000:\n",
    "        weight_list.append('6.0ton 이상 8.0ton 미만')\n",
    "    elif one >= 8000 and one < 10000:\n",
    "        weight_list.append('8.0ton 이상 10.0ton 미만')\n",
    "    elif one >= 10000:\n",
    "        weight_list.append('10.0ton 이상')"
   ]
  },
  {
   "cell_type": "code",
   "execution_count": 182,
   "metadata": {},
   "outputs": [
    {
     "data": {
      "text/plain": [
       "1528557"
      ]
     },
     "execution_count": 182,
     "metadata": {},
     "output_type": "execute_result"
    }
   ],
   "source": [
    "len(weight_list)"
   ]
  },
  {
   "cell_type": "code",
   "execution_count": 183,
   "metadata": {},
   "outputs": [],
   "source": [
    "gas_df['총중량_분류'] = weight_list"
   ]
  },
  {
   "cell_type": "code",
   "execution_count": 184,
   "metadata": {},
   "outputs": [
    {
     "data": {
      "text/html": [
       "<div>\n",
       "<style scoped>\n",
       "    .dataframe tbody tr th:only-of-type {\n",
       "        vertical-align: middle;\n",
       "    }\n",
       "\n",
       "    .dataframe tbody tr th {\n",
       "        vertical-align: top;\n",
       "    }\n",
       "\n",
       "    .dataframe thead th {\n",
       "        text-align: right;\n",
       "    }\n",
       "</style>\n",
       "<table border=\"1\" class=\"dataframe\">\n",
       "  <thead>\n",
       "    <tr style=\"text-align: right;\">\n",
       "      <th></th>\n",
       "      <th>총중량_분류</th>\n",
       "      <th>차대번호</th>\n",
       "    </tr>\n",
       "  </thead>\n",
       "  <tbody>\n",
       "    <tr>\n",
       "      <th>0</th>\n",
       "      <td>1.5ton 미만</td>\n",
       "      <td>198424</td>\n",
       "    </tr>\n",
       "    <tr>\n",
       "      <th>1</th>\n",
       "      <td>1.5ton 이상 2.0ton 미만</td>\n",
       "      <td>330997</td>\n",
       "    </tr>\n",
       "    <tr>\n",
       "      <th>2</th>\n",
       "      <td>10.0ton 이상</td>\n",
       "      <td>30469</td>\n",
       "    </tr>\n",
       "    <tr>\n",
       "      <th>3</th>\n",
       "      <td>2.0ton 이상 2.5ton 미만</td>\n",
       "      <td>240259</td>\n",
       "    </tr>\n",
       "    <tr>\n",
       "      <th>4</th>\n",
       "      <td>2.5ton 이상 3.0ton 미만</td>\n",
       "      <td>436562</td>\n",
       "    </tr>\n",
       "    <tr>\n",
       "      <th>5</th>\n",
       "      <td>3.0ton 이상 3.5ton 미만</td>\n",
       "      <td>262435</td>\n",
       "    </tr>\n",
       "    <tr>\n",
       "      <th>6</th>\n",
       "      <td>3.5ton 이상 4.0ton 미만</td>\n",
       "      <td>135</td>\n",
       "    </tr>\n",
       "    <tr>\n",
       "      <th>7</th>\n",
       "      <td>4.0ton 이상 4.5ton 미만</td>\n",
       "      <td>192</td>\n",
       "    </tr>\n",
       "    <tr>\n",
       "      <th>8</th>\n",
       "      <td>4.5ton 이상 5.0ton 미만</td>\n",
       "      <td>23</td>\n",
       "    </tr>\n",
       "    <tr>\n",
       "      <th>9</th>\n",
       "      <td>5.0ton 이상 5.5ton 미만</td>\n",
       "      <td>891</td>\n",
       "    </tr>\n",
       "    <tr>\n",
       "      <th>10</th>\n",
       "      <td>5.5ton 이상 6.0ton 미만</td>\n",
       "      <td>13805</td>\n",
       "    </tr>\n",
       "    <tr>\n",
       "      <th>11</th>\n",
       "      <td>6.0ton 이상 8.0ton 미만</td>\n",
       "      <td>10960</td>\n",
       "    </tr>\n",
       "    <tr>\n",
       "      <th>12</th>\n",
       "      <td>8.0ton 이상 10.0ton 미만</td>\n",
       "      <td>3404</td>\n",
       "    </tr>\n",
       "    <tr>\n",
       "      <th>13</th>\n",
       "      <td>미기입</td>\n",
       "      <td>1</td>\n",
       "    </tr>\n",
       "  </tbody>\n",
       "</table>\n",
       "</div>"
      ],
      "text/plain": [
       "                  총중량_분류    차대번호\n",
       "0              1.5ton 미만  198424\n",
       "1    1.5ton 이상 2.0ton 미만  330997\n",
       "2             10.0ton 이상   30469\n",
       "3    2.0ton 이상 2.5ton 미만  240259\n",
       "4    2.5ton 이상 3.0ton 미만  436562\n",
       "5    3.0ton 이상 3.5ton 미만  262435\n",
       "6    3.5ton 이상 4.0ton 미만     135\n",
       "7    4.0ton 이상 4.5ton 미만     192\n",
       "8    4.5ton 이상 5.0ton 미만      23\n",
       "9    5.0ton 이상 5.5ton 미만     891\n",
       "10   5.5ton 이상 6.0ton 미만   13805\n",
       "11   6.0ton 이상 8.0ton 미만   10960\n",
       "12  8.0ton 이상 10.0ton 미만    3404\n",
       "13                   미기입       1"
      ]
     },
     "execution_count": 184,
     "metadata": {},
     "output_type": "execute_result"
    }
   ],
   "source": [
    "total_weight_df = gas_df.groupby('총중량_분류')['차대번호'].count().reset_index()\n",
    "total_weight_df"
   ]
  },
  {
   "cell_type": "code",
   "execution_count": 185,
   "metadata": {},
   "outputs": [],
   "source": [
    "total_weight_df.to_excel('analysis/[G4][총중량]분류_통계.xlsx', encoding='utf-8')"
   ]
  },
  {
   "attachments": {},
   "cell_type": "markdown",
   "metadata": {},
   "source": [
    "#### 총중량 code 화"
   ]
  },
  {
   "cell_type": "code",
   "execution_count": 186,
   "metadata": {},
   "outputs": [
    {
     "name": "stderr",
     "output_type": "stream",
     "text": [
      "1528557it [00:02, 537521.71it/s]\n"
     ]
    }
   ],
   "source": [
    "weight_code_list = []\n",
    "for i, one in tqdm(enumerate(gas_df['총중량'])):\n",
    "    if one < 250:\n",
    "        weight_code_list.append('0025')\n",
    "    elif one >= 250 and one < 500:\n",
    "        weight_code_list.append('0050')\n",
    "    elif one >= 500 and one < 750:\n",
    "        weight_code_list.append('0075')\n",
    "    elif one >= 750 and one < 1000:\n",
    "        weight_code_list.append('0100')\n",
    "    elif one >= 1000 and one < 1250:\n",
    "        weight_code_list.append('0125')\n",
    "    elif one >= 1250 and one < 1500:\n",
    "        weight_code_list.append('0150')\n",
    "    elif one >= 1500 and one < 1750:\n",
    "        weight_code_list.append('0175')\n",
    "    elif one >= 1750 and one < 2000:\n",
    "        weight_code_list.append('0200')\n",
    "    elif one >= 2000 and one < 2250:\n",
    "        weight_code_list.append('0225')\n",
    "    elif one >= 2250 and one < 2500:\n",
    "        weight_code_list.append('0250')\n",
    "    elif one >= 2500 and one < 2750:\n",
    "        weight_code_list.append('0275')\n",
    "    elif one >= 2750 and one < 3000:\n",
    "        weight_code_list.append('0300')\n",
    "    elif one >= 3000 and one < 3250:\n",
    "        weight_code_list.append('0325')\n",
    "    elif one >= 3250 and one < 3500:\n",
    "        weight_code_list.append('0350')\n",
    "    elif one >= 3500 and one < 3750:\n",
    "        weight_code_list.append('0375')\n",
    "    elif one >= 3750 and one < 4000:\n",
    "        weight_code_list.append('0400')\n",
    "    elif one >= 4000 and one < 4250:\n",
    "        weight_code_list.append('0425')\n",
    "    elif one >= 4250 and one < 4500:\n",
    "        weight_code_list.append('0450')\n",
    "    elif one >= 4500 and one < 4750:\n",
    "        weight_code_list.append('0475')\n",
    "    elif one >= 4750 and one < 5000:\n",
    "        weight_code_list.append('0500')\n",
    "    elif one >= 5000 and one < 5250:\n",
    "        weight_code_list.append('0525')\n",
    "    elif one >= 5250 and one < 5500:\n",
    "        weight_code_list.append('0550')\n",
    "    elif one >= 5500 and one < 5750:\n",
    "        weight_code_list.append('0575')\n",
    "    elif one >= 5750 and one < 6000:\n",
    "        weight_code_list.append('0600')\n",
    "    elif one >= 6000 and one < 6250:\n",
    "        weight_code_list.append('0625')\n",
    "    elif one >= 6250 and one < 6500:\n",
    "        weight_code_list.append('0650')\n",
    "    elif one >= 6500 and one < 6750:\n",
    "        weight_code_list.append('0675')\n",
    "    elif one >= 6750 and one < 7000:\n",
    "        weight_code_list.append('0700')\n",
    "    elif one >= 7000 and one < 7250:\n",
    "        weight_code_list.append('0725')\n",
    "    elif one >= 7250 and one < 7500:\n",
    "        weight_code_list.append('0750')\n",
    "    elif one >= 7500 and one < 7750:\n",
    "        weight_code_list.append('0775')\n",
    "    elif one >= 7750 and one < 8000:\n",
    "        weight_code_list.append('0800')\n",
    "    elif one >= 8000 and one < 8250:\n",
    "        weight_code_list.append('0825')\n",
    "    elif one >= 8250 and one < 8500:\n",
    "        weight_code_list.append('0850')\n",
    "    elif one >= 8500 and one < 8750:\n",
    "        weight_code_list.append('0875')\n",
    "    elif one >= 8750 and one < 9000:\n",
    "        weight_code_list.append('0900')\n",
    "    elif one >= 9000 and one < 9250:\n",
    "        weight_code_list.append('0925')\n",
    "    elif one >= 9250 and one < 9500:\n",
    "        weight_code_list.append('0950')\n",
    "    elif one >= 9500 and one < 9750:\n",
    "        weight_code_list.append('0975')\n",
    "    elif one >= 9750 and one < 10000:\n",
    "        weight_code_list.append('1000')\n",
    "    elif one >= 10000 and one < 10250:\n",
    "        weight_code_list.append('1025')\n",
    "    elif one >= 10250 and one < 10500:\n",
    "        weight_code_list.append('1050')\n",
    "    elif one >= 10500 and one < 10750:\n",
    "        weight_code_list.append('1075')\n",
    "    elif one >= 10750 and one < 11000:\n",
    "        weight_code_list.append('1100')\n",
    "    elif one >= 11000 and one < 11250:\n",
    "        weight_code_list.append('1125')\n",
    "    elif one >= 11250 and one < 11500:\n",
    "        weight_code_list.append('1150')\n",
    "    elif one >= 11500 and one < 11750:\n",
    "        weight_code_list.append('1175')\n",
    "    elif one >= 11750 and one < 12000:\n",
    "        weight_code_list.append('1200')\n",
    "    elif one >= 12000 and one < 12250:\n",
    "        weight_code_list.append('1225')\n",
    "    elif one >= 12250 and one < 12500:\n",
    "        weight_code_list.append('1250')\n",
    "    elif one >= 12500 and one < 12750:\n",
    "        weight_code_list.append('1275')\n",
    "    elif one >= 12750 and one < 13000:\n",
    "        weight_code_list.append('1300')\n",
    "    elif one >= 13000 and one < 13250:\n",
    "        weight_code_list.append('1325')\n",
    "    elif one >= 13250 and one < 13500:\n",
    "        weight_code_list.append('1350')\n",
    "    elif one >= 13500 and one < 13750:\n",
    "        weight_code_list.append('1375')\n",
    "    elif one >= 13750 and one < 14000:\n",
    "        weight_code_list.append('1400')\n",
    "    elif one >= 14000 and one < 14250:\n",
    "        weight_code_list.append('1425')\n",
    "    elif one >= 14250 and one < 14500:\n",
    "        weight_code_list.append('1450')\n",
    "    elif one >= 14500 and one < 14750:\n",
    "        weight_code_list.append('1475')\n",
    "    elif one >= 14750 and one < 15000:\n",
    "        weight_code_list.append('1500')\n",
    "    elif one >= 15000 and one < 15250:\n",
    "        weight_code_list.append('1525')\n",
    "    elif one >= 15250 and one < 15500:\n",
    "        weight_code_list.append('1550')\n",
    "    elif one >= 15500 and one < 15750:\n",
    "        weight_code_list.append('1575')\n",
    "    elif one >= 15750 and one < 16000:\n",
    "        weight_code_list.append('1600')\n",
    "    elif one >= 16000 and one < 16250:\n",
    "        weight_code_list.append('1625')\n",
    "    elif one >= 16250 and one < 16500:\n",
    "        weight_code_list.append('1650')\n",
    "    elif one >= 16500 and one < 16750:\n",
    "        weight_code_list.append('1675')\n",
    "    elif one >= 16750 and one < 17000:\n",
    "        weight_code_list.append('1700')\n",
    "    elif one >= 17000 and one < 17250:\n",
    "        weight_code_list.append('1725')\n",
    "    elif one >= 17250 and one < 17500:\n",
    "        weight_code_list.append('1750')\n",
    "    elif one >= 17500 and one < 17750:\n",
    "        weight_code_list.append('1775')\n",
    "    elif one >= 17750 and one < 18000:\n",
    "        weight_code_list.append('1800')\n",
    "    elif one >= 18000 and one < 18250:\n",
    "        weight_code_list.append('1825')\n",
    "    elif one >= 18250 and one < 18500:\n",
    "        weight_code_list.append('1850')\n",
    "    elif one >= 18500 and one < 18750:\n",
    "        weight_code_list.append('1875')\n",
    "    elif one >= 18750 and one < 19000:\n",
    "        weight_code_list.append('1900')\n",
    "    elif one >= 19000 and one < 19250:\n",
    "        weight_code_list.append('1925')\n",
    "    elif one >= 19250 and one < 19500:\n",
    "        weight_code_list.append('1950')\n",
    "    elif one >= 19500 and one < 19750:\n",
    "        weight_code_list.append('1975')\n",
    "    elif one >= 19750 and one < 20000:\n",
    "        weight_code_list.append('2000')\n",
    "    elif one >= 20000 and one < 20250:\n",
    "        weight_code_list.append('2025')\n",
    "    elif one >= 20250 and one < 20500:\n",
    "        weight_code_list.append('2050')\n",
    "    elif one >= 20500 and one < 20750:\n",
    "        weight_code_list.append('2075')\n",
    "    elif one >= 20750 and one < 21000:\n",
    "        weight_code_list.append('2100')\n",
    "    elif one >= 21000 and one < 21250:\n",
    "        weight_code_list.append('2125')\n",
    "    elif one >= 21250 and one < 21500:\n",
    "        weight_code_list.append('2150')\n",
    "    elif one >= 21500 and one < 21750:\n",
    "        weight_code_list.append('2175')\n",
    "    elif one >= 21750 and one < 22000:\n",
    "        weight_code_list.append('2200')\n",
    "    elif one >= 22000 and one < 22250:\n",
    "        weight_code_list.append('2225')\n",
    "    elif one >= 22250 and one < 22500:\n",
    "        weight_code_list.append('2250')\n",
    "    elif one >= 22500 and one < 22750:\n",
    "        weight_code_list.append('2275')\n",
    "    elif one >= 22750 and one < 23000:\n",
    "        weight_code_list.append('2300')\n",
    "    elif one >= 23000 and one < 23250:\n",
    "        weight_code_list.append('2325')\n",
    "    elif one >= 23250 and one < 23500:\n",
    "        weight_code_list.append('2350')\n",
    "    elif one >= 23500 and one < 23750:\n",
    "        weight_code_list.append('2375')\n",
    "    elif one >= 23750 and one < 24000:\n",
    "        weight_code_list.append('2400')\n",
    "    elif one >= 24000 and one < 24250:\n",
    "        weight_code_list.append('2425')\n",
    "    elif one >= 24250 and one < 24500:\n",
    "        weight_code_list.append('2450')\n",
    "    elif one >= 24500 and one < 24750:\n",
    "        weight_code_list.append('2475')\n",
    "    elif one >= 24750 and one < 25000:\n",
    "        weight_code_list.append('2500')\n",
    "    elif one >= 25000 and one < 25250:\n",
    "        weight_code_list.append('2525')\n",
    "    elif one >= 25250 and one < 25500:\n",
    "        weight_code_list.append('2550')\n",
    "    elif one >= 25500 and one < 25750:\n",
    "        weight_code_list.append('2575')\n",
    "    elif one >= 25750 and one < 26000:\n",
    "        weight_code_list.append('2600')\n",
    "    elif one >= 26000 and one < 26250:\n",
    "        weight_code_list.append('2625')\n",
    "    elif one >= 26250 and one < 26500:\n",
    "        weight_code_list.append('2650')\n",
    "    elif one >= 26500 and one < 26750:\n",
    "        weight_code_list.append('2675')\n",
    "    elif one >= 26750 and one < 27000:\n",
    "        weight_code_list.append('2700')\n",
    "    elif one >= 27000 and one < 27250:\n",
    "        weight_code_list.append('2725')\n",
    "    elif one >= 27250 and one < 27500:\n",
    "        weight_code_list.append('2750')\n",
    "    elif one >= 27500 and one < 27750:\n",
    "        weight_code_list.append('2775')\n",
    "    elif one >= 27750 and one < 28000:\n",
    "        weight_code_list.append('2800')\n",
    "    elif one >= 28000 and one < 28250:\n",
    "        weight_code_list.append('2825')\n",
    "    elif one >= 28250 and one < 28500:\n",
    "        weight_code_list.append('2850')\n",
    "    elif one >= 28500 and one < 28750:\n",
    "        weight_code_list.append('2875')\n",
    "    elif one >= 28750 and one < 29000:\n",
    "        weight_code_list.append('2900')\n",
    "    elif one >= 29000 and one < 29250:\n",
    "        weight_code_list.append('2925')\n",
    "    elif one >= 29250 and one < 29500:\n",
    "        weight_code_list.append('2950')\n",
    "    elif one >= 29500 and one < 29750:\n",
    "        weight_code_list.append('2975')\n",
    "    elif one >= 29750 and one < 30000:\n",
    "        weight_code_list.append('3000')\n",
    "    elif one >= 30000 and one < 30250:\n",
    "        weight_code_list.append('3025')\n",
    "    elif one >= 30250 and one < 30500:\n",
    "        weight_code_list.append('3050')\n",
    "    elif one >= 30500 and one < 30750:\n",
    "        weight_code_list.append('3075')\n",
    "    elif one >= 30750 and one < 31000:\n",
    "        weight_code_list.append('3100')\n",
    "    elif one >= 31000 and one < 31250:\n",
    "        weight_code_list.append('3125')\n",
    "    elif one >= 31250 and one < 31500:\n",
    "        weight_code_list.append('3150')\n",
    "    elif one >= 31500 and one < 31750:\n",
    "        weight_code_list.append('3175')\n",
    "    elif one >= 31750 and one < 32000:\n",
    "        weight_code_list.append('3200')\n",
    "    elif one >= 32000 and one < 32250:\n",
    "        weight_code_list.append('3225')\n",
    "    elif one >= 32250 and one < 32500:\n",
    "        weight_code_list.append('3250')\n",
    "    elif one >= 32500 and one < 32750:\n",
    "        weight_code_list.append('3275')\n",
    "    elif one >= 32750 and one < 33000:\n",
    "        weight_code_list.append('3300')\n",
    "    elif one >= 33000 and one < 33250:\n",
    "        weight_code_list.append('3325')\n",
    "    elif one >= 33250 and one < 33500:\n",
    "        weight_code_list.append('3350')\n",
    "    elif one >= 33500 and one < 33750:\n",
    "        weight_code_list.append('3375')\n",
    "    elif one >= 33750 and one < 34000:\n",
    "        weight_code_list.append('3400')\n",
    "    elif one >= 34000 and one < 34250:\n",
    "        weight_code_list.append('3425')\n",
    "    elif one >= 34250 and one < 34500:\n",
    "        weight_code_list.append('3450')\n",
    "    elif one >= 34500 and one < 34750:\n",
    "        weight_code_list.append('3475')\n",
    "    elif one >= 34750 and one < 35000:\n",
    "        weight_code_list.append('3500')\n",
    "    elif one >= 35000 and one < 35250:\n",
    "        weight_code_list.append('3525')\n",
    "    elif one >= 35250 and one < 35500:\n",
    "        weight_code_list.append('3550')\n",
    "    elif one >= 35500 and one < 35750:\n",
    "        weight_code_list.append('3575')\n",
    "    elif one >= 35750 and one < 36000:\n",
    "        weight_code_list.append('3600')\n",
    "    elif one >= 36000 and one < 36250:\n",
    "        weight_code_list.append('3625')\n",
    "    elif one >= 36250 and one < 36500:\n",
    "        weight_code_list.append('3650')\n",
    "    elif one >= 36500 and one < 36750:\n",
    "        weight_code_list.append('3675')\n",
    "    elif one >= 36750 and one < 37000:\n",
    "        weight_code_list.append('3700')\n",
    "    elif one >= 37000 and one < 37250:\n",
    "        weight_code_list.append('3725')\n",
    "    elif one >= 37250 and one < 37500:\n",
    "        weight_code_list.append('3750')\n",
    "    elif one >= 37500 and one < 37750:\n",
    "        weight_code_list.append('3775')\n",
    "    elif one >= 37750 and one < 38000:\n",
    "        weight_code_list.append('3800')\n",
    "    elif one >= 38000 and one < 38250:\n",
    "        weight_code_list.append('3825')\n",
    "    elif one >= 38250 and one < 38500:\n",
    "        weight_code_list.append('3850')\n",
    "    elif one >= 38500 and one < 38750:\n",
    "        weight_code_list.append('3875')\n",
    "    elif one >= 38750 and one < 39000:\n",
    "        weight_code_list.append('3900')\n",
    "    elif one >= 39000 and one < 39250:\n",
    "        weight_code_list.append('3925')\n",
    "    elif one >= 39250 and one < 39500:\n",
    "        weight_code_list.append('3950')\n",
    "    elif one >= 39500 and one < 39750:\n",
    "        weight_code_list.append('3975')\n",
    "    elif one >= 39750 and one < 40000:\n",
    "        weight_code_list.append('4000')\n",
    "    elif one >= 40000 and one < 40250:\n",
    "        weight_code_list.append('4025')\n",
    "    elif one >= 40250 and one < 40500:\n",
    "        weight_code_list.append('4050')\n",
    "    elif one >= 40500 and one < 40750:\n",
    "        weight_code_list.append('4075')\n",
    "    elif one >= 40750 and one < 41000:\n",
    "        weight_code_list.append('4100')\n",
    "    elif one >= 41000 and one < 41250:\n",
    "        weight_code_list.append('4125')\n",
    "    elif one >= 41250 and one < 41500:\n",
    "        weight_code_list.append('4050')\n",
    "    elif one >= 41500 and one < 41750:\n",
    "        weight_code_list.append('4175')\n",
    "    elif one >= 41750 and one < 42000:\n",
    "        weight_code_list.append('4200')\n",
    "    elif one >= 42000 and one < 42250:\n",
    "        weight_code_list.append('4225')\n",
    "    elif one >= 42250 and one < 42500:\n",
    "        weight_code_list.append('4250')\n",
    "    elif one >= 42500 and one < 42750:\n",
    "        weight_code_list.append('4275')\n",
    "    elif one >= 42750 and one < 43000:\n",
    "        weight_code_list.append('4300')\n",
    "    elif one >= 43000 and one < 43250:\n",
    "        weight_code_list.append('4325')\n",
    "    elif one >= 43250 and one < 43500:\n",
    "        weight_code_list.append('4350')\n",
    "    elif one >= 43500 and one < 43750:\n",
    "        weight_code_list.append('4375')\n",
    "    elif one >= 43750 and one < 44000:\n",
    "        weight_code_list.append('4400')\n",
    "    elif one >= 44000 and one < 44250:\n",
    "        weight_code_list.append('4425')\n",
    "    elif one >= 44250 and one < 44500:\n",
    "        weight_code_list.append('4450')\n",
    "    elif one >= 44500 and one < 44750:\n",
    "        weight_code_list.append('4475')\n",
    "    elif one >= 44750 and one < 45000:\n",
    "        weight_code_list.append('4500')\n",
    "    elif one >= 45000 and one < 45250:\n",
    "        weight_code_list.append('4525')\n",
    "    elif one >= 45250 and one < 45500:\n",
    "        weight_code_list.append('4550')\n",
    "    elif one >= 45500 and one < 45750:\n",
    "        weight_code_list.append('4575')\n",
    "    elif one >= 45750 and one < 46000:\n",
    "        weight_code_list.append('4600')\n",
    "    elif one >= 46000 and one < 46250:\n",
    "        weight_code_list.append('4625')\n",
    "    elif one >= 46250 and one < 46500:\n",
    "        weight_code_list.append('4650')\n",
    "    elif one >= 46500 and one < 46750:\n",
    "        weight_code_list.append('4675')\n",
    "    elif one >= 46750 and one < 47000:\n",
    "        weight_code_list.append('4700')\n",
    "    elif one >= 47000 and one < 47250:\n",
    "        weight_code_list.append('4725')\n",
    "    elif one >= 47250 and one < 47500:\n",
    "        weight_code_list.append('4750')\n",
    "    elif one >= 47500 and one < 47750:\n",
    "        weight_code_list.append('4775')\n",
    "    elif one >= 47750 and one < 48000:\n",
    "        weight_code_list.append('4800')\n",
    "    elif one >= 48000 and one < 48250:\n",
    "        weight_code_list.append('4825')\n",
    "    elif one >= 48250 and one < 48500:\n",
    "        weight_code_list.append('4850')\n",
    "    elif one >= 48500 and one < 48750:\n",
    "        weight_code_list.append('4875')\n",
    "    elif one >= 48750 and one < 49000:\n",
    "        weight_code_list.append('4900')\n",
    "    elif one >= 49000 and one < 49250:\n",
    "        weight_code_list.append('4925')\n",
    "    elif one >= 49250 and one < 49500:\n",
    "        weight_code_list.append('4950')\n",
    "    elif one >= 49500 and one < 49750:\n",
    "        weight_code_list.append('4975')\n",
    "    elif one >= 49750 and one < 50000:\n",
    "        weight_code_list.append('5000')\n",
    "    elif one >= 50000:\n",
    "        weight_code_list.append('9999')"
   ]
  },
  {
   "cell_type": "code",
   "execution_count": 187,
   "metadata": {},
   "outputs": [
    {
     "data": {
      "text/plain": [
       "1528557"
      ]
     },
     "execution_count": 187,
     "metadata": {},
     "output_type": "execute_result"
    }
   ],
   "source": [
    "len(weight_code_list)"
   ]
  },
  {
   "cell_type": "code",
   "execution_count": 188,
   "metadata": {},
   "outputs": [
    {
     "data": {
      "text/plain": [
       "(1528557, 47)"
      ]
     },
     "execution_count": 188,
     "metadata": {},
     "output_type": "execute_result"
    }
   ],
   "source": [
    "gas_df.shape"
   ]
  },
  {
   "cell_type": "code",
   "execution_count": 189,
   "metadata": {},
   "outputs": [],
   "source": [
    "gas_df['총중량_코드'] = weight_code_list"
   ]
  },
  {
   "cell_type": "code",
   "execution_count": 190,
   "metadata": {},
   "outputs": [
    {
     "data": {
      "text/plain": [
       "'0250'"
      ]
     },
     "execution_count": 190,
     "metadata": {},
     "output_type": "execute_result"
    }
   ],
   "source": [
    "n = 250\n",
    "f'{n:0>4}'"
   ]
  },
  {
   "cell_type": "code",
   "execution_count": 191,
   "metadata": {},
   "outputs": [],
   "source": [
    "# 오류 : 9000개만 처리됨\n",
    "# weight_code_list = []\n",
    "# n1 = 250\n",
    "# for i, one in tqdm(enumerate(df5['총중량'])):\n",
    "#     for i in range(200):\n",
    "#         n1 += 250 * i\n",
    "#         n2 = n1 + 250\n",
    "#         s = f'{n2:0>4}'\n",
    "#         if one < 250:\n",
    "#             weight_code_list.append('0025')\n",
    "#         elif n1 <= one < n2:\n",
    "#             weight_code_list.append(s)\n",
    "#         elif one >= 50000:\n",
    "#             weight_code_list.append('9999')\n",
    "# len(weight_code_list)"
   ]
  },
  {
   "cell_type": "code",
   "execution_count": null,
   "metadata": {},
   "outputs": [],
   "source": []
  },
  {
   "attachments": {},
   "cell_type": "markdown",
   "metadata": {},
   "source": [
    "### 배기량으로 분류 현황"
   ]
  },
  {
   "cell_type": "code",
   "execution_count": 192,
   "metadata": {},
   "outputs": [
    {
     "data": {
      "text/plain": [
       "2497.0    412725\n",
       "1991.0    245077\n",
       "2902.0    139727\n",
       "2959.0     75052\n",
       "1995.0     68704\n",
       "           ...  \n",
       "2687.0         1\n",
       "5407.0         1\n",
       "2605.0         1\n",
       "1747.0         1\n",
       "2286.0         1\n",
       "Name: 배기량, Length: 627, dtype: int64"
      ]
     },
     "execution_count": 192,
     "metadata": {},
     "output_type": "execute_result"
    }
   ],
   "source": [
    "gas_df['배기량'].value_counts()"
   ]
  },
  {
   "cell_type": "code",
   "execution_count": 193,
   "metadata": {},
   "outputs": [
    {
     "data": {
      "text/plain": [
       "4"
      ]
     },
     "execution_count": 193,
     "metadata": {},
     "output_type": "execute_result"
    }
   ],
   "source": [
    "gas_df['배기량'].isnull().sum()"
   ]
  },
  {
   "cell_type": "code",
   "execution_count": 194,
   "metadata": {},
   "outputs": [],
   "source": [
    "gas_df['배기량'] = gas_df['배기량'].fillna(-1)"
   ]
  },
  {
   "cell_type": "code",
   "execution_count": 195,
   "metadata": {},
   "outputs": [
    {
     "name": "stderr",
     "output_type": "stream",
     "text": [
      "1528557it [00:01, 993921.31it/s] \n"
     ]
    }
   ],
   "source": [
    "gas_volume_list = []\n",
    "for i, one in tqdm(enumerate(gas_df['배기량'])):\n",
    "    if one == -1:\n",
    "        gas_volume_list.append('미기입')\n",
    "    elif one < 800:\n",
    "        gas_volume_list.append('0.8L 미만')\n",
    "    elif one >= 800 and one < 1000:\n",
    "        gas_volume_list.append('0.8L 이상 1.0L 미만')\n",
    "    elif one >= 1000 and one < 1600:\n",
    "        gas_volume_list.append('1.0L 이상 1.6L 미만')\n",
    "    elif one >= 1600 and one < 2000:\n",
    "        gas_volume_list.append('1.6L 이상 2.0L 미만')\n",
    "    elif one >= 2000 and one < 3000:\n",
    "        gas_volume_list.append('2.0L 이상 3.0L 미만')\n",
    "    elif one >= 3000 and one < 4000:\n",
    "        gas_volume_list.append('3.0L 이상 4.0L 미만')\n",
    "    elif one >= 4000 and one < 5000:\n",
    "        gas_volume_list.append('4.0L 이상 5.0L 미만')\n",
    "    elif one >= 5000 and one < 6000:\n",
    "        gas_volume_list.append('5.0L 이상 6.0L 미만')\n",
    "    elif one >= 6000 and one < 8000:\n",
    "        gas_volume_list.append('6.0L 이상 8.0L 미만')\n",
    "    elif one >= 8000 and one < 10000:\n",
    "        gas_volume_list.append('8.0L 이상 10.0L 미만')\n",
    "    elif one >= 10000:\n",
    "        gas_volume_list.append('10.0L 이상')"
   ]
  },
  {
   "cell_type": "code",
   "execution_count": 196,
   "metadata": {},
   "outputs": [
    {
     "data": {
      "text/plain": [
       "1528557"
      ]
     },
     "execution_count": 196,
     "metadata": {},
     "output_type": "execute_result"
    }
   ],
   "source": [
    "len(gas_volume_list)"
   ]
  },
  {
   "cell_type": "code",
   "execution_count": 197,
   "metadata": {},
   "outputs": [],
   "source": [
    "gas_df['배기량_분류'] = gas_volume_list"
   ]
  },
  {
   "cell_type": "code",
   "execution_count": 198,
   "metadata": {},
   "outputs": [
    {
     "data": {
      "text/html": [
       "<div>\n",
       "<style scoped>\n",
       "    .dataframe tbody tr th:only-of-type {\n",
       "        vertical-align: middle;\n",
       "    }\n",
       "\n",
       "    .dataframe tbody tr th {\n",
       "        vertical-align: top;\n",
       "    }\n",
       "\n",
       "    .dataframe thead th {\n",
       "        text-align: right;\n",
       "    }\n",
       "</style>\n",
       "<table border=\"1\" class=\"dataframe\">\n",
       "  <thead>\n",
       "    <tr style=\"text-align: right;\">\n",
       "      <th></th>\n",
       "      <th>배기량_분류</th>\n",
       "      <th>차대번호</th>\n",
       "    </tr>\n",
       "  </thead>\n",
       "  <tbody>\n",
       "    <tr>\n",
       "      <th>0</th>\n",
       "      <td>0.8L 미만</td>\n",
       "      <td>28673</td>\n",
       "    </tr>\n",
       "    <tr>\n",
       "      <th>1</th>\n",
       "      <td>0.8L 이상 1.0L 미만</td>\n",
       "      <td>171</td>\n",
       "    </tr>\n",
       "    <tr>\n",
       "      <th>2</th>\n",
       "      <td>1.0L 이상 1.6L 미만</td>\n",
       "      <td>165909</td>\n",
       "    </tr>\n",
       "    <tr>\n",
       "      <th>3</th>\n",
       "      <td>1.6L 이상 2.0L 미만</td>\n",
       "      <td>510876</td>\n",
       "    </tr>\n",
       "    <tr>\n",
       "      <th>4</th>\n",
       "      <td>10.0L 이상</td>\n",
       "      <td>16847</td>\n",
       "    </tr>\n",
       "    <tr>\n",
       "      <th>5</th>\n",
       "      <td>2.0L 이상 3.0L 미만</td>\n",
       "      <td>755436</td>\n",
       "    </tr>\n",
       "    <tr>\n",
       "      <th>6</th>\n",
       "      <td>3.0L 이상 4.0L 미만</td>\n",
       "      <td>31434</td>\n",
       "    </tr>\n",
       "    <tr>\n",
       "      <th>7</th>\n",
       "      <td>4.0L 이상 5.0L 미만</td>\n",
       "      <td>1340</td>\n",
       "    </tr>\n",
       "    <tr>\n",
       "      <th>8</th>\n",
       "      <td>5.0L 이상 6.0L 미만</td>\n",
       "      <td>15493</td>\n",
       "    </tr>\n",
       "    <tr>\n",
       "      <th>9</th>\n",
       "      <td>6.0L 이상 8.0L 미만</td>\n",
       "      <td>711</td>\n",
       "    </tr>\n",
       "    <tr>\n",
       "      <th>10</th>\n",
       "      <td>8.0L 이상 10.0L 미만</td>\n",
       "      <td>1663</td>\n",
       "    </tr>\n",
       "    <tr>\n",
       "      <th>11</th>\n",
       "      <td>미기입</td>\n",
       "      <td>4</td>\n",
       "    </tr>\n",
       "  </tbody>\n",
       "</table>\n",
       "</div>"
      ],
      "text/plain": [
       "              배기량_분류    차대번호\n",
       "0            0.8L 미만   28673\n",
       "1    0.8L 이상 1.0L 미만     171\n",
       "2    1.0L 이상 1.6L 미만  165909\n",
       "3    1.6L 이상 2.0L 미만  510876\n",
       "4           10.0L 이상   16847\n",
       "5    2.0L 이상 3.0L 미만  755436\n",
       "6    3.0L 이상 4.0L 미만   31434\n",
       "7    4.0L 이상 5.0L 미만    1340\n",
       "8    5.0L 이상 6.0L 미만   15493\n",
       "9    6.0L 이상 8.0L 미만     711\n",
       "10  8.0L 이상 10.0L 미만    1663\n",
       "11               미기입       4"
      ]
     },
     "execution_count": 198,
     "metadata": {},
     "output_type": "execute_result"
    }
   ],
   "source": [
    "total_gas_volume_df = gas_df.groupby(['배기량_분류'])['차대번호'].count().reset_index()\n",
    "total_gas_volume_df"
   ]
  },
  {
   "cell_type": "code",
   "execution_count": 199,
   "metadata": {},
   "outputs": [],
   "source": [
    "total_gas_volume_df.to_excel('analysis/[G4][배기량]분류_통계.xlsx', encoding='utf-8')"
   ]
  },
  {
   "attachments": {},
   "cell_type": "markdown",
   "metadata": {},
   "source": [
    "#### 배기량 code화"
   ]
  },
  {
   "cell_type": "code",
   "execution_count": 200,
   "metadata": {},
   "outputs": [
    {
     "name": "stderr",
     "output_type": "stream",
     "text": [
      "1528557it [00:01, 968941.31it/s] \n"
     ]
    }
   ],
   "source": [
    "gas_volume_code_list = []\n",
    "for i, one in tqdm(enumerate(gas_df['배기량'])):\n",
    "    if one < 800:\n",
    "        gas_volume_code_list.append('008')\n",
    "    elif one >= 800 and one < 1000:\n",
    "        gas_volume_code_list.append('010')\n",
    "    elif one >= 1000 and one < 1600:\n",
    "        gas_volume_code_list.append('016')\n",
    "    elif one >= 1600 and one < 2000:\n",
    "        gas_volume_code_list.append('020')\n",
    "    elif one >= 2000 and one < 2500:\n",
    "        gas_volume_code_list.append('025')\n",
    "    elif one >= 2500 and one < 3000:\n",
    "        gas_volume_code_list.append('030')\n",
    "    elif one >= 3000 and one < 3500:\n",
    "        gas_volume_code_list.append('035')\n",
    "    elif one >= 3500 and one < 4000:\n",
    "        gas_volume_code_list.append('040')\n",
    "    elif one >= 4000 and one < 4500:\n",
    "        gas_volume_code_list.append('045')\n",
    "    elif one >= 4500 and one < 5000:\n",
    "        gas_volume_code_list.append('050')\n",
    "    elif one >= 5000 and one < 5500:\n",
    "        gas_volume_code_list.append('055')\n",
    "    elif one >= 5500 and one < 6000:\n",
    "        gas_volume_code_list.append('060')\n",
    "    elif one >= 6000 and one < 6500:\n",
    "        gas_volume_code_list.append('065')\n",
    "    elif one >= 6500 and one < 7000:\n",
    "        gas_volume_code_list.append('070')\n",
    "    elif one >= 7000 and one < 7500:\n",
    "        gas_volume_code_list.append('075')\n",
    "    elif one >= 7500 and one < 8000:\n",
    "        gas_volume_code_list.append('080')\n",
    "    elif one >= 8000 and one < 8500:\n",
    "        gas_volume_code_list.append('085')\n",
    "    elif one >= 8500 and one < 9000:\n",
    "        gas_volume_code_list.append('090')\n",
    "    elif one >= 9000 and one < 9500:\n",
    "        gas_volume_code_list.append('095')\n",
    "    elif one >= 9500 and one < 10000:\n",
    "        gas_volume_code_list.append('100')\n",
    "    elif one >= 10000 and one < 10500:\n",
    "        gas_volume_code_list.append('105')\n",
    "    elif one >= 10500 and one < 11000:\n",
    "        gas_volume_code_list.append('110')\n",
    "    elif one >= 11000 and one < 11500:\n",
    "        gas_volume_code_list.append('115')\n",
    "    elif one >= 11500 and one < 12000:\n",
    "        gas_volume_code_list.append('120')\n",
    "    elif one >= 12000 and one < 12500:\n",
    "        gas_volume_code_list.append('125')\n",
    "    elif one >= 12500 and one < 13000:\n",
    "        gas_volume_code_list.append('130')\n",
    "    elif one >= 13000 and one < 13500:\n",
    "        gas_volume_code_list.append('135')\n",
    "    elif one >= 13500 and one < 14000:\n",
    "        gas_volume_code_list.append('140')\n",
    "    elif one >= 14000 and one < 14500:\n",
    "        gas_volume_code_list.append('145')\n",
    "    elif one >= 14500 and one < 15000:\n",
    "        gas_volume_code_list.append('150')\n",
    "    elif one >= 15000 and one < 15500:\n",
    "        gas_volume_code_list.append('155')\n",
    "    elif one >= 15500 and one < 16000:\n",
    "        gas_volume_code_list.append('160')\n",
    "    elif one >= 16000 and one < 16500:\n",
    "        gas_volume_code_list.append('165')\n",
    "    elif one >= 16500 and one < 17000:\n",
    "        gas_volume_code_list.append('170')\n",
    "    elif one >= 17000 and one < 18000:\n",
    "        gas_volume_code_list.append('180')\n",
    "    elif one >= 18000 and one < 18500:\n",
    "        gas_volume_code_list.append('185')\n",
    "    elif one >= 18500 and one < 19000:\n",
    "        gas_volume_code_list.append('190')\n",
    "    elif one >= 19000 and one < 19500:\n",
    "        gas_volume_code_list.append('195')\n",
    "    elif one >= 19500 and one < 20000:\n",
    "        gas_volume_code_list.append('200')\n",
    "    elif one >= 20000 and one < 20500:\n",
    "        gas_volume_code_list.append('205')\n",
    "    elif one >= 20500 and one < 21000:\n",
    "        gas_volume_code_list.append('210')\n",
    "    elif one >= 21000 and one < 21500:\n",
    "        gas_volume_code_list.append('215')\n",
    "    elif one >= 21500 and one < 22000:\n",
    "        gas_volume_code_list.append('220')\n",
    "    elif one >= 22000 and one < 22500:\n",
    "        gas_volume_code_list.append('225')\n",
    "    elif one >= 22500 and one < 23000:\n",
    "        gas_volume_code_list.append('230')\n",
    "    elif one >= 23000 and one < 23500:\n",
    "        gas_volume_code_list.append('235')\n",
    "    elif one >= 23500 and one < 24000:\n",
    "        gas_volume_code_list.append('240')\n",
    "    elif one >= 24000 and one < 24500:\n",
    "        gas_volume_code_list.append('245')\n",
    "    elif one >= 24500 and one < 25000:\n",
    "        gas_volume_code_list.append('250')\n",
    "    elif one >= 25000 and one < 25500:\n",
    "        gas_volume_code_list.append('255')\n",
    "    elif one >= 25500 and one < 26000:\n",
    "        gas_volume_code_list.append('260')\n",
    "    elif one >= 26000 and one < 26500:\n",
    "        gas_volume_code_list.append('265')\n",
    "    elif one >= 26500 and one < 27000:\n",
    "        gas_volume_code_list.append('270')\n",
    "    elif one >= 27000 and one < 27500:\n",
    "        gas_volume_code_list.append('275')\n",
    "    elif one >= 27500 and one < 28000:\n",
    "        gas_volume_code_list.append('280')\n",
    "    elif one >= 28000 and one < 28500:\n",
    "        gas_volume_code_list.append('285')\n",
    "    elif one >= 28500 and one < 29000:\n",
    "        gas_volume_code_list.append('290')\n",
    "    elif one >= 29000 and one < 29500:\n",
    "        gas_volume_code_list.append('295')\n",
    "    elif one >= 29500 and one < 30000:\n",
    "        gas_volume_code_list.append('300')"
   ]
  },
  {
   "cell_type": "code",
   "execution_count": 201,
   "metadata": {},
   "outputs": [
    {
     "data": {
      "text/plain": [
       "1528557"
      ]
     },
     "execution_count": 201,
     "metadata": {},
     "output_type": "execute_result"
    }
   ],
   "source": [
    "len(gas_volume_code_list)"
   ]
  },
  {
   "cell_type": "code",
   "execution_count": 202,
   "metadata": {},
   "outputs": [],
   "source": [
    "gas_df['배기량_코드'] = gas_volume_code_list"
   ]
  },
  {
   "cell_type": "code",
   "execution_count": 203,
   "metadata": {},
   "outputs": [],
   "source": [
    "gas_df['배출가스인증번호'] = gas_df['배출가스인증번호'].str.replace(' ', '')"
   ]
  },
  {
   "attachments": {},
   "cell_type": "markdown",
   "metadata": {},
   "source": [
    "### 배인 코드화"
   ]
  },
  {
   "cell_type": "code",
   "execution_count": 204,
   "metadata": {},
   "outputs": [
    {
     "data": {
      "text/plain": [
       "array([nan, '7MY-HD-14-68', '7MY-HD-24-31', '7MY-HD-24-09',\n",
       "       '7MY-HD-24-28', '7MY-KM-14-65', '6MY-SS-0M-24', '7MY-HD-13-58',\n",
       "       '7MY-KM-14-63', '7MY-HD-14-47', '7MY-HD-14-46', '7MY-DB-24-42',\n",
       "       '8MY-KM-13-19', '7MY-HD-14-57', '7MY-KM-14-64', '9MY-KM-14-41',\n",
       "       '7MY-HD-24-30', 'FMY-VTK-14-1', '5MY-HD-24-59', '6MY-HD-23-55',\n",
       "       '6MY-KM-14-61', '7MY-DW-13-07', '7MY-HD-24-29', '5MY-AD-14-18',\n",
       "       'FMY-VTK-14-4', '6MY-HD-24-12', '7MY-SY-14-48', '6MY-HD-24-100',\n",
       "       '7MY-HD-14-45', 'FMY-VTK-14-2', 'FMY-VTK-14-3', 'RMY-HD-20',\n",
       "       'VMY-HD-30', 'WMY-HD-32', '5MY-AD-14-12', '9MY-HD-14-21',\n",
       "       '5MY-AD-14-08', '7MY-SY-14-60', '7MY-SM-14-36', '6MY-HD-14-97',\n",
       "       '7MY-HD-24-08', '6MY-KM-24-81', 'CMY-VTK-14-01', 'CMY-VTK-14-02',\n",
       "       'KMY-HD-03', '6MY-HD-14-64', 'MMY-HD-11', '5MY-SY-23-58',\n",
       "       '6MY-HD-14-63', 'SMY-KM-32', '6MY-KM-24-06', '7MY-KM-14-52',\n",
       "       '8MY-HT-0M-24', '6MY-HD-24-44', '7MY-SY-14-34', '5MY-HB-24-02',\n",
       "       'BMY-PPE-14-29', '6MY-DW-14-18', '7MY-AD-14-04', '8MY-PA-14-3',\n",
       "       '7MY-SY-14-24', '6MY-KM-14-57', '5MY-KM-24-57', '8MY-DC-24-12',\n",
       "       '7MY-DC-24-69', 'XMY-HD-47', '7MY-KM-24-32', 'AMY-PPE-14-1051',\n",
       "       '9MY-AD-14-04', '6MY-AD-13-11', '7MY-SK-24-02', 'AMY-PPE-14-654',\n",
       "       '8MY-DC-24-15', '7MY-DC-24-72', '7MY-DC-23-70', '7MY-DC-23-69',\n",
       "       '7MY-DC-24-70', '7MY-MT-24-01', '8MY-DC-23-27', 'XMY-HD-44',\n",
       "       '8MY-SY-13-14', 'AMY-JL-13-9', '8MY-KM-14-29', 'AMY-PPE-14-888',\n",
       "       '5MY-HD-24-56', '6MY-HD-14-96', 'PMY-KM-20', '7MY-KM-24-33',\n",
       "       'AMY-PPE-24-320', 'AMY-PPS-14-180', 'AMY-PPE-14-800',\n",
       "       '7MY-MT-24-02', 'AMY-PPE-14-924', '7MY-VTK-24-01', '8MY-KM-14-21',\n",
       "       '7MY-VTK-24-02', '8MY-DC-24-27', '6MY-PA-14-4', '9MY-PA-13-1',\n",
       "       'AMY-PPE-14-779', 'AMY-PPE-14-691', '9MY-JL-14-4',\n",
       "       'AMY-PPE-14-631', 'AMY-PPE-14-297', 'AMY-PPE-14-225',\n",
       "       'AMY-PPE-24-01', '5MY-AD-13-06', '9MY-PPE-14-602', '9MY-PP-14-409',\n",
       "       '9MY-PPE-14-543', 'PMY-KM-19', '7MY-MK-14-04', '7MY-HK-0M-24',\n",
       "       '8MY-AD-14-03', '9MY-PP-14-W38', '5MY-PA-13-20', '8MY-AD-14-09',\n",
       "       '7MY-PA-14-1', '9MY-PP-14-333', '6MY-AD-14-10', '7MY-MK-14-07',\n",
       "       '6MY-MK-14-13', '7MY-PA-14-07', '7MY-DB-24-43', '5MY-AD-14-19',\n",
       "       '7MY-SY-14-49', '7MY-DC-24-71', '6MY-GK-14-01', '7MY-PA-14-2',\n",
       "       '5MY-AD-13-13', '7MY-AD-13-05', '7MY-AD-13-01', '7MY-HC-0M-24',\n",
       "       '8MY-HS-0M-24', '6MY-BK-13-08', '7MY-TK-0M-24', '8MY-DB-24-08',\n",
       "       '9MY-PP-24-56', '8MY-KL-0M-24', '8MY-DK-0M-24', '7MY-PA-13-11',\n",
       "       '5MY-SK-23-01', '7MY-SY-14-61', '7MY-DB-24-40', '8MY-KO-0M-24',\n",
       "       '7MY-DB-23-43', '6MY-KM-14-58', '7MY-DS-0M-24', '8MY-HK-0M-24',\n",
       "       '7MY-AD-13-06', '6MY-KM-14-59', '7MY-JJ-0M-24', '8MY-WS-0M-24',\n",
       "       '8MY-SJ-0M-24', 'TMY-KM-35', '6MY-PA-14-03', '7MY-DB-24-44',\n",
       "       '8MY-MM-0M-24', '7MY-HT-0M-24', '7MY-DK-24-04', '7MY-HS-0M-24',\n",
       "       '8MY-NK-0M-24', '7MY-SS-0M-24', '7MY-CH-0M-24', '8MY-BK-0M-24',\n",
       "       '7MY-SJ-0M-24', '8MY-FI-0M-24', '7MY-NS-0M-24', '8MY-JJ-0M-24',\n",
       "       '7MY-KJ-0M-24', 'LMY-HD-09', '8MY-HR-0M-24', '7MY-HD-23-01',\n",
       "       '8MY-DY-0M-24', '7MY-HH-0M-24', 'C135', '8MY-PP-14-1364',\n",
       "       '7MY-FI-0M-24', '6MY-MK-14-02', '7MY-PK-0M-24', '8MY-HB-0M-24',\n",
       "       '7MY-HR-0M-24', '8MY-SE-0M-24', '8MY-KM-0M-24', '7MY-BT-0M-24',\n",
       "       '7MY-SK-24-03', '7MY-JI-0M-24', '8MY-TK-0M-24', '8MY-DI-0M-24',\n",
       "       '5MY-VTK-24-01', '8MY-WY-0M-24', '8MY-SH-0M-24', '8MY-WI-0M-24',\n",
       "       '8MY-HC-0M-24', '8MY-KN-0M-24', '8MY-OT-0M-24', '8MY-BD-0M-24',\n",
       "       '8MY-JB-0M-24', '8MY-BT-0M-24', '6MY-DB-23-45', '8MY-AM-0M-24',\n",
       "       '8MY-EC-0M-24', '7MY-JW-0M-24', '7MY-SH-0M-24', '8MY-CR-0M-24',\n",
       "       '8MY-ET-0M-24', '8MY-DH-0M-24', '7MY-DR-0M-24', '8MY-BS-0M-24',\n",
       "       '7MY-KM-0M-24', '8MY-SN-0M-24', '5MY-BK-14-07', '7MY-ET-0M-24',\n",
       "       '8MY-SS-0M-24', '7MY-DB-23-40', '7MY-KL-0M-24', '7MY-HB-0M-24',\n",
       "       '8MY-FM-0M-24', '7MY-SW-0M-24', '6MY-DB-24-24', '7MY-WD-0M-24',\n",
       "       '7MY-MM-0M-24', '5MY-AD-13-07', '5MY-KM-24-64', '5MY-PA-14-20',\n",
       "       '5MY-HD-24-35', 'KMY-HD-04', 'MMY-HD-10', '5MY-PA-14-19',\n",
       "       '5MY-KM-24-17', '5MY-SY-24-48', '4MY-AD-20', '5MY-PA-14-17',\n",
       "       '4MY-DC-33', 'MMY-HD-14', '5MY-PA-14-18', '5MY-HB-24-03',\n",
       "       '4MY-PA-06', 'LMY-KM-07', 'WMY-HD-37', 'PMY-HD-17', '5MY-DC-23-06',\n",
       "       'LMY-HD-08', 'SMY-KM-30', 'KMY-HD-02', 'SMY-HD-21', 'JMY-HD-15',\n",
       "       'XMY-HD-55', 'WMY-HD-33', 'TMY-HD-23', 'SMY-KM-04', 'YKM-KM-12',\n",
       "       'XMY-HD-48', 'RMY-HD-19', 'KMY-HD-01', 'RMY-KM-25', 'RMY-KM-24',\n",
       "       'TY87-배K-02', 'VMY-HD-31', 'VMY-HD-29', 'VMY-HD-27', 'WMY-HD-34',\n",
       "       'MMY-HD-12', 'XMY-KM-47', 'NMY-JK-S-107', 'SMY-KM-27', 'WMY-KM-44',\n",
       "       'VMY-KM-42', 'WMY-HD-35', 'TMY-KM-37', 'VMY-KM-38', 'VMY-KM-40',\n",
       "       'TMY-KM-36', 'VMY-KM-39', 'SMY-KM-33', 'SMY-KM-29', 'PMY-KM-21',\n",
       "       'SMY-HD-22', 'VMY-HD-28', 'TMY-HD-26', 'PMY-KM-17', 'PMY-KM-18',\n",
       "       'TMY-KM-34', 'TY87-배K-10', '3MY-FK-08', 'KMY-HD-06', 'SMY-KM-31',\n",
       "       'TY87-배K-03', 'TMY-HD-24', 'NMY-KM-13', 'NMY-KM-12', 'PMY-HD-18',\n",
       "       'LMY-KM-11', 'PMY-KM-23', 'PMY-KM-16', 'KMY-KM-04', 'KMY-KM-05',\n",
       "       'KMY-KM-02', 'KMY-HD-05', 'MMY-KM-10', 'TY88-배K-09'], dtype=object)"
      ]
     },
     "execution_count": 204,
     "metadata": {},
     "output_type": "execute_result"
    }
   ],
   "source": [
    "gas_df['배출가스인증번호'].unique()"
   ]
  },
  {
   "cell_type": "code",
   "execution_count": 205,
   "metadata": {},
   "outputs": [
    {
     "data": {
      "text/plain": [
       "0         3MY-FK-08\n",
       "1         4MY-AD-20\n",
       "2         4MY-DC-33\n",
       "3         4MY-PA-06\n",
       "4      5MY-AD-13-06\n",
       "           ...     \n",
       "295       XMY-HD-47\n",
       "296       XMY-HD-48\n",
       "297       XMY-HD-55\n",
       "298       XMY-KM-47\n",
       "299       YKM-KM-12\n",
       "Name: index, Length: 300, dtype: object"
      ]
     },
     "execution_count": 205,
     "metadata": {},
     "output_type": "execute_result"
    }
   ],
   "source": [
    "temp = gas_df['배출가스인증번호'].value_counts().reset_index().sort_values('index')['index'].reset_index(drop=True)\n",
    "temp"
   ]
  },
  {
   "cell_type": "code",
   "execution_count": 206,
   "metadata": {},
   "outputs": [
    {
     "data": {
      "text/html": [
       "<div>\n",
       "<style scoped>\n",
       "    .dataframe tbody tr th:only-of-type {\n",
       "        vertical-align: middle;\n",
       "    }\n",
       "\n",
       "    .dataframe tbody tr th {\n",
       "        vertical-align: top;\n",
       "    }\n",
       "\n",
       "    .dataframe thead th {\n",
       "        text-align: right;\n",
       "    }\n",
       "</style>\n",
       "<table border=\"1\" class=\"dataframe\">\n",
       "  <thead>\n",
       "    <tr style=\"text-align: right;\">\n",
       "      <th></th>\n",
       "      <th>index</th>\n",
       "    </tr>\n",
       "  </thead>\n",
       "  <tbody>\n",
       "    <tr>\n",
       "      <th>0</th>\n",
       "      <td>3MY-FK-08</td>\n",
       "    </tr>\n",
       "    <tr>\n",
       "      <th>1</th>\n",
       "      <td>4MY-AD-20</td>\n",
       "    </tr>\n",
       "    <tr>\n",
       "      <th>2</th>\n",
       "      <td>4MY-DC-33</td>\n",
       "    </tr>\n",
       "    <tr>\n",
       "      <th>3</th>\n",
       "      <td>4MY-PA-06</td>\n",
       "    </tr>\n",
       "    <tr>\n",
       "      <th>4</th>\n",
       "      <td>5MY-AD-13-06</td>\n",
       "    </tr>\n",
       "    <tr>\n",
       "      <th>...</th>\n",
       "      <td>...</td>\n",
       "    </tr>\n",
       "    <tr>\n",
       "      <th>295</th>\n",
       "      <td>XMY-HD-47</td>\n",
       "    </tr>\n",
       "    <tr>\n",
       "      <th>296</th>\n",
       "      <td>XMY-HD-48</td>\n",
       "    </tr>\n",
       "    <tr>\n",
       "      <th>297</th>\n",
       "      <td>XMY-HD-55</td>\n",
       "    </tr>\n",
       "    <tr>\n",
       "      <th>298</th>\n",
       "      <td>XMY-KM-47</td>\n",
       "    </tr>\n",
       "    <tr>\n",
       "      <th>299</th>\n",
       "      <td>YKM-KM-12</td>\n",
       "    </tr>\n",
       "  </tbody>\n",
       "</table>\n",
       "<p>300 rows × 1 columns</p>\n",
       "</div>"
      ],
      "text/plain": [
       "            index\n",
       "0       3MY-FK-08\n",
       "1       4MY-AD-20\n",
       "2       4MY-DC-33\n",
       "3       4MY-PA-06\n",
       "4    5MY-AD-13-06\n",
       "..            ...\n",
       "295     XMY-HD-47\n",
       "296     XMY-HD-48\n",
       "297     XMY-HD-55\n",
       "298     XMY-KM-47\n",
       "299     YKM-KM-12\n",
       "\n",
       "[300 rows x 1 columns]"
      ]
     },
     "execution_count": 206,
     "metadata": {},
     "output_type": "execute_result"
    }
   ],
   "source": [
    "temp.to_frame()"
   ]
  },
  {
   "cell_type": "code",
   "execution_count": 207,
   "metadata": {},
   "outputs": [
    {
     "data": {
      "text/plain": [
       "300"
      ]
     },
     "execution_count": 207,
     "metadata": {},
     "output_type": "execute_result"
    }
   ],
   "source": [
    "gas_idx = []\n",
    "for i in range(1, 301):\n",
    "    s = f'EN{i:0>3}'\n",
    "    gas_idx.append(s)\n",
    "len(gas_idx)"
   ]
  },
  {
   "cell_type": "code",
   "execution_count": 208,
   "metadata": {},
   "outputs": [
    {
     "data": {
      "text/html": [
       "<div>\n",
       "<style scoped>\n",
       "    .dataframe tbody tr th:only-of-type {\n",
       "        vertical-align: middle;\n",
       "    }\n",
       "\n",
       "    .dataframe tbody tr th {\n",
       "        vertical-align: top;\n",
       "    }\n",
       "\n",
       "    .dataframe thead th {\n",
       "        text-align: right;\n",
       "    }\n",
       "</style>\n",
       "<table border=\"1\" class=\"dataframe\">\n",
       "  <thead>\n",
       "    <tr style=\"text-align: right;\">\n",
       "      <th></th>\n",
       "      <th>배출가스인증번호_코드</th>\n",
       "    </tr>\n",
       "  </thead>\n",
       "  <tbody>\n",
       "    <tr>\n",
       "      <th>0</th>\n",
       "      <td>EN001</td>\n",
       "    </tr>\n",
       "    <tr>\n",
       "      <th>1</th>\n",
       "      <td>EN002</td>\n",
       "    </tr>\n",
       "    <tr>\n",
       "      <th>2</th>\n",
       "      <td>EN003</td>\n",
       "    </tr>\n",
       "    <tr>\n",
       "      <th>3</th>\n",
       "      <td>EN004</td>\n",
       "    </tr>\n",
       "    <tr>\n",
       "      <th>4</th>\n",
       "      <td>EN005</td>\n",
       "    </tr>\n",
       "    <tr>\n",
       "      <th>...</th>\n",
       "      <td>...</td>\n",
       "    </tr>\n",
       "    <tr>\n",
       "      <th>295</th>\n",
       "      <td>EN296</td>\n",
       "    </tr>\n",
       "    <tr>\n",
       "      <th>296</th>\n",
       "      <td>EN297</td>\n",
       "    </tr>\n",
       "    <tr>\n",
       "      <th>297</th>\n",
       "      <td>EN298</td>\n",
       "    </tr>\n",
       "    <tr>\n",
       "      <th>298</th>\n",
       "      <td>EN299</td>\n",
       "    </tr>\n",
       "    <tr>\n",
       "      <th>299</th>\n",
       "      <td>EN300</td>\n",
       "    </tr>\n",
       "  </tbody>\n",
       "</table>\n",
       "<p>300 rows × 1 columns</p>\n",
       "</div>"
      ],
      "text/plain": [
       "    배출가스인증번호_코드\n",
       "0         EN001\n",
       "1         EN002\n",
       "2         EN003\n",
       "3         EN004\n",
       "4         EN005\n",
       "..          ...\n",
       "295       EN296\n",
       "296       EN297\n",
       "297       EN298\n",
       "298       EN299\n",
       "299       EN300\n",
       "\n",
       "[300 rows x 1 columns]"
      ]
     },
     "execution_count": 208,
     "metadata": {},
     "output_type": "execute_result"
    }
   ],
   "source": [
    "gas_idx_df = pd.DataFrame({'배출가스인증번호_코드':gas_idx})\n",
    "gas_idx_df"
   ]
  },
  {
   "cell_type": "code",
   "execution_count": 209,
   "metadata": {},
   "outputs": [
    {
     "data": {
      "text/html": [
       "<div>\n",
       "<style scoped>\n",
       "    .dataframe tbody tr th:only-of-type {\n",
       "        vertical-align: middle;\n",
       "    }\n",
       "\n",
       "    .dataframe tbody tr th {\n",
       "        vertical-align: top;\n",
       "    }\n",
       "\n",
       "    .dataframe thead th {\n",
       "        text-align: right;\n",
       "    }\n",
       "</style>\n",
       "<table border=\"1\" class=\"dataframe\">\n",
       "  <thead>\n",
       "    <tr style=\"text-align: right;\">\n",
       "      <th></th>\n",
       "      <th>0</th>\n",
       "      <th>1</th>\n",
       "    </tr>\n",
       "  </thead>\n",
       "  <tbody>\n",
       "    <tr>\n",
       "      <th>0</th>\n",
       "      <td>3MY-FK-08</td>\n",
       "      <td>EN001</td>\n",
       "    </tr>\n",
       "    <tr>\n",
       "      <th>1</th>\n",
       "      <td>4MY-AD-20</td>\n",
       "      <td>EN002</td>\n",
       "    </tr>\n",
       "    <tr>\n",
       "      <th>2</th>\n",
       "      <td>4MY-DC-33</td>\n",
       "      <td>EN003</td>\n",
       "    </tr>\n",
       "    <tr>\n",
       "      <th>3</th>\n",
       "      <td>4MY-PA-06</td>\n",
       "      <td>EN004</td>\n",
       "    </tr>\n",
       "    <tr>\n",
       "      <th>4</th>\n",
       "      <td>5MY-AD-13-06</td>\n",
       "      <td>EN005</td>\n",
       "    </tr>\n",
       "    <tr>\n",
       "      <th>...</th>\n",
       "      <td>...</td>\n",
       "      <td>...</td>\n",
       "    </tr>\n",
       "    <tr>\n",
       "      <th>295</th>\n",
       "      <td>XMY-HD-47</td>\n",
       "      <td>EN296</td>\n",
       "    </tr>\n",
       "    <tr>\n",
       "      <th>296</th>\n",
       "      <td>XMY-HD-48</td>\n",
       "      <td>EN297</td>\n",
       "    </tr>\n",
       "    <tr>\n",
       "      <th>297</th>\n",
       "      <td>XMY-HD-55</td>\n",
       "      <td>EN298</td>\n",
       "    </tr>\n",
       "    <tr>\n",
       "      <th>298</th>\n",
       "      <td>XMY-KM-47</td>\n",
       "      <td>EN299</td>\n",
       "    </tr>\n",
       "    <tr>\n",
       "      <th>299</th>\n",
       "      <td>YKM-KM-12</td>\n",
       "      <td>EN300</td>\n",
       "    </tr>\n",
       "  </tbody>\n",
       "</table>\n",
       "<p>300 rows × 2 columns</p>\n",
       "</div>"
      ],
      "text/plain": [
       "                0      1\n",
       "0       3MY-FK-08  EN001\n",
       "1       4MY-AD-20  EN002\n",
       "2       4MY-DC-33  EN003\n",
       "3       4MY-PA-06  EN004\n",
       "4    5MY-AD-13-06  EN005\n",
       "..            ...    ...\n",
       "295     XMY-HD-47  EN296\n",
       "296     XMY-HD-48  EN297\n",
       "297     XMY-HD-55  EN298\n",
       "298     XMY-KM-47  EN299\n",
       "299     YKM-KM-12  EN300\n",
       "\n",
       "[300 rows x 2 columns]"
      ]
     },
     "execution_count": 209,
     "metadata": {},
     "output_type": "execute_result"
    }
   ],
   "source": [
    "temp2 = pd.concat([temp, gas_idx_df], axis=1, ignore_index=True)\n",
    "temp2"
   ]
  },
  {
   "cell_type": "code",
   "execution_count": 210,
   "metadata": {},
   "outputs": [
    {
     "data": {
      "text/html": [
       "<div>\n",
       "<style scoped>\n",
       "    .dataframe tbody tr th:only-of-type {\n",
       "        vertical-align: middle;\n",
       "    }\n",
       "\n",
       "    .dataframe tbody tr th {\n",
       "        vertical-align: top;\n",
       "    }\n",
       "\n",
       "    .dataframe thead th {\n",
       "        text-align: right;\n",
       "    }\n",
       "</style>\n",
       "<table border=\"1\" class=\"dataframe\">\n",
       "  <thead>\n",
       "    <tr style=\"text-align: right;\">\n",
       "      <th></th>\n",
       "      <th>배출가스인증번호</th>\n",
       "      <th>배출가스인증번호_코드</th>\n",
       "    </tr>\n",
       "  </thead>\n",
       "  <tbody>\n",
       "    <tr>\n",
       "      <th>0</th>\n",
       "      <td>3MY-FK-08</td>\n",
       "      <td>EN001</td>\n",
       "    </tr>\n",
       "    <tr>\n",
       "      <th>1</th>\n",
       "      <td>4MY-AD-20</td>\n",
       "      <td>EN002</td>\n",
       "    </tr>\n",
       "    <tr>\n",
       "      <th>2</th>\n",
       "      <td>4MY-DC-33</td>\n",
       "      <td>EN003</td>\n",
       "    </tr>\n",
       "    <tr>\n",
       "      <th>3</th>\n",
       "      <td>4MY-PA-06</td>\n",
       "      <td>EN004</td>\n",
       "    </tr>\n",
       "    <tr>\n",
       "      <th>4</th>\n",
       "      <td>5MY-AD-13-06</td>\n",
       "      <td>EN005</td>\n",
       "    </tr>\n",
       "    <tr>\n",
       "      <th>...</th>\n",
       "      <td>...</td>\n",
       "      <td>...</td>\n",
       "    </tr>\n",
       "    <tr>\n",
       "      <th>295</th>\n",
       "      <td>XMY-HD-47</td>\n",
       "      <td>EN296</td>\n",
       "    </tr>\n",
       "    <tr>\n",
       "      <th>296</th>\n",
       "      <td>XMY-HD-48</td>\n",
       "      <td>EN297</td>\n",
       "    </tr>\n",
       "    <tr>\n",
       "      <th>297</th>\n",
       "      <td>XMY-HD-55</td>\n",
       "      <td>EN298</td>\n",
       "    </tr>\n",
       "    <tr>\n",
       "      <th>298</th>\n",
       "      <td>XMY-KM-47</td>\n",
       "      <td>EN299</td>\n",
       "    </tr>\n",
       "    <tr>\n",
       "      <th>299</th>\n",
       "      <td>YKM-KM-12</td>\n",
       "      <td>EN300</td>\n",
       "    </tr>\n",
       "  </tbody>\n",
       "</table>\n",
       "<p>300 rows × 2 columns</p>\n",
       "</div>"
      ],
      "text/plain": [
       "         배출가스인증번호 배출가스인증번호_코드\n",
       "0       3MY-FK-08       EN001\n",
       "1       4MY-AD-20       EN002\n",
       "2       4MY-DC-33       EN003\n",
       "3       4MY-PA-06       EN004\n",
       "4    5MY-AD-13-06       EN005\n",
       "..            ...         ...\n",
       "295     XMY-HD-47       EN296\n",
       "296     XMY-HD-48       EN297\n",
       "297     XMY-HD-55       EN298\n",
       "298     XMY-KM-47       EN299\n",
       "299     YKM-KM-12       EN300\n",
       "\n",
       "[300 rows x 2 columns]"
      ]
     },
     "execution_count": 210,
     "metadata": {},
     "output_type": "execute_result"
    }
   ],
   "source": [
    "temp2.columns = ['배출가스인증번호', '배출가스인증번호_코드']\n",
    "temp2"
   ]
  },
  {
   "cell_type": "code",
   "execution_count": 211,
   "metadata": {},
   "outputs": [
    {
     "name": "stdout",
     "output_type": "stream",
     "text": [
      "<class 'pandas.core.frame.DataFrame'>\n",
      "RangeIndex: 300 entries, 0 to 299\n",
      "Data columns (total 2 columns):\n",
      " #   Column       Non-Null Count  Dtype \n",
      "---  ------       --------------  ----- \n",
      " 0   배출가스인증번호     300 non-null    object\n",
      " 1   배출가스인증번호_코드  300 non-null    object\n",
      "dtypes: object(2)\n",
      "memory usage: 4.8+ KB\n"
     ]
    }
   ],
   "source": [
    "temp2.info()"
   ]
  },
  {
   "cell_type": "code",
   "execution_count": 212,
   "metadata": {},
   "outputs": [
    {
     "data": {
      "text/plain": [
       "(1528557, 50)"
      ]
     },
     "execution_count": 212,
     "metadata": {},
     "output_type": "execute_result"
    }
   ],
   "source": [
    "gas_df.shape"
   ]
  },
  {
   "cell_type": "code",
   "execution_count": 213,
   "metadata": {},
   "outputs": [
    {
     "data": {
      "text/plain": [
       "Index(['차량관리번호', '차량등록번호', '본거지법정동코드', '소유자구분', '차종_등록정보', '용도', '차대번호',\n",
       "       '최초등록일자', '차량연식', '차량제작일자', '검사유효일', '제원관리번호', '배출가스인증번호', '배출가스등급',\n",
       "       '저공해조치종류', '저공해조치구조변경YN', '취득일자', '취득금액', '차명', '차종_제원정보', '차종분류',\n",
       "       '차종유형', '자동차형식', '제작사명', '연료', '엔진형식', '총중량', '적재중량', '엔진출력', '배기량',\n",
       "       '승차인원', '차량길이', '차량너비', '차량높이', '원산지명', '삭제YN', '제원승인일자', '구동형식',\n",
       "       '변속기종류', '차량말소YN', 'code1', '시도', '시구군', '폐지여부', '대기관리권역', '대기관리권역YN',\n",
       "       '총중량_분류', '총중량_코드', '배기량_분류', '배기량_코드'],\n",
       "      dtype='object')"
      ]
     },
     "execution_count": 213,
     "metadata": {},
     "output_type": "execute_result"
    }
   ],
   "source": [
    "gas_df.columns"
   ]
  },
  {
   "cell_type": "code",
   "execution_count": 214,
   "metadata": {},
   "outputs": [
    {
     "data": {
      "text/plain": [
       "(1528557, 51)"
      ]
     },
     "execution_count": 214,
     "metadata": {},
     "output_type": "execute_result"
    }
   ],
   "source": [
    "gas_df = gas_df.merge(temp2, on='배출가스인증번호', how='left')\n",
    "gas_df.shape"
   ]
  },
  {
   "cell_type": "code",
   "execution_count": 215,
   "metadata": {},
   "outputs": [
    {
     "data": {
      "text/plain": [
       "Index(['차량관리번호', '차량등록번호', '본거지법정동코드', '소유자구분', '차종_등록정보', '용도', '차대번호',\n",
       "       '최초등록일자', '차량연식', '차량제작일자', '검사유효일', '제원관리번호', '배출가스인증번호', '배출가스등급',\n",
       "       '저공해조치종류', '저공해조치구조변경YN', '취득일자', '취득금액', '차명', '차종_제원정보', '차종분류',\n",
       "       '차종유형', '자동차형식', '제작사명', '연료', '엔진형식', '총중량', '적재중량', '엔진출력', '배기량',\n",
       "       '승차인원', '차량길이', '차량너비', '차량높이', '원산지명', '삭제YN', '제원승인일자', '구동형식',\n",
       "       '변속기종류', '차량말소YN', 'code1', '시도', '시구군', '폐지여부', '대기관리권역', '대기관리권역YN',\n",
       "       '총중량_분류', '총중량_코드', '배기량_분류', '배기량_코드', '배출가스인증번호_코드'],\n",
       "      dtype='object')"
      ]
     },
     "execution_count": 215,
     "metadata": {},
     "output_type": "execute_result"
    }
   ],
   "source": [
    "gas_df.columns"
   ]
  },
  {
   "attachments": {},
   "cell_type": "markdown",
   "metadata": {},
   "source": [
    "## 차대번호로 분류"
   ]
  },
  {
   "attachments": {},
   "cell_type": "markdown",
   "metadata": {},
   "source": [
    "### wmi 코드로 분류"
   ]
  },
  {
   "cell_type": "code",
   "execution_count": 216,
   "metadata": {},
   "outputs": [
    {
     "name": "stdout",
     "output_type": "stream",
     "text": [
      "<class 'pandas.core.frame.DataFrame'>\n",
      "RangeIndex: 690 entries, 0 to 689\n",
      "Data columns (total 8 columns):\n",
      " #   Column         Non-Null Count  Dtype  \n",
      "---  ------         --------------  -----  \n",
      " 0   WMI            690 non-null    object \n",
      " 1   MF CODE        690 non-null    object \n",
      " 2   Identifier     690 non-null    object \n",
      " 3   Manufacturer   690 non-null    object \n",
      " 4   Country        688 non-null    object \n",
      " 5   Vehicle Types  249 non-null    object \n",
      " 6   Description    54 non-null     object \n",
      " 7   참고             0 non-null      float64\n",
      "dtypes: float64(1), object(7)\n",
      "memory usage: 43.2+ KB\n"
     ]
    }
   ],
   "source": [
    "wmi = pd.read_excel('data/20190730_WMI CODE.xlsx', sheet_name='WMI CODE')\n",
    "wmi.info()"
   ]
  },
  {
   "cell_type": "code",
   "execution_count": 217,
   "metadata": {},
   "outputs": [],
   "source": [
    "df6 = gas_df.copy()"
   ]
  },
  {
   "cell_type": "code",
   "execution_count": 218,
   "metadata": {},
   "outputs": [
    {
     "data": {
      "text/plain": [
       "0    KMCLK18KP8C035195\n",
       "1    KMFLA18KP8C031274\n",
       "2    KLACA26RD8B226753\n",
       "3    KMCGK17HP8C086937\n",
       "4    KMCYSS7JP7U084697\n",
       "Name: 차대번호, dtype: object"
      ]
     },
     "execution_count": 218,
     "metadata": {},
     "output_type": "execute_result"
    }
   ],
   "source": [
    "df6['차대번호'].head()"
   ]
  },
  {
   "cell_type": "code",
   "execution_count": 219,
   "metadata": {},
   "outputs": [],
   "source": [
    "df6['wmi'] = df6['차대번호'].str[:3]"
   ]
  },
  {
   "cell_type": "code",
   "execution_count": 220,
   "metadata": {},
   "outputs": [
    {
     "data": {
      "text/plain": [
       "0    KMC\n",
       "1    KMF\n",
       "2    KLA\n",
       "3    KMC\n",
       "4    KMC\n",
       "Name: wmi, dtype: object"
      ]
     },
     "execution_count": 220,
     "metadata": {},
     "output_type": "execute_result"
    }
   ],
   "source": [
    "df6['wmi'].head()"
   ]
  },
  {
   "cell_type": "code",
   "execution_count": 221,
   "metadata": {},
   "outputs": [
    {
     "data": {
      "text/html": [
       "<div>\n",
       "<style scoped>\n",
       "    .dataframe tbody tr th:only-of-type {\n",
       "        vertical-align: middle;\n",
       "    }\n",
       "\n",
       "    .dataframe tbody tr th {\n",
       "        vertical-align: top;\n",
       "    }\n",
       "\n",
       "    .dataframe thead th {\n",
       "        text-align: right;\n",
       "    }\n",
       "</style>\n",
       "<table border=\"1\" class=\"dataframe\">\n",
       "  <thead>\n",
       "    <tr style=\"text-align: right;\">\n",
       "      <th></th>\n",
       "      <th>차대번호</th>\n",
       "      <th>wmi</th>\n",
       "      <th>WMI</th>\n",
       "    </tr>\n",
       "  </thead>\n",
       "  <tbody>\n",
       "    <tr>\n",
       "      <th>0</th>\n",
       "      <td>KMCLK18KP8C035195</td>\n",
       "      <td>KMC</td>\n",
       "      <td>NaN</td>\n",
       "    </tr>\n",
       "    <tr>\n",
       "      <th>1</th>\n",
       "      <td>KMFLA18KP8C031274</td>\n",
       "      <td>KMF</td>\n",
       "      <td>KMF</td>\n",
       "    </tr>\n",
       "    <tr>\n",
       "      <th>2</th>\n",
       "      <td>KLACA26RD8B226753</td>\n",
       "      <td>KLA</td>\n",
       "      <td>KLA</td>\n",
       "    </tr>\n",
       "    <tr>\n",
       "      <th>3</th>\n",
       "      <td>KMCGK17HP8C086937</td>\n",
       "      <td>KMC</td>\n",
       "      <td>NaN</td>\n",
       "    </tr>\n",
       "    <tr>\n",
       "      <th>4</th>\n",
       "      <td>KMCYSS7JP7U084697</td>\n",
       "      <td>KMC</td>\n",
       "      <td>NaN</td>\n",
       "    </tr>\n",
       "  </tbody>\n",
       "</table>\n",
       "</div>"
      ],
      "text/plain": [
       "                차대번호  wmi  WMI\n",
       "0  KMCLK18KP8C035195  KMC  NaN\n",
       "1  KMFLA18KP8C031274  KMF  KMF\n",
       "2  KLACA26RD8B226753  KLA  KLA\n",
       "3  KMCGK17HP8C086937  KMC  NaN\n",
       "4  KMCYSS7JP7U084697  KMC  NaN"
      ]
     },
     "execution_count": 221,
     "metadata": {},
     "output_type": "execute_result"
    }
   ],
   "source": [
    "df6 = df6.merge(wmi, left_on='wmi', right_on='WMI', how='left')\n",
    "df6[['차대번호', 'wmi', 'WMI']].head()"
   ]
  },
  {
   "cell_type": "code",
   "execution_count": 222,
   "metadata": {},
   "outputs": [
    {
     "data": {
      "text/plain": [
       "(1528557, 60)"
      ]
     },
     "execution_count": 222,
     "metadata": {},
     "output_type": "execute_result"
    }
   ],
   "source": [
    "df6.shape"
   ]
  },
  {
   "cell_type": "code",
   "execution_count": 223,
   "metadata": {},
   "outputs": [
    {
     "data": {
      "text/plain": [
       "75232"
      ]
     },
     "execution_count": 223,
     "metadata": {},
     "output_type": "execute_result"
    }
   ],
   "source": [
    "df6['WMI'].isnull().sum()"
   ]
  },
  {
   "cell_type": "code",
   "execution_count": 224,
   "metadata": {},
   "outputs": [
    {
     "data": {
      "text/plain": [
       "75232"
      ]
     },
     "execution_count": 224,
     "metadata": {},
     "output_type": "execute_result"
    }
   ],
   "source": [
    "df6['Manufacturer'].isnull().sum()"
   ]
  },
  {
   "cell_type": "code",
   "execution_count": 225,
   "metadata": {},
   "outputs": [
    {
     "data": {
      "text/plain": [
       "Index(['WMI', 'MF CODE', 'Identifier', 'Manufacturer', 'Country',\n",
       "       'Vehicle Types', 'Description', '참고'],\n",
       "      dtype='object')"
      ]
     },
     "execution_count": 225,
     "metadata": {},
     "output_type": "execute_result"
    }
   ],
   "source": [
    "wmi.columns"
   ]
  },
  {
   "cell_type": "code",
   "execution_count": 226,
   "metadata": {},
   "outputs": [
    {
     "data": {
      "text/html": [
       "<div>\n",
       "<style scoped>\n",
       "    .dataframe tbody tr th:only-of-type {\n",
       "        vertical-align: middle;\n",
       "    }\n",
       "\n",
       "    .dataframe tbody tr th {\n",
       "        vertical-align: top;\n",
       "    }\n",
       "\n",
       "    .dataframe thead th {\n",
       "        text-align: right;\n",
       "    }\n",
       "</style>\n",
       "<table border=\"1\" class=\"dataframe\">\n",
       "  <thead>\n",
       "    <tr style=\"text-align: right;\">\n",
       "      <th></th>\n",
       "      <th>WMI</th>\n",
       "      <th>MF CODE</th>\n",
       "      <th>Identifier</th>\n",
       "      <th>Manufacturer</th>\n",
       "      <th>Country</th>\n",
       "      <th>Vehicle Types</th>\n",
       "      <th>Description</th>\n",
       "      <th>참고</th>\n",
       "    </tr>\n",
       "  </thead>\n",
       "  <tbody>\n",
       "    <tr>\n",
       "      <th>0</th>\n",
       "      <td>NaN</td>\n",
       "      <td>NaN</td>\n",
       "      <td>NaN</td>\n",
       "      <td>NaN</td>\n",
       "      <td>NaN</td>\n",
       "      <td>NaN</td>\n",
       "      <td>NaN</td>\n",
       "      <td>NaN</td>\n",
       "    </tr>\n",
       "    <tr>\n",
       "      <th>1</th>\n",
       "      <td>KMF</td>\n",
       "      <td>HYUN</td>\n",
       "      <td>Hyundai</td>\n",
       "      <td>Hyundai</td>\n",
       "      <td>Korea</td>\n",
       "      <td>Commercail vehicle</td>\n",
       "      <td>NaN</td>\n",
       "      <td>NaN</td>\n",
       "    </tr>\n",
       "    <tr>\n",
       "      <th>2</th>\n",
       "      <td>KLA</td>\n",
       "      <td>GM D</td>\n",
       "      <td>GM Daewoo</td>\n",
       "      <td>Daewoo General Motors South Korea</td>\n",
       "      <td>Korea</td>\n",
       "      <td>NaN</td>\n",
       "      <td>NaN</td>\n",
       "      <td>NaN</td>\n",
       "    </tr>\n",
       "    <tr>\n",
       "      <th>3</th>\n",
       "      <td>NaN</td>\n",
       "      <td>NaN</td>\n",
       "      <td>NaN</td>\n",
       "      <td>NaN</td>\n",
       "      <td>NaN</td>\n",
       "      <td>NaN</td>\n",
       "      <td>NaN</td>\n",
       "      <td>NaN</td>\n",
       "    </tr>\n",
       "    <tr>\n",
       "      <th>4</th>\n",
       "      <td>NaN</td>\n",
       "      <td>NaN</td>\n",
       "      <td>NaN</td>\n",
       "      <td>NaN</td>\n",
       "      <td>NaN</td>\n",
       "      <td>NaN</td>\n",
       "      <td>NaN</td>\n",
       "      <td>NaN</td>\n",
       "    </tr>\n",
       "  </tbody>\n",
       "</table>\n",
       "</div>"
      ],
      "text/plain": [
       "   WMI MF CODE Identifier                       Manufacturer Country  \\\n",
       "0  NaN     NaN        NaN                                NaN     NaN   \n",
       "1  KMF    HYUN    Hyundai                            Hyundai   Korea   \n",
       "2  KLA    GM D  GM Daewoo  Daewoo General Motors South Korea   Korea   \n",
       "3  NaN     NaN        NaN                                NaN     NaN   \n",
       "4  NaN     NaN        NaN                                NaN     NaN   \n",
       "\n",
       "        Vehicle Types Description  참고  \n",
       "0                 NaN         NaN NaN  \n",
       "1  Commercail vehicle         NaN NaN  \n",
       "2                 NaN         NaN NaN  \n",
       "3                 NaN         NaN NaN  \n",
       "4                 NaN         NaN NaN  "
      ]
     },
     "execution_count": 226,
     "metadata": {},
     "output_type": "execute_result"
    }
   ],
   "source": [
    "df6[['WMI', 'MF CODE', 'Identifier', 'Manufacturer', 'Country', 'Vehicle Types', 'Description', '참고']].head()"
   ]
  },
  {
   "cell_type": "code",
   "execution_count": 227,
   "metadata": {},
   "outputs": [
    {
     "data": {
      "text/plain": [
       "75232"
      ]
     },
     "execution_count": 227,
     "metadata": {},
     "output_type": "execute_result"
    }
   ],
   "source": [
    "df6['Identifier'].isnull().sum()"
   ]
  },
  {
   "cell_type": "code",
   "execution_count": 228,
   "metadata": {},
   "outputs": [],
   "source": [
    "df6['Manufacturer'] = df6['Manufacturer'].fillna(-1)\n",
    "df6['Identifier'] = df6['Identifier'].fillna(-1)"
   ]
  },
  {
   "cell_type": "code",
   "execution_count": 229,
   "metadata": {},
   "outputs": [
    {
     "data": {
      "text/html": [
       "<div>\n",
       "<style scoped>\n",
       "    .dataframe tbody tr th:only-of-type {\n",
       "        vertical-align: middle;\n",
       "    }\n",
       "\n",
       "    .dataframe tbody tr th {\n",
       "        vertical-align: top;\n",
       "    }\n",
       "\n",
       "    .dataframe thead th {\n",
       "        text-align: right;\n",
       "    }\n",
       "</style>\n",
       "<table border=\"1\" class=\"dataframe\">\n",
       "  <thead>\n",
       "    <tr style=\"text-align: right;\">\n",
       "      <th></th>\n",
       "      <th>Identifier</th>\n",
       "      <th>차대번호</th>\n",
       "    </tr>\n",
       "  </thead>\n",
       "  <tbody>\n",
       "    <tr>\n",
       "      <th>0</th>\n",
       "      <td>-1</td>\n",
       "      <td>75232</td>\n",
       "    </tr>\n",
       "    <tr>\n",
       "      <th>1</th>\n",
       "      <td>Alfa Romeo</td>\n",
       "      <td>1</td>\n",
       "    </tr>\n",
       "    <tr>\n",
       "      <th>2</th>\n",
       "      <td>Audi</td>\n",
       "      <td>2107</td>\n",
       "    </tr>\n",
       "    <tr>\n",
       "      <th>3</th>\n",
       "      <td>Austin-Rover</td>\n",
       "      <td>83</td>\n",
       "    </tr>\n",
       "    <tr>\n",
       "      <th>4</th>\n",
       "      <td>BMW</td>\n",
       "      <td>2209</td>\n",
       "    </tr>\n",
       "    <tr>\n",
       "      <th>...</th>\n",
       "      <td>...</td>\n",
       "      <td>...</td>\n",
       "    </tr>\n",
       "    <tr>\n",
       "      <th>71</th>\n",
       "      <td>Toyota</td>\n",
       "      <td>140</td>\n",
       "    </tr>\n",
       "    <tr>\n",
       "      <th>72</th>\n",
       "      <td>Toyota</td>\n",
       "      <td>35</td>\n",
       "    </tr>\n",
       "    <tr>\n",
       "      <th>73</th>\n",
       "      <td>Volkswagen</td>\n",
       "      <td>5924</td>\n",
       "    </tr>\n",
       "    <tr>\n",
       "      <th>74</th>\n",
       "      <td>Volvo</td>\n",
       "      <td>6667</td>\n",
       "    </tr>\n",
       "    <tr>\n",
       "      <th>75</th>\n",
       "      <td>smart</td>\n",
       "      <td>3</td>\n",
       "    </tr>\n",
       "  </tbody>\n",
       "</table>\n",
       "<p>76 rows × 2 columns</p>\n",
       "</div>"
      ],
      "text/plain": [
       "      Identifier   차대번호\n",
       "0             -1  75232\n",
       "1     Alfa Romeo      1\n",
       "2           Audi   2107\n",
       "3   Austin-Rover     83\n",
       "4            BMW   2209\n",
       "..           ...    ...\n",
       "71        Toyota    140\n",
       "72       Toyota      35\n",
       "73    Volkswagen   5924\n",
       "74         Volvo   6667\n",
       "75         smart      3\n",
       "\n",
       "[76 rows x 2 columns]"
      ]
     },
     "execution_count": 229,
     "metadata": {},
     "output_type": "execute_result"
    }
   ],
   "source": [
    "manu_df = df6.groupby('Identifier')['차대번호'].count().reset_index()\n",
    "manu_df"
   ]
  },
  {
   "cell_type": "code",
   "execution_count": 230,
   "metadata": {},
   "outputs": [
    {
     "data": {
      "text/html": [
       "<div>\n",
       "<style scoped>\n",
       "    .dataframe tbody tr th:only-of-type {\n",
       "        vertical-align: middle;\n",
       "    }\n",
       "\n",
       "    .dataframe tbody tr th {\n",
       "        vertical-align: top;\n",
       "    }\n",
       "\n",
       "    .dataframe thead th {\n",
       "        text-align: right;\n",
       "    }\n",
       "</style>\n",
       "<table border=\"1\" class=\"dataframe\">\n",
       "  <thead>\n",
       "    <tr style=\"text-align: right;\">\n",
       "      <th></th>\n",
       "      <th>Identifier</th>\n",
       "      <th>차대번호</th>\n",
       "    </tr>\n",
       "  </thead>\n",
       "  <tbody>\n",
       "    <tr>\n",
       "      <th>0</th>\n",
       "      <td>Hyundai</td>\n",
       "      <td>887146</td>\n",
       "    </tr>\n",
       "    <tr>\n",
       "      <th>1</th>\n",
       "      <td>Kia</td>\n",
       "      <td>358326</td>\n",
       "    </tr>\n",
       "    <tr>\n",
       "      <th>2</th>\n",
       "      <td>GM Daewoo</td>\n",
       "      <td>116233</td>\n",
       "    </tr>\n",
       "    <tr>\n",
       "      <th>3</th>\n",
       "      <td>-1</td>\n",
       "      <td>75232</td>\n",
       "    </tr>\n",
       "    <tr>\n",
       "      <th>4</th>\n",
       "      <td>SsangYong</td>\n",
       "      <td>31200</td>\n",
       "    </tr>\n",
       "    <tr>\n",
       "      <th>...</th>\n",
       "      <td>...</td>\n",
       "      <td>...</td>\n",
       "    </tr>\n",
       "    <tr>\n",
       "      <th>71</th>\n",
       "      <td>Neoplan</td>\n",
       "      <td>1</td>\n",
       "    </tr>\n",
       "    <tr>\n",
       "      <th>72</th>\n",
       "      <td>Matra</td>\n",
       "      <td>1</td>\n",
       "    </tr>\n",
       "    <tr>\n",
       "      <th>73</th>\n",
       "      <td>Daimler</td>\n",
       "      <td>1</td>\n",
       "    </tr>\n",
       "    <tr>\n",
       "      <th>74</th>\n",
       "      <td>Kenworth</td>\n",
       "      <td>1</td>\n",
       "    </tr>\n",
       "    <tr>\n",
       "      <th>75</th>\n",
       "      <td>Alfa Romeo</td>\n",
       "      <td>1</td>\n",
       "    </tr>\n",
       "  </tbody>\n",
       "</table>\n",
       "<p>76 rows × 2 columns</p>\n",
       "</div>"
      ],
      "text/plain": [
       "    Identifier    차대번호\n",
       "0      Hyundai  887146\n",
       "1          Kia  358326\n",
       "2    GM Daewoo  116233\n",
       "3           -1   75232\n",
       "4    SsangYong   31200\n",
       "..         ...     ...\n",
       "71     Neoplan       1\n",
       "72       Matra       1\n",
       "73     Daimler       1\n",
       "74    Kenworth       1\n",
       "75  Alfa Romeo       1\n",
       "\n",
       "[76 rows x 2 columns]"
      ]
     },
     "execution_count": 230,
     "metadata": {},
     "output_type": "execute_result"
    }
   ],
   "source": [
    "manu_df = manu_df.sort_values('차대번호', ascending=False).reset_index(drop=True)\n",
    "manu_df"
   ]
  },
  {
   "cell_type": "code",
   "execution_count": 231,
   "metadata": {},
   "outputs": [],
   "source": [
    "# 제작사(Manufacturer)별 차대번호 통계\n",
    "manu_df.to_excel('analysis/[G4][차대번호]제작사별_통계.xlsx', encoding='utf-8')"
   ]
  },
  {
   "attachments": {},
   "cell_type": "markdown",
   "metadata": {},
   "source": [
    "### 6\\. [e]차대번호"
   ]
  },
  {
   "cell_type": "code",
   "execution_count": 232,
   "metadata": {},
   "outputs": [],
   "source": [
    "# - 오류\n",
    "#     - 1\\. null 값 : 0\n",
    "#     - 2\\. 정상(17자리, 영문 포함) : 1525955\n",
    "#     - 3\\. 17자리, 영문X : 1\n",
    "#     - 4\\. 17자리X, 영문 : 57\n",
    "#     - 5\\. 17자리X, 영문X : 2573"
   ]
  },
  {
   "cell_type": "code",
   "execution_count": 233,
   "metadata": {},
   "outputs": [
    {
     "name": "stdout",
     "output_type": "stream",
     "text": [
      "<class 'pandas.core.frame.DataFrame'>\n",
      "Int64Index: 1528557 entries, 0 to 1528556\n",
      "Data columns (total 60 columns):\n",
      " #   Column         Non-Null Count    Dtype  \n",
      "---  ------         --------------    -----  \n",
      " 0   차량관리번호         1528557 non-null  object \n",
      " 1   차량등록번호         1528557 non-null  object \n",
      " 2   본거지법정동코드       1528557 non-null  int64  \n",
      " 3   소유자구분          1528557 non-null  object \n",
      " 4   차종_등록정보        1528555 non-null  object \n",
      " 5   용도             1528557 non-null  object \n",
      " 6   차대번호           1528557 non-null  object \n",
      " 7   최초등록일자         1528557 non-null  int64  \n",
      " 8   차량연식           1528557 non-null  int64  \n",
      " 9   차량제작일자         1358915 non-null  float64\n",
      " 10  검사유효일          1528545 non-null  float64\n",
      " 11  제원관리번호         1528557 non-null  object \n",
      " 12  배출가스인증번호       1405554 non-null  object \n",
      " 13  배출가스등급         1528557 non-null  int64  \n",
      " 14  저공해조치종류        195 non-null      object \n",
      " 15  저공해조치구조변경YN    1528557 non-null  object \n",
      " 16  취득일자           1435498 non-null  object \n",
      " 17  취득금액           1453590 non-null  float64\n",
      " 18  차명             1528557 non-null  object \n",
      " 19  차종_제원정보        1528557 non-null  object \n",
      " 20  차종분류           1528557 non-null  object \n",
      " 21  차종유형           1528557 non-null  object \n",
      " 22  자동차형식          1528273 non-null  object \n",
      " 23  제작사명           1518665 non-null  object \n",
      " 24  연료             1528557 non-null  object \n",
      " 25  엔진형식           1526711 non-null  object \n",
      " 26  총중량            1528557 non-null  float64\n",
      " 27  적재중량           1528046 non-null  float64\n",
      " 28  엔진출력           1528198 non-null  object \n",
      " 29  배기량            1528557 non-null  float64\n",
      " 30  승차인원           1528557 non-null  int64  \n",
      " 31  차량길이           1528556 non-null  float64\n",
      " 32  차량너비           1528556 non-null  float64\n",
      " 33  차량높이           1528554 non-null  float64\n",
      " 34  원산지명           1509474 non-null  object \n",
      " 35  삭제YN           1528557 non-null  object \n",
      " 36  제원승인일자         1528126 non-null  object \n",
      " 37  구동형식           41 non-null       object \n",
      " 38  변속기종류          1528397 non-null  object \n",
      " 39  차량말소YN         0 non-null        object \n",
      " 40  code1          1528557 non-null  object \n",
      " 41  시도             1528557 non-null  object \n",
      " 42  시구군            1520364 non-null  object \n",
      " 43  폐지여부           1528557 non-null  object \n",
      " 44  대기관리권역         1528557 non-null  object \n",
      " 45  대기관리권역YN       1528557 non-null  object \n",
      " 46  총중량_분류         1528557 non-null  object \n",
      " 47  총중량_코드         1528557 non-null  object \n",
      " 48  배기량_분류         1528557 non-null  object \n",
      " 49  배기량_코드         1528557 non-null  object \n",
      " 50  배출가스인증번호_코드    1405554 non-null  object \n",
      " 51  wmi            1528557 non-null  object \n",
      " 52  WMI            1453325 non-null  object \n",
      " 53  MF CODE        1453325 non-null  object \n",
      " 54  Identifier     1528557 non-null  object \n",
      " 55  Manufacturer   1528557 non-null  object \n",
      " 56  Country        1422125 non-null  object \n",
      " 57  Vehicle Types  1258283 non-null  object \n",
      " 58  Description    1221 non-null     object \n",
      " 59  참고             0 non-null        float64\n",
      "dtypes: float64(10), int64(5), object(45)\n",
      "memory usage: 711.4+ MB\n"
     ]
    }
   ],
   "source": [
    "df6.info()"
   ]
  },
  {
   "cell_type": "code",
   "execution_count": 234,
   "metadata": {},
   "outputs": [
    {
     "data": {
      "text/plain": [
       "0"
      ]
     },
     "execution_count": 234,
     "metadata": {},
     "output_type": "execute_result"
    }
   ],
   "source": [
    "df6['차대번호'].isnull().sum()"
   ]
  },
  {
   "cell_type": "code",
   "execution_count": 235,
   "metadata": {},
   "outputs": [
    {
     "data": {
      "text/plain": [
       "17"
      ]
     },
     "execution_count": 235,
     "metadata": {},
     "output_type": "execute_result"
    }
   ],
   "source": [
    "len('KMFZCY7JBCU784032')"
   ]
  },
  {
   "cell_type": "markdown",
   "metadata": {},
   "source": [
    "#### 차대번호 정상 확인"
   ]
  },
  {
   "cell_type": "code",
   "execution_count": 236,
   "metadata": {},
   "outputs": [
    {
     "name": "stderr",
     "output_type": "stream",
     "text": [
      "1528557it [00:02, 619928.06it/s]\n"
     ]
    },
    {
     "data": {
      "text/plain": [
       "1525926"
      ]
     },
     "execution_count": 236,
     "metadata": {},
     "output_type": "execute_result"
    }
   ],
   "source": [
    "# 17자리, 영문 -> 정상 : 1525955\n",
    "count = 0\n",
    "p61 = re.compile('[a-zA-Z]+')\n",
    "idx61 = []\n",
    "for i, one in tqdm(enumerate(df6.iloc[:, 6].to_numpy())):\n",
    "    if len(str(one)) == 17 and p61.search(str(one)):\n",
    "        idx61.append(i)\n",
    "        count += 1\n",
    "count"
   ]
  },
  {
   "cell_type": "code",
   "execution_count": 237,
   "metadata": {},
   "outputs": [
    {
     "name": "stderr",
     "output_type": "stream",
     "text": [
      "1525926it [00:00, 1754444.44it/s]\n"
     ]
    },
    {
     "data": {
      "text/plain": [
       "1018"
      ]
     },
     "execution_count": 237,
     "metadata": {},
     "output_type": "execute_result"
    }
   ],
   "source": [
    "# 정상에서 \"I, O, Q\" 포함한 값 : 1018\n",
    "temp61 = df6.iloc[idx61, 6].to_numpy()\n",
    "idx61_1 = []\n",
    "for i, one in tqdm(enumerate(temp61)):\n",
    "    if ('I' in one) or ('O' in one) or ('Q' in one):\n",
    "        idx61_1.append(idx61[i])\n",
    "len(idx61_1)"
   ]
  },
  {
   "cell_type": "code",
   "execution_count": 238,
   "metadata": {},
   "outputs": [
    {
     "data": {
      "text/plain": [
       "1142      WPOZZZ96ZLS402952\n",
       "117803    WPOZZZ96ZKS400603\n",
       "330303    YV2ABSOC4AA695671\n",
       "346135    YV2ABSOC1AA694168\n",
       "346256    YV2ABSOC2AA693157\n",
       "Name: 차대번호, dtype: object"
      ]
     },
     "execution_count": 238,
     "metadata": {},
     "output_type": "execute_result"
    }
   ],
   "source": [
    "df6.iloc[idx61_1, 6][:5]"
   ]
  },
  {
   "cell_type": "code",
   "execution_count": 239,
   "metadata": {},
   "outputs": [
    {
     "name": "stderr",
     "output_type": "stream",
     "text": [
      "1528557it [00:12, 123067.59it/s]\n"
     ]
    },
    {
     "data": {
      "text/plain": [
       "1"
      ]
     },
     "execution_count": 239,
     "metadata": {},
     "output_type": "execute_result"
    }
   ],
   "source": [
    "# 17자리, 영문X  => 숫자만 : 1\n",
    "count = 0\n",
    "p62 = re.compile('[a-zA-Z]+')\n",
    "idx62 = []\n",
    "for i, one in tqdm(enumerate(df6.iloc[:, 6].to_numpy())):\n",
    "    n = 0\n",
    "    for j in str(one):\n",
    "        if p62.search(j):\n",
    "            n += 1\n",
    "    if len(str(one)) == 17 and n == 0:\n",
    "        idx62.append(i)\n",
    "        count += 1\n",
    "count"
   ]
  },
  {
   "cell_type": "code",
   "execution_count": 240,
   "metadata": {},
   "outputs": [
    {
     "data": {
      "text/plain": [
       "1471703    01901321371111111\n",
       "Name: 차대번호, dtype: object"
      ]
     },
     "execution_count": 240,
     "metadata": {},
     "output_type": "execute_result"
    }
   ],
   "source": [
    "df6.iloc[:, 6].reindex(idx62)"
   ]
  },
  {
   "cell_type": "code",
   "execution_count": 241,
   "metadata": {},
   "outputs": [
    {
     "name": "stderr",
     "output_type": "stream",
     "text": [
      "1528557it [00:01, 1365514.82it/s]\n"
     ]
    },
    {
     "data": {
      "text/plain": [
       "57"
      ]
     },
     "execution_count": 241,
     "metadata": {},
     "output_type": "execute_result"
    }
   ],
   "source": [
    "# 17자리 X, 영문 : 57\n",
    "count = 0\n",
    "p63 = re.compile('[a-zA-Z]+')\n",
    "idx63 = []\n",
    "for i, one in tqdm(enumerate(df6.iloc[:, 6].to_numpy())):\n",
    "    if len(str(one)) != 17 and p63.search(one):\n",
    "        idx63.append(i)\n",
    "        count += 1\n",
    "count"
   ]
  },
  {
   "cell_type": "code",
   "execution_count": 242,
   "metadata": {},
   "outputs": [
    {
     "data": {
      "text/plain": [
       "352051    KMFWBX7ABU267970\n",
       "362014    KMFZCZ7JAB640917\n",
       "461606    KNCSJX4AAK452185\n",
       "641800    KMFZC7JP9U519465\n",
       "731532    KMFZC7JP9U481571\n",
       "Name: 차대번호, dtype: object"
      ]
     },
     "execution_count": 242,
     "metadata": {},
     "output_type": "execute_result"
    }
   ],
   "source": [
    "df6.iloc[:, 6].reindex(idx63)[:5]"
   ]
  },
  {
   "cell_type": "code",
   "execution_count": 243,
   "metadata": {},
   "outputs": [
    {
     "name": "stderr",
     "output_type": "stream",
     "text": [
      "1528557it [00:12, 120512.92it/s]\n"
     ]
    },
    {
     "data": {
      "text/plain": [
       "2573"
      ]
     },
     "execution_count": 243,
     "metadata": {},
     "output_type": "execute_result"
    }
   ],
   "source": [
    "# 17자리 X, 영문X : 2573\n",
    "count = 0\n",
    "p64 = re.compile('[a-zA-Z]+')\n",
    "idx64 = []\n",
    "for i, one in tqdm(enumerate(df6.iloc[:, 6].to_numpy())):\n",
    "    n = 0\n",
    "    for j in one:\n",
    "        if p64.search(j):\n",
    "            n += 1\n",
    "    if len(str(one)) != 17 and n == 0:\n",
    "        idx64.append(i)\n",
    "        count += 1\n",
    "count"
   ]
  },
  {
   "cell_type": "code",
   "execution_count": 244,
   "metadata": {},
   "outputs": [
    {
     "data": {
      "text/plain": [
       "1144821    289711309283\n",
       "1161719    119811229792\n",
       "1170369    119811328945\n",
       "1170707    119411329496\n",
       "1170967    119311230058\n",
       "Name: 차대번호, dtype: object"
      ]
     },
     "execution_count": 244,
     "metadata": {},
     "output_type": "execute_result"
    }
   ],
   "source": [
    "df6.iloc[:, 6].reindex(idx64)[:5]"
   ]
  },
  {
   "attachments": {},
   "cell_type": "markdown",
   "metadata": {},
   "source": [
    "#### 차대번호 길이, IOQ포함 여부 통계"
   ]
  },
  {
   "cell_type": "code",
   "execution_count": 245,
   "metadata": {},
   "outputs": [
    {
     "name": "stderr",
     "output_type": "stream",
     "text": [
      "1528557it [00:01, 1250873.15it/s]\n"
     ]
    },
    {
     "data": {
      "text/plain": [
       "{10, 11, 12, 13, 14, 15, 16, 17}"
      ]
     },
     "execution_count": 245,
     "metadata": {},
     "output_type": "execute_result"
    }
   ],
   "source": [
    "# 차대번호 길이 종류 확인\n",
    "len_vin = []\n",
    "for i, one in tqdm(enumerate(df6.iloc[:, 6].to_numpy())):\n",
    "    len_vin.append(len(str(one)))\n",
    "set(len_vin)"
   ]
  },
  {
   "cell_type": "code",
   "execution_count": 246,
   "metadata": {},
   "outputs": [],
   "source": [
    "df6['VIN_length'] = [ len(one) for one in df6['차대번호'] ]"
   ]
  },
  {
   "cell_type": "code",
   "execution_count": 247,
   "metadata": {},
   "outputs": [
    {
     "data": {
      "text/plain": [
       "array([17, 16, 12, 15, 11, 13, 14, 10], dtype=int64)"
      ]
     },
     "execution_count": 247,
     "metadata": {},
     "output_type": "execute_result"
    }
   ],
   "source": [
    "df6['VIN_length'].unique()"
   ]
  },
  {
   "cell_type": "code",
   "execution_count": 248,
   "metadata": {},
   "outputs": [],
   "source": [
    "# IOQ 포함 여부\n",
    "IOQ = []\n",
    "for one in df6['차대번호']:\n",
    "    if ('I' in one) or ('O' in one) or ('Q' in one):\n",
    "        IOQ.append('Y')\n",
    "    else:\n",
    "        IOQ.append('N')\n",
    "df6['IOQ'] = IOQ"
   ]
  },
  {
   "cell_type": "code",
   "execution_count": 249,
   "metadata": {},
   "outputs": [
    {
     "data": {
      "text/plain": [
       "array(['N', 'Y'], dtype=object)"
      ]
     },
     "execution_count": 249,
     "metadata": {},
     "output_type": "execute_result"
    }
   ],
   "source": [
    "df6['IOQ'].unique()"
   ]
  },
  {
   "cell_type": "code",
   "execution_count": 250,
   "metadata": {},
   "outputs": [
    {
     "name": "stderr",
     "output_type": "stream",
     "text": [
      "1528557it [00:12, 126412.99it/s]\n"
     ]
    },
    {
     "data": {
      "text/plain": [
       "2574"
      ]
     },
     "execution_count": 250,
     "metadata": {},
     "output_type": "execute_result"
    }
   ],
   "source": [
    "# 알파벳 포함\n",
    "included_alpha = []\n",
    "count = 0\n",
    "p65 = re.compile('[a-zA-Z]+')\n",
    "for i, one in tqdm(enumerate(df6.iloc[:, 6].to_numpy())):\n",
    "    n = 0\n",
    "    for j in one:\n",
    "        if p65.search(j):\n",
    "            n += 1\n",
    "    if n == 0:\n",
    "        included_alpha.append('N')\n",
    "        count += 1\n",
    "    else:\n",
    "        included_alpha.append('Y')\n",
    "count"
   ]
  },
  {
   "cell_type": "code",
   "execution_count": 251,
   "metadata": {},
   "outputs": [],
   "source": [
    "df6['alpha'] = included_alpha"
   ]
  },
  {
   "cell_type": "code",
   "execution_count": 252,
   "metadata": {},
   "outputs": [
    {
     "data": {
      "text/plain": [
       "VIN_length  alpha  IOQ\n",
       "10          N      N            1\n",
       "            Y      N            3\n",
       "11          N      N          209\n",
       "            Y      N            7\n",
       "12          N      N         2132\n",
       "            Y      N            2\n",
       "13          N      N          154\n",
       "            Y      N            3\n",
       "14          N      N           22\n",
       "15          N      N           38\n",
       "            Y      N            2\n",
       "                   Y            1\n",
       "16          N      N           17\n",
       "            Y      N           39\n",
       "17          N      N            1\n",
       "            Y      N      1524908\n",
       "                   Y         1018\n",
       "Name: 차대번호, dtype: int64"
      ]
     },
     "execution_count": 252,
     "metadata": {},
     "output_type": "execute_result"
    }
   ],
   "source": [
    "df6.groupby(['VIN_length', 'alpha', 'IOQ'])['차대번호'].count()"
   ]
  },
  {
   "cell_type": "code",
   "execution_count": 253,
   "metadata": {},
   "outputs": [
    {
     "data": {
      "text/plain": [
       "VIN_length  IOQ\n",
       "10          N            4\n",
       "11          N          216\n",
       "12          N         2134\n",
       "13          N          157\n",
       "14          N           22\n",
       "15          N           40\n",
       "            Y            1\n",
       "16          N           56\n",
       "17          N      1524909\n",
       "            Y         1018\n",
       "Name: 차대번호, dtype: int64"
      ]
     },
     "execution_count": 253,
     "metadata": {},
     "output_type": "execute_result"
    }
   ],
   "source": [
    "df6.groupby(['VIN_length', 'IOQ'])['차대번호'].count()"
   ]
  },
  {
   "cell_type": "code",
   "execution_count": 254,
   "metadata": {},
   "outputs": [],
   "source": [
    "V_I_dict = df6.groupby(['VIN_length', 'IOQ'])['차대번호'].groups"
   ]
  },
  {
   "cell_type": "code",
   "execution_count": 255,
   "metadata": {},
   "outputs": [
    {
     "data": {
      "text/plain": [
       "dict_keys([(10, 'N'), (11, 'N'), (12, 'N'), (13, 'N'), (14, 'N'), (15, 'N'), (15, 'Y'), (16, 'N'), (17, 'N'), (17, 'Y')])"
      ]
     },
     "execution_count": 255,
     "metadata": {},
     "output_type": "execute_result"
    }
   ],
   "source": [
    "V_I_dict.keys()"
   ]
  },
  {
   "cell_type": "code",
   "execution_count": 256,
   "metadata": {},
   "outputs": [
    {
     "data": {
      "text/html": [
       "<div>\n",
       "<style scoped>\n",
       "    .dataframe tbody tr th:only-of-type {\n",
       "        vertical-align: middle;\n",
       "    }\n",
       "\n",
       "    .dataframe tbody tr th {\n",
       "        vertical-align: top;\n",
       "    }\n",
       "\n",
       "    .dataframe thead th {\n",
       "        text-align: right;\n",
       "    }\n",
       "</style>\n",
       "<table border=\"1\" class=\"dataframe\">\n",
       "  <thead>\n",
       "    <tr style=\"text-align: right;\">\n",
       "      <th></th>\n",
       "      <th>VIN_length</th>\n",
       "      <th>IOQ</th>\n",
       "      <th>차대번호</th>\n",
       "    </tr>\n",
       "  </thead>\n",
       "  <tbody>\n",
       "    <tr>\n",
       "      <th>0</th>\n",
       "      <td>10</td>\n",
       "      <td>N</td>\n",
       "      <td>4</td>\n",
       "    </tr>\n",
       "    <tr>\n",
       "      <th>1</th>\n",
       "      <td>11</td>\n",
       "      <td>N</td>\n",
       "      <td>216</td>\n",
       "    </tr>\n",
       "    <tr>\n",
       "      <th>2</th>\n",
       "      <td>12</td>\n",
       "      <td>N</td>\n",
       "      <td>2134</td>\n",
       "    </tr>\n",
       "    <tr>\n",
       "      <th>3</th>\n",
       "      <td>13</td>\n",
       "      <td>N</td>\n",
       "      <td>157</td>\n",
       "    </tr>\n",
       "    <tr>\n",
       "      <th>4</th>\n",
       "      <td>14</td>\n",
       "      <td>N</td>\n",
       "      <td>22</td>\n",
       "    </tr>\n",
       "    <tr>\n",
       "      <th>5</th>\n",
       "      <td>15</td>\n",
       "      <td>N</td>\n",
       "      <td>40</td>\n",
       "    </tr>\n",
       "    <tr>\n",
       "      <th>6</th>\n",
       "      <td>15</td>\n",
       "      <td>Y</td>\n",
       "      <td>1</td>\n",
       "    </tr>\n",
       "    <tr>\n",
       "      <th>7</th>\n",
       "      <td>16</td>\n",
       "      <td>N</td>\n",
       "      <td>56</td>\n",
       "    </tr>\n",
       "    <tr>\n",
       "      <th>8</th>\n",
       "      <td>17</td>\n",
       "      <td>N</td>\n",
       "      <td>1524909</td>\n",
       "    </tr>\n",
       "    <tr>\n",
       "      <th>9</th>\n",
       "      <td>17</td>\n",
       "      <td>Y</td>\n",
       "      <td>1018</td>\n",
       "    </tr>\n",
       "  </tbody>\n",
       "</table>\n",
       "</div>"
      ],
      "text/plain": [
       "   VIN_length IOQ     차대번호\n",
       "0          10   N        4\n",
       "1          11   N      216\n",
       "2          12   N     2134\n",
       "3          13   N      157\n",
       "4          14   N       22\n",
       "5          15   N       40\n",
       "6          15   Y        1\n",
       "7          16   N       56\n",
       "8          17   N  1524909\n",
       "9          17   Y     1018"
      ]
     },
     "execution_count": 256,
     "metadata": {},
     "output_type": "execute_result"
    }
   ],
   "source": [
    "g = df6.groupby(['VIN_length', 'IOQ'], as_index=False)['차대번호'].count()\n",
    "g"
   ]
  },
  {
   "cell_type": "code",
   "execution_count": 257,
   "metadata": {},
   "outputs": [
    {
     "data": {
      "text/html": [
       "<div>\n",
       "<style scoped>\n",
       "    .dataframe tbody tr th:only-of-type {\n",
       "        vertical-align: middle;\n",
       "    }\n",
       "\n",
       "    .dataframe tbody tr th {\n",
       "        vertical-align: top;\n",
       "    }\n",
       "\n",
       "    .dataframe thead th {\n",
       "        text-align: right;\n",
       "    }\n",
       "</style>\n",
       "<table border=\"1\" class=\"dataframe\">\n",
       "  <thead>\n",
       "    <tr style=\"text-align: right;\">\n",
       "      <th></th>\n",
       "      <th>VIN_length</th>\n",
       "      <th>IOQ</th>\n",
       "      <th>차대번호</th>\n",
       "    </tr>\n",
       "  </thead>\n",
       "  <tbody>\n",
       "    <tr>\n",
       "      <th>0</th>\n",
       "      <td>10</td>\n",
       "      <td>N</td>\n",
       "      <td>4</td>\n",
       "    </tr>\n",
       "    <tr>\n",
       "      <th>1</th>\n",
       "      <td>11</td>\n",
       "      <td>N</td>\n",
       "      <td>216</td>\n",
       "    </tr>\n",
       "    <tr>\n",
       "      <th>2</th>\n",
       "      <td>12</td>\n",
       "      <td>N</td>\n",
       "      <td>2134</td>\n",
       "    </tr>\n",
       "    <tr>\n",
       "      <th>3</th>\n",
       "      <td>13</td>\n",
       "      <td>N</td>\n",
       "      <td>157</td>\n",
       "    </tr>\n",
       "    <tr>\n",
       "      <th>4</th>\n",
       "      <td>14</td>\n",
       "      <td>N</td>\n",
       "      <td>22</td>\n",
       "    </tr>\n",
       "    <tr>\n",
       "      <th>5</th>\n",
       "      <td>15</td>\n",
       "      <td>N</td>\n",
       "      <td>40</td>\n",
       "    </tr>\n",
       "    <tr>\n",
       "      <th>6</th>\n",
       "      <td>15</td>\n",
       "      <td>Y</td>\n",
       "      <td>1</td>\n",
       "    </tr>\n",
       "    <tr>\n",
       "      <th>7</th>\n",
       "      <td>16</td>\n",
       "      <td>N</td>\n",
       "      <td>56</td>\n",
       "    </tr>\n",
       "    <tr>\n",
       "      <th>8</th>\n",
       "      <td>17</td>\n",
       "      <td>N</td>\n",
       "      <td>1524909</td>\n",
       "    </tr>\n",
       "    <tr>\n",
       "      <th>9</th>\n",
       "      <td>17</td>\n",
       "      <td>Y</td>\n",
       "      <td>1018</td>\n",
       "    </tr>\n",
       "  </tbody>\n",
       "</table>\n",
       "</div>"
      ],
      "text/plain": [
       "   VIN_length IOQ     차대번호\n",
       "0          10   N        4\n",
       "1          11   N      216\n",
       "2          12   N     2134\n",
       "3          13   N      157\n",
       "4          14   N       22\n",
       "5          15   N       40\n",
       "6          15   Y        1\n",
       "7          16   N       56\n",
       "8          17   N  1524909\n",
       "9          17   Y     1018"
      ]
     },
     "execution_count": 257,
     "metadata": {},
     "output_type": "execute_result"
    }
   ],
   "source": [
    "V_I_df = g.sort_values(['VIN_length', 'IOQ'], ascending=[True, True])\n",
    "V_I_df"
   ]
  },
  {
   "attachments": {},
   "cell_type": "markdown",
   "metadata": {},
   "source": [
    "##### 차대번호 길이, IOQ포함 여부 별 예시"
   ]
  },
  {
   "cell_type": "code",
   "execution_count": 258,
   "metadata": {},
   "outputs": [
    {
     "name": "stdout",
     "output_type": "stream",
     "text": [
      "[VIN_length : 10, \"IOQ\"포함 : N]\n",
      "예시)\n",
      "1184741    FD3S112983\n",
      "1191288    FD3S303919\n",
      "1197803    EU13315046\n",
      "Name: 차대번호, dtype: object\n",
      "\n",
      "[VIN_length : 11, \"IOQ\"포함 : N]\n",
      "예시)\n",
      "1171917    H36A0602064\n",
      "1179716    RPS13330414\n",
      "1186002    DE2A0100210\n",
      "Name: 차대번호, dtype: object\n",
      "\n",
      "[VIN_length : 12, \"IOQ\"포함 : N]\n",
      "예시)\n",
      "1144821    289711309283\n",
      "1161719    119811229792\n",
      "1170369    119811328945\n",
      "Name: 차대번호, dtype: object\n",
      "\n",
      "[VIN_length : 13, \"IOQ\"포함 : N]\n",
      "예시)\n",
      "1176816    4197111236649\n",
      "1179156    289711308190하\n",
      "1180037    2893113157323\n",
      "Name: 차대번호, dtype: object\n",
      "\n",
      "[VIN_length : 14, \"IOQ\"포함 : N]\n",
      "예시)\n",
      "1182843    27911130156505\n",
      "1183740    27931130152305\n",
      "1349628    21891130315401\n",
      "Name: 차대번호, dtype: object\n",
      "\n",
      "[VIN_length : 15, \"IOQ\"포함 : N]\n",
      "예시)\n",
      "1171406    11-97-113-29992\n",
      "1171678    11-97-113-28686\n",
      "1171805    41-96-113-35598\n",
      "Name: 차대번호, dtype: object\n",
      "\n",
      "[VIN_length : 15, \"IOQ\"포함 : Y]\n",
      "예시)\n",
      "1528151    12851300018EORN\n",
      "Name: 차대번호, dtype: object\n",
      "\n",
      "[VIN_length : 16, \"IOQ\"포함 : N]\n",
      "예시)\n",
      "352051    KMFWBX7ABU267970\n",
      "362014    KMFZCZ7JAB640917\n",
      "461606    KNCSJX4AAK452185\n",
      "Name: 차대번호, dtype: object\n",
      "\n",
      "[VIN_length : 17, \"IOQ\"포함 : N]\n",
      "예시)\n",
      "0    KMCLK18KP8C035195\n",
      "1    KMFLA18KP8C031274\n",
      "2    KLACA26RD8B226753\n",
      "Name: 차대번호, dtype: object\n",
      "\n",
      "[VIN_length : 17, \"IOQ\"포함 : Y]\n",
      "예시)\n",
      "1142      WPOZZZ96ZLS402952\n",
      "117803    WPOZZZ96ZKS400603\n",
      "330303    YV2ABSOC4AA695671\n",
      "Name: 차대번호, dtype: object\n",
      "\n"
     ]
    }
   ],
   "source": [
    "for v in range(10, 18):\n",
    "    for i in ['N', 'Y']:\n",
    "        try:\n",
    "            idx = V_I_dict[(v, i)]\n",
    "            print(f'[VIN_length : {v}, \"IOQ\"포함 : {i}]')\n",
    "            print('예시)')\n",
    "            print(df6.iloc[idx[:3], 6])\n",
    "            print()\n",
    "        except:\n",
    "            pass"
   ]
  },
  {
   "cell_type": "code",
   "execution_count": 259,
   "metadata": {},
   "outputs": [
    {
     "data": {
      "text/html": [
       "<div>\n",
       "<style scoped>\n",
       "    .dataframe tbody tr th:only-of-type {\n",
       "        vertical-align: middle;\n",
       "    }\n",
       "\n",
       "    .dataframe tbody tr th {\n",
       "        vertical-align: top;\n",
       "    }\n",
       "\n",
       "    .dataframe thead th {\n",
       "        text-align: right;\n",
       "    }\n",
       "</style>\n",
       "<table border=\"1\" class=\"dataframe\">\n",
       "  <thead>\n",
       "    <tr style=\"text-align: right;\">\n",
       "      <th>VIN_length</th>\n",
       "      <th>10</th>\n",
       "      <th>11</th>\n",
       "      <th>12</th>\n",
       "      <th>13</th>\n",
       "      <th>14</th>\n",
       "      <th>15</th>\n",
       "      <th>16</th>\n",
       "      <th>17</th>\n",
       "    </tr>\n",
       "    <tr>\n",
       "      <th>연료</th>\n",
       "      <th></th>\n",
       "      <th></th>\n",
       "      <th></th>\n",
       "      <th></th>\n",
       "      <th></th>\n",
       "      <th></th>\n",
       "      <th></th>\n",
       "      <th></th>\n",
       "    </tr>\n",
       "  </thead>\n",
       "  <tbody>\n",
       "    <tr>\n",
       "      <th>CNG(압축천연가스)</th>\n",
       "      <td>NaN</td>\n",
       "      <td>NaN</td>\n",
       "      <td>NaN</td>\n",
       "      <td>NaN</td>\n",
       "      <td>NaN</td>\n",
       "      <td>NaN</td>\n",
       "      <td>NaN</td>\n",
       "      <td>1.0</td>\n",
       "    </tr>\n",
       "    <tr>\n",
       "      <th>LPG(액화석유가스)</th>\n",
       "      <td>NaN</td>\n",
       "      <td>NaN</td>\n",
       "      <td>15.0</td>\n",
       "      <td>NaN</td>\n",
       "      <td>NaN</td>\n",
       "      <td>NaN</td>\n",
       "      <td>2.0</td>\n",
       "      <td>26401.0</td>\n",
       "    </tr>\n",
       "    <tr>\n",
       "      <th>경유</th>\n",
       "      <td>NaN</td>\n",
       "      <td>NaN</td>\n",
       "      <td>NaN</td>\n",
       "      <td>NaN</td>\n",
       "      <td>NaN</td>\n",
       "      <td>NaN</td>\n",
       "      <td>10.0</td>\n",
       "      <td>1167595.0</td>\n",
       "    </tr>\n",
       "    <tr>\n",
       "      <th>기타연료</th>\n",
       "      <td>NaN</td>\n",
       "      <td>NaN</td>\n",
       "      <td>NaN</td>\n",
       "      <td>NaN</td>\n",
       "      <td>NaN</td>\n",
       "      <td>NaN</td>\n",
       "      <td>NaN</td>\n",
       "      <td>1.0</td>\n",
       "    </tr>\n",
       "    <tr>\n",
       "      <th>알코올</th>\n",
       "      <td>NaN</td>\n",
       "      <td>NaN</td>\n",
       "      <td>NaN</td>\n",
       "      <td>NaN</td>\n",
       "      <td>NaN</td>\n",
       "      <td>NaN</td>\n",
       "      <td>NaN</td>\n",
       "      <td>1.0</td>\n",
       "    </tr>\n",
       "    <tr>\n",
       "      <th>휘발유</th>\n",
       "      <td>4.0</td>\n",
       "      <td>216.0</td>\n",
       "      <td>2119.0</td>\n",
       "      <td>157.0</td>\n",
       "      <td>22.0</td>\n",
       "      <td>41.0</td>\n",
       "      <td>44.0</td>\n",
       "      <td>331928.0</td>\n",
       "    </tr>\n",
       "  </tbody>\n",
       "</table>\n",
       "</div>"
      ],
      "text/plain": [
       "VIN_length    10     11      12     13    14    15    16         17\n",
       "연료                                                                 \n",
       "CNG(압축천연가스)  NaN    NaN     NaN    NaN   NaN   NaN   NaN        1.0\n",
       "LPG(액화석유가스)  NaN    NaN    15.0    NaN   NaN   NaN   2.0    26401.0\n",
       "경유           NaN    NaN     NaN    NaN   NaN   NaN  10.0  1167595.0\n",
       "기타연료         NaN    NaN     NaN    NaN   NaN   NaN   NaN        1.0\n",
       "알코올          NaN    NaN     NaN    NaN   NaN   NaN   NaN        1.0\n",
       "휘발유          4.0  216.0  2119.0  157.0  22.0  41.0  44.0   331928.0"
      ]
     },
     "execution_count": 259,
     "metadata": {},
     "output_type": "execute_result"
    }
   ],
   "source": [
    "df6.groupby(['VIN_length', '연료'])['차대번호'].count().unstack().T"
   ]
  },
  {
   "cell_type": "code",
   "execution_count": 260,
   "metadata": {},
   "outputs": [],
   "source": [
    "# vin 길이별, 연료별 차대번호 개수 통계\n",
    "df6.groupby(['VIN_length', '연료'])['차대번호'].count().unstack().T.to_excel('analysis/[G4][차대번호]길이_통계.xlsx')"
   ]
  },
  {
   "cell_type": "code",
   "execution_count": 261,
   "metadata": {},
   "outputs": [
    {
     "data": {
      "text/html": [
       "<div>\n",
       "<style scoped>\n",
       "    .dataframe tbody tr th:only-of-type {\n",
       "        vertical-align: middle;\n",
       "    }\n",
       "\n",
       "    .dataframe tbody tr th {\n",
       "        vertical-align: top;\n",
       "    }\n",
       "\n",
       "    .dataframe thead th {\n",
       "        text-align: right;\n",
       "    }\n",
       "</style>\n",
       "<table border=\"1\" class=\"dataframe\">\n",
       "  <thead>\n",
       "    <tr style=\"text-align: right;\">\n",
       "      <th>IOQ</th>\n",
       "      <th>N</th>\n",
       "      <th>Y</th>\n",
       "    </tr>\n",
       "    <tr>\n",
       "      <th>연료</th>\n",
       "      <th></th>\n",
       "      <th></th>\n",
       "    </tr>\n",
       "  </thead>\n",
       "  <tbody>\n",
       "    <tr>\n",
       "      <th>CNG(압축천연가스)</th>\n",
       "      <td>1.0</td>\n",
       "      <td>NaN</td>\n",
       "    </tr>\n",
       "    <tr>\n",
       "      <th>LPG(액화석유가스)</th>\n",
       "      <td>26414.0</td>\n",
       "      <td>4.0</td>\n",
       "    </tr>\n",
       "    <tr>\n",
       "      <th>경유</th>\n",
       "      <td>1167405.0</td>\n",
       "      <td>200.0</td>\n",
       "    </tr>\n",
       "    <tr>\n",
       "      <th>기타연료</th>\n",
       "      <td>1.0</td>\n",
       "      <td>NaN</td>\n",
       "    </tr>\n",
       "    <tr>\n",
       "      <th>알코올</th>\n",
       "      <td>1.0</td>\n",
       "      <td>NaN</td>\n",
       "    </tr>\n",
       "    <tr>\n",
       "      <th>휘발유</th>\n",
       "      <td>333716.0</td>\n",
       "      <td>815.0</td>\n",
       "    </tr>\n",
       "  </tbody>\n",
       "</table>\n",
       "</div>"
      ],
      "text/plain": [
       "IOQ                  N      Y\n",
       "연료                           \n",
       "CNG(압축천연가스)        1.0    NaN\n",
       "LPG(액화석유가스)    26414.0    4.0\n",
       "경유           1167405.0  200.0\n",
       "기타연료               1.0    NaN\n",
       "알코올                1.0    NaN\n",
       "휘발유           333716.0  815.0"
      ]
     },
     "execution_count": 261,
     "metadata": {},
     "output_type": "execute_result"
    }
   ],
   "source": [
    "df6.groupby(['IOQ', '연료'])['차대번호'].count().unstack().T"
   ]
  },
  {
   "cell_type": "code",
   "execution_count": 262,
   "metadata": {},
   "outputs": [],
   "source": [
    "# vin IOQ 포함별, 연료별 차대번호 개수 통계\n",
    "df6.groupby(['IOQ', '연료'])['차대번호'].count().unstack().T.to_excel('analysis/[G4][차대번호]IOQ포함여부_통계.xlsx')"
   ]
  },
  {
   "attachments": {},
   "cell_type": "markdown",
   "metadata": {},
   "source": [
    "#### 차대번호 10번째 자리 문자로 연식 확인"
   ]
  },
  {
   "cell_type": "code",
   "execution_count": 263,
   "metadata": {},
   "outputs": [
    {
     "data": {
      "text/plain": [
       "array([2008, 2007, 2006, 2012, 2011, 2009, 2001, 2010, 2019, 2020, 1992,\n",
       "       1994, 1996, 2018, 1991, 1993, 1989, 1990, 1995, 1997, 2013, 1998,\n",
       "       1999, 1988, 2017, 2005, 2016, 2002, 2004, 2003, 2015, 1987, 2014,\n",
       "       1986, 2000, 1981, 1978, 1973, 1984, 1901, 1985, 1980, 1979, 1983,\n",
       "       1968], dtype=int64)"
      ]
     },
     "execution_count": 263,
     "metadata": {},
     "output_type": "execute_result"
    }
   ],
   "source": [
    "df6['차량연식'].unique()"
   ]
  },
  {
   "cell_type": "code",
   "execution_count": 264,
   "metadata": {},
   "outputs": [
    {
     "data": {
      "text/html": [
       "<div>\n",
       "<style scoped>\n",
       "    .dataframe tbody tr th:only-of-type {\n",
       "        vertical-align: middle;\n",
       "    }\n",
       "\n",
       "    .dataframe tbody tr th {\n",
       "        vertical-align: top;\n",
       "    }\n",
       "\n",
       "    .dataframe thead th {\n",
       "        text-align: right;\n",
       "    }\n",
       "</style>\n",
       "<table border=\"1\" class=\"dataframe\">\n",
       "  <thead>\n",
       "    <tr style=\"text-align: right;\">\n",
       "      <th>연료</th>\n",
       "      <th>CNG(압축천연가스)</th>\n",
       "      <th>LPG(액화석유가스)</th>\n",
       "      <th>경유</th>\n",
       "      <th>기타연료</th>\n",
       "      <th>알코올</th>\n",
       "      <th>휘발유</th>\n",
       "    </tr>\n",
       "    <tr>\n",
       "      <th>차량연식</th>\n",
       "      <th></th>\n",
       "      <th></th>\n",
       "      <th></th>\n",
       "      <th></th>\n",
       "      <th></th>\n",
       "      <th></th>\n",
       "    </tr>\n",
       "  </thead>\n",
       "  <tbody>\n",
       "    <tr>\n",
       "      <th>1901</th>\n",
       "      <td>NaN</td>\n",
       "      <td>NaN</td>\n",
       "      <td>NaN</td>\n",
       "      <td>NaN</td>\n",
       "      <td>NaN</td>\n",
       "      <td>1.0</td>\n",
       "    </tr>\n",
       "    <tr>\n",
       "      <th>1968</th>\n",
       "      <td>NaN</td>\n",
       "      <td>NaN</td>\n",
       "      <td>NaN</td>\n",
       "      <td>NaN</td>\n",
       "      <td>NaN</td>\n",
       "      <td>1.0</td>\n",
       "    </tr>\n",
       "    <tr>\n",
       "      <th>1973</th>\n",
       "      <td>NaN</td>\n",
       "      <td>NaN</td>\n",
       "      <td>NaN</td>\n",
       "      <td>NaN</td>\n",
       "      <td>NaN</td>\n",
       "      <td>1.0</td>\n",
       "    </tr>\n",
       "    <tr>\n",
       "      <th>1978</th>\n",
       "      <td>NaN</td>\n",
       "      <td>NaN</td>\n",
       "      <td>NaN</td>\n",
       "      <td>NaN</td>\n",
       "      <td>NaN</td>\n",
       "      <td>1.0</td>\n",
       "    </tr>\n",
       "    <tr>\n",
       "      <th>1979</th>\n",
       "      <td>NaN</td>\n",
       "      <td>NaN</td>\n",
       "      <td>NaN</td>\n",
       "      <td>NaN</td>\n",
       "      <td>NaN</td>\n",
       "      <td>3.0</td>\n",
       "    </tr>\n",
       "    <tr>\n",
       "      <th>1980</th>\n",
       "      <td>NaN</td>\n",
       "      <td>NaN</td>\n",
       "      <td>NaN</td>\n",
       "      <td>NaN</td>\n",
       "      <td>NaN</td>\n",
       "      <td>1.0</td>\n",
       "    </tr>\n",
       "    <tr>\n",
       "      <th>1981</th>\n",
       "      <td>NaN</td>\n",
       "      <td>NaN</td>\n",
       "      <td>NaN</td>\n",
       "      <td>NaN</td>\n",
       "      <td>NaN</td>\n",
       "      <td>1.0</td>\n",
       "    </tr>\n",
       "    <tr>\n",
       "      <th>1983</th>\n",
       "      <td>NaN</td>\n",
       "      <td>NaN</td>\n",
       "      <td>NaN</td>\n",
       "      <td>NaN</td>\n",
       "      <td>NaN</td>\n",
       "      <td>3.0</td>\n",
       "    </tr>\n",
       "    <tr>\n",
       "      <th>1984</th>\n",
       "      <td>NaN</td>\n",
       "      <td>NaN</td>\n",
       "      <td>NaN</td>\n",
       "      <td>NaN</td>\n",
       "      <td>NaN</td>\n",
       "      <td>3.0</td>\n",
       "    </tr>\n",
       "    <tr>\n",
       "      <th>1985</th>\n",
       "      <td>NaN</td>\n",
       "      <td>NaN</td>\n",
       "      <td>NaN</td>\n",
       "      <td>NaN</td>\n",
       "      <td>NaN</td>\n",
       "      <td>4.0</td>\n",
       "    </tr>\n",
       "    <tr>\n",
       "      <th>1986</th>\n",
       "      <td>NaN</td>\n",
       "      <td>NaN</td>\n",
       "      <td>NaN</td>\n",
       "      <td>NaN</td>\n",
       "      <td>NaN</td>\n",
       "      <td>12.0</td>\n",
       "    </tr>\n",
       "    <tr>\n",
       "      <th>1987</th>\n",
       "      <td>NaN</td>\n",
       "      <td>NaN</td>\n",
       "      <td>NaN</td>\n",
       "      <td>NaN</td>\n",
       "      <td>NaN</td>\n",
       "      <td>1278.0</td>\n",
       "    </tr>\n",
       "    <tr>\n",
       "      <th>1988</th>\n",
       "      <td>NaN</td>\n",
       "      <td>91.0</td>\n",
       "      <td>NaN</td>\n",
       "      <td>NaN</td>\n",
       "      <td>1.0</td>\n",
       "      <td>11758.0</td>\n",
       "    </tr>\n",
       "    <tr>\n",
       "      <th>1989</th>\n",
       "      <td>NaN</td>\n",
       "      <td>52.0</td>\n",
       "      <td>1.0</td>\n",
       "      <td>NaN</td>\n",
       "      <td>NaN</td>\n",
       "      <td>20633.0</td>\n",
       "    </tr>\n",
       "    <tr>\n",
       "      <th>1990</th>\n",
       "      <td>NaN</td>\n",
       "      <td>74.0</td>\n",
       "      <td>NaN</td>\n",
       "      <td>NaN</td>\n",
       "      <td>NaN</td>\n",
       "      <td>26627.0</td>\n",
       "    </tr>\n",
       "    <tr>\n",
       "      <th>1991</th>\n",
       "      <td>NaN</td>\n",
       "      <td>82.0</td>\n",
       "      <td>NaN</td>\n",
       "      <td>NaN</td>\n",
       "      <td>NaN</td>\n",
       "      <td>30246.0</td>\n",
       "    </tr>\n",
       "    <tr>\n",
       "      <th>1992</th>\n",
       "      <td>NaN</td>\n",
       "      <td>471.0</td>\n",
       "      <td>NaN</td>\n",
       "      <td>NaN</td>\n",
       "      <td>NaN</td>\n",
       "      <td>33452.0</td>\n",
       "    </tr>\n",
       "    <tr>\n",
       "      <th>1993</th>\n",
       "      <td>NaN</td>\n",
       "      <td>1468.0</td>\n",
       "      <td>NaN</td>\n",
       "      <td>NaN</td>\n",
       "      <td>NaN</td>\n",
       "      <td>32811.0</td>\n",
       "    </tr>\n",
       "    <tr>\n",
       "      <th>1994</th>\n",
       "      <td>NaN</td>\n",
       "      <td>2290.0</td>\n",
       "      <td>NaN</td>\n",
       "      <td>NaN</td>\n",
       "      <td>NaN</td>\n",
       "      <td>35492.0</td>\n",
       "    </tr>\n",
       "    <tr>\n",
       "      <th>1995</th>\n",
       "      <td>NaN</td>\n",
       "      <td>2122.0</td>\n",
       "      <td>NaN</td>\n",
       "      <td>NaN</td>\n",
       "      <td>NaN</td>\n",
       "      <td>33268.0</td>\n",
       "    </tr>\n",
       "    <tr>\n",
       "      <th>1996</th>\n",
       "      <td>NaN</td>\n",
       "      <td>2605.0</td>\n",
       "      <td>1.0</td>\n",
       "      <td>NaN</td>\n",
       "      <td>NaN</td>\n",
       "      <td>33660.0</td>\n",
       "    </tr>\n",
       "    <tr>\n",
       "      <th>1997</th>\n",
       "      <td>NaN</td>\n",
       "      <td>2785.0</td>\n",
       "      <td>1.0</td>\n",
       "      <td>NaN</td>\n",
       "      <td>NaN</td>\n",
       "      <td>27202.0</td>\n",
       "    </tr>\n",
       "    <tr>\n",
       "      <th>1998</th>\n",
       "      <td>NaN</td>\n",
       "      <td>1660.0</td>\n",
       "      <td>NaN</td>\n",
       "      <td>NaN</td>\n",
       "      <td>NaN</td>\n",
       "      <td>8576.0</td>\n",
       "    </tr>\n",
       "    <tr>\n",
       "      <th>1999</th>\n",
       "      <td>NaN</td>\n",
       "      <td>5579.0</td>\n",
       "      <td>NaN</td>\n",
       "      <td>NaN</td>\n",
       "      <td>NaN</td>\n",
       "      <td>14449.0</td>\n",
       "    </tr>\n",
       "    <tr>\n",
       "      <th>2000</th>\n",
       "      <td>NaN</td>\n",
       "      <td>5110.0</td>\n",
       "      <td>NaN</td>\n",
       "      <td>NaN</td>\n",
       "      <td>NaN</td>\n",
       "      <td>8216.0</td>\n",
       "    </tr>\n",
       "    <tr>\n",
       "      <th>2001</th>\n",
       "      <td>NaN</td>\n",
       "      <td>1043.0</td>\n",
       "      <td>NaN</td>\n",
       "      <td>NaN</td>\n",
       "      <td>NaN</td>\n",
       "      <td>6793.0</td>\n",
       "    </tr>\n",
       "    <tr>\n",
       "      <th>2002</th>\n",
       "      <td>NaN</td>\n",
       "      <td>839.0</td>\n",
       "      <td>2.0</td>\n",
       "      <td>NaN</td>\n",
       "      <td>NaN</td>\n",
       "      <td>8130.0</td>\n",
       "    </tr>\n",
       "    <tr>\n",
       "      <th>2003</th>\n",
       "      <td>NaN</td>\n",
       "      <td>147.0</td>\n",
       "      <td>1.0</td>\n",
       "      <td>NaN</td>\n",
       "      <td>NaN</td>\n",
       "      <td>21.0</td>\n",
       "    </tr>\n",
       "    <tr>\n",
       "      <th>2004</th>\n",
       "      <td>NaN</td>\n",
       "      <td>NaN</td>\n",
       "      <td>1.0</td>\n",
       "      <td>NaN</td>\n",
       "      <td>NaN</td>\n",
       "      <td>213.0</td>\n",
       "    </tr>\n",
       "    <tr>\n",
       "      <th>2005</th>\n",
       "      <td>1.0</td>\n",
       "      <td>NaN</td>\n",
       "      <td>978.0</td>\n",
       "      <td>NaN</td>\n",
       "      <td>NaN</td>\n",
       "      <td>89.0</td>\n",
       "    </tr>\n",
       "    <tr>\n",
       "      <th>2006</th>\n",
       "      <td>NaN</td>\n",
       "      <td>NaN</td>\n",
       "      <td>33825.0</td>\n",
       "      <td>NaN</td>\n",
       "      <td>NaN</td>\n",
       "      <td>185.0</td>\n",
       "    </tr>\n",
       "    <tr>\n",
       "      <th>2007</th>\n",
       "      <td>NaN</td>\n",
       "      <td>NaN</td>\n",
       "      <td>106552.0</td>\n",
       "      <td>1.0</td>\n",
       "      <td>NaN</td>\n",
       "      <td>475.0</td>\n",
       "    </tr>\n",
       "    <tr>\n",
       "      <th>2008</th>\n",
       "      <td>NaN</td>\n",
       "      <td>NaN</td>\n",
       "      <td>226162.0</td>\n",
       "      <td>NaN</td>\n",
       "      <td>NaN</td>\n",
       "      <td>705.0</td>\n",
       "    </tr>\n",
       "    <tr>\n",
       "      <th>2009</th>\n",
       "      <td>NaN</td>\n",
       "      <td>NaN</td>\n",
       "      <td>213446.0</td>\n",
       "      <td>NaN</td>\n",
       "      <td>NaN</td>\n",
       "      <td>97.0</td>\n",
       "    </tr>\n",
       "    <tr>\n",
       "      <th>2010</th>\n",
       "      <td>NaN</td>\n",
       "      <td>NaN</td>\n",
       "      <td>252709.0</td>\n",
       "      <td>NaN</td>\n",
       "      <td>NaN</td>\n",
       "      <td>1.0</td>\n",
       "    </tr>\n",
       "    <tr>\n",
       "      <th>2011</th>\n",
       "      <td>NaN</td>\n",
       "      <td>NaN</td>\n",
       "      <td>237574.0</td>\n",
       "      <td>NaN</td>\n",
       "      <td>NaN</td>\n",
       "      <td>1.0</td>\n",
       "    </tr>\n",
       "    <tr>\n",
       "      <th>2012</th>\n",
       "      <td>NaN</td>\n",
       "      <td>NaN</td>\n",
       "      <td>94135.0</td>\n",
       "      <td>NaN</td>\n",
       "      <td>NaN</td>\n",
       "      <td>52.0</td>\n",
       "    </tr>\n",
       "    <tr>\n",
       "      <th>2013</th>\n",
       "      <td>NaN</td>\n",
       "      <td>NaN</td>\n",
       "      <td>28.0</td>\n",
       "      <td>NaN</td>\n",
       "      <td>NaN</td>\n",
       "      <td>70.0</td>\n",
       "    </tr>\n",
       "    <tr>\n",
       "      <th>2014</th>\n",
       "      <td>NaN</td>\n",
       "      <td>NaN</td>\n",
       "      <td>13.0</td>\n",
       "      <td>NaN</td>\n",
       "      <td>NaN</td>\n",
       "      <td>NaN</td>\n",
       "    </tr>\n",
       "    <tr>\n",
       "      <th>2015</th>\n",
       "      <td>NaN</td>\n",
       "      <td>NaN</td>\n",
       "      <td>463.0</td>\n",
       "      <td>NaN</td>\n",
       "      <td>NaN</td>\n",
       "      <td>NaN</td>\n",
       "    </tr>\n",
       "    <tr>\n",
       "      <th>2016</th>\n",
       "      <td>NaN</td>\n",
       "      <td>NaN</td>\n",
       "      <td>482.0</td>\n",
       "      <td>NaN</td>\n",
       "      <td>NaN</td>\n",
       "      <td>NaN</td>\n",
       "    </tr>\n",
       "    <tr>\n",
       "      <th>2017</th>\n",
       "      <td>NaN</td>\n",
       "      <td>NaN</td>\n",
       "      <td>732.0</td>\n",
       "      <td>NaN</td>\n",
       "      <td>NaN</td>\n",
       "      <td>NaN</td>\n",
       "    </tr>\n",
       "    <tr>\n",
       "      <th>2018</th>\n",
       "      <td>NaN</td>\n",
       "      <td>NaN</td>\n",
       "      <td>483.0</td>\n",
       "      <td>NaN</td>\n",
       "      <td>NaN</td>\n",
       "      <td>NaN</td>\n",
       "    </tr>\n",
       "    <tr>\n",
       "      <th>2019</th>\n",
       "      <td>NaN</td>\n",
       "      <td>NaN</td>\n",
       "      <td>13.0</td>\n",
       "      <td>NaN</td>\n",
       "      <td>NaN</td>\n",
       "      <td>NaN</td>\n",
       "    </tr>\n",
       "    <tr>\n",
       "      <th>2020</th>\n",
       "      <td>NaN</td>\n",
       "      <td>NaN</td>\n",
       "      <td>3.0</td>\n",
       "      <td>NaN</td>\n",
       "      <td>NaN</td>\n",
       "      <td>NaN</td>\n",
       "    </tr>\n",
       "  </tbody>\n",
       "</table>\n",
       "</div>"
      ],
      "text/plain": [
       "연료    CNG(압축천연가스)  LPG(액화석유가스)        경유  기타연료  알코올      휘발유\n",
       "차량연식                                                        \n",
       "1901          NaN          NaN       NaN   NaN  NaN      1.0\n",
       "1968          NaN          NaN       NaN   NaN  NaN      1.0\n",
       "1973          NaN          NaN       NaN   NaN  NaN      1.0\n",
       "1978          NaN          NaN       NaN   NaN  NaN      1.0\n",
       "1979          NaN          NaN       NaN   NaN  NaN      3.0\n",
       "1980          NaN          NaN       NaN   NaN  NaN      1.0\n",
       "1981          NaN          NaN       NaN   NaN  NaN      1.0\n",
       "1983          NaN          NaN       NaN   NaN  NaN      3.0\n",
       "1984          NaN          NaN       NaN   NaN  NaN      3.0\n",
       "1985          NaN          NaN       NaN   NaN  NaN      4.0\n",
       "1986          NaN          NaN       NaN   NaN  NaN     12.0\n",
       "1987          NaN          NaN       NaN   NaN  NaN   1278.0\n",
       "1988          NaN         91.0       NaN   NaN  1.0  11758.0\n",
       "1989          NaN         52.0       1.0   NaN  NaN  20633.0\n",
       "1990          NaN         74.0       NaN   NaN  NaN  26627.0\n",
       "1991          NaN         82.0       NaN   NaN  NaN  30246.0\n",
       "1992          NaN        471.0       NaN   NaN  NaN  33452.0\n",
       "1993          NaN       1468.0       NaN   NaN  NaN  32811.0\n",
       "1994          NaN       2290.0       NaN   NaN  NaN  35492.0\n",
       "1995          NaN       2122.0       NaN   NaN  NaN  33268.0\n",
       "1996          NaN       2605.0       1.0   NaN  NaN  33660.0\n",
       "1997          NaN       2785.0       1.0   NaN  NaN  27202.0\n",
       "1998          NaN       1660.0       NaN   NaN  NaN   8576.0\n",
       "1999          NaN       5579.0       NaN   NaN  NaN  14449.0\n",
       "2000          NaN       5110.0       NaN   NaN  NaN   8216.0\n",
       "2001          NaN       1043.0       NaN   NaN  NaN   6793.0\n",
       "2002          NaN        839.0       2.0   NaN  NaN   8130.0\n",
       "2003          NaN        147.0       1.0   NaN  NaN     21.0\n",
       "2004          NaN          NaN       1.0   NaN  NaN    213.0\n",
       "2005          1.0          NaN     978.0   NaN  NaN     89.0\n",
       "2006          NaN          NaN   33825.0   NaN  NaN    185.0\n",
       "2007          NaN          NaN  106552.0   1.0  NaN    475.0\n",
       "2008          NaN          NaN  226162.0   NaN  NaN    705.0\n",
       "2009          NaN          NaN  213446.0   NaN  NaN     97.0\n",
       "2010          NaN          NaN  252709.0   NaN  NaN      1.0\n",
       "2011          NaN          NaN  237574.0   NaN  NaN      1.0\n",
       "2012          NaN          NaN   94135.0   NaN  NaN     52.0\n",
       "2013          NaN          NaN      28.0   NaN  NaN     70.0\n",
       "2014          NaN          NaN      13.0   NaN  NaN      NaN\n",
       "2015          NaN          NaN     463.0   NaN  NaN      NaN\n",
       "2016          NaN          NaN     482.0   NaN  NaN      NaN\n",
       "2017          NaN          NaN     732.0   NaN  NaN      NaN\n",
       "2018          NaN          NaN     483.0   NaN  NaN      NaN\n",
       "2019          NaN          NaN      13.0   NaN  NaN      NaN\n",
       "2020          NaN          NaN       3.0   NaN  NaN      NaN"
      ]
     },
     "execution_count": 264,
     "metadata": {},
     "output_type": "execute_result"
    }
   ],
   "source": [
    "df6.groupby(['차량연식', '연료'])['차대번호'].count().unstack()"
   ]
  },
  {
   "cell_type": "code",
   "execution_count": 265,
   "metadata": {},
   "outputs": [],
   "source": [
    "# 차량연식별, 연료별 차대번호 개수 통계\n",
    "df6.groupby(['차량연식', '연료'])['차대번호'].count().unstack().to_excel('analysis/[G4][차량연식]통계.xlsx')"
   ]
  },
  {
   "cell_type": "code",
   "execution_count": 266,
   "metadata": {},
   "outputs": [
    {
     "data": {
      "text/plain": [
       "array(['8', '7', '6', 'C', 'B', '9', '1', 'A', 'K', 'L', 'N', 'R', 'T',\n",
       "       'J', 'M', 'P', 'S', 'V', 'D', 'W', 'X', 'H', '5', 'G', '2', '4',\n",
       "       '3', 'F', 'E', 'Y', 'U', '0', 'O', '-'], dtype=object)"
      ]
     },
     "execution_count": 266,
     "metadata": {},
     "output_type": "execute_result"
    }
   ],
   "source": [
    "df6['차대번호_10자리'] = df6['차대번호'].str[9]\n",
    "df6['차대번호_10자리'].unique()"
   ]
  },
  {
   "cell_type": "code",
   "execution_count": 267,
   "metadata": {},
   "outputs": [],
   "source": [
    "vin_10_dict = {'A':1980, 'B':1981, 'C':1982, 'D':1983, 'E':1984, 'F':1985, 'G':1986, 'H':1987, 'J':1988, 'K':1989, 'L':1990, 'M':1991, 'N':1992, 'P':1993, 'R':1994, 'S':1995, 'T':1996, 'V':1997, 'W':1998, 'X':1999, 'Y':2000, '1':2001, '2':2002, '3':2003, '4':2004, '5':2005, '6':2006, '7':2007, '8':2008, '9':2009}"
   ]
  },
  {
   "cell_type": "code",
   "execution_count": 268,
   "metadata": {},
   "outputs": [],
   "source": [
    "df6['차대번호_10자리_기준연식'] = df6['차대번호_10자리'].replace(vin_10_dict)"
   ]
  },
  {
   "cell_type": "code",
   "execution_count": 269,
   "metadata": {},
   "outputs": [
    {
     "data": {
      "text/plain": [
       "array([2008, 2007, 2006, 1982, 1981, 2009, 2001, 1980, 1989, 1990, 1992,\n",
       "       1994, 1996, 1988, 1991, 1993, 1995, 1997, 1983, 1998, 1999, 1987,\n",
       "       2005, 1986, 2002, 2004, 2003, 1985, 1984, 2000, 'U', '0', 'O', '-'],\n",
       "      dtype=object)"
      ]
     },
     "execution_count": 269,
     "metadata": {},
     "output_type": "execute_result"
    }
   ],
   "source": [
    "df6['차대번호_10자리_기준연식'].unique()"
   ]
  },
  {
   "cell_type": "code",
   "execution_count": 270,
   "metadata": {},
   "outputs": [
    {
     "data": {
      "text/html": [
       "<div>\n",
       "<style scoped>\n",
       "    .dataframe tbody tr th:only-of-type {\n",
       "        vertical-align: middle;\n",
       "    }\n",
       "\n",
       "    .dataframe tbody tr th {\n",
       "        vertical-align: top;\n",
       "    }\n",
       "\n",
       "    .dataframe thead th {\n",
       "        text-align: right;\n",
       "    }\n",
       "</style>\n",
       "<table border=\"1\" class=\"dataframe\">\n",
       "  <thead>\n",
       "    <tr style=\"text-align: right;\">\n",
       "      <th>연료</th>\n",
       "      <th>CNG(압축천연가스)</th>\n",
       "      <th>LPG(액화석유가스)</th>\n",
       "      <th>경유</th>\n",
       "      <th>기타연료</th>\n",
       "      <th>알코올</th>\n",
       "      <th>휘발유</th>\n",
       "    </tr>\n",
       "    <tr>\n",
       "      <th>차대번호_10자리_기준연식</th>\n",
       "      <th></th>\n",
       "      <th></th>\n",
       "      <th></th>\n",
       "      <th></th>\n",
       "      <th></th>\n",
       "      <th></th>\n",
       "    </tr>\n",
       "  </thead>\n",
       "  <tbody>\n",
       "    <tr>\n",
       "      <th>1980</th>\n",
       "      <td>NaN</td>\n",
       "      <td>NaN</td>\n",
       "      <td>252705.0</td>\n",
       "      <td>NaN</td>\n",
       "      <td>NaN</td>\n",
       "      <td>2.0</td>\n",
       "    </tr>\n",
       "    <tr>\n",
       "      <th>1981</th>\n",
       "      <td>NaN</td>\n",
       "      <td>NaN</td>\n",
       "      <td>237573.0</td>\n",
       "      <td>NaN</td>\n",
       "      <td>NaN</td>\n",
       "      <td>5.0</td>\n",
       "    </tr>\n",
       "    <tr>\n",
       "      <th>1982</th>\n",
       "      <td>NaN</td>\n",
       "      <td>NaN</td>\n",
       "      <td>94135.0</td>\n",
       "      <td>NaN</td>\n",
       "      <td>NaN</td>\n",
       "      <td>54.0</td>\n",
       "    </tr>\n",
       "    <tr>\n",
       "      <th>1983</th>\n",
       "      <td>NaN</td>\n",
       "      <td>NaN</td>\n",
       "      <td>29.0</td>\n",
       "      <td>NaN</td>\n",
       "      <td>NaN</td>\n",
       "      <td>70.0</td>\n",
       "    </tr>\n",
       "    <tr>\n",
       "      <th>1984</th>\n",
       "      <td>NaN</td>\n",
       "      <td>NaN</td>\n",
       "      <td>13.0</td>\n",
       "      <td>NaN</td>\n",
       "      <td>NaN</td>\n",
       "      <td>1.0</td>\n",
       "    </tr>\n",
       "    <tr>\n",
       "      <th>1985</th>\n",
       "      <td>NaN</td>\n",
       "      <td>NaN</td>\n",
       "      <td>463.0</td>\n",
       "      <td>NaN</td>\n",
       "      <td>NaN</td>\n",
       "      <td>6.0</td>\n",
       "    </tr>\n",
       "    <tr>\n",
       "      <th>1986</th>\n",
       "      <td>NaN</td>\n",
       "      <td>NaN</td>\n",
       "      <td>482.0</td>\n",
       "      <td>NaN</td>\n",
       "      <td>NaN</td>\n",
       "      <td>12.0</td>\n",
       "    </tr>\n",
       "    <tr>\n",
       "      <th>1987</th>\n",
       "      <td>NaN</td>\n",
       "      <td>NaN</td>\n",
       "      <td>732.0</td>\n",
       "      <td>NaN</td>\n",
       "      <td>NaN</td>\n",
       "      <td>1299.0</td>\n",
       "    </tr>\n",
       "    <tr>\n",
       "      <th>1988</th>\n",
       "      <td>NaN</td>\n",
       "      <td>91.0</td>\n",
       "      <td>483.0</td>\n",
       "      <td>NaN</td>\n",
       "      <td>1.0</td>\n",
       "      <td>11652.0</td>\n",
       "    </tr>\n",
       "    <tr>\n",
       "      <th>1989</th>\n",
       "      <td>NaN</td>\n",
       "      <td>52.0</td>\n",
       "      <td>14.0</td>\n",
       "      <td>NaN</td>\n",
       "      <td>NaN</td>\n",
       "      <td>20475.0</td>\n",
       "    </tr>\n",
       "    <tr>\n",
       "      <th>1990</th>\n",
       "      <td>NaN</td>\n",
       "      <td>74.0</td>\n",
       "      <td>3.0</td>\n",
       "      <td>NaN</td>\n",
       "      <td>NaN</td>\n",
       "      <td>26361.0</td>\n",
       "    </tr>\n",
       "    <tr>\n",
       "      <th>1991</th>\n",
       "      <td>NaN</td>\n",
       "      <td>82.0</td>\n",
       "      <td>NaN</td>\n",
       "      <td>NaN</td>\n",
       "      <td>NaN</td>\n",
       "      <td>30013.0</td>\n",
       "    </tr>\n",
       "    <tr>\n",
       "      <th>1992</th>\n",
       "      <td>NaN</td>\n",
       "      <td>471.0</td>\n",
       "      <td>1.0</td>\n",
       "      <td>NaN</td>\n",
       "      <td>NaN</td>\n",
       "      <td>33051.0</td>\n",
       "    </tr>\n",
       "    <tr>\n",
       "      <th>1993</th>\n",
       "      <td>NaN</td>\n",
       "      <td>1468.0</td>\n",
       "      <td>1.0</td>\n",
       "      <td>NaN</td>\n",
       "      <td>NaN</td>\n",
       "      <td>32629.0</td>\n",
       "    </tr>\n",
       "    <tr>\n",
       "      <th>1994</th>\n",
       "      <td>NaN</td>\n",
       "      <td>2290.0</td>\n",
       "      <td>1.0</td>\n",
       "      <td>NaN</td>\n",
       "      <td>NaN</td>\n",
       "      <td>35269.0</td>\n",
       "    </tr>\n",
       "    <tr>\n",
       "      <th>1995</th>\n",
       "      <td>NaN</td>\n",
       "      <td>2121.0</td>\n",
       "      <td>NaN</td>\n",
       "      <td>NaN</td>\n",
       "      <td>NaN</td>\n",
       "      <td>32818.0</td>\n",
       "    </tr>\n",
       "    <tr>\n",
       "      <th>1996</th>\n",
       "      <td>NaN</td>\n",
       "      <td>2605.0</td>\n",
       "      <td>1.0</td>\n",
       "      <td>NaN</td>\n",
       "      <td>NaN</td>\n",
       "      <td>33407.0</td>\n",
       "    </tr>\n",
       "    <tr>\n",
       "      <th>1997</th>\n",
       "      <td>NaN</td>\n",
       "      <td>2785.0</td>\n",
       "      <td>NaN</td>\n",
       "      <td>NaN</td>\n",
       "      <td>NaN</td>\n",
       "      <td>26985.0</td>\n",
       "    </tr>\n",
       "    <tr>\n",
       "      <th>1998</th>\n",
       "      <td>NaN</td>\n",
       "      <td>1660.0</td>\n",
       "      <td>NaN</td>\n",
       "      <td>NaN</td>\n",
       "      <td>NaN</td>\n",
       "      <td>8372.0</td>\n",
       "    </tr>\n",
       "    <tr>\n",
       "      <th>1999</th>\n",
       "      <td>NaN</td>\n",
       "      <td>5575.0</td>\n",
       "      <td>NaN</td>\n",
       "      <td>NaN</td>\n",
       "      <td>NaN</td>\n",
       "      <td>14314.0</td>\n",
       "    </tr>\n",
       "    <tr>\n",
       "      <th>2000</th>\n",
       "      <td>NaN</td>\n",
       "      <td>5113.0</td>\n",
       "      <td>NaN</td>\n",
       "      <td>NaN</td>\n",
       "      <td>NaN</td>\n",
       "      <td>8216.0</td>\n",
       "    </tr>\n",
       "    <tr>\n",
       "      <th>2001</th>\n",
       "      <td>NaN</td>\n",
       "      <td>1036.0</td>\n",
       "      <td>2.0</td>\n",
       "      <td>NaN</td>\n",
       "      <td>NaN</td>\n",
       "      <td>7191.0</td>\n",
       "    </tr>\n",
       "    <tr>\n",
       "      <th>2002</th>\n",
       "      <td>NaN</td>\n",
       "      <td>832.0</td>\n",
       "      <td>2.0</td>\n",
       "      <td>NaN</td>\n",
       "      <td>NaN</td>\n",
       "      <td>8367.0</td>\n",
       "    </tr>\n",
       "    <tr>\n",
       "      <th>2003</th>\n",
       "      <td>NaN</td>\n",
       "      <td>147.0</td>\n",
       "      <td>1.0</td>\n",
       "      <td>NaN</td>\n",
       "      <td>NaN</td>\n",
       "      <td>235.0</td>\n",
       "    </tr>\n",
       "    <tr>\n",
       "      <th>2004</th>\n",
       "      <td>NaN</td>\n",
       "      <td>NaN</td>\n",
       "      <td>1.0</td>\n",
       "      <td>NaN</td>\n",
       "      <td>NaN</td>\n",
       "      <td>457.0</td>\n",
       "    </tr>\n",
       "    <tr>\n",
       "      <th>2005</th>\n",
       "      <td>1.0</td>\n",
       "      <td>NaN</td>\n",
       "      <td>978.0</td>\n",
       "      <td>NaN</td>\n",
       "      <td>NaN</td>\n",
       "      <td>295.0</td>\n",
       "    </tr>\n",
       "    <tr>\n",
       "      <th>2006</th>\n",
       "      <td>NaN</td>\n",
       "      <td>1.0</td>\n",
       "      <td>33822.0</td>\n",
       "      <td>NaN</td>\n",
       "      <td>NaN</td>\n",
       "      <td>420.0</td>\n",
       "    </tr>\n",
       "    <tr>\n",
       "      <th>2007</th>\n",
       "      <td>NaN</td>\n",
       "      <td>2.0</td>\n",
       "      <td>106544.0</td>\n",
       "      <td>1.0</td>\n",
       "      <td>NaN</td>\n",
       "      <td>745.0</td>\n",
       "    </tr>\n",
       "    <tr>\n",
       "      <th>2008</th>\n",
       "      <td>NaN</td>\n",
       "      <td>4.0</td>\n",
       "      <td>226176.0</td>\n",
       "      <td>NaN</td>\n",
       "      <td>NaN</td>\n",
       "      <td>957.0</td>\n",
       "    </tr>\n",
       "    <tr>\n",
       "      <th>2009</th>\n",
       "      <td>NaN</td>\n",
       "      <td>6.0</td>\n",
       "      <td>213440.0</td>\n",
       "      <td>NaN</td>\n",
       "      <td>NaN</td>\n",
       "      <td>362.0</td>\n",
       "    </tr>\n",
       "    <tr>\n",
       "      <th>-</th>\n",
       "      <td>NaN</td>\n",
       "      <td>NaN</td>\n",
       "      <td>NaN</td>\n",
       "      <td>NaN</td>\n",
       "      <td>NaN</td>\n",
       "      <td>55.0</td>\n",
       "    </tr>\n",
       "    <tr>\n",
       "      <th>0</th>\n",
       "      <td>NaN</td>\n",
       "      <td>3.0</td>\n",
       "      <td>NaN</td>\n",
       "      <td>NaN</td>\n",
       "      <td>NaN</td>\n",
       "      <td>430.0</td>\n",
       "    </tr>\n",
       "    <tr>\n",
       "      <th>O</th>\n",
       "      <td>NaN</td>\n",
       "      <td>NaN</td>\n",
       "      <td>NaN</td>\n",
       "      <td>NaN</td>\n",
       "      <td>NaN</td>\n",
       "      <td>3.0</td>\n",
       "    </tr>\n",
       "    <tr>\n",
       "      <th>U</th>\n",
       "      <td>NaN</td>\n",
       "      <td>NaN</td>\n",
       "      <td>3.0</td>\n",
       "      <td>NaN</td>\n",
       "      <td>NaN</td>\n",
       "      <td>3.0</td>\n",
       "    </tr>\n",
       "  </tbody>\n",
       "</table>\n",
       "</div>"
      ],
      "text/plain": [
       "연료              CNG(압축천연가스)  LPG(액화석유가스)        경유  기타연료  알코올      휘발유\n",
       "차대번호_10자리_기준연식                                                        \n",
       "1980                    NaN          NaN  252705.0   NaN  NaN      2.0\n",
       "1981                    NaN          NaN  237573.0   NaN  NaN      5.0\n",
       "1982                    NaN          NaN   94135.0   NaN  NaN     54.0\n",
       "1983                    NaN          NaN      29.0   NaN  NaN     70.0\n",
       "1984                    NaN          NaN      13.0   NaN  NaN      1.0\n",
       "1985                    NaN          NaN     463.0   NaN  NaN      6.0\n",
       "1986                    NaN          NaN     482.0   NaN  NaN     12.0\n",
       "1987                    NaN          NaN     732.0   NaN  NaN   1299.0\n",
       "1988                    NaN         91.0     483.0   NaN  1.0  11652.0\n",
       "1989                    NaN         52.0      14.0   NaN  NaN  20475.0\n",
       "1990                    NaN         74.0       3.0   NaN  NaN  26361.0\n",
       "1991                    NaN         82.0       NaN   NaN  NaN  30013.0\n",
       "1992                    NaN        471.0       1.0   NaN  NaN  33051.0\n",
       "1993                    NaN       1468.0       1.0   NaN  NaN  32629.0\n",
       "1994                    NaN       2290.0       1.0   NaN  NaN  35269.0\n",
       "1995                    NaN       2121.0       NaN   NaN  NaN  32818.0\n",
       "1996                    NaN       2605.0       1.0   NaN  NaN  33407.0\n",
       "1997                    NaN       2785.0       NaN   NaN  NaN  26985.0\n",
       "1998                    NaN       1660.0       NaN   NaN  NaN   8372.0\n",
       "1999                    NaN       5575.0       NaN   NaN  NaN  14314.0\n",
       "2000                    NaN       5113.0       NaN   NaN  NaN   8216.0\n",
       "2001                    NaN       1036.0       2.0   NaN  NaN   7191.0\n",
       "2002                    NaN        832.0       2.0   NaN  NaN   8367.0\n",
       "2003                    NaN        147.0       1.0   NaN  NaN    235.0\n",
       "2004                    NaN          NaN       1.0   NaN  NaN    457.0\n",
       "2005                    1.0          NaN     978.0   NaN  NaN    295.0\n",
       "2006                    NaN          1.0   33822.0   NaN  NaN    420.0\n",
       "2007                    NaN          2.0  106544.0   1.0  NaN    745.0\n",
       "2008                    NaN          4.0  226176.0   NaN  NaN    957.0\n",
       "2009                    NaN          6.0  213440.0   NaN  NaN    362.0\n",
       "-                       NaN          NaN       NaN   NaN  NaN     55.0\n",
       "0                       NaN          3.0       NaN   NaN  NaN    430.0\n",
       "O                       NaN          NaN       NaN   NaN  NaN      3.0\n",
       "U                       NaN          NaN       3.0   NaN  NaN      3.0"
      ]
     },
     "execution_count": 270,
     "metadata": {},
     "output_type": "execute_result"
    }
   ],
   "source": [
    "df6.groupby(['차대번호_10자리_기준연식', '연료'])['차대번호'].count().unstack()"
   ]
  },
  {
   "cell_type": "code",
   "execution_count": 271,
   "metadata": {},
   "outputs": [],
   "source": [
    "# vin 10자리 문자기준별, 연료별 차대번호 통계\n",
    "df6.groupby(['차대번호_10자리_기준연식', '연료'])['차대번호'].count().unstack().to_excel('analysis/[G4][차량연식]차대번호10번째자리문자기준_통계.xlsx')"
   ]
  },
  {
   "attachments": {},
   "cell_type": "markdown",
   "metadata": {},
   "source": [
    "### 지역별 차량 대수"
   ]
  },
  {
   "cell_type": "code",
   "execution_count": 273,
   "metadata": {},
   "outputs": [
    {
     "name": "stdout",
     "output_type": "stream",
     "text": [
      "<class 'pandas.core.frame.DataFrame'>\n",
      "RangeIndex: 46340 entries, 0 to 46339\n",
      "Data columns (total 9 columns):\n",
      " #   Column    Non-Null Count  Dtype  \n",
      "---  ------    --------------  -----  \n",
      " 0   법정동코드     46340 non-null  int64  \n",
      " 1   시도        46340 non-null  object \n",
      " 2   시구군       46317 non-null  object \n",
      " 3   읍면동       45847 non-null  object \n",
      " 4   리         33682 non-null  object \n",
      " 5   지역3       0 non-null      float64\n",
      " 6   폐지여부      46340 non-null  object \n",
      " 7   대기관리권역    46340 non-null  object \n",
      " 8   대기관리권역YN  46334 non-null  object \n",
      "dtypes: float64(1), int64(1), object(7)\n",
      "memory usage: 3.2+ MB\n"
     ]
    }
   ],
   "source": [
    "code = pd.read_excel('data/법정동코드_2022.10.14.xlsx')\n",
    "code.info()"
   ]
  },
  {
   "cell_type": "code",
   "execution_count": 274,
   "metadata": {},
   "outputs": [
    {
     "name": "stdout",
     "output_type": "stream",
     "text": [
      "<class 'pandas.core.frame.DataFrame'>\n",
      "RangeIndex: 20550 entries, 0 to 20549\n",
      "Data columns (total 9 columns):\n",
      " #   Column    Non-Null Count  Dtype  \n",
      "---  ------    --------------  -----  \n",
      " 0   법정동코드     20550 non-null  int64  \n",
      " 1   시도        20550 non-null  object \n",
      " 2   시구군       20533 non-null  object \n",
      " 3   읍면동       20240 non-null  object \n",
      " 4   리         15090 non-null  object \n",
      " 5   지역3       0 non-null      float64\n",
      " 6   폐지여부      20550 non-null  object \n",
      " 7   대기관리권역    20550 non-null  object \n",
      " 8   대기관리권역YN  20544 non-null  object \n",
      "dtypes: float64(1), int64(1), object(7)\n",
      "memory usage: 1.4+ MB\n"
     ]
    }
   ],
   "source": [
    "code2 = code[code['폐지여부'] == '존재'].reset_index(drop=True)\n",
    "code2.info()"
   ]
  },
  {
   "cell_type": "code",
   "execution_count": null,
   "metadata": {},
   "outputs": [],
   "source": []
  },
  {
   "cell_type": "code",
   "execution_count": null,
   "metadata": {},
   "outputs": [],
   "source": []
  },
  {
   "attachments": {},
   "cell_type": "markdown",
   "metadata": {},
   "source": [
    "## [로드]정기/정밀 검사 데이터 로드"
   ]
  },
  {
   "cell_type": "code",
   "execution_count": 253,
   "metadata": {},
   "outputs": [
    {
     "name": "stderr",
     "output_type": "stream",
     "text": [
      "C:\\Users\\kbjung\\AppData\\Local\\Temp\\ipykernel_15180\\1298806191.py:2: DtypeWarning: Columns (36,39,42,45,48,63) have mixed types. Specify dtype option on import or set low_memory=False.\n",
      "  per_ins = pd.read_csv('data/[정기검사]20190701_20220630.csv', index_col=0)\n"
     ]
    }
   ],
   "source": [
    "# 4m 21.8s\n",
    "per_ins = pd.read_csv('data/[정기검사]20190701_20220630.csv', index_col=0)"
   ]
  },
  {
   "cell_type": "code",
   "execution_count": 254,
   "metadata": {},
   "outputs": [
    {
     "data": {
      "text/plain": [
       "(16535477, 63)"
      ]
     },
     "execution_count": 254,
     "metadata": {},
     "output_type": "execute_result"
    }
   ],
   "source": [
    "per_ins.shape"
   ]
  },
  {
   "cell_type": "code",
   "execution_count": 255,
   "metadata": {},
   "outputs": [
    {
     "name": "stderr",
     "output_type": "stream",
     "text": [
      "C:\\Users\\kbjung\\AppData\\Local\\Temp\\ipykernel_15180\\1915627214.py:2: DtypeWarning: Columns (13,44,45,46,49,53,54,55,59,60,61,65,66,73,74) have mixed types. Specify dtype option on import or set low_memory=False.\n",
      "  per_d_ins = pd.read_csv('data/[정밀검사]20190701_20220630.csv', index_col=0)\n"
     ]
    }
   ],
   "source": [
    "# 11m 11.3s\n",
    "per_d_ins = pd.read_csv('data/[정밀검사]20190701_20220630.csv', index_col=0)"
   ]
  },
  {
   "cell_type": "code",
   "execution_count": 256,
   "metadata": {},
   "outputs": [
    {
     "data": {
      "text/plain": [
       "(22397343, 75)"
      ]
     },
     "execution_count": 256,
     "metadata": {},
     "output_type": "execute_result"
    }
   ],
   "source": [
    "per_d_ins.shape"
   ]
  },
  {
   "cell_type": "code",
   "execution_count": 281,
   "metadata": {},
   "outputs": [
    {
     "data": {
      "text/plain": [
       "Index(['검사소명', '정기검사일자', '검사종류', '검사접수번호', '통합접수번호', '차량번호', '차대번호', '차량형식번호',\n",
       "       '차명', '차종', '차량용도', '차량연식', '차량연료', '주행거리', '차량길이', '차량너비', '차량높이',\n",
       "       '엔진형식', '배기량', '엔진출력', '차량중량', '총중량', '정원', '비고', '최초등록일자', '제작일자',\n",
       "       '검사전 유효기간 만료일', '관능검사판정', '관능부적합항목', '검사방법', '무부하매연측정치1', '무부하매연허용치1',\n",
       "       '무부하매연판정1', '무부하매연측정치2', '무부하매연허용치2', '무부하매연판정2', '무부하매연측정치3',\n",
       "       '무부하매연허용치3', '무부하매연판정3', '무부하매연측정치4', '무부하매연허용치4', '무부하매연판정4',\n",
       "       '무부하매연측정치5', '무부하매연허용치5', '무부하매연판정5', '무부하매연측정치6', '무부하매연허용치6',\n",
       "       '무부하매연판정6', '이산화탄소값', '최대출력허용치', '최대출력측정값', '산소값', '공기온도', '공기압력',\n",
       "       '검사판정', '재검사기간', '검사후 갱신유효기간', '관능검사원', '배출가스검사원', '책임검사원', '검사 판정시간',\n",
       "       '자료구분코드', '파일명'],\n",
       "      dtype='object')"
      ]
     },
     "execution_count": 281,
     "metadata": {},
     "output_type": "execute_result"
    }
   ],
   "source": [
    "per_ins.columns"
   ]
  },
  {
   "cell_type": "code",
   "execution_count": 282,
   "metadata": {},
   "outputs": [
    {
     "data": {
      "text/plain": [
       "Index(['정밀검사소명', '정밀검사일자', '정밀검사종류', '정밀검사접수번호', '차량번호', '차대번호', '차량형식번호',\n",
       "       '차명', '차종', '차량용도', '차량연식', '차량연료', '주행거리', '차량길이', '차량너비', '차량높이',\n",
       "       '엔진형식', '원동기배기량', '엔진출력', '차량중량', '총중량', '정원', '비고', '최초등록일',\n",
       "       '정밀검사유효기간', '관능검사판정', '관능검사부적합내용', '정밀검사측정방법', '무부하매연측정치1', '무부하매연허용치1',\n",
       "       '무부하매연판정1', '무부하매연측정치2', '무부하매연허용치2', '무부하매연판정2', '무부하매연측정치3',\n",
       "       '무부하매연허용치3', '무부하매연판정3', '무부하매연측정치4', '무부하매연허용치4', '무부하매연판정4',\n",
       "       '무부하매연측정치5', '무부하매연허용치5', '무부하매연판정5', '무부하매연측정치6', '무부하매연허용치6',\n",
       "       '무부하매연판정6', '이산화탄소값', '최대출력허용치', '최대출력측정값', '산소값', '공기온도', '공기압력',\n",
       "       '정밀검사판정', '재검사기간', '정밀검사유효기간2', '관능검사등록자', '정밀검사등록자', '정밀검사소대표명',\n",
       "       '기타내용1', '기타내용2', '기타내용3', '기타내용4', '기타내용5', '원본대장테이블', '정밀검사시간정보',\n",
       "       '통합접수번호', '데이터생성일자', '수신파일명', '제작등록일자', '데이터구분', '삭제구분', '삭제사유1',\n",
       "       '삭제사유2', '삭제사유3', '삭제사유4'],\n",
       "      dtype='object')"
      ]
     },
     "execution_count": 282,
     "metadata": {},
     "output_type": "execute_result"
    }
   ],
   "source": [
    "per_d_ins.columns"
   ]
  },
  {
   "attachments": {},
   "cell_type": "markdown",
   "metadata": {},
   "source": [
    "### 제원정보와 정기/정밀 매칭 안되는 샘플"
   ]
  },
  {
   "cell_type": "code",
   "execution_count": 269,
   "metadata": {},
   "outputs": [
    {
     "data": {
      "text/plain": [
       "0"
      ]
     },
     "execution_count": 269,
     "metadata": {},
     "output_type": "execute_result"
    }
   ],
   "source": [
    "df4['차대번호'].isnull().sum()"
   ]
  },
  {
   "cell_type": "code",
   "execution_count": 263,
   "metadata": {},
   "outputs": [
    {
     "data": {
      "text/plain": [
       "1528557"
      ]
     },
     "execution_count": 263,
     "metadata": {},
     "output_type": "execute_result"
    }
   ],
   "source": [
    "len(df4['차대번호'].unique())"
   ]
  },
  {
   "cell_type": "code",
   "execution_count": 262,
   "metadata": {},
   "outputs": [
    {
     "data": {
      "text/plain": [
       "10328354"
      ]
     },
     "execution_count": 262,
     "metadata": {},
     "output_type": "execute_result"
    }
   ],
   "source": [
    "len(per_ins['차대번호'].unique())"
   ]
  },
  {
   "cell_type": "code",
   "execution_count": 264,
   "metadata": {},
   "outputs": [
    {
     "data": {
      "text/plain": [
       "14203268"
      ]
     },
     "execution_count": 264,
     "metadata": {},
     "output_type": "execute_result"
    }
   ],
   "source": [
    "len(per_d_ins['차대번호'].unique())"
   ]
  },
  {
   "cell_type": "code",
   "execution_count": 265,
   "metadata": {},
   "outputs": [
    {
     "data": {
      "text/plain": [
       "1528557"
      ]
     },
     "execution_count": 265,
     "metadata": {},
     "output_type": "execute_result"
    }
   ],
   "source": [
    "len(set(df4['차대번호']))"
   ]
  },
  {
   "cell_type": "code",
   "execution_count": 266,
   "metadata": {},
   "outputs": [
    {
     "data": {
      "text/plain": [
       "1047521"
      ]
     },
     "execution_count": 266,
     "metadata": {},
     "output_type": "execute_result"
    }
   ],
   "source": [
    "len(set(df4['차대번호']) - set(per_ins['차대번호']))"
   ]
  },
  {
   "cell_type": "code",
   "execution_count": 267,
   "metadata": {},
   "outputs": [
    {
     "data": {
      "text/plain": [
       "540567"
      ]
     },
     "execution_count": 267,
     "metadata": {},
     "output_type": "execute_result"
    }
   ],
   "source": [
    "len(set(df4['차대번호']) - set(per_d_ins['차대번호']))"
   ]
  },
  {
   "cell_type": "code",
   "execution_count": 268,
   "metadata": {},
   "outputs": [
    {
     "data": {
      "text/plain": [
       "323516"
      ]
     },
     "execution_count": 268,
     "metadata": {},
     "output_type": "execute_result"
    }
   ],
   "source": [
    "len( set(df4['차대번호']) - set(per_ins['차대번호']) - set(per_d_ins['차대번호']) )"
   ]
  },
  {
   "cell_type": "code",
   "execution_count": null,
   "metadata": {},
   "outputs": [],
   "source": []
  },
  {
   "cell_type": "code",
   "execution_count": null,
   "metadata": {},
   "outputs": [],
   "source": []
  },
  {
   "cell_type": "code",
   "execution_count": 283,
   "metadata": {},
   "outputs": [
    {
     "data": {
      "text/plain": [
       "(1528557, 65)"
      ]
     },
     "execution_count": 283,
     "metadata": {},
     "output_type": "execute_result"
    }
   ],
   "source": [
    "df6.shape"
   ]
  },
  {
   "cell_type": "code",
   "execution_count": 417,
   "metadata": {},
   "outputs": [],
   "source": [
    "gas_col1 = ['차대번호', '검사방법', \n",
    "            '무부하매연측정치1', '무부하매연허용치1', '무부하매연판정1', \n",
    "            '무부하매연측정치2', '무부하매연허용치2', '무부하매연판정2', \n",
    "            '무부하매연측정치3', '무부하매연허용치3', '무부하매연판정3', \n",
    "            '무부하매연측정치4', '무부하매연허용치4', '무부하매연판정4',\n",
    "            '무부하매연측정치5', '무부하매연허용치5', '무부하매연판정5',\n",
    "            '무부하매연측정치6', '무부하매연허용치6', '무부하매연판정6']\n",
    "gas_col2 = ['차대번호', '정밀검사측정방법', \n",
    "            '무부하매연측정치1', '무부하매연허용치1', '무부하매연판정1', \n",
    "            '무부하매연측정치2', '무부하매연허용치2', '무부하매연판정2', \n",
    "            '무부하매연측정치3', '무부하매연허용치3', '무부하매연판정3', \n",
    "            '무부하매연측정치4', '무부하매연허용치4', '무부하매연판정4', \n",
    "            '무부하매연측정치5', '무부하매연허용치5', '무부하매연판정5', \n",
    "            '무부하매연측정치6', '무부하매연허용치6', '무부하매연판정6']"
   ]
  },
  {
   "cell_type": "code",
   "execution_count": 418,
   "metadata": {},
   "outputs": [
    {
     "data": {
      "text/plain": [
       "(2232455, 84)"
      ]
     },
     "execution_count": 418,
     "metadata": {},
     "output_type": "execute_result"
    }
   ],
   "source": [
    "# 53.2s\n",
    "tdf1 = df6.merge(per_ins[gas_col1], on='차대번호', how='left')\n",
    "tdf1.shape"
   ]
  },
  {
   "cell_type": "code",
   "execution_count": 419,
   "metadata": {},
   "outputs": [
    {
     "data": {
      "text/plain": [
       "(3739980, 103)"
      ]
     },
     "execution_count": 419,
     "metadata": {},
     "output_type": "execute_result"
    }
   ],
   "source": [
    "# 1m 5.6s\n",
    "tdf2 = tdf1.merge(per_d_ins[gas_col2], on='차대번호', how='left')\n",
    "tdf2.shape"
   ]
  },
  {
   "cell_type": "code",
   "execution_count": 658,
   "metadata": {},
   "outputs": [],
   "source": [
    "# 2m 38.2s\n",
    "tdf2.to_csv('data/[통합]제원정보_정기_정밀20190701_20220630.csv')"
   ]
  },
  {
   "attachments": {},
   "cell_type": "markdown",
   "metadata": {},
   "source": [
    "# [로드] [통합]제원정보_정기_정밀20190701_20220630.csv"
   ]
  },
  {
   "cell_type": "code",
   "execution_count": 87,
   "metadata": {},
   "outputs": [
    {
     "name": "stderr",
     "output_type": "stream",
     "text": [
      "C:\\Users\\kbjung\\AppData\\Local\\Temp\\ipykernel_15180\\937433460.py:1: DtypeWarning: Columns (72,75,78,81,84,103) have mixed types. Specify dtype option on import or set low_memory=False.\n",
      "  tdf2 = pd.read_csv('data/[통합]제원정보_정기_정밀20190701_20220630.csv', index_col=0, usecols=['차대번호', '배출가스인증번호', '검사방법',\n"
     ]
    }
   ],
   "source": [
    "tdf2 = pd.read_csv('data/[통합]제원정보_정기_정밀20190701_20220630.csv', index_col=0, usecols=['차대번호', '배출가스인증번호', '검사방법', \n",
    "           '무부하매연측정치1_x', '무부하매연허용치1_x', '무부하매연판정1_x',\n",
    "           '무부하매연측정치2_x', '무부하매연허용치2_x', '무부하매연판정2_x',\n",
    "           '무부하매연측정치3_x', '무부하매연허용치3_x', '무부하매연판정3_x', \n",
    "           '무부하매연측정치4_x', '무부하매연허용치4_x', '무부하매연판정4_x', \n",
    "           '무부하매연측정치5_x', '무부하매연허용치5_x', '무부하매연판정5_x',\n",
    "           '무부하매연측정치6_x', '무부하매연허용치6_x', '무부하매연판정6_x',\n",
    "           '정밀검사측정방법',\n",
    "           '무부하매연측정치1_y', '무부하매연허용치1_y', '무부하매연판정1_y', \n",
    "           '무부하매연측정치2_y', '무부하매연허용치2_y', '무부하매연판정2_y', \n",
    "           '무부하매연측정치3_y', '무부하매연허용치3_y', '무부하매연판정3_y',\n",
    "           '무부하매연측정치4_y', '무부하매연허용치4_y', '무부하매연판정4_y',\n",
    "           '무부하매연측정치5_y', '무부하매연허용치5_y', '무부하매연판정5_y', \n",
    "           '무부하매연측정치6_y', '무부하매연허용치6_y', '무부하매연판정6_y',\n",
    "           '배출가스인증번호_코드'\n",
    "           ])"
   ]
  },
  {
   "cell_type": "code",
   "execution_count": 88,
   "metadata": {},
   "outputs": [
    {
     "data": {
      "text/plain": [
       "(3739980, 40)"
      ]
     },
     "execution_count": 88,
     "metadata": {},
     "output_type": "execute_result"
    }
   ],
   "source": [
    "tdf2.shape"
   ]
  },
  {
   "cell_type": "code",
   "execution_count": 15,
   "metadata": {},
   "outputs": [
    {
     "data": {
      "text/plain": [
       "Index(['배출가스인증번호', '검사방법', '무부하매연측정치1_x', '무부하매연허용치1_x', '무부하매연판정1_x',\n",
       "       '무부하매연측정치2_x', '무부하매연허용치2_x', '무부하매연판정2_x', '무부하매연측정치3_x',\n",
       "       '무부하매연허용치3_x', '무부하매연판정3_x', '무부하매연측정치4_x', '무부하매연허용치4_x', '무부하매연판정4_x',\n",
       "       '무부하매연측정치5_x', '무부하매연허용치5_x', '무부하매연판정5_x', '무부하매연측정치6_x',\n",
       "       '무부하매연허용치6_x', '무부하매연판정6_x', '정밀검사측정방법', '무부하매연측정치1_y', '무부하매연허용치1_y',\n",
       "       '무부하매연판정1_y', '무부하매연측정치2_y', '무부하매연허용치2_y', '무부하매연판정2_y', '무부하매연측정치3_y',\n",
       "       '무부하매연허용치3_y', '무부하매연판정3_y', '무부하매연측정치4_y', '무부하매연허용치4_y', '무부하매연판정4_y',\n",
       "       '무부하매연측정치5_y', '무부하매연허용치5_y', '무부하매연판정5_y', '무부하매연측정치6_y',\n",
       "       '무부하매연허용치6_y', '무부하매연판정6_y'],\n",
       "      dtype='object')"
      ]
     },
     "execution_count": 15,
     "metadata": {},
     "output_type": "execute_result"
    }
   ],
   "source": [
    "tdf2.columns"
   ]
  },
  {
   "cell_type": "code",
   "execution_count": 5,
   "metadata": {},
   "outputs": [
    {
     "data": {
      "text/plain": [
       "Index(['Unnamed: 0', '차량관리번호', '차량등록번호', '본거지법정동코드', '소유자구분', '차종_등록정보', '용도',\n",
       "       '차대번호', '최초등록일자', '차량연식', '차량제작일자', '검사유효일', '제원관리번호', '배출가스인증번호',\n",
       "       '배출가스등급', '저공해조치종류', '저공해조치구조변경YN', '취득일자', '취득금액', '차명', '차종_제원정보',\n",
       "       '차종분류', '차종유형', '자동차형식', '제작사명', '연료', '엔진형식', '총중량', '적재중량', '엔진출력',\n",
       "       '배기량', '승차인원', '차량길이', '차량너비', '차량높이', '원산지명', '삭제YN', '제원승인일자', '구동형식',\n",
       "       '변속기종류', '차량말소YN', 'code1', '시도', '시구군', '폐지여부', '대기관리권역', '대기관리권역YN',\n",
       "       '총중량_분류', '총중량_코드', '배기량_분류'],\n",
       "      dtype='object')"
      ]
     },
     "execution_count": 5,
     "metadata": {},
     "output_type": "execute_result"
    }
   ],
   "source": [
    "tdf2.columns[:50]"
   ]
  },
  {
   "cell_type": "code",
   "execution_count": 6,
   "metadata": {},
   "outputs": [
    {
     "data": {
      "text/plain": [
       "Index(['배기량_코드', '배출가스인증번호_코드', 'wmi', 'WMI', 'MF CODE', 'Identifier',\n",
       "       'Manufacturer', 'Country', 'Vehicle Types', 'Description', '참고',\n",
       "       'VIN_length', 'IOQ', 'alpha', '차대번호_10자리', '차대번호_10자리_기준연식', '검사방법',\n",
       "       '무부하매연측정치1_x', '무부하매연허용치1_x', '무부하매연판정1_x', '무부하매연측정치2_x',\n",
       "       '무부하매연허용치2_x', '무부하매연판정2_x', '무부하매연측정치3_x', '무부하매연허용치3_x', '무부하매연판정3_x',\n",
       "       '무부하매연측정치4_x', '무부하매연허용치4_x', '무부하매연판정4_x', '무부하매연측정치5_x',\n",
       "       '무부하매연허용치5_x', '무부하매연판정5_x', '무부하매연측정치6_x', '무부하매연허용치6_x', '무부하매연판정6_x',\n",
       "       '정밀검사측정방법', '무부하매연측정치1_y', '무부하매연허용치1_y', '무부하매연판정1_y', '무부하매연측정치2_y',\n",
       "       '무부하매연허용치2_y', '무부하매연판정2_y', '무부하매연측정치3_y', '무부하매연허용치3_y', '무부하매연판정3_y',\n",
       "       '무부하매연측정치4_y', '무부하매연허용치4_y', '무부하매연판정4_y', '무부하매연측정치5_y',\n",
       "       '무부하매연허용치5_y'],\n",
       "      dtype='object')"
      ]
     },
     "execution_count": 6,
     "metadata": {},
     "output_type": "execute_result"
    }
   ],
   "source": [
    "tdf2.columns[50:100]"
   ]
  },
  {
   "cell_type": "code",
   "execution_count": 7,
   "metadata": {},
   "outputs": [
    {
     "data": {
      "text/plain": [
       "Index(['무부하매연판정5_y', '무부하매연측정치6_y', '무부하매연허용치6_y', '무부하매연판정6_y'], dtype='object')"
      ]
     },
     "execution_count": 7,
     "metadata": {},
     "output_type": "execute_result"
    }
   ],
   "source": [
    "tdf2.columns[100:]"
   ]
  },
  {
   "cell_type": "code",
   "execution_count": 8,
   "metadata": {},
   "outputs": [],
   "source": [
    "# 8     7MY-HD-14-68\n",
    "# 10    7MY-HD-24-31\n",
    "# 16    7MY-HD-14-68\n",
    "# 17    7MY-HD-14-68\n",
    "# 18    7MY-HD-14-68"
   ]
  },
  {
   "attachments": {},
   "cell_type": "markdown",
   "metadata": {},
   "source": [
    "### 정기검사 값 계산"
   ]
  },
  {
   "cell_type": "code",
   "execution_count": 89,
   "metadata": {},
   "outputs": [
    {
     "data": {
      "text/plain": [
       "array([nan, '무부하검사(급가속)', '무부하검사(TSI)', '무부하검사(정지가동)'], dtype=object)"
      ]
     },
     "execution_count": 89,
     "metadata": {},
     "output_type": "execute_result"
    }
   ],
   "source": [
    "tdf2['검사방법'].unique()"
   ]
  },
  {
   "cell_type": "code",
   "execution_count": 90,
   "metadata": {},
   "outputs": [
    {
     "data": {
      "text/plain": [
       "(3739980, 20)"
      ]
     },
     "execution_count": 90,
     "metadata": {},
     "output_type": "execute_result"
    }
   ],
   "source": [
    "gas_col = ['배출가스인증번호', '검사방법', \n",
    "           '무부하매연측정치1_x', '무부하매연허용치1_x', '무부하매연판정1_x',\n",
    "           '무부하매연측정치2_x', '무부하매연허용치2_x', '무부하매연판정2_x',\n",
    "           '무부하매연측정치3_x', '무부하매연허용치3_x', '무부하매연판정3_x', \n",
    "           '무부하매연측정치4_x', '무부하매연허용치4_x', '무부하매연판정4_x', \n",
    "           '무부하매연측정치5_x', '무부하매연허용치5_x', '무부하매연판정5_x',\n",
    "           '무부하매연측정치6_x', '무부하매연허용치6_x', '무부하매연판정6_x']\n",
    "gas_per_ins = tdf2[gas_col].copy()\n",
    "gas_per_ins.shape"
   ]
  },
  {
   "cell_type": "code",
   "execution_count": 91,
   "metadata": {},
   "outputs": [
    {
     "data": {
      "text/plain": [
       "array(['7MY-HD-14-68', '7MY-HD-24-31', '7MY-HD-24-09', '7MY-HD-24-28',\n",
       "       '7MY-KM-14-65', '6MY-SS-0M-24', '7MY-HD-13-58', '7MY-KM-14-63',\n",
       "       '7MY-HD-14-47', '7MY-HD-14-46', '7MY-DB-24-42', '8MY-KM-13-19',\n",
       "       '7MY-HD-14-57', '7MY-KM-14-64', '9MY-KM-14-41', '7MY-HD-24-30',\n",
       "       'FMY-VTK-14-1', '5MY-HD-24-59', '6MY-HD-23-55', '6MY-KM-14-61',\n",
       "       '7MY-DW-13-07', '7MY-HD-24-29', '5MY-AD-14-18', 'FMY-VTK-14-4',\n",
       "       '6MY-HD-24-12', '7MY-SY-14-48', '6MY-HD-24-100', '7MY-HD-14-45',\n",
       "       'FMY-VTK-14-2', 'FMY-VTK-14-3', 'RMY-HD-20', 'VMY-HD-30',\n",
       "       'WMY-HD-32', '5MY-AD-14-12', '9MY-HD-14-21', '5MY-AD-14-08',\n",
       "       '7MY-SY-14-60', '7MY-SM-14-36', '6MY-HD-14-97', '7MY-HD-24-08',\n",
       "       '6MY-KM-24-81', 'CMY-VTK-14-01', 'CMY-VTK-14-02', 'KMY-HD-03',\n",
       "       '6MY-HD-14-64', 'MMY-HD-11', '5MY-SY-23-58', '6MY-HD-14-63',\n",
       "       'SMY-KM-32', '6MY-KM-24-06', '7MY-KM-14-52', '8MY-HT-0M-24',\n",
       "       '6MY-HD-24-44', '7MY-SY-14-34', '5MY-HB-24-02', 'BMY-PPE-14-29',\n",
       "       '6MY-DW-14-18', '7MY-AD-14-04', '8MY-PA-14-3', '7MY-SY-14-24',\n",
       "       '6MY-KM-14-57', '5MY-KM-24-57', '8MY-DC-24-12', '7MY-DC-24-69',\n",
       "       'XMY-HD-47', '7MY-KM-24-32', 'AMY-PPE-14-1051', '9MY-AD-14-04',\n",
       "       '6MY-AD-13-11', '7MY-SK-24-02', 'AMY-PPE-14-654', '8MY-DC-24-15',\n",
       "       '7MY-DC-24-72', '7MY-DC-23-70', '7MY-DC-23-69', '7MY-DC-24-70',\n",
       "       '7MY-MT-24-01', '8MY-DC-23-27', 'XMY-HD-44', '8MY-SY-13-14',\n",
       "       'AMY-JL-13-9', '8MY-KM-14-29', 'AMY-PPE-14-888', '5MY-HD-24-56',\n",
       "       '6MY-HD-14-96', 'PMY-KM-20', '7MY-KM-24-33', 'AMY-PPE-24-320',\n",
       "       'AMY-PPS-14-180', 'AMY-PPE-14-800', '7MY-MT-24-02',\n",
       "       'AMY-PPE-14-924', '7MY-VTK-24-01', '8MY-KM-14-21', '7MY-VTK-24-02',\n",
       "       '8MY-DC-24-27', '6MY-PA-14-4', '9MY-PA-13-1', 'AMY-PPE-14-779',\n",
       "       'AMY-PPE-14-691', '9MY-JL-14-4', 'AMY-PPE-14-631',\n",
       "       'AMY-PPE-14-297', 'AMY-PPE-14-225', 'AMY-PPE-24-01',\n",
       "       '5MY-AD-13-06', '9MY-PPE-14-602', '9MY-PP-14-409',\n",
       "       '9MY-PPE-14-543', 'PMY-KM-19', '7MY-MK-14-04', '7MY-HK-0M-24',\n",
       "       '8MY-AD-14-03', '9MY-PP-14-W38', '5MY-PA-13-20', '8MY-AD-14-09',\n",
       "       '7MY-PA-14-1', '9MY-PP-14-333', '6MY-AD-14-10', '7MY-MK-14-07',\n",
       "       '6MY-MK-14-13', '7MY-PA-14-07', '7MY-DB-24-43', '5MY-AD-14-19',\n",
       "       '7MY-SY-14-49', '7MY-DC-24-71', '6MY-GK-14-01', '7MY-PA-14-2',\n",
       "       '5MY-AD-13-13', '7MY-AD-13-05', '7MY-AD-13-01', '7MY-HC-0M-24',\n",
       "       '8MY-HS-0M-24', '6MY-BK-13-08', '7MY-TK-0M-24', '8MY-DB-24-08',\n",
       "       '9MY-PP-24-56', '8MY-KL-0M-24', '8MY-DK-0M-24', '7MY-PA-13-11',\n",
       "       '5MY-SK-23-01', '7MY-SY-14-61', '7MY-DB-24-40', '8MY-KO-0M-24',\n",
       "       '7MY-DB-23-43', '6MY-KM-14-58', '7MY-DS-0M-24', '8MY-HK-0M-24',\n",
       "       '7MY-AD-13-06', '6MY-KM-14-59', '7MY-JJ-0M-24', '8MY-WS-0M-24',\n",
       "       '8MY-SJ-0M-24', 'TMY-KM-35', '6MY-PA-14-03', '7MY-DB-24-44',\n",
       "       '8MY-MM-0M-24', '7MY-HT-0M-24', '7MY-DK-24-04', '7MY-HS-0M-24',\n",
       "       '8MY-NK-0M-24', '7MY-SS-0M-24', '7MY-CH-0M-24', '8MY-BK-0M-24',\n",
       "       '7MY-SJ-0M-24', '8MY-FI-0M-24', '7MY-NS-0M-24', '8MY-JJ-0M-24',\n",
       "       '7MY-KJ-0M-24', 'LMY-HD-09', '8MY-HR-0M-24', '7MY-HD-23-01',\n",
       "       '8MY-DY-0M-24', '7MY-HH-0M-24', 'C135', '8MY-PP-14-1364',\n",
       "       '7MY-FI-0M-24', '6MY-MK-14-02', '7MY-PK-0M-24', '8MY-HB-0M-24',\n",
       "       '7MY-HR-0M-24', '8MY-SE-0M-24', '8MY-KM-0M-24', '7MY-BT-0M-24',\n",
       "       '7MY-SK-24-03', '7MY-JI-0M-24', '8MY-TK-0M-24', '8MY-DI-0M-24',\n",
       "       '5MY-VTK-24-01', '8MY-WY-0M-24', '8MY-SH-0M-24', '8MY-WI-0M-24',\n",
       "       '8MY-HC-0M-24', '8MY-KN-0M-24', '8MY-OT-0M-24', '8MY-BD-0M-24',\n",
       "       '8MY-JB-0M-24', '8MY-BT-0M-24', '6MY-DB-23-45', '8MY-AM-0M-24',\n",
       "       '8MY-EC-0M-24', '7MY-JW-0M-24', '7MY-SH-0M-24', '8MY-CR-0M-24',\n",
       "       '8MY-ET-0M-24', '8MY-DH-0M-24', '7MY-DR-0M-24', '8MY-BS-0M-24',\n",
       "       '7MY-KM-0M-24', '8MY-SN-0M-24', '5MY-BK-14-07', '7MY-ET-0M-24',\n",
       "       '8MY-SS-0M-24', '7MY-DB-23-40', '7MY-KL-0M-24', '7MY-HB-0M-24',\n",
       "       '8MY-FM-0M-24', '7MY-SW-0M-24', '6MY-DB-24-24', '7MY-WD-0M-24',\n",
       "       '7MY-MM-0M-24', '5MY-AD-13-07', '5MY-KM-24-64', '5MY-PA-14-20',\n",
       "       '5MY-HD-24-35', 'KMY-HD-04', 'MMY-HD-10', '5MY-PA-14-19',\n",
       "       '5MY-KM-24-17', '5MY-SY-24-48', '4MY-AD-20', '5MY-PA-14-17',\n",
       "       '4MY-DC-33', 'MMY-HD-14', '5MY-PA-14-18', '5MY-HB-24-03',\n",
       "       '4MY-PA-06', 'LMY-KM-07', 'WMY-HD-37', 'PMY-HD-17', '5MY-DC-23-06',\n",
       "       'LMY-HD-08', 'SMY-KM-30', 'KMY-HD-02', 'SMY-HD-21', 'JMY-HD-15',\n",
       "       'XMY-HD-55', 'WMY-HD-33', 'TMY-HD-23', 'SMY-KM-04', 'YKM-KM-12',\n",
       "       'XMY-HD-48', 'RMY-HD-19', 'KMY-HD-01', 'RMY-KM-25', 'RMY-KM-24',\n",
       "       'TY87-배K-02', 'VMY-HD-31', 'VMY-HD-29', 'VMY-HD-27', 'WMY-HD-34',\n",
       "       'MMY-HD-12', 'XMY-KM-47', 'NMY-JK-S-107', 'SMY-KM-27', 'WMY-KM-44',\n",
       "       'VMY-KM-42', 'WMY-HD-35', 'TMY-KM-37', 'VMY-KM-38', 'VMY-KM-40',\n",
       "       'TMY-KM-36', 'VMY-KM-39', 'SMY-KM-33', 'SMY-KM-29', 'PMY-KM-21',\n",
       "       'SMY-HD-22', 'VMY-HD-28', 'TMY-HD-26', 'PMY-KM-17', 'PMY-KM-18',\n",
       "       'TMY-KM-34', 'TY87-배K-10', '3MY-FK-08', 'KMY-HD-06', 'SMY-KM-31',\n",
       "       'TY87-배K-03', 'TMY-HD-24', 'NMY-KM-13', 'NMY-KM-12', 'PMY-HD-18',\n",
       "       'LMY-KM-11', 'PMY-KM-23', 'PMY-KM-16', 'KMY-KM-04', 'KMY-KM-05',\n",
       "       'KMY-KM-02', 'KMY-HD-05', 'MMY-KM-10', 'TY88-배K-09'], dtype=object)"
      ]
     },
     "execution_count": 91,
     "metadata": {},
     "output_type": "execute_result"
    }
   ],
   "source": [
    "uni = gas_per_ins['배출가스인증번호'].dropna().unique()\n",
    "uni"
   ]
  },
  {
   "cell_type": "code",
   "execution_count": 92,
   "metadata": {},
   "outputs": [
    {
     "data": {
      "text/plain": [
       "300"
      ]
     },
     "execution_count": 92,
     "metadata": {},
     "output_type": "execute_result"
    }
   ],
   "source": [
    "len(uni)"
   ]
  },
  {
   "cell_type": "code",
   "execution_count": 93,
   "metadata": {},
   "outputs": [],
   "source": [
    "cal_col = ['무부하매연측정치1_x', '무부하매연측정치2_x', '무부하매연측정치3_x', '무부하매연측정치4_x', '무부하매연측정치5_x', '무부하매연측정치6_x']"
   ]
  },
  {
   "cell_type": "code",
   "execution_count": 94,
   "metadata": {},
   "outputs": [
    {
     "data": {
      "text/plain": [
       "무부하매연측정치1_x    2109447\n",
       "무부하매연측정치2_x    3718889\n",
       "무부하매연측정치3_x    3718889\n",
       "무부하매연측정치4_x    3721882\n",
       "무부하매연측정치5_x    3721882\n",
       "무부하매연측정치6_x    3721882\n",
       "dtype: int64"
      ]
     },
     "execution_count": 94,
     "metadata": {},
     "output_type": "execute_result"
    }
   ],
   "source": [
    "gas_per_ins[cal_col].isnull().sum()"
   ]
  },
  {
   "cell_type": "code",
   "execution_count": 95,
   "metadata": {},
   "outputs": [
    {
     "data": {
      "text/plain": [
       "[4, 5, 6]"
      ]
     },
     "execution_count": 95,
     "metadata": {},
     "output_type": "execute_result"
    }
   ],
   "source": [
    "a = [1,2,3,4,5,6]\n",
    "a[-3:]"
   ]
  },
  {
   "cell_type": "code",
   "execution_count": 96,
   "metadata": {},
   "outputs": [],
   "source": [
    "one = 'RMY-HD-20'\n",
    "temp = gas_per_ins.loc[gas_per_ins['배출가스인증번호'] == one, cal_col].reset_index(drop=True)"
   ]
  },
  {
   "cell_type": "code",
   "execution_count": 97,
   "metadata": {},
   "outputs": [
    {
     "data": {
      "text/html": [
       "<div>\n",
       "<style scoped>\n",
       "    .dataframe tbody tr th:only-of-type {\n",
       "        vertical-align: middle;\n",
       "    }\n",
       "\n",
       "    .dataframe tbody tr th {\n",
       "        vertical-align: top;\n",
       "    }\n",
       "\n",
       "    .dataframe thead th {\n",
       "        text-align: right;\n",
       "    }\n",
       "</style>\n",
       "<table border=\"1\" class=\"dataframe\">\n",
       "  <thead>\n",
       "    <tr style=\"text-align: right;\">\n",
       "      <th></th>\n",
       "      <th>무부하매연측정치1_x</th>\n",
       "      <th>무부하매연측정치2_x</th>\n",
       "      <th>무부하매연측정치3_x</th>\n",
       "      <th>무부하매연측정치4_x</th>\n",
       "      <th>무부하매연측정치5_x</th>\n",
       "      <th>무부하매연측정치6_x</th>\n",
       "    </tr>\n",
       "  </thead>\n",
       "  <tbody>\n",
       "    <tr>\n",
       "      <th>0</th>\n",
       "      <td>0.6</td>\n",
       "      <td>166.0</td>\n",
       "      <td>1.02</td>\n",
       "      <td>0.5</td>\n",
       "      <td>101.0</td>\n",
       "      <td>1.01</td>\n",
       "    </tr>\n",
       "    <tr>\n",
       "      <th>1</th>\n",
       "      <td>NaN</td>\n",
       "      <td>NaN</td>\n",
       "      <td>NaN</td>\n",
       "      <td>NaN</td>\n",
       "      <td>NaN</td>\n",
       "      <td>NaN</td>\n",
       "    </tr>\n",
       "    <tr>\n",
       "      <th>2</th>\n",
       "      <td>NaN</td>\n",
       "      <td>NaN</td>\n",
       "      <td>NaN</td>\n",
       "      <td>NaN</td>\n",
       "      <td>NaN</td>\n",
       "      <td>NaN</td>\n",
       "    </tr>\n",
       "    <tr>\n",
       "      <th>3</th>\n",
       "      <td>NaN</td>\n",
       "      <td>NaN</td>\n",
       "      <td>NaN</td>\n",
       "      <td>NaN</td>\n",
       "      <td>NaN</td>\n",
       "      <td>NaN</td>\n",
       "    </tr>\n",
       "    <tr>\n",
       "      <th>4</th>\n",
       "      <td>NaN</td>\n",
       "      <td>NaN</td>\n",
       "      <td>NaN</td>\n",
       "      <td>NaN</td>\n",
       "      <td>NaN</td>\n",
       "      <td>NaN</td>\n",
       "    </tr>\n",
       "  </tbody>\n",
       "</table>\n",
       "</div>"
      ],
      "text/plain": [
       "   무부하매연측정치1_x  무부하매연측정치2_x  무부하매연측정치3_x  무부하매연측정치4_x  무부하매연측정치5_x  \\\n",
       "0          0.6        166.0         1.02          0.5        101.0   \n",
       "1          NaN          NaN          NaN          NaN          NaN   \n",
       "2          NaN          NaN          NaN          NaN          NaN   \n",
       "3          NaN          NaN          NaN          NaN          NaN   \n",
       "4          NaN          NaN          NaN          NaN          NaN   \n",
       "\n",
       "   무부하매연측정치6_x  \n",
       "0         1.01  \n",
       "1          NaN  \n",
       "2          NaN  \n",
       "3          NaN  \n",
       "4          NaN  "
      ]
     },
     "execution_count": 97,
     "metadata": {},
     "output_type": "execute_result"
    }
   ],
   "source": [
    "temp.head()"
   ]
  },
  {
   "cell_type": "code",
   "execution_count": 98,
   "metadata": {},
   "outputs": [
    {
     "data": {
      "text/html": [
       "<div>\n",
       "<style scoped>\n",
       "    .dataframe tbody tr th:only-of-type {\n",
       "        vertical-align: middle;\n",
       "    }\n",
       "\n",
       "    .dataframe tbody tr th {\n",
       "        vertical-align: top;\n",
       "    }\n",
       "\n",
       "    .dataframe thead th {\n",
       "        text-align: right;\n",
       "    }\n",
       "</style>\n",
       "<table border=\"1\" class=\"dataframe\">\n",
       "  <thead>\n",
       "    <tr style=\"text-align: right;\">\n",
       "      <th></th>\n",
       "      <th>무부하매연측정치1_x</th>\n",
       "      <th>무부하매연측정치2_x</th>\n",
       "      <th>무부하매연측정치3_x</th>\n",
       "      <th>무부하매연측정치4_x</th>\n",
       "      <th>무부하매연측정치5_x</th>\n",
       "      <th>무부하매연측정치6_x</th>\n",
       "    </tr>\n",
       "  </thead>\n",
       "  <tbody>\n",
       "    <tr>\n",
       "      <th>20903</th>\n",
       "      <td>NaN</td>\n",
       "      <td>NaN</td>\n",
       "      <td>NaN</td>\n",
       "      <td>NaN</td>\n",
       "      <td>NaN</td>\n",
       "      <td>NaN</td>\n",
       "    </tr>\n",
       "    <tr>\n",
       "      <th>20904</th>\n",
       "      <td>0.0</td>\n",
       "      <td>0.0</td>\n",
       "      <td>0.0</td>\n",
       "      <td>NaN</td>\n",
       "      <td>NaN</td>\n",
       "      <td>NaN</td>\n",
       "    </tr>\n",
       "    <tr>\n",
       "      <th>20905</th>\n",
       "      <td>NaN</td>\n",
       "      <td>NaN</td>\n",
       "      <td>NaN</td>\n",
       "      <td>NaN</td>\n",
       "      <td>NaN</td>\n",
       "      <td>NaN</td>\n",
       "    </tr>\n",
       "    <tr>\n",
       "      <th>20906</th>\n",
       "      <td>NaN</td>\n",
       "      <td>NaN</td>\n",
       "      <td>NaN</td>\n",
       "      <td>NaN</td>\n",
       "      <td>NaN</td>\n",
       "      <td>NaN</td>\n",
       "    </tr>\n",
       "    <tr>\n",
       "      <th>20907</th>\n",
       "      <td>NaN</td>\n",
       "      <td>NaN</td>\n",
       "      <td>NaN</td>\n",
       "      <td>NaN</td>\n",
       "      <td>NaN</td>\n",
       "      <td>NaN</td>\n",
       "    </tr>\n",
       "  </tbody>\n",
       "</table>\n",
       "</div>"
      ],
      "text/plain": [
       "       무부하매연측정치1_x  무부하매연측정치2_x  무부하매연측정치3_x  무부하매연측정치4_x  무부하매연측정치5_x  \\\n",
       "20903          NaN          NaN          NaN          NaN          NaN   \n",
       "20904          0.0          0.0          0.0          NaN          NaN   \n",
       "20905          NaN          NaN          NaN          NaN          NaN   \n",
       "20906          NaN          NaN          NaN          NaN          NaN   \n",
       "20907          NaN          NaN          NaN          NaN          NaN   \n",
       "\n",
       "       무부하매연측정치6_x  \n",
       "20903          NaN  \n",
       "20904          NaN  \n",
       "20905          NaN  \n",
       "20906          NaN  \n",
       "20907          NaN  "
      ]
     },
     "execution_count": 98,
     "metadata": {},
     "output_type": "execute_result"
    }
   ],
   "source": [
    "temp.tail()"
   ]
  },
  {
   "cell_type": "code",
   "execution_count": 99,
   "metadata": {},
   "outputs": [
    {
     "data": {
      "text/plain": [
       "0    45.021667\n",
       "1          NaN\n",
       "2          NaN\n",
       "3          NaN\n",
       "4          NaN\n",
       "dtype: float64"
      ]
     },
     "execution_count": 99,
     "metadata": {},
     "output_type": "execute_result"
    }
   ],
   "source": [
    "temp.mean(axis=1).head()"
   ]
  },
  {
   "cell_type": "code",
   "execution_count": 100,
   "metadata": {},
   "outputs": [
    {
     "data": {
      "text/html": [
       "<div>\n",
       "<style scoped>\n",
       "    .dataframe tbody tr th:only-of-type {\n",
       "        vertical-align: middle;\n",
       "    }\n",
       "\n",
       "    .dataframe tbody tr th {\n",
       "        vertical-align: top;\n",
       "    }\n",
       "\n",
       "    .dataframe thead th {\n",
       "        text-align: right;\n",
       "    }\n",
       "</style>\n",
       "<table border=\"1\" class=\"dataframe\">\n",
       "  <thead>\n",
       "    <tr style=\"text-align: right;\">\n",
       "      <th></th>\n",
       "      <th>무부하매연측정치1_x</th>\n",
       "      <th>무부하매연측정치2_x</th>\n",
       "      <th>무부하매연측정치3_x</th>\n",
       "      <th>무부하매연측정치4_x</th>\n",
       "      <th>무부하매연측정치5_x</th>\n",
       "      <th>무부하매연측정치6_x</th>\n",
       "    </tr>\n",
       "  </thead>\n",
       "  <tbody>\n",
       "    <tr>\n",
       "      <th>0</th>\n",
       "      <td>0.60</td>\n",
       "      <td>166.0</td>\n",
       "      <td>1.02</td>\n",
       "      <td>0.50</td>\n",
       "      <td>101.0</td>\n",
       "      <td>1.01</td>\n",
       "    </tr>\n",
       "    <tr>\n",
       "      <th>1</th>\n",
       "      <td>0.10</td>\n",
       "      <td>114.0</td>\n",
       "      <td>1.08</td>\n",
       "      <td>0.28</td>\n",
       "      <td>166.0</td>\n",
       "      <td>1.01</td>\n",
       "    </tr>\n",
       "    <tr>\n",
       "      <th>2</th>\n",
       "      <td>0.30</td>\n",
       "      <td>207.0</td>\n",
       "      <td>1.07</td>\n",
       "      <td>0.23</td>\n",
       "      <td>77.0</td>\n",
       "      <td>1.03</td>\n",
       "    </tr>\n",
       "    <tr>\n",
       "      <th>3</th>\n",
       "      <td>0.09</td>\n",
       "      <td>119.0</td>\n",
       "      <td>1.32</td>\n",
       "      <td>0.21</td>\n",
       "      <td>81.0</td>\n",
       "      <td>1.05</td>\n",
       "    </tr>\n",
       "    <tr>\n",
       "      <th>4</th>\n",
       "      <td>0.00</td>\n",
       "      <td>93.0</td>\n",
       "      <td>1.03</td>\n",
       "      <td>0.04</td>\n",
       "      <td>57.0</td>\n",
       "      <td>1.00</td>\n",
       "    </tr>\n",
       "  </tbody>\n",
       "</table>\n",
       "</div>"
      ],
      "text/plain": [
       "   무부하매연측정치1_x  무부하매연측정치2_x  무부하매연측정치3_x  무부하매연측정치4_x  무부하매연측정치5_x  \\\n",
       "0         0.60        166.0         1.02         0.50        101.0   \n",
       "1         0.10        114.0         1.08         0.28        166.0   \n",
       "2         0.30        207.0         1.07         0.23         77.0   \n",
       "3         0.09        119.0         1.32         0.21         81.0   \n",
       "4         0.00         93.0         1.03         0.04         57.0   \n",
       "\n",
       "   무부하매연측정치6_x  \n",
       "0         1.01  \n",
       "1         1.01  \n",
       "2         1.03  \n",
       "3         1.05  \n",
       "4         1.00  "
      ]
     },
     "execution_count": 100,
     "metadata": {},
     "output_type": "execute_result"
    }
   ],
   "source": [
    "temp = temp.dropna(subset=['무부하매연측정치1_x']).reset_index(drop=True)\n",
    "temp.head()"
   ]
  },
  {
   "cell_type": "code",
   "execution_count": 101,
   "metadata": {},
   "outputs": [
    {
     "data": {
      "text/plain": [
       "(2152, 6)"
      ]
     },
     "execution_count": 101,
     "metadata": {},
     "output_type": "execute_result"
    }
   ],
   "source": [
    "temp.shape"
   ]
  },
  {
   "cell_type": "code",
   "execution_count": 102,
   "metadata": {},
   "outputs": [
    {
     "data": {
      "text/html": [
       "<div>\n",
       "<style scoped>\n",
       "    .dataframe tbody tr th:only-of-type {\n",
       "        vertical-align: middle;\n",
       "    }\n",
       "\n",
       "    .dataframe tbody tr th {\n",
       "        vertical-align: top;\n",
       "    }\n",
       "\n",
       "    .dataframe thead th {\n",
       "        text-align: right;\n",
       "    }\n",
       "</style>\n",
       "<table border=\"1\" class=\"dataframe\">\n",
       "  <thead>\n",
       "    <tr style=\"text-align: right;\">\n",
       "      <th></th>\n",
       "      <th>무부하매연측정치1_x</th>\n",
       "      <th>무부하매연측정치2_x</th>\n",
       "      <th>무부하매연측정치3_x</th>\n",
       "      <th>무부하매연측정치4_x</th>\n",
       "      <th>무부하매연측정치5_x</th>\n",
       "      <th>무부하매연측정치6_x</th>\n",
       "    </tr>\n",
       "  </thead>\n",
       "  <tbody>\n",
       "    <tr>\n",
       "      <th>2147</th>\n",
       "      <td>0.10</td>\n",
       "      <td>77.0</td>\n",
       "      <td>1.00</td>\n",
       "      <td>0.1</td>\n",
       "      <td>19.0</td>\n",
       "      <td>1.00</td>\n",
       "    </tr>\n",
       "    <tr>\n",
       "      <th>2148</th>\n",
       "      <td>0.60</td>\n",
       "      <td>210.0</td>\n",
       "      <td>1.03</td>\n",
       "      <td>0.5</td>\n",
       "      <td>128.0</td>\n",
       "      <td>1.01</td>\n",
       "    </tr>\n",
       "    <tr>\n",
       "      <th>2149</th>\n",
       "      <td>0.54</td>\n",
       "      <td>170.0</td>\n",
       "      <td>1.02</td>\n",
       "      <td>0.5</td>\n",
       "      <td>80.0</td>\n",
       "      <td>1.02</td>\n",
       "    </tr>\n",
       "    <tr>\n",
       "      <th>2150</th>\n",
       "      <td>0.00</td>\n",
       "      <td>1.0</td>\n",
       "      <td>1.04</td>\n",
       "      <td>0.1</td>\n",
       "      <td>5.0</td>\n",
       "      <td>1.01</td>\n",
       "    </tr>\n",
       "    <tr>\n",
       "      <th>2151</th>\n",
       "      <td>0.00</td>\n",
       "      <td>0.0</td>\n",
       "      <td>0.00</td>\n",
       "      <td>NaN</td>\n",
       "      <td>NaN</td>\n",
       "      <td>NaN</td>\n",
       "    </tr>\n",
       "  </tbody>\n",
       "</table>\n",
       "</div>"
      ],
      "text/plain": [
       "      무부하매연측정치1_x  무부하매연측정치2_x  무부하매연측정치3_x  무부하매연측정치4_x  무부하매연측정치5_x  \\\n",
       "2147         0.10         77.0         1.00          0.1         19.0   \n",
       "2148         0.60        210.0         1.03          0.5        128.0   \n",
       "2149         0.54        170.0         1.02          0.5         80.0   \n",
       "2150         0.00          1.0         1.04          0.1          5.0   \n",
       "2151         0.00          0.0         0.00          NaN          NaN   \n",
       "\n",
       "      무부하매연측정치6_x  \n",
       "2147         1.00  \n",
       "2148         1.01  \n",
       "2149         1.02  \n",
       "2150         1.01  \n",
       "2151          NaN  "
      ]
     },
     "execution_count": 102,
     "metadata": {},
     "output_type": "execute_result"
    }
   ],
   "source": [
    "temp.tail()"
   ]
  },
  {
   "cell_type": "code",
   "execution_count": 103,
   "metadata": {},
   "outputs": [
    {
     "data": {
      "text/plain": [
       "[0.6, 166.0, 1.02, 0.5, 101.0, 1.01]"
      ]
     },
     "execution_count": 103,
     "metadata": {},
     "output_type": "execute_result"
    }
   ],
   "source": [
    "temp.iloc[0].to_list()"
   ]
  },
  {
   "cell_type": "code",
   "execution_count": 104,
   "metadata": {},
   "outputs": [
    {
     "data": {
      "text/plain": [
       "[0.0, 0.0, 0.0, nan, nan, nan]"
      ]
     },
     "execution_count": 104,
     "metadata": {},
     "output_type": "execute_result"
    }
   ],
   "source": [
    "temp.iloc[2151].to_list()"
   ]
  },
  {
   "cell_type": "code",
   "execution_count": 105,
   "metadata": {},
   "outputs": [
    {
     "data": {
      "text/plain": [
       "[0.0, 0.0, 0.0]"
      ]
     },
     "execution_count": 105,
     "metadata": {},
     "output_type": "execute_result"
    }
   ],
   "source": [
    "[x for x in temp.iloc[2151].to_list() if np.isnan(x) == False]"
   ]
  },
  {
   "cell_type": "code",
   "execution_count": 106,
   "metadata": {},
   "outputs": [
    {
     "data": {
      "text/plain": [
       "0.0"
      ]
     },
     "execution_count": 106,
     "metadata": {},
     "output_type": "execute_result"
    }
   ],
   "source": [
    "np.mean([x for x in temp.iloc[2151].to_list() if np.isnan(x) == False])"
   ]
  },
  {
   "cell_type": "code",
   "execution_count": 107,
   "metadata": {},
   "outputs": [
    {
     "data": {
      "text/html": [
       "<div>\n",
       "<style scoped>\n",
       "    .dataframe tbody tr th:only-of-type {\n",
       "        vertical-align: middle;\n",
       "    }\n",
       "\n",
       "    .dataframe tbody tr th {\n",
       "        vertical-align: top;\n",
       "    }\n",
       "\n",
       "    .dataframe thead th {\n",
       "        text-align: right;\n",
       "    }\n",
       "</style>\n",
       "<table border=\"1\" class=\"dataframe\">\n",
       "  <thead>\n",
       "    <tr style=\"text-align: right;\">\n",
       "      <th></th>\n",
       "      <th>무부하매연측정치1_x</th>\n",
       "      <th>무부하매연측정치2_x</th>\n",
       "      <th>무부하매연측정치3_x</th>\n",
       "    </tr>\n",
       "  </thead>\n",
       "  <tbody>\n",
       "    <tr>\n",
       "      <th>0</th>\n",
       "      <td>0.60</td>\n",
       "      <td>166.0</td>\n",
       "      <td>1.02</td>\n",
       "    </tr>\n",
       "    <tr>\n",
       "      <th>1</th>\n",
       "      <td>0.10</td>\n",
       "      <td>114.0</td>\n",
       "      <td>1.08</td>\n",
       "    </tr>\n",
       "    <tr>\n",
       "      <th>2</th>\n",
       "      <td>0.30</td>\n",
       "      <td>207.0</td>\n",
       "      <td>1.07</td>\n",
       "    </tr>\n",
       "    <tr>\n",
       "      <th>3</th>\n",
       "      <td>0.09</td>\n",
       "      <td>119.0</td>\n",
       "      <td>1.32</td>\n",
       "    </tr>\n",
       "    <tr>\n",
       "      <th>4</th>\n",
       "      <td>0.00</td>\n",
       "      <td>93.0</td>\n",
       "      <td>1.03</td>\n",
       "    </tr>\n",
       "    <tr>\n",
       "      <th>...</th>\n",
       "      <td>...</td>\n",
       "      <td>...</td>\n",
       "      <td>...</td>\n",
       "    </tr>\n",
       "    <tr>\n",
       "      <th>2147</th>\n",
       "      <td>0.10</td>\n",
       "      <td>77.0</td>\n",
       "      <td>1.00</td>\n",
       "    </tr>\n",
       "    <tr>\n",
       "      <th>2148</th>\n",
       "      <td>0.60</td>\n",
       "      <td>210.0</td>\n",
       "      <td>1.03</td>\n",
       "    </tr>\n",
       "    <tr>\n",
       "      <th>2149</th>\n",
       "      <td>0.54</td>\n",
       "      <td>170.0</td>\n",
       "      <td>1.02</td>\n",
       "    </tr>\n",
       "    <tr>\n",
       "      <th>2150</th>\n",
       "      <td>0.00</td>\n",
       "      <td>1.0</td>\n",
       "      <td>1.04</td>\n",
       "    </tr>\n",
       "    <tr>\n",
       "      <th>2151</th>\n",
       "      <td>0.00</td>\n",
       "      <td>0.0</td>\n",
       "      <td>0.00</td>\n",
       "    </tr>\n",
       "  </tbody>\n",
       "</table>\n",
       "<p>2152 rows × 3 columns</p>\n",
       "</div>"
      ],
      "text/plain": [
       "      무부하매연측정치1_x  무부하매연측정치2_x  무부하매연측정치3_x\n",
       "0            0.60        166.0         1.02\n",
       "1            0.10        114.0         1.08\n",
       "2            0.30        207.0         1.07\n",
       "3            0.09        119.0         1.32\n",
       "4            0.00         93.0         1.03\n",
       "...           ...          ...          ...\n",
       "2147         0.10         77.0         1.00\n",
       "2148         0.60        210.0         1.03\n",
       "2149         0.54        170.0         1.02\n",
       "2150         0.00          1.0         1.04\n",
       "2151         0.00          0.0         0.00\n",
       "\n",
       "[2152 rows x 3 columns]"
      ]
     },
     "execution_count": 107,
     "metadata": {},
     "output_type": "execute_result"
    }
   ],
   "source": [
    "# 6번 제거하면 안됨\n",
    "# 다른 방식 사용해야 함\n",
    "temp = temp.dropna(axis=1)\n",
    "temp"
   ]
  },
  {
   "cell_type": "code",
   "execution_count": 108,
   "metadata": {},
   "outputs": [],
   "source": [
    "gas_yn_col = ['무부하매연판정1_x', '무부하매연판정2_x', '무부하매연판정3_x', '무부하매연판정4_x', '무부하매연판정5_x', '무부하매연판정6_x']"
   ]
  },
  {
   "cell_type": "code",
   "execution_count": 109,
   "metadata": {},
   "outputs": [
    {
     "ename": "KeyError",
     "evalue": "\"None of [Int64Index([   0,    1,    2,    3,    4,    5,    6,    7,    8,    9,\\n            ...\\n            2142, 2143, 2144, 2145, 2146, 2147, 2148, 2149, 2150, 2151],\\n           dtype='int64', name='차대번호', length=2152)] are in the [index]\"",
     "output_type": "error",
     "traceback": [
      "\u001b[1;31m---------------------------------------------------------------------------\u001b[0m",
      "\u001b[1;31mKeyError\u001b[0m                                  Traceback (most recent call last)",
      "\u001b[1;32m~\\AppData\\Local\\Temp\\ipykernel_15180\\789708646.py\u001b[0m in \u001b[0;36m<module>\u001b[1;34m\u001b[0m\n\u001b[0;32m      1\u001b[0m \u001b[0mone\u001b[0m \u001b[1;33m=\u001b[0m \u001b[1;34m'RMY-HD-20'\u001b[0m\u001b[1;33m\u001b[0m\u001b[1;33m\u001b[0m\u001b[0m\n\u001b[1;32m----> 2\u001b[1;33m \u001b[0mtemp2\u001b[0m \u001b[1;33m=\u001b[0m \u001b[0mgas_per_ins\u001b[0m\u001b[1;33m.\u001b[0m\u001b[0mloc\u001b[0m\u001b[1;33m[\u001b[0m\u001b[0mtemp\u001b[0m\u001b[1;33m.\u001b[0m\u001b[0mindex\u001b[0m\u001b[1;33m,\u001b[0m \u001b[0mgas_yn_col\u001b[0m\u001b[1;33m]\u001b[0m\u001b[1;33m\u001b[0m\u001b[1;33m\u001b[0m\u001b[0m\n\u001b[0m",
      "\u001b[1;32mc:\\ProgramData\\Anaconda3\\lib\\site-packages\\pandas\\core\\indexing.py\u001b[0m in \u001b[0;36m__getitem__\u001b[1;34m(self, key)\u001b[0m\n\u001b[0;32m    959\u001b[0m             \u001b[1;32mif\u001b[0m \u001b[0mself\u001b[0m\u001b[1;33m.\u001b[0m\u001b[0m_is_scalar_access\u001b[0m\u001b[1;33m(\u001b[0m\u001b[0mkey\u001b[0m\u001b[1;33m)\u001b[0m\u001b[1;33m:\u001b[0m\u001b[1;33m\u001b[0m\u001b[1;33m\u001b[0m\u001b[0m\n\u001b[0;32m    960\u001b[0m                 \u001b[1;32mreturn\u001b[0m \u001b[0mself\u001b[0m\u001b[1;33m.\u001b[0m\u001b[0mobj\u001b[0m\u001b[1;33m.\u001b[0m\u001b[0m_get_value\u001b[0m\u001b[1;33m(\u001b[0m\u001b[1;33m*\u001b[0m\u001b[0mkey\u001b[0m\u001b[1;33m,\u001b[0m \u001b[0mtakeable\u001b[0m\u001b[1;33m=\u001b[0m\u001b[0mself\u001b[0m\u001b[1;33m.\u001b[0m\u001b[0m_takeable\u001b[0m\u001b[1;33m)\u001b[0m\u001b[1;33m\u001b[0m\u001b[1;33m\u001b[0m\u001b[0m\n\u001b[1;32m--> 961\u001b[1;33m             \u001b[1;32mreturn\u001b[0m \u001b[0mself\u001b[0m\u001b[1;33m.\u001b[0m\u001b[0m_getitem_tuple\u001b[0m\u001b[1;33m(\u001b[0m\u001b[0mkey\u001b[0m\u001b[1;33m)\u001b[0m\u001b[1;33m\u001b[0m\u001b[1;33m\u001b[0m\u001b[0m\n\u001b[0m\u001b[0;32m    962\u001b[0m         \u001b[1;32melse\u001b[0m\u001b[1;33m:\u001b[0m\u001b[1;33m\u001b[0m\u001b[1;33m\u001b[0m\u001b[0m\n\u001b[0;32m    963\u001b[0m             \u001b[1;31m# we by definition only have the 0th axis\u001b[0m\u001b[1;33m\u001b[0m\u001b[1;33m\u001b[0m\u001b[0m\n",
      "\u001b[1;32mc:\\ProgramData\\Anaconda3\\lib\\site-packages\\pandas\\core\\indexing.py\u001b[0m in \u001b[0;36m_getitem_tuple\u001b[1;34m(self, tup)\u001b[0m\n\u001b[0;32m   1145\u001b[0m         \u001b[1;31m# ugly hack for GH #836\u001b[0m\u001b[1;33m\u001b[0m\u001b[1;33m\u001b[0m\u001b[0m\n\u001b[0;32m   1146\u001b[0m         \u001b[1;32mif\u001b[0m \u001b[0mself\u001b[0m\u001b[1;33m.\u001b[0m\u001b[0m_multi_take_opportunity\u001b[0m\u001b[1;33m(\u001b[0m\u001b[0mtup\u001b[0m\u001b[1;33m)\u001b[0m\u001b[1;33m:\u001b[0m\u001b[1;33m\u001b[0m\u001b[1;33m\u001b[0m\u001b[0m\n\u001b[1;32m-> 1147\u001b[1;33m             \u001b[1;32mreturn\u001b[0m \u001b[0mself\u001b[0m\u001b[1;33m.\u001b[0m\u001b[0m_multi_take\u001b[0m\u001b[1;33m(\u001b[0m\u001b[0mtup\u001b[0m\u001b[1;33m)\u001b[0m\u001b[1;33m\u001b[0m\u001b[1;33m\u001b[0m\u001b[0m\n\u001b[0m\u001b[0;32m   1148\u001b[0m \u001b[1;33m\u001b[0m\u001b[0m\n\u001b[0;32m   1149\u001b[0m         \u001b[1;32mreturn\u001b[0m \u001b[0mself\u001b[0m\u001b[1;33m.\u001b[0m\u001b[0m_getitem_tuple_same_dim\u001b[0m\u001b[1;33m(\u001b[0m\u001b[0mtup\u001b[0m\u001b[1;33m)\u001b[0m\u001b[1;33m\u001b[0m\u001b[1;33m\u001b[0m\u001b[0m\n",
      "\u001b[1;32mc:\\ProgramData\\Anaconda3\\lib\\site-packages\\pandas\\core\\indexing.py\u001b[0m in \u001b[0;36m_multi_take\u001b[1;34m(self, tup)\u001b[0m\n\u001b[0;32m   1096\u001b[0m         \"\"\"\n\u001b[0;32m   1097\u001b[0m         \u001b[1;31m# GH 836\u001b[0m\u001b[1;33m\u001b[0m\u001b[1;33m\u001b[0m\u001b[0m\n\u001b[1;32m-> 1098\u001b[1;33m         d = {\n\u001b[0m\u001b[0;32m   1099\u001b[0m             \u001b[0maxis\u001b[0m\u001b[1;33m:\u001b[0m \u001b[0mself\u001b[0m\u001b[1;33m.\u001b[0m\u001b[0m_get_listlike_indexer\u001b[0m\u001b[1;33m(\u001b[0m\u001b[0mkey\u001b[0m\u001b[1;33m,\u001b[0m \u001b[0maxis\u001b[0m\u001b[1;33m)\u001b[0m\u001b[1;33m\u001b[0m\u001b[1;33m\u001b[0m\u001b[0m\n\u001b[0;32m   1100\u001b[0m             \u001b[1;32mfor\u001b[0m \u001b[1;33m(\u001b[0m\u001b[0mkey\u001b[0m\u001b[1;33m,\u001b[0m \u001b[0maxis\u001b[0m\u001b[1;33m)\u001b[0m \u001b[1;32min\u001b[0m \u001b[0mzip\u001b[0m\u001b[1;33m(\u001b[0m\u001b[0mtup\u001b[0m\u001b[1;33m,\u001b[0m \u001b[0mself\u001b[0m\u001b[1;33m.\u001b[0m\u001b[0mobj\u001b[0m\u001b[1;33m.\u001b[0m\u001b[0m_AXIS_ORDERS\u001b[0m\u001b[1;33m)\u001b[0m\u001b[1;33m\u001b[0m\u001b[1;33m\u001b[0m\u001b[0m\n",
      "\u001b[1;32mc:\\ProgramData\\Anaconda3\\lib\\site-packages\\pandas\\core\\indexing.py\u001b[0m in \u001b[0;36m<dictcomp>\u001b[1;34m(.0)\u001b[0m\n\u001b[0;32m   1097\u001b[0m         \u001b[1;31m# GH 836\u001b[0m\u001b[1;33m\u001b[0m\u001b[1;33m\u001b[0m\u001b[0m\n\u001b[0;32m   1098\u001b[0m         d = {\n\u001b[1;32m-> 1099\u001b[1;33m             \u001b[0maxis\u001b[0m\u001b[1;33m:\u001b[0m \u001b[0mself\u001b[0m\u001b[1;33m.\u001b[0m\u001b[0m_get_listlike_indexer\u001b[0m\u001b[1;33m(\u001b[0m\u001b[0mkey\u001b[0m\u001b[1;33m,\u001b[0m \u001b[0maxis\u001b[0m\u001b[1;33m)\u001b[0m\u001b[1;33m\u001b[0m\u001b[1;33m\u001b[0m\u001b[0m\n\u001b[0m\u001b[0;32m   1100\u001b[0m             \u001b[1;32mfor\u001b[0m \u001b[1;33m(\u001b[0m\u001b[0mkey\u001b[0m\u001b[1;33m,\u001b[0m \u001b[0maxis\u001b[0m\u001b[1;33m)\u001b[0m \u001b[1;32min\u001b[0m \u001b[0mzip\u001b[0m\u001b[1;33m(\u001b[0m\u001b[0mtup\u001b[0m\u001b[1;33m,\u001b[0m \u001b[0mself\u001b[0m\u001b[1;33m.\u001b[0m\u001b[0mobj\u001b[0m\u001b[1;33m.\u001b[0m\u001b[0m_AXIS_ORDERS\u001b[0m\u001b[1;33m)\u001b[0m\u001b[1;33m\u001b[0m\u001b[1;33m\u001b[0m\u001b[0m\n\u001b[0;32m   1101\u001b[0m         }\n",
      "\u001b[1;32mc:\\ProgramData\\Anaconda3\\lib\\site-packages\\pandas\\core\\indexing.py\u001b[0m in \u001b[0;36m_get_listlike_indexer\u001b[1;34m(self, key, axis)\u001b[0m\n\u001b[0;32m   1328\u001b[0m         \u001b[0maxis_name\u001b[0m \u001b[1;33m=\u001b[0m \u001b[0mself\u001b[0m\u001b[1;33m.\u001b[0m\u001b[0mobj\u001b[0m\u001b[1;33m.\u001b[0m\u001b[0m_get_axis_name\u001b[0m\u001b[1;33m(\u001b[0m\u001b[0maxis\u001b[0m\u001b[1;33m)\u001b[0m\u001b[1;33m\u001b[0m\u001b[1;33m\u001b[0m\u001b[0m\n\u001b[0;32m   1329\u001b[0m \u001b[1;33m\u001b[0m\u001b[0m\n\u001b[1;32m-> 1330\u001b[1;33m         \u001b[0mkeyarr\u001b[0m\u001b[1;33m,\u001b[0m \u001b[0mindexer\u001b[0m \u001b[1;33m=\u001b[0m \u001b[0max\u001b[0m\u001b[1;33m.\u001b[0m\u001b[0m_get_indexer_strict\u001b[0m\u001b[1;33m(\u001b[0m\u001b[0mkey\u001b[0m\u001b[1;33m,\u001b[0m \u001b[0maxis_name\u001b[0m\u001b[1;33m)\u001b[0m\u001b[1;33m\u001b[0m\u001b[1;33m\u001b[0m\u001b[0m\n\u001b[0m\u001b[0;32m   1331\u001b[0m \u001b[1;33m\u001b[0m\u001b[0m\n\u001b[0;32m   1332\u001b[0m         \u001b[1;32mreturn\u001b[0m \u001b[0mkeyarr\u001b[0m\u001b[1;33m,\u001b[0m \u001b[0mindexer\u001b[0m\u001b[1;33m\u001b[0m\u001b[1;33m\u001b[0m\u001b[0m\n",
      "\u001b[1;32mc:\\ProgramData\\Anaconda3\\lib\\site-packages\\pandas\\core\\indexes\\base.py\u001b[0m in \u001b[0;36m_get_indexer_strict\u001b[1;34m(self, key, axis_name)\u001b[0m\n\u001b[0;32m   5794\u001b[0m             \u001b[0mkeyarr\u001b[0m\u001b[1;33m,\u001b[0m \u001b[0mindexer\u001b[0m\u001b[1;33m,\u001b[0m \u001b[0mnew_indexer\u001b[0m \u001b[1;33m=\u001b[0m \u001b[0mself\u001b[0m\u001b[1;33m.\u001b[0m\u001b[0m_reindex_non_unique\u001b[0m\u001b[1;33m(\u001b[0m\u001b[0mkeyarr\u001b[0m\u001b[1;33m)\u001b[0m\u001b[1;33m\u001b[0m\u001b[1;33m\u001b[0m\u001b[0m\n\u001b[0;32m   5795\u001b[0m \u001b[1;33m\u001b[0m\u001b[0m\n\u001b[1;32m-> 5796\u001b[1;33m         \u001b[0mself\u001b[0m\u001b[1;33m.\u001b[0m\u001b[0m_raise_if_missing\u001b[0m\u001b[1;33m(\u001b[0m\u001b[0mkeyarr\u001b[0m\u001b[1;33m,\u001b[0m \u001b[0mindexer\u001b[0m\u001b[1;33m,\u001b[0m \u001b[0maxis_name\u001b[0m\u001b[1;33m)\u001b[0m\u001b[1;33m\u001b[0m\u001b[1;33m\u001b[0m\u001b[0m\n\u001b[0m\u001b[0;32m   5797\u001b[0m \u001b[1;33m\u001b[0m\u001b[0m\n\u001b[0;32m   5798\u001b[0m         \u001b[0mkeyarr\u001b[0m \u001b[1;33m=\u001b[0m \u001b[0mself\u001b[0m\u001b[1;33m.\u001b[0m\u001b[0mtake\u001b[0m\u001b[1;33m(\u001b[0m\u001b[0mindexer\u001b[0m\u001b[1;33m)\u001b[0m\u001b[1;33m\u001b[0m\u001b[1;33m\u001b[0m\u001b[0m\n",
      "\u001b[1;32mc:\\ProgramData\\Anaconda3\\lib\\site-packages\\pandas\\core\\indexes\\base.py\u001b[0m in \u001b[0;36m_raise_if_missing\u001b[1;34m(self, key, indexer, axis_name)\u001b[0m\n\u001b[0;32m   5854\u001b[0m                 \u001b[1;32mif\u001b[0m \u001b[0muse_interval_msg\u001b[0m\u001b[1;33m:\u001b[0m\u001b[1;33m\u001b[0m\u001b[1;33m\u001b[0m\u001b[0m\n\u001b[0;32m   5855\u001b[0m                     \u001b[0mkey\u001b[0m \u001b[1;33m=\u001b[0m \u001b[0mlist\u001b[0m\u001b[1;33m(\u001b[0m\u001b[0mkey\u001b[0m\u001b[1;33m)\u001b[0m\u001b[1;33m\u001b[0m\u001b[1;33m\u001b[0m\u001b[0m\n\u001b[1;32m-> 5856\u001b[1;33m                 \u001b[1;32mraise\u001b[0m \u001b[0mKeyError\u001b[0m\u001b[1;33m(\u001b[0m\u001b[1;34mf\"None of [{key}] are in the [{axis_name}]\"\u001b[0m\u001b[1;33m)\u001b[0m\u001b[1;33m\u001b[0m\u001b[1;33m\u001b[0m\u001b[0m\n\u001b[0m\u001b[0;32m   5857\u001b[0m \u001b[1;33m\u001b[0m\u001b[0m\n\u001b[0;32m   5858\u001b[0m             \u001b[0mnot_found\u001b[0m \u001b[1;33m=\u001b[0m \u001b[0mlist\u001b[0m\u001b[1;33m(\u001b[0m\u001b[0mensure_index\u001b[0m\u001b[1;33m(\u001b[0m\u001b[0mkey\u001b[0m\u001b[1;33m)\u001b[0m\u001b[1;33m[\u001b[0m\u001b[0mmissing_mask\u001b[0m\u001b[1;33m.\u001b[0m\u001b[0mnonzero\u001b[0m\u001b[1;33m(\u001b[0m\u001b[1;33m)\u001b[0m\u001b[1;33m[\u001b[0m\u001b[1;36m0\u001b[0m\u001b[1;33m]\u001b[0m\u001b[1;33m]\u001b[0m\u001b[1;33m.\u001b[0m\u001b[0munique\u001b[0m\u001b[1;33m(\u001b[0m\u001b[1;33m)\u001b[0m\u001b[1;33m)\u001b[0m\u001b[1;33m\u001b[0m\u001b[1;33m\u001b[0m\u001b[0m\n",
      "\u001b[1;31mKeyError\u001b[0m: \"None of [Int64Index([   0,    1,    2,    3,    4,    5,    6,    7,    8,    9,\\n            ...\\n            2142, 2143, 2144, 2145, 2146, 2147, 2148, 2149, 2150, 2151],\\n           dtype='int64', name='차대번호', length=2152)] are in the [index]\""
     ]
    }
   ],
   "source": [
    "one = 'RMY-HD-20'\n",
    "temp2 = gas_per_ins.loc[temp.index, gas_yn_col]"
   ]
  },
  {
   "cell_type": "code",
   "execution_count": 110,
   "metadata": {},
   "outputs": [
    {
     "ename": "NameError",
     "evalue": "name 'temp2' is not defined",
     "output_type": "error",
     "traceback": [
      "\u001b[1;31m---------------------------------------------------------------------------\u001b[0m",
      "\u001b[1;31mNameError\u001b[0m                                 Traceback (most recent call last)",
      "\u001b[1;32m~\\AppData\\Local\\Temp\\ipykernel_15180\\2463883168.py\u001b[0m in \u001b[0;36m<module>\u001b[1;34m\u001b[0m\n\u001b[1;32m----> 1\u001b[1;33m \u001b[0mtemp2\u001b[0m\u001b[1;33m\u001b[0m\u001b[1;33m\u001b[0m\u001b[0m\n\u001b[0m",
      "\u001b[1;31mNameError\u001b[0m: name 'temp2' is not defined"
     ]
    }
   ],
   "source": [
    "temp2"
   ]
  },
  {
   "cell_type": "code",
   "execution_count": 39,
   "metadata": {},
   "outputs": [
    {
     "ename": "NameError",
     "evalue": "name 'temp2' is not defined",
     "output_type": "error",
     "traceback": [
      "\u001b[1;31m---------------------------------------------------------------------------\u001b[0m",
      "\u001b[1;31mNameError\u001b[0m                                 Traceback (most recent call last)",
      "\u001b[1;32m~\\AppData\\Local\\Temp\\ipykernel_15180\\2140479318.py\u001b[0m in \u001b[0;36m<module>\u001b[1;34m\u001b[0m\n\u001b[1;32m----> 1\u001b[1;33m \u001b[0mtemp2\u001b[0m\u001b[1;33m.\u001b[0m\u001b[0miloc\u001b[0m\u001b[1;33m[\u001b[0m\u001b[1;33m:\u001b[0m\u001b[1;33m,\u001b[0m \u001b[1;36m5\u001b[0m\u001b[1;33m]\u001b[0m\u001b[1;33m.\u001b[0m\u001b[0mvalue_counts\u001b[0m\u001b[1;33m(\u001b[0m\u001b[0mnormalize\u001b[0m\u001b[1;33m=\u001b[0m\u001b[1;32mTrue\u001b[0m\u001b[1;33m)\u001b[0m\u001b[1;33m\u001b[0m\u001b[1;33m\u001b[0m\u001b[0m\n\u001b[0m",
      "\u001b[1;31mNameError\u001b[0m: name 'temp2' is not defined"
     ]
    }
   ],
   "source": [
    "temp2.iloc[:, 5].value_counts(normalize=True)"
   ]
  },
  {
   "cell_type": "code",
   "execution_count": 32,
   "metadata": {},
   "outputs": [
    {
     "data": {
      "text/plain": [
       "(1,)"
      ]
     },
     "execution_count": 32,
     "metadata": {},
     "output_type": "execute_result"
    }
   ],
   "source": [
    "temp2.iloc[:, 5].value_counts(normalize=True).shape"
   ]
  },
  {
   "cell_type": "code",
   "execution_count": 33,
   "metadata": {},
   "outputs": [
    {
     "data": {
      "text/plain": [
       "1"
      ]
     },
     "execution_count": 33,
     "metadata": {},
     "output_type": "execute_result"
    }
   ],
   "source": [
    "len(temp2.iloc[:, 5].value_counts(normalize=True))"
   ]
  },
  {
   "cell_type": "code",
   "execution_count": 34,
   "metadata": {},
   "outputs": [],
   "source": [
    "uni = gas_per_ins['배출가스인증번호'].dropna().unique()"
   ]
  },
  {
   "cell_type": "code",
   "execution_count": null,
   "metadata": {},
   "outputs": [],
   "source": [
    "# # 정기검사(22분 이상 소요 중, 중단)\n",
    "# gas_no_list = []\n",
    "# gas_mean_list = []\n",
    "# gas_total_no = []\n",
    "# for one in uni:\n",
    "#     gas_value_list = []\n",
    "#     temp = gas_per_ins.loc[gas_per_ins['배출가스인증번호'] == one, cal_col]\n",
    "#     temp = temp.dropna(subset=['무부하매연측정치1_x']).reset_index(drop=True)\n",
    "#     temp2 = gas_per_ins.loc[temp.dropna(subset=['무부하매연측정치1_x']).index, gas_yn_col]\n",
    "#     if temp.shape[0] != 0:\n",
    "#         for i in range(temp.shape[0]):\n",
    "#             list1 = [x for x in temp.iloc[i].to_list() if np.isnan(x) == False]\n",
    "#             if len(list1) == 1:\n",
    "#                 v = list1[0]\n",
    "#                 vc = temp2.iloc[:, 0].value_counts(normalize=True)\n",
    "#                 if vc.shape[0] == 1:\n",
    "#                     yn = 0\n",
    "#                 elif vc.shape[0] == 0:\n",
    "#                     yn = -99\n",
    "#                 else:\n",
    "#                     yn = vc[-1]\n",
    "#             elif len(list1) == 0:\n",
    "#                 v = 0\n",
    "#                 yn = -99\n",
    "#             else:\n",
    "#                 v = np.mean(list1[-3:])\n",
    "#                 vc = temp2.iloc[:, 5].value_counts(normalize=True)\n",
    "#                 if vc.shape[0] == 1:\n",
    "#                     yn = 0\n",
    "#                 elif vc.shape[0] == 0:\n",
    "#                     yn = -99\n",
    "#                 else:\n",
    "#                     yn = vc[-1]\n",
    "#             gas_value_list.append(v)\n",
    "#         m = np.mean(gas_value_list)\n",
    "#         n_no = 100 - yn\n",
    "#         gas_no = 100 - m*4\n",
    "#         total = gas_no*0.7 + n_no*0.3\n",
    "#     else:\n",
    "#         m = -99\n",
    "#         total = -99\n",
    "\n",
    "#     gas_mean_list.append(m)\n",
    "#     gas_no_list.append(one)\n",
    "#     gas_total_no.append(total)"
   ]
  },
  {
   "cell_type": "code",
   "execution_count": null,
   "metadata": {},
   "outputs": [],
   "source": [
    "# len(gas_mean_list), len(gas_no_list), len(gas_total_no)"
   ]
  },
  {
   "cell_type": "code",
   "execution_count": null,
   "metadata": {},
   "outputs": [],
   "source": [
    "# gas_total_df = pd.DataFrame({'배출가스인증번호':gas_no_list, 'total':gas_total_no})\n",
    "# gas_total_df.head()"
   ]
  },
  {
   "cell_type": "code",
   "execution_count": null,
   "metadata": {},
   "outputs": [],
   "source": []
  },
  {
   "cell_type": "code",
   "execution_count": null,
   "metadata": {},
   "outputs": [],
   "source": []
  },
  {
   "cell_type": "code",
   "execution_count": null,
   "metadata": {},
   "outputs": [],
   "source": []
  },
  {
   "cell_type": "code",
   "execution_count": 308,
   "metadata": {},
   "outputs": [],
   "source": [
    "# gas_col = ['배출가스인증번호', '검사방법', '무부하매연측정치1_x', '무부하매연허용치1_x', '무부하매연판정1_x', '정밀검사측정방법', '무부하매연측정치1_y', '무부하매연허용치1_y', '무부하매연판정1_y']\n",
    "# one = '7MY-HD-14-68'\n",
    "# temp = tdf2.loc[tdf2['배출가스인증번호'] == one, gas_col]"
   ]
  },
  {
   "cell_type": "code",
   "execution_count": 309,
   "metadata": {},
   "outputs": [],
   "source": [
    "# m = temp['무부하매연측정치1_x'].mean()\n",
    "# gas_no = 100 - m * 4"
   ]
  },
  {
   "cell_type": "code",
   "execution_count": 319,
   "metadata": {},
   "outputs": [
    {
     "data": {
      "text/plain": [
       "(8.827202050798407, 64.69119179680638)"
      ]
     },
     "execution_count": 319,
     "metadata": {},
     "output_type": "execute_result"
    }
   ],
   "source": [
    "# m, gas_no"
   ]
  },
  {
   "cell_type": "code",
   "execution_count": 313,
   "metadata": {},
   "outputs": [
    {
     "data": {
      "text/plain": [
       "Y    0.956003\n",
       "N    0.043997\n",
       "Name: 무부하매연판정1_x, dtype: float64"
      ]
     },
     "execution_count": 313,
     "metadata": {},
     "output_type": "execute_result"
    }
   ],
   "source": [
    "# temp['무부하매연판정1_x'].value_counts(normalize=True)"
   ]
  },
  {
   "cell_type": "code",
   "execution_count": 326,
   "metadata": {},
   "outputs": [
    {
     "data": {
      "text/plain": [
       "Y    1.0\n",
       "Name: 무부하매연판정1_x, dtype: float64"
      ]
     },
     "execution_count": 326,
     "metadata": {},
     "output_type": "execute_result"
    }
   ],
   "source": [
    "# temp['무부하매연판정1_x'].value_counts(normalize=True)"
   ]
  },
  {
   "cell_type": "code",
   "execution_count": 325,
   "metadata": {},
   "outputs": [
    {
     "data": {
      "text/plain": [
       "1"
      ]
     },
     "execution_count": 325,
     "metadata": {},
     "output_type": "execute_result"
    }
   ],
   "source": [
    "# len(temp['무부하매연판정1_x'].value_counts(normalize=True))"
   ]
  },
  {
   "cell_type": "code",
   "execution_count": 323,
   "metadata": {},
   "outputs": [
    {
     "data": {
      "text/plain": [
       "1.0"
      ]
     },
     "execution_count": 323,
     "metadata": {},
     "output_type": "execute_result"
    }
   ],
   "source": [
    "# temp['무부하매연판정1_x'].value_counts(normalize=True)[-1]"
   ]
  },
  {
   "cell_type": "code",
   "execution_count": 315,
   "metadata": {},
   "outputs": [],
   "source": [
    "# yn = temp['무부하매연판정1_x'].value_counts(normalize=True)[1]"
   ]
  },
  {
   "cell_type": "code",
   "execution_count": 316,
   "metadata": {},
   "outputs": [],
   "source": [
    "# n_no = 100 - yn\n",
    "# total = gas_no*0.7 + n_no*0.3"
   ]
  },
  {
   "cell_type": "code",
   "execution_count": 317,
   "metadata": {},
   "outputs": [
    {
     "data": {
      "text/plain": [
       "{'배출가스인증번호': '7MY-HD-14-68', 'total': 75.2706351401033}"
      ]
     },
     "execution_count": 317,
     "metadata": {},
     "output_type": "execute_result"
    }
   ],
   "source": [
    "# dic = {'배출가스인증번호':one, 'total':total}\n",
    "# dic"
   ]
  },
  {
   "cell_type": "code",
   "execution_count": 111,
   "metadata": {},
   "outputs": [],
   "source": [
    "gas_col = ['배출가스인증번호', '검사방법', '무부하매연측정치1_x', '무부하매연허용치1_x', '무부하매연판정1_x', '정밀검사측정방법', '무부하매연측정치1_y', '무부하매연허용치1_y', '무부하매연판정1_y']"
   ]
  },
  {
   "cell_type": "code",
   "execution_count": 112,
   "metadata": {},
   "outputs": [],
   "source": [
    "uni = gas_per_ins['배출가스인증번호'].dropna().unique()"
   ]
  },
  {
   "cell_type": "code",
   "execution_count": 113,
   "metadata": {},
   "outputs": [],
   "source": [
    "# 정밀검사\n",
    "# 약 1m 12s\n",
    "gas_no_list = []\n",
    "gas_total_no = []\n",
    "for one in uni:\n",
    "    temp = tdf2.loc[tdf2['배출가스인증번호'] == one, gas_col]\n",
    "    if temp['무부하매연측정치1_x'].isnull().sum() != 0:\n",
    "        m = temp['무부하매연측정치1_x'].mean()\n",
    "        gas_no = 100 - m * 4\n",
    "    else:\n",
    "        m = -99\n",
    "        gas_no = -99\n",
    "    if temp['무부하매연판정1_x'].isnull().sum() != 0:\n",
    "        if len(temp['무부하매연판정1_x'].value_counts(normalize=True)) != 1:\n",
    "            try:\n",
    "                yn = temp['무부하매연판정1_x'].value_counts(normalize=True)[1]\n",
    "                n_no = 100 - yn\n",
    "                total = gas_no*0.7 + n_no*0.3\n",
    "            except:\n",
    "                total = -99\n",
    "        else:\n",
    "            n_no = 100\n",
    "            total = gas_no*0.7 + n_no*0.3     \n",
    "    else:\n",
    "        total = -99\n",
    "\n",
    "    gas_no_list.append(one)\n",
    "    gas_total_no.append(total)"
   ]
  },
  {
   "cell_type": "code",
   "execution_count": 114,
   "metadata": {},
   "outputs": [
    {
     "data": {
      "text/plain": [
       "(300, 300)"
      ]
     },
     "execution_count": 114,
     "metadata": {},
     "output_type": "execute_result"
    }
   ],
   "source": [
    "len(gas_no_list), len(gas_total_no)"
   ]
  },
  {
   "cell_type": "code",
   "execution_count": 115,
   "metadata": {},
   "outputs": [
    {
     "data": {
      "text/html": [
       "<div>\n",
       "<style scoped>\n",
       "    .dataframe tbody tr th:only-of-type {\n",
       "        vertical-align: middle;\n",
       "    }\n",
       "\n",
       "    .dataframe tbody tr th {\n",
       "        vertical-align: top;\n",
       "    }\n",
       "\n",
       "    .dataframe thead th {\n",
       "        text-align: right;\n",
       "    }\n",
       "</style>\n",
       "<table border=\"1\" class=\"dataframe\">\n",
       "  <thead>\n",
       "    <tr style=\"text-align: right;\">\n",
       "      <th></th>\n",
       "      <th>배출가스인증번호</th>\n",
       "      <th>total</th>\n",
       "    </tr>\n",
       "  </thead>\n",
       "  <tbody>\n",
       "    <tr>\n",
       "      <th>0</th>\n",
       "      <td>7MY-HD-14-68</td>\n",
       "      <td>75.270635</td>\n",
       "    </tr>\n",
       "    <tr>\n",
       "      <th>1</th>\n",
       "      <td>7MY-HD-24-31</td>\n",
       "      <td>94.255826</td>\n",
       "    </tr>\n",
       "    <tr>\n",
       "      <th>2</th>\n",
       "      <td>7MY-HD-24-09</td>\n",
       "      <td>70.937156</td>\n",
       "    </tr>\n",
       "    <tr>\n",
       "      <th>3</th>\n",
       "      <td>7MY-HD-24-28</td>\n",
       "      <td>85.341147</td>\n",
       "    </tr>\n",
       "    <tr>\n",
       "      <th>4</th>\n",
       "      <td>7MY-KM-14-65</td>\n",
       "      <td>68.027911</td>\n",
       "    </tr>\n",
       "  </tbody>\n",
       "</table>\n",
       "</div>"
      ],
      "text/plain": [
       "       배출가스인증번호      total\n",
       "0  7MY-HD-14-68  75.270635\n",
       "1  7MY-HD-24-31  94.255826\n",
       "2  7MY-HD-24-09  70.937156\n",
       "3  7MY-HD-24-28  85.341147\n",
       "4  7MY-KM-14-65  68.027911"
      ]
     },
     "execution_count": 115,
     "metadata": {},
     "output_type": "execute_result"
    }
   ],
   "source": [
    "gas_total_df = pd.DataFrame({'배출가스인증번호':gas_no_list, 'total':gas_total_no})\n",
    "gas_total_df.head()"
   ]
  },
  {
   "cell_type": "code",
   "execution_count": 116,
   "metadata": {},
   "outputs": [
    {
     "data": {
      "text/html": [
       "<div>\n",
       "<style scoped>\n",
       "    .dataframe tbody tr th:only-of-type {\n",
       "        vertical-align: middle;\n",
       "    }\n",
       "\n",
       "    .dataframe tbody tr th {\n",
       "        vertical-align: top;\n",
       "    }\n",
       "\n",
       "    .dataframe thead th {\n",
       "        text-align: right;\n",
       "    }\n",
       "</style>\n",
       "<table border=\"1\" class=\"dataframe\">\n",
       "  <thead>\n",
       "    <tr style=\"text-align: right;\">\n",
       "      <th></th>\n",
       "      <th>배출가스인증번호</th>\n",
       "      <th>total</th>\n",
       "    </tr>\n",
       "  </thead>\n",
       "  <tbody>\n",
       "    <tr>\n",
       "      <th>295</th>\n",
       "      <td>KMY-KM-05</td>\n",
       "      <td>-99.00</td>\n",
       "    </tr>\n",
       "    <tr>\n",
       "      <th>296</th>\n",
       "      <td>KMY-KM-02</td>\n",
       "      <td>100.00</td>\n",
       "    </tr>\n",
       "    <tr>\n",
       "      <th>297</th>\n",
       "      <td>KMY-HD-05</td>\n",
       "      <td>-99.00</td>\n",
       "    </tr>\n",
       "    <tr>\n",
       "      <th>298</th>\n",
       "      <td>MMY-KM-10</td>\n",
       "      <td>-99.00</td>\n",
       "    </tr>\n",
       "    <tr>\n",
       "      <th>299</th>\n",
       "      <td>TY88-배K-09</td>\n",
       "      <td>98.32</td>\n",
       "    </tr>\n",
       "  </tbody>\n",
       "</table>\n",
       "</div>"
      ],
      "text/plain": [
       "       배출가스인증번호   total\n",
       "295   KMY-KM-05  -99.00\n",
       "296   KMY-KM-02  100.00\n",
       "297   KMY-HD-05  -99.00\n",
       "298   MMY-KM-10  -99.00\n",
       "299  TY88-배K-09   98.32"
      ]
     },
     "execution_count": 116,
     "metadata": {},
     "output_type": "execute_result"
    }
   ],
   "source": [
    "gas_total_df.tail()"
   ]
  },
  {
   "cell_type": "code",
   "execution_count": 117,
   "metadata": {},
   "outputs": [
    {
     "data": {
      "text/html": [
       "<div>\n",
       "<style scoped>\n",
       "    .dataframe tbody tr th:only-of-type {\n",
       "        vertical-align: middle;\n",
       "    }\n",
       "\n",
       "    .dataframe tbody tr th {\n",
       "        vertical-align: top;\n",
       "    }\n",
       "\n",
       "    .dataframe thead th {\n",
       "        text-align: right;\n",
       "    }\n",
       "</style>\n",
       "<table border=\"1\" class=\"dataframe\">\n",
       "  <thead>\n",
       "    <tr style=\"text-align: right;\">\n",
       "      <th></th>\n",
       "      <th>배출가스인증번호</th>\n",
       "      <th>total</th>\n",
       "    </tr>\n",
       "  </thead>\n",
       "  <tbody>\n",
       "    <tr>\n",
       "      <th>41</th>\n",
       "      <td>CMY-VTK-14-01</td>\n",
       "      <td>-99.0</td>\n",
       "    </tr>\n",
       "    <tr>\n",
       "      <th>55</th>\n",
       "      <td>BMY-PPE-14-29</td>\n",
       "      <td>-99.0</td>\n",
       "    </tr>\n",
       "    <tr>\n",
       "      <th>70</th>\n",
       "      <td>AMY-PPE-14-654</td>\n",
       "      <td>-99.0</td>\n",
       "    </tr>\n",
       "    <tr>\n",
       "      <th>82</th>\n",
       "      <td>AMY-PPE-14-888</td>\n",
       "      <td>-99.0</td>\n",
       "    </tr>\n",
       "    <tr>\n",
       "      <th>86</th>\n",
       "      <td>7MY-KM-24-33</td>\n",
       "      <td>-99.0</td>\n",
       "    </tr>\n",
       "    <tr>\n",
       "      <th>...</th>\n",
       "      <td>...</td>\n",
       "      <td>...</td>\n",
       "    </tr>\n",
       "    <tr>\n",
       "      <th>293</th>\n",
       "      <td>PMY-KM-16</td>\n",
       "      <td>-99.0</td>\n",
       "    </tr>\n",
       "    <tr>\n",
       "      <th>294</th>\n",
       "      <td>KMY-KM-04</td>\n",
       "      <td>-99.0</td>\n",
       "    </tr>\n",
       "    <tr>\n",
       "      <th>295</th>\n",
       "      <td>KMY-KM-05</td>\n",
       "      <td>-99.0</td>\n",
       "    </tr>\n",
       "    <tr>\n",
       "      <th>297</th>\n",
       "      <td>KMY-HD-05</td>\n",
       "      <td>-99.0</td>\n",
       "    </tr>\n",
       "    <tr>\n",
       "      <th>298</th>\n",
       "      <td>MMY-KM-10</td>\n",
       "      <td>-99.0</td>\n",
       "    </tr>\n",
       "  </tbody>\n",
       "</table>\n",
       "<p>61 rows × 2 columns</p>\n",
       "</div>"
      ],
      "text/plain": [
       "           배출가스인증번호  total\n",
       "41    CMY-VTK-14-01  -99.0\n",
       "55    BMY-PPE-14-29  -99.0\n",
       "70   AMY-PPE-14-654  -99.0\n",
       "82   AMY-PPE-14-888  -99.0\n",
       "86     7MY-KM-24-33  -99.0\n",
       "..              ...    ...\n",
       "293       PMY-KM-16  -99.0\n",
       "294       KMY-KM-04  -99.0\n",
       "295       KMY-KM-05  -99.0\n",
       "297       KMY-HD-05  -99.0\n",
       "298       MMY-KM-10  -99.0\n",
       "\n",
       "[61 rows x 2 columns]"
      ]
     },
     "execution_count": 117,
     "metadata": {},
     "output_type": "execute_result"
    }
   ],
   "source": [
    "gas_total_df[gas_total_df['total'] == -99]"
   ]
  },
  {
   "cell_type": "code",
   "execution_count": 118,
   "metadata": {},
   "outputs": [
    {
     "data": {
      "text/plain": [
       "(61, 2)"
      ]
     },
     "execution_count": 118,
     "metadata": {},
     "output_type": "execute_result"
    }
   ],
   "source": [
    "gas_total_df[gas_total_df['total'] == -99].shape"
   ]
  },
  {
   "cell_type": "code",
   "execution_count": 119,
   "metadata": {},
   "outputs": [
    {
     "data": {
      "text/plain": [
       "['배출가스인증번호',\n",
       " '검사방법',\n",
       " '무부하매연측정치1_x',\n",
       " '무부하매연허용치1_x',\n",
       " '무부하매연판정1_x',\n",
       " '정밀검사측정방법',\n",
       " '무부하매연측정치1_y',\n",
       " '무부하매연허용치1_y',\n",
       " '무부하매연판정1_y']"
      ]
     },
     "execution_count": 119,
     "metadata": {},
     "output_type": "execute_result"
    }
   ],
   "source": [
    "gas_col"
   ]
  },
  {
   "cell_type": "code",
   "execution_count": 120,
   "metadata": {},
   "outputs": [],
   "source": [
    "# 정밀검사\n",
    "# 약 1m 14s\n",
    "gas_no_list2 = []\n",
    "gas_total_no2 = []\n",
    "for one in uni:\n",
    "    temp = tdf2.loc[tdf2['배출가스인증번호'] == one, gas_col]\n",
    "    if temp['무부하매연측정치1_y'].isnull().sum() != 0:\n",
    "        m = temp['무부하매연측정치1_y'].mean()\n",
    "        gas_no = 100 - m * 4\n",
    "    else:\n",
    "        m = -99\n",
    "        gas_no = -99\n",
    "    if temp['무부하매연판정1_y'].isnull().sum() != 0:\n",
    "        if len(temp['무부하매연판정1_y'].value_counts(normalize=True)) != 1:\n",
    "            try:\n",
    "                yn = temp['무부하매연판정1_y'].value_counts(normalize=True)[1]\n",
    "                n_no = 100 - yn\n",
    "                total = gas_no*0.7 + n_no*0.3\n",
    "            except:\n",
    "                total = -99\n",
    "        else:\n",
    "            n_no = 100\n",
    "            total = gas_no*0.7 + n_no*0.3     \n",
    "    else:\n",
    "        total = -99\n",
    "\n",
    "    gas_no_list2.append(one)\n",
    "    gas_total_no2.append(total)"
   ]
  },
  {
   "cell_type": "code",
   "execution_count": 121,
   "metadata": {},
   "outputs": [
    {
     "data": {
      "text/plain": [
       "(300, 300)"
      ]
     },
     "execution_count": 121,
     "metadata": {},
     "output_type": "execute_result"
    }
   ],
   "source": [
    "len(gas_no_list2), len(gas_total_no2)"
   ]
  },
  {
   "cell_type": "code",
   "execution_count": 122,
   "metadata": {},
   "outputs": [
    {
     "data": {
      "text/html": [
       "<div>\n",
       "<style scoped>\n",
       "    .dataframe tbody tr th:only-of-type {\n",
       "        vertical-align: middle;\n",
       "    }\n",
       "\n",
       "    .dataframe tbody tr th {\n",
       "        vertical-align: top;\n",
       "    }\n",
       "\n",
       "    .dataframe thead th {\n",
       "        text-align: right;\n",
       "    }\n",
       "</style>\n",
       "<table border=\"1\" class=\"dataframe\">\n",
       "  <thead>\n",
       "    <tr style=\"text-align: right;\">\n",
       "      <th></th>\n",
       "      <th>배출가스인증번호</th>\n",
       "      <th>total</th>\n",
       "    </tr>\n",
       "  </thead>\n",
       "  <tbody>\n",
       "    <tr>\n",
       "      <th>0</th>\n",
       "      <td>7MY-HD-14-68</td>\n",
       "      <td>74.004640</td>\n",
       "    </tr>\n",
       "    <tr>\n",
       "      <th>1</th>\n",
       "      <td>7MY-HD-24-31</td>\n",
       "      <td>80.843103</td>\n",
       "    </tr>\n",
       "    <tr>\n",
       "      <th>2</th>\n",
       "      <td>7MY-HD-24-09</td>\n",
       "      <td>59.467949</td>\n",
       "    </tr>\n",
       "    <tr>\n",
       "      <th>3</th>\n",
       "      <td>7MY-HD-24-28</td>\n",
       "      <td>71.745346</td>\n",
       "    </tr>\n",
       "    <tr>\n",
       "      <th>4</th>\n",
       "      <td>7MY-KM-14-65</td>\n",
       "      <td>65.183820</td>\n",
       "    </tr>\n",
       "  </tbody>\n",
       "</table>\n",
       "</div>"
      ],
      "text/plain": [
       "       배출가스인증번호      total\n",
       "0  7MY-HD-14-68  74.004640\n",
       "1  7MY-HD-24-31  80.843103\n",
       "2  7MY-HD-24-09  59.467949\n",
       "3  7MY-HD-24-28  71.745346\n",
       "4  7MY-KM-14-65  65.183820"
      ]
     },
     "execution_count": 122,
     "metadata": {},
     "output_type": "execute_result"
    }
   ],
   "source": [
    "gas_total_df2 = pd.DataFrame({'배출가스인증번호':gas_no_list2, 'total':gas_total_no2})\n",
    "gas_total_df2.head()"
   ]
  },
  {
   "cell_type": "code",
   "execution_count": 123,
   "metadata": {},
   "outputs": [
    {
     "data": {
      "text/html": [
       "<div>\n",
       "<style scoped>\n",
       "    .dataframe tbody tr th:only-of-type {\n",
       "        vertical-align: middle;\n",
       "    }\n",
       "\n",
       "    .dataframe tbody tr th {\n",
       "        vertical-align: top;\n",
       "    }\n",
       "\n",
       "    .dataframe thead th {\n",
       "        text-align: right;\n",
       "    }\n",
       "</style>\n",
       "<table border=\"1\" class=\"dataframe\">\n",
       "  <thead>\n",
       "    <tr style=\"text-align: right;\">\n",
       "      <th></th>\n",
       "      <th>배출가스인증번호</th>\n",
       "      <th>total</th>\n",
       "    </tr>\n",
       "  </thead>\n",
       "  <tbody>\n",
       "    <tr>\n",
       "      <th>295</th>\n",
       "      <td>KMY-KM-05</td>\n",
       "      <td>-99.000000</td>\n",
       "    </tr>\n",
       "    <tr>\n",
       "      <th>296</th>\n",
       "      <td>KMY-KM-02</td>\n",
       "      <td>99.552000</td>\n",
       "    </tr>\n",
       "    <tr>\n",
       "      <th>297</th>\n",
       "      <td>KMY-HD-05</td>\n",
       "      <td>-99.000000</td>\n",
       "    </tr>\n",
       "    <tr>\n",
       "      <th>298</th>\n",
       "      <td>MMY-KM-10</td>\n",
       "      <td>-99.000000</td>\n",
       "    </tr>\n",
       "    <tr>\n",
       "      <th>299</th>\n",
       "      <td>TY88-배K-09</td>\n",
       "      <td>98.310667</td>\n",
       "    </tr>\n",
       "  </tbody>\n",
       "</table>\n",
       "</div>"
      ],
      "text/plain": [
       "       배출가스인증번호      total\n",
       "295   KMY-KM-05 -99.000000\n",
       "296   KMY-KM-02  99.552000\n",
       "297   KMY-HD-05 -99.000000\n",
       "298   MMY-KM-10 -99.000000\n",
       "299  TY88-배K-09  98.310667"
      ]
     },
     "execution_count": 123,
     "metadata": {},
     "output_type": "execute_result"
    }
   ],
   "source": [
    "gas_total_df2.tail()"
   ]
  },
  {
   "cell_type": "code",
   "execution_count": 124,
   "metadata": {},
   "outputs": [
    {
     "data": {
      "text/html": [
       "<div>\n",
       "<style scoped>\n",
       "    .dataframe tbody tr th:only-of-type {\n",
       "        vertical-align: middle;\n",
       "    }\n",
       "\n",
       "    .dataframe tbody tr th {\n",
       "        vertical-align: top;\n",
       "    }\n",
       "\n",
       "    .dataframe thead th {\n",
       "        text-align: right;\n",
       "    }\n",
       "</style>\n",
       "<table border=\"1\" class=\"dataframe\">\n",
       "  <thead>\n",
       "    <tr style=\"text-align: right;\">\n",
       "      <th></th>\n",
       "      <th>배출가스인증번호</th>\n",
       "      <th>total_x</th>\n",
       "      <th>total_y</th>\n",
       "    </tr>\n",
       "  </thead>\n",
       "  <tbody>\n",
       "    <tr>\n",
       "      <th>0</th>\n",
       "      <td>7MY-HD-14-68</td>\n",
       "      <td>75.270635</td>\n",
       "      <td>74.004640</td>\n",
       "    </tr>\n",
       "    <tr>\n",
       "      <th>1</th>\n",
       "      <td>7MY-HD-24-31</td>\n",
       "      <td>94.255826</td>\n",
       "      <td>80.843103</td>\n",
       "    </tr>\n",
       "    <tr>\n",
       "      <th>2</th>\n",
       "      <td>7MY-HD-24-09</td>\n",
       "      <td>70.937156</td>\n",
       "      <td>59.467949</td>\n",
       "    </tr>\n",
       "    <tr>\n",
       "      <th>3</th>\n",
       "      <td>7MY-HD-24-28</td>\n",
       "      <td>85.341147</td>\n",
       "      <td>71.745346</td>\n",
       "    </tr>\n",
       "    <tr>\n",
       "      <th>4</th>\n",
       "      <td>7MY-KM-14-65</td>\n",
       "      <td>68.027911</td>\n",
       "      <td>65.183820</td>\n",
       "    </tr>\n",
       "  </tbody>\n",
       "</table>\n",
       "</div>"
      ],
      "text/plain": [
       "       배출가스인증번호    total_x    total_y\n",
       "0  7MY-HD-14-68  75.270635  74.004640\n",
       "1  7MY-HD-24-31  94.255826  80.843103\n",
       "2  7MY-HD-24-09  70.937156  59.467949\n",
       "3  7MY-HD-24-28  85.341147  71.745346\n",
       "4  7MY-KM-14-65  68.027911  65.183820"
      ]
     },
     "execution_count": 124,
     "metadata": {},
     "output_type": "execute_result"
    }
   ],
   "source": [
    "gas_total = gas_total_df.merge(gas_total_df2, on='배출가스인증번호')\n",
    "gas_total.head()"
   ]
  },
  {
   "cell_type": "code",
   "execution_count": 125,
   "metadata": {},
   "outputs": [],
   "source": [
    "gas_total.loc[gas_total['total_x'] == -99, 'total_x'] = np.nan\n",
    "gas_total.loc[gas_total['total_y'] == -99, 'total_y'] = np.nan"
   ]
  },
  {
   "cell_type": "code",
   "execution_count": 126,
   "metadata": {},
   "outputs": [
    {
     "data": {
      "text/html": [
       "<div>\n",
       "<style scoped>\n",
       "    .dataframe tbody tr th:only-of-type {\n",
       "        vertical-align: middle;\n",
       "    }\n",
       "\n",
       "    .dataframe tbody tr th {\n",
       "        vertical-align: top;\n",
       "    }\n",
       "\n",
       "    .dataframe thead th {\n",
       "        text-align: right;\n",
       "    }\n",
       "</style>\n",
       "<table border=\"1\" class=\"dataframe\">\n",
       "  <thead>\n",
       "    <tr style=\"text-align: right;\">\n",
       "      <th></th>\n",
       "      <th>배출가스인증번호</th>\n",
       "      <th>total_x</th>\n",
       "      <th>total_y</th>\n",
       "      <th>total_diff</th>\n",
       "    </tr>\n",
       "  </thead>\n",
       "  <tbody>\n",
       "    <tr>\n",
       "      <th>0</th>\n",
       "      <td>7MY-HD-14-68</td>\n",
       "      <td>75.270635</td>\n",
       "      <td>74.004640</td>\n",
       "      <td>1.265995</td>\n",
       "    </tr>\n",
       "    <tr>\n",
       "      <th>1</th>\n",
       "      <td>7MY-HD-24-31</td>\n",
       "      <td>94.255826</td>\n",
       "      <td>80.843103</td>\n",
       "      <td>13.412722</td>\n",
       "    </tr>\n",
       "    <tr>\n",
       "      <th>2</th>\n",
       "      <td>7MY-HD-24-09</td>\n",
       "      <td>70.937156</td>\n",
       "      <td>59.467949</td>\n",
       "      <td>11.469207</td>\n",
       "    </tr>\n",
       "    <tr>\n",
       "      <th>3</th>\n",
       "      <td>7MY-HD-24-28</td>\n",
       "      <td>85.341147</td>\n",
       "      <td>71.745346</td>\n",
       "      <td>13.595802</td>\n",
       "    </tr>\n",
       "    <tr>\n",
       "      <th>4</th>\n",
       "      <td>7MY-KM-14-65</td>\n",
       "      <td>68.027911</td>\n",
       "      <td>65.183820</td>\n",
       "      <td>2.844091</td>\n",
       "    </tr>\n",
       "  </tbody>\n",
       "</table>\n",
       "</div>"
      ],
      "text/plain": [
       "       배출가스인증번호    total_x    total_y  total_diff\n",
       "0  7MY-HD-14-68  75.270635  74.004640    1.265995\n",
       "1  7MY-HD-24-31  94.255826  80.843103   13.412722\n",
       "2  7MY-HD-24-09  70.937156  59.467949   11.469207\n",
       "3  7MY-HD-24-28  85.341147  71.745346   13.595802\n",
       "4  7MY-KM-14-65  68.027911  65.183820    2.844091"
      ]
     },
     "execution_count": 126,
     "metadata": {},
     "output_type": "execute_result"
    }
   ],
   "source": [
    "gas_total['total_diff'] = gas_total['total_x'] - gas_total['total_y']\n",
    "gas_total.head()"
   ]
  },
  {
   "cell_type": "code",
   "execution_count": 127,
   "metadata": {},
   "outputs": [
    {
     "data": {
      "text/html": [
       "<div>\n",
       "<style scoped>\n",
       "    .dataframe tbody tr th:only-of-type {\n",
       "        vertical-align: middle;\n",
       "    }\n",
       "\n",
       "    .dataframe tbody tr th {\n",
       "        vertical-align: top;\n",
       "    }\n",
       "\n",
       "    .dataframe thead th {\n",
       "        text-align: right;\n",
       "    }\n",
       "</style>\n",
       "<table border=\"1\" class=\"dataframe\">\n",
       "  <thead>\n",
       "    <tr style=\"text-align: right;\">\n",
       "      <th></th>\n",
       "      <th>배출가스인증번호</th>\n",
       "      <th>total_x</th>\n",
       "      <th>total_y</th>\n",
       "      <th>total_diff</th>\n",
       "    </tr>\n",
       "  </thead>\n",
       "  <tbody>\n",
       "    <tr>\n",
       "      <th>0</th>\n",
       "      <td>7MY-HD-14-68</td>\n",
       "      <td>75.270635</td>\n",
       "      <td>74.004640</td>\n",
       "      <td>1.265995</td>\n",
       "    </tr>\n",
       "    <tr>\n",
       "      <th>1</th>\n",
       "      <td>7MY-HD-24-31</td>\n",
       "      <td>94.255826</td>\n",
       "      <td>80.843103</td>\n",
       "      <td>13.412722</td>\n",
       "    </tr>\n",
       "    <tr>\n",
       "      <th>2</th>\n",
       "      <td>7MY-HD-24-09</td>\n",
       "      <td>70.937156</td>\n",
       "      <td>59.467949</td>\n",
       "      <td>11.469207</td>\n",
       "    </tr>\n",
       "    <tr>\n",
       "      <th>3</th>\n",
       "      <td>7MY-HD-24-28</td>\n",
       "      <td>85.341147</td>\n",
       "      <td>71.745346</td>\n",
       "      <td>13.595802</td>\n",
       "    </tr>\n",
       "    <tr>\n",
       "      <th>4</th>\n",
       "      <td>7MY-KM-14-65</td>\n",
       "      <td>68.027911</td>\n",
       "      <td>65.183820</td>\n",
       "      <td>2.844091</td>\n",
       "    </tr>\n",
       "    <tr>\n",
       "      <th>5</th>\n",
       "      <td>6MY-SS-0M-24</td>\n",
       "      <td>80.138496</td>\n",
       "      <td>75.174561</td>\n",
       "      <td>4.963934</td>\n",
       "    </tr>\n",
       "    <tr>\n",
       "      <th>6</th>\n",
       "      <td>7MY-HD-13-58</td>\n",
       "      <td>91.636014</td>\n",
       "      <td>93.580258</td>\n",
       "      <td>-1.944244</td>\n",
       "    </tr>\n",
       "    <tr>\n",
       "      <th>7</th>\n",
       "      <td>7MY-KM-14-63</td>\n",
       "      <td>70.290213</td>\n",
       "      <td>69.139125</td>\n",
       "      <td>1.151088</td>\n",
       "    </tr>\n",
       "    <tr>\n",
       "      <th>8</th>\n",
       "      <td>7MY-HD-14-47</td>\n",
       "      <td>68.069629</td>\n",
       "      <td>72.908868</td>\n",
       "      <td>-4.839239</td>\n",
       "    </tr>\n",
       "    <tr>\n",
       "      <th>9</th>\n",
       "      <td>7MY-HD-14-46</td>\n",
       "      <td>72.200863</td>\n",
       "      <td>72.841197</td>\n",
       "      <td>-0.640334</td>\n",
       "    </tr>\n",
       "    <tr>\n",
       "      <th>10</th>\n",
       "      <td>7MY-DB-24-42</td>\n",
       "      <td>89.984000</td>\n",
       "      <td>83.539521</td>\n",
       "      <td>6.444479</td>\n",
       "    </tr>\n",
       "    <tr>\n",
       "      <th>11</th>\n",
       "      <td>8MY-KM-13-19</td>\n",
       "      <td>62.134556</td>\n",
       "      <td>66.152386</td>\n",
       "      <td>-4.017830</td>\n",
       "    </tr>\n",
       "    <tr>\n",
       "      <th>12</th>\n",
       "      <td>7MY-HD-14-57</td>\n",
       "      <td>61.204945</td>\n",
       "      <td>67.061606</td>\n",
       "      <td>-5.856661</td>\n",
       "    </tr>\n",
       "    <tr>\n",
       "      <th>13</th>\n",
       "      <td>7MY-KM-14-64</td>\n",
       "      <td>69.693255</td>\n",
       "      <td>69.274448</td>\n",
       "      <td>0.418807</td>\n",
       "    </tr>\n",
       "    <tr>\n",
       "      <th>14</th>\n",
       "      <td>9MY-KM-14-41</td>\n",
       "      <td>75.995059</td>\n",
       "      <td>69.944192</td>\n",
       "      <td>6.050867</td>\n",
       "    </tr>\n",
       "    <tr>\n",
       "      <th>15</th>\n",
       "      <td>7MY-HD-24-30</td>\n",
       "      <td>87.857436</td>\n",
       "      <td>69.623665</td>\n",
       "      <td>18.233771</td>\n",
       "    </tr>\n",
       "    <tr>\n",
       "      <th>16</th>\n",
       "      <td>FMY-VTK-14-1</td>\n",
       "      <td>97.904050</td>\n",
       "      <td>97.383947</td>\n",
       "      <td>0.520103</td>\n",
       "    </tr>\n",
       "    <tr>\n",
       "      <th>17</th>\n",
       "      <td>5MY-HD-24-59</td>\n",
       "      <td>80.831712</td>\n",
       "      <td>90.302496</td>\n",
       "      <td>-9.470784</td>\n",
       "    </tr>\n",
       "    <tr>\n",
       "      <th>18</th>\n",
       "      <td>6MY-HD-23-55</td>\n",
       "      <td>87.109721</td>\n",
       "      <td>72.073019</td>\n",
       "      <td>15.036701</td>\n",
       "    </tr>\n",
       "    <tr>\n",
       "      <th>19</th>\n",
       "      <td>6MY-KM-14-61</td>\n",
       "      <td>81.068584</td>\n",
       "      <td>91.841559</td>\n",
       "      <td>-10.772976</td>\n",
       "    </tr>\n",
       "    <tr>\n",
       "      <th>20</th>\n",
       "      <td>7MY-DW-13-07</td>\n",
       "      <td>97.416193</td>\n",
       "      <td>97.829196</td>\n",
       "      <td>-0.413002</td>\n",
       "    </tr>\n",
       "    <tr>\n",
       "      <th>21</th>\n",
       "      <td>7MY-HD-24-29</td>\n",
       "      <td>94.075631</td>\n",
       "      <td>85.650113</td>\n",
       "      <td>8.425518</td>\n",
       "    </tr>\n",
       "    <tr>\n",
       "      <th>22</th>\n",
       "      <td>5MY-AD-14-18</td>\n",
       "      <td>96.461538</td>\n",
       "      <td>95.027099</td>\n",
       "      <td>1.434439</td>\n",
       "    </tr>\n",
       "    <tr>\n",
       "      <th>23</th>\n",
       "      <td>FMY-VTK-14-4</td>\n",
       "      <td>98.472727</td>\n",
       "      <td>96.196040</td>\n",
       "      <td>2.276688</td>\n",
       "    </tr>\n",
       "    <tr>\n",
       "      <th>24</th>\n",
       "      <td>6MY-HD-24-12</td>\n",
       "      <td>64.391285</td>\n",
       "      <td>53.112254</td>\n",
       "      <td>11.279031</td>\n",
       "    </tr>\n",
       "    <tr>\n",
       "      <th>25</th>\n",
       "      <td>7MY-SY-14-48</td>\n",
       "      <td>48.650806</td>\n",
       "      <td>42.268675</td>\n",
       "      <td>6.382132</td>\n",
       "    </tr>\n",
       "    <tr>\n",
       "      <th>26</th>\n",
       "      <td>6MY-HD-24-100</td>\n",
       "      <td>54.792233</td>\n",
       "      <td>57.288399</td>\n",
       "      <td>-2.496166</td>\n",
       "    </tr>\n",
       "    <tr>\n",
       "      <th>27</th>\n",
       "      <td>7MY-HD-14-45</td>\n",
       "      <td>64.384900</td>\n",
       "      <td>74.963164</td>\n",
       "      <td>-10.578264</td>\n",
       "    </tr>\n",
       "    <tr>\n",
       "      <th>28</th>\n",
       "      <td>FMY-VTK-14-2</td>\n",
       "      <td>97.715094</td>\n",
       "      <td>97.971264</td>\n",
       "      <td>-0.256170</td>\n",
       "    </tr>\n",
       "    <tr>\n",
       "      <th>29</th>\n",
       "      <td>FMY-VTK-14-3</td>\n",
       "      <td>99.114286</td>\n",
       "      <td>99.232877</td>\n",
       "      <td>-0.118591</td>\n",
       "    </tr>\n",
       "  </tbody>\n",
       "</table>\n",
       "</div>"
      ],
      "text/plain": [
       "         배출가스인증번호    total_x    total_y  total_diff\n",
       "0    7MY-HD-14-68  75.270635  74.004640    1.265995\n",
       "1    7MY-HD-24-31  94.255826  80.843103   13.412722\n",
       "2    7MY-HD-24-09  70.937156  59.467949   11.469207\n",
       "3    7MY-HD-24-28  85.341147  71.745346   13.595802\n",
       "4    7MY-KM-14-65  68.027911  65.183820    2.844091\n",
       "5    6MY-SS-0M-24  80.138496  75.174561    4.963934\n",
       "6    7MY-HD-13-58  91.636014  93.580258   -1.944244\n",
       "7    7MY-KM-14-63  70.290213  69.139125    1.151088\n",
       "8    7MY-HD-14-47  68.069629  72.908868   -4.839239\n",
       "9    7MY-HD-14-46  72.200863  72.841197   -0.640334\n",
       "10   7MY-DB-24-42  89.984000  83.539521    6.444479\n",
       "11   8MY-KM-13-19  62.134556  66.152386   -4.017830\n",
       "12   7MY-HD-14-57  61.204945  67.061606   -5.856661\n",
       "13   7MY-KM-14-64  69.693255  69.274448    0.418807\n",
       "14   9MY-KM-14-41  75.995059  69.944192    6.050867\n",
       "15   7MY-HD-24-30  87.857436  69.623665   18.233771\n",
       "16   FMY-VTK-14-1  97.904050  97.383947    0.520103\n",
       "17   5MY-HD-24-59  80.831712  90.302496   -9.470784\n",
       "18   6MY-HD-23-55  87.109721  72.073019   15.036701\n",
       "19   6MY-KM-14-61  81.068584  91.841559  -10.772976\n",
       "20   7MY-DW-13-07  97.416193  97.829196   -0.413002\n",
       "21   7MY-HD-24-29  94.075631  85.650113    8.425518\n",
       "22   5MY-AD-14-18  96.461538  95.027099    1.434439\n",
       "23   FMY-VTK-14-4  98.472727  96.196040    2.276688\n",
       "24   6MY-HD-24-12  64.391285  53.112254   11.279031\n",
       "25   7MY-SY-14-48  48.650806  42.268675    6.382132\n",
       "26  6MY-HD-24-100  54.792233  57.288399   -2.496166\n",
       "27   7MY-HD-14-45  64.384900  74.963164  -10.578264\n",
       "28   FMY-VTK-14-2  97.715094  97.971264   -0.256170\n",
       "29   FMY-VTK-14-3  99.114286  99.232877   -0.118591"
      ]
     },
     "execution_count": 127,
     "metadata": {},
     "output_type": "execute_result"
    }
   ],
   "source": [
    "gas_total.loc[gas_total['total_diff'] != 0][:30]"
   ]
  },
  {
   "cell_type": "code",
   "execution_count": 128,
   "metadata": {},
   "outputs": [
    {
     "data": {
      "text/html": [
       "<div>\n",
       "<style scoped>\n",
       "    .dataframe tbody tr th:only-of-type {\n",
       "        vertical-align: middle;\n",
       "    }\n",
       "\n",
       "    .dataframe tbody tr th {\n",
       "        vertical-align: top;\n",
       "    }\n",
       "\n",
       "    .dataframe thead th {\n",
       "        text-align: right;\n",
       "    }\n",
       "</style>\n",
       "<table border=\"1\" class=\"dataframe\">\n",
       "  <thead>\n",
       "    <tr style=\"text-align: right;\">\n",
       "      <th></th>\n",
       "      <th>배출가스인증번호</th>\n",
       "      <th>total_x</th>\n",
       "      <th>total_y</th>\n",
       "      <th>total_diff</th>\n",
       "    </tr>\n",
       "  </thead>\n",
       "  <tbody>\n",
       "    <tr>\n",
       "      <th>30</th>\n",
       "      <td>RMY-HD-20</td>\n",
       "      <td>99.047771</td>\n",
       "      <td>99.203125</td>\n",
       "      <td>-0.155353</td>\n",
       "    </tr>\n",
       "    <tr>\n",
       "      <th>31</th>\n",
       "      <td>VMY-HD-30</td>\n",
       "      <td>98.705196</td>\n",
       "      <td>99.296536</td>\n",
       "      <td>-0.591340</td>\n",
       "    </tr>\n",
       "    <tr>\n",
       "      <th>32</th>\n",
       "      <td>WMY-HD-32</td>\n",
       "      <td>99.404678</td>\n",
       "      <td>99.309852</td>\n",
       "      <td>0.094826</td>\n",
       "    </tr>\n",
       "    <tr>\n",
       "      <th>33</th>\n",
       "      <td>5MY-AD-14-12</td>\n",
       "      <td>87.386364</td>\n",
       "      <td>98.320000</td>\n",
       "      <td>-10.933636</td>\n",
       "    </tr>\n",
       "    <tr>\n",
       "      <th>34</th>\n",
       "      <td>9MY-HD-14-21</td>\n",
       "      <td>72.667981</td>\n",
       "      <td>67.736653</td>\n",
       "      <td>4.931328</td>\n",
       "    </tr>\n",
       "    <tr>\n",
       "      <th>...</th>\n",
       "      <td>...</td>\n",
       "      <td>...</td>\n",
       "      <td>...</td>\n",
       "      <td>...</td>\n",
       "    </tr>\n",
       "    <tr>\n",
       "      <th>295</th>\n",
       "      <td>KMY-KM-05</td>\n",
       "      <td>NaN</td>\n",
       "      <td>NaN</td>\n",
       "      <td>NaN</td>\n",
       "    </tr>\n",
       "    <tr>\n",
       "      <th>296</th>\n",
       "      <td>KMY-KM-02</td>\n",
       "      <td>100.000000</td>\n",
       "      <td>99.552000</td>\n",
       "      <td>0.448000</td>\n",
       "    </tr>\n",
       "    <tr>\n",
       "      <th>297</th>\n",
       "      <td>KMY-HD-05</td>\n",
       "      <td>NaN</td>\n",
       "      <td>NaN</td>\n",
       "      <td>NaN</td>\n",
       "    </tr>\n",
       "    <tr>\n",
       "      <th>298</th>\n",
       "      <td>MMY-KM-10</td>\n",
       "      <td>NaN</td>\n",
       "      <td>NaN</td>\n",
       "      <td>NaN</td>\n",
       "    </tr>\n",
       "    <tr>\n",
       "      <th>299</th>\n",
       "      <td>TY88-배K-09</td>\n",
       "      <td>98.320000</td>\n",
       "      <td>98.310667</td>\n",
       "      <td>0.009333</td>\n",
       "    </tr>\n",
       "  </tbody>\n",
       "</table>\n",
       "<p>270 rows × 4 columns</p>\n",
       "</div>"
      ],
      "text/plain": [
       "         배출가스인증번호     total_x    total_y  total_diff\n",
       "30      RMY-HD-20   99.047771  99.203125   -0.155353\n",
       "31      VMY-HD-30   98.705196  99.296536   -0.591340\n",
       "32      WMY-HD-32   99.404678  99.309852    0.094826\n",
       "33   5MY-AD-14-12   87.386364  98.320000  -10.933636\n",
       "34   9MY-HD-14-21   72.667981  67.736653    4.931328\n",
       "..            ...         ...        ...         ...\n",
       "295     KMY-KM-05         NaN        NaN         NaN\n",
       "296     KMY-KM-02  100.000000  99.552000    0.448000\n",
       "297     KMY-HD-05         NaN        NaN         NaN\n",
       "298     MMY-KM-10         NaN        NaN         NaN\n",
       "299    TY88-배K-09   98.320000  98.310667    0.009333\n",
       "\n",
       "[270 rows x 4 columns]"
      ]
     },
     "execution_count": 128,
     "metadata": {},
     "output_type": "execute_result"
    }
   ],
   "source": [
    "gas_total.loc[gas_total['total_diff'] != 0][30:]"
   ]
  },
  {
   "cell_type": "code",
   "execution_count": 129,
   "metadata": {},
   "outputs": [
    {
     "data": {
      "text/plain": [
       "배출가스인증번호       0\n",
       "total_x       61\n",
       "total_y       55\n",
       "total_diff    72\n",
       "dtype: int64"
      ]
     },
     "execution_count": 129,
     "metadata": {},
     "output_type": "execute_result"
    }
   ],
   "source": [
    "gas_total.isnull().sum()"
   ]
  },
  {
   "cell_type": "code",
   "execution_count": 130,
   "metadata": {},
   "outputs": [],
   "source": [
    "gas_total = gas_total.fillna(-1)"
   ]
  },
  {
   "cell_type": "code",
   "execution_count": 131,
   "metadata": {},
   "outputs": [
    {
     "data": {
      "text/plain": [
       "Int64Index([ 41,  55,  70,  82,  86,  87,  88,  89,  91,  98,  99, 101, 102,\n",
       "            103, 104, 106, 107, 113, 117, 136, 151, 165, 175, 178, 179, 184,\n",
       "            190, 191, 193, 195, 199, 200, 202, 203, 204, 205, 207, 208, 209,\n",
       "            211, 212, 213, 214, 215, 216, 217, 219, 220, 240, 263, 273, 276,\n",
       "            281, 284, 287, 289, 293, 294, 295, 297, 298],\n",
       "           dtype='int64')"
      ]
     },
     "execution_count": 131,
     "metadata": {},
     "output_type": "execute_result"
    }
   ],
   "source": [
    "gas_total.loc[gas_total['total_x'] == -1, 'total_x'].index"
   ]
  },
  {
   "cell_type": "code",
   "execution_count": 132,
   "metadata": {},
   "outputs": [
    {
     "data": {
      "text/plain": [
       "Int64Index([ 41,  70,  82,  87,  88,  89,  91,  98,  99, 101, 102, 103, 104,\n",
       "            106, 107, 108, 113, 114, 117, 136, 142, 143, 175, 184, 187, 188,\n",
       "            190, 191, 194, 195, 200, 201, 202, 203, 204, 205, 209, 212, 213,\n",
       "            214, 216, 219, 220, 238, 240, 259, 263, 276, 277, 284, 293, 294,\n",
       "            295, 297, 298],\n",
       "           dtype='int64')"
      ]
     },
     "execution_count": 132,
     "metadata": {},
     "output_type": "execute_result"
    }
   ],
   "source": [
    "gas_total.loc[gas_total['total_y'] == -1, 'total_y'].index"
   ]
  },
  {
   "cell_type": "code",
   "execution_count": 133,
   "metadata": {},
   "outputs": [
    {
     "data": {
      "text/plain": [
       "False"
      ]
     },
     "execution_count": 133,
     "metadata": {},
     "output_type": "execute_result"
    }
   ],
   "source": [
    "set(gas_total.loc[gas_total['total_x'] == -1, 'total_x'].index) == set(gas_total.loc[gas_total['total_y'] == -1, 'total_y'].index)"
   ]
  },
  {
   "cell_type": "code",
   "execution_count": 134,
   "metadata": {},
   "outputs": [
    {
     "data": {
      "text/plain": [
       "Index(['배출가스인증번호', 'total_x', 'total_y', 'total_diff'], dtype='object')"
      ]
     },
     "execution_count": 134,
     "metadata": {},
     "output_type": "execute_result"
    }
   ],
   "source": [
    "gas_total.columns"
   ]
  },
  {
   "cell_type": "code",
   "execution_count": 135,
   "metadata": {},
   "outputs": [
    {
     "data": {
      "text/plain": [
       "(300, 4)"
      ]
     },
     "execution_count": 135,
     "metadata": {},
     "output_type": "execute_result"
    }
   ],
   "source": [
    "gas_total.shape"
   ]
  },
  {
   "cell_type": "code",
   "execution_count": 152,
   "metadata": {},
   "outputs": [
    {
     "data": {
      "text/plain": [
       "Index(['배출가스인증번호', '배출가스인증번호_코드', '검사방법', '무부하매연측정치1_x', '무부하매연허용치1_x',\n",
       "       '무부하매연판정1_x', '무부하매연측정치2_x', '무부하매연허용치2_x', '무부하매연판정2_x', '무부하매연측정치3_x',\n",
       "       '무부하매연허용치3_x', '무부하매연판정3_x', '무부하매연측정치4_x', '무부하매연허용치4_x', '무부하매연판정4_x',\n",
       "       '무부하매연측정치5_x', '무부하매연허용치5_x', '무부하매연판정5_x', '무부하매연측정치6_x',\n",
       "       '무부하매연허용치6_x', '무부하매연판정6_x', '정밀검사측정방법', '무부하매연측정치1_y', '무부하매연허용치1_y',\n",
       "       '무부하매연판정1_y', '무부하매연측정치2_y', '무부하매연허용치2_y', '무부하매연판정2_y', '무부하매연측정치3_y',\n",
       "       '무부하매연허용치3_y', '무부하매연판정3_y', '무부하매연측정치4_y', '무부하매연허용치4_y', '무부하매연판정4_y',\n",
       "       '무부하매연측정치5_y', '무부하매연허용치5_y', '무부하매연판정5_y', '무부하매연측정치6_y',\n",
       "       '무부하매연허용치6_y', '무부하매연판정6_y'],\n",
       "      dtype='object')"
      ]
     },
     "execution_count": 152,
     "metadata": {},
     "output_type": "execute_result"
    }
   ],
   "source": [
    "tdf2.columns"
   ]
  },
  {
   "cell_type": "code",
   "execution_count": 136,
   "metadata": {},
   "outputs": [
    {
     "data": {
      "text/plain": [
       "(301, 40)"
      ]
     },
     "execution_count": 136,
     "metadata": {},
     "output_type": "execute_result"
    }
   ],
   "source": [
    "tdf3 = tdf2.drop_duplicates(['배출가스인증번호'], keep='first')\n",
    "tdf3.shape"
   ]
  },
  {
   "cell_type": "code",
   "execution_count": 153,
   "metadata": {},
   "outputs": [
    {
     "data": {
      "text/plain": [
       "Index(['배출가스인증번호', 'total_x', 'total_y', 'total_diff'], dtype='object')"
      ]
     },
     "execution_count": 153,
     "metadata": {},
     "output_type": "execute_result"
    }
   ],
   "source": [
    "gas_total.columns"
   ]
  },
  {
   "cell_type": "code",
   "execution_count": 137,
   "metadata": {},
   "outputs": [],
   "source": [
    "gas_total2 = gas_total.merge(tdf3, on='배출가스인증번호', how='left')"
   ]
  },
  {
   "cell_type": "code",
   "execution_count": 138,
   "metadata": {},
   "outputs": [
    {
     "data": {
      "text/plain": [
       "(300, 43)"
      ]
     },
     "execution_count": 138,
     "metadata": {},
     "output_type": "execute_result"
    }
   ],
   "source": [
    "gas_total2.shape"
   ]
  },
  {
   "cell_type": "code",
   "execution_count": 156,
   "metadata": {},
   "outputs": [],
   "source": [
    "gas_total2 = gas_total2.drop('배출가스인증번호_코드', axis=1)"
   ]
  },
  {
   "cell_type": "code",
   "execution_count": 160,
   "metadata": {},
   "outputs": [],
   "source": [
    "gas_total2 = gas_total[['배출가스인증번호', 'total_x', 'total_y', 'total_diff']]"
   ]
  },
  {
   "cell_type": "code",
   "execution_count": 161,
   "metadata": {},
   "outputs": [
    {
     "data": {
      "text/plain": [
       "Index(['배출가스인증번호', 'total_x', 'total_y', 'total_diff'], dtype='object')"
      ]
     },
     "execution_count": 161,
     "metadata": {},
     "output_type": "execute_result"
    }
   ],
   "source": [
    "gas_total2.columns"
   ]
  },
  {
   "cell_type": "code",
   "execution_count": 159,
   "metadata": {},
   "outputs": [
    {
     "data": {
      "text/plain": [
       "Index(['배출가스인증번호', '배출가스인증번호_코드', '검사방법', '무부하매연측정치1_x', '무부하매연허용치1_x',\n",
       "       '무부하매연판정1_x', '무부하매연측정치2_x', '무부하매연허용치2_x', '무부하매연판정2_x', '무부하매연측정치3_x',\n",
       "       '무부하매연허용치3_x', '무부하매연판정3_x', '무부하매연측정치4_x', '무부하매연허용치4_x', '무부하매연판정4_x',\n",
       "       '무부하매연측정치5_x', '무부하매연허용치5_x', '무부하매연판정5_x', '무부하매연측정치6_x',\n",
       "       '무부하매연허용치6_x', '무부하매연판정6_x', '정밀검사측정방법', '무부하매연측정치1_y', '무부하매연허용치1_y',\n",
       "       '무부하매연판정1_y', '무부하매연측정치2_y', '무부하매연허용치2_y', '무부하매연판정2_y', '무부하매연측정치3_y',\n",
       "       '무부하매연허용치3_y', '무부하매연판정3_y', '무부하매연측정치4_y', '무부하매연허용치4_y', '무부하매연판정4_y',\n",
       "       '무부하매연측정치5_y', '무부하매연허용치5_y', '무부하매연판정5_y', '무부하매연측정치6_y',\n",
       "       '무부하매연허용치6_y', '무부하매연판정6_y'],\n",
       "      dtype='object')"
      ]
     },
     "execution_count": 159,
     "metadata": {},
     "output_type": "execute_result"
    }
   ],
   "source": [
    "tdf3.columns"
   ]
  },
  {
   "cell_type": "code",
   "execution_count": 163,
   "metadata": {},
   "outputs": [
    {
     "data": {
      "text/plain": [
       "(301, 40)"
      ]
     },
     "execution_count": 163,
     "metadata": {},
     "output_type": "execute_result"
    }
   ],
   "source": [
    "tdf3.shape"
   ]
  },
  {
   "cell_type": "code",
   "execution_count": 164,
   "metadata": {},
   "outputs": [
    {
     "data": {
      "text/plain": [
       "(3739980, 43)"
      ]
     },
     "execution_count": 164,
     "metadata": {},
     "output_type": "execute_result"
    }
   ],
   "source": [
    "df7 = tdf2.merge(gas_total2, on='배출가스인증번호', how='left')\n",
    "df7.shape"
   ]
  },
  {
   "cell_type": "code",
   "execution_count": 165,
   "metadata": {},
   "outputs": [
    {
     "data": {
      "text/plain": [
       "139481"
      ]
     },
     "execution_count": 165,
     "metadata": {},
     "output_type": "execute_result"
    }
   ],
   "source": [
    "df7['total_x'].isnull().sum()"
   ]
  },
  {
   "cell_type": "code",
   "execution_count": 166,
   "metadata": {},
   "outputs": [
    {
     "data": {
      "text/html": [
       "<div>\n",
       "<style scoped>\n",
       "    .dataframe tbody tr th:only-of-type {\n",
       "        vertical-align: middle;\n",
       "    }\n",
       "\n",
       "    .dataframe tbody tr th {\n",
       "        vertical-align: top;\n",
       "    }\n",
       "\n",
       "    .dataframe thead th {\n",
       "        text-align: right;\n",
       "    }\n",
       "</style>\n",
       "<table border=\"1\" class=\"dataframe\">\n",
       "  <thead>\n",
       "    <tr style=\"text-align: right;\">\n",
       "      <th></th>\n",
       "      <th>배출가스인증번호</th>\n",
       "      <th>배출가스인증번호_코드</th>\n",
       "      <th>검사방법</th>\n",
       "      <th>무부하매연측정치1_x</th>\n",
       "      <th>무부하매연허용치1_x</th>\n",
       "      <th>무부하매연판정1_x</th>\n",
       "      <th>무부하매연측정치2_x</th>\n",
       "      <th>무부하매연허용치2_x</th>\n",
       "      <th>무부하매연판정2_x</th>\n",
       "      <th>무부하매연측정치3_x</th>\n",
       "      <th>...</th>\n",
       "      <th>무부하매연판정4_y</th>\n",
       "      <th>무부하매연측정치5_y</th>\n",
       "      <th>무부하매연허용치5_y</th>\n",
       "      <th>무부하매연판정5_y</th>\n",
       "      <th>무부하매연측정치6_y</th>\n",
       "      <th>무부하매연허용치6_y</th>\n",
       "      <th>무부하매연판정6_y</th>\n",
       "      <th>total_x</th>\n",
       "      <th>total_y</th>\n",
       "      <th>total_diff</th>\n",
       "    </tr>\n",
       "  </thead>\n",
       "  <tbody>\n",
       "  </tbody>\n",
       "</table>\n",
       "<p>0 rows × 43 columns</p>\n",
       "</div>"
      ],
      "text/plain": [
       "Empty DataFrame\n",
       "Columns: [배출가스인증번호, 배출가스인증번호_코드, 검사방법, 무부하매연측정치1_x, 무부하매연허용치1_x, 무부하매연판정1_x, 무부하매연측정치2_x, 무부하매연허용치2_x, 무부하매연판정2_x, 무부하매연측정치3_x, 무부하매연허용치3_x, 무부하매연판정3_x, 무부하매연측정치4_x, 무부하매연허용치4_x, 무부하매연판정4_x, 무부하매연측정치5_x, 무부하매연허용치5_x, 무부하매연판정5_x, 무부하매연측정치6_x, 무부하매연허용치6_x, 무부하매연판정6_x, 정밀검사측정방법, 무부하매연측정치1_y, 무부하매연허용치1_y, 무부하매연판정1_y, 무부하매연측정치2_y, 무부하매연허용치2_y, 무부하매연판정2_y, 무부하매연측정치3_y, 무부하매연허용치3_y, 무부하매연판정3_y, 무부하매연측정치4_y, 무부하매연허용치4_y, 무부하매연판정4_y, 무부하매연측정치5_y, 무부하매연허용치5_y, 무부하매연판정5_y, 무부하매연측정치6_y, 무부하매연허용치6_y, 무부하매연판정6_y, total_x, total_y, total_diff]\n",
       "Index: []\n",
       "\n",
       "[0 rows x 43 columns]"
      ]
     },
     "execution_count": 166,
     "metadata": {},
     "output_type": "execute_result"
    }
   ],
   "source": [
    "df7[df7['total_x'] == -99]"
   ]
  },
  {
   "cell_type": "code",
   "execution_count": 167,
   "metadata": {},
   "outputs": [
    {
     "data": {
      "text/plain": [
       "Index(['배출가스인증번호', '배출가스인증번호_코드', '검사방법', '무부하매연측정치1_x', '무부하매연허용치1_x',\n",
       "       '무부하매연판정1_x', '무부하매연측정치2_x', '무부하매연허용치2_x', '무부하매연판정2_x', '무부하매연측정치3_x',\n",
       "       '무부하매연허용치3_x', '무부하매연판정3_x', '무부하매연측정치4_x', '무부하매연허용치4_x', '무부하매연판정4_x',\n",
       "       '무부하매연측정치5_x', '무부하매연허용치5_x', '무부하매연판정5_x', '무부하매연측정치6_x',\n",
       "       '무부하매연허용치6_x', '무부하매연판정6_x', '정밀검사측정방법', '무부하매연측정치1_y', '무부하매연허용치1_y',\n",
       "       '무부하매연판정1_y', '무부하매연측정치2_y', '무부하매연허용치2_y', '무부하매연판정2_y', '무부하매연측정치3_y',\n",
       "       '무부하매연허용치3_y', '무부하매연판정3_y', '무부하매연측정치4_y', '무부하매연허용치4_y', '무부하매연판정4_y',\n",
       "       '무부하매연측정치5_y', '무부하매연허용치5_y', '무부하매연판정5_y', '무부하매연측정치6_y',\n",
       "       '무부하매연허용치6_y', '무부하매연판정6_y', 'total_x', 'total_y', 'total_diff'],\n",
       "      dtype='object')"
      ]
     },
     "execution_count": 167,
     "metadata": {},
     "output_type": "execute_result"
    }
   ],
   "source": [
    "df7.columns"
   ]
  },
  {
   "cell_type": "code",
   "execution_count": 168,
   "metadata": {},
   "outputs": [
    {
     "data": {
      "text/plain": [
       "0"
      ]
     },
     "execution_count": 168,
     "metadata": {},
     "output_type": "execute_result"
    }
   ],
   "source": [
    "df7['total_x'] = df7['total_x'].fillna(-1)\n",
    "df7['total_x'].isnull().sum()"
   ]
  },
  {
   "cell_type": "code",
   "execution_count": 169,
   "metadata": {},
   "outputs": [
    {
     "name": "stderr",
     "output_type": "stream",
     "text": [
      "100%|██████████| 3739980/3739980 [00:02<00:00, 1586294.40it/s]\n"
     ]
    }
   ],
   "source": [
    "grade_list = []\n",
    "for one in tqdm(df7['total_x']):\n",
    "    if 100 >= one > 75:\n",
    "        grade_list.append('A')\n",
    "    elif 75 >= one > 50:\n",
    "        grade_list.append('B')\n",
    "    elif 50 >= one > 25:\n",
    "        grade_list.append('C')\n",
    "    elif 25 >= one >= 0:\n",
    "        grade_list.append('D')\n",
    "    elif one == -1:\n",
    "        grade_list.append('miss')"
   ]
  },
  {
   "cell_type": "code",
   "execution_count": 170,
   "metadata": {},
   "outputs": [
    {
     "data": {
      "text/plain": [
       "3739980"
      ]
     },
     "execution_count": 170,
     "metadata": {},
     "output_type": "execute_result"
    }
   ],
   "source": [
    "len(grade_list)"
   ]
  },
  {
   "cell_type": "code",
   "execution_count": 171,
   "metadata": {},
   "outputs": [],
   "source": [
    "df7['Grade_x'] = grade_list"
   ]
  },
  {
   "cell_type": "code",
   "execution_count": 172,
   "metadata": {},
   "outputs": [
    {
     "data": {
      "text/plain": [
       "array([nan, 'EN088', 'EN095', 'EN091', 'EN092', 'EN110', 'EN056', 'EN083',\n",
       "       'EN108', 'EN086', 'EN085', 'EN066', 'EN172', 'EN087', 'EN109',\n",
       "       'EN195', 'EN094', 'EN221', 'EN018', 'EN042', 'EN049', 'EN078',\n",
       "       'EN093', 'EN010', 'EN224', 'EN044', 'EN133', 'EN043', 'EN084',\n",
       "       'EN222', 'EN223', 'EN257', 'EN283', 'EN289', 'EN009', 'EN193',\n",
       "       'EN008', 'EN135', 'EN128', 'EN041', 'EN090', 'EN051', 'EN219',\n",
       "       'EN220', 'EN228', 'EN039', 'EN240', 'EN028', 'EN038', 'EN267',\n",
       "       'EN050', 'EN107', 'EN167', 'EN045', 'EN132', 'EN014', 'EN217',\n",
       "       'EN036', 'EN060', 'EN180', 'EN131', 'EN046', 'EN020', 'EN151',\n",
       "       'EN071', 'EN296', 'EN111', 'EN204', 'EN192', 'EN031', 'EN126',\n",
       "       'EN208', 'EN152', 'EN074', 'EN070', 'EN069', 'EN072', 'EN116',\n",
       "       'EN150', 'EN295', 'EN187', 'EN203', 'EN174', 'EN212', 'EN017',\n",
       "       'EN040', 'EN253', 'EN112', 'EN215', 'EN216', 'EN211', 'EN117',\n",
       "       'EN213', 'EN138', 'EN173', 'EN139', 'EN153', 'EN055', 'EN196',\n",
       "       'EN210', 'EN209', 'EN194', 'EN207', 'EN206', 'EN205', 'EN214',\n",
       "       'EN005', 'EN202', 'EN198', 'EN201', 'EN252', 'EN113', 'EN097',\n",
       "       'EN141', 'EN199', 'EN022', 'EN142', 'EN121', 'EN197', 'EN032',\n",
       "       'EN114', 'EN053', 'EN120', 'EN067', 'EN011', 'EN134', 'EN073',\n",
       "       'EN037', 'EN122', 'EN007', 'EN058', 'EN057', 'EN082', 'EN166',\n",
       "       'EN033', 'EN137', 'EN149', 'EN200', 'EN170', 'EN156', 'EN119',\n",
       "       'EN027', 'EN136', 'EN065', 'EN176', 'EN064', 'EN047', 'EN077',\n",
       "       'EN164', 'EN059', 'EN048', 'EN102', 'EN190', 'EN184', 'EN273',\n",
       "       'EN054', 'EN068', 'EN177', 'EN100', 'EN075', 'EN099', 'EN178',\n",
       "       'EN129', 'EN062', 'EN145', 'EN125', 'EN160', 'EN118', 'EN169',\n",
       "       'EN104', 'EN236', 'EN165', 'EN089', 'EN157', 'EN096', 'EN218',\n",
       "       'EN181', 'EN080', 'EN052', 'EN123', 'EN162', 'EN098', 'EN182',\n",
       "       'EN171', 'EN061', 'EN127', 'EN101', 'EN188', 'EN155', 'EN030',\n",
       "       'EN191', 'EN183', 'EN189', 'EN163', 'EN175', 'EN179', 'EN144',\n",
       "       'EN168', 'EN147', 'EN034', 'EN143', 'EN158', 'EN103', 'EN124',\n",
       "       'EN148', 'EN159', 'EN154', 'EN076', 'EN146', 'EN106', 'EN185',\n",
       "       'EN012', 'EN079', 'EN186', 'EN063', 'EN105', 'EN081', 'EN161',\n",
       "       'EN130', 'EN035', 'EN140', 'EN115', 'EN006', 'EN021', 'EN026',\n",
       "       'EN016', 'EN229', 'EN239', 'EN025', 'EN019', 'EN029', 'EN002',\n",
       "       'EN023', 'EN003', 'EN242', 'EN024', 'EN015', 'EN004', 'EN237',\n",
       "       'EN293', 'EN247', 'EN013', 'EN235', 'EN265', 'EN227', 'EN260',\n",
       "       'EN225', 'EN298', 'EN290', 'EN269', 'EN262', 'EN300', 'EN297',\n",
       "       'EN256', 'EN226', 'EN259', 'EN258', 'EN276', 'EN284', 'EN282',\n",
       "       'EN280', 'EN291', 'EN241', 'EN299', 'EN244', 'EN263', 'EN294',\n",
       "       'EN288', 'EN292', 'EN275', 'EN285', 'EN287', 'EN274', 'EN286',\n",
       "       'EN268', 'EN264', 'EN254', 'EN261', 'EN281', 'EN271', 'EN250',\n",
       "       'EN251', 'EN272', 'EN278', 'EN001', 'EN231', 'EN266', 'EN277',\n",
       "       'EN270', 'EN246', 'EN245', 'EN248', 'EN238', 'EN255', 'EN249',\n",
       "       'EN233', 'EN234', 'EN232', 'EN230', 'EN243', 'EN279'], dtype=object)"
      ]
     },
     "execution_count": 172,
     "metadata": {},
     "output_type": "execute_result"
    }
   ],
   "source": [
    "df7['배출가스인증번호_코드'].unique()"
   ]
  },
  {
   "cell_type": "code",
   "execution_count": 173,
   "metadata": {},
   "outputs": [
    {
     "data": {
      "text/plain": [
       "Index(['index', '배출가스인증번호', '배출가스인증번호_코드', '검사방법', '무부하매연측정치1_x',\n",
       "       '무부하매연허용치1_x', '무부하매연판정1_x', '무부하매연측정치2_x', '무부하매연허용치2_x', '무부하매연판정2_x',\n",
       "       '무부하매연측정치3_x', '무부하매연허용치3_x', '무부하매연판정3_x', '무부하매연측정치4_x',\n",
       "       '무부하매연허용치4_x', '무부하매연판정4_x', '무부하매연측정치5_x', '무부하매연허용치5_x', '무부하매연판정5_x',\n",
       "       '무부하매연측정치6_x', '무부하매연허용치6_x', '무부하매연판정6_x', '정밀검사측정방법', '무부하매연측정치1_y',\n",
       "       '무부하매연허용치1_y', '무부하매연판정1_y', '무부하매연측정치2_y', '무부하매연허용치2_y', '무부하매연판정2_y',\n",
       "       '무부하매연측정치3_y', '무부하매연허용치3_y', '무부하매연판정3_y', '무부하매연측정치4_y',\n",
       "       '무부하매연허용치4_y', '무부하매연판정4_y', '무부하매연측정치5_y', '무부하매연허용치5_y', '무부하매연판정5_y',\n",
       "       '무부하매연측정치6_y', '무부하매연허용치6_y', '무부하매연판정6_y', 'total_x', 'total_y',\n",
       "       'total_diff', 'Grade_x'],\n",
       "      dtype='object')"
      ]
     },
     "execution_count": 173,
     "metadata": {},
     "output_type": "execute_result"
    }
   ],
   "source": [
    "df7.reset_index().columns"
   ]
  },
  {
   "cell_type": "code",
   "execution_count": 174,
   "metadata": {},
   "outputs": [
    {
     "data": {
      "text/plain": [
       "0    0\n",
       "1    1\n",
       "2    2\n",
       "3    3\n",
       "4    4\n",
       "Name: index, dtype: int64"
      ]
     },
     "execution_count": 174,
     "metadata": {},
     "output_type": "execute_result"
    }
   ],
   "source": [
    "df7.reset_index()['index'].head()"
   ]
  },
  {
   "cell_type": "code",
   "execution_count": 247,
   "metadata": {},
   "outputs": [
    {
     "data": {
      "text/plain": [
       "Grade_x\n",
       "A       2080193\n",
       "B       1500812\n",
       "C         17882\n",
       "miss       1612\n",
       "Name: 배출가스인증번호_코드, dtype: int64"
      ]
     },
     "execution_count": 247,
     "metadata": {},
     "output_type": "execute_result"
    }
   ],
   "source": [
    "df7.reset_index().groupby(['Grade_x'])['배출가스인증번호_코드'].count()"
   ]
  },
  {
   "cell_type": "code",
   "execution_count": 248,
   "metadata": {},
   "outputs": [
    {
     "data": {
      "text/plain": [
       "Grade_x\n",
       "A       191\n",
       "B        39\n",
       "C         9\n",
       "miss     61\n",
       "Name: 배출가스인증번호_코드, dtype: int64"
      ]
     },
     "execution_count": 248,
     "metadata": {},
     "output_type": "execute_result"
    }
   ],
   "source": [
    "df7.drop_duplicates(['Grade_x', '배출가스인증번호_코드'], keep='first').groupby(['Grade_x'])['배출가스인증번호_코드'].count()"
   ]
  },
  {
   "cell_type": "code",
   "execution_count": 249,
   "metadata": {},
   "outputs": [],
   "source": [
    "df7.drop_duplicates(['Grade_x', '배출가스인증번호_코드'], keep='first').groupby(['Grade_x'])['배출가스인증번호_코드'].count().to_excel('analysis/[G4][정기검사][배출가스인증번호]등급별_코드_유니크_통계.xlsx')"
   ]
  },
  {
   "cell_type": "code",
   "execution_count": null,
   "metadata": {},
   "outputs": [],
   "source": []
  },
  {
   "cell_type": "code",
   "execution_count": 177,
   "metadata": {},
   "outputs": [
    {
     "data": {
      "text/plain": [
       "array(['miss', 'A', 'B', 'C'], dtype=object)"
      ]
     },
     "execution_count": 177,
     "metadata": {},
     "output_type": "execute_result"
    }
   ],
   "source": [
    "df7['Grade_x'].unique()"
   ]
  },
  {
   "cell_type": "code",
   "execution_count": 178,
   "metadata": {},
   "outputs": [
    {
     "data": {
      "text/plain": [
       "(2080193, 44)"
      ]
     },
     "execution_count": 178,
     "metadata": {},
     "output_type": "execute_result"
    }
   ],
   "source": [
    "df7.loc[df7['Grade_x'] == 'A'].shape"
   ]
  },
  {
   "cell_type": "code",
   "execution_count": 179,
   "metadata": {},
   "outputs": [
    {
     "data": {
      "text/plain": [
       "(1500812, 44)"
      ]
     },
     "execution_count": 179,
     "metadata": {},
     "output_type": "execute_result"
    }
   ],
   "source": [
    "df7.loc[df7['Grade_x'] == 'B'].shape"
   ]
  },
  {
   "cell_type": "code",
   "execution_count": 180,
   "metadata": {},
   "outputs": [
    {
     "data": {
      "text/plain": [
       "(17882, 44)"
      ]
     },
     "execution_count": 180,
     "metadata": {},
     "output_type": "execute_result"
    }
   ],
   "source": [
    "df7.loc[df7['Grade_x'] == 'C'].shape"
   ]
  },
  {
   "cell_type": "code",
   "execution_count": 181,
   "metadata": {},
   "outputs": [
    {
     "data": {
      "text/plain": [
       "(0, 44)"
      ]
     },
     "execution_count": 181,
     "metadata": {},
     "output_type": "execute_result"
    }
   ],
   "source": [
    "df7.loc[df7['Grade_x'] == 'D'].shape"
   ]
  },
  {
   "cell_type": "code",
   "execution_count": 182,
   "metadata": {},
   "outputs": [
    {
     "data": {
      "text/plain": [
       "(141093, 44)"
      ]
     },
     "execution_count": 182,
     "metadata": {},
     "output_type": "execute_result"
    }
   ],
   "source": [
    "df7.loc[df7['Grade_x'] == 'miss'].shape"
   ]
  },
  {
   "cell_type": "code",
   "execution_count": 183,
   "metadata": {},
   "outputs": [
    {
     "data": {
      "text/plain": [
       "139481"
      ]
     },
     "execution_count": 183,
     "metadata": {},
     "output_type": "execute_result"
    }
   ],
   "source": [
    "df7['total_y'].isnull().sum()"
   ]
  },
  {
   "cell_type": "code",
   "execution_count": 184,
   "metadata": {},
   "outputs": [
    {
     "data": {
      "text/plain": [
       "0"
      ]
     },
     "execution_count": 184,
     "metadata": {},
     "output_type": "execute_result"
    }
   ],
   "source": [
    "df7['total_y'] = df7['total_y'].fillna(-1)\n",
    "df7['total_y'].isnull().sum()"
   ]
  },
  {
   "cell_type": "code",
   "execution_count": 185,
   "metadata": {},
   "outputs": [
    {
     "name": "stderr",
     "output_type": "stream",
     "text": [
      "100%|██████████| 3739980/3739980 [00:02<00:00, 1526740.97it/s]\n"
     ]
    }
   ],
   "source": [
    "grade_list2 = []\n",
    "for one in tqdm(df7['total_y']):\n",
    "    if 100 >= one > 75:\n",
    "        grade_list2.append('A')\n",
    "    elif 75 >= one > 50:\n",
    "        grade_list2.append('B')\n",
    "    elif 50 >= one > 25:\n",
    "        grade_list2.append('C')\n",
    "    elif 25 >= one >= 0:\n",
    "        grade_list2.append('D')\n",
    "    elif one == -1:\n",
    "        grade_list2.append('miss')"
   ]
  },
  {
   "cell_type": "code",
   "execution_count": 186,
   "metadata": {},
   "outputs": [
    {
     "data": {
      "text/plain": [
       "3739980"
      ]
     },
     "execution_count": 186,
     "metadata": {},
     "output_type": "execute_result"
    }
   ],
   "source": [
    "len(grade_list2)"
   ]
  },
  {
   "cell_type": "code",
   "execution_count": 187,
   "metadata": {},
   "outputs": [],
   "source": [
    "df7['Grade_y'] = grade_list2"
   ]
  },
  {
   "cell_type": "code",
   "execution_count": 202,
   "metadata": {},
   "outputs": [
    {
     "data": {
      "text/plain": [
       "Grade_y  배출가스인증번호_코드\n",
       "A        EN001          1079\n",
       "         EN005           500\n",
       "         EN006           178\n",
       "         EN007            69\n",
       "         EN008          1546\n",
       "                        ... \n",
       "miss     EN249            76\n",
       "         EN261            49\n",
       "         EN280           200\n",
       "         EN281           386\n",
       "         EN293             4\n",
       "Name: 배출가스인증번호_코드, Length: 300, dtype: int64"
      ]
     },
     "execution_count": 202,
     "metadata": {},
     "output_type": "execute_result"
    }
   ],
   "source": [
    "df7.reset_index().groupby(['Grade_y', '배출가스인증번호_코드'])['배출가스인증번호_코드'].count()"
   ]
  },
  {
   "cell_type": "code",
   "execution_count": 203,
   "metadata": {},
   "outputs": [],
   "source": [
    "df7.reset_index().groupby(['Grade_y', '배출가스인증번호_코드'])['배출가스인증번호_코드'].count().to_excel('analysis/[G4][정밀검사][배출가스인증번호]등급별_배인코드별_통계.xlsx')"
   ]
  },
  {
   "cell_type": "code",
   "execution_count": 250,
   "metadata": {},
   "outputs": [
    {
     "data": {
      "text/plain": [
       "Grade_y\n",
       "A       169\n",
       "B        62\n",
       "C        14\n",
       "miss     55\n",
       "Name: 배출가스인증번호_코드, dtype: int64"
      ]
     },
     "execution_count": 250,
     "metadata": {},
     "output_type": "execute_result"
    }
   ],
   "source": [
    "df7.drop_duplicates(['Grade_y', '배출가스인증번호_코드'], keep='first').groupby(['Grade_y'])['배출가스인증번호_코드'].count()"
   ]
  },
  {
   "cell_type": "code",
   "execution_count": 251,
   "metadata": {},
   "outputs": [],
   "source": [
    "df7.drop_duplicates(['Grade_y', '배출가스인증번호_코드'], keep='first').groupby(['Grade_y'])['배출가스인증번호_코드'].count().to_excel('analysis/[G4][정밀검사][배출가스인증번호]등급별_배인코드_유니크_통계.xlsx')"
   ]
  },
  {
   "cell_type": "code",
   "execution_count": 191,
   "metadata": {},
   "outputs": [
    {
     "data": {
      "text/plain": [
       "(707470, 45)"
      ]
     },
     "execution_count": 191,
     "metadata": {},
     "output_type": "execute_result"
    }
   ],
   "source": [
    "df7[df7['Grade_y'] == 'A'].shape"
   ]
  },
  {
   "cell_type": "code",
   "execution_count": 192,
   "metadata": {},
   "outputs": [
    {
     "data": {
      "text/plain": [
       "(2832719, 45)"
      ]
     },
     "execution_count": 192,
     "metadata": {},
     "output_type": "execute_result"
    }
   ],
   "source": [
    "df7[df7['Grade_y'] == 'B'].shape"
   ]
  },
  {
   "cell_type": "code",
   "execution_count": 193,
   "metadata": {},
   "outputs": [
    {
     "data": {
      "text/plain": [
       "(59236, 45)"
      ]
     },
     "execution_count": 193,
     "metadata": {},
     "output_type": "execute_result"
    }
   ],
   "source": [
    "df7[df7['Grade_y'] == 'C'].shape"
   ]
  },
  {
   "cell_type": "code",
   "execution_count": 194,
   "metadata": {},
   "outputs": [
    {
     "data": {
      "text/plain": [
       "(0, 45)"
      ]
     },
     "execution_count": 194,
     "metadata": {},
     "output_type": "execute_result"
    }
   ],
   "source": [
    "df7[df7['Grade_y'] == 'D'].shape"
   ]
  },
  {
   "cell_type": "code",
   "execution_count": 195,
   "metadata": {},
   "outputs": [
    {
     "data": {
      "text/plain": [
       "(140555, 45)"
      ]
     },
     "execution_count": 195,
     "metadata": {},
     "output_type": "execute_result"
    }
   ],
   "source": [
    "df7[df7['Grade_y'] == 'miss'].shape"
   ]
  },
  {
   "cell_type": "code",
   "execution_count": null,
   "metadata": {},
   "outputs": [],
   "source": []
  },
  {
   "attachments": {},
   "cell_type": "markdown",
   "metadata": {},
   "source": [
    "# 코드 마지막"
   ]
  }
 ],
 "metadata": {
  "kernelspec": {
   "display_name": "Python 3.9.13 ('base')",
   "language": "python",
   "name": "python3"
  },
  "language_info": {
   "codemirror_mode": {
    "name": "ipython",
    "version": 3
   },
   "file_extension": ".py",
   "mimetype": "text/x-python",
   "name": "python",
   "nbconvert_exporter": "python",
   "pygments_lexer": "ipython3",
   "version": "3.9.13 (main, Aug 25 2022, 23:51:50) [MSC v.1916 64 bit (AMD64)]"
  },
  "orig_nbformat": 4,
  "vscode": {
   "interpreter": {
    "hash": "ad2bdc8ecc057115af97d19610ffacc2b4e99fae6737bb82f5d7fb13d2f2c186"
   }
  }
 },
 "nbformat": 4,
 "nbformat_minor": 2
}
