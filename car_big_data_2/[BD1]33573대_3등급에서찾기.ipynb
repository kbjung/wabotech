{
 "cells": [
  {
   "attachments": {},
   "cell_type": "markdown",
   "metadata": {},
   "source": [
    "# Library"
   ]
  },
  {
   "cell_type": "code",
   "execution_count": 3,
   "metadata": {},
   "outputs": [],
   "source": [
    "import pandas as pd\n",
    "import os\n",
    "import numpy as np"
   ]
  },
  {
   "attachments": {},
   "cell_type": "markdown",
   "metadata": {},
   "source": [
    "# [로드] 3등급 등록&제원정보"
   ]
  },
  {
   "cell_type": "code",
   "execution_count": 4,
   "metadata": {},
   "outputs": [],
   "source": [
    "ods_fold = 'D:/data/big2/ODS'"
   ]
  },
  {
   "cell_type": "code",
   "execution_count": 5,
   "metadata": {},
   "outputs": [],
   "source": [
    "# about 4m 15s\n",
    "df = pd.read_csv(os.path.join(ods_fold, '[ODS][G3]등록정보&제원정보(말소제거)(2022.12.29).csv'), low_memory=False, encoding='cp949')"
   ]
  },
  {
   "cell_type": "code",
   "execution_count": 11,
   "metadata": {},
   "outputs": [
    {
     "data": {
      "text/plain": [
       "Index(['차량관리번호', '차량등록번호', '본거지법정동코드', '소유자구분', '차종_등록정보', '용도', '미정1_x',\n",
       "       '현재회원번호', '미정2_x', '미정3_x', '차대번호', '최초등록일자', '차량연식', '차량제작일자',\n",
       "       '배출가스검사유효일자', '제원관리번호', '배출가스인증번호', '배출가스등급', '저공해조치YN(미사용)', '저공해조치종류',\n",
       "       '저공해조치구조변경YN', '미정4', '차량등록번호숫자정보', '차량말소YN', '미정5', '최초회원번호', '취득일자',\n",
       "       '취득금액', '미정6', '생성일시_등록정보', '수정일시_등록정보', '미정7', '차명', '차종_제원정보', '차종분류',\n",
       "       '차종유형(소분류)', '자동차형식', '제작사명', '연료', '엔진형식', '공차중량', '총중량', '적재중량',\n",
       "       '엔진출력', '배기량', '승차인원', '차량길이', '차량너비', '차량높이', '원산지명', '미정1_y', '삭제YN',\n",
       "       '승인일자', '구동형식', '변속기종류', '미정2_y', '생성일시_제원정보', '수정일시_제원정보', '미정3_y'],\n",
       "      dtype='object')"
      ]
     },
     "execution_count": 11,
     "metadata": {},
     "output_type": "execute_result"
    }
   ],
   "source": [
    "df.columns"
   ]
  },
  {
   "cell_type": "code",
   "execution_count": 12,
   "metadata": {},
   "outputs": [],
   "source": [
    "df = df[['차량관리번호', '차량등록번호', '본거지법정동코드', '소유자구분', '차종_등록정보', '용도', \n",
    "       '현재회원번호', '차대번호', '최초등록일자', '차량연식', '차량제작일자',\n",
    "       '배출가스검사유효일자', '제원관리번호', '배출가스인증번호', '배출가스등급', '저공해조치YN(미사용)', '저공해조치종류',\n",
    "       '저공해조치구조변경YN', '차량등록번호숫자정보', '차량말소YN', '최초회원번호', '취득일자',\n",
    "       '취득금액', '생성일시_등록정보', '수정일시_등록정보', '차명', '차종_제원정보', '차종분류',\n",
    "       '차종유형(소분류)', '자동차형식', '제작사명', '연료', '엔진형식', '공차중량', '총중량', '적재중량',\n",
    "       '엔진출력', '배기량', '승차인원', '차량길이', '차량너비', '차량높이', '원산지명', '삭제YN',\n",
    "       '승인일자', '구동형식', '변속기종류', '생성일시_제원정보', '수정일시_제원정보']]"
   ]
  },
  {
   "cell_type": "code",
   "execution_count": 5,
   "metadata": {},
   "outputs": [
    {
     "data": {
      "text/plain": [
       "(17671, 59)"
      ]
     },
     "execution_count": 5,
     "metadata": {},
     "output_type": "execute_result"
    }
   ],
   "source": [
    "df[df['자동차형식'] == 'CM7UBD'].shape"
   ]
  },
  {
   "cell_type": "code",
   "execution_count": 6,
   "metadata": {},
   "outputs": [
    {
     "data": {
      "text/plain": [
       "(604, 59)"
      ]
     },
     "execution_count": 6,
     "metadata": {},
     "output_type": "execute_result"
    }
   ],
   "source": [
    "df[df['자동차형식'] == 'CM7XBD'].shape"
   ]
  },
  {
   "cell_type": "code",
   "execution_count": 7,
   "metadata": {},
   "outputs": [
    {
     "data": {
      "text/plain": [
       "(3257, 59)"
      ]
     },
     "execution_count": 7,
     "metadata": {},
     "output_type": "execute_result"
    }
   ],
   "source": [
    "df[df['자동차형식'] == 'CM7XDB'].shape"
   ]
  },
  {
   "cell_type": "code",
   "execution_count": 8,
   "metadata": {},
   "outputs": [
    {
     "data": {
      "text/plain": [
       "(0, 59)"
      ]
     },
     "execution_count": 8,
     "metadata": {},
     "output_type": "execute_result"
    }
   ],
   "source": [
    "df[df['자동차형식'] == 'SJ81U'].shape"
   ]
  },
  {
   "cell_type": "code",
   "execution_count": 9,
   "metadata": {},
   "outputs": [
    {
     "data": {
      "text/plain": [
       "(258, 59)"
      ]
     },
     "execution_count": 9,
     "metadata": {},
     "output_type": "execute_result"
    }
   ],
   "source": [
    "df[df['자동차형식'] == 'FM62TT1HA'].shape"
   ]
  },
  {
   "cell_type": "code",
   "execution_count": 10,
   "metadata": {},
   "outputs": [
    {
     "data": {
      "text/plain": [
       "(1052, 59)"
      ]
     },
     "execution_count": 10,
     "metadata": {},
     "output_type": "execute_result"
    }
   ],
   "source": [
    "df[df['자동차형식'] == 'HM74DPH-H'].shape"
   ]
  },
  {
   "cell_type": "code",
   "execution_count": 11,
   "metadata": {},
   "outputs": [
    {
     "data": {
      "text/plain": [
       "(9468, 59)"
      ]
     },
     "execution_count": 11,
     "metadata": {},
     "output_type": "execute_result"
    }
   ],
   "source": [
    "df[df['자동차형식'] == 'TQCJBB'].shape"
   ]
  },
  {
   "cell_type": "code",
   "execution_count": 12,
   "metadata": {},
   "outputs": [
    {
     "data": {
      "text/plain": [
       "(3843, 59)"
      ]
     },
     "execution_count": 12,
     "metadata": {},
     "output_type": "execute_result"
    }
   ],
   "source": [
    "df[df['자동차형식'] == 'TQCJBC-E5'].shape"
   ]
  },
  {
   "cell_type": "code",
   "execution_count": 13,
   "metadata": {},
   "outputs": [
    {
     "data": {
      "text/plain": [
       "(6804, 59)"
      ]
     },
     "execution_count": 13,
     "metadata": {},
     "output_type": "execute_result"
    }
   ],
   "source": [
    "df[df['자동차형식'] == 'WK'].shape"
   ]
  },
  {
   "cell_type": "code",
   "execution_count": 14,
   "metadata": {},
   "outputs": [
    {
     "data": {
      "text/plain": [
       "9"
      ]
     },
     "execution_count": 14,
     "metadata": {},
     "output_type": "execute_result"
    }
   ],
   "source": [
    "forms = ['CM7UBD', 'CM7XBD', 'CM7XDB', 'SJ81U', 'FM62TT1HA', 'HM74DPH-H', 'TQCJBB', 'TQCJBC-E5', 'WK']\n",
    "len(forms)"
   ]
  },
  {
   "cell_type": "code",
   "execution_count": 15,
   "metadata": {},
   "outputs": [
    {
     "data": {
      "text/plain": [
       "(42957, 59)"
      ]
     },
     "execution_count": 15,
     "metadata": {},
     "output_type": "execute_result"
    }
   ],
   "source": [
    "total = pd.DataFrame()\n",
    "for one in forms:\n",
    "    temp = df[df['자동차형식'] == one].reset_index(drop=True)\n",
    "    total = pd.concat([total, temp], ignore_index=False)\n",
    "total.shape"
   ]
  },
  {
   "attachments": {},
   "cell_type": "markdown",
   "metadata": {},
   "source": [
    "## [출력] 3등급 자동차형식 매칭 샘플"
   ]
  },
  {
   "cell_type": "code",
   "execution_count": 16,
   "metadata": {},
   "outputs": [],
   "source": [
    "# about 42s\n",
    "total.to_excel('analysis2/4등급_데이터_점검/[샘플]3등급_자동차형식_검색.xlsx', index=False)"
   ]
  },
  {
   "cell_type": "code",
   "execution_count": 16,
   "metadata": {},
   "outputs": [
    {
     "data": {
      "text/plain": [
       "1261905"
      ]
     },
     "execution_count": 16,
     "metadata": {},
     "output_type": "execute_result"
    }
   ],
   "source": [
    "idx = []\n",
    "for i, one in enumerate(df['배출가스인증번호']):\n",
    "    if ('CMY' in str(one)) or ('FMY' in str(one)):\n",
    "        idx.append(i)\n",
    "len(idx)"
   ]
  },
  {
   "cell_type": "code",
   "execution_count": 18,
   "metadata": {},
   "outputs": [
    {
     "data": {
      "text/html": [
       "<div>\n",
       "<style scoped>\n",
       "    .dataframe tbody tr th:only-of-type {\n",
       "        vertical-align: middle;\n",
       "    }\n",
       "\n",
       "    .dataframe tbody tr th {\n",
       "        vertical-align: top;\n",
       "    }\n",
       "\n",
       "    .dataframe thead th {\n",
       "        text-align: right;\n",
       "    }\n",
       "</style>\n",
       "<table border=\"1\" class=\"dataframe\">\n",
       "  <thead>\n",
       "    <tr style=\"text-align: right;\">\n",
       "      <th></th>\n",
       "      <th>차대번호</th>\n",
       "      <th>자동차형식</th>\n",
       "      <th>배출가스인증번호</th>\n",
       "      <th>배출가스등급</th>\n",
       "    </tr>\n",
       "  </thead>\n",
       "  <tbody>\n",
       "    <tr>\n",
       "      <th>1720407</th>\n",
       "      <td>KPBFA3AN1CP307904</td>\n",
       "      <td>R7DF20A4-01C</td>\n",
       "      <td>CMY-SY-13-01</td>\n",
       "      <td>3</td>\n",
       "    </tr>\n",
       "    <tr>\n",
       "      <th>1720465</th>\n",
       "      <td>KPBFA3AN1CP307884</td>\n",
       "      <td>R7DF20A4-01C</td>\n",
       "      <td>CMY-SY-13-01</td>\n",
       "      <td>3</td>\n",
       "    </tr>\n",
       "    <tr>\n",
       "      <th>1720501</th>\n",
       "      <td>KPBFA3AN1CP307906</td>\n",
       "      <td>R7DF20A4-01C</td>\n",
       "      <td>CMY-SY-13-01</td>\n",
       "      <td>3</td>\n",
       "    </tr>\n",
       "    <tr>\n",
       "      <th>1720645</th>\n",
       "      <td>KPBFA3AN1CP307886</td>\n",
       "      <td>R7DF20A4-01C</td>\n",
       "      <td>CMY-SY-13-01</td>\n",
       "      <td>3</td>\n",
       "    </tr>\n",
       "    <tr>\n",
       "      <th>1720752</th>\n",
       "      <td>KPBFA3AN1CP307903</td>\n",
       "      <td>R7DF20A4-01C</td>\n",
       "      <td>CMY-SY-13-01</td>\n",
       "      <td>3</td>\n",
       "    </tr>\n",
       "  </tbody>\n",
       "</table>\n",
       "</div>"
      ],
      "text/plain": [
       "                      차대번호         자동차형식      배출가스인증번호 배출가스등급\n",
       "1720407  KPBFA3AN1CP307904  R7DF20A4-01C  CMY-SY-13-01      3\n",
       "1720465  KPBFA3AN1CP307884  R7DF20A4-01C  CMY-SY-13-01      3\n",
       "1720501  KPBFA3AN1CP307906  R7DF20A4-01C  CMY-SY-13-01      3\n",
       "1720645  KPBFA3AN1CP307886  R7DF20A4-01C  CMY-SY-13-01      3\n",
       "1720752  KPBFA3AN1CP307903  R7DF20A4-01C  CMY-SY-13-01      3"
      ]
     },
     "execution_count": 18,
     "metadata": {},
     "output_type": "execute_result"
    }
   ],
   "source": [
    "df.loc[idx, ['차대번호', '자동차형식', '배출가스인증번호', '배출가스등급']].head()"
   ]
  },
  {
   "cell_type": "code",
   "execution_count": 19,
   "metadata": {},
   "outputs": [
    {
     "data": {
      "text/plain": [
       "array(['CMY-SY-13-01', 'CMY-VTK-14-01', 'CMY-MK-12-2', 'CMY-HD-14-11',\n",
       "       'CMY-SY-14-01', 'CMY-PPE-14-7', 'CMY-SY-14-14', 'CMY-PPNE-14-6',\n",
       "       'CMY-DB-14-12', 'CMY-SK-14-01', 'CMY-PPE-14-16', 'CMY-PPE-14-21',\n",
       "       'CMY-DT-14-01', 'CMY-PPE-14-20', 'CMY-PPE-14-15', 'CMY-MM-14-1',\n",
       "       'CMY-MM-14-2', 'CMY-PPE-14-23', 'CMY-JL-14-7', 'CMY-JL-14-8',\n",
       "       'CMY-JL-14-6', 'CMY-MK-14-1', 'CMY-DB-14-19', 'CMY-PPE-14-22',\n",
       "       'CMY-PPE-14-17', 'CMY-PPE-14-18', 'CMY-DB-14-15', 'CMY-PPE-14-5',\n",
       "       'FMY-KM-14-19', 'FMY-MK-14-3', 'FMY-IC-14-1', 'FMY-MK-14-4',\n",
       "       'FMY-SG-14-1', 'FMY-MK-14-2', 'FMY-MK-14-8', 'FMY-MK-14-7',\n",
       "       'FMY-BK-14-06', 'FMY-HD-14-03', 'FMY-HD-14-04', 'FMY-AD-14-01',\n",
       "       'FMY-FK-14-1', 'FMY-MK-14-10', 'FMY-SK-14-1', 'FMY-SK-14-3',\n",
       "       'FMY-VTK-14-1', 'FMY-SK-14-2', 'FMY-PPNE-14-15', 'FMY-AD-14-09',\n",
       "       'FMY-AD-14-12', 'FMY-AD-14-04', 'FMY-AD-14-03', 'FMY-AD-14-11',\n",
       "       'FMY-AD-14-13', 'FMY-AD-14-10', 'FMY-AD-14-14', 'FMY-BK-14-8',\n",
       "       'FMY-MT-14-2', 'FMY-HD-14-14', 'FMY-VTK-14-2', 'FMY-MT-14-1',\n",
       "       'FMY-AD-14-15', 'FMY-DT-14-3', 'FMY-DT-14-2', 'FMY-SY-13-07',\n",
       "       'FMY-SY-14-21', 'FMY-DT-14-1', 'FMY-HD-14-22', 'FMY-MT-14-3',\n",
       "       'FMY-BK-14-11', 'FMY-SY-14-12', 'FMY-PA-14-4', 'FMY-PA-14-2',\n",
       "       'FMY-SG-14-5', 'FMY-PA-14-6', 'FMY-MK-14-12', 'FMY-HD-14-38',\n",
       "       'FMY-JL-14-2', 'FMY-DW-14-34', 'FMY-AD-14-16', 'FMY-SY-14-32',\n",
       "       'FMY-SY-14-35', 'FMY-KM-14-37', 'FMY-FM-14-3', 'FMY-MK-14-15',\n",
       "       'FMY-AD-14-22', 'FMY-BK-14-13', 'FMY-AD-14-23', 'FMY-BK-14-12',\n",
       "       'FMY-PA-14-5', 'FMY-JL-14-3', 'FMY-DW-14-46', 'FMY-HS-14-1',\n",
       "       'FMY-PA-14-3', 'FMY-DT-14-4', 'FMY-JL-14-7', 'FMY-JL-14-8',\n",
       "       'FMY-JL-14-4', 'FMY-JL-14-5', 'FMY-AD-14-24', 'FMY-AD-14-18',\n",
       "       'FMY-HD-14-16', 'FMY-BK-14-18', 'FMY-KM-14-49', 'FMY-MK-14-11',\n",
       "       'FMY-AD-14-17', 'FMY-DB-14-48', 'FMY-AD-14-27', 'FMY-NK-14-2',\n",
       "       'FMY-RN-14-1', 'FMY-NK-14-3', 'FMY-MK-14-22', 'FMY-MK-14-23',\n",
       "       'FMY-MK-14-25', 'FMY-FK-14-2', 'FMY-AD-14-05', 'FMY-JL-14-1',\n",
       "       'FMY-DT-14-6', 'FMY-DB-14-54', 'FMY-DB-14-47', 'FMY-SM-14-65',\n",
       "       'FMY-KM-14-62', 'FMY-AD-14-25', 'FMY-MK-14-24', 'FMY-KM-14-68',\n",
       "       'FMY-JL-14-11', 'FMY-VTK-14-3', 'FMY-DT-14-5', 'FMY-HD-14-39',\n",
       "       'FMY-RN-14-2', 'FMY-HD-14-36', 'FMY-DK-14-2', 'FMY-HS-14-2',\n",
       "       'FMY-VTK-14-4', 'FMY-DK-14-3'], dtype=object)"
      ]
     },
     "execution_count": 19,
     "metadata": {},
     "output_type": "execute_result"
    }
   ],
   "source": [
    "df.loc[idx, '배출가스인증번호'].unique()"
   ]
  },
  {
   "cell_type": "code",
   "execution_count": 20,
   "metadata": {},
   "outputs": [
    {
     "data": {
      "text/plain": [
       "array(['R7DF20A4-01C', 'R7DF20A2-01C', 'N62STC451I', ..., 'EU2-22MAb-A8',\n",
       "       'KTA16C-2848L-BZ28M', 'HCT7.5CPG-M'], dtype=object)"
      ]
     },
     "execution_count": 20,
     "metadata": {},
     "output_type": "execute_result"
    }
   ],
   "source": [
    "df.loc[idx, '자동차형식'].unique()"
   ]
  },
  {
   "attachments": {},
   "cell_type": "markdown",
   "metadata": {},
   "source": [
    "# 배출가스 인증정보"
   ]
  },
  {
   "cell_type": "code",
   "execution_count": 21,
   "metadata": {},
   "outputs": [
    {
     "data": {
      "text/plain": [
       "'D:/data/big2/ODS'"
      ]
     },
     "execution_count": 21,
     "metadata": {},
     "output_type": "execute_result"
    }
   ],
   "source": [
    "ods_fold"
   ]
  },
  {
   "cell_type": "code",
   "execution_count": 22,
   "metadata": {},
   "outputs": [],
   "source": [
    "name = 'CEG_EMIS_CERTI_MIG'\n",
    "file_name = f'ODS_{name}.csv'\n",
    "gas_cer = pd.read_csv(os.path.join(ods_fold, file_name), low_memory=False)"
   ]
  },
  {
   "cell_type": "code",
   "execution_count": 25,
   "metadata": {},
   "outputs": [
    {
     "data": {
      "text/plain": [
       "{'STRE_DE': '저장 일자',\n",
       " 'MKR_NM': '제작사 명',\n",
       " 'FUEL': '연료',\n",
       " 'EMIS_CRTC_DE': '배출가스 인증 일자',\n",
       " 'EMIS_CRTCNO': '배출가스인증번호',\n",
       " 'EMIS_PERM_STDR_CD': '배출가스 허용 기준 코드',\n",
       " 'EMIS_VHCTY': '배출가스 차종',\n",
       " 'EMIS_CRTC_UNAVBL_RESN': '배출가스 인증 무효 사유',\n",
       " 'EMIS_CRTC_2_SE': '배출가스 인증 2 구분',\n",
       " 'EMIS_CRTC_STUS': '배출가스 인증 상태',\n",
       " 'EMIS_CRTC_SNO': '배출가스 인증 일련번호',\n",
       " 'EMIS_CRTC_UNAVBL_DE': '배출가스 인증 무효 일자',\n",
       " 'EMIS_CRTC_1_SE': '배출가스 인증 1 구분',\n",
       " 'EMIS_GRD': '배출가스 등급',\n",
       " 'SAME_VHCTY_TY': '동일 차종 유형',\n",
       " 'REPCAR_VIN': '대표차 차대번호',\n",
       " 'REPCAR_EMIS_CRTCNO': '대표차 배출가스 인증번호',\n",
       " 'ORGCAR_SRCMNNO': '기본차 제원관리번호',\n",
       " 'DMSTC_INCM_MKR_SE': '국내 수입 제작사 구분',\n",
       " 'MNFCT_NM': '제조사 명',\n",
       " 'PLOR_NM': '원산지 명',\n",
       " 'RECP_FILE_NM': '미정',\n",
       " 'SRCMNNO': '미정'}"
      ]
     },
     "execution_count": 25,
     "metadata": {},
     "output_type": "execute_result"
    }
   ],
   "source": [
    "col_exc = pd.read_excel(f'analysis/ODSvsSTD/[정제]{name}.xlsx', sheet_name='ODS_col')\n",
    "col_dict = {a:b for a, b in zip(col_exc['컬럼'], col_exc['내용'])}\n",
    "col_dict"
   ]
  },
  {
   "cell_type": "code",
   "execution_count": 26,
   "metadata": {},
   "outputs": [
    {
     "data": {
      "text/plain": [
       "Index(['배출가스인증번호', '배출가스 인증 일련번호', '배출가스 인증 1 구분', '배출가스 인증 2 구분',\n",
       "       '국내 수입 제작사 구분', '배출가스 차종', '연료', '동일 차종 유형', '배출가스 인증 일자', '제작사 명',\n",
       "       '제조사 명', '원산지 명', '배출가스 인증 상태', '배출가스 인증 무효 일자', '배출가스 인증 무효 사유',\n",
       "       '기본차 제원관리번호', '대표차 배출가스 인증번호', '대표차 차대번호', '배출가스 허용 기준 코드', '배출가스 등급',\n",
       "       '미정', '저장 일자', '미정'],\n",
       "      dtype='object')"
      ]
     },
     "execution_count": 26,
     "metadata": {},
     "output_type": "execute_result"
    }
   ],
   "source": [
    "gas_cer.columns = [col_dict[x] for x in gas_cer.columns]\n",
    "gas_cer.columns"
   ]
  },
  {
   "cell_type": "code",
   "execution_count": 27,
   "metadata": {},
   "outputs": [
    {
     "data": {
      "text/plain": [
       "1749"
      ]
     },
     "execution_count": 27,
     "metadata": {},
     "output_type": "execute_result"
    }
   ],
   "source": [
    "sort_idx = []\n",
    "for i, one in enumerate(gas_cer['배출가스인증번호']):\n",
    "    if ('CMY' in one) or ('FMY' in one):\n",
    "        sort_idx.append(i)\n",
    "len(sort_idx)"
   ]
  },
  {
   "cell_type": "code",
   "execution_count": 32,
   "metadata": {},
   "outputs": [
    {
     "data": {
      "text/html": [
       "<div>\n",
       "<style scoped>\n",
       "    .dataframe tbody tr th:only-of-type {\n",
       "        vertical-align: middle;\n",
       "    }\n",
       "\n",
       "    .dataframe tbody tr th {\n",
       "        vertical-align: top;\n",
       "    }\n",
       "\n",
       "    .dataframe thead th {\n",
       "        text-align: right;\n",
       "    }\n",
       "</style>\n",
       "<table border=\"1\" class=\"dataframe\">\n",
       "  <thead>\n",
       "    <tr style=\"text-align: right;\">\n",
       "      <th></th>\n",
       "      <th>배출가스인증번호</th>\n",
       "      <th>배출가스 인증 일련번호</th>\n",
       "      <th>배출가스 인증 1 구분</th>\n",
       "      <th>배출가스 인증 2 구분</th>\n",
       "      <th>국내 수입 제작사 구분</th>\n",
       "      <th>배출가스 차종</th>\n",
       "      <th>연료</th>\n",
       "      <th>동일 차종 유형</th>\n",
       "      <th>배출가스 인증 일자</th>\n",
       "      <th>제작사 명</th>\n",
       "      <th>제조사 명</th>\n",
       "      <th>원산지 명</th>\n",
       "      <th>배출가스 인증 상태</th>\n",
       "      <th>배출가스 인증 무효 일자</th>\n",
       "      <th>배출가스 인증 무효 사유</th>\n",
       "      <th>기본차 제원관리번호</th>\n",
       "      <th>대표차 배출가스 인증번호</th>\n",
       "      <th>대표차 차대번호</th>\n",
       "      <th>배출가스 허용 기준 코드</th>\n",
       "      <th>배출가스 등급</th>\n",
       "    </tr>\n",
       "  </thead>\n",
       "  <tbody>\n",
       "    <tr>\n",
       "      <th>16</th>\n",
       "      <td>FMY-HD-14-60</td>\n",
       "      <td>0</td>\n",
       "      <td>F</td>\n",
       "      <td>O</td>\n",
       "      <td>D</td>\n",
       "      <td>PS</td>\n",
       "      <td>GS</td>\n",
       "      <td>FHD3.8PGHI14</td>\n",
       "      <td>20151127.0</td>\n",
       "      <td>현대자동차(주)</td>\n",
       "      <td>현대자동차(주)</td>\n",
       "      <td>한국</td>\n",
       "      <td>1.0</td>\n",
       "      <td>NaN</td>\n",
       "      <td>NaN</td>\n",
       "      <td>NaN</td>\n",
       "      <td>NaN</td>\n",
       "      <td>NaN</td>\n",
       "      <td>26</td>\n",
       "      <td>2</td>\n",
       "    </tr>\n",
       "    <tr>\n",
       "      <th>17</th>\n",
       "      <td>FMY-HD-14-61</td>\n",
       "      <td>0</td>\n",
       "      <td>F</td>\n",
       "      <td>O</td>\n",
       "      <td>D</td>\n",
       "      <td>PS</td>\n",
       "      <td>GS</td>\n",
       "      <td>FHD3.3PGHI14</td>\n",
       "      <td>20151127.0</td>\n",
       "      <td>현대자동차(주)</td>\n",
       "      <td>현대자동차(주)</td>\n",
       "      <td>한국</td>\n",
       "      <td>1.0</td>\n",
       "      <td>NaN</td>\n",
       "      <td>NaN</td>\n",
       "      <td>NaN</td>\n",
       "      <td>NaN</td>\n",
       "      <td>NaN</td>\n",
       "      <td>26</td>\n",
       "      <td>2</td>\n",
       "    </tr>\n",
       "    <tr>\n",
       "      <th>18</th>\n",
       "      <td>FMY-KM-14-62</td>\n",
       "      <td>0</td>\n",
       "      <td>F</td>\n",
       "      <td>O</td>\n",
       "      <td>D</td>\n",
       "      <td>PS</td>\n",
       "      <td>DS</td>\n",
       "      <td>FKM16PDYD14</td>\n",
       "      <td>20151209.0</td>\n",
       "      <td>기아자동차(주)</td>\n",
       "      <td>기아자동차(주)</td>\n",
       "      <td>한국</td>\n",
       "      <td>1.0</td>\n",
       "      <td>NaN</td>\n",
       "      <td>NaN</td>\n",
       "      <td>NaN</td>\n",
       "      <td>NaN</td>\n",
       "      <td>NaN</td>\n",
       "      <td>29</td>\n",
       "      <td>3</td>\n",
       "    </tr>\n",
       "    <tr>\n",
       "      <th>19</th>\n",
       "      <td>FMY-HD-12-63</td>\n",
       "      <td>0</td>\n",
       "      <td>F</td>\n",
       "      <td>O</td>\n",
       "      <td>D</td>\n",
       "      <td>PS</td>\n",
       "      <td>GS</td>\n",
       "      <td>FHD1.6PGHAE12</td>\n",
       "      <td>20151214.0</td>\n",
       "      <td>현대자동차(주)</td>\n",
       "      <td>현대자동차(주)</td>\n",
       "      <td>한국</td>\n",
       "      <td>1.0</td>\n",
       "      <td>NaN</td>\n",
       "      <td>NaN</td>\n",
       "      <td>NaN</td>\n",
       "      <td>NaN</td>\n",
       "      <td>NaN</td>\n",
       "      <td>41</td>\n",
       "      <td>1</td>\n",
       "    </tr>\n",
       "    <tr>\n",
       "      <th>20</th>\n",
       "      <td>FMY-KM-13-64</td>\n",
       "      <td>0</td>\n",
       "      <td>F</td>\n",
       "      <td>O</td>\n",
       "      <td>D</td>\n",
       "      <td>PS</td>\n",
       "      <td>GS</td>\n",
       "      <td>FKM2359PGYG13</td>\n",
       "      <td>20151214.0</td>\n",
       "      <td>기아자동차(주)</td>\n",
       "      <td>기아자동차(주)</td>\n",
       "      <td>한국</td>\n",
       "      <td>1.0</td>\n",
       "      <td>NaN</td>\n",
       "      <td>NaN</td>\n",
       "      <td>NaN</td>\n",
       "      <td>NaN</td>\n",
       "      <td>NaN</td>\n",
       "      <td>32</td>\n",
       "      <td>1</td>\n",
       "    </tr>\n",
       "    <tr>\n",
       "      <th>...</th>\n",
       "      <td>...</td>\n",
       "      <td>...</td>\n",
       "      <td>...</td>\n",
       "      <td>...</td>\n",
       "      <td>...</td>\n",
       "      <td>...</td>\n",
       "      <td>...</td>\n",
       "      <td>...</td>\n",
       "      <td>...</td>\n",
       "      <td>...</td>\n",
       "      <td>...</td>\n",
       "      <td>...</td>\n",
       "      <td>...</td>\n",
       "      <td>...</td>\n",
       "      <td>...</td>\n",
       "      <td>...</td>\n",
       "      <td>...</td>\n",
       "      <td>...</td>\n",
       "      <td>...</td>\n",
       "      <td>...</td>\n",
       "    </tr>\n",
       "    <tr>\n",
       "      <th>77281</th>\n",
       "      <td>FMY-DT-14-6</td>\n",
       "      <td>23</td>\n",
       "      <td>F</td>\n",
       "      <td>R</td>\n",
       "      <td>I</td>\n",
       "      <td>FL</td>\n",
       "      <td>DS</td>\n",
       "      <td>FDA2987TED14</td>\n",
       "      <td>20150728.0</td>\n",
       "      <td>메르세데스벤츠코리아(주)</td>\n",
       "      <td>메르세데스 벤츠 AG</td>\n",
       "      <td>독일</td>\n",
       "      <td>1.0</td>\n",
       "      <td>NaN</td>\n",
       "      <td>NaN</td>\n",
       "      <td>NaN</td>\n",
       "      <td>NaN</td>\n",
       "      <td>NaN</td>\n",
       "      <td>29</td>\n",
       "      <td>3</td>\n",
       "    </tr>\n",
       "    <tr>\n",
       "      <th>77815</th>\n",
       "      <td>FMY-DT-14-6</td>\n",
       "      <td>22</td>\n",
       "      <td>F</td>\n",
       "      <td>C</td>\n",
       "      <td>I</td>\n",
       "      <td>FL</td>\n",
       "      <td>DS</td>\n",
       "      <td>FDA2987TED14</td>\n",
       "      <td>20150728.0</td>\n",
       "      <td>메르세데스벤츠코리아(주)</td>\n",
       "      <td>메르세데스 벤츠 AG</td>\n",
       "      <td>독일</td>\n",
       "      <td>1.0</td>\n",
       "      <td>NaN</td>\n",
       "      <td>NaN</td>\n",
       "      <td>NaN</td>\n",
       "      <td>NaN</td>\n",
       "      <td>NaN</td>\n",
       "      <td>29</td>\n",
       "      <td>3</td>\n",
       "    </tr>\n",
       "    <tr>\n",
       "      <th>78567</th>\n",
       "      <td>FMY-DT-14-2</td>\n",
       "      <td>35</td>\n",
       "      <td>F</td>\n",
       "      <td>R</td>\n",
       "      <td>I</td>\n",
       "      <td>FX</td>\n",
       "      <td>DS</td>\n",
       "      <td>FDA12809TED14</td>\n",
       "      <td>20150410.0</td>\n",
       "      <td>다임러트럭코리아(주)</td>\n",
       "      <td>Daimler AG</td>\n",
       "      <td>독일</td>\n",
       "      <td>1.0</td>\n",
       "      <td>NaN</td>\n",
       "      <td>NaN</td>\n",
       "      <td>NaN</td>\n",
       "      <td>NaN</td>\n",
       "      <td>NaN</td>\n",
       "      <td>29</td>\n",
       "      <td>3</td>\n",
       "    </tr>\n",
       "    <tr>\n",
       "      <th>79052</th>\n",
       "      <td>FMY-DT-14-2</td>\n",
       "      <td>36</td>\n",
       "      <td>F</td>\n",
       "      <td>C</td>\n",
       "      <td>I</td>\n",
       "      <td>FX</td>\n",
       "      <td>DS</td>\n",
       "      <td>FDA12809TED14</td>\n",
       "      <td>20150410.0</td>\n",
       "      <td>다임러트럭코리아(주)</td>\n",
       "      <td>Daimler AG</td>\n",
       "      <td>독일</td>\n",
       "      <td>1.0</td>\n",
       "      <td>NaN</td>\n",
       "      <td>NaN</td>\n",
       "      <td>NaN</td>\n",
       "      <td>NaN</td>\n",
       "      <td>NaN</td>\n",
       "      <td>29</td>\n",
       "      <td>3</td>\n",
       "    </tr>\n",
       "    <tr>\n",
       "      <th>79643</th>\n",
       "      <td>FMY-DW-14-31</td>\n",
       "      <td>28</td>\n",
       "      <td>F</td>\n",
       "      <td>R</td>\n",
       "      <td>D</td>\n",
       "      <td>L0</td>\n",
       "      <td>GS</td>\n",
       "      <td>FDWD714</td>\n",
       "      <td>20150708.0</td>\n",
       "      <td>한국지엠(주)</td>\n",
       "      <td>한국지엠</td>\n",
       "      <td>한국</td>\n",
       "      <td>1.0</td>\n",
       "      <td>NaN</td>\n",
       "      <td>NaN</td>\n",
       "      <td>NaN</td>\n",
       "      <td>NaN</td>\n",
       "      <td>NaN</td>\n",
       "      <td>39</td>\n",
       "      <td>2</td>\n",
       "    </tr>\n",
       "  </tbody>\n",
       "</table>\n",
       "<p>1749 rows × 20 columns</p>\n",
       "</div>"
      ],
      "text/plain": [
       "           배출가스인증번호  배출가스 인증 일련번호 배출가스 인증 1 구분 배출가스 인증 2 구분 국내 수입 제작사 구분  \\\n",
       "16     FMY-HD-14-60             0            F            O            D   \n",
       "17     FMY-HD-14-61             0            F            O            D   \n",
       "18     FMY-KM-14-62             0            F            O            D   \n",
       "19     FMY-HD-12-63             0            F            O            D   \n",
       "20     FMY-KM-13-64             0            F            O            D   \n",
       "...             ...           ...          ...          ...          ...   \n",
       "77281   FMY-DT-14-6            23            F            R            I   \n",
       "77815   FMY-DT-14-6            22            F            C            I   \n",
       "78567   FMY-DT-14-2            35            F            R            I   \n",
       "79052   FMY-DT-14-2            36            F            C            I   \n",
       "79643  FMY-DW-14-31            28            F            R            D   \n",
       "\n",
       "      배출가스 차종  연료       동일 차종 유형  배출가스 인증 일자          제작사 명        제조사 명  \\\n",
       "16         PS  GS   FHD3.8PGHI14  20151127.0       현대자동차(주)     현대자동차(주)   \n",
       "17         PS  GS   FHD3.3PGHI14  20151127.0       현대자동차(주)     현대자동차(주)   \n",
       "18         PS  DS    FKM16PDYD14  20151209.0       기아자동차(주)     기아자동차(주)   \n",
       "19         PS  GS  FHD1.6PGHAE12  20151214.0       현대자동차(주)     현대자동차(주)   \n",
       "20         PS  GS  FKM2359PGYG13  20151214.0       기아자동차(주)     기아자동차(주)   \n",
       "...       ...  ..            ...         ...            ...          ...   \n",
       "77281      FL  DS   FDA2987TED14  20150728.0  메르세데스벤츠코리아(주)  메르세데스 벤츠 AG   \n",
       "77815      FL  DS   FDA2987TED14  20150728.0  메르세데스벤츠코리아(주)  메르세데스 벤츠 AG   \n",
       "78567      FX  DS  FDA12809TED14  20150410.0    다임러트럭코리아(주)   Daimler AG   \n",
       "79052      FX  DS  FDA12809TED14  20150410.0    다임러트럭코리아(주)   Daimler AG   \n",
       "79643      L0  GS        FDWD714  20150708.0        한국지엠(주)         한국지엠   \n",
       "\n",
       "      원산지 명  배출가스 인증 상태  배출가스 인증 무효 일자 배출가스 인증 무효 사유 기본차 제원관리번호 대표차 배출가스 인증번호  \\\n",
       "16       한국         1.0            NaN           NaN        NaN           NaN   \n",
       "17       한국         1.0            NaN           NaN        NaN           NaN   \n",
       "18       한국         1.0            NaN           NaN        NaN           NaN   \n",
       "19       한국         1.0            NaN           NaN        NaN           NaN   \n",
       "20       한국         1.0            NaN           NaN        NaN           NaN   \n",
       "...     ...         ...            ...           ...        ...           ...   \n",
       "77281    독일         1.0            NaN           NaN        NaN           NaN   \n",
       "77815    독일         1.0            NaN           NaN        NaN           NaN   \n",
       "78567    독일         1.0            NaN           NaN        NaN           NaN   \n",
       "79052    독일         1.0            NaN           NaN        NaN           NaN   \n",
       "79643    한국         1.0            NaN           NaN        NaN           NaN   \n",
       "\n",
       "      대표차 차대번호 배출가스 허용 기준 코드 배출가스 등급  \n",
       "16         NaN            26       2  \n",
       "17         NaN            26       2  \n",
       "18         NaN            29       3  \n",
       "19         NaN            41       1  \n",
       "20         NaN            32       1  \n",
       "...        ...           ...     ...  \n",
       "77281      NaN            29       3  \n",
       "77815      NaN            29       3  \n",
       "78567      NaN            29       3  \n",
       "79052      NaN            29       3  \n",
       "79643      NaN            39       2  \n",
       "\n",
       "[1749 rows x 20 columns]"
      ]
     },
     "execution_count": 32,
     "metadata": {},
     "output_type": "execute_result"
    }
   ],
   "source": [
    "gas_cer.iloc[sort_idx, :20]"
   ]
  },
  {
   "cell_type": "code",
   "execution_count": 33,
   "metadata": {},
   "outputs": [
    {
     "data": {
      "text/html": [
       "<div>\n",
       "<style scoped>\n",
       "    .dataframe tbody tr th:only-of-type {\n",
       "        vertical-align: middle;\n",
       "    }\n",
       "\n",
       "    .dataframe tbody tr th {\n",
       "        vertical-align: top;\n",
       "    }\n",
       "\n",
       "    .dataframe thead th {\n",
       "        text-align: right;\n",
       "    }\n",
       "</style>\n",
       "<table border=\"1\" class=\"dataframe\">\n",
       "  <thead>\n",
       "    <tr style=\"text-align: right;\">\n",
       "      <th></th>\n",
       "      <th>미정</th>\n",
       "      <th>저장 일자</th>\n",
       "      <th>미정</th>\n",
       "    </tr>\n",
       "  </thead>\n",
       "  <tbody>\n",
       "    <tr>\n",
       "      <th>16</th>\n",
       "      <td>EmisCerti_20190919.txt</td>\n",
       "      <td>20190919</td>\n",
       "      <td>NaN</td>\n",
       "    </tr>\n",
       "    <tr>\n",
       "      <th>17</th>\n",
       "      <td>EmisCerti_20190919.txt</td>\n",
       "      <td>20190919</td>\n",
       "      <td>NaN</td>\n",
       "    </tr>\n",
       "    <tr>\n",
       "      <th>18</th>\n",
       "      <td>EmisCerti_20190919.txt</td>\n",
       "      <td>20190919</td>\n",
       "      <td>NaN</td>\n",
       "    </tr>\n",
       "    <tr>\n",
       "      <th>19</th>\n",
       "      <td>EmisCerti_20190919.txt</td>\n",
       "      <td>20190919</td>\n",
       "      <td>NaN</td>\n",
       "    </tr>\n",
       "    <tr>\n",
       "      <th>20</th>\n",
       "      <td>EmisCerti_20190919.txt</td>\n",
       "      <td>20190919</td>\n",
       "      <td>NaN</td>\n",
       "    </tr>\n",
       "    <tr>\n",
       "      <th>...</th>\n",
       "      <td>...</td>\n",
       "      <td>...</td>\n",
       "      <td>...</td>\n",
       "    </tr>\n",
       "    <tr>\n",
       "      <th>77281</th>\n",
       "      <td>EmisCerti_20220512.txt</td>\n",
       "      <td>20220512</td>\n",
       "      <td>NaN</td>\n",
       "    </tr>\n",
       "    <tr>\n",
       "      <th>77815</th>\n",
       "      <td>EmisCerti_20220512.txt</td>\n",
       "      <td>20220512</td>\n",
       "      <td>NaN</td>\n",
       "    </tr>\n",
       "    <tr>\n",
       "      <th>78567</th>\n",
       "      <td>EmisCerti_20220216.txt</td>\n",
       "      <td>20220216</td>\n",
       "      <td>NaN</td>\n",
       "    </tr>\n",
       "    <tr>\n",
       "      <th>79052</th>\n",
       "      <td>EmisCerti_20220407.txt</td>\n",
       "      <td>20220407</td>\n",
       "      <td>NaN</td>\n",
       "    </tr>\n",
       "    <tr>\n",
       "      <th>79643</th>\n",
       "      <td>EmisCerti_20200626.txt</td>\n",
       "      <td>20200626</td>\n",
       "      <td>NaN</td>\n",
       "    </tr>\n",
       "  </tbody>\n",
       "</table>\n",
       "<p>1749 rows × 3 columns</p>\n",
       "</div>"
      ],
      "text/plain": [
       "                           미정     저장 일자  미정\n",
       "16     EmisCerti_20190919.txt  20190919 NaN\n",
       "17     EmisCerti_20190919.txt  20190919 NaN\n",
       "18     EmisCerti_20190919.txt  20190919 NaN\n",
       "19     EmisCerti_20190919.txt  20190919 NaN\n",
       "20     EmisCerti_20190919.txt  20190919 NaN\n",
       "...                       ...       ...  ..\n",
       "77281  EmisCerti_20220512.txt  20220512 NaN\n",
       "77815  EmisCerti_20220512.txt  20220512 NaN\n",
       "78567  EmisCerti_20220216.txt  20220216 NaN\n",
       "79052  EmisCerti_20220407.txt  20220407 NaN\n",
       "79643  EmisCerti_20200626.txt  20200626 NaN\n",
       "\n",
       "[1749 rows x 3 columns]"
      ]
     },
     "execution_count": 33,
     "metadata": {},
     "output_type": "execute_result"
    }
   ],
   "source": [
    "gas_cer.iloc[sort_idx, 20:]"
   ]
  },
  {
   "attachments": {},
   "cell_type": "markdown",
   "metadata": {},
   "source": [
    "# [로드] 정기검사"
   ]
  },
  {
   "cell_type": "code",
   "execution_count": 35,
   "metadata": {},
   "outputs": [],
   "source": [
    "# about \n",
    "ins = pd.read_csv(os.path.join(ods_fold, '[ODS]정기검사(2022.12.29).csv'), low_memory=False)"
   ]
  },
  {
   "cell_type": "code",
   "execution_count": 37,
   "metadata": {},
   "outputs": [
    {
     "data": {
      "text/plain": [
       "Index(['사용연료', '주행거리', '차명', '차량번호', '차대번호', '차종', '차량연식', '엔진형식', '검사방법',\n",
       "       '검사일자', '검사종류', '검사판정시각', '검사판정', '산소값', '이산화탄소값', '무부하매연판정1',\n",
       "       '무부하매연판정2', '무부하매연판정3', '무부하매연판정4', '무부하매연판정5', '무부하매연판정6', '무부하매연허용치1',\n",
       "       '무부하매연허용치2', '무부하매연허용치3', '무부하매연허용치4', '무부하매연허용치5', '무부하매연허용치6',\n",
       "       '무부하매연측정치1', '무부하매연측정치2', '무부하매연측정치3', '무부하매연측정치4', '무부하매연측정치5',\n",
       "       '무부하매연측정치6', '차량용도', '최대출력허용치', '최대출력측정값', '검사접수번호', '검사소명', '재검사기간'],\n",
       "      dtype='object')"
      ]
     },
     "execution_count": 37,
     "metadata": {},
     "output_type": "execute_result"
    }
   ],
   "source": [
    "ins.columns"
   ]
  },
  {
   "cell_type": "code",
   "execution_count": null,
   "metadata": {},
   "outputs": [],
   "source": []
  },
  {
   "cell_type": "code",
   "execution_count": null,
   "metadata": {},
   "outputs": [],
   "source": []
  },
  {
   "cell_type": "code",
   "execution_count": 39,
   "metadata": {},
   "outputs": [],
   "source": [
    "# about 1m 45s\n",
    "df_ins = df.merge(ins, on='차대번호', how='left')"
   ]
  },
  {
   "cell_type": "code",
   "execution_count": 41,
   "metadata": {},
   "outputs": [
    {
     "data": {
      "text/plain": [
       "1599648"
      ]
     },
     "execution_count": 41,
     "metadata": {},
     "output_type": "execute_result"
    }
   ],
   "source": [
    "ins_idx = []\n",
    "for i, one in enumerate(df_ins['배출가스인증번호']):\n",
    "    if ('CMY' in str(one)) or ('FMY' in str(one)):\n",
    "        ins_idx.append(i)\n",
    "len(ins_idx)"
   ]
  },
  {
   "cell_type": "code",
   "execution_count": 42,
   "metadata": {},
   "outputs": [],
   "source": [
    "# about \n",
    "df_ins.iloc[ins_idx[:800000]].to_csv('analysis2/4등급_데이터_점검/[BD1]3등급_정기검사_C_FMY_매칭01.csv', index=False, encoding='cp949')\n",
    "df_ins.iloc[ins_idx[800000:]].to_csv('analysis2/4등급_데이터_점검/[BD1]3등급_정기검사_C_FMY_매칭02.csv', index=False, encoding='cp949')"
   ]
  },
  {
   "cell_type": "code",
   "execution_count": null,
   "metadata": {},
   "outputs": [],
   "source": []
  },
  {
   "cell_type": "code",
   "execution_count": 43,
   "metadata": {},
   "outputs": [],
   "source": [
    "del ins"
   ]
  },
  {
   "cell_type": "code",
   "execution_count": null,
   "metadata": {},
   "outputs": [],
   "source": []
  },
  {
   "attachments": {},
   "cell_type": "markdown",
   "metadata": {},
   "source": [
    "# [로드] 정밀검사"
   ]
  },
  {
   "cell_type": "code",
   "execution_count": 6,
   "metadata": {},
   "outputs": [],
   "source": [
    "# about 6m 2s\n",
    "# engine = pyarrow 지정 about \n",
    "dins = pd.read_csv(os.path.join(ods_fold, '[ODS]정밀검사(2022.12.29).csv'), low_memory=False)"
   ]
  },
  {
   "cell_type": "code",
   "execution_count": 10,
   "metadata": {},
   "outputs": [
    {
     "data": {
      "text/plain": [
       "Index(['사용연료', '주행거리', '차명', '차량번호', '차대번호', '차종', '차량연식', '엔진형식', '검사방법',\n",
       "       '검사일자', '검사종류', '검사판정시각', '검사판정', '산소값', '이산화탄소값', '무부하매연판정1',\n",
       "       '무부하매연판정2', '무부하매연판정3', '무부하매연판정4', '무부하매연판정5', '무부하매연판정6', '무부하매연허용치1',\n",
       "       '무부하매연허용치2', '무부하매연허용치3', '무부하매연허용치4', '무부하매연허용치5', '무부하매연허용치6',\n",
       "       '무부하매연측정치1', '무부하매연측정치2', '무부하매연측정치3', '무부하매연측정치4', '무부하매연측정치5',\n",
       "       '무부하매연측정치6', '차량용도', '최대출력허용치', '최대출력측정값', '검사접수번호', '검사소명', '재검사기간',\n",
       "       '검사 검사소코드', '검사유효기간'],\n",
       "      dtype='object')"
      ]
     },
     "execution_count": 10,
     "metadata": {},
     "output_type": "execute_result"
    }
   ],
   "source": [
    "dins.columns"
   ]
  },
  {
   "cell_type": "code",
   "execution_count": 13,
   "metadata": {},
   "outputs": [],
   "source": [
    "# about 1m 45s\n",
    "df_dins = df.merge(dins, on='차대번호', how='left')"
   ]
  },
  {
   "cell_type": "code",
   "execution_count": 14,
   "metadata": {},
   "outputs": [
    {
     "data": {
      "text/plain": [
       "1614096"
      ]
     },
     "execution_count": 14,
     "metadata": {},
     "output_type": "execute_result"
    }
   ],
   "source": [
    "dins_idx = []\n",
    "for i, one in enumerate(df_dins['배출가스인증번호']):\n",
    "    if ('CMY' in str(one)) or ('FMY' in str(one)):\n",
    "        dins_idx.append(i)\n",
    "len(dins_idx)"
   ]
  },
  {
   "cell_type": "code",
   "execution_count": 15,
   "metadata": {},
   "outputs": [],
   "source": [
    "# about 1m 45s\n",
    "df_dins.iloc[dins_idx[:800000]].to_csv('analysis2/4등급_데이터_점검/[BD1]3등급_정밀검사_C_FMY_매칭01.csv', index=False, encoding='cp949')\n",
    "df_dins.iloc[dins_idx[800000:]].to_csv('analysis2/4등급_데이터_점검/[BD1]3등급_정밀검사_C_FMY_매칭02.csv', index=False, encoding='cp949')"
   ]
  },
  {
   "cell_type": "code",
   "execution_count": null,
   "metadata": {},
   "outputs": [],
   "source": []
  },
  {
   "attachments": {},
   "cell_type": "markdown",
   "metadata": {},
   "source": [
    "# [로드] 배출가스 인증시험(CEG_EMIS_CERTI_TEST_MIG)"
   ]
  },
  {
   "cell_type": "code",
   "execution_count": 18,
   "metadata": {},
   "outputs": [],
   "source": [
    "name = 'CEG_EMIS_CERTI_TEST_MIG'\n",
    "emis = pd.read_csv(os.path.join(ods_fold, f'ODS_{name}.csv'), low_memory=False)"
   ]
  },
  {
   "cell_type": "code",
   "execution_count": 19,
   "metadata": {},
   "outputs": [
    {
     "data": {
      "text/plain": [
       "{'PN_PERM_STDR_VAL': '입자개수 허용 기준 값',\n",
       " 'NOX_PERM_STDR_VAL': '질소산화물 허용 기준 값',\n",
       " 'PM_PERM_STDR_VAL': '입자상물질 허용 기준 값',\n",
       " 'NOX_TEST_RSLT': '질소산화물 시험 결과',\n",
       " 'PN_TEST_RSLT': '입자개수 시험 결과',\n",
       " 'CO_PERM_STDR_VAL': '일산화탄소 허용 기준 값',\n",
       " 'CO_TEST_RSLT': '일산화탄소 시험 결과',\n",
       " 'EMIS_CRTCNO': '배출가스 인증번호',\n",
       " 'EMIS_CRTC_SNO': '배출가스 인증 일련번호',\n",
       " 'EMIS_TEST_MOD_VAL': '배출가스 시험 모드 값',\n",
       " 'HC_PERM_STDR_VAL': '탄화수소3 허용 기준 값',\n",
       " 'HC_NOX_PERM_STDR_VAL': '탄화수소3 질소산화물 허용 기준 값',\n",
       " 'HC_NOX_TEST_RSLT': '탄화수소3 질소산화물 시험 결과',\n",
       " 'HC_TEST_RSLT': '탄화수소3 시험 결과',\n",
       " 'NMHC_PERM_STDR_VAL': '탄화수소2 허용 기준 값',\n",
       " 'NMHC_TEST_RSLT': '탄화수소2 시험 결과',\n",
       " 'NMOG_PERM_STDR_VAL': '탄화수소1 허용 기준 값',\n",
       " 'NMOG_NOX_PERM_STDR_VAL': '탄화수소1 질소산화물 허용 기준 값',\n",
       " 'NMOG_NOX_TEST_RSLT': '탄화수소1 질소산화물 시험 결과',\n",
       " 'NMOG_TEST_RSLT': '탄화수소1 시험 결과',\n",
       " 'PM_TEST_RSLT': '입자상물질 시험 결과',\n",
       " 'RECP_FILE_NM': '미정',\n",
       " 'STRE_DE': '미정'}"
      ]
     },
     "execution_count": 19,
     "metadata": {},
     "output_type": "execute_result"
    }
   ],
   "source": [
    "col_exc = pd.read_excel(f'analysis/ODSvsSTD/[정제]{name}.xlsx', sheet_name='ODS_col')\n",
    "col_dict = {a:b for a, b in zip(col_exc['컬럼'], col_exc['내용'])}\n",
    "col_dict"
   ]
  },
  {
   "cell_type": "code",
   "execution_count": 20,
   "metadata": {},
   "outputs": [],
   "source": [
    "emis.columns = (col_dict[x] for x in emis.columns)"
   ]
  },
  {
   "cell_type": "code",
   "execution_count": 21,
   "metadata": {},
   "outputs": [
    {
     "data": {
      "text/plain": [
       "Index(['배출가스 인증번호', '배출가스 인증 일련번호', '배출가스 시험 모드 값', '일산화탄소 허용 기준 값',\n",
       "       '일산화탄소 시험 결과', '탄화수소1 허용 기준 값', '탄화수소1 시험 결과', '탄화수소2 허용 기준 값',\n",
       "       '탄화수소2 시험 결과', '탄화수소3 허용 기준 값', '탄화수소3 시험 결과', '질소산화물 허용 기준 값',\n",
       "       '질소산화물 시험 결과', '탄화수소1 질소산화물 허용 기준 값', '탄화수소1 질소산화물 시험 결과',\n",
       "       '탄화수소3 질소산화물 허용 기준 값', '탄화수소3 질소산화물 시험 결과', '입자상물질 허용 기준 값',\n",
       "       '입자상물질 시험 결과', '입자개수 허용 기준 값', '입자개수 시험 결과', '미정', '미정'],\n",
       "      dtype='object')"
      ]
     },
     "execution_count": 21,
     "metadata": {},
     "output_type": "execute_result"
    }
   ],
   "source": [
    "emis.columns"
   ]
  },
  {
   "cell_type": "code",
   "execution_count": 22,
   "metadata": {},
   "outputs": [
    {
     "data": {
      "text/plain": [
       "2237"
      ]
     },
     "execution_count": 22,
     "metadata": {},
     "output_type": "execute_result"
    }
   ],
   "source": [
    "sort_idx = []\n",
    "for i, one in enumerate(emis['배출가스 인증번호']):\n",
    "    if ('CMY' in one) or ('FMY' in one):\n",
    "       sort_idx.append(i)\n",
    "len(sort_idx) "
   ]
  },
  {
   "cell_type": "code",
   "execution_count": 23,
   "metadata": {},
   "outputs": [],
   "source": [
    "emis.loc[sort_idx].to_excel('analysis2/4등급_데이터_점검/[샘플]CMY_FMY_배출가스_인증시험_검색.xlsx', index=False)"
   ]
  },
  {
   "cell_type": "code",
   "execution_count": null,
   "metadata": {},
   "outputs": [],
   "source": []
  }
 ],
 "metadata": {
  "kernelspec": {
   "display_name": "base",
   "language": "python",
   "name": "python3"
  },
  "language_info": {
   "codemirror_mode": {
    "name": "ipython",
    "version": 3
   },
   "file_extension": ".py",
   "mimetype": "text/x-python",
   "name": "python",
   "nbconvert_exporter": "python",
   "pygments_lexer": "ipython3",
   "version": "3.9.13 (main, Aug 25 2022, 23:51:50) [MSC v.1916 64 bit (AMD64)]"
  },
  "orig_nbformat": 4,
  "vscode": {
   "interpreter": {
    "hash": "ad2bdc8ecc057115af97d19610ffacc2b4e99fae6737bb82f5d7fb13d2f2c186"
   }
  }
 },
 "nbformat": 4,
 "nbformat_minor": 2
}
