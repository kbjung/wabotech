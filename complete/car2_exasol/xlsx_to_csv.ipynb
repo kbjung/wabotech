{
 "cells": [
  {
   "cell_type": "markdown",
   "metadata": {},
   "source": [
    "# Library"
   ]
  },
  {
   "cell_type": "code",
   "execution_count": 1,
   "metadata": {},
   "outputs": [],
   "source": [
    "import pandas as pd\n",
    "import os\n",
    "from glob import glob\n",
    "from datetime import datetime"
   ]
  },
  {
   "attachments": {},
   "cell_type": "markdown",
   "metadata": {},
   "source": [
    "# FOLD"
   ]
  },
  {
   "cell_type": "code",
   "execution_count": 8,
   "metadata": {},
   "outputs": [],
   "source": [
    "drive = 'D'"
   ]
  },
  {
   "cell_type": "code",
   "execution_count": 3,
   "metadata": {},
   "outputs": [],
   "source": [
    "ods_fold = f'{drive}:/data/complete/big2/ods'\n",
    "\n",
    "raw1_fold = f'{drive}:/data/complete/big2/BD1/raw'\n",
    "df1_fold = f'{drive}:/data/complete/big2/BD1/df'\n",
    "\n",
    "raw3_fold = f'{drive}:/data/complete/big2/BD3/raw'\n",
    "df3_fold = f'{drive}:/data/complete/big2/BD3/df'"
   ]
  },
  {
   "cell_type": "code",
   "execution_count": 4,
   "metadata": {},
   "outputs": [],
   "source": [
    "def etoc(name, fold):\n",
    "    file_name = f'{name}.xlsx'\n",
    "    df = pd.read_excel(os.path.join(fold, file_name))\n",
    "    df.to_csv(os.path.join(fold, f'{name}.csv'), index=False)\n",
    "    print(os.path.join(fold, f'{name}.csv 출력완료.'))"
   ]
  },
  {
   "cell_type": "code",
   "execution_count": 5,
   "metadata": {},
   "outputs": [],
   "source": [
    "def ctoc(name, fold):\n",
    "    file_name = f'{name}.csv'\n",
    "    df = pd.read_csv(os.path.join(fold, file_name), encoding='cp949')\n",
    "    df.to_csv(os.path.join(fold, f'{name}.csv'), index=False)\n",
    "    print(os.path.join(fold, f'{name}.csv 출력완료.'))"
   ]
  },
  {
   "cell_type": "code",
   "execution_count": 6,
   "metadata": {},
   "outputs": [],
   "source": [
    "def multi_etoc(fold):\n",
    "    for file_name in glob(os.path.join(fold, '*.xlsx')):\n",
    "        name = file_name.split('\\\\')[-1]\n",
    "        csv_name = name.split('.')[0] + '.csv'\n",
    "        df = pd.read_excel(os.path.join(fold, name))\n",
    "        df.to_csv(os.path.join(fold, csv_name), index=False)\n",
    "        print(os.path.join(fold, csv_name), '출력완료.')"
   ]
  },
  {
   "cell_type": "code",
   "execution_count": 13,
   "metadata": {},
   "outputs": [
    {
     "name": "stdout",
     "output_type": "stream",
     "text": [
      "D:/data/big2/BD3/raw\\STD_BD_CAR_CURSTT_MOD.csv 출력완료.\n"
     ]
    }
   ],
   "source": [
    "name = 'STD_BD_CAR_CURSTT_MOD'\n",
    "fold = raw3_fold\n",
    "etoc(name, fold)"
   ]
  },
  {
   "cell_type": "code",
   "execution_count": 10,
   "metadata": {},
   "outputs": [
    {
     "name": "stdout",
     "output_type": "stream",
     "text": [
      "D:/data/big2/BD3/raw\\5등급_저공해미조치.csv 출력완료.\n"
     ]
    }
   ],
   "source": [
    "name = '5등급_저공해미조치'\n",
    "fold = raw3_fold\n",
    "etoc(name, fold)"
   ]
  },
  {
   "cell_type": "code",
   "execution_count": 22,
   "metadata": {},
   "outputs": [
    {
     "name": "stdout",
     "output_type": "stream",
     "text": [
      "D:/data/big2/BD1/raw\\용도별_차종별_시군구별_자동차1일평균주행거리(2021).csv 출력완료.\n"
     ]
    }
   ],
   "source": [
    "name = '용도별_차종별_시군구별_자동차1일평균주행거리(2021)'\n",
    "fold = raw1_fold\n",
    "etoc(name, fold)"
   ]
  },
  {
   "cell_type": "code",
   "execution_count": 8,
   "metadata": {},
   "outputs": [
    {
     "name": "stdout",
     "output_type": "stream",
     "text": [
      "D:/data/big2/BD3/df\\STD_BD_ECO_CAR_PRET.csv 출력완료.\n"
     ]
    }
   ],
   "source": [
    "name = 'STD_BD_ECO_CAR_PRET'\n",
    "fold = df3_fold\n",
    "ctoc(name, fold)"
   ]
  },
  {
   "cell_type": "code",
   "execution_count": 22,
   "metadata": {},
   "outputs": [
    {
     "name": "stdout",
     "output_type": "stream",
     "text": [
      "D:/data/big2/BD3/df\\STD_BD_CAR_CURSTT_MOD.csv 출력완료.\n",
      "D:/data/big2/BD3/df\\STD_BD_CAR_CURSTT_MOD2.csv 출력완료.\n",
      "D:/data/big2/BD3/df\\STD_BD_CAR_PRET.csv 출력완료.\n",
      "D:/data/big2/BD3/df\\STD_BD_CAR_REG_MKCNT.csv 출력완료.\n",
      "D:/data/big2/BD3/df\\STD_BD_ECO_CAR_PRET.csv 출력완료.\n",
      "D:/data/big2/BD3/df\\STD_BD_GRD4_DS_CRRLTN_CFFCNT.csv 출력완료.\n",
      "D:/data/big2/BD3/df\\STD_BD_GRD5_DS_DPF_CRRLTN_CFFCNT.csv 출력완료.\n",
      "D:/data/big2/BD3/df\\STD_BD_GRD5_DS_ELPDSRC_CRRLTN_CFFCNT.csv 출력완료.\n",
      "D:/data/big2/BD3/df\\STD_BD_GRD5_ELPDSRC_CURSTT.csv 출력완료.\n",
      "D:/data/big2/BD3/df\\STD_BD_GRD5_LEM_N_MOD.csv 출력완료.\n"
     ]
    }
   ],
   "source": [
    "multi_etoc(df3_fold)"
   ]
  },
  {
   "cell_type": "code",
   "execution_count": 21,
   "metadata": {},
   "outputs": [
    {
     "name": "stdout",
     "output_type": "stream",
     "text": [
      "<class 'pandas.core.frame.DataFrame'>\n",
      "RangeIndex: 7 entries, 0 to 6\n",
      "Data columns (total 9 columns):\n",
      " #   Column               Non-Null Count  Dtype  \n",
      "---  ------               --------------  -----  \n",
      " 0   LIST                 7 non-null      object \n",
      " 1   NOLOD_SMO_MEVLU1     7 non-null      float64\n",
      " 2   DY_AVRG_DRVNG_DSTNC  7 non-null      float64\n",
      " 3   RCNT_INSP_ELPSD_WHL  7 non-null      float64\n",
      " 4   RUN_LMT_CRDN_INFO    7 non-null      float64\n",
      " 5   SPRT_CST_ELPDSRC     7 non-null      float64\n",
      " 6   DSPLVL               7 non-null      float64\n",
      " 7   TOTL_WGHT            7 non-null      float64\n",
      " 8   TOT_CRRLTN_CFFCNT    7 non-null      float64\n",
      "dtypes: float64(8), object(1)\n",
      "memory usage: 632.0+ bytes\n"
     ]
    }
   ],
   "source": [
    "# about \n",
    "name = 'STD_BD_GRD5_DS_ELPDSRC_CRRLTN_CFFCNT'\n",
    "file_name = f'{name}.xlsx'\n",
    "df = pd.read_excel(os.path.join(df1_fold, file_name))\n",
    "df.info()"
   ]
  },
  {
   "cell_type": "code",
   "execution_count": 7,
   "metadata": {},
   "outputs": [
    {
     "name": "stdout",
     "output_type": "stream",
     "text": [
      "<class 'pandas.core.frame.DataFrame'>\n",
      "RangeIndex: 163294 entries, 0 to 163293\n",
      "Data columns (total 9 columns):\n",
      " #   Column  Non-Null Count   Dtype  \n",
      "---  ------  --------------   -----  \n",
      " 0   적발지역    163294 non-null  object \n",
      " 1   적발시도    163294 non-null  object \n",
      " 2   차대번호    163294 non-null  object \n",
      " 3   계절제_1차  39111 non-null   float64\n",
      " 4   계절제_2차  58088 non-null   float64\n",
      " 5   계절제_3차  73775 non-null   float64\n",
      " 6   계절제_4차  31673 non-null   float64\n",
      " 7   차종      162378 non-null  object \n",
      " 8   차종유형    162378 non-null  object \n",
      "dtypes: float64(4), object(5)\n",
      "memory usage: 11.2+ MB\n"
     ]
    }
   ],
   "source": [
    "# about \n",
    "name = '계절제 적발지역 차대번호'\n",
    "file_name = f'{name}.csv'\n",
    "df = pd.read_csv(os.path.join(df3_fold, file_name), encoding='cp949')\n",
    "df.info()"
   ]
  },
  {
   "cell_type": "code",
   "execution_count": 8,
   "metadata": {},
   "outputs": [
    {
     "data": {
      "text/plain": [
       "Index(['적발지역', '적발시도', '차대번호', '계절제_1차', '계절제_2차', '계절제_3차', '계절제_4차', '차종',\n",
       "       '차종유형'],\n",
       "      dtype='object')"
      ]
     },
     "execution_count": 8,
     "metadata": {},
     "output_type": "execute_result"
    }
   ],
   "source": [
    "df.columns"
   ]
  },
  {
   "cell_type": "code",
   "execution_count": 9,
   "metadata": {},
   "outputs": [],
   "source": [
    "chc_dict = {\n",
    "    '적발지역':'DSCL_RGN',\n",
    "    '적발시도':'DSCL_CTPV',\n",
    "    '차대번호':'VIN',\n",
    "    '계절제_1차':'SEASON_1ODR_CRDN_NOCS',\n",
    "    '계절제_2차':'SEASON_2ODR_CRDN_NOCS',\n",
    "    '계절제_3차':'SEASON_3ODR_CRDN_NOCS',\n",
    "    '계절제_4차':'SEASON_4ODR_CRDN_NOCS',\n",
    "    '차종':'VHCTY_CD',\n",
    "    '차종유형':'VHCTY_TY',\n",
    "            }"
   ]
  },
  {
   "cell_type": "code",
   "execution_count": 10,
   "metadata": {},
   "outputs": [
    {
     "data": {
      "text/plain": [
       "Index(['DSCL_RGN', 'DSCL_CTPV', 'VIN', 'SEASON_1ODR_CRDN_NOCS',\n",
       "       'SEASON_2ODR_CRDN_NOCS', 'SEASON_3ODR_CRDN_NOCS',\n",
       "       'SEASON_4ODR_CRDN_NOCS', 'VHCTY_CD', 'VHCTY_TY'],\n",
       "      dtype='object')"
      ]
     },
     "execution_count": 10,
     "metadata": {},
     "output_type": "execute_result"
    }
   ],
   "source": [
    "df = df.rename(columns=chc_dict)\n",
    "df.columns"
   ]
  },
  {
   "cell_type": "code",
   "execution_count": 11,
   "metadata": {},
   "outputs": [],
   "source": [
    "df.to_csv(os.path.join(df3_fold, f'{name}.csv'), index=False)"
   ]
  },
  {
   "cell_type": "code",
   "execution_count": null,
   "metadata": {},
   "outputs": [],
   "source": []
  },
  {
   "cell_type": "code",
   "execution_count": 12,
   "metadata": {},
   "outputs": [
    {
     "name": "stdout",
     "output_type": "stream",
     "text": [
      "<class 'pandas.core.frame.DataFrame'>\n",
      "RangeIndex: 153422 entries, 0 to 153421\n",
      "Data columns (total 10 columns):\n",
      " #   Column   Non-Null Count   Dtype  \n",
      "---  ------   --------------   -----  \n",
      " 0   VIN      153422 non-null  object \n",
      " 1   계절제_1차   37861 non-null   float64\n",
      " 2   계절제_2차   54788 non-null   float64\n",
      " 3   계절제_3차   68278 non-null   float64\n",
      " 4   계절제_4차   29307 non-null   float64\n",
      " 5   지역       152547 non-null  object \n",
      " 6   시도       152547 non-null  object \n",
      " 7   DPF부착유무  153422 non-null  object \n",
      " 8   차종       152547 non-null  object \n",
      " 9   차종유형     152547 non-null  object \n",
      "dtypes: float64(4), object(6)\n",
      "memory usage: 11.7+ MB\n"
     ]
    }
   ],
   "source": [
    "# about \n",
    "name = '차대번호별 적발건수, 지역, 차종'\n",
    "file_name = f'{name}.csv'\n",
    "df = pd.read_csv(os.path.join(df3_fold, file_name), encoding='cp949')\n",
    "df.info()"
   ]
  },
  {
   "cell_type": "code",
   "execution_count": 13,
   "metadata": {},
   "outputs": [
    {
     "data": {
      "text/plain": [
       "Index(['VIN', '계절제_1차', '계절제_2차', '계절제_3차', '계절제_4차', '지역', '시도', 'DPF부착유무',\n",
       "       '차종', '차종유형'],\n",
       "      dtype='object')"
      ]
     },
     "execution_count": 13,
     "metadata": {},
     "output_type": "execute_result"
    }
   ],
   "source": [
    "df.columns"
   ]
  },
  {
   "cell_type": "code",
   "execution_count": 14,
   "metadata": {},
   "outputs": [],
   "source": [
    "chc_dict = {\n",
    "    '차대번호':'VIN',\n",
    "    '계절제_1차':'SEASON_1ODR_CRDN_NOCS',\n",
    "    '계절제_2차':'SEASON_2ODR_CRDN_NOCS',\n",
    "    '계절제_3차':'SEASON_3ODR_CRDN_NOCS',\n",
    "    '계절제_4차':'SEASON_4ODR_CRDN_NOCS',\n",
    "    '지역':'RGN',\n",
    "    '시도':'CTPV',\n",
    "    'DPF부착유무':'DPF_EXTRNS_YN',\n",
    "    '차종':'VHCTY_CD',\n",
    "    '차종유형':'VHCTY_TY',\n",
    "            }"
   ]
  },
  {
   "cell_type": "code",
   "execution_count": 15,
   "metadata": {},
   "outputs": [
    {
     "data": {
      "text/plain": [
       "Index(['VIN', 'SEASON_1ODR_CRDN_NOCS', 'SEASON_2ODR_CRDN_NOCS',\n",
       "       'SEASON_3ODR_CRDN_NOCS', 'SEASON_4ODR_CRDN_NOCS', 'RGN', 'CTPV',\n",
       "       'DPF_EXTRNS_YN', 'VHCTY_CD', 'VHCTY_TY'],\n",
       "      dtype='object')"
      ]
     },
     "execution_count": 15,
     "metadata": {},
     "output_type": "execute_result"
    }
   ],
   "source": [
    "df = df.rename(columns=chc_dict)\n",
    "df.columns"
   ]
  },
  {
   "cell_type": "code",
   "execution_count": 16,
   "metadata": {},
   "outputs": [],
   "source": [
    "df.to_csv(os.path.join(df3_fold, f'{name}.csv'), index=False)"
   ]
  },
  {
   "cell_type": "code",
   "execution_count": null,
   "metadata": {},
   "outputs": [],
   "source": []
  },
  {
   "cell_type": "code",
   "execution_count": null,
   "metadata": {},
   "outputs": [],
   "source": [
    "name = '용도별_차종별_시군구별_자동차1일평균주행거리(2021)'\n",
    "fold = raw1_fold\n",
    "etoc(name, fold)"
   ]
  },
  {
   "cell_type": "code",
   "execution_count": 23,
   "metadata": {},
   "outputs": [
    {
     "name": "stdout",
     "output_type": "stream",
     "text": [
      "<class 'pandas.core.frame.DataFrame'>\n",
      "RangeIndex: 1230 entries, 0 to 1229\n",
      "Data columns (total 4 columns):\n",
      " #   Column  Non-Null Count  Dtype  \n",
      "---  ------  --------------  -----  \n",
      " 0   시도명     1230 non-null   object \n",
      " 1   시군구명    1230 non-null   object \n",
      " 2   차종      1230 non-null   object \n",
      " 3   전체      1230 non-null   float64\n",
      "dtypes: float64(1), object(3)\n",
      "memory usage: 38.6+ KB\n"
     ]
    }
   ],
   "source": [
    "# about \n",
    "name = '용도별_차종별_시군구별_자동차1일평균주행거리(2021)'\n",
    "file_name = f'{name}.csv'\n",
    "df = pd.read_csv(os.path.join(raw1_fold, file_name))\n",
    "df.info()"
   ]
  },
  {
   "cell_type": "code",
   "execution_count": 24,
   "metadata": {},
   "outputs": [
    {
     "data": {
      "text/plain": [
       "Index(['시도명', '시군구명', '차종', '전체'], dtype='object')"
      ]
     },
     "execution_count": 24,
     "metadata": {},
     "output_type": "execute_result"
    }
   ],
   "source": [
    "df.columns"
   ]
  },
  {
   "cell_type": "code",
   "execution_count": 25,
   "metadata": {},
   "outputs": [],
   "source": [
    "chc_dict = {\n",
    "    '시도명':'CTPV', \n",
    "    '시군구명':'SGG', \n",
    "    '차종':'VHCTY_CD', \n",
    "    '전체':'DY_AVRG_DRVNG_DSTNC',\n",
    "            }"
   ]
  },
  {
   "cell_type": "code",
   "execution_count": 26,
   "metadata": {},
   "outputs": [
    {
     "data": {
      "text/plain": [
       "Index(['CTPV', 'SGG', 'VHCTY_CD', 'DY_AVRG_DRVNG_DSTNC'], dtype='object')"
      ]
     },
     "execution_count": 26,
     "metadata": {},
     "output_type": "execute_result"
    }
   ],
   "source": [
    "df = df.rename(columns=chc_dict)\n",
    "df.columns"
   ]
  },
  {
   "cell_type": "code",
   "execution_count": 13,
   "metadata": {},
   "outputs": [],
   "source": [
    "df.to_csv(os.path.join(raw1_fold, f'{name}.csv'), index=False)"
   ]
  },
  {
   "cell_type": "code",
   "execution_count": null,
   "metadata": {},
   "outputs": [],
   "source": []
  },
  {
   "cell_type": "code",
   "execution_count": 16,
   "metadata": {},
   "outputs": [
    {
     "name": "stdout",
     "output_type": "stream",
     "text": [
      "<class 'pandas.core.frame.DataFrame'>\n",
      "RangeIndex: 111071 entries, 0 to 111070\n",
      "Data columns (total 6 columns):\n",
      " #   Column    Non-Null Count   Dtype  \n",
      "---  ------    --------------   -----  \n",
      " 0   저감장치      111071 non-null  object \n",
      " 1   배출가스인증번호  111071 non-null  object \n",
      " 2   장치일련번호    111071 non-null  object \n",
      " 3   장치인증번호    303 non-null     object \n",
      " 4   장치구분      261 non-null     object \n",
      " 5   저감효율      303 non-null     float64\n",
      "dtypes: float64(1), object(5)\n",
      "memory usage: 5.1+ MB\n"
     ]
    }
   ],
   "source": [
    "# about \n",
    "name = '저감장치_효율(2022.12.28)'\n",
    "file_name = f'{name}.csv'\n",
    "df = pd.read_csv(os.path.join(ods_fold, file_name), encoding='cp949')\n",
    "df.info()"
   ]
  },
  {
   "cell_type": "code",
   "execution_count": 17,
   "metadata": {},
   "outputs": [
    {
     "data": {
      "text/plain": [
       "Index(['저감장치', '배출가스인증번호', '장치일련번호', '장치인증번호', '장치구분', '저감효율'], dtype='object')"
      ]
     },
     "execution_count": 17,
     "metadata": {},
     "output_type": "execute_result"
    }
   ],
   "source": [
    "df.columns"
   ]
  },
  {
   "cell_type": "code",
   "execution_count": 18,
   "metadata": {},
   "outputs": [],
   "source": [
    "chc_dict = {\n",
    "    '저감장치':'RDCDVC', \n",
    "    '배출가스인증번호':'EXHST_GAS_CERT_NO', \n",
    "    '장치일련번호':'DVICE_SN', \n",
    "    '장치인증번호':'DVICE_CERT_NO', \n",
    "    '장치구분':'RDCDVC_SE', \n",
    "    '저감효율':'REDUC_EFCNY',\n",
    "            }"
   ]
  },
  {
   "cell_type": "code",
   "execution_count": 19,
   "metadata": {},
   "outputs": [
    {
     "data": {
      "text/plain": [
       "Index(['RDCDVC', 'EXHST_GAS_CERT_NO', 'DVICE_SN', 'DVICE_CERT_NO', 'RDCDVC_SE',\n",
       "       'REDUC_EFCNY'],\n",
       "      dtype='object')"
      ]
     },
     "execution_count": 19,
     "metadata": {},
     "output_type": "execute_result"
    }
   ],
   "source": [
    "df = df.rename(columns=chc_dict)\n",
    "df.columns"
   ]
  },
  {
   "cell_type": "code",
   "execution_count": 20,
   "metadata": {},
   "outputs": [],
   "source": [
    "df.to_csv(os.path.join(ods_fold, f'{name}.csv'), index=False)"
   ]
  },
  {
   "cell_type": "markdown",
   "metadata": {},
   "source": [
    "## STD_BD_CAR_CURSTT_MOD"
   ]
  },
  {
   "cell_type": "code",
   "execution_count": 7,
   "metadata": {},
   "outputs": [
    {
     "ename": "FileNotFoundError",
     "evalue": "[Errno 2] No such file or directory: 'E:/data/complete/big2/BD3/raw\\\\STD_BD_CAR_CURSTT_MOD.xlsx'",
     "output_type": "error",
     "traceback": [
      "\u001b[1;31m---------------------------------------------------------------------------\u001b[0m",
      "\u001b[1;31mFileNotFoundError\u001b[0m                         Traceback (most recent call last)",
      "\u001b[1;32mc:\\Users\\kbjung\\Documents\\GitHub\\wabotech\\complete\\car2_exasol\\xlsx_to_csv.ipynb 셀 40\u001b[0m line \u001b[0;36m4\n\u001b[0;32m      <a href='vscode-notebook-cell:/c%3A/Users/kbjung/Documents/GitHub/wabotech/complete/car2_exasol/xlsx_to_csv.ipynb#X54sZmlsZQ%3D%3D?line=1'>2</a>\u001b[0m name \u001b[39m=\u001b[39m \u001b[39m'\u001b[39m\u001b[39mSTD_BD_CAR_CURSTT_MOD\u001b[39m\u001b[39m'\u001b[39m\n\u001b[0;32m      <a href='vscode-notebook-cell:/c%3A/Users/kbjung/Documents/GitHub/wabotech/complete/car2_exasol/xlsx_to_csv.ipynb#X54sZmlsZQ%3D%3D?line=2'>3</a>\u001b[0m file_name \u001b[39m=\u001b[39m \u001b[39mf\u001b[39m\u001b[39m'\u001b[39m\u001b[39m{\u001b[39;00mname\u001b[39m}\u001b[39;00m\u001b[39m.xlsx\u001b[39m\u001b[39m'\u001b[39m\n\u001b[1;32m----> <a href='vscode-notebook-cell:/c%3A/Users/kbjung/Documents/GitHub/wabotech/complete/car2_exasol/xlsx_to_csv.ipynb#X54sZmlsZQ%3D%3D?line=3'>4</a>\u001b[0m df \u001b[39m=\u001b[39m pd\u001b[39m.\u001b[39mread_excel(os\u001b[39m.\u001b[39mpath\u001b[39m.\u001b[39mjoin(raw3_fold, file_name))\n\u001b[0;32m      <a href='vscode-notebook-cell:/c%3A/Users/kbjung/Documents/GitHub/wabotech/complete/car2_exasol/xlsx_to_csv.ipynb#X54sZmlsZQ%3D%3D?line=4'>5</a>\u001b[0m df\u001b[39m.\u001b[39minfo()\n",
      "File \u001b[1;32mc:\\Users\\kbjung\\anaconda3\\Lib\\site-packages\\pandas\\util\\_decorators.py:211\u001b[0m, in \u001b[0;36mdeprecate_kwarg.<locals>._deprecate_kwarg.<locals>.wrapper\u001b[1;34m(*args, **kwargs)\u001b[0m\n\u001b[0;32m    209\u001b[0m     \u001b[39melse\u001b[39;00m:\n\u001b[0;32m    210\u001b[0m         kwargs[new_arg_name] \u001b[39m=\u001b[39m new_arg_value\n\u001b[1;32m--> 211\u001b[0m \u001b[39mreturn\u001b[39;00m func(\u001b[39m*\u001b[39margs, \u001b[39m*\u001b[39m\u001b[39m*\u001b[39mkwargs)\n",
      "File \u001b[1;32mc:\\Users\\kbjung\\anaconda3\\Lib\\site-packages\\pandas\\util\\_decorators.py:331\u001b[0m, in \u001b[0;36mdeprecate_nonkeyword_arguments.<locals>.decorate.<locals>.wrapper\u001b[1;34m(*args, **kwargs)\u001b[0m\n\u001b[0;32m    325\u001b[0m \u001b[39mif\u001b[39;00m \u001b[39mlen\u001b[39m(args) \u001b[39m>\u001b[39m num_allow_args:\n\u001b[0;32m    326\u001b[0m     warnings\u001b[39m.\u001b[39mwarn(\n\u001b[0;32m    327\u001b[0m         msg\u001b[39m.\u001b[39mformat(arguments\u001b[39m=\u001b[39m_format_argument_list(allow_args)),\n\u001b[0;32m    328\u001b[0m         \u001b[39mFutureWarning\u001b[39;00m,\n\u001b[0;32m    329\u001b[0m         stacklevel\u001b[39m=\u001b[39mfind_stack_level(),\n\u001b[0;32m    330\u001b[0m     )\n\u001b[1;32m--> 331\u001b[0m \u001b[39mreturn\u001b[39;00m func(\u001b[39m*\u001b[39margs, \u001b[39m*\u001b[39m\u001b[39m*\u001b[39mkwargs)\n",
      "File \u001b[1;32mc:\\Users\\kbjung\\anaconda3\\Lib\\site-packages\\pandas\\io\\excel\\_base.py:482\u001b[0m, in \u001b[0;36mread_excel\u001b[1;34m(io, sheet_name, header, names, index_col, usecols, squeeze, dtype, engine, converters, true_values, false_values, skiprows, nrows, na_values, keep_default_na, na_filter, verbose, parse_dates, date_parser, thousands, decimal, comment, skipfooter, convert_float, mangle_dupe_cols, storage_options)\u001b[0m\n\u001b[0;32m    480\u001b[0m \u001b[39mif\u001b[39;00m \u001b[39mnot\u001b[39;00m \u001b[39misinstance\u001b[39m(io, ExcelFile):\n\u001b[0;32m    481\u001b[0m     should_close \u001b[39m=\u001b[39m \u001b[39mTrue\u001b[39;00m\n\u001b[1;32m--> 482\u001b[0m     io \u001b[39m=\u001b[39m ExcelFile(io, storage_options\u001b[39m=\u001b[39mstorage_options, engine\u001b[39m=\u001b[39mengine)\n\u001b[0;32m    483\u001b[0m \u001b[39melif\u001b[39;00m engine \u001b[39mand\u001b[39;00m engine \u001b[39m!=\u001b[39m io\u001b[39m.\u001b[39mengine:\n\u001b[0;32m    484\u001b[0m     \u001b[39mraise\u001b[39;00m \u001b[39mValueError\u001b[39;00m(\n\u001b[0;32m    485\u001b[0m         \u001b[39m\"\u001b[39m\u001b[39mEngine should not be specified when passing \u001b[39m\u001b[39m\"\u001b[39m\n\u001b[0;32m    486\u001b[0m         \u001b[39m\"\u001b[39m\u001b[39man ExcelFile - ExcelFile already has the engine set\u001b[39m\u001b[39m\"\u001b[39m\n\u001b[0;32m    487\u001b[0m     )\n",
      "File \u001b[1;32mc:\\Users\\kbjung\\anaconda3\\Lib\\site-packages\\pandas\\io\\excel\\_base.py:1652\u001b[0m, in \u001b[0;36mExcelFile.__init__\u001b[1;34m(self, path_or_buffer, engine, storage_options)\u001b[0m\n\u001b[0;32m   1650\u001b[0m     ext \u001b[39m=\u001b[39m \u001b[39m\"\u001b[39m\u001b[39mxls\u001b[39m\u001b[39m\"\u001b[39m\n\u001b[0;32m   1651\u001b[0m \u001b[39melse\u001b[39;00m:\n\u001b[1;32m-> 1652\u001b[0m     ext \u001b[39m=\u001b[39m inspect_excel_format(\n\u001b[0;32m   1653\u001b[0m         content_or_path\u001b[39m=\u001b[39mpath_or_buffer, storage_options\u001b[39m=\u001b[39mstorage_options\n\u001b[0;32m   1654\u001b[0m     )\n\u001b[0;32m   1655\u001b[0m     \u001b[39mif\u001b[39;00m ext \u001b[39mis\u001b[39;00m \u001b[39mNone\u001b[39;00m:\n\u001b[0;32m   1656\u001b[0m         \u001b[39mraise\u001b[39;00m \u001b[39mValueError\u001b[39;00m(\n\u001b[0;32m   1657\u001b[0m             \u001b[39m\"\u001b[39m\u001b[39mExcel file format cannot be determined, you must specify \u001b[39m\u001b[39m\"\u001b[39m\n\u001b[0;32m   1658\u001b[0m             \u001b[39m\"\u001b[39m\u001b[39man engine manually.\u001b[39m\u001b[39m\"\u001b[39m\n\u001b[0;32m   1659\u001b[0m         )\n",
      "File \u001b[1;32mc:\\Users\\kbjung\\anaconda3\\Lib\\site-packages\\pandas\\io\\excel\\_base.py:1525\u001b[0m, in \u001b[0;36minspect_excel_format\u001b[1;34m(content_or_path, storage_options)\u001b[0m\n\u001b[0;32m   1522\u001b[0m \u001b[39mif\u001b[39;00m \u001b[39misinstance\u001b[39m(content_or_path, \u001b[39mbytes\u001b[39m):\n\u001b[0;32m   1523\u001b[0m     content_or_path \u001b[39m=\u001b[39m BytesIO(content_or_path)\n\u001b[1;32m-> 1525\u001b[0m \u001b[39mwith\u001b[39;00m get_handle(\n\u001b[0;32m   1526\u001b[0m     content_or_path, \u001b[39m\"\u001b[39m\u001b[39mrb\u001b[39m\u001b[39m\"\u001b[39m, storage_options\u001b[39m=\u001b[39mstorage_options, is_text\u001b[39m=\u001b[39m\u001b[39mFalse\u001b[39;00m\n\u001b[0;32m   1527\u001b[0m ) \u001b[39mas\u001b[39;00m handle:\n\u001b[0;32m   1528\u001b[0m     stream \u001b[39m=\u001b[39m handle\u001b[39m.\u001b[39mhandle\n\u001b[0;32m   1529\u001b[0m     stream\u001b[39m.\u001b[39mseek(\u001b[39m0\u001b[39m)\n",
      "File \u001b[1;32mc:\\Users\\kbjung\\anaconda3\\Lib\\site-packages\\pandas\\io\\common.py:865\u001b[0m, in \u001b[0;36mget_handle\u001b[1;34m(path_or_buf, mode, encoding, compression, memory_map, is_text, errors, storage_options)\u001b[0m\n\u001b[0;32m    856\u001b[0m         handle \u001b[39m=\u001b[39m \u001b[39mopen\u001b[39m(\n\u001b[0;32m    857\u001b[0m             handle,\n\u001b[0;32m    858\u001b[0m             ioargs\u001b[39m.\u001b[39mmode,\n\u001b[1;32m   (...)\u001b[0m\n\u001b[0;32m    861\u001b[0m             newline\u001b[39m=\u001b[39m\u001b[39m\"\u001b[39m\u001b[39m\"\u001b[39m,\n\u001b[0;32m    862\u001b[0m         )\n\u001b[0;32m    863\u001b[0m     \u001b[39melse\u001b[39;00m:\n\u001b[0;32m    864\u001b[0m         \u001b[39m# Binary mode\u001b[39;00m\n\u001b[1;32m--> 865\u001b[0m         handle \u001b[39m=\u001b[39m \u001b[39mopen\u001b[39m(handle, ioargs\u001b[39m.\u001b[39mmode)\n\u001b[0;32m    866\u001b[0m     handles\u001b[39m.\u001b[39mappend(handle)\n\u001b[0;32m    868\u001b[0m \u001b[39m# Convert BytesIO or file objects passed with an encoding\u001b[39;00m\n",
      "\u001b[1;31mFileNotFoundError\u001b[0m: [Errno 2] No such file or directory: 'E:/data/complete/big2/BD3/raw\\\\STD_BD_CAR_CURSTT_MOD.xlsx'"
     ]
    }
   ],
   "source": [
    "# about \n",
    "name = 'STD_BD_CAR_CURSTT_MOD'\n",
    "file_name = f'{name}.xlsx'\n",
    "df = pd.read_excel(os.path.join(raw3_fold, file_name))\n",
    "df.info()"
   ]
  },
  {
   "cell_type": "code",
   "execution_count": 8,
   "metadata": {},
   "outputs": [
    {
     "data": {
      "text/html": [
       "<div>\n",
       "<style scoped>\n",
       "    .dataframe tbody tr th:only-of-type {\n",
       "        vertical-align: middle;\n",
       "    }\n",
       "\n",
       "    .dataframe tbody tr th {\n",
       "        vertical-align: top;\n",
       "    }\n",
       "\n",
       "    .dataframe thead th {\n",
       "        text-align: right;\n",
       "    }\n",
       "</style>\n",
       "<table border=\"1\" class=\"dataframe\">\n",
       "  <thead>\n",
       "    <tr style=\"text-align: right;\">\n",
       "      <th></th>\n",
       "      <th>CRTR_YM</th>\n",
       "      <th>YR</th>\n",
       "      <th>RGN</th>\n",
       "      <th>CTPV_NM</th>\n",
       "      <th>EXHST_GAS_GRD_CD</th>\n",
       "      <th>VHCL_MKCNT</th>\n",
       "      <th>LOAD_DT</th>\n",
       "    </tr>\n",
       "  </thead>\n",
       "  <tbody>\n",
       "    <tr>\n",
       "      <th>0</th>\n",
       "      <td>201907</td>\n",
       "      <td>2019</td>\n",
       "      <td>수도권</td>\n",
       "      <td>서울특별시</td>\n",
       "      <td>1</td>\n",
       "      <td>245668</td>\n",
       "      <td>20230803</td>\n",
       "    </tr>\n",
       "    <tr>\n",
       "      <th>1</th>\n",
       "      <td>201907</td>\n",
       "      <td>2019</td>\n",
       "      <td>수도권</td>\n",
       "      <td>서울특별시</td>\n",
       "      <td>2</td>\n",
       "      <td>1283202</td>\n",
       "      <td>20230803</td>\n",
       "    </tr>\n",
       "    <tr>\n",
       "      <th>2</th>\n",
       "      <td>201907</td>\n",
       "      <td>2019</td>\n",
       "      <td>수도권</td>\n",
       "      <td>서울특별시</td>\n",
       "      <td>3</td>\n",
       "      <td>1101919</td>\n",
       "      <td>20230803</td>\n",
       "    </tr>\n",
       "    <tr>\n",
       "      <th>3</th>\n",
       "      <td>201907</td>\n",
       "      <td>2019</td>\n",
       "      <td>수도권</td>\n",
       "      <td>서울특별시</td>\n",
       "      <td>4</td>\n",
       "      <td>244329</td>\n",
       "      <td>20230803</td>\n",
       "    </tr>\n",
       "    <tr>\n",
       "      <th>4</th>\n",
       "      <td>201907</td>\n",
       "      <td>2019</td>\n",
       "      <td>수도권</td>\n",
       "      <td>서울특별시</td>\n",
       "      <td>5</td>\n",
       "      <td>215777</td>\n",
       "      <td>20230803</td>\n",
       "    </tr>\n",
       "  </tbody>\n",
       "</table>\n",
       "</div>"
      ],
      "text/plain": [
       "   CRTR_YM    YR  RGN CTPV_NM EXHST_GAS_GRD_CD  VHCL_MKCNT   LOAD_DT\n",
       "0   201907  2019  수도권   서울특별시                1      245668  20230803\n",
       "1   201907  2019  수도권   서울특별시                2     1283202  20230803\n",
       "2   201907  2019  수도권   서울특별시                3     1101919  20230803\n",
       "3   201907  2019  수도권   서울특별시                4      244329  20230803\n",
       "4   201907  2019  수도권   서울특별시                5      215777  20230803"
      ]
     },
     "execution_count": 8,
     "metadata": {},
     "output_type": "execute_result"
    }
   ],
   "source": [
    "df.head()"
   ]
  },
  {
   "cell_type": "code",
   "execution_count": 10,
   "metadata": {},
   "outputs": [
    {
     "data": {
      "text/plain": [
       "'20231024'"
      ]
     },
     "execution_count": 10,
     "metadata": {},
     "output_type": "execute_result"
    }
   ],
   "source": [
    "today_date = datetime.today().strftime('%Y%m%d')\n",
    "today_date"
   ]
  },
  {
   "cell_type": "code",
   "execution_count": 12,
   "metadata": {},
   "outputs": [
    {
     "data": {
      "text/html": [
       "<div>\n",
       "<style scoped>\n",
       "    .dataframe tbody tr th:only-of-type {\n",
       "        vertical-align: middle;\n",
       "    }\n",
       "\n",
       "    .dataframe tbody tr th {\n",
       "        vertical-align: top;\n",
       "    }\n",
       "\n",
       "    .dataframe thead th {\n",
       "        text-align: right;\n",
       "    }\n",
       "</style>\n",
       "<table border=\"1\" class=\"dataframe\">\n",
       "  <thead>\n",
       "    <tr style=\"text-align: right;\">\n",
       "      <th></th>\n",
       "      <th>CRTR_YM</th>\n",
       "      <th>YR</th>\n",
       "      <th>RGN</th>\n",
       "      <th>CTPV_NM</th>\n",
       "      <th>EXHST_GAS_GRD_CD</th>\n",
       "      <th>VHCL_MKCNT</th>\n",
       "      <th>LOAD_DT</th>\n",
       "    </tr>\n",
       "  </thead>\n",
       "  <tbody>\n",
       "    <tr>\n",
       "      <th>0</th>\n",
       "      <td>201907</td>\n",
       "      <td>2019</td>\n",
       "      <td>수도권</td>\n",
       "      <td>서울특별시</td>\n",
       "      <td>1</td>\n",
       "      <td>245668</td>\n",
       "      <td>20231024</td>\n",
       "    </tr>\n",
       "    <tr>\n",
       "      <th>1</th>\n",
       "      <td>201907</td>\n",
       "      <td>2019</td>\n",
       "      <td>수도권</td>\n",
       "      <td>서울특별시</td>\n",
       "      <td>2</td>\n",
       "      <td>1283202</td>\n",
       "      <td>20231024</td>\n",
       "    </tr>\n",
       "    <tr>\n",
       "      <th>2</th>\n",
       "      <td>201907</td>\n",
       "      <td>2019</td>\n",
       "      <td>수도권</td>\n",
       "      <td>서울특별시</td>\n",
       "      <td>3</td>\n",
       "      <td>1101919</td>\n",
       "      <td>20231024</td>\n",
       "    </tr>\n",
       "    <tr>\n",
       "      <th>3</th>\n",
       "      <td>201907</td>\n",
       "      <td>2019</td>\n",
       "      <td>수도권</td>\n",
       "      <td>서울특별시</td>\n",
       "      <td>4</td>\n",
       "      <td>244329</td>\n",
       "      <td>20231024</td>\n",
       "    </tr>\n",
       "    <tr>\n",
       "      <th>4</th>\n",
       "      <td>201907</td>\n",
       "      <td>2019</td>\n",
       "      <td>수도권</td>\n",
       "      <td>서울특별시</td>\n",
       "      <td>5</td>\n",
       "      <td>215777</td>\n",
       "      <td>20231024</td>\n",
       "    </tr>\n",
       "  </tbody>\n",
       "</table>\n",
       "</div>"
      ],
      "text/plain": [
       "   CRTR_YM    YR  RGN CTPV_NM EXHST_GAS_GRD_CD  VHCL_MKCNT   LOAD_DT\n",
       "0   201907  2019  수도권   서울특별시                1      245668  20231024\n",
       "1   201907  2019  수도권   서울특별시                2     1283202  20231024\n",
       "2   201907  2019  수도권   서울특별시                3     1101919  20231024\n",
       "3   201907  2019  수도권   서울특별시                4      244329  20231024\n",
       "4   201907  2019  수도권   서울특별시                5      215777  20231024"
      ]
     },
     "execution_count": 12,
     "metadata": {},
     "output_type": "execute_result"
    }
   ],
   "source": [
    "df.LOAD_DT = int(today_date)\n",
    "df.head()"
   ]
  },
  {
   "cell_type": "code",
   "execution_count": 13,
   "metadata": {},
   "outputs": [
    {
     "name": "stdout",
     "output_type": "stream",
     "text": [
      "<class 'pandas.core.frame.DataFrame'>\n",
      "RangeIndex: 4998 entries, 0 to 4997\n",
      "Data columns (total 7 columns):\n",
      " #   Column            Non-Null Count  Dtype \n",
      "---  ------            --------------  ----- \n",
      " 0   CRTR_YM           4998 non-null   int64 \n",
      " 1   YR                4998 non-null   int64 \n",
      " 2   RGN               4998 non-null   object\n",
      " 3   CTPV_NM           4998 non-null   object\n",
      " 4   EXHST_GAS_GRD_CD  4998 non-null   object\n",
      " 5   VHCL_MKCNT        4998 non-null   int64 \n",
      " 6   LOAD_DT           4998 non-null   int64 \n",
      "dtypes: int64(4), object(3)\n",
      "memory usage: 273.5+ KB\n"
     ]
    }
   ],
   "source": [
    "df.info()"
   ]
  },
  {
   "cell_type": "code",
   "execution_count": 14,
   "metadata": {},
   "outputs": [
    {
     "data": {
      "text/plain": [
       "array([1, 2, 3, 4, 5, 'X'], dtype=object)"
      ]
     },
     "execution_count": 14,
     "metadata": {},
     "output_type": "execute_result"
    }
   ],
   "source": [
    "df.EXHST_GAS_GRD_CD.unique()"
   ]
  },
  {
   "cell_type": "code",
   "execution_count": 16,
   "metadata": {},
   "outputs": [
    {
     "data": {
      "text/plain": [
       "array(['1', '2', '3', '4', '5', '미분류'], dtype=object)"
      ]
     },
     "execution_count": 16,
     "metadata": {},
     "output_type": "execute_result"
    }
   ],
   "source": [
    "grd_dict = {\n",
    "    1:'1', \n",
    "    2:'2', \n",
    "    3:'3', \n",
    "    4:'4', \n",
    "    5:'5', \n",
    "    'X':'미분류', \n",
    "}\n",
    "df.EXHST_GAS_GRD_CD = df.EXHST_GAS_GRD_CD.replace(grd_dict)\n",
    "df.EXHST_GAS_GRD_CD.unique()"
   ]
  },
  {
   "cell_type": "code",
   "execution_count": 18,
   "metadata": {},
   "outputs": [],
   "source": [
    "# 0.1s\n",
    "df.to_csv(os.path.join(df3_fold, f'{name}.csv'), index=False)"
   ]
  },
  {
   "cell_type": "markdown",
   "metadata": {},
   "source": [
    "## STD_BD_CAR_CURSTT_MOD2"
   ]
  },
  {
   "cell_type": "code",
   "execution_count": 20,
   "metadata": {},
   "outputs": [
    {
     "name": "stdout",
     "output_type": "stream",
     "text": [
      "<class 'pandas.core.frame.DataFrame'>\n",
      "RangeIndex: 833 entries, 0 to 832\n",
      "Data columns (total 6 columns):\n",
      " #   Column            Non-Null Count  Dtype \n",
      "---  ------            --------------  ----- \n",
      " 0   CRTR_YM           833 non-null    int64 \n",
      " 1   YR                833 non-null    int64 \n",
      " 2   FUEL_CD           833 non-null    object\n",
      " 3   EXHST_GAS_GRD_CD  833 non-null    int64 \n",
      " 4   VHCL_MKCNT        833 non-null    int64 \n",
      " 5   LOAD_DT           833 non-null    int64 \n",
      "dtypes: int64(5), object(1)\n",
      "memory usage: 39.2+ KB\n"
     ]
    }
   ],
   "source": [
    "# about \n",
    "name = 'STD_BD_CAR_CURSTT_MOD2'\n",
    "file_name = f'{name}.xlsx'\n",
    "df = pd.read_excel(os.path.join(raw3_fold, file_name))\n",
    "df.info()"
   ]
  },
  {
   "cell_type": "code",
   "execution_count": 21,
   "metadata": {},
   "outputs": [
    {
     "data": {
      "text/plain": [
       "array([1, 2, 3, 4, 5], dtype=int64)"
      ]
     },
     "execution_count": 21,
     "metadata": {},
     "output_type": "execute_result"
    }
   ],
   "source": [
    "df.EXHST_GAS_GRD_CD.unique()"
   ]
  },
  {
   "cell_type": "code",
   "execution_count": 22,
   "metadata": {},
   "outputs": [
    {
     "data": {
      "text/plain": [
       "'20231024'"
      ]
     },
     "execution_count": 22,
     "metadata": {},
     "output_type": "execute_result"
    }
   ],
   "source": [
    "today_date = datetime.today().strftime('%Y%m%d')\n",
    "today_date"
   ]
  },
  {
   "cell_type": "code",
   "execution_count": 23,
   "metadata": {},
   "outputs": [
    {
     "data": {
      "text/html": [
       "<div>\n",
       "<style scoped>\n",
       "    .dataframe tbody tr th:only-of-type {\n",
       "        vertical-align: middle;\n",
       "    }\n",
       "\n",
       "    .dataframe tbody tr th {\n",
       "        vertical-align: top;\n",
       "    }\n",
       "\n",
       "    .dataframe thead th {\n",
       "        text-align: right;\n",
       "    }\n",
       "</style>\n",
       "<table border=\"1\" class=\"dataframe\">\n",
       "  <thead>\n",
       "    <tr style=\"text-align: right;\">\n",
       "      <th></th>\n",
       "      <th>CRTR_YM</th>\n",
       "      <th>YR</th>\n",
       "      <th>FUEL_CD</th>\n",
       "      <th>EXHST_GAS_GRD_CD</th>\n",
       "      <th>VHCL_MKCNT</th>\n",
       "      <th>LOAD_DT</th>\n",
       "    </tr>\n",
       "  </thead>\n",
       "  <tbody>\n",
       "    <tr>\n",
       "      <th>0</th>\n",
       "      <td>201907</td>\n",
       "      <td>2019</td>\n",
       "      <td>휘발유</td>\n",
       "      <td>1</td>\n",
       "      <td>925978</td>\n",
       "      <td>20231024</td>\n",
       "    </tr>\n",
       "    <tr>\n",
       "      <th>1</th>\n",
       "      <td>201907</td>\n",
       "      <td>2019</td>\n",
       "      <td>휘발유</td>\n",
       "      <td>2</td>\n",
       "      <td>8273839</td>\n",
       "      <td>20231024</td>\n",
       "    </tr>\n",
       "    <tr>\n",
       "      <th>2</th>\n",
       "      <td>201907</td>\n",
       "      <td>2019</td>\n",
       "      <td>휘발유</td>\n",
       "      <td>3</td>\n",
       "      <td>1612221</td>\n",
       "      <td>20231024</td>\n",
       "    </tr>\n",
       "    <tr>\n",
       "      <th>3</th>\n",
       "      <td>201907</td>\n",
       "      <td>2019</td>\n",
       "      <td>휘발유</td>\n",
       "      <td>4</td>\n",
       "      <td>437692</td>\n",
       "      <td>20231024</td>\n",
       "    </tr>\n",
       "    <tr>\n",
       "      <th>4</th>\n",
       "      <td>201907</td>\n",
       "      <td>2019</td>\n",
       "      <td>휘발유</td>\n",
       "      <td>5</td>\n",
       "      <td>30425</td>\n",
       "      <td>20231024</td>\n",
       "    </tr>\n",
       "  </tbody>\n",
       "</table>\n",
       "</div>"
      ],
      "text/plain": [
       "   CRTR_YM    YR FUEL_CD  EXHST_GAS_GRD_CD  VHCL_MKCNT   LOAD_DT\n",
       "0   201907  2019     휘발유                 1      925978  20231024\n",
       "1   201907  2019     휘발유                 2     8273839  20231024\n",
       "2   201907  2019     휘발유                 3     1612221  20231024\n",
       "3   201907  2019     휘발유                 4      437692  20231024\n",
       "4   201907  2019     휘발유                 5       30425  20231024"
      ]
     },
     "execution_count": 23,
     "metadata": {},
     "output_type": "execute_result"
    }
   ],
   "source": [
    "df.LOAD_DT = int(today_date)\n",
    "df.head()"
   ]
  },
  {
   "cell_type": "code",
   "execution_count": 24,
   "metadata": {},
   "outputs": [],
   "source": [
    "# 0.1s\n",
    "df.to_csv(os.path.join(df3_fold, f'{name}.csv'), index=False)"
   ]
  },
  {
   "cell_type": "markdown",
   "metadata": {},
   "source": [
    "## STD_BD_CAR_CURSTT_MOD_4RD_INS"
   ]
  },
  {
   "cell_type": "code",
   "execution_count": 25,
   "metadata": {},
   "outputs": [
    {
     "name": "stdout",
     "output_type": "stream",
     "text": [
      "<class 'pandas.core.frame.DataFrame'>\n",
      "RangeIndex: 510 entries, 0 to 509\n",
      "Data columns (total 7 columns):\n",
      " #   Column      Non-Null Count  Dtype         \n",
      "---  ------      --------------  -----         \n",
      " 0   YR          510 non-null    int64         \n",
      " 1   CRTR_YM     510 non-null    int64         \n",
      " 2   FUEL_CD     510 non-null    object        \n",
      " 3   RGN         510 non-null    object        \n",
      " 4   CTPV_NM     510 non-null    object        \n",
      " 5   VHCL_MKCNT  510 non-null    int64         \n",
      " 6   LOAD_DT     510 non-null    datetime64[ns]\n",
      "dtypes: datetime64[ns](1), int64(3), object(3)\n",
      "memory usage: 28.0+ KB\n"
     ]
    }
   ],
   "source": [
    "# about \n",
    "name = 'STD_BD_CAR_CURSTT_MOD_4RD_INS'\n",
    "file_name = f'{name}.xlsx'\n",
    "df = pd.read_excel(os.path.join(raw3_fold, file_name))\n",
    "df.info()"
   ]
  },
  {
   "cell_type": "code",
   "execution_count": 26,
   "metadata": {},
   "outputs": [
    {
     "data": {
      "text/html": [
       "<div>\n",
       "<style scoped>\n",
       "    .dataframe tbody tr th:only-of-type {\n",
       "        vertical-align: middle;\n",
       "    }\n",
       "\n",
       "    .dataframe tbody tr th {\n",
       "        vertical-align: top;\n",
       "    }\n",
       "\n",
       "    .dataframe thead th {\n",
       "        text-align: right;\n",
       "    }\n",
       "</style>\n",
       "<table border=\"1\" class=\"dataframe\">\n",
       "  <thead>\n",
       "    <tr style=\"text-align: right;\">\n",
       "      <th></th>\n",
       "      <th>YR</th>\n",
       "      <th>CRTR_YM</th>\n",
       "      <th>FUEL_CD</th>\n",
       "      <th>RGN</th>\n",
       "      <th>CTPV_NM</th>\n",
       "      <th>VHCL_MKCNT</th>\n",
       "      <th>LOAD_DT</th>\n",
       "    </tr>\n",
       "  </thead>\n",
       "  <tbody>\n",
       "    <tr>\n",
       "      <th>0</th>\n",
       "      <td>2023</td>\n",
       "      <td>202306</td>\n",
       "      <td>경유</td>\n",
       "      <td>수도권</td>\n",
       "      <td>서울</td>\n",
       "      <td>99250</td>\n",
       "      <td>2023-10-23</td>\n",
       "    </tr>\n",
       "    <tr>\n",
       "      <th>1</th>\n",
       "      <td>2023</td>\n",
       "      <td>202306</td>\n",
       "      <td>경유</td>\n",
       "      <td>수도권</td>\n",
       "      <td>인천</td>\n",
       "      <td>54184</td>\n",
       "      <td>2023-10-23</td>\n",
       "    </tr>\n",
       "    <tr>\n",
       "      <th>2</th>\n",
       "      <td>2023</td>\n",
       "      <td>202306</td>\n",
       "      <td>경유</td>\n",
       "      <td>수도권</td>\n",
       "      <td>경기</td>\n",
       "      <td>237064</td>\n",
       "      <td>2023-10-23</td>\n",
       "    </tr>\n",
       "    <tr>\n",
       "      <th>3</th>\n",
       "      <td>2023</td>\n",
       "      <td>202306</td>\n",
       "      <td>경유</td>\n",
       "      <td>비수도권</td>\n",
       "      <td>부산</td>\n",
       "      <td>52885</td>\n",
       "      <td>2023-10-23</td>\n",
       "    </tr>\n",
       "    <tr>\n",
       "      <th>4</th>\n",
       "      <td>2023</td>\n",
       "      <td>202306</td>\n",
       "      <td>경유</td>\n",
       "      <td>비수도권</td>\n",
       "      <td>대구</td>\n",
       "      <td>47224</td>\n",
       "      <td>2023-10-23</td>\n",
       "    </tr>\n",
       "  </tbody>\n",
       "</table>\n",
       "</div>"
      ],
      "text/plain": [
       "     YR  CRTR_YM FUEL_CD   RGN CTPV_NM  VHCL_MKCNT    LOAD_DT\n",
       "0  2023   202306      경유   수도권      서울       99250 2023-10-23\n",
       "1  2023   202306      경유   수도권      인천       54184 2023-10-23\n",
       "2  2023   202306      경유   수도권      경기      237064 2023-10-23\n",
       "3  2023   202306      경유  비수도권      부산       52885 2023-10-23\n",
       "4  2023   202306      경유  비수도권      대구       47224 2023-10-23"
      ]
     },
     "execution_count": 26,
     "metadata": {},
     "output_type": "execute_result"
    }
   ],
   "source": [
    "df.head()"
   ]
  },
  {
   "cell_type": "code",
   "execution_count": 27,
   "metadata": {},
   "outputs": [],
   "source": [
    "# 0.1s\n",
    "df.to_csv(os.path.join(df3_fold, f'{name}.csv'), index=False)"
   ]
  },
  {
   "cell_type": "markdown",
   "metadata": {},
   "source": [
    "## STD_BD_CAR_CURSTT_MOD2_4RD_INS"
   ]
  },
  {
   "cell_type": "code",
   "execution_count": 28,
   "metadata": {},
   "outputs": [
    {
     "name": "stdout",
     "output_type": "stream",
     "text": [
      "<class 'pandas.core.frame.DataFrame'>\n",
      "RangeIndex: 160 entries, 0 to 159\n",
      "Data columns (total 6 columns):\n",
      " #   Column       Non-Null Count  Dtype         \n",
      "---  ------       --------------  -----         \n",
      " 0   YR           160 non-null    int64         \n",
      " 1   CRTR_YM      160 non-null    int64         \n",
      " 2   VHCTY_CD_NM  160 non-null    object        \n",
      " 3   FUEL_CD      160 non-null    object        \n",
      " 4   VHCL_MKCNT   140 non-null    float64       \n",
      " 5   LOAD_DT      160 non-null    datetime64[ns]\n",
      "dtypes: datetime64[ns](1), float64(1), int64(2), object(2)\n",
      "memory usage: 7.6+ KB\n"
     ]
    }
   ],
   "source": [
    "# about \n",
    "name = 'STD_BD_CAR_CURSTT_MOD2_4RD_INS'\n",
    "file_name = f'{name}.xlsx'\n",
    "df = pd.read_excel(os.path.join(raw3_fold, file_name))\n",
    "df.info()"
   ]
  },
  {
   "cell_type": "code",
   "execution_count": 29,
   "metadata": {},
   "outputs": [
    {
     "data": {
      "text/html": [
       "<div>\n",
       "<style scoped>\n",
       "    .dataframe tbody tr th:only-of-type {\n",
       "        vertical-align: middle;\n",
       "    }\n",
       "\n",
       "    .dataframe tbody tr th {\n",
       "        vertical-align: top;\n",
       "    }\n",
       "\n",
       "    .dataframe thead th {\n",
       "        text-align: right;\n",
       "    }\n",
       "</style>\n",
       "<table border=\"1\" class=\"dataframe\">\n",
       "  <thead>\n",
       "    <tr style=\"text-align: right;\">\n",
       "      <th></th>\n",
       "      <th>YR</th>\n",
       "      <th>CRTR_YM</th>\n",
       "      <th>VHCTY_CD_NM</th>\n",
       "      <th>FUEL_CD</th>\n",
       "      <th>VHCL_MKCNT</th>\n",
       "      <th>LOAD_DT</th>\n",
       "    </tr>\n",
       "  </thead>\n",
       "  <tbody>\n",
       "    <tr>\n",
       "      <th>0</th>\n",
       "      <td>2023</td>\n",
       "      <td>202306</td>\n",
       "      <td>승용</td>\n",
       "      <td>경유</td>\n",
       "      <td>476669.0</td>\n",
       "      <td>2023-10-23</td>\n",
       "    </tr>\n",
       "    <tr>\n",
       "      <th>1</th>\n",
       "      <td>2023</td>\n",
       "      <td>202306</td>\n",
       "      <td>승합</td>\n",
       "      <td>경유</td>\n",
       "      <td>118636.0</td>\n",
       "      <td>2023-10-23</td>\n",
       "    </tr>\n",
       "    <tr>\n",
       "      <th>2</th>\n",
       "      <td>2023</td>\n",
       "      <td>202306</td>\n",
       "      <td>화물</td>\n",
       "      <td>경유</td>\n",
       "      <td>447152.0</td>\n",
       "      <td>2023-10-23</td>\n",
       "    </tr>\n",
       "    <tr>\n",
       "      <th>3</th>\n",
       "      <td>2023</td>\n",
       "      <td>202306</td>\n",
       "      <td>특수</td>\n",
       "      <td>경유</td>\n",
       "      <td>5955.0</td>\n",
       "      <td>2023-10-23</td>\n",
       "    </tr>\n",
       "    <tr>\n",
       "      <th>4</th>\n",
       "      <td>2023</td>\n",
       "      <td>202306</td>\n",
       "      <td>승용</td>\n",
       "      <td>휘발유</td>\n",
       "      <td>47012.0</td>\n",
       "      <td>2023-10-23</td>\n",
       "    </tr>\n",
       "  </tbody>\n",
       "</table>\n",
       "</div>"
      ],
      "text/plain": [
       "     YR  CRTR_YM VHCTY_CD_NM FUEL_CD  VHCL_MKCNT    LOAD_DT\n",
       "0  2023   202306          승용      경유    476669.0 2023-10-23\n",
       "1  2023   202306          승합      경유    118636.0 2023-10-23\n",
       "2  2023   202306          화물      경유    447152.0 2023-10-23\n",
       "3  2023   202306          특수      경유      5955.0 2023-10-23\n",
       "4  2023   202306          승용     휘발유     47012.0 2023-10-23"
      ]
     },
     "execution_count": 29,
     "metadata": {},
     "output_type": "execute_result"
    }
   ],
   "source": [
    "df.head()"
   ]
  },
  {
   "cell_type": "code",
   "execution_count": 30,
   "metadata": {},
   "outputs": [],
   "source": [
    "# 0.1s\n",
    "df.to_csv(os.path.join(df3_fold, f'{name}.csv'), index=False)"
   ]
  },
  {
   "cell_type": "code",
   "execution_count": null,
   "metadata": {},
   "outputs": [],
   "source": []
  }
 ],
 "metadata": {
  "interpreter": {
   "hash": "569b4317022eb29baeafb3d0f1f739310808ea28ce83ca127a35db1c01070585"
  },
  "kernelspec": {
   "display_name": "Python 3.9.12 ('base')",
   "language": "python",
   "name": "python3"
  },
  "language_info": {
   "codemirror_mode": {
    "name": "ipython",
    "version": 3
   },
   "file_extension": ".py",
   "mimetype": "text/x-python",
   "name": "python",
   "nbconvert_exporter": "python",
   "pygments_lexer": "ipython3",
   "version": "3.11.4"
  },
  "orig_nbformat": 4
 },
 "nbformat": 4,
 "nbformat_minor": 2
}
