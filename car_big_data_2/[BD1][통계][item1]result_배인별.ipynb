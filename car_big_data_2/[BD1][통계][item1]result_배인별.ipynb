{
 "cells": [
  {
   "attachments": {},
   "cell_type": "markdown",
   "metadata": {},
   "source": [
    "# Library\n"
   ]
  },
  {
   "cell_type": "code",
   "execution_count": 1,
   "metadata": {},
   "outputs": [],
   "source": [
    "import pandas as pd\n",
    "import numpy as np\n",
    "import os\n",
    "from tqdm import tqdm\n",
    "from datetime import datetime"
   ]
  },
  {
   "attachments": {},
   "cell_type": "markdown",
   "metadata": {},
   "source": [
    "# fold path"
   ]
  },
  {
   "cell_type": "code",
   "execution_count": 2,
   "metadata": {},
   "outputs": [],
   "source": [
    "fold = 'D:/data/big2/BD1_4등급_데이터_점검1/emis'\n",
    "check_fold = 'D:/data/big2/BD1_4등급_데이터_점검1'\n",
    "emis_sample_fold = 'D:/data/big2/BD1_4등급_데이터_점검1/result_emis'\n",
    "analysis_fold = 'C:/Users/kbjung/Documents/GitHub/wabotech/car_big_data_2/analysis2/4등급_데이터_점검/result'"
   ]
  },
  {
   "attachments": {},
   "cell_type": "markdown",
   "metadata": {},
   "source": [
    "# Load"
   ]
  },
  {
   "attachments": {},
   "cell_type": "markdown",
   "metadata": {},
   "source": [
    "## 4등급 경유 result"
   ]
  },
  {
   "cell_type": "code",
   "execution_count": 3,
   "metadata": {},
   "outputs": [
    {
     "name": "stdout",
     "output_type": "stream",
     "text": [
      "<class 'pandas.core.frame.DataFrame'>\n",
      "RangeIndex: 1153813 entries, 0 to 1153812\n",
      "Data columns (total 69 columns):\n",
      " #   Column     Non-Null Count    Dtype  \n",
      "---  ------     --------------    -----  \n",
      " 0   차대번호       1153813 non-null  object \n",
      " 1   차량번호_x     1153813 non-null  object \n",
      " 2   제원관리번호     1153813 non-null  object \n",
      " 3   차종_원본      1153813 non-null  object \n",
      " 4   용도         1153813 non-null  object \n",
      " 5   최초등록일      1153813 non-null  int64  \n",
      " 6   연식         1153813 non-null  int64  \n",
      " 7   제작일자       1153809 non-null  float64\n",
      " 8   검사유효일      1153810 non-null  float64\n",
      " 9   배출가스인증번호   1146663 non-null  object \n",
      " 10  등급         1153813 non-null  int64  \n",
      " 11  차명_x       1153813 non-null  object \n",
      " 12  차종분류       1153813 non-null  object \n",
      " 13  차종유형       1153813 non-null  object \n",
      " 14  자동차형식      1153812 non-null  object \n",
      " 15  제작사명       1153795 non-null  object \n",
      " 16  연료         1153813 non-null  object \n",
      " 17  엔진형식_x     1153813 non-null  object \n",
      " 18  총중량        1153813 non-null  float64\n",
      " 19  적재중량       1153589 non-null  float64\n",
      " 20  엔진출력       1153811 non-null  float64\n",
      " 21  배기량        1153813 non-null  float64\n",
      " 22  법정동코드      1153813 non-null  int64  \n",
      " 23  시도명        1153813 non-null  object \n",
      " 24  시군구명       1153813 non-null  object \n",
      " 25  소유자구분      1153813 non-null  object \n",
      " 26  말소여부       1153813 non-null  object \n",
      " 27  일치유무       1153813 non-null  object \n",
      " 28  사용연료       1131176 non-null  object \n",
      " 29  주행거리       1131063 non-null  float64\n",
      " 30  차명_y       1131176 non-null  object \n",
      " 31  차량번호_y     1131176 non-null  object \n",
      " 32  차종         1131176 non-null  object \n",
      " 33  차량연식       1131176 non-null  float64\n",
      " 34  엔진형식_y     1131165 non-null  object \n",
      " 35  검사방법       1131176 non-null  object \n",
      " 36  검사일자       1131176 non-null  float64\n",
      " 37  검사종류       1131176 non-null  object \n",
      " 38  검사판정시각     1122501 non-null  object \n",
      " 39  검사판정       1131176 non-null  object \n",
      " 40  산소값        817299 non-null   float64\n",
      " 41  이산화탄소값     817299 non-null   float64\n",
      " 42  무부하매연판정1   1122497 non-null  object \n",
      " 43  무부하매연판정2   44435 non-null    object \n",
      " 44  무부하매연판정3   43534 non-null    object \n",
      " 45  무부하매연판정4   43532 non-null    object \n",
      " 46  무부하매연판정5   43532 non-null    object \n",
      " 47  무부하매연판정6   46 non-null       object \n",
      " 48  무부하매연허용치1  1122497 non-null  float64\n",
      " 49  무부하매연허용치2  333612 non-null   float64\n",
      " 50  무부하매연허용치3  333611 non-null   float64\n",
      " 51  무부하매연허용치4  333609 non-null   float64\n",
      " 52  무부하매연허용치5  333609 non-null   float64\n",
      " 53  무부하매연허용치6  301714 non-null   float64\n",
      " 54  무부하매연측정치1  1122501 non-null  float64\n",
      " 55  무부하매연측정치2  367673 non-null   float64\n",
      " 56  무부하매연측정치3  333613 non-null   float64\n",
      " 57  무부하매연측정치4  333611 non-null   float64\n",
      " 58  무부하매연측정치5  333611 non-null   float64\n",
      " 59  무부하매연측정치6  301714 non-null   float64\n",
      " 60  정기정밀       1131176 non-null  object \n",
      " 61  vin10      1153813 non-null  object \n",
      " 62  vin_year   1153810 non-null  float64\n",
      " 63  DPF유무      1153813 non-null  object \n",
      " 64  배인번호_수정    1148394 non-null  object \n",
      " 65  등급_수정      1153813 non-null  object \n",
      " 66  DPF유무_수정   1140321 non-null  object \n",
      " 67  확인유무       1140321 non-null  object \n",
      " 68  비고         0 non-null        float64\n",
      "dtypes: float64(25), int64(4), object(40)\n",
      "memory usage: 607.4+ MB\n"
     ]
    }
   ],
   "source": [
    "# about 27s\n",
    "name = '4등급_차량_리스트_양식_result_처리_2023.03.10_AM_10.56.28'\n",
    "file_name = f'{name}.csv'\n",
    "df = pd.read_csv(os.path.join(fold, file_name), encoding='cp949', low_memory=False)\n",
    "df.info()"
   ]
  },
  {
   "cell_type": "code",
   "execution_count": 4,
   "metadata": {},
   "outputs": [
    {
     "data": {
      "text/plain": [
       "Index(['차대번호', '차량번호_x', '제원관리번호', '차종_원본', '용도', '최초등록일', '연식', '제작일자',\n",
       "       '검사유효일', '배출가스인증번호', '등급', '차명_x', '차종분류', '차종유형', '자동차형식', '제작사명',\n",
       "       '연료', '엔진형식_x', '총중량', '적재중량', '엔진출력', '배기량', '법정동코드', '시도명', '시군구명',\n",
       "       '소유자구분', '말소여부', '일치유무', '사용연료', '주행거리', '차명_y', '차량번호_y', '차종', '차량연식',\n",
       "       '엔진형식_y', '검사방법', '검사일자', '검사종류', '검사판정시각', '검사판정', '산소값', '이산화탄소값',\n",
       "       '무부하매연판정1', '무부하매연판정2', '무부하매연판정3', '무부하매연판정4', '무부하매연판정5', '무부하매연판정6',\n",
       "       '무부하매연허용치1', '무부하매연허용치2', '무부하매연허용치3', '무부하매연허용치4', '무부하매연허용치5',\n",
       "       '무부하매연허용치6', '무부하매연측정치1', '무부하매연측정치2', '무부하매연측정치3', '무부하매연측정치4',\n",
       "       '무부하매연측정치5', '무부하매연측정치6', '정기정밀', 'vin10', 'vin_year', 'DPF유무',\n",
       "       '배인번호_수정', '등급_수정', 'DPF유무_수정', '확인유무', '비고'],\n",
       "      dtype='object')"
      ]
     },
     "execution_count": 4,
     "metadata": {},
     "output_type": "execute_result"
    }
   ],
   "source": [
    "df.columns"
   ]
  },
  {
   "cell_type": "code",
   "execution_count": 5,
   "metadata": {},
   "outputs": [
    {
     "data": {
      "text/plain": [
       "경유    1153813\n",
       "Name: 연료, dtype: int64"
      ]
     },
     "execution_count": 5,
     "metadata": {},
     "output_type": "execute_result"
    }
   ],
   "source": [
    "df['연료'].value_counts(dropna=False)"
   ]
  },
  {
   "cell_type": "code",
   "execution_count": 6,
   "metadata": {},
   "outputs": [
    {
     "data": {
      "text/plain": [
       "N    1153813\n",
       "Name: 말소여부, dtype: int64"
      ]
     },
     "execution_count": 6,
     "metadata": {},
     "output_type": "execute_result"
    }
   ],
   "source": [
    "df['말소여부'].value_counts(dropna=False)"
   ]
  },
  {
   "attachments": {},
   "cell_type": "markdown",
   "metadata": {},
   "source": [
    "## 4등급차 회신내역 정리(23.02.14.)(정리)"
   ]
  },
  {
   "cell_type": "code",
   "execution_count": 7,
   "metadata": {},
   "outputs": [
    {
     "name": "stdout",
     "output_type": "stream",
     "text": [
      "<class 'pandas.core.frame.DataFrame'>\n",
      "RangeIndex: 133 entries, 0 to 132\n",
      "Data columns (total 2 columns):\n",
      " #   Column    Non-Null Count  Dtype \n",
      "---  ------    --------------  ----- \n",
      " 0   배출가스인증번호  133 non-null    object\n",
      " 1   차량 대수(대)  133 non-null    int64 \n",
      "dtypes: int64(1), object(1)\n",
      "memory usage: 2.2+ KB\n"
     ]
    }
   ],
   "source": [
    "# about 1s\n",
    "file_name = '4등급차 회신내역 정리(23.02.14.)(정리).xlsx'\n",
    "check_df = pd.read_excel(os.path.join(check_fold, file_name))\n",
    "check_df.info()"
   ]
  },
  {
   "attachments": {},
   "cell_type": "markdown",
   "metadata": {},
   "source": [
    "# 전처리"
   ]
  },
  {
   "attachments": {},
   "cell_type": "markdown",
   "metadata": {},
   "source": [
    "## [출력] 배인번호별 파일 출력"
   ]
  },
  {
   "attachments": {},
   "cell_type": "markdown",
   "metadata": {},
   "source": [
    "### 배출가스인증번호 str 타입으로 변경"
   ]
  },
  {
   "cell_type": "code",
   "execution_count": 8,
   "metadata": {},
   "outputs": [
    {
     "data": {
      "text/plain": [
       "배출가스인증번호    7150\n",
       "배인번호_수정     5419\n",
       "dtype: int64"
      ]
     },
     "execution_count": 8,
     "metadata": {},
     "output_type": "execute_result"
    }
   ],
   "source": [
    "df[['배출가스인증번호', '배인번호_수정']].isnull().sum()"
   ]
  },
  {
   "cell_type": "code",
   "execution_count": 9,
   "metadata": {},
   "outputs": [],
   "source": [
    "df['배출가스인증번호'] = df['배출가스인증번호'].astype('str')\n",
    "df['배인번호_수정'] = df['배인번호_수정'].astype('str')"
   ]
  },
  {
   "cell_type": "code",
   "execution_count": 10,
   "metadata": {},
   "outputs": [
    {
     "data": {
      "text/plain": [
       "배출가스인증번호    0\n",
       "배인번호_수정     0\n",
       "dtype: int64"
      ]
     },
     "execution_count": 10,
     "metadata": {},
     "output_type": "execute_result"
    }
   ],
   "source": [
    "df[['배출가스인증번호', '배인번호_수정']].isnull().sum()"
   ]
  },
  {
   "attachments": {},
   "cell_type": "markdown",
   "metadata": {},
   "source": [
    "### 엔진형식 str 타입으로 변경\n",
    "- nan 값 존재"
   ]
  },
  {
   "cell_type": "code",
   "execution_count": 11,
   "metadata": {},
   "outputs": [
    {
     "data": {
      "text/plain": [
       "22648"
      ]
     },
     "execution_count": 11,
     "metadata": {},
     "output_type": "execute_result"
    }
   ],
   "source": [
    "df['엔진형식_y'].isnull().sum()"
   ]
  },
  {
   "cell_type": "code",
   "execution_count": 12,
   "metadata": {},
   "outputs": [],
   "source": [
    "df['엔진형식_y'] = df['엔진형식_y'].astype('str')"
   ]
  },
  {
   "cell_type": "code",
   "execution_count": 13,
   "metadata": {},
   "outputs": [
    {
     "data": {
      "text/plain": [
       "0"
      ]
     },
     "execution_count": 13,
     "metadata": {},
     "output_type": "execute_result"
    }
   ],
   "source": [
    "df['엔진형식_y'].isnull().sum()"
   ]
  },
  {
   "attachments": {},
   "cell_type": "markdown",
   "metadata": {},
   "source": [
    "### 검사판정 str 타입으로 변경"
   ]
  },
  {
   "cell_type": "code",
   "execution_count": 14,
   "metadata": {},
   "outputs": [
    {
     "data": {
      "text/plain": [
       "22637"
      ]
     },
     "execution_count": 14,
     "metadata": {},
     "output_type": "execute_result"
    }
   ],
   "source": [
    "df['검사판정'].isnull().sum()"
   ]
  },
  {
   "cell_type": "code",
   "execution_count": 15,
   "metadata": {},
   "outputs": [],
   "source": [
    "df['검사판정'] = df['검사판정'].astype('str')"
   ]
  },
  {
   "cell_type": "code",
   "execution_count": 16,
   "metadata": {},
   "outputs": [
    {
     "data": {
      "text/plain": [
       "0"
      ]
     },
     "execution_count": 16,
     "metadata": {},
     "output_type": "execute_result"
    }
   ],
   "source": [
    "df['검사판정'].isnull().sum()"
   ]
  },
  {
   "attachments": {},
   "cell_type": "markdown",
   "metadata": {},
   "source": [
    "### 4등급만 추출"
   ]
  },
  {
   "cell_type": "code",
   "execution_count": 17,
   "metadata": {},
   "outputs": [
    {
     "data": {
      "text/plain": [
       "4       1140191\n",
       "확인불가       9155\n",
       "3          4361\n",
       "5           106\n",
       "Name: 등급_수정, dtype: int64"
      ]
     },
     "execution_count": 17,
     "metadata": {},
     "output_type": "execute_result"
    }
   ],
   "source": [
    "df['등급_수정'].value_counts()"
   ]
  },
  {
   "cell_type": "code",
   "execution_count": 18,
   "metadata": {},
   "outputs": [],
   "source": [
    "# 백업\n",
    "df1 = df.copy()"
   ]
  },
  {
   "cell_type": "code",
   "execution_count": 19,
   "metadata": {},
   "outputs": [
    {
     "data": {
      "text/plain": [
       "(1140191, 69)"
      ]
     },
     "execution_count": 19,
     "metadata": {},
     "output_type": "execute_result"
    }
   ],
   "source": [
    "df1 = df1[df1['등급_수정'] == '4'].reset_index(drop=True)\n",
    "df1.shape"
   ]
  },
  {
   "attachments": {},
   "cell_type": "markdown",
   "metadata": {},
   "source": [
    "#### [출력] 배인번호별 csv"
   ]
  },
  {
   "cell_type": "code",
   "execution_count": 20,
   "metadata": {},
   "outputs": [
    {
     "data": {
      "text/plain": [
       "'D:/data/big2/BD1_4등급_데이터_점검1/result_emis'"
      ]
     },
     "execution_count": 20,
     "metadata": {},
     "output_type": "execute_result"
    }
   ],
   "source": [
    "emis_sample_fold"
   ]
  },
  {
   "cell_type": "code",
   "execution_count": 21,
   "metadata": {},
   "outputs": [
    {
     "name": "stderr",
     "output_type": "stream",
     "text": [
      "100%|██████████| 202/202 [00:46<00:00,  4.37it/s]\n"
     ]
    }
   ],
   "source": [
    "# about 49s\n",
    "# csv\n",
    "for one in tqdm(df1['배인번호_수정'].unique()):\n",
    "    df1[df1['배인번호_수정'] == one].reset_index(drop=True).to_csv(os.path.join(emis_sample_fold, f'{one}.csv'), index=False, encoding='cp949')"
   ]
  },
  {
   "cell_type": "code",
   "execution_count": 22,
   "metadata": {},
   "outputs": [
    {
     "data": {
      "text/plain": [
       "제작사명         0.0\n",
       "검사판정         0.0\n",
       "무부하매연판정1     0.0\n",
       "무부하매연측정치1    0.0\n",
       "dtype: float64"
      ]
     },
     "execution_count": 22,
     "metadata": {},
     "output_type": "execute_result"
    }
   ],
   "source": [
    "df1.loc[df1['제작사명'] == 'SOFA차량', ['제작사명' ,'검사판정', '무부하매연판정1', '무부하매연측정치1']].isnull().sum()"
   ]
  },
  {
   "cell_type": "code",
   "execution_count": 23,
   "metadata": {},
   "outputs": [
    {
     "data": {
      "text/plain": [
       "(0, 4)"
      ]
     },
     "execution_count": 23,
     "metadata": {},
     "output_type": "execute_result"
    }
   ],
   "source": [
    "df1.loc[df1['제작사명'] == 'SOFA차량', ['제작사명' ,'검사판정', '무부하매연판정1', '무부하매연측정치1']].shape"
   ]
  },
  {
   "attachments": {},
   "cell_type": "markdown",
   "metadata": {},
   "source": [
    "# 배출가스 인증번호별 분석\n",
    "- issue\n",
    "    - 배인번호 없음 : 9MY-KM-14-22\n",
    "        - 차명 : 쏘렌토\n",
    "        - 등급변경 : 3 -> 4\n",
    "        - 아직 보류"
   ]
  },
  {
   "cell_type": "code",
   "execution_count": 24,
   "metadata": {},
   "outputs": [],
   "source": [
    "test_df = pd.DataFrame()"
   ]
  },
  {
   "attachments": {},
   "cell_type": "markdown",
   "metadata": {},
   "source": [
    "## [로드] 배인번호 파일"
   ]
  },
  {
   "cell_type": "code",
   "execution_count": 25,
   "metadata": {},
   "outputs": [],
   "source": [
    "# 5MY-BK-14-07\n",
    "# 6MY-BK-13-08\n",
    "# 6MY-MK-14-02\n",
    "# 5MY-HD-24-35"
   ]
  },
  {
   "cell_type": "code",
   "execution_count": 26,
   "metadata": {},
   "outputs": [],
   "source": [
    "# 에러\n",
    "# 6MY-SS-0M-24"
   ]
  },
  {
   "cell_type": "code",
   "execution_count": 27,
   "metadata": {},
   "outputs": [
    {
     "data": {
      "text/plain": [
       "(219, 69)"
      ]
     },
     "execution_count": 27,
     "metadata": {},
     "output_type": "execute_result"
    }
   ],
   "source": [
    "emis_no = '5MY-BK-14-07'\n",
    "file_name = f'{emis_no}.csv'\n",
    "gas_df = pd.read_csv(os.path.join(emis_sample_fold, file_name), encoding='cp949')\n",
    "gas_df.shape"
   ]
  },
  {
   "attachments": {},
   "cell_type": "markdown",
   "metadata": {},
   "source": [
    "### 전처리\n",
    "- 제거\n",
    "    - 차대번호 17자리 아닌 샘플\n",
    "    - 차대번호 10자리와 차량연식이 다른 샘플"
   ]
  },
  {
   "attachments": {},
   "cell_type": "markdown",
   "metadata": {},
   "source": [
    "#### [출력] 차대번호17자리 아닌 샘플"
   ]
  },
  {
   "cell_type": "code",
   "execution_count": 28,
   "metadata": {},
   "outputs": [
    {
     "data": {
      "text/plain": [
       "((219, 69), (0, 69))"
      ]
     },
     "execution_count": 28,
     "metadata": {},
     "output_type": "execute_result"
    }
   ],
   "source": [
    "gas_df_vin17_y = gas_df[(gas_df['차대번호'].str.len() == 17)].reset_index(drop=True)\n",
    "gas_df_vin17_n = gas_df[(gas_df['차대번호'].str.len() != 17)].reset_index(drop=True)\n",
    "gas_df_vin17_y.shape, gas_df_vin17_n.shape"
   ]
  },
  {
   "cell_type": "code",
   "execution_count": 29,
   "metadata": {},
   "outputs": [],
   "source": [
    "# gas_df_vin17_n.to_excel(os.path.join(emis_sample_fold, f'샘플_차대번호17자리아닌_{emis_no}.xlsx'), index=False)"
   ]
  },
  {
   "attachments": {},
   "cell_type": "markdown",
   "metadata": {},
   "source": [
    "#### [출력] 차대번호10자리 연도와 차량연식 다른 샘플"
   ]
  },
  {
   "cell_type": "code",
   "execution_count": 30,
   "metadata": {},
   "outputs": [
    {
     "data": {
      "text/plain": [
       "((219, 69), (0, 69))"
      ]
     },
     "execution_count": 30,
     "metadata": {},
     "output_type": "execute_result"
    }
   ],
   "source": [
    "gas_df_vin17_y_vin10_year_y = gas_df_vin17_y[gas_df_vin17_y['vin_year'] == gas_df_vin17_y['연식']].reset_index(drop=True)\n",
    "gas_df_vin17_y_vin10_year_n = gas_df_vin17_y[gas_df_vin17_y['vin_year'] != gas_df_vin17_y['연식']].reset_index(drop=True)\n",
    "gas_df_vin17_y_vin10_year_y.shape, gas_df_vin17_y_vin10_year_n.shape"
   ]
  },
  {
   "cell_type": "code",
   "execution_count": 31,
   "metadata": {},
   "outputs": [],
   "source": [
    "# gas_df_vin17_y_vin10_year_n.to_excel(os.path.join(emis_sample_fold, f'샘플_차대번호17자리_차량연식다른_{emis_no}.xlsx'), index=False)"
   ]
  },
  {
   "attachments": {},
   "cell_type": "markdown",
   "metadata": {},
   "source": [
    "#### [출력] 배인번호 해당 제작사가 아닌 샘플\n",
    "- 자가인증면제차량과 SOFA차량 포함(검사 받지 않는 차량)\n",
    "    - SOFA차량은 따로 대수 통계"
   ]
  },
  {
   "cell_type": "code",
   "execution_count": 32,
   "metadata": {},
   "outputs": [
    {
     "data": {
      "text/plain": [
       "array(['비엠더블유코리아(주)', '자기인증면제차량'], dtype=object)"
      ]
     },
     "execution_count": 32,
     "metadata": {},
     "output_type": "execute_result"
    }
   ],
   "source": [
    "gas_df_vin17_y_vin10_year_y['제작사명'].unique()"
   ]
  },
  {
   "cell_type": "code",
   "execution_count": 33,
   "metadata": {},
   "outputs": [
    {
     "data": {
      "text/plain": [
       "'비엠더블유코리아(주)'"
      ]
     },
     "execution_count": 33,
     "metadata": {},
     "output_type": "execute_result"
    }
   ],
   "source": [
    "productor_name = gas_df_vin17_y_vin10_year_y['제작사명'].unique()[0]\n",
    "productor_name"
   ]
  },
  {
   "cell_type": "code",
   "execution_count": 34,
   "metadata": {},
   "outputs": [
    {
     "data": {
      "text/plain": [
       "((218, 69), (1, 69))"
      ]
     },
     "execution_count": 34,
     "metadata": {},
     "output_type": "execute_result"
    }
   ],
   "source": [
    "gas_df_vin17_y_vin10_year_y_product_y = gas_df_vin17_y_vin10_year_y[(gas_df_vin17_y_vin10_year_y['제작사명'] == productor_name) | (gas_df_vin17_y_vin10_year_y['제작사명'] == '자가인증면제차량') | (gas_df_vin17_y_vin10_year_y['제작사명'] == 'SOFA차량')].reset_index(drop=True)\n",
    "gas_df_vin17_y_vin10_year_y_product_n = gas_df_vin17_y_vin10_year_y[(gas_df_vin17_y_vin10_year_y['제작사명'] != productor_name) & (gas_df_vin17_y_vin10_year_y['제작사명'] != '자가인증면제차량') & (gas_df_vin17_y_vin10_year_y['제작사명'] != 'SOFA차량')].reset_index(drop=True)\n",
    "gas_df_vin17_y_vin10_year_y_product_y.shape, gas_df_vin17_y_vin10_year_y_product_n.shape"
   ]
  },
  {
   "cell_type": "code",
   "execution_count": 35,
   "metadata": {},
   "outputs": [],
   "source": [
    "# gas_df_vin17_y_vin10_year_y_product_n.to_excel(os.path.join(emis_sample_fold, f'샘플_차대번호17자리_차량연식다른_해당제작사아닌_{emis_no}.xlsx'), index=False)"
   ]
  },
  {
   "attachments": {},
   "cell_type": "markdown",
   "metadata": {},
   "source": [
    "### 분석\n",
    "- 제원관리번호별, 자동차형식별, 엔진형식별, 검사판정별 무부하매연측정치1 통계"
   ]
  },
  {
   "cell_type": "code",
   "execution_count": 36,
   "metadata": {},
   "outputs": [
    {
     "data": {
      "text/plain": [
       "dtype('float64')"
      ]
     },
     "execution_count": 36,
     "metadata": {},
     "output_type": "execute_result"
    }
   ],
   "source": [
    "gas_df_vin17_y_vin10_year_y_product_y['무부하매연측정치1'].dtype"
   ]
  },
  {
   "cell_type": "code",
   "execution_count": 37,
   "metadata": {},
   "outputs": [
    {
     "data": {
      "text/plain": [
       "15"
      ]
     },
     "execution_count": 37,
     "metadata": {},
     "output_type": "execute_result"
    }
   ],
   "source": [
    "gas_df_vin17_y_vin10_year_y_product_y['무부하매연측정치1'].isnull().sum()"
   ]
  },
  {
   "cell_type": "code",
   "execution_count": 38,
   "metadata": {},
   "outputs": [],
   "source": [
    "def flat_cols(df):\n",
    "    df.columns = ['/'.join(x) for x in df.columns.to_flat_index()]\n",
    "    return df"
   ]
  },
  {
   "cell_type": "code",
   "execution_count": 39,
   "metadata": {},
   "outputs": [],
   "source": [
    "g = gas_df_vin17_y_vin10_year_y_product_y.groupby(['제작사명', '배인번호_수정', '제원관리번호', '자동차형식', '엔진형식_y', '검사판정'], dropna=False, ).agg({'차대번호':'count', '무부하매연측정치1':['mean', 'min', 'max']}).pipe(flat_cols).round(2).reset_index()\n",
    "g = g.rename(columns={'배인번호_수정':'배출가스인증번호', '엔진형식_y':'엔진형식', '차대번호/count':'대수', '무부하매연측정치1/mean':'mean', '무부하매연측정치1/min':'min', '무부하매연측정치1/max':'max'})"
   ]
  },
  {
   "cell_type": "code",
   "execution_count": 40,
   "metadata": {},
   "outputs": [
    {
     "data": {
      "text/html": [
       "<div>\n",
       "<style scoped>\n",
       "    .dataframe tbody tr th:only-of-type {\n",
       "        vertical-align: middle;\n",
       "    }\n",
       "\n",
       "    .dataframe tbody tr th {\n",
       "        vertical-align: top;\n",
       "    }\n",
       "\n",
       "    .dataframe thead th {\n",
       "        text-align: right;\n",
       "    }\n",
       "</style>\n",
       "<table border=\"1\" class=\"dataframe\">\n",
       "  <thead>\n",
       "    <tr style=\"text-align: right;\">\n",
       "      <th></th>\n",
       "      <th>제작사명</th>\n",
       "      <th>배출가스인증번호</th>\n",
       "      <th>제원관리번호</th>\n",
       "      <th>자동차형식</th>\n",
       "      <th>엔진형식</th>\n",
       "      <th>검사판정</th>\n",
       "      <th>대수</th>\n",
       "      <th>mean</th>\n",
       "      <th>min</th>\n",
       "      <th>max</th>\n",
       "    </tr>\n",
       "  </thead>\n",
       "  <tbody>\n",
       "    <tr>\n",
       "      <th>0</th>\n",
       "      <td>비엠더블유코리아(주)</td>\n",
       "      <td>5MY-BK-14-07</td>\n",
       "      <td>120001600041305</td>\n",
       "      <td>X3 3.0d</td>\n",
       "      <td>306D3</td>\n",
       "      <td>N</td>\n",
       "      <td>1</td>\n",
       "      <td>1.00</td>\n",
       "      <td>1.0</td>\n",
       "      <td>1.0</td>\n",
       "    </tr>\n",
       "    <tr>\n",
       "      <th>1</th>\n",
       "      <td>비엠더블유코리아(주)</td>\n",
       "      <td>5MY-BK-14-07</td>\n",
       "      <td>120001600041305</td>\n",
       "      <td>X3 3.0d</td>\n",
       "      <td>306D3</td>\n",
       "      <td>Y</td>\n",
       "      <td>114</td>\n",
       "      <td>1.68</td>\n",
       "      <td>0.0</td>\n",
       "      <td>34.0</td>\n",
       "    </tr>\n",
       "    <tr>\n",
       "      <th>2</th>\n",
       "      <td>비엠더블유코리아(주)</td>\n",
       "      <td>5MY-BK-14-07</td>\n",
       "      <td>120001600041305</td>\n",
       "      <td>X3 3.0d</td>\n",
       "      <td>NaN</td>\n",
       "      <td>NaN</td>\n",
       "      <td>10</td>\n",
       "      <td>NaN</td>\n",
       "      <td>NaN</td>\n",
       "      <td>NaN</td>\n",
       "    </tr>\n",
       "    <tr>\n",
       "      <th>3</th>\n",
       "      <td>비엠더블유코리아(주)</td>\n",
       "      <td>5MY-BK-14-07</td>\n",
       "      <td>120001600051307</td>\n",
       "      <td>X3 3.0d</td>\n",
       "      <td>306D3</td>\n",
       "      <td>N</td>\n",
       "      <td>1</td>\n",
       "      <td>NaN</td>\n",
       "      <td>NaN</td>\n",
       "      <td>NaN</td>\n",
       "    </tr>\n",
       "    <tr>\n",
       "      <th>4</th>\n",
       "      <td>비엠더블유코리아(주)</td>\n",
       "      <td>5MY-BK-14-07</td>\n",
       "      <td>120001600051307</td>\n",
       "      <td>X3 3.0d</td>\n",
       "      <td>306D3</td>\n",
       "      <td>Y</td>\n",
       "      <td>80</td>\n",
       "      <td>3.15</td>\n",
       "      <td>0.0</td>\n",
       "      <td>38.0</td>\n",
       "    </tr>\n",
       "  </tbody>\n",
       "</table>\n",
       "</div>"
      ],
      "text/plain": [
       "          제작사명      배출가스인증번호           제원관리번호    자동차형식   엔진형식 검사판정   대수  mean  \\\n",
       "0  비엠더블유코리아(주)  5MY-BK-14-07  120001600041305  X3 3.0d  306D3    N    1  1.00   \n",
       "1  비엠더블유코리아(주)  5MY-BK-14-07  120001600041305  X3 3.0d  306D3    Y  114  1.68   \n",
       "2  비엠더블유코리아(주)  5MY-BK-14-07  120001600041305  X3 3.0d    NaN  NaN   10   NaN   \n",
       "3  비엠더블유코리아(주)  5MY-BK-14-07  120001600051307  X3 3.0d  306D3    N    1   NaN   \n",
       "4  비엠더블유코리아(주)  5MY-BK-14-07  120001600051307  X3 3.0d  306D3    Y   80  3.15   \n",
       "\n",
       "   min   max  \n",
       "0  1.0   1.0  \n",
       "1  0.0  34.0  \n",
       "2  NaN   NaN  \n",
       "3  NaN   NaN  \n",
       "4  0.0  38.0  "
      ]
     },
     "execution_count": 40,
     "metadata": {},
     "output_type": "execute_result"
    }
   ],
   "source": [
    "g.head()"
   ]
  },
  {
   "cell_type": "code",
   "execution_count": 41,
   "metadata": {},
   "outputs": [],
   "source": [
    "concat_two = pd.DataFrame()\n",
    "for two in g['제원관리번호'].unique():\n",
    "    for three in g['엔진형식'].unique():\n",
    "        temp = g[(g['제원관리번호'] == two) & (g['엔진형식'] == three)].copy()\n",
    "        temp['엔진형식/sum'] = temp['대수'].sum()\n",
    "        temp['검사판정비율'] = temp['대수'] / temp['엔진형식/sum']\n",
    "        concat_two = pd.concat([concat_two, temp], ignore_index=True)"
   ]
  },
  {
   "cell_type": "code",
   "execution_count": 42,
   "metadata": {},
   "outputs": [
    {
     "data": {
      "text/html": [
       "<div>\n",
       "<style scoped>\n",
       "    .dataframe tbody tr th:only-of-type {\n",
       "        vertical-align: middle;\n",
       "    }\n",
       "\n",
       "    .dataframe tbody tr th {\n",
       "        vertical-align: top;\n",
       "    }\n",
       "\n",
       "    .dataframe thead th {\n",
       "        text-align: right;\n",
       "    }\n",
       "</style>\n",
       "<table border=\"1\" class=\"dataframe\">\n",
       "  <thead>\n",
       "    <tr style=\"text-align: right;\">\n",
       "      <th></th>\n",
       "      <th>제작사명</th>\n",
       "      <th>배출가스인증번호</th>\n",
       "      <th>제원관리번호</th>\n",
       "      <th>자동차형식</th>\n",
       "      <th>엔진형식</th>\n",
       "      <th>검사판정</th>\n",
       "      <th>대수</th>\n",
       "      <th>mean</th>\n",
       "      <th>min</th>\n",
       "      <th>max</th>\n",
       "      <th>엔진형식/sum</th>\n",
       "      <th>검사판정비율</th>\n",
       "    </tr>\n",
       "  </thead>\n",
       "  <tbody>\n",
       "    <tr>\n",
       "      <th>0</th>\n",
       "      <td>비엠더블유코리아(주)</td>\n",
       "      <td>5MY-BK-14-07</td>\n",
       "      <td>120001600041305</td>\n",
       "      <td>X3 3.0d</td>\n",
       "      <td>306D3</td>\n",
       "      <td>N</td>\n",
       "      <td>1</td>\n",
       "      <td>1.00</td>\n",
       "      <td>1.0</td>\n",
       "      <td>1.0</td>\n",
       "      <td>115</td>\n",
       "      <td>0.008696</td>\n",
       "    </tr>\n",
       "    <tr>\n",
       "      <th>1</th>\n",
       "      <td>비엠더블유코리아(주)</td>\n",
       "      <td>5MY-BK-14-07</td>\n",
       "      <td>120001600041305</td>\n",
       "      <td>X3 3.0d</td>\n",
       "      <td>306D3</td>\n",
       "      <td>Y</td>\n",
       "      <td>114</td>\n",
       "      <td>1.68</td>\n",
       "      <td>0.0</td>\n",
       "      <td>34.0</td>\n",
       "      <td>115</td>\n",
       "      <td>0.991304</td>\n",
       "    </tr>\n",
       "    <tr>\n",
       "      <th>2</th>\n",
       "      <td>비엠더블유코리아(주)</td>\n",
       "      <td>5MY-BK-14-07</td>\n",
       "      <td>120001600051307</td>\n",
       "      <td>X3 3.0d</td>\n",
       "      <td>306D3</td>\n",
       "      <td>N</td>\n",
       "      <td>1</td>\n",
       "      <td>NaN</td>\n",
       "      <td>NaN</td>\n",
       "      <td>NaN</td>\n",
       "      <td>81</td>\n",
       "      <td>0.012346</td>\n",
       "    </tr>\n",
       "    <tr>\n",
       "      <th>3</th>\n",
       "      <td>비엠더블유코리아(주)</td>\n",
       "      <td>5MY-BK-14-07</td>\n",
       "      <td>120001600051307</td>\n",
       "      <td>X3 3.0d</td>\n",
       "      <td>306D3</td>\n",
       "      <td>Y</td>\n",
       "      <td>80</td>\n",
       "      <td>3.15</td>\n",
       "      <td>0.0</td>\n",
       "      <td>38.0</td>\n",
       "      <td>81</td>\n",
       "      <td>0.987654</td>\n",
       "    </tr>\n",
       "    <tr>\n",
       "      <th>4</th>\n",
       "      <td>비엠더블유코리아(주)</td>\n",
       "      <td>5MY-BK-14-07</td>\n",
       "      <td>120001600081307</td>\n",
       "      <td>X3 3.0d</td>\n",
       "      <td>306D3</td>\n",
       "      <td>Y</td>\n",
       "      <td>8</td>\n",
       "      <td>4.62</td>\n",
       "      <td>0.0</td>\n",
       "      <td>14.0</td>\n",
       "      <td>8</td>\n",
       "      <td>1.000000</td>\n",
       "    </tr>\n",
       "  </tbody>\n",
       "</table>\n",
       "</div>"
      ],
      "text/plain": [
       "          제작사명      배출가스인증번호           제원관리번호    자동차형식   엔진형식 검사판정   대수  mean  \\\n",
       "0  비엠더블유코리아(주)  5MY-BK-14-07  120001600041305  X3 3.0d  306D3    N    1  1.00   \n",
       "1  비엠더블유코리아(주)  5MY-BK-14-07  120001600041305  X3 3.0d  306D3    Y  114  1.68   \n",
       "2  비엠더블유코리아(주)  5MY-BK-14-07  120001600051307  X3 3.0d  306D3    N    1   NaN   \n",
       "3  비엠더블유코리아(주)  5MY-BK-14-07  120001600051307  X3 3.0d  306D3    Y   80  3.15   \n",
       "4  비엠더블유코리아(주)  5MY-BK-14-07  120001600081307  X3 3.0d  306D3    Y    8  4.62   \n",
       "\n",
       "   min   max  엔진형식/sum    검사판정비율  \n",
       "0  1.0   1.0       115  0.008696  \n",
       "1  0.0  34.0       115  0.991304  \n",
       "2  NaN   NaN        81  0.012346  \n",
       "3  0.0  38.0        81  0.987654  \n",
       "4  0.0  14.0         8  1.000000  "
      ]
     },
     "execution_count": 42,
     "metadata": {},
     "output_type": "execute_result"
    }
   ],
   "source": [
    "concat_two"
   ]
  },
  {
   "cell_type": "code",
   "execution_count": 43,
   "metadata": {},
   "outputs": [],
   "source": [
    "test_df = pd.concat([test_df, concat_two], ignore_index=True)"
   ]
  },
  {
   "cell_type": "code",
   "execution_count": 44,
   "metadata": {},
   "outputs": [
    {
     "data": {
      "text/html": [
       "<div>\n",
       "<style scoped>\n",
       "    .dataframe tbody tr th:only-of-type {\n",
       "        vertical-align: middle;\n",
       "    }\n",
       "\n",
       "    .dataframe tbody tr th {\n",
       "        vertical-align: top;\n",
       "    }\n",
       "\n",
       "    .dataframe thead th {\n",
       "        text-align: right;\n",
       "    }\n",
       "</style>\n",
       "<table border=\"1\" class=\"dataframe\">\n",
       "  <thead>\n",
       "    <tr style=\"text-align: right;\">\n",
       "      <th></th>\n",
       "      <th>제작사명</th>\n",
       "      <th>배출가스인증번호</th>\n",
       "      <th>제원관리번호</th>\n",
       "      <th>자동차형식</th>\n",
       "      <th>엔진형식</th>\n",
       "      <th>검사판정</th>\n",
       "      <th>대수</th>\n",
       "      <th>mean</th>\n",
       "      <th>min</th>\n",
       "      <th>max</th>\n",
       "      <th>엔진형식/sum</th>\n",
       "      <th>검사판정비율</th>\n",
       "    </tr>\n",
       "  </thead>\n",
       "  <tbody>\n",
       "    <tr>\n",
       "      <th>0</th>\n",
       "      <td>비엠더블유코리아(주)</td>\n",
       "      <td>5MY-BK-14-07</td>\n",
       "      <td>120001600041305</td>\n",
       "      <td>X3 3.0d</td>\n",
       "      <td>306D3</td>\n",
       "      <td>N</td>\n",
       "      <td>1</td>\n",
       "      <td>1.00</td>\n",
       "      <td>1.0</td>\n",
       "      <td>1.0</td>\n",
       "      <td>115</td>\n",
       "      <td>0.008696</td>\n",
       "    </tr>\n",
       "    <tr>\n",
       "      <th>1</th>\n",
       "      <td>비엠더블유코리아(주)</td>\n",
       "      <td>5MY-BK-14-07</td>\n",
       "      <td>120001600041305</td>\n",
       "      <td>X3 3.0d</td>\n",
       "      <td>306D3</td>\n",
       "      <td>Y</td>\n",
       "      <td>114</td>\n",
       "      <td>1.68</td>\n",
       "      <td>0.0</td>\n",
       "      <td>34.0</td>\n",
       "      <td>115</td>\n",
       "      <td>0.991304</td>\n",
       "    </tr>\n",
       "    <tr>\n",
       "      <th>2</th>\n",
       "      <td>비엠더블유코리아(주)</td>\n",
       "      <td>5MY-BK-14-07</td>\n",
       "      <td>120001600051307</td>\n",
       "      <td>X3 3.0d</td>\n",
       "      <td>306D3</td>\n",
       "      <td>N</td>\n",
       "      <td>1</td>\n",
       "      <td>NaN</td>\n",
       "      <td>NaN</td>\n",
       "      <td>NaN</td>\n",
       "      <td>81</td>\n",
       "      <td>0.012346</td>\n",
       "    </tr>\n",
       "    <tr>\n",
       "      <th>3</th>\n",
       "      <td>비엠더블유코리아(주)</td>\n",
       "      <td>5MY-BK-14-07</td>\n",
       "      <td>120001600051307</td>\n",
       "      <td>X3 3.0d</td>\n",
       "      <td>306D3</td>\n",
       "      <td>Y</td>\n",
       "      <td>80</td>\n",
       "      <td>3.15</td>\n",
       "      <td>0.0</td>\n",
       "      <td>38.0</td>\n",
       "      <td>81</td>\n",
       "      <td>0.987654</td>\n",
       "    </tr>\n",
       "    <tr>\n",
       "      <th>4</th>\n",
       "      <td>비엠더블유코리아(주)</td>\n",
       "      <td>5MY-BK-14-07</td>\n",
       "      <td>120001600081307</td>\n",
       "      <td>X3 3.0d</td>\n",
       "      <td>306D3</td>\n",
       "      <td>Y</td>\n",
       "      <td>8</td>\n",
       "      <td>4.62</td>\n",
       "      <td>0.0</td>\n",
       "      <td>14.0</td>\n",
       "      <td>8</td>\n",
       "      <td>1.000000</td>\n",
       "    </tr>\n",
       "  </tbody>\n",
       "</table>\n",
       "</div>"
      ],
      "text/plain": [
       "          제작사명      배출가스인증번호           제원관리번호    자동차형식   엔진형식 검사판정   대수  mean  \\\n",
       "0  비엠더블유코리아(주)  5MY-BK-14-07  120001600041305  X3 3.0d  306D3    N    1  1.00   \n",
       "1  비엠더블유코리아(주)  5MY-BK-14-07  120001600041305  X3 3.0d  306D3    Y  114  1.68   \n",
       "2  비엠더블유코리아(주)  5MY-BK-14-07  120001600051307  X3 3.0d  306D3    N    1   NaN   \n",
       "3  비엠더블유코리아(주)  5MY-BK-14-07  120001600051307  X3 3.0d  306D3    Y   80  3.15   \n",
       "4  비엠더블유코리아(주)  5MY-BK-14-07  120001600081307  X3 3.0d  306D3    Y    8  4.62   \n",
       "\n",
       "   min   max  엔진형식/sum    검사판정비율  \n",
       "0  1.0   1.0       115  0.008696  \n",
       "1  0.0  34.0       115  0.991304  \n",
       "2  NaN   NaN        81  0.012346  \n",
       "3  0.0  38.0        81  0.987654  \n",
       "4  0.0  14.0         8  1.000000  "
      ]
     },
     "execution_count": 44,
     "metadata": {},
     "output_type": "execute_result"
    }
   ],
   "source": [
    "test_df"
   ]
  },
  {
   "attachments": {},
   "cell_type": "markdown",
   "metadata": {},
   "source": [
    "#### [출력] 제번별, 자동차형식별, 엔진형식별 검사판정별 무부하매연측정치1 통계"
   ]
  },
  {
   "cell_type": "code",
   "execution_count": 45,
   "metadata": {},
   "outputs": [
    {
     "data": {
      "text/plain": [
       "'C:/Users/kbjung/Documents/GitHub/wabotech/car_big_data_2/analysis2/4등급_데이터_점검/result'"
      ]
     },
     "execution_count": 45,
     "metadata": {},
     "output_type": "execute_result"
    }
   ],
   "source": [
    "analysis_fold"
   ]
  },
  {
   "cell_type": "code",
   "execution_count": 46,
   "metadata": {},
   "outputs": [],
   "source": [
    "# g.to_excel(os.path.join(analysis_fold, f'통계_제번별_차형식별_엔진형식별_검사판정별_무부하매연측정치1_{emis_no}.xlsx'))"
   ]
  },
  {
   "attachments": {},
   "cell_type": "markdown",
   "metadata": {},
   "source": [
    "## [출력] 배인번호별 분석3"
   ]
  },
  {
   "cell_type": "code",
   "execution_count": 47,
   "metadata": {},
   "outputs": [],
   "source": [
    "def flat_cols(df):\n",
    "    df.columns = ['/'.join(x) for x in df.columns.to_flat_index()]\n",
    "    return df"
   ]
  },
  {
   "cell_type": "code",
   "execution_count": 48,
   "metadata": {},
   "outputs": [],
   "source": [
    "# gas_nm_list = check_df['배출가스인증번호'].unique()\n",
    "# len(gas_nm_list)"
   ]
  },
  {
   "cell_type": "code",
   "execution_count": 49,
   "metadata": {},
   "outputs": [
    {
     "data": {
      "text/plain": [
       "202"
      ]
     },
     "execution_count": 49,
     "metadata": {},
     "output_type": "execute_result"
    }
   ],
   "source": [
    "gas_nm_list = df1['배인번호_수정'].unique()\n",
    "len(gas_nm_list)"
   ]
  },
  {
   "cell_type": "code",
   "execution_count": 50,
   "metadata": {},
   "outputs": [
    {
     "data": {
      "text/plain": [
       "array(['4MY-AD-20', '5MY-AD-13-06', '5MY-AD-14-08', '5MY-AD-14-12',\n",
       "       '5MY-AD-14-18'], dtype=object)"
      ]
     },
     "execution_count": 50,
     "metadata": {},
     "output_type": "execute_result"
    }
   ],
   "source": [
    "gas_nm_list[:5]"
   ]
  },
  {
   "cell_type": "code",
   "execution_count": 51,
   "metadata": {},
   "outputs": [
    {
     "name": "stdout",
     "output_type": "stream",
     "text": [
      "D:/data/big2/BD1_4등급_데이터_점검1/result_emis\n",
      "C:/Users/kbjung/Documents/GitHub/wabotech/car_big_data_2/analysis2/4등급_데이터_점검/result\n"
     ]
    }
   ],
   "source": [
    "# folder 설정\n",
    "print(emis_sample_fold)\n",
    "print(analysis_fold)"
   ]
  },
  {
   "cell_type": "code",
   "execution_count": 52,
   "metadata": {},
   "outputs": [
    {
     "name": "stderr",
     "output_type": "stream",
     "text": [
      " 56%|█████▋    | 114/202 [00:50<00:24,  3.59it/s]"
     ]
    },
    {
     "name": "stdout",
     "output_type": "stream",
     "text": [
      "6MY-SS-0M-24 파일 없음.\n",
      "7MY-BT-0M-24 파일 없음.\n",
      "7MY-CH-0M-24 파일 없음.\n"
     ]
    },
    {
     "name": "stderr",
     "output_type": "stream",
     "text": [
      " 58%|█████▊    | 118/202 [00:51<00:13,  6.20it/s]"
     ]
    },
    {
     "name": "stdout",
     "output_type": "stream",
     "text": [
      "7MY-DS-0M-24 파일 없음.\n",
      "7MY-FI-0M-24 파일 없음.\n"
     ]
    },
    {
     "name": "stderr",
     "output_type": "stream",
     "text": [
      " 60%|██████    | 122/202 [00:51<00:09,  8.69it/s]"
     ]
    },
    {
     "name": "stdout",
     "output_type": "stream",
     "text": [
      "7MY-HC-0M-24 파일 없음.\n",
      "7MY-HH-0M-24 파일 없음.\n",
      "7MY-HK-0M-24 파일 없음.\n"
     ]
    },
    {
     "name": "stderr",
     "output_type": "stream",
     "text": [
      " 62%|██████▏   | 126/202 [00:51<00:07, 10.79it/s]"
     ]
    },
    {
     "name": "stdout",
     "output_type": "stream",
     "text": [
      "7MY-HR-0M-24 파일 없음.\n",
      "7MY-HS-0M-24 파일 없음.\n",
      "7MY-HT-0M-24 파일 없음.\n"
     ]
    },
    {
     "name": "stderr",
     "output_type": "stream",
     "text": [
      " 63%|██████▎   | 128/202 [00:52<00:06, 10.92it/s]"
     ]
    },
    {
     "name": "stdout",
     "output_type": "stream",
     "text": [
      "7MY-JI-0M-24 파일 없음.\n",
      "7MY-JW-0M-24 파일 없음.\n"
     ]
    },
    {
     "name": "stderr",
     "output_type": "stream",
     "text": [
      " 64%|██████▍   | 130/202 [00:52<00:06, 11.79it/s]"
     ]
    },
    {
     "name": "stdout",
     "output_type": "stream",
     "text": [
      "7MY-KJ-0M-24 파일 없음.\n"
     ]
    },
    {
     "name": "stderr",
     "output_type": "stream",
     "text": [
      " 67%|██████▋   | 136/202 [00:52<00:06, 10.48it/s]"
     ]
    },
    {
     "name": "stdout",
     "output_type": "stream",
     "text": [
      "7MY-NS-0M-24 파일 없음.\n"
     ]
    },
    {
     "name": "stderr",
     "output_type": "stream",
     "text": [
      " 68%|██████▊   | 138/202 [00:52<00:05, 11.39it/s]"
     ]
    },
    {
     "name": "stdout",
     "output_type": "stream",
     "text": [
      "7MY-SJ-0M-24 파일 없음.\n",
      "7MY-SS-0M-24 파일 없음.\n",
      "7MY-SW-0M-24 파일 없음.\n"
     ]
    },
    {
     "name": "stderr",
     "output_type": "stream",
     "text": [
      " 69%|██████▉   | 140/202 [00:53<00:05, 12.18it/s]"
     ]
    },
    {
     "name": "stdout",
     "output_type": "stream",
     "text": [
      "7MY-TK-0M-24 파일 없음.\n"
     ]
    },
    {
     "name": "stderr",
     "output_type": "stream",
     "text": [
      " 73%|███████▎  | 148/202 [00:53<00:05, 10.18it/s]"
     ]
    },
    {
     "name": "stdout",
     "output_type": "stream",
     "text": [
      "8MY-BT-0M-24 파일 없음.\n"
     ]
    },
    {
     "name": "stderr",
     "output_type": "stream",
     "text": [
      " 74%|███████▍  | 150/202 [00:54<00:04, 10.43it/s]"
     ]
    },
    {
     "name": "stdout",
     "output_type": "stream",
     "text": [
      "8MY-DI-0M-24 파일 없음.\n",
      "8MY-DY-0M-24 파일 없음.\n"
     ]
    },
    {
     "name": "stderr",
     "output_type": "stream",
     "text": [
      " 76%|███████▌  | 154/202 [00:54<00:04, 10.96it/s]"
     ]
    },
    {
     "name": "stdout",
     "output_type": "stream",
     "text": [
      "8MY-FI-0M-24 파일 없음.\n"
     ]
    },
    {
     "name": "stderr",
     "output_type": "stream",
     "text": [
      " 79%|███████▉  | 160/202 [00:55<00:04, 10.36it/s]"
     ]
    },
    {
     "name": "stdout",
     "output_type": "stream",
     "text": [
      "8MY-HK-0M-24 파일 없음.\n",
      "8MY-HS-0M-24 파일 없음.\n"
     ]
    },
    {
     "name": "stderr",
     "output_type": "stream",
     "text": [
      " 80%|████████  | 162/202 [00:55<00:03, 10.50it/s]"
     ]
    },
    {
     "name": "stdout",
     "output_type": "stream",
     "text": [
      "8MY-HT-0M-24 파일 없음.\n"
     ]
    },
    {
     "name": "stderr",
     "output_type": "stream",
     "text": [
      " 87%|████████▋ | 175/202 [00:56<00:02,  9.98it/s]"
     ]
    },
    {
     "name": "stdout",
     "output_type": "stream",
     "text": [
      "8MY-SJ-0M-24 파일 없음.\n"
     ]
    },
    {
     "name": "stderr",
     "output_type": "stream",
     "text": [
      "100%|██████████| 202/202 [01:06<00:00,  3.06it/s]\n"
     ]
    }
   ],
   "source": [
    "# 1m 40s\n",
    "\n",
    "productor_dict = {\n",
    "    'HD':'현대자동차(주)', 'KM':'기아자동차(주)', 'JL':'(주)재규어랜드로버코리아', 'AD':'아우디폭스바겐코리아(주)', 'PP':'아우디폭스바겐코리아(주)', 'PA':'(주)볼보자동차코리아', 'BK':'비엠더블유코리아(주)',\n",
    "    'DC':'타타대우상용차(주)', 'DB':'자일대우상용차 주식회사', 'DW':'한국지엠주식회사', 'DK':'다임러트럭코리아(주)', 'HB':'한불모터스(주)', 'SK':'스카니아코리아그룹(주)', 'SY':'쌍용자동차(주)', \n",
    "    'VTK':'볼보트럭코리아(주)', 'GK':'지엠아시아퍼시픽지역본부 주식회사', 'MK':'메르세데스벤츠코리아(주)', 'MT':'만트럭버스코리아(주)', 'SM':'르노삼성자동차(주)', }\n",
    "\n",
    "total_gas_df_vin17_n = pd.DataFrame()\n",
    "total_gas_df_vin17_y_vin10_year_n = pd.DataFrame()\n",
    "total_gas_df_vin17_y_vin10_year_y_product_n = pd.DataFrame()\n",
    "total_g_df = pd.DataFrame()\n",
    "for one in tqdm(gas_nm_list):\n",
    "    try:\n",
    "        # 파일 로드\n",
    "        file_name = f'{one}.csv'\n",
    "        gas_df = pd.read_csv(os.path.join(emis_sample_fold, file_name), low_memory=False, encoding='cp949')\n",
    "\n",
    "        # [출력] 차대번호 17자리 아닌 샘플\n",
    "        gas_df_vin17_y = gas_df[(gas_df['차대번호'].str.len() == 17)].reset_index(drop=True)\n",
    "        gas_df_vin17_n = gas_df[(gas_df['차대번호'].str.len() != 17)].reset_index(drop=True)\n",
    "        gas_df_vin17_n.to_excel(os.path.join(emis_sample_fold, f'샘플_차대번호17자리아닌_{one}.xlsx'), index=False)\n",
    "        # 종합 - 17자리 아닌 샘플\n",
    "        total_gas_df_vin17_n = pd.concat([total_gas_df_vin17_n, gas_df_vin17_n], ignore_index=True)\n",
    "\n",
    "        # [출력] 차대번호 연식과 차량연식 다른 샘플\n",
    "        gas_df_vin17_y_vin10_year_y = gas_df_vin17_y[gas_df_vin17_y['vin_year'] == gas_df_vin17_y['연식']].reset_index(drop=True)\n",
    "        gas_df_vin17_y_vin10_year_n = gas_df_vin17_y[gas_df_vin17_y['vin_year'] != gas_df_vin17_y['연식']].reset_index(drop=True)\n",
    "        gas_df_vin17_y_vin10_year_n.to_excel(os.path.join(emis_sample_fold, f'샘플_차대번호17자리_차량연식다른_{one}.xlsx'), index=False)\n",
    "        # 종합 - 연식다른 샘플\n",
    "        total_gas_df_vin17_y_vin10_year_n = pd.concat([total_gas_df_vin17_y_vin10_year_n, gas_df_vin17_y_vin10_year_n], ignore_index=True)\n",
    "\n",
    "        # [출력] 배인번호 해당 제작사가 아닌 샘플\n",
    "        productors = gas_df_vin17_y_vin10_year_y['제작사명'].unique()\n",
    "        # 제작사명 조건에 따라 진행\n",
    "        if len(productors) == 1: # 제작사명 1개일 때\n",
    "            productor_name = gas_df_vin17_y_vin10_year_y['제작사명'].unique()[0]\n",
    "            num = 0\n",
    "            productor_name = gas_df_vin17_y_vin10_year_y['제작사명'].unique()[num]\n",
    "            gas_df_vin17_y_vin10_year_y_product_y = gas_df_vin17_y_vin10_year_y[(gas_df_vin17_y_vin10_year_y['제작사명'] == productor_name) | (gas_df_vin17_y_vin10_year_y['제작사명'] == '자기인증면제차량')].reset_index(drop=True)\n",
    "            gas_df_vin17_y_vin10_year_y_product_n = gas_df_vin17_y_vin10_year_y[(gas_df_vin17_y_vin10_year_y['제작사명'] != productor_name) & (gas_df_vin17_y_vin10_year_y['제작사명'] != '자기인증면제차량')].reset_index(drop=True)\n",
    "            gas_df_vin17_y_vin10_year_y_product_n.to_excel(os.path.join(emis_sample_fold, f'샘플_차대번호17자리_차량연식다른_해당제작사아닌_{one}.xlsx'), index=False)\n",
    "            # 종합 - 다른 제작사 샘플\n",
    "            total_gas_df_vin17_y_vin10_year_y_product_n = pd.concat([total_gas_df_vin17_y_vin10_year_y_product_n, gas_df_vin17_y_vin10_year_y_product_n], ignore_index=True)\n",
    "        else: # 제작사명이 여러개 일 때\n",
    "            temp = one.split('-')\n",
    "            if len(temp) == 1:\n",
    "                productor_name = one\n",
    "            else:\n",
    "                productor_name = productor_dict[temp[1]]\n",
    "            gas_df_vin17_y_vin10_year_y_product_y = gas_df_vin17_y_vin10_year_y[(gas_df_vin17_y_vin10_year_y['제작사명'] == productor_name) | (gas_df_vin17_y_vin10_year_y['제작사명'] == '자가인증면제차량') | (gas_df_vin17_y_vin10_year_y['제작사명'] == 'SOFA차량')].reset_index(drop=True)\n",
    "            gas_df_vin17_y_vin10_year_y_product_n = gas_df_vin17_y_vin10_year_y[(gas_df_vin17_y_vin10_year_y['제작사명'] != productor_name) & (gas_df_vin17_y_vin10_year_y['제작사명'] != '자가인증면제차량') & (gas_df_vin17_y_vin10_year_y['제작사명'] != 'SOFA차량')].reset_index(drop=True)\n",
    "            gas_df_vin17_y_vin10_year_y_product_n.to_excel(os.path.join(emis_sample_fold, f'샘플_차대번호17자리_차량연식다른_해당제작사아닌_{one}.xlsx'), index=False)\n",
    "            # 종합 - 다른 제작사 샘플\n",
    "            total_gas_df_vin17_y_vin10_year_y_product_n = pd.concat([total_gas_df_vin17_y_vin10_year_y_product_n, gas_df_vin17_y_vin10_year_y_product_n], ignore_index=True)\n",
    "\n",
    "        # 제번별, 차형식별, 엔진형식별, 검사판정별 무부하매연측정치1 통계\n",
    "        g = gas_df_vin17_y_vin10_year_y_product_y.groupby(['제작사명', '배인번호_수정', '제원관리번호', '자동차형식', '엔진형식_y', '검사판정'], dropna=False).agg({'차대번호':'count', '무부하매연측정치1':['mean', 'min', 'max']}).pipe(flat_cols).round(2).reset_index()\n",
    "        g = g.rename(columns={'배인번호_수정':'배출가스인증번호', '엔진형식_y':'엔진형식', '차대번호/count':'대수', '무부하매연측정치1/mean':'mean', '무부하매연측정치1/min':'min', '무부하매연측정치1/max':'max'})\n",
    "        # 하나의 배인번호에서 제번별 엔진형식별 비율 계산\n",
    "        concat_two = pd.DataFrame()\n",
    "        for two in g['제원관리번호'].unique():\n",
    "            for three in g['엔진형식'].unique():\n",
    "                temp = g[(g['제원관리번호'] == two) & (g['엔진형식'] == three)].copy()\n",
    "                temp['엔진형식/sum'] = temp['대수'].sum()\n",
    "                temp['검사판정비율'] = temp['대수'] / temp['엔진형식/sum']\n",
    "                concat_two = pd.concat([concat_two, temp], ignore_index=True)\n",
    "        # 종합 - 통계\n",
    "        total_g_df = pd.concat([total_g_df, concat_two], ignore_index=True)\n",
    "\n",
    "    except:\n",
    "        print(f'{one} 파일 없음.')\n",
    "        pass\n",
    "# 1m 40s"
   ]
  },
  {
   "cell_type": "code",
   "execution_count": 53,
   "metadata": {},
   "outputs": [
    {
     "data": {
      "text/html": [
       "<div>\n",
       "<style scoped>\n",
       "    .dataframe tbody tr th:only-of-type {\n",
       "        vertical-align: middle;\n",
       "    }\n",
       "\n",
       "    .dataframe tbody tr th {\n",
       "        vertical-align: top;\n",
       "    }\n",
       "\n",
       "    .dataframe thead th {\n",
       "        text-align: right;\n",
       "    }\n",
       "</style>\n",
       "<table border=\"1\" class=\"dataframe\">\n",
       "  <thead>\n",
       "    <tr style=\"text-align: right;\">\n",
       "      <th></th>\n",
       "      <th>제작사명</th>\n",
       "      <th>배출가스인증번호</th>\n",
       "      <th>제원관리번호</th>\n",
       "      <th>자동차형식</th>\n",
       "      <th>엔진형식</th>\n",
       "      <th>검사판정</th>\n",
       "      <th>대수</th>\n",
       "      <th>mean</th>\n",
       "      <th>min</th>\n",
       "      <th>max</th>\n",
       "      <th>엔진형식/sum</th>\n",
       "      <th>검사판정비율</th>\n",
       "    </tr>\n",
       "  </thead>\n",
       "  <tbody>\n",
       "    <tr>\n",
       "      <th>0</th>\n",
       "      <td>아우디폭스바겐코리아(주)</td>\n",
       "      <td>4MY-AD-20</td>\n",
       "      <td>2420000100031305</td>\n",
       "      <td>4F</td>\n",
       "      <td>BMK</td>\n",
       "      <td>N</td>\n",
       "      <td>2</td>\n",
       "      <td>36.00</td>\n",
       "      <td>21.0</td>\n",
       "      <td>51.0</td>\n",
       "      <td>27</td>\n",
       "      <td>0.074074</td>\n",
       "    </tr>\n",
       "    <tr>\n",
       "      <th>1</th>\n",
       "      <td>아우디폭스바겐코리아(주)</td>\n",
       "      <td>4MY-AD-20</td>\n",
       "      <td>2420000100031305</td>\n",
       "      <td>4F</td>\n",
       "      <td>BMK</td>\n",
       "      <td>Y</td>\n",
       "      <td>25</td>\n",
       "      <td>12.96</td>\n",
       "      <td>0.0</td>\n",
       "      <td>31.0</td>\n",
       "      <td>27</td>\n",
       "      <td>0.925926</td>\n",
       "    </tr>\n",
       "    <tr>\n",
       "      <th>2</th>\n",
       "      <td>아우디폭스바겐코리아(주)</td>\n",
       "      <td>5MY-AD-13-06</td>\n",
       "      <td>2420004800001305</td>\n",
       "      <td>3D</td>\n",
       "      <td>BMK</td>\n",
       "      <td>Y</td>\n",
       "      <td>4</td>\n",
       "      <td>2.00</td>\n",
       "      <td>0.0</td>\n",
       "      <td>8.0</td>\n",
       "      <td>4</td>\n",
       "      <td>1.000000</td>\n",
       "    </tr>\n",
       "    <tr>\n",
       "      <th>3</th>\n",
       "      <td>아우디폭스바겐코리아(주)</td>\n",
       "      <td>5MY-AD-13-06</td>\n",
       "      <td>2420004800011305</td>\n",
       "      <td>3D</td>\n",
       "      <td>BMK</td>\n",
       "      <td>Y</td>\n",
       "      <td>161</td>\n",
       "      <td>1.70</td>\n",
       "      <td>0.0</td>\n",
       "      <td>27.0</td>\n",
       "      <td>161</td>\n",
       "      <td>1.000000</td>\n",
       "    </tr>\n",
       "    <tr>\n",
       "      <th>4</th>\n",
       "      <td>아우디폭스바겐코리아(주)</td>\n",
       "      <td>5MY-AD-13-06</td>\n",
       "      <td>2420004800021306</td>\n",
       "      <td>3D</td>\n",
       "      <td>BMK</td>\n",
       "      <td>N</td>\n",
       "      <td>2</td>\n",
       "      <td>25.50</td>\n",
       "      <td>0.0</td>\n",
       "      <td>51.0</td>\n",
       "      <td>146</td>\n",
       "      <td>0.013699</td>\n",
       "    </tr>\n",
       "  </tbody>\n",
       "</table>\n",
       "</div>"
      ],
      "text/plain": [
       "            제작사명      배출가스인증번호            제원관리번호 자동차형식 엔진형식 검사판정   대수   mean  \\\n",
       "0  아우디폭스바겐코리아(주)     4MY-AD-20  2420000100031305    4F  BMK    N    2  36.00   \n",
       "1  아우디폭스바겐코리아(주)     4MY-AD-20  2420000100031305    4F  BMK    Y   25  12.96   \n",
       "2  아우디폭스바겐코리아(주)  5MY-AD-13-06  2420004800001305    3D  BMK    Y    4   2.00   \n",
       "3  아우디폭스바겐코리아(주)  5MY-AD-13-06  2420004800011305    3D  BMK    Y  161   1.70   \n",
       "4  아우디폭스바겐코리아(주)  5MY-AD-13-06  2420004800021306    3D  BMK    N    2  25.50   \n",
       "\n",
       "    min   max  엔진형식/sum    검사판정비율  \n",
       "0  21.0  51.0        27  0.074074  \n",
       "1   0.0  31.0        27  0.925926  \n",
       "2   0.0   8.0         4  1.000000  \n",
       "3   0.0  27.0       161  1.000000  \n",
       "4   0.0  51.0       146  0.013699  "
      ]
     },
     "execution_count": 53,
     "metadata": {},
     "output_type": "execute_result"
    }
   ],
   "source": [
    "total_g_df.head()"
   ]
  },
  {
   "cell_type": "code",
   "execution_count": 54,
   "metadata": {},
   "outputs": [
    {
     "data": {
      "text/plain": [
       "((9, 69), (59, 69), (5820, 69), (6214, 12))"
      ]
     },
     "execution_count": 54,
     "metadata": {},
     "output_type": "execute_result"
    }
   ],
   "source": [
    "total_gas_df_vin17_n.shape, total_gas_df_vin17_y_vin10_year_n.shape, total_gas_df_vin17_y_vin10_year_y_product_n.shape, total_g_df.shape"
   ]
  },
  {
   "cell_type": "code",
   "execution_count": 55,
   "metadata": {},
   "outputs": [
    {
     "data": {
      "text/plain": [
       "'2023.03.10_PM.02.25.05'"
      ]
     },
     "execution_count": 55,
     "metadata": {},
     "output_type": "execute_result"
    }
   ],
   "source": [
    "today_date = datetime.today().strftime(\"%Y.%m.%d_%p.%I.%M.%S\")\n",
    "today_date"
   ]
  },
  {
   "cell_type": "code",
   "execution_count": 56,
   "metadata": {},
   "outputs": [
    {
     "data": {
      "text/plain": [
       "'D:/data/big2/BD1_4등급_데이터_점검1/result_emis'"
      ]
     },
     "execution_count": 56,
     "metadata": {},
     "output_type": "execute_result"
    }
   ],
   "source": [
    "emis_sample_fold"
   ]
  },
  {
   "cell_type": "code",
   "execution_count": 57,
   "metadata": {},
   "outputs": [],
   "source": [
    "# about 0s\n",
    "total_gas_df_vin17_n.to_excel(os.path.join(emis_sample_fold, f'통합_샘플_차대번호17자리아닌_{today_date}.xlsx'), index=False)"
   ]
  },
  {
   "cell_type": "code",
   "execution_count": 58,
   "metadata": {},
   "outputs": [],
   "source": [
    "# about 0s\n",
    "total_gas_df_vin17_y_vin10_year_n.to_excel(os.path.join(emis_sample_fold, f'통합_샘플_차대번호17자리_차량연식다른_{today_date}.xlsx'), index=False)"
   ]
  },
  {
   "cell_type": "code",
   "execution_count": 59,
   "metadata": {},
   "outputs": [],
   "source": [
    "# about 8s\n",
    "total_gas_df_vin17_y_vin10_year_y_product_n.to_excel(os.path.join(emis_sample_fold, f'통합_샘플_차대번호17자리_차량연식다른_해당제작사아닌_{today_date}.xlsx'), index=False)"
   ]
  },
  {
   "cell_type": "code",
   "execution_count": 60,
   "metadata": {},
   "outputs": [
    {
     "data": {
      "text/plain": [
       "'C:/Users/kbjung/Documents/GitHub/wabotech/car_big_data_2/analysis2/4등급_데이터_점검/result'"
      ]
     },
     "execution_count": 60,
     "metadata": {},
     "output_type": "execute_result"
    }
   ],
   "source": [
    "analysis_fold"
   ]
  },
  {
   "cell_type": "code",
   "execution_count": 61,
   "metadata": {},
   "outputs": [],
   "source": [
    "# about 2s\n",
    "total_g_df.to_excel(os.path.join(analysis_fold, f'통합3_통계_제번별_차형식별_엔진형식별_검사판정별_무부하매연측정치1_{today_date}.xlsx'), index=False)"
   ]
  },
  {
   "attachments": {},
   "cell_type": "markdown",
   "metadata": {},
   "source": [
    "# code end"
   ]
  }
 ],
 "metadata": {
  "kernelspec": {
   "display_name": "base",
   "language": "python",
   "name": "python3"
  },
  "language_info": {
   "codemirror_mode": {
    "name": "ipython",
    "version": 3
   },
   "file_extension": ".py",
   "mimetype": "text/x-python",
   "name": "python",
   "nbconvert_exporter": "python",
   "pygments_lexer": "ipython3",
   "version": "3.9.13"
  },
  "orig_nbformat": 4,
  "vscode": {
   "interpreter": {
    "hash": "ad2bdc8ecc057115af97d19610ffacc2b4e99fae6737bb82f5d7fb13d2f2c186"
   }
  }
 },
 "nbformat": 4,
 "nbformat_minor": 2
}
