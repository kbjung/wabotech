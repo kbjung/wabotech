{
 "cells": [
  {
   "cell_type": "markdown",
   "id": "5c092f22-4f5e-43cf-a6b6-419de79303d9",
   "metadata": {},
   "source": [
    "# Library"
   ]
  },
  {
   "cell_type": "code",
   "execution_count": 1,
   "id": "5785fbb2-bb58-4dfc-92fb-93f37fe1f2ba",
   "metadata": {
    "tags": []
   },
   "outputs": [],
   "source": [
    "import pandas as pd\n",
    "import pyexasol\n",
    "import os\n",
    "import datetime\n",
    "import time\n",
    "from tqdm import tqdm\n",
    "import gc"
   ]
  },
  {
   "cell_type": "markdown",
   "id": "a35f1fd7",
   "metadata": {},
   "source": [
    "# Fold"
   ]
  },
  {
   "cell_type": "code",
   "execution_count": 2,
   "id": "e1b7b98a",
   "metadata": {},
   "outputs": [
    {
     "data": {
      "text/plain": [
       "{'pub_fold': 'D:/data/processing/big3/raw/public',\n",
       " 'raw_fold': 'D:/data/processing/big3/raw',\n",
       " 'raw2_fold': 'D:/data/processing/big3/raw/BD2',\n",
       " 'raw4_fold': 'D:/data/processing/big3/raw/BD4',\n",
       " 'raw5_fold': 'D:/data/processing/big3/raw/BD5',\n",
       " 'an_fold': 'D:/data/processing/big3/analysis',\n",
       " 'an2_fold:': 'D:/data/processing/big3/analysis/BD2',\n",
       " 'an4_fold:': 'D:/data/processing/big3/analysis/BD4',\n",
       " 'an5_fold:': 'D:/data/processing/big3/analysis/BD5',\n",
       " 'df_fold': 'D:/data/processing/big3/df',\n",
       " 'df2_fold': 'D:/data/processing/big3/df/BD2',\n",
       " 'df4_fold': 'D:/data/processing/big3/df/BD4',\n",
       " 'df5_fold': 'D:/data/processing/big3/df/BD5'}"
      ]
     },
     "execution_count": 2,
     "metadata": {},
     "output_type": "execute_result"
    }
   ],
   "source": [
    "pub_fold = 'D:/data/processing/big3/raw/public'\n",
    "raw_fold = 'D:/data/processing/big3/raw'\n",
    "raw2_fold = 'D:/data/processing/big3/raw/BD2'\n",
    "raw4_fold = 'D:/data/processing/big3/raw/BD4'\n",
    "raw5_fold = 'D:/data/processing/big3/raw/BD5'\n",
    "an_fold = 'D:/data/processing/big3/analysis'\n",
    "an2_fold = 'D:/data/processing/big3/analysis/BD2'\n",
    "an4_fold = 'D:/data/processing/big3/analysis/BD4'\n",
    "an5_fold = 'D:/data/processing/big3/analysis/BD5'\n",
    "df_fold = 'D:/data/processing/big3/df'\n",
    "df2_fold = 'D:/data/processing/big3/df/BD2'\n",
    "df4_fold = 'D:/data/processing/big3/df/BD4'\n",
    "df5_fold = 'D:/data/processing/big3/df/BD5'\n",
    "folds = {\n",
    "    'pub_fold':pub_fold, \n",
    "    'raw_fold':raw_fold, \n",
    "    'raw2_fold':raw2_fold, \n",
    "    'raw4_fold':raw4_fold, \n",
    "    'raw5_fold':raw5_fold, \n",
    "    'an_fold':an_fold, \n",
    "    'an2_fold:':an2_fold, \n",
    "    'an4_fold:':an4_fold, \n",
    "    'an5_fold:':an5_fold, \n",
    "    'df_fold':df_fold, \n",
    "    'df2_fold':df2_fold, \n",
    "    'df4_fold':df4_fold, \n",
    "    'df5_fold':df5_fold, \n",
    "    }\n",
    "folds"
   ]
  },
  {
   "cell_type": "markdown",
   "id": "0a24ab93-9416-4fad-9858-1f081abdb9b3",
   "metadata": {
    "tags": []
   },
   "source": [
    "# insider db"
   ]
  },
  {
   "cell_type": "code",
   "execution_count": 3,
   "id": "e07dcf0d-0bea-4b22-b2c7-1616fbba2902",
   "metadata": {
    "tags": []
   },
   "outputs": [],
   "source": [
    "# wd = pyexasol.connect(dsn='172.29.135.35/F99FAB2444F86051A9A467F6313FAAB48AF7C4760663430958E3B89A9DC53361:8563', user='sys', password='exasol', compression=True, schema='VSYSD')\n",
    "# we = pyexasol.connect(dsn='172.29.135.35/F99FAB2444F86051A9A467F6313FAAB48AF7C4760663430958E3B89A9DC53361:8563', user='sys', password='exasol', compression=True, schema='VSYSE')"
   ]
  },
  {
   "cell_type": "markdown",
   "id": "a90e70f9",
   "metadata": {},
   "source": [
    "# exasol db"
   ]
  },
  {
   "cell_type": "code",
   "execution_count": 3,
   "id": "834b49ee",
   "metadata": {},
   "outputs": [],
   "source": [
    "# ws = pyexasol.connect(dsn='dev.openankus.org:8563', user='sys', password='djslzja', compression=True, schema='VSYS')\n",
    "wd = pyexasol.connect(dsn='dev.openankus.org:8563', user='sys', password='djslzja', compression=True, schema='VSYSD')\n",
    "we = pyexasol.connect(dsn='dev.openankus.org:8563', user='sys', password='djslzja', compression=True, schema='VSYSE')"
   ]
  },
  {
   "cell_type": "markdown",
   "id": "a8d58b2f",
   "metadata": {},
   "source": [
    "## file export"
   ]
  },
  {
   "cell_type": "code",
   "execution_count": 7,
   "id": "a74f3e03",
   "metadata": {},
   "outputs": [
    {
     "data": {
      "text/plain": [
       "(5, 5)"
      ]
     },
     "execution_count": 7,
     "metadata": {},
     "output_type": "execute_result"
    }
   ],
   "source": [
    "table_list = [\n",
    "    'STD_CEG_CAR_MIG', \n",
    "    'STD_CEG_CAR_SRC_MIG', \n",
    "    'STD_TB_JGT_HIS', \n",
    "    'STD_TB_EET_HIS_ME', \n",
    "    'STD_BJCD_INFO', \n",
    "    ]\n",
    "len(table_list), len(set(table_list)) # 중복 테이블 존재 여부 확인"
   ]
  },
  {
   "cell_type": "code",
   "execution_count": 8,
   "id": "f0104ce2",
   "metadata": {},
   "outputs": [
    {
     "data": {
      "text/plain": [
       "'20231110'"
      ]
     },
     "execution_count": 8,
     "metadata": {},
     "output_type": "execute_result"
    }
   ],
   "source": [
    "today_date = datetime.datetime.today().strftime(\"%Y%m%d\")\n",
    "today_date"
   ]
  },
  {
   "cell_type": "code",
   "execution_count": 9,
   "id": "bdf05caa",
   "metadata": {},
   "outputs": [
    {
     "name": "stderr",
     "output_type": "stream",
     "text": [
      "  0%|          | 0/5 [00:00<?, ?it/s]"
     ]
    },
    {
     "name": "stderr",
     "output_type": "stream",
     "text": [
      "c:\\Users\\kbjung\\anaconda3\\Lib\\site-packages\\pyexasol\\callback.py:42: DtypeWarning: Columns (1,8,9,11,18,25,27,28) have mixed types. Specify dtype option on import or set low_memory=False.\n",
      "  return pandas.read_csv(pipe, skip_blank_lines=False, **kwargs)\n",
      " 20%|██        | 1/5 [17:45<1:11:02, 1065.52s/it]"
     ]
    },
    {
     "name": "stdout",
     "output_type": "stream",
     "text": [
      "STD_CEG_CAR_MIG(20231110).csv 출력완료\n",
      "수행시간 : 0:17:45\n"
     ]
    },
    {
     "name": "stderr",
     "output_type": "stream",
     "text": [
      "c:\\Users\\kbjung\\anaconda3\\Lib\\site-packages\\pyexasol\\callback.py:42: DtypeWarning: Columns (1) have mixed types. Specify dtype option on import or set low_memory=False.\n",
      "  return pandas.read_csv(pipe, skip_blank_lines=False, **kwargs)\n",
      " 40%|████      | 2/5 [18:14<22:46, 455.57s/it]   "
     ]
    },
    {
     "name": "stdout",
     "output_type": "stream",
     "text": [
      "STD_CEG_CAR_SRC_MIG(20231110).csv 출력완료\n",
      "수행시간 : 0:00:28\n"
     ]
    },
    {
     "name": "stderr",
     "output_type": "stream",
     "text": [
      "c:\\Users\\kbjung\\anaconda3\\Lib\\site-packages\\pyexasol\\callback.py:42: DtypeWarning: Columns (1,25,26,27,28,29) have mixed types. Specify dtype option on import or set low_memory=False.\n",
      "  return pandas.read_csv(pipe, skip_blank_lines=False, **kwargs)\n",
      " 60%|██████    | 3/5 [1:16:50<1:01:46, 1853.09s/it]"
     ]
    },
    {
     "name": "stdout",
     "output_type": "stream",
     "text": [
      "STD_TB_JGT_HIS(20231110).csv 출력완료\n",
      "수행시간 : 0:58:36\n"
     ]
    },
    {
     "ename": "",
     "evalue": "",
     "output_type": "error",
     "traceback": [
      "\u001b[1;31m현재 셀 또는 이전 셀에서 코드를 실행하는 동안 Kernel이 충돌했습니다. 셀의 코드를 검토하여 오류의 가능한 원인을 식별하세요. 자세한 내용을 보려면 <a href='https://aka.ms/vscodeJupyterKernelCrash'> 여기 </a> 를 클릭하세요. 자세한 내용은 Jupyter <a href='command:jupyter.viewOutput'>로그</a>를 참조하세요."
     ]
    }
   ],
   "source": [
    "# \n",
    "total_start_time = time.time()\n",
    "for table_name in tqdm(table_list):\n",
    "    start_time = time.time()\n",
    "    print(f'{table_name} 출력시작')\n",
    "    df = wd.export_to_pandas(f\"SELECT * from {table_name};\")\n",
    "    file_name = f'{table_name}({today_date}).csv'\n",
    "    df.to_csv(os.path.join(pub_fold, file_name), index=False)\n",
    "    print(f'{file_name} 출력완료')\n",
    "    sec = time.time() - start_time\n",
    "    print('수행시간 : ' + str(datetime.timedelta(seconds=sec)).split('.')[0])\n",
    "print()\n",
    "sec = time.time() - total_start_time\n",
    "print('전체 수행시간 : ' + str(datetime.timedelta(seconds=sec)).split('.')[0])"
   ]
  },
  {
   "cell_type": "markdown",
   "id": "b59fc47a-7468-4ec8-99c5-a129fc0c5c5f",
   "metadata": {},
   "source": [
    "# Code End"
   ]
  }
 ],
 "metadata": {
  "kernelspec": {
   "display_name": "Python 3 (ipykernel)",
   "language": "python",
   "name": "python3"
  },
  "language_info": {
   "codemirror_mode": {
    "name": "ipython",
    "version": 3
   },
   "file_extension": ".py",
   "mimetype": "text/x-python",
   "name": "python",
   "nbconvert_exporter": "python",
   "pygments_lexer": "ipython3",
   "version": "3.11.4"
  }
 },
 "nbformat": 4,
 "nbformat_minor": 5
}
